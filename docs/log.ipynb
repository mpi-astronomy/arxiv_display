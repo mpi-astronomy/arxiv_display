{
 "cells": [
  {
   "cell_type": "markdown",
   "id": "92bcb855",
   "metadata": {
    "papermill": {
     "duration": 0.004026,
     "end_time": "2024-09-23T09:16:59.657364",
     "exception": false,
     "start_time": "2024-09-23T09:16:59.653338",
     "status": "completed"
    },
    "tags": []
   },
   "source": [
    "# MPIA Arxiv on Deck 2\n",
    "\n",
    "Contains the steps to produce the paper extractions."
   ]
  },
  {
   "cell_type": "code",
   "execution_count": 1,
   "id": "3a0d6e11",
   "metadata": {
    "execution": {
     "iopub.execute_input": "2024-09-23T09:16:59.693435Z",
     "iopub.status.busy": "2024-09-23T09:16:59.692929Z",
     "iopub.status.idle": "2024-09-23T09:17:00.116093Z",
     "shell.execute_reply": "2024-09-23T09:17:00.115305Z"
    },
    "papermill": {
     "duration": 0.428727,
     "end_time": "2024-09-23T09:17:00.117498",
     "exception": false,
     "start_time": "2024-09-23T09:16:59.688771",
     "status": "completed"
    },
    "tags": []
   },
   "outputs": [],
   "source": [
    "# Imports\n",
    "import os\n",
    "from IPython.display import Markdown, display\n",
    "from tqdm.notebook import tqdm\n",
    "import warnings\n",
    "from PIL import Image \n",
    "\n",
    "# requires arxiv_on_deck_2\n",
    "\n",
    "from arxiv_on_deck_2.arxiv2 import (get_new_papers, \n",
    "                                    get_paper_from_identifier,\n",
    "                                    retrieve_document_source, \n",
    "                                    get_markdown_badge)\n",
    "from arxiv_on_deck_2 import (latex,\n",
    "                             latex_bib,\n",
    "                             mpia,\n",
    "                             highlight_authors_in_list)\n",
    "\n",
    "# Sometimes images are really big\n",
    "Image.MAX_IMAGE_PIXELS = 1000000000 "
   ]
  },
  {
   "cell_type": "code",
   "execution_count": 2,
   "id": "22aa9d44",
   "metadata": {
    "execution": {
     "iopub.execute_input": "2024-09-23T09:17:00.125063Z",
     "iopub.status.busy": "2024-09-23T09:17:00.124751Z",
     "iopub.status.idle": "2024-09-23T09:17:00.130058Z",
     "shell.execute_reply": "2024-09-23T09:17:00.129493Z"
    },
    "papermill": {
     "duration": 0.01021,
     "end_time": "2024-09-23T09:17:00.131082",
     "exception": false,
     "start_time": "2024-09-23T09:17:00.120872",
     "status": "completed"
    },
    "tags": []
   },
   "outputs": [],
   "source": [
    "# Some useful definitions.\n",
    "\n",
    "class AffiliationWarning(UserWarning):\n",
    "    pass\n",
    "\n",
    "class AffiliationError(RuntimeError):\n",
    "    pass\n",
    "\n",
    "def validation(source: str):\n",
    "    \"\"\"Raises error paper during parsing of source file\n",
    "    \n",
    "    Allows checks before parsing TeX code.\n",
    "    \n",
    "    Raises AffiliationWarning\n",
    "    \"\"\"\n",
    "    check = mpia.affiliation_verifications(source, verbose=True)\n",
    "    if check is not True:\n",
    "        raise AffiliationError(\"mpia.affiliation_verifications: \" + check)\n",
    "\n",
    "        \n",
    "warnings.simplefilter('always', AffiliationWarning)\n",
    "\n",
    "\n",
    "def get_markdown_qrcode(paper_id: str):\n",
    "    \"\"\" Generate a qrcode to the arxiv page using qrserver.com\n",
    "    \n",
    "    :param paper: Arxiv paper\n",
    "    :returns: markdown text\n",
    "    \"\"\"\n",
    "    url = r\"https://api.qrserver.com/v1/create-qr-code/?size=100x100&data=\"\n",
    "    txt = f\"\"\"<img src={url}\"https://arxiv.org/abs/{paper_id}\">\"\"\"\n",
    "    txt = '<div id=\"qrcode\">' + txt + '</div>'\n",
    "    return txt"
   ]
  },
  {
   "cell_type": "markdown",
   "id": "14bd6310",
   "metadata": {
    "papermill": {
     "duration": 0.002941,
     "end_time": "2024-09-23T09:17:00.137127",
     "exception": false,
     "start_time": "2024-09-23T09:17:00.134186",
     "status": "completed"
    },
    "tags": []
   },
   "source": [
    "## get list of arxiv paper candidates\n",
    "\n",
    "We use the MPIA mitarbeiter list webpage from mpia.de to get author names\n",
    "We then get all new papers from Arxiv and match authors"
   ]
  },
  {
   "cell_type": "code",
   "execution_count": 3,
   "id": "7ea813a8",
   "metadata": {
    "execution": {
     "iopub.execute_input": "2024-09-23T09:17:00.143908Z",
     "iopub.status.busy": "2024-09-23T09:17:00.143688Z",
     "iopub.status.idle": "2024-09-23T09:17:21.011144Z",
     "shell.execute_reply": "2024-09-23T09:17:21.010486Z"
    },
    "papermill": {
     "duration": 20.872353,
     "end_time": "2024-09-23T09:17:21.012406",
     "exception": false,
     "start_time": "2024-09-23T09:17:00.140053",
     "status": "completed"
    },
    "tags": []
   },
   "outputs": [],
   "source": [
    "# deal with the author list and edge cases of people that cannot be consistent on their name  \n",
    "\n",
    "def filter_non_scientists(name: str) -> bool:\n",
    "    \"\"\" Loose filter on expected authorships\n",
    "\n",
    "    removing IT, administration, technical staff\n",
    "    :param name: name\n",
    "    :returns: False if name is not a scientist\n",
    "    \"\"\"\n",
    "    remove_list = ['Wolf', 'Licht', 'Binroth', 'Witzel', 'Jordan',\n",
    "                   'Zähringer', 'Scheerer', 'Hoffmann', 'Düe',\n",
    "                   'Hellmich', 'Enkler-Scharpegge', 'Witte-Nguy',\n",
    "                   'Dehen', 'Beckmann', 'Jager', 'Jäger'\n",
    "                  ]\n",
    "\n",
    "    for k in remove_list:\n",
    "        if k in name:\n",
    "            return False\n",
    "    return True\n",
    "\n",
    "def add_author_to_list(author_list: list) -> list:\n",
    "    \"\"\" Add author to list if not already in list\n",
    "    \n",
    "    :param author: author name\n",
    "    :param author_list: list of authors\n",
    "    :returns: updated list of authors\n",
    "    \"\"\"\n",
    "    add_list = ['T. Henning']\n",
    "\n",
    "    for author in add_list:\n",
    "        if author not in author_list:\n",
    "            author_list.append(author)\n",
    "    return author_list\n",
    "\n",
    "# get list from MPIA website\n",
    "# filter for non-scientists (mpia.get_mpia_mitarbeiter_list() does some filtering)\n",
    "mpia_authors = [k[1] for k in mpia.get_mpia_mitarbeiter_list() if filter_non_scientists(k[1])]\n",
    "# add some missing author because of inconsistencies in their MPIA name and author name on papers\n",
    "mpia_authors = add_author_to_list(mpia_authors)"
   ]
  },
  {
   "cell_type": "code",
   "execution_count": 4,
   "id": "2645e73a",
   "metadata": {
    "execution": {
     "iopub.execute_input": "2024-09-23T09:17:21.020115Z",
     "iopub.status.busy": "2024-09-23T09:17:21.019670Z",
     "iopub.status.idle": "2024-09-23T09:17:21.716223Z",
     "shell.execute_reply": "2024-09-23T09:17:21.715525Z"
    },
    "papermill": {
     "duration": 0.701608,
     "end_time": "2024-09-23T09:17:21.717403",
     "exception": false,
     "start_time": "2024-09-23T09:17:21.015795",
     "status": "completed"
    },
    "tags": []
   },
   "outputs": [
    {
     "name": "stdout",
     "output_type": "stream",
     "text": [
      "W. Brandner  ->  W. Brandner  |  ['W. Brandner']\n",
      "P. Garcia  ->  A. P. Garcia  |  ['P. Garcia']\n",
      "L. Kreidberg  ->  L. Kreidberg  |  ['L. Kreidberg']\n",
      "J. Sauter  ->  J. Sauter  |  ['J. Sauter']\n",
      "M. Benisty  ->  M. Benisty  |  ['M. Benisty']\n",
      "E. Bañados  ->  E. Bañados  |  ['E. Bañados']\n"
     ]
    },
    {
     "name": "stdout",
     "output_type": "stream",
     "text": [
      "Arxiv has 61 new papers today\n",
      "          3 with possible author matches\n"
     ]
    }
   ],
   "source": [
    "new_papers = get_new_papers()\n",
    "# add manual references\n",
    "add_paper_refs = []\n",
    "new_papers.extend([get_paper_from_identifier(k) for k in add_paper_refs])\n",
    "\n",
    "def robust_call(fn, value, *args, **kwargs):\n",
    "    try:\n",
    "        return fn(value, *args, **kwargs)\n",
    "    except Exception:\n",
    "        return value\n",
    "\n",
    "candidates = []\n",
    "for paperk in new_papers:\n",
    "    # Check author list with their initials\n",
    "    normed_author_list = [robust_call(mpia.get_initials, k) for k in paperk['authors']]\n",
    "    hl_authors = highlight_authors_in_list(normed_author_list, mpia_authors, verbose=True)\n",
    "    matches = [(hl, orig) for hl, orig in zip(hl_authors, paperk['authors']) if 'mark' in hl]\n",
    "    paperk['authors'] = hl_authors\n",
    "    if matches:\n",
    "        # only select paper if an author matched our list\n",
    "        candidates.append(paperk)\n",
    "print(\"\"\"Arxiv has {0:,d} new papers today\"\"\".format(len(new_papers)))        \n",
    "print(\"\"\"          {0:,d} with possible author matches\"\"\".format(len(candidates)))"
   ]
  },
  {
   "cell_type": "markdown",
   "id": "3543b34a",
   "metadata": {
    "papermill": {
     "duration": 0.003172,
     "end_time": "2024-09-23T09:17:21.724227",
     "exception": false,
     "start_time": "2024-09-23T09:17:21.721055",
     "status": "completed"
    },
    "tags": []
   },
   "source": [
    "# Parse sources and generate relevant outputs\n",
    "\n",
    "From the candidates, we do the following steps:\n",
    "* get their tarball from ArXiv (and extract data)\n",
    "* find the main .tex file: find one with \\documentclass{...} (sometimes it's non trivial)\n",
    "* Check affiliations with :func:`validation`, which uses :func:`mpia.affiliation_verifications`\n",
    "* If passing the affiliations: we parse the .tex source\n",
    "   * inject sub-documents into the main (flatten the main document)\n",
    "   * parse structure, extract information (title, abstract, authors, figures...)\n",
    "   * handles `\\graphicspath` if provided\n",
    "* Generate the .md document."
   ]
  },
  {
   "cell_type": "code",
   "execution_count": 5,
   "id": "9576b79e",
   "metadata": {
    "execution": {
     "iopub.execute_input": "2024-09-23T09:17:21.731746Z",
     "iopub.status.busy": "2024-09-23T09:17:21.731311Z",
     "iopub.status.idle": "2024-09-23T09:17:38.241240Z",
     "shell.execute_reply": "2024-09-23T09:17:38.240471Z"
    },
    "papermill": {
     "duration": 16.514978,
     "end_time": "2024-09-23T09:17:38.242396",
     "exception": false,
     "start_time": "2024-09-23T09:17:21.727418",
     "status": "completed"
    },
    "scrolled": false,
    "tags": []
   },
   "outputs": [
    {
     "data": {
      "application/vnd.jupyter.widget-view+json": {
       "model_id": "bd194977871a4dfb8ae3036c93f11e12",
       "version_major": 2,
       "version_minor": 0
      },
      "text/plain": [
       "  0%|          | 0/3 [00:00<?, ?it/s]"
      ]
     },
     "metadata": {},
     "output_type": "display_data"
    },
    {
     "name": "stdout",
     "output_type": "stream",
     "text": [
      "Retrieving document from  https://arxiv.org/e-print/2409.13015\n",
      "extracting tarball to tmp_2409.13015..."
     ]
    },
    {
     "name": "stdout",
     "output_type": "stream",
     "text": [
      " done.\n"
     ]
    },
    {
     "name": "stderr",
     "output_type": "stream",
     "text": [
      "/opt/hostedtoolcache/Python/3.9.20/x64/lib/python3.9/site-packages/IPython/core/interactiveshell.py:3550: LatexWarning: Multiple tex files.\n",
      "\n",
      "  exec(code_obj, self.user_global_ns, self.user_ns)\n",
      "/opt/hostedtoolcache/Python/3.9.20/x64/lib/python3.9/site-packages/IPython/core/interactiveshell.py:3550: LatexWarning: Found documentclass in tmp_2409.13015/ms.tex\n",
      "\n",
      "  exec(code_obj, self.user_global_ns, self.user_ns)\n",
      "/opt/hostedtoolcache/Python/3.9.20/x64/lib/python3.9/site-packages/arxiv_on_deck_2/latex.py:414: LatexWarning: Latex injecting: 'tables/phy.tex' from 'tmp_2409.13015/tables/phy.tex'\n",
      "  warnings.warn(LatexWarning(f\"Latex injecting: '{ext}' from '{subsource}'\"))\n",
      "/opt/hostedtoolcache/Python/3.9.20/x64/lib/python3.9/site-packages/arxiv_on_deck_2/latex.py:414: LatexWarning: Latex injecting: 'tables/joint.tex' from 'tmp_2409.13015/tables/joint.tex'\n",
      "  warnings.warn(LatexWarning(f\"Latex injecting: '{ext}' from '{subsource}'\"))\n",
      "/opt/hostedtoolcache/Python/3.9.20/x64/lib/python3.9/site-packages/arxiv_on_deck_2/latex.py:414: LatexWarning: Latex injecting: 'tables/orb.tex' from 'tmp_2409.13015/tables/orb.tex'\n",
      "  warnings.warn(LatexWarning(f\"Latex injecting: '{ext}' from '{subsource}'\"))\n",
      "/opt/hostedtoolcache/Python/3.9.20/x64/lib/python3.9/site-packages/arxiv_on_deck_2/latex.py:414: LatexWarning: Latex injecting: 'ref.tex' from 'tmp_2409.13015/ref.tex'\n",
      "  warnings.warn(LatexWarning(f\"Latex injecting: '{ext}' from '{subsource}'\"))\n"
     ]
    },
    {
     "name": "stdout",
     "output_type": "stream",
     "text": [
      "W. Brandner  ->  W. Brandner  |  ['W. Brandner']\n",
      "P. Garcia  ->  A. P. Garcia  |  ['P. Garcia']\n",
      "L. Kreidberg  ->  L. Kreidberg  |  ['L. Kreidberg']\n",
      "J. Sauter  ->  J. Sauter  |  ['J. Sauter']\n"
     ]
    },
    {
     "name": "stdout",
     "output_type": "stream",
     "text": [
      "Issues with the citations\n",
      "list index out of range\n",
      "Retrieving document from  https://arxiv.org/e-print/2409.13021\n",
      "extracting tarball to tmp_2409.13021..."
     ]
    },
    {
     "name": "stdout",
     "output_type": "stream",
     "text": [
      " done.\n",
      "Retrieving document from  https://arxiv.org/e-print/2409.13189\n"
     ]
    },
    {
     "name": "stdout",
     "output_type": "stream",
     "text": [
      "extracting tarball to tmp_2409.13189... done.\n"
     ]
    },
    {
     "name": "stderr",
     "output_type": "stream",
     "text": [
      "/tmp/ipykernel_2752/339448580.py:52: LatexWarning: 2409.13189 did not run properly\n",
      "bad escape \\e at position 36\n",
      "  warnings.warn(latex.LatexWarning(f\"{paper_id:s} did not run properly\\n\" +\n"
     ]
    }
   ],
   "source": [
    "documents = []\n",
    "failed = []\n",
    "for paper in tqdm(candidates):\n",
    "    # debug crap\n",
    "    paper['identifier'] = paper['identifier'].lower().replace('arxiv:', '').replace(r'\\n', '').strip()\n",
    "    paper_id = paper['identifier']\n",
    "    \n",
    "    folder = f'tmp_{paper_id}'\n",
    "\n",
    "    try:\n",
    "        if not os.path.isdir(folder):\n",
    "            folder = retrieve_document_source(f\"{paper_id}\", f'tmp_{paper_id}')\n",
    "        \n",
    "        try:\n",
    "            doc = latex.LatexDocument(folder, validation=validation)    \n",
    "        except AffiliationError as affilerror:\n",
    "            msg = f\"ArXiv:{paper_id:s} is not an MPIA paper... \" + str(affilerror)\n",
    "            failed.append((paper, \"affiliation error: \" + str(affilerror) ))\n",
    "            continue\n",
    "        \n",
    "        # Hack because sometimes author parsing does not work well\n",
    "        if (len(doc.authors) != len(paper['authors'])):\n",
    "            doc._authors = paper['authors']\n",
    "        else:\n",
    "            # highlight authors (FIXME: doc.highlight_authors)\n",
    "            # done on arxiv paper already\n",
    "            doc._authors = highlight_authors_in_list(\n",
    "                [mpia.get_initials(k) for k in doc.authors], \n",
    "                mpia_authors, verbose=True)\n",
    "        if (doc.abstract) in (None, ''):\n",
    "            doc._abstract = paper['abstract']\n",
    "            \n",
    "        doc.comment = (get_markdown_badge(paper_id) + \n",
    "                       \"<mark>Appeared on: \" + paper['date'] + \"</mark> - \")\n",
    "        if paper['comments']:\n",
    "            doc.comment += \" _\" + paper['comments'] + \"_\"\n",
    "        \n",
    "        full_md = doc.generate_markdown_text()\n",
    "        \n",
    "        full_md += get_markdown_qrcode(paper_id)\n",
    "        \n",
    "        # replace citations\n",
    "        try:\n",
    "            bibdata = latex_bib.LatexBib.from_doc(doc)\n",
    "            full_md = latex_bib.replace_citations(full_md, bibdata)\n",
    "        except Exception as e:\n",
    "            print(\"Issues with the citations\")\n",
    "            print(e)\n",
    "        \n",
    "        documents.append((paper_id, full_md))\n",
    "    except Exception as e:\n",
    "        warnings.warn(latex.LatexWarning(f\"{paper_id:s} did not run properly\\n\" +\n",
    "                                         str(e)\n",
    "                                        ))\n",
    "        failed.append((paper, \"latex error \" + str(e)))"
   ]
  },
  {
   "cell_type": "markdown",
   "id": "2505a25c",
   "metadata": {
    "papermill": {
     "duration": 0.003939,
     "end_time": "2024-09-23T09:17:38.250438",
     "exception": false,
     "start_time": "2024-09-23T09:17:38.246499",
     "status": "completed"
    },
    "tags": []
   },
   "source": [
    "### Export the logs\n",
    "\n",
    "Throughout, we also keep track of the logs per paper. see `logs-{today date}.md` "
   ]
  },
  {
   "cell_type": "code",
   "execution_count": 6,
   "id": "d733828a",
   "metadata": {
    "execution": {
     "iopub.execute_input": "2024-09-23T09:17:38.259186Z",
     "iopub.status.busy": "2024-09-23T09:17:38.258633Z",
     "iopub.status.idle": "2024-09-23T09:17:38.272144Z",
     "shell.execute_reply": "2024-09-23T09:17:38.271590Z"
    },
    "papermill": {
     "duration": 0.018891,
     "end_time": "2024-09-23T09:17:38.273142",
     "exception": false,
     "start_time": "2024-09-23T09:17:38.254251",
     "status": "completed"
    },
    "scrolled": false,
    "tags": []
   },
   "outputs": [
    {
     "data": {
      "text/markdown": [
       "## Successful papers"
      ],
      "text/plain": [
       "<IPython.core.display.Markdown object>"
      ]
     },
     "metadata": {},
     "output_type": "display_data"
    },
    {
     "data": {
      "text/markdown": [
       "\n",
       "|||\n",
       "|---:|:---|\n",
       "| [![arXiv](https://img.shields.io/badge/arXiv-2409.13015-b31b1b.svg)](https://arxiv.org/abs/2409.13015) | **First Resolution of Microlensed Images of a Binary-Lens Event**  |\n",
       "|| Z. Wu, et al. -- incl., <mark>W. Brandner</mark>, <mark>P. Garcia</mark>, <mark>L. Kreidberg</mark>, <mark>J. Sauter</mark> |\n",
       "|*Appeared on*| *2024-09-23*|\n",
       "|*Comments*| *see the ancillary file for animation associated with Fig. 8*|\n",
       "|**Abstract**|            We resolve the multiple images of the binary-lens microlensing event ASASSN-22av using the GRAVITY instrument of the Very Large Telescope Interferometer (VLTI). The light curves show weak binary perturbations, complicating the analysis, but the joint modeling with the VLTI data breaks several degeneracies, arriving at a strongly favored solution. Thanks to precise measurements of angular Einstein radius \\theta_E = 0.726 +/- 0.002 mas and microlens parallax, we determine that the lens system consists of two M dwarfs with masses of M_1 = 0.261 +/- 0.009 M_sun and M_2 = 0.252 +/- 0.017 M_sun, a projected separation of r_\\perp = 7.42 +/- 0.33 AU and a distance of D_L = 2.31 +/- 0.09 kpc. The successful VLTI observations of ASASSN-22av open up a new path for studying intermediate-separation (i.e., a few AUs) stellar-mass binaries, including those containing dark compact objects such as neutron stars and stellar-mass black holes.         |"
      ],
      "text/plain": [
       "[2409.13015] First Resolution of Microlensed Images of a Binary-Lens Event\n",
       "\tZ. Wu, et al. -- incl., <mark>W. Brandner</mark>, <mark>P. Garcia</mark>, <mark>L. Kreidberg</mark>, <mark>J. Sauter</mark>"
      ]
     },
     "metadata": {},
     "output_type": "display_data"
    },
    {
     "data": {
      "text/markdown": [
       "## Failed papers"
      ],
      "text/plain": [
       "<IPython.core.display.Markdown object>"
      ]
     },
     "metadata": {},
     "output_type": "display_data"
    },
    {
     "data": {
      "text/markdown": [
       "\n",
       "|||\n",
       "|---:|:---|\n",
       "| [![arXiv](https://img.shields.io/badge/arXiv-2409.13021-b31b1b.svg)](https://arxiv.org/abs/2409.13021) | **Running with the Bulls: The frequency of star-disc encounters in the Taurus star forming region**  |\n",
       "|| A. J. Winter, et al. -- incl., <mark>M. Benisty</mark> |\n",
       "|*Appeared on*| *2024-09-23*|\n",
       "|*Comments*| *20 pages, 20 figures, accepted for publication in A&A*|\n",
       "|**Abstract**|            Stars and planets form in regions of enhanced stellar density, subjecting protoplanetary discs to gravitational perturbations from neighbouring stars. Observations in the Taurus star-forming have uncovered evidence of at least three recent, star-disc encounters that have truncated discs (HV/DO Tau, RW Aurigae, UX Tau), raising questions about the frequency of such events. We aim to assess the probability of observing truncating star-disc encounters in Taurus. We generate a physically motivated dynamical model including binaries and spatial-kinematic substructure to follow the historical dynamical evolution and stellar encounters in the Taurus star forming region. We track the star-disc encounters and outer disc radius evolution over the lifetime of Taurus. A quarter of discs are truncated below 30 au by dynamical encounters, but this truncation mostly occurs in binaries over the course of a few orbital periods, on a time-scale $\\lesssim 0.1$ Myr. Nonetheless, some truncating encounters still occur up to the present age of Taurus. Strongly truncating encounters (ejecting $\\gtrsim 10$ percent of the disc mass) occur at a rate $\\sim 10$ Myr$^{-1}$, sufficient to explain the encounter between HV and DO Tau $\\sim 0.1$ Myr ago. If encounters that eject only $\\sim 1$ percent of the disc mass are responsible for RW Aurigae and UX Tau, then they are also expected with encounter rate $\\Gamma_\\mathrm{enc} \\sim 100{-}200$ Myr$^{-1}$. However, the observed sample of recent encounters is probably incomplete, since these examples occurred in systems that are not consistent with random drawing from the mass function. One more observed example would statistically imply additional physics, such as replenishment of the outer disc material.         |\n",
       "|<p style=\"color:green\"> **ERROR** </p>| <p style=\"color:green\">affiliation error: mpia.affiliation_verifications: 'Heidelberg' keyword not found.</p> |"
      ],
      "text/plain": [
       "<IPython.core.display.Markdown object>"
      ]
     },
     "metadata": {},
     "output_type": "display_data"
    },
    {
     "data": {
      "text/markdown": [
       "\n",
       "|||\n",
       "|---:|:---|\n",
       "| [![arXiv](https://img.shields.io/badge/arXiv-2409.13189-b31b1b.svg)](https://arxiv.org/abs/2409.13189) | **Fast Outflow in the Host Galaxy of the Luminous z $=$ 7.5 Quasar J1007$+$2115**  |\n",
       "|| W. Liu, et al. -- incl., <mark>E. Bañados</mark> |\n",
       "|*Appeared on*| *2024-09-23*|\n",
       "|*Comments*| **|\n",
       "|**Abstract**|            James Webb Space Telescope opens a new window to directly probe luminous quasars powered by billion solar mass black holes in the epoch of reionization and their co-evolution with massive galaxies with unprecedented details. In this paper, we report the first results from the deep NIRSpec integral field spectroscopy study of a quasar at $z = 7.5$. We obtain a bolometric luminosity of $\\sim$$1.8\\times10^{47}$ erg s$^{-1}$ and a black hole mass of $\\sim$0.7--2.5$\\times10^{9}$ M$_{\\odot}$ based on H$\\beta$ emission line from the quasar spectrum. We discover $\\sim$2 kpc scale, highly blueshifted ($\\sim$$-$870 km/s) and broad ($\\sim$1400 km/s) [O III] line emission after the quasar PSF has been subtracted. Such line emission most likely originates from a fast, quasar-driven outflow, the earliest one on galactic-scale known so far. The dynamical properties of this outflow fall within the typical ranges of quasar-driven outflows at lower redshift, and the outflow may be fast enough to reach the circumgalactic medium. Combining both the extended and nuclear outflow together, the mass outflow rate, $\\sim$300 M$_{\\odot}$yr, is $\\sim$60%--380% of the star formation rate of the quasar host galaxy, suggesting that the outflow may expel a significant amount of gas from the inner region of the galaxy. The kinetic energy outflow rate, $\\sim$3.6$\\times10^{44}$ erg s$^{-1}$, is $\\sim$0.2% of the quasar bolometric luminosity, which is comparable to the minimum value required for negative feedback based on simulation predictions. The dynamical timescale of the extended outflow is $\\sim$1.7 Myr, consistent with the typical quasar lifetime in this era.         |\n",
       "|<p style=\"color:red\"> **ERROR** </p>| <p style=\"color:red\">latex error bad escape \\e at position 36</p> |"
      ],
      "text/plain": [
       "<IPython.core.display.Markdown object>"
      ]
     },
     "metadata": {},
     "output_type": "display_data"
    }
   ],
   "source": [
    "import datetime\n",
    "today = str(datetime.date.today())\n",
    "logfile = f\"_build/html/logs/log-{today}.md\"\n",
    "\n",
    "\n",
    "with open(logfile, 'w') as logs:\n",
    "    # Success\n",
    "    logs.write(f'# Arxiv on Deck 2: Logs - {today}\\n\\n')\n",
    "    logs.write(\"\"\"* Arxiv had {0:,d} new papers\\n\"\"\".format(len(new_papers)))\n",
    "    logs.write(\"\"\"    * {0:,d} with possible author matches\\n\\n\"\"\".format(len(candidates)))\n",
    "    logs.write(\"## Sucessful papers\\n\\n\")\n",
    "    display(Markdown(\"## Successful papers\"))\n",
    "    success = [k[0] for k in documents]\n",
    "    for candid in candidates:\n",
    "        if candid['identifier'].split(':')[-1] in success:\n",
    "            display(candid)\n",
    "            logs.write(candid.generate_markdown_text() + '\\n\\n')\n",
    "\n",
    "    ## failed\n",
    "    logs.write(\"## Failed papers\\n\\n\")\n",
    "    display(Markdown(\"## Failed papers\"))\n",
    "    failed = sorted(failed, key=lambda x: x[1])\n",
    "    current_reason = \"\"\n",
    "    for paper, reason in failed:\n",
    "        if 'affiliation' in reason:\n",
    "            color = 'green'\n",
    "        else:\n",
    "            color = 'red'\n",
    "        data = Markdown(\n",
    "                paper.generate_markdown_text() + \n",
    "                f'\\n|<p style=\"color:{color:s}\"> **ERROR** </p>| <p style=\"color:{color:s}\">{reason:s}</p> |'\n",
    "               )\n",
    "        if reason != current_reason:\n",
    "            logs.write(f'### {reason:s} \\n\\n')\n",
    "            current_reason = reason\n",
    "        logs.write(data.data + '\\n\\n')\n",
    "        \n",
    "        # only display here the important errors (all in logs)\n",
    "        # if color in ('red',):\n",
    "        display(data)"
   ]
  },
  {
   "cell_type": "markdown",
   "id": "472d20ee",
   "metadata": {
    "papermill": {
     "duration": 0.004124,
     "end_time": "2024-09-23T09:17:38.281536",
     "exception": false,
     "start_time": "2024-09-23T09:17:38.277412",
     "status": "completed"
    },
    "tags": []
   },
   "source": [
    "## Export documents\n",
    "\n",
    "We now write the .md files and export relevant images"
   ]
  },
  {
   "cell_type": "code",
   "execution_count": 7,
   "id": "d426aed9",
   "metadata": {
    "execution": {
     "iopub.execute_input": "2024-09-23T09:17:38.290981Z",
     "iopub.status.busy": "2024-09-23T09:17:38.290484Z",
     "iopub.status.idle": "2024-09-23T09:17:38.297352Z",
     "shell.execute_reply": "2024-09-23T09:17:38.296784Z"
    },
    "papermill": {
     "duration": 0.012676,
     "end_time": "2024-09-23T09:17:38.298355",
     "exception": false,
     "start_time": "2024-09-23T09:17:38.285679",
     "status": "completed"
    },
    "tags": []
   },
   "outputs": [],
   "source": [
    "def export_markdown_summary(md: str, md_fname:str, directory: str):\n",
    "    \"\"\"Export MD document and associated relevant images\"\"\"\n",
    "    import os\n",
    "    import shutil\n",
    "    import re\n",
    "\n",
    "    if (os.path.exists(directory) and not os.path.isdir(directory)):\n",
    "        raise RuntimeError(f\"a non-directory file exists with name {directory:s}\")\n",
    "\n",
    "    if (not os.path.exists(directory)):\n",
    "        print(f\"creating directory {directory:s}\")\n",
    "        os.mkdir(directory)\n",
    "\n",
    "    fig_fnames = (re.compile(r'\\[Fig.*\\]\\((.*)\\)').findall(md) + \n",
    "                  re.compile(r'\\<img src=\"([^>\\s]*)\"[^>]*/>').findall(md))\n",
    "    print(\"found figures\", fig_fnames)\n",
    "    for fname in fig_fnames:\n",
    "        if 'http' in fname:\n",
    "            # No need to copy online figures\n",
    "            continue\n",
    "        if not os.path.exists(fname):\n",
    "            print(\"file not found\", fname)\n",
    "            continue\n",
    "        print(\"copying \", fname, \"to\", directory)\n",
    "        destdir = os.path.join(directory, os.path.dirname(fname))\n",
    "        destfname = os.path.join(destdir, os.path.basename(fname))\n",
    "        try:\n",
    "            os.makedirs(destdir)\n",
    "        except FileExistsError:\n",
    "            pass\n",
    "        shutil.copy(fname, destfname)\n",
    "    with open(os.path.join(directory, md_fname), 'w') as fout:\n",
    "        fout.write(md)\n",
    "    print(\"exported in \", os.path.join(directory, md_fname))\n",
    "    [print(\"    + \" + os.path.join(directory,fk)) for fk in fig_fnames]"
   ]
  },
  {
   "cell_type": "code",
   "execution_count": 8,
   "id": "014d04a4",
   "metadata": {
    "execution": {
     "iopub.execute_input": "2024-09-23T09:17:38.307726Z",
     "iopub.status.busy": "2024-09-23T09:17:38.307285Z",
     "iopub.status.idle": "2024-09-23T09:17:38.316065Z",
     "shell.execute_reply": "2024-09-23T09:17:38.315510Z"
    },
    "papermill": {
     "duration": 0.014524,
     "end_time": "2024-09-23T09:17:38.317077",
     "exception": false,
     "start_time": "2024-09-23T09:17:38.302553",
     "status": "completed"
    },
    "tags": []
   },
   "outputs": [
    {
     "name": "stdout",
     "output_type": "stream",
     "text": [
      "found figures ['tmp_2409.13015/figures/fig00.png', 'tmp_2409.13015/figures/fig01.png', 'tmp_2409.13015/figures/fig02.png', 'tmp_2409.13015/figures/fig03.png', 'tmp_2409.13015/figures/fig04.png', 'tmp_2409.13015/figures/fig05.png', 'tmp_2409.13015/figures/fig06.png', 'tmp_2409.13015/figures/fig07.png', 'tmp_2409.13015/figures/lc.png', 'tmp_2409.13015/figures/alpha.png']\n",
      "copying  tmp_2409.13015/figures/fig00.png to _build/html/\n",
      "copying  tmp_2409.13015/figures/fig01.png to _build/html/\n",
      "copying  tmp_2409.13015/figures/fig02.png to _build/html/\n",
      "copying  tmp_2409.13015/figures/fig03.png to _build/html/\n",
      "copying  tmp_2409.13015/figures/fig04.png to _build/html/\n",
      "copying  tmp_2409.13015/figures/fig05.png to _build/html/\n",
      "copying  tmp_2409.13015/figures/fig06.png to _build/html/\n",
      "copying  tmp_2409.13015/figures/fig07.png to _build/html/\n",
      "copying  tmp_2409.13015/figures/lc.png to _build/html/\n",
      "copying  tmp_2409.13015/figures/alpha.png to _build/html/\n",
      "exported in  _build/html/2409.13015.md\n",
      "    + _build/html/tmp_2409.13015/figures/fig00.png\n",
      "    + _build/html/tmp_2409.13015/figures/fig01.png\n",
      "    + _build/html/tmp_2409.13015/figures/fig02.png\n",
      "    + _build/html/tmp_2409.13015/figures/fig03.png\n",
      "    + _build/html/tmp_2409.13015/figures/fig04.png\n",
      "    + _build/html/tmp_2409.13015/figures/fig05.png\n",
      "    + _build/html/tmp_2409.13015/figures/fig06.png\n",
      "    + _build/html/tmp_2409.13015/figures/fig07.png\n",
      "    + _build/html/tmp_2409.13015/figures/lc.png\n",
      "    + _build/html/tmp_2409.13015/figures/alpha.png\n"
     ]
    }
   ],
   "source": [
    "for paper_id, md in documents:\n",
    "    export_markdown_summary(md, f\"{paper_id:s}.md\", '_build/html/')"
   ]
  },
  {
   "cell_type": "markdown",
   "id": "f087a0a7",
   "metadata": {
    "papermill": {
     "duration": 0.004269,
     "end_time": "2024-09-23T09:17:38.325785",
     "exception": false,
     "start_time": "2024-09-23T09:17:38.321516",
     "status": "completed"
    },
    "tags": []
   },
   "source": [
    "## Display the papers\n",
    "\n",
    "Not necessary but allows for a quick check."
   ]
  },
  {
   "cell_type": "code",
   "execution_count": 9,
   "id": "fd25f625",
   "metadata": {
    "execution": {
     "iopub.execute_input": "2024-09-23T09:17:38.335550Z",
     "iopub.status.busy": "2024-09-23T09:17:38.335218Z",
     "iopub.status.idle": "2024-09-23T09:17:38.339581Z",
     "shell.execute_reply": "2024-09-23T09:17:38.339071Z"
    },
    "papermill": {
     "duration": 0.010397,
     "end_time": "2024-09-23T09:17:38.340577",
     "exception": false,
     "start_time": "2024-09-23T09:17:38.330180",
     "status": "completed"
    },
    "scrolled": false,
    "tags": []
   },
   "outputs": [
    {
     "data": {
      "text/markdown": [
       "<div class=\"macros\" style=\"visibility:hidden;\">\n",
       "$\\newcommand{\\ensuremath}{}$\n",
       "$\\newcommand{\\xspace}{}$\n",
       "$\\newcommand{\\object}[1]{\\texttt{#1}}$\n",
       "$\\newcommand{\\farcs}{{.}''}$\n",
       "$\\newcommand{\\farcm}{{.}'}$\n",
       "$\\newcommand{\\arcsec}{''}$\n",
       "$\\newcommand{\\arcmin}{'}$\n",
       "$\\newcommand{\\ion}[2]{#1#2}$\n",
       "$\\newcommand{\\textsc}[1]{\\textrm{#1}}$\n",
       "$\\newcommand{\\hl}[1]{\\textrm{#1}}$\n",
       "$\\newcommand{\\footnote}[1]{}$\n",
       "$\\newcommand{\\au}{{\\rm AU}}$\n",
       "$\\newcommand{\\sinc}{{\\rm sinc}}$\n",
       "$\\newcommand{\\kms}{{\\rm km} {\\rm s}^{-1}}$\n",
       "$\\newcommand{\\masyr}{{\\rm mas} {\\rm yr}^{-1}}$\n",
       "$\\newcommand{\\yr}{{\\rm yr}}$\n",
       "$\\newcommand{\\kpc}{{\\rm kpc}}$\n",
       "$\\newcommand{\\mas}{{\\rm mas}}$\n",
       "$\\newcommand{\\sat}{{\\rm sat}}$\n",
       "$\\newcommand{\\muas}{\\mu{\\rm as}}$\n",
       "$\\newcommand{\\var}{{\\rm var}}$\n",
       "$\\newcommand{\\pc}{{\\rm pc}}$\n",
       "$\\newcommand{\\orb}{{\\rm orb}}$\n",
       "$\\newcommand{\\obs}{{\\rm obs}}$\n",
       "$\\newcommand{\\max}{{\\rm max}}$\n",
       "$\\newcommand{\\min}{{\\rm min}}$\n",
       "$\\newcommand{\\rel}{{\\rm rel}}$\n",
       "$\\newcommand{\\ast}{{\\rm ast}}$\n",
       "$\\newcommand{\\eff}{{\\rm eff}}$\n",
       "$\\newcommand{\\rot}{{\\rm rot}}$\n",
       "$\\newcommand{\\lsr}{{\\rm lsr}}$\n",
       "$\\newcommand{\\hel}{{\\rm hel}}$\n",
       "$\\newcommand{\\geo}{{\\rm geo}}$\n",
       "$\\newcommand{\\B}{{\\rm B}}$\n",
       "$\\newcommand{\\Sc}{{\\rm S}}$\n",
       "$\\newcommand{\\L}{{\\rm L}}$\n",
       "$\\newcommand{\\E}{{\\rm E}}$\n",
       "$\\newcommand{\\bpi}{{\\bm\\pi}}$\n",
       "$\\newcommand{\\bmu}{{\\bm\\mu}}$\n",
       "$\\newcommand{\\balpha}{{\\bdv\\alpha}}$\n",
       "$\\newcommand{\\bgamma}{{\\bdv\\gamma}}$\n",
       "$\\newcommand{\\bDelta}{{\\bdv\\Delta}}$\n",
       "$\\newcommand{\\btheta}{{\\bdv\\theta}}$\n",
       "$\\newcommand{\\bphi}{{\\bdv\\phi}}$\n",
       "$\\newcommand{\\bp}{{\\bf p}}$\n",
       "$\\newcommand{\\bv}{{\\bf v}}$\n",
       "$\\newcommand{\\bu}{{\\bf u}}$\n",
       "$\\newcommand{\\deg}{^\\circ}$\n",
       "$\\newcommand{\\close}{{\"close A-\"}}$\n",
       "$\\newcommand{\\wide}{{\"wide A-\"}}$\n",
       "$\\newcommand{\\revisec}{\\color{red}}$</div>\n",
       "\n",
       "\n",
       "\n",
       "<div id=\"title\">\n",
       "\n",
       "# First Resolution of Microlensed Images of a Binary-Lens Event\n",
       "\n",
       "</div>\n",
       "<div id=\"comments\">\n",
       "\n",
       "[![arXiv](https://img.shields.io/badge/arXiv-2409.13015-b31b1b.svg)](https://arxiv.org/abs/2409.13015)<mark>Appeared on: 2024-09-23</mark> -  _see the ancillary file for animation associated with Fig. 8_\n",
       "\n",
       "</div>\n",
       "<div id=\"authors\">\n",
       "\n",
       "Z. Wu, et al. -- incl., <mark>W. Brandner</mark>, <mark>P. Garcia</mark>, <mark>L. Kreidberg</mark>, <mark>J. Sauter</mark>\n",
       "\n",
       "</div>\n",
       "<div id=\"abstract\">\n",
       "\n",
       "**Abstract:** We resolve the multiple images of the binary-lens microlensing event ASASSN-22av using the GRAVITY instrument of the Very Large Telescope Interferometer (VLTI). The light curves show weak binary perturbations, complicating the analysis, but the joint modeling with the VLTI data breaks several degeneracies, arriving at a strongly favored solution. Thanks to precise measurements of angular Einstein radius $\\theta_\\E = 0.726\\pm0.002$ mas and microlens parallax, we determine that the lens system consists of two M dwarfs with masses of $M_1= 0.261\\pm{0.009}  M_\\odot$ and $M_2 = 0.252\\pm{0.017}  M_\\odot$ , a projected separation of $r_\\perp = 7.42\\pm0.33 \\au$ and a distance of $D_\\L=2.31\\pm0.09$ kpc. The successful VLTI observations of ASASSN-22av open up a new path for studying intermediate-separation (i.e., a few AUs) stellar-mass binaries, including those containing dark compact objects such as neutron stars and stellar-mass black holes.\n",
       "\n",
       "</div>\n",
       "\n",
       "<div id=\"div_fig1\">\n",
       "\n",
       "<img src=\"tmp_2409.13015/figures/fig00.png\" alt=\"Fig7.1\" width=\"12%\"/><img src=\"tmp_2409.13015/figures/fig01.png\" alt=\"Fig7.2\" width=\"12%\"/><img src=\"tmp_2409.13015/figures/fig02.png\" alt=\"Fig7.3\" width=\"12%\"/><img src=\"tmp_2409.13015/figures/fig03.png\" alt=\"Fig7.4\" width=\"12%\"/><img src=\"tmp_2409.13015/figures/fig04.png\" alt=\"Fig7.5\" width=\"12%\"/><img src=\"tmp_2409.13015/figures/fig05.png\" alt=\"Fig7.6\" width=\"12%\"/><img src=\"tmp_2409.13015/figures/fig06.png\" alt=\"Fig7.7\" width=\"12%\"/><img src=\"tmp_2409.13015/figures/fig07.png\" alt=\"Fig7.8\" width=\"12%\"/>\n",
       "\n",
       "**Figure 7. -** $4\\times 2$ panel groups showing the closure phase data and the best-fit microlensing model ($\\wide$) for the eight VLTI GRAVITY exposures obtained over three nights. Within each group, the left sub-panel shows the closure phase data as a function of wavelength, with the best-fit model over-plotted as solid lines; the right sub-panel shows the caustics (blue), source trajectory (black line with an arrow) and source position (red circle) at the time of the VLTI observation, with the microlensed images displayed as shaded regions and the critical curves as blue dashed lines. (*fig:cpfit*)\n",
       "\n",
       "</div>\n",
       "<div id=\"div_fig2\">\n",
       "\n",
       "<img src=\"tmp_2409.13015/figures/lc.png\" alt=\"Fig1\" width=\"100%\"/>\n",
       "\n",
       "**Figure 1. -** Top: The multi-band light curves of the microlensing event ASASSN-22av, which are well described by the best-fit 2L1S model (black solid line) from the joint VLTI and light-curve analysis. The light curves deviate from the best-fit 1L1S model with finite-source effects (black dashed line) near the peak, as shown with the enlarged view in the inset. We analyze three nights of VLTI GRAVITY observations taken after the peak, and their epochs are marked with the red dashed lines.\n",
       "\t\tMiddle: The residuals of the best-fit  2L1S model.\n",
       "\t\tBottom: The best-fit 1L1S model shows significant residuals for the $\\sim 10$ days around the peak. (*fig:lc*)\n",
       "\n",
       "</div>\n",
       "<div id=\"div_fig3\">\n",
       "\n",
       "<img src=\"tmp_2409.13015/figures/alpha.png\" alt=\"Fig5\" width=\"100%\"/>\n",
       "\n",
       "**Figure 5. -** The comparisons of $\\alpha_{\\rm LC}$ derived from light-curve fitting with $\\alpha_{\\rm VLTI}$ inferred from VLTI data. The colored arcs denote the 1$\\sigma$ range of $\\alpha_{\\rm LC}$ for solutions \"close A$+$\" (black), \"close A$-$\" (red), \"close B$+$\" (cyan), \"wide A$+$\" (blue), \"wide A$-$\" (green) and \"wide B$+$\" (yellow), respectively. The shaded regions indicate the 3$\\sigma$ range of $\\alpha_{\\rm VLTI}$ at $\\Psi \\sim -100$\\deg$, -10$\\deg$, 80$\\deg$$ and $170$\\deg$$. Three solutions (wide A$-$, wide B$+$ and close A$-$) have consistent $\\alpha_{\\rm LC}$ with $\\alpha_{\\rm VLTI}$. (*fig:alpha*)\n",
       "\n",
       "</div><div id=\"qrcode\"><img src=https://api.qrserver.com/v1/create-qr-code/?size=100x100&data=\"https://arxiv.org/abs/2409.13015\"></div>"
      ],
      "text/plain": [
       "<IPython.core.display.Markdown object>"
      ]
     },
     "metadata": {},
     "output_type": "display_data"
    }
   ],
   "source": [
    "[display(Markdown(k[1])) for k in documents];"
   ]
  },
  {
   "cell_type": "markdown",
   "id": "873873a4",
   "metadata": {
    "papermill": {
     "duration": 0.004449,
     "end_time": "2024-09-23T09:17:38.349598",
     "exception": false,
     "start_time": "2024-09-23T09:17:38.345149",
     "status": "completed"
    },
    "tags": []
   },
   "source": [
    "# Create HTML index"
   ]
  },
  {
   "cell_type": "code",
   "execution_count": 10,
   "id": "cf665672",
   "metadata": {
    "execution": {
     "iopub.execute_input": "2024-09-23T09:17:38.359895Z",
     "iopub.status.busy": "2024-09-23T09:17:38.359391Z",
     "iopub.status.idle": "2024-09-23T09:17:38.367107Z",
     "shell.execute_reply": "2024-09-23T09:17:38.366551Z"
    },
    "papermill": {
     "duration": 0.013989,
     "end_time": "2024-09-23T09:17:38.368161",
     "exception": false,
     "start_time": "2024-09-23T09:17:38.354172",
     "status": "completed"
    },
    "tags": []
   },
   "outputs": [
    {
     "name": "stdout",
     "output_type": "stream",
     "text": [
      "188  publications files modified in the last 7 days.\n"
     ]
    }
   ],
   "source": [
    "from datetime import datetime, timedelta, timezone\n",
    "from glob import glob\n",
    "import os\n",
    "\n",
    "files = glob('_build/html/*.md')\n",
    "days = 7\n",
    "now = datetime.today()\n",
    "res = []\n",
    "for fk in files:\n",
    "    stat_result = os.stat(fk).st_ctime\n",
    "    modified = datetime.fromtimestamp(stat_result, tz=timezone.utc).replace(tzinfo=None)\n",
    "    delta = now.today() - modified\n",
    "    if delta <= timedelta(days=days):\n",
    "        res.append((delta.seconds, fk))\n",
    "res = [k[1] for k in reversed(sorted(res, key=lambda x:x[1]))]\n",
    "npub = len(res)\n",
    "print(len(res), f\" publications files modified in the last {days:d} days.\")\n",
    "# [ print('\\t', k) for k in res ];"
   ]
  },
  {
   "cell_type": "code",
   "execution_count": 11,
   "id": "015de740",
   "metadata": {
    "execution": {
     "iopub.execute_input": "2024-09-23T09:17:38.378335Z",
     "iopub.status.busy": "2024-09-23T09:17:38.377943Z",
     "iopub.status.idle": "2024-09-23T09:17:38.392002Z",
     "shell.execute_reply": "2024-09-23T09:17:38.391421Z"
    },
    "papermill": {
     "duration": 0.020223,
     "end_time": "2024-09-23T09:17:38.393003",
     "exception": false,
     "start_time": "2024-09-23T09:17:38.372780",
     "status": "completed"
    },
    "tags": []
   },
   "outputs": [
    {
     "name": "stdout",
     "output_type": "stream",
     "text": [
      "8  publications in the last 7 days.\n"
     ]
    }
   ],
   "source": [
    "import datetime\n",
    "from glob import glob\n",
    "\n",
    "def get_last_n_days(lst, days=1):\n",
    "    \"\"\" Get the documents from the last n days \"\"\"\n",
    "    sorted_lst = sorted(lst, key=lambda x: x[1], reverse=True)\n",
    "    for fname, date in sorted_lst:\n",
    "        if date >= str(datetime.date.today() - datetime.timedelta(days=days)):\n",
    "            yield fname\n",
    "\n",
    "def extract_appearance_dates(lst_file):\n",
    "    dates = []\n",
    "\n",
    "    def get_date(line):\n",
    "        return line\\\n",
    "            .split('Appeared on:')[-1]\\\n",
    "            .split('</mark>')[0].strip()\n",
    "\n",
    "    for fname in lst:\n",
    "        with open(fname, 'r') as f:\n",
    "            found_date = False\n",
    "            for line in f:\n",
    "                if not found_date:\n",
    "                    if \"Appeared on\" in line:\n",
    "                        found_date = True\n",
    "                        dates.append((fname, get_date(line)))\n",
    "                else:\n",
    "                    break\n",
    "    return dates\n",
    "\n",
    "from glob import glob\n",
    "lst = glob('_build/html/*md')\n",
    "days = 7\n",
    "dates = extract_appearance_dates(lst)\n",
    "res = list(get_last_n_days(dates, days))\n",
    "npub = len(res)\n",
    "print(len(res), f\" publications in the last {days:d} days.\")"
   ]
  },
  {
   "cell_type": "code",
   "execution_count": 12,
   "id": "52ca0208",
   "metadata": {
    "execution": {
     "iopub.execute_input": "2024-09-23T09:17:38.403273Z",
     "iopub.status.busy": "2024-09-23T09:17:38.402882Z",
     "iopub.status.idle": "2024-09-23T09:17:38.407569Z",
     "shell.execute_reply": "2024-09-23T09:17:38.407051Z"
    },
    "papermill": {
     "duration": 0.010871,
     "end_time": "2024-09-23T09:17:38.408549",
     "exception": false,
     "start_time": "2024-09-23T09:17:38.397678",
     "status": "completed"
    },
    "scrolled": false,
    "tags": []
   },
   "outputs": [],
   "source": [
    "def create_carousel(npub=4):\n",
    "    \"\"\" Generate the HTML code for a carousel with `npub` slides \"\"\"\n",
    "    carousel = [\"\"\"  <div class=\"carousel\" \"\"\",\n",
    "                \"\"\"       data-flickity='{ \"autoPlay\": 10000, \"adaptiveHeight\": true, \"resize\": true, \"wrapAround\": true, \"pauseAutoPlayOnHover\": true, \"groupCells\": 1 }' id=\"asyncTypeset\">\"\"\"\n",
    "                ]\n",
    "    \n",
    "    item_str = \"\"\"    <div class=\"carousel-cell\"> <div id=\"slide{k}\" class=\"md_view\">Content {k}</div> </div>\"\"\"\n",
    "    for k in range(1, npub + 1):\n",
    "        carousel.append(item_str.format(k=k))\n",
    "    carousel.append(\"  </div>\")\n",
    "    return '\\n'.join(carousel)\n",
    "\n",
    "def create_grid(npub=4):\n",
    "    \"\"\" Generate the HTML code for a flat grid with `npub` slides \"\"\"\n",
    "    grid = [\"\"\"  <div class=\"grid\"> \"\"\",\n",
    "                ]\n",
    "    \n",
    "    item_str = \"\"\"    <div class=\"grid-item\"> <div id=\"slide{k}\" class=\"md_view\">Content {k}</div> </div>\"\"\"\n",
    "    for k in range(1, npub + 1):\n",
    "        grid.append(item_str.format(k=k))\n",
    "    grid.append(\"  </div>\")\n",
    "    return '\\n'.join(grid)"
   ]
  },
  {
   "cell_type": "code",
   "execution_count": 13,
   "id": "a6eac5b6",
   "metadata": {
    "execution": {
     "iopub.execute_input": "2024-09-23T09:17:38.419000Z",
     "iopub.status.busy": "2024-09-23T09:17:38.418606Z",
     "iopub.status.idle": "2024-09-23T09:17:38.423776Z",
     "shell.execute_reply": "2024-09-23T09:17:38.423118Z"
    },
    "papermill": {
     "duration": 0.011438,
     "end_time": "2024-09-23T09:17:38.424786",
     "exception": false,
     "start_time": "2024-09-23T09:17:38.413348",
     "status": "completed"
    },
    "scrolled": false,
    "tags": []
   },
   "outputs": [],
   "source": [
    "carousel = create_carousel(npub)\n",
    "docs = ', '.join(['\"{0:s}\"'.format(k.split('/')[-1]) for k in res])\n",
    "slides = ', '.join([f'\"slide{k}\"' for k in range(1, npub + 1)])\n",
    "\n",
    "with open(\"daily_template.html\", \"r\") as tpl:\n",
    "    page = tpl.read()\n",
    "    page = page.replace(\"{%-- carousel:s --%}\", carousel)\\\n",
    "               .replace(\"{%-- suptitle:s --%}\",  \"7-day archives\" )\\\n",
    "               .replace(\"{%-- docs:s --%}\", docs)\\\n",
    "               .replace(\"{%-- slides:s --%}\", slides)\n",
    "    \n",
    "with open(\"_build/html/index_7days.html\", 'w') as fout:\n",
    "    fout.write(page)"
   ]
  },
  {
   "cell_type": "code",
   "execution_count": 14,
   "id": "adc1a1ec",
   "metadata": {
    "execution": {
     "iopub.execute_input": "2024-09-23T09:17:38.435409Z",
     "iopub.status.busy": "2024-09-23T09:17:38.435022Z",
     "iopub.status.idle": "2024-09-23T09:17:38.441273Z",
     "shell.execute_reply": "2024-09-23T09:17:38.440682Z"
    },
    "papermill": {
     "duration": 0.012402,
     "end_time": "2024-09-23T09:17:38.442234",
     "exception": false,
     "start_time": "2024-09-23T09:17:38.429832",
     "status": "completed"
    },
    "tags": []
   },
   "outputs": [
    {
     "name": "stdout",
     "output_type": "stream",
     "text": [
      "1  publications in the last day.\n"
     ]
    }
   ],
   "source": [
    "# redo for today\n",
    "days = 1\n",
    "res = list(get_last_n_days(dates, days))\n",
    "npub = len(res)\n",
    "print(len(res), f\" publications in the last day.\")\n",
    "\n",
    "carousel = create_carousel(npub)\n",
    "docs = ', '.join(['\"{0:s}\"'.format(k.split('/')[-1]) for k in res])\n",
    "slides = ', '.join([f'\"slide{k}\"' for k in range(1, npub + 1)])\n",
    "\n",
    "with open(\"daily_template.html\", \"r\") as tpl:\n",
    "    page = tpl.read()\n",
    "    page = page.replace(\"{%-- carousel:s --%}\", carousel)\\\n",
    "               .replace(\"{%-- suptitle:s --%}\",  \"Daily\" )\\\n",
    "               .replace(\"{%-- docs:s --%}\", docs)\\\n",
    "               .replace(\"{%-- slides:s --%}\", slides)\n",
    "    \n",
    "# print(carousel, docs, slides)\n",
    "# print(page)\n",
    "with open(\"_build/html/index_daily.html\", 'w') as fout:\n",
    "    fout.write(page)"
   ]
  },
  {
   "cell_type": "code",
   "execution_count": 15,
   "id": "00eece82",
   "metadata": {
    "execution": {
     "iopub.execute_input": "2024-09-23T09:17:38.452977Z",
     "iopub.status.busy": "2024-09-23T09:17:38.452567Z",
     "iopub.status.idle": "2024-09-23T09:17:38.458875Z",
     "shell.execute_reply": "2024-09-23T09:17:38.458308Z"
    },
    "papermill": {
     "duration": 0.012628,
     "end_time": "2024-09-23T09:17:38.459850",
     "exception": false,
     "start_time": "2024-09-23T09:17:38.447222",
     "status": "completed"
    },
    "scrolled": false,
    "tags": []
   },
   "outputs": [
    {
     "name": "stdout",
     "output_type": "stream",
     "text": [
      "6  6 publications selected.\n"
     ]
    }
   ],
   "source": [
    "# Create the flat grid of the last N papers (fixed number regardless of dates)\n",
    "from itertools import islice \n",
    "\n",
    "npub = 6\n",
    "res = [k[0] for k in (islice(reversed(sorted(dates, key=lambda x: x[1])), 6))]\n",
    "print(len(res), f\" {npub} publications selected.\")\n",
    "\n",
    "grid = create_grid(npub)\n",
    "docs = ', '.join(['\"{0:s}\"'.format(k.split('/')[-1]) for k in res])\n",
    "slides = ', '.join([f'\"slide{k}\"' for k in range(1, npub + 1)])\n",
    "\n",
    "with open(\"grid_template.html\", \"r\") as tpl:\n",
    "    page = tpl.read()\n",
    "    page = page.replace(\"{%-- grid-content:s --%}\", grid)\\\n",
    "               .replace(\"{%-- suptitle:s --%}\",  f\"Last {npub:,d} papers\" )\\\n",
    "               .replace(\"{%-- docs:s --%}\", docs)\\\n",
    "               .replace(\"{%-- slides:s --%}\", slides)\n",
    "    \n",
    "# print(grid, docs, slides)\n",
    "# print(page)\n",
    "with open(\"_build/html/index_npub_grid.html\", 'w') as fout:\n",
    "    fout.write(page)"
   ]
  }
 ],
 "metadata": {
  "kernelspec": {
   "display_name": "Python 3 (ipykernel)",
   "language": "python",
   "name": "python3"
  },
  "language_info": {
   "codemirror_mode": {
    "name": "ipython",
    "version": 3
   },
   "file_extension": ".py",
   "mimetype": "text/x-python",
   "name": "python",
   "nbconvert_exporter": "python",
   "pygments_lexer": "ipython3",
   "version": "3.9.20"
  },
  "papermill": {
   "default_parameters": {},
   "duration": 39.915349,
   "end_time": "2024-09-23T09:17:38.680317",
   "environment_variables": {},
   "exception": null,
   "input_path": "MPIA daily digest.ipynb",
   "output_path": "log.ipynb",
   "parameters": {},
   "start_time": "2024-09-23T09:16:58.764968",
   "version": "2.6.0"
  },
  "vscode": {
   "interpreter": {
    "hash": "aee8b7b246df8f9039afb4144a1f6fd8d2ca17a180786b69acc140d282b71a49"
   }
  },
  "widgets": {
   "application/vnd.jupyter.widget-state+json": {
    "state": {
     "013e7a8a85954bf38cd0cf7f5c0d8620": {
      "model_module": "@jupyter-widgets/base",
      "model_module_version": "2.0.0",
      "model_name": "LayoutModel",
      "state": {
       "_model_module": "@jupyter-widgets/base",
       "_model_module_version": "2.0.0",
       "_model_name": "LayoutModel",
       "_view_count": null,
       "_view_module": "@jupyter-widgets/base",
       "_view_module_version": "2.0.0",
       "_view_name": "LayoutView",
       "align_content": null,
       "align_items": null,
       "align_self": null,
       "border_bottom": null,
       "border_left": null,
       "border_right": null,
       "border_top": null,
       "bottom": null,
       "display": null,
       "flex": null,
       "flex_flow": null,
       "grid_area": null,
       "grid_auto_columns": null,
       "grid_auto_flow": null,
       "grid_auto_rows": null,
       "grid_column": null,
       "grid_gap": null,
       "grid_row": null,
       "grid_template_areas": null,
       "grid_template_columns": null,
       "grid_template_rows": null,
       "height": null,
       "justify_content": null,
       "justify_items": null,
       "left": null,
       "margin": null,
       "max_height": null,
       "max_width": null,
       "min_height": null,
       "min_width": null,
       "object_fit": null,
       "object_position": null,
       "order": null,
       "overflow": null,
       "padding": null,
       "right": null,
       "top": null,
       "visibility": null,
       "width": null
      }
     },
     "02c85a171a72417095b8f0cdc173405c": {
      "model_module": "@jupyter-widgets/controls",
      "model_module_version": "2.0.0",
      "model_name": "HTMLStyleModel",
      "state": {
       "_model_module": "@jupyter-widgets/controls",
       "_model_module_version": "2.0.0",
       "_model_name": "HTMLStyleModel",
       "_view_count": null,
       "_view_module": "@jupyter-widgets/base",
       "_view_module_version": "2.0.0",
       "_view_name": "StyleView",
       "background": null,
       "description_width": "",
       "font_size": null,
       "text_color": null
      }
     },
     "0daaad2f80cb4c7aab3fe10f26ca8f2d": {
      "model_module": "@jupyter-widgets/controls",
      "model_module_version": "2.0.0",
      "model_name": "HTMLModel",
      "state": {
       "_dom_classes": [],
       "_model_module": "@jupyter-widgets/controls",
       "_model_module_version": "2.0.0",
       "_model_name": "HTMLModel",
       "_view_count": null,
       "_view_module": "@jupyter-widgets/controls",
       "_view_module_version": "2.0.0",
       "_view_name": "HTMLView",
       "description": "",
       "description_allow_html": false,
       "layout": "IPY_MODEL_5bf87ad804a241ff8a0a825017e242f4",
       "placeholder": "​",
       "style": "IPY_MODEL_3087767f5d8640168c69a0a846019353",
       "tabbable": null,
       "tooltip": null,
       "value": "100%"
      }
     },
     "2de76e6ed6154e239a831fdb8b9fc32f": {
      "model_module": "@jupyter-widgets/controls",
      "model_module_version": "2.0.0",
      "model_name": "FloatProgressModel",
      "state": {
       "_dom_classes": [],
       "_model_module": "@jupyter-widgets/controls",
       "_model_module_version": "2.0.0",
       "_model_name": "FloatProgressModel",
       "_view_count": null,
       "_view_module": "@jupyter-widgets/controls",
       "_view_module_version": "2.0.0",
       "_view_name": "ProgressView",
       "bar_style": "success",
       "description": "",
       "description_allow_html": false,
       "layout": "IPY_MODEL_013e7a8a85954bf38cd0cf7f5c0d8620",
       "max": 3.0,
       "min": 0.0,
       "orientation": "horizontal",
       "style": "IPY_MODEL_5a738be5dfc545dfa3bf4b59a31593cb",
       "tabbable": null,
       "tooltip": null,
       "value": 3.0
      }
     },
     "3087767f5d8640168c69a0a846019353": {
      "model_module": "@jupyter-widgets/controls",
      "model_module_version": "2.0.0",
      "model_name": "HTMLStyleModel",
      "state": {
       "_model_module": "@jupyter-widgets/controls",
       "_model_module_version": "2.0.0",
       "_model_name": "HTMLStyleModel",
       "_view_count": null,
       "_view_module": "@jupyter-widgets/base",
       "_view_module_version": "2.0.0",
       "_view_name": "StyleView",
       "background": null,
       "description_width": "",
       "font_size": null,
       "text_color": null
      }
     },
     "4debde81ecf445919ca1037f5e26e216": {
      "model_module": "@jupyter-widgets/base",
      "model_module_version": "2.0.0",
      "model_name": "LayoutModel",
      "state": {
       "_model_module": "@jupyter-widgets/base",
       "_model_module_version": "2.0.0",
       "_model_name": "LayoutModel",
       "_view_count": null,
       "_view_module": "@jupyter-widgets/base",
       "_view_module_version": "2.0.0",
       "_view_name": "LayoutView",
       "align_content": null,
       "align_items": null,
       "align_self": null,
       "border_bottom": null,
       "border_left": null,
       "border_right": null,
       "border_top": null,
       "bottom": null,
       "display": null,
       "flex": null,
       "flex_flow": null,
       "grid_area": null,
       "grid_auto_columns": null,
       "grid_auto_flow": null,
       "grid_auto_rows": null,
       "grid_column": null,
       "grid_gap": null,
       "grid_row": null,
       "grid_template_areas": null,
       "grid_template_columns": null,
       "grid_template_rows": null,
       "height": null,
       "justify_content": null,
       "justify_items": null,
       "left": null,
       "margin": null,
       "max_height": null,
       "max_width": null,
       "min_height": null,
       "min_width": null,
       "object_fit": null,
       "object_position": null,
       "order": null,
       "overflow": null,
       "padding": null,
       "right": null,
       "top": null,
       "visibility": null,
       "width": null
      }
     },
     "506c7cadaf4b45288dab0eb4aa67c0dc": {
      "model_module": "@jupyter-widgets/base",
      "model_module_version": "2.0.0",
      "model_name": "LayoutModel",
      "state": {
       "_model_module": "@jupyter-widgets/base",
       "_model_module_version": "2.0.0",
       "_model_name": "LayoutModel",
       "_view_count": null,
       "_view_module": "@jupyter-widgets/base",
       "_view_module_version": "2.0.0",
       "_view_name": "LayoutView",
       "align_content": null,
       "align_items": null,
       "align_self": null,
       "border_bottom": null,
       "border_left": null,
       "border_right": null,
       "border_top": null,
       "bottom": null,
       "display": null,
       "flex": null,
       "flex_flow": null,
       "grid_area": null,
       "grid_auto_columns": null,
       "grid_auto_flow": null,
       "grid_auto_rows": null,
       "grid_column": null,
       "grid_gap": null,
       "grid_row": null,
       "grid_template_areas": null,
       "grid_template_columns": null,
       "grid_template_rows": null,
       "height": null,
       "justify_content": null,
       "justify_items": null,
       "left": null,
       "margin": null,
       "max_height": null,
       "max_width": null,
       "min_height": null,
       "min_width": null,
       "object_fit": null,
       "object_position": null,
       "order": null,
       "overflow": null,
       "padding": null,
       "right": null,
       "top": null,
       "visibility": null,
       "width": null
      }
     },
     "5a738be5dfc545dfa3bf4b59a31593cb": {
      "model_module": "@jupyter-widgets/controls",
      "model_module_version": "2.0.0",
      "model_name": "ProgressStyleModel",
      "state": {
       "_model_module": "@jupyter-widgets/controls",
       "_model_module_version": "2.0.0",
       "_model_name": "ProgressStyleModel",
       "_view_count": null,
       "_view_module": "@jupyter-widgets/base",
       "_view_module_version": "2.0.0",
       "_view_name": "StyleView",
       "bar_color": null,
       "description_width": ""
      }
     },
     "5bf87ad804a241ff8a0a825017e242f4": {
      "model_module": "@jupyter-widgets/base",
      "model_module_version": "2.0.0",
      "model_name": "LayoutModel",
      "state": {
       "_model_module": "@jupyter-widgets/base",
       "_model_module_version": "2.0.0",
       "_model_name": "LayoutModel",
       "_view_count": null,
       "_view_module": "@jupyter-widgets/base",
       "_view_module_version": "2.0.0",
       "_view_name": "LayoutView",
       "align_content": null,
       "align_items": null,
       "align_self": null,
       "border_bottom": null,
       "border_left": null,
       "border_right": null,
       "border_top": null,
       "bottom": null,
       "display": null,
       "flex": null,
       "flex_flow": null,
       "grid_area": null,
       "grid_auto_columns": null,
       "grid_auto_flow": null,
       "grid_auto_rows": null,
       "grid_column": null,
       "grid_gap": null,
       "grid_row": null,
       "grid_template_areas": null,
       "grid_template_columns": null,
       "grid_template_rows": null,
       "height": null,
       "justify_content": null,
       "justify_items": null,
       "left": null,
       "margin": null,
       "max_height": null,
       "max_width": null,
       "min_height": null,
       "min_width": null,
       "object_fit": null,
       "object_position": null,
       "order": null,
       "overflow": null,
       "padding": null,
       "right": null,
       "top": null,
       "visibility": null,
       "width": null
      }
     },
     "bd194977871a4dfb8ae3036c93f11e12": {
      "model_module": "@jupyter-widgets/controls",
      "model_module_version": "2.0.0",
      "model_name": "HBoxModel",
      "state": {
       "_dom_classes": [],
       "_model_module": "@jupyter-widgets/controls",
       "_model_module_version": "2.0.0",
       "_model_name": "HBoxModel",
       "_view_count": null,
       "_view_module": "@jupyter-widgets/controls",
       "_view_module_version": "2.0.0",
       "_view_name": "HBoxView",
       "box_style": "",
       "children": [
        "IPY_MODEL_0daaad2f80cb4c7aab3fe10f26ca8f2d",
        "IPY_MODEL_2de76e6ed6154e239a831fdb8b9fc32f",
        "IPY_MODEL_d81f3d1c26ff492186423899af31a87e"
       ],
       "layout": "IPY_MODEL_4debde81ecf445919ca1037f5e26e216",
       "tabbable": null,
       "tooltip": null
      }
     },
     "d81f3d1c26ff492186423899af31a87e": {
      "model_module": "@jupyter-widgets/controls",
      "model_module_version": "2.0.0",
      "model_name": "HTMLModel",
      "state": {
       "_dom_classes": [],
       "_model_module": "@jupyter-widgets/controls",
       "_model_module_version": "2.0.0",
       "_model_name": "HTMLModel",
       "_view_count": null,
       "_view_module": "@jupyter-widgets/controls",
       "_view_module_version": "2.0.0",
       "_view_name": "HTMLView",
       "description": "",
       "description_allow_html": false,
       "layout": "IPY_MODEL_506c7cadaf4b45288dab0eb4aa67c0dc",
       "placeholder": "​",
       "style": "IPY_MODEL_02c85a171a72417095b8f0cdc173405c",
       "tabbable": null,
       "tooltip": null,
       "value": " 3/3 [00:16&lt;00:00,  4.43s/it]"
      }
     }
    },
    "version_major": 2,
    "version_minor": 0
   }
  }
 },
 "nbformat": 4,
 "nbformat_minor": 5
}