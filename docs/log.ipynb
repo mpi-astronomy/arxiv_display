{
 "cells": [
  {
   "cell_type": "markdown",
   "id": "92bcb855",
   "metadata": {
    "papermill": {
     "duration": 0.003861,
     "end_time": "2024-12-10T04:11:57.988859",
     "exception": false,
     "start_time": "2024-12-10T04:11:57.984998",
     "status": "completed"
    },
    "tags": []
   },
   "source": [
    "# MPIA Arxiv on Deck 2\n",
    "\n",
    "Contains the steps to produce the paper extractions."
   ]
  },
  {
   "cell_type": "code",
   "execution_count": 1,
   "id": "3a0d6e11",
   "metadata": {
    "execution": {
     "iopub.execute_input": "2024-12-10T04:11:57.996483Z",
     "iopub.status.busy": "2024-12-10T04:11:57.995734Z",
     "iopub.status.idle": "2024-12-10T04:11:58.550580Z",
     "shell.execute_reply": "2024-12-10T04:11:58.549859Z"
    },
    "papermill": {
     "duration": 0.559829,
     "end_time": "2024-12-10T04:11:58.551938",
     "exception": false,
     "start_time": "2024-12-10T04:11:57.992109",
     "status": "completed"
    },
    "tags": []
   },
   "outputs": [],
   "source": [
    "# Imports\n",
    "import os\n",
    "from IPython.display import Markdown, display\n",
    "from tqdm.notebook import tqdm\n",
    "import warnings\n",
    "from PIL import Image \n",
    "import re\n",
    "\n",
    "# requires arxiv_on_deck_2\n",
    "\n",
    "from arxiv_on_deck_2.arxiv2 import (get_new_papers, \n",
    "                                    get_paper_from_identifier,\n",
    "                                    retrieve_document_source, \n",
    "                                    get_markdown_badge)\n",
    "from arxiv_on_deck_2 import (latex,\n",
    "                             latex_bib,\n",
    "                             mpia,\n",
    "                             highlight_authors_in_list)\n",
    "\n",
    "# Sometimes images are really big\n",
    "Image.MAX_IMAGE_PIXELS = 1000000000 "
   ]
  },
  {
   "cell_type": "code",
   "execution_count": 2,
   "id": "22aa9d44",
   "metadata": {
    "execution": {
     "iopub.execute_input": "2024-12-10T04:11:58.559553Z",
     "iopub.status.busy": "2024-12-10T04:11:58.559063Z",
     "iopub.status.idle": "2024-12-10T04:11:58.566852Z",
     "shell.execute_reply": "2024-12-10T04:11:58.566340Z"
    },
    "papermill": {
     "duration": 0.012537,
     "end_time": "2024-12-10T04:11:58.567825",
     "exception": false,
     "start_time": "2024-12-10T04:11:58.555288",
     "status": "completed"
    },
    "tags": []
   },
   "outputs": [],
   "source": [
    "# Some useful definitions.\n",
    "\n",
    "class AffiliationWarning(UserWarning):\n",
    "    pass\n",
    "\n",
    "class AffiliationError(RuntimeError):\n",
    "    pass\n",
    "\n",
    "def validation(source: str):\n",
    "    \"\"\"Raises error paper during parsing of source file\n",
    "    \n",
    "    Allows checks before parsing TeX code.\n",
    "    \n",
    "    Raises AffiliationWarning\n",
    "    \"\"\"\n",
    "    check = mpia.affiliation_verifications(source, verbose=True)\n",
    "    if check is not True:\n",
    "        raise AffiliationError(\"mpia.affiliation_verifications: \" + check)\n",
    "\n",
    "        \n",
    "warnings.simplefilter('always', AffiliationWarning)\n",
    "\n",
    "\n",
    "def get_markdown_qrcode(paper_id: str):\n",
    "    \"\"\" Generate a qrcode to the arxiv page using qrserver.com\n",
    "    \n",
    "    :param paper: Arxiv paper\n",
    "    :returns: markdown text\n",
    "    \"\"\"\n",
    "    url = r\"https://api.qrserver.com/v1/create-qr-code/?size=100x100&data=\"\n",
    "    txt = f\"\"\"<img src={url}\"https://arxiv.org/abs/{paper_id}\">\"\"\"\n",
    "    txt = '<div id=\"qrcode\">' + txt + '</div>'\n",
    "    return txt\n",
    "\n",
    "\n",
    "def clean_non_western_encoded_characters_commands(text: str) -> str:\n",
    "    \"\"\" Remove non-western encoded characters from a string\n",
    "    List may need to grow.\n",
    "    \n",
    "    :param text: the text to clean\n",
    "    :return: the cleaned text\n",
    "    \"\"\"\n",
    "    text = re.sub(r\"(\\\\begin{CJK}{UTF8}{gbsn})(.*?)(\\\\end{CJK})\", r\"\\2\", text)\n",
    "    return text\n",
    "\n",
    "\n",
    "def get_initials(name: str) -> str:\n",
    "    \"\"\" Get the short name, e.g., A.-B. FamName\n",
    "    :param name: full name\n",
    "    :returns: initials\n",
    "    \"\"\"\n",
    "    initials = []\n",
    "    # account for non western names often in ()\n",
    "    if '(' in name:\n",
    "        name = clean_non_western_encoded_characters_commands(name)\n",
    "        suffix = re.findall(r\"\\((.*?)\\)\", name)[0]\n",
    "        name = name.replace(f\"({suffix})\", '')\n",
    "    else:\n",
    "        suffix = ''\n",
    "    split = name.split()\n",
    "    for token in split[:-1]:\n",
    "        if '-' in token:\n",
    "            current = '-'.join([k[0] + '.' for k in token.split('-')])\n",
    "        else:\n",
    "            current = token[0] + '.'\n",
    "        initials.append(current)\n",
    "    initials.append(split[-1].strip())\n",
    "    if suffix:\n",
    "        initials.append(f\"({suffix})\")\n",
    "    return ' '.join(initials)"
   ]
  },
  {
   "cell_type": "markdown",
   "id": "14bd6310",
   "metadata": {
    "papermill": {
     "duration": 0.00296,
     "end_time": "2024-12-10T04:11:58.573787",
     "exception": false,
     "start_time": "2024-12-10T04:11:58.570827",
     "status": "completed"
    },
    "tags": []
   },
   "source": [
    "## get list of arxiv paper candidates\n",
    "\n",
    "We use the MPIA mitarbeiter list webpage from mpia.de to get author names\n",
    "We then get all new papers from Arxiv and match authors"
   ]
  },
  {
   "cell_type": "code",
   "execution_count": 3,
   "id": "7ea813a8",
   "metadata": {
    "execution": {
     "iopub.execute_input": "2024-12-10T04:11:58.580618Z",
     "iopub.status.busy": "2024-12-10T04:11:58.580211Z",
     "iopub.status.idle": "2024-12-10T04:12:13.349981Z",
     "shell.execute_reply": "2024-12-10T04:12:13.349362Z"
    },
    "papermill": {
     "duration": 14.774474,
     "end_time": "2024-12-10T04:12:13.351157",
     "exception": false,
     "start_time": "2024-12-10T04:11:58.576683",
     "status": "completed"
    },
    "tags": []
   },
   "outputs": [],
   "source": [
    "# deal with the author list and edge cases of people that cannot be consistent on their name  \n",
    "\n",
    "def filter_non_scientists(name: str) -> bool:\n",
    "    \"\"\" Loose filter on expected authorships\n",
    "\n",
    "    removing IT, administration, technical staff\n",
    "    :param name: name\n",
    "    :returns: False if name is not a scientist\n",
    "    \"\"\"\n",
    "    remove_list = ['Licht', 'Binroth', 'Witzel', 'Jordan',\n",
    "                   'Zähringer', 'Scheerer', 'Hoffmann', 'Düe',\n",
    "                   'Hellmich', 'Enkler-Scharpegge', 'Witte-Nguy',\n",
    "                   'Dehen', 'Beckmann', 'Jager', 'Jäger'\n",
    "                  ]\n",
    "\n",
    "    for k in remove_list:\n",
    "        if k in name:\n",
    "            return False\n",
    "    return True\n",
    "\n",
    "def add_author_to_list(author_list: list) -> list:\n",
    "    \"\"\" Add author to list if not already in list\n",
    "    \n",
    "    :param author: author name\n",
    "    :param author_list: list of authors\n",
    "    :returns: updated list of authors\n",
    "    \"\"\"\n",
    "    add_list = ['T. Henning']\n",
    "\n",
    "    for author in add_list:\n",
    "        if author not in author_list:\n",
    "            author_list.append(author)\n",
    "    return author_list\n",
    "\n",
    "# get list from MPIA website\n",
    "# filter for non-scientists (mpia.get_mpia_mitarbeiter_list() does some filtering)\n",
    "mpia_authors = [k[1] for k in mpia.get_mpia_mitarbeiter_list() if filter_non_scientists(k[1])]\n",
    "# add some missing author because of inconsistencies in their MPIA name and author name on papers\n",
    "mpia_authors = add_author_to_list(mpia_authors)"
   ]
  },
  {
   "cell_type": "code",
   "execution_count": 4,
   "id": "2645e73a",
   "metadata": {
    "execution": {
     "iopub.execute_input": "2024-12-10T04:12:13.358648Z",
     "iopub.status.busy": "2024-12-10T04:12:13.358268Z",
     "iopub.status.idle": "2024-12-10T04:12:14.269389Z",
     "shell.execute_reply": "2024-12-10T04:12:14.268741Z"
    },
    "papermill": {
     "duration": 0.915972,
     "end_time": "2024-12-10T04:12:14.270481",
     "exception": false,
     "start_time": "2024-12-10T04:12:13.354509",
     "status": "completed"
    },
    "tags": []
   },
   "outputs": [
    {
     "name": "stdout",
     "output_type": "stream",
     "text": [
      "I. J. M. Crossfield  ->  I. J. M. Crossfield  |  ['I. J. M. Crossfield']\n",
      "T. Henning  ->  T. Henning  |  ['T. Henning']\n",
      "J. Eberhardt  ->  J. Eberhardt  |  ['J. Eberhardt']\n",
      "J. Liu  ->  J. Liu  |  ['J. Liu']\n",
      "N. Storm  ->  N. Storm  |  ['N. Storm']\n",
      "M. Bergemann  ->  M. Bergemann  |  ['M. Bergemann']\n"
     ]
    },
    {
     "name": "stdout",
     "output_type": "stream",
     "text": [
      "G. Chauvin  ->  G. Chauvin  |  ['G. Chauvin']\n",
      "T. Henning  ->  T. Henning  |  ['T. Henning']\n",
      "L. Mohr  ->  L. Mohr  |  ['L. Mohr']\n",
      "J. Liu  ->  J. Liu  |  ['J. Liu']\n",
      "Arxiv has 104 new papers today\n",
      "          6 with possible author matches\n"
     ]
    }
   ],
   "source": [
    "new_papers = get_new_papers()\n",
    "# add manual references\n",
    "add_paper_refs = []\n",
    "new_papers.extend([get_paper_from_identifier(k) for k in add_paper_refs])\n",
    "\n",
    "def robust_call(fn, value, *args, **kwargs):\n",
    "    try:\n",
    "        return fn(value, *args, **kwargs)\n",
    "    except Exception:\n",
    "        return value\n",
    "\n",
    "candidates = []\n",
    "for paperk in new_papers:\n",
    "    # Check author list with their initials\n",
    "    normed_author_list = [robust_call(mpia.get_initials, k) for k in paperk['authors']]\n",
    "    hl_authors = highlight_authors_in_list(normed_author_list, mpia_authors, verbose=True)\n",
    "    matches = [(hl, orig) for hl, orig in zip(hl_authors, paperk['authors']) if 'mark' in hl]\n",
    "    paperk['authors'] = hl_authors\n",
    "    if matches:\n",
    "        # only select paper if an author matched our list\n",
    "        candidates.append(paperk)\n",
    "print(\"\"\"Arxiv has {0:,d} new papers today\"\"\".format(len(new_papers)))        \n",
    "print(\"\"\"          {0:,d} with possible author matches\"\"\".format(len(candidates)))"
   ]
  },
  {
   "cell_type": "markdown",
   "id": "3543b34a",
   "metadata": {
    "papermill": {
     "duration": 0.003136,
     "end_time": "2024-12-10T04:12:14.277175",
     "exception": false,
     "start_time": "2024-12-10T04:12:14.274039",
     "status": "completed"
    },
    "tags": []
   },
   "source": [
    "# Parse sources and generate relevant outputs\n",
    "\n",
    "From the candidates, we do the following steps:\n",
    "* get their tarball from ArXiv (and extract data)\n",
    "* find the main .tex file: find one with \\documentclass{...} (sometimes it's non trivial)\n",
    "* Check affiliations with :func:`validation`, which uses :func:`mpia.affiliation_verifications`\n",
    "* If passing the affiliations: we parse the .tex source\n",
    "   * inject sub-documents into the main (flatten the main document)\n",
    "   * parse structure, extract information (title, abstract, authors, figures...)\n",
    "   * handles `\\graphicspath` if provided\n",
    "* Generate the .md document."
   ]
  },
  {
   "cell_type": "code",
   "execution_count": 5,
   "id": "9576b79e",
   "metadata": {
    "execution": {
     "iopub.execute_input": "2024-12-10T04:12:14.284469Z",
     "iopub.status.busy": "2024-12-10T04:12:14.284055Z",
     "iopub.status.idle": "2024-12-10T04:13:27.780393Z",
     "shell.execute_reply": "2024-12-10T04:13:27.779613Z"
    },
    "papermill": {
     "duration": 73.501377,
     "end_time": "2024-12-10T04:13:27.781674",
     "exception": false,
     "start_time": "2024-12-10T04:12:14.280297",
     "status": "completed"
    },
    "scrolled": false,
    "tags": []
   },
   "outputs": [
    {
     "data": {
      "application/vnd.jupyter.widget-view+json": {
       "model_id": "8460f0f2adf948b5aa6aefd58ecfff86",
       "version_major": 2,
       "version_minor": 0
      },
      "text/plain": [
       "  0%|          | 0/6 [00:00<?, ?it/s]"
      ]
     },
     "metadata": {},
     "output_type": "display_data"
    },
    {
     "name": "stdout",
     "output_type": "stream",
     "text": [
      "Retrieving document from  https://arxiv.org/e-print/2412.05423\n"
     ]
    },
    {
     "name": "stdout",
     "output_type": "stream",
     "text": [
      "extracting tarball to tmp_2412.05423..."
     ]
    },
    {
     "name": "stdout",
     "output_type": "stream",
     "text": [
      " done.\n",
      "Retrieving document from  https://arxiv.org/e-print/2412.05609\n"
     ]
    },
    {
     "name": "stderr",
     "output_type": "stream",
     "text": [
      "/opt/hostedtoolcache/Python/3.9.20/x64/lib/python3.9/site-packages/IPython/core/interactiveshell.py:3550: LatexWarning: Multiple tex files.\n",
      "\n",
      "  exec(code_obj, self.user_global_ns, self.user_ns)\n",
      "/opt/hostedtoolcache/Python/3.9.20/x64/lib/python3.9/site-packages/IPython/core/interactiveshell.py:3550: LatexWarning: Found documentclass in tmp_2412.05423/main.tex\n",
      "\n",
      "  exec(code_obj, self.user_global_ns, self.user_ns)\n",
      "/opt/hostedtoolcache/Python/3.9.20/x64/lib/python3.9/site-packages/arxiv_on_deck_2/latex.py:414: LatexWarning: Latex injecting: 'tables/PopSynthesisParams.tex' from 'tmp_2412.05423/tables/PopSynthesisParams.tex'\n",
      "  warnings.warn(LatexWarning(f\"Latex injecting: '{ext}' from '{subsource}'\"))\n"
     ]
    },
    {
     "name": "stdout",
     "output_type": "stream",
     "text": [
      "extracting tarball to tmp_2412.05609..."
     ]
    },
    {
     "name": "stdout",
     "output_type": "stream",
     "text": [
      " done.\n"
     ]
    },
    {
     "name": "stdout",
     "output_type": "stream",
     "text": [
      "T. Henning  ->  T. Henning  |  ['T. Henning']\n",
      "J. Eberhardt  ->  J. Eberhardt  |  ['J. Eberhardt']\n"
     ]
    },
    {
     "name": "stdout",
     "output_type": "stream",
     "text": [
      "Found 84 bibliographic references in tmp_2412.05609/sample631.bbl.\n",
      "Retrieving document from  https://arxiv.org/e-print/2412.06175\n"
     ]
    },
    {
     "name": "stdout",
     "output_type": "stream",
     "text": [
      "extracting tarball to tmp_2412.06175..."
     ]
    },
    {
     "name": "stdout",
     "output_type": "stream",
     "text": [
      " done.\n",
      "Retrieving document from  https://arxiv.org/e-print/2412.06277\n"
     ]
    },
    {
     "name": "stdout",
     "output_type": "stream",
     "text": [
      "extracting tarball to tmp_2412.06277... done.\n"
     ]
    },
    {
     "name": "stdout",
     "output_type": "stream",
     "text": [
      "Found 90 bibliographic references in tmp_2412.06277/paper.bbl.\n",
      "Issues with the citations\n",
      "syntax error in line 137: '=' expected\n",
      "Retrieving document from  https://arxiv.org/e-print/2412.06404\n"
     ]
    },
    {
     "name": "stdout",
     "output_type": "stream",
     "text": [
      "extracting tarball to tmp_2412.06404... done.\n"
     ]
    },
    {
     "name": "stdout",
     "output_type": "stream",
     "text": [
      "G. Chauvin  ->  G. Chauvin  |  ['G. Chauvin']\n",
      "T. Henning  ->  T. Henning  |  ['T. Henning']\n",
      "L. Mohr  ->  L. Mohr  |  ['L. Mohr']\n"
     ]
    },
    {
     "name": "stderr",
     "output_type": "stream",
     "text": [
      "/opt/hostedtoolcache/Python/3.9.20/x64/lib/python3.9/site-packages/arxiv_on_deck_2/latex.py:132: LatexWarning: attempting recovering figure contrast\n",
      "  warnings.warn(LatexWarning(f'attempting recovering figure {image}'))\n",
      "/opt/hostedtoolcache/Python/3.9.20/x64/lib/python3.9/site-packages/arxiv_on_deck_2/latex.py:137: LatexWarning: Recovered figure contrast as tmp_2412.06404/images/contrast.pdf\n",
      "  warnings.warn(LatexWarning(f'Recovered figure {image} as {fname}'))\n"
     ]
    },
    {
     "name": "stderr",
     "output_type": "stream",
     "text": [
      "/opt/hostedtoolcache/Python/3.9.20/x64/lib/python3.9/site-packages/arxiv_on_deck_2/latex.py:132: LatexWarning: attempting recovering figure rvgls\n",
      "  warnings.warn(LatexWarning(f'attempting recovering figure {image}'))\n",
      "/opt/hostedtoolcache/Python/3.9.20/x64/lib/python3.9/site-packages/arxiv_on_deck_2/latex.py:137: LatexWarning: Recovered figure rvgls as tmp_2412.06404/images/rvgls.pdf\n",
      "  warnings.warn(LatexWarning(f'Recovered figure {image} as {fname}'))\n"
     ]
    },
    {
     "name": "stderr",
     "output_type": "stream",
     "text": [
      "/opt/hostedtoolcache/Python/3.9.20/x64/lib/python3.9/site-packages/arxiv_on_deck_2/latex.py:132: LatexWarning: attempting recovering figure rvfit\n",
      "  warnings.warn(LatexWarning(f'attempting recovering figure {image}'))\n",
      "/opt/hostedtoolcache/Python/3.9.20/x64/lib/python3.9/site-packages/arxiv_on_deck_2/latex.py:137: LatexWarning: Recovered figure rvfit as tmp_2412.06404/images/rvfit.pdf\n",
      "  warnings.warn(LatexWarning(f'Recovered figure {image} as {fname}'))\n"
     ]
    },
    {
     "name": "stderr",
     "output_type": "stream",
     "text": [
      "/opt/hostedtoolcache/Python/3.9.20/x64/lib/python3.9/site-packages/arxiv_on_deck_2/latex.py:132: LatexWarning: attempting recovering figure pma\n",
      "  warnings.warn(LatexWarning(f'attempting recovering figure {image}'))\n",
      "/opt/hostedtoolcache/Python/3.9.20/x64/lib/python3.9/site-packages/arxiv_on_deck_2/latex.py:137: LatexWarning: Recovered figure pma as tmp_2412.06404/images/pma.pdf\n",
      "  warnings.warn(LatexWarning(f'Recovered figure {image} as {fname}'))\n"
     ]
    },
    {
     "name": "stderr",
     "output_type": "stream",
     "text": [
      "/opt/hostedtoolcache/Python/3.9.20/x64/lib/python3.9/site-packages/arxiv_on_deck_2/latex.py:132: LatexWarning: attempting recovering figure pmafit-ra\n",
      "  warnings.warn(LatexWarning(f'attempting recovering figure {image}'))\n",
      "/opt/hostedtoolcache/Python/3.9.20/x64/lib/python3.9/site-packages/arxiv_on_deck_2/latex.py:137: LatexWarning: Recovered figure pmafit-ra as tmp_2412.06404/images/pmafit-ra.pdf\n",
      "  warnings.warn(LatexWarning(f'Recovered figure {image} as {fname}'))\n",
      "/opt/hostedtoolcache/Python/3.9.20/x64/lib/python3.9/site-packages/arxiv_on_deck_2/latex.py:132: LatexWarning: attempting recovering figure pmafit-dec\n",
      "  warnings.warn(LatexWarning(f'attempting recovering figure {image}'))\n",
      "/opt/hostedtoolcache/Python/3.9.20/x64/lib/python3.9/site-packages/arxiv_on_deck_2/latex.py:137: LatexWarning: Recovered figure pmafit-dec as tmp_2412.06404/images/pmafit-dec.pdf\n",
      "  warnings.warn(LatexWarning(f'Recovered figure {image} as {fname}'))\n"
     ]
    },
    {
     "name": "stderr",
     "output_type": "stream",
     "text": [
      "/opt/hostedtoolcache/Python/3.9.20/x64/lib/python3.9/site-packages/arxiv_on_deck_2/latex.py:132: LatexWarning: attempting recovering figure orbit\n",
      "  warnings.warn(LatexWarning(f'attempting recovering figure {image}'))\n",
      "/opt/hostedtoolcache/Python/3.9.20/x64/lib/python3.9/site-packages/arxiv_on_deck_2/latex.py:137: LatexWarning: Recovered figure orbit as tmp_2412.06404/images/orbit.pdf\n",
      "  warnings.warn(LatexWarning(f'Recovered figure {image} as {fname}'))\n"
     ]
    },
    {
     "name": "stderr",
     "output_type": "stream",
     "text": [
      "/opt/hostedtoolcache/Python/3.9.20/x64/lib/python3.9/site-packages/arxiv_on_deck_2/latex.py:132: LatexWarning: attempting recovering figure imasnr\n",
      "  warnings.warn(LatexWarning(f'attempting recovering figure {image}'))\n",
      "/opt/hostedtoolcache/Python/3.9.20/x64/lib/python3.9/site-packages/arxiv_on_deck_2/latex.py:137: LatexWarning: Recovered figure imasnr as tmp_2412.06404/images/imasnr.pdf\n",
      "  warnings.warn(LatexWarning(f'Recovered figure {image} as {fname}'))\n"
     ]
    },
    {
     "name": "stderr",
     "output_type": "stream",
     "text": [
      "/opt/hostedtoolcache/Python/3.9.20/x64/lib/python3.9/site-packages/arxiv_on_deck_2/latex.py:132: LatexWarning: attempting recovering figure imadet_sharknir\n",
      "  warnings.warn(LatexWarning(f'attempting recovering figure {image}'))\n",
      "/opt/hostedtoolcache/Python/3.9.20/x64/lib/python3.9/site-packages/arxiv_on_deck_2/latex.py:137: LatexWarning: Recovered figure imadet_sharknir as tmp_2412.06404/images/imadet_sharknir.pdf\n",
      "  warnings.warn(LatexWarning(f'Recovered figure {image} as {fname}'))\n",
      "/opt/hostedtoolcache/Python/3.9.20/x64/lib/python3.9/site-packages/arxiv_on_deck_2/latex.py:132: LatexWarning: attempting recovering figure imadet_lmircam\n",
      "  warnings.warn(LatexWarning(f'attempting recovering figure {image}'))\n",
      "/opt/hostedtoolcache/Python/3.9.20/x64/lib/python3.9/site-packages/arxiv_on_deck_2/latex.py:137: LatexWarning: Recovered figure imadet_lmircam as tmp_2412.06404/images/imadet_lmircam.pdf\n",
      "  warnings.warn(LatexWarning(f'Recovered figure {image} as {fname}'))\n",
      "/opt/hostedtoolcache/Python/3.9.20/x64/lib/python3.9/site-packages/arxiv_on_deck_2/latex.py:132: LatexWarning: attempting recovering figure rvsdet\n",
      "  warnings.warn(LatexWarning(f'attempting recovering figure {image}'))\n",
      "/opt/hostedtoolcache/Python/3.9.20/x64/lib/python3.9/site-packages/arxiv_on_deck_2/latex.py:137: LatexWarning: Recovered figure rvsdet as tmp_2412.06404/images/rvsdet.pdf\n",
      "  warnings.warn(LatexWarning(f'Recovered figure {image} as {fname}'))\n",
      "/opt/hostedtoolcache/Python/3.9.20/x64/lib/python3.9/site-packages/arxiv_on_deck_2/latex.py:132: LatexWarning: attempting recovering figure pmadet\n",
      "  warnings.warn(LatexWarning(f'attempting recovering figure {image}'))\n",
      "/opt/hostedtoolcache/Python/3.9.20/x64/lib/python3.9/site-packages/arxiv_on_deck_2/latex.py:137: LatexWarning: Recovered figure pmadet as tmp_2412.06404/images/pmadet.pdf\n",
      "  warnings.warn(LatexWarning(f'Recovered figure {image} as {fname}'))\n",
      "/opt/hostedtoolcache/Python/3.9.20/x64/lib/python3.9/site-packages/arxiv_on_deck_2/latex.py:132: LatexWarning: attempting recovering figure sumdet\n",
      "  warnings.warn(LatexWarning(f'attempting recovering figure {image}'))\n",
      "/opt/hostedtoolcache/Python/3.9.20/x64/lib/python3.9/site-packages/arxiv_on_deck_2/latex.py:137: LatexWarning: Recovered figure sumdet as tmp_2412.06404/images/sumdet.pdf\n",
      "  warnings.warn(LatexWarning(f'Recovered figure {image} as {fname}'))\n"
     ]
    },
    {
     "name": "stdout",
     "output_type": "stream",
     "text": [
      "Found 87 bibliographic references in tmp_2412.06404/HD57625.bbl.\n",
      "Issues with the citations\n",
      "syntax error in line 609: premature end of file\n",
      "Retrieving document from  https://arxiv.org/e-print/2412.06412\n"
     ]
    },
    {
     "name": "stdout",
     "output_type": "stream",
     "text": [
      "extracting tarball to tmp_2412.06412..."
     ]
    },
    {
     "name": "stdout",
     "output_type": "stream",
     "text": [
      " done.\n"
     ]
    },
    {
     "name": "stderr",
     "output_type": "stream",
     "text": [
      "/opt/hostedtoolcache/Python/3.9.20/x64/lib/python3.9/site-packages/IPython/core/interactiveshell.py:3550: LatexWarning: Multiple tex files.\n",
      "\n",
      "  exec(code_obj, self.user_global_ns, self.user_ns)\n",
      "/opt/hostedtoolcache/Python/3.9.20/x64/lib/python3.9/site-packages/IPython/core/interactiveshell.py:3550: LatexWarning: Found documentclass in tmp_2412.06412/main.tex\n",
      "\n",
      "  exec(code_obj, self.user_global_ns, self.user_ns)\n",
      "/opt/hostedtoolcache/Python/3.9.20/x64/lib/python3.9/site-packages/arxiv_on_deck_2/latex.py:414: LatexWarning: Latex injecting: 'secs/4_discussion' from 'tmp_2412.06412/secs/4_discussion.tex'\n",
      "  warnings.warn(LatexWarning(f\"Latex injecting: '{ext}' from '{subsource}'\"))\n",
      "/opt/hostedtoolcache/Python/3.9.20/x64/lib/python3.9/site-packages/arxiv_on_deck_2/latex.py:414: LatexWarning: Latex injecting: 'secs/3_main_structure' from 'tmp_2412.06412/secs/3_main_structure.tex'\n",
      "  warnings.warn(LatexWarning(f\"Latex injecting: '{ext}' from '{subsource}'\"))\n",
      "/opt/hostedtoolcache/Python/3.9.20/x64/lib/python3.9/site-packages/arxiv_on_deck_2/latex.py:414: LatexWarning: Latex injecting: 'secs/2_near_gala' from 'tmp_2412.06412/secs/2_near_gala.tex'\n",
      "  warnings.warn(LatexWarning(f\"Latex injecting: '{ext}' from '{subsource}'\"))\n",
      "/opt/hostedtoolcache/Python/3.9.20/x64/lib/python3.9/site-packages/arxiv_on_deck_2/latex.py:414: LatexWarning: Latex injecting: 'secs/1_intro' from 'tmp_2412.06412/secs/1_intro.tex'\n",
      "  warnings.warn(LatexWarning(f\"Latex injecting: '{ext}' from '{subsource}'\"))\n",
      "/opt/hostedtoolcache/Python/3.9.20/x64/lib/python3.9/site-packages/arxiv_on_deck_2/latex.py:414: LatexWarning: Latex injecting: 'secs/0_abs' from 'tmp_2412.06412/secs/0_abs.tex'\n",
      "  warnings.warn(LatexWarning(f\"Latex injecting: '{ext}' from '{subsource}'\"))\n",
      "/opt/hostedtoolcache/Python/3.9.20/x64/lib/python3.9/site-packages/arxiv_on_deck_2/latex.py:414: LatexWarning: Latex injecting: 'secs/title_make' from 'tmp_2412.06412/secs/title_make.tex'\n",
      "  warnings.warn(LatexWarning(f\"Latex injecting: '{ext}' from '{subsource}'\"))\n",
      "/opt/hostedtoolcache/Python/3.9.20/x64/lib/python3.9/site-packages/arxiv_on_deck_2/latex.py:414: LatexWarning: Latex injecting: 'preambles/title_preamble' from 'tmp_2412.06412/preambles/title_preamble.tex'\n",
      "  warnings.warn(LatexWarning(f\"Latex injecting: '{ext}' from '{subsource}'\"))\n",
      "/opt/hostedtoolcache/Python/3.9.20/x64/lib/python3.9/site-packages/arxiv_on_deck_2/latex.py:414: LatexWarning: Latex injecting: 'preambles/symbols' from 'tmp_2412.06412/preambles/symbols.tex'\n",
      "  warnings.warn(LatexWarning(f\"Latex injecting: '{ext}' from '{subsource}'\"))\n",
      "/opt/hostedtoolcache/Python/3.9.20/x64/lib/python3.9/site-packages/arxiv_on_deck_2/latex.py:414: LatexWarning: Latex injecting: 'preambles/preamble' from 'tmp_2412.06412/preambles/preamble.tex'\n",
      "  warnings.warn(LatexWarning(f\"Latex injecting: '{ext}' from '{subsource}'\"))\n"
     ]
    }
   ],
   "source": [
    "documents = []\n",
    "failed = []\n",
    "for paper in tqdm(candidates):\n",
    "    # debug crap\n",
    "    paper['identifier'] = paper['identifier'].lower().replace('arxiv:', '').replace(r'\\n', '').strip()\n",
    "    paper_id = paper['identifier']\n",
    "    \n",
    "    folder = f'tmp_{paper_id}'\n",
    "\n",
    "    try:\n",
    "        if not os.path.isdir(folder):\n",
    "            folder = retrieve_document_source(f\"{paper_id}\", f'tmp_{paper_id}')\n",
    "        \n",
    "        try:\n",
    "            doc = latex.LatexDocument(folder, validation=validation)    \n",
    "        except AffiliationError as affilerror:\n",
    "            msg = f\"ArXiv:{paper_id:s} is not an MPIA paper... \" + str(affilerror)\n",
    "            failed.append((paper, \"affiliation error: \" + str(affilerror) ))\n",
    "            continue\n",
    "        \n",
    "        # Hack because sometimes author parsing does not work well\n",
    "        if (len(doc.authors) != len(paper['authors'])):\n",
    "            doc._authors = paper['authors']\n",
    "        else:\n",
    "            # highlight authors (FIXME: doc.highlight_authors)\n",
    "            # done on arxiv paper already\n",
    "            doc._authors = highlight_authors_in_list(\n",
    "                [get_initials(k) for k in doc.authors], \n",
    "                mpia_authors, verbose=True)\n",
    "        if (doc.abstract) in (None, ''):\n",
    "            doc._abstract = paper['abstract']\n",
    "            \n",
    "        doc.comment = (get_markdown_badge(paper_id) + \n",
    "                       \"<mark>Appeared on: \" + paper['date'] + \"</mark> - \")\n",
    "        if paper['comments']:\n",
    "            doc.comment += \" _\" + paper['comments'] + \"_\"\n",
    "        \n",
    "        full_md = doc.generate_markdown_text()\n",
    "        \n",
    "        full_md += get_markdown_qrcode(paper_id)\n",
    "        \n",
    "        # replace citations\n",
    "        try:\n",
    "            bibdata = latex_bib.LatexBib.from_doc(doc)\n",
    "            full_md = latex_bib.replace_citations(full_md, bibdata)\n",
    "        except Exception as e:\n",
    "            print(\"Issues with the citations\")\n",
    "            print(e)\n",
    "        \n",
    "        documents.append((paper_id, full_md))\n",
    "    except Exception as e:\n",
    "        warnings.warn(latex.LatexWarning(f\"{paper_id:s} did not run properly\\n\" +\n",
    "                                         str(e)\n",
    "                                        ))\n",
    "        failed.append((paper, \"latex error \" + str(e)))"
   ]
  },
  {
   "cell_type": "markdown",
   "id": "2505a25c",
   "metadata": {
    "papermill": {
     "duration": 0.004467,
     "end_time": "2024-12-10T04:13:27.791087",
     "exception": false,
     "start_time": "2024-12-10T04:13:27.786620",
     "status": "completed"
    },
    "tags": []
   },
   "source": [
    "### Export the logs\n",
    "\n",
    "Throughout, we also keep track of the logs per paper. see `logs-{today date}.md` "
   ]
  },
  {
   "cell_type": "code",
   "execution_count": 6,
   "id": "d733828a",
   "metadata": {
    "execution": {
     "iopub.execute_input": "2024-12-10T04:13:27.801282Z",
     "iopub.status.busy": "2024-12-10T04:13:27.800818Z",
     "iopub.status.idle": "2024-12-10T04:13:27.817922Z",
     "shell.execute_reply": "2024-12-10T04:13:27.817395Z"
    },
    "papermill": {
     "duration": 0.023356,
     "end_time": "2024-12-10T04:13:27.818894",
     "exception": false,
     "start_time": "2024-12-10T04:13:27.795538",
     "status": "completed"
    },
    "scrolled": false,
    "tags": []
   },
   "outputs": [
    {
     "data": {
      "text/markdown": [
       "## Successful papers"
      ],
      "text/plain": [
       "<IPython.core.display.Markdown object>"
      ]
     },
     "metadata": {},
     "output_type": "display_data"
    },
    {
     "data": {
      "text/markdown": [
       "\n",
       "|||\n",
       "|---:|:---|\n",
       "| [![arXiv](https://img.shields.io/badge/arXiv-2412.05609-b31b1b.svg)](https://arxiv.org/abs/2412.05609) | **TOI-4504: Exceptionally large Transit Timing Variations induced by two resonant warm gas giants in a three planet system**  |\n",
       "|| M. Vítková, et al. -- incl., <mark>T. Henning</mark>, <mark>J. Eberhardt</mark> |\n",
       "|*Appeared on*| *2024-12-10*|\n",
       "|*Comments*| *20 pages, 12 figures, accepted in ApJL*|\n",
       "|**Abstract**|            We present a joint analysis of TTVs and Doppler data for the transiting exoplanet system TOI-4504. TOI-4504 c is a warm Jupiter-mass planet that exhibits the largest known transit timing variations (TTVs), with a peak-to-node amplitude of $\\sim$ 2 days, the largest value ever observed, and a super-period of $\\sim$ 930 d. TOI-4504 b and c were identified in public TESS data, while the TTVs observed in TOI-4504 c, together with radial velocity (RV) data collected with FEROS, allowed us to uncover a third, non-transiting planet in this system, TOI-4504 d. We were able to detect transits of TOI-4504 b in the TESS data with a period of 2.4261$\\pm 0.0001$ days and derive a radius of 2.69$\\pm 0.19$ R$_{\\oplus}$. The RV scatter of TOI-4504 was too large to constrain the mass of TOI-4504 b, but the RV signals of TOI-4504 c \\& d were sufficiently large to measure their masses. The TTV+RV dynamical model we apply confirms TOI-4504 c as a warm Jupiter planet with an osculating period of 82.54$\\pm 0.02$ d, mass of 3.77$\\pm 0.18$ M$_{\\rm J}$ and a radius of 0.99$\\pm 0.05$ R$_{\\rm J}$, while the non-transiting planet TOI-4504 d, has an orbital period of 40.56$\\pm 0.04$ days and mass of 1.42$_{-0.06}^{+0.07}$ M$_{\\rm J}$. We present the discovery of a system with three exoplanets: a hot sub-Neptune and two warm Jupiter planets. The gas giant pair is stable and likely locked in a first-order 2:1 mean-motion resonance (MMR). The TOI-4504 system is an important addition to MMR pairs, whose increasing occurrence supports a smooth migration into a resonant configuration during the protoplanetary disk phase.         |"
      ],
      "text/plain": [
       "[2412.05609] TOI-4504: Exceptionally large Transit Timing Variations induced by two resonant warm gas giants in a three planet system\n",
       "\tM. Vítková, et al. -- incl., <mark>T. Henning</mark>, <mark>J. Eberhardt</mark>"
      ]
     },
     "metadata": {},
     "output_type": "display_data"
    },
    {
     "data": {
      "text/markdown": [
       "\n",
       "|||\n",
       "|---:|:---|\n",
       "| [![arXiv](https://img.shields.io/badge/arXiv-2412.06277-b31b1b.svg)](https://arxiv.org/abs/2412.06277) | **NLTE abundances of Eu for a sample of metal-poor stars in the Galactic Halo and Metal-poor Disk with 1D and <3D> models**  |\n",
       "|| Y. Guo, et al. -- incl., <mark>N. Storm</mark>, <mark>M. Bergemann</mark> |\n",
       "|*Appeared on*| *2024-12-10*|\n",
       "|*Comments*| **|\n",
       "|**Abstract**|            Accurate measurements of europium abundances in cool stars are essential for an enhanced understanding of the r-process mechanisms. We measure the abundance of Eu in solar spectra and a sample of metal-poor stars in the Galactic halo and metal-poor disk, with the metallicities ranging from \\GG{$-2.4$} to $-0.5$ dex, using non-local thermodynamic equilibrium (NLTE) line formation. We compare these measurements with Galactic Chemical Evolution (GCE) models to \\GG{explore the impact of the NLTE corrections on the contribution of r-process site in Galactic chemical evolution. In this work, we use NLTE line formation, as well as one-dimensional (1D) hydrostatic and spatial averages of 3D hydrodynamical ($<$3D$>$) model atmospheres to measure the abundance of Eu based on both the Eu II 4129 Å and Eu II 6645 Å lines for solar spectra and metal-poor stars. We find that \\GG{for Eu II 4129 Å line the NLTE modelling leads to higher (0.04 dex) solar Eu abundance in 1D and higher (0.07 dex) in \\GG{$<$3D$>$} NLTE while} NLTE modelling leads to higher (0.01 dex) solar Eu abundance in 1D and lower (0.03 dex) in \\GG{$<$3D$>$} NLTE for Eu II 6645 Å line. Although the NLTE corrections for the Eu II $\\lambda$ 4129 Å and Eu II $\\lambda$ 6645 Å lines are opposite, the discrepancy between the abundances derived from these individual lines reduces after applying NLTE corrections, highlighting the critical role of NLTE abundance determinations. By comparing these measurements with Galactic chemical evolution (GCE) models, we find that the \\G{amount of NLTE correction does not require significant change of the parameters for Eu production} in the GCE models.         |"
      ],
      "text/plain": [
       "[2412.06277] NLTE abundances of Eu for a sample of metal-poor stars in the Galactic Halo and Metal-poor Disk with 1D and <3D> models\n",
       "\tY. Guo, et al. -- incl., <mark>N. Storm</mark>, <mark>M. Bergemann</mark>"
      ]
     },
     "metadata": {},
     "output_type": "display_data"
    },
    {
     "data": {
      "text/markdown": [
       "\n",
       "|||\n",
       "|---:|:---|\n",
       "| [![arXiv](https://img.shields.io/badge/arXiv-2412.06404-b31b1b.svg)](https://arxiv.org/abs/2412.06404) | **A multi-technique detection of an eccentric giant planet around accelerating star HD 57625**  |\n",
       "|| D. Barbato, et al. -- incl., <mark>G. Chauvin</mark>, <mark>T. Henning</mark>, <mark>L. Mohr</mark> |\n",
       "|*Appeared on*| *2024-12-10*|\n",
       "|*Comments*| *12 pages, 8 figures, accepted for publication in A&A*|\n",
       "|**Abstract**|            The synergy between different detection methods is a key asset in exoplanetology, allowing for both precise characterization of detected exoplanets and robust constraints even in the case of non-detection. Recently, the interplay between imaging, radial velocities and astrometry has produced significant advancements in exoplanetary science. We report a first result of an ongoing survey performed with SHARK-NIR, the new high-contrast near-infrared imaging camera at the Large Binocular Telescope, in parallel with LBTI/LMIRCam in order to detect planetary companions around stars with significant proper motion anomaly. In this work we focus on HD 57625, a F8 star for which we determine a $4.8^{+3.7}_{-2.9}$Ga age, exhibiting significant astrometric acceleration and for which archival radial velocities hint at the presence of a previously undetected massive long-period companion. We analyse the imaging data we collected with SHARK-NIR and LMIRCam in synergy with the available public SOPHIE radial velocity time series and Hipparcos-Gaia proper motion anomaly. With this joint multi-technique analysis, we aim at characterizing the companion responsible for the astrometric and radial velocity signals. The imaging observations result in a non-detection, indicating the companion to be in the substellar regime. This is confirmed by the synergic analysis of archival radial velocity and astrometric measurements resulting in the detection of HD 57625 b, a ${8.43}_{-0.91}^{+1.10}$M$_{\\rm Jup}$ planetary companion with an orbital separation of ${5.70}_{-0.13}^{+0.14}$au and ${0.52}_{-0.03}^{+0.04}$ eccentricity. HD 57625 b joins the small but growing population of giant planets in outer orbits with true mass determination provided by the synergic usage of multiple detection methods, proving once again the importance of multi-technique analysis in providing robust characterization of planetary companions.         |"
      ],
      "text/plain": [
       "[2412.06404] A multi-technique detection of an eccentric giant planet around accelerating star HD 57625\n",
       "\tD. Barbato, et al. -- incl., <mark>G. Chauvin</mark>, <mark>T. Henning</mark>, <mark>L. Mohr</mark>"
      ]
     },
     "metadata": {},
     "output_type": "display_data"
    },
    {
     "data": {
      "text/markdown": [
       "## Failed papers"
      ],
      "text/plain": [
       "<IPython.core.display.Markdown object>"
      ]
     },
     "metadata": {},
     "output_type": "display_data"
    },
    {
     "data": {
      "text/markdown": [
       "\n",
       "|||\n",
       "|---:|:---|\n",
       "| [![arXiv](https://img.shields.io/badge/arXiv-2412.05423-b31b1b.svg)](https://arxiv.org/abs/2412.05423) | **A joint effort to discover and characterize two resonant mini Neptunes around TOI-1803 with TESS, HARPS-N and CHEOPS**  |\n",
       "|| T. Zingales, et al. -- incl., <mark>I. J. M. Crossfield</mark> |\n",
       "|*Appeared on*| *2024-12-10*|\n",
       "|*Comments*| *26 Pages, 21 Figures Accepted for Publication in Astronomy & Astrophysics*|\n",
       "|**Abstract**|            We present the discovery of two mini Neptunes near a 2:1 orbital resonance configuration orbiting the K0 star TOI-1803. We describe their orbital architecture in detail and suggest some possible formation and evolution scenarios. Using CHEOPS, TESS, and HARPS-N datasets we can estimate the radius and the mass of both planets. We used a multidimensional Gaussian Process with a quasi-periodic kernel to disentangle the planetary components from the stellar activity in the HARPS-N dataset. We performed dynamical modeling to explain the orbital configuration and performed planetary formation and evolution simulations. For the least dense planet, we define possible atmospheric characterization scenarios with simulated JWST observations. TOI-1803 b and TOI-1803 c have orbital periods of $\\sim$6.3 and $\\sim$12.9 days, respectively, residing in close proximity to a 2:1 orbital resonance. Ground-based photometric follow-up observations revealed significant transit timing variations (TTV) with an amplitude of $\\sim$10 min and $\\sim$40 min, respectively, for planet -b and -c. With the masses computed from the radial velocities data set, we obtained a density of (0.39$\\pm$0.10) $\\rho_{earth}$ and (0.076$\\pm$0.038) $\\rho_{earth}$ for planet -b and -c, respectively. TOI-1803 c is among the least dense mini Neptunes currently known, and due to its inflated atmosphere, it is a suitable target for transmission spectroscopy with JWST. We report the discovery of two mini Neptunes close to a 2:1 orbital resonance. The detection of significant TTVs from ground-based photometry opens scenarios for a more precise mass determination. TOI-1803 c is one of the least dense mini Neptune known so far, and it is of great interest among the scientific community since it could constrain our formation scenarios.         |\n",
       "|<p style=\"color:green\"> **ERROR** </p>| <p style=\"color:green\">affiliation error: mpia.affiliation_verifications: '69117' keyword not found.</p> |"
      ],
      "text/plain": [
       "<IPython.core.display.Markdown object>"
      ]
     },
     "metadata": {},
     "output_type": "display_data"
    },
    {
     "data": {
      "text/markdown": [
       "\n",
       "|||\n",
       "|---:|:---|\n",
       "| [![arXiv](https://img.shields.io/badge/arXiv-2412.06175-b31b1b.svg)](https://arxiv.org/abs/2412.06175) | **Classification of Periodic Variable Stars from TESS**  |\n",
       "|| X. Gao, X. Chen, S. Wang, <mark>J. Liu</mark> |\n",
       "|*Appeared on*| *2024-12-10*|\n",
       "|*Comments*| *29 pages, 18 figures, accepted for publication in ApJS*|\n",
       "|**Abstract**|            The number of known periodic variable stars has increased rapidly in recent years. As an all-sky transit survey, the Transiting Exoplanet Survey Satellite (TESS) plays an important role in detecting low-amplitude variable stars. Using 2-minute cadence data from the first 67 sectors of TESS, we find 72,505 periodic variable stars. We used 19 parameters including period, physical parameters, and light curve (LC) parameters to classify periodic variable stars into 12 sub-types using random forest method. Pulsating variable stars and eclipsing binaries are distinguished mainly by period, LC parameters and physical parameters. GCAS, ROT, UV, YSO are distinguished mainly by period and physical parameters. Compared to previously published catalogs, 63,106 periodic variable stars (87.0$\\%$) are newly classified, including 13 Cepheids, 27 RR Lyrae stars, $\\sim$4,600 $\\delta$ Scuti variable stars, $\\sim$1,600 eclipsing binaries, $\\sim$34,000 rotational variable stars, and about 23,000 other types of variable stars. The purity of eclipsing binaries and pulsation variable stars ranges from 94.2$\\%$ to 99.4$\\%$ when compared to variable star catalogs of Gaia DR3 and ZTF DR2. The purity of ROT is relatively low at 83.3$\\%$. The increasing number of variables stars is helpful to investigate the structure of the Milky Way, stellar physics, and chromospheric activity.         |\n",
       "|<p style=\"color:green\"> **ERROR** </p>| <p style=\"color:green\">affiliation error: mpia.affiliation_verifications: 'Heidelberg' keyword not found.</p> |"
      ],
      "text/plain": [
       "<IPython.core.display.Markdown object>"
      ]
     },
     "metadata": {},
     "output_type": "display_data"
    },
    {
     "data": {
      "text/markdown": [
       "\n",
       "|||\n",
       "|---:|:---|\n",
       "| [![arXiv](https://img.shields.io/badge/arXiv-2412.06412-b31b1b.svg)](https://arxiv.org/abs/2412.06412) | **StarWhisper Telescope: Agent-Based Observation Assistant System to Approach AI Astrophysicist**  |\n",
       "|| C. Wang, et al. -- incl., <mark>J. Liu</mark> |\n",
       "|*Appeared on*| *2024-12-10*|\n",
       "|*Comments*| *21 pages, 18 figures*|\n",
       "|**Abstract**|            With the rapid advancements in Large Language Models (LLMs), LLM-based agents have introduced convenient and user-friendly methods for leveraging tools across various domains. In the field of astronomical observation, the construction of new telescopes has significantly increased astronomers' workload. Deploying LLM-powered agents can effectively alleviate this burden and reduce the costs associated with training personnel. Within the Nearby Galaxy Supernovae Survey (NGSS) project, which encompasses eight telescopes across three observation sites, aiming to find the transients from the galaxies in 50 mpc, we have developed the \\textbf{StarWhisper Telescope System} to manage the entire observation process. This system automates tasks such as generating observation lists, conducting observations, analyzing data, and providing feedback to the observer. Observation lists are customized for different sites and strategies to ensure comprehensive coverage of celestial objects. After manual verification, these lists are uploaded to the telescopes via the agents in the system, which initiates observations upon neutral language. The observed images are analyzed in real-time, and the transients are promptly communicated to the observer. The agent modifies them into a real-time follow-up observation proposal and send to the Xinglong observatory group chat, then add them to the next-day observation lists. Additionally, the integration of AI agents within the system provides online accessibility, saving astronomers' time and encouraging greater participation from amateur astronomers in the NGSS project.         |\n",
       "|<p style=\"color:green\"> **ERROR** </p>| <p style=\"color:green\">affiliation error: mpia.affiliation_verifications: 'Heidelberg' keyword not found.</p> |"
      ],
      "text/plain": [
       "<IPython.core.display.Markdown object>"
      ]
     },
     "metadata": {},
     "output_type": "display_data"
    }
   ],
   "source": [
    "import datetime\n",
    "today = str(datetime.date.today())\n",
    "logfile = f\"_build/html/logs/log-{today}.md\"\n",
    "\n",
    "\n",
    "with open(logfile, 'w') as logs:\n",
    "    # Success\n",
    "    logs.write(f'# Arxiv on Deck 2: Logs - {today}\\n\\n')\n",
    "    logs.write(\"\"\"* Arxiv had {0:,d} new papers\\n\"\"\".format(len(new_papers)))\n",
    "    logs.write(\"\"\"    * {0:,d} with possible author matches\\n\\n\"\"\".format(len(candidates)))\n",
    "    logs.write(\"## Sucessful papers\\n\\n\")\n",
    "    display(Markdown(\"## Successful papers\"))\n",
    "    success = [k[0] for k in documents]\n",
    "    for candid in candidates:\n",
    "        if candid['identifier'].split(':')[-1] in success:\n",
    "            display(candid)\n",
    "            logs.write(candid.generate_markdown_text() + '\\n\\n')\n",
    "\n",
    "    ## failed\n",
    "    logs.write(\"## Failed papers\\n\\n\")\n",
    "    display(Markdown(\"## Failed papers\"))\n",
    "    failed = sorted(failed, key=lambda x: x[1])\n",
    "    current_reason = \"\"\n",
    "    for paper, reason in failed:\n",
    "        if 'affiliation' in reason:\n",
    "            color = 'green'\n",
    "        else:\n",
    "            color = 'red'\n",
    "        data = Markdown(\n",
    "                paper.generate_markdown_text() + \n",
    "                f'\\n|<p style=\"color:{color:s}\"> **ERROR** </p>| <p style=\"color:{color:s}\">{reason:s}</p> |'\n",
    "               )\n",
    "        if reason != current_reason:\n",
    "            logs.write(f'### {reason:s} \\n\\n')\n",
    "            current_reason = reason\n",
    "        logs.write(data.data + '\\n\\n')\n",
    "        \n",
    "        # only display here the important errors (all in logs)\n",
    "        # if color in ('red',):\n",
    "        display(data)"
   ]
  },
  {
   "cell_type": "markdown",
   "id": "472d20ee",
   "metadata": {
    "papermill": {
     "duration": 0.005303,
     "end_time": "2024-12-10T04:13:27.829560",
     "exception": false,
     "start_time": "2024-12-10T04:13:27.824257",
     "status": "completed"
    },
    "tags": []
   },
   "source": [
    "## Export documents\n",
    "\n",
    "We now write the .md files and export relevant images"
   ]
  },
  {
   "cell_type": "code",
   "execution_count": 7,
   "id": "d426aed9",
   "metadata": {
    "execution": {
     "iopub.execute_input": "2024-12-10T04:13:27.841159Z",
     "iopub.status.busy": "2024-12-10T04:13:27.840617Z",
     "iopub.status.idle": "2024-12-10T04:13:27.847450Z",
     "shell.execute_reply": "2024-12-10T04:13:27.846918Z"
    },
    "papermill": {
     "duration": 0.013575,
     "end_time": "2024-12-10T04:13:27.848342",
     "exception": false,
     "start_time": "2024-12-10T04:13:27.834767",
     "status": "completed"
    },
    "tags": []
   },
   "outputs": [],
   "source": [
    "def export_markdown_summary(md: str, md_fname:str, directory: str):\n",
    "    \"\"\"Export MD document and associated relevant images\"\"\"\n",
    "    import os\n",
    "    import shutil\n",
    "    import re\n",
    "\n",
    "    if (os.path.exists(directory) and not os.path.isdir(directory)):\n",
    "        raise RuntimeError(f\"a non-directory file exists with name {directory:s}\")\n",
    "\n",
    "    if (not os.path.exists(directory)):\n",
    "        print(f\"creating directory {directory:s}\")\n",
    "        os.mkdir(directory)\n",
    "\n",
    "    fig_fnames = (re.compile(r'\\[Fig.*\\]\\((.*)\\)').findall(md) + \n",
    "                  re.compile(r'\\<img src=\"([^>\\s]*)\"[^>]*/>').findall(md))\n",
    "    print(\"found figures\", fig_fnames)\n",
    "    for fname in fig_fnames:\n",
    "        if 'http' in fname:\n",
    "            # No need to copy online figures\n",
    "            continue\n",
    "        if not os.path.exists(fname):\n",
    "            print(\"file not found\", fname)\n",
    "            continue\n",
    "        print(\"copying \", fname, \"to\", directory)\n",
    "        destdir = os.path.join(directory, os.path.dirname(fname))\n",
    "        destfname = os.path.join(destdir, os.path.basename(fname))\n",
    "        try:\n",
    "            os.makedirs(destdir)\n",
    "        except FileExistsError:\n",
    "            pass\n",
    "        shutil.copy(fname, destfname)\n",
    "    with open(os.path.join(directory, md_fname), 'w') as fout:\n",
    "        fout.write(md)\n",
    "    print(\"exported in \", os.path.join(directory, md_fname))\n",
    "    [print(\"    + \" + os.path.join(directory,fk)) for fk in fig_fnames]"
   ]
  },
  {
   "cell_type": "code",
   "execution_count": 8,
   "id": "014d04a4",
   "metadata": {
    "execution": {
     "iopub.execute_input": "2024-12-10T04:13:27.860226Z",
     "iopub.status.busy": "2024-12-10T04:13:27.859696Z",
     "iopub.status.idle": "2024-12-10T04:13:27.870128Z",
     "shell.execute_reply": "2024-12-10T04:13:27.869617Z"
    },
    "papermill": {
     "duration": 0.017337,
     "end_time": "2024-12-10T04:13:27.871119",
     "exception": false,
     "start_time": "2024-12-10T04:13:27.853782",
     "status": "completed"
    },
    "tags": []
   },
   "outputs": [
    {
     "name": "stdout",
     "output_type": "stream",
     "text": [
      "found figures ['tmp_2412.05609/./GLS_TOI-4504_FEROS_in_Per_2_2.png', 'tmp_2412.05609/./holczer.png', 'tmp_2412.05609/./TPF_Gaia_TIC349972412_S28.png']\n",
      "copying  tmp_2412.05609/./GLS_TOI-4504_FEROS_in_Per_2_2.png to _build/html/\n",
      "copying  tmp_2412.05609/./holczer.png to _build/html/\n",
      "copying  tmp_2412.05609/./TPF_Gaia_TIC349972412_S28.png to _build/html/\n",
      "exported in  _build/html/2412.05609.md\n",
      "    + _build/html/tmp_2412.05609/./GLS_TOI-4504_FEROS_in_Per_2_2.png\n",
      "    + _build/html/tmp_2412.05609/./holczer.png\n",
      "    + _build/html/tmp_2412.05609/./TPF_Gaia_TIC349972412_S28.png\n",
      "found figures ['tmp_2412.06277/figures/./Eubanchmark_sun_spectrum.png', 'tmp_2412.06277/figures/./NLTE_results.png', 'tmp_2412.06277/figures/./EuII_grotrian_diagram4129.png']\n",
      "copying  tmp_2412.06277/figures/./Eubanchmark_sun_spectrum.png to _build/html/\n",
      "copying  tmp_2412.06277/figures/./NLTE_results.png to _build/html/\n",
      "copying  tmp_2412.06277/figures/./EuII_grotrian_diagram4129.png to _build/html/\n",
      "exported in  _build/html/2412.06277.md\n",
      "    + _build/html/tmp_2412.06277/figures/./Eubanchmark_sun_spectrum.png\n",
      "    + _build/html/tmp_2412.06277/figures/./NLTE_results.png\n",
      "    + _build/html/tmp_2412.06277/figures/./EuII_grotrian_diagram4129.png\n",
      "found figures ['tmp_2412.06404/images/pma.png', 'tmp_2412.06404/images/contrast.png', 'tmp_2412.06404/images/rvgls.png']\n",
      "copying  tmp_2412.06404/images/pma.png to _build/html/\n",
      "copying  tmp_2412.06404/images/contrast.png to _build/html/\n",
      "copying  tmp_2412.06404/images/rvgls.png to _build/html/\n",
      "exported in  _build/html/2412.06404.md\n",
      "    + _build/html/tmp_2412.06404/images/pma.png\n",
      "    + _build/html/tmp_2412.06404/images/contrast.png\n",
      "    + _build/html/tmp_2412.06404/images/rvgls.png\n"
     ]
    }
   ],
   "source": [
    "for paper_id, md in documents:\n",
    "    export_markdown_summary(md, f\"{paper_id:s}.md\", '_build/html/')"
   ]
  },
  {
   "cell_type": "markdown",
   "id": "f087a0a7",
   "metadata": {
    "papermill": {
     "duration": 0.005378,
     "end_time": "2024-12-10T04:13:27.882003",
     "exception": false,
     "start_time": "2024-12-10T04:13:27.876625",
     "status": "completed"
    },
    "tags": []
   },
   "source": [
    "## Display the papers\n",
    "\n",
    "Not necessary but allows for a quick check."
   ]
  },
  {
   "cell_type": "code",
   "execution_count": 9,
   "id": "fd25f625",
   "metadata": {
    "execution": {
     "iopub.execute_input": "2024-12-10T04:13:27.893994Z",
     "iopub.status.busy": "2024-12-10T04:13:27.893526Z",
     "iopub.status.idle": "2024-12-10T04:13:27.900340Z",
     "shell.execute_reply": "2024-12-10T04:13:27.899794Z"
    },
    "papermill": {
     "duration": 0.013854,
     "end_time": "2024-12-10T04:13:27.901367",
     "exception": false,
     "start_time": "2024-12-10T04:13:27.887513",
     "status": "completed"
    },
    "scrolled": false,
    "tags": []
   },
   "outputs": [
    {
     "data": {
      "text/markdown": [
       "<div class=\"macros\" style=\"visibility:hidden;\">\n",
       "$\\newcommand{\\ensuremath}{}$\n",
       "$\\newcommand{\\xspace}{}$\n",
       "$\\newcommand{\\object}[1]{\\texttt{#1}}$\n",
       "$\\newcommand{\\farcs}{{.}''}$\n",
       "$\\newcommand{\\farcm}{{.}'}$\n",
       "$\\newcommand{\\arcsec}{''}$\n",
       "$\\newcommand{\\arcmin}{'}$\n",
       "$\\newcommand{\\ion}[2]{#1#2}$\n",
       "$\\newcommand{\\textsc}[1]{\\textrm{#1}}$\n",
       "$\\newcommand{\\hl}[1]{\\textrm{#1}}$\n",
       "$\\newcommand{\\footnote}[1]{}$\n",
       "$\\newcommand{\\vdag}{(v)^\\dagger}$\n",
       "$\\newcommand$\n",
       "$\\newcommand$\n",
       "$\\newcommand{\\autoref}$\n",
       "$\\newcommand{\\thetable}{A\\arabic{table}}$\n",
       "$\\newcommand{\\thefigure}{A\\arabic{figure}}$\n",
       "$\\newcommand{\\equationautorefname}{Eq.}$\n",
       "$\\newcommand{\\figureautorefname}{Fig.}$\n",
       "$\\newcommand{\\sectionautorefname}{Sect.}$\n",
       "$\\newcommand{\\subsectionautorefname}{Sect.}$\n",
       "$\\newcommand{\\subsubsectionautorefname}{Sect.}$</div>\n",
       "\n",
       "\n",
       "\n",
       "<div id=\"title\">\n",
       "\n",
       "# TOI-4504: Exceptionallylarge Transit Timing Variations \\ induced by two resonant warm gas giants in a three planet system.\n",
       "\n",
       "</div>\n",
       "<div id=\"comments\">\n",
       "\n",
       "[![arXiv](https://img.shields.io/badge/arXiv-2412.05609-b31b1b.svg)](https://arxiv.org/abs/2412.05609)<mark>Appeared on: 2024-12-10</mark> -  _20 pages, 12 figures, accepted in ApJL_\n",
       "\n",
       "</div>\n",
       "<div id=\"authors\">\n",
       "\n",
       "M. Vítková, et al. -- incl., <mark>T. Henning</mark>, <mark>J. Eberhardt</mark>\n",
       "\n",
       "</div>\n",
       "<div id=\"abstract\">\n",
       "\n",
       "**Abstract:** We present a joint analysis of TTVs and Doppler data for the transiting exoplanet system TOI-4504. TOI-4504 c is a warm Jupiter-mass planet that exhibits the largest known transit timing variations (TTVs), with a peak-to-node amplitude of $\\sim$ 2 days, the largest value ever observed, and a super-period of $\\sim$ 930 d. TOI-4504 b and c were identified in public TESS data, while the TTVs observed in TOI-4504 c, together with radial velocity (RV) data collected with FEROS, allowed us to uncover a third, non-transiting planet in this system, TOI-4504 d. We were able to detect transits of TOI-4504 b in the TESS data with a period of 2.4261 $\\pm 0.0001$ days and derive a radius of 2.69 $\\pm 0.19$ R $_{\\oplus}$ . The RV scatter of TOI-4504 was too large to constrain the mass of TOI-4504 b, but the RV signals of TOI-4504 c \\& d were sufficiently large to measure their masses. The TTV+RV dynamical model we apply confirms TOI-4504 c as a warm Jupiter planet with an osculating period of 82.54 $\\pm 0.02$ d, mass of 3.77 $\\pm 0.18$ M $_{\\rm J}$ and a radius of 0.99 $\\pm 0.05$ R $_{\\rm J}$ , while the non-transiting planet TOI-4504 d, has an orbital period of 40.56 $\\pm 0.04$ days and mass of 1.42 $_{-0.06}^{+0.07}$ M $_{\\rm J}$ . We present the discovery of a system with three exoplanets: a hot sub-Neptune and two warm Jupiter planets. The gas giant pair is stable and likely locked in a first-order 2:1 mean-motion resonance (MMR). The TOI-4504 system is an important addition to MMR pairs, whose increasing occurrence supports a smooth migration into a resonant configuration during the protoplanetary disk phase.\n",
       "\n",
       "</div>\n",
       "\n",
       "<div id=\"div_fig1\">\n",
       "\n",
       "<img src=\"tmp_2412.05609/./GLS_TOI-4504_FEROS_in_Per_2_2.png\" alt=\"Fig5\" width=\"100%\"/>\n",
       "\n",
       "**Figure 5. -** GLS power spectrum of FEROS spectroscopic products of TOI-4504. From top to bottom panels, as labeled, RVs used in this work, RV residuals after subtracting the dominant signal of TOI-4504 c at 84 d, the final the best-fit TTV+RV model residuals, BIS, $\\rm{H}_{\\alpha}$, He I  Na II, and $\\log(R'_{HK})$ activity indicators, respectively. False alarm probability levels of 10\\%, 1\\%, and 0.1\\% are marked with dashed lines, respectively. The red and magenta vertical lines indicate the best-fit periods of the transiting Jovian planet TOI-4504 c, and the non-transiting TOI-4504 d, respectively.  (*activity*)\n",
       "\n",
       "</div>\n",
       "<div id=\"div_fig2\">\n",
       "\n",
       "<img src=\"tmp_2412.05609/./holczer.png\" alt=\"Fig8\" width=\"100%\"/>\n",
       "\n",
       "**Figure 8. -** Position of TOI-4504 c, other planets with significant TTVs and planets from [Holczer, Mazeh and Nachmani (2016)]() in period-TTV amplitude and period-TTV amplitude and period ratio diagram. TTV amplitude is a peak-to-node amplitude of cosinus fit, for Kepler-90 g it is the maximum observed difference between the time lapsed between consecutive transits. (*holczer*)\n",
       "\n",
       "</div>\n",
       "<div id=\"div_fig3\">\n",
       "\n",
       "<img src=\"tmp_2412.05609/./TPF_Gaia_TIC349972412_S28.png\" alt=\"Fig1\" width=\"100%\"/>\n",
       "\n",
       "**Figure 1. -** Target Pixel Files in Sector 28 for TOI-4504 obtained with {$\\textsc$ tpfplotter}. The shape of the aperture mask used to extract the photometry is marked with orange. Red dots indicate the sources of the Gaia DR3 catalogue in the field. TOI-4504 is marked with a white cross. (*TPF*)\n",
       "\n",
       "</div><div id=\"qrcode\"><img src=https://api.qrserver.com/v1/create-qr-code/?size=100x100&data=\"https://arxiv.org/abs/2412.05609\"></div>"
      ],
      "text/plain": [
       "<IPython.core.display.Markdown object>"
      ]
     },
     "metadata": {},
     "output_type": "display_data"
    },
    {
     "data": {
      "text/markdown": [
       "<div class=\"macros\" style=\"visibility:hidden;\">\n",
       "$\\newcommand{\\ensuremath}{}$\n",
       "$\\newcommand{\\xspace}{}$\n",
       "$\\newcommand{\\object}[1]{\\texttt{#1}}$\n",
       "$\\newcommand{\\farcs}{{.}''}$\n",
       "$\\newcommand{\\farcm}{{.}'}$\n",
       "$\\newcommand{\\arcsec}{''}$\n",
       "$\\newcommand{\\arcmin}{'}$\n",
       "$\\newcommand{\\ion}[2]{#1#2}$\n",
       "$\\newcommand{\\textsc}[1]{\\textrm{#1}}$\n",
       "$\\newcommand{\\hl}[1]{\\textrm{#1}}$\n",
       "$\\newcommand{\\footnote}[1]{}$\n",
       "$\\newcommand{\\GG}[1]{\\textcolor{black}{#1}}$\n",
       "$\\newcommand{\\G}[1]{\\textcolor{black}{#1}}$\n",
       "$\\newcommand{\\jl}[1]{\\textcolor{orange}{#1}}$</div>\n",
       "\n",
       "\n",
       "\n",
       "<div id=\"title\">\n",
       "\n",
       "# NLTE abundances of Eu for a sample of metal-poor stars in the Galactic Halo and Metal-poor Disk with 1D and $<$3D$>$ models\n",
       "\n",
       "</div>\n",
       "<div id=\"comments\">\n",
       "\n",
       "[![arXiv](https://img.shields.io/badge/arXiv-2412.06277-b31b1b.svg)](https://arxiv.org/abs/2412.06277)<mark>Appeared on: 2024-12-10</mark> - \n",
       "\n",
       "</div>\n",
       "<div id=\"authors\">\n",
       "\n",
       "Y. Guo, et al. -- incl., <mark>N. Storm</mark>, <mark>M. Bergemann</mark>\n",
       "\n",
       "</div>\n",
       "<div id=\"abstract\">\n",
       "\n",
       "**Abstract:** As a key to chemical evolutionary studies, the distribution of elements in galactic provides a wealth of information to understand the individual star formation histories of galaxies.The r-process is a complex nucleosynthesis process, and the origin of r-process elements is heavily debated.Europium (Eu) is viewed as an almost pure r-process element.Accurate measurements of europium abundances in cool stars are essential for an enhanced understanding of the r-process mechanisms. We measure the abundance of Eu in solar spectra and a sample of metal-poor stars in the Galactic halo and metal-poor disk, with the metallicities ranging from $\\GG{$-2.4$}$ to $-0.5$ dex, using non-local thermodynamic equilibrium (NLTE) line formation. We compare these measurements with Galactic Chemical Evolution (GCE) models to $\\GG{explore the impact of the NLTE corrections on the contribution of r-process site in Galactic chemical evolution.}$ In this work, we use NLTE line formation, as well as one-dimensional (1D) hydrostatic and spatial averages of 3D hydrodynamical ( $<$ 3D $>$ ) model atmospheres to measure the abundance of Eu based on both the Eu II 4129 Å and Eu II 6645 Å lines for solar spectra and metal-poor stars. We find that $\\GG{for Eu II 4129 Å line the NLTE modelling leads to higher (0.04 dex) solar Eu abundance in 1D and higher (0.07 dex) in \\GG{$<$3D$>$} NLTE while}$ NLTE modelling leads to higher (0.01 dex) solar Eu abundance in 1D and lower (0.03 dex) in $\\GG{$<$3D$>$}$ NLTE for Eu II 6645 Å line. $\\GG{Although the NLTE corrections for the Eu II $\\lambda$ 4129 Å and Eu II $\\lambda$ 6645 Å lines are opposite, the discrepancy between the abundances derived from these individual lines reduces after applying NLTE corrections, highlighting the critical role of NLTE abundance determinations.}$ By comparing these measurements with Galactic chemical evolution (GCE) models, we find that the $\\G{amount of NLTE correction does not require significant change of the parameters for Eu production}$ in the GCE models.\n",
       "\n",
       "</div>\n",
       "\n",
       "<div id=\"div_fig1\">\n",
       "\n",
       "<img src=\"tmp_2412.06277/figures/./Eubanchmark_sun_spectrum.png\" alt=\"Fig3\" width=\"100%\"/>\n",
       "\n",
       "**Figure 3. -** The best fitting synthetic spectra of sun for $\\GG${$\\lambda$ 4129Å (left panels)} and Eu II $\\lambda$ 6645Å (right panels) generated from TSFitPy. The red line and blue line represent the synthetic spectra based on 1D and $<$3D$>$ NLTE, respectively. The observed data are shown as black dots. (*fig: Eufit_sun_spectrum*)\n",
       "\n",
       "</div>\n",
       "<div id=\"div_fig2\">\n",
       "\n",
       "<img src=\"tmp_2412.06277/figures/./NLTE_results.png\" alt=\"Fig8\" width=\"100%\"/>\n",
       "\n",
       "**Figure 8. -** The trend of [Eu/Fe] based on the best fitting results of 1D NLTE and LTE.\n",
       "    $\\GG${The green squares and blue dots represent the averaged NLTE and LTE [Eu/Fe] ratios across the selected bins.\n",
       "    The yellow triangles and cyan circles represent the NLTE and LTE [Eu/Fe] for each stars.\n",
       "    The purple dots represent 1D LTE Eu abundance measurements of 1274 metal-rich stars from Gaia-ESO survey.\n",
       "    }\n",
       "    The dashed and solid lines represent the GCE models with different fraction of massive stars that end up with MRSN instead of CCSN.  (*fig: Eu_trend*)\n",
       "\n",
       "</div>\n",
       "<div id=\"div_fig3\">\n",
       "\n",
       "<img src=\"tmp_2412.06277/figures/./EuII_grotrian_diagram4129.png\" alt=\"Fig1\" width=\"100%\"/>\n",
       "\n",
       "**Figure 1. -** Grotrian diagram of the $\\GG${Eu II model atom}. The model atom are taken from the $\\GG${\\cite{2024A&AStorm}}. The $\\GG${blue} and red lines represent the transitions giving rise to the $\\GG${Eu II 4129 Å } and 6645 Å lines, respectively. (*fig: Grotrian diagrams*)\n",
       "\n",
       "</div><div id=\"qrcode\"><img src=https://api.qrserver.com/v1/create-qr-code/?size=100x100&data=\"https://arxiv.org/abs/2412.06277\"></div>"
      ],
      "text/plain": [
       "<IPython.core.display.Markdown object>"
      ]
     },
     "metadata": {},
     "output_type": "display_data"
    },
    {
     "data": {
      "text/markdown": [
       "<div class=\"macros\" style=\"visibility:hidden;\">\n",
       "$\\newcommand{\\ensuremath}{}$\n",
       "$\\newcommand{\\xspace}{}$\n",
       "$\\newcommand{\\object}[1]{\\texttt{#1}}$\n",
       "$\\newcommand{\\farcs}{{.}''}$\n",
       "$\\newcommand{\\farcm}{{.}'}$\n",
       "$\\newcommand{\\arcsec}{''}$\n",
       "$\\newcommand{\\arcmin}{'}$\n",
       "$\\newcommand{\\ion}[2]{#1#2}$\n",
       "$\\newcommand{\\textsc}[1]{\\textrm{#1}}$\n",
       "$\\newcommand{\\hl}[1]{\\textrm{#1}}$\n",
       "$\\newcommand{\\footnote}[1]{}$\n",
       "$\\newcommand{\\gcm}{\\ensuremath{ \\rm{g} \\rm{cm}^{-3}}\\xspace}$\n",
       "$\\newcommand{\\yr}{\\ensuremath{ \\rm a}\\xspace}$\n",
       "$\\newcommand{\\pc}{\\ensuremath{ \\rm pc}\\xspace}$\n",
       "$\\newcommand{\\Lsun}{\\ensuremath{ {\\rm L}_{\\odot}}\\xspace}$\n",
       "$\\newcommand{\\Msun}{\\ensuremath{ {\\rm M}_{\\odot}}\\xspace}$\n",
       "$\\newcommand{\\Rsun}{\\ensuremath{ {\\rm R}_{\\odot}}\\xspace}$\n",
       "$\\newcommand{\\Mjup}{\\ensuremath{ {\\rm M}_{\\rm Jup}}\\xspace}$\n",
       "$\\newcommand{\\mps}{\\ensuremath{ {\\rm m s}^{-1}}\\xspace}$\n",
       "$\\newcommand{\\kmps}{\\ensuremath{ {\\rm km s}^{-1}}\\xspace}$\n",
       "$\\newcommand{\\days}{\\ensuremath{ \\rm d}\\xspace}$\n",
       "$\\newcommand{\\au}{\\ensuremath{ \\rm au}\\xspace}$\n",
       "$\\newcommand{\\deg}{\\ensuremath{ \\rm deg}\\xspace}$\n",
       "$\\newcommand{\\sresinob}{\\ensuremath{\\sqrt{e_{\\rm b}}\\sin{\\omega_{\\rm b}}}\\xspace}$\n",
       "$\\newcommand{\\srecosob}{\\ensuremath{\\sqrt{e_{\\rm b}}\\cos{\\omega_{\\rm b}}}\\xspace}$\n",
       "$\\newcommand$\n",
       "$\\newcommand$\n",
       "$\\newcommand{\\gaia}{Gaia\\xspace}$\n",
       "$\\newcommand{\\hip}{Hipparcos\\xspace}$\n",
       "$\\newcommand{\\orvara}{\\texttt{orvara}\\xspace}$\n",
       "$\\newcommand{\\exofast}{\\texttt{EXOFASTv2}\\xspace}$\n",
       "$\\newcommand{\\smw}{\\ensuremath{S_{\\rm MW}}\\xspace}$\n",
       "$\\newcommand{\\deg}{\\ensuremath{ {\\rm deg}}\\xspace}$\n",
       "$\\newcommand{\\fd}{\\ensuremath{^{\\mathrm d}}}$\n",
       "$\\newcommand{\\fh}{\\ensuremath{^{\\mathrm h}}}$\n",
       "$\\newcommand{\\fm}{\\ensuremath{^{\\mathrm m}}}$\n",
       "$\\newcommand{\\fs}{\\ensuremath{^{\\mathrm s}}}$\n",
       "$\\newcommand{\\fdg}{\\ensuremath{^\\circ}}$\n",
       "$\\newcommand{\\fmin}{\\ensuremath{^\\prime}}$\n",
       "$\\newcommand{\\fsec}{\\ensuremath{^{\\prime\\prime}}}$\n",
       "$\\newcommand{\\teff}{\\ensuremath{T_{\\rm eff}}\\xspace}$\n",
       "$\\newcommand{\\logg}{\\ensuremath{\\log g}\\xspace}$\n",
       "$\\newcommand{\\gmag}{\\ensuremath{G}\\xspace}$\n",
       "$\\newcommand{\\gbp}{\\ensuremath{G_{\\rm BP}}\\xspace}$\n",
       "$\\newcommand{\\grp}{\\ensuremath{G_{\\rm RP}}\\xspace}$\n",
       "$\\newcommand{\\parallax}{\\ensuremath{\\varpi}\\xspace}$\n",
       "$\\newcommand{\\feh}{\\ensuremath{[\\rm Fe/H]}\\xspace}$\n",
       "$\\newcommand{\\uprior}{\\ensuremath{\\mathcal{U}}}$\n",
       "$\\newcommand{\\mum}{{ \\mum}\\xspace}$\n",
       "$\\newcommand{\\mas}{ {mas}\\xspace}$\n",
       "$\\newcommand{\\masyr}{{mas a^{-1}}\\xspace}$</div>\n",
       "\n",
       "\n",
       "\n",
       "<div id=\"title\">\n",
       "\n",
       "# A multi-technique detection of an eccentric giant planet around accelerating star HD 57625\n",
       "\n",
       "</div>\n",
       "<div id=\"comments\">\n",
       "\n",
       "[![arXiv](https://img.shields.io/badge/arXiv-2412.06404-b31b1b.svg)](https://arxiv.org/abs/2412.06404)<mark>Appeared on: 2024-12-10</mark> -  _12 pages, 8 figures, accepted for publication in A&A_\n",
       "\n",
       "</div>\n",
       "<div id=\"authors\">\n",
       "\n",
       "D. Barbato, et al. -- incl., <mark>G. Chauvin</mark>, <mark>T. Henning</mark>, <mark>L. Mohr</mark>\n",
       "\n",
       "</div>\n",
       "<div id=\"abstract\">\n",
       "\n",
       "**Abstract:** The synergy between different detection methods is a key asset in exoplanetology, allowing for both precise characterization of detected exoplanets and robust constraints even in the case of non-detection. Recently, the interplay between imaging, radial velocities and astrometry has produced significant advancements in exoplanetary science. We report a first result of an ongoing survey performed with SHARK-NIR, the new high-contrast near-infrared imaging camera at the Large Binocular Telescope, in parallel with LBTI/LMIRCam in order to detect planetary companions around stars with significant proper motion anomaly. In this work we focus on HD 57625, a F8 star for which we determine a $4.8^{+3.7}_{-2.9}$ Ga age, exhibiting significant astrometric acceleration and for which archival radial velocities hint at the presence of a previously undetected massive long-period companion. We analyse the imaging data we collected with SHARK-NIR and LMIRCam in synergy with the available public SOPHIE radial velocity time series and Hipparcos-Gaia proper motion anomaly. With this joint multi-technique analysis, we aim at characterizing the companion responsible for the astrometric and radial velocity signals. The imaging observations result in a non-detection, indicating the companion to be in the substellar regime. This is confirmed by the synergic analysis of archival radial velocity and astrometric measurements resulting in the detection of HD 57625 b, a ${8.43}_{-0.91}^{+1.1}$ $\\Mjup$ planetary companion with an orbital separation of ${5.70}_{-0.13}^{+0.14}$ $\\au$ and ${0.52}_{-0.03}^{+0.04}$ eccentricity. HD 57625 b joins the small but growing population of giant planets in outer orbits with true mass determination provided by the synergic usage of multiple detection methods, proving once again the importance of multi-technique analysis in providing robust characterization of planetary companions.\n",
       "\n",
       "</div>\n",
       "\n",
       "<div id=\"div_fig1\">\n",
       "\n",
       "<img src=\"tmp_2412.06404/images/pma.png\" alt=\"Fig4\" width=\"100%\"/>\n",
       "\n",
       "**Figure 4. -** Proper motion anomaly sensitivity curve for HD 57625. The dark green curve shows the PMa-compatible companion masses as a function of orbital separations, the shaded region corresponding to the 1$\\sigma$ uncertainty range. The blue and cyan curves represent the SHARK-NIR and LMIRCam mass limits as in Fig. \\ref{fig:contrast}. Horizontal lines indicate the  brown dwarf (brown) and stellar mass (orange) thresholds. The positions of HD 57625 b as obtained by the RV-only fit and by the joint RV and PMa fit are shown as a red and white circle, respectively, while the distant stellar companion is shown as a yellow star. (*fig:pma*)\n",
       "\n",
       "</div>\n",
       "<div id=\"div_fig2\">\n",
       "\n",
       "<img src=\"tmp_2412.06404/images/contrast.png\" alt=\"Fig1\" width=\"100%\"/>\n",
       "\n",
       "**Figure 1. -** _Top panel:_ contrast curve for the imaging observation of HD 57625 conducted on the night of February 24th 2024 UT. _Bottom panel_: mass limits derived using the AMES-COND models, the thick curve corresponding to the nominal 4.8 Ga stellar age, the shaded region corresponding to the age uncertainty. In both panels, the blue solid curves refer to the SHARK-NIR H-band observations and the cyan dashed lines refer to the LMIRCam L$^\\prime$-band observation, with similarly colour-coded vertical dotted lines indicating the Inner Working Angle (IWA) of each instrument. (*fig:contrast*)\n",
       "\n",
       "</div>\n",
       "<div id=\"div_fig3\">\n",
       "\n",
       "<img src=\"tmp_2412.06404/images/rvgls.png\" alt=\"Fig2\" width=\"100%\"/>\n",
       "\n",
       "**Figure 2. -** _Left panels_: time series for the SOPHIE (orange triangles) and SOPHIE+ (red circles) radial velocity data of HD 57625, residual time series obtained after removing the detected Keplerian signal and activity indexes. For the activity indexes time series, the Pearson correlation coefficient with both original and residual RVs are noted. _Right panels_: corresponding generalised Lomb-Scargle periodograms of the time series, with horizontal solid, dashed and dotted lines marking the 10\\%, 1\\% and 0.1\\% FAP thresholds. (*fig:rvgls*)\n",
       "\n",
       "</div><div id=\"qrcode\"><img src=https://api.qrserver.com/v1/create-qr-code/?size=100x100&data=\"https://arxiv.org/abs/2412.06404\"></div>"
      ],
      "text/plain": [
       "<IPython.core.display.Markdown object>"
      ]
     },
     "metadata": {},
     "output_type": "display_data"
    }
   ],
   "source": [
    "[display(Markdown(k[1])) for k in documents];"
   ]
  },
  {
   "cell_type": "markdown",
   "id": "873873a4",
   "metadata": {
    "papermill": {
     "duration": 0.00579,
     "end_time": "2024-12-10T04:13:27.913128",
     "exception": false,
     "start_time": "2024-12-10T04:13:27.907338",
     "status": "completed"
    },
    "tags": []
   },
   "source": [
    "# Create HTML index"
   ]
  },
  {
   "cell_type": "code",
   "execution_count": 10,
   "id": "cf665672",
   "metadata": {
    "execution": {
     "iopub.execute_input": "2024-12-10T04:13:27.925661Z",
     "iopub.status.busy": "2024-12-10T04:13:27.925464Z",
     "iopub.status.idle": "2024-12-10T04:13:27.933894Z",
     "shell.execute_reply": "2024-12-10T04:13:27.933373Z"
    },
    "papermill": {
     "duration": 0.015833,
     "end_time": "2024-12-10T04:13:27.934806",
     "exception": false,
     "start_time": "2024-12-10T04:13:27.918973",
     "status": "completed"
    },
    "tags": []
   },
   "outputs": [
    {
     "name": "stdout",
     "output_type": "stream",
     "text": [
      "274  publications files modified in the last 7 days.\n"
     ]
    }
   ],
   "source": [
    "from datetime import datetime, timedelta, timezone\n",
    "from glob import glob\n",
    "import os\n",
    "\n",
    "files = glob('_build/html/*.md')\n",
    "days = 7\n",
    "now = datetime.today()\n",
    "res = []\n",
    "for fk in files:\n",
    "    stat_result = os.stat(fk).st_ctime\n",
    "    modified = datetime.fromtimestamp(stat_result, tz=timezone.utc).replace(tzinfo=None)\n",
    "    delta = now.today() - modified\n",
    "    if delta <= timedelta(days=days):\n",
    "        res.append((delta.seconds, fk))\n",
    "res = [k[1] for k in reversed(sorted(res, key=lambda x:x[1]))]\n",
    "npub = len(res)\n",
    "print(len(res), f\" publications files modified in the last {days:d} days.\")\n",
    "# [ print('\\t', k) for k in res ];"
   ]
  },
  {
   "cell_type": "code",
   "execution_count": 11,
   "id": "015de740",
   "metadata": {
    "execution": {
     "iopub.execute_input": "2024-12-10T04:13:27.947874Z",
     "iopub.status.busy": "2024-12-10T04:13:27.947377Z",
     "iopub.status.idle": "2024-12-10T04:13:27.964554Z",
     "shell.execute_reply": "2024-12-10T04:13:27.963959Z"
    },
    "papermill": {
     "duration": 0.024837,
     "end_time": "2024-12-10T04:13:27.965641",
     "exception": false,
     "start_time": "2024-12-10T04:13:27.940804",
     "status": "completed"
    },
    "tags": []
   },
   "outputs": [
    {
     "name": "stdout",
     "output_type": "stream",
     "text": [
      "16  publications in the last 7 days.\n"
     ]
    }
   ],
   "source": [
    "import datetime\n",
    "from glob import glob\n",
    "\n",
    "def get_last_n_days(lst, days=1):\n",
    "    \"\"\" Get the documents from the last n days \"\"\"\n",
    "    sorted_lst = sorted(lst, key=lambda x: x[1], reverse=True)\n",
    "    for fname, date in sorted_lst:\n",
    "        if date >= str(datetime.date.today() - datetime.timedelta(days=days)):\n",
    "            yield fname\n",
    "\n",
    "def extract_appearance_dates(lst_file):\n",
    "    dates = []\n",
    "\n",
    "    def get_date(line):\n",
    "        return line\\\n",
    "            .split('Appeared on:')[-1]\\\n",
    "            .split('</mark>')[0].strip()\n",
    "\n",
    "    for fname in lst:\n",
    "        with open(fname, 'r') as f:\n",
    "            found_date = False\n",
    "            for line in f:\n",
    "                if not found_date:\n",
    "                    if \"Appeared on\" in line:\n",
    "                        found_date = True\n",
    "                        dates.append((fname, get_date(line)))\n",
    "                else:\n",
    "                    break\n",
    "    return dates\n",
    "\n",
    "from glob import glob\n",
    "lst = glob('_build/html/*md')\n",
    "days = 7\n",
    "dates = extract_appearance_dates(lst)\n",
    "res = list(get_last_n_days(dates, days))\n",
    "npub = len(res)\n",
    "print(len(res), f\" publications in the last {days:d} days.\")"
   ]
  },
  {
   "cell_type": "code",
   "execution_count": 12,
   "id": "52ca0208",
   "metadata": {
    "execution": {
     "iopub.execute_input": "2024-12-10T04:13:27.978812Z",
     "iopub.status.busy": "2024-12-10T04:13:27.978578Z",
     "iopub.status.idle": "2024-12-10T04:13:27.983569Z",
     "shell.execute_reply": "2024-12-10T04:13:27.982932Z"
    },
    "papermill": {
     "duration": 0.012759,
     "end_time": "2024-12-10T04:13:27.984634",
     "exception": false,
     "start_time": "2024-12-10T04:13:27.971875",
     "status": "completed"
    },
    "scrolled": false,
    "tags": []
   },
   "outputs": [],
   "source": [
    "def create_carousel(npub=4):\n",
    "    \"\"\" Generate the HTML code for a carousel with `npub` slides \"\"\"\n",
    "    carousel = [\"\"\"  <div class=\"carousel\" \"\"\",\n",
    "                \"\"\"       data-flickity='{ \"autoPlay\": 10000, \"adaptiveHeight\": true, \"resize\": true, \"wrapAround\": true, \"pauseAutoPlayOnHover\": true, \"groupCells\": 1 }' id=\"asyncTypeset\">\"\"\"\n",
    "                ]\n",
    "    \n",
    "    item_str = \"\"\"    <div class=\"carousel-cell\"> <div id=\"slide{k}\" class=\"md_view\">Content {k}</div> </div>\"\"\"\n",
    "    for k in range(1, npub + 1):\n",
    "        carousel.append(item_str.format(k=k))\n",
    "    carousel.append(\"  </div>\")\n",
    "    return '\\n'.join(carousel)\n",
    "\n",
    "def create_grid(npub=4):\n",
    "    \"\"\" Generate the HTML code for a flat grid with `npub` slides \"\"\"\n",
    "    grid = [\"\"\"  <div class=\"grid\"> \"\"\",\n",
    "                ]\n",
    "    \n",
    "    item_str = \"\"\"    <div class=\"grid-item\"> <div id=\"slide{k}\" class=\"md_view\">Content {k}</div> </div>\"\"\"\n",
    "    for k in range(1, npub + 1):\n",
    "        grid.append(item_str.format(k=k))\n",
    "    grid.append(\"  </div>\")\n",
    "    return '\\n'.join(grid)"
   ]
  },
  {
   "cell_type": "code",
   "execution_count": 13,
   "id": "a6eac5b6",
   "metadata": {
    "execution": {
     "iopub.execute_input": "2024-12-10T04:13:27.997843Z",
     "iopub.status.busy": "2024-12-10T04:13:27.997526Z",
     "iopub.status.idle": "2024-12-10T04:13:28.002436Z",
     "shell.execute_reply": "2024-12-10T04:13:28.001936Z"
    },
    "papermill": {
     "duration": 0.012487,
     "end_time": "2024-12-10T04:13:28.003362",
     "exception": false,
     "start_time": "2024-12-10T04:13:27.990875",
     "status": "completed"
    },
    "scrolled": false,
    "tags": []
   },
   "outputs": [],
   "source": [
    "carousel = create_carousel(npub)\n",
    "docs = ', '.join(['\"{0:s}\"'.format(k.split('/')[-1]) for k in res])\n",
    "slides = ', '.join([f'\"slide{k}\"' for k in range(1, npub + 1)])\n",
    "\n",
    "with open(\"daily_template.html\", \"r\") as tpl:\n",
    "    page = tpl.read()\n",
    "    page = page.replace(\"{%-- carousel:s --%}\", carousel)\\\n",
    "               .replace(\"{%-- suptitle:s --%}\",  \"7-day archives\" )\\\n",
    "               .replace(\"{%-- docs:s --%}\", docs)\\\n",
    "               .replace(\"{%-- slides:s --%}\", slides)\n",
    "    \n",
    "with open(\"_build/html/index_7days.html\", 'w') as fout:\n",
    "    fout.write(page)"
   ]
  },
  {
   "cell_type": "code",
   "execution_count": 14,
   "id": "adc1a1ec",
   "metadata": {
    "execution": {
     "iopub.execute_input": "2024-12-10T04:13:28.016539Z",
     "iopub.status.busy": "2024-12-10T04:13:28.016356Z",
     "iopub.status.idle": "2024-12-10T04:13:28.022589Z",
     "shell.execute_reply": "2024-12-10T04:13:28.022086Z"
    },
    "papermill": {
     "duration": 0.013843,
     "end_time": "2024-12-10T04:13:28.023501",
     "exception": false,
     "start_time": "2024-12-10T04:13:28.009658",
     "status": "completed"
    },
    "tags": []
   },
   "outputs": [
    {
     "name": "stdout",
     "output_type": "stream",
     "text": [
      "4  publications in the last day.\n"
     ]
    }
   ],
   "source": [
    "# redo for today\n",
    "days = 1\n",
    "res = list(get_last_n_days(dates, days))\n",
    "npub = len(res)\n",
    "print(len(res), f\" publications in the last day.\")\n",
    "\n",
    "carousel = create_carousel(npub)\n",
    "docs = ', '.join(['\"{0:s}\"'.format(k.split('/')[-1]) for k in res])\n",
    "slides = ', '.join([f'\"slide{k}\"' for k in range(1, npub + 1)])\n",
    "\n",
    "with open(\"daily_template.html\", \"r\") as tpl:\n",
    "    page = tpl.read()\n",
    "    page = page.replace(\"{%-- carousel:s --%}\", carousel)\\\n",
    "               .replace(\"{%-- suptitle:s --%}\",  \"Daily\" )\\\n",
    "               .replace(\"{%-- docs:s --%}\", docs)\\\n",
    "               .replace(\"{%-- slides:s --%}\", slides)\n",
    "    \n",
    "# print(carousel, docs, slides)\n",
    "# print(page)\n",
    "with open(\"_build/html/index_daily.html\", 'w') as fout:\n",
    "    fout.write(page)"
   ]
  },
  {
   "cell_type": "code",
   "execution_count": 15,
   "id": "00eece82",
   "metadata": {
    "execution": {
     "iopub.execute_input": "2024-12-10T04:13:28.037239Z",
     "iopub.status.busy": "2024-12-10T04:13:28.036614Z",
     "iopub.status.idle": "2024-12-10T04:13:28.043181Z",
     "shell.execute_reply": "2024-12-10T04:13:28.042534Z"
    },
    "papermill": {
     "duration": 0.01443,
     "end_time": "2024-12-10T04:13:28.044192",
     "exception": false,
     "start_time": "2024-12-10T04:13:28.029762",
     "status": "completed"
    },
    "scrolled": false,
    "tags": []
   },
   "outputs": [
    {
     "name": "stdout",
     "output_type": "stream",
     "text": [
      "6  6 publications selected.\n"
     ]
    }
   ],
   "source": [
    "# Create the flat grid of the last N papers (fixed number regardless of dates)\n",
    "from itertools import islice \n",
    "\n",
    "npub = 6\n",
    "res = [k[0] for k in (islice(reversed(sorted(dates, key=lambda x: x[1])), 6))]\n",
    "print(len(res), f\" {npub} publications selected.\")\n",
    "\n",
    "grid = create_grid(npub)\n",
    "docs = ', '.join(['\"{0:s}\"'.format(k.split('/')[-1]) for k in res])\n",
    "slides = ', '.join([f'\"slide{k}\"' for k in range(1, npub + 1)])\n",
    "\n",
    "with open(\"grid_template.html\", \"r\") as tpl:\n",
    "    page = tpl.read()\n",
    "    page = page.replace(\"{%-- grid-content:s --%}\", grid)\\\n",
    "               .replace(\"{%-- suptitle:s --%}\",  f\"Last {npub:,d} papers\" )\\\n",
    "               .replace(\"{%-- docs:s --%}\", docs)\\\n",
    "               .replace(\"{%-- slides:s --%}\", slides)\n",
    "    \n",
    "# print(grid, docs, slides)\n",
    "# print(page)\n",
    "with open(\"_build/html/index_npub_grid.html\", 'w') as fout:\n",
    "    fout.write(page)"
   ]
  }
 ],
 "metadata": {
  "kernelspec": {
   "display_name": "Python 3 (ipykernel)",
   "language": "python",
   "name": "python3"
  },
  "language_info": {
   "codemirror_mode": {
    "name": "ipython",
    "version": 3
   },
   "file_extension": ".py",
   "mimetype": "text/x-python",
   "name": "python",
   "nbconvert_exporter": "python",
   "pygments_lexer": "ipython3",
   "version": "3.9.20"
  },
  "papermill": {
   "default_parameters": {},
   "duration": 91.229635,
   "end_time": "2024-12-10T04:13:28.266113",
   "environment_variables": {},
   "exception": null,
   "input_path": "MPIA daily digest.ipynb",
   "output_path": "log.ipynb",
   "parameters": {},
   "start_time": "2024-12-10T04:11:57.036478",
   "version": "2.6.0"
  },
  "vscode": {
   "interpreter": {
    "hash": "aee8b7b246df8f9039afb4144a1f6fd8d2ca17a180786b69acc140d282b71a49"
   }
  },
  "widgets": {
   "application/vnd.jupyter.widget-state+json": {
    "state": {
     "352231830610414a87787370fd058ae7": {
      "model_module": "@jupyter-widgets/controls",
      "model_module_version": "2.0.0",
      "model_name": "HTMLStyleModel",
      "state": {
       "_model_module": "@jupyter-widgets/controls",
       "_model_module_version": "2.0.0",
       "_model_name": "HTMLStyleModel",
       "_view_count": null,
       "_view_module": "@jupyter-widgets/base",
       "_view_module_version": "2.0.0",
       "_view_name": "StyleView",
       "background": null,
       "description_width": "",
       "font_size": null,
       "text_color": null
      }
     },
     "4ad68515e23548f986e9a3a70a792ee5": {
      "model_module": "@jupyter-widgets/controls",
      "model_module_version": "2.0.0",
      "model_name": "FloatProgressModel",
      "state": {
       "_dom_classes": [],
       "_model_module": "@jupyter-widgets/controls",
       "_model_module_version": "2.0.0",
       "_model_name": "FloatProgressModel",
       "_view_count": null,
       "_view_module": "@jupyter-widgets/controls",
       "_view_module_version": "2.0.0",
       "_view_name": "ProgressView",
       "bar_style": "success",
       "description": "",
       "description_allow_html": false,
       "layout": "IPY_MODEL_e1d71128f628460eac16db2b804f5178",
       "max": 6.0,
       "min": 0.0,
       "orientation": "horizontal",
       "style": "IPY_MODEL_9ecde1368aef493884819710d9441b8d",
       "tabbable": null,
       "tooltip": null,
       "value": 6.0
      }
     },
     "4fd1b8e42877470a88b7d957bee186e3": {
      "model_module": "@jupyter-widgets/base",
      "model_module_version": "2.0.0",
      "model_name": "LayoutModel",
      "state": {
       "_model_module": "@jupyter-widgets/base",
       "_model_module_version": "2.0.0",
       "_model_name": "LayoutModel",
       "_view_count": null,
       "_view_module": "@jupyter-widgets/base",
       "_view_module_version": "2.0.0",
       "_view_name": "LayoutView",
       "align_content": null,
       "align_items": null,
       "align_self": null,
       "border_bottom": null,
       "border_left": null,
       "border_right": null,
       "border_top": null,
       "bottom": null,
       "display": null,
       "flex": null,
       "flex_flow": null,
       "grid_area": null,
       "grid_auto_columns": null,
       "grid_auto_flow": null,
       "grid_auto_rows": null,
       "grid_column": null,
       "grid_gap": null,
       "grid_row": null,
       "grid_template_areas": null,
       "grid_template_columns": null,
       "grid_template_rows": null,
       "height": null,
       "justify_content": null,
       "justify_items": null,
       "left": null,
       "margin": null,
       "max_height": null,
       "max_width": null,
       "min_height": null,
       "min_width": null,
       "object_fit": null,
       "object_position": null,
       "order": null,
       "overflow": null,
       "padding": null,
       "right": null,
       "top": null,
       "visibility": null,
       "width": null
      }
     },
     "81cacb3d4d1743408d134dc19b5053b7": {
      "model_module": "@jupyter-widgets/controls",
      "model_module_version": "2.0.0",
      "model_name": "HTMLStyleModel",
      "state": {
       "_model_module": "@jupyter-widgets/controls",
       "_model_module_version": "2.0.0",
       "_model_name": "HTMLStyleModel",
       "_view_count": null,
       "_view_module": "@jupyter-widgets/base",
       "_view_module_version": "2.0.0",
       "_view_name": "StyleView",
       "background": null,
       "description_width": "",
       "font_size": null,
       "text_color": null
      }
     },
     "8460f0f2adf948b5aa6aefd58ecfff86": {
      "model_module": "@jupyter-widgets/controls",
      "model_module_version": "2.0.0",
      "model_name": "HBoxModel",
      "state": {
       "_dom_classes": [],
       "_model_module": "@jupyter-widgets/controls",
       "_model_module_version": "2.0.0",
       "_model_name": "HBoxModel",
       "_view_count": null,
       "_view_module": "@jupyter-widgets/controls",
       "_view_module_version": "2.0.0",
       "_view_name": "HBoxView",
       "box_style": "",
       "children": [
        "IPY_MODEL_c6d26c1d1ad94f1e9b0c7e18e44a3bfe",
        "IPY_MODEL_4ad68515e23548f986e9a3a70a792ee5",
        "IPY_MODEL_a9996b279d854c35ab29d669c5992324"
       ],
       "layout": "IPY_MODEL_e426838aca914322ae18505c922f024d",
       "tabbable": null,
       "tooltip": null
      }
     },
     "9ecde1368aef493884819710d9441b8d": {
      "model_module": "@jupyter-widgets/controls",
      "model_module_version": "2.0.0",
      "model_name": "ProgressStyleModel",
      "state": {
       "_model_module": "@jupyter-widgets/controls",
       "_model_module_version": "2.0.0",
       "_model_name": "ProgressStyleModel",
       "_view_count": null,
       "_view_module": "@jupyter-widgets/base",
       "_view_module_version": "2.0.0",
       "_view_name": "StyleView",
       "bar_color": null,
       "description_width": ""
      }
     },
     "a9996b279d854c35ab29d669c5992324": {
      "model_module": "@jupyter-widgets/controls",
      "model_module_version": "2.0.0",
      "model_name": "HTMLModel",
      "state": {
       "_dom_classes": [],
       "_model_module": "@jupyter-widgets/controls",
       "_model_module_version": "2.0.0",
       "_model_name": "HTMLModel",
       "_view_count": null,
       "_view_module": "@jupyter-widgets/controls",
       "_view_module_version": "2.0.0",
       "_view_name": "HTMLView",
       "description": "",
       "description_allow_html": false,
       "layout": "IPY_MODEL_4fd1b8e42877470a88b7d957bee186e3",
       "placeholder": "​",
       "style": "IPY_MODEL_81cacb3d4d1743408d134dc19b5053b7",
       "tabbable": null,
       "tooltip": null,
       "value": " 6/6 [01:13&lt;00:00,  8.32s/it]"
      }
     },
     "c6d26c1d1ad94f1e9b0c7e18e44a3bfe": {
      "model_module": "@jupyter-widgets/controls",
      "model_module_version": "2.0.0",
      "model_name": "HTMLModel",
      "state": {
       "_dom_classes": [],
       "_model_module": "@jupyter-widgets/controls",
       "_model_module_version": "2.0.0",
       "_model_name": "HTMLModel",
       "_view_count": null,
       "_view_module": "@jupyter-widgets/controls",
       "_view_module_version": "2.0.0",
       "_view_name": "HTMLView",
       "description": "",
       "description_allow_html": false,
       "layout": "IPY_MODEL_f6976bd10ecf4013a28ec2c44fdc1228",
       "placeholder": "​",
       "style": "IPY_MODEL_352231830610414a87787370fd058ae7",
       "tabbable": null,
       "tooltip": null,
       "value": "100%"
      }
     },
     "e1d71128f628460eac16db2b804f5178": {
      "model_module": "@jupyter-widgets/base",
      "model_module_version": "2.0.0",
      "model_name": "LayoutModel",
      "state": {
       "_model_module": "@jupyter-widgets/base",
       "_model_module_version": "2.0.0",
       "_model_name": "LayoutModel",
       "_view_count": null,
       "_view_module": "@jupyter-widgets/base",
       "_view_module_version": "2.0.0",
       "_view_name": "LayoutView",
       "align_content": null,
       "align_items": null,
       "align_self": null,
       "border_bottom": null,
       "border_left": null,
       "border_right": null,
       "border_top": null,
       "bottom": null,
       "display": null,
       "flex": null,
       "flex_flow": null,
       "grid_area": null,
       "grid_auto_columns": null,
       "grid_auto_flow": null,
       "grid_auto_rows": null,
       "grid_column": null,
       "grid_gap": null,
       "grid_row": null,
       "grid_template_areas": null,
       "grid_template_columns": null,
       "grid_template_rows": null,
       "height": null,
       "justify_content": null,
       "justify_items": null,
       "left": null,
       "margin": null,
       "max_height": null,
       "max_width": null,
       "min_height": null,
       "min_width": null,
       "object_fit": null,
       "object_position": null,
       "order": null,
       "overflow": null,
       "padding": null,
       "right": null,
       "top": null,
       "visibility": null,
       "width": null
      }
     },
     "e426838aca914322ae18505c922f024d": {
      "model_module": "@jupyter-widgets/base",
      "model_module_version": "2.0.0",
      "model_name": "LayoutModel",
      "state": {
       "_model_module": "@jupyter-widgets/base",
       "_model_module_version": "2.0.0",
       "_model_name": "LayoutModel",
       "_view_count": null,
       "_view_module": "@jupyter-widgets/base",
       "_view_module_version": "2.0.0",
       "_view_name": "LayoutView",
       "align_content": null,
       "align_items": null,
       "align_self": null,
       "border_bottom": null,
       "border_left": null,
       "border_right": null,
       "border_top": null,
       "bottom": null,
       "display": null,
       "flex": null,
       "flex_flow": null,
       "grid_area": null,
       "grid_auto_columns": null,
       "grid_auto_flow": null,
       "grid_auto_rows": null,
       "grid_column": null,
       "grid_gap": null,
       "grid_row": null,
       "grid_template_areas": null,
       "grid_template_columns": null,
       "grid_template_rows": null,
       "height": null,
       "justify_content": null,
       "justify_items": null,
       "left": null,
       "margin": null,
       "max_height": null,
       "max_width": null,
       "min_height": null,
       "min_width": null,
       "object_fit": null,
       "object_position": null,
       "order": null,
       "overflow": null,
       "padding": null,
       "right": null,
       "top": null,
       "visibility": null,
       "width": null
      }
     },
     "f6976bd10ecf4013a28ec2c44fdc1228": {
      "model_module": "@jupyter-widgets/base",
      "model_module_version": "2.0.0",
      "model_name": "LayoutModel",
      "state": {
       "_model_module": "@jupyter-widgets/base",
       "_model_module_version": "2.0.0",
       "_model_name": "LayoutModel",
       "_view_count": null,
       "_view_module": "@jupyter-widgets/base",
       "_view_module_version": "2.0.0",
       "_view_name": "LayoutView",
       "align_content": null,
       "align_items": null,
       "align_self": null,
       "border_bottom": null,
       "border_left": null,
       "border_right": null,
       "border_top": null,
       "bottom": null,
       "display": null,
       "flex": null,
       "flex_flow": null,
       "grid_area": null,
       "grid_auto_columns": null,
       "grid_auto_flow": null,
       "grid_auto_rows": null,
       "grid_column": null,
       "grid_gap": null,
       "grid_row": null,
       "grid_template_areas": null,
       "grid_template_columns": null,
       "grid_template_rows": null,
       "height": null,
       "justify_content": null,
       "justify_items": null,
       "left": null,
       "margin": null,
       "max_height": null,
       "max_width": null,
       "min_height": null,
       "min_width": null,
       "object_fit": null,
       "object_position": null,
       "order": null,
       "overflow": null,
       "padding": null,
       "right": null,
       "top": null,
       "visibility": null,
       "width": null
      }
     }
    },
    "version_major": 2,
    "version_minor": 0
   }
  }
 },
 "nbformat": 4,
 "nbformat_minor": 5
}