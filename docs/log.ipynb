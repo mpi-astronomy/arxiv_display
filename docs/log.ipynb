{
 "cells": [
  {
   "cell_type": "markdown",
   "id": "92bcb855",
   "metadata": {
    "papermill": {
     "duration": 0.006136,
     "end_time": "2023-10-11T04:04:59.278756",
     "exception": false,
     "start_time": "2023-10-11T04:04:59.272620",
     "status": "completed"
    },
    "tags": []
   },
   "source": [
    "# MPIA Arxiv on Deck 2\n",
    "\n",
    "Contains the steps to produce the paper extractions."
   ]
  },
  {
   "cell_type": "code",
   "execution_count": 1,
   "id": "3a0d6e11",
   "metadata": {
    "execution": {
     "iopub.execute_input": "2023-10-11T04:04:59.291554Z",
     "iopub.status.busy": "2023-10-11T04:04:59.291210Z",
     "iopub.status.idle": "2023-10-11T04:04:59.837726Z",
     "shell.execute_reply": "2023-10-11T04:04:59.836732Z"
    },
    "papermill": {
     "duration": 0.555934,
     "end_time": "2023-10-11T04:04:59.840742",
     "exception": false,
     "start_time": "2023-10-11T04:04:59.284808",
     "status": "completed"
    },
    "tags": []
   },
   "outputs": [],
   "source": [
    "# Imports\n",
    "import os\n",
    "from IPython.display import Markdown, display\n",
    "from tqdm.notebook import tqdm\n",
    "import warnings\n",
    "from PIL import Image \n",
    "\n",
    "# requires arxiv_on_deck_2\n",
    "\n",
    "from arxiv_on_deck_2.arxiv2 import (get_new_papers, \n",
    "                                    get_paper_from_identifier,\n",
    "                                    retrieve_document_source, \n",
    "                                    get_markdown_badge)\n",
    "from arxiv_on_deck_2 import (latex,\n",
    "                             latex_bib,\n",
    "                             mpia,\n",
    "                             highlight_authors_in_list)\n",
    "\n",
    "# Sometimes images are really big\n",
    "Image.MAX_IMAGE_PIXELS = 1000000000 "
   ]
  },
  {
   "cell_type": "code",
   "execution_count": 2,
   "id": "22aa9d44",
   "metadata": {
    "execution": {
     "iopub.execute_input": "2023-10-11T04:04:59.851927Z",
     "iopub.status.busy": "2023-10-11T04:04:59.851266Z",
     "iopub.status.idle": "2023-10-11T04:04:59.857974Z",
     "shell.execute_reply": "2023-10-11T04:04:59.857303Z"
    },
    "papermill": {
     "duration": 0.014413,
     "end_time": "2023-10-11T04:04:59.860050",
     "exception": false,
     "start_time": "2023-10-11T04:04:59.845637",
     "status": "completed"
    },
    "tags": []
   },
   "outputs": [],
   "source": [
    "# Some useful definitions.\n",
    "\n",
    "class AffiliationWarning(UserWarning):\n",
    "    pass\n",
    "\n",
    "class AffiliationError(RuntimeError):\n",
    "    pass\n",
    "\n",
    "def validation(source: str):\n",
    "    \"\"\"Raises error paper during parsing of source file\n",
    "    \n",
    "    Allows checks before parsing TeX code.\n",
    "    \n",
    "    Raises AffiliationWarning\n",
    "    \"\"\"\n",
    "    check = mpia.affiliation_verifications(source, verbose=True)\n",
    "    if check is not True:\n",
    "        raise AffiliationError(\"mpia.affiliation_verifications: \" + check)\n",
    "\n",
    "        \n",
    "warnings.simplefilter('always', AffiliationWarning)\n",
    "\n",
    "\n",
    "def get_markdown_qrcode(paper_id: str):\n",
    "    \"\"\" Generate a qrcode to the arxiv page using qrserver.com\n",
    "    \n",
    "    :param paper: Arxiv paper\n",
    "    :returns: markdown text\n",
    "    \"\"\"\n",
    "    url = r\"https://api.qrserver.com/v1/create-qr-code/?size=100x100&data=\"\n",
    "    txt = f\"\"\"<img src={url}\"https://arxiv.org/abs/{paper_id}\">\"\"\"\n",
    "    txt = '<div id=\"qrcode\">' + txt + '</div>'\n",
    "    return txt"
   ]
  },
  {
   "cell_type": "markdown",
   "id": "14bd6310",
   "metadata": {
    "papermill": {
     "duration": 0.004152,
     "end_time": "2023-10-11T04:04:59.868867",
     "exception": false,
     "start_time": "2023-10-11T04:04:59.864715",
     "status": "completed"
    },
    "tags": []
   },
   "source": [
    "## get list of arxiv paper candidates\n",
    "\n",
    "We use the MPIA mitarbeiter list webpage from mpia.de to get author names\n",
    "We then get all new papers from Arxiv and match authors"
   ]
  },
  {
   "cell_type": "code",
   "execution_count": 3,
   "id": "2645e73a",
   "metadata": {
    "execution": {
     "iopub.execute_input": "2023-10-11T04:04:59.879435Z",
     "iopub.status.busy": "2023-10-11T04:04:59.878895Z",
     "iopub.status.idle": "2023-10-11T04:05:28.234180Z",
     "shell.execute_reply": "2023-10-11T04:05:28.233163Z"
    },
    "papermill": {
     "duration": 28.363275,
     "end_time": "2023-10-11T04:05:28.236445",
     "exception": false,
     "start_time": "2023-10-11T04:04:59.873170",
     "status": "completed"
    },
    "tags": []
   },
   "outputs": [
    {
     "name": "stdout",
     "output_type": "stream",
     "text": [
      "C. Desgrange  ->  C. Desgrange  |  ['C. Desgrange']\n",
      "R. Burn  ->  R. Burn  |  ['R. Burn']\n",
      "E. Matthews  ->  E. Matthews  |  ['E. Matthews']\n",
      "M. Smith  ->  M. Smith  |  ['M. Smith']\n",
      "C. Bailer-Jones  ->  C. Bailer-Jones  |  ['C. Bailer-Jones']\n",
      "C. Bailer-Jones  ->  C. Bailer-Jones  |  ['C. Bailer-Jones']\n",
      "M. Fouesneau  ->  M. Fouesneau  |  ['M. Fouesneau']\n",
      "M. Sharma  ->  Y. M. Sharma  |  ['M. Sharma']\n"
     ]
    },
    {
     "name": "stdout",
     "output_type": "stream",
     "text": [
      "C. Bailer-Jones  ->  C. Bailer-Jones  |  ['C. Bailer-Jones']\n",
      "M. Fouesneau  ->  M. Fouesneau  |  ['M. Fouesneau']\n",
      "A. Hughes  ->  A. Hughes  |  ['A. Hughes']\n",
      "E. Schinnerer  ->  E. Schinnerer  |  ['E. Schinnerer']\n",
      "A. Hughes  ->  A. Hughes  |  ['A. Hughes']\n",
      "K. Kreckel  ->  K. Kreckel  |  ['K. Kreckel']\n",
      "N. Neumayer  ->  N. Neumayer  |  ['N. Neumayer']\n",
      "C. Bailer-Jones  ->  C. Bailer-Jones  |  ['C. Bailer-Jones']\n",
      "M. Fouesneau  ->  M. Fouesneau  |  ['M. Fouesneau']\n"
     ]
    },
    {
     "name": "stdout",
     "output_type": "stream",
     "text": [
      "Arxiv has 71 new papers today\n",
      "          8 with possible author matches\n"
     ]
    }
   ],
   "source": [
    "# get list from MPIA website\n",
    "# it automatically filters identified non-scientists :func:`mpia.filter_non_scientists`\n",
    "mpia_authors = mpia.get_mpia_mitarbeiter_list()\n",
    "normed_mpia_authors = [k[1] for k in mpia_authors]   # initials + fullname\n",
    "new_papers = get_new_papers()\n",
    "# add manual references\n",
    "add_paper_refs = []\n",
    "new_papers.extend([get_paper_from_identifier(k) for k in add_paper_refs])\n",
    "\n",
    "candidates = []\n",
    "for paperk in new_papers:\n",
    "    # Check author list with their initials\n",
    "    normed_author_list = [mpia.get_initials(k) for k in paperk['authors']]\n",
    "    hl_authors = highlight_authors_in_list(normed_author_list, normed_mpia_authors, verbose=True)\n",
    "    matches = [(hl, orig) for hl, orig in zip(hl_authors, paperk['authors']) if 'mark' in hl]\n",
    "    paperk['authors'] = hl_authors\n",
    "    if matches:\n",
    "        # only select paper if an author matched our list\n",
    "        candidates.append(paperk)\n",
    "print(\"\"\"Arxiv has {0:,d} new papers today\"\"\".format(len(new_papers)))        \n",
    "print(\"\"\"          {0:,d} with possible author matches\"\"\".format(len(candidates)))"
   ]
  },
  {
   "cell_type": "markdown",
   "id": "3543b34a",
   "metadata": {
    "papermill": {
     "duration": 0.00406,
     "end_time": "2023-10-11T04:05:28.245587",
     "exception": false,
     "start_time": "2023-10-11T04:05:28.241527",
     "status": "completed"
    },
    "tags": []
   },
   "source": [
    "# Parse sources and generate relevant outputs\n",
    "\n",
    "From the candidates, we do the following steps:\n",
    "* get their tarball from ArXiv (and extract data)\n",
    "* find the main .tex file: find one with \\documentclass{...} (sometimes it's non trivial)\n",
    "* Check affiliations with :func:`validation`, which uses :func:`mpia.affiliation_verifications`\n",
    "* If passing the affiliations: we parse the .tex source\n",
    "   * inject sub-documents into the main (flatten the main document)\n",
    "   * parse structure, extract information (title, abstract, authors, figures...)\n",
    "   * handles `\\graphicspath` if provided\n",
    "* Generate the .md document."
   ]
  },
  {
   "cell_type": "code",
   "execution_count": 4,
   "id": "9576b79e",
   "metadata": {
    "execution": {
     "iopub.execute_input": "2023-10-11T04:05:28.257797Z",
     "iopub.status.busy": "2023-10-11T04:05:28.257371Z",
     "iopub.status.idle": "2023-10-11T04:13:26.517142Z",
     "shell.execute_reply": "2023-10-11T04:13:26.516154Z"
    },
    "papermill": {
     "duration": 478.278139,
     "end_time": "2023-10-11T04:13:26.529312",
     "exception": false,
     "start_time": "2023-10-11T04:05:28.251173",
     "status": "completed"
    },
    "scrolled": false,
    "tags": []
   },
   "outputs": [
    {
     "data": {
      "application/vnd.jupyter.widget-view+json": {
       "model_id": "8eb5ae1920534101a6d325a6cfe9b672",
       "version_major": 2,
       "version_minor": 0
      },
      "text/plain": [
       "  0%|          | 0/8 [00:00<?, ?it/s]"
      ]
     },
     "metadata": {},
     "output_type": "display_data"
    },
    {
     "name": "stdout",
     "output_type": "stream",
     "text": [
      "Retrieving document from  https://arxiv.org/e-print/2310.06035\n"
     ]
    },
    {
     "name": "stdout",
     "output_type": "stream",
     "text": [
      "extracting tarball to tmp_2310.06035..."
     ]
    },
    {
     "name": "stdout",
     "output_type": "stream",
     "text": [
      " done.\n"
     ]
    },
    {
     "name": "stderr",
     "output_type": "stream",
     "text": [
      "/opt/hostedtoolcache/Python/3.9.18/x64/lib/python3.9/site-packages/arxiv_on_deck_2/latex.py:473: LatexWarning: Error parsing the document directly. Trying to recover.\n",
      "  warnings.warn(LatexWarning(f\"Error parsing the document directly. Trying to recover.\"))\n"
     ]
    },
    {
     "name": "stdout",
     "output_type": "stream",
     "text": [
      "✔ → 0:header\n",
      "  ↳ 7700:\\section{Introduction}\n"
     ]
    },
    {
     "name": "stdout",
     "output_type": "stream",
     "text": [
      "✔ → 7700:\\section{Introduction}\n",
      "  ↳ 17525:\\section{Sample and target properties \\label{sec:sample}}\n"
     ]
    },
    {
     "name": "stdout",
     "output_type": "stream",
     "text": [
      "✔ → 17525:\\section{Sample and target properties \\label{sec:sample}}\n",
      "  ↳ 34574:\\section{Observations \\label{sec:obs}}\n",
      "✔ → 34574:\\section{Observations \\label{sec:obs}}\n",
      "  ↳ 39015:\\section{Data reduction \\label{sec:data_reduction}}\n"
     ]
    },
    {
     "name": "stdout",
     "output_type": "stream",
     "text": [
      "✔ → 39015:\\section{Data reduction \\label{sec:data_reduction}}\n",
      "  ↳ 50515:\\section{Results \\label{sec:results_obs}}\n"
     ]
    },
    {
     "name": "stdout",
     "output_type": "stream",
     "text": [
      "✔ → 50515:\\section{Results \\label{sec:results_obs}}\n",
      "  ↳ 78940:\\section{Discussion \\label{sec:discussion}}\n"
     ]
    },
    {
     "name": "stdout",
     "output_type": "stream",
     "text": [
      "✔ → 78940:\\section{Discussion \\label{sec:discussion}}\n",
      "  ↳ 108163:\\section{Conclusion and perspectives \\label{sec:conclusion}}\n"
     ]
    },
    {
     "name": "stdout",
     "output_type": "stream",
     "text": [
      "✔ → 108163:\\section{Conclusion and perspectives \\label{sec:conclusion}}\n",
      "  ↳ 115168:\\begin{appendix}\n",
      "✔ → 115168:\\begin{appendix}\n",
      "  ↳ 115196:\\section{State of the art of each system \\label{app:biblio_indiv_systems}}\n"
     ]
    },
    {
     "name": "stdout",
     "output_type": "stream",
     "text": [
      "✔ → 115196:\\section{State of the art of each system \\label{app:biblio_indiv_systems}}\n",
      "  ↳ 170447:\\section{Age estimation \\label{app:age}}\n"
     ]
    },
    {
     "name": "stdout",
     "output_type": "stream",
     "text": [
      "✔ → 170447:\\section{Age estimation \\label{app:age}}\n",
      "  ↳ 194717:\\section{Stellar metallicity derivation \\label{app:metallicity}}\n"
     ]
    },
    {
     "name": "stdout",
     "output_type": "stream",
     "text": [
      "✔ → 194717:\\section{Stellar metallicity derivation \\label{app:metallicity}}\n",
      "  ↳ 202871:\\section{Log of the VLT/SPHERE observations \\label{app:log_obs}}\n"
     ]
    },
    {
     "name": "stdout",
     "output_type": "stream",
     "text": [
      "✔ → 202871:\\section{Log of the VLT/SPHERE observations \\label{app:log_obs}}\n",
      "  ↳ 212092:\\section{Reduced observations}\n",
      "✔ → 212092:\\section{Reduced observations}\n",
      "  ↳ 212592:\\section{Reduced observations and detections limits }\n"
     ]
    },
    {
     "name": "stdout",
     "output_type": "stream",
     "text": [
      "✔ → 212592:\\section{Reduced observations and detections limits }\n",
      "  ↳ 217554:\\section{Companion candidates from ANDROMEDA and SpeCal processing  \\label{app:diag_detections_algo}}\n",
      "✔ → 217554:\\section{Companion candidates from ANDROMEDA and SpeCal processing  \\label{app:diag_detections_algo}}\n",
      "  ↳ 219876:\\section{Input parameters for Gaia and Hipparcos results via the \\texttt{GaiaPMEX} tool}\n"
     ]
    },
    {
     "name": "stdout",
     "output_type": "stream",
     "text": [
      "✔ → 219876:\\section{Input parameters for Gaia and Hipparcos results via the \\texttt{GaiaPMEX} tool}\n",
      "  ↳ 228415:\\section{Comparison of detection method sensitivity on our survey  \\label{app:detlim_pedagogical}}\n",
      "✔ → 228415:\\section{Comparison of detection method sensitivity on our survey  \\label{app:detlim_pedagogical}}\n",
      "  ↳ 230391:end\n"
     ]
    },
    {
     "name": "stdout",
     "output_type": "stream",
     "text": [
      "C. Desgrange  ->  C. Desgrange  |  ['C. Desgrange']\n",
      "R. Burn  ->  R. Burn  |  ['R. Burn']\n",
      "E. Matthews  ->  E. Matthews  |  ['E. Matthews']\n"
     ]
    },
    {
     "name": "stderr",
     "output_type": "stream",
     "text": [
      "/opt/hostedtoolcache/Python/3.9.18/x64/lib/python3.9/site-packages/arxiv_on_deck_2/latex.py:120: LatexWarning: attempting recovering figure fig/overview/detlim_mass_survey_cond2003_median_over_27targets__astrometry.pdf\n",
      "  warnings.warn(LatexWarning(f'attempting recovering figure {image}'))\n",
      "/opt/hostedtoolcache/Python/3.9.18/x64/lib/python3.9/site-packages/arxiv_on_deck_2/latex.py:692: LatexWarning: Could not find graphic \\includegraphics[width=\\linewidth]{fig/overview/detlim_mass_survey_cond2003_median_over_27targets__astrometry.pdf}\n",
      "  warnings.warn(LatexWarning(f\"Could not find graphic {k}\"))\n"
     ]
    },
    {
     "name": "stderr",
     "output_type": "stream",
     "text": [
      "/opt/hostedtoolcache/Python/3.9.18/x64/lib/python3.9/site-packages/arxiv_on_deck_2/latex.py:120: LatexWarning: attempting recovering figure fig/detlim_contrast_curve_super_earth_all_survey_IRDIS_TLOCI ADI.pdf\n",
      "  warnings.warn(LatexWarning(f'attempting recovering figure {image}'))\n",
      "/opt/hostedtoolcache/Python/3.9.18/x64/lib/python3.9/site-packages/arxiv_on_deck_2/latex.py:692: LatexWarning: Could not find graphic \\includegraphics[width=1\\linewidth]{fig/detlim_contrast_curve_super_earth_all_survey_IRDIS_TLOCI ADI.pdf}\n",
      "  warnings.warn(LatexWarning(f\"Could not find graphic {k}\"))\n",
      "/opt/hostedtoolcache/Python/3.9.18/x64/lib/python3.9/site-packages/arxiv_on_deck_2/latex.py:120: LatexWarning: attempting recovering figure fig/detlim_contrast_curve_super_earth_all_survey_IRDIS_cADI.pdf\n",
      "  warnings.warn(LatexWarning(f'attempting recovering figure {image}'))\n",
      "/opt/hostedtoolcache/Python/3.9.18/x64/lib/python3.9/site-packages/arxiv_on_deck_2/latex.py:692: LatexWarning: Could not find graphic \\includegraphics[width=1\\linewidth]{fig/detlim_contrast_curve_super_earth_all_survey_IRDIS_cADI.pdf}\n",
      "  warnings.warn(LatexWarning(f\"Could not find graphic {k}\"))\n",
      "/opt/hostedtoolcache/Python/3.9.18/x64/lib/python3.9/site-packages/arxiv_on_deck_2/latex.py:120: LatexWarning: attempting recovering figure fig/detlim_contrast_curve_super_earth_all_survey_IFS_PCA ASDI.pdf\n",
      "  warnings.warn(LatexWarning(f'attempting recovering figure {image}'))\n",
      "/opt/hostedtoolcache/Python/3.9.18/x64/lib/python3.9/site-packages/arxiv_on_deck_2/latex.py:692: LatexWarning: Could not find graphic \\includegraphics[width=1\\linewidth]{fig/detlim_contrast_curve_super_earth_all_survey_IFS_PCA ASDI.pdf}\n",
      "  warnings.warn(LatexWarning(f\"Could not find graphic {k}\"))\n"
     ]
    },
    {
     "name": "stdout",
     "output_type": "stream",
     "text": [
      "Found 312 bibliographic references in tmp_2310.06035/main.bbl.\n",
      "syntax error in line 1775: '=' expected\n",
      "Retrieving document from  https://arxiv.org/e-print/2310.06051\n"
     ]
    },
    {
     "name": "stdout",
     "output_type": "stream",
     "text": [
      "extracting tarball to tmp_2310.06051..."
     ]
    },
    {
     "name": "stdout",
     "output_type": "stream",
     "text": [
      " done.\n"
     ]
    },
    {
     "name": "stderr",
     "output_type": "stream",
     "text": [
      "/opt/hostedtoolcache/Python/3.9.18/x64/lib/python3.9/site-packages/arxiv_on_deck_2/latex.py:120: LatexWarning: attempting recovering figure hist_Prv_sim_Pph_2_Pph\n",
      "  warnings.warn(LatexWarning(f'attempting recovering figure {image}'))\n",
      "/opt/hostedtoolcache/Python/3.9.18/x64/lib/python3.9/site-packages/arxiv_on_deck_2/latex.py:125: LatexWarning: Recovered figure hist_Prv_sim_Pph_2_Pph as tmp_2310.06051/./hist_Prv_sim_Pph_2_Pph.png\n",
      "  warnings.warn(LatexWarning(f'Recovered figure {image} as {fname}'))\n"
     ]
    },
    {
     "name": "stdout",
     "output_type": "stream",
     "text": [
      "Found 58 bibliographic references in tmp_2310.06051/fprlpv.bbl.\n",
      "syntax error in line 285: unbalanced braces\n",
      "Retrieving document from  https://arxiv.org/e-print/2310.06175\n"
     ]
    },
    {
     "name": "stdout",
     "output_type": "stream",
     "text": [
      "extracting tarball to tmp_2310.06175..."
     ]
    },
    {
     "name": "stdout",
     "output_type": "stream",
     "text": [
      " done.\n"
     ]
    },
    {
     "name": "stderr",
     "output_type": "stream",
     "text": [
      "/opt/hostedtoolcache/Python/3.9.18/x64/lib/python3.9/site-packages/IPython/core/interactiveshell.py:3526: LatexWarning: Multiple tex files.\n",
      "\n",
      "  exec(code_obj, self.user_global_ns, self.user_ns)\n",
      "/opt/hostedtoolcache/Python/3.9.18/x64/lib/python3.9/site-packages/IPython/core/interactiveshell.py:3526: LatexWarning: Found documentclass in tmp_2310.06175/dibs_accepted.tex\n",
      "\n",
      "  exec(code_obj, self.user_global_ns, self.user_ns)\n",
      "/opt/hostedtoolcache/Python/3.9.18/x64/lib/python3.9/site-packages/arxiv_on_deck_2/latex.py:399: LatexWarning: Latex injecting: 'authors_b_final' from 'tmp_2310.06175/authors_b_final.tex'\n",
      "  warnings.warn(LatexWarning(f\"Latex injecting: '{ext}' from '{subsource}'\"))\n"
     ]
    },
    {
     "name": "stdout",
     "output_type": "stream",
     "text": [
      "Found 60 bibliographic references in tmp_2310.06175/dibs_accepted.bbl.\n",
      "syntax error in line 249: '=' expected\n",
      "Retrieving document from  https://arxiv.org/e-print/2310.06216\n"
     ]
    },
    {
     "name": "stdout",
     "output_type": "stream",
     "text": [
      "extracting tarball to tmp_2310.06216..."
     ]
    },
    {
     "name": "stdout",
     "output_type": "stream",
     "text": [
      " done.\n",
      "Retrieving document from  https://arxiv.org/e-print/2310.06295\n"
     ]
    },
    {
     "name": "stdout",
     "output_type": "stream",
     "text": [
      "extracting tarball to tmp_2310.06295..."
     ]
    },
    {
     "name": "stdout",
     "output_type": "stream",
     "text": [
      " done.\n"
     ]
    },
    {
     "name": "stdout",
     "output_type": "stream",
     "text": [
      "Found 108 bibliographic references in tmp_2310.06295/main.bbl.\n",
      "Retrieving document from  https://arxiv.org/e-print/2310.06463\n"
     ]
    },
    {
     "name": "stdout",
     "output_type": "stream",
     "text": [
      "extracting tarball to tmp_2310.06463..."
     ]
    },
    {
     "name": "stdout",
     "output_type": "stream",
     "text": [
      " done.\n",
      "Retrieving document from  https://arxiv.org/e-print/2310.06501\n"
     ]
    },
    {
     "name": "stderr",
     "output_type": "stream",
     "text": [
      "/opt/hostedtoolcache/Python/3.9.18/x64/lib/python3.9/site-packages/IPython/core/interactiveshell.py:3526: LatexWarning: Multiple tex files.\n",
      "\n",
      "  exec(code_obj, self.user_global_ns, self.user_ns)\n",
      "/opt/hostedtoolcache/Python/3.9.18/x64/lib/python3.9/site-packages/IPython/core/interactiveshell.py:3526: LatexWarning: Found documentclass in tmp_2310.06463/main.tex\n",
      "\n",
      "  exec(code_obj, self.user_global_ns, self.user_ns)\n",
      "/opt/hostedtoolcache/Python/3.9.18/x64/lib/python3.9/site-packages/arxiv_on_deck_2/latex.py:399: LatexWarning: Latex injecting: 'acknowledgements' from 'tmp_2310.06463/acknowledgements.tex'\n",
      "  warnings.warn(LatexWarning(f\"Latex injecting: '{ext}' from '{subsource}'\"))\n"
     ]
    },
    {
     "name": "stdout",
     "output_type": "stream",
     "text": [
      "extracting tarball to tmp_2310.06501..."
     ]
    },
    {
     "name": "stdout",
     "output_type": "stream",
     "text": [
      " done.\n"
     ]
    },
    {
     "name": "stderr",
     "output_type": "stream",
     "text": [
      "/opt/hostedtoolcache/Python/3.9.18/x64/lib/python3.9/site-packages/IPython/core/interactiveshell.py:3526: LatexWarning: Multiple tex files.\n",
      "\n",
      "  exec(code_obj, self.user_global_ns, self.user_ns)\n",
      "/opt/hostedtoolcache/Python/3.9.18/x64/lib/python3.9/site-packages/IPython/core/interactiveshell.py:3526: LatexWarning: Found documentclass in tmp_2310.06501/ms.tex\n",
      "\n",
      "  exec(code_obj, self.user_global_ns, self.user_ns)\n",
      "/opt/hostedtoolcache/Python/3.9.18/x64/lib/python3.9/site-packages/arxiv_on_deck_2/latex.py:399: LatexWarning: Latex injecting: 'table2' from 'tmp_2310.06501/table2.tex'\n",
      "  warnings.warn(LatexWarning(f\"Latex injecting: '{ext}' from '{subsource}'\"))\n",
      "/opt/hostedtoolcache/Python/3.9.18/x64/lib/python3.9/site-packages/arxiv_on_deck_2/latex.py:399: LatexWarning: Latex injecting: 'table1' from 'tmp_2310.06501/table1.tex'\n",
      "  warnings.warn(LatexWarning(f\"Latex injecting: '{ext}' from '{subsource}'\"))\n",
      "/opt/hostedtoolcache/Python/3.9.18/x64/lib/python3.9/site-packages/arxiv_on_deck_2/latex.py:399: LatexWarning: Latex injecting: 'authors' from 'tmp_2310.06501/authors.tex'\n",
      "  warnings.warn(LatexWarning(f\"Latex injecting: '{ext}' from '{subsource}'\"))\n"
     ]
    },
    {
     "name": "stderr",
     "output_type": "stream",
     "text": [
      "/opt/hostedtoolcache/Python/3.9.18/x64/lib/python3.9/site-packages/arxiv_on_deck_2/latex.py:120: LatexWarning: attempting recovering figure figures/deprojected-zoom-2\n",
      "  warnings.warn(LatexWarning(f'attempting recovering figure {image}'))\n",
      "/opt/hostedtoolcache/Python/3.9.18/x64/lib/python3.9/site-packages/arxiv_on_deck_2/latex.py:125: LatexWarning: Recovered figure figures/deprojected-zoom-2 as tmp_2310.06501/./figures/deprojected-zoom-2.pdf\n",
      "  warnings.warn(LatexWarning(f'Recovered figure {image} as {fname}'))\n"
     ]
    },
    {
     "name": "stdout",
     "output_type": "stream",
     "text": [
      "Found 98 bibliographic references in tmp_2310.06501/ms.bbl.\n",
      "Retrieving document from  https://arxiv.org/e-print/2310.06551\n"
     ]
    },
    {
     "name": "stdout",
     "output_type": "stream",
     "text": [
      "extracting tarball to tmp_2310.06551..."
     ]
    },
    {
     "name": "stdout",
     "output_type": "stream",
     "text": [
      " done.\n"
     ]
    },
    {
     "name": "stdout",
     "output_type": "stream",
     "text": [
      "Found 24 bibliographic references in tmp_2310.06551/SifCfFpr.bbl.\n"
     ]
    }
   ],
   "source": [
    "documents = []\n",
    "failed = []\n",
    "for paper in tqdm(candidates):\n",
    "    paper_id = paper['identifier'].lower().replace('arxiv:', '')\n",
    "    \n",
    "    folder = f'tmp_{paper_id}'\n",
    "\n",
    "    try:\n",
    "        if not os.path.isdir(folder):\n",
    "            folder = retrieve_document_source(f\"{paper_id}\", f'tmp_{paper_id}')\n",
    "        \n",
    "        try:\n",
    "            doc = latex.LatexDocument(folder, validation=validation)    \n",
    "        except AffiliationError as affilerror:\n",
    "            msg = f\"ArXiv:{paper_id:s} is not an MPIA paper... \" + str(affilerror)\n",
    "            failed.append((paper, \"affiliation error: \" + str(affilerror) ))\n",
    "            continue\n",
    "        \n",
    "        # Hack because sometimes author parsing does not work well\n",
    "        if (len(doc.authors) != len(paper['authors'])):\n",
    "            doc._authors = paper['authors']\n",
    "        else:\n",
    "            # highlight authors (FIXME: doc.highlight_authors)\n",
    "            # done on arxiv paper already\n",
    "            doc._authors = highlight_authors_in_list(\n",
    "                [mpia.get_initials(k) for k in doc.authors], \n",
    "                normed_mpia_authors, verbose=True)\n",
    "        if (doc.abstract) in (None, ''):\n",
    "            doc._abstract = paper['abstract']\n",
    "            \n",
    "        doc.comment = (get_markdown_badge(paper_id) + \n",
    "                       \"<mark>Appeared on: \" + paper['date'] + \"</mark> - \")\n",
    "        if paper['comments']:\n",
    "            doc.comment += \" _\" + paper['comments'] + \"_\"\n",
    "        \n",
    "        full_md = doc.generate_markdown_text()\n",
    "        \n",
    "        full_md += get_markdown_qrcode(paper_id)\n",
    "        \n",
    "        # replace citations\n",
    "        try:\n",
    "            bibdata = latex_bib.LatexBib.from_doc(doc)\n",
    "            full_md = latex_bib.replace_citations(full_md, bibdata)\n",
    "        except Exception as e:\n",
    "            print(e)\n",
    "        \n",
    "        documents.append((paper_id, full_md))\n",
    "    except Exception as e:\n",
    "        warnings.warn(latex.LatexWarning(f\"{paper_id:s} did not run properly\\n\" +\n",
    "                                         str(e)\n",
    "                                        ))\n",
    "        failed.append((paper, \"latex error \" + str(e)))"
   ]
  },
  {
   "cell_type": "markdown",
   "id": "2505a25c",
   "metadata": {
    "papermill": {
     "duration": 0.008129,
     "end_time": "2023-10-11T04:13:26.545801",
     "exception": false,
     "start_time": "2023-10-11T04:13:26.537672",
     "status": "completed"
    },
    "tags": []
   },
   "source": [
    "### Export the logs\n",
    "\n",
    "Throughout, we also keep track of the logs per paper. see `logs-{today date}.md` "
   ]
  },
  {
   "cell_type": "code",
   "execution_count": 5,
   "id": "d733828a",
   "metadata": {
    "execution": {
     "iopub.execute_input": "2023-10-11T04:13:26.564569Z",
     "iopub.status.busy": "2023-10-11T04:13:26.563454Z",
     "iopub.status.idle": "2023-10-11T04:13:26.589642Z",
     "shell.execute_reply": "2023-10-11T04:13:26.588907Z"
    },
    "papermill": {
     "duration": 0.038503,
     "end_time": "2023-10-11T04:13:26.591769",
     "exception": false,
     "start_time": "2023-10-11T04:13:26.553266",
     "status": "completed"
    },
    "scrolled": false,
    "tags": []
   },
   "outputs": [
    {
     "data": {
      "text/markdown": [
       "## Successful papers"
      ],
      "text/plain": [
       "<IPython.core.display.Markdown object>"
      ]
     },
     "metadata": {},
     "output_type": "display_data"
    },
    {
     "data": {
      "text/markdown": [
       "\n",
       "|||\n",
       "|---:|:---|\n",
       "| [![arXiv](https://img.shields.io/badge/arXiv-arXiv:2310.06035-b31b1b.svg)](https://arxiv.org/abs/arXiv:2310.06035) | **Planetary system architectures with low-mass inner planets: Direct  imaging exploration of mature systems beyond 1 au**  |\n",
       "|| <mark>C. Desgrange</mark>, et al. -- incl., <mark>R. Burn</mark>, <mark>E. Matthews</mark> |\n",
       "|*Appeared on*| *2023-10-11*|\n",
       "|*Comments*| *49 pages including 31 pages of appendices and references, 31 figures, A&A, accepted*|\n",
       "|**Abstract**| The discovery of planets orbiting at less than 1 au from their host star and less massive than Saturn in various exoplanetary systems revolutionized our theories of planetary formation. The fundamental question is whether these close-in low-mass planets could have formed in the inner disk interior to 1 au, or whether they formed further out in the planet-forming disk and migrated inward. Exploring the role of additional giant planets in these systems may help us to pinpoint their global formation and evolution. We searched for additional substellar companions by using direct imaging in systems known to host close-in small planets. The use of direct imaging complemented by radial velocity and astrometric detection limits enabled us to explore the giant planet and brown dwarf demographics around these hosts to investigate the potential connection between both populations. We carried out a direct imaging survey with VLT/SPHERE to look for outer giant planets and brown dwarf companions in 27 systems hosting close-in low-mass planets discovered by radial velocity. Our sample is composed of very nearby (<20pc) planetary systems, orbiting G-, K-, and M-type mature (0.5-10Gyr) stellar hosts. We performed homogeneous direct imaging data reduction and analysis to search for and characterize point sources, and derived robust statistical detection limits. Of 337 point-source detections, we do not find any new bound companions. We recovered the emblematic very cool T-type brown dwarf GJ229B. Our typical sensitivities in direct imaging range from 5 to 30 MJup beyond 2 au. The non-detection of massive companions is consistent with predictions based on models of planet formation by core accretion. Our pilot study opens the way to a multi-technique approach for the exploration of very nearby exoplanetary systems with future ground-based and space observatories. |"
      ],
      "text/plain": [
       "[arXiv:2310.06035] Planetary system architectures with low-mass inner planets: Direct  imaging exploration of mature systems beyond 1 au\n",
       "\t<mark>C. Desgrange</mark>, et al. -- incl., <mark>R. Burn</mark>, <mark>E. Matthews</mark>"
      ]
     },
     "metadata": {},
     "output_type": "display_data"
    },
    {
     "data": {
      "text/markdown": [
       "\n",
       "|||\n",
       "|---:|:---|\n",
       "| [![arXiv](https://img.shields.io/badge/arXiv-arXiv:2310.06051-b31b1b.svg)](https://arxiv.org/abs/arXiv:2310.06051) | **Gaia Focused Product Release: Radial velocity time series of long-period  variables**  |\n",
       "|| G. Collaboration, et al. -- incl., <mark>M. Smith</mark>, <mark>C. Bailer-Jones</mark> |\n",
       "|*Appeared on*| *2023-10-11*|\n",
       "|*Comments*| *36 pages, 38 figures*|\n",
       "|**Abstract**| The third Gaia Data Release (DR3) provided photometric time series of more than 2 million long-period variable (LPV) candidates. Anticipating the publication of full radial-velocity (RV) in DR4, this Focused Product Release (FPR) provides RV time series for a selection of LPVs with high-quality observations. We describe the production and content of the Gaia catalog of LPV RV time series, and the methods used to compute variability parameters published in the Gaia FPR. Starting from the DR3 LPVs catalog, we applied filters to construct a sample of sources with high-quality RV measurements. We modeled their RV and photometric time series to derive their periods and amplitudes, and further refined the sample by requiring compatibility between the RV period and at least one of the $G$, $G_{\\rm BP}$, or $G_{\\rm RP}$ photometric periods. The catalog includes RV time series and variability parameters for 9\\,614 sources in the magnitude range $6\\lesssim G/{\\rm mag}\\lesssim 14$, including a flagged top-quality subsample of 6\\,093 stars whose RV periods are fully compatible with the values derived from the $G$, $G_{\\rm BP}$, and $G_{\\rm RP}$ photometric time series. The RV time series contain a mean of 24 measurements per source taken unevenly over a duration of about three years. We identify the great most sources (88%) as genuine LPVs, with about half of them showing a pulsation period and the other half displaying a long secondary period. The remaining 12% consists of candidate ellipsoidal binaries. Quality checks against RVs available in the literature show excellent agreement. We provide illustrative examples and cautionary remarks. The publication of RV time series for almost 10\\,000 LPVs constitutes, by far, the largest such database available to date in the literature. The availability of simultaneous photometric measurements gives a unique added value to the Gaia catalog (abridged) |"
      ],
      "text/plain": [
       "[arXiv:2310.06051] Gaia Focused Product Release: Radial velocity time series of long-period  variables\n",
       "\tG. Collaboration, et al. -- incl., <mark>M. Smith</mark>, <mark>C. Bailer-Jones</mark>"
      ]
     },
     "metadata": {},
     "output_type": "display_data"
    },
    {
     "data": {
      "text/markdown": [
       "\n",
       "|||\n",
       "|---:|:---|\n",
       "| [![arXiv](https://img.shields.io/badge/arXiv-arXiv:2310.06175-b31b1b.svg)](https://arxiv.org/abs/arXiv:2310.06175) | **Gaia Focused Product Release: Spatial distribution of two diffuse  interstellar bands**  |\n",
       "|| M. Schultheis, et al. -- incl., <mark>C. Bailer-Jones</mark>, <mark>M. Fouesneau</mark> |\n",
       "|*Appeared on*| *2023-10-11*|\n",
       "|*Comments*| *29 pages, accepted for publication in A&A*|\n",
       "|**Abstract**| Diffuse interstellar bands (DIBs) are absorption features seen in optical and infrared spectra of stars that are probably caused by large and complex molecules in the ISM. Here we investigate the Galactic distribution and properties of two DIBs identified in almost six million stellar spectra collected by the Gaia Radial Velocity Spectrometer. These measurements constitute a part of the Gaia Focused Product Release to be made public between the Gaia DR3 and DR4 data releases. In order to isolate the DIB signal from the stellar features in each individual spectrum, we identified a set of 160 000 spectra at high Galactic latitudes which we consider to be the DIB-free reference sample. Matching each target spectrum to its closest reference spectra in stellar parameter space allowed us to remove the stellar spectrum empirically, without reference to stellar models, leaving a set of six million ISM spectra. Identifying the two DIBs at 862.1 nm and 864.8 nm in the stacked spectra, we modelled their shapes and report the depth, central wavelength, width, and equivalent width (EW) for each, along with confidence bounds on these measurements. Our main results are as follows: (1) the strength and spatial distribution of the DIB $\\lambda$862.1 are very consistent with what was found in Gaia DR3, but for this work we attained a higher signal-to-noise ratio in the stacked spectra to larger distances, which allowed us to trace DIBs in the outer spiral arm and beyond the Scutum--Centaurus spiral arm; (2) we produced an all-sky map below ${\\pm}65^{\\circ}$ of Galactic latitude to $\\sim$4000 pc of both DIB features and their correlations; (3) we detected the signals of DIB\\,$\\lambda$862.1 inside the Local Bubble; and (4) there is a reasonable correlation with the dust reddening found from stellar absorption and EWs of both DIBs. |"
      ],
      "text/plain": [
       "[arXiv:2310.06175] Gaia Focused Product Release: Spatial distribution of two diffuse  interstellar bands\n",
       "\tM. Schultheis, et al. -- incl., <mark>C. Bailer-Jones</mark>, <mark>M. Fouesneau</mark>"
      ]
     },
     "metadata": {},
     "output_type": "display_data"
    },
    {
     "data": {
      "text/markdown": [
       "\n",
       "|||\n",
       "|---:|:---|\n",
       "| [![arXiv](https://img.shields.io/badge/arXiv-arXiv:2310.06295-b31b1b.svg)](https://arxiv.org/abs/arXiv:2310.06295) | **Gaia Focused Product Release: A catalogue of sources around quasars to  search for strongly lensed quasars**  |\n",
       "|| G. Collaboration, et al. -- incl., <mark>C. Bailer-Jones</mark>, <mark>M. Fouesneau</mark> |\n",
       "|*Appeared on*| *2023-10-11*|\n",
       "|*Comments*| *35 pages, 60 figures, accepted for publication by Astronomy and Astrophysics*|\n",
       "|**Abstract**| Context. Strongly lensed quasars are fundamental sources for cosmology. The Gaia space mission covers the entire sky with the unprecedented resolution of $0.18$\" in the optical, making it an ideal instrument to search for gravitational lenses down to the limiting magnitude of 21. Nevertheless, the previous Gaia Data Releases are known to be incomplete for small angular separations such as those expected for most lenses. Aims. We present the Data Processing and Analysis Consortium GravLens pipeline, which was built to analyse all Gaia detections around quasars and to cluster them into sources, thus producing a catalogue of secondary sources around each quasar. We analysed the resulting catalogue to produce scores that indicate source configurations that are compatible with strongly lensed quasars. Methods. GravLens uses the DBSCAN unsupervised clustering algorithm to detect sources around quasars. The resulting catalogue of multiplets is then analysed with several methods to identify potential gravitational lenses. We developed and applied an outlier scoring method, a comparison between the average BP and RP spectra of the components, and we also used an extremely randomised tree algorithm. These methods produce scores to identify the most probable configurations and to establish a list of lens candidates. Results. We analysed the environment of 3 760 032 quasars. A total of 4 760 920 sources, including the quasars, were found within 6\" of the quasar positions. This list is given in the Gaia archive. In 87\\% of cases, the quasar remains a single source, and in 501 385 cases neighbouring sources were detected. We propose a list of 381 lensed candidates, of which we identified 49 as the most promising. Beyond these candidates, the associate tables in this Focused Product Release allow the entire community to explore the unique Gaia data for strong lensing studies further. |"
      ],
      "text/plain": [
       "[arXiv:2310.06295] Gaia Focused Product Release: A catalogue of sources around quasars to  search for strongly lensed quasars\n",
       "\tG. Collaboration, et al. -- incl., <mark>C. Bailer-Jones</mark>, <mark>M. Fouesneau</mark>"
      ]
     },
     "metadata": {},
     "output_type": "display_data"
    },
    {
     "data": {
      "text/markdown": [
       "\n",
       "|||\n",
       "|---:|:---|\n",
       "| [![arXiv](https://img.shields.io/badge/arXiv-arXiv:2310.06501-b31b1b.svg)](https://arxiv.org/abs/arXiv:2310.06501) | **A sensitive, high-resolution, wide-field IRAM NOEMA CO(1-0) survey of  the very nearby spiral galaxy IC 342**  |\n",
       "|| M. Querejeta, et al. -- incl., <mark>E. Schinnerer</mark>, <mark>A. Hughes</mark>, <mark>K. Kreckel</mark>, <mark>N. Neumayer</mark> |\n",
       "|*Appeared on*| *2023-10-11*|\n",
       "|*Comments*| *16 pages, 6 figures, accepted for publication in A&A*|\n",
       "|**Abstract**| We present a new wide-field 10.75 x 10.75 arcmin^2 (~11x11 kpc^2), high-resolution (theta = 3.6\" ~ 60 pc) NOEMA CO(1-0) survey of the very nearby (d=3.45 Mpc) spiral galaxy IC 342. The survey spans out to about 1.5 effective radii and covers most of the region where molecular gas dominates the cold interstellar medium. We resolved the CO emission into >600 individual giant molecular clouds and associations. We assessed their properties and found that overall the clouds show approximate virial balance, with typical virial parameters of alpha_vir=1-2. The typical surface density and line width of molecular gas increase from the inter-arm region to the arm and bar region, and they reach their highest values in the inner kiloparsec of the galaxy (median Sigma_mol~80, 140, 160, and 1100 M_sun/pc^2, sigma_CO~6.6, 7.6, 9.7, and 18.4 km/s for inter-arm, arm, bar, and center clouds, respectively). Clouds in the central part of the galaxy show an enhanced line width relative to their surface densities and evidence of additional sources of dynamical broadening. All of these results agree well with studies of clouds in more distant galaxies at a similar physical resolution. Leveraging our measurements to estimate the density and gravitational free-fall time at 90 pc resolution, averaged on 1.5 kpc hexagonal apertures, we estimate a typical star formation efficiency per free-fall time of 0.45% with a 16-84% variation of 0.33-0.71% among such 1.5 kpc regions. We speculate that bar-driven gas inflow could explain the large gas concentration in the central kiloparsec and the buildup of the massive nuclear star cluster. This wide-area CO map of the closest face-on massive spiral galaxy demonstrates the current mapping power of NOEMA and has many potential applications. The data and products are publicly available. |"
      ],
      "text/plain": [
       "[arXiv:2310.06501] A sensitive, high-resolution, wide-field IRAM NOEMA CO(1-0) survey of  the very nearby spiral galaxy IC 342\n",
       "\tM. Querejeta, et al. -- incl., <mark>E. Schinnerer</mark>, <mark>A. Hughes</mark>, <mark>K. Kreckel</mark>, <mark>N. Neumayer</mark>"
      ]
     },
     "metadata": {},
     "output_type": "display_data"
    },
    {
     "data": {
      "text/markdown": [
       "\n",
       "|||\n",
       "|---:|:---|\n",
       "| [![arXiv](https://img.shields.io/badge/arXiv-arXiv:2310.06551-b31b1b.svg)](https://arxiv.org/abs/arXiv:2310.06551) | **Gaia Focused Product Release: Sources from Service Interface Function  image analysis -- Half a million new sources in omega Centauri**  |\n",
       "|| G. Collaboration, et al. -- incl., <mark>C. Bailer-Jones</mark>, <mark>M. Fouesneau</mark> |\n",
       "|*Appeared on*| *2023-10-11*|\n",
       "|*Comments*| **|\n",
       "|**Abstract**| Gaia's readout window strategy is challenged by very dense fields in the sky. Therefore, in addition to standard Gaia observations, full Sky Mapper (SM) images were recorded for nine selected regions in the sky. A new software pipeline exploits these Service Interface Function (SIF) images of crowded fields (CFs), making use of the availability of the full two-dimensional (2D) information. This new pipeline produced half a million additional Gaia sources in the region of the omega Centauri ($\\omega$ Cen) cluster, which are published with this Focused Product Release. We discuss the dedicated SIF CF data reduction pipeline, validate its data products, and introduce their Gaia archive table. Our aim is to improve the completeness of the {\\it Gaia} source inventory in a very dense region in the sky, $\\omega$ Cen. An adapted version of {\\it Gaia}'s Source Detection and Image Parameter Determination software located sources in the 2D SIF CF images. We validated the results by comparing them to the public {\\it Gaia} DR3 catalogue and external Hubble Space Telescope data. With this Focused Product Release, 526\\,587 new sources have been added to the {\\it Gaia} catalogue in $\\omega$ Cen. Apart from positions and brightnesses, the additional catalogue contains parallaxes and proper motions, but no meaningful colour information. While SIF CF source parameters generally have a lower precision than nominal {\\it Gaia} sources, in the cluster centre they increase the depth of the combined catalogue by three magnitudes and improve the source density by a factor of ten. This first SIF CF data publication already adds great value to the {\\it Gaia} catalogue. It demonstrates what to expect for the fourth {\\it Gaia} catalogue, which will contain additional sources for all nine SIF CF regions. |"
      ],
      "text/plain": [
       "[arXiv:2310.06551] Gaia Focused Product Release: Sources from Service Interface Function  image analysis -- Half a million new sources in omega Centauri\n",
       "\tG. Collaboration, et al. -- incl., <mark>C. Bailer-Jones</mark>, <mark>M. Fouesneau</mark>"
      ]
     },
     "metadata": {},
     "output_type": "display_data"
    },
    {
     "data": {
      "text/markdown": [
       "## Failed papers"
      ],
      "text/plain": [
       "<IPython.core.display.Markdown object>"
      ]
     },
     "metadata": {},
     "output_type": "display_data"
    },
    {
     "data": {
      "text/markdown": [
       "\n",
       "|||\n",
       "|---:|:---|\n",
       "| [![arXiv](https://img.shields.io/badge/arXiv-arXiv:2310.06216-b31b1b.svg)](https://arxiv.org/abs/arXiv:2310.06216) | **An Extreme FeLoBAL Outflow in the VLT/UVES Spectrum of Quasar SDSS  J1321-0041**  |\n",
       "|| D. Byun, et al. -- incl., <mark>M. Sharma</mark> |\n",
       "|*Appeared on*| *2023-10-11*|\n",
       "|*Comments*| *6 pages, 5 figures, 2 tables. Submitted to A&A*|\n",
       "|**Abstract**| Context. Quasar outflows are often analyzed to determine their ability to contribute to active galactic nucleus (AGN) feedback. We have identified a broad absorption line (BAL) outflow in the VLT/UVES spectrum of the quasar SDSS J1321-0041. The outflow shows troughs from Fe II, and is therefore identified as an FeLoBAL. It is quite extreme among that population, as it shows C II and Si II BALs. Aims. Outflow systems require a kinetic luminosity above $\\sim0.5\\%$ of the quasar's luminosity to contribute to AGN feedback. For this reason, we analyzed the spectrum of J1321-0041 to determine the outflow's kinetic luminosity, as well as the quasar's bolometric luminosity. Methods. We measured the ionic column densities from the absorption troughs in the spectrum, and determined the Hydrogen column density and ionization parameter using those column densities as our constraints. We also determined the electron number density $n_e$ based on the ratios between excited state and resonance state column densities of Fe II and Si II. This allowed us to find the distance of the outflow from its central source, as well as its kinetic luminosity. Results. We determined the kinetic luminosity of the outflow to be $8.4^{+13.2}_{-5.3}\\times 10^{45}\\text{ erg s}^{-1}$, and the quasar's bolometric luminosity to be $1.72\\pm0.13\\times10^{47}\\text{ erg s}^{-1}$, resulting in a ratio of $\\dot{E}_k/L_{Bol}=4.8^{+7.7}_{-3.1}\\%$. We conclude that this outflow has sufficient kinetic luminosity to contribute to AGN feedback. |\n",
       "|<p style=\"color:green\"> **ERROR** </p>| <p style=\"color:green\">affiliation error: mpia.affiliation_verifications: 'Heidelberg' keyword not found.</p> |"
      ],
      "text/plain": [
       "<IPython.core.display.Markdown object>"
      ]
     },
     "metadata": {},
     "output_type": "display_data"
    },
    {
     "data": {
      "text/markdown": [
       "\n",
       "|||\n",
       "|---:|:---|\n",
       "| [![arXiv](https://img.shields.io/badge/arXiv-arXiv:2310.06463-b31b1b.svg)](https://arxiv.org/abs/arXiv:2310.06463) | **IAS/CEA Evolution of Dust in Nearby Galaxies (ICED): the  spatially-resolved dust properties of NGC4254**  |\n",
       "|| L. Pantoni, et al. -- incl., <mark>A. Hughes</mark> |\n",
       "|*Appeared on*| *2023-10-11*|\n",
       "|*Comments*| *to appear in Proc. of the mm Universe 2023 conference, Grenoble (France), June 2023, published by F. Mayet et al. (Eds), EPJ Web of conferences, EDP Sciences*|\n",
       "|**Abstract**| We present the first preliminary results of the project \\textit{ICED}, focusing on the face-on galaxy NGC4254. We use the millimetre maps observed with NIKA2 at IRAM-30m, as part of the IMEGIN Guaranteed Time Large Program, and of a wide collection of ancillary data (multi-wavelength photometry and gas phase spectral lines) that are publicly available. We derive the global and local properties of interstellar dust grains through infrared-to-radio spectral energy distribution fitting, using the hierarchical Bayesian code HerBIE, which includes the grain properties of the state-of-the-art dust model, THEMIS. Our method allows us to get the following dust parameters: dust mass, average interstellar radiation field, and fraction of small grains. Also, it is effective in retrieving the intrinsic correlations between dust parameters and interstellar medium properties. We find an evident anti-correlation between the interstellar radiation field and the fraction of small grains in the centre of NGC4254, meaning that, at strong radiation field intensities, very small amorphous carbon grains are efficiently destroyed by the ultra-violet photons coming from newly formed stars, through photo-desorption and sublimation. We observe a flattening of the anti-correlation at larger radial distances, which may be driven by the steep metallicity gradient measured in NGC4254. |\n",
       "|<p style=\"color:green\"> **ERROR** </p>| <p style=\"color:green\">affiliation error: mpia.affiliation_verifications: 'Heidelberg' keyword not found.</p> |"
      ],
      "text/plain": [
       "<IPython.core.display.Markdown object>"
      ]
     },
     "metadata": {},
     "output_type": "display_data"
    }
   ],
   "source": [
    "import datetime\n",
    "today = str(datetime.date.today())\n",
    "logfile = f\"_build/html/logs/log-{today}.md\"\n",
    "\n",
    "\n",
    "with open(logfile, 'w') as logs:\n",
    "    # Success\n",
    "    logs.write(f'# Arxiv on Deck 2: Logs - {today}\\n\\n')\n",
    "    logs.write(\"\"\"* Arxiv had {0:,d} new papers\\n\"\"\".format(len(new_papers)))\n",
    "    logs.write(\"\"\"    * {0:,d} with possible author matches\\n\\n\"\"\".format(len(candidates)))\n",
    "    logs.write(\"## Sucessful papers\\n\\n\")\n",
    "    display(Markdown(\"## Successful papers\"))\n",
    "    success = [k[0] for k in documents]\n",
    "    for candid in candidates:\n",
    "        if candid['identifier'].split(':')[-1] in success:\n",
    "            display(candid)\n",
    "            logs.write(candid.generate_markdown_text() + '\\n\\n')\n",
    "\n",
    "    ## failed\n",
    "    logs.write(\"## Failed papers\\n\\n\")\n",
    "    display(Markdown(\"## Failed papers\"))\n",
    "    failed = sorted(failed, key=lambda x: x[1])\n",
    "    current_reason = \"\"\n",
    "    for paper, reason in failed:\n",
    "        if 'affiliation' in reason:\n",
    "            color = 'green'\n",
    "        else:\n",
    "            color = 'red'\n",
    "        data = Markdown(\n",
    "                paper.generate_markdown_text() + \n",
    "                f'\\n|<p style=\"color:{color:s}\"> **ERROR** </p>| <p style=\"color:{color:s}\">{reason:s}</p> |'\n",
    "               )\n",
    "        if reason != current_reason:\n",
    "            logs.write(f'### {reason:s} \\n\\n')\n",
    "            current_reason = reason\n",
    "        logs.write(data.data + '\\n\\n')\n",
    "        \n",
    "        # only display here the important errors (all in logs)\n",
    "        # if color in ('red',):\n",
    "        display(data)"
   ]
  },
  {
   "cell_type": "markdown",
   "id": "472d20ee",
   "metadata": {
    "papermill": {
     "duration": 0.008084,
     "end_time": "2023-10-11T04:13:26.610046",
     "exception": false,
     "start_time": "2023-10-11T04:13:26.601962",
     "status": "completed"
    },
    "tags": []
   },
   "source": [
    "## Export documents\n",
    "\n",
    "We now write the .md files and export relevant images"
   ]
  },
  {
   "cell_type": "code",
   "execution_count": 6,
   "id": "d426aed9",
   "metadata": {
    "execution": {
     "iopub.execute_input": "2023-10-11T04:13:26.628830Z",
     "iopub.status.busy": "2023-10-11T04:13:26.628211Z",
     "iopub.status.idle": "2023-10-11T04:13:26.637579Z",
     "shell.execute_reply": "2023-10-11T04:13:26.636810Z"
    },
    "papermill": {
     "duration": 0.020876,
     "end_time": "2023-10-11T04:13:26.639494",
     "exception": false,
     "start_time": "2023-10-11T04:13:26.618618",
     "status": "completed"
    },
    "tags": []
   },
   "outputs": [],
   "source": [
    "def export_markdown_summary(md: str, md_fname:str, directory: str):\n",
    "    \"\"\"Export MD document and associated relevant images\"\"\"\n",
    "    import os\n",
    "    import shutil\n",
    "    import re\n",
    "\n",
    "    if (os.path.exists(directory) and not os.path.isdir(directory)):\n",
    "        raise RuntimeError(f\"a non-directory file exists with name {directory:s}\")\n",
    "\n",
    "    if (not os.path.exists(directory)):\n",
    "        print(f\"creating directory {directory:s}\")\n",
    "        os.mkdir(directory)\n",
    "\n",
    "    fig_fnames = (re.compile(r'\\[Fig.*\\]\\((.*)\\)').findall(md) + \n",
    "                  re.compile(r'\\<img src=\"([^>\\s]*)\"[^>]*/>').findall(md))\n",
    "    for fname in fig_fnames:\n",
    "        if 'http' in fname:\n",
    "            # No need to copy online figures\n",
    "            continue\n",
    "        destdir = os.path.join(directory, os.path.dirname(fname))\n",
    "        destfname = os.path.join(destdir, os.path.basename(fname))\n",
    "        try:\n",
    "            os.makedirs(destdir)\n",
    "        except FileExistsError:\n",
    "            pass\n",
    "        shutil.copy(fname, destfname)\n",
    "    with open(os.path.join(directory, md_fname), 'w') as fout:\n",
    "        fout.write(md)\n",
    "    print(\"exported in \", os.path.join(directory, md_fname))\n",
    "    [print(\"    + \" + os.path.join(directory,fk)) for fk in fig_fnames]"
   ]
  },
  {
   "cell_type": "code",
   "execution_count": 7,
   "id": "014d04a4",
   "metadata": {
    "execution": {
     "iopub.execute_input": "2023-10-11T04:13:26.661530Z",
     "iopub.status.busy": "2023-10-11T04:13:26.661255Z",
     "iopub.status.idle": "2023-10-11T04:13:26.700012Z",
     "shell.execute_reply": "2023-10-11T04:13:26.698916Z"
    },
    "papermill": {
     "duration": 0.053343,
     "end_time": "2023-10-11T04:13:26.702404",
     "exception": false,
     "start_time": "2023-10-11T04:13:26.649061",
     "status": "completed"
    },
    "tags": []
   },
   "outputs": [
    {
     "name": "stdout",
     "output_type": "stream",
     "text": [
      "exported in  _build/html/2310.06035.md\n",
      "    + _build/html/tmp_2310.06035/./fig/target_indiv/PMD_GJ422_2epochs_zoom.png\n",
      "    + _build/html/tmp_2310.06035/./fig/detlim_contrast_curves/theory_vs_obs_DIonly_M.png\n",
      "    + _build/html/tmp_2310.06035/./fig/detlim_contrast_curves/theory_vs_obs_DIonly_GK.png\n",
      "    + _build/html/tmp_2310.06035/./fig/mosaics/mosaic_IRDIS_SpeCal_cADI_paper.png\n",
      "exported in  _build/html/2310.06051.md\n",
      "    + _build/html/tmp_2310.06051/./drv_dg_2panels.png\n",
      "    + _build/html/tmp_2310.06051/./RVTS_ARCep_cf_alvarez01_1.png\n",
      "    + _build/html/tmp_2310.06051/./RVTS_RSCrB_cf_hinkle02_1.png\n",
      "    + _build/html/tmp_2310.06051/./RVTS_RNor_cf_lebzelter05_1.png\n",
      "    + _build/html/tmp_2310.06051/./RVTS_ex_mixPph.png\n",
      "exported in  _build/html/2310.06175.md\n",
      "    + _build/html/tmp_2310.06175/./fit-example.png\n",
      "    + _build/html/tmp_2310.06175/./Corner_0.png\n",
      "    + _build/html/tmp_2310.06175/./DIB-width.png\n",
      "exported in  _build/html/2310.06295.md\n",
      "    + _build/html/tmp_2310.06295/./Figures/G2237+0305_final_compressed.jpg\n",
      "    + _build/html/tmp_2310.06295/./Figures/2MASSJ13102005-1714579_final_compressed.jpg\n",
      "    + _build/html/tmp_2310.06295/./Figures/DR3Gaia113100.075-441959.69.png\n",
      "    + _build/html/tmp_2310.06295/./Figures/DR3Gaia235007.548+365434.45.png\n",
      "    + _build/html/tmp_2310.06295/./Figures/DR3Gaia034732.982+350248.6.png\n",
      "    + _build/html/tmp_2310.06295/./Figures/DR3Gaia082523.532+241524.53.png\n",
      "    + _build/html/tmp_2310.06295/./Figures/qso_G.jpg\n",
      "    + _build/html/tmp_2310.06295/./Figures/qso_bprp.jpg\n",
      "    + _build/html/tmp_2310.06295/./Figures/qso_w1w2.jpg\n",
      "    + _build/html/tmp_2310.06295/./Figures/z_milli.jpg\n",
      "exported in  _build/html/2310.06501.md\n",
      "    + _build/html/tmp_2310.06501/./figures/ic342_tpeak.png\n",
      "    + _build/html/tmp_2310.06501/./figures/ic342_mom1.png\n",
      "    + _build/html/tmp_2310.06501/./figures/ic342_wide_logtg.png\n",
      "    + _build/html/tmp_2310.06501/./figures/ic0342_rprof.png\n",
      "    + _build/html/tmp_2310.06501/./figures/MQ_ic342_clouds.png\n",
      "    + _build/html/tmp_2310.06501/./figures/MQ_ic342_cprops.png\n",
      "    + _build/html/tmp_2310.06501/./figures/MQ_ic342_cprops_binned.png\n",
      "    + _build/html/tmp_2310.06501/./figures/MQ_ic342_beamwise.png\n",
      "    + _build/html/tmp_2310.06501/./figures/MQ_ic342_t_dep_vs_t_eff.png\n",
      "exported in  _build/html/2310.06551.md\n",
      "    + _build/html/tmp_2310.06551/./BelliniHST_mags.png\n",
      "    + _build/html/tmp_2310.06551/./dr3_col_terms_before.png\n",
      "    + _build/html/tmp_2310.06551/./dr3_mag_terms_before.png\n",
      "    + _build/html/tmp_2310.06551/./calibrators.png\n"
     ]
    }
   ],
   "source": [
    "for paper_id, md in documents:\n",
    "    export_markdown_summary(md, f\"{paper_id:s}.md\", '_build/html/')"
   ]
  },
  {
   "cell_type": "markdown",
   "id": "f087a0a7",
   "metadata": {
    "papermill": {
     "duration": 0.009361,
     "end_time": "2023-10-11T04:13:26.722741",
     "exception": false,
     "start_time": "2023-10-11T04:13:26.713380",
     "status": "completed"
    },
    "tags": []
   },
   "source": [
    "## Display the papers\n",
    "\n",
    "Not necessary but allows for a quick check."
   ]
  },
  {
   "cell_type": "code",
   "execution_count": 8,
   "id": "fd25f625",
   "metadata": {
    "execution": {
     "iopub.execute_input": "2023-10-11T04:13:26.744867Z",
     "iopub.status.busy": "2023-10-11T04:13:26.743832Z",
     "iopub.status.idle": "2023-10-11T04:13:26.759330Z",
     "shell.execute_reply": "2023-10-11T04:13:26.758334Z"
    },
    "papermill": {
     "duration": 0.028703,
     "end_time": "2023-10-11T04:13:26.761420",
     "exception": false,
     "start_time": "2023-10-11T04:13:26.732717",
     "status": "completed"
    },
    "scrolled": false,
    "tags": []
   },
   "outputs": [
    {
     "data": {
      "text/markdown": [
       "<div class=\"macros\" style=\"visibility:hidden;\">\n",
       "$\\newcommand{\\ensuremath}{}$\n",
       "$\\newcommand{\\xspace}{}$\n",
       "$\\newcommand{\\object}[1]{\\texttt{#1}}$\n",
       "$\\newcommand{\\farcs}{{.}''}$\n",
       "$\\newcommand{\\farcm}{{.}'}$\n",
       "$\\newcommand{\\arcsec}{''}$\n",
       "$\\newcommand{\\arcmin}{'}$\n",
       "$\\newcommand{\\ion}[2]{#1#2}$\n",
       "$\\newcommand{\\textsc}[1]{\\textrm{#1}}$\n",
       "$\\newcommand{\\hl}[1]{\\textrm{#1}}$\n",
       "$\\newcommand{\\footnote}[1]{}$\n",
       "$\\newcommand{\\dd}{\\textnormal{d}}$\n",
       "$\\newcommand{\\pa}[1]{\\left(#1\\right)}$\n",
       "$\\newcommand{\\pac}[1]{\\left[#1\\right]}$\n",
       "$\\newcommand{\\paa}[1]{\\left\\{#1\\right\\}}$\n",
       "$\\newcommand{\\teff}{\\ensuremath{\\mathrm{T_{eff}}}}$\n",
       "$\\newcommand{\\logg}{\\ensuremath{\\log(g)}}$\n",
       "$\\newcommand{\\logZ}{\\ensuremath{\\log(Z/Z_{\\odot})}}$\n",
       "$\\newcommand{\\pc}{\\ensuremath{\\mathrm{pc}}}$\n",
       "$\\newcommand{\\magg}{\\ensuremath{\\mathrm{mag}}}$\n",
       "$\\newcommand{\\kelvin}{\\ensuremath{\\mathrm{K}}}$\n",
       "$\\newcommand{\\mas}{\\ensuremath{\\mathrm{mas}}}$\n",
       "$\\newcommand{\\yr}{\\ensuremath{\\mathrm{year}}}$\n",
       "$\\newcommand{\\yrs}{\\ensuremath{\\mathrm{years}}}$\n",
       "$\\newcommand{\\monthh}{\\ensuremath{\\mathrm{month}}}$\n",
       "$\\newcommand{\\months}{\\ensuremath{\\mathrm{months}}}$\n",
       "$\\newcommand{\\dayy}{\\ensuremath{\\mathrm{day}}}$\n",
       "$\\newcommand{\\days}{\\ensuremath{\\mathrm{days}}}$\n",
       "$\\newcommand{\\hr}{\\ensuremath{\\mathrm{hour}}}$\n",
       "$\\newcommand{\\hrs}{\\ensuremath{\\mathrm{hours}}}$\n",
       "$\\newcommand{\\khz}{\\ensuremath{\\mathrm{kHz}}}$\n",
       "$\\newcommand{\\hz}{\\ensuremath{\\mathrm{Hz}}}$\n",
       "$\\newcommand{\\myr}{\\ensuremath{\\mathrm{Myr}}}$\n",
       "$\\newcommand{\\gyr}{\\ensuremath{\\mathrm{Gyr}}}$\n",
       "$\\newcommand{\\au}{\\ensuremath{\\mathrm{au}}}$\n",
       "$\\newcommand{\\mic}{\\ensuremath{\\mathrm{\\mu m}}}$\n",
       "$\\newcommand{\\nm}{\\ensuremath{\\mathrm{nm}}}$\n",
       "$\\newcommand{\\pic}{\\ensuremath{\\mathrm{pm}}}$\n",
       "$\\newcommand{\\mj}{\\ensuremath{\\mathrm{M_{Jup}}}}$\n",
       "$\\newcommand{\\rj}{\\ensuremath{\\mathrm{R_{Jup}}}}$\n",
       "$\\newcommand{\\mearth}{\\ensuremath{\\mathrm{M}_\\oplus}}$\n",
       "$\\newcommand{\\rearth}{\\ensuremath{\\textnormal{R}_{\\oplus}}}$\n",
       "$\\newcommand{\\densityearth}{\\ensuremath{\\rho_{\\oplus}}}$\n",
       "$\\newcommand{\\msun}{\\ensuremath{\\textnormal{M}_\\odot}}$\n",
       "$\\newcommand{\\rsun}{\\ensuremath{\\textnormal{R}_\\odot}}$\n",
       "$\\newcommand{\\lsun}{\\ensuremath{\\textnormal{L}_\\odot}}$\n",
       "$\\newcommand{◦}{\\ensuremath{^\\circ}}$\n",
       "$\\newcommandinecolor{lagoon}{rgb}{0.5, 0.7, 0.8}$\n",
       "$\\newcommandinecolor{forest green}{rgb}{0.233, 0.645, 0.233}$\n",
       "$\\newcommand{\\edc}[1]{\\textcolor{lagoon}{#1}}$\n",
       "$\\newcommand{\\celia}[1]{\\textcolor{lagoon}{ [\\textbf{Célia: } #1]}}$\n",
       "$\\newcommand{\\gael}[1]{\\textcolor{magenta}{ [\\textbf{Gaël: } #1]}}$\n",
       "$\\newcommand{\\JM}[1]{\\textcolor{forest green}{ #1 [JM]}}$\n",
       "$\\setlength{\\LTcapwidth}{\\textwidth}$\n",
       "$\\setlength{\\tabcolsep}{5pt}$\n",
       "$\\begin{document}$\n",
       "$   \\title{Planetary system architectures with low-mass inner planets$\n",
       "$}$\n",
       "$\\subtitle{Direct imaging\\thanks{Based on observations collected at the European Southern Observatory under ESO programmes 099.C-0255(A) 102.C-0489(A), 103.C-0484 (A and B), and 109.23F2.} exploration of mature systems beyond 1 au}$\n",
       "$   \\authorrunning{Desgrange et al.}$\n",
       "$   \\author{C.~Desgrange\\inst{1}\\fnmsep\\inst{2}, J.~Milli\\inst{1}, G.~Chauvin\\inst{3}, Th.~Henning\\inst{2}, A.~Luashvili\\inst{4}, M.~Read\\inst{5}, M.~Wyatt\\inst{6}, G.~Kennedy\\inst{7}\\fnmsep\\inst{8}, R.~Burn\\inst{2}, M.~Schlecker\\inst{9}, F.~Kiefer\\inst{10}, V.~D'Orazi\\inst{11}\\fnmsep\\inst{12}, S.~Messina\\inst{13}, P.~Rubini\\inst{14}, A.-M.~Lagrange\\inst{10}, C.~Babusiaux\\inst{1}, L.~Matrà\\inst{15}, B.~Bitsch\\inst{2}, M.~Bonavita\\inst{12}\\fnmsep\\inst{16}, P.~Delorme\\inst{1}, E.~Matthews\\inst{2}, P.~Palma-Bifani\\inst{3}, A.~Vigan\\inst{17}$\n",
       "$        }$\n",
       "$   \\institute{$\n",
       "$    ^{1} Univ. Grenoble Alpes, CNRS, IPAG, F-38000 Grenoble, France;  e-mail: celia.desgrange@univ-grenoble-alpes.fr \\^{2} Max Planck Institute for Astronomy, Königstuhl 17, D-69117 Heidelberg, Germany\\^{3}\\;Laboratoire Lagrange, UMR7293, Université  Cote d’Azur, CNRS, Observatoire de la C\\^ote d’Azur. Boulevard de l’Observatoire, 06304 Nice, France. \\^{4} Laboratoire Univers et Théories, Observatoire de Paris, Université PSL, CNRS, Université Paris Cité, 92190 Meudon, France\\^{5} Space Research and Planetology Division, Physikalisches Inst., Universität Bern, Switzerland \\^{6} Institute of Astronomy, University of Cambridge, Madingley Road, Cambridge CB3 0HA, United Kingdom \\^{7} Department of Physics, University of Warwick, Gibbet Hill Road, Coventry, CV4 7AL, UK\\^{8} Centre for Exoplanets and Habitability, University of Warwick, Gibbet Hill Road, Coventry CV4 7AL, UK\\^{9} Department of Astronomy/Steward Observatory, The University of Arizona, 933 North Cherry Avenue, Tucson, AZ 85721, USA \\^{10}\\;LESIA, Observatoire de Paris, Université PSL, CNRS, Sorbonne Université, Université de Paris, 5 place Jules Janssen, 92195 Meudon, France \\^{11} Department of Physics, University of Rome Tor Vergata, Via della Ricerca Scientifica 1, 00133 Rome, Italy\\^{12} INAF-Osservatorio Astronomico di Padova, Vicolo dell’ Osservatorio 5, 35122, Padova, Italy\\^{13} INAF–Osservatorio Astrofisico di Catania, via Santa Sofia, 78 Catania, Italy \\^{14} Pixyl, 5 Avenue du Grand Sablon, 38700 La Tronche, France\\^{15} School of Physics, Trinity College Dublin, The University of Dublin, College Green, Dublin 2, Ireland\\^{16} School of Physical Sciences, The Open University, Walton Hall, Milton Keynes, MK7 6AA, UK\\^{17} Aix Marseille Univ, CNRS, CNES, LAM, Marseille, France\\}$\n",
       "$   \\date $\n",
       "$  \\abstract{The discovery of planets orbiting at less than 1 au from their host star and less massive than Saturn in various exoplanetary systems revolutionized our theories of planetary formation.$\n",
       "$   The fundamental question is whether these close-in low-mass planets could have formed in the inner disk interior to 1 au, or whether they formed further out in the planet-forming disk and migrated inward.$\n",
       "$   Exploring the role of additional giant planet(s) in these systems may help us to pinpoint their global formation and evolution.$\n",
       "$   }{We searched for additional substellar companions  by using direct imaging in systems known to host close-in small planets. The use of direct imaging complemented by radial velocity and astrometric detection limits enabled us to explore the giant planet and brown dwarf demographics around these hosts to investigate the potential connection between both populations.}{We carried out a direct imaging survey with SPHERE at VLT to look for outer giant planets and brown dwarf companions in 27 systems hosting close-in low-mass planets discovered by radial velocity. Our sample is composed of very nearby (< 20 pc) planetary systems, orbiting G-, K-, and M-type mature (0.5--10 Gyr) stellar hosts. We performed homogeneous direct imaging data reduction and analysis to search for and characterize point sources, and derived robust statistical detection limits.$\n",
       "$   The final direct imaging detection performances were globally considered together  with radial velocity and astrometric sensitivity. }{Of 337 point-source detections, we do not find any new bound companions. We recovered the emblematic very cool T-type brown dwarf GJ 229 B. Our typical sensitivities in direct imaging range from 5 to 30 M_{\\rm Jup} beyond 2 au. The non-detection of massive companions is consistent with predictions based on models of planet formation by core accretion. Our pilot study opens the way to a multi-technique approach for the exploration of very nearby exoplanetary systems with future ground-based and space observatories.}$\n",
       "$    $\n",
       "$   \\keywords{Planetary systems -- Instrumentation: adaptive optics, high angular resolution -- Methods: observational}$\n",
       "$   \\titlerunning{Architecture of systems hosting close-in sub-Saturns}$\n",
       "$   \\maketitle$\n",
       "$\\bibliographystyle{aa.bst}$\n",
       "$\\n\\end{document}}}}$\n",
       "$\\newcommand{\\pac}[1]{\\left[#1\\right]}$\n",
       "$\\newcommand{\\paa}[1]{\\left\\{#1\\right\\}}$\n",
       "$\\newcommand{\\teff}{\\ensuremath{\\mathrm{T_{eff}}}}$\n",
       "$\\newcommand{\\logg}{\\ensuremath{\\log(g)}}$\n",
       "$\\newcommand{\\logZ}{\\ensuremath{\\log(Z/Z_{\\odot})}}$\n",
       "$\\newcommand{\\pc}{\\ensuremath{\\mathrm{pc}}}$\n",
       "$\\newcommand{\\magg}{\\ensuremath{\\mathrm{mag}}}$\n",
       "$\\newcommand{\\kelvin}{\\ensuremath{\\mathrm{K}}}$\n",
       "$\\newcommand{\\mas}{\\ensuremath{\\mathrm{mas}}}$\n",
       "$\\newcommand{\\yr}{\\ensuremath{\\mathrm{year}}}$\n",
       "$\\newcommand{\\yrs}{\\ensuremath{\\mathrm{years}}}$\n",
       "$\\newcommand{\\monthh}{\\ensuremath{\\mathrm{month}}}$\n",
       "$\\newcommand{\\months}{\\ensuremath{\\mathrm{months}}}$\n",
       "$\\newcommand{\\dayy}{\\ensuremath{\\mathrm{day}}}$\n",
       "$\\newcommand{\\days}{\\ensuremath{\\mathrm{days}}}$\n",
       "$\\newcommand{\\hr}{\\ensuremath{\\mathrm{hour}}}$\n",
       "$\\newcommand{\\hrs}{\\ensuremath{\\mathrm{hours}}}$\n",
       "$\\newcommand{\\khz}{\\ensuremath{\\mathrm{kHz}}}$\n",
       "$\\newcommand{\\hz}{\\ensuremath{\\mathrm{Hz}}}$\n",
       "$\\newcommand{\\myr}{\\ensuremath{\\mathrm{Myr}}}$\n",
       "$\\newcommand{\\gyr}{\\ensuremath{\\mathrm{Gyr}}}$\n",
       "$\\newcommand{\\au}{\\ensuremath{\\mathrm{au}}}$\n",
       "$\\newcommand{\\mic}{\\ensuremath{\\mathrm{\\mu m}}}$\n",
       "$\\newcommand{\\nm}{\\ensuremath{\\mathrm{nm}}}$\n",
       "$\\newcommand{\\pic}{\\ensuremath{\\mathrm{pm}}}$\n",
       "$\\newcommand{\\mj}{\\ensuremath{\\mathrm{M_{Jup}}}}$\n",
       "$\\newcommand{\\rj}{\\ensuremath{\\mathrm{R_{Jup}}}}$\n",
       "$\\newcommand{\\mearth}{\\ensuremath{\\mathrm{M}_\\oplus}}$\n",
       "$\\newcommand{\\rearth}{\\ensuremath{\\textnormal{R}_{\\oplus}}}$\n",
       "$\\newcommand{\\densityearth}{\\ensuremath{\\rho_{\\oplus}}}$\n",
       "$\\newcommand{\\msun}{\\ensuremath{\\textnormal{M}_\\odot}}$\n",
       "$\\newcommand{\\rsun}{\\ensuremath{\\textnormal{R}_\\odot}}$\n",
       "$\\newcommand{\\lsun}{\\ensuremath{\\textnormal{L}_\\odot}}$\n",
       "$\\newcommand{◦}{\\ensuremath{^\\circ}}$\n",
       "$\\newcommandinecolor{lagoon}{rgb}{0.5, 0.7, 0.8}$\n",
       "$\\newcommandinecolor{forest green}{rgb}{0.233, 0.645, 0.233}$\n",
       "$\\newcommand{\\edc}[1]{\\textcolor{lagoon}{#1}}$\n",
       "$\\newcommand{\\celia}[1]{\\textcolor{lagoon}{ [\\textbf{Célia: } #1]}}$\n",
       "$\\newcommand{\\gael}[1]{\\textcolor{magenta}{ [\\textbf{Gaël: } #1]}}$\n",
       "$\\newcommand{\\JM}[1]{\\textcolor{forest green}{ #1 [JM]}}$\n",
       "$\\setlength{\\LTcapwidth}{\\textwidth}$\n",
       "$\\setlength{\\tabcolsep}{5pt}$\n",
       "$\\begin{document}$\n",
       "$   \\title{Planetary system architectures with low-mass inner planets$\n",
       "$}$\n",
       "$\\subtitle{Direct imaging\\thanks{Based on observations collected at the European Southern Observatory under ESO programmes 099.C-0255(A) 102.C-0489(A), 103.C-0484 (A and B), and 109.23F2.} exploration of mature systems beyond 1 au}$\n",
       "$   \\authorrunning{Desgrange et al.}$\n",
       "$   \\author{C.~Desgrange\\inst{1}\\fnmsep\\inst{2}, J.~Milli\\inst{1}, G.~Chauvin\\inst{3}, Th.~Henning\\inst{2}, A.~Luashvili\\inst{4}, M.~Read\\inst{5}, M.~Wyatt\\inst{6}, G.~Kennedy\\inst{7}\\fnmsep\\inst{8}, R.~Burn\\inst{2}, M.~Schlecker\\inst{9}, F.~Kiefer\\inst{10}, V.~D'Orazi\\inst{11}\\fnmsep\\inst{12}, S.~Messina\\inst{13}, P.~Rubini\\inst{14}, A.-M.~Lagrange\\inst{10}, C.~Babusiaux\\inst{1}, L.~Matrà\\inst{15}, B.~Bitsch\\inst{2}, M.~Bonavita\\inst{12}\\fnmsep\\inst{16}, P.~Delorme\\inst{1}, E.~Matthews\\inst{2}, P.~Palma-Bifani\\inst{3}, A.~Vigan\\inst{17}$\n",
       "$        }$\n",
       "$   \\institute{$\n",
       "$    ^{1} Univ. Grenoble Alpes, CNRS, IPAG, F-38000 Grenoble, France;  e-mail: celia.desgrange@univ-grenoble-alpes.fr \\^{2} Max Planck Institute for Astronomy, Königstuhl 17, D-69117 Heidelberg, Germany\\^{3}\\;Laboratoire Lagrange, UMR7293, Université  Cote d’Azur, CNRS, Observatoire de la C\\^ote d’Azur. Boulevard de l’Observatoire, 06304 Nice, France. \\^{4} Laboratoire Univers et Théories, Observatoire de Paris, Université PSL, CNRS, Université Paris Cité, 92190 Meudon, France\\^{5} Space Research and Planetology Division, Physikalisches Inst., Universität Bern, Switzerland \\^{6} Institute of Astronomy, University of Cambridge, Madingley Road, Cambridge CB3 0HA, United Kingdom \\^{7} Department of Physics, University of Warwick, Gibbet Hill Road, Coventry, CV4 7AL, UK\\^{8} Centre for Exoplanets and Habitability, University of Warwick, Gibbet Hill Road, Coventry CV4 7AL, UK\\^{9} Department of Astronomy/Steward Observatory, The University of Arizona, 933 North Cherry Avenue, Tucson, AZ 85721, USA \\^{10}\\;LESIA, Observatoire de Paris, Université PSL, CNRS, Sorbonne Université, Université de Paris, 5 place Jules Janssen, 92195 Meudon, France \\^{11} Department of Physics, University of Rome Tor Vergata, Via della Ricerca Scientifica 1, 00133 Rome, Italy\\^{12} INAF-Osservatorio Astronomico di Padova, Vicolo dell’ Osservatorio 5, 35122, Padova, Italy\\^{13} INAF–Osservatorio Astrofisico di Catania, via Santa Sofia, 78 Catania, Italy \\^{14} Pixyl, 5 Avenue du Grand Sablon, 38700 La Tronche, France\\^{15} School of Physics, Trinity College Dublin, The University of Dublin, College Green, Dublin 2, Ireland\\^{16} School of Physical Sciences, The Open University, Walton Hall, Milton Keynes, MK7 6AA, UK\\^{17} Aix Marseille Univ, CNRS, CNES, LAM, Marseille, France\\}$\n",
       "$   \\date $\n",
       "$  \\abstract{The discovery of planets orbiting at less than 1 au from their host star and less massive than Saturn in various exoplanetary systems revolutionized our theories of planetary formation.$\n",
       "$   The fundamental question is whether these close-in low-mass planets could have formed in the inner disk interior to 1 au, or whether they formed further out in the planet-forming disk and migrated inward.$\n",
       "$   Exploring the role of additional giant planet(s) in these systems may help us to pinpoint their global formation and evolution.$\n",
       "$   }{We searched for additional substellar companions  by using direct imaging in systems known to host close-in small planets. The use of direct imaging complemented by radial velocity and astrometric detection limits enabled us to explore the giant planet and brown dwarf demographics around these hosts to investigate the potential connection between both populations.}{We carried out a direct imaging survey with SPHERE at VLT to look for outer giant planets and brown dwarf companions in 27 systems hosting close-in low-mass planets discovered by radial velocity. Our sample is composed of very nearby (< 20 pc) planetary systems, orbiting G-, K-, and M-type mature (0.5--10 Gyr) stellar hosts. We performed homogeneous direct imaging data reduction and analysis to search for and characterize point sources, and derived robust statistical detection limits.$\n",
       "$   The final direct imaging detection performances were globally considered together  with radial velocity and astrometric sensitivity. }{Of 337 point-source detections, we do not find any new bound companions. We recovered the emblematic very cool T-type brown dwarf GJ 229 B. Our typical sensitivities in direct imaging range from 5 to 30 M_{\\rm Jup} beyond 2 au. The non-detection of massive companions is consistent with predictions based on models of planet formation by core accretion. Our pilot study opens the way to a multi-technique approach for the exploration of very nearby exoplanetary systems with future ground-based and space observatories.}$\n",
       "$    $\n",
       "$   \\keywords{Planetary systems -- Instrumentation: adaptive optics, high angular resolution -- Methods: observational}$\n",
       "$   \\titlerunning{Architecture of systems hosting close-in sub-Saturns}$\n",
       "$   \\maketitle$\n",
       "$\\bibliographystyle{aa.bst}$\n",
       "$\\n\\end{document}}}$\n",
       "$\\newcommand{\\paa}[1]{\\left\\{#1\\right\\}}$\n",
       "$\\newcommand{\\teff}{\\ensuremath{\\mathrm{T_{eff}}}}$\n",
       "$\\newcommand{\\logg}{\\ensuremath{\\log(g)}}$\n",
       "$\\newcommand{\\logZ}{\\ensuremath{\\log(Z/Z_{\\odot})}}$\n",
       "$\\newcommand{\\pc}{\\ensuremath{\\mathrm{pc}}}$\n",
       "$\\newcommand{\\magg}{\\ensuremath{\\mathrm{mag}}}$\n",
       "$\\newcommand{\\kelvin}{\\ensuremath{\\mathrm{K}}}$\n",
       "$\\newcommand{\\mas}{\\ensuremath{\\mathrm{mas}}}$\n",
       "$\\newcommand{\\yr}{\\ensuremath{\\mathrm{year}}}$\n",
       "$\\newcommand{\\yrs}{\\ensuremath{\\mathrm{years}}}$\n",
       "$\\newcommand{\\monthh}{\\ensuremath{\\mathrm{month}}}$\n",
       "$\\newcommand{\\months}{\\ensuremath{\\mathrm{months}}}$\n",
       "$\\newcommand{\\dayy}{\\ensuremath{\\mathrm{day}}}$\n",
       "$\\newcommand{\\days}{\\ensuremath{\\mathrm{days}}}$\n",
       "$\\newcommand{\\hr}{\\ensuremath{\\mathrm{hour}}}$\n",
       "$\\newcommand{\\hrs}{\\ensuremath{\\mathrm{hours}}}$\n",
       "$\\newcommand{\\khz}{\\ensuremath{\\mathrm{kHz}}}$\n",
       "$\\newcommand{\\hz}{\\ensuremath{\\mathrm{Hz}}}$\n",
       "$\\newcommand{\\myr}{\\ensuremath{\\mathrm{Myr}}}$\n",
       "$\\newcommand{\\gyr}{\\ensuremath{\\mathrm{Gyr}}}$\n",
       "$\\newcommand{\\au}{\\ensuremath{\\mathrm{au}}}$\n",
       "$\\newcommand{\\mic}{\\ensuremath{\\mathrm{\\mu m}}}$\n",
       "$\\newcommand{\\nm}{\\ensuremath{\\mathrm{nm}}}$\n",
       "$\\newcommand{\\pic}{\\ensuremath{\\mathrm{pm}}}$\n",
       "$\\newcommand{\\mj}{\\ensuremath{\\mathrm{M_{Jup}}}}$\n",
       "$\\newcommand{\\rj}{\\ensuremath{\\mathrm{R_{Jup}}}}$\n",
       "$\\newcommand{\\mearth}{\\ensuremath{\\mathrm{M}_\\oplus}}$\n",
       "$\\newcommand{\\rearth}{\\ensuremath{\\textnormal{R}_{\\oplus}}}$\n",
       "$\\newcommand{\\densityearth}{\\ensuremath{\\rho_{\\oplus}}}$\n",
       "$\\newcommand{\\msun}{\\ensuremath{\\textnormal{M}_\\odot}}$\n",
       "$\\newcommand{\\rsun}{\\ensuremath{\\textnormal{R}_\\odot}}$\n",
       "$\\newcommand{\\lsun}{\\ensuremath{\\textnormal{L}_\\odot}}$\n",
       "$\\newcommand{◦}{\\ensuremath{^\\circ}}$\n",
       "$\\newcommandinecolor{lagoon}{rgb}{0.5, 0.7, 0.8}$\n",
       "$\\newcommandinecolor{forest green}{rgb}{0.233, 0.645, 0.233}$\n",
       "$\\newcommand{\\edc}[1]{\\textcolor{lagoon}{#1}}$\n",
       "$\\newcommand{\\celia}[1]{\\textcolor{lagoon}{ [\\textbf{Célia: } #1]}}$\n",
       "$\\newcommand{\\gael}[1]{\\textcolor{magenta}{ [\\textbf{Gaël: } #1]}}$\n",
       "$\\newcommand{\\JM}[1]{\\textcolor{forest green}{ #1 [JM]}}$\n",
       "$\\setlength{\\LTcapwidth}{\\textwidth}$\n",
       "$\\setlength{\\tabcolsep}{5pt}$\n",
       "$\\begin{document}$\n",
       "$   \\title{Planetary system architectures with low-mass inner planets$\n",
       "$}$\n",
       "$\\subtitle{Direct imaging\\thanks{Based on observations collected at the European Southern Observatory under ESO programmes 099.C-0255(A) 102.C-0489(A), 103.C-0484 (A and B), and 109.23F2.} exploration of mature systems beyond 1 au}$\n",
       "$   \\authorrunning{Desgrange et al.}$\n",
       "$   \\author{C.~Desgrange\\inst{1}\\fnmsep\\inst{2}, J.~Milli\\inst{1}, G.~Chauvin\\inst{3}, Th.~Henning\\inst{2}, A.~Luashvili\\inst{4}, M.~Read\\inst{5}, M.~Wyatt\\inst{6}, G.~Kennedy\\inst{7}\\fnmsep\\inst{8}, R.~Burn\\inst{2}, M.~Schlecker\\inst{9}, F.~Kiefer\\inst{10}, V.~D'Orazi\\inst{11}\\fnmsep\\inst{12}, S.~Messina\\inst{13}, P.~Rubini\\inst{14}, A.-M.~Lagrange\\inst{10}, C.~Babusiaux\\inst{1}, L.~Matrà\\inst{15}, B.~Bitsch\\inst{2}, M.~Bonavita\\inst{12}\\fnmsep\\inst{16}, P.~Delorme\\inst{1}, E.~Matthews\\inst{2}, P.~Palma-Bifani\\inst{3}, A.~Vigan\\inst{17}$\n",
       "$        }$\n",
       "$   \\institute{$\n",
       "$    ^{1} Univ. Grenoble Alpes, CNRS, IPAG, F-38000 Grenoble, France;  e-mail: celia.desgrange@univ-grenoble-alpes.fr \\^{2} Max Planck Institute for Astronomy, Königstuhl 17, D-69117 Heidelberg, Germany\\^{3}\\;Laboratoire Lagrange, UMR7293, Université  Cote d’Azur, CNRS, Observatoire de la C\\^ote d’Azur. Boulevard de l’Observatoire, 06304 Nice, France. \\^{4} Laboratoire Univers et Théories, Observatoire de Paris, Université PSL, CNRS, Université Paris Cité, 92190 Meudon, France\\^{5} Space Research and Planetology Division, Physikalisches Inst., Universität Bern, Switzerland \\^{6} Institute of Astronomy, University of Cambridge, Madingley Road, Cambridge CB3 0HA, United Kingdom \\^{7} Department of Physics, University of Warwick, Gibbet Hill Road, Coventry, CV4 7AL, UK\\^{8} Centre for Exoplanets and Habitability, University of Warwick, Gibbet Hill Road, Coventry CV4 7AL, UK\\^{9} Department of Astronomy/Steward Observatory, The University of Arizona, 933 North Cherry Avenue, Tucson, AZ 85721, USA \\^{10}\\;LESIA, Observatoire de Paris, Université PSL, CNRS, Sorbonne Université, Université de Paris, 5 place Jules Janssen, 92195 Meudon, France \\^{11} Department of Physics, University of Rome Tor Vergata, Via della Ricerca Scientifica 1, 00133 Rome, Italy\\^{12} INAF-Osservatorio Astronomico di Padova, Vicolo dell’ Osservatorio 5, 35122, Padova, Italy\\^{13} INAF–Osservatorio Astrofisico di Catania, via Santa Sofia, 78 Catania, Italy \\^{14} Pixyl, 5 Avenue du Grand Sablon, 38700 La Tronche, France\\^{15} School of Physics, Trinity College Dublin, The University of Dublin, College Green, Dublin 2, Ireland\\^{16} School of Physical Sciences, The Open University, Walton Hall, Milton Keynes, MK7 6AA, UK\\^{17} Aix Marseille Univ, CNRS, CNES, LAM, Marseille, France\\}$\n",
       "$   \\date $\n",
       "$  \\abstract{The discovery of planets orbiting at less than 1 au from their host star and less massive than Saturn in various exoplanetary systems revolutionized our theories of planetary formation.$\n",
       "$   The fundamental question is whether these close-in low-mass planets could have formed in the inner disk interior to 1 au, or whether they formed further out in the planet-forming disk and migrated inward.$\n",
       "$   Exploring the role of additional giant planet(s) in these systems may help us to pinpoint their global formation and evolution.$\n",
       "$   }{We searched for additional substellar companions  by using direct imaging in systems known to host close-in small planets. The use of direct imaging complemented by radial velocity and astrometric detection limits enabled us to explore the giant planet and brown dwarf demographics around these hosts to investigate the potential connection between both populations.}{We carried out a direct imaging survey with SPHERE at VLT to look for outer giant planets and brown dwarf companions in 27 systems hosting close-in low-mass planets discovered by radial velocity. Our sample is composed of very nearby (< 20 pc) planetary systems, orbiting G-, K-, and M-type mature (0.5--10 Gyr) stellar hosts. We performed homogeneous direct imaging data reduction and analysis to search for and characterize point sources, and derived robust statistical detection limits.$\n",
       "$   The final direct imaging detection performances were globally considered together  with radial velocity and astrometric sensitivity. }{Of 337 point-source detections, we do not find any new bound companions. We recovered the emblematic very cool T-type brown dwarf GJ 229 B. Our typical sensitivities in direct imaging range from 5 to 30 M_{\\rm Jup} beyond 2 au. The non-detection of massive companions is consistent with predictions based on models of planet formation by core accretion. Our pilot study opens the way to a multi-technique approach for the exploration of very nearby exoplanetary systems with future ground-based and space observatories.}$\n",
       "$    $\n",
       "$   \\keywords{Planetary systems -- Instrumentation: adaptive optics, high angular resolution -- Methods: observational}$\n",
       "$   \\titlerunning{Architecture of systems hosting close-in sub-Saturns}$\n",
       "$   \\maketitle$\n",
       "$\\bibliographystyle{aa.bst}$\n",
       "$\\n\\end{document}}$\n",
       "$\\newcommand{\\teff}{\\ensuremath{\\mathrm{T_{eff}}}}$\n",
       "$\\newcommand{\\logg}{\\ensuremath{\\log(g)}}$\n",
       "$\\newcommand{\\logZ}{\\ensuremath{\\log(Z/Z_{\\odot})}}$\n",
       "$\\newcommand{\\pc}{\\ensuremath{\\mathrm{pc}}}$\n",
       "$\\newcommand{\\magg}{\\ensuremath{\\mathrm{mag}}}$\n",
       "$\\newcommand{\\kelvin}{\\ensuremath{\\mathrm{K}}}$\n",
       "$\\newcommand{\\mas}{\\ensuremath{\\mathrm{mas}}}$\n",
       "$\\newcommand{\\yr}{\\ensuremath{\\mathrm{year}}}$\n",
       "$\\newcommand{\\yrs}{\\ensuremath{\\mathrm{years}}}$\n",
       "$\\newcommand{\\monthh}{\\ensuremath{\\mathrm{month}}}$\n",
       "$\\newcommand{\\months}{\\ensuremath{\\mathrm{months}}}$\n",
       "$\\newcommand{\\dayy}{\\ensuremath{\\mathrm{day}}}$\n",
       "$\\newcommand{\\days}{\\ensuremath{\\mathrm{days}}}$\n",
       "$\\newcommand{\\hr}{\\ensuremath{\\mathrm{hour}}}$\n",
       "$\\newcommand{\\hrs}{\\ensuremath{\\mathrm{hours}}}$\n",
       "$\\newcommand{\\khz}{\\ensuremath{\\mathrm{kHz}}}$\n",
       "$\\newcommand{\\hz}{\\ensuremath{\\mathrm{Hz}}}$\n",
       "$\\newcommand{\\myr}{\\ensuremath{\\mathrm{Myr}}}$\n",
       "$\\newcommand{\\gyr}{\\ensuremath{\\mathrm{Gyr}}}$\n",
       "$\\newcommand{\\au}{\\ensuremath{\\mathrm{au}}}$\n",
       "$\\newcommand{\\mic}{\\ensuremath{\\mathrm{\\mu m}}}$\n",
       "$\\newcommand{\\nm}{\\ensuremath{\\mathrm{nm}}}$\n",
       "$\\newcommand{\\pic}{\\ensuremath{\\mathrm{pm}}}$\n",
       "$\\newcommand{\\mj}{\\ensuremath{\\mathrm{M_{Jup}}}}$\n",
       "$\\newcommand{\\rj}{\\ensuremath{\\mathrm{R_{Jup}}}}$\n",
       "$\\newcommand{\\mearth}{\\ensuremath{\\mathrm{M}_\\oplus}}$\n",
       "$\\newcommand{\\rearth}{\\ensuremath{\\textnormal{R}_{\\oplus}}}$\n",
       "$\\newcommand{\\densityearth}{\\ensuremath{\\rho_{\\oplus}}}$\n",
       "$\\newcommand{\\msun}{\\ensuremath{\\textnormal{M}_\\odot}}$\n",
       "$\\newcommand{\\rsun}{\\ensuremath{\\textnormal{R}_\\odot}}$\n",
       "$\\newcommand{\\lsun}{\\ensuremath{\\textnormal{L}_\\odot}}$\n",
       "$\\newcommand{\\edc}[1]{\\textcolor{lagoon}{#1}}$\n",
       "$\\newcommand{\\celia}[1]{\\textcolor{lagoon}{ [\\textbf{Célia: } #1]}}$\n",
       "$\\newcommand{\\gael}[1]{\\textcolor{magenta}{ [\\textbf{Gaël: } #1]}}$\n",
       "$\\newcommand{\\JM}[1]{\\textcolor{forest green}{ #1 [JM]}}$\n",
       "$\\newcommand{◦}{\\ensuremath{^\\circ}}$</div>\n",
       "\n",
       "\n",
       "\n",
       "<div id=\"title\">\n",
       "\n",
       "# Planetary system architectures with low-mass inner planets\n",
       "\n",
       "</div>\n",
       "<div id=\"comments\">\n",
       "\n",
       "[![arXiv](https://img.shields.io/badge/arXiv-2310.06035-b31b1b.svg)](https://arxiv.org/abs/2310.06035)<mark>Appeared on: 2023-10-11</mark> -  _49 pages including 31 pages of appendices and references, 31 figures, A&A, accepted_\n",
       "\n",
       "</div>\n",
       "<div id=\"authors\">\n",
       "\n",
       "<mark>C. Desgrange</mark>, et al. -- incl., <mark>R. Burn</mark>, <mark>E. Matthews</mark>\n",
       "\n",
       "</div>\n",
       "<div id=\"abstract\">\n",
       "\n",
       "**Abstract:** The discovery of planets orbiting at less than 1 au from their host star and less massive than Saturn in various exoplanetary systems revolutionized our theories of planetary formation.   The fundamental question is whether these close-in low-mass planets could have formed in the inner disk interior to 1 au, or whether they formed further out in the planet-forming disk and migrated inward.   Exploring the role of additional giant planet(s) in these systems may help us to pinpoint their global formation and evolution. We searched for additional substellar companions  by using direct imaging in systems known to host close-in small planets. The use of direct imaging complemented by radial velocity and astrometric detection limits enabled us to explore the giant planet and brown dwarf demographics around these hosts to investigate the potential connection between both populations. We carried out a direct imaging survey with SPHERE at VLT to look for outer giant planets and brown dwarf companions in 27 systems hosting close-in low-mass planets discovered by radial velocity. Our sample is composed of very nearby (< 20 pc) planetary systems, orbiting G-, K-, and M-type mature (0.5--10 Gyr) stellar hosts. We performed homogeneous direct imaging data reduction and analysis to search for and characterize point sources, and derived robust statistical detection limits.   The final direct imaging detection performances were globally considered together  with radial velocity and astrometric sensitivity. Of 337 point-source detections, we do not find any new bound companions. We recovered the emblematic very cool T-type brown dwarf GJ 229 B. Our typical sensitivities in direct imaging range from 5 to 30 M $_{\\rm Jup}$ beyond 2 au. The non-detection of massive companions is consistent with predictions based on models of planet formation by core accretion. Our pilot study opens the way to a multi-technique approach for the exploration of very nearby exoplanetary systems with future ground-based and space observatories.\n",
       "\n",
       "</div>\n",
       "\n",
       "<div id=\"div_fig1\">\n",
       "\n",
       "<img src=\"tmp_2310.06035/./fig/target_indiv/PMD_GJ422_2epochs_zoom.png\" alt=\"Fig9\" width=\"100%\"/>\n",
       "\n",
       "**Figure 9. -** SPHERE/IRDIS relative astrometry differences of the offset positions of all the point-like sources detected around GJ 422\n",
       "    in both the second and third epochs (2018-01-28 and 2020-01-18).\n",
       "    The expected variation of offset positions, if the companion candidates are stationary background objects are shown in blue solid line. The variation is estimated based on the parallactic and proper motions of the primary star. The five companion candidates are clearly identified as background contaminants. At the _bottom-right_ corner, the insert shows a zoom on the location of the candidates.\n",
       "     (*fig:PMD_GJ422_2+3epochs*)\n",
       "\n",
       "</div>\n",
       "<div id=\"div_fig2\">\n",
       "\n",
       "<img src=\"tmp_2310.06035/./fig/detlim_contrast_curves/theory_vs_obs_DIonly_M.png\" alt=\"Fig33.1\" width=\"50%\"/><img src=\"tmp_2310.06035/./fig/detlim_contrast_curves/theory_vs_obs_DIonly_GK.png\" alt=\"Fig33.2\" width=\"50%\"/>\n",
       "\n",
       "**Figure 33. -** Detection sensitivity of companions for our direct imaging SPHERE observations of 15 M-stars (_left_) and 12 GK-stars (_right_).  The isocontours give the number of stars from our survey that have the sensitivity to detect companions at a probability of $50\\%$.\n",
       "    The theoretical population of companions formed via the Bern core-accretion models considering $1000$ systems are indicated in circles of colors associated to stellar masses \\citep{Burn2021_NGPPS}. These symbols have a black outline if the systems also host close-in ($\\leq1 $\\au$$) low-mass ($\\leq95 $\\mearth$$) planets.\n",
       "     (*fig:Fig4_Vigan_detlim_obs_vs_theory*)\n",
       "\n",
       "</div>\n",
       "<div id=\"div_fig3\">\n",
       "\n",
       "<img src=\"tmp_2310.06035/./fig/mosaics/mosaic_IRDIS_SpeCal_cADI_paper.png\" alt=\"Fig21\" width=\"100%\"/>\n",
       "\n",
       "**Figure 21. -** \n",
       "    Reduced images from SPHERE-IRDIS for the whole survey for SpeCal-cADI reductions. The factor in the bottom left hand corner of each figure indicates the number by which to multiply the color bar to have the corresponding contrast values.\n",
       "     (*fig:mosaic_super-earths_survey_IRDIS_cADI*)\n",
       "\n",
       "</div><div id=\"qrcode\"><img src=https://api.qrserver.com/v1/create-qr-code/?size=100x100&data=\"https://arxiv.org/abs/2310.06035\"></div>"
      ],
      "text/plain": [
       "<IPython.core.display.Markdown object>"
      ]
     },
     "metadata": {},
     "output_type": "display_data"
    },
    {
     "data": {
      "text/markdown": [
       "<div class=\"macros\" style=\"visibility:hidden;\">\n",
       "$\\newcommand{\\ensuremath}{}$\n",
       "$\\newcommand{\\xspace}{}$\n",
       "$\\newcommand{\\object}[1]{\\texttt{#1}}$\n",
       "$\\newcommand{\\farcs}{{.}''}$\n",
       "$\\newcommand{\\farcm}{{.}'}$\n",
       "$\\newcommand{\\arcsec}{''}$\n",
       "$\\newcommand{\\arcmin}{'}$\n",
       "$\\newcommand{\\ion}[2]{#1#2}$\n",
       "$\\newcommand{\\textsc}[1]{\\textrm{#1}}$\n",
       "$\\newcommand{\\hl}[1]{\\textrm{#1}}$\n",
       "$\\newcommand{\\footnote}[1]{}$\n",
       "$\\newcommand{\\STAB}[1]{\\begin{tabular}{@ c@ }#1\\end{tabular}}$\n",
       "$\\newcommand{\\orcit}[1]{\\protect\\href{https://orcid.org/#1}{\\protect\\includegraphics[width=8pt]{orcid.png}}}$\n",
       "$\\newcommand{\\Gaia}{\\textit{Gaia}\\xspace}$\n",
       "$\\newcommand{\\rvflag}{\\texttt{flag\\_rv}\\xspace}$\n",
       "$\\newcommand{\\mags}{{\\rm mag}}$\n",
       "$\\newcommand{\\kms}{{\\rm km s}^{-1}}$\n",
       "$\\newcommand{\\days}{{\\rm days}}$\n",
       "$\\newcommand{\\Teff}{T_{\\rm eff}}$\n",
       "$\\newcommand{\\gbp}{G_{\\rm BP}}$\n",
       "$\\newcommand{\\grp}{G_{\\rm RP}}$\n",
       "$\\newcommand{\\grvs}{G_{\\rm RVS}}$\n",
       "$\\newcommand{\\rv}{V_R}$\n",
       "$\\newcommand{\\meanrv}{\\overline{\\rv}}$\n",
       "$\\newcommand{\\medianrv}{\\langle\\rv\\rangle}$\n",
       "$\\newcommand{\\zprv}{\\rv^0}$\n",
       "$\\newcommand{\\pubrv}{\\rv^{\\rm DR3}}$\n",
       "$\\newcommand{\\erv}{\\varepsilon_{\\rv}}$\n",
       "$\\newcommand{\\meanerv}{\\overline{\\varepsilon}_{\\rv}}$\n",
       "$\\newcommand{\\pg}{P_{G}}$\n",
       "$\\newcommand{\\pbp}{P_{G_{\\rm BP}}}$\n",
       "$\\newcommand{\\prp}{P_{G_{\\rm RP}}}$\n",
       "$\\newcommand{\\prv}{P_{\\rv}}$\n",
       "$\\newcommand{\\pph}{P_{\\rm ph}}$\n",
       "$\\newcommand{\\durationrv}{\\Delta t_{\\rv}}$\n",
       "$\\newcommand{\\ncycrv}{n_{\\rv}^{\\rm cyc}}$\n",
       "$\\newcommand{\\ampg}{A_G}$\n",
       "$\\newcommand{\\amprv}{A_{\\rv}}$\n",
       "$\\newcommand{\\nobsrv}{N_{\\rv}}$\n",
       "$\\newcommand{\\nobsrvraw}{N_{\\rv}^{\\rm raw}}$\n",
       "$\\newcommand{\\noutrv}{N_{\\rv}^{\\rm out}}$\n",
       "$\\newcommand{\\snrv}{{\\rm SN}_{\\rv}}$\n",
       "$\\newcommand{\\wbprp}{W_{\\scaleto{\\rm BP,RP}{4.5pt}}}$\n",
       "$\\newcommand$</div>\n",
       "\n",
       "\n",
       "\n",
       "<div id=\"title\">\n",
       "\n",
       "# $\\Gaia$ Focused Product Release: Radial velocity time series of long-period variables\n",
       "\n",
       "</div>\n",
       "<div id=\"comments\">\n",
       "\n",
       "[![arXiv](https://img.shields.io/badge/arXiv-2310.06051-b31b1b.svg)](https://arxiv.org/abs/2310.06051)<mark>Appeared on: 2023-10-11</mark> -  _36 pages, 38 figures_\n",
       "\n",
       "</div>\n",
       "<div id=\"authors\">\n",
       "\n",
       "G. Collaboration, et al. -- incl., <mark>M. Smith</mark>, <mark>C. Bailer-Jones</mark>\n",
       "\n",
       "</div>\n",
       "<div id=\"abstract\">\n",
       "\n",
       "**Abstract:** The third $\\Gaia$ Data Release (DR3) provided photometric time series of more than 2 million long-period variable (LPV) candidates. Anticipating the publication of full radial-velocity data planned with Data Release 4, this Focused Product Release (FPR) provides radial-velocity time series for a selection of LPV candidates with high-quality observations. We describe the production and content of the $\\Gaia$ catalog of LPV radial-velocity time series, and the methods used to compute the variability parameters published as part of the $\\Gaia$ FPR. Starting from the DR3 catalog of LPV candidates, we applied several filters to construct a sample of sources with high-quality radial-velocity measurements. We modeled their radial-velocity and photometric time series to derive their periods and amplitudes, and further refined the sample by requiring compatibility between the radial-velocity period and at least one of the $G$ , $\\gbp$ , or $\\grp$ photometric periods. The catalog includes radial-velocity time series and variability parameters for 9 614 sources in the magnitude range $6\\lesssim G/\\mags\\lesssim 14$ , including a flagged top-quality subsample of 6 093 stars whose radial-velocity periods are fully compatible with the values derived from the $G$ , $\\gbp$ , and $\\grp$ photometric time series.    The radial-velocity time series contain a mean of 24 measurements per source taken unevenly over a duration of about three years.    We identify the great majority of the sources (88 \\% ) as genuine LPV candidates, with about half of them showing a pulsation period and the other half displaying a long secondary period. The remaining 12 \\% of the catalog consists of candidate ellipsoidal binaries. Quality checks against radial velocities available in the literature show excellent agreement. We provide some illustrative examples and cautionary remarks. The publication of radial-velocity time series for almost ten thousand LPV candidates constitutes, by far, the largest such database available to date in the literature. The availability of simultaneous photometric measurements gives a unique added value to the $\\Gaia$ catalog.\n",
       "\n",
       "</div>\n",
       "\n",
       "<div id=\"div_fig1\">\n",
       "\n",
       "<img src=\"tmp_2310.06051/./drv_dg_2panels.png\" alt=\"Fig9\" width=\"100%\"/>\n",
       "\n",
       "**Figure 9. -** Comparison between the semi-amplitudes $\\ampg$, $\\amprv$ of the best-fit models of the $G$-band and RV time series for the TQS (light gray symbols in the background). The darker symbols indicate sources whose RV period is consistent with the photometric periods in a 1:1 ratio (top panel) or in a 2:1 ratio (bottom panel). The dashed red line corresponds to Eq. \\ref{eq:amp_condition_ell}, and the size of each sample is indicated in the legend. (*fig:drv_dg_2panels*)\n",
       "\n",
       "</div>\n",
       "<div id=\"div_fig2\">\n",
       "\n",
       "<img src=\"tmp_2310.06051/./RVTS_ARCep_cf_alvarez01_1.png\" alt=\"Fig34.1\" width=\"33%\"/><img src=\"tmp_2310.06051/./RVTS_RSCrB_cf_hinkle02_1.png\" alt=\"Fig34.2\" width=\"33%\"/><img src=\"tmp_2310.06051/./RVTS_RNor_cf_lebzelter05_1.png\" alt=\"Fig34.3\" width=\"33%\"/>\n",
       "\n",
       "**Figure 34. -** Similar to Fig. \\ref{fig:RVTS_ex_mixPph}, but showing the $\\Gaia$ time series for the sources compared with literature as discussed in Sect. \\ref{sec:catalog_quality:comparison_with_rv_data_from_literature:multi_epoch_rv_data}(see also Table \\ref{tab:table_cf_rvcurves}). The sources displayed from top to bottom are the SRb star $\\object${AR Cep}\\citep[compared with][]{alvarez_etal_2001}, the binary SRa star $\\object${RS CrB}\\citep[compared with][]{hinkle_etal_2002}, and the O-rich Mira $\\object${R Nor}\\citep[compared with][]{lebzelter_etal_2005a}. Literature RV time series are displayed as magenta circles (with arbitrary phase offset) in the panels showing the folded RV curve. In each case, the $\\Gaia$ RV period (indicated in the header of each panel) is used for folding. (*fig:RVTS_cf_lit*)\n",
       "\n",
       "</div>\n",
       "<div id=\"div_fig3\">\n",
       "\n",
       "<img src=\"tmp_2310.06051/./RVTS_ex_mixPph.png\" alt=\"Fig29\" width=\"100%\"/>\n",
       "\n",
       "**Figure 29. -** Example time series for a source with mixed consistency between the photometric and RV time series. This source has $\\pg\\simeq$\\pbp$\\simeq$\\prv$$, while $\\prp \\simeq 0.5 $\\prv$$. The panels in the top row show the RV data and model, while the photometric data and corresponding models are shown in the panels in the bottom row (in red, green, and blue for the $\\grp$, $G$, and $\\gbp$ bands, respectively). For visualization purposes, an arbitrary offset is applied to the $\\grp$ and $\\gbp$ time series. The $\\Gaia$ DR3 source ID of this object is indicated in the title, together with the period and semi-amplitude of the best-fit $G$-band and RV time series models. The panels on the right show the four time series folded by the RV period. (*fig:RVTS_ex_mixPph*)\n",
       "\n",
       "</div><div id=\"qrcode\"><img src=https://api.qrserver.com/v1/create-qr-code/?size=100x100&data=\"https://arxiv.org/abs/2310.06051\"></div>"
      ],
      "text/plain": [
       "<IPython.core.display.Markdown object>"
      ]
     },
     "metadata": {},
     "output_type": "display_data"
    },
    {
     "data": {
      "text/markdown": [
       "<div class=\"macros\" style=\"visibility:hidden;\">\n",
       "$\\newcommand{\\ensuremath}{}$\n",
       "$\\newcommand{\\xspace}{}$\n",
       "$\\newcommand{\\object}[1]{\\texttt{#1}}$\n",
       "$\\newcommand{\\farcs}{{.}''}$\n",
       "$\\newcommand{\\farcm}{{.}'}$\n",
       "$\\newcommand{\\arcsec}{''}$\n",
       "$\\newcommand{\\arcmin}{'}$\n",
       "$\\newcommand{\\ion}[2]{#1#2}$\n",
       "$\\newcommand{\\textsc}[1]{\\textrm{#1}}$\n",
       "$\\newcommand{\\hl}[1]{\\textrm{#1}}$\n",
       "$\\newcommand{\\footnote}[1]{}$\n",
       "$\\newcommand{\\gaia}{\\textit{Gaia}\\xspace}$\n",
       "$\\newcommand{\\gdr}[1]{\\textit{Gaia}~DR{#1}\\xspace}$\n",
       "$\\newcommand{\\dibspec}{DIB-Spec}$\n",
       "$\\newcommand{\\gspspec}{GSP-Spec}$\n",
       "$\\newcommand{\\gspphot}{GSP-Phot}$\n",
       "$\\newcommand{\\orcit}[1]{\\protect\\href{https://orcid.org/#1}{\\protect\\includegraphics[width=8pt]{orcid.png}}}$\n",
       "$\\newcommand{\\metaDgrad}{\\partial \\meta / \\partial D}$\n",
       "$\\newcommand{\\metaZgrad}{\\partial \\meta / \\partial Z}$\n",
       "$\\newcommand{\\teff}{T_{\\rm eff}}$\n",
       "$\\newcommand{\\logg}{\\log{g}}$\n",
       "$\\newcommand{\\feh}{\\rm[Fe/H]}$\n",
       "$\\newcommand{\\meta}{{\\rm[M/H]}}$\n",
       "$\\newcommand{\\afe}{{\\rm[\\alpha/Fe]}}$\n",
       "$\\newcommand{\\vrad}{V_{\\rm rad}}$\n",
       "$\\newcommand{\\vraderr}{\\sigma_{V_{\\rm rad}}}$\n",
       "$\\newcommand{\\um}{\\rm \\mu m}$\n",
       "$\\newcommand{\\EBV}{E(B {-} V)}$\n",
       "$\\newcommand{\\EBPRP}{\\rm E(BP {-} RP)}$\n",
       "$\\newcommand{\\dibdepth}{\\mathcal{D}}$\n",
       "$\\newcommand{\\diblambda}{\\lambda_{\\rm DIB}}$\n",
       "$\\newcommand{\\dibwidth}{\\sigma_{\\rm DIB}}$\n",
       "$\\newcommand{\\Tomaz}[1]{{\\color{magenta} [Tomaz: #1] \\color{black}}}$\n",
       "$\\newcommand{\\Mathias}[1]{{\\color{blue} [Mathias:#1]}}$\n",
       "$\\newcommand{\\hzhao}[1]{{\\color{red} [He: #1]}}$\n",
       "$\\newcommand$\n",
       "$\\newcommand{\\kms}{ {\\rm km s^{-1}}}$\n",
       "$\\newcommand{\\d}{{\\rm d}}$\n",
       "$\\newcommand{\\}{kpc}$\n",
       "$\\newcommand{\\rg}{r_{\\rm g}}$\n",
       "$\\newcommand{\\}{rp}$\n",
       "$\\newcommand{\\}{ra}$\n",
       "$\\newcommand{\\dex}{ {\\rm dex}}$\n",
       "$\\newcommand{\\Myr}{ {\\rm Myr}}$\n",
       "$\\newcommand{\\}{Gyr}$\n",
       "$\\newcommand{\\}{url}$</div>\n",
       "\n",
       "\n",
       "\n",
       "<div id=\"title\">\n",
       "\n",
       "# $\\gaia$ Focused Product Release: Spatial distribution of two diffuse interstellar bands\n",
       "\n",
       "</div>\n",
       "<div id=\"comments\">\n",
       "\n",
       "[![arXiv](https://img.shields.io/badge/arXiv-2310.06175-b31b1b.svg)](https://arxiv.org/abs/2310.06175)<mark>Appeared on: 2023-10-11</mark> -  _29 pages, accepted for publication in A&A_\n",
       "\n",
       "</div>\n",
       "<div id=\"authors\">\n",
       "\n",
       "M. Schultheis, et al. -- incl., <mark>C. Bailer-Jones</mark>, <mark>M. Fouesneau</mark>\n",
       "\n",
       "</div>\n",
       "<div id=\"abstract\">\n",
       "\n",
       "**Abstract:** Diffuse interstellar bands (DIBs) are absorption features seen in optical and infrared spectra of stars and extragalactic objectsthat are probably caused by large and complex molecules in the galactic interstellar medium (ISM). Here we investigate the Galacticdistribution and properties of two DIBs identified in almost six million stellar spectra collected by the $\\gaia$ Radial VelocitySpectrometer. These measurements constitute a part of the $\\gaia$ Focused Product Release to be made public between the $\\gaia$ DR3 andDR4 data releases. In order to isolate the DIB signal from the stellar features in each individual spectrum, we identified a set of160 000 spectra at high Galactic latitudes ( $|b| {\\geqslant} 65^{\\circ}$ ) covering a range of stellar parameters which weconsider to be the DIB-free reference sample. Matching each target spectrum to its closest reference spectra in stellar parameter spaceallowed us to remove the stellar spectrum empirically, without reference to stellar models, leaving a set of six million ISM spectra.Using the star's parallax and sky coordinates, we then allocated each ISM spectrum to a voxel (VOlume piXEL) on a contiguousthree-dimensional grid with an angular size of $1.8^{\\circ}$ (level 5 HEALPix) and 29 unequally sized distance bins. Identifying thetwo DIBs at 862.1 nm ( $\\lambda$ 862.1) and 864.8 nm ( $\\lambda$ 864.8) in the stacked spectra, we modelled their shapes and report thedepth, central wavelength, width, and equivalent width (EW) for each, along with confidence bounds on these measurements. We thenexplored the properties and distributions of these quantities and compared them with similar measurements from other surveys. Our mainresults are as follows: (1) the strength and spatial distribution of the DIB $\\lambda$ 862.1 are very consistent with what was found in $\\gaia$ DR3,but for this work we attained a higher signal-to-noise ratio in the stacked spectra to larger distances, which allowed us to trace DIBs in the outerspiral arm and beyond the Scutum--Centaurus spiral arm; (2) we produced an all-sky map below ${\\pm}65^{\\circ}$ of Galactic latitudeto $\\sim$ 4000 pc of both DIB features and their correlations; (3) we detected the signals of DIB $\\lambda$ 862.1 inside theLocal Bubble ( $\\lesssim$ 200 pc); and (4) there is a reasonable correlation with the dust reddening found from stellar absorption and EWsof both DIBs with a correlation coefficient of 0.90 for $\\lambda$ 862.1 and 0.77 for $\\lambda$ 864.8.\n",
       "\n",
       "</div>\n",
       "\n",
       "<div id=\"div_fig1\">\n",
       "\n",
       "<img src=\"tmp_2310.06175/./fit-example.png\" alt=\"Fig5\" width=\"100%\"/>\n",
       "\n",
       "**Figure 5. -** Examples of the fits to DIBs $\\lambda$862.1 and $\\lambda$864.8 in stacked ISM spectra in five voxels in the same\n",
       "  direction, whose HEALPix number ($I_{\\rm pix} {=} 10 450$) and GC $(\\ell_c,b_c) {=} (322.43^{\\circ},{-}0.44^{\\circ})$\n",
       "  are marked in the top panel. The black and red lines are the ISM spectra and fitted DIB profiles, respectively, normalized\n",
       "  by the fitted linear continuum. The error bars indicate the flux uncertainties at each pixel. Orange indicates the region\n",
       "  that was masked during the fittings. The central heliocentric distance ($d_c$), the number of target spectra ($N_{\\rm tar}$),\n",
       "  mean $\\EBPRP$, EWs of two DIBs, and the S/N of the stacked ISM spectrum in each voxel are indicated as well. (*fig:stack-fit*)\n",
       "\n",
       "</div>\n",
       "<div id=\"div_fig2\">\n",
       "\n",
       "<img src=\"tmp_2310.06175/./Corner_0.png\" alt=\"Fig16\" width=\"100%\"/>\n",
       "\n",
       "**Figure 16. -** Corner plot of the DIB fitting in the voxel with $I_{\\rm pix}=10450$ and $d_c=1.05$ kpc (the first panel in Fig.\n",
       "  \\ref{fig:stack-fit} from top to bottom). The histograms and scatter plots show the one- and two-dimensional projections of the\n",
       "  posterior distributions of the fitted parameters. The red squares and lines indicate the best-fit estimates for each parameter\n",
       "  in the reproduced fitting. And the dashed blue lines mark the fitted parameters in the output table of {$\\dibspec$}. (*fig:corner0*)\n",
       "\n",
       "</div>\n",
       "<div id=\"div_fig3\">\n",
       "\n",
       "<img src=\"tmp_2310.06175/./DIB-width.png\" alt=\"Fig8\" width=\"100%\"/>\n",
       "\n",
       "**Figure 8. -** Distribution of $\\dibwidth$ for DIBs $\\lambda$862.1 and $\\lambda$864.8 (top and bottom, respectively). The dashed red and\n",
       "green lines correspond to the \"best range\" and the \"secondary range\" of $\\dibwidth$ defined in Sect. \\ref{subsect:qf} for the\n",
       "DIB QF, respectively. The distribution of the full {$\\dibspec$} results (235 428 voxels) is shown in the left panels, while the right\n",
       "panels show a quality-controlled sample with $\\rm S/N {>} 100$ and $\\dibdepth{>} 3R_C$(see Sect. \\ref{subsect:dib-width}).\n",
       "The latter criterion implies QF values of 0 or 2. The number of detected DIBs and the percentage after the quality control\n",
       "is indicated as well. (*fig:dib-width*)\n",
       "\n",
       "</div><div id=\"qrcode\"><img src=https://api.qrserver.com/v1/create-qr-code/?size=100x100&data=\"https://arxiv.org/abs/2310.06175\"></div>"
      ],
      "text/plain": [
       "<IPython.core.display.Markdown object>"
      ]
     },
     "metadata": {},
     "output_type": "display_data"
    },
    {
     "data": {
      "text/markdown": [
       "<div class=\"macros\" style=\"visibility:hidden;\">\n",
       "$\\newcommand{\\ensuremath}{}$\n",
       "$\\newcommand{\\xspace}{}$\n",
       "$\\newcommand{\\object}[1]{\\texttt{#1}}$\n",
       "$\\newcommand{\\farcs}{{.}''}$\n",
       "$\\newcommand{\\farcm}{{.}'}$\n",
       "$\\newcommand{\\arcsec}{''}$\n",
       "$\\newcommand{\\arcmin}{'}$\n",
       "$\\newcommand{\\ion}[2]{#1#2}$\n",
       "$\\newcommand{\\textsc}[1]{\\textrm{#1}}$\n",
       "$\\newcommand{\\hl}[1]{\\textrm{#1}}$\n",
       "$\\newcommand{\\footnote}[1]{}$\n",
       "$\\newcommand{\\ra}{\\ensuremath{\\alpha}}$\n",
       "$\\newcommand{\\dec}{\\ensuremath{\\delta}}$\n",
       "$\\newcommand{\\glon}{\\ensuremath{l}}$\n",
       "$\\newcommand{\\glat}{\\ensuremath{b}}$\n",
       "$\\newcommand{\\parallax}{\\ensuremath{\\varpi}}$\n",
       "$\\newcommand{\\sigparallax}{\\ensuremath{\\sigma_{\\varpi}}}$\n",
       "$\\newcommand{\\pmra}{\\ensuremath{\\mu_{\\ra\\ast}}}$\n",
       "$\\newcommand{\\pmdec}{\\ensuremath{\\mu_\\dec}}$\n",
       "$\\newcommand{\\propm}{\\ensuremath{\\mu}}$\n",
       "$\\newcommand{\\ms}{\\ensuremath{\\textrm{m s}^{-1}}}$\n",
       "$\\newcommand{\\kms}{\\ensuremath{\\textrm{km s}^{-1}}}$\n",
       "$\\newcommand{\\mas}{\\ensuremath{\\textrm{mas}}}$\n",
       "$\\newcommand{\\maspyr}{\\ensuremath{\\textrm{mas yr}^{-1}}}$\n",
       "$\\newcommand{\\deg}{\\ensuremath{^\\circ}}$\n",
       "$\\newcommand{\\gmag}{\\ensuremath{G}~}$\n",
       "$\\newcommand{\\gbp}{\\ensuremath{G_{\\rm BP}}}$\n",
       "$\\newcommand{\\grp}{\\ensuremath{G_{\\rm RP}}}$\n",
       "$\\newcommand{\\red}{\\textcolor{red}}$\n",
       "$\\newcommand{\\blue}{\\textcolor{blue}}$\n",
       "$\\newcommand{\\orange}{\\textcolor{orange}}$\n",
       "$\\newcommand{\\green}{\\textcolor{OliveGreen}}$\n",
       "$\\newcommand{\\brown}{\\textcolor{brown}}$\n",
       "$\\newcommand$\n",
       "$\\newcommand$\n",
       "$\\newcommand{\\sersic}{Sérsic\\xspace}$\n",
       "$\\newcommand{\\gaia}{\\textit{Gaia}\\xspace}$\n",
       "$\\newcommand{\\matfont}[1]{\\ensuremath{\\boldsymbol{\\mathsf{#1}}}}$\n",
       "$\\newcommand{\\mat}[1]{\\matfont{#1}}$\n",
       "$\\newcommand{\\orcit}[1]{\\protect\\href{https://orcid.org/#1}{\\protect\\includegraphics[width=8pt]{orcid.png}}}$\n",
       "$\\newcommand$\n",
       "$\\newcommand{\\deg}{\\ensuremath{^\\circ}}$</div>\n",
       "\n",
       "\n",
       "\n",
       "<div id=\"title\">\n",
       "\n",
       "# $\\gaia$ Focused Product Release: A catalogue of sources around quasars to search for strongly lensed quasars.\n",
       "\n",
       "</div>\n",
       "<div id=\"comments\">\n",
       "\n",
       "[![arXiv](https://img.shields.io/badge/arXiv-2310.06295-b31b1b.svg)](https://arxiv.org/abs/2310.06295)<mark>Appeared on: 2023-10-11</mark> -  _35 pages, 60 figures, accepted for publication by Astronomy and Astrophysics_\n",
       "\n",
       "</div>\n",
       "<div id=\"authors\">\n",
       "\n",
       "G. Collaboration, et al. -- incl., <mark>C. Bailer-Jones</mark>, <mark>M. Fouesneau</mark>\n",
       "\n",
       "</div>\n",
       "<div id=\"abstract\">\n",
       "\n",
       "**Abstract:** Strongly lensed quasars are fundamental sources for cosmology. The $\\gaia$ space mission covers the entire sky with the unprecedented resolution of $0.18$ \" in the optical, making it an ideal instrument to search for gravitational lenses down to the limiting magnitude of 21. Nevertheless, the previous $\\gaia$ Data Releases are known to be incomplete for small angular separations such as those expected for most lenses. We present the Data Processing and Analysis Consortium GravLens pipeline, which was built to analyse all $\\gaia$ detections around quasars and to cluster them into sources, thus producing a catalogue of secondary sources around each quasar. We analysed the resulting catalogue to produce scores that indicate source configurations that are compatible with strongly lensed quasars. GravLens uses the DBSCAN unsupervised clustering algorithm to detect sources around quasars. The resulting catalogue of multiplets is then analysed with several methods to identify potential gravitational lenses. We developed and applied an outlier scoring method, a comparison between the average BP and RP spectra of the components, and we also used an extremely randomised tree algorithm. These methods produce scores to identify the most probable configurations and to establish a list of lens candidates. We analysed the environment of 3 760 032 quasars. A total of 4 760 920 sources, including the quasars, were found within 6 $\\arcsec$ of the quasar positions. This list is given in the $\\gaia$ archive. In 87 \\% of cases, the quasar remains a single source, and in 501 385 cases neighbouring sources were detected. We propose a list of 381 lensed candidates, of which we identified 49 as the most promising. Beyond these candidates, the associate tables in this Focused Product Release allow the entire community to explore the unique $\\gaia$ data for strong lensing studies further.\n",
       "\n",
       "</div>\n",
       "\n",
       "<div id=\"div_fig1\">\n",
       "\n",
       "<img src=\"tmp_2310.06295/./Figures/G2237+0305_final_compressed.jpg\" alt=\"Fig11.1\" width=\"50%\"/><img src=\"tmp_2310.06295/./Figures/2MASSJ13102005-1714579_final_compressed.jpg\" alt=\"Fig11.2\" width=\"50%\"/>\n",
       "\n",
       "**Figure 11. -** Pan-STARRS images  ([Chambers, Magnier and Metcalfe 2016]())  of two known gravitational lenses with an indication of GravLens components in black (filled circles) and entry in \\gdr3 in red (squares). Left: the Einstein cross (G2237+0305). Right: 2MASSJ13102005-1714579. The central sources in 2MASSJ13102005-1714579 encompasses two lensing galaxies recovered as  GravLens components. (*panstarrs*)\n",
       "\n",
       "</div>\n",
       "<div id=\"div_fig2\">\n",
       "\n",
       "<img src=\"tmp_2310.06295/./Figures/DR3Gaia113100.075-441959.69.png\" alt=\"Fig9.1\" width=\"25%\"/><img src=\"tmp_2310.06295/./Figures/DR3Gaia235007.548+365434.45.png\" alt=\"Fig9.2\" width=\"25%\"/><img src=\"tmp_2310.06295/./Figures/DR3Gaia034732.982+350248.6.png\" alt=\"Fig9.3\" width=\"25%\"/><img src=\"tmp_2310.06295/./Figures/DR3Gaia082523.532+241524.53.png\" alt=\"Fig9.4\" width=\"25%\"/>\n",
       "\n",
       "**Figure 9. -** Examples of known issues. Black dots are the mean positions of the components, red points correspond to individual observations no matter the component and  gray dots are outliers. In (d) a planetary nebula (IC 351) that unduly entered in the quasar catalogue is decomposed by the algorithm into numerous sources. as well as in (d) for the halo of a bright star. (*Fig:clusteringIssues*)\n",
       "\n",
       "</div>\n",
       "<div id=\"div_fig3\">\n",
       "\n",
       "<img src=\"tmp_2310.06295/./Figures/qso_G.jpg\" alt=\"Fig8.1\" width=\"25%\"/><img src=\"tmp_2310.06295/./Figures/qso_bprp.jpg\" alt=\"Fig8.2\" width=\"25%\"/><img src=\"tmp_2310.06295/./Figures/qso_w1w2.jpg\" alt=\"Fig8.3\" width=\"25%\"/><img src=\"tmp_2310.06295/./Figures/z_milli.jpg\" alt=\"Fig8.4\" width=\"25%\"/>\n",
       "\n",
       "**Figure 8. -** Distributions of\n",
       "(a): $\\gaia$$G$ magnitudes (phot\\_g\\_mean\\_mag) from the \\gdr3 gaia\\_source table, (b): $G_$\\mat$hrm{BP}-G_$\\mat$hrm{RP}$ colours (phot\\_bp\\_mean\\_mag -- phot\\_rp\\_mean\\_mag), (c): W1-W2  colours (from catWISE), (d): redshifts (from Milliquas) of the quasars and candidates from the input list. (*qso_G*)\n",
       "\n",
       "</div><div id=\"qrcode\"><img src=https://api.qrserver.com/v1/create-qr-code/?size=100x100&data=\"https://arxiv.org/abs/2310.06295\"></div>"
      ],
      "text/plain": [
       "<IPython.core.display.Markdown object>"
      ]
     },
     "metadata": {},
     "output_type": "display_data"
    },
    {
     "data": {
      "text/markdown": [
       "<div class=\"macros\" style=\"visibility:hidden;\">\n",
       "$\\newcommand{\\ensuremath}{}$\n",
       "$\\newcommand{\\xspace}{}$\n",
       "$\\newcommand{\\object}[1]{\\texttt{#1}}$\n",
       "$\\newcommand{\\farcs}{{.}''}$\n",
       "$\\newcommand{\\farcm}{{.}'}$\n",
       "$\\newcommand{\\arcsec}{''}$\n",
       "$\\newcommand{\\arcmin}{'}$\n",
       "$\\newcommand{\\ion}[2]{#1#2}$\n",
       "$\\newcommand{\\textsc}[1]{\\textrm{#1}}$\n",
       "$\\newcommand{\\hl}[1]{\\textrm{#1}}$\n",
       "$\\newcommand{\\footnote}[1]{}$\n",
       "$\\newcommand{\\emm}[1]{\\ensuremath{#1}}$\n",
       "$\\newcommand{\\emr}[1]{\\emm{\\mathrm{#1}}}$\n",
       "$\\newcommand{\\unit}[1]{\\emr{ #1}}$\n",
       "$\\newcommand{\\kms}{\\unit{km s^{-1}}}$\n",
       "$\\newcommand{\\tint}[1][]{\\emm{\\Delta t_\\emr{#1}}}$\n",
       "$\\newcommand{\\beam}[1][]{\\emm{\\theta_\\emr{#1}}}$\n",
       "$\\newcommand{\\Msun}{\\emm{M_\\odot}}$\n",
       "$\\newcommand{\\Msunperyr}{\\emm{M_\\odot \\emr{yr^{-1}}}}$\n",
       "$\\newcommand{\\Msunperyrperkpcsq}{\\emm{M_\\odot \\emr{yr^{-1}} \\emr{kpc^{-2}}}}$\n",
       "$\\newcommand{\\MJypersr}{\\emm{\\emr{MJy} \\emr{sr^{-1}}}}$\n",
       "$\\newcommand{\\ngmc}{637}$\n",
       "$\\newcommand{\\hi}{\\ion{H}{I}}$\n",
       "$\\newcommand{\\FigRGB}{$\n",
       "$\\begin{figure*}$\n",
       "$\\centering$\n",
       "$\\includegraphics[width=0.95\\linewidth]{figures/ic0342_dss2_vla_noema_mayall_rgrid_small.png}$\n",
       "$\\caption{Molecular, atomic, and ionized gas in IC 342. This is a false-color composite of IC 342 showing molecular gas traced by our new NOEMA \\chem{CO}{10} survey (green), along with stellar light from DSS2 (white), atomic gas traced by the 21 cm line using the VLA (blue), and H\\alpha emission from ionized gas (red). \\mod{The dashed rectangle delimits} the field of view observed with NOEMA and solid ellipses show galactocentric radii at 5, 10, 15, and 20 kpc.}$\n",
       "$\\label{fig:ic342:false-color}$\n",
       "$\\end{figure*}}$\n",
       "$\\newcommand{\\FigData}{$\n",
       "$\\begin{figure*}$\n",
       "$\\centering$\n",
       "$\\includegraphics[width=0.475\\textwidth]{figures/ic342_tpeak.png}$\n",
       "$\\includegraphics[width=0.475\\textwidth]{figures/ic342_mom1.png} \\\\includegraphics[width=0.475\\textwidth]{figures/ic342_wide_logtg.png}$\n",
       "$\\includegraphics[width=0.475\\textwidth]{figures/ic0342_rprof.png}$\n",
       "$\\caption{{NOEMA survey of \\chem{CO}{10} emission from IC 342.} The distribution of the \\chem{CO}{10} peak intensity at the native angular resolution (\\textit{top left}) and the intensity-weighted mean CO velocity at 90 pc resolution (\\textit{top right}) as revealed by our new CO survey. The images show spiral arms, abundant inter-arm emission, and a velocity field that mostly reflects a regularly rotating gas disk. The \\textit{bottom} panels show the molecular gas traced by CO in the context of atomic gas and stars. In these panels, the CO and \\hi  data are shown at a common {\\sim}350 pc resolution. The \\textit{bottom left} panel shows a map of the total neutral gas surface density adding molecular gas surface density to atomic gas surface density from [Chiang, Sandstrom and Chastenet (2021)](). The white ellipses show 1, 2, 3 \\times R_e and the gray dashed ellipse indicates 1 R_{25}. The \\textit{lower right} panel shows the azimuthally averaged mass surface density profiles for atomic gas, molecular gas, and stellar mass estimated from the near-infrared. The stellar mass distribution using \\textit{HST} imaging is consistent with a nuclear star cluster and an exponential disk  ([Carson, Barth and Seth 2015]()) , while the presented profile suffers from the resolution of the \\textit{WISE} data.  Our NOEMA survey covers the inner molecule-dominated region where the \\hi  emission is depressed, including the CO-bright center.$\n",
       "$}$\n",
       "$\\label{fig:bigpicture}$\n",
       "$\\end{figure*}}$\n",
       "$\\newcommand{\\FigGMCs}{$\n",
       "$\\begin{figure*}[t!]$\n",
       "$\\centering$\n",
       "$\\includegraphics[width=0.43\\textwidth]{figures/MQ_ic342_clouds.png}$\n",
       "$\\includegraphics[width=0.43\\textwidth]{figures/MQ_ic342_cprops.png} \\\\includegraphics[width=0.43\\textwidth]{figures/MQ_ic342_cprops_binned.png}$\n",
       "$\\includegraphics[width=0.43\\textwidth]{figures/MQ_ic342_beamwise.png}$\n",
       "$\\caption{{Giant molecular clouds or associations in IC 342.} The top left panel shows the location of the molecular clouds that we catalog at 90 pc resolution. The size of each circle corresponds to the deconvolved radius and the color indicates which dynamical environment the cloud is assigned to (red shows interarm clouds, green arm cloud, and blue center clouds). The top right and bottom left panels show the cloud properties in \\sigma^2/R vs. \\Sigma_{\\rm mol} space, in which clouds with a fixed virial parameter follow a diagonal line with a slope of unity in log--log space. \\mod{\\Sigma_{\\rm mol} is the average surface density within the FWHM size of each cloud, \\Sigma_{\\rm mol} = M_{\\rm CO} / (2\\pi R^2).} We show the IC 342 clouds for each environment and clouds at the same resolution and sensitivity, but better velocity resolution, from PHANGS--ALMA \\citep[][and A. Hughes et al. in preparation]{ROSOLOWSKY21}. The bottom left panel replaces individual clouds with running medians. The bottom right panel adopts a beam-wise approach in which each independent line of sight at a fixed 90 pc resolution supplies a measurement of line width and surface density  ([Sun, Leroy and Schruba 2018](), [Sun, Leroy and Schinnerer 2020]()) . Again we compare the IC 342 points to those from a large sample of PHANGS--ALMA galaxies and here we mark the channel width and approximate sensitivity limit for the IC 342 data with dashed lines \\mod{(for a Gaussian CO line, \\mathrm{FWHM}=2.35 \\sigma, so we always have more than one channel across the FWHM of the emission line)}. The bottom row also indicates the mass-weighted median \\mod{(position of the color circles)} and 16{-}84\\% range \\mod{(span of the color horizontal or vertical line)} for surface densities and line widths. \\mod{These refer to the corresponding horizontal or vertical axis, with an arbitrary positioning along the perpendicular direction.} The \\textit{mass-weighted} averages tend to lie at higher values than the bulk of the individual measurements because much of the molecular gas mass resides in a few high-mass clouds or associations. All panels tell a consistent story: arm clouds show mildly enhanced surface density and line width compared to inter-arm clouds, and the center shows significant enhancements in surface density and line width. The elevated line widths in the center indicate high virial parameters suggesting clouds with additional contributions to their line widths. The deviations from self-gravity virialization would be even more extreme if we adopted a CO-to-H_2 conversion factor below the Galactic value used to construct these plots. \\mod{The black crosses in the right panels show representative error bars for our measurements in IC 342, as explained in the main text.}}$\n",
       "$\\label{fig:clouds}$\n",
       "$\\end{figure*}}$\n",
       "$\\newcommand{\\FigSFE}{$\n",
       "$\\begin{figure}$\n",
       "$\\centering$\n",
       "$\\includegraphics[width=0.475\\textwidth]{figures/MQ_ic342_t_dep_vs_t_eff.png}$\n",
       "$\\caption{{Star formation efficiency per gravitational free-fall time in 1.5 kpc regions.} Each hexagonal point shows the integrated molecular gas depletion time for a 1.5 kpc diameter region as a function of the mass-weighted average \\tau_{\\rm ff} (see Eq.~\\ref{eq:tau_ff}) for 90 pc resolution clouds in that region. A straight, diagonal line in this space, such as the dark red one, corresponds to a fixed \\epsilon_{\\rm ff}, which could be expected if density variations represent the primary drivers of depletion time variations. We color the regions by galactocentric radius and calculate the implied \\epsilon_{\\rm ff} for each region. We estimate a median \\epsilon_{\\rm ff} of 0.45\\% with a 16{-}84\\% range of 0.33{-}0.71\\%, and we illustrate these with the solid red line and shaded pink region. For the central 1.5 kpc region, we illustrate the effect of switching from our adopted Galactic \\alpha_{\\rm CO} to a starburst conversion factor. \\mod{The black cross shows a representative error bar as explained in the main text. The plotted values can be found in Table~\\ref{table:hexagons}.}}$\n",
       "$\\label{fig:eff}$\n",
       "$\\end{figure}}$\n",
       "$\\newcommand{\\FigZoom}{$\n",
       "$\\begin{figure*}$\n",
       "$\\centering$\n",
       "$\\includegraphics[width=0.95\\linewidth]{figures/deprojected-zoom-2}$\n",
       "$\\caption{Zooms of the molecular surface density, peak temperature, and line width towards the galaxy center. The images have been deprojected from the galaxy inclination on the plane of sky, and then converted to kpc using a distance of 3.45 Mpc. \\mod{The yellow lines show our spiral mask, while the red and white ellipses delimit the extent of the bar and center environment, respectively (see Appendix~\\ref{app:environment} for the newcommandinition of these environment)}.}$\n",
       "$\\label{fig:zoom}$\n",
       "$\\end{figure*}}$\n",
       "$\\newcommand{\\FigNIR}{$\n",
       "$\\begin{figure}$\n",
       "$\\centering$\n",
       "$\\includegraphics[width=\\linewidth]{figures/irac.png}$\n",
       "$\\caption{\\mod{\\textit{Spitzer} IRAC 3.6 \\mum image showing the newcommandinition of our adopted environments. The inset on the bottom-right highlights the center with a different color stretch.}$\n",
       "$}$\n",
       "$\\label{fig:NIR}$\n",
       "$\\end{figure}}$\n",
       "$\\newcommand{\\OSU}{\\label{OSU} Department of Astronomy, The Ohio State University, 140 West 18th Avenue, Columbus, Ohio 43210, USA}$\n",
       "$\\newcommand{\\Alberta}{\\label{Alberta} Department of Physics, University of Alberta, Edmonton, AB T6G 2E1, Canada}$\n",
       "$\\newcommand{\\ANU}{\\label{ANU} Research School of Astronomy and Astrophysics, Australian National University, Canberra, ACT 2611, Australia}$\n",
       "$\\newcommand{\\IPAC}{\\label{IPAC} Caltech-IPAC, 1200 E. California Blvd. Pasadena, CA 91125, USA}$\n",
       "$\\newcommand{\\Carnegie}{\\label{Carnegi} Observatories of the Carnegie Institution for Science, 813 Santa Barbara Street, Pasadena, CA 91101, USA}$\n",
       "$\\newcommand{ÇAPP}{\\label{CCAPP} Center for Cosmology and Astroparticle Physics, 191 West Woodruff Avenue, Columbus, OH 43210, USA}$\n",
       "$\\newcommand{\\CfA}{\\label{CfA} Harvard-Smithsonian Center for Astrophysics, 60 Garden Street, Cambridge, MA 02138, USA}$\n",
       "$\\newcommand{\\CITEVA}{\\label{CITEVA} Centro de Astronomía (CITEVA), Universidad de Antofagasta, Avenida Angamos 601, Antofagasta, Chile}$\n",
       "$\\newcommand{\\CNRS}{\\label{CNRS} CNRS, IRAP, 9 Av. du Colonel Roche, BP 44346, F-31028 Toulouse cedex 4, France}$\n",
       "$\\newcommand{\\ESO}{\\label{ESO} European Southern Observatory, Karl-Schwarzschild Stra{\\ss}e 2, D-85748 Garching bei München, Germany}$\n",
       "$\\newcommand{\\Heidelberg}{\\label{Heidelberg} Astronomisches Rechen-Institut, Zentrum für Astronomie der Universität Heidelberg, Mönchhofstra\\ss e 12-14, D-69120 Heidelberg, Germany}$\n",
       "$\\newcommand{\\COOL}{\\label{COOL} Cosmic Origins Of Life (COOL) Research DAO, coolresearch.io}$\n",
       "$\\newcommand{\\ICRAR}{\\label{ICRAR} International Centre for Radio Astronomy Research, University of Western Australia, 35 Stirling Highway, Crawley, WA 6009, Australia}$\n",
       "$\\newcommand{\\IRAM}{\\label{IRAM} Institut de Radioastronomie Millimétrique (IRAM), 300 Rue de la Piscine, F-38406 Saint Martin d'Hères, France}$\n",
       "$\\newcommand{\\ITA}{\\label{ITA} Universität Heidelberg, Zentrum für Astronomie, Institut für Theoretische Astrophysik, Albert-Ueberle-Str 2, D-69120 Heidelberg, Germany}$\n",
       "$\\newcommand{\\IWR}{\\label{IWR} Universität Heidelberg, Interdisziplinäres Zentrum für Wissenschaftliches Rechnen, Im Neuenheimer Feld 205, D-69120 Heidelberg, Germany}$\n",
       "$\\newcommand{\\JHU}{\\label{JHU} Department of Physics and Astronomy, The Johns Hopkins University, Baltimore, MD 21218, USA}$\n",
       "$\\newcommand{\\Leiden}{\\label{Leiden} Leiden Observatory, Leiden University, P.O. Box 9513, 2300 RA Leiden, The Netherlands}$\n",
       "$\\newcommand{\\Maryland}{\\label{Maryland} Department of Astronomy, University of Maryland, College Park, MD 20742, USA}$\n",
       "$\\newcommand{\\MPE}{\\label{MPE} Max-Planck-Institut für extraterrestrische Physik, Giessenbachstra{\\ss}e 1, D-85748 Garching, Germany}$\n",
       "$\\newcommand{\\MPIA}{\\label{MPIA} Max-Planck-Institut für Astronomie, Königstuhl 17, D-69117, Heidelberg, Germany}$\n",
       "$\\newcommand{\\Nagoya}{\\label{Nagoya} Department of Physics, Nagoya University, Furo-cho, Chikusa-ku, Nagoya, Aichi 464-8602, Japan}$\n",
       "$\\newcommand{\\NRAO}{\\label{NRAO} National Radio Astronomy Observatory, 520 Edgemont Road, Charlottesville, VA 22903-2475, USA}$\n",
       "$\\newcommand{\\OAN}{\\label{OAN} Observatorio Astronómico Nacional (IGN), C/Alfonso XII, 3, E-28014 Madrid, Spain}$\n",
       "$\\newcommand{\\ObsParis}{\\label{ObsParis} Sorbonne Université, Observatoire de Paris, Université PSL, CNRS, LERMA, F-75014, Paris, France}$\n",
       "$\\newcommand{\\Princeton}{\\label{Princeton} Department of Astrophysical Sciences, Princeton University, Princeton, NJ 08544 USA}$\n",
       "$\\newcommand{\\UToledo}{\\label{UToledo} University of Toledo, 2801 W. Bancroft St., Mail Stop 111, Toledo, OH, 43606}$\n",
       "$\\newcommand{\\Toulouse}{\\label{Toulouse} Université de Toulouse, UPS-OMP, IRAP, F-31028 Toulouse cedex 4, France}$\n",
       "$\\newcommand{\\UBonn}{\\label{UBonn} Argelander-Institut für Astronomie, Universität Bonn, Auf dem Hügel 71, 53121 Bonn, Germany}$\n",
       "$\\newcommand{\\UChile}{\\label{UChile} Departamento de Astronomía, Universidad de Chile, Camino del Observatorio 1515, Las Condes, Santiago, Chile}$\n",
       "$\\newcommand{\\UConn}{\\label{UConn} Department of Physics, University of Connecticut, Storrs, CT, 06269, USA}$\n",
       "$\\newcommand{\\UCSD}{\\label{UCSD} Center for Astrophysics and Space Sciences, Department of Physics,  University of California, San Diego, 9500 Gilman Drive, La Jolla, CA 92093, USA}$\n",
       "$\\newcommand{\\UCSDAA}{\\label{UCSDAA} Department of Astronomy \\& Astrophysics,  University of California, San Diego, 9500 Gilman Drive, La Jolla, CA 92093, USA}$\n",
       "$\\newcommand{\\UGent}{\\label{UGent} Sterrenkundig Observatorium, Universiteit Gent, Krijgslaan 281 S9, B-9000 Gent, Belgium}$\n",
       "$\\newcommand{\\ULyon}{\\label{ULyon} Univ Lyon, Univ Lyon 1, ENS de Lyon, CNRS, Centre de Recherche Astrophysique de Lyon UMR5574,\\F-69230 Saint-Genis-Laval, France}$\n",
       "$\\newcommand{\\UMass}{\\label{UMass} University of Massachusetts—Amherst, 710 N. Pleasant Street, Amherst, MA 01003, USA}$\n",
       "$\\newcommand{\\UWyoming}{\\label{UWyoming} Department of Physics and Astronomy, University of Wyoming, Laramie, WY 82071, USA}$\n",
       "$\\newcommand{\\LAM}{\\label{LAM} Aix Marseille Univ, CNRS, CNES, LAM (Laboratoire d’Astrophysique de Marseille), Marseille, France}$\n",
       "$\\newcommand{\\UHawaii}{\\label{UHawaii} Institute for Astronomy, University of Hawaii, 2680 Woodlawn Drive, Honolulu, HI 96822, USA}$\n",
       "$\\newcommand{\\UCM}{\\label{UCM} Departamento de Física de la Tierra y Astrofísica, Universidad Complutense de Madrid, E-28040, Spain}$\n",
       "$\\newcommand{\\IPARC}{\\label{IPARC} Instituto de Física de Partículas y del Cosmos IPARCOS, Facultad de Ciencias Físicas, Universidad Complutense de Madrid, E-28040, Spain}$\n",
       "$\\newcommand{\\STScI}{\\label{STScI} Space Telescope Science Institute, 3700 San Martin Drive, Baltimore, MD 21218, USA}$\n",
       "$\\newcommand{\\McMaster}{\\label{McMaster} Department of Physics and Astronomy, McMaster University, 1280 Main Street West, Hamilton, ON L8S 4M1, Canada}$\n",
       "$\\newcommand{\\INAF}{\\label{INAF} INAF -- Osservatorio Astrofisico di Arcetri, Largo E. Fermi 5, I-50157, Firenze, Italy}$\n",
       "$\\newcommand{\\Sydney}{\\label{Sydney} Sydney Institute for Astronomy, School of Physics A28, The University of Sydney, NSW 2006, Australia}$\n",
       "$\\newcommand{\\UA}{\\label{UA} Centro de Astronomía (CITEVA), Universidad de Antofagasta, Avenida Angamos 601, Antofagasta, Chile}$\n",
       "$\\newcommand{\\CITA}{\\label{CITA} Canadian Institute for Theoretical Astrophysics (CITA), University of Toronto, 60 St George St, Toronto, ON M5S 3H8, Canada}$\n",
       "$\\newcommand{\\ASIAA}{\\label{ASIAA} Institute of Astronomy and Astrophysics, Academia Sinica, No. 1, Sec. 4, Roosevelt Road, Taipei 10617, Taiwan}$\n",
       "$\\newcommand{\\TKU}{\\label{TKU} Department of Physics, Tamkang University, No.151, Yingzhuan Rd., Tamsui Dist., New Taipei City 251301, Taiwan}$\n",
       "$\\newcommand{\\PSMA}{\\label{PSMA} Penn State Mont Alto, 1 Campus Drive, Mont Alto, PA  17237, USA}$\n",
       "$\\newcommand{\\ILL}{\\label{ILL} Institut Laue-Langevin, 71 avenue des Martyrs, F-38042 Grenoble, France}$\n",
       "$\\newcommand{\\TUM}{\\label{TUM} Technical University of Munich, School of Engineering and Design, Department of Aerospace and Geodesy, Chair of Remote Sensing Technology, Arcisstr. 21, 80333 Munich, Germany}$\n",
       "$\\newcommand{\\}{mod}$</div>\n",
       "\n",
       "\n",
       "\n",
       "<div id=\"title\">\n",
       "\n",
       "# A sensitive, high-resolution, wide-field IRAM NOEMA CO(1-0) survey of the very nearby spiral galaxy IC 342\n",
       "\n",
       "</div>\n",
       "<div id=\"comments\">\n",
       "\n",
       "[![arXiv](https://img.shields.io/badge/arXiv-2310.06501-b31b1b.svg)](https://arxiv.org/abs/2310.06501)<mark>Appeared on: 2023-10-11</mark> -  _16 pages, 6 figures, accepted for publication in A&A_\n",
       "\n",
       "</div>\n",
       "<div id=\"authors\">\n",
       "\n",
       "M. Querejeta, et al. -- incl., <mark>E. Schinnerer</mark>, <mark>A. Hughes</mark>, <mark>K. Kreckel</mark>, <mark>N. Neumayer</mark>\n",
       "\n",
       "</div>\n",
       "<div id=\"abstract\">\n",
       "\n",
       "**Abstract:** We present a new wide-field $10.75\\times10.75$ arcmin $^2$ ( $\\approx 11\\times11$ kpc $^2$ ), high-resolution ( $\\mod{$\\theta = 3.6\\arcsec \\approx 60$ pc}$ ) NOEMA $\\chem{CO}{10}$ survey of the very nearby ( $d=3.45$ Mpc) spiral galaxy IC 342. The survey spans out to about $1.5$ effective radii and covers most of the region where molecular gas dominates the cold interstellar medium. We resolved the CO emission into ${>}600$ individual giant molecular clouds and associations. We assessed their properties and found that overall the clouds show approximate virial balance, with typical virial parameters of $\\alpha_{\\rm vir} = 1{-}2$ . The typical surface density and line width of molecular gas increase from the inter-arm region to the arm $\\mod{and bar}$ region, and they reach their highest values in the inner $\\mod{kiloparsec}$ of the galaxy ${(median $\\Sigma_{\\rm mol} \\approx 80, 140, 160$, and $1100 M_\\odot$ pc$^{-2}$, $\\sigma_{\\rm CO} \\approx 6.6$, $7.6$, $9.7$, and $18.4$ km s$^{-1}$ for inter-arm, arm, bar, and center clouds, respectively)}$ . Clouds in the central part of the galaxy show an enhanced line width relative to their surface densities and evidence of additional sources of dynamical broadening. All of these results agree well with studies of clouds in more distant galaxies at a similar physical resolution. Leveraging our measurements to estimate the density and gravitational free-fall time at $90$ pc resolution, ${averaged on 1.5 kpc hexagonal apertures,}$ we estimate a typical star formation efficiency per free-fall time of $0.45\\%$ with a $16{-}84$ \\% variation of $0.33{-}0.71\\%$ ${among such $1.5$ kpc regions.}$ $\\mod{We speculate that bar-driven gas inflow could explain the large gas concentration in the central kiloparsec and the buildup of the massive nuclear star cluster.}$ This wide-area CO map of the closest face-on massive spiral galaxy demonstrates the current mapping power of NOEMA and has many potential applications. The data and products are publicly available.\n",
       "\n",
       "</div>\n",
       "\n",
       "<div id=\"div_fig1\">\n",
       "\n",
       "<img src=\"tmp_2310.06501/./figures/ic342_tpeak.png\" alt=\"Fig4.1\" width=\"25%\"/><img src=\"tmp_2310.06501/./figures/ic342_mom1.png\" alt=\"Fig4.2\" width=\"25%\"/><img src=\"tmp_2310.06501/./figures/ic342_wide_logtg.png\" alt=\"Fig4.3\" width=\"25%\"/><img src=\"tmp_2310.06501/./figures/ic0342_rprof.png\" alt=\"Fig4.4\" width=\"25%\"/>\n",
       "\n",
       "**Figure 4. -** {NOEMA survey of \\chem{CO}{10} emission from IC 342.} The distribution of the \\chem{CO}{10} peak intensity at the native angular resolution (_top left_) and the intensity-weighted mean CO velocity at $90$ pc resolution (_top right_) as revealed by our new CO survey. The images show spiral arms, abundant inter-arm emission, and a velocity field that mostly reflects a regularly rotating gas disk. The _bottom_ panels show the molecular gas traced by CO in the context of atomic gas and stars. In these panels, the CO and $\\hi$  data are shown at a common ${\\sim}350$ pc resolution. The _bottom left_ panel shows a map of the total neutral gas surface density adding molecular gas surface density to atomic gas surface density from [Chiang, Sandstrom and Chastenet (2021)](). The white ellipses show $1, 2, 3 \\times R_e$ and the gray dashed ellipse indicates $1 R_{25}$. The _lower right_ panel shows the azimuthally averaged mass surface density profiles for atomic gas, molecular gas, and stellar mass estimated from the near-infrared. The stellar mass distribution using _HST_ imaging is consistent with a nuclear star cluster and an exponential disk  ([Carson, Barth and Seth 2015]()) , while the presented profile suffers from the resolution of the _WISE_ data.  Our NOEMA survey covers the inner molecule-dominated region where the $\\hi$  emission is depressed, including the CO-bright center.\n",
       " (*fig:bigpicture*)\n",
       "\n",
       "</div>\n",
       "<div id=\"div_fig2\">\n",
       "\n",
       "<img src=\"tmp_2310.06501/./figures/MQ_ic342_clouds.png\" alt=\"Fig5.1\" width=\"25%\"/><img src=\"tmp_2310.06501/./figures/MQ_ic342_cprops.png\" alt=\"Fig5.2\" width=\"25%\"/><img src=\"tmp_2310.06501/./figures/MQ_ic342_cprops_binned.png\" alt=\"Fig5.3\" width=\"25%\"/><img src=\"tmp_2310.06501/./figures/MQ_ic342_beamwise.png\" alt=\"Fig5.4\" width=\"25%\"/>\n",
       "\n",
       "**Figure 5. -** {Giant molecular clouds or associations in IC 342.} The top left panel shows the location of the molecular clouds that we catalog at $90$ pc resolution. The size of each circle corresponds to the deconvolved radius and the color indicates which dynamical environment the cloud is assigned to (red shows interarm clouds, green arm cloud, and blue center clouds). The top right and bottom left panels show the cloud properties in $\\sigma^2/R$ vs. $\\Sigma_{\\rm mol}$ space, in which clouds with a fixed virial parameter follow a diagonal line with a slope of unity in log--log space. \\mod{$\\Sigma_{\\rm mol}$ is the average surface density within the FWHM size of each cloud, $\\Sigma_{\\rm mol} = M_{\\rm CO} / (2\\pi R^2)$.} We show the IC 342 clouds for each environment and clouds at the same resolution and sensitivity, but better velocity resolution, from PHANGS--ALMA \\citep[][and A. Hughes et al. in preparation]{ROSOLOWSKY21}. The bottom left panel replaces individual clouds with running medians. The bottom right panel adopts a beam-wise approach in which each independent line of sight at a fixed $90$ pc resolution supplies a measurement of line width and surface density  ([Sun, Leroy and Schruba 2018](), [Sun, Leroy and Schinnerer 2020]()) . Again we compare the IC 342 points to those from a large sample of PHANGS--ALMA galaxies and here we mark the channel width and approximate sensitivity limit for the IC 342 data with dashed lines \\mod{(for a Gaussian CO line, $\\mathrm{FWHM}=2.35 \\sigma$, so we always have more than one channel across the FWHM of the emission line)}. The bottom row also indicates the mass-weighted median \\mod{(position of the color circles)} and $16{-}84$\\% range \\mod{(span of the color horizontal or vertical line)} for surface densities and line widths. \\mod{These refer to the corresponding horizontal or vertical axis, with an arbitrary positioning along the perpendicular direction.} The _mass-weighted_ averages tend to lie at higher values than the bulk of the individual measurements because much of the molecular gas mass resides in a few high-mass clouds or associations. All panels tell a consistent story: arm clouds show mildly enhanced surface density and line width compared to inter-arm clouds, and the center shows significant enhancements in surface density and line width. The elevated line widths in the center indicate high virial parameters suggesting clouds with additional contributions to their line widths. The deviations from self-gravity virialization would be even more extreme if we adopted a CO-to-$H_2$ conversion factor below the Galactic value used to construct these plots. \\mod{The black crosses in the right panels show representative error bars for our measurements in IC 342, as explained in the main text.} (*fig:clouds*)\n",
       "\n",
       "</div>\n",
       "<div id=\"div_fig3\">\n",
       "\n",
       "<img src=\"tmp_2310.06501/./figures/MQ_ic342_t_dep_vs_t_eff.png\" alt=\"Fig1\" width=\"100%\"/>\n",
       "\n",
       "**Figure 1. -** {Star formation efficiency per gravitational free-fall time in $1.5$ kpc regions.} Each hexagonal point shows the integrated molecular gas depletion time for a $1.5$ kpc diameter region as a function of the mass-weighted average $\\tau_{\\rm ff}$(see Eq. \\ref{eq:tau_ff}) for $90$ pc resolution clouds in that region. A straight, diagonal line in this space, such as the dark red one, corresponds to a fixed $\\epsilon_{\\rm ff}$, which could be expected if density variations represent the primary drivers of depletion time variations. We color the regions by galactocentric radius and calculate the implied $\\epsilon_{\\rm ff}$ for each region. We estimate a median $\\epsilon_{\\rm ff}$ of $0.45\\%$ with a $16{-}84$\\% range of $0.33{-}0.71\\%$, and we illustrate these with the solid red line and shaded pink region. For the central $1.5$ kpc region, we illustrate the effect of switching from our adopted Galactic $\\alpha_{\\rm CO}$ to a starburst conversion factor. \\mod{The black cross shows a representative error bar as explained in the main text. The plotted values can be found in Table \\ref{table:hexagons}.} (*fig:eff*)\n",
       "\n",
       "</div><div id=\"qrcode\"><img src=https://api.qrserver.com/v1/create-qr-code/?size=100x100&data=\"https://arxiv.org/abs/2310.06501\"></div>"
      ],
      "text/plain": [
       "<IPython.core.display.Markdown object>"
      ]
     },
     "metadata": {},
     "output_type": "display_data"
    },
    {
     "data": {
      "text/markdown": [
       "<div class=\"macros\" style=\"visibility:hidden;\">\n",
       "$\\newcommand{\\ensuremath}{}$\n",
       "$\\newcommand{\\xspace}{}$\n",
       "$\\newcommand{\\object}[1]{\\texttt{#1}}$\n",
       "$\\newcommand{\\farcs}{{.}''}$\n",
       "$\\newcommand{\\farcm}{{.}'}$\n",
       "$\\newcommand{\\arcsec}{''}$\n",
       "$\\newcommand{\\arcmin}{'}$\n",
       "$\\newcommand{\\ion}[2]{#1#2}$\n",
       "$\\newcommand{\\textsc}[1]{\\textrm{#1}}$\n",
       "$\\newcommand{\\hl}[1]{\\textrm{#1}}$\n",
       "$\\newcommand{\\footnote}[1]{}$\n",
       "$\\newcommand{\\linktodm}{https://gea.esac.esa.int/archive/documentation/GDR3/Gaia_archive/chap_datamodel}$\n",
       "$\\newcommand{\\linktoparam}[2]{\\href{\\linktodm/sec_dm_main_source_catalogue/ssec_dm_#1.html\\##1-#2}{ \\texttt{\\small#2}\\xspace}}$\n",
       "$\\newcommand{\\linktotable}[1]{\\href{\\linktodm/sec_dm_main_source_catalogue/ssec_dm_#1.html}{ \\texttt{\\small#1}\\xspace}}$\n",
       "$\\newcommand{\\linktodmfpr}{https://gea.esac.esa.int/archive/documentation/FPR/chap_datamodel}$\n",
       "$\\newcommand{\\linktoparamfpr}[2]{\\href{\\linktodmfpr/sec_dm_focused_product_release/ssec_dm_#1.html\\##1-#2}{ \\texttt{\\small#2}\\xspace}}$\n",
       "$\\newcommand{\\linktotablefpr}[1]{\\href{\\linktodmfpr/sec_dm_focused_product_release/ssec_dm_#1.html}{\\texttt{ \\small#1}\\xspace}}$\n",
       "$\\newcommand{\\orcit}[1]{\\protect\\href{https://orcid.org/#1}{\\protect\\includegraphics[width=8pt]{orcid.png}}}$\n",
       "$\\newcommand$</div>\n",
       "\n",
       "\n",
       "\n",
       "<div id=\"title\">\n",
       "\n",
       "# $_ Gaia_$ Focused Product Release:\\\\Sources from Service Interface Function image analysis\n",
       "\n",
       "</div>\n",
       "<div id=\"comments\">\n",
       "\n",
       "[![arXiv](https://img.shields.io/badge/arXiv-2310.06551-b31b1b.svg)](https://arxiv.org/abs/2310.06551)<mark>Appeared on: 2023-10-11</mark> - \n",
       "\n",
       "</div>\n",
       "<div id=\"authors\">\n",
       "\n",
       "G. Collaboration, et al. -- incl., <mark>C. Bailer-Jones</mark>, <mark>M. Fouesneau</mark>\n",
       "\n",
       "</div>\n",
       "<div id=\"abstract\">\n",
       "\n",
       "**Abstract:** $_ Gaia_$ 's readout window strategy is challenged by very dense fields in the sky. Therefore, in addition to standard $_ Gaia_$ observations, full Sky Mapper (SM) images were recorded for nine selected regions in the sky. A new software pipeline exploits these Service Interface Function (SIF) images of crowded fields (CFs),  making use of the availability of the full two-dimensional (2D) information. This new pipeline produced half a million additional $_ Gaia_$ sources in the region of the omega Centauri ( $\\omega$ Cen) cluster, which are published with this Focused Product Release. We discuss the dedicated SIF CF data reduction pipeline, validate its data products, and introduce their $_ Gaia_$ archive table. Our aim is to improve the completeness of the $_ Gaia_$ source inventory in a very dense region in the sky, $\\omega$ Cen. An adapted version of $_ Gaia_$ 's Source Detection and Image Parameter Determination software located sources in the 2D SIF CF images. These source detections were clustered and assigned to new SIF CF or existing $_ Gaia_$ sources by $_ Gaia_$ 's cross-match software. For the new sources, astrometry was calculated using the Astrometric Global Iterative Solution software, and photometry was obtained in the $_ Gaia_$ DR3 reference system. We validated the results by comparing them to the public $_ Gaia_$ DR3 catalogue and external Hubble Space Telescope data. With this Focused Product Release, 526 587 new sources have been added to the $_ Gaia_$ catalogue in $\\omega$ Cen. Apart from positions and brightnesses, the additional catalogue contains parallaxes and proper motions, but no meaningful colour information. While SIF CF source parameters generally have a lower precision than nominal $_ Gaia_$ sources, in the cluster centre they increase the depth of the combined catalogue by three magnitudes and improve the source density by a factor of ten. This first SIF CF data publication already adds great value to the $_ Gaia_$ catalogue. It demonstrates what to expect for the fourth $_ Gaia_$ catalogue, which will contain additional sources for all nine SIF CF regions.\n",
       "\n",
       "</div>\n",
       "\n",
       "<div id=\"div_fig1\">\n",
       "\n",
       "<img src=\"tmp_2310.06551/./BelliniHST_mags.png\" alt=\"Fig17\" width=\"100%\"/>\n",
       "\n",
       "**Figure 17. -** Comparison of SIF CF data extended with _ Gaia_ DR3 and HST data. Left: Distribution of the combined _ Gaia_ SIF CF and _ Gaia_ DR3 sources (solid dark blue) versus _ Gaia_ G magnitude; of these, sources matched (dashed) and not matched (dash-dotted) to HST; of the latter, not blended  sources (dotted).\n",
       "        Centre: Distribution of all HST sources (solid teal) versus _ Gaia_ G magnitude; HST sources matched (dashed) and not matched (dash-dotted) to SIF CF sources; Unmatched HST sources potentially resolvable by SIF CF (dotted).\n",
       "        Right: Fraction of combined SIF CF and _ Gaia_ DR3 sources not matched to HST (dash-dotted dark blue); of these, not HST blends (dotted dark blue); fraction of HST sources not matched to SIF CF (dash-dotted teal); fraction of resolvable, unmatched HST sources (dotted teal) versus (estimated) G magnitude (*fig:bellini*)\n",
       "\n",
       "</div>\n",
       "<div id=\"div_fig2\">\n",
       "\n",
       "<img src=\"tmp_2310.06551/./dr3_col_terms_before.png\" alt=\"Fig2.1\" width=\"50%\"/><img src=\"tmp_2310.06551/./dr3_mag_terms_before.png\" alt=\"Fig2.2\" width=\"50%\"/>\n",
       "\n",
       "**Figure 2. -** Colour and magnitude terms between the SIF CF calibrated magnitudes and the reference magnitudes from _ Gaia_ DR3. The magnitude terms have been corrected for in this FPR. (*fig:phot_colmagterms*)\n",
       "\n",
       "</div>\n",
       "<div id=\"div_fig3\">\n",
       "\n",
       "<img src=\"tmp_2310.06551/./calibrators.png\" alt=\"Fig5\" width=\"100%\"/>\n",
       "\n",
       "**Figure 5. -** Median G magnitude uncertainty versus G magnitude. G magnitude uncertainty for all calibrators with data density in grey, see the legend and text for a description of the various overlaid curves. (*fig:phot_calibrators*)\n",
       "\n",
       "</div><div id=\"qrcode\"><img src=https://api.qrserver.com/v1/create-qr-code/?size=100x100&data=\"https://arxiv.org/abs/2310.06551\"></div>"
      ],
      "text/plain": [
       "<IPython.core.display.Markdown object>"
      ]
     },
     "metadata": {},
     "output_type": "display_data"
    }
   ],
   "source": [
    "[display(Markdown(k[1])) for k in documents];"
   ]
  },
  {
   "cell_type": "markdown",
   "id": "873873a4",
   "metadata": {
    "papermill": {
     "duration": 0.011222,
     "end_time": "2023-10-11T04:13:26.785465",
     "exception": false,
     "start_time": "2023-10-11T04:13:26.774243",
     "status": "completed"
    },
    "tags": []
   },
   "source": [
    "# Create HTML index"
   ]
  },
  {
   "cell_type": "code",
   "execution_count": 9,
   "id": "cf665672",
   "metadata": {
    "execution": {
     "iopub.execute_input": "2023-10-11T04:13:26.812968Z",
     "iopub.status.busy": "2023-10-11T04:13:26.812461Z",
     "iopub.status.idle": "2023-10-11T04:13:26.824661Z",
     "shell.execute_reply": "2023-10-11T04:13:26.823613Z"
    },
    "papermill": {
     "duration": 0.02822,
     "end_time": "2023-10-11T04:13:26.826967",
     "exception": false,
     "start_time": "2023-10-11T04:13:26.798747",
     "status": "completed"
    },
    "tags": []
   },
   "outputs": [
    {
     "name": "stdout",
     "output_type": "stream",
     "text": [
      "295  publications files modified in the last 7 days.\n"
     ]
    }
   ],
   "source": [
    "from datetime import datetime, timedelta, timezone\n",
    "from glob import glob\n",
    "import os\n",
    "\n",
    "files = glob('_build/html/*.md')\n",
    "days = 7\n",
    "now = datetime.today()\n",
    "res = []\n",
    "for fk in files:\n",
    "    stat_result = os.stat(fk).st_ctime\n",
    "    modified = datetime.fromtimestamp(stat_result, tz=timezone.utc).replace(tzinfo=None)\n",
    "    delta = now.today() - modified\n",
    "    if delta <= timedelta(days=days):\n",
    "        res.append((delta.seconds, fk))\n",
    "res = [k[1] for k in reversed(sorted(res, key=lambda x:x[1]))]\n",
    "npub = len(res)\n",
    "print(len(res), f\" publications files modified in the last {days:d} days.\")\n",
    "# [ print('\\t', k) for k in res ];"
   ]
  },
  {
   "cell_type": "code",
   "execution_count": 10,
   "id": "015de740",
   "metadata": {
    "execution": {
     "iopub.execute_input": "2023-10-11T04:13:26.850130Z",
     "iopub.status.busy": "2023-10-11T04:13:26.849471Z",
     "iopub.status.idle": "2023-10-11T04:13:26.881271Z",
     "shell.execute_reply": "2023-10-11T04:13:26.880344Z"
    },
    "papermill": {
     "duration": 0.045841,
     "end_time": "2023-10-11T04:13:26.883363",
     "exception": false,
     "start_time": "2023-10-11T04:13:26.837522",
     "status": "completed"
    },
    "tags": []
   },
   "outputs": [
    {
     "name": "stdout",
     "output_type": "stream",
     "text": [
      "10  publications in the last 7 days.\n"
     ]
    }
   ],
   "source": [
    "import datetime\n",
    "from glob import glob\n",
    "\n",
    "def get_last_n_days(lst, days=1):\n",
    "    \"\"\" Get the documents from the last n days \"\"\"\n",
    "    sorted_lst = sorted(lst, key=lambda x: x[1], reverse=True)\n",
    "    for fname, date in sorted_lst:\n",
    "        if date >= str(datetime.date.today() - datetime.timedelta(days=days)):\n",
    "            yield fname\n",
    "\n",
    "def extract_appearance_dates(lst_file):\n",
    "    dates = []\n",
    "\n",
    "    def get_date(line):\n",
    "        return line\\\n",
    "            .split('Appeared on:')[-1]\\\n",
    "            .split('</mark>')[0].strip()\n",
    "\n",
    "    for fname in lst:\n",
    "        with open(fname, 'r') as f:\n",
    "            found_date = False\n",
    "            for line in f:\n",
    "                if not found_date:\n",
    "                    if \"Appeared on\" in line:\n",
    "                        found_date = True\n",
    "                        dates.append((fname, get_date(line)))\n",
    "                else:\n",
    "                    break\n",
    "    return dates\n",
    "\n",
    "from glob import glob\n",
    "lst = glob('_build/html/*md')\n",
    "days = 7\n",
    "dates = extract_appearance_dates(lst)\n",
    "res = list(get_last_n_days(dates, days))\n",
    "npub = len(res)\n",
    "print(len(res), f\" publications in the last {days:d} days.\")"
   ]
  },
  {
   "cell_type": "code",
   "execution_count": 11,
   "id": "52ca0208",
   "metadata": {
    "execution": {
     "iopub.execute_input": "2023-10-11T04:13:26.908960Z",
     "iopub.status.busy": "2023-10-11T04:13:26.908239Z",
     "iopub.status.idle": "2023-10-11T04:13:26.915639Z",
     "shell.execute_reply": "2023-10-11T04:13:26.914575Z"
    },
    "papermill": {
     "duration": 0.022895,
     "end_time": "2023-10-11T04:13:26.918259",
     "exception": false,
     "start_time": "2023-10-11T04:13:26.895364",
     "status": "completed"
    },
    "scrolled": false,
    "tags": []
   },
   "outputs": [],
   "source": [
    "def create_carousel(npub=4):\n",
    "    \"\"\" Generate the HTML code for a carousel with `npub` slides \"\"\"\n",
    "    carousel = [\"\"\"  <div class=\"carousel\" \"\"\",\n",
    "                \"\"\"       data-flickity='{ \"autoPlay\": 10000, \"adaptiveHeight\": true, \"resize\": true, \"wrapAround\": true, \"pauseAutoPlayOnHover\": true, \"groupCells\": 1 }' id=\"asyncTypeset\">\"\"\"\n",
    "                ]\n",
    "    \n",
    "    item_str = \"\"\"    <div class=\"carousel-cell\"> <div id=\"slide{k}\" class=\"md_view\">Content {k}</div> </div>\"\"\"\n",
    "    for k in range(1, npub + 1):\n",
    "        carousel.append(item_str.format(k=k))\n",
    "    carousel.append(\"  </div>\")\n",
    "    return '\\n'.join(carousel)\n",
    "\n",
    "def create_grid(npub=4):\n",
    "    \"\"\" Generate the HTML code for a flat grid with `npub` slides \"\"\"\n",
    "    grid = [\"\"\"  <div class=\"grid\"> \"\"\",\n",
    "                ]\n",
    "    \n",
    "    item_str = \"\"\"    <div class=\"grid-item\"> <div id=\"slide{k}\" class=\"md_view\">Content {k}</div> </div>\"\"\"\n",
    "    for k in range(1, npub + 1):\n",
    "        grid.append(item_str.format(k=k))\n",
    "    grid.append(\"  </div>\")\n",
    "    return '\\n'.join(grid)"
   ]
  },
  {
   "cell_type": "code",
   "execution_count": 12,
   "id": "a6eac5b6",
   "metadata": {
    "execution": {
     "iopub.execute_input": "2023-10-11T04:13:26.942902Z",
     "iopub.status.busy": "2023-10-11T04:13:26.942624Z",
     "iopub.status.idle": "2023-10-11T04:13:26.949116Z",
     "shell.execute_reply": "2023-10-11T04:13:26.948228Z"
    },
    "papermill": {
     "duration": 0.021729,
     "end_time": "2023-10-11T04:13:26.951370",
     "exception": false,
     "start_time": "2023-10-11T04:13:26.929641",
     "status": "completed"
    },
    "scrolled": false,
    "tags": []
   },
   "outputs": [],
   "source": [
    "carousel = create_carousel(npub)\n",
    "docs = ', '.join(['\"{0:s}\"'.format(k.split('/')[-1]) for k in res])\n",
    "slides = ', '.join([f'\"slide{k}\"' for k in range(1, npub + 1)])\n",
    "\n",
    "with open(\"daily_template.html\", \"r\") as tpl:\n",
    "    page = tpl.read()\n",
    "    page = page.replace(\"{%-- carousel:s --%}\", carousel)\\\n",
    "               .replace(\"{%-- suptitle:s --%}\",  \"7-day archives\" )\\\n",
    "               .replace(\"{%-- docs:s --%}\", docs)\\\n",
    "               .replace(\"{%-- slides:s --%}\", slides)\n",
    "    \n",
    "with open(\"_build/html/index_7days.html\", 'w') as fout:\n",
    "    fout.write(page)"
   ]
  },
  {
   "cell_type": "code",
   "execution_count": 13,
   "id": "adc1a1ec",
   "metadata": {
    "execution": {
     "iopub.execute_input": "2023-10-11T04:13:26.974726Z",
     "iopub.status.busy": "2023-10-11T04:13:26.974475Z",
     "iopub.status.idle": "2023-10-11T04:13:26.983988Z",
     "shell.execute_reply": "2023-10-11T04:13:26.983008Z"
    },
    "papermill": {
     "duration": 0.023519,
     "end_time": "2023-10-11T04:13:26.985776",
     "exception": false,
     "start_time": "2023-10-11T04:13:26.962257",
     "status": "completed"
    },
    "tags": []
   },
   "outputs": [
    {
     "name": "stdout",
     "output_type": "stream",
     "text": [
      "7  publications in the last day.\n"
     ]
    }
   ],
   "source": [
    "# redo for today\n",
    "days = 1\n",
    "res = list(get_last_n_days(dates, days))\n",
    "npub = len(res)\n",
    "print(len(res), f\" publications in the last day.\")\n",
    "\n",
    "carousel = create_carousel(npub)\n",
    "docs = ', '.join(['\"{0:s}\"'.format(k.split('/')[-1]) for k in res])\n",
    "slides = ', '.join([f'\"slide{k}\"' for k in range(1, npub + 1)])\n",
    "\n",
    "with open(\"daily_template.html\", \"r\") as tpl:\n",
    "    page = tpl.read()\n",
    "    page = page.replace(\"{%-- carousel:s --%}\", carousel)\\\n",
    "               .replace(\"{%-- suptitle:s --%}\",  \"Daily\" )\\\n",
    "               .replace(\"{%-- docs:s --%}\", docs)\\\n",
    "               .replace(\"{%-- slides:s --%}\", slides)\n",
    "    \n",
    "# print(carousel, docs, slides)\n",
    "# print(page)\n",
    "with open(\"_build/html/index_daily.html\", 'w') as fout:\n",
    "    fout.write(page)"
   ]
  },
  {
   "cell_type": "code",
   "execution_count": 14,
   "id": "00eece82",
   "metadata": {
    "execution": {
     "iopub.execute_input": "2023-10-11T04:13:27.011757Z",
     "iopub.status.busy": "2023-10-11T04:13:27.010728Z",
     "iopub.status.idle": "2023-10-11T04:13:27.020313Z",
     "shell.execute_reply": "2023-10-11T04:13:27.019547Z"
    },
    "papermill": {
     "duration": 0.024211,
     "end_time": "2023-10-11T04:13:27.022102",
     "exception": false,
     "start_time": "2023-10-11T04:13:26.997891",
     "status": "completed"
    },
    "scrolled": false,
    "tags": []
   },
   "outputs": [
    {
     "name": "stdout",
     "output_type": "stream",
     "text": [
      "6  6 publications selected.\n"
     ]
    }
   ],
   "source": [
    "# Create the flat grid of the last N papers (fixed number regardless of dates)\n",
    "from itertools import islice \n",
    "\n",
    "npub = 6\n",
    "res = [k[0] for k in (islice(reversed(sorted(dates, key=lambda x: x[1])), 6))]\n",
    "print(len(res), f\" {npub} publications selected.\")\n",
    "\n",
    "grid = create_grid(npub)\n",
    "docs = ', '.join(['\"{0:s}\"'.format(k.split('/')[-1]) for k in res])\n",
    "slides = ', '.join([f'\"slide{k}\"' for k in range(1, npub + 1)])\n",
    "\n",
    "with open(\"grid_template.html\", \"r\") as tpl:\n",
    "    page = tpl.read()\n",
    "    page = page.replace(\"{%-- grid-content:s --%}\", grid)\\\n",
    "               .replace(\"{%-- suptitle:s --%}\",  f\"Last {npub:,d} papers\" )\\\n",
    "               .replace(\"{%-- docs:s --%}\", docs)\\\n",
    "               .replace(\"{%-- slides:s --%}\", slides)\n",
    "    \n",
    "# print(grid, docs, slides)\n",
    "# print(page)\n",
    "with open(\"_build/html/index_npub_grid.html\", 'w') as fout:\n",
    "    fout.write(page)"
   ]
  }
 ],
 "metadata": {
  "kernelspec": {
   "display_name": "Python 3 (ipykernel)",
   "language": "python",
   "name": "python3"
  },
  "language_info": {
   "codemirror_mode": {
    "name": "ipython",
    "version": 3
   },
   "file_extension": ".py",
   "mimetype": "text/x-python",
   "name": "python",
   "nbconvert_exporter": "python",
   "pygments_lexer": "ipython3",
   "version": "3.9.18"
  },
  "papermill": {
   "default_parameters": {},
   "duration": 509.311841,
   "end_time": "2023-10-11T04:13:27.355077",
   "environment_variables": {},
   "exception": null,
   "input_path": "MPIA daily digest.ipynb",
   "output_path": "log.ipynb",
   "parameters": {},
   "start_time": "2023-10-11T04:04:58.043236",
   "version": "2.4.0"
  },
  "vscode": {
   "interpreter": {
    "hash": "aee8b7b246df8f9039afb4144a1f6fd8d2ca17a180786b69acc140d282b71a49"
   }
  },
  "widgets": {
   "application/vnd.jupyter.widget-state+json": {
    "state": {
     "0d026cc47fcb412a89024afcaf0479bc": {
      "model_module": "@jupyter-widgets/base",
      "model_module_version": "2.0.0",
      "model_name": "LayoutModel",
      "state": {
       "_model_module": "@jupyter-widgets/base",
       "_model_module_version": "2.0.0",
       "_model_name": "LayoutModel",
       "_view_count": null,
       "_view_module": "@jupyter-widgets/base",
       "_view_module_version": "2.0.0",
       "_view_name": "LayoutView",
       "align_content": null,
       "align_items": null,
       "align_self": null,
       "border_bottom": null,
       "border_left": null,
       "border_right": null,
       "border_top": null,
       "bottom": null,
       "display": null,
       "flex": null,
       "flex_flow": null,
       "grid_area": null,
       "grid_auto_columns": null,
       "grid_auto_flow": null,
       "grid_auto_rows": null,
       "grid_column": null,
       "grid_gap": null,
       "grid_row": null,
       "grid_template_areas": null,
       "grid_template_columns": null,
       "grid_template_rows": null,
       "height": null,
       "justify_content": null,
       "justify_items": null,
       "left": null,
       "margin": null,
       "max_height": null,
       "max_width": null,
       "min_height": null,
       "min_width": null,
       "object_fit": null,
       "object_position": null,
       "order": null,
       "overflow": null,
       "padding": null,
       "right": null,
       "top": null,
       "visibility": null,
       "width": null
      }
     },
     "2023b1ce5ddc4f6186a1e88713bd673b": {
      "model_module": "@jupyter-widgets/base",
      "model_module_version": "2.0.0",
      "model_name": "LayoutModel",
      "state": {
       "_model_module": "@jupyter-widgets/base",
       "_model_module_version": "2.0.0",
       "_model_name": "LayoutModel",
       "_view_count": null,
       "_view_module": "@jupyter-widgets/base",
       "_view_module_version": "2.0.0",
       "_view_name": "LayoutView",
       "align_content": null,
       "align_items": null,
       "align_self": null,
       "border_bottom": null,
       "border_left": null,
       "border_right": null,
       "border_top": null,
       "bottom": null,
       "display": null,
       "flex": null,
       "flex_flow": null,
       "grid_area": null,
       "grid_auto_columns": null,
       "grid_auto_flow": null,
       "grid_auto_rows": null,
       "grid_column": null,
       "grid_gap": null,
       "grid_row": null,
       "grid_template_areas": null,
       "grid_template_columns": null,
       "grid_template_rows": null,
       "height": null,
       "justify_content": null,
       "justify_items": null,
       "left": null,
       "margin": null,
       "max_height": null,
       "max_width": null,
       "min_height": null,
       "min_width": null,
       "object_fit": null,
       "object_position": null,
       "order": null,
       "overflow": null,
       "padding": null,
       "right": null,
       "top": null,
       "visibility": null,
       "width": null
      }
     },
     "24694c0856d24933b1d724850afc3794": {
      "model_module": "@jupyter-widgets/controls",
      "model_module_version": "2.0.0",
      "model_name": "HTMLModel",
      "state": {
       "_dom_classes": [],
       "_model_module": "@jupyter-widgets/controls",
       "_model_module_version": "2.0.0",
       "_model_name": "HTMLModel",
       "_view_count": null,
       "_view_module": "@jupyter-widgets/controls",
       "_view_module_version": "2.0.0",
       "_view_name": "HTMLView",
       "description": "",
       "description_allow_html": false,
       "layout": "IPY_MODEL_2023b1ce5ddc4f6186a1e88713bd673b",
       "placeholder": "​",
       "style": "IPY_MODEL_9a6658c2c7d4406db70d478a28105078",
       "tabbable": null,
       "tooltip": null,
       "value": "100%"
      }
     },
     "383bf0fc53164224a340de6f0758df46": {
      "model_module": "@jupyter-widgets/controls",
      "model_module_version": "2.0.0",
      "model_name": "ProgressStyleModel",
      "state": {
       "_model_module": "@jupyter-widgets/controls",
       "_model_module_version": "2.0.0",
       "_model_name": "ProgressStyleModel",
       "_view_count": null,
       "_view_module": "@jupyter-widgets/base",
       "_view_module_version": "2.0.0",
       "_view_name": "StyleView",
       "bar_color": null,
       "description_width": ""
      }
     },
     "89fca9c0901a4d8f9c02939764203fc3": {
      "model_module": "@jupyter-widgets/controls",
      "model_module_version": "2.0.0",
      "model_name": "FloatProgressModel",
      "state": {
       "_dom_classes": [],
       "_model_module": "@jupyter-widgets/controls",
       "_model_module_version": "2.0.0",
       "_model_name": "FloatProgressModel",
       "_view_count": null,
       "_view_module": "@jupyter-widgets/controls",
       "_view_module_version": "2.0.0",
       "_view_name": "ProgressView",
       "bar_style": "success",
       "description": "",
       "description_allow_html": false,
       "layout": "IPY_MODEL_8fba52ea690449f494d03c74bff6943d",
       "max": 8.0,
       "min": 0.0,
       "orientation": "horizontal",
       "style": "IPY_MODEL_383bf0fc53164224a340de6f0758df46",
       "tabbable": null,
       "tooltip": null,
       "value": 8.0
      }
     },
     "8eb5ae1920534101a6d325a6cfe9b672": {
      "model_module": "@jupyter-widgets/controls",
      "model_module_version": "2.0.0",
      "model_name": "HBoxModel",
      "state": {
       "_dom_classes": [],
       "_model_module": "@jupyter-widgets/controls",
       "_model_module_version": "2.0.0",
       "_model_name": "HBoxModel",
       "_view_count": null,
       "_view_module": "@jupyter-widgets/controls",
       "_view_module_version": "2.0.0",
       "_view_name": "HBoxView",
       "box_style": "",
       "children": [
        "IPY_MODEL_24694c0856d24933b1d724850afc3794",
        "IPY_MODEL_89fca9c0901a4d8f9c02939764203fc3",
        "IPY_MODEL_cd5baf8bb2d746f38eaaeb453efeec79"
       ],
       "layout": "IPY_MODEL_0d026cc47fcb412a89024afcaf0479bc",
       "tabbable": null,
       "tooltip": null
      }
     },
     "8fba52ea690449f494d03c74bff6943d": {
      "model_module": "@jupyter-widgets/base",
      "model_module_version": "2.0.0",
      "model_name": "LayoutModel",
      "state": {
       "_model_module": "@jupyter-widgets/base",
       "_model_module_version": "2.0.0",
       "_model_name": "LayoutModel",
       "_view_count": null,
       "_view_module": "@jupyter-widgets/base",
       "_view_module_version": "2.0.0",
       "_view_name": "LayoutView",
       "align_content": null,
       "align_items": null,
       "align_self": null,
       "border_bottom": null,
       "border_left": null,
       "border_right": null,
       "border_top": null,
       "bottom": null,
       "display": null,
       "flex": null,
       "flex_flow": null,
       "grid_area": null,
       "grid_auto_columns": null,
       "grid_auto_flow": null,
       "grid_auto_rows": null,
       "grid_column": null,
       "grid_gap": null,
       "grid_row": null,
       "grid_template_areas": null,
       "grid_template_columns": null,
       "grid_template_rows": null,
       "height": null,
       "justify_content": null,
       "justify_items": null,
       "left": null,
       "margin": null,
       "max_height": null,
       "max_width": null,
       "min_height": null,
       "min_width": null,
       "object_fit": null,
       "object_position": null,
       "order": null,
       "overflow": null,
       "padding": null,
       "right": null,
       "top": null,
       "visibility": null,
       "width": null
      }
     },
     "9a6658c2c7d4406db70d478a28105078": {
      "model_module": "@jupyter-widgets/controls",
      "model_module_version": "2.0.0",
      "model_name": "HTMLStyleModel",
      "state": {
       "_model_module": "@jupyter-widgets/controls",
       "_model_module_version": "2.0.0",
       "_model_name": "HTMLStyleModel",
       "_view_count": null,
       "_view_module": "@jupyter-widgets/base",
       "_view_module_version": "2.0.0",
       "_view_name": "StyleView",
       "background": null,
       "description_width": "",
       "font_size": null,
       "text_color": null
      }
     },
     "b5766ac749704472bb8dc613b7733cb8": {
      "model_module": "@jupyter-widgets/base",
      "model_module_version": "2.0.0",
      "model_name": "LayoutModel",
      "state": {
       "_model_module": "@jupyter-widgets/base",
       "_model_module_version": "2.0.0",
       "_model_name": "LayoutModel",
       "_view_count": null,
       "_view_module": "@jupyter-widgets/base",
       "_view_module_version": "2.0.0",
       "_view_name": "LayoutView",
       "align_content": null,
       "align_items": null,
       "align_self": null,
       "border_bottom": null,
       "border_left": null,
       "border_right": null,
       "border_top": null,
       "bottom": null,
       "display": null,
       "flex": null,
       "flex_flow": null,
       "grid_area": null,
       "grid_auto_columns": null,
       "grid_auto_flow": null,
       "grid_auto_rows": null,
       "grid_column": null,
       "grid_gap": null,
       "grid_row": null,
       "grid_template_areas": null,
       "grid_template_columns": null,
       "grid_template_rows": null,
       "height": null,
       "justify_content": null,
       "justify_items": null,
       "left": null,
       "margin": null,
       "max_height": null,
       "max_width": null,
       "min_height": null,
       "min_width": null,
       "object_fit": null,
       "object_position": null,
       "order": null,
       "overflow": null,
       "padding": null,
       "right": null,
       "top": null,
       "visibility": null,
       "width": null
      }
     },
     "cd5baf8bb2d746f38eaaeb453efeec79": {
      "model_module": "@jupyter-widgets/controls",
      "model_module_version": "2.0.0",
      "model_name": "HTMLModel",
      "state": {
       "_dom_classes": [],
       "_model_module": "@jupyter-widgets/controls",
       "_model_module_version": "2.0.0",
       "_model_name": "HTMLModel",
       "_view_count": null,
       "_view_module": "@jupyter-widgets/controls",
       "_view_module_version": "2.0.0",
       "_view_name": "HTMLView",
       "description": "",
       "description_allow_html": false,
       "layout": "IPY_MODEL_b5766ac749704472bb8dc613b7733cb8",
       "placeholder": "​",
       "style": "IPY_MODEL_e09e15b134c94b4c87d525428fe3da95",
       "tabbable": null,
       "tooltip": null,
       "value": " 8/8 [07:58&lt;00:00, 34.43s/it]"
      }
     },
     "e09e15b134c94b4c87d525428fe3da95": {
      "model_module": "@jupyter-widgets/controls",
      "model_module_version": "2.0.0",
      "model_name": "HTMLStyleModel",
      "state": {
       "_model_module": "@jupyter-widgets/controls",
       "_model_module_version": "2.0.0",
       "_model_name": "HTMLStyleModel",
       "_view_count": null,
       "_view_module": "@jupyter-widgets/base",
       "_view_module_version": "2.0.0",
       "_view_name": "StyleView",
       "background": null,
       "description_width": "",
       "font_size": null,
       "text_color": null
      }
     }
    },
    "version_major": 2,
    "version_minor": 0
   }
  }
 },
 "nbformat": 4,
 "nbformat_minor": 5
}