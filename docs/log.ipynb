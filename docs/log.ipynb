{
 "cells": [
  {
   "cell_type": "markdown",
   "id": "92bcb855",
   "metadata": {
    "papermill": {
     "duration": 0.004121,
     "end_time": "2025-10-07T04:13:55.574977",
     "exception": false,
     "start_time": "2025-10-07T04:13:55.570856",
     "status": "completed"
    },
    "tags": []
   },
   "source": [
    "# MPIA Arxiv on Deck 2\n",
    "\n",
    "Contains the steps to produce the paper extractions."
   ]
  },
  {
   "cell_type": "code",
   "execution_count": 1,
   "id": "3a0d6e11",
   "metadata": {
    "execution": {
     "iopub.execute_input": "2025-10-07T04:13:55.582692Z",
     "iopub.status.busy": "2025-10-07T04:13:55.582405Z",
     "iopub.status.idle": "2025-10-07T04:13:55.805421Z",
     "shell.execute_reply": "2025-10-07T04:13:55.804566Z"
    },
    "papermill": {
     "duration": 0.228635,
     "end_time": "2025-10-07T04:13:55.807008",
     "exception": false,
     "start_time": "2025-10-07T04:13:55.578373",
     "status": "completed"
    },
    "tags": []
   },
   "outputs": [],
   "source": [
    "# Imports\n",
    "import os\n",
    "from IPython.display import Markdown, display\n",
    "from tqdm.notebook import tqdm\n",
    "import warnings\n",
    "from PIL import Image \n",
    "import re\n",
    "\n",
    "# requires arxiv_on_deck_2\n",
    "\n",
    "from arxiv_on_deck_2.arxiv2 import (get_new_papers, \n",
    "                                    get_paper_from_identifier,\n",
    "                                    retrieve_document_source, \n",
    "                                    get_markdown_badge)\n",
    "from arxiv_on_deck_2 import (latex,\n",
    "                             latex_bib,\n",
    "                             mpia,\n",
    "                             highlight_authors_in_list)\n",
    "\n",
    "# Sometimes images are really big\n",
    "Image.MAX_IMAGE_PIXELS = 1000000000 "
   ]
  },
  {
   "cell_type": "code",
   "execution_count": 2,
   "id": "22aa9d44",
   "metadata": {
    "execution": {
     "iopub.execute_input": "2025-10-07T04:13:55.814610Z",
     "iopub.status.busy": "2025-10-07T04:13:55.814288Z",
     "iopub.status.idle": "2025-10-07T04:13:55.823162Z",
     "shell.execute_reply": "2025-10-07T04:13:55.822538Z"
    },
    "papermill": {
     "duration": 0.013843,
     "end_time": "2025-10-07T04:13:55.824235",
     "exception": false,
     "start_time": "2025-10-07T04:13:55.810392",
     "status": "completed"
    },
    "tags": []
   },
   "outputs": [],
   "source": [
    "# Some useful definitions.\n",
    "\n",
    "class AffiliationWarning(UserWarning):\n",
    "    pass\n",
    "\n",
    "class AffiliationError(RuntimeError):\n",
    "    pass\n",
    "\n",
    "def validation(source: str):\n",
    "    \"\"\"Raises error paper during parsing of source file\n",
    "    \n",
    "    Allows checks before parsing TeX code.\n",
    "    \n",
    "    Raises AffiliationWarning\n",
    "    \"\"\"\n",
    "    check = mpia.affiliation_verifications(source, verbose=True)\n",
    "    if check is not True:\n",
    "        raise AffiliationError(\"mpia.affiliation_verifications: \" + check)\n",
    "\n",
    "        \n",
    "warnings.simplefilter('always', AffiliationWarning)\n",
    "\n",
    "\n",
    "def get_markdown_qrcode(paper_id: str):\n",
    "    \"\"\" Generate a qrcode to the arxiv page using qrserver.com\n",
    "    \n",
    "    :param paper: Arxiv paper\n",
    "    :returns: markdown text\n",
    "    \"\"\"\n",
    "    url = r\"https://api.qrserver.com/v1/create-qr-code/?size=100x100&data=\"\n",
    "    txt = f\"\"\"<img src={url}\"https://arxiv.org/abs/{paper_id}\">\"\"\"\n",
    "    txt = '<div id=\"qrcode\">' + txt + '</div>'\n",
    "    return txt\n",
    "\n",
    "\n",
    "def clean_non_western_encoded_characters_commands(text: str) -> str:\n",
    "    \"\"\" Remove non-western encoded characters from a string\n",
    "    List may need to grow.\n",
    "    \n",
    "    :param text: the text to clean\n",
    "    :return: the cleaned text\n",
    "    \"\"\"\n",
    "    text = re.sub(r\"(\\\\begin{CJK}{UTF8}{gbsn})(.*?)(\\\\end{CJK})\", r\"\\2\", text)\n",
    "    return text\n",
    "\n",
    "\n",
    "def get_initials(name: str) -> str:\n",
    "    \"\"\" Get the short name, e.g., A.-B. FamName\n",
    "    :param name: full name\n",
    "    :returns: initials\n",
    "    \"\"\"\n",
    "    initials = []\n",
    "    # account for non western names often in ()\n",
    "    if '(' in name:\n",
    "        name = clean_non_western_encoded_characters_commands(name)\n",
    "        suffix = re.findall(r\"\\((.*?)\\)\", name)[0]\n",
    "        name = name.replace(f\"({suffix})\", '')\n",
    "    else:\n",
    "        suffix = ''\n",
    "    split = name.split()\n",
    "    for token in split[:-1]:\n",
    "        if '-' in token:\n",
    "            current = '-'.join([k[0] + '.' for k in token.split('-')])\n",
    "        else:\n",
    "            current = token[0] + '.'\n",
    "        initials.append(current)\n",
    "    initials.append(split[-1].strip())\n",
    "    if suffix:\n",
    "        initials.append(f\"({suffix})\")\n",
    "    return ' '.join(initials)"
   ]
  },
  {
   "cell_type": "markdown",
   "id": "14bd6310",
   "metadata": {
    "papermill": {
     "duration": 0.002973,
     "end_time": "2025-10-07T04:13:55.830385",
     "exception": false,
     "start_time": "2025-10-07T04:13:55.827412",
     "status": "completed"
    },
    "tags": []
   },
   "source": [
    "## get list of arxiv paper candidates\n",
    "\n",
    "We use the MPIA mitarbeiter list webpage from mpia.de to get author names\n",
    "We then get all new papers from Arxiv and match authors"
   ]
  },
  {
   "cell_type": "code",
   "execution_count": 3,
   "id": "7ea813a8",
   "metadata": {
    "execution": {
     "iopub.execute_input": "2025-10-07T04:13:55.837638Z",
     "iopub.status.busy": "2025-10-07T04:13:55.837353Z",
     "iopub.status.idle": "2025-10-07T04:14:20.726598Z",
     "shell.execute_reply": "2025-10-07T04:14:20.725965Z"
    },
    "papermill": {
     "duration": 24.894414,
     "end_time": "2025-10-07T04:14:20.727854",
     "exception": false,
     "start_time": "2025-10-07T04:13:55.833440",
     "status": "completed"
    },
    "tags": []
   },
   "outputs": [],
   "source": [
    "# deal with the author list and edge cases of people that cannot be consistent on their name  \n",
    "\n",
    "def filter_non_scientists(name: str) -> bool:\n",
    "    \"\"\" Loose filter on expected authorships\n",
    "\n",
    "    removing IT, administration, technical staff\n",
    "    :param name: name\n",
    "    :returns: False if name is not a scientist\n",
    "    \"\"\"\n",
    "    remove_list = ['Licht', 'Binroth', 'Witzel', 'Jordan',\n",
    "                   'Zähringer', 'Scheerer', 'Hoffmann', 'Düe',\n",
    "                   'Hellmich', 'Enkler-Scharpegge', 'Witte-Nguy',\n",
    "                   'Dehen', 'Beckmann', 'Jager', 'Jäger'\n",
    "                  ]\n",
    "\n",
    "    for k in remove_list:\n",
    "        if k in name:\n",
    "            return False\n",
    "    return True\n",
    "\n",
    "def add_author_to_list(author_list: list) -> list:\n",
    "    \"\"\" Add author to list if not already in list\n",
    "    \n",
    "    :param author: author name\n",
    "    :param author_list: list of authors\n",
    "    :returns: updated list of authors\n",
    "    \"\"\"\n",
    "    add_list = ['T. Henning']\n",
    "\n",
    "    for author in add_list:\n",
    "        if author not in author_list:\n",
    "            author_list.append(author)\n",
    "    return author_list\n",
    "\n",
    "# get list from MPIA website\n",
    "# filter for non-scientists (mpia.get_mpia_mitarbeiter_list() does some filtering)\n",
    "mpia_authors = [k[1] for k in mpia.get_mpia_mitarbeiter_list() if filter_non_scientists(k[1])]\n",
    "# add some missing author because of inconsistencies in their MPIA name and author name on papers\n",
    "mpia_authors = add_author_to_list(mpia_authors)"
   ]
  },
  {
   "cell_type": "code",
   "execution_count": 4,
   "id": "2645e73a",
   "metadata": {
    "execution": {
     "iopub.execute_input": "2025-10-07T04:14:20.735209Z",
     "iopub.status.busy": "2025-10-07T04:14:20.734971Z",
     "iopub.status.idle": "2025-10-07T04:14:21.524517Z",
     "shell.execute_reply": "2025-10-07T04:14:21.523817Z"
    },
    "papermill": {
     "duration": 0.79438,
     "end_time": "2025-10-07T04:14:21.525611",
     "exception": false,
     "start_time": "2025-10-07T04:14:20.731231",
     "status": "completed"
    },
    "tags": []
   },
   "outputs": [
    {
     "name": "stdout",
     "output_type": "stream",
     "text": [
      "Y. Wang  ->  Y. Wang  |  ['Y. Wang']\n",
      "T. Henning  ->  T. Henning  |  ['T. Henning']\n",
      "D. Semenov  ->  D. Semenov  |  ['D. Semenov']\n",
      "J. Klevas  ->  J. Klevas  |  ['J. Klevas']\n",
      "I. J. M. Crossfield  ->  I. J. M. Crossfield  |  ['I. J. M. Crossfield']\n",
      "K. A. Kahle  ->  K. A. Kahle  |  ['K. A. Kahle']\n",
      "L. Kreidberg  ->  L. Kreidberg  |  ['L. Kreidberg']\n",
      "X. Zhang  ->  X. Zhang  |  ['X. Zhang']\n"
     ]
    },
    {
     "name": "stdout",
     "output_type": "stream",
     "text": [
      "K. Jahnke  ->  K. Jahnke  |  ['K. Jahnke']\n",
      "H. Beuther  ->  H. Beuther  |  ['H. Beuther']\n",
      "Arxiv has 79 new papers today\n",
      "          6 with possible author matches\n"
     ]
    }
   ],
   "source": [
    "new_papers = get_new_papers()\n",
    "# add manual references\n",
    "add_paper_refs = []\n",
    "new_papers.extend([get_paper_from_identifier(k) for k in add_paper_refs])\n",
    "\n",
    "def robust_call(fn, value, *args, **kwargs):\n",
    "    try:\n",
    "        return fn(value, *args, **kwargs)\n",
    "    except Exception:\n",
    "        return value\n",
    "\n",
    "candidates = []\n",
    "for paperk in new_papers:\n",
    "    # Check author list with their initials\n",
    "    normed_author_list = [robust_call(mpia.get_initials, k) for k in paperk['authors']]\n",
    "    hl_authors = highlight_authors_in_list(normed_author_list, mpia_authors, verbose=True)\n",
    "    matches = [(hl, orig) for hl, orig in zip(hl_authors, paperk['authors']) if 'mark' in hl]\n",
    "    paperk['authors'] = hl_authors\n",
    "    if matches:\n",
    "        # only select paper if an author matched our list\n",
    "        candidates.append(paperk)\n",
    "print(\"\"\"Arxiv has {0:,d} new papers today\"\"\".format(len(new_papers)))        \n",
    "print(\"\"\"          {0:,d} with possible author matches\"\"\".format(len(candidates)))"
   ]
  },
  {
   "cell_type": "markdown",
   "id": "3543b34a",
   "metadata": {
    "papermill": {
     "duration": 0.003126,
     "end_time": "2025-10-07T04:14:21.532310",
     "exception": false,
     "start_time": "2025-10-07T04:14:21.529184",
     "status": "completed"
    },
    "tags": []
   },
   "source": [
    "# Parse sources and generate relevant outputs\n",
    "\n",
    "From the candidates, we do the following steps:\n",
    "* get their tarball from ArXiv (and extract data)\n",
    "* find the main .tex file: find one with \\documentclass{...} (sometimes it's non trivial)\n",
    "* Check affiliations with :func:`validation`, which uses :func:`mpia.affiliation_verifications`\n",
    "* If passing the affiliations: we parse the .tex source\n",
    "   * inject sub-documents into the main (flatten the main document)\n",
    "   * parse structure, extract information (title, abstract, authors, figures...)\n",
    "   * handles `\\graphicspath` if provided\n",
    "* Generate the .md document."
   ]
  },
  {
   "cell_type": "code",
   "execution_count": 5,
   "id": "9576b79e",
   "metadata": {
    "execution": {
     "iopub.execute_input": "2025-10-07T04:14:21.539234Z",
     "iopub.status.busy": "2025-10-07T04:14:21.539041Z",
     "iopub.status.idle": "2025-10-07T04:17:35.132552Z",
     "shell.execute_reply": "2025-10-07T04:17:35.131696Z"
    },
    "papermill": {
     "duration": 193.598329,
     "end_time": "2025-10-07T04:17:35.133701",
     "exception": false,
     "start_time": "2025-10-07T04:14:21.535372",
     "status": "completed"
    },
    "scrolled": false,
    "tags": []
   },
   "outputs": [
    {
     "data": {
      "application/vnd.jupyter.widget-view+json": {
       "model_id": "6d2304f396604d70a20c67b1c8ecde06",
       "version_major": 2,
       "version_minor": 0
      },
      "text/plain": [
       "  0%|          | 0/6 [00:00<?, ?it/s]"
      ]
     },
     "metadata": {},
     "output_type": "display_data"
    },
    {
     "name": "stdout",
     "output_type": "stream",
     "text": [
      "Retrieving document from  https://arxiv.org/e-print/2510.03653\n"
     ]
    },
    {
     "name": "stdout",
     "output_type": "stream",
     "text": [
      "extracting tarball to tmp_2510.03653..."
     ]
    },
    {
     "name": "stdout",
     "output_type": "stream",
     "text": [
      " done.\n",
      "Retrieving document from  https://arxiv.org/e-print/2510.04677\n"
     ]
    },
    {
     "name": "stdout",
     "output_type": "stream",
     "text": [
      "extracting tarball to tmp_2510.04677..."
     ]
    },
    {
     "name": "stdout",
     "output_type": "stream",
     "text": [
      " done.\n"
     ]
    },
    {
     "name": "stdout",
     "output_type": "stream",
     "text": [
      "T. Henning  ->  T. Henning  |  ['T. Henning']\n",
      "D. Semenov  ->  D. Semenov  |  ['D. Semenov']\n"
     ]
    },
    {
     "name": "stdout",
     "output_type": "stream",
     "text": [
      "Found 40 bibliographic references in tmp_2510.04677/aa54807-25.bbl.\n",
      "Retrieving document from  https://arxiv.org/e-print/2510.04722\n"
     ]
    },
    {
     "name": "stdout",
     "output_type": "stream",
     "text": [
      "extracting tarball to tmp_2510.04722..."
     ]
    },
    {
     "name": "stdout",
     "output_type": "stream",
     "text": [
      " done.\n",
      "Retrieving document from  https://arxiv.org/e-print/2510.04863\n"
     ]
    },
    {
     "name": "stdout",
     "output_type": "stream",
     "text": [
      "extracting tarball to tmp_2510.04863..."
     ]
    },
    {
     "name": "stdout",
     "output_type": "stream",
     "text": [
      " done.\n"
     ]
    },
    {
     "name": "stderr",
     "output_type": "stream",
     "text": [
      "/opt/hostedtoolcache/Python/3.9.23/x64/lib/python3.9/site-packages/IPython/core/interactiveshell.py:3550: LatexWarning: Multiple tex files.\n",
      "\n",
      "  exec(code_obj, self.user_global_ns, self.user_ns)\n",
      "/opt/hostedtoolcache/Python/3.9.23/x64/lib/python3.9/site-packages/IPython/core/interactiveshell.py:3550: LatexWarning: Found documentclass in tmp_2510.04863/main.tex\n",
      "\n",
      "  exec(code_obj, self.user_global_ns, self.user_ns)\n",
      "/opt/hostedtoolcache/Python/3.9.23/x64/lib/python3.9/site-packages/arxiv_on_deck_2/latex.py:414: LatexWarning: Latex injecting: 'kbsmacs.tex' from 'tmp_2510.04863/kbsmacs.tex'\n",
      "  warnings.warn(LatexWarning(f\"Latex injecting: '{ext}' from '{subsource}'\"))\n",
      "/opt/hostedtoolcache/Python/3.9.23/x64/lib/python3.9/site-packages/arxiv_on_deck_2/latex.py:414: LatexWarning: Latex injecting: 'kbsmacs.tex' from 'tmp_2510.04863/kbsmacs.tex'\n",
      "  warnings.warn(LatexWarning(f\"Latex injecting: '{ext}' from '{subsource}'\"))\n"
     ]
    },
    {
     "name": "stderr",
     "output_type": "stream",
     "text": [
      "/tmp/ipykernel_3394/2822249172.py:52: LatexWarning: 2510.04863 did not run properly\n",
      "list index out of range\n",
      "  warnings.warn(latex.LatexWarning(f\"{paper_id:s} did not run properly\\n\" +\n"
     ]
    },
    {
     "name": "stdout",
     "output_type": "stream",
     "text": [
      "Retrieving document from  https://arxiv.org/e-print/2510.04953\n"
     ]
    },
    {
     "name": "stdout",
     "output_type": "stream",
     "text": [
      "extracting tarball to tmp_2510.04953..."
     ]
    },
    {
     "name": "stdout",
     "output_type": "stream",
     "text": [
      " done.\n"
     ]
    },
    {
     "name": "stdout",
     "output_type": "stream",
     "text": [
      "Found 118 bibliographic references in tmp_2510.04953/HOWLS_KPpaper2.bbl.\n",
      "Issues with the citations\n",
      "syntax error in line 814: '}' expected\n",
      "Retrieving document from  https://arxiv.org/e-print/2510.05101\n"
     ]
    },
    {
     "name": "stdout",
     "output_type": "stream",
     "text": [
      "extracting tarball to tmp_2510.05101..."
     ]
    },
    {
     "name": "stdout",
     "output_type": "stream",
     "text": [
      " done.\n"
     ]
    },
    {
     "name": "stdout",
     "output_type": "stream",
     "text": [
      "H. Beuther  ->  H. Beuther  |  ['H. Beuther']\n"
     ]
    },
    {
     "name": "stdout",
     "output_type": "stream",
     "text": [
      "Found 54 bibliographic references in tmp_2510.05101/main.bbl.\n"
     ]
    }
   ],
   "source": [
    "documents = []\n",
    "failed = []\n",
    "for paper in tqdm(candidates):\n",
    "    # debug crap\n",
    "    paper['identifier'] = paper['identifier'].lower().replace('arxiv:', '').replace(r'\\n', '').strip()\n",
    "    paper_id = paper['identifier']\n",
    "    \n",
    "    folder = f'tmp_{paper_id}'\n",
    "\n",
    "    try:\n",
    "        if not os.path.isdir(folder):\n",
    "            folder = retrieve_document_source(f\"{paper_id}\", f'tmp_{paper_id}')\n",
    "        \n",
    "        try:\n",
    "            doc = latex.LatexDocument(folder, validation=validation)    \n",
    "        except AffiliationError as affilerror:\n",
    "            msg = f\"ArXiv:{paper_id:s} is not an MPIA paper... \" + str(affilerror)\n",
    "            failed.append((paper, \"affiliation error: \" + str(affilerror) ))\n",
    "            continue\n",
    "        \n",
    "        # Hack because sometimes author parsing does not work well\n",
    "        if (len(doc.authors) != len(paper['authors'])):\n",
    "            doc._authors = paper['authors']\n",
    "        else:\n",
    "            # highlight authors (FIXME: doc.highlight_authors)\n",
    "            # done on arxiv paper already\n",
    "            doc._authors = highlight_authors_in_list(\n",
    "                [get_initials(k) for k in doc.authors], \n",
    "                mpia_authors, verbose=True)\n",
    "        if (doc.abstract) in (None, ''):\n",
    "            doc._abstract = paper['abstract']\n",
    "            \n",
    "        doc.comment = (get_markdown_badge(paper_id) + \n",
    "                       \"<mark>Appeared on: \" + paper['date'] + \"</mark> - \")\n",
    "        if paper['comments']:\n",
    "            doc.comment += \" _\" + paper['comments'] + \"_\"\n",
    "        \n",
    "        full_md = doc.generate_markdown_text()\n",
    "        \n",
    "        full_md += get_markdown_qrcode(paper_id)\n",
    "        \n",
    "        # replace citations\n",
    "        try:\n",
    "            bibdata = latex_bib.LatexBib.from_doc(doc)\n",
    "            full_md = latex_bib.replace_citations(full_md, bibdata)\n",
    "        except Exception as e:\n",
    "            print(\"Issues with the citations\")\n",
    "            print(e)\n",
    "        \n",
    "        documents.append((paper_id, full_md))\n",
    "    except Exception as e:\n",
    "        warnings.warn(latex.LatexWarning(f\"{paper_id:s} did not run properly\\n\" +\n",
    "                                         str(e)\n",
    "                                        ))\n",
    "        failed.append((paper, \"latex error \" + str(e)))"
   ]
  },
  {
   "cell_type": "markdown",
   "id": "2505a25c",
   "metadata": {
    "papermill": {
     "duration": 0.004134,
     "end_time": "2025-10-07T04:17:35.142391",
     "exception": false,
     "start_time": "2025-10-07T04:17:35.138257",
     "status": "completed"
    },
    "tags": []
   },
   "source": [
    "### Export the logs\n",
    "\n",
    "Throughout, we also keep track of the logs per paper. see `logs-{today date}.md` "
   ]
  },
  {
   "cell_type": "code",
   "execution_count": 6,
   "id": "d733828a",
   "metadata": {
    "execution": {
     "iopub.execute_input": "2025-10-07T04:17:35.152041Z",
     "iopub.status.busy": "2025-10-07T04:17:35.151796Z",
     "iopub.status.idle": "2025-10-07T04:17:35.169292Z",
     "shell.execute_reply": "2025-10-07T04:17:35.168767Z"
    },
    "papermill": {
     "duration": 0.023818,
     "end_time": "2025-10-07T04:17:35.170259",
     "exception": false,
     "start_time": "2025-10-07T04:17:35.146441",
     "status": "completed"
    },
    "scrolled": false,
    "tags": []
   },
   "outputs": [
    {
     "data": {
      "text/markdown": [
       "## Successful papers"
      ],
      "text/plain": [
       "<IPython.core.display.Markdown object>"
      ]
     },
     "metadata": {},
     "output_type": "display_data"
    },
    {
     "data": {
      "text/markdown": [
       "\n",
       "|||\n",
       "|---:|:---|\n",
       "| [![arXiv](https://img.shields.io/badge/arXiv-2510.04677-b31b1b.svg)](https://arxiv.org/abs/2510.04677) | **Edge-On Disk Study (EODS) II: HCO$^+$ and CO vertical stratification in the disk surrounding SSTTau042021**  |\n",
       "|| C. Foucher, et al. -- incl., <mark>T. Henning</mark>, <mark>D. Semenov</mark> |\n",
       "|*Appeared on*| *2025-10-07*|\n",
       "|*Comments*| **|\n",
       "|**Abstract**|            Context. Edge-on disks offer a unique opportunity to directly examine their vertical structure, providing valuable insights into planet formation processes. We investigate the dust properties, as well as the CO and HCO$^+$ gas properties, in the edge-on disk surrounding the T Tauri star 2MASS J04202144+281349 (SSTTau042021). Aims. We estimate the radial and vertical temperature and density profile for the gas and the dust. Methods. We use ALMA archival data of CO isotopologues and continuum emission at 2, 1.3 and 0.9 mm together with new NOEMA HCO$^+$ 3-2 observations. We retrieve the gas and dust disk properties using the tomographic method and the \\textsc{DiskFit} model. Results. The vertical CO emission appears very extended, partly tracing the H$_2$ wind observed by JWST. C$^{18}$O, $^{13}$CO and HCO$^+$ emission characterize the bulk of the molecular layer. The dust and gas have a mid-plane temperatures of $\\sim 7-11$ K. The temperature of the molecular layer (derived from $^{13}$CO and HCO$^+$) is on the order of 16 K. HCO$^+$ 3-2 being thermalized, we derive a lower limit for the H$_2$ volume density of $\\sim 3 \\times 10^6$ cm$^{-3}$ at radius 100-200 au between 1 and 2 scale heights. The atmosphere temperature of the CO gas is of the order $\\sim$ 31 K at a radius of 100 au. We directly observe CO and HCO$^+$ gas onto the mid-plane beyond the dust outer radius ($\\ge 300$ au). The (gas+dust) disk mass estimated up to a radius of 300 au is on the order of $4.6 \\times 10^{-2} \\mathrm{M}_\\odot$. Conclusions. Thanks to the favorable disk inclination, we present the first quantitative evidence for vertical molecular stratification with direct observation of CO and HCO$^+$ gas along the mid-plane. We estimate the temperature profile with temperature of 7-11 K near the mid-plane, and 15-20 K in the dense part of the molecular layer up to $\\sim$ 35 K above.         |"
      ],
      "text/plain": [
       "[2510.04677] Edge-On Disk Study (EODS) II: HCO$^+$ and CO vertical stratification in the disk surrounding SSTTau042021\n",
       "\tC. Foucher, et al. -- incl., <mark>T. Henning</mark>, <mark>D. Semenov</mark>"
      ]
     },
     "metadata": {},
     "output_type": "display_data"
    },
    {
     "data": {
      "text/markdown": [
       "\n",
       "|||\n",
       "|---:|:---|\n",
       "| [![arXiv](https://img.shields.io/badge/arXiv-2510.04953-b31b1b.svg)](https://arxiv.org/abs/2510.04953) | **Euclid preparation: Towards a DR1 application of higher-order weak lensing statistics**  |\n",
       "|| E. Collaboration, et al. -- incl., <mark>K. Jahnke</mark> |\n",
       "|*Appeared on*| *2025-10-07*|\n",
       "|*Comments*| **|\n",
       "|**Abstract**|            This is the second paper in the HOWLS (higher-order weak lensing statistics) series exploring the usage of non-Gaussian statistics for cosmology inference within \\textit{Euclid}. With respect to our first paper, we develop a full tomographic analysis based on realistic photometric redshifts which allows us to derive Fisher forecasts in the ($\\sigma_8$, $w_0$) plane for a \\textit{Euclid}-like data release 1 (DR1) setup. We find that the 5 higher-order statistics (HOSs) that satisfy the Gaussian likelihood assumption of the Fisher formalism (1-point probability distribution function, $\\ell$1-norm, peak counts, Minkowski functionals, and Betti numbers) each outperform the shear 2-point correlation functions by a factor $2.5$ on the $w_0$ forecasts, with only marginal improvement when used in combination with 2-point estimators, suggesting that every HOS is able to retrieve both the non-Gaussian and Gaussian information of the matter density field. The similar performance of the different estimators\\inlinecomment{, with a slight preference for Minkowski functionals and 1-point probability distribution function,} is explained by a homogeneous use of multi-scale and tomographic information, optimized to lower computational costs. These results hold for the $3$ mass mapping techniques of the \\textit{Euclid} pipeline: aperture mass, Kaiser--Squires, and Kaiser--Squires plus, and are unaffected by the application of realistic star masks. Finally, we explore the use of HOSs with the Bernardeau--Nishimichi--Taruya (BNT) nulling scheme approach, finding promising results towards applying physical scale cuts to HOSs.         |"
      ],
      "text/plain": [
       "[2510.04953] Euclid preparation: Towards a DR1 application of higher-order weak lensing statistics\n",
       "\tE. Collaboration, et al. -- incl., <mark>K. Jahnke</mark>"
      ]
     },
     "metadata": {},
     "output_type": "display_data"
    },
    {
     "data": {
      "text/markdown": [
       "\n",
       "|||\n",
       "|---:|:---|\n",
       "| [![arXiv](https://img.shields.io/badge/arXiv-2510.05101-b31b1b.svg)](https://arxiv.org/abs/2510.05101) | **From theory to observation: understanding filamentary flows in high-mass star-forming clusters**  |\n",
       "|| M. R. A. Wells, et al. -- incl., <mark>H. Beuther</mark> |\n",
       "|*Appeared on*| *2025-10-07*|\n",
       "|*Comments*| *13 pages, 14 figures, accepted for publication in A&A*|\n",
       "|**Abstract**|            Here we use data from multi-scale galactic MHD simulations to observe filaments and star forming clumps on 10's of pc scales and investigate flow rate relationships along, and onto filaments as well as flows towards the clumps. Using the FilFinderPPV identification technique, we identify the prominent filamentary structures in each data cube. Each filament and its corresponding clump are analysed by calculating flow rates along each filament towards the clump, onto each filament from increasing distances, and radially around each clump. This analysis is conducted for two cubes, one feedback dominated region, and one with less feedback. Looking at the face-on inclination of the simulations (0 degrees), we observe different trends depending on the environmental conditions (more or less feedback). The median flow rate in the region with more feedback is 8.9$\\times$10$^{-5}$ M$_{sun}\\mathrm{yr}^{-1}$ and we see that flow rates along the filaments toward the clumps generally decrease in these regions. In the region with less feedback we have a median flow rate of 2.9$\\times$10$^{-4}$ M$_{sun}\\mathrm{yr}^{-1}$ and when looking along the filaments here we see the values either increase or remain constant. We find that the flow rates from the environments onto the primary filaments are of an order of magnitude sufficient to sustain the flow rates along these filaments. When discussing the effects of galactic and filamentary inclination, we also observe that viewing the filaments from different galactic inclinations can reveal the presence of feeder structures (smaller filamentary structures aiding in the flow of material). The method used to estimate these flow rates, which has been previously applied to observational data, produced results consistent with those obtained from the simulations themselves, providing high confidence in the flow rate calculation method.         |"
      ],
      "text/plain": [
       "[2510.05101] From theory to observation: understanding filamentary flows in high-mass star-forming clusters\n",
       "\tM. R. A. Wells, et al. -- incl., <mark>H. Beuther</mark>"
      ]
     },
     "metadata": {},
     "output_type": "display_data"
    },
    {
     "data": {
      "text/markdown": [
       "## Failed papers"
      ],
      "text/plain": [
       "<IPython.core.display.Markdown object>"
      ]
     },
     "metadata": {},
     "output_type": "display_data"
    },
    {
     "data": {
      "text/markdown": [
       "\n",
       "|||\n",
       "|---:|:---|\n",
       "| [![arXiv](https://img.shields.io/badge/arXiv-2510.03653-b31b1b.svg)](https://arxiv.org/abs/2510.03653) | **CCAT: Magnetic Sensitivity Measurements of Kinetic Inductance Detectors**  |\n",
       "|| B. J. Vaughan, et al. -- incl., <mark>Y. Wang</mark> |\n",
       "|*Appeared on*| *2025-10-07*|\n",
       "|*Comments*| **|\n",
       "|**Abstract**|            The CCAT Observatory is a ground-based submillimeter to millimeter experiment located on Cerro Chajnantor in the Atacama Desert, at an altitude of 5,600 meters. CCAT features the 6-meter Fred Young Submillimeter Telescope (FYST), which will cover frequency bands from 210 GHz to 850 GHz using its first-generation science instrument, Prime-Cam. The detectors used in Prime-Cam are feedhorn-coupled, lumped-element superconducting microwave kinetic inductance detectors (KIDs). The telescope will perform wide-area surveys at speeds on the order of degrees per second. During telescope operation, the KIDs are exposed to changes in the magnetic field caused by the telescope's movement through Earth's magnetic field and internal sources within the telescope. We present and compare measurements of the magnetic sensitivity of three different CCAT KID designs at 100 mK. The measurements are conducted in a dilution refrigerator (DR) with a set of room temperature Helmholtz coils positioned around the DR. We discuss the implications of these results for CCAT field operations.         |\n",
       "|<p style=\"color:green\"> **ERROR** </p>| <p style=\"color:green\">affiliation error: mpia.affiliation_verifications: 'Heidelberg' keyword not found.</p> |"
      ],
      "text/plain": [
       "<IPython.core.display.Markdown object>"
      ]
     },
     "metadata": {},
     "output_type": "display_data"
    },
    {
     "data": {
      "text/markdown": [
       "\n",
       "|||\n",
       "|---:|:---|\n",
       "| [![arXiv](https://img.shields.io/badge/arXiv-2510.04722-b31b1b.svg)](https://arxiv.org/abs/2510.04722) | **Abundance of strontium in the Galactic globular cluster 47 Tuc**  |\n",
       "|| E. Kolomiecas, A. Kučinskas, <mark>J. Klevas</mark>, V. Dobrovolskas |\n",
       "|*Appeared on*| *2025-10-07*|\n",
       "|*Comments*| *13 pages, 19 figures*|\n",
       "|**Abstract**|            Aims. We have determined Sr abundance in a sample of 31 red giant branch stars located in the Galactic globular cluster 47 Tuc with the aim to identify potential differences in the Sr abundance between first population (1P, Na-poor) and second population (2P, Na-rich) stars. Methods. We derived the Na and Sr abundances from the archival spectra obtained with the UVES spectrograph. To do this, we used 1D ATLAS9 model atmospheres and a 1D local thermodynamic equilibrium spectral synthesis method. Particular attention was paid to assessing the potential impact of CN line blending on the obtained Sr abundances. Furthermore, we evaluated the potential influence of convection on the Sr line formation by using 3D hydrodynamical model atmospheres computed with the CO5BOLD code. Results. Our results suggest a weak correlation between the abundances of Sr and Na. Together with a similar correlation between the abundances of Zr and Na determined in our previous study, our analysis of Sr suggests that polluters that have enriched 2P stars with light elements may have produced some s-process elements as well. The mean Sr abundance determined in 31 red giant branch stars of 47~Tuc is $\\langle {\\rm [Sr/Fe]} \\rangle = 0.18\\pm0.08$ (the error denotes the standard deviation due to the star-to-star abundance scatter). This value is within the range of the Sr abundance variation that is observed in Galactic field stars of similar metallicity. The mean [Sr/Zr] abundance ratio in our sample stars suggests that the two s-process elements could have been synthesized by either low-mass asymptotic giant branch stars ($M=1-4 {\\rm M}_{\\odot}$) or massive ($M=10-20 {\\rm M}_{\\odot}$) fast-rotating ($v_{\\rm rot}=200-300$ km/s) stars.         |\n",
       "|<p style=\"color:green\"> **ERROR** </p>| <p style=\"color:green\">affiliation error: mpia.affiliation_verifications: 'Heidelberg' keyword not found.</p> |"
      ],
      "text/plain": [
       "<IPython.core.display.Markdown object>"
      ]
     },
     "metadata": {},
     "output_type": "display_data"
    },
    {
     "data": {
      "text/markdown": [
       "\n",
       "|||\n",
       "|---:|:---|\n",
       "| [![arXiv](https://img.shields.io/badge/arXiv-2510.04863-b31b1b.svg)](https://arxiv.org/abs/2510.04863) | **Heat Reveals What Clouds Conceal: Global Carbon & Longitudinally Asymmetric Chemistry on LTT 9779 b**  |\n",
       "|| R. Ashtari, et al. -- incl., <mark>I. J. M. Crossfield</mark>, <mark>K. A. Kahle</mark>, <mark>L. Kreidberg</mark>, <mark>X. Zhang</mark> |\n",
       "|*Appeared on*| *2025-10-07*|\n",
       "|*Comments*| *25 pages, 15 figures, 3 tables*|\n",
       "|**Abstract**|            LTT-9779 b is an ultra-hot Neptune (Rp ~ 4.7 Re, Mp ~ 29 Me) orbiting its Sun-like host star in just 19 hours, placing it deep within the \"hot Neptune desert,\" where Neptunian planets are seldom found. We present new JWST NIRSpec G395H phase-curve observations that probe its atmospheric composition in unprecedented detail. At near-infrared wavelengths, which penetrate the high-altitude clouds inferred from previous NIRISS/SOSS spectra, thermal emission reveals a carbon-rich atmosphere with opacity dominated by carbon monoxide (CO) and carbon dioxide (CO2). Both species are detected at all orbital phases, with retrieved mixing ratios of 10^-1 for CO and 10^-4 for CO2, indicating a globally well-mixed reservoir of carbon-bearing gases. We also moderately detect water vapor (H2O) and tentatively detect sulfur dioxide (SO2), providing insight into its chemistry and possible photochemical production under intense stellar irradiation. From these detections we infer a carbon-to-oxygen ratio near unity (C/O ~ 1) and a metallicity exceeding 500X Solar, consistent with equilibrium chemistry predictions for high-temperature atmospheres. This enrichment raises the mean molecular weight, reducing atmospheric escape, and likely helps LTT-9779 b retain a substantial atmosphere despite extreme irradiation. Our findings show that LTT-9779 b survives where few planets can, maintaining a carbon-rich atmosphere in a region where hot Neptune-class worlds are expected to evaporate. This makes LTT-9779 b a valuable laboratory for studying atmospheric escape and chemical processes under extreme conditions, offering new insight into the survival of planets in the hot Neptune desert.         |\n",
       "|<p style=\"color:red\"> **ERROR** </p>| <p style=\"color:red\">latex error list index out of range</p> |"
      ],
      "text/plain": [
       "<IPython.core.display.Markdown object>"
      ]
     },
     "metadata": {},
     "output_type": "display_data"
    }
   ],
   "source": [
    "import datetime\n",
    "today = str(datetime.date.today())\n",
    "logfile = f\"_build/html/logs/log-{today}.md\"\n",
    "\n",
    "\n",
    "with open(logfile, 'w') as logs:\n",
    "    # Success\n",
    "    logs.write(f'# Arxiv on Deck 2: Logs - {today}\\n\\n')\n",
    "    logs.write(\"\"\"* Arxiv had {0:,d} new papers\\n\"\"\".format(len(new_papers)))\n",
    "    logs.write(\"\"\"    * {0:,d} with possible author matches\\n\\n\"\"\".format(len(candidates)))\n",
    "    logs.write(\"## Sucessful papers\\n\\n\")\n",
    "    display(Markdown(\"## Successful papers\"))\n",
    "    success = [k[0] for k in documents]\n",
    "    for candid in candidates:\n",
    "        if candid['identifier'].split(':')[-1] in success:\n",
    "            display(candid)\n",
    "            logs.write(candid.generate_markdown_text() + '\\n\\n')\n",
    "\n",
    "    ## failed\n",
    "    logs.write(\"## Failed papers\\n\\n\")\n",
    "    display(Markdown(\"## Failed papers\"))\n",
    "    failed = sorted(failed, key=lambda x: x[1])\n",
    "    current_reason = \"\"\n",
    "    for paper, reason in failed:\n",
    "        if 'affiliation' in reason:\n",
    "            color = 'green'\n",
    "        else:\n",
    "            color = 'red'\n",
    "        data = Markdown(\n",
    "                paper.generate_markdown_text() + \n",
    "                f'\\n|<p style=\"color:{color:s}\"> **ERROR** </p>| <p style=\"color:{color:s}\">{reason:s}</p> |'\n",
    "               )\n",
    "        if reason != current_reason:\n",
    "            logs.write(f'### {reason:s} \\n\\n')\n",
    "            current_reason = reason\n",
    "        logs.write(data.data + '\\n\\n')\n",
    "        \n",
    "        # only display here the important errors (all in logs)\n",
    "        # if color in ('red',):\n",
    "        display(data)"
   ]
  },
  {
   "cell_type": "markdown",
   "id": "472d20ee",
   "metadata": {
    "papermill": {
     "duration": 0.004874,
     "end_time": "2025-10-07T04:17:35.180170",
     "exception": false,
     "start_time": "2025-10-07T04:17:35.175296",
     "status": "completed"
    },
    "tags": []
   },
   "source": [
    "## Export documents\n",
    "\n",
    "We now write the .md files and export relevant images"
   ]
  },
  {
   "cell_type": "code",
   "execution_count": 7,
   "id": "d426aed9",
   "metadata": {
    "execution": {
     "iopub.execute_input": "2025-10-07T04:17:35.190823Z",
     "iopub.status.busy": "2025-10-07T04:17:35.190639Z",
     "iopub.status.idle": "2025-10-07T04:17:35.197209Z",
     "shell.execute_reply": "2025-10-07T04:17:35.196684Z"
    },
    "papermill": {
     "duration": 0.013083,
     "end_time": "2025-10-07T04:17:35.198188",
     "exception": false,
     "start_time": "2025-10-07T04:17:35.185105",
     "status": "completed"
    },
    "tags": []
   },
   "outputs": [],
   "source": [
    "def export_markdown_summary(md: str, md_fname:str, directory: str):\n",
    "    \"\"\"Export MD document and associated relevant images\"\"\"\n",
    "    import os\n",
    "    import shutil\n",
    "    import re\n",
    "\n",
    "    if (os.path.exists(directory) and not os.path.isdir(directory)):\n",
    "        raise RuntimeError(f\"a non-directory file exists with name {directory:s}\")\n",
    "\n",
    "    if (not os.path.exists(directory)):\n",
    "        print(f\"creating directory {directory:s}\")\n",
    "        os.mkdir(directory)\n",
    "\n",
    "    fig_fnames = (re.compile(r'\\[Fig.*\\]\\((.*)\\)').findall(md) + \n",
    "                  re.compile(r'\\<img src=\"([^>\\s]*)\"[^>]*/>').findall(md))\n",
    "    print(\"found figures\", fig_fnames)\n",
    "    for fname in fig_fnames:\n",
    "        if 'http' in fname:\n",
    "            # No need to copy online figures\n",
    "            continue\n",
    "        if not os.path.exists(fname):\n",
    "            print(\"file not found\", fname)\n",
    "            continue\n",
    "        print(\"copying \", fname, \"to\", directory)\n",
    "        destdir = os.path.join(directory, os.path.dirname(fname))\n",
    "        destfname = os.path.join(destdir, os.path.basename(fname))\n",
    "        try:\n",
    "            os.makedirs(destdir)\n",
    "        except FileExistsError:\n",
    "            pass\n",
    "        shutil.copy(fname, destfname)\n",
    "    with open(os.path.join(directory, md_fname), 'w') as fout:\n",
    "        fout.write(md)\n",
    "    print(\"exported in \", os.path.join(directory, md_fname))\n",
    "    [print(\"    + \" + os.path.join(directory,fk)) for fk in fig_fnames]"
   ]
  },
  {
   "cell_type": "code",
   "execution_count": 8,
   "id": "014d04a4",
   "metadata": {
    "execution": {
     "iopub.execute_input": "2025-10-07T04:17:35.208880Z",
     "iopub.status.busy": "2025-10-07T04:17:35.208693Z",
     "iopub.status.idle": "2025-10-07T04:17:35.257016Z",
     "shell.execute_reply": "2025-10-07T04:17:35.256350Z"
    },
    "papermill": {
     "duration": 0.054861,
     "end_time": "2025-10-07T04:17:35.258071",
     "exception": false,
     "start_time": "2025-10-07T04:17:35.203210",
     "status": "completed"
    },
    "tags": []
   },
   "outputs": [
    {
     "name": "stdout",
     "output_type": "stream",
     "text": [
      "found figures ['tmp_2510.04677/./tomob_obs_12co21.png', 'tmp_2510.04677/./tomob_mod_12co21.png', 'tmp_2510.04677/./tomob_diff_12co21.png', 'tmp_2510.04677/./tomob_obs_12co32.png', 'tmp_2510.04677/./tomob_mod_12co32.png', 'tmp_2510.04677/./tomob_diff_12co32.png', 'tmp_2510.04677/./tomob_obs_13co.png', 'tmp_2510.04677/./tomo_mod_13co_def.png', 'tmp_2510.04677/./tomo_diff_13co_def.png', 'tmp_2510.04677/./tomob_obs_c18o.png', 'tmp_2510.04677/./tomob_mod_c18o.png', 'tmp_2510.04677/./tomob_diff_c18o.png', 'tmp_2510.04677/./tomob_obs_hco+.png', 'tmp_2510.04677/./tomob_mod_hco+.png', 'tmp_2510.04677/./tomob_diff_hco+.png', 'tmp_2510.04677/./hco_jwst.png', 'tmp_2510.04677/./13co21_jwst.png', 'tmp_2510.04677/./c18o_jwst.png', 'tmp_2510.04677/./12co21_jwst.png', 'tmp_2510.04677/./12cocont.png', 'tmp_2510.04677/./vel_chan_K_12co21.png', 'tmp_2510.04677/./vel_chan_K_12co32.png', 'tmp_2510.04677/./vel_chan_K_13co21.png', 'tmp_2510.04677/./vel_chan_K_c18o.png', 'tmp_2510.04677/./vel_chan_K_hco32.png']\n",
      "copying  tmp_2510.04677/./tomob_obs_12co21.png to _build/html/\n",
      "copying  tmp_2510.04677/./tomob_mod_12co21.png to _build/html/\n",
      "copying  tmp_2510.04677/./tomob_diff_12co21.png to _build/html/\n",
      "copying  tmp_2510.04677/./tomob_obs_12co32.png to _build/html/\n",
      "copying  tmp_2510.04677/./tomob_mod_12co32.png to _build/html/\n",
      "copying  tmp_2510.04677/./tomob_diff_12co32.png to _build/html/\n",
      "copying  tmp_2510.04677/./tomob_obs_13co.png to _build/html/\n",
      "copying  tmp_2510.04677/./tomo_mod_13co_def.png to _build/html/\n",
      "copying  tmp_2510.04677/./tomo_diff_13co_def.png to _build/html/\n",
      "copying  tmp_2510.04677/./tomob_obs_c18o.png to _build/html/\n",
      "copying  tmp_2510.04677/./tomob_mod_c18o.png to _build/html/\n",
      "copying  tmp_2510.04677/./tomob_diff_c18o.png to _build/html/\n",
      "copying  tmp_2510.04677/./tomob_obs_hco+.png to _build/html/\n",
      "copying  tmp_2510.04677/./tomob_mod_hco+.png to _build/html/\n",
      "copying  tmp_2510.04677/./tomob_diff_hco+.png to _build/html/\n",
      "copying  tmp_2510.04677/./hco_jwst.png to _build/html/\n",
      "copying  tmp_2510.04677/./13co21_jwst.png to _build/html/\n",
      "copying  tmp_2510.04677/./c18o_jwst.png to _build/html/\n",
      "copying  tmp_2510.04677/./12co21_jwst.png to _build/html/\n",
      "copying  tmp_2510.04677/./12cocont.png to _build/html/\n",
      "copying  tmp_2510.04677/./vel_chan_K_12co21.png to _build/html/\n",
      "copying  tmp_2510.04677/./vel_chan_K_12co32.png to _build/html/\n",
      "copying  tmp_2510.04677/./vel_chan_K_13co21.png to _build/html/\n",
      "copying  tmp_2510.04677/./vel_chan_K_c18o.png to _build/html/\n",
      "copying  tmp_2510.04677/./vel_chan_K_hco32.png to _build/html/\n",
      "exported in  _build/html/2510.04677.md\n",
      "    + _build/html/tmp_2510.04677/./tomob_obs_12co21.png\n",
      "    + _build/html/tmp_2510.04677/./tomob_mod_12co21.png\n",
      "    + _build/html/tmp_2510.04677/./tomob_diff_12co21.png\n",
      "    + _build/html/tmp_2510.04677/./tomob_obs_12co32.png\n",
      "    + _build/html/tmp_2510.04677/./tomob_mod_12co32.png\n",
      "    + _build/html/tmp_2510.04677/./tomob_diff_12co32.png\n",
      "    + _build/html/tmp_2510.04677/./tomob_obs_13co.png\n",
      "    + _build/html/tmp_2510.04677/./tomo_mod_13co_def.png\n",
      "    + _build/html/tmp_2510.04677/./tomo_diff_13co_def.png\n",
      "    + _build/html/tmp_2510.04677/./tomob_obs_c18o.png\n",
      "    + _build/html/tmp_2510.04677/./tomob_mod_c18o.png\n",
      "    + _build/html/tmp_2510.04677/./tomob_diff_c18o.png\n",
      "    + _build/html/tmp_2510.04677/./tomob_obs_hco+.png\n",
      "    + _build/html/tmp_2510.04677/./tomob_mod_hco+.png\n",
      "    + _build/html/tmp_2510.04677/./tomob_diff_hco+.png\n",
      "    + _build/html/tmp_2510.04677/./hco_jwst.png\n",
      "    + _build/html/tmp_2510.04677/./13co21_jwst.png\n",
      "    + _build/html/tmp_2510.04677/./c18o_jwst.png\n",
      "    + _build/html/tmp_2510.04677/./12co21_jwst.png\n",
      "    + _build/html/tmp_2510.04677/./12cocont.png\n",
      "    + _build/html/tmp_2510.04677/./vel_chan_K_12co21.png\n",
      "    + _build/html/tmp_2510.04677/./vel_chan_K_12co32.png\n",
      "    + _build/html/tmp_2510.04677/./vel_chan_K_13co21.png\n",
      "    + _build/html/tmp_2510.04677/./vel_chan_K_c18o.png\n",
      "    + _build/html/tmp_2510.04677/./vel_chan_K_hco32.png\n",
      "found figures ['tmp_2510.04953/./Plots/noBNT_vs_BNT_vs_BNT-smoothing.png', 'tmp_2510.04953/./Plots/shear_2pcfs_kappa_2pcf_kappa_1pdf_kappa_peak_counts_kappa_bns_kappa_mfs_kappa_l1norm_s8_w_Nf_7616_Nc_256_contour_plot.png', 'tmp_2510.04953/./Plots/DR1_opt_single_probe_equi_pop_auto_4_x_4_scale_px_shear_2pcfs_s8_w_Nf_256_Nc_256_theory_DVs_plot.png']\n",
      "copying  tmp_2510.04953/./Plots/noBNT_vs_BNT_vs_BNT-smoothing.png to _build/html/\n",
      "copying  tmp_2510.04953/./Plots/shear_2pcfs_kappa_2pcf_kappa_1pdf_kappa_peak_counts_kappa_bns_kappa_mfs_kappa_l1norm_s8_w_Nf_7616_Nc_256_contour_plot.png to _build/html/\n",
      "copying  tmp_2510.04953/./Plots/DR1_opt_single_probe_equi_pop_auto_4_x_4_scale_px_shear_2pcfs_s8_w_Nf_256_Nc_256_theory_DVs_plot.png to _build/html/\n",
      "exported in  _build/html/2510.04953.md\n",
      "    + _build/html/tmp_2510.04953/./Plots/noBNT_vs_BNT_vs_BNT-smoothing.png\n",
      "    + _build/html/tmp_2510.04953/./Plots/shear_2pcfs_kappa_2pcf_kappa_1pdf_kappa_peak_counts_kappa_bns_kappa_mfs_kappa_l1norm_s8_w_Nf_7616_Nc_256_contour_plot.png\n",
      "    + _build/html/tmp_2510.04953/./Plots/DR1_opt_single_probe_equi_pop_auto_4_x_4_scale_px_shear_2pcfs_s8_w_Nf_256_Nc_256_theory_DVs_plot.png\n",
      "found figures ['tmp_2510.05101/./images/along_q.png', 'tmp_2510.05101/./images/along.png', 'tmp_2510.05101/./images/points.png']\n",
      "copying  tmp_2510.05101/./images/along_q.png to _build/html/\n",
      "copying  tmp_2510.05101/./images/along.png to _build/html/\n",
      "copying  tmp_2510.05101/./images/points.png to _build/html/\n",
      "exported in  _build/html/2510.05101.md\n",
      "    + _build/html/tmp_2510.05101/./images/along_q.png\n",
      "    + _build/html/tmp_2510.05101/./images/along.png\n",
      "    + _build/html/tmp_2510.05101/./images/points.png\n"
     ]
    }
   ],
   "source": [
    "for paper_id, md in documents:\n",
    "    export_markdown_summary(md, f\"{paper_id:s}.md\", '_build/html/')"
   ]
  },
  {
   "cell_type": "markdown",
   "id": "f087a0a7",
   "metadata": {
    "papermill": {
     "duration": 0.005186,
     "end_time": "2025-10-07T04:17:35.268651",
     "exception": false,
     "start_time": "2025-10-07T04:17:35.263465",
     "status": "completed"
    },
    "tags": []
   },
   "source": [
    "## Display the papers\n",
    "\n",
    "Not necessary but allows for a quick check."
   ]
  },
  {
   "cell_type": "code",
   "execution_count": 9,
   "id": "fd25f625",
   "metadata": {
    "execution": {
     "iopub.execute_input": "2025-10-07T04:17:35.279607Z",
     "iopub.status.busy": "2025-10-07T04:17:35.279415Z",
     "iopub.status.idle": "2025-10-07T04:17:35.286346Z",
     "shell.execute_reply": "2025-10-07T04:17:35.285706Z"
    },
    "papermill": {
     "duration": 0.013556,
     "end_time": "2025-10-07T04:17:35.287283",
     "exception": false,
     "start_time": "2025-10-07T04:17:35.273727",
     "status": "completed"
    },
    "scrolled": false,
    "tags": []
   },
   "outputs": [
    {
     "data": {
      "text/markdown": [
       "<div class=\"macros\" style=\"visibility:hidden;\">\n",
       "$\\newcommand{\\ensuremath}{}$\n",
       "$\\newcommand{\\xspace}{}$\n",
       "$\\newcommand{\\object}[1]{\\texttt{#1}}$\n",
       "$\\newcommand{\\farcs}{{.}''}$\n",
       "$\\newcommand{\\farcm}{{.}'}$\n",
       "$\\newcommand{\\arcsec}{''}$\n",
       "$\\newcommand{\\arcmin}{'}$\n",
       "$\\newcommand{\\ion}[2]{#1#2}$\n",
       "$\\newcommand{\\textsc}[1]{\\textrm{#1}}$\n",
       "$\\newcommand{\\hl}[1]{\\textrm{#1}}$\n",
       "$\\newcommand{\\footnote}[1]{}$\n",
       "$\\newcommand{\\vlsr}{v_{\\rm lsr}}$\n",
       "$\\newcommand{\\kms}{km s^{-1}}$\n",
       "$\\newcommand{\\Lsun}{L_\\odot}$\n",
       "$\\newcommand{\\mdot}{\\dot{M}}$\n",
       "$\\newcommand{\\Msun}{ \\mathrm{M}_\\odot}$\n",
       "$\\newcommand{\\Msunpyr}{\\unit{M_\\odot yr^{-1}}}$\n",
       "$\\newcommand{\\coto}{\\mbox{CO(2--1)}}$\n",
       "$\\newcommand{\\cott}{\\mbox{CO(3--2)}}$\n",
       "$\\newcommand{\\tcott}{\\mbox{^{13}CO(2--1)}}$\n",
       "$\\newcommand{\\csff}{\\mbox{CS(5--4)}}$\n",
       "$\\newcommand{\\csss}{\\mbox{CS(7--6)}}$\n",
       "$\\newcommand{\\cnto}{\\mbox{CN(2--1)}}$\n",
       "$\\newcommand{\\cntt}{\\mbox{CN(3--2)}}$\n",
       "$\\newcommand{\\tablecontinuum}{$\n",
       "$\\begin{table}$\n",
       "$\\caption{Continuum Fit Parameters and Results}$\n",
       "$\\label{tab:disk}$\n",
       "$\\centering$\n",
       "$\\begin{tabular}{ p{4.5cm}|p{3cm}}$\n",
       "$ \\hline$\n",
       "$Parameters  & Values \\  \\hline$\n",
       "$ Inclination i_D & 86.6 \\pm 0.1^\\circ \\  Inner radius  R_{Din}  & < 4 au \\  Outer radius  R_{Dout}& 317 \\pm 5 au\\  T_{Do} = T_D({100 \\mathrm{au}}) & 9.8 \\pm 0.6 K \\  Exponent of T_D & -0.3 \\pm 0.2 \\  \\Sigma_{Do} = \\Sigma_D({100 \\mathrm{au}}) & 1.6\\pm0.3 10^{23} cm^{-2} \\  Exponent of \\Sigma_D & 0.48 \\pm 0.04 \\ Dust emissivity index \\beta  & 0.63 \\pm 0.07  \\ Absorption coefficient \\kappa_0 & 0.052 cm^{2}/g \\ \\  \\hline$\n",
       "$ H_{Do} = H_D({100 \\mathrm{au}}) & 11.6 au\\  Exponent of H_D(r), h_d & -1.38  \\   \\hline$\n",
       "$\\end{tabular}$\n",
       "$\\tablefoot{\\small{$\n",
       "$Dust emissivity is \\kappa(\\nu) = \\kappa_0 (\\nu/345 \\mathrm{GHz})^\\beta. H_{Do} and h_D were fixed to the best fit values found from a simultaneous fit of the 220 and 330 GHz data only.}$\n",
       "$}$\n",
       "$  \\label{tab:obtained-cont}$\n",
       "$\\end{table}$\n",
       "$}$\n",
       "$\\newcommand{\\tablemodel}{$\n",
       "$\\begin{table*}[!th]$\n",
       "$\\small$\n",
       "$\\caption{Best fit models for molecular lines}$\n",
       "$\\centering$\n",
       "$\\begin{tabular}{|c c|l|l|l|}$\n",
       "$\\hline$\n",
       "$\\multicolumn{2}{|c|}{Parameters} &  \\multicolumn{1}{c|}{^{12}CO 2-1 \\& 3-2} & \\multicolumn{1}{c|}{^{13}CO 2-1 \\& C^{18}O 2-1} &\\multicolumn{1}{c|}{HCO^+ 3-2} \\ \\hline$\n",
       "$\\deltaV & (km s^{-1}) &  0.20 \\pm 0.01  & 0.15 \\pm 0.01 & 0.15 \\ T_{atm}(r) & (K) & 31.2 \\pm 0.2 (r/R_0)^{-0.68 \\pm 0.02} & 16.8 \\pm 0.2 (r/R_{0})^{0.07 \\pm 0.01} & 15.0 \\pm 0.2 (r/R_{0})^{(-0.12 \\pm 0.03)} \\ T_{mid}(r) & (K)&  \\min(T_{atm},7.4 \\pm 0.2  (r/R_{0})^{-0.27}) & \\min(T_{atm},10.4 \\pm 0.1  (r/R_{0})^{(-0.27 \\pm 0.03)} & \\min(T_{atm},9.1 \\pm 0.4 (r/R_{0})^{-0.27} \\ H(r)= & (au) & 27.9 \\pm 0.2 (r/R_{0})^{1.16 \\pm 0.02} & 24.0 \\pm 0.2 (r/R_{0})^{1.25 \\pm 0.03} & 30.8 \\pm 0.8 (r/R_{0})^{0.93 \\pm 0.13}\\ \\Sigma(r) & (cm^{-2}) & 8.2 \\pm 1.2   10^{18} (r/R_{0})^{-3.1 \\pm 0.2} & ^{13}CO : 4.5 \\pm 0.4 10^{17} (r/R_{0})^{-3.3 \\pm 0.2} & 6.1\\pm 1.0  10^{13} (r/R_{0})^{-1.6 \\pm 0.9} \\  & &  & C^{18}O : 1.9 \\pm 0.1 10^{16} (r/R_{0})^{-3.3 \\pm 0.2} &\\ \\Sigma_{dep}   & (cm^{-2}) & 3.7\\pm0.4 10^{22}  &  3.5\\pm0.1  10^{22} & 8.7\\pm0.2  10^{22} \\ \\hline$\n",
       "$Inclination & (^\\circ) & 85.5 \\pm 0.6 & 89.8 \\pm 0.4 & 87.4 \\pm 0.8\\ R_{in} & (au) &  61 \\pm 1 & 77 \\pm 2 & 53 \\pm 1\\ R_{out} & (au) & 760 \\pm 5 & 790 \\pm 6 & 521 \\pm 2\\  \\hline$\n",
       "$\\end{tabular}$\n",
       "$\\label{tab:gas-model}$\n",
       "$\\tablefoot{Error bars are 1\\sigma formal errors. All parameters are newcommandined in Appendix \\ref{app:modeling}. Parameters with no error bars were fixed. The distance used is 160 pc and the V_\\mathrm{LSR} is 7.35 km s^{-1}.$\n",
       "$The mid-plane temperature exponent being loosely constrained, we fixed its value to that found from ^{13}CO 2-1 for all lines. Following Eq.\\ref{Temperature}, we fix the exponent \\delta that controls the steepness of the gradient to 2.5, see Appendix \\ref{app:modeling}.$\n",
       "$The pivot R_0 is fixed at 100 au to maximize the sensitivity. For all lines, we checked that the disk is in Keplerian rotation.}$\n",
       "$\\end{table*}$\n",
       "$}$\n",
       "$\\newcommand{\\figtomo}{$\n",
       "$\\begin{figure*}$\n",
       "$  \\subfigure(a){\\hspace{5cm}}$\n",
       "$  \\subfigure(b){\\hspace{5cm}}$\n",
       "$  \\subfigure(c) $\n",
       "$  \\centering$\n",
       "$  \\subfigure{\\includegraphics[width=0.268\\textwidth]{tomob_obs_12co21.pdf}}$\n",
       "$  \\subfigure{\\includegraphics[width=0.268\\textwidth]{tomob_mod_12co21.pdf}}$\n",
       "$  \\subfigure{\\includegraphics[width=0.268\\textwidth]{tomob_diff_12co21.pdf}}$\n",
       "$  \\centering$\n",
       "$  \\subfigure{\\includegraphics[width=0.268\\textwidth]{tomob_obs_12co32.pdf}}$\n",
       "$  \\subfigure{\\includegraphics[width=0.268\\textwidth]{tomob_mod_12co32.pdf}}$\n",
       "$  \\subfigure{\\includegraphics[width=0.268\\textwidth]{tomob_diff_12co32.pdf}}$\n",
       "$  \\centering$\n",
       "$  \\subfigure{\\includegraphics[width=0.268\\textwidth]{tomob_obs_13co.pdf}}$\n",
       "$  \\subfigure{\\includegraphics[width=0.268\\textwidth]{tomo_mod_13co_newcommand.pdf}}$\n",
       "$  \\subfigure{\\includegraphics[width=0.268\\textwidth]{tomo_diff_13co_newcommand.pdf}}$\n",
       "$  \\centering$\n",
       "$  \\subfigure{\\includegraphics[width=0.268\\textwidth]{tomob_obs_c18o.pdf}}$\n",
       "$  \\subfigure{\\includegraphics[width=0.268\\textwidth]{tomob_mod_c18o.pdf}}$\n",
       "$  \\subfigure{\\includegraphics[width=0.268\\textwidth]{tomob_diff_c18o.pdf}}$\n",
       "$  \\centering$\n",
       "$  \\subfigure{\\includegraphics[width=0.268\\textwidth]{tomob_obs_hco+.pdf}}$\n",
       "$  \\subfigure{\\includegraphics[width=0.268\\textwidth]{tomob_mod_hco+.pdf}}$\n",
       "$  \\subfigure{\\includegraphics[width=0.268\\textwidth]{tomob_diff_hco+.pdf}}$\n",
       "$  \\caption{From top to bottom: Tomographically Reconstructed Distribution (TRD) of ^{12}CO 2-1, ^{12}CO 3-2, ^{13}CO 2-1, C^{18}O 2-1 and HCO^+ 3-2 : (a) TRD of the observations (b) TRD of the final result of the models (c) difference between the observations and models TRD. For ^{12}CO (2–1), the residuals range from –2 to 2 K, while for the ^{12}CO (3–2) transition, they extend from –3 to 2 K. In the case of ^{13}CO (2–1), the differences are between 0 and 2 K. For C^{18}O (2–1), the deviations range from –1 to 2 K, and for HCO^+ (3–2), they span from –1 to 3 K. The vertical black line represents the effective resolution and two error bars show the widening of the beam as a function of radius caused by the TRD method.$\n",
       "$  The contours are newcommandined from 4 K to 20 K in steps of 2 K for observational and model maps, and from -3 K to 3 K in steps of 1 K for the residual maps.}$\n",
       "$\\label{fig:tomo}$\n",
       "$\\end{figure*}$\n",
       "$}$</div>\n",
       "\n",
       "\n",
       "\n",
       "<div id=\"title\">\n",
       "\n",
       "# Edge-On Disk Study (EODS) II: HCO$^+$ and CO vertical stratification in the disk surrounding SSTTau042021\n",
       "\n",
       "</div>\n",
       "<div id=\"comments\">\n",
       "\n",
       "[![arXiv](https://img.shields.io/badge/arXiv-2510.04677-b31b1b.svg)](https://arxiv.org/abs/2510.04677)<mark>Appeared on: 2025-10-07</mark> - \n",
       "\n",
       "</div>\n",
       "<div id=\"authors\">\n",
       "\n",
       "C. Foucher, et al. -- incl., <mark>T. Henning</mark>, <mark>D. Semenov</mark>\n",
       "\n",
       "</div>\n",
       "<div id=\"abstract\">\n",
       "\n",
       "**Abstract:** Edge-on disks offer a unique opportunity to directly examine their vertical structure, providing valuable insights into planet formation processes. We investigate the dust properties, as well as the CO and HCO $^+$ gas properties, in the edge-on disk surrounding the T Tauri star 2MASS J04202144+281349 (SSTTau042021). We estimate the radial and vertical temperature and density profile for the gas and the dust. We use ALMA archival data of CO isotopologues and continuum emission at 2, 1.3 and 0.9 mm together with new NOEMA HCO $^+$ 3-2 observations. We retrieve the gas and dust disk properties using the tomographic method and the DiskFit model. The vertical CO emission appears very extended, partly tracing the $H_2$ wind observed by JWST. C $^{18}$ O, $^{13}$ CO and HCO $^+$ emission characterize the bulk of the molecular layer. The dust and gas have a mid-plane temperatures of $\\sim 7-11$ K. The temperature of the molecular layer (derived from $^{13}$ CO and HCO $^+$ ) is on the order of 16 K. HCO $^+$ 3-2 being thermalized, we derive a lower limit for the $H_2$ volume density of $\\sim 3 \\times 10^6$ cm $^{-3}$ at radius 100-200 au between 1 and 2 scale heights. The atmosphere temperature of the CO gas is of the order $\\sim$ 31 K at a radius of 100 au. We directly observe CO and HCO $^+$ gas onto the mid-plane beyond the dust outer radius ( $\\ge 300$ au). The (gas+dust) disk mass estimated up to a radius of 300 au is on the order of $4.6\\times10^{-2} \\Msun$ . Thanks to the favorable disk inclination, we present the first quantitative evidence for vertical molecular stratification with direct observation of CO and HCO $^+$ gas along the mid-plane. We estimate the temperature profile with temperature of 7-11 K near the mid-plane, and 15-20 K in the dense part of the molecular layer up to $\\sim$ 35 K above.\n",
       "\n",
       "</div>\n",
       "\n",
       "<div id=\"div_fig1\">\n",
       "\n",
       "<img src=\"tmp_2510.04677/./tomob_obs_12co21.png\" alt=\"Fig2.1\" width=\"6%\"/><img src=\"tmp_2510.04677/./tomob_mod_12co21.png\" alt=\"Fig2.2\" width=\"6%\"/><img src=\"tmp_2510.04677/./tomob_diff_12co21.png\" alt=\"Fig2.3\" width=\"6%\"/><img src=\"tmp_2510.04677/./tomob_obs_12co32.png\" alt=\"Fig2.4\" width=\"6%\"/><img src=\"tmp_2510.04677/./tomob_mod_12co32.png\" alt=\"Fig2.5\" width=\"6%\"/><img src=\"tmp_2510.04677/./tomob_diff_12co32.png\" alt=\"Fig2.6\" width=\"6%\"/><img src=\"tmp_2510.04677/./tomob_obs_13co.png\" alt=\"Fig2.7\" width=\"6%\"/><img src=\"tmp_2510.04677/./tomo_mod_13co_def.png\" alt=\"Fig2.8\" width=\"6%\"/><img src=\"tmp_2510.04677/./tomo_diff_13co_def.png\" alt=\"Fig2.9\" width=\"6%\"/><img src=\"tmp_2510.04677/./tomob_obs_c18o.png\" alt=\"Fig2.10\" width=\"6%\"/><img src=\"tmp_2510.04677/./tomob_mod_c18o.png\" alt=\"Fig2.11\" width=\"6%\"/><img src=\"tmp_2510.04677/./tomob_diff_c18o.png\" alt=\"Fig2.12\" width=\"6%\"/><img src=\"tmp_2510.04677/./tomob_obs_hco+.png\" alt=\"Fig2.13\" width=\"6%\"/><img src=\"tmp_2510.04677/./tomob_mod_hco+.png\" alt=\"Fig2.14\" width=\"6%\"/><img src=\"tmp_2510.04677/./tomob_diff_hco+.png\" alt=\"Fig2.15\" width=\"6%\"/>\n",
       "\n",
       "**Figure 2. -** From top to bottom: Tomographically Reconstructed Distribution (TRD) of $^{12}$CO 2-1, $^{12}$CO 3-2, $^{13}$CO 2-1, C$^{18}$O 2-1 and HCO$^+$ 3-2 : (a) TRD of the observations (b) TRD of the final result of the models (c) difference between the observations and models TRD. For $^{12}$CO (2–1), the residuals range from –2 to 2 K, while for the $^{12}$CO (3–2) transition, they extend from –3 to 2 K. In the case of $^{13}$CO (2–1), the differences are between 0 and 2 K. For C$^{18}$O (2–1), the deviations range from –1 to 2 K, and for HCO$^+$(3–2), they span from –1 to 3 K. The vertical black line represents the effective resolution and two error bars show the widening of the beam as a function of radius caused by the TRD method.\n",
       "  The contours are defined from 4 K to 20 K in steps of 2 K for observational and model maps, and from -3 K to 3 K in steps of 1 K for the residual maps. (*fig:tomo*)\n",
       "\n",
       "</div>\n",
       "<div id=\"div_fig2\">\n",
       "\n",
       "<img src=\"tmp_2510.04677/./hco_jwst.png\" alt=\"Fig5.1\" width=\"20%\"/><img src=\"tmp_2510.04677/./13co21_jwst.png\" alt=\"Fig5.2\" width=\"20%\"/><img src=\"tmp_2510.04677/./c18o_jwst.png\" alt=\"Fig5.3\" width=\"20%\"/><img src=\"tmp_2510.04677/./12co21_jwst.png\" alt=\"Fig5.4\" width=\"20%\"/><img src=\"tmp_2510.04677/./12cocont.png\" alt=\"Fig5.5\" width=\"20%\"/>\n",
       "\n",
       "**Figure 5. -** Montage of JWST and interferometric data for SSTTau042021. MIRI MRS images from JWST reveal H$_{2}$ S(2) emission at 12.278 $\\mu$m ([Arulanantham, McClure and Pontoppidan (2024)]()). White contours indicate the mid-infrared scattered-light continuum at 12.2 $\\mu$m, and the white dashed line marks the rotation axis of the disk at PA = 73.5$^\\circ$.\n",
       "  From archival ALMA data and new NOEMA observations, cyan contours show molecular emission lines of HCO$^+$ 3–2, $^{13}$CO 2–1, C$^{18}$O 2–1, $^{12}$CO 2–1, and $^{12}$CO 3–2, while yellow contours represent the 0.85 mm continuum emission at 1 mJy/beam.  Beige circles in the bottom left corner of each panel represent the average theoretical FWHM of the PSF for JWST data, calculated from the relationship reported in [Law, Booth and Öberg (2023)](), and the beam of the molecular line emission is shown as a cyan ellipse in the top-right corner of each panel. The contours for HCO$^+$(3–2) range from 0.02 to 0.2 Jy/beam.km/s with a step of 0.02 Jy/beam.km/s, i.e 2.5 $\\sigma$; for $^{13}$CO (2–1), they range from 0.02 to 0.08 Jy/beam.km/s with a step of 0.01 Jy/beam.km/s, i.e 3.5 $\\sigma$; for C$^{18}$CO (2–1), they range from 0.008 to 0.016 Jy/beam.km/s with a step of 0.008 Jy/beam.km/s, i.e 3.5$ \\sigma$; for $^{12}$CO (2–1), from 0.01 to 0.08 Jy/beam.km/s with a step of 0.02 Jy/beam.km/s, i.e 6 $\\sigma$; and for $^{12}$CO (3–2) , from 0.06 to 0.8 Jy/beam.km/s with a step of 0.06 Jy/beam.km/s , i.e 4.2$\\sigma$.\n",
       "   (*fig:jwst*)\n",
       "\n",
       "</div>\n",
       "<div id=\"div_fig3\">\n",
       "\n",
       "<img src=\"tmp_2510.04677/./vel_chan_K_12co21.png\" alt=\"Fig6.1\" width=\"20%\"/><img src=\"tmp_2510.04677/./vel_chan_K_12co32.png\" alt=\"Fig6.2\" width=\"20%\"/><img src=\"tmp_2510.04677/./vel_chan_K_13co21.png\" alt=\"Fig6.3\" width=\"20%\"/><img src=\"tmp_2510.04677/./vel_chan_K_c18o.png\" alt=\"Fig6.4\" width=\"20%\"/><img src=\"tmp_2510.04677/./vel_chan_K_hco32.png\" alt=\"Fig6.5\" width=\"20%\"/>\n",
       "\n",
       "**Figure 6. -**  Velocity channel maps from top to bottom: for $^{12}$CO 2-1, 3-2, $^{13}$CO 2-1, C$^{18}$O 2-1 and HCO$^{+}$ 3-2. The channels corrupted by the CO clouds along the line of sight are marked with a red cross. These channels were not used in the DiskFit analysis. All the maps are rotated by $-73.5^\\circ$. The contours are defined as follows: from 3 to 12 K in steps of 3 K (i.e., $3.6\\sigma$) for the $^{12}$CO 2–1, $3.3\\sigma$ for $^{12}$CO 3–2, and $3.6\\sigma$ for $^{13}$CO 2–1; from 2 to 6 K in steps of 2 K (i.e., $3.2\\sigma$) for C$^{18}$O 2–1; and from 3 to 9 K in steps of 3 K (i.e., $3.3\\sigma$) for HCO$^+$ 3–2. (*fig:vel_channel*)\n",
       "\n",
       "</div><div id=\"qrcode\"><img src=https://api.qrserver.com/v1/create-qr-code/?size=100x100&data=\"https://arxiv.org/abs/2510.04677\"></div>"
      ],
      "text/plain": [
       "<IPython.core.display.Markdown object>"
      ]
     },
     "metadata": {},
     "output_type": "display_data"
    },
    {
     "data": {
      "text/markdown": [
       "<div class=\"macros\" style=\"visibility:hidden;\">\n",
       "$\\newcommand{\\ensuremath}{}$\n",
       "$\\newcommand{\\xspace}{}$\n",
       "$\\newcommand{\\object}[1]{\\texttt{#1}}$\n",
       "$\\newcommand{\\farcs}{{.}''}$\n",
       "$\\newcommand{\\farcm}{{.}'}$\n",
       "$\\newcommand{\\arcsec}{''}$\n",
       "$\\newcommand{\\arcmin}{'}$\n",
       "$\\newcommand{\\ion}[2]{#1#2}$\n",
       "$\\newcommand{\\textsc}[1]{\\textrm{#1}}$\n",
       "$\\newcommand{\\hl}[1]{\\textrm{#1}}$\n",
       "$\\newcommand{\\footnote}[1]{}$\n",
       "$\\newcommand{\\astroang}[1]{\\ang[angle-symbol-over-decimal]{#1}}$\n",
       "$\\newcommand{\\assign}[1]{\\textcolor{red}{[#1]}}$\n",
       "$\\newcommand{\\inprogress}[1]{\\textcolor[rgb]{1,0.5,0}{[#1]}}$\n",
       "$\\newcommand{\\done}[1]$\n",
       "$\\newcommand{\\R}[1]{\\textcolor{red}{#1}}$\n",
       "$\\newcommand{\\help}[1]{\\textcolor{magenta}{[{\\bf HELP!: #1}]}}$\n",
       "$\\newcommand{\\nico}[1]{\\textcolor{red}{[nico: #1]}}$\n",
       "$\\newcommand{\\lucas}[1]{\\textcolor{gray}{[lucas: #1]}}$\n",
       "$\\newcommand{\\laila}[1]{\\textcolor{magenta}{[laila: #1]}}$\n",
       "$\\newcommand{\\JHD}[1]{\\textcolor{magenta}{[JHD: #1]}}$\n",
       "$\\newcommand{\\cora}[1]{\\textcolor{purple}{[cora: #1]}}$\n",
       "$\\newcommand{\\vincenzo}[1]{\\textcolor{cyan}{[vincenzo: #1]}}$\n",
       "$\\newcommand{\\lina}[1]{\\textcolor{teal}{[Lina: #1]}}$\n",
       "$\\newcommand{\\Sandrine}[1]{\\textcolor{violet}{[Sandrine C.: #1]}}$\n",
       "$\\newcommand{\\SP}[1]{\\textcolor{teal}{[Sandrine P.: #1]}}$\n",
       "$\\newcommand{\\ismael}[1]{\\textcolor{brown}{[ismael: #1]}}$\n",
       "$\\newcommand{\\sven}[1]{\\textcolor{orange}{[sven: #1]}}$\n",
       "$\\newcommand{\\simone}[1]{\\textcolor{olive}{[Simone: #1]}}$\n",
       "$\\newcommand{\\sihao}[1]{\\textcolor{green}{[sihao: #1]}}$\n",
       "$\\newcommand{\\filippo}[1]{\\textcolor{cerulean}{[filippo: #1]}}$\n",
       "$\\newcommand{\\cgiocoli}[1]{\\textbf{\\textcolor{brilliantlavender}{[cgiocoli: #1]}}}$\n",
       "$\\newcommand{\\jeger}[1]{\\textcolor{pink}{jeger: #1]}}$\n",
       "$\\newcommand{\\alessandro}[1]{\\textcolor{prune}{[alessandro: #1]}}$\n",
       "$\\newcommand{\\natalia}[1]{\\textcolor{cyan}{[natalia: #1]}}$\n",
       "$\\newcommand{\\dani}[1]{\\textcolor{teal}{[Daniela: #1]}}$\n",
       "$\\newcommand{\\Francis}[1]{\\textcolor{dgold}{[Francis: #1]}}$\n",
       "$\\newcommand{\\ND}[1]{\\textcolor{green}{[Nicolas D.: #1]}}$\n",
       "$\\newcommand{\\andreas}[1]{\\textcolor{kindofgreen}{[andreas: #1]}}$\n",
       "$\\newcommand{\\MapMapMap}{\\expval{\\Map^3}}$\n",
       "$\\newcommand{\\Mapn}{\\expval{\\Map^n}}$\n",
       "$\\newcommand{\\varthetavec}{\\vb*{\\vartheta}}$\n",
       "$\\newcommand{\\thetavec}{\\vb*{\\theta}}$\n",
       "$\\newcommand{\\MapMap}{\\expval{\\Map^2}}$\n",
       "$\\newcommand{\\ellvec}{\\vb*{\\ell}}$\n",
       "$\\newcommand{\\inlinecomment}[1]$\n",
       "$\\newcommand{\\orcid}[1]$\n",
       "$\\newcommand{\\simone}[1]{\\textcolor{red}{[#1]}}$\n",
       "$\\newcommand{\\filippo}[1]{\\textcolor{red}{[#1]}}$\n",
       "$\\newcommand{\\vincenzo}[1]{\\textcolor{red}{[#1]}}$\n",
       "$\\newcommand{\\Map}{M_\\mathrm{ap}}$\n",
       "$\\newcommand{\\arraystretch}{1.2}{$\n",
       "$    \\begin{tabular}{c c c c c c c}$\n",
       "$        \\hline$\n",
       "$        \\multicolumn{1}{c}{Statistics} & Abbreviation & Algorithm \\         \\hline$\n",
       "$        shear 2-point correlation functions & \\gamma-2PCFs (\\xi_{+}/\\xi_{-}) & \\texttt{TreeCorr} \\         convergence 2-point correlation function & \\kappa-2PCF (\\xi_{\\kappa}) & \\texttt{TreeCorr} \\         1-point probability distribution function & PDF (\\mathcal{P}) & \\citetalias{Ajani-EP29},  \\citet{Castiblanco:2024xnd} \\         \\rm \\ell1 \\! - \\! norm & \\rm \\ell1 \\! - \\! norm & \\citet{sreekanth2024theoreticalwaveletell1normonepoint} \\         peak counts & peaks (N) & \\texttt{lenspack} \\         Minkowski functionals & MFs (V_0, V_1, V_2) & \\citet{Vicinanza_2019} \\         Betti numbers & BNs (\\beta_0, \\beta_1) & \\citet{Parroni_2021} \\         \\hline$\n",
       "$    \\end{tabular}$\n",
       "$    }$\n",
       "$\\newcommand{\\tabcolsep}{2.5mm}{\\newcommand{\\arraystretch}{2.}$\n",
       "$\\begin{table}[ht]$\n",
       "$\\begin{minipage}{8.5cm}$\n",
       "$\\huge$\n",
       "$\\centering$\n",
       "$\\caption{\\filippo{Rebinning and tail cuts of the non-tomographic fiducial DVs: DR1 optimistic is used as the fiducial n(z); KS is used as the fiducial mass reconstruction technique; 2.34 arcminuts is used as the fiducial top-hat smoothing scale (true ?). The second, third, fourth and fifth columns respectively correspond to the number of DV elements; the range of scales \\theta, convergence \\kappa, or SN \\nu that is used for each DV; the observed SMAPE value; and the limit SMAPE value.}}\\label{tab:tail_cuts}$\n",
       "$\\vspace{5pt}$\n",
       "$\\resizebox*{0.85\\textwidth}{!}{$\n",
       "$\\begin{tabular}{c|c|c|c|c}$\n",
       "$\\hline$\n",
       "$Statistics & N_{\\rm d} & Range & \\mathcal{S}_{\\text{obs}} & \\mathcal{S}_{\\text{lim}} \\ \\hline$\n",
       "$\\xi_+ & 6 & 1'.57 < \\theta < 29'.9  & \\multirow{2}{*}{0.017} & \\multirow{2}{*}{0.021} \\ \\xi_-$\n",
       "$& 5 & 1'.57 < \\theta < 16'.6 & & \\ \\hline$\n",
       "$\\kappa-2PCF & 4 & 2'.84 < \\theta < 16'.6 & 0.018 & 0.021 \\ \\hline$\n",
       "$PDF & 11 & -0.048 < \\kappa < 0.033 & 0.018 & 0.021 \\ \\hline$\n",
       "$\\ell1-norm & \\dots & \\dots & \\dots & \\dots \\ \\hline$\n",
       "$Peaks & \\dots & \\dots & \\dots & \\dots \\ \\hline$\n",
       "$V_0 & \\dots & \\dots & \\multirow{3}{*}{\\dots} & \\multirow{3}{*}{\\dots} \\ V_1 & \\dots & \\dots &  & \\ V_2 & \\dots & \\dots & & \\ \\hline$\n",
       "$\\beta_0 & \\dots & \\dots & \\multirow{2}{*}{\\dots} & \\multirow{2}{*}{\\dots} \\ \\beta_1 & \\dots & \\dots &  & \\ \\hline$\n",
       "$persistent BNs & \\dots & \\dots & \\dots & \\dots \\ \\hline$\n",
       "$persistent heat. & \\dots & \\dots & \\dots & \\dots \\ \\hline$\n",
       "$ST coef. & \\dots & \\dots & \\dots & \\dots \\ \\hline$\n",
       "$\\end{tabular}}$\n",
       "$\\end{minipage}$\n",
       "$\\end{table}}$\n",
       "$\\newcommand{\\arraystretch}{2.}$</div>\n",
       "\n",
       "\n",
       "\n",
       "<div id=\"title\">\n",
       "\n",
       "# $\\Euclid$ preparation: Towards a DR1 application of higher-order weak lensing statistics\n",
       "\n",
       "</div>\n",
       "<div id=\"comments\">\n",
       "\n",
       "[![arXiv](https://img.shields.io/badge/arXiv-2510.04953-b31b1b.svg)](https://arxiv.org/abs/2510.04953)<mark>Appeared on: 2025-10-07</mark> - \n",
       "\n",
       "</div>\n",
       "<div id=\"authors\">\n",
       "\n",
       "E. Collaboration, et al. -- incl., <mark>K. Jahnke</mark>\n",
       "\n",
       "</div>\n",
       "<div id=\"abstract\">\n",
       "\n",
       "**Abstract:** This is the second paper in the HOWLS (higher-order weak lensing statistics) series exploring the usage of non-Gaussian statistics for cosmology inference within _Euclid_ . With respect to our first paper, we develop a full tomographic analysis based on realistic photometric redshifts which allows us to derive Fisher forecasts in the ( $\\sigma_8$ , $w_0$ ) plane for a _Euclid_ -like data release 1 (DR1) setup. We find that the 5 higher-order statistics (HOSs) that satisfy the Gaussian likelihood assumption of the Fisher formalism (1-point probability distribution function, $\\ell$ 1-norm, peak counts, Minkowski functionals, and Betti numbers) each outperform the shear 2-point correlation functions by a factor $2.5$ on the $w_0$ forecasts, with only marginal improvement when used in combination with 2-point estimators, suggesting that every HOS is able to retrieve both the non-Gaussian and Gaussian information of the matter density field. The similar performance of the different estimators $\\inlinecomment{, with a slight preference for Minkowski functionals and 1-point probability distribution function,}$ is explained by a homogeneous use of multi-scale and tomographic information, optimized to lower computational costs. These results hold for the $3$ mass mapping techniques of the _Euclid_ pipeline: aperture mass, Kaiser--Squires, and Kaiser--Squires plus, and are unaffected by the application of realistic star masks. Finally, we explore the use of HOSs with the Bernardeau--Nishimichi--Taruya (BNT) nulling scheme approach, finding promising results towards applying physical scale cuts to HOSs.\n",
       "\n",
       "</div>\n",
       "\n",
       "<div id=\"div_fig1\">\n",
       "\n",
       "<img src=\"tmp_2510.04953/./Plots/noBNT_vs_BNT_vs_BNT-smoothing.png\" alt=\"Fig9\" width=\"100%\"/>\n",
       "\n",
       "**Figure 9. -** Impact of BNT: from left to right, DR3-like unmasked Fisher contours inferred from $\\gamma$-2PCFs, $\\kappa$-2PCF and HOSs (smoothing scale $\\ang{;2.34;}$) measured on KS-reconstructed mass maps of all tomographic slices excluding the non-tomographic configuration in no-BNT (orange), BNT (green) and BNT-smoothing (purple) setups. (*fig:no-BNT vs. BNT vs. BNT-smoothing*)\n",
       "\n",
       "</div>\n",
       "<div id=\"div_fig2\">\n",
       "\n",
       "<img src=\"tmp_2510.04953/./Plots/shear_2pcfs_kappa_2pcf_kappa_1pdf_kappa_peak_counts_kappa_bns_kappa_mfs_kappa_l1norm_s8_w_Nf_7616_Nc_256_contour_plot.png\" alt=\"Fig12\" width=\"100%\"/>\n",
       "\n",
       "**Figure 12. -** Fisher forecasts of reference setup with masks, full-tomography and multiscale, for $\\gamma$-2PCFs (cyan) and HOSs (orange), as well as for their combination (green). For a qualitative inspection, contours of all statistics are overplotted in the last panel for varying colors. $\\inlinecomment${$\\cora${change title of 2pcf plot to remove $\\kappa$ as it also shows $\\gamma$.}$\\cora${Can we remove the l1 norm here (saying it looks like the pdf as seen in previous figs) to gain more space and make the comparison plot less busy. also please remove contour shading at least in the all probes case.} $\\simone${Addressed all comments: we keep l1-norm for completeness.}} (*fig:money_plot*)\n",
       "\n",
       "</div>\n",
       "<div id=\"div_fig3\">\n",
       "\n",
       "<img src=\"tmp_2510.04953/./Plots/DR1_opt_single_probe_equi_pop_auto_4_x_4_scale_px_shear_2pcfs_s8_w_Nf_256_Nc_256_theory_DVs_plot.png\" alt=\"Fig3\" width=\"100%\"/>\n",
       "\n",
       "**Figure 3. -** $\\gamma$-2PCFs (upper panel) and derivatives (lower panels) DV-comparison for bin 5 between the mean computed from DUSTGRAIN mocks (orange) and theory predictions (black) for the fiducial cosmology (top), $\\sigma_8$(middle) and $w_0$(bottom) derivatives. Fractional residuals are reported in purple on the secondary $y$-axis, emphasizing a 15\\% threshold as a grey-shaded horizontal band. $\\inlinecomment${$\\jeger${The labels on the right hand side are cut off} $\\simone${I did it on purpose to save space, it should be clear through the color-coding.}}$\\inlinecomment${$\\JHD${Only the top panel shows $\\gamma$-2PCFs, the other panels show derivatives. Maybe have 'upper:' and 'lower:'? } $\\simone${Agreed, added.}} (*fig:shear_2pcfs_theory_validation:DV_comparison_bin4*)\n",
       "\n",
       "</div><div id=\"qrcode\"><img src=https://api.qrserver.com/v1/create-qr-code/?size=100x100&data=\"https://arxiv.org/abs/2510.04953\"></div>"
      ],
      "text/plain": [
       "<IPython.core.display.Markdown object>"
      ]
     },
     "metadata": {},
     "output_type": "display_data"
    },
    {
     "data": {
      "text/markdown": [
       "<div class=\"macros\" style=\"visibility:hidden;\">\n",
       "$\\newcommand{\\ensuremath}{}$\n",
       "$\\newcommand{\\xspace}{}$\n",
       "$\\newcommand{\\object}[1]{\\texttt{#1}}$\n",
       "$\\newcommand{\\farcs}{{.}''}$\n",
       "$\\newcommand{\\farcm}{{.}'}$\n",
       "$\\newcommand{\\arcsec}{''}$\n",
       "$\\newcommand{\\arcmin}{'}$\n",
       "$\\newcommand{\\ion}[2]{#1#2}$\n",
       "$\\newcommand{\\textsc}[1]{\\textrm{#1}}$\n",
       "$\\newcommand{\\hl}[1]{\\textrm{#1}}$\n",
       "$\\newcommand{\\footnote}[1]{}$\n",
       "$\\newcommand{\\flowrate}{~M_{\\sun}\\mathrm{yr}^{-1}}$</div>\n",
       "\n",
       "\n",
       "\n",
       "<div id=\"title\">\n",
       "\n",
       "# From theory to observation: understanding filamentary flows in high-mass star-forming clusters\n",
       "\n",
       "</div>\n",
       "<div id=\"comments\">\n",
       "\n",
       "[![arXiv](https://img.shields.io/badge/arXiv-2510.05101-b31b1b.svg)](https://arxiv.org/abs/2510.05101)<mark>Appeared on: 2025-10-07</mark> -  _13 pages, 14 figures, accepted for publication in A&A_\n",
       "\n",
       "</div>\n",
       "<div id=\"authors\">\n",
       "\n",
       "M. R. A. Wells, et al. -- incl., <mark>H. Beuther</mark>\n",
       "\n",
       "</div>\n",
       "<div id=\"abstract\">\n",
       "\n",
       "**Abstract:** Filamentary structures on parsec scales play a critical role in feeding star-forming regions, often acting as the main channels through which gas flows into dense clumps that foster star formation. Understanding the dynamics of these filaments is crucial for explaining the mechanisms of star formation across a range of environments. Here we use data from multi-scale galactic MHD simulations to observe filaments and star forming clumps on 10's of pc scales and investigate flow rate relationships along, and onto filaments as well as flows towards the clumps. Using the \\texttt{FilFinderPPV} identification technique, we identify the prominent filamentary structures in each data cube. Each filament and its corresponding clump are analysed by calculating flow rates along each filament towards the clump, onto each filament from increasing distances, and radially around each clump. This analysis is conducted for two cubes, one feedback dominated region, and one with less feedback, as well as for five different inclinations (0, 20, 45, 70, and 90 degrees) of one filament and clump system. Looking at the face-on inclination of the simulations (0 degrees), we observe different trends depending on the environmental conditions (more or less feedback). The median flow rate in the region with more feedback is 8.9 $\\times$ 10 $^{-5}$ $\\flowrate$ and we see that flow rates along the filaments toward the clumps generally decrease in these regions. In the region with less feedback we have a median flow rate of 2.9 $\\times$ 10 $^{-4}$ $\\flowrate$ and when looking along the filaments here we see the values either increase or remain constant. We find that the flow rates from the environments onto the primary filaments are of an order of magnitude sufficient to sustain the flow rates along these filaments. When discussing the effects of galactic and filamentary inclination, we also observe that viewing the filaments from different galactic inclinations can reveal the presence of feeder structures (smaller filamentary structures aiding in the flow of material). Additionally, considering the inclination of the filaments themselves allows us to determine how much we are overestimating or underestimating the flow rates for those filaments. The different trends in the relationship between flow rate and distance along the filaments in both the feedback and non-feedback dominated cubes confirm that the environment is a significant factor in accretion flows and their relationship with filament parameters. The method used to estimate these flow rates, which has been previously applied to observational data, produced results consistent with those obtained from the simulations themselves, providing high confidence in the flow rate calculation method.\n",
       "\n",
       "</div>\n",
       "\n",
       "<div id=\"div_fig1\">\n",
       "\n",
       "<img src=\"tmp_2510.05101/./images/along_q.png\" alt=\"Fig11\" width=\"100%\"/>\n",
       "\n",
       "**Figure 11. -** Flow rate vs. distance relation for the quiet cubeDistance vs flow rate, in log space, relationship for each filament in the quiet cube (filaments are labelled in Fig. \\ref{fig:quietcubeskel}), colour coded by velocity difference. (*fig:quiet_along*)\n",
       "\n",
       "</div>\n",
       "<div id=\"div_fig2\">\n",
       "\n",
       "<img src=\"tmp_2510.05101/./images/along.png\" alt=\"Fig10\" width=\"100%\"/>\n",
       "\n",
       "**Figure 10. -** Flow rate vs. distance relation for the active cubeDistance vs flow rate, in log space, relationship for each filament in the active cube (filaments are labelled in Fig. \\ref{fig:activecubeskel}), colour coded by velocity difference. (*fig:active_along*)\n",
       "\n",
       "</div>\n",
       "<div id=\"div_fig3\">\n",
       "\n",
       "<img src=\"tmp_2510.05101/./images/points.png\" alt=\"Fig1\" width=\"100%\"/>\n",
       "\n",
       "**Figure 1. -** Along, onto and polar points demonstration0th moment map of the Active column density cube with the identified filamentary structure, colour coded by velocity, overlaid on top. Green, red and blue points indicating the different types of flow rate, green is along the filamentary structure, red is onto, and blue is polar around the clumps. 2.85 pc scale bar in the top right corner.  (*fig:starpoints*)\n",
       "\n",
       "</div><div id=\"qrcode\"><img src=https://api.qrserver.com/v1/create-qr-code/?size=100x100&data=\"https://arxiv.org/abs/2510.05101\"></div>"
      ],
      "text/plain": [
       "<IPython.core.display.Markdown object>"
      ]
     },
     "metadata": {},
     "output_type": "display_data"
    }
   ],
   "source": [
    "[display(Markdown(k[1])) for k in documents];"
   ]
  },
  {
   "cell_type": "markdown",
   "id": "873873a4",
   "metadata": {
    "papermill": {
     "duration": 0.005774,
     "end_time": "2025-10-07T04:17:35.298985",
     "exception": false,
     "start_time": "2025-10-07T04:17:35.293211",
     "status": "completed"
    },
    "tags": []
   },
   "source": [
    "# Create HTML index"
   ]
  },
  {
   "cell_type": "code",
   "execution_count": 10,
   "id": "cf665672",
   "metadata": {
    "execution": {
     "iopub.execute_input": "2025-10-07T04:17:35.311083Z",
     "iopub.status.busy": "2025-10-07T04:17:35.310856Z",
     "iopub.status.idle": "2025-10-07T04:17:35.318031Z",
     "shell.execute_reply": "2025-10-07T04:17:35.317498Z"
    },
    "papermill": {
     "duration": 0.014335,
     "end_time": "2025-10-07T04:17:35.319007",
     "exception": false,
     "start_time": "2025-10-07T04:17:35.304672",
     "status": "completed"
    },
    "tags": []
   },
   "outputs": [
    {
     "name": "stdout",
     "output_type": "stream",
     "text": [
      "133  publications files modified in the last 7 days.\n"
     ]
    }
   ],
   "source": [
    "from datetime import datetime, timedelta, timezone\n",
    "from glob import glob\n",
    "import os\n",
    "\n",
    "files = glob('_build/html/*.md')\n",
    "days = 7\n",
    "now = datetime.today()\n",
    "res = []\n",
    "for fk in files:\n",
    "    stat_result = os.stat(fk).st_ctime\n",
    "    modified = datetime.fromtimestamp(stat_result, tz=timezone.utc).replace(tzinfo=None)\n",
    "    delta = now.today() - modified\n",
    "    if delta <= timedelta(days=days):\n",
    "        res.append((delta.seconds, fk))\n",
    "res = [k[1] for k in reversed(sorted(res, key=lambda x:x[1]))]\n",
    "npub = len(res)\n",
    "print(len(res), f\" publications files modified in the last {days:d} days.\")\n",
    "# [ print('\\t', k) for k in res ];"
   ]
  },
  {
   "cell_type": "code",
   "execution_count": 11,
   "id": "015de740",
   "metadata": {
    "execution": {
     "iopub.execute_input": "2025-10-07T04:17:35.331389Z",
     "iopub.status.busy": "2025-10-07T04:17:35.331196Z",
     "iopub.status.idle": "2025-10-07T04:17:35.343236Z",
     "shell.execute_reply": "2025-10-07T04:17:35.342656Z"
    },
    "papermill": {
     "duration": 0.019358,
     "end_time": "2025-10-07T04:17:35.344175",
     "exception": false,
     "start_time": "2025-10-07T04:17:35.324817",
     "status": "completed"
    },
    "tags": []
   },
   "outputs": [
    {
     "name": "stdout",
     "output_type": "stream",
     "text": [
      "20  publications in the last 7 days.\n"
     ]
    }
   ],
   "source": [
    "import datetime\n",
    "from glob import glob\n",
    "\n",
    "def get_last_n_days(lst, days=1):\n",
    "    \"\"\" Get the documents from the last n days \"\"\"\n",
    "    sorted_lst = sorted(lst, key=lambda x: x[1], reverse=True)\n",
    "    for fname, date in sorted_lst:\n",
    "        if date >= str(datetime.date.today() - datetime.timedelta(days=days)):\n",
    "            yield fname\n",
    "\n",
    "def extract_appearance_dates(lst_file):\n",
    "    dates = []\n",
    "\n",
    "    def get_date(line):\n",
    "        return line\\\n",
    "            .split('Appeared on:')[-1]\\\n",
    "            .split('</mark>')[0].strip()\n",
    "\n",
    "    for fname in lst:\n",
    "        with open(fname, 'r') as f:\n",
    "            found_date = False\n",
    "            for line in f:\n",
    "                if not found_date:\n",
    "                    if \"Appeared on\" in line:\n",
    "                        found_date = True\n",
    "                        dates.append((fname, get_date(line)))\n",
    "                else:\n",
    "                    break\n",
    "    return dates\n",
    "\n",
    "from glob import glob\n",
    "lst = glob('_build/html/*md')\n",
    "days = 7\n",
    "dates = extract_appearance_dates(lst)\n",
    "res = list(get_last_n_days(dates, days))\n",
    "npub = len(res)\n",
    "print(len(res), f\" publications in the last {days:d} days.\")"
   ]
  },
  {
   "cell_type": "code",
   "execution_count": 12,
   "id": "52ca0208",
   "metadata": {
    "execution": {
     "iopub.execute_input": "2025-10-07T04:17:35.356578Z",
     "iopub.status.busy": "2025-10-07T04:17:35.356397Z",
     "iopub.status.idle": "2025-10-07T04:17:35.360866Z",
     "shell.execute_reply": "2025-10-07T04:17:35.360346Z"
    },
    "papermill": {
     "duration": 0.011716,
     "end_time": "2025-10-07T04:17:35.361795",
     "exception": false,
     "start_time": "2025-10-07T04:17:35.350079",
     "status": "completed"
    },
    "scrolled": false,
    "tags": []
   },
   "outputs": [],
   "source": [
    "def create_carousel(npub=4):\n",
    "    \"\"\" Generate the HTML code for a carousel with `npub` slides \"\"\"\n",
    "    carousel = [\"\"\"  <div class=\"carousel\" \"\"\",\n",
    "                \"\"\"       data-flickity='{ \"autoPlay\": 10000, \"adaptiveHeight\": true, \"resize\": true, \"wrapAround\": true, \"pauseAutoPlayOnHover\": true, \"groupCells\": 1 }' id=\"asyncTypeset\">\"\"\"\n",
    "                ]\n",
    "    \n",
    "    item_str = \"\"\"    <div class=\"carousel-cell\"> <div id=\"slide{k}\" class=\"md_view\">Content {k}</div> </div>\"\"\"\n",
    "    for k in range(1, npub + 1):\n",
    "        carousel.append(item_str.format(k=k))\n",
    "    carousel.append(\"  </div>\")\n",
    "    return '\\n'.join(carousel)\n",
    "\n",
    "def create_grid(npub=4):\n",
    "    \"\"\" Generate the HTML code for a flat grid with `npub` slides \"\"\"\n",
    "    grid = [\"\"\"  <div class=\"grid\"> \"\"\",\n",
    "                ]\n",
    "    \n",
    "    item_str = \"\"\"    <div class=\"grid-item\"> <div id=\"slide{k}\" class=\"md_view\">Content {k}</div> </div>\"\"\"\n",
    "    for k in range(1, npub + 1):\n",
    "        grid.append(item_str.format(k=k))\n",
    "    grid.append(\"  </div>\")\n",
    "    return '\\n'.join(grid)"
   ]
  },
  {
   "cell_type": "code",
   "execution_count": 13,
   "id": "a6eac5b6",
   "metadata": {
    "execution": {
     "iopub.execute_input": "2025-10-07T04:17:35.374739Z",
     "iopub.status.busy": "2025-10-07T04:17:35.374508Z",
     "iopub.status.idle": "2025-10-07T04:17:35.379573Z",
     "shell.execute_reply": "2025-10-07T04:17:35.378955Z"
    },
    "papermill": {
     "duration": 0.01268,
     "end_time": "2025-10-07T04:17:35.380534",
     "exception": false,
     "start_time": "2025-10-07T04:17:35.367854",
     "status": "completed"
    },
    "scrolled": false,
    "tags": []
   },
   "outputs": [],
   "source": [
    "carousel = create_carousel(npub)\n",
    "docs = ', '.join(['\"{0:s}\"'.format(k.split('/')[-1]) for k in res])\n",
    "slides = ', '.join([f'\"slide{k}\"' for k in range(1, npub + 1)])\n",
    "\n",
    "with open(\"daily_template.html\", \"r\") as tpl:\n",
    "    page = tpl.read()\n",
    "    page = page.replace(\"{%-- carousel:s --%}\", carousel)\\\n",
    "               .replace(\"{%-- suptitle:s --%}\",  \"7-day archives\" )\\\n",
    "               .replace(\"{%-- docs:s --%}\", docs)\\\n",
    "               .replace(\"{%-- slides:s --%}\", slides)\n",
    "    \n",
    "with open(\"_build/html/index_7days.html\", 'w') as fout:\n",
    "    fout.write(page)"
   ]
  },
  {
   "cell_type": "code",
   "execution_count": 14,
   "id": "adc1a1ec",
   "metadata": {
    "execution": {
     "iopub.execute_input": "2025-10-07T04:17:35.393180Z",
     "iopub.status.busy": "2025-10-07T04:17:35.392988Z",
     "iopub.status.idle": "2025-10-07T04:17:35.399114Z",
     "shell.execute_reply": "2025-10-07T04:17:35.398568Z"
    },
    "papermill": {
     "duration": 0.013552,
     "end_time": "2025-10-07T04:17:35.400071",
     "exception": false,
     "start_time": "2025-10-07T04:17:35.386519",
     "status": "completed"
    },
    "tags": []
   },
   "outputs": [
    {
     "name": "stdout",
     "output_type": "stream",
     "text": [
      "5  publications in the last day.\n"
     ]
    }
   ],
   "source": [
    "# redo for today\n",
    "days = 1\n",
    "res = list(get_last_n_days(dates, days))\n",
    "npub = len(res)\n",
    "print(len(res), f\" publications in the last day.\")\n",
    "\n",
    "carousel = create_carousel(npub)\n",
    "docs = ', '.join(['\"{0:s}\"'.format(k.split('/')[-1]) for k in res])\n",
    "slides = ', '.join([f'\"slide{k}\"' for k in range(1, npub + 1)])\n",
    "\n",
    "with open(\"daily_template.html\", \"r\") as tpl:\n",
    "    page = tpl.read()\n",
    "    page = page.replace(\"{%-- carousel:s --%}\", carousel)\\\n",
    "               .replace(\"{%-- suptitle:s --%}\",  \"Daily\" )\\\n",
    "               .replace(\"{%-- docs:s --%}\", docs)\\\n",
    "               .replace(\"{%-- slides:s --%}\", slides)\n",
    "    \n",
    "# print(carousel, docs, slides)\n",
    "# print(page)\n",
    "with open(\"_build/html/index_daily.html\", 'w') as fout:\n",
    "    fout.write(page)"
   ]
  },
  {
   "cell_type": "code",
   "execution_count": 15,
   "id": "00eece82",
   "metadata": {
    "execution": {
     "iopub.execute_input": "2025-10-07T04:17:35.412972Z",
     "iopub.status.busy": "2025-10-07T04:17:35.412715Z",
     "iopub.status.idle": "2025-10-07T04:17:35.419040Z",
     "shell.execute_reply": "2025-10-07T04:17:35.418392Z"
    },
    "papermill": {
     "duration": 0.013864,
     "end_time": "2025-10-07T04:17:35.419972",
     "exception": false,
     "start_time": "2025-10-07T04:17:35.406108",
     "status": "completed"
    },
    "scrolled": false,
    "tags": []
   },
   "outputs": [
    {
     "name": "stdout",
     "output_type": "stream",
     "text": [
      "6  6 publications selected.\n"
     ]
    }
   ],
   "source": [
    "# Create the flat grid of the last N papers (fixed number regardless of dates)\n",
    "from itertools import islice \n",
    "\n",
    "npub = 6\n",
    "res = [k[0] for k in (islice(reversed(sorted(dates, key=lambda x: x[1])), 6))]\n",
    "print(len(res), f\" {npub} publications selected.\")\n",
    "\n",
    "grid = create_grid(npub)\n",
    "docs = ', '.join(['\"{0:s}\"'.format(k.split('/')[-1]) for k in res])\n",
    "slides = ', '.join([f'\"slide{k}\"' for k in range(1, npub + 1)])\n",
    "\n",
    "with open(\"grid_template.html\", \"r\") as tpl:\n",
    "    page = tpl.read()\n",
    "    page = page.replace(\"{%-- grid-content:s --%}\", grid)\\\n",
    "               .replace(\"{%-- suptitle:s --%}\",  f\"Last {npub:,d} papers\" )\\\n",
    "               .replace(\"{%-- docs:s --%}\", docs)\\\n",
    "               .replace(\"{%-- slides:s --%}\", slides)\n",
    "    \n",
    "# print(grid, docs, slides)\n",
    "# print(page)\n",
    "with open(\"_build/html/index_npub_grid.html\", 'w') as fout:\n",
    "    fout.write(page)"
   ]
  }
 ],
 "metadata": {
  "kernelspec": {
   "display_name": "Python 3 (ipykernel)",
   "language": "python",
   "name": "python3"
  },
  "language_info": {
   "codemirror_mode": {
    "name": "ipython",
    "version": 3
   },
   "file_extension": ".py",
   "mimetype": "text/x-python",
   "name": "python",
   "nbconvert_exporter": "python",
   "pygments_lexer": "ipython3",
   "version": "3.9.23"
  },
  "papermill": {
   "default_parameters": {},
   "duration": 221.010836,
   "end_time": "2025-10-07T04:17:35.641798",
   "environment_variables": {},
   "exception": null,
   "input_path": "MPIA daily digest.ipynb",
   "output_path": "log.ipynb",
   "parameters": {},
   "start_time": "2025-10-07T04:13:54.630962",
   "version": "2.6.0"
  },
  "vscode": {
   "interpreter": {
    "hash": "aee8b7b246df8f9039afb4144a1f6fd8d2ca17a180786b69acc140d282b71a49"
   }
  },
  "widgets": {
   "application/vnd.jupyter.widget-state+json": {
    "state": {
     "6d2304f396604d70a20c67b1c8ecde06": {
      "model_module": "@jupyter-widgets/controls",
      "model_module_version": "2.0.0",
      "model_name": "HBoxModel",
      "state": {
       "_dom_classes": [],
       "_model_module": "@jupyter-widgets/controls",
       "_model_module_version": "2.0.0",
       "_model_name": "HBoxModel",
       "_view_count": null,
       "_view_module": "@jupyter-widgets/controls",
       "_view_module_version": "2.0.0",
       "_view_name": "HBoxView",
       "box_style": "",
       "children": [
        "IPY_MODEL_8e4332db37484e83a17f22e177173756",
        "IPY_MODEL_d4145fa0b33b4faab577b2a7860c3d5e",
        "IPY_MODEL_d146e62a39c24a26922e65bb6e3195f6"
       ],
       "layout": "IPY_MODEL_cce523a3afc943f397b078a6f15bafb3",
       "tabbable": null,
       "tooltip": null
      }
     },
     "6fd9ed85854f40e292f31e8ca0d88f11": {
      "model_module": "@jupyter-widgets/base",
      "model_module_version": "2.0.0",
      "model_name": "LayoutModel",
      "state": {
       "_model_module": "@jupyter-widgets/base",
       "_model_module_version": "2.0.0",
       "_model_name": "LayoutModel",
       "_view_count": null,
       "_view_module": "@jupyter-widgets/base",
       "_view_module_version": "2.0.0",
       "_view_name": "LayoutView",
       "align_content": null,
       "align_items": null,
       "align_self": null,
       "border_bottom": null,
       "border_left": null,
       "border_right": null,
       "border_top": null,
       "bottom": null,
       "display": null,
       "flex": null,
       "flex_flow": null,
       "grid_area": null,
       "grid_auto_columns": null,
       "grid_auto_flow": null,
       "grid_auto_rows": null,
       "grid_column": null,
       "grid_gap": null,
       "grid_row": null,
       "grid_template_areas": null,
       "grid_template_columns": null,
       "grid_template_rows": null,
       "height": null,
       "justify_content": null,
       "justify_items": null,
       "left": null,
       "margin": null,
       "max_height": null,
       "max_width": null,
       "min_height": null,
       "min_width": null,
       "object_fit": null,
       "object_position": null,
       "order": null,
       "overflow": null,
       "padding": null,
       "right": null,
       "top": null,
       "visibility": null,
       "width": null
      }
     },
     "89709c4df4714c5a9eb1116e01354d3e": {
      "model_module": "@jupyter-widgets/base",
      "model_module_version": "2.0.0",
      "model_name": "LayoutModel",
      "state": {
       "_model_module": "@jupyter-widgets/base",
       "_model_module_version": "2.0.0",
       "_model_name": "LayoutModel",
       "_view_count": null,
       "_view_module": "@jupyter-widgets/base",
       "_view_module_version": "2.0.0",
       "_view_name": "LayoutView",
       "align_content": null,
       "align_items": null,
       "align_self": null,
       "border_bottom": null,
       "border_left": null,
       "border_right": null,
       "border_top": null,
       "bottom": null,
       "display": null,
       "flex": null,
       "flex_flow": null,
       "grid_area": null,
       "grid_auto_columns": null,
       "grid_auto_flow": null,
       "grid_auto_rows": null,
       "grid_column": null,
       "grid_gap": null,
       "grid_row": null,
       "grid_template_areas": null,
       "grid_template_columns": null,
       "grid_template_rows": null,
       "height": null,
       "justify_content": null,
       "justify_items": null,
       "left": null,
       "margin": null,
       "max_height": null,
       "max_width": null,
       "min_height": null,
       "min_width": null,
       "object_fit": null,
       "object_position": null,
       "order": null,
       "overflow": null,
       "padding": null,
       "right": null,
       "top": null,
       "visibility": null,
       "width": null
      }
     },
     "8e4332db37484e83a17f22e177173756": {
      "model_module": "@jupyter-widgets/controls",
      "model_module_version": "2.0.0",
      "model_name": "HTMLModel",
      "state": {
       "_dom_classes": [],
       "_model_module": "@jupyter-widgets/controls",
       "_model_module_version": "2.0.0",
       "_model_name": "HTMLModel",
       "_view_count": null,
       "_view_module": "@jupyter-widgets/controls",
       "_view_module_version": "2.0.0",
       "_view_name": "HTMLView",
       "description": "",
       "description_allow_html": false,
       "layout": "IPY_MODEL_b7ed2b5a2e4b45799d3f322e4bfc5824",
       "placeholder": "​",
       "style": "IPY_MODEL_edd629ab6dbf48b2bdf7c3ffc88c1296",
       "tabbable": null,
       "tooltip": null,
       "value": "100%"
      }
     },
     "b7ed2b5a2e4b45799d3f322e4bfc5824": {
      "model_module": "@jupyter-widgets/base",
      "model_module_version": "2.0.0",
      "model_name": "LayoutModel",
      "state": {
       "_model_module": "@jupyter-widgets/base",
       "_model_module_version": "2.0.0",
       "_model_name": "LayoutModel",
       "_view_count": null,
       "_view_module": "@jupyter-widgets/base",
       "_view_module_version": "2.0.0",
       "_view_name": "LayoutView",
       "align_content": null,
       "align_items": null,
       "align_self": null,
       "border_bottom": null,
       "border_left": null,
       "border_right": null,
       "border_top": null,
       "bottom": null,
       "display": null,
       "flex": null,
       "flex_flow": null,
       "grid_area": null,
       "grid_auto_columns": null,
       "grid_auto_flow": null,
       "grid_auto_rows": null,
       "grid_column": null,
       "grid_gap": null,
       "grid_row": null,
       "grid_template_areas": null,
       "grid_template_columns": null,
       "grid_template_rows": null,
       "height": null,
       "justify_content": null,
       "justify_items": null,
       "left": null,
       "margin": null,
       "max_height": null,
       "max_width": null,
       "min_height": null,
       "min_width": null,
       "object_fit": null,
       "object_position": null,
       "order": null,
       "overflow": null,
       "padding": null,
       "right": null,
       "top": null,
       "visibility": null,
       "width": null
      }
     },
     "cce523a3afc943f397b078a6f15bafb3": {
      "model_module": "@jupyter-widgets/base",
      "model_module_version": "2.0.0",
      "model_name": "LayoutModel",
      "state": {
       "_model_module": "@jupyter-widgets/base",
       "_model_module_version": "2.0.0",
       "_model_name": "LayoutModel",
       "_view_count": null,
       "_view_module": "@jupyter-widgets/base",
       "_view_module_version": "2.0.0",
       "_view_name": "LayoutView",
       "align_content": null,
       "align_items": null,
       "align_self": null,
       "border_bottom": null,
       "border_left": null,
       "border_right": null,
       "border_top": null,
       "bottom": null,
       "display": null,
       "flex": null,
       "flex_flow": null,
       "grid_area": null,
       "grid_auto_columns": null,
       "grid_auto_flow": null,
       "grid_auto_rows": null,
       "grid_column": null,
       "grid_gap": null,
       "grid_row": null,
       "grid_template_areas": null,
       "grid_template_columns": null,
       "grid_template_rows": null,
       "height": null,
       "justify_content": null,
       "justify_items": null,
       "left": null,
       "margin": null,
       "max_height": null,
       "max_width": null,
       "min_height": null,
       "min_width": null,
       "object_fit": null,
       "object_position": null,
       "order": null,
       "overflow": null,
       "padding": null,
       "right": null,
       "top": null,
       "visibility": null,
       "width": null
      }
     },
     "d146e62a39c24a26922e65bb6e3195f6": {
      "model_module": "@jupyter-widgets/controls",
      "model_module_version": "2.0.0",
      "model_name": "HTMLModel",
      "state": {
       "_dom_classes": [],
       "_model_module": "@jupyter-widgets/controls",
       "_model_module_version": "2.0.0",
       "_model_name": "HTMLModel",
       "_view_count": null,
       "_view_module": "@jupyter-widgets/controls",
       "_view_module_version": "2.0.0",
       "_view_name": "HTMLView",
       "description": "",
       "description_allow_html": false,
       "layout": "IPY_MODEL_6fd9ed85854f40e292f31e8ca0d88f11",
       "placeholder": "​",
       "style": "IPY_MODEL_e66285b99b004d2fbc9a3dedd08e8fe3",
       "tabbable": null,
       "tooltip": null,
       "value": " 6/6 [03:13&lt;00:00, 31.75s/it]"
      }
     },
     "d4145fa0b33b4faab577b2a7860c3d5e": {
      "model_module": "@jupyter-widgets/controls",
      "model_module_version": "2.0.0",
      "model_name": "FloatProgressModel",
      "state": {
       "_dom_classes": [],
       "_model_module": "@jupyter-widgets/controls",
       "_model_module_version": "2.0.0",
       "_model_name": "FloatProgressModel",
       "_view_count": null,
       "_view_module": "@jupyter-widgets/controls",
       "_view_module_version": "2.0.0",
       "_view_name": "ProgressView",
       "bar_style": "success",
       "description": "",
       "description_allow_html": false,
       "layout": "IPY_MODEL_89709c4df4714c5a9eb1116e01354d3e",
       "max": 6.0,
       "min": 0.0,
       "orientation": "horizontal",
       "style": "IPY_MODEL_d57c4e74c8444c5399f5aac7a1c15ac6",
       "tabbable": null,
       "tooltip": null,
       "value": 6.0
      }
     },
     "d57c4e74c8444c5399f5aac7a1c15ac6": {
      "model_module": "@jupyter-widgets/controls",
      "model_module_version": "2.0.0",
      "model_name": "ProgressStyleModel",
      "state": {
       "_model_module": "@jupyter-widgets/controls",
       "_model_module_version": "2.0.0",
       "_model_name": "ProgressStyleModel",
       "_view_count": null,
       "_view_module": "@jupyter-widgets/base",
       "_view_module_version": "2.0.0",
       "_view_name": "StyleView",
       "bar_color": null,
       "description_width": ""
      }
     },
     "e66285b99b004d2fbc9a3dedd08e8fe3": {
      "model_module": "@jupyter-widgets/controls",
      "model_module_version": "2.0.0",
      "model_name": "HTMLStyleModel",
      "state": {
       "_model_module": "@jupyter-widgets/controls",
       "_model_module_version": "2.0.0",
       "_model_name": "HTMLStyleModel",
       "_view_count": null,
       "_view_module": "@jupyter-widgets/base",
       "_view_module_version": "2.0.0",
       "_view_name": "StyleView",
       "background": null,
       "description_width": "",
       "font_size": null,
       "text_color": null
      }
     },
     "edd629ab6dbf48b2bdf7c3ffc88c1296": {
      "model_module": "@jupyter-widgets/controls",
      "model_module_version": "2.0.0",
      "model_name": "HTMLStyleModel",
      "state": {
       "_model_module": "@jupyter-widgets/controls",
       "_model_module_version": "2.0.0",
       "_model_name": "HTMLStyleModel",
       "_view_count": null,
       "_view_module": "@jupyter-widgets/base",
       "_view_module_version": "2.0.0",
       "_view_name": "StyleView",
       "background": null,
       "description_width": "",
       "font_size": null,
       "text_color": null
      }
     }
    },
    "version_major": 2,
    "version_minor": 0
   }
  }
 },
 "nbformat": 4,
 "nbformat_minor": 5
}