{
 "cells": [
  {
   "cell_type": "markdown",
   "id": "92bcb855",
   "metadata": {
    "papermill": {
     "duration": 0.003904,
     "end_time": "2024-10-17T04:10:35.569372",
     "exception": false,
     "start_time": "2024-10-17T04:10:35.565468",
     "status": "completed"
    },
    "tags": []
   },
   "source": [
    "# MPIA Arxiv on Deck 2\n",
    "\n",
    "Contains the steps to produce the paper extractions."
   ]
  },
  {
   "cell_type": "code",
   "execution_count": 1,
   "id": "3a0d6e11",
   "metadata": {
    "execution": {
     "iopub.execute_input": "2024-10-17T04:10:35.576716Z",
     "iopub.status.busy": "2024-10-17T04:10:35.576177Z",
     "iopub.status.idle": "2024-10-17T04:10:36.089342Z",
     "shell.execute_reply": "2024-10-17T04:10:36.088700Z"
    },
    "papermill": {
     "duration": 0.517944,
     "end_time": "2024-10-17T04:10:36.090562",
     "exception": false,
     "start_time": "2024-10-17T04:10:35.572618",
     "status": "completed"
    },
    "tags": []
   },
   "outputs": [],
   "source": [
    "# Imports\n",
    "import os\n",
    "from IPython.display import Markdown, display\n",
    "from tqdm.notebook import tqdm\n",
    "import warnings\n",
    "from PIL import Image \n",
    "import re\n",
    "\n",
    "# requires arxiv_on_deck_2\n",
    "\n",
    "from arxiv_on_deck_2.arxiv2 import (get_new_papers, \n",
    "                                    get_paper_from_identifier,\n",
    "                                    retrieve_document_source, \n",
    "                                    get_markdown_badge)\n",
    "from arxiv_on_deck_2 import (latex,\n",
    "                             latex_bib,\n",
    "                             mpia,\n",
    "                             highlight_authors_in_list)\n",
    "\n",
    "# Sometimes images are really big\n",
    "Image.MAX_IMAGE_PIXELS = 1000000000 "
   ]
  },
  {
   "cell_type": "code",
   "execution_count": 2,
   "id": "22aa9d44",
   "metadata": {
    "execution": {
     "iopub.execute_input": "2024-10-17T04:10:36.098212Z",
     "iopub.status.busy": "2024-10-17T04:10:36.097668Z",
     "iopub.status.idle": "2024-10-17T04:10:36.105537Z",
     "shell.execute_reply": "2024-10-17T04:10:36.104911Z"
    },
    "papermill": {
     "duration": 0.012644,
     "end_time": "2024-10-17T04:10:36.106543",
     "exception": false,
     "start_time": "2024-10-17T04:10:36.093899",
     "status": "completed"
    },
    "tags": []
   },
   "outputs": [],
   "source": [
    "# Some useful definitions.\n",
    "\n",
    "class AffiliationWarning(UserWarning):\n",
    "    pass\n",
    "\n",
    "class AffiliationError(RuntimeError):\n",
    "    pass\n",
    "\n",
    "def validation(source: str):\n",
    "    \"\"\"Raises error paper during parsing of source file\n",
    "    \n",
    "    Allows checks before parsing TeX code.\n",
    "    \n",
    "    Raises AffiliationWarning\n",
    "    \"\"\"\n",
    "    check = mpia.affiliation_verifications(source, verbose=True)\n",
    "    if check is not True:\n",
    "        raise AffiliationError(\"mpia.affiliation_verifications: \" + check)\n",
    "\n",
    "        \n",
    "warnings.simplefilter('always', AffiliationWarning)\n",
    "\n",
    "\n",
    "def get_markdown_qrcode(paper_id: str):\n",
    "    \"\"\" Generate a qrcode to the arxiv page using qrserver.com\n",
    "    \n",
    "    :param paper: Arxiv paper\n",
    "    :returns: markdown text\n",
    "    \"\"\"\n",
    "    url = r\"https://api.qrserver.com/v1/create-qr-code/?size=100x100&data=\"\n",
    "    txt = f\"\"\"<img src={url}\"https://arxiv.org/abs/{paper_id}\">\"\"\"\n",
    "    txt = '<div id=\"qrcode\">' + txt + '</div>'\n",
    "    return txt\n",
    "\n",
    "\n",
    "def clean_non_western_encoded_characters_commands(text: str) -> str:\n",
    "    \"\"\" Remove non-western encoded characters from a string\n",
    "    List may need to grow.\n",
    "    \n",
    "    :param text: the text to clean\n",
    "    :return: the cleaned text\n",
    "    \"\"\"\n",
    "    text = re.sub(r\"(\\\\begin{CJK}{UTF8}{gbsn})(.*?)(\\\\end{CJK})\", r\"\\2\", text)\n",
    "    return text\n",
    "\n",
    "\n",
    "def get_initials(name: str) -> str:\n",
    "    \"\"\" Get the short name, e.g., A.-B. FamName\n",
    "    :param name: full name\n",
    "    :returns: initials\n",
    "    \"\"\"\n",
    "    initials = []\n",
    "    # account for non western names often in ()\n",
    "    if '(' in name:\n",
    "        name = clean_non_western_encoded_characters_commands(name)\n",
    "        suffix = re.findall(r\"\\((.*?)\\)\", name)[0]\n",
    "        name = name.replace(f\"({suffix})\", '')\n",
    "    else:\n",
    "        suffix = ''\n",
    "    split = name.split()\n",
    "    for token in split[:-1]:\n",
    "        if '-' in token:\n",
    "            current = '-'.join([k[0] + '.' for k in token.split('-')])\n",
    "        else:\n",
    "            current = token[0] + '.'\n",
    "        initials.append(current)\n",
    "    initials.append(split[-1].strip())\n",
    "    if suffix:\n",
    "        initials.append(f\"({suffix})\")\n",
    "    return ' '.join(initials)"
   ]
  },
  {
   "cell_type": "markdown",
   "id": "14bd6310",
   "metadata": {
    "papermill": {
     "duration": 0.003052,
     "end_time": "2024-10-17T04:10:36.112637",
     "exception": false,
     "start_time": "2024-10-17T04:10:36.109585",
     "status": "completed"
    },
    "tags": []
   },
   "source": [
    "## get list of arxiv paper candidates\n",
    "\n",
    "We use the MPIA mitarbeiter list webpage from mpia.de to get author names\n",
    "We then get all new papers from Arxiv and match authors"
   ]
  },
  {
   "cell_type": "code",
   "execution_count": 3,
   "id": "7ea813a8",
   "metadata": {
    "execution": {
     "iopub.execute_input": "2024-10-17T04:10:36.119822Z",
     "iopub.status.busy": "2024-10-17T04:10:36.119298Z",
     "iopub.status.idle": "2024-10-17T04:10:52.044851Z",
     "shell.execute_reply": "2024-10-17T04:10:52.044255Z"
    },
    "papermill": {
     "duration": 15.930429,
     "end_time": "2024-10-17T04:10:52.046035",
     "exception": false,
     "start_time": "2024-10-17T04:10:36.115606",
     "status": "completed"
    },
    "tags": []
   },
   "outputs": [],
   "source": [
    "# deal with the author list and edge cases of people that cannot be consistent on their name  \n",
    "\n",
    "def filter_non_scientists(name: str) -> bool:\n",
    "    \"\"\" Loose filter on expected authorships\n",
    "\n",
    "    removing IT, administration, technical staff\n",
    "    :param name: name\n",
    "    :returns: False if name is not a scientist\n",
    "    \"\"\"\n",
    "    remove_list = ['Licht', 'Binroth', 'Witzel', 'Jordan',\n",
    "                   'Zähringer', 'Scheerer', 'Hoffmann', 'Düe',\n",
    "                   'Hellmich', 'Enkler-Scharpegge', 'Witte-Nguy',\n",
    "                   'Dehen', 'Beckmann', 'Jager', 'Jäger'\n",
    "                  ]\n",
    "\n",
    "    for k in remove_list:\n",
    "        if k in name:\n",
    "            return False\n",
    "    return True\n",
    "\n",
    "def add_author_to_list(author_list: list) -> list:\n",
    "    \"\"\" Add author to list if not already in list\n",
    "    \n",
    "    :param author: author name\n",
    "    :param author_list: list of authors\n",
    "    :returns: updated list of authors\n",
    "    \"\"\"\n",
    "    add_list = ['T. Henning']\n",
    "\n",
    "    for author in add_list:\n",
    "        if author not in author_list:\n",
    "            author_list.append(author)\n",
    "    return author_list\n",
    "\n",
    "# get list from MPIA website\n",
    "# filter for non-scientists (mpia.get_mpia_mitarbeiter_list() does some filtering)\n",
    "mpia_authors = [k[1] for k in mpia.get_mpia_mitarbeiter_list() if filter_non_scientists(k[1])]\n",
    "# add some missing author because of inconsistencies in their MPIA name and author name on papers\n",
    "mpia_authors = add_author_to_list(mpia_authors)"
   ]
  },
  {
   "cell_type": "code",
   "execution_count": 4,
   "id": "2645e73a",
   "metadata": {
    "execution": {
     "iopub.execute_input": "2024-10-17T04:10:52.053554Z",
     "iopub.status.busy": "2024-10-17T04:10:52.053155Z",
     "iopub.status.idle": "2024-10-17T04:10:52.862515Z",
     "shell.execute_reply": "2024-10-17T04:10:52.861942Z"
    },
    "papermill": {
     "duration": 0.814048,
     "end_time": "2024-10-17T04:10:52.863476",
     "exception": false,
     "start_time": "2024-10-17T04:10:52.049428",
     "status": "completed"
    },
    "tags": []
   },
   "outputs": [
    {
     "name": "stdout",
     "output_type": "stream",
     "text": [
      "W. Brandner  ->  W. Brandner  |  ['W. Brandner']\n",
      "G. Chauvin  ->  G. Chauvin  |  ['G. Chauvin']\n",
      "P. Garcia  ->  A. P. Garcia  |  ['P. Garcia']\n",
      "T. Henning  ->  T. Henning  |  ['T. Henning']\n",
      "L. Kreidberg  ->  L. Kreidberg  |  ['L. Kreidberg']\n",
      "G.-D. Marleau  ->  G.-D. Marleau  |  ['G.-D. Marleau']\n",
      "J. Sauter  ->  J. Sauter  |  ['J. Sauter']\n",
      "X. Zhang  ->  X. Zhang  |  ['X. Zhang']\n",
      "T. Suhasaria  ->  T. Suhasaria  |  ['T. Suhasaria']\n",
      "S. M. Wee  ->  S. M. Wee  |  ['S. M. Wee']\n",
      "G. Perotti  ->  G. Perotti  |  ['G. Perotti']\n",
      "T. Henning  ->  T. Henning  |  ['T. Henning']\n"
     ]
    },
    {
     "name": "stdout",
     "output_type": "stream",
     "text": [
      "Arxiv has 61 new papers today\n",
      "          3 with possible author matches\n"
     ]
    }
   ],
   "source": [
    "new_papers = get_new_papers()\n",
    "# add manual references\n",
    "add_paper_refs = []\n",
    "new_papers.extend([get_paper_from_identifier(k) for k in add_paper_refs])\n",
    "\n",
    "def robust_call(fn, value, *args, **kwargs):\n",
    "    try:\n",
    "        return fn(value, *args, **kwargs)\n",
    "    except Exception:\n",
    "        return value\n",
    "\n",
    "candidates = []\n",
    "for paperk in new_papers:\n",
    "    # Check author list with their initials\n",
    "    normed_author_list = [robust_call(mpia.get_initials, k) for k in paperk['authors']]\n",
    "    hl_authors = highlight_authors_in_list(normed_author_list, mpia_authors, verbose=True)\n",
    "    matches = [(hl, orig) for hl, orig in zip(hl_authors, paperk['authors']) if 'mark' in hl]\n",
    "    paperk['authors'] = hl_authors\n",
    "    if matches:\n",
    "        # only select paper if an author matched our list\n",
    "        candidates.append(paperk)\n",
    "print(\"\"\"Arxiv has {0:,d} new papers today\"\"\".format(len(new_papers)))        \n",
    "print(\"\"\"          {0:,d} with possible author matches\"\"\".format(len(candidates)))"
   ]
  },
  {
   "cell_type": "markdown",
   "id": "3543b34a",
   "metadata": {
    "papermill": {
     "duration": 0.00313,
     "end_time": "2024-10-17T04:10:52.870135",
     "exception": false,
     "start_time": "2024-10-17T04:10:52.867005",
     "status": "completed"
    },
    "tags": []
   },
   "source": [
    "# Parse sources and generate relevant outputs\n",
    "\n",
    "From the candidates, we do the following steps:\n",
    "* get their tarball from ArXiv (and extract data)\n",
    "* find the main .tex file: find one with \\documentclass{...} (sometimes it's non trivial)\n",
    "* Check affiliations with :func:`validation`, which uses :func:`mpia.affiliation_verifications`\n",
    "* If passing the affiliations: we parse the .tex source\n",
    "   * inject sub-documents into the main (flatten the main document)\n",
    "   * parse structure, extract information (title, abstract, authors, figures...)\n",
    "   * handles `\\graphicspath` if provided\n",
    "* Generate the .md document."
   ]
  },
  {
   "cell_type": "code",
   "execution_count": 5,
   "id": "9576b79e",
   "metadata": {
    "execution": {
     "iopub.execute_input": "2024-10-17T04:10:52.877470Z",
     "iopub.status.busy": "2024-10-17T04:10:52.877069Z",
     "iopub.status.idle": "2024-10-17T04:10:59.583011Z",
     "shell.execute_reply": "2024-10-17T04:10:59.582238Z"
    },
    "papermill": {
     "duration": 6.710815,
     "end_time": "2024-10-17T04:10:59.584074",
     "exception": false,
     "start_time": "2024-10-17T04:10:52.873259",
     "status": "completed"
    },
    "scrolled": false,
    "tags": []
   },
   "outputs": [
    {
     "data": {
      "application/vnd.jupyter.widget-view+json": {
       "model_id": "24122dae22c14a5f925d26aec7065891",
       "version_major": 2,
       "version_minor": 0
      },
      "text/plain": [
       "  0%|          | 0/3 [00:00<?, ?it/s]"
      ]
     },
     "metadata": {},
     "output_type": "display_data"
    },
    {
     "name": "stdout",
     "output_type": "stream",
     "text": [
      "Retrieving document from  https://arxiv.org/e-print/2410.11953\n"
     ]
    },
    {
     "name": "stderr",
     "output_type": "stream",
     "text": [
      "/tmp/ipykernel_2874/2822249172.py:52: LatexWarning: 2410.11953 did not run properly\n",
      "not a gzip file\n",
      "  warnings.warn(latex.LatexWarning(f\"{paper_id:s} did not run properly\\n\" +\n"
     ]
    },
    {
     "name": "stdout",
     "output_type": "stream",
     "text": [
      "Retrieving document from  https://arxiv.org/e-print/2410.12202\n"
     ]
    },
    {
     "name": "stdout",
     "output_type": "stream",
     "text": [
      "extracting tarball to tmp_2410.12202..."
     ]
    },
    {
     "name": "stdout",
     "output_type": "stream",
     "text": [
      " done.\n",
      "Retrieving document from  https://arxiv.org/e-print/2410.12235\n",
      "extracting tarball to tmp_2410.12235... done.\n"
     ]
    },
    {
     "name": "stdout",
     "output_type": "stream",
     "text": [
      "Found 37 bibliographic references in tmp_2410.12235/EA.bbl.\n"
     ]
    }
   ],
   "source": [
    "documents = []\n",
    "failed = []\n",
    "for paper in tqdm(candidates):\n",
    "    # debug crap\n",
    "    paper['identifier'] = paper['identifier'].lower().replace('arxiv:', '').replace(r'\\n', '').strip()\n",
    "    paper_id = paper['identifier']\n",
    "    \n",
    "    folder = f'tmp_{paper_id}'\n",
    "\n",
    "    try:\n",
    "        if not os.path.isdir(folder):\n",
    "            folder = retrieve_document_source(f\"{paper_id}\", f'tmp_{paper_id}')\n",
    "        \n",
    "        try:\n",
    "            doc = latex.LatexDocument(folder, validation=validation)    \n",
    "        except AffiliationError as affilerror:\n",
    "            msg = f\"ArXiv:{paper_id:s} is not an MPIA paper... \" + str(affilerror)\n",
    "            failed.append((paper, \"affiliation error: \" + str(affilerror) ))\n",
    "            continue\n",
    "        \n",
    "        # Hack because sometimes author parsing does not work well\n",
    "        if (len(doc.authors) != len(paper['authors'])):\n",
    "            doc._authors = paper['authors']\n",
    "        else:\n",
    "            # highlight authors (FIXME: doc.highlight_authors)\n",
    "            # done on arxiv paper already\n",
    "            doc._authors = highlight_authors_in_list(\n",
    "                [get_initials(k) for k in doc.authors], \n",
    "                mpia_authors, verbose=True)\n",
    "        if (doc.abstract) in (None, ''):\n",
    "            doc._abstract = paper['abstract']\n",
    "            \n",
    "        doc.comment = (get_markdown_badge(paper_id) + \n",
    "                       \"<mark>Appeared on: \" + paper['date'] + \"</mark> - \")\n",
    "        if paper['comments']:\n",
    "            doc.comment += \" _\" + paper['comments'] + \"_\"\n",
    "        \n",
    "        full_md = doc.generate_markdown_text()\n",
    "        \n",
    "        full_md += get_markdown_qrcode(paper_id)\n",
    "        \n",
    "        # replace citations\n",
    "        try:\n",
    "            bibdata = latex_bib.LatexBib.from_doc(doc)\n",
    "            full_md = latex_bib.replace_citations(full_md, bibdata)\n",
    "        except Exception as e:\n",
    "            print(\"Issues with the citations\")\n",
    "            print(e)\n",
    "        \n",
    "        documents.append((paper_id, full_md))\n",
    "    except Exception as e:\n",
    "        warnings.warn(latex.LatexWarning(f\"{paper_id:s} did not run properly\\n\" +\n",
    "                                         str(e)\n",
    "                                        ))\n",
    "        failed.append((paper, \"latex error \" + str(e)))"
   ]
  },
  {
   "cell_type": "markdown",
   "id": "2505a25c",
   "metadata": {
    "papermill": {
     "duration": 0.00369,
     "end_time": "2024-10-17T04:10:59.591712",
     "exception": false,
     "start_time": "2024-10-17T04:10:59.588022",
     "status": "completed"
    },
    "tags": []
   },
   "source": [
    "### Export the logs\n",
    "\n",
    "Throughout, we also keep track of the logs per paper. see `logs-{today date}.md` "
   ]
  },
  {
   "cell_type": "code",
   "execution_count": 6,
   "id": "d733828a",
   "metadata": {
    "execution": {
     "iopub.execute_input": "2024-10-17T04:10:59.600021Z",
     "iopub.status.busy": "2024-10-17T04:10:59.599525Z",
     "iopub.status.idle": "2024-10-17T04:10:59.612617Z",
     "shell.execute_reply": "2024-10-17T04:10:59.612006Z"
    },
    "papermill": {
     "duration": 0.018471,
     "end_time": "2024-10-17T04:10:59.613726",
     "exception": false,
     "start_time": "2024-10-17T04:10:59.595255",
     "status": "completed"
    },
    "scrolled": false,
    "tags": []
   },
   "outputs": [
    {
     "data": {
      "text/markdown": [
       "## Successful papers"
      ],
      "text/plain": [
       "<IPython.core.display.Markdown object>"
      ]
     },
     "metadata": {},
     "output_type": "display_data"
    },
    {
     "data": {
      "text/markdown": [
       "\n",
       "|||\n",
       "|---:|:---|\n",
       "| [![arXiv](https://img.shields.io/badge/arXiv-2410.12235-b31b1b.svg)](https://arxiv.org/abs/2410.12235) | **Infrared Spectra of Solid-State Ethanolamine: Laboratory Data in Support of JWST Observations**  |\n",
       "|| <mark>T. Suhasaria</mark>, et al. -- incl., <mark>S. M. Wee</mark>, <mark>G. Perotti</mark>, <mark>T. Henning</mark> |\n",
       "|*Appeared on*| *2024-10-17*|\n",
       "|*Comments*| *8 pages, 5 figures*|\n",
       "|**Abstract**|            Ethanolamine (NH$_2$CH$_2$CH$_2$OH, EA) has been identified in the gas phase of the ISM within molecular clouds. Although EA has not been directly observed in the molecular ice phase, a solid state formation mechanism has been proposed. However, the current literature lacks an estimation of the infrared band strengths of EA ices. We conducted an experimental investigation of solid EA ice at low temperatures to ascertain its infrared band strengths, phase transition temperature, and multilayer binding energy. The commonly used laser interferometry method was not applied. Infrared band strengths were determined using three distinct methods. The obtained lab spectrum of EA was compared with the publicly available MIRI MRS James Webb Space Telescope observations toward a low mass protostar. The phase transition temperature for EA ice falls within the range of 175 to 185 K. Among the discussed methods, the simple pressure gauge method provides a reasonable estimate of band strength. We derive a band strength value of about $1\\times10^{-17}$ cm molecule$^{-1}$ for the NH$_2$ bending mode in the EA molecules. Additionally, temperature-programmed desorption analysis yielded a multilayer desorption energy of 0.61$\\pm$0.01 eV. By comparing the laboratory data documented in this study with the JWST spectrum of the low mass protostar IRAS 2A, an upper-limit for the EA ice abundances was derived.         |"
      ],
      "text/plain": [
       "[2410.12235] Infrared Spectra of Solid-State Ethanolamine: Laboratory Data in Support of JWST Observations\n",
       "\t<mark>T. Suhasaria</mark>, et al. -- incl., <mark>S. M. Wee</mark>, <mark>G. Perotti</mark>, <mark>T. Henning</mark>"
      ]
     },
     "metadata": {},
     "output_type": "display_data"
    },
    {
     "data": {
      "text/markdown": [
       "## Failed papers"
      ],
      "text/plain": [
       "<IPython.core.display.Markdown object>"
      ]
     },
     "metadata": {},
     "output_type": "display_data"
    },
    {
     "data": {
      "text/markdown": [
       "\n",
       "|||\n",
       "|---:|:---|\n",
       "| [![arXiv](https://img.shields.io/badge/arXiv-2410.12202-b31b1b.svg)](https://arxiv.org/abs/2410.12202) | **Simultaneous Eruption and Shrinkage of Pre-existing Flare Loops during a Subsequent Solar Eruption**  |\n",
       "|| H. Chen, et al. -- incl., <mark>X. Zhang</mark> |\n",
       "|*Appeared on*| *2024-10-17*|\n",
       "|*Comments*| *The paper has been accepted for publication in the ApJ*|\n",
       "|**Abstract**|            We investigated two consecutive solar eruption events in the solar active region (AR) 12994 at the solar eastern limb on 2022 April 15. We found that the flare loops formed by the first eruption were involved in the second eruption. During the initial stage of the second flare, the middle part of these flare loops (E-loops) erupted outward along with the flux ropes below, while the parts of the flare loops (I-loops1 and I-loops2) on either side of the E-loops first rose and then contracted. Approximately 1 hour after the eruption, the heights of I-loops1 and I-loops2 decreased by 9 Mm and 45 Mm, respectively, compared to before the eruption. Their maximum descent velocities were 30 km/s and 130 km/s, respectively. The differential emission measure (DEM) results indicate that the plasma above I-loops1 and I-loops2 began to be heated about 23 minutes and 44 minutes after the start of the second flare, respectively. Within 20 minutes, the plasma temperature in these regions increased from ~3 MK to 6 MK. We proposed an adiabatic heating mechanism that magnetic energy would be converted into thermal and kinetic energy when the pre-stretched loops contract. Our calculations show that the magnetic energy required to heat the two high-temperature regions are 10^29-10^30 erg, which correspond to a loss of field strength of 2-3 G.         |\n",
       "|<p style=\"color:green\"> **ERROR** </p>| <p style=\"color:green\">affiliation error: mpia.affiliation_verifications: 'Heidelberg' keyword not found.</p> |"
      ],
      "text/plain": [
       "<IPython.core.display.Markdown object>"
      ]
     },
     "metadata": {},
     "output_type": "display_data"
    },
    {
     "data": {
      "text/markdown": [
       "\n",
       "|||\n",
       "|---:|:---|\n",
       "| [![arXiv](https://img.shields.io/badge/arXiv-2410.11953-b31b1b.svg)](https://arxiv.org/abs/2410.11953) | **The cool brown dwarf Gliese 229 B is a close binary**  |\n",
       "|| J. W. Xuan, et al. -- incl., <mark>W. Brandner</mark>, <mark>G. Chauvin</mark>, <mark>P. Garcia</mark>, <mark>T. Henning</mark>, <mark>L. Kreidberg</mark>, <mark>G.-D. Marleau</mark>, <mark>J. Sauter</mark> |\n",
       "|*Appeared on*| *2024-10-17*|\n",
       "|*Comments*| *Published in Nature. The Version of Record of this article is located at this https URL*|\n",
       "|**Abstract**|            Owing to their similarities with giant exoplanets, brown dwarf companions of stars provide insights into the fundamental processes of planet formation and evolution. From their orbits, several brown dwarf companions are found to be more massive than theoretical predictions given their luminosities and the ages of their host stars (e.g. Brandt et al. 2021, Cheetham et al. 2018, Li et al. 2023). Either the theory is incomplete or these objects are not single entities. For example, they could be two brown dwarfs each with a lower mass and intrinsic luminosity (Brandt et al. 2021, Howe et al. 2024). The most problematic example is Gliese 229 B (Nakajima et al. 1995, Oppenheimer et al. 1995), which is at least 2-6 times less luminous than model predictions given its dynamical mass of $71.4\\pm0.6$ Jupiter masses ($M_{\\rm Jup}$) (Brandt et al. 2021). We observed Gliese 229 B with the GRAVITY interferometer and, separately, the CRIRES+ spectrograph at the Very Large Telescope. Both sets of observations independently resolve Gliese 229 B into two components, Gliese 229 Ba and Bb, settling the conflict between theory and observations. The two objects have a flux ratio of $0.47\\pm0.03$ at a wavelength of 2 $\\mu$m and masses of $38.1\\pm1.0$ and $34.4\\pm1.5$ $M_{\\rm Jup}$, respectively. They orbit each other every 12.1 days with a semimajor axis of 0.042 astronomical units (AU). The discovery of Gliese 229 BaBb, each only a few times more massive than the most massive planets, and separated by 16 times the Earth-moon distance, raises new questions about the formation and prevalence of tight binary brown dwarfs around stars.         |\n",
       "|<p style=\"color:red\"> **ERROR** </p>| <p style=\"color:red\">latex error not a gzip file</p> |"
      ],
      "text/plain": [
       "<IPython.core.display.Markdown object>"
      ]
     },
     "metadata": {},
     "output_type": "display_data"
    }
   ],
   "source": [
    "import datetime\n",
    "today = str(datetime.date.today())\n",
    "logfile = f\"_build/html/logs/log-{today}.md\"\n",
    "\n",
    "\n",
    "with open(logfile, 'w') as logs:\n",
    "    # Success\n",
    "    logs.write(f'# Arxiv on Deck 2: Logs - {today}\\n\\n')\n",
    "    logs.write(\"\"\"* Arxiv had {0:,d} new papers\\n\"\"\".format(len(new_papers)))\n",
    "    logs.write(\"\"\"    * {0:,d} with possible author matches\\n\\n\"\"\".format(len(candidates)))\n",
    "    logs.write(\"## Sucessful papers\\n\\n\")\n",
    "    display(Markdown(\"## Successful papers\"))\n",
    "    success = [k[0] for k in documents]\n",
    "    for candid in candidates:\n",
    "        if candid['identifier'].split(':')[-1] in success:\n",
    "            display(candid)\n",
    "            logs.write(candid.generate_markdown_text() + '\\n\\n')\n",
    "\n",
    "    ## failed\n",
    "    logs.write(\"## Failed papers\\n\\n\")\n",
    "    display(Markdown(\"## Failed papers\"))\n",
    "    failed = sorted(failed, key=lambda x: x[1])\n",
    "    current_reason = \"\"\n",
    "    for paper, reason in failed:\n",
    "        if 'affiliation' in reason:\n",
    "            color = 'green'\n",
    "        else:\n",
    "            color = 'red'\n",
    "        data = Markdown(\n",
    "                paper.generate_markdown_text() + \n",
    "                f'\\n|<p style=\"color:{color:s}\"> **ERROR** </p>| <p style=\"color:{color:s}\">{reason:s}</p> |'\n",
    "               )\n",
    "        if reason != current_reason:\n",
    "            logs.write(f'### {reason:s} \\n\\n')\n",
    "            current_reason = reason\n",
    "        logs.write(data.data + '\\n\\n')\n",
    "        \n",
    "        # only display here the important errors (all in logs)\n",
    "        # if color in ('red',):\n",
    "        display(data)"
   ]
  },
  {
   "cell_type": "markdown",
   "id": "472d20ee",
   "metadata": {
    "papermill": {
     "duration": 0.004012,
     "end_time": "2024-10-17T04:10:59.621932",
     "exception": false,
     "start_time": "2024-10-17T04:10:59.617920",
     "status": "completed"
    },
    "tags": []
   },
   "source": [
    "## Export documents\n",
    "\n",
    "We now write the .md files and export relevant images"
   ]
  },
  {
   "cell_type": "code",
   "execution_count": 7,
   "id": "d426aed9",
   "metadata": {
    "execution": {
     "iopub.execute_input": "2024-10-17T04:10:59.631319Z",
     "iopub.status.busy": "2024-10-17T04:10:59.630962Z",
     "iopub.status.idle": "2024-10-17T04:10:59.637703Z",
     "shell.execute_reply": "2024-10-17T04:10:59.637089Z"
    },
    "papermill": {
     "duration": 0.012609,
     "end_time": "2024-10-17T04:10:59.638618",
     "exception": false,
     "start_time": "2024-10-17T04:10:59.626009",
     "status": "completed"
    },
    "tags": []
   },
   "outputs": [],
   "source": [
    "def export_markdown_summary(md: str, md_fname:str, directory: str):\n",
    "    \"\"\"Export MD document and associated relevant images\"\"\"\n",
    "    import os\n",
    "    import shutil\n",
    "    import re\n",
    "\n",
    "    if (os.path.exists(directory) and not os.path.isdir(directory)):\n",
    "        raise RuntimeError(f\"a non-directory file exists with name {directory:s}\")\n",
    "\n",
    "    if (not os.path.exists(directory)):\n",
    "        print(f\"creating directory {directory:s}\")\n",
    "        os.mkdir(directory)\n",
    "\n",
    "    fig_fnames = (re.compile(r'\\[Fig.*\\]\\((.*)\\)').findall(md) + \n",
    "                  re.compile(r'\\<img src=\"([^>\\s]*)\"[^>]*/>').findall(md))\n",
    "    print(\"found figures\", fig_fnames)\n",
    "    for fname in fig_fnames:\n",
    "        if 'http' in fname:\n",
    "            # No need to copy online figures\n",
    "            continue\n",
    "        if not os.path.exists(fname):\n",
    "            print(\"file not found\", fname)\n",
    "            continue\n",
    "        print(\"copying \", fname, \"to\", directory)\n",
    "        destdir = os.path.join(directory, os.path.dirname(fname))\n",
    "        destfname = os.path.join(destdir, os.path.basename(fname))\n",
    "        try:\n",
    "            os.makedirs(destdir)\n",
    "        except FileExistsError:\n",
    "            pass\n",
    "        shutil.copy(fname, destfname)\n",
    "    with open(os.path.join(directory, md_fname), 'w') as fout:\n",
    "        fout.write(md)\n",
    "    print(\"exported in \", os.path.join(directory, md_fname))\n",
    "    [print(\"    + \" + os.path.join(directory,fk)) for fk in fig_fnames]"
   ]
  },
  {
   "cell_type": "code",
   "execution_count": 8,
   "id": "014d04a4",
   "metadata": {
    "execution": {
     "iopub.execute_input": "2024-10-17T04:10:59.647801Z",
     "iopub.status.busy": "2024-10-17T04:10:59.647324Z",
     "iopub.status.idle": "2024-10-17T04:10:59.652958Z",
     "shell.execute_reply": "2024-10-17T04:10:59.652421Z"
    },
    "papermill": {
     "duration": 0.011135,
     "end_time": "2024-10-17T04:10:59.653866",
     "exception": false,
     "start_time": "2024-10-17T04:10:59.642731",
     "status": "completed"
    },
    "tags": []
   },
   "outputs": [
    {
     "name": "stdout",
     "output_type": "stream",
     "text": [
      "found figures ['tmp_2410.12235/./Fig5.png', 'tmp_2410.12235/./Fig1.png', 'tmp_2410.12235/./Fig3.png']\n",
      "copying  tmp_2410.12235/./Fig5.png to _build/html/\n",
      "copying  tmp_2410.12235/./Fig1.png to _build/html/\n",
      "copying  tmp_2410.12235/./Fig3.png to _build/html/\n",
      "exported in  _build/html/2410.12235.md\n",
      "    + _build/html/tmp_2410.12235/./Fig5.png\n",
      "    + _build/html/tmp_2410.12235/./Fig1.png\n",
      "    + _build/html/tmp_2410.12235/./Fig3.png\n"
     ]
    }
   ],
   "source": [
    "for paper_id, md in documents:\n",
    "    export_markdown_summary(md, f\"{paper_id:s}.md\", '_build/html/')"
   ]
  },
  {
   "cell_type": "markdown",
   "id": "f087a0a7",
   "metadata": {
    "papermill": {
     "duration": 0.004138,
     "end_time": "2024-10-17T04:10:59.662196",
     "exception": false,
     "start_time": "2024-10-17T04:10:59.658058",
     "status": "completed"
    },
    "tags": []
   },
   "source": [
    "## Display the papers\n",
    "\n",
    "Not necessary but allows for a quick check."
   ]
  },
  {
   "cell_type": "code",
   "execution_count": 9,
   "id": "fd25f625",
   "metadata": {
    "execution": {
     "iopub.execute_input": "2024-10-17T04:10:59.671345Z",
     "iopub.status.busy": "2024-10-17T04:10:59.671108Z",
     "iopub.status.idle": "2024-10-17T04:10:59.675591Z",
     "shell.execute_reply": "2024-10-17T04:10:59.675091Z"
    },
    "papermill": {
     "duration": 0.010089,
     "end_time": "2024-10-17T04:10:59.676496",
     "exception": false,
     "start_time": "2024-10-17T04:10:59.666407",
     "status": "completed"
    },
    "scrolled": false,
    "tags": []
   },
   "outputs": [
    {
     "data": {
      "text/markdown": [
       "<div class=\"macros\" style=\"visibility:hidden;\">\n",
       "$\\newcommand{\\ensuremath}{}$\n",
       "$\\newcommand{\\xspace}{}$\n",
       "$\\newcommand{\\object}[1]{\\texttt{#1}}$\n",
       "$\\newcommand{\\farcs}{{.}''}$\n",
       "$\\newcommand{\\farcm}{{.}'}$\n",
       "$\\newcommand{\\arcsec}{''}$\n",
       "$\\newcommand{\\arcmin}{'}$\n",
       "$\\newcommand{\\ion}[2]{#1#2}$\n",
       "$\\newcommand{\\textsc}[1]{\\textrm{#1}}$\n",
       "$\\newcommand{\\hl}[1]{\\textrm{#1}}$\n",
       "$\\newcommand{\\footnote}[1]{}$\n",
       "$\\newcommand{\\textmathbf}[1]{\\textbf{\\boldmath#1}}$</div>\n",
       "\n",
       "\n",
       "\n",
       "<div id=\"title\">\n",
       "\n",
       "# Infrared Spectra of Solid-State Ethanolamine: Laboratory Data in Support of JWST Observations\n",
       "\n",
       "</div>\n",
       "<div id=\"comments\">\n",
       "\n",
       "[![arXiv](https://img.shields.io/badge/arXiv-2410.12235-b31b1b.svg)](https://arxiv.org/abs/2410.12235)<mark>Appeared on: 2024-10-17</mark> -  _8 pages, 5 figures_\n",
       "\n",
       "</div>\n",
       "<div id=\"authors\">\n",
       "\n",
       "<mark>T. Suhasaria</mark>, et al. -- incl., <mark>S. M. Wee</mark>, <mark>G. Perotti</mark>, <mark>T. Henning</mark>\n",
       "\n",
       "</div>\n",
       "<div id=\"abstract\">\n",
       "\n",
       "**Abstract:** Ethanolamine ($NH_2$ $CH_2$ $CH_2$ OH, EA) has been identified in the gas phase of the interstellar medium within molecular clouds. Although EA hasn't been directly observed in the molecular ice phase, a solid-state formation mechanism has been proposed. However, the current literature lacks an estimation of the infrared band strengths of EA ices, which are crucial data for quantifying potential astronomical observations and laboratory findings related to their formation or destruction via energetic processing. We conducted an experimental investigation of solid EA ice at low temperatures to ascertain its infrared band strengths, phase transition temperature, and multilayer binding energy. Since the refractive index and the density of EA ice are unknown, the commonly used laser interferometry method was not applied. Infrared band strengths were determined using three distinct methods. Besides the evaluation of band strengths of EA, we also tested the advantages and disadvantages of different approaches used for this purpose. The obtained lab spectrum of EA was compared with the publicly available MIRI MRS James Webb Space Telescope observations toward a low mass protostar. We used a combination of Fourier-transform transmission infrared spectroscopy and quadrupole mass spectrometry. The phase transition temperature for EA ice falls within the range of 175 to 185 K. Among the discussed methods, the simple pressure gauge method provides a reasonable estimate of band strength. We derive a band strength value of about $1\\times10^{-17}$ cm molecule $^{-1}$ for the $NH_2$ bending mode in the EA molecules. Additionally, temperature-programmed desorption analysis yielded a multilayer desorption energy of 0.61 $\\pm$ 0.01 eV. By comparing the laboratory data documented in this study with the JWST spectrum of the low mass protostar IRAS 2A, an upper-limit for the EA ice abundances was derived. This study addresses the lack of quantitative infrared measurements of EA at low temperatures, crucial for understanding its astronomical and laboratory presence and formation routes. Our approach presents a simple, yet effective method for determining the infrared band strengths of molecules with a reasonable level of accuracy.\n",
       "\n",
       "</div>\n",
       "\n",
       "<div id=\"div_fig1\">\n",
       "\n",
       "<img src=\"tmp_2410.12235/./Fig5.png\" alt=\"Fig4\" width=\"100%\"/>\n",
       "\n",
       "**Figure 4. -** Comparison of the JWST/MIRI MRS spectra of IRAS 2A (blue curve) and IRAS 2A with water:silicate features subtracted (red curve) to the laboratory-measured EA ice profile at 10 K. For clearer comparison, all spectra are vertically shifted, with the laboratory spectrum intensity is multiplied by 20, and the EA band at 1607 cm$^{-1}$ is indicated by dashed line. The inset provides a closer examination of the water:silicate subtracted IRAS 2A spectrum alongside the fitted EA profile for upper limit estimation. (*fig5*)\n",
       "\n",
       "</div>\n",
       "<div id=\"div_fig2\">\n",
       "\n",
       "<img src=\"tmp_2410.12235/./Fig1.png\" alt=\"Fig1\" width=\"100%\"/>\n",
       "\n",
       "**Figure 1. -** Experimental and theoretical mid-IR spectrum of EA. The upper one shows about 200 monolayers (ML) EA condensed on KBr at 10 K. The infrared bands marked with asterisks are due to a mixture of different vibrational modes. For the latter, calculations were performed at MP2/Aug-cc-pVTZ level. (*fig1*)\n",
       "\n",
       "</div>\n",
       "<div id=\"div_fig3\">\n",
       "\n",
       "<img src=\"tmp_2410.12235/./Fig3.png\" alt=\"Fig2\" width=\"100%\"/>\n",
       "\n",
       "**Figure 2. -** Mid-infrared spectra of pure EA and reference molecules $NH_3$ and $CH_3$OH at 10 K. The spectrum of $H_2$O (common interstellar ice component) at 15 K is taken from the Leiden Ice Database for Astrochemistry (LIDA). Bands selected for band strength estimation are indicated by the shaded areas. (*fig3*)\n",
       "\n",
       "</div><div id=\"qrcode\"><img src=https://api.qrserver.com/v1/create-qr-code/?size=100x100&data=\"https://arxiv.org/abs/2410.12235\"></div>"
      ],
      "text/plain": [
       "<IPython.core.display.Markdown object>"
      ]
     },
     "metadata": {},
     "output_type": "display_data"
    }
   ],
   "source": [
    "[display(Markdown(k[1])) for k in documents];"
   ]
  },
  {
   "cell_type": "markdown",
   "id": "873873a4",
   "metadata": {
    "papermill": {
     "duration": 0.004274,
     "end_time": "2024-10-17T04:10:59.685123",
     "exception": false,
     "start_time": "2024-10-17T04:10:59.680849",
     "status": "completed"
    },
    "tags": []
   },
   "source": [
    "# Create HTML index"
   ]
  },
  {
   "cell_type": "code",
   "execution_count": 10,
   "id": "cf665672",
   "metadata": {
    "execution": {
     "iopub.execute_input": "2024-10-17T04:10:59.694653Z",
     "iopub.status.busy": "2024-10-17T04:10:59.694463Z",
     "iopub.status.idle": "2024-10-17T04:10:59.702476Z",
     "shell.execute_reply": "2024-10-17T04:10:59.701972Z"
    },
    "papermill": {
     "duration": 0.013872,
     "end_time": "2024-10-17T04:10:59.703433",
     "exception": false,
     "start_time": "2024-10-17T04:10:59.689561",
     "status": "completed"
    },
    "tags": []
   },
   "outputs": [
    {
     "name": "stdout",
     "output_type": "stream",
     "text": [
      "221  publications files modified in the last 7 days.\n"
     ]
    }
   ],
   "source": [
    "from datetime import datetime, timedelta, timezone\n",
    "from glob import glob\n",
    "import os\n",
    "\n",
    "files = glob('_build/html/*.md')\n",
    "days = 7\n",
    "now = datetime.today()\n",
    "res = []\n",
    "for fk in files:\n",
    "    stat_result = os.stat(fk).st_ctime\n",
    "    modified = datetime.fromtimestamp(stat_result, tz=timezone.utc).replace(tzinfo=None)\n",
    "    delta = now.today() - modified\n",
    "    if delta <= timedelta(days=days):\n",
    "        res.append((delta.seconds, fk))\n",
    "res = [k[1] for k in reversed(sorted(res, key=lambda x:x[1]))]\n",
    "npub = len(res)\n",
    "print(len(res), f\" publications files modified in the last {days:d} days.\")\n",
    "# [ print('\\t', k) for k in res ];"
   ]
  },
  {
   "cell_type": "code",
   "execution_count": 11,
   "id": "015de740",
   "metadata": {
    "execution": {
     "iopub.execute_input": "2024-10-17T04:10:59.713223Z",
     "iopub.status.busy": "2024-10-17T04:10:59.712851Z",
     "iopub.status.idle": "2024-10-17T04:10:59.728455Z",
     "shell.execute_reply": "2024-10-17T04:10:59.727923Z"
    },
    "papermill": {
     "duration": 0.021563,
     "end_time": "2024-10-17T04:10:59.729439",
     "exception": false,
     "start_time": "2024-10-17T04:10:59.707876",
     "status": "completed"
    },
    "tags": []
   },
   "outputs": [
    {
     "name": "stdout",
     "output_type": "stream",
     "text": [
      "11  publications in the last 7 days.\n"
     ]
    }
   ],
   "source": [
    "import datetime\n",
    "from glob import glob\n",
    "\n",
    "def get_last_n_days(lst, days=1):\n",
    "    \"\"\" Get the documents from the last n days \"\"\"\n",
    "    sorted_lst = sorted(lst, key=lambda x: x[1], reverse=True)\n",
    "    for fname, date in sorted_lst:\n",
    "        if date >= str(datetime.date.today() - datetime.timedelta(days=days)):\n",
    "            yield fname\n",
    "\n",
    "def extract_appearance_dates(lst_file):\n",
    "    dates = []\n",
    "\n",
    "    def get_date(line):\n",
    "        return line\\\n",
    "            .split('Appeared on:')[-1]\\\n",
    "            .split('</mark>')[0].strip()\n",
    "\n",
    "    for fname in lst:\n",
    "        with open(fname, 'r') as f:\n",
    "            found_date = False\n",
    "            for line in f:\n",
    "                if not found_date:\n",
    "                    if \"Appeared on\" in line:\n",
    "                        found_date = True\n",
    "                        dates.append((fname, get_date(line)))\n",
    "                else:\n",
    "                    break\n",
    "    return dates\n",
    "\n",
    "from glob import glob\n",
    "lst = glob('_build/html/*md')\n",
    "days = 7\n",
    "dates = extract_appearance_dates(lst)\n",
    "res = list(get_last_n_days(dates, days))\n",
    "npub = len(res)\n",
    "print(len(res), f\" publications in the last {days:d} days.\")"
   ]
  },
  {
   "cell_type": "code",
   "execution_count": 12,
   "id": "52ca0208",
   "metadata": {
    "execution": {
     "iopub.execute_input": "2024-10-17T04:10:59.739523Z",
     "iopub.status.busy": "2024-10-17T04:10:59.739104Z",
     "iopub.status.idle": "2024-10-17T04:10:59.743890Z",
     "shell.execute_reply": "2024-10-17T04:10:59.743375Z"
    },
    "papermill": {
     "duration": 0.010826,
     "end_time": "2024-10-17T04:10:59.744863",
     "exception": false,
     "start_time": "2024-10-17T04:10:59.734037",
     "status": "completed"
    },
    "scrolled": false,
    "tags": []
   },
   "outputs": [],
   "source": [
    "def create_carousel(npub=4):\n",
    "    \"\"\" Generate the HTML code for a carousel with `npub` slides \"\"\"\n",
    "    carousel = [\"\"\"  <div class=\"carousel\" \"\"\",\n",
    "                \"\"\"       data-flickity='{ \"autoPlay\": 10000, \"adaptiveHeight\": true, \"resize\": true, \"wrapAround\": true, \"pauseAutoPlayOnHover\": true, \"groupCells\": 1 }' id=\"asyncTypeset\">\"\"\"\n",
    "                ]\n",
    "    \n",
    "    item_str = \"\"\"    <div class=\"carousel-cell\"> <div id=\"slide{k}\" class=\"md_view\">Content {k}</div> </div>\"\"\"\n",
    "    for k in range(1, npub + 1):\n",
    "        carousel.append(item_str.format(k=k))\n",
    "    carousel.append(\"  </div>\")\n",
    "    return '\\n'.join(carousel)\n",
    "\n",
    "def create_grid(npub=4):\n",
    "    \"\"\" Generate the HTML code for a flat grid with `npub` slides \"\"\"\n",
    "    grid = [\"\"\"  <div class=\"grid\"> \"\"\",\n",
    "                ]\n",
    "    \n",
    "    item_str = \"\"\"    <div class=\"grid-item\"> <div id=\"slide{k}\" class=\"md_view\">Content {k}</div> </div>\"\"\"\n",
    "    for k in range(1, npub + 1):\n",
    "        grid.append(item_str.format(k=k))\n",
    "    grid.append(\"  </div>\")\n",
    "    return '\\n'.join(grid)"
   ]
  },
  {
   "cell_type": "code",
   "execution_count": 13,
   "id": "a6eac5b6",
   "metadata": {
    "execution": {
     "iopub.execute_input": "2024-10-17T04:10:59.755000Z",
     "iopub.status.busy": "2024-10-17T04:10:59.754523Z",
     "iopub.status.idle": "2024-10-17T04:10:59.759468Z",
     "shell.execute_reply": "2024-10-17T04:10:59.758972Z"
    },
    "papermill": {
     "duration": 0.010839,
     "end_time": "2024-10-17T04:10:59.760363",
     "exception": false,
     "start_time": "2024-10-17T04:10:59.749524",
     "status": "completed"
    },
    "scrolled": false,
    "tags": []
   },
   "outputs": [],
   "source": [
    "carousel = create_carousel(npub)\n",
    "docs = ', '.join(['\"{0:s}\"'.format(k.split('/')[-1]) for k in res])\n",
    "slides = ', '.join([f'\"slide{k}\"' for k in range(1, npub + 1)])\n",
    "\n",
    "with open(\"daily_template.html\", \"r\") as tpl:\n",
    "    page = tpl.read()\n",
    "    page = page.replace(\"{%-- carousel:s --%}\", carousel)\\\n",
    "               .replace(\"{%-- suptitle:s --%}\",  \"7-day archives\" )\\\n",
    "               .replace(\"{%-- docs:s --%}\", docs)\\\n",
    "               .replace(\"{%-- slides:s --%}\", slides)\n",
    "    \n",
    "with open(\"_build/html/index_7days.html\", 'w') as fout:\n",
    "    fout.write(page)"
   ]
  },
  {
   "cell_type": "code",
   "execution_count": 14,
   "id": "adc1a1ec",
   "metadata": {
    "execution": {
     "iopub.execute_input": "2024-10-17T04:10:59.770287Z",
     "iopub.status.busy": "2024-10-17T04:10:59.769936Z",
     "iopub.status.idle": "2024-10-17T04:10:59.776151Z",
     "shell.execute_reply": "2024-10-17T04:10:59.775542Z"
    },
    "papermill": {
     "duration": 0.012103,
     "end_time": "2024-10-17T04:10:59.777081",
     "exception": false,
     "start_time": "2024-10-17T04:10:59.764978",
     "status": "completed"
    },
    "tags": []
   },
   "outputs": [
    {
     "name": "stdout",
     "output_type": "stream",
     "text": [
      "2  publications in the last day.\n"
     ]
    }
   ],
   "source": [
    "# redo for today\n",
    "days = 1\n",
    "res = list(get_last_n_days(dates, days))\n",
    "npub = len(res)\n",
    "print(len(res), f\" publications in the last day.\")\n",
    "\n",
    "carousel = create_carousel(npub)\n",
    "docs = ', '.join(['\"{0:s}\"'.format(k.split('/')[-1]) for k in res])\n",
    "slides = ', '.join([f'\"slide{k}\"' for k in range(1, npub + 1)])\n",
    "\n",
    "with open(\"daily_template.html\", \"r\") as tpl:\n",
    "    page = tpl.read()\n",
    "    page = page.replace(\"{%-- carousel:s --%}\", carousel)\\\n",
    "               .replace(\"{%-- suptitle:s --%}\",  \"Daily\" )\\\n",
    "               .replace(\"{%-- docs:s --%}\", docs)\\\n",
    "               .replace(\"{%-- slides:s --%}\", slides)\n",
    "    \n",
    "# print(carousel, docs, slides)\n",
    "# print(page)\n",
    "with open(\"_build/html/index_daily.html\", 'w') as fout:\n",
    "    fout.write(page)"
   ]
  },
  {
   "cell_type": "code",
   "execution_count": 15,
   "id": "00eece82",
   "metadata": {
    "execution": {
     "iopub.execute_input": "2024-10-17T04:10:59.787600Z",
     "iopub.status.busy": "2024-10-17T04:10:59.787074Z",
     "iopub.status.idle": "2024-10-17T04:10:59.793568Z",
     "shell.execute_reply": "2024-10-17T04:10:59.793061Z"
    },
    "papermill": {
     "duration": 0.012551,
     "end_time": "2024-10-17T04:10:59.794537",
     "exception": false,
     "start_time": "2024-10-17T04:10:59.781986",
     "status": "completed"
    },
    "scrolled": false,
    "tags": []
   },
   "outputs": [
    {
     "name": "stdout",
     "output_type": "stream",
     "text": [
      "6  6 publications selected.\n"
     ]
    }
   ],
   "source": [
    "# Create the flat grid of the last N papers (fixed number regardless of dates)\n",
    "from itertools import islice \n",
    "\n",
    "npub = 6\n",
    "res = [k[0] for k in (islice(reversed(sorted(dates, key=lambda x: x[1])), 6))]\n",
    "print(len(res), f\" {npub} publications selected.\")\n",
    "\n",
    "grid = create_grid(npub)\n",
    "docs = ', '.join(['\"{0:s}\"'.format(k.split('/')[-1]) for k in res])\n",
    "slides = ', '.join([f'\"slide{k}\"' for k in range(1, npub + 1)])\n",
    "\n",
    "with open(\"grid_template.html\", \"r\") as tpl:\n",
    "    page = tpl.read()\n",
    "    page = page.replace(\"{%-- grid-content:s --%}\", grid)\\\n",
    "               .replace(\"{%-- suptitle:s --%}\",  f\"Last {npub:,d} papers\" )\\\n",
    "               .replace(\"{%-- docs:s --%}\", docs)\\\n",
    "               .replace(\"{%-- slides:s --%}\", slides)\n",
    "    \n",
    "# print(grid, docs, slides)\n",
    "# print(page)\n",
    "with open(\"_build/html/index_npub_grid.html\", 'w') as fout:\n",
    "    fout.write(page)"
   ]
  }
 ],
 "metadata": {
  "kernelspec": {
   "display_name": "Python 3 (ipykernel)",
   "language": "python",
   "name": "python3"
  },
  "language_info": {
   "codemirror_mode": {
    "name": "ipython",
    "version": 3
   },
   "file_extension": ".py",
   "mimetype": "text/x-python",
   "name": "python",
   "nbconvert_exporter": "python",
   "pygments_lexer": "ipython3",
   "version": "3.9.20"
  },
  "papermill": {
   "default_parameters": {},
   "duration": 25.294395,
   "end_time": "2024-10-17T04:11:00.015136",
   "environment_variables": {},
   "exception": null,
   "input_path": "MPIA daily digest.ipynb",
   "output_path": "log.ipynb",
   "parameters": {},
   "start_time": "2024-10-17T04:10:34.720741",
   "version": "2.6.0"
  },
  "vscode": {
   "interpreter": {
    "hash": "aee8b7b246df8f9039afb4144a1f6fd8d2ca17a180786b69acc140d282b71a49"
   }
  },
  "widgets": {
   "application/vnd.jupyter.widget-state+json": {
    "state": {
     "15329a48b20241c087fdab5b65fa358d": {
      "model_module": "@jupyter-widgets/controls",
      "model_module_version": "2.0.0",
      "model_name": "FloatProgressModel",
      "state": {
       "_dom_classes": [],
       "_model_module": "@jupyter-widgets/controls",
       "_model_module_version": "2.0.0",
       "_model_name": "FloatProgressModel",
       "_view_count": null,
       "_view_module": "@jupyter-widgets/controls",
       "_view_module_version": "2.0.0",
       "_view_name": "ProgressView",
       "bar_style": "success",
       "description": "",
       "description_allow_html": false,
       "layout": "IPY_MODEL_7127eefe409d4deaa9dda1723a96059f",
       "max": 3.0,
       "min": 0.0,
       "orientation": "horizontal",
       "style": "IPY_MODEL_2156e69ea13d465ba0a53c0175cfcec1",
       "tabbable": null,
       "tooltip": null,
       "value": 3.0
      }
     },
     "2156e69ea13d465ba0a53c0175cfcec1": {
      "model_module": "@jupyter-widgets/controls",
      "model_module_version": "2.0.0",
      "model_name": "ProgressStyleModel",
      "state": {
       "_model_module": "@jupyter-widgets/controls",
       "_model_module_version": "2.0.0",
       "_model_name": "ProgressStyleModel",
       "_view_count": null,
       "_view_module": "@jupyter-widgets/base",
       "_view_module_version": "2.0.0",
       "_view_name": "StyleView",
       "bar_color": null,
       "description_width": ""
      }
     },
     "24122dae22c14a5f925d26aec7065891": {
      "model_module": "@jupyter-widgets/controls",
      "model_module_version": "2.0.0",
      "model_name": "HBoxModel",
      "state": {
       "_dom_classes": [],
       "_model_module": "@jupyter-widgets/controls",
       "_model_module_version": "2.0.0",
       "_model_name": "HBoxModel",
       "_view_count": null,
       "_view_module": "@jupyter-widgets/controls",
       "_view_module_version": "2.0.0",
       "_view_name": "HBoxView",
       "box_style": "",
       "children": [
        "IPY_MODEL_a20c357c996c430f9bc85eaf01a86e8a",
        "IPY_MODEL_15329a48b20241c087fdab5b65fa358d",
        "IPY_MODEL_67eac06b579f4adba3be1b912ab21361"
       ],
       "layout": "IPY_MODEL_33e679df85e74d45b982477df29ed8e9",
       "tabbable": null,
       "tooltip": null
      }
     },
     "33e679df85e74d45b982477df29ed8e9": {
      "model_module": "@jupyter-widgets/base",
      "model_module_version": "2.0.0",
      "model_name": "LayoutModel",
      "state": {
       "_model_module": "@jupyter-widgets/base",
       "_model_module_version": "2.0.0",
       "_model_name": "LayoutModel",
       "_view_count": null,
       "_view_module": "@jupyter-widgets/base",
       "_view_module_version": "2.0.0",
       "_view_name": "LayoutView",
       "align_content": null,
       "align_items": null,
       "align_self": null,
       "border_bottom": null,
       "border_left": null,
       "border_right": null,
       "border_top": null,
       "bottom": null,
       "display": null,
       "flex": null,
       "flex_flow": null,
       "grid_area": null,
       "grid_auto_columns": null,
       "grid_auto_flow": null,
       "grid_auto_rows": null,
       "grid_column": null,
       "grid_gap": null,
       "grid_row": null,
       "grid_template_areas": null,
       "grid_template_columns": null,
       "grid_template_rows": null,
       "height": null,
       "justify_content": null,
       "justify_items": null,
       "left": null,
       "margin": null,
       "max_height": null,
       "max_width": null,
       "min_height": null,
       "min_width": null,
       "object_fit": null,
       "object_position": null,
       "order": null,
       "overflow": null,
       "padding": null,
       "right": null,
       "top": null,
       "visibility": null,
       "width": null
      }
     },
     "67eac06b579f4adba3be1b912ab21361": {
      "model_module": "@jupyter-widgets/controls",
      "model_module_version": "2.0.0",
      "model_name": "HTMLModel",
      "state": {
       "_dom_classes": [],
       "_model_module": "@jupyter-widgets/controls",
       "_model_module_version": "2.0.0",
       "_model_name": "HTMLModel",
       "_view_count": null,
       "_view_module": "@jupyter-widgets/controls",
       "_view_module_version": "2.0.0",
       "_view_name": "HTMLView",
       "description": "",
       "description_allow_html": false,
       "layout": "IPY_MODEL_7fca14a2c0cb433cbad2f1665b09ab7b",
       "placeholder": "​",
       "style": "IPY_MODEL_b6ab478d3871477db0510bb7e3b05bde",
       "tabbable": null,
       "tooltip": null,
       "value": " 3/3 [00:06&lt;00:00,  2.91s/it]"
      }
     },
     "7127eefe409d4deaa9dda1723a96059f": {
      "model_module": "@jupyter-widgets/base",
      "model_module_version": "2.0.0",
      "model_name": "LayoutModel",
      "state": {
       "_model_module": "@jupyter-widgets/base",
       "_model_module_version": "2.0.0",
       "_model_name": "LayoutModel",
       "_view_count": null,
       "_view_module": "@jupyter-widgets/base",
       "_view_module_version": "2.0.0",
       "_view_name": "LayoutView",
       "align_content": null,
       "align_items": null,
       "align_self": null,
       "border_bottom": null,
       "border_left": null,
       "border_right": null,
       "border_top": null,
       "bottom": null,
       "display": null,
       "flex": null,
       "flex_flow": null,
       "grid_area": null,
       "grid_auto_columns": null,
       "grid_auto_flow": null,
       "grid_auto_rows": null,
       "grid_column": null,
       "grid_gap": null,
       "grid_row": null,
       "grid_template_areas": null,
       "grid_template_columns": null,
       "grid_template_rows": null,
       "height": null,
       "justify_content": null,
       "justify_items": null,
       "left": null,
       "margin": null,
       "max_height": null,
       "max_width": null,
       "min_height": null,
       "min_width": null,
       "object_fit": null,
       "object_position": null,
       "order": null,
       "overflow": null,
       "padding": null,
       "right": null,
       "top": null,
       "visibility": null,
       "width": null
      }
     },
     "7fca14a2c0cb433cbad2f1665b09ab7b": {
      "model_module": "@jupyter-widgets/base",
      "model_module_version": "2.0.0",
      "model_name": "LayoutModel",
      "state": {
       "_model_module": "@jupyter-widgets/base",
       "_model_module_version": "2.0.0",
       "_model_name": "LayoutModel",
       "_view_count": null,
       "_view_module": "@jupyter-widgets/base",
       "_view_module_version": "2.0.0",
       "_view_name": "LayoutView",
       "align_content": null,
       "align_items": null,
       "align_self": null,
       "border_bottom": null,
       "border_left": null,
       "border_right": null,
       "border_top": null,
       "bottom": null,
       "display": null,
       "flex": null,
       "flex_flow": null,
       "grid_area": null,
       "grid_auto_columns": null,
       "grid_auto_flow": null,
       "grid_auto_rows": null,
       "grid_column": null,
       "grid_gap": null,
       "grid_row": null,
       "grid_template_areas": null,
       "grid_template_columns": null,
       "grid_template_rows": null,
       "height": null,
       "justify_content": null,
       "justify_items": null,
       "left": null,
       "margin": null,
       "max_height": null,
       "max_width": null,
       "min_height": null,
       "min_width": null,
       "object_fit": null,
       "object_position": null,
       "order": null,
       "overflow": null,
       "padding": null,
       "right": null,
       "top": null,
       "visibility": null,
       "width": null
      }
     },
     "a20c357c996c430f9bc85eaf01a86e8a": {
      "model_module": "@jupyter-widgets/controls",
      "model_module_version": "2.0.0",
      "model_name": "HTMLModel",
      "state": {
       "_dom_classes": [],
       "_model_module": "@jupyter-widgets/controls",
       "_model_module_version": "2.0.0",
       "_model_name": "HTMLModel",
       "_view_count": null,
       "_view_module": "@jupyter-widgets/controls",
       "_view_module_version": "2.0.0",
       "_view_name": "HTMLView",
       "description": "",
       "description_allow_html": false,
       "layout": "IPY_MODEL_c7b19abea2484bd89a508325050b3d98",
       "placeholder": "​",
       "style": "IPY_MODEL_cf2d0df7237a40f49084d101e7766be5",
       "tabbable": null,
       "tooltip": null,
       "value": "100%"
      }
     },
     "b6ab478d3871477db0510bb7e3b05bde": {
      "model_module": "@jupyter-widgets/controls",
      "model_module_version": "2.0.0",
      "model_name": "HTMLStyleModel",
      "state": {
       "_model_module": "@jupyter-widgets/controls",
       "_model_module_version": "2.0.0",
       "_model_name": "HTMLStyleModel",
       "_view_count": null,
       "_view_module": "@jupyter-widgets/base",
       "_view_module_version": "2.0.0",
       "_view_name": "StyleView",
       "background": null,
       "description_width": "",
       "font_size": null,
       "text_color": null
      }
     },
     "c7b19abea2484bd89a508325050b3d98": {
      "model_module": "@jupyter-widgets/base",
      "model_module_version": "2.0.0",
      "model_name": "LayoutModel",
      "state": {
       "_model_module": "@jupyter-widgets/base",
       "_model_module_version": "2.0.0",
       "_model_name": "LayoutModel",
       "_view_count": null,
       "_view_module": "@jupyter-widgets/base",
       "_view_module_version": "2.0.0",
       "_view_name": "LayoutView",
       "align_content": null,
       "align_items": null,
       "align_self": null,
       "border_bottom": null,
       "border_left": null,
       "border_right": null,
       "border_top": null,
       "bottom": null,
       "display": null,
       "flex": null,
       "flex_flow": null,
       "grid_area": null,
       "grid_auto_columns": null,
       "grid_auto_flow": null,
       "grid_auto_rows": null,
       "grid_column": null,
       "grid_gap": null,
       "grid_row": null,
       "grid_template_areas": null,
       "grid_template_columns": null,
       "grid_template_rows": null,
       "height": null,
       "justify_content": null,
       "justify_items": null,
       "left": null,
       "margin": null,
       "max_height": null,
       "max_width": null,
       "min_height": null,
       "min_width": null,
       "object_fit": null,
       "object_position": null,
       "order": null,
       "overflow": null,
       "padding": null,
       "right": null,
       "top": null,
       "visibility": null,
       "width": null
      }
     },
     "cf2d0df7237a40f49084d101e7766be5": {
      "model_module": "@jupyter-widgets/controls",
      "model_module_version": "2.0.0",
      "model_name": "HTMLStyleModel",
      "state": {
       "_model_module": "@jupyter-widgets/controls",
       "_model_module_version": "2.0.0",
       "_model_name": "HTMLStyleModel",
       "_view_count": null,
       "_view_module": "@jupyter-widgets/base",
       "_view_module_version": "2.0.0",
       "_view_name": "StyleView",
       "background": null,
       "description_width": "",
       "font_size": null,
       "text_color": null
      }
     }
    },
    "version_major": 2,
    "version_minor": 0
   }
  }
 },
 "nbformat": 4,
 "nbformat_minor": 5
}