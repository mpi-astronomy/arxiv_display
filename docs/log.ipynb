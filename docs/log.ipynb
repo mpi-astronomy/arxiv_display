{
 "cells": [
  {
   "cell_type": "markdown",
   "id": "92bcb855",
   "metadata": {
    "papermill": {
     "duration": 0.003855,
     "end_time": "2025-09-10T04:12:26.351501",
     "exception": false,
     "start_time": "2025-09-10T04:12:26.347646",
     "status": "completed"
    },
    "tags": []
   },
   "source": [
    "# MPIA Arxiv on Deck 2\n",
    "\n",
    "Contains the steps to produce the paper extractions."
   ]
  },
  {
   "cell_type": "code",
   "execution_count": 1,
   "id": "3a0d6e11",
   "metadata": {
    "execution": {
     "iopub.execute_input": "2025-09-10T04:12:26.358738Z",
     "iopub.status.busy": "2025-09-10T04:12:26.358469Z",
     "iopub.status.idle": "2025-09-10T04:12:26.569225Z",
     "shell.execute_reply": "2025-09-10T04:12:26.568495Z"
    },
    "papermill": {
     "duration": 0.216023,
     "end_time": "2025-09-10T04:12:26.570709",
     "exception": false,
     "start_time": "2025-09-10T04:12:26.354686",
     "status": "completed"
    },
    "tags": []
   },
   "outputs": [],
   "source": [
    "# Imports\n",
    "import os\n",
    "from IPython.display import Markdown, display\n",
    "from tqdm.notebook import tqdm\n",
    "import warnings\n",
    "from PIL import Image \n",
    "import re\n",
    "\n",
    "# requires arxiv_on_deck_2\n",
    "\n",
    "from arxiv_on_deck_2.arxiv2 import (get_new_papers, \n",
    "                                    get_paper_from_identifier,\n",
    "                                    retrieve_document_source, \n",
    "                                    get_markdown_badge)\n",
    "from arxiv_on_deck_2 import (latex,\n",
    "                             latex_bib,\n",
    "                             mpia,\n",
    "                             highlight_authors_in_list)\n",
    "\n",
    "# Sometimes images are really big\n",
    "Image.MAX_IMAGE_PIXELS = 1000000000 "
   ]
  },
  {
   "cell_type": "code",
   "execution_count": 2,
   "id": "22aa9d44",
   "metadata": {
    "execution": {
     "iopub.execute_input": "2025-09-10T04:12:26.577923Z",
     "iopub.status.busy": "2025-09-10T04:12:26.577721Z",
     "iopub.status.idle": "2025-09-10T04:12:26.585475Z",
     "shell.execute_reply": "2025-09-10T04:12:26.584954Z"
    },
    "papermill": {
     "duration": 0.012428,
     "end_time": "2025-09-10T04:12:26.586507",
     "exception": false,
     "start_time": "2025-09-10T04:12:26.574079",
     "status": "completed"
    },
    "tags": []
   },
   "outputs": [],
   "source": [
    "# Some useful definitions.\n",
    "\n",
    "class AffiliationWarning(UserWarning):\n",
    "    pass\n",
    "\n",
    "class AffiliationError(RuntimeError):\n",
    "    pass\n",
    "\n",
    "def validation(source: str):\n",
    "    \"\"\"Raises error paper during parsing of source file\n",
    "    \n",
    "    Allows checks before parsing TeX code.\n",
    "    \n",
    "    Raises AffiliationWarning\n",
    "    \"\"\"\n",
    "    check = mpia.affiliation_verifications(source, verbose=True)\n",
    "    if check is not True:\n",
    "        raise AffiliationError(\"mpia.affiliation_verifications: \" + check)\n",
    "\n",
    "        \n",
    "warnings.simplefilter('always', AffiliationWarning)\n",
    "\n",
    "\n",
    "def get_markdown_qrcode(paper_id: str):\n",
    "    \"\"\" Generate a qrcode to the arxiv page using qrserver.com\n",
    "    \n",
    "    :param paper: Arxiv paper\n",
    "    :returns: markdown text\n",
    "    \"\"\"\n",
    "    url = r\"https://api.qrserver.com/v1/create-qr-code/?size=100x100&data=\"\n",
    "    txt = f\"\"\"<img src={url}\"https://arxiv.org/abs/{paper_id}\">\"\"\"\n",
    "    txt = '<div id=\"qrcode\">' + txt + '</div>'\n",
    "    return txt\n",
    "\n",
    "\n",
    "def clean_non_western_encoded_characters_commands(text: str) -> str:\n",
    "    \"\"\" Remove non-western encoded characters from a string\n",
    "    List may need to grow.\n",
    "    \n",
    "    :param text: the text to clean\n",
    "    :return: the cleaned text\n",
    "    \"\"\"\n",
    "    text = re.sub(r\"(\\\\begin{CJK}{UTF8}{gbsn})(.*?)(\\\\end{CJK})\", r\"\\2\", text)\n",
    "    return text\n",
    "\n",
    "\n",
    "def get_initials(name: str) -> str:\n",
    "    \"\"\" Get the short name, e.g., A.-B. FamName\n",
    "    :param name: full name\n",
    "    :returns: initials\n",
    "    \"\"\"\n",
    "    initials = []\n",
    "    # account for non western names often in ()\n",
    "    if '(' in name:\n",
    "        name = clean_non_western_encoded_characters_commands(name)\n",
    "        suffix = re.findall(r\"\\((.*?)\\)\", name)[0]\n",
    "        name = name.replace(f\"({suffix})\", '')\n",
    "    else:\n",
    "        suffix = ''\n",
    "    split = name.split()\n",
    "    for token in split[:-1]:\n",
    "        if '-' in token:\n",
    "            current = '-'.join([k[0] + '.' for k in token.split('-')])\n",
    "        else:\n",
    "            current = token[0] + '.'\n",
    "        initials.append(current)\n",
    "    initials.append(split[-1].strip())\n",
    "    if suffix:\n",
    "        initials.append(f\"({suffix})\")\n",
    "    return ' '.join(initials)"
   ]
  },
  {
   "cell_type": "markdown",
   "id": "14bd6310",
   "metadata": {
    "papermill": {
     "duration": 0.002944,
     "end_time": "2025-09-10T04:12:26.592468",
     "exception": false,
     "start_time": "2025-09-10T04:12:26.589524",
     "status": "completed"
    },
    "tags": []
   },
   "source": [
    "## get list of arxiv paper candidates\n",
    "\n",
    "We use the MPIA mitarbeiter list webpage from mpia.de to get author names\n",
    "We then get all new papers from Arxiv and match authors"
   ]
  },
  {
   "cell_type": "code",
   "execution_count": 3,
   "id": "7ea813a8",
   "metadata": {
    "execution": {
     "iopub.execute_input": "2025-09-10T04:12:26.599139Z",
     "iopub.status.busy": "2025-09-10T04:12:26.598942Z",
     "iopub.status.idle": "2025-09-10T04:12:47.082227Z",
     "shell.execute_reply": "2025-09-10T04:12:47.081516Z"
    },
    "papermill": {
     "duration": 20.488111,
     "end_time": "2025-09-10T04:12:47.083578",
     "exception": false,
     "start_time": "2025-09-10T04:12:26.595467",
     "status": "completed"
    },
    "tags": []
   },
   "outputs": [],
   "source": [
    "# deal with the author list and edge cases of people that cannot be consistent on their name  \n",
    "\n",
    "def filter_non_scientists(name: str) -> bool:\n",
    "    \"\"\" Loose filter on expected authorships\n",
    "\n",
    "    removing IT, administration, technical staff\n",
    "    :param name: name\n",
    "    :returns: False if name is not a scientist\n",
    "    \"\"\"\n",
    "    remove_list = ['Licht', 'Binroth', 'Witzel', 'Jordan',\n",
    "                   'Zähringer', 'Scheerer', 'Hoffmann', 'Düe',\n",
    "                   'Hellmich', 'Enkler-Scharpegge', 'Witte-Nguy',\n",
    "                   'Dehen', 'Beckmann', 'Jager', 'Jäger'\n",
    "                  ]\n",
    "\n",
    "    for k in remove_list:\n",
    "        if k in name:\n",
    "            return False\n",
    "    return True\n",
    "\n",
    "def add_author_to_list(author_list: list) -> list:\n",
    "    \"\"\" Add author to list if not already in list\n",
    "    \n",
    "    :param author: author name\n",
    "    :param author_list: list of authors\n",
    "    :returns: updated list of authors\n",
    "    \"\"\"\n",
    "    add_list = ['T. Henning']\n",
    "\n",
    "    for author in add_list:\n",
    "        if author not in author_list:\n",
    "            author_list.append(author)\n",
    "    return author_list\n",
    "\n",
    "# get list from MPIA website\n",
    "# filter for non-scientists (mpia.get_mpia_mitarbeiter_list() does some filtering)\n",
    "mpia_authors = [k[1] for k in mpia.get_mpia_mitarbeiter_list() if filter_non_scientists(k[1])]\n",
    "# add some missing author because of inconsistencies in their MPIA name and author name on papers\n",
    "mpia_authors = add_author_to_list(mpia_authors)"
   ]
  },
  {
   "cell_type": "code",
   "execution_count": 4,
   "id": "2645e73a",
   "metadata": {
    "execution": {
     "iopub.execute_input": "2025-09-10T04:12:47.090684Z",
     "iopub.status.busy": "2025-09-10T04:12:47.090477Z",
     "iopub.status.idle": "2025-09-10T04:12:47.973780Z",
     "shell.execute_reply": "2025-09-10T04:12:47.973138Z"
    },
    "papermill": {
     "duration": 0.887904,
     "end_time": "2025-09-10T04:12:47.974849",
     "exception": false,
     "start_time": "2025-09-10T04:12:47.086945",
     "status": "completed"
    },
    "tags": []
   },
   "outputs": [
    {
     "name": "stdout",
     "output_type": "stream",
     "text": [
      "A. Pillepich  ->  A. Pillepich  |  ['A. Pillepich']\n",
      "M. Zhang  ->  M. Zhang  |  ['M. Zhang']\n",
      "J. Li  ->  J. Li  |  ['J. Li']\n",
      "J. Li  ->  J. Li  |  ['J. Li']\n"
     ]
    },
    {
     "name": "stdout",
     "output_type": "stream",
     "text": [
      "Arxiv has 84 new papers today\n",
      "          4 with possible author matches\n"
     ]
    }
   ],
   "source": [
    "new_papers = get_new_papers()\n",
    "# add manual references\n",
    "add_paper_refs = []\n",
    "new_papers.extend([get_paper_from_identifier(k) for k in add_paper_refs])\n",
    "\n",
    "def robust_call(fn, value, *args, **kwargs):\n",
    "    try:\n",
    "        return fn(value, *args, **kwargs)\n",
    "    except Exception:\n",
    "        return value\n",
    "\n",
    "candidates = []\n",
    "for paperk in new_papers:\n",
    "    # Check author list with their initials\n",
    "    normed_author_list = [robust_call(mpia.get_initials, k) for k in paperk['authors']]\n",
    "    hl_authors = highlight_authors_in_list(normed_author_list, mpia_authors, verbose=True)\n",
    "    matches = [(hl, orig) for hl, orig in zip(hl_authors, paperk['authors']) if 'mark' in hl]\n",
    "    paperk['authors'] = hl_authors\n",
    "    if matches:\n",
    "        # only select paper if an author matched our list\n",
    "        candidates.append(paperk)\n",
    "print(\"\"\"Arxiv has {0:,d} new papers today\"\"\".format(len(new_papers)))        \n",
    "print(\"\"\"          {0:,d} with possible author matches\"\"\".format(len(candidates)))"
   ]
  },
  {
   "cell_type": "markdown",
   "id": "3543b34a",
   "metadata": {
    "papermill": {
     "duration": 0.003098,
     "end_time": "2025-09-10T04:12:47.981566",
     "exception": false,
     "start_time": "2025-09-10T04:12:47.978468",
     "status": "completed"
    },
    "tags": []
   },
   "source": [
    "# Parse sources and generate relevant outputs\n",
    "\n",
    "From the candidates, we do the following steps:\n",
    "* get their tarball from ArXiv (and extract data)\n",
    "* find the main .tex file: find one with \\documentclass{...} (sometimes it's non trivial)\n",
    "* Check affiliations with :func:`validation`, which uses :func:`mpia.affiliation_verifications`\n",
    "* If passing the affiliations: we parse the .tex source\n",
    "   * inject sub-documents into the main (flatten the main document)\n",
    "   * parse structure, extract information (title, abstract, authors, figures...)\n",
    "   * handles `\\graphicspath` if provided\n",
    "* Generate the .md document."
   ]
  },
  {
   "cell_type": "code",
   "execution_count": 5,
   "id": "9576b79e",
   "metadata": {
    "execution": {
     "iopub.execute_input": "2025-09-10T04:12:47.988706Z",
     "iopub.status.busy": "2025-09-10T04:12:47.988472Z",
     "iopub.status.idle": "2025-09-10T04:13:38.091157Z",
     "shell.execute_reply": "2025-09-10T04:13:38.090474Z"
    },
    "papermill": {
     "duration": 50.10758,
     "end_time": "2025-09-10T04:13:38.092250",
     "exception": false,
     "start_time": "2025-09-10T04:12:47.984670",
     "status": "completed"
    },
    "scrolled": false,
    "tags": []
   },
   "outputs": [
    {
     "data": {
      "application/vnd.jupyter.widget-view+json": {
       "model_id": "5b660227fa2a4daa8f5cae691f79bbf1",
       "version_major": 2,
       "version_minor": 0
      },
      "text/plain": [
       "  0%|          | 0/4 [00:00<?, ?it/s]"
      ]
     },
     "metadata": {},
     "output_type": "display_data"
    },
    {
     "name": "stdout",
     "output_type": "stream",
     "text": [
      "Retrieving document from  https://arxiv.org/e-print/2509.07078\n",
      "extracting tarball to tmp_2509.07078... done.\n"
     ]
    },
    {
     "name": "stdout",
     "output_type": "stream",
     "text": [
      "Issues with the citations\n",
      "list index out of range\n",
      "Retrieving document from  https://arxiv.org/e-print/2509.07535\n"
     ]
    },
    {
     "name": "stdout",
     "output_type": "stream",
     "text": [
      "extracting tarball to tmp_2509.07535..."
     ]
    },
    {
     "name": "stdout",
     "output_type": "stream",
     "text": [
      " done.\n",
      "Retrieving document from  https://arxiv.org/e-print/2509.07640\n"
     ]
    },
    {
     "name": "stdout",
     "output_type": "stream",
     "text": [
      "extracting tarball to tmp_2509.07640..."
     ]
    },
    {
     "name": "stdout",
     "output_type": "stream",
     "text": [
      " done.\n"
     ]
    },
    {
     "name": "stderr",
     "output_type": "stream",
     "text": [
      "/opt/hostedtoolcache/Python/3.9.23/x64/lib/python3.9/site-packages/arxiv_on_deck_2/latex.py:132: LatexWarning: attempting recovering figure Fig/LOW_GL_example.png\n",
      "  warnings.warn(LatexWarning(f'attempting recovering figure {image}'))\n",
      "/opt/hostedtoolcache/Python/3.9.23/x64/lib/python3.9/site-packages/arxiv_on_deck_2/latex.py:707: LatexWarning: Could not find graphic \\includegraphics[width=1\\linewidth]{Fig/LOW_GL_example.png}\n",
      "  warnings.warn(LatexWarning(f\"Could not find graphic {k}\"))\n"
     ]
    },
    {
     "name": "stdout",
     "output_type": "stream",
     "text": [
      "Found 46 bibliographic references in tmp_2509.07640/3Dmap.bbl.\n",
      "Retrieving document from  https://arxiv.org/e-print/2509.07744\n"
     ]
    },
    {
     "name": "stdout",
     "output_type": "stream",
     "text": [
      "extracting tarball to tmp_2509.07744..."
     ]
    },
    {
     "name": "stdout",
     "output_type": "stream",
     "text": [
      " done.\n"
     ]
    }
   ],
   "source": [
    "documents = []\n",
    "failed = []\n",
    "for paper in tqdm(candidates):\n",
    "    # debug crap\n",
    "    paper['identifier'] = paper['identifier'].lower().replace('arxiv:', '').replace(r'\\n', '').strip()\n",
    "    paper_id = paper['identifier']\n",
    "    \n",
    "    folder = f'tmp_{paper_id}'\n",
    "\n",
    "    try:\n",
    "        if not os.path.isdir(folder):\n",
    "            folder = retrieve_document_source(f\"{paper_id}\", f'tmp_{paper_id}')\n",
    "        \n",
    "        try:\n",
    "            doc = latex.LatexDocument(folder, validation=validation)    \n",
    "        except AffiliationError as affilerror:\n",
    "            msg = f\"ArXiv:{paper_id:s} is not an MPIA paper... \" + str(affilerror)\n",
    "            failed.append((paper, \"affiliation error: \" + str(affilerror) ))\n",
    "            continue\n",
    "        \n",
    "        # Hack because sometimes author parsing does not work well\n",
    "        if (len(doc.authors) != len(paper['authors'])):\n",
    "            doc._authors = paper['authors']\n",
    "        else:\n",
    "            # highlight authors (FIXME: doc.highlight_authors)\n",
    "            # done on arxiv paper already\n",
    "            doc._authors = highlight_authors_in_list(\n",
    "                [get_initials(k) for k in doc.authors], \n",
    "                mpia_authors, verbose=True)\n",
    "        if (doc.abstract) in (None, ''):\n",
    "            doc._abstract = paper['abstract']\n",
    "            \n",
    "        doc.comment = (get_markdown_badge(paper_id) + \n",
    "                       \"<mark>Appeared on: \" + paper['date'] + \"</mark> - \")\n",
    "        if paper['comments']:\n",
    "            doc.comment += \" _\" + paper['comments'] + \"_\"\n",
    "        \n",
    "        full_md = doc.generate_markdown_text()\n",
    "        \n",
    "        full_md += get_markdown_qrcode(paper_id)\n",
    "        \n",
    "        # replace citations\n",
    "        try:\n",
    "            bibdata = latex_bib.LatexBib.from_doc(doc)\n",
    "            full_md = latex_bib.replace_citations(full_md, bibdata)\n",
    "        except Exception as e:\n",
    "            print(\"Issues with the citations\")\n",
    "            print(e)\n",
    "        \n",
    "        documents.append((paper_id, full_md))\n",
    "    except Exception as e:\n",
    "        warnings.warn(latex.LatexWarning(f\"{paper_id:s} did not run properly\\n\" +\n",
    "                                         str(e)\n",
    "                                        ))\n",
    "        failed.append((paper, \"latex error \" + str(e)))"
   ]
  },
  {
   "cell_type": "markdown",
   "id": "2505a25c",
   "metadata": {
    "papermill": {
     "duration": 0.00373,
     "end_time": "2025-09-10T04:13:38.100051",
     "exception": false,
     "start_time": "2025-09-10T04:13:38.096321",
     "status": "completed"
    },
    "tags": []
   },
   "source": [
    "### Export the logs\n",
    "\n",
    "Throughout, we also keep track of the logs per paper. see `logs-{today date}.md` "
   ]
  },
  {
   "cell_type": "code",
   "execution_count": 6,
   "id": "d733828a",
   "metadata": {
    "execution": {
     "iopub.execute_input": "2025-09-10T04:13:38.108265Z",
     "iopub.status.busy": "2025-09-10T04:13:38.108076Z",
     "iopub.status.idle": "2025-09-10T04:13:38.121906Z",
     "shell.execute_reply": "2025-09-10T04:13:38.121221Z"
    },
    "papermill": {
     "duration": 0.019179,
     "end_time": "2025-09-10T04:13:38.122964",
     "exception": false,
     "start_time": "2025-09-10T04:13:38.103785",
     "status": "completed"
    },
    "scrolled": false,
    "tags": []
   },
   "outputs": [
    {
     "data": {
      "text/markdown": [
       "## Successful papers"
      ],
      "text/plain": [
       "<IPython.core.display.Markdown object>"
      ]
     },
     "metadata": {},
     "output_type": "display_data"
    },
    {
     "data": {
      "text/markdown": [
       "\n",
       "|||\n",
       "|---:|:---|\n",
       "| [![arXiv](https://img.shields.io/badge/arXiv-2509.07078-b31b1b.svg)](https://arxiv.org/abs/2509.07078) | **Numerical effects on the stripping of dark matter and stars in IllustrisTNG galaxy groups and clusters**  |\n",
       "|| M. R. Lovell, et al. -- incl., <mark>A. Pillepich</mark> |\n",
       "|*Appeared on*| *2025-09-10*|\n",
       "|*Comments*| *23 pages, 16 figures, to be submitted to MNRAS*|\n",
       "|**Abstract**|            The stellar haloes and intra-cluster light around galaxies are crucial test beds for dark matter (DM) physics and galaxy formation models. We consider the role that the numerical resolution plays in the modelling of these systems by studying the stripping of satellites in the IllustrisTNG cosmological simulations. We focus on host haloes of total halo mass $M_\\mathrm{200c}=10^{12-15}M_{\\odot}$ and satellites of stellar mass $>10^{7}$$M_{\\odot}$, and compare stellar halo / satellite properties across 9 IllustrisTNG runs with baryonic particle mass resolution between $8.5\\times10^4M_{\\odot}$ and $7\\times10^8$$M_{\\odot}$, using a Lagrangian-region technique to identify counterpart satellites across different resolution simulations of the same volume. We publish the corresponding catalogues alongside this paper. We demonstrate that the stripping of DM from satellites that orbit in group- and cluster-mass hosts is largely independent of resolution at least until 90 per cent of their initial mass at infall has been stripped. We do not find evidence for spurious disruption of galaxies due to insufficient resolution for the satellite masses we consider. By contrast, the stripping of stellar mass is strongly resolution-dependent: each factor of 8 improvement in particle stellar mass typically adds 2~Gyr to the stripping time. Improved numerical resolution within the IllustrisTNG model generally results in more compact satellites with larger stellar masses, which in turn generate more centrally concentrated stellar haloes and intra-cluster mass profiles. However, the concomitant increase in stellar mass of both satellites and hosts may still be the cause for the overprediction of the stellar halo mass at large host radii relative to observations seen in some previous studies.         |"
      ],
      "text/plain": [
       "[2509.07078] Numerical effects on the stripping of dark matter and stars in IllustrisTNG galaxy groups and clusters\n",
       "\tM. R. Lovell, et al. -- incl., <mark>A. Pillepich</mark>"
      ]
     },
     "metadata": {},
     "output_type": "display_data"
    },
    {
     "data": {
      "text/markdown": [
       "\n",
       "|||\n",
       "|---:|:---|\n",
       "| [![arXiv](https://img.shields.io/badge/arXiv-2509.07640-b31b1b.svg)](https://arxiv.org/abs/2509.07640) | **An all-sky 3D dust map Based on Gaia and LAMOST**  |\n",
       "|| T. Wang, et al. -- incl., <mark>J. Li</mark> |\n",
       "|*Appeared on*| *2025-09-10*|\n",
       "|*Comments*| *25 pages, 20 figures, 3 tables, published in The Astrophysical Journal Supplement Series (ApJS)*|\n",
       "|**Abstract**|            We present a comprehensive 3D dust reddening map covering the entire Milky Way, constructed by combining reddening estimates based on LAMOST low-resolution spectra (E(B$-$V)$_{\\rm LAMOST}$) with those derived from $Gaia$ XP spectra (E(B$-$V)$_{\\rm XP}$), along with revised $Gaia$ distances. E(B$-$V)$_{\\rm LAMOST}$ values of $\\sim$ 4.6 million unique sources were obtained with the standard-pair analysis using LAMOST DR11 stellar parameters and synthesized $B/V$-band photometry from $Gaia$ XP spectra, showing a typical precision of $\\sim$ 0.01 mag. The E(B$-$V)$_{\\rm XP}$ from the catalog of \\citet{zhang2023}, which was derived using forward modeling of $Gaia$ XP spectra, were cross-validated with E(B$-$V)$_{\\rm LAMOST}$, leading to the selection of $\\sim$ 150 million high-reliability measurements. The combined dataset achieves a median precision of $\\sim$ 0.03 mag for E(B$-$V). To model the reddening -- distance relationship along various lines-of-sight, we implemented a parametric approach that accounts for contributions from the local bubble, diffuse interstellar-medium, and multiple potential molecular clouds. The sky was adaptively partitioned based on stellar density, resulting in angular resolutions ranging from 3.4$^{\\prime}$ to 58$^{\\prime}$, with about half of the sky having a resolution better than 6.9$^{\\prime}$. The reddening precision of our 3D map for individual stars reaches $\\sim$ 0.01 mag in most regions at $|b| > 20^\\circ$, but degrades to 0.01-0.05 mag at $|b| < 20^\\circ$. The map reaches a maximum distance of 3-5 kpc in high-extinction regions with $|b| < 5^\\circ$, and extends to 10-15 kpc elsewhere. An interactive platform and Python package have been developed for utilization of the 3D dust map. Available online: this https URL.         |"
      ],
      "text/plain": [
       "[2509.07640] An all-sky 3D dust map Based on Gaia and LAMOST\n",
       "\tT. Wang, et al. -- incl., <mark>J. Li</mark>"
      ]
     },
     "metadata": {},
     "output_type": "display_data"
    },
    {
     "data": {
      "text/markdown": [
       "## Failed papers"
      ],
      "text/plain": [
       "<IPython.core.display.Markdown object>"
      ]
     },
     "metadata": {},
     "output_type": "display_data"
    },
    {
     "data": {
      "text/markdown": [
       "\n",
       "|||\n",
       "|---:|:---|\n",
       "| [![arXiv](https://img.shields.io/badge/arXiv-2509.07535-b31b1b.svg)](https://arxiv.org/abs/2509.07535) | **Tidal disruption events in active galactic nuclei: on orbital inclination and Schwarzschild apsidal precession**  |\n",
       "|| <mark>M. Zhang</mark>, et al. |\n",
       "|*Appeared on*| *2025-09-10*|\n",
       "|*Comments*| *27 pages, 16 figures, 2 tables, accepted for publication in ApJ*|\n",
       "|**Abstract**|            Tidal disruption events (TDEs) in active galactic nuclei (AGNs) mark a regime where traditional vacuum models fail to capture the full dynamics, especially due to interaction between stellar debris and pre-existing accretion disks. We perform meshless hydrodynamic simulations incorporating both general relativistic (GR) effects and radiative cooling to study TDEs in AGNs with different orbital inclinations ($\\theta_{\\rm inc}$) of the disrupted star, ranging from projected prograde to retrograde orbits. We post-process the simulations to derive multi-wavelength light curves and identify several distinct features in the light curves, including a precursor flare from early debris-disk collision and a major flare driven by fallback. The dynamics of the stellar debris and accretion disk, and subsequently the light curve features, are strongly affected by $\\theta_{\\rm inc}$ and GR effects. Retrograde orbits ($\\theta_{\\rm inc}=135^\\circ$) yield a more luminous, shorter major flare and a more prominent precursor than prograde ones ($\\theta_{\\rm inc}=22.5^\\circ$). During fallback, prograde cases ($\\theta_{\\rm inc} = 22.5^\\circ$, $45^\\circ$) develop a central cavity with spirals in the inner region of the AGN disk, leading to transient UV/X-ray suppression accompanied by oscillations, while higher inclinations ($\\theta_{\\rm inc}=90^\\circ$, $135^\\circ$) form a gradually tilting inner disk, potentially causing UV/X-ray dips via geometric effects at certain viewing angles. Relativistic apsidal precession alters stream collisions, producing structural differences in the inner disk, outer disk, and debris compared to Newtonian cases, and drives quasi-periodic signals in prograde configurations. These results provide predictive diagnostics for identifying AGN TDEs and interpreting observed light-curve diversity.         |\n",
       "|<p style=\"color:green\"> **ERROR** </p>| <p style=\"color:green\">affiliation error: mpia.affiliation_verifications: 'Heidelberg' keyword not found.</p> |"
      ],
      "text/plain": [
       "<IPython.core.display.Markdown object>"
      ]
     },
     "metadata": {},
     "output_type": "display_data"
    },
    {
     "data": {
      "text/markdown": [
       "\n",
       "|||\n",
       "|---:|:---|\n",
       "| [![arXiv](https://img.shields.io/badge/arXiv-2509.07744-b31b1b.svg)](https://arxiv.org/abs/2509.07744) | **Unveiling Galactic substructures with M Giant stars: A kinematic and chemical study based on LAMOST DR9, Gaia DR3 and APOGEE DR17**  |\n",
       "|| L. Ding, et al. -- incl., <mark>J. Li</mark> |\n",
       "|*Appeared on*| *2025-09-10*|\n",
       "|*Comments*| **|\n",
       "|**Abstract**|            Based on the updated M giant star catalog selected from LAMOST DR9, we iden-tify substructures within the integrals-of-motion space through Friends-of-Friends cluster-ing algorithm. We obtain members belonging to several known substructures: the Sagittarius stream, Galactic Anticenter Substructure (GASS), Gaia-Enceladus-Sausage (GES), Splash, and the high-{\\alpha} disk. Furthermore, we also identify two groups which cannot be clearly asso-ciated with previously known substructures. Our findings confirm the existence of metal-rich constituents within the GES, representing newly formed stars that originated from the metal-enriched gas delivered during the GES merger event and subsequently evolved. Additionally, this study further expands the sample of GASS, high-{\\alpha} disk, and Splash stars. Analysis of these metal-rich M giant stars as members of the GES, Splash, and high-{\\alpha} disk compo-nents supports an evolution scenario for the early Milky Way, as proposed by previous stud-ies. In this scenario, stars initially formed in a high-{\\alpha} primordial disk were dynamically heated by the massive accretion event (GES). This process redistributed stellar orbits, creat-ing the Splash population, while the undisturbed portion of the primordial disk persisted as the present-day high-{\\alpha} disk component.         |\n",
       "|<p style=\"color:green\"> **ERROR** </p>| <p style=\"color:green\">affiliation error: mpia.affiliation_verifications: 'Heidelberg' keyword not found.</p> |"
      ],
      "text/plain": [
       "<IPython.core.display.Markdown object>"
      ]
     },
     "metadata": {},
     "output_type": "display_data"
    }
   ],
   "source": [
    "import datetime\n",
    "today = str(datetime.date.today())\n",
    "logfile = f\"_build/html/logs/log-{today}.md\"\n",
    "\n",
    "\n",
    "with open(logfile, 'w') as logs:\n",
    "    # Success\n",
    "    logs.write(f'# Arxiv on Deck 2: Logs - {today}\\n\\n')\n",
    "    logs.write(\"\"\"* Arxiv had {0:,d} new papers\\n\"\"\".format(len(new_papers)))\n",
    "    logs.write(\"\"\"    * {0:,d} with possible author matches\\n\\n\"\"\".format(len(candidates)))\n",
    "    logs.write(\"## Sucessful papers\\n\\n\")\n",
    "    display(Markdown(\"## Successful papers\"))\n",
    "    success = [k[0] for k in documents]\n",
    "    for candid in candidates:\n",
    "        if candid['identifier'].split(':')[-1] in success:\n",
    "            display(candid)\n",
    "            logs.write(candid.generate_markdown_text() + '\\n\\n')\n",
    "\n",
    "    ## failed\n",
    "    logs.write(\"## Failed papers\\n\\n\")\n",
    "    display(Markdown(\"## Failed papers\"))\n",
    "    failed = sorted(failed, key=lambda x: x[1])\n",
    "    current_reason = \"\"\n",
    "    for paper, reason in failed:\n",
    "        if 'affiliation' in reason:\n",
    "            color = 'green'\n",
    "        else:\n",
    "            color = 'red'\n",
    "        data = Markdown(\n",
    "                paper.generate_markdown_text() + \n",
    "                f'\\n|<p style=\"color:{color:s}\"> **ERROR** </p>| <p style=\"color:{color:s}\">{reason:s}</p> |'\n",
    "               )\n",
    "        if reason != current_reason:\n",
    "            logs.write(f'### {reason:s} \\n\\n')\n",
    "            current_reason = reason\n",
    "        logs.write(data.data + '\\n\\n')\n",
    "        \n",
    "        # only display here the important errors (all in logs)\n",
    "        # if color in ('red',):\n",
    "        display(data)"
   ]
  },
  {
   "cell_type": "markdown",
   "id": "472d20ee",
   "metadata": {
    "papermill": {
     "duration": 0.004231,
     "end_time": "2025-09-10T04:13:38.131612",
     "exception": false,
     "start_time": "2025-09-10T04:13:38.127381",
     "status": "completed"
    },
    "tags": []
   },
   "source": [
    "## Export documents\n",
    "\n",
    "We now write the .md files and export relevant images"
   ]
  },
  {
   "cell_type": "code",
   "execution_count": 7,
   "id": "d426aed9",
   "metadata": {
    "execution": {
     "iopub.execute_input": "2025-09-10T04:13:38.140984Z",
     "iopub.status.busy": "2025-09-10T04:13:38.140781Z",
     "iopub.status.idle": "2025-09-10T04:13:38.147499Z",
     "shell.execute_reply": "2025-09-10T04:13:38.146964Z"
    },
    "papermill": {
     "duration": 0.01267,
     "end_time": "2025-09-10T04:13:38.148525",
     "exception": false,
     "start_time": "2025-09-10T04:13:38.135855",
     "status": "completed"
    },
    "tags": []
   },
   "outputs": [],
   "source": [
    "def export_markdown_summary(md: str, md_fname:str, directory: str):\n",
    "    \"\"\"Export MD document and associated relevant images\"\"\"\n",
    "    import os\n",
    "    import shutil\n",
    "    import re\n",
    "\n",
    "    if (os.path.exists(directory) and not os.path.isdir(directory)):\n",
    "        raise RuntimeError(f\"a non-directory file exists with name {directory:s}\")\n",
    "\n",
    "    if (not os.path.exists(directory)):\n",
    "        print(f\"creating directory {directory:s}\")\n",
    "        os.mkdir(directory)\n",
    "\n",
    "    fig_fnames = (re.compile(r'\\[Fig.*\\]\\((.*)\\)').findall(md) + \n",
    "                  re.compile(r'\\<img src=\"([^>\\s]*)\"[^>]*/>').findall(md))\n",
    "    print(\"found figures\", fig_fnames)\n",
    "    for fname in fig_fnames:\n",
    "        if 'http' in fname:\n",
    "            # No need to copy online figures\n",
    "            continue\n",
    "        if not os.path.exists(fname):\n",
    "            print(\"file not found\", fname)\n",
    "            continue\n",
    "        print(\"copying \", fname, \"to\", directory)\n",
    "        destdir = os.path.join(directory, os.path.dirname(fname))\n",
    "        destfname = os.path.join(destdir, os.path.basename(fname))\n",
    "        try:\n",
    "            os.makedirs(destdir)\n",
    "        except FileExistsError:\n",
    "            pass\n",
    "        shutil.copy(fname, destfname)\n",
    "    with open(os.path.join(directory, md_fname), 'w') as fout:\n",
    "        fout.write(md)\n",
    "    print(\"exported in \", os.path.join(directory, md_fname))\n",
    "    [print(\"    + \" + os.path.join(directory,fk)) for fk in fig_fnames]"
   ]
  },
  {
   "cell_type": "code",
   "execution_count": 8,
   "id": "014d04a4",
   "metadata": {
    "execution": {
     "iopub.execute_input": "2025-09-10T04:13:38.157759Z",
     "iopub.status.busy": "2025-09-10T04:13:38.157579Z",
     "iopub.status.idle": "2025-09-10T04:13:38.166351Z",
     "shell.execute_reply": "2025-09-10T04:13:38.165708Z"
    },
    "papermill": {
     "duration": 0.014591,
     "end_time": "2025-09-10T04:13:38.167386",
     "exception": false,
     "start_time": "2025-09-10T04:13:38.152795",
     "status": "completed"
    },
    "tags": []
   },
   "outputs": [
    {
     "name": "stdout",
     "output_type": "stream",
     "text": [
      "found figures ['tmp_2509.07078/./figures/InfallEvolExamplesSeed48_DM30_ResHMSM-eps-converted-to.png', 'tmp_2509.07078/./figures/StrippingHalfTime_DM30_ResHMSM_2-eps-converted-to.png', 'tmp_2509.07078/./figures/subhaloMassFct_resTest_allSubs.png']\n",
      "copying  tmp_2509.07078/./figures/InfallEvolExamplesSeed48_DM30_ResHMSM-eps-converted-to.png to _build/html/\n",
      "copying  tmp_2509.07078/./figures/StrippingHalfTime_DM30_ResHMSM_2-eps-converted-to.png to _build/html/\n",
      "copying  tmp_2509.07078/./figures/subhaloMassFct_resTest_allSubs.png to _build/html/\n",
      "exported in  _build/html/2509.07078.md\n",
      "    + _build/html/tmp_2509.07078/./figures/InfallEvolExamplesSeed48_DM30_ResHMSM-eps-converted-to.png\n",
      "    + _build/html/tmp_2509.07078/./figures/StrippingHalfTime_DM30_ResHMSM_2-eps-converted-to.png\n",
      "    + _build/html/tmp_2509.07078/./figures/subhaloMassFct_resTest_allSubs.png\n",
      "found figures ['tmp_2509.07640/./Fig/hp_HEALPix.png', 'tmp_2509.07640/./Fig/star_pair_fit_sigma.png', 'tmp_2509.07640/./Fig/SFD_vs_Our.png']\n",
      "copying  tmp_2509.07640/./Fig/hp_HEALPix.png to _build/html/\n",
      "copying  tmp_2509.07640/./Fig/star_pair_fit_sigma.png to _build/html/\n",
      "copying  tmp_2509.07640/./Fig/SFD_vs_Our.png to _build/html/\n",
      "exported in  _build/html/2509.07640.md\n",
      "    + _build/html/tmp_2509.07640/./Fig/hp_HEALPix.png\n",
      "    + _build/html/tmp_2509.07640/./Fig/star_pair_fit_sigma.png\n",
      "    + _build/html/tmp_2509.07640/./Fig/SFD_vs_Our.png\n"
     ]
    }
   ],
   "source": [
    "for paper_id, md in documents:\n",
    "    export_markdown_summary(md, f\"{paper_id:s}.md\", '_build/html/')"
   ]
  },
  {
   "cell_type": "markdown",
   "id": "f087a0a7",
   "metadata": {
    "papermill": {
     "duration": 0.004304,
     "end_time": "2025-09-10T04:13:38.176615",
     "exception": false,
     "start_time": "2025-09-10T04:13:38.172311",
     "status": "completed"
    },
    "tags": []
   },
   "source": [
    "## Display the papers\n",
    "\n",
    "Not necessary but allows for a quick check."
   ]
  },
  {
   "cell_type": "code",
   "execution_count": 9,
   "id": "fd25f625",
   "metadata": {
    "execution": {
     "iopub.execute_input": "2025-09-10T04:13:38.186011Z",
     "iopub.status.busy": "2025-09-10T04:13:38.185784Z",
     "iopub.status.idle": "2025-09-10T04:13:38.191570Z",
     "shell.execute_reply": "2025-09-10T04:13:38.191014Z"
    },
    "papermill": {
     "duration": 0.011619,
     "end_time": "2025-09-10T04:13:38.192555",
     "exception": false,
     "start_time": "2025-09-10T04:13:38.180936",
     "status": "completed"
    },
    "scrolled": false,
    "tags": []
   },
   "outputs": [
    {
     "data": {
      "text/markdown": [
       "<div class=\"macros\" style=\"visibility:hidden;\">\n",
       "$\\newcommand{\\ensuremath}{}$\n",
       "$\\newcommand{\\xspace}{}$\n",
       "$\\newcommand{\\object}[1]{\\texttt{#1}}$\n",
       "$\\newcommand{\\farcs}{{.}''}$\n",
       "$\\newcommand{\\farcm}{{.}'}$\n",
       "$\\newcommand{\\arcsec}{''}$\n",
       "$\\newcommand{\\arcmin}{'}$\n",
       "$\\newcommand{\\ion}[2]{#1#2}$\n",
       "$\\newcommand{\\textsc}[1]{\\textrm{#1}}$\n",
       "$\\newcommand{\\hl}[1]{\\textrm{#1}}$\n",
       "$\\newcommand{\\footnote}[1]{}$\n",
       "$\\newcommand{\\sm}{\\small}$\n",
       "$\\newcommand{\\dint}{ {\\rm d}}$\n",
       "$\\newcommand{\\hmsun}{ h^{-1} {\\rm M_\\odot}}$\n",
       "$\\newcommand{\\msun}{{ \\rm M_\\odot}}$\n",
       "$\\newcommand{\\vmax}{{ V_{\\rm max}~}}$\n",
       "$\\newcommand{\\Lsun}{{ \\rm L_\\odot}}$\n",
       "$\\newcommand{\\kms}{ {\\rm km} {\\rm s}^{-1}}$\n",
       "$\\newcommand{\\cm}{ {\\rm cm}}$\n",
       "$\\newcommand{\\erg}{ {\\rm erg}}$\n",
       "$\\newcommand{\\Gyr}{ {\\rm Gyr}}$\n",
       "$\\newcommand{\\K}{ {\\rm K}}$\n",
       "$\\newcommand{\\Myr}{ {\\rm Myr}}$\n",
       "$\\newcommand{\\pc}{ {\\rm pc}}$\n",
       "$\\newcommand{\\kpc}{ {\\rm kpc}}$\n",
       "$\\newcommand{\\Mpc}{ {\\rm Mpc}}$\n",
       "$\\newcommand{\\hkpc}{ h^{-1} {\\rm kpc}}$\n",
       "$\\newcommand{\\hmpc}{ h^{-1} {\\rm Mpc}}$\n",
       "$\\newcommand{\\cpm}{ {\\rm cm}^2 {\\rm g}^{-1}}$\n",
       "$\\newcommand{\\gcm}{  {\\rm g} {\\rm cm}^{-3}}$\n",
       "$\\newcommand{\\mum}{ \\mu{\\rm m}}$\n",
       "$\\newcommand{\\mstar}{M_{\\star}}$\n",
       "$\\newcommand{\\ml}[1]{\\textcolor{red}{#1}}$\n",
       "$\\newcommand{\\ap}[1]{\\textcolor{magenta}{#1}}$\n",
       "$\\newcommand{\\gsim}{ \\lower .75ex \\hbox{\\sim} \\llap{\\raise .27ex \\hbox{>}} }$\n",
       "$\\newcommand{\\lsim}{ \\lower .75ex \\hbox{\\sim} \\llap{\\raise .27ex \\hbox{<}} }$\n",
       "$\\newcommand\\MTWOC{M_{\\rm 200c}}$\n",
       "$\\newcommand\\RTWOC{R_{\\rm 200c}}$\n",
       "$\\newcommand\\mn{@urlcharsother}$\n",
       "$\\newcommand\\mn{@doi}$\n",
       "$\\newcommand\\mn{@doi@}$\n",
       "$\\newcommand\\mn{@eprint#1#2}$\n",
       "$\\newcommand\\mn{@eprint@arXiv#1}$\n",
       "$\\newcommand\\mn{@eprint@dblp#1}$\n",
       "$\\newcommand\\mn{@eprint@#1:#2:#3:#4}$\n",
       "$\\newcommand{\\@}{tempa}$\n",
       "$\\newcommand{\\@}{tempa }$\n",
       "$\\newcommand{\\@}{tempb }$\n",
       "$\\newcommand{\\@}{tempc$\n",
       "$  }$\n",
       "$\\newcommand{\\@}{tempb }$</div>\n",
       "\n",
       "\n",
       "\n",
       "<div id=\"title\">\n",
       "\n",
       "# Numerical effects on the stripping of dark matter and stars in IllustrisTNG galaxy groups and clusters\n",
       "\n",
       "</div>\n",
       "<div id=\"comments\">\n",
       "\n",
       "[![arXiv](https://img.shields.io/badge/arXiv-2509.07078-b31b1b.svg)](https://arxiv.org/abs/2509.07078)<mark>Appeared on: 2025-09-10</mark> -  _23 pages, 16 figures, to be submitted to MNRAS_\n",
       "\n",
       "</div>\n",
       "<div id=\"authors\">\n",
       "\n",
       "M. R. Lovell, et al. -- incl., <mark>A. Pillepich</mark>\n",
       "\n",
       "</div>\n",
       "<div id=\"abstract\">\n",
       "\n",
       "**Abstract:** $\\noindent$ The stellar haloes and intra-cluster light around galaxies are crucial test beds for dark matter (DM) physics and galaxy formation models. We consider the role that the numerical resolution plays in the modelling of these systems by studying the stripping of satellites in the IllustrisTNG cosmological simulations. We focus on host haloes of total halo mass $\\MTWOC=10^{12-15}\\msun$ and satellites of stellar mass $>10^{7}$  $\\msun$ , and compare stellar halo / satellite properties across 9 IllustrisTNG runs with baryonic particle mass resolution between $8.5\\times10^4\\msun$ and $7\\times10^8$  $\\msun$ , using a Lagrangian-region technique to identify counterpart satellites across different resolution simulations of the same volume. We publish the corresponding catalogues alongside this paper. We demonstrate that the stripping of DM from satellites that orbit in group- and cluster-mass hosts is largely independent of resolution at least until 90 per cent of their initial mass at infall has been stripped. We do not find evidence for spurious disruption of galaxies due to insufficient resolution for the satellite masses we consider. By contrast, the stripping of stellar mass is strongly resolution-dependent: each factor of 8 improvement in particle stellar mass typically adds 2 Gyr to the stripping time. Improved numerical resolution within the IllustrisTNG model generally results in more compact satellites with larger stellar masses, which in turn generate more centrally concentrated stellar haloes and intra-cluster mass profiles. However, the concomitant increase in stellar mass of both satellites and hosts may still be the cause for the overprediction of the stellar halo mass at large host radii relative to observations seen in some previous studies.\n",
       "\n",
       "</div>\n",
       "\n",
       "<div id=\"div_fig1\">\n",
       "\n",
       "<img src=\"tmp_2509.07078/./figures/InfallEvolExamplesSeed48_DM30_ResHMSM-eps-converted-to.png\" alt=\"Fig8\" width=\"100%\"/>\n",
       "\n",
       "**Figure 8. -** The evolution with time of the DM mass in randomly-selected TNG example satellites, starting at infall. Columns (rows) denote bins in satellite stellar mass at infall (host halo mass at $z=0$). Here we show the evolution of satellite galaxies matched across runs at different resolution levels and selected in the highest one (L1, i.e. selected in TNG50-1, TNG100-1 and TNG300-1 as described in Section \\ref{sec:stripping_methods}). Results from the L1, L2, and L3 runs are shown as solid, dashed and dot-dashed curves, respectively, with different colours denoting different simulated volumes. The smaller the resolution effects on the stripping of DM from satellites, the smaller is the distance among curves of the same colour. (*fig:IEDM*)\n",
       "\n",
       "</div>\n",
       "<div id=\"div_fig2\">\n",
       "\n",
       "<img src=\"tmp_2509.07078/./figures/StrippingHalfTime_DM30_ResHMSM_2-eps-converted-to.png\" alt=\"Fig10\" width=\"100%\"/>\n",
       "\n",
       "**Figure 10. -** The time after infall at which galaxies are first stripped to 50 per cent of their infall DM mass as measured within 30 kpc, $t_\\rmn{50}$. On the $y$-axis we show the difference in stripping time between high- and low-resolution copies of satellites: L3 minus L2 and L2 minus L1. On the $x$-axis we show the $t_\\rmn{50}$ of the higher resolution counterpart. If the number of L3--to--L2 matches in a panel is at least half the number of L2--to--L1 matches, we plot data for both sets of pairs; otherwise we only plot the L2--to--L1 data. Points below the 1:1 line (i.e. the dashed line at ratio equal 0) denote satellite pairs for which the low resolution counterpart is stripped earlier than the higher resolution version, and the opposite is true for points above the 1:1 line. The median data points are shown as large plus symbols (L3 versus L2) and large crosses (L2 versus L1) when binned by the L1 $M_\\rmn{*-Infall}$; we also include L3 versus L2 medians when binned by L2 $M_\\rmn{*-Infall}$ as empty circles. The diagonal black lines delineate parts of the plotting region that cannot include data, because either $t_\\rmn{50}$ of the low resolution counterpart would occur prior to infall or later than 10.5 Gyr, i.e. at a time later than $z=0$. Each panel corresponds to a different halo mass / satellite infall stellar mass bin combination, which are binned by the $M_\\rmn{host}$ and $M_\\rmn{*-Infall}$ of the L1 counterpart. The relationship between symbol colour and data set combination is given in the bottom right panel figure legend. On average, and barring the worst resolution level at hand (TNG300-3), the same satellite across resolution levels is stripped of its DM mass at similar rates. However, poorer resolution tends to strip faster those satellites that take longer to be stripped (see markers below the zero line and with larger times after infall to be 50 per cent stripped). (*fig:STDM1*)\n",
       "\n",
       "</div>\n",
       "<div id=\"div_fig3\">\n",
       "\n",
       "<img src=\"tmp_2509.07078/./figures/subhaloMassFct_resTest_allSubs.png\" alt=\"Fig5\" width=\"100%\"/>\n",
       "\n",
       "**Figure 5. -** Subhalo mass functions for six logarithmic bins in host halo mass across the TNG simulation suite at $z=0$. The definition of mass is the total mass bound to each subhalo, here referred to as the dynamical mass, $M_\\rmn{dyn}$. Level-1 resolution simulations are shown with solid lines, level-2 with faded dashed lines, and level-3 with faded dot-dashed lines. TNG100, TNG300, and TNG50 results are shown in blue, orange, and magenta, respectively. The host halo masses increase across panels, from left to right and top to bottom; the host mass values are given in each panel legend. (*fig:submf*)\n",
       "\n",
       "</div><div id=\"qrcode\"><img src=https://api.qrserver.com/v1/create-qr-code/?size=100x100&data=\"https://arxiv.org/abs/2509.07078\"></div>"
      ],
      "text/plain": [
       "<IPython.core.display.Markdown object>"
      ]
     },
     "metadata": {},
     "output_type": "display_data"
    },
    {
     "data": {
      "text/markdown": [
       "<div class=\"macros\" style=\"visibility:hidden;\">\n",
       "$\\newcommand{\\ensuremath}{}$\n",
       "$\\newcommand{\\xspace}{}$\n",
       "$\\newcommand{\\object}[1]{\\texttt{#1}}$\n",
       "$\\newcommand{\\farcs}{{.}''}$\n",
       "$\\newcommand{\\farcm}{{.}'}$\n",
       "$\\newcommand{\\arcsec}{''}$\n",
       "$\\newcommand{\\arcmin}{'}$\n",
       "$\\newcommand{\\ion}[2]{#1#2}$\n",
       "$\\newcommand{\\textsc}[1]{\\textrm{#1}}$\n",
       "$\\newcommand{\\hl}[1]{\\textrm{#1}}$\n",
       "$\\newcommand{\\footnote}[1]{}$\n",
       "$\\newcommand$\n",
       "$\\newcommand$\n",
       "$\\newcommand$\n",
       "$\\newcommand$\n",
       "$\\newcommand$\n",
       "$\\newcommand$\n",
       "$\\newcommand$\n",
       "$\\newcommand$\n",
       "$\\newcommand$\n",
       "$\\newcommand$\n",
       "$\\newcommand$\n",
       "$\\newcommand$</div>\n",
       "\n",
       "\n",
       "\n",
       "<div id=\"title\">\n",
       "\n",
       "# An all-sky 3D dust map Based on Gaia and LAMOST\n",
       "\n",
       "</div>\n",
       "<div id=\"comments\">\n",
       "\n",
       "[![arXiv](https://img.shields.io/badge/arXiv-2509.07640-b31b1b.svg)](https://arxiv.org/abs/2509.07640)<mark>Appeared on: 2025-09-10</mark> -  _25 pages, 20 figures, 3 tables, published in The Astrophysical Journal Supplement Series (ApJS)_\n",
       "\n",
       "</div>\n",
       "<div id=\"authors\">\n",
       "\n",
       "T. Wang (王涛), et al.\n",
       "\n",
       "</div>\n",
       "<div id=\"abstract\">\n",
       "\n",
       "**Abstract:** We present a comprehensive 3D dust reddening map covering the entire Milky Way, constructed by combining reddening estimates based on LAMOST low-resolution spectra (E(B $-$ V) $_{\\rm LAMOST}$ ) with those derived from $\\gaia$ XP spectra (E(B $-$ V) $_{\\rm XP}$ ), along with revised $\\gaia$ distances. E(B $-$ V) $_{\\rm LAMOST}$ values of $\\sim$ 4.6 million unique sources were obtained with the standard-pair analysis using LAMOST DR11 stellar parameters and synthesized $B/V$ -band photometry from $\\gaia$ XP spectra, showing a typical precision of $\\sim$ 0.01 mag. The E(B $-$ V) $_{\\rm XP}$ from the catalog of [Zhang, Green and Rix (2023)]() , which was derived using forward modeling of $\\gaia$ XP spectra, were cross-validated with E(B $-$ V) $_{\\rm LAMOST}$ , leading to the selection of $\\sim$ 150 million high-reliability measurements. The combined dataset achieves a median precision of $\\sim$ 0.03 mag for E(B $-$ V). To model the reddening--distance relationship along various lines-of-sight, we implemented a parametric approach that accounts for contributions from the local bubble, diffuse interstellar-medium, and multiple potential molecular clouds. The sky was adaptively partitioned based on stellar density, resulting in angular resolutions ranging from 3.4 $^{\\prime}$ to 58 $^{\\prime}$ , with about half of the sky having a resolution better than 6.9 $^{\\prime}$ . The reddening precision of our 3D map for individual stars reaches $\\sim$ 0.01 mag in most regions at $|b| > 20^\\circ$ , but degrades to 0.01 -- 0.05 mag at $|b| < 20^\\circ$ . The map reaches a maximum distance of 3 -- 5 kpc in high-extinction regions with $|b| < 5^\\circ$ , and extends to 10 -- 15 kpc elsewhere. An interactive platform and Python package have been developed for utilization of the 3D dust map.\n",
       "\n",
       "</div>\n",
       "\n",
       "<div id=\"div_fig1\">\n",
       "\n",
       "<img src=\"tmp_2509.07640/./Fig/hp_HEALPix.png\" alt=\"Fig14\" width=\"100%\"/>\n",
       "\n",
       "**Figure 14. -** Adaptive multi-resolution line-of-sight scheme maximum reliable distance for each line-of-sight. (a) The number density of the LAMOST and XP sample（see subsection \\ref{sec:data_set}）in the Galactic coordinate system. The number of stars per $\\sim$ 0.21 deg$^2$ area（$\\rm N_{side}$ =128）is shown. (b) A adaptive multi-resolution map created using the data shown in panel (a), in the same coordinate system. The map consists of five distinct HEALPix pixels, each represented by a different color: brown represents a resolution of 54$\\arcmin$(area $\\sim$ 0.84$ \\mathrm{deg}^2$), yellow represents 28$\\arcmin$(area $\\sim$ 0.21$ \\mathrm{deg}^2$), blue represents 14$\\arcmin$(area $\\sim$ 0.05$ \\mathrm{deg}^2$), red represents 6.6$\\arcmin$(area $\\sim$ 0.01$ \\mathrm{deg}^2$), and green represents 3.4$\\arcmin$(area $\\sim$ 0.003$ \\mathrm{deg}^2$). (c) The distribution of the number of stars per line-of-sight, derived from the adaptive multi-resolution scheme shown in panel (b), is color-coded according to the stellar count. (d) In the adaptive multi-resolution map, the maximum reliable distance for each line-of-sight is color-coded. (*fig:HEALPix*)\n",
       "\n",
       "</div>\n",
       "<div id=\"div_fig2\">\n",
       "\n",
       "<img src=\"tmp_2509.07640/./Fig/star_pair_fit_sigma.png\" alt=\"Fig2\" width=\"100%\"/>\n",
       "\n",
       "**Figure 2. -** The 2D histogram of the residual standard deviation from the linear fit to the target stars, derived using the standard-pair algorithm, as a function of $\\tefflm$, with color encoding representing the stellar number density. (*fig:star_pair_fit_sigma*)\n",
       "\n",
       "</div>\n",
       "<div id=\"div_fig3\">\n",
       "\n",
       "<img src=\"tmp_2509.07640/./Fig/SFD_vs_Our.png\" alt=\"Fig9\" width=\"100%\"/>\n",
       "\n",
       "**Figure 9. -** A comparison of the E(B$-$V) derived from the extinction integral at the maximum reliable distance in this work and those from the SFD is shown. The black points represent the median values within each bin, and the black line is the linear fit to these points. \\st{Note that regions with |b| > 20$^\\circ$ and MCs have been excluded.} LMC, SMC, and |b| < 20$^\\circ$ regions were excluded. (*fig:sfd_our*)\n",
       "\n",
       "</div><div id=\"qrcode\"><img src=https://api.qrserver.com/v1/create-qr-code/?size=100x100&data=\"https://arxiv.org/abs/2509.07640\"></div>"
      ],
      "text/plain": [
       "<IPython.core.display.Markdown object>"
      ]
     },
     "metadata": {},
     "output_type": "display_data"
    }
   ],
   "source": [
    "[display(Markdown(k[1])) for k in documents];"
   ]
  },
  {
   "cell_type": "markdown",
   "id": "873873a4",
   "metadata": {
    "papermill": {
     "duration": 0.004732,
     "end_time": "2025-09-10T04:13:38.202273",
     "exception": false,
     "start_time": "2025-09-10T04:13:38.197541",
     "status": "completed"
    },
    "tags": []
   },
   "source": [
    "# Create HTML index"
   ]
  },
  {
   "cell_type": "code",
   "execution_count": 10,
   "id": "cf665672",
   "metadata": {
    "execution": {
     "iopub.execute_input": "2025-09-10T04:13:38.212463Z",
     "iopub.status.busy": "2025-09-10T04:13:38.212235Z",
     "iopub.status.idle": "2025-09-10T04:13:38.219127Z",
     "shell.execute_reply": "2025-09-10T04:13:38.218562Z"
    },
    "papermill": {
     "duration": 0.013058,
     "end_time": "2025-09-10T04:13:38.220073",
     "exception": false,
     "start_time": "2025-09-10T04:13:38.207015",
     "status": "completed"
    },
    "tags": []
   },
   "outputs": [
    {
     "name": "stdout",
     "output_type": "stream",
     "text": [
      "127  publications files modified in the last 7 days.\n"
     ]
    }
   ],
   "source": [
    "from datetime import datetime, timedelta, timezone\n",
    "from glob import glob\n",
    "import os\n",
    "\n",
    "files = glob('_build/html/*.md')\n",
    "days = 7\n",
    "now = datetime.today()\n",
    "res = []\n",
    "for fk in files:\n",
    "    stat_result = os.stat(fk).st_ctime\n",
    "    modified = datetime.fromtimestamp(stat_result, tz=timezone.utc).replace(tzinfo=None)\n",
    "    delta = now.today() - modified\n",
    "    if delta <= timedelta(days=days):\n",
    "        res.append((delta.seconds, fk))\n",
    "res = [k[1] for k in reversed(sorted(res, key=lambda x:x[1]))]\n",
    "npub = len(res)\n",
    "print(len(res), f\" publications files modified in the last {days:d} days.\")\n",
    "# [ print('\\t', k) for k in res ];"
   ]
  },
  {
   "cell_type": "code",
   "execution_count": 11,
   "id": "015de740",
   "metadata": {
    "execution": {
     "iopub.execute_input": "2025-09-10T04:13:38.230515Z",
     "iopub.status.busy": "2025-09-10T04:13:38.230338Z",
     "iopub.status.idle": "2025-09-10T04:13:38.242447Z",
     "shell.execute_reply": "2025-09-10T04:13:38.241866Z"
    },
    "papermill": {
     "duration": 0.018453,
     "end_time": "2025-09-10T04:13:38.243469",
     "exception": false,
     "start_time": "2025-09-10T04:13:38.225016",
     "status": "completed"
    },
    "tags": []
   },
   "outputs": [
    {
     "name": "stdout",
     "output_type": "stream",
     "text": [
      "9  publications in the last 7 days.\n"
     ]
    }
   ],
   "source": [
    "import datetime\n",
    "from glob import glob\n",
    "\n",
    "def get_last_n_days(lst, days=1):\n",
    "    \"\"\" Get the documents from the last n days \"\"\"\n",
    "    sorted_lst = sorted(lst, key=lambda x: x[1], reverse=True)\n",
    "    for fname, date in sorted_lst:\n",
    "        if date >= str(datetime.date.today() - datetime.timedelta(days=days)):\n",
    "            yield fname\n",
    "\n",
    "def extract_appearance_dates(lst_file):\n",
    "    dates = []\n",
    "\n",
    "    def get_date(line):\n",
    "        return line\\\n",
    "            .split('Appeared on:')[-1]\\\n",
    "            .split('</mark>')[0].strip()\n",
    "\n",
    "    for fname in lst:\n",
    "        with open(fname, 'r') as f:\n",
    "            found_date = False\n",
    "            for line in f:\n",
    "                if not found_date:\n",
    "                    if \"Appeared on\" in line:\n",
    "                        found_date = True\n",
    "                        dates.append((fname, get_date(line)))\n",
    "                else:\n",
    "                    break\n",
    "    return dates\n",
    "\n",
    "from glob import glob\n",
    "lst = glob('_build/html/*md')\n",
    "days = 7\n",
    "dates = extract_appearance_dates(lst)\n",
    "res = list(get_last_n_days(dates, days))\n",
    "npub = len(res)\n",
    "print(len(res), f\" publications in the last {days:d} days.\")"
   ]
  },
  {
   "cell_type": "code",
   "execution_count": 12,
   "id": "52ca0208",
   "metadata": {
    "execution": {
     "iopub.execute_input": "2025-09-10T04:13:38.254376Z",
     "iopub.status.busy": "2025-09-10T04:13:38.254129Z",
     "iopub.status.idle": "2025-09-10T04:13:38.258778Z",
     "shell.execute_reply": "2025-09-10T04:13:38.258239Z"
    },
    "papermill": {
     "duration": 0.011176,
     "end_time": "2025-09-10T04:13:38.259752",
     "exception": false,
     "start_time": "2025-09-10T04:13:38.248576",
     "status": "completed"
    },
    "scrolled": false,
    "tags": []
   },
   "outputs": [],
   "source": [
    "def create_carousel(npub=4):\n",
    "    \"\"\" Generate the HTML code for a carousel with `npub` slides \"\"\"\n",
    "    carousel = [\"\"\"  <div class=\"carousel\" \"\"\",\n",
    "                \"\"\"       data-flickity='{ \"autoPlay\": 10000, \"adaptiveHeight\": true, \"resize\": true, \"wrapAround\": true, \"pauseAutoPlayOnHover\": true, \"groupCells\": 1 }' id=\"asyncTypeset\">\"\"\"\n",
    "                ]\n",
    "    \n",
    "    item_str = \"\"\"    <div class=\"carousel-cell\"> <div id=\"slide{k}\" class=\"md_view\">Content {k}</div> </div>\"\"\"\n",
    "    for k in range(1, npub + 1):\n",
    "        carousel.append(item_str.format(k=k))\n",
    "    carousel.append(\"  </div>\")\n",
    "    return '\\n'.join(carousel)\n",
    "\n",
    "def create_grid(npub=4):\n",
    "    \"\"\" Generate the HTML code for a flat grid with `npub` slides \"\"\"\n",
    "    grid = [\"\"\"  <div class=\"grid\"> \"\"\",\n",
    "                ]\n",
    "    \n",
    "    item_str = \"\"\"    <div class=\"grid-item\"> <div id=\"slide{k}\" class=\"md_view\">Content {k}</div> </div>\"\"\"\n",
    "    for k in range(1, npub + 1):\n",
    "        grid.append(item_str.format(k=k))\n",
    "    grid.append(\"  </div>\")\n",
    "    return '\\n'.join(grid)"
   ]
  },
  {
   "cell_type": "code",
   "execution_count": 13,
   "id": "a6eac5b6",
   "metadata": {
    "execution": {
     "iopub.execute_input": "2025-09-10T04:13:38.270390Z",
     "iopub.status.busy": "2025-09-10T04:13:38.270177Z",
     "iopub.status.idle": "2025-09-10T04:13:38.275014Z",
     "shell.execute_reply": "2025-09-10T04:13:38.274485Z"
    },
    "papermill": {
     "duration": 0.011159,
     "end_time": "2025-09-10T04:13:38.275971",
     "exception": false,
     "start_time": "2025-09-10T04:13:38.264812",
     "status": "completed"
    },
    "scrolled": false,
    "tags": []
   },
   "outputs": [],
   "source": [
    "carousel = create_carousel(npub)\n",
    "docs = ', '.join(['\"{0:s}\"'.format(k.split('/')[-1]) for k in res])\n",
    "slides = ', '.join([f'\"slide{k}\"' for k in range(1, npub + 1)])\n",
    "\n",
    "with open(\"daily_template.html\", \"r\") as tpl:\n",
    "    page = tpl.read()\n",
    "    page = page.replace(\"{%-- carousel:s --%}\", carousel)\\\n",
    "               .replace(\"{%-- suptitle:s --%}\",  \"7-day archives\" )\\\n",
    "               .replace(\"{%-- docs:s --%}\", docs)\\\n",
    "               .replace(\"{%-- slides:s --%}\", slides)\n",
    "    \n",
    "with open(\"_build/html/index_7days.html\", 'w') as fout:\n",
    "    fout.write(page)"
   ]
  },
  {
   "cell_type": "code",
   "execution_count": 14,
   "id": "adc1a1ec",
   "metadata": {
    "execution": {
     "iopub.execute_input": "2025-09-10T04:13:38.287137Z",
     "iopub.status.busy": "2025-09-10T04:13:38.286900Z",
     "iopub.status.idle": "2025-09-10T04:13:38.293003Z",
     "shell.execute_reply": "2025-09-10T04:13:38.292467Z"
    },
    "papermill": {
     "duration": 0.012741,
     "end_time": "2025-09-10T04:13:38.293978",
     "exception": false,
     "start_time": "2025-09-10T04:13:38.281237",
     "status": "completed"
    },
    "tags": []
   },
   "outputs": [
    {
     "name": "stdout",
     "output_type": "stream",
     "text": [
      "2  publications in the last day.\n"
     ]
    }
   ],
   "source": [
    "# redo for today\n",
    "days = 1\n",
    "res = list(get_last_n_days(dates, days))\n",
    "npub = len(res)\n",
    "print(len(res), f\" publications in the last day.\")\n",
    "\n",
    "carousel = create_carousel(npub)\n",
    "docs = ', '.join(['\"{0:s}\"'.format(k.split('/')[-1]) for k in res])\n",
    "slides = ', '.join([f'\"slide{k}\"' for k in range(1, npub + 1)])\n",
    "\n",
    "with open(\"daily_template.html\", \"r\") as tpl:\n",
    "    page = tpl.read()\n",
    "    page = page.replace(\"{%-- carousel:s --%}\", carousel)\\\n",
    "               .replace(\"{%-- suptitle:s --%}\",  \"Daily\" )\\\n",
    "               .replace(\"{%-- docs:s --%}\", docs)\\\n",
    "               .replace(\"{%-- slides:s --%}\", slides)\n",
    "    \n",
    "# print(carousel, docs, slides)\n",
    "# print(page)\n",
    "with open(\"_build/html/index_daily.html\", 'w') as fout:\n",
    "    fout.write(page)"
   ]
  },
  {
   "cell_type": "code",
   "execution_count": 15,
   "id": "00eece82",
   "metadata": {
    "execution": {
     "iopub.execute_input": "2025-09-10T04:13:38.305217Z",
     "iopub.status.busy": "2025-09-10T04:13:38.305036Z",
     "iopub.status.idle": "2025-09-10T04:13:38.311112Z",
     "shell.execute_reply": "2025-09-10T04:13:38.310589Z"
    },
    "papermill": {
     "duration": 0.012764,
     "end_time": "2025-09-10T04:13:38.312110",
     "exception": false,
     "start_time": "2025-09-10T04:13:38.299346",
     "status": "completed"
    },
    "scrolled": false,
    "tags": []
   },
   "outputs": [
    {
     "name": "stdout",
     "output_type": "stream",
     "text": [
      "6  6 publications selected.\n"
     ]
    }
   ],
   "source": [
    "# Create the flat grid of the last N papers (fixed number regardless of dates)\n",
    "from itertools import islice \n",
    "\n",
    "npub = 6\n",
    "res = [k[0] for k in (islice(reversed(sorted(dates, key=lambda x: x[1])), 6))]\n",
    "print(len(res), f\" {npub} publications selected.\")\n",
    "\n",
    "grid = create_grid(npub)\n",
    "docs = ', '.join(['\"{0:s}\"'.format(k.split('/')[-1]) for k in res])\n",
    "slides = ', '.join([f'\"slide{k}\"' for k in range(1, npub + 1)])\n",
    "\n",
    "with open(\"grid_template.html\", \"r\") as tpl:\n",
    "    page = tpl.read()\n",
    "    page = page.replace(\"{%-- grid-content:s --%}\", grid)\\\n",
    "               .replace(\"{%-- suptitle:s --%}\",  f\"Last {npub:,d} papers\" )\\\n",
    "               .replace(\"{%-- docs:s --%}\", docs)\\\n",
    "               .replace(\"{%-- slides:s --%}\", slides)\n",
    "    \n",
    "# print(grid, docs, slides)\n",
    "# print(page)\n",
    "with open(\"_build/html/index_npub_grid.html\", 'w') as fout:\n",
    "    fout.write(page)"
   ]
  }
 ],
 "metadata": {
  "kernelspec": {
   "display_name": "Python 3 (ipykernel)",
   "language": "python",
   "name": "python3"
  },
  "language_info": {
   "codemirror_mode": {
    "name": "ipython",
    "version": 3
   },
   "file_extension": ".py",
   "mimetype": "text/x-python",
   "name": "python",
   "nbconvert_exporter": "python",
   "pygments_lexer": "ipython3",
   "version": "3.9.23"
  },
  "papermill": {
   "default_parameters": {},
   "duration": 73.065207,
   "end_time": "2025-09-10T04:13:38.532644",
   "environment_variables": {},
   "exception": null,
   "input_path": "MPIA daily digest.ipynb",
   "output_path": "log.ipynb",
   "parameters": {},
   "start_time": "2025-09-10T04:12:25.467437",
   "version": "2.6.0"
  },
  "vscode": {
   "interpreter": {
    "hash": "aee8b7b246df8f9039afb4144a1f6fd8d2ca17a180786b69acc140d282b71a49"
   }
  },
  "widgets": {
   "application/vnd.jupyter.widget-state+json": {
    "state": {
     "242d03d6698046b3980bf7bac3918d72": {
      "model_module": "@jupyter-widgets/controls",
      "model_module_version": "2.0.0",
      "model_name": "ProgressStyleModel",
      "state": {
       "_model_module": "@jupyter-widgets/controls",
       "_model_module_version": "2.0.0",
       "_model_name": "ProgressStyleModel",
       "_view_count": null,
       "_view_module": "@jupyter-widgets/base",
       "_view_module_version": "2.0.0",
       "_view_name": "StyleView",
       "bar_color": null,
       "description_width": ""
      }
     },
     "589886327987412b904a11af31468d22": {
      "model_module": "@jupyter-widgets/controls",
      "model_module_version": "2.0.0",
      "model_name": "HTMLModel",
      "state": {
       "_dom_classes": [],
       "_model_module": "@jupyter-widgets/controls",
       "_model_module_version": "2.0.0",
       "_model_name": "HTMLModel",
       "_view_count": null,
       "_view_module": "@jupyter-widgets/controls",
       "_view_module_version": "2.0.0",
       "_view_name": "HTMLView",
       "description": "",
       "description_allow_html": false,
       "layout": "IPY_MODEL_daeca621b3e04a3a853b914f8763d509",
       "placeholder": "​",
       "style": "IPY_MODEL_fc7d9a55036f4f828a8526f1748bbcc6",
       "tabbable": null,
       "tooltip": null,
       "value": " 4/4 [00:50&lt;00:00,  9.36s/it]"
      }
     },
     "5b660227fa2a4daa8f5cae691f79bbf1": {
      "model_module": "@jupyter-widgets/controls",
      "model_module_version": "2.0.0",
      "model_name": "HBoxModel",
      "state": {
       "_dom_classes": [],
       "_model_module": "@jupyter-widgets/controls",
       "_model_module_version": "2.0.0",
       "_model_name": "HBoxModel",
       "_view_count": null,
       "_view_module": "@jupyter-widgets/controls",
       "_view_module_version": "2.0.0",
       "_view_name": "HBoxView",
       "box_style": "",
       "children": [
        "IPY_MODEL_849ff668d430487a8bedd485ab93b555",
        "IPY_MODEL_b393e26f2dc247ce9e94cf9158fa138d",
        "IPY_MODEL_589886327987412b904a11af31468d22"
       ],
       "layout": "IPY_MODEL_9cb99b8fa4cf4931964bb37df7f53b8b",
       "tabbable": null,
       "tooltip": null
      }
     },
     "653ebecf7eb24344a26ba1d853d21cac": {
      "model_module": "@jupyter-widgets/base",
      "model_module_version": "2.0.0",
      "model_name": "LayoutModel",
      "state": {
       "_model_module": "@jupyter-widgets/base",
       "_model_module_version": "2.0.0",
       "_model_name": "LayoutModel",
       "_view_count": null,
       "_view_module": "@jupyter-widgets/base",
       "_view_module_version": "2.0.0",
       "_view_name": "LayoutView",
       "align_content": null,
       "align_items": null,
       "align_self": null,
       "border_bottom": null,
       "border_left": null,
       "border_right": null,
       "border_top": null,
       "bottom": null,
       "display": null,
       "flex": null,
       "flex_flow": null,
       "grid_area": null,
       "grid_auto_columns": null,
       "grid_auto_flow": null,
       "grid_auto_rows": null,
       "grid_column": null,
       "grid_gap": null,
       "grid_row": null,
       "grid_template_areas": null,
       "grid_template_columns": null,
       "grid_template_rows": null,
       "height": null,
       "justify_content": null,
       "justify_items": null,
       "left": null,
       "margin": null,
       "max_height": null,
       "max_width": null,
       "min_height": null,
       "min_width": null,
       "object_fit": null,
       "object_position": null,
       "order": null,
       "overflow": null,
       "padding": null,
       "right": null,
       "top": null,
       "visibility": null,
       "width": null
      }
     },
     "841fb8a6cf294587b473fc411cddaff7": {
      "model_module": "@jupyter-widgets/controls",
      "model_module_version": "2.0.0",
      "model_name": "HTMLStyleModel",
      "state": {
       "_model_module": "@jupyter-widgets/controls",
       "_model_module_version": "2.0.0",
       "_model_name": "HTMLStyleModel",
       "_view_count": null,
       "_view_module": "@jupyter-widgets/base",
       "_view_module_version": "2.0.0",
       "_view_name": "StyleView",
       "background": null,
       "description_width": "",
       "font_size": null,
       "text_color": null
      }
     },
     "849ff668d430487a8bedd485ab93b555": {
      "model_module": "@jupyter-widgets/controls",
      "model_module_version": "2.0.0",
      "model_name": "HTMLModel",
      "state": {
       "_dom_classes": [],
       "_model_module": "@jupyter-widgets/controls",
       "_model_module_version": "2.0.0",
       "_model_name": "HTMLModel",
       "_view_count": null,
       "_view_module": "@jupyter-widgets/controls",
       "_view_module_version": "2.0.0",
       "_view_name": "HTMLView",
       "description": "",
       "description_allow_html": false,
       "layout": "IPY_MODEL_c9111b283e6f41b79beb8807c77efa3f",
       "placeholder": "​",
       "style": "IPY_MODEL_841fb8a6cf294587b473fc411cddaff7",
       "tabbable": null,
       "tooltip": null,
       "value": "100%"
      }
     },
     "9cb99b8fa4cf4931964bb37df7f53b8b": {
      "model_module": "@jupyter-widgets/base",
      "model_module_version": "2.0.0",
      "model_name": "LayoutModel",
      "state": {
       "_model_module": "@jupyter-widgets/base",
       "_model_module_version": "2.0.0",
       "_model_name": "LayoutModel",
       "_view_count": null,
       "_view_module": "@jupyter-widgets/base",
       "_view_module_version": "2.0.0",
       "_view_name": "LayoutView",
       "align_content": null,
       "align_items": null,
       "align_self": null,
       "border_bottom": null,
       "border_left": null,
       "border_right": null,
       "border_top": null,
       "bottom": null,
       "display": null,
       "flex": null,
       "flex_flow": null,
       "grid_area": null,
       "grid_auto_columns": null,
       "grid_auto_flow": null,
       "grid_auto_rows": null,
       "grid_column": null,
       "grid_gap": null,
       "grid_row": null,
       "grid_template_areas": null,
       "grid_template_columns": null,
       "grid_template_rows": null,
       "height": null,
       "justify_content": null,
       "justify_items": null,
       "left": null,
       "margin": null,
       "max_height": null,
       "max_width": null,
       "min_height": null,
       "min_width": null,
       "object_fit": null,
       "object_position": null,
       "order": null,
       "overflow": null,
       "padding": null,
       "right": null,
       "top": null,
       "visibility": null,
       "width": null
      }
     },
     "b393e26f2dc247ce9e94cf9158fa138d": {
      "model_module": "@jupyter-widgets/controls",
      "model_module_version": "2.0.0",
      "model_name": "FloatProgressModel",
      "state": {
       "_dom_classes": [],
       "_model_module": "@jupyter-widgets/controls",
       "_model_module_version": "2.0.0",
       "_model_name": "FloatProgressModel",
       "_view_count": null,
       "_view_module": "@jupyter-widgets/controls",
       "_view_module_version": "2.0.0",
       "_view_name": "ProgressView",
       "bar_style": "success",
       "description": "",
       "description_allow_html": false,
       "layout": "IPY_MODEL_653ebecf7eb24344a26ba1d853d21cac",
       "max": 4.0,
       "min": 0.0,
       "orientation": "horizontal",
       "style": "IPY_MODEL_242d03d6698046b3980bf7bac3918d72",
       "tabbable": null,
       "tooltip": null,
       "value": 4.0
      }
     },
     "c9111b283e6f41b79beb8807c77efa3f": {
      "model_module": "@jupyter-widgets/base",
      "model_module_version": "2.0.0",
      "model_name": "LayoutModel",
      "state": {
       "_model_module": "@jupyter-widgets/base",
       "_model_module_version": "2.0.0",
       "_model_name": "LayoutModel",
       "_view_count": null,
       "_view_module": "@jupyter-widgets/base",
       "_view_module_version": "2.0.0",
       "_view_name": "LayoutView",
       "align_content": null,
       "align_items": null,
       "align_self": null,
       "border_bottom": null,
       "border_left": null,
       "border_right": null,
       "border_top": null,
       "bottom": null,
       "display": null,
       "flex": null,
       "flex_flow": null,
       "grid_area": null,
       "grid_auto_columns": null,
       "grid_auto_flow": null,
       "grid_auto_rows": null,
       "grid_column": null,
       "grid_gap": null,
       "grid_row": null,
       "grid_template_areas": null,
       "grid_template_columns": null,
       "grid_template_rows": null,
       "height": null,
       "justify_content": null,
       "justify_items": null,
       "left": null,
       "margin": null,
       "max_height": null,
       "max_width": null,
       "min_height": null,
       "min_width": null,
       "object_fit": null,
       "object_position": null,
       "order": null,
       "overflow": null,
       "padding": null,
       "right": null,
       "top": null,
       "visibility": null,
       "width": null
      }
     },
     "daeca621b3e04a3a853b914f8763d509": {
      "model_module": "@jupyter-widgets/base",
      "model_module_version": "2.0.0",
      "model_name": "LayoutModel",
      "state": {
       "_model_module": "@jupyter-widgets/base",
       "_model_module_version": "2.0.0",
       "_model_name": "LayoutModel",
       "_view_count": null,
       "_view_module": "@jupyter-widgets/base",
       "_view_module_version": "2.0.0",
       "_view_name": "LayoutView",
       "align_content": null,
       "align_items": null,
       "align_self": null,
       "border_bottom": null,
       "border_left": null,
       "border_right": null,
       "border_top": null,
       "bottom": null,
       "display": null,
       "flex": null,
       "flex_flow": null,
       "grid_area": null,
       "grid_auto_columns": null,
       "grid_auto_flow": null,
       "grid_auto_rows": null,
       "grid_column": null,
       "grid_gap": null,
       "grid_row": null,
       "grid_template_areas": null,
       "grid_template_columns": null,
       "grid_template_rows": null,
       "height": null,
       "justify_content": null,
       "justify_items": null,
       "left": null,
       "margin": null,
       "max_height": null,
       "max_width": null,
       "min_height": null,
       "min_width": null,
       "object_fit": null,
       "object_position": null,
       "order": null,
       "overflow": null,
       "padding": null,
       "right": null,
       "top": null,
       "visibility": null,
       "width": null
      }
     },
     "fc7d9a55036f4f828a8526f1748bbcc6": {
      "model_module": "@jupyter-widgets/controls",
      "model_module_version": "2.0.0",
      "model_name": "HTMLStyleModel",
      "state": {
       "_model_module": "@jupyter-widgets/controls",
       "_model_module_version": "2.0.0",
       "_model_name": "HTMLStyleModel",
       "_view_count": null,
       "_view_module": "@jupyter-widgets/base",
       "_view_module_version": "2.0.0",
       "_view_name": "StyleView",
       "background": null,
       "description_width": "",
       "font_size": null,
       "text_color": null
      }
     }
    },
    "version_major": 2,
    "version_minor": 0
   }
  }
 },
 "nbformat": 4,
 "nbformat_minor": 5
}