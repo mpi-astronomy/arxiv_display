{
 "cells": [
  {
   "cell_type": "markdown",
   "id": "92bcb855",
   "metadata": {
    "papermill": {
     "duration": 0.003638,
     "end_time": "2025-03-31T04:12:00.895033",
     "exception": false,
     "start_time": "2025-03-31T04:12:00.891395",
     "status": "completed"
    },
    "tags": []
   },
   "source": [
    "# MPIA Arxiv on Deck 2\n",
    "\n",
    "Contains the steps to produce the paper extractions."
   ]
  },
  {
   "cell_type": "code",
   "execution_count": 1,
   "id": "3a0d6e11",
   "metadata": {
    "execution": {
     "iopub.execute_input": "2025-03-31T04:12:00.902726Z",
     "iopub.status.busy": "2025-03-31T04:12:00.902097Z",
     "iopub.status.idle": "2025-03-31T04:12:01.446976Z",
     "shell.execute_reply": "2025-03-31T04:12:01.446332Z"
    },
    "papermill": {
     "duration": 0.549994,
     "end_time": "2025-03-31T04:12:01.448269",
     "exception": false,
     "start_time": "2025-03-31T04:12:00.898275",
     "status": "completed"
    },
    "tags": []
   },
   "outputs": [],
   "source": [
    "# Imports\n",
    "import os\n",
    "from IPython.display import Markdown, display\n",
    "from tqdm.notebook import tqdm\n",
    "import warnings\n",
    "from PIL import Image \n",
    "import re\n",
    "\n",
    "# requires arxiv_on_deck_2\n",
    "\n",
    "from arxiv_on_deck_2.arxiv2 import (get_new_papers, \n",
    "                                    get_paper_from_identifier,\n",
    "                                    retrieve_document_source, \n",
    "                                    get_markdown_badge)\n",
    "from arxiv_on_deck_2 import (latex,\n",
    "                             latex_bib,\n",
    "                             mpia,\n",
    "                             highlight_authors_in_list)\n",
    "\n",
    "# Sometimes images are really big\n",
    "Image.MAX_IMAGE_PIXELS = 1000000000 "
   ]
  },
  {
   "cell_type": "code",
   "execution_count": 2,
   "id": "22aa9d44",
   "metadata": {
    "execution": {
     "iopub.execute_input": "2025-03-31T04:12:01.455692Z",
     "iopub.status.busy": "2025-03-31T04:12:01.455242Z",
     "iopub.status.idle": "2025-03-31T04:12:01.463567Z",
     "shell.execute_reply": "2025-03-31T04:12:01.462912Z"
    },
    "papermill": {
     "duration": 0.013222,
     "end_time": "2025-03-31T04:12:01.464686",
     "exception": false,
     "start_time": "2025-03-31T04:12:01.451464",
     "status": "completed"
    },
    "tags": []
   },
   "outputs": [],
   "source": [
    "# Some useful definitions.\n",
    "\n",
    "class AffiliationWarning(UserWarning):\n",
    "    pass\n",
    "\n",
    "class AffiliationError(RuntimeError):\n",
    "    pass\n",
    "\n",
    "def validation(source: str):\n",
    "    \"\"\"Raises error paper during parsing of source file\n",
    "    \n",
    "    Allows checks before parsing TeX code.\n",
    "    \n",
    "    Raises AffiliationWarning\n",
    "    \"\"\"\n",
    "    check = mpia.affiliation_verifications(source, verbose=True)\n",
    "    if check is not True:\n",
    "        raise AffiliationError(\"mpia.affiliation_verifications: \" + check)\n",
    "\n",
    "        \n",
    "warnings.simplefilter('always', AffiliationWarning)\n",
    "\n",
    "\n",
    "def get_markdown_qrcode(paper_id: str):\n",
    "    \"\"\" Generate a qrcode to the arxiv page using qrserver.com\n",
    "    \n",
    "    :param paper: Arxiv paper\n",
    "    :returns: markdown text\n",
    "    \"\"\"\n",
    "    url = r\"https://api.qrserver.com/v1/create-qr-code/?size=100x100&data=\"\n",
    "    txt = f\"\"\"<img src={url}\"https://arxiv.org/abs/{paper_id}\">\"\"\"\n",
    "    txt = '<div id=\"qrcode\">' + txt + '</div>'\n",
    "    return txt\n",
    "\n",
    "\n",
    "def clean_non_western_encoded_characters_commands(text: str) -> str:\n",
    "    \"\"\" Remove non-western encoded characters from a string\n",
    "    List may need to grow.\n",
    "    \n",
    "    :param text: the text to clean\n",
    "    :return: the cleaned text\n",
    "    \"\"\"\n",
    "    text = re.sub(r\"(\\\\begin{CJK}{UTF8}{gbsn})(.*?)(\\\\end{CJK})\", r\"\\2\", text)\n",
    "    return text\n",
    "\n",
    "\n",
    "def get_initials(name: str) -> str:\n",
    "    \"\"\" Get the short name, e.g., A.-B. FamName\n",
    "    :param name: full name\n",
    "    :returns: initials\n",
    "    \"\"\"\n",
    "    initials = []\n",
    "    # account for non western names often in ()\n",
    "    if '(' in name:\n",
    "        name = clean_non_western_encoded_characters_commands(name)\n",
    "        suffix = re.findall(r\"\\((.*?)\\)\", name)[0]\n",
    "        name = name.replace(f\"({suffix})\", '')\n",
    "    else:\n",
    "        suffix = ''\n",
    "    split = name.split()\n",
    "    for token in split[:-1]:\n",
    "        if '-' in token:\n",
    "            current = '-'.join([k[0] + '.' for k in token.split('-')])\n",
    "        else:\n",
    "            current = token[0] + '.'\n",
    "        initials.append(current)\n",
    "    initials.append(split[-1].strip())\n",
    "    if suffix:\n",
    "        initials.append(f\"({suffix})\")\n",
    "    return ' '.join(initials)"
   ]
  },
  {
   "cell_type": "markdown",
   "id": "14bd6310",
   "metadata": {
    "papermill": {
     "duration": 0.00285,
     "end_time": "2025-03-31T04:12:01.470517",
     "exception": false,
     "start_time": "2025-03-31T04:12:01.467667",
     "status": "completed"
    },
    "tags": []
   },
   "source": [
    "## get list of arxiv paper candidates\n",
    "\n",
    "We use the MPIA mitarbeiter list webpage from mpia.de to get author names\n",
    "We then get all new papers from Arxiv and match authors"
   ]
  },
  {
   "cell_type": "code",
   "execution_count": 3,
   "id": "7ea813a8",
   "metadata": {
    "execution": {
     "iopub.execute_input": "2025-03-31T04:12:01.477166Z",
     "iopub.status.busy": "2025-03-31T04:12:01.476911Z",
     "iopub.status.idle": "2025-03-31T04:12:21.248568Z",
     "shell.execute_reply": "2025-03-31T04:12:21.247947Z"
    },
    "papermill": {
     "duration": 19.776445,
     "end_time": "2025-03-31T04:12:21.249831",
     "exception": false,
     "start_time": "2025-03-31T04:12:01.473386",
     "status": "completed"
    },
    "tags": []
   },
   "outputs": [],
   "source": [
    "# deal with the author list and edge cases of people that cannot be consistent on their name  \n",
    "\n",
    "def filter_non_scientists(name: str) -> bool:\n",
    "    \"\"\" Loose filter on expected authorships\n",
    "\n",
    "    removing IT, administration, technical staff\n",
    "    :param name: name\n",
    "    :returns: False if name is not a scientist\n",
    "    \"\"\"\n",
    "    remove_list = ['Licht', 'Binroth', 'Witzel', 'Jordan',\n",
    "                   'Zähringer', 'Scheerer', 'Hoffmann', 'Düe',\n",
    "                   'Hellmich', 'Enkler-Scharpegge', 'Witte-Nguy',\n",
    "                   'Dehen', 'Beckmann', 'Jager', 'Jäger'\n",
    "                  ]\n",
    "\n",
    "    for k in remove_list:\n",
    "        if k in name:\n",
    "            return False\n",
    "    return True\n",
    "\n",
    "def add_author_to_list(author_list: list) -> list:\n",
    "    \"\"\" Add author to list if not already in list\n",
    "    \n",
    "    :param author: author name\n",
    "    :param author_list: list of authors\n",
    "    :returns: updated list of authors\n",
    "    \"\"\"\n",
    "    add_list = ['T. Henning']\n",
    "\n",
    "    for author in add_list:\n",
    "        if author not in author_list:\n",
    "            author_list.append(author)\n",
    "    return author_list\n",
    "\n",
    "# get list from MPIA website\n",
    "# filter for non-scientists (mpia.get_mpia_mitarbeiter_list() does some filtering)\n",
    "mpia_authors = [k[1] for k in mpia.get_mpia_mitarbeiter_list() if filter_non_scientists(k[1])]\n",
    "# add some missing author because of inconsistencies in their MPIA name and author name on papers\n",
    "mpia_authors = add_author_to_list(mpia_authors)"
   ]
  },
  {
   "cell_type": "code",
   "execution_count": 4,
   "id": "2645e73a",
   "metadata": {
    "execution": {
     "iopub.execute_input": "2025-03-31T04:12:21.257108Z",
     "iopub.status.busy": "2025-03-31T04:12:21.256720Z",
     "iopub.status.idle": "2025-03-31T04:12:22.005787Z",
     "shell.execute_reply": "2025-03-31T04:12:22.005090Z"
    },
    "papermill": {
     "duration": 0.753664,
     "end_time": "2025-03-31T04:12:22.006819",
     "exception": false,
     "start_time": "2025-03-31T04:12:21.253155",
     "status": "completed"
    },
    "tags": []
   },
   "outputs": [
    {
     "name": "stdout",
     "output_type": "stream",
     "text": [
      "A. d. Graaff  ->  A. D. Graaff  |  ['A. D. Graaff']\n",
      "M. Fouesneau  ->  M. Fouesneau  |  ['M. Fouesneau']\n",
      "H.-W. Rix  ->  H.-W. Rix  |  ['H.-W. Rix']\n",
      "X. Zhang  ->  X. Zhang  |  ['X. Zhang']\n"
     ]
    },
    {
     "name": "stdout",
     "output_type": "stream",
     "text": [
      "J. Liu  ->  J. Liu  |  ['J. Liu']\n",
      "K. Jahnke  ->  K. Jahnke  |  ['K. Jahnke']\n",
      "E. Bañados  ->  E. Bañados  |  ['E. Bañados']\n",
      "K. Jahnke  ->  K. Jahnke  |  ['K. Jahnke']\n",
      "L. Kreidberg  ->  L. Kreidberg  |  ['L. Kreidberg']\n",
      "Arxiv has 68 new papers today\n",
      "          8 with possible author matches\n"
     ]
    }
   ],
   "source": [
    "new_papers = get_new_papers()\n",
    "# add manual references\n",
    "add_paper_refs = []\n",
    "new_papers.extend([get_paper_from_identifier(k) for k in add_paper_refs])\n",
    "\n",
    "def robust_call(fn, value, *args, **kwargs):\n",
    "    try:\n",
    "        return fn(value, *args, **kwargs)\n",
    "    except Exception:\n",
    "        return value\n",
    "\n",
    "candidates = []\n",
    "for paperk in new_papers:\n",
    "    # Check author list with their initials\n",
    "    normed_author_list = [robust_call(mpia.get_initials, k) for k in paperk['authors']]\n",
    "    hl_authors = highlight_authors_in_list(normed_author_list, mpia_authors, verbose=True)\n",
    "    matches = [(hl, orig) for hl, orig in zip(hl_authors, paperk['authors']) if 'mark' in hl]\n",
    "    paperk['authors'] = hl_authors\n",
    "    if matches:\n",
    "        # only select paper if an author matched our list\n",
    "        candidates.append(paperk)\n",
    "print(\"\"\"Arxiv has {0:,d} new papers today\"\"\".format(len(new_papers)))        \n",
    "print(\"\"\"          {0:,d} with possible author matches\"\"\".format(len(candidates)))"
   ]
  },
  {
   "cell_type": "markdown",
   "id": "3543b34a",
   "metadata": {
    "papermill": {
     "duration": 0.003066,
     "end_time": "2025-03-31T04:12:22.013413",
     "exception": false,
     "start_time": "2025-03-31T04:12:22.010347",
     "status": "completed"
    },
    "tags": []
   },
   "source": [
    "# Parse sources and generate relevant outputs\n",
    "\n",
    "From the candidates, we do the following steps:\n",
    "* get their tarball from ArXiv (and extract data)\n",
    "* find the main .tex file: find one with \\documentclass{...} (sometimes it's non trivial)\n",
    "* Check affiliations with :func:`validation`, which uses :func:`mpia.affiliation_verifications`\n",
    "* If passing the affiliations: we parse the .tex source\n",
    "   * inject sub-documents into the main (flatten the main document)\n",
    "   * parse structure, extract information (title, abstract, authors, figures...)\n",
    "   * handles `\\graphicspath` if provided\n",
    "* Generate the .md document."
   ]
  },
  {
   "cell_type": "code",
   "execution_count": 5,
   "id": "9576b79e",
   "metadata": {
    "execution": {
     "iopub.execute_input": "2025-03-31T04:12:22.020785Z",
     "iopub.status.busy": "2025-03-31T04:12:22.020271Z",
     "iopub.status.idle": "2025-03-31T04:14:52.482174Z",
     "shell.execute_reply": "2025-03-31T04:14:52.481171Z"
    },
    "papermill": {
     "duration": 150.466817,
     "end_time": "2025-03-31T04:14:52.483320",
     "exception": false,
     "start_time": "2025-03-31T04:12:22.016503",
     "status": "completed"
    },
    "scrolled": false,
    "tags": []
   },
   "outputs": [
    {
     "data": {
      "application/vnd.jupyter.widget-view+json": {
       "model_id": "a4751ebadf2f48f097f74d50f99f8095",
       "version_major": 2,
       "version_minor": 0
      },
      "text/plain": [
       "  0%|          | 0/8 [00:00<?, ?it/s]"
      ]
     },
     "metadata": {},
     "output_type": "display_data"
    },
    {
     "name": "stdout",
     "output_type": "stream",
     "text": [
      "Retrieving document from  https://arxiv.org/e-print/2503.21863\n"
     ]
    },
    {
     "name": "stdout",
     "output_type": "stream",
     "text": [
      "extracting tarball to tmp_2503.21863..."
     ]
    },
    {
     "name": "stdout",
     "output_type": "stream",
     "text": [
      " done.\n"
     ]
    },
    {
     "name": "stderr",
     "output_type": "stream",
     "text": [
      "/opt/hostedtoolcache/Python/3.9.21/x64/lib/python3.9/site-packages/IPython/core/interactiveshell.py:3550: LatexWarning: Multiple tex files.\n",
      "\n",
      "  exec(code_obj, self.user_global_ns, self.user_ns)\n",
      "/opt/hostedtoolcache/Python/3.9.21/x64/lib/python3.9/site-packages/IPython/core/interactiveshell.py:3550: LatexWarning: Found documentclass in tmp_2503.21863/main.tex\n",
      "\n",
      "  exec(code_obj, self.user_global_ns, self.user_ns)\n"
     ]
    },
    {
     "name": "stdout",
     "output_type": "stream",
     "text": [
      "Found 262 bibliographic references in tmp_2503.21863/main.bbl.\n",
      "Error retrieving bib data for de-Graaff:2024ab: 'author'\n",
      "Error retrieving bib data for Forster-Schreiber:2018aa: 'author'\n",
      "Error retrieving bib data for Forster-Schreiber:2006wk: 'author'\n",
      "Error retrieving bib data for  Forster-Schreiber:2018aa: 'author'\n",
      "Retrieving document from  https://arxiv.org/e-print/2503.21936\n"
     ]
    },
    {
     "name": "stdout",
     "output_type": "stream",
     "text": [
      "extracting tarball to tmp_2503.21936..."
     ]
    },
    {
     "name": "stdout",
     "output_type": "stream",
     "text": [
      " done.\n"
     ]
    },
    {
     "name": "stderr",
     "output_type": "stream",
     "text": [
      "/opt/hostedtoolcache/Python/3.9.21/x64/lib/python3.9/site-packages/IPython/core/interactiveshell.py:3550: LatexWarning: Multiple tex files.\n",
      "\n",
      "  exec(code_obj, self.user_global_ns, self.user_ns)\n",
      "/opt/hostedtoolcache/Python/3.9.21/x64/lib/python3.9/site-packages/IPython/core/interactiveshell.py:3550: LatexWarning: Found documentclass in tmp_2503.21936/Bdwarfs.tex\n",
      "\n",
      "  exec(code_obj, self.user_global_ns, self.user_ns)\n",
      "/opt/hostedtoolcache/Python/3.9.21/x64/lib/python3.9/site-packages/arxiv_on_deck_2/latex.py:414: LatexWarning: Latex injecting: 'tables/eclipsing_binaries' from 'tmp_2503.21936/tables/eclipsing_binaries.tex'\n",
      "  warnings.warn(LatexWarning(f\"Latex injecting: '{ext}' from '{subsource}'\"))\n",
      "/opt/hostedtoolcache/Python/3.9.21/x64/lib/python3.9/site-packages/arxiv_on_deck_2/latex.py:414: LatexWarning: Latex injecting: 'tables/binaries' from 'tmp_2503.21936/tables/binaries.tex'\n",
      "  warnings.warn(LatexWarning(f\"Latex injecting: '{ext}' from '{subsource}'\"))\n",
      "/opt/hostedtoolcache/Python/3.9.21/x64/lib/python3.9/site-packages/arxiv_on_deck_2/latex.py:414: LatexWarning: Latex injecting: 'tables/orbparam_distrib' from 'tmp_2503.21936/tables/orbparam_distrib.tex'\n",
      "  warnings.warn(LatexWarning(f\"Latex injecting: '{ext}' from '{subsource}'\"))\n",
      "/opt/hostedtoolcache/Python/3.9.21/x64/lib/python3.9/site-packages/arxiv_on_deck_2/latex.py:414: LatexWarning: Latex injecting: 'tables/fraction_per_field' from 'tmp_2503.21936/tables/fraction_per_field.tex'\n",
      "  warnings.warn(LatexWarning(f\"Latex injecting: '{ext}' from '{subsource}'\"))\n",
      "/opt/hostedtoolcache/Python/3.9.21/x64/lib/python3.9/site-packages/arxiv_on_deck_2/latex.py:414: LatexWarning: Latex injecting: 'tables/epochs' from 'tmp_2503.21936/tables/epochs.tex'\n",
      "  warnings.warn(LatexWarning(f\"Latex injecting: '{ext}' from '{subsource}'\"))\n"
     ]
    },
    {
     "name": "stdout",
     "output_type": "stream",
     "text": [
      "M. Fouesneau  ->  M. Fouesneau  |  ['M. Fouesneau']\n",
      "H.-W. Rix  ->  H.-W. Rix  |  ['H.-W. Rix']\n"
     ]
    },
    {
     "name": "stdout",
     "output_type": "stream",
     "text": [
      "Found 84 bibliographic references in tmp_2503.21936/Bdwarfs.bbl.\n",
      "Issues with the citations\n",
      "syntax error in line 536: '=' expected\n",
      "Retrieving document from  https://arxiv.org/e-print/2503.22127\n"
     ]
    },
    {
     "name": "stdout",
     "output_type": "stream",
     "text": [
      "extracting tarball to tmp_2503.22127..."
     ]
    },
    {
     "name": "stdout",
     "output_type": "stream",
     "text": [
      " done.\n",
      "Retrieving document from  https://arxiv.org/e-print/2503.22331\n"
     ]
    },
    {
     "name": "stdout",
     "output_type": "stream",
     "text": [
      "extracting tarball to tmp_2503.22331..."
     ]
    },
    {
     "name": "stdout",
     "output_type": "stream",
     "text": [
      " done.\n",
      "Retrieving document from  https://arxiv.org/e-print/2503.22466\n"
     ]
    },
    {
     "name": "stdout",
     "output_type": "stream",
     "text": [
      "extracting tarball to tmp_2503.22466... done.\n",
      "Retrieving document from  https://arxiv.org/e-print/2503.22497\n"
     ]
    },
    {
     "name": "stdout",
     "output_type": "stream",
     "text": [
      "extracting tarball to tmp_2503.22497..."
     ]
    },
    {
     "name": "stdout",
     "output_type": "stream",
     "text": [
      " done.\n",
      "  1: tmp_2503.22497/AandA.tex, 1,989 lines\n",
      "  2: tmp_2503.22497/main.tex, 1,014 lines\n"
     ]
    },
    {
     "name": "stderr",
     "output_type": "stream",
     "text": [
      "/opt/hostedtoolcache/Python/3.9.21/x64/lib/python3.9/site-packages/IPython/core/interactiveshell.py:3550: LatexWarning: Multiple tex files.\n",
      "\n",
      "  exec(code_obj, self.user_global_ns, self.user_ns)\n",
      "/opt/hostedtoolcache/Python/3.9.21/x64/lib/python3.9/site-packages/IPython/core/interactiveshell.py:3550: LatexWarning: Found 2 candidates with documentclass definition.\n",
      "  exec(code_obj, self.user_global_ns, self.user_ns)\n",
      "/opt/hostedtoolcache/Python/3.9.21/x64/lib/python3.9/site-packages/IPython/core/interactiveshell.py:3550: LatexWarning: Assuming tmp_2503.22497/AandA.tex as main document.\n",
      "  exec(code_obj, self.user_global_ns, self.user_ns)\n"
     ]
    },
    {
     "name": "stderr",
     "output_type": "stream",
     "text": [
      "/opt/hostedtoolcache/Python/3.9.21/x64/lib/python3.9/site-packages/arxiv_on_deck_2/latex.py:132: LatexWarning: attempting recovering figure PE950_accuracy.pdf\n",
      "  warnings.warn(LatexWarning(f'attempting recovering figure {image}'))\n",
      "/opt/hostedtoolcache/Python/3.9.21/x64/lib/python3.9/site-packages/arxiv_on_deck_2/latex.py:707: LatexWarning: Could not find graphic \\includegraphics[angle=0,width=1.0\\hsize]{PE950_accuracy.pdf}\n",
      "  warnings.warn(LatexWarning(f\"Could not find graphic {k}\"))\n",
      "/opt/hostedtoolcache/Python/3.9.21/x64/lib/python3.9/site-packages/arxiv_on_deck_2/latex.py:132: LatexWarning: attempting recovering figure NISP_photometry_difference_corner_centre_galaxies_cropped.pdf\n",
      "  warnings.warn(LatexWarning(f'attempting recovering figure {image}'))\n",
      "/opt/hostedtoolcache/Python/3.9.21/x64/lib/python3.9/site-packages/arxiv_on_deck_2/latex.py:707: LatexWarning: Could not find graphic \\includegraphics[angle=0,width=1.0\\hsize]{NISP_photometry_difference_corner_centre_galaxies_cropped.pdf}\n",
      "  warnings.warn(LatexWarning(f\"Could not find graphic {k}\"))\n",
      "/opt/hostedtoolcache/Python/3.9.21/x64/lib/python3.9/site-packages/arxiv_on_deck_2/latex.py:132: LatexWarning: attempting recovering figure PE950_accuracy.pdf\n",
      "  warnings.warn(LatexWarning(f'attempting recovering figure {image}'))\n",
      "/opt/hostedtoolcache/Python/3.9.21/x64/lib/python3.9/site-packages/arxiv_on_deck_2/latex.py:707: LatexWarning: Could not find graphic \\includegraphics[angle=0,width=1.8\\columnwidth, height=4cm]{PE950_accuracy.pdf}\n",
      "  warnings.warn(LatexWarning(f\"Could not find graphic {k}\"))\n",
      "/opt/hostedtoolcache/Python/3.9.21/x64/lib/python3.9/site-packages/arxiv_on_deck_2/latex.py:132: LatexWarning: attempting recovering figure PE950_accuracy.pdf\n",
      "  warnings.warn(LatexWarning(f'attempting recovering figure {image}'))\n",
      "/opt/hostedtoolcache/Python/3.9.21/x64/lib/python3.9/site-packages/arxiv_on_deck_2/latex.py:707: LatexWarning: Could not find graphic \\includegraphics[angle=0,width=12cm]{PE950_accuracy.pdf}\n",
      "  warnings.warn(LatexWarning(f\"Could not find graphic {k}\"))\n"
     ]
    },
    {
     "name": "stdout",
     "output_type": "stream",
     "text": [
      "Found 69 bibliographic references in tmp_2503.22497/main.bbl.\n",
      "Issues with the citations\n",
      "syntax error in line 256: '=' expected\n",
      "Retrieving document from  https://arxiv.org/e-print/2503.22559\n"
     ]
    },
    {
     "name": "stderr",
     "output_type": "stream",
     "text": [
      "/opt/hostedtoolcache/Python/3.9.21/x64/lib/python3.9/site-packages/arxiv_on_deck_2/latex_bib.py:132: UserWarning: Error processing bibitem\n",
      " item = \\bibitem[{{Euclid Quick Release Q1}(2025)}]{Q1cite}{Euclid Quick Release Q1}. 2025, \\url{https://doi.org/10.57780/esa-2853f3b}\n",
      " regex = \n",
      "        \\\\bibitem(\\[[^\\[\\]]*?\\]){(?P<bibkey>[a-zA-Z0-9\\-\\+\\.\\S]+?)}(?P<authors>|([\\D]*?))(?P<year>[12][0-9]{3})(?P<rest>.*)\n",
      "        \n",
      "  warnings.warn(str(e))\n"
     ]
    },
    {
     "name": "stdout",
     "output_type": "stream",
     "text": [
      "extracting tarball to tmp_2503.22559..."
     ]
    },
    {
     "name": "stdout",
     "output_type": "stream",
     "text": [
      " done.\n"
     ]
    },
    {
     "name": "stderr",
     "output_type": "stream",
     "text": [
      "/opt/hostedtoolcache/Python/3.9.21/x64/lib/python3.9/site-packages/IPython/core/interactiveshell.py:3550: LatexWarning: Multiple tex files.\n",
      "\n",
      "  exec(code_obj, self.user_global_ns, self.user_ns)\n",
      "/opt/hostedtoolcache/Python/3.9.21/x64/lib/python3.9/site-packages/IPython/core/interactiveshell.py:3550: LatexWarning: Found documentclass in tmp_2503.22559/EC-UCD.tex\n",
      "\n",
      "  exec(code_obj, self.user_global_ns, self.user_ns)\n",
      "/opt/hostedtoolcache/Python/3.9.21/x64/lib/python3.9/site-packages/arxiv_on_deck_2/latex.py:414: LatexWarning: Latex injecting: 'B24_spectralstds' from 'tmp_2503.22559/B24_spectralstds.tex'\n",
      "  warnings.warn(LatexWarning(f\"Latex injecting: '{ext}' from '{subsource}'\"))\n",
      "/opt/hostedtoolcache/Python/3.9.21/x64/lib/python3.9/site-packages/arxiv_on_deck_2/latex.py:414: LatexWarning: Latex injecting: 'EDFN_PrelCD.commented_latex.tex' from 'tmp_2503.22559/EDFN_PrelCD.commented_latex.tex'\n",
      "  warnings.warn(LatexWarning(f\"Latex injecting: '{ext}' from '{subsource}'\"))\n",
      "/opt/hostedtoolcache/Python/3.9.21/x64/lib/python3.9/site-packages/arxiv_on_deck_2/latex.py:414: LatexWarning: Latex injecting: 'Known_objects_Q1' from 'tmp_2503.22559/Known_objects_Q1.tex'\n",
      "  warnings.warn(LatexWarning(f\"Latex injecting: '{ext}' from '{subsource}'\"))\n",
      "/opt/hostedtoolcache/Python/3.9.21/x64/lib/python3.9/site-packages/arxiv_on_deck_2/latex.py:414: LatexWarning: Latex injecting: 'authorlist' from 'tmp_2503.22559/authorlist.tex'\n",
      "  warnings.warn(LatexWarning(f\"Latex injecting: '{ext}' from '{subsource}'\"))\n"
     ]
    },
    {
     "name": "stdout",
     "output_type": "stream",
     "text": [
      "Found 74 bibliographic references in tmp_2503.22559/EC-UCD.bbl.\n",
      "Retrieving document from  https://arxiv.org/e-print/2503.22642\n"
     ]
    },
    {
     "name": "stdout",
     "output_type": "stream",
     "text": [
      "extracting tarball to tmp_2503.22642..."
     ]
    },
    {
     "name": "stdout",
     "output_type": "stream",
     "text": [
      " done.\n"
     ]
    },
    {
     "name": "stdout",
     "output_type": "stream",
     "text": [
      "L. Kreidberg  ->  L. Kreidberg  |  ['L. Kreidberg']\n"
     ]
    },
    {
     "name": "stdout",
     "output_type": "stream",
     "text": [
      "Found 11 bibliographic references in tmp_2503.22642/sample631.bbl.\n",
      "Found 98 bibliographic references in tmp_2503.22642/main.bbl.\n",
      "Issues with the citations\n",
      "syntax error in line 361: '=' expected\n"
     ]
    }
   ],
   "source": [
    "documents = []\n",
    "failed = []\n",
    "for paper in tqdm(candidates):\n",
    "    # debug crap\n",
    "    paper['identifier'] = paper['identifier'].lower().replace('arxiv:', '').replace(r'\\n', '').strip()\n",
    "    paper_id = paper['identifier']\n",
    "    \n",
    "    folder = f'tmp_{paper_id}'\n",
    "\n",
    "    try:\n",
    "        if not os.path.isdir(folder):\n",
    "            folder = retrieve_document_source(f\"{paper_id}\", f'tmp_{paper_id}')\n",
    "        \n",
    "        try:\n",
    "            doc = latex.LatexDocument(folder, validation=validation)    \n",
    "        except AffiliationError as affilerror:\n",
    "            msg = f\"ArXiv:{paper_id:s} is not an MPIA paper... \" + str(affilerror)\n",
    "            failed.append((paper, \"affiliation error: \" + str(affilerror) ))\n",
    "            continue\n",
    "        \n",
    "        # Hack because sometimes author parsing does not work well\n",
    "        if (len(doc.authors) != len(paper['authors'])):\n",
    "            doc._authors = paper['authors']\n",
    "        else:\n",
    "            # highlight authors (FIXME: doc.highlight_authors)\n",
    "            # done on arxiv paper already\n",
    "            doc._authors = highlight_authors_in_list(\n",
    "                [get_initials(k) for k in doc.authors], \n",
    "                mpia_authors, verbose=True)\n",
    "        if (doc.abstract) in (None, ''):\n",
    "            doc._abstract = paper['abstract']\n",
    "            \n",
    "        doc.comment = (get_markdown_badge(paper_id) + \n",
    "                       \"<mark>Appeared on: \" + paper['date'] + \"</mark> - \")\n",
    "        if paper['comments']:\n",
    "            doc.comment += \" _\" + paper['comments'] + \"_\"\n",
    "        \n",
    "        full_md = doc.generate_markdown_text()\n",
    "        \n",
    "        full_md += get_markdown_qrcode(paper_id)\n",
    "        \n",
    "        # replace citations\n",
    "        try:\n",
    "            bibdata = latex_bib.LatexBib.from_doc(doc)\n",
    "            full_md = latex_bib.replace_citations(full_md, bibdata)\n",
    "        except Exception as e:\n",
    "            print(\"Issues with the citations\")\n",
    "            print(e)\n",
    "        \n",
    "        documents.append((paper_id, full_md))\n",
    "    except Exception as e:\n",
    "        warnings.warn(latex.LatexWarning(f\"{paper_id:s} did not run properly\\n\" +\n",
    "                                         str(e)\n",
    "                                        ))\n",
    "        failed.append((paper, \"latex error \" + str(e)))"
   ]
  },
  {
   "cell_type": "markdown",
   "id": "2505a25c",
   "metadata": {
    "papermill": {
     "duration": 0.004574,
     "end_time": "2025-03-31T04:14:52.492759",
     "exception": false,
     "start_time": "2025-03-31T04:14:52.488185",
     "status": "completed"
    },
    "tags": []
   },
   "source": [
    "### Export the logs\n",
    "\n",
    "Throughout, we also keep track of the logs per paper. see `logs-{today date}.md` "
   ]
  },
  {
   "cell_type": "code",
   "execution_count": 6,
   "id": "d733828a",
   "metadata": {
    "execution": {
     "iopub.execute_input": "2025-03-31T04:14:52.503460Z",
     "iopub.status.busy": "2025-03-31T04:14:52.503061Z",
     "iopub.status.idle": "2025-03-31T04:14:52.525613Z",
     "shell.execute_reply": "2025-03-31T04:14:52.525060Z"
    },
    "papermill": {
     "duration": 0.0293,
     "end_time": "2025-03-31T04:14:52.526666",
     "exception": false,
     "start_time": "2025-03-31T04:14:52.497366",
     "status": "completed"
    },
    "scrolled": false,
    "tags": []
   },
   "outputs": [
    {
     "data": {
      "text/markdown": [
       "## Successful papers"
      ],
      "text/plain": [
       "<IPython.core.display.Markdown object>"
      ]
     },
     "metadata": {},
     "output_type": "display_data"
    },
    {
     "data": {
      "text/markdown": [
       "\n",
       "|||\n",
       "|---:|:---|\n",
       "| [![arXiv](https://img.shields.io/badge/arXiv-2503.21863-b31b1b.svg)](https://arxiv.org/abs/2503.21863) | **The dawn of disks: unveiling the turbulent ionised gas kinematics of the galaxy population at $z\\sim4-6$ with JWST/NIRCam grism spectroscopy**  |\n",
       "|| A. L. Danhaive, et al. -- incl., <mark>A. d. Graaff</mark> |\n",
       "|*Appeared on*| *2025-03-31*|\n",
       "|*Comments*| *25 pages, 13 figures, 3 tables, submitted to MNRAS*|\n",
       "|**Abstract**|            Recent studies of gas kinematics at high redshift have reported disky systems which appear to challenge models of galaxy formation, but it is unclear whether they are representative of the underlying galaxy population. We present the first statistical sample of spatially resolved ionised gas kinematics at high redshift, comprised of $272$ H$\\alpha$ emitters in GOODS-S and GOODS-N at redshifts $z\\approx3.9-6.5$, observed with JWST/NIRCam slitless spectroscopy and imaging from JADES, FRESCO and CONGRESS. The sample probes two orders of magnitude in stellar mass ($\\log (M_{\\star}[\\mathrm{M}_{\\odot}])\\approx8-10$) and star formation rate ($\\text{SFR}\\approx0.3-100\\thinspace M_{\\odot}/$yr), and is representative down to $\\log(M_{\\star}[\\mathrm{M}_{\\odot}])\\approx 9$. Using a novel inference tool, $\\texttt{geko}$, we model the grism data to measure morphological and kinematic properties of the ionised gas, as probed by H$\\alpha$. Our results are consistent with a decrease of the rotational support $v/\\sigma_0$\\ and increase of the velocity dispersion $\\sigma_0$ with redshift, with $\\sigma_0\\approx100$ km/s and $v/\\sigma_0\\approx1-2$ at $z\\approx3.9-6.5$. We study the relations between $\\sigma_0$, and $v/\\sigma_0$, and different star formation tracers and find a large scatter and diversity, with the strongest correlations between $\\sigma_0$ and SFR and SFR surface density. The fraction of rotationally supported systems ($v/\\sigma_0>1$) slightly increases with cosmic time, from $(36\\pm6)\\%$ to $(41\\pm6)\\%$ from $z\\sim 5.5$ to $z\\sim 4.5$, for galaxies with masses $9<\\log(M_{\\star}[\\mathrm{M}_{\\odot}])<10$. Overall, disks do not dominate the turbulent high-redshift galaxy population in the mass range probed by this work. When placed in the context of studies up to cosmic noon, our results are consistent with a significant increase of disk-like systems with cosmic time.         |"
      ],
      "text/plain": [
       "[2503.21863] The dawn of disks: unveiling the turbulent ionised gas kinematics of the galaxy population at $z\\sim4-6$ with JWST/NIRCam grism spectroscopy\n",
       "\tA. L. Danhaive, et al. -- incl., <mark>A. d. Graaff</mark>"
      ]
     },
     "metadata": {},
     "output_type": "display_data"
    },
    {
     "data": {
      "text/markdown": [
       "\n",
       "|||\n",
       "|---:|:---|\n",
       "| [![arXiv](https://img.shields.io/badge/arXiv-2503.21936-b31b1b.svg)](https://arxiv.org/abs/2503.21936) | **Binarity at LOw Metallicity (BLOeM): Enhanced multiplicity of early B-type dwarfs and giants at $Z=0.2\\,{\\rm Z}_\\odot$**  |\n",
       "|| J. I. Villaseñor, et al. -- incl., <mark>M. Fouesneau</mark>, <mark>H.-W. Rix</mark> |\n",
       "|*Appeared on*| *2025-03-31*|\n",
       "|*Comments*| *17 pages, 19 figures (additional 10 pages and 5 figures in appendices). Accepted for publication in A&A*|\n",
       "|**Abstract**|            Early B-type stars ($M_i=8-15$ M$_\\odot$) are frequently in multiple systems, as evidenced by spectroscopic campaigns in the Milky Way (MW) and the Large Magellanic Cloud (LMC). Previous studies have shown no strong metallicity dependence in the close-binary (a>10 au) fraction or orbital-period distributions between the MW's solar metallicity (Z$_\\odot$) and that of the LMC (Z=0.5 Z$_\\odot$). However, similar analyses in more metal-poor environments are still scarce. We focus on 309 early B-type stars (luminosity classes III-V) from the Binarity at LOw Metallicity campaign in the Small Magellanic Cloud (SMC, Z=0.2 Z$_\\odot$) using VLT/FLAMES multi-epoch spectroscopy. By applying binary detection criteria consistent with previous works, we identify 153 stars (91 SB1, 59 SB2, 3 SB3) exhibiting significant radial-velocity (RV) variations, resulting in an observed multiplicity fraction of $f^{obs}_{mult}=50\\pm3\\%$. Using Monte Carlo simulations to account for observational biases, we infer an intrinsic close-binary fraction of $f_{mult}=80\\pm8\\%$. A Markov chain Monte Carlo analysis of the peak-to-peak RV distribution ($\\Delta{\\rm RV}_{\\rm max}$) confirms a high multiplicity fraction of $f_{mult}=78\\pm5\\%$. These findings suggest a possible anti-correlation between metallicity and the fraction of close B-type binaries, with the SMC multiplicity fraction significantly exceeding previous measurements in the LMC and MW. The enhanced fraction of close binaries at SMC's low metallicity may have broad implications for massive-star evolution in the early Universe. More frequent mass transfer and envelope stripping could boost the production of exotic transients, stripped supernovae, gravitational-wave progenitors, and sustained UV ionising flux, potentially affecting cosmic reionisation. Theoretical predictions of binary evolution under metal-poor conditions will provide a key test of our results.         |"
      ],
      "text/plain": [
       "[2503.21936] Binarity at LOw Metallicity (BLOeM): Enhanced multiplicity of early B-type dwarfs and giants at $Z=0.2\\,{\\rm Z}_\\odot$\n",
       "\tJ. I. Villaseñor, et al. -- incl., <mark>M. Fouesneau</mark>, <mark>H.-W. Rix</mark>"
      ]
     },
     "metadata": {},
     "output_type": "display_data"
    },
    {
     "data": {
      "text/markdown": [
       "\n",
       "|||\n",
       "|---:|:---|\n",
       "| [![arXiv](https://img.shields.io/badge/arXiv-2503.22497-b31b1b.svg)](https://arxiv.org/abs/2503.22497) | **Euclid Quick Data Release (Q1): A photometric search for ultracool dwarfs in the Euclid Deep Fields**  |\n",
       "|| M. Žerjal, et al. -- incl., <mark>K. Jahnke</mark> |\n",
       "|*Appeared on*| *2025-03-31*|\n",
       "|*Comments*| *17 pages, 14 figures*|\n",
       "|**Abstract**|            We present a catalogue of more than 5000 new ultracool dwarf (UCD) candidates in the three Euclid Deep Fields in the Q1 data release. They range from late M to late T dwarfs, and include 1200 L and T dwarfs. More than 100 of them have been spectroscopically confirmed, with seven of them being T dwarfs. Our UCD selection criteria are based only on colour ($I_\\mathrm{E}-Y_\\mathrm{E}>2.5$). The combined requirement for optical detection and stringent signal-to-noise ratio threshold ensure a high purity of the sample, but at the expense of completeness, especially for T dwarfs. The detections range from magnitudes 19 and 24 in the near-infrared bands, and extend down to 26 in the optical band. The average surface density of detected UCDs on the sky is approximately 100 objects per $\\mathrm{deg}^2$, including 20 L and T dwarfs per $\\mathrm{deg}^2$. This leads to an expectation of at least 1.4 million ultracool dwarfs in the final data release of the Euclid Wide Survey, including at least 300,000 L dwarfs, and more than 2,600 T dwarfs, using the strict selection criteria from this work. We provide empirical Euclid colours as a function of spectral type, and a probability that an object with a given colour has a certain spectral type.         |"
      ],
      "text/plain": [
       "[2503.22497] Euclid Quick Data Release (Q1): A photometric search for ultracool dwarfs in the Euclid Deep Fields\n",
       "\tM. Žerjal, et al. -- incl., <mark>K. Jahnke</mark>"
      ]
     },
     "metadata": {},
     "output_type": "display_data"
    },
    {
     "data": {
      "text/markdown": [
       "\n",
       "|||\n",
       "|---:|:---|\n",
       "| [![arXiv](https://img.shields.io/badge/arXiv-2503.22559-b31b1b.svg)](https://arxiv.org/abs/2503.22559) | **Euclid Quick Data Release (Q1) Ultracool dwarfs in the Euclid Deep Field North**  |\n",
       "|| A. Mohandasan, et al. -- incl., <mark>E. Bañados</mark>, <mark>K. Jahnke</mark> |\n",
       "|*Appeared on*| *2025-03-31*|\n",
       "|*Comments*| *14 pages, 9 figures, 2 tables*|\n",
       "|**Abstract**|            Ultracool dwarfs (UCDs) encompass the lowest mass stars and brown dwarfs, defining the stellar substellar boundary. They have significant potential for advancing the understanding of substellar physics; however, these objects are challenging to detect due to their low luminosity. The wide coverage and deep sensitivity of the Euclid survey will increase the number of confirmed and well characterised UCDs by several orders of magnitude. In this study, we take advantage of the Euclid Quick Data Release (Q1) and in particular we look in detail at the known and new UCDs in the Euclid Deep Field North (22.9 deg2 down to JE = 24.5 mag), to understand the advantages of using the slitless Euclid spectroscopy. We compile a comparison sample of known UCDs and use their spectra to demonstrate the capability of Euclid to derive spectral types using a template matching method. This method is then applied to the spectra of the newly identified candidates. We confirm that 33 of these candidates are new UCDs, with spectral types ranging from M7 to T1 and JE = 17 to 21 mag. We look at their locus in colour colour diagrams and compare them with the expected colours of QSOs. A machine readable catalogue is provided for further study, containing both the comparison sample and the newly identified UCDs, along with their spectral classifications where the Q1 spectra quality allows for confident determination         |"
      ],
      "text/plain": [
       "[2503.22559] Euclid Quick Data Release (Q1) Ultracool dwarfs in the Euclid Deep Field North\n",
       "\tA. Mohandasan, et al. -- incl., <mark>E. Bañados</mark>, <mark>K. Jahnke</mark>"
      ]
     },
     "metadata": {},
     "output_type": "display_data"
    },
    {
     "data": {
      "text/markdown": [
       "\n",
       "|||\n",
       "|---:|:---|\n",
       "| [![arXiv](https://img.shields.io/badge/arXiv-2503.22642-b31b1b.svg)](https://arxiv.org/abs/2503.22642) | **The radiative effects of photochemical hazes on the atmospheric circulation and phase curves of sub-Neptunes**  |\n",
       "|| M. E. Steinrueck, et al. -- incl., <mark>L. Kreidberg</mark> |\n",
       "|*Appeared on*| *2025-03-31*|\n",
       "|*Comments*| *resubmitted to ApJ after addressing referee report*|\n",
       "|**Abstract**|            Measuring the atmospheric composition of hazy sub-Neptunes like GJ~1214b through transmission spectroscopy is difficult because of the degeneracy between mean molecular weight and haziness. It has been proposed that phase curve observations can break this degeneracy because of the relationship between mean molecular weight (MMW) and phase curve amplitude. However, photochemical hazes can strongly affect phase curve amplitudes as well. We present a large set of GCM simulations of the sub-Neptune GJ~1214b that include photochemical hazes with varying atmospheric composition, haze opacity and haze optical properties. In our simulations, photochemical hazes cause temperature changes of up to 200~K, producing thermal inversions and cooling deeper regions. This results in increased phase curve amplitudes and adds a considerable scatter to the phase curve amplitude--metallicity relationship. However, we find that if the haze production rate is high enough to significantly alter the phase curve, the secondary eclipse spectrum will exhibit either emission features or strongly muted absorption features. Thus, the combination of a white-light phase curve and a secondary eclipse spectrum can successfully distinguish between a hazy, lower MMW and a clear, high MMW scenario.         |"
      ],
      "text/plain": [
       "[2503.22642] The radiative effects of photochemical hazes on the atmospheric circulation and phase curves of sub-Neptunes\n",
       "\tM. E. Steinrueck, et al. -- incl., <mark>L. Kreidberg</mark>"
      ]
     },
     "metadata": {},
     "output_type": "display_data"
    },
    {
     "data": {
      "text/markdown": [
       "## Failed papers"
      ],
      "text/plain": [
       "<IPython.core.display.Markdown object>"
      ]
     },
     "metadata": {},
     "output_type": "display_data"
    },
    {
     "data": {
      "text/markdown": [
       "\n",
       "|||\n",
       "|---:|:---|\n",
       "| [![arXiv](https://img.shields.io/badge/arXiv-2503.22331-b31b1b.svg)](https://arxiv.org/abs/2503.22331) | **AT2021uey: A planetary microlensing event outside the Galactic bulge**  |\n",
       "|| M. Ban, et al. |\n",
       "|*Appeared on*| *2025-03-31*|\n",
       "|*Comments*| *10 pages, 5 figures, 6 tables. Accepted by A&A*|\n",
       "|**Abstract**|            We report the analysis of a planetary microlensing event AT2021uey. The event was observed outside the Galactic bulge and was alerted by both space- (Gaia) and ground-based (ZTF and ASAS-SN) surveys. From the observed data, we find that the lens system is located at a distance of 1 kpc and comprises an M-dwarf host star of about half a solar mass, orbited by a Jupiter-like planet beyond the snowline. The source star could be a metal-poor giant located in the halo according to the spectral analyses and modelling. Hence, AT2021uey is a unique example of the binary-lens event outside the bulge that is offered by a disc-halo lens-source combination.         |\n",
       "|<p style=\"color:green\"> **ERROR** </p>| <p style=\"color:green\">affiliation error: mpia.affiliation_verifications: '69117' keyword not found.</p> |"
      ],
      "text/plain": [
       "<IPython.core.display.Markdown object>"
      ]
     },
     "metadata": {},
     "output_type": "display_data"
    },
    {
     "data": {
      "text/markdown": [
       "\n",
       "|||\n",
       "|---:|:---|\n",
       "| [![arXiv](https://img.shields.io/badge/arXiv-2503.22127-b31b1b.svg)](https://arxiv.org/abs/2503.22127) | **Asteroseismology of Long-Period Variables with OGLE-IV data: Using Global Seismic Parameters as Luminosity Indicators**  |\n",
       "|| Q. Xiong, et al. -- incl., <mark>X. Zhang</mark> |\n",
       "|*Appeared on*| *2025-03-31*|\n",
       "|*Comments*| *18 pages, 9 figures in the main text, 2 figures in the appendix*|\n",
       "|**Abstract**|            Long-period variables (LPVs) are high-luminosity red giants or supergiants with pulsation periods ranging from days to years. Many LPVs in the Large Magellanic Cloud (LMC) and Galactic Bulge (BLG) have been continuously observed over a time span of 26 years by the Optical Gravitational Lensing Experiment (OGLE) survey. Using OGLE-IV data, we applied Gaussian Processes with kernels tailored for solar-like oscillations to extract two global asteroseismic parameters: the frequency of maximum power (numax) and the large frequency separation (Dnu), for LPVs with primary mode periods (P1) between 10 and 100 days in the LMC and BLG. We found that the numax-Dnu relation for LPVs in this work aligns with that of lower-luminosity Kepler red giants, confirming that the pulsations of these LPVs are likely solar-like. We found that numax and Dnu can serve as luminosity indicators. Compared to P1, numax and Dnu exhibit significantly tighter correlations with the absolute magnitude in the 2MASS K_s band (M_{K}), with corresponding scatter of 0.27 mag and 0.21 mag, respectively. Using the calibrated numax-mk and Dnu-mk relations for LPVs in the LMC, we determined the M_{K} values for individual stars in the BLG. By accounting for extinction, we further calculated the distances to 4,948 BLG stars. The peak of the resulting distance distribution corresponds to an estimated distance to the Galactic center of approximately 9.1 kpc, which appears to be overestimated, suggesting that the seismic luminosity relation calibrated from the LMC may not be directly applicable to BLG stars.         |\n",
       "|<p style=\"color:green\"> **ERROR** </p>| <p style=\"color:green\">affiliation error: mpia.affiliation_verifications: 'Heidelberg' keyword not found.</p> |"
      ],
      "text/plain": [
       "<IPython.core.display.Markdown object>"
      ]
     },
     "metadata": {},
     "output_type": "display_data"
    },
    {
     "data": {
      "text/markdown": [
       "\n",
       "|||\n",
       "|---:|:---|\n",
       "| [![arXiv](https://img.shields.io/badge/arXiv-2503.22466-b31b1b.svg)](https://arxiv.org/abs/2503.22466) | **Properties of Interstellar Medium in the S0 Galaxy NGC 1222: Evidence for Shocked-enhanced Line Emission**  |\n",
       "|| <mark>J. Liu</mark>, Y. Zhao, K.-X. Lu, J.-M. Bai |\n",
       "|*Appeared on*| *2025-03-31*|\n",
       "|*Comments*| *Accepted for publication in ApJ*|\n",
       "|**Abstract**|            In this paper we present a comprehensive study on the properties of the interstellar medium in NGC~1222, a star-forming early-type merging galaxy that forms a triple system, using optical and far-infrared (FIR) spectroscopic, and multiband photometric data. The fit to the spectral energy distribution reveals a high dust content in the galaxy, with a dust-to-stellar mass ratio of $M_\\mathrm{dust}/M_\\star\\sim3.3\\times10^{-3}$ that is 40$-$90 larger than the mean value of local S0 galaxies. By comparing the observed optical emission line ratios to shock models, we suggest that a merger-induced shock, which is further supported by the higher-than-average \\OI- and \\CII-to-PAH ratios, plays a role in heating the gas in NGC~1222. We also show evidence for gas inflow by analysing the kinematic properties of NGC~1222.         |\n",
       "|<p style=\"color:green\"> **ERROR** </p>| <p style=\"color:green\">affiliation error: mpia.affiliation_verifications: 'Heidelberg' keyword not found.</p> |"
      ],
      "text/plain": [
       "<IPython.core.display.Markdown object>"
      ]
     },
     "metadata": {},
     "output_type": "display_data"
    }
   ],
   "source": [
    "import datetime\n",
    "today = str(datetime.date.today())\n",
    "logfile = f\"_build/html/logs/log-{today}.md\"\n",
    "\n",
    "\n",
    "with open(logfile, 'w') as logs:\n",
    "    # Success\n",
    "    logs.write(f'# Arxiv on Deck 2: Logs - {today}\\n\\n')\n",
    "    logs.write(\"\"\"* Arxiv had {0:,d} new papers\\n\"\"\".format(len(new_papers)))\n",
    "    logs.write(\"\"\"    * {0:,d} with possible author matches\\n\\n\"\"\".format(len(candidates)))\n",
    "    logs.write(\"## Sucessful papers\\n\\n\")\n",
    "    display(Markdown(\"## Successful papers\"))\n",
    "    success = [k[0] for k in documents]\n",
    "    for candid in candidates:\n",
    "        if candid['identifier'].split(':')[-1] in success:\n",
    "            display(candid)\n",
    "            logs.write(candid.generate_markdown_text() + '\\n\\n')\n",
    "\n",
    "    ## failed\n",
    "    logs.write(\"## Failed papers\\n\\n\")\n",
    "    display(Markdown(\"## Failed papers\"))\n",
    "    failed = sorted(failed, key=lambda x: x[1])\n",
    "    current_reason = \"\"\n",
    "    for paper, reason in failed:\n",
    "        if 'affiliation' in reason:\n",
    "            color = 'green'\n",
    "        else:\n",
    "            color = 'red'\n",
    "        data = Markdown(\n",
    "                paper.generate_markdown_text() + \n",
    "                f'\\n|<p style=\"color:{color:s}\"> **ERROR** </p>| <p style=\"color:{color:s}\">{reason:s}</p> |'\n",
    "               )\n",
    "        if reason != current_reason:\n",
    "            logs.write(f'### {reason:s} \\n\\n')\n",
    "            current_reason = reason\n",
    "        logs.write(data.data + '\\n\\n')\n",
    "        \n",
    "        # only display here the important errors (all in logs)\n",
    "        # if color in ('red',):\n",
    "        display(data)"
   ]
  },
  {
   "cell_type": "markdown",
   "id": "472d20ee",
   "metadata": {
    "papermill": {
     "duration": 0.005697,
     "end_time": "2025-03-31T04:14:52.538222",
     "exception": false,
     "start_time": "2025-03-31T04:14:52.532525",
     "status": "completed"
    },
    "tags": []
   },
   "source": [
    "## Export documents\n",
    "\n",
    "We now write the .md files and export relevant images"
   ]
  },
  {
   "cell_type": "code",
   "execution_count": 7,
   "id": "d426aed9",
   "metadata": {
    "execution": {
     "iopub.execute_input": "2025-03-31T04:14:52.550895Z",
     "iopub.status.busy": "2025-03-31T04:14:52.550282Z",
     "iopub.status.idle": "2025-03-31T04:14:52.557836Z",
     "shell.execute_reply": "2025-03-31T04:14:52.557177Z"
    },
    "papermill": {
     "duration": 0.015336,
     "end_time": "2025-03-31T04:14:52.559075",
     "exception": false,
     "start_time": "2025-03-31T04:14:52.543739",
     "status": "completed"
    },
    "tags": []
   },
   "outputs": [],
   "source": [
    "def export_markdown_summary(md: str, md_fname:str, directory: str):\n",
    "    \"\"\"Export MD document and associated relevant images\"\"\"\n",
    "    import os\n",
    "    import shutil\n",
    "    import re\n",
    "\n",
    "    if (os.path.exists(directory) and not os.path.isdir(directory)):\n",
    "        raise RuntimeError(f\"a non-directory file exists with name {directory:s}\")\n",
    "\n",
    "    if (not os.path.exists(directory)):\n",
    "        print(f\"creating directory {directory:s}\")\n",
    "        os.mkdir(directory)\n",
    "\n",
    "    fig_fnames = (re.compile(r'\\[Fig.*\\]\\((.*)\\)').findall(md) + \n",
    "                  re.compile(r'\\<img src=\"([^>\\s]*)\"[^>]*/>').findall(md))\n",
    "    print(\"found figures\", fig_fnames)\n",
    "    for fname in fig_fnames:\n",
    "        if 'http' in fname:\n",
    "            # No need to copy online figures\n",
    "            continue\n",
    "        if not os.path.exists(fname):\n",
    "            print(\"file not found\", fname)\n",
    "            continue\n",
    "        print(\"copying \", fname, \"to\", directory)\n",
    "        destdir = os.path.join(directory, os.path.dirname(fname))\n",
    "        destfname = os.path.join(destdir, os.path.basename(fname))\n",
    "        try:\n",
    "            os.makedirs(destdir)\n",
    "        except FileExistsError:\n",
    "            pass\n",
    "        shutil.copy(fname, destfname)\n",
    "    with open(os.path.join(directory, md_fname), 'w') as fout:\n",
    "        fout.write(md)\n",
    "    print(\"exported in \", os.path.join(directory, md_fname))\n",
    "    [print(\"    + \" + os.path.join(directory,fk)) for fk in fig_fnames]"
   ]
  },
  {
   "cell_type": "code",
   "execution_count": 8,
   "id": "014d04a4",
   "metadata": {
    "execution": {
     "iopub.execute_input": "2025-03-31T04:14:52.571951Z",
     "iopub.status.busy": "2025-03-31T04:14:52.571402Z",
     "iopub.status.idle": "2025-03-31T04:14:52.586842Z",
     "shell.execute_reply": "2025-03-31T04:14:52.586171Z"
    },
    "papermill": {
     "duration": 0.022954,
     "end_time": "2025-03-31T04:14:52.587861",
     "exception": false,
     "start_time": "2025-03-31T04:14:52.564907",
     "status": "completed"
    },
    "tags": []
   },
   "outputs": [
    {
     "name": "stdout",
     "output_type": "stream",
     "text": [
      "found figures ['tmp_2503.21863/./Figures/sigma0_z_comparison_fitlegend.png', 'tmp_2503.21863/./Figures/vsigma_sigma_mstar_sfr_masscolor.png', 'tmp_2503.21863/./Figures/vsigma_sigma_mstar_sfr_sigsfr_litcomp.png']\n",
      "copying  tmp_2503.21863/./Figures/sigma0_z_comparison_fitlegend.png to _build/html/\n",
      "copying  tmp_2503.21863/./Figures/vsigma_sigma_mstar_sfr_masscolor.png to _build/html/\n",
      "copying  tmp_2503.21863/./Figures/vsigma_sigma_mstar_sfr_sigsfr_litcomp.png to _build/html/\n",
      "exported in  _build/html/2503.21863.md\n",
      "    + _build/html/tmp_2503.21863/./Figures/sigma0_z_comparison_fitlegend.png\n",
      "    + _build/html/tmp_2503.21863/./Figures/vsigma_sigma_mstar_sfr_masscolor.png\n",
      "    + _build/html/tmp_2503.21863/./Figures/vsigma_sigma_mstar_sfr_sigsfr_litcomp.png\n",
      "found figures ['tmp_2503.21936/./img/bloem_dRV_Pcrit.png', 'tmp_2503.21936/./img/5_062_4388_fits_SB2_.png', 'tmp_2503.21936/./img/spectral_type_hist_byField_magma.png']\n",
      "copying  tmp_2503.21936/./img/bloem_dRV_Pcrit.png to _build/html/\n",
      "copying  tmp_2503.21936/./img/5_062_4388_fits_SB2_.png to _build/html/\n",
      "copying  tmp_2503.21936/./img/spectral_type_hist_byField_magma.png to _build/html/\n",
      "exported in  _build/html/2503.21936.md\n",
      "    + _build/html/tmp_2503.21936/./img/bloem_dRV_Pcrit.png\n",
      "    + _build/html/tmp_2503.21936/./img/5_062_4388_fits_SB2_.png\n",
      "    + _build/html/tmp_2503.21936/./img/spectral_type_hist_byField_magma.png\n",
      "found figures []\n",
      "exported in  _build/html/2503.22497.md\n",
      "found figures ['tmp_2503.22559/./Images/gridplot_lit5.png', 'tmp_2503.22559/./Images/J18196557_2.png', 'tmp_2503.22559/./Images/check_IHvsIJ_QSOT.png', 'tmp_2503.22559/./Images/check_YJvsJH_QSOT.png', 'tmp_2503.22559/./Images/check_IHvsYJ_QSOT.png', 'tmp_2503.22559/./Images/check_JHvsIY_QSOT.png']\n",
      "copying  tmp_2503.22559/./Images/gridplot_lit5.png to _build/html/\n",
      "copying  tmp_2503.22559/./Images/J18196557_2.png to _build/html/\n",
      "copying  tmp_2503.22559/./Images/check_IHvsIJ_QSOT.png to _build/html/\n",
      "copying  tmp_2503.22559/./Images/check_YJvsJH_QSOT.png to _build/html/\n",
      "copying  tmp_2503.22559/./Images/check_IHvsYJ_QSOT.png to _build/html/\n",
      "copying  tmp_2503.22559/./Images/check_JHvsIY_QSOT.png to _build/html/\n",
      "exported in  _build/html/2503.22559.md\n",
      "    + _build/html/tmp_2503.22559/./Images/gridplot_lit5.png\n",
      "    + _build/html/tmp_2503.22559/./Images/J18196557_2.png\n",
      "    + _build/html/tmp_2503.22559/./Images/check_IHvsIJ_QSOT.png\n",
      "    + _build/html/tmp_2503.22559/./Images/check_YJvsJH_QSOT.png\n",
      "    + _build/html/tmp_2503.22559/./Images/check_IHvsYJ_QSOT.png\n",
      "    + _build/html/tmp_2503.22559/./Images/check_JHvsIY_QSOT.png\n",
      "found figures ['tmp_2503.22642/./uzonalav_clear.png', 'tmp_2503.22642/./hazeproperties_vs_pressure.png', 'tmp_2503.22642/./spectralphasecurve_tholin.png']\n",
      "copying  tmp_2503.22642/./uzonalav_clear.png to _build/html/\n",
      "copying  tmp_2503.22642/./hazeproperties_vs_pressure.png to _build/html/\n",
      "copying  tmp_2503.22642/./spectralphasecurve_tholin.png to _build/html/\n",
      "exported in  _build/html/2503.22642.md\n",
      "    + _build/html/tmp_2503.22642/./uzonalav_clear.png\n",
      "    + _build/html/tmp_2503.22642/./hazeproperties_vs_pressure.png\n",
      "    + _build/html/tmp_2503.22642/./spectralphasecurve_tholin.png\n"
     ]
    }
   ],
   "source": [
    "for paper_id, md in documents:\n",
    "    export_markdown_summary(md, f\"{paper_id:s}.md\", '_build/html/')"
   ]
  },
  {
   "cell_type": "markdown",
   "id": "f087a0a7",
   "metadata": {
    "papermill": {
     "duration": 0.005729,
     "end_time": "2025-03-31T04:14:52.599658",
     "exception": false,
     "start_time": "2025-03-31T04:14:52.593929",
     "status": "completed"
    },
    "tags": []
   },
   "source": [
    "## Display the papers\n",
    "\n",
    "Not necessary but allows for a quick check."
   ]
  },
  {
   "cell_type": "code",
   "execution_count": 9,
   "id": "fd25f625",
   "metadata": {
    "execution": {
     "iopub.execute_input": "2025-03-31T04:14:52.612942Z",
     "iopub.status.busy": "2025-03-31T04:14:52.612375Z",
     "iopub.status.idle": "2025-03-31T04:14:52.622866Z",
     "shell.execute_reply": "2025-03-31T04:14:52.622203Z"
    },
    "papermill": {
     "duration": 0.018654,
     "end_time": "2025-03-31T04:14:52.624004",
     "exception": false,
     "start_time": "2025-03-31T04:14:52.605350",
     "status": "completed"
    },
    "scrolled": false,
    "tags": []
   },
   "outputs": [
    {
     "data": {
      "text/markdown": [
       "<div class=\"macros\" style=\"visibility:hidden;\">\n",
       "$\\newcommand{\\ensuremath}{}$\n",
       "$\\newcommand{\\xspace}{}$\n",
       "$\\newcommand{\\object}[1]{\\texttt{#1}}$\n",
       "$\\newcommand{\\farcs}{{.}''}$\n",
       "$\\newcommand{\\farcm}{{.}'}$\n",
       "$\\newcommand{\\arcsec}{''}$\n",
       "$\\newcommand{\\arcmin}{'}$\n",
       "$\\newcommand{\\ion}[2]{#1#2}$\n",
       "$\\newcommand{\\textsc}[1]{\\textrm{#1}}$\n",
       "$\\newcommand{\\hl}[1]{\\textrm{#1}}$\n",
       "$\\newcommand{\\footnote}[1]{}$\n",
       "$\\newcommand{\\OIII}{[\\text{OIII}]}$\n",
       "$\\newcommand{\\Ha}{H\\alpha}$\n",
       "$\\newcommand{\\disp}{\\sigma_0}$\n",
       "$\\newcommand{\\reff}{r_{e}}$\n",
       "$\\newcommand{\\rotsupp}{\\text{v}/\\sigma_0}$\n",
       "$\\newcommand{\\logMstar}{\\log\\thinspace M_{\\star}}$\n",
       "$\\newcommand{\\Mstar}{M_{\\star}}$\n",
       "$\\newcommand{\\logMdyn}{\\log\\thinspace M_{\\text{dyn}}}$\n",
       "$\\newcommand{\\Mdyn}{M_{\\text{dyn}}}$\n",
       "$\\newcommand{\\PAmorph}{\\text{PA}_{\\text{morph}}}$\n",
       "$\\newcommand{\\PAkin}{\\text{PA}_{\\text{kin}}}$\n",
       "$\\newcommand{\\vre}{\\text{v}_{\\text{re}}}$\n",
       "$\\newcommand{\\vcirc}{\\text{v}_{\\text{circ}}}$\n",
       "$\\newcommand{\\geko}{\\textsc{geko}}$\n",
       "$\\newcommand$\n",
       "$\\newcommand{\\labelitemi}{\\labelitemii}$\n",
       "$\\newcommand{\\arraystretch}{2}$\n",
       "$\\newcommand{\\arraystretch}{2}$\n",
       "$\\newcommand{\\arraystretch}{1.5}$\n",
       "$\\newcommand{\\thebibliography}{\\DeclareRobustCommand{\\VAN}[3]{##3}\\VANthebibliography}$</div>\n",
       "\n",
       "\n",
       "\n",
       "<div id=\"title\">\n",
       "\n",
       "#  The dawn of disks: unveiling the turbulent ionised gas kinematics of the galaxy population at $z\\sim4-6$ with JWST/NIRCam grism spectroscopy\n",
       "\n",
       "</div>\n",
       "<div id=\"comments\">\n",
       "\n",
       "[![arXiv](https://img.shields.io/badge/arXiv-2503.21863-b31b1b.svg)](https://arxiv.org/abs/2503.21863)<mark>Appeared on: 2025-03-31</mark> -  _25 pages, 13 figures, 3 tables, submitted to MNRAS_\n",
       "\n",
       "</div>\n",
       "<div id=\"authors\">\n",
       "\n",
       "A. L. Danhaive, et al. -- incl., <mark>A. d. Graaff</mark>\n",
       "\n",
       "</div>\n",
       "<div id=\"abstract\">\n",
       "\n",
       "**Abstract:** Recent studies of gas kinematics at high redshift have reported disky systems which appear to challenge models of galaxy formation, but it is unclear whether they are representative of the underlying galaxy population. We present the first statistical sample of spatially resolved ionised gas kinematics at high redshift, comprised of $272$ H $\\alpha$ emitters in GOODS-S and GOODS-N at redshifts $z\\approx3.9-6.5$ , observed with JWST/NIRCam slitless spectroscopy and imaging from JADES, FRESCO and CONGRESS. The sample probes two orders of magnitude in stellar mass ( $\\log (M_{\\star}[\\mathrm{M}_{\\odot}])\\approx8-10$ ) and star formation rate ( $\\text{SFR}\\approx0.3-100\\thinspace M_{\\odot}/$ yr), and is representative down to $\\log(M_{\\star}[\\mathrm{M}_{\\odot}])\\approx 9$ . Using a novel inference tool, geko , we model the grism data to measure morphological and kinematic properties of the ionised gas, as probed by H $\\alpha$ . Our results are consistent with a decrease of the rotational support $v/\\sigma_0$ and increase of the velocity dispersion $\\sigma_0$ with redshift, with $\\sigma_0\\approx100$ km/s and $v/\\sigma_0\\approx1-2$ at $z\\approx3.9-6.5$ . We study the relations between $\\sigma_0$ , and $v/\\sigma_0$ , and different star formation tracers and find a large scatter and diversity, with the strongest correlations between $\\sigma_0$ and SFR and SFR surface density. The fraction of rotationally supported systems ( $v/\\sigma_0>1$ ) slightly increases with cosmic time, from $(36\\pm6)\\%$ to $(41\\pm6)\\%$ from $z\\sim 5.5$ to $z\\sim 4.5$ , for galaxies with masses $9<\\log(M_{\\star}[\\mathrm{M}_{\\odot}])<10$ . Overall, disks do not dominate the turbulent high-redshift galaxy population in the mass range probed by this work. When placed in the context of studies up to cosmic noon, our results are consistent with a significant increase of disk-like systems with cosmic time.\n",
       "\n",
       "</div>\n",
       "\n",
       "<div id=\"div_fig1\">\n",
       "\n",
       "<img src=\"tmp_2503.21863/./Figures/sigma0_z_comparison_fitlegend.png\" alt=\"Fig14\" width=\"100%\"/>\n",
       "\n",
       "**Figure 14. -** Intrinsic $\\Ha$ velocity dispersion $\\disp$ as a function of redshift for our gold (red outlined squares) and silver (light gray circles) in the context of studies of warm ionised gas (i.e. $\\Ha$ and [OIII]; orange outlines) and cold gas (i.e. HI, CO, and [CII]; blue outlines) kinematics across redshifts. The medians for the gold and extended samples are plotted in red squares and purple diamonds, respectively. The errorbars on the medians represent the $16^{\\rm th}$ and $84^{\\rm th}$ quantiles along the y-axis, and the extent of the bin along the x-axis. Our results are consistent with a decrease of $\\disp$ with cosmic time when compared to  surveys from cosmic noon (KMOS3D \\protect ([ and Wisnioski 2015](https://ui.adsabs.harvard.edu/abs/2015ApJ...799..209W)) , KROSS \\protect ([ and Johnson 2018](https://ui.adsabs.harvard.edu/abs/2018MNRAS.474.5076J)) , MOSDEF  ([ and Price 2016](https://ui.adsabs.harvard.edu/abs/2016ApJ...819...80P), [ and Price 2020](https://ui.adsabs.harvard.edu/abs/2020ApJ...894...91P)) , KDS \\protect ([ and Turner 2017](https://ui.adsabs.harvard.edu/abs/2017MNRAS.471.1280T), [Turner, et. al 2017](https://ui.adsabs.harvard.edu/abs/2017arXiv171103604T)) , SIGMA \\protect ([ and Simons 2016](https://ui.adsabs.harvard.edu/abs/2016ApJ...830...14S)) , SINS/zC-SINF \\protect (Forster-Schreiber:2006wk,  Forster-Schreiber:2018aa) , PHIBSS \\protect ([ and Tacconi 2013](https://ui.adsabs.harvard.edu/abs/2013ApJ...768...74T)) , and points from \\protect ([ and Swinbank 2011](https://ui.adsabs.harvard.edu/abs/2011ApJ...742...11S), [ and Genzel 2017](https://ui.adsabs.harvard.edu/abs/2017Natur.543..397G)) ) and the local Universe (GHASP \\protect ([Epinat, et. al 2010](https://ui.adsabs.harvard.edu/abs/2010MNRAS.401.2113E)) , DYNAMO \\protect ([ and Green 2014](https://ui.adsabs.harvard.edu/abs/2014MNRAS.437.1070G)) , EDGE-CALIFA \\protect ([ and Bolatto 2017](https://ui.adsabs.harvard.edu/abs/2017ApJ...846..159B)) , HERACLES \\protect ([ and Leroy 2009](https://ui.adsabs.harvard.edu/abs/2009AJ....137.4670L)) , THINGS \\protect ([Walter, et. al 2008](https://ui.adsabs.harvard.edu/abs/2008AJ....136.2563W)) , and \\protect ([Dib, Bell and Burkert 2006](https://ui.adsabs.harvard.edu/abs/2006ApJ...638..797D)) ; blue shaded region). Our best-fit relations (Eq. \\ref{eq:powerlaw}), with (purple) and without (red) including upper limits, agree with the fit from \\protect[ and Übler (2019)](https://ui.adsabs.harvard.edu/abs/2019ApJ...880...48U)(light red - long dashes), which is defined out to $z\\sim4$. Similarly, we also include the exponential fit for cold gas measurements from \\protect[ and Rizzo (2024)](https://ui.adsabs.harvard.edu/abs/2024A&A...689A.273R)(dark blue - long dashes) defined out to $z\\sim5$, which highlight a similar evolution of $\\disp$ tracing the cold gas, albeit with a factor 2-3 lower normalization. We compare our measurements with works at similar redshifts \\protect ([Parlanti, et. al 2023](https://ui.adsabs.harvard.edu/abs/2023A&A...673A.153P), [ and Arribas 2024](https://ui.adsabs.harvard.edu/abs/2024A&A...688A.146A), de-Graaff:2024ab) , as well as detection of dynamically cold systems at high-redshift \\protect[Neeleman, et. al (2020)](https://ui.adsabs.harvard.edu/abs/2020Natur.581..269N), [Rizzo, et. al (2020)](https://ui.adsabs.harvard.edu/abs/2020Natur.584..201R), [Lelli, et. al (2021)](https://ui.adsabs.harvard.edu/abs/2021Sci...371..713L), [ and Pope (2023)](https://ui.adsabs.harvard.edu/abs/2023ApJ...951L..46P), [ and Rowland (2024)](https://ui.adsabs.harvard.edu/abs/2024MNRAS.535.2068R). (*fig:sigma0-z-comp*)\n",
       "\n",
       "</div>\n",
       "<div id=\"div_fig2\">\n",
       "\n",
       "<img src=\"tmp_2503.21863/./Figures/vsigma_sigma_mstar_sfr_masscolor.png\" alt=\"Fig16\" width=\"100%\"/>\n",
       "\n",
       "**Figure 16. -** Dependence of the intrinsic velocity dispersion $\\disp$(top panels) and rotational support $\\rotsupp$(bottom panels) on $M_{\\star}$, $\\text{SFR}_{10}$, $\\text{sSFR}_{10}$, and SFR surface density $\\Sigma_{\\text{SFR}_{10}}$ for our gold (squares) and silver sample (gray contours). We find a significant correlation between $\\disp$ and $\\text{SFR}_{10}$, which is highlighted by the running medians, for the gold sample (red squares) and for the extended sample (purple diamonds), and the Spearman rank coefficient $\\rho$ and p-value $p$ for the resolved sample. The errorbars on the medians represent the $16^{\\rm th}$ and $84^{\\rm th}$ quantiles along the y-axis, and the extent of the bin along the x-axis. Both $\\disp$ and $\\rotsupp$ show a (weaker) correlation with $\\Sigma_{\\text{SFR}_{10}}$, highlighting the role of surface density in efficiently driving turbulence in the gas. The trends with $\\text{SFR}_{10}$ and $\\Sigma_{\\text{SFR}_{10}}$ are stronger for $\\disp$ than $\\rotsupp$, which could be caused by the fact that we probing many dispersion-supported systems ($\\rotsupp<1$) and systems in the transitional regions (green shaded region) between dispersion and rotation support, where stable rotation has not yet been established. (*fig:vsigma_sigma_mstar_sfr*)\n",
       "\n",
       "</div>\n",
       "<div id=\"div_fig3\">\n",
       "\n",
       "<img src=\"tmp_2503.21863/./Figures/vsigma_sigma_mstar_sfr_sigsfr_litcomp.png\" alt=\"Fig17\" width=\"100%\"/>\n",
       "\n",
       "**Figure 17. -** Dependence of $\\disp$(top panels) and $\\rotsupp$(bottom panels) on stellar mass and SFR for our sample (red squares and purple diamonds) in the context of other high-redshift works \\citep[in red;][]{Parlanti:2023ab, de-Graaff:2024ab}, and works at cosmic noon (in green; see Fig. \\ref{fig:sigma0-z-comp}) and the local Universe (in blue; MANGA  ([ and Yu 2019](https://ui.adsabs.harvard.edu/abs/2019MNRAS.486.4463Y)) , SAMI  ([ and Allen 2015](https://ui.adsabs.harvard.edu/abs/2015MNRAS.446.1567A), [ and Johnson 2018](https://ui.adsabs.harvard.edu/abs/2018MNRAS.474.5076J), [ and Green 2018](https://ui.adsabs.harvard.edu/abs/2018MNRAS.475..716G)) , and MUSE  ([ and Swinbank 2017](https://ui.adsabs.harvard.edu/abs/2017MNRAS.467.3140S)) ). The errorbars on our plotted medians represent the $16^{\\rm th}$ and $16^{\\rm th}$ quantiles along the y-axis, and the extent of the bin along the x-axis. The $\\disp$-SFR relation holds across redshifts, for both ionised ($\\Ha$; orange outline) and cold ([CII]; blue outline) gas, although we find higher values of $\\disp$ and a steeper slope. Some works at lower redshift find a similar weak increasing trend for the $\\disp-M_{\\star}$ relation as our sample  ([ and Wisnioski 2015](https://ui.adsabs.harvard.edu/abs/2015ApJ...799..209W), Forster-Schreiber:2018aa, [ and Yu 2019](https://ui.adsabs.harvard.edu/abs/2019MNRAS.486.4463Y), [ and Price 2020](https://ui.adsabs.harvard.edu/abs/2020ApJ...894...91P)) , while [ and Simons (2017)](https://ui.adsabs.harvard.edu/abs/2017ApJ...843...46S) finds no significant trend. The trends for $\\rotsupp$ are less clear, but our results could indicate a flattening in the $\\rotsupp-M_{\\star}$ relation at low masses $\\log M_{\\star} [\\mathrm{M}_{\\odot}] \\lesssim10$, which is consistent with other works in this mass range and which is predicted by the marginal disk model (purple shaded regions). (*fig:corr-comp*)\n",
       "\n",
       "</div><div id=\"qrcode\"><img src=https://api.qrserver.com/v1/create-qr-code/?size=100x100&data=\"https://arxiv.org/abs/2503.21863\"></div>"
      ],
      "text/plain": [
       "<IPython.core.display.Markdown object>"
      ]
     },
     "metadata": {},
     "output_type": "display_data"
    },
    {
     "data": {
      "text/markdown": [
       "<div class=\"macros\" style=\"visibility:hidden;\">\n",
       "$\\newcommand{\\ensuremath}{}$\n",
       "$\\newcommand{\\xspace}{}$\n",
       "$\\newcommand{\\object}[1]{\\texttt{#1}}$\n",
       "$\\newcommand{\\farcs}{{.}''}$\n",
       "$\\newcommand{\\farcm}{{.}'}$\n",
       "$\\newcommand{\\arcsec}{''}$\n",
       "$\\newcommand{\\arcmin}{'}$\n",
       "$\\newcommand{\\ion}[2]{#1#2}$\n",
       "$\\newcommand{\\textsc}[1]{\\textrm{#1}}$\n",
       "$\\newcommand{\\hl}[1]{\\textrm{#1}}$\n",
       "$\\newcommand{\\footnote}[1]{}$\n",
       "$\\newcommand{\\jv}[1]{\\textcolor{magenta}{JV: #1}}$\n",
       "$\\newcommand{\\bloem}{BLOeM\\xspace}$\n",
       "$\\newcommand{\\kms}{ km s^{-1}\\xspace}$\n",
       "$\\newcommand{\\cms}{ cm s^{-2}\\xspace}$\n",
       "$\\newcommand{\\Msun}{ {\\rm M}_\\odot\\xspace}$\n",
       "$\\newcommand{\\Rsun}{ {\\rm R}_\\odot\\xspace}$\n",
       "$\\newcommand{\\Lsun}{ {\\rm L}_\\odot\\xspace}$\n",
       "$\\newcommand{\\Zsun}{ {\\rm Z}_\\odot\\xspace}$\n",
       "$\\newcommand{\\Teff}{T_{\\rm eff}\\xspace}$\n",
       "$\\newcommand{\\logg}{\\log g\\xspace}$\n",
       "$\\newcommand{\\drv}{\\DeltaRV\\xspace}$\n",
       "$\\newcommand{\\drvmax}{\\Delta{\\rm RV}_{\\rm max}\\xspace}$\n",
       "$\\newcommand{\\rvvar}{RV var\\xspace}$\n",
       "$\\newcommand{\\pdet}{p_{\\rm det}\\xspace}$\n",
       "$\\newcommand$</div>\n",
       "\n",
       "\n",
       "\n",
       "<div id=\"title\">\n",
       "\n",
       "# Binarity at LOw Metallicity (BLOeM):$\\thanks{Based on observations collected at the European Southern Observatory under ESO program ID 112.25W2.}$: Enhanced multiplicity of early B-type dwarfs and giants at $Z=0.2$$\\Zsun$\n",
       "\n",
       "</div>\n",
       "<div id=\"comments\">\n",
       "\n",
       "[![arXiv](https://img.shields.io/badge/arXiv-2503.21936-b31b1b.svg)](https://arxiv.org/abs/2503.21936)<mark>Appeared on: 2025-03-31</mark> -  _17 pages, 19 figures (additional 10 pages and 5 figures in appendices). Accepted for publication in A&A_\n",
       "\n",
       "</div>\n",
       "<div id=\"authors\">\n",
       "\n",
       "J. I. Villaseñor, et al. -- incl., <mark>M. Fouesneau</mark>, <mark>H.-W. Rix</mark>\n",
       "\n",
       "</div>\n",
       "<div id=\"abstract\">\n",
       "\n",
       "**Abstract:** Early B-type stars with initial masses between 8 and 15 $\\Msun$ are frequently found in multiple systems, as evidenced by multi-epoch spectroscopic campaigns in the Milky Way and the Large Magellanic Cloud (LMC). Previous studies have shown no strong metallicity dependence in the close-binary ( $a<10$ au) fraction or orbital-period distributions between the Milky Way's solar metallicity ( $\\Zsun$ ) and that of the LMC ( $Z=0.5$ $\\Zsun$ ). However, similar analyses for a large sample of massive stars in more metal-poor environments are still scarce.We focus on 309 early B-type stars (luminosity classes III–V) from the Binarity at LOw Metallicity ( $\\bloem$ ) campaign, which targeted nearly 1000 massive stars in the Small Magellanic Cloud (SMC, $Z=0.2$ $\\Zsun$ ) using VLT/FLAMES multi-epoch spectroscopy.By applying binary detection criteria consistent with previous works on Galactic and LMC samples, we identify 153 stars (91 SB1, 59 SB2, 3 SB3) exhibiting significant radial-velocity (RV) variations, resulting in an observed multiplicity fraction of $\\fobs{50}{3}$ . Using Monte Carlo simulations to account for observational biases, we infer an intrinsic close-binary fraction of $\\fbin{80}{8}$ . This fraction reduces to $\\sim55$ \\% when increasing our RV threshold from 20 to 80 $\\kms$ , however, an independent Markov chain Monte Carlo analysis of the peak-to-peak RV distribution ( $\\drvmax$ ) confirms a high multiplicity fraction of $\\fbin{78}{5}$ . These findings suggest a possible anti-correlation between metallicity and the fraction of close B-type binaries, with the SMC multiplicity fraction significantly exceeding previous measurements in the LMC and the Galaxy.The enhanced fraction of close binaries at SMC's low metallicity may have broad implications for massive-star evolution in the early Universe. More frequent mass transfer and envelope stripping could boost the production of exotic transients, stripped supernovae, gravitational-wave progenitors, and sustained UV ionising flux, potentially affecting cosmic reionisation. Theoretical predictions of binary evolution under metal-poor conditions will provide a key test of our results.\n",
       "\n",
       "</div>\n",
       "\n",
       "<div id=\"div_fig1\">\n",
       "\n",
       "<img src=\"tmp_2503.21936/./img/bloem_dRV_Pcrit.png\" alt=\"Fig4\" width=\"100%\"/>\n",
       "\n",
       "**Figure 4. -** Top panel: Contour plot showing the critical period ($P_{\\rm crit}$) as a function of primary mass ($M_1$) and surface gravity ($\\log(g)$) for systems with $i=60^\\circ$ and $q=0.5$. White dashed contour lines highlight selected $P_{\\rm crit}$ values (1, 2, 5, and 10 days).\n",
       "    Bottom Panel: As the top panel, this time displaying the corresponding change in radial velocity ($\\Delta \\mathrm{RV}_{\\rm max}$) computed at $P_{\\rm crit}$. White dashed curves mark the contours where $\\Delta \\mathrm{RV}_{\\rm max} = 20$\\kms at different inclinations and $q=0.1$. (*fig:Pcrit*)\n",
       "\n",
       "</div>\n",
       "<div id=\"div_fig2\">\n",
       "\n",
       "<img src=\"tmp_2503.21936/./img/5_062_4388_fits_SB2_.png\" alt=\"Fig21\" width=\"100%\"/>\n",
       "\n",
       "**Figure 21. -** Gaussian fitting of the spectral lines \\spline{He}{i}{4388} for the SB3 system $\\bloem$ 5-062. Red dashed line shows the mean SMC velocity of 172$\\kms$\\citep{evans+howarth08}, and orange dashed lines show differences of $\\pm200$\\kms with respect to the mean velocity. Epoch number increases from left to right and from top to bottom. (*fig:5_062_SB3*)\n",
       "\n",
       "</div>\n",
       "<div id=\"div_fig3\">\n",
       "\n",
       "<img src=\"tmp_2503.21936/./img/spectral_type_hist_byField_magma.png\" alt=\"Fig1\" width=\"100%\"/>\n",
       "\n",
       "**Figure 1. -** Spectral types of the B-type III/V sample, colour coded by field. Number of stars per field is shown in parentheses. (*fig:SpTs*)\n",
       "\n",
       "</div><div id=\"qrcode\"><img src=https://api.qrserver.com/v1/create-qr-code/?size=100x100&data=\"https://arxiv.org/abs/2503.21936\"></div>"
      ],
      "text/plain": [
       "<IPython.core.display.Markdown object>"
      ]
     },
     "metadata": {},
     "output_type": "display_data"
    },
    {
     "data": {
      "text/markdown": [
       "<div class=\"macros\" style=\"visibility:hidden;\">\n",
       "$\\newcommand{\\ensuremath}{}$\n",
       "$\\newcommand{\\xspace}{}$\n",
       "$\\newcommand{\\object}[1]{\\texttt{#1}}$\n",
       "$\\newcommand{\\farcs}{{.}''}$\n",
       "$\\newcommand{\\farcm}{{.}'}$\n",
       "$\\newcommand{\\arcsec}{''}$\n",
       "$\\newcommand{\\arcmin}{'}$\n",
       "$\\newcommand{\\ion}[2]{#1#2}$\n",
       "$\\newcommand{\\textsc}[1]{\\textrm{#1}}$\n",
       "$\\newcommand{\\hl}[1]{\\textrm{#1}}$\n",
       "$\\newcommand{\\footnote}[1]{}$\n",
       "$\\newcommand{\\orcid}[1]$\n",
       "$\\newcommand{\\tmax}{{\\vartheta_{\\rm max}}}$\n",
       "$\\newcommand{\\refer}[1]{,\\ \\cite{#1}; [{\\tt #1}]}$\n",
       "$\\newcommand{\\itemm}{$\n",
       "$\\medskip\\noindent}$\n",
       "$\\newcommand{\\pd}{\\phantom{1}}$</div>\n",
       "\n",
       "\n",
       "\n",
       "<div id=\"title\">\n",
       "\n",
       "# $\\Euclid$\\/: Title of your paper$\\thanks{This paper is published on     behalf of the Euclid Consortium}$\n",
       "\n",
       "</div>\n",
       "<div id=\"comments\">\n",
       "\n",
       "[![arXiv](https://img.shields.io/badge/arXiv-2503.22497-b31b1b.svg)](https://arxiv.org/abs/2503.22497)<mark>Appeared on: 2025-03-31</mark> -  _17 pages, 14 figures_\n",
       "\n",
       "</div>\n",
       "<div id=\"authors\">\n",
       "\n",
       "M. Žerjal, et al. -- incl., <mark>K. Jahnke</mark>\n",
       "\n",
       "</div>\n",
       "<div id=\"abstract\">\n",
       "\n",
       "**Abstract:** ${\\color{blue} \\bf NEW VERSION: We have a modified style file,     aaEC.cls, used here; with that, the bug reported in Sect. 8 no     longer occurs. In order to demonstrate this, the long author list     of \\cite{EROData} was copied here.}$ \\ This is a template file for the preparation of Euclid Consortium (EC) papersfor submission to A \\& A. The list of lead authors and affiliations shouldbe prepared by the authors only on first submission to the ECEditorial Board (ECEB). Once thepaper is circulated within the full EC, and eligible authors can signup, then you should instead use the author and affiliation listgenerated for your paper on the Publication Portal; any editing ofthese lists byhand is error prone and must not be done.With the macros \\textbackslash{\\tt titlerunning} and \\textbackslash{\\tt authorrunning} ,shortened versions of the author list and the title should be given, suchthat they fit into the headline of each odd-numbered page.As a default, it is recommended to use the \"traditional\" abstract, asgiven in this example here. Nevertheless, the structure of theabstract should follow the journal's guidelines, i.e., context, aims,methods, and results, just without explicitly writing the headings.In the Appendix, we provide a list of EC publications, which will becontinuously updated. Furthermore, we have prepared the file ${\\tt  Euclid.bib}$ , which contains most of the EC papers and can be usedfor preparing your reference list.\n",
       "\n",
       "</div>\n",
       "\n",
       "<div id=\"qrcode\"><img src=https://api.qrserver.com/v1/create-qr-code/?size=100x100&data=\"https://arxiv.org/abs/2503.22497\"></div>"
      ],
      "text/plain": [
       "<IPython.core.display.Markdown object>"
      ]
     },
     "metadata": {},
     "output_type": "display_data"
    },
    {
     "data": {
      "text/markdown": [
       "<div class=\"macros\" style=\"visibility:hidden;\">\n",
       "$\\newcommand{\\ensuremath}{}$\n",
       "$\\newcommand{\\xspace}{}$\n",
       "$\\newcommand{\\object}[1]{\\texttt{#1}}$\n",
       "$\\newcommand{\\farcs}{{.}''}$\n",
       "$\\newcommand{\\farcm}{{.}'}$\n",
       "$\\newcommand{\\arcsec}{''}$\n",
       "$\\newcommand{\\arcmin}{'}$\n",
       "$\\newcommand{\\ion}[2]{#1#2}$\n",
       "$\\newcommand{\\textsc}[1]{\\textrm{#1}}$\n",
       "$\\newcommand{\\hl}[1]{\\textrm{#1}}$\n",
       "$\\newcommand{\\footnote}[1]{}$\n",
       "$\\newcommand{\\com}[2]{ {\\textcolor{orange}{ #1 :}}{\\textcolor{blue}{ #2}}}$\n",
       "$\\newcommand{\\NNEW}{202\\xspace}$\n",
       "$\\newcommand{\\NNEWSPECTRA}{33\\xspace}$\n",
       "$\\newcommand{\\NKNWSPECTRA}{109\\xspace}$\n",
       "$\\newcommand{\\NSPECTRA}{142\\xspace}$\n",
       "$\\newcommand{\\NNEWINTSPECTRA}{46\\xspace}$\n",
       "$\\newcommand{\\NDES}{326\\xspace}$\n",
       "$\\newcommand{\\NKNW}{12\\xspace}$\n",
       "$\\newcommand{\\EDFN}{EDF-N\\xspace}$\n",
       "$\\newcommand{\\EDFF}{EDF-F\\xspace}$\n",
       "$\\newcommand{\\EDFS}{EDF-S\\xspace}$\n",
       "$\\newcommand{\\orcid}[1]$</div>\n",
       "\n",
       "\n",
       "\n",
       "<div id=\"title\">\n",
       "\n",
       "# $\\Euclid$ Quick Data Release (Q1) --Ultracool dwarfs in the Euclid Deep Field North$\\thanks{This paper is published on behalf of the Euclid Consortium}$\n",
       "\n",
       "</div>\n",
       "<div id=\"comments\">\n",
       "\n",
       "[![arXiv](https://img.shields.io/badge/arXiv-2503.22559-b31b1b.svg)](https://arxiv.org/abs/2503.22559)<mark>Appeared on: 2025-03-31</mark> -  _14 pages, 9 figures, 2 tables_\n",
       "\n",
       "</div>\n",
       "<div id=\"authors\">\n",
       "\n",
       "A. Mohandasan, et al. -- incl., <mark>E. Bañados</mark>, <mark>K. Jahnke</mark>\n",
       "\n",
       "</div>\n",
       "<div id=\"abstract\">\n",
       "\n",
       "**Abstract:** Ultracool dwarfs (UCDs) encompass the lowest-mass stars and brown dwarfs, defining the stellar-substellar boundary. They have significant potential for advancing the understanding of substellar physics; however, these objects are challenging to detect due to their low luminosity. The wide coverage and deep sensitivity of the $\\Euclid$ survey will increase the number of confirmed and well-characterised UCDs by several orders of magnitude.In this study, we take advantage of the $\\Euclid$ Quick Data Release (Q1) and in particular we look in detail at the known and new UCDs in the $\\Euclid$ Deep Field North ( $22.9\\deg^2$ down to $\\JE$ $\\approx 24.5$ mag), to understand the advantages of using the slitless $\\Euclid$ spectroscopy.We compile a comparison sample of known UCDs and use their spectra to demonstrate the capability of $\\Euclid$ to derive spectral types using a template-matching method. This method is then applied to the spectra of the newly identified candidates.We confirm that $\\NNEWSPECTRA$ of these candidates are new UCDs, with spectral types ranging from M7 to T1 and $\\JE=17$ --21 mag.We look at their locus in colour-colour diagrams and compare them with the expected colours of QSOs.A machine-readable catalogue is provided for further study, containing both the comparison sample and the newly identified UCDs, along with their spectral classifications where the Q1 spectra quality allows for confident determination.\n",
       "\n",
       "</div>\n",
       "\n",
       "<div id=\"div_fig1\">\n",
       "\n",
       "<img src=\"tmp_2503.22559/./Images/gridplot_lit5.png\" alt=\"Fig1\" width=\"100%\"/>\n",
       "\n",
       "**Figure 1. -** Q1 spectra of four UCDs with published spectral classifications. The solid green line represents the template spectrum corresponding to the published spectral type. Grey points denote all measured data, while blue points indicate those retained after quality filtering. (*fig:maskeffect*)\n",
       "\n",
       "</div>\n",
       "<div id=\"div_fig2\">\n",
       "\n",
       "<img src=\"tmp_2503.22559/./Images/J18196557_2.png\" alt=\"Fig3\" width=\"100%\"/>\n",
       "\n",
       "**Figure 3. -** Peculiar spectrum of J1813$+$6557, along with spectra of very low-gravity and a normal L5 from JWST and a very low-gravity L7 observed from the ground, for comparison (refer to Sect. \\ref{spectral_new}). Spectra are normalised at 1.7 \\micron . (*fig:speactra_new*)\n",
       "\n",
       "</div>\n",
       "<div id=\"div_fig3\">\n",
       "\n",
       "<img src=\"tmp_2503.22559/./Images/check_IHvsIJ_QSOT.png\" alt=\"Fig7.1\" width=\"25%\"/><img src=\"tmp_2503.22559/./Images/check_YJvsJH_QSOT.png\" alt=\"Fig7.2\" width=\"25%\"/><img src=\"tmp_2503.22559/./Images/check_IHvsYJ_QSOT.png\" alt=\"Fig7.3\" width=\"25%\"/><img src=\"tmp_2503.22559/./Images/check_JHvsIY_QSOT.png\" alt=\"Fig7.4\" width=\"25%\"/>\n",
       "\n",
       "**Figure 7. -** 142 UCDs analysed in this study, of which 33 are newly identified with \\Euclid, displayed in various colour-colour diagrams, with only those having good quality spectrum and confident spectral typing included. Dots represent previously known UCDs with good-quality Q1 spectra. Diamonds represent new UCDs studied in this work with reliable spectral typing. They are colour-coded according to the spectral type assigned in this paper, which is displayed in the colour scale. Grey points are all Q1 objects with \\texttt{point}\\_\\texttt{like}\\_\\texttt{probab}$\\geq 0.8$ with a shade that represents the number density as indicated in the scale.\n",
       "The dashed lines of different colours denote the expected position for typical QSOs with redshift from $z=5$ to $z=9$; White for default QSO position. Light and dark blue denote extremely weak and extremely strong lined QSO. Light and dark red denote *E(B$-$V)*=0.1 and 0.2, in QSO rest frame. Light and dark green denote extremely weak and strong lined QSO with *E(B$-$V)*=0.1.\n",
       " (*fig:Q1x:YJvsJH*)\n",
       "\n",
       "</div><div id=\"qrcode\"><img src=https://api.qrserver.com/v1/create-qr-code/?size=100x100&data=\"https://arxiv.org/abs/2503.22559\"></div>"
      ],
      "text/plain": [
       "<IPython.core.display.Markdown object>"
      ]
     },
     "metadata": {},
     "output_type": "display_data"
    },
    {
     "data": {
      "text/markdown": [
       "<div class=\"macros\" style=\"visibility:hidden;\">\n",
       "$\\newcommand{\\ensuremath}{}$\n",
       "$\\newcommand{\\xspace}{}$\n",
       "$\\newcommand{\\object}[1]{\\texttt{#1}}$\n",
       "$\\newcommand{\\farcs}{{.}''}$\n",
       "$\\newcommand{\\farcm}{{.}'}$\n",
       "$\\newcommand{\\arcsec}{''}$\n",
       "$\\newcommand{\\arcmin}{'}$\n",
       "$\\newcommand{\\ion}[2]{#1#2}$\n",
       "$\\newcommand{\\textsc}[1]{\\textrm{#1}}$\n",
       "$\\newcommand{\\hl}[1]{\\textrm{#1}}$\n",
       "$\\newcommand{\\footnote}[1]{}$\n",
       "$\\newcommand{\\vdag}{(v)^\\dagger}$\n",
       "$\\newcommand$\n",
       "$\\newcommand$\n",
       "$\\newcommand{\\MalskyEtAlP}{\\citep{MalskyEtAl2025}}$\n",
       "$\\newcommand{\\MalskyEtAlT}{\\citet{MalskyEtAl2025} }$</div>\n",
       "\n",
       "\n",
       "\n",
       "<div id=\"title\">\n",
       "\n",
       "# The radiative effects of photochemical hazes on the atmospheric circulation and phase curves of sub-Neptunes\n",
       "\n",
       "</div>\n",
       "<div id=\"comments\">\n",
       "\n",
       "[![arXiv](https://img.shields.io/badge/arXiv-2503.22642-b31b1b.svg)](https://arxiv.org/abs/2503.22642)<mark>Appeared on: 2025-03-31</mark> -  _resubmitted to ApJ after addressing referee report_\n",
       "\n",
       "</div>\n",
       "<div id=\"authors\">\n",
       "\n",
       "M. E. Steinrueck, et al. -- incl., <mark>L. Kreidberg</mark>\n",
       "\n",
       "</div>\n",
       "<div id=\"abstract\">\n",
       "\n",
       "**Abstract:** Measuring the atmospheric composition of hazy sub-Neptunes like GJ 1214b through transmission spectroscopy is difficult because of the degeneracy between mean molecular weight and haziness. It has been proposed that phase curve observations can break this degeneracy because of the relationship between mean molecular weight (MMW) and phase curve amplitude. However, photochemical hazes can strongly affect phase curve amplitudes as well. We present a large set of GCM simulations of the sub-Neptune GJ 1214b that include photochemical hazes with varying atmospheric composition, haze opacity and haze optical properties. In our simulations, photochemical hazes cause temperature changes of up to 200 K, producing thermal inversions and cooling deeper regions. This results in increased phase curve amplitudes and adds a considerable scatter to the phase curve amplitude--metallicity relationship. However, we find that if the haze production rate is high enough to significantly alter the phase curve, the secondary eclipse spectrum will exhibit either emission features or strongly muted absorption features. Thus, the combination of a white-light phase curve and a secondary eclipse spectrum can successfully distinguish between a hazy, lower MMW and a clear, high MMW scenario.\n",
       "\n",
       "</div>\n",
       "\n",
       "<div id=\"div_fig1\">\n",
       "\n",
       "<img src=\"tmp_2503.22642/./uzonalav_clear.png\" alt=\"Fig7\" width=\"100%\"/>\n",
       "\n",
       "**Figure 7. -** Zonal-mean zonal velocity for the clear-atmosphere simulations. The contours highlight where the zonal-mean zonal velocity reaches 50\\% and 75\\% of the peak velocity within the simulation. (*fig:uzonalav_clear*)\n",
       "\n",
       "</div>\n",
       "<div id=\"div_fig2\">\n",
       "\n",
       "<img src=\"tmp_2503.22642/./hazeproperties_vs_pressure.png\" alt=\"Fig5\" width=\"100%\"/>\n",
       "\n",
       "**Figure 5. -** Summary of the haze properties assumed in the simulations. The left panel shows number density and mean radius of the haze distribution that was used as input in the GCM simulations. The middle panel shows the differential optical depth for soot (solid) and tholin (dashed) hazes at 1 $\\mu$m (representative for the incoming starlight) and 8 $\\mu$m (representative for the outgoing thermal radiation) for the nominal haze opacity case. The pressure levels where the optical depth reaches 0.01 (circle), 0.1 (star), and 1 (square) are highlighted. For soot at 1 $\\mu$m, the optical depth reaches 0.01 at a pressure of $6\\cdot10^{-7}$ bar, outside the pressure range shown.  The right panel shows the wavelength-averaged single scattering albedo weighted by the stellar flux. For the \"maximally reflective\" case, the optical depth is identical to the soot case, but the single scattering albedo is fixed to 0.9999. (*fig:hazeproperties_vs_pressure*)\n",
       "\n",
       "</div>\n",
       "<div id=\"div_fig3\">\n",
       "\n",
       "<img src=\"tmp_2503.22642/./spectralphasecurve_tholin.png\" alt=\"Fig15\" width=\"100%\"/>\n",
       "\n",
       "**Figure 15. -** Spectral phase curves for a selection of models with tholin hazes that provide a relatively good match to the observed white-light phase curve. The models substantially overpredict the emitted flux for a large fraction of the phase curve in spectral regions that show emission features in the secondary eclipse spectrum (6-8.5 $\\mu$m). The observed spectral phasecurves are plotted in the background in light gray with filled circles and solid lines representing the \\citet{KemptonEtAl2023} reduction and empty circles and dashed lines the $\\MalskyEtAlT$ reduction. We note that due to the relatively low resolution of our post-processing, the spectral bins of the models do not line up exactly with the spectral bins of the observations (see Appendix for more detail). (*fig:spectralphasecurve_tholin*)\n",
       "\n",
       "</div><div id=\"qrcode\"><img src=https://api.qrserver.com/v1/create-qr-code/?size=100x100&data=\"https://arxiv.org/abs/2503.22642\"></div>"
      ],
      "text/plain": [
       "<IPython.core.display.Markdown object>"
      ]
     },
     "metadata": {},
     "output_type": "display_data"
    }
   ],
   "source": [
    "[display(Markdown(k[1])) for k in documents];"
   ]
  },
  {
   "cell_type": "markdown",
   "id": "873873a4",
   "metadata": {
    "papermill": {
     "duration": 0.006368,
     "end_time": "2025-03-31T04:14:52.637152",
     "exception": false,
     "start_time": "2025-03-31T04:14:52.630784",
     "status": "completed"
    },
    "tags": []
   },
   "source": [
    "# Create HTML index"
   ]
  },
  {
   "cell_type": "code",
   "execution_count": 10,
   "id": "cf665672",
   "metadata": {
    "execution": {
     "iopub.execute_input": "2025-03-31T04:14:52.651704Z",
     "iopub.status.busy": "2025-03-31T04:14:52.651134Z",
     "iopub.status.idle": "2025-03-31T04:14:52.661404Z",
     "shell.execute_reply": "2025-03-31T04:14:52.660709Z"
    },
    "papermill": {
     "duration": 0.018638,
     "end_time": "2025-03-31T04:14:52.662388",
     "exception": false,
     "start_time": "2025-03-31T04:14:52.643750",
     "status": "completed"
    },
    "tags": []
   },
   "outputs": [
    {
     "name": "stdout",
     "output_type": "stream",
     "text": [
      "417  publications files modified in the last 7 days.\n"
     ]
    }
   ],
   "source": [
    "from datetime import datetime, timedelta, timezone\n",
    "from glob import glob\n",
    "import os\n",
    "\n",
    "files = glob('_build/html/*.md')\n",
    "days = 7\n",
    "now = datetime.today()\n",
    "res = []\n",
    "for fk in files:\n",
    "    stat_result = os.stat(fk).st_ctime\n",
    "    modified = datetime.fromtimestamp(stat_result, tz=timezone.utc).replace(tzinfo=None)\n",
    "    delta = now.today() - modified\n",
    "    if delta <= timedelta(days=days):\n",
    "        res.append((delta.seconds, fk))\n",
    "res = [k[1] for k in reversed(sorted(res, key=lambda x:x[1]))]\n",
    "npub = len(res)\n",
    "print(len(res), f\" publications files modified in the last {days:d} days.\")\n",
    "# [ print('\\t', k) for k in res ];"
   ]
  },
  {
   "cell_type": "code",
   "execution_count": 11,
   "id": "015de740",
   "metadata": {
    "execution": {
     "iopub.execute_input": "2025-03-31T04:14:52.677251Z",
     "iopub.status.busy": "2025-03-31T04:14:52.676721Z",
     "iopub.status.idle": "2025-03-31T04:14:52.699355Z",
     "shell.execute_reply": "2025-03-31T04:14:52.698724Z"
    },
    "papermill": {
     "duration": 0.03122,
     "end_time": "2025-03-31T04:14:52.700433",
     "exception": false,
     "start_time": "2025-03-31T04:14:52.669213",
     "status": "completed"
    },
    "tags": []
   },
   "outputs": [
    {
     "name": "stdout",
     "output_type": "stream",
     "text": [
      "21  publications in the last 7 days.\n"
     ]
    }
   ],
   "source": [
    "import datetime\n",
    "from glob import glob\n",
    "\n",
    "def get_last_n_days(lst, days=1):\n",
    "    \"\"\" Get the documents from the last n days \"\"\"\n",
    "    sorted_lst = sorted(lst, key=lambda x: x[1], reverse=True)\n",
    "    for fname, date in sorted_lst:\n",
    "        if date >= str(datetime.date.today() - datetime.timedelta(days=days)):\n",
    "            yield fname\n",
    "\n",
    "def extract_appearance_dates(lst_file):\n",
    "    dates = []\n",
    "\n",
    "    def get_date(line):\n",
    "        return line\\\n",
    "            .split('Appeared on:')[-1]\\\n",
    "            .split('</mark>')[0].strip()\n",
    "\n",
    "    for fname in lst:\n",
    "        with open(fname, 'r') as f:\n",
    "            found_date = False\n",
    "            for line in f:\n",
    "                if not found_date:\n",
    "                    if \"Appeared on\" in line:\n",
    "                        found_date = True\n",
    "                        dates.append((fname, get_date(line)))\n",
    "                else:\n",
    "                    break\n",
    "    return dates\n",
    "\n",
    "from glob import glob\n",
    "lst = glob('_build/html/*md')\n",
    "days = 7\n",
    "dates = extract_appearance_dates(lst)\n",
    "res = list(get_last_n_days(dates, days))\n",
    "npub = len(res)\n",
    "print(len(res), f\" publications in the last {days:d} days.\")"
   ]
  },
  {
   "cell_type": "code",
   "execution_count": 12,
   "id": "52ca0208",
   "metadata": {
    "execution": {
     "iopub.execute_input": "2025-03-31T04:14:52.715583Z",
     "iopub.status.busy": "2025-03-31T04:14:52.715079Z",
     "iopub.status.idle": "2025-03-31T04:14:52.720400Z",
     "shell.execute_reply": "2025-03-31T04:14:52.719825Z"
    },
    "papermill": {
     "duration": 0.013997,
     "end_time": "2025-03-31T04:14:52.721433",
     "exception": false,
     "start_time": "2025-03-31T04:14:52.707436",
     "status": "completed"
    },
    "scrolled": false,
    "tags": []
   },
   "outputs": [],
   "source": [
    "def create_carousel(npub=4):\n",
    "    \"\"\" Generate the HTML code for a carousel with `npub` slides \"\"\"\n",
    "    carousel = [\"\"\"  <div class=\"carousel\" \"\"\",\n",
    "                \"\"\"       data-flickity='{ \"autoPlay\": 10000, \"adaptiveHeight\": true, \"resize\": true, \"wrapAround\": true, \"pauseAutoPlayOnHover\": true, \"groupCells\": 1 }' id=\"asyncTypeset\">\"\"\"\n",
    "                ]\n",
    "    \n",
    "    item_str = \"\"\"    <div class=\"carousel-cell\"> <div id=\"slide{k}\" class=\"md_view\">Content {k}</div> </div>\"\"\"\n",
    "    for k in range(1, npub + 1):\n",
    "        carousel.append(item_str.format(k=k))\n",
    "    carousel.append(\"  </div>\")\n",
    "    return '\\n'.join(carousel)\n",
    "\n",
    "def create_grid(npub=4):\n",
    "    \"\"\" Generate the HTML code for a flat grid with `npub` slides \"\"\"\n",
    "    grid = [\"\"\"  <div class=\"grid\"> \"\"\",\n",
    "                ]\n",
    "    \n",
    "    item_str = \"\"\"    <div class=\"grid-item\"> <div id=\"slide{k}\" class=\"md_view\">Content {k}</div> </div>\"\"\"\n",
    "    for k in range(1, npub + 1):\n",
    "        grid.append(item_str.format(k=k))\n",
    "    grid.append(\"  </div>\")\n",
    "    return '\\n'.join(grid)"
   ]
  },
  {
   "cell_type": "code",
   "execution_count": 13,
   "id": "a6eac5b6",
   "metadata": {
    "execution": {
     "iopub.execute_input": "2025-03-31T04:14:52.736436Z",
     "iopub.status.busy": "2025-03-31T04:14:52.735819Z",
     "iopub.status.idle": "2025-03-31T04:14:52.741350Z",
     "shell.execute_reply": "2025-03-31T04:14:52.740803Z"
    },
    "papermill": {
     "duration": 0.013948,
     "end_time": "2025-03-31T04:14:52.742355",
     "exception": false,
     "start_time": "2025-03-31T04:14:52.728407",
     "status": "completed"
    },
    "scrolled": false,
    "tags": []
   },
   "outputs": [],
   "source": [
    "carousel = create_carousel(npub)\n",
    "docs = ', '.join(['\"{0:s}\"'.format(k.split('/')[-1]) for k in res])\n",
    "slides = ', '.join([f'\"slide{k}\"' for k in range(1, npub + 1)])\n",
    "\n",
    "with open(\"daily_template.html\", \"r\") as tpl:\n",
    "    page = tpl.read()\n",
    "    page = page.replace(\"{%-- carousel:s --%}\", carousel)\\\n",
    "               .replace(\"{%-- suptitle:s --%}\",  \"7-day archives\" )\\\n",
    "               .replace(\"{%-- docs:s --%}\", docs)\\\n",
    "               .replace(\"{%-- slides:s --%}\", slides)\n",
    "    \n",
    "with open(\"_build/html/index_7days.html\", 'w') as fout:\n",
    "    fout.write(page)"
   ]
  },
  {
   "cell_type": "code",
   "execution_count": 14,
   "id": "adc1a1ec",
   "metadata": {
    "execution": {
     "iopub.execute_input": "2025-03-31T04:14:52.757524Z",
     "iopub.status.busy": "2025-03-31T04:14:52.757008Z",
     "iopub.status.idle": "2025-03-31T04:14:52.764329Z",
     "shell.execute_reply": "2025-03-31T04:14:52.763758Z"
    },
    "papermill": {
     "duration": 0.016195,
     "end_time": "2025-03-31T04:14:52.765448",
     "exception": false,
     "start_time": "2025-03-31T04:14:52.749253",
     "status": "completed"
    },
    "tags": []
   },
   "outputs": [
    {
     "name": "stdout",
     "output_type": "stream",
     "text": [
      "5  publications in the last day.\n"
     ]
    }
   ],
   "source": [
    "# redo for today\n",
    "days = 1\n",
    "res = list(get_last_n_days(dates, days))\n",
    "npub = len(res)\n",
    "print(len(res), f\" publications in the last day.\")\n",
    "\n",
    "carousel = create_carousel(npub)\n",
    "docs = ', '.join(['\"{0:s}\"'.format(k.split('/')[-1]) for k in res])\n",
    "slides = ', '.join([f'\"slide{k}\"' for k in range(1, npub + 1)])\n",
    "\n",
    "with open(\"daily_template.html\", \"r\") as tpl:\n",
    "    page = tpl.read()\n",
    "    page = page.replace(\"{%-- carousel:s --%}\", carousel)\\\n",
    "               .replace(\"{%-- suptitle:s --%}\",  \"Daily\" )\\\n",
    "               .replace(\"{%-- docs:s --%}\", docs)\\\n",
    "               .replace(\"{%-- slides:s --%}\", slides)\n",
    "    \n",
    "# print(carousel, docs, slides)\n",
    "# print(page)\n",
    "with open(\"_build/html/index_daily.html\", 'w') as fout:\n",
    "    fout.write(page)"
   ]
  },
  {
   "cell_type": "code",
   "execution_count": 15,
   "id": "00eece82",
   "metadata": {
    "execution": {
     "iopub.execute_input": "2025-03-31T04:14:52.780413Z",
     "iopub.status.busy": "2025-03-31T04:14:52.779939Z",
     "iopub.status.idle": "2025-03-31T04:14:52.786939Z",
     "shell.execute_reply": "2025-03-31T04:14:52.786361Z"
    },
    "papermill": {
     "duration": 0.015643,
     "end_time": "2025-03-31T04:14:52.788030",
     "exception": false,
     "start_time": "2025-03-31T04:14:52.772387",
     "status": "completed"
    },
    "scrolled": false,
    "tags": []
   },
   "outputs": [
    {
     "name": "stdout",
     "output_type": "stream",
     "text": [
      "6  6 publications selected.\n"
     ]
    }
   ],
   "source": [
    "# Create the flat grid of the last N papers (fixed number regardless of dates)\n",
    "from itertools import islice \n",
    "\n",
    "npub = 6\n",
    "res = [k[0] for k in (islice(reversed(sorted(dates, key=lambda x: x[1])), 6))]\n",
    "print(len(res), f\" {npub} publications selected.\")\n",
    "\n",
    "grid = create_grid(npub)\n",
    "docs = ', '.join(['\"{0:s}\"'.format(k.split('/')[-1]) for k in res])\n",
    "slides = ', '.join([f'\"slide{k}\"' for k in range(1, npub + 1)])\n",
    "\n",
    "with open(\"grid_template.html\", \"r\") as tpl:\n",
    "    page = tpl.read()\n",
    "    page = page.replace(\"{%-- grid-content:s --%}\", grid)\\\n",
    "               .replace(\"{%-- suptitle:s --%}\",  f\"Last {npub:,d} papers\" )\\\n",
    "               .replace(\"{%-- docs:s --%}\", docs)\\\n",
    "               .replace(\"{%-- slides:s --%}\", slides)\n",
    "    \n",
    "# print(grid, docs, slides)\n",
    "# print(page)\n",
    "with open(\"_build/html/index_npub_grid.html\", 'w') as fout:\n",
    "    fout.write(page)"
   ]
  }
 ],
 "metadata": {
  "kernelspec": {
   "display_name": "Python 3 (ipykernel)",
   "language": "python",
   "name": "python3"
  },
  "language_info": {
   "codemirror_mode": {
    "name": "ipython",
    "version": 3
   },
   "file_extension": ".py",
   "mimetype": "text/x-python",
   "name": "python",
   "nbconvert_exporter": "python",
   "pygments_lexer": "ipython3",
   "version": "3.9.21"
  },
  "papermill": {
   "default_parameters": {},
   "duration": 173.062041,
   "end_time": "2025-03-31T04:14:53.111603",
   "environment_variables": {},
   "exception": null,
   "input_path": "MPIA daily digest.ipynb",
   "output_path": "log.ipynb",
   "parameters": {},
   "start_time": "2025-03-31T04:12:00.049562",
   "version": "2.6.0"
  },
  "vscode": {
   "interpreter": {
    "hash": "aee8b7b246df8f9039afb4144a1f6fd8d2ca17a180786b69acc140d282b71a49"
   }
  },
  "widgets": {
   "application/vnd.jupyter.widget-state+json": {
    "state": {
     "2fa617ca994b4b5795e90aa1f41007f4": {
      "model_module": "@jupyter-widgets/base",
      "model_module_version": "2.0.0",
      "model_name": "LayoutModel",
      "state": {
       "_model_module": "@jupyter-widgets/base",
       "_model_module_version": "2.0.0",
       "_model_name": "LayoutModel",
       "_view_count": null,
       "_view_module": "@jupyter-widgets/base",
       "_view_module_version": "2.0.0",
       "_view_name": "LayoutView",
       "align_content": null,
       "align_items": null,
       "align_self": null,
       "border_bottom": null,
       "border_left": null,
       "border_right": null,
       "border_top": null,
       "bottom": null,
       "display": null,
       "flex": null,
       "flex_flow": null,
       "grid_area": null,
       "grid_auto_columns": null,
       "grid_auto_flow": null,
       "grid_auto_rows": null,
       "grid_column": null,
       "grid_gap": null,
       "grid_row": null,
       "grid_template_areas": null,
       "grid_template_columns": null,
       "grid_template_rows": null,
       "height": null,
       "justify_content": null,
       "justify_items": null,
       "left": null,
       "margin": null,
       "max_height": null,
       "max_width": null,
       "min_height": null,
       "min_width": null,
       "object_fit": null,
       "object_position": null,
       "order": null,
       "overflow": null,
       "padding": null,
       "right": null,
       "top": null,
       "visibility": null,
       "width": null
      }
     },
     "43556c7fbbda43afbec400fa024c7654": {
      "model_module": "@jupyter-widgets/base",
      "model_module_version": "2.0.0",
      "model_name": "LayoutModel",
      "state": {
       "_model_module": "@jupyter-widgets/base",
       "_model_module_version": "2.0.0",
       "_model_name": "LayoutModel",
       "_view_count": null,
       "_view_module": "@jupyter-widgets/base",
       "_view_module_version": "2.0.0",
       "_view_name": "LayoutView",
       "align_content": null,
       "align_items": null,
       "align_self": null,
       "border_bottom": null,
       "border_left": null,
       "border_right": null,
       "border_top": null,
       "bottom": null,
       "display": null,
       "flex": null,
       "flex_flow": null,
       "grid_area": null,
       "grid_auto_columns": null,
       "grid_auto_flow": null,
       "grid_auto_rows": null,
       "grid_column": null,
       "grid_gap": null,
       "grid_row": null,
       "grid_template_areas": null,
       "grid_template_columns": null,
       "grid_template_rows": null,
       "height": null,
       "justify_content": null,
       "justify_items": null,
       "left": null,
       "margin": null,
       "max_height": null,
       "max_width": null,
       "min_height": null,
       "min_width": null,
       "object_fit": null,
       "object_position": null,
       "order": null,
       "overflow": null,
       "padding": null,
       "right": null,
       "top": null,
       "visibility": null,
       "width": null
      }
     },
     "92d47c786eae4eb7b78faab77dd22a8e": {
      "model_module": "@jupyter-widgets/controls",
      "model_module_version": "2.0.0",
      "model_name": "HTMLStyleModel",
      "state": {
       "_model_module": "@jupyter-widgets/controls",
       "_model_module_version": "2.0.0",
       "_model_name": "HTMLStyleModel",
       "_view_count": null,
       "_view_module": "@jupyter-widgets/base",
       "_view_module_version": "2.0.0",
       "_view_name": "StyleView",
       "background": null,
       "description_width": "",
       "font_size": null,
       "text_color": null
      }
     },
     "9e073d7a589848818e2396c889fe0970": {
      "model_module": "@jupyter-widgets/controls",
      "model_module_version": "2.0.0",
      "model_name": "FloatProgressModel",
      "state": {
       "_dom_classes": [],
       "_model_module": "@jupyter-widgets/controls",
       "_model_module_version": "2.0.0",
       "_model_name": "FloatProgressModel",
       "_view_count": null,
       "_view_module": "@jupyter-widgets/controls",
       "_view_module_version": "2.0.0",
       "_view_name": "ProgressView",
       "bar_style": "success",
       "description": "",
       "description_allow_html": false,
       "layout": "IPY_MODEL_b8e588b8405c41e4a75bb311250a09fb",
       "max": 8.0,
       "min": 0.0,
       "orientation": "horizontal",
       "style": "IPY_MODEL_d9517bbf9bb54f56b6e6ce99efed0fbe",
       "tabbable": null,
       "tooltip": null,
       "value": 8.0
      }
     },
     "a4751ebadf2f48f097f74d50f99f8095": {
      "model_module": "@jupyter-widgets/controls",
      "model_module_version": "2.0.0",
      "model_name": "HBoxModel",
      "state": {
       "_dom_classes": [],
       "_model_module": "@jupyter-widgets/controls",
       "_model_module_version": "2.0.0",
       "_model_name": "HBoxModel",
       "_view_count": null,
       "_view_module": "@jupyter-widgets/controls",
       "_view_module_version": "2.0.0",
       "_view_name": "HBoxView",
       "box_style": "",
       "children": [
        "IPY_MODEL_c6900a8c864d4bcfa6528cb83e6a2809",
        "IPY_MODEL_9e073d7a589848818e2396c889fe0970",
        "IPY_MODEL_e58bac3e5c5c469f8b8c10e4e3807f71"
       ],
       "layout": "IPY_MODEL_43556c7fbbda43afbec400fa024c7654",
       "tabbable": null,
       "tooltip": null
      }
     },
     "b8e588b8405c41e4a75bb311250a09fb": {
      "model_module": "@jupyter-widgets/base",
      "model_module_version": "2.0.0",
      "model_name": "LayoutModel",
      "state": {
       "_model_module": "@jupyter-widgets/base",
       "_model_module_version": "2.0.0",
       "_model_name": "LayoutModel",
       "_view_count": null,
       "_view_module": "@jupyter-widgets/base",
       "_view_module_version": "2.0.0",
       "_view_name": "LayoutView",
       "align_content": null,
       "align_items": null,
       "align_self": null,
       "border_bottom": null,
       "border_left": null,
       "border_right": null,
       "border_top": null,
       "bottom": null,
       "display": null,
       "flex": null,
       "flex_flow": null,
       "grid_area": null,
       "grid_auto_columns": null,
       "grid_auto_flow": null,
       "grid_auto_rows": null,
       "grid_column": null,
       "grid_gap": null,
       "grid_row": null,
       "grid_template_areas": null,
       "grid_template_columns": null,
       "grid_template_rows": null,
       "height": null,
       "justify_content": null,
       "justify_items": null,
       "left": null,
       "margin": null,
       "max_height": null,
       "max_width": null,
       "min_height": null,
       "min_width": null,
       "object_fit": null,
       "object_position": null,
       "order": null,
       "overflow": null,
       "padding": null,
       "right": null,
       "top": null,
       "visibility": null,
       "width": null
      }
     },
     "c6900a8c864d4bcfa6528cb83e6a2809": {
      "model_module": "@jupyter-widgets/controls",
      "model_module_version": "2.0.0",
      "model_name": "HTMLModel",
      "state": {
       "_dom_classes": [],
       "_model_module": "@jupyter-widgets/controls",
       "_model_module_version": "2.0.0",
       "_model_name": "HTMLModel",
       "_view_count": null,
       "_view_module": "@jupyter-widgets/controls",
       "_view_module_version": "2.0.0",
       "_view_name": "HTMLView",
       "description": "",
       "description_allow_html": false,
       "layout": "IPY_MODEL_e739ac54c1ea4af0aeb0c850916ce248",
       "placeholder": "​",
       "style": "IPY_MODEL_92d47c786eae4eb7b78faab77dd22a8e",
       "tabbable": null,
       "tooltip": null,
       "value": "100%"
      }
     },
     "d9517bbf9bb54f56b6e6ce99efed0fbe": {
      "model_module": "@jupyter-widgets/controls",
      "model_module_version": "2.0.0",
      "model_name": "ProgressStyleModel",
      "state": {
       "_model_module": "@jupyter-widgets/controls",
       "_model_module_version": "2.0.0",
       "_model_name": "ProgressStyleModel",
       "_view_count": null,
       "_view_module": "@jupyter-widgets/base",
       "_view_module_version": "2.0.0",
       "_view_name": "StyleView",
       "bar_color": null,
       "description_width": ""
      }
     },
     "e58bac3e5c5c469f8b8c10e4e3807f71": {
      "model_module": "@jupyter-widgets/controls",
      "model_module_version": "2.0.0",
      "model_name": "HTMLModel",
      "state": {
       "_dom_classes": [],
       "_model_module": "@jupyter-widgets/controls",
       "_model_module_version": "2.0.0",
       "_model_name": "HTMLModel",
       "_view_count": null,
       "_view_module": "@jupyter-widgets/controls",
       "_view_module_version": "2.0.0",
       "_view_name": "HTMLView",
       "description": "",
       "description_allow_html": false,
       "layout": "IPY_MODEL_2fa617ca994b4b5795e90aa1f41007f4",
       "placeholder": "​",
       "style": "IPY_MODEL_fe5b7b78af2a43b3a789f2d4e5efd565",
       "tabbable": null,
       "tooltip": null,
       "value": " 8/8 [02:30&lt;00:00, 18.50s/it]"
      }
     },
     "e739ac54c1ea4af0aeb0c850916ce248": {
      "model_module": "@jupyter-widgets/base",
      "model_module_version": "2.0.0",
      "model_name": "LayoutModel",
      "state": {
       "_model_module": "@jupyter-widgets/base",
       "_model_module_version": "2.0.0",
       "_model_name": "LayoutModel",
       "_view_count": null,
       "_view_module": "@jupyter-widgets/base",
       "_view_module_version": "2.0.0",
       "_view_name": "LayoutView",
       "align_content": null,
       "align_items": null,
       "align_self": null,
       "border_bottom": null,
       "border_left": null,
       "border_right": null,
       "border_top": null,
       "bottom": null,
       "display": null,
       "flex": null,
       "flex_flow": null,
       "grid_area": null,
       "grid_auto_columns": null,
       "grid_auto_flow": null,
       "grid_auto_rows": null,
       "grid_column": null,
       "grid_gap": null,
       "grid_row": null,
       "grid_template_areas": null,
       "grid_template_columns": null,
       "grid_template_rows": null,
       "height": null,
       "justify_content": null,
       "justify_items": null,
       "left": null,
       "margin": null,
       "max_height": null,
       "max_width": null,
       "min_height": null,
       "min_width": null,
       "object_fit": null,
       "object_position": null,
       "order": null,
       "overflow": null,
       "padding": null,
       "right": null,
       "top": null,
       "visibility": null,
       "width": null
      }
     },
     "fe5b7b78af2a43b3a789f2d4e5efd565": {
      "model_module": "@jupyter-widgets/controls",
      "model_module_version": "2.0.0",
      "model_name": "HTMLStyleModel",
      "state": {
       "_model_module": "@jupyter-widgets/controls",
       "_model_module_version": "2.0.0",
       "_model_name": "HTMLStyleModel",
       "_view_count": null,
       "_view_module": "@jupyter-widgets/base",
       "_view_module_version": "2.0.0",
       "_view_name": "StyleView",
       "background": null,
       "description_width": "",
       "font_size": null,
       "text_color": null
      }
     }
    },
    "version_major": 2,
    "version_minor": 0
   }
  }
 },
 "nbformat": 4,
 "nbformat_minor": 5
}