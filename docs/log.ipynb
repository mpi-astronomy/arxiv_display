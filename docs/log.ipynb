{
 "cells": [
  {
   "cell_type": "markdown",
   "id": "92bcb855",
   "metadata": {
    "papermill": {
     "duration": 0.003955,
     "end_time": "2025-09-03T04:11:46.370569",
     "exception": false,
     "start_time": "2025-09-03T04:11:46.366614",
     "status": "completed"
    },
    "tags": []
   },
   "source": [
    "# MPIA Arxiv on Deck 2\n",
    "\n",
    "Contains the steps to produce the paper extractions."
   ]
  },
  {
   "cell_type": "code",
   "execution_count": 1,
   "id": "3a0d6e11",
   "metadata": {
    "execution": {
     "iopub.execute_input": "2025-09-03T04:11:46.378078Z",
     "iopub.status.busy": "2025-09-03T04:11:46.377777Z",
     "iopub.status.idle": "2025-09-03T04:11:46.590909Z",
     "shell.execute_reply": "2025-09-03T04:11:46.590189Z"
    },
    "papermill": {
     "duration": 0.218434,
     "end_time": "2025-09-03T04:11:46.592340",
     "exception": false,
     "start_time": "2025-09-03T04:11:46.373906",
     "status": "completed"
    },
    "tags": []
   },
   "outputs": [],
   "source": [
    "# Imports\n",
    "import os\n",
    "from IPython.display import Markdown, display\n",
    "from tqdm.notebook import tqdm\n",
    "import warnings\n",
    "from PIL import Image \n",
    "import re\n",
    "\n",
    "# requires arxiv_on_deck_2\n",
    "\n",
    "from arxiv_on_deck_2.arxiv2 import (get_new_papers, \n",
    "                                    get_paper_from_identifier,\n",
    "                                    retrieve_document_source, \n",
    "                                    get_markdown_badge)\n",
    "from arxiv_on_deck_2 import (latex,\n",
    "                             latex_bib,\n",
    "                             mpia,\n",
    "                             highlight_authors_in_list)\n",
    "\n",
    "# Sometimes images are really big\n",
    "Image.MAX_IMAGE_PIXELS = 1000000000 "
   ]
  },
  {
   "cell_type": "code",
   "execution_count": 2,
   "id": "22aa9d44",
   "metadata": {
    "execution": {
     "iopub.execute_input": "2025-09-03T04:11:46.599566Z",
     "iopub.status.busy": "2025-09-03T04:11:46.599363Z",
     "iopub.status.idle": "2025-09-03T04:11:46.607204Z",
     "shell.execute_reply": "2025-09-03T04:11:46.606668Z"
    },
    "papermill": {
     "duration": 0.012484,
     "end_time": "2025-09-03T04:11:46.608197",
     "exception": false,
     "start_time": "2025-09-03T04:11:46.595713",
     "status": "completed"
    },
    "tags": []
   },
   "outputs": [],
   "source": [
    "# Some useful definitions.\n",
    "\n",
    "class AffiliationWarning(UserWarning):\n",
    "    pass\n",
    "\n",
    "class AffiliationError(RuntimeError):\n",
    "    pass\n",
    "\n",
    "def validation(source: str):\n",
    "    \"\"\"Raises error paper during parsing of source file\n",
    "    \n",
    "    Allows checks before parsing TeX code.\n",
    "    \n",
    "    Raises AffiliationWarning\n",
    "    \"\"\"\n",
    "    check = mpia.affiliation_verifications(source, verbose=True)\n",
    "    if check is not True:\n",
    "        raise AffiliationError(\"mpia.affiliation_verifications: \" + check)\n",
    "\n",
    "        \n",
    "warnings.simplefilter('always', AffiliationWarning)\n",
    "\n",
    "\n",
    "def get_markdown_qrcode(paper_id: str):\n",
    "    \"\"\" Generate a qrcode to the arxiv page using qrserver.com\n",
    "    \n",
    "    :param paper: Arxiv paper\n",
    "    :returns: markdown text\n",
    "    \"\"\"\n",
    "    url = r\"https://api.qrserver.com/v1/create-qr-code/?size=100x100&data=\"\n",
    "    txt = f\"\"\"<img src={url}\"https://arxiv.org/abs/{paper_id}\">\"\"\"\n",
    "    txt = '<div id=\"qrcode\">' + txt + '</div>'\n",
    "    return txt\n",
    "\n",
    "\n",
    "def clean_non_western_encoded_characters_commands(text: str) -> str:\n",
    "    \"\"\" Remove non-western encoded characters from a string\n",
    "    List may need to grow.\n",
    "    \n",
    "    :param text: the text to clean\n",
    "    :return: the cleaned text\n",
    "    \"\"\"\n",
    "    text = re.sub(r\"(\\\\begin{CJK}{UTF8}{gbsn})(.*?)(\\\\end{CJK})\", r\"\\2\", text)\n",
    "    return text\n",
    "\n",
    "\n",
    "def get_initials(name: str) -> str:\n",
    "    \"\"\" Get the short name, e.g., A.-B. FamName\n",
    "    :param name: full name\n",
    "    :returns: initials\n",
    "    \"\"\"\n",
    "    initials = []\n",
    "    # account for non western names often in ()\n",
    "    if '(' in name:\n",
    "        name = clean_non_western_encoded_characters_commands(name)\n",
    "        suffix = re.findall(r\"\\((.*?)\\)\", name)[0]\n",
    "        name = name.replace(f\"({suffix})\", '')\n",
    "    else:\n",
    "        suffix = ''\n",
    "    split = name.split()\n",
    "    for token in split[:-1]:\n",
    "        if '-' in token:\n",
    "            current = '-'.join([k[0] + '.' for k in token.split('-')])\n",
    "        else:\n",
    "            current = token[0] + '.'\n",
    "        initials.append(current)\n",
    "    initials.append(split[-1].strip())\n",
    "    if suffix:\n",
    "        initials.append(f\"({suffix})\")\n",
    "    return ' '.join(initials)"
   ]
  },
  {
   "cell_type": "markdown",
   "id": "14bd6310",
   "metadata": {
    "papermill": {
     "duration": 0.002815,
     "end_time": "2025-09-03T04:11:46.614007",
     "exception": false,
     "start_time": "2025-09-03T04:11:46.611192",
     "status": "completed"
    },
    "tags": []
   },
   "source": [
    "## get list of arxiv paper candidates\n",
    "\n",
    "We use the MPIA mitarbeiter list webpage from mpia.de to get author names\n",
    "We then get all new papers from Arxiv and match authors"
   ]
  },
  {
   "cell_type": "code",
   "execution_count": 3,
   "id": "7ea813a8",
   "metadata": {
    "execution": {
     "iopub.execute_input": "2025-09-03T04:11:46.620714Z",
     "iopub.status.busy": "2025-09-03T04:11:46.620489Z",
     "iopub.status.idle": "2025-09-03T04:12:06.720857Z",
     "shell.execute_reply": "2025-09-03T04:12:06.720232Z"
    },
    "papermill": {
     "duration": 20.105169,
     "end_time": "2025-09-03T04:12:06.722167",
     "exception": false,
     "start_time": "2025-09-03T04:11:46.616998",
     "status": "completed"
    },
    "tags": []
   },
   "outputs": [],
   "source": [
    "# deal with the author list and edge cases of people that cannot be consistent on their name  \n",
    "\n",
    "def filter_non_scientists(name: str) -> bool:\n",
    "    \"\"\" Loose filter on expected authorships\n",
    "\n",
    "    removing IT, administration, technical staff\n",
    "    :param name: name\n",
    "    :returns: False if name is not a scientist\n",
    "    \"\"\"\n",
    "    remove_list = ['Licht', 'Binroth', 'Witzel', 'Jordan',\n",
    "                   'Zähringer', 'Scheerer', 'Hoffmann', 'Düe',\n",
    "                   'Hellmich', 'Enkler-Scharpegge', 'Witte-Nguy',\n",
    "                   'Dehen', 'Beckmann', 'Jager', 'Jäger'\n",
    "                  ]\n",
    "\n",
    "    for k in remove_list:\n",
    "        if k in name:\n",
    "            return False\n",
    "    return True\n",
    "\n",
    "def add_author_to_list(author_list: list) -> list:\n",
    "    \"\"\" Add author to list if not already in list\n",
    "    \n",
    "    :param author: author name\n",
    "    :param author_list: list of authors\n",
    "    :returns: updated list of authors\n",
    "    \"\"\"\n",
    "    add_list = ['T. Henning']\n",
    "\n",
    "    for author in add_list:\n",
    "        if author not in author_list:\n",
    "            author_list.append(author)\n",
    "    return author_list\n",
    "\n",
    "# get list from MPIA website\n",
    "# filter for non-scientists (mpia.get_mpia_mitarbeiter_list() does some filtering)\n",
    "mpia_authors = [k[1] for k in mpia.get_mpia_mitarbeiter_list() if filter_non_scientists(k[1])]\n",
    "# add some missing author because of inconsistencies in their MPIA name and author name on papers\n",
    "mpia_authors = add_author_to_list(mpia_authors)"
   ]
  },
  {
   "cell_type": "code",
   "execution_count": 4,
   "id": "2645e73a",
   "metadata": {
    "execution": {
     "iopub.execute_input": "2025-09-03T04:12:06.729361Z",
     "iopub.status.busy": "2025-09-03T04:12:06.729152Z",
     "iopub.status.idle": "2025-09-03T04:12:08.419448Z",
     "shell.execute_reply": "2025-09-03T04:12:08.418781Z"
    },
    "papermill": {
     "duration": 1.694996,
     "end_time": "2025-09-03T04:12:08.420486",
     "exception": false,
     "start_time": "2025-09-03T04:12:06.725490",
     "status": "completed"
    },
    "tags": []
   },
   "outputs": [
    {
     "name": "stdout",
     "output_type": "stream",
     "text": [
      "J. Li  ->  J. Li  |  ['J. Li']\n",
      "X. Zhang  ->  X. Zhang  |  ['X. Zhang']\n"
     ]
    },
    {
     "name": "stdout",
     "output_type": "stream",
     "text": [
      "K. El-Badry  ->  K. El-Badry  |  ['K. El-Badry']\n",
      "R. Seeburger  ->  L. R. Seeburger  |  ['R. Seeburger']\n",
      "E. Schinnerer  ->  E. Schinnerer  |  ['E. Schinnerer']\n",
      "A. Hughes  ->  A. Hughes  |  ['A. Hughes']\n",
      "K. Kreckel  ->  K. Kreckel  |  ['K. Kreckel']\n",
      "J. Neumann  ->  J. Neumann  |  ['J. Neumann']\n",
      "O. Krause  ->  O. Krause  |  ['O. Krause']\n",
      "T. Henning  ->  T. Henning  |  ['T. Henning']\n",
      "O. Krause  ->  O. Krause  |  ['O. Krause']\n",
      "F. Xu  ->  F. Xu  |  ['F. Xu']\n",
      "M. Benisty  ->  M. Benisty  |  ['M. Benisty']\n"
     ]
    },
    {
     "name": "stdout",
     "output_type": "stream",
     "text": [
      "L. Kreidberg  ->  L. Kreidberg  |  ['L. Kreidberg']\n",
      "Arxiv has 148 new papers today\n",
      "          9 with possible author matches\n"
     ]
    }
   ],
   "source": [
    "new_papers = get_new_papers()\n",
    "# add manual references\n",
    "add_paper_refs = []\n",
    "new_papers.extend([get_paper_from_identifier(k) for k in add_paper_refs])\n",
    "\n",
    "def robust_call(fn, value, *args, **kwargs):\n",
    "    try:\n",
    "        return fn(value, *args, **kwargs)\n",
    "    except Exception:\n",
    "        return value\n",
    "\n",
    "candidates = []\n",
    "for paperk in new_papers:\n",
    "    # Check author list with their initials\n",
    "    normed_author_list = [robust_call(mpia.get_initials, k) for k in paperk['authors']]\n",
    "    hl_authors = highlight_authors_in_list(normed_author_list, mpia_authors, verbose=True)\n",
    "    matches = [(hl, orig) for hl, orig in zip(hl_authors, paperk['authors']) if 'mark' in hl]\n",
    "    paperk['authors'] = hl_authors\n",
    "    if matches:\n",
    "        # only select paper if an author matched our list\n",
    "        candidates.append(paperk)\n",
    "print(\"\"\"Arxiv has {0:,d} new papers today\"\"\".format(len(new_papers)))        \n",
    "print(\"\"\"          {0:,d} with possible author matches\"\"\".format(len(candidates)))"
   ]
  },
  {
   "cell_type": "markdown",
   "id": "3543b34a",
   "metadata": {
    "papermill": {
     "duration": 0.003142,
     "end_time": "2025-09-03T04:12:08.427165",
     "exception": false,
     "start_time": "2025-09-03T04:12:08.424023",
     "status": "completed"
    },
    "tags": []
   },
   "source": [
    "# Parse sources and generate relevant outputs\n",
    "\n",
    "From the candidates, we do the following steps:\n",
    "* get their tarball from ArXiv (and extract data)\n",
    "* find the main .tex file: find one with \\documentclass{...} (sometimes it's non trivial)\n",
    "* Check affiliations with :func:`validation`, which uses :func:`mpia.affiliation_verifications`\n",
    "* If passing the affiliations: we parse the .tex source\n",
    "   * inject sub-documents into the main (flatten the main document)\n",
    "   * parse structure, extract information (title, abstract, authors, figures...)\n",
    "   * handles `\\graphicspath` if provided\n",
    "* Generate the .md document."
   ]
  },
  {
   "cell_type": "code",
   "execution_count": 5,
   "id": "9576b79e",
   "metadata": {
    "execution": {
     "iopub.execute_input": "2025-09-03T04:12:08.434214Z",
     "iopub.status.busy": "2025-09-03T04:12:08.433979Z",
     "iopub.status.idle": "2025-09-03T04:13:47.894641Z",
     "shell.execute_reply": "2025-09-03T04:13:47.893738Z"
    },
    "papermill": {
     "duration": 99.465836,
     "end_time": "2025-09-03T04:13:47.896083",
     "exception": false,
     "start_time": "2025-09-03T04:12:08.430247",
     "status": "completed"
    },
    "scrolled": false,
    "tags": []
   },
   "outputs": [
    {
     "data": {
      "application/vnd.jupyter.widget-view+json": {
       "model_id": "be22290dbcd74b6d829e28ae2ad7e4c5",
       "version_major": 2,
       "version_minor": 0
      },
      "text/plain": [
       "  0%|          | 0/9 [00:00<?, ?it/s]"
      ]
     },
     "metadata": {},
     "output_type": "display_data"
    },
    {
     "name": "stdout",
     "output_type": "stream",
     "text": [
      "Retrieving document from  https://arxiv.org/e-print/2509.00410\n"
     ]
    },
    {
     "name": "stdout",
     "output_type": "stream",
     "text": [
      "extracting tarball to tmp_2509.00410..."
     ]
    },
    {
     "name": "stdout",
     "output_type": "stream",
     "text": [
      " done.\n",
      "Retrieving document from  https://arxiv.org/e-print/2509.01069\n"
     ]
    },
    {
     "name": "stdout",
     "output_type": "stream",
     "text": [
      "extracting tarball to tmp_2509.01069..."
     ]
    },
    {
     "name": "stdout",
     "output_type": "stream",
     "text": [
      " done.\n",
      "Retrieving document from  https://arxiv.org/e-print/2509.01545\n"
     ]
    },
    {
     "name": "stdout",
     "output_type": "stream",
     "text": [
      "extracting tarball to tmp_2509.01545..."
     ]
    },
    {
     "name": "stdout",
     "output_type": "stream",
     "text": [
      " done.\n"
     ]
    },
    {
     "name": "stderr",
     "output_type": "stream",
     "text": [
      "/tmp/ipykernel_3377/2822249172.py:52: LatexWarning: 2509.01545 did not run properly\n",
      "expected string or bytes-like object\n",
      "  warnings.warn(latex.LatexWarning(f\"{paper_id:s} did not run properly\\n\" +\n"
     ]
    },
    {
     "name": "stdout",
     "output_type": "stream",
     "text": [
      "Retrieving document from  https://arxiv.org/e-print/2509.01668\n"
     ]
    },
    {
     "name": "stdout",
     "output_type": "stream",
     "text": [
      "extracting tarball to tmp_2509.01668..."
     ]
    },
    {
     "name": "stdout",
     "output_type": "stream",
     "text": [
      " done.\n"
     ]
    },
    {
     "name": "stderr",
     "output_type": "stream",
     "text": [
      "/opt/hostedtoolcache/Python/3.9.23/x64/lib/python3.9/site-packages/IPython/core/interactiveshell.py:3550: LatexWarning: Multiple tex files.\n",
      "\n",
      "  exec(code_obj, self.user_global_ns, self.user_ns)\n",
      "/opt/hostedtoolcache/Python/3.9.23/x64/lib/python3.9/site-packages/IPython/core/interactiveshell.py:3550: LatexWarning: Found documentclass in tmp_2509.01668/main.tex\n",
      "\n",
      "  exec(code_obj, self.user_global_ns, self.user_ns)\n",
      "/opt/hostedtoolcache/Python/3.9.23/x64/lib/python3.9/site-packages/arxiv_on_deck_2/latex.py:414: LatexWarning: Latex injecting: 'authors' from 'tmp_2509.01668/authors.tex'\n",
      "  warnings.warn(LatexWarning(f\"Latex injecting: '{ext}' from '{subsource}'\"))\n"
     ]
    },
    {
     "name": "stdout",
     "output_type": "stream",
     "text": [
      "E. Schinnerer  ->  E. Schinnerer  |  ['E. Schinnerer']\n",
      "A. Hughes  ->  A. Hughes  |  ['A. Hughes']\n",
      "K. Kreckel  ->  K. Kreckel  |  ['K. Kreckel']\n",
      "J. Neumann  ->  J. Neumann  |  ['J. Neumann']\n"
     ]
    },
    {
     "name": "stdout",
     "output_type": "stream",
     "text": [
      "Found 127 bibliographic references in tmp_2509.01668/main.bbl.\n",
      "Retrieving document from  https://arxiv.org/e-print/2509.01727\n"
     ]
    },
    {
     "name": "stdout",
     "output_type": "stream",
     "text": [
      "extracting tarball to tmp_2509.01727..."
     ]
    },
    {
     "name": "stdout",
     "output_type": "stream",
     "text": [
      " done.\n",
      "Retrieving document from  https://arxiv.org/e-print/2509.01800\n"
     ]
    },
    {
     "name": "stdout",
     "output_type": "stream",
     "text": [
      "extracting tarball to tmp_2509.01800..."
     ]
    },
    {
     "name": "stdout",
     "output_type": "stream",
     "text": [
      " done.\n"
     ]
    },
    {
     "name": "stdout",
     "output_type": "stream",
     "text": [
      "Found 76 bibliographic references in tmp_2509.01800/article.bbl.\n",
      "Retrieving document from  https://arxiv.org/e-print/2509.01904\n"
     ]
    },
    {
     "name": "stderr",
     "output_type": "stream",
     "text": [
      "/opt/hostedtoolcache/Python/3.9.23/x64/lib/python3.9/site-packages/arxiv_on_deck_2/latex_bib.py:132: UserWarning: Error processing bibitem\n",
      " item = \\bibitem{Glenn25}J.~{Glenn}, ``{PRIMA mission concept},'' {\\em JATIS} {\\bf 11}(3)  (2025).\n",
      " regex = \n",
      "        \\\\bibitem(\\[[^\\[\\]]*?\\]){(?P<bibkey>[a-zA-Z0-9\\-\\+\\.\\S]+?)}(?P<authors>|([\\D]*?))(?P<year>[12][0-9]{3})(?P<rest>.*)\n",
      "        \n",
      "  warnings.warn(str(e))\n",
      "/opt/hostedtoolcache/Python/3.9.23/x64/lib/python3.9/site-packages/arxiv_on_deck_2/latex_bib.py:132: UserWarning: Error processing bibitem\n",
      " item = \\bibitem{Fixsen98}D.~J. {Fixsen}, E.~{Dwek}, J.~C. {Mather}, {\\em et~al.}, ``{The Spectrum of the Extragalactic Far-Infrared Background from the COBE FIRAS Observations},'' {\\em \\apj} {\\bf 508}, 123--128  (1998).\n",
      " regex = \n",
      "        \\\\bibitem(\\[[^\\[\\]]*?\\]){(?P<bibkey>[a-zA-Z0-9\\-\\+\\.\\S]+?)}(?P<authors>|([\\D]*?))(?P<year>[12][0-9]{3})(?P<rest>.*)\n",
      "        \n",
      "  warnings.warn(str(e))\n",
      "/opt/hostedtoolcache/Python/3.9.23/x64/lib/python3.9/site-packages/arxiv_on_deck_2/latex_bib.py:132: UserWarning: Error processing bibitem\n",
      " item = \\bibitem{Hill18}R.~{Hill}, K.~W. {Masui}, and D.~{Scott}, ``{The Spectrum of the Universe},'' {\\em Applied Spectroscopy} {\\bf 72}, 663--688  (2018).\n",
      " regex = \n",
      "        \\\\bibitem(\\[[^\\[\\]]*?\\]){(?P<bibkey>[a-zA-Z0-9\\-\\+\\.\\S]+?)}(?P<authors>|([\\D]*?))(?P<year>[12][0-9]{3})(?P<rest>.*)\n",
      "        \n",
      "  warnings.warn(str(e))\n",
      "/opt/hostedtoolcache/Python/3.9.23/x64/lib/python3.9/site-packages/arxiv_on_deck_2/latex_bib.py:132: UserWarning: Error processing bibitem\n",
      " item = \\bibitem{Ciesla25}L.~{Ciesla}, ``{PRIMA: PRIMAger, a far-infrared hyperspectral and polarimetric instrument},'' {\\em JATIS} {\\bf 11}(031625)  (2025).\n",
      " regex = \n",
      "        \\\\bibitem(\\[[^\\[\\]]*?\\]){(?P<bibkey>[a-zA-Z0-9\\-\\+\\.\\S]+?)}(?P<authors>|([\\D]*?))(?P<year>[12][0-9]{3})(?P<rest>.*)\n",
      "        \n",
      "  warnings.warn(str(e))\n",
      "/opt/hostedtoolcache/Python/3.9.23/x64/lib/python3.9/site-packages/arxiv_on_deck_2/latex_bib.py:132: UserWarning: Error processing bibitem\n",
      " item = \\bibitem{Bradford25}M.~{Bradford}, ``{},'' {\\em JATIS} {\\bf TBD}(TBD)  (2025).\n",
      " regex = \n",
      "        \\\\bibitem(\\[[^\\[\\]]*?\\]){(?P<bibkey>[a-zA-Z0-9\\-\\+\\.\\S]+?)}(?P<authors>|([\\D]*?))(?P<year>[12][0-9]{3})(?P<rest>.*)\n",
      "        \n",
      "  warnings.warn(str(e))\n",
      "/opt/hostedtoolcache/Python/3.9.23/x64/lib/python3.9/site-packages/arxiv_on_deck_2/latex_bib.py:132: UserWarning: Error processing bibitem\n",
      " item = \\bibitem{Kessler96}M.~F. {Kessler}, J.~A. {Steinz}, M.~E. {Anderegg}, {\\em et~al.}, ``{The Infrared Space Observatory (ISO) mission.},'' {\\em \\aap} {\\bf 315}, L27--L31  (1996).\n",
      " regex = \n",
      "        \\\\bibitem(\\[[^\\[\\]]*?\\]){(?P<bibkey>[a-zA-Z0-9\\-\\+\\.\\S]+?)}(?P<authors>|([\\D]*?))(?P<year>[12][0-9]{3})(?P<rest>.*)\n",
      "        \n",
      "  warnings.warn(str(e))\n",
      "/opt/hostedtoolcache/Python/3.9.23/x64/lib/python3.9/site-packages/arxiv_on_deck_2/latex_bib.py:132: UserWarning: Error processing bibitem\n",
      " item = \\bibitem{Pilbratt10}G.~L. {Pilbratt}, J.~R. {Riedinger}, T.~{Passvogel}, {\\em et~al.}, ``{Herschel Space Observatory. An ESA facility for far-infrared and submillimetre astronomy},'' {\\em \\aap} {\\bf 518}, L1  (2010).\n",
      " regex = \n",
      "        \\\\bibitem(\\[[^\\[\\]]*?\\]){(?P<bibkey>[a-zA-Z0-9\\-\\+\\.\\S]+?)}(?P<authors>|([\\D]*?))(?P<year>[12][0-9]{3})(?P<rest>.*)\n",
      "        \n",
      "  warnings.warn(str(e))\n",
      "/opt/hostedtoolcache/Python/3.9.23/x64/lib/python3.9/site-packages/arxiv_on_deck_2/latex_bib.py:132: UserWarning: Error processing bibitem\n",
      " item = \\bibitem{Becklin07}E.~E. {Becklin}, A.~G.~G.~M. {Tielens}, R.~D. {Gehrz}, {\\em et~al.}, ``{Stratospheric Observatory for Infrared Astronomy (SOFIA)},'' in {\\em Infrared Spaceborne Remote Sensing and Instrumentation XV},  M.~{Strojnik-Scholl}, Ed., {\\em Society of Photo-Optical Instrumentation Engineers (SPIE) Conference Series} {\\bf 6678}, 66780A  (2007).\n",
      " regex = \n",
      "        \\\\bibitem(\\[[^\\[\\]]*?\\]){(?P<bibkey>[a-zA-Z0-9\\-\\+\\.\\S]+?)}(?P<authors>|([\\D]*?))(?P<year>[12][0-9]{3})(?P<rest>.*)\n",
      "        \n",
      "  warnings.warn(str(e))\n",
      "/opt/hostedtoolcache/Python/3.9.23/x64/lib/python3.9/site-packages/arxiv_on_deck_2/latex_bib.py:132: UserWarning: Error processing bibitem\n",
      " item = \\bibitem{Werner04}M.~W. {Werner}, T.~L. {Roellig}, F.~J. {Low}, {\\em et~al.}, ``{The Spitzer Space Telescope Mission},'' {\\em \\apjs} {\\bf 154}, 1--9  (2004).\n",
      " regex = \n",
      "        \\\\bibitem(\\[[^\\[\\]]*?\\]){(?P<bibkey>[a-zA-Z0-9\\-\\+\\.\\S]+?)}(?P<authors>|([\\D]*?))(?P<year>[12][0-9]{3})(?P<rest>.*)\n",
      "        \n",
      "  warnings.warn(str(e))\n",
      "/opt/hostedtoolcache/Python/3.9.23/x64/lib/python3.9/site-packages/arxiv_on_deck_2/latex_bib.py:132: UserWarning: Error processing bibitem\n",
      " item = \\bibitem{Gardner06}J.~P. {Gardner}, J.~C. {Mather}, M.~{Clampin}, {\\em et~al.}, ``{The James Webb Space Telescope},'' {\\em \\ssr} {\\bf 123}, 485--606  (2006).\n",
      " regex = \n",
      "        \\\\bibitem(\\[[^\\[\\]]*?\\]){(?P<bibkey>[a-zA-Z0-9\\-\\+\\.\\S]+?)}(?P<authors>|([\\D]*?))(?P<year>[12][0-9]{3})(?P<rest>.*)\n",
      "        \n",
      "  warnings.warn(str(e))\n",
      "/opt/hostedtoolcache/Python/3.9.23/x64/lib/python3.9/site-packages/arxiv_on_deck_2/latex_bib.py:132: UserWarning: Error processing bibitem\n",
      " item = \\bibitem{Clegg96}P.~E. {Clegg}, P.~A.~R. {Ade}, C.~{Armand}, {\\em et~al.}, ``{The ISO Long-Wavelength Spectrometer.},'' {\\em \\aap} {\\bf 315}, L38--L42  (1996).\n",
      " regex = \n",
      "        \\\\bibitem(\\[[^\\[\\]]*?\\]){(?P<bibkey>[a-zA-Z0-9\\-\\+\\.\\S]+?)}(?P<authors>|([\\D]*?))(?P<year>[12][0-9]{3})(?P<rest>.*)\n",
      "        \n",
      "  warnings.warn(str(e))\n",
      "/opt/hostedtoolcache/Python/3.9.23/x64/lib/python3.9/site-packages/arxiv_on_deck_2/latex_bib.py:132: UserWarning: Error processing bibitem\n",
      " item = \\bibitem{Swinyard96}B.~M. {Swinyard}, P.~E. {Clegg}, P.~A.~R. {Ade}, {\\em et~al.}, ``{Calibration and performance of the ISO Long-Wavelength Spectrometer.},'' {\\em \\aap} {\\bf 315}, L43--L48  (1996).\n",
      " regex = \n",
      "        \\\\bibitem(\\[[^\\[\\]]*?\\]){(?P<bibkey>[a-zA-Z0-9\\-\\+\\.\\S]+?)}(?P<authors>|([\\D]*?))(?P<year>[12][0-9]{3})(?P<rest>.*)\n",
      "        \n",
      "  warnings.warn(str(e))\n",
      "/opt/hostedtoolcache/Python/3.9.23/x64/lib/python3.9/site-packages/arxiv_on_deck_2/latex_bib.py:132: UserWarning: Error processing bibitem\n",
      " item = \\bibitem{Poglitsch10}A.~{Poglitsch}, C.~{Waelkens}, N.~{Geis}, {\\em et~al.}, ``{The Photodetector Array Camera and Spectrometer (PACS) on the Herschel Space Observatory},'' {\\em \\aap} {\\bf 518}, L2  (2010).\n",
      " regex = \n",
      "        \\\\bibitem(\\[[^\\[\\]]*?\\]){(?P<bibkey>[a-zA-Z0-9\\-\\+\\.\\S]+?)}(?P<authors>|([\\D]*?))(?P<year>[12][0-9]{3})(?P<rest>.*)\n",
      "        \n",
      "  warnings.warn(str(e))\n",
      "/opt/hostedtoolcache/Python/3.9.23/x64/lib/python3.9/site-packages/arxiv_on_deck_2/latex_bib.py:132: UserWarning: Error processing bibitem\n",
      " item = \\bibitem{Heyminck12}S.~{Heyminck}, U.~U. {Graf}, R.~{G{ü}sten}, {\\em et~al.}, ``{GREAT: the SOFIA high-frequency heterodyne instrument},'' {\\em \\aap} {\\bf 542}, L1  (2012).\n",
      " regex = \n",
      "        \\\\bibitem(\\[[^\\[\\]]*?\\]){(?P<bibkey>[a-zA-Z0-9\\-\\+\\.\\S]+?)}(?P<authors>|([\\D]*?))(?P<year>[12][0-9]{3})(?P<rest>.*)\n",
      "        \n",
      "  warnings.warn(str(e))\n",
      "/opt/hostedtoolcache/Python/3.9.23/x64/lib/python3.9/site-packages/arxiv_on_deck_2/latex_bib.py:132: UserWarning: Error processing bibitem\n",
      " item = \\bibitem{Moullet23}A.~{Moullet}, T.~{Kataria}, D.~{Lis}, {\\em et~al.}, ``{PRIMA General Observer Science Book},'' {\\em arXiv e-prints} , arXiv:2310.20572  (2023).\n",
      " regex = \n",
      "        \\\\bibitem(\\[[^\\[\\]]*?\\]){(?P<bibkey>[a-zA-Z0-9\\-\\+\\.\\S]+?)}(?P<authors>|([\\D]*?))(?P<year>[12][0-9]{3})(?P<rest>.*)\n",
      "        \n",
      "  warnings.warn(str(e))\n",
      "/opt/hostedtoolcache/Python/3.9.23/x64/lib/python3.9/site-packages/arxiv_on_deck_2/latex_bib.py:132: UserWarning: Error processing bibitem\n",
      " item = \\bibitem{Mordasini16}C.~{Mordasini}, R.~{van Boekel}, P.~{Molli{è}re}, {\\em et~al.}, ``{The Imprint of Exoplanet Formation History on Observable Present-day Spectra of Hot Jupiters},'' {\\em \\apj} {\\bf 832}, 41  (2016).\n",
      " regex = \n",
      "        \\\\bibitem(\\[[^\\[\\]]*?\\]){(?P<bibkey>[a-zA-Z0-9\\-\\+\\.\\S]+?)}(?P<authors>|([\\D]*?))(?P<year>[12][0-9]{3})(?P<rest>.*)\n",
      "        \n",
      "  warnings.warn(str(e))\n",
      "/opt/hostedtoolcache/Python/3.9.23/x64/lib/python3.9/site-packages/arxiv_on_deck_2/latex_bib.py:132: UserWarning: Error processing bibitem\n",
      " item = \\bibitem{Oberg11}K.~I. {{Ö}berg}, R.~{Murray-Clay}, and E.~A. {Bergin}, ``{The Effects of Snowlines on C/O in Planetary Atmospheres},'' {\\em \\apjl} {\\bf 743}, L16  (2011).\n",
      " regex = \n",
      "        \\\\bibitem(\\[[^\\[\\]]*?\\]){(?P<bibkey>[a-zA-Z0-9\\-\\+\\.\\S]+?)}(?P<authors>|([\\D]*?))(?P<year>[12][0-9]{3})(?P<rest>.*)\n",
      "        \n",
      "  warnings.warn(str(e))\n",
      "/opt/hostedtoolcache/Python/3.9.23/x64/lib/python3.9/site-packages/arxiv_on_deck_2/latex_bib.py:132: UserWarning: Error processing bibitem\n",
      " item = \\bibitem{Madhusudhan12}N.~{Madhusudhan}, ``{C/O Ratio as a Dimension for Characterizing Exoplanetary Atmospheres},'' {\\em \\apj} {\\bf 758}, 36  (2012).\n",
      " regex = \n",
      "        \\\\bibitem(\\[[^\\[\\]]*?\\]){(?P<bibkey>[a-zA-Z0-9\\-\\+\\.\\S]+?)}(?P<authors>|([\\D]*?))(?P<year>[12][0-9]{3})(?P<rest>.*)\n",
      "        \n",
      "  warnings.warn(str(e))\n",
      "/opt/hostedtoolcache/Python/3.9.23/x64/lib/python3.9/site-packages/arxiv_on_deck_2/latex_bib.py:132: UserWarning: Error processing bibitem\n",
      " item = \\bibitem{Eistrup18}C.~{Eistrup}, C.~{Walsh}, and E.~F. {van Dishoeck}, ``{Molecular abundances and C/O ratios in chemically evolving planet-forming disk midplanes},'' {\\em \\aap} {\\bf 613}, A14  (2018).\n",
      " regex = \n",
      "        \\\\bibitem(\\[[^\\[\\]]*?\\]){(?P<bibkey>[a-zA-Z0-9\\-\\+\\.\\S]+?)}(?P<authors>|([\\D]*?))(?P<year>[12][0-9]{3})(?P<rest>.*)\n",
      "        \n",
      "  warnings.warn(str(e))\n",
      "/opt/hostedtoolcache/Python/3.9.23/x64/lib/python3.9/site-packages/arxiv_on_deck_2/latex_bib.py:132: UserWarning: Error processing bibitem\n",
      " item = \\bibitem{Bean18}J.~L. {Bean}, K.~B. {Stevenson}, N.~M. {Batalha}, {\\em et~al.}, ``{The Transiting Exoplanet Community Early Release Science Program for JWST},'' {\\em \\pasp} {\\bf 130}, 114402  (2018).\n",
      " regex = \n",
      "        \\\\bibitem(\\[[^\\[\\]]*?\\]){(?P<bibkey>[a-zA-Z0-9\\-\\+\\.\\S]+?)}(?P<authors>|([\\D]*?))(?P<year>[12][0-9]{3})(?P<rest>.*)\n",
      "        \n",
      "  warnings.warn(str(e))\n",
      "/opt/hostedtoolcache/Python/3.9.23/x64/lib/python3.9/site-packages/arxiv_on_deck_2/latex_bib.py:132: UserWarning: Error processing bibitem\n",
      " item = \\bibitem{Constantinou23}S.~{Constantinou}, N.~{Madhusudhan}, and S.~{Gandhi}, ``{Early Insights for Atmospheric Retrievals of Exoplanets Using JWST Transit Spectroscopy},'' {\\em \\apjl} {\\bf 943}, L10  (2023).\n",
      " regex = \n",
      "        \\\\bibitem(\\[[^\\[\\]]*?\\]){(?P<bibkey>[a-zA-Z0-9\\-\\+\\.\\S]+?)}(?P<authors>|([\\D]*?))(?P<year>[12][0-9]{3})(?P<rest>.*)\n",
      "        \n",
      "  warnings.warn(str(e))\n",
      "/opt/hostedtoolcache/Python/3.9.23/x64/lib/python3.9/site-packages/arxiv_on_deck_2/latex_bib.py:132: UserWarning: Error processing bibitem\n",
      " item = \\bibitem{Ros13}K.~{Ros} and A.~{Johansen}, ``{Ice condensation as a planet formation mechanism},'' {\\em \\aap} {\\bf 552}, A137  (2013).\n",
      " regex = \n",
      "        \\\\bibitem(\\[[^\\[\\]]*?\\]){(?P<bibkey>[a-zA-Z0-9\\-\\+\\.\\S]+?)}(?P<authors>|([\\D]*?))(?P<year>[12][0-9]{3})(?P<rest>.*)\n",
      "        \n",
      "  warnings.warn(str(e))\n",
      "/opt/hostedtoolcache/Python/3.9.23/x64/lib/python3.9/site-packages/arxiv_on_deck_2/latex_bib.py:132: UserWarning: Error processing bibitem\n",
      " item = \\bibitem{Lambrechts19}M.~{Lambrechts}, A.~{Morbidelli}, S.~A. {Jacobson}, {\\em et~al.}, ``{Formation of planetary systems by pebble accretion and migration. How the radial pebble flux determines a terrestrial-planet or super-Earth growth mode},'' {\\em \\aap} {\\bf 627}, A83  (2019).\n",
      " regex = \n",
      "        \\\\bibitem(\\[[^\\[\\]]*?\\]){(?P<bibkey>[a-zA-Z0-9\\-\\+\\.\\S]+?)}(?P<authors>|([\\D]*?))(?P<year>[12][0-9]{3})(?P<rest>.*)\n",
      "        \n",
      "  warnings.warn(str(e))\n",
      "/opt/hostedtoolcache/Python/3.9.23/x64/lib/python3.9/site-packages/arxiv_on_deck_2/latex_bib.py:132: UserWarning: Error processing bibitem\n",
      " item = \\bibitem{Pinilla20}P.~{Pinilla}, I.~{Pascucci}, and S.~{Marino}, ``{Hints on the origins of particle traps in protoplanetary disks given by the M$_{dust}$ - M$_{{\\ensuremath{\\star}}}$ relation},'' {\\em \\aap} {\\bf 635}, A105  (2020).\n",
      " regex = \n",
      "        \\\\bibitem(\\[[^\\[\\]]*?\\]){(?P<bibkey>[a-zA-Z0-9\\-\\+\\.\\S]+?)}(?P<authors>|([\\D]*?))(?P<year>[12][0-9]{3})(?P<rest>.*)\n",
      "        \n",
      "  warnings.warn(str(e))\n",
      "/opt/hostedtoolcache/Python/3.9.23/x64/lib/python3.9/site-packages/arxiv_on_deck_2/latex_bib.py:132: UserWarning: Error processing bibitem\n",
      " item = \\bibitem{Pinilla12}P.~{Pinilla}, M.~{Benisty}, and T.~{Birnstiel}, ``{Ring shaped dust accumulation in transition disks},'' {\\em \\aap} {\\bf 545}, A81  (2012).\n",
      " regex = \n",
      "        \\\\bibitem(\\[[^\\[\\]]*?\\]){(?P<bibkey>[a-zA-Z0-9\\-\\+\\.\\S]+?)}(?P<authors>|([\\D]*?))(?P<year>[12][0-9]{3})(?P<rest>.*)\n",
      "        \n",
      "  warnings.warn(str(e))\n",
      "/opt/hostedtoolcache/Python/3.9.23/x64/lib/python3.9/site-packages/arxiv_on_deck_2/latex_bib.py:132: UserWarning: Error processing bibitem\n",
      " item = \\bibitem{Appelgren25}J.~{Appelgren}, A.~{Johansen}, M.~{Lambrechts}, {\\em et~al.}, ``{The evolution of the flux-size relationship in protoplanetary discs by viscous evolution and radial pebble drift},'' {\\em arXiv e-prints} , arXiv:2501.04411  (2025).\n",
      " regex = \n",
      "        \\\\bibitem(\\[[^\\[\\]]*?\\]){(?P<bibkey>[a-zA-Z0-9\\-\\+\\.\\S]+?)}(?P<authors>|([\\D]*?))(?P<year>[12][0-9]{3})(?P<rest>.*)\n",
      "        \n",
      "  warnings.warn(str(e))\n",
      "/opt/hostedtoolcache/Python/3.9.23/x64/lib/python3.9/site-packages/arxiv_on_deck_2/latex_bib.py:132: UserWarning: Error processing bibitem\n",
      " item = \\bibitem{Banzatti23}A.~{Banzatti}, K.~M. {Pontoppidan}, J.~S. {Carr}, {\\em et~al.}, ``{JWST Reveals Excess Cool Water near the Snow Line in Compact Disks, Consistent with Pebble Drift},'' {\\em \\apjl} {\\bf 957}, L22  (2023).\n",
      " regex = \n",
      "        \\\\bibitem(\\[[^\\[\\]]*?\\]){(?P<bibkey>[a-zA-Z0-9\\-\\+\\.\\S]+?)}(?P<authors>|([\\D]*?))(?P<year>[12][0-9]{3})(?P<rest>.*)\n",
      "        \n",
      "  warnings.warn(str(e))\n",
      "/opt/hostedtoolcache/Python/3.9.23/x64/lib/python3.9/site-packages/arxiv_on_deck_2/latex_bib.py:132: UserWarning: Error processing bibitem\n",
      " item = \\bibitem{Romero-Mirza24}C.~E. {Romero-Mirza}, A.~{Banzatti}, K.~I. {{Ö}berg}, {\\em et~al.}, ``{Retrieval of Thermally Resolved Water Vapor Distributions in Disks Observed with JWST-MIRI},'' {\\em \\apj} {\\bf 975}, 78  (2024).\n",
      " regex = \n",
      "        \\\\bibitem(\\[[^\\[\\]]*?\\]){(?P<bibkey>[a-zA-Z0-9\\-\\+\\.\\S]+?)}(?P<authors>|([\\D]*?))(?P<year>[12][0-9]{3})(?P<rest>.*)\n",
      "        \n",
      "  warnings.warn(str(e))\n",
      "/opt/hostedtoolcache/Python/3.9.23/x64/lib/python3.9/site-packages/arxiv_on_deck_2/latex_bib.py:132: UserWarning: Error processing bibitem\n",
      " item = \\bibitem{Colmenares24}M.~J. {Colmenares}, E.~A. {Bergin}, C.~{Salyk}, {\\em et~al.}, ``{JWST/MIRI Detection of a Carbon-rich Chemistry in the Disk of a Solar Nebula Analog},'' {\\em \\apj} {\\bf 977}, 173  (2024).\n",
      " regex = \n",
      "        \\\\bibitem(\\[[^\\[\\]]*?\\]){(?P<bibkey>[a-zA-Z0-9\\-\\+\\.\\S]+?)}(?P<authors>|([\\D]*?))(?P<year>[12][0-9]{3})(?P<rest>.*)\n",
      "        \n",
      "  warnings.warn(str(e))\n",
      "/opt/hostedtoolcache/Python/3.9.23/x64/lib/python3.9/site-packages/arxiv_on_deck_2/latex_bib.py:132: UserWarning: Error processing bibitem\n",
      " item = \\bibitem{Kanwar24}J.~{Kanwar}, I.~{Kamp}, H.~{Jang}, {\\em et~al.}, ``{MINDS. Hydrocarbons detected by JWST/MIRI in the inner disk of Sz28 consistent with a high C/O gas-phase chemistry},'' {\\em \\aap} {\\bf 689}, A231  (2024).\n",
      " regex = \n",
      "        \\\\bibitem(\\[[^\\[\\]]*?\\]){(?P<bibkey>[a-zA-Z0-9\\-\\+\\.\\S]+?)}(?P<authors>|([\\D]*?))(?P<year>[12][0-9]{3})(?P<rest>.*)\n",
      "        \n",
      "  warnings.warn(str(e))\n",
      "/opt/hostedtoolcache/Python/3.9.23/x64/lib/python3.9/site-packages/arxiv_on_deck_2/latex_bib.py:132: UserWarning: Error processing bibitem\n",
      " item = \\bibitem{Long25}F.~{Long}, I.~{Pascucci}, A.~{Houge}, {\\em et~al.}, ``{The First JWST View of a 30-Myr-old Protoplanetary Disk Reveals a Late-stage Carbon-rich Phase},'' {\\em \\apjl} {\\bf 978}, L30  (2025).\n",
      " regex = \n",
      "        \\\\bibitem(\\[[^\\[\\]]*?\\]){(?P<bibkey>[a-zA-Z0-9\\-\\+\\.\\S]+?)}(?P<authors>|([\\D]*?))(?P<year>[12][0-9]{3})(?P<rest>.*)\n",
      "        \n",
      "  warnings.warn(str(e))\n",
      "/opt/hostedtoolcache/Python/3.9.23/x64/lib/python3.9/site-packages/arxiv_on_deck_2/latex_bib.py:132: UserWarning: Error processing bibitem\n",
      " item = \\bibitem{Houge25}A.~{Houge}, S.~{Krijt}, A.~{Banzatti}, {\\em et~al.}, ``{Smuggling unnoticed: Towards a 2D view of water and dust delivery to the inner regions of protoplanetary discs},'' {\\em \\mnras}   (2025).\n",
      " regex = \n",
      "        \\\\bibitem(\\[[^\\[\\]]*?\\]){(?P<bibkey>[a-zA-Z0-9\\-\\+\\.\\S]+?)}(?P<authors>|([\\D]*?))(?P<year>[12][0-9]{3})(?P<rest>.*)\n",
      "        \n",
      "  warnings.warn(str(e))\n",
      "/opt/hostedtoolcache/Python/3.9.23/x64/lib/python3.9/site-packages/arxiv_on_deck_2/latex_bib.py:132: UserWarning: Error processing bibitem\n",
      " item = \\bibitem{Bruderer12}S.~{Bruderer}, E.~F. {van Dishoeck}, S.~D. {Doty}, {\\em et~al.}, ``{The warm gas atmosphere of the HD 100546 disk seen by Herschel. Evidence of a gas-rich, carbon-poor atmosphere?},'' {\\em \\aap} {\\bf 541}, A91  (2012).\n",
      " regex = \n",
      "        \\\\bibitem(\\[[^\\[\\]]*?\\]){(?P<bibkey>[a-zA-Z0-9\\-\\+\\.\\S]+?)}(?P<authors>|([\\D]*?))(?P<year>[12][0-9]{3})(?P<rest>.*)\n",
      "        \n",
      "  warnings.warn(str(e))\n",
      "/opt/hostedtoolcache/Python/3.9.23/x64/lib/python3.9/site-packages/arxiv_on_deck_2/latex_bib.py:132: UserWarning: Error processing bibitem\n",
      " item = \\bibitem{Bergin19}E.~{Bergin}, K.~{Pontoppidan}, C.~{Bradford}, {\\em et~al.}, ``{The Disk Gas Mass and the Far-IR Revolution},'' {\\em \\baas} {\\bf 51}, 222  (2019).\n",
      " regex = \n",
      "        \\\\bibitem(\\[[^\\[\\]]*?\\]){(?P<bibkey>[a-zA-Z0-9\\-\\+\\.\\S]+?)}(?P<authors>|([\\D]*?))(?P<year>[12][0-9]{3})(?P<rest>.*)\n",
      "        \n",
      "  warnings.warn(str(e))\n",
      "/opt/hostedtoolcache/Python/3.9.23/x64/lib/python3.9/site-packages/arxiv_on_deck_2/latex_bib.py:132: UserWarning: Error processing bibitem\n",
      " item = \\bibitem{Linsky98}J.~L. {Linsky}, ``{Deuterium Abundance in the Local ISM and Possible Spatial Variations},'' {\\em \\ssr} {\\bf 84}, 285--296  (1998).\n",
      " regex = \n",
      "        \\\\bibitem(\\[[^\\[\\]]*?\\]){(?P<bibkey>[a-zA-Z0-9\\-\\+\\.\\S]+?)}(?P<authors>|([\\D]*?))(?P<year>[12][0-9]{3})(?P<rest>.*)\n",
      "        \n",
      "  warnings.warn(str(e))\n",
      "/opt/hostedtoolcache/Python/3.9.23/x64/lib/python3.9/site-packages/arxiv_on_deck_2/latex_bib.py:132: UserWarning: Error processing bibitem\n",
      " item = \\bibitem{Reines2015}A.~E. {Reines} and M.~{Volonteri}, ``{Relations between Central Black Hole Mass and Total Galaxy Stellar Mass in the Local Universe},'' {\\em ApJ} {\\bf 813}, 82  (2015).\n",
      " regex = \n",
      "        \\\\bibitem(\\[[^\\[\\]]*?\\]){(?P<bibkey>[a-zA-Z0-9\\-\\+\\.\\S]+?)}(?P<authors>|([\\D]*?))(?P<year>[12][0-9]{3})(?P<rest>.*)\n",
      "        \n",
      "  warnings.warn(str(e))\n",
      "/opt/hostedtoolcache/Python/3.9.23/x64/lib/python3.9/site-packages/arxiv_on_deck_2/latex_bib.py:132: UserWarning: Error processing bibitem\n",
      " item = \\bibitem{Zavala2021}J.~A. {Zavala}, C.~M. {Casey}, S.~M. {Manning}, {\\em et~al.}, ``{The Evolution of the IR Luminosity Function and Dust-obscured Star Formation over the Past 13 Billion Years},'' {\\em ApJ} {\\bf 909}, 165  (2021).\n",
      " regex = \n",
      "        \\\\bibitem(\\[[^\\[\\]]*?\\]){(?P<bibkey>[a-zA-Z0-9\\-\\+\\.\\S]+?)}(?P<authors>|([\\D]*?))(?P<year>[12][0-9]{3})(?P<rest>.*)\n",
      "        \n",
      "  warnings.warn(str(e))\n",
      "/opt/hostedtoolcache/Python/3.9.23/x64/lib/python3.9/site-packages/arxiv_on_deck_2/latex_bib.py:132: UserWarning: Error processing bibitem\n",
      " item = \\bibitem{Hickox2018}R.~C. {Hickox} and D.~M. {Alexander}, ``{Obscured Active Galactic Nuclei},'' {\\em ARAA} {\\bf 56}, 625--671  (2018).\n",
      " regex = \n",
      "        \\\\bibitem(\\[[^\\[\\]]*?\\]){(?P<bibkey>[a-zA-Z0-9\\-\\+\\.\\S]+?)}(?P<authors>|([\\D]*?))(?P<year>[12][0-9]{3})(?P<rest>.*)\n",
      "        \n",
      "  warnings.warn(str(e))\n",
      "/opt/hostedtoolcache/Python/3.9.23/x64/lib/python3.9/site-packages/arxiv_on_deck_2/latex_bib.py:132: UserWarning: Error processing bibitem\n",
      " item = \\bibitem{Koss2011}M.~{Koss}, R.~{Mushotzky}, S.~{Veilleux}, {\\em et~al.}, ``{Host Galaxy Properties of the Swift Bat Ultra Hard X-Ray Selected Active Galactic Nucleus},'' {\\em ApJ} {\\bf 739}, 57  (2011).\n",
      " regex = \n",
      "        \\\\bibitem(\\[[^\\[\\]]*?\\]){(?P<bibkey>[a-zA-Z0-9\\-\\+\\.\\S]+?)}(?P<authors>|([\\D]*?))(?P<year>[12][0-9]{3})(?P<rest>.*)\n",
      "        \n",
      "  warnings.warn(str(e))\n",
      "/opt/hostedtoolcache/Python/3.9.23/x64/lib/python3.9/site-packages/arxiv_on_deck_2/latex_bib.py:132: UserWarning: Error processing bibitem\n",
      " item = \\bibitem{Comastri2004}A.~{Comastri}, ``{Compton-Thick AGN: The Dark Side of the X-Ray Background},'' in {\\em Supermassive Black Holes in the Distant Universe},  A.~J. {Barger}, Ed., {\\em Astrophysics and Space Science Library} {\\bf 308}, 245  (2004).\n",
      " regex = \n",
      "        \\\\bibitem(\\[[^\\[\\]]*?\\]){(?P<bibkey>[a-zA-Z0-9\\-\\+\\.\\S]+?)}(?P<authors>|([\\D]*?))(?P<year>[12][0-9]{3})(?P<rest>.*)\n",
      "        \n",
      "  warnings.warn(str(e))\n",
      "/opt/hostedtoolcache/Python/3.9.23/x64/lib/python3.9/site-packages/arxiv_on_deck_2/latex_bib.py:132: UserWarning: Error processing bibitem\n",
      " item = \\bibitem{Begelman1979}M.~C. {Begelman}, ``{Can a spherically accreting black hole radiate very near the Eddington limit?},'' {\\em MNRAS} {\\bf 187}, 237--251  (1979).\n",
      " regex = \n",
      "        \\\\bibitem(\\[[^\\[\\]]*?\\]){(?P<bibkey>[a-zA-Z0-9\\-\\+\\.\\S]+?)}(?P<authors>|([\\D]*?))(?P<year>[12][0-9]{3})(?P<rest>.*)\n",
      "        \n",
      "  warnings.warn(str(e))\n",
      "/opt/hostedtoolcache/Python/3.9.23/x64/lib/python3.9/site-packages/arxiv_on_deck_2/latex_bib.py:132: UserWarning: Error processing bibitem\n",
      " item = \\bibitem{Pacucci2024}F.~{Pacucci} and R.~{Narayan}, ``{Mildly Super-Eddington Accretion onto Slowly Spinning Black Holes Explains the X-Ray Weakness of the Little Red Dots},'' {\\em ApJ} {\\bf 976}, 96  (2024).\n",
      " regex = \n",
      "        \\\\bibitem(\\[[^\\[\\]]*?\\]){(?P<bibkey>[a-zA-Z0-9\\-\\+\\.\\S]+?)}(?P<authors>|([\\D]*?))(?P<year>[12][0-9]{3})(?P<rest>.*)\n",
      "        \n",
      "  warnings.warn(str(e))\n",
      "/opt/hostedtoolcache/Python/3.9.23/x64/lib/python3.9/site-packages/arxiv_on_deck_2/latex_bib.py:132: UserWarning: Error processing bibitem\n",
      " item = \\bibitem{Kirkpatrick2013}A.~{Kirkpatrick}, A.~{Pope}, V.~{Charmandaris}, {\\em et~al.}, ``{GOODS-Herschel: Separating High-redshift Active Galactic Nuclei and Star-forming Galaxies Using Infrared Color Diagnostics},'' {\\em ApJ} {\\bf 763}, 123  (2013).\n",
      " regex = \n",
      "        \\\\bibitem(\\[[^\\[\\]]*?\\]){(?P<bibkey>[a-zA-Z0-9\\-\\+\\.\\S]+?)}(?P<authors>|([\\D]*?))(?P<year>[12][0-9]{3})(?P<rest>.*)\n",
      "        \n",
      "  warnings.warn(str(e))\n",
      "/opt/hostedtoolcache/Python/3.9.23/x64/lib/python3.9/site-packages/arxiv_on_deck_2/latex_bib.py:132: UserWarning: Error processing bibitem\n",
      " item = \\bibitem{Shimizu2017}T.~T. {Shimizu}, R.~F. {Mushotzky}, M.~{Mel{é}ndez}, {\\em et~al.}, ``{Herschel far-infrared photometry of the Swift Burst Alert Telescope active galactic nuclei sample of the local universe - III. Global star-forming properties and the lack of a connection to nuclear activity},'' {\\em MNRAS} {\\bf 466}, 3161--3183  (2017).\n",
      " regex = \n",
      "        \\\\bibitem(\\[[^\\[\\]]*?\\]){(?P<bibkey>[a-zA-Z0-9\\-\\+\\.\\S]+?)}(?P<authors>|([\\D]*?))(?P<year>[12][0-9]{3})(?P<rest>.*)\n",
      "        \n",
      "  warnings.warn(str(e))\n",
      "/opt/hostedtoolcache/Python/3.9.23/x64/lib/python3.9/site-packages/arxiv_on_deck_2/latex_bib.py:132: UserWarning: Error processing bibitem\n",
      " item = \\bibitem{Mitchell22}P.~D. {Mitchell} and J.~{Schaye}, ``{How gas flows shape the stellar-halo mass relation in the EAGLE simulation},'' {\\em \\mnras} {\\bf 511}, 2948--2967  (2022).\n",
      " regex = \n",
      "        \\\\bibitem(\\[[^\\[\\]]*?\\]){(?P<bibkey>[a-zA-Z0-9\\-\\+\\.\\S]+?)}(?P<authors>|([\\D]*?))(?P<year>[12][0-9]{3})(?P<rest>.*)\n",
      "        \n",
      "  warnings.warn(str(e))\n",
      "/opt/hostedtoolcache/Python/3.9.23/x64/lib/python3.9/site-packages/arxiv_on_deck_2/latex_bib.py:132: UserWarning: Error processing bibitem\n",
      " item = \\bibitem{Nelson19}D.~{Nelson}, A.~{Pillepich}, V.~{Springel}, {\\em et~al.}, ``{First results from the TNG50 simulation: galactic outflows driven by supernovae and black hole feedback},'' {\\em \\mnras} {\\bf 490}, 3234--3261  (2019).\n",
      " regex = \n",
      "        \\\\bibitem(\\[[^\\[\\]]*?\\]){(?P<bibkey>[a-zA-Z0-9\\-\\+\\.\\S]+?)}(?P<authors>|([\\D]*?))(?P<year>[12][0-9]{3})(?P<rest>.*)\n",
      "        \n",
      "  warnings.warn(str(e))\n",
      "/opt/hostedtoolcache/Python/3.9.23/x64/lib/python3.9/site-packages/arxiv_on_deck_2/latex_bib.py:132: UserWarning: Error processing bibitem\n",
      " item = \\bibitem{Veilleux20}S.~{Veilleux}, R.~{Maiolino}, A.~D. {Bolatto}, {\\em et~al.}, ``{Cool outflows in galaxies and their implications},'' {\\em \\aapr} {\\bf 28}, 2  (2020).\n",
      " regex = \n",
      "        \\\\bibitem(\\[[^\\[\\]]*?\\]){(?P<bibkey>[a-zA-Z0-9\\-\\+\\.\\S]+?)}(?P<authors>|([\\D]*?))(?P<year>[12][0-9]{3})(?P<rest>.*)\n",
      "        \n",
      "  warnings.warn(str(e))\n",
      "/opt/hostedtoolcache/Python/3.9.23/x64/lib/python3.9/site-packages/arxiv_on_deck_2/latex_bib.py:132: UserWarning: Error processing bibitem\n",
      " item = \\bibitem{Matsuura09}M.~{Matsuura}, M.~J. {Barlow}, A.~A. {Zijlstra}, {\\em et~al.}, ``{The global gas and dust budget of the Large Magellanic Cloud: AGB stars and supernovae, and the impact on the ISM evolution},'' {\\em \\mnras} {\\bf 396}, 918--934  (2009).\n",
      " regex = \n",
      "        \\\\bibitem(\\[[^\\[\\]]*?\\]){(?P<bibkey>[a-zA-Z0-9\\-\\+\\.\\S]+?)}(?P<authors>|([\\D]*?))(?P<year>[12][0-9]{3})(?P<rest>.*)\n",
      "        \n",
      "  warnings.warn(str(e))\n",
      "/opt/hostedtoolcache/Python/3.9.23/x64/lib/python3.9/site-packages/arxiv_on_deck_2/latex_bib.py:132: UserWarning: Error processing bibitem\n",
      " item = \\bibitem{Nittler03}L.~R. {Nittler}, ``{Presolar stardust in meteorites: recent advances and scientific frontiers},'' {\\em Earth and Planetary Science Letters} {\\bf 209}, 259--273  (2003).\n",
      " regex = \n",
      "        \\\\bibitem(\\[[^\\[\\]]*?\\]){(?P<bibkey>[a-zA-Z0-9\\-\\+\\.\\S]+?)}(?P<authors>|([\\D]*?))(?P<year>[12][0-9]{3})(?P<rest>.*)\n",
      "        \n",
      "  warnings.warn(str(e))\n",
      "/opt/hostedtoolcache/Python/3.9.23/x64/lib/python3.9/site-packages/arxiv_on_deck_2/latex_bib.py:132: UserWarning: Error processing bibitem\n",
      " item = \\bibitem{Boyer12}M.~L. {Boyer}, S.~{Srinivasan}, D.~{Riebel}, {\\em et~al.}, ``{The Dust Budget of the Small Magellanic Cloud: Are Asymptotic Giant Branch Stars the Primary Dust Source at Low Metallicity?},'' {\\em \\apj} {\\bf 748}, 40  (2012).\n",
      " regex = \n",
      "        \\\\bibitem(\\[[^\\[\\]]*?\\]){(?P<bibkey>[a-zA-Z0-9\\-\\+\\.\\S]+?)}(?P<authors>|([\\D]*?))(?P<year>[12][0-9]{3})(?P<rest>.*)\n",
      "        \n",
      "  warnings.warn(str(e))\n",
      "/opt/hostedtoolcache/Python/3.9.23/x64/lib/python3.9/site-packages/arxiv_on_deck_2/latex_bib.py:132: UserWarning: Error processing bibitem\n",
      " item = \\bibitem{Popping17}G.~{Popping}, R.~S. {Somerville}, and M.~{Galametz}, ``{The dust content of galaxies from z = 0 to z = 9},'' {\\em \\mnras} {\\bf 471}, 3152--3185  (2017).\n",
      " regex = \n",
      "        \\\\bibitem(\\[[^\\[\\]]*?\\]){(?P<bibkey>[a-zA-Z0-9\\-\\+\\.\\S]+?)}(?P<authors>|([\\D]*?))(?P<year>[12][0-9]{3})(?P<rest>.*)\n",
      "        \n",
      "  warnings.warn(str(e))\n",
      "/opt/hostedtoolcache/Python/3.9.23/x64/lib/python3.9/site-packages/arxiv_on_deck_2/latex_bib.py:132: UserWarning: Error processing bibitem\n",
      " item = \\bibitem{Peroux20}C.~{P{é}roux} and J.~C. {Howk}, ``{The Cosmic Baryon and Metal Cycles},'' {\\em \\araa} {\\bf 58}, 363--406  (2020).\n",
      " regex = \n",
      "        \\\\bibitem(\\[[^\\[\\]]*?\\]){(?P<bibkey>[a-zA-Z0-9\\-\\+\\.\\S]+?)}(?P<authors>|([\\D]*?))(?P<year>[12][0-9]{3})(?P<rest>.*)\n",
      "        \n",
      "  warnings.warn(str(e))\n",
      "/opt/hostedtoolcache/Python/3.9.23/x64/lib/python3.9/site-packages/arxiv_on_deck_2/latex_bib.py:132: UserWarning: Error processing bibitem\n",
      " item = \\bibitem{Smith07}J.~D.~T. {Smith}, B.~T. {Draine}, D.~A. {Dale}, {\\em et~al.}, ``{The Mid-Infrared Spectrum of Star-forming Galaxies: Global Properties of Polycyclic Aromatic Hydrocarbon Emission},'' {\\em \\apj} {\\bf 656}, 770--791  (2007).\n",
      " regex = \n",
      "        \\\\bibitem(\\[[^\\[\\]]*?\\]){(?P<bibkey>[a-zA-Z0-9\\-\\+\\.\\S]+?)}(?P<authors>|([\\D]*?))(?P<year>[12][0-9]{3})(?P<rest>.*)\n",
      "        \n",
      "  warnings.warn(str(e))\n",
      "/opt/hostedtoolcache/Python/3.9.23/x64/lib/python3.9/site-packages/arxiv_on_deck_2/latex_bib.py:132: UserWarning: Error processing bibitem\n",
      " item = \\bibitem{Langeroodi23}D.~{Langeroodi} and J.~{Hjorth}, ``{Little Red Dots or Brown Dwarfs? NIRSpec Discovery of Three Distant Brown Dwarfs Masquerading as NIRCam-selected Highly Reddened Active Galactic Nuclei},'' {\\em \\apjl} {\\bf 957}, L27  (2023).\n",
      " regex = \n",
      "        \\\\bibitem(\\[[^\\[\\]]*?\\]){(?P<bibkey>[a-zA-Z0-9\\-\\+\\.\\S]+?)}(?P<authors>|([\\D]*?))(?P<year>[12][0-9]{3})(?P<rest>.*)\n",
      "        \n",
      "  warnings.warn(str(e))\n",
      "/opt/hostedtoolcache/Python/3.9.23/x64/lib/python3.9/site-packages/arxiv_on_deck_2/latex_bib.py:132: UserWarning: Error processing bibitem\n",
      " item = \\bibitem{Markov23}V.~{Markov}, S.~{Gallerani}, A.~{Pallottini}, {\\em et~al.}, ``{Dust attenuation law in JWST galaxies at z {\\ensuremath{\\sim}} 7-8},'' {\\em \\aap} {\\bf 679}, A12  (2023).\n",
      " regex = \n",
      "        \\\\bibitem(\\[[^\\[\\]]*?\\]){(?P<bibkey>[a-zA-Z0-9\\-\\+\\.\\S]+?)}(?P<authors>|([\\D]*?))(?P<year>[12][0-9]{3})(?P<rest>.*)\n",
      "        \n",
      "  warnings.warn(str(e))\n",
      "/opt/hostedtoolcache/Python/3.9.23/x64/lib/python3.9/site-packages/arxiv_on_deck_2/latex_bib.py:132: UserWarning: Error processing bibitem\n",
      " item = \\bibitem{Spilker23}J.~S. {Spilker}, K.~A. {Phadke}, M.~{Aravena}, {\\em et~al.}, ``{Spatial variations in aromatic hydrocarbon emission in a dust-rich galaxy},'' {\\em \\nat} {\\bf 618}, 708--711  (2023).\n",
      " regex = \n",
      "        \\\\bibitem(\\[[^\\[\\]]*?\\]){(?P<bibkey>[a-zA-Z0-9\\-\\+\\.\\S]+?)}(?P<authors>|([\\D]*?))(?P<year>[12][0-9]{3})(?P<rest>.*)\n",
      "        \n",
      "  warnings.warn(str(e))\n",
      "/opt/hostedtoolcache/Python/3.9.23/x64/lib/python3.9/site-packages/arxiv_on_deck_2/latex_bib.py:132: UserWarning: Error processing bibitem\n",
      " item = \\bibitem{Engelbracht05}C.~W. {Engelbracht}, K.~D. {Gordon}, G.~H. {Rieke}, {\\em et~al.}, ``{Metallicity Effects on Mid-Infrared Colors and the 8 {\\ensuremath{\\mu}}m PAH Emission in Galaxies},'' {\\em \\apjl} {\\bf 628}, L29--L32  (2005).\n",
      " regex = \n",
      "        \\\\bibitem(\\[[^\\[\\]]*?\\]){(?P<bibkey>[a-zA-Z0-9\\-\\+\\.\\S]+?)}(?P<authors>|([\\D]*?))(?P<year>[12][0-9]{3})(?P<rest>.*)\n",
      "        \n",
      "  warnings.warn(str(e))\n",
      "/opt/hostedtoolcache/Python/3.9.23/x64/lib/python3.9/site-packages/arxiv_on_deck_2/latex_bib.py:132: UserWarning: Error processing bibitem\n",
      " item = \\bibitem{Engelbracht08}C.~W. {Engelbracht}, G.~H. {Rieke}, K.~D. {Gordon}, {\\em et~al.}, ``{Metallicity Effects on Dust Properties in Starbursting Galaxies},'' {\\em \\apj} {\\bf 678}, 804--827  (2008).\n",
      " regex = \n",
      "        \\\\bibitem(\\[[^\\[\\]]*?\\]){(?P<bibkey>[a-zA-Z0-9\\-\\+\\.\\S]+?)}(?P<authors>|([\\D]*?))(?P<year>[12][0-9]{3})(?P<rest>.*)\n",
      "        \n",
      "  warnings.warn(str(e))\n",
      "/opt/hostedtoolcache/Python/3.9.23/x64/lib/python3.9/site-packages/arxiv_on_deck_2/latex_bib.py:132: UserWarning: Error processing bibitem\n",
      " item = \\bibitem{Whitcomb23}C.~M. {Whitcomb}, K.~{Sandstrom}, A.~{Leroy}, {\\em et~al.}, ``{Star Formation and Molecular Gas Diagnostics with Mid- and Far-infrared Emission},'' {\\em \\apj} {\\bf 948}, 88  (2023).\n",
      " regex = \n",
      "        \\\\bibitem(\\[[^\\[\\]]*?\\]){(?P<bibkey>[a-zA-Z0-9\\-\\+\\.\\S]+?)}(?P<authors>|([\\D]*?))(?P<year>[12][0-9]{3})(?P<rest>.*)\n",
      "        \n",
      "  warnings.warn(str(e))\n",
      "/opt/hostedtoolcache/Python/3.9.23/x64/lib/python3.9/site-packages/arxiv_on_deck_2/latex_bib.py:132: UserWarning: Error processing bibitem\n",
      " item = \\bibitem{Colbert99}J.~W. {Colbert}, M.~A. {Malkan}, P.~E. {Clegg}, {\\em et~al.}, ``{ISO LWS Spectroscopy of M82: A Unified Evolutionary Model},'' {\\em \\apj} {\\bf 511}, 721--729  (1999).\n",
      " regex = \n",
      "        \\\\bibitem(\\[[^\\[\\]]*?\\]){(?P<bibkey>[a-zA-Z0-9\\-\\+\\.\\S]+?)}(?P<authors>|([\\D]*?))(?P<year>[12][0-9]{3})(?P<rest>.*)\n",
      "        \n",
      "  warnings.warn(str(e))\n",
      "/opt/hostedtoolcache/Python/3.9.23/x64/lib/python3.9/site-packages/arxiv_on_deck_2/latex_bib.py:132: UserWarning: Error processing bibitem\n",
      " item = \\bibitem{Sturm00}E.~{Sturm}, D.~{Lutz}, D.~{Tran}, {\\em et~al.}, ``{ISO-SWS spectra of galaxies: Continuum and features},'' {\\em \\aap} {\\bf 358}, 481--493  (2000).\n",
      " regex = \n",
      "        \\\\bibitem(\\[[^\\[\\]]*?\\]){(?P<bibkey>[a-zA-Z0-9\\-\\+\\.\\S]+?)}(?P<authors>|([\\D]*?))(?P<year>[12][0-9]{3})(?P<rest>.*)\n",
      "        \n",
      "  warnings.warn(str(e))\n",
      "/opt/hostedtoolcache/Python/3.9.23/x64/lib/python3.9/site-packages/arxiv_on_deck_2/latex_bib.py:132: UserWarning: Error processing bibitem\n",
      " item = \\bibitem{Kaufman06}M.~J. {Kaufman}, M.~G. {Wolfire}, and D.~J. {Hollenbach}, ``{[Si II], [Fe II], [C II], and H$_{2}$ Emission from Massive Star-forming Regions},'' {\\em \\apj} {\\bf 644}, 283--299  (2006).\n",
      " regex = \n",
      "        \\\\bibitem(\\[[^\\[\\]]*?\\]){(?P<bibkey>[a-zA-Z0-9\\-\\+\\.\\S]+?)}(?P<authors>|([\\D]*?))(?P<year>[12][0-9]{3})(?P<rest>.*)\n",
      "        \n",
      "  warnings.warn(str(e))\n",
      "/opt/hostedtoolcache/Python/3.9.23/x64/lib/python3.9/site-packages/arxiv_on_deck_2/latex_bib.py:132: UserWarning: Error processing bibitem\n",
      " item = \\bibitem{Pontoppidan24}K.~M. {Pontoppidan}, C.~{Salyk}, A.~{Banzatti}, {\\em et~al.}, ``{High-contrast JWST-MIRI Spectroscopy of Planet-forming Disks for the JDISC Survey},'' {\\em \\apj} {\\bf 963}, 158  (2024).\n",
      " regex = \n",
      "        \\\\bibitem(\\[[^\\[\\]]*?\\]){(?P<bibkey>[a-zA-Z0-9\\-\\+\\.\\S]+?)}(?P<authors>|([\\D]*?))(?P<year>[12][0-9]{3})(?P<rest>.*)\n",
      "        \n",
      "  warnings.warn(str(e))\n",
      "/opt/hostedtoolcache/Python/3.9.23/x64/lib/python3.9/site-packages/arxiv_on_deck_2/latex_bib.py:132: UserWarning: Error processing bibitem\n",
      " item = \\bibitem{Blevins16}S.~M. {Blevins}, K.~M. {Pontoppidan}, A.~{Banzatti}, {\\em et~al.}, ``{Measurements of Water Surface Snow Lines in Classical Protoplanetary Disks},'' {\\em \\apj} {\\bf 818}, 22  (2016).\n",
      " regex = \n",
      "        \\\\bibitem(\\[[^\\[\\]]*?\\]){(?P<bibkey>[a-zA-Z0-9\\-\\+\\.\\S]+?)}(?P<authors>|([\\D]*?))(?P<year>[12][0-9]{3})(?P<rest>.*)\n",
      "        \n",
      "  warnings.warn(str(e))\n",
      "/opt/hostedtoolcache/Python/3.9.23/x64/lib/python3.9/site-packages/arxiv_on_deck_2/latex_bib.py:132: UserWarning: Error processing bibitem\n",
      " item = \\bibitem{Malfait99}K.~{Malfait}, C.~{Waelkens}, J.~{Bouwman}, {\\em et~al.}, ``{The ISO spectrum of the young star HD 142527},'' {\\em \\aap} {\\bf 345}, 181--186  (1999).\n",
      " regex = \n",
      "        \\\\bibitem(\\[[^\\[\\]]*?\\]){(?P<bibkey>[a-zA-Z0-9\\-\\+\\.\\S]+?)}(?P<authors>|([\\D]*?))(?P<year>[12][0-9]{3})(?P<rest>.*)\n",
      "        \n",
      "  warnings.warn(str(e))\n",
      "/opt/hostedtoolcache/Python/3.9.23/x64/lib/python3.9/site-packages/arxiv_on_deck_2/latex_bib.py:132: UserWarning: Error processing bibitem\n",
      " item = \\bibitem{Sturm13}B.~{Sturm}, J.~{Bouwman}, T.~{Henning}, {\\em et~al.}, ``{The 69 {\\ensuremath{\\mu}}m forsterite band in spectra of protoplanetary disks. Results from the Herschel DIGIT programme},'' {\\em \\aap} {\\bf 553}, A5  (2013).\n",
      " regex = \n",
      "        \\\\bibitem(\\[[^\\[\\]]*?\\]){(?P<bibkey>[a-zA-Z0-9\\-\\+\\.\\S]+?)}(?P<authors>|([\\D]*?))(?P<year>[12][0-9]{3})(?P<rest>.*)\n",
      "        \n",
      "  warnings.warn(str(e))\n",
      "/opt/hostedtoolcache/Python/3.9.23/x64/lib/python3.9/site-packages/arxiv_on_deck_2/latex_bib.py:132: UserWarning: Error processing bibitem\n",
      " item = \\bibitem{Kamp18}I.~{Kamp}, A.~{Scheepstra}, M.~{Min}, {\\em et~al.}, ``{Diagnostic value of far-IR water ice features in T Tauri disks},'' {\\em \\aap} {\\bf 617}, A1  (2018).\n",
      " regex = \n",
      "        \\\\bibitem(\\[[^\\[\\]]*?\\]){(?P<bibkey>[a-zA-Z0-9\\-\\+\\.\\S]+?)}(?P<authors>|([\\D]*?))(?P<year>[12][0-9]{3})(?P<rest>.*)\n",
      "        \n",
      "  warnings.warn(str(e))\n",
      "/opt/hostedtoolcache/Python/3.9.23/x64/lib/python3.9/site-packages/arxiv_on_deck_2/latex_bib.py:132: UserWarning: Error processing bibitem\n",
      " item = \\bibitem{Simon97}M.~{Simon}, ``{Clustering of Young Stars in Taurus, Ophiuchus, and the Orion Trapezium},'' {\\em \\apjl} {\\bf 482}, L81--L84  (1997).\n",
      " regex = \n",
      "        \\\\bibitem(\\[[^\\[\\]]*?\\]){(?P<bibkey>[a-zA-Z0-9\\-\\+\\.\\S]+?)}(?P<authors>|([\\D]*?))(?P<year>[12][0-9]{3})(?P<rest>.*)\n",
      "        \n",
      "  warnings.warn(str(e))\n",
      "/opt/hostedtoolcache/Python/3.9.23/x64/lib/python3.9/site-packages/arxiv_on_deck_2/latex_bib.py:132: UserWarning: Error processing bibitem\n",
      " item = \\bibitem{Kraus08}A.~L. {Kraus} and L.~A. {Hillenbrand}, ``{Spatial Distributions of Young Stars},'' {\\em \\apjl} {\\bf 686}, L111  (2008).\n",
      " regex = \n",
      "        \\\\bibitem(\\[[^\\[\\]]*?\\]){(?P<bibkey>[a-zA-Z0-9\\-\\+\\.\\S]+?)}(?P<authors>|([\\D]*?))(?P<year>[12][0-9]{3})(?P<rest>.*)\n",
      "        \n",
      "  warnings.warn(str(e))\n",
      "/opt/hostedtoolcache/Python/3.9.23/x64/lib/python3.9/site-packages/arxiv_on_deck_2/latex_bib.py:132: UserWarning: Error processing bibitem\n",
      " item = \\bibitem{Bonato19}M.~{Bonato}, G.~{De Zotti}, D.~{Leisawitz}, {\\em et~al.}, ``{Origins Space Telescope: Predictions for far-IR spectroscopic surveys},'' {\\em \\pasa} {\\bf 36}, e017  (2019).\n",
      " regex = \n",
      "        \\\\bibitem(\\[[^\\[\\]]*?\\]){(?P<bibkey>[a-zA-Z0-9\\-\\+\\.\\S]+?)}(?P<authors>|([\\D]*?))(?P<year>[12][0-9]{3})(?P<rest>.*)\n",
      "        \n",
      "  warnings.warn(str(e))\n",
      "/opt/hostedtoolcache/Python/3.9.23/x64/lib/python3.9/site-packages/arxiv_on_deck_2/latex_bib.py:132: UserWarning: Error processing bibitem\n",
      " item = \\bibitem{Gruppioni16}C.~{Gruppioni}, S.~{Berta}, L.~{Spinoglio}, {\\em et~al.}, ``{Tracing black hole accretion with SED decomposition and IR lines: from local galaxies to the high-z Universe},'' {\\em \\mnras} {\\bf 458}, 4297--4320  (2016).\n",
      " regex = \n",
      "        \\\\bibitem(\\[[^\\[\\]]*?\\]){(?P<bibkey>[a-zA-Z0-9\\-\\+\\.\\S]+?)}(?P<authors>|([\\D]*?))(?P<year>[12][0-9]{3})(?P<rest>.*)\n",
      "        \n",
      "  warnings.warn(str(e))\n",
      "/opt/hostedtoolcache/Python/3.9.23/x64/lib/python3.9/site-packages/arxiv_on_deck_2/latex_bib.py:132: UserWarning: Error processing bibitem\n",
      " item = \\bibitem{McClure16}M.~K. {McClure}, E.~A. {Bergin}, L.~I. {Cleeves}, {\\em et~al.}, ``{Mass Measurements in Protoplanetary Disks from Hydrogen Deuteride},'' {\\em \\apj} {\\bf 831}, 167  (2016).\n",
      " regex = \n",
      "        \\\\bibitem(\\[[^\\[\\]]*?\\]){(?P<bibkey>[a-zA-Z0-9\\-\\+\\.\\S]+?)}(?P<authors>|([\\D]*?))(?P<year>[12][0-9]{3})(?P<rest>.*)\n",
      "        \n",
      "  warnings.warn(str(e))\n",
      "/opt/hostedtoolcache/Python/3.9.23/x64/lib/python3.9/site-packages/arxiv_on_deck_2/latex_bib.py:132: UserWarning: Error processing bibitem\n",
      " item = \\bibitem{Trapman17}L.~{Trapman}, A.~{Miotello}, M.~{Kama}, {\\em et~al.}, ``{Far-infrared HD emission as a measure of protoplanetary disk mass},'' {\\em \\aap} {\\bf 605}, A69  (2017).\n",
      " regex = \n",
      "        \\\\bibitem(\\[[^\\[\\]]*?\\]){(?P<bibkey>[a-zA-Z0-9\\-\\+\\.\\S]+?)}(?P<authors>|([\\D]*?))(?P<year>[12][0-9]{3})(?P<rest>.*)\n",
      "        \n",
      "  warnings.warn(str(e))\n",
      "/opt/hostedtoolcache/Python/3.9.23/x64/lib/python3.9/site-packages/arxiv_on_deck_2/latex_bib.py:132: UserWarning: Error processing bibitem\n",
      " item = \\bibitem{Seo24}Y.~M. {Seo}, K.~{Willacy}, G.~{Bryden}, {\\em et~al.}, ``{Retrievals of Protoplanetary Disk Parameters Using Thermochemical Models. I. Disk Gas Mass from Hydrogen Deuteride Spectroscopy},'' {\\em \\apj} {\\bf 967}, 131  (2024).\n",
      " regex = \n",
      "        \\\\bibitem(\\[[^\\[\\]]*?\\]){(?P<bibkey>[a-zA-Z0-9\\-\\+\\.\\S]+?)}(?P<authors>|([\\D]*?))(?P<year>[12][0-9]{3})(?P<rest>.*)\n",
      "        \n",
      "  warnings.warn(str(e))\n",
      "/opt/hostedtoolcache/Python/3.9.23/x64/lib/python3.9/site-packages/arxiv_on_deck_2/latex_bib.py:132: UserWarning: Error processing bibitem\n",
      " item = \\bibitem{Bergin13}E.~A. {Bergin}, L.~I. {Cleeves}, U.~{Gorti}, {\\em et~al.}, ``{An old disk still capable of forming a planetary system},'' {\\em \\nat} {\\bf 493}, 644--646  (2013).\n",
      " regex = \n",
      "        \\\\bibitem(\\[[^\\[\\]]*?\\]){(?P<bibkey>[a-zA-Z0-9\\-\\+\\.\\S]+?)}(?P<authors>|([\\D]*?))(?P<year>[12][0-9]{3})(?P<rest>.*)\n",
      "        \n",
      "  warnings.warn(str(e))\n",
      "/opt/hostedtoolcache/Python/3.9.23/x64/lib/python3.9/site-packages/arxiv_on_deck_2/latex_bib.py:132: UserWarning: Error processing bibitem\n",
      " item = \\bibitem{Green13}J.~D. {Green}, N.~J. {Evans}, II, J.~K. {J{\\o}rgensen}, {\\em et~al.}, ``{Embedded Protostars in the Dust, Ice, and Gas In Time (DIGIT) Herschel Key Program: Continuum SEDs, and an Inventory of Characteristic Far-infrared Lines from PACS Spectroscopy},'' {\\em \\apj} {\\bf 770}, 123  (2013).\\end{thebibliography}\n",
      " regex = \n",
      "        \\\\bibitem(\\[[^\\[\\]]*?\\]){(?P<bibkey>[a-zA-Z0-9\\-\\+\\.\\S]+?)}(?P<authors>|([\\D]*?))(?P<year>[12][0-9]{3})(?P<rest>.*)\n",
      "        \n",
      "  warnings.warn(str(e))\n"
     ]
    },
    {
     "name": "stderr",
     "output_type": "stream",
     "text": [
      "/tmp/ipykernel_3377/2822249172.py:52: LatexWarning: 2509.01904 did not run properly\n",
      "HTTP Error 404: Not Found\n",
      "  warnings.warn(latex.LatexWarning(f\"{paper_id:s} did not run properly\\n\" +\n"
     ]
    },
    {
     "name": "stdout",
     "output_type": "stream",
     "text": [
      "Retrieving document from  https://arxiv.org/e-print/2509.01937\n"
     ]
    },
    {
     "name": "stdout",
     "output_type": "stream",
     "text": [
      "extracting tarball to tmp_2509.01937..."
     ]
    },
    {
     "name": "stdout",
     "output_type": "stream",
     "text": [
      " done.\n"
     ]
    },
    {
     "name": "stderr",
     "output_type": "stream",
     "text": [
      "/opt/hostedtoolcache/Python/3.9.23/x64/lib/python3.9/site-packages/IPython/core/interactiveshell.py:3550: LatexWarning: Multiple tex files.\n",
      "\n",
      "  exec(code_obj, self.user_global_ns, self.user_ns)\n",
      "/opt/hostedtoolcache/Python/3.9.23/x64/lib/python3.9/site-packages/IPython/core/interactiveshell.py:3550: LatexWarning: Found documentclass in tmp_2509.01937/ms.tex\n",
      "\n",
      "  exec(code_obj, self.user_global_ns, self.user_ns)\n",
      "/opt/hostedtoolcache/Python/3.9.23/x64/lib/python3.9/site-packages/arxiv_on_deck_2/latex.py:414: LatexWarning: Latex injecting: 'mydefs' from 'tmp_2509.01937/mydefs.tex'\n",
      "  warnings.warn(LatexWarning(f\"Latex injecting: '{ext}' from '{subsource}'\"))\n"
     ]
    },
    {
     "name": "stdout",
     "output_type": "stream",
     "text": [
      "M. Benisty  ->  M. Benisty  |  ['M. Benisty']\n"
     ]
    },
    {
     "name": "stdout",
     "output_type": "stream",
     "text": [
      "Found 61 bibliographic references in tmp_2509.01937/ms.bbl.\n",
      "Retrieving document from  https://arxiv.org/e-print/2509.02128\n"
     ]
    },
    {
     "name": "stderr",
     "output_type": "stream",
     "text": [
      "/tmp/ipykernel_3377/2822249172.py:52: LatexWarning: 2509.02128 did not run properly\n",
      "HTTP Error 404: Not Found\n",
      "  warnings.warn(latex.LatexWarning(f\"{paper_id:s} did not run properly\\n\" +\n"
     ]
    }
   ],
   "source": [
    "documents = []\n",
    "failed = []\n",
    "for paper in tqdm(candidates):\n",
    "    # debug crap\n",
    "    paper['identifier'] = paper['identifier'].lower().replace('arxiv:', '').replace(r'\\n', '').strip()\n",
    "    paper_id = paper['identifier']\n",
    "    \n",
    "    folder = f'tmp_{paper_id}'\n",
    "\n",
    "    try:\n",
    "        if not os.path.isdir(folder):\n",
    "            folder = retrieve_document_source(f\"{paper_id}\", f'tmp_{paper_id}')\n",
    "        \n",
    "        try:\n",
    "            doc = latex.LatexDocument(folder, validation=validation)    \n",
    "        except AffiliationError as affilerror:\n",
    "            msg = f\"ArXiv:{paper_id:s} is not an MPIA paper... \" + str(affilerror)\n",
    "            failed.append((paper, \"affiliation error: \" + str(affilerror) ))\n",
    "            continue\n",
    "        \n",
    "        # Hack because sometimes author parsing does not work well\n",
    "        if (len(doc.authors) != len(paper['authors'])):\n",
    "            doc._authors = paper['authors']\n",
    "        else:\n",
    "            # highlight authors (FIXME: doc.highlight_authors)\n",
    "            # done on arxiv paper already\n",
    "            doc._authors = highlight_authors_in_list(\n",
    "                [get_initials(k) for k in doc.authors], \n",
    "                mpia_authors, verbose=True)\n",
    "        if (doc.abstract) in (None, ''):\n",
    "            doc._abstract = paper['abstract']\n",
    "            \n",
    "        doc.comment = (get_markdown_badge(paper_id) + \n",
    "                       \"<mark>Appeared on: \" + paper['date'] + \"</mark> - \")\n",
    "        if paper['comments']:\n",
    "            doc.comment += \" _\" + paper['comments'] + \"_\"\n",
    "        \n",
    "        full_md = doc.generate_markdown_text()\n",
    "        \n",
    "        full_md += get_markdown_qrcode(paper_id)\n",
    "        \n",
    "        # replace citations\n",
    "        try:\n",
    "            bibdata = latex_bib.LatexBib.from_doc(doc)\n",
    "            full_md = latex_bib.replace_citations(full_md, bibdata)\n",
    "        except Exception as e:\n",
    "            print(\"Issues with the citations\")\n",
    "            print(e)\n",
    "        \n",
    "        documents.append((paper_id, full_md))\n",
    "    except Exception as e:\n",
    "        warnings.warn(latex.LatexWarning(f\"{paper_id:s} did not run properly\\n\" +\n",
    "                                         str(e)\n",
    "                                        ))\n",
    "        failed.append((paper, \"latex error \" + str(e)))"
   ]
  },
  {
   "cell_type": "markdown",
   "id": "2505a25c",
   "metadata": {
    "papermill": {
     "duration": 0.004908,
     "end_time": "2025-09-03T04:13:47.906366",
     "exception": false,
     "start_time": "2025-09-03T04:13:47.901458",
     "status": "completed"
    },
    "tags": []
   },
   "source": [
    "### Export the logs\n",
    "\n",
    "Throughout, we also keep track of the logs per paper. see `logs-{today date}.md` "
   ]
  },
  {
   "cell_type": "code",
   "execution_count": 6,
   "id": "d733828a",
   "metadata": {
    "execution": {
     "iopub.execute_input": "2025-09-03T04:13:47.917122Z",
     "iopub.status.busy": "2025-09-03T04:13:47.916866Z",
     "iopub.status.idle": "2025-09-03T04:13:47.938325Z",
     "shell.execute_reply": "2025-09-03T04:13:47.937743Z"
    },
    "papermill": {
     "duration": 0.028135,
     "end_time": "2025-09-03T04:13:47.939322",
     "exception": false,
     "start_time": "2025-09-03T04:13:47.911187",
     "status": "completed"
    },
    "scrolled": false,
    "tags": []
   },
   "outputs": [
    {
     "data": {
      "text/markdown": [
       "## Successful papers"
      ],
      "text/plain": [
       "<IPython.core.display.Markdown object>"
      ]
     },
     "metadata": {},
     "output_type": "display_data"
    },
    {
     "data": {
      "text/markdown": [
       "\n",
       "|||\n",
       "|---:|:---|\n",
       "| [![arXiv](https://img.shields.io/badge/arXiv-2509.01668-b31b1b.svg)](https://arxiv.org/abs/2509.01668) | **Azimuthal offsets in spiral arms of nearby galaxies**  |\n",
       "|| M. Querejeta, et al. -- incl., <mark>E. Schinnerer</mark>, <mark>A. Hughes</mark>, <mark>K. Kreckel</mark>, <mark>J. Neumann</mark> |\n",
       "|*Appeared on*| *2025-09-03*|\n",
       "|*Comments*| *21 pages, 8 figures. Accepted for publication in A&A*|\n",
       "|**Abstract**|            Spiral arms play a central role in disc galaxies, but their dynamical nature remains a long-standing open question. Azimuthal offsets between molecular gas and star formation are expected if gas crosses spiral arms, as predicted by quasi-stationary density wave theory. In this work, we measure offsets between CO and Halpha peaks in radial bins for 24 galaxies from the PHANGS survey that display a well-delineated spiral structure. The offsets exhibit substantial scatter, implying that star formation is not exclusively initiated at a coherent spiral shock. We define offsets such that positive values mean Halpha peaks lie ahead of CO peaks in the direction of galactic rotation. With this convention, 14 galaxies show mean positive CO-Halpha offsets, typically of a few hundred parsecs. In four of these 14 galaxies (17% of the total), offsets become smaller with increasing radius, as expected for a single quasi-stationary spiral density wave. Ten galaxies (42%) show positive mean offsets but no clear correlation with radius, which is compatible with multiple overlapping modes. In the remaining ten galaxies (42%), we find no significantly positive offsets, which could point to transient dynamical spirals or material arms, where gas and stars co-rotate with the spiral perturbation. Across the full sample, we find mostly positive offsets between CO peaks and the gravitational potential minimum, confirming that gas often crosses the spiral perturbation. For the four galaxies with clear positive offsets and a radial trend, we derived pattern speeds in good agreement with the literature. Overall, our results suggest that even well-delineated spirals in the local Universe can arise from a variety of underlying dynamical mechanisms.         |"
      ],
      "text/plain": [
       "[2509.01668] Azimuthal offsets in spiral arms of nearby galaxies\n",
       "\tM. Querejeta, et al. -- incl., <mark>E. Schinnerer</mark>, <mark>A. Hughes</mark>, <mark>K. Kreckel</mark>, <mark>J. Neumann</mark>"
      ]
     },
     "metadata": {},
     "output_type": "display_data"
    },
    {
     "data": {
      "text/markdown": [
       "\n",
       "|||\n",
       "|---:|:---|\n",
       "| [![arXiv](https://img.shields.io/badge/arXiv-2509.01800-b31b1b.svg)](https://arxiv.org/abs/2509.01800) | **The Far-Infrared Enhanced Survey Spectrometer (FIRESS) for PRIMA: Science Drivers**  |\n",
       "|| K. M. Pontoppidan, et al. -- incl., <mark>T. Henning</mark>, <mark>O. Krause</mark> |\n",
       "|*Appeared on*| *2025-09-03*|\n",
       "|*Comments*| *Accepted for publication in JATIS*|\n",
       "|**Abstract**|            We present the science drivers for the Far-Infrared Enhanced Survey Spectrometer (FIRESS), one of two science instrument on the PRobe Infrared Mission for Astrophysics (PRIMA). FIRESS is designed to meet science objectives in the areas of the origins of planetary atmospheres, the co-evolution of galaxies and supermassive black holes, and the buildup of heavy elements in the Universe. In addition to these drivers, FIRESS is envisioned as a versatile far-infrared spectrometer, capable of addressing science questions in most areas of astrophysics and planetary astronomy as part of a dominant General Observer (GO) program with 2/3 of the current science cases using FIRESS. We summarize how the instrument design choices and parameters enable the main science drivers as well as a broad and vibrant GO program.         |"
      ],
      "text/plain": [
       "[2509.01800] The Far-Infrared Enhanced Survey Spectrometer (FIRESS) for PRIMA: Science Drivers\n",
       "\tK. M. Pontoppidan, et al. -- incl., <mark>T. Henning</mark>, <mark>O. Krause</mark>"
      ]
     },
     "metadata": {},
     "output_type": "display_data"
    },
    {
     "data": {
      "text/markdown": [
       "\n",
       "|||\n",
       "|---:|:---|\n",
       "| [![arXiv](https://img.shields.io/badge/arXiv-2509.01937-b31b1b.svg)](https://arxiv.org/abs/2509.01937) | **Radiative Transfer Modeling of a Shadowed Protoplanetary Disk assisted by a Neural Network**  |\n",
       "|| J. P. Williams, et al. -- incl., <mark>M. Benisty</mark> |\n",
       "|*Appeared on*| *2025-09-03*|\n",
       "|*Comments*| *accepted for publication in the Astrophysical Journal*|\n",
       "|**Abstract**|            We present observations and detailed modeling of a protoplanetary disk around the T Tauri star, V1098 Sco. Millimeter wavelength data from the Atacama Large Millimeter Array (ALMA) show a ring of large dust grains with a central cavity that is filled with molecular gas. Near-infrared data with the Very Large Telescope (VLT) detect the scattered starlight from the disk surface and reveal a large shadow that extends over it's entire southern half. We model the ALMA continuum and line data to determine the outer disk geometry and the central stellar mass. Using radiative transfer models, we demonstrate that a misaligned inner disk, tilted in both inclination and position angle with respect to the outer disk, can reproduce the salient scattered light features seen with the VLT. Applying an image threshold algorithm to compare disk morphologies and training a neural network on a set of high signal-to-noise models, we forward model the data and determine the inner disk geometry. We find that the rotation axes of the inner and outer disks are misaligned by 38 degrees and constrain the mass and location of a perturbing planetary or substellar companion. The technique of simulation based inference that is illustrated here is broadly applicable for radiative transfer modeling of other objects.         |"
      ],
      "text/plain": [
       "[2509.01937] Radiative Transfer Modeling of a Shadowed Protoplanetary Disk assisted by a Neural Network\n",
       "\tJ. P. Williams, et al. -- incl., <mark>M. Benisty</mark>"
      ]
     },
     "metadata": {},
     "output_type": "display_data"
    },
    {
     "data": {
      "text/markdown": [
       "## Failed papers"
      ],
      "text/plain": [
       "<IPython.core.display.Markdown object>"
      ]
     },
     "metadata": {},
     "output_type": "display_data"
    },
    {
     "data": {
      "text/markdown": [
       "\n",
       "|||\n",
       "|---:|:---|\n",
       "| [![arXiv](https://img.shields.io/badge/arXiv-2509.01727-b31b1b.svg)](https://arxiv.org/abs/2509.01727) | **PRIMA: PRIMAger, a far-infrared hyperspectral and polarimetric instrument**  |\n",
       "|| L. Ciesla, et al. -- incl., <mark>O. Krause</mark> |\n",
       "|*Appeared on*| *2025-09-03*|\n",
       "|*Comments*| *Published in the PRIMA special issue of JATIS*|\n",
       "|**Abstract**|            The PRobe far-Infrared Mission for Astrophysics (PRIMA) is an infrared observatory for the next decade, currently in Phase A, with a 1.8m telescope actively cooled to 4.5K. On board, an infrared camera, PRIMAger, equipped with ultra-sensitive kinetic inductance detector (KID) arrays, will provide observers with coverage of mid-infrared to far-infrared wavelengths from 24 to 264 microns. PRIMAger will offer two imaging modes: the Hyperspectral mode will cover the 24-84 microns wavelength range with a spectral resolution R=8, while the Polarimetric mode will provide polarimetric imaging in 4 broad bands, from 80 to 264 microns. These observational capabilities have been tailored to answer fundamental astrophysical questions such as black hole and star-formation co-evolution in galaxies, the evolution of small dust grains over a wide range of redshifts, and the effects of interstellar magnetic fields in various environments, as well as to open a vast discovery space with versatile photometric and polarimetric capabilities. PRIMAger is being developed by an international collaboration bringing together French institutes (Laboratoire d'Astrophysique de Marseille and CEA) through the center National d'Etudes Spatiales (CNES, France), the Netherlands Institute for Space Research (SRON, Netherlands), and the Cardiff University (UK) in Europe, as well as the Jet Propulsion Laboratory (JPL) and Goddard Space Flight Center (GSFC) in the USA.         |\n",
       "|<p style=\"color:green\"> **ERROR** </p>| <p style=\"color:green\">affiliation error: mpia.affiliation_verifications: '69117' keyword not found.</p> |"
      ],
      "text/plain": [
       "<IPython.core.display.Markdown object>"
      ]
     },
     "metadata": {},
     "output_type": "display_data"
    },
    {
     "data": {
      "text/markdown": [
       "\n",
       "|||\n",
       "|---:|:---|\n",
       "| [![arXiv](https://img.shields.io/badge/arXiv-2509.00410-b31b1b.svg)](https://arxiv.org/abs/2509.00410) | **Two-sided-loop jet originates from the filament internal reconnection**  |\n",
       "|| Y. Huang, et al. -- incl., <mark>J. Li</mark> |\n",
       "|*Appeared on*| *2025-09-03*|\n",
       "|*Comments*| *15 pages, 5 figures, Accepted for Publication in RAA*|\n",
       "|**Abstract**|            Magnetic reconnection driving two-sided-loop jet is typically associated with interactions between an emerging bipole and the overlying horizontal magnetic field, or between filaments from separate magnetic systems. Leveraging high temporal and spatial resolution observations from ground-based and space-borne instruments, we have identified a two-sided-loop jet originating from magnetic reconnection between threads within a single filament. Our observations show that as two initially crossing filamentary threads within the filament converge, reconnection takes place at their intersection. In the Doppler images, distinct redshift and blueshift signals are observed at the locations where the filament threads intersected. This process generates a two-sided-loop jet with outflow speeds of \\speed{22.2} and \\speed{62.5}. Following reconnection, the original crossing threads transform into two parallel threads that subsequently separate at speeds of \\speed{2.8} and \\speed{8.3}. This observation offers a new perspective on the mechanisms responsible for jet formation.         |\n",
       "|<p style=\"color:green\"> **ERROR** </p>| <p style=\"color:green\">affiliation error: mpia.affiliation_verifications: 'Heidelberg' keyword not found.</p> |"
      ],
      "text/plain": [
       "<IPython.core.display.Markdown object>"
      ]
     },
     "metadata": {},
     "output_type": "display_data"
    },
    {
     "data": {
      "text/markdown": [
       "\n",
       "|||\n",
       "|---:|:---|\n",
       "| [![arXiv](https://img.shields.io/badge/arXiv-2509.01069-b31b1b.svg)](https://arxiv.org/abs/2509.01069) | **A magnetic white dwarf formed through a binary merger within 35 million years**  |\n",
       "|| H. Yan, et al. -- incl., <mark>X. Zhang</mark> |\n",
       "|*Appeared on*| *2025-09-03*|\n",
       "|*Comments*| *16 pages, 9 figures, accepted for publication in ApJ Letters*|\n",
       "|**Abstract**|            White dwarfs (WDs) represent the final evolutionary stage of most stars, typically originating from progenitor stars with masses below approximately 8 $M_{\\odot}$ to 10 $M_{\\odot}$. Formation through single-star evolution generally requires at least 25 Myr, with the youngest WDs often near the Chandrasekhar limit of 1.4 $M_{\\odot}$. In contrast, WDs formed via binary channels, such as mergers or mass transfer, can develop smaller masses in a shorter timescale and may exhibit unique characteristics, including strong surface magnetic fields and rapid rotation. Accurately determining the ages of these WDs is essential for understanding their formation. A valuable method involves studying WDs in star clusters, where member stars share the same age and chemical composition, allowing for precise constraints on the formation times and metallicities of the WDs' progenitors. Here we report a WD found in the open cluster RSG 5, which is only 35 Myr old. The WD's mass is lower than 1.05 $M_{\\odot}$, indicating it may not have formed through single-star evolution. The WD possesses an exceptionally strong surface magnetic field ($\\ge 200$ MG), a short rotational period ($\\sim 6.5$ min), and, most notably, a co-rotating half-ring of ionized circumstellar debris. This distinctive feature provides evidence for a binary merger origin, a scenario further substantiated by our stellar evolution models.         |\n",
       "|<p style=\"color:green\"> **ERROR** </p>| <p style=\"color:green\">affiliation error: mpia.affiliation_verifications: 'Planck' keyword not found.</p> |"
      ],
      "text/plain": [
       "<IPython.core.display.Markdown object>"
      ]
     },
     "metadata": {},
     "output_type": "display_data"
    },
    {
     "data": {
      "text/markdown": [
       "\n",
       "|||\n",
       "|---:|:---|\n",
       "| [![arXiv](https://img.shields.io/badge/arXiv-2509.01904-b31b1b.svg)](https://arxiv.org/abs/2509.01904) | **The ALMA-QUARKS survey: Extensive detection of acetamide in multiple high-mass star-forming regions**  |\n",
       "|| C. Duan, et al. -- incl., <mark>F. Xu</mark> |\n",
       "|*Appeared on*| *2025-09-03*|\n",
       "|*Comments*| *10 pages, 8 figures, 3 tables, accepted for publication in A&A*|\n",
       "|**Abstract**|            Acetamide (CH$_{3}$CONH$_{2}$), a key interstellar amide and a methyl derivative of formamide (NH$_{2}$CHO), has been sparsely detected, limiting insights into its prebiotic relevance. We present the first systematic survey for acetamide toward 52 hot molecular cores using ALMA Band 6 data. Acetamide has been detected in 10 cores, markedly expanding the inventory of known emitters. The derived column densities of acetamide range from $(2.5\\pm0.9)\\times10^{14}$ to $(1.5\\pm0.6)\\times10^{16}$ cm$^{-2}$, compared to formamide's $(1.1\\pm0.1)\\times10^{15}$ to $(6.9\\pm0.4)\\times10^{16}$ cm$^{-2}$. The nearly constant abundance ratios (~3-9) and strong abundance correlation between the two amides across sources suggest a chemically linked formation pathway, likely on grain surfaces. The presence of peptide-like molecules in these regions implies that complex organic species can survive star formation processes, offering a potential pathway toward prebiotic chemistry. These findings constrain the dominant grain surface formation routes of acetamide, confirm its broader prevalence in highmass star-forming regions, and underscore the importance of targeted amide surveys in tracing the chemical evolution toward prebiotic complexity.         |\n",
       "|<p style=\"color:red\"> **ERROR** </p>| <p style=\"color:red\">latex error HTTP Error 404: Not Found</p> |"
      ],
      "text/plain": [
       "<IPython.core.display.Markdown object>"
      ]
     },
     "metadata": {},
     "output_type": "display_data"
    },
    {
     "data": {
      "text/markdown": [
       "\n",
       "|||\n",
       "|---:|:---|\n",
       "| [![arXiv](https://img.shields.io/badge/arXiv-2509.02128-b31b1b.svg)](https://arxiv.org/abs/2509.02128) | **First JWST thermal phase curves of temperate terrestrial exoplanets reveal no thick atmosphere around TRAPPIST-1 b and c**  |\n",
       "|| M. Gillon, et al. -- incl., <mark>L. Kreidberg</mark> |\n",
       "|*Appeared on*| *2025-09-03*|\n",
       "|*Comments*| *72 pages, 4 main text Figures, 20 Extended Data Figures, 6 Supplementary Figures. Accepted for publication in Nature Astronomy*|\n",
       "|**Abstract**|            We report JWST/MIRI 15 $\\mu$m phase curves of TRAPPIST-1 b and c, revealing thermal emission consistent with their irradiation levels, assuming no efficient heat redistribution. We find that TRAPPIST-1 b shows a high dayside brightness temperature (490 $\\pm$ 17 K), no significantly detectable nightside emission ($F_{\\rm b, Night, max}$ = $39_{-27}^{+55}$ ppm), and no phase offset -- features consistent with a low-albedo, airless ultramafic rocky surface. TRAPPIST-1 c exhibits a lower dayside brightness temperature (369 $\\pm$ 23 K), and a nightside flux statistically indistinguishable from that of TRAPPIST-1 b ($F_{\\rm c, Night, max}$ = $62_{-43}^{+60}$ ppm). Atmosphere models with surface pressures $\\geq$1 bar and efficient greenhouse effects are strongly disfavoured for both planets. TRAPPIST-1 b is unlikely to possess any substantial atmosphere, while TRAPPIST-1 c may retain a tenuous, greenhouse-poor O$_2$-dominated atmosphere or be similarly airless with a more reflective surface. These results suggest divergent evolutionary pathways or atmospheric loss processes, despite similar compositions. These measurements tightly constrain atmosphere retention in the inner TRAPPIST-1 system.         |\n",
       "|<p style=\"color:red\"> **ERROR** </p>| <p style=\"color:red\">latex error HTTP Error 404: Not Found</p> |"
      ],
      "text/plain": [
       "<IPython.core.display.Markdown object>"
      ]
     },
     "metadata": {},
     "output_type": "display_data"
    },
    {
     "data": {
      "text/markdown": [
       "\n",
       "|||\n",
       "|---:|:---|\n",
       "| [![arXiv](https://img.shields.io/badge/arXiv-2509.01545-b31b1b.svg)](https://arxiv.org/abs/2509.01545) | **Complex spectral variability and hints of a luminous companion in the Be star + black hole binary candidate ALS 8814**  |\n",
       "|| <mark>K. El-Badry</mark>, et al. -- incl., <mark>R. Seeburger</mark> |\n",
       "|*Appeared on*| *2025-09-03*|\n",
       "|*Comments*| *14 pages, 10 figures. Accepted to OJAp*|\n",
       "|**Abstract**|            The emission-line binary ALS 8814 was recently proposed as a Be star + black hole (BH) binary based on large-amplitude radial velocity (RV) variations of a Be star and non-detection of spectroscopic features from a luminous companion. We reanalyze low- and medium-resolution LAMOST spectra of ALS 8814 and show that the system's spectroscopic variability is considerably more complex than previously recognized. Inspection of the system's trailed spectra reveals the presence of a second set of absorption lines that move in anti-phase with the Be star. In addition, the emission and absorption lines exhibit inconsistent RV variability, suggesting that they trace different stars. Using spectral disentangling, we recover the spectrum of a rapidly rotating companion whose broad, shallow lines were previously undetected. Time-variability in the emission lines complicates interpretation of the disentangled spectrum, such that the physical parameters of the components are still uncertain, but we find with simulations that emission line variability alone is unlikely to explain all signatures of the companion. The system's high Gaia RUWE value suggests a third luminous companion, making ALS 8814 a likely hierarchical triple. Although it is unlikely to contain a BH, the system is unusual, with the largest RV semi-amplitude observed in any known classical Be star and a companion that does not appear to be stripped. More extensive spectroscopic monitoring and high-resolution imaging will be necessary to fully characterize the system's orbital architecture, stellar parameters, and evolutionary status.         |\n",
       "|<p style=\"color:red\"> **ERROR** </p>| <p style=\"color:red\">latex error expected string or bytes-like object</p> |"
      ],
      "text/plain": [
       "<IPython.core.display.Markdown object>"
      ]
     },
     "metadata": {},
     "output_type": "display_data"
    }
   ],
   "source": [
    "import datetime\n",
    "today = str(datetime.date.today())\n",
    "logfile = f\"_build/html/logs/log-{today}.md\"\n",
    "\n",
    "\n",
    "with open(logfile, 'w') as logs:\n",
    "    # Success\n",
    "    logs.write(f'# Arxiv on Deck 2: Logs - {today}\\n\\n')\n",
    "    logs.write(\"\"\"* Arxiv had {0:,d} new papers\\n\"\"\".format(len(new_papers)))\n",
    "    logs.write(\"\"\"    * {0:,d} with possible author matches\\n\\n\"\"\".format(len(candidates)))\n",
    "    logs.write(\"## Sucessful papers\\n\\n\")\n",
    "    display(Markdown(\"## Successful papers\"))\n",
    "    success = [k[0] for k in documents]\n",
    "    for candid in candidates:\n",
    "        if candid['identifier'].split(':')[-1] in success:\n",
    "            display(candid)\n",
    "            logs.write(candid.generate_markdown_text() + '\\n\\n')\n",
    "\n",
    "    ## failed\n",
    "    logs.write(\"## Failed papers\\n\\n\")\n",
    "    display(Markdown(\"## Failed papers\"))\n",
    "    failed = sorted(failed, key=lambda x: x[1])\n",
    "    current_reason = \"\"\n",
    "    for paper, reason in failed:\n",
    "        if 'affiliation' in reason:\n",
    "            color = 'green'\n",
    "        else:\n",
    "            color = 'red'\n",
    "        data = Markdown(\n",
    "                paper.generate_markdown_text() + \n",
    "                f'\\n|<p style=\"color:{color:s}\"> **ERROR** </p>| <p style=\"color:{color:s}\">{reason:s}</p> |'\n",
    "               )\n",
    "        if reason != current_reason:\n",
    "            logs.write(f'### {reason:s} \\n\\n')\n",
    "            current_reason = reason\n",
    "        logs.write(data.data + '\\n\\n')\n",
    "        \n",
    "        # only display here the important errors (all in logs)\n",
    "        # if color in ('red',):\n",
    "        display(data)"
   ]
  },
  {
   "cell_type": "markdown",
   "id": "472d20ee",
   "metadata": {
    "papermill": {
     "duration": 0.005881,
     "end_time": "2025-09-03T04:13:47.951390",
     "exception": false,
     "start_time": "2025-09-03T04:13:47.945509",
     "status": "completed"
    },
    "tags": []
   },
   "source": [
    "## Export documents\n",
    "\n",
    "We now write the .md files and export relevant images"
   ]
  },
  {
   "cell_type": "code",
   "execution_count": 7,
   "id": "d426aed9",
   "metadata": {
    "execution": {
     "iopub.execute_input": "2025-09-03T04:13:47.964431Z",
     "iopub.status.busy": "2025-09-03T04:13:47.964214Z",
     "iopub.status.idle": "2025-09-03T04:13:47.971120Z",
     "shell.execute_reply": "2025-09-03T04:13:47.970557Z"
    },
    "papermill": {
     "duration": 0.014354,
     "end_time": "2025-09-03T04:13:47.972087",
     "exception": false,
     "start_time": "2025-09-03T04:13:47.957733",
     "status": "completed"
    },
    "tags": []
   },
   "outputs": [],
   "source": [
    "def export_markdown_summary(md: str, md_fname:str, directory: str):\n",
    "    \"\"\"Export MD document and associated relevant images\"\"\"\n",
    "    import os\n",
    "    import shutil\n",
    "    import re\n",
    "\n",
    "    if (os.path.exists(directory) and not os.path.isdir(directory)):\n",
    "        raise RuntimeError(f\"a non-directory file exists with name {directory:s}\")\n",
    "\n",
    "    if (not os.path.exists(directory)):\n",
    "        print(f\"creating directory {directory:s}\")\n",
    "        os.mkdir(directory)\n",
    "\n",
    "    fig_fnames = (re.compile(r'\\[Fig.*\\]\\((.*)\\)').findall(md) + \n",
    "                  re.compile(r'\\<img src=\"([^>\\s]*)\"[^>]*/>').findall(md))\n",
    "    print(\"found figures\", fig_fnames)\n",
    "    for fname in fig_fnames:\n",
    "        if 'http' in fname:\n",
    "            # No need to copy online figures\n",
    "            continue\n",
    "        if not os.path.exists(fname):\n",
    "            print(\"file not found\", fname)\n",
    "            continue\n",
    "        print(\"copying \", fname, \"to\", directory)\n",
    "        destdir = os.path.join(directory, os.path.dirname(fname))\n",
    "        destfname = os.path.join(destdir, os.path.basename(fname))\n",
    "        try:\n",
    "            os.makedirs(destdir)\n",
    "        except FileExistsError:\n",
    "            pass\n",
    "        shutil.copy(fname, destfname)\n",
    "    with open(os.path.join(directory, md_fname), 'w') as fout:\n",
    "        fout.write(md)\n",
    "    print(\"exported in \", os.path.join(directory, md_fname))\n",
    "    [print(\"    + \" + os.path.join(directory,fk)) for fk in fig_fnames]"
   ]
  },
  {
   "cell_type": "code",
   "execution_count": 8,
   "id": "014d04a4",
   "metadata": {
    "execution": {
     "iopub.execute_input": "2025-09-03T04:13:47.984836Z",
     "iopub.status.busy": "2025-09-03T04:13:47.984644Z",
     "iopub.status.idle": "2025-09-03T04:13:47.996801Z",
     "shell.execute_reply": "2025-09-03T04:13:47.996223Z"
    },
    "papermill": {
     "duration": 0.019618,
     "end_time": "2025-09-03T04:13:47.997797",
     "exception": false,
     "start_time": "2025-09-03T04:13:47.978179",
     "status": "completed"
    },
    "tags": []
   },
   "outputs": [
    {
     "name": "stdout",
     "output_type": "stream",
     "text": [
      "found figures ['tmp_2509.01668/./Fig_classification.png', 'tmp_2509.01668/./Fig_methodology.png', 'tmp_2509.01668/./Fig_histogram.png']\n",
      "copying  tmp_2509.01668/./Fig_classification.png to _build/html/\n",
      "copying  tmp_2509.01668/./Fig_methodology.png to _build/html/\n",
      "copying  tmp_2509.01668/./Fig_histogram.png to _build/html/\n",
      "exported in  _build/html/2509.01668.md\n",
      "    + _build/html/tmp_2509.01668/./Fig_classification.png\n",
      "    + _build/html/tmp_2509.01668/./Fig_methodology.png\n",
      "    + _build/html/tmp_2509.01668/./Fig_histogram.png\n",
      "found figures ['tmp_2509.01800/./ppd_jatis.png', 'tmp_2509.01800/./galaxy_tracers.png', 'tmp_2509.01800/./OH_sim.png']\n",
      "copying  tmp_2509.01800/./ppd_jatis.png to _build/html/\n",
      "copying  tmp_2509.01800/./galaxy_tracers.png to _build/html/\n",
      "copying  tmp_2509.01800/./OH_sim.png to _build/html/\n",
      "exported in  _build/html/2509.01800.md\n",
      "    + _build/html/tmp_2509.01800/./ppd_jatis.png\n",
      "    + _build/html/tmp_2509.01800/./galaxy_tracers.png\n",
      "    + _build/html/tmp_2509.01800/./OH_sim.png\n",
      "found figures ['tmp_2509.01937/./representative_models.png', 'tmp_2509.01937/./eddy_fit.png', 'tmp_2509.01937/./mask_comparison.png']\n",
      "copying  tmp_2509.01937/./representative_models.png to _build/html/\n",
      "copying  tmp_2509.01937/./eddy_fit.png to _build/html/\n",
      "copying  tmp_2509.01937/./mask_comparison.png to _build/html/\n",
      "exported in  _build/html/2509.01937.md\n",
      "    + _build/html/tmp_2509.01937/./representative_models.png\n",
      "    + _build/html/tmp_2509.01937/./eddy_fit.png\n",
      "    + _build/html/tmp_2509.01937/./mask_comparison.png\n"
     ]
    }
   ],
   "source": [
    "for paper_id, md in documents:\n",
    "    export_markdown_summary(md, f\"{paper_id:s}.md\", '_build/html/')"
   ]
  },
  {
   "cell_type": "markdown",
   "id": "f087a0a7",
   "metadata": {
    "papermill": {
     "duration": 0.006032,
     "end_time": "2025-09-03T04:13:48.010306",
     "exception": false,
     "start_time": "2025-09-03T04:13:48.004274",
     "status": "completed"
    },
    "tags": []
   },
   "source": [
    "## Display the papers\n",
    "\n",
    "Not necessary but allows for a quick check."
   ]
  },
  {
   "cell_type": "code",
   "execution_count": 9,
   "id": "fd25f625",
   "metadata": {
    "execution": {
     "iopub.execute_input": "2025-09-03T04:13:48.022970Z",
     "iopub.status.busy": "2025-09-03T04:13:48.022757Z",
     "iopub.status.idle": "2025-09-03T04:13:48.029912Z",
     "shell.execute_reply": "2025-09-03T04:13:48.029401Z"
    },
    "papermill": {
     "duration": 0.014625,
     "end_time": "2025-09-03T04:13:48.030880",
     "exception": false,
     "start_time": "2025-09-03T04:13:48.016255",
     "status": "completed"
    },
    "scrolled": false,
    "tags": []
   },
   "outputs": [
    {
     "data": {
      "text/markdown": [
       "<div class=\"macros\" style=\"visibility:hidden;\">\n",
       "$\\newcommand{\\ensuremath}{}$\n",
       "$\\newcommand{\\xspace}{}$\n",
       "$\\newcommand{\\object}[1]{\\texttt{#1}}$\n",
       "$\\newcommand{\\farcs}{{.}''}$\n",
       "$\\newcommand{\\farcm}{{.}'}$\n",
       "$\\newcommand{\\arcsec}{''}$\n",
       "$\\newcommand{\\arcmin}{'}$\n",
       "$\\newcommand{\\ion}[2]{#1#2}$\n",
       "$\\newcommand{\\textsc}[1]{\\textrm{#1}}$\n",
       "$\\newcommand{\\hl}[1]{\\textrm{#1}}$\n",
       "$\\newcommand{\\footnote}[1]{}$\n",
       "$\\newcommand{\\re}{\\ensuremath{r_\\mathrm{e}}}$\n",
       "$\\newcommand{\\SigStar}{\\ensuremath{\\Sigma_\\mathrm{\\star}}}$\n",
       "$\\newcommand{\\SigMol}{\\ensuremath{\\Sigma_\\mathrm{mol}}}$\n",
       "$\\newcommand{\\SigSFR}{\\ensuremath{\\Sigma_\\mathrm{SFR}}}$\n",
       "$\\newcommand{\\tdep}{\\ensuremath{\\tau_\\mathrm{dep}}}$\n",
       "$\\newcommand{\\hi}{\\ion{H}{I}}$\n",
       "$\\newcommand{\\hii}{\\ion{H}{II}}$\n",
       "$\\newcommand{\\OSU}{\\label{OSU} Department of Astronomy, The Ohio State University, 140 West 18th Avenue, Columbus, Ohio 43210, USA}$\n",
       "$\\newcommand{\\Alberta}{\\label{Alberta} Department of Physics, University of Alberta, Edmonton, AB T6G 2E1, Canada}$\n",
       "$\\newcommand{\\ANU}{\\label{ANU} Research School of Astronomy and Astrophysics, Australian National University, Canberra, ACT 2611, Australia}$\n",
       "$\\newcommand{\\IPAC}{\\label{IPAC} Caltech-IPAC, 1200 E. California Blvd. Pasadena, CA 91125, USA}$\n",
       "$\\newcommand{\\Carnegie}{\\label{Carnegi} Observatories of the Carnegie Institution for Science, 813 Santa Barbara Street, Pasadena, CA 91101, USA}$\n",
       "$\\newcommand{ÇAPP}{\\label{CCAPP} Center for Cosmology and Astroparticle Physics, 191 West Woodruff Avenue, Columbus, OH 43210, USA}$\n",
       "$\\newcommand{\\CfA}{\\label{CfA} Harvard-Smithsonian Center for Astrophysics, 60 Garden Street, Cambridge, MA 02138, USA}$\n",
       "$\\newcommand{\\CITEVA}{\\label{CITEVA} Centro de Astronomía (CITEVA), Universidad de Antofagasta, Avenida Angamos 601, Antofagasta, Chile}$\n",
       "$\\newcommand{\\CNRS}{\\label{CNRS} CNRS, IRAP, 9 Av. du Colonel Roche, BP 44346, F-31028 Toulouse cedex 4, France}$\n",
       "$\\newcommand{\\ESO}{\\label{ESO} European Southern Observatory, Karl-Schwarzschild Stra{\\ss}e 2, D-85748 Garching bei München, Germany}$\n",
       "$\\newcommand{\\Heidelberg}{\\label{Heidelberg} Astronomisches Rechen-Institut, Zentrum für Astronomie der Universität Heidelberg, Mönchhofstra\\ss e 12-14, D-69120 Heidelberg, Germany}$\n",
       "$\\newcommand{\\COOL}{\\label{COOL} Cosmic Origins Of Life (COOL) Research DAO, coolresearch.io}$\n",
       "$\\newcommand{\\ICRAR}{\\label{ICRAR} International Centre for Radio Astronomy Research, University of Western Australia, 35 Stirling Highway, Crawley, WA 6009, Australia}$\n",
       "$\\newcommand{\\IRAM}{\\label{IRAM} Institut de Radioastronomie Millimétrique (IRAM), 300 Rue de la Piscine, F-38406 Saint Martin d'Hères, France}$\n",
       "$\\newcommand{\\IRAP}{\\label{IRAP} IRAP, OMP, Université de Toulouse, 9 Av. du Colonel Roche, BP 44346, F-31028 Toulouse cedex 4, France}$\n",
       "$\\newcommand{\\ITA}{\\label{ITA} Universität Heidelberg, Zentrum für Astronomie, Institut für Theoretische Astrophysik, Albert-Ueberle-Str 2, D-69120 Heidelberg, Germany}$\n",
       "$\\newcommand{\\IWR}{\\label{IWR} Universität Heidelberg, Interdisziplinäres Zentrum für Wissenschaftliches Rechnen, Im Neuenheimer Feld 205, D-69120 Heidelberg, Germany}$\n",
       "$\\newcommand{\\JHU}{\\label{JHU} Department of Physics and Astronomy, The Johns Hopkins University, Baltimore, MD 21218, USA}$\n",
       "$\\newcommand{\\Leiden}{\\label{Leiden} Leiden Observatory, Leiden University, P.O. Box 9513, 2300 RA Leiden, The Netherlands}$\n",
       "$\\newcommand{\\Maryland}{\\label{Maryland} Department of Astronomy, University of Maryland, College Park, MD 20742, USA}$\n",
       "$\\newcommand{\\MPE}{\\label{MPE} Max-Planck-Institut für extraterrestrische Physik, Giessenbachstra{\\ss}e 1, D-85748 Garching, Germany}$\n",
       "$\\newcommand{\\MPIA}{\\label{MPIA} Max-Planck-Institut für Astronomie, Königstuhl 17, D-69117, Heidelberg, Germany}$\n",
       "$\\newcommand{\\Nagoya}{\\label{Nagoya} Department of Physics, Nagoya University, Furo-cho, Chikusa-ku, Nagoya, Aichi 464-8602, Japan}$\n",
       "$\\newcommand{\\NRAO}{\\label{NRAO} National Radio Astronomy Observatory, 520 Edgemont Road, Charlottesville, VA 22903-2475, USA}$\n",
       "$\\newcommand{\\NRAOAb}{\\label{NRAOAb} National Radio Astronomy Observatory, 800 Bradbury SE, Suite 235, Albuquerque, NM 87106, USA}$\n",
       "$\\newcommand{\\OAN}{\\label{OAN} Observatorio Astronómico Nacional (IGN), C/Alfonso XII, 3, E-28014 Madrid, Spain}$\n",
       "$\\newcommand{\\ObsParis}{\\label{ObsParis} Sorbonne Université, Observatoire de Paris, Université PSL, CNRS, LERMA, F-75014, Paris, France}$\n",
       "$\\newcommand{\\Princeton}{\\label{Princeton} Department of Astrophysical Sciences, Princeton University, 4 Ivy Ln., Princeton, NJ 08544 USA}$\n",
       "$\\newcommand{\\UToledo}{\\label{UToledo} University of Toledo, 2801 W. Bancroft St., Mail Stop 111, Toledo, OH, 43606}$\n",
       "$\\newcommand{\\Toulouse}{\\label{Toulouse} Université de Toulouse, UPS-OMP, IRAP, F-31028 Toulouse cedex 4, France}$\n",
       "$\\newcommand{\\UBonn}{\\label{UBonn} Argelander-Institut für Astronomie, Universität Bonn, Auf dem Hügel 71, 53121 Bonn, Germany}$\n",
       "$\\newcommand{\\UChile}{\\label{UChile} Departamento de Astronomía, Universidad de Chile, Camino del Observatorio 1515, Las Condes, Santiago, Chile}$\n",
       "$\\newcommand{\\UConn}{\\label{UConn} Department of Physics, University of Connecticut, Storrs, CT, 06269, USA}$\n",
       "$\\newcommand{\\UCSD}{\\label{UCSD} Center for Astrophysics and Space Sciences, Department of Physics,  University of California, San Diego, 9500 Gilman Drive, La Jolla, CA 92093, USA}$\n",
       "$\\newcommand{\\UCSDAA}{\\label{UCSDAA} Department of Astronomy \\& Astrophysics,  University of California, San Diego, 9500 Gilman Drive, La Jolla, CA 92093, USA}$\n",
       "$\\newcommand{\\UGent}{\\label{UGent} Sterrenkundig Observatorium, Universiteit Gent, Krijgslaan 281 S9, B-9000 Gent, Belgium}$\n",
       "$\\newcommand{\\ULyon}{\\label{ULyon} Univ Lyon, Univ Lyon 1, ENS de Lyon, CNRS, Centre de Recherche Astrophysique de Lyon UMR5574, F-69230 Saint-Genis-Laval, France}$\n",
       "$\\newcommand{\\UMass}{\\label{UMass} University of Massachusetts—Amherst, 710 N. Pleasant Street, Amherst, MA 01003, USA}$\n",
       "$\\newcommand{\\UWyoming}{\\label{UWyoming} Department of Physics and Astronomy, University of Wyoming, Laramie, WY 82071, USA}$\n",
       "$\\newcommand{\\LAM}{\\label{LAM} Aix Marseille Univ, CNRS, CNES, LAM (Laboratoire d’Astrophysique de Marseille), Marseille, France}$\n",
       "$\\newcommand{\\UHawaii}{\\label{UHawaii} Institute for Astronomy, University of Hawaii, 2680 Woodlawn Drive, Honolulu, HI 96822, USA}$\n",
       "$\\newcommand{\\UCM}{\\label{UCM} Departamento de Física de la Tierra y Astrofísica, Universidad Complutense de Madrid, E-28040, Spain}$\n",
       "$\\newcommand{\\IPARC}{\\label{IPARC} Instituto de Física de Partículas y del Cosmos IPARCOS, Facultad de Ciencias Físicas, Universidad Complutense de Madrid, E-28040, Spain}$\n",
       "$\\newcommand{\\UCT}{\\label{UCT} Department of Astronomy, University of Cape Town, Rondebosch 7701, South Africa}$\n",
       "$\\newcommand{\\STScI}{\\label{STScI} Space Telescope Science Institute, 3700 San Martin Drive, Baltimore, MD 21218, USA}$\n",
       "$\\newcommand{\\esaSTScI}{\\label{esaSTScI} AURA for the European Space Agency (ESA), ESA Office, Space Telescope Science Institute, 3700 San Martin Drive, Baltimore, MD 21218, USA}$\n",
       "$\\newcommand{\\McMaster}{\\label{McMaster} Department of Physics and Astronomy, McMaster University, 1280 Main Street West, Hamilton, ON L8S 4M1, Canada}$\n",
       "$\\newcommand{\\INAF}{\\label{INAF} INAF -- Osservatorio Astrofisico di Arcetri, Largo E. Fermi 5, I-50157, Firenze, Italy}$\n",
       "$\\newcommand{\\Sydney}{\\label{Sydney} Sydney Institute for Astronomy, School of Physics A28, The University of Sydney, NSW 2006, Australia}$\n",
       "$\\newcommand{\\UA}{\\label{UA} Centro de Astronomía (CITEVA), Universidad de Antofagasta, Avenida Angamos 601, Antofagasta, Chile}$\n",
       "$\\newcommand{\\CITA}{\\label{CITA} Canadian Institute for Theoretical Astrophysics (CITA), University of Toronto, 60 St George St, Toronto, ON M5S 3H8, Canada}$\n",
       "$\\newcommand{\\ASIAA}{\\label{ASIAA} Institute of Astronomy and Astrophysics, Academia Sinica, No. 1, Sec. 4, Roosevelt Road, Taipei 10617, Taiwan}$\n",
       "$\\newcommand{\\TKU}{\\label{TKU} Department of Physics, Tamkang University, No.151, Yingzhuan Rd., Tamsui Dist., New Taipei City 251301, Taiwan}$\n",
       "$\\newcommand{\\PSMA}{\\label{PSMA} Penn State Mont Alto, 1 Campus Drive, Mont Alto, PA  17237, USA}$\n",
       "$\\newcommand{\\ILL}{\\label{ILL} Institut Laue-Langevin, 71 avenue des Martyrs, F-38042 Grenoble, France}$\n",
       "$\\newcommand{\\TUM}{\\label{TUM} Technical University of Munich, School of Engineering and Design, Department of Aerospace and Geodesy, Chair of Remote Sensing Technology, Arcisstr. 21, 80333 Munich, Germany}$\n",
       "$\\newcommand{\\Surrey}{\\label{Surrey} Department of Physics, University of Surrey, Guildford GU2 7XH, UK}$\n",
       "$\\newcommand{\\Oxford}{\\label{Oxford} Sub-department of Astrophysics, Department of Physics, University of Oxford, Keble Road, Oxford OX1 3RH, UK}$\n",
       "$\\newcommand{\\AIP}{\\label{AIP} Leibniz-Institut for Astrophysik Potsdam (AIP), An der Sternwarte 16, 14482 Potsdam, Germany}$\n",
       "$\\newcommand{\\StAndrews}{\\label{StAndrews} School of Physics and Astronomy, University of St Andrews, North Haugh, St Andrews, KY16 9SS, UK}$\n",
       "$\\newcommand{\\IAC}{\\label{IAC}{Instituto de Astrofísica de Canarias, C/ Vía Láctea s/n, E-38205, La Laguna, Spain}}$\n",
       "$\\newcommand{\\ULL}{\\label{ULL}{Departamento de Astrofísica, Universidad de La Laguna, Av. del Astrofísico Francisco Sánchez s/n, E-38206, La Laguna, Spain}}$\n",
       "$\\newcommand{\\insubria}{ \\label{insubria} Universit{à} dell’Insubria, via Valleggio 11, 22100 Como, Italy}$\n",
       "$\\newcommand{\\Radcliffe}{\\label{Radcliffe} Elizabeth S. and Richard M. Cashin Fellow at the Radcliffe Institute for Advanced Studies at Harvard University, 10 Garden Street, Cambridge, MA 02138, USA}$\n",
       "$\\newcommand{\\UniCA}{\\label{UniCA} Université Côte d'Azur, Observatoire de la Côte d'Azur, CNRS, Laboratoire Lagrange, 06000, Nice, France}$\n",
       "$\\newcommand{\\Shizuoka}{\\label{Shizuoka} Faculty of Global Interdisciplinary Science and Innovation, Shizuoka University, 836 Ohya, Suruga-ku, Shizuoka 422-8529, Japan}$\n",
       "$\\newcommand{\\PMO}{\\label{PMO}$\n",
       "$Purple Mountain Observatory, No. 10 Yuanhua Road, Qixia District, 210023 Nanjing, China}$\n",
       "$\\newcommand{\\Msun}{\\ifmmode{\\mathrm M_\\odot}\\else{M_\\odot}\\fi}$\n",
       "$\\newcommand\\action{#1}$\n",
       "$\\newcommand\\mod{#1}$\n",
       "$\\newcommand\\mq{#1}$\n",
       "$\\newcommand\\action{#1}$\n",
       "$\\newcommand{\\mqb}{\\vspace*{3mm} \\noindent \\bullet }$</div>\n",
       "\n",
       "\n",
       "\n",
       "<div id=\"title\">\n",
       "\n",
       "# Azimuthal offsets in spiral arms of nearby galaxies\n",
       "\n",
       "</div>\n",
       "<div id=\"comments\">\n",
       "\n",
       "[![arXiv](https://img.shields.io/badge/arXiv-2509.01668-b31b1b.svg)](https://arxiv.org/abs/2509.01668)<mark>Appeared on: 2025-09-03</mark> -  _21 pages, 8 figures. Accepted for publication in A&A_\n",
       "\n",
       "</div>\n",
       "<div id=\"authors\">\n",
       "\n",
       "M. Querejeta, et al. -- incl., <mark>E. Schinnerer</mark>, <mark>A. Hughes</mark>, <mark>K. Kreckel</mark>, <mark>J. Neumann</mark>\n",
       "\n",
       "</div>\n",
       "<div id=\"abstract\">\n",
       "\n",
       "**Abstract:** Spiral arms play a central role in disc galaxies, but their dynamical nature remains a long-standing open question. Azimuthal offsets between molecular gas and star formation are expected if gas crosses spiral arms, as predicted by quasi-stationary density wave theory. In this work, we measure offsets between CO and H $\\alpha$ peaks in radial bins for 24 galaxies from the PHANGS survey that display a well-delineated spiral structure. The offsets exhibit substantial scatter, implying that star formation is not exclusively initiated at a coherent spiral shock. We define offsets such that positive values mean H $\\alpha$ peaks lie ahead of CO peaks in the direction of galactic rotation. With this convention, 14 galaxies show mean positive CO-H $\\alpha$ offsets, typically of a few hundred parsecs. In four of these 14 galaxies (17 \\% of the total), offsets become smaller with increasing radius, as expected for a single quasi-stationary spiral density wave. Ten galaxies (42 \\% ) show positive mean offsets but no clear correlation with radius, which is compatible with multiple overlapping modes. In the remaining ten galaxies (42 \\% ), we find no significantly positive offsets, which could point to transient dynamical spirals or material arms, where gas and stars co-rotate with the spiral perturbation. Across the full sample, we find mostly positive offsets between CO peaks and the gravitational potential minimum, confirming that gas often crosses the spiral perturbation. For the four galaxies with clear positive offsets and a radial trend, we derived pattern speeds in good agreement with the literature. Overall, our results suggest that even well-delineated spirals in the local Universe can arise from a variety of underlying dynamical mechanisms.\n",
       "\n",
       "</div>\n",
       "\n",
       "<div id=\"div_fig1\">\n",
       "\n",
       "<img src=\"tmp_2509.01668/./Fig_classification.png\" alt=\"Fig6\" width=\"100%\"/>\n",
       "\n",
       "**Figure 6. -** Classification of galaxies in our sample into three categories depending on whether they show positive mean CO-H$\\alpha$ offsets or not and whether there is a significant trend with radius or not. \\mod{The error bars are smaller than the size of the plotted circles.} The solid lines show running means for individual galaxies plotted against radius normalised by $R_{25}$. All galaxies are barred except for NGC 628, NGC 1385, NGC 2090, NGC 2997, and NGC 4254. (*fig:classification*)\n",
       "\n",
       "</div>\n",
       "<div id=\"div_fig2\">\n",
       "\n",
       "<img src=\"tmp_2509.01668/./Fig_methodology.png\" alt=\"Fig3\" width=\"100%\"/>\n",
       "\n",
       "**Figure 3. -** Top: Illustration showing the expectations for a non-exhaustive list of three scenarios that explain spiral structure: a quasi-stationary density wave (constant pattern speed), multiple overlapping modes (i.e. different pattern speeds across the disc), and material arms (always made up of the same stars, all of which are by definition co-rotating) or dynamical spirals (transient features made up of rather short, unconnected segments). Middle panels: Expected histograms for the distribution of CO-H$\\alpha$ offsets ($\\theta$) as well as the expected mean offset. We define offsets such that positive values mean H$\\alpha$ peaks lie ahead of CO peaks in the direction of galactic rotation. For quasi-stationary density waves, we expect such offsets to be positive inside co-rotation and negative outside; however, since we sample mostly the inner parts of galaxies, the net offsets should typically be positive within our fields of view. The right panels indicate whether we should find a significant correlation between offsets and radius or not. Bottom: Illustration of how we measure azimuthal offsets in spiral arms in practice. For each radial bin (an elliptical annulus of width ${\\sim}100$ pc that accounts for the inclination and PA of the galaxy), we average the CO and H$\\alpha$ intensities in azimuthal bins. We then find the azimuth ($\\phi$) corresponding to the maximum of both tracers within the footprint of each spiral mask ($\\phi_{\\rm max}$). The angular difference between the bins of peak intensity yields the offset of interest, $\\theta$, at that radius. To account for galaxy rotation, if the galaxy rotates anti-clockwise, the offset $\\theta$ is multiplied by $\\eta = -1$.\n",
       " (*fig:method*)\n",
       "\n",
       "</div>\n",
       "<div id=\"div_fig3\">\n",
       "\n",
       "<img src=\"tmp_2509.01668/./Fig_histogram.png\" alt=\"Fig5\" width=\"100%\"/>\n",
       "\n",
       "**Figure 5. -** Histograms showing the distribution of the mean CO-H$\\alpha$ and CO-NIR offsets across the whole galaxy sample. Each histogram includes one mean offset per galaxy, computed by averaging all measured offsets for all radii (top), the inner half (middle, $R < (R_{\\rm min}^{\\rm CO} + R_{\\rm max}^{\\rm CO})/2$), and the outer half (bottom, $R \\ge (R_{\\rm min}^{\\rm CO} + R_{\\rm max}^{\\rm CO})/2$)).  (*fig:histo_CO-Ha*)\n",
       "\n",
       "</div><div id=\"qrcode\"><img src=https://api.qrserver.com/v1/create-qr-code/?size=100x100&data=\"https://arxiv.org/abs/2509.01668\"></div>"
      ],
      "text/plain": [
       "<IPython.core.display.Markdown object>"
      ]
     },
     "metadata": {},
     "output_type": "display_data"
    },
    {
     "data": {
      "text/markdown": [
       "<div class=\"macros\" style=\"visibility:hidden;\">\n",
       "$\\newcommand{\\ensuremath}{}$\n",
       "$\\newcommand{\\xspace}{}$\n",
       "$\\newcommand{\\object}[1]{\\texttt{#1}}$\n",
       "$\\newcommand{\\farcs}{{.}''}$\n",
       "$\\newcommand{\\farcm}{{.}'}$\n",
       "$\\newcommand{\\arcsec}{''}$\n",
       "$\\newcommand{\\arcmin}{'}$\n",
       "$\\newcommand{\\ion}[2]{#1#2}$\n",
       "$\\newcommand{\\textsc}[1]{\\textrm{#1}}$\n",
       "$\\newcommand{\\hl}[1]{\\textrm{#1}}$\n",
       "$\\newcommand{\\footnote}[1]{}$\n",
       "$\\newcommand{\\mnras}{MNRAS}$\n",
       "$\\newcommand{\\apj}{ApJ}$\n",
       "$\\newcommand{\\apjs}{ApJS}$\n",
       "$\\newcommand{\\apjl}{ApJL}$\n",
       "$\\newcommand{\\aap}{A\\&A}$\n",
       "$\\newcommand{\\nat}{Nature}$\n",
       "$\\newcommand{\\baas}{BAAS}$\n",
       "$\\newcommand{\\pasp}{PASP}$\n",
       "$\\newcommand{\\araa}{ARA\\&A}$\n",
       "$\\newcommand{\\ssr}{Space Science Reviews}$\n",
       "$\\newcommand{\\aapr}{The Astronomy \\& Astrophysics Review}$\n",
       "$\\newcommand{\\pasa}{PASA}$\n",
       "$\\newcommand{\\cftdotsep}{\\cftnodots}$</div>\n",
       "\n",
       "\n",
       "\n",
       "<div id=\"title\">\n",
       "\n",
       "# The Far-Infrared Enhanced Survey Spectrometer (FIRESS) for PRIMA: Science Drivers $\\footnote{\\copyright 2025. All rights reserved. }$\n",
       "\n",
       "</div>\n",
       "<div id=\"comments\">\n",
       "\n",
       "[![arXiv](https://img.shields.io/badge/arXiv-2509.01800-b31b1b.svg)](https://arxiv.org/abs/2509.01800)<mark>Appeared on: 2025-09-03</mark> -  _Accepted for publication in JATIS_\n",
       "\n",
       "</div>\n",
       "<div id=\"authors\">\n",
       "\n",
       "K. M. Pontoppidan, et al. -- incl., <mark>T. Henning</mark>, <mark>O. Krause</mark>\n",
       "\n",
       "</div>\n",
       "<div id=\"abstract\">\n",
       "\n",
       "**Abstract:** We present the science drivers for the Far-Infrared Enhanced Survey Spectrometer (FIRESS), one of two science instrument on the PRobe Infrared Mission for Astrophysics (PRIMA). FIRESS is designed to meet science objectives in the areas of the origins of planetary atmospheres, the co-evolution of galaxies and supermassive black holes, and the buildup of heavy elements in the Universe. In addition to these drivers, FIRESS is envisioned as a versatile far-infrared spectrometer, capable of addressing science questions in most areas of astrophysics and planetary astronomy as part of a dominant General Observer (GO) program with 2/3 of the current science cases using FIRESS. We summarize how the instrument design choices and parameters enable the main science drivers as well as a broad and vibrant GO program.\n",
       "\n",
       "</div>\n",
       "\n",
       "<div id=\"div_fig1\">\n",
       "\n",
       "<img src=\"tmp_2509.01800/./ppd_jatis.png\" alt=\"Fig1\" width=\"100%\"/>\n",
       "\n",
       "**Figure 1. -** The bulk composition of planets reflect that of their natal protoplanetary disks at the disk radii where planets accrete their mass. For rocky planets, the bulk composition will be that of the solids of the disk, whereas giant planet atmospheres derive their composition from the disk gas. The total abundance of the disk ([C/H] and [O/H]) as well as the carbon-to-oxygen ratio (C/O) as measured by PRIMA-FIRESS are key tracers of how disk chemical evolution shapes planetary atmospheres. (*fig:disk_cartoon*)\n",
       "\n",
       "</div>\n",
       "<div id=\"div_fig2\">\n",
       "\n",
       "<img src=\"tmp_2509.01800/./galaxy_tracers.png\" alt=\"Fig2\" width=\"100%\"/>\n",
       "\n",
       "**Figure 2. -** FIRESS is capable of measuring the abundances of PAHs at redshifts $z=2-5$ and unobscured tracers of star formation and black hole accretion rates at $z>1$.  (*fig:galaxy_tracers*)\n",
       "\n",
       "</div>\n",
       "<div id=\"div_fig3\">\n",
       "\n",
       "<img src=\"tmp_2509.01800/./OH_sim.png\" alt=\"Fig3\" width=\"100%\"/>\n",
       "\n",
       "**Figure 3. -** Simulation of a FIRESS high-resolution observation of OH absorption from a galactic wind. In this case, the resolving power is tuned to $R=900$ to optimize the sensitivity to the line profile. (*fig:oh*)\n",
       "\n",
       "</div><div id=\"qrcode\"><img src=https://api.qrserver.com/v1/create-qr-code/?size=100x100&data=\"https://arxiv.org/abs/2509.01800\"></div>"
      ],
      "text/plain": [
       "<IPython.core.display.Markdown object>"
      ]
     },
     "metadata": {},
     "output_type": "display_data"
    },
    {
     "data": {
      "text/markdown": [
       "<div class=\"macros\" style=\"visibility:hidden;\">\n",
       "$\\newcommand{\\ensuremath}{}$\n",
       "$\\newcommand{\\xspace}{}$\n",
       "$\\newcommand{\\object}[1]{\\texttt{#1}}$\n",
       "$\\newcommand{\\farcs}{{.}''}$\n",
       "$\\newcommand{\\farcm}{{.}'}$\n",
       "$\\newcommand{\\arcsec}{''}$\n",
       "$\\newcommand{\\arcmin}{'}$\n",
       "$\\newcommand{\\ion}[2]{#1#2}$\n",
       "$\\newcommand{\\textsc}[1]{\\textrm{#1}}$\n",
       "$\\newcommand{\\hl}[1]{\\textrm{#1}}$\n",
       "$\\newcommand{\\footnote}[1]{}$\n",
       "$\\newcommand{\\JW}[1]{{\\color{blue} \\bf JW; #1}}$\n",
       "$\\newcommand{\\MV}[1]{{\\color{green} \\bf MV; #1}}$\n",
       "$\\newcommand{\\MB}[1]{{\\color{red} \\bf MB; #1}}$\n",
       "$\\newcommand{\\CG}[1]{{\\color{orange} \\bf CG; #1}}$\n",
       "$\\newcommand{\\referee}[1]{{\\bf #1}}$\n",
       "$\\newcommand{\\kms}{\\mbox{{\\rm km~s^{-1}}}}$\n",
       "$\\newcommand{\\Kkms}{\\mbox{{\\rm K km~s^{-1}}}}$\n",
       "$\\newcommand{ç}{\\mbox{{\\rm cm^{-3}}}}$\n",
       "$\\newcommand{\\e}{\\mbox{^{-1}}}$\n",
       "$\\newcommand{\\ee}{\\mbox{^{-2}}}$\n",
       "$\\newcommand{\\eee}{\\mbox{^{-3}}}$\n",
       "$\\newcommand{\\cm2}{\\mbox{{\\rm cm^{-2}}}}$\n",
       "$\\newcommand{\\h2}{\\mbox{{\\rm H}_2}}$\n",
       "$\\newcommand{\\nh2}{\\mbox{n_{\\rm H_2}}}$\n",
       "$\\newcommand{\\Nh2}{\\mbox{N_{{\\rm H}_2}}}$\n",
       "$\\newcommand{\\Mh2}{\\mbox{M_{{\\rm H}_2}}}$\n",
       "$\\newcommand{\\Msun}{\\mbox{M_\\odot}}$\n",
       "$\\newcommand{\\Mearth}{\\mbox{M_\\oplus}}$\n",
       "$\\newcommand{\\farcs}{\\hbox{.\\!\\!^{\"}}}$\n",
       "$\\newcommand{\\farcm}{\\hbox{.\\!\\!^{'}}}$\n",
       "$\\newcommand{\\fs}{\\hbox{.\\!\\!^{\\rm s}}}$\n",
       "$\\newcommand{\\micron}{\\hbox{\\mum}}$\n",
       "$\\newcommand{\\simgt}{\\lower.5ex\\hbox{\\; \\buildrel > \\over \\sim \\;}}$\n",
       "$\\newcommand{\\simlt}{\\lower.5ex\\hbox{\\; \\buildrel < \\over \\sim \\;}}$\n",
       "$\\newcommand{\\pp}{\\noindent\\hangindent 20pt\\hangafter=1}$\n",
       "$\\newcommand{\\13CO}{^{13}CO}$\n",
       "$\\newcommand{\\C18O}{C^{18}O}$\n",
       "$\\newcommand{\\H2}{H_2}$\n",
       "$\\newcommand{\\Mdust}{\\mbox{M_{\\rm dust}}}$\n",
       "$\\newcommand{\\Mdisk}{\\mbox{M_{\\rm disk}}}$\n",
       "$\\newcommand{\\Tdust}{\\mbox{T_{\\rm dust}}}$\n",
       "$\\newcommand{\\Rtilt}{\\mbox{R_{\\rm tilt}}}$\n",
       "$\\newcommand{\\itilt}{\\mbox{i_{\\rm tilt}}}$\n",
       "$\\newcommand{\\PAtilt}{\\mbox{{\\rm PA}_{\\rm tilt}}}$</div>\n",
       "\n",
       "\n",
       "\n",
       "<div id=\"title\">\n",
       "\n",
       "# Radiative Transfer Modeling of a Shadowed Protoplanetary Disk assisted by a Neural Network\n",
       "\n",
       "</div>\n",
       "<div id=\"comments\">\n",
       "\n",
       "[![arXiv](https://img.shields.io/badge/arXiv-2509.01937-b31b1b.svg)](https://arxiv.org/abs/2509.01937)<mark>Appeared on: 2025-09-03</mark> -  _accepted for publication in the Astrophysical Journal_\n",
       "\n",
       "</div>\n",
       "<div id=\"authors\">\n",
       "\n",
       "J. P. Williams, et al. -- incl., <mark>M. Benisty</mark>\n",
       "\n",
       "</div>\n",
       "<div id=\"abstract\">\n",
       "\n",
       "**Abstract:** We present observations and detailed modeling of a protoplanetary disk around the T Tauri star, V1098 Sco. Millimeter wavelength data from the Atacama Large Millimeter Array (ALMA) show a ring of large dust grains with a central cavity that is filled with molecular gas. Near-infrared data with the Very Large Telescope (VLT) detect the scattered starlight from the disk surface and reveal a large shadow that extends over it's entire southern half. We model the ALMA continuum and line data to determine the outer disk geometry and the central stellar mass. Using radiative transfer models, we demonstrate that a misaligned inner disk, tilted in both inclination and position angle with respect to the outer disk, can reproduce the salient scattered light features seen with the VLT. Applying an image threshold algorithm to compare disk morphologies and training a neural network on a set of high signal-to-noise models, we forward model the data and determine the inner disk geometry. We find that the rotation axes of the inner and outer disks are misaligned by $38^\\circ$ and constrain the mass and location of a perturbing planetary or substellar companion. The technique of simulation based inference that is illustrated here is broadly applicable for radiative transfer modeling of other objects.\n",
       "\n",
       "</div>\n",
       "\n",
       "<div id=\"div_fig1\">\n",
       "\n",
       "<img src=\"tmp_2509.01937/./representative_models.png\" alt=\"Fig12\" width=\"100%\"/>\n",
       "\n",
       "**Figure 12. -** A representative set of images showcasing the range of scattered light morphologies in the model grid. The parameter values for each model are shown in the top left corner of each panel. The central region is masked out to mimic the SPHERE coronagraph. Additional plots that show the systematic effects of changing a single parameter one at a time are shown in the Appendix.\n",
       " (*fig:representative_images*)\n",
       "\n",
       "</div>\n",
       "<div id=\"div_fig2\">\n",
       "\n",
       "<img src=\"tmp_2509.01937/./eddy_fit.png\" alt=\"Fig3\" width=\"100%\"/>\n",
       "\n",
       "**Figure 3. -** Model fit (left panel) and residuals (right panel) to the CO rotation map assuming a flat disk Keplerian profile.\n",
       " (*fig:eddy*)\n",
       "\n",
       "</div>\n",
       "<div id=\"div_fig3\">\n",
       "\n",
       "<img src=\"tmp_2509.01937/./mask_comparison.png\" alt=\"Fig5\" width=\"100%\"/>\n",
       "\n",
       "**Figure 5. -** Illustration of how the models are compared to the observations. The left panel shows the SPHERE image with borders defined by contouring to highlight the illuminated, northern side of the disk and the faint southern arc. A representative model is shown in the middle panel. An auto-thresholding algorithm then defines the regions of emission. The right panel shows binary images of the emission for the observations (red) and model (blue) which is used to quantify the goodness of fit.\n",
       " (*fig:mask*)\n",
       "\n",
       "</div><div id=\"qrcode\"><img src=https://api.qrserver.com/v1/create-qr-code/?size=100x100&data=\"https://arxiv.org/abs/2509.01937\"></div>"
      ],
      "text/plain": [
       "<IPython.core.display.Markdown object>"
      ]
     },
     "metadata": {},
     "output_type": "display_data"
    }
   ],
   "source": [
    "[display(Markdown(k[1])) for k in documents];"
   ]
  },
  {
   "cell_type": "markdown",
   "id": "873873a4",
   "metadata": {
    "papermill": {
     "duration": 0.006637,
     "end_time": "2025-09-03T04:13:48.044596",
     "exception": false,
     "start_time": "2025-09-03T04:13:48.037959",
     "status": "completed"
    },
    "tags": []
   },
   "source": [
    "# Create HTML index"
   ]
  },
  {
   "cell_type": "code",
   "execution_count": 10,
   "id": "cf665672",
   "metadata": {
    "execution": {
     "iopub.execute_input": "2025-09-03T04:13:48.059302Z",
     "iopub.status.busy": "2025-09-03T04:13:48.058995Z",
     "iopub.status.idle": "2025-09-03T04:13:48.066814Z",
     "shell.execute_reply": "2025-09-03T04:13:48.066260Z"
    },
    "papermill": {
     "duration": 0.016454,
     "end_time": "2025-09-03T04:13:48.067789",
     "exception": false,
     "start_time": "2025-09-03T04:13:48.051335",
     "status": "completed"
    },
    "tags": []
   },
   "outputs": [
    {
     "name": "stdout",
     "output_type": "stream",
     "text": [
      "131  publications files modified in the last 7 days.\n"
     ]
    }
   ],
   "source": [
    "from datetime import datetime, timedelta, timezone\n",
    "from glob import glob\n",
    "import os\n",
    "\n",
    "files = glob('_build/html/*.md')\n",
    "days = 7\n",
    "now = datetime.today()\n",
    "res = []\n",
    "for fk in files:\n",
    "    stat_result = os.stat(fk).st_ctime\n",
    "    modified = datetime.fromtimestamp(stat_result, tz=timezone.utc).replace(tzinfo=None)\n",
    "    delta = now.today() - modified\n",
    "    if delta <= timedelta(days=days):\n",
    "        res.append((delta.seconds, fk))\n",
    "res = [k[1] for k in reversed(sorted(res, key=lambda x:x[1]))]\n",
    "npub = len(res)\n",
    "print(len(res), f\" publications files modified in the last {days:d} days.\")\n",
    "# [ print('\\t', k) for k in res ];"
   ]
  },
  {
   "cell_type": "code",
   "execution_count": 11,
   "id": "015de740",
   "metadata": {
    "execution": {
     "iopub.execute_input": "2025-09-03T04:13:48.082447Z",
     "iopub.status.busy": "2025-09-03T04:13:48.082192Z",
     "iopub.status.idle": "2025-09-03T04:13:48.094952Z",
     "shell.execute_reply": "2025-09-03T04:13:48.094258Z"
    },
    "papermill": {
     "duration": 0.021154,
     "end_time": "2025-09-03T04:13:48.095985",
     "exception": false,
     "start_time": "2025-09-03T04:13:48.074831",
     "status": "completed"
    },
    "tags": []
   },
   "outputs": [
    {
     "name": "stdout",
     "output_type": "stream",
     "text": [
      "12  publications in the last 7 days.\n"
     ]
    }
   ],
   "source": [
    "import datetime\n",
    "from glob import glob\n",
    "\n",
    "def get_last_n_days(lst, days=1):\n",
    "    \"\"\" Get the documents from the last n days \"\"\"\n",
    "    sorted_lst = sorted(lst, key=lambda x: x[1], reverse=True)\n",
    "    for fname, date in sorted_lst:\n",
    "        if date >= str(datetime.date.today() - datetime.timedelta(days=days)):\n",
    "            yield fname\n",
    "\n",
    "def extract_appearance_dates(lst_file):\n",
    "    dates = []\n",
    "\n",
    "    def get_date(line):\n",
    "        return line\\\n",
    "            .split('Appeared on:')[-1]\\\n",
    "            .split('</mark>')[0].strip()\n",
    "\n",
    "    for fname in lst:\n",
    "        with open(fname, 'r') as f:\n",
    "            found_date = False\n",
    "            for line in f:\n",
    "                if not found_date:\n",
    "                    if \"Appeared on\" in line:\n",
    "                        found_date = True\n",
    "                        dates.append((fname, get_date(line)))\n",
    "                else:\n",
    "                    break\n",
    "    return dates\n",
    "\n",
    "from glob import glob\n",
    "lst = glob('_build/html/*md')\n",
    "days = 7\n",
    "dates = extract_appearance_dates(lst)\n",
    "res = list(get_last_n_days(dates, days))\n",
    "npub = len(res)\n",
    "print(len(res), f\" publications in the last {days:d} days.\")"
   ]
  },
  {
   "cell_type": "code",
   "execution_count": 12,
   "id": "52ca0208",
   "metadata": {
    "execution": {
     "iopub.execute_input": "2025-09-03T04:13:48.110745Z",
     "iopub.status.busy": "2025-09-03T04:13:48.110500Z",
     "iopub.status.idle": "2025-09-03T04:13:48.115511Z",
     "shell.execute_reply": "2025-09-03T04:13:48.114847Z"
    },
    "papermill": {
     "duration": 0.013504,
     "end_time": "2025-09-03T04:13:48.116586",
     "exception": false,
     "start_time": "2025-09-03T04:13:48.103082",
     "status": "completed"
    },
    "scrolled": false,
    "tags": []
   },
   "outputs": [],
   "source": [
    "def create_carousel(npub=4):\n",
    "    \"\"\" Generate the HTML code for a carousel with `npub` slides \"\"\"\n",
    "    carousel = [\"\"\"  <div class=\"carousel\" \"\"\",\n",
    "                \"\"\"       data-flickity='{ \"autoPlay\": 10000, \"adaptiveHeight\": true, \"resize\": true, \"wrapAround\": true, \"pauseAutoPlayOnHover\": true, \"groupCells\": 1 }' id=\"asyncTypeset\">\"\"\"\n",
    "                ]\n",
    "    \n",
    "    item_str = \"\"\"    <div class=\"carousel-cell\"> <div id=\"slide{k}\" class=\"md_view\">Content {k}</div> </div>\"\"\"\n",
    "    for k in range(1, npub + 1):\n",
    "        carousel.append(item_str.format(k=k))\n",
    "    carousel.append(\"  </div>\")\n",
    "    return '\\n'.join(carousel)\n",
    "\n",
    "def create_grid(npub=4):\n",
    "    \"\"\" Generate the HTML code for a flat grid with `npub` slides \"\"\"\n",
    "    grid = [\"\"\"  <div class=\"grid\"> \"\"\",\n",
    "                ]\n",
    "    \n",
    "    item_str = \"\"\"    <div class=\"grid-item\"> <div id=\"slide{k}\" class=\"md_view\">Content {k}</div> </div>\"\"\"\n",
    "    for k in range(1, npub + 1):\n",
    "        grid.append(item_str.format(k=k))\n",
    "    grid.append(\"  </div>\")\n",
    "    return '\\n'.join(grid)"
   ]
  },
  {
   "cell_type": "code",
   "execution_count": 13,
   "id": "a6eac5b6",
   "metadata": {
    "execution": {
     "iopub.execute_input": "2025-09-03T04:13:48.131489Z",
     "iopub.status.busy": "2025-09-03T04:13:48.131291Z",
     "iopub.status.idle": "2025-09-03T04:13:48.136323Z",
     "shell.execute_reply": "2025-09-03T04:13:48.135697Z"
    },
    "papermill": {
     "duration": 0.013456,
     "end_time": "2025-09-03T04:13:48.137277",
     "exception": false,
     "start_time": "2025-09-03T04:13:48.123821",
     "status": "completed"
    },
    "scrolled": false,
    "tags": []
   },
   "outputs": [],
   "source": [
    "carousel = create_carousel(npub)\n",
    "docs = ', '.join(['\"{0:s}\"'.format(k.split('/')[-1]) for k in res])\n",
    "slides = ', '.join([f'\"slide{k}\"' for k in range(1, npub + 1)])\n",
    "\n",
    "with open(\"daily_template.html\", \"r\") as tpl:\n",
    "    page = tpl.read()\n",
    "    page = page.replace(\"{%-- carousel:s --%}\", carousel)\\\n",
    "               .replace(\"{%-- suptitle:s --%}\",  \"7-day archives\" )\\\n",
    "               .replace(\"{%-- docs:s --%}\", docs)\\\n",
    "               .replace(\"{%-- slides:s --%}\", slides)\n",
    "    \n",
    "with open(\"_build/html/index_7days.html\", 'w') as fout:\n",
    "    fout.write(page)"
   ]
  },
  {
   "cell_type": "code",
   "execution_count": 14,
   "id": "adc1a1ec",
   "metadata": {
    "execution": {
     "iopub.execute_input": "2025-09-03T04:13:48.151726Z",
     "iopub.status.busy": "2025-09-03T04:13:48.151535Z",
     "iopub.status.idle": "2025-09-03T04:13:48.157622Z",
     "shell.execute_reply": "2025-09-03T04:13:48.157098Z"
    },
    "papermill": {
     "duration": 0.014374,
     "end_time": "2025-09-03T04:13:48.158575",
     "exception": false,
     "start_time": "2025-09-03T04:13:48.144201",
     "status": "completed"
    },
    "tags": []
   },
   "outputs": [
    {
     "name": "stdout",
     "output_type": "stream",
     "text": [
      "6  publications in the last day.\n"
     ]
    }
   ],
   "source": [
    "# redo for today\n",
    "days = 1\n",
    "res = list(get_last_n_days(dates, days))\n",
    "npub = len(res)\n",
    "print(len(res), f\" publications in the last day.\")\n",
    "\n",
    "carousel = create_carousel(npub)\n",
    "docs = ', '.join(['\"{0:s}\"'.format(k.split('/')[-1]) for k in res])\n",
    "slides = ', '.join([f'\"slide{k}\"' for k in range(1, npub + 1)])\n",
    "\n",
    "with open(\"daily_template.html\", \"r\") as tpl:\n",
    "    page = tpl.read()\n",
    "    page = page.replace(\"{%-- carousel:s --%}\", carousel)\\\n",
    "               .replace(\"{%-- suptitle:s --%}\",  \"Daily\" )\\\n",
    "               .replace(\"{%-- docs:s --%}\", docs)\\\n",
    "               .replace(\"{%-- slides:s --%}\", slides)\n",
    "    \n",
    "# print(carousel, docs, slides)\n",
    "# print(page)\n",
    "with open(\"_build/html/index_daily.html\", 'w') as fout:\n",
    "    fout.write(page)"
   ]
  },
  {
   "cell_type": "code",
   "execution_count": 15,
   "id": "00eece82",
   "metadata": {
    "execution": {
     "iopub.execute_input": "2025-09-03T04:13:48.173473Z",
     "iopub.status.busy": "2025-09-03T04:13:48.173270Z",
     "iopub.status.idle": "2025-09-03T04:13:48.179515Z",
     "shell.execute_reply": "2025-09-03T04:13:48.178944Z"
    },
    "papermill": {
     "duration": 0.014892,
     "end_time": "2025-09-03T04:13:48.180497",
     "exception": false,
     "start_time": "2025-09-03T04:13:48.165605",
     "status": "completed"
    },
    "scrolled": false,
    "tags": []
   },
   "outputs": [
    {
     "name": "stdout",
     "output_type": "stream",
     "text": [
      "6  6 publications selected.\n"
     ]
    }
   ],
   "source": [
    "# Create the flat grid of the last N papers (fixed number regardless of dates)\n",
    "from itertools import islice \n",
    "\n",
    "npub = 6\n",
    "res = [k[0] for k in (islice(reversed(sorted(dates, key=lambda x: x[1])), 6))]\n",
    "print(len(res), f\" {npub} publications selected.\")\n",
    "\n",
    "grid = create_grid(npub)\n",
    "docs = ', '.join(['\"{0:s}\"'.format(k.split('/')[-1]) for k in res])\n",
    "slides = ', '.join([f'\"slide{k}\"' for k in range(1, npub + 1)])\n",
    "\n",
    "with open(\"grid_template.html\", \"r\") as tpl:\n",
    "    page = tpl.read()\n",
    "    page = page.replace(\"{%-- grid-content:s --%}\", grid)\\\n",
    "               .replace(\"{%-- suptitle:s --%}\",  f\"Last {npub:,d} papers\" )\\\n",
    "               .replace(\"{%-- docs:s --%}\", docs)\\\n",
    "               .replace(\"{%-- slides:s --%}\", slides)\n",
    "    \n",
    "# print(grid, docs, slides)\n",
    "# print(page)\n",
    "with open(\"_build/html/index_npub_grid.html\", 'w') as fout:\n",
    "    fout.write(page)"
   ]
  }
 ],
 "metadata": {
  "kernelspec": {
   "display_name": "Python 3 (ipykernel)",
   "language": "python",
   "name": "python3"
  },
  "language_info": {
   "codemirror_mode": {
    "name": "ipython",
    "version": 3
   },
   "file_extension": ".py",
   "mimetype": "text/x-python",
   "name": "python",
   "nbconvert_exporter": "python",
   "pygments_lexer": "ipython3",
   "version": "3.9.23"
  },
  "papermill": {
   "default_parameters": {},
   "duration": 122.946849,
   "end_time": "2025-09-03T04:13:48.403320",
   "environment_variables": {},
   "exception": null,
   "input_path": "MPIA daily digest.ipynb",
   "output_path": "log.ipynb",
   "parameters": {},
   "start_time": "2025-09-03T04:11:45.456471",
   "version": "2.6.0"
  },
  "vscode": {
   "interpreter": {
    "hash": "aee8b7b246df8f9039afb4144a1f6fd8d2ca17a180786b69acc140d282b71a49"
   }
  },
  "widgets": {
   "application/vnd.jupyter.widget-state+json": {
    "state": {
     "1f00887ebb5541359ecd64f6d832370f": {
      "model_module": "@jupyter-widgets/base",
      "model_module_version": "2.0.0",
      "model_name": "LayoutModel",
      "state": {
       "_model_module": "@jupyter-widgets/base",
       "_model_module_version": "2.0.0",
       "_model_name": "LayoutModel",
       "_view_count": null,
       "_view_module": "@jupyter-widgets/base",
       "_view_module_version": "2.0.0",
       "_view_name": "LayoutView",
       "align_content": null,
       "align_items": null,
       "align_self": null,
       "border_bottom": null,
       "border_left": null,
       "border_right": null,
       "border_top": null,
       "bottom": null,
       "display": null,
       "flex": null,
       "flex_flow": null,
       "grid_area": null,
       "grid_auto_columns": null,
       "grid_auto_flow": null,
       "grid_auto_rows": null,
       "grid_column": null,
       "grid_gap": null,
       "grid_row": null,
       "grid_template_areas": null,
       "grid_template_columns": null,
       "grid_template_rows": null,
       "height": null,
       "justify_content": null,
       "justify_items": null,
       "left": null,
       "margin": null,
       "max_height": null,
       "max_width": null,
       "min_height": null,
       "min_width": null,
       "object_fit": null,
       "object_position": null,
       "order": null,
       "overflow": null,
       "padding": null,
       "right": null,
       "top": null,
       "visibility": null,
       "width": null
      }
     },
     "41de9cdf622a4c4381f376a8c10e0d84": {
      "model_module": "@jupyter-widgets/controls",
      "model_module_version": "2.0.0",
      "model_name": "HTMLStyleModel",
      "state": {
       "_model_module": "@jupyter-widgets/controls",
       "_model_module_version": "2.0.0",
       "_model_name": "HTMLStyleModel",
       "_view_count": null,
       "_view_module": "@jupyter-widgets/base",
       "_view_module_version": "2.0.0",
       "_view_name": "StyleView",
       "background": null,
       "description_width": "",
       "font_size": null,
       "text_color": null
      }
     },
     "5607789e8cd442868573c31833d49e0e": {
      "model_module": "@jupyter-widgets/controls",
      "model_module_version": "2.0.0",
      "model_name": "FloatProgressModel",
      "state": {
       "_dom_classes": [],
       "_model_module": "@jupyter-widgets/controls",
       "_model_module_version": "2.0.0",
       "_model_name": "FloatProgressModel",
       "_view_count": null,
       "_view_module": "@jupyter-widgets/controls",
       "_view_module_version": "2.0.0",
       "_view_name": "ProgressView",
       "bar_style": "success",
       "description": "",
       "description_allow_html": false,
       "layout": "IPY_MODEL_a5bfff4350a642f8973621ddcdd64e9f",
       "max": 9.0,
       "min": 0.0,
       "orientation": "horizontal",
       "style": "IPY_MODEL_912ec37ef29a4856a21ba6812fdf951b",
       "tabbable": null,
       "tooltip": null,
       "value": 9.0
      }
     },
     "5cc343f232724fa7905185fc0b891886": {
      "model_module": "@jupyter-widgets/base",
      "model_module_version": "2.0.0",
      "model_name": "LayoutModel",
      "state": {
       "_model_module": "@jupyter-widgets/base",
       "_model_module_version": "2.0.0",
       "_model_name": "LayoutModel",
       "_view_count": null,
       "_view_module": "@jupyter-widgets/base",
       "_view_module_version": "2.0.0",
       "_view_name": "LayoutView",
       "align_content": null,
       "align_items": null,
       "align_self": null,
       "border_bottom": null,
       "border_left": null,
       "border_right": null,
       "border_top": null,
       "bottom": null,
       "display": null,
       "flex": null,
       "flex_flow": null,
       "grid_area": null,
       "grid_auto_columns": null,
       "grid_auto_flow": null,
       "grid_auto_rows": null,
       "grid_column": null,
       "grid_gap": null,
       "grid_row": null,
       "grid_template_areas": null,
       "grid_template_columns": null,
       "grid_template_rows": null,
       "height": null,
       "justify_content": null,
       "justify_items": null,
       "left": null,
       "margin": null,
       "max_height": null,
       "max_width": null,
       "min_height": null,
       "min_width": null,
       "object_fit": null,
       "object_position": null,
       "order": null,
       "overflow": null,
       "padding": null,
       "right": null,
       "top": null,
       "visibility": null,
       "width": null
      }
     },
     "659b81fb08c740719cea42322e53b304": {
      "model_module": "@jupyter-widgets/controls",
      "model_module_version": "2.0.0",
      "model_name": "HTMLModel",
      "state": {
       "_dom_classes": [],
       "_model_module": "@jupyter-widgets/controls",
       "_model_module_version": "2.0.0",
       "_model_name": "HTMLModel",
       "_view_count": null,
       "_view_module": "@jupyter-widgets/controls",
       "_view_module_version": "2.0.0",
       "_view_name": "HTMLView",
       "description": "",
       "description_allow_html": false,
       "layout": "IPY_MODEL_1f00887ebb5541359ecd64f6d832370f",
       "placeholder": "​",
       "style": "IPY_MODEL_41de9cdf622a4c4381f376a8c10e0d84",
       "tabbable": null,
       "tooltip": null,
       "value": " 9/9 [01:39&lt;00:00, 11.54s/it]"
      }
     },
     "7554ffbdf7534fc391a46a961727a30f": {
      "model_module": "@jupyter-widgets/base",
      "model_module_version": "2.0.0",
      "model_name": "LayoutModel",
      "state": {
       "_model_module": "@jupyter-widgets/base",
       "_model_module_version": "2.0.0",
       "_model_name": "LayoutModel",
       "_view_count": null,
       "_view_module": "@jupyter-widgets/base",
       "_view_module_version": "2.0.0",
       "_view_name": "LayoutView",
       "align_content": null,
       "align_items": null,
       "align_self": null,
       "border_bottom": null,
       "border_left": null,
       "border_right": null,
       "border_top": null,
       "bottom": null,
       "display": null,
       "flex": null,
       "flex_flow": null,
       "grid_area": null,
       "grid_auto_columns": null,
       "grid_auto_flow": null,
       "grid_auto_rows": null,
       "grid_column": null,
       "grid_gap": null,
       "grid_row": null,
       "grid_template_areas": null,
       "grid_template_columns": null,
       "grid_template_rows": null,
       "height": null,
       "justify_content": null,
       "justify_items": null,
       "left": null,
       "margin": null,
       "max_height": null,
       "max_width": null,
       "min_height": null,
       "min_width": null,
       "object_fit": null,
       "object_position": null,
       "order": null,
       "overflow": null,
       "padding": null,
       "right": null,
       "top": null,
       "visibility": null,
       "width": null
      }
     },
     "79297a6638174b3ca4c22f4b114b5ac5": {
      "model_module": "@jupyter-widgets/controls",
      "model_module_version": "2.0.0",
      "model_name": "HTMLStyleModel",
      "state": {
       "_model_module": "@jupyter-widgets/controls",
       "_model_module_version": "2.0.0",
       "_model_name": "HTMLStyleModel",
       "_view_count": null,
       "_view_module": "@jupyter-widgets/base",
       "_view_module_version": "2.0.0",
       "_view_name": "StyleView",
       "background": null,
       "description_width": "",
       "font_size": null,
       "text_color": null
      }
     },
     "87e26df4531b4d2aa60e1be1a7bd35d4": {
      "model_module": "@jupyter-widgets/controls",
      "model_module_version": "2.0.0",
      "model_name": "HTMLModel",
      "state": {
       "_dom_classes": [],
       "_model_module": "@jupyter-widgets/controls",
       "_model_module_version": "2.0.0",
       "_model_name": "HTMLModel",
       "_view_count": null,
       "_view_module": "@jupyter-widgets/controls",
       "_view_module_version": "2.0.0",
       "_view_name": "HTMLView",
       "description": "",
       "description_allow_html": false,
       "layout": "IPY_MODEL_5cc343f232724fa7905185fc0b891886",
       "placeholder": "​",
       "style": "IPY_MODEL_79297a6638174b3ca4c22f4b114b5ac5",
       "tabbable": null,
       "tooltip": null,
       "value": "100%"
      }
     },
     "912ec37ef29a4856a21ba6812fdf951b": {
      "model_module": "@jupyter-widgets/controls",
      "model_module_version": "2.0.0",
      "model_name": "ProgressStyleModel",
      "state": {
       "_model_module": "@jupyter-widgets/controls",
       "_model_module_version": "2.0.0",
       "_model_name": "ProgressStyleModel",
       "_view_count": null,
       "_view_module": "@jupyter-widgets/base",
       "_view_module_version": "2.0.0",
       "_view_name": "StyleView",
       "bar_color": null,
       "description_width": ""
      }
     },
     "a5bfff4350a642f8973621ddcdd64e9f": {
      "model_module": "@jupyter-widgets/base",
      "model_module_version": "2.0.0",
      "model_name": "LayoutModel",
      "state": {
       "_model_module": "@jupyter-widgets/base",
       "_model_module_version": "2.0.0",
       "_model_name": "LayoutModel",
       "_view_count": null,
       "_view_module": "@jupyter-widgets/base",
       "_view_module_version": "2.0.0",
       "_view_name": "LayoutView",
       "align_content": null,
       "align_items": null,
       "align_self": null,
       "border_bottom": null,
       "border_left": null,
       "border_right": null,
       "border_top": null,
       "bottom": null,
       "display": null,
       "flex": null,
       "flex_flow": null,
       "grid_area": null,
       "grid_auto_columns": null,
       "grid_auto_flow": null,
       "grid_auto_rows": null,
       "grid_column": null,
       "grid_gap": null,
       "grid_row": null,
       "grid_template_areas": null,
       "grid_template_columns": null,
       "grid_template_rows": null,
       "height": null,
       "justify_content": null,
       "justify_items": null,
       "left": null,
       "margin": null,
       "max_height": null,
       "max_width": null,
       "min_height": null,
       "min_width": null,
       "object_fit": null,
       "object_position": null,
       "order": null,
       "overflow": null,
       "padding": null,
       "right": null,
       "top": null,
       "visibility": null,
       "width": null
      }
     },
     "be22290dbcd74b6d829e28ae2ad7e4c5": {
      "model_module": "@jupyter-widgets/controls",
      "model_module_version": "2.0.0",
      "model_name": "HBoxModel",
      "state": {
       "_dom_classes": [],
       "_model_module": "@jupyter-widgets/controls",
       "_model_module_version": "2.0.0",
       "_model_name": "HBoxModel",
       "_view_count": null,
       "_view_module": "@jupyter-widgets/controls",
       "_view_module_version": "2.0.0",
       "_view_name": "HBoxView",
       "box_style": "",
       "children": [
        "IPY_MODEL_87e26df4531b4d2aa60e1be1a7bd35d4",
        "IPY_MODEL_5607789e8cd442868573c31833d49e0e",
        "IPY_MODEL_659b81fb08c740719cea42322e53b304"
       ],
       "layout": "IPY_MODEL_7554ffbdf7534fc391a46a961727a30f",
       "tabbable": null,
       "tooltip": null
      }
     }
    },
    "version_major": 2,
    "version_minor": 0
   }
  }
 },
 "nbformat": 4,
 "nbformat_minor": 5
}