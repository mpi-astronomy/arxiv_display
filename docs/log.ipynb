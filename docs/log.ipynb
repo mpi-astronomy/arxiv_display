{
 "cells": [
  {
   "cell_type": "markdown",
   "id": "92bcb855",
   "metadata": {
    "papermill": {
     "duration": 0.005734,
     "end_time": "2022-09-15T05:14:49.222887",
     "exception": false,
     "start_time": "2022-09-15T05:14:49.217153",
     "status": "completed"
    },
    "tags": []
   },
   "source": [
    "# MPIA Arxiv on Deck 2\n",
    "\n",
    "Contains the steps to produce the paper extractions."
   ]
  },
  {
   "cell_type": "code",
   "execution_count": 1,
   "id": "3a0d6e11",
   "metadata": {
    "execution": {
     "iopub.execute_input": "2022-09-15T05:14:49.233586Z",
     "iopub.status.busy": "2022-09-15T05:14:49.232726Z",
     "iopub.status.idle": "2022-09-15T05:14:49.408890Z",
     "shell.execute_reply": "2022-09-15T05:14:49.408125Z"
    },
    "papermill": {
     "duration": 0.183905,
     "end_time": "2022-09-15T05:14:49.411319",
     "exception": false,
     "start_time": "2022-09-15T05:14:49.227414",
     "status": "completed"
    },
    "tags": []
   },
   "outputs": [],
   "source": [
    "# Imports\n",
    "import os\n",
    "from IPython.display import Markdown, display\n",
    "from tqdm.notebook import tqdm\n",
    "import warnings\n",
    "from PIL import Image \n",
    "\n",
    "# requires arxiv_on_deck_2\n",
    "\n",
    "from arxiv_on_deck_2.arxiv2 import (get_new_papers, \n",
    "                                    get_paper_from_identifier,\n",
    "                                    retrieve_document_source, \n",
    "                                    get_markdown_badge)\n",
    "from arxiv_on_deck_2 import (latex, \n",
    "                             mpia,\n",
    "                             highlight_authors_in_list)\n",
    "\n",
    "# Sometimes images are really big\n",
    "Image.MAX_IMAGE_PIXELS = 1000000000 "
   ]
  },
  {
   "cell_type": "code",
   "execution_count": 2,
   "id": "22aa9d44",
   "metadata": {
    "execution": {
     "iopub.execute_input": "2022-09-15T05:14:49.421974Z",
     "iopub.status.busy": "2022-09-15T05:14:49.421261Z",
     "iopub.status.idle": "2022-09-15T05:14:49.426887Z",
     "shell.execute_reply": "2022-09-15T05:14:49.426188Z"
    },
    "papermill": {
     "duration": 0.013059,
     "end_time": "2022-09-15T05:14:49.428689",
     "exception": false,
     "start_time": "2022-09-15T05:14:49.415630",
     "status": "completed"
    },
    "tags": []
   },
   "outputs": [],
   "source": [
    "# Some useful definitions.\n",
    "\n",
    "class AffiliationWarning(UserWarning):\n",
    "    pass\n",
    "\n",
    "class AffiliationError(RuntimeError):\n",
    "    pass\n",
    "\n",
    "def validation(source: str):\n",
    "    \"\"\"Raises error paper during parsing of source file\n",
    "    \n",
    "    Allows checks before parsing TeX code.\n",
    "    \n",
    "    Raises AffiliationWarning\n",
    "    \"\"\"\n",
    "    check = mpia.affiliation_verifications(source, verbose=True)\n",
    "    if check is not True:\n",
    "        raise AffiliationError(\"mpia.affiliation_verifications: \" + check)\n",
    "\n",
    "        \n",
    "warnings.simplefilter('always', AffiliationWarning)"
   ]
  },
  {
   "cell_type": "code",
   "execution_count": 3,
   "id": "14622700",
   "metadata": {
    "execution": {
     "iopub.execute_input": "2022-09-15T05:14:49.438399Z",
     "iopub.status.busy": "2022-09-15T05:14:49.437752Z",
     "iopub.status.idle": "2022-09-15T05:14:49.441735Z",
     "shell.execute_reply": "2022-09-15T05:14:49.441190Z"
    },
    "papermill": {
     "duration": 0.01086,
     "end_time": "2022-09-15T05:14:49.443506",
     "exception": false,
     "start_time": "2022-09-15T05:14:49.432646",
     "status": "completed"
    },
    "tags": []
   },
   "outputs": [],
   "source": [
    "# additional CSS to consider. \n",
    "# TODO: Current into each exported file. \n",
    "#       This should be set once into the webpages directly.\n",
    "#       With only the class/id definitions in the .md files.\n",
    "\n",
    "debug_html = \"\"\"\n",
    "<style>\n",
    "#wrap{ overflow:auto; }\n",
    "#fig1{ background:yellow; width:100%; float:left; padding:5px;  }\n",
    "#fig2{ background:red; width:50%; float:left; clear:left; padding:5px;  }\n",
    "#fig3{ background:green; width:50%; float:left; padding:5px;   }\n",
    ".macros{ background:yellow; visibility:visible;}\n",
    "h1 {margin: 0 0 0 0;}\n",
    "mark {background-color:#fff3b6;}\n",
    "img {object-fit:contain; max-height:250px; display:inline-block; text-align: center;}\n",
    "</style>\n",
    "\"\"\" \n",
    "html = \"\"\"\n",
    "<style>\n",
    "#wrap{ overflow:auto; }\n",
    "#fig1{ width:100%; float:left; padding: 5px;  }\n",
    "#fig2{ width:50%; float:left; clear:left; padding: 5px;  }\n",
    "#fig3{ width:50%; float:left; padding: 5px;  }\n",
    ".macros{ visibility:hidden; height:0px; }\n",
    "h1 {margin: 0em 0 0 0;}\n",
    "mark {background-color:#fff3b6;}\n",
    "img {object-fit:contain; max-height:250px; display:inline-block; text-align: center;}\n",
    "</style>\n",
    "\"\"\""
   ]
  },
  {
   "cell_type": "markdown",
   "id": "14bd6310",
   "metadata": {
    "papermill": {
     "duration": 0.004016,
     "end_time": "2022-09-15T05:14:49.451614",
     "exception": false,
     "start_time": "2022-09-15T05:14:49.447598",
     "status": "completed"
    },
    "tags": []
   },
   "source": [
    "## get list of arxiv paper candidates\n",
    "\n",
    "We use the MPIA mitarbeiter list webpage from mpia.de to get author names\n",
    "We then get all new papers from Arxiv and match authors"
   ]
  },
  {
   "cell_type": "code",
   "execution_count": 4,
   "id": "2645e73a",
   "metadata": {
    "execution": {
     "iopub.execute_input": "2022-09-15T05:14:49.461313Z",
     "iopub.status.busy": "2022-09-15T05:14:49.460712Z",
     "iopub.status.idle": "2022-09-15T05:15:12.134883Z",
     "shell.execute_reply": "2022-09-15T05:15:12.134049Z"
    },
    "papermill": {
     "duration": 22.681074,
     "end_time": "2022-09-15T05:15:12.136632",
     "exception": false,
     "start_time": "2022-09-15T05:14:49.455558",
     "status": "completed"
    },
    "tags": []
   },
   "outputs": [
    {
     "name": "stdout",
     "output_type": "stream",
     "text": [
      "Arxiv has 57 new papers today\n",
      "          24 with possible author matches\n"
     ]
    }
   ],
   "source": [
    "# get list from MPIA website\n",
    "# it automatically filters identified non-scientists :func:`mpia.filter_non_scientists`\n",
    "mpia_authors = mpia.get_mpia_mitarbeiter_list()\n",
    "new_papers = get_new_papers()\n",
    "# add manual references\n",
    "add_paper_refs = []\n",
    "new_papers.extend([get_paper_from_identifier(k) for k in add_paper_refs])\n",
    "\n",
    "# select only papers with matching author names and highlight authors\n",
    "hl_list = [k[0] for k in mpia_authors]\n",
    "\n",
    "candidates = []\n",
    "for paperk in new_papers:\n",
    "    hl_authors = highlight_authors_in_list(paperk['authors'], hl_list)\n",
    "    matches = [(hl, orig) for hl, orig in zip(hl_authors, paperk['authors']) if 'mark' in hl]\n",
    "    paperk['authors'] = hl_authors\n",
    "    if matches:\n",
    "        candidates.append(paperk)\n",
    "print(\"\"\"Arxiv has {0:,d} new papers today\"\"\".format(len(new_papers)))        \n",
    "print(\"\"\"          {0:,d} with possible author matches\"\"\".format(len(candidates)))"
   ]
  },
  {
   "cell_type": "markdown",
   "id": "3543b34a",
   "metadata": {
    "papermill": {
     "duration": 0.004186,
     "end_time": "2022-09-15T05:15:12.147163",
     "exception": false,
     "start_time": "2022-09-15T05:15:12.142977",
     "status": "completed"
    },
    "tags": []
   },
   "source": [
    "# Parse sources and generate relevant outputs\n",
    "\n",
    "From the candidates, we do the following steps:\n",
    "* get their tarball from ArXiv (and extract data)\n",
    "* find the main .tex file: find one with \\documentclass{...} (sometimes it's non trivial)\n",
    "* Check affiliations with :func:`validation`, which uses :func:`mpia.affiliation_verifications`\n",
    "* If passing the affiliations: we parse the .tex source\n",
    "   * inject sub-documents into the main (flatten the main document)\n",
    "   * parse structure, extract information (title, abstract, authors, figures...)\n",
    "   * handles `\\graphicspath` if provided\n",
    "* Generate the .md document."
   ]
  },
  {
   "cell_type": "code",
   "execution_count": 5,
   "id": "9576b79e",
   "metadata": {
    "execution": {
     "iopub.execute_input": "2022-09-15T05:15:12.157346Z",
     "iopub.status.busy": "2022-09-15T05:15:12.156588Z",
     "iopub.status.idle": "2022-09-15T05:16:04.650629Z",
     "shell.execute_reply": "2022-09-15T05:16:04.649787Z"
    },
    "papermill": {
     "duration": 52.50124,
     "end_time": "2022-09-15T05:16:04.652407",
     "exception": false,
     "start_time": "2022-09-15T05:15:12.151167",
     "status": "completed"
    },
    "scrolled": false,
    "tags": []
   },
   "outputs": [
    {
     "data": {
      "application/vnd.jupyter.widget-view+json": {
       "model_id": "d020df551c0c4791834b3d3e3a66641c",
       "version_major": 2,
       "version_minor": 0
      },
      "text/plain": [
       "  0%|          | 0/23 [00:00<?, ?it/s]"
      ]
     },
     "metadata": {},
     "output_type": "display_data"
    },
    {
     "name": "stdout",
     "output_type": "stream",
     "text": [
      "Retrieving document from  https://arxiv.org/e-print/2209.06226\n"
     ]
    },
    {
     "name": "stdout",
     "output_type": "stream",
     "text": [
      "extracting tarball to tmp_2209.06226..."
     ]
    },
    {
     "name": "stdout",
     "output_type": "stream",
     "text": [
      " done.\n",
      "Retrieving document from  https://arxiv.org/e-print/2209.06227\n"
     ]
    },
    {
     "name": "stdout",
     "output_type": "stream",
     "text": [
      "extracting tarball to tmp_2209.06227..."
     ]
    },
    {
     "name": "stdout",
     "output_type": "stream",
     "text": [
      " done.\n",
      "Retrieving document from  https://arxiv.org/e-print/2209.06229\n"
     ]
    },
    {
     "name": "stdout",
     "output_type": "stream",
     "text": [
      "extracting tarball to tmp_2209.06229..."
     ]
    },
    {
     "name": "stdout",
     "output_type": "stream",
     "text": [
      " done.\n",
      "Retrieving document from  https://arxiv.org/e-print/2209.06244\n"
     ]
    },
    {
     "name": "stderr",
     "output_type": "stream",
     "text": [
      "/opt/hostedtoolcache/Python/3.9.13/x64/lib/python3.9/site-packages/IPython/core/interactiveshell.py:3378: LatexWarning: Multiple tex files.\n",
      "\n",
      "  exec(code_obj, self.user_global_ns, self.user_ns)\n",
      "/opt/hostedtoolcache/Python/3.9.13/x64/lib/python3.9/site-packages/IPython/core/interactiveshell.py:3378: LatexWarning: Found documentclass in tmp_2209.06229/natbib.tex\n",
      "\n",
      "  exec(code_obj, self.user_global_ns, self.user_ns)\n"
     ]
    },
    {
     "name": "stdout",
     "output_type": "stream",
     "text": [
      "extracting tarball to tmp_2209.06244..."
     ]
    },
    {
     "name": "stdout",
     "output_type": "stream",
     "text": [
      " done.\n",
      "Retrieving document from  https://arxiv.org/e-print/2209.06247\n"
     ]
    },
    {
     "name": "stderr",
     "output_type": "stream",
     "text": [
      "/opt/hostedtoolcache/Python/3.9.13/x64/lib/python3.9/site-packages/IPython/core/interactiveshell.py:3378: LatexWarning: Multiple tex files.\n",
      "\n",
      "  exec(code_obj, self.user_global_ns, self.user_ns)\n",
      "/opt/hostedtoolcache/Python/3.9.13/x64/lib/python3.9/site-packages/IPython/core/interactiveshell.py:3378: LatexWarning: Found documentclass in tmp_2209.06244/HCN_HNC.tex\n",
      "\n",
      "  exec(code_obj, self.user_global_ns, self.user_ns)\n",
      "/opt/hostedtoolcache/Python/3.9.13/x64/lib/python3.9/site-packages/arxiv_on_deck_2/latex.py:292: LatexWarning: Latex injecting: 'ALCHEMICollabAuthList.tex' from 'tmp_2209.06244/ALCHEMICollabAuthList.tex'\n",
      "  warnings.warn(LatexWarning(f\"Latex injecting: '{ext}' from '{subsource}'\"))\n"
     ]
    },
    {
     "name": "stdout",
     "output_type": "stream",
     "text": [
      "extracting tarball to tmp_2209.06247..."
     ]
    },
    {
     "name": "stdout",
     "output_type": "stream",
     "text": [
      " done.\n"
     ]
    },
    {
     "name": "stderr",
     "output_type": "stream",
     "text": [
      "/opt/hostedtoolcache/Python/3.9.13/x64/lib/python3.9/site-packages/IPython/core/interactiveshell.py:3378: LatexWarning: Multiple tex files.\n",
      "\n",
      "  exec(code_obj, self.user_global_ns, self.user_ns)\n",
      "/opt/hostedtoolcache/Python/3.9.13/x64/lib/python3.9/site-packages/IPython/core/interactiveshell.py:3378: LatexWarning: Found documentclass in tmp_2209.06247/nev.tex\n",
      "\n",
      "  exec(code_obj, self.user_global_ns, self.user_ns)\n",
      "/opt/hostedtoolcache/Python/3.9.13/x64/lib/python3.9/site-packages/arxiv_on_deck_2/latex.py:292: LatexWarning: Latex injecting: 'settings' from 'tmp_2209.06247/settings.tex'\n",
      "  warnings.warn(LatexWarning(f\"Latex injecting: '{ext}' from '{subsource}'\"))\n"
     ]
    },
    {
     "name": "stderr",
     "output_type": "stream",
     "text": [
      "/tmp/ipykernel_2261/4030337529.py:34: LatexWarning: 2209.06247 did not run properly\n",
      "sequence item 0: expected str instance, TexNode found\n",
      "  warnings.warn(latex.LatexWarning(f\"{paper_id:s} did not run properly\\n\" +\n"
     ]
    },
    {
     "name": "stdout",
     "output_type": "stream",
     "text": [
      "Retrieving document from  https://arxiv.org/e-print/2209.06287\n"
     ]
    },
    {
     "name": "stdout",
     "output_type": "stream",
     "text": [
      "extracting tarball to tmp_2209.06287... done.\n",
      "Retrieving document from  https://arxiv.org/e-print/2209.06288\n"
     ]
    },
    {
     "name": "stderr",
     "output_type": "stream",
     "text": [
      "/tmp/ipykernel_2261/4030337529.py:34: LatexWarning: 2209.06288 did not run properly\n",
      "not a gzip file\n",
      "  warnings.warn(latex.LatexWarning(f\"{paper_id:s} did not run properly\\n\" +\n"
     ]
    },
    {
     "name": "stdout",
     "output_type": "stream",
     "text": [
      "Retrieving document from  https://arxiv.org/e-print/2209.06301\n"
     ]
    },
    {
     "name": "stdout",
     "output_type": "stream",
     "text": [
      "extracting tarball to tmp_2209.06301..."
     ]
    },
    {
     "name": "stdout",
     "output_type": "stream",
     "text": [
      " done.\n",
      "Retrieving document from  https://arxiv.org/e-print/2209.06303\n"
     ]
    },
    {
     "name": "stderr",
     "output_type": "stream",
     "text": [
      "/opt/hostedtoolcache/Python/3.9.13/x64/lib/python3.9/site-packages/IPython/core/interactiveshell.py:3378: LatexWarning: Multiple tex files.\n",
      "\n",
      "  exec(code_obj, self.user_global_ns, self.user_ns)\n",
      "/opt/hostedtoolcache/Python/3.9.13/x64/lib/python3.9/site-packages/IPython/core/interactiveshell.py:3378: LatexWarning: Found documentclass in tmp_2209.06301/table_generalprop.tex\n",
      "\n",
      "  exec(code_obj, self.user_global_ns, self.user_ns)\n",
      "/opt/hostedtoolcache/Python/3.9.13/x64/lib/python3.9/site-packages/arxiv_on_deck_2/latex.py:292: LatexWarning: Latex injecting: 'tables/parameters_normal' from 'tmp_2209.06301/parameters_normal.tex'\n",
      "  warnings.warn(LatexWarning(f\"Latex injecting: '{ext}' from '{subsource}'\"))\n",
      "/opt/hostedtoolcache/Python/3.9.13/x64/lib/python3.9/site-packages/arxiv_on_deck_2/latex.py:292: LatexWarning: Latex injecting: 'tables/parameters_91T' from 'tmp_2209.06301/parameters_91T.tex'\n",
      "  warnings.warn(LatexWarning(f\"Latex injecting: '{ext}' from '{subsource}'\"))\n",
      "/opt/hostedtoolcache/Python/3.9.13/x64/lib/python3.9/site-packages/arxiv_on_deck_2/latex.py:292: LatexWarning: Latex injecting: 'tables/generalprop_LCO' from 'tmp_2209.06301/generalprop_LCO.tex'\n",
      "  warnings.warn(LatexWarning(f\"Latex injecting: '{ext}' from '{subsource}'\"))\n",
      "/opt/hostedtoolcache/Python/3.9.13/x64/lib/python3.9/site-packages/arxiv_on_deck_2/latex.py:292: LatexWarning: Latex injecting: 'tables/generalprop_91T_Literature' from 'tmp_2209.06301/generalprop_91T_Literature.tex'\n",
      "  warnings.warn(LatexWarning(f\"Latex injecting: '{ext}' from '{subsource}'\"))\n"
     ]
    },
    {
     "name": "stdout",
     "output_type": "stream",
     "text": [
      "extracting tarball to tmp_2209.06303... done.\n",
      "Retrieving document from  https://arxiv.org/e-print/2209.06312\n"
     ]
    },
    {
     "name": "stdout",
     "output_type": "stream",
     "text": [
      "extracting tarball to tmp_2209.06312..."
     ]
    },
    {
     "name": "stdout",
     "output_type": "stream",
     "text": [
      " done.\n",
      "Retrieving document from  https://arxiv.org/e-print/2209.06343\n"
     ]
    },
    {
     "name": "stderr",
     "output_type": "stream",
     "text": [
      "/opt/hostedtoolcache/Python/3.9.13/x64/lib/python3.9/site-packages/IPython/core/interactiveshell.py:3378: LatexWarning: Multiple tex files.\n",
      "\n",
      "  exec(code_obj, self.user_global_ns, self.user_ns)\n",
      "/opt/hostedtoolcache/Python/3.9.13/x64/lib/python3.9/site-packages/IPython/core/interactiveshell.py:3378: LatexWarning: Found documentclass in tmp_2209.06312/photon_stats.tex\n",
      "\n",
      "  exec(code_obj, self.user_global_ns, self.user_ns)\n"
     ]
    },
    {
     "name": "stdout",
     "output_type": "stream",
     "text": [
      "extracting tarball to tmp_2209.06343..."
     ]
    },
    {
     "name": "stdout",
     "output_type": "stream",
     "text": [
      " done.\n",
      "Retrieving document from  https://arxiv.org/e-print/2209.06444\n"
     ]
    },
    {
     "name": "stdout",
     "output_type": "stream",
     "text": [
      "extracting tarball to tmp_2209.06444..."
     ]
    },
    {
     "name": "stdout",
     "output_type": "stream",
     "text": [
      " done.\n",
      "Retrieving document from  https://arxiv.org/e-print/2209.06513\n"
     ]
    },
    {
     "name": "stdout",
     "output_type": "stream",
     "text": [
      "extracting tarball to tmp_2209.06513..."
     ]
    },
    {
     "name": "stdout",
     "output_type": "stream",
     "text": [
      " done.\n",
      "Retrieving document from  https://arxiv.org/e-print/2209.06531\n"
     ]
    },
    {
     "name": "stdout",
     "output_type": "stream",
     "text": [
      "extracting tarball to tmp_2209.06531..."
     ]
    },
    {
     "name": "stdout",
     "output_type": "stream",
     "text": [
      " done.\n",
      "Retrieving document from  https://arxiv.org/e-print/2209.06559\n"
     ]
    },
    {
     "name": "stdout",
     "output_type": "stream",
     "text": [
      "extracting tarball to tmp_2209.06559..."
     ]
    },
    {
     "name": "stdout",
     "output_type": "stream",
     "text": [
      " done.\n",
      "Retrieving document from  https://arxiv.org/e-print/2209.06617\n"
     ]
    },
    {
     "name": "stdout",
     "output_type": "stream",
     "text": [
      "extracting tarball to tmp_2209.06617..."
     ]
    },
    {
     "name": "stdout",
     "output_type": "stream",
     "text": [
      " done.\n",
      "Retrieving document from  https://arxiv.org/e-print/2209.06659\n"
     ]
    },
    {
     "name": "stderr",
     "output_type": "stream",
     "text": [
      "/tmp/ipykernel_2261/4030337529.py:34: LatexWarning: 2209.06659 did not run properly\n",
      "not a gzip file\n",
      "  warnings.warn(latex.LatexWarning(f\"{paper_id:s} did not run properly\\n\" +\n"
     ]
    },
    {
     "name": "stdout",
     "output_type": "stream",
     "text": [
      "Retrieving document from  https://arxiv.org/e-print/2209.06662\n"
     ]
    },
    {
     "name": "stdout",
     "output_type": "stream",
     "text": [
      "extracting tarball to tmp_2209.06662... done.\n",
      "Retrieving document from  https://arxiv.org/e-print/2209.06680\n"
     ]
    },
    {
     "name": "stderr",
     "output_type": "stream",
     "text": [
      "/opt/hostedtoolcache/Python/3.9.13/x64/lib/python3.9/site-packages/arxiv_on_deck_2/latex.py:292: LatexWarning: Latex injecting: 'main.bbl' from 'tmp_2209.06662/main.tex'\n",
      "  warnings.warn(LatexWarning(f\"Latex injecting: '{ext}' from '{subsource}'\"))\n"
     ]
    },
    {
     "name": "stdout",
     "output_type": "stream",
     "text": [
      "extracting tarball to tmp_2209.06680... done.\n",
      "Retrieving document from  https://arxiv.org/e-print/2209.06712\n"
     ]
    },
    {
     "name": "stdout",
     "output_type": "stream",
     "text": [
      "extracting tarball to tmp_2209.06712..."
     ]
    },
    {
     "name": "stdout",
     "output_type": "stream",
     "text": [
      " done.\n",
      "Retrieving document from  https://arxiv.org/e-print/2209.06714\n"
     ]
    },
    {
     "name": "stdout",
     "output_type": "stream",
     "text": [
      "extracting tarball to tmp_2209.06714..."
     ]
    },
    {
     "name": "stdout",
     "output_type": "stream",
     "text": [
      " done.\n",
      "Retrieving document from  https://arxiv.org/e-print/2209.06741\n"
     ]
    },
    {
     "name": "stderr",
     "output_type": "stream",
     "text": [
      "/tmp/ipykernel_2261/4030337529.py:34: LatexWarning: 2209.06714 did not run properly\n",
      "'utf-8' codec can't decode byte 0xa8 in position 35860: invalid start byte\n",
      "  warnings.warn(latex.LatexWarning(f\"{paper_id:s} did not run properly\\n\" +\n"
     ]
    },
    {
     "name": "stdout",
     "output_type": "stream",
     "text": [
      "extracting tarball to tmp_2209.06741..."
     ]
    },
    {
     "name": "stdout",
     "output_type": "stream",
     "text": [
      " done.\n",
      "Retrieving document from  https://arxiv.org/e-print/2209.06766\n"
     ]
    },
    {
     "name": "stderr",
     "output_type": "stream",
     "text": [
      "/opt/hostedtoolcache/Python/3.9.13/x64/lib/python3.9/site-packages/IPython/core/interactiveshell.py:3378: LatexWarning: Multiple tex files.\n",
      "\n",
      "  exec(code_obj, self.user_global_ns, self.user_ns)\n",
      "/opt/hostedtoolcache/Python/3.9.13/x64/lib/python3.9/site-packages/IPython/core/interactiveshell.py:3378: LatexWarning: Found documentclass in tmp_2209.06741/Lai_NGC7469.tex\n",
      "\n",
      "  exec(code_obj, self.user_global_ns, self.user_ns)\n"
     ]
    },
    {
     "name": "stdout",
     "output_type": "stream",
     "text": [
      "extracting tarball to tmp_2209.06766..."
     ]
    },
    {
     "name": "stdout",
     "output_type": "stream",
     "text": [
      " done.\n"
     ]
    }
   ],
   "source": [
    "documents = []\n",
    "failed = []\n",
    "for paper in tqdm(candidates[:-1]):\n",
    "    paper_id = paper['identifier'].lower().replace('arxiv:', '')\n",
    "    \n",
    "    folder = f'tmp_{paper_id}'\n",
    "\n",
    "    try:\n",
    "        if not os.path.isdir(folder):\n",
    "            folder = retrieve_document_source(f\"{paper_id}\", f'tmp_{paper_id}')\n",
    "        \n",
    "        try:\n",
    "            doc = latex.LatexDocument(folder, validation=validation)    \n",
    "        except AffiliationError as affilerror:\n",
    "            msg = f\"ArXiv:{paper_id:s} is not an MPIA paper... \" + str(affilerror)\n",
    "            failed.append((paper, \"affiliation error: \" + str(affilerror) ))\n",
    "            continue\n",
    "        \n",
    "        # Hack because sometimes author parsing does not work well\n",
    "        if (len(doc.authors) != len(paper['authors'])):\n",
    "            doc._authors = paper['authors']\n",
    "        if (doc.abstract) in (None, ''):\n",
    "            doc._abstract = paper['abstract']\n",
    "            \n",
    "        doc.comment = (get_markdown_badge(paper_id) + \n",
    "                       \"<mark>Appeared on: \" + paper['date'] + \"</mark> - \" +\n",
    "                       \"_\" + paper['comments'] + \"_\")\n",
    "        doc.highlight_authors_in_list(hl_list)\n",
    "\n",
    "        full_md = doc.generate_markdown_text()\n",
    "        \n",
    "        documents.append((paper_id, full_md))\n",
    "    except Exception as e:\n",
    "        warnings.warn(latex.LatexWarning(f\"{paper_id:s} did not run properly\\n\" +\n",
    "                                         str(e)\n",
    "                                        ))\n",
    "        failed.append((paper, \"latex error \" + str(e)))"
   ]
  },
  {
   "cell_type": "markdown",
   "id": "2505a25c",
   "metadata": {
    "papermill": {
     "duration": 0.00694,
     "end_time": "2022-09-15T05:16:04.666505",
     "exception": false,
     "start_time": "2022-09-15T05:16:04.659565",
     "status": "completed"
    },
    "tags": []
   },
   "source": [
    "### Export the logs\n",
    "\n",
    "Throughout, we also keep track of the logs per paper. see `logs-{today date}.md` "
   ]
  },
  {
   "cell_type": "code",
   "execution_count": 6,
   "id": "d733828a",
   "metadata": {
    "execution": {
     "iopub.execute_input": "2022-09-15T05:16:04.682092Z",
     "iopub.status.busy": "2022-09-15T05:16:04.681542Z",
     "iopub.status.idle": "2022-09-15T05:16:04.717411Z",
     "shell.execute_reply": "2022-09-15T05:16:04.716666Z"
    },
    "papermill": {
     "duration": 0.045751,
     "end_time": "2022-09-15T05:16:04.719016",
     "exception": false,
     "start_time": "2022-09-15T05:16:04.673265",
     "status": "completed"
    },
    "scrolled": false,
    "tags": []
   },
   "outputs": [
    {
     "data": {
      "text/markdown": [
       "## Successful papers"
      ],
      "text/plain": [
       "<IPython.core.display.Markdown object>"
      ]
     },
     "metadata": {},
     "output_type": "display_data"
    },
    {
     "data": {
      "text/markdown": [
       "## Failed papers"
      ],
      "text/plain": [
       "<IPython.core.display.Markdown object>"
      ]
     },
     "metadata": {},
     "output_type": "display_data"
    },
    {
     "data": {
      "text/markdown": [
       "\n",
       "|||\n",
       "|---:|:---|\n",
       "| [![arXiv](https://img.shields.io/badge/arXiv-arXiv:2209.06226-b31b1b.svg)](https://arxiv.org/abs/arXiv:2209.06226) | **Gravitational wave fossils in nonlinear regime: halo tidal bias and  intrinsic alignments from gravitational wave separate universe simulations**  |\n",
       "|| Kazuyuki Akitsu, <mark>Yin Li</mark>, Teppei Okumura |\n",
       "|*Appeared on*| *2022-09-15*|\n",
       "|*Comments*| *27 pages, 17 figures, comments are welcome!*|\n",
       "|**Abstract**| We investigate impacts of long-wavelength gravitational waves (GWs) on nonlinear structure formation by utilizing the tidal separate universe simulations. Based on the equivalence of a long-wavelength GW to a uniform tidal field in a local frame, we provide a way to incorporate a long-wavelength GW into the tidal separate universe simulation as an effective anisotropic expansion. This methodology enables us to study effects of GWs on large-scale structure efficiently. We measure the anisotropic imprint in the local power spectrum from the tidal separate universe simulations with GWs, which corresponds to the scalar-scalar-tensor bispectrum in squeezed limit or the so-called power spectrum response to GWs. We also detect the halo tidal bias induced by GWs from the response of the halo-matter cross-power spectrum to GWs, as well as the linear shape bias (or the linear alignment coefficient) induced by GWs from the one-point function of the halo ellipticity. In contrast to the case of the tidal field induced by scalar perturbations, we discover that the wavenumber dependence of the temporal evolution of GWs naturally causes these biases to be scale-dependent. We also find that this scale dependence is well approximated by the second-order density induced by the coupling between scalar and tensor perturbation. This highlights that the structure formation, especially the process to determine the halo shape, is nonlocal in time. Our findings lay the foundation for predicting the impact of GWs on large-scale structure. |\n",
       "|<p style=\"color:green\"> **ERROR** </p>| <p style=\"color:green\">affiliation error: mpia.affiliation_verifications: 'Heidelberg' keyword not found.</p> |"
      ],
      "text/plain": [
       "<IPython.core.display.Markdown object>"
      ]
     },
     "metadata": {},
     "output_type": "display_data"
    },
    {
     "data": {
      "text/markdown": [
       "\n",
       "|||\n",
       "|---:|:---|\n",
       "| [![arXiv](https://img.shields.io/badge/arXiv-arXiv:2209.06227-b31b1b.svg)](https://arxiv.org/abs/arXiv:2209.06227) | **Polarized Blazar X-rays imply particle acceleration in shocks**  |\n",
       "|| <mark>Ioannis Liodakis</mark>, et al. -- incl., <mark>Henric Krawczynski</mark>, <mark>Elina Lindfors</mark>, <mark>Herman L. Marshall</mark>, <mark>Joseph R. Masiero</mark> |\n",
       "|*Appeared on*| *2022-09-15*|\n",
       "|*Comments*| *27 pages, 4 figures, 4 tables, author's version of the paper accepted for publication in Nature*|\n",
       "|**Abstract**| Blazars are active galactic nuclei that launch collimated, powerful jets of magnetized relativistic plasma. Their primary jet, whose emission typically spans from low-frequency radio to very high-energy ($\\gtrsim0.1$ TeV) $\\gamma$-rays (Blandford et al., 2019), is aligned towards our line of sight. Multiwavelength polarization is a crucial probe of the magnetic field structure and emission processes in such jets. Until now, sensitive polarization observations have been limited to the radio, infrared, and optical range, thereby leaving a gap in our knowledge of the physical conditions experienced by the most energetic particles. Here, we report the first-ever detection of X-ray polarization from the jet in an accreting supermassive black hole system, the blazar Markarian 501 (Mrk 501). The recently launched Imaging X-ray Polarimetry Explorer ($IXPE$, Weisskopf et al., 2022) measures a linear polarization degree ($\\Pi$) over the 2-8 keV X-ray energy range of 10$\\pm$2% with an electric vector position angle of 134$^\\circ\\pm$5$^\\circ$, parallel to the radio jet. The X-ray $\\Pi$ is more than a factor of 2 higher than the optical $\\Pi$. We conclude that an energy-stratified relativistic electron population, i.e., an acceleration scenario where the higher energy particles emit from more magnetically ordered regions closer to the acceleration site, is the most likely explanation of the higher degree of polarization at X-ray energies. A second $IXPE$ observation conducted 16 days later yielded similar results, strengthening our conclusions. |\n",
       "|<p style=\"color:green\"> **ERROR** </p>| <p style=\"color:green\">affiliation error: mpia.affiliation_verifications: 'Heidelberg' keyword not found.</p> |"
      ],
      "text/plain": [
       "<IPython.core.display.Markdown object>"
      ]
     },
     "metadata": {},
     "output_type": "display_data"
    },
    {
     "data": {
      "text/markdown": [
       "\n",
       "|||\n",
       "|---:|:---|\n",
       "| [![arXiv](https://img.shields.io/badge/arXiv-arXiv:2209.06229-b31b1b.svg)](https://arxiv.org/abs/arXiv:2209.06229) | **A Deep View into the Nucleus of the Sagittarius Dwarf Spheroidal Galaxy  with MUSE. III. Discrete multi-component population-dynamical models based on  the Jeans equations**  |\n",
       "|| Nikolay Kacharov, et al. -- incl., <mark>Mayte Alfaro-Cuello</mark>, <mark>Nadine Neumayer</mark> |\n",
       "|*Appeared on*| *2022-09-15*|\n",
       "|*Comments*| *Accepted for publication in ApJ*|\n",
       "|**Abstract**| We present comprehensive multi-component dynamical models of M54 (NGC6715), the nuclear star cluster of the Sagittarius dwarf galaxy (Sgr), which is undergoing a tidal disruption in the Milky Way halo. Previous papers in the series used a large MUSE mosaic data set to identify multiple stellar populations in the system and study their kinematic differences. Here we use Jeans-based dynamical models that fit the population properties (mean age and metallicity), spatial distributions, and kinematics simultaneously. They provide a solid physical explanation to our previous findings. The population-dynamical models deliver a comprehensive view of the whole system, and allow us to disentangle the different stellar populations. We explore their dynamical interplay and confirm our previous findings about the build-up of Sgr's nuclear cluster via contributions from globular cluster stars, Sgr inner field stars, and in-situ star formation. We explore various parameterisations of the gravitational potential and show the importance of a radially varying mass-to-light ratio for the proper treatment of the mass profile. We find a total dynamical mass within M54's tidal radius ($\\sim75$ pc) of $1.60\\pm0.07\\times10^6$ Msun in excellent agreement with $N$-body simulations. The metal-poor globular cluster stars contribute about $65\\%$ of the total mass or $1.04\\pm0.05\\times10^6$ Msun. The metal-rich stars can be further divided into young and intermediate age populations that contribute $0.32\\pm0.02\\times10^6$ Msun ($20\\%$) and $0.24\\pm0.02\\times10^6$ Msun ($15\\%$), respectively. Our population-dynamical models successfully distinguish the different stellar populations in Sgr's nucleus because of their different spatial distributions, ages, metallicities, and kinematic features. |\n",
       "|<p style=\"color:green\"> **ERROR** </p>| <p style=\"color:green\">affiliation error: mpia.affiliation_verifications: 'Heidelberg' keyword not found.</p> |"
      ],
      "text/plain": [
       "<IPython.core.display.Markdown object>"
      ]
     },
     "metadata": {},
     "output_type": "display_data"
    },
    {
     "data": {
      "text/markdown": [
       "\n",
       "|||\n",
       "|---:|:---|\n",
       "| [![arXiv](https://img.shields.io/badge/arXiv-arXiv:2209.06244-b31b1b.svg)](https://arxiv.org/abs/arXiv:2209.06244) | **Tracing Interstellar Heating: An ALCHEMI Measurement of the HCN Isomers  in NGC 253**  |\n",
       "|| Erica Behrens, et al. -- incl., <mark>Ruben Herrero-Illana</mark>, <mark>Christian Henkel</mark> |\n",
       "|*Appeared on*| *2022-09-15*|\n",
       "|*Comments*| *33 pages, 23 figures, accepted for publication by the Astrophysical Journal*|\n",
       "|**Abstract**| We analyze HCN and HNC emission in the nearby starburst galaxy NGC 253 to investigate its effectiveness in tracing heating processes associated with star formation. This study uses multiple HCN and HNC rotational transitions observed using ALMA via the ALCHEMI Large Program. To understand the conditions and associated heating mechanisms within NGC 253's dense gas, we employ Bayesian nested sampling techniques applied to chemical and radiative transfer models which are constrained using our HCN and HNC measurements. We find that the volume density $n_{\\text{H}_{2}}$ and cosmic ray ionization rate (CRIR) $\\zeta$ are enhanced by about an order of magnitude in the galaxy's central regions as compared to those further from the nucleus. In NGC 253's central GMCs, where observed HCN/HNC abundance ratios are lowest, $n \\sim 10^{5.5}$ cm$^{-3}$ and $\\zeta \\sim 10^{-12}$ s$^{-1}$ (greater than $10^4$ times the average Galactic rate). We find a positive correlation in the association of both density and CRIR with the number of star formation-related heating sources (supernova remnants, HII regions, and super hot cores) located in each GMC, as well as a correlation between CRIRs and supernova rates. Additionally, we see an anticorrelation between the HCN/HNC ratio and CRIR, indicating that this ratio will be lower in regions where $\\zeta$ is higher. Though previous studies suggested HCN and HNC may reveal strong mechanical heating processes in NGC 253's CMZ, we find cosmic ray heating dominates the heating budget, and mechanical heating does not play a significant role in the HCN and HNC chemistry. |\n",
       "|<p style=\"color:green\"> **ERROR** </p>| <p style=\"color:green\">affiliation error: mpia.affiliation_verifications: 'Heidelberg' keyword not found.</p> |"
      ],
      "text/plain": [
       "<IPython.core.display.Markdown object>"
      ]
     },
     "metadata": {},
     "output_type": "display_data"
    },
    {
     "data": {
      "text/markdown": [
       "\n",
       "|||\n",
       "|---:|:---|\n",
       "| [![arXiv](https://img.shields.io/badge/arXiv-arXiv:2209.06287-b31b1b.svg)](https://arxiv.org/abs/arXiv:2209.06287) | **The Nature of Unseen Companions in Massive Single-Line Spectroscopic  Binaries**  |\n",
       "|| Hugues Sana, et al. -- incl., <mark>Laurent Mahy</mark>, <mark>Norbert Langer</mark> |\n",
       "|*Appeared on*| *2022-09-15*|\n",
       "|*Comments*| *To appear in the proceedings of IAUS361: Massive stars near and far; 6 pages, 1 figure*|\n",
       "|**Abstract**| Massive stars are predominantly found in binaries and higher order multiples. While the period and eccentricity distributions of OB stars are now well established across different metallicity regimes, the determination of mass-ratios has been mostly limited to double-lined spectroscopic binaries. As a consequence, the mass-ratio distribution remains subject to significant uncertainties. Open questions include the shape and extent of the companion mass-function towards its low-mass end and the nature of undetected companions in single-lined spectroscopic binaries. In this contribution, we present the results of a large and systematic analysis of a sample of over 80 single-lined O-type spectroscopic binaries (SB1s) in the Milky Way and in the Large Magellanic Cloud (LMC). We report on the developed methodology, the constraints obtained on the nature of SB1 companions, the distribution of O star mass-ratios at LMC metallicity and the occurrence of quiescent OB+black hole binaries. |\n",
       "|<p style=\"color:green\"> **ERROR** </p>| <p style=\"color:green\">affiliation error: mpia.affiliation_verifications: 'Heidelberg' keyword not found.</p> |"
      ],
      "text/plain": [
       "<IPython.core.display.Markdown object>"
      ]
     },
     "metadata": {},
     "output_type": "display_data"
    },
    {
     "data": {
      "text/markdown": [
       "\n",
       "|||\n",
       "|---:|:---|\n",
       "| [![arXiv](https://img.shields.io/badge/arXiv-arXiv:2209.06301-b31b1b.svg)](https://arxiv.org/abs/arXiv:2209.06301) | **Using 1991T/1999aa-like Type Ia Supernovae as Standardizable Candles**  |\n",
       "|| Jiawen Yang, et al. -- incl., <mark>Lifan Wang</mark>, <mark>Peter J. Brown</mark> |\n",
       "|*Appeared on*| *2022-09-15*|\n",
       "|*Comments*| *25 pages, 10 figures, 10 tables, Accepted for publication in ApJ*|\n",
       "|**Abstract**| We present the photometry of 16 91T/99aa-like Type Ia Supernovae (SNe Ia) observed by the Las Cumbres Observatory. We also use an additional set of 21 91T/99aa-like SNe Ia and 87 normal SNe Ia from the literature for an analysis of the standardizability of the luminosity of 91T/99aa-like SNe. We find that 91T/99aa-like SNe are 0.2 mag brighter than normal SNe Ia, even when fully corrected by the light curve shapes and colors. The weighted root-mean-square of 91T/99aa-like SNe (with $z_{CMB}>0.01$) Hubble residuals is $0.25\\pm0.03$ mag, suggesting that 91T/99aa-like SNe are also excellent relative distance indicators to $\\pm$12%. We compare the Hubble residuals with the pseudo-equivalent width (pEW) of Si II $\\lambda\\lambda$6355 around the date of maximum brightness. We find that there is a broken linear correlation in between those two measurements for our sample including both 91T/99aa-like and normal SNe Ia. As the $pEW_{max}$(Si II $\\lambda\\lambda$6355) increasing, the Hubble residual increases when $pEW_{max}$(Si II $\\lambda\\lambda$6355)$<55.6$ \\r{A}. However, the Hubble residual stays constant beyond this. Given that 91T/99aa-like SNe possess shallower Si II lines than normal SNe Ia, the linear correlation at $pEW_{max}$(Si II $\\lambda\\lambda$6355)$<55.6$ \\r{A} can account for the overall discrepancy of Hubble residuals derived from the two subgroups. Such a systematic effect needs to be taken into account when using SNe Ia to measure luminosity distances. |\n",
       "|<p style=\"color:green\"> **ERROR** </p>| <p style=\"color:green\">affiliation error: mpia.affiliation_verifications: 'Heidelberg' keyword not found.</p> |"
      ],
      "text/plain": [
       "<IPython.core.display.Markdown object>"
      ]
     },
     "metadata": {},
     "output_type": "display_data"
    },
    {
     "data": {
      "text/markdown": [
       "\n",
       "|||\n",
       "|---:|:---|\n",
       "| [![arXiv](https://img.shields.io/badge/arXiv-arXiv:2209.06303-b31b1b.svg)](https://arxiv.org/abs/arXiv:2209.06303) | **Using machine learning to investigate the populations of dusty evolved  stars in various metallicities**  |\n",
       "|| Grigoris Maravelias, et al. -- incl., <mark>Frank Tramper</mark> |\n",
       "|*Appeared on*| *2022-09-15*|\n",
       "|*Comments*| *6 pages, 2 figures, submited to the proceedings of IAUS 361 Massive Stars Near and Far*|\n",
       "|**Abstract**| Mass loss is a key property to understand stellar evolution and in particular for low-metallicity environments. Our knowledge has improved dramatically over the last decades both for single and binary evolutionary models. However, episodic mass loss although definitely present observationally, is not included in the models, while its role is currently undetermined. A major hindrance is the lack of large enough samples of classified stars. We attempted to address this by applying an ensemble machine-learning approach using color indices (from IR/Spitzer and optical/Pan-STARRS photometry) as features and combining the probabilities from three different algorithms. We trained on M31 and M33 sources with known spectral classification, which we grouped into Blue/Yellow/Red/B[e] Supergiants, Luminous Blue Variables, classical Wolf-Rayet and background galaxies/AGNs. We then applied the classifier to about one million Spitzer point sources from 25 nearby galaxies, spanning a range of metallicites ($1/15$ to $\\sim3~Z_{\\odot}$). Equipped with spectral classifications we investigated the occurrence of these populations with metallicity. |\n",
       "|<p style=\"color:green\"> **ERROR** </p>| <p style=\"color:green\">affiliation error: mpia.affiliation_verifications: 'Heidelberg' keyword not found.</p> |"
      ],
      "text/plain": [
       "<IPython.core.display.Markdown object>"
      ]
     },
     "metadata": {},
     "output_type": "display_data"
    },
    {
     "data": {
      "text/markdown": [
       "\n",
       "|||\n",
       "|---:|:---|\n",
       "| [![arXiv](https://img.shields.io/badge/arXiv-arXiv:2209.06312-b31b1b.svg)](https://arxiv.org/abs/arXiv:2209.06312) | **Probing Photon Statistics in Adaptive Optics Images with SCExAO/MEC**  |\n",
       "|| Sarah Steiger, et al. -- incl., <mark>Alexander B. Walter</mark> |\n",
       "|*Appeared on*| *2022-09-15*|\n",
       "|*Comments*| *11 pages, 9 figures, accepted for publication in AJ*|\n",
       "|**Abstract**| We present an experimental study of photon statistics for high-contrast imaging with the Microwave Kinetic Inductance Detector (MKID) Exoplanet Camera (MEC) located behind the Subaru Coronagraphic Extreme Adaptive Optics System (SCExAO) at the Subaru Telescope. We show that MEC measures the expected distributions for both on-axis companion intensity and off-axis intensity which manifests as quasi-static speckles in the image plane and currently limits high-contrast imaging performance. These statistics can be probed by any MEC observation due to the photon-counting capabilities of MKID detectors. Photon arrival time statistics can also be used to directly distinguish companions from speckles using a post-processing technique called Stochastic Speckle Discrimination (SSD). Here, we we give an overview of the SSD technique and highlight the first demonstration of SSD on an extended source -- the protoplanetary disk AB Aurigae. We then present simulations that provide an in-depth exploration as to the current limitations of an extension of the SSD technique called Photon-Counting SSD (PCSSD) to provide a path forward for transitioning PCSSD from simulations to on-sky results. We end with a discussion of how to further improve the efficacy of such arrival time based post-processing techniques applicable to both MKIDs, as well as other high speed astronomical cameras. |\n",
       "|<p style=\"color:green\"> **ERROR** </p>| <p style=\"color:green\">affiliation error: mpia.affiliation_verifications: 'Heidelberg' keyword not found.</p> |"
      ],
      "text/plain": [
       "<IPython.core.display.Markdown object>"
      ]
     },
     "metadata": {},
     "output_type": "display_data"
    },
    {
     "data": {
      "text/markdown": [
       "\n",
       "|||\n",
       "|---:|:---|\n",
       "| [![arXiv](https://img.shields.io/badge/arXiv-arXiv:2209.06343-b31b1b.svg)](https://arxiv.org/abs/arXiv:2209.06343) | **Do Periods of Decayless Kink Oscillations of Solar Coronal Loops Depend  on Noise?**  |\n",
       "|| Valery M. Nakariakov, Dmitrii Y. Kolotkov, <mark>Sihui Zhong</mark> |\n",
       "|*Appeared on*| *2022-09-15*|\n",
       "|*Comments*| *Accepted for publication in MNRAS. 5 pages, 4 figures*|\n",
       "|**Abstract**| Decayless kink oscillations of solar coronal loops are studied in terms of a low-dimensional model based on a randomly driven Rayleigh oscillator with coefficients experiencing random fluctuations. The model considers kink oscillations as natural modes of coronal loops, decaying by linear resonant absorption. The damping is counteracted by random motions of the loop footpoints and the interaction of the loop with external quasi-steady flows with random fluctuations. In other words, the model combines the self-oscillatory and randomly driven mechanisms for the decayless behaviour. The random signals are taken to be of the stationary red noise nature. In the noiseless case, the model has an asymptotically stationary oscillatory solution, i.e., a kink self-oscillation. It is established that the kink oscillation period is practically independent of noise. This finding justifies the seismological estimations of the kink and Alfv\\'en speeds and the magnetic field in an oscillating loop by kink oscillations, based on the observed oscillation period. The oscillatory patterns are found to be almost harmonic. Noisy fluctuations of external flows modulate the amplitude of the almost monochromatic oscillatory pattern symmetrically, while random motions of the loop footpoints cause antisymmetric amplitude modulation. Such modulations are also consistent with the observed behaviour. |\n",
       "|<p style=\"color:green\"> **ERROR** </p>| <p style=\"color:green\">affiliation error: mpia.affiliation_verifications: 'Heidelberg' keyword not found.</p> |"
      ],
      "text/plain": [
       "<IPython.core.display.Markdown object>"
      ]
     },
     "metadata": {},
     "output_type": "display_data"
    },
    {
     "data": {
      "text/markdown": [
       "\n",
       "|||\n",
       "|---:|:---|\n",
       "| [![arXiv](https://img.shields.io/badge/arXiv-arXiv:2209.06444-b31b1b.svg)](https://arxiv.org/abs/arXiv:2209.06444) | **The importance of radiative pumping on the emission of the H_2O  submillimeter lines in galaxies**  |\n",
       "|| Eduardo González-Alfonso, et al. -- incl., <mark>Jacqueline Fischer</mark> |\n",
       "|*Appeared on*| *2022-09-15*|\n",
       "|*Comments*| *Accepted for publication in Astronomy & Astrophysics Letters*|\n",
       "|**Abstract**| H_2O submillimeter emission is a powerful diagnostic of the molecular interstellar medium in a variety of sources, including low- and high-mass star forming regions of the Milky Way, and from local to high redshift galaxies. However, the excitation mechanism of these lines in galaxies has been debated, preventing a basic consensus on the physical information that H_2O provides. Both radiative pumping due to H_2O absorption of far-infrared photons emitted by dust and collisional excitation in dense shocked gas have been proposed to explain the H_2O emission. Here we propose two basic diagnostics to distinguish between the two mechanisms: 1) in shock excited regions, the ortho-H_2O 3_{21}-2_{12} 75um and the para-H_2O 2_{20}-1_{11} 101um rotational lines are expected to be in emission while, if radiative pumping dominates, both far-infrared lines are expected to be in absorption; 2) based on statistical equilibrium of H_2O level populations, the radiative pumping scenario predicts that the apparent isotropic net rate of far-infrared absorption in the 3_{21}-2_{12} (75um) and 2_{20}-1_{11} (101um) lines should be higher than or equal to the apparent isotropic net rate of submillimeter emission in the 3_{21}-3_{12} (1163 GHz) and 2_20-2_{11} (1229 GHz) lines, respectively. Applying both criteria to all 16 galaxies and several galactic high-mass star-forming regions where the H_2O 75um and submillimeter lines have been observed with Herschel/PACS and SPIRE, we show that in most (extra)galactic sources the H_2O submillimeter line excitation is dominated by far-infrared pumping, with collisional excitation of the low-excitation levels in some of them. Based on this finding, we revisit the interpretation of the correlation between the luminosity of the H_2O 988 GHz line and the source luminosity in the combined galactic and extragalactic sample. |\n",
       "|<p style=\"color:green\"> **ERROR** </p>| <p style=\"color:green\">affiliation error: mpia.affiliation_verifications: 'Heidelberg' keyword not found.</p> |"
      ],
      "text/plain": [
       "<IPython.core.display.Markdown object>"
      ]
     },
     "metadata": {},
     "output_type": "display_data"
    },
    {
     "data": {
      "text/markdown": [
       "\n",
       "|||\n",
       "|---:|:---|\n",
       "| [![arXiv](https://img.shields.io/badge/arXiv-arXiv:2209.06531-b31b1b.svg)](https://arxiv.org/abs/arXiv:2209.06531) | **Cosmic searches for Lorentz invariance violation**  |\n",
       "|| <mark>Carlos Pérez de los Heros</mark>, Tomislav Terzić |\n",
       "|*Appeared on*| *2022-09-15*|\n",
       "|*Comments*| *To appear as a chapter in the book \"Modified and Quantum Gravity - From Theory to Experimental Searches on All Scales\", C. L\\\"ammerzahl and C. Pfeifer editors. Springer Nature*|\n",
       "|**Abstract**| Cosmic messengers (gamma rays, cosmic rays, neutrinos and gravitational waves) provide a powerful complementary way to search for Lorentz invariance violating effects to laboratory-based experiments. The long baselines and high energies involved make Cherenkov telescopes, air-shower arrays, neutrino telescopes and gravitational wave detectors unique tools to probe the expected tiny effects that the breaking of Lorentz invariance would cause in the propagation of these messengers, in comparison with the standard scenario. In this chapter we explain the expected effects that the mentioned detectors can measure and summarize current results of searches for Lorentz violation. |\n",
       "|<p style=\"color:green\"> **ERROR** </p>| <p style=\"color:green\">affiliation error: mpia.affiliation_verifications: 'Heidelberg' keyword not found.</p> |"
      ],
      "text/plain": [
       "<IPython.core.display.Markdown object>"
      ]
     },
     "metadata": {},
     "output_type": "display_data"
    },
    {
     "data": {
      "text/markdown": [
       "\n",
       "|||\n",
       "|---:|:---|\n",
       "| [![arXiv](https://img.shields.io/badge/arXiv-arXiv:2209.06559-b31b1b.svg)](https://arxiv.org/abs/arXiv:2209.06559) | **Seismic noise characterisation at Gingin high optical gravitational wave  test facility**  |\n",
       "|| Hamid Satari, et al. -- incl., <mark>Li Ju</mark>, <mark>Patrick Meyers</mark> |\n",
       "|*Appeared on*| *2022-09-15*|\n",
       "|*Comments*| *The results have been presented at LVK conference, September 2022. 20 pages, 9 figures*|\n",
       "|**Abstract**| A critical consideration in the design of next generation gravitational wave detectors is isolation from seismic vibrations that introduces various coherent and incoherent noises to the interferometers at different frequencies. We present the results of a detailed low frequency ambient seismic noise characterization (0.1--10~Hz) at Gingin High Optical Power Facility in Western Australia using a seismic array. The dominant noise sources below 1~Hz is microseism (0.06--1~Hz), strongly correlated with swell and sea heights measured by nearby buoy stations. Above 1~Hz, the seismic spectrum is dominated by wind induced seismic noise with a diurnal variation that prevents characterizing the background anthropogenic noise sources based on their daily power variations. We use f-k beamforming to distinguish between coherent and incoherent wind induced seismic noise. This allows the separation of some anthropogenic noise from wind induced noise based on the temporal variation of spatio-spectral properties. We show that the seismic coherency is reduced by wind induced seismic noise for wind speeds above 6~m/s. Furthermore, there are several spectral peaks between 4--9~Hz associated with the interaction of wind with a 40~m tall tower among which one at 4.2~Hz is strongest and coherent. By comparing our results with the properties of seismic noise at Virgo, we demonstrate that while the secondary microseism noise level is two orders of magnitude higher in Gingin (0.2~Hz), the anthropogenic noise level is three orders of magnitude lower between 2 and 4~Hz due to the absence of nearby road traffic. It is also at least one order of magnitude lower between 4 and 10~Hz due to the sparse population in Gingin. |\n",
       "|<p style=\"color:green\"> **ERROR** </p>| <p style=\"color:green\">affiliation error: mpia.affiliation_verifications: 'Heidelberg' keyword not found.</p> |"
      ],
      "text/plain": [
       "<IPython.core.display.Markdown object>"
      ]
     },
     "metadata": {},
     "output_type": "display_data"
    },
    {
     "data": {
      "text/markdown": [
       "\n",
       "|||\n",
       "|---:|:---|\n",
       "| [![arXiv](https://img.shields.io/badge/arXiv-arXiv:2209.06617-b31b1b.svg)](https://arxiv.org/abs/arXiv:2209.06617) | **An 18.9-minute Blue Large-Amplitude Pulsator Crossing the Hertzsprung  Gap of Hot Subdwarfs**  |\n",
       "|| <mark>Jie Lin</mark>, et al. -- incl., <mark>Herang Xiong</mark>, <mark>Jujia Zhang</mark>, <mark>Jicheng Zhang</mark>, <mark>Liyang Chen</mark>, <mark>Fangzhou Guo</mark>, <mark>Wenxiong Li</mark>, <mark>Weili Lin</mark>, <mark>Han Lin</mark>, <mark>Xinghan Zhang</mark> |\n",
       "|*Appeared on*| *2022-09-15*|\n",
       "|*Comments*| *26 pages, 12 figures, 4 tables, submitted*|\n",
       "|**Abstract**| Blue large-amplitude pulsators (BLAPs) represent a new and rare class of hot pulsating stars with unusually large amplitudes and short periods. The evolutionary path that could give rise to such kinds of stellar configurations is unclear. Here we report on a comprehensive study of the peculiar BLAP discovered by the Tsinghua University - Ma Huateng Telescopes for Survey (TMTS), TMTS J035143.63+584504.2 (TMTS-BLAP-1). This new BLAP has an 18.9 min pulsation period and is similar to the BLAPs with a low surface gravity and an extended helium-enriched envelope, suggesting that it is a low-gravity BLAP at the shortest-period end. In particular, the long-term monitoring data reveal that this pulsating star has an unusually large rate of period change, P_dot/P=2.2e-6/yr. Such a significant and positive value challenges its origins from both helium-core pre-white-dwarfs and core helium-burning subdwarfs, but is consistent with that derived from shell helium-burning subdwarfs. The particular pulsation period and unusual rate of period change indicate that TMTS-BLAP-1 is at a short-lived (~10^6 yr) phase of shell-helium ignition before the stable shell-helium burning; in other words, TMTS-BLAP-1 is going through a \"Hertzsprung gap\" of hot subdwarfs. |\n",
       "|<p style=\"color:green\"> **ERROR** </p>| <p style=\"color:green\">affiliation error: mpia.affiliation_verifications: 'Heidelberg' keyword not found.</p> |"
      ],
      "text/plain": [
       "<IPython.core.display.Markdown object>"
      ]
     },
     "metadata": {},
     "output_type": "display_data"
    },
    {
     "data": {
      "text/markdown": [
       "\n",
       "|||\n",
       "|---:|:---|\n",
       "| [![arXiv](https://img.shields.io/badge/arXiv-arXiv:2209.06662-b31b1b.svg)](https://arxiv.org/abs/arXiv:2209.06662) | **Detection of a quasi-periodic oscillation at $\\sim$40 mHz in Cen X-3  with Insight-HXMT**  |\n",
       "|| <mark>Q. Liu</mark>, et al. -- incl., <mark>S. Zhang</mark>, <mark>S. N. Zhang</mark> |\n",
       "|*Appeared on*| *2022-09-15*|\n",
       "|*Comments*| *9 pages, MNRAS in press*|\n",
       "|**Abstract**| We investigated the quasi-periodic oscillation (QPO) features in the accretion-powered X-ray pulsar Cen X-3 observed by Insight-HXMT. For two observations in 2020 when Cen X-3 was in an extremely soft state, the power density spectrum revealed the presence of obvious QPO features at $\\sim$40 mHz with an averaged fractional rms amplitude of $\\sim9\\%$. We study the mHz QPO frequency and rms amplitude over orbital phases, and find that the QPO frequency is $\\sim$33-39 mHz at the orbital phase of 0.1-0.4, increasing to $\\sim$37-43 mHz in the orbital phase of 0.4-0.8, but has no strong dependence on X-ray intensity. We also carried out an energy-dependent QPO analysis, the rms amplitude of the mHz QPOs have a decreasing trend as the energy increases from 2 to 20 keV. In addition, the QPO time-lag analysis shows that the time delay is $\\sim 20$ ms (a hard lag) in the range of $\\sim$5-10 keV, and becomes negative (time lag of $-(20-70)$ ms) above $\\sim 10$ keV. The different QPO theoretical models are summarized and discussed. In the end, we suggest that these energy-dependent timing features as well as the origin of mHz QPOs in Cen X-3 may be ascribed to an instability when the accretion disk is truncated near the corotation radius. |\n",
       "|<p style=\"color:green\"> **ERROR** </p>| <p style=\"color:green\">affiliation error: mpia.affiliation_verifications: 'Heidelberg' keyword not found.</p> |"
      ],
      "text/plain": [
       "<IPython.core.display.Markdown object>"
      ]
     },
     "metadata": {},
     "output_type": "display_data"
    },
    {
     "data": {
      "text/markdown": [
       "\n",
       "|||\n",
       "|---:|:---|\n",
       "| [![arXiv](https://img.shields.io/badge/arXiv-arXiv:2209.06680-b31b1b.svg)](https://arxiv.org/abs/arXiv:2209.06680) | **Geometric albedos at short optical wavelengths for the hot Jupiters  WASP-43b, WASP-103b, and TrES-3b**  |\n",
       "|| <mark>Matthias Mallonn</mark>, <mark>Enrique Herrero</mark>, Carolina von Essen |\n",
       "|*Appeared on*| *2022-09-15*|\n",
       "|*Comments*| *Accepted for RNAAS*|\n",
       "|**Abstract**| The largest and most close-in exoplanets would reflect enough star light to enable its ground-based photometric detection under the condition of a high to moderate albedo. We present the results of an observing campaign of secondary eclipse light curves of three of the most suitable exoplanet targets, WASP-43b, WASP-103b, and TrES-3b. The observations were conducted with meter-sized telescopes in the blue optical broadband filters Johnson B and Johnson V. We do not detect a photometric dimming at the moment of the eclipse, and derive a best-fit eclipse depth by an injection-recovery test. These depth values are then used to infer low geometric albedos ranging from zero to 0.18 with an uncertainty of 0.12 or better in most cases. This work illustrates the potential of ground-based telescopes to provide wavelength-resolved reflection properties of selected exoplanets even at short optical wavelengths, which otherwise are only accessible by the Hubble Space Telescope. |\n",
       "|<p style=\"color:green\"> **ERROR** </p>| <p style=\"color:green\">affiliation error: mpia.affiliation_verifications: 'Heidelberg' keyword not found.</p> |"
      ],
      "text/plain": [
       "<IPython.core.display.Markdown object>"
      ]
     },
     "metadata": {},
     "output_type": "display_data"
    },
    {
     "data": {
      "text/markdown": [
       "\n",
       "|||\n",
       "|---:|:---|\n",
       "| [![arXiv](https://img.shields.io/badge/arXiv-arXiv:2209.06712-b31b1b.svg)](https://arxiv.org/abs/arXiv:2209.06712) | **Prominence fine structures in weakly twisted and highly twisted magnetic  flux ropes**  |\n",
       "|| <mark>J. H. Guo</mark>, et al. -- incl., <mark>Y. Guo</mark> |\n",
       "|*Appeared on*| *2022-09-15*|\n",
       "|*Comments*| *10 pages, 7 figures, accepted for publication in A&A*|\n",
       "|**Abstract**| Many prominences are supported by magnetic flux ropes. One important question is how we can determine whether the flux rope is weakly-twisted or strongly-twisted. In this paper, we attempted to check whether prominences supported by weakly-twisted and strongly-twisted flux ropes can manifest different features so that we might distinguish the two types of magnetic structures by their appearance. We performed pseudo three-dimensional simulations of two magnetic flux ropes with different twists. We found that the resulting two prominences differ in many aspects. The prominence supported by a weakly-twisted flux rope is composed mainly of transient threads, forming high-speed flows inside the prominence. Its horns are evident. Conversely, the one supported by a highly-twisted flux rope consists mainly of stable quasi-stationary threads, including longer independently trapped threads and shorter magnetically connected threads. It is also revealed that the prominence spine deviates from the flux rope axis in the vertical direction and from the photospheric polarity inversion line projected on the solar surface, especially for the weakly-twisted magnetic flux rope. The two types of prominences differ significantly in appearance. It is also suggested that a piling-up of short threads in highly-twisted flux ropes might account for the vertical-like threads in some prominences. |\n",
       "|<p style=\"color:green\"> **ERROR** </p>| <p style=\"color:green\">affiliation error: mpia.affiliation_verifications: 'Heidelberg' keyword not found.</p> |"
      ],
      "text/plain": [
       "<IPython.core.display.Markdown object>"
      ]
     },
     "metadata": {},
     "output_type": "display_data"
    },
    {
     "data": {
      "text/markdown": [
       "\n",
       "|||\n",
       "|---:|:---|\n",
       "| [![arXiv](https://img.shields.io/badge/arXiv-arXiv:2209.06741-b31b1b.svg)](https://arxiv.org/abs/arXiv:2209.06741) | **GOALS-JWST: Tracing AGN Feedback on the Star-Forming ISM in NGC 7469**  |\n",
       "|| Thomas S. -Y. Lai, et al. -- incl., <mark>Lee Armus</mark>, <mark>Sean Linden</mark>, <mark>J.D.T. Smith</mark>, <mark>Joseph M. Mazzarella</mark>, <mark>Michael J. I. Brown</mark> |\n",
       "|*Appeared on*| *2022-09-15*|\n",
       "|*Comments*| *13 pages, 4 figures, 2 tables, Submitted to ApJL*|\n",
       "|**Abstract**| We present James Webb Space Telescope (JWST) Mid-InfraRed Instrument (MIRI) integral-field spectroscopy of the nearby merging, luminous infrared galaxy, NGC 7469. This galaxy hosts a Seyfert type-1.5 nucleus, a highly ionized outflow, and a bright, circumnuclear star-forming ring, making it an ideal target to study AGN feedback in the local Universe. We take advantage of the high spatial/spectral resolution of JWST/MIRI to isolate the star-forming regions surrounding the central active nucleus and study the properties of the dust and warm molecular gas on ~100 pc scales. The starburst ring exhibits prominent Polycyclic Aromatic Hydrocarbon (PAH) emission, with grain sizes and ionization states varying by only ~30%, and a total star formation rate of $\\rm 10 - 30 \\ M_\\odot$/yr derived from fine structure and recombination emission lines. Using pure rotational lines of H2, we detect 1.2$\\times$10$^{7} \\rm \\ M_\\odot$ of warm molecular gas at a temperature higher than 200 K in the ring. All PAH bands get significantly weaker towards the central source, where larger and possibly more ionized grains dominate the emission. However, the bulk of the dust and molecular gas in the ring appears unaffected by the ionizing radiation or the outflowing wind from the AGN. These observations highlight the power of JWST to probe the inner regions of dusty, rapidly evolving galaxies for signatures of feedback and inform models that seek to explain the co-evolution of supermassive black holes and their hosts. |\n",
       "|<p style=\"color:green\"> **ERROR** </p>| <p style=\"color:green\">affiliation error: mpia.affiliation_verifications: 'Heidelberg' keyword not found.</p> |"
      ],
      "text/plain": [
       "<IPython.core.display.Markdown object>"
      ]
     },
     "metadata": {},
     "output_type": "display_data"
    },
    {
     "data": {
      "text/markdown": [
       "\n",
       "|||\n",
       "|---:|:---|\n",
       "| [![arXiv](https://img.shields.io/badge/arXiv-arXiv:2209.06766-b31b1b.svg)](https://arxiv.org/abs/arXiv:2209.06766) | **A Kinematical Study of the Dwarf Irregular Galaxy NGC 1569 and its  Supernova Remnants**  |\n",
       "|| M. Sanchez-Cruces, et al. -- incl., <mark>M. A. Lara-Lopez</mark> |\n",
       "|*Appeared on*| *2022-09-15*|\n",
       "|*Comments*| *20 pages, 10 Figures*|\n",
       "|**Abstract**| We present Fabry-Perot observations in the H$\\alpha$ and [S II] lines to study the kinematics of the Magellanic-type dwarf irregular galaxy NGC 1569, these observations allowed us to computed the H$\\alpha$ velocity field of this galaxy. Doing a detailed analysis of the velocity along the line-of-sight and H$\\alpha$ velocity profiles, we identified the origin of most of the motions in the innermost parts of the galaxy and discarded the possibility of deriving a rotation curve that traces the gravitational well of the galaxy. We analysed the kinematics of the ionised gas around 31 supernova remnants previously detected in NGC 1569 by other authors, in optical and radio emission. We found that the H$\\alpha$ velocity profiles of the supernova remnants are complex indicating the presence of shocks. Fitting these profiles with several Gaussian functions, we computed their expansion velocities which rank from 87 to 188 km s$^{-1}$ confirming they are supernova remnants. Also, we determined the physical properties such as electron density, mechanical energy, and kinematic age for 30 of the 31 supernova remnants and found they are in the radiative phase with an energy range from 1 to 39$\\times$10$^{50}$ erg s$^{-1}$ and an age from 2.3 to 8.9$\\times$10$^4$ yr. Finally, we estimated the Surface Brightness - Diameter ($\\Sigma$-D) Relation for NGC 1569 and obtained a slope $\\beta$ = 1.26$\\pm$0.2, comparable with the $\\beta$ value obtained for supernova remnants in galaxies M31 and M33. |\n",
       "|<p style=\"color:green\"> **ERROR** </p>| <p style=\"color:green\">affiliation error: mpia.affiliation_verifications: 'Heidelberg' keyword not found.</p> |"
      ],
      "text/plain": [
       "<IPython.core.display.Markdown object>"
      ]
     },
     "metadata": {},
     "output_type": "display_data"
    },
    {
     "data": {
      "text/markdown": [
       "\n",
       "|||\n",
       "|---:|:---|\n",
       "| [![arXiv](https://img.shields.io/badge/arXiv-arXiv:2209.06513-b31b1b.svg)](https://arxiv.org/abs/arXiv:2209.06513) | **Low-temperature optical constants of amorphous silicate dust analogues**  |\n",
       "|| K. Demyk, et al. -- incl., <mark>P. Hubert</mark> |\n",
       "|*Appeared on*| *2022-09-15*|\n",
       "|*Comments*| **|\n",
       "|**Abstract**| Cosmic dust models are key ingredients in advancing our understanding of astronomical environments as diverse as interstellar clouds in galaxies, circumstellar envelopes around evolved and young stars, and protoplanetary disks. Such models consist of several dust populations, each with different compositions and size distributions. They may also consider different grain shapes, although most models assume spherical grains. All include a component of silicate dust. The absorption and emission properties of these dust components are calculated from the optical constants of each dust material which have various experimental, phenomenological, and theoretical origins depending on the model. We aim to provide the community with new sets of optical constants for amorphous silicate dust analogues at low temperatures. The analogues consist of four Mg-rich silicate samples of stoichiometry ranging from enstatite to olivine, and of eight samples of Mg and Fe rich silicates with a pyroxene stoichiometry and differing magnesium and iron content. We calculated the optical constants from transmission measurements using the Kramers-Kronig relations, assuming that the grains are small compared to the wavelength and prolate in shape with axis ratios of 1.5 and 2 for the Mg and Fe rich samples, respectively. New optical constants for silicate dust analogues were calculated over the wavelength range from 5 to 800-1000 microns, depending on the sample, and at temperatures of 10, 30, 100, 200, and 300 K.We determined the uncertainties on the derived optical constants based on the assumptions used to calculate them. To facilitate the use of these data in cosmic dust models, we provide optical constants extrapolated outside the measured spectral range into the UV-NIR and mm-cm wavelength ranges, as well as formulae that can be used to interpolate them at any temperature in the range 10 - 300 K. |\n",
       "|<p style=\"color:green\"> **ERROR** </p>| <p style=\"color:green\">affiliation error: mpia.affiliation_verifications: 'Max' keyword not found.</p> |"
      ],
      "text/plain": [
       "<IPython.core.display.Markdown object>"
      ]
     },
     "metadata": {},
     "output_type": "display_data"
    },
    {
     "data": {
      "text/markdown": [
       "\n",
       "|||\n",
       "|---:|:---|\n",
       "| [![arXiv](https://img.shields.io/badge/arXiv-arXiv:2209.06714-b31b1b.svg)](https://arxiv.org/abs/arXiv:2209.06714) | **Revisiting the Evidence for an Intermediate-mass Black Hole in the  Center of NGC 6624 with Simulations**  |\n",
       "|| <mark>Li-Chun Wang</mark>, <mark>Yi Xie</mark> |\n",
       "|*Appeared on*| *2022-09-15*|\n",
       "|*Comments*| *10 pages, 3 figures; accepted for publication in Research in Astronomy and Astrophysics*|\n",
       "|**Abstract**| The acceleration of LMXB 4U 1820-30 that derived from its orbital-period derivative $\\dot P_{\\rm b}$ was supposed to be the evidence for an Intermediate-mass Black Hole (IMBH) in the Galactic globular cluster (GC) NGC 6624. However, we find that the anomalous $\\dot P_{\\rm b}$ is mainly due to the gravitational wave emission, rather than the acceleration in cluster potential. Using the standard structure models of GCs, we simulate acceleration distributions for pulsars in the central region of the cluster. By fitting the acceleration of J1823-3021A with the simulated distribution profiles (maximum values), it is suggested that an IMBH with mass $M\\gtrsim 950^{+550}_{-350}~M_{\\odot}$ may reside in the cluster center. We further show that the second period derivative $\\ddot P$ of J1823-3021A is probably due to the gravitational perturbation of a nearby star. |\n",
       "|<p style=\"color:red\"> **ERROR** </p>| <p style=\"color:red\">latex error 'utf-8' codec can't decode byte 0xa8 in position 35860: invalid start byte</p> |"
      ],
      "text/plain": [
       "<IPython.core.display.Markdown object>"
      ]
     },
     "metadata": {},
     "output_type": "display_data"
    },
    {
     "data": {
      "text/markdown": [
       "\n",
       "|||\n",
       "|---:|:---|\n",
       "| [![arXiv](https://img.shields.io/badge/arXiv-arXiv:2209.06288-b31b1b.svg)](https://arxiv.org/abs/arXiv:2209.06288) | **Harmonic Electron Cyclotron Maser Emission along the Coronal Loop**  |\n",
       "|| Mehdi Yousefzadeh, Yao Chen, Hao Ning, <mark>Mahboub Hosseinpour</mark> |\n",
       "|*Appeared on*| *2022-09-15*|\n",
       "|*Comments*| **|\n",
       "|**Abstract**| Efficient radiation at second and/or higher harmonics of Wce has been suggested to circumvent the escaping difficulty of the electron cyclotron maser emission mechanism when it is applied to solar radio bursts, such as spikes. In our earlier study, we developed a three-step numerical scheme to connect the dynamics of energetic electrons within a large-scale coronal loop structure with the microscale kinetic instability energized by the obtained nonthermal velocity distribution and found that direct and efficient harmonic X-mode (X2 for short) emission can be achieved due to the strip-like features of the distribution. That study only considered the radiation from the loop top at a specific time. Here we present the emission properties along the loop at different locations and timings. We found that, in accordance with our earlier results, few to several strip-like features can appear in all cases, and the first two strips play the major role in exciting X2 and Z (i.e., the slow extraordinary mode) that propagate quasi-perpendicularly. For the four sections along the loop, significant excitation of X2 is observed from the upper two sections, and the strongest emission is from the top section. In addition, significant excitation of Z is observed for all loop sections, while there is no significant emission of the fundamental X mode. The study provides new insight into coherent maser emission along the coronal loop structure during solar flares. |\n",
       "|<p style=\"color:red\"> **ERROR** </p>| <p style=\"color:red\">latex error not a gzip file</p> |"
      ],
      "text/plain": [
       "<IPython.core.display.Markdown object>"
      ]
     },
     "metadata": {},
     "output_type": "display_data"
    },
    {
     "data": {
      "text/markdown": [
       "\n",
       "|||\n",
       "|---:|:---|\n",
       "| [![arXiv](https://img.shields.io/badge/arXiv-arXiv:2209.06659-b31b1b.svg)](https://arxiv.org/abs/arXiv:2209.06659) | **Effects of impact and target parameters on the results of a kinetic  impactor: predictions for the Double Asteroid Redirection Test (DART) mission**  |\n",
       "|| Angela M. Stickle, et al. -- incl., <mark>Mallory E. DeCoster</mark>, <mark>Yun Zhang</mark>, <mark>M.Isabel Herreros</mark> |\n",
       "|*Appeared on*| *2022-09-15*|\n",
       "|*Comments*| *Accepted to PSJ Didymos-DART Focus Issue*|\n",
       "|**Abstract**| The Double Asteroid Redirection Test (DART) spacecraft will impact into the asteroid Dimorphos on September 26, 2022 as a test of the kinetic impactor technique for planetary defense. The efficiency of the deflection following a kinetic impactor can be represented using the momentum enhancement factor, Beta, which is dependent on factors such as impact geometry and the specific target material properties. Currently, very little is known about Dimorphos and its material properties that introduces uncertainty in the results of the deflection efficiency observables, including crater formation, ejecta distribution, and Beta. The DART Impact Modeling Working Group (IWG) is responsible for using impact simulations to better understand the results of the DART impact. Pre-impact simulation studies also provide considerable insight into how different properties and impact scenarios affect momentum enhancement following a kinetic impact. This insight provides a basis for predicting the effects of the DART impact and the first understanding of how to interpret results following the encounter. Following the DART impact, the knowledge gained from these studies will inform the initial simulations that will recreate the impact conditions, including providing estimates for potential material properties of Dimorphos and Beta resulting from DARTs impact. This paper summarizes, at a high level, what has been learned from the IWG simulations and experiments in preparation for the DART impact. While unknown, estimates for reasonable potential material properties of Dimorphos provide predictions for Beta of 1-5, depending on end-member cases in the strength regime. |\n",
       "|<p style=\"color:red\"> **ERROR** </p>| <p style=\"color:red\">latex error not a gzip file</p> |"
      ],
      "text/plain": [
       "<IPython.core.display.Markdown object>"
      ]
     },
     "metadata": {},
     "output_type": "display_data"
    },
    {
     "data": {
      "text/markdown": [
       "\n",
       "|||\n",
       "|---:|:---|\n",
       "| [![arXiv](https://img.shields.io/badge/arXiv-arXiv:2209.06247-b31b1b.svg)](https://arxiv.org/abs/arXiv:2209.06247) | **CLEAR: High-Ionization [Ne V] $λ$3426 Å Emission-line  Galaxies at $1.4 <z< 2.3$**  |\n",
       "|| Nikko J. Cleri, et al. -- incl., <mark>Jasleen Matharu</mark>, <mark>Ivelina Momcheva</mark> |\n",
       "|*Appeared on*| *2022-09-15*|\n",
       "|*Comments*| *17 pages + 2 (appendix), 8 figures + 2(appendix)*|\n",
       "|**Abstract**| We analyze a sample of 25 [Ne V] (${\\lambda}$3426 $\\r{A}$) emission-line galaxies at 1.4 < z < 2.3 using Hubble Space Telescope/Wide Field Camera 3 G102 and G141 grism observations from the CANDELS Lyman-${\\alpha}$ Emission at Reionization (CLEAR) survey. [Ne V] emission probes extremely energetic photoionization (creation potential of 97.11 eV), and is often attributed to energetic radiation from active galactic nuclei (AGN), radiative supernova shocks, or an otherwise very hard ionizing spectrum from the stellar continuum. In this work, we use [Ne V] in conjunction with other rest-frame UV/optical emission lines ([O II] ${\\lambda\\lambda}$3726,3729 $\\r{A}$, [Ne III] ${\\lambda}$3869 $\\r{A}$, [O III] ${\\lambda\\lambda}$4959,5007 $\\r{A}$, H${\\alpha}$+[N II] ${\\lambda\\lambda}$6548,6583 $\\r{A}$, [S II] ${\\lambda\\lambda}$6716,6731 $\\r{A}$), deep (2-7 Ms) X-ray observations (from Chandra), and mid-infrared imaging (from Spitzer) to study the origin of this emission and to place constraints on the nature of the ionizing engine. The majority of the [Ne V]-detected galaxies have properties consistent with ionization from AGN. However, for our [Ne V]-selected sample, the X-ray luminosities are consistent with local (z < 0.1) X-ray-selected Seyferts, but the [Ne V] luminosities are more consistent with those from z ~ 1 X-ray-selected QSOs. The excess [Ne V] emission requires either reduced hard X-rays, or a ~0.1 keV excess. We discuss possible origins of the apparent [Ne V] excess, which could be related to the \"soft (X-ray) excess\" observed in some QSOs and Seyferts, and/or be a consequence of a complex/anisotropic geometry for the narrow line region, combined with absorption from a warm, relativistic wind ejected from the accretion disk. We also consider implications for future studies of extreme high-ionization systems in the epoch of reionization (z > 6) with the James Webb Space Telescope. |\n",
       "|<p style=\"color:red\"> **ERROR** </p>| <p style=\"color:red\">latex error sequence item 0: expected str instance, TexNode found</p> |"
      ],
      "text/plain": [
       "<IPython.core.display.Markdown object>"
      ]
     },
     "metadata": {},
     "output_type": "display_data"
    }
   ],
   "source": [
    "import datetime\n",
    "today = str(datetime.date.today())\n",
    "logfile = f\"_build/html/logs/log-{today}.md\"\n",
    "\n",
    "\n",
    "with open(logfile, 'w') as logs:\n",
    "    # Success\n",
    "    logs.write(f'# Arxiv on Deck 2: Logs - {today}\\n\\n')\n",
    "    logs.write(\"\"\"* Arxiv had {0:,d} new papers\\n\"\"\".format(len(new_papers)))\n",
    "    logs.write(\"\"\"    * {0:,d} with possible author matches\\n\\n\"\"\".format(len(candidates)))\n",
    "    logs.write(\"## Sucessful papers\\n\\n\")\n",
    "    display(Markdown(\"## Successful papers\"))\n",
    "    success = [k[0] for k in documents]\n",
    "    for candid in candidates:\n",
    "        if candid['identifier'].split(':')[-1] in success:\n",
    "            display(candid)\n",
    "            logs.write(candid.generate_markdown_text() + '\\n\\n')\n",
    "\n",
    "    ## failed\n",
    "    logs.write(\"## Failed papers\\n\\n\")\n",
    "    display(Markdown(\"## Failed papers\"))\n",
    "    failed = sorted(failed, key=lambda x: x[1])\n",
    "    current_reason = \"\"\n",
    "    for paper, reason in failed:\n",
    "        if 'affiliation' in reason:\n",
    "            color = 'green'\n",
    "        else:\n",
    "            color = 'red'\n",
    "        data = Markdown(\n",
    "                paper.generate_markdown_text() + \n",
    "                f'\\n|<p style=\"color:{color:s}\"> **ERROR** </p>| <p style=\"color:{color:s}\">{reason:s}</p> |'\n",
    "               )\n",
    "        if reason != current_reason:\n",
    "            logs.write(f'### {reason:s} \\n\\n')\n",
    "            current_reason = reason\n",
    "        logs.write(data.data + '\\n\\n')\n",
    "        \n",
    "        # only display here the important errors (all in logs)\n",
    "        # if color in ('red',):\n",
    "        display(data)"
   ]
  },
  {
   "cell_type": "markdown",
   "id": "472d20ee",
   "metadata": {
    "papermill": {
     "duration": 0.009703,
     "end_time": "2022-09-15T05:16:04.738739",
     "exception": false,
     "start_time": "2022-09-15T05:16:04.729036",
     "status": "completed"
    },
    "tags": []
   },
   "source": [
    "## Export documents\n",
    "\n",
    "We now write the .md files and export relevant images"
   ]
  },
  {
   "cell_type": "code",
   "execution_count": 7,
   "id": "d426aed9",
   "metadata": {
    "execution": {
     "iopub.execute_input": "2022-09-15T05:16:04.759865Z",
     "iopub.status.busy": "2022-09-15T05:16:04.759316Z",
     "iopub.status.idle": "2022-09-15T05:16:04.767866Z",
     "shell.execute_reply": "2022-09-15T05:16:04.767094Z"
    },
    "papermill": {
     "duration": 0.021286,
     "end_time": "2022-09-15T05:16:04.769553",
     "exception": false,
     "start_time": "2022-09-15T05:16:04.748267",
     "status": "completed"
    },
    "tags": []
   },
   "outputs": [],
   "source": [
    "def export_markdown_summary(md: str, md_fname:str, directory: str):\n",
    "    \"\"\"Export MD document and associated relevant images\"\"\"\n",
    "    import os\n",
    "    import shutil\n",
    "    import re\n",
    "\n",
    "    if (os.path.exists(directory) and not os.path.isdir(directory)):\n",
    "        raise RuntimeError(f\"a non-directory file exists with name {directory:s}\")\n",
    "\n",
    "    if (not os.path.exists(directory)):\n",
    "        print(f\"creating directory {directory:s}\")\n",
    "        os.mkdir(directory)\n",
    "\n",
    "    fig_fnames = (re.compile(r'\\[Fig.*\\]\\((.*)\\)').findall(md) + \n",
    "                  re.compile(r'\\<img src=\"([^>\\s]*)\"[^>]*/>').findall(md))\n",
    "    for fname in fig_fnames:\n",
    "        if 'http' in fname:\n",
    "            # No need to copy online figures\n",
    "            continue\n",
    "        destdir = os.path.join(directory, os.path.dirname(fname))\n",
    "        destfname = os.path.join(destdir, os.path.basename(fname))\n",
    "        try:\n",
    "            os.makedirs(destdir)\n",
    "        except FileExistsError:\n",
    "            pass\n",
    "        shutil.copy(fname, destfname)\n",
    "    with open(os.path.join(directory, md_fname), 'w') as fout:\n",
    "        fout.write(md)\n",
    "    print(\"exported in \", os.path.join(directory, md_fname))\n",
    "    [print(\"    + \" + os.path.join(directory,fk)) for fk in fig_fnames]"
   ]
  },
  {
   "cell_type": "code",
   "execution_count": 8,
   "id": "014d04a4",
   "metadata": {
    "execution": {
     "iopub.execute_input": "2022-09-15T05:16:04.791369Z",
     "iopub.status.busy": "2022-09-15T05:16:04.790840Z",
     "iopub.status.idle": "2022-09-15T05:16:04.794738Z",
     "shell.execute_reply": "2022-09-15T05:16:04.794146Z"
    },
    "papermill": {
     "duration": 0.016915,
     "end_time": "2022-09-15T05:16:04.796460",
     "exception": false,
     "start_time": "2022-09-15T05:16:04.779545",
     "status": "completed"
    },
    "tags": []
   },
   "outputs": [],
   "source": [
    "for paper_id, md in documents:\n",
    "    export_markdown_summary(md, f\"{paper_id:s}.md\", '_build/html/')"
   ]
  },
  {
   "cell_type": "markdown",
   "id": "f087a0a7",
   "metadata": {
    "papermill": {
     "duration": 0.010329,
     "end_time": "2022-09-15T05:16:04.816762",
     "exception": false,
     "start_time": "2022-09-15T05:16:04.806433",
     "status": "completed"
    },
    "tags": []
   },
   "source": [
    "## Display the papers\n",
    "\n",
    "Not necessary but allows for a quick check."
   ]
  },
  {
   "cell_type": "code",
   "execution_count": 9,
   "id": "fd25f625",
   "metadata": {
    "execution": {
     "iopub.execute_input": "2022-09-15T05:16:04.838559Z",
     "iopub.status.busy": "2022-09-15T05:16:04.838008Z",
     "iopub.status.idle": "2022-09-15T05:16:04.842578Z",
     "shell.execute_reply": "2022-09-15T05:16:04.841919Z"
    },
    "papermill": {
     "duration": 0.017747,
     "end_time": "2022-09-15T05:16:04.844366",
     "exception": false,
     "start_time": "2022-09-15T05:16:04.826619",
     "status": "completed"
    },
    "scrolled": false,
    "tags": []
   },
   "outputs": [],
   "source": [
    "[display(Markdown(k[1])) for k in documents];"
   ]
  },
  {
   "cell_type": "markdown",
   "id": "873873a4",
   "metadata": {
    "papermill": {
     "duration": 0.009917,
     "end_time": "2022-09-15T05:16:04.864118",
     "exception": false,
     "start_time": "2022-09-15T05:16:04.854201",
     "status": "completed"
    },
    "tags": []
   },
   "source": [
    "# Create HTML index"
   ]
  },
  {
   "cell_type": "code",
   "execution_count": 10,
   "id": "cf665672",
   "metadata": {
    "execution": {
     "iopub.execute_input": "2022-09-15T05:16:04.886134Z",
     "iopub.status.busy": "2022-09-15T05:16:04.885287Z",
     "iopub.status.idle": "2022-09-15T05:16:04.894401Z",
     "shell.execute_reply": "2022-09-15T05:16:04.893629Z"
    },
    "papermill": {
     "duration": 0.022106,
     "end_time": "2022-09-15T05:16:04.895998",
     "exception": false,
     "start_time": "2022-09-15T05:16:04.873892",
     "status": "completed"
    },
    "tags": []
   },
   "outputs": [
    {
     "name": "stdout",
     "output_type": "stream",
     "text": [
      "32  publications in the last 7 days.\n",
      "\t _build/html/2209.05814.md\n",
      "\t _build/html/2209.05593.md\n",
      "\t _build/html/2209.04304.md\n",
      "\t _build/html/2209.03367.md\n",
      "\t _build/html/2209.02872.md\n",
      "\t _build/html/2209.02725.md\n",
      "\t _build/html/2209.02722.md\n",
      "\t _build/html/2209.02092.md\n",
      "\t _build/html/2209.01125.md\n",
      "\t _build/html/2209.00828.md\n",
      "\t _build/html/2209.00363.md\n",
      "\t _build/html/2208.14927.md\n",
      "\t _build/html/2208.09335.md\n",
      "\t _build/html/2208.08872.md\n",
      "\t _build/html/2204.06393.md\n",
      "\t _build/html/2204.03335.md\n",
      "\t _build/html/2204.03253.md\n",
      "\t _build/html/2204.02998.md\n",
      "\t _build/html/2204.02109.md\n",
      "\t _build/html/2204.02017.md\n",
      "\t _build/html/2204.01824.md\n",
      "\t _build/html/2204.01758.md\n",
      "\t _build/html/2204.01245.md\n",
      "\t _build/html/2204.00793.md\n",
      "\t _build/html/2204.00342.md\n",
      "\t _build/html/2203.16959.md\n",
      "\t _build/html/2203.16856.md\n",
      "\t _build/html/2203.16735.md\n",
      "\t _build/html/2203.16734.md\n",
      "\t _build/html/2203.16504.md\n",
      "\t _build/html/2203.15822.md\n",
      "\t _build/html/2203.15811.md\n"
     ]
    }
   ],
   "source": [
    "from datetime import datetime, timedelta, timezone\n",
    "from glob import glob\n",
    "\n",
    "files = glob('_build/html/*.md')\n",
    "days = 7\n",
    "now = datetime.today()\n",
    "res = []\n",
    "for fk in files:\n",
    "    stat_result = os.stat(fk).st_ctime\n",
    "    modified = datetime.fromtimestamp(stat_result, tz=timezone.utc).replace(tzinfo=None)\n",
    "    delta = now.today() - modified\n",
    "    if delta <= timedelta(days=days):\n",
    "        res.append((delta.seconds, fk))\n",
    "res = [k[1] for k in reversed(sorted(res, key=lambda x:x[1]))]\n",
    "npub = len(res)\n",
    "print(len(res), f\" publications in the last {days:d} days.\")\n",
    "[ print('\\t', k) for k in res ];"
   ]
  },
  {
   "cell_type": "code",
   "execution_count": 11,
   "id": "52ca0208",
   "metadata": {
    "execution": {
     "iopub.execute_input": "2022-09-15T05:16:04.918351Z",
     "iopub.status.busy": "2022-09-15T05:16:04.917546Z",
     "iopub.status.idle": "2022-09-15T05:16:04.925375Z",
     "shell.execute_reply": "2022-09-15T05:16:04.924689Z"
    },
    "papermill": {
     "duration": 0.020963,
     "end_time": "2022-09-15T05:16:04.927069",
     "exception": false,
     "start_time": "2022-09-15T05:16:04.906106",
     "status": "completed"
    },
    "scrolled": false,
    "tags": []
   },
   "outputs": [],
   "source": [
    "def create_carousel(npub=4):\n",
    "    \"\"\" Generate the HTML code for a carousel with `npub` slides \"\"\"\n",
    "    carousel = [\"\"\"<section class=\"carousel\" aria-label=\"Gallery\">\"\"\",\n",
    "                \"\"\"  <ol class=\"carousel__viewport\">\"\"\",\n",
    "    ]\n",
    "    for k in range(1, npub + 1):\n",
    "        prev_ = k - 1\n",
    "        next_ = k + 1\n",
    "        if prev_ <= 0:\n",
    "            prev_ = npub\n",
    "        if next_ > npub:\n",
    "            next_ = 1\n",
    "        text  = f\"\"\"    <li id=\"carousel__slide{k}\" tabindex=\"0\" class=\"carousel__slide\">\\n\"\"\"\n",
    "        text += f\"\"\"       <div class=\"carousel__snapper\">\\n\"\"\"\n",
    "        text += f\"\"\"         <a href=\"#carousel__slide{prev_}\" class=\"carousel__prev\">Go to previous slide</a>\\n\"\"\"\n",
    "        text += f\"\"\"         <a href=\"#carousel__slide{next_}\" class=\"carousel__next\">Go to next slide</a>\\n\"\"\"\n",
    "        text += f\"\"\"         <div id=\"slide{k}_content\" class=\"md_view\" >Content {k}</div>\\n\"\"\"\n",
    "        text += f\"\"\"       </div>\\n\"\"\"\n",
    "        text += f\"\"\"    </li>\"\"\"\n",
    "        carousel.append(text)\n",
    "\n",
    "    carousel.extend([\n",
    "        \"\"\"  </ol>\"\"\",\n",
    "        \"\"\"  <aside class=\"carousel__navigation\">\"\"\",\n",
    "        \"\"\"    <ol class=\"carousel__navigation-list\">\"\"\"])\n",
    "\n",
    "    for k in range(1, npub + 1):\n",
    "        text  = f\"\"\"      <li class=\"carousel__navigation-item\">\\n\"\"\"\n",
    "        text += f\"\"\"        <a href=\"#carousel__slide{k}\" class=\"carousel__navigation-button\">Go to {k}</a>\\n\"\"\"\n",
    "        text += f\"\"\"      </li>\"\"\"\n",
    "        carousel.append(text)\n",
    "    carousel.extend([\"\"\"    </ol>\"\"\", \"\"\"  </aside>\"\"\", \"\"\"</section>\"\"\"])\n",
    "\n",
    "    return '\\n'.join(carousel)"
   ]
  },
  {
   "cell_type": "code",
   "execution_count": 12,
   "id": "a6eac5b6",
   "metadata": {
    "execution": {
     "iopub.execute_input": "2022-09-15T05:16:04.952944Z",
     "iopub.status.busy": "2022-09-15T05:16:04.952601Z",
     "iopub.status.idle": "2022-09-15T05:16:04.959493Z",
     "shell.execute_reply": "2022-09-15T05:16:04.958708Z"
    },
    "papermill": {
     "duration": 0.024169,
     "end_time": "2022-09-15T05:16:04.961195",
     "exception": false,
     "start_time": "2022-09-15T05:16:04.937026",
     "status": "completed"
    },
    "scrolled": false,
    "tags": []
   },
   "outputs": [],
   "source": [
    "carousel = create_carousel(npub)\n",
    "docs = ', '.join(['\"{0:s}\"'.format(k.split('/')[-1]) for k in res])\n",
    "slides = ', '.join([f'\"slide{k}_content\"' for k in range(1, npub + 1)])\n",
    "\n",
    "script = f\"\"\"\n",
    "const docs = [{docs}]\n",
    "\n",
    "const slides = [{slides}]\n",
    "\"\"\" + \"\"\"\n",
    "async function run() {\n",
    "    for (let i = 0; i < docs.length; i++) {\n",
    "        let file = await fetch(docs[i]);\n",
    "        let text = await file.text()\n",
    "        document.getElementById(slides[i]).innerHTML =\n",
    "            marked.parse(text);\n",
    "    }\n",
    "    hljs.highlightAll();\n",
    "}\n",
    "run()\n",
    "\"\"\"\n",
    "\n",
    "page = f\"\"\"<!doctype html>\n",
    "<html lang=\"en\">\n",
    "\n",
    "<head>\n",
    "  <meta charset=\"utf-8\">\n",
    "  <meta name=\"viewport\" content=\"width=device-width, initial-scale=1\">\n",
    "  <!-- Bootstrap CSS -->\n",
    "  <link href=\"https://cdn.jsdelivr.net/npm/bootstrap@5.0.2/dist/css/bootstrap.min.css\" rel=\"stylesheet\"\n",
    "   integrity=\"sha384-EVSTQN3/azprG1Anm3QDgpJLIm9Nao0Yz1ztcQTwFspd3yD65VohhpuuCOmLASjC\" crossorigin=\"anonymous\">\n",
    "  <!-- highlight.js CSS -->\n",
    "  <link rel=\"stylesheet\" href=\"https://cdnjs.cloudflare.com/ajax/libs/highlight.js/11.1.0/styles/default.min.css\">\n",
    "  <!-- Mathjax 3 -->\n",
    "  <script type=\"text/javascript\" id=\"MathJax-config\" src=\"mathjax_config.js\"> </script>\n",
    "  <script type=\"text/javascript\" id=\"MathJax-script\" async \n",
    "    src=\"https://cdn.jsdelivr.net/npm/mathjax@3/es5/tex-mml-chtml.js\">\n",
    "  </script>\n",
    "  <link rel=\"stylesheet\" href=\"index_carousel.css\">\n",
    "  <link rel=\"icon\" type=\"image/x-icon\" href=\"https://www.mpia.de/assets/touch-icon-32x32-a66937bcebc4e8894ebff1f41a366c7c7220fd97a38869ee0f2db65a9f59b6c1.png\">\n",
    "  <title>MPIA Arxiv on deck!</title>\n",
    "</head>\n",
    "\n",
    "<body>\n",
    "  <div id=\"header\"> <img src=\"header_banner.png\" width=\"100%\"></div>\n",
    "  <div id=\"suptitle\"> 7-day archives </div>\n",
    "  <div id=\"info\">\n",
    "    <img src=\"https://pngimg.com/uploads/github/github_PNG58.png\" height=30rem></img>\n",
    "    <a href=https://github.com/mpi-astronomy/arxiv_display style=\"color:black;\">github/mpi-astronomy/arxiv_display</a> \n",
    "  </div>\n",
    "  {carousel:s}\n",
    "</body>\n",
    "\n",
    "<!-- Render Markdown -->\n",
    "\n",
    "<body>\n",
    "  <!-- highlight.js: https://highlightjs.org/download/ -->\n",
    "  <script src=\"https://cdnjs.cloudflare.com/ajax/libs/highlight.js/11.5.0/highlight.min.js\"></script>\n",
    "  <!-- marked.js -->\n",
    "  <script src=\"https://cdn.jsdelivr.net/npm/marked/marked.min.js\"></script>\n",
    "  <script>{script:s}</script>\n",
    "</body>\n",
    "</html>\n",
    "\"\"\"\n",
    "with open(\"_build/html/index_7days.html\", 'w') as fout:\n",
    "    fout.write(page)"
   ]
  },
  {
   "cell_type": "markdown",
   "id": "1cebacbc",
   "metadata": {
    "papermill": {
     "duration": 0.010307,
     "end_time": "2022-09-15T05:16:04.981823",
     "exception": false,
     "start_time": "2022-09-15T05:16:04.971516",
     "status": "completed"
    },
    "tags": []
   },
   "source": [
    "# Debugging papers"
   ]
  },
  {
   "cell_type": "raw",
   "id": "debe7cc6",
   "metadata": {
    "papermill": {
     "duration": 0.010043,
     "end_time": "2022-09-15T05:16:05.043839",
     "exception": false,
     "start_time": "2022-09-15T05:16:05.033796",
     "status": "completed"
    },
    "tags": []
   },
   "source": [
    "raise NotImplementedError(\"Manual Stop\")"
   ]
  },
  {
   "cell_type": "raw",
   "id": "eb169192",
   "metadata": {
    "papermill": {
     "duration": 0.010032,
     "end_time": "2022-09-15T05:16:05.063760",
     "exception": false,
     "start_time": "2022-09-15T05:16:05.053728",
     "status": "completed"
    },
    "scrolled": true,
    "tags": []
   },
   "source": [
    "from IPython.display import display, Markdown\n",
    "from TexSoup import TexSoup\n",
    "import re\n",
    "\n",
    "def bracket_error(source: str):\n",
    "    \"\"\" Find problematic portions of the document \"\"\"\n",
    "    \n",
    "    print(\"len(source)\", len(source))\n",
    "    \n",
    "    # Checking header\n",
    "    begin_doc = next(re.finditer(r'\\\\begin\\{document\\}', doc.source)).span()[1]\n",
    "    header = source[:begin_doc]\n",
    "    text = header + r\"\\n\\end{document}\"\n",
    "\n",
    "    try:\n",
    "        # print(\"Header check... \", end='')\n",
    "        TexSoup(text)\n",
    "        display(Markdown(f\"**[OK]** - Header\"))\n",
    "    except:\n",
    "        raise RuntimeError(\"Error in the header\")\n",
    "        \n",
    "    # Check the text per section until the end.\n",
    "    # Do not stop and try them all.\n",
    "    \n",
    "    problematic_text = []\n",
    "    \n",
    "    sections = ([(0, begin_doc, 'until first section')] + \n",
    "                [(g.span()[0], g.span()[1], g.group()) for g in re.finditer(r'\\\\section\\{.*\\}', source)] +\n",
    "                [(g.span()[0], g.span()[1], g.group()) for g in re.finditer(r'\\\\begin\\{appendix\\}', source)]\n",
    "               )\n",
    "    sections.append([len(source), len(source), 'end'])\n",
    "    \n",
    "    sections = sorted(sections, key=lambda x: x[0])\n",
    "    \n",
    "    prev_pos, prev_name = (0, 'header')\n",
    "    parsed = []\n",
    "    \n",
    "    for span, span_end, name in sections:\n",
    "\n",
    "        if span - prev_pos <= 0:\n",
    "            continue\n",
    "            \n",
    "\n",
    "        text = source[prev_pos:span]\n",
    "        if prev_pos > begin_doc:\n",
    "            text = r\"\\n\\begin{document}\" + text + r\"\\n\\end{document}\"\n",
    "        else:\n",
    "            text = text + r\"\\n\\end{document}\"\n",
    "        try:\n",
    "            #print(f\"{prev_pos}:{prev_name}-->{span}:{name} check... \", end='')\n",
    "            parsed.append(TexSoup(text, tolerance=1))  # allow not ending env\n",
    "            display(Markdown(f\"**[OK]** - *{prev_pos}*:{prev_name} &rarr; *{span}*:{name}\"))\n",
    "            # print(\"ok\")\n",
    "\n",
    "            prev_pos = span\n",
    "            prev_name = name\n",
    "        except:\n",
    "            # print(f\"error between {prev_pos} and {span}\")\n",
    "            display(Markdown(f\"**[ERR]** *{prev_pos}*:{prev_name} &rarr; *{span}*:{name}\"))\n",
    "            problematic_text.append((prev_pos, source[prev_pos:span]))\n",
    "            prev_pos = span\n",
    "            prev_name = name\n",
    "            # raise\n",
    "    return problematic_text, parsed\n",
    "\n",
    "\n",
    "def check_environment(text, offset=0):\n",
    "    \"\"\" Check environment \"\"\"\n",
    "    env = re.compile(r\"\\\\begin\\{(?P<env>.*)\\}(.*)\\\\end\\{(?P=env)\\}\", re.DOTALL)\n",
    "\n",
    "    for match in env.finditer(text):\n",
    "        beg, end = match.span()\n",
    "        beg += offset\n",
    "        end += offset\n",
    "        envname = match.groups()[0]\n",
    "        try:\n",
    "            latex.TexSoup(match.group())\n",
    "        except Exception as e:\n",
    "            display(e)\n",
    "            print(f\"Error in {envname:s} between {beg} and {end}\")\n",
    "            return match.groups()[1], beg, end"
   ]
  },
  {
   "cell_type": "raw",
   "id": "2315e835",
   "metadata": {
    "papermill": {
     "duration": 0.009968,
     "end_time": "2022-09-15T05:16:05.083626",
     "exception": false,
     "start_time": "2022-09-15T05:16:05.073658",
     "status": "completed"
    },
    "scrolled": false,
    "tags": []
   },
   "source": [
    "import importlib\n",
    "importlib.reload(latex)\n",
    "which = \"2204.03253\"\n",
    "paper_id = f'{which:s}'\n",
    "folder = f'tmp_{paper_id:s}'\n",
    "\n",
    "if not os.path.isdir(folder):\n",
    "    folder = retrieve_document_source(f\"{paper_id}\", f'tmp_{paper_id}')\n",
    "\n",
    "try:\n",
    "    doc = latex.LatexDocument(folder, validation=validation)    \n",
    "except AffiliationError as affilerror:\n",
    "    msg = f\"ArXiv:{paper_id:s} is not an MPIA paper... \" + str(affilerror)\n",
    "    print(msg)\n",
    "\n",
    "\n",
    "# Hack because sometimes author parsing does not work well\n",
    "if (len(doc.authors) != len(paper['authors'])):\n",
    "    doc._authors = paper['authors']\n",
    "if (doc.abstract) in (None, ''):\n",
    "    doc._abstract = paper['abstract']\n",
    "\n",
    "doc.comment = get_markdown_badge(paper_id) + \" _\" + paper['comments'] + \"_\"\n",
    "doc.highlight_authors_in_list(hl_list)\n",
    "\n",
    "full_md = doc.generate_markdown_text()"
   ]
  },
  {
   "cell_type": "raw",
   "id": "dd3781db",
   "metadata": {
    "papermill": {
     "duration": 0.009995,
     "end_time": "2022-09-15T05:16:05.103511",
     "exception": false,
     "start_time": "2022-09-15T05:16:05.093516",
     "status": "completed"
    },
    "scrolled": false,
    "tags": []
   },
   "source": [
    "doc"
   ]
  },
  {
   "cell_type": "raw",
   "id": "c6eed834",
   "metadata": {
    "papermill": {
     "duration": 0.009871,
     "end_time": "2022-09-15T05:16:05.123218",
     "exception": false,
     "start_time": "2022-09-15T05:16:05.113347",
     "status": "completed"
    },
    "tags": []
   },
   "source": [
    "# [check_environment(k) for k in bracket_error(doc.source)]\n",
    "_, _, a = latex.get_content_per_section(doc.source, verbose=True)\n",
    "if not a:\n",
    "    print(\"no issues per section\")\n",
    "for ak in a:\n",
    "    r = check_environment(ak[1], offset=ak[0])\n",
    "    print(r[1], r[2])\n",
    "    print(r[0])"
   ]
  },
  {
   "cell_type": "code",
   "execution_count": null,
   "id": "71ce768a",
   "metadata": {
    "papermill": {
     "duration": 0.009997,
     "end_time": "2022-09-15T05:16:05.143002",
     "exception": false,
     "start_time": "2022-09-15T05:16:05.133005",
     "status": "completed"
    },
    "tags": []
   },
   "outputs": [],
   "source": []
  }
 ],
 "metadata": {
  "kernelspec": {
   "display_name": "Python 3.10.6 64-bit",
   "language": "python",
   "name": "python3"
  },
  "language_info": {
   "codemirror_mode": {
    "name": "ipython",
    "version": 3
   },
   "file_extension": ".py",
   "mimetype": "text/x-python",
   "name": "python",
   "nbconvert_exporter": "python",
   "pygments_lexer": "ipython3",
   "version": "3.9.13"
  },
  "papermill": {
   "default_parameters": {},
   "duration": 77.485464,
   "end_time": "2022-09-15T05:16:05.371516",
   "environment_variables": {},
   "exception": null,
   "input_path": "MPIA daily digest.ipynb",
   "output_path": "log.ipynb",
   "parameters": {},
   "start_time": "2022-09-15T05:14:47.886052",
   "version": "2.4.0"
  },
  "vscode": {
   "interpreter": {
    "hash": "e7370f93d1d0cde622a1f8e1c04877d8463912d04d973331ad4851f04de6915a"
   }
  },
  "widgets": {
   "application/vnd.jupyter.widget-state+json": {
    "state": {
     "27a215f3d28240f7ad4379b219e68bb0": {
      "model_module": "@jupyter-widgets/controls",
      "model_module_version": "2.0.0",
      "model_name": "FloatProgressModel",
      "state": {
       "_dom_classes": [],
       "_model_module": "@jupyter-widgets/controls",
       "_model_module_version": "2.0.0",
       "_model_name": "FloatProgressModel",
       "_view_count": null,
       "_view_module": "@jupyter-widgets/controls",
       "_view_module_version": "2.0.0",
       "_view_name": "ProgressView",
       "bar_style": "success",
       "description": "",
       "description_allow_html": false,
       "layout": "IPY_MODEL_68d8d304a92441969d0c8d89d2e5cf77",
       "max": 23.0,
       "min": 0.0,
       "orientation": "horizontal",
       "style": "IPY_MODEL_ae201b07a3174cddb22ece36c29fd3a8",
       "tabbable": null,
       "tooltip": null,
       "value": 23.0
      }
     },
     "46fbc288aa0c42bcb31ccca6849d532a": {
      "model_module": "@jupyter-widgets/base",
      "model_module_version": "2.0.0",
      "model_name": "LayoutModel",
      "state": {
       "_model_module": "@jupyter-widgets/base",
       "_model_module_version": "2.0.0",
       "_model_name": "LayoutModel",
       "_view_count": null,
       "_view_module": "@jupyter-widgets/base",
       "_view_module_version": "2.0.0",
       "_view_name": "LayoutView",
       "align_content": null,
       "align_items": null,
       "align_self": null,
       "border_bottom": null,
       "border_left": null,
       "border_right": null,
       "border_top": null,
       "bottom": null,
       "display": null,
       "flex": null,
       "flex_flow": null,
       "grid_area": null,
       "grid_auto_columns": null,
       "grid_auto_flow": null,
       "grid_auto_rows": null,
       "grid_column": null,
       "grid_gap": null,
       "grid_row": null,
       "grid_template_areas": null,
       "grid_template_columns": null,
       "grid_template_rows": null,
       "height": null,
       "justify_content": null,
       "justify_items": null,
       "left": null,
       "margin": null,
       "max_height": null,
       "max_width": null,
       "min_height": null,
       "min_width": null,
       "object_fit": null,
       "object_position": null,
       "order": null,
       "overflow": null,
       "padding": null,
       "right": null,
       "top": null,
       "visibility": null,
       "width": null
      }
     },
     "5b027fc4139047cc814e3379f7f13d45": {
      "model_module": "@jupyter-widgets/controls",
      "model_module_version": "2.0.0",
      "model_name": "HTMLStyleModel",
      "state": {
       "_model_module": "@jupyter-widgets/controls",
       "_model_module_version": "2.0.0",
       "_model_name": "HTMLStyleModel",
       "_view_count": null,
       "_view_module": "@jupyter-widgets/base",
       "_view_module_version": "2.0.0",
       "_view_name": "StyleView",
       "background": null,
       "description_width": "",
       "font_size": null,
       "text_color": null
      }
     },
     "68d8d304a92441969d0c8d89d2e5cf77": {
      "model_module": "@jupyter-widgets/base",
      "model_module_version": "2.0.0",
      "model_name": "LayoutModel",
      "state": {
       "_model_module": "@jupyter-widgets/base",
       "_model_module_version": "2.0.0",
       "_model_name": "LayoutModel",
       "_view_count": null,
       "_view_module": "@jupyter-widgets/base",
       "_view_module_version": "2.0.0",
       "_view_name": "LayoutView",
       "align_content": null,
       "align_items": null,
       "align_self": null,
       "border_bottom": null,
       "border_left": null,
       "border_right": null,
       "border_top": null,
       "bottom": null,
       "display": null,
       "flex": null,
       "flex_flow": null,
       "grid_area": null,
       "grid_auto_columns": null,
       "grid_auto_flow": null,
       "grid_auto_rows": null,
       "grid_column": null,
       "grid_gap": null,
       "grid_row": null,
       "grid_template_areas": null,
       "grid_template_columns": null,
       "grid_template_rows": null,
       "height": null,
       "justify_content": null,
       "justify_items": null,
       "left": null,
       "margin": null,
       "max_height": null,
       "max_width": null,
       "min_height": null,
       "min_width": null,
       "object_fit": null,
       "object_position": null,
       "order": null,
       "overflow": null,
       "padding": null,
       "right": null,
       "top": null,
       "visibility": null,
       "width": null
      }
     },
     "75f5dc33bc47494ba26feba5c60de4b3": {
      "model_module": "@jupyter-widgets/controls",
      "model_module_version": "2.0.0",
      "model_name": "HTMLStyleModel",
      "state": {
       "_model_module": "@jupyter-widgets/controls",
       "_model_module_version": "2.0.0",
       "_model_name": "HTMLStyleModel",
       "_view_count": null,
       "_view_module": "@jupyter-widgets/base",
       "_view_module_version": "2.0.0",
       "_view_name": "StyleView",
       "background": null,
       "description_width": "",
       "font_size": null,
       "text_color": null
      }
     },
     "8fc30461348441b4b685ca50b987a70b": {
      "model_module": "@jupyter-widgets/controls",
      "model_module_version": "2.0.0",
      "model_name": "HTMLModel",
      "state": {
       "_dom_classes": [],
       "_model_module": "@jupyter-widgets/controls",
       "_model_module_version": "2.0.0",
       "_model_name": "HTMLModel",
       "_view_count": null,
       "_view_module": "@jupyter-widgets/controls",
       "_view_module_version": "2.0.0",
       "_view_name": "HTMLView",
       "description": "",
       "description_allow_html": false,
       "layout": "IPY_MODEL_df5dfd292cc5414687989c7f295b322b",
       "placeholder": "​",
       "style": "IPY_MODEL_5b027fc4139047cc814e3379f7f13d45",
       "tabbable": null,
       "tooltip": null,
       "value": " 23/23 [00:52&lt;00:00,  2.17s/it]"
      }
     },
     "ae201b07a3174cddb22ece36c29fd3a8": {
      "model_module": "@jupyter-widgets/controls",
      "model_module_version": "2.0.0",
      "model_name": "ProgressStyleModel",
      "state": {
       "_model_module": "@jupyter-widgets/controls",
       "_model_module_version": "2.0.0",
       "_model_name": "ProgressStyleModel",
       "_view_count": null,
       "_view_module": "@jupyter-widgets/base",
       "_view_module_version": "2.0.0",
       "_view_name": "StyleView",
       "bar_color": null,
       "description_width": ""
      }
     },
     "b900ec11057547f58179d4e09faefbac": {
      "model_module": "@jupyter-widgets/controls",
      "model_module_version": "2.0.0",
      "model_name": "HTMLModel",
      "state": {
       "_dom_classes": [],
       "_model_module": "@jupyter-widgets/controls",
       "_model_module_version": "2.0.0",
       "_model_name": "HTMLModel",
       "_view_count": null,
       "_view_module": "@jupyter-widgets/controls",
       "_view_module_version": "2.0.0",
       "_view_name": "HTMLView",
       "description": "",
       "description_allow_html": false,
       "layout": "IPY_MODEL_46fbc288aa0c42bcb31ccca6849d532a",
       "placeholder": "​",
       "style": "IPY_MODEL_75f5dc33bc47494ba26feba5c60de4b3",
       "tabbable": null,
       "tooltip": null,
       "value": "100%"
      }
     },
     "d020df551c0c4791834b3d3e3a66641c": {
      "model_module": "@jupyter-widgets/controls",
      "model_module_version": "2.0.0",
      "model_name": "HBoxModel",
      "state": {
       "_dom_classes": [],
       "_model_module": "@jupyter-widgets/controls",
       "_model_module_version": "2.0.0",
       "_model_name": "HBoxModel",
       "_view_count": null,
       "_view_module": "@jupyter-widgets/controls",
       "_view_module_version": "2.0.0",
       "_view_name": "HBoxView",
       "box_style": "",
       "children": [
        "IPY_MODEL_b900ec11057547f58179d4e09faefbac",
        "IPY_MODEL_27a215f3d28240f7ad4379b219e68bb0",
        "IPY_MODEL_8fc30461348441b4b685ca50b987a70b"
       ],
       "layout": "IPY_MODEL_f312ac6814044f209e3104b87d018ec7",
       "tabbable": null,
       "tooltip": null
      }
     },
     "df5dfd292cc5414687989c7f295b322b": {
      "model_module": "@jupyter-widgets/base",
      "model_module_version": "2.0.0",
      "model_name": "LayoutModel",
      "state": {
       "_model_module": "@jupyter-widgets/base",
       "_model_module_version": "2.0.0",
       "_model_name": "LayoutModel",
       "_view_count": null,
       "_view_module": "@jupyter-widgets/base",
       "_view_module_version": "2.0.0",
       "_view_name": "LayoutView",
       "align_content": null,
       "align_items": null,
       "align_self": null,
       "border_bottom": null,
       "border_left": null,
       "border_right": null,
       "border_top": null,
       "bottom": null,
       "display": null,
       "flex": null,
       "flex_flow": null,
       "grid_area": null,
       "grid_auto_columns": null,
       "grid_auto_flow": null,
       "grid_auto_rows": null,
       "grid_column": null,
       "grid_gap": null,
       "grid_row": null,
       "grid_template_areas": null,
       "grid_template_columns": null,
       "grid_template_rows": null,
       "height": null,
       "justify_content": null,
       "justify_items": null,
       "left": null,
       "margin": null,
       "max_height": null,
       "max_width": null,
       "min_height": null,
       "min_width": null,
       "object_fit": null,
       "object_position": null,
       "order": null,
       "overflow": null,
       "padding": null,
       "right": null,
       "top": null,
       "visibility": null,
       "width": null
      }
     },
     "f312ac6814044f209e3104b87d018ec7": {
      "model_module": "@jupyter-widgets/base",
      "model_module_version": "2.0.0",
      "model_name": "LayoutModel",
      "state": {
       "_model_module": "@jupyter-widgets/base",
       "_model_module_version": "2.0.0",
       "_model_name": "LayoutModel",
       "_view_count": null,
       "_view_module": "@jupyter-widgets/base",
       "_view_module_version": "2.0.0",
       "_view_name": "LayoutView",
       "align_content": null,
       "align_items": null,
       "align_self": null,
       "border_bottom": null,
       "border_left": null,
       "border_right": null,
       "border_top": null,
       "bottom": null,
       "display": null,
       "flex": null,
       "flex_flow": null,
       "grid_area": null,
       "grid_auto_columns": null,
       "grid_auto_flow": null,
       "grid_auto_rows": null,
       "grid_column": null,
       "grid_gap": null,
       "grid_row": null,
       "grid_template_areas": null,
       "grid_template_columns": null,
       "grid_template_rows": null,
       "height": null,
       "justify_content": null,
       "justify_items": null,
       "left": null,
       "margin": null,
       "max_height": null,
       "max_width": null,
       "min_height": null,
       "min_width": null,
       "object_fit": null,
       "object_position": null,
       "order": null,
       "overflow": null,
       "padding": null,
       "right": null,
       "top": null,
       "visibility": null,
       "width": null
      }
     }
    },
    "version_major": 2,
    "version_minor": 0
   }
  }
 },
 "nbformat": 4,
 "nbformat_minor": 5
}