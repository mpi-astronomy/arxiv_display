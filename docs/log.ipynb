{
 "cells": [
  {
   "cell_type": "markdown",
   "id": "92bcb855",
   "metadata": {
    "papermill": {
     "duration": 0.003698,
     "end_time": "2025-02-27T04:11:18.515871",
     "exception": false,
     "start_time": "2025-02-27T04:11:18.512173",
     "status": "completed"
    },
    "tags": []
   },
   "source": [
    "# MPIA Arxiv on Deck 2\n",
    "\n",
    "Contains the steps to produce the paper extractions."
   ]
  },
  {
   "cell_type": "code",
   "execution_count": 1,
   "id": "3a0d6e11",
   "metadata": {
    "execution": {
     "iopub.execute_input": "2025-02-27T04:11:18.523521Z",
     "iopub.status.busy": "2025-02-27T04:11:18.522996Z",
     "iopub.status.idle": "2025-02-27T04:11:19.002360Z",
     "shell.execute_reply": "2025-02-27T04:11:19.001682Z"
    },
    "papermill": {
     "duration": 0.484576,
     "end_time": "2025-02-27T04:11:19.003741",
     "exception": false,
     "start_time": "2025-02-27T04:11:18.519165",
     "status": "completed"
    },
    "tags": []
   },
   "outputs": [],
   "source": [
    "# Imports\n",
    "import os\n",
    "from IPython.display import Markdown, display\n",
    "from tqdm.notebook import tqdm\n",
    "import warnings\n",
    "from PIL import Image \n",
    "import re\n",
    "\n",
    "# requires arxiv_on_deck_2\n",
    "\n",
    "from arxiv_on_deck_2.arxiv2 import (get_new_papers, \n",
    "                                    get_paper_from_identifier,\n",
    "                                    retrieve_document_source, \n",
    "                                    get_markdown_badge)\n",
    "from arxiv_on_deck_2 import (latex,\n",
    "                             latex_bib,\n",
    "                             mpia,\n",
    "                             highlight_authors_in_list)\n",
    "\n",
    "# Sometimes images are really big\n",
    "Image.MAX_IMAGE_PIXELS = 1000000000 "
   ]
  },
  {
   "cell_type": "code",
   "execution_count": 2,
   "id": "22aa9d44",
   "metadata": {
    "execution": {
     "iopub.execute_input": "2025-02-27T04:11:19.011374Z",
     "iopub.status.busy": "2025-02-27T04:11:19.010808Z",
     "iopub.status.idle": "2025-02-27T04:11:19.018913Z",
     "shell.execute_reply": "2025-02-27T04:11:19.018384Z"
    },
    "papermill": {
     "duration": 0.012948,
     "end_time": "2025-02-27T04:11:19.019960",
     "exception": false,
     "start_time": "2025-02-27T04:11:19.007012",
     "status": "completed"
    },
    "tags": []
   },
   "outputs": [],
   "source": [
    "# Some useful definitions.\n",
    "\n",
    "class AffiliationWarning(UserWarning):\n",
    "    pass\n",
    "\n",
    "class AffiliationError(RuntimeError):\n",
    "    pass\n",
    "\n",
    "def validation(source: str):\n",
    "    \"\"\"Raises error paper during parsing of source file\n",
    "    \n",
    "    Allows checks before parsing TeX code.\n",
    "    \n",
    "    Raises AffiliationWarning\n",
    "    \"\"\"\n",
    "    check = mpia.affiliation_verifications(source, verbose=True)\n",
    "    if check is not True:\n",
    "        raise AffiliationError(\"mpia.affiliation_verifications: \" + check)\n",
    "\n",
    "        \n",
    "warnings.simplefilter('always', AffiliationWarning)\n",
    "\n",
    "\n",
    "def get_markdown_qrcode(paper_id: str):\n",
    "    \"\"\" Generate a qrcode to the arxiv page using qrserver.com\n",
    "    \n",
    "    :param paper: Arxiv paper\n",
    "    :returns: markdown text\n",
    "    \"\"\"\n",
    "    url = r\"https://api.qrserver.com/v1/create-qr-code/?size=100x100&data=\"\n",
    "    txt = f\"\"\"<img src={url}\"https://arxiv.org/abs/{paper_id}\">\"\"\"\n",
    "    txt = '<div id=\"qrcode\">' + txt + '</div>'\n",
    "    return txt\n",
    "\n",
    "\n",
    "def clean_non_western_encoded_characters_commands(text: str) -> str:\n",
    "    \"\"\" Remove non-western encoded characters from a string\n",
    "    List may need to grow.\n",
    "    \n",
    "    :param text: the text to clean\n",
    "    :return: the cleaned text\n",
    "    \"\"\"\n",
    "    text = re.sub(r\"(\\\\begin{CJK}{UTF8}{gbsn})(.*?)(\\\\end{CJK})\", r\"\\2\", text)\n",
    "    return text\n",
    "\n",
    "\n",
    "def get_initials(name: str) -> str:\n",
    "    \"\"\" Get the short name, e.g., A.-B. FamName\n",
    "    :param name: full name\n",
    "    :returns: initials\n",
    "    \"\"\"\n",
    "    initials = []\n",
    "    # account for non western names often in ()\n",
    "    if '(' in name:\n",
    "        name = clean_non_western_encoded_characters_commands(name)\n",
    "        suffix = re.findall(r\"\\((.*?)\\)\", name)[0]\n",
    "        name = name.replace(f\"({suffix})\", '')\n",
    "    else:\n",
    "        suffix = ''\n",
    "    split = name.split()\n",
    "    for token in split[:-1]:\n",
    "        if '-' in token:\n",
    "            current = '-'.join([k[0] + '.' for k in token.split('-')])\n",
    "        else:\n",
    "            current = token[0] + '.'\n",
    "        initials.append(current)\n",
    "    initials.append(split[-1].strip())\n",
    "    if suffix:\n",
    "        initials.append(f\"({suffix})\")\n",
    "    return ' '.join(initials)"
   ]
  },
  {
   "cell_type": "markdown",
   "id": "14bd6310",
   "metadata": {
    "papermill": {
     "duration": 0.002922,
     "end_time": "2025-02-27T04:11:19.025863",
     "exception": false,
     "start_time": "2025-02-27T04:11:19.022941",
     "status": "completed"
    },
    "tags": []
   },
   "source": [
    "## get list of arxiv paper candidates\n",
    "\n",
    "We use the MPIA mitarbeiter list webpage from mpia.de to get author names\n",
    "We then get all new papers from Arxiv and match authors"
   ]
  },
  {
   "cell_type": "code",
   "execution_count": 3,
   "id": "7ea813a8",
   "metadata": {
    "execution": {
     "iopub.execute_input": "2025-02-27T04:11:19.032675Z",
     "iopub.status.busy": "2025-02-27T04:11:19.032478Z",
     "iopub.status.idle": "2025-02-27T04:11:37.787658Z",
     "shell.execute_reply": "2025-02-27T04:11:37.787069Z"
    },
    "papermill": {
     "duration": 18.760092,
     "end_time": "2025-02-27T04:11:37.788932",
     "exception": false,
     "start_time": "2025-02-27T04:11:19.028840",
     "status": "completed"
    },
    "tags": []
   },
   "outputs": [],
   "source": [
    "# deal with the author list and edge cases of people that cannot be consistent on their name  \n",
    "\n",
    "def filter_non_scientists(name: str) -> bool:\n",
    "    \"\"\" Loose filter on expected authorships\n",
    "\n",
    "    removing IT, administration, technical staff\n",
    "    :param name: name\n",
    "    :returns: False if name is not a scientist\n",
    "    \"\"\"\n",
    "    remove_list = ['Licht', 'Binroth', 'Witzel', 'Jordan',\n",
    "                   'Zähringer', 'Scheerer', 'Hoffmann', 'Düe',\n",
    "                   'Hellmich', 'Enkler-Scharpegge', 'Witte-Nguy',\n",
    "                   'Dehen', 'Beckmann', 'Jager', 'Jäger'\n",
    "                  ]\n",
    "\n",
    "    for k in remove_list:\n",
    "        if k in name:\n",
    "            return False\n",
    "    return True\n",
    "\n",
    "def add_author_to_list(author_list: list) -> list:\n",
    "    \"\"\" Add author to list if not already in list\n",
    "    \n",
    "    :param author: author name\n",
    "    :param author_list: list of authors\n",
    "    :returns: updated list of authors\n",
    "    \"\"\"\n",
    "    add_list = ['T. Henning']\n",
    "\n",
    "    for author in add_list:\n",
    "        if author not in author_list:\n",
    "            author_list.append(author)\n",
    "    return author_list\n",
    "\n",
    "# get list from MPIA website\n",
    "# filter for non-scientists (mpia.get_mpia_mitarbeiter_list() does some filtering)\n",
    "mpia_authors = [k[1] for k in mpia.get_mpia_mitarbeiter_list() if filter_non_scientists(k[1])]\n",
    "# add some missing author because of inconsistencies in their MPIA name and author name on papers\n",
    "mpia_authors = add_author_to_list(mpia_authors)"
   ]
  },
  {
   "cell_type": "code",
   "execution_count": 4,
   "id": "2645e73a",
   "metadata": {
    "execution": {
     "iopub.execute_input": "2025-02-27T04:11:37.796463Z",
     "iopub.status.busy": "2025-02-27T04:11:37.796042Z",
     "iopub.status.idle": "2025-02-27T04:11:38.364571Z",
     "shell.execute_reply": "2025-02-27T04:11:38.363871Z"
    },
    "papermill": {
     "duration": 0.573356,
     "end_time": "2025-02-27T04:11:38.365707",
     "exception": false,
     "start_time": "2025-02-27T04:11:37.792351",
     "status": "completed"
    },
    "tags": []
   },
   "outputs": [
    {
     "name": "stdout",
     "output_type": "stream",
     "text": [
      "P. Mollière  ->  P. Mollière  |  ['P. Mollière']\n",
      "J. Liu  ->  J. Liu  |  ['J. Liu']\n",
      "N. Mackensen  ->  N. Mackensen  |  ['N. Mackensen']\n",
      "K. El-Badry  ->  K. El-Badry  |  ['K. El-Badry']\n",
      "M. Sharma  ->  Y. M. Sharma  |  ['M. Sharma']\n",
      "M. Sharma  ->  Y. M. Sharma  |  ['M. Sharma']\n",
      "J. Liu  ->  J. Liu  |  ['J. Liu']\n",
      "J. Li  ->  J. Li  |  ['J. Li']\n",
      "K. Lee  ->  K. Lee  |  ['K. Lee']\n",
      "Arxiv has 69 new papers today\n",
      "          8 with possible author matches\n"
     ]
    }
   ],
   "source": [
    "new_papers = get_new_papers()\n",
    "# add manual references\n",
    "add_paper_refs = []\n",
    "new_papers.extend([get_paper_from_identifier(k) for k in add_paper_refs])\n",
    "\n",
    "def robust_call(fn, value, *args, **kwargs):\n",
    "    try:\n",
    "        return fn(value, *args, **kwargs)\n",
    "    except Exception:\n",
    "        return value\n",
    "\n",
    "candidates = []\n",
    "for paperk in new_papers:\n",
    "    # Check author list with their initials\n",
    "    normed_author_list = [robust_call(mpia.get_initials, k) for k in paperk['authors']]\n",
    "    hl_authors = highlight_authors_in_list(normed_author_list, mpia_authors, verbose=True)\n",
    "    matches = [(hl, orig) for hl, orig in zip(hl_authors, paperk['authors']) if 'mark' in hl]\n",
    "    paperk['authors'] = hl_authors\n",
    "    if matches:\n",
    "        # only select paper if an author matched our list\n",
    "        candidates.append(paperk)\n",
    "print(\"\"\"Arxiv has {0:,d} new papers today\"\"\".format(len(new_papers)))        \n",
    "print(\"\"\"          {0:,d} with possible author matches\"\"\".format(len(candidates)))"
   ]
  },
  {
   "cell_type": "markdown",
   "id": "3543b34a",
   "metadata": {
    "papermill": {
     "duration": 0.003083,
     "end_time": "2025-02-27T04:11:38.372196",
     "exception": false,
     "start_time": "2025-02-27T04:11:38.369113",
     "status": "completed"
    },
    "tags": []
   },
   "source": [
    "# Parse sources and generate relevant outputs\n",
    "\n",
    "From the candidates, we do the following steps:\n",
    "* get their tarball from ArXiv (and extract data)\n",
    "* find the main .tex file: find one with \\documentclass{...} (sometimes it's non trivial)\n",
    "* Check affiliations with :func:`validation`, which uses :func:`mpia.affiliation_verifications`\n",
    "* If passing the affiliations: we parse the .tex source\n",
    "   * inject sub-documents into the main (flatten the main document)\n",
    "   * parse structure, extract information (title, abstract, authors, figures...)\n",
    "   * handles `\\graphicspath` if provided\n",
    "* Generate the .md document."
   ]
  },
  {
   "cell_type": "code",
   "execution_count": 5,
   "id": "9576b79e",
   "metadata": {
    "execution": {
     "iopub.execute_input": "2025-02-27T04:11:38.379105Z",
     "iopub.status.busy": "2025-02-27T04:11:38.378893Z",
     "iopub.status.idle": "2025-02-27T04:13:41.643168Z",
     "shell.execute_reply": "2025-02-27T04:13:41.642439Z"
    },
    "papermill": {
     "duration": 123.269172,
     "end_time": "2025-02-27T04:13:41.644368",
     "exception": false,
     "start_time": "2025-02-27T04:11:38.375196",
     "status": "completed"
    },
    "scrolled": false,
    "tags": []
   },
   "outputs": [
    {
     "data": {
      "application/vnd.jupyter.widget-view+json": {
       "model_id": "423aaf367b284d8c957b285fd787d6a5",
       "version_major": 2,
       "version_minor": 0
      },
      "text/plain": [
       "  0%|          | 0/8 [00:00<?, ?it/s]"
      ]
     },
     "metadata": {},
     "output_type": "display_data"
    },
    {
     "name": "stdout",
     "output_type": "stream",
     "text": [
      "Retrieving document from  https://arxiv.org/e-print/2502.18559\n"
     ]
    },
    {
     "name": "stdout",
     "output_type": "stream",
     "text": [
      "extracting tarball to tmp_2502.18559..."
     ]
    },
    {
     "name": "stdout",
     "output_type": "stream",
     "text": [
      " done.\n"
     ]
    },
    {
     "name": "stderr",
     "output_type": "stream",
     "text": [
      "/opt/hostedtoolcache/Python/3.9.21/x64/lib/python3.9/site-packages/IPython/core/interactiveshell.py:3550: LatexWarning: Multiple tex files.\n",
      "\n",
      "  exec(code_obj, self.user_global_ns, self.user_ns)\n",
      "/opt/hostedtoolcache/Python/3.9.21/x64/lib/python3.9/site-packages/IPython/core/interactiveshell.py:3550: LatexWarning: Found documentclass in tmp_2502.18559/ms.tex\n",
      "\n",
      "  exec(code_obj, self.user_global_ns, self.user_ns)\n",
      "/opt/hostedtoolcache/Python/3.9.21/x64/lib/python3.9/site-packages/arxiv_on_deck_2/latex.py:414: LatexWarning: Latex injecting: 'model_based_Lbol_BC_6to13um.tex' from 'tmp_2502.18559/model_based_Lbol_BC_6to13um.tex'\n",
      "  warnings.warn(LatexWarning(f\"Latex injecting: '{ext}' from '{subsource}'\"))\n",
      "/opt/hostedtoolcache/Python/3.9.21/x64/lib/python3.9/site-packages/arxiv_on_deck_2/latex.py:414: LatexWarning: Latex injecting: 'model_based_Lbol_BC_1to5um.tex' from 'tmp_2502.18559/model_based_Lbol_BC_1to5um.tex'\n",
      "  warnings.warn(LatexWarning(f\"Latex injecting: '{ext}' from '{subsource}'\"))\n",
      "/opt/hostedtoolcache/Python/3.9.21/x64/lib/python3.9/site-packages/arxiv_on_deck_2/latex.py:414: LatexWarning: Latex injecting: 'model_based_Lbol_BC_1to2p4um.tex' from 'tmp_2502.18559/model_based_Lbol_BC_1to2p4um.tex'\n",
      "  warnings.warn(LatexWarning(f\"Latex injecting: '{ext}' from '{subsource}'\"))\n",
      "/opt/hostedtoolcache/Python/3.9.21/x64/lib/python3.9/site-packages/arxiv_on_deck_2/latex.py:414: LatexWarning: Latex injecting: 'summary_of_atmospheric_model_grids.tex' from 'tmp_2502.18559/summary_of_atmospheric_model_grids.tex'\n",
      "  warnings.warn(LatexWarning(f\"Latex injecting: '{ext}' from '{subsource}'\"))\n",
      "/opt/hostedtoolcache/Python/3.9.21/x64/lib/python3.9/site-packages/arxiv_on_deck_2/latex.py:414: LatexWarning: Latex injecting: '2MASS1207b_qeq_retrievals_cloud_params.tex' from 'tmp_2502.18559/2MASS1207b_qeq_retrievals_cloud_params.tex'\n",
      "  warnings.warn(LatexWarning(f\"Latex injecting: '{ext}' from '{subsource}'\"))\n",
      "/opt/hostedtoolcache/Python/3.9.21/x64/lib/python3.9/site-packages/arxiv_on_deck_2/latex.py:414: LatexWarning: Latex injecting: '2MASS1207b_qeq_retrievals_key_params.tex' from 'tmp_2502.18559/2MASS1207b_qeq_retrievals_key_params.tex'\n",
      "  warnings.warn(LatexWarning(f\"Latex injecting: '{ext}' from '{subsource}'\"))\n",
      "/opt/hostedtoolcache/Python/3.9.21/x64/lib/python3.9/site-packages/arxiv_on_deck_2/latex.py:414: LatexWarning: Latex injecting: 'retrieval_free_parameters.tex' from 'tmp_2502.18559/retrieval_free_parameters.tex'\n",
      "  warnings.warn(LatexWarning(f\"Latex injecting: '{ext}' from '{subsource}'\"))\n",
      "/opt/hostedtoolcache/Python/3.9.21/x64/lib/python3.9/site-packages/arxiv_on_deck_2/latex.py:414: LatexWarning: Latex injecting: '2MASS1207b_evo_params.tex' from 'tmp_2502.18559/2MASS1207b_evo_params.tex'\n",
      "  warnings.warn(LatexWarning(f\"Latex injecting: '{ext}' from '{subsource}'\"))\n"
     ]
    },
    {
     "name": "stdout",
     "output_type": "stream",
     "text": [
      "P. Mollière  ->  P. Mollière  |  ['P. Mollière']\n"
     ]
    },
    {
     "name": "stderr",
     "output_type": "stream",
     "text": [
      "/opt/hostedtoolcache/Python/3.9.21/x64/lib/python3.9/site-packages/arxiv_on_deck_2/latex.py:132: LatexWarning: attempting recovering figure assist_2M1207b_evolution_params_violin\n",
      "  warnings.warn(LatexWarning(f'attempting recovering figure {image}'))\n",
      "/opt/hostedtoolcache/Python/3.9.21/x64/lib/python3.9/site-packages/arxiv_on_deck_2/latex.py:137: LatexWarning: Recovered figure assist_2M1207b_evolution_params_violin as tmp_2502.18559/./assist_2M1207b_evolution_params_violin.pdf\n",
      "  warnings.warn(LatexWarning(f'Recovered figure {image} as {fname}'))\n"
     ]
    },
    {
     "name": "stderr",
     "output_type": "stream",
     "text": [
      "/opt/hostedtoolcache/Python/3.9.21/x64/lib/python3.9/site-packages/arxiv_on_deck_2/latex.py:132: LatexWarning: attempting recovering figure ceq_2M1207b_FeSiens_evo_data_vs_models_combo\n",
      "  warnings.warn(LatexWarning(f'attempting recovering figure {image}'))\n",
      "/opt/hostedtoolcache/Python/3.9.21/x64/lib/python3.9/site-packages/arxiv_on_deck_2/latex.py:137: LatexWarning: Recovered figure ceq_2M1207b_FeSiens_evo_data_vs_models_combo as tmp_2502.18559/./ceq_2M1207b_FeSiens_evo_data_vs_models_combo.pdf\n",
      "  warnings.warn(LatexWarning(f'Recovered figure {image} as {fname}'))\n"
     ]
    },
    {
     "name": "stdout",
     "output_type": "stream",
     "text": [
      "Found 279 bibliographic references in tmp_2502.18559/ms.bbl.\n",
      "Issues with the citations\n",
      "syntax error in line 158: '=' expected\n",
      "Retrieving document from  https://arxiv.org/e-print/2502.18567\n"
     ]
    },
    {
     "name": "stdout",
     "output_type": "stream",
     "text": [
      "extracting tarball to tmp_2502.18567..."
     ]
    },
    {
     "name": "stdout",
     "output_type": "stream",
     "text": [
      " done.\n",
      "Retrieving document from  https://arxiv.org/e-print/2502.18651\n"
     ]
    },
    {
     "name": "stdout",
     "output_type": "stream",
     "text": [
      "extracting tarball to tmp_2502.18651..."
     ]
    },
    {
     "name": "stdout",
     "output_type": "stream",
     "text": [
      " done.\n",
      "Retrieving document from  https://arxiv.org/e-print/2502.18824\n"
     ]
    },
    {
     "name": "stdout",
     "output_type": "stream",
     "text": [
      "extracting tarball to tmp_2502.18824... done.\n",
      "Retrieving document from  https://arxiv.org/e-print/2502.18825\n"
     ]
    },
    {
     "name": "stdout",
     "output_type": "stream",
     "text": [
      "extracting tarball to tmp_2502.18825..."
     ]
    },
    {
     "name": "stdout",
     "output_type": "stream",
     "text": [
      " done.\n",
      "Retrieving document from  https://arxiv.org/e-print/2502.18900\n"
     ]
    },
    {
     "name": "stdout",
     "output_type": "stream",
     "text": [
      "extracting tarball to tmp_2502.18900... done.\n",
      "Retrieving document from  https://arxiv.org/e-print/2502.19189\n"
     ]
    },
    {
     "name": "stdout",
     "output_type": "stream",
     "text": [
      "extracting tarball to tmp_2502.19189..."
     ]
    },
    {
     "name": "stdout",
     "output_type": "stream",
     "text": [
      " done.\n",
      "Retrieving document from  https://arxiv.org/e-print/2502.19224\n"
     ]
    },
    {
     "name": "stdout",
     "output_type": "stream",
     "text": [
      "extracting tarball to tmp_2502.19224..."
     ]
    },
    {
     "name": "stdout",
     "output_type": "stream",
     "text": [
      " done.\n"
     ]
    }
   ],
   "source": [
    "documents = []\n",
    "failed = []\n",
    "for paper in tqdm(candidates):\n",
    "    # debug crap\n",
    "    paper['identifier'] = paper['identifier'].lower().replace('arxiv:', '').replace(r'\\n', '').strip()\n",
    "    paper_id = paper['identifier']\n",
    "    \n",
    "    folder = f'tmp_{paper_id}'\n",
    "\n",
    "    try:\n",
    "        if not os.path.isdir(folder):\n",
    "            folder = retrieve_document_source(f\"{paper_id}\", f'tmp_{paper_id}')\n",
    "        \n",
    "        try:\n",
    "            doc = latex.LatexDocument(folder, validation=validation)    \n",
    "        except AffiliationError as affilerror:\n",
    "            msg = f\"ArXiv:{paper_id:s} is not an MPIA paper... \" + str(affilerror)\n",
    "            failed.append((paper, \"affiliation error: \" + str(affilerror) ))\n",
    "            continue\n",
    "        \n",
    "        # Hack because sometimes author parsing does not work well\n",
    "        if (len(doc.authors) != len(paper['authors'])):\n",
    "            doc._authors = paper['authors']\n",
    "        else:\n",
    "            # highlight authors (FIXME: doc.highlight_authors)\n",
    "            # done on arxiv paper already\n",
    "            doc._authors = highlight_authors_in_list(\n",
    "                [get_initials(k) for k in doc.authors], \n",
    "                mpia_authors, verbose=True)\n",
    "        if (doc.abstract) in (None, ''):\n",
    "            doc._abstract = paper['abstract']\n",
    "            \n",
    "        doc.comment = (get_markdown_badge(paper_id) + \n",
    "                       \"<mark>Appeared on: \" + paper['date'] + \"</mark> - \")\n",
    "        if paper['comments']:\n",
    "            doc.comment += \" _\" + paper['comments'] + \"_\"\n",
    "        \n",
    "        full_md = doc.generate_markdown_text()\n",
    "        \n",
    "        full_md += get_markdown_qrcode(paper_id)\n",
    "        \n",
    "        # replace citations\n",
    "        try:\n",
    "            bibdata = latex_bib.LatexBib.from_doc(doc)\n",
    "            full_md = latex_bib.replace_citations(full_md, bibdata)\n",
    "        except Exception as e:\n",
    "            print(\"Issues with the citations\")\n",
    "            print(e)\n",
    "        \n",
    "        documents.append((paper_id, full_md))\n",
    "    except Exception as e:\n",
    "        warnings.warn(latex.LatexWarning(f\"{paper_id:s} did not run properly\\n\" +\n",
    "                                         str(e)\n",
    "                                        ))\n",
    "        failed.append((paper, \"latex error \" + str(e)))"
   ]
  },
  {
   "cell_type": "markdown",
   "id": "2505a25c",
   "metadata": {
    "papermill": {
     "duration": 0.004173,
     "end_time": "2025-02-27T04:13:41.652984",
     "exception": false,
     "start_time": "2025-02-27T04:13:41.648811",
     "status": "completed"
    },
    "tags": []
   },
   "source": [
    "### Export the logs\n",
    "\n",
    "Throughout, we also keep track of the logs per paper. see `logs-{today date}.md` "
   ]
  },
  {
   "cell_type": "code",
   "execution_count": 6,
   "id": "d733828a",
   "metadata": {
    "execution": {
     "iopub.execute_input": "2025-02-27T04:13:41.661994Z",
     "iopub.status.busy": "2025-02-27T04:13:41.661801Z",
     "iopub.status.idle": "2025-02-27T04:13:41.682127Z",
     "shell.execute_reply": "2025-02-27T04:13:41.681631Z"
    },
    "papermill": {
     "duration": 0.026113,
     "end_time": "2025-02-27T04:13:41.683163",
     "exception": false,
     "start_time": "2025-02-27T04:13:41.657050",
     "status": "completed"
    },
    "scrolled": false,
    "tags": []
   },
   "outputs": [
    {
     "data": {
      "text/markdown": [
       "## Successful papers"
      ],
      "text/plain": [
       "<IPython.core.display.Markdown object>"
      ]
     },
     "metadata": {},
     "output_type": "display_data"
    },
    {
     "data": {
      "text/markdown": [
       "\n",
       "|||\n",
       "|---:|:---|\n",
       "| [![arXiv](https://img.shields.io/badge/arXiv-2502.18559-b31b1b.svg)](https://arxiv.org/abs/2502.18559) | **ELemental abundances of Planets and brown dwarfs Imaged around Stars (ELPIS): II. The Jupiter-like Inhomogeneous Atmosphere of the First Directly Imaged Planetary-Mass Companion 2MASS 1207 b**  |\n",
       "|| Z. Zhang, <mark>P. Mollière</mark>, J. J. Fortney, M. S. Marley |\n",
       "|*Appeared on*| *2025-02-27*|\n",
       "|*Comments*| *51 pages, 22 figures, and 8 tables. Submitted to AJ and fully revised following the referee report. This work is dedicated to the 20th anniversary of the discovery of 2MASS 1207 b, the first directly imaged planetary-mass companion. A review of 20 years of literature on the 2MASS 1207 A+b system is presented in Section 2*|\n",
       "|**Abstract**|            2MASS 1207 b, the first directly imaged planetary-mass companion, has been instrumental in advancing our understanding of exoplanets and brown dwarfs over the past 20 years. We have performed extensive atmospheric retrieval analyses of 2MASS 1207 b's JWST/NIRSpec spectrum using petitRADTRANS and a new atmospheric inhomogeneity framework, which characterizes homogeneous atmospheres, patchy clouds, cloud-free hot spots, or the combination of patchy clouds and spots. Among 24 retrieval runs with various assumptions, the most statistically preferred model corresponds to the patchy cloud scheme, with Teff$=1174^{+4}_{-3}$ K, log(g)=$3.62^{+0.03}_{-0.02}$ dex, and R$=1.399^{+0.008}_{-0.010}$ R$_{\\rm Jup}$, along with near-solar atmospheric compositions of [M/H]$=-0.05\\pm0.03$ dex and C/O$=0.440\\pm0.012$. This model suggests ~9% of 2MASS 1207 b's atmosphere is covered by thin iron clouds, producing L-dwarf-like spectra, while the remaining 91% consists of thick silicate and iron clouds, emitting blackbody-like spectra. These thin-cloud and thick-cloud regions resemble Jupiter's belts and zones, respectively; this scenario is consistently supported by other retrieval runs incorporating inhomogeneous atmospheres. We demonstrate that 2MASS 1207 b's weak CO absorption can be explained by the veiling effects of patchy thick clouds; the absence of 3.3um CH4 absorption is attributed to its hot thermal structure, which naturally leads to a CO-dominant, CH4-deficient atmosphere. The retrieved atmospheric models also match the observed variability amplitudes of 2MASS 1207 b. Our analysis reveals that the inferred atmospheric properties show significant scatter in less statistically preferred retrieval runs but converge to consistent values among the preferred ones. This underscores the importance of exploring diverse assumptions in retrievals to avoid biased interpretations of atmospheres and formation.         |"
      ],
      "text/plain": [
       "[2502.18559] ELemental abundances of Planets and brown dwarfs Imaged around Stars (ELPIS): II. The Jupiter-like Inhomogeneous Atmosphere of the First Directly Imaged Planetary-Mass Companion 2MASS 1207 b\n",
       "\tZ. Zhang, <mark>P. Mollière</mark>, J. J. Fortney, M. S. Marley"
      ]
     },
     "metadata": {},
     "output_type": "display_data"
    },
    {
     "data": {
      "text/markdown": [
       "## Failed papers"
      ],
      "text/plain": [
       "<IPython.core.display.Markdown object>"
      ]
     },
     "metadata": {},
     "output_type": "display_data"
    },
    {
     "data": {
      "text/markdown": [
       "\n",
       "|||\n",
       "|---:|:---|\n",
       "| [![arXiv](https://img.shields.io/badge/arXiv-2502.18567-b31b1b.svg)](https://arxiv.org/abs/2502.18567) | **\"Frog-eyes\" in Astronomy: Monitoring Binary Radial Velocity Variations Through A Pair of Narrow-Band Filters**  |\n",
       "|| C. Zheng, et al. -- incl., <mark>J. Liu</mark> |\n",
       "|*Appeared on*| *2025-02-27*|\n",
       "|*Comments*| *17 pages, 11 figures, and 3 tables. Accepted for publication by SCPMA*|\n",
       "|**Abstract**|            Spectroscopic observations are a crucial step in driving major discoveries in the era of time-domain surveys. However, the pace of current spectroscopic surveys is increasingly unable to meet the demands of rapidly advancing large-scale time-domain surveys. To address this issue, we propose the ``Frog-eyes\" system, which employs a pair of narrow-band filters: one positioned near a strong absorption line to capture signals from Doppler shifts, and the other placed on the adjacent continuum to monitor intrinsic variations. The combination of observations from the two filters enables the extraction of radial velocity (RV) curves from a large sample of binary stars, and is particularly efficient for single-lined binaries (SB1), using photometric techniques. Comprehensive mock simulations on SB1 demonstrate that the binary orbital parameters can be precisely measured from the extracted RV curves for binary systems where the primary star has an effective temperature greater than 6000 K. With a typical ground-based photometric precision of approximately 0.3%, the uncertainties in the derived semi-amplitude K and eccentricity e are less than 10% and 0.1, respectively, for binary systems with K $\\ge$ 30 km/s. These encouraging results are further validated by real observations of the hot subdwarf-white dwarf binary system HD 265435, using a non-specialized ``Frog-eyes\" system installed on the Chinese 2.16m telescope. Once this system is properly installed on large-field-of-view survey telescopes, the rate of acquiring RV curves for binaries will approach their detection rate in leading time-domain photometric surveys.         |\n",
       "|<p style=\"color:green\"> **ERROR** </p>| <p style=\"color:green\">affiliation error: mpia.affiliation_verifications: 'Heidelberg' keyword not found.</p> |"
      ],
      "text/plain": [
       "<IPython.core.display.Markdown object>"
      ]
     },
     "metadata": {},
     "output_type": "display_data"
    },
    {
     "data": {
      "text/markdown": [
       "\n",
       "|||\n",
       "|---:|:---|\n",
       "| [![arXiv](https://img.shields.io/badge/arXiv-2502.18824-b31b1b.svg)](https://arxiv.org/abs/2502.18824) | **Galactic-scale emission-line outflow from the radio-loud quasar 3C 191**  |\n",
       "|| Q. Zhao, et al. -- incl., <mark>M. Sharma</mark> |\n",
       "|*Appeared on*| *2025-02-27*|\n",
       "|*Comments*| *18gapes, 10 figures, Accepted for publication in ApJS*|\n",
       "|**Abstract**|            Quasar feedback is routinely invoked as an indispensable ingredient in galaxy formation models. Galactic outflows are a crucial agent of quasar feedback that frequently manifest themselves in absorption and emission lines. Measuring the size and energetics of outflows based on absorption lines remains a challenge, and integral-field spectroscopy (IFS) mapping in emission lines is complementary. We present a VLT/SINFONI IFS mapping of quasar 3C 191 at $z \\sim 2$, in which the outflow has been analyzed in absorption line spectroscopy. Three components are found based on the morphology and kinetics of [OIII]-emitting gas: a unshifted component which consistent with the systemic redshift and the location of the nucleus, a blueshifted in the north, and a redshifted in the south. The latter two components have velocities $\\sim$ 600 km s$^{-1}$ and projected extents of 5 and 11 kpc, respectively, suggesting a biconical outflow structure. The blueshifted component's velocity is consistent with that derived from absorption lines. Using the electron density measured by the absorption lines and the luminosity and velocity of [OIII] outflow, we derive the mass outflow rate to be $\\dot{M} \\sim $ 9.5-13.4 M$_\\odot$ yr$^{-1}$ and kinetic luminosity $\\dot{E}_{\\rm kin}$ ~ 2.5-3.7 $\\times 10^{42}$ erg s$^{-1}$, consistent with absorption line analyses with VLT/Xshooter spectrum. The kinetic luminosity is only 0.01% of the bolometric luminosity, rendering a relatively weak outflow compared to typical expectation for effective feedback.         |\n",
       "|<p style=\"color:green\"> **ERROR** </p>| <p style=\"color:green\">affiliation error: mpia.affiliation_verifications: 'Heidelberg' keyword not found.</p> |"
      ],
      "text/plain": [
       "<IPython.core.display.Markdown object>"
      ]
     },
     "metadata": {},
     "output_type": "display_data"
    },
    {
     "data": {
      "text/markdown": [
       "\n",
       "|||\n",
       "|---:|:---|\n",
       "| [![arXiv](https://img.shields.io/badge/arXiv-2502.18825-b31b1b.svg)](https://arxiv.org/abs/2502.18825) | **The distance of quasar outflows from the central source: The first consistent values from emission and absorption determinations**  |\n",
       "|| <mark>M. Sharma</mark>, et al. |\n",
       "|*Appeared on*| *2025-02-27*|\n",
       "|*Comments*| *18 pages, 11 figures. Accepted for publication in ApJ along with the companion paper*|\n",
       "|**Abstract**|            Measuring the distance of quasar outflows from the central source ($R$) is essential for determining their importance for AGN feedback. There are two methods to measure $R$: 1) A direct determination using spatially resolved Integral Field Spectroscopy (IFS) of the outflow in emission. 2) An indirect method which uses the absorption troughs from ionic excited states. The column density ratio between the excited and resonance states yields the outflow number density. Combined with a knowledge of the outflow's ionization parameter, $R$ can be determined. Generally, the IFS method probes $R$ range of several kpc or more, while the absorption method usually yields $R$ values of less than 1 kpc. There is no inconsistency between the two methods as the determinations come from different objects. Here we report the results of applying both methods to the same quasar outflow, where we derive consistent determinations of $R$ $\\approx$ 5 kpc. This is the first time where the indirect absorption $R$ determination is verified by a direct spatially resolved IFS observation. In addition, the velocities (and energetics) from the IFS and absorption data are also found to be consistent. Therefore, these are two manifestations of the same outflow. In this paper we concentrate on the absorption $R$ determination for the outflow seen in quasar 3C 191 using VLT/X-shooter observations. We also reanalyze an older absorption determination for the outflow based on Keck/HIRES data and find that revised measurement to be consistent with ours. Our companion paper details the IFS analysis of the same object.         |\n",
       "|<p style=\"color:green\"> **ERROR** </p>| <p style=\"color:green\">affiliation error: mpia.affiliation_verifications: 'Heidelberg' keyword not found.</p> |"
      ],
      "text/plain": [
       "<IPython.core.display.Markdown object>"
      ]
     },
     "metadata": {},
     "output_type": "display_data"
    },
    {
     "data": {
      "text/markdown": [
       "\n",
       "|||\n",
       "|---:|:---|\n",
       "| [![arXiv](https://img.shields.io/badge/arXiv-2502.18900-b31b1b.svg)](https://arxiv.org/abs/2502.18900) | **Detection of [C\\,{\\sc i}] Emission in Nebular Spectra of a Peculiar Type Ia Supernova 2022pul**  |\n",
       "|| <mark>J. Liu</mark>, et al. |\n",
       "|*Appeared on*| *2025-02-27*|\n",
       "|*Comments*| *11 pages, 6 figures, 2 tables, accepted for publication in ApJL*|\n",
       "|**Abstract**|            SN~2022pul gains special attention due to its possible origin of a super-Chandarsekhar-mass white dwarf explosion (or called a 03fg-like type Ia supernova), which shows prominent [O\\,{\\sc i}], [Ne\\,{\\sc i}], and [Ca\\,{\\sc ii}] lines in its late-time spectra taken at $\\sim+$300 days after the peak brightness. In this paper, we present new optical observations for this peculiar object, extending up to over 500 days after the peak brightness. In particular, in the $t\\approx+515$ days spectrum, we identified for the first time the presence of narrow emission from [C\\,{\\sc i}] $\\lambda\\lambda9824, 9850$, which appears asymmetric and quite similar to the accompanied [O\\,{\\sc i}] $\\lambda6300$ line in strength and profile. Based on the violent merger model that accounts well for previous observations but leaves little carbon in the center of the ejecta, this carbon line can be reproduced by increasing the degree of clumping in the ejecta and setting the carbon mass the same as that of oxygen ($\\sim$0.06 $M_{\\odot}$) in the innermost region ($\\lesssim 2000$ km s$^{-1}$). In principle, the central carbon could come from the secondary white dwarf (WD) if it is ignited when hit by the shockwave of the explosion of the primary WD and explodes as a Ca-rich supernova, whereas pure deflagration of a super-Chandarsekhar-mass WD can account for such unburnt carbon more naturally.         |\n",
       "|<p style=\"color:green\"> **ERROR** </p>| <p style=\"color:green\">affiliation error: mpia.affiliation_verifications: 'Heidelberg' keyword not found.</p> |"
      ],
      "text/plain": [
       "<IPython.core.display.Markdown object>"
      ]
     },
     "metadata": {},
     "output_type": "display_data"
    },
    {
     "data": {
      "text/markdown": [
       "\n",
       "|||\n",
       "|---:|:---|\n",
       "| [![arXiv](https://img.shields.io/badge/arXiv-2502.19189-b31b1b.svg)](https://arxiv.org/abs/2502.19189) | **Fermi-detection of gamma-ray Emissions from the Hot Coronae of Radio-quiet Active Galactic Nuclei**  |\n",
       "|| F.-L. Collaboration, J.-M. Wang, <mark>J. Li</mark>, J.-R. Liu |\n",
       "|*Appeared on*| *2025-02-27*|\n",
       "|*Comments*| *Submitted*|\n",
       "|**Abstract**|            Relativistic jets around supermassive black holes (SMBHs) are well-known powerful $\\gamma$-ray emitters. In absence of the jets in radio-quiet active galactic nuclei (AGNs), how the SMBHs work in $\\gamma$-ray bands is still unknown despite of great observational efforts made in the last 3 decades. Considering the previous efforts, we carefully select an AGN sample composed of 37 nearby Seyfert galaxies with ultra-hard X-rays for the goals of $\\gamma$-ray detections by excluding all potential contamination in this band. Adopting a stacking technique, here we report the significant $\\gamma$-ray detection (${\\rm TS}=30.6$, or $5.2\\,\\sigma$) from the sample using 15-year Fermi-Large Area Telescope (LAT) observation. We find an average $\\gamma$-ray luminosity of the sample as $(1.5\\pm1.0)\\times10^{40}{\\,\\rm erg\\,s^{-1}}$ at energies from 1-300\\,GeV. Limited by the well-known pair production from the interaction of $\\gamma$-rays with low energy photons, $\\gtrsim$ several GeV $\\gamma$-rays are found to originate from an extended corona ($\\sim 2.7\\times 10^6\\,R_{\\rm g}$), whereas the canonical much more compact X-ray corona ($\\sim 10\\,R_{\\rm g}$) is responsible for 1 to several GeV $\\gamma$-rays. The finding of the compact region lends to strong supports to the long-time theoretical expectations, but the extended corona is beyond all the existing models. One promising scenario is that the electron-positron pairs produced in the compact X-ray corona would expand as fireball, similar to that in $\\gamma$-ray bursts, forming the structure of extended corona.         |\n",
       "|<p style=\"color:green\"> **ERROR** </p>| <p style=\"color:green\">affiliation error: mpia.affiliation_verifications: 'Heidelberg' keyword not found.</p> |"
      ],
      "text/plain": [
       "<IPython.core.display.Markdown object>"
      ]
     },
     "metadata": {},
     "output_type": "display_data"
    },
    {
     "data": {
      "text/markdown": [
       "\n",
       "|||\n",
       "|---:|:---|\n",
       "| [![arXiv](https://img.shields.io/badge/arXiv-2502.19224-b31b1b.svg)](https://arxiv.org/abs/2502.19224) | **Coronal Abundance Fractionation Linked to Chromospheric Transverse MHD Waves in a Solar Active Region Observed with FISS/GST and EIS/Hinode**  |\n",
       "|| K.-S. Lee, et al. -- incl., <mark>K. Lee</mark> |\n",
       "|*Appeared on*| *2025-02-27*|\n",
       "|*Comments*| *13 pages, 10 figures, submitted to A&A*|\n",
       "|**Abstract**|            Elemental abundances in the solar corona differ from those in the photosphere, with low first ionization potential (FIP) elements being enhanced, a phenomenon known as the FIP effect. This enhancement is attributed to ponderomotive forces linked to magnetohydrodynamic (MHD) waves, particularly incompressible transverse waves. Our study investigates the relationship between coronal abundance fractionation and chromospheric transverse MHD waves by examining the spatial correlation between FIP fractionation and these waves and by analyzing their properties to test the ponderomotive force model. We used H alpha data from the Fast Imaging Solar Spectrograph at the Goode Solar Telescope to detect chromospheric transverse MHD waves and \\ion{Si}{X} (low FIP) and \\ion{S}{X} (high FIP) spectra from Hinode EUV Imaging Spectrometer to determine relative abundances in an active region. Extrapolated linear force free magnetic fields from Solar Dynamics Observatory/Helioseismic and Magnetic Imager magnetograms further linked the observed chromospheric waves with coronal composition. Approximately 400 wave packets were identified and characterized by their period, velocity amplitude, propagation speed, and direction. These incompressible or weakly compressible waves were mainly observed near loop footpoints in the sunspot penumbra and superpenumbral fibrils. Regions of high FIP fractionation coincided with closed magnetic fields where these waves were present, and low-frequency, downward-propagating waves comprised about 43/% of the total. Our results demonstrate a strong correlation between coronal abundance fractionation and chromospheric transverse MHD waves, supporting the view that the FIP effect is driven by the ponderomotive force from these waves.         |\n",
       "|<p style=\"color:green\"> **ERROR** </p>| <p style=\"color:green\">affiliation error: mpia.affiliation_verifications: 'Heidelberg' keyword not found.</p> |"
      ],
      "text/plain": [
       "<IPython.core.display.Markdown object>"
      ]
     },
     "metadata": {},
     "output_type": "display_data"
    },
    {
     "data": {
      "text/markdown": [
       "\n",
       "|||\n",
       "|---:|:---|\n",
       "| [![arXiv](https://img.shields.io/badge/arXiv-2502.18651-b31b1b.svg)](https://arxiv.org/abs/2502.18651) | **Variability of Central Stars of Planetary Nebulae with the Zwicky Transient Facility. II. Long-Timescale Variables including Wide Binary and Late Thermal Pulse Candidates**  |\n",
       "|| S. Bhattacharjee, et al. -- incl., <mark>N. Mackensen</mark>, <mark>K. El-Badry</mark> |\n",
       "|*Appeared on*| *2025-02-27*|\n",
       "|*Comments*| *23 pages (including appendix), 20 figures, 2 tables; Submitted to PASP, Comments are Welcome!*|\n",
       "|**Abstract**|            In this second paper on the variability survey of central stars of planetary nebulae (CSPNe) using ZTF, we focus on the 11 long-timescale variables with variability timescales ranging from months to years. We also present preliminary analyses based on spectroscopic and/or photometric follow-up observations for six of them. Among them is NGC 6833, which shows a 980 day periodic variability with strange characteristics: 'triangle-shaped' brightening in $r$, $i$, and WISE bands but almost coincidental shallow dips in the $g$-band. We speculate this to be a wide but eccentric binary with the same orbital period. Long-period near-sinusoidal variability was detected in two other systems, NGC 6905 and Kn 26, with periods of 700 days and 230 days, respectively, making them additional wide-binary candidates. The latter also shows a short period at 1.18 hours which can either be from a close inner binary or pulsational origin. We present CTSS 2 and PN K 3-5 which show brightening and significant reddening over the whole ZTF baseline. A stellar model fit to the optical spectrum of CTSS 2 reveals it to be one of the youngest post-AGB CSPN known. Both show high-density emission-line cores. These appear to be late thermal pulse candidates, currently evolving towards the AGB phase, though alternative explanations are possible. We then present recent HST/COS ultraviolet spectroscopy of the known wide-binary candidate LoTr 1 showing that the hot star is a spectroscopic twin of the extremely hot white dwarf in UCAC2 46706450. We think that the long photometric period of 11 years is the binary orbital period. Finally, we briefly discuss the ZTF light curves of the remaining variables, namely Tan 2, K 3-20, WHTZ 3, Kn J1857+3931, and IPHAS J1927+0814. With these examples, we present the effectiveness of the von Neumann statistics and Pearson Skew-based metric space in searching for long-timescale variables.         |\n",
       "|<p style=\"color:green\"> **ERROR** </p>| <p style=\"color:green\">affiliation error: mpia.affiliation_verifications: 'Planck' keyword not found.</p> |"
      ],
      "text/plain": [
       "<IPython.core.display.Markdown object>"
      ]
     },
     "metadata": {},
     "output_type": "display_data"
    }
   ],
   "source": [
    "import datetime\n",
    "today = str(datetime.date.today())\n",
    "logfile = f\"_build/html/logs/log-{today}.md\"\n",
    "\n",
    "\n",
    "with open(logfile, 'w') as logs:\n",
    "    # Success\n",
    "    logs.write(f'# Arxiv on Deck 2: Logs - {today}\\n\\n')\n",
    "    logs.write(\"\"\"* Arxiv had {0:,d} new papers\\n\"\"\".format(len(new_papers)))\n",
    "    logs.write(\"\"\"    * {0:,d} with possible author matches\\n\\n\"\"\".format(len(candidates)))\n",
    "    logs.write(\"## Sucessful papers\\n\\n\")\n",
    "    display(Markdown(\"## Successful papers\"))\n",
    "    success = [k[0] for k in documents]\n",
    "    for candid in candidates:\n",
    "        if candid['identifier'].split(':')[-1] in success:\n",
    "            display(candid)\n",
    "            logs.write(candid.generate_markdown_text() + '\\n\\n')\n",
    "\n",
    "    ## failed\n",
    "    logs.write(\"## Failed papers\\n\\n\")\n",
    "    display(Markdown(\"## Failed papers\"))\n",
    "    failed = sorted(failed, key=lambda x: x[1])\n",
    "    current_reason = \"\"\n",
    "    for paper, reason in failed:\n",
    "        if 'affiliation' in reason:\n",
    "            color = 'green'\n",
    "        else:\n",
    "            color = 'red'\n",
    "        data = Markdown(\n",
    "                paper.generate_markdown_text() + \n",
    "                f'\\n|<p style=\"color:{color:s}\"> **ERROR** </p>| <p style=\"color:{color:s}\">{reason:s}</p> |'\n",
    "               )\n",
    "        if reason != current_reason:\n",
    "            logs.write(f'### {reason:s} \\n\\n')\n",
    "            current_reason = reason\n",
    "        logs.write(data.data + '\\n\\n')\n",
    "        \n",
    "        # only display here the important errors (all in logs)\n",
    "        # if color in ('red',):\n",
    "        display(data)"
   ]
  },
  {
   "cell_type": "markdown",
   "id": "472d20ee",
   "metadata": {
    "papermill": {
     "duration": 0.005007,
     "end_time": "2025-02-27T04:13:41.693416",
     "exception": false,
     "start_time": "2025-02-27T04:13:41.688409",
     "status": "completed"
    },
    "tags": []
   },
   "source": [
    "## Export documents\n",
    "\n",
    "We now write the .md files and export relevant images"
   ]
  },
  {
   "cell_type": "code",
   "execution_count": 7,
   "id": "d426aed9",
   "metadata": {
    "execution": {
     "iopub.execute_input": "2025-02-27T04:13:41.704298Z",
     "iopub.status.busy": "2025-02-27T04:13:41.704087Z",
     "iopub.status.idle": "2025-02-27T04:13:41.710784Z",
     "shell.execute_reply": "2025-02-27T04:13:41.710241Z"
    },
    "papermill": {
     "duration": 0.01327,
     "end_time": "2025-02-27T04:13:41.711741",
     "exception": false,
     "start_time": "2025-02-27T04:13:41.698471",
     "status": "completed"
    },
    "tags": []
   },
   "outputs": [],
   "source": [
    "def export_markdown_summary(md: str, md_fname:str, directory: str):\n",
    "    \"\"\"Export MD document and associated relevant images\"\"\"\n",
    "    import os\n",
    "    import shutil\n",
    "    import re\n",
    "\n",
    "    if (os.path.exists(directory) and not os.path.isdir(directory)):\n",
    "        raise RuntimeError(f\"a non-directory file exists with name {directory:s}\")\n",
    "\n",
    "    if (not os.path.exists(directory)):\n",
    "        print(f\"creating directory {directory:s}\")\n",
    "        os.mkdir(directory)\n",
    "\n",
    "    fig_fnames = (re.compile(r'\\[Fig.*\\]\\((.*)\\)').findall(md) + \n",
    "                  re.compile(r'\\<img src=\"([^>\\s]*)\"[^>]*/>').findall(md))\n",
    "    print(\"found figures\", fig_fnames)\n",
    "    for fname in fig_fnames:\n",
    "        if 'http' in fname:\n",
    "            # No need to copy online figures\n",
    "            continue\n",
    "        if not os.path.exists(fname):\n",
    "            print(\"file not found\", fname)\n",
    "            continue\n",
    "        print(\"copying \", fname, \"to\", directory)\n",
    "        destdir = os.path.join(directory, os.path.dirname(fname))\n",
    "        destfname = os.path.join(destdir, os.path.basename(fname))\n",
    "        try:\n",
    "            os.makedirs(destdir)\n",
    "        except FileExistsError:\n",
    "            pass\n",
    "        shutil.copy(fname, destfname)\n",
    "    with open(os.path.join(directory, md_fname), 'w') as fout:\n",
    "        fout.write(md)\n",
    "    print(\"exported in \", os.path.join(directory, md_fname))\n",
    "    [print(\"    + \" + os.path.join(directory,fk)) for fk in fig_fnames]"
   ]
  },
  {
   "cell_type": "code",
   "execution_count": 8,
   "id": "014d04a4",
   "metadata": {
    "execution": {
     "iopub.execute_input": "2025-02-27T04:13:41.723022Z",
     "iopub.status.busy": "2025-02-27T04:13:41.722611Z",
     "iopub.status.idle": "2025-02-27T04:13:41.729992Z",
     "shell.execute_reply": "2025-02-27T04:13:41.729376Z"
    },
    "papermill": {
     "duration": 0.014195,
     "end_time": "2025-02-27T04:13:41.731099",
     "exception": false,
     "start_time": "2025-02-27T04:13:41.716904",
     "status": "completed"
    },
    "tags": []
   },
   "outputs": [
    {
     "name": "stdout",
     "output_type": "stream",
     "text": [
      "found figures ['tmp_2502.18559/./ceq_2M1207b_patchy_FeSifor1_FeSifor2_evo_data_vs_models_combo.png', 'tmp_2502.18559/./inhomogeneity_framework.png', 'tmp_2502.18559/./ch4onset_Teff_effects.png', 'tmp_2502.18559/./ch4onset_MH_effects.png']\n",
      "copying  tmp_2502.18559/./ceq_2M1207b_patchy_FeSifor1_FeSifor2_evo_data_vs_models_combo.png to _build/html/\n",
      "copying  tmp_2502.18559/./inhomogeneity_framework.png to _build/html/\n",
      "copying  tmp_2502.18559/./ch4onset_Teff_effects.png to _build/html/\n",
      "copying  tmp_2502.18559/./ch4onset_MH_effects.png to _build/html/\n",
      "exported in  _build/html/2502.18559.md\n",
      "    + _build/html/tmp_2502.18559/./ceq_2M1207b_patchy_FeSifor1_FeSifor2_evo_data_vs_models_combo.png\n",
      "    + _build/html/tmp_2502.18559/./inhomogeneity_framework.png\n",
      "    + _build/html/tmp_2502.18559/./ch4onset_Teff_effects.png\n",
      "    + _build/html/tmp_2502.18559/./ch4onset_MH_effects.png\n"
     ]
    }
   ],
   "source": [
    "for paper_id, md in documents:\n",
    "    export_markdown_summary(md, f\"{paper_id:s}.md\", '_build/html/')"
   ]
  },
  {
   "cell_type": "markdown",
   "id": "f087a0a7",
   "metadata": {
    "papermill": {
     "duration": 0.005101,
     "end_time": "2025-02-27T04:13:41.741412",
     "exception": false,
     "start_time": "2025-02-27T04:13:41.736311",
     "status": "completed"
    },
    "tags": []
   },
   "source": [
    "## Display the papers\n",
    "\n",
    "Not necessary but allows for a quick check."
   ]
  },
  {
   "cell_type": "code",
   "execution_count": 9,
   "id": "fd25f625",
   "metadata": {
    "execution": {
     "iopub.execute_input": "2025-02-27T04:13:41.752894Z",
     "iopub.status.busy": "2025-02-27T04:13:41.752388Z",
     "iopub.status.idle": "2025-02-27T04:13:41.757028Z",
     "shell.execute_reply": "2025-02-27T04:13:41.756505Z"
    },
    "papermill": {
     "duration": 0.011352,
     "end_time": "2025-02-27T04:13:41.758019",
     "exception": false,
     "start_time": "2025-02-27T04:13:41.746667",
     "status": "completed"
    },
    "scrolled": false,
    "tags": []
   },
   "outputs": [
    {
     "data": {
      "text/markdown": [
       "<div class=\"macros\" style=\"visibility:hidden;\">\n",
       "$\\newcommand{\\ensuremath}{}$\n",
       "$\\newcommand{\\xspace}{}$\n",
       "$\\newcommand{\\object}[1]{\\texttt{#1}}$\n",
       "$\\newcommand{\\farcs}{{.}''}$\n",
       "$\\newcommand{\\farcm}{{.}'}$\n",
       "$\\newcommand{\\arcsec}{''}$\n",
       "$\\newcommand{\\arcmin}{'}$\n",
       "$\\newcommand{\\ion}[2]{#1#2}$\n",
       "$\\newcommand{\\textsc}[1]{\\textrm{#1}}$\n",
       "$\\newcommand{\\hl}[1]{\\textrm{#1}}$\n",
       "$\\newcommand{\\footnote}[1]{}$\n",
       "$\\newcommand$\n",
       "$\\newcommand{\\vdag}{(v)^\\dagger}$\n",
       "$\\newcommand$\n",
       "$\\newcommand$\n",
       "$\\newcommand$\n",
       "$\\newcommand$\n",
       "$\\newcommand$\n",
       "$\\newcommand{\\dotdeg}{\\rlap{.}^\\circ}$\n",
       "$\\newcommand{\\dotarcsec}{\\rlap{.}\"}$\n",
       "$\\newcommand{\\arraystretch}{1.2}$\n",
       "$\\newcommand{\\arraystretch}{1.1}$\n",
       "$\\newcommand{\\arraystretch}{1.3}$\n",
       "$\\newcommand{\\arraystretch}{1.3}$\n",
       "$\\newcommand{\\arraystretch}{1.2}$</div>\n",
       "\n",
       "\n",
       "\n",
       "<div id=\"title\">\n",
       "\n",
       "# ELemental abundances of Planets and brown dwarfs Imaged around Stars (ELPIS): \\\\II. The Jupiter-like Inhomogeneous Atmosphere of the First Directly Imaged Planetary-Mass Companion 2MASS 1207 b\n",
       "\n",
       "</div>\n",
       "<div id=\"comments\">\n",
       "\n",
       "[![arXiv](https://img.shields.io/badge/arXiv-2502.18559-b31b1b.svg)](https://arxiv.org/abs/2502.18559)<mark>Appeared on: 2025-02-27</mark> -  _51 pages, 22 figures, and 8 tables. Submitted to AJ and fully revised following the referee report. This work is dedicated to the 20th anniversary of the discovery of 2MASS 1207 b, the first directly imaged planetary-mass companion. A review of 20 years of literature on the 2MASS 1207 A+b system is presented in Section 2_\n",
       "\n",
       "</div>\n",
       "<div id=\"authors\">\n",
       "\n",
       "Z. Zhang (张周健), <mark>P. Mollière</mark>, J. J. Fortney, M. S. Marley\n",
       "\n",
       "</div>\n",
       "<div id=\"abstract\">\n",
       "\n",
       "**Abstract:** 2MASS 1207 b, the first directly imaged planetary-mass companion, has been instrumental in advancing our understanding of exoplanets and brown dwarfs over the past 20 years. We have performed extensive atmospheric retrieval analyses of 2MASS 1207 b's JWST/NIRSpec spectrum using \\texttt{petitRADTRANS} and a new atmospheric inhomogeneity framework, which characterizes homogeneous atmospheres, patchy clouds, cloud-free hot spots, or the combination of patchy clouds and spots. Among 24 retrieval runs with various assumptions, the most statistically preferred model corresponds to the patchy cloud scheme, with $T_{\\rm eff}=1174^{+4}_{-3}$ K, $\\log{(g)}=3.62^{+0.03}_{-0.02}$ dex, and $R=1.399^{+0.008}_{-0.010}$ R $_{\\rm Jup}$ , along with near-solar atmospheric compositions of [ M/H ] $=-0.05\\pm0.03$ dex and C/O $=0.440\\pm0.012$ . This model suggests $\\sim9\\%$ of 2MASS 1207 b's atmosphere is covered by thin iron clouds, producing L-dwarf-like spectra, while the remaining $91\\%$ consists of thick silicate and iron clouds, emitting blackbody-like spectra. These thin-cloud patches and thick-cloud regions resemble Jupiter's belts and zones, respectively, and this scenario is consistently supported by other retrieval runs incorporating inhomogeneous atmospheres. We demonstrate that the weak CO absorption of 2MASS 1207 b can be explained by the veiling effects of patchy thick clouds; the absence of 3.3 $\\mu$ m CH $_{4}$ absorption is attributed to its hot thermal structure, which naturally leads to a CO-dominant, CH $_{4}$ -deficient atmosphere. The retrieved atmospheric models also match the observed variability amplitudes of 2MASS 1207 b. Our analysis reveals that the inferred atmospheric properties show significant scatter in less statistically preferred retrieval runs but converge to consistent values among the preferred ones. This underscores the importance of exploring diverse assumptions in retrievals to avoid biased interpretations of $\\new{atmospheric properties}$ and formation $\\new{pathways}$ .\n",
       "\n",
       "</div>\n",
       "\n",
       "<div id=\"div_fig1\">\n",
       "\n",
       "<img src=\"tmp_2502.18559/./ceq_2M1207b_patchy_FeSifor1_FeSifor2_evo_data_vs_models_combo.png\" alt=\"Fig6\" width=\"100%\"/>\n",
       "\n",
       "**Figure 6. -** Results of our most preferred retrieval setup, \\texttt{QEQ-1}(see Tables \\ref{tab:retrieved_qeq_key}--\\ref{tab:retrieved_qeq_cloud} and discussions in Section \\ref{subsec:inhomo}), which has the lowest BIC value. The top panel compares the observed JWST/NIRSpec spectrum of 2MASS 1207 b (black circles) with the best-fit spectrum from \\texttt{QEQ-1}(orange). The emergent spectra from each atmospheric column are plotted in purple and green, with fluxes scaled by their corresponding coverage fractions. The blue error bars ($\\sigma$) represent the total error budget, where $\\sigma = \\sqrt{\\sigma_{\\rm obs}^{2} + b_{\\rm chunk}^{2}}$, with $\\sigma_{\\rm obs}$ as the observed flux uncertainty and $b_{\\rm chunk}$ as the fitted hyper-parameter (explained in Section \\ref{subsec:params_priors}). The second panel from the top shows the residual spectrum between the observed and best-fit spectra, scaled by $\\sigma$. The middle-left panel presents the confidence intervals for the retrieved T-P profiles. The remaining panels present the posteriors of key parameters, with median values and confidence intervals summarized in Table \\ref{tab:retrieved_qeq_key}.  (*fig:patchy_fesifor_evo*)\n",
       "\n",
       "</div>\n",
       "<div id=\"div_fig2\">\n",
       "\n",
       "<img src=\"tmp_2502.18559/./inhomogeneity_framework.png\" alt=\"Fig5\" width=\"100%\"/>\n",
       "\n",
       "**Figure 5. -** Four schemes in our atmospheric inhomogeneity framework (Section \\ref{subsec:inhomo_framework}).  (*fig:inhomo*)\n",
       "\n",
       "</div>\n",
       "<div id=\"div_fig3\">\n",
       "\n",
       "<img src=\"tmp_2502.18559/./ch4onset_Teff_effects.png\" alt=\"Fig11.1\" width=\"50%\"/><img src=\"tmp_2502.18559/./ch4onset_MH_effects.png\" alt=\"Fig11.2\" width=\"50%\"/>\n",
       "\n",
       "**Figure 11. -** _ Top_: The left panel shows T-P profiles from the \\texttt{Sonroa Diamondback} models with varying effective temperatures: $T_{\\rm eff} = 1700$ K (red), $1500$ K (orange), 1300 K (blue), and 1100 K (purple). All models have $\\log{(g)} = 4.5$ dex, [M/H]$=0$ dex, and $f_{\\rm sed} = 2$. The $3-4$ $\\mu$m photosphere of each model is highlighted with a thick line. The CO$-$CH$_{4}$ transition curve (see Figure \\ref{fig:tp_vs_f20}) is shown as a dashed line. The right panel presents the corresponding spectra, with CH$_{4}$ absorption features (R, Q, and P branches) labeled.  _ Bottom_: These two panels follow the same format as the top panels but present the T-P profiles and spectra for models with different [M/H] values: $+0.5$ dex (red), $0$ dex (orange), and $-0.5$ dex (blue). All models have $T_{\\rm eff} = 1400$ K, $\\log{(g)} = 4.5$ dex, and $f_{\\rm sed} = 2$.  (*fig:onset_ch4_teffmh*)\n",
       "\n",
       "</div><div id=\"qrcode\"><img src=https://api.qrserver.com/v1/create-qr-code/?size=100x100&data=\"https://arxiv.org/abs/2502.18559\"></div>"
      ],
      "text/plain": [
       "<IPython.core.display.Markdown object>"
      ]
     },
     "metadata": {},
     "output_type": "display_data"
    }
   ],
   "source": [
    "[display(Markdown(k[1])) for k in documents];"
   ]
  },
  {
   "cell_type": "markdown",
   "id": "873873a4",
   "metadata": {
    "papermill": {
     "duration": 0.005386,
     "end_time": "2025-02-27T04:13:41.769057",
     "exception": false,
     "start_time": "2025-02-27T04:13:41.763671",
     "status": "completed"
    },
    "tags": []
   },
   "source": [
    "# Create HTML index"
   ]
  },
  {
   "cell_type": "code",
   "execution_count": 10,
   "id": "cf665672",
   "metadata": {
    "execution": {
     "iopub.execute_input": "2025-02-27T04:13:41.781107Z",
     "iopub.status.busy": "2025-02-27T04:13:41.780751Z",
     "iopub.status.idle": "2025-02-27T04:13:41.789629Z",
     "shell.execute_reply": "2025-02-27T04:13:41.788960Z"
    },
    "papermill": {
     "duration": 0.015883,
     "end_time": "2025-02-27T04:13:41.790649",
     "exception": false,
     "start_time": "2025-02-27T04:13:41.774766",
     "status": "completed"
    },
    "tags": []
   },
   "outputs": [
    {
     "name": "stdout",
     "output_type": "stream",
     "text": [
      "343  publications files modified in the last 7 days.\n"
     ]
    }
   ],
   "source": [
    "from datetime import datetime, timedelta, timezone\n",
    "from glob import glob\n",
    "import os\n",
    "\n",
    "files = glob('_build/html/*.md')\n",
    "days = 7\n",
    "now = datetime.today()\n",
    "res = []\n",
    "for fk in files:\n",
    "    stat_result = os.stat(fk).st_ctime\n",
    "    modified = datetime.fromtimestamp(stat_result, tz=timezone.utc).replace(tzinfo=None)\n",
    "    delta = now.today() - modified\n",
    "    if delta <= timedelta(days=days):\n",
    "        res.append((delta.seconds, fk))\n",
    "res = [k[1] for k in reversed(sorted(res, key=lambda x:x[1]))]\n",
    "npub = len(res)\n",
    "print(len(res), f\" publications files modified in the last {days:d} days.\")\n",
    "# [ print('\\t', k) for k in res ];"
   ]
  },
  {
   "cell_type": "code",
   "execution_count": 11,
   "id": "015de740",
   "metadata": {
    "execution": {
     "iopub.execute_input": "2025-02-27T04:13:41.802611Z",
     "iopub.status.busy": "2025-02-27T04:13:41.802207Z",
     "iopub.status.idle": "2025-02-27T04:13:41.821048Z",
     "shell.execute_reply": "2025-02-27T04:13:41.820418Z"
    },
    "papermill": {
     "duration": 0.025938,
     "end_time": "2025-02-27T04:13:41.822071",
     "exception": false,
     "start_time": "2025-02-27T04:13:41.796133",
     "status": "completed"
    },
    "tags": []
   },
   "outputs": [
    {
     "name": "stdout",
     "output_type": "stream",
     "text": [
      "7  publications in the last 7 days.\n"
     ]
    }
   ],
   "source": [
    "import datetime\n",
    "from glob import glob\n",
    "\n",
    "def get_last_n_days(lst, days=1):\n",
    "    \"\"\" Get the documents from the last n days \"\"\"\n",
    "    sorted_lst = sorted(lst, key=lambda x: x[1], reverse=True)\n",
    "    for fname, date in sorted_lst:\n",
    "        if date >= str(datetime.date.today() - datetime.timedelta(days=days)):\n",
    "            yield fname\n",
    "\n",
    "def extract_appearance_dates(lst_file):\n",
    "    dates = []\n",
    "\n",
    "    def get_date(line):\n",
    "        return line\\\n",
    "            .split('Appeared on:')[-1]\\\n",
    "            .split('</mark>')[0].strip()\n",
    "\n",
    "    for fname in lst:\n",
    "        with open(fname, 'r') as f:\n",
    "            found_date = False\n",
    "            for line in f:\n",
    "                if not found_date:\n",
    "                    if \"Appeared on\" in line:\n",
    "                        found_date = True\n",
    "                        dates.append((fname, get_date(line)))\n",
    "                else:\n",
    "                    break\n",
    "    return dates\n",
    "\n",
    "from glob import glob\n",
    "lst = glob('_build/html/*md')\n",
    "days = 7\n",
    "dates = extract_appearance_dates(lst)\n",
    "res = list(get_last_n_days(dates, days))\n",
    "npub = len(res)\n",
    "print(len(res), f\" publications in the last {days:d} days.\")"
   ]
  },
  {
   "cell_type": "code",
   "execution_count": 12,
   "id": "52ca0208",
   "metadata": {
    "execution": {
     "iopub.execute_input": "2025-02-27T04:13:41.834212Z",
     "iopub.status.busy": "2025-02-27T04:13:41.833827Z",
     "iopub.status.idle": "2025-02-27T04:13:41.838597Z",
     "shell.execute_reply": "2025-02-27T04:13:41.838000Z"
    },
    "papermill": {
     "duration": 0.011879,
     "end_time": "2025-02-27T04:13:41.839623",
     "exception": false,
     "start_time": "2025-02-27T04:13:41.827744",
     "status": "completed"
    },
    "scrolled": false,
    "tags": []
   },
   "outputs": [],
   "source": [
    "def create_carousel(npub=4):\n",
    "    \"\"\" Generate the HTML code for a carousel with `npub` slides \"\"\"\n",
    "    carousel = [\"\"\"  <div class=\"carousel\" \"\"\",\n",
    "                \"\"\"       data-flickity='{ \"autoPlay\": 10000, \"adaptiveHeight\": true, \"resize\": true, \"wrapAround\": true, \"pauseAutoPlayOnHover\": true, \"groupCells\": 1 }' id=\"asyncTypeset\">\"\"\"\n",
    "                ]\n",
    "    \n",
    "    item_str = \"\"\"    <div class=\"carousel-cell\"> <div id=\"slide{k}\" class=\"md_view\">Content {k}</div> </div>\"\"\"\n",
    "    for k in range(1, npub + 1):\n",
    "        carousel.append(item_str.format(k=k))\n",
    "    carousel.append(\"  </div>\")\n",
    "    return '\\n'.join(carousel)\n",
    "\n",
    "def create_grid(npub=4):\n",
    "    \"\"\" Generate the HTML code for a flat grid with `npub` slides \"\"\"\n",
    "    grid = [\"\"\"  <div class=\"grid\"> \"\"\",\n",
    "                ]\n",
    "    \n",
    "    item_str = \"\"\"    <div class=\"grid-item\"> <div id=\"slide{k}\" class=\"md_view\">Content {k}</div> </div>\"\"\"\n",
    "    for k in range(1, npub + 1):\n",
    "        grid.append(item_str.format(k=k))\n",
    "    grid.append(\"  </div>\")\n",
    "    return '\\n'.join(grid)"
   ]
  },
  {
   "cell_type": "code",
   "execution_count": 13,
   "id": "a6eac5b6",
   "metadata": {
    "execution": {
     "iopub.execute_input": "2025-02-27T04:13:41.851746Z",
     "iopub.status.busy": "2025-02-27T04:13:41.851391Z",
     "iopub.status.idle": "2025-02-27T04:13:41.856465Z",
     "shell.execute_reply": "2025-02-27T04:13:41.855771Z"
    },
    "papermill": {
     "duration": 0.012162,
     "end_time": "2025-02-27T04:13:41.857454",
     "exception": false,
     "start_time": "2025-02-27T04:13:41.845292",
     "status": "completed"
    },
    "scrolled": false,
    "tags": []
   },
   "outputs": [],
   "source": [
    "carousel = create_carousel(npub)\n",
    "docs = ', '.join(['\"{0:s}\"'.format(k.split('/')[-1]) for k in res])\n",
    "slides = ', '.join([f'\"slide{k}\"' for k in range(1, npub + 1)])\n",
    "\n",
    "with open(\"daily_template.html\", \"r\") as tpl:\n",
    "    page = tpl.read()\n",
    "    page = page.replace(\"{%-- carousel:s --%}\", carousel)\\\n",
    "               .replace(\"{%-- suptitle:s --%}\",  \"7-day archives\" )\\\n",
    "               .replace(\"{%-- docs:s --%}\", docs)\\\n",
    "               .replace(\"{%-- slides:s --%}\", slides)\n",
    "    \n",
    "with open(\"_build/html/index_7days.html\", 'w') as fout:\n",
    "    fout.write(page)"
   ]
  },
  {
   "cell_type": "code",
   "execution_count": 14,
   "id": "adc1a1ec",
   "metadata": {
    "execution": {
     "iopub.execute_input": "2025-02-27T04:13:41.869732Z",
     "iopub.status.busy": "2025-02-27T04:13:41.869336Z",
     "iopub.status.idle": "2025-02-27T04:13:41.875800Z",
     "shell.execute_reply": "2025-02-27T04:13:41.875241Z"
    },
    "papermill": {
     "duration": 0.013666,
     "end_time": "2025-02-27T04:13:41.876784",
     "exception": false,
     "start_time": "2025-02-27T04:13:41.863118",
     "status": "completed"
    },
    "tags": []
   },
   "outputs": [
    {
     "name": "stdout",
     "output_type": "stream",
     "text": [
      "1  publications in the last day.\n"
     ]
    }
   ],
   "source": [
    "# redo for today\n",
    "days = 1\n",
    "res = list(get_last_n_days(dates, days))\n",
    "npub = len(res)\n",
    "print(len(res), f\" publications in the last day.\")\n",
    "\n",
    "carousel = create_carousel(npub)\n",
    "docs = ', '.join(['\"{0:s}\"'.format(k.split('/')[-1]) for k in res])\n",
    "slides = ', '.join([f'\"slide{k}\"' for k in range(1, npub + 1)])\n",
    "\n",
    "with open(\"daily_template.html\", \"r\") as tpl:\n",
    "    page = tpl.read()\n",
    "    page = page.replace(\"{%-- carousel:s --%}\", carousel)\\\n",
    "               .replace(\"{%-- suptitle:s --%}\",  \"Daily\" )\\\n",
    "               .replace(\"{%-- docs:s --%}\", docs)\\\n",
    "               .replace(\"{%-- slides:s --%}\", slides)\n",
    "    \n",
    "# print(carousel, docs, slides)\n",
    "# print(page)\n",
    "with open(\"_build/html/index_daily.html\", 'w') as fout:\n",
    "    fout.write(page)"
   ]
  },
  {
   "cell_type": "code",
   "execution_count": 15,
   "id": "00eece82",
   "metadata": {
    "execution": {
     "iopub.execute_input": "2025-02-27T04:13:41.889580Z",
     "iopub.status.busy": "2025-02-27T04:13:41.889175Z",
     "iopub.status.idle": "2025-02-27T04:13:41.895634Z",
     "shell.execute_reply": "2025-02-27T04:13:41.895043Z"
    },
    "papermill": {
     "duration": 0.013954,
     "end_time": "2025-02-27T04:13:41.896592",
     "exception": false,
     "start_time": "2025-02-27T04:13:41.882638",
     "status": "completed"
    },
    "scrolled": false,
    "tags": []
   },
   "outputs": [
    {
     "name": "stdout",
     "output_type": "stream",
     "text": [
      "6  6 publications selected.\n"
     ]
    }
   ],
   "source": [
    "# Create the flat grid of the last N papers (fixed number regardless of dates)\n",
    "from itertools import islice \n",
    "\n",
    "npub = 6\n",
    "res = [k[0] for k in (islice(reversed(sorted(dates, key=lambda x: x[1])), 6))]\n",
    "print(len(res), f\" {npub} publications selected.\")\n",
    "\n",
    "grid = create_grid(npub)\n",
    "docs = ', '.join(['\"{0:s}\"'.format(k.split('/')[-1]) for k in res])\n",
    "slides = ', '.join([f'\"slide{k}\"' for k in range(1, npub + 1)])\n",
    "\n",
    "with open(\"grid_template.html\", \"r\") as tpl:\n",
    "    page = tpl.read()\n",
    "    page = page.replace(\"{%-- grid-content:s --%}\", grid)\\\n",
    "               .replace(\"{%-- suptitle:s --%}\",  f\"Last {npub:,d} papers\" )\\\n",
    "               .replace(\"{%-- docs:s --%}\", docs)\\\n",
    "               .replace(\"{%-- slides:s --%}\", slides)\n",
    "    \n",
    "# print(grid, docs, slides)\n",
    "# print(page)\n",
    "with open(\"_build/html/index_npub_grid.html\", 'w') as fout:\n",
    "    fout.write(page)"
   ]
  }
 ],
 "metadata": {
  "kernelspec": {
   "display_name": "Python 3 (ipykernel)",
   "language": "python",
   "name": "python3"
  },
  "language_info": {
   "codemirror_mode": {
    "name": "ipython",
    "version": 3
   },
   "file_extension": ".py",
   "mimetype": "text/x-python",
   "name": "python",
   "nbconvert_exporter": "python",
   "pygments_lexer": "ipython3",
   "version": "3.9.21"
  },
  "papermill": {
   "default_parameters": {},
   "duration": 144.553203,
   "end_time": "2025-02-27T04:13:42.218686",
   "environment_variables": {},
   "exception": null,
   "input_path": "MPIA daily digest.ipynb",
   "output_path": "log.ipynb",
   "parameters": {},
   "start_time": "2025-02-27T04:11:17.665483",
   "version": "2.6.0"
  },
  "vscode": {
   "interpreter": {
    "hash": "aee8b7b246df8f9039afb4144a1f6fd8d2ca17a180786b69acc140d282b71a49"
   }
  },
  "widgets": {
   "application/vnd.jupyter.widget-state+json": {
    "state": {
     "0147cfe4848440c2bb9b1df3046dd45f": {
      "model_module": "@jupyter-widgets/base",
      "model_module_version": "2.0.0",
      "model_name": "LayoutModel",
      "state": {
       "_model_module": "@jupyter-widgets/base",
       "_model_module_version": "2.0.0",
       "_model_name": "LayoutModel",
       "_view_count": null,
       "_view_module": "@jupyter-widgets/base",
       "_view_module_version": "2.0.0",
       "_view_name": "LayoutView",
       "align_content": null,
       "align_items": null,
       "align_self": null,
       "border_bottom": null,
       "border_left": null,
       "border_right": null,
       "border_top": null,
       "bottom": null,
       "display": null,
       "flex": null,
       "flex_flow": null,
       "grid_area": null,
       "grid_auto_columns": null,
       "grid_auto_flow": null,
       "grid_auto_rows": null,
       "grid_column": null,
       "grid_gap": null,
       "grid_row": null,
       "grid_template_areas": null,
       "grid_template_columns": null,
       "grid_template_rows": null,
       "height": null,
       "justify_content": null,
       "justify_items": null,
       "left": null,
       "margin": null,
       "max_height": null,
       "max_width": null,
       "min_height": null,
       "min_width": null,
       "object_fit": null,
       "object_position": null,
       "order": null,
       "overflow": null,
       "padding": null,
       "right": null,
       "top": null,
       "visibility": null,
       "width": null
      }
     },
     "19d2b8e6ebf347fb9b4e5af9965a7260": {
      "model_module": "@jupyter-widgets/controls",
      "model_module_version": "2.0.0",
      "model_name": "FloatProgressModel",
      "state": {
       "_dom_classes": [],
       "_model_module": "@jupyter-widgets/controls",
       "_model_module_version": "2.0.0",
       "_model_name": "FloatProgressModel",
       "_view_count": null,
       "_view_module": "@jupyter-widgets/controls",
       "_view_module_version": "2.0.0",
       "_view_name": "ProgressView",
       "bar_style": "success",
       "description": "",
       "description_allow_html": false,
       "layout": "IPY_MODEL_69e71f597a09469faaa2d248ffc7a108",
       "max": 8.0,
       "min": 0.0,
       "orientation": "horizontal",
       "style": "IPY_MODEL_ea0681f02c2a4f0d8dfd29d377bc4fb1",
       "tabbable": null,
       "tooltip": null,
       "value": 8.0
      }
     },
     "423aaf367b284d8c957b285fd787d6a5": {
      "model_module": "@jupyter-widgets/controls",
      "model_module_version": "2.0.0",
      "model_name": "HBoxModel",
      "state": {
       "_dom_classes": [],
       "_model_module": "@jupyter-widgets/controls",
       "_model_module_version": "2.0.0",
       "_model_name": "HBoxModel",
       "_view_count": null,
       "_view_module": "@jupyter-widgets/controls",
       "_view_module_version": "2.0.0",
       "_view_name": "HBoxView",
       "box_style": "",
       "children": [
        "IPY_MODEL_9bd189be73fb44088ee011996c673584",
        "IPY_MODEL_19d2b8e6ebf347fb9b4e5af9965a7260",
        "IPY_MODEL_569223db915a43bba3a23440c5c7e5ee"
       ],
       "layout": "IPY_MODEL_0147cfe4848440c2bb9b1df3046dd45f",
       "tabbable": null,
       "tooltip": null
      }
     },
     "4d6c6fc1504a49189dbc108910288ba4": {
      "model_module": "@jupyter-widgets/base",
      "model_module_version": "2.0.0",
      "model_name": "LayoutModel",
      "state": {
       "_model_module": "@jupyter-widgets/base",
       "_model_module_version": "2.0.0",
       "_model_name": "LayoutModel",
       "_view_count": null,
       "_view_module": "@jupyter-widgets/base",
       "_view_module_version": "2.0.0",
       "_view_name": "LayoutView",
       "align_content": null,
       "align_items": null,
       "align_self": null,
       "border_bottom": null,
       "border_left": null,
       "border_right": null,
       "border_top": null,
       "bottom": null,
       "display": null,
       "flex": null,
       "flex_flow": null,
       "grid_area": null,
       "grid_auto_columns": null,
       "grid_auto_flow": null,
       "grid_auto_rows": null,
       "grid_column": null,
       "grid_gap": null,
       "grid_row": null,
       "grid_template_areas": null,
       "grid_template_columns": null,
       "grid_template_rows": null,
       "height": null,
       "justify_content": null,
       "justify_items": null,
       "left": null,
       "margin": null,
       "max_height": null,
       "max_width": null,
       "min_height": null,
       "min_width": null,
       "object_fit": null,
       "object_position": null,
       "order": null,
       "overflow": null,
       "padding": null,
       "right": null,
       "top": null,
       "visibility": null,
       "width": null
      }
     },
     "569223db915a43bba3a23440c5c7e5ee": {
      "model_module": "@jupyter-widgets/controls",
      "model_module_version": "2.0.0",
      "model_name": "HTMLModel",
      "state": {
       "_dom_classes": [],
       "_model_module": "@jupyter-widgets/controls",
       "_model_module_version": "2.0.0",
       "_model_name": "HTMLModel",
       "_view_count": null,
       "_view_module": "@jupyter-widgets/controls",
       "_view_module_version": "2.0.0",
       "_view_name": "HTMLView",
       "description": "",
       "description_allow_html": false,
       "layout": "IPY_MODEL_4d6c6fc1504a49189dbc108910288ba4",
       "placeholder": "​",
       "style": "IPY_MODEL_d8feb2c54c8144e79ae6ced9fce5721e",
       "tabbable": null,
       "tooltip": null,
       "value": " 8/8 [02:03&lt;00:00,  4.68s/it]"
      }
     },
     "69e71f597a09469faaa2d248ffc7a108": {
      "model_module": "@jupyter-widgets/base",
      "model_module_version": "2.0.0",
      "model_name": "LayoutModel",
      "state": {
       "_model_module": "@jupyter-widgets/base",
       "_model_module_version": "2.0.0",
       "_model_name": "LayoutModel",
       "_view_count": null,
       "_view_module": "@jupyter-widgets/base",
       "_view_module_version": "2.0.0",
       "_view_name": "LayoutView",
       "align_content": null,
       "align_items": null,
       "align_self": null,
       "border_bottom": null,
       "border_left": null,
       "border_right": null,
       "border_top": null,
       "bottom": null,
       "display": null,
       "flex": null,
       "flex_flow": null,
       "grid_area": null,
       "grid_auto_columns": null,
       "grid_auto_flow": null,
       "grid_auto_rows": null,
       "grid_column": null,
       "grid_gap": null,
       "grid_row": null,
       "grid_template_areas": null,
       "grid_template_columns": null,
       "grid_template_rows": null,
       "height": null,
       "justify_content": null,
       "justify_items": null,
       "left": null,
       "margin": null,
       "max_height": null,
       "max_width": null,
       "min_height": null,
       "min_width": null,
       "object_fit": null,
       "object_position": null,
       "order": null,
       "overflow": null,
       "padding": null,
       "right": null,
       "top": null,
       "visibility": null,
       "width": null
      }
     },
     "9bd189be73fb44088ee011996c673584": {
      "model_module": "@jupyter-widgets/controls",
      "model_module_version": "2.0.0",
      "model_name": "HTMLModel",
      "state": {
       "_dom_classes": [],
       "_model_module": "@jupyter-widgets/controls",
       "_model_module_version": "2.0.0",
       "_model_name": "HTMLModel",
       "_view_count": null,
       "_view_module": "@jupyter-widgets/controls",
       "_view_module_version": "2.0.0",
       "_view_name": "HTMLView",
       "description": "",
       "description_allow_html": false,
       "layout": "IPY_MODEL_af2816a4ad494ff6ab2f6cbd37ac651c",
       "placeholder": "​",
       "style": "IPY_MODEL_a977224f1cab4e1093cafa84e9426f46",
       "tabbable": null,
       "tooltip": null,
       "value": "100%"
      }
     },
     "a977224f1cab4e1093cafa84e9426f46": {
      "model_module": "@jupyter-widgets/controls",
      "model_module_version": "2.0.0",
      "model_name": "HTMLStyleModel",
      "state": {
       "_model_module": "@jupyter-widgets/controls",
       "_model_module_version": "2.0.0",
       "_model_name": "HTMLStyleModel",
       "_view_count": null,
       "_view_module": "@jupyter-widgets/base",
       "_view_module_version": "2.0.0",
       "_view_name": "StyleView",
       "background": null,
       "description_width": "",
       "font_size": null,
       "text_color": null
      }
     },
     "af2816a4ad494ff6ab2f6cbd37ac651c": {
      "model_module": "@jupyter-widgets/base",
      "model_module_version": "2.0.0",
      "model_name": "LayoutModel",
      "state": {
       "_model_module": "@jupyter-widgets/base",
       "_model_module_version": "2.0.0",
       "_model_name": "LayoutModel",
       "_view_count": null,
       "_view_module": "@jupyter-widgets/base",
       "_view_module_version": "2.0.0",
       "_view_name": "LayoutView",
       "align_content": null,
       "align_items": null,
       "align_self": null,
       "border_bottom": null,
       "border_left": null,
       "border_right": null,
       "border_top": null,
       "bottom": null,
       "display": null,
       "flex": null,
       "flex_flow": null,
       "grid_area": null,
       "grid_auto_columns": null,
       "grid_auto_flow": null,
       "grid_auto_rows": null,
       "grid_column": null,
       "grid_gap": null,
       "grid_row": null,
       "grid_template_areas": null,
       "grid_template_columns": null,
       "grid_template_rows": null,
       "height": null,
       "justify_content": null,
       "justify_items": null,
       "left": null,
       "margin": null,
       "max_height": null,
       "max_width": null,
       "min_height": null,
       "min_width": null,
       "object_fit": null,
       "object_position": null,
       "order": null,
       "overflow": null,
       "padding": null,
       "right": null,
       "top": null,
       "visibility": null,
       "width": null
      }
     },
     "d8feb2c54c8144e79ae6ced9fce5721e": {
      "model_module": "@jupyter-widgets/controls",
      "model_module_version": "2.0.0",
      "model_name": "HTMLStyleModel",
      "state": {
       "_model_module": "@jupyter-widgets/controls",
       "_model_module_version": "2.0.0",
       "_model_name": "HTMLStyleModel",
       "_view_count": null,
       "_view_module": "@jupyter-widgets/base",
       "_view_module_version": "2.0.0",
       "_view_name": "StyleView",
       "background": null,
       "description_width": "",
       "font_size": null,
       "text_color": null
      }
     },
     "ea0681f02c2a4f0d8dfd29d377bc4fb1": {
      "model_module": "@jupyter-widgets/controls",
      "model_module_version": "2.0.0",
      "model_name": "ProgressStyleModel",
      "state": {
       "_model_module": "@jupyter-widgets/controls",
       "_model_module_version": "2.0.0",
       "_model_name": "ProgressStyleModel",
       "_view_count": null,
       "_view_module": "@jupyter-widgets/base",
       "_view_module_version": "2.0.0",
       "_view_name": "StyleView",
       "bar_color": null,
       "description_width": ""
      }
     }
    },
    "version_major": 2,
    "version_minor": 0
   }
  }
 },
 "nbformat": 4,
 "nbformat_minor": 5
}