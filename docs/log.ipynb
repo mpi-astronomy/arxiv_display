{
 "cells": [
  {
   "cell_type": "markdown",
   "id": "92bcb855",
   "metadata": {
    "papermill": {
     "duration": 0.003527,
     "end_time": "2024-01-24T04:08:25.512219",
     "exception": false,
     "start_time": "2024-01-24T04:08:25.508692",
     "status": "completed"
    },
    "tags": []
   },
   "source": [
    "# MPIA Arxiv on Deck 2\n",
    "\n",
    "Contains the steps to produce the paper extractions."
   ]
  },
  {
   "cell_type": "code",
   "execution_count": 1,
   "id": "3a0d6e11",
   "metadata": {
    "execution": {
     "iopub.execute_input": "2024-01-24T04:08:25.520538Z",
     "iopub.status.busy": "2024-01-24T04:08:25.520054Z",
     "iopub.status.idle": "2024-01-24T04:08:26.062307Z",
     "shell.execute_reply": "2024-01-24T04:08:26.061606Z"
    },
    "papermill": {
     "duration": 0.547961,
     "end_time": "2024-01-24T04:08:26.064240",
     "exception": false,
     "start_time": "2024-01-24T04:08:25.516279",
     "status": "completed"
    },
    "tags": []
   },
   "outputs": [],
   "source": [
    "# Imports\n",
    "import os\n",
    "from IPython.display import Markdown, display\n",
    "from tqdm.notebook import tqdm\n",
    "import warnings\n",
    "from PIL import Image \n",
    "\n",
    "# requires arxiv_on_deck_2\n",
    "\n",
    "from arxiv_on_deck_2.arxiv2 import (get_new_papers, \n",
    "                                    get_paper_from_identifier,\n",
    "                                    retrieve_document_source, \n",
    "                                    get_markdown_badge)\n",
    "from arxiv_on_deck_2 import (latex,\n",
    "                             latex_bib,\n",
    "                             mpia,\n",
    "                             highlight_authors_in_list)\n",
    "\n",
    "# Sometimes images are really big\n",
    "Image.MAX_IMAGE_PIXELS = 1000000000 "
   ]
  },
  {
   "cell_type": "code",
   "execution_count": 2,
   "id": "22aa9d44",
   "metadata": {
    "execution": {
     "iopub.execute_input": "2024-01-24T04:08:26.071395Z",
     "iopub.status.busy": "2024-01-24T04:08:26.070886Z",
     "iopub.status.idle": "2024-01-24T04:08:26.075977Z",
     "shell.execute_reply": "2024-01-24T04:08:26.075374Z"
    },
    "papermill": {
     "duration": 0.010104,
     "end_time": "2024-01-24T04:08:26.077322",
     "exception": false,
     "start_time": "2024-01-24T04:08:26.067218",
     "status": "completed"
    },
    "tags": []
   },
   "outputs": [],
   "source": [
    "# Some useful definitions.\n",
    "\n",
    "class AffiliationWarning(UserWarning):\n",
    "    pass\n",
    "\n",
    "class AffiliationError(RuntimeError):\n",
    "    pass\n",
    "\n",
    "def validation(source: str):\n",
    "    \"\"\"Raises error paper during parsing of source file\n",
    "    \n",
    "    Allows checks before parsing TeX code.\n",
    "    \n",
    "    Raises AffiliationWarning\n",
    "    \"\"\"\n",
    "    check = mpia.affiliation_verifications(source, verbose=True)\n",
    "    if check is not True:\n",
    "        raise AffiliationError(\"mpia.affiliation_verifications: \" + check)\n",
    "\n",
    "        \n",
    "warnings.simplefilter('always', AffiliationWarning)\n",
    "\n",
    "\n",
    "def get_markdown_qrcode(paper_id: str):\n",
    "    \"\"\" Generate a qrcode to the arxiv page using qrserver.com\n",
    "    \n",
    "    :param paper: Arxiv paper\n",
    "    :returns: markdown text\n",
    "    \"\"\"\n",
    "    url = r\"https://api.qrserver.com/v1/create-qr-code/?size=100x100&data=\"\n",
    "    txt = f\"\"\"<img src={url}\"https://arxiv.org/abs/{paper_id}\">\"\"\"\n",
    "    txt = '<div id=\"qrcode\">' + txt + '</div>'\n",
    "    return txt"
   ]
  },
  {
   "cell_type": "markdown",
   "id": "14bd6310",
   "metadata": {
    "papermill": {
     "duration": 0.002663,
     "end_time": "2024-01-24T04:08:26.082869",
     "exception": false,
     "start_time": "2024-01-24T04:08:26.080206",
     "status": "completed"
    },
    "tags": []
   },
   "source": [
    "## get list of arxiv paper candidates\n",
    "\n",
    "We use the MPIA mitarbeiter list webpage from mpia.de to get author names\n",
    "We then get all new papers from Arxiv and match authors"
   ]
  },
  {
   "cell_type": "code",
   "execution_count": 3,
   "id": "2645e73a",
   "metadata": {
    "execution": {
     "iopub.execute_input": "2024-01-24T04:08:26.089865Z",
     "iopub.status.busy": "2024-01-24T04:08:26.089411Z",
     "iopub.status.idle": "2024-01-24T04:08:43.829903Z",
     "shell.execute_reply": "2024-01-24T04:08:43.829192Z"
    },
    "papermill": {
     "duration": 17.745626,
     "end_time": "2024-01-24T04:08:43.831246",
     "exception": false,
     "start_time": "2024-01-24T04:08:26.085620",
     "status": "completed"
    },
    "tags": []
   },
   "outputs": [
    {
     "name": "stdout",
     "output_type": "stream",
     "text": [
      "S. Zieba  ->  S. Zieba  |  ['S. Zieba']\n",
      "L. Kreidberg  ->  L. Kreidberg  |  ['L. Kreidberg']\n",
      "L. Boogaard  ->  L. Boogaard  |  ['L. Boogaard']\n",
      "R. v. Boekel  ->  R. v. Boekel  |  ['R. v. Boekel']\n",
      "J. Li  ->  J. Li  |  ['J. Li']\n",
      "T. Müller  ->  T. Müller  |  ['T. Müller']\n",
      "Arxiv has 67 new papers today\n",
      "          5 with possible author matches\n"
     ]
    }
   ],
   "source": [
    "# get list from MPIA website\n",
    "# it automatically filters identified non-scientists :func:`mpia.filter_non_scientists`\n",
    "mpia_authors = mpia.get_mpia_mitarbeiter_list()\n",
    "normed_mpia_authors = [k[1] for k in mpia_authors]   # initials + fullname\n",
    "new_papers = get_new_papers()\n",
    "# add manual references\n",
    "add_paper_refs = []\n",
    "new_papers.extend([get_paper_from_identifier(k) for k in add_paper_refs])\n",
    "\n",
    "candidates = []\n",
    "for paperk in new_papers:\n",
    "    # Check author list with their initials\n",
    "    normed_author_list = [mpia.get_initials(k) for k in paperk['authors']]\n",
    "    hl_authors = highlight_authors_in_list(normed_author_list, normed_mpia_authors, verbose=True)\n",
    "    matches = [(hl, orig) for hl, orig in zip(hl_authors, paperk['authors']) if 'mark' in hl]\n",
    "    paperk['authors'] = hl_authors\n",
    "    if matches:\n",
    "        # only select paper if an author matched our list\n",
    "        candidates.append(paperk)\n",
    "print(\"\"\"Arxiv has {0:,d} new papers today\"\"\".format(len(new_papers)))        \n",
    "print(\"\"\"          {0:,d} with possible author matches\"\"\".format(len(candidates)))"
   ]
  },
  {
   "cell_type": "markdown",
   "id": "3543b34a",
   "metadata": {
    "papermill": {
     "duration": 0.002966,
     "end_time": "2024-01-24T04:08:43.837496",
     "exception": false,
     "start_time": "2024-01-24T04:08:43.834530",
     "status": "completed"
    },
    "tags": []
   },
   "source": [
    "# Parse sources and generate relevant outputs\n",
    "\n",
    "From the candidates, we do the following steps:\n",
    "* get their tarball from ArXiv (and extract data)\n",
    "* find the main .tex file: find one with \\documentclass{...} (sometimes it's non trivial)\n",
    "* Check affiliations with :func:`validation`, which uses :func:`mpia.affiliation_verifications`\n",
    "* If passing the affiliations: we parse the .tex source\n",
    "   * inject sub-documents into the main (flatten the main document)\n",
    "   * parse structure, extract information (title, abstract, authors, figures...)\n",
    "   * handles `\\graphicspath` if provided\n",
    "* Generate the .md document."
   ]
  },
  {
   "cell_type": "code",
   "execution_count": 4,
   "id": "9576b79e",
   "metadata": {
    "execution": {
     "iopub.execute_input": "2024-01-24T04:08:43.844384Z",
     "iopub.status.busy": "2024-01-24T04:08:43.843969Z",
     "iopub.status.idle": "2024-01-24T04:09:13.997659Z",
     "shell.execute_reply": "2024-01-24T04:09:13.996917Z"
    },
    "papermill": {
     "duration": 30.163337,
     "end_time": "2024-01-24T04:09:14.003647",
     "exception": false,
     "start_time": "2024-01-24T04:08:43.840310",
     "status": "completed"
    },
    "scrolled": false,
    "tags": []
   },
   "outputs": [
    {
     "data": {
      "application/vnd.jupyter.widget-view+json": {
       "model_id": "074581de5c834fd49415c5531fb7f48b",
       "version_major": 2,
       "version_minor": 0
      },
      "text/plain": [
       "  0%|          | 0/5 [00:00<?, ?it/s]"
      ]
     },
     "metadata": {},
     "output_type": "display_data"
    },
    {
     "name": "stdout",
     "output_type": "stream",
     "text": [
      "Retrieving document from  https://arxiv.org/e-print/2401.12276\n",
      "extracting tarball to tmp_2401.12276..."
     ]
    },
    {
     "name": "stdout",
     "output_type": "stream",
     "text": [
      " done.\n"
     ]
    },
    {
     "name": "stderr",
     "output_type": "stream",
     "text": [
      "/opt/hostedtoolcache/Python/3.9.18/x64/lib/python3.9/site-packages/arxiv_on_deck_2/latex.py:120: LatexWarning: attempting recovering figure pics/omega_eccentricity_dist.png\n",
      "  warnings.warn(LatexWarning(f'attempting recovering figure {image}'))\n",
      "/opt/hostedtoolcache/Python/3.9.18/x64/lib/python3.9/site-packages/arxiv_on_deck_2/latex.py:692: LatexWarning: Could not find graphic \\includegraphics[width=1\\linewidth]{pics/omega_eccentricity_dist.png}\n",
      "  warnings.warn(LatexWarning(f\"Could not find graphic {k}\"))\n"
     ]
    },
    {
     "name": "stdout",
     "output_type": "stream",
     "text": [
      "Found 120 bibliographic references in tmp_2401.12276/main.bbl.\n",
      "Retrieving document from  https://arxiv.org/e-print/2401.12289\n",
      "extracting tarball to tmp_2401.12289... done.\n"
     ]
    },
    {
     "name": "stderr",
     "output_type": "stream",
     "text": [
      "/opt/hostedtoolcache/Python/3.9.18/x64/lib/python3.9/site-packages/arxiv_on_deck_2/latex.py:473: LatexWarning: Error parsing the document directly. Trying to recover.\n",
      "  warnings.warn(LatexWarning(f\"Error parsing the document directly. Trying to recover.\"))\n"
     ]
    },
    {
     "name": "stdout",
     "output_type": "stream",
     "text": [
      "✘ → 0:header\n",
      "  ↳ 5543:\\section{Introduction}\n"
     ]
    },
    {
     "name": "stdout",
     "output_type": "stream",
     "text": [
      "✔ → 5543:\\section{Introduction}\n",
      "  ↳ 12296:\\section{Data: A2744 viewed by MUSE and \\textit{JWST}/NIRCam}\n",
      "✔ → 12296:\\section{Data: A2744 viewed by MUSE and \\textit{JWST}/NIRCam}\n",
      "  ↳ 18622:\\section{SED fitting with \\cg}\n"
     ]
    },
    {
     "name": "stdout",
     "output_type": "stream",
     "text": [
      "✔ → 18622:\\section{SED fitting with \\cg}\n",
      "  ↳ 21014:\\section{Results}\n"
     ]
    },
    {
     "name": "stdout",
     "output_type": "stream",
     "text": [
      "✔ → 21014:\\section{Results}\n",
      "  ↳ 36662:\\section{Conclusions}\n",
      "✔ → 36662:\\section{Conclusions}\n",
      "  ↳ 42196:\\begin{appendix}\n",
      "✔ → 42196:\\begin{appendix}\n",
      "  ↳ 42213:\\section{\\cg Fitting Details}\n"
     ]
    },
    {
     "name": "stdout",
     "output_type": "stream",
     "text": [
      "✔ → 42213:\\section{\\cg Fitting Details}\n",
      "  ↳ 46010:end\n",
      "Retrieving document from  https://arxiv.org/e-print/2401.12404\n"
     ]
    },
    {
     "name": "stderr",
     "output_type": "stream",
     "text": [
      "/tmp/ipykernel_2116/3009462391.py:49: LatexWarning: 2401.12289 did not run properly\n",
      "list index out of range\n",
      "  warnings.warn(latex.LatexWarning(f\"{paper_id:s} did not run properly\\n\" +\n"
     ]
    },
    {
     "name": "stdout",
     "output_type": "stream",
     "text": [
      "extracting tarball to tmp_2401.12404... done.\n"
     ]
    },
    {
     "name": "stdout",
     "output_type": "stream",
     "text": [
      "Found 26 bibliographic references in tmp_2401.12404/betelgeuse.bbl.\n",
      "Retrieving document from  https://arxiv.org/e-print/2401.12429\n",
      "extracting tarball to tmp_2401.12429... done.\n",
      "Retrieving document from  https://arxiv.org/e-print/2401.12679\n",
      "extracting tarball to tmp_2401.12679..."
     ]
    },
    {
     "name": "stdout",
     "output_type": "stream",
     "text": [
      " done.\n"
     ]
    }
   ],
   "source": [
    "documents = []\n",
    "failed = []\n",
    "for paper in tqdm(candidates):\n",
    "    paper_id = paper['identifier'].lower().replace('arxiv:', '')\n",
    "    \n",
    "    folder = f'tmp_{paper_id}'\n",
    "\n",
    "    try:\n",
    "        if not os.path.isdir(folder):\n",
    "            folder = retrieve_document_source(f\"{paper_id}\", f'tmp_{paper_id}')\n",
    "        \n",
    "        try:\n",
    "            doc = latex.LatexDocument(folder, validation=validation)    \n",
    "        except AffiliationError as affilerror:\n",
    "            msg = f\"ArXiv:{paper_id:s} is not an MPIA paper... \" + str(affilerror)\n",
    "            failed.append((paper, \"affiliation error: \" + str(affilerror) ))\n",
    "            continue\n",
    "        \n",
    "        # Hack because sometimes author parsing does not work well\n",
    "        if (len(doc.authors) != len(paper['authors'])):\n",
    "            doc._authors = paper['authors']\n",
    "        else:\n",
    "            # highlight authors (FIXME: doc.highlight_authors)\n",
    "            # done on arxiv paper already\n",
    "            doc._authors = highlight_authors_in_list(\n",
    "                [mpia.get_initials(k) for k in doc.authors], \n",
    "                normed_mpia_authors, verbose=True)\n",
    "        if (doc.abstract) in (None, ''):\n",
    "            doc._abstract = paper['abstract']\n",
    "            \n",
    "        doc.comment = (get_markdown_badge(paper_id) + \n",
    "                       \"<mark>Appeared on: \" + paper['date'] + \"</mark> - \")\n",
    "        if paper['comments']:\n",
    "            doc.comment += \" _\" + paper['comments'] + \"_\"\n",
    "        \n",
    "        full_md = doc.generate_markdown_text()\n",
    "        \n",
    "        full_md += get_markdown_qrcode(paper_id)\n",
    "        \n",
    "        # replace citations\n",
    "        try:\n",
    "            bibdata = latex_bib.LatexBib.from_doc(doc)\n",
    "            full_md = latex_bib.replace_citations(full_md, bibdata)\n",
    "        except Exception as e:\n",
    "            print(e)\n",
    "        \n",
    "        documents.append((paper_id, full_md))\n",
    "    except Exception as e:\n",
    "        warnings.warn(latex.LatexWarning(f\"{paper_id:s} did not run properly\\n\" +\n",
    "                                         str(e)\n",
    "                                        ))\n",
    "        failed.append((paper, \"latex error \" + str(e)))"
   ]
  },
  {
   "cell_type": "markdown",
   "id": "2505a25c",
   "metadata": {
    "papermill": {
     "duration": 0.00374,
     "end_time": "2024-01-24T04:09:14.011209",
     "exception": false,
     "start_time": "2024-01-24T04:09:14.007469",
     "status": "completed"
    },
    "tags": []
   },
   "source": [
    "### Export the logs\n",
    "\n",
    "Throughout, we also keep track of the logs per paper. see `logs-{today date}.md` "
   ]
  },
  {
   "cell_type": "code",
   "execution_count": 5,
   "id": "d733828a",
   "metadata": {
    "execution": {
     "iopub.execute_input": "2024-01-24T04:09:14.019930Z",
     "iopub.status.busy": "2024-01-24T04:09:14.019370Z",
     "iopub.status.idle": "2024-01-24T04:09:14.035358Z",
     "shell.execute_reply": "2024-01-24T04:09:14.034778Z"
    },
    "papermill": {
     "duration": 0.021951,
     "end_time": "2024-01-24T04:09:14.036796",
     "exception": false,
     "start_time": "2024-01-24T04:09:14.014845",
     "status": "completed"
    },
    "scrolled": false,
    "tags": []
   },
   "outputs": [
    {
     "data": {
      "text/markdown": [
       "## Successful papers"
      ],
      "text/plain": [
       "<IPython.core.display.Markdown object>"
      ]
     },
     "metadata": {},
     "output_type": "display_data"
    },
    {
     "data": {
      "text/markdown": [
       "\n",
       "|||\n",
       "|---:|:---|\n",
       "| [![arXiv](https://img.shields.io/badge/arXiv-arXiv:2401.12276-b31b1b.svg)](https://arxiv.org/abs/arXiv:2401.12276) | **Characterization of K2-167 b and CALM, a new stellar activity mitigation  method**  |\n",
       "|| Z. L. d. Beurs, et al. -- incl., <mark>S. Zieba</mark>, <mark>L. Kreidberg</mark> |\n",
       "|*Appeared on*| *2024-01-24*|\n",
       "|*Comments*| *20 pages, 16 figures, accepted for publication in MNRAS*|\n",
       "|**Abstract**| We report precise radial velocity (RV) observations of HD 212657 (= K2-167), a star shown by K2 to host a transiting sub-Neptune-sized planet in a 10 day orbit. Using Transiting Exoplanet Survey Satellite (TESS) photometry, we refined the planet parameters, especially the orbital period. We collected 74 precise RVs with the HARPS-N spectrograph between August 2015 and October 2016. Although this planet was first found to transit in 2015 and validated in 2018, excess RV scatter originally limited mass measurements. Here, we measure a mass by taking advantage of reductions in scatter from updates to the HARPS-N Data Reduction System (2.3.5) and our new activity mitigation method called CCF Activity Linear Model (CALM), which uses activity-induced line shape changes in the spectra without requiring timing information. Using the CALM framework, we performed a joint fit with RVs and transits using EXOFASTv2 and find $M_p = 6.3_{-1.4}^{+1.4}$ $M_{\\oplus}$ and $R_p = 2.33^{+0.17}_{-0.15}$ $R_{\\oplus}$, which places K2-167 b at the upper edge of the radius valley. We also find hints of a secondary companion at a $\\sim$ 22 day period, but confirmation requires additional RVs. Although characterizing lower-mass planets like K2-167 b is often impeded by stellar variability, these systems especially help probe the formation physics (i.e. photoevaporation, core-powered mass loss) of the radius valley. In the future, CALM or similar techniques could be widely applied to FGK-type stars, help characterize a population of exoplanets surrounding the radius valley, and further our understanding of their formation. |"
      ],
      "text/plain": [
       "[arXiv:2401.12276] Characterization of K2-167 b and CALM, a new stellar activity mitigation  method\n",
       "\tZ. L. d. Beurs, et al. -- incl., <mark>S. Zieba</mark>, <mark>L. Kreidberg</mark>"
      ]
     },
     "metadata": {},
     "output_type": "display_data"
    },
    {
     "data": {
      "text/markdown": [
       "\n",
       "|||\n",
       "|---:|:---|\n",
       "| [![arXiv](https://img.shields.io/badge/arXiv-arXiv:2401.12404-b31b1b.svg)](https://arxiv.org/abs/arXiv:2401.12404) | **Images of Betelgeuse with VLTI/MATISSE across the Great Dimming**  |\n",
       "|| J. Drevon, et al. -- incl., <mark>R. v. Boekel</mark> |\n",
       "|*Appeared on*| *2024-01-24*|\n",
       "|*Comments*| **|\n",
       "|**Abstract**| From Nov. 2019 to May 2020, the red supergiant star Betelgeuse experienced an unprecedented drop of brightness in the visible domain called the great dimming event. Large atmospheric dust clouds and large photospheric convective features are suspected to be responsible for it. To better understand the dimming event, we used mid-infrared long-baseline spectro-interferometric measurements of Betelgeuse taken with the VLTI/MATISSE instrument before (Dec. 2018), during (Feb. 2020), and after (Dec. 2020) the GDE. We present data in the 3.98 to 4.15\\,$\\mu$m range to cover SiO spectral features molecules as well as adjacent continuum. We have employed geometrical models, image reconstruction, as well as radiative transfer models to monitor the spatial distribution of SiO over the stellar surface. We find a strongly in-homogeneous spatial distribution of SiO that appears to be looking very different between our observing epochs, indicative of a vigorous activity in the stellar atmosphere. The contrast of our images is small in the pseudo-continuum for all epochs, implying that our MATISSE observations support both cold spot and dust cloud model. |"
      ],
      "text/plain": [
       "[arXiv:2401.12404] Images of Betelgeuse with VLTI/MATISSE across the Great Dimming\n",
       "\tJ. Drevon, et al. -- incl., <mark>R. v. Boekel</mark>"
      ]
     },
     "metadata": {},
     "output_type": "display_data"
    },
    {
     "data": {
      "text/markdown": [
       "## Failed papers"
      ],
      "text/plain": [
       "<IPython.core.display.Markdown object>"
      ]
     },
     "metadata": {},
     "output_type": "display_data"
    },
    {
     "data": {
      "text/markdown": [
       "\n",
       "|||\n",
       "|---:|:---|\n",
       "| [![arXiv](https://img.shields.io/badge/arXiv-arXiv:2401.12429-b31b1b.svg)](https://arxiv.org/abs/arXiv:2401.12429) | **A new route to massive hot subdwarfs: common envelope ejection from  asymptotic giant branch stars**  |\n",
       "|| Z. Li, et al. -- incl., <mark>J. Li</mark> |\n",
       "|*Appeared on*| *2024-01-24*|\n",
       "|*Comments*| *9 pages, 5 figures, accepted for publication in ApJ*|\n",
       "|**Abstract**| The hot subdwarf O/B stars (sdO/Bs) are known as extreme horizontal branch stars, which is of great importance in stellar evolution theory. The sdO/Bs are generally thought to have a helium-burning core and a thin hydrogen envelope $(M_{\\rm env }<0.02M_\\odot)$. In the canonical binary evolution scenario, sdO/Bs are considered to be the stripped cores of red giants. However, such a scenario cannot explain the recently discovered sdO/B binary, SMSS J1920, where the strong Ca H$\\&$K lines in the spectrum are found. It suggests that this binary is likely originated from the recent ejection of common envelope (CE). In this {work}, we proposed a new formation channel of massive sdO/Bs, namely sdO/Bs produced from a CE ejection process with an asymptotic giant branch (AGB) star (hereafter AGB CE channel). We constructed the evolutionary model of sdO/Bs and successfully explained most of the important observed parameters of the sdO/B star in SMSS J1920, including the evolutionary age, sdO/B mass, effective temperature, surface gravity and surface helium abundance. The minimum sdO/B mass produced from the AGB CE channel is about $0.48M_\\odot$. The evolutionary tracks in $\\log T_{\\rm eff}-\\log g$ plane {may explain a fraction of the observational samples} with high-$\\log T_{\\rm eff}$ and low-$\\log g$. Considering wind mass-loss of sdO/Bs, the model could produce helium-rich hot subdwarfs with $\\log (n_{\\rm He}/n_{\\rm H})\\gtrsim-1$. |\n",
       "|<p style=\"color:green\"> **ERROR** </p>| <p style=\"color:green\">affiliation error: mpia.affiliation_verifications: 'Heidelberg' keyword not found.</p> |"
      ],
      "text/plain": [
       "<IPython.core.display.Markdown object>"
      ]
     },
     "metadata": {},
     "output_type": "display_data"
    },
    {
     "data": {
      "text/markdown": [
       "\n",
       "|||\n",
       "|---:|:---|\n",
       "| [![arXiv](https://img.shields.io/badge/arXiv-arXiv:2401.12679-b31b1b.svg)](https://arxiv.org/abs/arXiv:2401.12679) | **On the visible and thermal light curve of the large Kuiper belt object  (50000) Quaoar**  |\n",
       "|| C. Kiss, et al. -- incl., <mark>T. Müller</mark> |\n",
       "|*Appeared on*| *2024-01-24*|\n",
       "|*Comments*| *Accepted for publication in Astronomy and Astrohysics*|\n",
       "|**Abstract**| Recent stellar occultations allowed accurate instantaneous size and apparent shape determinations of the large Kuiper belt object (50000) Quaoar and detected two rings with spatially variable optical depth. In this paper we present new visible range light curve data of Quaoar from the Kepler/K2 mission, and thermal light curves at 100 and 160\\,$\\mu$m obtained with Herschel/PACS. K2 data provide a single-peaked period of 8.88 h, very close to the previously determined 8.84 h, and it favours an asymmetric double-peaked light curve with 17.76 h period. We clearly detected a thermal light curve with relative amplitudes of $\\sim$10% both at 100 and 160 $\\mu$m. A detailed thermophysical modeling of the system shows that the measurements can be best fitted with a triaxial ellipsoid shape, with a volume-equivalent diameter of 1090 km, and axis ratios of a/b = 1.19, and b/c = 1.16. This shape matches the published occultation shape, as well as visual and thermal light curve data. The radiometric size uncertainty remains relatively large ($\\pm$40 km) as the ring and satellite contributions to the system-integrated flux densities are unknown. In the less likely case of negligible ring/satellite contributions, Quaoar would have a size above 1100 km and a thermal inertia $\\leq$ 10 Jm$^{-2}$K$^{-1}$s$^{-1/2}$. A large and dark Weywot in combination with a possible ring contribution would lead to a size below 1080 km in combination with a thermal inertia $\\gtrsim$ 10 Jm$^{-2}$K$^{-1}$s$^{-1/2}$, notably higher than that of smaller Kuiper belt objects with similar albedo and colours. We find that Quaoar's density is in the range 1.67-1.77 g/cm$^3$ significantly lower than previous estimates. This density value fits very well to the relationship observed between the size and density of the largest Kuiper belt objects. |\n",
       "|<p style=\"color:green\"> **ERROR** </p>| <p style=\"color:green\">affiliation error: mpia.affiliation_verifications: 'Heidelberg' keyword not found.</p> |"
      ],
      "text/plain": [
       "<IPython.core.display.Markdown object>"
      ]
     },
     "metadata": {},
     "output_type": "display_data"
    },
    {
     "data": {
      "text/markdown": [
       "\n",
       "|||\n",
       "|---:|:---|\n",
       "| [![arXiv](https://img.shields.io/badge/arXiv-arXiv:2401.12289-b31b1b.svg)](https://arxiv.org/abs/arXiv:2401.12289) | **Galaxy main sequence and properties of low-mass Lyman-alpha Emitters  towards reionisation viewed by VLT/MUSE and JWST/NIRCam**  |\n",
       "|| I. Goovaerts, et al. -- incl., <mark>L. Boogaard</mark> |\n",
       "|*Appeared on*| *2024-01-24*|\n",
       "|*Comments*| *10 pages, 5 figures, accepted for publication in Astronomy and Astrophysics*|\n",
       "|**Abstract**| Faint, star-forming galaxies likely play a dominant role in cosmic reionisation. Strides have been made in recent years to characterise these populations at high redshifts ($z>3$). Now for the first time, with JWST photometry beyond 1$\\,\\mu m$ in the rest frame, we can derive accurate stellar masses and position these galaxies on the galaxy main sequence. We seek to assess the place of 96 individual Lyman-alpha emitters (LAEs) selected behind the A2744 lensing cluster with MUSE spectroscopy on the galaxy main sequence. We also compare derived stellar masses to Lyman-alpha luminosities and equivalent widths to better quantify the relationship between the Lyman-alpha emission and the host galaxy. These 96 LAEs lie in the redshift range $2.9<z<6.7$, and their range of masses extends down to $10^6\\,\\mathrm{M_{\\odot}}$ (over half with $\\mathrm{M_{\\star}}<10^8\\,\\mathrm{M_{\\odot}}$). We use the JWST/NIRCam and HST photometric catalogs from the UNCOVER project, giving us excellent wavelength coverage from $450\\,\\mathrm{nm}$ to $4.5\\,\\mu m$. We find a main sequence relation for these low mass LAEs of the form: $\\mathrm{log\\,SFR}=(0.88\\pm0.07 - 0.030\\pm0.027\\times t)\\,\\mathrm{log\\,M_{\\star}} - ( 6.31\\pm0.41 - 0.08\\pm0.37\\times t)$. This is in approximate agreement with best-fits of previous collated studies, however, with a steeper slope and a higher normalisation. This indicates that low-mass LAEs towards the epoch of reionisation lie above typical literature main sequence relations derived at lower redshift and higher masses. Additionally, comparing our results to UV-selected samples, we see that while low-mass LAEs lie above these typical main sequence relations, they are likely not singular in this respect at these masses and redshifts. While low-mass galaxies have been shown to play a significant role in cosmic reionisation, our results point to no special position for LAEs in this regard. |\n",
       "|<p style=\"color:red\"> **ERROR** </p>| <p style=\"color:red\">latex error list index out of range</p> |"
      ],
      "text/plain": [
       "<IPython.core.display.Markdown object>"
      ]
     },
     "metadata": {},
     "output_type": "display_data"
    }
   ],
   "source": [
    "import datetime\n",
    "today = str(datetime.date.today())\n",
    "logfile = f\"_build/html/logs/log-{today}.md\"\n",
    "\n",
    "\n",
    "with open(logfile, 'w') as logs:\n",
    "    # Success\n",
    "    logs.write(f'# Arxiv on Deck 2: Logs - {today}\\n\\n')\n",
    "    logs.write(\"\"\"* Arxiv had {0:,d} new papers\\n\"\"\".format(len(new_papers)))\n",
    "    logs.write(\"\"\"    * {0:,d} with possible author matches\\n\\n\"\"\".format(len(candidates)))\n",
    "    logs.write(\"## Sucessful papers\\n\\n\")\n",
    "    display(Markdown(\"## Successful papers\"))\n",
    "    success = [k[0] for k in documents]\n",
    "    for candid in candidates:\n",
    "        if candid['identifier'].split(':')[-1] in success:\n",
    "            display(candid)\n",
    "            logs.write(candid.generate_markdown_text() + '\\n\\n')\n",
    "\n",
    "    ## failed\n",
    "    logs.write(\"## Failed papers\\n\\n\")\n",
    "    display(Markdown(\"## Failed papers\"))\n",
    "    failed = sorted(failed, key=lambda x: x[1])\n",
    "    current_reason = \"\"\n",
    "    for paper, reason in failed:\n",
    "        if 'affiliation' in reason:\n",
    "            color = 'green'\n",
    "        else:\n",
    "            color = 'red'\n",
    "        data = Markdown(\n",
    "                paper.generate_markdown_text() + \n",
    "                f'\\n|<p style=\"color:{color:s}\"> **ERROR** </p>| <p style=\"color:{color:s}\">{reason:s}</p> |'\n",
    "               )\n",
    "        if reason != current_reason:\n",
    "            logs.write(f'### {reason:s} \\n\\n')\n",
    "            current_reason = reason\n",
    "        logs.write(data.data + '\\n\\n')\n",
    "        \n",
    "        # only display here the important errors (all in logs)\n",
    "        # if color in ('red',):\n",
    "        display(data)"
   ]
  },
  {
   "cell_type": "markdown",
   "id": "472d20ee",
   "metadata": {
    "papermill": {
     "duration": 0.004313,
     "end_time": "2024-01-24T04:09:14.045726",
     "exception": false,
     "start_time": "2024-01-24T04:09:14.041413",
     "status": "completed"
    },
    "tags": []
   },
   "source": [
    "## Export documents\n",
    "\n",
    "We now write the .md files and export relevant images"
   ]
  },
  {
   "cell_type": "code",
   "execution_count": 6,
   "id": "d426aed9",
   "metadata": {
    "execution": {
     "iopub.execute_input": "2024-01-24T04:09:14.055627Z",
     "iopub.status.busy": "2024-01-24T04:09:14.055216Z",
     "iopub.status.idle": "2024-01-24T04:09:14.061677Z",
     "shell.execute_reply": "2024-01-24T04:09:14.061051Z"
    },
    "papermill": {
     "duration": 0.012961,
     "end_time": "2024-01-24T04:09:14.063022",
     "exception": false,
     "start_time": "2024-01-24T04:09:14.050061",
     "status": "completed"
    },
    "tags": []
   },
   "outputs": [],
   "source": [
    "def export_markdown_summary(md: str, md_fname:str, directory: str):\n",
    "    \"\"\"Export MD document and associated relevant images\"\"\"\n",
    "    import os\n",
    "    import shutil\n",
    "    import re\n",
    "\n",
    "    if (os.path.exists(directory) and not os.path.isdir(directory)):\n",
    "        raise RuntimeError(f\"a non-directory file exists with name {directory:s}\")\n",
    "\n",
    "    if (not os.path.exists(directory)):\n",
    "        print(f\"creating directory {directory:s}\")\n",
    "        os.mkdir(directory)\n",
    "\n",
    "    fig_fnames = (re.compile(r'\\[Fig.*\\]\\((.*)\\)').findall(md) + \n",
    "                  re.compile(r'\\<img src=\"([^>\\s]*)\"[^>]*/>').findall(md))\n",
    "    for fname in fig_fnames:\n",
    "        if 'http' in fname:\n",
    "            # No need to copy online figures\n",
    "            continue\n",
    "        destdir = os.path.join(directory, os.path.dirname(fname))\n",
    "        destfname = os.path.join(destdir, os.path.basename(fname))\n",
    "        try:\n",
    "            os.makedirs(destdir)\n",
    "        except FileExistsError:\n",
    "            pass\n",
    "        shutil.copy(fname, destfname)\n",
    "    with open(os.path.join(directory, md_fname), 'w') as fout:\n",
    "        fout.write(md)\n",
    "    print(\"exported in \", os.path.join(directory, md_fname))\n",
    "    [print(\"    + \" + os.path.join(directory,fk)) for fk in fig_fnames]"
   ]
  },
  {
   "cell_type": "code",
   "execution_count": 7,
   "id": "014d04a4",
   "metadata": {
    "execution": {
     "iopub.execute_input": "2024-01-24T04:09:14.072836Z",
     "iopub.status.busy": "2024-01-24T04:09:14.072456Z",
     "iopub.status.idle": "2024-01-24T04:09:14.083884Z",
     "shell.execute_reply": "2024-01-24T04:09:14.083291Z"
    },
    "papermill": {
     "duration": 0.017776,
     "end_time": "2024-01-24T04:09:14.085195",
     "exception": false,
     "start_time": "2024-01-24T04:09:14.067419",
     "status": "completed"
    },
    "tags": []
   },
   "outputs": [
    {
     "name": "stdout",
     "output_type": "stream",
     "text": [
      "exported in  _build/html/2401.12276.md\n",
      "    + _build/html/tmp_2401.12276/./Figures_used_mnras/paper_plots_fig4_withletters.png\n",
      "    + _build/html/tmp_2401.12276/./Figures_updated_referee/Fig8_cropped.png\n",
      "    + _build/html/tmp_2401.12276/./Figures_updated_referee/Periodogram_shifted5CCFs__all_data23_11_30_12_00_09PM_cropped.png\n",
      "exported in  _build/html/2401.12404.md\n",
      "    + _build/html/tmp_2401.12404/./Images/2018-12_PAPER_mod.png\n",
      "    + _build/html/tmp_2401.12404/./Images/2020-02_PAPER_mod.png\n",
      "    + _build/html/tmp_2401.12404/./Images/2020-12_PAPER_mod.png\n",
      "    + _build/html/tmp_2401.12404/./Images/TOTAL_LM_FLUX.png\n",
      "    + _build/html/tmp_2401.12404/./Images/2018-12_PAPER_modified1.png\n",
      "    + _build/html/tmp_2401.12404/./Images/2020-02_PAPER_modified2.png\n",
      "    + _build/html/tmp_2401.12404/./Images/2020-12_PAPER_modified3.png\n"
     ]
    }
   ],
   "source": [
    "for paper_id, md in documents:\n",
    "    export_markdown_summary(md, f\"{paper_id:s}.md\", '_build/html/')"
   ]
  },
  {
   "cell_type": "markdown",
   "id": "f087a0a7",
   "metadata": {
    "papermill": {
     "duration": 0.004408,
     "end_time": "2024-01-24T04:09:14.094282",
     "exception": false,
     "start_time": "2024-01-24T04:09:14.089874",
     "status": "completed"
    },
    "tags": []
   },
   "source": [
    "## Display the papers\n",
    "\n",
    "Not necessary but allows for a quick check."
   ]
  },
  {
   "cell_type": "code",
   "execution_count": 8,
   "id": "fd25f625",
   "metadata": {
    "execution": {
     "iopub.execute_input": "2024-01-24T04:09:14.104354Z",
     "iopub.status.busy": "2024-01-24T04:09:14.103912Z",
     "iopub.status.idle": "2024-01-24T04:09:14.110080Z",
     "shell.execute_reply": "2024-01-24T04:09:14.109447Z"
    },
    "papermill": {
     "duration": 0.01279,
     "end_time": "2024-01-24T04:09:14.111493",
     "exception": false,
     "start_time": "2024-01-24T04:09:14.098703",
     "status": "completed"
    },
    "scrolled": false,
    "tags": []
   },
   "outputs": [
    {
     "data": {
      "text/markdown": [
       "<div class=\"macros\" style=\"visibility:hidden;\">\n",
       "$\\newcommand{\\ensuremath}{}$\n",
       "$\\newcommand{\\xspace}{}$\n",
       "$\\newcommand{\\object}[1]{\\texttt{#1}}$\n",
       "$\\newcommand{\\farcs}{{.}''}$\n",
       "$\\newcommand{\\farcm}{{.}'}$\n",
       "$\\newcommand{\\arcsec}{''}$\n",
       "$\\newcommand{\\arcmin}{'}$\n",
       "$\\newcommand{\\ion}[2]{#1#2}$\n",
       "$\\newcommand{\\textsc}[1]{\\textrm{#1}}$\n",
       "$\\newcommand{\\hl}[1]{\\textrm{#1}}$\n",
       "$\\newcommand{\\footnote}[1]{}$\n",
       "$\\newcommand{\\bjdtdb}{\\ensuremath{\\rm{BJD_{TDB}}}}$\n",
       "$\\newcommand{\\feh}{\\ensuremath{\\left[{\\rm Fe}/{\\rm H}\\right]}}$\n",
       "$\\newcommand{\\teff}{\\ensuremath{T_{\\rm eff}}}$\n",
       "$\\newcommand{\\teq}{\\ensuremath{T_{\\rm eq}}}$\n",
       "$\\newcommand{\\ecosw}{\\ensuremath{e\\cos{\\omega_*}}}$\n",
       "$\\newcommand{\\esinw}{\\ensuremath{e\\sin{\\omega_*}}}$\n",
       "$\\newcommand{\\msun}{\\ensuremath{ M_\\Sun}}$\n",
       "$\\newcommand{\\rsun}{\\ensuremath{ R_\\Sun}}$\n",
       "$\\newcommand{\\lsun}{\\ensuremath{ L_\\Sun}}$\n",
       "$\\newcommand{\\mj}{\\ensuremath{ M_{\\rm J}}}$\n",
       "$\\newcommand{\\mp}{\\ensuremath{M_{p}}}$\n",
       "$\\newcommand{\\rj}{\\ensuremath{ R_{\\rm J}}}$\n",
       "$\\newcommand{\\me}{\\ensuremath{ M_{\\oplus}}}$\n",
       "$\\newcommand{\\re}{\\ensuremath{ R_{\\oplus}}}$\n",
       "$\\newcommand{\\fave}{\\langle F \\rangle}$\n",
       "$\\newcommand{\\fluxcgs}{10^9 erg s^{-1} cm^{-2}}$\n",
       "$\\newcommand{\\thisstar}{K2-167}$\n",
       "$\\newcommand{\\thisplanet}{K2-167 b}$\n",
       "$\\newcommand{\\olddrsrmsRAW}{\\ensuremath{4.02}}$\n",
       "$\\newcommand{\\olddrssigmaRAW}{\\ensuremath{3.95}}$\n",
       "$\\newcommand{\\olddrssigmaAC}{\\ensuremath{2.75}}$\n",
       "$\\newcommand{\\olddrssigmaUS}{\\ensuremath{2.04}}$\n",
       "$\\newcommand{\\newdrsrmsRAW}{\\ensuremath{3.01}}$\n",
       "$\\newcommand{\\newdrssigmaRAW}{\\ensuremath{3.01}}$\n",
       "$\\newcommand{\\newdrssigmaAC}{\\ensuremath{2.78}}$\n",
       "$\\newcommand{\\newdrssigmaUS}{\\ensuremath{2.41}}$\n",
       "$\\newcommand{\\litperiod}{\\ensuremath{9.978543}}$\n",
       "$\\newcommand{\\bonomomass}{\\ensuremath{6.5_{-1.5}^{+1.6}}}$\n",
       "$\\newcommand{\\erikamass}{\\ensuremath{7.0^{+1.7}_{-1.7}}}$\n",
       "$\\newcommand{\\calmmass}{\\ensuremath{6.3_{-1.4}^{+1.4}}}$\n",
       "$\\newcommand{\\erikaradius}{\\ensuremath{2.33^{+0.17}_{-0.15}}}$\n",
       "$\\newcommand{\\bonomoK}{\\ensuremath{1.97_{-0.55}^{+1.1}}}$\n",
       "$\\newcommand{\\erikaK}{\\ensuremath{1.88^{+0.49}_{-0.48}}}$\n",
       "$\\newcommand{\\calmK}{\\ensuremath{1.94^{+0.44}_{-0.44}}}$\n",
       "$\\newcommand{\\GenevaObservatory}{Observatoire de Genève, Université de Genève, 51 chemin des Maillettes, 1290 Versoix, Switzerland}$\n",
       "$\\newcommand{\\kms}{\\ensuremath{\\rm km s^{-1}}}$\n",
       "$\\newcommand{\\cms}{\\ensuremath{\\rm cm s^{-1}}}$\n",
       "$\\newcommand{\\ms}{\\ensuremath{\\rm m s^{-1}}}$\n",
       "$\\newcommand{\\TESS}{\\emph{TESS}}$\n",
       "$\\newcommand{\\Ktwo}{\\emph{K2}}$\n",
       "$\\newcommand{\\calm}{\\emph{CALM}}$\n",
       "$\\newcommand$\n",
       "$\\newcommand$\n",
       "$\\newcommand$\n",
       "$\\newcommand$\n",
       "$\\newcommand$\n",
       "$\\newcommand$\n",
       "$\\newcommand{\\thefigure}{A.\\arabic{figure}}$\n",
       "$\\newcommand{\\thetable}{A.\\arabic{table}}$\n",
       "$\\newcommand{\\thebibliography}{\\DeclareRobustCommand{\\VAN}[3]{##3}\\VANthebibliography}$</div>\n",
       "\n",
       "\n",
       "\n",
       "<div id=\"title\">\n",
       "\n",
       "# Characterization of $\\thisplanet$ and $\\rredit{CALM,}$ a new stellar activity mitigation method\n",
       "\n",
       "</div>\n",
       "<div id=\"comments\">\n",
       "\n",
       "[![arXiv](https://img.shields.io/badge/arXiv-2401.12276-b31b1b.svg)](https://arxiv.org/abs/2401.12276)<mark>Appeared on: 2024-01-24</mark> -  _20 pages, 16 figures, accepted for publication in MNRAS_\n",
       "\n",
       "</div>\n",
       "<div id=\"authors\">\n",
       "\n",
       "Z. L. d. Beurs, et al. -- incl., <mark>S. Zieba</mark>, <mark>L. Kreidberg</mark>\n",
       "\n",
       "</div>\n",
       "<div id=\"abstract\">\n",
       "\n",
       "**Abstract:** We report precise radial velocity (RV) observations of HD 212657 (= $\\thisstar$ ), a star shown by $\\Ktwo$ to host a transiting sub-Neptune-sized planet in a 10 day orbit. Using Transiting Exoplanet Survey Satellite ( $\\TESS$ ) $\\redit{photometry}$ , we refined $\\redit{the}$ planet parameters, especially the orbital period. We collected 74 precise RVs with the HARPS-N spectrograph between August 2015 and October 2016. Although this planet was first found $\\redit{to transit}$ in 2015 and validated in 2018, excess RV scatter originally limited $\\redit{mass measurements. Here,}$ we $\\redit{measure}$ a mass $\\redit{by}$ taking advantage of reductions in scatter from updates to the HARPS-N Data Reduction System (2.3.5) and $\\redit{our}$ new activity mitigation method called CCF Activity Linear Model ( $\\calm$ ) $\\redit{, which}$ uses activity-induced line shape changes in the spectra without requiring timing information. Using the $\\calm$ framework, we performed a joint fit with RVs and transits using EXOFASTv2 and find $M_p = $ $\\calmmass$ $\\me$ and $R_p = $ $\\erikaradius$ $\\re$ , which places $\\thisplanet$ at the upper edge of the radius valley. We also find hints of a secondary companion at a $\\sim$ 22 day period, but $\\redit{confirmation requires additional RVs. Although characterizing lower-mass planets like \\thisplanet is often impeded by stellar variability, these systems}$ especially help probe the $\\redit{formation}$ physics (i.e. photoevaporation, core-powered mass loss) of the radius valley. In the future, $\\redit{\\calm}$ or similar techniques could be widely applied to FGK-type stars, $\\redit{help}$ characterize a population of exoplanets $\\redit{surrounding}$ the radius valley, and $\\redit{further our understanding}$ of their formation.\n",
       "\n",
       "</div>\n",
       "\n",
       "<div id=\"div_fig1\">\n",
       "\n",
       "<img src=\"tmp_2401.12276/./Figures_used_mnras/paper_plots_fig4_withletters.png\" alt=\"Fig9\" width=\"100%\"/>\n",
       "\n",
       "**Figure 9. -** Overfitting diagnostics for stellar activity RV analysis using the new DRS (2.3.5) \\bedit{HARPS-N $\\Delta$CCFs}. $\\re$dit{The three columns in this Figure show the $\\Delta$CCFs, the weight parameters corresponding to the $\\Delta$CCFs, and the $\\re$dit{phase-folded} RVs for three scenarios respectively. For each of the Figures in the third column \\rredit{(c, f, i)}, we provide a legend which includes the scatter of the radial velocities from the HARPS-N pipeline (raw rvs, std) in $\\ms$, the scatter of the activity corrected radial velocities (corr rvs, std) in $\\ms$, and the predicted semi-amplitude of the planet (planet preds, K) in $\\ms$. The first two rows corresponds to two different overfitting concerns and the last row demonstrates a case where both of these concerns are addressed.}  In the first row \\rredit{(a, b, c)}, we plot the $\\Delta$CCFs that have not been shifted to be centered at the median velocity. Without centering the $\\Delta$CCFs, the algorithm will be able to access translational shift \\bedit{(i.e. \\beditr{D}oppler shifts)} information and attribute potential planet signals to stellar activity signals\\beditrr{, significantly attenuating their amplitude}.\n",
       "    In the second row\\rredit{(d, e, f)}, we show a case where the $\\Delta$CCFs are shifted but the number of indexes is too large\\beditrr{. T}his results in overfitting as seen in the weights plot for the second row. In the third row\\rredit{(g, h, i)}, we have only fed in the $\\Delta$CCF $\\re$dit{indexes} that are considered significant (as described in Section $\\re$f{sign_indexes}) and use the \\bedit{properly} shifted $\\Delta$CCFs.  (*fig:overfitting diagnostics*)\n",
       "\n",
       "</div>\n",
       "<div id=\"div_fig2\">\n",
       "\n",
       "<img src=\"tmp_2401.12276/./Figures_updated_referee/Fig8_cropped.png\" alt=\"Fig11\" width=\"100%\"/>\n",
       "\n",
       "**Figure 11. -** Old DRS (3.7) Periodograms as a function of number of CCF $\\re$dit{indexes} used in the stellar activity correction model. HARPS-N Raw (a) and Corrected (b) RVs in Fourier space for 5 CCF $\\re$dit{indexes}. \\rredit{In each panel, the 1.0\\% and 10.0\\% false alarm probabilities (FAP) computed using the bootstrap method are indicated with green and black dotted lines, respectively.} The long-term activity signals in panel (a) decrease in magnitude after applying the activity correction in panel (b). The suspected rotation period and half the rotation period are indicated in grey. The planet period is indicated in yellow. As we increase the number of included CCF $\\re$dit{indexes} to N=15 (c) and N=25 (d), the peak corresponding to the star's rotation period ($P_{\\rm rot}$) decreases significantly in magnitude after applying the stellar activity corrections and a planet signal emerges at $\\litperiod$ days. (*fig:old_drs_correctedperiodogram*)\n",
       "\n",
       "</div>\n",
       "<div id=\"div_fig3\">\n",
       "\n",
       "<img src=\"tmp_2401.12276/./Figures_updated_referee/Periodogram_shifted5CCFs__all_data23_11_30_12_00_09PM_cropped.png\" alt=\"Fig12\" width=\"100%\"/>\n",
       "\n",
       "**Figure 12. -** New DRS (2.3.5) Periodograms for 5 CCF $\\re$dit{indexes}. HARPS-N Raw (a) and Corrected (b) RVs in Fourier space for 5 CCF $\\re$dit{indexes}. \\rredit{The 1.0\\% and 10.0\\% false alarm probabilities (FAP) computed using the bootstrap method are indicated with green and black dotted lines, respectively.} The long-term activity signals in panel (a) decrease in magnitude after applying the activity correction in panel (b). The suspected rotation period and half the rotation period are indicated in grey. The planet period is indicated in yellow. From (a) to (b), the peak corresponding to a planet signal at $\\litperiod$ days increases slightly in magnitude. (*fig:new_drs_correctedperiodogram*)\n",
       "\n",
       "</div><div id=\"qrcode\"><img src=https://api.qrserver.com/v1/create-qr-code/?size=100x100&data=\"https://arxiv.org/abs/2401.12276\"></div>"
      ],
      "text/plain": [
       "<IPython.core.display.Markdown object>"
      ]
     },
     "metadata": {},
     "output_type": "display_data"
    },
    {
     "data": {
      "text/markdown": [
       "<div class=\"macros\" style=\"visibility:hidden;\">\n",
       "$\\newcommand{\\ensuremath}{}$\n",
       "$\\newcommand{\\xspace}{}$\n",
       "$\\newcommand{\\object}[1]{\\texttt{#1}}$\n",
       "$\\newcommand{\\farcs}{{.}''}$\n",
       "$\\newcommand{\\farcm}{{.}'}$\n",
       "$\\newcommand{\\arcsec}{''}$\n",
       "$\\newcommand{\\arcmin}{'}$\n",
       "$\\newcommand{\\ion}[2]{#1#2}$\n",
       "$\\newcommand{\\textsc}[1]{\\textrm{#1}}$\n",
       "$\\newcommand{\\hl}[1]{\\textrm{#1}}$\n",
       "$\\newcommand{\\footnote}[1]{}$\n",
       "$\\newcommand$\n",
       "$\\newcommand$\n",
       "$\\newcommand$\n",
       "$\\newcommand$\n",
       "$\\newcommand$\n",
       "$\\newcommand{\\angstrom}{\\textup{Å}}$\n",
       "$\\newcommand{\\thebibliography}{\\DeclareRobustCommand{\\VAN}[3]{##3}\\VANthebibliography}$</div>\n",
       "\n",
       "\n",
       "\n",
       "<div id=\"title\">\n",
       "\n",
       "# Images of Betelgeuse with VLTI/MATISSE across the Great Dimming\n",
       "\n",
       "</div>\n",
       "<div id=\"comments\">\n",
       "\n",
       "[![arXiv](https://img.shields.io/badge/arXiv-2401.12404-b31b1b.svg)](https://arxiv.org/abs/2401.12404)<mark>Appeared on: 2024-01-24</mark> - \n",
       "\n",
       "</div>\n",
       "<div id=\"authors\">\n",
       "\n",
       "J. Drevon, et al. -- incl., <mark>R. v. Boekel</mark>\n",
       "\n",
       "</div>\n",
       "<div id=\"abstract\">\n",
       "\n",
       "**Abstract:** From Nov. 2019 to May 2020, the red supergiant star Betelgeuse experienced an unprecedented drop of brightness in the visible domain called the great dimming event. Large atmospheric dust clouds and large photospheric convective features are suspected to be responsible for it. To better understand the dimming event, we used mid-infrared long-baseline spectro-interferometric measurements of Betelgeuse taken with the VLTI/MATISSE instrument before (Dec. 2018), during (Feb. 2020), and after (Dec. 2020) the GDE. We present data in the 3.98 to 4.15 $\\mu$ m range to cover SiO spectral features molecules as well as adjacent continuum. We have employed geometrical models, image reconstruction, as well as radiative transfer models to monitor the spatial distribution of SiO over the stellar surface.  We find a strongly in-homogeneous spatial distribution of SiO that appears to be looking very different between our observing epochs, indicative of a vigorous activity in the stellar atmosphere. The contrast of our images is small in the pseudo-continuum for all epochs, implying that our MATISSE observations support both cold spot and dust cloud model.\n",
       "\n",
       "</div>\n",
       "\n",
       "<div id=\"div_fig1\">\n",
       "\n",
       "<img src=\"tmp_2401.12404/./Images/2018-12_PAPER_mod.png\" alt=\"Fig4.1\" width=\"33%\"/><img src=\"tmp_2401.12404/./Images/2020-02_PAPER_mod.png\" alt=\"Fig4.2\" width=\"33%\"/><img src=\"tmp_2401.12404/./Images/2020-12_PAPER_mod.png\" alt=\"Fig4.3\" width=\"33%\"/>\n",
       "\n",
       "**Figure 4. -** Each rows correspond to a given epoch precised in the top-left corner of the first panel. From left to right: 1) Reconstructed map in the pseudo-continuum, 2) in the SiO (2--0) absorption band (both scaled in Jy/pix with a squared pixel size of 0.78 mas), 3) deduced map of the optical depth for the SiO (2--0), 4) (u,v)-plane coverage of the used measurements. The dashed white circles on the maps enclose intensities higher than 70\\% of the maximum (42 mas in diameter). The small white disks at the bottom left corners of the reconstructed maps corresponds to an equivalent circular interferometric beam used for the convolution of all the reconstructed images ($\\approx$ 4 mas in diameter). The angular size has been estimated using the Feb. 2020 observations which has the poorest (u,v)-plane coverage among the three epochs. (*fig:IMAGES*)\n",
       "\n",
       "</div>\n",
       "<div id=\"div_fig2\">\n",
       "\n",
       "<img src=\"tmp_2401.12404/./Images/TOTAL_LM_FLUX.png\" alt=\"Fig1\" width=\"100%\"/>\n",
       "\n",
       "**Figure 1. -** Top panel: VLTI/MATISSE absolute spectra for the three epochs with the identification of the main features.  The filled area close to the data point corresponds to the error bars associated to the given quantities. The red area represent the pseudo-continuum range used in this work. Second panel: Relative flux with respect to the continuum for the three epochs. Third panel: visibility squared plotted versus wavelengths for the various epochs of the observations. Bottom panel: fitted uniform disk diameter versus wavelengths for the various epochs. (*fig:FIT*)\n",
       "\n",
       "</div>\n",
       "<div id=\"div_fig3\">\n",
       "\n",
       "<img src=\"tmp_2401.12404/./Images/2018-12_PAPER_modified1.png\" alt=\"Fig5.1\" width=\"33%\"/><img src=\"tmp_2401.12404/./Images/2020-02_PAPER_modified2.png\" alt=\"Fig5.2\" width=\"33%\"/><img src=\"tmp_2401.12404/./Images/2020-12_PAPER_modified3.png\" alt=\"Fig5.3\" width=\"33%\"/>\n",
       "\n",
       "**Figure 5. -** Each row correspond to a given epoch precised in the top-left corner of the first panel. From left to right: 1) model of the uniform disk convolved with the same interferometric beam as used in Figure \\ref{fig:IMAGES}, 2) reconstructed image using \\texttt{IRBIS} of a simulated interferometric data of an uniform disk with an angular diameter determined using the values fitted on the visibility squared showed in Figure \\ref{fig:FIT} for the SiO first overtone wavelength, 3) residuals between the model and the image reconstructed, 4) simulated (u,v)-plane coverage used for the image reconstruction of the simulated data. (*fig:IRBIS_test*)\n",
       "\n",
       "</div><div id=\"qrcode\"><img src=https://api.qrserver.com/v1/create-qr-code/?size=100x100&data=\"https://arxiv.org/abs/2401.12404\"></div>"
      ],
      "text/plain": [
       "<IPython.core.display.Markdown object>"
      ]
     },
     "metadata": {},
     "output_type": "display_data"
    }
   ],
   "source": [
    "[display(Markdown(k[1])) for k in documents];"
   ]
  },
  {
   "cell_type": "markdown",
   "id": "873873a4",
   "metadata": {
    "papermill": {
     "duration": 0.004805,
     "end_time": "2024-01-24T04:09:14.121437",
     "exception": false,
     "start_time": "2024-01-24T04:09:14.116632",
     "status": "completed"
    },
    "tags": []
   },
   "source": [
    "# Create HTML index"
   ]
  },
  {
   "cell_type": "code",
   "execution_count": 9,
   "id": "cf665672",
   "metadata": {
    "execution": {
     "iopub.execute_input": "2024-01-24T04:09:14.132418Z",
     "iopub.status.busy": "2024-01-24T04:09:14.131966Z",
     "iopub.status.idle": "2024-01-24T04:09:14.141938Z",
     "shell.execute_reply": "2024-01-24T04:09:14.141383Z"
    },
    "papermill": {
     "duration": 0.017055,
     "end_time": "2024-01-24T04:09:14.143286",
     "exception": false,
     "start_time": "2024-01-24T04:09:14.126231",
     "status": "completed"
    },
    "tags": []
   },
   "outputs": [
    {
     "name": "stdout",
     "output_type": "stream",
     "text": [
      "359  publications files modified in the last 7 days.\n"
     ]
    }
   ],
   "source": [
    "from datetime import datetime, timedelta, timezone\n",
    "from glob import glob\n",
    "import os\n",
    "\n",
    "files = glob('_build/html/*.md')\n",
    "days = 7\n",
    "now = datetime.today()\n",
    "res = []\n",
    "for fk in files:\n",
    "    stat_result = os.stat(fk).st_ctime\n",
    "    modified = datetime.fromtimestamp(stat_result, tz=timezone.utc).replace(tzinfo=None)\n",
    "    delta = now.today() - modified\n",
    "    if delta <= timedelta(days=days):\n",
    "        res.append((delta.seconds, fk))\n",
    "res = [k[1] for k in reversed(sorted(res, key=lambda x:x[1]))]\n",
    "npub = len(res)\n",
    "print(len(res), f\" publications files modified in the last {days:d} days.\")\n",
    "# [ print('\\t', k) for k in res ];"
   ]
  },
  {
   "cell_type": "code",
   "execution_count": 10,
   "id": "015de740",
   "metadata": {
    "execution": {
     "iopub.execute_input": "2024-01-24T04:09:14.154413Z",
     "iopub.status.busy": "2024-01-24T04:09:14.153922Z",
     "iopub.status.idle": "2024-01-24T04:09:14.174172Z",
     "shell.execute_reply": "2024-01-24T04:09:14.173642Z"
    },
    "papermill": {
     "duration": 0.027102,
     "end_time": "2024-01-24T04:09:14.175442",
     "exception": false,
     "start_time": "2024-01-24T04:09:14.148340",
     "status": "completed"
    },
    "tags": []
   },
   "outputs": [
    {
     "name": "stdout",
     "output_type": "stream",
     "text": [
      "5  publications in the last 7 days.\n"
     ]
    }
   ],
   "source": [
    "import datetime\n",
    "from glob import glob\n",
    "\n",
    "def get_last_n_days(lst, days=1):\n",
    "    \"\"\" Get the documents from the last n days \"\"\"\n",
    "    sorted_lst = sorted(lst, key=lambda x: x[1], reverse=True)\n",
    "    for fname, date in sorted_lst:\n",
    "        if date >= str(datetime.date.today() - datetime.timedelta(days=days)):\n",
    "            yield fname\n",
    "\n",
    "def extract_appearance_dates(lst_file):\n",
    "    dates = []\n",
    "\n",
    "    def get_date(line):\n",
    "        return line\\\n",
    "            .split('Appeared on:')[-1]\\\n",
    "            .split('</mark>')[0].strip()\n",
    "\n",
    "    for fname in lst:\n",
    "        with open(fname, 'r') as f:\n",
    "            found_date = False\n",
    "            for line in f:\n",
    "                if not found_date:\n",
    "                    if \"Appeared on\" in line:\n",
    "                        found_date = True\n",
    "                        dates.append((fname, get_date(line)))\n",
    "                else:\n",
    "                    break\n",
    "    return dates\n",
    "\n",
    "from glob import glob\n",
    "lst = glob('_build/html/*md')\n",
    "days = 7\n",
    "dates = extract_appearance_dates(lst)\n",
    "res = list(get_last_n_days(dates, days))\n",
    "npub = len(res)\n",
    "print(len(res), f\" publications in the last {days:d} days.\")"
   ]
  },
  {
   "cell_type": "code",
   "execution_count": 11,
   "id": "52ca0208",
   "metadata": {
    "execution": {
     "iopub.execute_input": "2024-01-24T04:09:14.186675Z",
     "iopub.status.busy": "2024-01-24T04:09:14.186409Z",
     "iopub.status.idle": "2024-01-24T04:09:14.191686Z",
     "shell.execute_reply": "2024-01-24T04:09:14.191022Z"
    },
    "papermill": {
     "duration": 0.012513,
     "end_time": "2024-01-24T04:09:14.193050",
     "exception": false,
     "start_time": "2024-01-24T04:09:14.180537",
     "status": "completed"
    },
    "scrolled": false,
    "tags": []
   },
   "outputs": [],
   "source": [
    "def create_carousel(npub=4):\n",
    "    \"\"\" Generate the HTML code for a carousel with `npub` slides \"\"\"\n",
    "    carousel = [\"\"\"  <div class=\"carousel\" \"\"\",\n",
    "                \"\"\"       data-flickity='{ \"autoPlay\": 10000, \"adaptiveHeight\": true, \"resize\": true, \"wrapAround\": true, \"pauseAutoPlayOnHover\": true, \"groupCells\": 1 }' id=\"asyncTypeset\">\"\"\"\n",
    "                ]\n",
    "    \n",
    "    item_str = \"\"\"    <div class=\"carousel-cell\"> <div id=\"slide{k}\" class=\"md_view\">Content {k}</div> </div>\"\"\"\n",
    "    for k in range(1, npub + 1):\n",
    "        carousel.append(item_str.format(k=k))\n",
    "    carousel.append(\"  </div>\")\n",
    "    return '\\n'.join(carousel)\n",
    "\n",
    "def create_grid(npub=4):\n",
    "    \"\"\" Generate the HTML code for a flat grid with `npub` slides \"\"\"\n",
    "    grid = [\"\"\"  <div class=\"grid\"> \"\"\",\n",
    "                ]\n",
    "    \n",
    "    item_str = \"\"\"    <div class=\"grid-item\"> <div id=\"slide{k}\" class=\"md_view\">Content {k}</div> </div>\"\"\"\n",
    "    for k in range(1, npub + 1):\n",
    "        grid.append(item_str.format(k=k))\n",
    "    grid.append(\"  </div>\")\n",
    "    return '\\n'.join(grid)"
   ]
  },
  {
   "cell_type": "code",
   "execution_count": 12,
   "id": "a6eac5b6",
   "metadata": {
    "execution": {
     "iopub.execute_input": "2024-01-24T04:09:14.204788Z",
     "iopub.status.busy": "2024-01-24T04:09:14.204400Z",
     "iopub.status.idle": "2024-01-24T04:09:14.209656Z",
     "shell.execute_reply": "2024-01-24T04:09:14.209125Z"
    },
    "papermill": {
     "duration": 0.012495,
     "end_time": "2024-01-24T04:09:14.210957",
     "exception": false,
     "start_time": "2024-01-24T04:09:14.198462",
     "status": "completed"
    },
    "scrolled": false,
    "tags": []
   },
   "outputs": [],
   "source": [
    "carousel = create_carousel(npub)\n",
    "docs = ', '.join(['\"{0:s}\"'.format(k.split('/')[-1]) for k in res])\n",
    "slides = ', '.join([f'\"slide{k}\"' for k in range(1, npub + 1)])\n",
    "\n",
    "with open(\"daily_template.html\", \"r\") as tpl:\n",
    "    page = tpl.read()\n",
    "    page = page.replace(\"{%-- carousel:s --%}\", carousel)\\\n",
    "               .replace(\"{%-- suptitle:s --%}\",  \"7-day archives\" )\\\n",
    "               .replace(\"{%-- docs:s --%}\", docs)\\\n",
    "               .replace(\"{%-- slides:s --%}\", slides)\n",
    "    \n",
    "with open(\"_build/html/index_7days.html\", 'w') as fout:\n",
    "    fout.write(page)"
   ]
  },
  {
   "cell_type": "code",
   "execution_count": 13,
   "id": "adc1a1ec",
   "metadata": {
    "execution": {
     "iopub.execute_input": "2024-01-24T04:09:14.222415Z",
     "iopub.status.busy": "2024-01-24T04:09:14.221972Z",
     "iopub.status.idle": "2024-01-24T04:09:14.228953Z",
     "shell.execute_reply": "2024-01-24T04:09:14.228317Z"
    },
    "papermill": {
     "duration": 0.014141,
     "end_time": "2024-01-24T04:09:14.230307",
     "exception": false,
     "start_time": "2024-01-24T04:09:14.216166",
     "status": "completed"
    },
    "tags": []
   },
   "outputs": [
    {
     "name": "stdout",
     "output_type": "stream",
     "text": [
      "3  publications in the last day.\n"
     ]
    }
   ],
   "source": [
    "# redo for today\n",
    "days = 1\n",
    "res = list(get_last_n_days(dates, days))\n",
    "npub = len(res)\n",
    "print(len(res), f\" publications in the last day.\")\n",
    "\n",
    "carousel = create_carousel(npub)\n",
    "docs = ', '.join(['\"{0:s}\"'.format(k.split('/')[-1]) for k in res])\n",
    "slides = ', '.join([f'\"slide{k}\"' for k in range(1, npub + 1)])\n",
    "\n",
    "with open(\"daily_template.html\", \"r\") as tpl:\n",
    "    page = tpl.read()\n",
    "    page = page.replace(\"{%-- carousel:s --%}\", carousel)\\\n",
    "               .replace(\"{%-- suptitle:s --%}\",  \"Daily\" )\\\n",
    "               .replace(\"{%-- docs:s --%}\", docs)\\\n",
    "               .replace(\"{%-- slides:s --%}\", slides)\n",
    "    \n",
    "# print(carousel, docs, slides)\n",
    "# print(page)\n",
    "with open(\"_build/html/index_daily.html\", 'w') as fout:\n",
    "    fout.write(page)"
   ]
  },
  {
   "cell_type": "code",
   "execution_count": 14,
   "id": "00eece82",
   "metadata": {
    "execution": {
     "iopub.execute_input": "2024-01-24T04:09:14.242582Z",
     "iopub.status.busy": "2024-01-24T04:09:14.242096Z",
     "iopub.status.idle": "2024-01-24T04:09:14.249163Z",
     "shell.execute_reply": "2024-01-24T04:09:14.248513Z"
    },
    "papermill": {
     "duration": 0.014608,
     "end_time": "2024-01-24T04:09:14.250511",
     "exception": false,
     "start_time": "2024-01-24T04:09:14.235903",
     "status": "completed"
    },
    "scrolled": false,
    "tags": []
   },
   "outputs": [
    {
     "name": "stdout",
     "output_type": "stream",
     "text": [
      "6  6 publications selected.\n"
     ]
    }
   ],
   "source": [
    "# Create the flat grid of the last N papers (fixed number regardless of dates)\n",
    "from itertools import islice \n",
    "\n",
    "npub = 6\n",
    "res = [k[0] for k in (islice(reversed(sorted(dates, key=lambda x: x[1])), 6))]\n",
    "print(len(res), f\" {npub} publications selected.\")\n",
    "\n",
    "grid = create_grid(npub)\n",
    "docs = ', '.join(['\"{0:s}\"'.format(k.split('/')[-1]) for k in res])\n",
    "slides = ', '.join([f'\"slide{k}\"' for k in range(1, npub + 1)])\n",
    "\n",
    "with open(\"grid_template.html\", \"r\") as tpl:\n",
    "    page = tpl.read()\n",
    "    page = page.replace(\"{%-- grid-content:s --%}\", grid)\\\n",
    "               .replace(\"{%-- suptitle:s --%}\",  f\"Last {npub:,d} papers\" )\\\n",
    "               .replace(\"{%-- docs:s --%}\", docs)\\\n",
    "               .replace(\"{%-- slides:s --%}\", slides)\n",
    "    \n",
    "# print(grid, docs, slides)\n",
    "# print(page)\n",
    "with open(\"_build/html/index_npub_grid.html\", 'w') as fout:\n",
    "    fout.write(page)"
   ]
  }
 ],
 "metadata": {
  "kernelspec": {
   "display_name": "Python 3 (ipykernel)",
   "language": "python",
   "name": "python3"
  },
  "language_info": {
   "codemirror_mode": {
    "name": "ipython",
    "version": 3
   },
   "file_extension": ".py",
   "mimetype": "text/x-python",
   "name": "python",
   "nbconvert_exporter": "python",
   "pygments_lexer": "ipython3",
   "version": "3.9.18"
  },
  "papermill": {
   "default_parameters": {},
   "duration": 49.846251,
   "end_time": "2024-01-24T04:09:14.472638",
   "environment_variables": {},
   "exception": null,
   "input_path": "MPIA daily digest.ipynb",
   "output_path": "log.ipynb",
   "parameters": {},
   "start_time": "2024-01-24T04:08:24.626387",
   "version": "2.5.0"
  },
  "vscode": {
   "interpreter": {
    "hash": "aee8b7b246df8f9039afb4144a1f6fd8d2ca17a180786b69acc140d282b71a49"
   }
  },
  "widgets": {
   "application/vnd.jupyter.widget-state+json": {
    "state": {
     "074581de5c834fd49415c5531fb7f48b": {
      "model_module": "@jupyter-widgets/controls",
      "model_module_version": "2.0.0",
      "model_name": "HBoxModel",
      "state": {
       "_dom_classes": [],
       "_model_module": "@jupyter-widgets/controls",
       "_model_module_version": "2.0.0",
       "_model_name": "HBoxModel",
       "_view_count": null,
       "_view_module": "@jupyter-widgets/controls",
       "_view_module_version": "2.0.0",
       "_view_name": "HBoxView",
       "box_style": "",
       "children": [
        "IPY_MODEL_6271f9367a3c46779353713698ca9c0a",
        "IPY_MODEL_eac2feb75ca3424e8d70249f1e0256ab",
        "IPY_MODEL_72f82332065a49df88a099084b5ff968"
       ],
       "layout": "IPY_MODEL_12091831afa14b6993decedcb3c05539",
       "tabbable": null,
       "tooltip": null
      }
     },
     "12091831afa14b6993decedcb3c05539": {
      "model_module": "@jupyter-widgets/base",
      "model_module_version": "2.0.0",
      "model_name": "LayoutModel",
      "state": {
       "_model_module": "@jupyter-widgets/base",
       "_model_module_version": "2.0.0",
       "_model_name": "LayoutModel",
       "_view_count": null,
       "_view_module": "@jupyter-widgets/base",
       "_view_module_version": "2.0.0",
       "_view_name": "LayoutView",
       "align_content": null,
       "align_items": null,
       "align_self": null,
       "border_bottom": null,
       "border_left": null,
       "border_right": null,
       "border_top": null,
       "bottom": null,
       "display": null,
       "flex": null,
       "flex_flow": null,
       "grid_area": null,
       "grid_auto_columns": null,
       "grid_auto_flow": null,
       "grid_auto_rows": null,
       "grid_column": null,
       "grid_gap": null,
       "grid_row": null,
       "grid_template_areas": null,
       "grid_template_columns": null,
       "grid_template_rows": null,
       "height": null,
       "justify_content": null,
       "justify_items": null,
       "left": null,
       "margin": null,
       "max_height": null,
       "max_width": null,
       "min_height": null,
       "min_width": null,
       "object_fit": null,
       "object_position": null,
       "order": null,
       "overflow": null,
       "padding": null,
       "right": null,
       "top": null,
       "visibility": null,
       "width": null
      }
     },
     "2a27633ab8394b909f098cb70b3ae1d0": {
      "model_module": "@jupyter-widgets/base",
      "model_module_version": "2.0.0",
      "model_name": "LayoutModel",
      "state": {
       "_model_module": "@jupyter-widgets/base",
       "_model_module_version": "2.0.0",
       "_model_name": "LayoutModel",
       "_view_count": null,
       "_view_module": "@jupyter-widgets/base",
       "_view_module_version": "2.0.0",
       "_view_name": "LayoutView",
       "align_content": null,
       "align_items": null,
       "align_self": null,
       "border_bottom": null,
       "border_left": null,
       "border_right": null,
       "border_top": null,
       "bottom": null,
       "display": null,
       "flex": null,
       "flex_flow": null,
       "grid_area": null,
       "grid_auto_columns": null,
       "grid_auto_flow": null,
       "grid_auto_rows": null,
       "grid_column": null,
       "grid_gap": null,
       "grid_row": null,
       "grid_template_areas": null,
       "grid_template_columns": null,
       "grid_template_rows": null,
       "height": null,
       "justify_content": null,
       "justify_items": null,
       "left": null,
       "margin": null,
       "max_height": null,
       "max_width": null,
       "min_height": null,
       "min_width": null,
       "object_fit": null,
       "object_position": null,
       "order": null,
       "overflow": null,
       "padding": null,
       "right": null,
       "top": null,
       "visibility": null,
       "width": null
      }
     },
     "59f79b2483a34d528d7fa02c9ce3dd1f": {
      "model_module": "@jupyter-widgets/controls",
      "model_module_version": "2.0.0",
      "model_name": "ProgressStyleModel",
      "state": {
       "_model_module": "@jupyter-widgets/controls",
       "_model_module_version": "2.0.0",
       "_model_name": "ProgressStyleModel",
       "_view_count": null,
       "_view_module": "@jupyter-widgets/base",
       "_view_module_version": "2.0.0",
       "_view_name": "StyleView",
       "bar_color": null,
       "description_width": ""
      }
     },
     "6271f9367a3c46779353713698ca9c0a": {
      "model_module": "@jupyter-widgets/controls",
      "model_module_version": "2.0.0",
      "model_name": "HTMLModel",
      "state": {
       "_dom_classes": [],
       "_model_module": "@jupyter-widgets/controls",
       "_model_module_version": "2.0.0",
       "_model_name": "HTMLModel",
       "_view_count": null,
       "_view_module": "@jupyter-widgets/controls",
       "_view_module_version": "2.0.0",
       "_view_name": "HTMLView",
       "description": "",
       "description_allow_html": false,
       "layout": "IPY_MODEL_880e293fa32b446f95de31bd9dcd582d",
       "placeholder": "​",
       "style": "IPY_MODEL_9c5c2b97a7d044f4954a81c1638910db",
       "tabbable": null,
       "tooltip": null,
       "value": "100%"
      }
     },
     "72f82332065a49df88a099084b5ff968": {
      "model_module": "@jupyter-widgets/controls",
      "model_module_version": "2.0.0",
      "model_name": "HTMLModel",
      "state": {
       "_dom_classes": [],
       "_model_module": "@jupyter-widgets/controls",
       "_model_module_version": "2.0.0",
       "_model_name": "HTMLModel",
       "_view_count": null,
       "_view_module": "@jupyter-widgets/controls",
       "_view_module_version": "2.0.0",
       "_view_name": "HTMLView",
       "description": "",
       "description_allow_html": false,
       "layout": "IPY_MODEL_eebf36d41db647f2950dbb1a36f36488",
       "placeholder": "​",
       "style": "IPY_MODEL_c9442148c0ac4d1e97aa8471aea5b219",
       "tabbable": null,
       "tooltip": null,
       "value": " 5/5 [00:30&lt;00:00,  3.37s/it]"
      }
     },
     "880e293fa32b446f95de31bd9dcd582d": {
      "model_module": "@jupyter-widgets/base",
      "model_module_version": "2.0.0",
      "model_name": "LayoutModel",
      "state": {
       "_model_module": "@jupyter-widgets/base",
       "_model_module_version": "2.0.0",
       "_model_name": "LayoutModel",
       "_view_count": null,
       "_view_module": "@jupyter-widgets/base",
       "_view_module_version": "2.0.0",
       "_view_name": "LayoutView",
       "align_content": null,
       "align_items": null,
       "align_self": null,
       "border_bottom": null,
       "border_left": null,
       "border_right": null,
       "border_top": null,
       "bottom": null,
       "display": null,
       "flex": null,
       "flex_flow": null,
       "grid_area": null,
       "grid_auto_columns": null,
       "grid_auto_flow": null,
       "grid_auto_rows": null,
       "grid_column": null,
       "grid_gap": null,
       "grid_row": null,
       "grid_template_areas": null,
       "grid_template_columns": null,
       "grid_template_rows": null,
       "height": null,
       "justify_content": null,
       "justify_items": null,
       "left": null,
       "margin": null,
       "max_height": null,
       "max_width": null,
       "min_height": null,
       "min_width": null,
       "object_fit": null,
       "object_position": null,
       "order": null,
       "overflow": null,
       "padding": null,
       "right": null,
       "top": null,
       "visibility": null,
       "width": null
      }
     },
     "9c5c2b97a7d044f4954a81c1638910db": {
      "model_module": "@jupyter-widgets/controls",
      "model_module_version": "2.0.0",
      "model_name": "HTMLStyleModel",
      "state": {
       "_model_module": "@jupyter-widgets/controls",
       "_model_module_version": "2.0.0",
       "_model_name": "HTMLStyleModel",
       "_view_count": null,
       "_view_module": "@jupyter-widgets/base",
       "_view_module_version": "2.0.0",
       "_view_name": "StyleView",
       "background": null,
       "description_width": "",
       "font_size": null,
       "text_color": null
      }
     },
     "c9442148c0ac4d1e97aa8471aea5b219": {
      "model_module": "@jupyter-widgets/controls",
      "model_module_version": "2.0.0",
      "model_name": "HTMLStyleModel",
      "state": {
       "_model_module": "@jupyter-widgets/controls",
       "_model_module_version": "2.0.0",
       "_model_name": "HTMLStyleModel",
       "_view_count": null,
       "_view_module": "@jupyter-widgets/base",
       "_view_module_version": "2.0.0",
       "_view_name": "StyleView",
       "background": null,
       "description_width": "",
       "font_size": null,
       "text_color": null
      }
     },
     "eac2feb75ca3424e8d70249f1e0256ab": {
      "model_module": "@jupyter-widgets/controls",
      "model_module_version": "2.0.0",
      "model_name": "FloatProgressModel",
      "state": {
       "_dom_classes": [],
       "_model_module": "@jupyter-widgets/controls",
       "_model_module_version": "2.0.0",
       "_model_name": "FloatProgressModel",
       "_view_count": null,
       "_view_module": "@jupyter-widgets/controls",
       "_view_module_version": "2.0.0",
       "_view_name": "ProgressView",
       "bar_style": "success",
       "description": "",
       "description_allow_html": false,
       "layout": "IPY_MODEL_2a27633ab8394b909f098cb70b3ae1d0",
       "max": 5.0,
       "min": 0.0,
       "orientation": "horizontal",
       "style": "IPY_MODEL_59f79b2483a34d528d7fa02c9ce3dd1f",
       "tabbable": null,
       "tooltip": null,
       "value": 5.0
      }
     },
     "eebf36d41db647f2950dbb1a36f36488": {
      "model_module": "@jupyter-widgets/base",
      "model_module_version": "2.0.0",
      "model_name": "LayoutModel",
      "state": {
       "_model_module": "@jupyter-widgets/base",
       "_model_module_version": "2.0.0",
       "_model_name": "LayoutModel",
       "_view_count": null,
       "_view_module": "@jupyter-widgets/base",
       "_view_module_version": "2.0.0",
       "_view_name": "LayoutView",
       "align_content": null,
       "align_items": null,
       "align_self": null,
       "border_bottom": null,
       "border_left": null,
       "border_right": null,
       "border_top": null,
       "bottom": null,
       "display": null,
       "flex": null,
       "flex_flow": null,
       "grid_area": null,
       "grid_auto_columns": null,
       "grid_auto_flow": null,
       "grid_auto_rows": null,
       "grid_column": null,
       "grid_gap": null,
       "grid_row": null,
       "grid_template_areas": null,
       "grid_template_columns": null,
       "grid_template_rows": null,
       "height": null,
       "justify_content": null,
       "justify_items": null,
       "left": null,
       "margin": null,
       "max_height": null,
       "max_width": null,
       "min_height": null,
       "min_width": null,
       "object_fit": null,
       "object_position": null,
       "order": null,
       "overflow": null,
       "padding": null,
       "right": null,
       "top": null,
       "visibility": null,
       "width": null
      }
     }
    },
    "version_major": 2,
    "version_minor": 0
   }
  }
 },
 "nbformat": 4,
 "nbformat_minor": 5
}