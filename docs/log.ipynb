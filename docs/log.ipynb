{
 "cells": [
  {
   "cell_type": "markdown",
   "id": "92bcb855",
   "metadata": {
    "papermill": {
     "duration": 0.003929,
     "end_time": "2024-09-06T04:09:40.802253",
     "exception": false,
     "start_time": "2024-09-06T04:09:40.798324",
     "status": "completed"
    },
    "tags": []
   },
   "source": [
    "# MPIA Arxiv on Deck 2\n",
    "\n",
    "Contains the steps to produce the paper extractions."
   ]
  },
  {
   "cell_type": "code",
   "execution_count": 1,
   "id": "3a0d6e11",
   "metadata": {
    "execution": {
     "iopub.execute_input": "2024-09-06T04:09:40.809349Z",
     "iopub.status.busy": "2024-09-06T04:09:40.809128Z",
     "iopub.status.idle": "2024-09-06T04:09:41.193349Z",
     "shell.execute_reply": "2024-09-06T04:09:41.192703Z"
    },
    "papermill": {
     "duration": 0.389599,
     "end_time": "2024-09-06T04:09:41.194967",
     "exception": false,
     "start_time": "2024-09-06T04:09:40.805368",
     "status": "completed"
    },
    "tags": []
   },
   "outputs": [],
   "source": [
    "# Imports\n",
    "import os\n",
    "from IPython.display import Markdown, display\n",
    "from tqdm.notebook import tqdm\n",
    "import warnings\n",
    "from PIL import Image \n",
    "\n",
    "# requires arxiv_on_deck_2\n",
    "\n",
    "from arxiv_on_deck_2.arxiv2 import (get_new_papers, \n",
    "                                    get_paper_from_identifier,\n",
    "                                    retrieve_document_source, \n",
    "                                    get_markdown_badge)\n",
    "from arxiv_on_deck_2 import (latex,\n",
    "                             latex_bib,\n",
    "                             mpia,\n",
    "                             highlight_authors_in_list)\n",
    "\n",
    "# Sometimes images are really big\n",
    "Image.MAX_IMAGE_PIXELS = 1000000000 "
   ]
  },
  {
   "cell_type": "code",
   "execution_count": 2,
   "id": "22aa9d44",
   "metadata": {
    "execution": {
     "iopub.execute_input": "2024-09-06T04:09:41.202267Z",
     "iopub.status.busy": "2024-09-06T04:09:41.201988Z",
     "iopub.status.idle": "2024-09-06T04:09:41.207047Z",
     "shell.execute_reply": "2024-09-06T04:09:41.206511Z"
    },
    "papermill": {
     "duration": 0.010188,
     "end_time": "2024-09-06T04:09:41.208362",
     "exception": false,
     "start_time": "2024-09-06T04:09:41.198174",
     "status": "completed"
    },
    "tags": []
   },
   "outputs": [],
   "source": [
    "# Some useful definitions.\n",
    "\n",
    "class AffiliationWarning(UserWarning):\n",
    "    pass\n",
    "\n",
    "class AffiliationError(RuntimeError):\n",
    "    pass\n",
    "\n",
    "def validation(source: str):\n",
    "    \"\"\"Raises error paper during parsing of source file\n",
    "    \n",
    "    Allows checks before parsing TeX code.\n",
    "    \n",
    "    Raises AffiliationWarning\n",
    "    \"\"\"\n",
    "    check = mpia.affiliation_verifications(source, verbose=True)\n",
    "    if check is not True:\n",
    "        raise AffiliationError(\"mpia.affiliation_verifications: \" + check)\n",
    "\n",
    "        \n",
    "warnings.simplefilter('always', AffiliationWarning)\n",
    "\n",
    "\n",
    "def get_markdown_qrcode(paper_id: str):\n",
    "    \"\"\" Generate a qrcode to the arxiv page using qrserver.com\n",
    "    \n",
    "    :param paper: Arxiv paper\n",
    "    :returns: markdown text\n",
    "    \"\"\"\n",
    "    url = r\"https://api.qrserver.com/v1/create-qr-code/?size=100x100&data=\"\n",
    "    txt = f\"\"\"<img src={url}\"https://arxiv.org/abs/{paper_id}\">\"\"\"\n",
    "    txt = '<div id=\"qrcode\">' + txt + '</div>'\n",
    "    return txt"
   ]
  },
  {
   "cell_type": "markdown",
   "id": "14bd6310",
   "metadata": {
    "papermill": {
     "duration": 0.002889,
     "end_time": "2024-09-06T04:09:41.214213",
     "exception": false,
     "start_time": "2024-09-06T04:09:41.211324",
     "status": "completed"
    },
    "tags": []
   },
   "source": [
    "## get list of arxiv paper candidates\n",
    "\n",
    "We use the MPIA mitarbeiter list webpage from mpia.de to get author names\n",
    "We then get all new papers from Arxiv and match authors"
   ]
  },
  {
   "cell_type": "code",
   "execution_count": 3,
   "id": "7ea813a8",
   "metadata": {
    "execution": {
     "iopub.execute_input": "2024-09-06T04:09:41.221239Z",
     "iopub.status.busy": "2024-09-06T04:09:41.220780Z",
     "iopub.status.idle": "2024-09-06T04:09:57.727017Z",
     "shell.execute_reply": "2024-09-06T04:09:57.726380Z"
    },
    "papermill": {
     "duration": 16.511398,
     "end_time": "2024-09-06T04:09:57.728579",
     "exception": false,
     "start_time": "2024-09-06T04:09:41.217181",
     "status": "completed"
    },
    "tags": []
   },
   "outputs": [],
   "source": [
    "# deal with the author list and edge cases of people that cannot be consistent on their name  \n",
    "\n",
    "def filter_non_scientists(name: str) -> bool:\n",
    "    \"\"\" Loose filter on expected authorships\n",
    "\n",
    "    removing IT, administration, technical staff\n",
    "    :param name: name\n",
    "    :returns: False if name is not a scientist\n",
    "    \"\"\"\n",
    "    remove_list = ['Wolf', 'Licht', 'Binroth', 'Witzel', 'Jordan',\n",
    "                   'Zähringer', 'Scheerer', 'Hoffmann', 'Düe',\n",
    "                   'Hellmich', 'Enkler-Scharpegge', 'Witte-Nguy',\n",
    "                   'Dehen', 'Beckmann', 'Jager', 'Jäger'\n",
    "                  ]\n",
    "\n",
    "    for k in remove_list:\n",
    "        if k in name:\n",
    "            return False\n",
    "    return True\n",
    "\n",
    "def add_author_to_list(author_list: list) -> list:\n",
    "    \"\"\" Add author to list if not already in list\n",
    "    \n",
    "    :param author: author name\n",
    "    :param author_list: list of authors\n",
    "    :returns: updated list of authors\n",
    "    \"\"\"\n",
    "    add_list = ['T. Henning']\n",
    "\n",
    "    for author in add_list:\n",
    "        if author not in author_list:\n",
    "            author_list.append(author)\n",
    "    return author_list\n",
    "\n",
    "# get list from MPIA website\n",
    "# filter for non-scientists (mpia.get_mpia_mitarbeiter_list() does some filtering)\n",
    "mpia_authors = [k[1] for k in mpia.get_mpia_mitarbeiter_list() if filter_non_scientists(k[1])]\n",
    "# add some missing author because of inconsistencies in their MPIA name and author name on papers\n",
    "mpia_authors = add_author_to_list(mpia_authors)"
   ]
  },
  {
   "cell_type": "code",
   "execution_count": 4,
   "id": "2645e73a",
   "metadata": {
    "execution": {
     "iopub.execute_input": "2024-09-06T04:09:57.736795Z",
     "iopub.status.busy": "2024-09-06T04:09:57.736379Z",
     "iopub.status.idle": "2024-09-06T04:09:58.533289Z",
     "shell.execute_reply": "2024-09-06T04:09:58.532599Z"
    },
    "papermill": {
     "duration": 0.802185,
     "end_time": "2024-09-06T04:09:58.534663",
     "exception": false,
     "start_time": "2024-09-06T04:09:57.732478",
     "status": "completed"
    },
    "tags": []
   },
   "outputs": [
    {
     "name": "stdout",
     "output_type": "stream",
     "text": [
      "J. Li  ->  J. Li  |  ['J. Li']\n",
      "K. Jahnke  ->  K. Jahnke  |  ['K. Jahnke']\n"
     ]
    },
    {
     "name": "stdout",
     "output_type": "stream",
     "text": [
      "K. Jahnke  ->  K. Jahnke  |  ['K. Jahnke']\n",
      "K. Jahnke  ->  K. Jahnke  |  ['K. Jahnke']\n",
      "A. Pillepich  ->  A. Pillepich  |  ['A. Pillepich']\n",
      "J. Shi  ->  J. Shi  |  ['J. Shi']\n",
      "Arxiv has 78 new papers today\n",
      "          6 with possible author matches\n"
     ]
    }
   ],
   "source": [
    "new_papers = get_new_papers()\n",
    "# add manual references\n",
    "add_paper_refs = []\n",
    "new_papers.extend([get_paper_from_identifier(k) for k in add_paper_refs])\n",
    "\n",
    "candidates = []\n",
    "for paperk in new_papers:\n",
    "    # Check author list with their initials\n",
    "    normed_author_list = [mpia.get_initials(k) for k in paperk['authors']]\n",
    "    hl_authors = highlight_authors_in_list(normed_author_list, mpia_authors, verbose=True)\n",
    "    matches = [(hl, orig) for hl, orig in zip(hl_authors, paperk['authors']) if 'mark' in hl]\n",
    "    paperk['authors'] = hl_authors\n",
    "    if matches:\n",
    "        # only select paper if an author matched our list\n",
    "        candidates.append(paperk)\n",
    "print(\"\"\"Arxiv has {0:,d} new papers today\"\"\".format(len(new_papers)))        \n",
    "print(\"\"\"          {0:,d} with possible author matches\"\"\".format(len(candidates)))"
   ]
  },
  {
   "cell_type": "markdown",
   "id": "3543b34a",
   "metadata": {
    "papermill": {
     "duration": 0.003076,
     "end_time": "2024-09-06T04:09:58.542177",
     "exception": false,
     "start_time": "2024-09-06T04:09:58.539101",
     "status": "completed"
    },
    "tags": []
   },
   "source": [
    "# Parse sources and generate relevant outputs\n",
    "\n",
    "From the candidates, we do the following steps:\n",
    "* get their tarball from ArXiv (and extract data)\n",
    "* find the main .tex file: find one with \\documentclass{...} (sometimes it's non trivial)\n",
    "* Check affiliations with :func:`validation`, which uses :func:`mpia.affiliation_verifications`\n",
    "* If passing the affiliations: we parse the .tex source\n",
    "   * inject sub-documents into the main (flatten the main document)\n",
    "   * parse structure, extract information (title, abstract, authors, figures...)\n",
    "   * handles `\\graphicspath` if provided\n",
    "* Generate the .md document."
   ]
  },
  {
   "cell_type": "code",
   "execution_count": 5,
   "id": "9576b79e",
   "metadata": {
    "execution": {
     "iopub.execute_input": "2024-09-06T04:09:58.549562Z",
     "iopub.status.busy": "2024-09-06T04:09:58.549089Z",
     "iopub.status.idle": "2024-09-06T04:12:16.895005Z",
     "shell.execute_reply": "2024-09-06T04:12:16.894260Z"
    },
    "papermill": {
     "duration": 138.352826,
     "end_time": "2024-09-06T04:12:16.898037",
     "exception": false,
     "start_time": "2024-09-06T04:09:58.545211",
     "status": "completed"
    },
    "scrolled": false,
    "tags": []
   },
   "outputs": [
    {
     "data": {
      "application/vnd.jupyter.widget-view+json": {
       "model_id": "734b6a53056040cbb0fdc2e43541eb5a",
       "version_major": 2,
       "version_minor": 0
      },
      "text/plain": [
       "  0%|          | 0/6 [00:00<?, ?it/s]"
      ]
     },
     "metadata": {},
     "output_type": "display_data"
    },
    {
     "name": "stdout",
     "output_type": "stream",
     "text": [
      "Retrieving document from  https://arxiv.org/e-print/2409.03168\n"
     ]
    },
    {
     "name": "stdout",
     "output_type": "stream",
     "text": [
      "extracting tarball to tmp_2409.03168..."
     ]
    },
    {
     "name": "stdout",
     "output_type": "stream",
     "text": [
      " done.\n",
      "Retrieving document from  https://arxiv.org/e-print/2409.03522\n"
     ]
    },
    {
     "name": "stdout",
     "output_type": "stream",
     "text": [
      "extracting tarball to tmp_2409.03522..."
     ]
    },
    {
     "name": "stdout",
     "output_type": "stream",
     "text": [
      " done.\n"
     ]
    },
    {
     "name": "stdout",
     "output_type": "stream",
     "text": [
      "Found 126 bibliographic references in tmp_2409.03522/main.bbl.\n",
      "syntax error in line 312: '=' expected\n",
      "Retrieving document from  https://arxiv.org/e-print/2409.03523\n"
     ]
    },
    {
     "name": "stdout",
     "output_type": "stream",
     "text": [
      "extracting tarball to tmp_2409.03523..."
     ]
    },
    {
     "name": "stdout",
     "output_type": "stream",
     "text": [
      " done.\n"
     ]
    },
    {
     "name": "stdout",
     "output_type": "stream",
     "text": [
      "Found 199 bibliographic references in tmp_2409.03523/kp-jc-6-paper2.bbl.\n",
      "syntax error in line 529: '=' expected\n",
      "Retrieving document from  https://arxiv.org/e-print/2409.03524\n"
     ]
    },
    {
     "name": "stdout",
     "output_type": "stream",
     "text": [
      "extracting tarball to tmp_2409.03524..."
     ]
    },
    {
     "name": "stdout",
     "output_type": "stream",
     "text": [
      " done.\n"
     ]
    },
    {
     "name": "stdout",
     "output_type": "stream",
     "text": [
      "Found 83 bibliographic references in tmp_2409.03524/KPJC6_paper4.bbl.\n",
      "Retrieving document from  https://arxiv.org/e-print/2409.03585\n"
     ]
    },
    {
     "name": "stdout",
     "output_type": "stream",
     "text": [
      "extracting tarball to tmp_2409.03585..."
     ]
    },
    {
     "name": "stdout",
     "output_type": "stream",
     "text": [
      " done.\n"
     ]
    },
    {
     "name": "stdout",
     "output_type": "stream",
     "text": [
      "list index out of range\n",
      "Retrieving document from  https://arxiv.org/e-print/2409.03706\n"
     ]
    },
    {
     "name": "stdout",
     "output_type": "stream",
     "text": [
      "extracting tarball to tmp_2409.03706..."
     ]
    },
    {
     "name": "stdout",
     "output_type": "stream",
     "text": [
      " done.\n"
     ]
    },
    {
     "name": "stderr",
     "output_type": "stream",
     "text": [
      "/opt/hostedtoolcache/Python/3.9.19/x64/lib/python3.9/site-packages/IPython/core/interactiveshell.py:3550: LatexWarning: Multiple tex files.\n",
      "\n",
      "  exec(code_obj, self.user_global_ns, self.user_ns)\n",
      "/tmp/ipykernel_2646/1211882699.py:51: LatexWarning: 2409.03706 did not run properly\n",
      "'PosixPath' object is not subscriptable\n",
      "  warnings.warn(latex.LatexWarning(f\"{paper_id:s} did not run properly\\n\" +\n"
     ]
    }
   ],
   "source": [
    "documents = []\n",
    "failed = []\n",
    "for paper in tqdm(candidates):\n",
    "    # debug crap\n",
    "    paper['identifier'] = paper['identifier'].lower().replace('arxiv:', '').replace(r'\\n', '').strip()\n",
    "    paper_id = paper['identifier']\n",
    "    \n",
    "    folder = f'tmp_{paper_id}'\n",
    "\n",
    "    try:\n",
    "        if not os.path.isdir(folder):\n",
    "            folder = retrieve_document_source(f\"{paper_id}\", f'tmp_{paper_id}')\n",
    "        \n",
    "        try:\n",
    "            doc = latex.LatexDocument(folder, validation=validation)    \n",
    "        except AffiliationError as affilerror:\n",
    "            msg = f\"ArXiv:{paper_id:s} is not an MPIA paper... \" + str(affilerror)\n",
    "            failed.append((paper, \"affiliation error: \" + str(affilerror) ))\n",
    "            continue\n",
    "        \n",
    "        # Hack because sometimes author parsing does not work well\n",
    "        if (len(doc.authors) != len(paper['authors'])):\n",
    "            doc._authors = paper['authors']\n",
    "        else:\n",
    "            # highlight authors (FIXME: doc.highlight_authors)\n",
    "            # done on arxiv paper already\n",
    "            doc._authors = highlight_authors_in_list(\n",
    "                [mpia.get_initials(k) for k in doc.authors], \n",
    "                mpia_authors, verbose=True)\n",
    "        if (doc.abstract) in (None, ''):\n",
    "            doc._abstract = paper['abstract']\n",
    "            \n",
    "        doc.comment = (get_markdown_badge(paper_id) + \n",
    "                       \"<mark>Appeared on: \" + paper['date'] + \"</mark> - \")\n",
    "        if paper['comments']:\n",
    "            doc.comment += \" _\" + paper['comments'] + \"_\"\n",
    "        \n",
    "        full_md = doc.generate_markdown_text()\n",
    "        \n",
    "        full_md += get_markdown_qrcode(paper_id)\n",
    "        \n",
    "        # replace citations\n",
    "        try:\n",
    "            bibdata = latex_bib.LatexBib.from_doc(doc)\n",
    "            full_md = latex_bib.replace_citations(full_md, bibdata)\n",
    "        except Exception as e:\n",
    "            print(e)\n",
    "        \n",
    "        documents.append((paper_id, full_md))\n",
    "    except Exception as e:\n",
    "        warnings.warn(latex.LatexWarning(f\"{paper_id:s} did not run properly\\n\" +\n",
    "                                         str(e)\n",
    "                                        ))\n",
    "        failed.append((paper, \"latex error \" + str(e)))"
   ]
  },
  {
   "cell_type": "markdown",
   "id": "2505a25c",
   "metadata": {
    "papermill": {
     "duration": 0.004133,
     "end_time": "2024-09-06T04:12:16.906541",
     "exception": false,
     "start_time": "2024-09-06T04:12:16.902408",
     "status": "completed"
    },
    "tags": []
   },
   "source": [
    "### Export the logs\n",
    "\n",
    "Throughout, we also keep track of the logs per paper. see `logs-{today date}.md` "
   ]
  },
  {
   "cell_type": "code",
   "execution_count": 6,
   "id": "d733828a",
   "metadata": {
    "execution": {
     "iopub.execute_input": "2024-09-06T04:12:16.915910Z",
     "iopub.status.busy": "2024-09-06T04:12:16.915467Z",
     "iopub.status.idle": "2024-09-06T04:12:16.933097Z",
     "shell.execute_reply": "2024-09-06T04:12:16.932561Z"
    },
    "papermill": {
     "duration": 0.023931,
     "end_time": "2024-09-06T04:12:16.934468",
     "exception": false,
     "start_time": "2024-09-06T04:12:16.910537",
     "status": "completed"
    },
    "scrolled": false,
    "tags": []
   },
   "outputs": [
    {
     "data": {
      "text/markdown": [
       "## Successful papers"
      ],
      "text/plain": [
       "<IPython.core.display.Markdown object>"
      ]
     },
     "metadata": {},
     "output_type": "display_data"
    },
    {
     "data": {
      "text/markdown": [
       "\n",
       "|||\n",
       "|---:|:---|\n",
       "| [![arXiv](https://img.shields.io/badge/arXiv-2409.03522-b31b1b.svg)](https://arxiv.org/abs/2409.03522) | **Euclid preparation. Simulations and nonlinearities beyond $\\Lambda$CDM. 1. Numerical methods and validation**  |\n",
       "|| E. Collaboration, et al. -- incl., <mark>K. Jahnke</mark> |\n",
       "|*Appeared on*| *2024-09-06*|\n",
       "|*Comments*| *20 pages, 7 figures, 1 appendix; submitted on behalf of the Euclid Collaboration*|\n",
       "|**Abstract**|            To constrain models beyond $\\Lambda$CDM, the development of the Euclid analysis pipeline requires simulations that capture the nonlinear phenomenology of such models. We present an overview of numerical methods and $N$-body simulation codes developed to study the nonlinear regime of structure formation in alternative dark energy and modified gravity theories. We review a variety of numerical techniques and approximations employed in cosmological $N$-body simulations to model the complex phenomenology of scenarios beyond $\\Lambda$CDM. This includes discussions on solving nonlinear field equations, accounting for fifth forces, and implementing screening mechanisms. Furthermore, we conduct a code comparison exercise to assess the reliability and convergence of different simulation codes across a range of models. Our analysis demonstrates a high degree of agreement among the outputs of different simulation codes, providing confidence in current numerical methods for modelling cosmic structure formation beyond $\\Lambda$CDM. We highlight recent advances made in simulating the nonlinear scales of structure formation, which are essential for leveraging the full scientific potential of the forthcoming observational data from the Euclid mission.         |"
      ],
      "text/plain": [
       "[2409.03522] Euclid preparation. Simulations and nonlinearities beyond $\\Lambda$CDM. 1. Numerical methods and validation\n",
       "\tE. Collaboration, et al. -- incl., <mark>K. Jahnke</mark>"
      ]
     },
     "metadata": {},
     "output_type": "display_data"
    },
    {
     "data": {
      "text/markdown": [
       "\n",
       "|||\n",
       "|---:|:---|\n",
       "| [![arXiv](https://img.shields.io/badge/arXiv-2409.03523-b31b1b.svg)](https://arxiv.org/abs/2409.03523) | **Euclid preparation. Simulations and nonlinearities beyond $\\Lambda$CDM. 2. Results from non-standard simulations**  |\n",
       "|| E. Collaboration, et al. -- incl., <mark>K. Jahnke</mark> |\n",
       "|*Appeared on*| *2024-09-06*|\n",
       "|*Comments*| *22 pages, 7 figures*|\n",
       "|**Abstract**|            The Euclid mission will measure cosmological parameters with unprecedented precision. To distinguish between cosmological models, it is essential to generate realistic mock observables from cosmological simulations that were run in both the standard $\\Lambda$-cold-dark-matter ($\\Lambda$CDM) paradigm and in many non-standard models beyond $\\Lambda$CDM. We present the scientific results from a suite of cosmological N-body simulations using non-standard models including dynamical dark energy, k-essence, interacting dark energy, modified gravity, massive neutrinos, and primordial non-Gaussianities. We investigate how these models affect the large-scale-structure formation and evolution in addition to providing synthetic observables that can be used to test and constrain these models with Euclid data. We developed a custom pipeline based on the Rockstar halo finder and the nbodykit large-scale structure toolkit to analyse the particle output of non-standard simulations and generate mock observables such as halo and void catalogues, mass density fields, and power spectra in a consistent way. We compare these observables with those from the standard $\\Lambda$CDM model and quantify the deviations. We find that non-standard cosmological models can leave significant imprints on the synthetic observables that we have generated. Our results demonstrate that non-standard cosmological N-body simulations provide valuable insights into the physics of dark energy and dark matter, which is essential to maximising the scientific return of Euclid.         |"
      ],
      "text/plain": [
       "[2409.03523] Euclid preparation. Simulations and nonlinearities beyond $\\Lambda$CDM. 2. Results from non-standard simulations\n",
       "\tE. Collaboration, et al. -- incl., <mark>K. Jahnke</mark>"
      ]
     },
     "metadata": {},
     "output_type": "display_data"
    },
    {
     "data": {
      "text/markdown": [
       "\n",
       "|||\n",
       "|---:|:---|\n",
       "| [![arXiv](https://img.shields.io/badge/arXiv-2409.03524-b31b1b.svg)](https://arxiv.org/abs/2409.03524) | **Euclid preparation. Simulations and nonlinearities beyond $\\Lambda$CDM. 4. Constraints on $f(R)$ models from the photometric primary probes**  |\n",
       "|| E. Collaboration, et al. -- incl., <mark>K. Jahnke</mark> |\n",
       "|*Appeared on*| *2024-09-06*|\n",
       "|*Comments*| *24 pages, 16 figures, submitted on behalf of the Euclid Collaboration*|\n",
       "|**Abstract**|            We study the constraint on $f(R)$ gravity that can be obtained by photometric primary probes of the Euclid mission. Our focus is the dependence of the constraint on the theoretical modelling of the nonlinear matter power spectrum. In the Hu-Sawicki $f(R)$ gravity model, we consider four different predictions for the ratio between the power spectrum in $f(R)$ and that in $\\Lambda$CDM: a fitting formula, the halo model reaction approach, ReACT and two emulators based on dark matter only $N$-body simulations, FORGE and e-Mantis. These predictions are added to the MontePython implementation to predict the angular power spectra for weak lensing (WL), photometric galaxy clustering and their cross-correlation. By running Markov Chain Monte Carlo, we compare constraints on parameters and investigate the bias of the recovered $f(R)$ parameter if the data are created by a different model. For the pessimistic setting of WL, one dimensional bias for the $f(R)$ parameter, $\\log_{10}|f_{R0}|$, is found to be $0.5 \\sigma$ when FORGE is used to create the synthetic data with $\\log_{10}|f_{R0}| =-5.301$ and fitted by e-Mantis. The impact of baryonic physics on WL is studied by using a baryonification emulator BCemu. For the optimistic setting, the $f(R)$ parameter and two main baryon parameters are well constrained despite the degeneracies among these parameters. However, the difference in the nonlinear dark matter prediction can be compensated by the adjustment of baryon parameters, and the one-dimensional marginalised constraint on $\\log_{10}|f_{R0}|$ is biased. This bias can be avoided in the pessimistic setting at the expense of weaker constraints. For the pessimistic setting, using the $\\Lambda$CDM synthetic data for WL, we obtain the prior-independent upper limit of $\\log_{10}|f_{R0}|< -5.6$. Finally, we implement a method to include theoretical errors to avoid the bias.         |"
      ],
      "text/plain": [
       "[2409.03524] Euclid preparation. Simulations and nonlinearities beyond $\\Lambda$CDM. 4. Constraints on $f(R)$ models from the photometric primary probes\n",
       "\tE. Collaboration, et al. -- incl., <mark>K. Jahnke</mark>"
      ]
     },
     "metadata": {},
     "output_type": "display_data"
    },
    {
     "data": {
      "text/markdown": [
       "\n",
       "|||\n",
       "|---:|:---|\n",
       "| [![arXiv](https://img.shields.io/badge/arXiv-2409.03585-b31b1b.svg)](https://arxiv.org/abs/2409.03585) | **Extragalactic Stellar Tidal Streams: Observations meet Simulation**  |\n",
       "|| J. Miro-Carretero, et al. -- incl., <mark>A. Pillepich</mark> |\n",
       "|*Appeared on*| *2024-09-06*|\n",
       "|*Comments*| *18 pages, 17 figures*|\n",
       "|**Abstract**|            According to the well established hierarchical framework for galaxy evolution, galaxies grow through mergers with other galaxies and the LambdaCDM cosmological model predicts that the stellar halos of galaxies are rich in remnants from minor mergers. The Stellar Streams Legacy Survey has provided a first release of a catalogue with a statistically significant sample of stellar streams in the Local Universe that can be used to study minor mergers and test the cosmological models. The main objective is to compare the results of the observations of stellar tidal streams with the predictions of state-of-the-art cosmological simulations regarding the formation of stellar streams up to a redshift z < 0.02, according to the LambdaCDM model. We use the predictions of the cosmological simulations Copernicus Complexio, TNG50 of the IllustrisTNG project and Auriga to generate 225 mock-images of nearby halos at a distance of 70 Mpc, and search for stellar streams. We compare the obtained stream frequency and characteristics with those obtained from the Stellar Streams Legacy Survey. We find good agreement between the results of analysing real images from the Dark Energy Survey and mock-images from cosmological simulations. We obtained predictions for the detection rate of stellar streams to a surface brightness limit of 35 mag arcsec^-2. The cosmological simulations predict that for a surface brightness limit of 32 mag arcsec^-2 a frequency of almost 70% in the detection of streams around galaxies can be achieved.         |"
      ],
      "text/plain": [
       "[2409.03585] Extragalactic Stellar Tidal Streams: Observations meet Simulation\n",
       "\tJ. Miro-Carretero, et al. -- incl., <mark>A. Pillepich</mark>"
      ]
     },
     "metadata": {},
     "output_type": "display_data"
    },
    {
     "data": {
      "text/markdown": [
       "## Failed papers"
      ],
      "text/plain": [
       "<IPython.core.display.Markdown object>"
      ]
     },
     "metadata": {},
     "output_type": "display_data"
    },
    {
     "data": {
      "text/markdown": [
       "\n",
       "|||\n",
       "|---:|:---|\n",
       "| [![arXiv](https://img.shields.io/badge/arXiv-2409.03168-b31b1b.svg)](https://arxiv.org/abs/2409.03168) | **The HI reservoir in central spiral galaxies and the implied star formation process**  |\n",
       "|| J. Dou, et al. -- incl., <mark>J. Li</mark> |\n",
       "|*Appeared on*| *2024-09-06*|\n",
       "|*Comments*| *18 pages, 7 figures; Accepted for publication in the ApJL; This is the fourth paper in the \"From Haloes to Galaxies\" series*|\n",
       "|**Abstract**|            The cold interstellar medium (ISM) as the raw material for star formation is critical to understanding galaxy evolution. It is generally understood that galaxies stop making stars when, in one way or another, they run out of gas. However, here we provide evidence that central spiral galaxies remain rich in atomic gas even if their star formation rate and molecular gas fraction have dropped significantly compared to \"normal\" star-forming galaxies of the same mass. Since HI is sensitive to external processes, here we investigate central spiral galaxies using a combined sample from SDSS, ALFALFA, and xGASS surveys. After proper incompleteness corrections, we find that the key HI scaling relations for central spirals show significant but regular systematic dependence on stellar mass. At any given stellar mass, the HI gas mass fraction is about constant with changing specific star formation rate (sSFR), which suggests that HI reservoir is ubiquitous in central spirals with any star formation status down to M* ~ 10^9 Msun. Together with the tight correlation between the molecular gas mass fraction and sSFR for galaxies across a wide range of different properties, it suggests that the decline of SFR of all central spirals in the local universe is due to the halt of H2 supply, though there is plenty of HI gas around. These hence provide critical observations of the dramatically different behavior of the cold multi-phase ISM, and a key to understand the star formation process and quenching mechanism.         |\n",
       "|<p style=\"color:green\"> **ERROR** </p>| <p style=\"color:green\">affiliation error: mpia.affiliation_verifications: 'Heidelberg' keyword not found.</p> |"
      ],
      "text/plain": [
       "<IPython.core.display.Markdown object>"
      ]
     },
     "metadata": {},
     "output_type": "display_data"
    },
    {
     "data": {
      "text/markdown": [
       "\n",
       "|||\n",
       "|---:|:---|\n",
       "| [![arXiv](https://img.shields.io/badge/arXiv-2409.03706-b31b1b.svg)](https://arxiv.org/abs/2409.03706) | **The Gaia Ultracool Dwarf Sample -- IV. GTC/OSIRIS optical spectra of Gaia late-M and L dwarfs**  |\n",
       "|| W. J. Cooper, et al. -- incl., <mark>J. Shi</mark> |\n",
       "|*Appeared on*| *2024-09-06*|\n",
       "|*Comments*| *33 pages, 14 figures, Accepted by MNRAS*|\n",
       "|**Abstract**|            As part of our comprehensive, ongoing characterisation of the low-mass end of the main sequence in the Solar neighbourhood, we used the OSIRIS instrument at the 10.4 m Gran Telescopio Canarias to acquire low- and mid-resolution (R$\\approx$300 and R$\\approx$2500) optical spectroscopy of 53 late-M and L ultracool dwarfs. Most of these objects are known but poorly investigated and lacking complete kinematics. We measured spectral indices, determined spectral types (six of which are new) and inferred effective temperature and surface gravity from BT-Settl synthetic spectra fits for all objects. We were able to measure radial velocities via line centre fitting and cross correlation for 46 objects, 29 of which lacked previous radial velocity measurements. Using these radial velocities in combination with the latest Gaia DR3 data, we also calculated Galactocentric space velocities. From their kinematics, we identified two candidates outside of the thin disc and four in young stellar kinematic groups. Two further ultracool dwarfs are apparently young field objects: 2MASSW J1246467$+$402715 (L4$\\beta$), which has a potential, weak lithium absorption line, and G 196$-$3B (L3$\\beta$), which was already known as young due to its well-studied primary companion.         |\n",
       "|<p style=\"color:red\"> **ERROR** </p>| <p style=\"color:red\">latex error 'PosixPath' object is not subscriptable</p> |"
      ],
      "text/plain": [
       "<IPython.core.display.Markdown object>"
      ]
     },
     "metadata": {},
     "output_type": "display_data"
    }
   ],
   "source": [
    "import datetime\n",
    "today = str(datetime.date.today())\n",
    "logfile = f\"_build/html/logs/log-{today}.md\"\n",
    "\n",
    "\n",
    "with open(logfile, 'w') as logs:\n",
    "    # Success\n",
    "    logs.write(f'# Arxiv on Deck 2: Logs - {today}\\n\\n')\n",
    "    logs.write(\"\"\"* Arxiv had {0:,d} new papers\\n\"\"\".format(len(new_papers)))\n",
    "    logs.write(\"\"\"    * {0:,d} with possible author matches\\n\\n\"\"\".format(len(candidates)))\n",
    "    logs.write(\"## Sucessful papers\\n\\n\")\n",
    "    display(Markdown(\"## Successful papers\"))\n",
    "    success = [k[0] for k in documents]\n",
    "    for candid in candidates:\n",
    "        if candid['identifier'].split(':')[-1] in success:\n",
    "            display(candid)\n",
    "            logs.write(candid.generate_markdown_text() + '\\n\\n')\n",
    "\n",
    "    ## failed\n",
    "    logs.write(\"## Failed papers\\n\\n\")\n",
    "    display(Markdown(\"## Failed papers\"))\n",
    "    failed = sorted(failed, key=lambda x: x[1])\n",
    "    current_reason = \"\"\n",
    "    for paper, reason in failed:\n",
    "        if 'affiliation' in reason:\n",
    "            color = 'green'\n",
    "        else:\n",
    "            color = 'red'\n",
    "        data = Markdown(\n",
    "                paper.generate_markdown_text() + \n",
    "                f'\\n|<p style=\"color:{color:s}\"> **ERROR** </p>| <p style=\"color:{color:s}\">{reason:s}</p> |'\n",
    "               )\n",
    "        if reason != current_reason:\n",
    "            logs.write(f'### {reason:s} \\n\\n')\n",
    "            current_reason = reason\n",
    "        logs.write(data.data + '\\n\\n')\n",
    "        \n",
    "        # only display here the important errors (all in logs)\n",
    "        # if color in ('red',):\n",
    "        display(data)"
   ]
  },
  {
   "cell_type": "markdown",
   "id": "472d20ee",
   "metadata": {
    "papermill": {
     "duration": 0.004773,
     "end_time": "2024-09-06T04:12:16.944041",
     "exception": false,
     "start_time": "2024-09-06T04:12:16.939268",
     "status": "completed"
    },
    "tags": []
   },
   "source": [
    "## Export documents\n",
    "\n",
    "We now write the .md files and export relevant images"
   ]
  },
  {
   "cell_type": "code",
   "execution_count": 7,
   "id": "d426aed9",
   "metadata": {
    "execution": {
     "iopub.execute_input": "2024-09-06T04:12:16.954802Z",
     "iopub.status.busy": "2024-09-06T04:12:16.954338Z",
     "iopub.status.idle": "2024-09-06T04:12:16.960993Z",
     "shell.execute_reply": "2024-09-06T04:12:16.960462Z"
    },
    "papermill": {
     "duration": 0.013372,
     "end_time": "2024-09-06T04:12:16.962249",
     "exception": false,
     "start_time": "2024-09-06T04:12:16.948877",
     "status": "completed"
    },
    "tags": []
   },
   "outputs": [],
   "source": [
    "def export_markdown_summary(md: str, md_fname:str, directory: str):\n",
    "    \"\"\"Export MD document and associated relevant images\"\"\"\n",
    "    import os\n",
    "    import shutil\n",
    "    import re\n",
    "\n",
    "    if (os.path.exists(directory) and not os.path.isdir(directory)):\n",
    "        raise RuntimeError(f\"a non-directory file exists with name {directory:s}\")\n",
    "\n",
    "    if (not os.path.exists(directory)):\n",
    "        print(f\"creating directory {directory:s}\")\n",
    "        os.mkdir(directory)\n",
    "\n",
    "    fig_fnames = (re.compile(r'\\[Fig.*\\]\\((.*)\\)').findall(md) + \n",
    "                  re.compile(r'\\<img src=\"([^>\\s]*)\"[^>]*/>').findall(md))\n",
    "    print(\"found figures\", fig_fnames)\n",
    "    for fname in fig_fnames:\n",
    "        if 'http' in fname:\n",
    "            # No need to copy online figures\n",
    "            continue\n",
    "        if not os.path.exists(fname):\n",
    "            print(\"file not found\", fname)\n",
    "            continue\n",
    "        print(\"copying \", fname, \"to\", directory)\n",
    "        destdir = os.path.join(directory, os.path.dirname(fname))\n",
    "        destfname = os.path.join(destdir, os.path.basename(fname))\n",
    "        try:\n",
    "            os.makedirs(destdir)\n",
    "        except FileExistsError:\n",
    "            pass\n",
    "        shutil.copy(fname, destfname)\n",
    "    with open(os.path.join(directory, md_fname), 'w') as fout:\n",
    "        fout.write(md)\n",
    "    print(\"exported in \", os.path.join(directory, md_fname))\n",
    "    [print(\"    + \" + os.path.join(directory,fk)) for fk in fig_fnames]"
   ]
  },
  {
   "cell_type": "code",
   "execution_count": 8,
   "id": "014d04a4",
   "metadata": {
    "execution": {
     "iopub.execute_input": "2024-09-06T04:12:16.972947Z",
     "iopub.status.busy": "2024-09-06T04:12:16.972574Z",
     "iopub.status.idle": "2024-09-06T04:12:16.992068Z",
     "shell.execute_reply": "2024-09-06T04:12:16.991508Z"
    },
    "papermill": {
     "duration": 0.026246,
     "end_time": "2024-09-06T04:12:16.993349",
     "exception": false,
     "start_time": "2024-09-06T04:12:16.967103",
     "status": "completed"
    },
    "tags": []
   },
   "outputs": [
    {
     "name": "stdout",
     "output_type": "stream",
     "text": [
      "found figures ['tmp_2409.03522/./Figures/Pk_comparison_LCDM.png', 'tmp_2409.03522/./Figures/CompCost_Summary.png', 'tmp_2409.03522/./Figures/Bk_comparison_fR.png']\n",
      "copying  tmp_2409.03522/./Figures/Pk_comparison_LCDM.png to _build/html/\n",
      "copying  tmp_2409.03522/./Figures/CompCost_Summary.png to _build/html/\n",
      "copying  tmp_2409.03522/./Figures/Bk_comparison_fR.png to _build/html/\n",
      "exported in  _build/html/2409.03522.md\n",
      "    + _build/html/tmp_2409.03522/./Figures/Pk_comparison_LCDM.png\n",
      "    + _build/html/tmp_2409.03522/./Figures/CompCost_Summary.png\n",
      "    + _build/html/tmp_2409.03522/./Figures/Bk_comparison_fR.png\n",
      "found figures ['tmp_2409.03523/./Figs/Pk_comparison_NewElephant.png', 'tmp_2409.03523/./Figs/Pk_comparison_Forge.png', 'tmp_2409.03523/./Figs/Pk_comparison_CiDER.png']\n",
      "copying  tmp_2409.03523/./Figs/Pk_comparison_NewElephant.png to _build/html/\n",
      "copying  tmp_2409.03523/./Figs/Pk_comparison_Forge.png to _build/html/\n",
      "copying  tmp_2409.03523/./Figs/Pk_comparison_CiDER.png to _build/html/\n",
      "exported in  _build/html/2409.03523.md\n",
      "    + _build/html/tmp_2409.03523/./Figs/Pk_comparison_NewElephant.png\n",
      "    + _build/html/tmp_2409.03523/./Figs/Pk_comparison_Forge.png\n",
      "    + _build/html/tmp_2409.03523/./Figs/Pk_comparison_CiDER.png\n",
      "found figures ['tmp_2409.03524/././plots/WL_optbar1_prior.png', 'tmp_2409.03524/././plots/WL_optbar2_prior.png', 'tmp_2409.03524/././plots/baryon.png', 'tmp_2409.03524/././plots/WL_pes_emantis.png']\n",
      "copying  tmp_2409.03524/././plots/WL_optbar1_prior.png to _build/html/\n",
      "copying  tmp_2409.03524/././plots/WL_optbar2_prior.png to _build/html/\n",
      "copying  tmp_2409.03524/././plots/baryon.png to _build/html/\n",
      "copying  tmp_2409.03524/././plots/WL_pes_emantis.png to _build/html/\n",
      "exported in  _build/html/2409.03524.md\n",
      "    + _build/html/tmp_2409.03524/././plots/WL_optbar1_prior.png\n",
      "    + _build/html/tmp_2409.03524/././plots/WL_optbar2_prior.png\n",
      "    + _build/html/tmp_2409.03524/././plots/baryon.png\n",
      "    + _build/html/tmp_2409.03524/././plots/WL_pes_emantis.png\n",
      "found figures ['tmp_2409.03585/./Histogram_Mstar_DES-COCO-TNG50-Auriga_240816-2.jpg', 'tmp_2409.03585/./Histogram_Stellar-Mass_DES_CoCo_sample.jpg', 'tmp_2409.03585/./AURIGA_TNG50_COCO_DES_Stream-Detecttability_240816.jpg']\n",
      "copying  tmp_2409.03585/./Histogram_Mstar_DES-COCO-TNG50-Auriga_240816-2.jpg to _build/html/\n",
      "copying  tmp_2409.03585/./Histogram_Stellar-Mass_DES_CoCo_sample.jpg to _build/html/\n",
      "copying  tmp_2409.03585/./AURIGA_TNG50_COCO_DES_Stream-Detecttability_240816.jpg to _build/html/\n",
      "exported in  _build/html/2409.03585.md\n",
      "    + _build/html/tmp_2409.03585/./Histogram_Mstar_DES-COCO-TNG50-Auriga_240816-2.jpg\n",
      "    + _build/html/tmp_2409.03585/./Histogram_Stellar-Mass_DES_CoCo_sample.jpg\n",
      "    + _build/html/tmp_2409.03585/./AURIGA_TNG50_COCO_DES_Stream-Detecttability_240816.jpg\n"
     ]
    }
   ],
   "source": [
    "for paper_id, md in documents:\n",
    "    export_markdown_summary(md, f\"{paper_id:s}.md\", '_build/html/')"
   ]
  },
  {
   "cell_type": "markdown",
   "id": "f087a0a7",
   "metadata": {
    "papermill": {
     "duration": 0.004783,
     "end_time": "2024-09-06T04:12:17.003256",
     "exception": false,
     "start_time": "2024-09-06T04:12:16.998473",
     "status": "completed"
    },
    "tags": []
   },
   "source": [
    "## Display the papers\n",
    "\n",
    "Not necessary but allows for a quick check."
   ]
  },
  {
   "cell_type": "code",
   "execution_count": 9,
   "id": "fd25f625",
   "metadata": {
    "execution": {
     "iopub.execute_input": "2024-09-06T04:12:17.014053Z",
     "iopub.status.busy": "2024-09-06T04:12:17.013819Z",
     "iopub.status.idle": "2024-09-06T04:12:17.022640Z",
     "shell.execute_reply": "2024-09-06T04:12:17.021976Z"
    },
    "papermill": {
     "duration": 0.015731,
     "end_time": "2024-09-06T04:12:17.023940",
     "exception": false,
     "start_time": "2024-09-06T04:12:17.008209",
     "status": "completed"
    },
    "scrolled": false,
    "tags": []
   },
   "outputs": [
    {
     "data": {
      "text/markdown": [
       "<div class=\"macros\" style=\"visibility:hidden;\">\n",
       "$\\newcommand{\\ensuremath}{}$\n",
       "$\\newcommand{\\xspace}{}$\n",
       "$\\newcommand{\\object}[1]{\\texttt{#1}}$\n",
       "$\\newcommand{\\farcs}{{.}''}$\n",
       "$\\newcommand{\\farcm}{{.}'}$\n",
       "$\\newcommand{\\arcsec}{''}$\n",
       "$\\newcommand{\\arcmin}{'}$\n",
       "$\\newcommand{\\ion}[2]{#1#2}$\n",
       "$\\newcommand{\\textsc}[1]{\\textrm{#1}}$\n",
       "$\\newcommand{\\hl}[1]{\\textrm{#1}}$\n",
       "$\\newcommand{\\footnote}[1]{}$\n",
       "$\\newcommand{\\Om}[1]{\\Omega_\\mathrm{#1}}$\n",
       "$\\newcommand{\\Omm}{\\Omega_\\mathrm{m}}$\n",
       "$\\newcommand{\\Omr}{\\Omega_\\mathrm{r}}$\n",
       "$\\newcommand{\\Omk}{\\Omega_\\mathrm{k}}$\n",
       "$\\newcommand{\\OmDE}{\\Omega_\\mathrm{DE}}$\n",
       "$\\newcommand{\\OmL}{\\Omega_\\Lambda}$\n",
       "$\\newcommand{\\de}[1]{\\delta_\\mathrm{#1}}$\n",
       "$\\newcommand{\\rh}[1]{\\rho_\\mathrm{#1}}$\n",
       "$\\newcommand{\\pysco}{\\texttt{PySCo}\\xspace}$\n",
       "$\\newcommand{\\orcid}[1]{\\orcidlink{#1}}$\n",
       "$\\newcommand{\\arraystretch}{2.0}$</div>\n",
       "\n",
       "\n",
       "\n",
       "<div id=\"title\">\n",
       "\n",
       "# $\\Euclid$ preparation\n",
       "\n",
       "</div>\n",
       "<div id=\"comments\">\n",
       "\n",
       "[![arXiv](https://img.shields.io/badge/arXiv-2409.03522-b31b1b.svg)](https://arxiv.org/abs/2409.03522)<mark>Appeared on: 2024-09-06</mark> -  _20 pages, 7 figures, 1 appendix; submitted on behalf of the Euclid Collaboration_\n",
       "\n",
       "</div>\n",
       "<div id=\"authors\">\n",
       "\n",
       "E. Collaboration, et al. -- incl., <mark>K. Jahnke</mark>\n",
       "\n",
       "</div>\n",
       "<div id=\"abstract\">\n",
       "\n",
       "**Abstract:** To constrain models beyond $\\Lambda$ CDM, the development of the $\\Euclid$ analysis pipeline requires simulations that capture the nonlinear phenomenology of such models.  We present an overview of numerical methods and $N$ -body simulation codes developed to study the nonlinear regime of structure formation in alternative dark energy and modified gravity theories. We review a variety of numerical techniques and approximations employed in cosmological $N$ -body simulations to model the complex phenomenology of scenarios beyond $\\Lambda$ CDM. This includes discussions on solving nonlinear field equations, accounting for fifth forces, and implementing screening mechanisms. Furthermore, we conduct a code comparison exercise to assess the reliability and convergence of different simulation codes across a range of models. Our analysis demonstrates a high degree of agreement among the outputs of different simulation codes, providing confidence in current numerical methods for modelling cosmic structure formation beyond $\\Lambda$ CDM. We highlight recent advances made in simulating the nonlinear scales of structure formation, which are essential for leveraging the full scientific potential of the forthcoming observational data from the $\\Euclid$ mission.\n",
       "\n",
       "</div>\n",
       "\n",
       "<div id=\"div_fig1\">\n",
       "\n",
       "<img src=\"tmp_2409.03522/./Figures/Pk_comparison_LCDM.png\" alt=\"Fig2\" width=\"100%\"/>\n",
       "\n",
       "**Figure 2. -** Matter power spectra from simulations carried out with different codes (different line styles) for a $\\Lambda$CDM cosmology. The *left panels* show the spectra at redshift $z=1$ whereas the *right panels* show the spectra at redshift $z=0.667$. The *bottom panels* show the relative difference with respect to the simulation carried out with \\texttt{MG-Arepo}. (*fig:Pk_LCDM*)\n",
       "\n",
       "</div>\n",
       "<div id=\"div_fig2\">\n",
       "\n",
       "<img src=\"tmp_2409.03522/./Figures/CompCost_Summary.png\" alt=\"Fig1\" width=\"100%\"/>\n",
       "\n",
       "**Figure 1. -** Comparison of the computational costs of simulations run under different gravity models (labels on the $x$-axis) and with different codes (markers and colours as described in the legend). (*fig:CompCost*)\n",
       "\n",
       "</div>\n",
       "<div id=\"div_fig3\">\n",
       "\n",
       "<img src=\"tmp_2409.03522/./Figures/Bk_comparison_fR.png\" alt=\"Fig3\" width=\"100%\"/>\n",
       "\n",
       "**Figure 3. -** Amplification factor of the matter power spectra from simulations of two $f(R)$ scenarios, $\\bar{f}_{,R} = 10^{-5}$(F5, *top row*) and $\\bar{f}_{,R} = 10^{-6}$(F6, *bottom row*), relative to the reference $\\Lambda$CDM cosmology. The amplification factor $B_P = P/P_{\\Lambda\\mathrm{CDM}}$ is measured for different codes (different line styles) at two different redshifts, $z=1$(*left panels*) and $z=0.667$(*right panels*). The *bottom panel* of each plot shows the relative agreement of the individual measurements, using \\texttt{MG-Arepo} as a common reference. (*fig:Bk_fR*)\n",
       "\n",
       "</div><div id=\"qrcode\"><img src=https://api.qrserver.com/v1/create-qr-code/?size=100x100&data=\"https://arxiv.org/abs/2409.03522\"></div>"
      ],
      "text/plain": [
       "<IPython.core.display.Markdown object>"
      ]
     },
     "metadata": {},
     "output_type": "display_data"
    },
    {
     "data": {
      "text/markdown": [
       "<div class=\"macros\" style=\"visibility:hidden;\">\n",
       "$\\newcommand{\\ensuremath}{}$\n",
       "$\\newcommand{\\xspace}{}$\n",
       "$\\newcommand{\\object}[1]{\\texttt{#1}}$\n",
       "$\\newcommand{\\farcs}{{.}''}$\n",
       "$\\newcommand{\\farcm}{{.}'}$\n",
       "$\\newcommand{\\arcsec}{''}$\n",
       "$\\newcommand{\\arcmin}{'}$\n",
       "$\\newcommand{\\ion}[2]{#1#2}$\n",
       "$\\newcommand{\\textsc}[1]{\\textrm{#1}}$\n",
       "$\\newcommand{\\hl}[1]{\\textrm{#1}}$\n",
       "$\\newcommand{\\footnote}[1]{}$\n",
       "$\\newcommand{\\lcdm}{\\LambdaCDM\\xspace}$\n",
       "$\\newcommand{\\wcdm}{wCDM\\xspace}$\n",
       "$\\newcommand{\\om}{\\Omega_\\mathrm{m}}$\n",
       "$\\newcommand{\\ob}{\\Omega_\\mathrm{b}}$\n",
       "$\\newcommand{\\ol}{\\Omega_\\Lambda}$\n",
       "$\\newcommand{\\ode}{\\Omega_{\\rm de}}$\n",
       "$\\newcommand{\\odm}{\\Omega_{\\rm dm}}$\n",
       "$\\newcommand{\\fR}{f_\\mathrm{R}}$\n",
       "$\\newcommand{\\fRz}{\\overline{f_\\mathrm{R0}}}$\n",
       "$\\newcommand{\\horc}{H_0r_\\mathrm{c}}$\n",
       "$\\newcommand{\\de}{\\rm de}$\n",
       "$\\newcommand{\\neff}{N_{\\rm eff}}$\n",
       "$\\newcommand{\\kmsmpc}{  \\kmsMpc}$\n",
       "$\\newcommand{\\kpcoh}{  h^{-1}  \\mathrm{kpc}}$\n",
       "$\\newcommand{\\mpcoh}{  \\hMpc}$\n",
       "$\\newcommand{\\gpcoh}{  h^{-1}  \\mathrm{Gpc}}$\n",
       "$\\newcommand{\\gpcohcube}{  h^{-3}  \\mathrm{Gpc}^3}$\n",
       "$\\newcommand{\\homopc}{  h \\mathrm{Mpc}^{-1}}$\n",
       "$\\newcommand{\\msoh}{h^{-1} \\ensuremath{{M}_{\\odot}} }$\n",
       "$\\newcommand{\\energydensity}{u}$\n",
       "$\\newcommand{\\floor}{  \\mathrm{floor}}$\n",
       "$\\newcommand{\\euclid}{\\textit{Euclid}\\xspace}$\n",
       "$\\newcommand{\\PGadgetTwo}{\\texttt{p-GADGET2}\\xspace}$\n",
       "$\\newcommand{\\PGadgetThree}{\\texttt{p-GADGET3}\\xspace}$\n",
       "$\\newcommand{\\ECOSMOG}{\\texttt{ECOSMOG}\\xspace}$\n",
       "$\\newcommand{\\COLA}{\\texttt{MG-COLA}\\xspace}$\n",
       "$\\newcommand{\\RAMSES}{\\texttt{RAMSES}\\xspace}$\n",
       "$\\newcommand{\\FASTPM}{\\texttt{FastPM}\\xspace}$\n",
       "$\\newcommand{\\AREPO}{\\texttt{Arepo}\\xspace}$\n",
       "$\\newcommand{\\MGAREPO}{\\texttt{MG-Arepo}\\xspace}$\n",
       "$\\newcommand{\\CGADGET}{\\texttt{c-GADGET}\\xspace}$\n",
       "$\\newcommand{\\LGADGET}{\\texttt{L-GADGET}\\xspace}$\n",
       "$\\newcommand{\\GADGETTWO}{\\texttt{GADGET-2}\\xspace}$\n",
       "$\\newcommand{\\GADGET}{\\texttt{GADGET}\\xspace}$\n",
       "$\\newcommand{\\MGGADGET}{\\texttt{MG-GADGET}\\xspace}$\n",
       "$\\newcommand{\\GEVOLUTIONONETWO}{\\texttt{gevolution-1.2}\\xspace}$\n",
       "$\\newcommand{\\GIZMO}{\\texttt{GIZMO}\\xspace}$\n",
       "$\\newcommand{\\KEVOLUTION}{\\texttt{k-evolution}\\xspace}$\n",
       "$\\newcommand{\\COMPLEMENTARY}{\\textsc{Complementary}\\xspace}$\n",
       "$\\newcommand{\\DEMNUni}{\\textsc{DEMNUni}\\xspace}$\n",
       "$\\newcommand{\\RAYGAL}{\\textsc{Raygal}\\xspace}$\n",
       "$\\newcommand{\\ELEPHANT}{\\textsc{Elephant}\\xspace}$\n",
       "$\\newcommand{\\ColaHiRes}{\\textsc{COLA HiRes}\\xspace}$\n",
       "$\\newcommand{\\DUSTGRAIN}{\\textsc{DUSTGRAIN}\\xspace}$\n",
       "$\\newcommand{\\DUSTGRAINPATHFINDER}{\\textsc{DUSTGRAIN-PF}\\xspace}$\n",
       "$\\newcommand{\\CIDER}{\\textsc{CiDER}\\xspace}$\n",
       "$\\newcommand{\\DAKAR}{\\textsc{DAKAR}\\xspace}$\n",
       "$\\newcommand{\\DAKARTWO}{\\textsc{DAKAR2}\\xspace}$\n",
       "$\\newcommand{\\DAKARONEANDTWO}{\\textsc{DAKAR (1\\&2)}\\xspace}$\n",
       "$\\newcommand{\\ClusteringDE}{\\textsc{Clustering DE}\\xspace}$\n",
       "$\\newcommand{\\FORGE}{\\textsc{FORGE}\\xspace}$\n",
       "$\\newcommand{\\BRIDGE}{\\textsc{BRIDGE}\\xspace}$\n",
       "$\\newcommand{\\PNGUNITsim}{\\textsc{PNG-UNIT}\\xspace}$\n",
       "$\\newcommand{\\UNITsim}{\\textsc{UNIT}\\xspace}$\n",
       "$\\newcommand{\\rockstar}{\\texttt{Rockstar}\\xspace}$\n",
       "$\\newcommand{\\nbodykit}{\\texttt{nbodykit}\\xspace}$\n",
       "$\\newcommand{\\VIDE}{\\texttt{VIDE}\\xspace}$\n",
       "$\\newcommand{\\ZOBOV}{\\texttt{ZOBOV}\\xspace}$\n",
       "$\\newcommand{\\MPGRAFIC}{\\texttt{MPGRAFIC}\\xspace}$\n",
       "$\\newcommand{\\NGENIC}{\\texttt{N-GenIC}\\xspace}$\n",
       "$\\newcommand{\\TWOLPTIC}{\\texttt{2LPTic}\\xspace}$\n",
       "$\\newcommand{\\CAMB}{\\texttt{CAMB}\\xspace}$\n",
       "$\\newcommand{\\COMET}{\\texttt{COMET}\\xspace}$\n",
       "$\\newcommand{\\COLOSSUS}{\\texttt{COLOSSUS}\\xspace}$\n",
       "$\\newcommand{\\numpy}{\\texttt{NumPy}\\xspace}$\n",
       "$\\newcommand{\\pandas}{\\texttt{Pandas}\\xspace}$\n",
       "$\\newcommand{\\polars}{\\texttt{Polars}\\xspace}$\n",
       "$\\newcommand{\\gam}[1]{\\textcolor{darkgreen}{\\bf Gary: #1}}$\n",
       "$\\newcommand{\\MB}[1]{\\textcolor{blue}{\\bf MB: #1}}$\n",
       "$\\newcommand{\\BF}[1]{\\textcolor{olive}{\\bf BF: #1}}$\n",
       "$\\newcommand{\\PSC}[1]{\\textcolor{purple}{\\bf PSC: #1}}$\n",
       "$\\newcommand{\\PSCtext}[1]{\\textcolor{purple}{#1}}$\n",
       "$\\newcommand{\\zs}[1]{\\textcolor{brown}{#1}}$\n",
       "$\\newcommand{\\AMCLB}[1]{\\textcolor{orange}{\\bf AMCLB: #1}}$\n",
       "$\\newcommand{\\AMCLBtext}[1]{\\textcolor{orange}{#1}}$\n",
       "$\\newcommand{\\AK}[1]{\\textcolor{magenta}{#1}}$\n",
       "$\\newcommand{\\GR}[1]{\\textcolor{red}{#1}}$\n",
       "$\\newcommand$\n",
       "$\\newcommand{\\HAW}[1]{\\textcolor{red}{\\bf Hans: #1}}$\n",
       "$\\newcommand{\\orcid}[1]{\\orcidlink{#1}}$\n",
       "$\\newcommand$</div>\n",
       "\n",
       "\n",
       "\n",
       "<div id=\"title\">\n",
       "\n",
       "# $\\Euclid$ preparation\n",
       "\n",
       "</div>\n",
       "<div id=\"comments\">\n",
       "\n",
       "[![arXiv](https://img.shields.io/badge/arXiv-2409.03523-b31b1b.svg)](https://arxiv.org/abs/2409.03523)<mark>Appeared on: 2024-09-06</mark> -  _22 pages, 7 figures_\n",
       "\n",
       "</div>\n",
       "<div id=\"authors\">\n",
       "\n",
       "E. Collaboration, et al. -- incl., <mark>K. Jahnke</mark>\n",
       "\n",
       "</div>\n",
       "<div id=\"abstract\">\n",
       "\n",
       "**Abstract:** The $\\euclid$ mission will measure cosmological parameters with unprecedented precision. To distinguish between cosmological models, it is essential to generate realistic mock observables from cosmological simulations that were run in both the standard $\\Lambda$ -cold-dark-matter ( $\\lcdm$ ) paradigm and in many non-standard models beyond $\\lcdm$ .  We present the scientific results from a suite of cosmological $_ N_$ -body simulations using non-standard models including dynamical dark energy, _k_ -essence, interacting dark energy, modified gravity, massive neutrinos, and primordial non-Gaussianities. We investigate how these models affect the large-scale-structure formation and evolution in addition to providing synthetic observables that can be used to test and constrain these models with $\\euclid$ data.  We developed a custom pipeline based on the $\\rockstar$ halo finder and the $\\nbodykit$ large-scale structure toolkit to analyse the particle output of non-standard simulations and generate mock observables such as halo and void catalogues, mass density fields, and power spectra in a consistent way. We compare these observables with those from the standard $\\lcdm$ model and quantify the deviations.  We find that non-standard cosmological models can leave significant imprints on the synthetic observables that we have generated. Our results demonstrate that non-standard cosmological $_ N_$ -body simulations provide valuable insights into the physics of dark energy and dark matter, which is essential to maximising the scientific return of $\\euclid$ .\n",
       "\n",
       "</div>\n",
       "\n",
       "<div id=\"div_fig1\">\n",
       "\n",
       "<img src=\"tmp_2409.03523/./Figs/Pk_comparison_NewElephant.png\" alt=\"Fig5\" width=\"100%\"/>\n",
       "\n",
       "**Figure 5. -** Calculated matter and halo power spectra of the $\\ELEPHANT$ simulation suite in the mass bin $10^{12.7}$\\msoh$<M_{\\rm halo}<10^{13.2}$\\msoh$$. The solid lines represent the reference $\\lcdm$ simulations, while the dashed lines the results of the nDGP simulations. _Top left:_ Real-space power spectra for dark matter. The dots above the solid lines highlight the locations where the power spectrum is estimated. _Top right:_ Real-space power spectra for haloes. _Bottom left:_ Monopole of the halo power spectrum in redshift space. _Bottom right:_ Quadrupole of the halo power spectrum in redshift space. (*fig:ElephantPkComparison*)\n",
       "\n",
       "</div>\n",
       "<div id=\"div_fig2\">\n",
       "\n",
       "<img src=\"tmp_2409.03523/./Figs/Pk_comparison_Forge.png\" alt=\"Fig6\" width=\"100%\"/>\n",
       "\n",
       "**Figure 6. -** Calculated matter and halo power spectra from the $\\FORGE$ simulation suite in the mass bin $10^{12.7}$\\msoh$<M_{\\rm halo}<10^{13.2}$\\msoh$$. The solid lines represent the reference $\\lcdm$ simulations, while the dashed lines are the results of the nDGP simulations. _Top left:_ Real-space power spectra for dark matter. The dots above the solid lines highlight the locations where the power spectrum is estimated. _Top right:_ Real-space power spectra for haloes. _Bottom left:_ Monopole of the halo power spectrum in redshift space. _Bottom right:_ Quadrupole of the halo power spectrum in redshift space. (*fig:ForgePkComparison*)\n",
       "\n",
       "</div>\n",
       "<div id=\"div_fig3\">\n",
       "\n",
       "<img src=\"tmp_2409.03523/./Figs/Pk_comparison_CiDER.png\" alt=\"Fig7\" width=\"100%\"/>\n",
       "\n",
       "**Figure 7. -** Calculated matter and halo power spectra from the $\\CIDER$ simulation suite in the mass bin $10^{12.7}$\\msoh$<M_{\\rm halo}<10^{13.2}$\\msoh$$. The solid lines represent the reference $\\lcdm$ simulations, while the dashed lines are the results of the IDE simulations. _Top left:_ Real-space power spectra for dark matter. The dots above the solid lines highlight the locations where the power spectrum is estimated. _Top right:_ Real-space power spectra for haloes. _Bottom left:_ Monopole of the halo power spectrum in redshift space. _Bottom right:_ Quadrupole of the halo power spectrum in redshift space. (*fig:CiderPkComparison*)\n",
       "\n",
       "</div><div id=\"qrcode\"><img src=https://api.qrserver.com/v1/create-qr-code/?size=100x100&data=\"https://arxiv.org/abs/2409.03523\"></div>"
      ],
      "text/plain": [
       "<IPython.core.display.Markdown object>"
      ]
     },
     "metadata": {},
     "output_type": "display_data"
    },
    {
     "data": {
      "text/markdown": [
       "<div class=\"macros\" style=\"visibility:hidden;\">\n",
       "$\\newcommand{\\ensuremath}{}$\n",
       "$\\newcommand{\\xspace}{}$\n",
       "$\\newcommand{\\object}[1]{\\texttt{#1}}$\n",
       "$\\newcommand{\\farcs}{{.}''}$\n",
       "$\\newcommand{\\farcm}{{.}'}$\n",
       "$\\newcommand{\\arcsec}{''}$\n",
       "$\\newcommand{\\arcmin}{'}$\n",
       "$\\newcommand{\\ion}[2]{#1#2}$\n",
       "$\\newcommand{\\textsc}[1]{\\textrm{#1}}$\n",
       "$\\newcommand{\\hl}[1]{\\textrm{#1}}$\n",
       "$\\newcommand{\\footnote}[1]{}$\n",
       "$\\newcommand{\\bfpsi}{\\bm\\psi}$\n",
       "$\\newcommand{\\bfell}{\\bm\\ell}$\n",
       "$\\newcommand{\\bfn}{\\bm n}$\n",
       "$\\newcommand{\\bfth}{\\bm\\theta}$\n",
       "$\\newcommand{\\bfz}{\\bm z}$\n",
       "$\\newcommand{\\bfs}{\\bm s}$\n",
       "$\\newcommand{\\bfv}{\\bm v}$\n",
       "$\\newcommand{\\bfx}{\\bm x}$\n",
       "$\\newcommand{\\bfk}{\\bm k}$\n",
       "$\\newcommand{\\bfp}{\\bm p}$\n",
       "$\\newcommand{\\bfq}{\\bm q}$\n",
       "$\\newcommand{\\bfr}{\\bm r}$\n",
       "$\\newcommand{\\bfu}{\\bm u}$\n",
       "$\\newcommand{\\bfw}{\\bm w}$\n",
       "$\\newcommand{\\bfy}{\\bm y}$\n",
       "$\\newcommand{\\bfPhi}{\\bm\\Phi}$\n",
       "$\\newcommand{\\bfM}{\\bm M}$\n",
       "$\\newcommand{\\bfF}{\\bm F}$\n",
       "$\\newcommand{\\fnl}{f_{\\rm NL}}$\n",
       "$\\newcommand{\\gnl}{g_{\\rm NL}}$\n",
       "$\\newcommand{\\tdu}{\\widetilde{u}}$\n",
       "$\\newcommand{\\tdPhi}{\\widetilde{\\Phi}}$\n",
       "$\\newcommand{\\tdG}{\\widetilde{G}}$\n",
       "$\\newcommand{\\tdP}{\\widetilde{P}}$\n",
       "$\\newcommand{\\tdR}{\\widetilde{R}}$\n",
       "$\\newcommand{\\threextwo}{\\text{3\\times2pt}}$\n",
       "$\\newcommand{\\GCsp}{\\text{GC}\\ensuremath{_\\mathrm{sp}}}$\n",
       "$\\newcommand{\\GCph}{\\text{GC}\\ensuremath{_\\mathrm{ph}}}$\n",
       "$\\newcommand{\\XCph}{\\text{XC}\\ensuremath{_\\mathrm{ph}}}$\n",
       "$\\newcommand{\\Omegam}{\\ensuremath{\\Omega_{\\mathrm{m}}}}$\n",
       "$\\newcommand{\\Omegab}{\\ensuremath{\\Omega_{\\mathrm{b}}}}$\n",
       "$\\newcommand{\\Omegac}{\\ensuremath{\\Omega_{\\mathrm{c}}}}$\n",
       "$\\newcommand{\\Omeganu}{\\ensuremath{\\Omega_{\\nu}}}$\n",
       "$\\newcommand{\\OmegaDE}{\\ensuremath{\\Omega_{\\mathrm{DE}}}}$\n",
       "$\\newcommand{\\ns}{n_{\\mathrm{s}}}$\n",
       "$\\newcommand{\\lcdm}{\\ensuremath{\\Lambda\\mathrm{CDM}}}$\n",
       "$\\newcommand{\\logfr}{\\ensuremath{\\logten|f_{R0}|}}$\n",
       "$\\newcommand{\\fr}{\\ensuremath{|f_{R0}|}}$\n",
       "$\\newcommand{\\sg}{\\ensuremath{\\sigma_{8}}}$\n",
       "$\\newcommand{\\de}{\\mathrm{d}}$\n",
       "$\\newcommand{\\arepo}{\\texttt{Arepo}}$\n",
       "$\\newcommand{\\mgarepo}{\\texttt{MG-AREPO}}$\n",
       "$\\newcommand{\\ecosmog}{\\texttt{ECOSMOG}}$\n",
       "$\\newcommand{\\forge}{\\texttt{FORGE}}$\n",
       "$\\newcommand{\\react}{\\texttt{ReACT}}$\n",
       "$\\newcommand{\\emantis}{\\texttt{e-Mantis}}$\n",
       "$\\newcommand{\\ramses}{\\texttt{RAMSES}}$\n",
       "$\\newcommand{\\halofit}{\\texttt{halofit}}$\n",
       "$\\newcommand{\\montepython}{\\texttt{MontePython}}$\n",
       "$\\newcommand{\\bcemu}{\\texttt{BCemu}}$\n",
       "$\\newcommand{\\eetwo}{\\texttt{EuclidEmulator2}}$\n",
       "$\\newcommand{\\bacco}{\\texttt{Bacco}}$\n",
       "$\\newcommand{\\hmcode}{\\texttt{HMCode2020}}$\n",
       "$\\newcommand{\\fofrfitting}{\\texttt{fitting}}$\n",
       "$\\newcommand{\\dustgrain}{\\texttt{DUSTGRAIN}}$\n",
       "$\\newcommand{\\elephant}{\\texttt{ELEPHANT}}$\n",
       "$\\newcommand{\\cosmopower}{\\texttt{Cosmopower}}$\n",
       "$\\newcommand{\\mggadget}{\\texttt{MG-Gadget}}$\n",
       "$\\newcommand{\\orcid}[1]$</div>\n",
       "\n",
       "\n",
       "\n",
       "<div id=\"title\">\n",
       "\n",
       "# $\\Euclid$ preparation\n",
       "\n",
       "</div>\n",
       "<div id=\"comments\">\n",
       "\n",
       "[![arXiv](https://img.shields.io/badge/arXiv-2409.03524-b31b1b.svg)](https://arxiv.org/abs/2409.03524)<mark>Appeared on: 2024-09-06</mark> -  _24 pages, 16 figures, submitted on behalf of the Euclid Collaboration_\n",
       "\n",
       "</div>\n",
       "<div id=\"authors\">\n",
       "\n",
       "E. Collaboration, et al. -- incl., <mark>K. Jahnke</mark>\n",
       "\n",
       "</div>\n",
       "<div id=\"abstract\">\n",
       "\n",
       "**Abstract:** We study the constraint on $f(R)$ gravity that can be obtained by photometric primary probes of the $\\Euclid$ mission. Our focus is the dependence of the constraint on the theoretical modelling of the nonlinear matter power spectrum. In the Hu--Sawicki $f(R)$ gravity model, we consider four different predictions for the ratio between the power spectrum in $f(R)$ and that in $\\lcdm$ : a fitting formula, the halo model reaction approach, $\\react$ and two emulators based on dark matter only $_ N_$ -body simulations, $\\forge$ and $\\emantis$ . These predictions are added to the $\\montepython$ implementation to predict the angular power spectra for weak lensing (WL), photometric galaxy clustering and their cross-correlation. By running Markov Chain Monte Carlo, we compare constraints on parameters and investigate the bias of the recovered $f(R)$ parameter if the data are created by a different model. For the pessimistic setting of WL, one dimensional bias for the $f(R)$ parameter, $\\logfr$ , is found to be $0.5 \\sigma$ when $\\forge$ is used to create the synthetic data with $\\logfr =-5.301$ and fitted by $\\emantis$ . The impact of baryonic physics on WL is studied by using a baryonification emulator $\\bcemu$ . For the optimistic setting, the $f(R)$ parameter and two main baryon parameters are well constrained despite the degeneracies among these parameters. However, the difference in the nonlinear dark matter prediction can be compensated by the adjustment of baryon parameters, and the one-dimensional marginalised constraint on $\\logfr$ is biased. This bias can be avoided in the pessimistic setting at the expense of weaker constraints. For the pessimistic setting, using the $\\lcdm$ synthetic data for WL, we obtain the prior-independent upper limit of $\\logfr < -5.6$ . Finally, we implement a method to include theoretical errors to avoid the bias due to inaccuracies in the nonlinear matter power spectrum prediction.\n",
       "\n",
       "</div>\n",
       "\n",
       "<div id=\"div_fig1\">\n",
       "\n",
       "<img src=\"tmp_2409.03524/././plots/WL_optbar1_prior.png\" alt=\"Fig13.1\" width=\"50%\"/><img src=\"tmp_2409.03524/././plots/WL_optbar2_prior.png\" alt=\"Fig13.2\" width=\"50%\"/>\n",
       "\n",
       "**Figure 13. -** Constraints on parameters from the WL optimistic setting with baryons. We show the case where $\\emantis$  is used to create both the data and fitting and the case where $\\forge$  is used to create the data and it is fitted by $\\emantis$ . We also include the case where we impose a Gaussian prior on $\\logten M_{\\rm c}$ with the width of 0.2 in the case of $\\forge$  fiducial data.\n",
       "  _Left panel_: Constraints on baryon parameters. _Right panel_: Constraints on cosmological parameters. (*fig:optbar*)\n",
       "\n",
       "</div>\n",
       "<div id=\"div_fig2\">\n",
       "\n",
       "<img src=\"tmp_2409.03524/././plots/baryon.png\" alt=\"Fig12\" width=\"100%\"/>\n",
       "\n",
       "**Figure 12. -** The effect of $\\logfr$, two baryonic parameters $\\logten M_{\\rm c}$ and $\\theta_{\\rm ej}$, and $h$ on the WL angular power spectrum in bin 10. The dotted lines show predictions of $\\emantis$  with varying these parameters individually. The plot shows the ratio to the $\\lcdm$  power spectrum. The plot includes the prediction of $\\forge$  and $\\emantis$  with the fiducial parameters and the $\\emantis$  prediction using the best-fit values\n",
       "  ($\\logfr=-5.765, 100 h= 65.736, \\logten(M_{\\rm c})=12.999$)\n",
       "with the data created by $\\forge$ . We can see that the $\\emantis$  prediction can fit the $\\forge$  by adjusting these parameters. We note that the cosmological parameters for the $\\lcdm$  power spectrum $C_{\\ell}^{$\\lcdm$}$ is fixed to be the fiducial ones when we vary $100  h$.  (*fig:baryoneffect*)\n",
       "\n",
       "</div>\n",
       "<div id=\"div_fig3\">\n",
       "\n",
       "<img src=\"tmp_2409.03524/././plots/WL_pes_emantis.png\" alt=\"Fig4\" width=\"100%\"/>\n",
       "\n",
       "**Figure 4. -** Bias due to different nonlinear modelling. The synthetic data are created by $\\emantis$  and fitted by two different models in WL pessimistic case without baryons.  (*fig:biasemantis*)\n",
       "\n",
       "</div><div id=\"qrcode\"><img src=https://api.qrserver.com/v1/create-qr-code/?size=100x100&data=\"https://arxiv.org/abs/2409.03524\"></div>"
      ],
      "text/plain": [
       "<IPython.core.display.Markdown object>"
      ]
     },
     "metadata": {},
     "output_type": "display_data"
    },
    {
     "data": {
      "text/markdown": [
       "<div class=\"macros\" style=\"visibility:hidden;\">\n",
       "$\\newcommand{\\ensuremath}{}$\n",
       "$\\newcommand{\\xspace}{}$\n",
       "$\\newcommand{\\object}[1]{\\texttt{#1}}$\n",
       "$\\newcommand{\\farcs}{{.}''}$\n",
       "$\\newcommand{\\farcm}{{.}'}$\n",
       "$\\newcommand{\\arcsec}{''}$\n",
       "$\\newcommand{\\arcmin}{'}$\n",
       "$\\newcommand{\\ion}[2]{#1#2}$\n",
       "$\\newcommand{\\textsc}[1]{\\textrm{#1}}$\n",
       "$\\newcommand{\\hl}[1]{\\textrm{#1}}$\n",
       "$\\newcommand{\\footnote}[1]{}$\n",
       "$\\newcommand{\\apc}[1]{ \\textcolor{purple}{\\textbf{APC:} #1}}$\n",
       "$\\newcommand{\\apcedit}[1]{\\textbf{#1}}$</div>\n",
       "\n",
       "\n",
       "\n",
       "<div id=\"title\">\n",
       "\n",
       "# Extragalactic Stellar Tidal Streams: Observations meet Simulation\n",
       "\n",
       "</div>\n",
       "<div id=\"comments\">\n",
       "\n",
       "[![arXiv](https://img.shields.io/badge/arXiv-2409.03585-b31b1b.svg)](https://arxiv.org/abs/2409.03585)<mark>Appeared on: 2024-09-06</mark> -  _18 pages, 17 figures_\n",
       "\n",
       "</div>\n",
       "<div id=\"authors\">\n",
       "\n",
       "J. Miro-Carretero, et al. -- incl., <mark>A. Pillepich</mark>\n",
       "\n",
       "</div>\n",
       "<div id=\"abstract\">\n",
       "\n",
       "**Abstract:** According to the well established hierarchical framework for galaxy evolution, galaxies grow through mergers with other galaxies and the $\\Lambda$ CDM cosmological model predicts that the stellar halos of galaxies are rich in remnants from minor mergers. The _Stellar Streams Legacy Survey_ has provided a first release of a catalogue with a statistically significant sample of stellar streams in the Local Universe that can be used to study minor mergers and test the cosmological models. The main objective is to compare the results of the observations of stellar tidal streams with the predictions of state-of-the-art cosmological simulations regarding the formation of stellar streams up to a redshift z < 0.02, according to the $\\Lambda$ CDM model. We use the predictions of the cosmological simulations _Copernicus Complexio, TNG50 of the IllustrisTNG project and Auriga_ to generate 225 mock-images of nearby halos at a distance of 70 Mpc, and search for stellar streams. We compare the obtained stream frequency and characteristics with those obtained from the _Stellar Streams Legacy Survey_ . We find  good agreement between the results of analysing real images from the _Dark Energy Survey_ and mock-images from cosmological simulations. We obtained predictions for the detection rate of stellar streams to a surface brightness limit of 35 mag arcsec $^{-2}$ The cosmological simulations predict that for a surface brightness limit of 32 mag arcsec $^{-2}$ a frequency of almost 70 \\% in the detection of streams around galaxies can be achieved.\n",
       "\n",
       "</div>\n",
       "\n",
       "<div id=\"div_fig1\">\n",
       "\n",
       "<img src=\"tmp_2409.03585/./Histogram_Mstar_DES-COCO-TNG50-Auriga_240816-2.jpg\" alt=\"Fig2\" width=\"100%\"/>\n",
       "\n",
       "**Figure 2. -** Histogram of\n",
       "  $\\log_{10} {M_\\star}$\n",
       "  for the observed (grey) and simulated galaxy samples (blue, red and green for COCO, IllustrisTNG50 and Auriga, respectively).\n",
       "  The _black vertical line_ shows the average of the DES sample ($\\log_{10} (M_{\\star} / \\mathrm{M_{\\odot}} = 10.00$) and the _dark grey vertical lines_ the\n",
       "  $\\pm$ 1$\\sigma$ range around that average, [$9.62, 10.38 $] . The _light grey vertical line_ shows the average of the DES sample $+2\\sigma = 10.76$.\n",
       "  The maximum value of each histogram has been re-scaled to 1 for this comparison (*fig-stellarmassCOCODES*)\n",
       "\n",
       "</div>\n",
       "<div id=\"div_fig2\">\n",
       "\n",
       "<img src=\"tmp_2409.03585/./Histogram_Stellar-Mass_DES_CoCo_sample.jpg\" alt=\"Fig5\" width=\"100%\"/>\n",
       "\n",
       "**Figure 5. -** Distribution of host stellar mass in the DES sample and in the the COCO simulations within the selected stellar mass range. (*fig-histogramstelllarmass*)\n",
       "\n",
       "</div>\n",
       "<div id=\"div_fig3\">\n",
       "\n",
       "<img src=\"tmp_2409.03585/./AURIGA_TNG50_COCO_DES_Stream-Detecttability_240816.jpg\" alt=\"Fig6\" width=\"100%\"/>\n",
       "\n",
       "**Figure 6. -** Detection rate curves for the COCO, IllustrisTNG50 and Auriga cosmological simulations and the detection rate observed for the DES sample (_black square_ indicates the dispersion in surface brightness limit of the DES sample and the dispersion in the detection rate according to a binomial distribution, see \\citet{miro-carretero2024}). The percentage of the streams detected by visual inspection is plotted versus the surface brightness limit at which such detection was possible. The bars indicate the Poisson confidence interval. (*fig-comparisondesonlyetectioncurve*)\n",
       "\n",
       "</div><div id=\"qrcode\"><img src=https://api.qrserver.com/v1/create-qr-code/?size=100x100&data=\"https://arxiv.org/abs/2409.03585\"></div>"
      ],
      "text/plain": [
       "<IPython.core.display.Markdown object>"
      ]
     },
     "metadata": {},
     "output_type": "display_data"
    }
   ],
   "source": [
    "[display(Markdown(k[1])) for k in documents];"
   ]
  },
  {
   "cell_type": "markdown",
   "id": "873873a4",
   "metadata": {
    "papermill": {
     "duration": 0.005535,
     "end_time": "2024-09-06T04:12:17.035266",
     "exception": false,
     "start_time": "2024-09-06T04:12:17.029731",
     "status": "completed"
    },
    "tags": []
   },
   "source": [
    "# Create HTML index"
   ]
  },
  {
   "cell_type": "code",
   "execution_count": 10,
   "id": "cf665672",
   "metadata": {
    "execution": {
     "iopub.execute_input": "2024-09-06T04:12:17.047560Z",
     "iopub.status.busy": "2024-09-06T04:12:17.047072Z",
     "iopub.status.idle": "2024-09-06T04:12:17.054443Z",
     "shell.execute_reply": "2024-09-06T04:12:17.053907Z"
    },
    "papermill": {
     "duration": 0.014978,
     "end_time": "2024-09-06T04:12:17.055789",
     "exception": false,
     "start_time": "2024-09-06T04:12:17.040811",
     "status": "completed"
    },
    "tags": []
   },
   "outputs": [
    {
     "name": "stdout",
     "output_type": "stream",
     "text": [
      "175  publications files modified in the last 7 days.\n"
     ]
    }
   ],
   "source": [
    "from datetime import datetime, timedelta, timezone\n",
    "from glob import glob\n",
    "import os\n",
    "\n",
    "files = glob('_build/html/*.md')\n",
    "days = 7\n",
    "now = datetime.today()\n",
    "res = []\n",
    "for fk in files:\n",
    "    stat_result = os.stat(fk).st_ctime\n",
    "    modified = datetime.fromtimestamp(stat_result, tz=timezone.utc).replace(tzinfo=None)\n",
    "    delta = now.today() - modified\n",
    "    if delta <= timedelta(days=days):\n",
    "        res.append((delta.seconds, fk))\n",
    "res = [k[1] for k in reversed(sorted(res, key=lambda x:x[1]))]\n",
    "npub = len(res)\n",
    "print(len(res), f\" publications files modified in the last {days:d} days.\")\n",
    "# [ print('\\t', k) for k in res ];"
   ]
  },
  {
   "cell_type": "code",
   "execution_count": 11,
   "id": "015de740",
   "metadata": {
    "execution": {
     "iopub.execute_input": "2024-09-06T04:12:17.068294Z",
     "iopub.status.busy": "2024-09-06T04:12:17.067903Z",
     "iopub.status.idle": "2024-09-06T04:12:17.082199Z",
     "shell.execute_reply": "2024-09-06T04:12:17.081534Z"
    },
    "papermill": {
     "duration": 0.021967,
     "end_time": "2024-09-06T04:12:17.083470",
     "exception": false,
     "start_time": "2024-09-06T04:12:17.061503",
     "status": "completed"
    },
    "tags": []
   },
   "outputs": [
    {
     "name": "stdout",
     "output_type": "stream",
     "text": [
      "7  publications in the last 7 days.\n"
     ]
    }
   ],
   "source": [
    "import datetime\n",
    "from glob import glob\n",
    "\n",
    "def get_last_n_days(lst, days=1):\n",
    "    \"\"\" Get the documents from the last n days \"\"\"\n",
    "    sorted_lst = sorted(lst, key=lambda x: x[1], reverse=True)\n",
    "    for fname, date in sorted_lst:\n",
    "        if date >= str(datetime.date.today() - datetime.timedelta(days=days)):\n",
    "            yield fname\n",
    "\n",
    "def extract_appearance_dates(lst_file):\n",
    "    dates = []\n",
    "\n",
    "    def get_date(line):\n",
    "        return line\\\n",
    "            .split('Appeared on:')[-1]\\\n",
    "            .split('</mark>')[0].strip()\n",
    "\n",
    "    for fname in lst:\n",
    "        with open(fname, 'r') as f:\n",
    "            found_date = False\n",
    "            for line in f:\n",
    "                if not found_date:\n",
    "                    if \"Appeared on\" in line:\n",
    "                        found_date = True\n",
    "                        dates.append((fname, get_date(line)))\n",
    "                else:\n",
    "                    break\n",
    "    return dates\n",
    "\n",
    "from glob import glob\n",
    "lst = glob('_build/html/*md')\n",
    "days = 7\n",
    "dates = extract_appearance_dates(lst)\n",
    "res = list(get_last_n_days(dates, days))\n",
    "npub = len(res)\n",
    "print(len(res), f\" publications in the last {days:d} days.\")"
   ]
  },
  {
   "cell_type": "code",
   "execution_count": 12,
   "id": "52ca0208",
   "metadata": {
    "execution": {
     "iopub.execute_input": "2024-09-06T04:12:17.096060Z",
     "iopub.status.busy": "2024-09-06T04:12:17.095706Z",
     "iopub.status.idle": "2024-09-06T04:12:17.100580Z",
     "shell.execute_reply": "2024-09-06T04:12:17.099942Z"
    },
    "papermill": {
     "duration": 0.012699,
     "end_time": "2024-09-06T04:12:17.101985",
     "exception": false,
     "start_time": "2024-09-06T04:12:17.089286",
     "status": "completed"
    },
    "scrolled": false,
    "tags": []
   },
   "outputs": [],
   "source": [
    "def create_carousel(npub=4):\n",
    "    \"\"\" Generate the HTML code for a carousel with `npub` slides \"\"\"\n",
    "    carousel = [\"\"\"  <div class=\"carousel\" \"\"\",\n",
    "                \"\"\"       data-flickity='{ \"autoPlay\": 10000, \"adaptiveHeight\": true, \"resize\": true, \"wrapAround\": true, \"pauseAutoPlayOnHover\": true, \"groupCells\": 1 }' id=\"asyncTypeset\">\"\"\"\n",
    "                ]\n",
    "    \n",
    "    item_str = \"\"\"    <div class=\"carousel-cell\"> <div id=\"slide{k}\" class=\"md_view\">Content {k}</div> </div>\"\"\"\n",
    "    for k in range(1, npub + 1):\n",
    "        carousel.append(item_str.format(k=k))\n",
    "    carousel.append(\"  </div>\")\n",
    "    return '\\n'.join(carousel)\n",
    "\n",
    "def create_grid(npub=4):\n",
    "    \"\"\" Generate the HTML code for a flat grid with `npub` slides \"\"\"\n",
    "    grid = [\"\"\"  <div class=\"grid\"> \"\"\",\n",
    "                ]\n",
    "    \n",
    "    item_str = \"\"\"    <div class=\"grid-item\"> <div id=\"slide{k}\" class=\"md_view\">Content {k}</div> </div>\"\"\"\n",
    "    for k in range(1, npub + 1):\n",
    "        grid.append(item_str.format(k=k))\n",
    "    grid.append(\"  </div>\")\n",
    "    return '\\n'.join(grid)"
   ]
  },
  {
   "cell_type": "code",
   "execution_count": 13,
   "id": "a6eac5b6",
   "metadata": {
    "execution": {
     "iopub.execute_input": "2024-09-06T04:12:17.114749Z",
     "iopub.status.busy": "2024-09-06T04:12:17.114211Z",
     "iopub.status.idle": "2024-09-06T04:12:17.119207Z",
     "shell.execute_reply": "2024-09-06T04:12:17.118597Z"
    },
    "papermill": {
     "duration": 0.012666,
     "end_time": "2024-09-06T04:12:17.120470",
     "exception": false,
     "start_time": "2024-09-06T04:12:17.107804",
     "status": "completed"
    },
    "scrolled": false,
    "tags": []
   },
   "outputs": [],
   "source": [
    "carousel = create_carousel(npub)\n",
    "docs = ', '.join(['\"{0:s}\"'.format(k.split('/')[-1]) for k in res])\n",
    "slides = ', '.join([f'\"slide{k}\"' for k in range(1, npub + 1)])\n",
    "\n",
    "with open(\"daily_template.html\", \"r\") as tpl:\n",
    "    page = tpl.read()\n",
    "    page = page.replace(\"{%-- carousel:s --%}\", carousel)\\\n",
    "               .replace(\"{%-- suptitle:s --%}\",  \"7-day archives\" )\\\n",
    "               .replace(\"{%-- docs:s --%}\", docs)\\\n",
    "               .replace(\"{%-- slides:s --%}\", slides)\n",
    "    \n",
    "with open(\"_build/html/index_7days.html\", 'w') as fout:\n",
    "    fout.write(page)"
   ]
  },
  {
   "cell_type": "code",
   "execution_count": 14,
   "id": "adc1a1ec",
   "metadata": {
    "execution": {
     "iopub.execute_input": "2024-09-06T04:12:17.133287Z",
     "iopub.status.busy": "2024-09-06T04:12:17.132909Z",
     "iopub.status.idle": "2024-09-06T04:12:17.139155Z",
     "shell.execute_reply": "2024-09-06T04:12:17.138577Z"
    },
    "papermill": {
     "duration": 0.013992,
     "end_time": "2024-09-06T04:12:17.140406",
     "exception": false,
     "start_time": "2024-09-06T04:12:17.126414",
     "status": "completed"
    },
    "tags": []
   },
   "outputs": [
    {
     "name": "stdout",
     "output_type": "stream",
     "text": [
      "4  publications in the last day.\n"
     ]
    }
   ],
   "source": [
    "# redo for today\n",
    "days = 1\n",
    "res = list(get_last_n_days(dates, days))\n",
    "npub = len(res)\n",
    "print(len(res), f\" publications in the last day.\")\n",
    "\n",
    "carousel = create_carousel(npub)\n",
    "docs = ', '.join(['\"{0:s}\"'.format(k.split('/')[-1]) for k in res])\n",
    "slides = ', '.join([f'\"slide{k}\"' for k in range(1, npub + 1)])\n",
    "\n",
    "with open(\"daily_template.html\", \"r\") as tpl:\n",
    "    page = tpl.read()\n",
    "    page = page.replace(\"{%-- carousel:s --%}\", carousel)\\\n",
    "               .replace(\"{%-- suptitle:s --%}\",  \"Daily\" )\\\n",
    "               .replace(\"{%-- docs:s --%}\", docs)\\\n",
    "               .replace(\"{%-- slides:s --%}\", slides)\n",
    "    \n",
    "# print(carousel, docs, slides)\n",
    "# print(page)\n",
    "with open(\"_build/html/index_daily.html\", 'w') as fout:\n",
    "    fout.write(page)"
   ]
  },
  {
   "cell_type": "code",
   "execution_count": 15,
   "id": "00eece82",
   "metadata": {
    "execution": {
     "iopub.execute_input": "2024-09-06T04:12:17.153215Z",
     "iopub.status.busy": "2024-09-06T04:12:17.152849Z",
     "iopub.status.idle": "2024-09-06T04:12:17.159082Z",
     "shell.execute_reply": "2024-09-06T04:12:17.158482Z"
    },
    "papermill": {
     "duration": 0.01401,
     "end_time": "2024-09-06T04:12:17.160429",
     "exception": false,
     "start_time": "2024-09-06T04:12:17.146419",
     "status": "completed"
    },
    "scrolled": false,
    "tags": []
   },
   "outputs": [
    {
     "name": "stdout",
     "output_type": "stream",
     "text": [
      "6  6 publications selected.\n"
     ]
    }
   ],
   "source": [
    "# Create the flat grid of the last N papers (fixed number regardless of dates)\n",
    "from itertools import islice \n",
    "\n",
    "npub = 6\n",
    "res = [k[0] for k in (islice(reversed(sorted(dates, key=lambda x: x[1])), 6))]\n",
    "print(len(res), f\" {npub} publications selected.\")\n",
    "\n",
    "grid = create_grid(npub)\n",
    "docs = ', '.join(['\"{0:s}\"'.format(k.split('/')[-1]) for k in res])\n",
    "slides = ', '.join([f'\"slide{k}\"' for k in range(1, npub + 1)])\n",
    "\n",
    "with open(\"grid_template.html\", \"r\") as tpl:\n",
    "    page = tpl.read()\n",
    "    page = page.replace(\"{%-- grid-content:s --%}\", grid)\\\n",
    "               .replace(\"{%-- suptitle:s --%}\",  f\"Last {npub:,d} papers\" )\\\n",
    "               .replace(\"{%-- docs:s --%}\", docs)\\\n",
    "               .replace(\"{%-- slides:s --%}\", slides)\n",
    "    \n",
    "# print(grid, docs, slides)\n",
    "# print(page)\n",
    "with open(\"_build/html/index_npub_grid.html\", 'w') as fout:\n",
    "    fout.write(page)"
   ]
  }
 ],
 "metadata": {
  "kernelspec": {
   "display_name": "Python 3 (ipykernel)",
   "language": "python",
   "name": "python3"
  },
  "language_info": {
   "codemirror_mode": {
    "name": "ipython",
    "version": 3
   },
   "file_extension": ".py",
   "mimetype": "text/x-python",
   "name": "python",
   "nbconvert_exporter": "python",
   "pygments_lexer": "ipython3",
   "version": "3.9.19"
  },
  "papermill": {
   "default_parameters": {},
   "duration": 157.428838,
   "end_time": "2024-09-06T04:12:17.382608",
   "environment_variables": {},
   "exception": null,
   "input_path": "MPIA daily digest.ipynb",
   "output_path": "log.ipynb",
   "parameters": {},
   "start_time": "2024-09-06T04:09:39.953770",
   "version": "2.6.0"
  },
  "vscode": {
   "interpreter": {
    "hash": "aee8b7b246df8f9039afb4144a1f6fd8d2ca17a180786b69acc140d282b71a49"
   }
  },
  "widgets": {
   "application/vnd.jupyter.widget-state+json": {
    "state": {
     "0aae7265e9ee45bc9086cfd3df4adc29": {
      "model_module": "@jupyter-widgets/controls",
      "model_module_version": "2.0.0",
      "model_name": "HTMLStyleModel",
      "state": {
       "_model_module": "@jupyter-widgets/controls",
       "_model_module_version": "2.0.0",
       "_model_name": "HTMLStyleModel",
       "_view_count": null,
       "_view_module": "@jupyter-widgets/base",
       "_view_module_version": "2.0.0",
       "_view_name": "StyleView",
       "background": null,
       "description_width": "",
       "font_size": null,
       "text_color": null
      }
     },
     "260a4fa08da1451f8113406b8b93e9c0": {
      "model_module": "@jupyter-widgets/controls",
      "model_module_version": "2.0.0",
      "model_name": "FloatProgressModel",
      "state": {
       "_dom_classes": [],
       "_model_module": "@jupyter-widgets/controls",
       "_model_module_version": "2.0.0",
       "_model_name": "FloatProgressModel",
       "_view_count": null,
       "_view_module": "@jupyter-widgets/controls",
       "_view_module_version": "2.0.0",
       "_view_name": "ProgressView",
       "bar_style": "success",
       "description": "",
       "description_allow_html": false,
       "layout": "IPY_MODEL_9c90588f8d9a42c4b297c4459de554ac",
       "max": 6.0,
       "min": 0.0,
       "orientation": "horizontal",
       "style": "IPY_MODEL_8ebf1d0163b8462398388ab902210918",
       "tabbable": null,
       "tooltip": null,
       "value": 6.0
      }
     },
     "3803225ece8f453ab99f29435e0de752": {
      "model_module": "@jupyter-widgets/controls",
      "model_module_version": "2.0.0",
      "model_name": "HTMLModel",
      "state": {
       "_dom_classes": [],
       "_model_module": "@jupyter-widgets/controls",
       "_model_module_version": "2.0.0",
       "_model_name": "HTMLModel",
       "_view_count": null,
       "_view_module": "@jupyter-widgets/controls",
       "_view_module_version": "2.0.0",
       "_view_name": "HTMLView",
       "description": "",
       "description_allow_html": false,
       "layout": "IPY_MODEL_5b5b9481618d45ec9a2be43146504220",
       "placeholder": "​",
       "style": "IPY_MODEL_f788bcec7ce1473e96ef102fa57fb393",
       "tabbable": null,
       "tooltip": null,
       "value": " 6/6 [02:18&lt;00:00, 27.19s/it]"
      }
     },
     "5b5b9481618d45ec9a2be43146504220": {
      "model_module": "@jupyter-widgets/base",
      "model_module_version": "2.0.0",
      "model_name": "LayoutModel",
      "state": {
       "_model_module": "@jupyter-widgets/base",
       "_model_module_version": "2.0.0",
       "_model_name": "LayoutModel",
       "_view_count": null,
       "_view_module": "@jupyter-widgets/base",
       "_view_module_version": "2.0.0",
       "_view_name": "LayoutView",
       "align_content": null,
       "align_items": null,
       "align_self": null,
       "border_bottom": null,
       "border_left": null,
       "border_right": null,
       "border_top": null,
       "bottom": null,
       "display": null,
       "flex": null,
       "flex_flow": null,
       "grid_area": null,
       "grid_auto_columns": null,
       "grid_auto_flow": null,
       "grid_auto_rows": null,
       "grid_column": null,
       "grid_gap": null,
       "grid_row": null,
       "grid_template_areas": null,
       "grid_template_columns": null,
       "grid_template_rows": null,
       "height": null,
       "justify_content": null,
       "justify_items": null,
       "left": null,
       "margin": null,
       "max_height": null,
       "max_width": null,
       "min_height": null,
       "min_width": null,
       "object_fit": null,
       "object_position": null,
       "order": null,
       "overflow": null,
       "padding": null,
       "right": null,
       "top": null,
       "visibility": null,
       "width": null
      }
     },
     "734b6a53056040cbb0fdc2e43541eb5a": {
      "model_module": "@jupyter-widgets/controls",
      "model_module_version": "2.0.0",
      "model_name": "HBoxModel",
      "state": {
       "_dom_classes": [],
       "_model_module": "@jupyter-widgets/controls",
       "_model_module_version": "2.0.0",
       "_model_name": "HBoxModel",
       "_view_count": null,
       "_view_module": "@jupyter-widgets/controls",
       "_view_module_version": "2.0.0",
       "_view_name": "HBoxView",
       "box_style": "",
       "children": [
        "IPY_MODEL_7aeba7fd4f8743228ec7dd25cd5dbc28",
        "IPY_MODEL_260a4fa08da1451f8113406b8b93e9c0",
        "IPY_MODEL_3803225ece8f453ab99f29435e0de752"
       ],
       "layout": "IPY_MODEL_c5c7b84ddeff4c018c312c49dc716a2b",
       "tabbable": null,
       "tooltip": null
      }
     },
     "7aeba7fd4f8743228ec7dd25cd5dbc28": {
      "model_module": "@jupyter-widgets/controls",
      "model_module_version": "2.0.0",
      "model_name": "HTMLModel",
      "state": {
       "_dom_classes": [],
       "_model_module": "@jupyter-widgets/controls",
       "_model_module_version": "2.0.0",
       "_model_name": "HTMLModel",
       "_view_count": null,
       "_view_module": "@jupyter-widgets/controls",
       "_view_module_version": "2.0.0",
       "_view_name": "HTMLView",
       "description": "",
       "description_allow_html": false,
       "layout": "IPY_MODEL_f430e72ea56e4a43ae5c9a589813e0c1",
       "placeholder": "​",
       "style": "IPY_MODEL_0aae7265e9ee45bc9086cfd3df4adc29",
       "tabbable": null,
       "tooltip": null,
       "value": "100%"
      }
     },
     "8ebf1d0163b8462398388ab902210918": {
      "model_module": "@jupyter-widgets/controls",
      "model_module_version": "2.0.0",
      "model_name": "ProgressStyleModel",
      "state": {
       "_model_module": "@jupyter-widgets/controls",
       "_model_module_version": "2.0.0",
       "_model_name": "ProgressStyleModel",
       "_view_count": null,
       "_view_module": "@jupyter-widgets/base",
       "_view_module_version": "2.0.0",
       "_view_name": "StyleView",
       "bar_color": null,
       "description_width": ""
      }
     },
     "9c90588f8d9a42c4b297c4459de554ac": {
      "model_module": "@jupyter-widgets/base",
      "model_module_version": "2.0.0",
      "model_name": "LayoutModel",
      "state": {
       "_model_module": "@jupyter-widgets/base",
       "_model_module_version": "2.0.0",
       "_model_name": "LayoutModel",
       "_view_count": null,
       "_view_module": "@jupyter-widgets/base",
       "_view_module_version": "2.0.0",
       "_view_name": "LayoutView",
       "align_content": null,
       "align_items": null,
       "align_self": null,
       "border_bottom": null,
       "border_left": null,
       "border_right": null,
       "border_top": null,
       "bottom": null,
       "display": null,
       "flex": null,
       "flex_flow": null,
       "grid_area": null,
       "grid_auto_columns": null,
       "grid_auto_flow": null,
       "grid_auto_rows": null,
       "grid_column": null,
       "grid_gap": null,
       "grid_row": null,
       "grid_template_areas": null,
       "grid_template_columns": null,
       "grid_template_rows": null,
       "height": null,
       "justify_content": null,
       "justify_items": null,
       "left": null,
       "margin": null,
       "max_height": null,
       "max_width": null,
       "min_height": null,
       "min_width": null,
       "object_fit": null,
       "object_position": null,
       "order": null,
       "overflow": null,
       "padding": null,
       "right": null,
       "top": null,
       "visibility": null,
       "width": null
      }
     },
     "c5c7b84ddeff4c018c312c49dc716a2b": {
      "model_module": "@jupyter-widgets/base",
      "model_module_version": "2.0.0",
      "model_name": "LayoutModel",
      "state": {
       "_model_module": "@jupyter-widgets/base",
       "_model_module_version": "2.0.0",
       "_model_name": "LayoutModel",
       "_view_count": null,
       "_view_module": "@jupyter-widgets/base",
       "_view_module_version": "2.0.0",
       "_view_name": "LayoutView",
       "align_content": null,
       "align_items": null,
       "align_self": null,
       "border_bottom": null,
       "border_left": null,
       "border_right": null,
       "border_top": null,
       "bottom": null,
       "display": null,
       "flex": null,
       "flex_flow": null,
       "grid_area": null,
       "grid_auto_columns": null,
       "grid_auto_flow": null,
       "grid_auto_rows": null,
       "grid_column": null,
       "grid_gap": null,
       "grid_row": null,
       "grid_template_areas": null,
       "grid_template_columns": null,
       "grid_template_rows": null,
       "height": null,
       "justify_content": null,
       "justify_items": null,
       "left": null,
       "margin": null,
       "max_height": null,
       "max_width": null,
       "min_height": null,
       "min_width": null,
       "object_fit": null,
       "object_position": null,
       "order": null,
       "overflow": null,
       "padding": null,
       "right": null,
       "top": null,
       "visibility": null,
       "width": null
      }
     },
     "f430e72ea56e4a43ae5c9a589813e0c1": {
      "model_module": "@jupyter-widgets/base",
      "model_module_version": "2.0.0",
      "model_name": "LayoutModel",
      "state": {
       "_model_module": "@jupyter-widgets/base",
       "_model_module_version": "2.0.0",
       "_model_name": "LayoutModel",
       "_view_count": null,
       "_view_module": "@jupyter-widgets/base",
       "_view_module_version": "2.0.0",
       "_view_name": "LayoutView",
       "align_content": null,
       "align_items": null,
       "align_self": null,
       "border_bottom": null,
       "border_left": null,
       "border_right": null,
       "border_top": null,
       "bottom": null,
       "display": null,
       "flex": null,
       "flex_flow": null,
       "grid_area": null,
       "grid_auto_columns": null,
       "grid_auto_flow": null,
       "grid_auto_rows": null,
       "grid_column": null,
       "grid_gap": null,
       "grid_row": null,
       "grid_template_areas": null,
       "grid_template_columns": null,
       "grid_template_rows": null,
       "height": null,
       "justify_content": null,
       "justify_items": null,
       "left": null,
       "margin": null,
       "max_height": null,
       "max_width": null,
       "min_height": null,
       "min_width": null,
       "object_fit": null,
       "object_position": null,
       "order": null,
       "overflow": null,
       "padding": null,
       "right": null,
       "top": null,
       "visibility": null,
       "width": null
      }
     },
     "f788bcec7ce1473e96ef102fa57fb393": {
      "model_module": "@jupyter-widgets/controls",
      "model_module_version": "2.0.0",
      "model_name": "HTMLStyleModel",
      "state": {
       "_model_module": "@jupyter-widgets/controls",
       "_model_module_version": "2.0.0",
       "_model_name": "HTMLStyleModel",
       "_view_count": null,
       "_view_module": "@jupyter-widgets/base",
       "_view_module_version": "2.0.0",
       "_view_name": "StyleView",
       "background": null,
       "description_width": "",
       "font_size": null,
       "text_color": null
      }
     }
    },
    "version_major": 2,
    "version_minor": 0
   }
  }
 },
 "nbformat": 4,
 "nbformat_minor": 5
}