{
 "cells": [
  {
   "cell_type": "markdown",
   "id": "92bcb855",
   "metadata": {
    "papermill": {
     "duration": 0.005401,
     "end_time": "2022-12-16T04:04:16.677530",
     "exception": false,
     "start_time": "2022-12-16T04:04:16.672129",
     "status": "completed"
    },
    "tags": []
   },
   "source": [
    "# MPIA Arxiv on Deck 2\n",
    "\n",
    "Contains the steps to produce the paper extractions."
   ]
  },
  {
   "cell_type": "code",
   "execution_count": 1,
   "id": "3a0d6e11",
   "metadata": {
    "execution": {
     "iopub.execute_input": "2022-12-16T04:04:16.687892Z",
     "iopub.status.busy": "2022-12-16T04:04:16.687264Z",
     "iopub.status.idle": "2022-12-16T04:04:16.896859Z",
     "shell.execute_reply": "2022-12-16T04:04:16.896130Z"
    },
    "papermill": {
     "duration": 0.217322,
     "end_time": "2022-12-16T04:04:16.899186",
     "exception": false,
     "start_time": "2022-12-16T04:04:16.681864",
     "status": "completed"
    },
    "tags": []
   },
   "outputs": [],
   "source": [
    "# Imports\n",
    "import os\n",
    "from IPython.display import Markdown, display\n",
    "from tqdm.notebook import tqdm\n",
    "import warnings\n",
    "from PIL import Image \n",
    "\n",
    "# requires arxiv_on_deck_2\n",
    "\n",
    "from arxiv_on_deck_2.arxiv2 import (get_new_papers, \n",
    "                                    get_paper_from_identifier,\n",
    "                                    retrieve_document_source, \n",
    "                                    get_markdown_badge)\n",
    "from arxiv_on_deck_2 import (latex, \n",
    "                             mpia,\n",
    "                             highlight_authors_in_list)\n",
    "\n",
    "# Sometimes images are really big\n",
    "Image.MAX_IMAGE_PIXELS = 1000000000 "
   ]
  },
  {
   "cell_type": "code",
   "execution_count": 2,
   "id": "22aa9d44",
   "metadata": {
    "execution": {
     "iopub.execute_input": "2022-12-16T04:04:16.909281Z",
     "iopub.status.busy": "2022-12-16T04:04:16.908614Z",
     "iopub.status.idle": "2022-12-16T04:04:16.913780Z",
     "shell.execute_reply": "2022-12-16T04:04:16.913107Z"
    },
    "papermill": {
     "duration": 0.012169,
     "end_time": "2022-12-16T04:04:16.915667",
     "exception": false,
     "start_time": "2022-12-16T04:04:16.903498",
     "status": "completed"
    },
    "tags": []
   },
   "outputs": [],
   "source": [
    "# Some useful definitions.\n",
    "\n",
    "class AffiliationWarning(UserWarning):\n",
    "    pass\n",
    "\n",
    "class AffiliationError(RuntimeError):\n",
    "    pass\n",
    "\n",
    "def validation(source: str):\n",
    "    \"\"\"Raises error paper during parsing of source file\n",
    "    \n",
    "    Allows checks before parsing TeX code.\n",
    "    \n",
    "    Raises AffiliationWarning\n",
    "    \"\"\"\n",
    "    check = mpia.affiliation_verifications(source, verbose=True)\n",
    "    if check is not True:\n",
    "        raise AffiliationError(\"mpia.affiliation_verifications: \" + check)\n",
    "\n",
    "        \n",
    "warnings.simplefilter('always', AffiliationWarning)"
   ]
  },
  {
   "cell_type": "code",
   "execution_count": 3,
   "id": "14622700",
   "metadata": {
    "execution": {
     "iopub.execute_input": "2022-12-16T04:04:16.924818Z",
     "iopub.status.busy": "2022-12-16T04:04:16.924360Z",
     "iopub.status.idle": "2022-12-16T04:04:16.928445Z",
     "shell.execute_reply": "2022-12-16T04:04:16.927800Z"
    },
    "papermill": {
     "duration": 0.010557,
     "end_time": "2022-12-16T04:04:16.930107",
     "exception": false,
     "start_time": "2022-12-16T04:04:16.919550",
     "status": "completed"
    },
    "tags": []
   },
   "outputs": [],
   "source": [
    "# additional CSS to consider. \n",
    "# TODO: Current into each exported file. \n",
    "#       This should be set once into the webpages directly.\n",
    "#       With only the class/id definitions in the .md files.\n",
    "\n",
    "debug_html = \"\"\"\n",
    "<style>\n",
    "#wrap{ overflow:auto; }\n",
    "#fig1{ background:yellow; width:100%; float:left; padding:5px;  }\n",
    "#fig2{ background:red; width:50%; float:left; clear:left; padding:5px;  }\n",
    "#fig3{ background:green; width:50%; float:left; padding:5px;   }\n",
    ".macros{ background:yellow; visibility:visible;}\n",
    "h1 {margin: 0 0 0 0;}\n",
    "mark {background-color:#fff3b6;}\n",
    "img {object-fit:contain; max-height:250px; display:inline-block; text-align: center;}\n",
    "</style>\n",
    "\"\"\" \n",
    "html = \"\"\"\n",
    "<style>\n",
    "#wrap{ overflow:auto; }\n",
    "#fig1{ width:100%; float:left; padding: 5px;  }\n",
    "#fig2{ width:50%; float:left; clear:left; padding: 5px;  }\n",
    "#fig3{ width:50%; float:left; padding: 5px;  }\n",
    ".macros{ visibility:hidden; height:0px; }\n",
    "h1 {margin: 0em 0 0 0;}\n",
    "mark {background-color:#fff3b6;}\n",
    "img {object-fit:contain; max-height:250px; display:inline-block; text-align: center;}\n",
    "</style>\n",
    "\"\"\""
   ]
  },
  {
   "cell_type": "markdown",
   "id": "14bd6310",
   "metadata": {
    "papermill": {
     "duration": 0.003836,
     "end_time": "2022-12-16T04:04:16.937862",
     "exception": false,
     "start_time": "2022-12-16T04:04:16.934026",
     "status": "completed"
    },
    "tags": []
   },
   "source": [
    "## get list of arxiv paper candidates\n",
    "\n",
    "We use the MPIA mitarbeiter list webpage from mpia.de to get author names\n",
    "We then get all new papers from Arxiv and match authors"
   ]
  },
  {
   "cell_type": "code",
   "execution_count": 4,
   "id": "2645e73a",
   "metadata": {
    "execution": {
     "iopub.execute_input": "2022-12-16T04:04:16.947499Z",
     "iopub.status.busy": "2022-12-16T04:04:16.946738Z",
     "iopub.status.idle": "2022-12-16T04:04:40.579971Z",
     "shell.execute_reply": "2022-12-16T04:04:40.579220Z"
    },
    "papermill": {
     "duration": 23.640324,
     "end_time": "2022-12-16T04:04:40.582037",
     "exception": false,
     "start_time": "2022-12-16T04:04:16.941713",
     "status": "completed"
    },
    "tags": []
   },
   "outputs": [
    {
     "name": "stdout",
     "output_type": "stream",
     "text": [
      "Arxiv has 52 new papers today\n",
      "          16 with possible author matches\n"
     ]
    }
   ],
   "source": [
    "# get list from MPIA website\n",
    "# it automatically filters identified non-scientists :func:`mpia.filter_non_scientists`\n",
    "mpia_authors = mpia.get_mpia_mitarbeiter_list()\n",
    "new_papers = get_new_papers()\n",
    "# add manual references\n",
    "add_paper_refs = []\n",
    "new_papers.extend([get_paper_from_identifier(k) for k in add_paper_refs])\n",
    "\n",
    "# select only papers with matching author names and highlight authors\n",
    "hl_list = [k[0] for k in mpia_authors]\n",
    "\n",
    "candidates = []\n",
    "for paperk in new_papers:\n",
    "    hl_authors = highlight_authors_in_list(paperk['authors'], hl_list)\n",
    "    matches = [(hl, orig) for hl, orig in zip(hl_authors, paperk['authors']) if 'mark' in hl]\n",
    "    paperk['authors'] = hl_authors\n",
    "    if matches:\n",
    "        candidates.append(paperk)\n",
    "print(\"\"\"Arxiv has {0:,d} new papers today\"\"\".format(len(new_papers)))        \n",
    "print(\"\"\"          {0:,d} with possible author matches\"\"\".format(len(candidates)))"
   ]
  },
  {
   "cell_type": "markdown",
   "id": "3543b34a",
   "metadata": {
    "papermill": {
     "duration": 0.00444,
     "end_time": "2022-12-16T04:04:40.590859",
     "exception": false,
     "start_time": "2022-12-16T04:04:40.586419",
     "status": "completed"
    },
    "tags": []
   },
   "source": [
    "# Parse sources and generate relevant outputs\n",
    "\n",
    "From the candidates, we do the following steps:\n",
    "* get their tarball from ArXiv (and extract data)\n",
    "* find the main .tex file: find one with \\documentclass{...} (sometimes it's non trivial)\n",
    "* Check affiliations with :func:`validation`, which uses :func:`mpia.affiliation_verifications`\n",
    "* If passing the affiliations: we parse the .tex source\n",
    "   * inject sub-documents into the main (flatten the main document)\n",
    "   * parse structure, extract information (title, abstract, authors, figures...)\n",
    "   * handles `\\graphicspath` if provided\n",
    "* Generate the .md document."
   ]
  },
  {
   "cell_type": "code",
   "execution_count": 5,
   "id": "9576b79e",
   "metadata": {
    "execution": {
     "iopub.execute_input": "2022-12-16T04:04:40.600634Z",
     "iopub.status.busy": "2022-12-16T04:04:40.600060Z",
     "iopub.status.idle": "2022-12-16T04:04:58.907989Z",
     "shell.execute_reply": "2022-12-16T04:04:58.907256Z"
    },
    "papermill": {
     "duration": 18.314905,
     "end_time": "2022-12-16T04:04:58.909784",
     "exception": false,
     "start_time": "2022-12-16T04:04:40.594879",
     "status": "completed"
    },
    "scrolled": false,
    "tags": []
   },
   "outputs": [
    {
     "data": {
      "application/vnd.jupyter.widget-view+json": {
       "model_id": "8b4df2d25fac43a18e684fbaa7684d70",
       "version_major": 2,
       "version_minor": 0
      },
      "text/plain": [
       "  0%|          | 0/15 [00:00<?, ?it/s]"
      ]
     },
     "metadata": {},
     "output_type": "display_data"
    },
    {
     "name": "stdout",
     "output_type": "stream",
     "text": [
      "Retrieving document from  https://arxiv.org/e-print/2212.07441\n"
     ]
    },
    {
     "name": "stdout",
     "output_type": "stream",
     "text": [
      "extracting tarball to tmp_2212.07441..."
     ]
    },
    {
     "name": "stdout",
     "output_type": "stream",
     "text": [
      " done.\n",
      "Retrieving document from  https://arxiv.org/e-print/2212.07447\n"
     ]
    },
    {
     "name": "stdout",
     "output_type": "stream",
     "text": [
      "extracting tarball to tmp_2212.07447..."
     ]
    },
    {
     "name": "stdout",
     "output_type": "stream",
     "text": [
      " done.\n",
      "Retrieving document from  https://arxiv.org/e-print/2212.07449\n"
     ]
    },
    {
     "name": "stdout",
     "output_type": "stream",
     "text": [
      "extracting tarball to tmp_2212.07449..."
     ]
    },
    {
     "name": "stdout",
     "output_type": "stream",
     "text": [
      " done.\n",
      "Retrieving document from  https://arxiv.org/e-print/2212.07518\n"
     ]
    },
    {
     "name": "stdout",
     "output_type": "stream",
     "text": [
      "extracting tarball to tmp_2212.07518..."
     ]
    },
    {
     "name": "stdout",
     "output_type": "stream",
     "text": [
      " done.\n",
      "Retrieving document from  https://arxiv.org/e-print/2212.07519\n"
     ]
    },
    {
     "name": "stdout",
     "output_type": "stream",
     "text": [
      "extracting tarball to tmp_2212.07519..."
     ]
    },
    {
     "name": "stdout",
     "output_type": "stream",
     "text": [
      " done.\n",
      "Retrieving document from  https://arxiv.org/e-print/2212.07675\n"
     ]
    },
    {
     "name": "stderr",
     "output_type": "stream",
     "text": [
      "/opt/hostedtoolcache/Python/3.9.16/x64/lib/python3.9/site-packages/IPython/core/interactiveshell.py:3433: LatexWarning: Multiple tex files.\n",
      "\n",
      "  exec(code_obj, self.user_global_ns, self.user_ns)\n",
      "/opt/hostedtoolcache/Python/3.9.16/x64/lib/python3.9/site-packages/IPython/core/interactiveshell.py:3433: LatexWarning: Found documentclass in tmp_2212.07519/gammasig.tex\n",
      "\n",
      "  exec(code_obj, self.user_global_ns, self.user_ns)\n",
      "/opt/hostedtoolcache/Python/3.9.16/x64/lib/python3.9/site-packages/arxiv_on_deck_2/latex.py:292: LatexWarning: Latex injecting: 'tables/Lit.tex' from 'tmp_2212.07519/tables/Lit.tex'\n",
      "  warnings.warn(LatexWarning(f\"Latex injecting: '{ext}' from '{subsource}'\"))\n",
      "/opt/hostedtoolcache/Python/3.9.16/x64/lib/python3.9/site-packages/arxiv_on_deck_2/latex.py:292: LatexWarning: Latex injecting: 'tables/GammaSigma_bin.tex' from 'tmp_2212.07519/tables/GammaSigma_bin.tex'\n",
      "  warnings.warn(LatexWarning(f\"Latex injecting: '{ext}' from '{subsource}'\"))\n",
      "/opt/hostedtoolcache/Python/3.9.16/x64/lib/python3.9/site-packages/arxiv_on_deck_2/latex.py:292: LatexWarning: Latex injecting: 'tables/GammaSigma.tex' from 'tmp_2212.07519/tables/GammaSigma.tex'\n",
      "  warnings.warn(LatexWarning(f\"Latex injecting: '{ext}' from '{subsource}'\"))\n",
      "/opt/hostedtoolcache/Python/3.9.16/x64/lib/python3.9/site-packages/arxiv_on_deck_2/latex.py:292: LatexWarning: Latex injecting: 'tables/clustStats' from 'tmp_2212.07519/tables/clustStats.tex'\n",
      "  warnings.warn(LatexWarning(f\"Latex injecting: '{ext}' from '{subsource}'\"))\n",
      "/opt/hostedtoolcache/Python/3.9.16/x64/lib/python3.9/site-packages/arxiv_on_deck_2/latex.py:292: LatexWarning: Latex injecting: 'tables/tabILsfr.tex' from 'tmp_2212.07519/tables/tabILsfr.tex'\n",
      "  warnings.warn(LatexWarning(f\"Latex injecting: '{ext}' from '{subsource}'\"))\n",
      "/opt/hostedtoolcache/Python/3.9.16/x64/lib/python3.9/site-packages/arxiv_on_deck_2/latex.py:292: LatexWarning: Latex injecting: 'tables/tabSFH.tex' from 'tmp_2212.07519/tables/tabSFH.tex'\n",
      "  warnings.warn(LatexWarning(f\"Latex injecting: '{ext}' from '{subsource}'\"))\n",
      "/opt/hostedtoolcache/Python/3.9.16/x64/lib/python3.9/site-packages/arxiv_on_deck_2/latex.py:292: LatexWarning: Latex injecting: 'tables/globalprop.tex' from 'tmp_2212.07519/tables/globalprop.tex'\n",
      "  warnings.warn(LatexWarning(f\"Latex injecting: '{ext}' from '{subsource}'\"))\n",
      "/opt/hostedtoolcache/Python/3.9.16/x64/lib/python3.9/site-packages/arxiv_on_deck_2/latex.py:292: LatexWarning: Latex injecting: 'texstuff/Paper2_authors.tex' from 'tmp_2212.07519/texstuff/Paper2_authors.tex'\n",
      "  warnings.warn(LatexWarning(f\"Latex injecting: '{ext}' from '{subsource}'\"))\n"
     ]
    },
    {
     "name": "stdout",
     "output_type": "stream",
     "text": [
      "extracting tarball to tmp_2212.07675..."
     ]
    },
    {
     "name": "stdout",
     "output_type": "stream",
     "text": [
      " done.\n",
      "Retrieving document from  https://arxiv.org/e-print/2212.07681\n"
     ]
    },
    {
     "name": "stdout",
     "output_type": "stream",
     "text": [
      "extracting tarball to tmp_2212.07681... done.\n",
      "Retrieving document from  https://arxiv.org/e-print/2212.07714\n"
     ]
    },
    {
     "name": "stdout",
     "output_type": "stream",
     "text": [
      "extracting tarball to tmp_2212.07714..."
     ]
    },
    {
     "name": "stdout",
     "output_type": "stream",
     "text": [
      " done.\n",
      "Retrieving document from  https://arxiv.org/e-print/2212.07733\n"
     ]
    },
    {
     "name": "stderr",
     "output_type": "stream",
     "text": [
      "/opt/hostedtoolcache/Python/3.9.16/x64/lib/python3.9/site-packages/IPython/core/interactiveshell.py:3433: LatexWarning: Multiple tex files.\n",
      "\n",
      "  exec(code_obj, self.user_global_ns, self.user_ns)\n",
      "/opt/hostedtoolcache/Python/3.9.16/x64/lib/python3.9/site-packages/IPython/core/interactiveshell.py:3433: LatexWarning: Found documentclass in tmp_2212.07714/main.tex\n",
      "\n",
      "  exec(code_obj, self.user_global_ns, self.user_ns)\n"
     ]
    },
    {
     "name": "stdout",
     "output_type": "stream",
     "text": [
      "extracting tarball to tmp_2212.07733..."
     ]
    },
    {
     "name": "stdout",
     "output_type": "stream",
     "text": [
      " done.\n",
      "Retrieving document from  https://arxiv.org/e-print/2212.07772\n"
     ]
    },
    {
     "name": "stderr",
     "output_type": "stream",
     "text": [
      "/opt/hostedtoolcache/Python/3.9.16/x64/lib/python3.9/site-packages/IPython/core/interactiveshell.py:3433: LatexWarning: Multiple tex files.\n",
      "\n",
      "  exec(code_obj, self.user_global_ns, self.user_ns)\n",
      "/opt/hostedtoolcache/Python/3.9.16/x64/lib/python3.9/site-packages/IPython/core/interactiveshell.py:3433: LatexWarning: Found documentclass in tmp_2212.07733/paper.tex\n",
      "\n",
      "  exec(code_obj, self.user_global_ns, self.user_ns)\n",
      "/opt/hostedtoolcache/Python/3.9.16/x64/lib/python3.9/site-packages/arxiv_on_deck_2/latex.py:292: LatexWarning: Latex injecting: 'appendix' from 'tmp_2212.07733/appendix.tex'\n",
      "  warnings.warn(LatexWarning(f\"Latex injecting: '{ext}' from '{subsource}'\"))\n"
     ]
    },
    {
     "name": "stdout",
     "output_type": "stream",
     "text": [
      "extracting tarball to tmp_2212.07772..."
     ]
    },
    {
     "name": "stdout",
     "output_type": "stream",
     "text": [
      " done.\n",
      "Retrieving document from  https://arxiv.org/e-print/2212.07881\n"
     ]
    },
    {
     "name": "stdout",
     "output_type": "stream",
     "text": [
      "extracting tarball to tmp_2212.07881..."
     ]
    },
    {
     "name": "stdout",
     "output_type": "stream",
     "text": [
      " done.\n",
      "Retrieving document from  https://arxiv.org/e-print/2212.07908\n"
     ]
    },
    {
     "name": "stdout",
     "output_type": "stream",
     "text": [
      "extracting tarball to tmp_2212.07908..."
     ]
    },
    {
     "name": "stdout",
     "output_type": "stream",
     "text": [
      " done.\n",
      "Retrieving document from  https://arxiv.org/e-print/2212.07978\n"
     ]
    },
    {
     "name": "stdout",
     "output_type": "stream",
     "text": [
      "extracting tarball to tmp_2212.07978..."
     ]
    },
    {
     "name": "stdout",
     "output_type": "stream",
     "text": [
      " done.\n",
      "Retrieving document from  https://arxiv.org/e-print/2212.08007\n"
     ]
    },
    {
     "name": "stderr",
     "output_type": "stream",
     "text": [
      "/opt/hostedtoolcache/Python/3.9.16/x64/lib/python3.9/site-packages/IPython/core/interactiveshell.py:3433: LatexWarning: Multiple tex files.\n",
      "\n",
      "  exec(code_obj, self.user_global_ns, self.user_ns)\n",
      "/opt/hostedtoolcache/Python/3.9.16/x64/lib/python3.9/site-packages/IPython/core/interactiveshell.py:3433: LatexWarning: Found documentclass in tmp_2212.07978/ms.tex\n",
      "\n",
      "  exec(code_obj, self.user_global_ns, self.user_ns)\n",
      "/opt/hostedtoolcache/Python/3.9.16/x64/lib/python3.9/site-packages/arxiv_on_deck_2/latex.py:292: LatexWarning: Latex injecting: 'tab.tex' from 'tmp_2212.07978/tab.tex'\n",
      "  warnings.warn(LatexWarning(f\"Latex injecting: '{ext}' from '{subsource}'\"))\n",
      "/opt/hostedtoolcache/Python/3.9.16/x64/lib/python3.9/site-packages/arxiv_on_deck_2/latex.py:292: LatexWarning: Latex injecting: 'TabINFO.tex' from 'tmp_2212.07978/TabINFO.tex'\n",
      "  warnings.warn(LatexWarning(f\"Latex injecting: '{ext}' from '{subsource}'\"))\n",
      "/opt/hostedtoolcache/Python/3.9.16/x64/lib/python3.9/site-packages/arxiv_on_deck_2/latex.py:292: LatexWarning: Latex injecting: 'tabDATA.tex' from 'tmp_2212.07978/tabDATA.tex'\n",
      "  warnings.warn(LatexWarning(f\"Latex injecting: '{ext}' from '{subsource}'\"))\n"
     ]
    },
    {
     "name": "stdout",
     "output_type": "stream",
     "text": [
      "extracting tarball to tmp_2212.08007..."
     ]
    },
    {
     "name": "stdout",
     "output_type": "stream",
     "text": [
      " done.\n",
      "Retrieving document from  https://arxiv.org/e-print/2212.08015\n"
     ]
    },
    {
     "name": "stderr",
     "output_type": "stream",
     "text": [
      "/opt/hostedtoolcache/Python/3.9.16/x64/lib/python3.9/site-packages/IPython/core/interactiveshell.py:3433: LatexWarning: Multiple tex files.\n",
      "\n",
      "  exec(code_obj, self.user_global_ns, self.user_ns)\n",
      "/opt/hostedtoolcache/Python/3.9.16/x64/lib/python3.9/site-packages/IPython/core/interactiveshell.py:3433: LatexWarning: Found documentclass in tmp_2212.08007/reftest4-2.tex\n",
      "\n",
      "  exec(code_obj, self.user_global_ns, self.user_ns)\n"
     ]
    },
    {
     "name": "stdout",
     "output_type": "stream",
     "text": [
      "extracting tarball to tmp_2212.08015..."
     ]
    },
    {
     "name": "stdout",
     "output_type": "stream",
     "text": [
      " done.\n"
     ]
    },
    {
     "name": "stderr",
     "output_type": "stream",
     "text": [
      "/opt/hostedtoolcache/Python/3.9.16/x64/lib/python3.9/site-packages/arxiv_on_deck_2/latex.py:292: LatexWarning: Latex injecting: 'mchardy_4395_clean.bbl' from 'tmp_2212.08015/mchardy_4395_clean.tex'\n",
      "  warnings.warn(LatexWarning(f\"Latex injecting: '{ext}' from '{subsource}'\"))\n"
     ]
    }
   ],
   "source": [
    "documents = []\n",
    "failed = []\n",
    "for paper in tqdm(candidates[:-1]):\n",
    "    paper_id = paper['identifier'].lower().replace('arxiv:', '')\n",
    "    \n",
    "    folder = f'tmp_{paper_id}'\n",
    "\n",
    "    try:\n",
    "        if not os.path.isdir(folder):\n",
    "            folder = retrieve_document_source(f\"{paper_id}\", f'tmp_{paper_id}')\n",
    "        \n",
    "        try:\n",
    "            doc = latex.LatexDocument(folder, validation=validation)    \n",
    "        except AffiliationError as affilerror:\n",
    "            msg = f\"ArXiv:{paper_id:s} is not an MPIA paper... \" + str(affilerror)\n",
    "            failed.append((paper, \"affiliation error: \" + str(affilerror) ))\n",
    "            continue\n",
    "        \n",
    "        # Hack because sometimes author parsing does not work well\n",
    "        if (len(doc.authors) != len(paper['authors'])):\n",
    "            doc._authors = paper['authors']\n",
    "        if (doc.abstract) in (None, ''):\n",
    "            doc._abstract = paper['abstract']\n",
    "            \n",
    "        doc.comment = (get_markdown_badge(paper_id) + \n",
    "                       \"<mark>Appeared on: \" + paper['date'] + \"</mark> - \" +\n",
    "                       \"_\" + paper['comments'] + \"_\")\n",
    "        doc.highlight_authors_in_list(hl_list)\n",
    "\n",
    "        full_md = doc.generate_markdown_text()\n",
    "        \n",
    "        documents.append((paper_id, full_md))\n",
    "    except Exception as e:\n",
    "        warnings.warn(latex.LatexWarning(f\"{paper_id:s} did not run properly\\n\" +\n",
    "                                         str(e)\n",
    "                                        ))\n",
    "        failed.append((paper, \"latex error \" + str(e)))"
   ]
  },
  {
   "cell_type": "markdown",
   "id": "2505a25c",
   "metadata": {
    "papermill": {
     "duration": 0.006244,
     "end_time": "2022-12-16T04:04:58.922453",
     "exception": false,
     "start_time": "2022-12-16T04:04:58.916209",
     "status": "completed"
    },
    "tags": []
   },
   "source": [
    "### Export the logs\n",
    "\n",
    "Throughout, we also keep track of the logs per paper. see `logs-{today date}.md` "
   ]
  },
  {
   "cell_type": "code",
   "execution_count": 6,
   "id": "d733828a",
   "metadata": {
    "execution": {
     "iopub.execute_input": "2022-12-16T04:04:58.936104Z",
     "iopub.status.busy": "2022-12-16T04:04:58.935486Z",
     "iopub.status.idle": "2022-12-16T04:04:58.962065Z",
     "shell.execute_reply": "2022-12-16T04:04:58.961369Z"
    },
    "papermill": {
     "duration": 0.035382,
     "end_time": "2022-12-16T04:04:58.963668",
     "exception": false,
     "start_time": "2022-12-16T04:04:58.928286",
     "status": "completed"
    },
    "scrolled": false,
    "tags": []
   },
   "outputs": [
    {
     "data": {
      "text/markdown": [
       "## Successful papers"
      ],
      "text/plain": [
       "<IPython.core.display.Markdown object>"
      ]
     },
     "metadata": {},
     "output_type": "display_data"
    },
    {
     "data": {
      "text/markdown": [
       "## Failed papers"
      ],
      "text/plain": [
       "<IPython.core.display.Markdown object>"
      ]
     },
     "metadata": {},
     "output_type": "display_data"
    },
    {
     "data": {
      "text/markdown": [
       "\n",
       "|||\n",
       "|---:|:---|\n",
       "| [![arXiv](https://img.shields.io/badge/arXiv-arXiv:2212.07441-b31b1b.svg)](https://arxiv.org/abs/arXiv:2212.07441) | **The accretion history of the Milky Way. I. How it shapes globular  clusters and dwarf galaxies**  |\n",
       "|| Francois Hammer, et al. -- incl., <mark>Hefan Li</mark> |\n",
       "|*Appeared on*| *2022-12-16*|\n",
       "|*Comments*| *18 pages, 8 Figures, 2 Tables with orbital properties of globular clusters, accepted in MNRAS, December the 12*|\n",
       "|**Abstract**| Halo inhabitants are individual stars, stellar streams, star and globular clusters, and dwarf galaxies. Here we compare the two last categories that include objects of similar stellar mass, which are often studied as self-dynamical equilibrium systems. We discover that the half-light radius of globular clusters depends on their orbital pericenter and total energy, and that Milky Way (MW) tides may explain the observed correlation. We also suggest that the accretion epoch of stellar systems in the MW halo can be calibrated by the total orbital energy, and that such a relation is due to both the mass growth of the MW and dynamical friction affecting mostly satellites with numerous orbits. This calibration starts from the bulge, to Kraken, Gaia Sausage Enceladus, Sagittarius stellar systems, and finally to the new coming dwarfs, either or not linked to the vast-polar structure. The most eccentric globular clusters and dwarfs have their half-light radius scaling as the inverse of their binding energy, and this over more than two decades. This means that earlier arriving satellites are smaller due to the tidal effects of the MW. Therefore, most halo inhabitants appear to have their structural parameters shaped by MW tides and also by ram-pressure for the most recent arrivals, the dwarf galaxies. The correlations found in this study can be used as tools to further investigate the origin of globular clusters and dwarfs, as well as the assembly history of our Galaxy. |\n",
       "|<p style=\"color:green\"> **ERROR** </p>| <p style=\"color:green\">affiliation error: mpia.affiliation_verifications: 'Heidelberg' keyword not found.</p> |"
      ],
      "text/plain": [
       "<IPython.core.display.Markdown object>"
      ]
     },
     "metadata": {},
     "output_type": "display_data"
    },
    {
     "data": {
      "text/markdown": [
       "\n",
       "|||\n",
       "|---:|:---|\n",
       "| [![arXiv](https://img.shields.io/badge/arXiv-arXiv:2212.07447-b31b1b.svg)](https://arxiv.org/abs/arXiv:2212.07447) | **Simulations of star forming main sequence galaxies in Milgromian gravity**  |\n",
       "|| Srikanth T. Nagesh, et al. -- incl., <mark>Mahmood Roshan</mark>, <mark>Hongsheng Zhao</mark> |\n",
       "|*Appeared on*| *2022-12-16*|\n",
       "|*Comments*| *22 pages, 23 figures. Accepted for publication by the Monthly Notices of Royal Astronomical Society (MNRAS)*|\n",
       "|**Abstract**| We conduct hydrodynamical MOND simulations of isolated disc galaxies over the stellar mass range $M_{\\star}/M_\\odot = 10^7 - 10^{11}$ using the adaptive mesh refinement code \\textsc{phantom of ramses} (\\textsc{por}), an adaptation of the \\textsc{ramses} code with a Milgromian gravity solver. The scale lengths and gas fractions are based on observed galaxies, and the simulations are run for 5~Gyr. The main aim is to see whether existing sub-grid physics prescriptions for star formation and stellar feedback reproduce the observed main sequence and reasonably match the Kennicutt-Schmidt relation that captures how the local and global star formation rates relate to other properties. Star formation in the models starts soon after initialisation and continues as the models evolve. The initialized galaxies indeed evolve to a state which is on the observed main sequence, and reasonably matches the Kennicutt-Schmidt relation. The available formulation of sub-grid physics is therefore adequate and leads to galaxies that largely behave like observed galaxies, grow in radius, and have flat rotation curves $-$ provided we use Milgromian gravitation. Furthermore, the strength of the bars tends to be inversely correlated with the stellar mass of the galaxy, whereas the bar length strongly correlates with the stellar mass. Irrespective of the mass, the bar pattern speed stays constant with time, indicating that dynamical friction does not affect the bar dynamics. The models demonstrate Renzo's rule and form structures at large radii, much as in real galaxies. In this framework, baryonic physics is thus sufficiently understood to not pose major uncertainties in our modelling of global galaxy properties. |\n",
       "|<p style=\"color:green\"> **ERROR** </p>| <p style=\"color:green\">affiliation error: mpia.affiliation_verifications: 'Heidelberg' keyword not found.</p> |"
      ],
      "text/plain": [
       "<IPython.core.display.Markdown object>"
      ]
     },
     "metadata": {},
     "output_type": "display_data"
    },
    {
     "data": {
      "text/markdown": [
       "\n",
       "|||\n",
       "|---:|:---|\n",
       "| [![arXiv](https://img.shields.io/badge/arXiv-arXiv:2212.07449-b31b1b.svg)](https://arxiv.org/abs/arXiv:2212.07449) | **A Measurement of the Cosmic Optical Background and Diffuse Galactic  Light Scaling from the R < 50 AU New Horizons-LORRI Data**  |\n",
       "|| Teresa Symons, et al. -- incl., <mark>Carey Lisse</mark> |\n",
       "|*Appeared on*| *2022-12-16*|\n",
       "|*Comments*| *36 pages, 22 figures, 8 tables; accepted for publication in ApJ*|\n",
       "|**Abstract**| Direct photometric measurements of the cosmic optical background (COB) provide an important point of comparison to both other measurement methodologies and models of cosmic structure formation, and permit a cosmic consistency test with the potential to reveal additional diffuse sources of emission. The COB has been challenging to measure from Earth due to the difficulty of isolating it from the diffuse light scattered from interplanetary dust in our solar system. We present a measurement of the COB using data taken by the Long-Range Reconnaissance Imager (LORRI) on NASA's New Horizons mission, considering all data acquired to 47 AU. We employ a blind methodology where our analysis choices are developed against a subset of the full data set, which is then unblinded. Dark current and other instrumental systematics are accounted for, including a number of sources of scattered light. We fully characterize and remove structured and diffuse astrophysical foregrounds including bright stars, the integrated starlight from faint unresolved sources, and diffuse galactic light. For the full data set, we find the surface brightness of the COB to be $\\lambda I_{\\lambda}^{\\mathrm{COB}}$ $=$ 21.98 $\\pm$ 1.23 (stat.) $\\pm$ 1.36 (cal.) nW m$^{-2}$ sr$^{-1}$. This result supports recent determinations that find a factor of 2 ${-}$ 3 $\\times$ more light than expected from the integrated light from galaxies and motivate new diffuse intensity measurements with more capable instruments that can support spectral measurements over the optical and near-IR. |\n",
       "|<p style=\"color:green\"> **ERROR** </p>| <p style=\"color:green\">affiliation error: mpia.affiliation_verifications: 'Heidelberg' keyword not found.</p> |"
      ],
      "text/plain": [
       "<IPython.core.display.Markdown object>"
      ]
     },
     "metadata": {},
     "output_type": "display_data"
    },
    {
     "data": {
      "text/markdown": [
       "\n",
       "|||\n",
       "|---:|:---|\n",
       "| [![arXiv](https://img.shields.io/badge/arXiv-arXiv:2212.07518-b31b1b.svg)](https://arxiv.org/abs/arXiv:2212.07518) | **A jolt to the system: ram pressure on low-mass galaxies in simulations  of the Local Group**  |\n",
       "|| Jenna Samuel, et al. -- incl., <mark>Andrew Wetzel</mark> |\n",
       "|*Appeared on*| *2022-12-16*|\n",
       "|*Comments*| *12 pages, 10 figures, + appendix*|\n",
       "|**Abstract**| Low-mass galaxies are highly susceptible to environmental effects that can efficiently quench star formation. We explore the role of ram pressure in quenching low-mass galaxies ($M_{*}\\sim10^{5-9}\\,\\rm{M}_{\\odot}$) within 2 Mpc of Milky Way (MW) hosts using the FIRE-2 simulations. Ram pressure is highly variable across different environments, within individual MW haloes, and for individual low-mass galaxies over time. The impulsiveness of ram pressure -- the maximum ram pressure scaled to the integrated ram pressure prior to quenching -- correlates with whether a galaxy is quiescent or star-forming. The time-scale between maximum ram pressure and quenching is anticorrelated with impulsiveness, such that high impulsiveness corresponds to quenching time-scales $<1$ Gyr. Galaxies in low-mass groups ($M_\\mathrm{*,host}\\sim10^{7-9}\\,\\rm{M}_{\\odot}$) outside of MW haloes experience typical ram pressure only slightly lower than ram pressure on MW satellites, helping to explain effective quenching via group pre-processing. Ram pressure on MW satellites rises sharply with decreasing distance to the host, and, at a fixed physical distance, more recent pericentre passages are typically associated with higher ram pressure because of greater gas density in the inner host halo at late times. Furthermore, the inner gas density of Local Group-like paired host haloes is larger at small angles ($\\lesssim30^\\circ$) off the host galaxy disc, compared to isolated hosts. The ram pressure and quiescent fraction of satellites within these low latitude regions are correspondingly elevated, signaling anisotropic quenching via ram pressure around paired hosts. |\n",
       "|<p style=\"color:green\"> **ERROR** </p>| <p style=\"color:green\">affiliation error: mpia.affiliation_verifications: 'Heidelberg' keyword not found.</p> |"
      ],
      "text/plain": [
       "<IPython.core.display.Markdown object>"
      ]
     },
     "metadata": {},
     "output_type": "display_data"
    },
    {
     "data": {
      "text/markdown": [
       "\n",
       "|||\n",
       "|---:|:---|\n",
       "| [![arXiv](https://img.shields.io/badge/arXiv-arXiv:2212.07519-b31b1b.svg)](https://arxiv.org/abs/arXiv:2212.07519) | **Fraction of Stars in Clusters for the LEGUS Dwarf Galaxies**  |\n",
       "|| D. O. Cook, et al. -- incl., <mark>J. C. Lee</mark>, <mark>S. T. Linden</mark> |\n",
       "|*Appeared on*| *2022-12-16*|\n",
       "|*Comments*| *30 pages, 15 figures, 7 tables, Accepted for publication in MNRAS*|\n",
       "|**Abstract**| We study the young star cluster populations in 23 dwarf and irregular galaxies observed by the HST Legacy ExtraGalactic Ultraviolet Survey (LEGUS), and examine relationships between the ensemble properties of the cluster populations and those of their host galaxies: star formation rate (SFR) density ($\\Sigma_{\\rm SFR}$). A strength of this analysis is the availability of SFRs measured from temporally resolved star formation histories which provide the means to match cluster and host-galaxy properties on several timescales (1-10, 1-100, and 10-100~Myr). Nevertheless, studies of this kind are challenging for dwarf galaxies due to the small numbers of clusters in each system. We mitigate these issues by combining the clusters across different galaxies with similar $\\Sigma_{\\rm SFR}$ properties. We find good agreement with a well-established relationship ($M_{V}^{brightest}$-SFR), but find no significant correlations between $\\Sigma_{\\rm SFR}$ and the slopes of the cluster luminosity function, mass function, nor the age distribution. We also find no significant trend between the the fraction of stars in bound clusters at different age ranges ($\\Gamma_{1-10}$, $\\Gamma_{10-100}$, and $\\Gamma_{1-100}$) and $\\Sigma_{\\rm SFR}$ of the host galaxy. Our data show a decrease in $\\Gamma$ over time (from 1-10 to 10-100~Myr) suggesting early cluster dissolution, though the presence of unbound clusters in the youngest time bin makes it difficult to quantify the degree of dissolution. While our data do not exhibit strong correlations between $\\Sigma_{\\rm SFR}$ and ensemble cluster properties, we cannot rule out that a weak trend might exist given the relatively large uncertainties due to low number statistics and the limited $\\Sigma_{\\rm SFR}$ range probed. |\n",
       "|<p style=\"color:green\"> **ERROR** </p>| <p style=\"color:green\">affiliation error: mpia.affiliation_verifications: 'Heidelberg' keyword not found.</p> |"
      ],
      "text/plain": [
       "<IPython.core.display.Markdown object>"
      ]
     },
     "metadata": {},
     "output_type": "display_data"
    },
    {
     "data": {
      "text/markdown": [
       "\n",
       "|||\n",
       "|---:|:---|\n",
       "| [![arXiv](https://img.shields.io/badge/arXiv-arXiv:2212.07675-b31b1b.svg)](https://arxiv.org/abs/arXiv:2212.07675) | **Linking the dust and chemical evolution: Taurus and Perseus - New  collisional rates for HCN, HNC, and their C, N, and H isotopologues**  |\n",
       "|| D. Navarro-Almaida, et al. -- incl., <mark>F. Lique</mark>, <mark>C. Kramer</mark> |\n",
       "|*Appeared on*| *2022-12-16*|\n",
       "|*Comments*| *25 pages, 20 figures*|\n",
       "|**Abstract**| HCN, HNC, and their isotopologues are ubiquitous molecules that can serve as chemical thermometers and evolutionary tracers to characterize star-forming regions. Despite their importance in carrying information that is vital to studies of the chemistry and evolution of star-forming regions, the collision rates of some of these molecules have not been available for rigorous studies in the past. We perform an up-to-date gas and dust chemical characterization of two different star-forming regions, TMC 1-C and NGC 1333-C7, using new collisional rates of HCN, HNC, and their isotopologues. We investigated the possible effects of the environment and stellar feedback in their chemistry and their evolution. With millimeter observations, we derived their column densities, the C and N isotopic fractions, the isomeric ratios, and the deuterium fractionation. The continuum data at 3 mm and 850 $\\mu$m allowed us to compute the emissivity spectral index and look for grain growth as an evolutionary tracer. The H$^{13}$CN/HN$^{13}$C ratio is anticorrelated with the deuterium fraction of HCN, thus it can readily serve as a proxy for the temperature. The spectral index $(\\beta\\sim 1.34-2.09)$ shows a tentative anticorrelation with the H$^{13}$CN/HN$^{13}$C ratio, suggesting grain growth in the evolved, hotter, and less deuterated sources. Unlike TMC 1-C, the south-to-north gradient in dust temperature and spectral index observed in NGC 1333-C7 suggests feedback from the main NGC 1333 cloud. With this up-to-date characterization of two star-forming regions, we found that the chemistry and the physical properties are tightly related. The dust temperature, deuterium fraction, and the spectral index are complementary evolutionary tracers. The large-scale environmental factors may dominate the chemistry and evolution in clustered star-forming regions. |\n",
       "|<p style=\"color:green\"> **ERROR** </p>| <p style=\"color:green\">affiliation error: mpia.affiliation_verifications: 'Heidelberg' keyword not found.</p> |"
      ],
      "text/plain": [
       "<IPython.core.display.Markdown object>"
      ]
     },
     "metadata": {},
     "output_type": "display_data"
    },
    {
     "data": {
      "text/markdown": [
       "\n",
       "|||\n",
       "|---:|:---|\n",
       "| [![arXiv](https://img.shields.io/badge/arXiv-arXiv:2212.07681-b31b1b.svg)](https://arxiv.org/abs/arXiv:2212.07681) | **Prospects for measuring dark energy with 21 cm intensity mapping  experiments: A joint survey strategy**  |\n",
       "|| Peng-Ju Wu, <mark>Yichao Li</mark>, <mark>Jing-Fei Zhang</mark>, <mark>Xin Zhang</mark> |\n",
       "|*Appeared on*| *2022-12-16*|\n",
       "|*Comments*| *8 pages, 5 figures. arXiv admin note: text overlap with arXiv:2202.09726*|\n",
       "|**Abstract**| The 21 cm intensity mapping (IM) technique provides us with an efficient way to observe the cosmic large-scale structure (LSS). From the LSS data, one can use the baryon acoustic oscillation and redshift space distortion to trace the expansion and growth history of the universe, and thus measure the dark energy parameters. In this paper, we make a forecast for cosmological parameter estimation with the synergy of three 21 cm IM experiments. Specifically, we adopt a novel joint survey strategy, FAST ($0<z<0.35$)+SKA1-MID ($0.35<z<0.8$)+HIRAX ($0.8<z<2.5$), to measure dark energy. We simulate the 21 cm IM observations under the assumption of excellent foreground removal. We find that the synergy of three experiments could place quite tight constraints on cosmological parameters. For example, it provides $\\sigma(\\Omega_{\\rm m})=0.0039$ and $\\sigma(H_0)=0.27\\ \\rm km\\ s^{-1}\\ Mpc^{-1}$ in the $\\Lambda$CDM model. Notably, the synergy could break the cosmological parameter degeneracies when constraining the dynamical dark energy models. Concretely, the joint observation offers $\\sigma(w)=0.019$ in the $w$CDM model, and $\\sigma(w_0)=0.085$ and $\\sigma(w_a)=0.32$ in the $w_0w_a$CDM model. These results are better than or equal to those given by CMB+BAO+SN. In addition, when the foreground removal efficiency is relatively low, the strategy still performs well. Therefore, the 21 cm IM joint survey strategy is promising and worth pursuing. |\n",
       "|<p style=\"color:green\"> **ERROR** </p>| <p style=\"color:green\">affiliation error: mpia.affiliation_verifications: 'Heidelberg' keyword not found.</p> |"
      ],
      "text/plain": [
       "<IPython.core.display.Markdown object>"
      ]
     },
     "metadata": {},
     "output_type": "display_data"
    },
    {
     "data": {
      "text/markdown": [
       "\n",
       "|||\n",
       "|---:|:---|\n",
       "| [![arXiv](https://img.shields.io/badge/arXiv-arXiv:2212.07714-b31b1b.svg)](https://arxiv.org/abs/arXiv:2212.07714) | **Fast-Cadence High-Contrast Imaging with Information Field Theory**  |\n",
       "|| Jakob Roth, et al. -- incl., <mark>Gianluca Li Causi</mark> |\n",
       "|*Appeared on*| *2022-12-16*|\n",
       "|*Comments*| *12 pages, 6 figures*|\n",
       "|**Abstract**| Although many exoplanets have been indirectly detected over the last years, direct imaging of them with ground-based telescopes remains challenging. In the presence of atmospheric fluctuations, it is ambitious to resolve the high brightness contrasts at the small angular separation between the star and its potential partners. Post-processing of telescope images has become an essential tool to improve the resolvable contrast ratios. This paper contributes a post-processing algorithm for fast-cadence imaging, which deconvolves sequences of telescopes images. The algorithm infers a Bayesian estimate of the astronomical object as well as the atmospheric optical path length, including its spatial and temporal structures. For this, we utilize physics-inspired models for the object, the atmosphere, and the telescope. The algorithm is computationally expensive but allows to resolve high contrast ratios despite short observation times and no field rotation. We test the performance of the algorithm with point-like companions synthetically injected into a real data set acquired with the SHARK-VIS pathfinder instrument at the LBT telescope. Sources with brightness ratios down to $6\\cdot10^{-4}$ to the star are detected at $185$ mas separation with a short observation time of $0.6\\,\\text{s}$. |\n",
       "|<p style=\"color:green\"> **ERROR** </p>| <p style=\"color:green\">affiliation error: mpia.affiliation_verifications: 'Heidelberg' keyword not found.</p> |"
      ],
      "text/plain": [
       "<IPython.core.display.Markdown object>"
      ]
     },
     "metadata": {},
     "output_type": "display_data"
    },
    {
     "data": {
      "text/markdown": [
       "\n",
       "|||\n",
       "|---:|:---|\n",
       "| [![arXiv](https://img.shields.io/badge/arXiv-arXiv:2212.07733-b31b1b.svg)](https://arxiv.org/abs/arXiv:2212.07733) | **Testing the Cosmological Principle with CatWISE Quasars: A Bayesian  Analysis of the Number-Count Dipole**  |\n",
       "|| Lawrence Dam, <mark>Geraint F. Lewis</mark>, Brendon J. Brewer |\n",
       "|*Appeared on*| *2022-12-16*|\n",
       "|*Comments*| *9+5 pages, 6 figures*|\n",
       "|**Abstract**| The Cosmological Principle, that the Universe is homogeneous and isotropic on sufficiently large scales, underpins the standard model of cosmology. However, a recent analysis of 1.36 million infrared-selected quasars has identified a significant tension in the amplitude of the number-count dipole compared to that derived from the CMB, thus challenging the Cosmological Principle. Here we present a Bayesian analysis of the same quasar sample, testing various hypotheses using the Bayesian evidence. We find unambiguous evidence for the presence of a dipole in the distribution of quasars with a direction that is consistent with the dipole identified in the CMB. However, the amplitude of the dipole is found to be 2.7 times larger than that expected from the conventional kinematic explanation of the CMB dipole, with a statistical significance of $5.7\\sigma$. To compare these results with theoretical expectations, we sharpen the $\\Lambda$CDM predictions for the probability distribution of the amplitude, taking into account a number of observational and theoretical systematics. In particular, we show that the presence of the galactic plane mask causes a considerable loss of dipole signal due to a leakage of power into higher multipoles, exacerbating the discrepancy in the amplitude. By contrast, we estimate using probabilistic arguments that the source evolution of quasars improves the discrepancy, but only mildly so. These results support the original findings of an anomalously large quasar dipole, independent of the statistical methodology used. |\n",
       "|<p style=\"color:green\"> **ERROR** </p>| <p style=\"color:green\">affiliation error: mpia.affiliation_verifications: 'Heidelberg' keyword not found.</p> |"
      ],
      "text/plain": [
       "<IPython.core.display.Markdown object>"
      ]
     },
     "metadata": {},
     "output_type": "display_data"
    },
    {
     "data": {
      "text/markdown": [
       "\n",
       "|||\n",
       "|---:|:---|\n",
       "| [![arXiv](https://img.shields.io/badge/arXiv-arXiv:2212.07772-b31b1b.svg)](https://arxiv.org/abs/arXiv:2212.07772) | **Photometric and Spectroscopic Observations of GRB 210104A: Bright  Reverse shock Emission and Dense Circumburst Environment**  |\n",
       "|| <mark>Lu-Lu Zhang</mark>, et al. -- incl., <mark>Li-Ping Xin</mark>, <mark>En-Wei Liang</mark> |\n",
       "|*Appeared on*| *2022-12-16*|\n",
       "|*Comments*| *17 pages, 5 figures, 2 tables; Accepted for publication in ApJ*|\n",
       "|**Abstract**| Early afterglow observations of gamma-ray bursts (GRBs) are valuable for exploring the properties of their jets and ambient medium. We report our photometric and spectroscopic observations of GRB 210104A and discuss its jet properties with multiwavelength data. Our spectroscopic observation reveals several absorption features and a tentative redshift of 0.46 is identified. A bright optical flare that has a peak brightness of $R=13$ mag at $112\\pm 7$~s was observed in the $R$ band during $67\\sim 165$ seconds post the GRB trigger. The flux of the $R$-band afterglow decays with a slope of $\\alpha_{\\rm O}={-0.91\\pm 0.03}$ at $t>650$~s. The early X-ray afterglow lightcurve is a smooth bump, and it decays with a slope of $\\alpha_{\\rm X}=-1.18\\pm 0.01$ at late epoch. Our joint spectral fit to the optical-X-ray afterglows during $(1.1-1.3)\\times 10^{4}$~s yields a photon index $\\Gamma_{\\rm O,X}=-1.82\\pm 0.04$. The derived host galaxy extinction is $A_{R}=0.87$. Attributing the early optical flare to the reverse-shock (RS) emission and the late optical-X-ray emission to the forward shock emission; the optical and X-ray lightcurves at $t<3\\times 10^4$~s can be well fit adopting an Markov Chain Monte Carlo algorithm. Comparing the properties of GRB 210104A with other GRBs that have detection of bright RS emission, we show that its jet is mildly magnetized ($R_{\\rm B}=28$), with high radiation efficiency ($77\\%$), is sub-energetic ($E_{\\rm k, iso}=4.5\\times 10^{51}$ erg), and moderately relativistic ($\\Gamma_0\\sim 35$) in a density medium ($n_{0}\\sim 417\\;{\\rm cm}^{-3}$). It follows the tight $L_{\\gamma,\\rm iso}-E_{\\rm p,z}-\\Gamma_{0}$ relation as with typical GRBs. |\n",
       "|<p style=\"color:green\"> **ERROR** </p>| <p style=\"color:green\">affiliation error: mpia.affiliation_verifications: 'Heidelberg' keyword not found.</p> |"
      ],
      "text/plain": [
       "<IPython.core.display.Markdown object>"
      ]
     },
     "metadata": {},
     "output_type": "display_data"
    },
    {
     "data": {
      "text/markdown": [
       "\n",
       "|||\n",
       "|---:|:---|\n",
       "| [![arXiv](https://img.shields.io/badge/arXiv-arXiv:2212.07881-b31b1b.svg)](https://arxiv.org/abs/arXiv:2212.07881) | **Identifying AGN host galaxies with convolutional neural networks**  |\n",
       "|| <mark>Ziting Guo</mark>, John F. Wu, Chelsea E. Sharon |\n",
       "|*Appeared on*| *2022-12-16*|\n",
       "|*Comments*| *6 pages, 2 figures. Accepted to the 2022 NeurIPS conference ML4PS workshop*|\n",
       "|**Abstract**| Active galactic nuclei (AGN) are supermassive black holes with luminous accretion disks found in some galaxies, and are thought to play an important role in galaxy evolution. However, traditional optical spectroscopy for identifying AGN requires time-intensive observations. We train a convolutional neural network (CNN) to distinguish AGN host galaxies from non-active galaxies using a sample of 210,000 Sloan Digital Sky Survey galaxies. We evaluate the CNN on 33,000 galaxies that are spectrally classified as composites, and find correlations between galaxy appearances and their CNN classifications, which hint at evolutionary processes that affect both galaxy morphology and AGN activity. With the advent of the Vera C. Rubin Observatory, Nancy Grace Roman Space Telescope, and other wide-field imaging telescopes, deep learning methods will be instrumental for quickly and reliably shortlisting AGN samples for future analyses. |\n",
       "|<p style=\"color:green\"> **ERROR** </p>| <p style=\"color:green\">affiliation error: mpia.affiliation_verifications: 'Heidelberg' keyword not found.</p> |"
      ],
      "text/plain": [
       "<IPython.core.display.Markdown object>"
      ]
     },
     "metadata": {},
     "output_type": "display_data"
    },
    {
     "data": {
      "text/markdown": [
       "\n",
       "|||\n",
       "|---:|:---|\n",
       "| [![arXiv](https://img.shields.io/badge/arXiv-arXiv:2212.07908-b31b1b.svg)](https://arxiv.org/abs/arXiv:2212.07908) | **25,000 optical fiber positioning robots for next-generation cosmology**  |\n",
       "|| <mark>Joseph H. Silber</mark>, et al. |\n",
       "|*Appeared on*| *2022-12-16*|\n",
       "|*Comments*| *6 pages, 8 figures, presented at conference Thirty-Seventh Annual Meeting of The American Society for Precision Engineering, 2022-10-14*|\n",
       "|**Abstract**| Massively parallel multi-object spectrographs are on the leading edge of cosmology instrumentation. The highly successful Dark Energy Spectroscopic Instrument (DESI) which begun survey operations in May 2021, for example, has 5,000 robotically-actuated multimode fibers, which deliver light from thousands of individual galaxies and quasars simultaneously to an array of high-resolution spectrographs off-telescope. The redshifts are individually measured, thus providing 3D maps of the Universe in unprecedented detail, and enabling precise measurement of dark energy expansion and other key cosmological parameters. Here we present new work in the design and prototyping of the next generation of fiber-positioning robots. At 6.2 mm center-to-center pitch, with 1-2 um positioning precision, and in a scalable form factor, these devices will enable the next generation of cosmology instruments, scaling up to instruments with 10,000 to 25,000 fiber robots. |\n",
       "|<p style=\"color:green\"> **ERROR** </p>| <p style=\"color:green\">affiliation error: mpia.affiliation_verifications: 'Heidelberg' keyword not found.</p> |"
      ],
      "text/plain": [
       "<IPython.core.display.Markdown object>"
      ]
     },
     "metadata": {},
     "output_type": "display_data"
    },
    {
     "data": {
      "text/markdown": [
       "\n",
       "|||\n",
       "|---:|:---|\n",
       "| [![arXiv](https://img.shields.io/badge/arXiv-arXiv:2212.07978-b31b1b.svg)](https://arxiv.org/abs/arXiv:2212.07978) | **Hubble Space Telescope survey of Magellanic Cloud star clusters.  Photometry and astrometry of 113 clusters and early results**  |\n",
       "|| A. P. Milone, et al. -- incl., <mark>N. Langer</mark>, <mark>M. Libralato</mark>, <mark>C. Li</mark> |\n",
       "|*Appeared on*| *2022-12-16*|\n",
       "|*Comments*| *37 pages, 27 figures, accepted for publication in Astronomy & Astrophysics*|\n",
       "|**Abstract**| In the past years, we have undertaken an extensive investigation of LMC and SMC star clusters based on HST data. We present photometry and astrometry of stars in 101 fields observed with the WFC/ACS, UVIS/WFC3 and NIR/WFC3 cameras. These fields comprise 113 star clusters. We provide differential-reddening maps and illustrate various scientific outcomes that arise from the early inspection of the photometric catalogs. In particular, we provide new insights on the extended main-sequence turn-off (eMSTO) phenomenon: i) We detected eMSTOs in two clusters, KMHK361 and NGC265, which had no previous evidence of multiple populations. This finding corroborates the conclusion that the eMSTO is a widespread phenomenon among clusters younger than ~2 Gyr. ii) The homogeneous color-magnitude diagrams (CMDs) of 19 LMC clusters reveal that the distribution of stars along the eMSTO depends on cluster age. iii) We discovered a new feature along the eMSTO of NGC1783, which consists of a distinct group of stars going on the red side of the eMSTO in CMDs composed of ultraviolet filters. Furthermore, we derived the proper motions of stars in the fields of view of clusters with multi-epoch images. Proper motions allowed us to separate the bulk of bright field stars from cluster members and investigate the internal kinematics of stellar populations in various LMC and SMC fields. As an example, we analyze the field around NGC346 to disentangle the motions of its stellar populations, including NGC364 and BS90, young and pre-MS stars in the star-forming region associated with NGC346, and young and old field stellar populations of the SMC. Based on these results and the fields around five additional clusters, we find that young SMC stars exhibit elongated proper-motion distributions that point toward the LMC, thus bringing new evidence for a kinematic connection between the LMC and SMC. |\n",
       "|<p style=\"color:green\"> **ERROR** </p>| <p style=\"color:green\">affiliation error: mpia.affiliation_verifications: 'Heidelberg' keyword not found.</p> |"
      ],
      "text/plain": [
       "<IPython.core.display.Markdown object>"
      ]
     },
     "metadata": {},
     "output_type": "display_data"
    },
    {
     "data": {
      "text/markdown": [
       "\n",
       "|||\n",
       "|---:|:---|\n",
       "| [![arXiv](https://img.shields.io/badge/arXiv-arXiv:2212.08007-b31b1b.svg)](https://arxiv.org/abs/arXiv:2212.08007) | **Characterising cosmic birefringence in the presence of galactic  foregrounds and instrumental systematic effects**  |\n",
       "|| <mark>Baptiste Jost</mark>, Josquin Errard, Radek Stompor |\n",
       "|*Appeared on*| *2022-12-16*|\n",
       "|*Comments*| *26 pages, 9 figures*|\n",
       "|**Abstract**| We study a possibility of constraining the isotropic cosmic birefringence with help of cosmic microwave background polarisation data without relying on any assumptions about the Galactic foreground angular power spectra and in particular on their EB correlation. We propose a new analysis framework aiming at measuring isotropic cosmic birefringence, based on a generalised parametric component separation approach, which accounts simultaneously on the presence of galactic foregrounds, relevant instrumental effects and external priors. We find that in the context of an upcoming multi-frequency CMB instrument, assuming in-lab calibration priors we are able to constrain instrumental polarisation angle for each frequency band and correct the observed sky component maps accordingly. We then produce an instrumental-effect-corrected and foreground-cleaned CMB map, which we use to estimate the isotropic birefringence angle and the tensor-to-scalar ratio, accounting on statistical and systematic uncertainties incurred during the entire procedure. In particular, in the case of a Simons Observatory-like, three Small Aperture Telescopes, we derive a uncertainty on the birefringence angle of $\\sigma(\\beta_{b}) = 0.07^\\circ$, assuming calibration priors for all frequency channels with the precision of $\\sigma_{\\alpha_i}= 0.1^\\circ$ and the standard cosmology. This implies that, using our method and given the calibration precision expected for current, the near future ground-based multi-frequency experiments could confirm or disprove the recently detected value of $\\beta_b=0.35^\\circ$ with a significance of up to $5 \\sigma$. [abridged version] |\n",
       "|<p style=\"color:green\"> **ERROR** </p>| <p style=\"color:green\">affiliation error: mpia.affiliation_verifications: 'Heidelberg' keyword not found.</p> |"
      ],
      "text/plain": [
       "<IPython.core.display.Markdown object>"
      ]
     },
     "metadata": {},
     "output_type": "display_data"
    },
    {
     "data": {
      "text/markdown": [
       "\n",
       "|||\n",
       "|---:|:---|\n",
       "| [![arXiv](https://img.shields.io/badge/arXiv-arXiv:2212.08015-b31b1b.svg)](https://arxiv.org/abs/arXiv:2212.08015) | **First detection of the outer edge of an AGN accretion disc: Very fast  multiband optical variability of NGC 4395 with GTC/HiPERCAM and LT/IO:O**  |\n",
       "|| I. M. McHardy, et al. -- incl., <mark>S. P. Littlefair</mark> |\n",
       "|*Appeared on*| *2022-12-16*|\n",
       "|*Comments*| *19 pages, 27 figures*|\n",
       "|**Abstract**| We present fast (~200s sampling) ugriz photometry of the low mass AGN NGC 4395 with the Liverpool Telescope, followed by very fast (3s sampling) us, gs, rs, is and zs simultaneous monitoring with HiPERCAM on the 10.4m GTC. These observations provide the fastest ever AGN multiband photometry and very precise lag measurements. Unlike in all other AGN, gs lags us by a large amount, consistent with disc reprocessing but not with reprocessing in the Broad Line Region (BLR). There is very little increase in lag with wavelength at long wavelengths, indicating an outer edge (Rout) to the reprocessor. We have compared truncated disc reprocessing models to the combined HiPERCAM and previous X-ray/UV lags. For the normally accepted mass of 3.6E5 solar, we obtain reasonable agreement with zero spin, Rout ~1700 Rg, and the DONE physically-motivated temperature-dependent disc colour correction factor (fcol). A smaller mass of 4E4 solar can only be accomodated if fcol=2.4, which is probably unrealistically high. Disc self gravity is probably unimportant in this low mass AGN but an obscuring wind may provide an edge. For the small mass the dust sublimation radius is similar to Rout, so the wind could be dusty. However for the more likely large mass the sublimation radius is further out so the optically-thick base of a line-driven gaseous wind is more likely. The inner edge of the BLR is close to Rout in both cases. These observations provide the first good evidence for a truncated AGN disc and caution that truncation should be included in reverberation lag modelling. |\n",
       "|<p style=\"color:green\"> **ERROR** </p>| <p style=\"color:green\">affiliation error: mpia.affiliation_verifications: 'Heidelberg' keyword not found.</p> |"
      ],
      "text/plain": [
       "<IPython.core.display.Markdown object>"
      ]
     },
     "metadata": {},
     "output_type": "display_data"
    }
   ],
   "source": [
    "import datetime\n",
    "today = str(datetime.date.today())\n",
    "logfile = f\"_build/html/logs/log-{today}.md\"\n",
    "\n",
    "\n",
    "with open(logfile, 'w') as logs:\n",
    "    # Success\n",
    "    logs.write(f'# Arxiv on Deck 2: Logs - {today}\\n\\n')\n",
    "    logs.write(\"\"\"* Arxiv had {0:,d} new papers\\n\"\"\".format(len(new_papers)))\n",
    "    logs.write(\"\"\"    * {0:,d} with possible author matches\\n\\n\"\"\".format(len(candidates)))\n",
    "    logs.write(\"## Sucessful papers\\n\\n\")\n",
    "    display(Markdown(\"## Successful papers\"))\n",
    "    success = [k[0] for k in documents]\n",
    "    for candid in candidates:\n",
    "        if candid['identifier'].split(':')[-1] in success:\n",
    "            display(candid)\n",
    "            logs.write(candid.generate_markdown_text() + '\\n\\n')\n",
    "\n",
    "    ## failed\n",
    "    logs.write(\"## Failed papers\\n\\n\")\n",
    "    display(Markdown(\"## Failed papers\"))\n",
    "    failed = sorted(failed, key=lambda x: x[1])\n",
    "    current_reason = \"\"\n",
    "    for paper, reason in failed:\n",
    "        if 'affiliation' in reason:\n",
    "            color = 'green'\n",
    "        else:\n",
    "            color = 'red'\n",
    "        data = Markdown(\n",
    "                paper.generate_markdown_text() + \n",
    "                f'\\n|<p style=\"color:{color:s}\"> **ERROR** </p>| <p style=\"color:{color:s}\">{reason:s}</p> |'\n",
    "               )\n",
    "        if reason != current_reason:\n",
    "            logs.write(f'### {reason:s} \\n\\n')\n",
    "            current_reason = reason\n",
    "        logs.write(data.data + '\\n\\n')\n",
    "        \n",
    "        # only display here the important errors (all in logs)\n",
    "        # if color in ('red',):\n",
    "        display(data)"
   ]
  },
  {
   "cell_type": "markdown",
   "id": "472d20ee",
   "metadata": {
    "papermill": {
     "duration": 0.007748,
     "end_time": "2022-12-16T04:04:58.979454",
     "exception": false,
     "start_time": "2022-12-16T04:04:58.971706",
     "status": "completed"
    },
    "tags": []
   },
   "source": [
    "## Export documents\n",
    "\n",
    "We now write the .md files and export relevant images"
   ]
  },
  {
   "cell_type": "code",
   "execution_count": 7,
   "id": "d426aed9",
   "metadata": {
    "execution": {
     "iopub.execute_input": "2022-12-16T04:04:58.997085Z",
     "iopub.status.busy": "2022-12-16T04:04:58.996320Z",
     "iopub.status.idle": "2022-12-16T04:04:59.004689Z",
     "shell.execute_reply": "2022-12-16T04:04:59.004003Z"
    },
    "papermill": {
     "duration": 0.019177,
     "end_time": "2022-12-16T04:04:59.006319",
     "exception": false,
     "start_time": "2022-12-16T04:04:58.987142",
     "status": "completed"
    },
    "tags": []
   },
   "outputs": [],
   "source": [
    "def export_markdown_summary(md: str, md_fname:str, directory: str):\n",
    "    \"\"\"Export MD document and associated relevant images\"\"\"\n",
    "    import os\n",
    "    import shutil\n",
    "    import re\n",
    "\n",
    "    if (os.path.exists(directory) and not os.path.isdir(directory)):\n",
    "        raise RuntimeError(f\"a non-directory file exists with name {directory:s}\")\n",
    "\n",
    "    if (not os.path.exists(directory)):\n",
    "        print(f\"creating directory {directory:s}\")\n",
    "        os.mkdir(directory)\n",
    "\n",
    "    fig_fnames = (re.compile(r'\\[Fig.*\\]\\((.*)\\)').findall(md) + \n",
    "                  re.compile(r'\\<img src=\"([^>\\s]*)\"[^>]*/>').findall(md))\n",
    "    for fname in fig_fnames:\n",
    "        if 'http' in fname:\n",
    "            # No need to copy online figures\n",
    "            continue\n",
    "        destdir = os.path.join(directory, os.path.dirname(fname))\n",
    "        destfname = os.path.join(destdir, os.path.basename(fname))\n",
    "        try:\n",
    "            os.makedirs(destdir)\n",
    "        except FileExistsError:\n",
    "            pass\n",
    "        shutil.copy(fname, destfname)\n",
    "    with open(os.path.join(directory, md_fname), 'w') as fout:\n",
    "        fout.write(md)\n",
    "    print(\"exported in \", os.path.join(directory, md_fname))\n",
    "    [print(\"    + \" + os.path.join(directory,fk)) for fk in fig_fnames]"
   ]
  },
  {
   "cell_type": "code",
   "execution_count": 8,
   "id": "014d04a4",
   "metadata": {
    "execution": {
     "iopub.execute_input": "2022-12-16T04:04:59.024230Z",
     "iopub.status.busy": "2022-12-16T04:04:59.023554Z",
     "iopub.status.idle": "2022-12-16T04:04:59.027383Z",
     "shell.execute_reply": "2022-12-16T04:04:59.026697Z"
    },
    "papermill": {
     "duration": 0.014395,
     "end_time": "2022-12-16T04:04:59.028995",
     "exception": false,
     "start_time": "2022-12-16T04:04:59.014600",
     "status": "completed"
    },
    "tags": []
   },
   "outputs": [],
   "source": [
    "for paper_id, md in documents:\n",
    "    export_markdown_summary(md, f\"{paper_id:s}.md\", '_build/html/')"
   ]
  },
  {
   "cell_type": "markdown",
   "id": "f087a0a7",
   "metadata": {
    "papermill": {
     "duration": 0.007783,
     "end_time": "2022-12-16T04:04:59.044707",
     "exception": false,
     "start_time": "2022-12-16T04:04:59.036924",
     "status": "completed"
    },
    "tags": []
   },
   "source": [
    "## Display the papers\n",
    "\n",
    "Not necessary but allows for a quick check."
   ]
  },
  {
   "cell_type": "code",
   "execution_count": 9,
   "id": "fd25f625",
   "metadata": {
    "execution": {
     "iopub.execute_input": "2022-12-16T04:04:59.062240Z",
     "iopub.status.busy": "2022-12-16T04:04:59.061495Z",
     "iopub.status.idle": "2022-12-16T04:04:59.065726Z",
     "shell.execute_reply": "2022-12-16T04:04:59.065076Z"
    },
    "papermill": {
     "duration": 0.014832,
     "end_time": "2022-12-16T04:04:59.067319",
     "exception": false,
     "start_time": "2022-12-16T04:04:59.052487",
     "status": "completed"
    },
    "scrolled": false,
    "tags": []
   },
   "outputs": [],
   "source": [
    "[display(Markdown(k[1])) for k in documents];"
   ]
  },
  {
   "cell_type": "markdown",
   "id": "873873a4",
   "metadata": {
    "papermill": {
     "duration": 0.007606,
     "end_time": "2022-12-16T04:04:59.082711",
     "exception": false,
     "start_time": "2022-12-16T04:04:59.075105",
     "status": "completed"
    },
    "tags": []
   },
   "source": [
    "# Create HTML index"
   ]
  },
  {
   "cell_type": "code",
   "execution_count": 10,
   "id": "cf665672",
   "metadata": {
    "execution": {
     "iopub.execute_input": "2022-12-16T04:04:59.099974Z",
     "iopub.status.busy": "2022-12-16T04:04:59.099359Z",
     "iopub.status.idle": "2022-12-16T04:04:59.110149Z",
     "shell.execute_reply": "2022-12-16T04:04:59.109498Z"
    },
    "papermill": {
     "duration": 0.021289,
     "end_time": "2022-12-16T04:04:59.111687",
     "exception": false,
     "start_time": "2022-12-16T04:04:59.090398",
     "status": "completed"
    },
    "tags": []
   },
   "outputs": [
    {
     "name": "stdout",
     "output_type": "stream",
     "text": [
      "133  publications in the last 7 days.\n",
      "\t _build/html/2212.07332.md\n",
      "\t _build/html/2212.06434.md\n",
      "\t _build/html/2212.04710.md\n",
      "\t _build/html/2212.04026.md\n",
      "\t _build/html/2212.03563.md\n",
      "\t _build/html/2212.03514.md\n",
      "\t _build/html/2212.02667.md\n",
      "\t _build/html/2212.02627.md\n",
      "\t _build/html/2212.02235.md\n",
      "\t _build/html/2212.01707.md\n",
      "\t _build/html/2212.01526.md\n",
      "\t _build/html/2212.01397.md\n",
      "\t _build/html/2212.01291.md\n",
      "\t _build/html/2212.01281.md\n",
      "\t _build/html/2212.00812.md\n",
      "\t _build/html/2212.00811.md\n",
      "\t _build/html/2212.00806.md\n",
      "\t _build/html/2212.00047.md\n",
      "\t _build/html/2212.00032.md\n",
      "\t _build/html/2211.16996.md\n",
      "\t _build/html/2211.16510.md\n",
      "\t _build/html/2211.16123.md\n",
      "\t _build/html/2211.15816.md\n",
      "\t _build/html/2211.15698.md\n",
      "\t _build/html/2211.15576.md\n",
      "\t _build/html/2211.15434.md\n",
      "\t _build/html/2211.15288.md\n",
      "\t _build/html/2211.15224.md\n",
      "\t _build/html/2211.14543.md\n",
      "\t _build/html/2211.14330.md\n",
      "\t _build/html/2211.14322.md\n",
      "\t _build/html/2211.14132.md\n",
      "\t _build/html/2211.13811.md\n",
      "\t _build/html/2211.13426.md\n",
      "\t _build/html/2211.13318.md\n",
      "\t _build/html/2211.13146.md\n",
      "\t _build/html/2211.12613.md\n",
      "\t _build/html/2211.11767.md\n",
      "\t _build/html/2211.09840.md\n",
      "\t _build/html/2211.09217.md\n",
      "\t _build/html/2211.08493.md\n",
      "\t _build/html/2211.08487.md\n",
      "\t _build/html/2211.08294.md\n",
      "\t _build/html/2211.07667.md\n",
      "\t _build/html/2211.07659.md\n",
      "\t _build/html/2211.06454.md\n",
      "\t _build/html/2211.06205.md\n",
      "\t _build/html/2211.06194.md\n",
      "\t _build/html/2211.05022.md\n",
      "\t _build/html/2211.04048.md\n",
      "\t _build/html/2211.03641.md\n",
      "\t _build/html/2211.02502.md\n",
      "\t _build/html/2211.01474.md\n",
      "\t _build/html/2211.00667.md\n",
      "\t _build/html/2211.00657.md\n",
      "\t _build/html/2211.00087.md\n",
      "\t _build/html/2211.00036.md\n",
      "\t _build/html/2211.00020.md\n",
      "\t _build/html/2211.00010.md\n",
      "\t _build/html/2210.17434.md\n",
      "\t _build/html/2210.12412.md\n",
      "\t _build/html/2210.11926.md\n",
      "\t _build/html/2210.11551.md\n",
      "\t _build/html/2210.11103.md\n",
      "\t _build/html/2210.10707.md\n",
      "\t _build/html/2210.09930.md\n",
      "\t _build/html/2210.08996.md\n",
      "\t _build/html/2210.08517.md\n",
      "\t _build/html/2210.08510.md\n",
      "\t _build/html/2210.08078.md\n",
      "\t _build/html/2210.06504.md\n",
      "\t _build/html/2210.05695.md\n",
      "\t _build/html/2210.05595.md\n",
      "\t _build/html/2210.05505.md\n",
      "\t _build/html/2210.04721.md\n",
      "\t _build/html/2210.03615.md\n",
      "\t _build/html/2210.01811.md\n",
      "\t _build/html/2210.01809.md\n",
      "\t _build/html/2210.01556.md\n",
      "\t _build/html/2210.00863.md\n",
      "\t _build/html/2210.00560.md\n",
      "\t _build/html/2209.15403.md\n",
      "\t _build/html/2209.15110.md\n",
      "\t _build/html/2209.14410.md\n",
      "\t _build/html/2209.14396.md\n",
      "\t _build/html/2209.13717.md\n",
      "\t _build/html/2209.13336.md\n",
      "\t _build/html/2209.12906.md\n",
      "\t _build/html/2209.11781.md\n",
      "\t _build/html/2209.11602.md\n",
      "\t _build/html/2209.11248.md\n",
      "\t _build/html/2209.11096.md\n",
      "\t _build/html/2209.10618.md\n",
      "\t _build/html/2209.09914.md\n",
      "\t _build/html/2209.09823.md\n",
      "\t _build/html/2209.08242.md\n",
      "\t _build/html/2209.08120.md\n",
      "\t _build/html/2209.08106.md\n",
      "\t _build/html/2209.07962.md\n",
      "\t _build/html/2209.07931.md\n",
      "\t _build/html/2209.06833.md\n",
      "\t _build/html/2209.05814.md\n",
      "\t _build/html/2209.05593.md\n",
      "\t _build/html/2209.04304.md\n",
      "\t _build/html/2209.03367.md\n",
      "\t _build/html/2209.02872.md\n",
      "\t _build/html/2209.02725.md\n",
      "\t _build/html/2209.02722.md\n",
      "\t _build/html/2209.02092.md\n",
      "\t _build/html/2209.01125.md\n",
      "\t _build/html/2209.00828.md\n",
      "\t _build/html/2209.00363.md\n",
      "\t _build/html/2208.14927.md\n",
      "\t _build/html/2208.09335.md\n",
      "\t _build/html/2208.08872.md\n",
      "\t _build/html/2204.06393.md\n",
      "\t _build/html/2204.03335.md\n",
      "\t _build/html/2204.03253.md\n",
      "\t _build/html/2204.02998.md\n",
      "\t _build/html/2204.02109.md\n",
      "\t _build/html/2204.02017.md\n",
      "\t _build/html/2204.01824.md\n",
      "\t _build/html/2204.01758.md\n",
      "\t _build/html/2204.01245.md\n",
      "\t _build/html/2204.00793.md\n",
      "\t _build/html/2204.00342.md\n",
      "\t _build/html/2203.16959.md\n",
      "\t _build/html/2203.16856.md\n",
      "\t _build/html/2203.16735.md\n",
      "\t _build/html/2203.16734.md\n",
      "\t _build/html/2203.16504.md\n",
      "\t _build/html/2203.15822.md\n",
      "\t _build/html/2203.15811.md\n"
     ]
    }
   ],
   "source": [
    "from datetime import datetime, timedelta, timezone\n",
    "from glob import glob\n",
    "\n",
    "files = glob('_build/html/*.md')\n",
    "days = 7\n",
    "now = datetime.today()\n",
    "res = []\n",
    "for fk in files:\n",
    "    stat_result = os.stat(fk).st_ctime\n",
    "    modified = datetime.fromtimestamp(stat_result, tz=timezone.utc).replace(tzinfo=None)\n",
    "    delta = now.today() - modified\n",
    "    if delta <= timedelta(days=days):\n",
    "        res.append((delta.seconds, fk))\n",
    "res = [k[1] for k in reversed(sorted(res, key=lambda x:x[1]))]\n",
    "npub = len(res)\n",
    "print(len(res), f\" publications in the last {days:d} days.\")\n",
    "[ print('\\t', k) for k in res ];"
   ]
  },
  {
   "cell_type": "code",
   "execution_count": 11,
   "id": "52ca0208",
   "metadata": {
    "execution": {
     "iopub.execute_input": "2022-12-16T04:04:59.128935Z",
     "iopub.status.busy": "2022-12-16T04:04:59.128447Z",
     "iopub.status.idle": "2022-12-16T04:04:59.134893Z",
     "shell.execute_reply": "2022-12-16T04:04:59.134228Z"
    },
    "papermill": {
     "duration": 0.016869,
     "end_time": "2022-12-16T04:04:59.136425",
     "exception": false,
     "start_time": "2022-12-16T04:04:59.119556",
     "status": "completed"
    },
    "scrolled": false,
    "tags": []
   },
   "outputs": [],
   "source": [
    "def create_carousel(npub=4):\n",
    "    \"\"\" Generate the HTML code for a carousel with `npub` slides \"\"\"\n",
    "    carousel = [\"\"\"<section class=\"carousel\" aria-label=\"Gallery\">\"\"\",\n",
    "                \"\"\"  <ol class=\"carousel__viewport\">\"\"\",\n",
    "    ]\n",
    "    for k in range(1, npub + 1):\n",
    "        prev_ = k - 1\n",
    "        next_ = k + 1\n",
    "        if prev_ <= 0:\n",
    "            prev_ = npub\n",
    "        if next_ > npub:\n",
    "            next_ = 1\n",
    "        text  = f\"\"\"    <li id=\"carousel__slide{k}\" tabindex=\"0\" class=\"carousel__slide\">\\n\"\"\"\n",
    "        text += f\"\"\"       <div class=\"carousel__snapper\">\\n\"\"\"\n",
    "        text += f\"\"\"         <a href=\"#carousel__slide{prev_}\" class=\"carousel__prev\">Go to previous slide</a>\\n\"\"\"\n",
    "        text += f\"\"\"         <a href=\"#carousel__slide{next_}\" class=\"carousel__next\">Go to next slide</a>\\n\"\"\"\n",
    "        text += f\"\"\"         <div id=\"slide{k}_content\" class=\"md_view\" >Content {k}</div>\\n\"\"\"\n",
    "        text += f\"\"\"       </div>\\n\"\"\"\n",
    "        text += f\"\"\"    </li>\"\"\"\n",
    "        carousel.append(text)\n",
    "\n",
    "    carousel.extend([\n",
    "        \"\"\"  </ol>\"\"\",\n",
    "        \"\"\"  <aside class=\"carousel__navigation\">\"\"\",\n",
    "        \"\"\"    <ol class=\"carousel__navigation-list\">\"\"\"])\n",
    "\n",
    "    for k in range(1, npub + 1):\n",
    "        text  = f\"\"\"      <li class=\"carousel__navigation-item\">\\n\"\"\"\n",
    "        text += f\"\"\"        <a href=\"#carousel__slide{k}\" class=\"carousel__navigation-button\">Go to {k}</a>\\n\"\"\"\n",
    "        text += f\"\"\"      </li>\"\"\"\n",
    "        carousel.append(text)\n",
    "    carousel.extend([\"\"\"    </ol>\"\"\", \"\"\"  </aside>\"\"\", \"\"\"</section>\"\"\"])\n",
    "\n",
    "    return '\\n'.join(carousel)"
   ]
  },
  {
   "cell_type": "code",
   "execution_count": 12,
   "id": "a6eac5b6",
   "metadata": {
    "execution": {
     "iopub.execute_input": "2022-12-16T04:04:59.154450Z",
     "iopub.status.busy": "2022-12-16T04:04:59.153966Z",
     "iopub.status.idle": "2022-12-16T04:04:59.160715Z",
     "shell.execute_reply": "2022-12-16T04:04:59.160115Z"
    },
    "papermill": {
     "duration": 0.017713,
     "end_time": "2022-12-16T04:04:59.162297",
     "exception": false,
     "start_time": "2022-12-16T04:04:59.144584",
     "status": "completed"
    },
    "scrolled": false,
    "tags": []
   },
   "outputs": [],
   "source": [
    "carousel = create_carousel(npub)\n",
    "docs = ', '.join(['\"{0:s}\"'.format(k.split('/')[-1]) for k in res])\n",
    "slides = ', '.join([f'\"slide{k}_content\"' for k in range(1, npub + 1)])\n",
    "\n",
    "script = f\"\"\"\n",
    "const docs = [{docs}]\n",
    "\n",
    "const slides = [{slides}]\n",
    "\"\"\" + \"\"\"\n",
    "async function run() {\n",
    "    for (let i = 0; i < docs.length; i++) {\n",
    "        let file = await fetch(docs[i]);\n",
    "        let text = await file.text()\n",
    "        document.getElementById(slides[i]).innerHTML =\n",
    "            marked.parse(text);\n",
    "    }\n",
    "    hljs.highlightAll();\n",
    "}\n",
    "run()\n",
    "\"\"\"\n",
    "\n",
    "page = f\"\"\"<!doctype html>\n",
    "<html lang=\"en\">\n",
    "\n",
    "<head>\n",
    "  <meta charset=\"utf-8\">\n",
    "  <meta name=\"viewport\" content=\"width=device-width, initial-scale=1\">\n",
    "  <!-- Bootstrap CSS -->\n",
    "  <link href=\"https://cdn.jsdelivr.net/npm/bootstrap@5.0.2/dist/css/bootstrap.min.css\" rel=\"stylesheet\"\n",
    "   integrity=\"sha384-EVSTQN3/azprG1Anm3QDgpJLIm9Nao0Yz1ztcQTwFspd3yD65VohhpuuCOmLASjC\" crossorigin=\"anonymous\">\n",
    "  <!-- highlight.js CSS -->\n",
    "  <link rel=\"stylesheet\" href=\"https://cdnjs.cloudflare.com/ajax/libs/highlight.js/11.1.0/styles/default.min.css\">\n",
    "  <!-- Mathjax 3 -->\n",
    "  <script type=\"text/javascript\" id=\"MathJax-config\" src=\"mathjax_config.js\"> </script>\n",
    "  <script type=\"text/javascript\" id=\"MathJax-script\" async \n",
    "    src=\"https://cdn.jsdelivr.net/npm/mathjax@3/es5/tex-mml-chtml.js\">\n",
    "  </script>\n",
    "  <link rel=\"stylesheet\" href=\"index_carousel.css\">\n",
    "  <link rel=\"icon\" type=\"image/x-icon\" href=\"https://www.mpia.de/assets/touch-icon-32x32-a66937bcebc4e8894ebff1f41a366c7c7220fd97a38869ee0f2db65a9f59b6c1.png\">\n",
    "  <title>MPIA Arxiv on deck!</title>\n",
    "</head>\n",
    "\n",
    "<body>\n",
    "  <div id=\"header\"> <img src=\"header_banner.png\" width=\"100%\"></div>\n",
    "  <div id=\"suptitle\"> 7-day archives </div>\n",
    "  <div id=\"info\">\n",
    "    <img src=\"https://pngimg.com/uploads/github/github_PNG58.png\" height=30rem></img>\n",
    "    <a href=https://github.com/mpi-astronomy/arxiv_display style=\"color:black;\">github/mpi-astronomy/arxiv_display</a> \n",
    "  </div>\n",
    "  {carousel:s}\n",
    "</body>\n",
    "\n",
    "<!-- Render Markdown -->\n",
    "\n",
    "<body>\n",
    "  <!-- highlight.js: https://highlightjs.org/download/ -->\n",
    "  <script src=\"https://cdnjs.cloudflare.com/ajax/libs/highlight.js/11.5.0/highlight.min.js\"></script>\n",
    "  <!-- marked.js -->\n",
    "  <script src=\"https://cdn.jsdelivr.net/npm/marked/marked.min.js\"></script>\n",
    "  <script>{script:s}</script>\n",
    "</body>\n",
    "</html>\n",
    "\"\"\"\n",
    "with open(\"_build/html/index_7days.html\", 'w') as fout:\n",
    "    fout.write(page)"
   ]
  },
  {
   "cell_type": "markdown",
   "id": "1cebacbc",
   "metadata": {
    "papermill": {
     "duration": 0.007895,
     "end_time": "2022-12-16T04:04:59.178177",
     "exception": false,
     "start_time": "2022-12-16T04:04:59.170282",
     "status": "completed"
    },
    "tags": []
   },
   "source": [
    "# Debugging papers"
   ]
  },
  {
   "cell_type": "raw",
   "id": "debe7cc6",
   "metadata": {
    "papermill": {
     "duration": 0.007881,
     "end_time": "2022-12-16T04:04:59.194062",
     "exception": false,
     "start_time": "2022-12-16T04:04:59.186181",
     "status": "completed"
    },
    "tags": []
   },
   "source": [
    "raise NotImplementedError(\"Manual Stop\")"
   ]
  },
  {
   "cell_type": "raw",
   "id": "eb169192",
   "metadata": {
    "papermill": {
     "duration": 0.007875,
     "end_time": "2022-12-16T04:04:59.209959",
     "exception": false,
     "start_time": "2022-12-16T04:04:59.202084",
     "status": "completed"
    },
    "scrolled": true,
    "tags": []
   },
   "source": [
    "from IPython.display import display, Markdown\n",
    "from TexSoup import TexSoup\n",
    "import re\n",
    "\n",
    "def bracket_error(source: str):\n",
    "    \"\"\" Find problematic portions of the document \"\"\"\n",
    "    \n",
    "    print(\"len(source)\", len(source))\n",
    "    \n",
    "    # Checking header\n",
    "    begin_doc = next(re.finditer(r'\\\\begin\\{document\\}', doc.source)).span()[1]\n",
    "    header = source[:begin_doc]\n",
    "    text = header + r\"\\n\\end{document}\"\n",
    "\n",
    "    try:\n",
    "        # print(\"Header check... \", end='')\n",
    "        TexSoup(text)\n",
    "        display(Markdown(f\"**[OK]** - Header\"))\n",
    "    except:\n",
    "        raise RuntimeError(\"Error in the header\")\n",
    "        \n",
    "    # Check the text per section until the end.\n",
    "    # Do not stop and try them all.\n",
    "    \n",
    "    problematic_text = []\n",
    "    \n",
    "    sections = ([(0, begin_doc, 'until first section')] + \n",
    "                [(g.span()[0], g.span()[1], g.group()) for g in re.finditer(r'\\\\section\\{.*\\}', source)] +\n",
    "                [(g.span()[0], g.span()[1], g.group()) for g in re.finditer(r'\\\\begin\\{appendix\\}', source)]\n",
    "               )\n",
    "    sections.append([len(source), len(source), 'end'])\n",
    "    \n",
    "    sections = sorted(sections, key=lambda x: x[0])\n",
    "    \n",
    "    prev_pos, prev_name = (0, 'header')\n",
    "    parsed = []\n",
    "    \n",
    "    for span, span_end, name in sections:\n",
    "\n",
    "        if span - prev_pos <= 0:\n",
    "            continue\n",
    "            \n",
    "\n",
    "        text = source[prev_pos:span]\n",
    "        if prev_pos > begin_doc:\n",
    "            text = r\"\\n\\begin{document}\" + text + r\"\\n\\end{document}\"\n",
    "        else:\n",
    "            text = text + r\"\\n\\end{document}\"\n",
    "        try:\n",
    "            #print(f\"{prev_pos}:{prev_name}-->{span}:{name} check... \", end='')\n",
    "            parsed.append(TexSoup(text, tolerance=1))  # allow not ending env\n",
    "            display(Markdown(f\"**[OK]** - *{prev_pos}*:{prev_name} &rarr; *{span}*:{name}\"))\n",
    "            # print(\"ok\")\n",
    "\n",
    "            prev_pos = span\n",
    "            prev_name = name\n",
    "        except:\n",
    "            # print(f\"error between {prev_pos} and {span}\")\n",
    "            display(Markdown(f\"**[ERR]** *{prev_pos}*:{prev_name} &rarr; *{span}*:{name}\"))\n",
    "            problematic_text.append((prev_pos, source[prev_pos:span]))\n",
    "            prev_pos = span\n",
    "            prev_name = name\n",
    "            # raise\n",
    "    return problematic_text, parsed\n",
    "\n",
    "\n",
    "def check_environment(text, offset=0):\n",
    "    \"\"\" Check environment \"\"\"\n",
    "    env = re.compile(r\"\\\\begin\\{(?P<env>.*)\\}(.*)\\\\end\\{(?P=env)\\}\", re.DOTALL)\n",
    "\n",
    "    for match in env.finditer(text):\n",
    "        beg, end = match.span()\n",
    "        beg += offset\n",
    "        end += offset\n",
    "        envname = match.groups()[0]\n",
    "        try:\n",
    "            latex.TexSoup(match.group())\n",
    "        except Exception as e:\n",
    "            display(e)\n",
    "            print(f\"Error in {envname:s} between {beg} and {end}\")\n",
    "            return match.groups()[1], beg, end"
   ]
  },
  {
   "cell_type": "raw",
   "id": "2315e835",
   "metadata": {
    "papermill": {
     "duration": 0.007843,
     "end_time": "2022-12-16T04:04:59.225725",
     "exception": false,
     "start_time": "2022-12-16T04:04:59.217882",
     "status": "completed"
    },
    "scrolled": false,
    "tags": []
   },
   "source": [
    "import importlib\n",
    "importlib.reload(latex)\n",
    "which = \"2204.03253\"\n",
    "paper_id = f'{which:s}'\n",
    "folder = f'tmp_{paper_id:s}'\n",
    "\n",
    "if not os.path.isdir(folder):\n",
    "    folder = retrieve_document_source(f\"{paper_id}\", f'tmp_{paper_id}')\n",
    "\n",
    "try:\n",
    "    doc = latex.LatexDocument(folder, validation=validation)    \n",
    "except AffiliationError as affilerror:\n",
    "    msg = f\"ArXiv:{paper_id:s} is not an MPIA paper... \" + str(affilerror)\n",
    "    print(msg)\n",
    "\n",
    "\n",
    "# Hack because sometimes author parsing does not work well\n",
    "if (len(doc.authors) != len(paper['authors'])):\n",
    "    doc._authors = paper['authors']\n",
    "if (doc.abstract) in (None, ''):\n",
    "    doc._abstract = paper['abstract']\n",
    "\n",
    "doc.comment = get_markdown_badge(paper_id) + \" _\" + paper['comments'] + \"_\"\n",
    "doc.highlight_authors_in_list(hl_list)\n",
    "\n",
    "full_md = doc.generate_markdown_text()"
   ]
  },
  {
   "cell_type": "raw",
   "id": "dd3781db",
   "metadata": {
    "papermill": {
     "duration": 0.007846,
     "end_time": "2022-12-16T04:04:59.241588",
     "exception": false,
     "start_time": "2022-12-16T04:04:59.233742",
     "status": "completed"
    },
    "scrolled": false,
    "tags": []
   },
   "source": [
    "doc"
   ]
  },
  {
   "cell_type": "raw",
   "id": "c6eed834",
   "metadata": {
    "papermill": {
     "duration": 0.007943,
     "end_time": "2022-12-16T04:04:59.257626",
     "exception": false,
     "start_time": "2022-12-16T04:04:59.249683",
     "status": "completed"
    },
    "tags": []
   },
   "source": [
    "# [check_environment(k) for k in bracket_error(doc.source)]\n",
    "_, _, a = latex.get_content_per_section(doc.source, verbose=True)\n",
    "if not a:\n",
    "    print(\"no issues per section\")\n",
    "for ak in a:\n",
    "    r = check_environment(ak[1], offset=ak[0])\n",
    "    print(r[1], r[2])\n",
    "    print(r[0])"
   ]
  },
  {
   "cell_type": "code",
   "execution_count": null,
   "id": "71ce768a",
   "metadata": {
    "papermill": {
     "duration": 0.008104,
     "end_time": "2022-12-16T04:04:59.316055",
     "exception": false,
     "start_time": "2022-12-16T04:04:59.307951",
     "status": "completed"
    },
    "tags": []
   },
   "outputs": [],
   "source": []
  }
 ],
 "metadata": {
  "kernelspec": {
   "display_name": "Python 3.10.6 64-bit",
   "language": "python",
   "name": "python3"
  },
  "language_info": {
   "codemirror_mode": {
    "name": "ipython",
    "version": 3
   },
   "file_extension": ".py",
   "mimetype": "text/x-python",
   "name": "python",
   "nbconvert_exporter": "python",
   "pygments_lexer": "ipython3",
   "version": "3.9.16"
  },
  "papermill": {
   "default_parameters": {},
   "duration": 44.207268,
   "end_time": "2022-12-16T04:04:59.544483",
   "environment_variables": {},
   "exception": null,
   "input_path": "MPIA daily digest.ipynb",
   "output_path": "log.ipynb",
   "parameters": {},
   "start_time": "2022-12-16T04:04:15.337215",
   "version": "2.4.0"
  },
  "vscode": {
   "interpreter": {
    "hash": "e7370f93d1d0cde622a1f8e1c04877d8463912d04d973331ad4851f04de6915a"
   }
  },
  "widgets": {
   "application/vnd.jupyter.widget-state+json": {
    "state": {
     "00641bfc390645e9bc46cf31f034c4e2": {
      "model_module": "@jupyter-widgets/base",
      "model_module_version": "2.0.0",
      "model_name": "LayoutModel",
      "state": {
       "_model_module": "@jupyter-widgets/base",
       "_model_module_version": "2.0.0",
       "_model_name": "LayoutModel",
       "_view_count": null,
       "_view_module": "@jupyter-widgets/base",
       "_view_module_version": "2.0.0",
       "_view_name": "LayoutView",
       "align_content": null,
       "align_items": null,
       "align_self": null,
       "border_bottom": null,
       "border_left": null,
       "border_right": null,
       "border_top": null,
       "bottom": null,
       "display": null,
       "flex": null,
       "flex_flow": null,
       "grid_area": null,
       "grid_auto_columns": null,
       "grid_auto_flow": null,
       "grid_auto_rows": null,
       "grid_column": null,
       "grid_gap": null,
       "grid_row": null,
       "grid_template_areas": null,
       "grid_template_columns": null,
       "grid_template_rows": null,
       "height": null,
       "justify_content": null,
       "justify_items": null,
       "left": null,
       "margin": null,
       "max_height": null,
       "max_width": null,
       "min_height": null,
       "min_width": null,
       "object_fit": null,
       "object_position": null,
       "order": null,
       "overflow": null,
       "padding": null,
       "right": null,
       "top": null,
       "visibility": null,
       "width": null
      }
     },
     "0a93ace67b5945c0a3dfb37108500d46": {
      "model_module": "@jupyter-widgets/controls",
      "model_module_version": "2.0.0",
      "model_name": "HTMLModel",
      "state": {
       "_dom_classes": [],
       "_model_module": "@jupyter-widgets/controls",
       "_model_module_version": "2.0.0",
       "_model_name": "HTMLModel",
       "_view_count": null,
       "_view_module": "@jupyter-widgets/controls",
       "_view_module_version": "2.0.0",
       "_view_name": "HTMLView",
       "description": "",
       "description_allow_html": false,
       "layout": "IPY_MODEL_74a739ae2149499fb4f3b206ff673979",
       "placeholder": "​",
       "style": "IPY_MODEL_9a647929bca7465a8157d08da256bcbd",
       "tabbable": null,
       "tooltip": null,
       "value": ""
      }
     },
     "149cd19328464717912e5f6f2049619d": {
      "model_module": "@jupyter-widgets/base",
      "model_module_version": "2.0.0",
      "model_name": "LayoutModel",
      "state": {
       "_model_module": "@jupyter-widgets/base",
       "_model_module_version": "2.0.0",
       "_model_name": "LayoutModel",
       "_view_count": null,
       "_view_module": "@jupyter-widgets/base",
       "_view_module_version": "2.0.0",
       "_view_name": "LayoutView",
       "align_content": null,
       "align_items": null,
       "align_self": null,
       "border_bottom": null,
       "border_left": null,
       "border_right": null,
       "border_top": null,
       "bottom": null,
       "display": null,
       "flex": null,
       "flex_flow": null,
       "grid_area": null,
       "grid_auto_columns": null,
       "grid_auto_flow": null,
       "grid_auto_rows": null,
       "grid_column": null,
       "grid_gap": null,
       "grid_row": null,
       "grid_template_areas": null,
       "grid_template_columns": null,
       "grid_template_rows": null,
       "height": null,
       "justify_content": null,
       "justify_items": null,
       "left": null,
       "margin": null,
       "max_height": null,
       "max_width": null,
       "min_height": null,
       "min_width": null,
       "object_fit": null,
       "object_position": null,
       "order": null,
       "overflow": null,
       "padding": null,
       "right": null,
       "top": null,
       "visibility": null,
       "width": null
      }
     },
     "1b9beaefd8f74d67ba1b936bcacca356": {
      "model_module": "@jupyter-widgets/base",
      "model_module_version": "2.0.0",
      "model_name": "LayoutModel",
      "state": {
       "_model_module": "@jupyter-widgets/base",
       "_model_module_version": "2.0.0",
       "_model_name": "LayoutModel",
       "_view_count": null,
       "_view_module": "@jupyter-widgets/base",
       "_view_module_version": "2.0.0",
       "_view_name": "LayoutView",
       "align_content": null,
       "align_items": null,
       "align_self": null,
       "border_bottom": null,
       "border_left": null,
       "border_right": null,
       "border_top": null,
       "bottom": null,
       "display": null,
       "flex": null,
       "flex_flow": null,
       "grid_area": null,
       "grid_auto_columns": null,
       "grid_auto_flow": null,
       "grid_auto_rows": null,
       "grid_column": null,
       "grid_gap": null,
       "grid_row": null,
       "grid_template_areas": null,
       "grid_template_columns": null,
       "grid_template_rows": null,
       "height": null,
       "justify_content": null,
       "justify_items": null,
       "left": null,
       "margin": null,
       "max_height": null,
       "max_width": null,
       "min_height": null,
       "min_width": null,
       "object_fit": null,
       "object_position": null,
       "order": null,
       "overflow": null,
       "padding": null,
       "right": null,
       "top": null,
       "visibility": null,
       "width": null
      }
     },
     "4e3812288a3c47d0b86b667c876c85c5": {
      "model_module": "@jupyter-widgets/controls",
      "model_module_version": "2.0.0",
      "model_name": "ProgressStyleModel",
      "state": {
       "_model_module": "@jupyter-widgets/controls",
       "_model_module_version": "2.0.0",
       "_model_name": "ProgressStyleModel",
       "_view_count": null,
       "_view_module": "@jupyter-widgets/base",
       "_view_module_version": "2.0.0",
       "_view_name": "StyleView",
       "bar_color": null,
       "description_width": ""
      }
     },
     "55ae27c31f8f4861afed9b2dcc066448": {
      "model_module": "@jupyter-widgets/base",
      "model_module_version": "2.0.0",
      "model_name": "LayoutModel",
      "state": {
       "_model_module": "@jupyter-widgets/base",
       "_model_module_version": "2.0.0",
       "_model_name": "LayoutModel",
       "_view_count": null,
       "_view_module": "@jupyter-widgets/base",
       "_view_module_version": "2.0.0",
       "_view_name": "LayoutView",
       "align_content": null,
       "align_items": null,
       "align_self": null,
       "border_bottom": null,
       "border_left": null,
       "border_right": null,
       "border_top": null,
       "bottom": null,
       "display": null,
       "flex": null,
       "flex_flow": null,
       "grid_area": null,
       "grid_auto_columns": null,
       "grid_auto_flow": null,
       "grid_auto_rows": null,
       "grid_column": null,
       "grid_gap": null,
       "grid_row": null,
       "grid_template_areas": null,
       "grid_template_columns": null,
       "grid_template_rows": null,
       "height": null,
       "justify_content": null,
       "justify_items": null,
       "left": null,
       "margin": null,
       "max_height": null,
       "max_width": null,
       "min_height": null,
       "min_width": null,
       "object_fit": null,
       "object_position": null,
       "order": null,
       "overflow": null,
       "padding": null,
       "right": null,
       "top": null,
       "visibility": null,
       "width": null
      }
     },
     "56cbcdf8fa174158ada038d24a022c10": {
      "model_module": "@jupyter-widgets/base",
      "model_module_version": "2.0.0",
      "model_name": "LayoutModel",
      "state": {
       "_model_module": "@jupyter-widgets/base",
       "_model_module_version": "2.0.0",
       "_model_name": "LayoutModel",
       "_view_count": null,
       "_view_module": "@jupyter-widgets/base",
       "_view_module_version": "2.0.0",
       "_view_name": "LayoutView",
       "align_content": null,
       "align_items": null,
       "align_self": null,
       "border_bottom": null,
       "border_left": null,
       "border_right": null,
       "border_top": null,
       "bottom": null,
       "display": null,
       "flex": null,
       "flex_flow": null,
       "grid_area": null,
       "grid_auto_columns": null,
       "grid_auto_flow": null,
       "grid_auto_rows": null,
       "grid_column": null,
       "grid_gap": null,
       "grid_row": null,
       "grid_template_areas": null,
       "grid_template_columns": null,
       "grid_template_rows": null,
       "height": null,
       "justify_content": null,
       "justify_items": null,
       "left": null,
       "margin": null,
       "max_height": null,
       "max_width": null,
       "min_height": null,
       "min_width": null,
       "object_fit": null,
       "object_position": null,
       "order": null,
       "overflow": null,
       "padding": null,
       "right": null,
       "top": null,
       "visibility": null,
       "width": null
      }
     },
     "5b70594a3fb64079bda7278a826a1478": {
      "model_module": "@jupyter-widgets/controls",
      "model_module_version": "2.0.0",
      "model_name": "HTMLStyleModel",
      "state": {
       "_model_module": "@jupyter-widgets/controls",
       "_model_module_version": "2.0.0",
       "_model_name": "HTMLStyleModel",
       "_view_count": null,
       "_view_module": "@jupyter-widgets/base",
       "_view_module_version": "2.0.0",
       "_view_name": "StyleView",
       "background": null,
       "description_width": "",
       "font_size": null,
       "text_color": null
      }
     },
     "68a705deef4b48aebf83eec6adb261d8": {
      "model_module": "@jupyter-widgets/controls",
      "model_module_version": "2.0.0",
      "model_name": "HTMLStyleModel",
      "state": {
       "_model_module": "@jupyter-widgets/controls",
       "_model_module_version": "2.0.0",
       "_model_name": "HTMLStyleModel",
       "_view_count": null,
       "_view_module": "@jupyter-widgets/base",
       "_view_module_version": "2.0.0",
       "_view_name": "StyleView",
       "background": null,
       "description_width": "",
       "font_size": null,
       "text_color": null
      }
     },
     "70b4f0d898354c1b8f171bf1892f7e40": {
      "model_module": "@jupyter-widgets/controls",
      "model_module_version": "2.0.0",
      "model_name": "FloatProgressModel",
      "state": {
       "_dom_classes": [],
       "_model_module": "@jupyter-widgets/controls",
       "_model_module_version": "2.0.0",
       "_model_name": "FloatProgressModel",
       "_view_count": null,
       "_view_module": "@jupyter-widgets/controls",
       "_view_module_version": "2.0.0",
       "_view_name": "ProgressView",
       "bar_style": "success",
       "description": "",
       "description_allow_html": false,
       "layout": "IPY_MODEL_9f22fc47fd6f4c21bd88240cdccfeb04",
       "max": 15.0,
       "min": 0.0,
       "orientation": "horizontal",
       "style": "IPY_MODEL_e1703b23bf5d4a4db6e7d3bb61359f71",
       "tabbable": null,
       "tooltip": null,
       "value": 15.0
      }
     },
     "74a739ae2149499fb4f3b206ff673979": {
      "model_module": "@jupyter-widgets/base",
      "model_module_version": "2.0.0",
      "model_name": "LayoutModel",
      "state": {
       "_model_module": "@jupyter-widgets/base",
       "_model_module_version": "2.0.0",
       "_model_name": "LayoutModel",
       "_view_count": null,
       "_view_module": "@jupyter-widgets/base",
       "_view_module_version": "2.0.0",
       "_view_name": "LayoutView",
       "align_content": null,
       "align_items": null,
       "align_self": null,
       "border_bottom": null,
       "border_left": null,
       "border_right": null,
       "border_top": null,
       "bottom": null,
       "display": null,
       "flex": null,
       "flex_flow": null,
       "grid_area": null,
       "grid_auto_columns": null,
       "grid_auto_flow": null,
       "grid_auto_rows": null,
       "grid_column": null,
       "grid_gap": null,
       "grid_row": null,
       "grid_template_areas": null,
       "grid_template_columns": null,
       "grid_template_rows": null,
       "height": null,
       "justify_content": null,
       "justify_items": null,
       "left": null,
       "margin": null,
       "max_height": null,
       "max_width": null,
       "min_height": null,
       "min_width": null,
       "object_fit": null,
       "object_position": null,
       "order": null,
       "overflow": null,
       "padding": null,
       "right": null,
       "top": null,
       "visibility": null,
       "width": null
      }
     },
     "759e6401fb074767b8bc5a73df621038": {
      "model_module": "@jupyter-widgets/controls",
      "model_module_version": "2.0.0",
      "model_name": "HTMLModel",
      "state": {
       "_dom_classes": [],
       "_model_module": "@jupyter-widgets/controls",
       "_model_module_version": "2.0.0",
       "_model_name": "HTMLModel",
       "_view_count": null,
       "_view_module": "@jupyter-widgets/controls",
       "_view_module_version": "2.0.0",
       "_view_name": "HTMLView",
       "description": "",
       "description_allow_html": false,
       "layout": "IPY_MODEL_1b9beaefd8f74d67ba1b936bcacca356",
       "placeholder": "​",
       "style": "IPY_MODEL_68a705deef4b48aebf83eec6adb261d8",
       "tabbable": null,
       "tooltip": null,
       "value": ""
      }
     },
     "8b4df2d25fac43a18e684fbaa7684d70": {
      "model_module": "@jupyter-widgets/controls",
      "model_module_version": "2.0.0",
      "model_name": "HBoxModel",
      "state": {
       "_dom_classes": [],
       "_model_module": "@jupyter-widgets/controls",
       "_model_module_version": "2.0.0",
       "_model_name": "HBoxModel",
       "_view_count": null,
       "_view_module": "@jupyter-widgets/controls",
       "_view_module_version": "2.0.0",
       "_view_name": "HBoxView",
       "box_style": "",
       "children": [
        "IPY_MODEL_c48e58c9140d48698943d4351a8acb87",
        "IPY_MODEL_70b4f0d898354c1b8f171bf1892f7e40",
        "IPY_MODEL_f531248733404454bba8bbaa42f42a36"
       ],
       "layout": "IPY_MODEL_149cd19328464717912e5f6f2049619d",
       "tabbable": null,
       "tooltip": null
      }
     },
     "8c81da669fce4450a09120d0939168ed": {
      "model_module": "@jupyter-widgets/base",
      "model_module_version": "2.0.0",
      "model_name": "LayoutModel",
      "state": {
       "_model_module": "@jupyter-widgets/base",
       "_model_module_version": "2.0.0",
       "_model_name": "LayoutModel",
       "_view_count": null,
       "_view_module": "@jupyter-widgets/base",
       "_view_module_version": "2.0.0",
       "_view_name": "LayoutView",
       "align_content": null,
       "align_items": null,
       "align_self": null,
       "border_bottom": null,
       "border_left": null,
       "border_right": null,
       "border_top": null,
       "bottom": null,
       "display": null,
       "flex": null,
       "flex_flow": null,
       "grid_area": null,
       "grid_auto_columns": null,
       "grid_auto_flow": null,
       "grid_auto_rows": null,
       "grid_column": null,
       "grid_gap": null,
       "grid_row": null,
       "grid_template_areas": null,
       "grid_template_columns": null,
       "grid_template_rows": null,
       "height": null,
       "justify_content": null,
       "justify_items": null,
       "left": null,
       "margin": null,
       "max_height": null,
       "max_width": null,
       "min_height": null,
       "min_width": null,
       "object_fit": null,
       "object_position": null,
       "order": null,
       "overflow": null,
       "padding": null,
       "right": null,
       "top": null,
       "visibility": null,
       "width": null
      }
     },
     "9a647929bca7465a8157d08da256bcbd": {
      "model_module": "@jupyter-widgets/controls",
      "model_module_version": "2.0.0",
      "model_name": "HTMLStyleModel",
      "state": {
       "_model_module": "@jupyter-widgets/controls",
       "_model_module_version": "2.0.0",
       "_model_name": "HTMLStyleModel",
       "_view_count": null,
       "_view_module": "@jupyter-widgets/base",
       "_view_module_version": "2.0.0",
       "_view_name": "StyleView",
       "background": null,
       "description_width": "",
       "font_size": null,
       "text_color": null
      }
     },
     "9f22fc47fd6f4c21bd88240cdccfeb04": {
      "model_module": "@jupyter-widgets/base",
      "model_module_version": "2.0.0",
      "model_name": "LayoutModel",
      "state": {
       "_model_module": "@jupyter-widgets/base",
       "_model_module_version": "2.0.0",
       "_model_name": "LayoutModel",
       "_view_count": null,
       "_view_module": "@jupyter-widgets/base",
       "_view_module_version": "2.0.0",
       "_view_name": "LayoutView",
       "align_content": null,
       "align_items": null,
       "align_self": null,
       "border_bottom": null,
       "border_left": null,
       "border_right": null,
       "border_top": null,
       "bottom": null,
       "display": null,
       "flex": null,
       "flex_flow": null,
       "grid_area": null,
       "grid_auto_columns": null,
       "grid_auto_flow": null,
       "grid_auto_rows": null,
       "grid_column": null,
       "grid_gap": null,
       "grid_row": null,
       "grid_template_areas": null,
       "grid_template_columns": null,
       "grid_template_rows": null,
       "height": null,
       "justify_content": null,
       "justify_items": null,
       "left": null,
       "margin": null,
       "max_height": null,
       "max_width": null,
       "min_height": null,
       "min_width": null,
       "object_fit": null,
       "object_position": null,
       "order": null,
       "overflow": null,
       "padding": null,
       "right": null,
       "top": null,
       "visibility": null,
       "width": null
      }
     },
     "c0bf6d3a0bb8407f984a36911f9a6cbd": {
      "model_module": "@jupyter-widgets/controls",
      "model_module_version": "2.0.0",
      "model_name": "FloatProgressModel",
      "state": {
       "_dom_classes": [],
       "_model_module": "@jupyter-widgets/controls",
       "_model_module_version": "2.0.0",
       "_model_name": "FloatProgressModel",
       "_view_count": null,
       "_view_module": "@jupyter-widgets/controls",
       "_view_module_version": "2.0.0",
       "_view_name": "ProgressView",
       "bar_style": "",
       "description": "",
       "description_allow_html": false,
       "layout": "IPY_MODEL_9f22fc47fd6f4c21bd88240cdccfeb04",
       "max": 15.0,
       "min": 0.0,
       "orientation": "horizontal",
       "style": "IPY_MODEL_e1703b23bf5d4a4db6e7d3bb61359f71",
       "tabbable": null,
       "tooltip": null,
       "value": 0.0
      }
     },
     "c48e58c9140d48698943d4351a8acb87": {
      "model_module": "@jupyter-widgets/controls",
      "model_module_version": "2.0.0",
      "model_name": "HTMLModel",
      "state": {
       "_dom_classes": [],
       "_model_module": "@jupyter-widgets/controls",
       "_model_module_version": "2.0.0",
       "_model_name": "HTMLModel",
       "_view_count": null,
       "_view_module": "@jupyter-widgets/controls",
       "_view_module_version": "2.0.0",
       "_view_name": "HTMLView",
       "description": "",
       "description_allow_html": false,
       "layout": "IPY_MODEL_1b9beaefd8f74d67ba1b936bcacca356",
       "placeholder": "​",
       "style": "IPY_MODEL_68a705deef4b48aebf83eec6adb261d8",
       "tabbable": null,
       "tooltip": null,
       "value": "100%"
      }
     },
     "ce9fdcc182234e3db89d24b28b3fbff2": {
      "model_module": "@jupyter-widgets/controls",
      "model_module_version": "2.0.0",
      "model_name": "HTMLStyleModel",
      "state": {
       "_model_module": "@jupyter-widgets/controls",
       "_model_module_version": "2.0.0",
       "_model_name": "HTMLStyleModel",
       "_view_count": null,
       "_view_module": "@jupyter-widgets/base",
       "_view_module_version": "2.0.0",
       "_view_name": "StyleView",
       "background": null,
       "description_width": "",
       "font_size": null,
       "text_color": null
      }
     },
     "e1703b23bf5d4a4db6e7d3bb61359f71": {
      "model_module": "@jupyter-widgets/controls",
      "model_module_version": "2.0.0",
      "model_name": "ProgressStyleModel",
      "state": {
       "_model_module": "@jupyter-widgets/controls",
       "_model_module_version": "2.0.0",
       "_model_name": "ProgressStyleModel",
       "_view_count": null,
       "_view_module": "@jupyter-widgets/base",
       "_view_module_version": "2.0.0",
       "_view_name": "StyleView",
       "bar_color": null,
       "description_width": ""
      }
     },
     "f531248733404454bba8bbaa42f42a36": {
      "model_module": "@jupyter-widgets/controls",
      "model_module_version": "2.0.0",
      "model_name": "HTMLModel",
      "state": {
       "_dom_classes": [],
       "_model_module": "@jupyter-widgets/controls",
       "_model_module_version": "2.0.0",
       "_model_name": "HTMLModel",
       "_view_count": null,
       "_view_module": "@jupyter-widgets/controls",
       "_view_module_version": "2.0.0",
       "_view_name": "HTMLView",
       "description": "",
       "description_allow_html": false,
       "layout": "IPY_MODEL_74a739ae2149499fb4f3b206ff673979",
       "placeholder": "​",
       "style": "IPY_MODEL_9a647929bca7465a8157d08da256bcbd",
       "tabbable": null,
       "tooltip": null,
       "value": " 15/15 [00:18&lt;00:00,  1.55s/it]"
      }
     },
     "ffd0b678eab0490294bde5f22b5ffc1c": {
      "model_module": "@jupyter-widgets/controls",
      "model_module_version": "2.0.0",
      "model_name": "HBoxModel",
      "state": {
       "_dom_classes": [],
       "_model_module": "@jupyter-widgets/controls",
       "_model_module_version": "2.0.0",
       "_model_name": "HBoxModel",
       "_view_count": null,
       "_view_module": "@jupyter-widgets/controls",
       "_view_module_version": "2.0.0",
       "_view_name": "HBoxView",
       "box_style": "",
       "children": [
        "IPY_MODEL_c48e58c9140d48698943d4351a8acb87",
        "IPY_MODEL_70b4f0d898354c1b8f171bf1892f7e40",
        "IPY_MODEL_f531248733404454bba8bbaa42f42a36"
       ],
       "layout": "IPY_MODEL_149cd19328464717912e5f6f2049619d",
       "tabbable": null,
       "tooltip": null
      }
     }
    },
    "version_major": 2,
    "version_minor": 0
   }
  }
 },
 "nbformat": 4,
 "nbformat_minor": 5
}