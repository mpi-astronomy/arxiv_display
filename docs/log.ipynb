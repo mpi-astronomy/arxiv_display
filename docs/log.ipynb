{
 "cells": [
  {
   "cell_type": "markdown",
   "id": "92bcb855",
   "metadata": {
    "papermill": {
     "duration": 0.005572,
     "end_time": "2023-08-14T04:04:04.192954",
     "exception": false,
     "start_time": "2023-08-14T04:04:04.187382",
     "status": "completed"
    },
    "tags": []
   },
   "source": [
    "# MPIA Arxiv on Deck 2\n",
    "\n",
    "Contains the steps to produce the paper extractions."
   ]
  },
  {
   "cell_type": "code",
   "execution_count": 1,
   "id": "3a0d6e11",
   "metadata": {
    "execution": {
     "iopub.execute_input": "2023-08-14T04:04:04.203808Z",
     "iopub.status.busy": "2023-08-14T04:04:04.203163Z",
     "iopub.status.idle": "2023-08-14T04:04:04.503866Z",
     "shell.execute_reply": "2023-08-14T04:04:04.502818Z"
    },
    "papermill": {
     "duration": 0.308997,
     "end_time": "2023-08-14T04:04:04.506522",
     "exception": false,
     "start_time": "2023-08-14T04:04:04.197525",
     "status": "completed"
    },
    "tags": []
   },
   "outputs": [],
   "source": [
    "# Imports\n",
    "import os\n",
    "from IPython.display import Markdown, display\n",
    "from tqdm.notebook import tqdm\n",
    "import warnings\n",
    "from PIL import Image \n",
    "\n",
    "# requires arxiv_on_deck_2\n",
    "\n",
    "from arxiv_on_deck_2.arxiv2 import (get_new_papers, \n",
    "                                    get_paper_from_identifier,\n",
    "                                    retrieve_document_source, \n",
    "                                    get_markdown_badge)\n",
    "from arxiv_on_deck_2 import (latex,\n",
    "                             latex_bib,\n",
    "                             mpia,\n",
    "                             highlight_authors_in_list)\n",
    "\n",
    "# Sometimes images are really big\n",
    "Image.MAX_IMAGE_PIXELS = 1000000000 "
   ]
  },
  {
   "cell_type": "code",
   "execution_count": 2,
   "id": "22aa9d44",
   "metadata": {
    "execution": {
     "iopub.execute_input": "2023-08-14T04:04:04.519412Z",
     "iopub.status.busy": "2023-08-14T04:04:04.518653Z",
     "iopub.status.idle": "2023-08-14T04:04:04.526366Z",
     "shell.execute_reply": "2023-08-14T04:04:04.525350Z"
    },
    "papermill": {
     "duration": 0.016821,
     "end_time": "2023-08-14T04:04:04.529436",
     "exception": false,
     "start_time": "2023-08-14T04:04:04.512615",
     "status": "completed"
    },
    "tags": []
   },
   "outputs": [],
   "source": [
    "# Some useful definitions.\n",
    "\n",
    "class AffiliationWarning(UserWarning):\n",
    "    pass\n",
    "\n",
    "class AffiliationError(RuntimeError):\n",
    "    pass\n",
    "\n",
    "def validation(source: str):\n",
    "    \"\"\"Raises error paper during parsing of source file\n",
    "    \n",
    "    Allows checks before parsing TeX code.\n",
    "    \n",
    "    Raises AffiliationWarning\n",
    "    \"\"\"\n",
    "    check = mpia.affiliation_verifications(source, verbose=True)\n",
    "    if check is not True:\n",
    "        raise AffiliationError(\"mpia.affiliation_verifications: \" + check)\n",
    "\n",
    "        \n",
    "warnings.simplefilter('always', AffiliationWarning)\n",
    "\n",
    "\n",
    "def get_markdown_qrcode(paper_id: str):\n",
    "    \"\"\" Generate a qrcode to the arxiv page using qrserver.com\n",
    "    \n",
    "    :param paper: Arxiv paper\n",
    "    :returns: markdown text\n",
    "    \"\"\"\n",
    "    url = r\"https://api.qrserver.com/v1/create-qr-code/?size=100x100&data=\"\n",
    "    txt = f\"\"\"<img src={url}\"https://arxiv.org/abs/{paper_id}\">\"\"\"\n",
    "    txt = '<div id=\"qrcode\">' + txt + '</div>'\n",
    "    return txt"
   ]
  },
  {
   "cell_type": "markdown",
   "id": "14bd6310",
   "metadata": {
    "papermill": {
     "duration": 0.004251,
     "end_time": "2023-08-14T04:04:04.537993",
     "exception": false,
     "start_time": "2023-08-14T04:04:04.533742",
     "status": "completed"
    },
    "tags": []
   },
   "source": [
    "## get list of arxiv paper candidates\n",
    "\n",
    "We use the MPIA mitarbeiter list webpage from mpia.de to get author names\n",
    "We then get all new papers from Arxiv and match authors"
   ]
  },
  {
   "cell_type": "code",
   "execution_count": 3,
   "id": "2645e73a",
   "metadata": {
    "execution": {
     "iopub.execute_input": "2023-08-14T04:04:04.550297Z",
     "iopub.status.busy": "2023-08-14T04:04:04.549372Z",
     "iopub.status.idle": "2023-08-14T04:04:29.367934Z",
     "shell.execute_reply": "2023-08-14T04:04:29.365790Z"
    },
    "papermill": {
     "duration": 24.826389,
     "end_time": "2023-08-14T04:04:29.370229",
     "exception": false,
     "start_time": "2023-08-14T04:04:04.543840",
     "status": "completed"
    },
    "tags": []
   },
   "outputs": [
    {
     "name": "stdout",
     "output_type": "stream",
     "text": [
      "S. Zieba  ->  S. Zieba  |  ['S. Zieba']\n",
      "L. Kreidberg  ->  L. Kreidberg  |  ['L. Kreidberg']\n",
      "Arxiv has 49 new papers today\n",
      "          1 with possible author matches\n"
     ]
    }
   ],
   "source": [
    "# get list from MPIA website\n",
    "# it automatically filters identified non-scientists :func:`mpia.filter_non_scientists`\n",
    "mpia_authors = mpia.get_mpia_mitarbeiter_list()\n",
    "normed_mpia_authors = [k[1] for k in mpia_authors]   # initials + fullname\n",
    "new_papers = get_new_papers()\n",
    "# add manual references\n",
    "add_paper_refs = []\n",
    "new_papers.extend([get_paper_from_identifier(k) for k in add_paper_refs])\n",
    "\n",
    "candidates = []\n",
    "for paperk in new_papers:\n",
    "    # Check author list with their initials\n",
    "    normed_author_list = [mpia.get_initials(k) for k in paperk['authors']]\n",
    "    hl_authors = highlight_authors_in_list(normed_author_list, normed_mpia_authors, verbose=True)\n",
    "    matches = [(hl, orig) for hl, orig in zip(hl_authors, paperk['authors']) if 'mark' in hl]\n",
    "    paperk['authors'] = hl_authors\n",
    "    if matches:\n",
    "        # only select paper if an author matched our list\n",
    "        candidates.append(paperk)\n",
    "print(\"\"\"Arxiv has {0:,d} new papers today\"\"\".format(len(new_papers)))        \n",
    "print(\"\"\"          {0:,d} with possible author matches\"\"\".format(len(candidates)))"
   ]
  },
  {
   "cell_type": "markdown",
   "id": "3543b34a",
   "metadata": {
    "papermill": {
     "duration": 0.004666,
     "end_time": "2023-08-14T04:04:29.379598",
     "exception": false,
     "start_time": "2023-08-14T04:04:29.374932",
     "status": "completed"
    },
    "tags": []
   },
   "source": [
    "# Parse sources and generate relevant outputs\n",
    "\n",
    "From the candidates, we do the following steps:\n",
    "* get their tarball from ArXiv (and extract data)\n",
    "* find the main .tex file: find one with \\documentclass{...} (sometimes it's non trivial)\n",
    "* Check affiliations with :func:`validation`, which uses :func:`mpia.affiliation_verifications`\n",
    "* If passing the affiliations: we parse the .tex source\n",
    "   * inject sub-documents into the main (flatten the main document)\n",
    "   * parse structure, extract information (title, abstract, authors, figures...)\n",
    "   * handles `\\graphicspath` if provided\n",
    "* Generate the .md document."
   ]
  },
  {
   "cell_type": "code",
   "execution_count": 4,
   "id": "9576b79e",
   "metadata": {
    "execution": {
     "iopub.execute_input": "2023-08-14T04:04:29.389784Z",
     "iopub.status.busy": "2023-08-14T04:04:29.389425Z",
     "iopub.status.idle": "2023-08-14T04:04:44.039088Z",
     "shell.execute_reply": "2023-08-14T04:04:44.037866Z"
    },
    "papermill": {
     "duration": 14.657138,
     "end_time": "2023-08-14T04:04:44.040963",
     "exception": false,
     "start_time": "2023-08-14T04:04:29.383825",
     "status": "completed"
    },
    "scrolled": false,
    "tags": []
   },
   "outputs": [
    {
     "data": {
      "application/vnd.jupyter.widget-view+json": {
       "model_id": "1d997e5e20d94b688732e7b608bf50c2",
       "version_major": 2,
       "version_minor": 0
      },
      "text/plain": [
       "  0%|          | 0/1 [00:00<?, ?it/s]"
      ]
     },
     "metadata": {},
     "output_type": "display_data"
    },
    {
     "name": "stdout",
     "output_type": "stream",
     "text": [
      "Retrieving document from  https://arxiv.org/e-print/2308.05899\n"
     ]
    },
    {
     "name": "stdout",
     "output_type": "stream",
     "text": [
      "extracting tarball to tmp_2308.05899..."
     ]
    },
    {
     "name": "stdout",
     "output_type": "stream",
     "text": [
      " done.\n"
     ]
    },
    {
     "name": "stdout",
     "output_type": "stream",
     "text": [
      "S. Zieba  ->  S. Zieba  |  ['S. Zieba']\n",
      "L. Kreidberg  ->  L. Kreidberg  |  ['L. Kreidberg']\n"
     ]
    },
    {
     "name": "stdout",
     "output_type": "stream",
     "text": [
      "Found 55 bibliographic references in tmp_2308.05899/main.bbl.\n"
     ]
    }
   ],
   "source": [
    "documents = []\n",
    "failed = []\n",
    "for paper in tqdm(candidates):\n",
    "    paper_id = paper['identifier'].lower().replace('arxiv:', '')\n",
    "    \n",
    "    folder = f'tmp_{paper_id}'\n",
    "\n",
    "    try:\n",
    "        if not os.path.isdir(folder):\n",
    "            folder = retrieve_document_source(f\"{paper_id}\", f'tmp_{paper_id}')\n",
    "        \n",
    "        try:\n",
    "            doc = latex.LatexDocument(folder, validation=validation)    \n",
    "        except AffiliationError as affilerror:\n",
    "            msg = f\"ArXiv:{paper_id:s} is not an MPIA paper... \" + str(affilerror)\n",
    "            failed.append((paper, \"affiliation error: \" + str(affilerror) ))\n",
    "            continue\n",
    "        \n",
    "        # Hack because sometimes author parsing does not work well\n",
    "        if (len(doc.authors) != len(paper['authors'])):\n",
    "            doc._authors = paper['authors']\n",
    "        else:\n",
    "            # highlight authors (FIXME: doc.highlight_authors)\n",
    "            # done on arxiv paper already\n",
    "            doc._authors = highlight_authors_in_list(\n",
    "                [mpia.get_initials(k) for k in doc.authors], \n",
    "                normed_mpia_authors, verbose=True)\n",
    "        if (doc.abstract) in (None, ''):\n",
    "            doc._abstract = paper['abstract']\n",
    "            \n",
    "        doc.comment = (get_markdown_badge(paper_id) + \n",
    "                       \"<mark>Appeared on: \" + paper['date'] + \"</mark> - \")\n",
    "        if paper['comments']:\n",
    "            doc.comment += \" _\" + paper['comments'] + \"_\"\n",
    "        \n",
    "        full_md = doc.generate_markdown_text()\n",
    "        \n",
    "        full_md += get_markdown_qrcode(paper_id)\n",
    "        \n",
    "        # replace citations\n",
    "        try:\n",
    "            bibdata = latex_bib.LatexBib.from_doc(doc)\n",
    "            full_md = latex_bib.replace_citations(full_md, bibdata)\n",
    "        except Exception as e:\n",
    "            print(e)\n",
    "        \n",
    "        documents.append((paper_id, full_md))\n",
    "    except Exception as e:\n",
    "        warnings.warn(latex.LatexWarning(f\"{paper_id:s} did not run properly\\n\" +\n",
    "                                         str(e)\n",
    "                                        ))\n",
    "        failed.append((paper, \"latex error \" + str(e)))"
   ]
  },
  {
   "cell_type": "markdown",
   "id": "2505a25c",
   "metadata": {
    "papermill": {
     "duration": 0.005217,
     "end_time": "2023-08-14T04:04:44.051387",
     "exception": false,
     "start_time": "2023-08-14T04:04:44.046170",
     "status": "completed"
    },
    "tags": []
   },
   "source": [
    "### Export the logs\n",
    "\n",
    "Throughout, we also keep track of the logs per paper. see `logs-{today date}.md` "
   ]
  },
  {
   "cell_type": "code",
   "execution_count": 5,
   "id": "d733828a",
   "metadata": {
    "execution": {
     "iopub.execute_input": "2023-08-14T04:04:44.063594Z",
     "iopub.status.busy": "2023-08-14T04:04:44.062542Z",
     "iopub.status.idle": "2023-08-14T04:04:44.081885Z",
     "shell.execute_reply": "2023-08-14T04:04:44.081060Z"
    },
    "papermill": {
     "duration": 0.029001,
     "end_time": "2023-08-14T04:04:44.085195",
     "exception": false,
     "start_time": "2023-08-14T04:04:44.056194",
     "status": "completed"
    },
    "scrolled": false,
    "tags": []
   },
   "outputs": [
    {
     "data": {
      "text/markdown": [
       "## Successful papers"
      ],
      "text/plain": [
       "<IPython.core.display.Markdown object>"
      ]
     },
     "metadata": {},
     "output_type": "display_data"
    },
    {
     "data": {
      "text/markdown": [
       "\n",
       "|||\n",
       "|---:|:---|\n",
       "| [![arXiv](https://img.shields.io/badge/arXiv-arXiv:2308.05899-b31b1b.svg)](https://arxiv.org/abs/arXiv:2308.05899) | **Potential Atmospheric Compositions of TRAPPIST-1 c constrained by  JWST/MIRI Observations at 15 $μ$m**  |\n",
       "|| A. P. Lincowski, et al. -- incl., <mark>S. Zieba</mark>, <mark>L. Kreidberg</mark> |\n",
       "|*Appeared on*| *2023-08-14*|\n",
       "|*Comments*| *15 pages, accepted to APJL*|\n",
       "|**Abstract**| The first JWST observations of TRAPPIST-1 c showed a secondary eclipse depth of 421+/-94 ppm at 15 um, which is consistent with a bare rock surface or a thin, O2-dominated, low CO2 atmosphere (Zieba et al. 2023). Here, we further explore potential atmospheres for TRAPPIST-1 c by comparing the observed secondary eclipse depth to synthetic spectra of a broader range of plausible environments. To self-consistently incorporate the impact of photochemistry and atmospheric composition on atmospheric thermal structure and predicted eclipse depth, we use a two-column climate model coupled to a photochemical model, and simulate O2-dominated, Venus-like, and steam atmospheres. We find that a broader suite of plausible atmospheric compositions are also consistent with the data. For lower pressure atmospheres (0.1 bar), our O2-CO2 atmospheres produce eclipse depths within 1$\\sigma$ of the data, consistent with the modeling results of Zieba et al. (2023). However, for higher-pressure atmospheres, our models produce different temperature-pressure profiles and are less pessimistic, with 1-10 bar O2, 100 ppm CO2 models within 2.0-2.2$\\sigma$ of the measured secondary eclipse depth, and up to 0.5% CO2 within 2.9$\\sigma$. Venus-like atmospheres are still unlikely. For thin O2 atmospheres of 0.1 bar with a low abundance of CO2 ($\\sim$100 ppm), up to 10% water vapor can be present and still provide an eclipse depth within 1$\\sigma$ of the data. We compared the TRAPPIST-1 c data to modeled steam atmospheres of $\\leq$ 3 bar, which are 1.7-1.8$\\sigma$ from the data and not conclusively ruled out. More data will be required to discriminate between possible atmospheres, or to more definitively support the bare rock hypothesis. |"
      ],
      "text/plain": [
       "[arXiv:2308.05899] Potential Atmospheric Compositions of TRAPPIST-1 c constrained by  JWST/MIRI Observations at 15 $μ$m\n",
       "\tA. P. Lincowski, et al. -- incl., <mark>S. Zieba</mark>, <mark>L. Kreidberg</mark>"
      ]
     },
     "metadata": {},
     "output_type": "display_data"
    },
    {
     "data": {
      "text/markdown": [
       "## Failed papers"
      ],
      "text/plain": [
       "<IPython.core.display.Markdown object>"
      ]
     },
     "metadata": {},
     "output_type": "display_data"
    }
   ],
   "source": [
    "import datetime\n",
    "today = str(datetime.date.today())\n",
    "logfile = f\"_build/html/logs/log-{today}.md\"\n",
    "\n",
    "\n",
    "with open(logfile, 'w') as logs:\n",
    "    # Success\n",
    "    logs.write(f'# Arxiv on Deck 2: Logs - {today}\\n\\n')\n",
    "    logs.write(\"\"\"* Arxiv had {0:,d} new papers\\n\"\"\".format(len(new_papers)))\n",
    "    logs.write(\"\"\"    * {0:,d} with possible author matches\\n\\n\"\"\".format(len(candidates)))\n",
    "    logs.write(\"## Sucessful papers\\n\\n\")\n",
    "    display(Markdown(\"## Successful papers\"))\n",
    "    success = [k[0] for k in documents]\n",
    "    for candid in candidates:\n",
    "        if candid['identifier'].split(':')[-1] in success:\n",
    "            display(candid)\n",
    "            logs.write(candid.generate_markdown_text() + '\\n\\n')\n",
    "\n",
    "    ## failed\n",
    "    logs.write(\"## Failed papers\\n\\n\")\n",
    "    display(Markdown(\"## Failed papers\"))\n",
    "    failed = sorted(failed, key=lambda x: x[1])\n",
    "    current_reason = \"\"\n",
    "    for paper, reason in failed:\n",
    "        if 'affiliation' in reason:\n",
    "            color = 'green'\n",
    "        else:\n",
    "            color = 'red'\n",
    "        data = Markdown(\n",
    "                paper.generate_markdown_text() + \n",
    "                f'\\n|<p style=\"color:{color:s}\"> **ERROR** </p>| <p style=\"color:{color:s}\">{reason:s}</p> |'\n",
    "               )\n",
    "        if reason != current_reason:\n",
    "            logs.write(f'### {reason:s} \\n\\n')\n",
    "            current_reason = reason\n",
    "        logs.write(data.data + '\\n\\n')\n",
    "        \n",
    "        # only display here the important errors (all in logs)\n",
    "        # if color in ('red',):\n",
    "        display(data)"
   ]
  },
  {
   "cell_type": "markdown",
   "id": "472d20ee",
   "metadata": {
    "papermill": {
     "duration": 0.00517,
     "end_time": "2023-08-14T04:04:44.095928",
     "exception": false,
     "start_time": "2023-08-14T04:04:44.090758",
     "status": "completed"
    },
    "tags": []
   },
   "source": [
    "## Export documents\n",
    "\n",
    "We now write the .md files and export relevant images"
   ]
  },
  {
   "cell_type": "code",
   "execution_count": 6,
   "id": "d426aed9",
   "metadata": {
    "execution": {
     "iopub.execute_input": "2023-08-14T04:04:44.108974Z",
     "iopub.status.busy": "2023-08-14T04:04:44.108123Z",
     "iopub.status.idle": "2023-08-14T04:04:44.117207Z",
     "shell.execute_reply": "2023-08-14T04:04:44.116574Z"
    },
    "papermill": {
     "duration": 0.017899,
     "end_time": "2023-08-14T04:04:44.119093",
     "exception": false,
     "start_time": "2023-08-14T04:04:44.101194",
     "status": "completed"
    },
    "tags": []
   },
   "outputs": [],
   "source": [
    "def export_markdown_summary(md: str, md_fname:str, directory: str):\n",
    "    \"\"\"Export MD document and associated relevant images\"\"\"\n",
    "    import os\n",
    "    import shutil\n",
    "    import re\n",
    "\n",
    "    if (os.path.exists(directory) and not os.path.isdir(directory)):\n",
    "        raise RuntimeError(f\"a non-directory file exists with name {directory:s}\")\n",
    "\n",
    "    if (not os.path.exists(directory)):\n",
    "        print(f\"creating directory {directory:s}\")\n",
    "        os.mkdir(directory)\n",
    "\n",
    "    fig_fnames = (re.compile(r'\\[Fig.*\\]\\((.*)\\)').findall(md) + \n",
    "                  re.compile(r'\\<img src=\"([^>\\s]*)\"[^>]*/>').findall(md))\n",
    "    for fname in fig_fnames:\n",
    "        if 'http' in fname:\n",
    "            # No need to copy online figures\n",
    "            continue\n",
    "        destdir = os.path.join(directory, os.path.dirname(fname))\n",
    "        destfname = os.path.join(destdir, os.path.basename(fname))\n",
    "        try:\n",
    "            os.makedirs(destdir)\n",
    "        except FileExistsError:\n",
    "            pass\n",
    "        shutil.copy(fname, destfname)\n",
    "    with open(os.path.join(directory, md_fname), 'w') as fout:\n",
    "        fout.write(md)\n",
    "    print(\"exported in \", os.path.join(directory, md_fname))\n",
    "    [print(\"    + \" + os.path.join(directory,fk)) for fk in fig_fnames]"
   ]
  },
  {
   "cell_type": "code",
   "execution_count": 7,
   "id": "014d04a4",
   "metadata": {
    "execution": {
     "iopub.execute_input": "2023-08-14T04:04:44.131949Z",
     "iopub.status.busy": "2023-08-14T04:04:44.131175Z",
     "iopub.status.idle": "2023-08-14T04:04:44.139785Z",
     "shell.execute_reply": "2023-08-14T04:04:44.138950Z"
    },
    "papermill": {
     "duration": 0.017174,
     "end_time": "2023-08-14T04:04:44.141648",
     "exception": false,
     "start_time": "2023-08-14T04:04:44.124474",
     "status": "completed"
    },
    "tags": []
   },
   "outputs": [
    {
     "name": "stdout",
     "output_type": "stream",
     "text": [
      "exported in  _build/html/2308.05899.md\n",
      "    + _build/html/tmp_2308.05899/./btemp_venus.png\n",
      "    + _build/html/tmp_2308.05899/./btemp_steam.png\n",
      "    + _build/html/tmp_2308.05899/./btemp_o2.png\n",
      "    + _build/html/tmp_2308.05899/./ptz_mix_h2o_o2.png\n",
      "    + _build/html/tmp_2308.05899/./atms4.png\n"
     ]
    }
   ],
   "source": [
    "for paper_id, md in documents:\n",
    "    export_markdown_summary(md, f\"{paper_id:s}.md\", '_build/html/')"
   ]
  },
  {
   "cell_type": "markdown",
   "id": "f087a0a7",
   "metadata": {
    "papermill": {
     "duration": 0.005621,
     "end_time": "2023-08-14T04:04:44.153024",
     "exception": false,
     "start_time": "2023-08-14T04:04:44.147403",
     "status": "completed"
    },
    "tags": []
   },
   "source": [
    "## Display the papers\n",
    "\n",
    "Not necessary but allows for a quick check."
   ]
  },
  {
   "cell_type": "code",
   "execution_count": 8,
   "id": "fd25f625",
   "metadata": {
    "execution": {
     "iopub.execute_input": "2023-08-14T04:04:44.165923Z",
     "iopub.status.busy": "2023-08-14T04:04:44.165265Z",
     "iopub.status.idle": "2023-08-14T04:04:44.172297Z",
     "shell.execute_reply": "2023-08-14T04:04:44.171436Z"
    },
    "papermill": {
     "duration": 0.015683,
     "end_time": "2023-08-14T04:04:44.174118",
     "exception": false,
     "start_time": "2023-08-14T04:04:44.158435",
     "status": "completed"
    },
    "scrolled": false,
    "tags": []
   },
   "outputs": [
    {
     "data": {
      "text/markdown": [
       "<div class=\"macros\" style=\"visibility:hidden;\">\n",
       "$\\newcommand{\\ensuremath}{}$\n",
       "$\\newcommand{\\xspace}{}$\n",
       "$\\newcommand{\\object}[1]{\\texttt{#1}}$\n",
       "$\\newcommand{\\farcs}{{.}''}$\n",
       "$\\newcommand{\\farcm}{{.}'}$\n",
       "$\\newcommand{\\arcsec}{''}$\n",
       "$\\newcommand{\\arcmin}{'}$\n",
       "$\\newcommand{\\ion}[2]{#1#2}$\n",
       "$\\newcommand{\\textsc}[1]{\\textrm{#1}}$\n",
       "$\\newcommand{\\hl}[1]{\\textrm{#1}}$\n",
       "$\\newcommand{\\footnote}[1]{}$\n",
       "$\\newcommand{\\um}{\\upmum}$</div>\n",
       "\n",
       "\n",
       "\n",
       "<div id=\"title\">\n",
       "\n",
       "# Potential Atmospheric Compositions of TRAPPIST-1 c constrained by JWST/MIRI Observations at 15$\\um$ \n",
       "\n",
       "</div>\n",
       "<div id=\"comments\">\n",
       "\n",
       "[![arXiv](https://img.shields.io/badge/arXiv-2308.05899-b31b1b.svg)](https://arxiv.org/abs/2308.05899)<mark>Appeared on: 2023-08-14</mark> -  _15 pages, accepted to APJL_\n",
       "\n",
       "</div>\n",
       "<div id=\"authors\">\n",
       "\n",
       "A. P. Lincowski, et al. -- incl., <mark>S. Zieba</mark>, <mark>L. Kreidberg</mark>\n",
       "\n",
       "</div>\n",
       "<div id=\"abstract\">\n",
       "\n",
       "**Abstract:** The first JWST observations of TRAPPIST-1 c showed a secondary eclipse depth of 421 $\\pm94$ ppm at 15 $\\um$ , ${which is consistent with a bare rock surface or a thin, \\ce{O2}-dominated, low \\ce{CO2} atmosphere  ([ and Zieba 2023]()) .}$ Here, we further explore potential atmospheres for TRAPPIST-1 c by comparing the observed secondary eclipse depth to synthetic spectra of a broader range of plausible environments. ${ To self-consistently incorporate the impact of photochemistry and atmospheric composition on atmospheric thermal structure and predicted eclipse depth, we use a two-column climate model coupled to a photochemical model, and simulate \\ce{O2}-dominated, Venus-like, and steam atmospheres.}$ We find that a broader suite of plausible atmospheric compositions are also consistent with the data.  For lower pressure atmospheres (0.1 bar), our $\\ce{O2}$ - $\\ce{CO2}$ atmospheres produce eclipse depths within 1 $\\sigma$ of the data, consistent with the modeling results of [ and Zieba (2023)]() . ${However, for higher-pressure atmospheres, }$ our models produce different temperature-pressure profiles and are less pessimistic, with 1--10 bar $\\ce{O2}$ , 100 ppm $\\ce{CO2}$ models within 2.0--2.2 $\\sigma$ of the measured secondary eclipse depth, and up to 0.5 \\% $\\ce{CO2}$ within 2.9 $\\sigma$ . ${Venus-like atmospheres are still unlikely.}$ For thin $\\ce{O2}$ atmospheres of 0.1 bar with a low abundance of $\\ce{CO2}$ ( $\\sim$ 100 ppm), up to 10 \\% water vapor can be present and still provide an eclipse depth within 1 $\\sigma$ of the data. ${We compared the TRAPPIST-1 c data to modeled steam atmospheres of $\\leq$ 3 bar, which are 1.7--1.8$\\sigma$ from the data and not conclusively ruled out. More data will be required to discriminate between possible atmospheres, or to more definitively support the bare rock hypothesis.}$\n",
       "\n",
       "</div>\n",
       "\n",
       "<div id=\"div_fig1\">\n",
       "\n",
       "<img src=\"tmp_2308.05899/./btemp_venus.png\" alt=\"Fig2.1\" width=\"33%\"/><img src=\"tmp_2308.05899/./btemp_steam.png\" alt=\"Fig2.2\" width=\"33%\"/><img src=\"tmp_2308.05899/./btemp_o2.png\" alt=\"Fig2.3\" width=\"33%\"/>\n",
       "\n",
       "**Figure 2. -** Brightness temperature spectra for the dayside hemisphere of all modeled environments, with points corresponding to the model spectra convolved to the F1500W filter band over the band's wavelength extent (horizontal error bars show the FWHM of the filter band). We also plot lines for 340 K (blackbody, no atmosphere, full heat redistribution), and 430 K (blackbody, no atmosphere, no heat redistribution), along with the data point measured by [ and Zieba (2023)](), which has a brightness temperature equivalent to $380\\pm31$ K. _Top:_ Venus-like modeled environments. _{Middle_:} steam environments. _Bottom:_\\ce{O2}-dominated environments. The Venuses are between 2.6--3.1$\\sigma$ from the measured eclipse depth and the steam atmospheres are within {1.7--1.8$\\sigma$} of the measured eclipse depth. The clear-sky Venuses all exhibit similar \\ce{CO2} bands between 0.1--10 bar. The steam environments spanning 0.1--3 bar are nearly identical across the MIR spectrum. The \\ce{O2}-dominated environments, with varying amounts of \\ce{CO2}, exhibit the largest range in their spectra, and those of $\\geq1$ bar also exhibit strong ozone features. For reference, the F1500W brightness temperature values from [ and Zieba (2023)]() for their best-fit desiccated \\ce{O2}-\\ce{CO2} atmosphere is 395 K, and their best-fit bare rock surface is 420 K. (*fig:eclipse_venus*)\n",
       "\n",
       "</div>\n",
       "<div id=\"div_fig2\">\n",
       "\n",
       "<img src=\"tmp_2308.05899/./ptz_mix_h2o_o2.png\" alt=\"Fig5\" width=\"100%\"/>\n",
       "\n",
       "**Figure 5. -** Global mixing ratio profiles for modeled steam (1 bar) and \\ce{O2} atmospheres. \\ce{H2O} and \\ce{CO2} maintain evenly mixed profiles for each case. Ozone and CO are photochemically generated. As discussed in the main text, some of the cases do have CO outgassing, as seen here in the profiles.  (*fig:mixes*)\n",
       "\n",
       "</div>\n",
       "<div id=\"div_fig3\">\n",
       "\n",
       "<img src=\"tmp_2308.05899/./atms4.png\" alt=\"Fig1\" width=\"100%\"/>\n",
       "\n",
       "**Figure 1. -** Day-side hemisphere temperature structures for all modeled atmospheres: Venus-like (left panel), steam atmospheres (middle panel) and \\ce{O2}-\\ce{CO2} atmospheres (right panel). {For our modeled atmospheres, we have used a thicker line to show the layers over which the 15 $\\um$  band reached optical depth of 1 (indicating the effective emission layer), for each model atmosphere. The thick dots indicate the lowest layer probed in the 15 $\\um$  band.} In the right panel, we also included two example temperature-pressure profiles from [ and Zieba (2023)]() for 0.1 and 1 bar \\ce{O2}-dominated atmospheres, each with 100 ppm \\ce{CO2}. A wide variety of temperature profiles are possible for TRAPPIST-1 c under different atmospheric compositions. Although surface temperatures differ widely, note the similarities in {emission temperatures/pressures probed} for similar atmospheric compositions.  (*fig:atms*)\n",
       "\n",
       "</div><div id=\"qrcode\"><img src=https://api.qrserver.com/v1/create-qr-code/?size=100x100&data=\"https://arxiv.org/abs/2308.05899\"></div>"
      ],
      "text/plain": [
       "<IPython.core.display.Markdown object>"
      ]
     },
     "metadata": {},
     "output_type": "display_data"
    }
   ],
   "source": [
    "[display(Markdown(k[1])) for k in documents];"
   ]
  },
  {
   "cell_type": "markdown",
   "id": "873873a4",
   "metadata": {
    "papermill": {
     "duration": 0.006256,
     "end_time": "2023-08-14T04:04:44.185974",
     "exception": false,
     "start_time": "2023-08-14T04:04:44.179718",
     "status": "completed"
    },
    "tags": []
   },
   "source": [
    "# Create HTML index"
   ]
  },
  {
   "cell_type": "code",
   "execution_count": 9,
   "id": "cf665672",
   "metadata": {
    "execution": {
     "iopub.execute_input": "2023-08-14T04:04:44.199616Z",
     "iopub.status.busy": "2023-08-14T04:04:44.198814Z",
     "iopub.status.idle": "2023-08-14T04:04:44.211761Z",
     "shell.execute_reply": "2023-08-14T04:04:44.210963Z"
    },
    "papermill": {
     "duration": 0.02182,
     "end_time": "2023-08-14T04:04:44.213563",
     "exception": false,
     "start_time": "2023-08-14T04:04:44.191743",
     "status": "completed"
    },
    "tags": []
   },
   "outputs": [
    {
     "name": "stdout",
     "output_type": "stream",
     "text": [
      "247  publications files modified in the last 7 days.\n"
     ]
    }
   ],
   "source": [
    "from datetime import datetime, timedelta, timezone\n",
    "from glob import glob\n",
    "import os\n",
    "\n",
    "files = glob('_build/html/*.md')\n",
    "days = 7\n",
    "now = datetime.today()\n",
    "res = []\n",
    "for fk in files:\n",
    "    stat_result = os.stat(fk).st_ctime\n",
    "    modified = datetime.fromtimestamp(stat_result, tz=timezone.utc).replace(tzinfo=None)\n",
    "    delta = now.today() - modified\n",
    "    if delta <= timedelta(days=days):\n",
    "        res.append((delta.seconds, fk))\n",
    "res = [k[1] for k in reversed(sorted(res, key=lambda x:x[1]))]\n",
    "npub = len(res)\n",
    "print(len(res), f\" publications files modified in the last {days:d} days.\")\n",
    "# [ print('\\t', k) for k in res ];"
   ]
  },
  {
   "cell_type": "code",
   "execution_count": 10,
   "id": "015de740",
   "metadata": {
    "execution": {
     "iopub.execute_input": "2023-08-14T04:04:44.227659Z",
     "iopub.status.busy": "2023-08-14T04:04:44.226812Z",
     "iopub.status.idle": "2023-08-14T04:04:44.252159Z",
     "shell.execute_reply": "2023-08-14T04:04:44.250937Z"
    },
    "papermill": {
     "duration": 0.034585,
     "end_time": "2023-08-14T04:04:44.254042",
     "exception": false,
     "start_time": "2023-08-14T04:04:44.219457",
     "status": "completed"
    },
    "tags": []
   },
   "outputs": [
    {
     "name": "stdout",
     "output_type": "stream",
     "text": [
      "2  publications in the last 7 days.\n"
     ]
    }
   ],
   "source": [
    "import datetime\n",
    "from glob import glob\n",
    "\n",
    "def get_last_n_days(lst, days=1):\n",
    "    \"\"\" Get the documents from the last n days \"\"\"\n",
    "    sorted_lst = sorted(lst, key=lambda x: x[1], reverse=True)\n",
    "    for fname, date in sorted_lst:\n",
    "        if date >= str(datetime.date.today() - datetime.timedelta(days=days)):\n",
    "            yield fname\n",
    "\n",
    "def extract_appearance_dates(lst_file):\n",
    "    dates = []\n",
    "\n",
    "    def get_date(line):\n",
    "        return line\\\n",
    "            .split('Appeared on:')[-1]\\\n",
    "            .split('</mark>')[0].strip()\n",
    "\n",
    "    for fname in lst:\n",
    "        with open(fname, 'r') as f:\n",
    "            found_date = False\n",
    "            for line in f:\n",
    "                if not found_date:\n",
    "                    if \"Appeared on\" in line:\n",
    "                        found_date = True\n",
    "                        dates.append((fname, get_date(line)))\n",
    "                else:\n",
    "                    break\n",
    "    return dates\n",
    "\n",
    "from glob import glob\n",
    "lst = glob('_build/html/*md')\n",
    "days = 7\n",
    "dates = extract_appearance_dates(lst)\n",
    "res = list(get_last_n_days(dates, days))\n",
    "npub = len(res)\n",
    "print(len(res), f\" publications in the last {days:d} days.\")"
   ]
  },
  {
   "cell_type": "code",
   "execution_count": 11,
   "id": "52ca0208",
   "metadata": {
    "execution": {
     "iopub.execute_input": "2023-08-14T04:04:44.268229Z",
     "iopub.status.busy": "2023-08-14T04:04:44.267659Z",
     "iopub.status.idle": "2023-08-14T04:04:44.274306Z",
     "shell.execute_reply": "2023-08-14T04:04:44.273608Z"
    },
    "papermill": {
     "duration": 0.015712,
     "end_time": "2023-08-14T04:04:44.276200",
     "exception": false,
     "start_time": "2023-08-14T04:04:44.260488",
     "status": "completed"
    },
    "scrolled": false,
    "tags": []
   },
   "outputs": [],
   "source": [
    "def create_carousel(npub=4):\n",
    "    \"\"\" Generate the HTML code for a carousel with `npub` slides \"\"\"\n",
    "    carousel = [\"\"\"  <div class=\"carousel\" \"\"\",\n",
    "                \"\"\"       data-flickity='{ \"autoPlay\": 10000, \"adaptiveHeight\": true, \"resize\": true, \"wrapAround\": true, \"pauseAutoPlayOnHover\": true, \"groupCells\": 1 }' id=\"asyncTypeset\">\"\"\"\n",
    "                ]\n",
    "    \n",
    "    item_str = \"\"\"    <div class=\"carousel-cell\"> <div id=\"slide{k}\" class=\"md_view\">Content {k}</div> </div>\"\"\"\n",
    "    for k in range(1, npub + 1):\n",
    "        carousel.append(item_str.format(k=k))\n",
    "    carousel.append(\"  </div>\")\n",
    "    return '\\n'.join(carousel)\n",
    "\n",
    "def create_grid(npub=4):\n",
    "    \"\"\" Generate the HTML code for a flat grid with `npub` slides \"\"\"\n",
    "    grid = [\"\"\"  <div class=\"grid\"> \"\"\",\n",
    "                ]\n",
    "    \n",
    "    item_str = \"\"\"    <div class=\"grid-item\"> <div id=\"slide{k}\" class=\"md_view\">Content {k}</div> </div>\"\"\"\n",
    "    for k in range(1, npub + 1):\n",
    "        grid.append(item_str.format(k=k))\n",
    "    grid.append(\"  </div>\")\n",
    "    return '\\n'.join(grid)"
   ]
  },
  {
   "cell_type": "code",
   "execution_count": 12,
   "id": "a6eac5b6",
   "metadata": {
    "execution": {
     "iopub.execute_input": "2023-08-14T04:04:44.289973Z",
     "iopub.status.busy": "2023-08-14T04:04:44.289495Z",
     "iopub.status.idle": "2023-08-14T04:04:44.296163Z",
     "shell.execute_reply": "2023-08-14T04:04:44.295385Z"
    },
    "papermill": {
     "duration": 0.015525,
     "end_time": "2023-08-14T04:04:44.297896",
     "exception": false,
     "start_time": "2023-08-14T04:04:44.282371",
     "status": "completed"
    },
    "scrolled": false,
    "tags": []
   },
   "outputs": [],
   "source": [
    "carousel = create_carousel(npub)\n",
    "docs = ', '.join(['\"{0:s}\"'.format(k.split('/')[-1]) for k in res])\n",
    "slides = ', '.join([f'\"slide{k}\"' for k in range(1, npub + 1)])\n",
    "\n",
    "with open(\"daily_template.html\", \"r\") as tpl:\n",
    "    page = tpl.read()\n",
    "    page = page.replace(\"{%-- carousel:s --%}\", carousel)\\\n",
    "               .replace(\"{%-- suptitle:s --%}\",  \"7-day archives\" )\\\n",
    "               .replace(\"{%-- docs:s --%}\", docs)\\\n",
    "               .replace(\"{%-- slides:s --%}\", slides)\n",
    "    \n",
    "with open(\"_build/html/index_7days.html\", 'w') as fout:\n",
    "    fout.write(page)"
   ]
  },
  {
   "cell_type": "code",
   "execution_count": 13,
   "id": "adc1a1ec",
   "metadata": {
    "execution": {
     "iopub.execute_input": "2023-08-14T04:04:44.311888Z",
     "iopub.status.busy": "2023-08-14T04:04:44.311347Z",
     "iopub.status.idle": "2023-08-14T04:04:44.320098Z",
     "shell.execute_reply": "2023-08-14T04:04:44.319296Z"
    },
    "papermill": {
     "duration": 0.017917,
     "end_time": "2023-08-14T04:04:44.321924",
     "exception": false,
     "start_time": "2023-08-14T04:04:44.304007",
     "status": "completed"
    },
    "tags": []
   },
   "outputs": [
    {
     "name": "stdout",
     "output_type": "stream",
     "text": [
      "1  publications in the last day.\n"
     ]
    }
   ],
   "source": [
    "# redo for today\n",
    "days = 1\n",
    "res = list(get_last_n_days(dates, days))\n",
    "npub = len(res)\n",
    "print(len(res), f\" publications in the last day.\")\n",
    "\n",
    "carousel = create_carousel(npub)\n",
    "docs = ', '.join(['\"{0:s}\"'.format(k.split('/')[-1]) for k in res])\n",
    "slides = ', '.join([f'\"slide{k}\"' for k in range(1, npub + 1)])\n",
    "\n",
    "with open(\"daily_template.html\", \"r\") as tpl:\n",
    "    page = tpl.read()\n",
    "    page = page.replace(\"{%-- carousel:s --%}\", carousel)\\\n",
    "               .replace(\"{%-- suptitle:s --%}\",  \"Daily\" )\\\n",
    "               .replace(\"{%-- docs:s --%}\", docs)\\\n",
    "               .replace(\"{%-- slides:s --%}\", slides)\n",
    "    \n",
    "# print(carousel, docs, slides)\n",
    "# print(page)\n",
    "with open(\"_build/html/index_daily.html\", 'w') as fout:\n",
    "    fout.write(page)"
   ]
  },
  {
   "cell_type": "code",
   "execution_count": 14,
   "id": "00eece82",
   "metadata": {
    "execution": {
     "iopub.execute_input": "2023-08-14T04:04:44.336214Z",
     "iopub.status.busy": "2023-08-14T04:04:44.335525Z",
     "iopub.status.idle": "2023-08-14T04:04:44.345055Z",
     "shell.execute_reply": "2023-08-14T04:04:44.344222Z"
    },
    "papermill": {
     "duration": 0.018789,
     "end_time": "2023-08-14T04:04:44.346941",
     "exception": false,
     "start_time": "2023-08-14T04:04:44.328152",
     "status": "completed"
    },
    "scrolled": false,
    "tags": []
   },
   "outputs": [
    {
     "name": "stdout",
     "output_type": "stream",
     "text": [
      "6  6 publications selected.\n"
     ]
    }
   ],
   "source": [
    "# Create the flat grid of the last N papers (fixed number regardless of dates)\n",
    "from itertools import islice \n",
    "\n",
    "npub = 6\n",
    "res = [k[0] for k in (islice(reversed(sorted(dates, key=lambda x: x[1])), 6))]\n",
    "print(len(res), f\" {npub} publications selected.\")\n",
    "\n",
    "grid = create_grid(npub)\n",
    "docs = ', '.join(['\"{0:s}\"'.format(k.split('/')[-1]) for k in res])\n",
    "slides = ', '.join([f'\"slide{k}\"' for k in range(1, npub + 1)])\n",
    "\n",
    "with open(\"grid_template.html\", \"r\") as tpl:\n",
    "    page = tpl.read()\n",
    "    page = page.replace(\"{%-- grid-content:s --%}\", grid)\\\n",
    "               .replace(\"{%-- suptitle:s --%}\",  f\"Last {npub:,d} papers\" )\\\n",
    "               .replace(\"{%-- docs:s --%}\", docs)\\\n",
    "               .replace(\"{%-- slides:s --%}\", slides)\n",
    "    \n",
    "# print(grid, docs, slides)\n",
    "# print(page)\n",
    "with open(\"_build/html/index_npub_grid.html\", 'w') as fout:\n",
    "    fout.write(page)"
   ]
  }
 ],
 "metadata": {
  "kernelspec": {
   "display_name": "Python 3 (ipykernel)",
   "language": "python",
   "name": "python3"
  },
  "language_info": {
   "codemirror_mode": {
    "name": "ipython",
    "version": 3
   },
   "file_extension": ".py",
   "mimetype": "text/x-python",
   "name": "python",
   "nbconvert_exporter": "python",
   "pygments_lexer": "ipython3",
   "version": "3.9.17"
  },
  "papermill": {
   "default_parameters": {},
   "duration": 41.803965,
   "end_time": "2023-08-14T04:04:44.673353",
   "environment_variables": {},
   "exception": null,
   "input_path": "MPIA daily digest.ipynb",
   "output_path": "log.ipynb",
   "parameters": {},
   "start_time": "2023-08-14T04:04:02.869388",
   "version": "2.4.0"
  },
  "vscode": {
   "interpreter": {
    "hash": "aee8b7b246df8f9039afb4144a1f6fd8d2ca17a180786b69acc140d282b71a49"
   }
  },
  "widgets": {
   "application/vnd.jupyter.widget-state+json": {
    "state": {
     "1bfb17e06ae6468ab84389e1adf9e8fb": {
      "model_module": "@jupyter-widgets/controls",
      "model_module_version": "2.0.0",
      "model_name": "HTMLStyleModel",
      "state": {
       "_model_module": "@jupyter-widgets/controls",
       "_model_module_version": "2.0.0",
       "_model_name": "HTMLStyleModel",
       "_view_count": null,
       "_view_module": "@jupyter-widgets/base",
       "_view_module_version": "2.0.0",
       "_view_name": "StyleView",
       "background": null,
       "description_width": "",
       "font_size": null,
       "text_color": null
      }
     },
     "1d997e5e20d94b688732e7b608bf50c2": {
      "model_module": "@jupyter-widgets/controls",
      "model_module_version": "2.0.0",
      "model_name": "HBoxModel",
      "state": {
       "_dom_classes": [],
       "_model_module": "@jupyter-widgets/controls",
       "_model_module_version": "2.0.0",
       "_model_name": "HBoxModel",
       "_view_count": null,
       "_view_module": "@jupyter-widgets/controls",
       "_view_module_version": "2.0.0",
       "_view_name": "HBoxView",
       "box_style": "",
       "children": [
        "IPY_MODEL_456a2c2ed7f645c7ad2a3c7624f6ddbf",
        "IPY_MODEL_3f0508b6235d40ffa0c368f856b1fa10",
        "IPY_MODEL_5491838a16f54e78a53f8ded2fe75349"
       ],
       "layout": "IPY_MODEL_99cb13d6fb9149a9b529c00bc9bf5403",
       "tabbable": null,
       "tooltip": null
      }
     },
     "3b6b697d05dd49b8b22465eae21c712c": {
      "model_module": "@jupyter-widgets/base",
      "model_module_version": "2.0.0",
      "model_name": "LayoutModel",
      "state": {
       "_model_module": "@jupyter-widgets/base",
       "_model_module_version": "2.0.0",
       "_model_name": "LayoutModel",
       "_view_count": null,
       "_view_module": "@jupyter-widgets/base",
       "_view_module_version": "2.0.0",
       "_view_name": "LayoutView",
       "align_content": null,
       "align_items": null,
       "align_self": null,
       "border_bottom": null,
       "border_left": null,
       "border_right": null,
       "border_top": null,
       "bottom": null,
       "display": null,
       "flex": null,
       "flex_flow": null,
       "grid_area": null,
       "grid_auto_columns": null,
       "grid_auto_flow": null,
       "grid_auto_rows": null,
       "grid_column": null,
       "grid_gap": null,
       "grid_row": null,
       "grid_template_areas": null,
       "grid_template_columns": null,
       "grid_template_rows": null,
       "height": null,
       "justify_content": null,
       "justify_items": null,
       "left": null,
       "margin": null,
       "max_height": null,
       "max_width": null,
       "min_height": null,
       "min_width": null,
       "object_fit": null,
       "object_position": null,
       "order": null,
       "overflow": null,
       "padding": null,
       "right": null,
       "top": null,
       "visibility": null,
       "width": null
      }
     },
     "3f0508b6235d40ffa0c368f856b1fa10": {
      "model_module": "@jupyter-widgets/controls",
      "model_module_version": "2.0.0",
      "model_name": "FloatProgressModel",
      "state": {
       "_dom_classes": [],
       "_model_module": "@jupyter-widgets/controls",
       "_model_module_version": "2.0.0",
       "_model_name": "FloatProgressModel",
       "_view_count": null,
       "_view_module": "@jupyter-widgets/controls",
       "_view_module_version": "2.0.0",
       "_view_name": "ProgressView",
       "bar_style": "success",
       "description": "",
       "description_allow_html": false,
       "layout": "IPY_MODEL_3f282c1f9faf4c4994dd11675470f6d9",
       "max": 1.0,
       "min": 0.0,
       "orientation": "horizontal",
       "style": "IPY_MODEL_86bf73ee6e6047feb91267a76076a4f1",
       "tabbable": null,
       "tooltip": null,
       "value": 1.0
      }
     },
     "3f282c1f9faf4c4994dd11675470f6d9": {
      "model_module": "@jupyter-widgets/base",
      "model_module_version": "2.0.0",
      "model_name": "LayoutModel",
      "state": {
       "_model_module": "@jupyter-widgets/base",
       "_model_module_version": "2.0.0",
       "_model_name": "LayoutModel",
       "_view_count": null,
       "_view_module": "@jupyter-widgets/base",
       "_view_module_version": "2.0.0",
       "_view_name": "LayoutView",
       "align_content": null,
       "align_items": null,
       "align_self": null,
       "border_bottom": null,
       "border_left": null,
       "border_right": null,
       "border_top": null,
       "bottom": null,
       "display": null,
       "flex": null,
       "flex_flow": null,
       "grid_area": null,
       "grid_auto_columns": null,
       "grid_auto_flow": null,
       "grid_auto_rows": null,
       "grid_column": null,
       "grid_gap": null,
       "grid_row": null,
       "grid_template_areas": null,
       "grid_template_columns": null,
       "grid_template_rows": null,
       "height": null,
       "justify_content": null,
       "justify_items": null,
       "left": null,
       "margin": null,
       "max_height": null,
       "max_width": null,
       "min_height": null,
       "min_width": null,
       "object_fit": null,
       "object_position": null,
       "order": null,
       "overflow": null,
       "padding": null,
       "right": null,
       "top": null,
       "visibility": null,
       "width": null
      }
     },
     "456a2c2ed7f645c7ad2a3c7624f6ddbf": {
      "model_module": "@jupyter-widgets/controls",
      "model_module_version": "2.0.0",
      "model_name": "HTMLModel",
      "state": {
       "_dom_classes": [],
       "_model_module": "@jupyter-widgets/controls",
       "_model_module_version": "2.0.0",
       "_model_name": "HTMLModel",
       "_view_count": null,
       "_view_module": "@jupyter-widgets/controls",
       "_view_module_version": "2.0.0",
       "_view_name": "HTMLView",
       "description": "",
       "description_allow_html": false,
       "layout": "IPY_MODEL_3b6b697d05dd49b8b22465eae21c712c",
       "placeholder": "​",
       "style": "IPY_MODEL_4e71300a8f67434bb4cc4b548ce75cee",
       "tabbable": null,
       "tooltip": null,
       "value": "100%"
      }
     },
     "4e71300a8f67434bb4cc4b548ce75cee": {
      "model_module": "@jupyter-widgets/controls",
      "model_module_version": "2.0.0",
      "model_name": "HTMLStyleModel",
      "state": {
       "_model_module": "@jupyter-widgets/controls",
       "_model_module_version": "2.0.0",
       "_model_name": "HTMLStyleModel",
       "_view_count": null,
       "_view_module": "@jupyter-widgets/base",
       "_view_module_version": "2.0.0",
       "_view_name": "StyleView",
       "background": null,
       "description_width": "",
       "font_size": null,
       "text_color": null
      }
     },
     "5491838a16f54e78a53f8ded2fe75349": {
      "model_module": "@jupyter-widgets/controls",
      "model_module_version": "2.0.0",
      "model_name": "HTMLModel",
      "state": {
       "_dom_classes": [],
       "_model_module": "@jupyter-widgets/controls",
       "_model_module_version": "2.0.0",
       "_model_name": "HTMLModel",
       "_view_count": null,
       "_view_module": "@jupyter-widgets/controls",
       "_view_module_version": "2.0.0",
       "_view_name": "HTMLView",
       "description": "",
       "description_allow_html": false,
       "layout": "IPY_MODEL_b6ff5c60c9274a39a0b33b9b32fbf9e4",
       "placeholder": "​",
       "style": "IPY_MODEL_1bfb17e06ae6468ab84389e1adf9e8fb",
       "tabbable": null,
       "tooltip": null,
       "value": " 1/1 [00:14&lt;00:00, 14.63s/it]"
      }
     },
     "86bf73ee6e6047feb91267a76076a4f1": {
      "model_module": "@jupyter-widgets/controls",
      "model_module_version": "2.0.0",
      "model_name": "ProgressStyleModel",
      "state": {
       "_model_module": "@jupyter-widgets/controls",
       "_model_module_version": "2.0.0",
       "_model_name": "ProgressStyleModel",
       "_view_count": null,
       "_view_module": "@jupyter-widgets/base",
       "_view_module_version": "2.0.0",
       "_view_name": "StyleView",
       "bar_color": null,
       "description_width": ""
      }
     },
     "99cb13d6fb9149a9b529c00bc9bf5403": {
      "model_module": "@jupyter-widgets/base",
      "model_module_version": "2.0.0",
      "model_name": "LayoutModel",
      "state": {
       "_model_module": "@jupyter-widgets/base",
       "_model_module_version": "2.0.0",
       "_model_name": "LayoutModel",
       "_view_count": null,
       "_view_module": "@jupyter-widgets/base",
       "_view_module_version": "2.0.0",
       "_view_name": "LayoutView",
       "align_content": null,
       "align_items": null,
       "align_self": null,
       "border_bottom": null,
       "border_left": null,
       "border_right": null,
       "border_top": null,
       "bottom": null,
       "display": null,
       "flex": null,
       "flex_flow": null,
       "grid_area": null,
       "grid_auto_columns": null,
       "grid_auto_flow": null,
       "grid_auto_rows": null,
       "grid_column": null,
       "grid_gap": null,
       "grid_row": null,
       "grid_template_areas": null,
       "grid_template_columns": null,
       "grid_template_rows": null,
       "height": null,
       "justify_content": null,
       "justify_items": null,
       "left": null,
       "margin": null,
       "max_height": null,
       "max_width": null,
       "min_height": null,
       "min_width": null,
       "object_fit": null,
       "object_position": null,
       "order": null,
       "overflow": null,
       "padding": null,
       "right": null,
       "top": null,
       "visibility": null,
       "width": null
      }
     },
     "b6ff5c60c9274a39a0b33b9b32fbf9e4": {
      "model_module": "@jupyter-widgets/base",
      "model_module_version": "2.0.0",
      "model_name": "LayoutModel",
      "state": {
       "_model_module": "@jupyter-widgets/base",
       "_model_module_version": "2.0.0",
       "_model_name": "LayoutModel",
       "_view_count": null,
       "_view_module": "@jupyter-widgets/base",
       "_view_module_version": "2.0.0",
       "_view_name": "LayoutView",
       "align_content": null,
       "align_items": null,
       "align_self": null,
       "border_bottom": null,
       "border_left": null,
       "border_right": null,
       "border_top": null,
       "bottom": null,
       "display": null,
       "flex": null,
       "flex_flow": null,
       "grid_area": null,
       "grid_auto_columns": null,
       "grid_auto_flow": null,
       "grid_auto_rows": null,
       "grid_column": null,
       "grid_gap": null,
       "grid_row": null,
       "grid_template_areas": null,
       "grid_template_columns": null,
       "grid_template_rows": null,
       "height": null,
       "justify_content": null,
       "justify_items": null,
       "left": null,
       "margin": null,
       "max_height": null,
       "max_width": null,
       "min_height": null,
       "min_width": null,
       "object_fit": null,
       "object_position": null,
       "order": null,
       "overflow": null,
       "padding": null,
       "right": null,
       "top": null,
       "visibility": null,
       "width": null
      }
     }
    },
    "version_major": 2,
    "version_minor": 0
   }
  }
 },
 "nbformat": 4,
 "nbformat_minor": 5
}