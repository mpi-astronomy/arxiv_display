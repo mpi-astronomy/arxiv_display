{
 "cells": [
  {
   "cell_type": "markdown",
   "id": "92bcb855",
   "metadata": {
    "papermill": {
     "duration": 0.003876,
     "end_time": "2024-12-03T04:11:37.177959",
     "exception": false,
     "start_time": "2024-12-03T04:11:37.174083",
     "status": "completed"
    },
    "tags": []
   },
   "source": [
    "# MPIA Arxiv on Deck 2\n",
    "\n",
    "Contains the steps to produce the paper extractions."
   ]
  },
  {
   "cell_type": "code",
   "execution_count": 1,
   "id": "3a0d6e11",
   "metadata": {
    "execution": {
     "iopub.execute_input": "2024-12-03T04:11:37.185407Z",
     "iopub.status.busy": "2024-12-03T04:11:37.185137Z",
     "iopub.status.idle": "2024-12-03T04:11:37.721323Z",
     "shell.execute_reply": "2024-12-03T04:11:37.720591Z"
    },
    "papermill": {
     "duration": 0.541601,
     "end_time": "2024-12-03T04:11:37.722811",
     "exception": false,
     "start_time": "2024-12-03T04:11:37.181210",
     "status": "completed"
    },
    "tags": []
   },
   "outputs": [],
   "source": [
    "# Imports\n",
    "import os\n",
    "from IPython.display import Markdown, display\n",
    "from tqdm.notebook import tqdm\n",
    "import warnings\n",
    "from PIL import Image \n",
    "import re\n",
    "\n",
    "# requires arxiv_on_deck_2\n",
    "\n",
    "from arxiv_on_deck_2.arxiv2 import (get_new_papers, \n",
    "                                    get_paper_from_identifier,\n",
    "                                    retrieve_document_source, \n",
    "                                    get_markdown_badge)\n",
    "from arxiv_on_deck_2 import (latex,\n",
    "                             latex_bib,\n",
    "                             mpia,\n",
    "                             highlight_authors_in_list)\n",
    "\n",
    "# Sometimes images are really big\n",
    "Image.MAX_IMAGE_PIXELS = 1000000000 "
   ]
  },
  {
   "cell_type": "code",
   "execution_count": 2,
   "id": "22aa9d44",
   "metadata": {
    "execution": {
     "iopub.execute_input": "2024-12-03T04:11:37.730573Z",
     "iopub.status.busy": "2024-12-03T04:11:37.729900Z",
     "iopub.status.idle": "2024-12-03T04:11:37.738445Z",
     "shell.execute_reply": "2024-12-03T04:11:37.737841Z"
    },
    "papermill": {
     "duration": 0.013349,
     "end_time": "2024-12-03T04:11:37.739445",
     "exception": false,
     "start_time": "2024-12-03T04:11:37.726096",
     "status": "completed"
    },
    "tags": []
   },
   "outputs": [],
   "source": [
    "# Some useful definitions.\n",
    "\n",
    "class AffiliationWarning(UserWarning):\n",
    "    pass\n",
    "\n",
    "class AffiliationError(RuntimeError):\n",
    "    pass\n",
    "\n",
    "def validation(source: str):\n",
    "    \"\"\"Raises error paper during parsing of source file\n",
    "    \n",
    "    Allows checks before parsing TeX code.\n",
    "    \n",
    "    Raises AffiliationWarning\n",
    "    \"\"\"\n",
    "    check = mpia.affiliation_verifications(source, verbose=True)\n",
    "    if check is not True:\n",
    "        raise AffiliationError(\"mpia.affiliation_verifications: \" + check)\n",
    "\n",
    "        \n",
    "warnings.simplefilter('always', AffiliationWarning)\n",
    "\n",
    "\n",
    "def get_markdown_qrcode(paper_id: str):\n",
    "    \"\"\" Generate a qrcode to the arxiv page using qrserver.com\n",
    "    \n",
    "    :param paper: Arxiv paper\n",
    "    :returns: markdown text\n",
    "    \"\"\"\n",
    "    url = r\"https://api.qrserver.com/v1/create-qr-code/?size=100x100&data=\"\n",
    "    txt = f\"\"\"<img src={url}\"https://arxiv.org/abs/{paper_id}\">\"\"\"\n",
    "    txt = '<div id=\"qrcode\">' + txt + '</div>'\n",
    "    return txt\n",
    "\n",
    "\n",
    "def clean_non_western_encoded_characters_commands(text: str) -> str:\n",
    "    \"\"\" Remove non-western encoded characters from a string\n",
    "    List may need to grow.\n",
    "    \n",
    "    :param text: the text to clean\n",
    "    :return: the cleaned text\n",
    "    \"\"\"\n",
    "    text = re.sub(r\"(\\\\begin{CJK}{UTF8}{gbsn})(.*?)(\\\\end{CJK})\", r\"\\2\", text)\n",
    "    return text\n",
    "\n",
    "\n",
    "def get_initials(name: str) -> str:\n",
    "    \"\"\" Get the short name, e.g., A.-B. FamName\n",
    "    :param name: full name\n",
    "    :returns: initials\n",
    "    \"\"\"\n",
    "    initials = []\n",
    "    # account for non western names often in ()\n",
    "    if '(' in name:\n",
    "        name = clean_non_western_encoded_characters_commands(name)\n",
    "        suffix = re.findall(r\"\\((.*?)\\)\", name)[0]\n",
    "        name = name.replace(f\"({suffix})\", '')\n",
    "    else:\n",
    "        suffix = ''\n",
    "    split = name.split()\n",
    "    for token in split[:-1]:\n",
    "        if '-' in token:\n",
    "            current = '-'.join([k[0] + '.' for k in token.split('-')])\n",
    "        else:\n",
    "            current = token[0] + '.'\n",
    "        initials.append(current)\n",
    "    initials.append(split[-1].strip())\n",
    "    if suffix:\n",
    "        initials.append(f\"({suffix})\")\n",
    "    return ' '.join(initials)"
   ]
  },
  {
   "cell_type": "markdown",
   "id": "14bd6310",
   "metadata": {
    "papermill": {
     "duration": 0.003012,
     "end_time": "2024-12-03T04:11:37.745679",
     "exception": false,
     "start_time": "2024-12-03T04:11:37.742667",
     "status": "completed"
    },
    "tags": []
   },
   "source": [
    "## get list of arxiv paper candidates\n",
    "\n",
    "We use the MPIA mitarbeiter list webpage from mpia.de to get author names\n",
    "We then get all new papers from Arxiv and match authors"
   ]
  },
  {
   "cell_type": "code",
   "execution_count": 3,
   "id": "7ea813a8",
   "metadata": {
    "execution": {
     "iopub.execute_input": "2024-12-03T04:11:37.753224Z",
     "iopub.status.busy": "2024-12-03T04:11:37.752641Z",
     "iopub.status.idle": "2024-12-03T04:11:59.067128Z",
     "shell.execute_reply": "2024-12-03T04:11:59.066502Z"
    },
    "papermill": {
     "duration": 21.319608,
     "end_time": "2024-12-03T04:11:59.068317",
     "exception": false,
     "start_time": "2024-12-03T04:11:37.748709",
     "status": "completed"
    },
    "tags": []
   },
   "outputs": [],
   "source": [
    "# deal with the author list and edge cases of people that cannot be consistent on their name  \n",
    "\n",
    "def filter_non_scientists(name: str) -> bool:\n",
    "    \"\"\" Loose filter on expected authorships\n",
    "\n",
    "    removing IT, administration, technical staff\n",
    "    :param name: name\n",
    "    :returns: False if name is not a scientist\n",
    "    \"\"\"\n",
    "    remove_list = ['Licht', 'Binroth', 'Witzel', 'Jordan',\n",
    "                   'Zähringer', 'Scheerer', 'Hoffmann', 'Düe',\n",
    "                   'Hellmich', 'Enkler-Scharpegge', 'Witte-Nguy',\n",
    "                   'Dehen', 'Beckmann', 'Jager', 'Jäger'\n",
    "                  ]\n",
    "\n",
    "    for k in remove_list:\n",
    "        if k in name:\n",
    "            return False\n",
    "    return True\n",
    "\n",
    "def add_author_to_list(author_list: list) -> list:\n",
    "    \"\"\" Add author to list if not already in list\n",
    "    \n",
    "    :param author: author name\n",
    "    :param author_list: list of authors\n",
    "    :returns: updated list of authors\n",
    "    \"\"\"\n",
    "    add_list = ['T. Henning']\n",
    "\n",
    "    for author in add_list:\n",
    "        if author not in author_list:\n",
    "            author_list.append(author)\n",
    "    return author_list\n",
    "\n",
    "# get list from MPIA website\n",
    "# filter for non-scientists (mpia.get_mpia_mitarbeiter_list() does some filtering)\n",
    "mpia_authors = [k[1] for k in mpia.get_mpia_mitarbeiter_list() if filter_non_scientists(k[1])]\n",
    "# add some missing author because of inconsistencies in their MPIA name and author name on papers\n",
    "mpia_authors = add_author_to_list(mpia_authors)"
   ]
  },
  {
   "cell_type": "code",
   "execution_count": 4,
   "id": "2645e73a",
   "metadata": {
    "execution": {
     "iopub.execute_input": "2024-12-03T04:11:59.075992Z",
     "iopub.status.busy": "2024-12-03T04:11:59.075580Z",
     "iopub.status.idle": "2024-12-03T04:11:59.925418Z",
     "shell.execute_reply": "2024-12-03T04:11:59.924798Z"
    },
    "papermill": {
     "duration": 0.85485,
     "end_time": "2024-12-03T04:11:59.926552",
     "exception": false,
     "start_time": "2024-12-03T04:11:59.071702",
     "status": "completed"
    },
    "tags": []
   },
   "outputs": [
    {
     "name": "stdout",
     "output_type": "stream",
     "text": [
      "J. Liu  ->  J. Liu  |  ['J. Liu']\n",
      "K. Lee  ->  K. Lee  |  ['K. Lee']\n",
      "G. Mattia  ->  G. Mattia  |  ['G. Mattia']\n",
      "S. Li  ->  S. Li  |  ['S. Li']\n",
      "G. Perotti  ->  G. Perotti  |  ['G. Perotti']\n"
     ]
    },
    {
     "name": "stdout",
     "output_type": "stream",
     "text": [
      "F. Walter  ->  F. Walter  |  ['F. Walter']\n",
      "K. El-Badry  ->  K. El-Badry  |  ['K. El-Badry']\n",
      "A. Pillepich  ->  A. Pillepich  |  ['A. Pillepich']\n",
      "X. Zhang  ->  X. Zhang  |  ['X. Zhang']\n",
      "Arxiv has 101 new papers today\n",
      "          8 with possible author matches\n"
     ]
    }
   ],
   "source": [
    "new_papers = get_new_papers()\n",
    "# add manual references\n",
    "add_paper_refs = []\n",
    "new_papers.extend([get_paper_from_identifier(k) for k in add_paper_refs])\n",
    "\n",
    "def robust_call(fn, value, *args, **kwargs):\n",
    "    try:\n",
    "        return fn(value, *args, **kwargs)\n",
    "    except Exception:\n",
    "        return value\n",
    "\n",
    "candidates = []\n",
    "for paperk in new_papers:\n",
    "    # Check author list with their initials\n",
    "    normed_author_list = [robust_call(mpia.get_initials, k) for k in paperk['authors']]\n",
    "    hl_authors = highlight_authors_in_list(normed_author_list, mpia_authors, verbose=True)\n",
    "    matches = [(hl, orig) for hl, orig in zip(hl_authors, paperk['authors']) if 'mark' in hl]\n",
    "    paperk['authors'] = hl_authors\n",
    "    if matches:\n",
    "        # only select paper if an author matched our list\n",
    "        candidates.append(paperk)\n",
    "print(\"\"\"Arxiv has {0:,d} new papers today\"\"\".format(len(new_papers)))        \n",
    "print(\"\"\"          {0:,d} with possible author matches\"\"\".format(len(candidates)))"
   ]
  },
  {
   "cell_type": "markdown",
   "id": "3543b34a",
   "metadata": {
    "papermill": {
     "duration": 0.003087,
     "end_time": "2024-12-03T04:11:59.933171",
     "exception": false,
     "start_time": "2024-12-03T04:11:59.930084",
     "status": "completed"
    },
    "tags": []
   },
   "source": [
    "# Parse sources and generate relevant outputs\n",
    "\n",
    "From the candidates, we do the following steps:\n",
    "* get their tarball from ArXiv (and extract data)\n",
    "* find the main .tex file: find one with \\documentclass{...} (sometimes it's non trivial)\n",
    "* Check affiliations with :func:`validation`, which uses :func:`mpia.affiliation_verifications`\n",
    "* If passing the affiliations: we parse the .tex source\n",
    "   * inject sub-documents into the main (flatten the main document)\n",
    "   * parse structure, extract information (title, abstract, authors, figures...)\n",
    "   * handles `\\graphicspath` if provided\n",
    "* Generate the .md document."
   ]
  },
  {
   "cell_type": "code",
   "execution_count": 5,
   "id": "9576b79e",
   "metadata": {
    "execution": {
     "iopub.execute_input": "2024-12-03T04:11:59.940556Z",
     "iopub.status.busy": "2024-12-03T04:11:59.940029Z",
     "iopub.status.idle": "2024-12-03T04:16:18.607472Z",
     "shell.execute_reply": "2024-12-03T04:16:18.606679Z"
    },
    "papermill": {
     "duration": 258.67633,
     "end_time": "2024-12-03T04:16:18.612640",
     "exception": false,
     "start_time": "2024-12-03T04:11:59.936310",
     "status": "completed"
    },
    "scrolled": false,
    "tags": []
   },
   "outputs": [
    {
     "data": {
      "application/vnd.jupyter.widget-view+json": {
       "model_id": "20e2a59c0bb44267a09414ab52c24292",
       "version_major": 2,
       "version_minor": 0
      },
      "text/plain": [
       "  0%|          | 0/8 [00:00<?, ?it/s]"
      ]
     },
     "metadata": {},
     "output_type": "display_data"
    },
    {
     "name": "stdout",
     "output_type": "stream",
     "text": [
      "Retrieving document from  https://arxiv.org/e-print/2411.18735\n"
     ]
    },
    {
     "name": "stdout",
     "output_type": "stream",
     "text": [
      "extracting tarball to tmp_2411.18735..."
     ]
    },
    {
     "name": "stdout",
     "output_type": "stream",
     "text": [
      " done.\n",
      "Retrieving document from  https://arxiv.org/e-print/2411.18999\n"
     ]
    },
    {
     "name": "stdout",
     "output_type": "stream",
     "text": [
      "extracting tarball to tmp_2411.18999..."
     ]
    },
    {
     "name": "stdout",
     "output_type": "stream",
     "text": [
      " done.\n",
      "Retrieving document from  https://arxiv.org/e-print/2411.19126\n"
     ]
    },
    {
     "name": "stdout",
     "output_type": "stream",
     "text": [
      "extracting tarball to tmp_2411.19126..."
     ]
    },
    {
     "name": "stdout",
     "output_type": "stream",
     "text": [
      " done.\n"
     ]
    },
    {
     "name": "stdout",
     "output_type": "stream",
     "text": [
      "Found 68 bibliographic references in tmp_2411.19126/main.bbl.\n",
      "Retrieving document from  https://arxiv.org/e-print/2411.19489\n"
     ]
    },
    {
     "name": "stdout",
     "output_type": "stream",
     "text": [
      "extracting tarball to tmp_2411.19489..."
     ]
    },
    {
     "name": "stdout",
     "output_type": "stream",
     "text": [
      " done.\n"
     ]
    },
    {
     "name": "stdout",
     "output_type": "stream",
     "text": [
      "Found 65 bibliographic references in tmp_2411.19489/paper.bbl.\n",
      "Error retrieving bib data for 2022MNRAS.512.5214D: 'author'\n",
      "Error retrieving bib data for zhou2022atoms: 'author'\n",
      "Retrieving document from  https://arxiv.org/e-print/2411.19651\n"
     ]
    },
    {
     "name": "stdout",
     "output_type": "stream",
     "text": [
      "extracting tarball to tmp_2411.19651..."
     ]
    },
    {
     "name": "stdout",
     "output_type": "stream",
     "text": [
      " done.\n",
      "Retrieving document from  https://arxiv.org/e-print/2411.19686\n"
     ]
    },
    {
     "name": "stdout",
     "output_type": "stream",
     "text": [
      "extracting tarball to tmp_2411.19686..."
     ]
    },
    {
     "name": "stdout",
     "output_type": "stream",
     "text": [
      " done.\n"
     ]
    },
    {
     "name": "stdout",
     "output_type": "stream",
     "text": [
      "Issues with the citations\n",
      "list index out of range\n",
      "Retrieving document from  https://arxiv.org/e-print/2411.19916\n"
     ]
    },
    {
     "name": "stdout",
     "output_type": "stream",
     "text": [
      "extracting tarball to tmp_2411.19916..."
     ]
    },
    {
     "name": "stdout",
     "output_type": "stream",
     "text": [
      " done.\n"
     ]
    },
    {
     "name": "stdout",
     "output_type": "stream",
     "text": [
      "Issues with the citations\n",
      "list index out of range\n",
      "Retrieving document from  https://arxiv.org/e-print/2411.19945\n"
     ]
    },
    {
     "name": "stdout",
     "output_type": "stream",
     "text": [
      "extracting tarball to tmp_2411.19945..."
     ]
    },
    {
     "name": "stdout",
     "output_type": "stream",
     "text": [
      " done.\n"
     ]
    },
    {
     "name": "stderr",
     "output_type": "stream",
     "text": [
      "/opt/hostedtoolcache/Python/3.9.20/x64/lib/python3.9/site-packages/IPython/core/interactiveshell.py:3550: LatexWarning: Multiple tex files.\n",
      "\n",
      "  exec(code_obj, self.user_global_ns, self.user_ns)\n",
      "/opt/hostedtoolcache/Python/3.9.20/x64/lib/python3.9/site-packages/IPython/core/interactiveshell.py:3550: LatexWarning: Found documentclass in tmp_2411.19945/iso_cen.tex\n",
      "\n",
      "  exec(code_obj, self.user_global_ns, self.user_ns)\n"
     ]
    },
    {
     "name": "stdout",
     "output_type": "stream",
     "text": [
      "A. Pillepich  ->  A. Pillepich  |  ['A. Pillepich']\n",
      "X. Zhang  ->  X. Zhang  |  ['X. Zhang']\n"
     ]
    },
    {
     "name": "stdout",
     "output_type": "stream",
     "text": [
      "Found 129 bibliographic references in tmp_2411.19945/iso_cen.bbl.\n"
     ]
    }
   ],
   "source": [
    "documents = []\n",
    "failed = []\n",
    "for paper in tqdm(candidates):\n",
    "    # debug crap\n",
    "    paper['identifier'] = paper['identifier'].lower().replace('arxiv:', '').replace(r'\\n', '').strip()\n",
    "    paper_id = paper['identifier']\n",
    "    \n",
    "    folder = f'tmp_{paper_id}'\n",
    "\n",
    "    try:\n",
    "        if not os.path.isdir(folder):\n",
    "            folder = retrieve_document_source(f\"{paper_id}\", f'tmp_{paper_id}')\n",
    "        \n",
    "        try:\n",
    "            doc = latex.LatexDocument(folder, validation=validation)    \n",
    "        except AffiliationError as affilerror:\n",
    "            msg = f\"ArXiv:{paper_id:s} is not an MPIA paper... \" + str(affilerror)\n",
    "            failed.append((paper, \"affiliation error: \" + str(affilerror) ))\n",
    "            continue\n",
    "        \n",
    "        # Hack because sometimes author parsing does not work well\n",
    "        if (len(doc.authors) != len(paper['authors'])):\n",
    "            doc._authors = paper['authors']\n",
    "        else:\n",
    "            # highlight authors (FIXME: doc.highlight_authors)\n",
    "            # done on arxiv paper already\n",
    "            doc._authors = highlight_authors_in_list(\n",
    "                [get_initials(k) for k in doc.authors], \n",
    "                mpia_authors, verbose=True)\n",
    "        if (doc.abstract) in (None, ''):\n",
    "            doc._abstract = paper['abstract']\n",
    "            \n",
    "        doc.comment = (get_markdown_badge(paper_id) + \n",
    "                       \"<mark>Appeared on: \" + paper['date'] + \"</mark> - \")\n",
    "        if paper['comments']:\n",
    "            doc.comment += \" _\" + paper['comments'] + \"_\"\n",
    "        \n",
    "        full_md = doc.generate_markdown_text()\n",
    "        \n",
    "        full_md += get_markdown_qrcode(paper_id)\n",
    "        \n",
    "        # replace citations\n",
    "        try:\n",
    "            bibdata = latex_bib.LatexBib.from_doc(doc)\n",
    "            full_md = latex_bib.replace_citations(full_md, bibdata)\n",
    "        except Exception as e:\n",
    "            print(\"Issues with the citations\")\n",
    "            print(e)\n",
    "        \n",
    "        documents.append((paper_id, full_md))\n",
    "    except Exception as e:\n",
    "        warnings.warn(latex.LatexWarning(f\"{paper_id:s} did not run properly\\n\" +\n",
    "                                         str(e)\n",
    "                                        ))\n",
    "        failed.append((paper, \"latex error \" + str(e)))"
   ]
  },
  {
   "cell_type": "markdown",
   "id": "2505a25c",
   "metadata": {
    "papermill": {
     "duration": 0.004346,
     "end_time": "2024-12-03T04:16:18.621816",
     "exception": false,
     "start_time": "2024-12-03T04:16:18.617470",
     "status": "completed"
    },
    "tags": []
   },
   "source": [
    "### Export the logs\n",
    "\n",
    "Throughout, we also keep track of the logs per paper. see `logs-{today date}.md` "
   ]
  },
  {
   "cell_type": "code",
   "execution_count": 6,
   "id": "d733828a",
   "metadata": {
    "execution": {
     "iopub.execute_input": "2024-12-03T04:16:18.632000Z",
     "iopub.status.busy": "2024-12-03T04:16:18.631413Z",
     "iopub.status.idle": "2024-12-03T04:16:18.650704Z",
     "shell.execute_reply": "2024-12-03T04:16:18.650120Z"
    },
    "papermill": {
     "duration": 0.025568,
     "end_time": "2024-12-03T04:16:18.651718",
     "exception": false,
     "start_time": "2024-12-03T04:16:18.626150",
     "status": "completed"
    },
    "scrolled": false,
    "tags": []
   },
   "outputs": [
    {
     "data": {
      "text/markdown": [
       "## Successful papers"
      ],
      "text/plain": [
       "<IPython.core.display.Markdown object>"
      ]
     },
     "metadata": {},
     "output_type": "display_data"
    },
    {
     "data": {
      "text/markdown": [
       "\n",
       "|||\n",
       "|---:|:---|\n",
       "| [![arXiv](https://img.shields.io/badge/arXiv-2411.19126-b31b1b.svg)](https://arxiv.org/abs/2411.19126) | **Spectral and magnetic properties of the jet base in NGC 315**  |\n",
       "|| L. Ricci, et al. -- incl., <mark>G. Mattia</mark> |\n",
       "|*Appeared on*| *2024-12-03*|\n",
       "|*Comments*| *16 pages, 19 figures, accepted for publication in A&A*|\n",
       "|**Abstract**|            The dynamic of relativistic jets in the inner parsec regions is deeply affected by the nature of the magnetic fields. The level of magnetization of the plasma, as well as the geometry of these fields on compact scales, have not yet been fully constrained. In this paper we employ multi-frequency and multi-epoch very long baseline interferometry observations of the nearby radio galaxy NGC 315. We aim to derive insights into the magnetic field properties on sub-parsec and parsec scales by examining observational signatures such as the spectral index, synchrotron turnover frequency, and brightness temperature profiles. This analysis is performed by considering the properties of the jet acceleration and collimation zone, which can be probed thanks to the source vicinity, as well as the inner part of the jet conical region. We observe remarkably steep values for the spectral index on sub-parsec scales ($\\alpha \\sim -2$, $S_\\nu \\propto \\nu^\\alpha$) which flatten around $\\alpha \\sim -0.8$ on parsec scales. We suggest that the observed steep values may result from particles being accelerated via diffusive shock acceleration mechanisms in magnetized plasma and subsequently experiencing cooling through synchrotron losses. The brightness temperature of the 43 GHz cores indicates a dominance of the magnetic energy at the jet base, while the cores at progressively lower frequencies reveal a gradual transition towards equipartition. Based on the spectral index and brightness temperature along the incoming jet, and by employing theoretical models, we derive that the magnetic field strength has a close-to-linear dependence with distance going from parsec scales up to the jet apex. Overall, our findings are consistent with a toroidal-dominated magnetic field on all the analyzed scales.         |"
      ],
      "text/plain": [
       "[2411.19126] Spectral and magnetic properties of the jet base in NGC 315\n",
       "\tL. Ricci, et al. -- incl., <mark>G. Mattia</mark>"
      ]
     },
     "metadata": {},
     "output_type": "display_data"
    },
    {
     "data": {
      "text/markdown": [
       "\n",
       "|||\n",
       "|---:|:---|\n",
       "| [![arXiv](https://img.shields.io/badge/arXiv-2411.19489-b31b1b.svg)](https://arxiv.org/abs/2411.19489) | **ATOMS: ALMA Three-millimeter Observations of Massive Star-forming regions -- XIX. The origin of SiO emission**  |\n",
       "|| R. Liu, et al. -- incl., <mark>S. Li</mark> |\n",
       "|*Appeared on*| *2024-12-03*|\n",
       "|*Comments*| *23 pages, 14 figures*|\n",
       "|**Abstract**|            The production of silicon monoxide (SiO) can be considered as a fingerprint of shock interaction. In this work, we use high-sensitivity observations of the SiO (2-1) and H$^{13}$CO$^{+}$ (1-0) emission to investigate the broad and narrow SiO emission toward 146 massive star-forming regions in the ATOMS survey. We detected SiO emission in 136 regions and distinguished broad and narrow components across the extension of 118 sources (including 58 UC $H_{II}$ regions) with an average angular resolution of 2.5$^{\\prime}$$^{\\prime}$. The derived SiO luminosity ($L_{SiO}$) across the whole sample shows that the majority of $L_{SiO}$ (above 66$\\%$) can be attributed to broad SiO, indicating its association with strong outflows. The comparison of the ALMA SiO images with the filamentary skeletons identified from H$^{13}$CO$^{+}$ and in the infrared data (at 4.5, 8, and 24 $mu$m), further confirms that most SiO emission originates from outflows. However, note that for nine sources in our sample, the observed SiO emission may be generated by expanding UC $H_{II}$ regions. There is a moderate positive correlation between the bolometric luminosity ($L_{bol}$) and $L_{SiO}$ for both components (narrow and broad). The UC $H_{II}$ sources show a weaker positive correlation between $L_{bol}$ and $L_{SiO}$ and higher $L_{SiO}$ compared to the sources without UC $H_{II}$ regions. These results imply that the SiO emission from UC $H_{II}$ sources might be affected by UV-photochemistry induced by UC $H_{II}$ regions.         |"
      ],
      "text/plain": [
       "[2411.19489] ATOMS: ALMA Three-millimeter Observations of Massive Star-forming regions -- XIX. The origin of SiO emission\n",
       "\tR. Liu, et al. -- incl., <mark>S. Li</mark>"
      ]
     },
     "metadata": {},
     "output_type": "display_data"
    },
    {
     "data": {
      "text/markdown": [
       "\n",
       "|||\n",
       "|---:|:---|\n",
       "| [![arXiv](https://img.shields.io/badge/arXiv-2411.19686-b31b1b.svg)](https://arxiv.org/abs/2411.19686) | **MIRI Deep Imaging Survey (MIDIS) of the Hubble Ultra Deep Field**  |\n",
       "|| G. Östlin, et al. -- incl., <mark>F. Walter</mark> |\n",
       "|*Appeared on*| *2024-12-03*|\n",
       "|*Comments*| *submitted to A&A on July 30, 2024*|\n",
       "|**Abstract**|            The recently launched James Webb Space Telescope (JWST) is opening new observing windows on the distant universe. Among JWST's instruments, the Mid Infrared Instrument (MIRI) offers the unique capability of imaging observations at wavelengths $\\lambda > 5\\mu$m. This enables unique access to the rest frame near infra-red (NIR, $\\lambda \\ge 1$\\mum) emission from galaxies at redshifts $z>4$ and the visual ($\\lambda \\gtrsim 5000$Å) rest frame for $z>9$. We here report on the guaranteed time observations (GTO) from the MIRI European Consortium, of the Hubble Ultra Deep Field (HUDF), forming the MIRI Deep Imaging Survey (MIDIS), consisting of an on source integration time of $\\sim41$ hours in the MIRI/F560W (5.6 $\\mu$m) filter. To our knowledge, this constitutes the longest single filter exposure obtained with JWST of an extragalactic field as yet.         |"
      ],
      "text/plain": [
       "[2411.19686] MIRI Deep Imaging Survey (MIDIS) of the Hubble Ultra Deep Field\n",
       "\tG. Östlin, et al. -- incl., <mark>F. Walter</mark>"
      ]
     },
     "metadata": {},
     "output_type": "display_data"
    },
    {
     "data": {
      "text/markdown": [
       "\n",
       "|||\n",
       "|---:|:---|\n",
       "| [![arXiv](https://img.shields.io/badge/arXiv-2411.19916-b31b1b.svg)](https://arxiv.org/abs/2411.19916) | **A gravitational wave detectable candidate Type Ia supernova progenitor**  |\n",
       "|| E. T. Chickles, et al. -- incl., <mark>K. El-Badry</mark> |\n",
       "|*Appeared on*| *2024-12-03*|\n",
       "|*Comments*| *40 pages, 7 figures, 2 tables*|\n",
       "|**Abstract**|            Type Ia supernovae, critical for studying cosmic expansion, arise from thermonuclear explosions of white dwarfs, but their precise progenitor pathways remain unclear. Growing evidence supports the ``double-degenerate'' scenario, where two white dwarfs interact. The absence of other companion types capable of explaining the observed Ia rate, along with observations of hyper-velocity white dwarfs interpreted as surviving companions of such systems provide compelling evidence in favor of this scenario. Upcoming millihertz gravitational wave observatories like the Laser Interferometer Space Antenna (LISA) are expected to detect thousands of double-degenerate systems, though the most compact known candidate Ia progenitors produce only marginally detectable gravitational wave signals. Here, we report observations of ATLAS J1138-5139, a binary white dwarf system with an orbital period of 28 minutes. Our analysis reveals a 1 solar mass carbon-oxygen white dwarf accreting from a helium-core white dwarf. Given its mass, the accreting carbon-oxygen white dwarf is poised to trigger a typical-luminosity Type Ia supernova within a few million years, or to evolve into a stably mass-transferring AM CVn system. ATLAS J1138-5139 provides a rare opportunity to calibrate binary evolution models by directly comparing observed orbital parameters and mass transfer rates closer to merger than any previously identified candidate Type Ia progenitor. Its compact orbit ensures detectability by LISA, demonstrating the potential of millihertz gravitational wave observatories to reveal a population of Type Ia progenitors on a Galactic scale, paving the way for multi-messenger studies offering insights into the origins of these cosmologically significant explosions.         |"
      ],
      "text/plain": [
       "[2411.19916] A gravitational wave detectable candidate Type Ia supernova progenitor\n",
       "\tE. T. Chickles, et al. -- incl., <mark>K. El-Badry</mark>"
      ]
     },
     "metadata": {},
     "output_type": "display_data"
    },
    {
     "data": {
      "text/markdown": [
       "\n",
       "|||\n",
       "|---:|:---|\n",
       "| [![arXiv](https://img.shields.io/badge/arXiv-2411.19945-b31b1b.svg)](https://arxiv.org/abs/2411.19945) | **The hot circumgalactic medium in the eROSITA All-Sky Survey III. Star-forming and quiescent galaxies**  |\n",
       "|| Y. Zhang, et al. -- incl., <mark>A. Pillepich</mark>, <mark>X. Zhang</mark> |\n",
       "|*Appeared on*| *2024-12-03*|\n",
       "|*Comments*| *16 pages, 12 figures, accepted for publication in A&A*|\n",
       "|**Abstract**|            The circumgalactic medium (CGM), as the gas repository for star formation, might contain the answer to the mysterious galaxy quenching and bimodal galaxy population origin. We measured the X-ray emission of the hot CGM around star-forming and quiescent galaxies. We detect extended X-ray emission from the hot CGM around star-forming galaxies with $\\log(M_*/M_\\odot)>11.0$ and quiescent galaxies with $\\log(M_*/M_\\odot)>10.5$, extending out to $R_{\\rm 500c}$. $L_{\\rm X, CGM}$ of star-forming galaxies with median stellar masses $\\log(M_{\\rm *,med}/M_\\odot) = 10.7, 11.1, 11.3$ are approximately $0.8\\,, 2.3\\,, 4.0 \\times 10^{40}\\,\\rm erg/s$, while for quiescent galaxies with $\\log(M_{\\rm *,med}/M_\\odot) = 10.8, 11.1, 11.4$, they are $1.1\\,, 6.2\\,, 30 \\times 10^{40}\\,\\rm erg/s$. Notably, quiescent galaxies with $\\log(M_{\\rm *,med}/M_\\odot) > 11.0$ exhibit brighter hot CGM than their star-forming counterparts. In halo mass bins, we detect similar X-ray emission around star-forming and quiescent galaxies with $\\log(M_{\\rm 200m}/M_\\odot) > 12.5$, suggesting that galaxies in the same mass dark matter halos host equally bright hot CGM. We emphasize the observed $L_{\\rm X, CGM} - M_{\\rm 500c}$ relations of star-forming and quiescent galaxies are sensitive to the stellar-to-halo mass relation (SHMR). A comparison with cosmological hydrodynamical simulations (EAGLE, TNG100, and SIMBA) reveals varying degrees of agreement, contingent on the simulation and the specific stellar or halo mass ranges considered. Either selected in stellar mass or halo mass, the star-forming galaxies do not host brighter stacked X-ray emission from the hot CGM than their quiescent counterparts at the same mass range. The result provides useful constraints on the extent of feedback's impacts as a mechanism for quenching star formation as implemented in current cosmological simulations.         |"
      ],
      "text/plain": [
       "[2411.19945] The hot circumgalactic medium in the eROSITA All-Sky Survey III. Star-forming and quiescent galaxies\n",
       "\tY. Zhang, et al. -- incl., <mark>A. Pillepich</mark>, <mark>X. Zhang</mark>"
      ]
     },
     "metadata": {},
     "output_type": "display_data"
    },
    {
     "data": {
      "text/markdown": [
       "## Failed papers"
      ],
      "text/plain": [
       "<IPython.core.display.Markdown object>"
      ]
     },
     "metadata": {},
     "output_type": "display_data"
    },
    {
     "data": {
      "text/markdown": [
       "\n",
       "|||\n",
       "|---:|:---|\n",
       "| [![arXiv](https://img.shields.io/badge/arXiv-2411.19651-b31b1b.svg)](https://arxiv.org/abs/2411.19651) | **Ice inventory towards the protostar Ced 110 IRS4 observed with the James Webb Space Telescope. Results from the ERS Ice Age program**  |\n",
       "|| W. R. M. Rocha, et al. -- incl., <mark>G. Perotti</mark> |\n",
       "|*Appeared on*| *2024-12-03*|\n",
       "|*Comments*| *33 pages, 19 Figures. Accepted for publication in Astronomy & Astrophysics*|\n",
       "|**Abstract**|            This work focuses on the ice features toward the binary protostellar system Ced 110 IRS 4A and 4B, and observed with JWST as part of the Early Release Science Ice Age collaboration. We aim to explore the JWST observations of the binary protostellar system Ced~110~IRS4A and IRS4B to unveil and quantify the ice inventories toward these sources. We compare the ice abundances with those found for the same molecular cloud. The analysis is performed by fitting or comparing laboratory infrared spectra of ices to the observations. Spectral fits are carried out with the ENIIGMA fitting tool that searches for the best fit. For Ced~110~IRS4B, we detected the major ice species H$_2$O, CO, CO$_2$ and NH$_3$. All species are found in a mixture except for CO and CO$_2$, which have both mixed and pure ice components. In the case of Ced~110~IRS4A, we detected the same major species as in Ced~110~IRS4B, as well as the following minor species CH$_4$, SO$_2$, CH$_3$OH, OCN$^-$, NH$_4^+$ and HCOOH. Tentative detection of N$_2$O ice (7.75~$\\mu$m), forsterite dust (11.2~$\\mu$m) and CH$_3^+$ gas emission (7.18~$\\mu$m) in the primary source are also presented. Compared with the two lines of sight toward background stars in the Chameleon I molecular cloud, the protostar has similar ice abundances, except in the case of the ions that are higher in IRS4A. The clearest differences are the absence of the 7.2 and 7.4~$\\mu$m absorption features due to HCOO$^-$ and icy complex organic molecules in IRS4A and evidence of thermal processing in both IRS4A and IRS4B as probed by the CO$_2$ ice features. We conclude that the binary protostellar system Ced~110~IRS4A and IRS4B has a large inventory of icy species. The similar ice abundances in comparison to the starless regions in the same molecular cloud suggest that the chemical conditions of the protostar were set at earlier stages in the molecular cloud.         |\n",
       "|<p style=\"color:green\"> **ERROR** </p>| <p style=\"color:green\">affiliation error: mpia.affiliation_verifications: '69117' keyword not found.</p> |"
      ],
      "text/plain": [
       "<IPython.core.display.Markdown object>"
      ]
     },
     "metadata": {},
     "output_type": "display_data"
    },
    {
     "data": {
      "text/markdown": [
       "\n",
       "|||\n",
       "|---:|:---|\n",
       "| [![arXiv](https://img.shields.io/badge/arXiv-2411.18735-b31b1b.svg)](https://arxiv.org/abs/2411.18735) | **What Can DKIST/DL-NIRSP Tell Us About Quiet-Sun Magnetism?**  |\n",
       "|| <mark>J. Liu</mark>, X. Sun, P. W. Schuck, S. A. Jaeggli |\n",
       "|*Appeared on*| *2024-12-03*|\n",
       "|*Comments*| *29 pages, 22 figures. Accepted for publication in ApJ*|\n",
       "|**Abstract**|            Quiet-Sun regions cover most of the Sun's surface; its magnetic fields contribute significantly to the solar chromospheric and coronal heating. However, characterizing the magnetic fields of the quiet Sun is challenging due to their weak polarization signal. The 4-m \\textit{Daniel K. Inouye Solar Telescope} (\\textit{DKIST}) is expected to improve our understanding of the quiet-Sun magnetism. In this paper, we assess the diagnostic capability of the Diffraction-Limited Near Infrared Spectropolarimeter (DL-NIRSP) instrument on \\textit{DKIST} on the energy transport processes in the quiet-Sun photosphere. To this end, we synthesize high-resolution, high-cadence Stokes profiles of the \\ion{Fe}{1} 630~nm lines using a realistic magnetohydrodynamic simulation, degrade them to emulate the \\textit{DKIST}/DL-NIRSP observations, and subsequently infer the vector magnetic and velocity fields. For the assessment, we first verify that a widely used flow-tracking algorithm, Differential Affine Velocity Estimator for Vector Magnetograms, works well for estimating the large-scale ($> 200$ km) photospheric velocity fields with these high-resolution data. We then examine how the accuracy of inferred velocity depends on the temporal resolution. Finally, we investigate the reliability of the Poynting flux estimate and its dependence on the model assumptions. The results suggest that the unsigned Poynting flux, estimated with existing schemes, can account for about $71.4\\%$ and $52.6\\%$ of the reference ground truth at $\\log \\tau =0.0$ and $\\log \\tau = -1$. However, the net Poynting flux tends to be significantly underestimated. The error mainly arises from the underestimated contribution of the horizontal motion. We discuss the implications on \\textit{DKIST} observations.         |\n",
       "|<p style=\"color:green\"> **ERROR** </p>| <p style=\"color:green\">affiliation error: mpia.affiliation_verifications: 'Heidelberg' keyword not found.</p> |"
      ],
      "text/plain": [
       "<IPython.core.display.Markdown object>"
      ]
     },
     "metadata": {},
     "output_type": "display_data"
    },
    {
     "data": {
      "text/markdown": [
       "\n",
       "|||\n",
       "|---:|:---|\n",
       "| [![arXiv](https://img.shields.io/badge/arXiv-2411.18999-b31b1b.svg)](https://arxiv.org/abs/2411.18999) | **Rapid Rotation of Polarization Orientations in PSR B1919+21's Single Pulses: Implications On Pulsar's Magnetospheric Dynamics**  |\n",
       "|| S. Cao, et al. -- incl., <mark>K. Lee</mark> |\n",
       "|*Appeared on*| *2024-12-03*|\n",
       "|*Comments*| *14 pages, 7 figures. Submitted to ApJL*|\n",
       "|**Abstract**|            We analyse and model rapid rotations of polarization orientations in PSR B1919+21's single pulses, based on FAST observation data. In more than one third of B1919+21's single pulses, polarization angle (PA) is found to rotate quasi-monotonically with pulse longitude, by over 180 or even 360 degrees. Most of these quasi-monotonic PA curves have negative slopes with respect to pulse longitude. Oscillations of circular polarization fraction accompany these PA rotations. This rapid rotation could be induced by quick change of phase lag between normal wave modes within an individual pulse. We propose a phenomenological model to successfully reproduce the observed polarization rotations in single pulses, and calculate phase lags in a dipolar magnetic field of an aligned rotating pulsar, with a dispersion relation of orthogonal wave modes in strongly magnetized plasma. The weak frequency dependence of observed polarization rotation requires the radio emission height to be low, approximately 10 times the neutron star radius.         |\n",
       "|<p style=\"color:green\"> **ERROR** </p>| <p style=\"color:green\">affiliation error: mpia.affiliation_verifications: 'Heidelberg' keyword not found.</p> |"
      ],
      "text/plain": [
       "<IPython.core.display.Markdown object>"
      ]
     },
     "metadata": {},
     "output_type": "display_data"
    }
   ],
   "source": [
    "import datetime\n",
    "today = str(datetime.date.today())\n",
    "logfile = f\"_build/html/logs/log-{today}.md\"\n",
    "\n",
    "\n",
    "with open(logfile, 'w') as logs:\n",
    "    # Success\n",
    "    logs.write(f'# Arxiv on Deck 2: Logs - {today}\\n\\n')\n",
    "    logs.write(\"\"\"* Arxiv had {0:,d} new papers\\n\"\"\".format(len(new_papers)))\n",
    "    logs.write(\"\"\"    * {0:,d} with possible author matches\\n\\n\"\"\".format(len(candidates)))\n",
    "    logs.write(\"## Sucessful papers\\n\\n\")\n",
    "    display(Markdown(\"## Successful papers\"))\n",
    "    success = [k[0] for k in documents]\n",
    "    for candid in candidates:\n",
    "        if candid['identifier'].split(':')[-1] in success:\n",
    "            display(candid)\n",
    "            logs.write(candid.generate_markdown_text() + '\\n\\n')\n",
    "\n",
    "    ## failed\n",
    "    logs.write(\"## Failed papers\\n\\n\")\n",
    "    display(Markdown(\"## Failed papers\"))\n",
    "    failed = sorted(failed, key=lambda x: x[1])\n",
    "    current_reason = \"\"\n",
    "    for paper, reason in failed:\n",
    "        if 'affiliation' in reason:\n",
    "            color = 'green'\n",
    "        else:\n",
    "            color = 'red'\n",
    "        data = Markdown(\n",
    "                paper.generate_markdown_text() + \n",
    "                f'\\n|<p style=\"color:{color:s}\"> **ERROR** </p>| <p style=\"color:{color:s}\">{reason:s}</p> |'\n",
    "               )\n",
    "        if reason != current_reason:\n",
    "            logs.write(f'### {reason:s} \\n\\n')\n",
    "            current_reason = reason\n",
    "        logs.write(data.data + '\\n\\n')\n",
    "        \n",
    "        # only display here the important errors (all in logs)\n",
    "        # if color in ('red',):\n",
    "        display(data)"
   ]
  },
  {
   "cell_type": "markdown",
   "id": "472d20ee",
   "metadata": {
    "papermill": {
     "duration": 0.005343,
     "end_time": "2024-12-03T04:16:18.662789",
     "exception": false,
     "start_time": "2024-12-03T04:16:18.657446",
     "status": "completed"
    },
    "tags": []
   },
   "source": [
    "## Export documents\n",
    "\n",
    "We now write the .md files and export relevant images"
   ]
  },
  {
   "cell_type": "code",
   "execution_count": 7,
   "id": "d426aed9",
   "metadata": {
    "execution": {
     "iopub.execute_input": "2024-12-03T04:16:18.674794Z",
     "iopub.status.busy": "2024-12-03T04:16:18.674297Z",
     "iopub.status.idle": "2024-12-03T04:16:18.681616Z",
     "shell.execute_reply": "2024-12-03T04:16:18.681032Z"
    },
    "papermill": {
     "duration": 0.014515,
     "end_time": "2024-12-03T04:16:18.682606",
     "exception": false,
     "start_time": "2024-12-03T04:16:18.668091",
     "status": "completed"
    },
    "tags": []
   },
   "outputs": [],
   "source": [
    "def export_markdown_summary(md: str, md_fname:str, directory: str):\n",
    "    \"\"\"Export MD document and associated relevant images\"\"\"\n",
    "    import os\n",
    "    import shutil\n",
    "    import re\n",
    "\n",
    "    if (os.path.exists(directory) and not os.path.isdir(directory)):\n",
    "        raise RuntimeError(f\"a non-directory file exists with name {directory:s}\")\n",
    "\n",
    "    if (not os.path.exists(directory)):\n",
    "        print(f\"creating directory {directory:s}\")\n",
    "        os.mkdir(directory)\n",
    "\n",
    "    fig_fnames = (re.compile(r'\\[Fig.*\\]\\((.*)\\)').findall(md) + \n",
    "                  re.compile(r'\\<img src=\"([^>\\s]*)\"[^>]*/>').findall(md))\n",
    "    print(\"found figures\", fig_fnames)\n",
    "    for fname in fig_fnames:\n",
    "        if 'http' in fname:\n",
    "            # No need to copy online figures\n",
    "            continue\n",
    "        if not os.path.exists(fname):\n",
    "            print(\"file not found\", fname)\n",
    "            continue\n",
    "        print(\"copying \", fname, \"to\", directory)\n",
    "        destdir = os.path.join(directory, os.path.dirname(fname))\n",
    "        destfname = os.path.join(destdir, os.path.basename(fname))\n",
    "        try:\n",
    "            os.makedirs(destdir)\n",
    "        except FileExistsError:\n",
    "            pass\n",
    "        shutil.copy(fname, destfname)\n",
    "    with open(os.path.join(directory, md_fname), 'w') as fout:\n",
    "        fout.write(md)\n",
    "    print(\"exported in \", os.path.join(directory, md_fname))\n",
    "    [print(\"    + \" + os.path.join(directory,fk)) for fk in fig_fnames]"
   ]
  },
  {
   "cell_type": "code",
   "execution_count": 8,
   "id": "014d04a4",
   "metadata": {
    "execution": {
     "iopub.execute_input": "2024-12-03T04:16:18.694672Z",
     "iopub.status.busy": "2024-12-03T04:16:18.694232Z",
     "iopub.status.idle": "2024-12-03T04:16:18.768623Z",
     "shell.execute_reply": "2024-12-03T04:16:18.767868Z"
    },
    "papermill": {
     "duration": 0.081571,
     "end_time": "2024-12-03T04:16:18.769772",
     "exception": false,
     "start_time": "2024-12-03T04:16:18.688201",
     "status": "completed"
    },
    "tags": []
   },
   "outputs": [
    {
     "name": "stdout",
     "output_type": "stream",
     "text": [
      "found figures ['tmp_2411.19126/./Images/Core_shift_VLBA.png', 'tmp_2411.19126/./Images/Turnover_frequency_profile.png', 'tmp_2411.19126/./Images/VLBA_SM_profiles_5_perc_3.png']\n",
      "copying  tmp_2411.19126/./Images/Core_shift_VLBA.png to _build/html/\n",
      "copying  tmp_2411.19126/./Images/Turnover_frequency_profile.png to _build/html/\n",
      "copying  tmp_2411.19126/./Images/VLBA_SM_profiles_5_perc_3.png to _build/html/\n",
      "exported in  _build/html/2411.19126.md\n",
      "    + _build/html/tmp_2411.19126/./Images/Core_shift_VLBA.png\n",
      "    + _build/html/tmp_2411.19126/./Images/Turnover_frequency_profile.png\n",
      "    + _build/html/tmp_2411.19126/./Images/VLBA_SM_profiles_5_perc_3.png\n",
      "found figures ['tmp_2411.19489/./Figure/Figure10/LM_Lsio_N_new_final.png', 'tmp_2411.19489/./Figure/Figure3/I08470-4243.moment04.png', 'tmp_2411.19489/./Figure/Figure3/I11332-6258.moment010.png', 'tmp_2411.19489/./Figure/Figure3/I11298-6155.moment09.png', 'tmp_2411.19489/./Figure/Figure3/I12326-6245.moment013.png', 'tmp_2411.19489/./Figure/Figure5/SiO_velocity_final_report2.png', 'tmp_2411.19489/./Figure/Figure5/SiO_Width_final_report2.png']\n",
      "copying  tmp_2411.19489/./Figure/Figure10/LM_Lsio_N_new_final.png to _build/html/\n",
      "copying  tmp_2411.19489/./Figure/Figure3/I08470-4243.moment04.png to _build/html/\n",
      "copying  tmp_2411.19489/./Figure/Figure3/I11332-6258.moment010.png to _build/html/\n",
      "copying  tmp_2411.19489/./Figure/Figure3/I11298-6155.moment09.png to _build/html/\n",
      "copying  tmp_2411.19489/./Figure/Figure3/I12326-6245.moment013.png to _build/html/\n",
      "copying  tmp_2411.19489/./Figure/Figure5/SiO_velocity_final_report2.png to _build/html/\n",
      "copying  tmp_2411.19489/./Figure/Figure5/SiO_Width_final_report2.png to _build/html/\n",
      "exported in  _build/html/2411.19489.md\n",
      "    + _build/html/tmp_2411.19489/./Figure/Figure10/LM_Lsio_N_new_final.png\n",
      "    + _build/html/tmp_2411.19489/./Figure/Figure3/I08470-4243.moment04.png\n",
      "    + _build/html/tmp_2411.19489/./Figure/Figure3/I11332-6258.moment010.png\n",
      "    + _build/html/tmp_2411.19489/./Figure/Figure3/I11298-6155.moment09.png\n",
      "    + _build/html/tmp_2411.19489/./Figure/Figure3/I12326-6245.moment013.png\n",
      "    + _build/html/tmp_2411.19489/./Figure/Figure5/SiO_velocity_final_report2.png\n",
      "    + _build/html/tmp_2411.19489/./Figure/Figure5/SiO_Width_final_report2.png\n",
      "found figures ['tmp_2411.19686/./Figures/midis_colordist_F356W-F560W_zcol.png', 'tmp_2411.19686/./Figures/hudf_mds_kron_err+hist.png', 'tmp_2411.19686/./Figures/exptime_map_2col.png']\n",
      "copying  tmp_2411.19686/./Figures/midis_colordist_F356W-F560W_zcol.png to _build/html/\n",
      "copying  tmp_2411.19686/./Figures/hudf_mds_kron_err+hist.png to _build/html/\n",
      "copying  tmp_2411.19686/./Figures/exptime_map_2col.png to _build/html/\n",
      "exported in  _build/html/2411.19686.md\n",
      "    + _build/html/tmp_2411.19686/./Figures/midis_colordist_F356W-F560W_zcol.png\n",
      "    + _build/html/tmp_2411.19686/./Figures/hudf_mds_kron_err+hist.png\n",
      "    + _build/html/tmp_2411.19686/./Figures/exptime_map_2col.png\n",
      "found figures ['tmp_2411.19916/./Figures/Fig_LC.png', 'tmp_2411.19916/./Figures/dust_edenhofer2023.png', 'tmp_2411.19916/./Figures/lightcurve_model.png']\n",
      "copying  tmp_2411.19916/./Figures/Fig_LC.png to _build/html/\n",
      "copying  tmp_2411.19916/./Figures/dust_edenhofer2023.png to _build/html/\n",
      "copying  tmp_2411.19916/./Figures/lightcurve_model.png to _build/html/\n",
      "exported in  _build/html/2411.19916.md\n",
      "    + _build/html/tmp_2411.19916/./Figures/Fig_LC.png\n",
      "    + _build/html/tmp_2411.19916/./Figures/dust_edenhofer2023.png\n",
      "    + _build/html/tmp_2411.19916/./Figures/lightcurve_model.png\n",
      "found figures ['tmp_2411.19945/./fig/profile/profile_halo_12p0_agnxrb_cgm.png', 'tmp_2411.19945/./fig/profile/profile_halo_12p5_agnxrb_cgm.png', 'tmp_2411.19945/./fig/profile/profile_halo_13p0_agnxrb_cgm.png', 'tmp_2411.19945/./fig/lxm/lx_CEN_halo_cgm_sfqu_r500.png', 'tmp_2411.19945/./fig/discuss/SHMR_compare_sf.png', 'tmp_2411.19945/./fig/discuss/SHMR_compare_qu.png', 'tmp_2411.19945/./fig/cat/SFQU_MSMH.png']\n",
      "copying  tmp_2411.19945/./fig/profile/profile_halo_12p0_agnxrb_cgm.png to _build/html/\n",
      "copying  tmp_2411.19945/./fig/profile/profile_halo_12p5_agnxrb_cgm.png to _build/html/\n",
      "copying  tmp_2411.19945/./fig/profile/profile_halo_13p0_agnxrb_cgm.png to _build/html/\n",
      "copying  tmp_2411.19945/./fig/lxm/lx_CEN_halo_cgm_sfqu_r500.png to _build/html/\n",
      "copying  tmp_2411.19945/./fig/discuss/SHMR_compare_sf.png to _build/html/\n",
      "copying  tmp_2411.19945/./fig/discuss/SHMR_compare_qu.png to _build/html/\n",
      "copying  tmp_2411.19945/./fig/cat/SFQU_MSMH.png to _build/html/\n",
      "exported in  _build/html/2411.19945.md\n",
      "    + _build/html/tmp_2411.19945/./fig/profile/profile_halo_12p0_agnxrb_cgm.png\n",
      "    + _build/html/tmp_2411.19945/./fig/profile/profile_halo_12p5_agnxrb_cgm.png\n",
      "    + _build/html/tmp_2411.19945/./fig/profile/profile_halo_13p0_agnxrb_cgm.png\n",
      "    + _build/html/tmp_2411.19945/./fig/lxm/lx_CEN_halo_cgm_sfqu_r500.png\n",
      "    + _build/html/tmp_2411.19945/./fig/discuss/SHMR_compare_sf.png\n",
      "    + _build/html/tmp_2411.19945/./fig/discuss/SHMR_compare_qu.png\n",
      "    + _build/html/tmp_2411.19945/./fig/cat/SFQU_MSMH.png\n"
     ]
    }
   ],
   "source": [
    "for paper_id, md in documents:\n",
    "    export_markdown_summary(md, f\"{paper_id:s}.md\", '_build/html/')"
   ]
  },
  {
   "cell_type": "markdown",
   "id": "f087a0a7",
   "metadata": {
    "papermill": {
     "duration": 0.005536,
     "end_time": "2024-12-03T04:16:18.781213",
     "exception": false,
     "start_time": "2024-12-03T04:16:18.775677",
     "status": "completed"
    },
    "tags": []
   },
   "source": [
    "## Display the papers\n",
    "\n",
    "Not necessary but allows for a quick check."
   ]
  },
  {
   "cell_type": "code",
   "execution_count": 9,
   "id": "fd25f625",
   "metadata": {
    "execution": {
     "iopub.execute_input": "2024-12-03T04:16:18.793913Z",
     "iopub.status.busy": "2024-12-03T04:16:18.793190Z",
     "iopub.status.idle": "2024-12-03T04:16:18.803454Z",
     "shell.execute_reply": "2024-12-03T04:16:18.802754Z"
    },
    "papermill": {
     "duration": 0.01781,
     "end_time": "2024-12-03T04:16:18.804567",
     "exception": false,
     "start_time": "2024-12-03T04:16:18.786757",
     "status": "completed"
    },
    "scrolled": false,
    "tags": []
   },
   "outputs": [
    {
     "data": {
      "text/markdown": [
       "<div class=\"macros\" style=\"visibility:hidden;\">\n",
       "$\\newcommand{\\ensuremath}{}$\n",
       "$\\newcommand{\\xspace}{}$\n",
       "$\\newcommand{\\object}[1]{\\texttt{#1}}$\n",
       "$\\newcommand{\\farcs}{{.}''}$\n",
       "$\\newcommand{\\farcm}{{.}'}$\n",
       "$\\newcommand{\\arcsec}{''}$\n",
       "$\\newcommand{\\arcmin}{'}$\n",
       "$\\newcommand{\\ion}[2]{#1#2}$\n",
       "$\\newcommand{\\textsc}[1]{\\textrm{#1}}$\n",
       "$\\newcommand{\\hl}[1]{\\textrm{#1}}$\n",
       "$\\newcommand{\\footnote}[1]{}$\n",
       "$\\newcommand{\\jr}[1]{\\textcolor{orange}{JR: #1}}$\n",
       "$\\newcommand{\\gm}{\\color{blue}}$\n",
       "$\\newcommand{\\mk}[1]{\\textcolor{violet}{MK: #1}}$\n",
       "$\\newcommand$</div>\n",
       "\n",
       "\n",
       "\n",
       "<div id=\"title\">\n",
       "\n",
       "# Spectral and magnetic properties of the jet base in NGC 315\n",
       "\n",
       "</div>\n",
       "<div id=\"comments\">\n",
       "\n",
       "[![arXiv](https://img.shields.io/badge/arXiv-2411.19126-b31b1b.svg)](https://arxiv.org/abs/2411.19126)<mark>Appeared on: 2024-12-03</mark> -  _16 pages, 19 figures, accepted for publication in A&A_\n",
       "\n",
       "</div>\n",
       "<div id=\"authors\">\n",
       "\n",
       "L. Ricci, et al. -- incl., <mark>G. Mattia</mark>\n",
       "\n",
       "</div>\n",
       "<div id=\"abstract\">\n",
       "\n",
       "**Abstract:**            The dynamic of relativistic jets in the inner parsec regions is deeply affected by the nature of the magnetic fields. The level of magnetization of the plasma, as well as the geometry of these fields on compact scales, have not yet been fully constrained. In this paper we employ multi-frequency and multi-epoch very long baseline interferometry observations of the nearby radio galaxy NGC 315. We aim to derive insights into the magnetic field properties on sub-parsec and parsec scales by examining observational signatures such as the spectral index, synchrotron turnover frequency, and brightness temperature profiles. This analysis is performed by considering the properties of the jet acceleration and collimation zone, which can be probed thanks to the source vicinity, as well as the inner part of the jet conical region. We observe remarkably steep values for the spectral index on sub-parsec scales ($\\alpha \\sim -2$, $S_\\nu \\propto \\nu^\\alpha$) which flatten around $\\alpha \\sim -0.8$ on parsec scales. We suggest that the observed steep values may result from particles being accelerated via diffusive shock acceleration mechanisms in magnetized plasma and subsequently experiencing cooling through synchrotron losses. The brightness temperature of the 43 GHz cores indicates a dominance of the magnetic energy at the jet base, while the cores at progressively lower frequencies reveal a gradual transition towards equipartition. Based on the spectral index and brightness temperature along the incoming jet, and by employing theoretical models, we derive that the magnetic field strength has a close-to-linear dependence with distance going from parsec scales up to the jet apex. Overall, our findings are consistent with a toroidal-dominated magnetic field on all the analyzed scales.         \n",
       "\n",
       "</div>\n",
       "\n",
       "<div id=\"div_fig1\">\n",
       "\n",
       "<img src=\"tmp_2411.19126/./Images/Core_shift_VLBA.png\" alt=\"Fig2\" width=\"100%\"/>\n",
       "\n",
       "**Figure 2. -** Core position as a function of frequency for the two different data sets: i) the multi-frequency VLBA data set (orange points); ii) the multi-frequency and multi-epoch data set presented in [Boccardi, Perucho and Casadio (2021)]()(blue points). The blue line represents the best-fit values presented in [Boccardi, Perucho and Casadio (2021)](), the orange line traces the best-fit performed in this paper by employing all the data, and the purple line highlights the best-fit curve obtained using only the data points at 8, 15, 22, and 43 GHz. (*fig:core_shift*)\n",
       "\n",
       "</div>\n",
       "<div id=\"div_fig2\">\n",
       "\n",
       "<img src=\"tmp_2411.19126/./Images/Turnover_frequency_profile.png\" alt=\"Fig3\" width=\"100%\"/>\n",
       "\n",
       "**Figure 3. -** Turnover frequency along the ridgeline as a function of distance from the 43 GHz core. The multiple data points at the same distance are from the different possible core-shift configurations. The orange points represent the upper boundary, while the green ones the lower boundary. The turnover frequency decreases from $10   \\mathrm{GHz} \\lesssim \\nu_\\mathrm{br} \\lesssim 35   \\mathrm{GHz}$ in the 43 GHz core, down to $\\sim 6   \\mathrm{GHz}$ at $\\sim 0.7   \\mathrm{pc}$. (*fig:turnover_evolution*)\n",
       "\n",
       "</div>\n",
       "<div id=\"div_fig3\">\n",
       "\n",
       "<img src=\"tmp_2411.19126/./Images/VLBA_SM_profiles_5_perc_3.png\" alt=\"Fig7\" width=\"100%\"/>\n",
       "\n",
       "**Figure 7. -** Average spectral index as a function of distance from the 43 GHz core for different pairs of frequencies. In addition to the VLBA data set here presented, we re-present for comparison the 22-43 GHz spectral index values for the two epochs presented by [Ricci, Boccardi and Nokhrina (2022)](). At high frequencies, remarkably steep spectral index values down to $\\alpha \\sim -2$ are observed within one parsec from the core, corresponding to ${\\sim}10^4   R_\\mathrm{S}$. Downstream, a convergence towards flatter values $\\alpha \\sim -0.8$ is observed at all frequencies. The black vertical lines highlight the jet break point, as proposed in  ([Boccardi, Perucho and Casadio 2021]()) , while the horizontal dashed line is set at $\\alpha = -1$ as reference. (*fig:alpha_profiles*)\n",
       "\n",
       "</div><div id=\"qrcode\"><img src=https://api.qrserver.com/v1/create-qr-code/?size=100x100&data=\"https://arxiv.org/abs/2411.19126\"></div>"
      ],
      "text/plain": [
       "<IPython.core.display.Markdown object>"
      ]
     },
     "metadata": {},
     "output_type": "display_data"
    },
    {
     "data": {
      "text/markdown": [
       "<div class=\"macros\" style=\"visibility:hidden;\">\n",
       "$\\newcommand{\\ensuremath}{}$\n",
       "$\\newcommand{\\xspace}{}$\n",
       "$\\newcommand{\\object}[1]{\\texttt{#1}}$\n",
       "$\\newcommand{\\farcs}{{.}''}$\n",
       "$\\newcommand{\\farcm}{{.}'}$\n",
       "$\\newcommand{\\arcsec}{''}$\n",
       "$\\newcommand{\\arcmin}{'}$\n",
       "$\\newcommand{\\ion}[2]{#1#2}$\n",
       "$\\newcommand{\\textsc}[1]{\\textrm{#1}}$\n",
       "$\\newcommand{\\hl}[1]{\\textrm{#1}}$\n",
       "$\\newcommand{\\footnote}[1]{}$\n",
       "$\\newcommand$\n",
       "$\\newcommand$\n",
       "$\\newcommand$\n",
       "$\\newcommand$\n",
       "$\\newcommand$\n",
       "$\\newcommand{\\thebibliography}{\\DeclareRobustCommand{\\VAN}[3]{##3}\\VANthebibliography}$</div>\n",
       "\n",
       "\n",
       "\n",
       "<div id=\"title\">\n",
       "\n",
       "# ATOMS: ALMA Three-millimeter Observations of Massive Star-forming regions – $\\uppercase$$\\expandafter{\\romannumeral19}$. The origin of SiO emission\n",
       "\n",
       "</div>\n",
       "<div id=\"comments\">\n",
       "\n",
       "[![arXiv](https://img.shields.io/badge/arXiv-2411.19489-b31b1b.svg)](https://arxiv.org/abs/2411.19489)<mark>Appeared on: 2024-12-03</mark> -  _23 pages, 14 figures_\n",
       "\n",
       "</div>\n",
       "<div id=\"authors\">\n",
       "\n",
       "R. Liu, et al. -- incl., <mark>S. Li</mark>\n",
       "\n",
       "</div>\n",
       "<div id=\"abstract\">\n",
       "\n",
       "**Abstract:** The production of silicon monoxide (SiO) can be considered as a fingerprint of shock interaction.In this work, we use high-sensitivity observations of the SiO (2-1) and H $^{13}$ CO $^{+}$ (1-0) emission to investigate the broad and narrow SiO emission toward 146 massive star-forming regions in the ATOMS survey. We detected SiO emission in 136 regions and distinguished broad and narrow components across the extension of 118 sources (including 58 UC H ii regions) with an average angular resolution of 2.5 $^{\\prime}^{\\prime}$ .The derived SiO luminosity ( $L_\\textup{SiO}$ ) across the whole sample shows that the majority of $L_\\textup{SiO}$ (above 66 $\\%$ ) can be attributed to broad SiO, indicating its association with strong outflows.The comparison of the ALMA SiO images with the filamentary skeletons identified from H $^{13}$ CO $^{+}$ and in the infrared data (at 4.5, 8, and 24 $\\upmu$ m), further confirms that most SiO emission originates from outflows. However, note that for nine sources in our sample, the observed SiO emission may be generated by expanding UC H ii regions. There is a moderate positive correlation between the bolometric luminosity ( $L_\\textup{bol}$ ) and $L_\\textup{SiO}$ for both components (narrow and broad). The UC H ii sources show a weaker positive correlation between $L_\\textup{bol}$ and $L_\\textup{SiO}$ and higher $L_\\textup{SiO}$ compared to the sources without UC H ii regions. These results imply that the SiO emission from UC H ii sources might be affected by UV-photochemistry induced by UC H ii regions.\n",
       "\n",
       "</div>\n",
       "\n",
       "<div id=\"div_fig1\">\n",
       "\n",
       "<img src=\"tmp_2411.19489/./Figure/Figure10/LM_Lsio_N_new_final.png\" alt=\"Fig10\" width=\"100%\"/>\n",
       "\n",
       "**Figure 10. -** _ Upper panels_: The SiO luminosity ($L_\\textup{sio}$) versus  bolometric luminosity ($L_\\textup{bol}$).\n",
       "The filled and empty gray stars present broad and narrow SiO components in _A groups_ without UC Hii regions, and the filled and empty gray circles depict broad and narrow SiO\n",
       "components in _B groups_ without UC Hii regions.\n",
       "The filled and empty red stars show broad and narrow SiO components in _A groups_ hosting UC Hii regions, while the filled and empty red circles display broad and narrow SiO components in _B groups_ with UC Hii regions.\n",
       "The filled green rectangles show the low-mass stars  (2022MNRAS.512.5214D, [Jiménez-Serra, et. al 2011](https://ui.adsabs.harvard.edu/abs/2011ApJ...739...80J), [Spezzano, et. al 2020](https://ui.adsabs.harvard.edu/abs/2020A&A...640A..74S), [Santiago-García, et. al 2009](https://ui.adsabs.harvard.edu/abs/2009A&A...495..169S), [ and Lee 2020](https://ui.adsabs.harvard.edu/abs/2020A&ARv..28....1L)) .\n",
       "In the upper left panel, the gray line shows a linear fit of log $(L_\\textrm{sio} / L_{\\sun})$$= (0.64\\pm0.07)$ log $(L_\\textrm{bol} / L_{\\sun})$ - $6.98\\pm0.32$ obtained for sources without UC Hii regions, while the red line shows the linear fit log $(L_\\textrm{sio} / L_{\\sun})$$ = (0.56\\pm0.11)$ log $(L_\\textrm{bol} / L_{\\sun})$ - $6.81\\pm0.58$ obtained for sources hosting UC Hii sources.\n",
       "In the upper right panel, the gray line displays the linear fit\n",
       "log $(L_\\textrm{sio} / L_{\\sun})$$ = (0.65\\pm0.08)$ log $(L_\\textrm{bol} / L_{\\sun})$ - $7.30\\pm0.33$ derived for sources without UC Hii regions, while the red line is used to show the linear fit\n",
       "log $(L_\\textrm{sio} / L_{\\sun})$$ = (0.40\\pm0.13)$ log $(L_\\textrm{bol} / L_{\\sun})$ - $6.31\\pm0.68$ inferred for sources hosting UC Hii regions.\n",
       "_ Lower panels_: $L_\\textup{sio}$ vs. $L_\\textup{bol}/M$. No apparent correlation is seen either for the broad or for the narrow components. The symbols are the same as in the upper panels. (*fig10*)\n",
       "\n",
       "</div>\n",
       "<div id=\"div_fig2\">\n",
       "\n",
       "<img src=\"tmp_2411.19489/./Figure/Figure3/I08470-4243.moment04.png\" alt=\"Fig4.1\" width=\"25%\"/><img src=\"tmp_2411.19489/./Figure/Figure3/I11332-6258.moment010.png\" alt=\"Fig4.2\" width=\"25%\"/><img src=\"tmp_2411.19489/./Figure/Figure3/I11298-6155.moment09.png\" alt=\"Fig4.3\" width=\"25%\"/><img src=\"tmp_2411.19489/./Figure/Figure3/I12326-6245.moment013.png\" alt=\"Fig4.4\" width=\"25%\"/>\n",
       "\n",
       "**Figure 4. -** Four representative sources imaged with ALMA within the ATOMS program. The background corresponds to the SiO (2-1) integrated intensity maps. The black contours show the 3 mm continuum emission detected with ALMA, and contours are from 5$\\sigma$ to the peak values in steps of 10$\\sigma$.\n",
       "The bold gray lines represent the filament skeletons identified using H$^{13}$CO$^+$ as reported by zhou2022atoms. The green dashed rectangle is the area of the SiO emission maps where the SiO line profiles have been decomposed into different velocity components. The orange and blue rectangles, with the broadest and narrowest SiO line widths, respectively, indicate the locations where SiO and H$^{13}$CO$^+$ have been extracted.\n",
       "The field of view (FOV) is 72$^{\\prime}^{\\prime}$ corresponding with the FOV of the ALMA observations. All images have been primary-beam corrected. The source name and integrated velocity ranges (in km s$^{-1}$) are shown on the upper left and right corners, respectively. The beam size is reported in the lower left corner. The same images are provided for all sources within the supplementary material. (*fig3*)\n",
       "\n",
       "</div>\n",
       "<div id=\"div_fig3\">\n",
       "\n",
       "<img src=\"tmp_2411.19489/./Figure/Figure5/SiO_velocity_final_report2.png\" alt=\"Fig6.1\" width=\"50%\"/><img src=\"tmp_2411.19489/./Figure/Figure5/SiO_Width_final_report2.png\" alt=\"Fig6.2\" width=\"50%\"/>\n",
       "\n",
       "**Figure 6. -** The histogram shows the velocity offset compared to the systemic velocity and line width distribution of the broad and narrow components of the SiO emission for the entire sample. The open blue histograms correspond to the sources without outflow activity, and the orange-filled histograms represent the sources exhibiting outflow activity. The outflow sources can be found in Table \\ref{tab:TableA1}. (*fig5*)\n",
       "\n",
       "</div><div id=\"qrcode\"><img src=https://api.qrserver.com/v1/create-qr-code/?size=100x100&data=\"https://arxiv.org/abs/2411.19489\"></div>"
      ],
      "text/plain": [
       "<IPython.core.display.Markdown object>"
      ]
     },
     "metadata": {},
     "output_type": "display_data"
    },
    {
     "data": {
      "text/markdown": [
       "<div class=\"macros\" style=\"visibility:hidden;\">\n",
       "$\\newcommand{\\ensuremath}{}$\n",
       "$\\newcommand{\\xspace}{}$\n",
       "$\\newcommand{\\object}[1]{\\texttt{#1}}$\n",
       "$\\newcommand{\\farcs}{{.}''}$\n",
       "$\\newcommand{\\farcm}{{.}'}$\n",
       "$\\newcommand{\\arcsec}{''}$\n",
       "$\\newcommand{\\arcmin}{'}$\n",
       "$\\newcommand{\\ion}[2]{#1#2}$\n",
       "$\\newcommand{\\textsc}[1]{\\textrm{#1}}$\n",
       "$\\newcommand{\\hl}[1]{\\textrm{#1}}$\n",
       "$\\newcommand{\\footnote}[1]{}$\n",
       "$\\newcommand{\\mum}{{\\mum}}$\n",
       "$\\newcommand{\\mjy}{{\\muJy}}$\n",
       "$\\newcommand{\\lya}{{Ly\\alpha}}$\n",
       "$\\newcommand{\\ha}{H\\alpha}$\n",
       "$\\newcommand{\\pa}{Pa \\alpha}$\n",
       "$\\newcommand{\\brb}{Br\\beta}$\n",
       "$\\newcommand{\\brg}{Br\\gamma}$\n",
       "$\\newcommand{\\brd}{Br\\delta}$\n",
       "$\\newcommand{\\hb}{H\\beta}$\n",
       "$\\newcommand{\\hg}{H\\gamma}$\n",
       "$\\newcommand{\\hd}{H\\delta}$\n",
       "$\\newcommand{\\oii}{[O {\\sc ii}]}$\n",
       "$\\newcommand{\\oiii}{[O {\\sc iii}]}$\n",
       "$\\newcommand{\\nii}{[N {\\sc ii}]}$\n",
       "$\\newcommand{\\hi}{H {\\sc i}}$\n",
       "$\\newcommand{\\hii}{H {\\sc ii}}$\n",
       "$\\newcommand{\\zsun}{Z_\\odot}$\n",
       "$\\newcommand{\\msun}{M_\\odot}$\n",
       "$\\newcommand{\\msunyr}{M_\\odot/yr}$\n",
       "$\\newcommand{\\sfrkpc}{M_\\odot/yr/kpc^2}$\n",
       "$\\newcommand{\\lfuv}{L_{\\rm FUV}}$\n",
       "$\\newcommand{\\lsun}{L_\\odot}$\n",
       "$\\newcommand{\\bull}{\\bullet}$\n",
       "$\\newcommand{\\fesc}{f_{esc, Ly\\alpha}}$\n",
       "$\\newcommand{\\fesclyc}{f_{esc}}$\n",
       "$\\newcommand{\\hiz}{high-z}$\n",
       "$\\newcommand{\\z}{z}$\n",
       "$\\newcommand$\n",
       "$\\newcommand$\n",
       "$\\newcommand$\n",
       "$\\newcommand$\n",
       "$\\newcommand$\n",
       "$\\newcommand$\n",
       "$\\newcommand$\n",
       "$\\newcommand$\n",
       "$\\newcommand$\n",
       "$\\newcommand$\n",
       "$\\newcommand{\\ergc}{{erg/s/cm^2/Å }}$\n",
       "$\\newcommand{\\ergl}{{erg/s/cm^2}}$\n",
       "$\\newcommand{\\htwo}{{H_2}}$\n",
       "$\\newcommand{\\fet}{{[Fe{\\sc ii}]}}$\n",
       "$\\newcommand{\\flam}{{f_{\\lambda}}}$\n",
       "$\\newcommand{\\lamrest}{\\lambda_{\\rm rest}}$\n",
       "$\\newcommand{\\lamobs}{\\lambda_{\\rm obs}}$</div>\n",
       "\n",
       "\n",
       "\n",
       "<div id=\"title\">\n",
       "\n",
       "#  MIRI Deep Imaging Survey (MIDIS) of the Hubble Ultra Deep Field$\\thanks{Based on results from the MIRI European Consortium Guaranteed Time Observations, program 1283}$ : Project description and early results for the galaxy population detected at 5.6 $\\mum$ \n",
       "\n",
       "</div>\n",
       "<div id=\"comments\">\n",
       "\n",
       "[![arXiv](https://img.shields.io/badge/arXiv-2411.19686-b31b1b.svg)](https://arxiv.org/abs/2411.19686)<mark>Appeared on: 2024-12-03</mark> -  _submitted to A&A on July 30, 2024_\n",
       "\n",
       "</div>\n",
       "<div id=\"authors\">\n",
       "\n",
       "G. Östlin, et al. -- incl., <mark>F. Walter</mark>\n",
       "\n",
       "</div>\n",
       "<div id=\"abstract\">\n",
       "\n",
       "**Abstract:** The recently launched James Webb Space Telescope (JWST) is opening new observing windows on the distant universe. Among JWST's instruments, the Mid Infrared Instrument (MIRI) offers the unique capability of imaging observations at wavelengths $\\lambda > 5\\mu$ m. This enables unique access to the rest frame near infra-red (NIR, $\\lambda \\ge 1$ $\\mum$ ) emission from galaxies at redshifts $z>4$ and the visual ( $\\lambda \\gtrsim 5000$ Å) rest frame for $z>9$ . We here report on the guaranteed time observations (GTO) from the MIRI European Consortium, of the Hubble Ultra Deep Field (HUDF), forming the MIRI Deep Imaging Survey (MIDIS), consisting of an on source integration time of $\\sim41$ hours in the MIRI/F560W (5.6 $\\mu$ m) filter.   To our knowledge, this constitutes the longest single filter exposure obtained with JWST of an extragalactic field as yet. The HUDF is one of the most observed  extragalactic fields, with extensive multi-wavelength coverage, where (before  JWST) galaxies up to $z\\sim 7$ have been  confirmed, and at $z>10$ suggested, from HST photometry. We aim to characterise the galaxy population in HUDF at 5.6 $\\mu$ m, enabling studies such as: the rest frame NIR morphologies for galaxies at $z\\lesssim4.6$ ,  probing mature stellar populations and emission lines  in $z>6$ sources, intrinsically red and dusty galaxies, and active galactic nuclei (AGN) and their host galaxies at intermediate redshifts. We have reduced the MIRI data using the $*JWST*$ pipeline, augmented by in-house custom scripts. We measure the noise characteristics of the resulting image. Galaxy photometry has been obtained, and photometric redshifts have been estimated for sources with available multi wavelength photometry (and compared to spectroscopic redshifts when available). Over the deepest part of our image  the 5 $\\sigma$ point source limit is 28.65 mag AB (12.6 nJy), $\\sim0.35$ mag better than predicted by the JWST exposure time calculator.   We find $\\sim2500$ sources, the overwhelming majority of which are distant galaxies, but note that spurious sources likely remain at faint magnitudes due to imperfect cosmic ray rejection in the JWST pipeline.   More than 500 galaxies with available spectroscopic redshifts, up to $z\\approx11$ have been identified, the majority of which are at $z<6$ .   More than 1000 galaxies have reliable photometric redshift estimates, of which $\\sim25$ are  at $6<z<12$ .   The point spread function in the F560W filter has a FWHM of $\\approx0.2\\arcsec$ (corresponding to $1.4$ kpc at $z=4$ ), allowing the near infrared rest frame   morphologies  for the first time to be resolved up to $z\\sim4$ . As expected, the  light distributions are smoother than at shorter wavelength, and trace the stellar mass distributions.    Moreover, $>100$ objects with very red  NIRCam vs MIRI (3.6--5.6 $\\mum$ $>1$ ) colours have been found, indicating dusty or old stellar populations at high redshifts. We conclude that MIDIS  surpasses pre-flight expectations and that deep MIRI imaging has a great potential for characterizing the galaxy population from cosmic noon to dawn.\n",
       "\n",
       "</div>\n",
       "\n",
       "<div id=\"div_fig1\">\n",
       "\n",
       "<img src=\"tmp_2411.19686/./Figures/midis_colordist_F356W-F560W_zcol.png\" alt=\"Fig14\" width=\"100%\"/>\n",
       "\n",
       "**Figure 14. -** F560W magnitude vs NIRCAM/F356W--F560W color. Only sources with a F560W (F356W) magnitude uncertainty of 0.2 (0.5) or lower are included. The red circle indicates a confirmed MERO currently under investigation (Jermann et al. in prep). The colors indicate photometric redshift of the sources (gray points do not have a valid redshift estimate). (*color-mag*)\n",
       "\n",
       "</div>\n",
       "<div id=\"div_fig2\">\n",
       "\n",
       "<img src=\"tmp_2411.19686/./Figures/hudf_mds_kron_err+hist.png\" alt=\"Fig4\" width=\"100%\"/>\n",
       "\n",
       "**Figure 4. -** \n",
       "   Top: F560W number counts for Kron magnitudes.\n",
       "   Bottom: F560W Kron magnitudes vs photometric uncertainty. The derived $5\\sigma$ point source limiting magnitude is indicated by the dashed vertical line.  (*f560err+hist*)\n",
       "\n",
       "</div>\n",
       "<div id=\"div_fig3\">\n",
       "\n",
       "<img src=\"tmp_2411.19686/./Figures/exptime_map_2col.png\" alt=\"Fig9\" width=\"100%\"/>\n",
       "\n",
       "**Figure 9. -** Left: The F560W image with linear intensity scaling. Colored patches show regions where we have estimated the noise (see Table \\ref{depthtable}) with different depths: the deepest area (A), where obs 1-2, 4-6 overlap (yellow). The deep area (B), where obs 4 does not overlap fully with the others (green). Outside these areas, there is coverage at less depth, notably the NE extension which only has observations from obs 4. The area with at least 7h of combined integration is denoted C (purple). The orientation is in the detector plane (x,y). Right: Exposure time map. (*image-exposuremap*)\n",
       "\n",
       "</div><div id=\"qrcode\"><img src=https://api.qrserver.com/v1/create-qr-code/?size=100x100&data=\"https://arxiv.org/abs/2411.19686\"></div>"
      ],
      "text/plain": [
       "<IPython.core.display.Markdown object>"
      ]
     },
     "metadata": {},
     "output_type": "display_data"
    },
    {
     "data": {
      "text/markdown": [
       "<div class=\"macros\" style=\"visibility:hidden;\">\n",
       "$\\newcommand{\\ensuremath}{}$\n",
       "$\\newcommand{\\xspace}{}$\n",
       "$\\newcommand{\\object}[1]{\\texttt{#1}}$\n",
       "$\\newcommand{\\farcs}{{.}''}$\n",
       "$\\newcommand{\\farcm}{{.}'}$\n",
       "$\\newcommand{\\arcsec}{''}$\n",
       "$\\newcommand{\\arcmin}{'}$\n",
       "$\\newcommand{\\ion}[2]{#1#2}$\n",
       "$\\newcommand{\\textsc}[1]{\\textrm{#1}}$\n",
       "$\\newcommand{\\hl}[1]{\\textrm{#1}}$\n",
       "$\\newcommand{\\footnote}[1]{}$\n",
       "$\\newcommand{\\bibinfo}[2]{#2}$\n",
       "$\\newcommand{\\eprint}[2][]{\\url{#2}}$\n",
       "$\\newcommand{\\bibinfo}[2]{#2}$\n",
       "$\\newcommand{\\eprint}[2][]{\\url{#2}}$\n",
       "$\\newcommand{\\bibinfo}[2]{#2}$\n",
       "$\\newcommand{\\eprint}[2][]{\\url{#2}}$\n",
       "$\\newcommand{\\mn}{{Mon. Not. R. Astron. Soc.}}$\n",
       "$\\newcommand{\\mnras}{\\mn}$\n",
       "$\\newcommand{\\aj}{{\"Astron. J.\"}}$\n",
       "$\\newcommand{\\apj}{{Astrophys. J.}}$\n",
       "$\\newcommand{\\apjl}{{Astrophys. J. Lett.}}$\n",
       "$\\newcommand{\\apjs}{{Astrophys. J. Supp.}}$\n",
       "$\\newcommand{\\apss}{{Astrophys. and Space Sc.}}$\n",
       "$\\newcommand{\\aaps}{{Astron. Astrophys. Supp.}}$\n",
       "$\\newcommand{\\aap}{{Astron. Astrophys.}}$\n",
       "$\\newcommand{\\nat}{{Nature}}$\n",
       "$\\newcommand{\\pasj}{{PASJ}}$\n",
       "$\\newcommand{\\prd}{{Phys. Rev. D}}$\n",
       "$\\newcommand{\\prl}{{Phys. Rev. Lett.}}$\n",
       "$\\newcommand{\\pasp}{{Pub. Ast. Soc. Pac.}}$\n",
       "$\\newcommand{\\procspie}{Proc. SPIE}$\n",
       "$\\newcommand{\\ssr}{Space Science Reviews}$\n",
       "$\\newcommand{\\araa}{Annual Review of Astronomy and Astrophysics}$\n",
       "$\\newcommand{\\thetable}{\\arabic{table}}$\n",
       "$\\newcommand{\\arraystretch}{1.2}$\n",
       "$\\newcommand\\url{#1}$\n",
       "$\\newcommand{\\urlprefix}{URL }$\n",
       "$\\newcommand\\url{#1}$\n",
       "$\\newcommand{\\urlprefix}{URL }$\n",
       "$\\newcommand\\url{#1}$\n",
       "$\\newcommand{\\urlprefix}{URL }$</div>\n",
       "\n",
       "\n",
       "\n",
       "<div id=\"title\">\n",
       "\n",
       "# A gravitational wave detectable candidate Type Ia supernova progenitor\n",
       "\n",
       "</div>\n",
       "<div id=\"comments\">\n",
       "\n",
       "[![arXiv](https://img.shields.io/badge/arXiv-2411.19916-b31b1b.svg)](https://arxiv.org/abs/2411.19916)<mark>Appeared on: 2024-12-03</mark> -  _40 pages, 7 figures, 2 tables_\n",
       "\n",
       "</div>\n",
       "<div id=\"authors\">\n",
       "\n",
       "E. T. Chickles, et al. -- incl., <mark>K. El-Badry</mark>\n",
       "\n",
       "</div>\n",
       "<div id=\"abstract\">\n",
       "\n",
       "**Abstract:** Type Ia supernovae, critical for studying cosmic expansion \\citemain{1998AJ....116.1009R} $^,$ \\citemain{1998ApJ...507...46S} , arise from thermonuclear explosions of white dwarfs \\citemain{1960ApJ...132..565H} , but their precise progenitor pathways remain unclear. Growing evidence supports the \"double-degenerate\" scenario, where two white dwarfs interact \\citemain{1984ApJS...54..335I} $^,$ \\citemain{1984ApJ...277..355W} . The absence of other companion types capable of explaining the observed Ia rate \\citemain{1984ApJ...277..355W} , along with observations of hyper-velocity white dwarfs interpreted as surviving companions of such systems \\citemain{2018ApJ...865...15S} $^,$ \\citemain{2023OJAp....6E..28E} provide compelling evidence in favor of this scenario. Upcoming millihertz gravitational wave observatories like the Laser Interferometer Space Antenna (LISA) \\citemain{2017arXiv170200786A} are expected to detect thousands of double-degenerate systems, though the most compact known candidate Ia progenitors produce only marginally detectable gravitational wave signals. Here, we report observations of ATLAS J1138-5139, a binary white dwarf system with an orbital period of just 28 minutes. Our analysis reveals a 1 solar mass carbon-oxygen white dwarf accreting from a helium-core white dwarf. Given its mass, the accreting carbon-oxygen white dwarf is poised to trigger a typical-luminosity Type Ia supernova within a few million years, or to evolve into a stably mass-transferring AM CVn system. sudo apt install texlive-font-utilsATLAS J1138-5139 provides a rare opportunity to calibrate binary evolution models by directly comparing observed orbital parameters and mass transfer rates closer to merger than any previously identified candidate Type Ia progenitor. Its compact orbit ensures detectability by LISA, demonstrating the potential of millihertz gravitational wave observatories to reveal a population of Type Ia progenitors on a Galactic scale, paving the way for multi-messenger studies offering insights into the origins of these cosmologically significant explosions.\n",
       "\n",
       "</div>\n",
       "\n",
       "<div id=\"div_fig1\">\n",
       "\n",
       "<img src=\"tmp_2411.19916/./Figures/Fig_LC.png\" alt=\"Fig1\" width=\"100%\"/>\n",
       "\n",
       "**Figure 1. -** **Light curve of ATLAS J1138-5139.****a)** The binned $u_sg_sr_s$ ULTRACAM light curve of ATLAS J1138-5139, phase-folded on the 27.68-min orbital period. The light curve exhibits sinusoidal variations, with maxima at phases $0.25$ and $0.75$, due to an ellipsoidally deformed secondary star. At phase $0.75$, a heated accretion feature contributes additional flux, resulting in the appearance of unequal maxima. **b)** The asymmetric primary eclipse in the *ugr* ULTRACAM light curve, indicating the presence of a luminous hot spot on the outer edge of an accretion disk surrounding the primary star. **c)** The binned and phase-folded light curve of the object from ATLAS. We were able to discover the object because of its periodic behavior. **d)** The binned and phase-folded TESS light curve. (*fig:LC*)\n",
       "\n",
       "</div>\n",
       "<div id=\"div_fig2\">\n",
       "\n",
       "<img src=\"tmp_2411.19916/./Figures/dust_edenhofer2023.png\" alt=\"Fig5\" width=\"100%\"/>\n",
       "\n",
       "**Figure 5. -** Interstellar dust extinction maps illustrating the extinction along the line of sight to ATLAS J1138-5139 at three distances. The first column corresponds to the system's observed distance $d=557$ pc, the second column shows the extinction at $d-\\sigma_{d,\\text{lower}}=541$ pc, and the third column represents $d+\\sigma_{d,\\text{upper}}=576$ pc, where $\\sigma_d$ is the uncertainty in the distance measurement. The location of the system is marked with a red \"X\" in all panels. The values of $E(B-V)$ are negligible across all distances. (*fig:dust*)\n",
       "\n",
       "</div>\n",
       "<div id=\"div_fig3\">\n",
       "\n",
       "<img src=\"tmp_2411.19916/./Figures/lightcurve_model.png\" alt=\"Fig6\" width=\"100%\"/>\n",
       "\n",
       "**Figure 6. -** Three color ULTRACAM light curve from March 20, 2023, overlaid with the best-fit toy \\texttt{LCURVE} model (solid black lines). The model includes contributions from an accretion disk and a hot spot where the accretion stream intersects the outer disk, which were needed to achieve an acceptable fit to the lightcurve. The best fit model gives a near edge-on inclination (88.6 degrees), though we chose not to include this model as part of our joint fit, due to the large number of model-dependent free parameters involved, as compared to our more simple and robust approach. (*fig:LCURVE*)\n",
       "\n",
       "</div><div id=\"qrcode\"><img src=https://api.qrserver.com/v1/create-qr-code/?size=100x100&data=\"https://arxiv.org/abs/2411.19916\"></div>"
      ],
      "text/plain": [
       "<IPython.core.display.Markdown object>"
      ]
     },
     "metadata": {},
     "output_type": "display_data"
    },
    {
     "data": {
      "text/markdown": [
       "<div class=\"macros\" style=\"visibility:hidden;\">\n",
       "$\\newcommand{\\ensuremath}{}$\n",
       "$\\newcommand{\\xspace}{}$\n",
       "$\\newcommand{\\object}[1]{\\texttt{#1}}$\n",
       "$\\newcommand{\\farcs}{{.}''}$\n",
       "$\\newcommand{\\farcm}{{.}'}$\n",
       "$\\newcommand{\\arcsec}{''}$\n",
       "$\\newcommand{\\arcmin}{'}$\n",
       "$\\newcommand{\\ion}[2]{#1#2}$\n",
       "$\\newcommand{\\textsc}[1]{\\textrm{#1}}$\n",
       "$\\newcommand{\\hl}[1]{\\textrm{#1}}$\n",
       "$\\newcommand{\\footnote}[1]{}$\n",
       "$\\newcommand{\\jc}[1]{\\textcolor{purple}{JC: #1}}$\n",
       "$\\newcommand{\\gab}[1]{\\textcolor{orange}{GP: #1}}$\n",
       "$\\newcommand{\\yi}[1]{\\textcolor{brown}{#1}}$\n",
       "$\\newcommand{\\arraystretch}{1.5}$</div>\n",
       "\n",
       "\n",
       "\n",
       "<div id=\"title\">\n",
       "\n",
       "# The hot circumgalactic medium in the eROSITA All-Sky Survey: III. Star-forming and quiescent galaxies\n",
       "\n",
       "</div>\n",
       "<div id=\"comments\">\n",
       "\n",
       "[![arXiv](https://img.shields.io/badge/arXiv-2411.19945-b31b1b.svg)](https://arxiv.org/abs/2411.19945)<mark>Appeared on: 2024-12-03</mark> -  _16 pages, 12 figures, accepted for publication in A&A_\n",
       "\n",
       "</div>\n",
       "<div id=\"authors\">\n",
       "\n",
       "Y. Zhang, et al. -- incl., <mark>A. Pillepich</mark>, <mark>X. Zhang</mark>\n",
       "\n",
       "</div>\n",
       "<div id=\"abstract\">\n",
       "\n",
       "**Abstract:**            The circumgalactic medium (CGM), as the gas repository for star formation, might contain the answer to the mysterious galaxy quenching and bimodal galaxy population origin. We measured the X-ray emission of the hot CGM around star-forming and quiescent galaxies. We detect extended X-ray emission from the hot CGM around star-forming galaxies with $\\log(M_*/M_\\odot)>11.0$ and quiescent galaxies with $\\log(M_*/M_\\odot)>10.5$, extending out to $R_{\\rm 500c}$. $L_{\\rm X, CGM}$ of star-forming galaxies with median stellar masses $\\log(M_{\\rm *,med}/M_\\odot) = 10.7, 11.1, 11.3$ are approximately $0.8\\,, 2.3\\,, 4.0 \\times 10^{40}\\,\\rm erg/s$, while for quiescent galaxies with $\\log(M_{\\rm *,med}/M_\\odot) = 10.8, 11.1, 11.4$, they are $1.1\\,, 6.2\\,, 30 \\times 10^{40}\\,\\rm erg/s$. Notably, quiescent galaxies with $\\log(M_{\\rm *,med}/M_\\odot) > 11.0$ exhibit brighter hot CGM than their star-forming counterparts. In halo mass bins, we detect similar X-ray emission around star-forming and quiescent galaxies with $\\log(M_{\\rm 200m}/M_\\odot) > 12.5$, suggesting that galaxies in the same mass dark matter halos host equally bright hot CGM. We emphasize the observed $L_{\\rm X, CGM} - M_{\\rm 500c}$ relations of star-forming and quiescent galaxies are sensitive to the stellar-to-halo mass relation (SHMR). A comparison with cosmological hydrodynamical simulations (EAGLE, TNG100, and SIMBA) reveals varying degrees of agreement, contingent on the simulation and the specific stellar or halo mass ranges considered. Either selected in stellar mass or halo mass, the star-forming galaxies do not host brighter stacked X-ray emission from the hot CGM than their quiescent counterparts at the same mass range. The result provides useful constraints on the extent of feedback's impacts as a mechanism for quenching star formation as implemented in current cosmological simulations.         \n",
       "\n",
       "</div>\n",
       "\n",
       "<div id=\"div_fig1\">\n",
       "\n",
       "<img src=\"tmp_2411.19945/./fig/profile/profile_halo_12p0_agnxrb_cgm.png\" alt=\"Fig10.1\" width=\"25%\"/><img src=\"tmp_2411.19945/./fig/profile/profile_halo_12p5_agnxrb_cgm.png\" alt=\"Fig10.2\" width=\"25%\"/><img src=\"tmp_2411.19945/./fig/profile/profile_halo_13p0_agnxrb_cgm.png\" alt=\"Fig10.3\" width=\"25%\"/><img src=\"tmp_2411.19945/./fig/lxm/lx_CEN_halo_cgm_sfqu_r500.png\" alt=\"Fig10.4\" width=\"25%\"/>\n",
       "\n",
       "**Figure 10. -** X-ray surface brightness profiles of the hot CGM of the central star-forming ($S_{\\rm X, CGM, SF}$, blue) and quiescent ($S_{\\rm X, CGM, QU}$, red) galaxies with $M_{\\rm 200m}\\in 12.0-12.5$, $12.5-13.0$ and $13.0-13.5$(top left, top right and bottem left). The vertical dash-dotted lines denote the average $R_{\\rm 500c}$ and $R_{\\rm vir}$ of stacked galaxies. The median redshift ($\\bar{z}_{\\rm spec}$), median $M_{\\rm 200m}$ and median $M_*$ are denoted. Hot CGM X-ray luminosity of central star-forming galaxies ($L_{\\rm X,CGM, SF}$, blue) and quiescent galaxies ($L_{\\rm X,CGM, QU}$, red) within $R_{\\rm 500c}$ in $0.5-2$ keV as a function of $M_{\\rm 500c}$, compared to the $L_{\\rm X,CGM}-M_{\\rm 500c}$ scaling relation from [Zhang, Comparat and Ponti (2024)]()(bottom right).  (*Fig_profile_cenhalo*)\n",
       "\n",
       "</div>\n",
       "<div id=\"div_fig2\">\n",
       "\n",
       "<img src=\"tmp_2411.19945/./fig/discuss/SHMR_compare_sf.png\" alt=\"Fig2.1\" width=\"50%\"/><img src=\"tmp_2411.19945/./fig/discuss/SHMR_compare_qu.png\" alt=\"Fig2.2\" width=\"50%\"/>\n",
       "\n",
       "**Figure 2. -** Comparison of $M_{\\rm 500c}-M*$ relations of central star-forming (top) and quiescent (bottom) galaxies in catalog [ and Tinker (2021)]() and [Yang and Mo (2007)](), and EAGLE, TNG100 and SIMBA simulations. The shadow area denotes the 16--84\\% scatter of the relation. [Yang and Mo (2007)]() only includes galaxy groups with $\\log(M_{\\rm 500c})>11.5$ and causes the turnover of the quiescent SHMR at low mass end. (*Fig_shmr_yang*)\n",
       "\n",
       "</div>\n",
       "<div id=\"div_fig3\">\n",
       "\n",
       "<img src=\"tmp_2411.19945/./fig/cat/SFQU_MSMH.png\" alt=\"Fig1\" width=\"100%\"/>\n",
       "\n",
       "**Figure 1. -** The median $M_{\\rm 200m}$ and median $M_*$ of galaxies with the $16-84\\%$ scatter for each mass bin in the CEN$_{\\rm halo,SF}$(blue band), CEN$_{\\rm halo,QU}$(red band), CEN$_{\\rm SF}$(green crosses), and CEN$_{\\rm QU}$(orange cross) samples. (*Fig_SHMR*)\n",
       "\n",
       "</div><div id=\"qrcode\"><img src=https://api.qrserver.com/v1/create-qr-code/?size=100x100&data=\"https://arxiv.org/abs/2411.19945\"></div>"
      ],
      "text/plain": [
       "<IPython.core.display.Markdown object>"
      ]
     },
     "metadata": {},
     "output_type": "display_data"
    }
   ],
   "source": [
    "[display(Markdown(k[1])) for k in documents];"
   ]
  },
  {
   "cell_type": "markdown",
   "id": "873873a4",
   "metadata": {
    "papermill": {
     "duration": 0.006546,
     "end_time": "2024-12-03T04:16:18.817808",
     "exception": false,
     "start_time": "2024-12-03T04:16:18.811262",
     "status": "completed"
    },
    "tags": []
   },
   "source": [
    "# Create HTML index"
   ]
  },
  {
   "cell_type": "code",
   "execution_count": 10,
   "id": "cf665672",
   "metadata": {
    "execution": {
     "iopub.execute_input": "2024-12-03T04:16:18.831782Z",
     "iopub.status.busy": "2024-12-03T04:16:18.831248Z",
     "iopub.status.idle": "2024-12-03T04:16:18.839764Z",
     "shell.execute_reply": "2024-12-03T04:16:18.839220Z"
    },
    "papermill": {
     "duration": 0.016603,
     "end_time": "2024-12-03T04:16:18.840790",
     "exception": false,
     "start_time": "2024-12-03T04:16:18.824187",
     "status": "completed"
    },
    "tags": []
   },
   "outputs": [
    {
     "name": "stdout",
     "output_type": "stream",
     "text": [
      "263  publications files modified in the last 7 days.\n"
     ]
    }
   ],
   "source": [
    "from datetime import datetime, timedelta, timezone\n",
    "from glob import glob\n",
    "import os\n",
    "\n",
    "files = glob('_build/html/*.md')\n",
    "days = 7\n",
    "now = datetime.today()\n",
    "res = []\n",
    "for fk in files:\n",
    "    stat_result = os.stat(fk).st_ctime\n",
    "    modified = datetime.fromtimestamp(stat_result, tz=timezone.utc).replace(tzinfo=None)\n",
    "    delta = now.today() - modified\n",
    "    if delta <= timedelta(days=days):\n",
    "        res.append((delta.seconds, fk))\n",
    "res = [k[1] for k in reversed(sorted(res, key=lambda x:x[1]))]\n",
    "npub = len(res)\n",
    "print(len(res), f\" publications files modified in the last {days:d} days.\")\n",
    "# [ print('\\t', k) for k in res ];"
   ]
  },
  {
   "cell_type": "code",
   "execution_count": 11,
   "id": "015de740",
   "metadata": {
    "execution": {
     "iopub.execute_input": "2024-12-03T04:16:18.855814Z",
     "iopub.status.busy": "2024-12-03T04:16:18.855222Z",
     "iopub.status.idle": "2024-12-03T04:16:18.873267Z",
     "shell.execute_reply": "2024-12-03T04:16:18.872593Z"
    },
    "papermill": {
     "duration": 0.026761,
     "end_time": "2024-12-03T04:16:18.874433",
     "exception": false,
     "start_time": "2024-12-03T04:16:18.847672",
     "status": "completed"
    },
    "tags": []
   },
   "outputs": [
    {
     "name": "stdout",
     "output_type": "stream",
     "text": [
      "10  publications in the last 7 days.\n"
     ]
    }
   ],
   "source": [
    "import datetime\n",
    "from glob import glob\n",
    "\n",
    "def get_last_n_days(lst, days=1):\n",
    "    \"\"\" Get the documents from the last n days \"\"\"\n",
    "    sorted_lst = sorted(lst, key=lambda x: x[1], reverse=True)\n",
    "    for fname, date in sorted_lst:\n",
    "        if date >= str(datetime.date.today() - datetime.timedelta(days=days)):\n",
    "            yield fname\n",
    "\n",
    "def extract_appearance_dates(lst_file):\n",
    "    dates = []\n",
    "\n",
    "    def get_date(line):\n",
    "        return line\\\n",
    "            .split('Appeared on:')[-1]\\\n",
    "            .split('</mark>')[0].strip()\n",
    "\n",
    "    for fname in lst:\n",
    "        with open(fname, 'r') as f:\n",
    "            found_date = False\n",
    "            for line in f:\n",
    "                if not found_date:\n",
    "                    if \"Appeared on\" in line:\n",
    "                        found_date = True\n",
    "                        dates.append((fname, get_date(line)))\n",
    "                else:\n",
    "                    break\n",
    "    return dates\n",
    "\n",
    "from glob import glob\n",
    "lst = glob('_build/html/*md')\n",
    "days = 7\n",
    "dates = extract_appearance_dates(lst)\n",
    "res = list(get_last_n_days(dates, days))\n",
    "npub = len(res)\n",
    "print(len(res), f\" publications in the last {days:d} days.\")"
   ]
  },
  {
   "cell_type": "code",
   "execution_count": 12,
   "id": "52ca0208",
   "metadata": {
    "execution": {
     "iopub.execute_input": "2024-12-03T04:16:18.889748Z",
     "iopub.status.busy": "2024-12-03T04:16:18.889125Z",
     "iopub.status.idle": "2024-12-03T04:16:18.894637Z",
     "shell.execute_reply": "2024-12-03T04:16:18.894088Z"
    },
    "papermill": {
     "duration": 0.014093,
     "end_time": "2024-12-03T04:16:18.895567",
     "exception": false,
     "start_time": "2024-12-03T04:16:18.881474",
     "status": "completed"
    },
    "scrolled": false,
    "tags": []
   },
   "outputs": [],
   "source": [
    "def create_carousel(npub=4):\n",
    "    \"\"\" Generate the HTML code for a carousel with `npub` slides \"\"\"\n",
    "    carousel = [\"\"\"  <div class=\"carousel\" \"\"\",\n",
    "                \"\"\"       data-flickity='{ \"autoPlay\": 10000, \"adaptiveHeight\": true, \"resize\": true, \"wrapAround\": true, \"pauseAutoPlayOnHover\": true, \"groupCells\": 1 }' id=\"asyncTypeset\">\"\"\"\n",
    "                ]\n",
    "    \n",
    "    item_str = \"\"\"    <div class=\"carousel-cell\"> <div id=\"slide{k}\" class=\"md_view\">Content {k}</div> </div>\"\"\"\n",
    "    for k in range(1, npub + 1):\n",
    "        carousel.append(item_str.format(k=k))\n",
    "    carousel.append(\"  </div>\")\n",
    "    return '\\n'.join(carousel)\n",
    "\n",
    "def create_grid(npub=4):\n",
    "    \"\"\" Generate the HTML code for a flat grid with `npub` slides \"\"\"\n",
    "    grid = [\"\"\"  <div class=\"grid\"> \"\"\",\n",
    "                ]\n",
    "    \n",
    "    item_str = \"\"\"    <div class=\"grid-item\"> <div id=\"slide{k}\" class=\"md_view\">Content {k}</div> </div>\"\"\"\n",
    "    for k in range(1, npub + 1):\n",
    "        grid.append(item_str.format(k=k))\n",
    "    grid.append(\"  </div>\")\n",
    "    return '\\n'.join(grid)"
   ]
  },
  {
   "cell_type": "code",
   "execution_count": 13,
   "id": "a6eac5b6",
   "metadata": {
    "execution": {
     "iopub.execute_input": "2024-12-03T04:16:18.909817Z",
     "iopub.status.busy": "2024-12-03T04:16:18.909440Z",
     "iopub.status.idle": "2024-12-03T04:16:18.914590Z",
     "shell.execute_reply": "2024-12-03T04:16:18.913958Z"
    },
    "papermill": {
     "duration": 0.013237,
     "end_time": "2024-12-03T04:16:18.915552",
     "exception": false,
     "start_time": "2024-12-03T04:16:18.902315",
     "status": "completed"
    },
    "scrolled": false,
    "tags": []
   },
   "outputs": [],
   "source": [
    "carousel = create_carousel(npub)\n",
    "docs = ', '.join(['\"{0:s}\"'.format(k.split('/')[-1]) for k in res])\n",
    "slides = ', '.join([f'\"slide{k}\"' for k in range(1, npub + 1)])\n",
    "\n",
    "with open(\"daily_template.html\", \"r\") as tpl:\n",
    "    page = tpl.read()\n",
    "    page = page.replace(\"{%-- carousel:s --%}\", carousel)\\\n",
    "               .replace(\"{%-- suptitle:s --%}\",  \"7-day archives\" )\\\n",
    "               .replace(\"{%-- docs:s --%}\", docs)\\\n",
    "               .replace(\"{%-- slides:s --%}\", slides)\n",
    "    \n",
    "with open(\"_build/html/index_7days.html\", 'w') as fout:\n",
    "    fout.write(page)"
   ]
  },
  {
   "cell_type": "code",
   "execution_count": 14,
   "id": "adc1a1ec",
   "metadata": {
    "execution": {
     "iopub.execute_input": "2024-12-03T04:16:18.930027Z",
     "iopub.status.busy": "2024-12-03T04:16:18.929561Z",
     "iopub.status.idle": "2024-12-03T04:16:18.936187Z",
     "shell.execute_reply": "2024-12-03T04:16:18.935584Z"
    },
    "papermill": {
     "duration": 0.014812,
     "end_time": "2024-12-03T04:16:18.937183",
     "exception": false,
     "start_time": "2024-12-03T04:16:18.922371",
     "status": "completed"
    },
    "tags": []
   },
   "outputs": [
    {
     "name": "stdout",
     "output_type": "stream",
     "text": [
      "5  publications in the last day.\n"
     ]
    }
   ],
   "source": [
    "# redo for today\n",
    "days = 1\n",
    "res = list(get_last_n_days(dates, days))\n",
    "npub = len(res)\n",
    "print(len(res), f\" publications in the last day.\")\n",
    "\n",
    "carousel = create_carousel(npub)\n",
    "docs = ', '.join(['\"{0:s}\"'.format(k.split('/')[-1]) for k in res])\n",
    "slides = ', '.join([f'\"slide{k}\"' for k in range(1, npub + 1)])\n",
    "\n",
    "with open(\"daily_template.html\", \"r\") as tpl:\n",
    "    page = tpl.read()\n",
    "    page = page.replace(\"{%-- carousel:s --%}\", carousel)\\\n",
    "               .replace(\"{%-- suptitle:s --%}\",  \"Daily\" )\\\n",
    "               .replace(\"{%-- docs:s --%}\", docs)\\\n",
    "               .replace(\"{%-- slides:s --%}\", slides)\n",
    "    \n",
    "# print(carousel, docs, slides)\n",
    "# print(page)\n",
    "with open(\"_build/html/index_daily.html\", 'w') as fout:\n",
    "    fout.write(page)"
   ]
  },
  {
   "cell_type": "code",
   "execution_count": 15,
   "id": "00eece82",
   "metadata": {
    "execution": {
     "iopub.execute_input": "2024-12-03T04:16:18.951832Z",
     "iopub.status.busy": "2024-12-03T04:16:18.951351Z",
     "iopub.status.idle": "2024-12-03T04:16:18.957765Z",
     "shell.execute_reply": "2024-12-03T04:16:18.957212Z"
    },
    "papermill": {
     "duration": 0.014742,
     "end_time": "2024-12-03T04:16:18.958730",
     "exception": false,
     "start_time": "2024-12-03T04:16:18.943988",
     "status": "completed"
    },
    "scrolled": false,
    "tags": []
   },
   "outputs": [
    {
     "name": "stdout",
     "output_type": "stream",
     "text": [
      "6  6 publications selected.\n"
     ]
    }
   ],
   "source": [
    "# Create the flat grid of the last N papers (fixed number regardless of dates)\n",
    "from itertools import islice \n",
    "\n",
    "npub = 6\n",
    "res = [k[0] for k in (islice(reversed(sorted(dates, key=lambda x: x[1])), 6))]\n",
    "print(len(res), f\" {npub} publications selected.\")\n",
    "\n",
    "grid = create_grid(npub)\n",
    "docs = ', '.join(['\"{0:s}\"'.format(k.split('/')[-1]) for k in res])\n",
    "slides = ', '.join([f'\"slide{k}\"' for k in range(1, npub + 1)])\n",
    "\n",
    "with open(\"grid_template.html\", \"r\") as tpl:\n",
    "    page = tpl.read()\n",
    "    page = page.replace(\"{%-- grid-content:s --%}\", grid)\\\n",
    "               .replace(\"{%-- suptitle:s --%}\",  f\"Last {npub:,d} papers\" )\\\n",
    "               .replace(\"{%-- docs:s --%}\", docs)\\\n",
    "               .replace(\"{%-- slides:s --%}\", slides)\n",
    "    \n",
    "# print(grid, docs, slides)\n",
    "# print(page)\n",
    "with open(\"_build/html/index_npub_grid.html\", 'w') as fout:\n",
    "    fout.write(page)"
   ]
  }
 ],
 "metadata": {
  "kernelspec": {
   "display_name": "Python 3 (ipykernel)",
   "language": "python",
   "name": "python3"
  },
  "language_info": {
   "codemirror_mode": {
    "name": "ipython",
    "version": 3
   },
   "file_extension": ".py",
   "mimetype": "text/x-python",
   "name": "python",
   "nbconvert_exporter": "python",
   "pygments_lexer": "ipython3",
   "version": "3.9.20"
  },
  "papermill": {
   "default_parameters": {},
   "duration": 282.894599,
   "end_time": "2024-12-03T04:16:19.181957",
   "environment_variables": {},
   "exception": null,
   "input_path": "MPIA daily digest.ipynb",
   "output_path": "log.ipynb",
   "parameters": {},
   "start_time": "2024-12-03T04:11:36.287358",
   "version": "2.6.0"
  },
  "vscode": {
   "interpreter": {
    "hash": "aee8b7b246df8f9039afb4144a1f6fd8d2ca17a180786b69acc140d282b71a49"
   }
  },
  "widgets": {
   "application/vnd.jupyter.widget-state+json": {
    "state": {
     "20e2a59c0bb44267a09414ab52c24292": {
      "model_module": "@jupyter-widgets/controls",
      "model_module_version": "2.0.0",
      "model_name": "HBoxModel",
      "state": {
       "_dom_classes": [],
       "_model_module": "@jupyter-widgets/controls",
       "_model_module_version": "2.0.0",
       "_model_name": "HBoxModel",
       "_view_count": null,
       "_view_module": "@jupyter-widgets/controls",
       "_view_module_version": "2.0.0",
       "_view_name": "HBoxView",
       "box_style": "",
       "children": [
        "IPY_MODEL_87ba90a34edb421f97a3ccfd5a4f0287",
        "IPY_MODEL_de99b014d60c4257a42b90c7ba280842",
        "IPY_MODEL_5591343abe2844cc834a460997b33c9e"
       ],
       "layout": "IPY_MODEL_a2e4aca6daef416abfc857ff4ffe0d04",
       "tabbable": null,
       "tooltip": null
      }
     },
     "395c698729e342ecb73a1ded0ba0aea5": {
      "model_module": "@jupyter-widgets/base",
      "model_module_version": "2.0.0",
      "model_name": "LayoutModel",
      "state": {
       "_model_module": "@jupyter-widgets/base",
       "_model_module_version": "2.0.0",
       "_model_name": "LayoutModel",
       "_view_count": null,
       "_view_module": "@jupyter-widgets/base",
       "_view_module_version": "2.0.0",
       "_view_name": "LayoutView",
       "align_content": null,
       "align_items": null,
       "align_self": null,
       "border_bottom": null,
       "border_left": null,
       "border_right": null,
       "border_top": null,
       "bottom": null,
       "display": null,
       "flex": null,
       "flex_flow": null,
       "grid_area": null,
       "grid_auto_columns": null,
       "grid_auto_flow": null,
       "grid_auto_rows": null,
       "grid_column": null,
       "grid_gap": null,
       "grid_row": null,
       "grid_template_areas": null,
       "grid_template_columns": null,
       "grid_template_rows": null,
       "height": null,
       "justify_content": null,
       "justify_items": null,
       "left": null,
       "margin": null,
       "max_height": null,
       "max_width": null,
       "min_height": null,
       "min_width": null,
       "object_fit": null,
       "object_position": null,
       "order": null,
       "overflow": null,
       "padding": null,
       "right": null,
       "top": null,
       "visibility": null,
       "width": null
      }
     },
     "452f379e3a7543a1bbfdd709accb3bc6": {
      "model_module": "@jupyter-widgets/controls",
      "model_module_version": "2.0.0",
      "model_name": "HTMLStyleModel",
      "state": {
       "_model_module": "@jupyter-widgets/controls",
       "_model_module_version": "2.0.0",
       "_model_name": "HTMLStyleModel",
       "_view_count": null,
       "_view_module": "@jupyter-widgets/base",
       "_view_module_version": "2.0.0",
       "_view_name": "StyleView",
       "background": null,
       "description_width": "",
       "font_size": null,
       "text_color": null
      }
     },
     "539d0f961528414592e7f87d0b580a0a": {
      "model_module": "@jupyter-widgets/controls",
      "model_module_version": "2.0.0",
      "model_name": "HTMLStyleModel",
      "state": {
       "_model_module": "@jupyter-widgets/controls",
       "_model_module_version": "2.0.0",
       "_model_name": "HTMLStyleModel",
       "_view_count": null,
       "_view_module": "@jupyter-widgets/base",
       "_view_module_version": "2.0.0",
       "_view_name": "StyleView",
       "background": null,
       "description_width": "",
       "font_size": null,
       "text_color": null
      }
     },
     "541415f9446f41759117dbf774dd5992": {
      "model_module": "@jupyter-widgets/controls",
      "model_module_version": "2.0.0",
      "model_name": "ProgressStyleModel",
      "state": {
       "_model_module": "@jupyter-widgets/controls",
       "_model_module_version": "2.0.0",
       "_model_name": "ProgressStyleModel",
       "_view_count": null,
       "_view_module": "@jupyter-widgets/base",
       "_view_module_version": "2.0.0",
       "_view_name": "StyleView",
       "bar_color": null,
       "description_width": ""
      }
     },
     "5591343abe2844cc834a460997b33c9e": {
      "model_module": "@jupyter-widgets/controls",
      "model_module_version": "2.0.0",
      "model_name": "HTMLModel",
      "state": {
       "_dom_classes": [],
       "_model_module": "@jupyter-widgets/controls",
       "_model_module_version": "2.0.0",
       "_model_name": "HTMLModel",
       "_view_count": null,
       "_view_module": "@jupyter-widgets/controls",
       "_view_module_version": "2.0.0",
       "_view_name": "HTMLView",
       "description": "",
       "description_allow_html": false,
       "layout": "IPY_MODEL_f9630f85994b42e1ba75e936f14adee6",
       "placeholder": "​",
       "style": "IPY_MODEL_452f379e3a7543a1bbfdd709accb3bc6",
       "tabbable": null,
       "tooltip": null,
       "value": " 8/8 [04:18&lt;00:00, 29.94s/it]"
      }
     },
     "87ba90a34edb421f97a3ccfd5a4f0287": {
      "model_module": "@jupyter-widgets/controls",
      "model_module_version": "2.0.0",
      "model_name": "HTMLModel",
      "state": {
       "_dom_classes": [],
       "_model_module": "@jupyter-widgets/controls",
       "_model_module_version": "2.0.0",
       "_model_name": "HTMLModel",
       "_view_count": null,
       "_view_module": "@jupyter-widgets/controls",
       "_view_module_version": "2.0.0",
       "_view_name": "HTMLView",
       "description": "",
       "description_allow_html": false,
       "layout": "IPY_MODEL_395c698729e342ecb73a1ded0ba0aea5",
       "placeholder": "​",
       "style": "IPY_MODEL_539d0f961528414592e7f87d0b580a0a",
       "tabbable": null,
       "tooltip": null,
       "value": "100%"
      }
     },
     "a2e4aca6daef416abfc857ff4ffe0d04": {
      "model_module": "@jupyter-widgets/base",
      "model_module_version": "2.0.0",
      "model_name": "LayoutModel",
      "state": {
       "_model_module": "@jupyter-widgets/base",
       "_model_module_version": "2.0.0",
       "_model_name": "LayoutModel",
       "_view_count": null,
       "_view_module": "@jupyter-widgets/base",
       "_view_module_version": "2.0.0",
       "_view_name": "LayoutView",
       "align_content": null,
       "align_items": null,
       "align_self": null,
       "border_bottom": null,
       "border_left": null,
       "border_right": null,
       "border_top": null,
       "bottom": null,
       "display": null,
       "flex": null,
       "flex_flow": null,
       "grid_area": null,
       "grid_auto_columns": null,
       "grid_auto_flow": null,
       "grid_auto_rows": null,
       "grid_column": null,
       "grid_gap": null,
       "grid_row": null,
       "grid_template_areas": null,
       "grid_template_columns": null,
       "grid_template_rows": null,
       "height": null,
       "justify_content": null,
       "justify_items": null,
       "left": null,
       "margin": null,
       "max_height": null,
       "max_width": null,
       "min_height": null,
       "min_width": null,
       "object_fit": null,
       "object_position": null,
       "order": null,
       "overflow": null,
       "padding": null,
       "right": null,
       "top": null,
       "visibility": null,
       "width": null
      }
     },
     "c7e2ebdbb4534fa7aefead68b0bb0e8e": {
      "model_module": "@jupyter-widgets/base",
      "model_module_version": "2.0.0",
      "model_name": "LayoutModel",
      "state": {
       "_model_module": "@jupyter-widgets/base",
       "_model_module_version": "2.0.0",
       "_model_name": "LayoutModel",
       "_view_count": null,
       "_view_module": "@jupyter-widgets/base",
       "_view_module_version": "2.0.0",
       "_view_name": "LayoutView",
       "align_content": null,
       "align_items": null,
       "align_self": null,
       "border_bottom": null,
       "border_left": null,
       "border_right": null,
       "border_top": null,
       "bottom": null,
       "display": null,
       "flex": null,
       "flex_flow": null,
       "grid_area": null,
       "grid_auto_columns": null,
       "grid_auto_flow": null,
       "grid_auto_rows": null,
       "grid_column": null,
       "grid_gap": null,
       "grid_row": null,
       "grid_template_areas": null,
       "grid_template_columns": null,
       "grid_template_rows": null,
       "height": null,
       "justify_content": null,
       "justify_items": null,
       "left": null,
       "margin": null,
       "max_height": null,
       "max_width": null,
       "min_height": null,
       "min_width": null,
       "object_fit": null,
       "object_position": null,
       "order": null,
       "overflow": null,
       "padding": null,
       "right": null,
       "top": null,
       "visibility": null,
       "width": null
      }
     },
     "de99b014d60c4257a42b90c7ba280842": {
      "model_module": "@jupyter-widgets/controls",
      "model_module_version": "2.0.0",
      "model_name": "FloatProgressModel",
      "state": {
       "_dom_classes": [],
       "_model_module": "@jupyter-widgets/controls",
       "_model_module_version": "2.0.0",
       "_model_name": "FloatProgressModel",
       "_view_count": null,
       "_view_module": "@jupyter-widgets/controls",
       "_view_module_version": "2.0.0",
       "_view_name": "ProgressView",
       "bar_style": "success",
       "description": "",
       "description_allow_html": false,
       "layout": "IPY_MODEL_c7e2ebdbb4534fa7aefead68b0bb0e8e",
       "max": 8.0,
       "min": 0.0,
       "orientation": "horizontal",
       "style": "IPY_MODEL_541415f9446f41759117dbf774dd5992",
       "tabbable": null,
       "tooltip": null,
       "value": 8.0
      }
     },
     "f9630f85994b42e1ba75e936f14adee6": {
      "model_module": "@jupyter-widgets/base",
      "model_module_version": "2.0.0",
      "model_name": "LayoutModel",
      "state": {
       "_model_module": "@jupyter-widgets/base",
       "_model_module_version": "2.0.0",
       "_model_name": "LayoutModel",
       "_view_count": null,
       "_view_module": "@jupyter-widgets/base",
       "_view_module_version": "2.0.0",
       "_view_name": "LayoutView",
       "align_content": null,
       "align_items": null,
       "align_self": null,
       "border_bottom": null,
       "border_left": null,
       "border_right": null,
       "border_top": null,
       "bottom": null,
       "display": null,
       "flex": null,
       "flex_flow": null,
       "grid_area": null,
       "grid_auto_columns": null,
       "grid_auto_flow": null,
       "grid_auto_rows": null,
       "grid_column": null,
       "grid_gap": null,
       "grid_row": null,
       "grid_template_areas": null,
       "grid_template_columns": null,
       "grid_template_rows": null,
       "height": null,
       "justify_content": null,
       "justify_items": null,
       "left": null,
       "margin": null,
       "max_height": null,
       "max_width": null,
       "min_height": null,
       "min_width": null,
       "object_fit": null,
       "object_position": null,
       "order": null,
       "overflow": null,
       "padding": null,
       "right": null,
       "top": null,
       "visibility": null,
       "width": null
      }
     }
    },
    "version_major": 2,
    "version_minor": 0
   }
  }
 },
 "nbformat": 4,
 "nbformat_minor": 5
}