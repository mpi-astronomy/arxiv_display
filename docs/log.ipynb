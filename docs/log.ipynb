{
 "cells": [
  {
   "cell_type": "markdown",
   "id": "92bcb855",
   "metadata": {
    "papermill": {
     "duration": 0.004797,
     "end_time": "2022-12-07T04:05:35.883872",
     "exception": false,
     "start_time": "2022-12-07T04:05:35.879075",
     "status": "completed"
    },
    "tags": []
   },
   "source": [
    "# MPIA Arxiv on Deck 2\n",
    "\n",
    "Contains the steps to produce the paper extractions."
   ]
  },
  {
   "cell_type": "code",
   "execution_count": 1,
   "id": "3a0d6e11",
   "metadata": {
    "execution": {
     "iopub.execute_input": "2022-12-07T04:05:35.893679Z",
     "iopub.status.busy": "2022-12-07T04:05:35.893169Z",
     "iopub.status.idle": "2022-12-07T04:05:36.058153Z",
     "shell.execute_reply": "2022-12-07T04:05:36.057555Z"
    },
    "papermill": {
     "duration": 0.171795,
     "end_time": "2022-12-07T04:05:36.059936",
     "exception": false,
     "start_time": "2022-12-07T04:05:35.888141",
     "status": "completed"
    },
    "tags": []
   },
   "outputs": [],
   "source": [
    "# Imports\n",
    "import os\n",
    "from IPython.display import Markdown, display\n",
    "from tqdm.notebook import tqdm\n",
    "import warnings\n",
    "from PIL import Image \n",
    "\n",
    "# requires arxiv_on_deck_2\n",
    "\n",
    "from arxiv_on_deck_2.arxiv2 import (get_new_papers, \n",
    "                                    get_paper_from_identifier,\n",
    "                                    retrieve_document_source, \n",
    "                                    get_markdown_badge)\n",
    "from arxiv_on_deck_2 import (latex, \n",
    "                             mpia,\n",
    "                             highlight_authors_in_list)\n",
    "\n",
    "# Sometimes images are really big\n",
    "Image.MAX_IMAGE_PIXELS = 1000000000 "
   ]
  },
  {
   "cell_type": "code",
   "execution_count": 2,
   "id": "22aa9d44",
   "metadata": {
    "execution": {
     "iopub.execute_input": "2022-12-07T04:05:36.069610Z",
     "iopub.status.busy": "2022-12-07T04:05:36.068997Z",
     "iopub.status.idle": "2022-12-07T04:05:36.073768Z",
     "shell.execute_reply": "2022-12-07T04:05:36.073154Z"
    },
    "papermill": {
     "duration": 0.011312,
     "end_time": "2022-12-07T04:05:36.075340",
     "exception": false,
     "start_time": "2022-12-07T04:05:36.064028",
     "status": "completed"
    },
    "tags": []
   },
   "outputs": [],
   "source": [
    "# Some useful definitions.\n",
    "\n",
    "class AffiliationWarning(UserWarning):\n",
    "    pass\n",
    "\n",
    "class AffiliationError(RuntimeError):\n",
    "    pass\n",
    "\n",
    "def validation(source: str):\n",
    "    \"\"\"Raises error paper during parsing of source file\n",
    "    \n",
    "    Allows checks before parsing TeX code.\n",
    "    \n",
    "    Raises AffiliationWarning\n",
    "    \"\"\"\n",
    "    check = mpia.affiliation_verifications(source, verbose=True)\n",
    "    if check is not True:\n",
    "        raise AffiliationError(\"mpia.affiliation_verifications: \" + check)\n",
    "\n",
    "        \n",
    "warnings.simplefilter('always', AffiliationWarning)"
   ]
  },
  {
   "cell_type": "code",
   "execution_count": 3,
   "id": "14622700",
   "metadata": {
    "execution": {
     "iopub.execute_input": "2022-12-07T04:05:36.084146Z",
     "iopub.status.busy": "2022-12-07T04:05:36.083613Z",
     "iopub.status.idle": "2022-12-07T04:05:36.087282Z",
     "shell.execute_reply": "2022-12-07T04:05:36.086704Z"
    },
    "papermill": {
     "duration": 0.00952,
     "end_time": "2022-12-07T04:05:36.088649",
     "exception": false,
     "start_time": "2022-12-07T04:05:36.079129",
     "status": "completed"
    },
    "tags": []
   },
   "outputs": [],
   "source": [
    "# additional CSS to consider. \n",
    "# TODO: Current into each exported file. \n",
    "#       This should be set once into the webpages directly.\n",
    "#       With only the class/id definitions in the .md files.\n",
    "\n",
    "debug_html = \"\"\"\n",
    "<style>\n",
    "#wrap{ overflow:auto; }\n",
    "#fig1{ background:yellow; width:100%; float:left; padding:5px;  }\n",
    "#fig2{ background:red; width:50%; float:left; clear:left; padding:5px;  }\n",
    "#fig3{ background:green; width:50%; float:left; padding:5px;   }\n",
    ".macros{ background:yellow; visibility:visible;}\n",
    "h1 {margin: 0 0 0 0;}\n",
    "mark {background-color:#fff3b6;}\n",
    "img {object-fit:contain; max-height:250px; display:inline-block; text-align: center;}\n",
    "</style>\n",
    "\"\"\" \n",
    "html = \"\"\"\n",
    "<style>\n",
    "#wrap{ overflow:auto; }\n",
    "#fig1{ width:100%; float:left; padding: 5px;  }\n",
    "#fig2{ width:50%; float:left; clear:left; padding: 5px;  }\n",
    "#fig3{ width:50%; float:left; padding: 5px;  }\n",
    ".macros{ visibility:hidden; height:0px; }\n",
    "h1 {margin: 0em 0 0 0;}\n",
    "mark {background-color:#fff3b6;}\n",
    "img {object-fit:contain; max-height:250px; display:inline-block; text-align: center;}\n",
    "</style>\n",
    "\"\"\""
   ]
  },
  {
   "cell_type": "markdown",
   "id": "14bd6310",
   "metadata": {
    "papermill": {
     "duration": 0.003767,
     "end_time": "2022-12-07T04:05:36.096330",
     "exception": false,
     "start_time": "2022-12-07T04:05:36.092563",
     "status": "completed"
    },
    "tags": []
   },
   "source": [
    "## get list of arxiv paper candidates\n",
    "\n",
    "We use the MPIA mitarbeiter list webpage from mpia.de to get author names\n",
    "We then get all new papers from Arxiv and match authors"
   ]
  },
  {
   "cell_type": "code",
   "execution_count": 4,
   "id": "2645e73a",
   "metadata": {
    "execution": {
     "iopub.execute_input": "2022-12-07T04:05:36.105107Z",
     "iopub.status.busy": "2022-12-07T04:05:36.104680Z",
     "iopub.status.idle": "2022-12-07T04:06:00.392680Z",
     "shell.execute_reply": "2022-12-07T04:06:00.392135Z"
    },
    "papermill": {
     "duration": 24.294258,
     "end_time": "2022-12-07T04:06:00.394365",
     "exception": false,
     "start_time": "2022-12-07T04:05:36.100107",
     "status": "completed"
    },
    "tags": []
   },
   "outputs": [
    {
     "name": "stdout",
     "output_type": "stream",
     "text": [
      "Arxiv has 65 new papers today\n",
      "          23 with possible author matches\n"
     ]
    }
   ],
   "source": [
    "# get list from MPIA website\n",
    "# it automatically filters identified non-scientists :func:`mpia.filter_non_scientists`\n",
    "mpia_authors = mpia.get_mpia_mitarbeiter_list()\n",
    "new_papers = get_new_papers()\n",
    "# add manual references\n",
    "add_paper_refs = []\n",
    "new_papers.extend([get_paper_from_identifier(k) for k in add_paper_refs])\n",
    "\n",
    "# select only papers with matching author names and highlight authors\n",
    "hl_list = [k[0] for k in mpia_authors]\n",
    "\n",
    "candidates = []\n",
    "for paperk in new_papers:\n",
    "    hl_authors = highlight_authors_in_list(paperk['authors'], hl_list)\n",
    "    matches = [(hl, orig) for hl, orig in zip(hl_authors, paperk['authors']) if 'mark' in hl]\n",
    "    paperk['authors'] = hl_authors\n",
    "    if matches:\n",
    "        candidates.append(paperk)\n",
    "print(\"\"\"Arxiv has {0:,d} new papers today\"\"\".format(len(new_papers)))        \n",
    "print(\"\"\"          {0:,d} with possible author matches\"\"\".format(len(candidates)))"
   ]
  },
  {
   "cell_type": "markdown",
   "id": "3543b34a",
   "metadata": {
    "papermill": {
     "duration": 0.004087,
     "end_time": "2022-12-07T04:06:00.402740",
     "exception": false,
     "start_time": "2022-12-07T04:06:00.398653",
     "status": "completed"
    },
    "tags": []
   },
   "source": [
    "# Parse sources and generate relevant outputs\n",
    "\n",
    "From the candidates, we do the following steps:\n",
    "* get their tarball from ArXiv (and extract data)\n",
    "* find the main .tex file: find one with \\documentclass{...} (sometimes it's non trivial)\n",
    "* Check affiliations with :func:`validation`, which uses :func:`mpia.affiliation_verifications`\n",
    "* If passing the affiliations: we parse the .tex source\n",
    "   * inject sub-documents into the main (flatten the main document)\n",
    "   * parse structure, extract information (title, abstract, authors, figures...)\n",
    "   * handles `\\graphicspath` if provided\n",
    "* Generate the .md document."
   ]
  },
  {
   "cell_type": "code",
   "execution_count": 5,
   "id": "9576b79e",
   "metadata": {
    "execution": {
     "iopub.execute_input": "2022-12-07T04:06:00.412156Z",
     "iopub.status.busy": "2022-12-07T04:06:00.411508Z",
     "iopub.status.idle": "2022-12-07T04:08:37.368208Z",
     "shell.execute_reply": "2022-12-07T04:08:37.367583Z"
    },
    "papermill": {
     "duration": 156.963547,
     "end_time": "2022-12-07T04:08:37.370209",
     "exception": false,
     "start_time": "2022-12-07T04:06:00.406662",
     "status": "completed"
    },
    "scrolled": false,
    "tags": []
   },
   "outputs": [
    {
     "data": {
      "application/vnd.jupyter.widget-view+json": {
       "model_id": "5e196a803a1d45898d834867e6bc573b",
       "version_major": 2,
       "version_minor": 0
      },
      "text/plain": [
       "  0%|          | 0/22 [00:00<?, ?it/s]"
      ]
     },
     "metadata": {},
     "output_type": "display_data"
    },
    {
     "name": "stdout",
     "output_type": "stream",
     "text": [
      "Retrieving document from  https://arxiv.org/e-print/2212.02510\n"
     ]
    },
    {
     "name": "stdout",
     "output_type": "stream",
     "text": [
      "extracting tarball to tmp_2212.02510..."
     ]
    },
    {
     "name": "stdout",
     "output_type": "stream",
     "text": [
      " done.\n",
      "Retrieving document from  https://arxiv.org/e-print/2212.02512\n"
     ]
    },
    {
     "name": "stdout",
     "output_type": "stream",
     "text": [
      "extracting tarball to tmp_2212.02512..."
     ]
    },
    {
     "name": "stdout",
     "output_type": "stream",
     "text": [
      " done.\n",
      "Retrieving document from  https://arxiv.org/e-print/2212.02513\n"
     ]
    },
    {
     "name": "stderr",
     "output_type": "stream",
     "text": [
      "/opt/hostedtoolcache/Python/3.9.15/x64/lib/python3.9/site-packages/IPython/core/interactiveshell.py:3433: LatexWarning: Multiple tex files.\n",
      "\n",
      "  exec(code_obj, self.user_global_ns, self.user_ns)\n",
      "/opt/hostedtoolcache/Python/3.9.15/x64/lib/python3.9/site-packages/IPython/core/interactiveshell.py:3433: LatexWarning: Found documentclass in tmp_2212.02512/GSMF_2022.tex\n",
      "\n",
      "  exec(code_obj, self.user_global_ns, self.user_ns)\n"
     ]
    },
    {
     "name": "stdout",
     "output_type": "stream",
     "text": [
      "extracting tarball to tmp_2212.02513..."
     ]
    },
    {
     "name": "stdout",
     "output_type": "stream",
     "text": [
      " done.\n",
      "Retrieving document from  https://arxiv.org/e-print/2212.02576\n"
     ]
    },
    {
     "name": "stderr",
     "output_type": "stream",
     "text": [
      "/opt/hostedtoolcache/Python/3.9.15/x64/lib/python3.9/site-packages/IPython/core/interactiveshell.py:3433: LatexWarning: Multiple tex files.\n",
      "\n",
      "  exec(code_obj, self.user_global_ns, self.user_ns)\n",
      "/opt/hostedtoolcache/Python/3.9.15/x64/lib/python3.9/site-packages/IPython/core/interactiveshell.py:3433: LatexWarning: Found documentclass in tmp_2212.02513/Radiative_Driving_Models.tex\n",
      "\n",
      "  exec(code_obj, self.user_global_ns, self.user_ns)\n"
     ]
    },
    {
     "name": "stdout",
     "output_type": "stream",
     "text": [
      "extracting tarball to tmp_2212.02576... done.\n",
      "Retrieving document from  https://arxiv.org/e-print/2212.02579\n"
     ]
    },
    {
     "name": "stderr",
     "output_type": "stream",
     "text": [
      "/tmp/ipykernel_2013/4030337529.py:34: LatexWarning: 2212.02579 did not run properly\n",
      "not a gzip file\n",
      "  warnings.warn(latex.LatexWarning(f\"{paper_id:s} did not run properly\\n\" +\n"
     ]
    },
    {
     "name": "stdout",
     "output_type": "stream",
     "text": [
      "Retrieving document from  https://arxiv.org/e-print/2212.02594\n"
     ]
    },
    {
     "name": "stdout",
     "output_type": "stream",
     "text": [
      "extracting tarball to tmp_2212.02594..."
     ]
    },
    {
     "name": "stdout",
     "output_type": "stream",
     "text": [
      " done.\n",
      "Retrieving document from  https://arxiv.org/e-print/2212.02627\n"
     ]
    },
    {
     "name": "stderr",
     "output_type": "stream",
     "text": [
      "/opt/hostedtoolcache/Python/3.9.15/x64/lib/python3.9/site-packages/IPython/core/interactiveshell.py:3433: LatexWarning: Multiple tex files.\n",
      "\n",
      "  exec(code_obj, self.user_global_ns, self.user_ns)\n",
      "/opt/hostedtoolcache/Python/3.9.15/x64/lib/python3.9/site-packages/IPython/core/interactiveshell.py:3433: LatexWarning: Found documentclass in tmp_2212.02594/natbib.tex\n",
      "\n",
      "  exec(code_obj, self.user_global_ns, self.user_ns)\n"
     ]
    },
    {
     "name": "stdout",
     "output_type": "stream",
     "text": [
      "extracting tarball to tmp_2212.02627..."
     ]
    },
    {
     "name": "stdout",
     "output_type": "stream",
     "text": [
      " done.\n"
     ]
    },
    {
     "name": "stdout",
     "output_type": "stream",
     "text": [
      "Retrieving document from  https://arxiv.org/e-print/2212.02636\n"
     ]
    },
    {
     "name": "stdout",
     "output_type": "stream",
     "text": [
      "extracting tarball to tmp_2212.02636..."
     ]
    },
    {
     "name": "stdout",
     "output_type": "stream",
     "text": [
      " done.\n",
      "Retrieving document from  https://arxiv.org/e-print/2212.02667\n"
     ]
    },
    {
     "name": "stdout",
     "output_type": "stream",
     "text": [
      "extracting tarball to tmp_2212.02667..."
     ]
    },
    {
     "name": "stdout",
     "output_type": "stream",
     "text": [
      " done.\n"
     ]
    },
    {
     "name": "stderr",
     "output_type": "stream",
     "text": [
      "/opt/hostedtoolcache/Python/3.9.15/x64/lib/python3.9/site-packages/IPython/core/interactiveshell.py:3433: LatexWarning: Multiple tex files.\n",
      "\n",
      "  exec(code_obj, self.user_global_ns, self.user_ns)\n",
      "/opt/hostedtoolcache/Python/3.9.15/x64/lib/python3.9/site-packages/IPython/core/interactiveshell.py:3433: LatexWarning: Found documentclass in tmp_2212.02667/0_MAIN.tex\n",
      "\n",
      "  exec(code_obj, self.user_global_ns, self.user_ns)\n",
      "/opt/hostedtoolcache/Python/3.9.15/x64/lib/python3.9/site-packages/arxiv_on_deck_2/latex.py:292: LatexWarning: Latex injecting: '8_products' from 'tmp_2212.02667/8_products.tex'\n",
      "  warnings.warn(LatexWarning(f\"Latex injecting: '{ext}' from '{subsource}'\"))\n",
      "/opt/hostedtoolcache/Python/3.9.15/x64/lib/python3.9/site-packages/arxiv_on_deck_2/latex.py:292: LatexWarning: Latex injecting: '7_goals' from 'tmp_2212.02667/7_goals.tex'\n",
      "  warnings.warn(LatexWarning(f\"Latex injecting: '{ext}' from '{subsource}'\"))\n",
      "/opt/hostedtoolcache/Python/3.9.15/x64/lib/python3.9/site-packages/arxiv_on_deck_2/latex.py:292: LatexWarning: Latex injecting: '6_results' from 'tmp_2212.02667/6_results.tex'\n",
      "  warnings.warn(LatexWarning(f\"Latex injecting: '{ext}' from '{subsource}'\"))\n",
      "/opt/hostedtoolcache/Python/3.9.15/x64/lib/python3.9/site-packages/arxiv_on_deck_2/latex.py:292: LatexWarning: Latex injecting: '4_redux' from 'tmp_2212.02667/4_redux.tex'\n",
      "  warnings.warn(LatexWarning(f\"Latex injecting: '{ext}' from '{subsource}'\"))\n",
      "/opt/hostedtoolcache/Python/3.9.15/x64/lib/python3.9/site-packages/arxiv_on_deck_2/latex.py:292: LatexWarning: Latex injecting: '3_observations' from 'tmp_2212.02667/3_observations.tex'\n",
      "  warnings.warn(LatexWarning(f\"Latex injecting: '{ext}' from '{subsource}'\"))\n",
      "/opt/hostedtoolcache/Python/3.9.15/x64/lib/python3.9/site-packages/arxiv_on_deck_2/latex.py:292: LatexWarning: Latex injecting: '2_sample' from 'tmp_2212.02667/2_sample.tex'\n",
      "  warnings.warn(LatexWarning(f\"Latex injecting: '{ext}' from '{subsource}'\"))\n",
      "/opt/hostedtoolcache/Python/3.9.15/x64/lib/python3.9/site-packages/arxiv_on_deck_2/latex.py:292: LatexWarning: Latex injecting: '1_intro.tex' from 'tmp_2212.02667/1_intro.tex'\n",
      "  warnings.warn(LatexWarning(f\"Latex injecting: '{ext}' from '{subsource}'\"))\n",
      "/opt/hostedtoolcache/Python/3.9.15/x64/lib/python3.9/site-packages/arxiv_on_deck_2/latex.py:292: LatexWarning: Latex injecting: 'authors' from 'tmp_2212.02667/authors.tex'\n",
      "  warnings.warn(LatexWarning(f\"Latex injecting: '{ext}' from '{subsource}'\"))\n",
      "/opt/hostedtoolcache/Python/3.9.15/x64/lib/python3.9/site-packages/arxiv_on_deck_2/latex.py:292: LatexWarning: Latex injecting: 'affil' from 'tmp_2212.02667/affil.tex'\n",
      "  warnings.warn(LatexWarning(f\"Latex injecting: '{ext}' from '{subsource}'\"))\n"
     ]
    },
    {
     "name": "stdout",
     "output_type": "stream",
     "text": [
      "Retrieving document from  https://arxiv.org/e-print/2212.02677\n"
     ]
    },
    {
     "name": "stdout",
     "output_type": "stream",
     "text": [
      "extracting tarball to tmp_2212.02677..."
     ]
    },
    {
     "name": "stdout",
     "output_type": "stream",
     "text": [
      " done.\n",
      "Retrieving document from  https://arxiv.org/e-print/2212.02690\n"
     ]
    },
    {
     "name": "stderr",
     "output_type": "stream",
     "text": [
      "/opt/hostedtoolcache/Python/3.9.15/x64/lib/python3.9/site-packages/IPython/core/interactiveshell.py:3433: LatexWarning: Multiple tex files.\n",
      "\n",
      "  exec(code_obj, self.user_global_ns, self.user_ns)\n",
      "/opt/hostedtoolcache/Python/3.9.15/x64/lib/python3.9/site-packages/IPython/core/interactiveshell.py:3433: LatexWarning: Found documentclass in tmp_2212.02677/maintex.tex\n",
      "\n",
      "  exec(code_obj, self.user_global_ns, self.user_ns)\n",
      "/opt/hostedtoolcache/Python/3.9.15/x64/lib/python3.9/site-packages/arxiv_on_deck_2/latex.py:292: LatexWarning: Latex injecting: 'dagn_table' from 'tmp_2212.02677/dagn_table.tex'\n",
      "  warnings.warn(LatexWarning(f\"Latex injecting: '{ext}' from '{subsource}'\"))\n"
     ]
    },
    {
     "name": "stdout",
     "output_type": "stream",
     "text": [
      "extracting tarball to tmp_2212.02690... done.\n",
      "Retrieving document from  https://arxiv.org/e-print/2212.02734\n"
     ]
    },
    {
     "name": "stdout",
     "output_type": "stream",
     "text": [
      "extracting tarball to tmp_2212.02734..."
     ]
    },
    {
     "name": "stdout",
     "output_type": "stream",
     "text": [
      " done.\n",
      "Retrieving document from  https://arxiv.org/e-print/2212.02788\n"
     ]
    },
    {
     "name": "stdout",
     "output_type": "stream",
     "text": [
      "extracting tarball to tmp_2212.02788..."
     ]
    },
    {
     "name": "stdout",
     "output_type": "stream",
     "text": [
      " done.\n",
      "Retrieving document from  https://arxiv.org/e-print/2212.02832\n"
     ]
    },
    {
     "name": "stdout",
     "output_type": "stream",
     "text": [
      "extracting tarball to tmp_2212.02832..."
     ]
    },
    {
     "name": "stdout",
     "output_type": "stream",
     "text": [
      " done.\n",
      "Retrieving document from  https://arxiv.org/e-print/2212.02852\n"
     ]
    },
    {
     "name": "stdout",
     "output_type": "stream",
     "text": [
      "extracting tarball to tmp_2212.02852... done.\n",
      "Retrieving document from  https://arxiv.org/e-print/2212.02869\n"
     ]
    },
    {
     "name": "stdout",
     "output_type": "stream",
     "text": [
      "extracting tarball to tmp_2212.02869..."
     ]
    },
    {
     "name": "stdout",
     "output_type": "stream",
     "text": [
      " done.\n",
      "Retrieving document from  https://arxiv.org/e-print/2212.02873\n"
     ]
    },
    {
     "name": "stdout",
     "output_type": "stream",
     "text": [
      "extracting tarball to tmp_2212.02873..."
     ]
    },
    {
     "name": "stdout",
     "output_type": "stream",
     "text": [
      " done.\n",
      "Retrieving document from  https://arxiv.org/e-print/2212.02890\n"
     ]
    },
    {
     "name": "stdout",
     "output_type": "stream",
     "text": [
      "extracting tarball to tmp_2212.02890... done.\n",
      "Retrieving document from  https://arxiv.org/e-print/2212.02948\n"
     ]
    },
    {
     "name": "stdout",
     "output_type": "stream",
     "text": [
      "extracting tarball to tmp_2212.02948..."
     ]
    },
    {
     "name": "stdout",
     "output_type": "stream",
     "text": [
      " done.\n",
      "Retrieving document from  https://arxiv.org/e-print/2212.02960\n"
     ]
    },
    {
     "name": "stdout",
     "output_type": "stream",
     "text": [
      "extracting tarball to tmp_2212.02960..."
     ]
    },
    {
     "name": "stdout",
     "output_type": "stream",
     "text": [
      " done.\n",
      "Retrieving document from  https://arxiv.org/e-print/2212.03001\n"
     ]
    },
    {
     "name": "stdout",
     "output_type": "stream",
     "text": [
      "extracting tarball to tmp_2212.03001..."
     ]
    },
    {
     "name": "stdout",
     "output_type": "stream",
     "text": [
      " done.\n",
      "Retrieving document from  https://arxiv.org/e-print/2212.03215\n"
     ]
    },
    {
     "name": "stdout",
     "output_type": "stream",
     "text": [
      "extracting tarball to tmp_2212.03215..."
     ]
    },
    {
     "name": "stdout",
     "output_type": "stream",
     "text": [
      " done.\n"
     ]
    }
   ],
   "source": [
    "documents = []\n",
    "failed = []\n",
    "for paper in tqdm(candidates[:-1]):\n",
    "    paper_id = paper['identifier'].lower().replace('arxiv:', '')\n",
    "    \n",
    "    folder = f'tmp_{paper_id}'\n",
    "\n",
    "    try:\n",
    "        if not os.path.isdir(folder):\n",
    "            folder = retrieve_document_source(f\"{paper_id}\", f'tmp_{paper_id}')\n",
    "        \n",
    "        try:\n",
    "            doc = latex.LatexDocument(folder, validation=validation)    \n",
    "        except AffiliationError as affilerror:\n",
    "            msg = f\"ArXiv:{paper_id:s} is not an MPIA paper... \" + str(affilerror)\n",
    "            failed.append((paper, \"affiliation error: \" + str(affilerror) ))\n",
    "            continue\n",
    "        \n",
    "        # Hack because sometimes author parsing does not work well\n",
    "        if (len(doc.authors) != len(paper['authors'])):\n",
    "            doc._authors = paper['authors']\n",
    "        if (doc.abstract) in (None, ''):\n",
    "            doc._abstract = paper['abstract']\n",
    "            \n",
    "        doc.comment = (get_markdown_badge(paper_id) + \n",
    "                       \"<mark>Appeared on: \" + paper['date'] + \"</mark> - \" +\n",
    "                       \"_\" + paper['comments'] + \"_\")\n",
    "        doc.highlight_authors_in_list(hl_list)\n",
    "\n",
    "        full_md = doc.generate_markdown_text()\n",
    "        \n",
    "        documents.append((paper_id, full_md))\n",
    "    except Exception as e:\n",
    "        warnings.warn(latex.LatexWarning(f\"{paper_id:s} did not run properly\\n\" +\n",
    "                                         str(e)\n",
    "                                        ))\n",
    "        failed.append((paper, \"latex error \" + str(e)))"
   ]
  },
  {
   "cell_type": "markdown",
   "id": "2505a25c",
   "metadata": {
    "papermill": {
     "duration": 0.006388,
     "end_time": "2022-12-07T04:08:37.383317",
     "exception": false,
     "start_time": "2022-12-07T04:08:37.376929",
     "status": "completed"
    },
    "tags": []
   },
   "source": [
    "### Export the logs\n",
    "\n",
    "Throughout, we also keep track of the logs per paper. see `logs-{today date}.md` "
   ]
  },
  {
   "cell_type": "code",
   "execution_count": 6,
   "id": "d733828a",
   "metadata": {
    "execution": {
     "iopub.execute_input": "2022-12-07T04:08:37.398400Z",
     "iopub.status.busy": "2022-12-07T04:08:37.397112Z",
     "iopub.status.idle": "2022-12-07T04:08:37.435421Z",
     "shell.execute_reply": "2022-12-07T04:08:37.434727Z"
    },
    "papermill": {
     "duration": 0.047368,
     "end_time": "2022-12-07T04:08:37.437100",
     "exception": false,
     "start_time": "2022-12-07T04:08:37.389732",
     "status": "completed"
    },
    "scrolled": false,
    "tags": []
   },
   "outputs": [
    {
     "data": {
      "text/markdown": [
       "## Successful papers"
      ],
      "text/plain": [
       "<IPython.core.display.Markdown object>"
      ]
     },
     "metadata": {},
     "output_type": "display_data"
    },
    {
     "data": {
      "text/markdown": [
       "\n",
       "|||\n",
       "|---:|:---|\n",
       "| [![arXiv](https://img.shields.io/badge/arXiv-arXiv:2212.02627-b31b1b.svg)](https://arxiv.org/abs/arXiv:2212.02627) | **Formation of hub-filament structure triggered by cloud-cloud collision  in W33 complex**  |\n",
       "|| Jian-Wen Zhou, et al. -- incl., <mark>Shanghuo Li</mark>, <mark>Hong-Li Liu</mark>, <mark>Siju Zhang</mark>, <mark>Chao Zhang</mark>, <mark>Tie Liu</mark>, <mark>Jin-Zeng Li</mark> |\n",
       "|*Appeared on*| *2022-12-07*|\n",
       "|*Comments*| *18 pages*|\n",
       "|**Abstract**| Hub-filament systems are suggested to be birth cradles of high-mass stars and clusters, but the formation of hub-filament structure is still unclear. Using the survey data FUGIN $^{13}$CO (1-0), C$^{18}$O (1-0), and SEDIGISM $^{13}$CO (2-1), we investigate formation of hub-filament structure in W33 complex. W33 complex consists of two colliding clouds, called W33-blue and W33-red. We decompose the velocity structures in W33-blue by fitting multiple velocity components, and find a continuous and monotonic velocity field. Virial parameters of Dendrogram structures suggest the dominance of gravity in W33-blue. The strong positive correlation between velocity dispersion and column density indicates the non-thermal motions in W33-blue may originate from gravitationally driven collapse. These signatures suggest that the filamentary structures in W33-blue result from the gravitational collapse of the compressed layer. However, the large scale velocity gradient in W33-blue may mainly originate from the cloud-cloud collision and feedback of active star formation, instead of the filament-rooted longitudinal inflow. From the above observed results, we argue that the cloud-cloud collision triggers formation of hub-filament structures in W33 complex. Meanwhile, the appearance of multiple-scale hub-filament structures in W33-blue is likely an imprint of the transition from the compressed layer to a hub-filament system. |"
      ],
      "text/plain": [
       "[arXiv:2212.02627] Formation of hub-filament structure triggered by cloud-cloud collision  in W33 complex\n",
       "\tJian-Wen Zhou, et al. -- incl., <mark>Shanghuo Li</mark>, <mark>Hong-Li Liu</mark>, <mark>Siju Zhang</mark>, <mark>Chao Zhang</mark>, <mark>Tie Liu</mark>, <mark>Jin-Zeng Li</mark>"
      ]
     },
     "metadata": {},
     "output_type": "display_data"
    },
    {
     "data": {
      "text/markdown": [
       "\n",
       "|||\n",
       "|---:|:---|\n",
       "| [![arXiv](https://img.shields.io/badge/arXiv-arXiv:2212.02667-b31b1b.svg)](https://arxiv.org/abs/arXiv:2212.02667) | **The PHANGS-JWST Treasury Survey: Star Formation, Feedback, and Dust  Physics at High Angular resolution in Nearby GalaxieS**  |\n",
       "|| <mark>Janice C. Lee</mark>, et al. -- incl., <mark>Eva Schinnerer</mark>, <mark>Frank Bigiel</mark>, <mark>Kiana F. Henny</mark>, <mark>Jonathan D. Henshaw</mark>, <mark>Annie Hughes</mark>, <mark>Kathryn Kreckel</mark>, <mark>Jing Li</mark>, <mark>Daizhong Liu</mark> |\n",
       "|*Appeared on*| *2022-12-07*|\n",
       "|*Comments*| *Re-submitted after addressing minor comments from referee. To be published as part of PHANGS-JWST ApJL Focus Issue*|\n",
       "|**Abstract**| The PHANGS collaboration has been building a reference dataset for the multi-scale, multi-phase study of star formation and the interstellar medium in nearby galaxies. With the successful launch and commissioning of JWST, we can now obtain high-resolution infrared imaging to probe the youngest stellar populations and dust emission on the scales of star clusters and molecular clouds ($\\sim$5-50 pc). In Cycle 1, PHANGS is conducting an 8-band imaging survey from 2-21$\\mu$m of 19 nearby spiral galaxies. CO(2-1) mapping, optical integral field spectroscopy, and UV-optical imaging for all 19 galaxies have been obtained through large programs with ALMA, VLT/MUSE, and Hubble. PHANGS-JWST enables a full inventory of star formation, accurate measurement of the mass and age of star clusters, identification of the youngest embedded stellar populations, and characterization of the physical state of small dust grains. When combined with Hubble catalogs of $\\sim$10,000 star clusters, MUSE spectroscopic mapping of $\\sim$20,000 HII regions, and $\\sim$12,000 ALMA-identified molecular clouds, it becomes possible to measure the timescales and efficiencies of the earliest phases of star formation and feedback, build an empirical model of the dependence of small dust grain properties on local ISM conditions, and test our understanding of how dust-reprocessed starlight traces star formation activity, all across a diversity of galactic environments. Here we describe the PHANGS-JWST Treasury survey, present the remarkable imaging obtained in the first few months of science operations, and provide context for the initial results presented in the first series of PHANGS-JWST publications. |"
      ],
      "text/plain": [
       "[arXiv:2212.02667] The PHANGS-JWST Treasury Survey: Star Formation, Feedback, and Dust  Physics at High Angular resolution in Nearby GalaxieS\n",
       "\t<mark>Janice C. Lee</mark>, et al. -- incl., <mark>Eva Schinnerer</mark>, <mark>Frank Bigiel</mark>, <mark>Kiana F. Henny</mark>, <mark>Jonathan D. Henshaw</mark>, <mark>Annie Hughes</mark>, <mark>Kathryn Kreckel</mark>, <mark>Jing Li</mark>, <mark>Daizhong Liu</mark>"
      ]
     },
     "metadata": {},
     "output_type": "display_data"
    },
    {
     "data": {
      "text/markdown": [
       "## Failed papers"
      ],
      "text/plain": [
       "<IPython.core.display.Markdown object>"
      ]
     },
     "metadata": {},
     "output_type": "display_data"
    },
    {
     "data": {
      "text/markdown": [
       "\n",
       "|||\n",
       "|---:|:---|\n",
       "| [![arXiv](https://img.shields.io/badge/arXiv-arXiv:2212.02677-b31b1b.svg)](https://arxiv.org/abs/arXiv:2212.02677) | **SDSS-IV MaNGA: How Galaxy Interactions Influence Active Galactic Nuclei**  |\n",
       "|| Joshua L. Steffen, et al. -- incl., <mark>Joel R. Brownstein</mark>, <mark>Arran C. Gross</mark> |\n",
       "|*Appeared on*| *2022-12-07*|\n",
       "|*Comments*| *To be published in ApJ. The pair sample is based on the catalog presented in the following work, this https URL*|\n",
       "|**Abstract**| We present a comparative study of active galactic nuclei (AGN) between galaxy pairs and isolated galaxies with the final data release of the MaNGA integral field spectroscopic survey. We build a sample of 391 kinematic galaxy pairs within the footprint of the survey and select AGN using the survey's spectra. We use the comoving volume densities of the AGN samples to quantify the effects that tidal interactions have on the triggering of nuclear accretion. Our hypothesis is that the pair sample contains AGN that are triggered by not only stochastic accretion but also tidally induced accretion and correlated accretion. With the level of stochastically triggered AGN fixed by the control sample, we model the strength of tidally induced accretion and correlated accretion as a function of projected separation (rp) and compare the model expectations with the observed volume densities of dual AGN and offset AGN (single AGN in a pair). At rp ~ 10 kpc, we find that tidal interactions induce ~30% more AGN than stochastic fueling and cause ~12% of the offset AGN to become dual AGN because of correlations. The strength of both these effects decreases with increasing rp. We also find that the OIII luminosities of the AGN in galaxy pairs are consistent with those found in isolated galaxies, likely because stochastically fed AGN dominate even among close pairs. Our results illustrates that while we can detect tidally induced effects statistically, it is challenging to separate tidally induced AGN and stochastically triggered AGN in interacting galaxies. |\n",
       "|<p style=\"color:green\"> **ERROR** </p>| <p style=\"color:green\">affiliation error: mpia.affiliation_verifications: '69117' keyword not found.</p> |"
      ],
      "text/plain": [
       "<IPython.core.display.Markdown object>"
      ]
     },
     "metadata": {},
     "output_type": "display_data"
    },
    {
     "data": {
      "text/markdown": [
       "\n",
       "|||\n",
       "|---:|:---|\n",
       "| [![arXiv](https://img.shields.io/badge/arXiv-arXiv:2212.02510-b31b1b.svg)](https://arxiv.org/abs/arXiv:2212.02510) | **The formation of the brightest cluster galaxy and intracluster light in  cosmological N-body simulations with the Galaxy Replacement Technique**  |\n",
       "|| Kyungwon Chun, et al. -- incl., <mark>Rory Smith</mark> |\n",
       "|*Appeared on*| *2022-12-07*|\n",
       "|*Comments*| *18 pages, 8 figures, 4 tables. Accepted for publication in The Astrophysical Journal, December 3rd, 2022*|\n",
       "|**Abstract**| We investigate the formation channels of the intracluster light (ICL) and the brightest cluster galaxy (BCG) in clusters at $z=0$. For this, we perform multi-resolution cosmological N-body simulations using the \"Galaxy Replacement Technique\" (GRT). We study the formation channels of the ICL and BCG as a function of distance from the cluster center and the dynamical state of the clusters at $z=0$. To do this, we trace back the stars of the ICL and BCG, and identify the stellar components in which they existed when they first fell into the clusters. We find that the progenitors of the ICL and BCG in the central region of the cluster fell earlier and with a higher total mass ratio of the progenitors to the cluster compared to the outer region. This causes a negative radial gradient in the infall time and total mass ratio of the progenitors. Although stellar mass of the progenitors does not show the same radial gradient in all clusters, massive galaxies ($M_{\\rm{gal}} > 10^{10}~M_{\\odot}~h^{-1}$) are the dominant formation channel of the ICL and BCG for all clusters, except for our most relaxed cluster. For clusters that are dynamically more unrelaxed, we find that the progenitors of the ICL and BCG fall into their clusters more recently, and with a higher mass and mass ratio. Furthermore, we find that the diffuse material of massive galaxies and group-mass halos that is formed by pre-processing contributes significantly to the ICL in the outer region of the unrelaxed clusters. |\n",
       "|<p style=\"color:green\"> **ERROR** </p>| <p style=\"color:green\">affiliation error: mpia.affiliation_verifications: 'Heidelberg' keyword not found.</p> |"
      ],
      "text/plain": [
       "<IPython.core.display.Markdown object>"
      ]
     },
     "metadata": {},
     "output_type": "display_data"
    },
    {
     "data": {
      "text/markdown": [
       "\n",
       "|||\n",
       "|---:|:---|\n",
       "| [![arXiv](https://img.shields.io/badge/arXiv-arXiv:2212.02512-b31b1b.svg)](https://arxiv.org/abs/arXiv:2212.02512) | **COSMOS2020: The Galaxy Stellar Mass Function: On the assembly and star  formation cessation of galaxies at $0.2\\lt z \\leq 7.5$**  |\n",
       "|| J. R. Weaver, et al. -- incl., <mark>K. M. L. Gould</mark>, <mark>D. Liu</mark> |\n",
       "|*Appeared on*| *2022-12-07*|\n",
       "|*Comments*| *37 pages, 24 figures, submitted to A&A. Comments welcome! Data files containing key measurements will be made available to download upon acceptance*|\n",
       "|**Abstract**| How galaxies form, assemble, and cease their star-formation is a central question within the modern landscape of galaxy evolution studies. These processes are indelibly imprinted on the galaxy stellar mass function (SMF). We present constraints on the shape and evolution of the SMF, the quiescent galaxy fraction, and the cosmic stellar mass density across 90% of the history of the Universe from $z=7.5\\rightarrow0.2$ via the COSMOS survey. Now with deeper and more homogeneous near-infrared coverage exploited by the COSMOS2020 catalog, we leverage the large 1.27 deg$^{2}$ effective area to improve sample statistics and understand cosmic variance particularly for rare, massive galaxies and push to higher redshifts with greater confidence and mass completeness than previous studies. We divide the total stellar mass function into star-forming and quiescent sub-samples through $NUVrJ$ color-color selection. Measurements are then fitted with Schechter functions to infer the intrinsic SMF, the evolution of its key parameters, and the cosmic stellar mass density out to $z=7.5$. We find a smooth, monotonic evolution in the galaxy SMF since $z=7.5$, in agreement with previous studies. The number density of star-forming systems seems to have undergone remarkably consistent growth spanning four decades in stellar mass from $z=7.5\\rightarrow2$ whereupon high-mass systems become predominantly quiescent (i.e. downsizing). An excess of massive systems at $z\\sim2.5-5.5$ with strikingly red colors, some newly identified, increase the observed number densities to the point where the SMF cannot be reconciled with a Schechter function. Systematics including cosmic variance and/or AGN contamination are unlikely to fully explain this excess, and so we speculate that there may be contributions from dust-obscured objects similar to those found in FIR surveys. (abridged) |\n",
       "|<p style=\"color:green\"> **ERROR** </p>| <p style=\"color:green\">affiliation error: mpia.affiliation_verifications: 'Heidelberg' keyword not found.</p> |"
      ],
      "text/plain": [
       "<IPython.core.display.Markdown object>"
      ]
     },
     "metadata": {},
     "output_type": "display_data"
    },
    {
     "data": {
      "text/markdown": [
       "\n",
       "|||\n",
       "|---:|:---|\n",
       "| [![arXiv](https://img.shields.io/badge/arXiv-arXiv:2212.02513-b31b1b.svg)](https://arxiv.org/abs/arXiv:2212.02513) | **Investigating the Narrow Line Region Dynamics in Nearby Active Galaxies**  |\n",
       "|| Beena Meena, et al. -- incl., <mark>Henrique R. Schmitt</mark>, <mark>Travis C. Fischer</mark> |\n",
       "|*Appeared on*| *2022-12-07*|\n",
       "|*Comments*| *36 pages, 10 Figures, 5 Tables, 7 supplementary Figures, Accepted for publication in ApJ*|\n",
       "|**Abstract**| We present dynamical models of the narrow line region (NLR) outflows in the nearby Seyfert galaxies Mrk 3, Mrk 78, NGC 1068, and NGC 4151 using observations from the Hubble Space Telescope and Apache Point Observatory. We employ long-slit spectroscopy to map the spatially-resolved outflow and rotational velocities of the ionized gas. We also perform surface brightness decompositions of host galaxy images to constrain the enclosed stellar mass distributions as functions of distance from the supermassive black holes (SMBHs). Assuming that the NLR gas is accelerated by AGN radiation pressure, and subsequently decelerated by the host galaxy and SMBH gravitational potentials, we derive outflow velocity profiles where the gas is launched in situ at multiple distances from the SMBH. We find a strong correlation between the turnover (from acceleration to deceleration) radii from our models, with the turnovers seen in the observed velocities and spatially-resolved mass outflow rates for the AGN with bolometric luminosities $>$ 10$^{44}$ erg sec$^{-1}$. This consistency indicates that radiation pressure is the dominant driving mechanism behind the NLR outflows in these moderate-luminosity AGN, with a force multiplier $\\sim$500 yielding the best agreement between the modeled and observed turnover radii. However, in Meena2021 we found that this trend may not hold at lower luminosities, where our modeled turnover distance for NGC 4051 is much smaller than in the observed kinematics. This result may indicate that either additional force(s) are responsible for accelerating the NLR outflows in low-luminosity AGN, or higher spatial resolution observations are required to quantify their turnover radii. |\n",
       "|<p style=\"color:green\"> **ERROR** </p>| <p style=\"color:green\">affiliation error: mpia.affiliation_verifications: 'Heidelberg' keyword not found.</p> |"
      ],
      "text/plain": [
       "<IPython.core.display.Markdown object>"
      ]
     },
     "metadata": {},
     "output_type": "display_data"
    },
    {
     "data": {
      "text/markdown": [
       "\n",
       "|||\n",
       "|---:|:---|\n",
       "| [![arXiv](https://img.shields.io/badge/arXiv-arXiv:2212.02576-b31b1b.svg)](https://arxiv.org/abs/arXiv:2212.02576) | **Real-time Data Ingestion at the Keck Observatory Archive (KOA)**  |\n",
       "|| G. Bruce Berriman, et al. -- incl., <mark>M. Brown</mark>, <mark>C.-H. Lee</mark> |\n",
       "|*Appeared on*| *2022-12-07*|\n",
       "|*Comments*| *4 pages, 3 figures*|\n",
       "|**Abstract**| Since February of this year, KOA began to prepare, transfer, and ingest data as they were acquired in near-real time; in most cases data are available to observers through KOA within one minute of acquisition. Real-time ingestion will be complete for all active instruments by the end of Summer 2022. The observatory is supporting the development of modern Python data reduction pipelines, which when delivered, will automatically create science-ready data sets at the end of each night for ingestion into the archive. This presentation will describe the infrastructure developed to support real-time data ingestion, itself part of a larger initiative at the Observatory to modernize end-to-end operations. During telescope operations, the software at WMKO is executed automatically when a newly acquired file is recognized through monitoring a keyword-based observatory control system; this system is used at Keck to execute virtually all observatory functions. The monitor uses callbacks built into the control system to begin data preparation of files for transmission to the archive on an individual basis: scheduling scripts or file system related triggers are unnecessary. An HTTP-based system called from the Flask micro-framework enables file transfers between WMKO and NExScI and triggers data ingestion at NExScI. The ingestion system at NEXScI is a compact (4 KLOC), highly fault-tolerant, Python-based system. It uses a shared file system to transfer data from WMKO to NExScI. The ingestion code is instrument agnostic, with instrument parameters read from configuration files. It replaces an unwieldy (50 KLOC) C-based system that had been in use since 2004. |\n",
       "|<p style=\"color:green\"> **ERROR** </p>| <p style=\"color:green\">affiliation error: mpia.affiliation_verifications: 'Heidelberg' keyword not found.</p> |"
      ],
      "text/plain": [
       "<IPython.core.display.Markdown object>"
      ]
     },
     "metadata": {},
     "output_type": "display_data"
    },
    {
     "data": {
      "text/markdown": [
       "\n",
       "|||\n",
       "|---:|:---|\n",
       "| [![arXiv](https://img.shields.io/badge/arXiv-arXiv:2212.02594-b31b1b.svg)](https://arxiv.org/abs/arXiv:2212.02594) | **Coma Off It: Removing Variable Point Spread Functions from Astronomical  Images**  |\n",
       "|| <mark>J. M. Hughes</mark>, C. E. DeForest, D. B. Seaton |\n",
       "|*Appeared on*| *2022-12-07*|\n",
       "|*Comments*| *11 pages; submitted to Astrophysical Journal*|\n",
       "|**Abstract**| We describe a method for regularizing, post-facto, the point-spread function of a telescope or other imaging instrument, across its entire field of view. Imaging instruments in general blur point sources of light by local convolution with a point-spread function that varies slowly across the field of view, due to coma, spherical aberration, and similar effects. It is possible to regularize the PSF in post-processing, producing data with a uniform and narrow ``effective PSF'' across the entire field of view. In turn, the method enables seamless wide-field astronomical mosaics at higher resolution than would otherwise be achievable, and potentially changes the design trade space for telescopes, lenses, and other optical systems where data uniformity is important. The method does not require access to the instrument that required the data, and can be bootstrapped from existing data sets that include starfield images. |\n",
       "|<p style=\"color:green\"> **ERROR** </p>| <p style=\"color:green\">affiliation error: mpia.affiliation_verifications: 'Heidelberg' keyword not found.</p> |"
      ],
      "text/plain": [
       "<IPython.core.display.Markdown object>"
      ]
     },
     "metadata": {},
     "output_type": "display_data"
    },
    {
     "data": {
      "text/markdown": [
       "\n",
       "|||\n",
       "|---:|:---|\n",
       "| [![arXiv](https://img.shields.io/badge/arXiv-arXiv:2212.02636-b31b1b.svg)](https://arxiv.org/abs/arXiv:2212.02636) | **Cosmic Sands: The Origin of Dusty, Star-forming Galaxies in the Epoch of  Reionization**  |\n",
       "|| Sidney Lower, Desika Narayanan, <mark>Qi Li</mark>, Romeel Davé |\n",
       "|*Appeared on*| *2022-12-07*|\n",
       "|*Comments*| *Submitted to ApJ, main text 17 pages, 12 figures. Comments welcome!*|\n",
       "|**Abstract**| We present the Cosmic Sands suite of cosmological zoom-in simulations based on the Simba galaxy formation model in order to study the build up of the first massive and dusty galaxies in the early Universe. Residing in the most massive halos, we find that the compact proto-massive galaxies undergo nearly continuous mergers with smaller subhalos, boosting star formation rates (SFRs) and the build up of stellar mass. The galaxies are already appreciably chemically evolved by z=10, with modeled dust masses comparable to those inferred from observations in the same epoch. We track gas accretion onto the galaxies to understand how extreme SFRs can be sustained by these early systems. We find that smooth gas accretion can maintain SFRs above 250 M$_{\\odot}$ / yr but to achieve SFRs that boost galaxies well above the main sequence, a larger perturbation like a gas-rich major merger is necessary to trigger a starburst episode. Post-processing the Cosmic Sands simulations with dust radiative transfer, we find that while the infrared luminosities of the most dust rich galaxies are comparable to local ULIRGs, they are substantially dimmer than classical z=2 sub-millimeter galaxies. We end with a discussion on the possible reasons for this discrepancy at the highest masses and the future work we intend to carry out to study the chemical enrichment of the earliest dusty galaxies. |\n",
       "|<p style=\"color:green\"> **ERROR** </p>| <p style=\"color:green\">affiliation error: mpia.affiliation_verifications: 'Heidelberg' keyword not found.</p> |"
      ],
      "text/plain": [
       "<IPython.core.display.Markdown object>"
      ]
     },
     "metadata": {},
     "output_type": "display_data"
    },
    {
     "data": {
      "text/markdown": [
       "\n",
       "|||\n",
       "|---:|:---|\n",
       "| [![arXiv](https://img.shields.io/badge/arXiv-arXiv:2212.02690-b31b1b.svg)](https://arxiv.org/abs/arXiv:2212.02690) | **Standing Sausage Perturbations in Solar Coronal Slabs with Continuous  Transverse Density Profiles: cutoff wavenumbers, evanescent eigenmodes, and  oscillatory continuum**  |\n",
       "|| Zexing Wang, <mark>Bo Li</mark>, Shao-Xia Chen, Mijie Shi |\n",
       "|*Appeared on*| *2022-12-07*|\n",
       "|*Comments*| *32 pages, 8 figures, accepted for publication in ApJ*|\n",
       "|**Abstract**| The lack of observed sausage perturbations in solar active region loops is customarily attributed to the relevance of cutoff axial wavenumbers and the consequent absence of trapped modes (called ``evanescent eigenmodes'' here). However, some recent eigenvalue problem studies yield that cutoff wavenumbers may disappear for those equilibria where the external density varies sufficiently slowly, thereby casting doubt on the rarity of candidate sausage perturbations. We examine the responses of straight, transversely structured, coronal slabs to small-amplitude sausage-type perturbations that excite axial fundamentals by solving the pertinent initial value problem with eigensolutions for a closed domain. The density variation in the slab exterior is dictated by some steepness parameter $\\mu$, and cutoff wavenumbers are theoretically expected to be present (absent) when $\\mu \\ge 2$ ($\\mu < 2$). However, our numerical results show no qualitative difference in the system evolution when $\\mu$ varies, despite the differences in the modal behavior. Only oscillatory eigenmodes are permitted when $\\mu \\ge 2$. Our discrete eigenspectrum becomes increasingly closely spaced when the domain broadens, and an oscillatory continuum results for a truly open system. Oscillatory eigenmodes remain allowed and dominate the system evolution when $\\mu <2$. We show that the irrelevance of cutoff wavenumbers does not mean that all fast waves are evanescent. Rather, it means that an increasing number of evanescent eigenmodes emerge when the domain size increases. We conclude that sausage perturbations remain difficult to detect even for the waveguide formulated here. |\n",
       "|<p style=\"color:green\"> **ERROR** </p>| <p style=\"color:green\">affiliation error: mpia.affiliation_verifications: 'Heidelberg' keyword not found.</p> |"
      ],
      "text/plain": [
       "<IPython.core.display.Markdown object>"
      ]
     },
     "metadata": {},
     "output_type": "display_data"
    },
    {
     "data": {
      "text/markdown": [
       "\n",
       "|||\n",
       "|---:|:---|\n",
       "| [![arXiv](https://img.shields.io/badge/arXiv-arXiv:2212.02734-b31b1b.svg)](https://arxiv.org/abs/arXiv:2212.02734) | **A theoretical study of the time-lags due to Comptonization and the  constraints on the X-ray corona in AGN**  |\n",
       "|| <mark>W. Zhang</mark>, et al. |\n",
       "|*Appeared on*| *2022-12-07*|\n",
       "|*Comments*| *16 pages, 17 figures; accepted for publication in MNRAS*|\n",
       "|**Abstract**| We study the Fourier time-lags due to the Comptonization of disc-emitted photons in a spherical, uniform, and stationary X-ray corona, which located on the rotational axis of the black hole. We use Monk, a general relativistic Monte-Carlo radiative transfer code, to calculate Compton scattering of photons emitted by a thin disc with a Novikov-Thorne temperature profile. We find that the model time-lags due to Comptonization remain constant up to a characteristic frequency and then rapidly decrease to zero at higher frequencies. We provide equations which can be used to determine the time-lags and cross spectra for a wide range of values for the corona radius, temperature, optical depth, height, and for various accretion rates and black hole masses. We also provide an equation for the X-ray luminosity of a single corona, as a function of the its characteristics and location above the disc. Remarkably, the observed X-ray time-lags of nearby, bright active galaxies can be successfully reproduced by inverse Comptonization process of multiple dynamic coronae. |\n",
       "|<p style=\"color:green\"> **ERROR** </p>| <p style=\"color:green\">affiliation error: mpia.affiliation_verifications: 'Heidelberg' keyword not found.</p> |"
      ],
      "text/plain": [
       "<IPython.core.display.Markdown object>"
      ]
     },
     "metadata": {},
     "output_type": "display_data"
    },
    {
     "data": {
      "text/markdown": [
       "\n",
       "|||\n",
       "|---:|:---|\n",
       "| [![arXiv](https://img.shields.io/badge/arXiv-arXiv:2212.02788-b31b1b.svg)](https://arxiv.org/abs/arXiv:2212.02788) | **An Ap star catalog based on LAMOST DR9**  |\n",
       "|| Fangfei Shi, et al. -- incl., <mark>Huawei Zhang</mark> |\n",
       "|*Appeared on*| *2022-12-07*|\n",
       "|*Comments*| **|\n",
       "|**Abstract**| We present a sample of 2700 Ap stars in LAMOST DR9. The candidates are first selected to be in a temperature range typical of Ap stars by using the $BP$-$RP$ color index from Gaia DR3. Then the 5200\\,\\AA\\ flux depression features characteristic of Ap stars are visually checked in LAMOST DR9 spectra. The detailed spectral features are given by applying a modified spectral classification program, MKCLASS. Stellar parameters of these Ap stars such as $T_{\\rm eff}$, $\\log g$, [Fe/H], [Si/H], and $v{\\sin}i$ are either extracted from a hot star catalog or derived through empirical relations and then a statistical analysis is carried out. The evolutionary stages are also discussed. Finally, we discuss the rotation and pulsation features of those who have TESS or Kepler light curves. Among these Ap stars we find 7 new rotation variables, 1 new roAp star, and new $\\delta$ Scuti pulsation of a previously known roAp star. |\n",
       "|<p style=\"color:green\"> **ERROR** </p>| <p style=\"color:green\">affiliation error: mpia.affiliation_verifications: 'Heidelberg' keyword not found.</p> |"
      ],
      "text/plain": [
       "<IPython.core.display.Markdown object>"
      ]
     },
     "metadata": {},
     "output_type": "display_data"
    },
    {
     "data": {
      "text/markdown": [
       "\n",
       "|||\n",
       "|---:|:---|\n",
       "| [![arXiv](https://img.shields.io/badge/arXiv-arXiv:2212.02832-b31b1b.svg)](https://arxiv.org/abs/arXiv:2212.02832) | **Convection and Clouds under Different Planetary Gravities Simulated by a  Small-domain Cloud-resolving Model**  |\n",
       "|| <mark>Jiachen Liu</mark>, Jun Yang, <mark>Yixiao Zhang</mark>, Zhihong Tan |\n",
       "|*Appeared on*| *2022-12-07*|\n",
       "|*Comments*| **|\n",
       "|**Abstract**| In this study, we employ a cloud-resolving model (CRM) to investigate how gravity influences convection and clouds in a small-domain (96 km by 96 km) radiative-convective equilibrium (RCE). Our experiments are performed with a horizontal grid spacing of 1 km, which can resolve large (> 1 km$^2$) convective cells. We find that under a given stellar flux, sea surface temperature increases with decreasing gravity. This is because a lower-gravity planet has larger water vapor content and more clouds, resulting in a larger clear-sky greenhouse effect and a stronger cloud warming effect in the small domain. By increasing stellar flux under different gravity values, we find that the convection shifts from a quasi-steady state to an oscillatory state. In the oscillatory state, there are convection cycles with a period of several days, comprised of a short wet phase with intense surface precipitation and a dry phase with no surface precipitation. When convection shifts to the oscillatory state, water vapor content and high-level cloud fraction increase substantially, resulting in rapid warming. After the transition to the oscillatory state, the cloud net positive radiative effect decreases with increasing stellar flux, which indicates a stabilizing climate effect. In the quasi-steady state, the atmospheric absorption features of CO$_2$ are more detectable on lower-gravity planets because of their larger atmospheric heights. While in the oscillatory state, the high-level clouds mute almost all the absorption features, making the atmospheric components hard to be characterized. |\n",
       "|<p style=\"color:green\"> **ERROR** </p>| <p style=\"color:green\">affiliation error: mpia.affiliation_verifications: 'Heidelberg' keyword not found.</p> |"
      ],
      "text/plain": [
       "<IPython.core.display.Markdown object>"
      ]
     },
     "metadata": {},
     "output_type": "display_data"
    },
    {
     "data": {
      "text/markdown": [
       "\n",
       "|||\n",
       "|---:|:---|\n",
       "| [![arXiv](https://img.shields.io/badge/arXiv-arXiv:2212.02852-b31b1b.svg)](https://arxiv.org/abs/arXiv:2212.02852) | **The impacts of A/E channels on stochastic gravitational wave background  detection**  |\n",
       "|| <mark>Zheng-Cheng Liang</mark>, et al. -- incl., <mark>Zhi-Yuan-Li</mark>, <mark>En-Kun Li</mark>, <mark>Jian-dong Zhang</mark> |\n",
       "|*Appeared on*| *2022-12-07*|\n",
       "|*Comments*| *18 pages,10 figures*|\n",
       "|**Abstract**| The method of time delay interferometry (TDI) is proposed to cancel the laser noise in space-borne gravitational-wave detectors. Among all different TDI combinations, the most commonly used ones are the orthogonal channels A, E and T, where A and E are signal-sensitive and T is signal-insensitive. Meanwhile, for the detection of stochastic gravitational-wave background, one needs to introduce the overlap reduction function to characterize the correlation between channels. For the calculation of overlap reduction function, it is often convenient to work in the low-frequency approximation, and assuming the equal-arm Michelson channels. However, if one wishes to work on the overlap reduction function of $\\rm A/E$ channels, then the low-frequency approximation fails. We derive the exact form of overlap reduction function for $\\rm A/E$ channels. Based on the overlap reduction function, we calculate the sensitivity curves of TianQin, TianQin I+II and TianQin + LISA. We conclude that the detection sensitivity calculated with $\\rm A/E$ channels is mostly consistent with that obtained from the equal-arm Michelson channels. |\n",
       "|<p style=\"color:green\"> **ERROR** </p>| <p style=\"color:green\">affiliation error: mpia.affiliation_verifications: 'Heidelberg' keyword not found.</p> |"
      ],
      "text/plain": [
       "<IPython.core.display.Markdown object>"
      ]
     },
     "metadata": {},
     "output_type": "display_data"
    },
    {
     "data": {
      "text/markdown": [
       "\n",
       "|||\n",
       "|---:|:---|\n",
       "| [![arXiv](https://img.shields.io/badge/arXiv-arXiv:2212.02869-b31b1b.svg)](https://arxiv.org/abs/arXiv:2212.02869) | **Optimum Range of Frequency for Thermal Dust Removal in ECHO**  |\n",
       "|| Aparajita Sen, et al. -- incl., <mark>Tuhin Ghosh</mark> |\n",
       "|*Appeared on*| *2022-12-07*|\n",
       "|*Comments*| *13 pages, 9 Figures*|\n",
       "|**Abstract**| The Indian Consortium of Cosmologists has proposed a fourth-generation CMB space mission aiming to detect the primordial B-mode of Cosmic Microwave Background(CMB) polarization. The detection of this faint signal is very challenging as it is deeply buried under the dominant astrophysical foreground emissions of the thermal dust and the synchrotron. To facilitate the adequate subtraction of thermal dust, the instrument design of ECHO has included nine dust-dominated high frequency channels in the range of 220-850 GHz. In this work, we closely re-examine the utility of the high frequency ECHO bands using the Needlet Internal Linear Combination(NILC) component separation method. We consider three dust models; a dust SED with single modified black body(MBB) emission law, a physical dust model and a multilayer dust model with frequency-frequency decorrelation. We find that the ECHO bands in the range of 220-390 GHz are most crucial for effective dust removal. The addition of high frequency channels in the 600-850 GHz range leads to only a slight improvement in the sensitivity of ECHO for the single MBB model and no significant improvement for the more complex physical and multilayer dust models. |\n",
       "|<p style=\"color:green\"> **ERROR** </p>| <p style=\"color:green\">affiliation error: mpia.affiliation_verifications: 'Heidelberg' keyword not found.</p> |"
      ],
      "text/plain": [
       "<IPython.core.display.Markdown object>"
      ]
     },
     "metadata": {},
     "output_type": "display_data"
    },
    {
     "data": {
      "text/markdown": [
       "\n",
       "|||\n",
       "|---:|:---|\n",
       "| [![arXiv](https://img.shields.io/badge/arXiv-arXiv:2212.02873-b31b1b.svg)](https://arxiv.org/abs/arXiv:2212.02873) | **Application of a magnetic-field-induced transition in Fe X to solar and  stellar coronal magnetic field measurements**  |\n",
       "|| Yajie Chen, et al. -- incl., <mark>Wenxian Li</mark> |\n",
       "|*Appeared on*| *2022-12-07*|\n",
       "|*Comments*| *Accepted for Research in Astronomy and Astrophysics*|\n",
       "|**Abstract**| Magnetic fields play a key role in driving a broad range of dynamic phenomena in the atmospheres of the Sun and other stars. Routine and accurate measurements of the magnetic fields at all the atmospheric layers are of critical importance to understand these magnetic activities, but in the solar and stellar coronae such a measurement is still a challenge due to the weak field strength and the high temperature. Recently, a magnetic-field-induced transition (MIT) of Fe X at 257.26 {\\AA} has been proposed for the magnetic field measurements in the solar and stellar coronae. In this review, we present an overview of recent progresses in the application of this method in astrophysics. We start by introducing the theory underlying the MIT method and reviewing the existing atomic data critical for the spectral modeling of Fe X lines. We also discuss the laboratory measurements that verify the potential capability of the MIT technique as a probe for diagnosing the plasma magnetic fields. We then continue by investigating the suitability and accuracy of solar and stellar coronal magnetic field measurements based on the MIT method through forward modeling. Furthermore, we discuss the application of the MIT method to the existing spectroscopic observations obtained by the Extreme-ultraviolet Imaging Spectrometer onboard Hinode. This novel technique provides a possible way for routine measurements of the magnetic fields in the solar and stellar coronae, but still requires further efforts to improve its accuracy. Finally, the challenges and prospects for future research on this topic are discussed. |\n",
       "|<p style=\"color:green\"> **ERROR** </p>| <p style=\"color:green\">affiliation error: mpia.affiliation_verifications: 'Heidelberg' keyword not found.</p> |"
      ],
      "text/plain": [
       "<IPython.core.display.Markdown object>"
      ]
     },
     "metadata": {},
     "output_type": "display_data"
    },
    {
     "data": {
      "text/markdown": [
       "\n",
       "|||\n",
       "|---:|:---|\n",
       "| [![arXiv](https://img.shields.io/badge/arXiv-arXiv:2212.02890-b31b1b.svg)](https://arxiv.org/abs/arXiv:2212.02890) | **A fundamental plane of galaxy assembly and chemical enrichment within  the first 700 Myr after the Big Bang**  |\n",
       "|| <mark>Kasper E. Heintz</mark>, et al. |\n",
       "|*Appeared on*| *2022-12-07*|\n",
       "|*Comments*| *Submitted*|\n",
       "|**Abstract**| Galaxies throughout the last 12 Gyr of cosmic time follow a single, universal fundamental plane that relates their star-formation rates (SFRs), stellar masses ($M_\\star$) and chemical abundances. Deviation from these fundamental scaling relations would imply a drastic change in the processes that regulate galaxy evolution. Observations have hinted at the possibility that this relation may be broken in the very early universe. However, until recently, chemical abundances of galaxies could be only measured reliably as far back as redshift $z = 3.3$. With JWST, we can now characterize the SFR, $M_\\star$, and gas-phase metallicity of galaxies during the first few hundred million years after the Big Bang, at redshifts $z\\approx 7-10$. Here we show that galaxies at this epoch follow universal SFR-$M_\\star$ main-sequence and mass-metallicity scaling relations, but their chemical abundance is a factor of three lower than expected from the fundamental plane of later galaxies. Compared to state-of-the-art simulations, these findings suggest a more rapid onset of galaxy assembly and star formation than previously anticipated, and further indicate that galaxies at this time are still intimately connected with the intergalactic medium and subject to continuous infall of pristine gas which effectively dilutes their metal abundances. |\n",
       "|<p style=\"color:green\"> **ERROR** </p>| <p style=\"color:green\">affiliation error: mpia.affiliation_verifications: 'Heidelberg' keyword not found.</p> |"
      ],
      "text/plain": [
       "<IPython.core.display.Markdown object>"
      ]
     },
     "metadata": {},
     "output_type": "display_data"
    },
    {
     "data": {
      "text/markdown": [
       "\n",
       "|||\n",
       "|---:|:---|\n",
       "| [![arXiv](https://img.shields.io/badge/arXiv-arXiv:2212.02948-b31b1b.svg)](https://arxiv.org/abs/arXiv:2212.02948) | **Photometric Mass Estimation and the Stellar Mass-Halo Mass Relation for  Low Mass Galaxies**  |\n",
       "|| <mark>Dennis Zaritsky</mark>, Peter Behroozi |\n",
       "|*Appeared on*| *2022-12-07*|\n",
       "|*Comments*| *Accepted for publication in MNRAS; 13 pages*|\n",
       "|**Abstract**| We present a photometric halo mass estimation technique for local galaxies that enables us to establish the stellar mass-halo mass (SMHM) relation down to stellar masses of 10$^5$ M$_\\odot$. We find no detectable differences among the SMHM relations of four local galaxy clusters or between the cluster and field relations and we find agreement with extrapolations of previous SMHM relations derived using abundance matching approaches. We fit a power law to our empirical SMHM relation and find that for adopted NFW dark matter profiles and for M$_* < 10^9$ M$_\\odot$, the halo mass is M$_h = 10^{10.35\\pm0.02}({\\rm M}_*/10^8 {\\rm M}_\\odot)^{0.63\\pm0.02}$. The normalisation of this relation is susceptible to systematic modelling errors that depend on the adopted dark matter potential and the quoted uncertainties refer to the uncertainties in the median relation. For galaxies with M$_* < 10^{9}$ M$_\\odot$ that satisfy our selection criteria, the scatter about the fit in $M_h$, including uncertainties arising from our methodology, is 0.3 dex. Finally, we place lower luminosity Local Group galaxies on the SMHM relationship using the same technique, extending it to M$_* \\sim 10^3$ M$_\\odot$ and suggest that some of these galaxies show evidence for additional mass interior to the effective radius beyond that provided by the standard dark matter profile. If this mass is in the form of a central black hole, the black hole masses are in the range of intermediate mass black holes, $10^{(5.7\\pm0.6)}$ M$_\\odot$, which corresponds to masses of a few percent of M$_h$, well above values extrapolated from the relationships describing more massive galaxies. |\n",
       "|<p style=\"color:green\"> **ERROR** </p>| <p style=\"color:green\">affiliation error: mpia.affiliation_verifications: 'Heidelberg' keyword not found.</p> |"
      ],
      "text/plain": [
       "<IPython.core.display.Markdown object>"
      ]
     },
     "metadata": {},
     "output_type": "display_data"
    },
    {
     "data": {
      "text/markdown": [
       "\n",
       "|||\n",
       "|---:|:---|\n",
       "| [![arXiv](https://img.shields.io/badge/arXiv-arXiv:2212.02960-b31b1b.svg)](https://arxiv.org/abs/arXiv:2212.02960) | **Supermassive Black Hole Winds in X-rays -- SUBWAYS. I. Ultra-fast  outflows in QSOs beyond the local Universe**  |\n",
       "|| G. A. Matzeu, et al. -- incl., <mark>E. Torresi</mark> |\n",
       "|*Appeared on*| *2022-12-07*|\n",
       "|*Comments*| *30 pages, 10 figures, accepted for publication in A&A*|\n",
       "|**Abstract**| We present a new X-ray spectroscopic study of $22$ luminous ($2\\times10^{45}\\lesssim L_{\\rm bol}\\rm /erg\\,s^{-1} \\lesssim 2\\times10^{46}$) active galactic nuclei (AGNs) at intermediate-redshift ($0.1 \\lesssim z \\lesssim 0.4$), as part of the SUpermassive Black hole Winds in the x-rAYS (SUBWAYS) sample, mostly composed of quasars (QSOs) and type\\,1 AGN. Here, 17 targets were observed with \\textit{XMM-Newton} between 2019--2020 and the remaining 5 are from previous observations. The aim of this large campaign ($1.45\\,\\rm Ms$ duration) is to characterise the various manifestations of winds in the X-rays driven from supermassive black holes in AGN. In this paper we focus on the search and characterization of ultra-fast outflows (UFOs), which are typically detected through blueshifted absorption troughs in the Fe\\,K band ($E>7\\,\\rm keV$). By following Monte Carlo procedures, we confirm the detection of absorption lines corresponding to highly ionised iron (e.g., Fe\\,\\textsc{xxv}\\,H$\\alpha$, Fe\\,\\textsc{xxvi}\\,Ly$\\alpha$) in 7/22 sources at the $\\gtrsim95\\%$ confidence level (for each individual line). The global combined probability of such absorption features in the sample is $>99.9\\%$. The SUBWAYS campaign extends at higher luminosity and redshifts than previous local studies on Seyferts, obtained using \\xmm and \\suzaku observations. We find a UFO detection fraction of $\\sim30\\%$ on the total sample that is in agreement with the previous findings. This work independently provides further support for the existence of highly-ionised matter propagating at mildly relativistic speed ($\\gtrsim0.1c$) in a considerable fraction of AGN over a broad range of luminosities, which is expected to play a key role in the self-regulated AGN feeding-feedback cycle, as also supported by hydrodynamical multiphase simulations. |\n",
       "|<p style=\"color:green\"> **ERROR** </p>| <p style=\"color:green\">affiliation error: mpia.affiliation_verifications: 'Heidelberg' keyword not found.</p> |"
      ],
      "text/plain": [
       "<IPython.core.display.Markdown object>"
      ]
     },
     "metadata": {},
     "output_type": "display_data"
    },
    {
     "data": {
      "text/markdown": [
       "\n",
       "|||\n",
       "|---:|:---|\n",
       "| [![arXiv](https://img.shields.io/badge/arXiv-arXiv:2212.03001-b31b1b.svg)](https://arxiv.org/abs/arXiv:2212.03001) | **Relative astrometry in an annular field**  |\n",
       "|| Mario Gai, et al. -- incl., <mark>Zhaoxiang Qi</mark> |\n",
       "|*Appeared on*| *2022-12-07*|\n",
       "|*Comments*| *20 pages, 16 figures*|\n",
       "|**Abstract**| Background. Relative astrometry at or below the micro-arcsec level with a 1m class space telescope has been repeatedly proposed as a tool for exo-planet detection and characterization, as well as for several topics at the forefront of Astrophysics and Fundamental Physics. Aim. This paper investigates the potential benefits of an instrument concept based on an annular field of view, as compared to a traditional focal plane imaging a contiguous area close to the telescope optical axis. Method. Basic aspects of relative astrometry are reviewed as a function of the distribution on the sky of reference stars brighter than G = 12 mag (from Gaia EDR3). Statistics of field stars for targets down to G = 8 mag is evaluated by analysis and simulation. Results. Observation efficiency benefits from prior knowledge on individual targets, since source model is improved with few measurements. Dedicated observations (10-20 hours) can constrain the orbital inclination of exoplanets to a few degrees. Observing strategy can be tailored to include a sample of stars, materialising the reference frame, sufficiently large to average down the residual catalogue errors to the desired microarcsec level. For most targets, the annular field provides typically more reference stars, by a factor four to seven in our case, than the conventional field. The brightest reference stars for each target are up to 2 mag brighter. Conclusions. The proposed annular field telescope concept improves on observation flexibility and/or astrometric performance with respect to conventional designs. It appears therefore as an appealing contribution to optimization of future relative astrometry missions. |\n",
       "|<p style=\"color:green\"> **ERROR** </p>| <p style=\"color:green\">affiliation error: mpia.affiliation_verifications: 'Heidelberg' keyword not found.</p> |"
      ],
      "text/plain": [
       "<IPython.core.display.Markdown object>"
      ]
     },
     "metadata": {},
     "output_type": "display_data"
    },
    {
     "data": {
      "text/markdown": [
       "\n",
       "|||\n",
       "|---:|:---|\n",
       "| [![arXiv](https://img.shields.io/badge/arXiv-arXiv:2212.03215-b31b1b.svg)](https://arxiv.org/abs/arXiv:2212.03215) | **Steady states of the Parker instability**  |\n",
       "|| Devika Tharakkal, et al. -- incl., <mark>Frederick A. Gent</mark> |\n",
       "|*Appeared on*| *2022-12-07*|\n",
       "|*Comments*| **|\n",
       "|**Abstract**| We study the linear properties, nonlinear saturation and a steady, strongly nonlinear state of the Parker instability in galaxies. We consider magnetic buoyancy and its consequences with and without cosmic rays. Cosmic rays are described using the fluid approximation with anisotropic, non-Fickian diffusion. To avoid unphysical constraints on the instability (such as boundary conditions often used to specify an unstable background state), nonideal MHD equations are solved for deviations from a background state representing an unstable magnetohydrostatic equilibrium. We consider isothermal gas and neglect rotation. The linear evolution of the instability is in broad agreement with earlier analytical and numerical models; but we show that most of the simplifying assumptions of the earlier work do not hold, such that they provide only a qualitative rather than quantitative picture. In its nonlinear stage the instability has significantly altered the background state from its initial state. Vertical distributions of both magnetic field and cosmic rays are much wider, the gas layer is thinner, and the energy densities of both magnetic field and cosmic rays are much reduced. The spatial structure of the nonlinear state differs from that of any linear modes. A transient gas outflow is driven by the weakly nonlinear instability as it approaches saturation. |\n",
       "|<p style=\"color:green\"> **ERROR** </p>| <p style=\"color:green\">affiliation error: mpia.affiliation_verifications: 'Heidelberg' keyword not found.</p> |"
      ],
      "text/plain": [
       "<IPython.core.display.Markdown object>"
      ]
     },
     "metadata": {},
     "output_type": "display_data"
    },
    {
     "data": {
      "text/markdown": [
       "\n",
       "|||\n",
       "|---:|:---|\n",
       "| [![arXiv](https://img.shields.io/badge/arXiv-arXiv:2212.02579-b31b1b.svg)](https://arxiv.org/abs/arXiv:2212.02579) | **Identifying the 3FHL Catalog. VI. Swift Observations of 3FHL  Unassociated Objects with Source Classification via Machine Learning**  |\n",
       "|| S. Joffre, et al. -- incl., <mark>N. Torres-Albà</mark> |\n",
       "|*Appeared on*| *2022-12-07*|\n",
       "|*Comments*| *15 pages, 11 figures, interactive plot link see, this https URL*|\n",
       "|**Abstract**| The Third Catalog of Hard Fermi Large Area Telescope Sources (3FHL) reports the detection of 1556 objects at E > 10 GeV. However, 177 sources remain unassociated and 23 are associated with a ROSAT X-ray detection of unknown origin. Pointed X-ray observations were conducted on 30 of these unassociated and unknown sources with Swift-XRT. A bright X-ray source counterpart was detected in 21 out of 30 fields. In five of these 21 fields, we detected more than one X-ray counterpart, totaling 26 X-ray sources analyzed. Multiwavelength data was compiled for each X-ray source detected. We find that 21 out of the 26 X-ray sources detected display the multiwavelength properties of blazars, while one X-ray source displays the characteristics of a Galactic source. Using trained decision tree, random forest, and support vector machine models, we predict all 21 blazar counterpart candidates to be BL Lacertae objects (BL Lacs). This is in agreement with BL Lacs being the most populous source class in the 3FHL. |\n",
       "|<p style=\"color:red\"> **ERROR** </p>| <p style=\"color:red\">latex error not a gzip file</p> |"
      ],
      "text/plain": [
       "<IPython.core.display.Markdown object>"
      ]
     },
     "metadata": {},
     "output_type": "display_data"
    }
   ],
   "source": [
    "import datetime\n",
    "today = str(datetime.date.today())\n",
    "logfile = f\"_build/html/logs/log-{today}.md\"\n",
    "\n",
    "\n",
    "with open(logfile, 'w') as logs:\n",
    "    # Success\n",
    "    logs.write(f'# Arxiv on Deck 2: Logs - {today}\\n\\n')\n",
    "    logs.write(\"\"\"* Arxiv had {0:,d} new papers\\n\"\"\".format(len(new_papers)))\n",
    "    logs.write(\"\"\"    * {0:,d} with possible author matches\\n\\n\"\"\".format(len(candidates)))\n",
    "    logs.write(\"## Sucessful papers\\n\\n\")\n",
    "    display(Markdown(\"## Successful papers\"))\n",
    "    success = [k[0] for k in documents]\n",
    "    for candid in candidates:\n",
    "        if candid['identifier'].split(':')[-1] in success:\n",
    "            display(candid)\n",
    "            logs.write(candid.generate_markdown_text() + '\\n\\n')\n",
    "\n",
    "    ## failed\n",
    "    logs.write(\"## Failed papers\\n\\n\")\n",
    "    display(Markdown(\"## Failed papers\"))\n",
    "    failed = sorted(failed, key=lambda x: x[1])\n",
    "    current_reason = \"\"\n",
    "    for paper, reason in failed:\n",
    "        if 'affiliation' in reason:\n",
    "            color = 'green'\n",
    "        else:\n",
    "            color = 'red'\n",
    "        data = Markdown(\n",
    "                paper.generate_markdown_text() + \n",
    "                f'\\n|<p style=\"color:{color:s}\"> **ERROR** </p>| <p style=\"color:{color:s}\">{reason:s}</p> |'\n",
    "               )\n",
    "        if reason != current_reason:\n",
    "            logs.write(f'### {reason:s} \\n\\n')\n",
    "            current_reason = reason\n",
    "        logs.write(data.data + '\\n\\n')\n",
    "        \n",
    "        # only display here the important errors (all in logs)\n",
    "        # if color in ('red',):\n",
    "        display(data)"
   ]
  },
  {
   "cell_type": "markdown",
   "id": "472d20ee",
   "metadata": {
    "papermill": {
     "duration": 0.008977,
     "end_time": "2022-12-07T04:08:37.455463",
     "exception": false,
     "start_time": "2022-12-07T04:08:37.446486",
     "status": "completed"
    },
    "tags": []
   },
   "source": [
    "## Export documents\n",
    "\n",
    "We now write the .md files and export relevant images"
   ]
  },
  {
   "cell_type": "code",
   "execution_count": 7,
   "id": "d426aed9",
   "metadata": {
    "execution": {
     "iopub.execute_input": "2022-12-07T04:08:37.475035Z",
     "iopub.status.busy": "2022-12-07T04:08:37.474440Z",
     "iopub.status.idle": "2022-12-07T04:08:37.482635Z",
     "shell.execute_reply": "2022-12-07T04:08:37.482010Z"
    },
    "papermill": {
     "duration": 0.019603,
     "end_time": "2022-12-07T04:08:37.484122",
     "exception": false,
     "start_time": "2022-12-07T04:08:37.464519",
     "status": "completed"
    },
    "tags": []
   },
   "outputs": [],
   "source": [
    "def export_markdown_summary(md: str, md_fname:str, directory: str):\n",
    "    \"\"\"Export MD document and associated relevant images\"\"\"\n",
    "    import os\n",
    "    import shutil\n",
    "    import re\n",
    "\n",
    "    if (os.path.exists(directory) and not os.path.isdir(directory)):\n",
    "        raise RuntimeError(f\"a non-directory file exists with name {directory:s}\")\n",
    "\n",
    "    if (not os.path.exists(directory)):\n",
    "        print(f\"creating directory {directory:s}\")\n",
    "        os.mkdir(directory)\n",
    "\n",
    "    fig_fnames = (re.compile(r'\\[Fig.*\\]\\((.*)\\)').findall(md) + \n",
    "                  re.compile(r'\\<img src=\"([^>\\s]*)\"[^>]*/>').findall(md))\n",
    "    for fname in fig_fnames:\n",
    "        if 'http' in fname:\n",
    "            # No need to copy online figures\n",
    "            continue\n",
    "        destdir = os.path.join(directory, os.path.dirname(fname))\n",
    "        destfname = os.path.join(destdir, os.path.basename(fname))\n",
    "        try:\n",
    "            os.makedirs(destdir)\n",
    "        except FileExistsError:\n",
    "            pass\n",
    "        shutil.copy(fname, destfname)\n",
    "    with open(os.path.join(directory, md_fname), 'w') as fout:\n",
    "        fout.write(md)\n",
    "    print(\"exported in \", os.path.join(directory, md_fname))\n",
    "    [print(\"    + \" + os.path.join(directory,fk)) for fk in fig_fnames]"
   ]
  },
  {
   "cell_type": "code",
   "execution_count": 8,
   "id": "014d04a4",
   "metadata": {
    "execution": {
     "iopub.execute_input": "2022-12-07T04:08:37.504057Z",
     "iopub.status.busy": "2022-12-07T04:08:37.503626Z",
     "iopub.status.idle": "2022-12-07T04:08:37.539671Z",
     "shell.execute_reply": "2022-12-07T04:08:37.539005Z"
    },
    "papermill": {
     "duration": 0.047647,
     "end_time": "2022-12-07T04:08:37.541149",
     "exception": false,
     "start_time": "2022-12-07T04:08:37.493502",
     "status": "completed"
    },
    "tags": []
   },
   "outputs": [
    {
     "name": "stdout",
     "output_type": "stream",
     "text": [
      "exported in  _build/html/2212.02627.md\n",
      "    + _build/html/tmp_2212.02627/./w33/vf.png\n",
      "    + _build/html/tmp_2212.02627/./w33/vg.png\n",
      "    + _build/html/tmp_2212.02627/./w33/bts.png\n",
      "exported in  _build/html/2212.02667.md\n",
      "    + _build/html/tmp_2212.02667/./Figures/sed_model_filter.png\n",
      "    + _build/html/tmp_2212.02667/./Figures/judy_n628.png\n",
      "    + _build/html/tmp_2212.02667/./Figures/judy_ic5332.jpg\n",
      "    + _build/html/tmp_2212.02667/./Figures/gri_ha_v4.png\n"
     ]
    }
   ],
   "source": [
    "for paper_id, md in documents:\n",
    "    export_markdown_summary(md, f\"{paper_id:s}.md\", '_build/html/')"
   ]
  },
  {
   "cell_type": "markdown",
   "id": "f087a0a7",
   "metadata": {
    "papermill": {
     "duration": 0.009219,
     "end_time": "2022-12-07T04:08:37.559691",
     "exception": false,
     "start_time": "2022-12-07T04:08:37.550472",
     "status": "completed"
    },
    "tags": []
   },
   "source": [
    "## Display the papers\n",
    "\n",
    "Not necessary but allows for a quick check."
   ]
  },
  {
   "cell_type": "code",
   "execution_count": 9,
   "id": "fd25f625",
   "metadata": {
    "execution": {
     "iopub.execute_input": "2022-12-07T04:08:37.579326Z",
     "iopub.status.busy": "2022-12-07T04:08:37.578880Z",
     "iopub.status.idle": "2022-12-07T04:08:37.585202Z",
     "shell.execute_reply": "2022-12-07T04:08:37.584579Z"
    },
    "papermill": {
     "duration": 0.017696,
     "end_time": "2022-12-07T04:08:37.586568",
     "exception": false,
     "start_time": "2022-12-07T04:08:37.568872",
     "status": "completed"
    },
    "scrolled": false,
    "tags": []
   },
   "outputs": [
    {
     "data": {
      "text/markdown": [
       "<div class=\"macros\" style=\"visibility:hidden;\">\n",
       "$\\newcommand{\\ensuremath}{}$\n",
       "$\\newcommand{\\xspace}{}$\n",
       "$\\newcommand{\\object}[1]{\\texttt{#1}}$\n",
       "$\\newcommand{\\farcs}{{.}''}$\n",
       "$\\newcommand{\\farcm}{{.}'}$\n",
       "$\\newcommand{\\arcsec}{''}$\n",
       "$\\newcommand{\\arcmin}{'}$\n",
       "$\\newcommand{\\ion}[2]{#1#2}$\n",
       "$\\newcommand{\\textsc}[1]{\\textrm{#1}}$\n",
       "$\\newcommand{\\hl}[1]{\\textrm{#1}}$\n",
       "$\\newcommand{\\msun}{\\mbox{M_\\odot}}$\n",
       "$\\newcommand{\\mean}[1]{\\mbox{\\langle#1\\rangle}}$\n",
       "$\\newcommand{\\dif}{\\mathrm{d}}$\n",
       "$\\newcommand{\\evs}{\\color{olive} }$</div>\n",
       "\n",
       "<div class=\"macros\" style=\"visibility:hidden;\">\n",
       "$\\newcommand{$\\ensuremath$}{}$\n",
       "$\\newcommand{$\\xspace$}{}$\n",
       "$\\newcommand{$\\object$}[1]{\\texttt{#1}}$\n",
       "$\\newcommand{$\\farcs$}{{.}''}$\n",
       "$\\newcommand{$\\farcm$}{{.}'}$\n",
       "$\\newcommand{$\\arcsec$}{''}$\n",
       "$\\newcommand{$\\arcmin$}{'}$\n",
       "$\\newcommand{$\\ion$}[2]{#1#2}$\n",
       "$\\newcommand{$\\textsc$}[1]{\\textrm{#1}}$\n",
       "$\\newcommand{$\\hl$}[1]{\\textrm{#1}}$\n",
       "$\\newcommand{$\\msun$}{\\mbox{M_\\odot}}$\n",
       "$\\newcommand{$\\mean$}[1]{\\mbox{\\langle#1\\rangle}}$\n",
       "$\\newcommand{$\\dif$}{\\mathrm{d}}$\n",
       "$\\newcommand{$\\evs$}{\\color{olive} }$</div>\n",
       "\n",
       "\n",
       "\n",
       "<div id=\"title\">\n",
       "\n",
       "# Formation of hub-filament structure triggered by cloud-cloud collision in W33 complex\n",
       "\n",
       "</div>\n",
       "<div id=\"comments\">\n",
       "\n",
       "[![arXiv](https://img.shields.io/badge/arXiv-2212.02627-b31b1b.svg)](https://arxiv.org/abs/2212.02627)<mark>Appeared on: 2022-12-07</mark> - _18 pages_\n",
       "\n",
       "</div>\n",
       "<div id=\"authors\">\n",
       "\n",
       "Jian-Wen Zhou, et al. -- incl., <mark><mark>Shanghuo Li</mark></mark>, <mark><mark>Hong-Li Liu</mark></mark>, <mark><mark>Siju Zhang</mark></mark>, <mark><mark>Chao Zhang</mark></mark>, <mark><mark>Tie Liu</mark></mark>, <mark><mark>Jin-Zeng Li</mark></mark>\n",
       "\n",
       "</div>\n",
       "<div id=\"abstract\">\n",
       "\n",
       "**Abstract:** Hub-filament systems are suggested to be birth cradles of high-mass stars and clusters, but the formation of hub-filament structure is still unclear. Using the survey data FUGIN$^{13}$CO (1-0), C$^{18}$O (1-0), and SEDIGISM$^{13}$CO (2-1), we investigate formation of hub-filament structure in W33 complex.W33 complex consists of two colliding clouds, called W33-blue and W33-red.We decompose the velocity structures in W33-blue by fitting multiple velocity components, and find a continuous and monotonic velocity field. Virial parameters of{\\it Dendrogram}structures suggest the dominance of gravity in W33-blue. The strong positive correlation between velocity dispersion and column density indicates the non-thermal motions in W33-blue may originate from gravitationally driven collapse. These signatures suggest that the filamentary structures in W33-blue result from the gravitational collapse of the compressed layer. However, the large scale velocity gradient in W33-blue may mainly originate from the cloud-cloud collision and feedback of active star formation, instead of the filament-rooted longitudinal inflow. From the above observed results, we argue that the cloud-cloud collision triggers formation of hub-filament structures in W33 complex. Meanwhile, the appearance of multiple-scale hub-filament structures in W33-blue is likely an imprint of the transition from the compressed layer to a hub-filament system.\n",
       "\n",
       "</div>\n",
       "\n",
       "<div id=\"div_fig1\">\n",
       "\n",
       "<img src=\"tmp_2212.02627/./w33/vf.png\" alt=\"Fig4\" width=\"100%\"/>\n",
       "\n",
       "**Figure 4. -** (a) Moment-1 map of $^{13}$CO (1$-$0) for the entire W33 complex, made over the velocity range [29.6, 60.2] km s$^{-1}$. The contour is the \\emph{Herschel} H$_{2}$ column density with a level of 3.35$\\times$10$^{22}$ cm$^{-2}$, dashed curve marks the bent compression structure due to cloud-cloud collision. Red “+” represents the position of W33-main, while black “+” marks the ATLASGAL clump. Dashed black box marks the bottom of collision crater, where has the most concentrated clump distribution;\n",
       "(b) The colour images of \\emph{Spitzer} 8 $\\mu$m emission, black “+” represents the position of W33-main, orange “+” marks the ATLASGAL clump. The red circle shows the IRDC, where the size of the circle reflects the radius of IRDC;\n",
       "(c) Moment-1 map of $^{13}$CO (1$-$0) for W33-blue over the velocity range [29.6, 43.3] km s$^{-1}$. The contour is the \\emph{Herschel} dust temperature with a level of 18.6 K, black “+” marks the ATLASGAL clump. Dashed straight line roughly displays the boundary of two velocity components in W33-blue;\n",
       "(d) The integrated intensity map of $^{13}$CO (1$-$0), velocity range [29.6, 43.3] km s$^{-1}$. Blue dashed lines display the filament skeletons identified by FILFINDER algorithm according to the integrated intensity map. Red contours show the peak emission of \\emph{Spitzer} 8 $\\mu$m. Three orange “+” represent O4–7(super)-giant stars, red boxes mark several sub-regions from “1” to “6”, “0” represents the entire region.\n",
       "(e) The velocity dispersion of W33-blue derived from the moment-2 map of $^{13}$CO (1$-$0) in the velocity range [29.6, 43.3] km s$^{-1}$, black “+” marks the ATLASGAL clump, blue dashed lines display the filament skeletons. Dashed black box marks the bottom of collision crater;\n",
       "(f) The velocity dispersion of W33-blue derived from the moment-2 map of $^{13}$CO (2$-$1), gray contours show the peak emission of \\emph{Spitzer} 8 $\\mu$m,  and the black “+” represents O4–7(super)-giant stars. Blue boxes in figures (b), (c) and (f) show the region investigated by \\citet{Kohno2018-70S}.\n",
       " (*vf*)\n",
       "\n",
       "</div>\n",
       "<div id=\"div_fig2\">\n",
       "\n",
       "<img src=\"tmp_2212.02627/./w33/vg.png\" alt=\"Fig13\" width=\"100%\"/>\n",
       "\n",
       "**Figure 13. -** (a), (c) and (e): distributions of  normalized velocity and intensity extracted from the moment 0 and moment 1 maps of $^{13}$CO (1$-$0) emission along the filament skeletons marked in Fig.\\ref{vf}; (b), (d) and (f): distributions of  normalized velocity and intensity extracted from the moment 0 and moment 1 maps of $^{13}$CO (2$-$1) emission along the filament skeletons. (*vg*)\n",
       "\n",
       "</div>\n",
       "<div id=\"div_fig3\">\n",
       "\n",
       "<img src=\"tmp_2212.02627/./w33/bts.png\" alt=\"Fig1\" width=\"100%\"/>\n",
       "\n",
       "**Figure 1. -** (a) Average spectra of $^{13}$CO (1-0), C$^{18}$O (1-0) and $^{13}$CO (2-1) for the entire W33 complex;\n",
       "(b), (c) and (d) Statistical distributions of centroid velocity, velocity dispersion and $\\chi^2\\rm_c$ value of $^{13}$CO (1-0), C$^{18}$O (1-0) and $^{13}$CO (2-1) line emission fitted by BTS algorithm for W33-blue. (*bts*)\n",
       "\n",
       "</div>"
      ],
      "text/plain": [
       "<IPython.core.display.Markdown object>"
      ]
     },
     "metadata": {},
     "output_type": "display_data"
    },
    {
     "data": {
      "text/markdown": [
       "<div class=\"macros\" style=\"visibility:hidden;\">\n",
       "$\\newcommand{\\ensuremath}{}$\n",
       "$\\newcommand{\\xspace}{}$\n",
       "$\\newcommand{\\object}[1]{\\texttt{#1}}$\n",
       "$\\newcommand{\\farcs}{{.}''}$\n",
       "$\\newcommand{\\farcm}{{.}'}$\n",
       "$\\newcommand{\\arcsec}{''}$\n",
       "$\\newcommand{\\arcmin}{'}$\n",
       "$\\newcommand{\\ion}[2]{#1#2}$\n",
       "$\\newcommand{\\textsc}[1]{\\textrm{#1}}$\n",
       "$\\newcommand{\\hl}[1]{\\textrm{#1}}$\n",
       "$\\newcommand{\\Caltech}{\\affil{California Institute of Technology, 1200 E. California Blvd., MC 249-17, Pasadena, CA 91125, USA}}$\n",
       "$\\newcommand{\\Tamkang}{\\affil{Department of Physics, Tamkang University, No.151, Yingzhuan Rd., Tamsui Dist., New Taipei City 251301, Taiwan}}$\n",
       "$\\newcommand{\\GEMINI}{\\affil{Gemini Observatory/NSF’s NOIRLab, 950 N. Cherry Avenue, Tucson, AZ, 85719, USA$\n",
       "$}}$\n",
       "$\\newcommand{\\ASCL}{\\affil{Astrophysics Source Code Librar$\n",
       "$y, Michigan Technological University, 1400 Townsend Drive, Houghton, MI 49931}}$\n",
       "$\\newcommand{\\OSU}{\\affil{Department of Astronomy, The Ohio State University, 140 West 18th Avenue, Columbus, Ohio 43210, USA}}$\n",
       "$\\newcommand{\\Alberta}{\\affil{Department of Physics, University of Alberta, Edmonton, AB T6G 2E1, Canada}}$\n",
       "$\\newcommand{\\ANU}{\\affil{Research School of Astronomy and Astrophysics, Australian National University, Canberra, ACT 2611, Australia}}$\n",
       "$\\newcommand{\\IPARCOS}{\\affil{Instituto de F\\'{\\i}sica de Part\\'{\\i}culas y del Cosmos, Universidad Complutense de Madrid, E-28040 Madrid, Spain}}$\n",
       "$\\newcommand{\\IPAC}{\\affil{Caltech-IPAC, 1200 E. California Blvd. Pasadena, CA 91125, USA}}$\n",
       "$\\newcommand{\\Carnegie}{\\affil{Observatories of the Carnegie Institution for Science, 813 Santa Barbara Street, Pasadena, CA 91101, USA}}$\n",
       "$\\newcommand{\\CCAPP}{\\affil{Center for Cosmology and AstroParticle Physics, 191 West Woodruff Avenue, Columbus, OH 43210, USA}}$\n",
       "$\\newcommand{\\CfA}{\\affil{Center for Astrophysics \\mid Harvard \\& Smithsonian , 60 Garden Street, Cambridge, MA 02138, USA}}$\n",
       "$\\newcommand{\\CITEVA}{\\affil{Centro de Astronomía (CITEVA), Universidad de Antofagasta, Avenida Angamos 601, Antofagasta, Chile}}$\n",
       "$\\newcommand{\\CNRS}{\\affil{CNRS, IRAP, 9 Av. du Colonel Roche, BP 44346, F-31028 Toulouse cedex 4, France}}$\n",
       "$\\newcommand{\\ESO}{\\affil{European Southern Observatory, Karl-Schwarzschild Stra{\\ss}e 2, D-85748 Garching bei M\\\"{u}nchen, Germany}}$\n",
       "$\\newcommand{\\Heidelberg}{\\affil{Astronomisches Rechen-Institut, Zentrum f\\\"{u}r Astronomie der Universit\\\"{a}t Heidelberg, M\\\"{o}nchhofstra\\ss e 12-14, D-69120 Heidelberg, Germany}}$\n",
       "$\\newcommand{\\COOL}{\\affil{Cosmic Origins Of Life (COOL) Research DAO, coolresearch.io}}$\n",
       "$\\newcommand{\\ICRAR}{\\affil{International Centre for Radio Astronomy Research, University of Western Australia, 35 Stirling Highway, Crawley, WA 6009, Australia}}$\n",
       "$\\newcommand{\\IRAM}{\\affil{Institut de Radioastronomie Millimétrique (IRAM), 300 Rue de la Piscine, F-38406 Saint Martin d'Hères, France}}$\n",
       "$\\newcommand{\\IRAP}{\\affil{CNRS, IRAP, 9 Av. du Colonel Roche, BP 44346, F-31028 Toulouse cedex 4, France}}$\n",
       "$\\newcommand{\\UPS}{\\affil{Université de Toulouse, UPS-OMP, IRAP, F-31028 Toulouse cedex 4, France}}$\n",
       "$\\newcommand{\\ITA}{\\affil{Universit\\\"{a}t Heidelberg, Zentrum f\\\"{u}r Astronomie, Institut f\\\"{u}r Theoretische Astrophysik, Albert-Ueberle-Str 2, D-69120 Heidelberg, Germany}}$\n",
       "$\\newcommand{\\IWR}{\\affil{Universit\\\"{a}t Heidelberg, Interdisziplin\\\"{a}res Zentrum f\\\"{u}r Wissenschaftliches Rechnen, Im Neuenheimer Feld 205, D-69120 Heidelberg, Germany}}$\n",
       "$\\newcommand{\\JHU}{\\affil{Department of Physics and Astronomy, The Johns Hopkins University, Baltimore, MD 21218, USA}}$\n",
       "$\\newcommand{\\Leiden}{\\affil{Leiden Observatory, Leiden University, P.O. Box 9513, 2300 RA Leiden, The Netherlands}}$\n",
       "$\\newcommand{\\Maryland}{\\affil{Department of Astronomy, University of Maryland, College Park, MD 20742, USA}}$\n",
       "$\\newcommand{\\MPE}{\\affil{Max-Planck-Institut f\\\"{u}r extraterrestrische Physik, Giessenbachstra{\\ss}e 1, D-85748 Garching, Germany}}$\n",
       "$\\newcommand{\\MPIA}{\\affil{Max-Planck-Institut f\\\"{u}r Astronomie, K\\\"{o}nigstuhl 17, D-69117, Heidelberg, Germany}}$\n",
       "$\\newcommand{\\Nagoya}{\\affil{Department of Physics, Nagoya University, Furo-cho, Chikusa-ku, Nagoya, Aichi 464-8602, Japan}}$\n",
       "$\\newcommand{\\NRAO}{\\affil{National Radio Astronomy Observatory, 520 Edgemont Road, Charlottesville, VA 22903-2475, USA}}$\n",
       "$\\newcommand{\\OAN}{\\affil{Observatorio Astronómico Nacional (IGN), C/Alfonso XII, 3, E-28014 Madrid, Spain}}$\n",
       "$\\newcommand{\\ObsParis}{\\affil{Sorbonne Université, Observatoire de Paris, Université PSL, CNRS, LERMA, F-75014, Paris, France}}$\n",
       "$\\newcommand{\\Princeton}{\\affil{Department of Astrophysical Sciences, Princeton University, Princeton, NJ 08544 USA}}$\n",
       "$\\newcommand{\\UToledo}{\\affil{University of Toledo, 2801 W. Bancroft St., Mail Stop 111, Toledo, OH, 43606}}$\n",
       "$\\newcommand{\\Toulouse}{\\affil{Université de Toulouse, UPS-OMP, IRAP, F-31028 Toulouse cedex 4, France}}$\n",
       "$\\newcommand{\\UBonn}{\\affil{Argelander-Institut f\\\"ur Astronomie, Universit\\\"at Bonn, Auf dem H\\\"ugel 71, 53121 Bonn, Germany}}$\n",
       "$\\newcommand{\\UChile}{\\affil{Departamento de Astronomía, Universidad de Chile, Camino del Observatorio 1515, Las Condes, Santiago, Chile}}$\n",
       "$\\newcommand{\\UCM}{\\affil{Departamento de F\\'{\\i}sica de la Tierra y Astrof\\'{\\i}sica, Universidad Complutense de Madrid, E-28040 Madrid, Spain}}$\n",
       "$\\newcommand{\\UCSD}{\\affil{Center for Astrophysics and Space Sciences, Department of Physics,  University of California,\\San Diego, 9500 Gilman Drive, La Jolla, CA 92093, USA}}$\n",
       "$\\newcommand{\\ULyon}{\\affil{Univ Lyon, Univ Lyon 1, ENS de Lyon, CNRS, Centre de Recherche Astrophysique de Lyon UMR5574,\\F-69230 Saint-Genis-Laval, France}}$\n",
       "$\\newcommand{\\UMass}{\\affil{University of Massachusetts—Amherst, 710 N. Pleasant Street, Amherst, MA 01003, USA}}$\n",
       "$\\newcommand{\\UWyoming}{\\affil{Department of Physics and Astronomy, University of Wyoming, Laramie, WY 82071, USA}}$\n",
       "$\\newcommand{\\LAM}{\\affil{$\n",
       "$Aix Marseille Univ, CNRS, CNES, LAM (Laboratoire d’Astrophysique de Marseille),  F-13388 Marseille,$\n",
       "$France}}$\n",
       "$\\newcommand{\\UHawaii}{\\affil{Institute for Astronomy, University of Hawaii, 2680 Woodlawn Drive, Honolulu, HI 96822, USA}}$\n",
       "$\\newcommand{\\UGent}{\\affil{Sterrenkundig Observatorium, Universiteit Gent, Krijgslaan 281 S9, B-9000 Gent, Belgium}}$\n",
       "$\\newcommand{\\IPARC}{\\affil{Instituto de F\\'{\\i}sica de Part\\'{\\i}culas y del Cosmos IPARCOS, Facultad de Ciencias F\\'{\\i}sicas, Universidad Complutense de Madrid, E-28040, Spain}}$\n",
       "$\\newcommand{\\STScI}{\\affil{Space Telescope Science Institute, 3700 San Martin Drive, Baltimore, MD 21218, USA}}$\n",
       "$\\newcommand{\\STScIESA}{\\affiliation{AURA for the European Space Agency (ESA), Space Telescope Science Institute, 3700 San Martin Drive, Baltimore, MD 21218, USA}}$\n",
       "$\\newcommand{\\McMaster}{\\affil{Department of Physics and Astronomy, McMaster University, Hamilton, ON L8S 4M1, Canada}}$\n",
       "$\\newcommand{\\INAF}{\\affil{INAF -- Osservatorio Astrofisico di Arcetri, Largo E. Fermi 5, I-50157, Firenze, Italy}}$\n",
       "$\\newcommand{\\Sydney}{\\affil{Sydney Institute for Astronomy, School of Physics A28, The University of Sydney, NSW 2006, Australia}}$\n",
       "$\\newcommand{\\UA}{\\affil{Centro de Astronomía (CITEVA), Universidad de Antofagasta, Avenida Angamos 601, Antofagasta, Chile}}$\n",
       "$\\newcommand{\\LERMA}{\\affil{Observatoire de Paris, PSL Research University, CNRS, Sorbonne Universit\\'es, 75014 Paris}}$\n",
       "$\\newcommand{\\SAIMSU}{\\affil{Sternberg Astronomical Institute, Lomonosov Moscow State University, Universitetsky pr. 13, 119234 Moscow, Russia}}$\n",
       "$\\newcommand{\\StockholmOKC}{\\affil{The Oskar Klein Centre for Cosmoparticle Physics, Department of Physics, Stockholm University, AlbaNova, Stockholm, SE-106 91, Sweden}}$\n",
       "$\\newcommand{\\msun}{M_{\\odot}}$\n",
       "$\\newcommand{\\sfr}{M_{\\odot} yr^{-1}}$\n",
       "$\\newcommand{\\obstime}{112.6}$</div>\n",
       "\n",
       "<div class=\"macros\" style=\"visibility:hidden;\">\n",
       "$\\newcommand{$\\ensuremath$}{}$\n",
       "$\\newcommand{$\\xspace$}{}$\n",
       "$\\newcommand{$\\object$}[1]{\\texttt{#1}}$\n",
       "$\\newcommand{$\\farcs$}{{.}''}$\n",
       "$\\newcommand{$\\farcm$}{{.}'}$\n",
       "$\\newcommand{$\\arcsec$}{''}$\n",
       "$\\newcommand{$\\arcmin$}{'}$\n",
       "$\\newcommand{$\\ion$}[2]{#1#2}$\n",
       "$\\newcommand{$\\textsc$}[1]{\\textrm{#1}}$\n",
       "$\\newcommand{$\\hl$}[1]{\\textrm{#1}}$\n",
       "$\\newcommand{$\\Caltech$}{\\affil{California Institute of Technology, 1200 E. California Blvd., MC 249-17, Pasadena, CA 91125, USA}}$\n",
       "$\\newcommand{$\\Tamkang$}{\\affil{Department of Physics, Tamkang University, No.151, Yingzhuan Rd., Tamsui Dist., New Taipei City 251301, Taiwan}}$\n",
       "$\\newcommand{\\GEMINI}{\\affil{Gemini Observatory/NSF’s NOIRLab, 950 N. Cherry Avenue, Tucson, AZ, 85719, USA$\n",
       "$}}$\n",
       "$\\newcommand{\\ASCL}{\\affil{Astrophysics Source Code Librar$\n",
       "$y, Michigan Technological University, 1400 Townsend Drive, Houghton, MI 49931}}$\n",
       "$\\newcommand{$\\OSU$}{\\affil{Department of Astronomy, The Ohio State University, 140 West 18th Avenue, Columbus, Ohio 43210, USA}}$\n",
       "$\\newcommand{$\\Alberta$}{\\affil{Department of Physics, University of Alberta, Edmonton, AB T6G 2E1, Canada}}$\n",
       "$\\newcommand{$\\ANU$}{\\affil{Research School of Astronomy and Astrophysics, Australian National University, Canberra, ACT 2611, Australia}}$\n",
       "$\\newcommand{$\\IPARCOS$}{\\affil{Instituto de F\\'{\\i}sica de Part\\'{\\i}culas y del Cosmos, Universidad Complutense de Madrid, E-28040 Madrid, Spain}}$\n",
       "$\\newcommand{$\\IPAC$}{\\affil{Caltech-IPAC, 1200 E. California Blvd. Pasadena, CA 91125, USA}}$\n",
       "$\\newcommand{$\\Carnegie$}{\\affil{Observatories of the Carnegie Institution for Science, 813 Santa Barbara Street, Pasadena, CA 91101, USA}}$\n",
       "$\\newcommand{$\\CCAPP$}{\\affil{Center for Cosmology and AstroParticle Physics, 191 West Woodruff Avenue, Columbus, OH 43210, USA}}$\n",
       "$\\newcommand{$\\CfA$}{\\affil{Center for Astrophysics \\mid Harvard \\& Smithsonian , 60 Garden Street, Cambridge, MA 02138, USA}}$\n",
       "$\\newcommand{$\\CITEVA$}{\\affil{Centro de Astronomía (CITEVA), Universidad de Antofagasta, Avenida Angamos 601, Antofagasta, Chile}}$\n",
       "$\\newcommand{$\\CNRS$}{\\affil{CNRS, IRAP, 9 Av. du Colonel Roche, BP 44346, F-31028 Toulouse cedex 4, France}}$\n",
       "$\\newcommand{$\\ESO$}{\\affil{European Southern Observatory, Karl-Schwarzschild Stra{\\ss}e 2, D-85748 Garching bei M\\\"{u}nchen, Germany}}$\n",
       "$\\newcommand{$\\Heidelberg$}{\\affil{Astronomisches Rechen-Institut, Zentrum f\\\"{u}r Astronomie der Universit\\\"{a}t Heidelberg, M\\\"{o}nchhofstra\\ss e 12-14, D-69120 Heidelberg, Germany}}$\n",
       "$\\newcommand{$\\COOL$}{\\affil{Cosmic Origins Of Life (COOL) Research DAO, coolresearch.io}}$\n",
       "$\\newcommand{$\\ICRAR$}{\\affil{International Centre for Radio Astronomy Research, University of Western Australia, 35 Stirling Highway, Crawley, WA 6009, Australia}}$\n",
       "$\\newcommand{$\\IRAM$}{\\affil{Institut de Radioastronomie Millimétrique (IRAM), 300 Rue de la Piscine, F-38406 Saint Martin d'Hères, France}}$\n",
       "$\\newcommand{$\\IRAP$}{\\affil{CNRS, IRAP, 9 Av. du Colonel Roche, BP 44346, F-31028 Toulouse cedex 4, France}}$\n",
       "$\\newcommand{$\\UPS$}{\\affil{Université de Toulouse, UPS-OMP, IRAP, F-31028 Toulouse cedex 4, France}}$\n",
       "$\\newcommand{$\\ITA$}{\\affil{Universit\\\"{a}t Heidelberg, Zentrum f\\\"{u}r Astronomie, Institut f\\\"{u}r Theoretische Astrophysik, Albert-Ueberle-Str 2, D-69120 Heidelberg, Germany}}$\n",
       "$\\newcommand{$\\IWR$}{\\affil{Universit\\\"{a}t Heidelberg, Interdisziplin\\\"{a}res Zentrum f\\\"{u}r Wissenschaftliches Rechnen, Im Neuenheimer Feld 205, D-69120 Heidelberg, Germany}}$\n",
       "$\\newcommand{$\\JHU$}{\\affil{Department of Physics and Astronomy, The Johns Hopkins University, Baltimore, MD 21218, USA}}$\n",
       "$\\newcommand{$\\Leiden$}{\\affil{Leiden Observatory, Leiden University, P.O. Box 9513, 2300 RA Leiden, The Netherlands}}$\n",
       "$\\newcommand{$\\Maryland$}{\\affil{Department of Astronomy, University of Maryland, College Park, MD 20742, USA}}$\n",
       "$\\newcommand{$\\MPE$}{\\affil{Max-Planck-Institut f\\\"{u}r extraterrestrische Physik, Giessenbachstra{\\ss}e 1, D-85748 Garching, Germany}}$\n",
       "$\\newcommand{$\\MPIA$}{\\affil{Max-Planck-Institut f\\\"{u}r Astronomie, K\\\"{o}nigstuhl 17, D-69117, Heidelberg, Germany}}$\n",
       "$\\newcommand{$\\Nagoya$}{\\affil{Department of Physics, Nagoya University, Furo-cho, Chikusa-ku, Nagoya, Aichi 464-8602, Japan}}$\n",
       "$\\newcommand{$\\NRAO$}{\\affil{National Radio Astronomy Observatory, 520 Edgemont Road, Charlottesville, VA 22903-2475, USA}}$\n",
       "$\\newcommand{$\\OAN$}{\\affil{Observatorio Astronómico Nacional (IGN), C/Alfonso XII, 3, E-28014 Madrid, Spain}}$\n",
       "$\\newcommand{$\\ObsParis$}{\\affil{Sorbonne Université, Observatoire de Paris, Université PSL, CNRS, LERMA, F-75014, Paris, France}}$\n",
       "$\\newcommand{$\\Princeton$}{\\affil{Department of Astrophysical Sciences, Princeton University, Princeton, NJ 08544 USA}}$\n",
       "$\\newcommand{$\\UToledo$}{\\affil{University of Toledo, 2801 W. Bancroft St., Mail Stop 111, Toledo, OH, 43606}}$\n",
       "$\\newcommand{$\\Toulouse$}{\\affil{Université de Toulouse, UPS-OMP, IRAP, F-31028 Toulouse cedex 4, France}}$\n",
       "$\\newcommand{$\\UBonn$}{\\affil{Argelander-Institut f\\\"ur Astronomie, Universit\\\"at Bonn, Auf dem H\\\"ugel 71, 53121 Bonn, Germany}}$\n",
       "$\\newcommand{$\\UChile$}{\\affil{Departamento de Astronomía, Universidad de Chile, Camino del Observatorio 1515, Las Condes, Santiago, Chile}}$\n",
       "$\\newcommand{$\\UCM$}{\\affil{Departamento de F\\'{\\i}sica de la Tierra y Astrof\\'{\\i}sica, Universidad Complutense de Madrid, E-28040 Madrid, Spain}}$\n",
       "$\\newcommand{$\\UCSD$}{\\affil{Center for Astrophysics and Space Sciences, Department of Physics,  University of California,\\San Diego, 9500 Gilman Drive, La Jolla, CA 92093, USA}}$\n",
       "$\\newcommand{$\\ULyon$}{\\affil{Univ Lyon, Univ Lyon 1, ENS de Lyon, CNRS, Centre de Recherche Astrophysique de Lyon UMR5574,\\F-69230 Saint-Genis-Laval, France}}$\n",
       "$\\newcommand{$\\UMass$}{\\affil{University of Massachusetts—Amherst, 710 N. Pleasant Street, Amherst, MA 01003, USA}}$\n",
       "$\\newcommand{$\\UWyoming$}{\\affil{Department of Physics and Astronomy, University of Wyoming, Laramie, WY 82071, USA}}$\n",
       "$\\newcommand{\\LAM}{\\affil{$\n",
       "$Aix Marseille Univ, CNRS, CNES, LAM (Laboratoire d’Astrophysique de Marseille),  F-13388 Marseille,$\n",
       "$France}}$\n",
       "$\\newcommand{$\\UHawaii$}{\\affil{Institute for Astronomy, University of Hawaii, 2680 Woodlawn Drive, Honolulu, HI 96822, USA}}$\n",
       "$\\newcommand{$\\UGent$}{\\affil{Sterrenkundig Observatorium, Universiteit Gent, Krijgslaan 281 S9, B-9000 Gent, Belgium}}$\n",
       "$\\newcommand{$\\IPARC$}{\\affil{Instituto de F\\'{\\i}sica de Part\\'{\\i}culas y del Cosmos IPARCOS, Facultad de Ciencias F\\'{\\i}sicas, Universidad Complutense de Madrid, E-28040, Spain}}$\n",
       "$\\newcommand{$\\STScI$}{\\affil{Space Telescope Science Institute, 3700 San Martin Drive, Baltimore, MD 21218, USA}}$\n",
       "$\\newcommand{$\\STScI$ESA}{\\affiliation{AURA for the European Space Agency (ESA), Space Telescope Science Institute, 3700 San Martin Drive, Baltimore, MD 21218, USA}}$\n",
       "$\\newcommand{$\\McMaster$}{\\affil{Department of Physics and Astronomy, McMaster University, Hamilton, ON L8S 4M1, Canada}}$\n",
       "$\\newcommand{$\\INAF$}{\\affil{INAF -- Osservatorio Astrofisico di Arcetri, Largo E. Fermi 5, I-50157, Firenze, Italy}}$\n",
       "$\\newcommand{$\\Sydney$}{\\affil{Sydney Institute for Astronomy, School of Physics A28, The University of Sydney, NSW 2006, Australia}}$\n",
       "$\\newcommand{$\\UA$}{\\affil{Centro de Astronomía (CITEVA), Universidad de Antofagasta, Avenida Angamos 601, Antofagasta, Chile}}$\n",
       "$\\newcommand{$\\LERMA$}{\\affil{Observatoire de Paris, PSL Research University, CNRS, Sorbonne Universit\\'es, 75014 Paris}}$\n",
       "$\\newcommand{$\\SAIMSU$}{\\affil{Sternberg Astronomical Institute, Lomonosov Moscow State University, Universitetsky pr. 13, 119234 Moscow, Russia}}$\n",
       "$\\newcommand{$\\StockholmOKC$}{\\affil{The Oskar Klein Centre for Cosmoparticle Physics, Department of Physics, Stockholm University, AlbaNova, Stockholm, SE-106 91, Sweden}}$\n",
       "$\\newcommand{$\\msun$}{M_{\\odot}}$\n",
       "$\\newcommand{$\\sfr$}{M_{\\odot} yr^{-1}}$\n",
       "$\\newcommand{$\\obstime$}{112.6}$</div>\n",
       "\n",
       "\n",
       "\n",
       "<div id=\"title\">\n",
       "\n",
       "# S\n",
       "\n",
       "</div>\n",
       "<div id=\"comments\">\n",
       "\n",
       "[![arXiv](https://img.shields.io/badge/arXiv-2212.02667-b31b1b.svg)](https://arxiv.org/abs/2212.02667)<mark>Appeared on: 2022-12-07</mark> - _Re-submitted after addressing minor comments from referee. To be published as part of PHANGS-JWST ApJL Focus Issue_\n",
       "\n",
       "</div>\n",
       "<div id=\"authors\">\n",
       "\n",
       "<mark><mark>Janice C. Lee</mark></mark>, et al. -- incl., <mark><mark>Eva Schinnerer</mark></mark>, <mark><mark>Frank Bigiel</mark></mark>, <mark><mark>Kiana F. Henny</mark></mark>, <mark><mark>Jonathan D. Henshaw</mark></mark>, <mark><mark>Annie Hughes</mark></mark>, <mark><mark>Kathryn Kreckel</mark></mark>, <mark><mark>Jing Li</mark></mark>, <mark><mark>Daizhong Liu</mark></mark>\n",
       "\n",
       "</div>\n",
       "<div id=\"abstract\">\n",
       "\n",
       "**Abstract:** The PHANGS collaboration has been building a reference dataset for the multi-scale, multi-phase study of star formation and the interstellar medium in nearby galaxies.  With the successful launch and commissioning of JWST, we can now obtain high-resolution infrared imaging to probe the youngest stellar populations and dust emission on the scales of star clusters and molecular clouds ($\\sim$5-50 pc).  In Cycle 1, PHANGS is conducting an 8-band imaging survey from 2-21$\\mu$m of 19 nearby spiral galaxies.CO(2--1) mapping, optical integral field spectroscopy, and UV-optical imaging for all 19 galaxies have been obtained through large programs with ALMA, VLT/MUSE, and Hubble. PHANGS-JWST enables a full inventory of star formation, accurate measurement of the mass and age of star clusters, identification of the youngest embedded stellar populations, and characterization of the physical state of small dust grains.  When combined with Hubble catalogs of$\\sim$10,000 star clusters, MUSE spectroscopic mapping of$\\sim$20,000 HII regions, and$\\sim$12,000 ALMA-identified molecular clouds, it becomes possible to measure the timescales and efficiencies of the earliest phases of star formation and feedback, build an empirical model of the dependence of small dust grain properties on local ISM conditions, and test our understanding of how dust-reprocessed starlight traces star formation activity, all across a diversity of galactic environments.  Here we describe the PHANGS-JWST Treasury survey, present the remarkable imaging obtained in the first few months of science operations, and provide context for the initial results presented in the first series of PHANGS-JWST publications.\n",
       "\n",
       "</div>\n",
       "\n",
       "<div id=\"div_fig1\">\n",
       "\n",
       "<img src=\"tmp_2212.02667/./Figures/sed_model_filter.png\" alt=\"Fig1\" width=\"100%\"/>\n",
       "\n",
       "**Figure 1. -** \\textbf{top}: Model SEDs of dust-enshrouded young star clusters with filter coverage of the PHANGS-HST and JWST Treasury programs. Models are of a solar metallicity $10^4$ M$_\\odot$ young star cluster at $d=10$ Mpc with varying ages and levels of extinction generated with CIGALE \\citep[][]{boquien19,turner21}. Colored bands show the 8 JWST NIRCAM and MIRI filters, spanning from 2$-21\\mu$m, selected to probe stellar photospheric emission, PAH features, and the dust continuum. The 5 UV-visible filters used by PHANGS-HST \\citep{phangs-hst} appear in grey. \\textbf{bottom}: Normalized throughput for each of the eight filters used in the PHANGS-JWST survey.  For comparison, the four Spitzer IRAC filters and MIPS 24 $\\micron$ filter are also shown.  A model dust SED is overplotted to illustrated the features probed by each filter.  The three PAH features targeted by our survey are marked. (*fig:filters*)\n",
       "\n",
       "</div>\n",
       "<div id=\"div_fig2\">\n",
       "\n",
       "<img src=\"tmp_2212.02667/./Figures/judy_n628.png\" alt=\"Fig7.1\" width=\"50%\"/><img src=\"tmp_2212.02667/./Figures/judy_ic5332.jpg\" alt=\"Fig7.2\" width=\"50%\"/>\n",
       "\n",
       "**Figure 7. -** Color composite images produced by J. Schmidt from MIRI data of NGC 628 (top) and IC 5332 (bottom). Red: MIRI F2100W; orange: MIRI F1130W; cyan: MIRI F770W and extra overall brightness in grayscale: MIRI F1000W.  The images were used as the models for the first two ESA/JWST Pictures of the Month from the JWST Cycle 1 General Observers Program as featured at \\url{https://esawebb.org/images/potm2208a/} and \\url{https://esawebb.org/images/comparisons/potm2209a/}. (*fig:judy1*)\n",
       "\n",
       "</div>\n",
       "<div id=\"div_fig3\">\n",
       "\n",
       "<img src=\"tmp_2212.02667/./Figures/gri_ha_v4.png\" alt=\"Fig2\" width=\"100%\"/>\n",
       "\n",
       "**Figure 2. -** Composite $gri$+H$\\alpha$+CO images for the 19 galaxies in the PHANGS-JWST Treasury program. The $gri$+H$\\alpha$ images are constructed from VLT MUSE full-field spectral mapping \\citep{phangs-muse}, with H$\\alpha$ line emission in red, and combined with ALMA CO(2--1) \\citep{phangs-alma} maps, with CO(2--1) flux in blue. JWST NIRCam and MIRI footprints have been defined to overlap existing MUSE, ALMA, and HST data. Footprints shown with dashed lines represent observations that have not been executed at time of writing (October 2022), and may rotate slightly due to the range of allowed orient angles specified for the target. The JWST sample spans a factor of $\\sim50$ in stellar mass and SFR, and a factor of $\\sim100$ in CO surface density (Table \\ref{tab:galaxysample2}). It includes galaxies with prominent dust lanes, a full range of stellar bar, bulge, spiral arm morphologies, as well as nuclear starbursts and AGN activity. (*fig:footprints*)\n",
       "\n",
       "</div>"
      ],
      "text/plain": [
       "<IPython.core.display.Markdown object>"
      ]
     },
     "metadata": {},
     "output_type": "display_data"
    }
   ],
   "source": [
    "[display(Markdown(k[1])) for k in documents];"
   ]
  },
  {
   "cell_type": "markdown",
   "id": "873873a4",
   "metadata": {
    "papermill": {
     "duration": 0.01017,
     "end_time": "2022-12-07T04:08:37.606958",
     "exception": false,
     "start_time": "2022-12-07T04:08:37.596788",
     "status": "completed"
    },
    "tags": []
   },
   "source": [
    "# Create HTML index"
   ]
  },
  {
   "cell_type": "code",
   "execution_count": 10,
   "id": "cf665672",
   "metadata": {
    "execution": {
     "iopub.execute_input": "2022-12-07T04:08:37.628116Z",
     "iopub.status.busy": "2022-12-07T04:08:37.627672Z",
     "iopub.status.idle": "2022-12-07T04:08:37.637276Z",
     "shell.execute_reply": "2022-12-07T04:08:37.636680Z"
    },
    "papermill": {
     "duration": 0.021778,
     "end_time": "2022-12-07T04:08:37.638704",
     "exception": false,
     "start_time": "2022-12-07T04:08:37.616926",
     "status": "completed"
    },
    "tags": []
   },
   "outputs": [
    {
     "name": "stdout",
     "output_type": "stream",
     "text": [
      "127  publications in the last 7 days.\n",
      "\t _build/html/2212.02667.md\n",
      "\t _build/html/2212.02627.md\n",
      "\t _build/html/2212.02235.md\n",
      "\t _build/html/2212.01707.md\n",
      "\t _build/html/2212.01526.md\n",
      "\t _build/html/2212.01397.md\n",
      "\t _build/html/2212.01291.md\n",
      "\t _build/html/2212.01281.md\n",
      "\t _build/html/2212.00812.md\n",
      "\t _build/html/2212.00811.md\n",
      "\t _build/html/2212.00806.md\n",
      "\t _build/html/2212.00047.md\n",
      "\t _build/html/2212.00032.md\n",
      "\t _build/html/2211.16996.md\n",
      "\t _build/html/2211.16510.md\n",
      "\t _build/html/2211.16123.md\n",
      "\t _build/html/2211.15816.md\n",
      "\t _build/html/2211.15698.md\n",
      "\t _build/html/2211.15576.md\n",
      "\t _build/html/2211.15434.md\n",
      "\t _build/html/2211.15288.md\n",
      "\t _build/html/2211.15224.md\n",
      "\t _build/html/2211.14543.md\n",
      "\t _build/html/2211.14330.md\n",
      "\t _build/html/2211.14322.md\n",
      "\t _build/html/2211.14132.md\n",
      "\t _build/html/2211.13811.md\n",
      "\t _build/html/2211.13426.md\n",
      "\t _build/html/2211.13318.md\n",
      "\t _build/html/2211.13146.md\n",
      "\t _build/html/2211.12613.md\n",
      "\t _build/html/2211.11767.md\n",
      "\t _build/html/2211.09840.md\n",
      "\t _build/html/2211.09217.md\n",
      "\t _build/html/2211.08493.md\n",
      "\t _build/html/2211.08487.md\n",
      "\t _build/html/2211.08294.md\n",
      "\t _build/html/2211.07667.md\n",
      "\t _build/html/2211.07659.md\n",
      "\t _build/html/2211.06454.md\n",
      "\t _build/html/2211.06205.md\n",
      "\t _build/html/2211.06194.md\n",
      "\t _build/html/2211.05022.md\n",
      "\t _build/html/2211.04048.md\n",
      "\t _build/html/2211.03641.md\n",
      "\t _build/html/2211.02502.md\n",
      "\t _build/html/2211.01474.md\n",
      "\t _build/html/2211.00667.md\n",
      "\t _build/html/2211.00657.md\n",
      "\t _build/html/2211.00087.md\n",
      "\t _build/html/2211.00036.md\n",
      "\t _build/html/2211.00020.md\n",
      "\t _build/html/2211.00010.md\n",
      "\t _build/html/2210.17434.md\n",
      "\t _build/html/2210.12412.md\n",
      "\t _build/html/2210.11926.md\n",
      "\t _build/html/2210.11551.md\n",
      "\t _build/html/2210.11103.md\n",
      "\t _build/html/2210.10707.md\n",
      "\t _build/html/2210.09930.md\n",
      "\t _build/html/2210.08996.md\n",
      "\t _build/html/2210.08517.md\n",
      "\t _build/html/2210.08510.md\n",
      "\t _build/html/2210.08078.md\n",
      "\t _build/html/2210.06504.md\n",
      "\t _build/html/2210.05695.md\n",
      "\t _build/html/2210.05595.md\n",
      "\t _build/html/2210.05505.md\n",
      "\t _build/html/2210.04721.md\n",
      "\t _build/html/2210.03615.md\n",
      "\t _build/html/2210.01811.md\n",
      "\t _build/html/2210.01809.md\n",
      "\t _build/html/2210.01556.md\n",
      "\t _build/html/2210.00863.md\n",
      "\t _build/html/2210.00560.md\n",
      "\t _build/html/2209.15403.md\n",
      "\t _build/html/2209.15110.md\n",
      "\t _build/html/2209.14410.md\n",
      "\t _build/html/2209.14396.md\n",
      "\t _build/html/2209.13717.md\n",
      "\t _build/html/2209.13336.md\n",
      "\t _build/html/2209.12906.md\n",
      "\t _build/html/2209.11781.md\n",
      "\t _build/html/2209.11602.md\n",
      "\t _build/html/2209.11248.md\n",
      "\t _build/html/2209.11096.md\n",
      "\t _build/html/2209.10618.md\n",
      "\t _build/html/2209.09914.md\n",
      "\t _build/html/2209.09823.md\n",
      "\t _build/html/2209.08242.md\n",
      "\t _build/html/2209.08120.md\n",
      "\t _build/html/2209.08106.md\n",
      "\t _build/html/2209.07962.md\n",
      "\t _build/html/2209.07931.md\n",
      "\t _build/html/2209.06833.md\n",
      "\t _build/html/2209.05814.md\n",
      "\t _build/html/2209.05593.md\n",
      "\t _build/html/2209.04304.md\n",
      "\t _build/html/2209.03367.md\n",
      "\t _build/html/2209.02872.md\n",
      "\t _build/html/2209.02725.md\n",
      "\t _build/html/2209.02722.md\n",
      "\t _build/html/2209.02092.md\n",
      "\t _build/html/2209.01125.md\n",
      "\t _build/html/2209.00828.md\n",
      "\t _build/html/2209.00363.md\n",
      "\t _build/html/2208.14927.md\n",
      "\t _build/html/2208.09335.md\n",
      "\t _build/html/2208.08872.md\n",
      "\t _build/html/2204.06393.md\n",
      "\t _build/html/2204.03335.md\n",
      "\t _build/html/2204.03253.md\n",
      "\t _build/html/2204.02998.md\n",
      "\t _build/html/2204.02109.md\n",
      "\t _build/html/2204.02017.md\n",
      "\t _build/html/2204.01824.md\n",
      "\t _build/html/2204.01758.md\n",
      "\t _build/html/2204.01245.md\n",
      "\t _build/html/2204.00793.md\n",
      "\t _build/html/2204.00342.md\n",
      "\t _build/html/2203.16959.md\n",
      "\t _build/html/2203.16856.md\n",
      "\t _build/html/2203.16735.md\n",
      "\t _build/html/2203.16734.md\n",
      "\t _build/html/2203.16504.md\n",
      "\t _build/html/2203.15822.md\n",
      "\t _build/html/2203.15811.md\n"
     ]
    }
   ],
   "source": [
    "from datetime import datetime, timedelta, timezone\n",
    "from glob import glob\n",
    "\n",
    "files = glob('_build/html/*.md')\n",
    "days = 7\n",
    "now = datetime.today()\n",
    "res = []\n",
    "for fk in files:\n",
    "    stat_result = os.stat(fk).st_ctime\n",
    "    modified = datetime.fromtimestamp(stat_result, tz=timezone.utc).replace(tzinfo=None)\n",
    "    delta = now.today() - modified\n",
    "    if delta <= timedelta(days=days):\n",
    "        res.append((delta.seconds, fk))\n",
    "res = [k[1] for k in reversed(sorted(res, key=lambda x:x[1]))]\n",
    "npub = len(res)\n",
    "print(len(res), f\" publications in the last {days:d} days.\")\n",
    "[ print('\\t', k) for k in res ];"
   ]
  },
  {
   "cell_type": "code",
   "execution_count": 11,
   "id": "52ca0208",
   "metadata": {
    "execution": {
     "iopub.execute_input": "2022-12-07T04:08:37.660258Z",
     "iopub.status.busy": "2022-12-07T04:08:37.659686Z",
     "iopub.status.idle": "2022-12-07T04:08:37.666003Z",
     "shell.execute_reply": "2022-12-07T04:08:37.665380Z"
    },
    "papermill": {
     "duration": 0.018601,
     "end_time": "2022-12-07T04:08:37.667405",
     "exception": false,
     "start_time": "2022-12-07T04:08:37.648804",
     "status": "completed"
    },
    "scrolled": false,
    "tags": []
   },
   "outputs": [],
   "source": [
    "def create_carousel(npub=4):\n",
    "    \"\"\" Generate the HTML code for a carousel with `npub` slides \"\"\"\n",
    "    carousel = [\"\"\"<section class=\"carousel\" aria-label=\"Gallery\">\"\"\",\n",
    "                \"\"\"  <ol class=\"carousel__viewport\">\"\"\",\n",
    "    ]\n",
    "    for k in range(1, npub + 1):\n",
    "        prev_ = k - 1\n",
    "        next_ = k + 1\n",
    "        if prev_ <= 0:\n",
    "            prev_ = npub\n",
    "        if next_ > npub:\n",
    "            next_ = 1\n",
    "        text  = f\"\"\"    <li id=\"carousel__slide{k}\" tabindex=\"0\" class=\"carousel__slide\">\\n\"\"\"\n",
    "        text += f\"\"\"       <div class=\"carousel__snapper\">\\n\"\"\"\n",
    "        text += f\"\"\"         <a href=\"#carousel__slide{prev_}\" class=\"carousel__prev\">Go to previous slide</a>\\n\"\"\"\n",
    "        text += f\"\"\"         <a href=\"#carousel__slide{next_}\" class=\"carousel__next\">Go to next slide</a>\\n\"\"\"\n",
    "        text += f\"\"\"         <div id=\"slide{k}_content\" class=\"md_view\" >Content {k}</div>\\n\"\"\"\n",
    "        text += f\"\"\"       </div>\\n\"\"\"\n",
    "        text += f\"\"\"    </li>\"\"\"\n",
    "        carousel.append(text)\n",
    "\n",
    "    carousel.extend([\n",
    "        \"\"\"  </ol>\"\"\",\n",
    "        \"\"\"  <aside class=\"carousel__navigation\">\"\"\",\n",
    "        \"\"\"    <ol class=\"carousel__navigation-list\">\"\"\"])\n",
    "\n",
    "    for k in range(1, npub + 1):\n",
    "        text  = f\"\"\"      <li class=\"carousel__navigation-item\">\\n\"\"\"\n",
    "        text += f\"\"\"        <a href=\"#carousel__slide{k}\" class=\"carousel__navigation-button\">Go to {k}</a>\\n\"\"\"\n",
    "        text += f\"\"\"      </li>\"\"\"\n",
    "        carousel.append(text)\n",
    "    carousel.extend([\"\"\"    </ol>\"\"\", \"\"\"  </aside>\"\"\", \"\"\"</section>\"\"\"])\n",
    "\n",
    "    return '\\n'.join(carousel)"
   ]
  },
  {
   "cell_type": "code",
   "execution_count": 12,
   "id": "a6eac5b6",
   "metadata": {
    "execution": {
     "iopub.execute_input": "2022-12-07T04:08:37.713899Z",
     "iopub.status.busy": "2022-12-07T04:08:37.713400Z",
     "iopub.status.idle": "2022-12-07T04:08:37.719848Z",
     "shell.execute_reply": "2022-12-07T04:08:37.719289Z"
    },
    "papermill": {
     "duration": 0.043792,
     "end_time": "2022-12-07T04:08:37.721352",
     "exception": false,
     "start_time": "2022-12-07T04:08:37.677560",
     "status": "completed"
    },
    "scrolled": false,
    "tags": []
   },
   "outputs": [],
   "source": [
    "carousel = create_carousel(npub)\n",
    "docs = ', '.join(['\"{0:s}\"'.format(k.split('/')[-1]) for k in res])\n",
    "slides = ', '.join([f'\"slide{k}_content\"' for k in range(1, npub + 1)])\n",
    "\n",
    "script = f\"\"\"\n",
    "const docs = [{docs}]\n",
    "\n",
    "const slides = [{slides}]\n",
    "\"\"\" + \"\"\"\n",
    "async function run() {\n",
    "    for (let i = 0; i < docs.length; i++) {\n",
    "        let file = await fetch(docs[i]);\n",
    "        let text = await file.text()\n",
    "        document.getElementById(slides[i]).innerHTML =\n",
    "            marked.parse(text);\n",
    "    }\n",
    "    hljs.highlightAll();\n",
    "}\n",
    "run()\n",
    "\"\"\"\n",
    "\n",
    "page = f\"\"\"<!doctype html>\n",
    "<html lang=\"en\">\n",
    "\n",
    "<head>\n",
    "  <meta charset=\"utf-8\">\n",
    "  <meta name=\"viewport\" content=\"width=device-width, initial-scale=1\">\n",
    "  <!-- Bootstrap CSS -->\n",
    "  <link href=\"https://cdn.jsdelivr.net/npm/bootstrap@5.0.2/dist/css/bootstrap.min.css\" rel=\"stylesheet\"\n",
    "   integrity=\"sha384-EVSTQN3/azprG1Anm3QDgpJLIm9Nao0Yz1ztcQTwFspd3yD65VohhpuuCOmLASjC\" crossorigin=\"anonymous\">\n",
    "  <!-- highlight.js CSS -->\n",
    "  <link rel=\"stylesheet\" href=\"https://cdnjs.cloudflare.com/ajax/libs/highlight.js/11.1.0/styles/default.min.css\">\n",
    "  <!-- Mathjax 3 -->\n",
    "  <script type=\"text/javascript\" id=\"MathJax-config\" src=\"mathjax_config.js\"> </script>\n",
    "  <script type=\"text/javascript\" id=\"MathJax-script\" async \n",
    "    src=\"https://cdn.jsdelivr.net/npm/mathjax@3/es5/tex-mml-chtml.js\">\n",
    "  </script>\n",
    "  <link rel=\"stylesheet\" href=\"index_carousel.css\">\n",
    "  <link rel=\"icon\" type=\"image/x-icon\" href=\"https://www.mpia.de/assets/touch-icon-32x32-a66937bcebc4e8894ebff1f41a366c7c7220fd97a38869ee0f2db65a9f59b6c1.png\">\n",
    "  <title>MPIA Arxiv on deck!</title>\n",
    "</head>\n",
    "\n",
    "<body>\n",
    "  <div id=\"header\"> <img src=\"header_banner.png\" width=\"100%\"></div>\n",
    "  <div id=\"suptitle\"> 7-day archives </div>\n",
    "  <div id=\"info\">\n",
    "    <img src=\"https://pngimg.com/uploads/github/github_PNG58.png\" height=30rem></img>\n",
    "    <a href=https://github.com/mpi-astronomy/arxiv_display style=\"color:black;\">github/mpi-astronomy/arxiv_display</a> \n",
    "  </div>\n",
    "  {carousel:s}\n",
    "</body>\n",
    "\n",
    "<!-- Render Markdown -->\n",
    "\n",
    "<body>\n",
    "  <!-- highlight.js: https://highlightjs.org/download/ -->\n",
    "  <script src=\"https://cdnjs.cloudflare.com/ajax/libs/highlight.js/11.5.0/highlight.min.js\"></script>\n",
    "  <!-- marked.js -->\n",
    "  <script src=\"https://cdn.jsdelivr.net/npm/marked/marked.min.js\"></script>\n",
    "  <script>{script:s}</script>\n",
    "</body>\n",
    "</html>\n",
    "\"\"\"\n",
    "with open(\"_build/html/index_7days.html\", 'w') as fout:\n",
    "    fout.write(page)"
   ]
  },
  {
   "cell_type": "markdown",
   "id": "1cebacbc",
   "metadata": {
    "papermill": {
     "duration": 0.010108,
     "end_time": "2022-12-07T04:08:37.741778",
     "exception": false,
     "start_time": "2022-12-07T04:08:37.731670",
     "status": "completed"
    },
    "tags": []
   },
   "source": [
    "# Debugging papers"
   ]
  },
  {
   "cell_type": "raw",
   "id": "debe7cc6",
   "metadata": {
    "papermill": {
     "duration": 0.010084,
     "end_time": "2022-12-07T04:08:37.762308",
     "exception": false,
     "start_time": "2022-12-07T04:08:37.752224",
     "status": "completed"
    },
    "tags": []
   },
   "source": [
    "raise NotImplementedError(\"Manual Stop\")"
   ]
  },
  {
   "cell_type": "raw",
   "id": "eb169192",
   "metadata": {
    "papermill": {
     "duration": 0.010027,
     "end_time": "2022-12-07T04:08:37.782454",
     "exception": false,
     "start_time": "2022-12-07T04:08:37.772427",
     "status": "completed"
    },
    "scrolled": true,
    "tags": []
   },
   "source": [
    "from IPython.display import display, Markdown\n",
    "from TexSoup import TexSoup\n",
    "import re\n",
    "\n",
    "def bracket_error(source: str):\n",
    "    \"\"\" Find problematic portions of the document \"\"\"\n",
    "    \n",
    "    print(\"len(source)\", len(source))\n",
    "    \n",
    "    # Checking header\n",
    "    begin_doc = next(re.finditer(r'\\\\begin\\{document\\}', doc.source)).span()[1]\n",
    "    header = source[:begin_doc]\n",
    "    text = header + r\"\\n\\end{document}\"\n",
    "\n",
    "    try:\n",
    "        # print(\"Header check... \", end='')\n",
    "        TexSoup(text)\n",
    "        display(Markdown(f\"**[OK]** - Header\"))\n",
    "    except:\n",
    "        raise RuntimeError(\"Error in the header\")\n",
    "        \n",
    "    # Check the text per section until the end.\n",
    "    # Do not stop and try them all.\n",
    "    \n",
    "    problematic_text = []\n",
    "    \n",
    "    sections = ([(0, begin_doc, 'until first section')] + \n",
    "                [(g.span()[0], g.span()[1], g.group()) for g in re.finditer(r'\\\\section\\{.*\\}', source)] +\n",
    "                [(g.span()[0], g.span()[1], g.group()) for g in re.finditer(r'\\\\begin\\{appendix\\}', source)]\n",
    "               )\n",
    "    sections.append([len(source), len(source), 'end'])\n",
    "    \n",
    "    sections = sorted(sections, key=lambda x: x[0])\n",
    "    \n",
    "    prev_pos, prev_name = (0, 'header')\n",
    "    parsed = []\n",
    "    \n",
    "    for span, span_end, name in sections:\n",
    "\n",
    "        if span - prev_pos <= 0:\n",
    "            continue\n",
    "            \n",
    "\n",
    "        text = source[prev_pos:span]\n",
    "        if prev_pos > begin_doc:\n",
    "            text = r\"\\n\\begin{document}\" + text + r\"\\n\\end{document}\"\n",
    "        else:\n",
    "            text = text + r\"\\n\\end{document}\"\n",
    "        try:\n",
    "            #print(f\"{prev_pos}:{prev_name}-->{span}:{name} check... \", end='')\n",
    "            parsed.append(TexSoup(text, tolerance=1))  # allow not ending env\n",
    "            display(Markdown(f\"**[OK]** - *{prev_pos}*:{prev_name} &rarr; *{span}*:{name}\"))\n",
    "            # print(\"ok\")\n",
    "\n",
    "            prev_pos = span\n",
    "            prev_name = name\n",
    "        except:\n",
    "            # print(f\"error between {prev_pos} and {span}\")\n",
    "            display(Markdown(f\"**[ERR]** *{prev_pos}*:{prev_name} &rarr; *{span}*:{name}\"))\n",
    "            problematic_text.append((prev_pos, source[prev_pos:span]))\n",
    "            prev_pos = span\n",
    "            prev_name = name\n",
    "            # raise\n",
    "    return problematic_text, parsed\n",
    "\n",
    "\n",
    "def check_environment(text, offset=0):\n",
    "    \"\"\" Check environment \"\"\"\n",
    "    env = re.compile(r\"\\\\begin\\{(?P<env>.*)\\}(.*)\\\\end\\{(?P=env)\\}\", re.DOTALL)\n",
    "\n",
    "    for match in env.finditer(text):\n",
    "        beg, end = match.span()\n",
    "        beg += offset\n",
    "        end += offset\n",
    "        envname = match.groups()[0]\n",
    "        try:\n",
    "            latex.TexSoup(match.group())\n",
    "        except Exception as e:\n",
    "            display(e)\n",
    "            print(f\"Error in {envname:s} between {beg} and {end}\")\n",
    "            return match.groups()[1], beg, end"
   ]
  },
  {
   "cell_type": "raw",
   "id": "2315e835",
   "metadata": {
    "papermill": {
     "duration": 0.010076,
     "end_time": "2022-12-07T04:08:37.802657",
     "exception": false,
     "start_time": "2022-12-07T04:08:37.792581",
     "status": "completed"
    },
    "scrolled": false,
    "tags": []
   },
   "source": [
    "import importlib\n",
    "importlib.reload(latex)\n",
    "which = \"2204.03253\"\n",
    "paper_id = f'{which:s}'\n",
    "folder = f'tmp_{paper_id:s}'\n",
    "\n",
    "if not os.path.isdir(folder):\n",
    "    folder = retrieve_document_source(f\"{paper_id}\", f'tmp_{paper_id}')\n",
    "\n",
    "try:\n",
    "    doc = latex.LatexDocument(folder, validation=validation)    \n",
    "except AffiliationError as affilerror:\n",
    "    msg = f\"ArXiv:{paper_id:s} is not an MPIA paper... \" + str(affilerror)\n",
    "    print(msg)\n",
    "\n",
    "\n",
    "# Hack because sometimes author parsing does not work well\n",
    "if (len(doc.authors) != len(paper['authors'])):\n",
    "    doc._authors = paper['authors']\n",
    "if (doc.abstract) in (None, ''):\n",
    "    doc._abstract = paper['abstract']\n",
    "\n",
    "doc.comment = get_markdown_badge(paper_id) + \" _\" + paper['comments'] + \"_\"\n",
    "doc.highlight_authors_in_list(hl_list)\n",
    "\n",
    "full_md = doc.generate_markdown_text()"
   ]
  },
  {
   "cell_type": "raw",
   "id": "dd3781db",
   "metadata": {
    "papermill": {
     "duration": 0.010075,
     "end_time": "2022-12-07T04:08:37.822784",
     "exception": false,
     "start_time": "2022-12-07T04:08:37.812709",
     "status": "completed"
    },
    "scrolled": false,
    "tags": []
   },
   "source": [
    "doc"
   ]
  },
  {
   "cell_type": "raw",
   "id": "c6eed834",
   "metadata": {
    "papermill": {
     "duration": 0.010082,
     "end_time": "2022-12-07T04:08:37.843116",
     "exception": false,
     "start_time": "2022-12-07T04:08:37.833034",
     "status": "completed"
    },
    "tags": []
   },
   "source": [
    "# [check_environment(k) for k in bracket_error(doc.source)]\n",
    "_, _, a = latex.get_content_per_section(doc.source, verbose=True)\n",
    "if not a:\n",
    "    print(\"no issues per section\")\n",
    "for ak in a:\n",
    "    r = check_environment(ak[1], offset=ak[0])\n",
    "    print(r[1], r[2])\n",
    "    print(r[0])"
   ]
  },
  {
   "cell_type": "code",
   "execution_count": null,
   "id": "71ce768a",
   "metadata": {
    "papermill": {
     "duration": 0.010059,
     "end_time": "2022-12-07T04:08:37.863357",
     "exception": false,
     "start_time": "2022-12-07T04:08:37.853298",
     "status": "completed"
    },
    "tags": []
   },
   "outputs": [],
   "source": []
  }
 ],
 "metadata": {
  "kernelspec": {
   "display_name": "Python 3.10.6 64-bit",
   "language": "python",
   "name": "python3"
  },
  "language_info": {
   "codemirror_mode": {
    "name": "ipython",
    "version": 3
   },
   "file_extension": ".py",
   "mimetype": "text/x-python",
   "name": "python",
   "nbconvert_exporter": "python",
   "pygments_lexer": "ipython3",
   "version": "3.9.15"
  },
  "papermill": {
   "default_parameters": {},
   "duration": 183.511858,
   "end_time": "2022-12-07T04:08:38.092937",
   "environment_variables": {},
   "exception": null,
   "input_path": "MPIA daily digest.ipynb",
   "output_path": "log.ipynb",
   "parameters": {},
   "start_time": "2022-12-07T04:05:34.581079",
   "version": "2.4.0"
  },
  "vscode": {
   "interpreter": {
    "hash": "e7370f93d1d0cde622a1f8e1c04877d8463912d04d973331ad4851f04de6915a"
   }
  },
  "widgets": {
   "application/vnd.jupyter.widget-state+json": {
    "state": {
     "12d31e8755944b37a04e681750051e5f": {
      "model_module": "@jupyter-widgets/controls",
      "model_module_version": "2.0.0",
      "model_name": "HTMLModel",
      "state": {
       "_dom_classes": [],
       "_model_module": "@jupyter-widgets/controls",
       "_model_module_version": "2.0.0",
       "_model_name": "HTMLModel",
       "_view_count": null,
       "_view_module": "@jupyter-widgets/controls",
       "_view_module_version": "2.0.0",
       "_view_name": "HTMLView",
       "description": "",
       "description_allow_html": false,
       "layout": "IPY_MODEL_fe864d052c874757ae077330a0410629",
       "placeholder": "​",
       "style": "IPY_MODEL_4888d5ecbd5e4ab89c4c413b1a7e5227",
       "tabbable": null,
       "tooltip": null,
       "value": " 22/22 [02:36&lt;00:00,  2.23s/it]"
      }
     },
     "2e58470388c940f7806d2543339edc6d": {
      "model_module": "@jupyter-widgets/base",
      "model_module_version": "2.0.0",
      "model_name": "LayoutModel",
      "state": {
       "_model_module": "@jupyter-widgets/base",
       "_model_module_version": "2.0.0",
       "_model_name": "LayoutModel",
       "_view_count": null,
       "_view_module": "@jupyter-widgets/base",
       "_view_module_version": "2.0.0",
       "_view_name": "LayoutView",
       "align_content": null,
       "align_items": null,
       "align_self": null,
       "border_bottom": null,
       "border_left": null,
       "border_right": null,
       "border_top": null,
       "bottom": null,
       "display": null,
       "flex": null,
       "flex_flow": null,
       "grid_area": null,
       "grid_auto_columns": null,
       "grid_auto_flow": null,
       "grid_auto_rows": null,
       "grid_column": null,
       "grid_gap": null,
       "grid_row": null,
       "grid_template_areas": null,
       "grid_template_columns": null,
       "grid_template_rows": null,
       "height": null,
       "justify_content": null,
       "justify_items": null,
       "left": null,
       "margin": null,
       "max_height": null,
       "max_width": null,
       "min_height": null,
       "min_width": null,
       "object_fit": null,
       "object_position": null,
       "order": null,
       "overflow": null,
       "padding": null,
       "right": null,
       "top": null,
       "visibility": null,
       "width": null
      }
     },
     "31eef9cbb5b64372ae85c7cfe77796ac": {
      "model_module": "@jupyter-widgets/controls",
      "model_module_version": "2.0.0",
      "model_name": "ProgressStyleModel",
      "state": {
       "_model_module": "@jupyter-widgets/controls",
       "_model_module_version": "2.0.0",
       "_model_name": "ProgressStyleModel",
       "_view_count": null,
       "_view_module": "@jupyter-widgets/base",
       "_view_module_version": "2.0.0",
       "_view_name": "StyleView",
       "bar_color": null,
       "description_width": ""
      }
     },
     "4888d5ecbd5e4ab89c4c413b1a7e5227": {
      "model_module": "@jupyter-widgets/controls",
      "model_module_version": "2.0.0",
      "model_name": "HTMLStyleModel",
      "state": {
       "_model_module": "@jupyter-widgets/controls",
       "_model_module_version": "2.0.0",
       "_model_name": "HTMLStyleModel",
       "_view_count": null,
       "_view_module": "@jupyter-widgets/base",
       "_view_module_version": "2.0.0",
       "_view_name": "StyleView",
       "background": null,
       "description_width": "",
       "font_size": null,
       "text_color": null
      }
     },
     "4a0035a6646e4219b2ad0951a9169178": {
      "model_module": "@jupyter-widgets/controls",
      "model_module_version": "2.0.0",
      "model_name": "FloatProgressModel",
      "state": {
       "_dom_classes": [],
       "_model_module": "@jupyter-widgets/controls",
       "_model_module_version": "2.0.0",
       "_model_name": "FloatProgressModel",
       "_view_count": null,
       "_view_module": "@jupyter-widgets/controls",
       "_view_module_version": "2.0.0",
       "_view_name": "ProgressView",
       "bar_style": "success",
       "description": "",
       "description_allow_html": false,
       "layout": "IPY_MODEL_8340016a92be4e9ba0239924e8a5252e",
       "max": 22.0,
       "min": 0.0,
       "orientation": "horizontal",
       "style": "IPY_MODEL_31eef9cbb5b64372ae85c7cfe77796ac",
       "tabbable": null,
       "tooltip": null,
       "value": 22.0
      }
     },
     "5e196a803a1d45898d834867e6bc573b": {
      "model_module": "@jupyter-widgets/controls",
      "model_module_version": "2.0.0",
      "model_name": "HBoxModel",
      "state": {
       "_dom_classes": [],
       "_model_module": "@jupyter-widgets/controls",
       "_model_module_version": "2.0.0",
       "_model_name": "HBoxModel",
       "_view_count": null,
       "_view_module": "@jupyter-widgets/controls",
       "_view_module_version": "2.0.0",
       "_view_name": "HBoxView",
       "box_style": "",
       "children": [
        "IPY_MODEL_981d9d40bc9b4ee3b2433bba054cd212",
        "IPY_MODEL_4a0035a6646e4219b2ad0951a9169178",
        "IPY_MODEL_12d31e8755944b37a04e681750051e5f"
       ],
       "layout": "IPY_MODEL_2e58470388c940f7806d2543339edc6d",
       "tabbable": null,
       "tooltip": null
      }
     },
     "8340016a92be4e9ba0239924e8a5252e": {
      "model_module": "@jupyter-widgets/base",
      "model_module_version": "2.0.0",
      "model_name": "LayoutModel",
      "state": {
       "_model_module": "@jupyter-widgets/base",
       "_model_module_version": "2.0.0",
       "_model_name": "LayoutModel",
       "_view_count": null,
       "_view_module": "@jupyter-widgets/base",
       "_view_module_version": "2.0.0",
       "_view_name": "LayoutView",
       "align_content": null,
       "align_items": null,
       "align_self": null,
       "border_bottom": null,
       "border_left": null,
       "border_right": null,
       "border_top": null,
       "bottom": null,
       "display": null,
       "flex": null,
       "flex_flow": null,
       "grid_area": null,
       "grid_auto_columns": null,
       "grid_auto_flow": null,
       "grid_auto_rows": null,
       "grid_column": null,
       "grid_gap": null,
       "grid_row": null,
       "grid_template_areas": null,
       "grid_template_columns": null,
       "grid_template_rows": null,
       "height": null,
       "justify_content": null,
       "justify_items": null,
       "left": null,
       "margin": null,
       "max_height": null,
       "max_width": null,
       "min_height": null,
       "min_width": null,
       "object_fit": null,
       "object_position": null,
       "order": null,
       "overflow": null,
       "padding": null,
       "right": null,
       "top": null,
       "visibility": null,
       "width": null
      }
     },
     "981d9d40bc9b4ee3b2433bba054cd212": {
      "model_module": "@jupyter-widgets/controls",
      "model_module_version": "2.0.0",
      "model_name": "HTMLModel",
      "state": {
       "_dom_classes": [],
       "_model_module": "@jupyter-widgets/controls",
       "_model_module_version": "2.0.0",
       "_model_name": "HTMLModel",
       "_view_count": null,
       "_view_module": "@jupyter-widgets/controls",
       "_view_module_version": "2.0.0",
       "_view_name": "HTMLView",
       "description": "",
       "description_allow_html": false,
       "layout": "IPY_MODEL_d1c02ce8cc784307bf49284338ec8162",
       "placeholder": "​",
       "style": "IPY_MODEL_f987d926a3934005843f489c00dacd68",
       "tabbable": null,
       "tooltip": null,
       "value": "100%"
      }
     },
     "d1c02ce8cc784307bf49284338ec8162": {
      "model_module": "@jupyter-widgets/base",
      "model_module_version": "2.0.0",
      "model_name": "LayoutModel",
      "state": {
       "_model_module": "@jupyter-widgets/base",
       "_model_module_version": "2.0.0",
       "_model_name": "LayoutModel",
       "_view_count": null,
       "_view_module": "@jupyter-widgets/base",
       "_view_module_version": "2.0.0",
       "_view_name": "LayoutView",
       "align_content": null,
       "align_items": null,
       "align_self": null,
       "border_bottom": null,
       "border_left": null,
       "border_right": null,
       "border_top": null,
       "bottom": null,
       "display": null,
       "flex": null,
       "flex_flow": null,
       "grid_area": null,
       "grid_auto_columns": null,
       "grid_auto_flow": null,
       "grid_auto_rows": null,
       "grid_column": null,
       "grid_gap": null,
       "grid_row": null,
       "grid_template_areas": null,
       "grid_template_columns": null,
       "grid_template_rows": null,
       "height": null,
       "justify_content": null,
       "justify_items": null,
       "left": null,
       "margin": null,
       "max_height": null,
       "max_width": null,
       "min_height": null,
       "min_width": null,
       "object_fit": null,
       "object_position": null,
       "order": null,
       "overflow": null,
       "padding": null,
       "right": null,
       "top": null,
       "visibility": null,
       "width": null
      }
     },
     "f987d926a3934005843f489c00dacd68": {
      "model_module": "@jupyter-widgets/controls",
      "model_module_version": "2.0.0",
      "model_name": "HTMLStyleModel",
      "state": {
       "_model_module": "@jupyter-widgets/controls",
       "_model_module_version": "2.0.0",
       "_model_name": "HTMLStyleModel",
       "_view_count": null,
       "_view_module": "@jupyter-widgets/base",
       "_view_module_version": "2.0.0",
       "_view_name": "StyleView",
       "background": null,
       "description_width": "",
       "font_size": null,
       "text_color": null
      }
     },
     "fe864d052c874757ae077330a0410629": {
      "model_module": "@jupyter-widgets/base",
      "model_module_version": "2.0.0",
      "model_name": "LayoutModel",
      "state": {
       "_model_module": "@jupyter-widgets/base",
       "_model_module_version": "2.0.0",
       "_model_name": "LayoutModel",
       "_view_count": null,
       "_view_module": "@jupyter-widgets/base",
       "_view_module_version": "2.0.0",
       "_view_name": "LayoutView",
       "align_content": null,
       "align_items": null,
       "align_self": null,
       "border_bottom": null,
       "border_left": null,
       "border_right": null,
       "border_top": null,
       "bottom": null,
       "display": null,
       "flex": null,
       "flex_flow": null,
       "grid_area": null,
       "grid_auto_columns": null,
       "grid_auto_flow": null,
       "grid_auto_rows": null,
       "grid_column": null,
       "grid_gap": null,
       "grid_row": null,
       "grid_template_areas": null,
       "grid_template_columns": null,
       "grid_template_rows": null,
       "height": null,
       "justify_content": null,
       "justify_items": null,
       "left": null,
       "margin": null,
       "max_height": null,
       "max_width": null,
       "min_height": null,
       "min_width": null,
       "object_fit": null,
       "object_position": null,
       "order": null,
       "overflow": null,
       "padding": null,
       "right": null,
       "top": null,
       "visibility": null,
       "width": null
      }
     }
    },
    "version_major": 2,
    "version_minor": 0
   }
  }
 },
 "nbformat": 4,
 "nbformat_minor": 5
}