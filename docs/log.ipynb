{
 "cells": [
  {
   "cell_type": "markdown",
   "id": "92bcb855",
   "metadata": {
    "papermill": {
     "duration": 0.006067,
     "end_time": "2022-11-09T04:33:33.897729",
     "exception": false,
     "start_time": "2022-11-09T04:33:33.891662",
     "status": "completed"
    },
    "tags": []
   },
   "source": [
    "# MPIA Arxiv on Deck 2\n",
    "\n",
    "Contains the steps to produce the paper extractions."
   ]
  },
  {
   "cell_type": "code",
   "execution_count": 1,
   "id": "3a0d6e11",
   "metadata": {
    "execution": {
     "iopub.execute_input": "2022-11-09T04:33:33.908319Z",
     "iopub.status.busy": "2022-11-09T04:33:33.907627Z",
     "iopub.status.idle": "2022-11-09T04:33:34.081686Z",
     "shell.execute_reply": "2022-11-09T04:33:34.080935Z"
    },
    "papermill": {
     "duration": 0.182033,
     "end_time": "2022-11-09T04:33:34.084028",
     "exception": false,
     "start_time": "2022-11-09T04:33:33.901995",
     "status": "completed"
    },
    "tags": []
   },
   "outputs": [],
   "source": [
    "# Imports\n",
    "import os\n",
    "from IPython.display import Markdown, display\n",
    "from tqdm.notebook import tqdm\n",
    "import warnings\n",
    "from PIL import Image \n",
    "\n",
    "# requires arxiv_on_deck_2\n",
    "\n",
    "from arxiv_on_deck_2.arxiv2 import (get_new_papers, \n",
    "                                    get_paper_from_identifier,\n",
    "                                    retrieve_document_source, \n",
    "                                    get_markdown_badge)\n",
    "from arxiv_on_deck_2 import (latex, \n",
    "                             mpia,\n",
    "                             highlight_authors_in_list)\n",
    "\n",
    "# Sometimes images are really big\n",
    "Image.MAX_IMAGE_PIXELS = 1000000000 "
   ]
  },
  {
   "cell_type": "code",
   "execution_count": 2,
   "id": "22aa9d44",
   "metadata": {
    "execution": {
     "iopub.execute_input": "2022-11-09T04:33:34.095358Z",
     "iopub.status.busy": "2022-11-09T04:33:34.094674Z",
     "iopub.status.idle": "2022-11-09T04:33:34.099897Z",
     "shell.execute_reply": "2022-11-09T04:33:34.099362Z"
    },
    "papermill": {
     "duration": 0.012779,
     "end_time": "2022-11-09T04:33:34.101907",
     "exception": false,
     "start_time": "2022-11-09T04:33:34.089128",
     "status": "completed"
    },
    "tags": []
   },
   "outputs": [],
   "source": [
    "# Some useful definitions.\n",
    "\n",
    "class AffiliationWarning(UserWarning):\n",
    "    pass\n",
    "\n",
    "class AffiliationError(RuntimeError):\n",
    "    pass\n",
    "\n",
    "def validation(source: str):\n",
    "    \"\"\"Raises error paper during parsing of source file\n",
    "    \n",
    "    Allows checks before parsing TeX code.\n",
    "    \n",
    "    Raises AffiliationWarning\n",
    "    \"\"\"\n",
    "    check = mpia.affiliation_verifications(source, verbose=True)\n",
    "    if check is not True:\n",
    "        raise AffiliationError(\"mpia.affiliation_verifications: \" + check)\n",
    "\n",
    "        \n",
    "warnings.simplefilter('always', AffiliationWarning)"
   ]
  },
  {
   "cell_type": "code",
   "execution_count": 3,
   "id": "14622700",
   "metadata": {
    "execution": {
     "iopub.execute_input": "2022-11-09T04:33:34.112956Z",
     "iopub.status.busy": "2022-11-09T04:33:34.112316Z",
     "iopub.status.idle": "2022-11-09T04:33:34.117478Z",
     "shell.execute_reply": "2022-11-09T04:33:34.116379Z"
    },
    "papermill": {
     "duration": 0.013294,
     "end_time": "2022-11-09T04:33:34.119091",
     "exception": false,
     "start_time": "2022-11-09T04:33:34.105797",
     "status": "completed"
    },
    "tags": []
   },
   "outputs": [],
   "source": [
    "# additional CSS to consider. \n",
    "# TODO: Current into each exported file. \n",
    "#       This should be set once into the webpages directly.\n",
    "#       With only the class/id definitions in the .md files.\n",
    "\n",
    "debug_html = \"\"\"\n",
    "<style>\n",
    "#wrap{ overflow:auto; }\n",
    "#fig1{ background:yellow; width:100%; float:left; padding:5px;  }\n",
    "#fig2{ background:red; width:50%; float:left; clear:left; padding:5px;  }\n",
    "#fig3{ background:green; width:50%; float:left; padding:5px;   }\n",
    ".macros{ background:yellow; visibility:visible;}\n",
    "h1 {margin: 0 0 0 0;}\n",
    "mark {background-color:#fff3b6;}\n",
    "img {object-fit:contain; max-height:250px; display:inline-block; text-align: center;}\n",
    "</style>\n",
    "\"\"\" \n",
    "html = \"\"\"\n",
    "<style>\n",
    "#wrap{ overflow:auto; }\n",
    "#fig1{ width:100%; float:left; padding: 5px;  }\n",
    "#fig2{ width:50%; float:left; clear:left; padding: 5px;  }\n",
    "#fig3{ width:50%; float:left; padding: 5px;  }\n",
    ".macros{ visibility:hidden; height:0px; }\n",
    "h1 {margin: 0em 0 0 0;}\n",
    "mark {background-color:#fff3b6;}\n",
    "img {object-fit:contain; max-height:250px; display:inline-block; text-align: center;}\n",
    "</style>\n",
    "\"\"\""
   ]
  },
  {
   "cell_type": "markdown",
   "id": "14bd6310",
   "metadata": {
    "papermill": {
     "duration": 0.003955,
     "end_time": "2022-11-09T04:33:34.126882",
     "exception": false,
     "start_time": "2022-11-09T04:33:34.122927",
     "status": "completed"
    },
    "tags": []
   },
   "source": [
    "## get list of arxiv paper candidates\n",
    "\n",
    "We use the MPIA mitarbeiter list webpage from mpia.de to get author names\n",
    "We then get all new papers from Arxiv and match authors"
   ]
  },
  {
   "cell_type": "code",
   "execution_count": 4,
   "id": "2645e73a",
   "metadata": {
    "execution": {
     "iopub.execute_input": "2022-11-09T04:33:34.136137Z",
     "iopub.status.busy": "2022-11-09T04:33:34.135684Z",
     "iopub.status.idle": "2022-11-09T04:34:00.883243Z",
     "shell.execute_reply": "2022-11-09T04:34:00.882364Z"
    },
    "papermill": {
     "duration": 26.754098,
     "end_time": "2022-11-09T04:34:00.884913",
     "exception": false,
     "start_time": "2022-11-09T04:33:34.130815",
     "status": "completed"
    },
    "tags": []
   },
   "outputs": [
    {
     "name": "stdout",
     "output_type": "stream",
     "text": [
      "Arxiv has 63 new papers today\n",
      "          18 with possible author matches\n"
     ]
    }
   ],
   "source": [
    "# get list from MPIA website\n",
    "# it automatically filters identified non-scientists :func:`mpia.filter_non_scientists`\n",
    "mpia_authors = mpia.get_mpia_mitarbeiter_list()\n",
    "new_papers = get_new_papers()\n",
    "# add manual references\n",
    "add_paper_refs = []\n",
    "new_papers.extend([get_paper_from_identifier(k) for k in add_paper_refs])\n",
    "\n",
    "# select only papers with matching author names and highlight authors\n",
    "hl_list = [k[0] for k in mpia_authors]\n",
    "\n",
    "candidates = []\n",
    "for paperk in new_papers:\n",
    "    hl_authors = highlight_authors_in_list(paperk['authors'], hl_list)\n",
    "    matches = [(hl, orig) for hl, orig in zip(hl_authors, paperk['authors']) if 'mark' in hl]\n",
    "    paperk['authors'] = hl_authors\n",
    "    if matches:\n",
    "        candidates.append(paperk)\n",
    "print(\"\"\"Arxiv has {0:,d} new papers today\"\"\".format(len(new_papers)))        \n",
    "print(\"\"\"          {0:,d} with possible author matches\"\"\".format(len(candidates)))"
   ]
  },
  {
   "cell_type": "markdown",
   "id": "3543b34a",
   "metadata": {
    "papermill": {
     "duration": 0.004344,
     "end_time": "2022-11-09T04:34:00.893827",
     "exception": false,
     "start_time": "2022-11-09T04:34:00.889483",
     "status": "completed"
    },
    "tags": []
   },
   "source": [
    "# Parse sources and generate relevant outputs\n",
    "\n",
    "From the candidates, we do the following steps:\n",
    "* get their tarball from ArXiv (and extract data)\n",
    "* find the main .tex file: find one with \\documentclass{...} (sometimes it's non trivial)\n",
    "* Check affiliations with :func:`validation`, which uses :func:`mpia.affiliation_verifications`\n",
    "* If passing the affiliations: we parse the .tex source\n",
    "   * inject sub-documents into the main (flatten the main document)\n",
    "   * parse structure, extract information (title, abstract, authors, figures...)\n",
    "   * handles `\\graphicspath` if provided\n",
    "* Generate the .md document."
   ]
  },
  {
   "cell_type": "code",
   "execution_count": 5,
   "id": "9576b79e",
   "metadata": {
    "execution": {
     "iopub.execute_input": "2022-11-09T04:34:00.904353Z",
     "iopub.status.busy": "2022-11-09T04:34:00.903570Z",
     "iopub.status.idle": "2022-11-09T04:34:50.357339Z",
     "shell.execute_reply": "2022-11-09T04:34:50.356642Z"
    },
    "papermill": {
     "duration": 49.461659,
     "end_time": "2022-11-09T04:34:50.359586",
     "exception": false,
     "start_time": "2022-11-09T04:34:00.897927",
     "status": "completed"
    },
    "scrolled": false,
    "tags": []
   },
   "outputs": [
    {
     "data": {
      "application/vnd.jupyter.widget-view+json": {
       "model_id": "7f8c8d01d9e54390ab8efb22178a755b",
       "version_major": 2,
       "version_minor": 0
      },
      "text/plain": [
       "  0%|          | 0/17 [00:00<?, ?it/s]"
      ]
     },
     "metadata": {},
     "output_type": "display_data"
    },
    {
     "name": "stdout",
     "output_type": "stream",
     "text": [
      "Retrieving document from  https://arxiv.org/e-print/2211.03791\n"
     ]
    },
    {
     "name": "stdout",
     "output_type": "stream",
     "text": [
      "extracting tarball to tmp_2211.03791..."
     ]
    },
    {
     "name": "stdout",
     "output_type": "stream",
     "text": [
      " done.\n",
      "Retrieving document from  https://arxiv.org/e-print/2211.03796\n"
     ]
    },
    {
     "name": "stdout",
     "output_type": "stream",
     "text": [
      "extracting tarball to tmp_2211.03796..."
     ]
    },
    {
     "name": "stdout",
     "output_type": "stream",
     "text": [
      " done.\n",
      "Retrieving document from  https://arxiv.org/e-print/2211.03800\n"
     ]
    },
    {
     "name": "stdout",
     "output_type": "stream",
     "text": [
      "extracting tarball to tmp_2211.03800..."
     ]
    },
    {
     "name": "stdout",
     "output_type": "stream",
     "text": [
      " done.\n",
      "Retrieving document from  https://arxiv.org/e-print/2211.03801\n"
     ]
    },
    {
     "name": "stderr",
     "output_type": "stream",
     "text": [
      "/opt/hostedtoolcache/Python/3.9.15/x64/lib/python3.9/site-packages/IPython/core/interactiveshell.py:3433: LatexWarning: Multiple tex files.\n",
      "\n",
      "  exec(code_obj, self.user_global_ns, self.user_ns)\n",
      "/opt/hostedtoolcache/Python/3.9.15/x64/lib/python3.9/site-packages/IPython/core/interactiveshell.py:3433: LatexWarning: Found documentclass in tmp_2211.03800/mnras_guide.tex\n",
      "\n",
      "  exec(code_obj, self.user_global_ns, self.user_ns)\n"
     ]
    },
    {
     "name": "stdout",
     "output_type": "stream",
     "text": [
      "extracting tarball to tmp_2211.03801..."
     ]
    },
    {
     "name": "stdout",
     "output_type": "stream",
     "text": [
      " done.\n",
      "Retrieving document from  https://arxiv.org/e-print/2211.03811\n"
     ]
    },
    {
     "name": "stdout",
     "output_type": "stream",
     "text": [
      "extracting tarball to tmp_2211.03811..."
     ]
    },
    {
     "name": "stdout",
     "output_type": "stream",
     "text": [
      " done.\n",
      "Retrieving document from  https://arxiv.org/e-print/2211.03812\n"
     ]
    },
    {
     "name": "stderr",
     "output_type": "stream",
     "text": [
      "/opt/hostedtoolcache/Python/3.9.15/x64/lib/python3.9/site-packages/IPython/core/interactiveshell.py:3433: LatexWarning: Multiple tex files.\n",
      "\n",
      "  exec(code_obj, self.user_global_ns, self.user_ns)\n",
      "/opt/hostedtoolcache/Python/3.9.15/x64/lib/python3.9/site-packages/IPython/core/interactiveshell.py:3433: LatexWarning: Found documentclass in tmp_2211.03811/natnotes.tex\n",
      "\n",
      "  exec(code_obj, self.user_global_ns, self.user_ns)\n"
     ]
    },
    {
     "name": "stdout",
     "output_type": "stream",
     "text": [
      "extracting tarball to tmp_2211.03812..."
     ]
    },
    {
     "name": "stdout",
     "output_type": "stream",
     "text": [
      " done.\n",
      "Retrieving document from  https://arxiv.org/e-print/2211.03815\n"
     ]
    },
    {
     "name": "stdout",
     "output_type": "stream",
     "text": [
      "extracting tarball to tmp_2211.03815..."
     ]
    },
    {
     "name": "stdout",
     "output_type": "stream",
     "text": [
      " done.\n",
      "Retrieving document from  https://arxiv.org/e-print/2211.03892\n"
     ]
    },
    {
     "name": "stderr",
     "output_type": "stream",
     "text": [
      "/opt/hostedtoolcache/Python/3.9.15/x64/lib/python3.9/site-packages/IPython/core/interactiveshell.py:3433: LatexWarning: Multiple tex files.\n",
      "\n",
      "  exec(code_obj, self.user_global_ns, self.user_ns)\n",
      "/opt/hostedtoolcache/Python/3.9.15/x64/lib/python3.9/site-packages/IPython/core/interactiveshell.py:3433: LatexWarning: Found documentclass in tmp_2211.03815/main.tex\n",
      "\n",
      "  exec(code_obj, self.user_global_ns, self.user_ns)\n"
     ]
    },
    {
     "name": "stdout",
     "output_type": "stream",
     "text": [
      "extracting tarball to tmp_2211.03892..."
     ]
    },
    {
     "name": "stdout",
     "output_type": "stream",
     "text": [
      " done.\n",
      "Retrieving document from  https://arxiv.org/e-print/2211.03896\n"
     ]
    },
    {
     "name": "stderr",
     "output_type": "stream",
     "text": [
      "/opt/hostedtoolcache/Python/3.9.15/x64/lib/python3.9/site-packages/IPython/core/interactiveshell.py:3433: LatexWarning: Multiple tex files.\n",
      "\n",
      "  exec(code_obj, self.user_global_ns, self.user_ns)\n",
      "/opt/hostedtoolcache/Python/3.9.15/x64/lib/python3.9/site-packages/IPython/core/interactiveshell.py:3433: LatexWarning: Found documentclass in tmp_2211.03892/main.tex\n",
      "\n",
      "  exec(code_obj, self.user_global_ns, self.user_ns)\n"
     ]
    },
    {
     "name": "stdout",
     "output_type": "stream",
     "text": [
      "extracting tarball to tmp_2211.03896..."
     ]
    },
    {
     "name": "stdout",
     "output_type": "stream",
     "text": [
      " done.\n",
      "Retrieving document from  https://arxiv.org/e-print/2211.03947\n"
     ]
    },
    {
     "name": "stdout",
     "output_type": "stream",
     "text": [
      "extracting tarball to tmp_2211.03947..."
     ]
    },
    {
     "name": "stdout",
     "output_type": "stream",
     "text": [
      " done.\n",
      "Retrieving document from  https://arxiv.org/e-print/2211.04048\n"
     ]
    },
    {
     "name": "stdout",
     "output_type": "stream",
     "text": [
      "extracting tarball to tmp_2211.04048... done.\n"
     ]
    },
    {
     "name": "stdout",
     "output_type": "stream",
     "text": [
      "Retrieving document from  https://arxiv.org/e-print/2211.04160\n"
     ]
    },
    {
     "name": "stdout",
     "output_type": "stream",
     "text": [
      "extracting tarball to tmp_2211.04160..."
     ]
    },
    {
     "name": "stdout",
     "output_type": "stream",
     "text": [
      " done.\n",
      "Retrieving document from  https://arxiv.org/e-print/2211.04260\n"
     ]
    },
    {
     "name": "stdout",
     "output_type": "stream",
     "text": [
      "extracting tarball to tmp_2211.04260..."
     ]
    },
    {
     "name": "stdout",
     "output_type": "stream",
     "text": [
      " done.\n",
      "Retrieving document from  https://arxiv.org/e-print/2211.04328\n"
     ]
    },
    {
     "name": "stdout",
     "output_type": "stream",
     "text": [
      "extracting tarball to tmp_2211.04328..."
     ]
    },
    {
     "name": "stdout",
     "output_type": "stream",
     "text": [
      " done.\n",
      "Retrieving document from  https://arxiv.org/e-print/2211.04386\n"
     ]
    },
    {
     "name": "stderr",
     "output_type": "stream",
     "text": [
      "/opt/hostedtoolcache/Python/3.9.15/x64/lib/python3.9/site-packages/IPython/core/interactiveshell.py:3433: LatexWarning: Multiple tex files.\n",
      "\n",
      "  exec(code_obj, self.user_global_ns, self.user_ns)\n",
      "/opt/hostedtoolcache/Python/3.9.15/x64/lib/python3.9/site-packages/IPython/core/interactiveshell.py:3433: LatexWarning: Found documentclass in tmp_2211.04328/main.tex\n",
      "\n",
      "  exec(code_obj, self.user_global_ns, self.user_ns)\n",
      "/opt/hostedtoolcache/Python/3.9.15/x64/lib/python3.9/site-packages/arxiv_on_deck_2/latex.py:292: LatexWarning: Latex injecting: 'files/appendix' from 'tmp_2211.04328/files/appendix.tex'\n",
      "  warnings.warn(LatexWarning(f\"Latex injecting: '{ext}' from '{subsource}'\"))\n",
      "/opt/hostedtoolcache/Python/3.9.15/x64/lib/python3.9/site-packages/arxiv_on_deck_2/latex.py:292: LatexWarning: Latex injecting: 'files/conclusion' from 'tmp_2211.04328/files/conclusion.tex'\n",
      "  warnings.warn(LatexWarning(f\"Latex injecting: '{ext}' from '{subsource}'\"))\n",
      "/opt/hostedtoolcache/Python/3.9.15/x64/lib/python3.9/site-packages/arxiv_on_deck_2/latex.py:292: LatexWarning: Latex injecting: 'files/results' from 'tmp_2211.04328/files/results.tex'\n",
      "  warnings.warn(LatexWarning(f\"Latex injecting: '{ext}' from '{subsource}'\"))\n",
      "/opt/hostedtoolcache/Python/3.9.15/x64/lib/python3.9/site-packages/arxiv_on_deck_2/latex.py:292: LatexWarning: Latex injecting: 'files/methodology' from 'tmp_2211.04328/files/methodology.tex'\n",
      "  warnings.warn(LatexWarning(f\"Latex injecting: '{ext}' from '{subsource}'\"))\n",
      "/opt/hostedtoolcache/Python/3.9.15/x64/lib/python3.9/site-packages/arxiv_on_deck_2/latex.py:292: LatexWarning: Latex injecting: 'files/data' from 'tmp_2211.04328/files/data.tex'\n",
      "  warnings.warn(LatexWarning(f\"Latex injecting: '{ext}' from '{subsource}'\"))\n",
      "/opt/hostedtoolcache/Python/3.9.15/x64/lib/python3.9/site-packages/arxiv_on_deck_2/latex.py:292: LatexWarning: Latex injecting: 'files/introduction' from 'tmp_2211.04328/files/introduction.tex'\n",
      "  warnings.warn(LatexWarning(f\"Latex injecting: '{ext}' from '{subsource}'\"))\n"
     ]
    },
    {
     "name": "stdout",
     "output_type": "stream",
     "text": [
      "extracting tarball to tmp_2211.04386..."
     ]
    },
    {
     "name": "stdout",
     "output_type": "stream",
     "text": [
      " done.\n",
      "Retrieving document from  https://arxiv.org/e-print/2211.04387\n"
     ]
    },
    {
     "name": "stderr",
     "output_type": "stream",
     "text": [
      "/opt/hostedtoolcache/Python/3.9.15/x64/lib/python3.9/site-packages/IPython/core/interactiveshell.py:3433: LatexWarning: Multiple tex files.\n",
      "\n",
      "  exec(code_obj, self.user_global_ns, self.user_ns)\n",
      "/opt/hostedtoolcache/Python/3.9.15/x64/lib/python3.9/site-packages/IPython/core/interactiveshell.py:3433: LatexWarning: Found documentclass in tmp_2211.04386/natnotes.tex\n",
      "\n",
      "  exec(code_obj, self.user_global_ns, self.user_ns)\n"
     ]
    },
    {
     "name": "stdout",
     "output_type": "stream",
     "text": [
      "extracting tarball to tmp_2211.04387..."
     ]
    },
    {
     "name": "stdout",
     "output_type": "stream",
     "text": [
      " done.\n",
      "Retrieving document from  https://arxiv.org/e-print/2211.04413\n"
     ]
    },
    {
     "name": "stderr",
     "output_type": "stream",
     "text": [
      "/opt/hostedtoolcache/Python/3.9.15/x64/lib/python3.9/site-packages/IPython/core/interactiveshell.py:3433: LatexWarning: Multiple tex files.\n",
      "\n",
      "  exec(code_obj, self.user_global_ns, self.user_ns)\n",
      "/opt/hostedtoolcache/Python/3.9.15/x64/lib/python3.9/site-packages/IPython/core/interactiveshell.py:3433: LatexWarning: Found documentclass in tmp_2211.04387/natnotes.tex\n",
      "\n",
      "  exec(code_obj, self.user_global_ns, self.user_ns)\n"
     ]
    },
    {
     "name": "stdout",
     "output_type": "stream",
     "text": [
      "extracting tarball to tmp_2211.04413..."
     ]
    },
    {
     "name": "stdout",
     "output_type": "stream",
     "text": [
      " done.\n"
     ]
    }
   ],
   "source": [
    "documents = []\n",
    "failed = []\n",
    "for paper in tqdm(candidates[:-1]):\n",
    "    paper_id = paper['identifier'].lower().replace('arxiv:', '')\n",
    "    \n",
    "    folder = f'tmp_{paper_id}'\n",
    "\n",
    "    try:\n",
    "        if not os.path.isdir(folder):\n",
    "            folder = retrieve_document_source(f\"{paper_id}\", f'tmp_{paper_id}')\n",
    "        \n",
    "        try:\n",
    "            doc = latex.LatexDocument(folder, validation=validation)    \n",
    "        except AffiliationError as affilerror:\n",
    "            msg = f\"ArXiv:{paper_id:s} is not an MPIA paper... \" + str(affilerror)\n",
    "            failed.append((paper, \"affiliation error: \" + str(affilerror) ))\n",
    "            continue\n",
    "        \n",
    "        # Hack because sometimes author parsing does not work well\n",
    "        if (len(doc.authors) != len(paper['authors'])):\n",
    "            doc._authors = paper['authors']\n",
    "        if (doc.abstract) in (None, ''):\n",
    "            doc._abstract = paper['abstract']\n",
    "            \n",
    "        doc.comment = (get_markdown_badge(paper_id) + \n",
    "                       \"<mark>Appeared on: \" + paper['date'] + \"</mark> - \" +\n",
    "                       \"_\" + paper['comments'] + \"_\")\n",
    "        doc.highlight_authors_in_list(hl_list)\n",
    "\n",
    "        full_md = doc.generate_markdown_text()\n",
    "        \n",
    "        documents.append((paper_id, full_md))\n",
    "    except Exception as e:\n",
    "        warnings.warn(latex.LatexWarning(f\"{paper_id:s} did not run properly\\n\" +\n",
    "                                         str(e)\n",
    "                                        ))\n",
    "        failed.append((paper, \"latex error \" + str(e)))"
   ]
  },
  {
   "cell_type": "markdown",
   "id": "2505a25c",
   "metadata": {
    "papermill": {
     "duration": 0.006579,
     "end_time": "2022-11-09T04:34:50.372754",
     "exception": false,
     "start_time": "2022-11-09T04:34:50.366175",
     "status": "completed"
    },
    "tags": []
   },
   "source": [
    "### Export the logs\n",
    "\n",
    "Throughout, we also keep track of the logs per paper. see `logs-{today date}.md` "
   ]
  },
  {
   "cell_type": "code",
   "execution_count": 6,
   "id": "d733828a",
   "metadata": {
    "execution": {
     "iopub.execute_input": "2022-11-09T04:34:50.387460Z",
     "iopub.status.busy": "2022-11-09T04:34:50.386643Z",
     "iopub.status.idle": "2022-11-09T04:34:50.416559Z",
     "shell.execute_reply": "2022-11-09T04:34:50.415851Z"
    },
    "papermill": {
     "duration": 0.039219,
     "end_time": "2022-11-09T04:34:50.418077",
     "exception": false,
     "start_time": "2022-11-09T04:34:50.378858",
     "status": "completed"
    },
    "scrolled": false,
    "tags": []
   },
   "outputs": [
    {
     "data": {
      "text/markdown": [
       "## Successful papers"
      ],
      "text/plain": [
       "<IPython.core.display.Markdown object>"
      ]
     },
     "metadata": {},
     "output_type": "display_data"
    },
    {
     "data": {
      "text/markdown": [
       "\n",
       "|||\n",
       "|---:|:---|\n",
       "| [![arXiv](https://img.shields.io/badge/arXiv-arXiv:2211.04048-b31b1b.svg)](https://arxiv.org/abs/arXiv:2211.04048) | **CAMEMBERT: A Mini-Neptunes GCM Intercomparison, Protocol Version 1.0. A  CUISINES Model Intercomparison Project**  |\n",
       "|| <mark>Duncan A. Christie</mark>, et al. -- incl., <mark>Elspeth K. H. Lee</mark>, <mark>Linda Sohl</mark>, <mark>Maria E. Steinrueck</mark> |\n",
       "|*Appeared on*| *2022-11-09*|\n",
       "|*Comments*| *Accepted to PSJ*|\n",
       "|**Abstract**| With an increased focus on the observing and modelling of mini-Neptunes, there comes a need to better understand the tools we use to model their atmospheres. In this paper, we present the protocol for the CAMEMBERT (Comparing Atmospheric Models of Extrasolar Mini-neptunes Building and Envisioning Retrievals and Transits) project, an intercomparison of general circulation models (GCMs) used by the exoplanetary science community to simulate the atmospheres of mini-Neptunes. We focus on two targets well studied both observationally and theoretically with planned JWST Cycle 1 observations: the warm GJ~1214b and the cooler K2-18b. For each target, we consider a temperature-forced case, a clear sky dual-grey radiative transfer case, and a clear sky multi band radiative transfer case, covering a range of complexities and configurations where we know differences exist between GCMs in the literature. This paper presents all the details necessary to participate in the intercomparison, with the intention of presenting the results in future papers. Currently, there are eight GCMs participating (ExoCAM, Exo-FMS, FMS PCM, Generic PCM, MITgcm, RM-GCM, THOR, and the UM), and membership in the project remains open. Those interested in participating are invited to contact the authors. |"
      ],
      "text/plain": [
       "[arXiv:2211.04048] CAMEMBERT: A Mini-Neptunes GCM Intercomparison, Protocol Version 1.0. A  CUISINES Model Intercomparison Project\n",
       "\t<mark>Duncan A. Christie</mark>, et al. -- incl., <mark>Elspeth K. H. Lee</mark>, <mark>Linda Sohl</mark>, <mark>Maria E. Steinrueck</mark>"
      ]
     },
     "metadata": {},
     "output_type": "display_data"
    },
    {
     "data": {
      "text/markdown": [
       "## Failed papers"
      ],
      "text/plain": [
       "<IPython.core.display.Markdown object>"
      ]
     },
     "metadata": {},
     "output_type": "display_data"
    },
    {
     "data": {
      "text/markdown": [
       "\n",
       "|||\n",
       "|---:|:---|\n",
       "| [![arXiv](https://img.shields.io/badge/arXiv-arXiv:2211.03801-b31b1b.svg)](https://arxiv.org/abs/arXiv:2211.03801) | **Once is an Instance, Twice is a Hobby: Multiple Optical and  Near-Infrared Changing-Look Events in NGC 5273**  |\n",
       "|| J. M. M. Neustadt, et al. -- incl., <mark>T. deJaeger</mark>, <mark>M. E. Huber</mark> |\n",
       "|*Appeared on*| *2022-11-09*|\n",
       "|*Comments*| *18 pages, 13 figures, 4 tables, submitting to MNRAS*|\n",
       "|**Abstract**| NGC 5273 is a known optical and X-ray variable AGN. We analyze new and archival IR, optical, UV, and X-ray data in order to characterize its long-term variability from 2000 to 2022. At least one changing-look event occurred between 2011 and 2014, when the AGN changed from a Type 1.8/1.9 Seyfert to a Type 1. It then faded considerably at all wavelengths, followed by a dramatic but slow increase in UV/optical brightness between 2021 and 2022. We propose that NGC 5273 underwent multiple changing-look events between 2000 and 2022 -- starting as a Type 1.8/1.9, NGC 5273 changes-look to a Type 1 only temporarily in 2002 and again in 2014, reverting back to a Type 1.8/1.9 by 2005 and 2017, respectively. In 2022, it is again a Type 1 Seyfert with optical and NIR broad emission lines. We characterize the changing-look events and their connection to the dynamic accretion and radiative processes in NGC 5273. |\n",
       "|<p style=\"color:green\"> **ERROR** </p>| <p style=\"color:green\">affiliation error: mpia.affiliation_verifications: '69117' keyword not found.</p> |"
      ],
      "text/plain": [
       "<IPython.core.display.Markdown object>"
      ]
     },
     "metadata": {},
     "output_type": "display_data"
    },
    {
     "data": {
      "text/markdown": [
       "\n",
       "|||\n",
       "|---:|:---|\n",
       "| [![arXiv](https://img.shields.io/badge/arXiv-arXiv:2211.04160-b31b1b.svg)](https://arxiv.org/abs/arXiv:2211.04160) | **A Neural Network Subgrid Model of the Early Stages of Planet Formation**  |\n",
       "|| <mark>Thomas Pfeil</mark>, et al. -- incl., <mark>Hubert Klahr</mark> |\n",
       "|*Appeared on*| *2022-11-09*|\n",
       "|*Comments*| *6 pages, 4 figures, accepted at the Machine Learning and the Physical Sciences workshop, NeurIPS 2022*|\n",
       "|**Abstract**| Planet formation is a multi-scale process in which the coagulation of $\\mathrm{\\mu m}$-sized dust grains in protoplanetary disks is strongly influenced by the hydrodynamic processes on scales of astronomical units ($\\approx 1.5\\times 10^8 \\,\\mathrm{km}$). Studies are therefore dependent on subgrid models to emulate the micro physics of dust coagulation on top of a large scale hydrodynamic simulation. Numerical simulations which include the relevant physical effects are complex and computationally expensive. Here, we present a fast and accurate learned effective model for dust coagulation, trained on data from high resolution numerical coagulation simulations. Our model captures details of the dust coagulation process that were so far not tractable with other dust coagulation prescriptions with similar computational efficiency. |\n",
       "|<p style=\"color:green\"> **ERROR** </p>| <p style=\"color:green\">affiliation error: mpia.affiliation_verifications: '69117' keyword not found.</p> |"
      ],
      "text/plain": [
       "<IPython.core.display.Markdown object>"
      ]
     },
     "metadata": {},
     "output_type": "display_data"
    },
    {
     "data": {
      "text/markdown": [
       "\n",
       "|||\n",
       "|---:|:---|\n",
       "| [![arXiv](https://img.shields.io/badge/arXiv-arXiv:2211.04413-b31b1b.svg)](https://arxiv.org/abs/arXiv:2211.04413) | **Formation of metal-free binaries: Impact of H$_{2}$ line cooling and CIE  cooling**  |\n",
       "|| Rafeel Riaz, et al. -- incl., <mark>Dominik R.G. Schleicher</mark> |\n",
       "|*Appeared on*| *2022-11-09*|\n",
       "|*Comments*| *Accepted for publication in MNRAS. Contains 15 pages, 11 figures, 4 tables*|\n",
       "|**Abstract**| During primordial star formation, the main cooling channel is provided by H$_{2}$ and super-molecules, such as H$_{2}$ or H$_{2}$, at sufficiently high densities. When the latter form at $n_{\\rm H}$ $\\geq$ $10^{14}$~cm$^{-3}$, collision-induced emission (CIE) provides efficient gas cooling. We investigate how CIE cooling affects the formation of metal-free binaries comparing simulations with and without this process. Irrespective of the cooling mechanism, we find a typical protostellar mass range between 0.01 to 100 M$_{\\odot}$. However, models with only H$_{2}$ line cooling produce a greater number of low-mass protostars which exhibit stronger variations in their radial velocities than the high-mass protostars. Similarly, in models with both H$_{2}$ cooling and CIE cooling, significant variations in the radial velocities are found for protostars in the intermediate mass range. The initial number of fragments $N_{\\rm max}$ decreases with increasing strength of turbulence. Cooling via super-molecules lets the most massive protobinaries (MMPBs) efficiently accrete mass. The maximum mass accretion rate $\\dot M_{\\rm max}$ for the MMPBs is more than an order of magnitude higher in the presence of CIE cooling than for pure H$_{2}$ line cooling. As a result, compact binaries with a semi-major axis as small as 3.57 au may form through the H$_{2}$ $-$ H$_{2}$ cooling channel. Our results indicate that in addition to the MMPBs most population III (Pop. III) binaries should be in eccentric i.e. non-circular orbits. This provides an important connection to the eccentric binaries reported in previous studies, which were found to exhibit rich temporal accretion signals during their evolution. |\n",
       "|<p style=\"color:green\"> **ERROR** </p>| <p style=\"color:green\">affiliation error: mpia.affiliation_verifications: '69117' keyword not found.</p> |"
      ],
      "text/plain": [
       "<IPython.core.display.Markdown object>"
      ]
     },
     "metadata": {},
     "output_type": "display_data"
    },
    {
     "data": {
      "text/markdown": [
       "\n",
       "|||\n",
       "|---:|:---|\n",
       "| [![arXiv](https://img.shields.io/badge/arXiv-arXiv:2211.03791-b31b1b.svg)](https://arxiv.org/abs/arXiv:2211.03791) | **Preparing for Solar and Heliospheric Science with the SKAO: An Indian  Perspective**  |\n",
       "|| Divya Oberoi, et al. -- incl., <mark>Rohit Sharma</mark> |\n",
       "|*Appeared on*| *2022-11-09*|\n",
       "|*Comments*| *34 pages, 18 figures, accepted for publication in Journal of Astronomy and Astrophysics*|\n",
       "|**Abstract**| The Square Kilometre Array Observatory (SKAO) is perhaps the most ambitious radio telescope envisaged yet. It will enable unprecedented studies of the Sun, the corona and the heliosphere and help to answer many of the outstanding questions in these areas. Its ability to make a vast previously unexplored phase space accessible, also promises a large discovery potential. The Indian solar and heliospheric physics community have been preparing for this science opportunity. A significant part of this effort has been towards playing a leading role in pursuing science with SKAO precursor instruments. This article briefly summarises the current status of the various aspects of work done as a part of this enterprise and our future goals. |\n",
       "|<p style=\"color:green\"> **ERROR** </p>| <p style=\"color:green\">affiliation error: mpia.affiliation_verifications: 'Heidelberg' keyword not found.</p> |"
      ],
      "text/plain": [
       "<IPython.core.display.Markdown object>"
      ]
     },
     "metadata": {},
     "output_type": "display_data"
    },
    {
     "data": {
      "text/markdown": [
       "\n",
       "|||\n",
       "|---:|:---|\n",
       "| [![arXiv](https://img.shields.io/badge/arXiv-arXiv:2211.03796-b31b1b.svg)](https://arxiv.org/abs/arXiv:2211.03796) | **Astronomia ex machina: a history, primer, and outlook on neural networks  in astronomy**  |\n",
       "|| <mark>Michael J. Smith</mark>, James E. Geach |\n",
       "|*Appeared on*| *2022-11-09*|\n",
       "|*Comments*| *60 pages, 269 references, 29 figures. Review submitted to Royal Society Open Science. Comments and feedback welcome*|\n",
       "|**Abstract**| In recent years, deep learning has infiltrated every field it has touched, reducing the need for specialist knowledge and automating the process of knowledge discovery from data. This review argues that astronomy is no different, and that we are currently in the midst of a deep learning revolution that is transforming the way we do astronomy. We trace the history of astronomical connectionism from the early days of multilayer perceptrons, through the second wave of convolutional and recurrent neural networks, to the current third wave of self-supervised and unsupervised deep learning. We then predict that we will soon enter a fourth wave of astronomical connectionism, in which finetuned versions of an all-encompassing 'foundation' model will replace expertly crafted deep learning models. We argue that such a model can only be brought about through a symbiotic relationship between astronomy and connectionism, whereby astronomy provides high quality multimodal data to train the foundation model, and in turn the foundation model is used to advance astronomical research. |\n",
       "|<p style=\"color:green\"> **ERROR** </p>| <p style=\"color:green\">affiliation error: mpia.affiliation_verifications: 'Heidelberg' keyword not found.</p> |"
      ],
      "text/plain": [
       "<IPython.core.display.Markdown object>"
      ]
     },
     "metadata": {},
     "output_type": "display_data"
    },
    {
     "data": {
      "text/markdown": [
       "\n",
       "|||\n",
       "|---:|:---|\n",
       "| [![arXiv](https://img.shields.io/badge/arXiv-arXiv:2211.03800-b31b1b.svg)](https://arxiv.org/abs/arXiv:2211.03800) | **The demographics of obscured AGN from X-ray spectroscopy guided by  multiwavelength information**  |\n",
       "|| Brivael Laloux, et al. -- incl., <mark>Cristina Ramos Almeida</mark> |\n",
       "|*Appeared on*| *2022-11-09*|\n",
       "|*Comments*| *Accepted for publication at MNRAS, 21 pages, 20 figures, 6 tables*|\n",
       "|**Abstract**| A complete census of Active Galactic Nuclei (AGN) is a prerequisite for understanding the growth of supermassive black holes across cosmic time. A significant challenge toward this goal is the whereabouts of heavily obscured AGN that remain uncertain. This paper sets new constraints on the demographics of this population by developing a methodology that combines X-ray spectral information with priors derived from multiwavelength observations. We select X-ray AGN in the Chandra COSMOS Legacy survey and fit their $2.2-500\\mu m$ spectral energy distributions with galaxy and AGN templates to determine the mid-infrared ($6\\mu m$) luminosity of the AGN component. Empirical correlations between X-ray and $6\\mu m$ luminosities are then adopted to infer the intrinsic accretion luminosity at X-rays for individual AGN. This is used as prior information in our Bayesian X-ray spectral analysis to estimate physical properties, such as line-of-sight obscuration. Our approach breaks the degeneracies between accretion luminosity and obscuration that affect X-ray spectral analysis, particularly for the most heavily obscured (Compton-Thick) AGN with low photon counts X-ray spectra. The X-ray spectral results are then combined with the selection function of the Chandra COSMOS Legacy survey to derive the AGN space density and a Compton-Thick fraction of $21.0^{+16.1}_{-9.9}\\%$ at redshifts $z<0.5$. At higher redshift, our analysis suggests upper limits to the Compton-Thick AGN fraction of $\\le 40\\%$. These estimates are at the low end of the range of values determined in the literature and underline the importance of multiwavelength approaches for tackling the challenge of heavily obscured AGN demographics. |\n",
       "|<p style=\"color:green\"> **ERROR** </p>| <p style=\"color:green\">affiliation error: mpia.affiliation_verifications: 'Heidelberg' keyword not found.</p> |"
      ],
      "text/plain": [
       "<IPython.core.display.Markdown object>"
      ]
     },
     "metadata": {},
     "output_type": "display_data"
    },
    {
     "data": {
      "text/markdown": [
       "\n",
       "|||\n",
       "|---:|:---|\n",
       "| [![arXiv](https://img.shields.io/badge/arXiv-arXiv:2211.03811-b31b1b.svg)](https://arxiv.org/abs/arXiv:2211.03811) | **Revealing the progenitor of SN 2021zby through analysis of the $TESS$  shock-cooling light curve**  |\n",
       "|| Qinan Wang, et al. -- incl., <mark>Chris Lidman</mark>, <mark>Joseph P Anderson</mark>, <mark>Joseph D. Lyman</mark>, <mark>Tomás E. Müller-bravo</mark>, <mark>Ken Smith</mark> |\n",
       "|*Appeared on*| *2022-11-09*|\n",
       "|*Comments*| *12 pages, 5 figures, 2 tables, submitted to ApJL*|\n",
       "|**Abstract**| We present early observations and analysis of the double-peaked Type IIb supernova (SN IIb) 2021zby. $TESS$ captured the prominent early shock cooling peak of SN 2021zby within the first $\\sim$10 days after explosion with a 30-minute cadence. We present optical and near-infrared spectral series of SN 2021zby, including three spectra during the shock cooling phase. Using a multi-band model fit, we find that the inferred properties of its progenitor are consistent with a red supergiant or yellow supergiant, with an envelope mass of $\\sim$0.3-3.0 M$_\\odot$ and an envelope radius of $\\sim$50-350$ R_\\odot$. These inferred progenitor properties are similar to those of other SNe IIb with double-peak feature, such as SNe 1993J, 2011dh, 2016gkg and 2017jgh. This study further validates the importance of the high cadence and early coverage in resolving the shape of the shock cooling light curve, while the multi-band observations, especially UV, is also necessary to fully constrain the progenitor properties. |\n",
       "|<p style=\"color:green\"> **ERROR** </p>| <p style=\"color:green\">affiliation error: mpia.affiliation_verifications: 'Heidelberg' keyword not found.</p> |"
      ],
      "text/plain": [
       "<IPython.core.display.Markdown object>"
      ]
     },
     "metadata": {},
     "output_type": "display_data"
    },
    {
     "data": {
      "text/markdown": [
       "\n",
       "|||\n",
       "|---:|:---|\n",
       "| [![arXiv](https://img.shields.io/badge/arXiv-arXiv:2211.03812-b31b1b.svg)](https://arxiv.org/abs/arXiv:2211.03812) | **Posterior samples of source galaxies in strong gravitational lenses with  score-based priors**  |\n",
       "|| Alexandre Adam, et al. -- incl., <mark>Yashar Hezaveh</mark> |\n",
       "|*Appeared on*| *2022-11-09*|\n",
       "|*Comments*| *5+6 pages, 3 figures, Accepted (poster + contributed talk) for the Machine Learning and the Physical Sciences Workshop at the 36th conference on Neural Information Processing Systems (NeurIPS 2022)*|\n",
       "|**Abstract**| Inferring accurate posteriors for high-dimensional representations of the brightness of gravitationally-lensed sources is a major challenge, in part due to the difficulties of accurately quantifying the priors. Here, we report the use of a score-based model to encode the prior for the inference of undistorted images of background galaxies. This model is trained on a set of high-resolution images of undistorted galaxies. By adding the likelihood score to the prior score and using a reverse-time stochastic differential equation solver, we obtain samples from the posterior. Our method produces independent posterior samples and models the data almost down to the noise level. We show how the balance between the likelihood and the prior meet our expectations in an experiment with out-of-distribution data. |\n",
       "|<p style=\"color:green\"> **ERROR** </p>| <p style=\"color:green\">affiliation error: mpia.affiliation_verifications: 'Heidelberg' keyword not found.</p> |"
      ],
      "text/plain": [
       "<IPython.core.display.Markdown object>"
      ]
     },
     "metadata": {},
     "output_type": "display_data"
    },
    {
     "data": {
      "text/markdown": [
       "\n",
       "|||\n",
       "|---:|:---|\n",
       "| [![arXiv](https://img.shields.io/badge/arXiv-arXiv:2211.03815-b31b1b.svg)](https://arxiv.org/abs/arXiv:2211.03815) | **A MeerKAT look at the polarization of 47 Tucanae pulsars: magnetic field  implications**  |\n",
       "|| F. Abbate, et al. -- incl., <mark>M. Kramer</mark>, <mark>L. Zhang</mark> |\n",
       "|*Appeared on*| *2022-11-09*|\n",
       "|*Comments*| *Accepted for publication in MNRAS, 14 pages, 6 figures*|\n",
       "|**Abstract**| We present the polarization profiles of 22 pulsars in the globular cluster 47 Tucanae using observations from the MeerKAT radio telescope at UHF-band (544-1088 MHz) and report precise values of dispersion measure (DM) and rotation measure (RM). We use these measurements to investigate the presence of turbulence in electron density and magnetic fields. The structure function of DM shows a break at $\\sim 30$ arcsec ($\\sim 0.6$ pc at the distance of 47 Tucanae) that suggests the presence of turbulence in the gas in the cluster driven by the motion of wind-shedding stars. On the other hand, the structure function of RM does not show evidence of a break. This non-detection could be explained either by the limited number of pulsars or by the effects of the intervening gas in the Galaxy along the line of sight. Future pulsar discoveries in the cluster could help confirm the presence and localise the turbulence. |\n",
       "|<p style=\"color:green\"> **ERROR** </p>| <p style=\"color:green\">affiliation error: mpia.affiliation_verifications: 'Heidelberg' keyword not found.</p> |"
      ],
      "text/plain": [
       "<IPython.core.display.Markdown object>"
      ]
     },
     "metadata": {},
     "output_type": "display_data"
    },
    {
     "data": {
      "text/markdown": [
       "\n",
       "|||\n",
       "|---:|:---|\n",
       "| [![arXiv](https://img.shields.io/badge/arXiv-arXiv:2211.03892-b31b1b.svg)](https://arxiv.org/abs/arXiv:2211.03892) | **Weak-lensing mass bias in merging galaxy clusters**  |\n",
       "|| <mark>Wonki Lee</mark>, et al. -- incl., <mark>Lindsay King</mark> |\n",
       "|*Appeared on*| *2022-11-09*|\n",
       "|*Comments*| *14 pages, 11 figures, submitted to ApJ*|\n",
       "|**Abstract**| Although weak lensing (WL) is a powerful method to estimate a galaxy cluster mass without any dynamical assumptions, a model bias can arise when the cluster density profile departs from the assumed model profile. In a merging system, the bias is expected to become most severe because the constituent halos undergo significant structural changes. In this study, we investigate WL mass bias in binary cluster mergers using a suite of idealized hydrodynamical simulations. Realistic WL shear catalogs are generated by matching the source galaxy properties, such as intrinsic shape dispersion, measurement noise, source densities, etc., to those from Subaru and {\\it Hubble Space Telescope} observations. We find that, with the typical mass-concentration ($M$-$c$) relation and the Navarro-Frenk-White (NFW) profile, the halo mass bias depends on the time since the first pericenter passage and increases with the mass of the companion cluster. The time evolution of the mass bias is similar to that of the concentration, indicating that, to first order, the mass bias is modulated by the concentration change. For a collision between two $\\sim10^{15}~M_{\\odot}$ clusters, the maximum bias amounts to $\\sim60\\%$. This suggests that previous WL studies may have significantly overestimated the mass of the clusters in some of the most massive mergers. Finally, we apply our results to three merger cases: Abell 2034, MACS J1752.0+4440, and ZwCl 1856.8+6616, and report their mass biases at the observed epoch, as well as their pre-merger masses, utilizing their merger shock locations as tracers of the merger phases. |\n",
       "|<p style=\"color:green\"> **ERROR** </p>| <p style=\"color:green\">affiliation error: mpia.affiliation_verifications: 'Heidelberg' keyword not found.</p> |"
      ],
      "text/plain": [
       "<IPython.core.display.Markdown object>"
      ]
     },
     "metadata": {},
     "output_type": "display_data"
    },
    {
     "data": {
      "text/markdown": [
       "\n",
       "|||\n",
       "|---:|:---|\n",
       "| [![arXiv](https://img.shields.io/badge/arXiv-arXiv:2211.03896-b31b1b.svg)](https://arxiv.org/abs/arXiv:2211.03896) | **ALMA FIR View of Ultra High-redshift Galaxy Candidates at $z\\sim$ 11-17:  Blue Monsters or Low-$z$ Red Interlopers?**  |\n",
       "|| Seiji Fujimoto, et al. -- incl., <mark>Henry C. Ferguson</mark> |\n",
       "|*Appeared on*| *2022-11-09*|\n",
       "|*Comments*| *23 pages, 8 figures, 7 tables, submitted to ApJ*|\n",
       "|**Abstract**| We present ALMA Band 7 observations of a remarkably bright galaxy candidate at $z_{\\rm phot}$=$16.7^{+1.9}_{-0.3}$ ($M_{\\rm UV}$=$-21.6$), S5-z17-1, identified in JWST Early Release Observation data of Stephen's Quintet. We do not detect the dust continuum at 866 $\\mu$m, ruling out the possibility that S5-z17-1 is a low-$z$ dusty starburst with a star-formation rate (SFR) of $\\gtrsim 30\\,M_{\\odot}$ yr$^{-1}$. We detect a 5.1$\\sigma$ line feature at $338.726\\pm0.007$ GHz exactly coinciding with the JWST source position, with a 2% likelihood of the signal being spurious. The most likely line identification would be [OIII]52$\\mu$m at $z=16.01$ or [CII]158$\\mu$m at $z=4.61$, whose line luminosities do not violate the non-detection of the dust continuum in both cases. Together with three other $z\\gtrsim$ 11-13 candidate galaxies recently observed with ALMA, we conduct a joint ALMA and JWST spectral energy distribution (SED) analysis and find that the high-$z$ solution at $z\\sim$11-17 is favored in every candidate as a very blue (UV continuum slope of $\\approx-2.3$) and luminous ($M_{\\rm UV}$ $\\approx$ [$-$24:$-$21]) system. Still, we find in some candidates that reasonable SED fits ($\\Delta$ $\\chi^{2}\\lesssim4$) are reproduced by type-II quasar and/or quiescent galaxy templates with strong emission lines at $z\\sim3$-5, where such populations predicted from their luminosity functions and EW([OIII]+H$\\beta$) distributions are abundant in the survey volumes used for the $z\\sim$11-17 candidates. While these recent ALMA observation results have strengthened the likelihood of the high-$z$ solutions, lower-$z$ possibilities are not completely ruled out in some of the $z\\sim$11-17 candidates. |\n",
       "|<p style=\"color:green\"> **ERROR** </p>| <p style=\"color:green\">affiliation error: mpia.affiliation_verifications: 'Heidelberg' keyword not found.</p> |"
      ],
      "text/plain": [
       "<IPython.core.display.Markdown object>"
      ]
     },
     "metadata": {},
     "output_type": "display_data"
    },
    {
     "data": {
      "text/markdown": [
       "\n",
       "|||\n",
       "|---:|:---|\n",
       "| [![arXiv](https://img.shields.io/badge/arXiv-arXiv:2211.03947-b31b1b.svg)](https://arxiv.org/abs/arXiv:2211.03947) | **Final stage of merging binaries of supermassive black holes:  observational signatures**  |\n",
       "|| Jian-Min Wang, Yu-Yang Songsheng, <mark>Yan-Rong Li</mark>, Pu Du |\n",
       "|*Appeared on*| *2022-11-09*|\n",
       "|*Comments*| *10 pages, 3 figures; accepted to MNRAS*|\n",
       "|**Abstract**| There are increasing interests in binary supermassive black holes (SMBHs), but merging binaries with separations smaller than ~1 light days (~10^2 gravitational radii for 10^8 Msun), which are rapidly evolving under control of gravitational waves, are elusive in observations. In this paper, we discuss fates of mini-disks around component SMBHs for three regimes: 1) low rates (advection-dominated accretion flows: ADAFs); 2) intermediate rates; 3) super-Eddington accretion rates. Mini-disks with intermediate rates are undergoing evaporation through thermal conduction of hot corona forming a hybrid radial structure. When the binary orbital periods are shorter than sound propagation timescales of the evaporated mini-disks, a new instability, denoted as sound instability, arises because the disks will be highly twisted so that they are destroyed. We demonstrate a critical separation of A_{crit}~10^2 Rg from the sound instability of the mini-disks and the cavity is full of hot gas. For those binaries, component SMBHs are accreting with Bondi mode in the ADAF regime, showing periodic variations resulting from Doppler boosting effects in radio from the ADAFs due to orbital motion. In the mean while, the circumbinary disks (CBDs) are still not hot enough (ultraviolet deficit) to generate photons to ionize gas for broad emission lines. For slightly super-Eddington accretion of the CBDs, MgII line appears with decreases of UV deficit, and for intermediate super-Eddington Balmer lines appear, but CIV line never unless CBD accretion rates are extremely high. Moreover, if the CBDs are misaligned with the binary plane, it is then expected to have optical periodical variations with about ten times radio periods. |\n",
       "|<p style=\"color:green\"> **ERROR** </p>| <p style=\"color:green\">affiliation error: mpia.affiliation_verifications: 'Heidelberg' keyword not found.</p> |"
      ],
      "text/plain": [
       "<IPython.core.display.Markdown object>"
      ]
     },
     "metadata": {},
     "output_type": "display_data"
    },
    {
     "data": {
      "text/markdown": [
       "\n",
       "|||\n",
       "|---:|:---|\n",
       "| [![arXiv](https://img.shields.io/badge/arXiv-arXiv:2211.04260-b31b1b.svg)](https://arxiv.org/abs/arXiv:2211.04260) | **PhotoRedshift-MML: a multimodal machine learning method for estimating  photometric redshifts of quasars**  |\n",
       "|| Shuxin Hong, et al. -- incl., <mark>A-Li Luo</mark>, <mark>Wenyu Yang</mark> |\n",
       "|*Appeared on*| *2022-11-09*|\n",
       "|*Comments*| *10 pages, 8 figures, accepted for publication in MNRAS*|\n",
       "|**Abstract**| We propose a Multimodal Machine Learning method for estimating the Photometric Redshifts of quasars (PhotoRedshift-MML for short), which has long been the subject of many investigations. Our method includes two main models, i.e. the feature transformation model by multimodal representation learning, and the photometric redshift estimation model by multimodal transfer learning. The prediction accuracy of the photometric redshift was significantly improved owing to the large amount of information offered by the generated spectral features learned from photometric data via the MML. A total of 415,930 quasars from Sloan Digital Sky Survey (SDSS) Data Release 17, with redshifts between 1 and 5, were screened for our experiments. We used |{\\Delta}z| = |(z_phot-z_spec)/(1+z_spec)| to evaluate the redshift prediction and demonstrated a 4.04% increase in accuracy. With the help of the generated spectral features, the proportion of data with |{\\Delta}z| < 0.1 can reach 84.45% of the total test samples, whereas it reaches 80.41% for single-modal photometric data. Moreover, the Root Mean Square (RMS) of |{\\Delta}z| is shown to decreases from 0.1332 to 0.1235. Our method has the potential to be generalized to other astronomical data analyses such as galaxy classification and redshift prediction. The algorithm code can be found at https://github.com/HongShuxin/PhotoRedshift-MML . |\n",
       "|<p style=\"color:green\"> **ERROR** </p>| <p style=\"color:green\">affiliation error: mpia.affiliation_verifications: 'Heidelberg' keyword not found.</p> |"
      ],
      "text/plain": [
       "<IPython.core.display.Markdown object>"
      ]
     },
     "metadata": {},
     "output_type": "display_data"
    },
    {
     "data": {
      "text/markdown": [
       "\n",
       "|||\n",
       "|---:|:---|\n",
       "| [![arXiv](https://img.shields.io/badge/arXiv-arXiv:2211.04328-b31b1b.svg)](https://arxiv.org/abs/arXiv:2211.04328) | **Cosmic void exclusion models and their impact on the distance scale  measurements from large scale structure**  |\n",
       "|| Andrei Variu, et al. -- incl., <mark>Cheng Zhao</mark> |\n",
       "|*Appeared on*| *2022-11-09*|\n",
       "|*Comments*| *18 pages, 24 figures*|\n",
       "|**Abstract**| Baryonic Acoustic Oscillations (BAOs) studies based on the clustering of voids and matter tracers provide important constraints on cosmological parameters related to the expansion of the Universe. However, modelling the void exclusion effect is an important challenge for fully exploiting the potential of these kind of analyses. We thus develop two numerical methods to describe the clustering of cosmic voids. Neither model requires additional cosmological information beyond that assumed within the galaxy de-wiggled model. The models consist in power spectra whose performance we assess in comparison to a parabolic model on both Patchy boxes and light-cones. Moreover, we test their robustness against systematic effects and the reconstruction technique. The void model power spectra and the parabolic model with a fixed parameter provide strongly correlated values for the Alcock-Paczynski ($\\alpha$) parameter, for boxes and light-cones likewise. The resulting $\\alpha$ values - for all three models - are unbiased and their uncertainties are correctly estimated. However, the numerical models show less variation with the fitting range compared to the parabolic one. The Bayesian evidence suggests that the numerical techniques are often favoured compared to the parabolic model. Moreover, the void model power spectra computed on boxes can describe the void clustering from light-cones as well as from boxes. The same void model power spectra can be used for the study of pre- and post-reconstructed data-sets. Lastly, the two numerical techniques are resilient against the studied systematic effects. Consequently, using either of the two new void models, one can more robustly measure cosmological parameters. |\n",
       "|<p style=\"color:green\"> **ERROR** </p>| <p style=\"color:green\">affiliation error: mpia.affiliation_verifications: 'Heidelberg' keyword not found.</p> |"
      ],
      "text/plain": [
       "<IPython.core.display.Markdown object>"
      ]
     },
     "metadata": {},
     "output_type": "display_data"
    },
    {
     "data": {
      "text/markdown": [
       "\n",
       "|||\n",
       "|---:|:---|\n",
       "| [![arXiv](https://img.shields.io/badge/arXiv-arXiv:2211.04386-b31b1b.svg)](https://arxiv.org/abs/arXiv:2211.04386) | **Quick-Look Pipeline Light Curves for 5.7 Million Stars Observed Over the  Second Year of TESS' First Extended Mission**  |\n",
       "|| Michelle Kunimoto, et al. -- incl., <mark>Katharine Hesse</mark> |\n",
       "|*Appeared on*| *2022-11-09*|\n",
       "|*Comments*| *3 pages, 1 figure*|\n",
       "|**Abstract**| We present High-Level Science Products (HLSPs) containing light curves from MIT's Quick-Look Pipeline (QLP) from the second year of TESS' first Extended Mission (Sectors 40 - 55; 2021 July - 2022 September). In total, 12.2 million per-sector light curves for 5.7 million unique stars were extracted from 10-minute cadence Full-Frame Images (FFIs) and are made available to the community. As in previous deliveries, QLP HLSPs include both raw and detrended flux time series for all observed stars brighter than TESS magnitude T = 13.5 mag. Starting in Sector 41, QLP also produces light curves for select fainter M dwarfs. QLP has provided the community with one of the largest sources of FFI-extracted light curves to date since the start of the TESS mission. |\n",
       "|<p style=\"color:green\"> **ERROR** </p>| <p style=\"color:green\">affiliation error: mpia.affiliation_verifications: 'Heidelberg' keyword not found.</p> |"
      ],
      "text/plain": [
       "<IPython.core.display.Markdown object>"
      ]
     },
     "metadata": {},
     "output_type": "display_data"
    },
    {
     "data": {
      "text/markdown": [
       "\n",
       "|||\n",
       "|---:|:---|\n",
       "| [![arXiv](https://img.shields.io/badge/arXiv-arXiv:2211.04387-b31b1b.svg)](https://arxiv.org/abs/arXiv:2211.04387) | **QLP Data Release Notes 002: Improved Detrending Algorithm**  |\n",
       "|| Michelle Kunimoto, et al. -- incl., <mark>Katharine Hesse</mark> |\n",
       "|*Appeared on*| *2022-11-09*|\n",
       "|*Comments*| *3 pages, 1 figure*|\n",
       "|**Abstract**| Light curves feature many kinds of variability, including instrumental systematics, intrinsic stellar variability such as pulsations, and flux changes caused by transiting exoplanets or eclipsing binary stars. Detrending is a key pre-planet-search data processing step that aims to remove variability not due to transits. This data release note describes improvements to the Quick-Look Pipeline's detrending algorithm via the inclusion of quaternion data to remove short-timescale systematics. We describe updates to our procedure, intermediate data products outputted by the algorithm, and improvements to light curve precision. |\n",
       "|<p style=\"color:green\"> **ERROR** </p>| <p style=\"color:green\">affiliation error: mpia.affiliation_verifications: 'Heidelberg' keyword not found.</p> |"
      ],
      "text/plain": [
       "<IPython.core.display.Markdown object>"
      ]
     },
     "metadata": {},
     "output_type": "display_data"
    }
   ],
   "source": [
    "import datetime\n",
    "today = str(datetime.date.today())\n",
    "logfile = f\"_build/html/logs/log-{today}.md\"\n",
    "\n",
    "\n",
    "with open(logfile, 'w') as logs:\n",
    "    # Success\n",
    "    logs.write(f'# Arxiv on Deck 2: Logs - {today}\\n\\n')\n",
    "    logs.write(\"\"\"* Arxiv had {0:,d} new papers\\n\"\"\".format(len(new_papers)))\n",
    "    logs.write(\"\"\"    * {0:,d} with possible author matches\\n\\n\"\"\".format(len(candidates)))\n",
    "    logs.write(\"## Sucessful papers\\n\\n\")\n",
    "    display(Markdown(\"## Successful papers\"))\n",
    "    success = [k[0] for k in documents]\n",
    "    for candid in candidates:\n",
    "        if candid['identifier'].split(':')[-1] in success:\n",
    "            display(candid)\n",
    "            logs.write(candid.generate_markdown_text() + '\\n\\n')\n",
    "\n",
    "    ## failed\n",
    "    logs.write(\"## Failed papers\\n\\n\")\n",
    "    display(Markdown(\"## Failed papers\"))\n",
    "    failed = sorted(failed, key=lambda x: x[1])\n",
    "    current_reason = \"\"\n",
    "    for paper, reason in failed:\n",
    "        if 'affiliation' in reason:\n",
    "            color = 'green'\n",
    "        else:\n",
    "            color = 'red'\n",
    "        data = Markdown(\n",
    "                paper.generate_markdown_text() + \n",
    "                f'\\n|<p style=\"color:{color:s}\"> **ERROR** </p>| <p style=\"color:{color:s}\">{reason:s}</p> |'\n",
    "               )\n",
    "        if reason != current_reason:\n",
    "            logs.write(f'### {reason:s} \\n\\n')\n",
    "            current_reason = reason\n",
    "        logs.write(data.data + '\\n\\n')\n",
    "        \n",
    "        # only display here the important errors (all in logs)\n",
    "        # if color in ('red',):\n",
    "        display(data)"
   ]
  },
  {
   "cell_type": "markdown",
   "id": "472d20ee",
   "metadata": {
    "papermill": {
     "duration": 0.00849,
     "end_time": "2022-11-09T04:34:50.435175",
     "exception": false,
     "start_time": "2022-11-09T04:34:50.426685",
     "status": "completed"
    },
    "tags": []
   },
   "source": [
    "## Export documents\n",
    "\n",
    "We now write the .md files and export relevant images"
   ]
  },
  {
   "cell_type": "code",
   "execution_count": 7,
   "id": "d426aed9",
   "metadata": {
    "execution": {
     "iopub.execute_input": "2022-11-09T04:34:50.453812Z",
     "iopub.status.busy": "2022-11-09T04:34:50.453191Z",
     "iopub.status.idle": "2022-11-09T04:34:50.461507Z",
     "shell.execute_reply": "2022-11-09T04:34:50.460914Z"
    },
    "papermill": {
     "duration": 0.019673,
     "end_time": "2022-11-09T04:34:50.463165",
     "exception": false,
     "start_time": "2022-11-09T04:34:50.443492",
     "status": "completed"
    },
    "tags": []
   },
   "outputs": [],
   "source": [
    "def export_markdown_summary(md: str, md_fname:str, directory: str):\n",
    "    \"\"\"Export MD document and associated relevant images\"\"\"\n",
    "    import os\n",
    "    import shutil\n",
    "    import re\n",
    "\n",
    "    if (os.path.exists(directory) and not os.path.isdir(directory)):\n",
    "        raise RuntimeError(f\"a non-directory file exists with name {directory:s}\")\n",
    "\n",
    "    if (not os.path.exists(directory)):\n",
    "        print(f\"creating directory {directory:s}\")\n",
    "        os.mkdir(directory)\n",
    "\n",
    "    fig_fnames = (re.compile(r'\\[Fig.*\\]\\((.*)\\)').findall(md) + \n",
    "                  re.compile(r'\\<img src=\"([^>\\s]*)\"[^>]*/>').findall(md))\n",
    "    for fname in fig_fnames:\n",
    "        if 'http' in fname:\n",
    "            # No need to copy online figures\n",
    "            continue\n",
    "        destdir = os.path.join(directory, os.path.dirname(fname))\n",
    "        destfname = os.path.join(destdir, os.path.basename(fname))\n",
    "        try:\n",
    "            os.makedirs(destdir)\n",
    "        except FileExistsError:\n",
    "            pass\n",
    "        shutil.copy(fname, destfname)\n",
    "    with open(os.path.join(directory, md_fname), 'w') as fout:\n",
    "        fout.write(md)\n",
    "    print(\"exported in \", os.path.join(directory, md_fname))\n",
    "    [print(\"    + \" + os.path.join(directory,fk)) for fk in fig_fnames]"
   ]
  },
  {
   "cell_type": "code",
   "execution_count": 8,
   "id": "014d04a4",
   "metadata": {
    "execution": {
     "iopub.execute_input": "2022-11-09T04:34:50.481624Z",
     "iopub.status.busy": "2022-11-09T04:34:50.481341Z",
     "iopub.status.idle": "2022-11-09T04:34:50.486142Z",
     "shell.execute_reply": "2022-11-09T04:34:50.485479Z"
    },
    "papermill": {
     "duration": 0.016023,
     "end_time": "2022-11-09T04:34:50.487729",
     "exception": false,
     "start_time": "2022-11-09T04:34:50.471706",
     "status": "completed"
    },
    "tags": []
   },
   "outputs": [
    {
     "name": "stdout",
     "output_type": "stream",
     "text": [
      "exported in  _build/html/2211.04048.md\n",
      "    + _build/html/tmp_2211.04048/./initial_pt_profiles.png\n",
      "    + _build/html/tmp_2211.04048/./chem_profiles.png\n"
     ]
    }
   ],
   "source": [
    "for paper_id, md in documents:\n",
    "    export_markdown_summary(md, f\"{paper_id:s}.md\", '_build/html/')"
   ]
  },
  {
   "cell_type": "markdown",
   "id": "f087a0a7",
   "metadata": {
    "papermill": {
     "duration": 0.008374,
     "end_time": "2022-11-09T04:34:50.504474",
     "exception": false,
     "start_time": "2022-11-09T04:34:50.496100",
     "status": "completed"
    },
    "tags": []
   },
   "source": [
    "## Display the papers\n",
    "\n",
    "Not necessary but allows for a quick check."
   ]
  },
  {
   "cell_type": "code",
   "execution_count": 9,
   "id": "fd25f625",
   "metadata": {
    "execution": {
     "iopub.execute_input": "2022-11-09T04:34:50.522888Z",
     "iopub.status.busy": "2022-11-09T04:34:50.522363Z",
     "iopub.status.idle": "2022-11-09T04:34:50.528385Z",
     "shell.execute_reply": "2022-11-09T04:34:50.527643Z"
    },
    "papermill": {
     "duration": 0.017115,
     "end_time": "2022-11-09T04:34:50.529927",
     "exception": false,
     "start_time": "2022-11-09T04:34:50.512812",
     "status": "completed"
    },
    "scrolled": false,
    "tags": []
   },
   "outputs": [
    {
     "data": {
      "text/markdown": [
       "<div class=\"macros\" style=\"visibility:hidden;\">\n",
       "$\\newcommand{\\ensuremath}{}$\n",
       "$\\newcommand{\\xspace}{}$\n",
       "$\\newcommand{\\object}[1]{\\texttt{#1}}$\n",
       "$\\newcommand{\\farcs}{{.}''}$\n",
       "$\\newcommand{\\farcm}{{.}'}$\n",
       "$\\newcommand{\\arcsec}{''}$\n",
       "$\\newcommand{\\arcmin}{'}$\n",
       "$\\newcommand{\\ion}[2]{#1#2}$\n",
       "$\\newcommand{\\textsc}[1]{\\textrm{#1}}$\n",
       "$\\newcommand{\\hl}[1]{\\textrm{#1}}$\n",
       "$\\newcommand{\\vdag}{(v)^\\dagger}$\n",
       "$\\newcommand$\n",
       "$\\newcommand$</div>\n",
       "\n",
       "<div class=\"macros\" style=\"visibility:hidden;\">\n",
       "$\\newcommand{$\\ensuremath$}{}$\n",
       "$\\newcommand{$\\xspace$}{}$\n",
       "$\\newcommand{$\\object$}[1]{\\texttt{#1}}$\n",
       "$\\newcommand{$\\farcs$}{{.}''}$\n",
       "$\\newcommand{$\\farcm$}{{.}'}$\n",
       "$\\newcommand{$\\arcsec$}{''}$\n",
       "$\\newcommand{$\\arcmin$}{'}$\n",
       "$\\newcommand{$\\ion$}[2]{#1#2}$\n",
       "$\\newcommand{$\\textsc$}[1]{\\textrm{#1}}$\n",
       "$\\newcommand{$\\hl$}[1]{\\textrm{#1}}$\n",
       "$\\newcommand{$\\vdag$}{(v)^\\dagger}$\n",
       "$\\newcommand$\n",
       "$\\newcommand$</div>\n",
       "\n",
       "\n",
       "\n",
       "<div id=\"title\">\n",
       "\n",
       "# \n",
       "\n",
       "</div>\n",
       "<div id=\"comments\">\n",
       "\n",
       "[![arXiv](https://img.shields.io/badge/arXiv-2211.04048-b31b1b.svg)](https://arxiv.org/abs/2211.04048)<mark>Appeared on: 2022-11-09</mark> - _Accepted to PSJ_\n",
       "\n",
       "</div>\n",
       "<div id=\"authors\">\n",
       "\n",
       "<mark>Duncan A. Christie</mark>, et al. -- incl., <mark>Elspeth K. H. Lee</mark>, <mark>Linda Sohl</mark>, <mark>Maria E. Steinrueck</mark>\n",
       "\n",
       "</div>\n",
       "<div id=\"abstract\">\n",
       "\n",
       "**Abstract:** With an increased focus on the observing and modelling of mini-Neptunes, there comes a need to better understand the tools we use to model their atmospheres.  In this paper, we present the protocol for the CAMEMBERT (Comparing Atmospheric Models of Extrasolar Mini-neptunes Building and Envisioning Retrievals and Transits) project, an intercomparison of general circulation models (GCMs) used by the exoplanetary science community to simulate the atmospheres of mini-Neptunes.   We focus on two targets well studied both observationally and theoretically with planned JWST Cycle 1 observations:  the warm GJ 1214b and the cooler K2-18b.  For each target, we consider a temperature-forced case, a clear sky dual-grey radiative transfer case, and a clear sky multi band radiative transfer case, covering a range of complexities and configurations where we know differences exist between GCMs in the literature.   This paper presents all the details necessary to participate in the intercomparison, with the intention of presenting the results in future papers.   Currently, there are eight GCMs participating ({\\sc ExoCAM},{\\sc Exo-FMS}, FMS PCM,{\\sc Generic PCM},{\\sc MITgcm}, RM-GCM, THOR, and the UM), and membership in the project remains open.  Those interested in participating are invited to contact the authors.\n",
       "\n",
       "</div>\n",
       "\n",
       "<div id=\"div_fig1\">\n",
       "\n",
       "<img src=\"tmp_2211.04048/./initial_pt_profiles.png\" alt=\"Fig1\" width=\"100%\"/>\n",
       "\n",
       "**Figure 1. -** Initial temperature profiles for K2-18b and GJ 1214b.  The solid lines indicate the initial temperature profiles for each planet while the shaded regions indicate the range of equilibrium temperatures $T_\\mathrm{eq}$ in the temperature-forced case (see Equation \\ref{Eqn:Teq}). \\label{Fig:Profiles} (*Fig:Profiles*)\n",
       "\n",
       "</div>\n",
       "<div id=\"div_fig2\">\n",
       "\n",
       "<img src=\"tmp_2211.04048/./chem_profiles.png\" alt=\"Fig2\" width=\"100%\"/>\n",
       "\n",
       "**Figure 2. -** Chemical abundance profiles for K2-18b and GJ 1214b\\label{Fig:ChemProfiles} to be used in Case 3.  These are publicly available in the CAMEMBERT repository (see Section \\ref{Sec:Repo}). (*Fig:ChemProfiles*)\n",
       "\n",
       "</div>"
      ],
      "text/plain": [
       "<IPython.core.display.Markdown object>"
      ]
     },
     "metadata": {},
     "output_type": "display_data"
    }
   ],
   "source": [
    "[display(Markdown(k[1])) for k in documents];"
   ]
  },
  {
   "cell_type": "markdown",
   "id": "873873a4",
   "metadata": {
    "papermill": {
     "duration": 0.008778,
     "end_time": "2022-11-09T04:34:50.547892",
     "exception": false,
     "start_time": "2022-11-09T04:34:50.539114",
     "status": "completed"
    },
    "tags": []
   },
   "source": [
    "# Create HTML index"
   ]
  },
  {
   "cell_type": "code",
   "execution_count": 10,
   "id": "cf665672",
   "metadata": {
    "execution": {
     "iopub.execute_input": "2022-11-09T04:34:50.567480Z",
     "iopub.status.busy": "2022-11-09T04:34:50.566652Z",
     "iopub.status.idle": "2022-11-09T04:34:50.577070Z",
     "shell.execute_reply": "2022-11-09T04:34:50.576384Z"
    },
    "papermill": {
     "duration": 0.022033,
     "end_time": "2022-11-09T04:34:50.578629",
     "exception": false,
     "start_time": "2022-11-09T04:34:50.556596",
     "status": "completed"
    },
    "tags": []
   },
   "outputs": [
    {
     "name": "stdout",
     "output_type": "stream",
     "text": [
      "84  publications in the last 7 days.\n",
      "\t _build/html/2211.04048.md\n",
      "\t _build/html/2211.03641.md\n",
      "\t _build/html/2211.02502.md\n",
      "\t _build/html/2211.01474.md\n",
      "\t _build/html/2211.00667.md\n",
      "\t _build/html/2211.00657.md\n",
      "\t _build/html/2211.00087.md\n",
      "\t _build/html/2211.00036.md\n",
      "\t _build/html/2211.00020.md\n",
      "\t _build/html/2211.00010.md\n",
      "\t _build/html/2210.17434.md\n",
      "\t _build/html/2210.12412.md\n",
      "\t _build/html/2210.11926.md\n",
      "\t _build/html/2210.11551.md\n",
      "\t _build/html/2210.11103.md\n",
      "\t _build/html/2210.10707.md\n",
      "\t _build/html/2210.09930.md\n",
      "\t _build/html/2210.08996.md\n",
      "\t _build/html/2210.08517.md\n",
      "\t _build/html/2210.08510.md\n",
      "\t _build/html/2210.08078.md\n",
      "\t _build/html/2210.06504.md\n",
      "\t _build/html/2210.05695.md\n",
      "\t _build/html/2210.05595.md\n",
      "\t _build/html/2210.05505.md\n",
      "\t _build/html/2210.04721.md\n",
      "\t _build/html/2210.03615.md\n",
      "\t _build/html/2210.01811.md\n",
      "\t _build/html/2210.01809.md\n",
      "\t _build/html/2210.01556.md\n",
      "\t _build/html/2210.00863.md\n",
      "\t _build/html/2210.00560.md\n",
      "\t _build/html/2209.15403.md\n",
      "\t _build/html/2209.15110.md\n",
      "\t _build/html/2209.14410.md\n",
      "\t _build/html/2209.14396.md\n",
      "\t _build/html/2209.13717.md\n",
      "\t _build/html/2209.13336.md\n",
      "\t _build/html/2209.12906.md\n",
      "\t _build/html/2209.11781.md\n",
      "\t _build/html/2209.11602.md\n",
      "\t _build/html/2209.11248.md\n",
      "\t _build/html/2209.11096.md\n",
      "\t _build/html/2209.10618.md\n",
      "\t _build/html/2209.09914.md\n",
      "\t _build/html/2209.09823.md\n",
      "\t _build/html/2209.08242.md\n",
      "\t _build/html/2209.08120.md\n",
      "\t _build/html/2209.08106.md\n",
      "\t _build/html/2209.07962.md\n",
      "\t _build/html/2209.07931.md\n",
      "\t _build/html/2209.06833.md\n",
      "\t _build/html/2209.05814.md\n",
      "\t _build/html/2209.05593.md\n",
      "\t _build/html/2209.04304.md\n",
      "\t _build/html/2209.03367.md\n",
      "\t _build/html/2209.02872.md\n",
      "\t _build/html/2209.02725.md\n",
      "\t _build/html/2209.02722.md\n",
      "\t _build/html/2209.02092.md\n",
      "\t _build/html/2209.01125.md\n",
      "\t _build/html/2209.00828.md\n",
      "\t _build/html/2209.00363.md\n",
      "\t _build/html/2208.14927.md\n",
      "\t _build/html/2208.09335.md\n",
      "\t _build/html/2208.08872.md\n",
      "\t _build/html/2204.06393.md\n",
      "\t _build/html/2204.03335.md\n",
      "\t _build/html/2204.03253.md\n",
      "\t _build/html/2204.02998.md\n",
      "\t _build/html/2204.02109.md\n",
      "\t _build/html/2204.02017.md\n",
      "\t _build/html/2204.01824.md\n",
      "\t _build/html/2204.01758.md\n",
      "\t _build/html/2204.01245.md\n",
      "\t _build/html/2204.00793.md\n",
      "\t _build/html/2204.00342.md\n",
      "\t _build/html/2203.16959.md\n",
      "\t _build/html/2203.16856.md\n",
      "\t _build/html/2203.16735.md\n",
      "\t _build/html/2203.16734.md\n",
      "\t _build/html/2203.16504.md\n",
      "\t _build/html/2203.15822.md\n",
      "\t _build/html/2203.15811.md\n"
     ]
    }
   ],
   "source": [
    "from datetime import datetime, timedelta, timezone\n",
    "from glob import glob\n",
    "\n",
    "files = glob('_build/html/*.md')\n",
    "days = 7\n",
    "now = datetime.today()\n",
    "res = []\n",
    "for fk in files:\n",
    "    stat_result = os.stat(fk).st_ctime\n",
    "    modified = datetime.fromtimestamp(stat_result, tz=timezone.utc).replace(tzinfo=None)\n",
    "    delta = now.today() - modified\n",
    "    if delta <= timedelta(days=days):\n",
    "        res.append((delta.seconds, fk))\n",
    "res = [k[1] for k in reversed(sorted(res, key=lambda x:x[1]))]\n",
    "npub = len(res)\n",
    "print(len(res), f\" publications in the last {days:d} days.\")\n",
    "[ print('\\t', k) for k in res ];"
   ]
  },
  {
   "cell_type": "code",
   "execution_count": 11,
   "id": "52ca0208",
   "metadata": {
    "execution": {
     "iopub.execute_input": "2022-11-09T04:34:50.598470Z",
     "iopub.status.busy": "2022-11-09T04:34:50.598025Z",
     "iopub.status.idle": "2022-11-09T04:34:50.604775Z",
     "shell.execute_reply": "2022-11-09T04:34:50.604099Z"
    },
    "papermill": {
     "duration": 0.018647,
     "end_time": "2022-11-09T04:34:50.606337",
     "exception": false,
     "start_time": "2022-11-09T04:34:50.587690",
     "status": "completed"
    },
    "scrolled": false,
    "tags": []
   },
   "outputs": [],
   "source": [
    "def create_carousel(npub=4):\n",
    "    \"\"\" Generate the HTML code for a carousel with `npub` slides \"\"\"\n",
    "    carousel = [\"\"\"<section class=\"carousel\" aria-label=\"Gallery\">\"\"\",\n",
    "                \"\"\"  <ol class=\"carousel__viewport\">\"\"\",\n",
    "    ]\n",
    "    for k in range(1, npub + 1):\n",
    "        prev_ = k - 1\n",
    "        next_ = k + 1\n",
    "        if prev_ <= 0:\n",
    "            prev_ = npub\n",
    "        if next_ > npub:\n",
    "            next_ = 1\n",
    "        text  = f\"\"\"    <li id=\"carousel__slide{k}\" tabindex=\"0\" class=\"carousel__slide\">\\n\"\"\"\n",
    "        text += f\"\"\"       <div class=\"carousel__snapper\">\\n\"\"\"\n",
    "        text += f\"\"\"         <a href=\"#carousel__slide{prev_}\" class=\"carousel__prev\">Go to previous slide</a>\\n\"\"\"\n",
    "        text += f\"\"\"         <a href=\"#carousel__slide{next_}\" class=\"carousel__next\">Go to next slide</a>\\n\"\"\"\n",
    "        text += f\"\"\"         <div id=\"slide{k}_content\" class=\"md_view\" >Content {k}</div>\\n\"\"\"\n",
    "        text += f\"\"\"       </div>\\n\"\"\"\n",
    "        text += f\"\"\"    </li>\"\"\"\n",
    "        carousel.append(text)\n",
    "\n",
    "    carousel.extend([\n",
    "        \"\"\"  </ol>\"\"\",\n",
    "        \"\"\"  <aside class=\"carousel__navigation\">\"\"\",\n",
    "        \"\"\"    <ol class=\"carousel__navigation-list\">\"\"\"])\n",
    "\n",
    "    for k in range(1, npub + 1):\n",
    "        text  = f\"\"\"      <li class=\"carousel__navigation-item\">\\n\"\"\"\n",
    "        text += f\"\"\"        <a href=\"#carousel__slide{k}\" class=\"carousel__navigation-button\">Go to {k}</a>\\n\"\"\"\n",
    "        text += f\"\"\"      </li>\"\"\"\n",
    "        carousel.append(text)\n",
    "    carousel.extend([\"\"\"    </ol>\"\"\", \"\"\"  </aside>\"\"\", \"\"\"</section>\"\"\"])\n",
    "\n",
    "    return '\\n'.join(carousel)"
   ]
  },
  {
   "cell_type": "code",
   "execution_count": 12,
   "id": "a6eac5b6",
   "metadata": {
    "execution": {
     "iopub.execute_input": "2022-11-09T04:34:50.625509Z",
     "iopub.status.busy": "2022-11-09T04:34:50.625217Z",
     "iopub.status.idle": "2022-11-09T04:34:50.632335Z",
     "shell.execute_reply": "2022-11-09T04:34:50.631599Z"
    },
    "papermill": {
     "duration": 0.018795,
     "end_time": "2022-11-09T04:34:50.633912",
     "exception": false,
     "start_time": "2022-11-09T04:34:50.615117",
     "status": "completed"
    },
    "scrolled": false,
    "tags": []
   },
   "outputs": [],
   "source": [
    "carousel = create_carousel(npub)\n",
    "docs = ', '.join(['\"{0:s}\"'.format(k.split('/')[-1]) for k in res])\n",
    "slides = ', '.join([f'\"slide{k}_content\"' for k in range(1, npub + 1)])\n",
    "\n",
    "script = f\"\"\"\n",
    "const docs = [{docs}]\n",
    "\n",
    "const slides = [{slides}]\n",
    "\"\"\" + \"\"\"\n",
    "async function run() {\n",
    "    for (let i = 0; i < docs.length; i++) {\n",
    "        let file = await fetch(docs[i]);\n",
    "        let text = await file.text()\n",
    "        document.getElementById(slides[i]).innerHTML =\n",
    "            marked.parse(text);\n",
    "    }\n",
    "    hljs.highlightAll();\n",
    "}\n",
    "run()\n",
    "\"\"\"\n",
    "\n",
    "page = f\"\"\"<!doctype html>\n",
    "<html lang=\"en\">\n",
    "\n",
    "<head>\n",
    "  <meta charset=\"utf-8\">\n",
    "  <meta name=\"viewport\" content=\"width=device-width, initial-scale=1\">\n",
    "  <!-- Bootstrap CSS -->\n",
    "  <link href=\"https://cdn.jsdelivr.net/npm/bootstrap@5.0.2/dist/css/bootstrap.min.css\" rel=\"stylesheet\"\n",
    "   integrity=\"sha384-EVSTQN3/azprG1Anm3QDgpJLIm9Nao0Yz1ztcQTwFspd3yD65VohhpuuCOmLASjC\" crossorigin=\"anonymous\">\n",
    "  <!-- highlight.js CSS -->\n",
    "  <link rel=\"stylesheet\" href=\"https://cdnjs.cloudflare.com/ajax/libs/highlight.js/11.1.0/styles/default.min.css\">\n",
    "  <!-- Mathjax 3 -->\n",
    "  <script type=\"text/javascript\" id=\"MathJax-config\" src=\"mathjax_config.js\"> </script>\n",
    "  <script type=\"text/javascript\" id=\"MathJax-script\" async \n",
    "    src=\"https://cdn.jsdelivr.net/npm/mathjax@3/es5/tex-mml-chtml.js\">\n",
    "  </script>\n",
    "  <link rel=\"stylesheet\" href=\"index_carousel.css\">\n",
    "  <link rel=\"icon\" type=\"image/x-icon\" href=\"https://www.mpia.de/assets/touch-icon-32x32-a66937bcebc4e8894ebff1f41a366c7c7220fd97a38869ee0f2db65a9f59b6c1.png\">\n",
    "  <title>MPIA Arxiv on deck!</title>\n",
    "</head>\n",
    "\n",
    "<body>\n",
    "  <div id=\"header\"> <img src=\"header_banner.png\" width=\"100%\"></div>\n",
    "  <div id=\"suptitle\"> 7-day archives </div>\n",
    "  <div id=\"info\">\n",
    "    <img src=\"https://pngimg.com/uploads/github/github_PNG58.png\" height=30rem></img>\n",
    "    <a href=https://github.com/mpi-astronomy/arxiv_display style=\"color:black;\">github/mpi-astronomy/arxiv_display</a> \n",
    "  </div>\n",
    "  {carousel:s}\n",
    "</body>\n",
    "\n",
    "<!-- Render Markdown -->\n",
    "\n",
    "<body>\n",
    "  <!-- highlight.js: https://highlightjs.org/download/ -->\n",
    "  <script src=\"https://cdnjs.cloudflare.com/ajax/libs/highlight.js/11.5.0/highlight.min.js\"></script>\n",
    "  <!-- marked.js -->\n",
    "  <script src=\"https://cdn.jsdelivr.net/npm/marked/marked.min.js\"></script>\n",
    "  <script>{script:s}</script>\n",
    "</body>\n",
    "</html>\n",
    "\"\"\"\n",
    "with open(\"_build/html/index_7days.html\", 'w') as fout:\n",
    "    fout.write(page)"
   ]
  },
  {
   "cell_type": "markdown",
   "id": "1cebacbc",
   "metadata": {
    "papermill": {
     "duration": 0.00882,
     "end_time": "2022-11-09T04:34:50.651531",
     "exception": false,
     "start_time": "2022-11-09T04:34:50.642711",
     "status": "completed"
    },
    "tags": []
   },
   "source": [
    "# Debugging papers"
   ]
  },
  {
   "cell_type": "raw",
   "id": "debe7cc6",
   "metadata": {
    "papermill": {
     "duration": 0.008664,
     "end_time": "2022-11-09T04:34:50.668894",
     "exception": false,
     "start_time": "2022-11-09T04:34:50.660230",
     "status": "completed"
    },
    "tags": []
   },
   "source": [
    "raise NotImplementedError(\"Manual Stop\")"
   ]
  },
  {
   "cell_type": "raw",
   "id": "eb169192",
   "metadata": {
    "papermill": {
     "duration": 0.008642,
     "end_time": "2022-11-09T04:34:50.686225",
     "exception": false,
     "start_time": "2022-11-09T04:34:50.677583",
     "status": "completed"
    },
    "scrolled": true,
    "tags": []
   },
   "source": [
    "from IPython.display import display, Markdown\n",
    "from TexSoup import TexSoup\n",
    "import re\n",
    "\n",
    "def bracket_error(source: str):\n",
    "    \"\"\" Find problematic portions of the document \"\"\"\n",
    "    \n",
    "    print(\"len(source)\", len(source))\n",
    "    \n",
    "    # Checking header\n",
    "    begin_doc = next(re.finditer(r'\\\\begin\\{document\\}', doc.source)).span()[1]\n",
    "    header = source[:begin_doc]\n",
    "    text = header + r\"\\n\\end{document}\"\n",
    "\n",
    "    try:\n",
    "        # print(\"Header check... \", end='')\n",
    "        TexSoup(text)\n",
    "        display(Markdown(f\"**[OK]** - Header\"))\n",
    "    except:\n",
    "        raise RuntimeError(\"Error in the header\")\n",
    "        \n",
    "    # Check the text per section until the end.\n",
    "    # Do not stop and try them all.\n",
    "    \n",
    "    problematic_text = []\n",
    "    \n",
    "    sections = ([(0, begin_doc, 'until first section')] + \n",
    "                [(g.span()[0], g.span()[1], g.group()) for g in re.finditer(r'\\\\section\\{.*\\}', source)] +\n",
    "                [(g.span()[0], g.span()[1], g.group()) for g in re.finditer(r'\\\\begin\\{appendix\\}', source)]\n",
    "               )\n",
    "    sections.append([len(source), len(source), 'end'])\n",
    "    \n",
    "    sections = sorted(sections, key=lambda x: x[0])\n",
    "    \n",
    "    prev_pos, prev_name = (0, 'header')\n",
    "    parsed = []\n",
    "    \n",
    "    for span, span_end, name in sections:\n",
    "\n",
    "        if span - prev_pos <= 0:\n",
    "            continue\n",
    "            \n",
    "\n",
    "        text = source[prev_pos:span]\n",
    "        if prev_pos > begin_doc:\n",
    "            text = r\"\\n\\begin{document}\" + text + r\"\\n\\end{document}\"\n",
    "        else:\n",
    "            text = text + r\"\\n\\end{document}\"\n",
    "        try:\n",
    "            #print(f\"{prev_pos}:{prev_name}-->{span}:{name} check... \", end='')\n",
    "            parsed.append(TexSoup(text, tolerance=1))  # allow not ending env\n",
    "            display(Markdown(f\"**[OK]** - *{prev_pos}*:{prev_name} &rarr; *{span}*:{name}\"))\n",
    "            # print(\"ok\")\n",
    "\n",
    "            prev_pos = span\n",
    "            prev_name = name\n",
    "        except:\n",
    "            # print(f\"error between {prev_pos} and {span}\")\n",
    "            display(Markdown(f\"**[ERR]** *{prev_pos}*:{prev_name} &rarr; *{span}*:{name}\"))\n",
    "            problematic_text.append((prev_pos, source[prev_pos:span]))\n",
    "            prev_pos = span\n",
    "            prev_name = name\n",
    "            # raise\n",
    "    return problematic_text, parsed\n",
    "\n",
    "\n",
    "def check_environment(text, offset=0):\n",
    "    \"\"\" Check environment \"\"\"\n",
    "    env = re.compile(r\"\\\\begin\\{(?P<env>.*)\\}(.*)\\\\end\\{(?P=env)\\}\", re.DOTALL)\n",
    "\n",
    "    for match in env.finditer(text):\n",
    "        beg, end = match.span()\n",
    "        beg += offset\n",
    "        end += offset\n",
    "        envname = match.groups()[0]\n",
    "        try:\n",
    "            latex.TexSoup(match.group())\n",
    "        except Exception as e:\n",
    "            display(e)\n",
    "            print(f\"Error in {envname:s} between {beg} and {end}\")\n",
    "            return match.groups()[1], beg, end"
   ]
  },
  {
   "cell_type": "raw",
   "id": "2315e835",
   "metadata": {
    "papermill": {
     "duration": 0.008955,
     "end_time": "2022-11-09T04:34:50.704041",
     "exception": false,
     "start_time": "2022-11-09T04:34:50.695086",
     "status": "completed"
    },
    "scrolled": false,
    "tags": []
   },
   "source": [
    "import importlib\n",
    "importlib.reload(latex)\n",
    "which = \"2204.03253\"\n",
    "paper_id = f'{which:s}'\n",
    "folder = f'tmp_{paper_id:s}'\n",
    "\n",
    "if not os.path.isdir(folder):\n",
    "    folder = retrieve_document_source(f\"{paper_id}\", f'tmp_{paper_id}')\n",
    "\n",
    "try:\n",
    "    doc = latex.LatexDocument(folder, validation=validation)    \n",
    "except AffiliationError as affilerror:\n",
    "    msg = f\"ArXiv:{paper_id:s} is not an MPIA paper... \" + str(affilerror)\n",
    "    print(msg)\n",
    "\n",
    "\n",
    "# Hack because sometimes author parsing does not work well\n",
    "if (len(doc.authors) != len(paper['authors'])):\n",
    "    doc._authors = paper['authors']\n",
    "if (doc.abstract) in (None, ''):\n",
    "    doc._abstract = paper['abstract']\n",
    "\n",
    "doc.comment = get_markdown_badge(paper_id) + \" _\" + paper['comments'] + \"_\"\n",
    "doc.highlight_authors_in_list(hl_list)\n",
    "\n",
    "full_md = doc.generate_markdown_text()"
   ]
  },
  {
   "cell_type": "raw",
   "id": "dd3781db",
   "metadata": {
    "papermill": {
     "duration": 0.008755,
     "end_time": "2022-11-09T04:34:50.721516",
     "exception": false,
     "start_time": "2022-11-09T04:34:50.712761",
     "status": "completed"
    },
    "scrolled": false,
    "tags": []
   },
   "source": [
    "doc"
   ]
  },
  {
   "cell_type": "raw",
   "id": "c6eed834",
   "metadata": {
    "papermill": {
     "duration": 0.00926,
     "end_time": "2022-11-09T04:34:50.739541",
     "exception": false,
     "start_time": "2022-11-09T04:34:50.730281",
     "status": "completed"
    },
    "tags": []
   },
   "source": [
    "# [check_environment(k) for k in bracket_error(doc.source)]\n",
    "_, _, a = latex.get_content_per_section(doc.source, verbose=True)\n",
    "if not a:\n",
    "    print(\"no issues per section\")\n",
    "for ak in a:\n",
    "    r = check_environment(ak[1], offset=ak[0])\n",
    "    print(r[1], r[2])\n",
    "    print(r[0])"
   ]
  },
  {
   "cell_type": "code",
   "execution_count": null,
   "id": "71ce768a",
   "metadata": {
    "papermill": {
     "duration": 0.010714,
     "end_time": "2022-11-09T04:34:50.759731",
     "exception": false,
     "start_time": "2022-11-09T04:34:50.749017",
     "status": "completed"
    },
    "tags": []
   },
   "outputs": [],
   "source": []
  }
 ],
 "metadata": {
  "kernelspec": {
   "display_name": "Python 3.10.6 64-bit",
   "language": "python",
   "name": "python3"
  },
  "language_info": {
   "codemirror_mode": {
    "name": "ipython",
    "version": 3
   },
   "file_extension": ".py",
   "mimetype": "text/x-python",
   "name": "python",
   "nbconvert_exporter": "python",
   "pygments_lexer": "ipython3",
   "version": "3.9.15"
  },
  "papermill": {
   "default_parameters": {},
   "duration": 78.28803,
   "end_time": "2022-11-09T04:34:50.987395",
   "environment_variables": {},
   "exception": null,
   "input_path": "MPIA daily digest.ipynb",
   "output_path": "log.ipynb",
   "parameters": {},
   "start_time": "2022-11-09T04:33:32.699365",
   "version": "2.4.0"
  },
  "vscode": {
   "interpreter": {
    "hash": "e7370f93d1d0cde622a1f8e1c04877d8463912d04d973331ad4851f04de6915a"
   }
  },
  "widgets": {
   "application/vnd.jupyter.widget-state+json": {
    "state": {
     "0680b28ecd9c40e597323df59a653a8e": {
      "model_module": "@jupyter-widgets/controls",
      "model_module_version": "2.0.0",
      "model_name": "HTMLModel",
      "state": {
       "_dom_classes": [],
       "_model_module": "@jupyter-widgets/controls",
       "_model_module_version": "2.0.0",
       "_model_name": "HTMLModel",
       "_view_count": null,
       "_view_module": "@jupyter-widgets/controls",
       "_view_module_version": "2.0.0",
       "_view_name": "HTMLView",
       "description": "",
       "description_allow_html": false,
       "layout": "IPY_MODEL_b3c14a6758cc44ea9d21f82c6072d27c",
       "placeholder": "​",
       "style": "IPY_MODEL_4dd22ff979054057b65be78e1ce04116",
       "tabbable": null,
       "tooltip": null,
       "value": "100%"
      }
     },
     "4dd22ff979054057b65be78e1ce04116": {
      "model_module": "@jupyter-widgets/controls",
      "model_module_version": "2.0.0",
      "model_name": "HTMLStyleModel",
      "state": {
       "_model_module": "@jupyter-widgets/controls",
       "_model_module_version": "2.0.0",
       "_model_name": "HTMLStyleModel",
       "_view_count": null,
       "_view_module": "@jupyter-widgets/base",
       "_view_module_version": "2.0.0",
       "_view_name": "StyleView",
       "background": null,
       "description_width": "",
       "font_size": null,
       "text_color": null
      }
     },
     "5f0864dbd89340cd8fc5c6d09056ee6a": {
      "model_module": "@jupyter-widgets/controls",
      "model_module_version": "2.0.0",
      "model_name": "HTMLModel",
      "state": {
       "_dom_classes": [],
       "_model_module": "@jupyter-widgets/controls",
       "_model_module_version": "2.0.0",
       "_model_name": "HTMLModel",
       "_view_count": null,
       "_view_module": "@jupyter-widgets/controls",
       "_view_module_version": "2.0.0",
       "_view_name": "HTMLView",
       "description": "",
       "description_allow_html": false,
       "layout": "IPY_MODEL_d1d638e642584251b6dbaf66ecac6145",
       "placeholder": "​",
       "style": "IPY_MODEL_95e8f824f32c49dbb3a652f92dcb04bd",
       "tabbable": null,
       "tooltip": null,
       "value": " 17/17 [00:49&lt;00:00,  1.63s/it]"
      }
     },
     "7370731e47bd46f3ace8e0d26ca99173": {
      "model_module": "@jupyter-widgets/base",
      "model_module_version": "2.0.0",
      "model_name": "LayoutModel",
      "state": {
       "_model_module": "@jupyter-widgets/base",
       "_model_module_version": "2.0.0",
       "_model_name": "LayoutModel",
       "_view_count": null,
       "_view_module": "@jupyter-widgets/base",
       "_view_module_version": "2.0.0",
       "_view_name": "LayoutView",
       "align_content": null,
       "align_items": null,
       "align_self": null,
       "border_bottom": null,
       "border_left": null,
       "border_right": null,
       "border_top": null,
       "bottom": null,
       "display": null,
       "flex": null,
       "flex_flow": null,
       "grid_area": null,
       "grid_auto_columns": null,
       "grid_auto_flow": null,
       "grid_auto_rows": null,
       "grid_column": null,
       "grid_gap": null,
       "grid_row": null,
       "grid_template_areas": null,
       "grid_template_columns": null,
       "grid_template_rows": null,
       "height": null,
       "justify_content": null,
       "justify_items": null,
       "left": null,
       "margin": null,
       "max_height": null,
       "max_width": null,
       "min_height": null,
       "min_width": null,
       "object_fit": null,
       "object_position": null,
       "order": null,
       "overflow": null,
       "padding": null,
       "right": null,
       "top": null,
       "visibility": null,
       "width": null
      }
     },
     "761b524b7d8b406abfbd4312bb2fa0fb": {
      "model_module": "@jupyter-widgets/controls",
      "model_module_version": "2.0.0",
      "model_name": "FloatProgressModel",
      "state": {
       "_dom_classes": [],
       "_model_module": "@jupyter-widgets/controls",
       "_model_module_version": "2.0.0",
       "_model_name": "FloatProgressModel",
       "_view_count": null,
       "_view_module": "@jupyter-widgets/controls",
       "_view_module_version": "2.0.0",
       "_view_name": "ProgressView",
       "bar_style": "success",
       "description": "",
       "description_allow_html": false,
       "layout": "IPY_MODEL_7370731e47bd46f3ace8e0d26ca99173",
       "max": 17.0,
       "min": 0.0,
       "orientation": "horizontal",
       "style": "IPY_MODEL_904791ae8db94781bdee1428ce3b9b0b",
       "tabbable": null,
       "tooltip": null,
       "value": 17.0
      }
     },
     "7f8c8d01d9e54390ab8efb22178a755b": {
      "model_module": "@jupyter-widgets/controls",
      "model_module_version": "2.0.0",
      "model_name": "HBoxModel",
      "state": {
       "_dom_classes": [],
       "_model_module": "@jupyter-widgets/controls",
       "_model_module_version": "2.0.0",
       "_model_name": "HBoxModel",
       "_view_count": null,
       "_view_module": "@jupyter-widgets/controls",
       "_view_module_version": "2.0.0",
       "_view_name": "HBoxView",
       "box_style": "",
       "children": [
        "IPY_MODEL_0680b28ecd9c40e597323df59a653a8e",
        "IPY_MODEL_761b524b7d8b406abfbd4312bb2fa0fb",
        "IPY_MODEL_5f0864dbd89340cd8fc5c6d09056ee6a"
       ],
       "layout": "IPY_MODEL_86330b34531f4287a904517e6bc4e790",
       "tabbable": null,
       "tooltip": null
      }
     },
     "86330b34531f4287a904517e6bc4e790": {
      "model_module": "@jupyter-widgets/base",
      "model_module_version": "2.0.0",
      "model_name": "LayoutModel",
      "state": {
       "_model_module": "@jupyter-widgets/base",
       "_model_module_version": "2.0.0",
       "_model_name": "LayoutModel",
       "_view_count": null,
       "_view_module": "@jupyter-widgets/base",
       "_view_module_version": "2.0.0",
       "_view_name": "LayoutView",
       "align_content": null,
       "align_items": null,
       "align_self": null,
       "border_bottom": null,
       "border_left": null,
       "border_right": null,
       "border_top": null,
       "bottom": null,
       "display": null,
       "flex": null,
       "flex_flow": null,
       "grid_area": null,
       "grid_auto_columns": null,
       "grid_auto_flow": null,
       "grid_auto_rows": null,
       "grid_column": null,
       "grid_gap": null,
       "grid_row": null,
       "grid_template_areas": null,
       "grid_template_columns": null,
       "grid_template_rows": null,
       "height": null,
       "justify_content": null,
       "justify_items": null,
       "left": null,
       "margin": null,
       "max_height": null,
       "max_width": null,
       "min_height": null,
       "min_width": null,
       "object_fit": null,
       "object_position": null,
       "order": null,
       "overflow": null,
       "padding": null,
       "right": null,
       "top": null,
       "visibility": null,
       "width": null
      }
     },
     "904791ae8db94781bdee1428ce3b9b0b": {
      "model_module": "@jupyter-widgets/controls",
      "model_module_version": "2.0.0",
      "model_name": "ProgressStyleModel",
      "state": {
       "_model_module": "@jupyter-widgets/controls",
       "_model_module_version": "2.0.0",
       "_model_name": "ProgressStyleModel",
       "_view_count": null,
       "_view_module": "@jupyter-widgets/base",
       "_view_module_version": "2.0.0",
       "_view_name": "StyleView",
       "bar_color": null,
       "description_width": ""
      }
     },
     "95e8f824f32c49dbb3a652f92dcb04bd": {
      "model_module": "@jupyter-widgets/controls",
      "model_module_version": "2.0.0",
      "model_name": "HTMLStyleModel",
      "state": {
       "_model_module": "@jupyter-widgets/controls",
       "_model_module_version": "2.0.0",
       "_model_name": "HTMLStyleModel",
       "_view_count": null,
       "_view_module": "@jupyter-widgets/base",
       "_view_module_version": "2.0.0",
       "_view_name": "StyleView",
       "background": null,
       "description_width": "",
       "font_size": null,
       "text_color": null
      }
     },
     "b3c14a6758cc44ea9d21f82c6072d27c": {
      "model_module": "@jupyter-widgets/base",
      "model_module_version": "2.0.0",
      "model_name": "LayoutModel",
      "state": {
       "_model_module": "@jupyter-widgets/base",
       "_model_module_version": "2.0.0",
       "_model_name": "LayoutModel",
       "_view_count": null,
       "_view_module": "@jupyter-widgets/base",
       "_view_module_version": "2.0.0",
       "_view_name": "LayoutView",
       "align_content": null,
       "align_items": null,
       "align_self": null,
       "border_bottom": null,
       "border_left": null,
       "border_right": null,
       "border_top": null,
       "bottom": null,
       "display": null,
       "flex": null,
       "flex_flow": null,
       "grid_area": null,
       "grid_auto_columns": null,
       "grid_auto_flow": null,
       "grid_auto_rows": null,
       "grid_column": null,
       "grid_gap": null,
       "grid_row": null,
       "grid_template_areas": null,
       "grid_template_columns": null,
       "grid_template_rows": null,
       "height": null,
       "justify_content": null,
       "justify_items": null,
       "left": null,
       "margin": null,
       "max_height": null,
       "max_width": null,
       "min_height": null,
       "min_width": null,
       "object_fit": null,
       "object_position": null,
       "order": null,
       "overflow": null,
       "padding": null,
       "right": null,
       "top": null,
       "visibility": null,
       "width": null
      }
     },
     "d1d638e642584251b6dbaf66ecac6145": {
      "model_module": "@jupyter-widgets/base",
      "model_module_version": "2.0.0",
      "model_name": "LayoutModel",
      "state": {
       "_model_module": "@jupyter-widgets/base",
       "_model_module_version": "2.0.0",
       "_model_name": "LayoutModel",
       "_view_count": null,
       "_view_module": "@jupyter-widgets/base",
       "_view_module_version": "2.0.0",
       "_view_name": "LayoutView",
       "align_content": null,
       "align_items": null,
       "align_self": null,
       "border_bottom": null,
       "border_left": null,
       "border_right": null,
       "border_top": null,
       "bottom": null,
       "display": null,
       "flex": null,
       "flex_flow": null,
       "grid_area": null,
       "grid_auto_columns": null,
       "grid_auto_flow": null,
       "grid_auto_rows": null,
       "grid_column": null,
       "grid_gap": null,
       "grid_row": null,
       "grid_template_areas": null,
       "grid_template_columns": null,
       "grid_template_rows": null,
       "height": null,
       "justify_content": null,
       "justify_items": null,
       "left": null,
       "margin": null,
       "max_height": null,
       "max_width": null,
       "min_height": null,
       "min_width": null,
       "object_fit": null,
       "object_position": null,
       "order": null,
       "overflow": null,
       "padding": null,
       "right": null,
       "top": null,
       "visibility": null,
       "width": null
      }
     }
    },
    "version_major": 2,
    "version_minor": 0
   }
  }
 },
 "nbformat": 4,
 "nbformat_minor": 5
}