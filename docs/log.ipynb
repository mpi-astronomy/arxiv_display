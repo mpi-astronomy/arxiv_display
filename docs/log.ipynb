{
 "cells": [
  {
   "cell_type": "markdown",
   "id": "92bcb855",
   "metadata": {
    "papermill": {
     "duration": 0.004706,
     "end_time": "2024-01-23T04:08:38.217021",
     "exception": false,
     "start_time": "2024-01-23T04:08:38.212315",
     "status": "completed"
    },
    "tags": []
   },
   "source": [
    "# MPIA Arxiv on Deck 2\n",
    "\n",
    "Contains the steps to produce the paper extractions."
   ]
  },
  {
   "cell_type": "code",
   "execution_count": 1,
   "id": "3a0d6e11",
   "metadata": {
    "execution": {
     "iopub.execute_input": "2024-01-23T04:08:38.226441Z",
     "iopub.status.busy": "2024-01-23T04:08:38.225859Z",
     "iopub.status.idle": "2024-01-23T04:08:38.640920Z",
     "shell.execute_reply": "2024-01-23T04:08:38.640187Z"
    },
    "papermill": {
     "duration": 0.421525,
     "end_time": "2024-01-23T04:08:38.643368",
     "exception": false,
     "start_time": "2024-01-23T04:08:38.221843",
     "status": "completed"
    },
    "tags": []
   },
   "outputs": [],
   "source": [
    "# Imports\n",
    "import os\n",
    "from IPython.display import Markdown, display\n",
    "from tqdm.notebook import tqdm\n",
    "import warnings\n",
    "from PIL import Image \n",
    "\n",
    "# requires arxiv_on_deck_2\n",
    "\n",
    "from arxiv_on_deck_2.arxiv2 import (get_new_papers, \n",
    "                                    get_paper_from_identifier,\n",
    "                                    retrieve_document_source, \n",
    "                                    get_markdown_badge)\n",
    "from arxiv_on_deck_2 import (latex,\n",
    "                             latex_bib,\n",
    "                             mpia,\n",
    "                             highlight_authors_in_list)\n",
    "\n",
    "# Sometimes images are really big\n",
    "Image.MAX_IMAGE_PIXELS = 1000000000 "
   ]
  },
  {
   "cell_type": "code",
   "execution_count": 2,
   "id": "22aa9d44",
   "metadata": {
    "execution": {
     "iopub.execute_input": "2024-01-23T04:08:38.651128Z",
     "iopub.status.busy": "2024-01-23T04:08:38.650591Z",
     "iopub.status.idle": "2024-01-23T04:08:38.656145Z",
     "shell.execute_reply": "2024-01-23T04:08:38.655526Z"
    },
    "papermill": {
     "duration": 0.01065,
     "end_time": "2024-01-23T04:08:38.657446",
     "exception": false,
     "start_time": "2024-01-23T04:08:38.646796",
     "status": "completed"
    },
    "tags": []
   },
   "outputs": [],
   "source": [
    "# Some useful definitions.\n",
    "\n",
    "class AffiliationWarning(UserWarning):\n",
    "    pass\n",
    "\n",
    "class AffiliationError(RuntimeError):\n",
    "    pass\n",
    "\n",
    "def validation(source: str):\n",
    "    \"\"\"Raises error paper during parsing of source file\n",
    "    \n",
    "    Allows checks before parsing TeX code.\n",
    "    \n",
    "    Raises AffiliationWarning\n",
    "    \"\"\"\n",
    "    check = mpia.affiliation_verifications(source, verbose=True)\n",
    "    if check is not True:\n",
    "        raise AffiliationError(\"mpia.affiliation_verifications: \" + check)\n",
    "\n",
    "        \n",
    "warnings.simplefilter('always', AffiliationWarning)\n",
    "\n",
    "\n",
    "def get_markdown_qrcode(paper_id: str):\n",
    "    \"\"\" Generate a qrcode to the arxiv page using qrserver.com\n",
    "    \n",
    "    :param paper: Arxiv paper\n",
    "    :returns: markdown text\n",
    "    \"\"\"\n",
    "    url = r\"https://api.qrserver.com/v1/create-qr-code/?size=100x100&data=\"\n",
    "    txt = f\"\"\"<img src={url}\"https://arxiv.org/abs/{paper_id}\">\"\"\"\n",
    "    txt = '<div id=\"qrcode\">' + txt + '</div>'\n",
    "    return txt"
   ]
  },
  {
   "cell_type": "markdown",
   "id": "14bd6310",
   "metadata": {
    "papermill": {
     "duration": 0.002739,
     "end_time": "2024-01-23T04:08:38.663081",
     "exception": false,
     "start_time": "2024-01-23T04:08:38.660342",
     "status": "completed"
    },
    "tags": []
   },
   "source": [
    "## get list of arxiv paper candidates\n",
    "\n",
    "We use the MPIA mitarbeiter list webpage from mpia.de to get author names\n",
    "We then get all new papers from Arxiv and match authors"
   ]
  },
  {
   "cell_type": "code",
   "execution_count": 3,
   "id": "2645e73a",
   "metadata": {
    "execution": {
     "iopub.execute_input": "2024-01-23T04:08:38.669658Z",
     "iopub.status.busy": "2024-01-23T04:08:38.669275Z",
     "iopub.status.idle": "2024-01-23T04:08:56.485348Z",
     "shell.execute_reply": "2024-01-23T04:08:56.484533Z"
    },
    "papermill": {
     "duration": 17.821062,
     "end_time": "2024-01-23T04:08:56.486870",
     "exception": false,
     "start_time": "2024-01-23T04:08:38.665808",
     "status": "completed"
    },
    "tags": []
   },
   "outputs": [
    {
     "name": "stdout",
     "output_type": "stream",
     "text": [
      "X. Zhang  ->  X. Zhang  |  ['X. Zhang']\n",
      "A. Gould  ->  A. Gould  |  ['A. Gould']\n",
      "K. Jahnke  ->  K. Jahnke  |  ['K. Jahnke']\n"
     ]
    },
    {
     "name": "stdout",
     "output_type": "stream",
     "text": [
      "R. Zhang  ->  R. Zhang  |  ['R. Zhang']\n",
      "Arxiv has 92 new papers today\n",
      "          4 with possible author matches\n"
     ]
    }
   ],
   "source": [
    "# get list from MPIA website\n",
    "# it automatically filters identified non-scientists :func:`mpia.filter_non_scientists`\n",
    "mpia_authors = mpia.get_mpia_mitarbeiter_list()\n",
    "normed_mpia_authors = [k[1] for k in mpia_authors]   # initials + fullname\n",
    "new_papers = get_new_papers()\n",
    "# add manual references\n",
    "add_paper_refs = []\n",
    "new_papers.extend([get_paper_from_identifier(k) for k in add_paper_refs])\n",
    "\n",
    "candidates = []\n",
    "for paperk in new_papers:\n",
    "    # Check author list with their initials\n",
    "    normed_author_list = [mpia.get_initials(k) for k in paperk['authors']]\n",
    "    hl_authors = highlight_authors_in_list(normed_author_list, normed_mpia_authors, verbose=True)\n",
    "    matches = [(hl, orig) for hl, orig in zip(hl_authors, paperk['authors']) if 'mark' in hl]\n",
    "    paperk['authors'] = hl_authors\n",
    "    if matches:\n",
    "        # only select paper if an author matched our list\n",
    "        candidates.append(paperk)\n",
    "print(\"\"\"Arxiv has {0:,d} new papers today\"\"\".format(len(new_papers)))        \n",
    "print(\"\"\"          {0:,d} with possible author matches\"\"\".format(len(candidates)))"
   ]
  },
  {
   "cell_type": "markdown",
   "id": "3543b34a",
   "metadata": {
    "papermill": {
     "duration": 0.003015,
     "end_time": "2024-01-23T04:08:56.493560",
     "exception": false,
     "start_time": "2024-01-23T04:08:56.490545",
     "status": "completed"
    },
    "tags": []
   },
   "source": [
    "# Parse sources and generate relevant outputs\n",
    "\n",
    "From the candidates, we do the following steps:\n",
    "* get their tarball from ArXiv (and extract data)\n",
    "* find the main .tex file: find one with \\documentclass{...} (sometimes it's non trivial)\n",
    "* Check affiliations with :func:`validation`, which uses :func:`mpia.affiliation_verifications`\n",
    "* If passing the affiliations: we parse the .tex source\n",
    "   * inject sub-documents into the main (flatten the main document)\n",
    "   * parse structure, extract information (title, abstract, authors, figures...)\n",
    "   * handles `\\graphicspath` if provided\n",
    "* Generate the .md document."
   ]
  },
  {
   "cell_type": "code",
   "execution_count": 4,
   "id": "9576b79e",
   "metadata": {
    "execution": {
     "iopub.execute_input": "2024-01-23T04:08:56.501231Z",
     "iopub.status.busy": "2024-01-23T04:08:56.500538Z",
     "iopub.status.idle": "2024-01-23T04:09:43.963949Z",
     "shell.execute_reply": "2024-01-23T04:09:43.963197Z"
    },
    "papermill": {
     "duration": 47.469801,
     "end_time": "2024-01-23T04:09:43.966390",
     "exception": false,
     "start_time": "2024-01-23T04:08:56.496589",
     "status": "completed"
    },
    "scrolled": false,
    "tags": []
   },
   "outputs": [
    {
     "data": {
      "application/vnd.jupyter.widget-view+json": {
       "model_id": "1a39d5a76e514ae488348ed33ae9f582",
       "version_major": 2,
       "version_minor": 0
      },
      "text/plain": [
       "  0%|          | 0/4 [00:00<?, ?it/s]"
      ]
     },
     "metadata": {},
     "output_type": "display_data"
    },
    {
     "name": "stdout",
     "output_type": "stream",
     "text": [
      "Retrieving document from  https://arxiv.org/e-print/2401.11134\n",
      "extracting tarball to tmp_2401.11134..."
     ]
    },
    {
     "name": "stdout",
     "output_type": "stream",
     "text": [
      " done.\n",
      "Retrieving document from  https://arxiv.org/e-print/2401.11329\n"
     ]
    },
    {
     "name": "stdout",
     "output_type": "stream",
     "text": [
      "extracting tarball to tmp_2401.11329..."
     ]
    },
    {
     "name": "stdout",
     "output_type": "stream",
     "text": [
      " done.\n"
     ]
    },
    {
     "name": "stderr",
     "output_type": "stream",
     "text": [
      "/tmp/ipykernel_2109/3009462391.py:49: LatexWarning: 2401.11329 did not run properly\n",
      "Unable to locate Ghostscript on paths\n",
      "  warnings.warn(latex.LatexWarning(f\"{paper_id:s} did not run properly\\n\" +\n"
     ]
    },
    {
     "name": "stdout",
     "output_type": "stream",
     "text": [
      "Retrieving document from  https://arxiv.org/e-print/2401.11826\n"
     ]
    },
    {
     "name": "stdout",
     "output_type": "stream",
     "text": [
      "extracting tarball to tmp_2401.11826..."
     ]
    },
    {
     "name": "stdout",
     "output_type": "stream",
     "text": [
      " done.\n"
     ]
    },
    {
     "name": "stdout",
     "output_type": "stream",
     "text": [
      "K. Jahnke  ->  K. Jahnke  |  ['K. Jahnke']\n"
     ]
    },
    {
     "name": "stdout",
     "output_type": "stream",
     "text": [
      "Found 168 bibliographic references in tmp_2401.11826/main.bbl.\n",
      "Retrieving document from  https://arxiv.org/e-print/2401.12006\n"
     ]
    },
    {
     "name": "stdout",
     "output_type": "stream",
     "text": [
      "extracting tarball to tmp_2401.12006..."
     ]
    },
    {
     "name": "stdout",
     "output_type": "stream",
     "text": [
      " done.\n"
     ]
    }
   ],
   "source": [
    "documents = []\n",
    "failed = []\n",
    "for paper in tqdm(candidates):\n",
    "    paper_id = paper['identifier'].lower().replace('arxiv:', '')\n",
    "    \n",
    "    folder = f'tmp_{paper_id}'\n",
    "\n",
    "    try:\n",
    "        if not os.path.isdir(folder):\n",
    "            folder = retrieve_document_source(f\"{paper_id}\", f'tmp_{paper_id}')\n",
    "        \n",
    "        try:\n",
    "            doc = latex.LatexDocument(folder, validation=validation)    \n",
    "        except AffiliationError as affilerror:\n",
    "            msg = f\"ArXiv:{paper_id:s} is not an MPIA paper... \" + str(affilerror)\n",
    "            failed.append((paper, \"affiliation error: \" + str(affilerror) ))\n",
    "            continue\n",
    "        \n",
    "        # Hack because sometimes author parsing does not work well\n",
    "        if (len(doc.authors) != len(paper['authors'])):\n",
    "            doc._authors = paper['authors']\n",
    "        else:\n",
    "            # highlight authors (FIXME: doc.highlight_authors)\n",
    "            # done on arxiv paper already\n",
    "            doc._authors = highlight_authors_in_list(\n",
    "                [mpia.get_initials(k) for k in doc.authors], \n",
    "                normed_mpia_authors, verbose=True)\n",
    "        if (doc.abstract) in (None, ''):\n",
    "            doc._abstract = paper['abstract']\n",
    "            \n",
    "        doc.comment = (get_markdown_badge(paper_id) + \n",
    "                       \"<mark>Appeared on: \" + paper['date'] + \"</mark> - \")\n",
    "        if paper['comments']:\n",
    "            doc.comment += \" _\" + paper['comments'] + \"_\"\n",
    "        \n",
    "        full_md = doc.generate_markdown_text()\n",
    "        \n",
    "        full_md += get_markdown_qrcode(paper_id)\n",
    "        \n",
    "        # replace citations\n",
    "        try:\n",
    "            bibdata = latex_bib.LatexBib.from_doc(doc)\n",
    "            full_md = latex_bib.replace_citations(full_md, bibdata)\n",
    "        except Exception as e:\n",
    "            print(e)\n",
    "        \n",
    "        documents.append((paper_id, full_md))\n",
    "    except Exception as e:\n",
    "        warnings.warn(latex.LatexWarning(f\"{paper_id:s} did not run properly\\n\" +\n",
    "                                         str(e)\n",
    "                                        ))\n",
    "        failed.append((paper, \"latex error \" + str(e)))"
   ]
  },
  {
   "cell_type": "markdown",
   "id": "2505a25c",
   "metadata": {
    "papermill": {
     "duration": 0.003714,
     "end_time": "2024-01-23T04:09:43.974598",
     "exception": false,
     "start_time": "2024-01-23T04:09:43.970884",
     "status": "completed"
    },
    "tags": []
   },
   "source": [
    "### Export the logs\n",
    "\n",
    "Throughout, we also keep track of the logs per paper. see `logs-{today date}.md` "
   ]
  },
  {
   "cell_type": "code",
   "execution_count": 5,
   "id": "d733828a",
   "metadata": {
    "execution": {
     "iopub.execute_input": "2024-01-23T04:09:43.983196Z",
     "iopub.status.busy": "2024-01-23T04:09:43.982832Z",
     "iopub.status.idle": "2024-01-23T04:09:43.999504Z",
     "shell.execute_reply": "2024-01-23T04:09:43.998882Z"
    },
    "papermill": {
     "duration": 0.022795,
     "end_time": "2024-01-23T04:09:44.000907",
     "exception": false,
     "start_time": "2024-01-23T04:09:43.978112",
     "status": "completed"
    },
    "scrolled": false,
    "tags": []
   },
   "outputs": [
    {
     "data": {
      "text/markdown": [
       "## Successful papers"
      ],
      "text/plain": [
       "<IPython.core.display.Markdown object>"
      ]
     },
     "metadata": {},
     "output_type": "display_data"
    },
    {
     "data": {
      "text/markdown": [
       "\n",
       "|||\n",
       "|---:|:---|\n",
       "| [![arXiv](https://img.shields.io/badge/arXiv-arXiv:2401.11826-b31b1b.svg)](https://arxiv.org/abs/arXiv:2401.11826) | **Tracing the rise of supermassive black holes: A panchromatic search for  faint, unobscured quasars at z > 6 with COSMOS-Web and other surveys**  |\n",
       "|| I. T. Andika, et al. -- incl., <mark>K. Jahnke</mark> |\n",
       "|*Appeared on*| *2024-01-23*|\n",
       "|*Comments*| *Submitted to the Astronomy & Astrophysics journal. 25 pages, 10 figures, and 4 tables. We welcome comments from the reader*|\n",
       "|**Abstract**| We report the identification of 64 new candidates of compact galaxies, potentially hosting faint quasars with bolometric luminosities of $L_\\mathrm{bol} = 10^{43}$--10$^{46}$ erg s$^{-1}$, residing in the reionization epoch within the redshift range of $6 \\lesssim z \\lesssim 8$. These candidates were selected by harnessing the rich multiband datasets provided by the emerging JWST-driven extragalactic surveys, focusing on COSMOS-Web, as well as JADES, UNCOVER, CEERS, and PRIMER. Our search strategy includes two stages: applying stringent photometric cuts to catalog-level data and detailed spectral energy distribution fitting. These techniques effectively isolate the quasar candidates while mitigating contamination from low-redshift interlopers, such as brown dwarfs and nearby galaxies. The selected candidates indicate physical traits compatible with low-luminosity active galactic nuclei, likely hosting $\\approx10^5$--$10^7~M_\\odot$ supermassive black holes (SMBHs) living in galaxies with stellar masses of $\\approx10^8$--$10^{10}~M_\\odot$. The SMBHs selected in this study, on average, exhibit elevated mass compared to their hosts, with the mass ratio distribution slightly higher than those of galaxies in the local universe. As with other high-$z$ studies, this is at least in part due to the selection method for these quasars. An extensive Monte Carlo analysis provides compelling evidence that heavy black hole seeds from the direct collapse scenario appear to be the preferred pathway to mature this specific subset of SMBHs by $z\\approx7$. This work underscores the significance of further spectroscopic observations, as the quasar candidates presented here offer exceptional opportunities to delve into the nature of the earliest galaxies and SMBHs formed during cosmic infancy. |"
      ],
      "text/plain": [
       "[arXiv:2401.11826] Tracing the rise of supermassive black holes: A panchromatic search for  faint, unobscured quasars at z > 6 with COSMOS-Web and other surveys\n",
       "\tI. T. Andika, et al. -- incl., <mark>K. Jahnke</mark>"
      ]
     },
     "metadata": {},
     "output_type": "display_data"
    },
    {
     "data": {
      "text/markdown": [
       "## Failed papers"
      ],
      "text/plain": [
       "<IPython.core.display.Markdown object>"
      ]
     },
     "metadata": {},
     "output_type": "display_data"
    },
    {
     "data": {
      "text/markdown": [
       "\n",
       "|||\n",
       "|---:|:---|\n",
       "| [![arXiv](https://img.shields.io/badge/arXiv-arXiv:2401.11134-b31b1b.svg)](https://arxiv.org/abs/arXiv:2401.11134) | **Detection of Solar-like Oscillations in Sub-giant and Red Giant Stars  Using 2-minute Cadence TESS Data**  |\n",
       "|| J. Zhou, et al. -- incl., <mark>X. Zhang</mark> |\n",
       "|*Appeared on*| *2024-01-23*|\n",
       "|*Comments*| **|\n",
       "|**Abstract**| Based on all 2-minute cadence $TESS$ light curves from Sector 1 to 60, we provide a catalog of 8,651 solar-like oscillators, including frequency at maximum power ($\\nu_{\\rm max}$, with its median precision, $\\sigma$=5.39\\%), large frequency separation ($\\Delta\\nu$, $\\sigma$=6.22\\%), seismically derived masses, radii, and surface gravity. In this sample, we have detected 2,173 new oscillators and added 4,373 new $\\Delta\\nu$ measurements. Our seismic parameters are consistent with those from $Kepler$, $K2$, and previous $TESS$ data. The median fractional residual in $\\nu_{\\rm max}$ is $1.63\\%$ with a scatter of $14.75\\%$, and in $\\Delta\\nu$ it is $0.11\\%$ with a scatter of $10.76\\%$. We have detected 476 solar-like oscillators with $\\nu_{\\rm max}$ exceeding the $Nyquist$ frequency of $Kepler$ long-cadence data during the evolutionary phases of sub-giant and the base of the red-giant branch, which provide a valuable resource for understanding angular momentum transport. |\n",
       "|<p style=\"color:green\"> **ERROR** </p>| <p style=\"color:green\">affiliation error: mpia.affiliation_verifications: 'Heidelberg' keyword not found.</p> |"
      ],
      "text/plain": [
       "<IPython.core.display.Markdown object>"
      ]
     },
     "metadata": {},
     "output_type": "display_data"
    },
    {
     "data": {
      "text/markdown": [
       "\n",
       "|||\n",
       "|---:|:---|\n",
       "| [![arXiv](https://img.shields.io/badge/arXiv-arXiv:2401.12006-b31b1b.svg)](https://arxiv.org/abs/arXiv:2401.12006) | **A comprehensive correction of the Gaia DR3 XP spectra**  |\n",
       "|| B. Huang, et al. -- incl., <mark>R. Zhang</mark> |\n",
       "|*Appeared on*| *2024-01-23*|\n",
       "|*Comments*| *20 pages, 17 figures*|\n",
       "|**Abstract**| By combining spectra from the CALSPEC and NGSL, as well as spectroscopic data from the LAMOST Data Release 7 (DR7), we have analyzed and corrected the systematic errors of the Gaia DR3 BP/RP (XP) spectra. The errors depend on the normalized spectral energy distribution (simplified by two independent ``colors'') and $G$ magnitude. Our corrections are applicable in the range of approximately $-0.5<BP-RP<2$, $3<G<17.5$ and $E(B-V)<0.8$. To validate our correction, we conduct independent tests by comparing with the MILES and LEMONY spectra. The results demonstrate that the systematic errors of $BP-RP$ and $G$ have been effectively corrected, especially in the near ultraviolet. The consistency between the corrected Gaia XP spectra and the MILES and LEMONY is better than 2 per cent in the wavelength range of $336-400$\\,nm and 1 per cent in redder wavelengths. A global absolute calibration is also carried out by comparing the synthetic Gaia photometry from the corrected XP spectra with the corrected Gaia DR3 photometry. Our study opens up new possibilities for using XP spectra in many fields. A Python package is publicly available to do the corrections (https://doi.org/10.12149/101375 or https://github.com/HiromonGON/GaiaXPcorrection). |\n",
       "|<p style=\"color:green\"> **ERROR** </p>| <p style=\"color:green\">affiliation error: mpia.affiliation_verifications: 'Heidelberg' keyword not found.</p> |"
      ],
      "text/plain": [
       "<IPython.core.display.Markdown object>"
      ]
     },
     "metadata": {},
     "output_type": "display_data"
    },
    {
     "data": {
      "text/markdown": [
       "\n",
       "|||\n",
       "|---:|:---|\n",
       "| [![arXiv](https://img.shields.io/badge/arXiv-arXiv:2401.11329-b31b1b.svg)](https://arxiv.org/abs/arXiv:2401.11329) | **MOA-2022-BLG-563Lb, KMT-2023-BLG-0469Lb, and KMT-2023-BLG-0735Lb: Three  sub-Jovian-mass microlensing planets**  |\n",
       "|| C. Han, et al. -- incl., <mark>A. Gould</mark> |\n",
       "|*Appeared on*| *2024-01-23*|\n",
       "|*Comments*| *11 pages, 7 tables, 10 figures*|\n",
       "|**Abstract**| We analyze the anomalies appearing in the light curves of the three microlensing events MOA-2022-BLG-563, KMT-2023-BLG-0469, and KMT-2023-BLG-0735. The anomalies exhibit common short-term dip features that appear near the peak. From the detailed analyses of the light curves, we find that the anomalies were produced by planets accompanied by the lenses of the events. For all three events, the estimated mass ratios between the planet and host are on the order of $10^{-4}$: $q\\sim 8 \\times 10^{-4}$ for MOA-2022-BLG-563L, $q\\sim 2.5\\times 10^{-4}$ for KMT-2023-BLG-0469L, and $q\\sim 1.9\\times 10^{-4}$ for KMT-2023-BLG-0735L. The interpretations of the anomalies are subject to a common inner-outer degeneracy, which causes ambiguity when estimating the projected planet-host separation. We estimated the planet mass, $M_{\\rm p}$, host mass, $M_{\\rm h}$, and distance, $D_{\\rm L}$, to the planetary system by conducting Bayesian analyses using the observables of the events. The estimated physical parameters of the planetary systems are $(M_{\\rm h}/M_\\odot, M_{\\rm p}/M_{\\rm J}, D_{\\rm L}/{\\rm kpc}) = (0.48^{+0.36}_{-0.30}, 0.40^{+0.31}_{-0.25}, 6.53^{+1.12}_{-1.57})$ for MOA-2022-BLG-563L, $(0.47^{+0.35}_{-0.26}, 0.124^{+0.092}_{-0.067}, 7.07^{+1.03}_{-1.19})$ for KMT-2023-BLG-0469L, and $(0.62^{+0.34}_{-0.35}, 0.125^{+0.068}_{-0.070}, 6.26^{+1.27}_{-1.67})$ for KMT-2023-BLG-0735L. According to the estimated parameters, all planets are cold planets with projected separations that are greater than the snow lines of the planetary systems, they have masses that lie between the masses of Uranus and Jupiter of the Solar System, and the hosts of the planets are main-sequence stars that are less massive than the Sun. |\n",
       "|<p style=\"color:red\"> **ERROR** </p>| <p style=\"color:red\">latex error Unable to locate Ghostscript on paths</p> |"
      ],
      "text/plain": [
       "<IPython.core.display.Markdown object>"
      ]
     },
     "metadata": {},
     "output_type": "display_data"
    }
   ],
   "source": [
    "import datetime\n",
    "today = str(datetime.date.today())\n",
    "logfile = f\"_build/html/logs/log-{today}.md\"\n",
    "\n",
    "\n",
    "with open(logfile, 'w') as logs:\n",
    "    # Success\n",
    "    logs.write(f'# Arxiv on Deck 2: Logs - {today}\\n\\n')\n",
    "    logs.write(\"\"\"* Arxiv had {0:,d} new papers\\n\"\"\".format(len(new_papers)))\n",
    "    logs.write(\"\"\"    * {0:,d} with possible author matches\\n\\n\"\"\".format(len(candidates)))\n",
    "    logs.write(\"## Sucessful papers\\n\\n\")\n",
    "    display(Markdown(\"## Successful papers\"))\n",
    "    success = [k[0] for k in documents]\n",
    "    for candid in candidates:\n",
    "        if candid['identifier'].split(':')[-1] in success:\n",
    "            display(candid)\n",
    "            logs.write(candid.generate_markdown_text() + '\\n\\n')\n",
    "\n",
    "    ## failed\n",
    "    logs.write(\"## Failed papers\\n\\n\")\n",
    "    display(Markdown(\"## Failed papers\"))\n",
    "    failed = sorted(failed, key=lambda x: x[1])\n",
    "    current_reason = \"\"\n",
    "    for paper, reason in failed:\n",
    "        if 'affiliation' in reason:\n",
    "            color = 'green'\n",
    "        else:\n",
    "            color = 'red'\n",
    "        data = Markdown(\n",
    "                paper.generate_markdown_text() + \n",
    "                f'\\n|<p style=\"color:{color:s}\"> **ERROR** </p>| <p style=\"color:{color:s}\">{reason:s}</p> |'\n",
    "               )\n",
    "        if reason != current_reason:\n",
    "            logs.write(f'### {reason:s} \\n\\n')\n",
    "            current_reason = reason\n",
    "        logs.write(data.data + '\\n\\n')\n",
    "        \n",
    "        # only display here the important errors (all in logs)\n",
    "        # if color in ('red',):\n",
    "        display(data)"
   ]
  },
  {
   "cell_type": "markdown",
   "id": "472d20ee",
   "metadata": {
    "papermill": {
     "duration": 0.004132,
     "end_time": "2024-01-23T04:09:44.009390",
     "exception": false,
     "start_time": "2024-01-23T04:09:44.005258",
     "status": "completed"
    },
    "tags": []
   },
   "source": [
    "## Export documents\n",
    "\n",
    "We now write the .md files and export relevant images"
   ]
  },
  {
   "cell_type": "code",
   "execution_count": 6,
   "id": "d426aed9",
   "metadata": {
    "execution": {
     "iopub.execute_input": "2024-01-23T04:09:44.018994Z",
     "iopub.status.busy": "2024-01-23T04:09:44.018540Z",
     "iopub.status.idle": "2024-01-23T04:09:44.025101Z",
     "shell.execute_reply": "2024-01-23T04:09:44.024543Z"
    },
    "papermill": {
     "duration": 0.013231,
     "end_time": "2024-01-23T04:09:44.026759",
     "exception": false,
     "start_time": "2024-01-23T04:09:44.013528",
     "status": "completed"
    },
    "tags": []
   },
   "outputs": [],
   "source": [
    "def export_markdown_summary(md: str, md_fname:str, directory: str):\n",
    "    \"\"\"Export MD document and associated relevant images\"\"\"\n",
    "    import os\n",
    "    import shutil\n",
    "    import re\n",
    "\n",
    "    if (os.path.exists(directory) and not os.path.isdir(directory)):\n",
    "        raise RuntimeError(f\"a non-directory file exists with name {directory:s}\")\n",
    "\n",
    "    if (not os.path.exists(directory)):\n",
    "        print(f\"creating directory {directory:s}\")\n",
    "        os.mkdir(directory)\n",
    "\n",
    "    fig_fnames = (re.compile(r'\\[Fig.*\\]\\((.*)\\)').findall(md) + \n",
    "                  re.compile(r'\\<img src=\"([^>\\s]*)\"[^>]*/>').findall(md))\n",
    "    for fname in fig_fnames:\n",
    "        if 'http' in fname:\n",
    "            # No need to copy online figures\n",
    "            continue\n",
    "        destdir = os.path.join(directory, os.path.dirname(fname))\n",
    "        destfname = os.path.join(destdir, os.path.basename(fname))\n",
    "        try:\n",
    "            os.makedirs(destdir)\n",
    "        except FileExistsError:\n",
    "            pass\n",
    "        shutil.copy(fname, destfname)\n",
    "    with open(os.path.join(directory, md_fname), 'w') as fout:\n",
    "        fout.write(md)\n",
    "    print(\"exported in \", os.path.join(directory, md_fname))\n",
    "    [print(\"    + \" + os.path.join(directory,fk)) for fk in fig_fnames]"
   ]
  },
  {
   "cell_type": "code",
   "execution_count": 7,
   "id": "014d04a4",
   "metadata": {
    "execution": {
     "iopub.execute_input": "2024-01-23T04:09:44.036612Z",
     "iopub.status.busy": "2024-01-23T04:09:44.036203Z",
     "iopub.status.idle": "2024-01-23T04:09:44.042411Z",
     "shell.execute_reply": "2024-01-23T04:09:44.041834Z"
    },
    "papermill": {
     "duration": 0.012612,
     "end_time": "2024-01-23T04:09:44.043806",
     "exception": false,
     "start_time": "2024-01-23T04:09:44.031194",
     "status": "completed"
    },
    "tags": []
   },
   "outputs": [
    {
     "name": "stdout",
     "output_type": "stream",
     "text": [
      "exported in  _build/html/2401.11826.md\n",
      "    + _build/html/tmp_2401.11826/figures/fig_MBH_MStar.png\n",
      "    + _build/html/tmp_2401.11826/figures/fig_known_prop.png\n",
      "    + _build/html/tmp_2401.11826/figures/fig_zphot.png\n"
     ]
    }
   ],
   "source": [
    "for paper_id, md in documents:\n",
    "    export_markdown_summary(md, f\"{paper_id:s}.md\", '_build/html/')"
   ]
  },
  {
   "cell_type": "markdown",
   "id": "f087a0a7",
   "metadata": {
    "papermill": {
     "duration": 0.004177,
     "end_time": "2024-01-23T04:09:44.052364",
     "exception": false,
     "start_time": "2024-01-23T04:09:44.048187",
     "status": "completed"
    },
    "tags": []
   },
   "source": [
    "## Display the papers\n",
    "\n",
    "Not necessary but allows for a quick check."
   ]
  },
  {
   "cell_type": "code",
   "execution_count": 8,
   "id": "fd25f625",
   "metadata": {
    "execution": {
     "iopub.execute_input": "2024-01-23T04:09:44.062116Z",
     "iopub.status.busy": "2024-01-23T04:09:44.061622Z",
     "iopub.status.idle": "2024-01-23T04:09:44.066771Z",
     "shell.execute_reply": "2024-01-23T04:09:44.066140Z"
    },
    "papermill": {
     "duration": 0.011556,
     "end_time": "2024-01-23T04:09:44.068139",
     "exception": false,
     "start_time": "2024-01-23T04:09:44.056583",
     "status": "completed"
    },
    "scrolled": false,
    "tags": []
   },
   "outputs": [
    {
     "data": {
      "text/markdown": [
       "<div class=\"macros\" style=\"visibility:hidden;\">\n",
       "$\\newcommand{\\ensuremath}{}$\n",
       "$\\newcommand{\\xspace}{}$\n",
       "$\\newcommand{\\object}[1]{\\texttt{#1}}$\n",
       "$\\newcommand{\\farcs}{{.}''}$\n",
       "$\\newcommand{\\farcm}{{.}'}$\n",
       "$\\newcommand{\\arcsec}{''}$\n",
       "$\\newcommand{\\arcmin}{'}$\n",
       "$\\newcommand{\\ion}[2]{#1#2}$\n",
       "$\\newcommand{\\textsc}[1]{\\textrm{#1}}$\n",
       "$\\newcommand{\\hl}[1]{\\textrm{#1}}$\n",
       "$\\newcommand{\\footnote}[1]{}$\n",
       "$\\newcommand{\\nodata}{ ~\\cdots~ }$\n",
       "$\\newcommand{\\MBH}{M_\\mathrm{BH}}$\n",
       "$\\newcommand{\\MSeed}{M_\\mathrm{seed}}$\n",
       "$\\newcommand{\\MStar}{M_*}$\n",
       "$\\newcommand{\\MSun}{M_\\odot}$\n",
       "$\\newcommand{\\LEdd}{L_\\mathrm{Edd}}$\n",
       "$\\newcommand{\\Lbol}{L_\\mathrm{bol}}$\n",
       "$\\newcommand{\\arraystretch}{1.5}$</div>\n",
       "\n",
       "\n",
       "\n",
       "<div id=\"title\">\n",
       "\n",
       "# Tracing the rise of supermassive black holes:\n",
       "\n",
       "</div>\n",
       "<div id=\"comments\">\n",
       "\n",
       "[![arXiv](https://img.shields.io/badge/arXiv-2401.11826-b31b1b.svg)](https://arxiv.org/abs/2401.11826)<mark>Appeared on: 2024-01-23</mark> -  _Submitted to the Astronomy & Astrophysics journal. 25 pages, 10 figures, and 4 tables. We welcome comments from the reader_\n",
       "\n",
       "</div>\n",
       "<div id=\"authors\">\n",
       "\n",
       "I. T. Andika, et al. -- incl., <mark>K. Jahnke</mark>\n",
       "\n",
       "</div>\n",
       "<div id=\"abstract\">\n",
       "\n",
       "**Abstract:** We report the identification of 64 new candidates of compact galaxies, potentially hosting faint quasars with bolometric luminosities of $L_\\mathrm{bol} = 10^{43}$ --10 $^{46}$ erg s $^{-1}$ , residing in the reionization epoch within the redshift range of $6 \\lesssim z \\lesssim 8$ .These candidates were selected by harnessing the rich multiband datasets provided by the emerging JWST-driven extragalactic surveys, focusing on COSMOS-Web, as well as JADES, UNCOVER, CEERS, and PRIMER.Our search strategy includes two stages: applying stringent photometric cuts to catalog-level data and detailed spectral energy distribution fitting.These techniques effectively isolate the quasar candidates while mitigating contamination from low-redshift interlopers, such as brown dwarfs and nearby galaxies.The selected candidates indicate physical traits compatible with low-luminosity active galactic nuclei, likely hosting $\\approx10^5$ -- $10^7 M_\\odot$ supermassive black holes (SMBHs) living in galaxies with stellar masses of $\\approx10^8$ -- $10^{10} M_\\odot$ .The SMBHs selected in this study, on average, exhibit elevated mass compared to their hosts, with the mass ratio distribution slightly higher than those of galaxies in the local universe.As with other high- $z$ studies, this is at least in part due to the selection method for these quasars.An extensive Monte Carlo analysis provides compelling evidence that heavy black hole seeds from the direct collapse scenario appear to be the preferred pathway to mature this specific subset of SMBHs by $z\\approx7$ .Notably, most of the selected candidates might have emerged from seeds with masses of $\\sim10^5 M_\\odot$ , assuming a thin disk accretion with an average Eddington ratio of $f_\\mathrm{Edd}=0.6\\pm0.3$ and a radiative efficiency of $\\epsilon = 0.2\\pm0.1$ .This work underscores the significance of further spectroscopic observations, as the quasar candidates presented here offer exceptional opportunities to delve into the nature of the earliest galaxies and SMBHs formed during cosmic infancy.\n",
       "\n",
       "</div>\n",
       "\n",
       "<div id=\"div_fig1\">\n",
       "\n",
       "<img src=\"tmp_2401.11826/figures/fig_MBH_MStar.png\" alt=\"Fig8\" width=\"100%\"/>\n",
       "\n",
       "**Figure 8. -** \n",
       "\t\tRelation between the black hole mass ($\\MBH$) and its host galaxy stellar mass ($\\MStar$).\n",
       "\t\tThe red contour represents our quasar candidates at $z\\gtrsim6$, where our measurements can only provide lower limits for $M_\\mathrm{BH}$, considering Eddington ratio values ranging from 0.1 to 1.\n",
       "\t\tThe typical statistical errors for $M_*$ are indicated in the lower right corner of the panel.\n",
       "\t\tHigh-$z$ quasar samples with available JWST spectroscopic data from [Harikane, Zhang and Nakajima (2023)](), [Yue, Eilers and Simcoe (2023)](), [Ding, Onoue and Silverman (2023)](), and \\citet[][excluding dual AGNs]{2023arXiv230801230M} are presented with blue, green, orange, and purple circles with error bars.\n",
       "\t\tAdditional AGN samples from [Larson, Finkelstein and Kocevski (2023)](), [Übler, Maiolino and Curtis-Lake (2023)](), [Stone, et. al (2023)](), [Kocevski, Onoue and Inayoshi (2023)](), [Kokorev, Fujimoto and Labbe (2023)](), and [Goulding, Greene and Setton (2023)]() are indicated with cyan circles.\n",
       "\t\tThe gray dots and crosses are nearby galaxies and AGNs from [ and Kormendy (2013)]() and [ and Reines (2015)]().\n",
       "\t\tThe black dashed lines mark the limits where $M_\\mathrm{BH}$/$M_*$ equals 0.1 and 0.01.\n",
       "\t\tOur candidates show a slightly higher $M_\\mathrm{BH}$ to $M_*$ ratios than other galaxies at $z\\sim0$ with consistent properties compared to high-$z$ low-luminosity quasars.\n",
       "\t (*fig:mbh_mstar*)\n",
       "\n",
       "</div>\n",
       "<div id=\"div_fig2\">\n",
       "\n",
       "<img src=\"tmp_2401.11826/figures/fig_known_prop.png\" alt=\"Fig9\" width=\"100%\"/>\n",
       "\n",
       "**Figure 9. -** \n",
       "\t\tDistribution of black hole masses ($\\MBH$), stellar masses ($\\MStar$), and the fraction of AGN emission ($f_\\mathrm{AGN}$) of known sources (see text).\n",
       "\t\tThe left panel compares the lower limit $\\MBH$ assuming an Eddington ratio of $f_\\mathrm{Edd}=1$ that we calculated and actual values reported in the literature.\n",
       "\t\tThe data points are color-coded according to the inferred $f_\\mathrm{AGN}$ of each source.\n",
       "\t\tThe middle panel shows the $\\MStar$ from other studies versus our own measurements.\n",
       "\t\tThe right panel illustrates the distribution of $f_\\mathrm{AGN}$ for active and inactive galaxies.\n",
       "\t\tTo compensate for the difference in sample sizes, we normalize the bin heights of the histogram, ensuring that the integral of the distribution equals unity.\n",
       "\t (*fig:known_prop*)\n",
       "\n",
       "</div>\n",
       "<div id=\"div_fig3\">\n",
       "\n",
       "<img src=\"tmp_2401.11826/figures/fig_zphot.png\" alt=\"Fig1\" width=\"100%\"/>\n",
       "\n",
       "**Figure 1. -** \n",
       "\t\tComparison between $z_\\mathrm{phot}$ and $z_\\mathrm{spec}$.\n",
       "\t\tThe number count ($N$), average bias ($|\\Delta z|$), scatter ($\\sigma$), and outlier fraction ($|\\Delta z| > 0.15$) of all sources (blue squares) with available spectroscopic data are reported.\n",
       "\t\tThe region with darker colors corresponds to a higher number of sources within the 2D histogram bins.\n",
       "\t\tWe also show the metrics for a subset that satisfies our high-$z$ selection criteria (white circles with error bars).\n",
       "\t\tSamples of spectroscopically confirmed AGNs from the literature are depicted with red circles.\n",
       "\t (*fig:zphot*)\n",
       "\n",
       "</div><div id=\"qrcode\"><img src=https://api.qrserver.com/v1/create-qr-code/?size=100x100&data=\"https://arxiv.org/abs/2401.11826\"></div>"
      ],
      "text/plain": [
       "<IPython.core.display.Markdown object>"
      ]
     },
     "metadata": {},
     "output_type": "display_data"
    }
   ],
   "source": [
    "[display(Markdown(k[1])) for k in documents];"
   ]
  },
  {
   "cell_type": "markdown",
   "id": "873873a4",
   "metadata": {
    "papermill": {
     "duration": 0.004511,
     "end_time": "2024-01-23T04:09:44.077405",
     "exception": false,
     "start_time": "2024-01-23T04:09:44.072894",
     "status": "completed"
    },
    "tags": []
   },
   "source": [
    "# Create HTML index"
   ]
  },
  {
   "cell_type": "code",
   "execution_count": 9,
   "id": "cf665672",
   "metadata": {
    "execution": {
     "iopub.execute_input": "2024-01-23T04:09:44.087882Z",
     "iopub.status.busy": "2024-01-23T04:09:44.087382Z",
     "iopub.status.idle": "2024-01-23T04:09:44.098126Z",
     "shell.execute_reply": "2024-01-23T04:09:44.097561Z"
    },
    "papermill": {
     "duration": 0.01763,
     "end_time": "2024-01-23T04:09:44.099518",
     "exception": false,
     "start_time": "2024-01-23T04:09:44.081888",
     "status": "completed"
    },
    "tags": []
   },
   "outputs": [
    {
     "name": "stdout",
     "output_type": "stream",
     "text": [
      "357  publications files modified in the last 7 days.\n"
     ]
    }
   ],
   "source": [
    "from datetime import datetime, timedelta, timezone\n",
    "from glob import glob\n",
    "import os\n",
    "\n",
    "files = glob('_build/html/*.md')\n",
    "days = 7\n",
    "now = datetime.today()\n",
    "res = []\n",
    "for fk in files:\n",
    "    stat_result = os.stat(fk).st_ctime\n",
    "    modified = datetime.fromtimestamp(stat_result, tz=timezone.utc).replace(tzinfo=None)\n",
    "    delta = now.today() - modified\n",
    "    if delta <= timedelta(days=days):\n",
    "        res.append((delta.seconds, fk))\n",
    "res = [k[1] for k in reversed(sorted(res, key=lambda x:x[1]))]\n",
    "npub = len(res)\n",
    "print(len(res), f\" publications files modified in the last {days:d} days.\")\n",
    "# [ print('\\t', k) for k in res ];"
   ]
  },
  {
   "cell_type": "code",
   "execution_count": 10,
   "id": "015de740",
   "metadata": {
    "execution": {
     "iopub.execute_input": "2024-01-23T04:09:44.109916Z",
     "iopub.status.busy": "2024-01-23T04:09:44.109371Z",
     "iopub.status.idle": "2024-01-23T04:09:44.130577Z",
     "shell.execute_reply": "2024-01-23T04:09:44.129983Z"
    },
    "papermill": {
     "duration": 0.027741,
     "end_time": "2024-01-23T04:09:44.131955",
     "exception": false,
     "start_time": "2024-01-23T04:09:44.104214",
     "status": "completed"
    },
    "tags": []
   },
   "outputs": [
    {
     "name": "stdout",
     "output_type": "stream",
     "text": [
      "3  publications in the last 7 days.\n"
     ]
    }
   ],
   "source": [
    "import datetime\n",
    "from glob import glob\n",
    "\n",
    "def get_last_n_days(lst, days=1):\n",
    "    \"\"\" Get the documents from the last n days \"\"\"\n",
    "    sorted_lst = sorted(lst, key=lambda x: x[1], reverse=True)\n",
    "    for fname, date in sorted_lst:\n",
    "        if date >= str(datetime.date.today() - datetime.timedelta(days=days)):\n",
    "            yield fname\n",
    "\n",
    "def extract_appearance_dates(lst_file):\n",
    "    dates = []\n",
    "\n",
    "    def get_date(line):\n",
    "        return line\\\n",
    "            .split('Appeared on:')[-1]\\\n",
    "            .split('</mark>')[0].strip()\n",
    "\n",
    "    for fname in lst:\n",
    "        with open(fname, 'r') as f:\n",
    "            found_date = False\n",
    "            for line in f:\n",
    "                if not found_date:\n",
    "                    if \"Appeared on\" in line:\n",
    "                        found_date = True\n",
    "                        dates.append((fname, get_date(line)))\n",
    "                else:\n",
    "                    break\n",
    "    return dates\n",
    "\n",
    "from glob import glob\n",
    "lst = glob('_build/html/*md')\n",
    "days = 7\n",
    "dates = extract_appearance_dates(lst)\n",
    "res = list(get_last_n_days(dates, days))\n",
    "npub = len(res)\n",
    "print(len(res), f\" publications in the last {days:d} days.\")"
   ]
  },
  {
   "cell_type": "code",
   "execution_count": 11,
   "id": "52ca0208",
   "metadata": {
    "execution": {
     "iopub.execute_input": "2024-01-23T04:09:44.142758Z",
     "iopub.status.busy": "2024-01-23T04:09:44.142241Z",
     "iopub.status.idle": "2024-01-23T04:09:44.147499Z",
     "shell.execute_reply": "2024-01-23T04:09:44.146940Z"
    },
    "papermill": {
     "duration": 0.012147,
     "end_time": "2024-01-23T04:09:44.148857",
     "exception": false,
     "start_time": "2024-01-23T04:09:44.136710",
     "status": "completed"
    },
    "scrolled": false,
    "tags": []
   },
   "outputs": [],
   "source": [
    "def create_carousel(npub=4):\n",
    "    \"\"\" Generate the HTML code for a carousel with `npub` slides \"\"\"\n",
    "    carousel = [\"\"\"  <div class=\"carousel\" \"\"\",\n",
    "                \"\"\"       data-flickity='{ \"autoPlay\": 10000, \"adaptiveHeight\": true, \"resize\": true, \"wrapAround\": true, \"pauseAutoPlayOnHover\": true, \"groupCells\": 1 }' id=\"asyncTypeset\">\"\"\"\n",
    "                ]\n",
    "    \n",
    "    item_str = \"\"\"    <div class=\"carousel-cell\"> <div id=\"slide{k}\" class=\"md_view\">Content {k}</div> </div>\"\"\"\n",
    "    for k in range(1, npub + 1):\n",
    "        carousel.append(item_str.format(k=k))\n",
    "    carousel.append(\"  </div>\")\n",
    "    return '\\n'.join(carousel)\n",
    "\n",
    "def create_grid(npub=4):\n",
    "    \"\"\" Generate the HTML code for a flat grid with `npub` slides \"\"\"\n",
    "    grid = [\"\"\"  <div class=\"grid\"> \"\"\",\n",
    "                ]\n",
    "    \n",
    "    item_str = \"\"\"    <div class=\"grid-item\"> <div id=\"slide{k}\" class=\"md_view\">Content {k}</div> </div>\"\"\"\n",
    "    for k in range(1, npub + 1):\n",
    "        grid.append(item_str.format(k=k))\n",
    "    grid.append(\"  </div>\")\n",
    "    return '\\n'.join(grid)"
   ]
  },
  {
   "cell_type": "code",
   "execution_count": 12,
   "id": "a6eac5b6",
   "metadata": {
    "execution": {
     "iopub.execute_input": "2024-01-23T04:09:44.159196Z",
     "iopub.status.busy": "2024-01-23T04:09:44.158816Z",
     "iopub.status.idle": "2024-01-23T04:09:44.163761Z",
     "shell.execute_reply": "2024-01-23T04:09:44.163204Z"
    },
    "papermill": {
     "duration": 0.011745,
     "end_time": "2024-01-23T04:09:44.165236",
     "exception": false,
     "start_time": "2024-01-23T04:09:44.153491",
     "status": "completed"
    },
    "scrolled": false,
    "tags": []
   },
   "outputs": [],
   "source": [
    "carousel = create_carousel(npub)\n",
    "docs = ', '.join(['\"{0:s}\"'.format(k.split('/')[-1]) for k in res])\n",
    "slides = ', '.join([f'\"slide{k}\"' for k in range(1, npub + 1)])\n",
    "\n",
    "with open(\"daily_template.html\", \"r\") as tpl:\n",
    "    page = tpl.read()\n",
    "    page = page.replace(\"{%-- carousel:s --%}\", carousel)\\\n",
    "               .replace(\"{%-- suptitle:s --%}\",  \"7-day archives\" )\\\n",
    "               .replace(\"{%-- docs:s --%}\", docs)\\\n",
    "               .replace(\"{%-- slides:s --%}\", slides)\n",
    "    \n",
    "with open(\"_build/html/index_7days.html\", 'w') as fout:\n",
    "    fout.write(page)"
   ]
  },
  {
   "cell_type": "code",
   "execution_count": 13,
   "id": "adc1a1ec",
   "metadata": {
    "execution": {
     "iopub.execute_input": "2024-01-23T04:09:44.175962Z",
     "iopub.status.busy": "2024-01-23T04:09:44.175585Z",
     "iopub.status.idle": "2024-01-23T04:09:44.182503Z",
     "shell.execute_reply": "2024-01-23T04:09:44.181832Z"
    },
    "papermill": {
     "duration": 0.013817,
     "end_time": "2024-01-23T04:09:44.183867",
     "exception": false,
     "start_time": "2024-01-23T04:09:44.170050",
     "status": "completed"
    },
    "tags": []
   },
   "outputs": [
    {
     "name": "stdout",
     "output_type": "stream",
     "text": [
      "2  publications in the last day.\n"
     ]
    }
   ],
   "source": [
    "# redo for today\n",
    "days = 1\n",
    "res = list(get_last_n_days(dates, days))\n",
    "npub = len(res)\n",
    "print(len(res), f\" publications in the last day.\")\n",
    "\n",
    "carousel = create_carousel(npub)\n",
    "docs = ', '.join(['\"{0:s}\"'.format(k.split('/')[-1]) for k in res])\n",
    "slides = ', '.join([f'\"slide{k}\"' for k in range(1, npub + 1)])\n",
    "\n",
    "with open(\"daily_template.html\", \"r\") as tpl:\n",
    "    page = tpl.read()\n",
    "    page = page.replace(\"{%-- carousel:s --%}\", carousel)\\\n",
    "               .replace(\"{%-- suptitle:s --%}\",  \"Daily\" )\\\n",
    "               .replace(\"{%-- docs:s --%}\", docs)\\\n",
    "               .replace(\"{%-- slides:s --%}\", slides)\n",
    "    \n",
    "# print(carousel, docs, slides)\n",
    "# print(page)\n",
    "with open(\"_build/html/index_daily.html\", 'w') as fout:\n",
    "    fout.write(page)"
   ]
  },
  {
   "cell_type": "code",
   "execution_count": 14,
   "id": "00eece82",
   "metadata": {
    "execution": {
     "iopub.execute_input": "2024-01-23T04:09:44.194734Z",
     "iopub.status.busy": "2024-01-23T04:09:44.194356Z",
     "iopub.status.idle": "2024-01-23T04:09:44.200747Z",
     "shell.execute_reply": "2024-01-23T04:09:44.200171Z"
    },
    "papermill": {
     "duration": 0.013367,
     "end_time": "2024-01-23T04:09:44.202228",
     "exception": false,
     "start_time": "2024-01-23T04:09:44.188861",
     "status": "completed"
    },
    "scrolled": false,
    "tags": []
   },
   "outputs": [
    {
     "name": "stdout",
     "output_type": "stream",
     "text": [
      "6  6 publications selected.\n"
     ]
    }
   ],
   "source": [
    "# Create the flat grid of the last N papers (fixed number regardless of dates)\n",
    "from itertools import islice \n",
    "\n",
    "npub = 6\n",
    "res = [k[0] for k in (islice(reversed(sorted(dates, key=lambda x: x[1])), 6))]\n",
    "print(len(res), f\" {npub} publications selected.\")\n",
    "\n",
    "grid = create_grid(npub)\n",
    "docs = ', '.join(['\"{0:s}\"'.format(k.split('/')[-1]) for k in res])\n",
    "slides = ', '.join([f'\"slide{k}\"' for k in range(1, npub + 1)])\n",
    "\n",
    "with open(\"grid_template.html\", \"r\") as tpl:\n",
    "    page = tpl.read()\n",
    "    page = page.replace(\"{%-- grid-content:s --%}\", grid)\\\n",
    "               .replace(\"{%-- suptitle:s --%}\",  f\"Last {npub:,d} papers\" )\\\n",
    "               .replace(\"{%-- docs:s --%}\", docs)\\\n",
    "               .replace(\"{%-- slides:s --%}\", slides)\n",
    "    \n",
    "# print(grid, docs, slides)\n",
    "# print(page)\n",
    "with open(\"_build/html/index_npub_grid.html\", 'w') as fout:\n",
    "    fout.write(page)"
   ]
  }
 ],
 "metadata": {
  "kernelspec": {
   "display_name": "Python 3 (ipykernel)",
   "language": "python",
   "name": "python3"
  },
  "language_info": {
   "codemirror_mode": {
    "name": "ipython",
    "version": 3
   },
   "file_extension": ".py",
   "mimetype": "text/x-python",
   "name": "python",
   "nbconvert_exporter": "python",
   "pygments_lexer": "ipython3",
   "version": "3.9.18"
  },
  "papermill": {
   "default_parameters": {},
   "duration": 67.448026,
   "end_time": "2024-01-23T04:09:44.725913",
   "environment_variables": {},
   "exception": null,
   "input_path": "MPIA daily digest.ipynb",
   "output_path": "log.ipynb",
   "parameters": {},
   "start_time": "2024-01-23T04:08:37.277887",
   "version": "2.5.0"
  },
  "vscode": {
   "interpreter": {
    "hash": "aee8b7b246df8f9039afb4144a1f6fd8d2ca17a180786b69acc140d282b71a49"
   }
  },
  "widgets": {
   "application/vnd.jupyter.widget-state+json": {
    "state": {
     "19c7aa5bab6940ffb75d69cce3e316c8": {
      "model_module": "@jupyter-widgets/controls",
      "model_module_version": "2.0.0",
      "model_name": "HTMLModel",
      "state": {
       "_dom_classes": [],
       "_model_module": "@jupyter-widgets/controls",
       "_model_module_version": "2.0.0",
       "_model_name": "HTMLModel",
       "_view_count": null,
       "_view_module": "@jupyter-widgets/controls",
       "_view_module_version": "2.0.0",
       "_view_name": "HTMLView",
       "description": "",
       "description_allow_html": false,
       "layout": "IPY_MODEL_e3e41b71d9764309919f9b55dd4a046e",
       "placeholder": "​",
       "style": "IPY_MODEL_e5c8ec9cba264f68b56048b165c6b217",
       "tabbable": null,
       "tooltip": null,
       "value": " 4/4 [00:47&lt;00:00, 13.02s/it]"
      }
     },
     "1a39d5a76e514ae488348ed33ae9f582": {
      "model_module": "@jupyter-widgets/controls",
      "model_module_version": "2.0.0",
      "model_name": "HBoxModel",
      "state": {
       "_dom_classes": [],
       "_model_module": "@jupyter-widgets/controls",
       "_model_module_version": "2.0.0",
       "_model_name": "HBoxModel",
       "_view_count": null,
       "_view_module": "@jupyter-widgets/controls",
       "_view_module_version": "2.0.0",
       "_view_name": "HBoxView",
       "box_style": "",
       "children": [
        "IPY_MODEL_9460615de3274425922d43f920b756df",
        "IPY_MODEL_5972c36cd2e64a89b6f20ef856b2d514",
        "IPY_MODEL_19c7aa5bab6940ffb75d69cce3e316c8"
       ],
       "layout": "IPY_MODEL_3ab2b37524bf4308af6d0f410b49904f",
       "tabbable": null,
       "tooltip": null
      }
     },
     "3ab2b37524bf4308af6d0f410b49904f": {
      "model_module": "@jupyter-widgets/base",
      "model_module_version": "2.0.0",
      "model_name": "LayoutModel",
      "state": {
       "_model_module": "@jupyter-widgets/base",
       "_model_module_version": "2.0.0",
       "_model_name": "LayoutModel",
       "_view_count": null,
       "_view_module": "@jupyter-widgets/base",
       "_view_module_version": "2.0.0",
       "_view_name": "LayoutView",
       "align_content": null,
       "align_items": null,
       "align_self": null,
       "border_bottom": null,
       "border_left": null,
       "border_right": null,
       "border_top": null,
       "bottom": null,
       "display": null,
       "flex": null,
       "flex_flow": null,
       "grid_area": null,
       "grid_auto_columns": null,
       "grid_auto_flow": null,
       "grid_auto_rows": null,
       "grid_column": null,
       "grid_gap": null,
       "grid_row": null,
       "grid_template_areas": null,
       "grid_template_columns": null,
       "grid_template_rows": null,
       "height": null,
       "justify_content": null,
       "justify_items": null,
       "left": null,
       "margin": null,
       "max_height": null,
       "max_width": null,
       "min_height": null,
       "min_width": null,
       "object_fit": null,
       "object_position": null,
       "order": null,
       "overflow": null,
       "padding": null,
       "right": null,
       "top": null,
       "visibility": null,
       "width": null
      }
     },
     "3f7211b0d6dc42f6be767da22fc3d524": {
      "model_module": "@jupyter-widgets/base",
      "model_module_version": "2.0.0",
      "model_name": "LayoutModel",
      "state": {
       "_model_module": "@jupyter-widgets/base",
       "_model_module_version": "2.0.0",
       "_model_name": "LayoutModel",
       "_view_count": null,
       "_view_module": "@jupyter-widgets/base",
       "_view_module_version": "2.0.0",
       "_view_name": "LayoutView",
       "align_content": null,
       "align_items": null,
       "align_self": null,
       "border_bottom": null,
       "border_left": null,
       "border_right": null,
       "border_top": null,
       "bottom": null,
       "display": null,
       "flex": null,
       "flex_flow": null,
       "grid_area": null,
       "grid_auto_columns": null,
       "grid_auto_flow": null,
       "grid_auto_rows": null,
       "grid_column": null,
       "grid_gap": null,
       "grid_row": null,
       "grid_template_areas": null,
       "grid_template_columns": null,
       "grid_template_rows": null,
       "height": null,
       "justify_content": null,
       "justify_items": null,
       "left": null,
       "margin": null,
       "max_height": null,
       "max_width": null,
       "min_height": null,
       "min_width": null,
       "object_fit": null,
       "object_position": null,
       "order": null,
       "overflow": null,
       "padding": null,
       "right": null,
       "top": null,
       "visibility": null,
       "width": null
      }
     },
     "5972c36cd2e64a89b6f20ef856b2d514": {
      "model_module": "@jupyter-widgets/controls",
      "model_module_version": "2.0.0",
      "model_name": "FloatProgressModel",
      "state": {
       "_dom_classes": [],
       "_model_module": "@jupyter-widgets/controls",
       "_model_module_version": "2.0.0",
       "_model_name": "FloatProgressModel",
       "_view_count": null,
       "_view_module": "@jupyter-widgets/controls",
       "_view_module_version": "2.0.0",
       "_view_name": "ProgressView",
       "bar_style": "success",
       "description": "",
       "description_allow_html": false,
       "layout": "IPY_MODEL_71830d30ab454f38b9e79f0d854a44f9",
       "max": 4.0,
       "min": 0.0,
       "orientation": "horizontal",
       "style": "IPY_MODEL_7fa155b98c9b4cdc9ba253ab631f954a",
       "tabbable": null,
       "tooltip": null,
       "value": 4.0
      }
     },
     "71830d30ab454f38b9e79f0d854a44f9": {
      "model_module": "@jupyter-widgets/base",
      "model_module_version": "2.0.0",
      "model_name": "LayoutModel",
      "state": {
       "_model_module": "@jupyter-widgets/base",
       "_model_module_version": "2.0.0",
       "_model_name": "LayoutModel",
       "_view_count": null,
       "_view_module": "@jupyter-widgets/base",
       "_view_module_version": "2.0.0",
       "_view_name": "LayoutView",
       "align_content": null,
       "align_items": null,
       "align_self": null,
       "border_bottom": null,
       "border_left": null,
       "border_right": null,
       "border_top": null,
       "bottom": null,
       "display": null,
       "flex": null,
       "flex_flow": null,
       "grid_area": null,
       "grid_auto_columns": null,
       "grid_auto_flow": null,
       "grid_auto_rows": null,
       "grid_column": null,
       "grid_gap": null,
       "grid_row": null,
       "grid_template_areas": null,
       "grid_template_columns": null,
       "grid_template_rows": null,
       "height": null,
       "justify_content": null,
       "justify_items": null,
       "left": null,
       "margin": null,
       "max_height": null,
       "max_width": null,
       "min_height": null,
       "min_width": null,
       "object_fit": null,
       "object_position": null,
       "order": null,
       "overflow": null,
       "padding": null,
       "right": null,
       "top": null,
       "visibility": null,
       "width": null
      }
     },
     "7fa155b98c9b4cdc9ba253ab631f954a": {
      "model_module": "@jupyter-widgets/controls",
      "model_module_version": "2.0.0",
      "model_name": "ProgressStyleModel",
      "state": {
       "_model_module": "@jupyter-widgets/controls",
       "_model_module_version": "2.0.0",
       "_model_name": "ProgressStyleModel",
       "_view_count": null,
       "_view_module": "@jupyter-widgets/base",
       "_view_module_version": "2.0.0",
       "_view_name": "StyleView",
       "bar_color": null,
       "description_width": ""
      }
     },
     "9460615de3274425922d43f920b756df": {
      "model_module": "@jupyter-widgets/controls",
      "model_module_version": "2.0.0",
      "model_name": "HTMLModel",
      "state": {
       "_dom_classes": [],
       "_model_module": "@jupyter-widgets/controls",
       "_model_module_version": "2.0.0",
       "_model_name": "HTMLModel",
       "_view_count": null,
       "_view_module": "@jupyter-widgets/controls",
       "_view_module_version": "2.0.0",
       "_view_name": "HTMLView",
       "description": "",
       "description_allow_html": false,
       "layout": "IPY_MODEL_3f7211b0d6dc42f6be767da22fc3d524",
       "placeholder": "​",
       "style": "IPY_MODEL_f0b499adeee04bf2bc4324db00efc698",
       "tabbable": null,
       "tooltip": null,
       "value": "100%"
      }
     },
     "e3e41b71d9764309919f9b55dd4a046e": {
      "model_module": "@jupyter-widgets/base",
      "model_module_version": "2.0.0",
      "model_name": "LayoutModel",
      "state": {
       "_model_module": "@jupyter-widgets/base",
       "_model_module_version": "2.0.0",
       "_model_name": "LayoutModel",
       "_view_count": null,
       "_view_module": "@jupyter-widgets/base",
       "_view_module_version": "2.0.0",
       "_view_name": "LayoutView",
       "align_content": null,
       "align_items": null,
       "align_self": null,
       "border_bottom": null,
       "border_left": null,
       "border_right": null,
       "border_top": null,
       "bottom": null,
       "display": null,
       "flex": null,
       "flex_flow": null,
       "grid_area": null,
       "grid_auto_columns": null,
       "grid_auto_flow": null,
       "grid_auto_rows": null,
       "grid_column": null,
       "grid_gap": null,
       "grid_row": null,
       "grid_template_areas": null,
       "grid_template_columns": null,
       "grid_template_rows": null,
       "height": null,
       "justify_content": null,
       "justify_items": null,
       "left": null,
       "margin": null,
       "max_height": null,
       "max_width": null,
       "min_height": null,
       "min_width": null,
       "object_fit": null,
       "object_position": null,
       "order": null,
       "overflow": null,
       "padding": null,
       "right": null,
       "top": null,
       "visibility": null,
       "width": null
      }
     },
     "e5c8ec9cba264f68b56048b165c6b217": {
      "model_module": "@jupyter-widgets/controls",
      "model_module_version": "2.0.0",
      "model_name": "HTMLStyleModel",
      "state": {
       "_model_module": "@jupyter-widgets/controls",
       "_model_module_version": "2.0.0",
       "_model_name": "HTMLStyleModel",
       "_view_count": null,
       "_view_module": "@jupyter-widgets/base",
       "_view_module_version": "2.0.0",
       "_view_name": "StyleView",
       "background": null,
       "description_width": "",
       "font_size": null,
       "text_color": null
      }
     },
     "f0b499adeee04bf2bc4324db00efc698": {
      "model_module": "@jupyter-widgets/controls",
      "model_module_version": "2.0.0",
      "model_name": "HTMLStyleModel",
      "state": {
       "_model_module": "@jupyter-widgets/controls",
       "_model_module_version": "2.0.0",
       "_model_name": "HTMLStyleModel",
       "_view_count": null,
       "_view_module": "@jupyter-widgets/base",
       "_view_module_version": "2.0.0",
       "_view_name": "StyleView",
       "background": null,
       "description_width": "",
       "font_size": null,
       "text_color": null
      }
     }
    },
    "version_major": 2,
    "version_minor": 0
   }
  }
 },
 "nbformat": 4,
 "nbformat_minor": 5
}