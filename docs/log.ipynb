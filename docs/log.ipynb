{
 "cells": [
  {
   "cell_type": "markdown",
   "id": "92bcb855",
   "metadata": {
    "papermill": {
     "duration": 0.006012,
     "end_time": "2022-12-05T04:10:22.963880",
     "exception": false,
     "start_time": "2022-12-05T04:10:22.957868",
     "status": "completed"
    },
    "tags": []
   },
   "source": [
    "# MPIA Arxiv on Deck 2\n",
    "\n",
    "Contains the steps to produce the paper extractions."
   ]
  },
  {
   "cell_type": "code",
   "execution_count": 1,
   "id": "3a0d6e11",
   "metadata": {
    "execution": {
     "iopub.execute_input": "2022-12-05T04:10:22.974315Z",
     "iopub.status.busy": "2022-12-05T04:10:22.973632Z",
     "iopub.status.idle": "2022-12-05T04:10:23.145892Z",
     "shell.execute_reply": "2022-12-05T04:10:23.145098Z"
    },
    "papermill": {
     "duration": 0.179831,
     "end_time": "2022-12-05T04:10:23.148038",
     "exception": false,
     "start_time": "2022-12-05T04:10:22.968207",
     "status": "completed"
    },
    "tags": []
   },
   "outputs": [],
   "source": [
    "# Imports\n",
    "import os\n",
    "from IPython.display import Markdown, display\n",
    "from tqdm.notebook import tqdm\n",
    "import warnings\n",
    "from PIL import Image \n",
    "\n",
    "# requires arxiv_on_deck_2\n",
    "\n",
    "from arxiv_on_deck_2.arxiv2 import (get_new_papers, \n",
    "                                    get_paper_from_identifier,\n",
    "                                    retrieve_document_source, \n",
    "                                    get_markdown_badge)\n",
    "from arxiv_on_deck_2 import (latex, \n",
    "                             mpia,\n",
    "                             highlight_authors_in_list)\n",
    "\n",
    "# Sometimes images are really big\n",
    "Image.MAX_IMAGE_PIXELS = 1000000000 "
   ]
  },
  {
   "cell_type": "code",
   "execution_count": 2,
   "id": "22aa9d44",
   "metadata": {
    "execution": {
     "iopub.execute_input": "2022-12-05T04:10:23.160042Z",
     "iopub.status.busy": "2022-12-05T04:10:23.159329Z",
     "iopub.status.idle": "2022-12-05T04:10:23.164706Z",
     "shell.execute_reply": "2022-12-05T04:10:23.164010Z"
    },
    "papermill": {
     "duration": 0.014004,
     "end_time": "2022-12-05T04:10:23.166311",
     "exception": false,
     "start_time": "2022-12-05T04:10:23.152307",
     "status": "completed"
    },
    "tags": []
   },
   "outputs": [],
   "source": [
    "# Some useful definitions.\n",
    "\n",
    "class AffiliationWarning(UserWarning):\n",
    "    pass\n",
    "\n",
    "class AffiliationError(RuntimeError):\n",
    "    pass\n",
    "\n",
    "def validation(source: str):\n",
    "    \"\"\"Raises error paper during parsing of source file\n",
    "    \n",
    "    Allows checks before parsing TeX code.\n",
    "    \n",
    "    Raises AffiliationWarning\n",
    "    \"\"\"\n",
    "    check = mpia.affiliation_verifications(source, verbose=True)\n",
    "    if check is not True:\n",
    "        raise AffiliationError(\"mpia.affiliation_verifications: \" + check)\n",
    "\n",
    "        \n",
    "warnings.simplefilter('always', AffiliationWarning)"
   ]
  },
  {
   "cell_type": "code",
   "execution_count": 3,
   "id": "14622700",
   "metadata": {
    "execution": {
     "iopub.execute_input": "2022-12-05T04:10:23.175717Z",
     "iopub.status.busy": "2022-12-05T04:10:23.175110Z",
     "iopub.status.idle": "2022-12-05T04:10:23.179290Z",
     "shell.execute_reply": "2022-12-05T04:10:23.178649Z"
    },
    "papermill": {
     "duration": 0.010768,
     "end_time": "2022-12-05T04:10:23.180934",
     "exception": false,
     "start_time": "2022-12-05T04:10:23.170166",
     "status": "completed"
    },
    "tags": []
   },
   "outputs": [],
   "source": [
    "# additional CSS to consider. \n",
    "# TODO: Current into each exported file. \n",
    "#       This should be set once into the webpages directly.\n",
    "#       With only the class/id definitions in the .md files.\n",
    "\n",
    "debug_html = \"\"\"\n",
    "<style>\n",
    "#wrap{ overflow:auto; }\n",
    "#fig1{ background:yellow; width:100%; float:left; padding:5px;  }\n",
    "#fig2{ background:red; width:50%; float:left; clear:left; padding:5px;  }\n",
    "#fig3{ background:green; width:50%; float:left; padding:5px;   }\n",
    ".macros{ background:yellow; visibility:visible;}\n",
    "h1 {margin: 0 0 0 0;}\n",
    "mark {background-color:#fff3b6;}\n",
    "img {object-fit:contain; max-height:250px; display:inline-block; text-align: center;}\n",
    "</style>\n",
    "\"\"\" \n",
    "html = \"\"\"\n",
    "<style>\n",
    "#wrap{ overflow:auto; }\n",
    "#fig1{ width:100%; float:left; padding: 5px;  }\n",
    "#fig2{ width:50%; float:left; clear:left; padding: 5px;  }\n",
    "#fig3{ width:50%; float:left; padding: 5px;  }\n",
    ".macros{ visibility:hidden; height:0px; }\n",
    "h1 {margin: 0em 0 0 0;}\n",
    "mark {background-color:#fff3b6;}\n",
    "img {object-fit:contain; max-height:250px; display:inline-block; text-align: center;}\n",
    "</style>\n",
    "\"\"\""
   ]
  },
  {
   "cell_type": "markdown",
   "id": "14bd6310",
   "metadata": {
    "papermill": {
     "duration": 0.003959,
     "end_time": "2022-12-05T04:10:23.189009",
     "exception": false,
     "start_time": "2022-12-05T04:10:23.185050",
     "status": "completed"
    },
    "tags": []
   },
   "source": [
    "## get list of arxiv paper candidates\n",
    "\n",
    "We use the MPIA mitarbeiter list webpage from mpia.de to get author names\n",
    "We then get all new papers from Arxiv and match authors"
   ]
  },
  {
   "cell_type": "code",
   "execution_count": 4,
   "id": "2645e73a",
   "metadata": {
    "execution": {
     "iopub.execute_input": "2022-12-05T04:10:23.198425Z",
     "iopub.status.busy": "2022-12-05T04:10:23.197943Z",
     "iopub.status.idle": "2022-12-05T04:10:46.763618Z",
     "shell.execute_reply": "2022-12-05T04:10:46.762950Z"
    },
    "papermill": {
     "duration": 23.572483,
     "end_time": "2022-12-05T04:10:46.765494",
     "exception": false,
     "start_time": "2022-12-05T04:10:23.193011",
     "status": "completed"
    },
    "tags": []
   },
   "outputs": [
    {
     "name": "stdout",
     "output_type": "stream",
     "text": [
      "Arxiv has 51 new papers today\n",
      "          23 with possible author matches\n"
     ]
    }
   ],
   "source": [
    "# get list from MPIA website\n",
    "# it automatically filters identified non-scientists :func:`mpia.filter_non_scientists`\n",
    "mpia_authors = mpia.get_mpia_mitarbeiter_list()\n",
    "new_papers = get_new_papers()\n",
    "# add manual references\n",
    "add_paper_refs = []\n",
    "new_papers.extend([get_paper_from_identifier(k) for k in add_paper_refs])\n",
    "\n",
    "# select only papers with matching author names and highlight authors\n",
    "hl_list = [k[0] for k in mpia_authors]\n",
    "\n",
    "candidates = []\n",
    "for paperk in new_papers:\n",
    "    hl_authors = highlight_authors_in_list(paperk['authors'], hl_list)\n",
    "    matches = [(hl, orig) for hl, orig in zip(hl_authors, paperk['authors']) if 'mark' in hl]\n",
    "    paperk['authors'] = hl_authors\n",
    "    if matches:\n",
    "        candidates.append(paperk)\n",
    "print(\"\"\"Arxiv has {0:,d} new papers today\"\"\".format(len(new_papers)))        \n",
    "print(\"\"\"          {0:,d} with possible author matches\"\"\".format(len(candidates)))"
   ]
  },
  {
   "cell_type": "markdown",
   "id": "3543b34a",
   "metadata": {
    "papermill": {
     "duration": 0.004261,
     "end_time": "2022-12-05T04:10:46.774191",
     "exception": false,
     "start_time": "2022-12-05T04:10:46.769930",
     "status": "completed"
    },
    "tags": []
   },
   "source": [
    "# Parse sources and generate relevant outputs\n",
    "\n",
    "From the candidates, we do the following steps:\n",
    "* get their tarball from ArXiv (and extract data)\n",
    "* find the main .tex file: find one with \\documentclass{...} (sometimes it's non trivial)\n",
    "* Check affiliations with :func:`validation`, which uses :func:`mpia.affiliation_verifications`\n",
    "* If passing the affiliations: we parse the .tex source\n",
    "   * inject sub-documents into the main (flatten the main document)\n",
    "   * parse structure, extract information (title, abstract, authors, figures...)\n",
    "   * handles `\\graphicspath` if provided\n",
    "* Generate the .md document."
   ]
  },
  {
   "cell_type": "code",
   "execution_count": 5,
   "id": "9576b79e",
   "metadata": {
    "execution": {
     "iopub.execute_input": "2022-12-05T04:10:46.783753Z",
     "iopub.status.busy": "2022-12-05T04:10:46.783209Z",
     "iopub.status.idle": "2022-12-05T04:13:37.790346Z",
     "shell.execute_reply": "2022-12-05T04:13:37.789548Z"
    },
    "papermill": {
     "duration": 171.014108,
     "end_time": "2022-12-05T04:13:37.792261",
     "exception": false,
     "start_time": "2022-12-05T04:10:46.778153",
     "status": "completed"
    },
    "scrolled": false,
    "tags": []
   },
   "outputs": [
    {
     "data": {
      "application/vnd.jupyter.widget-view+json": {
       "model_id": "a7845dd2defc44bd8dd7c078ec96d223",
       "version_major": 2,
       "version_minor": 0
      },
      "text/plain": [
       "  0%|          | 0/22 [00:00<?, ?it/s]"
      ]
     },
     "metadata": {},
     "output_type": "display_data"
    },
    {
     "name": "stdout",
     "output_type": "stream",
     "text": [
      "Retrieving document from  https://arxiv.org/e-print/2212.00806\n"
     ]
    },
    {
     "name": "stdout",
     "output_type": "stream",
     "text": [
      "extracting tarball to tmp_2212.00806..."
     ]
    },
    {
     "name": "stdout",
     "output_type": "stream",
     "text": [
      " done.\n"
     ]
    },
    {
     "name": "stderr",
     "output_type": "stream",
     "text": [
      "/opt/hostedtoolcache/Python/3.9.15/x64/lib/python3.9/site-packages/IPython/core/interactiveshell.py:3433: LatexWarning: Multiple tex files.\n",
      "\n",
      "  exec(code_obj, self.user_global_ns, self.user_ns)\n",
      "/opt/hostedtoolcache/Python/3.9.15/x64/lib/python3.9/site-packages/IPython/core/interactiveshell.py:3433: LatexWarning: Found documentclass in tmp_2212.00806/ms.tex\n",
      "\n",
      "  exec(code_obj, self.user_global_ns, self.user_ns)\n"
     ]
    },
    {
     "name": "stderr",
     "output_type": "stream",
     "text": [
      "/opt/hostedtoolcache/Python/3.9.15/x64/lib/python3.9/site-packages/arxiv_on_deck_2/latex.py:366: LatexWarning: Error parsing the document directly. Trying to recover.\n",
      "  warnings.warn(LatexWarning(f\"Error parsing the document directly. Trying to recover.\"))\n"
     ]
    },
    {
     "name": "stdout",
     "output_type": "stream",
     "text": [
      "✔ → 0:header\n",
      "  ↳ 4468:\\section{Introduction} \\label{sec:intro}\n"
     ]
    },
    {
     "name": "stdout",
     "output_type": "stream",
     "text": [
      "✔ → 4468:\\section{Introduction} \\label{sec:intro}\n",
      "  ↳ 11235:\\section{Data and Analysis}\\label{sec:data}\n"
     ]
    },
    {
     "name": "stdout",
     "output_type": "stream",
     "text": [
      "✘ → 11235:\\section{Data and Analysis}\\label{sec:data}\n",
      "  ↳ 22915:\\section{Apocenter Pileup: Echoes in the Galactic North and South}\\label{sec:analysis:ovo}\n"
     ]
    },
    {
     "name": "stdout",
     "output_type": "stream",
     "text": [
      "✔ → 22915:\\section{Apocenter Pileup: Echoes in the Galactic North and South}\\label{sec:analysis:ovo}\n",
      "  ↳ 40149:\\section{Distant Streams of GSE}\\label{sec:analysis:allsky}\n"
     ]
    },
    {
     "name": "stdout",
     "output_type": "stream",
     "text": [
      "✔ → 40149:\\section{Distant Streams of GSE}\\label{sec:analysis:allsky}\n",
      "  ↳ 52580:\\section{Discussion}\\label{sec:discussion}\n"
     ]
    },
    {
     "name": "stdout",
     "output_type": "stream",
     "text": [
      "✔ → 52580:\\section{Discussion}\\label{sec:discussion}\n",
      "  ↳ 66382:end\n"
     ]
    },
    {
     "name": "stdout",
     "output_type": "stream",
     "text": [
      "Retrieving document from  https://arxiv.org/e-print/2212.00810\n"
     ]
    },
    {
     "name": "stdout",
     "output_type": "stream",
     "text": [
      "extracting tarball to tmp_2212.00810..."
     ]
    },
    {
     "name": "stdout",
     "output_type": "stream",
     "text": [
      " done.\n",
      "Retrieving document from  https://arxiv.org/e-print/2212.00811\n"
     ]
    },
    {
     "name": "stderr",
     "output_type": "stream",
     "text": [
      "/opt/hostedtoolcache/Python/3.9.15/x64/lib/python3.9/site-packages/IPython/core/interactiveshell.py:3433: LatexWarning: Multiple tex files.\n",
      "\n",
      "  exec(code_obj, self.user_global_ns, self.user_ns)\n",
      "/opt/hostedtoolcache/Python/3.9.15/x64/lib/python3.9/site-packages/IPython/core/interactiveshell.py:3433: LatexWarning: Found documentclass in tmp_2212.00810/ret2_sfh_v8.tex\n",
      "\n",
      "  exec(code_obj, self.user_global_ns, self.user_ns)\n",
      "/opt/hostedtoolcache/Python/3.9.15/x64/lib/python3.9/site-packages/arxiv_on_deck_2/latex.py:292: LatexWarning: Latex injecting: 'ret2_photom_table_stub.tex' from 'tmp_2212.00810/ret2_photom_table_stub.tex'\n",
      "  warnings.warn(LatexWarning(f\"Latex injecting: '{ext}' from '{subsource}'\"))\n",
      "/opt/hostedtoolcache/Python/3.9.15/x64/lib/python3.9/site-packages/arxiv_on_deck_2/latex.py:292: LatexWarning: Latex injecting: 'authors.tex' from 'tmp_2212.00810/authors.tex'\n",
      "  warnings.warn(LatexWarning(f\"Latex injecting: '{ext}' from '{subsource}'\"))\n",
      "/opt/hostedtoolcache/Python/3.9.15/x64/lib/python3.9/site-packages/arxiv_on_deck_2/latex.py:292: LatexWarning: Latex injecting: 'commands' from 'tmp_2212.00810/commands.tex'\n",
      "  warnings.warn(LatexWarning(f\"Latex injecting: '{ext}' from '{subsource}'\"))\n"
     ]
    },
    {
     "name": "stdout",
     "output_type": "stream",
     "text": [
      "extracting tarball to tmp_2212.00811..."
     ]
    },
    {
     "name": "stdout",
     "output_type": "stream",
     "text": [
      " done.\n"
     ]
    },
    {
     "name": "stdout",
     "output_type": "stream",
     "text": [
      "Retrieving document from  https://arxiv.org/e-print/2212.00812\n"
     ]
    },
    {
     "name": "stdout",
     "output_type": "stream",
     "text": [
      "extracting tarball to tmp_2212.00812..."
     ]
    },
    {
     "name": "stdout",
     "output_type": "stream",
     "text": [
      " done.\n"
     ]
    },
    {
     "name": "stderr",
     "output_type": "stream",
     "text": [
      "/opt/hostedtoolcache/Python/3.9.15/x64/lib/python3.9/site-packages/IPython/core/interactiveshell.py:3433: LatexWarning: Multiple tex files.\n",
      "\n",
      "  exec(code_obj, self.user_global_ns, self.user_ns)\n",
      "/opt/hostedtoolcache/Python/3.9.15/x64/lib/python3.9/site-packages/IPython/core/interactiveshell.py:3433: LatexWarning: Found documentclass in tmp_2212.00812/main.tex\n",
      "\n",
      "  exec(code_obj, self.user_global_ns, self.user_ns)\n"
     ]
    },
    {
     "name": "stdout",
     "output_type": "stream",
     "text": [
      "Retrieving document from  https://arxiv.org/e-print/2212.00815\n"
     ]
    },
    {
     "name": "stdout",
     "output_type": "stream",
     "text": [
      "extracting tarball to tmp_2212.00815..."
     ]
    },
    {
     "name": "stdout",
     "output_type": "stream",
     "text": [
      " done.\n"
     ]
    },
    {
     "name": "stderr",
     "output_type": "stream",
     "text": [
      "/opt/hostedtoolcache/Python/3.9.15/x64/lib/python3.9/site-packages/IPython/core/interactiveshell.py:3433: LatexWarning: Multiple tex files.\n",
      "\n",
      "  exec(code_obj, self.user_global_ns, self.user_ns)\n",
      "/opt/hostedtoolcache/Python/3.9.15/x64/lib/python3.9/site-packages/IPython/core/interactiveshell.py:3433: LatexWarning: Found documentclass in tmp_2212.00815/main.tex\n",
      "\n",
      "  exec(code_obj, self.user_global_ns, self.user_ns)\n",
      "/opt/hostedtoolcache/Python/3.9.15/x64/lib/python3.9/site-packages/arxiv_on_deck_2/latex.py:292: LatexWarning: Latex injecting: 'supplemental' from 'tmp_2212.00815/supplemental.tex'\n",
      "  warnings.warn(LatexWarning(f\"Latex injecting: '{ext}' from '{subsource}'\"))\n",
      "/opt/hostedtoolcache/Python/3.9.15/x64/lib/python3.9/site-packages/arxiv_on_deck_2/latex.py:292: LatexWarning: Latex injecting: 'supplemental' from 'tmp_2212.00815/Sun Gamma HAWC/supplemental.tex'\n",
      "  warnings.warn(LatexWarning(f\"Latex injecting: '{ext}' from '{subsource}'\"))\n",
      "/opt/hostedtoolcache/Python/3.9.15/x64/lib/python3.9/site-packages/arxiv_on_deck_2/latex.py:292: LatexWarning: Latex injecting: 'guest_author.tex' from 'tmp_2212.00815/guest_author.tex'\n",
      "  warnings.warn(LatexWarning(f\"Latex injecting: '{ext}' from '{subsource}'\"))\n",
      "/opt/hostedtoolcache/Python/3.9.15/x64/lib/python3.9/site-packages/arxiv_on_deck_2/latex.py:292: LatexWarning: Latex injecting: 'guest_author.tex' from 'tmp_2212.00815/Sun Gamma HAWC/guest_author.tex'\n",
      "  warnings.warn(LatexWarning(f\"Latex injecting: '{ext}' from '{subsource}'\"))\n",
      "/opt/hostedtoolcache/Python/3.9.15/x64/lib/python3.9/site-packages/arxiv_on_deck_2/latex.py:292: LatexWarning: Latex injecting: 'authorlist.tex' from 'tmp_2212.00815/authorlist.tex'\n",
      "  warnings.warn(LatexWarning(f\"Latex injecting: '{ext}' from '{subsource}'\"))\n",
      "/opt/hostedtoolcache/Python/3.9.15/x64/lib/python3.9/site-packages/arxiv_on_deck_2/latex.py:292: LatexWarning: Latex injecting: 'authorlist.tex' from 'tmp_2212.00815/Sun Gamma HAWC/authorlist.tex'\n",
      "  warnings.warn(LatexWarning(f\"Latex injecting: '{ext}' from '{subsource}'\"))\n"
     ]
    },
    {
     "name": "stderr",
     "output_type": "stream",
     "text": [
      "/opt/hostedtoolcache/Python/3.9.15/x64/lib/python3.9/site-packages/arxiv_on_deck_2/latex.py:366: LatexWarning: Error parsing the document directly. Trying to recover.\n",
      "  warnings.warn(LatexWarning(f\"Error parsing the document directly. Trying to recover.\"))\n"
     ]
    },
    {
     "name": "stdout",
     "output_type": "stream",
     "text": [
      "✘ → 0:header\n",
      "  ↳ 46631:\\section{HAWC Sensitivity\\label{app:hawc}}\n",
      "✔ → 46631:\\section{HAWC Sensitivity\\label{app:hawc}}\n",
      "  ↳ 48669:\\section{Shadow Subtraction\\label{app:shadow}}\n",
      "✔ → 48669:\\section{Shadow Subtraction\\label{app:shadow}}\n",
      "  ↳ 50298:\\section{Cross-checks on Off-Sun regions\\label{app:offsun}}\n"
     ]
    },
    {
     "name": "stdout",
     "output_type": "stream",
     "text": [
      "✔ → 50298:\\section{Cross-checks on Off-Sun regions\\label{app:offsun}}\n",
      "  ↳ 52867:\\section{Cross-checks on the Moon\\label{app:moon}}\n",
      "✔ → 52867:\\section{Cross-checks on the Moon\\label{app:moon}}\n",
      "  ↳ 55074:\\section{Cut-and-count method\\label{app:counts}}\n"
     ]
    },
    {
     "name": "stdout",
     "output_type": "stream",
     "text": [
      "✔ → 55074:\\section{Cut-and-count method\\label{app:counts}}\n",
      "  ↳ 57450:\\section{Maps of Additional Bins and Highest Energy Estimate \\label{app:bins}}\n"
     ]
    },
    {
     "name": "stdout",
     "output_type": "stream",
     "text": [
      "✔ → 57450:\\section{Maps of Additional Bins and Highest Energy Estimate \\label{app:bins}}\n",
      "  ↳ 59882:\\section{HAWC Sensitivity\\label{app:hawc}}\n",
      "✔ → 59882:\\section{HAWC Sensitivity\\label{app:hawc}}\n",
      "  ↳ 61920:\\section{Shadow Subtraction\\label{app:shadow}}\n",
      "✔ → 61920:\\section{Shadow Subtraction\\label{app:shadow}}\n",
      "  ↳ 63549:\\section{Cross-checks on Off-Sun regions\\label{app:offsun}}\n"
     ]
    },
    {
     "name": "stdout",
     "output_type": "stream",
     "text": [
      "✔ → 63549:\\section{Cross-checks on Off-Sun regions\\label{app:offsun}}\n",
      "  ↳ 66118:\\section{Cross-checks on the Moon\\label{app:moon}}\n",
      "✔ → 66118:\\section{Cross-checks on the Moon\\label{app:moon}}\n",
      "  ↳ 68325:\\section{Cut-and-count method\\label{app:counts}}\n"
     ]
    },
    {
     "name": "stdout",
     "output_type": "stream",
     "text": [
      "✔ → 68325:\\section{Cut-and-count method\\label{app:counts}}\n",
      "  ↳ 70701:\\section{Maps of Additional Bins and Highest Energy Estimate \\label{app:bins}}\n",
      "✔ → 70701:\\section{Maps of Additional Bins and Highest Energy Estimate \\label{app:bins}}\n",
      "  ↳ 71874:end\n",
      "Retrieving document from  https://arxiv.org/e-print/2212.00853\n"
     ]
    },
    {
     "name": "stderr",
     "output_type": "stream",
     "text": [
      "/tmp/ipykernel_2148/4030337529.py:34: LatexWarning: 2212.00815 did not run properly\n",
      "list index out of range\n",
      "  warnings.warn(latex.LatexWarning(f\"{paper_id:s} did not run properly\\n\" +\n"
     ]
    },
    {
     "name": "stdout",
     "output_type": "stream",
     "text": [
      "extracting tarball to tmp_2212.00853..."
     ]
    },
    {
     "name": "stdout",
     "output_type": "stream",
     "text": [
      " done.\n",
      "Retrieving document from  https://arxiv.org/e-print/2212.00948\n"
     ]
    },
    {
     "name": "stdout",
     "output_type": "stream",
     "text": [
      "extracting tarball to tmp_2212.00948..."
     ]
    },
    {
     "name": "stdout",
     "output_type": "stream",
     "text": [
      " done.\n",
      "Retrieving document from  https://arxiv.org/e-print/2212.00954\n"
     ]
    },
    {
     "name": "stdout",
     "output_type": "stream",
     "text": [
      "extracting tarball to tmp_2212.00954..."
     ]
    },
    {
     "name": "stdout",
     "output_type": "stream",
     "text": [
      " done.\n",
      "Retrieving document from  https://arxiv.org/e-print/2212.01000\n"
     ]
    },
    {
     "name": "stdout",
     "output_type": "stream",
     "text": [
      "extracting tarball to tmp_2212.01000..."
     ]
    },
    {
     "name": "stdout",
     "output_type": "stream",
     "text": [
      " done.\n",
      "Retrieving document from  https://arxiv.org/e-print/2212.01003\n"
     ]
    },
    {
     "name": "stdout",
     "output_type": "stream",
     "text": [
      "extracting tarball to tmp_2212.01003... done.\n",
      "Retrieving document from  https://arxiv.org/e-print/2212.01088\n"
     ]
    },
    {
     "name": "stdout",
     "output_type": "stream",
     "text": [
      "extracting tarball to tmp_2212.01088... done.\n",
      "Retrieving document from  https://arxiv.org/e-print/2212.01104\n"
     ]
    },
    {
     "name": "stdout",
     "output_type": "stream",
     "text": [
      "extracting tarball to tmp_2212.01104... done.\n",
      "Retrieving document from  https://arxiv.org/e-print/2212.01126\n"
     ]
    },
    {
     "name": "stdout",
     "output_type": "stream",
     "text": [
      "extracting tarball to tmp_2212.01126..."
     ]
    },
    {
     "name": "stdout",
     "output_type": "stream",
     "text": [
      " done.\n",
      "Retrieving document from  https://arxiv.org/e-print/2212.01158\n"
     ]
    },
    {
     "name": "stdout",
     "output_type": "stream",
     "text": [
      "extracting tarball to tmp_2212.01158..."
     ]
    },
    {
     "name": "stdout",
     "output_type": "stream",
     "text": [
      " done.\n",
      "Retrieving document from  https://arxiv.org/e-print/2212.01239\n"
     ]
    },
    {
     "name": "stdout",
     "output_type": "stream",
     "text": [
      "extracting tarball to tmp_2212.01239..."
     ]
    },
    {
     "name": "stdout",
     "output_type": "stream",
     "text": [
      " done.\n",
      "Retrieving document from  https://arxiv.org/e-print/2212.01258\n"
     ]
    },
    {
     "name": "stdout",
     "output_type": "stream",
     "text": [
      "extracting tarball to tmp_2212.01258..."
     ]
    },
    {
     "name": "stdout",
     "output_type": "stream",
     "text": [
      " done.\n",
      "Retrieving document from  https://arxiv.org/e-print/2212.01281\n"
     ]
    },
    {
     "name": "stdout",
     "output_type": "stream",
     "text": [
      "extracting tarball to tmp_2212.01281..."
     ]
    },
    {
     "name": "stdout",
     "output_type": "stream",
     "text": [
      " done.\n"
     ]
    },
    {
     "name": "stderr",
     "output_type": "stream",
     "text": [
      "/opt/hostedtoolcache/Python/3.9.15/x64/lib/python3.9/site-packages/arxiv_on_deck_2/latex.py:118: LatexWarning: attempting recovering figure pictures/sampling\n",
      "  warnings.warn(LatexWarning(f'attempting recovering figure {image}'))\n",
      "/opt/hostedtoolcache/Python/3.9.15/x64/lib/python3.9/site-packages/arxiv_on_deck_2/latex.py:118: LatexWarning: attempting recovering figure pictures/uniform_medium_1\n",
      "  warnings.warn(LatexWarning(f'attempting recovering figure {image}'))\n",
      "/opt/hostedtoolcache/Python/3.9.15/x64/lib/python3.9/site-packages/arxiv_on_deck_2/latex.py:118: LatexWarning: attempting recovering figure pictures/homo_10\n",
      "  warnings.warn(LatexWarning(f'attempting recovering figure {image}'))\n",
      "/opt/hostedtoolcache/Python/3.9.15/x64/lib/python3.9/site-packages/arxiv_on_deck_2/latex.py:118: LatexWarning: attempting recovering figure pictures/homo_100\n",
      "  warnings.warn(LatexWarning(f'attempting recovering figure {image}'))\n",
      "/opt/hostedtoolcache/Python/3.9.15/x64/lib/python3.9/site-packages/arxiv_on_deck_2/latex.py:118: LatexWarning: attempting recovering figure pictures/no_losses\n",
      "  warnings.warn(LatexWarning(f'attempting recovering figure {image}'))\n",
      "/opt/hostedtoolcache/Python/3.9.15/x64/lib/python3.9/site-packages/arxiv_on_deck_2/latex.py:118: LatexWarning: attempting recovering figure pictures/trapping_100\n",
      "  warnings.warn(LatexWarning(f'attempting recovering figure {image}'))\n",
      "/opt/hostedtoolcache/Python/3.9.15/x64/lib/python3.9/site-packages/arxiv_on_deck_2/latex.py:118: LatexWarning: attempting recovering figure pictures/trapping_10\n",
      "  warnings.warn(LatexWarning(f'attempting recovering figure {image}'))\n",
      "/opt/hostedtoolcache/Python/3.9.15/x64/lib/python3.9/site-packages/arxiv_on_deck_2/latex.py:118: LatexWarning: attempting recovering figure pictures/dark\n",
      "  warnings.warn(LatexWarning(f'attempting recovering figure {image}'))\n",
      "/opt/hostedtoolcache/Python/3.9.15/x64/lib/python3.9/site-packages/arxiv_on_deck_2/latex.py:118: LatexWarning: attempting recovering figure pictures/Figure_1\n",
      "  warnings.warn(LatexWarning(f'attempting recovering figure {image}'))\n",
      "/opt/hostedtoolcache/Python/3.9.15/x64/lib/python3.9/site-packages/arxiv_on_deck_2/latex.py:118: LatexWarning: attempting recovering figure pictures/morlino\n",
      "  warnings.warn(LatexWarning(f'attempting recovering figure {image}'))\n"
     ]
    },
    {
     "name": "stdout",
     "output_type": "stream",
     "text": [
      "Retrieving document from  https://arxiv.org/e-print/2212.01291\n"
     ]
    },
    {
     "name": "stdout",
     "output_type": "stream",
     "text": [
      "extracting tarball to tmp_2212.01291..."
     ]
    },
    {
     "name": "stdout",
     "output_type": "stream",
     "text": [
      " done.\n"
     ]
    },
    {
     "name": "stderr",
     "output_type": "stream",
     "text": [
      "/opt/hostedtoolcache/Python/3.9.15/x64/lib/python3.9/site-packages/arxiv_on_deck_2/latex.py:366: LatexWarning: Error parsing the document directly. Trying to recover.\n",
      "  warnings.warn(LatexWarning(f\"Error parsing the document directly. Trying to recover.\"))\n"
     ]
    },
    {
     "name": "stdout",
     "output_type": "stream",
     "text": [
      "✔ → 0:header\n",
      "  ↳ 3357:\\section{Introduction}\n",
      "✔ → 3357:\\section{Introduction}\n",
      "  ↳ 9843:\\section{Disk model}\n"
     ]
    },
    {
     "name": "stdout",
     "output_type": "stream",
     "text": [
      "✔ → 9843:\\section{Disk model}\n",
      "  ↳ 25057:\\section{Observations}\n"
     ]
    },
    {
     "name": "stdout",
     "output_type": "stream",
     "text": [
      "✘ → 25057:\\section{Observations}\n",
      "  ↳ 37512:\\section{Inferred disk model parameters}\n"
     ]
    },
    {
     "name": "stdout",
     "output_type": "stream",
     "text": [
      "✘ → 37512:\\section{Inferred disk model parameters}\n",
      "  ↳ 62794:\\section{Conclusions}\n",
      "✔ → 62794:\\section{Conclusions}\n",
      "  ↳ 66342:\\begin{appendix}\n",
      "✔ → 66342:\\begin{appendix}\n",
      "  ↳ 66363:\\section{Fitting the outer disk}\n"
     ]
    },
    {
     "name": "stdout",
     "output_type": "stream",
     "text": [
      "✔ → 66363:\\section{Fitting the outer disk}\n",
      "  ↳ 72236:end\n"
     ]
    },
    {
     "name": "stdout",
     "output_type": "stream",
     "text": [
      "Retrieving document from  https://arxiv.org/e-print/2212.01293\n"
     ]
    },
    {
     "name": "stdout",
     "output_type": "stream",
     "text": [
      "extracting tarball to tmp_2212.01293... done.\n",
      "Retrieving document from  https://arxiv.org/e-print/2212.01333\n"
     ]
    },
    {
     "name": "stdout",
     "output_type": "stream",
     "text": [
      "extracting tarball to tmp_2212.01333... done.\n",
      "Retrieving document from  https://arxiv.org/e-print/2212.01352\n"
     ]
    },
    {
     "name": "stdout",
     "output_type": "stream",
     "text": [
      "extracting tarball to tmp_2212.01352..."
     ]
    },
    {
     "name": "stdout",
     "output_type": "stream",
     "text": [
      " done.\n",
      "Retrieving document from  https://arxiv.org/e-print/2212.01369\n"
     ]
    },
    {
     "name": "stdout",
     "output_type": "stream",
     "text": [
      "extracting tarball to tmp_2212.01369... done.\n"
     ]
    }
   ],
   "source": [
    "documents = []\n",
    "failed = []\n",
    "for paper in tqdm(candidates[:-1]):\n",
    "    paper_id = paper['identifier'].lower().replace('arxiv:', '')\n",
    "    \n",
    "    folder = f'tmp_{paper_id}'\n",
    "\n",
    "    try:\n",
    "        if not os.path.isdir(folder):\n",
    "            folder = retrieve_document_source(f\"{paper_id}\", f'tmp_{paper_id}')\n",
    "        \n",
    "        try:\n",
    "            doc = latex.LatexDocument(folder, validation=validation)    \n",
    "        except AffiliationError as affilerror:\n",
    "            msg = f\"ArXiv:{paper_id:s} is not an MPIA paper... \" + str(affilerror)\n",
    "            failed.append((paper, \"affiliation error: \" + str(affilerror) ))\n",
    "            continue\n",
    "        \n",
    "        # Hack because sometimes author parsing does not work well\n",
    "        if (len(doc.authors) != len(paper['authors'])):\n",
    "            doc._authors = paper['authors']\n",
    "        if (doc.abstract) in (None, ''):\n",
    "            doc._abstract = paper['abstract']\n",
    "            \n",
    "        doc.comment = (get_markdown_badge(paper_id) + \n",
    "                       \"<mark>Appeared on: \" + paper['date'] + \"</mark> - \" +\n",
    "                       \"_\" + paper['comments'] + \"_\")\n",
    "        doc.highlight_authors_in_list(hl_list)\n",
    "\n",
    "        full_md = doc.generate_markdown_text()\n",
    "        \n",
    "        documents.append((paper_id, full_md))\n",
    "    except Exception as e:\n",
    "        warnings.warn(latex.LatexWarning(f\"{paper_id:s} did not run properly\\n\" +\n",
    "                                         str(e)\n",
    "                                        ))\n",
    "        failed.append((paper, \"latex error \" + str(e)))"
   ]
  },
  {
   "cell_type": "markdown",
   "id": "2505a25c",
   "metadata": {
    "papermill": {
     "duration": 0.007684,
     "end_time": "2022-12-05T04:13:37.808158",
     "exception": false,
     "start_time": "2022-12-05T04:13:37.800474",
     "status": "completed"
    },
    "tags": []
   },
   "source": [
    "### Export the logs\n",
    "\n",
    "Throughout, we also keep track of the logs per paper. see `logs-{today date}.md` "
   ]
  },
  {
   "cell_type": "code",
   "execution_count": 6,
   "id": "d733828a",
   "metadata": {
    "execution": {
     "iopub.execute_input": "2022-12-05T04:13:37.826143Z",
     "iopub.status.busy": "2022-12-05T04:13:37.825195Z",
     "iopub.status.idle": "2022-12-05T04:13:37.859764Z",
     "shell.execute_reply": "2022-12-05T04:13:37.859026Z"
    },
    "papermill": {
     "duration": 0.045613,
     "end_time": "2022-12-05T04:13:37.861396",
     "exception": false,
     "start_time": "2022-12-05T04:13:37.815783",
     "status": "completed"
    },
    "scrolled": false,
    "tags": []
   },
   "outputs": [
    {
     "data": {
      "text/markdown": [
       "## Successful papers"
      ],
      "text/plain": [
       "<IPython.core.display.Markdown object>"
      ]
     },
     "metadata": {},
     "output_type": "display_data"
    },
    {
     "data": {
      "text/markdown": [
       "\n",
       "|||\n",
       "|---:|:---|\n",
       "| [![arXiv](https://img.shields.io/badge/arXiv-arXiv:2212.00806-b31b1b.svg)](https://arxiv.org/abs/arXiv:2212.00806) | **Distant Echoes of the Milky Way's Last Major Merger**  |\n",
       "|| Vedant Chandra, et al. -- incl., <mark>Hans-Walter Rix</mark>, <mark>Dennis Zaritsky</mark> |\n",
       "|*Appeared on*| *2022-12-05*|\n",
       "|*Comments*| *19 pages, 10 figures. Submitted to ApJ*|\n",
       "|**Abstract**| The majority of the Milky Way's stellar halo consists of debris from our Galaxy's last major merger, the Gaia-Sausage-Enceladus (GSE). In the past few years, stars from GSE have been kinematically and chemically studied in the inner $30$ kpc of our Galaxy. However, simulations predict that accreted debris could lie at greater distances, forming substructures in the outer halo. Here we derive metallicities and distances using Gaia DR3 XP spectra for an all-sky sample of luminous red giant stars, and map the outer halo with kinematics and metallicities out to $100$ kpc. We obtain follow-up spectra of stars in two strong overdensities - including the previously identified Outer Virgo Overdensity - and find them to be relatively metal-rich and on predominantly retrograde orbits, matching predictions from simulations of the GSE merger. We argue that these are apocentric shells of GSE debris, forming $60-90$ kpc counterparts to the $15-20$ kpc shells that are known to dominate the inner stellar halo. Extending our search across the sky with literature radial velocities, we find evidence for a coherent stream of retrograde stars encircling the Milky Way from $50-100$ kpc, in the same plane as the Sagittarius stream but moving in the opposite direction. These are the first discoveries of distant and structured imprints from the GSE merger, cementing the picture of an inclined and retrograde collision that built up our Galaxy's stellar halo. |"
      ],
      "text/plain": [
       "[arXiv:2212.00806] Distant Echoes of the Milky Way's Last Major Merger\n",
       "\tVedant Chandra, et al. -- incl., <mark>Hans-Walter Rix</mark>, <mark>Dennis Zaritsky</mark>"
      ]
     },
     "metadata": {},
     "output_type": "display_data"
    },
    {
     "data": {
      "text/markdown": [
       "\n",
       "|||\n",
       "|---:|:---|\n",
       "| [![arXiv](https://img.shields.io/badge/arXiv-arXiv:2212.00811-b31b1b.svg)](https://arxiv.org/abs/arXiv:2212.00811) | **PHANGS-JWST First Results: A statistical view on bubble evolution in  NGC628**  |\n",
       "|| Elizabeth J. Watkins, et al. -- incl., <mark>Kiana F. Henny</mark>, <mark>Kathryn Kreckel</mark>, <mark>Frank Bigiel</mark>, <mark>Jonathan Henshaw</mark>, <mark>Cinthya N. Herrera</mark>, <mark>Annie Hughes</mark>, <mark>Daizhong Liu</mark>, <mark>Eva Schinnerer</mark> |\n",
       "|*Appeared on*| *2022-12-05*|\n",
       "|*Comments*| *25 pages total, 13 Figures and 1 Table. Accepted for publication in ApJL as part of a PHANGS-JWST First Results Focus issue*|\n",
       "|**Abstract**| The first JWST observations of nearby galaxies have unveiled a rich population of bubbles that trace the stellar feedback mechanisms responsible for their creation. Studying these bubbles therefore allows us to chart the interaction between stellar feedback and the interstellar medium, and the larger galactic flows needed to regulate star formation processes globally. We present the first catalog of bubbles in NGC628, visually identified using MIRI F770W PHANGS-JWST observations, and use them to statistically evaluate bubble characteristics. We classify 1694 structures as bubbles with radii between 6-552 pc. Of these, 31% contain at least one smaller bubble at their edge, indicating that previous generations of star formation have a local impact on where new stars form. On large scales, most bubbles lie near a spiral arm, and their radii increase downstream compared to upstream. Furthermore, bubbles are elongated in a similar direction to the spiral arm ridge-line. These azimuthal trends demonstrate that star formation is intimately connected to the spiral arm passage. Finally, the bubble size distribution follows a power-law of index $p=-2.2\\pm0.1$, which is slightly shallower than the theoretical value by 1-3.5$\\sigma$ that did not include bubble mergers. The fraction of bubbles identified within the shells of larger bubbles suggests that bubble merging is a common process. Our analysis therefore allows us to quantify the number of star-forming regions that are influenced by an earlier generation, and the role feedback processes have in setting the global star formation rate. With the full PHANGS-JWST sample, we can do this for more galaxies. |"
      ],
      "text/plain": [
       "[arXiv:2212.00811] PHANGS-JWST First Results: A statistical view on bubble evolution in  NGC628\n",
       "\tElizabeth J. Watkins, et al. -- incl., <mark>Kiana F. Henny</mark>, <mark>Kathryn Kreckel</mark>, <mark>Frank Bigiel</mark>, <mark>Jonathan Henshaw</mark>, <mark>Cinthya N. Herrera</mark>, <mark>Annie Hughes</mark>, <mark>Daizhong Liu</mark>, <mark>Eva Schinnerer</mark>"
      ]
     },
     "metadata": {},
     "output_type": "display_data"
    },
    {
     "data": {
      "text/markdown": [
       "\n",
       "|||\n",
       "|---:|:---|\n",
       "| [![arXiv](https://img.shields.io/badge/arXiv-arXiv:2212.00812-b31b1b.svg)](https://arxiv.org/abs/arXiv:2212.00812) | **PHANGS-JWST First Results: Multi-wavelength view of feedback-driven  bubbles (The Phantom Voids) across NGC 628**  |\n",
       "|| Ashley T. Barnes, et al. -- incl., <mark>Kathryn Kreckel</mark>, <mark>Frank Bigiel</mark>, <mark>Janice C. Lee</mark>, <mark>Eva Schinnerer</mark>, <mark>Jonathan Henshaw</mark>, <mark>Jing Li</mark>, <mark>Daizhong Liu</mark>, <mark>Lukas Neumann</mark>, <mark>Francesca Pinna</mark> |\n",
       "|*Appeared on*| *2022-12-05*|\n",
       "|*Comments*| *12 pages total, 8 figures, and 1 table. Accepted as part of a PHANGS-JWST Focus Issue to appear in ApJ*|\n",
       "|**Abstract**| We present a high-resolution view of bubbles within The Phantom Galaxy (NGC 628); a nearby (~10Mpc), star-forming (~2Msun/yr), face-on (i~9deg) grand-design spiral galaxy. With new data obtained as part of the PHANGS-JWST treasury program, we perform a detailed case-study of two regions of interest, one of which contains the largest and most prominent bubble in the galaxy (The Phantom Void; over 1kpc in diameter), and the other being a smaller region that may be the precursor to such a large bubble (The Precursor Phantom Void). When comparing to matched resolution Halpha observations from the Hubble Space Telescope (HST), we see that the ionized gas is brightest in the shells of both bubbles, and is coincident with the youngest (~1Myr) and most massive (~100,000Msun) stellar associations. We also find an older generation (~20Myr) of stellar associations is present within the bubble of The Phantom Void. From our kinematic analysis of the HI, H2 (CO) and HII gas across The Phantom Void, we infer a high expansion speed of around 15 to 50km/s. The large size and high expansion speed of The Phantom Void suggest that the driving mechanism is sustained stellar feedback due to multiple mechanisms, where early feedback first cleared a bubble (as we observe now in The Precursor Phantom Void), and since then SNe have been exploding within the cavity, and have accelerated the shell. Finally, comparison to simulations shows a striking resemblance to our JWST observations, and suggests that such large-scale stellar feedback-driven bubbles should be common within other galaxies. |"
      ],
      "text/plain": [
       "[arXiv:2212.00812] PHANGS-JWST First Results: Multi-wavelength view of feedback-driven  bubbles (The Phantom Voids) across NGC 628\n",
       "\tAshley T. Barnes, et al. -- incl., <mark>Kathryn Kreckel</mark>, <mark>Frank Bigiel</mark>, <mark>Janice C. Lee</mark>, <mark>Eva Schinnerer</mark>, <mark>Jonathan Henshaw</mark>, <mark>Jing Li</mark>, <mark>Daizhong Liu</mark>, <mark>Lukas Neumann</mark>, <mark>Francesca Pinna</mark>"
      ]
     },
     "metadata": {},
     "output_type": "display_data"
    },
    {
     "data": {
      "text/markdown": [
       "\n",
       "|||\n",
       "|---:|:---|\n",
       "| [![arXiv](https://img.shields.io/badge/arXiv-arXiv:2212.01281-b31b1b.svg)](https://arxiv.org/abs/arXiv:2212.01281) | **A semiempirical approach to low-energy cosmic ray propagation in the  diffuse interstellar medium**  |\n",
       "|| <mark>Riccardo Franceschi</mark>, Steven Neil Shore |\n",
       "|*Appeared on*| *2022-12-05*|\n",
       "|*Comments*| *8 pages, 13 figures*|\n",
       "|**Abstract**| We investigate the ionization of the diffuse interstellar medium by cosmic rays by modeling their propagation along the wandering magnetic fields using a Monte Carlo method. We study how low-energy cosmic rays propagate in turbulent, translucent molecular clouds, and how they regulate the ionization and both lose and gain energy from the medium. As a test case, we use high spatial resolution (0.03 pc) CO maps of a well-studied high latitude translucent cloud, MBM 3, to model turbulence. The propagation problem is solved with a modified Monte Carlo procedure that includes trapping, energization, and ionization losses. In a homogeneous medium, trapping and re-energization do not produce a significant effect. In a nonuniform medium, particles can be trapped for a long time inside the cloud. This modifies the cosmic ray distribution due to stochastic acceleration at the highest energies (about 100 MeV). At lower energies, the re-energization is too weak to produce an appreciable effect. The change in the energy distribution does not significantly affect the ionization losses, so ionization changes are due to trapping effects. |"
      ],
      "text/plain": [
       "[arXiv:2212.01281] A semiempirical approach to low-energy cosmic ray propagation in the  diffuse interstellar medium\n",
       "\t<mark>Riccardo Franceschi</mark>, Steven Neil Shore"
      ]
     },
     "metadata": {},
     "output_type": "display_data"
    },
    {
     "data": {
      "text/markdown": [
       "\n",
       "|||\n",
       "|---:|:---|\n",
       "| [![arXiv](https://img.shields.io/badge/arXiv-arXiv:2212.01291-b31b1b.svg)](https://arxiv.org/abs/arXiv:2212.01291) | **Constraining the turbulence and the dust disk in IM Lup: onset of  planetesimal formation**  |\n",
       "|| <mark>Riccardo Franceschi</mark>, Tilman Birnstiel, <mark>Thomas Henning</mark>, <mark>Anirudh Sharma</mark> |\n",
       "|*Appeared on*| *2022-12-05*|\n",
       "|*Comments*| *15 pages, 16 figures, accepted by Astronomy & Astrophysics*|\n",
       "|**Abstract**| Observations of protoplanetary disks provide information on planet formation and the reasons for the diversity of planetary systems. The key to understanding planet formation is the study of dust evolution from small grains to pebbles. Smaller grains are well-coupled to the gas dynamics, and their distribution is significantly extended above the disk midplane. Larger grains settle much faster and are efficiently formed only in the midplane. By combining near-infrared polarized light and millimeter observations, it is possible to constrain the spatial distribution of both the small and large grains. We aim to construct detailed models of the size distribution and vertical/radial structure of the dust particles in protoplanetary disks based on observational data. In particular, we are interested in recovering the dust distribution in the IM Lup protoplanetary disk. We create a physical model for the dust distribution of protoplanetary disks and simulate the radiative transfer of the millimeter continuum and the near-infrared polarized radiation. Using a Markov chain Monte Carlo method, we compare the derived images to the observations available for the IM Lup disk to constrain the best physical model for IM Lup and to recover the vertical grain size distribution. The millimeter and near-infrared emission tightly constrain the dust mass and grain size distribution of our model. We find size segregation in the dust distribution, with millimeter-sized grains in the disk midplane. These grains are efficiently formed in the disk, possibly by sedimentation-driven coagulation, in accord with the short settling timescales predicted by our model. This also suggests a high dust-to-gas ratio at smaller radii in the midplane, possibly triggering streaming instabilities and planetesimal formation in the inner disk. |"
      ],
      "text/plain": [
       "[arXiv:2212.01291] Constraining the turbulence and the dust disk in IM Lup: onset of  planetesimal formation\n",
       "\t<mark>Riccardo Franceschi</mark>, Tilman Birnstiel, <mark>Thomas Henning</mark>, <mark>Anirudh Sharma</mark>"
      ]
     },
     "metadata": {},
     "output_type": "display_data"
    },
    {
     "data": {
      "text/markdown": [
       "## Failed papers"
      ],
      "text/plain": [
       "<IPython.core.display.Markdown object>"
      ]
     },
     "metadata": {},
     "output_type": "display_data"
    },
    {
     "data": {
      "text/markdown": [
       "\n",
       "|||\n",
       "|---:|:---|\n",
       "| [![arXiv](https://img.shields.io/badge/arXiv-arXiv:2212.00810-b31b1b.svg)](https://arxiv.org/abs/arXiv:2212.00810) | **Timing the r-Process Enrichment of the Ultra-Faint Dwarf Galaxy  Reticulum II**  |\n",
       "|| Joshua D. Simon, et al. -- incl., <mark>Thomas M. Brown</mark>, <mark>Clara E. Martínez-Vázquez</mark>, <mark>Ting S. Li</mark> |\n",
       "|*Appeared on*| *2022-12-05*|\n",
       "|*Comments*| *14 pages, 5 figures, 1 table. Accepted for publication in ApJ*|\n",
       "|**Abstract**| The ultra-faint dwarf galaxy Reticulum II (Ret II) exhibits a unique chemical evolution history, with 72 +10/-12% of its stars strongly enhanced in r-process elements. We present deep Hubble Space Telescope photometry of Ret II and analyze its star formation history. As in other ultra-faint dwarfs, the color-magnitude diagram is best fit by a model consisting of two bursts of star formation. If we assume that the bursts were instantaneous, then the older burst occurred around the epoch of reionization and formed ~80% of the stars in the galaxy, while the remainder of the stars formed ~3 Gyr later. When the bursts are allowed to have nonzero durations we obtain slightly better fits. The best-fitting model in this case consists of two bursts beginning before reionization, with approximately half the stars formed in a short (100 Myr) burst and the other half in a more extended period lasting 2.6 Gyr. Considering the full set of viable star formation history models, we find that 28% of the stars formed within 500 +/- 200 Myr of the onset of star formation. The combination of the star formation history and the prevalence of r-process-enhanced stars demonstrates that the r-process elements in Ret II must have been synthesized early in its initial star-forming phase. We therefore constrain the delay time between the formation of the first stars in Ret II and the r-process nucleosynthesis to be less than 500 Myr. This measurement rules out an r-process source with a delay time of several Gyr or more such as GW170817. |\n",
       "|<p style=\"color:green\"> **ERROR** </p>| <p style=\"color:green\">affiliation error: mpia.affiliation_verifications: 'Heidelberg' keyword not found.</p> |"
      ],
      "text/plain": [
       "<IPython.core.display.Markdown object>"
      ]
     },
     "metadata": {},
     "output_type": "display_data"
    },
    {
     "data": {
      "text/markdown": [
       "\n",
       "|||\n",
       "|---:|:---|\n",
       "| [![arXiv](https://img.shields.io/badge/arXiv-arXiv:2212.00853-b31b1b.svg)](https://arxiv.org/abs/arXiv:2212.00853) | **Dust Rings and Cavities in the Protoplanetary Disks around HD 163296 and  DoAr 44**  |\n",
       "|| <mark>Harrison Leiendecker</mark>, Hannah Jang-Condell, Neal J. Turner, Adam D. Myers |\n",
       "|*Appeared on*| *2022-12-05*|\n",
       "|*Comments*| *18 pages, 19 figures*|\n",
       "|**Abstract**| We model substructure in the protoplanetary disks around DoAr 44 and HD 163296 in order to better understand the conditions under which planets may form. We match archival millimeter-wavelength thermal emission against models of the disks' structure that are in radiation balance with the starlight heating and in vertical hydrostatic equilibrium, and then compare to archival polarized scattered near-infrared images of the disks. The millimeter emission arises in the interior, while the scattered near-infrared radiation probes the disks' outer layers. Our best model of the HD 163296 disk has dust masses $81\\pm 13$ $M_\\oplus$ in the inner ring at 68 au and $82^{+26}_{-16}$ $M_\\oplus$ in the outer ring at 102 au, both falling within the range of estimates from previous studies. Our DoAr 44 model has total dust mass $84^{+7.0}_{-3.5}$ $M_\\oplus$. Unlike HD 163296, DoAr 44 as of yet has no detected planets. If the central cavity in the DoAr 44 disk is caused by a planet, the planet's mass must be at least 0.5 $M_J$ and is unlikely to be greater than 1.6 $M_J$. We demonstrate that the DoAr 44 disk's structure with a bright ring offset within a fainter skirt can be formed by dust particles drifting through a plausible distribution of gas. |\n",
       "|<p style=\"color:green\"> **ERROR** </p>| <p style=\"color:green\">affiliation error: mpia.affiliation_verifications: 'Heidelberg' keyword not found.</p> |"
      ],
      "text/plain": [
       "<IPython.core.display.Markdown object>"
      ]
     },
     "metadata": {},
     "output_type": "display_data"
    },
    {
     "data": {
      "text/markdown": [
       "\n",
       "|||\n",
       "|---:|:---|\n",
       "| [![arXiv](https://img.shields.io/badge/arXiv-arXiv:2212.00948-b31b1b.svg)](https://arxiv.org/abs/arXiv:2212.00948) | **A Potential New Mechanism for the Butterfly Diagram of the Solar Cycle:  Latitude-dependent Radial Flux Transport**  |\n",
       "|| <mark>Zebin Zhang</mark>, Jie Jiang, <mark>Haowei Zhang</mark> |\n",
       "|*Appeared on*| *2022-12-05*|\n",
       "|*Comments*| *8 pages, 4 figures, accepted for publication in ApJL*|\n",
       "|**Abstract**| The butterfly diagram of the solar cycle is the equatorward migration of the emergence latitudes of sunspots as the solar cycle evolves. Revealing the mechanism for the butterfly diagram is essential for understanding the solar and stellar dynamo. The equatorward meridional flow at the base of the convection zone (CZ) was believed to be responsible for the butterfly diagram. However, helioseismological studies indicate controversial forms of the flow, and even present poleward flow at the base of the CZ, which poses a big challenge to the widely accepted mechanism. This motivates us to propose a new mechanism in this study. Using a data-driven Babcock-Leighton-type dynamo model, we carry out numerical simulations to explore how the latitude-dependent radial flux transport affects the latitudinal migration of the toroidal field, under different meridional flow profiles. The results indicate that when the radial transport of the poloidal field at higher latitudes is sufficiently faster, the toroidal fields of a new cycle at higher latitudes are generated earlier than that at lower latitudes, and vice versa. Thus, the butterfly diagram is suggested to correspond to the time- and latitude-dependent regeneration of the toroidal field due to the latitude-dependent radial transport of the poloidal flux. |\n",
       "|<p style=\"color:green\"> **ERROR** </p>| <p style=\"color:green\">affiliation error: mpia.affiliation_verifications: 'Heidelberg' keyword not found.</p> |"
      ],
      "text/plain": [
       "<IPython.core.display.Markdown object>"
      ]
     },
     "metadata": {},
     "output_type": "display_data"
    },
    {
     "data": {
      "text/markdown": [
       "\n",
       "|||\n",
       "|---:|:---|\n",
       "| [![arXiv](https://img.shields.io/badge/arXiv-arXiv:2212.00954-b31b1b.svg)](https://arxiv.org/abs/arXiv:2212.00954) | **The most probable host of CHIME FRB 190425A, associated with binary  neutron star merger GW190425, and a late-time transient search**  |\n",
       "|| Fiona H. Panther, et al. -- incl., <mark>Linqing Wen</mark>, <mark>Bing Zhang</mark> |\n",
       "|*Appeared on*| *2022-12-05*|\n",
       "|*Comments*| *17 pages, 11 figures, accepted for publication in Monthly Notices of the Royal Astronomical Society*|\n",
       "|**Abstract**| The identification and localization of Fast Radio Bursts to their host galaxies has revealed important details about the progenitors of these mysterious, millisecond-long bursts of coherent radio emission. In this work we study the most probable host galaxy of the apparently non-repeating CHIME/FRB event FRB 20190425A -- a particularly high luminosity, low dispersion measure event that was demonstrated by Moroianu et al. 2022 to be temporally and spatially coincident with the LIGO-Virgo-KAGRA binary neutron star merger GW190425, suggesting an astrophysical association (p-value 0.0052). In this paper we remain agnostic to this result, and we confirm UGC10667 as the most probable host galaxy of FRB 20190425A, demonstrating that the host galaxies of low dispersion measure, one-off CHIME FRBs can be plausibly identified. We then perform multi-wavelength observations to characterize the galaxy and search for any afterglow emission associated with the FRB and its putative GW counterpart. We find no radio or optical transient emission in our observations $2.5\\,\\mathrm{yr}$ post-burst. UGC10667 is a spiral galaxy at $z\\sim0.03$, dominated by an old stellar population. We find no evidence of a large population of young stars, with nebular emission dominated by star formation at a rate of $1-2\\,\\mathrm{M_\\odot\\,yr^{-1}}$. While we cannot rule out a young magnetar as the origin of FRB 20190425A, our observations are consistent with an origin in a long delay-time neutron star binary merger as posited by Moroianu et al. 2022. |\n",
       "|<p style=\"color:green\"> **ERROR** </p>| <p style=\"color:green\">affiliation error: mpia.affiliation_verifications: 'Heidelberg' keyword not found.</p> |"
      ],
      "text/plain": [
       "<IPython.core.display.Markdown object>"
      ]
     },
     "metadata": {},
     "output_type": "display_data"
    },
    {
     "data": {
      "text/markdown": [
       "\n",
       "|||\n",
       "|---:|:---|\n",
       "| [![arXiv](https://img.shields.io/badge/arXiv-arXiv:2212.01000-b31b1b.svg)](https://arxiv.org/abs/arXiv:2212.01000) | **A Dynamical Systems Analysis of the Effects of the Launch Rate  Distribution on the Stability of a Source-Sink Orbital Debris Model**  |\n",
       "|| Celina Pasiecznik, Andrea D'Ambrosio, Daniel Jang, <mark>Richard Linares</mark> |\n",
       "|*Appeared on*| *2022-12-05*|\n",
       "|*Comments*| *Conference Proceedings from the 73rd International Astronautical Congress*|\n",
       "|**Abstract**| Future launches are projected to significantly increase both the number of active satellites and aggregate collision risk in Low Earth Orbit (LEO). In this paper, a dynamical systems theory approach is used to analyze the effect of launch rate distribution on the stability of the LEO environment. A multi-shell, three-species source-sink model of the LEO environment, referred to as MOCAT-3 for MIT Orbital Capacity Assessment Tool 3 Species, is used to study the evolution of the species populations. The three species included in the model are active satellites, derelict satellites, and debris. The model's coefficients represent atmospheric drag, collision rate, mean satellite lifetime, post-mission disposal probability, and active debris removal rate. Solutions of the system of differential equations are computed, and an analysis of the stability of the equilibrium points is conducted for numerous launch rate distributions. The stability of the equilibrium points is used to test the sensitivity of the environment to run-away debris growth, known as Kessler syndrome, that occurs at the instability threshold. An analysis of the environment's response to perturbations in launch rate and debris population is conducted. The maximum perturbation in the debris population from the equilibrium state, for which the system remains in a stable configuration, is calculated. Plots of the phase space about the equilibrium points are generated. The results will help to better understand the orbital capacity of LEO and the stability of the space environment, as well as provide improved guidelines on future launch plans to avoid detrimental congestion of LEO. |\n",
       "|<p style=\"color:green\"> **ERROR** </p>| <p style=\"color:green\">affiliation error: mpia.affiliation_verifications: 'Heidelberg' keyword not found.</p> |"
      ],
      "text/plain": [
       "<IPython.core.display.Markdown object>"
      ]
     },
     "metadata": {},
     "output_type": "display_data"
    },
    {
     "data": {
      "text/markdown": [
       "\n",
       "|||\n",
       "|---:|:---|\n",
       "| [![arXiv](https://img.shields.io/badge/arXiv-arXiv:2212.01003-b31b1b.svg)](https://arxiv.org/abs/arXiv:2212.01003) | **Broadband mHz QPOs and spectral study of LMC X$-$4 with AstroSat**  |\n",
       "|| <mark>Rahul Sharma</mark>, Chetana Jain, Ketan Rikame, Biswajit Paul |\n",
       "|*Appeared on*| *2022-12-05*|\n",
       "|*Comments*| *Accepted for publication in Monthly Notices of the Royal Astronomical Society*|\n",
       "|**Abstract**| We report the results of broadband timing and spectral analysis of data from an AstroSat observation of the High Mass X-ray binary LMC X$-$4. The Large Area X-ray Proportional Counter (LAXPC) and Soft X-ray Telescope (SXT) instruments on-board the AstroSat observed the source in August 2016. A complete X-ray eclipse was detected with the LAXPC. The 3$-$40 keV power density spectrum showed the presence of coherent pulsations along with a $\\sim 26$ mHz quasi-periodic oscillation feature. The spectral properties of LMC X$-$4 were derived from a joint analysis of the SXT and LAXPC spectral data. The 0.5$-$25 keV persistent spectrum comprised of an absorbed high energy cutoff power law with photon index of $\\Gamma \\sim$ 0.8 and cutoff at $\\sim$16 keV, a soft thermal component with kT$_{BB} \\sim$ 0.14 keV and Gaussian components corresponding to Fe K$_\\alpha$, Ne \\textsc{ix} and Ne \\textsc{x} emission lines. Assuming a source distance of 50 kpc, we determined 0.5--25 keV luminosity to be $\\sim 2 \\times 10^{38}$ erg s$^{-1}$. |\n",
       "|<p style=\"color:green\"> **ERROR** </p>| <p style=\"color:green\">affiliation error: mpia.affiliation_verifications: 'Heidelberg' keyword not found.</p> |"
      ],
      "text/plain": [
       "<IPython.core.display.Markdown object>"
      ]
     },
     "metadata": {},
     "output_type": "display_data"
    },
    {
     "data": {
      "text/markdown": [
       "\n",
       "|||\n",
       "|---:|:---|\n",
       "| [![arXiv](https://img.shields.io/badge/arXiv-arXiv:2212.01088-b31b1b.svg)](https://arxiv.org/abs/arXiv:2212.01088) | **Upper limits on the isotropic diffuse flux of cosmic PeV photons from  Carpet-2 observations**  |\n",
       "|| D. D. Dzhappuev, et al. -- incl., <mark>A. S. Lidvansky</mark> |\n",
       "|*Appeared on*| *2022-12-05*|\n",
       "|*Comments*| *5 pages, 3 figures, JETPL.cls*|\n",
       "|**Abstract**| Isotropic diffuse gamma-ray flux in the PeV energy band is an important tool for multimessenger tests of models of the origin of high-energy astrophysical neutrinos and for new-physics searches. So far, this flux has not yet been observed. Carpet-2 is an air-shower experiment capable of detecting astrophysical gamma rays with energies above 0.1 PeV. Here we report the upper limits on the isotropic gamma-ray flux from Carpet-2 data obtained in 1999-2011 and 2018-2022. These results, obtained with the new statistical method based on the shape of the muon-number distribution, summarize Carpet-2 observations as the upgraded installation, Carpet-3, starts its operation. |\n",
       "|<p style=\"color:green\"> **ERROR** </p>| <p style=\"color:green\">affiliation error: mpia.affiliation_verifications: 'Heidelberg' keyword not found.</p> |"
      ],
      "text/plain": [
       "<IPython.core.display.Markdown object>"
      ]
     },
     "metadata": {},
     "output_type": "display_data"
    },
    {
     "data": {
      "text/markdown": [
       "\n",
       "|||\n",
       "|---:|:---|\n",
       "| [![arXiv](https://img.shields.io/badge/arXiv-arXiv:2212.01104-b31b1b.svg)](https://arxiv.org/abs/arXiv:2212.01104) | **Joint analysis of gravitational-wave and electromagnetic data of  mergers: breaking an afterglow model degeneracy in GW170817 and in future  events**  |\n",
       "|| Giulia Gianfagna, et al. -- incl., <mark>Hendrik Van Eerten</mark> |\n",
       "|*Appeared on*| *2022-12-05*|\n",
       "|*Comments*| *13 pages, 9 figures. Submitted to MNRAS*|\n",
       "|**Abstract**| On August 17, 2017, Advanced LIGO and Virgo observed GW170817, the first gravitational-wave (GW) signal from a binary neutron star merger. It was followed by a short-duration gamma-ray burst, GRB 170817A, and by a non-thermal afterglow emission. In this work, a combined simultaneous fit of the electromagnetic (EM, specifically, afterglow) and GW domains is implemented, both using the posterior distribution of a GW standalone analysis as prior distribution to separately process the EM data, and fitting the EM and GW domains simultaneously. These approaches coincide mathematically, as long as the actual posterior of the GW analysis, and not an approximation, is used as prior for the EM analysis. We treat the viewing angle, $\\theta_v$, as shared parameter across the two domains. In the afterglow modelling this parameter and the jet core angle, $\\theta_c$, are correlated, leading to high uncertainties on their values. The joint EM+GW analysis relaxes this degeneracy, reducing the uncertainty compared to an EM-only fit. We also apply our methodology to a hypothetical GW170817-like event occurring in the next GW observing run at $\\sim$140 Mpc, so that the afterglow flux is one order of magnitude fainter, leaving only the light curve peak visible. The EM-only fit cannot constrain $\\theta_v$ nor $\\theta_c$, while folding the GW data into the analysis leads to tighter constraints on $\\theta_v$. Although the geometry of the jet remains unconstrained because of the lack of data in the afterglow rising phase, in all fits the jet total width results to be smaller than $\\theta_v$ (off-axis case). |\n",
       "|<p style=\"color:green\"> **ERROR** </p>| <p style=\"color:green\">affiliation error: mpia.affiliation_verifications: 'Heidelberg' keyword not found.</p> |"
      ],
      "text/plain": [
       "<IPython.core.display.Markdown object>"
      ]
     },
     "metadata": {},
     "output_type": "display_data"
    },
    {
     "data": {
      "text/markdown": [
       "\n",
       "|||\n",
       "|---:|:---|\n",
       "| [![arXiv](https://img.shields.io/badge/arXiv-arXiv:2212.01126-b31b1b.svg)](https://arxiv.org/abs/arXiv:2212.01126) | **Discovery of a New Molecular Bubble-Outflow Structure in the Taurus B18  Cloud**  |\n",
       "|| Yan Duan, et al. -- incl., <mark>Di Li</mark>, <mark>Jinjin Xie</mark> |\n",
       "|*Appeared on*| *2022-12-05*|\n",
       "|*Comments*| *Accepted for publication in ApJ. 18 pages, 2 tables, 9 figures*|\n",
       "|**Abstract**| Star formation can produce bubbles and outflows, as a result of stellar feedback. Outflows and bubbles inject momentum and energy into the surrounding interstellar medium, and so are related to the overall energy balance of the molecular cloud. Molecular bubbles can be resolved by higher-resolution radio telescopes to quantify the effect of star formation on molecular clouds. We report here the identification of a new molecular bubble with an outflow, and an Herbig Haro object, HH319, located at the bubble center. Multi-wavelength data have been utilized to study its spatial structure, energy injection, and dynamical timescale. This bubble has a kinetic energy of $\\rm 5.8 \\times 10^{43}$ erg within the smallest radius of a bubble in Taurus, 0.077 pc. The bubble formed $\\sim$70,000 years ago. According to the proper motion velocities of protostars from $Gaia$ EDR3, the T Tauri binary stars (FY Tau and FZ Tau) at the southwest edge of the bubble may have produced the outflow-bubble structure. This is an unusual new structure found in low- and intermediate-mass star formation regions. Only a bubble in Orion A, driven by V380 Ori, has a similar structure. The bubble-outflow structure provides additional observational evidence for the theory of stellar wind from T Tauri stars. It enhances our understanding of how stellar feedback acts on molecular clouds. |\n",
       "|<p style=\"color:green\"> **ERROR** </p>| <p style=\"color:green\">affiliation error: mpia.affiliation_verifications: 'Heidelberg' keyword not found.</p> |"
      ],
      "text/plain": [
       "<IPython.core.display.Markdown object>"
      ]
     },
     "metadata": {},
     "output_type": "display_data"
    },
    {
     "data": {
      "text/markdown": [
       "\n",
       "|||\n",
       "|---:|:---|\n",
       "| [![arXiv](https://img.shields.io/badge/arXiv-arXiv:2212.01158-b31b1b.svg)](https://arxiv.org/abs/arXiv:2212.01158) | **Comparison of physics-based prediction models of solar cycle 25**  |\n",
       "|| Jie Jiang, <mark>Zebin Zhang</mark>, Kristóf Petrovay |\n",
       "|*Appeared on*| *2022-12-05*|\n",
       "|*Comments*| *18 pages, 7 figures, submitted to JASTP*|\n",
       "|**Abstract**| Physics-based solar cycle predictions provide an effective way to verify our understanding of the solar cycle. Before the start of cycle 25, several physics-based solar cycle predictions were developed. These predictions use flux transport dynamo (FTD) models, surface flux transport (SFT) models, or a combination of the two kinds of models. The common physics behind these predictions is that the surface poloidal fields around cycle minimum dominate the subsequent cycle strength. In the review, we first give short introductions to SFT and FTD models. Then we compare 7 physics-based prediction models from 4 aspects, which are what the predictor is, how to get the predictor, how to use the predictor, and what to predict. Finally, we demonstrate the large effect of assimilated magnetograms on predictions by two SFT numerical tests. We suggest that uncertainties in both initial magnetograms and sunspot emergence should be included in such physics-based predictions because of their large effects on the results. In addition, in the review we put emphasis on what we can learn from different predictions, rather than an assessment of prediction results. |\n",
       "|<p style=\"color:green\"> **ERROR** </p>| <p style=\"color:green\">affiliation error: mpia.affiliation_verifications: 'Heidelberg' keyword not found.</p> |"
      ],
      "text/plain": [
       "<IPython.core.display.Markdown object>"
      ]
     },
     "metadata": {},
     "output_type": "display_data"
    },
    {
     "data": {
      "text/markdown": [
       "\n",
       "|||\n",
       "|---:|:---|\n",
       "| [![arXiv](https://img.shields.io/badge/arXiv-arXiv:2212.01239-b31b1b.svg)](https://arxiv.org/abs/arXiv:2212.01239) | **A $\\sim$15 kpc Outflow Cone Piercing Through The Halo Of The Blue  Compact Metal-poor Galaxy SBS0335-052**  |\n",
       "|| <mark>E.C. Herenz</mark>, et al. -- incl., <mark>B. Koenigs</mark> |\n",
       "|*Appeared on*| *2022-12-05*|\n",
       "|*Comments*| *Resubmitted to A&A after minor revisions. 23 pages, 24 figures*|\n",
       "|**Abstract**| Context: Outflows from low-mass star-forming galaxies are a fundamental ingredient for models of galaxy evolution and cosmology. Aims: The onset of kpc-scale ionised filaments in the halo of the metal-poor compact dwarf SBS 0335-052E was previously not linked to an outflow. We here we investigate whether these filaments provide evidence for an outflow. Methods: We obtained new VLT/MUSE WFM and deep NRAO/VLA B-configuration 21cm data of the galaxy. The MUSE data provide morphology, kinematics, and emission line ratios H$\\beta$/H$\\alpha$ and [\\ion{O}{iii}]$\\lambda5007$/H$\\alpha$ of the low surface-brightness filaments, while the VLA data deliver morphology and kinematics of the neutral gas in and around the system. Both datasets are used in concert for comparisons between the ionised and the neutral phase. Results: We report the prolongation of a lacy filamentary ionised structure up to a projected distance of 16 kpc at $\\mathrm{SB}_\\mathrm{H\\alpha} = 1.5\\times10^{-18}$erg s$^{-1}$ cm$^{-2}$arcsec$^{-2}$. The filaments exhibit unusual low H$\\alpha$/H$\\beta \\approx 2.4$ and low [\\ion{O}{iii}]/H$\\alpha \\sim 0.4 - 0.6$ typical of diffuse ionised gas. They are spectrally narrow ($\\sim 20$ km s$^{-1}$) and exhibit no velocity sub-structure. The filaments extend outwards of the elongated \\ion{H}{I} halo. On small scales the $N_\\mathrm{HI}$ peak is offset from the main star-forming sites. Morphology and kinematics of \\ion{H}{I} and \\ion{H}{II} reveal how star-formation driven feedback interacts differently with the ionised and the neutral phase. Conclusions: We reason that the filaments are a large scale manifestation of star-formation driven feedback, namely limb-brightened edges of a giant outflow cone that protrudes through the halo of this gas-rich system. A simple toy model of such a conical-structure is found to be commensurable with the observations. |\n",
       "|<p style=\"color:green\"> **ERROR** </p>| <p style=\"color:green\">affiliation error: mpia.affiliation_verifications: 'Heidelberg' keyword not found.</p> |"
      ],
      "text/plain": [
       "<IPython.core.display.Markdown object>"
      ]
     },
     "metadata": {},
     "output_type": "display_data"
    },
    {
     "data": {
      "text/markdown": [
       "\n",
       "|||\n",
       "|---:|:---|\n",
       "| [![arXiv](https://img.shields.io/badge/arXiv-arXiv:2212.01258-b31b1b.svg)](https://arxiv.org/abs/arXiv:2212.01258) | **Absence of nuclear PAH emission from a compact starburst: the case of  the type-2 quasar Mrk 477**  |\n",
       "|| <mark>C. Ramos Almeida</mark>, et al. -- incl., <mark>A. Alonso-Herrero</mark> |\n",
       "|*Appeared on*| *2022-12-05*|\n",
       "|*Comments*| *7 pages, 3 figures. Accepted for publication in A&A Letters*|\n",
       "|**Abstract**| Mrk 477 is the closest type-2 quasar (QSO2), at a distance of 163 Mpc. This makes it an ideal laboratory for studying the interplay between nuclear activity and star formation with a great level of detail and signal-to-noise. In this Letter we present new mid-infrared (mid-IR) imaging and spectroscopic data with an angular resolution of 0.4 arcsec (~300 pc) obtained with the Gran Telescopio Canarias (GTC) instrument CanariCam. The N-band (8-13 micron) spectrum of the central ~400 pc of the galaxy reveals [S IV]10.51 micron emission, but no 8.6 or 11.3 micron PAH features, which are commonly used as tracers of recent star formation. This is in stark contrast with the presence of a nuclear starburst with age of about 6 Myr and ~300 pc in size, as constrained from ultraviolet HST observations. Considering this, we argue that even the more resilient, neutral molecules that mainly produce the 11.3 micron PAH band are most likely being destroyed in the vicinity of the active nucleus despite the relatively large X-ray column density, of log N_H=23.5 cm^-2, and modest X-ray luminosity, of 1.5x10^43 erg/s. This highlights the importance of being cautious when using PAH features as star formation tracers in the central region of galaxies to evaluate the impact of active galactic nuclei (AGN) feedback. |\n",
       "|<p style=\"color:green\"> **ERROR** </p>| <p style=\"color:green\">affiliation error: mpia.affiliation_verifications: 'Heidelberg' keyword not found.</p> |"
      ],
      "text/plain": [
       "<IPython.core.display.Markdown object>"
      ]
     },
     "metadata": {},
     "output_type": "display_data"
    },
    {
     "data": {
      "text/markdown": [
       "\n",
       "|||\n",
       "|---:|:---|\n",
       "| [![arXiv](https://img.shields.io/badge/arXiv-arXiv:2212.01293-b31b1b.svg)](https://arxiv.org/abs/arXiv:2212.01293) | **An investigation of the star-forming main sequence considering the  nebular continuum emission at low-z**  |\n",
       "|| <mark>Henrique Miranda</mark>, et al. |\n",
       "|*Appeared on*| *2022-12-05*|\n",
       "|*Comments*| *13 pages, 10 figures and 3 tables. Forthcoming article in Astronomy and Astrophysics*|\n",
       "|**Abstract**| The code FADO is the first publicly available population spectral synthesis tool that treats the contribution from ionised gas to the observed emission self-consistently. We study the impact of the nebular contribution on the determination of the star formation rate (SFR), stellar mass, and consequent effect on the star-forming main sequence (SFMS) at low redshift. We applied FADO to the spectral database of the SDSS to derive the physical properties of galaxies. As a comparison, we used the data in the MPA-JHU catalogue, which contains the properties of SDSS galaxies derived without the nebular contribution. We selected a sample of SF galaxies with H$\\alpha$ and H$\\beta$ flux measurements, and we corrected the fluxes for the nebular extinction through the Balmer decrement. We then calculated the H$\\alpha$ luminosity to estimate the SFR. Then, by combining the stellar mass and SFR estimates from FADO and MPA-JHU, the SFMS was obtained. The H$\\alpha$ flux estimates are similar between FADO and MPA-JHU. Because the H$\\alpha$ flux was used as tracer of the SFR, FADO and MPA-JHU agree in their SFR. The stellar mass estimates are slightly higher for FADO than for MPA-JHU on average. However, considering the uncertainties, the differences are negligible. With similar SFR and stellar mass estimates, the derived SFMS is also similar between FADO and MPA-JHU. Our results show that for SDSS normal SF galaxies, the additional modelling of the nebular contribution does not affect the retrieved fluxes and consequentially also does not influence SFR estimators based on the extinction-corrected H$\\alpha$ luminosity. For the stellar masses, the results point to the same conclusion. These results are a consequence of the fact that the vast majority of normal SF galaxies in the SDSS have a low nebular contribution. |\n",
       "|<p style=\"color:green\"> **ERROR** </p>| <p style=\"color:green\">affiliation error: mpia.affiliation_verifications: 'Heidelberg' keyword not found.</p> |"
      ],
      "text/plain": [
       "<IPython.core.display.Markdown object>"
      ]
     },
     "metadata": {},
     "output_type": "display_data"
    },
    {
     "data": {
      "text/markdown": [
       "\n",
       "|||\n",
       "|---:|:---|\n",
       "| [![arXiv](https://img.shields.io/badge/arXiv-arXiv:2212.01333-b31b1b.svg)](https://arxiv.org/abs/arXiv:2212.01333) | **Diffuse $γ$-ray emission in Cygnus X: Comments to Yan & Pavaskar**  |\n",
       "|| Ottavio Fornieri, <mark>Heshou Zhang</mark> |\n",
       "|*Appeared on*| *2022-12-05*|\n",
       "|*Comments*| *4 pages, 1 figure*|\n",
       "|**Abstract**| It has been pointed out in arXiv:2211.17057 that our recent (published) paper might be revised, due to an incorrect evaluation of the diffusion coefficients, $D(E)$, employed in the calculations. Unfortunately, there is no indication as to where the incorrectness might be. Here we offer the opportunity to be more specific, by providing the community with the whole description of the equations involved in the calculation of $D(E)$, which is missing in the {\\tt arXiv} note. In this context, we mention that no \\textit{ad hoc} parameterisation has been used in our paper. Furthermore, any assumption on the injection mechanisms is explicitly described in the paper as an input factor and is obviously part of the modelisation procedure, hence the final outcome is subject to it. Finally, we discuss in a more broad context what, in this calculation of the diffusion coefficient, we believe is the key message. |\n",
       "|<p style=\"color:green\"> **ERROR** </p>| <p style=\"color:green\">affiliation error: mpia.affiliation_verifications: 'Heidelberg' keyword not found.</p> |"
      ],
      "text/plain": [
       "<IPython.core.display.Markdown object>"
      ]
     },
     "metadata": {},
     "output_type": "display_data"
    },
    {
     "data": {
      "text/markdown": [
       "\n",
       "|||\n",
       "|---:|:---|\n",
       "| [![arXiv](https://img.shields.io/badge/arXiv-arXiv:2212.01352-b31b1b.svg)](https://arxiv.org/abs/arXiv:2212.01352) | **The SDSS-HET Survey of Kepler Eclipsing Binaries. A Sample of Four  Benchmark Binaries**  |\n",
       "|| Kelly Hambleton, et al. -- incl., <mark>Suvrath Mahadevan</mark> |\n",
       "|*Appeared on*| *2022-12-05*|\n",
       "|*Comments*| **|\n",
       "|**Abstract**| The purpose of this work is to extend a sample of accurately modeled, benchmark-grade eclipsing binaries with accurately determined masses and radii. We select four \"well-behaved\" Kepler binaries, KIC2306740, KIC4076952, KIC5193386 and KIC5288543, each with at least 8 double-lined spectra from the apogee instrument that is part of the Sloan Digital Sky Surveys III and IV, and from the Hobby-Eberly High Resolution Spectrograph. We obtain masses and radii with uncertainties of 2.5% or less for all four systems. Three of these systems have orbital periods longer than 9 days, and thus populate an under-sampled region of the parameter space for extremely well-characterized detached eclipsing binaries. We compare the derived masses and radii against MESA MIST isochrones to determine the ages of the systems. All systems were found to be coeval, showing that the results are consistent across MESA MIST and PHOEBE. |\n",
       "|<p style=\"color:green\"> **ERROR** </p>| <p style=\"color:green\">affiliation error: mpia.affiliation_verifications: 'Heidelberg' keyword not found.</p> |"
      ],
      "text/plain": [
       "<IPython.core.display.Markdown object>"
      ]
     },
     "metadata": {},
     "output_type": "display_data"
    },
    {
     "data": {
      "text/markdown": [
       "\n",
       "|||\n",
       "|---:|:---|\n",
       "| [![arXiv](https://img.shields.io/badge/arXiv-arXiv:2212.01369-b31b1b.svg)](https://arxiv.org/abs/arXiv:2212.01369) | **Primordial Black Holes Place the Universe in Stasis**  |\n",
       "|| Keith R. Dienes, et al. -- incl., <mark>Lucien Heurtier</mark> |\n",
       "|*Appeared on*| *2022-12-05*|\n",
       "|*Comments*| *10 pages, LaTeX, 2 figures*|\n",
       "|**Abstract**| A variety of scenarios for early-universe cosmology give rise to a population of primordial black holes (PBHs) with a broad spectrum of masses. In this paper we demonstrate that the evaporation of PBHs in such scenarios has the potential to place the universe into an extended period of \"stasis\" during which the abundances of matter and radiation remain absolutely constant despite cosmological expansion. This surprising phenomenon can give rise to new possibilities for early-universe dynamics and lead to distinctive signatures of the evaporation of such PBHs. |\n",
       "|<p style=\"color:green\"> **ERROR** </p>| <p style=\"color:green\">affiliation error: mpia.affiliation_verifications: 'Heidelberg' keyword not found.</p> |"
      ],
      "text/plain": [
       "<IPython.core.display.Markdown object>"
      ]
     },
     "metadata": {},
     "output_type": "display_data"
    },
    {
     "data": {
      "text/markdown": [
       "\n",
       "|||\n",
       "|---:|:---|\n",
       "| [![arXiv](https://img.shields.io/badge/arXiv-arXiv:2212.00815-b31b1b.svg)](https://arxiv.org/abs/arXiv:2212.00815) | **The TeV Sun Rises: Discovery of Gamma rays from the Quiescent Sun with  HAWC**  |\n",
       "|| <mark>R. Alfaro</mark>, et al. -- incl., <mark>R. Diaz Hernandez</mark>, <mark>S. Hernandez</mark>, <mark>J. Lee</mark>, <mark>J.T. Linnemann</mark> |\n",
       "|*Appeared on*| *2022-12-05*|\n",
       "|*Comments*| *15 pages, 8 figures*|\n",
       "|**Abstract**| We report the first detection of a TeV gamma-ray flux from the solar disk (6.3$\\sigma$), based on 6.1 years of data from the High Altitude Water Cherenkov (HAWC) observatory. The 0.5--2.6 TeV spectrum is well fit by a power law, dN/dE = $A (E/1 \\text{ TeV})^{-\\gamma}$, with $A = (1.6 \\pm 0.3) \\times 10^{-12}$ TeV$^{-1}$ cm$^{-2}$ s$^{-1}$ and $\\gamma = -3.62 \\pm 0.14$. The flux shows a strong indication of anticorrelation with solar activity. These results extend the bright, hard GeV emission from the disk observed with Fermi-LAT, seemingly due to hadronic Galactic cosmic rays showering on nuclei in the solar atmosphere. However, current theoretical models are unable to explain the details of how solar magnetic fields shape these interactions. HAWC's TeV detection thus deepens the mysteries of the solar-disk emission. |\n",
       "|<p style=\"color:red\"> **ERROR** </p>| <p style=\"color:red\">latex error list index out of range</p> |"
      ],
      "text/plain": [
       "<IPython.core.display.Markdown object>"
      ]
     },
     "metadata": {},
     "output_type": "display_data"
    }
   ],
   "source": [
    "import datetime\n",
    "today = str(datetime.date.today())\n",
    "logfile = f\"_build/html/logs/log-{today}.md\"\n",
    "\n",
    "\n",
    "with open(logfile, 'w') as logs:\n",
    "    # Success\n",
    "    logs.write(f'# Arxiv on Deck 2: Logs - {today}\\n\\n')\n",
    "    logs.write(\"\"\"* Arxiv had {0:,d} new papers\\n\"\"\".format(len(new_papers)))\n",
    "    logs.write(\"\"\"    * {0:,d} with possible author matches\\n\\n\"\"\".format(len(candidates)))\n",
    "    logs.write(\"## Sucessful papers\\n\\n\")\n",
    "    display(Markdown(\"## Successful papers\"))\n",
    "    success = [k[0] for k in documents]\n",
    "    for candid in candidates:\n",
    "        if candid['identifier'].split(':')[-1] in success:\n",
    "            display(candid)\n",
    "            logs.write(candid.generate_markdown_text() + '\\n\\n')\n",
    "\n",
    "    ## failed\n",
    "    logs.write(\"## Failed papers\\n\\n\")\n",
    "    display(Markdown(\"## Failed papers\"))\n",
    "    failed = sorted(failed, key=lambda x: x[1])\n",
    "    current_reason = \"\"\n",
    "    for paper, reason in failed:\n",
    "        if 'affiliation' in reason:\n",
    "            color = 'green'\n",
    "        else:\n",
    "            color = 'red'\n",
    "        data = Markdown(\n",
    "                paper.generate_markdown_text() + \n",
    "                f'\\n|<p style=\"color:{color:s}\"> **ERROR** </p>| <p style=\"color:{color:s}\">{reason:s}</p> |'\n",
    "               )\n",
    "        if reason != current_reason:\n",
    "            logs.write(f'### {reason:s} \\n\\n')\n",
    "            current_reason = reason\n",
    "        logs.write(data.data + '\\n\\n')\n",
    "        \n",
    "        # only display here the important errors (all in logs)\n",
    "        # if color in ('red',):\n",
    "        display(data)"
   ]
  },
  {
   "cell_type": "markdown",
   "id": "472d20ee",
   "metadata": {
    "papermill": {
     "duration": 0.011009,
     "end_time": "2022-12-05T04:13:37.884219",
     "exception": false,
     "start_time": "2022-12-05T04:13:37.873210",
     "status": "completed"
    },
    "tags": []
   },
   "source": [
    "## Export documents\n",
    "\n",
    "We now write the .md files and export relevant images"
   ]
  },
  {
   "cell_type": "code",
   "execution_count": 7,
   "id": "d426aed9",
   "metadata": {
    "execution": {
     "iopub.execute_input": "2022-12-05T04:13:37.908673Z",
     "iopub.status.busy": "2022-12-05T04:13:37.908316Z",
     "iopub.status.idle": "2022-12-05T04:13:37.917275Z",
     "shell.execute_reply": "2022-12-05T04:13:37.916230Z"
    },
    "papermill": {
     "duration": 0.022457,
     "end_time": "2022-12-05T04:13:37.918772",
     "exception": false,
     "start_time": "2022-12-05T04:13:37.896315",
     "status": "completed"
    },
    "tags": []
   },
   "outputs": [],
   "source": [
    "def export_markdown_summary(md: str, md_fname:str, directory: str):\n",
    "    \"\"\"Export MD document and associated relevant images\"\"\"\n",
    "    import os\n",
    "    import shutil\n",
    "    import re\n",
    "\n",
    "    if (os.path.exists(directory) and not os.path.isdir(directory)):\n",
    "        raise RuntimeError(f\"a non-directory file exists with name {directory:s}\")\n",
    "\n",
    "    if (not os.path.exists(directory)):\n",
    "        print(f\"creating directory {directory:s}\")\n",
    "        os.mkdir(directory)\n",
    "\n",
    "    fig_fnames = (re.compile(r'\\[Fig.*\\]\\((.*)\\)').findall(md) + \n",
    "                  re.compile(r'\\<img src=\"([^>\\s]*)\"[^>]*/>').findall(md))\n",
    "    for fname in fig_fnames:\n",
    "        if 'http' in fname:\n",
    "            # No need to copy online figures\n",
    "            continue\n",
    "        destdir = os.path.join(directory, os.path.dirname(fname))\n",
    "        destfname = os.path.join(destdir, os.path.basename(fname))\n",
    "        try:\n",
    "            os.makedirs(destdir)\n",
    "        except FileExistsError:\n",
    "            pass\n",
    "        shutil.copy(fname, destfname)\n",
    "    with open(os.path.join(directory, md_fname), 'w') as fout:\n",
    "        fout.write(md)\n",
    "    print(\"exported in \", os.path.join(directory, md_fname))\n",
    "    [print(\"    + \" + os.path.join(directory,fk)) for fk in fig_fnames]"
   ]
  },
  {
   "cell_type": "code",
   "execution_count": 8,
   "id": "014d04a4",
   "metadata": {
    "execution": {
     "iopub.execute_input": "2022-12-05T04:13:37.941604Z",
     "iopub.status.busy": "2022-12-05T04:13:37.941032Z",
     "iopub.status.idle": "2022-12-05T04:13:38.000638Z",
     "shell.execute_reply": "2022-12-05T04:13:37.999911Z"
    },
    "papermill": {
     "duration": 0.073196,
     "end_time": "2022-12-05T04:13:38.002521",
     "exception": false,
     "start_time": "2022-12-05T04:13:37.929325",
     "status": "completed"
    },
    "tags": []
   },
   "outputs": [
    {
     "name": "stdout",
     "output_type": "stream",
     "text": [
      "exported in  _build/html/2212.00806.md\n",
      "    + _build/html/tmp_2212.00806/./lzsel_map_0.png\n",
      "    + _build/html/tmp_2212.00806/./lzsel_map_1.png\n",
      "    + _build/html/tmp_2212.00806/./lzsel_map_2.png\n",
      "    + _build/html/tmp_2212.00806/./lzsel_sim_map.png\n",
      "    + _build/html/tmp_2212.00806/./mike_orbits.png\n",
      "    + _build/html/tmp_2212.00806/./mike_iom.png\n",
      "    + _build/html/tmp_2212.00806/./ovo_rrl_map.png\n",
      "    + _build/html/tmp_2212.00806/./allsky.png\n",
      "exported in  _build/html/2212.00811.md\n",
      "    + _build/html/tmp_2212.00811/./ngc628_jwst_bubble_location-arms-inset3.png\n",
      "    + _build/html/tmp_2212.00811/./ngc628_rgb-bold.png\n",
      "    + _build/html/tmp_2212.00811/./angle_offset-draft2.png\n",
      "exported in  _build/html/2212.00812.md\n",
      "    + _build/html/tmp_2212.00812/./figures/fig03_v2.png\n",
      "    + _build/html/tmp_2212.00812/./figures/fig07.png\n",
      "    + _build/html/tmp_2212.00812/./figures/fig02_v2_compressed.png\n",
      "exported in  _build/html/2212.01281.md\n",
      "    + _build/html/tmp_2212.01281/./pictures/dishomo.jpg\n",
      "    + _build/html/tmp_2212.01281/./pictures/trapping_100.png\n",
      "    + _build/html/tmp_2212.01281/./pictures/homo_10.png\n",
      "exported in  _build/html/2212.01291.md\n",
      "    + _build/html/tmp_2212.01291/./optical_constants.png\n",
      "    + _build/html/tmp_2212.01291/./model_opac_1.png\n",
      "    + _build/html/tmp_2212.01291/./model_opac_2.png\n"
     ]
    }
   ],
   "source": [
    "for paper_id, md in documents:\n",
    "    export_markdown_summary(md, f\"{paper_id:s}.md\", '_build/html/')"
   ]
  },
  {
   "cell_type": "markdown",
   "id": "f087a0a7",
   "metadata": {
    "papermill": {
     "duration": 0.010363,
     "end_time": "2022-12-05T04:13:38.023654",
     "exception": false,
     "start_time": "2022-12-05T04:13:38.013291",
     "status": "completed"
    },
    "tags": []
   },
   "source": [
    "## Display the papers\n",
    "\n",
    "Not necessary but allows for a quick check."
   ]
  },
  {
   "cell_type": "code",
   "execution_count": 9,
   "id": "fd25f625",
   "metadata": {
    "execution": {
     "iopub.execute_input": "2022-12-05T04:13:38.049120Z",
     "iopub.status.busy": "2022-12-05T04:13:38.048786Z",
     "iopub.status.idle": "2022-12-05T04:13:38.062386Z",
     "shell.execute_reply": "2022-12-05T04:13:38.061613Z"
    },
    "papermill": {
     "duration": 0.029896,
     "end_time": "2022-12-05T04:13:38.065687",
     "exception": false,
     "start_time": "2022-12-05T04:13:38.035791",
     "status": "completed"
    },
    "scrolled": false,
    "tags": []
   },
   "outputs": [
    {
     "data": {
      "text/markdown": [
       "<div class=\"macros\" style=\"visibility:hidden;\">\n",
       "$\\newcommand{\\ensuremath}{}$\n",
       "$\\newcommand{\\xspace}{}$\n",
       "$\\newcommand{\\object}[1]{\\texttt{#1}}$\n",
       "$\\newcommand{\\farcs}{{.}''}$\n",
       "$\\newcommand{\\farcm}{{.}'}$\n",
       "$\\newcommand{\\arcsec}{''}$\n",
       "$\\newcommand{\\arcmin}{'}$\n",
       "$\\newcommand{\\ion}[2]{#1#2}$\n",
       "$\\newcommand{\\textsc}[1]{\\textrm{#1}}$\n",
       "$\\newcommand{\\hl}[1]{\\textrm{#1}}$\n",
       "$\\newcommand{\\vdag}{(v)^\\dagger}$\n",
       "$\\newcommand$\n",
       "$\\newcommand$\n",
       "$\\newcommand{\\kms}{km s^{-1}}$\n",
       "$\\newcommand$\n",
       "$\\newcommand$</div>\n",
       "\n",
       "<div class=\"macros\" style=\"visibility:hidden;\">\n",
       "$\\newcommand{$\\ensuremath$}{}$\n",
       "$\\newcommand{$\\xspace$}{}$\n",
       "$\\newcommand{$\\object$}[1]{\\texttt{#1}}$\n",
       "$\\newcommand{$\\farcs$}{{.}''}$\n",
       "$\\newcommand{$\\farcm$}{{.}'}$\n",
       "$\\newcommand{$\\arcsec$}{''}$\n",
       "$\\newcommand{$\\arcmin$}{'}$\n",
       "$\\newcommand{$\\ion$}[2]{#1#2}$\n",
       "$\\newcommand{$\\textsc$}[1]{\\textrm{#1}}$\n",
       "$\\newcommand{$\\hl$}[1]{\\textrm{#1}}$\n",
       "$\\newcommand{$\\vdag$}{(v)^\\dagger}$\n",
       "$\\newcommand$\n",
       "$\\newcommand$\n",
       "$\\newcommand{$\\kms$}{km s^{-1}}$\n",
       "$\\newcommand$\n",
       "$\\newcommand$</div>\n",
       "\n",
       "\n",
       "\n",
       "<div id=\"title\">\n",
       "\n",
       "# Distant Echoes of the Milky Way's Last Major Merger\n",
       "\n",
       "</div>\n",
       "<div id=\"comments\">\n",
       "\n",
       "[![arXiv](https://img.shields.io/badge/arXiv-2212.00806-b31b1b.svg)](https://arxiv.org/abs/2212.00806)<mark>Appeared on: 2022-12-05</mark> - _19 pages, 10 figures. Submitted to ApJ_\n",
       "\n",
       "</div>\n",
       "<div id=\"authors\">\n",
       "\n",
       "Vedant Chandra, et al. -- incl., <mark>Hans-Walter Rix</mark>, <mark>Dennis~Zaritsky</mark>\n",
       "\n",
       "</div>\n",
       "<div id=\"abstract\">\n",
       "\n",
       "**Abstract:** \\noindentThe majority of the Milky Way's stellar halo consists of debris from our Galaxy's last major merger, the\\textit{Gaia}-Sausage-Enceladus (GSE).In the past few years, stars from GSE have been kinematically and chemically studied in the inner$30$kpc of our Galaxy.However, simulations predict that accreted debris could lie at greater distances, forming substructures in the outer halo.Here we derive metallicities and distances using\\textit{Gaia}DR3 XP spectra for an all-sky sample of luminous red giant stars, and map the outer halo with kinematics and metallicities out to$100$kpc.We obtain follow-up spectra of stars in two strong overdensities --- including the previously identified Outer Virgo Overdensity --- and find them to be relatively metal-rich and on predominantly retrograde orbits, matching predictions from simulations of the GSE merger.We argue that these are apocentric shells of GSE debris, forming$60-90$kpc counterparts to the$15-20$kpc shells that are known to dominate the inner stellar halo.Extending our search across the sky with literature radial velocities, we find evidence for a coherent stream of retrograde stars encircling the Milky Way from$50-100$kpc, in the same plane as the Sagittarius Stream but moving in the opposite direction.These are the first discoveries of distant and structured imprints from the GSE merger, cementing the picture of an inclined and retrograde collision that built up our Galaxy's stellar halo.\n",
       "\n",
       "</div>\n",
       "\n",
       "<div id=\"div_fig1\">\n",
       "\n",
       "<img src=\"tmp_2212.00806/./lzsel_map_0.png\" alt=\"Fig7.1\" width=\"25%\"/><img src=\"tmp_2212.00806/./lzsel_map_1.png\" alt=\"Fig7.2\" width=\"25%\"/><img src=\"tmp_2212.00806/./lzsel_map_2.png\" alt=\"Fig7.3\" width=\"25%\"/><img src=\"tmp_2212.00806/./lzsel_sim_map.png\" alt=\"Fig7.4\" width=\"25%\"/>\n",
       "\n",
       "**Figure 7. -** On-sky distribution of distant 6D giant stars, split into three subsets of azimuthal angular momentum $L_{\\mathrm{Z}}$ in units of $10^3 \\text{kpc km s}^{-1}$: stars on prograde orbits, stars on isotropic orbits, and stars with retrograde orbits (see Figure \\ref{fig:lz_selection}). The selection function of the underlying spectroscopic surveys, and our Galactic latitude cut to mask out the MW disk, is shaded in grey. Sagittarius stream stars selected via $L_\\mathrm{Y}$ are shown in purple. Whereas the stars with prograde and isotropic orbits are uniformly distributed across the survey footprints --- apart from Sagittarius, which dominates these panels --- the retrograde stars show a suggestive track on the sky, to which we fit the great circle shown in red. This track coincides with the MIKE-N (Outer Virgo Overdensity) and MIKE-S (Pisces Overdensity) stars, whose median positions are overlaid. A red (purple) arrow indicates the on-sky orbital motion of the retrograde (Sagittarius) stars, emphasizing that the spatially overlapping debris moves in opposite directions. In the bottom right panel we show GSE-only particles from the merger simulation of \\citetalias{Naidu2021}, selected to lie beyond 40 kpc. (*fig:lz_maps*)\n",
       "\n",
       "</div>\n",
       "<div id=\"div_fig2\">\n",
       "\n",
       "<img src=\"tmp_2212.00806/./mike_orbits.png\" alt=\"Fig2.1\" width=\"50%\"/><img src=\"tmp_2212.00806/./mike_iom.png\" alt=\"Fig2.2\" width=\"50%\"/>\n",
       "\n",
       "**Figure 2. -** Top: Future (past) orbits for the MIKE-N (MIKE-S) stars targeted in the Outer Virgo Overdensity (Pisces Overdensity), integrated over 1 Gyr with arrows denoting the general direction of these orbits on-sky. Bottom: MIKE targets in $L_\\mathrm{Z}$-$E_{\\mathrm{tot}}$ space, with the \\textit{Gaia} XP 6D giant sample shown for comparison (black dots). The density distribution for \\citetalias{Naidu2021} GSE simulation particles selected from analogous sky regions are shown using contours with corresponding colors. The MIKE stars in both hemispheres are overwhelmingly retrograde. Note that that the MIKE-S stars had a proper motion selection criterion that boosts the likelihood of being retrograde, whereas the MIKE-N stars were blindly targeted within the Outer Virgo Overdensity ($\\S$\\ref{sec:analysis:ovo:specfollow}). (*fig:mike_iom*)\n",
       "\n",
       "</div>\n",
       "<div id=\"div_fig3\">\n",
       "\n",
       "<img src=\"tmp_2212.00806/./ovo_rrl_map.png\" alt=\"Fig6.1\" width=\"50%\"/><img src=\"tmp_2212.00806/./allsky.png\" alt=\"Fig6.2\" width=\"50%\"/>\n",
       "\n",
       "**Figure 6. -** The spatial distribution of outer halo substructure as seen by RRL and RGB stars. Top: All-sky distribution of \\textit{Gaia} DR3 RRL beyond 40 kpc, with the overdensities studied in this work highlighted by red and blue boxes.\n",
       "    Bottom: Density distribution of our all-sky \\textit{Gaia} XP sample of RGB stars beyond 40 kpc. We overlay our spectroscopic targets in the MIKE-North (Outer Virgo Overdensity) and MIKE-South (Pisces Overdensity) regions. There are observed overdensities of RRL and RGB stars in both these locations, albeit weaker and more extended in the south. (*fig:allsky*)\n",
       "\n",
       "</div>"
      ],
      "text/plain": [
       "<IPython.core.display.Markdown object>"
      ]
     },
     "metadata": {},
     "output_type": "display_data"
    },
    {
     "data": {
      "text/markdown": [
       "<div class=\"macros\" style=\"visibility:hidden;\">\n",
       "$\\newcommand{\\ensuremath}{}$\n",
       "$\\newcommand{\\xspace}{}$\n",
       "$\\newcommand{\\object}[1]{\\texttt{#1}}$\n",
       "$\\newcommand{\\farcs}{{.}''}$\n",
       "$\\newcommand{\\farcm}{{.}'}$\n",
       "$\\newcommand{\\arcsec}{''}$\n",
       "$\\newcommand{\\arcmin}{'}$\n",
       "$\\newcommand{\\ion}[2]{#1#2}$\n",
       "$\\newcommand{\\textsc}[1]{\\textrm{#1}}$\n",
       "$\\newcommand{\\hl}[1]{\\textrm{#1}}$\n",
       "$\\newcommand{\\vdag}{(v)^\\dagger}$\n",
       "$\\newcommand$\n",
       "$\\newcommand$\n",
       "$\\newcommand{\\msun}{M_\\odot}$\n",
       "$\\newcommand{\\HST}{{\\it HST}}$\n",
       "$\\newcommand{\\JWST}{{\\it JWST}}$\n",
       "$\\newcommand{\\micron}{\\mum}$\n",
       "$\\newcommand{\\}{pt}$</div>\n",
       "\n",
       "<div class=\"macros\" style=\"visibility:hidden;\">\n",
       "$\\newcommand{$\\ensuremath$}{}$\n",
       "$\\newcommand{$\\xspace$}{}$\n",
       "$\\newcommand{$\\object$}[1]{\\texttt{#1}}$\n",
       "$\\newcommand{$\\farcs$}{{.}''}$\n",
       "$\\newcommand{$\\farcm$}{{.}'}$\n",
       "$\\newcommand{$\\arcsec$}{''}$\n",
       "$\\newcommand{$\\arcmin$}{'}$\n",
       "$\\newcommand{$\\ion$}[2]{#1#2}$\n",
       "$\\newcommand{$\\textsc$}[1]{\\textrm{#1}}$\n",
       "$\\newcommand{$\\hl$}[1]{\\textrm{#1}}$\n",
       "$\\newcommand{$\\vdag$}{(v)^\\dagger}$\n",
       "$\\newcommand$\n",
       "$\\newcommand$\n",
       "$\\newcommand{$\\msun$}{M_\\odot}$\n",
       "$\\newcommand{$\\HST$}{{\\it HST}}$\n",
       "$\\newcommand{$\\JWST$}{{\\it JWST}}$\n",
       "$\\newcommand{$\\micron$}{\\mum}$\n",
       "$\\newcommand{\\}{pt}$</div>\n",
       "\n",
       "\n",
       "\n",
       "<div id=\"title\">\n",
       "\n",
       "#  First Results: A statistical view on bubble evolution in NGC 628\n",
       "\n",
       "</div>\n",
       "<div id=\"comments\">\n",
       "\n",
       "[![arXiv](https://img.shields.io/badge/arXiv-2212.00811-b31b1b.svg)](https://arxiv.org/abs/2212.00811)<mark>Appeared on: 2022-12-05</mark> - _25 pages total, 13 Figures and 1 Table. Accepted for publication in ApJL as part of a PHANGS-JWST First Results Focus issue_\n",
       "\n",
       "</div>\n",
       "<div id=\"authors\">\n",
       "\n",
       "Elizabeth J. Watkins, et al. -- incl., <mark><mark>Kiana F. Henny</mark></mark>, <mark><mark>Kathryn Kreckel</mark></mark>, <mark><mark>Frank Bigiel</mark></mark>, <mark><mark>Jonathan Henshaw</mark></mark>, <mark><mark>Cinthya N. Herrera</mark></mark>, <mark><mark>Annie Hughes</mark></mark>, <mark><mark>Daizhong Liu</mark></mark>, <mark><mark>Eva Schinnerer</mark></mark>\n",
       "\n",
       "</div>\n",
       "<div id=\"abstract\">\n",
       "\n",
       "**Abstract:** The first$\\JWST$observations of nearby galaxies have unveiled a rich population of bubbles that trace the stellar feedback mechanisms responsible for their creation. Studying these bubbles therefore allows us to chart the interaction between stellar feedback and the interstellar medium, and the larger galactic flows needed to regulate star formation processes globally. We present the first catalog of bubbles in NGC 628, visually identified using MIRI F770W PHANGS--$\\JWST$observations, and use them to statistically evaluate bubble characteristics. We classify 1694 structures as bubbles with radii between 6--552 pc. Of these, 31\\%contain at least one smaller bubble at their edge, indicating that previous generations of star formation have a local impact on where new stars form. On large scales, most bubbles lie near a spiral arm, and their radii increase downstream compared to upstream. Furthermore, bubbles are elongated in a similar direction to the spiral arm ridge-line.These azimuthal trends demonstrate that star formation is intimately connected to the spiral arm passage. Finally, the bubble size distribution follows a power-law of index$p=-2.2\\pm0.1$, which is slightly shallower than the theoretical value by 1--3.5$\\sigma$that did not include bubble mergers. The fraction of bubbles identified within the shells of larger bubbles suggests that bubble merging is a common process. Our analysis therefore allows us to quantify the number of star-forming regions that are influenced by an earlier generation, and the role feedback processes have in setting the global star formation rate. With the full PHANGS--$\\JWST$sample, we can do this for more galaxies.\n",
       "\n",
       "</div>\n",
       "\n",
       "<div id=\"div_fig1\">\n",
       "\n",
       "<img src=\"tmp_2212.00811/./ngc628_jwst_bubble_location-arms-inset3.png\" alt=\"Fig8\" width=\"100%\"/>\n",
       "\n",
       "**Figure 8. -** \\textbf{Bubble locations identified in NGC 628 with multi-scale view zoom-ins providing a more detailed view}. \\textbf{Left}: MIRI F770W band map of NGC 628 using a square root intensity stretch. Cyan ellipses show the location of the 1694 bubbles identified. Labeled lines indicate position of spiral arms derived by skeletonizing the arm environment masks from \\cite{querejeta_stellar_2021}. Solid circle markers on arm spines indicate the start position of the arm. White boxes labeled \\textit{a} and \\textit{b} indicate locations of close-up panels on right side of this figure. \\textbf{Right}: Same RGB as Figure \\ref{fig:bub_rgb} but focused on the regions indicated on the left panel. Bars at bottom left indicates the physical size scale.  (*fig:bub_loc*)\n",
       "\n",
       "</div>\n",
       "<div id=\"div_fig2\">\n",
       "\n",
       "<img src=\"tmp_2212.00811/./ngc628_rgb-bold.png\" alt=\"Fig6\" width=\"100%\"/>\n",
       "\n",
       "**Figure 6. -** {\\bf Multi-scale bubble population in NGC 628 revealed with $\\JWST$ observations}. RGB illustration towards the center of NGC 628 highlighting bubble features and the bands used in their identification. Red traces MIRI F770W observations, green traces MUSE H$\\alpha$ observations and blue traces \\textit{B}-band $\\HST$ observations. White scalebar indicates physical size equal to 1 kpc. (*fig:bub_rgb*)\n",
       "\n",
       "</div>\n",
       "<div id=\"div_fig3\">\n",
       "\n",
       "<img src=\"tmp_2212.00811/./angle_offset-draft2.png\" alt=\"Fig2\" width=\"100%\"/>\n",
       "\n",
       "**Figure 2. -** \\textbf{Offset angles between elliptical bubbles and the spiral arm tangent angle.}\\textbf{Top}: Solid black and blue lines with apertures show offset angles for bubbles with aspect ratios $>1$ and $>1.15$, respectively, for bubbles with an uncertainty in measured angle of $\\pm\\ang{5;;}$, resulting in a KDE-like distribution. The blue line has been re-normalized to match the area of the black line (i.e., from 301 bubbles to 654 bubbles) to make comparisons easier. Translucent regions indicate the uncertainty. Dashed red line shows the distribution of offset angles if bubbles have random PAs. \\textbf{Bottom}: Same as blue line in top panel (i.e., AR$>$1.15) but for bubbles $>40$ pc upstream (black) and downstream (purple) from an arm. (*fig:ang_off*)\n",
       "\n",
       "</div>"
      ],
      "text/plain": [
       "<IPython.core.display.Markdown object>"
      ]
     },
     "metadata": {},
     "output_type": "display_data"
    },
    {
     "data": {
      "text/markdown": [
       "<div class=\"macros\" style=\"visibility:hidden;\">\n",
       "$\\newcommand{\\ensuremath}{}$\n",
       "$\\newcommand{\\xspace}{}$\n",
       "$\\newcommand{\\object}[1]{\\texttt{#1}}$\n",
       "$\\newcommand{\\farcs}{{.}''}$\n",
       "$\\newcommand{\\farcm}{{.}'}$\n",
       "$\\newcommand{\\arcsec}{''}$\n",
       "$\\newcommand{\\arcmin}{'}$\n",
       "$\\newcommand{\\ion}[2]{#1#2}$\n",
       "$\\newcommand{\\textsc}[1]{\\textrm{#1}}$\n",
       "$\\newcommand{\\hl}[1]{\\textrm{#1}}$\n",
       "$\\newcommand{\\HII}{\\ion{H}{II}}$\n",
       "$\\newcommand{\\HI}{\\ion{H}{I}}$\n",
       "$\\newcommand{\\Ha}{H{\\alpha}}$\n",
       "$\\newcommand{\\kms}{\\rm km s^{-1}}$\n",
       "$\\newcommand{\\JWST}{\\rm{\\it JWST}}$\n",
       "$\\newcommand{\\HST}{\\rm{\\it HST}}$\n",
       "$\\newcommand{\\Astrosat}{\\rm{\\it Astrosat}}$\n",
       "$\\newcommand{\\ch}[1]{\\textcolor{black}{ #1}}$\n",
       "$\\newcommand{\\namea}{\\rm The Phantom Void}$\n",
       "$\\newcommand{\\nameb}{\\rm The Precursor Phantom Void}$\n",
       "$\\newcommand{\\}{kms}$\n",
       "$\\newcommand{\\}{Kkms}$\n",
       "$\\newcommand{\\}{msun}$\n",
       "$\\newcommand{\\}{lsun}$\n",
       "$\\newcommand{\\}{solyr}$\n",
       "$\\newcommand{\\}{dyncm}$\n",
       "$\\newcommand{\\}{ergs}$\n",
       "$\\newcommand{\\}{cmsq}$\n",
       "$\\newcommand{\\}{cmcb}$\n",
       "$\\newcommand{\\}{gcmsq}$\n",
       "$\\newcommand{\\}{gcmcb}$\n",
       "$\\newcommand{\\}{Kcmcb}$\n",
       "$\\newcommand{\\}{ntdp}$</div>\n",
       "\n",
       "<div class=\"macros\" style=\"visibility:hidden;\">\n",
       "$\\newcommand{$\\ensuremath$}{}$\n",
       "$\\newcommand{$\\xspace$}{}$\n",
       "$\\newcommand{$\\object$}[1]{\\texttt{#1}}$\n",
       "$\\newcommand{$\\farcs$}{{.}''}$\n",
       "$\\newcommand{$\\farcm$}{{.}'}$\n",
       "$\\newcommand{$\\arcsec$}{''}$\n",
       "$\\newcommand{$\\arcmin$}{'}$\n",
       "$\\newcommand{$\\ion$}[2]{#1#2}$\n",
       "$\\newcommand{$\\textsc$}[1]{\\textrm{#1}}$\n",
       "$\\newcommand{$\\hl$}[1]{\\textrm{#1}}$\n",
       "$\\newcommand{$\\HII$}{$\\ion${H}{II}}$\n",
       "$\\newcommand{$\\HI$}{$\\ion${H}{I}}$\n",
       "$\\newcommand{$\\Ha$}{H{\\alpha}}$\n",
       "$\\newcommand{$\\kms$}{\\rm km s^{-1}}$\n",
       "$\\newcommand{$\\JWST$}{\\rm{\\it JWST}}$\n",
       "$\\newcommand{$\\HST$}{\\rm{\\it HST}}$\n",
       "$\\newcommand{$\\Astrosat$}{\\rm{\\it Astrosat}}$\n",
       "$\\newcommand{$\\ch$}[1]{\\textcolor{black}{ #1}}$\n",
       "$\\newcommand{$\\namea$}{\\rm The Phantom Void}$\n",
       "$\\newcommand{$\\nameb$}{\\rm The Precursor Phantom Void}$\n",
       "$\\newcommand{\\}{kms}$\n",
       "$\\newcommand{\\}{Kkms}$\n",
       "$\\newcommand{\\}{msun}$\n",
       "$\\newcommand{\\}{lsun}$\n",
       "$\\newcommand{\\}{solyr}$\n",
       "$\\newcommand{\\}{dyncm}$\n",
       "$\\newcommand{\\}{ergs}$\n",
       "$\\newcommand{\\}{cmsq}$\n",
       "$\\newcommand{\\}{cmcb}$\n",
       "$\\newcommand{\\}{gcmsq}$\n",
       "$\\newcommand{\\}{gcmcb}$\n",
       "$\\newcommand{\\}{Kcmcb}$\n",
       "$\\newcommand{\\}{ntdp}$</div>\n",
       "\n",
       "\n",
       "\n",
       "<div id=\"title\">\n",
       "\n",
       "# PHANGS-JWST First Results: Multi-wavelength view of feedback-driven bubbles (The Phantom Voids) across NGC 628\n",
       "\n",
       "</div>\n",
       "<div id=\"comments\">\n",
       "\n",
       "[![arXiv](https://img.shields.io/badge/arXiv-2212.00812-b31b1b.svg)](https://arxiv.org/abs/2212.00812)<mark>Appeared on: 2022-12-05</mark> - _12 pages total, 8 figures, and 1 table. Accepted as part of a PHANGS-JWST Focus Issue to appear in ApJ_\n",
       "\n",
       "</div>\n",
       "<div id=\"authors\">\n",
       "\n",
       "Ashley T. Barnes, et al. -- incl., <mark><mark>Kathryn Kreckel</mark></mark>, <mark><mark>Frank Bigiel</mark></mark>, <mark><mark>Janice C. Lee</mark></mark>, <mark><mark>Eva Schinnerer</mark></mark>, <mark><mark>Jonathan Henshaw</mark></mark>, <mark><mark>Jing Li</mark></mark>, <mark><mark>Daizhong Liu</mark></mark>, <mark><mark>Lukas Neumann</mark></mark>, <mark><mark>Francesca Pinna</mark></mark>\n",
       "\n",
       "</div>\n",
       "<div id=\"abstract\">\n",
       "\n",
       "**Abstract:** We present a high-resolution view of bubbles within The Phantom Galaxy (NGC 628); a nearby ($\\sim$10 Mpc), star-forming ($\\sim$2\\msunyr$^{-1}$), face-on ($i$$\\sim$9$^{\\circ}$) grand-design spiral galaxy.With new data obtained as part of the PHANGS-$\\JWST$treasury program, we perform a detailed case-study of two regions of interest, one of which contains the largest and most prominent bubble in the galaxy  ($\\namea$; over 1 kpc in diameter), and the other being a smaller region that may be the precursor to such a large bubble ($\\nameb$).When comparing to matched resolution$\\Ha$observations from the Hubble Space Telescope ($\\HST$), we see that the ionized gas is brightest in the shells of both bubbles, and is coincident with the youngest ($\\sim$1 Myr) and most massive ($\\sim$10$^{5}$\\msun) stellar associations.We also find an older generation ($\\sim$20 Myr) of stellar associations is present within the bubble of$\\namea$.From our kinematic analysis of the HI, H$_2$(CO) and HII gas across$\\namea$, we infer a high expansion speed of around 15 to 50$\\kms$.The large size and high expansion speed of$\\namea$suggest that the driving mechanism is sustained stellar feedback due to multiple mechanisms, where early feedback first cleared a bubble (as we observe now in$\\nameb$), and since then SNe have been exploding within the cavity, and have accelerated the shell.Finally, comparison to simulations shows a striking resemblance to our$\\JWST$observations, and suggests that such large-scale stellar feedback-driven bubbles should be common within other galaxies.\n",
       "\n",
       "</div>\n",
       "\n",
       "<div id=\"div_fig1\">\n",
       "\n",
       "<img src=\"tmp_2212.00812/./figures/fig03_v2.png\" alt=\"Fig7\" width=\"100%\"/>\n",
       "\n",
       "**Figure 7. -** {\\bf Comparison of a feedback-driven bubble, and its host stellar population for the Phantom Void and the Precursor Phantom Void (also shown in Fig. \\ref{fig2}).} From left to right in upper panels, we show the $\\JWST$ 7.7 \\micron, $\\HST$$\\Ha$ and the near-UV (F275W) filters. Overlaid as colored contours on the upper right panel is the age of the stellar associations (at a scale of 32 pc; see \\citealp{Deger2020}). From left to right in center panels are the {\\it Spitzer 8 \\micron}\\citep{Dale2009}, MUSE $\\Ha$\\citep{Emsellem2022}, and Astrosat NUV (Hassani et al. in prep) observations. In the bottom panels are the ALMA CO \\citep{leroy_phangs-alma_2021}, VLA HI \\citep{Walter2008}, and HST broadband \\citep{Lee2021} observations.\n",
       "    The white dashed line on all panels denotes the bubble and shell of each region (see Fig. \\ref{fig5}). We find that young and high-mass stellar associations ($<$ 20 Myr; $>$10$^{5}$\\msun) exist within the bubble (particularly towards the boundaries), highlighting these as good candidates for driving the bubble expansion. (*fig3*)\n",
       "\n",
       "</div>\n",
       "<div id=\"div_fig2\">\n",
       "\n",
       "<img src=\"tmp_2212.00812/./figures/fig07.png\" alt=\"Fig4\" width=\"100%\"/>\n",
       "\n",
       "**Figure 4. -** {\\bf Distribution of intensity and stellar population in the Phantom Void (see Fig. \\ref{fig3}).} The upper panel shows the intensity distribution of the $\\JWST$ 7.7 \\micron,  continuum subtracted $\\Ha$ emission, $\\HST$ NUV, ALMA CO, and VLA HI emission, as measured radially from the center of the bubble (see Fig. \\ref{fig3}). We show the 99$^{\\rm th}$ percentile of the intensity in each radial bin, normalized to the value of the maximum bin (this percentile is chosen instead e.g. the mean value to better highlight where the emission distributions peak). The bottom panel shows the radial age distribution of the stellar association catalog. The size of the points indicate the mass of the stellar associations.  In both panels we highlight the position of the $\\nameb$. We find evidence that younger and more higher-mass clusters are preferentially located within the shell, with respect to inside the bubble. (*fig5*)\n",
       "\n",
       "</div>\n",
       "<div id=\"div_fig3\">\n",
       "\n",
       "<img src=\"tmp_2212.00812/./figures/fig02_v2_compressed.png\" alt=\"Fig6\" width=\"100%\"/>\n",
       "\n",
       "**Figure 6. -** {\\bf The prominent bubble structures across The Phantom Galaxy (Messier 74 or NGC 628).} In all panels, we show an image produced from the 770W (blue), 1000W (green), and 1130W (red) band filters from the $\\JWST$(Lee et al. in prep), and overlaid in orange is the continuum subtracted $\\HST$-$\\Ha$. The faded circles and ellipses show the positions of the bubbles from \\cite{WATKINS_PHANGSJWST}. (*fig2*)\n",
       "\n",
       "</div>"
      ],
      "text/plain": [
       "<IPython.core.display.Markdown object>"
      ]
     },
     "metadata": {},
     "output_type": "display_data"
    },
    {
     "data": {
      "text/markdown": [
       "<div class=\"macros\" style=\"visibility:hidden;\">\n",
       "$\\newcommand{\\ensuremath}{}$\n",
       "$\\newcommand{\\xspace}{}$\n",
       "$\\newcommand{\\object}[1]{\\texttt{#1}}$\n",
       "$\\newcommand{\\farcs}{{.}''}$\n",
       "$\\newcommand{\\farcm}{{.}'}$\n",
       "$\\newcommand{\\arcsec}{''}$\n",
       "$\\newcommand{\\arcmin}{'}$\n",
       "$\\newcommand{\\ion}[2]{#1#2}$\n",
       "$\\newcommand{\\textsc}[1]{\\textrm{#1}}$\n",
       "$\\newcommand{\\hl}[1]{\\textrm{#1}}$</div>\n",
       "\n",
       "<div class=\"macros\" style=\"visibility:hidden;\">\n",
       "$\\newcommand{$\\ensuremath$}{}$\n",
       "$\\newcommand{$\\xspace$}{}$\n",
       "$\\newcommand{$\\object$}[1]{\\texttt{#1}}$\n",
       "$\\newcommand{$\\farcs$}{{.}''}$\n",
       "$\\newcommand{$\\farcm$}{{.}'}$\n",
       "$\\newcommand{$\\arcsec$}{''}$\n",
       "$\\newcommand{$\\arcmin$}{'}$\n",
       "$\\newcommand{$\\ion$}[2]{#1#2}$\n",
       "$\\newcommand{$\\textsc$}[1]{\\textrm{#1}}$\n",
       "$\\newcommand{$\\hl$}[1]{\\textrm{#1}}$</div>\n",
       "\n",
       "\n",
       "\n",
       "<div id=\"title\">\n",
       "\n",
       "# \n",
       "\n",
       "</div>\n",
       "<div id=\"comments\">\n",
       "\n",
       "[![arXiv](https://img.shields.io/badge/arXiv-2212.01281-b31b1b.svg)](https://arxiv.org/abs/2212.01281)<mark>Appeared on: 2022-12-05</mark> - _8 pages, 13 figures_\n",
       "\n",
       "</div>\n",
       "<div id=\"authors\">\n",
       "\n",
       "<mark>Riccardo Franceschi</mark>, and\n",
       "        Steven N. Shore\n",
       "\n",
       "</div>\n",
       "<div id=\"abstract\">\n",
       "\n",
       "**Abstract:** We investigate the ionization of the diffuse interstellar medium by cosmic rays by modeling their propagation along the wandering magnetic fields using a Monte Carlo method. We explore how particle trapping and second-order Fermi processes affect the ionization of the medium.We study how low-energy cosmic rays propagate in turbulent, translucent molecular clouds, and how they regulate the ionization and both lose and gain energy from the medium.As a test case, we use high spatial resolution (0.03 pc) CO maps of a well-studied high latitude translucent cloud, MBM 3, to model turbulence.  The propagation problem is solved with a modified Monte Carlo procedure that includes trapping, energization, and ionization losses.In the homogeneous medium, trapping and re-energization do not produce a significant effect. In the nonuniform medium, particles can be trapped for a long time inside the cloud. This modifies the cosmic ray distribution due to stochastic acceleration at the highest energies ($\\sim$100 MeV). At lower energies, the re-energization is too weak to produce an appreciable effect. The change in the energy distribution does not significantly affect the ionization losses, so ionization changes are due to trapping effects.Our Monte Carlo approach to cosmic ray propagation is an alternative method for solving the transport equation. This approach can be benchmarked to gas observations of molecular clouds. Using this approach, we demonstrate that stochastic Fermi acceleration and particle trapping occurs in inhomogeneous clouds, significantly enhancing their ionization.\n",
       "\n",
       "</div>\n",
       "\n",
       "<div id=\"div_fig1\">\n",
       "\n",
       "<img src=\"tmp_2212.01281/./pictures/dishomo.jpg\" alt=\"Fig6\" width=\"100%\"/>\n",
       "\n",
       "**Figure 6. -** Configuration of the medium used to investigate the effects of inhomogeneities, represented by the gray regions. (*fig:dishomo*)\n",
       "\n",
       "</div>\n",
       "<div id=\"div_fig2\">\n",
       "\n",
       "<img src=\"tmp_2212.01281/./pictures/trapping_100.png\" alt=\"Fig7\" width=\"100%\"/>\n",
       "\n",
       "**Figure 7. -** Histogram of 100 MeV protons propagating in an inhomogeneous medium. The top plot represents the particles on the injection face reflected by the medium. The middle plots are at increasing depth, and the bottom represents transmission. The third and fourth plots from the top represent the interfaces with the inhomogeneous region. For comparison, the gray area shows the particle energy range in a homogeneous medium. The blue and red points do and do not include the effects of re-energization, respectively. The flat distribution in the lower energy range is the signature of trapping-enhanced ionization losses and small re-energization. (*fig:100_trapping*)\n",
       "\n",
       "</div>\n",
       "<div id=\"div_fig3\">\n",
       "\n",
       "<img src=\"tmp_2212.01281/./pictures/homo_10.png\" alt=\"Fig3\" width=\"100%\"/>\n",
       "\n",
       "**Figure 3. -** Histogram of 10 MeV protons propagating in a uniform medium. The top plot represents the particles on the injection face reflected by the medium. The middle plots are at increasing depth, and the bottom represents transmission. The red lines show a power-law fit of the particle distributions. (*fig:10mev_homo*)\n",
       "\n",
       "</div>"
      ],
      "text/plain": [
       "<IPython.core.display.Markdown object>"
      ]
     },
     "metadata": {},
     "output_type": "display_data"
    },
    {
     "data": {
      "text/markdown": [
       "<div class=\"macros\" style=\"visibility:hidden;\">\n",
       "$\\newcommand{\\ensuremath}{}$\n",
       "$\\newcommand{\\xspace}{}$\n",
       "$\\newcommand{\\object}[1]{\\texttt{#1}}$\n",
       "$\\newcommand{\\farcs}{{.}''}$\n",
       "$\\newcommand{\\farcm}{{.}'}$\n",
       "$\\newcommand{\\arcsec}{''}$\n",
       "$\\newcommand{\\arcmin}{'}$\n",
       "$\\newcommand{\\ion}[2]{#1#2}$\n",
       "$\\newcommand{\\textsc}[1]{\\textrm{#1}}$\n",
       "$\\newcommand{\\hl}[1]{\\textrm{#1}}$</div>\n",
       "\n",
       "<div class=\"macros\" style=\"visibility:hidden;\">\n",
       "$\\newcommand{$\\ensuremath$}{}$\n",
       "$\\newcommand{$\\xspace$}{}$\n",
       "$\\newcommand{$\\object$}[1]{\\texttt{#1}}$\n",
       "$\\newcommand{$\\farcs$}{{.}''}$\n",
       "$\\newcommand{$\\farcm$}{{.}'}$\n",
       "$\\newcommand{$\\arcsec$}{''}$\n",
       "$\\newcommand{$\\arcmin$}{'}$\n",
       "$\\newcommand{$\\ion$}[2]{#1#2}$\n",
       "$\\newcommand{$\\textsc$}[1]{\\textrm{#1}}$\n",
       "$\\newcommand{$\\hl$}[1]{\\textrm{#1}}$</div>\n",
       "\n",
       "\n",
       "\n",
       "<div id=\"title\">\n",
       "\n",
       "# Constraining the turbulence and the dust disk in IM Lup: onset of planetesimal formation\n",
       "\n",
       "</div>\n",
       "<div id=\"comments\">\n",
       "\n",
       "[![arXiv](https://img.shields.io/badge/arXiv-2212.01291-b31b1b.svg)](https://arxiv.org/abs/2212.01291)<mark>Appeared on: 2022-12-05</mark> - _15 pages, 16 figures, accepted by Astronomy & Astrophysics_\n",
       "\n",
       "</div>\n",
       "<div id=\"authors\">\n",
       "\n",
       "<mark>Riccardo Franceschi</mark>, Tilman Birnstiel, <mark>Thomas Henning</mark>, <mark>Anirudh Sharma</mark>\n",
       "\n",
       "</div>\n",
       "<div id=\"abstract\">\n",
       "\n",
       "**Abstract:** Observations of protoplanetary disks provide information on planet formation and the reasons for the diversity of planetary systems. The key to understanding planet formation is the study of dust evolution from small grains to pebbles. Smaller grains ($\\sim 1 \\;\\mu m$) are well-coupled to the gas dynamics, and their distribution is significantly extended above the disk midplane. Larger grains settle much faster and are efficiently formed only in the midplane. By combining near-infrared polarized light and millimeter observations, it is possible to constrain the spatial distribution of both the small and large grains.We aim to construct detailed models of the size distribution and vertical/radial structure of the dust particles in protoplanetary disks based on observational data. In particular, we are interested in recovering the dust distribution in the IM Lup protoplanetary disk.We create a physical model for the dust distribution of protoplanetary disks. We then simulate the radiative transfer of the millimeter continuum and the near-infrared polarized radiation. Using a Markov chain Monte Carlo method, we compare the derived images to the observations available for the IM Lup disk to constrain the best physical model for IM Lup and to recover the vertical grain size distribution.The millimeter and near-infrared emission tightly constrain the dust mass and grain size distribution of our model. We find size segregation in the dust distribution, with millimeter-sized grains in the disk midplane. These grains are efficiently formed in the disk, possibly by sedimentation-driven coagulation, in accord with the short settling timescales predicted by our model. This also suggests a high dust-to-gas ratio at smaller radii in the midplane, possibly triggering streaming instabilities and planetesimal formation in the inner disk. We obtain a turbulent$\\alpha$parameter of$3 \\times 10^{-3}.$\n",
       "\n",
       "</div>\n",
       "\n",
       "<div id=\"div_fig1\">\n",
       "\n",
       "<img src=\"tmp_2212.01291/./optical_constants.png\" alt=\"Fig1\" width=\"100%\"/>\n",
       "\n",
       "**Figure 1. -** Medium optical constant for the dust composition in     Tab.\\ref{table:dust_composition}\\citep{Birnstiel18} (*fig:optical_constants*)\n",
       "\n",
       "</div>\n",
       "<div id=\"div_fig2\">\n",
       "\n",
       "<img src=\"tmp_2212.01291/./model_opac_1.png\" alt=\"Fig2\" width=\"100%\"/>\n",
       "\n",
       "**Figure 2. -** The model without a truncation in the dust distribution best reproducing the continuum data. This model does not include enough small grains to reproduce the scattered light observations. (*fig:model opac 1*)\n",
       "\n",
       "</div>\n",
       "<div id=\"div_fig3\">\n",
       "\n",
       "<img src=\"tmp_2212.01291/./model_opac_2.png\" alt=\"Fig3\" width=\"100%\"/>\n",
       "\n",
       "**Figure 3. -** The model without a truncation in the dust distribution best reproducing the scattered light data. This model does not have enough millimeter grains to match the observed continuum emission. (*fig:model opac 2*)\n",
       "\n",
       "</div>"
      ],
      "text/plain": [
       "<IPython.core.display.Markdown object>"
      ]
     },
     "metadata": {},
     "output_type": "display_data"
    }
   ],
   "source": [
    "[display(Markdown(k[1])) for k in documents];"
   ]
  },
  {
   "cell_type": "markdown",
   "id": "873873a4",
   "metadata": {
    "papermill": {
     "duration": 0.011877,
     "end_time": "2022-12-05T04:13:38.089366",
     "exception": false,
     "start_time": "2022-12-05T04:13:38.077489",
     "status": "completed"
    },
    "tags": []
   },
   "source": [
    "# Create HTML index"
   ]
  },
  {
   "cell_type": "code",
   "execution_count": 10,
   "id": "cf665672",
   "metadata": {
    "execution": {
     "iopub.execute_input": "2022-12-05T04:13:38.114352Z",
     "iopub.status.busy": "2022-12-05T04:13:38.113337Z",
     "iopub.status.idle": "2022-12-05T04:13:38.124103Z",
     "shell.execute_reply": "2022-12-05T04:13:38.123489Z"
    },
    "papermill": {
     "duration": 0.024718,
     "end_time": "2022-12-05T04:13:38.125554",
     "exception": false,
     "start_time": "2022-12-05T04:13:38.100836",
     "status": "completed"
    },
    "tags": []
   },
   "outputs": [
    {
     "name": "stdout",
     "output_type": "stream",
     "text": [
      "121  publications in the last 7 days.\n",
      "\t _build/html/2212.01291.md\n",
      "\t _build/html/2212.01281.md\n",
      "\t _build/html/2212.00812.md\n",
      "\t _build/html/2212.00811.md\n",
      "\t _build/html/2212.00806.md\n",
      "\t _build/html/2212.00047.md\n",
      "\t _build/html/2212.00032.md\n",
      "\t _build/html/2211.16996.md\n",
      "\t _build/html/2211.16510.md\n",
      "\t _build/html/2211.16123.md\n",
      "\t _build/html/2211.15816.md\n",
      "\t _build/html/2211.15698.md\n",
      "\t _build/html/2211.15576.md\n",
      "\t _build/html/2211.15434.md\n",
      "\t _build/html/2211.15288.md\n",
      "\t _build/html/2211.15224.md\n",
      "\t _build/html/2211.14543.md\n",
      "\t _build/html/2211.14330.md\n",
      "\t _build/html/2211.14322.md\n",
      "\t _build/html/2211.14132.md\n",
      "\t _build/html/2211.13811.md\n",
      "\t _build/html/2211.13426.md\n",
      "\t _build/html/2211.13318.md\n",
      "\t _build/html/2211.13146.md\n",
      "\t _build/html/2211.12613.md\n",
      "\t _build/html/2211.11767.md\n",
      "\t _build/html/2211.09840.md\n",
      "\t _build/html/2211.09217.md\n",
      "\t _build/html/2211.08493.md\n",
      "\t _build/html/2211.08487.md\n",
      "\t _build/html/2211.08294.md\n",
      "\t _build/html/2211.07667.md\n",
      "\t _build/html/2211.07659.md\n",
      "\t _build/html/2211.06454.md\n",
      "\t _build/html/2211.06205.md\n",
      "\t _build/html/2211.06194.md\n",
      "\t _build/html/2211.05022.md\n",
      "\t _build/html/2211.04048.md\n",
      "\t _build/html/2211.03641.md\n",
      "\t _build/html/2211.02502.md\n",
      "\t _build/html/2211.01474.md\n",
      "\t _build/html/2211.00667.md\n",
      "\t _build/html/2211.00657.md\n",
      "\t _build/html/2211.00087.md\n",
      "\t _build/html/2211.00036.md\n",
      "\t _build/html/2211.00020.md\n",
      "\t _build/html/2211.00010.md\n",
      "\t _build/html/2210.17434.md\n",
      "\t _build/html/2210.12412.md\n",
      "\t _build/html/2210.11926.md\n",
      "\t _build/html/2210.11551.md\n",
      "\t _build/html/2210.11103.md\n",
      "\t _build/html/2210.10707.md\n",
      "\t _build/html/2210.09930.md\n",
      "\t _build/html/2210.08996.md\n",
      "\t _build/html/2210.08517.md\n",
      "\t _build/html/2210.08510.md\n",
      "\t _build/html/2210.08078.md\n",
      "\t _build/html/2210.06504.md\n",
      "\t _build/html/2210.05695.md\n",
      "\t _build/html/2210.05595.md\n",
      "\t _build/html/2210.05505.md\n",
      "\t _build/html/2210.04721.md\n",
      "\t _build/html/2210.03615.md\n",
      "\t _build/html/2210.01811.md\n",
      "\t _build/html/2210.01809.md\n",
      "\t _build/html/2210.01556.md\n",
      "\t _build/html/2210.00863.md\n",
      "\t _build/html/2210.00560.md\n",
      "\t _build/html/2209.15403.md\n",
      "\t _build/html/2209.15110.md\n",
      "\t _build/html/2209.14410.md\n",
      "\t _build/html/2209.14396.md\n",
      "\t _build/html/2209.13717.md\n",
      "\t _build/html/2209.13336.md\n",
      "\t _build/html/2209.12906.md\n",
      "\t _build/html/2209.11781.md\n",
      "\t _build/html/2209.11602.md\n",
      "\t _build/html/2209.11248.md\n",
      "\t _build/html/2209.11096.md\n",
      "\t _build/html/2209.10618.md\n",
      "\t _build/html/2209.09914.md\n",
      "\t _build/html/2209.09823.md\n",
      "\t _build/html/2209.08242.md\n",
      "\t _build/html/2209.08120.md\n",
      "\t _build/html/2209.08106.md\n",
      "\t _build/html/2209.07962.md\n",
      "\t _build/html/2209.07931.md\n",
      "\t _build/html/2209.06833.md\n",
      "\t _build/html/2209.05814.md\n",
      "\t _build/html/2209.05593.md\n",
      "\t _build/html/2209.04304.md\n",
      "\t _build/html/2209.03367.md\n",
      "\t _build/html/2209.02872.md\n",
      "\t _build/html/2209.02725.md\n",
      "\t _build/html/2209.02722.md\n",
      "\t _build/html/2209.02092.md\n",
      "\t _build/html/2209.01125.md\n",
      "\t _build/html/2209.00828.md\n",
      "\t _build/html/2209.00363.md\n",
      "\t _build/html/2208.14927.md\n",
      "\t _build/html/2208.09335.md\n",
      "\t _build/html/2208.08872.md\n",
      "\t _build/html/2204.06393.md\n",
      "\t _build/html/2204.03335.md\n",
      "\t _build/html/2204.03253.md\n",
      "\t _build/html/2204.02998.md\n",
      "\t _build/html/2204.02109.md\n",
      "\t _build/html/2204.02017.md\n",
      "\t _build/html/2204.01824.md\n",
      "\t _build/html/2204.01758.md\n",
      "\t _build/html/2204.01245.md\n",
      "\t _build/html/2204.00793.md\n",
      "\t _build/html/2204.00342.md\n",
      "\t _build/html/2203.16959.md\n",
      "\t _build/html/2203.16856.md\n",
      "\t _build/html/2203.16735.md\n",
      "\t _build/html/2203.16734.md\n",
      "\t _build/html/2203.16504.md\n",
      "\t _build/html/2203.15822.md\n",
      "\t _build/html/2203.15811.md\n"
     ]
    }
   ],
   "source": [
    "from datetime import datetime, timedelta, timezone\n",
    "from glob import glob\n",
    "\n",
    "files = glob('_build/html/*.md')\n",
    "days = 7\n",
    "now = datetime.today()\n",
    "res = []\n",
    "for fk in files:\n",
    "    stat_result = os.stat(fk).st_ctime\n",
    "    modified = datetime.fromtimestamp(stat_result, tz=timezone.utc).replace(tzinfo=None)\n",
    "    delta = now.today() - modified\n",
    "    if delta <= timedelta(days=days):\n",
    "        res.append((delta.seconds, fk))\n",
    "res = [k[1] for k in reversed(sorted(res, key=lambda x:x[1]))]\n",
    "npub = len(res)\n",
    "print(len(res), f\" publications in the last {days:d} days.\")\n",
    "[ print('\\t', k) for k in res ];"
   ]
  },
  {
   "cell_type": "code",
   "execution_count": 11,
   "id": "52ca0208",
   "metadata": {
    "execution": {
     "iopub.execute_input": "2022-12-05T04:13:38.151119Z",
     "iopub.status.busy": "2022-12-05T04:13:38.150512Z",
     "iopub.status.idle": "2022-12-05T04:13:38.157648Z",
     "shell.execute_reply": "2022-12-05T04:13:38.157070Z"
    },
    "papermill": {
     "duration": 0.021854,
     "end_time": "2022-12-05T04:13:38.159216",
     "exception": false,
     "start_time": "2022-12-05T04:13:38.137362",
     "status": "completed"
    },
    "scrolled": false,
    "tags": []
   },
   "outputs": [],
   "source": [
    "def create_carousel(npub=4):\n",
    "    \"\"\" Generate the HTML code for a carousel with `npub` slides \"\"\"\n",
    "    carousel = [\"\"\"<section class=\"carousel\" aria-label=\"Gallery\">\"\"\",\n",
    "                \"\"\"  <ol class=\"carousel__viewport\">\"\"\",\n",
    "    ]\n",
    "    for k in range(1, npub + 1):\n",
    "        prev_ = k - 1\n",
    "        next_ = k + 1\n",
    "        if prev_ <= 0:\n",
    "            prev_ = npub\n",
    "        if next_ > npub:\n",
    "            next_ = 1\n",
    "        text  = f\"\"\"    <li id=\"carousel__slide{k}\" tabindex=\"0\" class=\"carousel__slide\">\\n\"\"\"\n",
    "        text += f\"\"\"       <div class=\"carousel__snapper\">\\n\"\"\"\n",
    "        text += f\"\"\"         <a href=\"#carousel__slide{prev_}\" class=\"carousel__prev\">Go to previous slide</a>\\n\"\"\"\n",
    "        text += f\"\"\"         <a href=\"#carousel__slide{next_}\" class=\"carousel__next\">Go to next slide</a>\\n\"\"\"\n",
    "        text += f\"\"\"         <div id=\"slide{k}_content\" class=\"md_view\" >Content {k}</div>\\n\"\"\"\n",
    "        text += f\"\"\"       </div>\\n\"\"\"\n",
    "        text += f\"\"\"    </li>\"\"\"\n",
    "        carousel.append(text)\n",
    "\n",
    "    carousel.extend([\n",
    "        \"\"\"  </ol>\"\"\",\n",
    "        \"\"\"  <aside class=\"carousel__navigation\">\"\"\",\n",
    "        \"\"\"    <ol class=\"carousel__navigation-list\">\"\"\"])\n",
    "\n",
    "    for k in range(1, npub + 1):\n",
    "        text  = f\"\"\"      <li class=\"carousel__navigation-item\">\\n\"\"\"\n",
    "        text += f\"\"\"        <a href=\"#carousel__slide{k}\" class=\"carousel__navigation-button\">Go to {k}</a>\\n\"\"\"\n",
    "        text += f\"\"\"      </li>\"\"\"\n",
    "        carousel.append(text)\n",
    "    carousel.extend([\"\"\"    </ol>\"\"\", \"\"\"  </aside>\"\"\", \"\"\"</section>\"\"\"])\n",
    "\n",
    "    return '\\n'.join(carousel)"
   ]
  },
  {
   "cell_type": "code",
   "execution_count": 12,
   "id": "a6eac5b6",
   "metadata": {
    "execution": {
     "iopub.execute_input": "2022-12-05T04:13:38.228750Z",
     "iopub.status.busy": "2022-12-05T04:13:38.228075Z",
     "iopub.status.idle": "2022-12-05T04:13:38.235409Z",
     "shell.execute_reply": "2022-12-05T04:13:38.234647Z"
    },
    "papermill": {
     "duration": 0.022152,
     "end_time": "2022-12-05T04:13:38.237108",
     "exception": false,
     "start_time": "2022-12-05T04:13:38.214956",
     "status": "completed"
    },
    "scrolled": false,
    "tags": []
   },
   "outputs": [],
   "source": [
    "carousel = create_carousel(npub)\n",
    "docs = ', '.join(['\"{0:s}\"'.format(k.split('/')[-1]) for k in res])\n",
    "slides = ', '.join([f'\"slide{k}_content\"' for k in range(1, npub + 1)])\n",
    "\n",
    "script = f\"\"\"\n",
    "const docs = [{docs}]\n",
    "\n",
    "const slides = [{slides}]\n",
    "\"\"\" + \"\"\"\n",
    "async function run() {\n",
    "    for (let i = 0; i < docs.length; i++) {\n",
    "        let file = await fetch(docs[i]);\n",
    "        let text = await file.text()\n",
    "        document.getElementById(slides[i]).innerHTML =\n",
    "            marked.parse(text);\n",
    "    }\n",
    "    hljs.highlightAll();\n",
    "}\n",
    "run()\n",
    "\"\"\"\n",
    "\n",
    "page = f\"\"\"<!doctype html>\n",
    "<html lang=\"en\">\n",
    "\n",
    "<head>\n",
    "  <meta charset=\"utf-8\">\n",
    "  <meta name=\"viewport\" content=\"width=device-width, initial-scale=1\">\n",
    "  <!-- Bootstrap CSS -->\n",
    "  <link href=\"https://cdn.jsdelivr.net/npm/bootstrap@5.0.2/dist/css/bootstrap.min.css\" rel=\"stylesheet\"\n",
    "   integrity=\"sha384-EVSTQN3/azprG1Anm3QDgpJLIm9Nao0Yz1ztcQTwFspd3yD65VohhpuuCOmLASjC\" crossorigin=\"anonymous\">\n",
    "  <!-- highlight.js CSS -->\n",
    "  <link rel=\"stylesheet\" href=\"https://cdnjs.cloudflare.com/ajax/libs/highlight.js/11.1.0/styles/default.min.css\">\n",
    "  <!-- Mathjax 3 -->\n",
    "  <script type=\"text/javascript\" id=\"MathJax-config\" src=\"mathjax_config.js\"> </script>\n",
    "  <script type=\"text/javascript\" id=\"MathJax-script\" async \n",
    "    src=\"https://cdn.jsdelivr.net/npm/mathjax@3/es5/tex-mml-chtml.js\">\n",
    "  </script>\n",
    "  <link rel=\"stylesheet\" href=\"index_carousel.css\">\n",
    "  <link rel=\"icon\" type=\"image/x-icon\" href=\"https://www.mpia.de/assets/touch-icon-32x32-a66937bcebc4e8894ebff1f41a366c7c7220fd97a38869ee0f2db65a9f59b6c1.png\">\n",
    "  <title>MPIA Arxiv on deck!</title>\n",
    "</head>\n",
    "\n",
    "<body>\n",
    "  <div id=\"header\"> <img src=\"header_banner.png\" width=\"100%\"></div>\n",
    "  <div id=\"suptitle\"> 7-day archives </div>\n",
    "  <div id=\"info\">\n",
    "    <img src=\"https://pngimg.com/uploads/github/github_PNG58.png\" height=30rem></img>\n",
    "    <a href=https://github.com/mpi-astronomy/arxiv_display style=\"color:black;\">github/mpi-astronomy/arxiv_display</a> \n",
    "  </div>\n",
    "  {carousel:s}\n",
    "</body>\n",
    "\n",
    "<!-- Render Markdown -->\n",
    "\n",
    "<body>\n",
    "  <!-- highlight.js: https://highlightjs.org/download/ -->\n",
    "  <script src=\"https://cdnjs.cloudflare.com/ajax/libs/highlight.js/11.5.0/highlight.min.js\"></script>\n",
    "  <!-- marked.js -->\n",
    "  <script src=\"https://cdn.jsdelivr.net/npm/marked/marked.min.js\"></script>\n",
    "  <script>{script:s}</script>\n",
    "</body>\n",
    "</html>\n",
    "\"\"\"\n",
    "with open(\"_build/html/index_7days.html\", 'w') as fout:\n",
    "    fout.write(page)"
   ]
  },
  {
   "cell_type": "markdown",
   "id": "1cebacbc",
   "metadata": {
    "papermill": {
     "duration": 0.012401,
     "end_time": "2022-12-05T04:13:38.261641",
     "exception": false,
     "start_time": "2022-12-05T04:13:38.249240",
     "status": "completed"
    },
    "tags": []
   },
   "source": [
    "# Debugging papers"
   ]
  },
  {
   "cell_type": "raw",
   "id": "debe7cc6",
   "metadata": {
    "papermill": {
     "duration": 0.013021,
     "end_time": "2022-12-05T04:13:38.287049",
     "exception": false,
     "start_time": "2022-12-05T04:13:38.274028",
     "status": "completed"
    },
    "tags": []
   },
   "source": [
    "raise NotImplementedError(\"Manual Stop\")"
   ]
  },
  {
   "cell_type": "raw",
   "id": "eb169192",
   "metadata": {
    "papermill": {
     "duration": 0.011478,
     "end_time": "2022-12-05T04:13:38.309965",
     "exception": false,
     "start_time": "2022-12-05T04:13:38.298487",
     "status": "completed"
    },
    "scrolled": true,
    "tags": []
   },
   "source": [
    "from IPython.display import display, Markdown\n",
    "from TexSoup import TexSoup\n",
    "import re\n",
    "\n",
    "def bracket_error(source: str):\n",
    "    \"\"\" Find problematic portions of the document \"\"\"\n",
    "    \n",
    "    print(\"len(source)\", len(source))\n",
    "    \n",
    "    # Checking header\n",
    "    begin_doc = next(re.finditer(r'\\\\begin\\{document\\}', doc.source)).span()[1]\n",
    "    header = source[:begin_doc]\n",
    "    text = header + r\"\\n\\end{document}\"\n",
    "\n",
    "    try:\n",
    "        # print(\"Header check... \", end='')\n",
    "        TexSoup(text)\n",
    "        display(Markdown(f\"**[OK]** - Header\"))\n",
    "    except:\n",
    "        raise RuntimeError(\"Error in the header\")\n",
    "        \n",
    "    # Check the text per section until the end.\n",
    "    # Do not stop and try them all.\n",
    "    \n",
    "    problematic_text = []\n",
    "    \n",
    "    sections = ([(0, begin_doc, 'until first section')] + \n",
    "                [(g.span()[0], g.span()[1], g.group()) for g in re.finditer(r'\\\\section\\{.*\\}', source)] +\n",
    "                [(g.span()[0], g.span()[1], g.group()) for g in re.finditer(r'\\\\begin\\{appendix\\}', source)]\n",
    "               )\n",
    "    sections.append([len(source), len(source), 'end'])\n",
    "    \n",
    "    sections = sorted(sections, key=lambda x: x[0])\n",
    "    \n",
    "    prev_pos, prev_name = (0, 'header')\n",
    "    parsed = []\n",
    "    \n",
    "    for span, span_end, name in sections:\n",
    "\n",
    "        if span - prev_pos <= 0:\n",
    "            continue\n",
    "            \n",
    "\n",
    "        text = source[prev_pos:span]\n",
    "        if prev_pos > begin_doc:\n",
    "            text = r\"\\n\\begin{document}\" + text + r\"\\n\\end{document}\"\n",
    "        else:\n",
    "            text = text + r\"\\n\\end{document}\"\n",
    "        try:\n",
    "            #print(f\"{prev_pos}:{prev_name}-->{span}:{name} check... \", end='')\n",
    "            parsed.append(TexSoup(text, tolerance=1))  # allow not ending env\n",
    "            display(Markdown(f\"**[OK]** - *{prev_pos}*:{prev_name} &rarr; *{span}*:{name}\"))\n",
    "            # print(\"ok\")\n",
    "\n",
    "            prev_pos = span\n",
    "            prev_name = name\n",
    "        except:\n",
    "            # print(f\"error between {prev_pos} and {span}\")\n",
    "            display(Markdown(f\"**[ERR]** *{prev_pos}*:{prev_name} &rarr; *{span}*:{name}\"))\n",
    "            problematic_text.append((prev_pos, source[prev_pos:span]))\n",
    "            prev_pos = span\n",
    "            prev_name = name\n",
    "            # raise\n",
    "    return problematic_text, parsed\n",
    "\n",
    "\n",
    "def check_environment(text, offset=0):\n",
    "    \"\"\" Check environment \"\"\"\n",
    "    env = re.compile(r\"\\\\begin\\{(?P<env>.*)\\}(.*)\\\\end\\{(?P=env)\\}\", re.DOTALL)\n",
    "\n",
    "    for match in env.finditer(text):\n",
    "        beg, end = match.span()\n",
    "        beg += offset\n",
    "        end += offset\n",
    "        envname = match.groups()[0]\n",
    "        try:\n",
    "            latex.TexSoup(match.group())\n",
    "        except Exception as e:\n",
    "            display(e)\n",
    "            print(f\"Error in {envname:s} between {beg} and {end}\")\n",
    "            return match.groups()[1], beg, end"
   ]
  },
  {
   "cell_type": "raw",
   "id": "2315e835",
   "metadata": {
    "papermill": {
     "duration": 0.011508,
     "end_time": "2022-12-05T04:13:38.332944",
     "exception": false,
     "start_time": "2022-12-05T04:13:38.321436",
     "status": "completed"
    },
    "scrolled": false,
    "tags": []
   },
   "source": [
    "import importlib\n",
    "importlib.reload(latex)\n",
    "which = \"2204.03253\"\n",
    "paper_id = f'{which:s}'\n",
    "folder = f'tmp_{paper_id:s}'\n",
    "\n",
    "if not os.path.isdir(folder):\n",
    "    folder = retrieve_document_source(f\"{paper_id}\", f'tmp_{paper_id}')\n",
    "\n",
    "try:\n",
    "    doc = latex.LatexDocument(folder, validation=validation)    \n",
    "except AffiliationError as affilerror:\n",
    "    msg = f\"ArXiv:{paper_id:s} is not an MPIA paper... \" + str(affilerror)\n",
    "    print(msg)\n",
    "\n",
    "\n",
    "# Hack because sometimes author parsing does not work well\n",
    "if (len(doc.authors) != len(paper['authors'])):\n",
    "    doc._authors = paper['authors']\n",
    "if (doc.abstract) in (None, ''):\n",
    "    doc._abstract = paper['abstract']\n",
    "\n",
    "doc.comment = get_markdown_badge(paper_id) + \" _\" + paper['comments'] + \"_\"\n",
    "doc.highlight_authors_in_list(hl_list)\n",
    "\n",
    "full_md = doc.generate_markdown_text()"
   ]
  },
  {
   "cell_type": "raw",
   "id": "dd3781db",
   "metadata": {
    "papermill": {
     "duration": 0.011519,
     "end_time": "2022-12-05T04:13:38.355945",
     "exception": false,
     "start_time": "2022-12-05T04:13:38.344426",
     "status": "completed"
    },
    "scrolled": false,
    "tags": []
   },
   "source": [
    "doc"
   ]
  },
  {
   "cell_type": "raw",
   "id": "c6eed834",
   "metadata": {
    "papermill": {
     "duration": 0.011443,
     "end_time": "2022-12-05T04:13:38.378967",
     "exception": false,
     "start_time": "2022-12-05T04:13:38.367524",
     "status": "completed"
    },
    "tags": []
   },
   "source": [
    "# [check_environment(k) for k in bracket_error(doc.source)]\n",
    "_, _, a = latex.get_content_per_section(doc.source, verbose=True)\n",
    "if not a:\n",
    "    print(\"no issues per section\")\n",
    "for ak in a:\n",
    "    r = check_environment(ak[1], offset=ak[0])\n",
    "    print(r[1], r[2])\n",
    "    print(r[0])"
   ]
  },
  {
   "cell_type": "code",
   "execution_count": null,
   "id": "71ce768a",
   "metadata": {
    "papermill": {
     "duration": 0.011681,
     "end_time": "2022-12-05T04:13:38.402222",
     "exception": false,
     "start_time": "2022-12-05T04:13:38.390541",
     "status": "completed"
    },
    "tags": []
   },
   "outputs": [],
   "source": []
  }
 ],
 "metadata": {
  "kernelspec": {
   "display_name": "Python 3.10.6 64-bit",
   "language": "python",
   "name": "python3"
  },
  "language_info": {
   "codemirror_mode": {
    "name": "ipython",
    "version": 3
   },
   "file_extension": ".py",
   "mimetype": "text/x-python",
   "name": "python",
   "nbconvert_exporter": "python",
   "pygments_lexer": "ipython3",
   "version": "3.9.15"
  },
  "papermill": {
   "default_parameters": {},
   "duration": 196.99477,
   "end_time": "2022-12-05T04:13:38.633464",
   "environment_variables": {},
   "exception": null,
   "input_path": "MPIA daily digest.ipynb",
   "output_path": "log.ipynb",
   "parameters": {},
   "start_time": "2022-12-05T04:10:21.638694",
   "version": "2.4.0"
  },
  "vscode": {
   "interpreter": {
    "hash": "e7370f93d1d0cde622a1f8e1c04877d8463912d04d973331ad4851f04de6915a"
   }
  },
  "widgets": {
   "application/vnd.jupyter.widget-state+json": {
    "state": {
     "02db564f8fe14df2a3c8eb97b994677c": {
      "model_module": "@jupyter-widgets/base",
      "model_module_version": "2.0.0",
      "model_name": "LayoutModel",
      "state": {
       "_model_module": "@jupyter-widgets/base",
       "_model_module_version": "2.0.0",
       "_model_name": "LayoutModel",
       "_view_count": null,
       "_view_module": "@jupyter-widgets/base",
       "_view_module_version": "2.0.0",
       "_view_name": "LayoutView",
       "align_content": null,
       "align_items": null,
       "align_self": null,
       "border_bottom": null,
       "border_left": null,
       "border_right": null,
       "border_top": null,
       "bottom": null,
       "display": null,
       "flex": null,
       "flex_flow": null,
       "grid_area": null,
       "grid_auto_columns": null,
       "grid_auto_flow": null,
       "grid_auto_rows": null,
       "grid_column": null,
       "grid_gap": null,
       "grid_row": null,
       "grid_template_areas": null,
       "grid_template_columns": null,
       "grid_template_rows": null,
       "height": null,
       "justify_content": null,
       "justify_items": null,
       "left": null,
       "margin": null,
       "max_height": null,
       "max_width": null,
       "min_height": null,
       "min_width": null,
       "object_fit": null,
       "object_position": null,
       "order": null,
       "overflow": null,
       "padding": null,
       "right": null,
       "top": null,
       "visibility": null,
       "width": null
      }
     },
     "1153c7e96962492391984f8a2d26f987": {
      "model_module": "@jupyter-widgets/controls",
      "model_module_version": "2.0.0",
      "model_name": "HTMLModel",
      "state": {
       "_dom_classes": [],
       "_model_module": "@jupyter-widgets/controls",
       "_model_module_version": "2.0.0",
       "_model_name": "HTMLModel",
       "_view_count": null,
       "_view_module": "@jupyter-widgets/controls",
       "_view_module_version": "2.0.0",
       "_view_name": "HTMLView",
       "description": "",
       "description_allow_html": false,
       "layout": "IPY_MODEL_b4e44f04df0645b18da2d854dbbeaac9",
       "placeholder": "​",
       "style": "IPY_MODEL_93138936b2044cec924bf87748b09365",
       "tabbable": null,
       "tooltip": null,
       "value": " 22/22 [02:50&lt;00:00,  1.15s/it]"
      }
     },
     "19c73c17a86f42bf8403ca72559680ce": {
      "model_module": "@jupyter-widgets/controls",
      "model_module_version": "2.0.0",
      "model_name": "ProgressStyleModel",
      "state": {
       "_model_module": "@jupyter-widgets/controls",
       "_model_module_version": "2.0.0",
       "_model_name": "ProgressStyleModel",
       "_view_count": null,
       "_view_module": "@jupyter-widgets/base",
       "_view_module_version": "2.0.0",
       "_view_name": "StyleView",
       "bar_color": null,
       "description_width": ""
      }
     },
     "230f65f62798400291289c13f99aa18c": {
      "model_module": "@jupyter-widgets/controls",
      "model_module_version": "2.0.0",
      "model_name": "HTMLStyleModel",
      "state": {
       "_model_module": "@jupyter-widgets/controls",
       "_model_module_version": "2.0.0",
       "_model_name": "HTMLStyleModel",
       "_view_count": null,
       "_view_module": "@jupyter-widgets/base",
       "_view_module_version": "2.0.0",
       "_view_name": "StyleView",
       "background": null,
       "description_width": "",
       "font_size": null,
       "text_color": null
      }
     },
     "653a21714d3148fcaa57d4e585ec26b3": {
      "model_module": "@jupyter-widgets/base",
      "model_module_version": "2.0.0",
      "model_name": "LayoutModel",
      "state": {
       "_model_module": "@jupyter-widgets/base",
       "_model_module_version": "2.0.0",
       "_model_name": "LayoutModel",
       "_view_count": null,
       "_view_module": "@jupyter-widgets/base",
       "_view_module_version": "2.0.0",
       "_view_name": "LayoutView",
       "align_content": null,
       "align_items": null,
       "align_self": null,
       "border_bottom": null,
       "border_left": null,
       "border_right": null,
       "border_top": null,
       "bottom": null,
       "display": null,
       "flex": null,
       "flex_flow": null,
       "grid_area": null,
       "grid_auto_columns": null,
       "grid_auto_flow": null,
       "grid_auto_rows": null,
       "grid_column": null,
       "grid_gap": null,
       "grid_row": null,
       "grid_template_areas": null,
       "grid_template_columns": null,
       "grid_template_rows": null,
       "height": null,
       "justify_content": null,
       "justify_items": null,
       "left": null,
       "margin": null,
       "max_height": null,
       "max_width": null,
       "min_height": null,
       "min_width": null,
       "object_fit": null,
       "object_position": null,
       "order": null,
       "overflow": null,
       "padding": null,
       "right": null,
       "top": null,
       "visibility": null,
       "width": null
      }
     },
     "6bf1d11d69884789ae8ef435b207115c": {
      "model_module": "@jupyter-widgets/controls",
      "model_module_version": "2.0.0",
      "model_name": "FloatProgressModel",
      "state": {
       "_dom_classes": [],
       "_model_module": "@jupyter-widgets/controls",
       "_model_module_version": "2.0.0",
       "_model_name": "FloatProgressModel",
       "_view_count": null,
       "_view_module": "@jupyter-widgets/controls",
       "_view_module_version": "2.0.0",
       "_view_name": "ProgressView",
       "bar_style": "success",
       "description": "",
       "description_allow_html": false,
       "layout": "IPY_MODEL_02db564f8fe14df2a3c8eb97b994677c",
       "max": 22.0,
       "min": 0.0,
       "orientation": "horizontal",
       "style": "IPY_MODEL_19c73c17a86f42bf8403ca72559680ce",
       "tabbable": null,
       "tooltip": null,
       "value": 22.0
      }
     },
     "8605190b1ce04ec5aa9d520468ccd7f8": {
      "model_module": "@jupyter-widgets/base",
      "model_module_version": "2.0.0",
      "model_name": "LayoutModel",
      "state": {
       "_model_module": "@jupyter-widgets/base",
       "_model_module_version": "2.0.0",
       "_model_name": "LayoutModel",
       "_view_count": null,
       "_view_module": "@jupyter-widgets/base",
       "_view_module_version": "2.0.0",
       "_view_name": "LayoutView",
       "align_content": null,
       "align_items": null,
       "align_self": null,
       "border_bottom": null,
       "border_left": null,
       "border_right": null,
       "border_top": null,
       "bottom": null,
       "display": null,
       "flex": null,
       "flex_flow": null,
       "grid_area": null,
       "grid_auto_columns": null,
       "grid_auto_flow": null,
       "grid_auto_rows": null,
       "grid_column": null,
       "grid_gap": null,
       "grid_row": null,
       "grid_template_areas": null,
       "grid_template_columns": null,
       "grid_template_rows": null,
       "height": null,
       "justify_content": null,
       "justify_items": null,
       "left": null,
       "margin": null,
       "max_height": null,
       "max_width": null,
       "min_height": null,
       "min_width": null,
       "object_fit": null,
       "object_position": null,
       "order": null,
       "overflow": null,
       "padding": null,
       "right": null,
       "top": null,
       "visibility": null,
       "width": null
      }
     },
     "93138936b2044cec924bf87748b09365": {
      "model_module": "@jupyter-widgets/controls",
      "model_module_version": "2.0.0",
      "model_name": "HTMLStyleModel",
      "state": {
       "_model_module": "@jupyter-widgets/controls",
       "_model_module_version": "2.0.0",
       "_model_name": "HTMLStyleModel",
       "_view_count": null,
       "_view_module": "@jupyter-widgets/base",
       "_view_module_version": "2.0.0",
       "_view_name": "StyleView",
       "background": null,
       "description_width": "",
       "font_size": null,
       "text_color": null
      }
     },
     "a7845dd2defc44bd8dd7c078ec96d223": {
      "model_module": "@jupyter-widgets/controls",
      "model_module_version": "2.0.0",
      "model_name": "HBoxModel",
      "state": {
       "_dom_classes": [],
       "_model_module": "@jupyter-widgets/controls",
       "_model_module_version": "2.0.0",
       "_model_name": "HBoxModel",
       "_view_count": null,
       "_view_module": "@jupyter-widgets/controls",
       "_view_module_version": "2.0.0",
       "_view_name": "HBoxView",
       "box_style": "",
       "children": [
        "IPY_MODEL_ee6cfc71e79041599112213bd27f80ec",
        "IPY_MODEL_6bf1d11d69884789ae8ef435b207115c",
        "IPY_MODEL_1153c7e96962492391984f8a2d26f987"
       ],
       "layout": "IPY_MODEL_8605190b1ce04ec5aa9d520468ccd7f8",
       "tabbable": null,
       "tooltip": null
      }
     },
     "b4e44f04df0645b18da2d854dbbeaac9": {
      "model_module": "@jupyter-widgets/base",
      "model_module_version": "2.0.0",
      "model_name": "LayoutModel",
      "state": {
       "_model_module": "@jupyter-widgets/base",
       "_model_module_version": "2.0.0",
       "_model_name": "LayoutModel",
       "_view_count": null,
       "_view_module": "@jupyter-widgets/base",
       "_view_module_version": "2.0.0",
       "_view_name": "LayoutView",
       "align_content": null,
       "align_items": null,
       "align_self": null,
       "border_bottom": null,
       "border_left": null,
       "border_right": null,
       "border_top": null,
       "bottom": null,
       "display": null,
       "flex": null,
       "flex_flow": null,
       "grid_area": null,
       "grid_auto_columns": null,
       "grid_auto_flow": null,
       "grid_auto_rows": null,
       "grid_column": null,
       "grid_gap": null,
       "grid_row": null,
       "grid_template_areas": null,
       "grid_template_columns": null,
       "grid_template_rows": null,
       "height": null,
       "justify_content": null,
       "justify_items": null,
       "left": null,
       "margin": null,
       "max_height": null,
       "max_width": null,
       "min_height": null,
       "min_width": null,
       "object_fit": null,
       "object_position": null,
       "order": null,
       "overflow": null,
       "padding": null,
       "right": null,
       "top": null,
       "visibility": null,
       "width": null
      }
     },
     "ee6cfc71e79041599112213bd27f80ec": {
      "model_module": "@jupyter-widgets/controls",
      "model_module_version": "2.0.0",
      "model_name": "HTMLModel",
      "state": {
       "_dom_classes": [],
       "_model_module": "@jupyter-widgets/controls",
       "_model_module_version": "2.0.0",
       "_model_name": "HTMLModel",
       "_view_count": null,
       "_view_module": "@jupyter-widgets/controls",
       "_view_module_version": "2.0.0",
       "_view_name": "HTMLView",
       "description": "",
       "description_allow_html": false,
       "layout": "IPY_MODEL_653a21714d3148fcaa57d4e585ec26b3",
       "placeholder": "​",
       "style": "IPY_MODEL_230f65f62798400291289c13f99aa18c",
       "tabbable": null,
       "tooltip": null,
       "value": "100%"
      }
     }
    },
    "version_major": 2,
    "version_minor": 0
   }
  }
 },
 "nbformat": 4,
 "nbformat_minor": 5
}