{
 "cells": [
  {
   "cell_type": "markdown",
   "id": "92bcb855",
   "metadata": {
    "papermill": {
     "duration": 0.005298,
     "end_time": "2022-11-08T04:31:48.080680",
     "exception": false,
     "start_time": "2022-11-08T04:31:48.075382",
     "status": "completed"
    },
    "tags": []
   },
   "source": [
    "# MPIA Arxiv on Deck 2\n",
    "\n",
    "Contains the steps to produce the paper extractions."
   ]
  },
  {
   "cell_type": "code",
   "execution_count": 1,
   "id": "3a0d6e11",
   "metadata": {
    "execution": {
     "iopub.execute_input": "2022-11-08T04:31:48.090564Z",
     "iopub.status.busy": "2022-11-08T04:31:48.090039Z",
     "iopub.status.idle": "2022-11-08T04:31:48.257044Z",
     "shell.execute_reply": "2022-11-08T04:31:48.256388Z"
    },
    "papermill": {
     "duration": 0.174212,
     "end_time": "2022-11-08T04:31:48.259058",
     "exception": false,
     "start_time": "2022-11-08T04:31:48.084846",
     "status": "completed"
    },
    "tags": []
   },
   "outputs": [],
   "source": [
    "# Imports\n",
    "import os\n",
    "from IPython.display import Markdown, display\n",
    "from tqdm.notebook import tqdm\n",
    "import warnings\n",
    "from PIL import Image \n",
    "\n",
    "# requires arxiv_on_deck_2\n",
    "\n",
    "from arxiv_on_deck_2.arxiv2 import (get_new_papers, \n",
    "                                    get_paper_from_identifier,\n",
    "                                    retrieve_document_source, \n",
    "                                    get_markdown_badge)\n",
    "from arxiv_on_deck_2 import (latex, \n",
    "                             mpia,\n",
    "                             highlight_authors_in_list)\n",
    "\n",
    "# Sometimes images are really big\n",
    "Image.MAX_IMAGE_PIXELS = 1000000000 "
   ]
  },
  {
   "cell_type": "code",
   "execution_count": 2,
   "id": "22aa9d44",
   "metadata": {
    "execution": {
     "iopub.execute_input": "2022-11-08T04:31:48.268922Z",
     "iopub.status.busy": "2022-11-08T04:31:48.268685Z",
     "iopub.status.idle": "2022-11-08T04:31:48.273229Z",
     "shell.execute_reply": "2022-11-08T04:31:48.272731Z"
    },
    "papermill": {
     "duration": 0.011029,
     "end_time": "2022-11-08T04:31:48.274604",
     "exception": false,
     "start_time": "2022-11-08T04:31:48.263575",
     "status": "completed"
    },
    "tags": []
   },
   "outputs": [],
   "source": [
    "# Some useful definitions.\n",
    "\n",
    "class AffiliationWarning(UserWarning):\n",
    "    pass\n",
    "\n",
    "class AffiliationError(RuntimeError):\n",
    "    pass\n",
    "\n",
    "def validation(source: str):\n",
    "    \"\"\"Raises error paper during parsing of source file\n",
    "    \n",
    "    Allows checks before parsing TeX code.\n",
    "    \n",
    "    Raises AffiliationWarning\n",
    "    \"\"\"\n",
    "    check = mpia.affiliation_verifications(source, verbose=True)\n",
    "    if check is not True:\n",
    "        raise AffiliationError(\"mpia.affiliation_verifications: \" + check)\n",
    "\n",
    "        \n",
    "warnings.simplefilter('always', AffiliationWarning)"
   ]
  },
  {
   "cell_type": "code",
   "execution_count": 3,
   "id": "14622700",
   "metadata": {
    "execution": {
     "iopub.execute_input": "2022-11-08T04:31:48.285040Z",
     "iopub.status.busy": "2022-11-08T04:31:48.284488Z",
     "iopub.status.idle": "2022-11-08T04:31:48.288150Z",
     "shell.execute_reply": "2022-11-08T04:31:48.287611Z"
    },
    "papermill": {
     "duration": 0.011174,
     "end_time": "2022-11-08T04:31:48.289590",
     "exception": false,
     "start_time": "2022-11-08T04:31:48.278416",
     "status": "completed"
    },
    "tags": []
   },
   "outputs": [],
   "source": [
    "# additional CSS to consider. \n",
    "# TODO: Current into each exported file. \n",
    "#       This should be set once into the webpages directly.\n",
    "#       With only the class/id definitions in the .md files.\n",
    "\n",
    "debug_html = \"\"\"\n",
    "<style>\n",
    "#wrap{ overflow:auto; }\n",
    "#fig1{ background:yellow; width:100%; float:left; padding:5px;  }\n",
    "#fig2{ background:red; width:50%; float:left; clear:left; padding:5px;  }\n",
    "#fig3{ background:green; width:50%; float:left; padding:5px;   }\n",
    ".macros{ background:yellow; visibility:visible;}\n",
    "h1 {margin: 0 0 0 0;}\n",
    "mark {background-color:#fff3b6;}\n",
    "img {object-fit:contain; max-height:250px; display:inline-block; text-align: center;}\n",
    "</style>\n",
    "\"\"\" \n",
    "html = \"\"\"\n",
    "<style>\n",
    "#wrap{ overflow:auto; }\n",
    "#fig1{ width:100%; float:left; padding: 5px;  }\n",
    "#fig2{ width:50%; float:left; clear:left; padding: 5px;  }\n",
    "#fig3{ width:50%; float:left; padding: 5px;  }\n",
    ".macros{ visibility:hidden; height:0px; }\n",
    "h1 {margin: 0em 0 0 0;}\n",
    "mark {background-color:#fff3b6;}\n",
    "img {object-fit:contain; max-height:250px; display:inline-block; text-align: center;}\n",
    "</style>\n",
    "\"\"\""
   ]
  },
  {
   "cell_type": "markdown",
   "id": "14bd6310",
   "metadata": {
    "papermill": {
     "duration": 0.003858,
     "end_time": "2022-11-08T04:31:48.297270",
     "exception": false,
     "start_time": "2022-11-08T04:31:48.293412",
     "status": "completed"
    },
    "tags": []
   },
   "source": [
    "## get list of arxiv paper candidates\n",
    "\n",
    "We use the MPIA mitarbeiter list webpage from mpia.de to get author names\n",
    "We then get all new papers from Arxiv and match authors"
   ]
  },
  {
   "cell_type": "code",
   "execution_count": 4,
   "id": "2645e73a",
   "metadata": {
    "execution": {
     "iopub.execute_input": "2022-11-08T04:31:48.306058Z",
     "iopub.status.busy": "2022-11-08T04:31:48.305849Z",
     "iopub.status.idle": "2022-11-08T04:32:13.308114Z",
     "shell.execute_reply": "2022-11-08T04:32:13.307464Z"
    },
    "papermill": {
     "duration": 25.008899,
     "end_time": "2022-11-08T04:32:13.310052",
     "exception": false,
     "start_time": "2022-11-08T04:31:48.301153",
     "status": "completed"
    },
    "tags": []
   },
   "outputs": [
    {
     "name": "stdout",
     "output_type": "stream",
     "text": [
      "Arxiv has 68 new papers today\n",
      "          18 with possible author matches\n"
     ]
    }
   ],
   "source": [
    "# get list from MPIA website\n",
    "# it automatically filters identified non-scientists :func:`mpia.filter_non_scientists`\n",
    "mpia_authors = mpia.get_mpia_mitarbeiter_list()\n",
    "new_papers = get_new_papers()\n",
    "# add manual references\n",
    "add_paper_refs = []\n",
    "new_papers.extend([get_paper_from_identifier(k) for k in add_paper_refs])\n",
    "\n",
    "# select only papers with matching author names and highlight authors\n",
    "hl_list = [k[0] for k in mpia_authors]\n",
    "\n",
    "candidates = []\n",
    "for paperk in new_papers:\n",
    "    hl_authors = highlight_authors_in_list(paperk['authors'], hl_list)\n",
    "    matches = [(hl, orig) for hl, orig in zip(hl_authors, paperk['authors']) if 'mark' in hl]\n",
    "    paperk['authors'] = hl_authors\n",
    "    if matches:\n",
    "        candidates.append(paperk)\n",
    "print(\"\"\"Arxiv has {0:,d} new papers today\"\"\".format(len(new_papers)))        \n",
    "print(\"\"\"          {0:,d} with possible author matches\"\"\".format(len(candidates)))"
   ]
  },
  {
   "cell_type": "markdown",
   "id": "3543b34a",
   "metadata": {
    "papermill": {
     "duration": 0.004028,
     "end_time": "2022-11-08T04:32:13.318466",
     "exception": false,
     "start_time": "2022-11-08T04:32:13.314438",
     "status": "completed"
    },
    "tags": []
   },
   "source": [
    "# Parse sources and generate relevant outputs\n",
    "\n",
    "From the candidates, we do the following steps:\n",
    "* get their tarball from ArXiv (and extract data)\n",
    "* find the main .tex file: find one with \\documentclass{...} (sometimes it's non trivial)\n",
    "* Check affiliations with :func:`validation`, which uses :func:`mpia.affiliation_verifications`\n",
    "* If passing the affiliations: we parse the .tex source\n",
    "   * inject sub-documents into the main (flatten the main document)\n",
    "   * parse structure, extract information (title, abstract, authors, figures...)\n",
    "   * handles `\\graphicspath` if provided\n",
    "* Generate the .md document."
   ]
  },
  {
   "cell_type": "code",
   "execution_count": 5,
   "id": "9576b79e",
   "metadata": {
    "execution": {
     "iopub.execute_input": "2022-11-08T04:32:13.327991Z",
     "iopub.status.busy": "2022-11-08T04:32:13.327354Z",
     "iopub.status.idle": "2022-11-08T04:33:13.517735Z",
     "shell.execute_reply": "2022-11-08T04:33:13.517164Z"
    },
    "papermill": {
     "duration": 60.204335,
     "end_time": "2022-11-08T04:33:13.526732",
     "exception": false,
     "start_time": "2022-11-08T04:32:13.322397",
     "status": "completed"
    },
    "scrolled": false,
    "tags": []
   },
   "outputs": [
    {
     "data": {
      "application/vnd.jupyter.widget-view+json": {
       "model_id": "984f579130a242f7a1d7a6aa552858c8",
       "version_major": 2,
       "version_minor": 0
      },
      "text/plain": [
       "  0%|          | 0/17 [00:00<?, ?it/s]"
      ]
     },
     "metadata": {},
     "output_type": "display_data"
    },
    {
     "name": "stdout",
     "output_type": "stream",
     "text": [
      "Retrieving document from  https://arxiv.org/e-print/2211.02670\n"
     ]
    },
    {
     "name": "stdout",
     "output_type": "stream",
     "text": [
      "extracting tarball to tmp_2211.02670..."
     ]
    },
    {
     "name": "stdout",
     "output_type": "stream",
     "text": [
      " done.\n",
      "Retrieving document from  https://arxiv.org/e-print/2211.02673\n"
     ]
    },
    {
     "name": "stderr",
     "output_type": "stream",
     "text": [
      "/opt/hostedtoolcache/Python/3.9.15/x64/lib/python3.9/site-packages/IPython/core/interactiveshell.py:3433: LatexWarning: Multiple tex files.\n",
      "\n",
      "  exec(code_obj, self.user_global_ns, self.user_ns)\n",
      "/opt/hostedtoolcache/Python/3.9.15/x64/lib/python3.9/site-packages/IPython/core/interactiveshell.py:3433: LatexWarning: Found documentclass in tmp_2211.02670/ms.tex\n",
      "\n",
      "  exec(code_obj, self.user_global_ns, self.user_ns)\n",
      "/opt/hostedtoolcache/Python/3.9.15/x64/lib/python3.9/site-packages/arxiv_on_deck_2/latex.py:292: LatexWarning: Latex injecting: 'institutions.tex' from 'tmp_2211.02670/institutions.tex'\n",
      "  warnings.warn(LatexWarning(f\"Latex injecting: '{ext}' from '{subsource}'\"))\n",
      "/opt/hostedtoolcache/Python/3.9.15/x64/lib/python3.9/site-packages/arxiv_on_deck_2/latex.py:292: LatexWarning: Latex injecting: 'institutions.tex' from 'tmp_2211.02670/Flashlights Initial Results(1)/institutions.tex'\n",
      "  warnings.warn(LatexWarning(f\"Latex injecting: '{ext}' from '{subsource}'\"))\n"
     ]
    },
    {
     "name": "stdout",
     "output_type": "stream",
     "text": [
      "extracting tarball to tmp_2211.02673..."
     ]
    },
    {
     "name": "stdout",
     "output_type": "stream",
     "text": [
      " done.\n",
      "Retrieving document from  https://arxiv.org/e-print/2211.02823\n"
     ]
    },
    {
     "name": "stdout",
     "output_type": "stream",
     "text": [
      "extracting tarball to tmp_2211.02823..."
     ]
    },
    {
     "name": "stdout",
     "output_type": "stream",
     "text": [
      " done.\n",
      "Retrieving document from  https://arxiv.org/e-print/2211.02855\n"
     ]
    },
    {
     "name": "stderr",
     "output_type": "stream",
     "text": [
      "/opt/hostedtoolcache/Python/3.9.15/x64/lib/python3.9/site-packages/IPython/core/interactiveshell.py:3433: LatexWarning: Multiple tex files.\n",
      "\n",
      "  exec(code_obj, self.user_global_ns, self.user_ns)\n",
      "/opt/hostedtoolcache/Python/3.9.15/x64/lib/python3.9/site-packages/IPython/core/interactiveshell.py:3433: LatexWarning: Found documentclass in tmp_2211.02823/sn2020jfo.tex\n",
      "\n",
      "  exec(code_obj, self.user_global_ns, self.user_ns)\n",
      "/opt/hostedtoolcache/Python/3.9.15/x64/lib/python3.9/site-packages/arxiv_on_deck_2/latex.py:292: LatexWarning: Latex injecting: 'table4_speclog' from 'tmp_2211.02823/table4_speclog.tex'\n",
      "  warnings.warn(LatexWarning(f\"Latex injecting: '{ext}' from '{subsource}'\"))\n",
      "/opt/hostedtoolcache/Python/3.9.15/x64/lib/python3.9/site-packages/arxiv_on_deck_2/latex.py:292: LatexWarning: Latex injecting: 'table_shane' from 'tmp_2211.02823/table_shane.tex'\n",
      "  warnings.warn(LatexWarning(f\"Latex injecting: '{ext}' from '{subsource}'\"))\n",
      "/opt/hostedtoolcache/Python/3.9.15/x64/lib/python3.9/site-packages/arxiv_on_deck_2/latex.py:292: LatexWarning: Latex injecting: 'tablearies' from 'tmp_2211.02823/tablearies.tex'\n",
      "  warnings.warn(LatexWarning(f\"Latex injecting: '{ext}' from '{subsource}'\"))\n",
      "/opt/hostedtoolcache/Python/3.9.15/x64/lib/python3.9/site-packages/arxiv_on_deck_2/latex.py:292: LatexWarning: Latex injecting: 'tablesublco' from 'tmp_2211.02823/tablesublco.tex'\n",
      "  warnings.warn(LatexWarning(f\"Latex injecting: '{ext}' from '{subsource}'\"))\n",
      "/opt/hostedtoolcache/Python/3.9.15/x64/lib/python3.9/site-packages/arxiv_on_deck_2/latex.py:292: LatexWarning: Latex injecting: 'table2_description_of_observation_campaigns' from 'tmp_2211.02823/table2_description_of_observation_campaigns.tex'\n",
      "  warnings.warn(LatexWarning(f\"Latex injecting: '{ext}' from '{subsource}'\"))\n",
      "/opt/hostedtoolcache/Python/3.9.15/x64/lib/python3.9/site-packages/arxiv_on_deck_2/latex.py:292: LatexWarning: Latex injecting: 'table1_uvot_new' from 'tmp_2211.02823/table1_uvot_new.tex'\n",
      "  warnings.warn(LatexWarning(f\"Latex injecting: '{ext}' from '{subsource}'\"))\n",
      "/opt/hostedtoolcache/Python/3.9.15/x64/lib/python3.9/site-packages/arxiv_on_deck_2/latex.py:292: LatexWarning: Latex injecting: 'table_comparison_samples' from 'tmp_2211.02823/table_comparison_samples.tex'\n",
      "  warnings.warn(LatexWarning(f\"Latex injecting: '{ext}' from '{subsource}'\"))\n",
      "/opt/hostedtoolcache/Python/3.9.15/x64/lib/python3.9/site-packages/arxiv_on_deck_2/latex.py:292: LatexWarning: Latex injecting: 'table5_plateau_parameters' from 'tmp_2211.02823/table5_plateau_parameters.tex'\n",
      "  warnings.warn(LatexWarning(f\"Latex injecting: '{ext}' from '{subsource}'\"))\n",
      "/opt/hostedtoolcache/Python/3.9.15/x64/lib/python3.9/site-packages/arxiv_on_deck_2/latex.py:292: LatexWarning: Latex injecting: 'table_information_of_SN' from 'tmp_2211.02823/table_information_of_SN.tex'\n",
      "  warnings.warn(LatexWarning(f\"Latex injecting: '{ext}' from '{subsource}'\"))\n"
     ]
    },
    {
     "name": "stdout",
     "output_type": "stream",
     "text": [
      "extracting tarball to tmp_2211.02855..."
     ]
    },
    {
     "name": "stdout",
     "output_type": "stream",
     "text": [
      " done.\n",
      "Retrieving document from  https://arxiv.org/e-print/2211.02857\n"
     ]
    },
    {
     "name": "stdout",
     "output_type": "stream",
     "text": [
      "extracting tarball to tmp_2211.02857... done.\n",
      "Retrieving document from  https://arxiv.org/e-print/2211.02887\n"
     ]
    },
    {
     "name": "stderr",
     "output_type": "stream",
     "text": [
      "/opt/hostedtoolcache/Python/3.9.15/x64/lib/python3.9/site-packages/IPython/core/interactiveshell.py:3433: LatexWarning: Multiple tex files.\n",
      "\n",
      "  exec(code_obj, self.user_global_ns, self.user_ns)\n",
      "/opt/hostedtoolcache/Python/3.9.15/x64/lib/python3.9/site-packages/IPython/core/interactiveshell.py:3433: LatexWarning: Found documentclass in tmp_2211.02857/main.tex\n",
      "\n",
      "  exec(code_obj, self.user_global_ns, self.user_ns)\n",
      "/opt/hostedtoolcache/Python/3.9.15/x64/lib/python3.9/site-packages/arxiv_on_deck_2/latex.py:292: LatexWarning: Latex injecting: 'Gumbel_parameters' from 'tmp_2211.02857/Gumbel_parameters.tex'\n",
      "  warnings.warn(LatexWarning(f\"Latex injecting: '{ext}' from '{subsource}'\"))\n"
     ]
    },
    {
     "name": "stdout",
     "output_type": "stream",
     "text": [
      "extracting tarball to tmp_2211.02887... done.\n",
      "Retrieving document from  https://arxiv.org/e-print/2211.03029\n"
     ]
    },
    {
     "name": "stderr",
     "output_type": "stream",
     "text": [
      "/opt/hostedtoolcache/Python/3.9.15/x64/lib/python3.9/site-packages/IPython/core/interactiveshell.py:3433: LatexWarning: Multiple tex files.\n",
      "\n",
      "  exec(code_obj, self.user_global_ns, self.user_ns)\n",
      "/opt/hostedtoolcache/Python/3.9.15/x64/lib/python3.9/site-packages/IPython/core/interactiveshell.py:3433: LatexWarning: Found documentclass in tmp_2211.02887/manuscript.tex\n",
      "\n",
      "  exec(code_obj, self.user_global_ns, self.user_ns)\n",
      "/opt/hostedtoolcache/Python/3.9.15/x64/lib/python3.9/site-packages/arxiv_on_deck_2/latex.py:292: LatexWarning: Latex injecting: 'newcommands' from 'tmp_2211.02887/newcommands.tex'\n",
      "  warnings.warn(LatexWarning(f\"Latex injecting: '{ext}' from '{subsource}'\"))\n"
     ]
    },
    {
     "name": "stdout",
     "output_type": "stream",
     "text": [
      "extracting tarball to tmp_2211.03029... done.\n",
      "Retrieving document from  https://arxiv.org/e-print/2211.03236\n"
     ]
    },
    {
     "name": "stderr",
     "output_type": "stream",
     "text": [
      "/opt/hostedtoolcache/Python/3.9.15/x64/lib/python3.9/site-packages/arxiv_on_deck_2/latex.py:292: LatexWarning: Latex injecting: 'Arxiv_GRB201015A.bbl' from 'tmp_2211.03029/Arxiv_GRB201015A.tex'\n",
      "  warnings.warn(LatexWarning(f\"Latex injecting: '{ext}' from '{subsource}'\"))\n"
     ]
    },
    {
     "name": "stdout",
     "output_type": "stream",
     "text": [
      "extracting tarball to tmp_2211.03236... done.\n",
      "Retrieving document from  https://arxiv.org/e-print/2211.03246\n"
     ]
    },
    {
     "name": "stdout",
     "output_type": "stream",
     "text": [
      "extracting tarball to tmp_2211.03246..."
     ]
    },
    {
     "name": "stdout",
     "output_type": "stream",
     "text": [
      " done.\n",
      "Retrieving document from  https://arxiv.org/e-print/2211.03258\n"
     ]
    },
    {
     "name": "stdout",
     "output_type": "stream",
     "text": [
      "extracting tarball to tmp_2211.03258... done.\n",
      "Retrieving document from  https://arxiv.org/e-print/2211.03400\n"
     ]
    },
    {
     "name": "stdout",
     "output_type": "stream",
     "text": [
      "extracting tarball to tmp_2211.03400... done.\n",
      "Retrieving document from  https://arxiv.org/e-print/2211.03414\n"
     ]
    },
    {
     "name": "stdout",
     "output_type": "stream",
     "text": [
      "extracting tarball to tmp_2211.03414..."
     ]
    },
    {
     "name": "stdout",
     "output_type": "stream",
     "text": [
      " done.\n",
      "Retrieving document from  https://arxiv.org/e-print/2211.03416\n"
     ]
    },
    {
     "name": "stdout",
     "output_type": "stream",
     "text": [
      "extracting tarball to tmp_2211.03416..."
     ]
    },
    {
     "name": "stdout",
     "output_type": "stream",
     "text": [
      " done.\n",
      "Retrieving document from  https://arxiv.org/e-print/2211.03557\n"
     ]
    },
    {
     "name": "stdout",
     "output_type": "stream",
     "text": [
      "extracting tarball to tmp_2211.03557..."
     ]
    },
    {
     "name": "stdout",
     "output_type": "stream",
     "text": [
      " done.\n",
      "Retrieving document from  https://arxiv.org/e-print/2211.03582\n"
     ]
    },
    {
     "name": "stdout",
     "output_type": "stream",
     "text": [
      "extracting tarball to tmp_2211.03582..."
     ]
    },
    {
     "name": "stdout",
     "output_type": "stream",
     "text": [
      " done.\n",
      "Retrieving document from  https://arxiv.org/e-print/2211.03641\n"
     ]
    },
    {
     "name": "stdout",
     "output_type": "stream",
     "text": [
      "extracting tarball to tmp_2211.03641..."
     ]
    },
    {
     "name": "stdout",
     "output_type": "stream",
     "text": [
      " done.\n"
     ]
    },
    {
     "name": "stderr",
     "output_type": "stream",
     "text": [
      "/opt/hostedtoolcache/Python/3.9.15/x64/lib/python3.9/site-packages/IPython/core/interactiveshell.py:3433: LatexWarning: Multiple tex files.\n",
      "\n",
      "  exec(code_obj, self.user_global_ns, self.user_ns)\n",
      "/opt/hostedtoolcache/Python/3.9.15/x64/lib/python3.9/site-packages/IPython/core/interactiveshell.py:3433: LatexWarning: Found documentclass in tmp_2211.03641/main.tex\n",
      "\n",
      "  exec(code_obj, self.user_global_ns, self.user_ns)\n",
      "/opt/hostedtoolcache/Python/3.9.15/x64/lib/python3.9/site-packages/arxiv_on_deck_2/latex.py:292: LatexWarning: Latex injecting: 'appendix3' from 'tmp_2211.03641/appendix3.tex'\n",
      "  warnings.warn(LatexWarning(f\"Latex injecting: '{ext}' from '{subsource}'\"))\n",
      "/opt/hostedtoolcache/Python/3.9.15/x64/lib/python3.9/site-packages/arxiv_on_deck_2/latex.py:292: LatexWarning: Latex injecting: 'appendix2' from 'tmp_2211.03641/appendix2.tex'\n",
      "  warnings.warn(LatexWarning(f\"Latex injecting: '{ext}' from '{subsource}'\"))\n",
      "/opt/hostedtoolcache/Python/3.9.15/x64/lib/python3.9/site-packages/arxiv_on_deck_2/latex.py:292: LatexWarning: Latex injecting: 'appendix1' from 'tmp_2211.03641/appendix1.tex'\n",
      "  warnings.warn(LatexWarning(f\"Latex injecting: '{ext}' from '{subsource}'\"))\n",
      "/opt/hostedtoolcache/Python/3.9.15/x64/lib/python3.9/site-packages/arxiv_on_deck_2/latex.py:292: LatexWarning: Latex injecting: 'acknowledgements' from 'tmp_2211.03641/acknowledgements.tex'\n",
      "  warnings.warn(LatexWarning(f\"Latex injecting: '{ext}' from '{subsource}'\"))\n",
      "/opt/hostedtoolcache/Python/3.9.15/x64/lib/python3.9/site-packages/arxiv_on_deck_2/latex.py:292: LatexWarning: Latex injecting: 'conclusions' from 'tmp_2211.03641/conclusions.tex'\n",
      "  warnings.warn(LatexWarning(f\"Latex injecting: '{ext}' from '{subsource}'\"))\n",
      "/opt/hostedtoolcache/Python/3.9.15/x64/lib/python3.9/site-packages/arxiv_on_deck_2/latex.py:292: LatexWarning: Latex injecting: 'variability' from 'tmp_2211.03641/variability.tex'\n",
      "  warnings.warn(LatexWarning(f\"Latex injecting: '{ext}' from '{subsource}'\"))\n",
      "/opt/hostedtoolcache/Python/3.9.15/x64/lib/python3.9/site-packages/arxiv_on_deck_2/latex.py:292: LatexWarning: Latex injecting: 'clusters' from 'tmp_2211.03641/clusters.tex'\n",
      "  warnings.warn(LatexWarning(f\"Latex injecting: '{ext}' from '{subsource}'\"))\n",
      "/opt/hostedtoolcache/Python/3.9.15/x64/lib/python3.9/site-packages/arxiv_on_deck_2/latex.py:292: LatexWarning: Latex injecting: 'clusters' from 'tmp_2211.03641/old/clusters.tex'\n",
      "  warnings.warn(LatexWarning(f\"Latex injecting: '{ext}' from '{subsource}'\"))\n",
      "/opt/hostedtoolcache/Python/3.9.15/x64/lib/python3.9/site-packages/arxiv_on_deck_2/latex.py:292: LatexWarning: Latex injecting: 'binaries' from 'tmp_2211.03641/binaries.tex'\n",
      "  warnings.warn(LatexWarning(f\"Latex injecting: '{ext}' from '{subsource}'\"))\n",
      "/opt/hostedtoolcache/Python/3.9.15/x64/lib/python3.9/site-packages/arxiv_on_deck_2/latex.py:292: LatexWarning: Latex injecting: 'binaries' from 'tmp_2211.03641/old/binaries.tex'\n",
      "  warnings.warn(LatexWarning(f\"Latex injecting: '{ext}' from '{subsource}'\"))\n",
      "/opt/hostedtoolcache/Python/3.9.15/x64/lib/python3.9/site-packages/arxiv_on_deck_2/latex.py:292: LatexWarning: Latex injecting: 'hbm' from 'tmp_2211.03641/hbm.tex'\n",
      "  warnings.warn(LatexWarning(f\"Latex injecting: '{ext}' from '{subsource}'\"))\n",
      "/opt/hostedtoolcache/Python/3.9.15/x64/lib/python3.9/site-packages/arxiv_on_deck_2/latex.py:292: LatexWarning: Latex injecting: 'rpspectra' from 'tmp_2211.03641/rpspectra.tex'\n",
      "  warnings.warn(LatexWarning(f\"Latex injecting: '{ext}' from '{subsource}'\"))\n",
      "/opt/hostedtoolcache/Python/3.9.15/x64/lib/python3.9/site-packages/arxiv_on_deck_2/latex.py:292: LatexWarning: Latex injecting: 'selection' from 'tmp_2211.03641/selection.tex'\n",
      "  warnings.warn(LatexWarning(f\"Latex injecting: '{ext}' from '{subsource}'\"))\n",
      "/opt/hostedtoolcache/Python/3.9.15/x64/lib/python3.9/site-packages/arxiv_on_deck_2/latex.py:292: LatexWarning: Latex injecting: 'selection' from 'tmp_2211.03641/old/selection.tex'\n",
      "  warnings.warn(LatexWarning(f\"Latex injecting: '{ext}' from '{subsource}'\"))\n",
      "/opt/hostedtoolcache/Python/3.9.15/x64/lib/python3.9/site-packages/arxiv_on_deck_2/latex.py:292: LatexWarning: Latex injecting: 'intro' from 'tmp_2211.03641/intro.tex'\n",
      "  warnings.warn(LatexWarning(f\"Latex injecting: '{ext}' from '{subsource}'\"))\n",
      "/opt/hostedtoolcache/Python/3.9.15/x64/lib/python3.9/site-packages/arxiv_on_deck_2/latex.py:292: LatexWarning: Latex injecting: 'authors' from 'tmp_2211.03641/authors.tex'\n",
      "  warnings.warn(LatexWarning(f\"Latex injecting: '{ext}' from '{subsource}'\"))\n",
      "/opt/hostedtoolcache/Python/3.9.15/x64/lib/python3.9/site-packages/arxiv_on_deck_2/latex.py:292: LatexWarning: Latex injecting: 'notations' from 'tmp_2211.03641/notations.tex'\n",
      "  warnings.warn(LatexWarning(f\"Latex injecting: '{ext}' from '{subsource}'\"))\n",
      "/opt/hostedtoolcache/Python/3.9.15/x64/lib/python3.9/site-packages/arxiv_on_deck_2/latex.py:292: LatexWarning: Latex injecting: 'longauth' from 'tmp_2211.03641/longauth.tex'\n",
      "  warnings.warn(LatexWarning(f\"Latex injecting: '{ext}' from '{subsource}'\"))\n"
     ]
    },
    {
     "name": "stderr",
     "output_type": "stream",
     "text": [
      "/opt/hostedtoolcache/Python/3.9.15/x64/lib/python3.9/site-packages/arxiv_on_deck_2/latex.py:366: LatexWarning: Error parsing the document directly. Trying to recover.\n",
      "  warnings.warn(LatexWarning(f\"Error parsing the document directly. Trying to recover.\"))\n"
     ]
    },
    {
     "name": "stdout",
     "output_type": "stream",
     "text": [
      "✔ → 0:header\n",
      "  ↳ 26104:\\section{Introduction \\label{sec:intro}}\n",
      "✔ → 26104:\\section{Introduction \\label{sec:intro}}\n",
      "  ↳ 32608:\\section{The selection of candidates}\n"
     ]
    },
    {
     "name": "stdout",
     "output_type": "stream",
     "text": [
      "✔ → 32608:\\section{The selection of candidates}\n",
      "  ↳ 33013:\\section{Colour-Absolute magnitude diagrams}\n",
      "✔ → 33013:\\section{Colour-Absolute magnitude diagrams}\n",
      "  ↳ 36809:\\section{The Gaia catalogue of UCD candidates}\n"
     ]
    },
    {
     "name": "stdout",
     "output_type": "stream",
     "text": [
      "✔ → 36809:\\section{The Gaia catalogue of UCD candidates}\n",
      "  ↳ 50103:\\section{RP Spectra} \\label{sec:rpspectra}\n"
     ]
    },
    {
     "name": "stdout",
     "output_type": "stream",
     "text": [
      "✔ → 50103:\\section{RP Spectra} \\label{sec:rpspectra}\n",
      "  ↳ 58018:\\section{Bayesian distances and the Luminosity Function}\\label{sec:LF}\n"
     ]
    },
    {
     "name": "stdout",
     "output_type": "stream",
     "text": [
      "✔ → 58018:\\section{Bayesian distances and the Luminosity Function}\\label{sec:LF}\n",
      "  ↳ 78819:\\section{UCDs in binary systems}\n"
     ]
    },
    {
     "name": "stdout",
     "output_type": "stream",
     "text": [
      "✔ → 78819:\\section{UCDs in binary systems}\n",
      "  ↳ 85959:\\section{UCDs in moving groups and clusters}\n"
     ]
    },
    {
     "name": "stdout",
     "output_type": "stream",
     "text": [
      "✔ → 85959:\\section{UCDs in moving groups and clusters}\n",
      "  ↳ 93411:\\section{UCDs in star forming regions, clusters and moving groups.}\n"
     ]
    },
    {
     "name": "stdout",
     "output_type": "stream",
     "text": [
      "✔ → 93411:\\section{UCDs in star forming regions, clusters and moving groups.}\n",
      "  ↳ 108788:\\section{Variability of UCDs}\n",
      "✔ → 108788:\\section{Variability of UCDs}\n",
      "  ↳ 113773:\\section{Summary}\n"
     ]
    },
    {
     "name": "stdout",
     "output_type": "stream",
     "text": [
      "✔ → 113773:\\section{Summary}\n",
      "  ↳ 116899:\\begin{appendix}\n",
      "✔ → 116899:\\begin{appendix}\n",
      "  ↳ 116916:\\section{Alternative colour-absolute magnitude diagrams}\n",
      "✔ → 116916:\\section{Alternative colour-absolute magnitude diagrams}\n",
      "  ↳ 119015:\\section{Details of the probabilistic model}\\label{appendix:ModelConsiderations}\n"
     ]
    },
    {
     "name": "stdout",
     "output_type": "stream",
     "text": [
      "✔ → 119015:\\section{Details of the probabilistic model}\\label{appendix:ModelConsiderations}\n",
      "  ↳ 123650:\\section{Stellar associations complementary material}\\label{appendix:clusters}\n"
     ]
    },
    {
     "name": "stdout",
     "output_type": "stream",
     "text": [
      "✔ → 123650:\\section{Stellar associations complementary material}\\label{appendix:clusters}\n",
      "  ↳ 130916:end\n"
     ]
    },
    {
     "name": "stderr",
     "output_type": "stream",
     "text": [
      "/opt/hostedtoolcache/Python/3.9.15/x64/lib/python3.9/site-packages/arxiv_on_deck_2/latex.py:118: LatexWarning: attempting recovering figure fig/RPs\n",
      "  warnings.warn(LatexWarning(f'attempting recovering figure {image}'))\n"
     ]
    },
    {
     "name": "stderr",
     "output_type": "stream",
     "text": [
      "/opt/hostedtoolcache/Python/3.9.15/x64/lib/python3.9/site-packages/arxiv_on_deck_2/latex.py:118: LatexWarning: attempting recovering figure fig/gtcomparison\n",
      "  warnings.warn(LatexWarning(f'attempting recovering figure {image}'))\n"
     ]
    },
    {
     "name": "stderr",
     "output_type": "stream",
     "text": [
      "/opt/hostedtoolcache/Python/3.9.15/x64/lib/python3.9/site-packages/arxiv_on_deck_2/latex.py:118: LatexWarning: attempting recovering figure fig/gtcomparisoncalib\n",
      "  warnings.warn(LatexWarning(f'attempting recovering figure {image}'))\n"
     ]
    },
    {
     "name": "stderr",
     "output_type": "stream",
     "text": [
      "/opt/hostedtoolcache/Python/3.9.15/x64/lib/python3.9/site-packages/arxiv_on_deck_2/latex.py:118: LatexWarning: attempting recovering figure ./0_Figures/CM_G_G-RP_Pleiades_Abs\n",
      "  warnings.warn(LatexWarning(f'attempting recovering figure {image}'))\n"
     ]
    },
    {
     "name": "stdout",
     "output_type": "stream",
     "text": [
      "Retrieving document from  https://arxiv.org/e-print/2211.03747\n"
     ]
    },
    {
     "name": "stdout",
     "output_type": "stream",
     "text": [
      "extracting tarball to tmp_2211.03747... done.\n"
     ]
    }
   ],
   "source": [
    "documents = []\n",
    "failed = []\n",
    "for paper in tqdm(candidates[:-1]):\n",
    "    paper_id = paper['identifier'].lower().replace('arxiv:', '')\n",
    "    \n",
    "    folder = f'tmp_{paper_id}'\n",
    "\n",
    "    try:\n",
    "        if not os.path.isdir(folder):\n",
    "            folder = retrieve_document_source(f\"{paper_id}\", f'tmp_{paper_id}')\n",
    "        \n",
    "        try:\n",
    "            doc = latex.LatexDocument(folder, validation=validation)    \n",
    "        except AffiliationError as affilerror:\n",
    "            msg = f\"ArXiv:{paper_id:s} is not an MPIA paper... \" + str(affilerror)\n",
    "            failed.append((paper, \"affiliation error: \" + str(affilerror) ))\n",
    "            continue\n",
    "        \n",
    "        # Hack because sometimes author parsing does not work well\n",
    "        if (len(doc.authors) != len(paper['authors'])):\n",
    "            doc._authors = paper['authors']\n",
    "        if (doc.abstract) in (None, ''):\n",
    "            doc._abstract = paper['abstract']\n",
    "            \n",
    "        doc.comment = (get_markdown_badge(paper_id) + \n",
    "                       \"<mark>Appeared on: \" + paper['date'] + \"</mark> - \" +\n",
    "                       \"_\" + paper['comments'] + \"_\")\n",
    "        doc.highlight_authors_in_list(hl_list)\n",
    "\n",
    "        full_md = doc.generate_markdown_text()\n",
    "        \n",
    "        documents.append((paper_id, full_md))\n",
    "    except Exception as e:\n",
    "        warnings.warn(latex.LatexWarning(f\"{paper_id:s} did not run properly\\n\" +\n",
    "                                         str(e)\n",
    "                                        ))\n",
    "        failed.append((paper, \"latex error \" + str(e)))"
   ]
  },
  {
   "cell_type": "markdown",
   "id": "2505a25c",
   "metadata": {
    "papermill": {
     "duration": 0.006766,
     "end_time": "2022-11-08T04:33:13.540272",
     "exception": false,
     "start_time": "2022-11-08T04:33:13.533506",
     "status": "completed"
    },
    "tags": []
   },
   "source": [
    "### Export the logs\n",
    "\n",
    "Throughout, we also keep track of the logs per paper. see `logs-{today date}.md` "
   ]
  },
  {
   "cell_type": "code",
   "execution_count": 6,
   "id": "d733828a",
   "metadata": {
    "execution": {
     "iopub.execute_input": "2022-11-08T04:33:13.555235Z",
     "iopub.status.busy": "2022-11-08T04:33:13.554616Z",
     "iopub.status.idle": "2022-11-08T04:33:13.579473Z",
     "shell.execute_reply": "2022-11-08T04:33:13.578610Z"
    },
    "papermill": {
     "duration": 0.03412,
     "end_time": "2022-11-08T04:33:13.581000",
     "exception": false,
     "start_time": "2022-11-08T04:33:13.546880",
     "status": "completed"
    },
    "scrolled": false,
    "tags": []
   },
   "outputs": [
    {
     "data": {
      "text/markdown": [
       "## Successful papers"
      ],
      "text/plain": [
       "<IPython.core.display.Markdown object>"
      ]
     },
     "metadata": {},
     "output_type": "display_data"
    },
    {
     "data": {
      "text/markdown": [
       "\n",
       "|||\n",
       "|---:|:---|\n",
       "| [![arXiv](https://img.shields.io/badge/arXiv-arXiv:2211.03641-b31b1b.svg)](https://arxiv.org/abs/arXiv:2211.03641) | **Ultracool dwarfs in Gaia DR3**  |\n",
       "|| L.M. Sarro, et al. -- incl., <mark>M. García-Torres</mark>, <mark>C.A.L. Bailer-Jones</mark>, <mark>R. Andrae</mark>, <mark>M. Fouesneau</mark>, <mark>E. Livanou</mark>, <mark>H. Zhao</mark> |\n",
       "|*Appeared on*| *2022-11-08*|\n",
       "|*Comments*| *Accepted by Astronomy and Astrophysics. 29 pages, 20 figures plus 3 appendices*|\n",
       "|**Abstract**| Aims. In this work we use the Gaia DR3 set of ultracool dwarf candidates and complement the Gaia spectrophotometry with additional photometry in order to characterise its global properties. This includes the inference of the distances, their locus in the Gaia colour-absolute magnitude diagram and the (biased through selection) luminosity function in the faint end of the Main Sequence. We study the overall changes in the Gaia RP spectra as a function of spectral type. We study the UCDs in binary systems, attempt to identify low-mass members of nearby young associations, star forming regions and clusters, and analyse their variability properties. Results. We detect 57 young, kinematically homogeneous groups some of which are identified as well known star forming regions, associations and clusters of different ages. We find that the primary members of 880 binary systems with a UCD belong mainly to the thin and thick disk components of the Milky Way. We identify 1109 variable UCDs using the variability tables in the Gaia archive, 728 of which belong to the star forming regions defined by HMAC. We define two groups of variable UCDs with extreme bright or faint outliers. Conclusions. The set of sources identified as UCDs in the Gaia archive contains a wealth of information that will require focused follow-up studies and observations. It will help to advance our understanding of the nature of the faint end of the Main Sequence and the stellar/substellar transition. |"
      ],
      "text/plain": [
       "[arXiv:2211.03641] Ultracool dwarfs in Gaia DR3\n",
       "\tL.M. Sarro, et al. -- incl., <mark>M. García-Torres</mark>, <mark>C.A.L. Bailer-Jones</mark>, <mark>R. Andrae</mark>, <mark>M. Fouesneau</mark>, <mark>E. Livanou</mark>, <mark>H. Zhao</mark>"
      ]
     },
     "metadata": {},
     "output_type": "display_data"
    },
    {
     "data": {
      "text/markdown": [
       "## Failed papers"
      ],
      "text/plain": [
       "<IPython.core.display.Markdown object>"
      ]
     },
     "metadata": {},
     "output_type": "display_data"
    },
    {
     "data": {
      "text/markdown": [
       "\n",
       "|||\n",
       "|---:|:---|\n",
       "| [![arXiv](https://img.shields.io/badge/arXiv-arXiv:2211.03416-b31b1b.svg)](https://arxiv.org/abs/arXiv:2211.03416) | **Comparative analysis of atmospheric parameters from high-resolution  spectroscopic sky surveys: APOGEE, GALAH, Gaia-ESO**  |\n",
       "|| <mark>Viola Hegedűs</mark>, et al. -- incl., <mark>Domingo Aníbal García-Hernández</mark> |\n",
       "|*Appeared on*| *2022-11-08*|\n",
       "|*Comments*| *Accepted in A&A, 23 pages, 13 figures, 6 tables*|\n",
       "|**Abstract**| SDSS-IV APOGEE-2, GALAH and Gaia-ESO are high resolution, ground-based, multi-object spectroscopic surveys providing fundamental stellar atmospheric parameters and multiple elemental abundance ratios for hundreds of thousands of stars of the Milky Way. We undertake a comparison between the most recent data releases of these surveys to investigate the accuracy and precision of derived parameters by placing the abundances on an absolute scale. We discuss the correlations in parameter and abundance differences as a function of main parameters. Uncovering the variants provides a basis to on-going efforts of future sky surveys. Quality samples from the APOGEE-GALAH, APOGEE-GES and GALAH-GES overlapping catalogs are collected. We investigate the mean variants between the surveys, and linear trends are also investigated. We compare the slope of correlations and mean differences with the reported uncertainties. The average and scatter of vrad, Teff, log g, [M/H] and vmicro, along with numerous species of elemental abundances in the combined catalogs show that in general there is a good agreement between the surveys. We find large radial velocity scatters ranging from 1.3 km/s to 4.4 km/s when comparing the three surveys. We observe weak trends: e.g. in $\\Delta$Teff vs. $\\Delta$log g for the APOGEE-GES stars, and a clear correlation in the vmicro-$\\Delta$vmicro planes in the APOGEE-GALAH common sample. For [$\\alpha$/H], [Ti/H] (APOGEE-GALAH giants) and [Al/H] (APOGEE-GALAH dwarfs) potential strong correlations are discovered as a function of the differences in the main atmospheric parameters, and we find weak trends for other elements. In general we find good agreement between the three surveys within their respective uncertainties. However, there are certain regimes in which strong variants exist, which we discuss. There are still offsets larger than 0.1 dex in the absolute abundance scales. |\n",
       "|<p style=\"color:green\"> **ERROR** </p>| <p style=\"color:green\">affiliation error: mpia.affiliation_verifications: '69117' keyword not found.</p> |"
      ],
      "text/plain": [
       "<IPython.core.display.Markdown object>"
      ]
     },
     "metadata": {},
     "output_type": "display_data"
    },
    {
     "data": {
      "text/markdown": [
       "\n",
       "|||\n",
       "|---:|:---|\n",
       "| [![arXiv](https://img.shields.io/badge/arXiv-arXiv:2211.02673-b31b1b.svg)](https://arxiv.org/abs/arXiv:2211.02673) | **Unusual Abundances from Planetary System Material Polluting the White  Dwarf G238-44**  |\n",
       "|| Ted M Johnson, et al. -- incl., <mark>Beth L. Klein</mark> |\n",
       "|*Appeared on*| *2022-11-08*|\n",
       "|*Comments*| *Accepted to ApJ. 18 pages, 9 figures, 7 tables*|\n",
       "|**Abstract**| Ultraviolet and optical spectra of the hydrogen-dominated atmosphere white dwarf star G238-44 obtained with FUSE, Keck/HIRES, HST/COS, and HST/STIS reveal ten elements heavier than helium: C, N, O, Mg, Al, Si, P, S, Ca, and Fe. G238-44 is only the third white dwarf with nitrogen detected in its atmosphere from polluting planetary system material. Keck/HIRES data taken on eleven nights over 24 years show no evidence for variation in the equivalent width of measured absorption lines, suggesting stable and continuous accretion from a circumstellar reservoir. From measured abundances and limits on other elements we find an anomalous abundance pattern and evidence for the presence of metallic iron. If the pollution is from a single parent body, then it would have no known counterpart within the solar system. If we allow for two distinct parent bodies, then we can reproduce the observed abundances with a mix of iron-rich Mercury-like material and an analog of an icy Kuiper Belt object with a respective mass ratio of 1.7:1. Such compositionally disparate objects would provide chemical evidence for both rocky and icy bodies in an exoplanetary system and would be indicative of a planetary system so strongly perturbed that G238-44 is able to capture both asteroid- and Kuiper Belt-analog bodies near-simultaneously within its $<$100 Myr cooling age. |\n",
       "|<p style=\"color:green\"> **ERROR** </p>| <p style=\"color:green\">affiliation error: mpia.affiliation_verifications: 'Heidelberg' keyword not found.</p> |"
      ],
      "text/plain": [
       "<IPython.core.display.Markdown object>"
      ]
     },
     "metadata": {},
     "output_type": "display_data"
    },
    {
     "data": {
      "text/markdown": [
       "\n",
       "|||\n",
       "|---:|:---|\n",
       "| [![arXiv](https://img.shields.io/badge/arXiv-arXiv:2211.02823-b31b1b.svg)](https://arxiv.org/abs/arXiv:2211.02823) | **Photometric and spectroscopic analysis of the Type II SN 2020jfo with a  short plateau**  |\n",
       "|| B. Ailawadhi, et al. -- incl., <mark>A. Ghosh</mark>, <mark>T. E. Müller-Bravo</mark> |\n",
       "|*Appeared on*| *2022-11-08*|\n",
       "|*Comments*| *20 pages (plus 5 pages appendix), 19 figures, Accepted for publication in MNRAS*|\n",
       "|**Abstract**| We present high-cadence photometric and spectroscopic observations of SN~2020jfo in ultraviolet and optical/near-infrared bands starting from $\\sim 3$ to $\\sim 434$ days after the explosion, including the earliest data with the 10.4\\,m GTC. SN~2020jfo is a hydrogen-rich Type II SN with a relatively short plateau duration ($67.0 \\pm 0.6$ days). When compared to other Type II supernovae (SNe) of similar or shorter plateau lengths, SN~2020jfo exhibits a fainter peak absolute $V$-band magnitude ($M_V = -16.90 \\pm 0.34$ mag). SN~2020jfo shows significant H$\\alpha$ absorption in the plateau phase similar to that of typical SNe~II. The emission line of stable [Ni~II] $\\lambda$7378, mostly seen in low-luminosity SNe~II, is very prominent in the nebular-phase spectra of SN~2020jfo. Using the relative strengths of [Ni~II] $\\lambda$7378 and [Fe~II] $\\lambda$7155, we derive the Ni/Fe production (abundance) ratio of 0.08--0.10, which is $\\sim 1.5$ times the solar value. The progenitor mass of SN~2020jfo from nebular-phase spectral modelling and semi-analytical modelling falls in the range of 12--15\\,$M_\\odot$. Furthermore, semi-analytical modelling suggests a massive H envelope in the progenitor of SN~2020jfo, which is unlikely for SNe~II having short plateaus. |\n",
       "|<p style=\"color:green\"> **ERROR** </p>| <p style=\"color:green\">affiliation error: mpia.affiliation_verifications: 'Heidelberg' keyword not found.</p> |"
      ],
      "text/plain": [
       "<IPython.core.display.Markdown object>"
      ]
     },
     "metadata": {},
     "output_type": "display_data"
    },
    {
     "data": {
      "text/markdown": [
       "\n",
       "|||\n",
       "|---:|:---|\n",
       "| [![arXiv](https://img.shields.io/badge/arXiv-arXiv:2211.02855-b31b1b.svg)](https://arxiv.org/abs/arXiv:2211.02855) | **Directed search for continuous gravitational waves from the possible  kilonova remnant G4.8+6.2**  |\n",
       "|| <mark>Yu Liu</mark>, Yuan-Chuan Zou |\n",
       "|*Appeared on*| *2022-11-08*|\n",
       "|*Comments*| *8 pages, 6 figures, 1 tables, Accepted for publication in Physical Review D*|\n",
       "|**Abstract**| G4.8+6.2 was proposed as a possible kilonova remnant associated with the Korean guest star of AD 1163 in our Milky Way galaxy. Its age is about 860 years according to the historical record. If a neutron star was left in the center of G4.8+6.2, this young neutron star may radiate strong continuous gravitational waves, which could beat the indirect age-based upper limit with current LIGO sensitivity. In this work, we searched such continuous gravitational waves in the frequency band $20-1500 \\mathrm{~Hz}$. This search used two days of LIGO O3b data from the Hanford and Livingston detectors. While no signal was found, we placed upper limits on the gravitational wave strain. For comparison we also showed the latest results of all-sky searches obtained with various search pipelines. With upgrading of the LIGO detectors, it will provide the opportunity to see whether a black hole or a neutron star is harbored inside G4.8+6.2. |\n",
       "|<p style=\"color:green\"> **ERROR** </p>| <p style=\"color:green\">affiliation error: mpia.affiliation_verifications: 'Heidelberg' keyword not found.</p> |"
      ],
      "text/plain": [
       "<IPython.core.display.Markdown object>"
      ]
     },
     "metadata": {},
     "output_type": "display_data"
    },
    {
     "data": {
      "text/markdown": [
       "\n",
       "|||\n",
       "|---:|:---|\n",
       "| [![arXiv](https://img.shields.io/badge/arXiv-arXiv:2211.02857-b31b1b.svg)](https://arxiv.org/abs/arXiv:2211.02857) | **Constraining the sources of ultra-high-energy cosmic rays across and  above the ankle with the spectrum and composition data measured at the Pierre  Auger Observatory**  |\n",
       "|| Pierre Auger Collaboration, et al. |\n",
       "|*Appeared on*| *2022-11-08*|\n",
       "|*Comments*| *Submitted to JCAP*|\n",
       "|**Abstract**| In this work we present the interpretation of the energy spectrum and mass composition data as measured by the Pierre Auger Collaboration above $6 \\times 10^{17}$ eV. We use an astrophysical model with two extragalactic source populations to model the hardening of the cosmic-ray flux at around $5\\times 10^{18}$ eV (the so-called \"ankle\" feature) as a transition between these two components. We find our data to be well reproduced if sources above the ankle emit a mixed composition with a hard spectrum and a low rigidity cutoff. The component below the ankle is required to have a very soft spectrum and a mix of protons and intermediate-mass nuclei. The origin of this intermediate-mass component is not well constrained and it could originate from either Galactic or extragalactic sources. To the aim of evaluating our capability to constrain astrophysical models, we discuss the impact on the fit results of the main experimental systematic uncertainties and of the assumptions about quantities affecting the air shower development as well as the propagation and redshift distribution of injected ultra-high-energy cosmic rays (UHECRs). |\n",
       "|<p style=\"color:green\"> **ERROR** </p>| <p style=\"color:green\">affiliation error: mpia.affiliation_verifications: 'Heidelberg' keyword not found.</p> |"
      ],
      "text/plain": [
       "<IPython.core.display.Markdown object>"
      ]
     },
     "metadata": {},
     "output_type": "display_data"
    },
    {
     "data": {
      "text/markdown": [
       "\n",
       "|||\n",
       "|---:|:---|\n",
       "| [![arXiv](https://img.shields.io/badge/arXiv-arXiv:2211.02887-b31b1b.svg)](https://arxiv.org/abs/arXiv:2211.02887) | **Planet(esimal)s Around Stars with TESS (PAST) III: A Search for Triplet  He I in the Atmospheres of Two 200 Myr-old Planets**  |\n",
       "|| Eric Gaidos, et al. -- incl., <mark>Rena A. Lee</mark>, <mark>Akitoshi Ueda</mark> |\n",
       "|*Appeared on*| *2022-11-08*|\n",
       "|*Comments*| *Accepted to MNRAS*|\n",
       "|**Abstract**| We report a search for excess absorption in the 1083.2 nm line of ortho (triplet) helium during transits of TOI-1807b and TOI-2076b, 1.25 and 2.5R$_{\\rm Earth}$ planets on 0.55- and 10.4-day orbits around nearby $\\sim$200~Myr-old K dwarf stars. We limit the equivalent width of any transit-associated absorption to $<$4 and $<$8 mA, respectively. We limit the escape of solar-composition atmospheres from TOI-1807b and TOI-2076b to $\\lesssim$1 and $\\lesssim$0.1M$_{\\rm Earth}$ Gyr$^{-1}$, respectively, depending on wind temperature. The absence of a H/He signature for TOI-1807b is consistent with a measurement of mass indicating a rocky body and the prediction by a hydrodynamic model that any H-dominated atmosphere would be unstable and already have been lost. Differential spectra obtained during the transit of TOI-2076b contain a He I-like feature, but this closely resembles the stellar line and extends beyond the transit interval. Until additional transits are observed, we suspect this to be the result of variation in the stellar He I line produced by rotation of active regions and/or flaring on the young, active host star. Non-detection of escape could mean that TOI-2076b is more massive than expected, the star is less EUV-luminous, the models overestimate escape, or the planet has a H/He-poor atmosphere that is primarily molecules such as H$_2$O. Photochemical models of planetary winds predict a semi-major axis at which triplet He I observations are most sensitive to mass loss: TOI-2076b orbits near this optimum. Future surveys could use a distance criterion to increase the yield of detections. |\n",
       "|<p style=\"color:green\"> **ERROR** </p>| <p style=\"color:green\">affiliation error: mpia.affiliation_verifications: 'Heidelberg' keyword not found.</p> |"
      ],
      "text/plain": [
       "<IPython.core.display.Markdown object>"
      ]
     },
     "metadata": {},
     "output_type": "display_data"
    },
    {
     "data": {
      "text/markdown": [
       "\n",
       "|||\n",
       "|---:|:---|\n",
       "| [![arXiv](https://img.shields.io/badge/arXiv-arXiv:2211.03029-b31b1b.svg)](https://arxiv.org/abs/arXiv:2211.03029) | **Evolution of the afterglow optical spectral shape of GRB 201015A in the  first hour: evidence for dust destruction**  |\n",
       "|| Toktarkhan Komesh, et al. -- incl., <mark>Bruce Grossan</mark> |\n",
       "|*Appeared on*| *2022-11-08*|\n",
       "|*Comments*| *7 pages, 3 figures. Submitted to MNRAS*|\n",
       "|**Abstract**| Instruments such as the ROTSE, TORTORA, Pi of the Sky, MASTER-net, and others have recorded single-band optical flux measurements starting as early as $\\thicksim$ 10 seconds after a gamma-ray burst trigger. The earliest measurements of optical spectral shape have been made only much later, typically on hour time scales, never starting less than a minute after trigger, until now. Beginning only 58 seconds after the Swift BAT triggerred on GRB201015A, we observed a sharp rise in flux to a peak, followed by an approximate power law decay light curve, $\\propto t^{-0.81 \\pm 0.03}$. Flux was measured simultaneously in three optical filter bands, g', r', and i', using our unique instrument mounted on the Nazarbayev University Transient Telescope at Assy-Turgen Astrophysical Observatory (NUTTelA-TAO). Our simultaneous multi-band observations of the early afterglow show strong colour evolution from red to blue, with a change in the optical log slope (after correction for Milky Way extinction) of $+0.72 \\pm 0.14$; during this time the X-ray log slope remained constant. We did not find evidence for a two-component jet structure or a transition from reverse to forward shock that would explain this change in slope. We find that the majority of the optical spectral slope evolution is consistent with a monotonic decay of extinction, evidence of dust destruction. If we assume that the optical log slope is constant throughout this period, with the value given by the late-time slope, and we further assume an SMC-like extinction curve, we derive a change in the local extinction $A_\\mathrm{v}^\\mathrm{local}$ from $\\thicksim$0.8 mag to 0.3 mag in $\\thicksim$2500 s. This work shows that significant information about the early emission phase (and possibly prompt emission, if observed early enough) is being missed without such early observations with simultaneous multi-band instruments. |\n",
       "|<p style=\"color:green\"> **ERROR** </p>| <p style=\"color:green\">affiliation error: mpia.affiliation_verifications: 'Heidelberg' keyword not found.</p> |"
      ],
      "text/plain": [
       "<IPython.core.display.Markdown object>"
      ]
     },
     "metadata": {},
     "output_type": "display_data"
    },
    {
     "data": {
      "text/markdown": [
       "\n",
       "|||\n",
       "|---:|:---|\n",
       "| [![arXiv](https://img.shields.io/badge/arXiv-arXiv:2211.03236-b31b1b.svg)](https://arxiv.org/abs/arXiv:2211.03236) | **Mirror Dark Sector Solution of the Hubble Tension with Time-varying  Fine-structure Constant**  |\n",
       "|| <mark>John Zhang</mark>, Joshua Frieman |\n",
       "|*Appeared on*| *2022-11-08*|\n",
       "|*Comments*| *15 pages, 1 figure*|\n",
       "|**Abstract**| We explore a model introduced by Cyr-Racine, Ge, and Knox (arXiv:2107.13000(2)) that resolves the Hubble tension by invoking a ``mirror world\" dark sector with energy density a fixed fraction of the ``ordinary\" sector of Lambda-CDM. Although it reconciles cosmic microwave background and large-scale structure observations with local measurements of the Hubble constant, the model requires a value of the primordial Helium mass fraction that is discrepant with observations and with the predictions of Big Bang Nucleosynthesis (BBN). We consider a variant of the model with standard Helium mass fraction but with the value of the electromagnetic fine-structure constant slightly different during photon decoupling from its present value. If $\\alpha$ at that epoch is lower than its current value by $\\Delta \\alpha \\simeq -2\\times 10^{-5}$, then we can achieve the same Hubble tension resolution as in Cyr-Racine, et al. but with consistent Helium abundance. As an example of such time-evolution, we consider a toy model of an ultra-light scalar field, with mass $m <4\\times 10^{-29}$ eV, coupled to electromagnetism, which evolves after photon decoupling and that appears to be consistent with late-time constraints on $\\alpha$ variation. |\n",
       "|<p style=\"color:green\"> **ERROR** </p>| <p style=\"color:green\">affiliation error: mpia.affiliation_verifications: 'Heidelberg' keyword not found.</p> |"
      ],
      "text/plain": [
       "<IPython.core.display.Markdown object>"
      ]
     },
     "metadata": {},
     "output_type": "display_data"
    },
    {
     "data": {
      "text/markdown": [
       "\n",
       "|||\n",
       "|---:|:---|\n",
       "| [![arXiv](https://img.shields.io/badge/arXiv-arXiv:2211.03246-b31b1b.svg)](https://arxiv.org/abs/arXiv:2211.03246) | **A giant glitch from the magnetar SGR J1935+2154 before FRB 200428**  |\n",
       "|| Mingyu Ge, et al. -- incl., <mark>Shuangnan Zhang</mark>, <mark>Bing Zhang</mark>, <mark>Liang Zhang</mark>, <mark>Kejia Lee</mark>, <mark>Jian Li</mark>, <mark>Qiao-Chu Li</mark> |\n",
       "|*Appeared on*| *2022-11-08*|\n",
       "|*Comments*| **|\n",
       "|**Abstract**| Fast radio bursts (FRBs) are short pulses observed in radio frequencies usually originating from cosmological distances. The discovery of FRB 200428 and its X-ray counterpart from the Galactic magnetar SGR J1935+2154 suggests that at least some FRBs can be generated by magnetars. However, the majority of X-ray bursts from magnetars are not associated with radio emission. The fact that only in rare cases can an FRB be generated raises the question regarding the special triggering mechanism of FRBs. Here we report a giant glitch from SGR J1935+2154, which occurred approximately $3.1\\pm2.5$\\,day before FRB 200428, with $\\Delta\\nu=19.8\\pm1.4$ {\\rm $\\mu$Hz} and $\\Delta\\dot{\\nu}=6.3\\pm1.1$\\,pHz s$^{-1}$. The corresponding spin-down power change rate $\\Delta\\dot\\nu/\\dot\\nu$ is among the largest in all the detected pulsar glitches. The glitch contains a delayed spin-up process that is only detected in the Crab pulsar and the magnetar 1E 2259+586, a large persistent offset of the spin-down rate, and a recovery component which is about one order of magnitude smaller than the persistent one. The temporal coincidence between the glitch and FRB 200428 suggests a physical connection between the two. The internally triggered giant glitch of the magnetar likely altered the magnetosphere structure dramatically in favour of FRB generation, which subsequently triggered many X-ray bursts and eventually FRB 200428 through additional crustal cracking and Alfv\\'en wave excitation and propagation. |\n",
       "|<p style=\"color:green\"> **ERROR** </p>| <p style=\"color:green\">affiliation error: mpia.affiliation_verifications: 'Heidelberg' keyword not found.</p> |"
      ],
      "text/plain": [
       "<IPython.core.display.Markdown object>"
      ]
     },
     "metadata": {},
     "output_type": "display_data"
    },
    {
     "data": {
      "text/markdown": [
       "\n",
       "|||\n",
       "|---:|:---|\n",
       "| [![arXiv](https://img.shields.io/badge/arXiv-arXiv:2211.03258-b31b1b.svg)](https://arxiv.org/abs/arXiv:2211.03258) | **Nested sampling statistical errors**  |\n",
       "|| Andrew Fowlie, et al. -- incl., <mark>Qiao Li</mark>, <mark>Jia Zhang</mark> |\n",
       "|*Appeared on*| *2022-11-08*|\n",
       "|*Comments*| *12 pages + appendices, 3 figures*|\n",
       "|**Abstract**| Nested sampling (NS) is a popular algorithm for Bayesian computation. We investigate statistical errors in NS both analytically and numerically. We show two analytic results. First, we show that the leading terms in Skilling's expression using information theory match the leading terms in Keeton's expression from an analysis of moments. This approximate agreement was previously only known numerically and was somewhat mysterious. Second, we show that the uncertainty in single NS runs approximately equals the standard deviation in repeated NS runs. Whilst intuitive, this was previously taken for granted. We close by investigating our results and their assumptions in several numerical examples, including cases in which NS uncertainties increase without bound. |\n",
       "|<p style=\"color:green\"> **ERROR** </p>| <p style=\"color:green\">affiliation error: mpia.affiliation_verifications: 'Heidelberg' keyword not found.</p> |"
      ],
      "text/plain": [
       "<IPython.core.display.Markdown object>"
      ]
     },
     "metadata": {},
     "output_type": "display_data"
    },
    {
     "data": {
      "text/markdown": [
       "\n",
       "|||\n",
       "|---:|:---|\n",
       "| [![arXiv](https://img.shields.io/badge/arXiv-arXiv:2211.03400-b31b1b.svg)](https://arxiv.org/abs/arXiv:2211.03400) | **A New Sample of Gamma-Ray Emitting Jetted Active Galactic Nuclei**  |\n",
       "|| Luigi Foschini, et al. -- incl., <mark>Matthew L. Lister</mark>, <mark>Heinz Andernach</mark> |\n",
       "|*Appeared on*| *2022-11-08*|\n",
       "|*Comments*| *18 pages, 5 figures, 1 Table. Accepted for publication on Universe, Special Issue \"Black Holes and Relativistic Jets\", edited by I. Dutan and N. R. MacDonald. This preprint contains only the main text. The full tables A1 and A2 are available on the journal web site (this https URL)*|\n",
       "|**Abstract**| We considered the fourth catalog of gamma-ray point sources produced by the Fermi Large Area Telescope (LAT) and selected only jetted active galactic nuclei (AGN) or sources with no specific classification, but with a low-frequency counterpart. Our final list is composed of 2980 gamma-ray point sources. We then searched for optical spectra in all the available literature and publicly available databases, to measure redshifts and to confirm or change the original LAT classification. Our final list of gamma-ray emitting jetted AGN is composed of BL Lac Objects (40%), flat-spectrum radio quasars (23%), misaligned AGN (2.8%), narrow-line Seyfert 1, Seyfert, and low-ionization nuclear emission-line region galaxies (1.9%). We also found a significant number of objects changing from one type to another, and vice versa (changing-look AGN, 1.1%). About 30% of gamma-ray sources still have an ambiguous classification or lack one altogether. |\n",
       "|<p style=\"color:green\"> **ERROR** </p>| <p style=\"color:green\">affiliation error: mpia.affiliation_verifications: 'Heidelberg' keyword not found.</p> |"
      ],
      "text/plain": [
       "<IPython.core.display.Markdown object>"
      ]
     },
     "metadata": {},
     "output_type": "display_data"
    },
    {
     "data": {
      "text/markdown": [
       "\n",
       "|||\n",
       "|---:|:---|\n",
       "| [![arXiv](https://img.shields.io/badge/arXiv-arXiv:2211.03414-b31b1b.svg)](https://arxiv.org/abs/arXiv:2211.03414) | **Constraints on axionlike particles from a combined analysis of three  flaring $\\textit{Fermi}$ flat-spectrum radio quasars**  |\n",
       "|| <mark>James Davies</mark>, <mark>Manuel Meyer</mark>, Garret Cotter |\n",
       "|*Appeared on*| *2022-11-08*|\n",
       "|*Comments*| *18 pages, 14 figures; submitted to Physical Review D*|\n",
       "|**Abstract**| Many theories beyond the Standard Model of particle physics predict the existence of axionlike particles (ALPs) that mix with photons in the presence of a magnetic field. Searching for the effects of ALP-photon mixing in gamma-ray observations of blazars has provided some of the strongest constraints on ALP parameter space so far. Previously, only individual sources have been analysed. We perform a combined analysis on $\\textit{Fermi}$ Large Area Telescope data of three bright, flaring flat-spectrum radio quasars, with the blazar jets themselves as the dominant mixing region. For the first time, we include a full treatment of photon-photon dispersion within the jet, and account for the uncertainty in our B-field model by leaving the field strength free in the fitting. Overall, we find no evidence for ALPs, but are able to exclude the ALP parameters $m_a\\lesssim200$ neV and $g_{a\\gamma}\\gtrsim 5 \\times 10^{-12}$ GeV$^{-1}$ with 95\\% confidence. |\n",
       "|<p style=\"color:green\"> **ERROR** </p>| <p style=\"color:green\">affiliation error: mpia.affiliation_verifications: 'Heidelberg' keyword not found.</p> |"
      ],
      "text/plain": [
       "<IPython.core.display.Markdown object>"
      ]
     },
     "metadata": {},
     "output_type": "display_data"
    },
    {
     "data": {
      "text/markdown": [
       "\n",
       "|||\n",
       "|---:|:---|\n",
       "| [![arXiv](https://img.shields.io/badge/arXiv-arXiv:2211.03557-b31b1b.svg)](https://arxiv.org/abs/arXiv:2211.03557) | **Shape asymmetries and lopsidedness-radial-alignment in simulated  galaxies**  |\n",
       "|| Jinzhi Shen, Xufen Wu, Yirui Zheng, <mark>Beibei Guo</mark> |\n",
       "|*Appeared on*| *2022-11-08*|\n",
       "|*Comments*| *16 pages, 12 figures, 3 tables, submitted to MNRAS*|\n",
       "|**Abstract**| Galaxies are observed to be lopsided, meaning that they are more massive and more extended along one direction than the opposite. However, the galaxies generated in cosmological simulations are much less lopsided, inconsistent with observations. In this work, we provide a statistical analysis of the lopsided morphology of 2148 simulated isolated satellite galaxies generated by TNG50-1 simulation, incorporating the effect of tidal fields from halo centres. We study the radial alignment (RA) between the major axes of satellites and the radial direction of their halo centres within truncation radii of $3R_h$, $5R_h$ and $10R_h$. According to our results, RA is absent for all these truncations. We also calculate the far-to-near-side semi-axial ratios of the major axes, denoted by $a_-/a_+$, which measures the semi-axial ratios of the major axes in the hemispheres between backwards (far-side) and facing (near-side) the halo centres. If the satellites are truncated within radii of $3R_h$ and $5R_h$ with $R_h$ being the stellar half mass radius, the numbers of satellites with longer semi-axes on the far-side are found to be almost equal to those with longer semi-axes on the near-side. Within a larger truncated radius of $10R_h$, the number of satellites with axial ratios $a_-/a_+ <1.0$ is about $10\\%$ more than that with $a_-/a_+ > 1.0$. Therefore, the tidal fields from halo centres play a minor role in the generation of lopsided satellites. The lopsidedness radial alignment (LRA), i.e., an alignment of long semi-major-axes along the radial direction of halo centres, is further studied. No clear evidence of LRA is found in our sample within the framework of $\\Lambda$CDM Newtonian dynamics. In comparison, the LRA can be naturally induced by the external fields from the central host galaxy in Milgromian dynamics. (See paper for full abstract) |\n",
       "|<p style=\"color:green\"> **ERROR** </p>| <p style=\"color:green\">affiliation error: mpia.affiliation_verifications: 'Heidelberg' keyword not found.</p> |"
      ],
      "text/plain": [
       "<IPython.core.display.Markdown object>"
      ]
     },
     "metadata": {},
     "output_type": "display_data"
    },
    {
     "data": {
      "text/markdown": [
       "\n",
       "|||\n",
       "|---:|:---|\n",
       "| [![arXiv](https://img.shields.io/badge/arXiv-arXiv:2211.03582-b31b1b.svg)](https://arxiv.org/abs/arXiv:2211.03582) | **55 Cancri e's occultation captured with CHEOPS**  |\n",
       "|| B.-O. Demory, et al. -- incl., <mark>S. Hoyer</mark>, <mark>K. Heng</mark>, <mark>M. B. Davies</mark>, <mark>G. Olofsson</mark> |\n",
       "|*Appeared on*| *2022-11-08*|\n",
       "|*Comments*| *In press. Accepted for publication in Astronomy and Astrophysics on 13 October 2022. 10 pages, 7 figures and 3 tables*|\n",
       "|**Abstract**| Past occultation and phase-curve observations of the ultra-short period super-Earth 55 Cnc e obtained at visible and infrared wavelengths have been challenging to reconcile with a planetary reflection and emission model. In this study, we analyse a set of 41 occultations obtained over a two-year timespan with the CHEOPS satellite. We report the detection of 55 Cnc e's occultation with an average depth of $12\\pm3$ ppm. We derive a corresponding 2-$\\sigma$ upper limit on the geometric albedo of $A_g < 0.55$ once decontaminated from the thermal emission measured by Spitzer at 4.5$\\mu$m. CHEOPS's photometric performance enables, for the first time, the detection of individual occultations of this super-Earth in the visible and identifies short-timescale photometric corrugations likely induced by stellar granulation. We also find a clear 47.3-day sinusoidal pattern in the time-dependent occultation depths that we are unable to relate to stellar noise, nor instrumental systematics, but whose planetary origin could be tested with upcoming JWST occultation observations of this iconic super-Earth. |\n",
       "|<p style=\"color:green\"> **ERROR** </p>| <p style=\"color:green\">affiliation error: mpia.affiliation_verifications: 'Heidelberg' keyword not found.</p> |"
      ],
      "text/plain": [
       "<IPython.core.display.Markdown object>"
      ]
     },
     "metadata": {},
     "output_type": "display_data"
    },
    {
     "data": {
      "text/markdown": [
       "\n",
       "|||\n",
       "|---:|:---|\n",
       "| [![arXiv](https://img.shields.io/badge/arXiv-arXiv:2211.03747-b31b1b.svg)](https://arxiv.org/abs/arXiv:2211.03747) | **Monte Carlo Techniques for Addressing Large Errors and Missing Data in  Simulation-based Inference**  |\n",
       "|| Bingjie Wang, Joel Leja, <mark>Ashley Villar</mark>, Joshua S. Speagle |\n",
       "|*Appeared on*| *2022-11-08*|\n",
       "|*Comments*| *8 pages, 2 figures, accepted to the Machine Learning and the Physical Sciences workshop at NeurIPS 2022*|\n",
       "|**Abstract**| Upcoming astronomical surveys will observe billions of galaxies across cosmic time, providing a unique opportunity to map the many pathways of galaxy assembly to an incredibly high resolution. However, the huge amount of data also poses an immediate computational challenge: current tools for inferring parameters from the light of galaxies take $\\gtrsim 10$ hours per fit. This is prohibitively expensive. Simulation-based Inference (SBI) is a promising solution. However, it requires simulated data with identical characteristics to the observed data, whereas real astronomical surveys are often highly heterogeneous, with missing observations and variable uncertainties determined by sky and telescope conditions. Here we present a Monte Carlo technique for treating out-of-distribution measurement errors and missing data using standard SBI tools. We show that out-of-distribution measurement errors can be approximated by using standard SBI evaluations, and that missing data can be marginalized over using SBI evaluations over nearby data realizations in the training set. While these techniques slow the inference process from $\\sim 1$ sec to $\\sim 1.5$ min per object, this is still significantly faster than standard approaches while also dramatically expanding the applicability of SBI. This expanded regime has broad implications for future applications to astronomical surveys. |\n",
       "|<p style=\"color:green\"> **ERROR** </p>| <p style=\"color:green\">affiliation error: mpia.affiliation_verifications: 'Heidelberg' keyword not found.</p> |"
      ],
      "text/plain": [
       "<IPython.core.display.Markdown object>"
      ]
     },
     "metadata": {},
     "output_type": "display_data"
    },
    {
     "data": {
      "text/markdown": [
       "\n",
       "|||\n",
       "|---:|:---|\n",
       "| [![arXiv](https://img.shields.io/badge/arXiv-arXiv:2211.02670-b31b1b.svg)](https://arxiv.org/abs/arXiv:2211.02670) | **Flashlights: More than A Dozen High-Significance Microlensing Events of  Extremely Magnified Stars in Galaxies at Redshifts z=0.7-1.5**  |\n",
       "|| Patrick L. Kelly, et al. -- incl., <mark>Sung Kei Li</mark>, <mark>Jeremy Lim</mark>, <mark>Liliya L. R. Williams</mark>, <mark>Nathan Smith</mark> |\n",
       "|*Appeared on*| *2022-11-08*|\n",
       "|*Comments*| **|\n",
       "|**Abstract**| Once only accessible in nearby galaxies, we can now study individual stars across much of the observable universe aided by galaxy-cluster gravitational lenses. When a star, compact object, or multiple such objects in the foreground galaxy-cluster lens become aligned, they can magnify a background individual star, and the timescale of a magnification peak can limit its size to tens of AU. The number and frequency of microlensing events therefore opens a window into the population of stars and compact objects, as well as high-redshift stars. To assemble the first statistical sample of stars in order to constrain the initial mass function (IMF) of massive stars at redshift z=0.7-1.5, the abundance of primordial black holes in galaxy-cluster dark matter, and the IMF of the stars making up the intracluster light, we are carrying out a 192-orbit program with the Hubble Space Telescope called \"Flashlights,\" which is now two-thirds complete owing to scheduling challenges. We use the ultrawide F200LP and F350LP long-pass WFC3 UVIS filters and conduct two 16-orbit visits separated by one year. Having an identical roll angle during both visits, while difficult to schedule, yields extremely clean subtraction. Here we report the discovery of more than a dozen bright microlensing events, including multiple examples in the famous \"Dragon Arc\" discovered in the 1980s, as well as the \"Spocks\" and \"Warhol\" arcs that have hosted already known supergiants. The ultradeep observer-frame ultraviolet-through-optical imaging is sensitive to hot stars, which will complement deep James Webb Space Telescope infrared imaging. We are also acquiring Large Binocular Telescope LUCI and Keck-I MOSFIRE near-infrared spectra of the highly magnified arcs to constrain their recent star-formation histories. |\n",
       "|<p style=\"color:green\"> **ERROR** </p>| <p style=\"color:green\">affiliation error: mpia.affiliation_verifications: 'Planck' keyword not found.</p> |"
      ],
      "text/plain": [
       "<IPython.core.display.Markdown object>"
      ]
     },
     "metadata": {},
     "output_type": "display_data"
    }
   ],
   "source": [
    "import datetime\n",
    "today = str(datetime.date.today())\n",
    "logfile = f\"_build/html/logs/log-{today}.md\"\n",
    "\n",
    "\n",
    "with open(logfile, 'w') as logs:\n",
    "    # Success\n",
    "    logs.write(f'# Arxiv on Deck 2: Logs - {today}\\n\\n')\n",
    "    logs.write(\"\"\"* Arxiv had {0:,d} new papers\\n\"\"\".format(len(new_papers)))\n",
    "    logs.write(\"\"\"    * {0:,d} with possible author matches\\n\\n\"\"\".format(len(candidates)))\n",
    "    logs.write(\"## Sucessful papers\\n\\n\")\n",
    "    display(Markdown(\"## Successful papers\"))\n",
    "    success = [k[0] for k in documents]\n",
    "    for candid in candidates:\n",
    "        if candid['identifier'].split(':')[-1] in success:\n",
    "            display(candid)\n",
    "            logs.write(candid.generate_markdown_text() + '\\n\\n')\n",
    "\n",
    "    ## failed\n",
    "    logs.write(\"## Failed papers\\n\\n\")\n",
    "    display(Markdown(\"## Failed papers\"))\n",
    "    failed = sorted(failed, key=lambda x: x[1])\n",
    "    current_reason = \"\"\n",
    "    for paper, reason in failed:\n",
    "        if 'affiliation' in reason:\n",
    "            color = 'green'\n",
    "        else:\n",
    "            color = 'red'\n",
    "        data = Markdown(\n",
    "                paper.generate_markdown_text() + \n",
    "                f'\\n|<p style=\"color:{color:s}\"> **ERROR** </p>| <p style=\"color:{color:s}\">{reason:s}</p> |'\n",
    "               )\n",
    "        if reason != current_reason:\n",
    "            logs.write(f'### {reason:s} \\n\\n')\n",
    "            current_reason = reason\n",
    "        logs.write(data.data + '\\n\\n')\n",
    "        \n",
    "        # only display here the important errors (all in logs)\n",
    "        # if color in ('red',):\n",
    "        display(data)"
   ]
  },
  {
   "cell_type": "markdown",
   "id": "472d20ee",
   "metadata": {
    "papermill": {
     "duration": 0.008821,
     "end_time": "2022-11-08T04:33:13.598837",
     "exception": false,
     "start_time": "2022-11-08T04:33:13.590016",
     "status": "completed"
    },
    "tags": []
   },
   "source": [
    "## Export documents\n",
    "\n",
    "We now write the .md files and export relevant images"
   ]
  },
  {
   "cell_type": "code",
   "execution_count": 7,
   "id": "d426aed9",
   "metadata": {
    "execution": {
     "iopub.execute_input": "2022-11-08T04:33:13.617610Z",
     "iopub.status.busy": "2022-11-08T04:33:13.617385Z",
     "iopub.status.idle": "2022-11-08T04:33:13.624053Z",
     "shell.execute_reply": "2022-11-08T04:33:13.623469Z"
    },
    "papermill": {
     "duration": 0.017747,
     "end_time": "2022-11-08T04:33:13.625415",
     "exception": false,
     "start_time": "2022-11-08T04:33:13.607668",
     "status": "completed"
    },
    "tags": []
   },
   "outputs": [],
   "source": [
    "def export_markdown_summary(md: str, md_fname:str, directory: str):\n",
    "    \"\"\"Export MD document and associated relevant images\"\"\"\n",
    "    import os\n",
    "    import shutil\n",
    "    import re\n",
    "\n",
    "    if (os.path.exists(directory) and not os.path.isdir(directory)):\n",
    "        raise RuntimeError(f\"a non-directory file exists with name {directory:s}\")\n",
    "\n",
    "    if (not os.path.exists(directory)):\n",
    "        print(f\"creating directory {directory:s}\")\n",
    "        os.mkdir(directory)\n",
    "\n",
    "    fig_fnames = (re.compile(r'\\[Fig.*\\]\\((.*)\\)').findall(md) + \n",
    "                  re.compile(r'\\<img src=\"([^>\\s]*)\"[^>]*/>').findall(md))\n",
    "    for fname in fig_fnames:\n",
    "        if 'http' in fname:\n",
    "            # No need to copy online figures\n",
    "            continue\n",
    "        destdir = os.path.join(directory, os.path.dirname(fname))\n",
    "        destfname = os.path.join(destdir, os.path.basename(fname))\n",
    "        try:\n",
    "            os.makedirs(destdir)\n",
    "        except FileExistsError:\n",
    "            pass\n",
    "        shutil.copy(fname, destfname)\n",
    "    with open(os.path.join(directory, md_fname), 'w') as fout:\n",
    "        fout.write(md)\n",
    "    print(\"exported in \", os.path.join(directory, md_fname))\n",
    "    [print(\"    + \" + os.path.join(directory,fk)) for fk in fig_fnames]"
   ]
  },
  {
   "cell_type": "code",
   "execution_count": 8,
   "id": "014d04a4",
   "metadata": {
    "execution": {
     "iopub.execute_input": "2022-11-08T04:33:13.644558Z",
     "iopub.status.busy": "2022-11-08T04:33:13.644004Z",
     "iopub.status.idle": "2022-11-08T04:33:13.649459Z",
     "shell.execute_reply": "2022-11-08T04:33:13.648855Z"
    },
    "papermill": {
     "duration": 0.016514,
     "end_time": "2022-11-08T04:33:13.650891",
     "exception": false,
     "start_time": "2022-11-08T04:33:13.634377",
     "status": "completed"
    },
    "tags": []
   },
   "outputs": [
    {
     "name": "stdout",
     "output_type": "stream",
     "text": [
      "exported in  _build/html/2211.03641.md\n",
      "    + _build/html/tmp_2211.03641/./fig/610.png\n",
      "    + _build/html/tmp_2211.03641/././fig/CAMDs-dense.png\n",
      "    + _build/html/tmp_2211.03641/./fig/lb.png\n"
     ]
    }
   ],
   "source": [
    "for paper_id, md in documents:\n",
    "    export_markdown_summary(md, f\"{paper_id:s}.md\", '_build/html/')"
   ]
  },
  {
   "cell_type": "markdown",
   "id": "f087a0a7",
   "metadata": {
    "papermill": {
     "duration": 0.008859,
     "end_time": "2022-11-08T04:33:13.668680",
     "exception": false,
     "start_time": "2022-11-08T04:33:13.659821",
     "status": "completed"
    },
    "tags": []
   },
   "source": [
    "## Display the papers\n",
    "\n",
    "Not necessary but allows for a quick check."
   ]
  },
  {
   "cell_type": "code",
   "execution_count": 9,
   "id": "fd25f625",
   "metadata": {
    "execution": {
     "iopub.execute_input": "2022-11-08T04:33:13.688291Z",
     "iopub.status.busy": "2022-11-08T04:33:13.687721Z",
     "iopub.status.idle": "2022-11-08T04:33:13.692776Z",
     "shell.execute_reply": "2022-11-08T04:33:13.692156Z"
    },
    "papermill": {
     "duration": 0.016139,
     "end_time": "2022-11-08T04:33:13.694155",
     "exception": false,
     "start_time": "2022-11-08T04:33:13.678016",
     "status": "completed"
    },
    "scrolled": false,
    "tags": []
   },
   "outputs": [
    {
     "data": {
      "text/markdown": [
       "<div class=\"macros\" style=\"visibility:hidden;\">\n",
       "$\\newcommand{\\ensuremath}{}$\n",
       "$\\newcommand{\\xspace}{}$\n",
       "$\\newcommand{\\object}[1]{\\texttt{#1}}$\n",
       "$\\newcommand{\\farcs}{{.}''}$\n",
       "$\\newcommand{\\farcm}{{.}'}$\n",
       "$\\newcommand{\\arcsec}{''}$\n",
       "$\\newcommand{\\arcmin}{'}$\n",
       "$\\newcommand{\\ion}[2]{#1#2}$\n",
       "$\\newcommand{\\textsc}[1]{\\textrm{#1}}$\n",
       "$\\newcommand{\\hl}[1]{\\textrm{#1}}$\n",
       "$\\newcommand{\\Unit}[1]{\\ensuremath{\\mathrm{~#1}}}$\n",
       "$\\newcommand{\\pc}{\\Unit{pc}}$\n",
       "$\\newcommand{\\deriv}{\\ensuremath{\\mathrm{d}}}$\n",
       "$\\newcommand{\\given}{\\ensuremath{\\hspace{0.07em}\\mid\\hspace{0.07em}}}$\n",
       "$\\newcommand{\\parallax}{\\ensuremath{\\varpi}}$\n",
       "$\\newcommand{\\parallaxsd}{\\ensuremath{\\sigma_\\parallax}}$\n",
       "$\\newcommand{\\parallaxtrue}{\\ensuremath{\\varpi_{\\rm True}}}$\n",
       "$\\newcommand{\\dist}{\\ensuremath{r}}$\n",
       "$\\newcommand{\\distest}{\\ensuremath{\\dist_{\\rm est}}}$\n",
       "$\\newcommand{\\distlen}{\\ensuremath{L}}$\n",
       "$\\newcommand{\\mg}{\\ensuremath{M_{\\rm G}}}$\n",
       "$\\newcommand{\\gmag}{\\ensuremath{G}}$\n",
       "$\\newcommand{\\ag}{\\ensuremath{A_{\\rm G}}}$\n",
       "$\\newcommand{\\com}[2]{ {\\textcolor{orange}{ #1 :}}$\n",
       "$    {\\textcolor{red}{ #2}}}$\n",
       "$\\newcommand{\\dt}[1]{{\\tt #1}}$\n",
       "$\\newcommand{\\secs}{\\ensuremath{ \\rm s}\\xspace}$\n",
       "$\\newcommand{\\ms}{\\ensuremath{\\rm  m s^{-1}}\\xspace}$\n",
       "$\\newcommand{\\kms}{\\ensuremath{\\rm  km s^{-1}}\\xspace}$\n",
       "$\\newcommand{\\masyr}{\\ensuremath{\\rm  mas yr^{-1}}\\xspace}$\n",
       "$\\newcommand{\\muas}{\\ensuremath{ \\mu\\textnormal{as}}\\xspace}$\n",
       "$\\newcommand{\\muasyr}{\\ensuremath{\\muas \\rm yr^{-1}}\\xspace}$\n",
       "$\\newcommand{\\inp}[1]{{\\tt #1}}$\n",
       "$\\newcommand{\\prog}[1]{{\\it #1}}$\n",
       "$\\newcommand{\\class}[1]{{\\it #1}}$\n",
       "$\\newcommand{\\pack}[1]{{\\em #1}}$\n",
       "$\\newcommand{\\property}[1]{{\\em #1}}$\n",
       "$\\newcommand{\\method}[1]{{\\em #1}}$\n",
       "$\\newcommand{\\file}[1]{{\\em #1}}$\n",
       "$\\newcommand{\\directory}[1]{{\\em #1}}$\n",
       "$\\newcommand{\\code}[1]{{\\tt #1}}$\n",
       "$\\newcommand{\\maspyr}{\\muasyr}$\n",
       "$\\newcommand{\\deriv}{\\ensuremath{\\mathrm{d}}}$\n",
       "$\\newcommand{\\given}{\\ensuremath{\\hspace{0.1em}\\mid\\hspace{0.1em}}}$\n",
       "$\\newcommand{\\prob}[2]{\\ensuremath{{P^#1_#2}}}$\n",
       "$\\newcommand{\\prior}[2]{\\ensuremath{{\\pi^#1_#2}}}$\n",
       "$\\newcommand{\\bcg}{\\ensuremath{\\mathrm{BC}_G}\\xspace}$\n",
       "$\\newcommand{\\bcgsol}{\\ensuremath{\\mathrm{BC}_{G\\odot}}\\xspace}$\n",
       "$\\newcommand{\\sigparallax}{\\ensuremath{\\sigma_{\\varpi}}\\xspace}$\n",
       "$\\newcommand{\\dist}{\\ensuremath{r}\\xspace}$\n",
       "$\\newcommand{\\aabun}{\\ensuremath{[\\alpha/\\mathrm{H}]}\\xspace}$\n",
       "$\\newcommand{\\teff}{\\ensuremath{T_{\\mathrm{{eff}}}}\\xspace}$\n",
       "$\\newcommand{\\logteff}{\\ensuremath{\\log\\teff}\\xspace}$\n",
       "$\\newcommand{\\lum}{\\ensuremath{{L}}\\xspace}$\n",
       "$\\newcommand{\\loglum}{\\ensuremath{\\log\\lum}\\xspace}$\n",
       "$\\newcommand{\\loggrav}{\\ensuremath{\\log g}\\xspace}$\n",
       "$\\newcommand{\\logg}{\\ensuremath{\\log g}\\xspace}$\n",
       "$\\newcommand{\\mass}{\\ensuremath{{M}}\\xspace}$\n",
       "$\\newcommand{\\radius}{\\ensuremath{{R}}\\xspace}$\n",
       "$\\newcommand{\\Zabun}{\\ensuremath{{Z}}\\xspace}$\n",
       "$\\newcommand{\\mh}{[M/H]\\xspace}$\n",
       "$\\newcommand{\\feh}{[Fe/H]\\xspace}$\n",
       "$\\newcommand{\\vsini}{\\ensuremath{v\\sin i}\\xspace}$\n",
       "$\\newcommand{\\azero}{\\ensuremath{A_0}\\xspace}$\n",
       "$\\newcommand{\\ag}{\\ensuremath{A_G}\\xspace}$\n",
       "$\\newcommand{\\abp}{\\ensuremath{A_\\mathrm{BP}}\\xspace}$\n",
       "$\\newcommand{\\arp}{\\ensuremath{A_\\mathrm{RP}}\\xspace}$\n",
       "$\\newcommand{\\av}{\\ensuremath{A_\\mathrm{V}}\\xspace}$\n",
       "$\\newcommand{\\rzero}{\\ensuremath{R_0}\\xspace}$\n",
       "$\\newcommand{\\ebpminrp}{\\ensuremath{E(G_{\\rm BP} - G_{\\rm RP})}\\xspace}$\n",
       "$\\newcommand{\\gmag}{\\ensuremath{G}}$\n",
       "$\\newcommand{\\bpmag}{\\ensuremath{G_\\mathrm{BP}}}$\n",
       "$\\newcommand{\\rpmag}{\\ensuremath{G_\\mathrm{RP}}}$\n",
       "$\\newcommand{\\mg}{M_\\gmag}$\n",
       "$\\newcommand{\\ra}{\\ensuremath{\\alpha}}$\n",
       "$\\newcommand{\\dec}{\\ensuremath{\\delta}}$\n",
       "$\\newcommand{\\parallax}{\\ensuremath{\\varpi}}$\n",
       "$\\newcommand{\\sigparallax}{\\ensuremath{\\sigma_{\\varpi}}}$\n",
       "$\\newcommand{\\parzp}{\\ensuremath{\\varpi_{\\rm zp}}}$\n",
       "$\\newcommand{\\pmra}{\\ensuremath{\\mu_{\\ra\\ast}}}$\n",
       "$\\newcommand{\\pmdec}{\\ensuremath{\\mu_\\dec}}$\n",
       "$\\newcommand{\\propm}{\\ensuremath{\\mu}}$\n",
       "$\\newcommand{\\glon}{\\ensuremath{\\ell}}$\n",
       "$\\newcommand{\\glat}{\\ensuremath{b}}$\n",
       "$\\newcommand{\\mag}{\\ensuremath{ \\mathrm{mag}}\\xspace}$\n",
       "$\\newcommand{\\nm}{\\ensuremath{ \\mathrm{nm}}\\xspace}$\n",
       "$\\newcommand{\\um}{\\ensuremath{ \\mu\\mathrm{m}}\\xspace}$\n",
       "$\\newcommand{\\erg}{\\ensuremath{ \\rm erg}\\xspace}$\n",
       "$\\newcommand{\\ergs}{\\ensuremath{ \\rm erg~s}\\xspace}$\n",
       "$\\newcommand{\\yr}{\\ensuremath{ \\rm yr}\\xspace}$\n",
       "$\\newcommand{\\Myr}{\\ensuremath{ \\rm Myr}\\xspace}$\n",
       "$\\newcommand{\\Gyr}{\\ensuremath{ \\rm Gyr}\\xspace}$\n",
       "$\\newcommand{\\pc}{\\ensuremath{ \\rm pc}\\xspace}$\n",
       "$\\newcommand{\\kpc}{\\ensuremath{ \\rm kpc}\\xspace}$\n",
       "$\\newcommand{\\Mpc}{\\ensuremath{ \\rm Mpc}\\xspace}$\n",
       "$\\newcommand{\\Lsun}{\\ensuremath{ {\\lum}_{\\odot}}\\xspace}$\n",
       "$\\newcommand{\\Msun}{\\ensuremath{ {\\mass}_{\\odot}}\\xspace}$\n",
       "$\\newcommand{\\Rsun}{\\ensuremath{ {\\radius}_{\\odot}}\\xspace}$\n",
       "$\\newcommand{\\Zsun}{\\ensuremath{ {\\Zabun}_{\\odot}}\\xspace}$\n",
       "$\\newcommand{\\ang}{\\ensuremath{ \\text{\\AA}}\\xspace}$\n",
       "$\\newcommand{\\mas}{\\ensuremath{ \\mathrm{mas}}\\xspace}$\n",
       "$\\newcommand{\\kms}{\\ensuremath{\\textrm{km s}^{-1}}}$\n",
       "$\\newcommand{\\maspyr}{\\ensuremath{\\textrm{mas yr}^{-1}}}$\n",
       "$\\newcommand{\\degree}{\\ensuremath{^\\circ}}$\n",
       "$\\newcommand{\\hpix}{HEALPix}$\n",
       "$\\newcommand{\\cairt}{\\ion{Ca}{ii} IRT\\xspace}$\n",
       "$\\newcommand{\\mbolsun}{\\ensuremath{M_{\\rm bol}}\\xspace}$\n",
       "$\\newcommand{\\Tsun}{\\ensuremath{{\\teff_{\\odot}}}\\xspace}$\n",
       "$\\newcommand{\\modulename}[1]{#1\\xspace}$\n",
       "$\\newcommand{\\apsis}{\\modulename{Apsis}}$\n",
       "$\\newcommand{\\smsgen}{\\modulename{SMSGen}}$\n",
       "$\\newcommand{\\dsc}{\\modulename{DSC}}$\n",
       "$\\newcommand{\\gspphot}{\\modulename{GSP-Phot}}$\n",
       "$\\newcommand{\\priam}{\\modulename{Priam}}$\n",
       "$\\newcommand{\\aeneas}{\\modulename{Aeneas}}$\n",
       "$\\newcommand{\\gspspec}{\\modulename{GSP-Spec}}$\n",
       "$\\newcommand{\\msc}{\\modulename{MSC}}$\n",
       "$\\newcommand{\\flame}{\\modulename{FLAME}}$\n",
       "$\\newcommand{\\espels}{\\modulename{ESP-ELS}}$\n",
       "$\\newcommand{\\esphs}{\\modulename{ESP-HS}}$\n",
       "$\\newcommand{\\espcs}{\\modulename{ESP-CS}}$\n",
       "$\\newcommand{\\espucd}{\\modulename{ESP-UCD}}$\n",
       "$\\newcommand{\\ugc}{\\modulename{UGC}}$\n",
       "$\\newcommand{\\oa}{\\modulename{OA}}$\n",
       "$\\newcommand{\\oca}{\\modulename{OCA}}$\n",
       "$\\newcommand{\\qsoc}{\\modulename{QSOC}}$\n",
       "$\\newcommand{\\tge}{\\modulename{TGE}}$\n",
       "$\\newcommand{\\mgalgo}{Matisse-Gauguin}$\n",
       "$\\newcommand{\\basti}{BaSTI}$\n",
       "$\\newcommand$\n",
       "$\\newcommand{\\gdr}[1]{Gaia~DR{#1}}$\n",
       "$\\newcommand{\\gedr}[1]{Gaia~eDR{#1}}$\n",
       "$\\newcommand{\\sample}[1]{sample~{#1}}$\n",
       "$\\newcommand{\\tabname}[1]{\\texttt{\\detokenize{#1}}}$\n",
       "$\\newcommand{\\red}{\\textcolor{red}}$\n",
       "$\\newcommand{\\orange}{\\textcolor{orange}}$\n",
       "$\\newcommand{\\green}{\\textcolor{OliveGreen}}$\n",
       "$\\newcommand{\\XXX}{{~\\red{XXX}~}}$\n",
       "$\\newcommand{\\corr}[1]{\\textbf{#1}}$\n",
       "$\\newcommand{\\tick}{\\checkmark}$\n",
       "$\\newcommand{\\secref}[1]{Sect.~\\ref{#1}}$\n",
       "$\\newcommand{\\totalfields}{{538}\\xspace}$\n",
       "$\\newcommand{\\numberuniqueparameters}{{43}\\xspace}$\n",
       "$\\newcommand{\\linktodoc}{https://geapre.esac.esa.int/archive/documentation/GDR3}$\n",
       "$\\newcommand{\\linktoapparam}[2]{\\href{\\linktodoc/Gaia_archive/chap_datamodel/sec_dm_astrophysical_parameter_tables/ssec_dm_#1.html\\##1-#2}{\\fieldName{#2}\\xspace}}$\n",
       "$\\newcommand{\\linktogalparam}[2]{\\href{\\linktodoc/Gaia_archive/chap_datamodel/sec_dm_extra--galactic_tables/ssec_dm_#1.html\\##1-#2}{\\fieldName{#2}\\xspace}}$\n",
       "$\\newcommand{\\linktogsparam}[2]{\\href{\\linktodoc/Gaia_archive/chap_datamodel/sec_dm_main_source_tables/ssec_dm_#1.html\\##1-#2}{\\fieldName{#2}\\xspace}}$\n",
       "$\\newcommand{\\linktotable}[1]{\\href{\\linktodoc/Gaia_archive/chap_datamodel/sec_dm_astrophysical_parameter_tables/ssec_dm_#1.html}{\\fieldName{#1}\\xspace}}$\n",
       "$\\newcommand{\\aptable}{\\linktotable{astrophysical_parameters}}$\n",
       "$\\newcommand{\\apsupptable}{\\linktotable{astrophysical_parameters_supp}}$\n",
       "$\\newcommand{\\linktogaltable}[1]{\\href{\\linktodoc/Gaia_archive/chap_datamodel/sec_dm_extra--galactic_tables/ssec_dm_#1.html}{\\fieldName{#1}\\xspace}}$\n",
       "$\\newcommand{\\linktogstable}[1]{\\href{\\linktodoc/Gaia_archive/chap_datamodel/sec_dm_main_source_catalogue/ssec_dm_#1.html}{\\fieldName{#1}\\xspace}}$\n",
       "$\\newcommand{\\linksubsec}[2]{\\href{\\linktodoc/Data_analysis/chap_cu8par/#1.html}{#2\\xspace}}$\n",
       "$\\newcommand{\\linksec}[2]{\\href{\\linktodoc/Data_analysis/chap_cu8par/#1}{#2\\xspace}}$\n",
       "$\\newcommand{\\linkfig}[1]{\\href{\\linktodoc/Data_analysis/chap_cu8par/#1.html}{see table\\xspace}}$\n",
       "$\\newcommand{\\livelink}[2]{\\href{https://dms.cosmos.esa.int/cs/livelink/open/#1}{\\texttt{\\textcolor{blue!70!black}{Livelink:#2}}}}$\n",
       "$\\newcommand$\n",
       "$\\newcommand$\n",
       "$\\newcommand$\n",
       "$\\newcommand$\n",
       "$\\newcommand$\n",
       "$\\newcommand$\n",
       "$\\newcommand$\n",
       "$\\newcommand$\n",
       "$\\newcommand$\n",
       "$\\newcommand$\n",
       "$\\newcommand$\n",
       "$\\newcommand$\n",
       "$\\newcommand$\n",
       "$\\newcommand$\n",
       "$\\newcommand$\n",
       "$\\newcommand$\n",
       "$\\newcommand$\n",
       "$\\newcommand$\n",
       "$\\newcommand$\n",
       "$\\newcommand{\\azul}[1]{{\\textcolor{blue}{#1}}}$\n",
       "$\\newcommand{\\rojo}[1]{{\\textcolor{red}{#1}}}$\n",
       "$\\newcommand{\\bpminrp}{\\ensuremath{G_\\mathrm{BP}-G_\\mathrm{RP}}\\xspace}$\n",
       "$\\newcommand{\\bporrp}{BP/RP\\xspace}$\n",
       "$\\newcommand{\\orcit}[1]{\\protect\\href{https://orcid.org/#1}{\\protect\\includegraphics[width=8pt]{orcid.png}}}$\n",
       "$\\newcommand$\n",
       "$\\newcommand{\\deg}{\\ensuremath{^\\circ}}$\n",
       "$\\newcommand{\\arcmin}{\\ensuremath{'}}$\n",
       "$\\newcommand{\\arcsec}{\\ensuremath{\"}}$\n",
       "$\\newcommand{\\fd}{\\ensuremath{.\\!\\!^{\\mathrm d}}}$\n",
       "$\\newcommand{\\fh}{\\ensuremath{.\\!\\!^{\\mathrm h}}}$\n",
       "$\\newcommand{\\fm}{\\ensuremath{.\\!\\!^{\\mathrm m}}}$\n",
       "$\\newcommand{\\fs}{\\ensuremath{.\\!\\!^{\\mathrm s}}}$\n",
       "$\\newcommand{\\fdg}{\\ensuremath{.\\!\\!^\\circ}}$\n",
       "$\\newcommand{\\farcm}{\\ensuremath{.\\mkern-4mu^\\prime}}$\n",
       "$\\newcommand{\\farcs}{\\ensuremath{.\\!\\!^{\\prime\\prime}}}$\n",
       "$\\newcommand{\\extratrees}{\\textsc{ExtraTrees}\\xspace}$\n",
       "$\\newcommand{\\@}{fieldName}$</div>\n",
       "\n",
       "<div class=\"macros\" style=\"visibility:hidden;\">\n",
       "$\\newcommand{$\\ensuremath$}{}$\n",
       "$\\newcommand{$\\xspace$}{}$\n",
       "$\\newcommand{$\\object$}[1]{\\texttt{#1}}$\n",
       "$\\newcommand{$\\farcs$}{{.}''}$\n",
       "$\\newcommand{$\\farcm$}{{.}'}$\n",
       "$\\newcommand{$\\arcsec$}{''}$\n",
       "$\\newcommand{$\\arcmin$}{'}$\n",
       "$\\newcommand{$\\ion$}[2]{#1#2}$\n",
       "$\\newcommand{$\\textsc$}[1]{\\textrm{#1}}$\n",
       "$\\newcommand{$\\hl$}[1]{\\textrm{#1}}$\n",
       "$\\newcommand{$\\Unit$}[1]{$\\ensuremath${\\mathrm{~#1}}}$\n",
       "$\\newcommand{$\\pc$}{$\\Unit${pc}}$\n",
       "$\\newcommand{$\\deriv$}{$\\ensuremath${\\mathrm{d}}}$\n",
       "$\\newcommand{$\\given$}{$\\ensuremath${\\hspace{0.07em}\\mid\\hspace{0.07em}}}$\n",
       "$\\newcommand{$\\parallax$}{$\\ensuremath${\\varpi}}$\n",
       "$\\newcommand{$\\parallax$sd}{$\\ensuremath${\\sigma_$\\parallax$}}$\n",
       "$\\newcommand{$\\parallax$true}{$\\ensuremath${\\varpi_{\\rm True}}}$\n",
       "$\\newcommand{$\\dist$}{$\\ensuremath${r}}$\n",
       "$\\newcommand{$\\dist$est}{$\\ensuremath${$\\dist$_{\\rm est}}}$\n",
       "$\\newcommand{$\\dist$len}{$\\ensuremath${L}}$\n",
       "$\\newcommand{$\\mg$}{$\\ensuremath${M_{\\rm G}}}$\n",
       "$\\newcommand{$\\gmag$}{$\\ensuremath${G}}$\n",
       "$\\newcommand{$\\ag$}{$\\ensuremath${A_{\\rm G}}}$\n",
       "$\\newcommand{\\com}[2]{ {\\textcolor{orange}{ #1 :}}$\n",
       "$    {\\textcolor{red}{ #2}}}$\n",
       "$\\newcommand{$\\dt$}[1]{{\\tt #1}}$\n",
       "$\\newcommand{$\\secs$}{$\\ensuremath${ \\rm s}$\\xspace$}$\n",
       "$\\newcommand{$\\ms$}{$\\ensuremath${\\rm  m s^{-1}}$\\xspace$}$\n",
       "$\\newcommand{$\\kms$}{$\\ensuremath${\\rm  km s^{-1}}$\\xspace$}$\n",
       "$\\newcommand{$\\masyr$}{$\\ensuremath${\\rm  mas yr^{-1}}$\\xspace$}$\n",
       "$\\newcommand{$\\muas$}{$\\ensuremath${ \\mu\\textnormal{as}}$\\xspace$}$\n",
       "$\\newcommand{$\\muas$yr}{$\\ensuremath${$\\muas$ \\rm yr^{-1}}$\\xspace$}$\n",
       "$\\newcommand{$\\inp$}[1]{{\\tt #1}}$\n",
       "$\\newcommand{$\\prog$}[1]{{\\it #1}}$\n",
       "$\\newcommand{$\\class$}[1]{{\\it #1}}$\n",
       "$\\newcommand{$\\pack$}[1]{{\\em #1}}$\n",
       "$\\newcommand{$\\property$}[1]{{\\em #1}}$\n",
       "$\\newcommand{$\\method$}[1]{{\\em #1}}$\n",
       "$\\newcommand{$\\file$}[1]{{\\em #1}}$\n",
       "$\\newcommand{$\\directory$}[1]{{\\em #1}}$\n",
       "$\\newcommand{$\\code$}[1]{{\\tt #1}}$\n",
       "$\\newcommand{$\\maspyr$}{$\\muas$yr}$\n",
       "$\\newcommand{$\\deriv$}{$\\ensuremath${\\mathrm{d}}}$\n",
       "$\\newcommand{$\\given$}{$\\ensuremath${\\hspace{0.1em}\\mid\\hspace{0.1em}}}$\n",
       "$\\newcommand{$\\prob$}[2]{$\\ensuremath${{P^#1_#2}}}$\n",
       "$\\newcommand{$\\prior$}[2]{$\\ensuremath${{\\pi^#1_#2}}}$\n",
       "$\\newcommand{$\\bcg$}{$\\ensuremath${\\mathrm{BC}_G}$\\xspace$}$\n",
       "$\\newcommand{$\\bcg$sol}{$\\ensuremath${\\mathrm{BC}_{G\\odot}}$\\xspace$}$\n",
       "$\\newcommand{$\\sigparallax$}{$\\ensuremath${\\sigma_{\\varpi}}$\\xspace$}$\n",
       "$\\newcommand{$\\dist$}{$\\ensuremath${r}$\\xspace$}$\n",
       "$\\newcommand{$\\aabun$}{$\\ensuremath${[\\alpha/\\mathrm{H}]}$\\xspace$}$\n",
       "$\\newcommand{$\\teff$}{$\\ensuremath${T_{\\mathrm{{eff}}}}$\\xspace$}$\n",
       "$\\newcommand{$\\logteff$}{$\\ensuremath${\\log$\\teff$}$\\xspace$}$\n",
       "$\\newcommand{$\\lum$}{$\\ensuremath${{L}}$\\xspace$}$\n",
       "$\\newcommand{$\\loglum$}{$\\ensuremath${\\log$\\lum$}$\\xspace$}$\n",
       "$\\newcommand{$\\loggrav$}{$\\ensuremath${\\log g}$\\xspace$}$\n",
       "$\\newcommand{$\\logg$}{$\\ensuremath${\\log g}$\\xspace$}$\n",
       "$\\newcommand{$\\mass$}{$\\ensuremath${{M}}$\\xspace$}$\n",
       "$\\newcommand{$\\radius$}{$\\ensuremath${{R}}$\\xspace$}$\n",
       "$\\newcommand{$\\Zabun$}{$\\ensuremath${{Z}}$\\xspace$}$\n",
       "$\\newcommand{$\\mh$}{[M/H]$\\xspace$}$\n",
       "$\\newcommand{$\\feh$}{[Fe/H]$\\xspace$}$\n",
       "$\\newcommand{$\\vsini$}{$\\ensuremath${v\\sin i}$\\xspace$}$\n",
       "$\\newcommand{$\\azero$}{$\\ensuremath${A_0}$\\xspace$}$\n",
       "$\\newcommand{$\\ag$}{$\\ensuremath${A_G}$\\xspace$}$\n",
       "$\\newcommand{$\\abp$}{$\\ensuremath${A_\\mathrm{BP}}$\\xspace$}$\n",
       "$\\newcommand{$\\arp$}{$\\ensuremath${A_\\mathrm{RP}}$\\xspace$}$\n",
       "$\\newcommand{$\\av$}{$\\ensuremath${A_\\mathrm{V}}$\\xspace$}$\n",
       "$\\newcommand{$\\rzero$}{$\\ensuremath${R_0}$\\xspace$}$\n",
       "$\\newcommand{$\\ebpminrp$}{$\\ensuremath${E(G_{\\rm BP} - G_{\\rm RP})}$\\xspace$}$\n",
       "$\\newcommand{$\\gmag$}{$\\ensuremath${G}}$\n",
       "$\\newcommand{$\\bpmag$}{$\\ensuremath${G_\\mathrm{BP}}}$\n",
       "$\\newcommand{$\\rpmag$}{$\\ensuremath${G_\\mathrm{RP}}}$\n",
       "$\\newcommand{$\\mg$}{M_$\\gmag$}$\n",
       "$\\newcommand{$\\ra$}{$\\ensuremath${\\alpha}}$\n",
       "$\\newcommand{$\\dec$}{$\\ensuremath${\\delta}}$\n",
       "$\\newcommand{$\\parallax$}{$\\ensuremath${\\varpi}}$\n",
       "$\\newcommand{$\\sigparallax$}{$\\ensuremath${\\sigma_{\\varpi}}}$\n",
       "$\\newcommand{$\\parzp$}{$\\ensuremath${\\varpi_{\\rm zp}}}$\n",
       "$\\newcommand{$\\pmra$}{$\\ensuremath${\\mu_{$\\ra$\\ast}}}$\n",
       "$\\newcommand{$\\pmdec$}{$\\ensuremath${\\mu_$\\dec$}}$\n",
       "$\\newcommand{$\\propm$}{$\\ensuremath${\\mu}}$\n",
       "$\\newcommand{$\\glon$}{$\\ensuremath${\\ell}}$\n",
       "$\\newcommand{$\\glat$}{$\\ensuremath${b}}$\n",
       "$\\newcommand{$\\mag$}{$\\ensuremath${ \\mathrm{mag}}$\\xspace$}$\n",
       "$\\newcommand{$\\nm$}{$\\ensuremath${ \\mathrm{nm}}$\\xspace$}$\n",
       "$\\newcommand{$\\um$}{$\\ensuremath${ \\mu\\mathrm{m}}$\\xspace$}$\n",
       "$\\newcommand{$\\erg$}{$\\ensuremath${ \\rm erg}$\\xspace$}$\n",
       "$\\newcommand{$\\erg$s}{$\\ensuremath${ \\rm erg~s}$\\xspace$}$\n",
       "$\\newcommand{$\\yr$}{$\\ensuremath${ \\rm yr}$\\xspace$}$\n",
       "$\\newcommand{$\\Myr$}{$\\ensuremath${ \\rm Myr}$\\xspace$}$\n",
       "$\\newcommand{$\\Gyr$}{$\\ensuremath${ \\rm Gyr}$\\xspace$}$\n",
       "$\\newcommand{$\\pc$}{$\\ensuremath${ \\rm pc}$\\xspace$}$\n",
       "$\\newcommand{$\\kpc$}{$\\ensuremath${ \\rm kpc}$\\xspace$}$\n",
       "$\\newcommand{$\\Mpc$}{$\\ensuremath${ \\rm Mpc}$\\xspace$}$\n",
       "$\\newcommand{$\\Lsun$}{$\\ensuremath${ {$\\lum$}_{\\odot}}$\\xspace$}$\n",
       "$\\newcommand{$\\Msun$}{$\\ensuremath${ {$\\mass$}_{\\odot}}$\\xspace$}$\n",
       "$\\newcommand{$\\Rsun$}{$\\ensuremath${ {$\\radius$}_{\\odot}}$\\xspace$}$\n",
       "$\\newcommand{$\\Zsun$}{$\\ensuremath${ {$\\Zabun$}_{\\odot}}$\\xspace$}$\n",
       "$\\newcommand{$\\ang$}{$\\ensuremath${ \\text{\\AA}}$\\xspace$}$\n",
       "$\\newcommand{$\\mas$}{$\\ensuremath${ \\mathrm{mas}}$\\xspace$}$\n",
       "$\\newcommand{$\\kms$}{$\\ensuremath${\\textrm{km s}^{-1}}}$\n",
       "$\\newcommand{$\\maspyr$}{$\\ensuremath${\\textrm{mas yr}^{-1}}}$\n",
       "$\\newcommand{$\\degree$}{$\\ensuremath${^\\circ}}$\n",
       "$\\newcommand{$\\hpix$}{HEALPix}$\n",
       "$\\newcommand{$\\cairt$}{$\\ion${Ca}{ii} IRT$\\xspace$}$\n",
       "$\\newcommand{$\\mbolsun$}{$\\ensuremath${M_{\\rm bol}}$\\xspace$}$\n",
       "$\\newcommand{$\\Tsun$}{$\\ensuremath${{$\\teff$_{\\odot}}}$\\xspace$}$\n",
       "$\\newcommand{$\\modulename$}[1]{#1$\\xspace$}$\n",
       "$\\newcommand{$\\apsis$}{$\\modulename${Apsis}}$\n",
       "$\\newcommand{$\\smsgen$}{$\\modulename${SMSGen}}$\n",
       "$\\newcommand{$\\dsc$}{$\\modulename${DSC}}$\n",
       "$\\newcommand{$\\gspphot$}{$\\modulename${GSP-Phot}}$\n",
       "$\\newcommand{$\\priam$}{$\\modulename${Priam}}$\n",
       "$\\newcommand{$\\aeneas$}{$\\modulename${Aeneas}}$\n",
       "$\\newcommand{$\\gspspec$}{$\\modulename${GSP-Spec}}$\n",
       "$\\newcommand{$\\ms$c}{$\\modulename${MSC}}$\n",
       "$\\newcommand{$\\flame$}{$\\modulename${FLAME}}$\n",
       "$\\newcommand{$\\espels$}{$\\modulename${ESP-ELS}}$\n",
       "$\\newcommand{$\\esphs$}{$\\modulename${ESP-HS}}$\n",
       "$\\newcommand{$\\espcs$}{$\\modulename${ESP-CS}}$\n",
       "$\\newcommand{$\\espucd$}{$\\modulename${ESP-UCD}}$\n",
       "$\\newcommand{$\\ugc$}{$\\modulename${UGC}}$\n",
       "$\\newcommand{$\\oa$}{$\\modulename${OA}}$\n",
       "$\\newcommand{$\\oca$}{$\\modulename${OCA}}$\n",
       "$\\newcommand{$\\qsoc$}{$\\modulename${QSOC}}$\n",
       "$\\newcommand{$\\tge$}{$\\modulename${TGE}}$\n",
       "$\\newcommand{$\\mg$algo}{Matisse-Gauguin}$\n",
       "$\\newcommand{$\\basti$}{BaSTI}$\n",
       "$\\newcommand$\n",
       "$\\newcommand{$\\gdr$}[1]{Gaia~DR{#1}}$\n",
       "$\\newcommand{$\\gedr$}[1]{Gaia~eDR{#1}}$\n",
       "$\\newcommand{$\\sample$}[1]{sample~{#1}}$\n",
       "$\\newcommand{$\\tabname$}[1]{\\texttt{\\detokenize{#1}}}$\n",
       "$\\newcommand{$\\red$}{\\textcolor{red}}$\n",
       "$\\newcommand{$\\orange$}{\\textcolor{orange}}$\n",
       "$\\newcommand{$\\green$}{\\textcolor{OliveGreen}}$\n",
       "$\\newcommand{$\\XXX$}{{~$\\red${XXX}~}}$\n",
       "$\\newcommand{$\\corr$}[1]{\\textbf{#1}}$\n",
       "$\\newcommand{$\\tick$}{\\checkmark}$\n",
       "$\\newcommand{$\\secref$}[1]{Sect.~\\ref{#1}}$\n",
       "$\\newcommand{$\\totalfields$}{{538}$\\xspace$}$\n",
       "$\\newcommand{$\\numberuniqueparameters$}{{43}$\\xspace$}$\n",
       "$\\newcommand{$\\linktodoc$}{https://geapre.esac.esa.int/archive/documentation/GDR3}$\n",
       "$\\newcommand{$\\linktoapparam$}[2]{\\href{$\\linktodoc$/Gaia_archive/chap_datamodel/sec_dm_astrophysical_parameter_tables/ssec_dm_#1.html\\##1-#2}{\\fieldName{#2}$\\xspace$}}$\n",
       "$\\newcommand{$\\linktogalparam$}[2]{\\href{$\\linktodoc$/Gaia_archive/chap_datamodel/sec_dm_extra--galactic_tables/ssec_dm_#1.html\\##1-#2}{\\fieldName{#2}$\\xspace$}}$\n",
       "$\\newcommand{$\\linktogsparam$}[2]{\\href{$\\linktodoc$/Gaia_archive/chap_datamodel/sec_dm_main_source_tables/ssec_dm_#1.html\\##1-#2}{\\fieldName{#2}$\\xspace$}}$\n",
       "$\\newcommand{$\\linktotable$}[1]{\\href{$\\linktodoc$/Gaia_archive/chap_datamodel/sec_dm_astrophysical_parameter_tables/ssec_dm_#1.html}{\\fieldName{#1}$\\xspace$}}$\n",
       "$\\newcommand{$\\aptable$}{$\\linktotable${astrophysical_parameters}}$\n",
       "$\\newcommand{$\\apsupptable$}{$\\linktotable${astrophysical_parameters_supp}}$\n",
       "$\\newcommand{$\\linktogaltable$}[1]{\\href{$\\linktodoc$/Gaia_archive/chap_datamodel/sec_dm_extra--galactic_tables/ssec_dm_#1.html}{\\fieldName{#1}$\\xspace$}}$\n",
       "$\\newcommand{$\\linktogstable$}[1]{\\href{$\\linktodoc$/Gaia_archive/chap_datamodel/sec_dm_main_source_catalogue/ssec_dm_#1.html}{\\fieldName{#1}$\\xspace$}}$\n",
       "$\\newcommand{$\\linksubsec$}[2]{\\href{$\\linktodoc$/Data_analysis/chap_cu8par/#1.html}{#2$\\xspace$}}$\n",
       "$\\newcommand{$\\linksec$}[2]{\\href{$\\linktodoc$/Data_analysis/chap_cu8par/#1}{#2$\\xspace$}}$\n",
       "$\\newcommand{$\\linkfig$}[1]{\\href{$\\linktodoc$/Data_analysis/chap_cu8par/#1.html}{see table$\\xspace$}}$\n",
       "$\\newcommand{$\\livelink$}[2]{\\href{https://dms.cosmos.esa.int/cs/livelink/open/#1}{\\texttt{\\textcolor{blue!70!black}{Livelink:#2}}}}$\n",
       "$\\newcommand$\n",
       "$\\newcommand$\n",
       "$\\newcommand$\n",
       "$\\newcommand$\n",
       "$\\newcommand$\n",
       "$\\newcommand$\n",
       "$\\newcommand$\n",
       "$\\newcommand$\n",
       "$\\newcommand$\n",
       "$\\newcommand$\n",
       "$\\newcommand$\n",
       "$\\newcommand$\n",
       "$\\newcommand$\n",
       "$\\newcommand$\n",
       "$\\newcommand$\n",
       "$\\newcommand$\n",
       "$\\newcommand$\n",
       "$\\newcommand$\n",
       "$\\newcommand$\n",
       "$\\newcommand{$\\azul$}[1]{{\\textcolor{blue}{#1}}}$\n",
       "$\\newcommand{$\\rojo$}[1]{{\\textcolor{red}{#1}}}$\n",
       "$\\newcommand{$\\bpminrp$}{$\\ensuremath${G_\\mathrm{BP}-G_\\mathrm{RP}}$\\xspace$}$\n",
       "$\\newcommand{$\\bporrp$}{BP/RP$\\xspace$}$\n",
       "$\\newcommand{$\\orcit$}[1]{\\protect\\href{https://orcid.org/#1}{\\protect\\includegraphics[width=8pt]{orcid.png}}}$\n",
       "$\\newcommand$\n",
       "$\\newcommand{$\\deg$}{$\\ensuremath${^\\circ}}$\n",
       "$\\newcommand{$\\arcmin$}{$\\ensuremath${'}}$\n",
       "$\\newcommand{$\\arcsec$}{$\\ensuremath${\"}}$\n",
       "$\\newcommand{$\\fd$}{$\\ensuremath${.\\!\\!^{\\mathrm d}}}$\n",
       "$\\newcommand{$\\fh$}{$\\ensuremath${.\\!\\!^{\\mathrm h}}}$\n",
       "$\\newcommand{$\\fm$}{$\\ensuremath${.\\!\\!^{\\mathrm m}}}$\n",
       "$\\newcommand{$\\fs$}{$\\ensuremath${.\\!\\!^{\\mathrm s}}}$\n",
       "$\\newcommand{$\\fd$g}{$\\ensuremath${.\\!\\!^\\circ}}$\n",
       "$\\newcommand{$\\farcm$}{$\\ensuremath${.\\mkern-4mu^\\prime}}$\n",
       "$\\newcommand{$\\farcs$}{$\\ensuremath${.\\!\\!^{\\prime\\prime}}}$\n",
       "$\\newcommand{$\\extratrees$}{$\\textsc${ExtraTrees}$\\xspace$}$\n",
       "$\\newcommand{\\@}{fieldName}$</div>\n",
       "\n",
       "\n",
       "\n",
       "<div id=\"title\">\n",
       "\n",
       "#  DR3\n",
       "\n",
       "</div>\n",
       "<div id=\"comments\">\n",
       "\n",
       "[![arXiv](https://img.shields.io/badge/arXiv-2211.03641-b31b1b.svg)](https://arxiv.org/abs/2211.03641)<mark>Appeared on: 2022-11-08</mark> - _Accepted by Astronomy and Astrophysics. 29 pages, 20 figures plus 3 appendices_\n",
       "\n",
       "</div>\n",
       "<div id=\"authors\">\n",
       "\n",
       "L.M.                          Sarro, et al. -- incl., <mark>M.              García-Torres</mark>, <mark>C.A.L.                   Bailer-Jones</mark>, <mark>R.                         Andrae</mark>, <mark>M.                      Fouesneau</mark>, <mark>E.                        Livanou</mark>, <mark>H.                           Zhao</mark>\n",
       "\n",
       "</div>\n",
       "<div id=\"abstract\">\n",
       "\n",
       "**Abstract:** Previous\\gaiaData Releases offered the opportunity to uncover ultracool dwarfs (UCDs) through astrometric, rather than purely photometric selection. The most recent, third data release offers in addition the opportunity to use low-resolution spectra to refine and widen the selection.In this work we use the\\gaiaDR3 set of ultracool dwarf candidates and complement the\\gaiaspectrophotometry with additional photometry in order to characterise its global properties. This includes the inference of the distances, their locus in the\\gaiacolour-absolute magnitude diagram and the (biased through selection) luminosity function in the faint end of the Main Sequence. We study the overall changes in the\\gaiaRP spectra as a function of spectral type. We study the UCDs in binary systems, attempt to identify low-mass members of nearby young associations, star forming regions and clusters, and analyse their variability properties.We use a forward model and the Bayesian inference framework to produce posterior probabilities for the distribution parameters and a calibration of the colour index as a function of the absolute magnitude in the form of a Gaussian Process. Additionally we apply the HMAC unsupervised classification algorithm for the detection and characterisation of overdensities in the space of celestial coordinates, projected velocities and parallaxes.We detect 57 young, kinematically homogeneous groups some of which are identified as well known star forming regions, associations and clusters of different ages. We find that the primary members of 880 binary systems with a UCD belong mainly to the thin and thick disk components of the Milky Way. We identify 1109 variable UCDs using the variability tables in the\\gaiaarchive, 728 of which belong to the star forming regions defined by HMAC. We define two groups of variable UCDs with extreme bright or faint outliers.The set of sources identified as UCDs in the\\gaiaarchive contains a wealth of information that will require focused follow-up studies and observations. It will help to advance our understanding of the nature of the faint end of the Main Sequence and the stellar/substellar transition.\n",
       "\n",
       "</div>\n",
       "\n",
       "<div id=\"div_fig1\">\n",
       "\n",
       "<img src=\"tmp_2211.03641/./fig/610.png\" alt=\"Fig46\" width=\"100%\"/>\n",
       "\n",
       "**Figure 46. -** Properties of one (level 4) HMAC cluster tentatively\n",
       "\t        identified with Serpens (but see text) with no sources\n",
       "\t        in common with BANYAN associations. From left to\n",
       "\t        right: equatorial coordinates with various colours\n",
       "\t        separating subclusters at a hierarchy level lower (and\n",
       "\t        hence finer) than 4; CAMD (points represent the full\n",
       "\t        set of UCD candidates in the catalogue and circles\n",
       "\t        identify the HMAC group at level 4; black dots\n",
       "\t        represent sources not assigned to any subcluster in\n",
       "\t        the lower level); tangential velocities; and the\n",
       "\t        stacked histogram of the inverse of the parallax in\n",
       "\t        all subclusters. (*fig:hmac-only-610*)\n",
       "\n",
       "</div>\n",
       "<div id=\"div_fig2\">\n",
       "\n",
       "<img src=\"tmp_2211.03641/././fig/CAMDs-dense.png\" alt=\"Fig39\" width=\"100%\"/>\n",
       "\n",
       "**Figure 39. -** Colour-absolute magnitude diagrams (CAMDs) combining several \\gaia, 2MASS and WISE magnitudes. The top row represents all sources with available measurements and the bottom row shows the subset with quality flags A or B in the corresponding 2MASS and AllWISE catalogues. A kernel density estimate is shown using a grey scale. The transparency and the symbol sizes were chosen to enhance visibility of the main densities. The colour code reflects the estimated $\\teff$ as indicated by the colour bar at the lower right edge of the Figure. (*fig:camds-dense*)\n",
       "\n",
       "</div>\n",
       "<div id=\"div_fig3\">\n",
       "\n",
       "<img src=\"tmp_2211.03641/./fig/lb.png\" alt=\"Fig41\" width=\"100%\"/>\n",
       "\n",
       "**Figure 41. -** Distribution in Galactic coordinates of the sources in quality classes 0 and 1 (upper left) and 2 (upper right) of the \\gaia UCD catalogue using the aitoff projection. Lower left panel: clusters at level 4 of the hierarchy with more than 10 members identified by HMAC in the set of sources in quality classes 0 and 1. There are 88 such clusters, the largest 13 of which are identified with prominent colours and the rest are plotted in salmon for clarity. Lower right panel: the rest of the sources in clusters with 10 members or less. We mark in red and blue the two most prominent overdensities. (*fig:lb*)\n",
       "\n",
       "</div>"
      ],
      "text/plain": [
       "<IPython.core.display.Markdown object>"
      ]
     },
     "metadata": {},
     "output_type": "display_data"
    }
   ],
   "source": [
    "[display(Markdown(k[1])) for k in documents];"
   ]
  },
  {
   "cell_type": "markdown",
   "id": "873873a4",
   "metadata": {
    "papermill": {
     "duration": 0.009499,
     "end_time": "2022-11-08T04:33:13.713277",
     "exception": false,
     "start_time": "2022-11-08T04:33:13.703778",
     "status": "completed"
    },
    "tags": []
   },
   "source": [
    "# Create HTML index"
   ]
  },
  {
   "cell_type": "code",
   "execution_count": 10,
   "id": "cf665672",
   "metadata": {
    "execution": {
     "iopub.execute_input": "2022-11-08T04:33:13.733571Z",
     "iopub.status.busy": "2022-11-08T04:33:13.733114Z",
     "iopub.status.idle": "2022-11-08T04:33:13.742030Z",
     "shell.execute_reply": "2022-11-08T04:33:13.741416Z"
    },
    "papermill": {
     "duration": 0.020738,
     "end_time": "2022-11-08T04:33:13.743502",
     "exception": false,
     "start_time": "2022-11-08T04:33:13.722764",
     "status": "completed"
    },
    "tags": []
   },
   "outputs": [
    {
     "name": "stdout",
     "output_type": "stream",
     "text": [
      "83  publications in the last 7 days.\n",
      "\t _build/html/2211.03641.md\n",
      "\t _build/html/2211.02502.md\n",
      "\t _build/html/2211.01474.md\n",
      "\t _build/html/2211.00667.md\n",
      "\t _build/html/2211.00657.md\n",
      "\t _build/html/2211.00087.md\n",
      "\t _build/html/2211.00036.md\n",
      "\t _build/html/2211.00020.md\n",
      "\t _build/html/2211.00010.md\n",
      "\t _build/html/2210.17434.md\n",
      "\t _build/html/2210.12412.md\n",
      "\t _build/html/2210.11926.md\n",
      "\t _build/html/2210.11551.md\n",
      "\t _build/html/2210.11103.md\n",
      "\t _build/html/2210.10707.md\n",
      "\t _build/html/2210.09930.md\n",
      "\t _build/html/2210.08996.md\n",
      "\t _build/html/2210.08517.md\n",
      "\t _build/html/2210.08510.md\n",
      "\t _build/html/2210.08078.md\n",
      "\t _build/html/2210.06504.md\n",
      "\t _build/html/2210.05695.md\n",
      "\t _build/html/2210.05595.md\n",
      "\t _build/html/2210.05505.md\n",
      "\t _build/html/2210.04721.md\n",
      "\t _build/html/2210.03615.md\n",
      "\t _build/html/2210.01811.md\n",
      "\t _build/html/2210.01809.md\n",
      "\t _build/html/2210.01556.md\n",
      "\t _build/html/2210.00863.md\n",
      "\t _build/html/2210.00560.md\n",
      "\t _build/html/2209.15403.md\n",
      "\t _build/html/2209.15110.md\n",
      "\t _build/html/2209.14410.md\n",
      "\t _build/html/2209.14396.md\n",
      "\t _build/html/2209.13717.md\n",
      "\t _build/html/2209.13336.md\n",
      "\t _build/html/2209.12906.md\n",
      "\t _build/html/2209.11781.md\n",
      "\t _build/html/2209.11602.md\n",
      "\t _build/html/2209.11248.md\n",
      "\t _build/html/2209.11096.md\n",
      "\t _build/html/2209.10618.md\n",
      "\t _build/html/2209.09914.md\n",
      "\t _build/html/2209.09823.md\n",
      "\t _build/html/2209.08242.md\n",
      "\t _build/html/2209.08120.md\n",
      "\t _build/html/2209.08106.md\n",
      "\t _build/html/2209.07962.md\n",
      "\t _build/html/2209.07931.md\n",
      "\t _build/html/2209.06833.md\n",
      "\t _build/html/2209.05814.md\n",
      "\t _build/html/2209.05593.md\n",
      "\t _build/html/2209.04304.md\n",
      "\t _build/html/2209.03367.md\n",
      "\t _build/html/2209.02872.md\n",
      "\t _build/html/2209.02725.md\n",
      "\t _build/html/2209.02722.md\n",
      "\t _build/html/2209.02092.md\n",
      "\t _build/html/2209.01125.md\n",
      "\t _build/html/2209.00828.md\n",
      "\t _build/html/2209.00363.md\n",
      "\t _build/html/2208.14927.md\n",
      "\t _build/html/2208.09335.md\n",
      "\t _build/html/2208.08872.md\n",
      "\t _build/html/2204.06393.md\n",
      "\t _build/html/2204.03335.md\n",
      "\t _build/html/2204.03253.md\n",
      "\t _build/html/2204.02998.md\n",
      "\t _build/html/2204.02109.md\n",
      "\t _build/html/2204.02017.md\n",
      "\t _build/html/2204.01824.md\n",
      "\t _build/html/2204.01758.md\n",
      "\t _build/html/2204.01245.md\n",
      "\t _build/html/2204.00793.md\n",
      "\t _build/html/2204.00342.md\n",
      "\t _build/html/2203.16959.md\n",
      "\t _build/html/2203.16856.md\n",
      "\t _build/html/2203.16735.md\n",
      "\t _build/html/2203.16734.md\n",
      "\t _build/html/2203.16504.md\n",
      "\t _build/html/2203.15822.md\n",
      "\t _build/html/2203.15811.md\n"
     ]
    }
   ],
   "source": [
    "from datetime import datetime, timedelta, timezone\n",
    "from glob import glob\n",
    "\n",
    "files = glob('_build/html/*.md')\n",
    "days = 7\n",
    "now = datetime.today()\n",
    "res = []\n",
    "for fk in files:\n",
    "    stat_result = os.stat(fk).st_ctime\n",
    "    modified = datetime.fromtimestamp(stat_result, tz=timezone.utc).replace(tzinfo=None)\n",
    "    delta = now.today() - modified\n",
    "    if delta <= timedelta(days=days):\n",
    "        res.append((delta.seconds, fk))\n",
    "res = [k[1] for k in reversed(sorted(res, key=lambda x:x[1]))]\n",
    "npub = len(res)\n",
    "print(len(res), f\" publications in the last {days:d} days.\")\n",
    "[ print('\\t', k) for k in res ];"
   ]
  },
  {
   "cell_type": "code",
   "execution_count": 11,
   "id": "52ca0208",
   "metadata": {
    "execution": {
     "iopub.execute_input": "2022-11-08T04:33:13.764018Z",
     "iopub.status.busy": "2022-11-08T04:33:13.763803Z",
     "iopub.status.idle": "2022-11-08T04:33:13.770755Z",
     "shell.execute_reply": "2022-11-08T04:33:13.770173Z"
    },
    "papermill": {
     "duration": 0.019075,
     "end_time": "2022-11-08T04:33:13.772352",
     "exception": false,
     "start_time": "2022-11-08T04:33:13.753277",
     "status": "completed"
    },
    "scrolled": false,
    "tags": []
   },
   "outputs": [],
   "source": [
    "def create_carousel(npub=4):\n",
    "    \"\"\" Generate the HTML code for a carousel with `npub` slides \"\"\"\n",
    "    carousel = [\"\"\"<section class=\"carousel\" aria-label=\"Gallery\">\"\"\",\n",
    "                \"\"\"  <ol class=\"carousel__viewport\">\"\"\",\n",
    "    ]\n",
    "    for k in range(1, npub + 1):\n",
    "        prev_ = k - 1\n",
    "        next_ = k + 1\n",
    "        if prev_ <= 0:\n",
    "            prev_ = npub\n",
    "        if next_ > npub:\n",
    "            next_ = 1\n",
    "        text  = f\"\"\"    <li id=\"carousel__slide{k}\" tabindex=\"0\" class=\"carousel__slide\">\\n\"\"\"\n",
    "        text += f\"\"\"       <div class=\"carousel__snapper\">\\n\"\"\"\n",
    "        text += f\"\"\"         <a href=\"#carousel__slide{prev_}\" class=\"carousel__prev\">Go to previous slide</a>\\n\"\"\"\n",
    "        text += f\"\"\"         <a href=\"#carousel__slide{next_}\" class=\"carousel__next\">Go to next slide</a>\\n\"\"\"\n",
    "        text += f\"\"\"         <div id=\"slide{k}_content\" class=\"md_view\" >Content {k}</div>\\n\"\"\"\n",
    "        text += f\"\"\"       </div>\\n\"\"\"\n",
    "        text += f\"\"\"    </li>\"\"\"\n",
    "        carousel.append(text)\n",
    "\n",
    "    carousel.extend([\n",
    "        \"\"\"  </ol>\"\"\",\n",
    "        \"\"\"  <aside class=\"carousel__navigation\">\"\"\",\n",
    "        \"\"\"    <ol class=\"carousel__navigation-list\">\"\"\"])\n",
    "\n",
    "    for k in range(1, npub + 1):\n",
    "        text  = f\"\"\"      <li class=\"carousel__navigation-item\">\\n\"\"\"\n",
    "        text += f\"\"\"        <a href=\"#carousel__slide{k}\" class=\"carousel__navigation-button\">Go to {k}</a>\\n\"\"\"\n",
    "        text += f\"\"\"      </li>\"\"\"\n",
    "        carousel.append(text)\n",
    "    carousel.extend([\"\"\"    </ol>\"\"\", \"\"\"  </aside>\"\"\", \"\"\"</section>\"\"\"])\n",
    "\n",
    "    return '\\n'.join(carousel)"
   ]
  },
  {
   "cell_type": "code",
   "execution_count": 12,
   "id": "a6eac5b6",
   "metadata": {
    "execution": {
     "iopub.execute_input": "2022-11-08T04:33:13.793195Z",
     "iopub.status.busy": "2022-11-08T04:33:13.792604Z",
     "iopub.status.idle": "2022-11-08T04:33:13.799468Z",
     "shell.execute_reply": "2022-11-08T04:33:13.798765Z"
    },
    "papermill": {
     "duration": 0.021717,
     "end_time": "2022-11-08T04:33:13.803788",
     "exception": false,
     "start_time": "2022-11-08T04:33:13.782071",
     "status": "completed"
    },
    "scrolled": false,
    "tags": []
   },
   "outputs": [],
   "source": [
    "carousel = create_carousel(npub)\n",
    "docs = ', '.join(['\"{0:s}\"'.format(k.split('/')[-1]) for k in res])\n",
    "slides = ', '.join([f'\"slide{k}_content\"' for k in range(1, npub + 1)])\n",
    "\n",
    "script = f\"\"\"\n",
    "const docs = [{docs}]\n",
    "\n",
    "const slides = [{slides}]\n",
    "\"\"\" + \"\"\"\n",
    "async function run() {\n",
    "    for (let i = 0; i < docs.length; i++) {\n",
    "        let file = await fetch(docs[i]);\n",
    "        let text = await file.text()\n",
    "        document.getElementById(slides[i]).innerHTML =\n",
    "            marked.parse(text);\n",
    "    }\n",
    "    hljs.highlightAll();\n",
    "}\n",
    "run()\n",
    "\"\"\"\n",
    "\n",
    "page = f\"\"\"<!doctype html>\n",
    "<html lang=\"en\">\n",
    "\n",
    "<head>\n",
    "  <meta charset=\"utf-8\">\n",
    "  <meta name=\"viewport\" content=\"width=device-width, initial-scale=1\">\n",
    "  <!-- Bootstrap CSS -->\n",
    "  <link href=\"https://cdn.jsdelivr.net/npm/bootstrap@5.0.2/dist/css/bootstrap.min.css\" rel=\"stylesheet\"\n",
    "   integrity=\"sha384-EVSTQN3/azprG1Anm3QDgpJLIm9Nao0Yz1ztcQTwFspd3yD65VohhpuuCOmLASjC\" crossorigin=\"anonymous\">\n",
    "  <!-- highlight.js CSS -->\n",
    "  <link rel=\"stylesheet\" href=\"https://cdnjs.cloudflare.com/ajax/libs/highlight.js/11.1.0/styles/default.min.css\">\n",
    "  <!-- Mathjax 3 -->\n",
    "  <script type=\"text/javascript\" id=\"MathJax-config\" src=\"mathjax_config.js\"> </script>\n",
    "  <script type=\"text/javascript\" id=\"MathJax-script\" async \n",
    "    src=\"https://cdn.jsdelivr.net/npm/mathjax@3/es5/tex-mml-chtml.js\">\n",
    "  </script>\n",
    "  <link rel=\"stylesheet\" href=\"index_carousel.css\">\n",
    "  <link rel=\"icon\" type=\"image/x-icon\" href=\"https://www.mpia.de/assets/touch-icon-32x32-a66937bcebc4e8894ebff1f41a366c7c7220fd97a38869ee0f2db65a9f59b6c1.png\">\n",
    "  <title>MPIA Arxiv on deck!</title>\n",
    "</head>\n",
    "\n",
    "<body>\n",
    "  <div id=\"header\"> <img src=\"header_banner.png\" width=\"100%\"></div>\n",
    "  <div id=\"suptitle\"> 7-day archives </div>\n",
    "  <div id=\"info\">\n",
    "    <img src=\"https://pngimg.com/uploads/github/github_PNG58.png\" height=30rem></img>\n",
    "    <a href=https://github.com/mpi-astronomy/arxiv_display style=\"color:black;\">github/mpi-astronomy/arxiv_display</a> \n",
    "  </div>\n",
    "  {carousel:s}\n",
    "</body>\n",
    "\n",
    "<!-- Render Markdown -->\n",
    "\n",
    "<body>\n",
    "  <!-- highlight.js: https://highlightjs.org/download/ -->\n",
    "  <script src=\"https://cdnjs.cloudflare.com/ajax/libs/highlight.js/11.5.0/highlight.min.js\"></script>\n",
    "  <!-- marked.js -->\n",
    "  <script src=\"https://cdn.jsdelivr.net/npm/marked/marked.min.js\"></script>\n",
    "  <script>{script:s}</script>\n",
    "</body>\n",
    "</html>\n",
    "\"\"\"\n",
    "with open(\"_build/html/index_7days.html\", 'w') as fout:\n",
    "    fout.write(page)"
   ]
  },
  {
   "cell_type": "markdown",
   "id": "1cebacbc",
   "metadata": {
    "papermill": {
     "duration": 0.009812,
     "end_time": "2022-11-08T04:33:13.823762",
     "exception": false,
     "start_time": "2022-11-08T04:33:13.813950",
     "status": "completed"
    },
    "tags": []
   },
   "source": [
    "# Debugging papers"
   ]
  },
  {
   "cell_type": "raw",
   "id": "debe7cc6",
   "metadata": {
    "papermill": {
     "duration": 0.00968,
     "end_time": "2022-11-08T04:33:13.843105",
     "exception": false,
     "start_time": "2022-11-08T04:33:13.833425",
     "status": "completed"
    },
    "tags": []
   },
   "source": [
    "raise NotImplementedError(\"Manual Stop\")"
   ]
  },
  {
   "cell_type": "raw",
   "id": "eb169192",
   "metadata": {
    "papermill": {
     "duration": 0.009686,
     "end_time": "2022-11-08T04:33:13.862512",
     "exception": false,
     "start_time": "2022-11-08T04:33:13.852826",
     "status": "completed"
    },
    "scrolled": true,
    "tags": []
   },
   "source": [
    "from IPython.display import display, Markdown\n",
    "from TexSoup import TexSoup\n",
    "import re\n",
    "\n",
    "def bracket_error(source: str):\n",
    "    \"\"\" Find problematic portions of the document \"\"\"\n",
    "    \n",
    "    print(\"len(source)\", len(source))\n",
    "    \n",
    "    # Checking header\n",
    "    begin_doc = next(re.finditer(r'\\\\begin\\{document\\}', doc.source)).span()[1]\n",
    "    header = source[:begin_doc]\n",
    "    text = header + r\"\\n\\end{document}\"\n",
    "\n",
    "    try:\n",
    "        # print(\"Header check... \", end='')\n",
    "        TexSoup(text)\n",
    "        display(Markdown(f\"**[OK]** - Header\"))\n",
    "    except:\n",
    "        raise RuntimeError(\"Error in the header\")\n",
    "        \n",
    "    # Check the text per section until the end.\n",
    "    # Do not stop and try them all.\n",
    "    \n",
    "    problematic_text = []\n",
    "    \n",
    "    sections = ([(0, begin_doc, 'until first section')] + \n",
    "                [(g.span()[0], g.span()[1], g.group()) for g in re.finditer(r'\\\\section\\{.*\\}', source)] +\n",
    "                [(g.span()[0], g.span()[1], g.group()) for g in re.finditer(r'\\\\begin\\{appendix\\}', source)]\n",
    "               )\n",
    "    sections.append([len(source), len(source), 'end'])\n",
    "    \n",
    "    sections = sorted(sections, key=lambda x: x[0])\n",
    "    \n",
    "    prev_pos, prev_name = (0, 'header')\n",
    "    parsed = []\n",
    "    \n",
    "    for span, span_end, name in sections:\n",
    "\n",
    "        if span - prev_pos <= 0:\n",
    "            continue\n",
    "            \n",
    "\n",
    "        text = source[prev_pos:span]\n",
    "        if prev_pos > begin_doc:\n",
    "            text = r\"\\n\\begin{document}\" + text + r\"\\n\\end{document}\"\n",
    "        else:\n",
    "            text = text + r\"\\n\\end{document}\"\n",
    "        try:\n",
    "            #print(f\"{prev_pos}:{prev_name}-->{span}:{name} check... \", end='')\n",
    "            parsed.append(TexSoup(text, tolerance=1))  # allow not ending env\n",
    "            display(Markdown(f\"**[OK]** - *{prev_pos}*:{prev_name} &rarr; *{span}*:{name}\"))\n",
    "            # print(\"ok\")\n",
    "\n",
    "            prev_pos = span\n",
    "            prev_name = name\n",
    "        except:\n",
    "            # print(f\"error between {prev_pos} and {span}\")\n",
    "            display(Markdown(f\"**[ERR]** *{prev_pos}*:{prev_name} &rarr; *{span}*:{name}\"))\n",
    "            problematic_text.append((prev_pos, source[prev_pos:span]))\n",
    "            prev_pos = span\n",
    "            prev_name = name\n",
    "            # raise\n",
    "    return problematic_text, parsed\n",
    "\n",
    "\n",
    "def check_environment(text, offset=0):\n",
    "    \"\"\" Check environment \"\"\"\n",
    "    env = re.compile(r\"\\\\begin\\{(?P<env>.*)\\}(.*)\\\\end\\{(?P=env)\\}\", re.DOTALL)\n",
    "\n",
    "    for match in env.finditer(text):\n",
    "        beg, end = match.span()\n",
    "        beg += offset\n",
    "        end += offset\n",
    "        envname = match.groups()[0]\n",
    "        try:\n",
    "            latex.TexSoup(match.group())\n",
    "        except Exception as e:\n",
    "            display(e)\n",
    "            print(f\"Error in {envname:s} between {beg} and {end}\")\n",
    "            return match.groups()[1], beg, end"
   ]
  },
  {
   "cell_type": "raw",
   "id": "2315e835",
   "metadata": {
    "papermill": {
     "duration": 0.009627,
     "end_time": "2022-11-08T04:33:13.882008",
     "exception": false,
     "start_time": "2022-11-08T04:33:13.872381",
     "status": "completed"
    },
    "scrolled": false,
    "tags": []
   },
   "source": [
    "import importlib\n",
    "importlib.reload(latex)\n",
    "which = \"2204.03253\"\n",
    "paper_id = f'{which:s}'\n",
    "folder = f'tmp_{paper_id:s}'\n",
    "\n",
    "if not os.path.isdir(folder):\n",
    "    folder = retrieve_document_source(f\"{paper_id}\", f'tmp_{paper_id}')\n",
    "\n",
    "try:\n",
    "    doc = latex.LatexDocument(folder, validation=validation)    \n",
    "except AffiliationError as affilerror:\n",
    "    msg = f\"ArXiv:{paper_id:s} is not an MPIA paper... \" + str(affilerror)\n",
    "    print(msg)\n",
    "\n",
    "\n",
    "# Hack because sometimes author parsing does not work well\n",
    "if (len(doc.authors) != len(paper['authors'])):\n",
    "    doc._authors = paper['authors']\n",
    "if (doc.abstract) in (None, ''):\n",
    "    doc._abstract = paper['abstract']\n",
    "\n",
    "doc.comment = get_markdown_badge(paper_id) + \" _\" + paper['comments'] + \"_\"\n",
    "doc.highlight_authors_in_list(hl_list)\n",
    "\n",
    "full_md = doc.generate_markdown_text()"
   ]
  },
  {
   "cell_type": "raw",
   "id": "dd3781db",
   "metadata": {
    "papermill": {
     "duration": 0.009704,
     "end_time": "2022-11-08T04:33:13.901455",
     "exception": false,
     "start_time": "2022-11-08T04:33:13.891751",
     "status": "completed"
    },
    "scrolled": false,
    "tags": []
   },
   "source": [
    "doc"
   ]
  },
  {
   "cell_type": "raw",
   "id": "c6eed834",
   "metadata": {
    "papermill": {
     "duration": 0.009669,
     "end_time": "2022-11-08T04:33:13.920824",
     "exception": false,
     "start_time": "2022-11-08T04:33:13.911155",
     "status": "completed"
    },
    "tags": []
   },
   "source": [
    "# [check_environment(k) for k in bracket_error(doc.source)]\n",
    "_, _, a = latex.get_content_per_section(doc.source, verbose=True)\n",
    "if not a:\n",
    "    print(\"no issues per section\")\n",
    "for ak in a:\n",
    "    r = check_environment(ak[1], offset=ak[0])\n",
    "    print(r[1], r[2])\n",
    "    print(r[0])"
   ]
  },
  {
   "cell_type": "code",
   "execution_count": null,
   "id": "71ce768a",
   "metadata": {
    "papermill": {
     "duration": 0.009636,
     "end_time": "2022-11-08T04:33:13.940164",
     "exception": false,
     "start_time": "2022-11-08T04:33:13.930528",
     "status": "completed"
    },
    "tags": []
   },
   "outputs": [],
   "source": []
  }
 ],
 "metadata": {
  "kernelspec": {
   "display_name": "Python 3.10.6 64-bit",
   "language": "python",
   "name": "python3"
  },
  "language_info": {
   "codemirror_mode": {
    "name": "ipython",
    "version": 3
   },
   "file_extension": ".py",
   "mimetype": "text/x-python",
   "name": "python",
   "nbconvert_exporter": "python",
   "pygments_lexer": "ipython3",
   "version": "3.9.15"
  },
  "papermill": {
   "default_parameters": {},
   "duration": 87.396537,
   "end_time": "2022-11-08T04:33:14.168290",
   "environment_variables": {},
   "exception": null,
   "input_path": "MPIA daily digest.ipynb",
   "output_path": "log.ipynb",
   "parameters": {},
   "start_time": "2022-11-08T04:31:46.771753",
   "version": "2.4.0"
  },
  "vscode": {
   "interpreter": {
    "hash": "e7370f93d1d0cde622a1f8e1c04877d8463912d04d973331ad4851f04de6915a"
   }
  },
  "widgets": {
   "application/vnd.jupyter.widget-state+json": {
    "state": {
     "13701b54498a4763953d81bfaeccbf98": {
      "model_module": "@jupyter-widgets/controls",
      "model_module_version": "2.0.0",
      "model_name": "FloatProgressModel",
      "state": {
       "_dom_classes": [],
       "_model_module": "@jupyter-widgets/controls",
       "_model_module_version": "2.0.0",
       "_model_name": "FloatProgressModel",
       "_view_count": null,
       "_view_module": "@jupyter-widgets/controls",
       "_view_module_version": "2.0.0",
       "_view_name": "ProgressView",
       "bar_style": "success",
       "description": "",
       "description_allow_html": false,
       "layout": "IPY_MODEL_52289220765d4a389ce986068a03483b",
       "max": 17.0,
       "min": 0.0,
       "orientation": "horizontal",
       "style": "IPY_MODEL_9f600cb54c2143f1bd03bb790a453f34",
       "tabbable": null,
       "tooltip": null,
       "value": 17.0
      }
     },
     "2afacbf770f04155b88c23eee6c7bbe9": {
      "model_module": "@jupyter-widgets/controls",
      "model_module_version": "2.0.0",
      "model_name": "HTMLStyleModel",
      "state": {
       "_model_module": "@jupyter-widgets/controls",
       "_model_module_version": "2.0.0",
       "_model_name": "HTMLStyleModel",
       "_view_count": null,
       "_view_module": "@jupyter-widgets/base",
       "_view_module_version": "2.0.0",
       "_view_name": "StyleView",
       "background": null,
       "description_width": "",
       "font_size": null,
       "text_color": null
      }
     },
     "52289220765d4a389ce986068a03483b": {
      "model_module": "@jupyter-widgets/base",
      "model_module_version": "2.0.0",
      "model_name": "LayoutModel",
      "state": {
       "_model_module": "@jupyter-widgets/base",
       "_model_module_version": "2.0.0",
       "_model_name": "LayoutModel",
       "_view_count": null,
       "_view_module": "@jupyter-widgets/base",
       "_view_module_version": "2.0.0",
       "_view_name": "LayoutView",
       "align_content": null,
       "align_items": null,
       "align_self": null,
       "border_bottom": null,
       "border_left": null,
       "border_right": null,
       "border_top": null,
       "bottom": null,
       "display": null,
       "flex": null,
       "flex_flow": null,
       "grid_area": null,
       "grid_auto_columns": null,
       "grid_auto_flow": null,
       "grid_auto_rows": null,
       "grid_column": null,
       "grid_gap": null,
       "grid_row": null,
       "grid_template_areas": null,
       "grid_template_columns": null,
       "grid_template_rows": null,
       "height": null,
       "justify_content": null,
       "justify_items": null,
       "left": null,
       "margin": null,
       "max_height": null,
       "max_width": null,
       "min_height": null,
       "min_width": null,
       "object_fit": null,
       "object_position": null,
       "order": null,
       "overflow": null,
       "padding": null,
       "right": null,
       "top": null,
       "visibility": null,
       "width": null
      }
     },
     "7d455672cdc8411caeeb1f842f12f9b6": {
      "model_module": "@jupyter-widgets/controls",
      "model_module_version": "2.0.0",
      "model_name": "HTMLStyleModel",
      "state": {
       "_model_module": "@jupyter-widgets/controls",
       "_model_module_version": "2.0.0",
       "_model_name": "HTMLStyleModel",
       "_view_count": null,
       "_view_module": "@jupyter-widgets/base",
       "_view_module_version": "2.0.0",
       "_view_name": "StyleView",
       "background": null,
       "description_width": "",
       "font_size": null,
       "text_color": null
      }
     },
     "8ac934cbc5e5452ab9e9a6649f255787": {
      "model_module": "@jupyter-widgets/controls",
      "model_module_version": "2.0.0",
      "model_name": "HTMLModel",
      "state": {
       "_dom_classes": [],
       "_model_module": "@jupyter-widgets/controls",
       "_model_module_version": "2.0.0",
       "_model_name": "HTMLModel",
       "_view_count": null,
       "_view_module": "@jupyter-widgets/controls",
       "_view_module_version": "2.0.0",
       "_view_name": "HTMLView",
       "description": "",
       "description_allow_html": false,
       "layout": "IPY_MODEL_b80fa3a7fba5454b981d0e3557f9602f",
       "placeholder": "​",
       "style": "IPY_MODEL_7d455672cdc8411caeeb1f842f12f9b6",
       "tabbable": null,
       "tooltip": null,
       "value": "100%"
      }
     },
     "95cf6ecbf1d6423ba7ad22d921b49bdb": {
      "model_module": "@jupyter-widgets/controls",
      "model_module_version": "2.0.0",
      "model_name": "HTMLModel",
      "state": {
       "_dom_classes": [],
       "_model_module": "@jupyter-widgets/controls",
       "_model_module_version": "2.0.0",
       "_model_name": "HTMLModel",
       "_view_count": null,
       "_view_module": "@jupyter-widgets/controls",
       "_view_module_version": "2.0.0",
       "_view_name": "HTMLView",
       "description": "",
       "description_allow_html": false,
       "layout": "IPY_MODEL_ac82c9d2163d4e50bf4825374a35f477",
       "placeholder": "​",
       "style": "IPY_MODEL_2afacbf770f04155b88c23eee6c7bbe9",
       "tabbable": null,
       "tooltip": null,
       "value": " 17/17 [01:00&lt;00:00, 10.43s/it]"
      }
     },
     "984f579130a242f7a1d7a6aa552858c8": {
      "model_module": "@jupyter-widgets/controls",
      "model_module_version": "2.0.0",
      "model_name": "HBoxModel",
      "state": {
       "_dom_classes": [],
       "_model_module": "@jupyter-widgets/controls",
       "_model_module_version": "2.0.0",
       "_model_name": "HBoxModel",
       "_view_count": null,
       "_view_module": "@jupyter-widgets/controls",
       "_view_module_version": "2.0.0",
       "_view_name": "HBoxView",
       "box_style": "",
       "children": [
        "IPY_MODEL_8ac934cbc5e5452ab9e9a6649f255787",
        "IPY_MODEL_13701b54498a4763953d81bfaeccbf98",
        "IPY_MODEL_95cf6ecbf1d6423ba7ad22d921b49bdb"
       ],
       "layout": "IPY_MODEL_e318f721df1849e7b34968662232e760",
       "tabbable": null,
       "tooltip": null
      }
     },
     "9f600cb54c2143f1bd03bb790a453f34": {
      "model_module": "@jupyter-widgets/controls",
      "model_module_version": "2.0.0",
      "model_name": "ProgressStyleModel",
      "state": {
       "_model_module": "@jupyter-widgets/controls",
       "_model_module_version": "2.0.0",
       "_model_name": "ProgressStyleModel",
       "_view_count": null,
       "_view_module": "@jupyter-widgets/base",
       "_view_module_version": "2.0.0",
       "_view_name": "StyleView",
       "bar_color": null,
       "description_width": ""
      }
     },
     "ac82c9d2163d4e50bf4825374a35f477": {
      "model_module": "@jupyter-widgets/base",
      "model_module_version": "2.0.0",
      "model_name": "LayoutModel",
      "state": {
       "_model_module": "@jupyter-widgets/base",
       "_model_module_version": "2.0.0",
       "_model_name": "LayoutModel",
       "_view_count": null,
       "_view_module": "@jupyter-widgets/base",
       "_view_module_version": "2.0.0",
       "_view_name": "LayoutView",
       "align_content": null,
       "align_items": null,
       "align_self": null,
       "border_bottom": null,
       "border_left": null,
       "border_right": null,
       "border_top": null,
       "bottom": null,
       "display": null,
       "flex": null,
       "flex_flow": null,
       "grid_area": null,
       "grid_auto_columns": null,
       "grid_auto_flow": null,
       "grid_auto_rows": null,
       "grid_column": null,
       "grid_gap": null,
       "grid_row": null,
       "grid_template_areas": null,
       "grid_template_columns": null,
       "grid_template_rows": null,
       "height": null,
       "justify_content": null,
       "justify_items": null,
       "left": null,
       "margin": null,
       "max_height": null,
       "max_width": null,
       "min_height": null,
       "min_width": null,
       "object_fit": null,
       "object_position": null,
       "order": null,
       "overflow": null,
       "padding": null,
       "right": null,
       "top": null,
       "visibility": null,
       "width": null
      }
     },
     "b80fa3a7fba5454b981d0e3557f9602f": {
      "model_module": "@jupyter-widgets/base",
      "model_module_version": "2.0.0",
      "model_name": "LayoutModel",
      "state": {
       "_model_module": "@jupyter-widgets/base",
       "_model_module_version": "2.0.0",
       "_model_name": "LayoutModel",
       "_view_count": null,
       "_view_module": "@jupyter-widgets/base",
       "_view_module_version": "2.0.0",
       "_view_name": "LayoutView",
       "align_content": null,
       "align_items": null,
       "align_self": null,
       "border_bottom": null,
       "border_left": null,
       "border_right": null,
       "border_top": null,
       "bottom": null,
       "display": null,
       "flex": null,
       "flex_flow": null,
       "grid_area": null,
       "grid_auto_columns": null,
       "grid_auto_flow": null,
       "grid_auto_rows": null,
       "grid_column": null,
       "grid_gap": null,
       "grid_row": null,
       "grid_template_areas": null,
       "grid_template_columns": null,
       "grid_template_rows": null,
       "height": null,
       "justify_content": null,
       "justify_items": null,
       "left": null,
       "margin": null,
       "max_height": null,
       "max_width": null,
       "min_height": null,
       "min_width": null,
       "object_fit": null,
       "object_position": null,
       "order": null,
       "overflow": null,
       "padding": null,
       "right": null,
       "top": null,
       "visibility": null,
       "width": null
      }
     },
     "e318f721df1849e7b34968662232e760": {
      "model_module": "@jupyter-widgets/base",
      "model_module_version": "2.0.0",
      "model_name": "LayoutModel",
      "state": {
       "_model_module": "@jupyter-widgets/base",
       "_model_module_version": "2.0.0",
       "_model_name": "LayoutModel",
       "_view_count": null,
       "_view_module": "@jupyter-widgets/base",
       "_view_module_version": "2.0.0",
       "_view_name": "LayoutView",
       "align_content": null,
       "align_items": null,
       "align_self": null,
       "border_bottom": null,
       "border_left": null,
       "border_right": null,
       "border_top": null,
       "bottom": null,
       "display": null,
       "flex": null,
       "flex_flow": null,
       "grid_area": null,
       "grid_auto_columns": null,
       "grid_auto_flow": null,
       "grid_auto_rows": null,
       "grid_column": null,
       "grid_gap": null,
       "grid_row": null,
       "grid_template_areas": null,
       "grid_template_columns": null,
       "grid_template_rows": null,
       "height": null,
       "justify_content": null,
       "justify_items": null,
       "left": null,
       "margin": null,
       "max_height": null,
       "max_width": null,
       "min_height": null,
       "min_width": null,
       "object_fit": null,
       "object_position": null,
       "order": null,
       "overflow": null,
       "padding": null,
       "right": null,
       "top": null,
       "visibility": null,
       "width": null
      }
     }
    },
    "version_major": 2,
    "version_minor": 0
   }
  }
 },
 "nbformat": 4,
 "nbformat_minor": 5
}