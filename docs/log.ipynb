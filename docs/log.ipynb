{
 "cells": [
  {
   "cell_type": "markdown",
   "id": "92bcb855",
   "metadata": {
    "papermill": {
     "duration": 0.003553,
     "end_time": "2024-01-09T04:09:43.840024",
     "exception": false,
     "start_time": "2024-01-09T04:09:43.836471",
     "status": "completed"
    },
    "tags": []
   },
   "source": [
    "# MPIA Arxiv on Deck 2\n",
    "\n",
    "Contains the steps to produce the paper extractions."
   ]
  },
  {
   "cell_type": "code",
   "execution_count": 1,
   "id": "3a0d6e11",
   "metadata": {
    "execution": {
     "iopub.execute_input": "2024-01-09T04:09:43.848613Z",
     "iopub.status.busy": "2024-01-09T04:09:43.847989Z",
     "iopub.status.idle": "2024-01-09T04:09:44.156404Z",
     "shell.execute_reply": "2024-01-09T04:09:44.155798Z"
    },
    "papermill": {
     "duration": 0.313918,
     "end_time": "2024-01-09T04:09:44.158172",
     "exception": false,
     "start_time": "2024-01-09T04:09:43.844254",
     "status": "completed"
    },
    "tags": []
   },
   "outputs": [],
   "source": [
    "# Imports\n",
    "import os\n",
    "from IPython.display import Markdown, display\n",
    "from tqdm.notebook import tqdm\n",
    "import warnings\n",
    "from PIL import Image \n",
    "\n",
    "# requires arxiv_on_deck_2\n",
    "\n",
    "from arxiv_on_deck_2.arxiv2 import (get_new_papers, \n",
    "                                    get_paper_from_identifier,\n",
    "                                    retrieve_document_source, \n",
    "                                    get_markdown_badge)\n",
    "from arxiv_on_deck_2 import (latex,\n",
    "                             latex_bib,\n",
    "                             mpia,\n",
    "                             highlight_authors_in_list)\n",
    "\n",
    "# Sometimes images are really big\n",
    "Image.MAX_IMAGE_PIXELS = 1000000000 "
   ]
  },
  {
   "cell_type": "code",
   "execution_count": 2,
   "id": "22aa9d44",
   "metadata": {
    "execution": {
     "iopub.execute_input": "2024-01-09T04:09:44.165365Z",
     "iopub.status.busy": "2024-01-09T04:09:44.164909Z",
     "iopub.status.idle": "2024-01-09T04:09:44.169855Z",
     "shell.execute_reply": "2024-01-09T04:09:44.169278Z"
    },
    "papermill": {
     "duration": 0.009981,
     "end_time": "2024-01-09T04:09:44.171183",
     "exception": false,
     "start_time": "2024-01-09T04:09:44.161202",
     "status": "completed"
    },
    "tags": []
   },
   "outputs": [],
   "source": [
    "# Some useful definitions.\n",
    "\n",
    "class AffiliationWarning(UserWarning):\n",
    "    pass\n",
    "\n",
    "class AffiliationError(RuntimeError):\n",
    "    pass\n",
    "\n",
    "def validation(source: str):\n",
    "    \"\"\"Raises error paper during parsing of source file\n",
    "    \n",
    "    Allows checks before parsing TeX code.\n",
    "    \n",
    "    Raises AffiliationWarning\n",
    "    \"\"\"\n",
    "    check = mpia.affiliation_verifications(source, verbose=True)\n",
    "    if check is not True:\n",
    "        raise AffiliationError(\"mpia.affiliation_verifications: \" + check)\n",
    "\n",
    "        \n",
    "warnings.simplefilter('always', AffiliationWarning)\n",
    "\n",
    "\n",
    "def get_markdown_qrcode(paper_id: str):\n",
    "    \"\"\" Generate a qrcode to the arxiv page using qrserver.com\n",
    "    \n",
    "    :param paper: Arxiv paper\n",
    "    :returns: markdown text\n",
    "    \"\"\"\n",
    "    url = r\"https://api.qrserver.com/v1/create-qr-code/?size=100x100&data=\"\n",
    "    txt = f\"\"\"<img src={url}\"https://arxiv.org/abs/{paper_id}\">\"\"\"\n",
    "    txt = '<div id=\"qrcode\">' + txt + '</div>'\n",
    "    return txt"
   ]
  },
  {
   "cell_type": "markdown",
   "id": "14bd6310",
   "metadata": {
    "papermill": {
     "duration": 0.002664,
     "end_time": "2024-01-09T04:09:44.176701",
     "exception": false,
     "start_time": "2024-01-09T04:09:44.174037",
     "status": "completed"
    },
    "tags": []
   },
   "source": [
    "## get list of arxiv paper candidates\n",
    "\n",
    "We use the MPIA mitarbeiter list webpage from mpia.de to get author names\n",
    "We then get all new papers from Arxiv and match authors"
   ]
  },
  {
   "cell_type": "code",
   "execution_count": 3,
   "id": "2645e73a",
   "metadata": {
    "execution": {
     "iopub.execute_input": "2024-01-09T04:09:44.183199Z",
     "iopub.status.busy": "2024-01-09T04:09:44.182825Z",
     "iopub.status.idle": "2024-01-09T04:10:07.189609Z",
     "shell.execute_reply": "2024-01-09T04:10:07.188904Z"
    },
    "papermill": {
     "duration": 23.011697,
     "end_time": "2024-01-09T04:10:07.191143",
     "exception": false,
     "start_time": "2024-01-09T04:09:44.179446",
     "status": "completed"
    },
    "tags": []
   },
   "outputs": [
    {
     "name": "stdout",
     "output_type": "stream",
     "text": [
      "R. v. Boekel  ->  R. v. Boekel  |  ['R. v. Boekel']\n",
      "M. Scheuck  ->  M. Scheuck  |  ['M. Scheuck']\n",
      "S. Li  ->  S. Li  |  ['S. Li']\n",
      "X. Zhang  ->  X. Zhang  |  ['X. Zhang']\n",
      "S. Pfalzner  ->  S. Pfalzner  |  ['S. Pfalzner']\n",
      "Z.-L. Xie  ->  Z.-L. Xie  |  ['Z.-L. Xie']\n",
      "S. Belladitta  ->  S. Belladitta  |  ['S. Belladitta']\n",
      "Arxiv has 96 new papers today\n",
      "          5 with possible author matches\n"
     ]
    }
   ],
   "source": [
    "# get list from MPIA website\n",
    "# it automatically filters identified non-scientists :func:`mpia.filter_non_scientists`\n",
    "mpia_authors = mpia.get_mpia_mitarbeiter_list()\n",
    "normed_mpia_authors = [k[1] for k in mpia_authors]   # initials + fullname\n",
    "new_papers = get_new_papers()\n",
    "# add manual references\n",
    "add_paper_refs = []\n",
    "new_papers.extend([get_paper_from_identifier(k) for k in add_paper_refs])\n",
    "\n",
    "candidates = []\n",
    "for paperk in new_papers:\n",
    "    # Check author list with their initials\n",
    "    normed_author_list = [mpia.get_initials(k) for k in paperk['authors']]\n",
    "    hl_authors = highlight_authors_in_list(normed_author_list, normed_mpia_authors, verbose=True)\n",
    "    matches = [(hl, orig) for hl, orig in zip(hl_authors, paperk['authors']) if 'mark' in hl]\n",
    "    paperk['authors'] = hl_authors\n",
    "    if matches:\n",
    "        # only select paper if an author matched our list\n",
    "        candidates.append(paperk)\n",
    "print(\"\"\"Arxiv has {0:,d} new papers today\"\"\".format(len(new_papers)))        \n",
    "print(\"\"\"          {0:,d} with possible author matches\"\"\".format(len(candidates)))"
   ]
  },
  {
   "cell_type": "markdown",
   "id": "3543b34a",
   "metadata": {
    "papermill": {
     "duration": 0.002945,
     "end_time": "2024-01-09T04:10:07.197341",
     "exception": false,
     "start_time": "2024-01-09T04:10:07.194396",
     "status": "completed"
    },
    "tags": []
   },
   "source": [
    "# Parse sources and generate relevant outputs\n",
    "\n",
    "From the candidates, we do the following steps:\n",
    "* get their tarball from ArXiv (and extract data)\n",
    "* find the main .tex file: find one with \\documentclass{...} (sometimes it's non trivial)\n",
    "* Check affiliations with :func:`validation`, which uses :func:`mpia.affiliation_verifications`\n",
    "* If passing the affiliations: we parse the .tex source\n",
    "   * inject sub-documents into the main (flatten the main document)\n",
    "   * parse structure, extract information (title, abstract, authors, figures...)\n",
    "   * handles `\\graphicspath` if provided\n",
    "* Generate the .md document."
   ]
  },
  {
   "cell_type": "code",
   "execution_count": 4,
   "id": "9576b79e",
   "metadata": {
    "execution": {
     "iopub.execute_input": "2024-01-09T04:10:07.204407Z",
     "iopub.status.busy": "2024-01-09T04:10:07.203990Z",
     "iopub.status.idle": "2024-01-09T04:12:16.607460Z",
     "shell.execute_reply": "2024-01-09T04:12:16.606676Z"
    },
    "papermill": {
     "duration": 129.413664,
     "end_time": "2024-01-09T04:12:16.613894",
     "exception": false,
     "start_time": "2024-01-09T04:10:07.200230",
     "status": "completed"
    },
    "scrolled": false,
    "tags": []
   },
   "outputs": [
    {
     "data": {
      "application/vnd.jupyter.widget-view+json": {
       "model_id": "0af850549f264c4bbaab054e2491987e",
       "version_major": 2,
       "version_minor": 0
      },
      "text/plain": [
       "  0%|          | 0/5 [00:00<?, ?it/s]"
      ]
     },
     "metadata": {},
     "output_type": "display_data"
    },
    {
     "name": "stdout",
     "output_type": "stream",
     "text": [
      "Retrieving document from  https://arxiv.org/e-print/2401.03437\n"
     ]
    },
    {
     "name": "stdout",
     "output_type": "stream",
     "text": [
      "extracting tarball to tmp_2401.03437..."
     ]
    },
    {
     "name": "stdout",
     "output_type": "stream",
     "text": [
      " done.\n"
     ]
    },
    {
     "name": "stderr",
     "output_type": "stream",
     "text": [
      "/opt/hostedtoolcache/Python/3.9.18/x64/lib/python3.9/site-packages/arxiv_on_deck_2/latex.py:473: LatexWarning: Error parsing the document directly. Trying to recover.\n",
      "  warnings.warn(LatexWarning(f\"Error parsing the document directly. Trying to recover.\"))\n"
     ]
    },
    {
     "name": "stdout",
     "output_type": "stream",
     "text": [
      "✔ → 0:header\n",
      "  ↳ 8579:\\section{Introduction}\n"
     ]
    },
    {
     "name": "stdout",
     "output_type": "stream",
     "text": [
      "✔ → 8579:\\section{Introduction}\n",
      "  ↳ 21428:\\section{Observations and data processing}\n"
     ]
    },
    {
     "name": "stdout",
     "output_type": "stream",
     "text": [
      "✘ → 21428:\\section{Observations and data processing}\n",
      "  ↳ 33014:\\section{Model-based imaging}\n"
     ]
    },
    {
     "name": "stdout",
     "output_type": "stream",
     "text": [
      "✘ → 33014:\\section{Model-based imaging}\n",
      "  ↳ 46401:\\section{Results}\n"
     ]
    },
    {
     "name": "stdout",
     "output_type": "stream",
     "text": [
      "✘ → 46401:\\section{Results}\n",
      "  ↳ 76464:\\section{Discussion}\n"
     ]
    },
    {
     "name": "stdout",
     "output_type": "stream",
     "text": [
      "✘ → 76464:\\section{Discussion}\n",
      "  ↳ 110064:\\section{Summary}\n"
     ]
    },
    {
     "name": "stdout",
     "output_type": "stream",
     "text": [
      "✔ → 110064:\\section{Summary}\n",
      "  ↳ 119300:\\begin{appendix}\n",
      "✔ → 119300:\\begin{appendix}\n",
      "  ↳ 119317:\\section{VLTI data plots}\n",
      "✔ → 119317:\\section{VLTI data plots}\n",
      "  ↳ 122366:\\section{Additional notes on the MATISSE data processing}\n",
      "✔ → 122366:\\section{Additional notes on the MATISSE data processing}\n",
      "  ↳ 124305:\\section{Visibility calculation}\n"
     ]
    },
    {
     "name": "stdout",
     "output_type": "stream",
     "text": [
      "✘ → 124305:\\section{Visibility calculation}\n",
      "  ↳ 127481:\\section{Opacity curves}\n",
      "✔ → 127481:\\section{Opacity curves}\n",
      "  ↳ 129271:\\section{Two-step optimization procedure}\n",
      "✔ → 129271:\\section{Two-step optimization procedure}\n",
      "  ↳ 133401:\\section{Degeneracy in the spectral decomposition}\n"
     ]
    },
    {
     "name": "stdout",
     "output_type": "stream",
     "text": [
      "✔ → 133401:\\section{Degeneracy in the spectral decomposition}\n",
      "  ↳ 136472:\\section{Supplementary model plots}\n",
      "✔ → 136472:\\section{Supplementary model plots}\n",
      "  ↳ 139515:end\n"
     ]
    },
    {
     "name": "stderr",
     "output_type": "stream",
     "text": [
      "/tmp/ipykernel_2281/3009462391.py:49: LatexWarning: 2401.03437 did not run properly\n",
      "Unable to locate Ghostscript on paths\n",
      "  warnings.warn(latex.LatexWarning(f\"{paper_id:s} did not run properly\\n\" +\n"
     ]
    },
    {
     "name": "stdout",
     "output_type": "stream",
     "text": [
      "Retrieving document from  https://arxiv.org/e-print/2401.03507\n"
     ]
    },
    {
     "name": "stdout",
     "output_type": "stream",
     "text": [
      "extracting tarball to tmp_2401.03507... done.\n",
      "Retrieving document from  https://arxiv.org/e-print/2401.03549\n"
     ]
    },
    {
     "name": "stdout",
     "output_type": "stream",
     "text": [
      "extracting tarball to tmp_2401.03549..."
     ]
    },
    {
     "name": "stdout",
     "output_type": "stream",
     "text": [
      " done.\n",
      "Retrieving document from  https://arxiv.org/e-print/2401.03775\n"
     ]
    },
    {
     "name": "stderr",
     "output_type": "stream",
     "text": [
      "/opt/hostedtoolcache/Python/3.9.18/x64/lib/python3.9/site-packages/IPython/core/interactiveshell.py:3550: LatexWarning: Multiple tex files.\n",
      "\n",
      "  exec(code_obj, self.user_global_ns, self.user_ns)\n",
      "/opt/hostedtoolcache/Python/3.9.18/x64/lib/python3.9/site-packages/IPython/core/interactiveshell.py:3550: LatexWarning: Found documentclass in tmp_2401.03549/main.tex\n",
      "\n",
      "  exec(code_obj, self.user_global_ns, self.user_ns)\n",
      "/opt/hostedtoolcache/Python/3.9.18/x64/lib/python3.9/site-packages/arxiv_on_deck_2/latex.py:399: LatexWarning: Latex injecting: 'ObsSum_HighMass' from 'tmp_2401.03549/ObsSum_HighMass.tex'\n",
      "  warnings.warn(LatexWarning(f\"Latex injecting: '{ext}' from '{subsource}'\"))\n",
      "/opt/hostedtoolcache/Python/3.9.18/x64/lib/python3.9/site-packages/arxiv_on_deck_2/latex.py:399: LatexWarning: Latex injecting: 'HMCoaddTable' from 'tmp_2401.03549/HMCoaddTable.tex'\n",
      "  warnings.warn(LatexWarning(f\"Latex injecting: '{ext}' from '{subsource}'\"))\n",
      "/opt/hostedtoolcache/Python/3.9.18/x64/lib/python3.9/site-packages/arxiv_on_deck_2/latex.py:399: LatexWarning: Latex injecting: 'CoaddsM17S255' from 'tmp_2401.03549/CoaddsM17S255.tex'\n",
      "  warnings.warn(LatexWarning(f\"Latex injecting: '{ext}' from '{subsource}'\"))\n",
      "/opt/hostedtoolcache/Python/3.9.18/x64/lib/python3.9/site-packages/arxiv_on_deck_2/latex.py:399: LatexWarning: Latex injecting: 'CoaddsDR21' from 'tmp_2401.03549/CoaddsDR21.tex'\n",
      "  warnings.warn(LatexWarning(f\"Latex injecting: '{ext}' from '{subsource}'\"))\n",
      "/opt/hostedtoolcache/Python/3.9.18/x64/lib/python3.9/site-packages/arxiv_on_deck_2/latex.py:399: LatexWarning: Latex injecting: 'ObsSum_GouldBelt' from 'tmp_2401.03549/ObsSum_GouldBelt.tex'\n",
      "  warnings.warn(LatexWarning(f\"Latex injecting: '{ext}' from '{subsource}'\"))\n",
      "/opt/hostedtoolcache/Python/3.9.18/x64/lib/python3.9/site-packages/arxiv_on_deck_2/latex.py:399: LatexWarning: Latex injecting: 'chi2' from 'tmp_2401.03549/chi2.tex'\n",
      "  warnings.warn(LatexWarning(f\"Latex injecting: '{ext}' from '{subsource}'\"))\n",
      "/opt/hostedtoolcache/Python/3.9.18/x64/lib/python3.9/site-packages/arxiv_on_deck_2/latex.py:399: LatexWarning: Latex injecting: '450_850_LC' from 'tmp_2401.03549/450_850_LC.tex'\n",
      "  warnings.warn(LatexWarning(f\"Latex injecting: '{ext}' from '{subsource}'\"))\n",
      "/opt/hostedtoolcache/Python/3.9.18/x64/lib/python3.9/site-packages/arxiv_on_deck_2/latex.py:399: LatexWarning: Latex injecting: '450_FAP' from 'tmp_2401.03549/450_FAP.tex'\n",
      "  warnings.warn(LatexWarning(f\"Latex injecting: '{ext}' from '{subsource}'\"))\n",
      "/opt/hostedtoolcache/Python/3.9.18/x64/lib/python3.9/site-packages/arxiv_on_deck_2/latex.py:399: LatexWarning: Latex injecting: 'HOPS358_4_6' from 'tmp_2401.03549/HOPS358_4_6.tex'\n",
      "  warnings.warn(LatexWarning(f\"Latex injecting: '{ext}' from '{subsource}'\"))\n",
      "/opt/hostedtoolcache/Python/3.9.18/x64/lib/python3.9/site-packages/arxiv_on_deck_2/latex.py:399: LatexWarning: Latex injecting: 'Tab_6yr_850.tex' from 'tmp_2401.03549/Tab_6yr_850.tex'\n",
      "  warnings.warn(LatexWarning(f\"Latex injecting: '{ext}' from '{subsource}'\"))\n",
      "/opt/hostedtoolcache/Python/3.9.18/x64/lib/python3.9/site-packages/arxiv_on_deck_2/latex.py:399: LatexWarning: Latex injecting: 'Tab_4yr_850.tex' from 'tmp_2401.03549/Tab_4yr_850.tex'\n",
      "  warnings.warn(LatexWarning(f\"Latex injecting: '{ext}' from '{subsource}'\"))\n",
      "/opt/hostedtoolcache/Python/3.9.18/x64/lib/python3.9/site-packages/arxiv_on_deck_2/latex.py:399: LatexWarning: Latex injecting: 'cal_comparison' from 'tmp_2401.03549/cal_comparison.tex'\n",
      "  warnings.warn(LatexWarning(f\"Latex injecting: '{ext}' from '{subsource}'\"))\n",
      "/opt/hostedtoolcache/Python/3.9.18/x64/lib/python3.9/site-packages/arxiv_on_deck_2/latex.py:399: LatexWarning: Latex injecting: '850_Comp' from 'tmp_2401.03549/850_Comp.tex'\n",
      "  warnings.warn(LatexWarning(f\"Latex injecting: '{ext}' from '{subsource}'\"))\n",
      "/opt/hostedtoolcache/Python/3.9.18/x64/lib/python3.9/site-packages/arxiv_on_deck_2/latex.py:399: LatexWarning: Latex injecting: '850_FAP' from 'tmp_2401.03549/850_FAP.tex'\n",
      "  warnings.warn(LatexWarning(f\"Latex injecting: '{ext}' from '{subsource}'\"))\n",
      "/opt/hostedtoolcache/Python/3.9.18/x64/lib/python3.9/site-packages/arxiv_on_deck_2/latex.py:399: LatexWarning: Latex injecting: 'TableFAPUpdated2' from 'tmp_2401.03549/TableFAPUpdated2.tex'\n",
      "  warnings.warn(LatexWarning(f\"Latex injecting: '{ext}' from '{subsource}'\"))\n",
      "/opt/hostedtoolcache/Python/3.9.18/x64/lib/python3.9/site-packages/arxiv_on_deck_2/latex.py:399: LatexWarning: Latex injecting: 'CoaddsPerseusSerp' from 'tmp_2401.03549/CoaddsPerseusSerp.tex'\n",
      "  warnings.warn(LatexWarning(f\"Latex injecting: '{ext}' from '{subsource}'\"))\n",
      "/opt/hostedtoolcache/Python/3.9.18/x64/lib/python3.9/site-packages/arxiv_on_deck_2/latex.py:399: LatexWarning: Latex injecting: 'CoaddsOrionOph' from 'tmp_2401.03549/CoaddsOrionOph.tex'\n",
      "  warnings.warn(LatexWarning(f\"Latex injecting: '{ext}' from '{subsource}'\"))\n",
      "/opt/hostedtoolcache/Python/3.9.18/x64/lib/python3.9/site-packages/arxiv_on_deck_2/latex.py:399: LatexWarning: Latex injecting: 'GBCoaddTable' from 'tmp_2401.03549/GBCoaddTable.tex'\n",
      "  warnings.warn(LatexWarning(f\"Latex injecting: '{ext}' from '{subsource}'\"))\n",
      "/opt/hostedtoolcache/Python/3.9.18/x64/lib/python3.9/site-packages/arxiv_on_deck_2/latex.py:399: LatexWarning: Latex injecting: 'FluxCalComparisons450' from 'tmp_2401.03549/FluxCalComparisons450.tex'\n",
      "  warnings.warn(LatexWarning(f\"Latex injecting: '{ext}' from '{subsource}'\"))\n",
      "/opt/hostedtoolcache/Python/3.9.18/x64/lib/python3.9/site-packages/arxiv_on_deck_2/latex.py:399: LatexWarning: Latex injecting: 'FluxCalComparisons850' from 'tmp_2401.03549/FluxCalComparisons850.tex'\n",
      "  warnings.warn(LatexWarning(f\"Latex injecting: '{ext}' from '{subsource}'\"))\n",
      "/opt/hostedtoolcache/Python/3.9.18/x64/lib/python3.9/site-packages/arxiv_on_deck_2/latex.py:399: LatexWarning: Latex injecting: 'RMSvsTrans' from 'tmp_2401.03549/RMSvsTrans.tex'\n",
      "  warnings.warn(LatexWarning(f\"Latex injecting: '{ext}' from '{subsource}'\"))\n",
      "/opt/hostedtoolcache/Python/3.9.18/x64/lib/python3.9/site-packages/arxiv_on_deck_2/latex.py:399: LatexWarning: Latex injecting: 'GoodBadWeather' from 'tmp_2401.03549/GoodBadWeather.tex'\n",
      "  warnings.warn(LatexWarning(f\"Latex injecting: '{ext}' from '{subsource}'\"))\n",
      "/opt/hostedtoolcache/Python/3.9.18/x64/lib/python3.9/site-packages/arxiv_on_deck_2/latex.py:399: LatexWarning: Latex injecting: 'SummaryPlot' from 'tmp_2401.03549/SummaryPlot.tex'\n",
      "  warnings.warn(LatexWarning(f\"Latex injecting: '{ext}' from '{subsource}'\"))\n",
      "/opt/hostedtoolcache/Python/3.9.18/x64/lib/python3.9/site-packages/arxiv_on_deck_2/latex.py:399: LatexWarning: Latex injecting: 'Table1-Alignment' from 'tmp_2401.03549/Table1-Alignment.tex'\n",
      "  warnings.warn(LatexWarning(f\"Latex injecting: '{ext}' from '{subsource}'\"))\n",
      "/opt/hostedtoolcache/Python/3.9.18/x64/lib/python3.9/site-packages/arxiv_on_deck_2/latex.py:399: LatexWarning: Latex injecting: 'Alignment' from 'tmp_2401.03549/Alignment.tex'\n",
      "  warnings.warn(LatexWarning(f\"Latex injecting: '{ext}' from '{subsource}'\"))\n"
     ]
    },
    {
     "name": "stdout",
     "output_type": "stream",
     "text": [
      "extracting tarball to tmp_2401.03775..."
     ]
    },
    {
     "name": "stdout",
     "output_type": "stream",
     "text": [
      " done.\n",
      "Retrieving document from  https://arxiv.org/e-print/2401.04009\n"
     ]
    },
    {
     "name": "stdout",
     "output_type": "stream",
     "text": [
      "extracting tarball to tmp_2401.04009..."
     ]
    },
    {
     "name": "stdout",
     "output_type": "stream",
     "text": [
      " done.\n"
     ]
    },
    {
     "name": "stdout",
     "output_type": "stream",
     "text": [
      "E. Bañados  ->  E. Bañados  |  ['E. Bañados']\n",
      "S. Belladitta  ->  S. Belladitta  |  ['S. Belladitta']\n",
      "F. Davies  ->  F. Davies  |  ['F. Davies']\n"
     ]
    },
    {
     "name": "stdout",
     "output_type": "stream",
     "text": [
      "Found 51 bibliographic references in tmp_2401.04009/sample631.bbl.\n"
     ]
    }
   ],
   "source": [
    "documents = []\n",
    "failed = []\n",
    "for paper in tqdm(candidates):\n",
    "    paper_id = paper['identifier'].lower().replace('arxiv:', '')\n",
    "    \n",
    "    folder = f'tmp_{paper_id}'\n",
    "\n",
    "    try:\n",
    "        if not os.path.isdir(folder):\n",
    "            folder = retrieve_document_source(f\"{paper_id}\", f'tmp_{paper_id}')\n",
    "        \n",
    "        try:\n",
    "            doc = latex.LatexDocument(folder, validation=validation)    \n",
    "        except AffiliationError as affilerror:\n",
    "            msg = f\"ArXiv:{paper_id:s} is not an MPIA paper... \" + str(affilerror)\n",
    "            failed.append((paper, \"affiliation error: \" + str(affilerror) ))\n",
    "            continue\n",
    "        \n",
    "        # Hack because sometimes author parsing does not work well\n",
    "        if (len(doc.authors) != len(paper['authors'])):\n",
    "            doc._authors = paper['authors']\n",
    "        else:\n",
    "            # highlight authors (FIXME: doc.highlight_authors)\n",
    "            # done on arxiv paper already\n",
    "            doc._authors = highlight_authors_in_list(\n",
    "                [mpia.get_initials(k) for k in doc.authors], \n",
    "                normed_mpia_authors, verbose=True)\n",
    "        if (doc.abstract) in (None, ''):\n",
    "            doc._abstract = paper['abstract']\n",
    "            \n",
    "        doc.comment = (get_markdown_badge(paper_id) + \n",
    "                       \"<mark>Appeared on: \" + paper['date'] + \"</mark> - \")\n",
    "        if paper['comments']:\n",
    "            doc.comment += \" _\" + paper['comments'] + \"_\"\n",
    "        \n",
    "        full_md = doc.generate_markdown_text()\n",
    "        \n",
    "        full_md += get_markdown_qrcode(paper_id)\n",
    "        \n",
    "        # replace citations\n",
    "        try:\n",
    "            bibdata = latex_bib.LatexBib.from_doc(doc)\n",
    "            full_md = latex_bib.replace_citations(full_md, bibdata)\n",
    "        except Exception as e:\n",
    "            print(e)\n",
    "        \n",
    "        documents.append((paper_id, full_md))\n",
    "    except Exception as e:\n",
    "        warnings.warn(latex.LatexWarning(f\"{paper_id:s} did not run properly\\n\" +\n",
    "                                         str(e)\n",
    "                                        ))\n",
    "        failed.append((paper, \"latex error \" + str(e)))"
   ]
  },
  {
   "cell_type": "markdown",
   "id": "2505a25c",
   "metadata": {
    "papermill": {
     "duration": 0.004166,
     "end_time": "2024-01-09T04:12:16.622372",
     "exception": false,
     "start_time": "2024-01-09T04:12:16.618206",
     "status": "completed"
    },
    "tags": []
   },
   "source": [
    "### Export the logs\n",
    "\n",
    "Throughout, we also keep track of the logs per paper. see `logs-{today date}.md` "
   ]
  },
  {
   "cell_type": "code",
   "execution_count": 5,
   "id": "d733828a",
   "metadata": {
    "execution": {
     "iopub.execute_input": "2024-01-09T04:12:16.632240Z",
     "iopub.status.busy": "2024-01-09T04:12:16.631622Z",
     "iopub.status.idle": "2024-01-09T04:12:16.649080Z",
     "shell.execute_reply": "2024-01-09T04:12:16.648480Z"
    },
    "papermill": {
     "duration": 0.023894,
     "end_time": "2024-01-09T04:12:16.650434",
     "exception": false,
     "start_time": "2024-01-09T04:12:16.626540",
     "status": "completed"
    },
    "scrolled": false,
    "tags": []
   },
   "outputs": [
    {
     "data": {
      "text/markdown": [
       "## Successful papers"
      ],
      "text/plain": [
       "<IPython.core.display.Markdown object>"
      ]
     },
     "metadata": {},
     "output_type": "display_data"
    },
    {
     "data": {
      "text/markdown": [
       "\n",
       "|||\n",
       "|---:|:---|\n",
       "| [![arXiv](https://img.shields.io/badge/arXiv-arXiv:2401.04009-b31b1b.svg)](https://arxiv.org/abs/arXiv:2401.04009) | **Recognizing Blazars Using Radio Morphology from the VLA Sky Survey**  |\n",
       "|| <mark>Z.-L. Xie</mark>, et al. -- incl., <mark>S. Belladitta</mark> |\n",
       "|*Appeared on*| *2024-01-09*|\n",
       "|*Comments*| *21 pages, 11 figures, accepted for publication in The Astrophysical Journal*|\n",
       "|**Abstract**| Blazars are radio-loud Active Galactic Nuclei (AGN) whose jets have a very small angle to our line of sight. Observationally, the radio emission are mostly compact or a compact-core with a 1-sided jet. With 2.5$^{\\prime\\prime}$ resolution at 3 GHz, the Very Large Array Sky Survey (VLASS) enables us to resolve the structure of some blazar candidates in the sky north of Decl. $-40$ deg. We introduce an algorithm to classify radio sources as either blazar-like or non-blazar-like based on their morphology in the VLASS images. We apply our algorithm to three existing catalogs, including one of known blazars (Roma-BzCAT) and two of blazar candidates identified by WISE colors and radio emission (WIBRaLS, KDEBLLACS). We show that in all three catalogs, there are objects with morphology inconsistent with being blazars. Considering all the catalogs, more than 12% of the candidates are unlikely to be blazars, based on this analysis. Notably, we show that 3% of the Roma-BzCAT \"confirmed\" blazars could be a misclassification based on their VLASS morphology. The resulting table with all sources and their radio morphological classification is available online. |"
      ],
      "text/plain": [
       "[arXiv:2401.04009] Recognizing Blazars Using Radio Morphology from the VLA Sky Survey\n",
       "\t<mark>Z.-L. Xie</mark>, et al. -- incl., <mark>S. Belladitta</mark>"
      ]
     },
     "metadata": {},
     "output_type": "display_data"
    },
    {
     "data": {
      "text/markdown": [
       "## Failed papers"
      ],
      "text/plain": [
       "<IPython.core.display.Markdown object>"
      ]
     },
     "metadata": {},
     "output_type": "display_data"
    },
    {
     "data": {
      "text/markdown": [
       "\n",
       "|||\n",
       "|---:|:---|\n",
       "| [![arXiv](https://img.shields.io/badge/arXiv-arXiv:2401.03507-b31b1b.svg)](https://arxiv.org/abs/arXiv:2401.03507) | **Detection of pairwise kSZ effect with DESI galaxy groups and Planck in  Fourier space**  |\n",
       "|| <mark>S. Li</mark>, et al. |\n",
       "|*Appeared on*| *2024-01-09*|\n",
       "|*Comments*| *25 pages, 14 figures, ApJS accepted*|\n",
       "|**Abstract**| We report a $\\sim5.2\\sigma$ detection of the kinetic Sunyaev-Zel'dovich (kSZ) effect in Fourier space, by combining the DESI galaxy groups and the Planck data. We use the density-weighted pairwise kSZ power spectrum as the summary statistic, and the detailed procedure of its measurement is presented in this paper. Meanwhile, we analyze the redshift space group density power spectrum to constrain its bias parameters and photo-z uncertainties. These best fitted parameters are substituted to a non-linear kSZ model, and we fit the measured kSZ power spectrum with this model to constrain the group optical depth $\\bar{\\tau}$. Selected by a varying lower mass threshold $M_{\\rm th}$, the galaxy group catalogs with different median masses ($\\tilde{M}$) are constructed from the DR9 data of the DESI Legacy Imaging Surveys. $\\tilde{M}$ spans a wide range of $\\sim10^{13}-10^{14}{\\rm M}_\\odot/h$ and the heaviest $\\tilde{M}\\sim10^{14} {\\rm M}_\\odot/h$ is larger than those of most other kSZ detections. When the aperture photometric filter radius $\\theta_{\\rm AP}$ is set to be $4.2$ arcmin, the $\\tilde{M}=1.75\\times10^{13}{\\rm M}_\\odot/h$ group sample at the median redshift $\\tilde{z}=0.64$ has the highest kSZ detection ${\\rm S/N}=5.2$. By fitting $\\bar{\\tau}$s from various samples against their $\\tilde{M}$s, we obtain a linear $\\log\\bar{\\tau}-\\log \\tilde{M}$ relation: $\\log\\bar{\\tau} = \\gamma(\\log \\tilde{M}-14)+\\log\\beta$, in which $\\gamma=0.55\\pm0.1$. We also vary the aperture photometric filter radius and measure the $\\bar{\\tau}$ profiles of group samples, whose constraints on the baryon distribution within and around dark matter halos will be discussed in a companion paper. |\n",
       "|<p style=\"color:green\"> **ERROR** </p>| <p style=\"color:green\">affiliation error: mpia.affiliation_verifications: 'Heidelberg' keyword not found.</p> |"
      ],
      "text/plain": [
       "<IPython.core.display.Markdown object>"
      ]
     },
     "metadata": {},
     "output_type": "display_data"
    },
    {
     "data": {
      "text/markdown": [
       "\n",
       "|||\n",
       "|---:|:---|\n",
       "| [![arXiv](https://img.shields.io/badge/arXiv-arXiv:2401.03549-b31b1b.svg)](https://arxiv.org/abs/arXiv:2401.03549) | **The JCMT Transient Survey: Six-Year Summary of 450/850\\,$μ$m  Protostellar Variability and Calibration Pipeline Version 2.0**  |\n",
       "|| S. Mairs, et al. -- incl., <mark>X. Zhang</mark> |\n",
       "|*Appeared on*| *2024-01-09*|\n",
       "|*Comments*| *Accepted for Publication in the The Astrophysical Journal. DOI link to data will become public after the proof stage is complete*|\n",
       "|**Abstract**| The JCMT Transient Survey has been monitoring eight Gould Belt low-mass star-forming regions since December 2015 and six somewhat more distant intermediate-mass star-forming regions since February 2020 with SCUBA-2 on the JCMT at \\ShortS and \\LongS and with an approximately monthly cadence. We introduce our Pipeline v2 relative calibration procedures for image alignment and flux calibration across epochs, improving on our previous Pipeline v1 by decreasing measurement uncertainties and providing additional robustness. These new techniques work at both \\LongS and \\ShortNS, where v1 only allowed investigation of the \\LongS data. Pipeline v2 achieves better than $0.5^{\\prime\\prime}$ relative image alignment, less than a tenth of the submillimeter beam widths. The v2 relative flux calibration is found to be 1\\% at \\LongS and $<5$\\% at \\ShortNS. The improvement in the calibration is demonstrated by comparing the two pipelines over the first four years of the survey and recovering additional robust variables with v2. Using the full six years of the Gould Belt survey the number of robust variables increases by 50\\,\\%, and at \\ShortS we identify four robust variables, all of which are also robust at \\LongNS. The multi-wavelength light curves for these sources are investigated and found to be consistent with the variability being due to dust heating within the envelope in response to accretion luminosity changes from the central source. |\n",
       "|<p style=\"color:green\"> **ERROR** </p>| <p style=\"color:green\">affiliation error: mpia.affiliation_verifications: 'Heidelberg' keyword not found.</p> |"
      ],
      "text/plain": [
       "<IPython.core.display.Markdown object>"
      ]
     },
     "metadata": {},
     "output_type": "display_data"
    },
    {
     "data": {
      "text/markdown": [
       "\n",
       "|||\n",
       "|---:|:---|\n",
       "| [![arXiv](https://img.shields.io/badge/arXiv-arXiv:2401.03775-b31b1b.svg)](https://arxiv.org/abs/arXiv:2401.03775) | **Low-mass stars: Their Protoplanetary Disc Lifetime Distribution**  |\n",
       "|| <mark>S. Pfalzner</mark>, F. Dincer |\n",
       "|*Appeared on*| *2024-01-09*|\n",
       "|*Comments*| *14 pages, 5 figures, accepted by ApJ*|\n",
       "|**Abstract**| While most protoplanetary discs lose their gas within less than 10 Myr, individual disc lifetimes vary from < 1 Myr to >> 20 Myr, with some discs existing for > 40 Myr. Mean disc half lifetimes hide this diversity; only a so-far non-existing disc lifetime distribution could capture this fact. The benefit of a disc lifetime distribution would be twofold. First, it provides a stringent test on disc evolution theories. Second, it can function as input for planet formation models. Here, we derive such a disc lifetime distribution. We heuristically test different standard distribution forms for their ability to account for the observed disc fractions at certain ages. Here, we concentrate on the distribution for low-mass stars (spectral type M3.7 - M6, $M_s \\approx $ 0.1 - 0.24 M$_{sun}$) because disc lifetimes depend on stellar mass. A Weibull-type distribution ($k$=1.78, $\\lambda$=9.15) describes the observational data if all stars have a disc at a cluster age $t_c$=0. However, a better match exists for lower initial disc fractions. For f(t=0)= 0.65, a Weibull distribution (k=2.34, $\\lambda$=11.22) and a Gauss distribution ($\\sigma$=9.52, $\\mu$=9.52) fit similarly well the data. All distributions have in common that they are wide, and most discs are dissipated at ages > 5 Myr. The next challenge is to quantitatively link the diversity of disc lifetimes to the diversity in planets. |\n",
       "|<p style=\"color:green\"> **ERROR** </p>| <p style=\"color:green\">affiliation error: mpia.affiliation_verifications: 'Heidelberg' keyword not found.</p> |"
      ],
      "text/plain": [
       "<IPython.core.display.Markdown object>"
      ]
     },
     "metadata": {},
     "output_type": "display_data"
    },
    {
     "data": {
      "text/markdown": [
       "\n",
       "|||\n",
       "|---:|:---|\n",
       "| [![arXiv](https://img.shields.io/badge/arXiv-arXiv:2401.03437-b31b1b.svg)](https://arxiv.org/abs/arXiv:2401.03437) | **Mid-infrared evidence for iron-rich dust in the multi-ringed inner disk  of HD 144432**  |\n",
       "|| J. Varga, et al. -- incl., <mark>R. v. Boekel</mark>, <mark>M. Scheuck</mark> |\n",
       "|*Appeared on*| *2024-01-09*|\n",
       "|*Comments*| *29 pages, 24 figures*|\n",
       "|**Abstract**| Context. Rocky planets form by the concentration of solid particles in the inner few au regions of planet-forming disks. Their chemical composition reflects the materials in the disk available in the solid phase at the time the planets were forming. Aims. We aim to constrain the structure and dust composition of the inner disk of the young star HD 144432, using an extensive set of infrared interferometric data taken by the Very Large Telescope Interferometer (VLTI), combining PIONIER, GRAVITY, and MATISSE observations. Methods. We introduced a new physical disk model, TGMdust, to image the interferometric data, and to fit the disk structure and dust composition. We also performed equilibrium condensation calculations with GGchem. Results. Our best-fit model has three disk zones with ring-like structures at 0.15, 1.3, and 4.1 au. Assuming that the dark regions in the disk at ~0.9 au and at ~3 au are gaps opened by planets, we estimate the masses of the putative gap-opening planets to be around a Jupiter mass. We find evidence for an optically thin emission ($\\tau<0.4$) from the inner two disk zones ($r<4$ au) at $\\lambda>3\\ \\mu$m. Our silicate compositional fits confirm radial mineralogy gradients. To identify the dust component responsible for the infrared continuum emission, we explore two cases for the dust composition, one with a silicate+iron mixture and the other with a silicate+carbon one. We find that the iron-rich model provides a better fit to the spectral energy distribution. Conclusions. We propose that in the warm inner regions ($r<5$ au) of typical planet-forming disks, most if not all carbon is in the gas phase, while iron and iron sulfide grains are major constituents of the solid mixture along with forsterite and enstatite. Our analysis demonstrates the need for detailed studies of the dust in inner disks with new mid-infrared instruments such as MATISSE and JWST/MIRI. |\n",
       "|<p style=\"color:red\"> **ERROR** </p>| <p style=\"color:red\">latex error Unable to locate Ghostscript on paths</p> |"
      ],
      "text/plain": [
       "<IPython.core.display.Markdown object>"
      ]
     },
     "metadata": {},
     "output_type": "display_data"
    }
   ],
   "source": [
    "import datetime\n",
    "today = str(datetime.date.today())\n",
    "logfile = f\"_build/html/logs/log-{today}.md\"\n",
    "\n",
    "\n",
    "with open(logfile, 'w') as logs:\n",
    "    # Success\n",
    "    logs.write(f'# Arxiv on Deck 2: Logs - {today}\\n\\n')\n",
    "    logs.write(\"\"\"* Arxiv had {0:,d} new papers\\n\"\"\".format(len(new_papers)))\n",
    "    logs.write(\"\"\"    * {0:,d} with possible author matches\\n\\n\"\"\".format(len(candidates)))\n",
    "    logs.write(\"## Sucessful papers\\n\\n\")\n",
    "    display(Markdown(\"## Successful papers\"))\n",
    "    success = [k[0] for k in documents]\n",
    "    for candid in candidates:\n",
    "        if candid['identifier'].split(':')[-1] in success:\n",
    "            display(candid)\n",
    "            logs.write(candid.generate_markdown_text() + '\\n\\n')\n",
    "\n",
    "    ## failed\n",
    "    logs.write(\"## Failed papers\\n\\n\")\n",
    "    display(Markdown(\"## Failed papers\"))\n",
    "    failed = sorted(failed, key=lambda x: x[1])\n",
    "    current_reason = \"\"\n",
    "    for paper, reason in failed:\n",
    "        if 'affiliation' in reason:\n",
    "            color = 'green'\n",
    "        else:\n",
    "            color = 'red'\n",
    "        data = Markdown(\n",
    "                paper.generate_markdown_text() + \n",
    "                f'\\n|<p style=\"color:{color:s}\"> **ERROR** </p>| <p style=\"color:{color:s}\">{reason:s}</p> |'\n",
    "               )\n",
    "        if reason != current_reason:\n",
    "            logs.write(f'### {reason:s} \\n\\n')\n",
    "            current_reason = reason\n",
    "        logs.write(data.data + '\\n\\n')\n",
    "        \n",
    "        # only display here the important errors (all in logs)\n",
    "        # if color in ('red',):\n",
    "        display(data)"
   ]
  },
  {
   "cell_type": "markdown",
   "id": "472d20ee",
   "metadata": {
    "papermill": {
     "duration": 0.004825,
     "end_time": "2024-01-09T04:12:16.660318",
     "exception": false,
     "start_time": "2024-01-09T04:12:16.655493",
     "status": "completed"
    },
    "tags": []
   },
   "source": [
    "## Export documents\n",
    "\n",
    "We now write the .md files and export relevant images"
   ]
  },
  {
   "cell_type": "code",
   "execution_count": 6,
   "id": "d426aed9",
   "metadata": {
    "execution": {
     "iopub.execute_input": "2024-01-09T04:12:16.671326Z",
     "iopub.status.busy": "2024-01-09T04:12:16.670843Z",
     "iopub.status.idle": "2024-01-09T04:12:16.677140Z",
     "shell.execute_reply": "2024-01-09T04:12:16.676580Z"
    },
    "papermill": {
     "duration": 0.013248,
     "end_time": "2024-01-09T04:12:16.678454",
     "exception": false,
     "start_time": "2024-01-09T04:12:16.665206",
     "status": "completed"
    },
    "tags": []
   },
   "outputs": [],
   "source": [
    "def export_markdown_summary(md: str, md_fname:str, directory: str):\n",
    "    \"\"\"Export MD document and associated relevant images\"\"\"\n",
    "    import os\n",
    "    import shutil\n",
    "    import re\n",
    "\n",
    "    if (os.path.exists(directory) and not os.path.isdir(directory)):\n",
    "        raise RuntimeError(f\"a non-directory file exists with name {directory:s}\")\n",
    "\n",
    "    if (not os.path.exists(directory)):\n",
    "        print(f\"creating directory {directory:s}\")\n",
    "        os.mkdir(directory)\n",
    "\n",
    "    fig_fnames = (re.compile(r'\\[Fig.*\\]\\((.*)\\)').findall(md) + \n",
    "                  re.compile(r'\\<img src=\"([^>\\s]*)\"[^>]*/>').findall(md))\n",
    "    for fname in fig_fnames:\n",
    "        if 'http' in fname:\n",
    "            # No need to copy online figures\n",
    "            continue\n",
    "        destdir = os.path.join(directory, os.path.dirname(fname))\n",
    "        destfname = os.path.join(destdir, os.path.basename(fname))\n",
    "        try:\n",
    "            os.makedirs(destdir)\n",
    "        except FileExistsError:\n",
    "            pass\n",
    "        shutil.copy(fname, destfname)\n",
    "    with open(os.path.join(directory, md_fname), 'w') as fout:\n",
    "        fout.write(md)\n",
    "    print(\"exported in \", os.path.join(directory, md_fname))\n",
    "    [print(\"    + \" + os.path.join(directory,fk)) for fk in fig_fnames]"
   ]
  },
  {
   "cell_type": "code",
   "execution_count": 7,
   "id": "014d04a4",
   "metadata": {
    "execution": {
     "iopub.execute_input": "2024-01-09T04:12:16.689567Z",
     "iopub.status.busy": "2024-01-09T04:12:16.689149Z",
     "iopub.status.idle": "2024-01-09T04:12:16.697616Z",
     "shell.execute_reply": "2024-01-09T04:12:16.697037Z"
    },
    "papermill": {
     "duration": 0.015445,
     "end_time": "2024-01-09T04:12:16.698917",
     "exception": false,
     "start_time": "2024-01-09T04:12:16.683472",
     "status": "completed"
    },
    "tags": []
   },
   "outputs": [
    {
     "name": "stdout",
     "output_type": "stream",
     "text": [
      "exported in  _build/html/2401.04009.md\n",
      "    + _build/html/tmp_2401.04009/./figures/morphology.png\n",
      "    + _build/html/tmp_2401.04009/./figures/artifacts.png\n",
      "    + _build/html/tmp_2401.04009/./figures/roma_2ss_1.png\n"
     ]
    }
   ],
   "source": [
    "for paper_id, md in documents:\n",
    "    export_markdown_summary(md, f\"{paper_id:s}.md\", '_build/html/')"
   ]
  },
  {
   "cell_type": "markdown",
   "id": "f087a0a7",
   "metadata": {
    "papermill": {
     "duration": 0.004917,
     "end_time": "2024-01-09T04:12:16.708873",
     "exception": false,
     "start_time": "2024-01-09T04:12:16.703956",
     "status": "completed"
    },
    "tags": []
   },
   "source": [
    "## Display the papers\n",
    "\n",
    "Not necessary but allows for a quick check."
   ]
  },
  {
   "cell_type": "code",
   "execution_count": 8,
   "id": "fd25f625",
   "metadata": {
    "execution": {
     "iopub.execute_input": "2024-01-09T04:12:16.719987Z",
     "iopub.status.busy": "2024-01-09T04:12:16.719563Z",
     "iopub.status.idle": "2024-01-09T04:12:16.724289Z",
     "shell.execute_reply": "2024-01-09T04:12:16.723762Z"
    },
    "papermill": {
     "duration": 0.011693,
     "end_time": "2024-01-09T04:12:16.725656",
     "exception": false,
     "start_time": "2024-01-09T04:12:16.713963",
     "status": "completed"
    },
    "scrolled": false,
    "tags": []
   },
   "outputs": [
    {
     "data": {
      "text/markdown": [
       "<div class=\"macros\" style=\"visibility:hidden;\">\n",
       "$\\newcommand{\\ensuremath}{}$\n",
       "$\\newcommand{\\xspace}{}$\n",
       "$\\newcommand{\\object}[1]{\\texttt{#1}}$\n",
       "$\\newcommand{\\farcs}{{.}''}$\n",
       "$\\newcommand{\\farcm}{{.}'}$\n",
       "$\\newcommand{\\arcsec}{''}$\n",
       "$\\newcommand{\\arcmin}{'}$\n",
       "$\\newcommand{\\ion}[2]{#1#2}$\n",
       "$\\newcommand{\\textsc}[1]{\\textrm{#1}}$\n",
       "$\\newcommand{\\hl}[1]{\\textrm{#1}}$\n",
       "$\\newcommand{\\footnote}[1]{}$\n",
       "$\\newcommand{\\vdag}{(v)^\\dagger}$\n",
       "$\\newcommand$\n",
       "$\\newcommand$\n",
       "$\\newcommand{\\angstrom}{\\text{\\normalfontÅ}}$\n",
       "$\\newcommand{\\arraystretch}{0.8}$\n",
       "$\\newcommand{\\arraystretch}{0.8}$\n",
       "$\\newcommand{\\arraystretch}{0.8}$\n",
       "$\\newcommand{\\arraystretch}{0.8}$</div>\n",
       "\n",
       "\n",
       "\n",
       "<div id=\"title\">\n",
       "\n",
       "# Recognizing Blazars Using Radio Morphology from the VLA Sky Survey\n",
       "\n",
       "</div>\n",
       "<div id=\"comments\">\n",
       "\n",
       "[![arXiv](https://img.shields.io/badge/arXiv-2401.04009-b31b1b.svg)](https://arxiv.org/abs/2401.04009)<mark>Appeared on: 2024-01-09</mark> -  _21 pages, 11 figures, accepted for publication in The Astrophysical Journal_\n",
       "\n",
       "</div>\n",
       "<div id=\"authors\">\n",
       "\n",
       "Z.-L. X. (谢彰亮), et al. -- incl., <mark>E. Bañados</mark>, <mark>S. Belladitta</mark>, <mark>F. Davies</mark>\n",
       "\n",
       "</div>\n",
       "<div id=\"abstract\">\n",
       "\n",
       "**Abstract:** Blazars are radio-loud Active Galactic Nuclei (AGN) whose jets have a very small angle to our line of sight. Observationally, the radio emission are mostly compact or a compact-core with a 1-sided jet. With 2.5 $^{\\prime\\prime}$ resolution at 3 GHz, the Very Large Array Sky Survey (VLASS) enables us to resolve the structure of some blazar candidates in the sky north of Decl. $-40$ deg. We introduce an algorithm to classify radio sources as either blazar-like or non-blazar-like based on their morphology in the VLASS images. We apply our algorithm to three existing catalogs, including one of known blazars (Roma-BzCAT) and two of blazar candidates identified by WISE colors and radio emission (WIBRaLS, KDEBLLACS). We show that in all three catalogs, there are objects with morphology inconsistent with being blazars. Considering all the catalogs, more than 12 \\% of the candidates are unlikely to be blazars, based on this analysis. Notably, we show that 3 \\% of the Roma-BzCAT \"confirmed” blazars could be a misclassification based on their VLASS morphology. The resulting table with all sources and their radio morphological classification is available online.\n",
       "\n",
       "</div>\n",
       "\n",
       "<div id=\"div_fig1\">\n",
       "\n",
       "<img src=\"tmp_2401.04009/./figures/morphology.png\" alt=\"Fig2\" width=\"100%\"/>\n",
       "\n",
       "**Figure 2. -** Morphological classification of VLASS images using our automated algorithm. The images are categorized into six distinct morphological classes, grouped into two sets. Blazar-like morphologies include _COMPACT_, _OFFSET_, _1-SIDE EXTENDED_, and _1-SIDE SEPARATED_; while non-blazar-like morphologies comprise _2-SIDE EXTENDED_ and _2-SIDE SEPARATED_. In each morphological class, their corresponding 1D signals are shown in two directions, indicated by blue lines. Automatically identified peaks are marked by pink crosses, with morphological classification determined by the properties of peaks, including number, width and distance to the center position. Descriptions of each morphological class and their characteristics can be found in Sec. \\ref{subsec:class}. (*fig:all_signal*)\n",
       "\n",
       "</div>\n",
       "<div id=\"div_fig2\">\n",
       "\n",
       "<img src=\"tmp_2401.04009/./figures/artifacts.png\" alt=\"Fig3\" width=\"100%\"/>\n",
       "\n",
       "**Figure 3. -** An illustration of two artifact types and a _NON-DETECTION_ source in VLASS images. The algorithm identifies cross pattern and dark pixel artifacts, assigning appropriate quality flag values (1 for cross pattern presence, 2 for dark pixel presence, and 3 for both artifacts in the image). Sources with low signal-to-noise ratios that are difficult to discern by visual inspection are classified as _NON-DETECTION_ sources. (*fig:artifacts*)\n",
       "\n",
       "</div>\n",
       "<div id=\"div_fig3\">\n",
       "\n",
       "<img src=\"tmp_2401.04009/./figures/roma_2ss_1.png\" alt=\"Fig5\" width=\"100%\"/>\n",
       "\n",
       "**Figure 5. -** All _2-SIDE SEPARATED_ sources with their VLASS2 image in Roma-BzCAT. Each source has undergone visual inspection, and any discrepancies found during this process are indicated by a visual flag in the resulting table. For each of these sources, our revised visual classification is provided. These revised sources are marked with a white star on their image. (*fig:2ss_1*)\n",
       "\n",
       "</div><div id=\"qrcode\"><img src=https://api.qrserver.com/v1/create-qr-code/?size=100x100&data=\"https://arxiv.org/abs/2401.04009\"></div>"
      ],
      "text/plain": [
       "<IPython.core.display.Markdown object>"
      ]
     },
     "metadata": {},
     "output_type": "display_data"
    }
   ],
   "source": [
    "[display(Markdown(k[1])) for k in documents];"
   ]
  },
  {
   "cell_type": "markdown",
   "id": "873873a4",
   "metadata": {
    "papermill": {
     "duration": 0.005211,
     "end_time": "2024-01-09T04:12:16.736278",
     "exception": false,
     "start_time": "2024-01-09T04:12:16.731067",
     "status": "completed"
    },
    "tags": []
   },
   "source": [
    "# Create HTML index"
   ]
  },
  {
   "cell_type": "code",
   "execution_count": 9,
   "id": "cf665672",
   "metadata": {
    "execution": {
     "iopub.execute_input": "2024-01-09T04:12:16.747860Z",
     "iopub.status.busy": "2024-01-09T04:12:16.747389Z",
     "iopub.status.idle": "2024-01-09T04:12:16.756479Z",
     "shell.execute_reply": "2024-01-09T04:12:16.755855Z"
    },
    "papermill": {
     "duration": 0.016395,
     "end_time": "2024-01-09T04:12:16.757943",
     "exception": false,
     "start_time": "2024-01-09T04:12:16.741548",
     "status": "completed"
    },
    "tags": []
   },
   "outputs": [
    {
     "name": "stdout",
     "output_type": "stream",
     "text": [
      "354  publications files modified in the last 7 days.\n"
     ]
    }
   ],
   "source": [
    "from datetime import datetime, timedelta, timezone\n",
    "from glob import glob\n",
    "import os\n",
    "\n",
    "files = glob('_build/html/*.md')\n",
    "days = 7\n",
    "now = datetime.today()\n",
    "res = []\n",
    "for fk in files:\n",
    "    stat_result = os.stat(fk).st_ctime\n",
    "    modified = datetime.fromtimestamp(stat_result, tz=timezone.utc).replace(tzinfo=None)\n",
    "    delta = now.today() - modified\n",
    "    if delta <= timedelta(days=days):\n",
    "        res.append((delta.seconds, fk))\n",
    "res = [k[1] for k in reversed(sorted(res, key=lambda x:x[1]))]\n",
    "npub = len(res)\n",
    "print(len(res), f\" publications files modified in the last {days:d} days.\")\n",
    "# [ print('\\t', k) for k in res ];"
   ]
  },
  {
   "cell_type": "code",
   "execution_count": 10,
   "id": "015de740",
   "metadata": {
    "execution": {
     "iopub.execute_input": "2024-01-09T04:12:16.769549Z",
     "iopub.status.busy": "2024-01-09T04:12:16.769156Z",
     "iopub.status.idle": "2024-01-09T04:12:16.789716Z",
     "shell.execute_reply": "2024-01-09T04:12:16.789079Z"
    },
    "papermill": {
     "duration": 0.027922,
     "end_time": "2024-01-09T04:12:16.791166",
     "exception": false,
     "start_time": "2024-01-09T04:12:16.763244",
     "status": "completed"
    },
    "tags": []
   },
   "outputs": [
    {
     "name": "stdout",
     "output_type": "stream",
     "text": [
      "7  publications in the last 7 days.\n"
     ]
    }
   ],
   "source": [
    "import datetime\n",
    "from glob import glob\n",
    "\n",
    "def get_last_n_days(lst, days=1):\n",
    "    \"\"\" Get the documents from the last n days \"\"\"\n",
    "    sorted_lst = sorted(lst, key=lambda x: x[1], reverse=True)\n",
    "    for fname, date in sorted_lst:\n",
    "        if date >= str(datetime.date.today() - datetime.timedelta(days=days)):\n",
    "            yield fname\n",
    "\n",
    "def extract_appearance_dates(lst_file):\n",
    "    dates = []\n",
    "\n",
    "    def get_date(line):\n",
    "        return line\\\n",
    "            .split('Appeared on:')[-1]\\\n",
    "            .split('</mark>')[0].strip()\n",
    "\n",
    "    for fname in lst:\n",
    "        with open(fname, 'r') as f:\n",
    "            found_date = False\n",
    "            for line in f:\n",
    "                if not found_date:\n",
    "                    if \"Appeared on\" in line:\n",
    "                        found_date = True\n",
    "                        dates.append((fname, get_date(line)))\n",
    "                else:\n",
    "                    break\n",
    "    return dates\n",
    "\n",
    "from glob import glob\n",
    "lst = glob('_build/html/*md')\n",
    "days = 7\n",
    "dates = extract_appearance_dates(lst)\n",
    "res = list(get_last_n_days(dates, days))\n",
    "npub = len(res)\n",
    "print(len(res), f\" publications in the last {days:d} days.\")"
   ]
  },
  {
   "cell_type": "code",
   "execution_count": 11,
   "id": "52ca0208",
   "metadata": {
    "execution": {
     "iopub.execute_input": "2024-01-09T04:12:16.803189Z",
     "iopub.status.busy": "2024-01-09T04:12:16.802838Z",
     "iopub.status.idle": "2024-01-09T04:12:16.807693Z",
     "shell.execute_reply": "2024-01-09T04:12:16.807075Z"
    },
    "papermill": {
     "duration": 0.012245,
     "end_time": "2024-01-09T04:12:16.808987",
     "exception": false,
     "start_time": "2024-01-09T04:12:16.796742",
     "status": "completed"
    },
    "scrolled": false,
    "tags": []
   },
   "outputs": [],
   "source": [
    "def create_carousel(npub=4):\n",
    "    \"\"\" Generate the HTML code for a carousel with `npub` slides \"\"\"\n",
    "    carousel = [\"\"\"  <div class=\"carousel\" \"\"\",\n",
    "                \"\"\"       data-flickity='{ \"autoPlay\": 10000, \"adaptiveHeight\": true, \"resize\": true, \"wrapAround\": true, \"pauseAutoPlayOnHover\": true, \"groupCells\": 1 }' id=\"asyncTypeset\">\"\"\"\n",
    "                ]\n",
    "    \n",
    "    item_str = \"\"\"    <div class=\"carousel-cell\"> <div id=\"slide{k}\" class=\"md_view\">Content {k}</div> </div>\"\"\"\n",
    "    for k in range(1, npub + 1):\n",
    "        carousel.append(item_str.format(k=k))\n",
    "    carousel.append(\"  </div>\")\n",
    "    return '\\n'.join(carousel)\n",
    "\n",
    "def create_grid(npub=4):\n",
    "    \"\"\" Generate the HTML code for a flat grid with `npub` slides \"\"\"\n",
    "    grid = [\"\"\"  <div class=\"grid\"> \"\"\",\n",
    "                ]\n",
    "    \n",
    "    item_str = \"\"\"    <div class=\"grid-item\"> <div id=\"slide{k}\" class=\"md_view\">Content {k}</div> </div>\"\"\"\n",
    "    for k in range(1, npub + 1):\n",
    "        grid.append(item_str.format(k=k))\n",
    "    grid.append(\"  </div>\")\n",
    "    return '\\n'.join(grid)"
   ]
  },
  {
   "cell_type": "code",
   "execution_count": 12,
   "id": "a6eac5b6",
   "metadata": {
    "execution": {
     "iopub.execute_input": "2024-01-09T04:12:16.820792Z",
     "iopub.status.busy": "2024-01-09T04:12:16.820428Z",
     "iopub.status.idle": "2024-01-09T04:12:16.825472Z",
     "shell.execute_reply": "2024-01-09T04:12:16.824821Z"
    },
    "papermill": {
     "duration": 0.012429,
     "end_time": "2024-01-09T04:12:16.826845",
     "exception": false,
     "start_time": "2024-01-09T04:12:16.814416",
     "status": "completed"
    },
    "scrolled": false,
    "tags": []
   },
   "outputs": [],
   "source": [
    "carousel = create_carousel(npub)\n",
    "docs = ', '.join(['\"{0:s}\"'.format(k.split('/')[-1]) for k in res])\n",
    "slides = ', '.join([f'\"slide{k}\"' for k in range(1, npub + 1)])\n",
    "\n",
    "with open(\"daily_template.html\", \"r\") as tpl:\n",
    "    page = tpl.read()\n",
    "    page = page.replace(\"{%-- carousel:s --%}\", carousel)\\\n",
    "               .replace(\"{%-- suptitle:s --%}\",  \"7-day archives\" )\\\n",
    "               .replace(\"{%-- docs:s --%}\", docs)\\\n",
    "               .replace(\"{%-- slides:s --%}\", slides)\n",
    "    \n",
    "with open(\"_build/html/index_7days.html\", 'w') as fout:\n",
    "    fout.write(page)"
   ]
  },
  {
   "cell_type": "code",
   "execution_count": 13,
   "id": "adc1a1ec",
   "metadata": {
    "execution": {
     "iopub.execute_input": "2024-01-09T04:12:16.838957Z",
     "iopub.status.busy": "2024-01-09T04:12:16.838754Z",
     "iopub.status.idle": "2024-01-09T04:12:16.845473Z",
     "shell.execute_reply": "2024-01-09T04:12:16.844844Z"
    },
    "papermill": {
     "duration": 0.01439,
     "end_time": "2024-01-09T04:12:16.846887",
     "exception": false,
     "start_time": "2024-01-09T04:12:16.832497",
     "status": "completed"
    },
    "tags": []
   },
   "outputs": [
    {
     "name": "stdout",
     "output_type": "stream",
     "text": [
      "3  publications in the last day.\n"
     ]
    }
   ],
   "source": [
    "# redo for today\n",
    "days = 1\n",
    "res = list(get_last_n_days(dates, days))\n",
    "npub = len(res)\n",
    "print(len(res), f\" publications in the last day.\")\n",
    "\n",
    "carousel = create_carousel(npub)\n",
    "docs = ', '.join(['\"{0:s}\"'.format(k.split('/')[-1]) for k in res])\n",
    "slides = ', '.join([f'\"slide{k}\"' for k in range(1, npub + 1)])\n",
    "\n",
    "with open(\"daily_template.html\", \"r\") as tpl:\n",
    "    page = tpl.read()\n",
    "    page = page.replace(\"{%-- carousel:s --%}\", carousel)\\\n",
    "               .replace(\"{%-- suptitle:s --%}\",  \"Daily\" )\\\n",
    "               .replace(\"{%-- docs:s --%}\", docs)\\\n",
    "               .replace(\"{%-- slides:s --%}\", slides)\n",
    "    \n",
    "# print(carousel, docs, slides)\n",
    "# print(page)\n",
    "with open(\"_build/html/index_daily.html\", 'w') as fout:\n",
    "    fout.write(page)"
   ]
  },
  {
   "cell_type": "code",
   "execution_count": 14,
   "id": "00eece82",
   "metadata": {
    "execution": {
     "iopub.execute_input": "2024-01-09T04:12:16.858756Z",
     "iopub.status.busy": "2024-01-09T04:12:16.858561Z",
     "iopub.status.idle": "2024-01-09T04:12:16.864811Z",
     "shell.execute_reply": "2024-01-09T04:12:16.864217Z"
    },
    "papermill": {
     "duration": 0.013828,
     "end_time": "2024-01-09T04:12:16.866185",
     "exception": false,
     "start_time": "2024-01-09T04:12:16.852357",
     "status": "completed"
    },
    "scrolled": false,
    "tags": []
   },
   "outputs": [
    {
     "name": "stdout",
     "output_type": "stream",
     "text": [
      "6  6 publications selected.\n"
     ]
    }
   ],
   "source": [
    "# Create the flat grid of the last N papers (fixed number regardless of dates)\n",
    "from itertools import islice \n",
    "\n",
    "npub = 6\n",
    "res = [k[0] for k in (islice(reversed(sorted(dates, key=lambda x: x[1])), 6))]\n",
    "print(len(res), f\" {npub} publications selected.\")\n",
    "\n",
    "grid = create_grid(npub)\n",
    "docs = ', '.join(['\"{0:s}\"'.format(k.split('/')[-1]) for k in res])\n",
    "slides = ', '.join([f'\"slide{k}\"' for k in range(1, npub + 1)])\n",
    "\n",
    "with open(\"grid_template.html\", \"r\") as tpl:\n",
    "    page = tpl.read()\n",
    "    page = page.replace(\"{%-- grid-content:s --%}\", grid)\\\n",
    "               .replace(\"{%-- suptitle:s --%}\",  f\"Last {npub:,d} papers\" )\\\n",
    "               .replace(\"{%-- docs:s --%}\", docs)\\\n",
    "               .replace(\"{%-- slides:s --%}\", slides)\n",
    "    \n",
    "# print(grid, docs, slides)\n",
    "# print(page)\n",
    "with open(\"_build/html/index_npub_grid.html\", 'w') as fout:\n",
    "    fout.write(page)"
   ]
  }
 ],
 "metadata": {
  "kernelspec": {
   "display_name": "Python 3 (ipykernel)",
   "language": "python",
   "name": "python3"
  },
  "language_info": {
   "codemirror_mode": {
    "name": "ipython",
    "version": 3
   },
   "file_extension": ".py",
   "mimetype": "text/x-python",
   "name": "python",
   "nbconvert_exporter": "python",
   "pygments_lexer": "ipython3",
   "version": "3.9.18"
  },
  "papermill": {
   "default_parameters": {},
   "duration": 154.143533,
   "end_time": "2024-01-09T04:12:17.088583",
   "environment_variables": {},
   "exception": null,
   "input_path": "MPIA daily digest.ipynb",
   "output_path": "log.ipynb",
   "parameters": {},
   "start_time": "2024-01-09T04:09:42.945050",
   "version": "2.5.0"
  },
  "vscode": {
   "interpreter": {
    "hash": "aee8b7b246df8f9039afb4144a1f6fd8d2ca17a180786b69acc140d282b71a49"
   }
  },
  "widgets": {
   "application/vnd.jupyter.widget-state+json": {
    "state": {
     "0af850549f264c4bbaab054e2491987e": {
      "model_module": "@jupyter-widgets/controls",
      "model_module_version": "2.0.0",
      "model_name": "HBoxModel",
      "state": {
       "_dom_classes": [],
       "_model_module": "@jupyter-widgets/controls",
       "_model_module_version": "2.0.0",
       "_model_name": "HBoxModel",
       "_view_count": null,
       "_view_module": "@jupyter-widgets/controls",
       "_view_module_version": "2.0.0",
       "_view_name": "HBoxView",
       "box_style": "",
       "children": [
        "IPY_MODEL_bc2f97513f8e4353835d98bd0288aea6",
        "IPY_MODEL_7313d4d8326242e9956962a6796ec0f8",
        "IPY_MODEL_368df35db63e465780aad12b93d915a4"
       ],
       "layout": "IPY_MODEL_e6befa3388f64c9b84a521b6c99ef9e6",
       "tabbable": null,
       "tooltip": null
      }
     },
     "237194fbb78a4518afb03327a871d09b": {
      "model_module": "@jupyter-widgets/controls",
      "model_module_version": "2.0.0",
      "model_name": "HTMLStyleModel",
      "state": {
       "_model_module": "@jupyter-widgets/controls",
       "_model_module_version": "2.0.0",
       "_model_name": "HTMLStyleModel",
       "_view_count": null,
       "_view_module": "@jupyter-widgets/base",
       "_view_module_version": "2.0.0",
       "_view_name": "StyleView",
       "background": null,
       "description_width": "",
       "font_size": null,
       "text_color": null
      }
     },
     "2bf57fd49f17419a9de5150225e4a07d": {
      "model_module": "@jupyter-widgets/base",
      "model_module_version": "2.0.0",
      "model_name": "LayoutModel",
      "state": {
       "_model_module": "@jupyter-widgets/base",
       "_model_module_version": "2.0.0",
       "_model_name": "LayoutModel",
       "_view_count": null,
       "_view_module": "@jupyter-widgets/base",
       "_view_module_version": "2.0.0",
       "_view_name": "LayoutView",
       "align_content": null,
       "align_items": null,
       "align_self": null,
       "border_bottom": null,
       "border_left": null,
       "border_right": null,
       "border_top": null,
       "bottom": null,
       "display": null,
       "flex": null,
       "flex_flow": null,
       "grid_area": null,
       "grid_auto_columns": null,
       "grid_auto_flow": null,
       "grid_auto_rows": null,
       "grid_column": null,
       "grid_gap": null,
       "grid_row": null,
       "grid_template_areas": null,
       "grid_template_columns": null,
       "grid_template_rows": null,
       "height": null,
       "justify_content": null,
       "justify_items": null,
       "left": null,
       "margin": null,
       "max_height": null,
       "max_width": null,
       "min_height": null,
       "min_width": null,
       "object_fit": null,
       "object_position": null,
       "order": null,
       "overflow": null,
       "padding": null,
       "right": null,
       "top": null,
       "visibility": null,
       "width": null
      }
     },
     "368df35db63e465780aad12b93d915a4": {
      "model_module": "@jupyter-widgets/controls",
      "model_module_version": "2.0.0",
      "model_name": "HTMLModel",
      "state": {
       "_dom_classes": [],
       "_model_module": "@jupyter-widgets/controls",
       "_model_module_version": "2.0.0",
       "_model_name": "HTMLModel",
       "_view_count": null,
       "_view_module": "@jupyter-widgets/controls",
       "_view_module_version": "2.0.0",
       "_view_name": "HTMLView",
       "description": "",
       "description_allow_html": false,
       "layout": "IPY_MODEL_2bf57fd49f17419a9de5150225e4a07d",
       "placeholder": "​",
       "style": "IPY_MODEL_237194fbb78a4518afb03327a871d09b",
       "tabbable": null,
       "tooltip": null,
       "value": " 5/5 [02:09&lt;00:00, 38.43s/it]"
      }
     },
     "3e5dbec96f9943fb82603f7c930dd777": {
      "model_module": "@jupyter-widgets/controls",
      "model_module_version": "2.0.0",
      "model_name": "HTMLStyleModel",
      "state": {
       "_model_module": "@jupyter-widgets/controls",
       "_model_module_version": "2.0.0",
       "_model_name": "HTMLStyleModel",
       "_view_count": null,
       "_view_module": "@jupyter-widgets/base",
       "_view_module_version": "2.0.0",
       "_view_name": "StyleView",
       "background": null,
       "description_width": "",
       "font_size": null,
       "text_color": null
      }
     },
     "539961d8c0bb4b9f81229958875ef703": {
      "model_module": "@jupyter-widgets/base",
      "model_module_version": "2.0.0",
      "model_name": "LayoutModel",
      "state": {
       "_model_module": "@jupyter-widgets/base",
       "_model_module_version": "2.0.0",
       "_model_name": "LayoutModel",
       "_view_count": null,
       "_view_module": "@jupyter-widgets/base",
       "_view_module_version": "2.0.0",
       "_view_name": "LayoutView",
       "align_content": null,
       "align_items": null,
       "align_self": null,
       "border_bottom": null,
       "border_left": null,
       "border_right": null,
       "border_top": null,
       "bottom": null,
       "display": null,
       "flex": null,
       "flex_flow": null,
       "grid_area": null,
       "grid_auto_columns": null,
       "grid_auto_flow": null,
       "grid_auto_rows": null,
       "grid_column": null,
       "grid_gap": null,
       "grid_row": null,
       "grid_template_areas": null,
       "grid_template_columns": null,
       "grid_template_rows": null,
       "height": null,
       "justify_content": null,
       "justify_items": null,
       "left": null,
       "margin": null,
       "max_height": null,
       "max_width": null,
       "min_height": null,
       "min_width": null,
       "object_fit": null,
       "object_position": null,
       "order": null,
       "overflow": null,
       "padding": null,
       "right": null,
       "top": null,
       "visibility": null,
       "width": null
      }
     },
     "57ec0b2e039c4f37a77d6d519fc4f796": {
      "model_module": "@jupyter-widgets/base",
      "model_module_version": "2.0.0",
      "model_name": "LayoutModel",
      "state": {
       "_model_module": "@jupyter-widgets/base",
       "_model_module_version": "2.0.0",
       "_model_name": "LayoutModel",
       "_view_count": null,
       "_view_module": "@jupyter-widgets/base",
       "_view_module_version": "2.0.0",
       "_view_name": "LayoutView",
       "align_content": null,
       "align_items": null,
       "align_self": null,
       "border_bottom": null,
       "border_left": null,
       "border_right": null,
       "border_top": null,
       "bottom": null,
       "display": null,
       "flex": null,
       "flex_flow": null,
       "grid_area": null,
       "grid_auto_columns": null,
       "grid_auto_flow": null,
       "grid_auto_rows": null,
       "grid_column": null,
       "grid_gap": null,
       "grid_row": null,
       "grid_template_areas": null,
       "grid_template_columns": null,
       "grid_template_rows": null,
       "height": null,
       "justify_content": null,
       "justify_items": null,
       "left": null,
       "margin": null,
       "max_height": null,
       "max_width": null,
       "min_height": null,
       "min_width": null,
       "object_fit": null,
       "object_position": null,
       "order": null,
       "overflow": null,
       "padding": null,
       "right": null,
       "top": null,
       "visibility": null,
       "width": null
      }
     },
     "7313d4d8326242e9956962a6796ec0f8": {
      "model_module": "@jupyter-widgets/controls",
      "model_module_version": "2.0.0",
      "model_name": "FloatProgressModel",
      "state": {
       "_dom_classes": [],
       "_model_module": "@jupyter-widgets/controls",
       "_model_module_version": "2.0.0",
       "_model_name": "FloatProgressModel",
       "_view_count": null,
       "_view_module": "@jupyter-widgets/controls",
       "_view_module_version": "2.0.0",
       "_view_name": "ProgressView",
       "bar_style": "success",
       "description": "",
       "description_allow_html": false,
       "layout": "IPY_MODEL_539961d8c0bb4b9f81229958875ef703",
       "max": 5.0,
       "min": 0.0,
       "orientation": "horizontal",
       "style": "IPY_MODEL_c0b442651cb345849d4daae05d58d55e",
       "tabbable": null,
       "tooltip": null,
       "value": 5.0
      }
     },
     "bc2f97513f8e4353835d98bd0288aea6": {
      "model_module": "@jupyter-widgets/controls",
      "model_module_version": "2.0.0",
      "model_name": "HTMLModel",
      "state": {
       "_dom_classes": [],
       "_model_module": "@jupyter-widgets/controls",
       "_model_module_version": "2.0.0",
       "_model_name": "HTMLModel",
       "_view_count": null,
       "_view_module": "@jupyter-widgets/controls",
       "_view_module_version": "2.0.0",
       "_view_name": "HTMLView",
       "description": "",
       "description_allow_html": false,
       "layout": "IPY_MODEL_57ec0b2e039c4f37a77d6d519fc4f796",
       "placeholder": "​",
       "style": "IPY_MODEL_3e5dbec96f9943fb82603f7c930dd777",
       "tabbable": null,
       "tooltip": null,
       "value": "100%"
      }
     },
     "c0b442651cb345849d4daae05d58d55e": {
      "model_module": "@jupyter-widgets/controls",
      "model_module_version": "2.0.0",
      "model_name": "ProgressStyleModel",
      "state": {
       "_model_module": "@jupyter-widgets/controls",
       "_model_module_version": "2.0.0",
       "_model_name": "ProgressStyleModel",
       "_view_count": null,
       "_view_module": "@jupyter-widgets/base",
       "_view_module_version": "2.0.0",
       "_view_name": "StyleView",
       "bar_color": null,
       "description_width": ""
      }
     },
     "e6befa3388f64c9b84a521b6c99ef9e6": {
      "model_module": "@jupyter-widgets/base",
      "model_module_version": "2.0.0",
      "model_name": "LayoutModel",
      "state": {
       "_model_module": "@jupyter-widgets/base",
       "_model_module_version": "2.0.0",
       "_model_name": "LayoutModel",
       "_view_count": null,
       "_view_module": "@jupyter-widgets/base",
       "_view_module_version": "2.0.0",
       "_view_name": "LayoutView",
       "align_content": null,
       "align_items": null,
       "align_self": null,
       "border_bottom": null,
       "border_left": null,
       "border_right": null,
       "border_top": null,
       "bottom": null,
       "display": null,
       "flex": null,
       "flex_flow": null,
       "grid_area": null,
       "grid_auto_columns": null,
       "grid_auto_flow": null,
       "grid_auto_rows": null,
       "grid_column": null,
       "grid_gap": null,
       "grid_row": null,
       "grid_template_areas": null,
       "grid_template_columns": null,
       "grid_template_rows": null,
       "height": null,
       "justify_content": null,
       "justify_items": null,
       "left": null,
       "margin": null,
       "max_height": null,
       "max_width": null,
       "min_height": null,
       "min_width": null,
       "object_fit": null,
       "object_position": null,
       "order": null,
       "overflow": null,
       "padding": null,
       "right": null,
       "top": null,
       "visibility": null,
       "width": null
      }
     }
    },
    "version_major": 2,
    "version_minor": 0
   }
  }
 },
 "nbformat": 4,
 "nbformat_minor": 5
}