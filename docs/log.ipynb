{
 "cells": [
  {
   "cell_type": "markdown",
   "id": "92bcb855",
   "metadata": {
    "papermill": {
     "duration": 0.003844,
     "end_time": "2024-12-06T04:12:04.057882",
     "exception": false,
     "start_time": "2024-12-06T04:12:04.054038",
     "status": "completed"
    },
    "tags": []
   },
   "source": [
    "# MPIA Arxiv on Deck 2\n",
    "\n",
    "Contains the steps to produce the paper extractions."
   ]
  },
  {
   "cell_type": "code",
   "execution_count": 1,
   "id": "3a0d6e11",
   "metadata": {
    "execution": {
     "iopub.execute_input": "2024-12-06T04:12:04.065830Z",
     "iopub.status.busy": "2024-12-06T04:12:04.065069Z",
     "iopub.status.idle": "2024-12-06T04:12:04.539502Z",
     "shell.execute_reply": "2024-12-06T04:12:04.538803Z"
    },
    "papermill": {
     "duration": 0.479797,
     "end_time": "2024-12-06T04:12:04.540961",
     "exception": false,
     "start_time": "2024-12-06T04:12:04.061164",
     "status": "completed"
    },
    "tags": []
   },
   "outputs": [],
   "source": [
    "# Imports\n",
    "import os\n",
    "from IPython.display import Markdown, display\n",
    "from tqdm.notebook import tqdm\n",
    "import warnings\n",
    "from PIL import Image \n",
    "import re\n",
    "\n",
    "# requires arxiv_on_deck_2\n",
    "\n",
    "from arxiv_on_deck_2.arxiv2 import (get_new_papers, \n",
    "                                    get_paper_from_identifier,\n",
    "                                    retrieve_document_source, \n",
    "                                    get_markdown_badge)\n",
    "from arxiv_on_deck_2 import (latex,\n",
    "                             latex_bib,\n",
    "                             mpia,\n",
    "                             highlight_authors_in_list)\n",
    "\n",
    "# Sometimes images are really big\n",
    "Image.MAX_IMAGE_PIXELS = 1000000000 "
   ]
  },
  {
   "cell_type": "code",
   "execution_count": 2,
   "id": "22aa9d44",
   "metadata": {
    "execution": {
     "iopub.execute_input": "2024-12-06T04:12:04.548692Z",
     "iopub.status.busy": "2024-12-06T04:12:04.548133Z",
     "iopub.status.idle": "2024-12-06T04:12:04.555915Z",
     "shell.execute_reply": "2024-12-06T04:12:04.555407Z"
    },
    "papermill": {
     "duration": 0.01268,
     "end_time": "2024-12-06T04:12:04.556948",
     "exception": false,
     "start_time": "2024-12-06T04:12:04.544268",
     "status": "completed"
    },
    "tags": []
   },
   "outputs": [],
   "source": [
    "# Some useful definitions.\n",
    "\n",
    "class AffiliationWarning(UserWarning):\n",
    "    pass\n",
    "\n",
    "class AffiliationError(RuntimeError):\n",
    "    pass\n",
    "\n",
    "def validation(source: str):\n",
    "    \"\"\"Raises error paper during parsing of source file\n",
    "    \n",
    "    Allows checks before parsing TeX code.\n",
    "    \n",
    "    Raises AffiliationWarning\n",
    "    \"\"\"\n",
    "    check = mpia.affiliation_verifications(source, verbose=True)\n",
    "    if check is not True:\n",
    "        raise AffiliationError(\"mpia.affiliation_verifications: \" + check)\n",
    "\n",
    "        \n",
    "warnings.simplefilter('always', AffiliationWarning)\n",
    "\n",
    "\n",
    "def get_markdown_qrcode(paper_id: str):\n",
    "    \"\"\" Generate a qrcode to the arxiv page using qrserver.com\n",
    "    \n",
    "    :param paper: Arxiv paper\n",
    "    :returns: markdown text\n",
    "    \"\"\"\n",
    "    url = r\"https://api.qrserver.com/v1/create-qr-code/?size=100x100&data=\"\n",
    "    txt = f\"\"\"<img src={url}\"https://arxiv.org/abs/{paper_id}\">\"\"\"\n",
    "    txt = '<div id=\"qrcode\">' + txt + '</div>'\n",
    "    return txt\n",
    "\n",
    "\n",
    "def clean_non_western_encoded_characters_commands(text: str) -> str:\n",
    "    \"\"\" Remove non-western encoded characters from a string\n",
    "    List may need to grow.\n",
    "    \n",
    "    :param text: the text to clean\n",
    "    :return: the cleaned text\n",
    "    \"\"\"\n",
    "    text = re.sub(r\"(\\\\begin{CJK}{UTF8}{gbsn})(.*?)(\\\\end{CJK})\", r\"\\2\", text)\n",
    "    return text\n",
    "\n",
    "\n",
    "def get_initials(name: str) -> str:\n",
    "    \"\"\" Get the short name, e.g., A.-B. FamName\n",
    "    :param name: full name\n",
    "    :returns: initials\n",
    "    \"\"\"\n",
    "    initials = []\n",
    "    # account for non western names often in ()\n",
    "    if '(' in name:\n",
    "        name = clean_non_western_encoded_characters_commands(name)\n",
    "        suffix = re.findall(r\"\\((.*?)\\)\", name)[0]\n",
    "        name = name.replace(f\"({suffix})\", '')\n",
    "    else:\n",
    "        suffix = ''\n",
    "    split = name.split()\n",
    "    for token in split[:-1]:\n",
    "        if '-' in token:\n",
    "            current = '-'.join([k[0] + '.' for k in token.split('-')])\n",
    "        else:\n",
    "            current = token[0] + '.'\n",
    "        initials.append(current)\n",
    "    initials.append(split[-1].strip())\n",
    "    if suffix:\n",
    "        initials.append(f\"({suffix})\")\n",
    "    return ' '.join(initials)"
   ]
  },
  {
   "cell_type": "markdown",
   "id": "14bd6310",
   "metadata": {
    "papermill": {
     "duration": 0.003088,
     "end_time": "2024-12-06T04:12:04.563098",
     "exception": false,
     "start_time": "2024-12-06T04:12:04.560010",
     "status": "completed"
    },
    "tags": []
   },
   "source": [
    "## get list of arxiv paper candidates\n",
    "\n",
    "We use the MPIA mitarbeiter list webpage from mpia.de to get author names\n",
    "We then get all new papers from Arxiv and match authors"
   ]
  },
  {
   "cell_type": "code",
   "execution_count": 3,
   "id": "7ea813a8",
   "metadata": {
    "execution": {
     "iopub.execute_input": "2024-12-06T04:12:04.569986Z",
     "iopub.status.busy": "2024-12-06T04:12:04.569603Z",
     "iopub.status.idle": "2024-12-06T04:12:23.857528Z",
     "shell.execute_reply": "2024-12-06T04:12:23.856898Z"
    },
    "papermill": {
     "duration": 19.292723,
     "end_time": "2024-12-06T04:12:23.858786",
     "exception": false,
     "start_time": "2024-12-06T04:12:04.566063",
     "status": "completed"
    },
    "tags": []
   },
   "outputs": [],
   "source": [
    "# deal with the author list and edge cases of people that cannot be consistent on their name  \n",
    "\n",
    "def filter_non_scientists(name: str) -> bool:\n",
    "    \"\"\" Loose filter on expected authorships\n",
    "\n",
    "    removing IT, administration, technical staff\n",
    "    :param name: name\n",
    "    :returns: False if name is not a scientist\n",
    "    \"\"\"\n",
    "    remove_list = ['Licht', 'Binroth', 'Witzel', 'Jordan',\n",
    "                   'Zähringer', 'Scheerer', 'Hoffmann', 'Düe',\n",
    "                   'Hellmich', 'Enkler-Scharpegge', 'Witte-Nguy',\n",
    "                   'Dehen', 'Beckmann', 'Jager', 'Jäger'\n",
    "                  ]\n",
    "\n",
    "    for k in remove_list:\n",
    "        if k in name:\n",
    "            return False\n",
    "    return True\n",
    "\n",
    "def add_author_to_list(author_list: list) -> list:\n",
    "    \"\"\" Add author to list if not already in list\n",
    "    \n",
    "    :param author: author name\n",
    "    :param author_list: list of authors\n",
    "    :returns: updated list of authors\n",
    "    \"\"\"\n",
    "    add_list = ['T. Henning']\n",
    "\n",
    "    for author in add_list:\n",
    "        if author not in author_list:\n",
    "            author_list.append(author)\n",
    "    return author_list\n",
    "\n",
    "# get list from MPIA website\n",
    "# filter for non-scientists (mpia.get_mpia_mitarbeiter_list() does some filtering)\n",
    "mpia_authors = [k[1] for k in mpia.get_mpia_mitarbeiter_list() if filter_non_scientists(k[1])]\n",
    "# add some missing author because of inconsistencies in their MPIA name and author name on papers\n",
    "mpia_authors = add_author_to_list(mpia_authors)"
   ]
  },
  {
   "cell_type": "code",
   "execution_count": 4,
   "id": "2645e73a",
   "metadata": {
    "execution": {
     "iopub.execute_input": "2024-12-06T04:12:23.866167Z",
     "iopub.status.busy": "2024-12-06T04:12:23.865935Z",
     "iopub.status.idle": "2024-12-06T04:12:24.554988Z",
     "shell.execute_reply": "2024-12-06T04:12:24.554261Z"
    },
    "papermill": {
     "duration": 0.693928,
     "end_time": "2024-12-06T04:12:24.556092",
     "exception": false,
     "start_time": "2024-12-06T04:12:23.862164",
     "status": "completed"
    },
    "tags": []
   },
   "outputs": [
    {
     "name": "stdout",
     "output_type": "stream",
     "text": [
      "J. Mathew  ->  J. Mathew  |  ['J. Mathew']\n",
      "J. Liu  ->  J. Liu  |  ['J. Liu']\n",
      "F. Walter  ->  F. Walter  |  ['F. Walter']\n",
      "T. Henning  ->  T. Henning  |  ['T. Henning']\n",
      "S. Belladitta  ->  S. Belladitta  |  ['S. Belladitta']\n",
      "Arxiv has 71 new papers today\n",
      "          5 with possible author matches\n"
     ]
    }
   ],
   "source": [
    "new_papers = get_new_papers()\n",
    "# add manual references\n",
    "add_paper_refs = []\n",
    "new_papers.extend([get_paper_from_identifier(k) for k in add_paper_refs])\n",
    "\n",
    "def robust_call(fn, value, *args, **kwargs):\n",
    "    try:\n",
    "        return fn(value, *args, **kwargs)\n",
    "    except Exception:\n",
    "        return value\n",
    "\n",
    "candidates = []\n",
    "for paperk in new_papers:\n",
    "    # Check author list with their initials\n",
    "    normed_author_list = [robust_call(mpia.get_initials, k) for k in paperk['authors']]\n",
    "    hl_authors = highlight_authors_in_list(normed_author_list, mpia_authors, verbose=True)\n",
    "    matches = [(hl, orig) for hl, orig in zip(hl_authors, paperk['authors']) if 'mark' in hl]\n",
    "    paperk['authors'] = hl_authors\n",
    "    if matches:\n",
    "        # only select paper if an author matched our list\n",
    "        candidates.append(paperk)\n",
    "print(\"\"\"Arxiv has {0:,d} new papers today\"\"\".format(len(new_papers)))        \n",
    "print(\"\"\"          {0:,d} with possible author matches\"\"\".format(len(candidates)))"
   ]
  },
  {
   "cell_type": "markdown",
   "id": "3543b34a",
   "metadata": {
    "papermill": {
     "duration": 0.006079,
     "end_time": "2024-12-06T04:12:24.567531",
     "exception": false,
     "start_time": "2024-12-06T04:12:24.561452",
     "status": "completed"
    },
    "tags": []
   },
   "source": [
    "# Parse sources and generate relevant outputs\n",
    "\n",
    "From the candidates, we do the following steps:\n",
    "* get their tarball from ArXiv (and extract data)\n",
    "* find the main .tex file: find one with \\documentclass{...} (sometimes it's non trivial)\n",
    "* Check affiliations with :func:`validation`, which uses :func:`mpia.affiliation_verifications`\n",
    "* If passing the affiliations: we parse the .tex source\n",
    "   * inject sub-documents into the main (flatten the main document)\n",
    "   * parse structure, extract information (title, abstract, authors, figures...)\n",
    "   * handles `\\graphicspath` if provided\n",
    "* Generate the .md document."
   ]
  },
  {
   "cell_type": "code",
   "execution_count": 5,
   "id": "9576b79e",
   "metadata": {
    "execution": {
     "iopub.execute_input": "2024-12-06T04:12:24.576859Z",
     "iopub.status.busy": "2024-12-06T04:12:24.576285Z",
     "iopub.status.idle": "2024-12-06T04:12:51.588436Z",
     "shell.execute_reply": "2024-12-06T04:12:51.587653Z"
    },
    "papermill": {
     "duration": 27.017121,
     "end_time": "2024-12-06T04:12:51.589618",
     "exception": false,
     "start_time": "2024-12-06T04:12:24.572497",
     "status": "completed"
    },
    "scrolled": false,
    "tags": []
   },
   "outputs": [
    {
     "data": {
      "application/vnd.jupyter.widget-view+json": {
       "model_id": "7359d775663442189dd8a83581421c0d",
       "version_major": 2,
       "version_minor": 0
      },
      "text/plain": [
       "  0%|          | 0/5 [00:00<?, ?it/s]"
      ]
     },
     "metadata": {},
     "output_type": "display_data"
    },
    {
     "name": "stdout",
     "output_type": "stream",
     "text": [
      "Retrieving document from  https://arxiv.org/e-print/2412.03690\n",
      "extracting tarball to tmp_2412.03690..."
     ]
    },
    {
     "name": "stdout",
     "output_type": "stream",
     "text": [
      " done.\n",
      "Retrieving document from  https://arxiv.org/e-print/2412.03816\n",
      "extracting tarball to tmp_2412.03816..."
     ]
    },
    {
     "name": "stdout",
     "output_type": "stream",
     "text": [
      " done.\n",
      "Retrieving document from  https://arxiv.org/e-print/2412.04088\n"
     ]
    },
    {
     "name": "stdout",
     "output_type": "stream",
     "text": [
      "extracting tarball to tmp_2412.04088... done.\n",
      "Retrieving document from  https://arxiv.org/e-print/2412.04171\n"
     ]
    },
    {
     "name": "stdout",
     "output_type": "stream",
     "text": [
      "extracting tarball to tmp_2412.04171..."
     ]
    },
    {
     "name": "stdout",
     "output_type": "stream",
     "text": [
      " done.\n"
     ]
    },
    {
     "name": "stderr",
     "output_type": "stream",
     "text": [
      "/opt/hostedtoolcache/Python/3.9.20/x64/lib/python3.9/site-packages/arxiv_on_deck_2/latex.py:132: LatexWarning: attempting recovering figure plot_astro_HIP11696_test2\n",
      "  warnings.warn(LatexWarning(f'attempting recovering figure {image}'))\n",
      "/opt/hostedtoolcache/Python/3.9.20/x64/lib/python3.9/site-packages/arxiv_on_deck_2/latex.py:137: LatexWarning: Recovered figure plot_astro_HIP11696_test2 as tmp_2412.04171/./plot_astro_HIP11696_test2.pdf\n",
      "  warnings.warn(LatexWarning(f'Recovered figure {image} as {fname}'))\n"
     ]
    },
    {
     "name": "stderr",
     "output_type": "stream",
     "text": [
      "/opt/hostedtoolcache/Python/3.9.20/x64/lib/python3.9/site-packages/arxiv_on_deck_2/latex.py:132: LatexWarning: attempting recovering figure HIP11696_PMaplot_137Myr\n",
      "  warnings.warn(LatexWarning(f'attempting recovering figure {image}'))\n",
      "/opt/hostedtoolcache/Python/3.9.20/x64/lib/python3.9/site-packages/arxiv_on_deck_2/latex.py:137: LatexWarning: Recovered figure HIP11696_PMaplot_137Myr as tmp_2412.04171/./HIP11696_PMaplot_137Myr.pdf\n",
      "  warnings.warn(LatexWarning(f'Recovered figure {image} as {fname}'))\n"
     ]
    },
    {
     "name": "stderr",
     "output_type": "stream",
     "text": [
      "/opt/hostedtoolcache/Python/3.9.20/x64/lib/python3.9/site-packages/arxiv_on_deck_2/latex.py:132: LatexWarning: attempting recovering figure HIP47110_PMaplot_112Myr\n",
      "  warnings.warn(LatexWarning(f'attempting recovering figure {image}'))\n",
      "/opt/hostedtoolcache/Python/3.9.20/x64/lib/python3.9/site-packages/arxiv_on_deck_2/latex.py:137: LatexWarning: Recovered figure HIP47110_PMaplot_112Myr as tmp_2412.04171/./HIP47110_PMaplot_112Myr.pdf\n",
      "  warnings.warn(LatexWarning(f'Recovered figure {image} as {fname}'))\n"
     ]
    },
    {
     "name": "stderr",
     "output_type": "stream",
     "text": [
      "/opt/hostedtoolcache/Python/3.9.20/x64/lib/python3.9/site-packages/arxiv_on_deck_2/latex.py:132: LatexWarning: attempting recovering figure HIP36277_PMaplot_all\n",
      "  warnings.warn(LatexWarning(f'attempting recovering figure {image}'))\n",
      "/opt/hostedtoolcache/Python/3.9.20/x64/lib/python3.9/site-packages/arxiv_on_deck_2/latex.py:137: LatexWarning: Recovered figure HIP36277_PMaplot_all as tmp_2412.04171/./HIP36277_PMaplot_all.pdf\n",
      "  warnings.warn(LatexWarning(f'Recovered figure {image} as {fname}'))\n"
     ]
    },
    {
     "name": "stderr",
     "output_type": "stream",
     "text": [
      "/opt/hostedtoolcache/Python/3.9.20/x64/lib/python3.9/site-packages/arxiv_on_deck_2/latex.py:132: LatexWarning: attempting recovering figure plot_contrastmag_HIP11696\n",
      "  warnings.warn(LatexWarning(f'attempting recovering figure {image}'))\n",
      "/opt/hostedtoolcache/Python/3.9.20/x64/lib/python3.9/site-packages/arxiv_on_deck_2/latex.py:137: LatexWarning: Recovered figure plot_contrastmag_HIP11696 as tmp_2412.04171/./plot_contrastmag_HIP11696.pdf\n",
      "  warnings.warn(LatexWarning(f'Recovered figure {image} as {fname}'))\n",
      "/opt/hostedtoolcache/Python/3.9.20/x64/lib/python3.9/site-packages/arxiv_on_deck_2/latex.py:132: LatexWarning: attempting recovering figure plot_contrastmag_HIP11696_lmircam\n",
      "  warnings.warn(LatexWarning(f'attempting recovering figure {image}'))\n",
      "/opt/hostedtoolcache/Python/3.9.20/x64/lib/python3.9/site-packages/arxiv_on_deck_2/latex.py:137: LatexWarning: Recovered figure plot_contrastmag_HIP11696_lmircam as tmp_2412.04171/./plot_contrastmag_HIP11696_lmircam.pdf\n",
      "  warnings.warn(LatexWarning(f'Recovered figure {image} as {fname}'))\n",
      "/opt/hostedtoolcache/Python/3.9.20/x64/lib/python3.9/site-packages/arxiv_on_deck_2/latex.py:132: LatexWarning: attempting recovering figure plot_contrastmag_HIP47110\n",
      "  warnings.warn(LatexWarning(f'attempting recovering figure {image}'))\n",
      "/opt/hostedtoolcache/Python/3.9.20/x64/lib/python3.9/site-packages/arxiv_on_deck_2/latex.py:137: LatexWarning: Recovered figure plot_contrastmag_HIP47110 as tmp_2412.04171/./plot_contrastmag_HIP47110.pdf\n",
      "  warnings.warn(LatexWarning(f'Recovered figure {image} as {fname}'))\n",
      "/opt/hostedtoolcache/Python/3.9.20/x64/lib/python3.9/site-packages/arxiv_on_deck_2/latex.py:132: LatexWarning: attempting recovering figure plot_contrastmag_HIP47110_lmircam\n",
      "  warnings.warn(LatexWarning(f'attempting recovering figure {image}'))\n",
      "/opt/hostedtoolcache/Python/3.9.20/x64/lib/python3.9/site-packages/arxiv_on_deck_2/latex.py:137: LatexWarning: Recovered figure plot_contrastmag_HIP47110_lmircam as tmp_2412.04171/./plot_contrastmag_HIP47110_lmircam.pdf\n",
      "  warnings.warn(LatexWarning(f'Recovered figure {image} as {fname}'))\n",
      "/opt/hostedtoolcache/Python/3.9.20/x64/lib/python3.9/site-packages/arxiv_on_deck_2/latex.py:132: LatexWarning: attempting recovering figure plot_contrastmag_HIP36277\n",
      "  warnings.warn(LatexWarning(f'attempting recovering figure {image}'))\n",
      "/opt/hostedtoolcache/Python/3.9.20/x64/lib/python3.9/site-packages/arxiv_on_deck_2/latex.py:137: LatexWarning: Recovered figure plot_contrastmag_HIP36277 as tmp_2412.04171/./plot_contrastmag_HIP36277.pdf\n",
      "  warnings.warn(LatexWarning(f'Recovered figure {image} as {fname}'))\n",
      "/opt/hostedtoolcache/Python/3.9.20/x64/lib/python3.9/site-packages/arxiv_on_deck_2/latex.py:132: LatexWarning: attempting recovering figure plot_contrastmag_HIP36277_lmircam\n",
      "  warnings.warn(LatexWarning(f'attempting recovering figure {image}'))\n",
      "/opt/hostedtoolcache/Python/3.9.20/x64/lib/python3.9/site-packages/arxiv_on_deck_2/latex.py:137: LatexWarning: Recovered figure plot_contrastmag_HIP36277_lmircam as tmp_2412.04171/./plot_contrastmag_HIP36277_lmircam.pdf\n",
      "  warnings.warn(LatexWarning(f'Recovered figure {image} as {fname}'))\n"
     ]
    },
    {
     "name": "stderr",
     "output_type": "stream",
     "text": [
      "/opt/hostedtoolcache/Python/3.9.20/x64/lib/python3.9/site-packages/arxiv_on_deck_2/latex.py:132: LatexWarning: attempting recovering figure HIP11696_comparemodels_HL\n",
      "  warnings.warn(LatexWarning(f'attempting recovering figure {image}'))\n",
      "/opt/hostedtoolcache/Python/3.9.20/x64/lib/python3.9/site-packages/arxiv_on_deck_2/latex.py:137: LatexWarning: Recovered figure HIP11696_comparemodels_HL as tmp_2412.04171/./HIP11696_comparemodels_HL.pdf\n",
      "  warnings.warn(LatexWarning(f'Recovered figure {image} as {fname}'))\n",
      "/opt/hostedtoolcache/Python/3.9.20/x64/lib/python3.9/site-packages/arxiv_on_deck_2/latex.py:132: LatexWarning: attempting recovering figure HIP47110_comparemodels_HL\n",
      "  warnings.warn(LatexWarning(f'attempting recovering figure {image}'))\n",
      "/opt/hostedtoolcache/Python/3.9.20/x64/lib/python3.9/site-packages/arxiv_on_deck_2/latex.py:137: LatexWarning: Recovered figure HIP47110_comparemodels_HL as tmp_2412.04171/./HIP47110_comparemodels_HL.pdf\n",
      "  warnings.warn(LatexWarning(f'Recovered figure {image} as {fname}'))\n",
      "/opt/hostedtoolcache/Python/3.9.20/x64/lib/python3.9/site-packages/arxiv_on_deck_2/latex.py:132: LatexWarning: attempting recovering figure HIP36277_comparemodels_HL_41Myr\n",
      "  warnings.warn(LatexWarning(f'attempting recovering figure {image}'))\n",
      "/opt/hostedtoolcache/Python/3.9.20/x64/lib/python3.9/site-packages/arxiv_on_deck_2/latex.py:137: LatexWarning: Recovered figure HIP36277_comparemodels_HL_41Myr as tmp_2412.04171/./HIP36277_comparemodels_HL_41Myr.pdf\n",
      "  warnings.warn(LatexWarning(f'Recovered figure {image} as {fname}'))\n",
      "/opt/hostedtoolcache/Python/3.9.20/x64/lib/python3.9/site-packages/arxiv_on_deck_2/latex.py:132: LatexWarning: attempting recovering figure HIP36277_comparemodels_HL_5Gyr\n",
      "  warnings.warn(LatexWarning(f'attempting recovering figure {image}'))\n",
      "/opt/hostedtoolcache/Python/3.9.20/x64/lib/python3.9/site-packages/arxiv_on_deck_2/latex.py:137: LatexWarning: Recovered figure HIP36277_comparemodels_HL_5Gyr as tmp_2412.04171/./HIP36277_comparemodels_HL_5Gyr.pdf\n",
      "  warnings.warn(LatexWarning(f'Recovered figure {image} as {fname}'))\n"
     ]
    },
    {
     "name": "stdout",
     "output_type": "stream",
     "text": [
      "Found 67 bibliographic references in tmp_2412.04171/main.bbl.\n",
      "Retrieving document from  https://arxiv.org/e-print/2412.04224\n"
     ]
    },
    {
     "name": "stdout",
     "output_type": "stream",
     "text": [
      "extracting tarball to tmp_2412.04224..."
     ]
    },
    {
     "name": "stdout",
     "output_type": "stream",
     "text": [
      " done.\n"
     ]
    },
    {
     "name": "stdout",
     "output_type": "stream",
     "text": [
      "S. Belladitta  ->  S. Belladitta  |  ['S. Belladitta']\n"
     ]
    },
    {
     "name": "stdout",
     "output_type": "stream",
     "text": [
      "Found 103 bibliographic references in tmp_2412.04224/main.bbl.\n"
     ]
    }
   ],
   "source": [
    "documents = []\n",
    "failed = []\n",
    "for paper in tqdm(candidates):\n",
    "    # debug crap\n",
    "    paper['identifier'] = paper['identifier'].lower().replace('arxiv:', '').replace(r'\\n', '').strip()\n",
    "    paper_id = paper['identifier']\n",
    "    \n",
    "    folder = f'tmp_{paper_id}'\n",
    "\n",
    "    try:\n",
    "        if not os.path.isdir(folder):\n",
    "            folder = retrieve_document_source(f\"{paper_id}\", f'tmp_{paper_id}')\n",
    "        \n",
    "        try:\n",
    "            doc = latex.LatexDocument(folder, validation=validation)    \n",
    "        except AffiliationError as affilerror:\n",
    "            msg = f\"ArXiv:{paper_id:s} is not an MPIA paper... \" + str(affilerror)\n",
    "            failed.append((paper, \"affiliation error: \" + str(affilerror) ))\n",
    "            continue\n",
    "        \n",
    "        # Hack because sometimes author parsing does not work well\n",
    "        if (len(doc.authors) != len(paper['authors'])):\n",
    "            doc._authors = paper['authors']\n",
    "        else:\n",
    "            # highlight authors (FIXME: doc.highlight_authors)\n",
    "            # done on arxiv paper already\n",
    "            doc._authors = highlight_authors_in_list(\n",
    "                [get_initials(k) for k in doc.authors], \n",
    "                mpia_authors, verbose=True)\n",
    "        if (doc.abstract) in (None, ''):\n",
    "            doc._abstract = paper['abstract']\n",
    "            \n",
    "        doc.comment = (get_markdown_badge(paper_id) + \n",
    "                       \"<mark>Appeared on: \" + paper['date'] + \"</mark> - \")\n",
    "        if paper['comments']:\n",
    "            doc.comment += \" _\" + paper['comments'] + \"_\"\n",
    "        \n",
    "        full_md = doc.generate_markdown_text()\n",
    "        \n",
    "        full_md += get_markdown_qrcode(paper_id)\n",
    "        \n",
    "        # replace citations\n",
    "        try:\n",
    "            bibdata = latex_bib.LatexBib.from_doc(doc)\n",
    "            full_md = latex_bib.replace_citations(full_md, bibdata)\n",
    "        except Exception as e:\n",
    "            print(\"Issues with the citations\")\n",
    "            print(e)\n",
    "        \n",
    "        documents.append((paper_id, full_md))\n",
    "    except Exception as e:\n",
    "        warnings.warn(latex.LatexWarning(f\"{paper_id:s} did not run properly\\n\" +\n",
    "                                         str(e)\n",
    "                                        ))\n",
    "        failed.append((paper, \"latex error \" + str(e)))"
   ]
  },
  {
   "cell_type": "markdown",
   "id": "2505a25c",
   "metadata": {
    "papermill": {
     "duration": 0.004242,
     "end_time": "2024-12-06T04:12:51.598351",
     "exception": false,
     "start_time": "2024-12-06T04:12:51.594109",
     "status": "completed"
    },
    "tags": []
   },
   "source": [
    "### Export the logs\n",
    "\n",
    "Throughout, we also keep track of the logs per paper. see `logs-{today date}.md` "
   ]
  },
  {
   "cell_type": "code",
   "execution_count": 6,
   "id": "d733828a",
   "metadata": {
    "execution": {
     "iopub.execute_input": "2024-12-06T04:12:51.608418Z",
     "iopub.status.busy": "2024-12-06T04:12:51.608160Z",
     "iopub.status.idle": "2024-12-06T04:12:51.622892Z",
     "shell.execute_reply": "2024-12-06T04:12:51.622281Z"
    },
    "papermill": {
     "duration": 0.021335,
     "end_time": "2024-12-06T04:12:51.623829",
     "exception": false,
     "start_time": "2024-12-06T04:12:51.602494",
     "status": "completed"
    },
    "scrolled": false,
    "tags": []
   },
   "outputs": [
    {
     "data": {
      "text/markdown": [
       "## Successful papers"
      ],
      "text/plain": [
       "<IPython.core.display.Markdown object>"
      ]
     },
     "metadata": {},
     "output_type": "display_data"
    },
    {
     "data": {
      "text/markdown": [
       "\n",
       "|||\n",
       "|---:|:---|\n",
       "| [![arXiv](https://img.shields.io/badge/arXiv-2412.04171-b31b1b.svg)](https://arxiv.org/abs/2412.04171) | **Deep imaging of three accelerating stars using SHARK-NIR and LMIRCam at LBT**  |\n",
       "|| D. Mesa, et al. -- incl., <mark>T. Henning</mark> |\n",
       "|*Appeared on*| *2024-12-06*|\n",
       "|*Comments*| *12 pages, 9 figures, accepted for publication on MNRAS*|\n",
       "|**Abstract**|            The combination of detection techniques enhances our ability to identify companions orbiting nearby stars. We employed high-contrast imaging to constrain mass and separation of possible companions responsible for the significant proper motion anomalies of the nearby stars HIP 11696, HIP 47110 and HIP 36277. These targets were observed using the LBT's high-contrast camera, SHARK-NIR, in H-band using a Gaussian coronagraph, and with the LMIRCam instrument in the L'-band and using a vAPP coronagraph. Both observations were conducted simultaneously. Additionally, constraints at short separations from the host star are derived analyzing the renormalized unit weight error (RUWE) values from the Gaia catalogue. We find that the companion responsible for the anomaly signal of HIP 11696 is likely positioned at a distance from 2.5 to 28 astronomical units from its host. Its mass is estimated to be between 4 and 16 Jupiter masses, with the greater mass possible only at the upper end of the separation range. Similar limits were obtained for HIP 47110 where the companion should reside between 3 and 30 au with a mass between 3 and 10 MJup. For HIP 36277, we identified a faint stellar companion at large separation, though it might be substellar depending on the assumed age for the star. Considering the older age, this object accounts for the absolute value of the PMa vector but not for its direction. Additionally, we found a substellar candidate companion at a closer separation that could explain the PMa signal, considering a younger age for the system.         |"
      ],
      "text/plain": [
       "[2412.04171] Deep imaging of three accelerating stars using SHARK-NIR and LMIRCam at LBT\n",
       "\tD. Mesa, et al. -- incl., <mark>T. Henning</mark>"
      ]
     },
     "metadata": {},
     "output_type": "display_data"
    },
    {
     "data": {
      "text/markdown": [
       "\n",
       "|||\n",
       "|---:|:---|\n",
       "| [![arXiv](https://img.shields.io/badge/arXiv-2412.04224-b31b1b.svg)](https://arxiv.org/abs/2412.04224) | **The radio properties of the JWST-discovered AGN**  |\n",
       "|| G. Mazzolari, et al. -- incl., <mark>S. Belladitta</mark> |\n",
       "|*Appeared on*| *2024-12-06*|\n",
       "|*Comments*| *Submitted to A&A, comments are welcome*|\n",
       "|**Abstract**|            We explore the radio emission of spectroscopically confirmed, X-ray weak, Broad Line AGN (BLAGN, or type 1) selected with JWST in the GOODS-N field, one of the fields with the best combination of deep radio observations and statistics of JWST-selected BLAGN. We use deep radio data at different frequencies (144\\,MHz, 1.5\\,GHz, 3\\,GHz, 5.5\\,GHz, 10\\,GHz), and we find that none of the 22 sources investigated is detected at any of the aforementioned frequencies. Similarly, the radio stacking analysis does not reveal any detection down to an rms of $\\sim 0.2\\mu$Jy beam$^{-1}$, corresponding to a $3\\sigma$ upper limit at rest frame 5 GHz of $L_{5GHz}=2\\times10^{39}$ erg s$^{-1}$ at the mean redshift of the sample $z\\sim 5.2$. We compared this and individual sources upper limits with expected radio luminosities estimated assuming different AGN scaling relations. For most of the sources the radio luminosity upper limits are still compatible with expectations for radio-quiet (RQ) AGN; nevertheless, the more stringent stacking upper limits and the fact that no detection is found would suggest that JWST-selected BLAGN are weaker than standard AGN even at radio frequencies. We discuss some scenarios that could explain the possible radio weakness, such as free-free absorption from a dense medium, or the lack of either magnetic field or a corona, possibly as a consequence of super-Eddington accretion. These scenarios would also explain the observed X-ray weakness. We also conclude that $\\sim$1 dex more sensitive radio observations are needed to better constrain the level of radio emission (or lack thereof) for the bulk of these sources. The Square Kilometer Array Observatory (SKAO) will likely play a crucial role in assessing the properties of this AGN population.         |"
      ],
      "text/plain": [
       "[2412.04224] The radio properties of the JWST-discovered AGN\n",
       "\tG. Mazzolari, et al. -- incl., <mark>S. Belladitta</mark>"
      ]
     },
     "metadata": {},
     "output_type": "display_data"
    },
    {
     "data": {
      "text/markdown": [
       "## Failed papers"
      ],
      "text/plain": [
       "<IPython.core.display.Markdown object>"
      ]
     },
     "metadata": {},
     "output_type": "display_data"
    },
    {
     "data": {
      "text/markdown": [
       "\n",
       "|||\n",
       "|---:|:---|\n",
       "| [![arXiv](https://img.shields.io/badge/arXiv-2412.03690-b31b1b.svg)](https://arxiv.org/abs/2412.03690) | **Constraining the link between the 2175{\\AA} dust absorption feature and PAHs in Nearby Star-Forming Galaxies using Swift/UVOT and JWST/MIRI**  |\n",
       "|| A. J. Battisti, et al. -- incl., <mark>J. Mathew</mark> |\n",
       "|*Appeared on*| *2024-12-06*|\n",
       "|*Comments*| *26 pages, 19 figures, 4 tables. Accepted for publication in PASA*|\n",
       "|**Abstract**|            The 2175Å bump is a prominent absorption feature at ultraviolet (UV) wavelengths in dust extinction and attenuation curves. Understanding the relative strength of this feature is important for accurate dust corrections at both low- and high-redshift. This feature is postulated to arise from polycyclic aromatic hydrocarbon (PAH) dust grains; however, the carrier has not been definitively established. We present results on the correlation between the 2175Å feature and PAH abundances in a spatially-resolved manner for 15 local galaxies in the PHANGS-JWST survey that have NUV and mid-IR imaging data from Swift/UVOT and JWST/MIRI, respectively. We find a moderate positive correlation between the 2175Å feature strength and PAH abundance, albeit with large intrinsic scatter. However, most of this trend can be attributed to a stronger negative correlation of both quantities with SFR surface density and specific-SFR (proxies of ionising radiation). The latter trends are consistent with previous findings that both the 2175Å carrier and PAHs are small grains that are easily destroyed by UV photons, although the proxy for PAH abundance could also be influenced by dust heating. When controlling for SFR surface density, we find weaker correlations between the 2175Å feature and PAH abundances, disfavouring a direct link. However, analyses based on spectroscopic measurements of the 2175Å feature and PAH features are required to verify our findings. No significant trends with gas-phase metallicity are found for the 2175Å feature and PAHs, however the metallicity range of our sample is limited. We provide prescriptions for the strength of the 2175Å feature and PAHs in local massive (metal-rich) galaxies with SFR surface density and specific-SFR, however the former should be used with caution since bump strengths measured from Swift/UVOT are expected to be underestimated.         |\n",
       "|<p style=\"color:green\"> **ERROR** </p>| <p style=\"color:green\">affiliation error: mpia.affiliation_verifications: 'Heidelberg' keyword not found.</p> |"
      ],
      "text/plain": [
       "<IPython.core.display.Markdown object>"
      ]
     },
     "metadata": {},
     "output_type": "display_data"
    },
    {
     "data": {
      "text/markdown": [
       "\n",
       "|||\n",
       "|---:|:---|\n",
       "| [![arXiv](https://img.shields.io/badge/arXiv-2412.03816-b31b1b.svg)](https://arxiv.org/abs/2412.03816) | **Photospheric Swirls in a Quiet-Sun Region**  |\n",
       "|| Q. Xie, et al. -- incl., <mark>J. Liu</mark> |\n",
       "|*Appeared on*| *2024-12-06*|\n",
       "|*Comments*| *Accepted for publication in the Astrophysical Journal. 13 pages, 10 figures, 1 table*|\n",
       "|**Abstract**|            Swirl-shaped flow structures have been observed throughout the solar atmosphere, in both emission and absorption, at different altitudes and locations, and are believed to be associated with magnetic structures. However, the distribution patterns of such swirls, especially their spatial positions, remain unclear. Using the Automated Swirl Detection Algorithm (ASDA), we identified swirls from the high-resolution photospheric observations, centered on Fe I 630.25 nm, of a quiet region near the Sun's central meridian by the Swedish 1-m Solar Telescope. Through a detailed study of the locations of the detected small-scale swirls with an average radius of $\\sim$300 km, we found that most of them are located in lanes between mesogranules (which have an average diameter of $\\sim$5.4 Mm) instead of the commonly believed intergranular lanes. The squared rotation, expansion/contraction, vector speeds, and proxy kinetic energy are all found to follow Gaussian distributions. Their rotation speed, expansion/contraction speed, and circulation are positively correlated with their radius. These results suggest that photospheric swirls at different scales and locations across the observational 56.5\" $\\times$ 57.5\" field-of-view (FOV) could share the same triggering mechanism at preferred spatial and energy scales. A comparison with previous work suggests that the number of photospheric swirls is positively correlated with the number of local magnetic concentrations, stressing the close relation between swirls and local magnetic concentrations:the number of swirls should positively correlate with the number and strength of local magnetic concentrations.         |\n",
       "|<p style=\"color:green\"> **ERROR** </p>| <p style=\"color:green\">affiliation error: mpia.affiliation_verifications: 'Heidelberg' keyword not found.</p> |"
      ],
      "text/plain": [
       "<IPython.core.display.Markdown object>"
      ]
     },
     "metadata": {},
     "output_type": "display_data"
    },
    {
     "data": {
      "text/markdown": [
       "\n",
       "|||\n",
       "|---:|:---|\n",
       "| [![arXiv](https://img.shields.io/badge/arXiv-2412.04088-b31b1b.svg)](https://arxiv.org/abs/2412.04088) | **A Spectrophotometric analysis and dust properties of classical nova V5584 Sgr**  |\n",
       "|| M. S. Bisht, et al. -- incl., <mark>F. Walter</mark> |\n",
       "|*Appeared on*| *2024-12-06*|\n",
       "|*Comments*| *13 pages, 10 figures, 5 tables, Accepted for publication in MNRAS. arXiv admin note: text overlap with arXiv:2408.01924*|\n",
       "|**Abstract**|            In this work, optical observations of the nova V5584 Sgr are presented. These observations cover different phases including pre-maximum, early decline, and nebular. The spectra are dominated by hydrogen Balmer, Fe II, and O I lines with P-Cygni profiles in the early phase, which are subsequently observed in complete emission. The presence of numerous Fe II lines and low ejecta velocity aligns with the Fe II type nova classification. From optical and NIR colors it is clear that this nova manifests dust formation in the ejecta. The dust temperature and mass were estimated from a spectral energy distribution (SED) fit to the JHK band magnitudes and the WISE data. Light curve analysis shows t$_2$ and t$_3$ values of $\\sim$ 26 and $\\sim$ 48 days, classifying the nova as moderately fast. The physical and chemical properties during early decline and later phases were evaluated using the photoionization code CLOUDY. The best-fit model parameters from two epochs of multiwavelength spectra are compatible with a hot white dwarf source with a roughly constant luminosity of $\\sim$ (2.08 $\\pm$ 0.10) $\\times$ 10$^{36}$ erg s$^{-1}$. We find an ejected mass of $\\sim$ (1.59 $\\pm$ 0.04) $\\times$ 10$^{-4}$M$_{\\odot}$. Abundance analysis indicates that the ejecta is significantly enriched relative to solar values, with O/H = 30.2, C/H = 10.8, He/H = 1.8, Mg/H = 1.68, Na/H = 1.55, and N/H = 45.5 in the early decline phase, and O/H = 4.5, Ne/H = 1.5, and N/H = 24.5 in the nebular phase.         |\n",
       "|<p style=\"color:green\"> **ERROR** </p>| <p style=\"color:green\">affiliation error: mpia.affiliation_verifications: 'Heidelberg' keyword not found.</p> |"
      ],
      "text/plain": [
       "<IPython.core.display.Markdown object>"
      ]
     },
     "metadata": {},
     "output_type": "display_data"
    }
   ],
   "source": [
    "import datetime\n",
    "today = str(datetime.date.today())\n",
    "logfile = f\"_build/html/logs/log-{today}.md\"\n",
    "\n",
    "\n",
    "with open(logfile, 'w') as logs:\n",
    "    # Success\n",
    "    logs.write(f'# Arxiv on Deck 2: Logs - {today}\\n\\n')\n",
    "    logs.write(\"\"\"* Arxiv had {0:,d} new papers\\n\"\"\".format(len(new_papers)))\n",
    "    logs.write(\"\"\"    * {0:,d} with possible author matches\\n\\n\"\"\".format(len(candidates)))\n",
    "    logs.write(\"## Sucessful papers\\n\\n\")\n",
    "    display(Markdown(\"## Successful papers\"))\n",
    "    success = [k[0] for k in documents]\n",
    "    for candid in candidates:\n",
    "        if candid['identifier'].split(':')[-1] in success:\n",
    "            display(candid)\n",
    "            logs.write(candid.generate_markdown_text() + '\\n\\n')\n",
    "\n",
    "    ## failed\n",
    "    logs.write(\"## Failed papers\\n\\n\")\n",
    "    display(Markdown(\"## Failed papers\"))\n",
    "    failed = sorted(failed, key=lambda x: x[1])\n",
    "    current_reason = \"\"\n",
    "    for paper, reason in failed:\n",
    "        if 'affiliation' in reason:\n",
    "            color = 'green'\n",
    "        else:\n",
    "            color = 'red'\n",
    "        data = Markdown(\n",
    "                paper.generate_markdown_text() + \n",
    "                f'\\n|<p style=\"color:{color:s}\"> **ERROR** </p>| <p style=\"color:{color:s}\">{reason:s}</p> |'\n",
    "               )\n",
    "        if reason != current_reason:\n",
    "            logs.write(f'### {reason:s} \\n\\n')\n",
    "            current_reason = reason\n",
    "        logs.write(data.data + '\\n\\n')\n",
    "        \n",
    "        # only display here the important errors (all in logs)\n",
    "        # if color in ('red',):\n",
    "        display(data)"
   ]
  },
  {
   "cell_type": "markdown",
   "id": "472d20ee",
   "metadata": {
    "papermill": {
     "duration": 0.004687,
     "end_time": "2024-12-06T04:12:51.633410",
     "exception": false,
     "start_time": "2024-12-06T04:12:51.628723",
     "status": "completed"
    },
    "tags": []
   },
   "source": [
    "## Export documents\n",
    "\n",
    "We now write the .md files and export relevant images"
   ]
  },
  {
   "cell_type": "code",
   "execution_count": 7,
   "id": "d426aed9",
   "metadata": {
    "execution": {
     "iopub.execute_input": "2024-12-06T04:12:51.643979Z",
     "iopub.status.busy": "2024-12-06T04:12:51.643495Z",
     "iopub.status.idle": "2024-12-06T04:12:51.650110Z",
     "shell.execute_reply": "2024-12-06T04:12:51.649605Z"
    },
    "papermill": {
     "duration": 0.013001,
     "end_time": "2024-12-06T04:12:51.651101",
     "exception": false,
     "start_time": "2024-12-06T04:12:51.638100",
     "status": "completed"
    },
    "tags": []
   },
   "outputs": [],
   "source": [
    "def export_markdown_summary(md: str, md_fname:str, directory: str):\n",
    "    \"\"\"Export MD document and associated relevant images\"\"\"\n",
    "    import os\n",
    "    import shutil\n",
    "    import re\n",
    "\n",
    "    if (os.path.exists(directory) and not os.path.isdir(directory)):\n",
    "        raise RuntimeError(f\"a non-directory file exists with name {directory:s}\")\n",
    "\n",
    "    if (not os.path.exists(directory)):\n",
    "        print(f\"creating directory {directory:s}\")\n",
    "        os.mkdir(directory)\n",
    "\n",
    "    fig_fnames = (re.compile(r'\\[Fig.*\\]\\((.*)\\)').findall(md) + \n",
    "                  re.compile(r'\\<img src=\"([^>\\s]*)\"[^>]*/>').findall(md))\n",
    "    print(\"found figures\", fig_fnames)\n",
    "    for fname in fig_fnames:\n",
    "        if 'http' in fname:\n",
    "            # No need to copy online figures\n",
    "            continue\n",
    "        if not os.path.exists(fname):\n",
    "            print(\"file not found\", fname)\n",
    "            continue\n",
    "        print(\"copying \", fname, \"to\", directory)\n",
    "        destdir = os.path.join(directory, os.path.dirname(fname))\n",
    "        destfname = os.path.join(destdir, os.path.basename(fname))\n",
    "        try:\n",
    "            os.makedirs(destdir)\n",
    "        except FileExistsError:\n",
    "            pass\n",
    "        shutil.copy(fname, destfname)\n",
    "    with open(os.path.join(directory, md_fname), 'w') as fout:\n",
    "        fout.write(md)\n",
    "    print(\"exported in \", os.path.join(directory, md_fname))\n",
    "    [print(\"    + \" + os.path.join(directory,fk)) for fk in fig_fnames]"
   ]
  },
  {
   "cell_type": "code",
   "execution_count": 8,
   "id": "014d04a4",
   "metadata": {
    "execution": {
     "iopub.execute_input": "2024-12-06T04:12:51.661619Z",
     "iopub.status.busy": "2024-12-06T04:12:51.661245Z",
     "iopub.status.idle": "2024-12-06T04:12:51.670815Z",
     "shell.execute_reply": "2024-12-06T04:12:51.670249Z"
    },
    "papermill": {
     "duration": 0.015912,
     "end_time": "2024-12-06T04:12:51.671790",
     "exception": false,
     "start_time": "2024-12-06T04:12:51.655878",
     "status": "completed"
    },
    "tags": []
   },
   "outputs": [
    {
     "name": "stdout",
     "output_type": "stream",
     "text": [
      "found figures ['tmp_2412.04171/./HIP11696_comparemodels_HL.png', 'tmp_2412.04171/./HIP47110_comparemodels_HL.png', 'tmp_2412.04171/./HIP36277_comparemodels_HL_41Myr.png', 'tmp_2412.04171/./HIP36277_comparemodels_HL_5Gyr.png', 'tmp_2412.04171/./HIP47110_PMaplot_112Myr.png', 'tmp_2412.04171/./plot_astro_HIP11696_test2.png']\n",
      "copying  tmp_2412.04171/./HIP11696_comparemodels_HL.png to _build/html/\n",
      "copying  tmp_2412.04171/./HIP47110_comparemodels_HL.png to _build/html/\n",
      "copying  tmp_2412.04171/./HIP36277_comparemodels_HL_41Myr.png to _build/html/\n",
      "copying  tmp_2412.04171/./HIP36277_comparemodels_HL_5Gyr.png to _build/html/\n",
      "copying  tmp_2412.04171/./HIP47110_PMaplot_112Myr.png to _build/html/\n",
      "copying  tmp_2412.04171/./plot_astro_HIP11696_test2.png to _build/html/\n",
      "exported in  _build/html/2412.04171.md\n",
      "    + _build/html/tmp_2412.04171/./HIP11696_comparemodels_HL.png\n",
      "    + _build/html/tmp_2412.04171/./HIP47110_comparemodels_HL.png\n",
      "    + _build/html/tmp_2412.04171/./HIP36277_comparemodels_HL_41Myr.png\n",
      "    + _build/html/tmp_2412.04171/./HIP36277_comparemodels_HL_5Gyr.png\n",
      "    + _build/html/tmp_2412.04171/./HIP47110_PMaplot_112Myr.png\n",
      "    + _build/html/tmp_2412.04171/./plot_astro_HIP11696_test2.png\n",
      "found figures ['tmp_2412.04224/./figure/4panel_flip_3GHz_alpha-0.5_5GHz.jpeg', 'tmp_2412.04224/./figure/SFRdata-SFRMS.jpeg', 'tmp_2412.04224/./figure/SFRdata-SFRHa.jpeg']\n",
      "copying  tmp_2412.04224/./figure/4panel_flip_3GHz_alpha-0.5_5GHz.jpeg to _build/html/\n",
      "copying  tmp_2412.04224/./figure/SFRdata-SFRMS.jpeg to _build/html/\n",
      "copying  tmp_2412.04224/./figure/SFRdata-SFRHa.jpeg to _build/html/\n",
      "exported in  _build/html/2412.04224.md\n",
      "    + _build/html/tmp_2412.04224/./figure/4panel_flip_3GHz_alpha-0.5_5GHz.jpeg\n",
      "    + _build/html/tmp_2412.04224/./figure/SFRdata-SFRMS.jpeg\n",
      "    + _build/html/tmp_2412.04224/./figure/SFRdata-SFRHa.jpeg\n"
     ]
    }
   ],
   "source": [
    "for paper_id, md in documents:\n",
    "    export_markdown_summary(md, f\"{paper_id:s}.md\", '_build/html/')"
   ]
  },
  {
   "cell_type": "markdown",
   "id": "f087a0a7",
   "metadata": {
    "papermill": {
     "duration": 0.004925,
     "end_time": "2024-12-06T04:12:51.681692",
     "exception": false,
     "start_time": "2024-12-06T04:12:51.676767",
     "status": "completed"
    },
    "tags": []
   },
   "source": [
    "## Display the papers\n",
    "\n",
    "Not necessary but allows for a quick check."
   ]
  },
  {
   "cell_type": "code",
   "execution_count": 9,
   "id": "fd25f625",
   "metadata": {
    "execution": {
     "iopub.execute_input": "2024-12-06T04:12:51.692324Z",
     "iopub.status.busy": "2024-12-06T04:12:51.691943Z",
     "iopub.status.idle": "2024-12-06T04:12:51.697817Z",
     "shell.execute_reply": "2024-12-06T04:12:51.697286Z"
    },
    "papermill": {
     "duration": 0.012194,
     "end_time": "2024-12-06T04:12:51.698755",
     "exception": false,
     "start_time": "2024-12-06T04:12:51.686561",
     "status": "completed"
    },
    "scrolled": false,
    "tags": []
   },
   "outputs": [
    {
     "data": {
      "text/markdown": [
       "<div class=\"macros\" style=\"visibility:hidden;\">\n",
       "$\\newcommand{\\ensuremath}{}$\n",
       "$\\newcommand{\\xspace}{}$\n",
       "$\\newcommand{\\object}[1]{\\texttt{#1}}$\n",
       "$\\newcommand{\\farcs}{{.}''}$\n",
       "$\\newcommand{\\farcm}{{.}'}$\n",
       "$\\newcommand{\\arcsec}{''}$\n",
       "$\\newcommand{\\arcmin}{'}$\n",
       "$\\newcommand{\\ion}[2]{#1#2}$\n",
       "$\\newcommand{\\textsc}[1]{\\textrm{#1}}$\n",
       "$\\newcommand{\\hl}[1]{\\textrm{#1}}$\n",
       "$\\newcommand{\\footnote}[1]{}$\n",
       "$\\newcommand{\\MJup}{M_{\\mathrm{Jup}}\\xspace}$\n",
       "$\\newcommand{\\RJup}{R_{\\mathrm{Jup}}}$\n",
       "$\\newcommand{\\RSun}{R_{\\odot} }$\n",
       "$\\newcommand{\\MSun}{M_{\\odot} }$\n",
       "$\\newcommand{\\LSun}{L_{\\odot} }$\n",
       "$\\newcommand{\\teff}{T_{e\\!f\\!f} }$\n",
       "$\\newcommand{\\MEarth}{M_{\\oplus} }$\n",
       "$\\newcommand{\\REarth}{R_{\\oplus} }$\n",
       "$\\newcommand{\\logg}{log~\\emph{g} }$\n",
       "$\\newcommand{\\mic}{\\mum }$\n",
       "$\\newcommand{\\as}{\\hbox{^{\\prime\\prime}} }$\n",
       "$\\newcommand{\\thebibliography}{\\DeclareRobustCommand{\\VAN}[3]{##3}\\VANthebibliography}$</div>\n",
       "\n",
       "\n",
       "\n",
       "<div id=\"title\">\n",
       "\n",
       "# Deep imaging of three accelerating stars using SHARK-NIR and LMIRCam at LBT\n",
       "\n",
       "</div>\n",
       "<div id=\"comments\">\n",
       "\n",
       "[![arXiv](https://img.shields.io/badge/arXiv-2412.04171-b31b1b.svg)](https://arxiv.org/abs/2412.04171)<mark>Appeared on: 2024-12-06</mark> -  _12 pages, 9 figures, accepted for publication on MNRAS_\n",
       "\n",
       "</div>\n",
       "<div id=\"authors\">\n",
       "\n",
       "D. Mesa, et al. -- incl., <mark>T. Henning</mark>\n",
       "\n",
       "</div>\n",
       "<div id=\"abstract\">\n",
       "\n",
       "**Abstract:** The combination of detection techniques enhances our ability to identify companions orbiting nearby stars. We employed high-contrast imaging to constrain mass and separation of possible companions responsible for the significant proper motion anomalies of the nearby stars HIP 11696, HIP 47110 and HIP 36277. These targets were observed using the LBT’s high-contrast camera, SHARK-NIR, in H-band using a Gaussian coronagraph, and with the LMIRCam instrument in the L’-band and using a vAPP coronagraph. Both observations were conducted simultaneously. Additionally, constraints at short separations from the host star are derived analyzing the renormalized unit weight error (RUWE) values from the Gaia catalogue. We find that the companion responsible for the anomaly signal of HIP 11696 is likely positioned at a distance from 2.5 to 28 astronomical units from its host. Its mass is estimated to be between 4 and 16 Jupiter masses, with the greater mass possible only at the upper end of the separation range. Similar limits were obtained for HIP 47110 where the companion should residebetween 3 and  30 au with a mass between 3 and 10 MJup. For HIP 36277, we identified a faint stellar companion at large separation, though it might be substellar depending on the assumed age for the star. Considering the older age, this object accounts for the absolute value of the PMa vector but not for its direction. Additionally, we found a substellar candidate companion at a closer separation that could explain the PMa signal, considering a younger age for the system.\n",
       "\n",
       "</div>\n",
       "\n",
       "<div id=\"div_fig1\">\n",
       "\n",
       "<img src=\"tmp_2412.04171/./HIP11696_comparemodels_HL.png\" alt=\"Fig9.1\" width=\"25%\"/><img src=\"tmp_2412.04171/./HIP47110_comparemodels_HL.png\" alt=\"Fig9.2\" width=\"25%\"/><img src=\"tmp_2412.04171/./HIP36277_comparemodels_HL_41Myr.png\" alt=\"Fig9.3\" width=\"25%\"/><img src=\"tmp_2412.04171/./HIP36277_comparemodels_HL_5Gyr.png\" alt=\"Fig9.4\" width=\"25%\"/>\n",
       "\n",
       "**Figure 9. -** Comparison of mass limits for HIP 11696 (upper left panel), HIP 47110 (upper right panel) and HIP 36277 (bottom panels) assuming different atmospheric models both for the H (solid lines) and the L (dashed lines) spectral band. For the case of HIP 36277 we considered both the younger age of 41 Myr (bottom left panel) and the older age of $\\sim$5 Gyr (bottom right panel). In the latter case, as detailed in the text we could use just a lower number of models. For HIP 36277 we also included the calculated position for the inner faint candidate companion represented by a red square. (*f:modelhip11696*)\n",
       "\n",
       "</div>\n",
       "<div id=\"div_fig2\">\n",
       "\n",
       "<img src=\"tmp_2412.04171/./HIP47110_PMaplot_112Myr.png\" alt=\"Fig3\" width=\"100%\"/>\n",
       "\n",
       "**Figure 3. -** Comparison of the plot of mass limits as a function of the separation from the host star to explain the PMa measurement at the Gaia eDR3 epoch (blue lines) for HIP 47110 with the limits in mass obtained from the SHARK-NIR observations and the AMES-COND atmospheric models (orange solid line). The green and the red solid lines represent the mass limits obtained using the minimum and the maximum ages for the star, respectively. Finally, the brown solid line displays the mass limit at a short separation from the star that can be deduced from considerations of the RUWE value. (*f:pmahip47110*)\n",
       "\n",
       "</div>\n",
       "<div id=\"div_fig3\">\n",
       "\n",
       "<img src=\"tmp_2412.04171/./plot_astro_HIP11696_test2.png\" alt=\"Fig1\" width=\"100%\"/>\n",
       "\n",
       "**Figure 1. -** Relative astrometric position for the candidate companion detected around HIP 11696. The red circle represents the relative position of the object at the NIRC2/KeckII observation epoch, while the green square represents the relative position of the candidate companion at the NIRI observation epoch. Finally, the violet diamond represents the relative position at the epoch of the LBT observation. The error bars on the positions at all epochs are not visible in this plot because of their small dimensions. The solid black line represents the expected relative movement for a background object. The black square is the expected position for a background object at the epoch of the SHARK-NIR and LMIRCam observation. (*f:astrohip11696*)\n",
       "\n",
       "</div><div id=\"qrcode\"><img src=https://api.qrserver.com/v1/create-qr-code/?size=100x100&data=\"https://arxiv.org/abs/2412.04171\"></div>"
      ],
      "text/plain": [
       "<IPython.core.display.Markdown object>"
      ]
     },
     "metadata": {},
     "output_type": "display_data"
    },
    {
     "data": {
      "text/markdown": [
       "<div class=\"macros\" style=\"visibility:hidden;\">\n",
       "$\\newcommand{\\ensuremath}{}$\n",
       "$\\newcommand{\\xspace}{}$\n",
       "$\\newcommand{\\object}[1]{\\texttt{#1}}$\n",
       "$\\newcommand{\\farcs}{{.}''}$\n",
       "$\\newcommand{\\farcm}{{.}'}$\n",
       "$\\newcommand{\\arcsec}{''}$\n",
       "$\\newcommand{\\arcmin}{'}$\n",
       "$\\newcommand{\\ion}[2]{#1#2}$\n",
       "$\\newcommand{\\textsc}[1]{\\textrm{#1}}$\n",
       "$\\newcommand{\\hl}[1]{\\textrm{#1}}$\n",
       "$\\newcommand{\\footnote}[1]{}$\n",
       "$\\newcommand{\\HII}{H {\\sc ii}\\rm }$\n",
       "$\\newcommand{\\NII}{{[N {\\sc ii}] }}$\n",
       "$\\newcommand{\\NIIs}{{[N {\\sc ii}] }}$\n",
       "$\\newcommand{\\NVs}{{[N {\\sc v}] }}$\n",
       "$\\newcommand{\\NIVl}{{N {\\sc iv}] \\lambda}}$\n",
       "$\\newcommand{\\NIVll}{{N {\\sc iv}] \\lambda\\lambda}}$\n",
       "$\\newcommand{\\NVl}{{N {\\sc v} \\lambda}}$\n",
       "$\\newcommand{\\NIIl}{{[N {\\sc ii}] \\lambda}}$\n",
       "$\\newcommand{\\NIIll}{{[N {\\sc ii}] \\lambda\\lambda}}$\n",
       "$\\newcommand{\\NeIII}{{[Ne {\\sc iii} ]}}$\n",
       "$\\newcommand{\\NeIIIs}{{[Ne {\\sc iii}] }}$\n",
       "$\\newcommand{\\NeIIIl}{{[Ne {\\sc iii}] \\lambda}}$\n",
       "$\\newcommand{\\NeIV}{{[Ne {\\sc iv}] }}$\n",
       "$\\newcommand{\\NeIVs}{{[Ne {\\sc iv}] }}$\n",
       "$\\newcommand{\\NeIVl}{{[Ne {\\sc iv}] \\lambda}}$\n",
       "$\\newcommand{\\NeIVll}{{[Ne {\\sc iv}] \\lambda\\lambda}}$\n",
       "$\\newcommand{\\NeV}{{[Ne {\\sc v}] }}$\n",
       "$\\newcommand{\\NeVs}{{[Ne {\\sc v}] }}$\n",
       "$\\newcommand{\\NeVl}{{[Ne {\\sc v}] \\lambda}}$\n",
       "$\\newcommand{\\SII}{{[S {\\sc ii}] }}$\n",
       "$\\newcommand{\\SIIs}{{[S {\\sc ii}] }}$\n",
       "$\\newcommand{\\SIIl}{{[S {\\sc ii}] \\lambda}}$\n",
       "$\\newcommand{\\SIIll}{{[S {\\sc ii}] \\lambda\\lambda}}$\n",
       "$\\newcommand{\\SIII}{{[S {\\sc iii}] }}$\n",
       "$\\newcommand{\\SIIIs}{{[S {\\sc iii}] }}$\n",
       "$\\newcommand{\\SIIIl}{{[S {\\sc iii}] \\lambda}}$\n",
       "$\\newcommand{\\OIII}{{[O {\\sc iii}] }}$\n",
       "$\\newcommand{\\OIIIs}{{[O {\\sc iii}] }}$\n",
       "$\\newcommand{\\OIIIsf}{{O {\\sc iii}] }}$\n",
       "$\\newcommand{\\OIIIl}{{[O {\\sc iii}] \\lambda}}$\n",
       "$\\newcommand{\\OIIIll}{{[O {\\sc iii}] \\lambda\\lambda}}$\n",
       "$\\newcommand{\\OII}{{[O {\\sc ii}] }}$\n",
       "$\\newcommand{\\OIIs}{{[O {\\sc ii}] }}$\n",
       "$\\newcommand{\\OIIl}{{[O {\\sc ii}] \\lambda}}$\n",
       "$\\newcommand{\\OIIll}{{[O {\\sc ii}] \\lambda\\lambda}}$\n",
       "$\\newcommand{\\OI}{{[O {\\sc i}] }}$\n",
       "$\\newcommand{\\OIs}{{[O {\\sc i}] }}$\n",
       "$\\newcommand{\\OIl}{{[O {\\sc i}] \\lambda}}$\n",
       "$\\newcommand{\\CII}{{[C {\\sc ii}] }}$\n",
       "$\\newcommand{\\CIIs}{{C {\\sc ii}] }}$\n",
       "$\\newcommand{\\CIII}{{C {\\sc iii}] }}$\n",
       "$\\newcommand{\\CIIIs}{{C {\\sc iii}] }}$\n",
       "$\\newcommand{\\CIIIll}{\\CIIIs\\lambda\\lambda}$\n",
       "$\\newcommand{\\CIV}{{C {\\sc iv} }}$\n",
       "$\\newcommand{\\CIVs}{{C {\\sc iv} }}$\n",
       "$\\newcommand{\\CIVll}{{C {\\sc iv} \\lambda\\lambda}\\xspace}$\n",
       "$\\newcommand{\\CIVl}{{[C {\\sc iv} \\lambda}\\xspace}$\n",
       "$\\newcommand{\\HeII}{{He {\\sc ii} }}$\n",
       "$\\newcommand{\\HeIIl}{{He {\\sc ii} \\lambda}}$\n",
       "$\\newcommand{\\FeII}{{[Fe {\\sc ii}] }}$\n",
       "$\\newcommand{\\Ha}{H\\alpha }$\n",
       "$\\newcommand{\\Has}{H\\alpha }$\n",
       "$\\newcommand{\\Hb}{H\\beta }$\n",
       "$\\newcommand{\\Hbs}{H\\beta }$\n",
       "$\\newcommand{\\Hg}{H\\gamma }$\n",
       "$\\newcommand{\\Lya}{Ly\\alpha }$\n",
       "$\\newcommand{\\gm}[1]{{\\color{black}{\\bf[GM: #1]}}}$\n",
       "$\\newcommand{\\RMcomm}[1]{{\\color{teal}[RM: #1]}}$</div>\n",
       "\n",
       "\n",
       "\n",
       "<div id=\"title\">\n",
       "\n",
       "# The radio properties of the JWST-discovered AGN\n",
       "\n",
       "</div>\n",
       "<div id=\"comments\">\n",
       "\n",
       "[![arXiv](https://img.shields.io/badge/arXiv-2412.04224-b31b1b.svg)](https://arxiv.org/abs/2412.04224)<mark>Appeared on: 2024-12-06</mark> -  _Submitted to A&A, comments are welcome_\n",
       "\n",
       "</div>\n",
       "<div id=\"authors\">\n",
       "\n",
       "G. Mazzolari, et al. -- incl., <mark>S. Belladitta</mark>\n",
       "\n",
       "</div>\n",
       "<div id=\"abstract\">\n",
       "\n",
       "**Abstract:** The _James Webb Space Telescope_ (JWST) has discovered a large population of Active Galactic Nuclei (AGN) in the early Universe. A large fraction of these AGN revealed a significant lack of X-ray emission, with observed X-ray luminosity upper limits 2-3 dex lower than expected.  We explore the radio emission of these AGN, focusing on the JWST-selected Broad Line AGN (BLAGN, or type 1) in the GOODS-N field, one of the fields with the best combination of deep radio observations and statistics of JWST-selected, spectroscopically confirmed BLAGN. We use deep radio data at different frequencies (144 MHz, 1.5 GHz, 3 GHz, 5.5 GHz, 10 GHz), and we find that none of the 22 sources investigated is detected at any of the aforementioned frequencies.  Similarly, the radio stacking analysis does not reveal any detection down to an rms of $\\sim 0.2\\mu$ Jy beam $^{-1}$ , corresponding to a $3\\sigma$ upper limit at rest frame 5 GHz of $L_{5GHz}=2\\times10^{39}$ erg s $^{-1}$ at the mean redshift of the sample $z\\sim 5.2$ . We compared this and individual sources upper limits with expected radio luminosities estimated assuming different AGN scaling relations. For most of the sources the radio luminosity upper limits are still compatible with expectations for radio-quiet (RQ) AGN; nevertheless, the more stringent stacking upper limits and the fact that no detection is found would suggest that JWST-selected BLAGN are weaker than standard AGN even at radio frequencies.  We discuss some scenarios that could explain the possible radio weakness, such as free-free absorption from a dense medium, or the lack of either magnetic field or a corona, possibly as a consequence of super-Eddington accretion. These scenarios would also explain the observed X-ray weakness. We also conclude that $\\sim$ 1 dex more sensitive radio observations are needed to better constrain the level of radio emission (or lack thereof) for the bulk of these sources. The Square Kilometer Array Observatory (SKAO) will likely play a crucial role in assessing the properties of this AGN population.\n",
       "\n",
       "</div>\n",
       "\n",
       "<div id=\"div_fig1\">\n",
       "\n",
       "<img src=\"tmp_2412.04224/./figure/4panel_flip_3GHz_alpha-0.5_5GHz.jpeg\" alt=\"Fig7\" width=\"100%\"/>\n",
       "\n",
       "**Figure 7. -** Observed rest-frame 5GHz radio luminosity versus expected rest-frame 5GHz radio luminosity of different samples of high-z and local BLAGN according to the four RQ AGN relations described in Sect. \\ref{sec:Lradexp}. The black data points represent the JWST-detected BLAGN analyzed in this work, the red diamond their stack, the gold star the BLAGN GN-28074 reported in [Juod\\vzbalis, Ji and Maiolino (2024)](). The green symbols indicate sources from different local analog samples. The green square represents the position of SBS 0355-052  ([Hatano, Ouchi and Nakajima 2023](), [Johnson, Hunt and Reines 2009]()) , the thick crosses represent the metal-poor dwarf BLAGN reported in [Burke, et. al (2021)](), the thin crosses the X-ray weak BLAGN reported in [Paul, Plotkin and Brandt (2024)](), the filled triangles the radio detected and RQ NLS1 reported in [Berton, Congiu and Järvelä (2018)](). The light blue data point in the top-left panel represents the stack of the X-ray selected but radio undetected AGN on the GOODS-N field performed by [Radcliffe, Barthel and Garrett (2021)](). The red diamond and the black data points in the bottom-right panel, are computed considering $\\log R=1$, while the red circle indicate the expected radio luminosity assuming $\\log R=0$. The gray shaded areas represent the scatter of the relations, while the black dashed line is the 1:1 relation. (*fig:RQ_panel*)\n",
       "\n",
       "</div>\n",
       "<div id=\"div_fig2\">\n",
       "\n",
       "<img src=\"tmp_2412.04224/./figure/SFRdata-SFRMS.jpeg\" alt=\"Fig2\" width=\"100%\"/>\n",
       "\n",
       "**Figure 2. -** Ratio between the SFR derived from the radio luminosity upper limits and the SFR derived assuming the MS of [Popesso, Concas and Cresci (2023)](). The red data point corresponds to the value of the stack. The black dashed line traces the threshold below which the $SFR_{MS}$ becomes incompatible with the radio undetection. (*fig:SFR_MS*)\n",
       "\n",
       "</div>\n",
       "<div id=\"div_fig3\">\n",
       "\n",
       "<img src=\"tmp_2412.04224/./figure/SFRdata-SFRHa.jpeg\" alt=\"Fig4\" width=\"100%\"/>\n",
       "\n",
       "**Figure 4. -** Ratio between the SFR derived from the radio luminosity upper limits and the SFR derived assuming the whole $\\Ha$ emission (narrow+broad) to be due to SF. The red data point corresponds to the value of the stack. The black dashed line traces the threshold below which the $SFR_{H\\alpha}$ becomes incompatible with the radio undetection. (*fig:SFR_Ha*)\n",
       "\n",
       "</div><div id=\"qrcode\"><img src=https://api.qrserver.com/v1/create-qr-code/?size=100x100&data=\"https://arxiv.org/abs/2412.04224\"></div>"
      ],
      "text/plain": [
       "<IPython.core.display.Markdown object>"
      ]
     },
     "metadata": {},
     "output_type": "display_data"
    }
   ],
   "source": [
    "[display(Markdown(k[1])) for k in documents];"
   ]
  },
  {
   "cell_type": "markdown",
   "id": "873873a4",
   "metadata": {
    "papermill": {
     "duration": 0.005459,
     "end_time": "2024-12-06T04:12:51.709761",
     "exception": false,
     "start_time": "2024-12-06T04:12:51.704302",
     "status": "completed"
    },
    "tags": []
   },
   "source": [
    "# Create HTML index"
   ]
  },
  {
   "cell_type": "code",
   "execution_count": 10,
   "id": "cf665672",
   "metadata": {
    "execution": {
     "iopub.execute_input": "2024-12-06T04:12:51.721180Z",
     "iopub.status.busy": "2024-12-06T04:12:51.720940Z",
     "iopub.status.idle": "2024-12-06T04:12:51.729554Z",
     "shell.execute_reply": "2024-12-06T04:12:51.729048Z"
    },
    "papermill": {
     "duration": 0.015417,
     "end_time": "2024-12-06T04:12:51.730473",
     "exception": false,
     "start_time": "2024-12-06T04:12:51.715056",
     "status": "completed"
    },
    "tags": []
   },
   "outputs": [
    {
     "name": "stdout",
     "output_type": "stream",
     "text": [
      "270  publications files modified in the last 7 days.\n"
     ]
    }
   ],
   "source": [
    "from datetime import datetime, timedelta, timezone\n",
    "from glob import glob\n",
    "import os\n",
    "\n",
    "files = glob('_build/html/*.md')\n",
    "days = 7\n",
    "now = datetime.today()\n",
    "res = []\n",
    "for fk in files:\n",
    "    stat_result = os.stat(fk).st_ctime\n",
    "    modified = datetime.fromtimestamp(stat_result, tz=timezone.utc).replace(tzinfo=None)\n",
    "    delta = now.today() - modified\n",
    "    if delta <= timedelta(days=days):\n",
    "        res.append((delta.seconds, fk))\n",
    "res = [k[1] for k in reversed(sorted(res, key=lambda x:x[1]))]\n",
    "npub = len(res)\n",
    "print(len(res), f\" publications files modified in the last {days:d} days.\")\n",
    "# [ print('\\t', k) for k in res ];"
   ]
  },
  {
   "cell_type": "code",
   "execution_count": 11,
   "id": "015de740",
   "metadata": {
    "execution": {
     "iopub.execute_input": "2024-12-06T04:12:51.742378Z",
     "iopub.status.busy": "2024-12-06T04:12:51.741981Z",
     "iopub.status.idle": "2024-12-06T04:12:51.759623Z",
     "shell.execute_reply": "2024-12-06T04:12:51.759102Z"
    },
    "papermill": {
     "duration": 0.024724,
     "end_time": "2024-12-06T04:12:51.760642",
     "exception": false,
     "start_time": "2024-12-06T04:12:51.735918",
     "status": "completed"
    },
    "tags": []
   },
   "outputs": [
    {
     "name": "stdout",
     "output_type": "stream",
     "text": [
      "13  publications in the last 7 days.\n"
     ]
    }
   ],
   "source": [
    "import datetime\n",
    "from glob import glob\n",
    "\n",
    "def get_last_n_days(lst, days=1):\n",
    "    \"\"\" Get the documents from the last n days \"\"\"\n",
    "    sorted_lst = sorted(lst, key=lambda x: x[1], reverse=True)\n",
    "    for fname, date in sorted_lst:\n",
    "        if date >= str(datetime.date.today() - datetime.timedelta(days=days)):\n",
    "            yield fname\n",
    "\n",
    "def extract_appearance_dates(lst_file):\n",
    "    dates = []\n",
    "\n",
    "    def get_date(line):\n",
    "        return line\\\n",
    "            .split('Appeared on:')[-1]\\\n",
    "            .split('</mark>')[0].strip()\n",
    "\n",
    "    for fname in lst:\n",
    "        with open(fname, 'r') as f:\n",
    "            found_date = False\n",
    "            for line in f:\n",
    "                if not found_date:\n",
    "                    if \"Appeared on\" in line:\n",
    "                        found_date = True\n",
    "                        dates.append((fname, get_date(line)))\n",
    "                else:\n",
    "                    break\n",
    "    return dates\n",
    "\n",
    "from glob import glob\n",
    "lst = glob('_build/html/*md')\n",
    "days = 7\n",
    "dates = extract_appearance_dates(lst)\n",
    "res = list(get_last_n_days(dates, days))\n",
    "npub = len(res)\n",
    "print(len(res), f\" publications in the last {days:d} days.\")"
   ]
  },
  {
   "cell_type": "code",
   "execution_count": 12,
   "id": "52ca0208",
   "metadata": {
    "execution": {
     "iopub.execute_input": "2024-12-06T04:12:51.772718Z",
     "iopub.status.busy": "2024-12-06T04:12:51.772158Z",
     "iopub.status.idle": "2024-12-06T04:12:51.777218Z",
     "shell.execute_reply": "2024-12-06T04:12:51.776589Z"
    },
    "papermill": {
     "duration": 0.012153,
     "end_time": "2024-12-06T04:12:51.778296",
     "exception": false,
     "start_time": "2024-12-06T04:12:51.766143",
     "status": "completed"
    },
    "scrolled": false,
    "tags": []
   },
   "outputs": [],
   "source": [
    "def create_carousel(npub=4):\n",
    "    \"\"\" Generate the HTML code for a carousel with `npub` slides \"\"\"\n",
    "    carousel = [\"\"\"  <div class=\"carousel\" \"\"\",\n",
    "                \"\"\"       data-flickity='{ \"autoPlay\": 10000, \"adaptiveHeight\": true, \"resize\": true, \"wrapAround\": true, \"pauseAutoPlayOnHover\": true, \"groupCells\": 1 }' id=\"asyncTypeset\">\"\"\"\n",
    "                ]\n",
    "    \n",
    "    item_str = \"\"\"    <div class=\"carousel-cell\"> <div id=\"slide{k}\" class=\"md_view\">Content {k}</div> </div>\"\"\"\n",
    "    for k in range(1, npub + 1):\n",
    "        carousel.append(item_str.format(k=k))\n",
    "    carousel.append(\"  </div>\")\n",
    "    return '\\n'.join(carousel)\n",
    "\n",
    "def create_grid(npub=4):\n",
    "    \"\"\" Generate the HTML code for a flat grid with `npub` slides \"\"\"\n",
    "    grid = [\"\"\"  <div class=\"grid\"> \"\"\",\n",
    "                ]\n",
    "    \n",
    "    item_str = \"\"\"    <div class=\"grid-item\"> <div id=\"slide{k}\" class=\"md_view\">Content {k}</div> </div>\"\"\"\n",
    "    for k in range(1, npub + 1):\n",
    "        grid.append(item_str.format(k=k))\n",
    "    grid.append(\"  </div>\")\n",
    "    return '\\n'.join(grid)"
   ]
  },
  {
   "cell_type": "code",
   "execution_count": 13,
   "id": "a6eac5b6",
   "metadata": {
    "execution": {
     "iopub.execute_input": "2024-12-06T04:12:51.790480Z",
     "iopub.status.busy": "2024-12-06T04:12:51.790052Z",
     "iopub.status.idle": "2024-12-06T04:12:51.795210Z",
     "shell.execute_reply": "2024-12-06T04:12:51.794558Z"
    },
    "papermill": {
     "duration": 0.012405,
     "end_time": "2024-12-06T04:12:51.796234",
     "exception": false,
     "start_time": "2024-12-06T04:12:51.783829",
     "status": "completed"
    },
    "scrolled": false,
    "tags": []
   },
   "outputs": [],
   "source": [
    "carousel = create_carousel(npub)\n",
    "docs = ', '.join(['\"{0:s}\"'.format(k.split('/')[-1]) for k in res])\n",
    "slides = ', '.join([f'\"slide{k}\"' for k in range(1, npub + 1)])\n",
    "\n",
    "with open(\"daily_template.html\", \"r\") as tpl:\n",
    "    page = tpl.read()\n",
    "    page = page.replace(\"{%-- carousel:s --%}\", carousel)\\\n",
    "               .replace(\"{%-- suptitle:s --%}\",  \"7-day archives\" )\\\n",
    "               .replace(\"{%-- docs:s --%}\", docs)\\\n",
    "               .replace(\"{%-- slides:s --%}\", slides)\n",
    "    \n",
    "with open(\"_build/html/index_7days.html\", 'w') as fout:\n",
    "    fout.write(page)"
   ]
  },
  {
   "cell_type": "code",
   "execution_count": 14,
   "id": "adc1a1ec",
   "metadata": {
    "execution": {
     "iopub.execute_input": "2024-12-06T04:12:51.808278Z",
     "iopub.status.busy": "2024-12-06T04:12:51.807833Z",
     "iopub.status.idle": "2024-12-06T04:12:51.814421Z",
     "shell.execute_reply": "2024-12-06T04:12:51.813920Z"
    },
    "papermill": {
     "duration": 0.013584,
     "end_time": "2024-12-06T04:12:51.815385",
     "exception": false,
     "start_time": "2024-12-06T04:12:51.801801",
     "status": "completed"
    },
    "tags": []
   },
   "outputs": [
    {
     "name": "stdout",
     "output_type": "stream",
     "text": [
      "5  publications in the last day.\n"
     ]
    }
   ],
   "source": [
    "# redo for today\n",
    "days = 1\n",
    "res = list(get_last_n_days(dates, days))\n",
    "npub = len(res)\n",
    "print(len(res), f\" publications in the last day.\")\n",
    "\n",
    "carousel = create_carousel(npub)\n",
    "docs = ', '.join(['\"{0:s}\"'.format(k.split('/')[-1]) for k in res])\n",
    "slides = ', '.join([f'\"slide{k}\"' for k in range(1, npub + 1)])\n",
    "\n",
    "with open(\"daily_template.html\", \"r\") as tpl:\n",
    "    page = tpl.read()\n",
    "    page = page.replace(\"{%-- carousel:s --%}\", carousel)\\\n",
    "               .replace(\"{%-- suptitle:s --%}\",  \"Daily\" )\\\n",
    "               .replace(\"{%-- docs:s --%}\", docs)\\\n",
    "               .replace(\"{%-- slides:s --%}\", slides)\n",
    "    \n",
    "# print(carousel, docs, slides)\n",
    "# print(page)\n",
    "with open(\"_build/html/index_daily.html\", 'w') as fout:\n",
    "    fout.write(page)"
   ]
  },
  {
   "cell_type": "code",
   "execution_count": 15,
   "id": "00eece82",
   "metadata": {
    "execution": {
     "iopub.execute_input": "2024-12-06T04:12:51.827958Z",
     "iopub.status.busy": "2024-12-06T04:12:51.827607Z",
     "iopub.status.idle": "2024-12-06T04:12:51.833877Z",
     "shell.execute_reply": "2024-12-06T04:12:51.833367Z"
    },
    "papermill": {
     "duration": 0.013623,
     "end_time": "2024-12-06T04:12:51.834829",
     "exception": false,
     "start_time": "2024-12-06T04:12:51.821206",
     "status": "completed"
    },
    "scrolled": false,
    "tags": []
   },
   "outputs": [
    {
     "name": "stdout",
     "output_type": "stream",
     "text": [
      "6  6 publications selected.\n"
     ]
    }
   ],
   "source": [
    "# Create the flat grid of the last N papers (fixed number regardless of dates)\n",
    "from itertools import islice \n",
    "\n",
    "npub = 6\n",
    "res = [k[0] for k in (islice(reversed(sorted(dates, key=lambda x: x[1])), 6))]\n",
    "print(len(res), f\" {npub} publications selected.\")\n",
    "\n",
    "grid = create_grid(npub)\n",
    "docs = ', '.join(['\"{0:s}\"'.format(k.split('/')[-1]) for k in res])\n",
    "slides = ', '.join([f'\"slide{k}\"' for k in range(1, npub + 1)])\n",
    "\n",
    "with open(\"grid_template.html\", \"r\") as tpl:\n",
    "    page = tpl.read()\n",
    "    page = page.replace(\"{%-- grid-content:s --%}\", grid)\\\n",
    "               .replace(\"{%-- suptitle:s --%}\",  f\"Last {npub:,d} papers\" )\\\n",
    "               .replace(\"{%-- docs:s --%}\", docs)\\\n",
    "               .replace(\"{%-- slides:s --%}\", slides)\n",
    "    \n",
    "# print(grid, docs, slides)\n",
    "# print(page)\n",
    "with open(\"_build/html/index_npub_grid.html\", 'w') as fout:\n",
    "    fout.write(page)"
   ]
  }
 ],
 "metadata": {
  "kernelspec": {
   "display_name": "Python 3 (ipykernel)",
   "language": "python",
   "name": "python3"
  },
  "language_info": {
   "codemirror_mode": {
    "name": "ipython",
    "version": 3
   },
   "file_extension": ".py",
   "mimetype": "text/x-python",
   "name": "python",
   "nbconvert_exporter": "python",
   "pygments_lexer": "ipython3",
   "version": "3.9.20"
  },
  "papermill": {
   "default_parameters": {},
   "duration": 48.875956,
   "end_time": "2024-12-06T04:12:52.056183",
   "environment_variables": {},
   "exception": null,
   "input_path": "MPIA daily digest.ipynb",
   "output_path": "log.ipynb",
   "parameters": {},
   "start_time": "2024-12-06T04:12:03.180227",
   "version": "2.6.0"
  },
  "vscode": {
   "interpreter": {
    "hash": "aee8b7b246df8f9039afb4144a1f6fd8d2ca17a180786b69acc140d282b71a49"
   }
  },
  "widgets": {
   "application/vnd.jupyter.widget-state+json": {
    "state": {
     "41f9f87d37b24fba984fdc78d4984a75": {
      "model_module": "@jupyter-widgets/controls",
      "model_module_version": "2.0.0",
      "model_name": "HTMLStyleModel",
      "state": {
       "_model_module": "@jupyter-widgets/controls",
       "_model_module_version": "2.0.0",
       "_model_name": "HTMLStyleModel",
       "_view_count": null,
       "_view_module": "@jupyter-widgets/base",
       "_view_module_version": "2.0.0",
       "_view_name": "StyleView",
       "background": null,
       "description_width": "",
       "font_size": null,
       "text_color": null
      }
     },
     "59c86c31b5f0486aa715364e36a2e671": {
      "model_module": "@jupyter-widgets/controls",
      "model_module_version": "2.0.0",
      "model_name": "HTMLStyleModel",
      "state": {
       "_model_module": "@jupyter-widgets/controls",
       "_model_module_version": "2.0.0",
       "_model_name": "HTMLStyleModel",
       "_view_count": null,
       "_view_module": "@jupyter-widgets/base",
       "_view_module_version": "2.0.0",
       "_view_name": "StyleView",
       "background": null,
       "description_width": "",
       "font_size": null,
       "text_color": null
      }
     },
     "695c2c585b2745f7a6a99bf0866ba5ce": {
      "model_module": "@jupyter-widgets/controls",
      "model_module_version": "2.0.0",
      "model_name": "ProgressStyleModel",
      "state": {
       "_model_module": "@jupyter-widgets/controls",
       "_model_module_version": "2.0.0",
       "_model_name": "ProgressStyleModel",
       "_view_count": null,
       "_view_module": "@jupyter-widgets/base",
       "_view_module_version": "2.0.0",
       "_view_name": "StyleView",
       "bar_color": null,
       "description_width": ""
      }
     },
     "7359d775663442189dd8a83581421c0d": {
      "model_module": "@jupyter-widgets/controls",
      "model_module_version": "2.0.0",
      "model_name": "HBoxModel",
      "state": {
       "_dom_classes": [],
       "_model_module": "@jupyter-widgets/controls",
       "_model_module_version": "2.0.0",
       "_model_name": "HBoxModel",
       "_view_count": null,
       "_view_module": "@jupyter-widgets/controls",
       "_view_module_version": "2.0.0",
       "_view_name": "HBoxView",
       "box_style": "",
       "children": [
        "IPY_MODEL_dad67487a02a4b7eb4735653f0491444",
        "IPY_MODEL_e9a4ae6bd4c94fb9ba173ec2fd31b3fd",
        "IPY_MODEL_9dc9c7516e6e4e0caa6c6a9ad0514776"
       ],
       "layout": "IPY_MODEL_e2bc5571f3034bb5820ecc91544ce9cb",
       "tabbable": null,
       "tooltip": null
      }
     },
     "7b0b85633b78475abaf674984dbb7f86": {
      "model_module": "@jupyter-widgets/base",
      "model_module_version": "2.0.0",
      "model_name": "LayoutModel",
      "state": {
       "_model_module": "@jupyter-widgets/base",
       "_model_module_version": "2.0.0",
       "_model_name": "LayoutModel",
       "_view_count": null,
       "_view_module": "@jupyter-widgets/base",
       "_view_module_version": "2.0.0",
       "_view_name": "LayoutView",
       "align_content": null,
       "align_items": null,
       "align_self": null,
       "border_bottom": null,
       "border_left": null,
       "border_right": null,
       "border_top": null,
       "bottom": null,
       "display": null,
       "flex": null,
       "flex_flow": null,
       "grid_area": null,
       "grid_auto_columns": null,
       "grid_auto_flow": null,
       "grid_auto_rows": null,
       "grid_column": null,
       "grid_gap": null,
       "grid_row": null,
       "grid_template_areas": null,
       "grid_template_columns": null,
       "grid_template_rows": null,
       "height": null,
       "justify_content": null,
       "justify_items": null,
       "left": null,
       "margin": null,
       "max_height": null,
       "max_width": null,
       "min_height": null,
       "min_width": null,
       "object_fit": null,
       "object_position": null,
       "order": null,
       "overflow": null,
       "padding": null,
       "right": null,
       "top": null,
       "visibility": null,
       "width": null
      }
     },
     "9dc9c7516e6e4e0caa6c6a9ad0514776": {
      "model_module": "@jupyter-widgets/controls",
      "model_module_version": "2.0.0",
      "model_name": "HTMLModel",
      "state": {
       "_dom_classes": [],
       "_model_module": "@jupyter-widgets/controls",
       "_model_module_version": "2.0.0",
       "_model_name": "HTMLModel",
       "_view_count": null,
       "_view_module": "@jupyter-widgets/controls",
       "_view_module_version": "2.0.0",
       "_view_name": "HTMLView",
       "description": "",
       "description_allow_html": false,
       "layout": "IPY_MODEL_bb42058d11e04fd5b344a62909e79368",
       "placeholder": "​",
       "style": "IPY_MODEL_41f9f87d37b24fba984fdc78d4984a75",
       "tabbable": null,
       "tooltip": null,
       "value": " 5/5 [00:26&lt;00:00,  7.54s/it]"
      }
     },
     "a6e95f26ae304c8caab5b30f058169e6": {
      "model_module": "@jupyter-widgets/base",
      "model_module_version": "2.0.0",
      "model_name": "LayoutModel",
      "state": {
       "_model_module": "@jupyter-widgets/base",
       "_model_module_version": "2.0.0",
       "_model_name": "LayoutModel",
       "_view_count": null,
       "_view_module": "@jupyter-widgets/base",
       "_view_module_version": "2.0.0",
       "_view_name": "LayoutView",
       "align_content": null,
       "align_items": null,
       "align_self": null,
       "border_bottom": null,
       "border_left": null,
       "border_right": null,
       "border_top": null,
       "bottom": null,
       "display": null,
       "flex": null,
       "flex_flow": null,
       "grid_area": null,
       "grid_auto_columns": null,
       "grid_auto_flow": null,
       "grid_auto_rows": null,
       "grid_column": null,
       "grid_gap": null,
       "grid_row": null,
       "grid_template_areas": null,
       "grid_template_columns": null,
       "grid_template_rows": null,
       "height": null,
       "justify_content": null,
       "justify_items": null,
       "left": null,
       "margin": null,
       "max_height": null,
       "max_width": null,
       "min_height": null,
       "min_width": null,
       "object_fit": null,
       "object_position": null,
       "order": null,
       "overflow": null,
       "padding": null,
       "right": null,
       "top": null,
       "visibility": null,
       "width": null
      }
     },
     "bb42058d11e04fd5b344a62909e79368": {
      "model_module": "@jupyter-widgets/base",
      "model_module_version": "2.0.0",
      "model_name": "LayoutModel",
      "state": {
       "_model_module": "@jupyter-widgets/base",
       "_model_module_version": "2.0.0",
       "_model_name": "LayoutModel",
       "_view_count": null,
       "_view_module": "@jupyter-widgets/base",
       "_view_module_version": "2.0.0",
       "_view_name": "LayoutView",
       "align_content": null,
       "align_items": null,
       "align_self": null,
       "border_bottom": null,
       "border_left": null,
       "border_right": null,
       "border_top": null,
       "bottom": null,
       "display": null,
       "flex": null,
       "flex_flow": null,
       "grid_area": null,
       "grid_auto_columns": null,
       "grid_auto_flow": null,
       "grid_auto_rows": null,
       "grid_column": null,
       "grid_gap": null,
       "grid_row": null,
       "grid_template_areas": null,
       "grid_template_columns": null,
       "grid_template_rows": null,
       "height": null,
       "justify_content": null,
       "justify_items": null,
       "left": null,
       "margin": null,
       "max_height": null,
       "max_width": null,
       "min_height": null,
       "min_width": null,
       "object_fit": null,
       "object_position": null,
       "order": null,
       "overflow": null,
       "padding": null,
       "right": null,
       "top": null,
       "visibility": null,
       "width": null
      }
     },
     "dad67487a02a4b7eb4735653f0491444": {
      "model_module": "@jupyter-widgets/controls",
      "model_module_version": "2.0.0",
      "model_name": "HTMLModel",
      "state": {
       "_dom_classes": [],
       "_model_module": "@jupyter-widgets/controls",
       "_model_module_version": "2.0.0",
       "_model_name": "HTMLModel",
       "_view_count": null,
       "_view_module": "@jupyter-widgets/controls",
       "_view_module_version": "2.0.0",
       "_view_name": "HTMLView",
       "description": "",
       "description_allow_html": false,
       "layout": "IPY_MODEL_a6e95f26ae304c8caab5b30f058169e6",
       "placeholder": "​",
       "style": "IPY_MODEL_59c86c31b5f0486aa715364e36a2e671",
       "tabbable": null,
       "tooltip": null,
       "value": "100%"
      }
     },
     "e2bc5571f3034bb5820ecc91544ce9cb": {
      "model_module": "@jupyter-widgets/base",
      "model_module_version": "2.0.0",
      "model_name": "LayoutModel",
      "state": {
       "_model_module": "@jupyter-widgets/base",
       "_model_module_version": "2.0.0",
       "_model_name": "LayoutModel",
       "_view_count": null,
       "_view_module": "@jupyter-widgets/base",
       "_view_module_version": "2.0.0",
       "_view_name": "LayoutView",
       "align_content": null,
       "align_items": null,
       "align_self": null,
       "border_bottom": null,
       "border_left": null,
       "border_right": null,
       "border_top": null,
       "bottom": null,
       "display": null,
       "flex": null,
       "flex_flow": null,
       "grid_area": null,
       "grid_auto_columns": null,
       "grid_auto_flow": null,
       "grid_auto_rows": null,
       "grid_column": null,
       "grid_gap": null,
       "grid_row": null,
       "grid_template_areas": null,
       "grid_template_columns": null,
       "grid_template_rows": null,
       "height": null,
       "justify_content": null,
       "justify_items": null,
       "left": null,
       "margin": null,
       "max_height": null,
       "max_width": null,
       "min_height": null,
       "min_width": null,
       "object_fit": null,
       "object_position": null,
       "order": null,
       "overflow": null,
       "padding": null,
       "right": null,
       "top": null,
       "visibility": null,
       "width": null
      }
     },
     "e9a4ae6bd4c94fb9ba173ec2fd31b3fd": {
      "model_module": "@jupyter-widgets/controls",
      "model_module_version": "2.0.0",
      "model_name": "FloatProgressModel",
      "state": {
       "_dom_classes": [],
       "_model_module": "@jupyter-widgets/controls",
       "_model_module_version": "2.0.0",
       "_model_name": "FloatProgressModel",
       "_view_count": null,
       "_view_module": "@jupyter-widgets/controls",
       "_view_module_version": "2.0.0",
       "_view_name": "ProgressView",
       "bar_style": "success",
       "description": "",
       "description_allow_html": false,
       "layout": "IPY_MODEL_7b0b85633b78475abaf674984dbb7f86",
       "max": 5.0,
       "min": 0.0,
       "orientation": "horizontal",
       "style": "IPY_MODEL_695c2c585b2745f7a6a99bf0866ba5ce",
       "tabbable": null,
       "tooltip": null,
       "value": 5.0
      }
     }
    },
    "version_major": 2,
    "version_minor": 0
   }
  }
 },
 "nbformat": 4,
 "nbformat_minor": 5
}