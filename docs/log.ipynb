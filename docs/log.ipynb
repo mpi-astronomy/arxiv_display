{
 "cells": [
  {
   "cell_type": "markdown",
   "id": "92bcb855",
   "metadata": {
    "papermill": {
     "duration": 0.003681,
     "end_time": "2025-07-08T04:21:39.324089",
     "exception": false,
     "start_time": "2025-07-08T04:21:39.320408",
     "status": "completed"
    },
    "tags": []
   },
   "source": [
    "# MPIA Arxiv on Deck 2\n",
    "\n",
    "Contains the steps to produce the paper extractions."
   ]
  },
  {
   "cell_type": "code",
   "execution_count": 1,
   "id": "3a0d6e11",
   "metadata": {
    "execution": {
     "iopub.execute_input": "2025-07-08T04:21:39.331465Z",
     "iopub.status.busy": "2025-07-08T04:21:39.331019Z",
     "iopub.status.idle": "2025-07-08T04:21:39.563217Z",
     "shell.execute_reply": "2025-07-08T04:21:39.562517Z"
    },
    "papermill": {
     "duration": 0.237267,
     "end_time": "2025-07-08T04:21:39.564588",
     "exception": false,
     "start_time": "2025-07-08T04:21:39.327321",
     "status": "completed"
    },
    "tags": []
   },
   "outputs": [],
   "source": [
    "# Imports\n",
    "import os\n",
    "from IPython.display import Markdown, display\n",
    "from tqdm.notebook import tqdm\n",
    "import warnings\n",
    "from PIL import Image \n",
    "import re\n",
    "\n",
    "# requires arxiv_on_deck_2\n",
    "\n",
    "from arxiv_on_deck_2.arxiv2 import (get_new_papers, \n",
    "                                    get_paper_from_identifier,\n",
    "                                    retrieve_document_source, \n",
    "                                    get_markdown_badge)\n",
    "from arxiv_on_deck_2 import (latex,\n",
    "                             latex_bib,\n",
    "                             mpia,\n",
    "                             highlight_authors_in_list)\n",
    "\n",
    "# Sometimes images are really big\n",
    "Image.MAX_IMAGE_PIXELS = 1000000000 "
   ]
  },
  {
   "cell_type": "code",
   "execution_count": 2,
   "id": "22aa9d44",
   "metadata": {
    "execution": {
     "iopub.execute_input": "2025-07-08T04:21:39.573139Z",
     "iopub.status.busy": "2025-07-08T04:21:39.572733Z",
     "iopub.status.idle": "2025-07-08T04:21:39.580755Z",
     "shell.execute_reply": "2025-07-08T04:21:39.580161Z"
    },
    "papermill": {
     "duration": 0.013871,
     "end_time": "2025-07-08T04:21:39.581760",
     "exception": false,
     "start_time": "2025-07-08T04:21:39.567889",
     "status": "completed"
    },
    "tags": []
   },
   "outputs": [],
   "source": [
    "# Some useful definitions.\n",
    "\n",
    "class AffiliationWarning(UserWarning):\n",
    "    pass\n",
    "\n",
    "class AffiliationError(RuntimeError):\n",
    "    pass\n",
    "\n",
    "def validation(source: str):\n",
    "    \"\"\"Raises error paper during parsing of source file\n",
    "    \n",
    "    Allows checks before parsing TeX code.\n",
    "    \n",
    "    Raises AffiliationWarning\n",
    "    \"\"\"\n",
    "    check = mpia.affiliation_verifications(source, verbose=True)\n",
    "    if check is not True:\n",
    "        raise AffiliationError(\"mpia.affiliation_verifications: \" + check)\n",
    "\n",
    "        \n",
    "warnings.simplefilter('always', AffiliationWarning)\n",
    "\n",
    "\n",
    "def get_markdown_qrcode(paper_id: str):\n",
    "    \"\"\" Generate a qrcode to the arxiv page using qrserver.com\n",
    "    \n",
    "    :param paper: Arxiv paper\n",
    "    :returns: markdown text\n",
    "    \"\"\"\n",
    "    url = r\"https://api.qrserver.com/v1/create-qr-code/?size=100x100&data=\"\n",
    "    txt = f\"\"\"<img src={url}\"https://arxiv.org/abs/{paper_id}\">\"\"\"\n",
    "    txt = '<div id=\"qrcode\">' + txt + '</div>'\n",
    "    return txt\n",
    "\n",
    "\n",
    "def clean_non_western_encoded_characters_commands(text: str) -> str:\n",
    "    \"\"\" Remove non-western encoded characters from a string\n",
    "    List may need to grow.\n",
    "    \n",
    "    :param text: the text to clean\n",
    "    :return: the cleaned text\n",
    "    \"\"\"\n",
    "    text = re.sub(r\"(\\\\begin{CJK}{UTF8}{gbsn})(.*?)(\\\\end{CJK})\", r\"\\2\", text)\n",
    "    return text\n",
    "\n",
    "\n",
    "def get_initials(name: str) -> str:\n",
    "    \"\"\" Get the short name, e.g., A.-B. FamName\n",
    "    :param name: full name\n",
    "    :returns: initials\n",
    "    \"\"\"\n",
    "    initials = []\n",
    "    # account for non western names often in ()\n",
    "    if '(' in name:\n",
    "        name = clean_non_western_encoded_characters_commands(name)\n",
    "        suffix = re.findall(r\"\\((.*?)\\)\", name)[0]\n",
    "        name = name.replace(f\"({suffix})\", '')\n",
    "    else:\n",
    "        suffix = ''\n",
    "    split = name.split()\n",
    "    for token in split[:-1]:\n",
    "        if '-' in token:\n",
    "            current = '-'.join([k[0] + '.' for k in token.split('-')])\n",
    "        else:\n",
    "            current = token[0] + '.'\n",
    "        initials.append(current)\n",
    "    initials.append(split[-1].strip())\n",
    "    if suffix:\n",
    "        initials.append(f\"({suffix})\")\n",
    "    return ' '.join(initials)"
   ]
  },
  {
   "cell_type": "markdown",
   "id": "14bd6310",
   "metadata": {
    "papermill": {
     "duration": 0.002853,
     "end_time": "2025-07-08T04:21:39.587546",
     "exception": false,
     "start_time": "2025-07-08T04:21:39.584693",
     "status": "completed"
    },
    "tags": []
   },
   "source": [
    "## get list of arxiv paper candidates\n",
    "\n",
    "We use the MPIA mitarbeiter list webpage from mpia.de to get author names\n",
    "We then get all new papers from Arxiv and match authors"
   ]
  },
  {
   "cell_type": "code",
   "execution_count": 3,
   "id": "7ea813a8",
   "metadata": {
    "execution": {
     "iopub.execute_input": "2025-07-08T04:21:39.594411Z",
     "iopub.status.busy": "2025-07-08T04:21:39.593978Z",
     "iopub.status.idle": "2025-07-08T04:22:02.733049Z",
     "shell.execute_reply": "2025-07-08T04:22:02.732346Z"
    },
    "papermill": {
     "duration": 23.143834,
     "end_time": "2025-07-08T04:22:02.734294",
     "exception": false,
     "start_time": "2025-07-08T04:21:39.590460",
     "status": "completed"
    },
    "tags": []
   },
   "outputs": [],
   "source": [
    "# deal with the author list and edge cases of people that cannot be consistent on their name  \n",
    "\n",
    "def filter_non_scientists(name: str) -> bool:\n",
    "    \"\"\" Loose filter on expected authorships\n",
    "\n",
    "    removing IT, administration, technical staff\n",
    "    :param name: name\n",
    "    :returns: False if name is not a scientist\n",
    "    \"\"\"\n",
    "    remove_list = ['Licht', 'Binroth', 'Witzel', 'Jordan',\n",
    "                   'Zähringer', 'Scheerer', 'Hoffmann', 'Düe',\n",
    "                   'Hellmich', 'Enkler-Scharpegge', 'Witte-Nguy',\n",
    "                   'Dehen', 'Beckmann', 'Jager', 'Jäger'\n",
    "                  ]\n",
    "\n",
    "    for k in remove_list:\n",
    "        if k in name:\n",
    "            return False\n",
    "    return True\n",
    "\n",
    "def add_author_to_list(author_list: list) -> list:\n",
    "    \"\"\" Add author to list if not already in list\n",
    "    \n",
    "    :param author: author name\n",
    "    :param author_list: list of authors\n",
    "    :returns: updated list of authors\n",
    "    \"\"\"\n",
    "    add_list = ['T. Henning']\n",
    "\n",
    "    for author in add_list:\n",
    "        if author not in author_list:\n",
    "            author_list.append(author)\n",
    "    return author_list\n",
    "\n",
    "# get list from MPIA website\n",
    "# filter for non-scientists (mpia.get_mpia_mitarbeiter_list() does some filtering)\n",
    "mpia_authors = [k[1] for k in mpia.get_mpia_mitarbeiter_list() if filter_non_scientists(k[1])]\n",
    "# add some missing author because of inconsistencies in their MPIA name and author name on papers\n",
    "mpia_authors = add_author_to_list(mpia_authors)"
   ]
  },
  {
   "cell_type": "code",
   "execution_count": 4,
   "id": "2645e73a",
   "metadata": {
    "execution": {
     "iopub.execute_input": "2025-07-08T04:22:02.741920Z",
     "iopub.status.busy": "2025-07-08T04:22:02.741298Z",
     "iopub.status.idle": "2025-07-08T04:22:04.144195Z",
     "shell.execute_reply": "2025-07-08T04:22:04.143524Z"
    },
    "papermill": {
     "duration": 1.407574,
     "end_time": "2025-07-08T04:22:04.145202",
     "exception": false,
     "start_time": "2025-07-08T04:22:02.737628",
     "status": "completed"
    },
    "tags": []
   },
   "outputs": [
    {
     "name": "stdout",
     "output_type": "stream",
     "text": [
      "Wang  ->  N. Wang  |  ['Wang']\n",
      "J. Liu  ->  J. Liu  |  ['J. Liu']\n",
      "J. Li  ->  J. Li  |  ['J. Li']\n",
      "G. Chauvin  ->  G. Chauvin  |  ['G. Chauvin']\n",
      "M. Ravet  ->  M. Ravet  |  ['M. Ravet']\n",
      "D. Semenov  ->  D. Semenov  |  ['D. Semenov']\n",
      "T. Henning  ->  T. Henning  |  ['T. Henning']\n",
      "A. Kospal  ->  A. Kospal  |  ['A. Kospal']\n",
      "Y. Wang  ->  Y. Wang  |  ['Y. Wang']\n",
      "T. Kalda  ->  T. Kalda  |  ['T. Kalda']\n",
      "A. Hughes  ->  A. Hughes  |  ['A. Hughes']\n",
      "E. Schinnerer  ->  E. Schinnerer  |  ['E. Schinnerer']\n",
      "J. Shi  ->  J. Shi  |  ['J. Shi']\n"
     ]
    },
    {
     "name": "stdout",
     "output_type": "stream",
     "text": [
      "X. Zhang  ->  X. Zhang  |  ['X. Zhang']\n",
      "E. Schinnerer  ->  E. Schinnerer  |  ['E. Schinnerer']\n",
      "J. Neumann  ->  J. Neumann  |  ['J. Neumann']\n",
      "J. Liu  ->  J. Liu  |  ['J. Liu']\n",
      "Z. Fu  ->  Z. Fu  |  ['Z. Fu']\n",
      "J. Li  ->  J. Li  |  ['J. Li']\n",
      "J. Liu  ->  J. Liu  |  ['J. Liu']\n",
      "Y. Wang  ->  Y. Wang  |  ['Y. Wang']\n",
      "Y. Wang  ->  Y. Wang  |  ['Y. Wang']\n"
     ]
    },
    {
     "name": "stdout",
     "output_type": "stream",
     "text": [
      "A. Pillepich  ->  A. Pillepich  |  ['A. Pillepich']\n",
      "J. Braspenning  ->  J. Braspenning  |  ['J. Braspenning']\n",
      "Arxiv has 158 new papers today\n",
      "          14 with possible author matches\n"
     ]
    }
   ],
   "source": [
    "new_papers = get_new_papers()\n",
    "# add manual references\n",
    "add_paper_refs = []\n",
    "new_papers.extend([get_paper_from_identifier(k) for k in add_paper_refs])\n",
    "\n",
    "def robust_call(fn, value, *args, **kwargs):\n",
    "    try:\n",
    "        return fn(value, *args, **kwargs)\n",
    "    except Exception:\n",
    "        return value\n",
    "\n",
    "candidates = []\n",
    "for paperk in new_papers:\n",
    "    # Check author list with their initials\n",
    "    normed_author_list = [robust_call(mpia.get_initials, k) for k in paperk['authors']]\n",
    "    hl_authors = highlight_authors_in_list(normed_author_list, mpia_authors, verbose=True)\n",
    "    matches = [(hl, orig) for hl, orig in zip(hl_authors, paperk['authors']) if 'mark' in hl]\n",
    "    paperk['authors'] = hl_authors\n",
    "    if matches:\n",
    "        # only select paper if an author matched our list\n",
    "        candidates.append(paperk)\n",
    "print(\"\"\"Arxiv has {0:,d} new papers today\"\"\".format(len(new_papers)))        \n",
    "print(\"\"\"          {0:,d} with possible author matches\"\"\".format(len(candidates)))"
   ]
  },
  {
   "cell_type": "markdown",
   "id": "3543b34a",
   "metadata": {
    "papermill": {
     "duration": 0.003147,
     "end_time": "2025-07-08T04:22:04.152071",
     "exception": false,
     "start_time": "2025-07-08T04:22:04.148924",
     "status": "completed"
    },
    "tags": []
   },
   "source": [
    "# Parse sources and generate relevant outputs\n",
    "\n",
    "From the candidates, we do the following steps:\n",
    "* get their tarball from ArXiv (and extract data)\n",
    "* find the main .tex file: find one with \\documentclass{...} (sometimes it's non trivial)\n",
    "* Check affiliations with :func:`validation`, which uses :func:`mpia.affiliation_verifications`\n",
    "* If passing the affiliations: we parse the .tex source\n",
    "   * inject sub-documents into the main (flatten the main document)\n",
    "   * parse structure, extract information (title, abstract, authors, figures...)\n",
    "   * handles `\\graphicspath` if provided\n",
    "* Generate the .md document."
   ]
  },
  {
   "cell_type": "code",
   "execution_count": 5,
   "id": "9576b79e",
   "metadata": {
    "execution": {
     "iopub.execute_input": "2025-07-08T04:22:04.159458Z",
     "iopub.status.busy": "2025-07-08T04:22:04.159053Z",
     "iopub.status.idle": "2025-07-08T04:27:48.519298Z",
     "shell.execute_reply": "2025-07-08T04:27:48.518520Z"
    },
    "papermill": {
     "duration": 344.365319,
     "end_time": "2025-07-08T04:27:48.520538",
     "exception": false,
     "start_time": "2025-07-08T04:22:04.155219",
     "status": "completed"
    },
    "scrolled": false,
    "tags": []
   },
   "outputs": [
    {
     "data": {
      "application/vnd.jupyter.widget-view+json": {
       "model_id": "81930e78f4df47949de17071803264dc",
       "version_major": 2,
       "version_minor": 0
      },
      "text/plain": [
       "  0%|          | 0/14 [00:00<?, ?it/s]"
      ]
     },
     "metadata": {},
     "output_type": "display_data"
    },
    {
     "name": "stdout",
     "output_type": "stream",
     "text": [
      "Retrieving document from  https://arxiv.org/e-print/2507.03228\n"
     ]
    },
    {
     "name": "stdout",
     "output_type": "stream",
     "text": [
      "extracting tarball to tmp_2507.03228..."
     ]
    },
    {
     "name": "stdout",
     "output_type": "stream",
     "text": [
      " done.\n",
      "Retrieving document from  https://arxiv.org/e-print/2507.03247\n"
     ]
    },
    {
     "name": "stdout",
     "output_type": "stream",
     "text": [
      "extracting tarball to tmp_2507.03247... done.\n",
      "Retrieving document from  https://arxiv.org/e-print/2507.03412\n"
     ]
    },
    {
     "name": "stdout",
     "output_type": "stream",
     "text": [
      "extracting tarball to tmp_2507.03412..."
     ]
    },
    {
     "name": "stdout",
     "output_type": "stream",
     "text": [
      " done.\n",
      "Retrieving document from  https://arxiv.org/e-print/2507.03562\n"
     ]
    },
    {
     "name": "stdout",
     "output_type": "stream",
     "text": [
      "extracting tarball to tmp_2507.03562..."
     ]
    },
    {
     "name": "stdout",
     "output_type": "stream",
     "text": [
      " done.\n"
     ]
    },
    {
     "name": "stderr",
     "output_type": "stream",
     "text": [
      "/opt/hostedtoolcache/Python/3.9.23/x64/lib/python3.9/site-packages/arxiv_on_deck_2/latex.py:132: LatexWarning: attempting recovering figure figures/per_target/full_comp_CAHA_Tau_1_A.png\n",
      "  warnings.warn(LatexWarning(f'attempting recovering figure {image}'))\n",
      "/opt/hostedtoolcache/Python/3.9.23/x64/lib/python3.9/site-packages/arxiv_on_deck_2/latex.py:707: LatexWarning: Could not find graphic \\includegraphics[width=\\textwidth]{figures/per_target/full_comp_CAHA_Tau_1_A.png}\n",
      "  warnings.warn(LatexWarning(f\"Could not find graphic {k}\"))\n",
      "/opt/hostedtoolcache/Python/3.9.23/x64/lib/python3.9/site-packages/arxiv_on_deck_2/latex.py:132: LatexWarning: attempting recovering figure figures/per_target/radar_comp_CAHA_Tau_1_A.png\n",
      "  warnings.warn(LatexWarning(f'attempting recovering figure {image}'))\n",
      "/opt/hostedtoolcache/Python/3.9.23/x64/lib/python3.9/site-packages/arxiv_on_deck_2/latex.py:707: LatexWarning: Could not find graphic \\includegraphics[width=\\textwidth]{figures/per_target/radar_comp_CAHA_Tau_1_A.png}\n",
      "  warnings.warn(LatexWarning(f\"Could not find graphic {k}\"))\n",
      "/opt/hostedtoolcache/Python/3.9.23/x64/lib/python3.9/site-packages/arxiv_on_deck_2/latex.py:132: LatexWarning: attempting recovering figure figures/per_target/full_comp_KPNO_Tau_1_A.png\n",
      "  warnings.warn(LatexWarning(f'attempting recovering figure {image}'))\n",
      "/opt/hostedtoolcache/Python/3.9.23/x64/lib/python3.9/site-packages/arxiv_on_deck_2/latex.py:707: LatexWarning: Could not find graphic \\includegraphics[width=\\textwidth]{figures/per_target/full_comp_KPNO_Tau_1_A.png}\n",
      "  warnings.warn(LatexWarning(f\"Could not find graphic {k}\"))\n",
      "/opt/hostedtoolcache/Python/3.9.23/x64/lib/python3.9/site-packages/arxiv_on_deck_2/latex.py:132: LatexWarning: attempting recovering figure figures/per_target/radar_comp_KPNO_Tau_1_A.png\n",
      "  warnings.warn(LatexWarning(f'attempting recovering figure {image}'))\n",
      "/opt/hostedtoolcache/Python/3.9.23/x64/lib/python3.9/site-packages/arxiv_on_deck_2/latex.py:707: LatexWarning: Could not find graphic \\includegraphics[width=\\textwidth]{figures/per_target/radar_comp_KPNO_Tau_1_A.png}\n",
      "  warnings.warn(LatexWarning(f\"Could not find graphic {k}\"))\n",
      "/opt/hostedtoolcache/Python/3.9.23/x64/lib/python3.9/site-packages/arxiv_on_deck_2/latex.py:132: LatexWarning: attempting recovering figure figures/per_target/full_comp_KPNO_Tau_4_A.png\n",
      "  warnings.warn(LatexWarning(f'attempting recovering figure {image}'))\n",
      "/opt/hostedtoolcache/Python/3.9.23/x64/lib/python3.9/site-packages/arxiv_on_deck_2/latex.py:707: LatexWarning: Could not find graphic \\includegraphics[width=\\textwidth]{figures/per_target/full_comp_KPNO_Tau_4_A.png}\n",
      "  warnings.warn(LatexWarning(f\"Could not find graphic {k}\"))\n",
      "/opt/hostedtoolcache/Python/3.9.23/x64/lib/python3.9/site-packages/arxiv_on_deck_2/latex.py:132: LatexWarning: attempting recovering figure figures/per_target/radar_comp_KPNO_Tau_4_A.png\n",
      "  warnings.warn(LatexWarning(f'attempting recovering figure {image}'))\n",
      "/opt/hostedtoolcache/Python/3.9.23/x64/lib/python3.9/site-packages/arxiv_on_deck_2/latex.py:707: LatexWarning: Could not find graphic \\includegraphics[width=\\textwidth]{figures/per_target/radar_comp_KPNO_Tau_4_A.png}\n",
      "  warnings.warn(LatexWarning(f\"Could not find graphic {k}\"))\n",
      "/opt/hostedtoolcache/Python/3.9.23/x64/lib/python3.9/site-packages/arxiv_on_deck_2/latex.py:132: LatexWarning: attempting recovering figure figures/per_target/full_comp_KPNO_Tau_6_A.png\n",
      "  warnings.warn(LatexWarning(f'attempting recovering figure {image}'))\n",
      "/opt/hostedtoolcache/Python/3.9.23/x64/lib/python3.9/site-packages/arxiv_on_deck_2/latex.py:707: LatexWarning: Could not find graphic \\includegraphics[width=\\textwidth]{figures/per_target/full_comp_KPNO_Tau_6_A.png}\n",
      "  warnings.warn(LatexWarning(f\"Could not find graphic {k}\"))\n",
      "/opt/hostedtoolcache/Python/3.9.23/x64/lib/python3.9/site-packages/arxiv_on_deck_2/latex.py:132: LatexWarning: attempting recovering figure figures/per_target/radar_comp_KPNO_Tau_6_A.png\n",
      "  warnings.warn(LatexWarning(f'attempting recovering figure {image}'))\n",
      "/opt/hostedtoolcache/Python/3.9.23/x64/lib/python3.9/site-packages/arxiv_on_deck_2/latex.py:707: LatexWarning: Could not find graphic \\includegraphics[width=\\textwidth]{figures/per_target/radar_comp_KPNO_Tau_6_A.png}\n",
      "  warnings.warn(LatexWarning(f\"Could not find graphic {k}\"))\n"
     ]
    },
    {
     "name": "stdout",
     "output_type": "stream",
     "text": [
      "Found 131 bibliographic references in tmp_2507.03562/aa54894-25.bbl.\n",
      "Retrieving document from  https://arxiv.org/e-print/2507.03716\n"
     ]
    },
    {
     "name": "stdout",
     "output_type": "stream",
     "text": [
      "extracting tarball to tmp_2507.03716..."
     ]
    },
    {
     "name": "stdout",
     "output_type": "stream",
     "text": [
      " done.\n"
     ]
    },
    {
     "name": "stdout",
     "output_type": "stream",
     "text": [
      "D. Semenov  ->  D. Semenov  |  ['D. Semenov']\n",
      "T. Henning  ->  T. Henning  |  ['T. Henning']\n",
      "A. Kospal  ->  A. Kospal  |  ['A. Kospal']\n"
     ]
    },
    {
     "name": "stdout",
     "output_type": "stream",
     "text": [
      "Found 39 bibliographic references in tmp_2507.03716/aa54853-25.bbl.\n",
      "Retrieving document from  https://arxiv.org/e-print/2507.03740\n",
      "extracting tarball to tmp_2507.03740..."
     ]
    },
    {
     "name": "stdout",
     "output_type": "stream",
     "text": [
      " done.\n",
      "Retrieving document from  https://arxiv.org/e-print/2507.03742\n"
     ]
    },
    {
     "name": "stdout",
     "output_type": "stream",
     "text": [
      "extracting tarball to tmp_2507.03742..."
     ]
    },
    {
     "name": "stdout",
     "output_type": "stream",
     "text": [
      " done.\n"
     ]
    },
    {
     "name": "stdout",
     "output_type": "stream",
     "text": [
      "T. Kalda  ->  T. Kalda  |  ['T. Kalda']\n"
     ]
    },
    {
     "name": "stdout",
     "output_type": "stream",
     "text": [
      "Found 110 bibliographic references in tmp_2507.03742/main.bbl.\n",
      "Retrieving document from  https://arxiv.org/e-print/2507.03744\n"
     ]
    },
    {
     "name": "stdout",
     "output_type": "stream",
     "text": [
      "extracting tarball to tmp_2507.03744..."
     ]
    },
    {
     "name": "stdout",
     "output_type": "stream",
     "text": [
      " done.\n"
     ]
    },
    {
     "name": "stderr",
     "output_type": "stream",
     "text": [
      "/opt/hostedtoolcache/Python/3.9.23/x64/lib/python3.9/site-packages/IPython/core/interactiveshell.py:3550: LatexWarning: Multiple tex files.\n",
      "\n",
      "  exec(code_obj, self.user_global_ns, self.user_ns)\n",
      "/opt/hostedtoolcache/Python/3.9.23/x64/lib/python3.9/site-packages/IPython/core/interactiveshell.py:3550: LatexWarning: Found documentclass in tmp_2507.03744/NGC253_dendrograms.tex\n",
      "\n",
      "  exec(code_obj, self.user_global_ns, self.user_ns)\n",
      "/opt/hostedtoolcache/Python/3.9.23/x64/lib/python3.9/site-packages/arxiv_on_deck_2/latex.py:414: LatexWarning: Latex injecting: 'authors' from 'tmp_2507.03744/authors.tex'\n",
      "  warnings.warn(LatexWarning(f\"Latex injecting: '{ext}' from '{subsource}'\"))\n"
     ]
    },
    {
     "name": "stdout",
     "output_type": "stream",
     "text": [
      "A. Hughes  ->  A. Hughes  |  ['A. Hughes']\n",
      "E. Schinnerer  ->  E. Schinnerer  |  ['E. Schinnerer']\n"
     ]
    },
    {
     "name": "stdout",
     "output_type": "stream",
     "text": [
      "Found 166 bibliographic references in tmp_2507.03744/NGC253_dendrograms.bbl.\n",
      "Retrieving document from  https://arxiv.org/e-print/2507.03850\n"
     ]
    },
    {
     "name": "stdout",
     "output_type": "stream",
     "text": [
      "extracting tarball to tmp_2507.03850..."
     ]
    },
    {
     "name": "stdout",
     "output_type": "stream",
     "text": [
      " done.\n",
      "Retrieving document from  https://arxiv.org/e-print/2507.04320\n"
     ]
    },
    {
     "name": "stdout",
     "output_type": "stream",
     "text": [
      "extracting tarball to tmp_2507.04320..."
     ]
    },
    {
     "name": "stdout",
     "output_type": "stream",
     "text": [
      " done.\n",
      "Retrieving document from  https://arxiv.org/e-print/2507.04530\n"
     ]
    },
    {
     "name": "stdout",
     "output_type": "stream",
     "text": [
      "extracting tarball to tmp_2507.04530..."
     ]
    },
    {
     "name": "stdout",
     "output_type": "stream",
     "text": [
      " done.\n"
     ]
    },
    {
     "name": "stdout",
     "output_type": "stream",
     "text": [
      "Found 51 bibliographic references in tmp_2507.04530/main.bbl.\n",
      "Retrieving document from  https://arxiv.org/e-print/2507.04618\n"
     ]
    },
    {
     "name": "stdout",
     "output_type": "stream",
     "text": [
      "extracting tarball to tmp_2507.04618..."
     ]
    },
    {
     "name": "stdout",
     "output_type": "stream",
     "text": [
      " done.\n",
      "Retrieving document from  https://arxiv.org/e-print/2507.04834\n"
     ]
    },
    {
     "name": "stdout",
     "output_type": "stream",
     "text": [
      "extracting tarball to tmp_2507.04834..."
     ]
    },
    {
     "name": "stdout",
     "output_type": "stream",
     "text": [
      " done.\n",
      "Retrieving document from  https://arxiv.org/e-print/2507.05176\n"
     ]
    },
    {
     "name": "stdout",
     "output_type": "stream",
     "text": [
      "extracting tarball to tmp_2507.05176..."
     ]
    },
    {
     "name": "stdout",
     "output_type": "stream",
     "text": [
      " done.\n"
     ]
    },
    {
     "name": "stdout",
     "output_type": "stream",
     "text": [
      "Found 175 bibliographic references in tmp_2507.05176/MPQ-gas-properties.bbl.\n"
     ]
    }
   ],
   "source": [
    "documents = []\n",
    "failed = []\n",
    "for paper in tqdm(candidates):\n",
    "    # debug crap\n",
    "    paper['identifier'] = paper['identifier'].lower().replace('arxiv:', '').replace(r'\\n', '').strip()\n",
    "    paper_id = paper['identifier']\n",
    "    \n",
    "    folder = f'tmp_{paper_id}'\n",
    "\n",
    "    try:\n",
    "        if not os.path.isdir(folder):\n",
    "            folder = retrieve_document_source(f\"{paper_id}\", f'tmp_{paper_id}')\n",
    "        \n",
    "        try:\n",
    "            doc = latex.LatexDocument(folder, validation=validation)    \n",
    "        except AffiliationError as affilerror:\n",
    "            msg = f\"ArXiv:{paper_id:s} is not an MPIA paper... \" + str(affilerror)\n",
    "            failed.append((paper, \"affiliation error: \" + str(affilerror) ))\n",
    "            continue\n",
    "        \n",
    "        # Hack because sometimes author parsing does not work well\n",
    "        if (len(doc.authors) != len(paper['authors'])):\n",
    "            doc._authors = paper['authors']\n",
    "        else:\n",
    "            # highlight authors (FIXME: doc.highlight_authors)\n",
    "            # done on arxiv paper already\n",
    "            doc._authors = highlight_authors_in_list(\n",
    "                [get_initials(k) for k in doc.authors], \n",
    "                mpia_authors, verbose=True)\n",
    "        if (doc.abstract) in (None, ''):\n",
    "            doc._abstract = paper['abstract']\n",
    "            \n",
    "        doc.comment = (get_markdown_badge(paper_id) + \n",
    "                       \"<mark>Appeared on: \" + paper['date'] + \"</mark> - \")\n",
    "        if paper['comments']:\n",
    "            doc.comment += \" _\" + paper['comments'] + \"_\"\n",
    "        \n",
    "        full_md = doc.generate_markdown_text()\n",
    "        \n",
    "        full_md += get_markdown_qrcode(paper_id)\n",
    "        \n",
    "        # replace citations\n",
    "        try:\n",
    "            bibdata = latex_bib.LatexBib.from_doc(doc)\n",
    "            full_md = latex_bib.replace_citations(full_md, bibdata)\n",
    "        except Exception as e:\n",
    "            print(\"Issues with the citations\")\n",
    "            print(e)\n",
    "        \n",
    "        documents.append((paper_id, full_md))\n",
    "    except Exception as e:\n",
    "        warnings.warn(latex.LatexWarning(f\"{paper_id:s} did not run properly\\n\" +\n",
    "                                         str(e)\n",
    "                                        ))\n",
    "        failed.append((paper, \"latex error \" + str(e)))"
   ]
  },
  {
   "cell_type": "markdown",
   "id": "2505a25c",
   "metadata": {
    "papermill": {
     "duration": 0.005384,
     "end_time": "2025-07-08T04:27:48.531221",
     "exception": false,
     "start_time": "2025-07-08T04:27:48.525837",
     "status": "completed"
    },
    "tags": []
   },
   "source": [
    "### Export the logs\n",
    "\n",
    "Throughout, we also keep track of the logs per paper. see `logs-{today date}.md` "
   ]
  },
  {
   "cell_type": "code",
   "execution_count": 6,
   "id": "d733828a",
   "metadata": {
    "execution": {
     "iopub.execute_input": "2025-07-08T04:27:48.542241Z",
     "iopub.status.busy": "2025-07-08T04:27:48.541731Z",
     "iopub.status.idle": "2025-07-08T04:27:48.567669Z",
     "shell.execute_reply": "2025-07-08T04:27:48.567032Z"
    },
    "papermill": {
     "duration": 0.032523,
     "end_time": "2025-07-08T04:27:48.568651",
     "exception": false,
     "start_time": "2025-07-08T04:27:48.536128",
     "status": "completed"
    },
    "scrolled": false,
    "tags": []
   },
   "outputs": [
    {
     "data": {
      "text/markdown": [
       "## Successful papers"
      ],
      "text/plain": [
       "<IPython.core.display.Markdown object>"
      ]
     },
     "metadata": {},
     "output_type": "display_data"
    },
    {
     "data": {
      "text/markdown": [
       "\n",
       "|||\n",
       "|---:|:---|\n",
       "| [![arXiv](https://img.shields.io/badge/arXiv-2507.03562-b31b1b.svg)](https://arxiv.org/abs/2507.03562) | **The planetary-mass-limit VLT/SINFONI library: Spectral extraction and atmospheric characterization via forward modeling**  |\n",
       "|| P. Palma-Bifani, et al. -- incl., <mark>G. Chauvin</mark>, <mark>M. Ravet</mark> |\n",
       "|*Appeared on*| *2025-07-08*|\n",
       "|*Comments*| *Acceptance date in A&A: 25/06/2025*|\n",
       "|**Abstract**|            We aim to deepen our understanding of the M-L transition on planetary-mass companions and isolated brown dwarfs, and search for evidence of possible differences between these two populations of objects. To this end, we present a set of 21 VLT/SINFONI K-band observations from five archival programs at a spectral resolution of 4000. We aim to measure atmospheric properties, such as temperature, surface gravity, and metallicity, to understand the similarities and differences between objects ranging from M5 to L5 in spectral type. We extracted the spectra of these targets with the TExTRIS code. Subsequently, we model them using ForMoSA, a Bayesian forward modeling tool for spectral analysis, exploring four families of self-consistent atmospheric models: ATMO, BT-Settl, Exo-REM, and Sonora. Here we present the spectra of our targets and the derived parameters from the atmospheric modeling. We observed a drop in effective temperature of more than 500 K as a function of spectral type at the M/L transition, likely related to limitations in the current atmospheric models. In addition, we report carbon-to-oxygen ratio measurements for three companions (2M 0103 AB b, AB Pic b, and CD-35 2722 b), which contribute to the growing list of exoplanets for which this value has been measured. In conclusion, the VLT/SINFONI Library highlights two key points. First, there is a critical need to further investigate the discrepancies among grids of spectra generated by self-consistent models, as these models yield varying results and do not uniformly explore the parameter space. Second, we do not observe apparent discrepancies in the K-band spectra between companions and isolated brown dwarfs, which potentially suggests that these super-Jupiter objects formed through a similar process; however, this warrants further investigation.         |"
      ],
      "text/plain": [
       "[2507.03562] The planetary-mass-limit VLT/SINFONI library: Spectral extraction and atmospheric characterization via forward modeling\n",
       "\tP. Palma-Bifani, et al. -- incl., <mark>G. Chauvin</mark>, <mark>M. Ravet</mark>"
      ]
     },
     "metadata": {},
     "output_type": "display_data"
    },
    {
     "data": {
      "text/markdown": [
       "\n",
       "|||\n",
       "|---:|:---|\n",
       "| [![arXiv](https://img.shields.io/badge/arXiv-2507.03716-b31b1b.svg)](https://arxiv.org/abs/2507.03716) | **Edge-On Disk Study (EODS) II: Thermal Structure of the Flying Saucer Disk**  |\n",
       "|| S. Guilloteau, et al. -- incl., <mark>D. Semenov</mark>, <mark>T. Henning</mark>, <mark>A. Kospal</mark> |\n",
       "|*Appeared on*| *2025-07-08*|\n",
       "|*Comments*| *10 pages, 9 figures, to be published in Astronomy & Astrophysics*|\n",
       "|**Abstract**|            Context. The dust and gas temperature in proto-planetary disks play critical roles in determining their chemical evolution and influencing planet formation processes. Aims. We attempted an accurate measurement of the dust and CO temperature profile in the edge-on disk of the Flying Saucer. Methods. We used the unique properties of the Flying Saucer, its edge-on geometry and its fortunate position in front of CO clouds with different brightness temperatures to provide independent constraints on the dust temperature. We compared it with the dust temperature derived using the radiative transfer code DiskFit and the CO gas temperature. Results. We find clear evidence for a substantial gas temperature vertical gradient, with a cold (10 K) disk mid-plane and a warmer CO layer where T(r) is 27 K at 100 au, dropping with exponent 0.3. Direct evidence for CO depletion in the mid-plane, below about 1 scale height, is also found. At this height, the gas temperature is 15-20 K, consistent with the expected CO freeze out temperature. The dust disk appears optically thin at 345 GHz, and exhibits moderate settling.         |"
      ],
      "text/plain": [
       "[2507.03716] Edge-On Disk Study (EODS) II: Thermal Structure of the Flying Saucer Disk\n",
       "\tS. Guilloteau, et al. -- incl., <mark>D. Semenov</mark>, <mark>T. Henning</mark>, <mark>A. Kospal</mark>"
      ]
     },
     "metadata": {},
     "output_type": "display_data"
    },
    {
     "data": {
      "text/markdown": [
       "\n",
       "|||\n",
       "|---:|:---|\n",
       "| [![arXiv](https://img.shields.io/badge/arXiv-2507.03742-b31b1b.svg)](https://arxiv.org/abs/2507.03742) | **Deep Potential: Recovering the gravitational potential and local pattern speed in the solar neighborhood with GDR3 using normalizing flows**  |\n",
       "|| <mark>T. Kalda</mark>, G. M. Green |\n",
       "|*Appeared on*| *2025-07-08*|\n",
       "|*Comments*| *24 pages, 13 figures*|\n",
       "|**Abstract**|            The gravitational potential of the Milky Way encodes information about the distribution of all matter -- including dark matter -- throughout the Galaxy. Gaia data release 3 has revealed a complex structure that necessitates flexible models of the Galactic gravitational potential. We make use of a sample of 5.6 million upper-main-sequence stars to map the full 3D gravitational potential in a one-kiloparsec radius from the Sun using a data-driven approach called ``Deep Potential''. This method makes minimal assumptions about the dynamics of the Galaxy -- that the stars are a collisionless system that is statistically stationary in a rotating frame (with pattern speed to be determined). We model the distribution of stars in 6D phase space using a normalizing flow and the gravitational network using a neural network. We recover a local pattern speed of $\\Omega_p = 28.2\\pm0.1\\mathrm{\\,km/s/kpc}$, a local total matter density of $\\rho=0.086\\pm0.010\\mathrm{\\,M_\\odot/pc^3}$ and local dark matter density of $\\rho_\\mathrm{DM}=0.007\\pm0.011\\mathrm{\\,M_\\odot/pc^3}$. The full 3D model exhibits spatial fluctuations, which may stem from the model architecture and non-stationarity in the Milky Way.         |"
      ],
      "text/plain": [
       "[2507.03742] Deep Potential: Recovering the gravitational potential and local pattern speed in the solar neighborhood with GDR3 using normalizing flows\n",
       "\t<mark>T. Kalda</mark>, G. M. Green"
      ]
     },
     "metadata": {},
     "output_type": "display_data"
    },
    {
     "data": {
      "text/markdown": [
       "\n",
       "|||\n",
       "|---:|:---|\n",
       "| [![arXiv](https://img.shields.io/badge/arXiv-2507.03744-b31b1b.svg)](https://arxiv.org/abs/2507.03744) | **Assessing the hierarchical dynamical state of molecular gas: virial parameters from 3 to 300 pc in NGC 253**  |\n",
       "|| E. K. Oakes, et al. -- incl., <mark>A. Hughes</mark>, <mark>E. Schinnerer</mark> |\n",
       "|*Appeared on*| *2025-07-08*|\n",
       "|*Comments*| *31 pages, 16 figures, submitted to ApJ*|\n",
       "|**Abstract**|            Understanding how the dynamical state of the interstellar medium (ISM) changes across spatial scales can provide important insights into how the gas is organized and ultimately collapses to form stars. To this end, we present ALMA $^{12}\\mathrm{CO}(2-1)$ observations at $7$ pc ($0.4''$) spatial resolution across a $1.4~\\mathrm{kpc}\\times5.6~\\mathrm{kpc}$ ($1'.3\\times1'.3$) region located in the disk of the nearby ($D = 3.5$ Mpc), massive, star-forming galaxy NGC 253. We decompose this emission with a hierarchical, multiscale dendrogram algorithm to identify 2463 structures with deconvolved sizes ranging from $\\sim3$ to $300$ pc, complete to a limiting mass of $10^4~\\mathrm{M_\\odot}$. By comparing the virial parameter of these structures against physical properties including size, mass, surface density, velocity dispersion, and hierarchical position, we carry out a comprehensive search for a preferred scale at which gravitationally bound structures emerge. Ultimately, we do not identify any emergent scale for bound objects in our data, nor do we find a correlation between the virial parameter and structure sizes. These findings suggest that gravitational binding cannot be used to define molecular clouds and emphasize the need for multiscale approaches to characterize the ISM.         |"
      ],
      "text/plain": [
       "[2507.03744] Assessing the hierarchical dynamical state of molecular gas: virial parameters from 3 to 300 pc in NGC 253\n",
       "\tE. K. Oakes, et al. -- incl., <mark>A. Hughes</mark>, <mark>E. Schinnerer</mark>"
      ]
     },
     "metadata": {},
     "output_type": "display_data"
    },
    {
     "data": {
      "text/markdown": [
       "\n",
       "|||\n",
       "|---:|:---|\n",
       "| [![arXiv](https://img.shields.io/badge/arXiv-2507.04530-b31b1b.svg)](https://arxiv.org/abs/2507.04530) | **Extreme cloud collisions in nearby barred galaxies**  |\n",
       "|| T. Kolcu, et al. -- incl., <mark>E. Schinnerer</mark>, <mark>J. Neumann</mark> |\n",
       "|*Appeared on*| *2025-07-08*|\n",
       "|*Comments*| *12 pages, 7 figures, accepted for publication in MNRAS*|\n",
       "|**Abstract**|            The inner regions of the Milky Way are known to contain an enigmatic population of prominent molecular clouds characterised by extremely broad lines. The physical origin of these ''extended velocity features'' (EVFs) is still debated, although a connection with the ''dust lanes'' of the Galactic bar has been hypothesised. In this paper, we search for analogous features in the dust lanes of nearby barred galaxies using the PHANGS-ALMA CO(2-1) survey. We aim to confirm existence of EVFs in other galaxies and to take advantage of the external perspective to gain insight into their origin. We study a sample of 29 barred galaxies and find that 34% contain one or more EVFs, while the remaining lack obvious signs of EVFs. Upon analysing the physical properties of the EVFs, we find they possess large virial parameters, ranging from few hundreds to several thousand, indicating that they are strongly out-of-equilibrium. The most likely explanation for their origin is extreme cloud-cloud collisions with relative velocities in excess of 100km/s in highly non-circular flow driven by the bar. This interpretation is consistent with previous high-resolution observations in Milky Way. Further corroboration of this interpretation comes from the inspection of high-sensitivity infrared observations from the PHANGS-JWST Treasury Survey that reveals streams of gas that appear to be hitting the dust lanes at locations where EVFs are found. We argue that EVFs are the clearest examples of cloud-cloud collisions available in literature and represent a unique opportunity to study cloud collisions and their impact on star formation.         |"
      ],
      "text/plain": [
       "[2507.04530] Extreme cloud collisions in nearby barred galaxies\n",
       "\tT. Kolcu, et al. -- incl., <mark>E. Schinnerer</mark>, <mark>J. Neumann</mark>"
      ]
     },
     "metadata": {},
     "output_type": "display_data"
    },
    {
     "data": {
      "text/markdown": [
       "\n",
       "|||\n",
       "|---:|:---|\n",
       "| [![arXiv](https://img.shields.io/badge/arXiv-2507.05176-b31b1b.svg)](https://arxiv.org/abs/2507.05176) | **Mass Proxy Quality of Massive Halo Properties in the IllustrisTNG and FLAMINGO Simulations: I. Hot Gas**  |\n",
       "|| E. Aljamal, et al. -- incl., <mark>A. Pillepich</mark>, <mark>J. Braspenning</mark> |\n",
       "|*Appeared on*| *2025-07-08*|\n",
       "|*Comments*| *23 pages, 14 figures*|\n",
       "|**Abstract**|            We examine scale and redshift dependence of mass-property relations (MPRs) for five hot gas properties of two large group- and cluster-scale halo samples realized by the IllustrisTNG, TNG-Cluster and FLAMINGO cosmological hydrodynamical simulations. For intrinsic properties of i) hot gas mass ($M_{\\rm gas}$), ii) spectroscopic-like temperature ($T_{\\rm sl}$), iii) soft-band X-ray luminosity ($L_{\\rm X}$), and iv) X-ray ($Y_{\\rm X}$) and v) Sunyaev-Zel'dovich ($Y_{\\rm SZ}$) thermal energies, we use MPR parameters to infer mass proxy quality (MPQ) -- the implied scatter in total halo mass conditioned on a property -- for halos with $M_{\\rm 500c} \\geq 10^{13}{\\, {\\rm M}_\\odot}$ at redshifts, $z \\in \\{0, 0.5, 1, 2\\}$. We find: (1) in general, scaling relation slopes and covariance display moderate to strong dependence on halo mass, with redshift dependence secondary, (2) for halos with $M_{\\rm 500c} > 10^{14}{\\, {\\rm M}_\\odot}$, scalings of $M_{\\rm gas}$ and $Y_{\\rm SZ}$ simplify toward self-similar slope and constant intrinsic scatter (5 and 10%, respectively) nearly independent of scale, making both measures ideal for cluster finding and characterization to $z=2$, (3) halo mass-conditioned likelihoods of hot gas mass and thermal energy at fixed halo mass closely follow a log-normal form, (4) despite normalization differences ranging up to $0.4$ dex, there is good qualitative, and often quantitative, agreement between the scale-dependent slopes and property covariance of the two simulations. Slopes show appreciable redshift dependence at the group scale, while redshift dependence of the scatter is exhibited by low mass FLAMINGO halos only, (5) property correlations are largely consistent between the simulations, with values that mainly agree with existing empirical measurements. We close with a literature survey placing our MPR slopes and intrinsic scatter estimates into context.         |"
      ],
      "text/plain": [
       "[2507.05176] Mass Proxy Quality of Massive Halo Properties in the IllustrisTNG and FLAMINGO Simulations: I. Hot Gas\n",
       "\tE. Aljamal, et al. -- incl., <mark>A. Pillepich</mark>, <mark>J. Braspenning</mark>"
      ]
     },
     "metadata": {},
     "output_type": "display_data"
    },
    {
     "data": {
      "text/markdown": [
       "## Failed papers"
      ],
      "text/plain": [
       "<IPython.core.display.Markdown object>"
      ]
     },
     "metadata": {},
     "output_type": "display_data"
    },
    {
     "data": {
      "text/markdown": [
       "\n",
       "|||\n",
       "|---:|:---|\n",
       "| [![arXiv](https://img.shields.io/badge/arXiv-2507.04834-b31b1b.svg)](https://arxiv.org/abs/2507.04834) | **Insights from the \"Red devil\" AT 2022fpx: A dust-reddened TDE family excluded by their apparent red color?**  |\n",
       "|| Z. Lin, et al. -- incl., <mark>Y. Wang</mark> |\n",
       "|*Appeared on*| *2025-07-08*|\n",
       "|*Comments*| *22 pages, 10 figures, 3 tables, accepted by ApJ*|\n",
       "|**Abstract**|            We report unnoticed but intriguing features in the peculiar nuclear transient AT 2022fpx, and investigate its type. These features include the constantly red optical color of $g-r>0$, stable soft X-ray flare ($kT\\sim100$ eV) in the past $\\sim$550 days, prominent mid-infrared echo peaked at $\\sim$$10^{43.3}$ erg s$^{-1}$ and the confirmation of a weak AGN by weak flares in pre-event WISE mid-infrared light curves with no contemporary optical, radio or X-ray counterparts. The combination of the optical red color and possible TDE origin of AT 2022fpx is particularly attractive, as it challenges the most widely accepted and adopted \"blue color\" criterion for optical TDE selection. Although we still cannot confirm whether the red color is intrinsic, we however find that the \"blue color\" criterion can filter out normal TDEs whose optical-UV spectral energy distributions (SEDs) are either severely contaminated by prominent emission lines (especially H$\\alpha$) or heavily dust-reddened. Hence, its potential selection effect may have been imprinted on the whole optical TDE family. Blackbody fitting on the optical (rest-frame $\\sim$$4000-7000$ Å) and optical-UV ($\\sim$$2000-7000$ Å) SEDs of four TDEs with high-cadence UV observations shows that $T_\\mathrm{bb}$ rise by $\\sim$40$-$110 % when the UV bands are included. The power-law models ($f_{\\lambda}\\propto\\lambda^{-\\alpha}$ with $\\alpha=2-3$) can fit the rest-frame $\\sim$$2000-7000$ Å SEDs more consistently, indicating that SEDs should peak at shorter wavelengths, but not simple blackbodies. Hence, the estimated released energy for the optical-UV bright but X-ray faint TDEs based on blackbody SED fitting should be significantly lower than the intrinsic energy.         |\n",
       "|<p style=\"color:green\"> **ERROR** </p>| <p style=\"color:green\">affiliation error: mpia.affiliation_verifications: '69117' keyword not found.</p> |"
      ],
      "text/plain": [
       "<IPython.core.display.Markdown object>"
      ]
     },
     "metadata": {},
     "output_type": "display_data"
    },
    {
     "data": {
      "text/markdown": [
       "\n",
       "|||\n",
       "|---:|:---|\n",
       "| [![arXiv](https://img.shields.io/badge/arXiv-2507.03228-b31b1b.svg)](https://arxiv.org/abs/2507.03228) | **Crowded Field Photometry with Rubin: Exploring 47 Tucanae with Data Preview 1**  |\n",
       "|| T. M. Wainer, et al. -- incl., <mark>Wang</mark> |\n",
       "|*Appeared on*| *2025-07-08*|\n",
       "|*Comments*| *4 pages, 1 Figure, Submitted to AAS Journals*|\n",
       "|**Abstract**|            We analyze imaging from Data Preview 1 of the Vera C. Rubin Observatory to explore the performance of early LSST pipelines in the 47 Tucanae field. The coadd-\\texttt{object} catalog demonstrates the depth and precision possible with Rubin, recovering well-defined color magnitude diagrams for 47 Tuc Small Magellanic Cloud. Unfortunately, the existing pipelines fail to recover sources within $\\sim$28 pc of the cluster center, due to the extreme source density. Using Rubin's forced photometry on stars identified via Difference Imaging, we can recover sources down to $\\sim$14 pc from the cluster center, and find 14744 potential cluster members with this extended dataset. While this forced photometry has significant systematics, our analysis showcases the potential for detailed structural studies of crowded fields with the Rubin Observatory.         |\n",
       "|<p style=\"color:green\"> **ERROR** </p>| <p style=\"color:green\">affiliation error: mpia.affiliation_verifications: 'Heidelberg' keyword not found.</p> |"
      ],
      "text/plain": [
       "<IPython.core.display.Markdown object>"
      ]
     },
     "metadata": {},
     "output_type": "display_data"
    },
    {
     "data": {
      "text/markdown": [
       "\n",
       "|||\n",
       "|---:|:---|\n",
       "| [![arXiv](https://img.shields.io/badge/arXiv-2507.03247-b31b1b.svg)](https://arxiv.org/abs/2507.03247) | **Optical and Near-Infrared Spectroscopy of the Outbursting Comet 12P/Pons-Brooks**  |\n",
       "|| R. Zhao, et al. -- incl., <mark>J. Liu</mark> |\n",
       "|*Appeared on*| *2025-07-08*|\n",
       "|*Comments*| *18 pages, 4 figures, 1 table, accepted for publication in ApJ*|\n",
       "|**Abstract**|            We present optical and near-infrared (NIR) observations of the outbursting, Halley-type comet 12P/Pons-Brooks. Three NIR spectra were obtained during two outbursts in October and November 2023, with the 3-meter Infrared Telescope Facility and the Palomar 200-inch Telescope, respectively. The NIR spectra exhibited absorption features at 1.5 and 2.0 $\\mu$m, consistent with the diagnostic absorption bands of water ice, superimposed on a red dust-scattering continuum. We find that the absorption bands and the red continuum can be well explained by micrometer-sized crystalline ice at 140--170 K, along with sub-micrometer-sized refractory grains (e.g., amorphous carbon). In addition, an optical spectrum was obtained with the Lijiang 2.4-meter Telescope during the November 2023 outburst, which exhibited the emission bands of gaseous CN, C$_3$, C$_2$ and NH$_2$. The C$_3$/CN and C$_2$/CN ratios suggest that 12P/Pons-Brooks was ''typical'' in C$_3$ abundance but somewhat depleted in C$_2$. The specific kinetic energy of the 2023 November outburst is estimated to be $\\sim8\\times10^3$ J kg$^{-1}$, suggesting a likely triggering mechanism similar to 332P/Ikeya--Murakami and 17P/Holmes, i.e., the crystallization of amorphous water ice. A refractory-to-ice ratio of $\\sim$1.7--3.2 is derived from the total mass loss of dust and gas, aligning with the lower-end estimates for 67P/Churyumov-Gerasimenko and 1P/Halley. This suggests either a less evolved nucleus or an outburst region enriched in icy materials relative to the bulk nucleus.         |\n",
       "|<p style=\"color:green\"> **ERROR** </p>| <p style=\"color:green\">affiliation error: mpia.affiliation_verifications: 'Heidelberg' keyword not found.</p> |"
      ],
      "text/plain": [
       "<IPython.core.display.Markdown object>"
      ]
     },
     "metadata": {},
     "output_type": "display_data"
    },
    {
     "data": {
      "text/markdown": [
       "\n",
       "|||\n",
       "|---:|:---|\n",
       "| [![arXiv](https://img.shields.io/badge/arXiv-2507.03412-b31b1b.svg)](https://arxiv.org/abs/2507.03412) | **SKYSURF IX -- The Cosmic Optical and Infrared Background from Integrated Galaxy Light Measurements**  |\n",
       "|| S. A. Tompkins, et al. -- incl., <mark>J. Li</mark> |\n",
       "|*Appeared on*| *2025-07-08*|\n",
       "|*Comments*| *34 pages*|\n",
       "|**Abstract**|            As part of the SKYSURF Hubble Space Telescope (HST) Legacy Archival program we present galaxy number counts which yield measurements of the extragalactic background light (EBL) at 15 different wavelengths. We have processed 82,752 HST images across 23 filters into 16,686 mosaics using the same software and processing pipeline throughout. Using 17/23 filters that give reliable galaxy counts, we constrain the integrated galaxy light (IGL) with a 1.5-9\\% error between 0.3 and 1.6 $\\mu$m in combination with 8 bands from WAVES (Wide Area VISTA Extragalactic Survey) and DEVILS (Deep Extragalactic Visible Legacy Survey). While HST was never intended to undertake large area surveys, through extensive quality control and filtering, we were able to extract a reliable and representative sample of fields distributed across the sky. Our final catalogs cover a combined $\\approx 19.6 °^2$, with individual filters covering areas ranging from $\\approx 0.16-7.0 °^2$. The combination of numerous independent sight-lines and area coverage allows us to reduce cosmic variance uncertainties in deep number counts to 0.06\\%-1.8\\%. For the first time we are able to establish a measurement of the IGL, $\\mathrm{9.07 \\pm 0.35 nW m^{-2} sr^{-1}}$, at 0.59 $\\mu$m using HST data. We obtain a cosmic optical background value of $ 24.45 \\pm 0.50 \\mathrm{nW m^{-2} sr^{-1}}$. Different techniques used to measure the COB, both directly and indirectly, have recently converged indicating that the COB arises almost exclusively from processes within galaxies. This in combination with the recent values reported from New Horizons and very high energy (VHE) constraints leaves very little room for any diffuse emission coming from outside the Milky Way.         |\n",
       "|<p style=\"color:green\"> **ERROR** </p>| <p style=\"color:green\">affiliation error: mpia.affiliation_verifications: 'Heidelberg' keyword not found.</p> |"
      ],
      "text/plain": [
       "<IPython.core.display.Markdown object>"
      ]
     },
     "metadata": {},
     "output_type": "display_data"
    },
    {
     "data": {
      "text/markdown": [
       "\n",
       "|||\n",
       "|---:|:---|\n",
       "| [![arXiv](https://img.shields.io/badge/arXiv-2507.03740-b31b1b.svg)](https://arxiv.org/abs/2507.03740) | **J-PAS: Forecasting constraints on Neutrino Masses**  |\n",
       "|| G. Rodrigues, et al. -- incl., <mark>Y. Wang</mark> |\n",
       "|*Appeared on*| *2025-07-08*|\n",
       "|*Comments*| **|\n",
       "|**Abstract**|            The large-scale structure survey J-PAS is taking data since October 2023. In this work, we present a forecast based on the Fisher matrix method to establish its sensitivity to the sum of the neutrino masses. We adapt the Fisher Galaxy Survey Code (FARO) to account for the neutrino mass under various configurations applied to galaxy clustering measurements. This approach allows us to test the sensitivity of J-PAS to the neutrino mass across different tracers, with and without non-linear corrections, and under varying sky coverage. We perform our forecast for two cosmological models: $\\Lambda CDM + \\sum m_\\nu$ and $w_0w_a CDM + \\sum m_\\nu$. We combine our J-PAS forecast with Cosmic Microwave Background (CMB) data from the Planck Collaboration and Type Ia supernova (SN) data from Pantheon Plus. Our analysis shows that, for a sky coverage of 8,500 square degrees, J-PAS galaxy clustering data alone will constrain the sum of the neutrino masses to an upper limit of $\\sum m_\\nu < 0.32$\\;eV for the $\\Lambda CDM + \\sum m_\\nu$ model, and $\\sum m_\\nu < 0.36$\\;eV for the $w_0w_a CDM + \\sum m_\\nu$ model. When combined with Planck data, the upper limit improves significantly. For J-PAS+Planck, we find $\\sum m_\\nu < 0.061$\\;eV for the $\\Lambda CDM + \\sum m_\\nu$ model, and for J-PAS+Planck+Pantheon Plus, we obtain $\\sum m_\\nu < 0.12$\\;eV for the $w_0w_a CDM + \\sum m_\\nu$ model. These results demonstrate that J-PAS clustering measurements can play a crucial role in addressing challenges in the neutrino sector, including potential tensions between cosmological and terrestrial measurements of the neutrino mass, as well as in determining the mass ordering.         |\n",
       "|<p style=\"color:green\"> **ERROR** </p>| <p style=\"color:green\">affiliation error: mpia.affiliation_verifications: 'Heidelberg' keyword not found.</p> |"
      ],
      "text/plain": [
       "<IPython.core.display.Markdown object>"
      ]
     },
     "metadata": {},
     "output_type": "display_data"
    },
    {
     "data": {
      "text/markdown": [
       "\n",
       "|||\n",
       "|---:|:---|\n",
       "| [![arXiv](https://img.shields.io/badge/arXiv-2507.03850-b31b1b.svg)](https://arxiv.org/abs/2507.03850) | **Ocean Tides on Asynchronously Rotating Planets Orbiting Low-mass Stars**  |\n",
       "|| <mark>J. Shi</mark>, et al. |\n",
       "|*Appeared on*| *2025-07-08*|\n",
       "|*Comments*| **|\n",
       "|**Abstract**|            Planets in the liquid-water habitable zone of low-mass stars experience large tidal forces, $10^3$ to $10^4$ times those on Earth, due to the small distance between the habitable zone and the host stars. Therefore, interior solid tides, ocean tides and atmospheric tides on these planets could be much stronger than that on Earth, but rare work has been done to explicitly simulate the ocean tides. Here, for the first time, we perform global ocean tide simulations and show that ocean tides on asynchronously rotating planets with large eccentricities can reach $\\mathcal{O}(1000)\\,\\mathrm{m}$ in height and $\\mathcal{O}(10)\\,\\mathrm{m\\,s^{-1}}$ in flow speed. Interactions between tide and bottom topography can induce large energy dissipation, $\\sim\\mathcal{O}(100)\\,\\mathrm{W\\,m^{-2}}$ in global mean. This tidal energy dissipation can strongly accelerate orbital evolution by 1-2 orders of magnitude. However, for planets with small eccentricities, the ocean tides are much weaker but still comparable to that on modern Earth. Our results suggest that ocean tides on eccentric planets orbiting low-mass stars are orders of magnitude more powerful than those on Earth and can dramatically influence surface geography and orbital evolution.         |\n",
       "|<p style=\"color:green\"> **ERROR** </p>| <p style=\"color:green\">affiliation error: mpia.affiliation_verifications: 'Heidelberg' keyword not found.</p> |"
      ],
      "text/plain": [
       "<IPython.core.display.Markdown object>"
      ]
     },
     "metadata": {},
     "output_type": "display_data"
    },
    {
     "data": {
      "text/markdown": [
       "\n",
       "|||\n",
       "|---:|:---|\n",
       "| [![arXiv](https://img.shields.io/badge/arXiv-2507.04320-b31b1b.svg)](https://arxiv.org/abs/2507.04320) | **A gravitational acceleration model to explain the double-peaked narrow emission lines shifted in the same direction**  |\n",
       "|| X. Chen, G. Liao, Q. Zheng, <mark>X. Zhang</mark> |\n",
       "|*Appeared on*| *2025-07-08*|\n",
       "|*Comments*| **|\n",
       "|**Abstract**|            In this manuscript, we propose, for the first time, an oversimplified but potentially effective gravitational acceleration model to interpret the double-peaked narrow emission lines (DPNELs) shifted in the same direction. We adopt the framework of a merging kpc-scale dual-core system in an elliptical orbit, which has an emission-line galaxy with clear narrow line regions (NLRs) merging with a companion galaxy lacking emission line features. Due to gravitational forces induced by both galaxies on the NLRs, the accelerations of the far-side and near-side NLR components may share the same vector direction when projected along the line-of-sight, leading the velocities of the observed DPNELs to shift in the same direction. Our simulations indicate that the probability of producing double-peaked features shifted in the same direction reaches 5.81% in merging kpc-scale dual core systems containing emission-line galaxies. Besides the expected results from our proposed model, we identify a unique galaxy SDSS J001050.52-103246.6, whose apparent DPNELs shifted in the same direction can be plausibly explained by the gravitational acceleration model. This proposed model provides a new path to explain DPNELs shifted in the same direction in the scenario that the two galaxies align along the line-of-sight in kpc-scale dual-core systems.         |\n",
       "|<p style=\"color:green\"> **ERROR** </p>| <p style=\"color:green\">affiliation error: mpia.affiliation_verifications: 'Heidelberg' keyword not found.</p> |"
      ],
      "text/plain": [
       "<IPython.core.display.Markdown object>"
      ]
     },
     "metadata": {},
     "output_type": "display_data"
    },
    {
     "data": {
      "text/markdown": [
       "\n",
       "|||\n",
       "|---:|:---|\n",
       "| [![arXiv](https://img.shields.io/badge/arXiv-2507.04618-b31b1b.svg)](https://arxiv.org/abs/2507.04618) | **Introduction to the China Space Station Telescope (CSST)**  |\n",
       "|| C. Collaboration, et al. -- incl., <mark>J. Liu</mark>, <mark>Z. Fu</mark>, <mark>J. Li</mark>, <mark>J. Liu</mark>, <mark>Y. Wang</mark> |\n",
       "|*Appeared on*| *2025-07-08*|\n",
       "|*Comments*| *44 pages, 12 figures, 1 table*|\n",
       "|**Abstract**|            The China Space Station Telescope (CSST) is a next-generation Stage-IV sky survey telescope, distinguished by its large field of view (FoV), high image quality, and multi-band observation capabilities. It can simultaneously conduct precise measurements of the Universe by performing multi-color photometric imaging and slitless spectroscopic surveys. The CSST is equipped with five scientific instruments, i.e. Multi-band Imaging and Slitless Spectroscopy Survey Camera (SC), Multi-Channel Imager (MCI), Integral Field Spectrograph (IFS), Cool Planet Imaging Coronagraph (CPI-C), and THz Spectrometer (TS). Using these instruments, the CSST is expected to make significant contributions and discoveries across various astronomical fields, including cosmology, galaxy and active galactic nuclei (AGN), the Milky Way and nearby galaxies, stars, exoplanets, Solar System objects, astrometry, and transients and variable sources. This review aims to provide a comprehensive overview of the CSST instruments, observational capabilities, data products, and scientific potential.         |\n",
       "|<p style=\"color:green\"> **ERROR** </p>| <p style=\"color:green\">affiliation error: mpia.affiliation_verifications: 'Heidelberg' keyword not found.</p> |"
      ],
      "text/plain": [
       "<IPython.core.display.Markdown object>"
      ]
     },
     "metadata": {},
     "output_type": "display_data"
    }
   ],
   "source": [
    "import datetime\n",
    "today = str(datetime.date.today())\n",
    "logfile = f\"_build/html/logs/log-{today}.md\"\n",
    "\n",
    "\n",
    "with open(logfile, 'w') as logs:\n",
    "    # Success\n",
    "    logs.write(f'# Arxiv on Deck 2: Logs - {today}\\n\\n')\n",
    "    logs.write(\"\"\"* Arxiv had {0:,d} new papers\\n\"\"\".format(len(new_papers)))\n",
    "    logs.write(\"\"\"    * {0:,d} with possible author matches\\n\\n\"\"\".format(len(candidates)))\n",
    "    logs.write(\"## Sucessful papers\\n\\n\")\n",
    "    display(Markdown(\"## Successful papers\"))\n",
    "    success = [k[0] for k in documents]\n",
    "    for candid in candidates:\n",
    "        if candid['identifier'].split(':')[-1] in success:\n",
    "            display(candid)\n",
    "            logs.write(candid.generate_markdown_text() + '\\n\\n')\n",
    "\n",
    "    ## failed\n",
    "    logs.write(\"## Failed papers\\n\\n\")\n",
    "    display(Markdown(\"## Failed papers\"))\n",
    "    failed = sorted(failed, key=lambda x: x[1])\n",
    "    current_reason = \"\"\n",
    "    for paper, reason in failed:\n",
    "        if 'affiliation' in reason:\n",
    "            color = 'green'\n",
    "        else:\n",
    "            color = 'red'\n",
    "        data = Markdown(\n",
    "                paper.generate_markdown_text() + \n",
    "                f'\\n|<p style=\"color:{color:s}\"> **ERROR** </p>| <p style=\"color:{color:s}\">{reason:s}</p> |'\n",
    "               )\n",
    "        if reason != current_reason:\n",
    "            logs.write(f'### {reason:s} \\n\\n')\n",
    "            current_reason = reason\n",
    "        logs.write(data.data + '\\n\\n')\n",
    "        \n",
    "        # only display here the important errors (all in logs)\n",
    "        # if color in ('red',):\n",
    "        display(data)"
   ]
  },
  {
   "cell_type": "markdown",
   "id": "472d20ee",
   "metadata": {
    "papermill": {
     "duration": 0.006413,
     "end_time": "2025-07-08T04:27:48.581734",
     "exception": false,
     "start_time": "2025-07-08T04:27:48.575321",
     "status": "completed"
    },
    "tags": []
   },
   "source": [
    "## Export documents\n",
    "\n",
    "We now write the .md files and export relevant images"
   ]
  },
  {
   "cell_type": "code",
   "execution_count": 7,
   "id": "d426aed9",
   "metadata": {
    "execution": {
     "iopub.execute_input": "2025-07-08T04:27:48.595626Z",
     "iopub.status.busy": "2025-07-08T04:27:48.595215Z",
     "iopub.status.idle": "2025-07-08T04:27:48.601972Z",
     "shell.execute_reply": "2025-07-08T04:27:48.601454Z"
    },
    "papermill": {
     "duration": 0.014792,
     "end_time": "2025-07-08T04:27:48.602918",
     "exception": false,
     "start_time": "2025-07-08T04:27:48.588126",
     "status": "completed"
    },
    "tags": []
   },
   "outputs": [],
   "source": [
    "def export_markdown_summary(md: str, md_fname:str, directory: str):\n",
    "    \"\"\"Export MD document and associated relevant images\"\"\"\n",
    "    import os\n",
    "    import shutil\n",
    "    import re\n",
    "\n",
    "    if (os.path.exists(directory) and not os.path.isdir(directory)):\n",
    "        raise RuntimeError(f\"a non-directory file exists with name {directory:s}\")\n",
    "\n",
    "    if (not os.path.exists(directory)):\n",
    "        print(f\"creating directory {directory:s}\")\n",
    "        os.mkdir(directory)\n",
    "\n",
    "    fig_fnames = (re.compile(r'\\[Fig.*\\]\\((.*)\\)').findall(md) + \n",
    "                  re.compile(r'\\<img src=\"([^>\\s]*)\"[^>]*/>').findall(md))\n",
    "    print(\"found figures\", fig_fnames)\n",
    "    for fname in fig_fnames:\n",
    "        if 'http' in fname:\n",
    "            # No need to copy online figures\n",
    "            continue\n",
    "        if not os.path.exists(fname):\n",
    "            print(\"file not found\", fname)\n",
    "            continue\n",
    "        print(\"copying \", fname, \"to\", directory)\n",
    "        destdir = os.path.join(directory, os.path.dirname(fname))\n",
    "        destfname = os.path.join(destdir, os.path.basename(fname))\n",
    "        try:\n",
    "            os.makedirs(destdir)\n",
    "        except FileExistsError:\n",
    "            pass\n",
    "        shutil.copy(fname, destfname)\n",
    "    with open(os.path.join(directory, md_fname), 'w') as fout:\n",
    "        fout.write(md)\n",
    "    print(\"exported in \", os.path.join(directory, md_fname))\n",
    "    [print(\"    + \" + os.path.join(directory,fk)) for fk in fig_fnames]"
   ]
  },
  {
   "cell_type": "code",
   "execution_count": 8,
   "id": "014d04a4",
   "metadata": {
    "execution": {
     "iopub.execute_input": "2025-07-08T04:27:48.616749Z",
     "iopub.status.busy": "2025-07-08T04:27:48.616518Z",
     "iopub.status.idle": "2025-07-08T04:27:48.659145Z",
     "shell.execute_reply": "2025-07-08T04:27:48.658530Z"
    },
    "papermill": {
     "duration": 0.050725,
     "end_time": "2025-07-08T04:27:48.660240",
     "exception": false,
     "start_time": "2025-07-08T04:27:48.609515",
     "status": "completed"
    },
    "tags": []
   },
   "outputs": [
    {
     "name": "stdout",
     "output_type": "stream",
     "text": [
      "found figures ['tmp_2507.03562/./figures/per_target/full_comp_CD-35_2722_b.png', 'tmp_2507.03562/./figures/per_target/radar_comp_CD-35_2722_b.png', 'tmp_2507.03562/./figures/full_teff_comparison_4grids.png', 'tmp_2507.03562/./figures/radiusselec.png']\n",
      "copying  tmp_2507.03562/./figures/per_target/full_comp_CD-35_2722_b.png to _build/html/\n",
      "copying  tmp_2507.03562/./figures/per_target/radar_comp_CD-35_2722_b.png to _build/html/\n",
      "copying  tmp_2507.03562/./figures/full_teff_comparison_4grids.png to _build/html/\n",
      "copying  tmp_2507.03562/./figures/radiusselec.png to _build/html/\n",
      "exported in  _build/html/2507.03562.md\n",
      "    + _build/html/tmp_2507.03562/./figures/per_target/full_comp_CD-35_2722_b.png\n",
      "    + _build/html/tmp_2507.03562/./figures/per_target/radar_comp_CD-35_2722_b.png\n",
      "    + _build/html/tmp_2507.03562/./figures/full_teff_comparison_4grids.png\n",
      "    + _build/html/tmp_2507.03562/./figures/radiusselec.png\n",
      "found figures ['tmp_2507.03716/./C-Figure-A4-channels.png', 'tmp_2507.03716/./C-Figure-2-profile.png', 'tmp_2507.03716/./C-Figure-A2-radial-cont.png']\n",
      "copying  tmp_2507.03716/./C-Figure-A4-channels.png to _build/html/\n",
      "copying  tmp_2507.03716/./C-Figure-2-profile.png to _build/html/\n",
      "copying  tmp_2507.03716/./C-Figure-A2-radial-cont.png to _build/html/\n",
      "exported in  _build/html/2507.03716.md\n",
      "    + _build/html/tmp_2507.03716/./C-Figure-A4-channels.png\n",
      "    + _build/html/tmp_2507.03716/./C-Figure-2-profile.png\n",
      "    + _build/html/tmp_2507.03716/./C-Figure-A2-radial-cont.png\n",
      "found figures ['tmp_2507.03742/./dpot_diagram.png', 'tmp_2507.03742/./scalar_values.png', 'tmp_2507.03742/./DF_marginal_combined.png']\n",
      "copying  tmp_2507.03742/./dpot_diagram.png to _build/html/\n",
      "copying  tmp_2507.03742/./scalar_values.png to _build/html/\n",
      "copying  tmp_2507.03742/./DF_marginal_combined.png to _build/html/\n",
      "exported in  _build/html/2507.03742.md\n",
      "    + _build/html/tmp_2507.03742/./dpot_diagram.png\n",
      "    + _build/html/tmp_2507.03742/./scalar_values.png\n",
      "    + _build/html/tmp_2507.03742/./DF_marginal_combined.png\n",
      "found figures ['tmp_2507.03744/figures/fig_virial_radius_norvir.png', 'tmp_2507.03744/figures/fig_levelprops_dendrogram_cartoon.png', 'tmp_2507.03744/figures/fig_physical_params_norvir.png']\n",
      "copying  tmp_2507.03744/figures/fig_virial_radius_norvir.png to _build/html/\n",
      "copying  tmp_2507.03744/figures/fig_levelprops_dendrogram_cartoon.png to _build/html/\n",
      "copying  tmp_2507.03744/figures/fig_physical_params_norvir.png to _build/html/\n",
      "exported in  _build/html/2507.03744.md\n",
      "    + _build/html/tmp_2507.03744/figures/fig_virial_radius_norvir.png\n",
      "    + _build/html/tmp_2507.03744/figures/fig_levelprops_dendrogram_cartoon.png\n",
      "    + _build/html/tmp_2507.03744/figures/fig_physical_params_norvir.png\n",
      "found figures ['tmp_2507.04530/./Figures/EVF_nativeres/NGC1300_maps.png', 'tmp_2507.04530/./Figures/MW/MW_subplots_contourlevels.png', 'tmp_2507.04530/./Figures/EVF_zoomin/NGC1300_zoom-min.png']\n",
      "copying  tmp_2507.04530/./Figures/EVF_nativeres/NGC1300_maps.png to _build/html/\n",
      "copying  tmp_2507.04530/./Figures/MW/MW_subplots_contourlevels.png to _build/html/\n",
      "copying  tmp_2507.04530/./Figures/EVF_zoomin/NGC1300_zoom-min.png to _build/html/\n",
      "exported in  _build/html/2507.04530.md\n",
      "    + _build/html/tmp_2507.04530/./Figures/EVF_nativeres/NGC1300_maps.png\n",
      "    + _build/html/tmp_2507.04530/./Figures/MW/MW_subplots_contourlevels.png\n",
      "    + _build/html/tmp_2507.04530/./Figures/EVF_zoomin/NGC1300_zoom-min.png\n",
      "found figures ['tmp_2507.05176/./plots/MPQ.png', 'tmp_2507.05176/./plots/slopes.png', 'tmp_2507.05176/./plots/scatters.png']\n",
      "copying  tmp_2507.05176/./plots/MPQ.png to _build/html/\n",
      "copying  tmp_2507.05176/./plots/slopes.png to _build/html/\n",
      "copying  tmp_2507.05176/./plots/scatters.png to _build/html/\n",
      "exported in  _build/html/2507.05176.md\n",
      "    + _build/html/tmp_2507.05176/./plots/MPQ.png\n",
      "    + _build/html/tmp_2507.05176/./plots/slopes.png\n",
      "    + _build/html/tmp_2507.05176/./plots/scatters.png\n"
     ]
    }
   ],
   "source": [
    "for paper_id, md in documents:\n",
    "    export_markdown_summary(md, f\"{paper_id:s}.md\", '_build/html/')"
   ]
  },
  {
   "cell_type": "markdown",
   "id": "f087a0a7",
   "metadata": {
    "papermill": {
     "duration": 0.006635,
     "end_time": "2025-07-08T04:27:48.673979",
     "exception": false,
     "start_time": "2025-07-08T04:27:48.667344",
     "status": "completed"
    },
    "tags": []
   },
   "source": [
    "## Display the papers\n",
    "\n",
    "Not necessary but allows for a quick check."
   ]
  },
  {
   "cell_type": "code",
   "execution_count": 9,
   "id": "fd25f625",
   "metadata": {
    "execution": {
     "iopub.execute_input": "2025-07-08T04:27:48.688401Z",
     "iopub.status.busy": "2025-07-08T04:27:48.687954Z",
     "iopub.status.idle": "2025-07-08T04:27:48.699159Z",
     "shell.execute_reply": "2025-07-08T04:27:48.698512Z"
    },
    "papermill": {
     "duration": 0.019519,
     "end_time": "2025-07-08T04:27:48.700161",
     "exception": false,
     "start_time": "2025-07-08T04:27:48.680642",
     "status": "completed"
    },
    "scrolled": false,
    "tags": []
   },
   "outputs": [
    {
     "data": {
      "text/markdown": [
       "<div class=\"macros\" style=\"visibility:hidden;\">\n",
       "$\\newcommand{\\ensuremath}{}$\n",
       "$\\newcommand{\\xspace}{}$\n",
       "$\\newcommand{\\object}[1]{\\texttt{#1}}$\n",
       "$\\newcommand{\\farcs}{{.}''}$\n",
       "$\\newcommand{\\farcm}{{.}'}$\n",
       "$\\newcommand{\\arcsec}{''}$\n",
       "$\\newcommand{\\arcmin}{'}$\n",
       "$\\newcommand{\\ion}[2]{#1#2}$\n",
       "$\\newcommand{\\textsc}[1]{\\textrm{#1}}$\n",
       "$\\newcommand{\\hl}[1]{\\textrm{#1}}$\n",
       "$\\newcommand{\\footnote}[1]{}$\n",
       "$\\newcommand{\\MSun}{\\ensuremath{M_{\\odot}}\\xspace}$\n",
       "$\\newcommand{\\MJup}{\\ensuremath{M_{\\mathrm{Jup}}}\\xspace}$\n",
       "$\\newcommand{\\RJup}{\\ensuremath{R_{\\mathrm{Jup}}}\\xspace}$\n",
       "$\\newcommand{\\Teff}{\\ensuremath{T_{\\mathrm{e\\!f\\!f}}}\\xspace}$\n",
       "$\\newcommand{\\logg}{\\ensuremath{\\log (g)}\\xspace}$\n",
       "$\\newcommand{\\met}{\\ensuremath{\\mathrm{[M/H]}}\\xspace}$\n",
       "$\\newcommand{\\co}{\\ensuremath{\\mathrm{C/O}}\\xspace}$\n",
       "$\\newcommand{\\Av}{\\ensuremath{A_{\\mathrm{v}}}\\xspace}$\n",
       "$\\newcommand{\\fsed}{\\ensuremath{f_{\\mathrm{sed}}}\\xspace}$\n",
       "$\\newcommand{\\vsini}{\\hbox{v \\sin (i)}\\xspace}$\n",
       "$\\newcommand{\\mic}{\\ensuremath{\\upmu\\mathrm{m}}\\xspace}$\n",
       "$\\newcommand{\\formosa}{\\texttt{ForMoSA}\\xspace}$\n",
       "$\\newcommand{\\sono}{\\texttt{Sonora Diamondback}\\xspace}$\n",
       "$\\newcommand{\\atmo}{\\texttt{ATMO}\\xspace}$\n",
       "$\\newcommand{\\btex}{\\texttt{BT-Settl}\\xspace}$\n",
       "$\\newcommand{\\btse}{\\texttt{BT-SETTL_{+ C/O}}\\xspace}$\n",
       "$\\newcommand{\\exor}{\\texttt{Exo-REM}\\xspace}$\n",
       "$\\newcommand{\\red}[1]{\\textcolor{red}{#1}}$\n",
       "$\\newcommand{\\theenumi}{\\roman{enumi}}$\n",
       "$\\newcommand{\\arraystretch}{1.5}$\n",
       "$\\newcommand{\\arraystretch}{1.5}$\n",
       "$\\newcommand{\\arraystretch}{1.5}$\n",
       "$\\newcommand{\\arraystretch}{1.5}$\n",
       "$\\newcommand{\\arraystretch}{1.5}$\n",
       "$\\newcommand{\\arraystretch}{1.5}$\n",
       "$\\newcommand{\\arraystretch}{1.5}$\n",
       "$\\newcommand{\\arraystretch}{1.5}$\n",
       "$\\newcommand{\\arraystretch}{1.5}$\n",
       "$\\newcommand{\\arraystretch}{1.5}$\n",
       "$\\newcommand{\\arraystretch}{1.5}$\n",
       "$\\newcommand{\\arraystretch}{1.5}$\n",
       "$\\newcommand{\\arraystretch}{1.5}$\n",
       "$\\newcommand{\\arraystretch}{1.5}$\n",
       "$\\newcommand{\\arraystretch}{1.5}$\n",
       "$\\newcommand{\\arraystretch}{1.5}$\n",
       "$\\newcommand{\\arraystretch}{1.5}$\n",
       "$\\newcommand{\\arraystretch}{1.5}$\n",
       "$\\newcommand{\\arraystretch}{1.5}$\n",
       "$\\newcommand{\\arraystretch}{1.5}$\n",
       "$\\newcommand{\\arraystretch}{1.5}$\n",
       "$\\newcommand{\\arraystretch}{1.5}$\n",
       "$\\newcommand{\\arraystretch}{1.5}$\n",
       "$\\newcommand{\\arraystretch}{1.5}$\n",
       "$\\newcommand{\\arraystretch}{1.5}$\n",
       "$\\newcommand{\\arraystretch}{1.5}$\n",
       "$\\newcommand{\\arraystretch}{1.5}$\n",
       "$\\newcommand{\\arraystretch}{1.5}$</div>\n",
       "\n",
       "\n",
       "\n",
       "<div id=\"title\">\n",
       "\n",
       "# The planetary-mass-limit VLT/SINFONI library$\\thanks{Based on observations collected at the European Organisation for Astronomical Research in the Southern Hemisphere under ESO programs 092.C-0535(A), 092.C-0803(A), 092.C-0809(A), 093.C-0502(A), and 093.C-0829(A\\&B)}$: Spectral extraction and atmospheric characterization via forward modeling\n",
       "\n",
       "</div>\n",
       "<div id=\"comments\">\n",
       "\n",
       "[![arXiv](https://img.shields.io/badge/arXiv-2507.03562-b31b1b.svg)](https://arxiv.org/abs/2507.03562)<mark>Appeared on: 2025-07-08</mark> -  _Acceptance date in A&A: 25/06/2025_\n",
       "\n",
       "</div>\n",
       "<div id=\"authors\">\n",
       "\n",
       "P. Palma-Bifani, et al. -- incl., <mark>G. Chauvin</mark>, <mark>M. Ravet</mark>\n",
       "\n",
       "</div>\n",
       "<div id=\"abstract\">\n",
       "\n",
       "**Abstract:** Medium-resolution spectra (R $_{\\lambda} \\sim 1000 - 10 000$ ) at near-infrared wavelengths of young M-L objects enable the study of their atmospheric properties. Specifically, by unveiling a rich set of molecular features related to the atmospheric chemistry and physics. We aim to deepen our understanding of the M-L transition on planetary-mass companions and isolated brown dwarfs, and search for evidence of possible differences between these two populations of objects. To this end, we present a set of 21 VLT/SINFONI K-band ( $1.95 - 2.45 \\mathrm{\\mu}$ m) observations from five archival programs at R $_{\\lambda} \\sim 4000$ .We aim to measure the atmospheric properties, like the $\\Teff$ , $\\logg$ , $\\met$ , and $\\co$ , to understand the similarities and differences between objects ranging from M5 to L5 in spectral type. We extracted the spectra of these targets with the \\texttt{TExTRIS} code. Subsequently, we model them using $\\formosa$ , a Bayesian forward modeling tool for spectral analysis, exploring four families of self-consistent atmospheric models: $\\atmo$ , $\\btex$ , $\\exor$ , and $\\sono$ . Here we present the spectra of our targets and the derived parameters from the atmospheric modeling. We confirm a drop in $\\Teff$ as a function of the spectral type of more than 500 K at the M/L transition. In addition, we report $\\co$ measurements for 3 companions (2M 0103 AB b, AB Pic b, and CD-35 2722 b), which add to the growing list of exoplanets with measured $\\co$ ratios. The VLT/SINFONI Library highlights two key points.First, there is a critical need to further investigate the discrepancies among grids of spectra generated by self-consistent models, as these models yield varying results and do not uniformly explore the parameter space.Second, we do not observe obvious discrepancies in the K-band spectra between companions and isolated brown dwarfs, which potentially suggests that these super-Jupiter objects formed through a similar process; however, this warrants further investigation.\n",
       "\n",
       "</div>\n",
       "\n",
       "<div id=\"div_fig1\">\n",
       "\n",
       "<img src=\"tmp_2507.03562/./figures/per_target/full_comp_CD-35_2722_b.png\" alt=\"Fig9.1\" width=\"50%\"/><img src=\"tmp_2507.03562/./figures/per_target/radar_comp_CD-35_2722_b.png\" alt=\"Fig9.2\" width=\"50%\"/>\n",
       "\n",
       "**Figure 9. -** Best-fit results from each atmospheric grid using the setup of run v07 for the companion CD-35 2722 b.\n",
       "On the left, we display the observed spectrum (black) and the best-fit models from each grid in the different colors, offset vertically for clarity. The $\\chi^2_{red}$ values for each fit are shown on the right, on top of each model fit. The bottom-left panel shows the residuals of each fit.\n",
       "On the right, a spider plot compares the derived posterior values among the grids, with the light-colored area representing 99.73\\% confidence intervals on the posteriors.\n",
       "For this target, all grids except ATMO perform similarly in terms of $\\chi^2_{red}$ and best posterior values. The $\\Teff$ values are consistent at approximately 1650 K, while $\\logg$ varies between 4.0 and 4.3 dex. (*fig:target_CD-35_2722_b*)\n",
       "\n",
       "</div>\n",
       "<div id=\"div_fig2\">\n",
       "\n",
       "<img src=\"tmp_2507.03562/./figures/full_teff_comparison_4grids.png\" alt=\"Fig10\" width=\"100%\"/>\n",
       "\n",
       "**Figure 10. -** Best spectral fit for each target. Here, the targets are organized by their derived $\\Teff$, from hottest at the top to coldest at the bottom. The $\\Teff$ and S/N values are shown on the right side of each spectrum. The models are color-coded to indicate the grid that provided the best match to the data, selected based on the lowest $\\chi^2_{red}$ value. (*fig:full_res_teff*)\n",
       "\n",
       "</div>\n",
       "<div id=\"div_fig3\">\n",
       "\n",
       "<img src=\"tmp_2507.03562/./figures/radiusselec.png\" alt=\"Fig7\" width=\"100%\"/>\n",
       "\n",
       "**Figure 7. -** Example of optimal aperture radius selection and spectra rejection criteria using the AB Pic b dataset. In each panel, each color represents a different exposure of AB Pic b.\n",
       "**Left:** Here, we show the values for the fitted continuum slope between 2.05 and 2.2 $\\mic$ as a function of aperture radius. Two distinct domains are observed: for radii smaller than the optimal value, the slope increases steeply; for radii larger than the optimal value, the slope still varies but becomes more stable.\n",
       "**Center:** Here, we show the signal-to-noise ratio (S/N) estimated within the same wavelength range as in the left panel, plotted as a function of aperture radius. For each observation, we highlighted the maximum S/N value with a square. The aperture radius corresponding to this maximum is our final selected radius each time.\n",
       "**Right:** Here, we show the derivative of the slope (reported in the left panel) with respect to the aperture radius. Some targets exhibit a non-smooth, decreasing derivative; we reject those epochs. For AB Pic b, this resulted in the rejection of the entire dataset for the second night.\n",
       " (*fig:red_radselec*)\n",
       "\n",
       "</div><div id=\"qrcode\"><img src=https://api.qrserver.com/v1/create-qr-code/?size=100x100&data=\"https://arxiv.org/abs/2507.03562\"></div>"
      ],
      "text/plain": [
       "<IPython.core.display.Markdown object>"
      ]
     },
     "metadata": {},
     "output_type": "display_data"
    },
    {
     "data": {
      "text/markdown": [
       "<div class=\"macros\" style=\"visibility:hidden;\">\n",
       "$\\newcommand{\\ensuremath}{}$\n",
       "$\\newcommand{\\xspace}{}$\n",
       "$\\newcommand{\\object}[1]{\\texttt{#1}}$\n",
       "$\\newcommand{\\farcs}{{.}''}$\n",
       "$\\newcommand{\\farcm}{{.}'}$\n",
       "$\\newcommand{\\arcsec}{''}$\n",
       "$\\newcommand{\\arcmin}{'}$\n",
       "$\\newcommand{\\ion}[2]{#1#2}$\n",
       "$\\newcommand{\\textsc}[1]{\\textrm{#1}}$\n",
       "$\\newcommand{\\hl}[1]{\\textrm{#1}}$\n",
       "$\\newcommand{\\footnote}[1]{}$\n",
       "$\\newcommand{\\vlsr}{v_{\\rm lsr}}$\n",
       "$\\newcommand{\\kms}{km s^{-1}}$\n",
       "$\\newcommand{\\Lsun}{L_\\odot}$\n",
       "$\\newcommand{\\mdot}{\\dot{M}}$\n",
       "$\\newcommand{\\Msun}{ \\mathrm{M}_\\odot}$\n",
       "$\\newcommand{\\Msunpyr}{\\unit{M_\\odot yr^{-1}}}$\n",
       "$\\newcommand{\\coto}{\\mbox{CO(2--1)}}$\n",
       "$\\newcommand{\\cott}{\\mbox{CO(3--2)}}$\n",
       "$\\newcommand{\\tcott}{\\mbox{^{13}CO(2--1)}}$\n",
       "$\\newcommand{\\csff}{\\mbox{CS(5--4)}}$\n",
       "$\\newcommand{\\csss}{\\mbox{CS(7--6)}}$\n",
       "$\\newcommand{\\cnto}{\\mbox{CN(2--1)}}$\n",
       "$\\newcommand{\\cntt}{\\mbox{CN(3--2)}}$\n",
       "$\\newcommand{\\oldcaption}[1]$</div>\n",
       "\n",
       "\n",
       "\n",
       "<div id=\"title\">\n",
       "\n",
       "# Edge-On Disk Study (EODS) II: Thermal Structure of the Flying Saucer Disk\n",
       "\n",
       "</div>\n",
       "<div id=\"comments\">\n",
       "\n",
       "[![arXiv](https://img.shields.io/badge/arXiv-2507.03716-b31b1b.svg)](https://arxiv.org/abs/2507.03716)<mark>Appeared on: 2025-07-08</mark> -  _10 pages, 9 figures, to be published in Astronomy & Astrophysics_\n",
       "\n",
       "</div>\n",
       "<div id=\"authors\">\n",
       "\n",
       "S. Guilloteau, et al. -- incl., <mark>D. Semenov</mark>, <mark>T. Henning</mark>, <mark>A. Kospal</mark>\n",
       "\n",
       "</div>\n",
       "<div id=\"abstract\">\n",
       "\n",
       "**Abstract:** The dust and gas temperature in proto-planetary disks play critical roles in determining   their chemical evolution and influencing planet formation processes. We attempted an accurate measurement of the dust and CO temperature profile in the edge-on disk of the Flying Saucer. We used the unique properties of the Flying Saucer, its edge-on geometry and its fortunate position in front of CO clouds with different brightness temperatures to provide independent constraints on the dust temperature. We compared it with the dust temperature derived using the radiative transfer code DiskFit and the CO gas temperature. We find clear evidence for a substantial gas temperature vertical gradient, with a cold (10 K) disk mid-plane and a warmer CO layer where $T(r) \\approx 27 (r/100 \\mathrm{au})^{-0.3}$ K.   Direct evidence for CO depletion in the mid-plane, below about 1 scale height, is also found.   At this height, the gas temperature is 15-20 K, consistent with the expected CO freeze out temperature.   The dust disk appears optically thin at 345 GHz, and exhibits moderate settling.\n",
       "\n",
       "</div>\n",
       "\n",
       "<div id=\"div_fig1\">\n",
       "\n",
       "<img src=\"tmp_2507.03716/./C-Figure-A4-channels.png\" alt=\"Fig8\" width=\"100%\"/>\n",
       "\n",
       "**Figure 8. -** Channel maps of CO emission.\n",
       "Contour levels are in steps of 4.1 K ($\\simeq 5\\sigma$).\n",
       "Negative signal in blue, positive in red, with color scale\n",
       "spanning -23 to 23 K. Panels are labeled by the velocity, in range -0.95 to 8.42\n",
       "km s$^{-1}$.\n",
       " (*fig:channels*)\n",
       "\n",
       "</div>\n",
       "<div id=\"div_fig2\">\n",
       "\n",
       "<img src=\"tmp_2507.03716/./C-Figure-2-profile.png\" alt=\"Fig2\" width=\"100%\"/>\n",
       "\n",
       "**Figure 2. -** Dust and CO temperature derivation. Numbers indicate the intrinsic temperatures\n",
       "corresponding to the CO cloud brightness temperature at the positions of nulls\n",
       "in the East (blue) and West (red) average mid-plane spectra. Black values are those\n",
       "obtained for the dust. (*fig:midplane*)\n",
       "\n",
       "</div>\n",
       "<div id=\"div_fig3\">\n",
       "\n",
       "<img src=\"tmp_2507.03716/./C-Figure-A2-radial-cont.png\" alt=\"Fig4\" width=\"100%\"/>\n",
       "\n",
       "**Figure 4. -** Radial distribution of the brightness at 235  and 345 GHz along the disk mid-plane (continuous black and blue curves). Dashed lines indicate the best fit model prediction. The brightness ratio is given by the red curve, with $\\pm 1 \\sigma$ confidence interval in pink (*fig:radial*)\n",
       "\n",
       "</div><div id=\"qrcode\"><img src=https://api.qrserver.com/v1/create-qr-code/?size=100x100&data=\"https://arxiv.org/abs/2507.03716\"></div>"
      ],
      "text/plain": [
       "<IPython.core.display.Markdown object>"
      ]
     },
     "metadata": {},
     "output_type": "display_data"
    },
    {
     "data": {
      "text/markdown": [
       "<div class=\"macros\" style=\"visibility:hidden;\">\n",
       "$\\newcommand{\\ensuremath}{}$\n",
       "$\\newcommand{\\xspace}{}$\n",
       "$\\newcommand{\\object}[1]{\\texttt{#1}}$\n",
       "$\\newcommand{\\farcs}{{.}''}$\n",
       "$\\newcommand{\\farcm}{{.}'}$\n",
       "$\\newcommand{\\arcsec}{''}$\n",
       "$\\newcommand{\\arcmin}{'}$\n",
       "$\\newcommand{\\ion}[2]{#1#2}$\n",
       "$\\newcommand{\\textsc}[1]{\\textrm{#1}}$\n",
       "$\\newcommand{\\hl}[1]{\\textrm{#1}}$\n",
       "$\\newcommand{\\footnote}[1]{}$\n",
       "$\\newcommand{\\vdag}{(v)^\\dagger}$\n",
       "$\\newcommand$\n",
       "$\\newcommand$\n",
       "$\\newcommand$\n",
       "$\\newcommand$\n",
       "$\\newcommand$</div>\n",
       "\n",
       "\n",
       "\n",
       "<div id=\"title\">\n",
       "\n",
       "# Deep Potential: Recovering the gravitational potential and local pattern speed in the solar neighborhood with GDR3 using normalizing flows\n",
       "\n",
       "</div>\n",
       "<div id=\"comments\">\n",
       "\n",
       "[![arXiv](https://img.shields.io/badge/arXiv-2507.03742-b31b1b.svg)](https://arxiv.org/abs/2507.03742)<mark>Appeared on: 2025-07-08</mark> -  _24 pages, 13 figures_\n",
       "\n",
       "</div>\n",
       "<div id=\"authors\">\n",
       "\n",
       "<mark>T. Kalda</mark>, G. M. Green\n",
       "\n",
       "</div>\n",
       "<div id=\"abstract\">\n",
       "\n",
       "**Abstract:** The gravitational potential of the Milky Way encodes information about the distribution of all matter -- including dark matter -- throughout the Galaxy. _Gaia_ data release 3 has revealed a complex structure that necessitates flexible models of the Galactic gravitational potential.We make use of a sample of 5.6 million upper-main-sequence stars to map the full 3D gravitational potential in a one-kiloparsec radius from the Sun using a data-driven approach called \"Deep Potential\". This method makes minimal assumptions about the dynamics of the Galaxy -- that the stars are a collisionless system that is statistically stationary in a rotating frame (with pattern speed to be determined). We model the distribution of stars in 6D phase space using a normalizing flow and the gravitational network using a neural network. We recover a local pattern speed of $\\Omega_p = 28.2\\pm0.1\\mathrm{ km/s/kpc}$ , a local total matter density of $\\rho=0.086\\pm0.010\\mathrm{ M_\\odot/pc^3}$ and local dark matter density of $\\rho_\\mathrm{DM}=0.007\\pm0.011\\mathrm{ M_\\odot/pc^3}$ . The full 3D model exhibits spatial fluctuations, which may stem from the model architecture and non-stationarity in the Milky Way.\n",
       "\n",
       "</div>\n",
       "\n",
       "<div id=\"div_fig1\">\n",
       "\n",
       "<img src=\"tmp_2507.03742/./dpot_diagram.png\" alt=\"Fig5\" width=\"100%\"/>\n",
       "\n",
       "**Figure 5. -** Illustration of the various models trained for Deep Potential, which are used to both determine a best estimate of the potential and to quantify its uncertainties. Squares indicate models, circles indicate datasets, nodes colored orange pertain to the distribution function, and nodes colored blue pertain to the gravitational potential and pattern speed $\\Omega_p$.\n",
       "    To obtain the best-fit value for the gravitational potential and $\\Omega_p$, we first train 16 normalizing flows (with different random seeds) to approximate the distribution function. We obtain a best estimate of the distribution function and its gradients by taking the median of the 16 flows and of their gradients (Ensemble $\\{\\pdv*{f}{\\vec x}, \\pdv*{f}{\\vec v}, f\\})$. We use this best-fit distribution function to train 16 neural networks and pattern speeds (with different random seeds). The best-fit pattern speed and potential (or its derivatives) are defined by the median of these 16 pattern speeds and neural networks (or of their derivatives).\n",
       "    We additionally estimate various sources of errors in the potential. For example, to quantify the effect of observational noise, we train 8 distribution functions on Gaia data with added noise. For each distribution function, we train a potential. From this ensemble, we can calculate variance in the inferred pattern speed, potential and derived quantities.\n",
       "    From top to bottom on the figure, the following uncertainties are quantified: observational errors in $\\vec x_0$ and $\\vec v_0$ by resampling the respective quantities based on variations in the literature values, fluctuations in the random seed and convergence of the normalizing flow and neural network architecture, observational errors in the source data by resampling the 6D positions of stars based on their quoted errors, and finally, statistical uncertainties from the finite size of the dataset using bootstrap on the training data. (*fig:dpot_diagram*)\n",
       "\n",
       "</div>\n",
       "<div id=\"div_fig2\">\n",
       "\n",
       "<img src=\"tmp_2507.03742/./scalar_values.png\" alt=\"Fig6\" width=\"100%\"/>\n",
       "\n",
       "**Figure 6. -** Distribution of scalar value quantities from different uncertainty estimation pipelines visualized in Figure \\ref{fig:dpot_diagram}. The scalar quantities are: the average acceleration in the solar neighborhood $a_{\\odot,x}, a_{\\odot,y}, a_{\\odot,z}$, the pattern speed of the solar neighborhood within \\SI{1}{kpc} from the Sun, and the average total matter density $\\rho(R=R_0)$ at the solar distance $R = R_0$ from the Galactic Center. The bottom right diagram visualizes which volumes the quantities are averaged over. The central \\SI{0.1}{kpc} and outer \\SI{0.8}{kpc} are excluded due to a lack of data and systematics from edge effects, respectively. In each subplot, the columns represent the spread of values due to the following five effects: adding observational noise to the observed 6D kinematics of the training data (\"added observational noise\"), resampling the stars in the training data using bootstrap (\"bootstrap\"), variations in the starting seed of the normalizing flows representing the DF (\"DF seed\"), variations in the starting seed of the neural network representing the gravitational potential while using the best-fit DF (\"potential seed\"), and adding observational noise to the literature values of $\\vec x_0, \\vec v_0$ while using the best-fit DF (\"$\\vec x_0, \\vec v_0$ noise\"). The best-fit value is calculated using the median of \"potential seed\". For discussion, see \\ref{appendix:uncertainties} (*fig:scalar_values*)\n",
       "\n",
       "</div>\n",
       "<div id=\"div_fig3\">\n",
       "\n",
       "<img src=\"tmp_2507.03742/./DF_marginal_combined.png\" alt=\"Fig9\" width=\"100%\"/>\n",
       "\n",
       "**Figure 9. -** A demonstration of the performance of our normalizing flow model of the stellar phase-space distribution function in three different projections. We plot 2D histograms of the selected stars (left column) and of $2^{21}=2097152$ points sampled from the trained normalizing flow (middle column), as well as a comparison between the two (right column). The top row shows a face-on view of the \\SI{1000}{pc} dataset, projected onto the $x-y$ plane. The middle row shows one velocity-space projection ($v_{\\phi}$ vs. $v_R$), and the bottom row shows the sky projection (in a Lambert cylindrical equal-area projection: $\\ell$ vs. $\\sin b$). The density of the sampled normalizing flow points has been renormalized by an overall constant to match the density of the stars in the training set. For each bin, we define the Poisson significance as $(n_\\mathrm{NF} - n_\\mathrm{data})/\\sqrt{n_\\mathrm{data}}$, where $n_\\mathrm{NF}$ is the renormalized number of samples in the bin drawn from the normalizing flow and $n_\\mathrm{data}$ is the number of sources in the dataset in the same bin. As can be seen above, our normalizing flow captures nearly all prominent features in the stellar distribution, with the exception of some residuals seen in areas of high dust extinction in the sky projection. We thus obtain a smooth, differentiable representation of the Galactic stellar population. (*fig:df*)\n",
       "\n",
       "</div><div id=\"qrcode\"><img src=https://api.qrserver.com/v1/create-qr-code/?size=100x100&data=\"https://arxiv.org/abs/2507.03742\"></div>"
      ],
      "text/plain": [
       "<IPython.core.display.Markdown object>"
      ]
     },
     "metadata": {},
     "output_type": "display_data"
    },
    {
     "data": {
      "text/markdown": [
       "<div class=\"macros\" style=\"visibility:hidden;\">\n",
       "$\\newcommand{\\ensuremath}{}$\n",
       "$\\newcommand{\\xspace}{}$\n",
       "$\\newcommand{\\object}[1]{\\texttt{#1}}$\n",
       "$\\newcommand{\\farcs}{{.}''}$\n",
       "$\\newcommand{\\farcm}{{.}'}$\n",
       "$\\newcommand{\\arcsec}{''}$\n",
       "$\\newcommand{\\arcmin}{'}$\n",
       "$\\newcommand{\\ion}[2]{#1#2}$\n",
       "$\\newcommand{\\textsc}[1]{\\textrm{#1}}$\n",
       "$\\newcommand{\\hl}[1]{\\textrm{#1}}$\n",
       "$\\newcommand{\\footnote}[1]{}$\n",
       "$\\newcommand{\\co}{^{12}\\mathrm{CO}(2-1)}$\n",
       "$\\newcommand{\\avir}{\\alpha_\\mathrm{vir}}$\n",
       "$\\newcommand{\\rvir}{R_\\mathrm{vir}}$\n",
       "$\\newcommand{\\onesigma}{16--84\\%}$\n",
       "$\\newcommand{\\mco}{M_\\mathrm{CO}}$\n",
       "$\\newcommand{\\sigmol}{\\Sigma_\\mathrm{mol}}$\n",
       "$\\newcommand{\\sigv}{\\sigma_\\mathrm{v}}$\n",
       "$\\newcommand{\\msun}{\\mathrm{M_\\odot}}$\n",
       "$\\newcommand{\\alphaco}{\\alpha_\\mathrm{CO}}$\n",
       "$\\newcommand{\\rtwoone}{R_{21}}$\n",
       "$\\newcommand{\\UConn}{\\affiliation{Department of Physics, University of Connecticut, 196A Auditorium Road, Storrs, CT 06269, USA}}$\n",
       "$\\newcommand{\\Alberta}{\\affiliation{Department of Physics, University of Alberta, Edmonton, Alberta, T6G 2E1, Canada}}$\n",
       "$\\newcommand{\\OSU}{\\affiliation{Department of Astronomy, The Ohio State University, 140 West 18th Avenue, Columbus, OH 43210, USA}}$\n",
       "$\\newcommand{ÇAPP}{\\affiliation{Center for Cosmology and Astroparticle Physics (CCAPP), 191 West Woodruff Avenue, Columbus, OH 43210, USA}}$\n",
       "$\\newcommand{\\MPIA}{\\affiliation{Max Planck Institut für Astronomie, Königstuhl 17, 69117 Heidelberg, Germany}}$\n",
       "$\\newcommand{\\Princeton}{\\affiliation{Department of Astrophysical Sciences, Princeton University, 4 Ivy Lane, Princeton, NJ 08544, USA}}$\n",
       "$\\newcommand{\\JHU}{\\affiliation{Department of Physics and Astronomy, Johns Hopkins University, Baltimore, MD 21218, USA}}$\n",
       "$\\newcommand{\\UBonn}{\\affiliation{Argelander-Institut für Astronomie, University of Bonn, Auf dem Hügel 71, 53121 Bonn, Germany}}$\n",
       "$\\newcommand{\\CfA}{\\affiliation{Center for Astrophysics \\mid Harvard \\& Smithsonian, 60 Garden St., Cambridge, MA 02138, USA}}$\n",
       "$\\newcommand{\\ESO}{\\affiliation{European Southern Observatory, Karl-Schwarzschild-Strasse 2, 85748 Garching bei München, Germany}}$\n",
       "$\\newcommand{\\HD}{\\affiliation{Astronomisches Rechen-Institut, Zentrum für Astronomie der Universität Heidelberg, Mönchhofstra\\ss e 12-14, 69120 Heidelberg, Germany}}$\n",
       "$\\newcommand{\\UOA}{\\affiliation{Department of Physics, University of Arkansas, 226 Physics Building, 825 West Dickson Street, Fayetteville, AR 72701, USA}}$\n",
       "$\\newcommand{\\UCT}{\\affiliation{Department of Astronomy, University of Cape Town, Rondebosch 7701, South Africa}}$\n",
       "$\\newcommand{\\ESOcl}{\\affiliation{European Southern Observatory (ESO), Alonso de Córdova 3107, Casilla 19, Santiago 19001, Chile}}$\n",
       "$\\newcommand{\\OAN}{\\affiliation{Observatorio Astron{ó}mico Nacional (IGN), C/Alfonso XII 3, Madrid E-28014, Spain}}$\n",
       "$\\newcommand{\\ITA}{\\affiliation{Universität Heidelberg, Zentrum für Astronomie, Institut für Theoretische Astrophysik, Albert-Ueberle-Str 2, D-69120 Heidelberg, Germany}}$\n",
       "$\\newcommand{\\UWyoming}{\\affiliation{Department of Physics and Astronomy, University of Wyoming, Laramie, WY 82071, USA}}$\n",
       "$\\newcommand{\\UGent}{\\affil{Sterrenkundig Observatorium, Universiteit Gent, Krijgslaan 281 S9, B-9000 Gent, Belgium}}$\n",
       "$\\newcommand{\\Oxford}{\\affil{Sub-department of Astrophysics, Department of Physics, University of Oxford, Keble Road, Oxford OX1 3RH, UK}}$\n",
       "$\\newcommand{\\Carnegie}{\\affiliation{Observatories of the Carnegie Institution for Science, 813 Santa Barbara Street, Pasadena, CA 91101, USA}}$\n",
       "$\\newcommand{\\UChile}{\\affiliation{Departamento de Astronomía, Universidad de Chile, Camino del Observatorio 1515, Las Condes, Santiago, Chile}}$\n",
       "$\\newcommand{\\IRAP}{\\affiliation{IRAP/OMP/Université de Toulouse, 9 Av. du Colonel Roche, BP 44346, F-31028 Toulouse cedex 4, France}}$\n",
       "$\\newcommand{\\LUX}{\\affiliation{LUX, Observatoire de Paris, PSL Research University, CNRS, Sorbonne Universités, 75014 Paris, France}}$</div>\n",
       "\n",
       "\n",
       "\n",
       "<div id=\"title\">\n",
       "\n",
       "# Assessing the hierarchical dynamical state of molecular gas: virial parameters from 3 to 300 pc in NGC 253\n",
       "\n",
       "</div>\n",
       "<div id=\"comments\">\n",
       "\n",
       "[![arXiv](https://img.shields.io/badge/arXiv-2507.03744-b31b1b.svg)](https://arxiv.org/abs/2507.03744)<mark>Appeared on: 2025-07-08</mark> -  _31 pages, 16 figures, submitted to ApJ_\n",
       "\n",
       "</div>\n",
       "<div id=\"authors\">\n",
       "\n",
       "Elias~K.~Oakes, et al. -- incl., <mark>A. Hughes</mark>, <mark>E. Schinnerer</mark>\n",
       "\n",
       "</div>\n",
       "<div id=\"abstract\">\n",
       "\n",
       "**Abstract:** Understanding how the dynamical state of the interstellar medium (ISM) changes across spatial scales can provide important insights into how the gas is organized and ultimately collapses to form stars. To this end, we present ALMA $\\co$ observations at $7$ pc ( $0.4\\arcsec$ ) spatial resolution across a $1.4 \\mathrm{kpc}\\times5.6 \\mathrm{kpc}$ ( $1'.3\\times1'.3$ ) region located in the disk of the nearby ( $D = 3.5$ Mpc), massive, star-forming galaxy NGC 253. We decompose this emission with a hierarchical, multiscale dendrogram algorithm to identify 2463 structures with deconvolved sizes ranging from $\\sim3$ to $300$ pc, complete to a limiting mass of $10^4$  $\\msun$ . By comparing the virial parameter of these structures against physical properties including size, mass, surface density, velocity dispersion, and hierarchical position, we carry out a comprehensive search for a preferred scale at which gravitationally bound structures emerge. Ultimately, we do not identify any emergent scale for bound objects in our data, nor do we find a correlation between the virial parameter and structure sizes. These findings suggest that gravitational binding cannot be used to define molecular clouds and emphasize the need for multiscale approaches to characterize the ISM.\n",
       "\n",
       "</div>\n",
       "\n",
       "<div id=\"div_fig1\">\n",
       "\n",
       "<img src=\"tmp_2507.03744/figures/fig_virial_radius_norvir.png\" alt=\"Fig8\" width=\"100%\"/>\n",
       "\n",
       "**Figure 8. -** **Left:** The virial parameter against structure radius for all leaves (blue) and branches (orange) in the dendrogram. Each point's lightness is scaled by a Gaussian kernel density estimator (KDE) to reflect the smoothed density distribution. Bins of 0.15 dex are shown with their medians in black and $\\onesigma$ ranges in gray. In red, we fit the centers of these bins and show each iteration of a Bayesian linear regression using \\texttt{linmix}, finding a slope of $-0.10\\pm0.08$. We exclude the largest-radius bin because it is strongly affected by a single, very large lineage with duplicate flux, discussed more in \\S \\ref{subsec:disc_largescale}. The two dashed, horizontal lines in gray show $\\alpha_\\mathrm{vir} = 1$ and $2$. The estimated 50\\% completeness limit for structures of typical $\\sigmol$ and $\\avir$(\\S \\ref{subsec:completeness}) is shown by the hatched boundary. $\\avir$ is remarkably flat with $R$, for structures from $\\sim3$ to 250 pc. **Right:** Virial parameter distributions for leaves (blue) and branches (orange). Median values are indicated by the horizontal, colored lines. (*fig:virial_radius*)\n",
       "\n",
       "</div>\n",
       "<div id=\"div_fig2\">\n",
       "\n",
       "<img src=\"tmp_2507.03744/figures/fig_levelprops_dendrogram_cartoon.png\" alt=\"Fig7\" width=\"100%\"/>\n",
       "\n",
       "**Figure 7. -** **Main panel:** Full dendrogram of the NGC 253 field, showing 2463 structures ordered by peak intensity within a lineage. The virial parameter $\\avir$ is plotted within each structure as a function of the contour intensity level, showing a substantial decrease with intensity both between (\\S \\ref{subsubsec:virial_hierarchical}) and within (\\S \\ref{subsubsec:avir_intensity_levelprops}) individual structures. The trunks corresponding to base structures \\#1018 (orange), 1560 (pink), 1439 (yellow), 488 (green), and 87 (cyan) are indicated at the bottom, using the same colors as Fig. \\ref{fig:zoomfield}, panel (b).\n",
       "    **Inset panels:** A subset of the dendrogram (left) and corresponding contours over the peak intensity map (right) highlight the tree-like hierarchy of the dendrogram, in which leaves (the high-intensity, peak-level structures) are nested within lower-intensity parent branches, which can in turn be nested within their own parent structures. In these panels, the orange gradient represents each structure's level. (*fig:levelprops_dendrogram*)\n",
       "\n",
       "</div>\n",
       "<div id=\"div_fig3\">\n",
       "\n",
       "<img src=\"tmp_2507.03744/figures/fig_physical_params_norvir.png\" alt=\"Fig9\" width=\"100%\"/>\n",
       "\n",
       "**Figure 9. -** Similar to Fig. \\ref{fig:virial_radius} but with $\\avir$ plotted against structure mass ($\\mathrm{M_{CO}}$), surface density ($\\sigmol$), and velocity dispersion ($\\sigv$) for 12 bins. \\texttt{linmix} fits above the completeness limits return $\\alpha_\\mathrm{vir} \\propto M_\\mathrm{CO}^{-0.11\\pm0.03}$ below $\\log_\\mathrm{10}\\left(\\mathrm{M_{CO}}\\right) \\lesssim 7.3$ and $\\alpha_\\mathrm{vir} \\propto \\Sigma_\\mathrm{mol}^{-0.58\\pm0.16}$. (*fig:physical_params*)\n",
       "\n",
       "</div><div id=\"qrcode\"><img src=https://api.qrserver.com/v1/create-qr-code/?size=100x100&data=\"https://arxiv.org/abs/2507.03744\"></div>"
      ],
      "text/plain": [
       "<IPython.core.display.Markdown object>"
      ]
     },
     "metadata": {},
     "output_type": "display_data"
    },
    {
     "data": {
      "text/markdown": [
       "<div class=\"macros\" style=\"visibility:hidden;\">\n",
       "$\\newcommand{\\ensuremath}{}$\n",
       "$\\newcommand{\\xspace}{}$\n",
       "$\\newcommand{\\object}[1]{\\texttt{#1}}$\n",
       "$\\newcommand{\\farcs}{{.}''}$\n",
       "$\\newcommand{\\farcm}{{.}'}$\n",
       "$\\newcommand{\\arcsec}{''}$\n",
       "$\\newcommand{\\arcmin}{'}$\n",
       "$\\newcommand{\\ion}[2]{#1#2}$\n",
       "$\\newcommand{\\textsc}[1]{\\textrm{#1}}$\n",
       "$\\newcommand{\\hl}[1]{\\textrm{#1}}$\n",
       "$\\newcommand{\\footnote}[1]{}$\n",
       "$\\newcommand{\\oiii}[1]{\\text{[O III]\\lambda5007}\\if\\relax\\detokenize{#1}\\relax\\else\\xspace\\fi#1}$\n",
       "$\\newcommand{\\nii}[1]{\\text{[N II]\\lambda6583}\\if\\relax\\detokenize{#1}\\relax\\else\\xspace\\fi#1}$\n",
       "$\\newcommand{\\ha}[1]{\\text{H\\alpha\\if\\relax\\detokenize{#1}\\relax\\else\\xspace\\fi#1}}$\n",
       "$\\newcommand{\\hb}[1]{\\text{H\\beta\\if\\relax\\detokenize{#1}\\relax\\else\\xspace\\fi#1}}$\n",
       "$\\newcommand{\\thefigure}{A1\\alph{figure}}$\n",
       "$\\newcommand{\\thefigure}{A2\\alph{figure}}$\n",
       "$\\newcommand{\\thefigure}{A3\\alph{figure}}$\n",
       "$\\newcommand{\\thefigure}{A4\\alph{figure}}$\n",
       "$\\newcommand{\\thefigure}{A5\\alph{figure}}$\n",
       "$\\newcommand{\\thefigure}{A5\\alph{figure}}$\n",
       "$\\newcommand{\\thefigure}{A6\\alph{figure}}$\n",
       "$\\newcommand{\\thefigure}{A7\\alph{figure}}$\n",
       "$\\newcommand{\\thefigure}{A8\\alph{figure}}$\n",
       "$\\newcommand{\\thefigure}{A9\\alph{figure}}$</div>\n",
       "\n",
       "\n",
       "\n",
       "<div id=\"title\">\n",
       "\n",
       "# Extreme cloud collisions in nearby barred galaxies\n",
       "\n",
       "</div>\n",
       "<div id=\"comments\">\n",
       "\n",
       "[![arXiv](https://img.shields.io/badge/arXiv-2507.04530-b31b1b.svg)](https://arxiv.org/abs/2507.04530)<mark>Appeared on: 2025-07-08</mark> -  _12 pages, 7 figures, accepted for publication in MNRAS_\n",
       "\n",
       "</div>\n",
       "<div id=\"authors\">\n",
       "\n",
       "T. Kolcu, et al. -- incl., <mark>E. Schinnerer</mark>, <mark>J. Neumann</mark>\n",
       "\n",
       "</div>\n",
       "<div id=\"abstract\">\n",
       "\n",
       "**Abstract:** The inner regions of the Milky Way are known to contain an enigmatic population of prominent molecular clouds characterised by extremely broad lines. The physical origin of these \"extended velocity features\" (EVFs) is still debated, although a connection with the \"dust lanes\" of the Galactic bar has been hypothesised. In this paper, we search for analogous features in the dust lanes of nearby barred galaxies using the PHANGS-ALMA CO(2-1) survey. We aim to confirm existence of EVFs in other galaxies and to take advantage of the external perspective to gain insight into their origin. We study a sample of 29 barred galaxies and find that 34 \\% contain one or more EVFs, while the remaining lack obvious signs of EVFs. Upon analysing the physical properties of the EVFs, we find they possess large virial parameters, ranging from few hundreds to several thousand, indicating that they are strongly out-of-equilibrium. The most likely explanation for their origin is extreme cloud-cloud collisions with relative velocities in excess of 100km/s in highly non-circular flow driven by the bar. This interpretation is consistent with previous high-resolution observations in Milky Way. Further corroboration of this interpretation comes from the inspection of high-sensitivity infrared observations from the PHANGS-JWST Treasury Survey that reveals streams of gas that appear to be hitting the dust lanes at locations where EVFs are found. We argue that EVFs are the clearest examples of cloud-cloud collisions available in literature and represent a unique opportunity to study cloud collisions and their impact on star formation.\n",
       "\n",
       "</div>\n",
       "\n",
       "<div id=\"div_fig1\">\n",
       "\n",
       "<img src=\"tmp_2507.04530/./Figures/EVF_nativeres/NGC1300_maps.png\" alt=\"Fig2\" width=\"100%\"/>\n",
       "\n",
       "**Figure 2. -** The diagnostic maps and 7.7$\\mu$m emission image of NGC 1300. _Top:_ Position-position (PP) and Position-velocity (PV) diagrams. The galaxy is rotated in the plane of the sky such that the PA of the LON aligns with the _x_-axis. Red and blue colours highlight the dust lanes.\n",
       "    _Bottom:_ 7.7$\\mu$m emission in gray-scale, with CO(2--1) intensity as in PP diagram in yellow contours. Magenta lines mark the streams that appear to extend over large radii and reach to the regions where EVFs are seen. In all panels, the rectangular boxes mark the regions of EVFs. (*fig:NGC1300*)\n",
       "\n",
       "</div>\n",
       "<div id=\"div_fig2\">\n",
       "\n",
       "<img src=\"tmp_2507.04530/./Figures/MW/MW_subplots_contourlevels.png\" alt=\"Fig1\" width=\"100%\"/>\n",
       "\n",
       "**Figure 1. -** CO(1-0) emission maps of the central regions of the Milky Way. The top and bottom panels display the longitude-latitude $(l,b)$ and longitude-velocity $(l,v_{\\rm los})$ CO(1-0) emission maps respectively from the survey by [Bitran, et. al (1997)](https://ui.adsabs.harvard.edu/abs/1997A&AS..125...99B). The two most prominent EVFs of the Galaxy, located at $l=5.4^\\circ$ and $l=3.2^\\circ$, are marked with magenta boxes and are coloured in indigo and green respectively. Red and blue are the emission from the bar dust lanes on the redshifted (DL1) and blueshifted (DL2) sides of the Galaxy. The orange box marks the Central Molecular Zone (CMZ). The Galactic centre is located at $(l,b) = (0,0)$. (*fig:MilkyWay*)\n",
       "\n",
       "</div>\n",
       "<div id=\"div_fig3\">\n",
       "\n",
       "<img src=\"tmp_2507.04530/./Figures/EVF_zoomin/NGC1300_zoom-min.png\" alt=\"Fig3\" width=\"100%\"/>\n",
       "\n",
       "**Figure 3. -** Close-up views of the EVF regions, marked with rectangular boxes in the bottom panel of Fig. \\ref{fig:NGC1300}. Both panels show the 7.7 $\\rm \\mu m$ emission in gray-scale overlaid with CO(2–1) emission in yellow contours. (*fig:JWST-Zoom-NGC1300*)\n",
       "\n",
       "</div><div id=\"qrcode\"><img src=https://api.qrserver.com/v1/create-qr-code/?size=100x100&data=\"https://arxiv.org/abs/2507.04530\"></div>"
      ],
      "text/plain": [
       "<IPython.core.display.Markdown object>"
      ]
     },
     "metadata": {},
     "output_type": "display_data"
    },
    {
     "data": {
      "text/markdown": [
       "<div class=\"macros\" style=\"visibility:hidden;\">\n",
       "$\\newcommand{\\ensuremath}{}$\n",
       "$\\newcommand{\\xspace}{}$\n",
       "$\\newcommand{\\object}[1]{\\texttt{#1}}$\n",
       "$\\newcommand{\\farcs}{{.}''}$\n",
       "$\\newcommand{\\farcm}{{.}'}$\n",
       "$\\newcommand{\\arcsec}{''}$\n",
       "$\\newcommand{\\arcmin}{'}$\n",
       "$\\newcommand{\\ion}[2]{#1#2}$\n",
       "$\\newcommand{\\textsc}[1]{\\textrm{#1}}$\n",
       "$\\newcommand{\\hl}[1]{\\textrm{#1}}$\n",
       "$\\newcommand{\\footnote}[1]{}$\n",
       "$\\newcommand{\\kB}{\\ensuremath{  {k_{\\rm B}}}}$\n",
       "$\\newcommand{\\Rtwohc}{R_{\\rm 200c}}$\n",
       "$\\newcommand{\\Rhalo}{R_{\\rm halo}}$\n",
       "$\\newcommand{\\Mtwohc}{M_{\\rm 200c}}$\n",
       "$\\newcommand{\\Rtwohm}{R_{\\rm 200m}}$\n",
       "$\\newcommand{\\Mtwohm}{M_{\\rm 200m}}$\n",
       "$\\newcommand{\\Rfivehc}{R_{\\rm 500c}}$\n",
       "$\\newcommand{\\Mfivehc}{M_{\\rm 500c}}$\n",
       "$\\newcommand{\\Mfivehcspec}{M_{\\rm 500c,spec}}$\n",
       "$\\newcommand{\\Mvir}{M_{\\rm vir}}$\n",
       "$\\newcommand{\\eg}{{\\sl e.g.},}$\n",
       "$\\newcommand{\\Rtwoh}{R_{\\rm 200c}}$\n",
       "$\\newcommand{\\rtwoh}{R_{\\rm 200c}}$\n",
       "$\\newcommand{\\mtwoh}{M_{\\rm 200c}}$\n",
       "$\\newcommand{\\Mtwoh}{M_{\\rm 200c}}$\n",
       "$\\newcommand{\\mfiveh}{M_{\\rm 500c}}$\n",
       "$\\newcommand{\\LX}{L_{\\rm X}}$\n",
       "$\\newcommand{\\LXce}{L_{\\rm X, ce}}$\n",
       "$\\newcommand{\\LXbolce}{L_{\\rm X, ce}^{\\rm bol}}$\n",
       "$\\newcommand{\\LXsoft}{L_{\\rm X, soft}}$\n",
       "$\\newcommand{\\Mgas}{M_{\\rm gas}}$\n",
       "$\\newcommand{\\fgas}{f_{\\rm gas}}$\n",
       "$\\newcommand{\\fb}{f_{\\rm b}}$\n",
       "$\\newcommand{\\Tsl}{T_{\\rm sl}}$\n",
       "$\\newcommand{\\Tmw}{T_{\\rm mw}}$\n",
       "$\\newcommand{\\Tew}{T_{\\rm ew}}$\n",
       "$\\newcommand{\\Tspec}{T_{\\rm spec}}$\n",
       "$\\newcommand{\\YX}{Y_{\\rm X}}$\n",
       "$\\newcommand{\\TX}{T_{\\rm X}}$\n",
       "$\\newcommand{\\TXce}{T_{\\rm X, ce}}$\n",
       "$\\newcommand{\\YSZ}{Y_{\\rm SZ}}$\n",
       "$\\newcommand{\\Yint}{Y^{\\rm int}}$\n",
       "$\\newcommand{\\mgas}{M_{\\rm gas}}$\n",
       "$\\newcommand{\\Mstargal}{M_{\\star, \\rm sat}}$\n",
       "$\\newcommand{\\mstargal}{M_{\\star, \\rm sat}}$\n",
       "$\\newcommand{\\MstarBCG}{M_{\\star,\\rm BCG}}$\n",
       "$\\newcommand{\\mstarBCG}{M_{\\star,\\rm BCG}}$\n",
       "$\\newcommand{\\Mr}{M_{\\rm r}}$\n",
       "$\\newcommand{\\mhalo}{M_{\\rm halo}}$\n",
       "$\\newcommand{\\Mhalo}{M_{\\rm halo}}$\n",
       "$\\newcommand{\\mdelta}{M_{\\Delta}}$\n",
       "$\\newcommand{\\rdelta}{R_{\\Delta}}$\n",
       "$\\newcommand{\\mgs}{M_{\\rm gas/star}}$\n",
       "$\\newcommand{\\mdeltags}{{\\rm M}_{\\Delta,{\\rm gas/star }} }$\n",
       "$\\newcommand{\\mdeltas}{{\\rm M}_{\\Delta,{\\rm star }} }$\n",
       "$\\newcommand{\\mdeltag}{{\\rm M}_{\\Delta,{\\rm gas }} }$\n",
       "$\\newcommand{\\rhocrit}{\\rho_{\\rm crit }}$\n",
       "$\\newcommand{\\Mfid}{M_{\\rm fid}}$\n",
       "$\\newcommand{\\sigmamu}{\\ensuremath{\\sigma_{\\mu}}}$\n",
       "$\\newcommand{\\varmu}{\\ensuremath{\\sigma^2_{\\mu}}}$\n",
       "$\\newcommand{\\varmus}{\\ensuremath{\\sigma^2_{\\mu \\vert \\mathbf{s} }}}$\n",
       "$\\newcommand{\\sigmamus}{\\ensuremath{\\sigma_{\\mu \\vert s }}}$\n",
       "$\\newcommand{\\sigmamusvec}{\\ensuremath{\\sigma_{\\mu \\vert \\mathbf{s} }}}$\n",
       "$\\newcommand{\\MassScatter}{\\sigma_{\\Mfivehc \\vert \\mathbf{s} }}$\n",
       "$\\newcommand{\\MassScatterMgas}{\\sigma_{\\Mfivehc \\vert \\Mgas}}$\n",
       "$\\newcommand{\\MassScatterTsl}{\\sigma_{\\Mfivehc \\vert \\Tsl}}$\n",
       "$\\newcommand{\\MassScatterTmw}{\\sigma_{\\Mfivehc \\vert \\Tmw}}$\n",
       "$\\newcommand{\\MassScatterTX}{\\sigma_{\\Mfivehc \\vert \\TX}}$\n",
       "$\\newcommand{\\MassScatterT}{\\sigma_{\\Mfivehc \\vert T}}$\n",
       "$\\newcommand{\\MassScatterYX}{\\sigma_{\\Mfivehc \\vert \\YX}}$\n",
       "$\\newcommand{\\MassScatterYSZ}{\\sigma_{\\Mfivehc \\vert \\YSZ}}$\n",
       "$\\newcommand{\\DeltaSS}{\\Delta_{{\\rm SS}, a}}$\n",
       "$\\newcommand{\\kms}{{\\rm   km~s}\\ensuremath{^{-1}}}$\n",
       "$\\newcommand{\\hinv}{\\ensuremath{  h^{-1}}}$\n",
       "$\\newcommand{\\msol}{\\ensuremath{  {\\rm M}_\\odot}}$\n",
       "$\\newcommand{\\msun}{\\ensuremath{  {\\rm M}_\\odot}}$\n",
       "$\\newcommand{\\kpc}{\\ensuremath{  {\\rm kpc}}}$\n",
       "$\\newcommand{\\mpc}{\\ensuremath{  {\\rm Mpc}}}$\n",
       "$\\newcommand{\\gpc}{\\ensuremath{  {\\rm Gpc}}}$\n",
       "$\\newcommand{\\gyr}{\\ensuremath{  {\\rm Gyr}}}$\n",
       "$\\newcommand{\\myr}{\\ensuremath{  {\\rm Myr}}}$\n",
       "$\\newcommand{\\hinvmpc}{\\ensuremath{  {\\rm h, Mpc^{-1}}}}$\n",
       "$\\newcommand{\\kev}{\\ensuremath{  {\\rm keV}}}$\n",
       "$\\newcommand{\\Nsat}{\\ensuremath{N_{\\rm sat}}}$\n",
       "$\\newcommand{\\NSat}{\\ensuremath{N_{\\rm sat}}}$\n",
       "$\\newcommand{\\Mstar}{\\ensuremath{M_{\\rm \\star}}}$\n",
       "$\\newcommand{\\Mstarsat}{\\ensuremath{M_{\\rm \\star, sat}}}$\n",
       "$\\newcommand{\\MstarsatThresh}{\\ensuremath{M_{\\rm \\star, sat}^{\\rm th}}}$\n",
       "$\\newcommand{\\Mstartot}{\\ensuremath{M_{\\rm \\star, tot}}}$\n",
       "$\\newcommand{\\zformation}{\\ensuremath{z_{\\rm form}}}$\n",
       "$\\newcommand{\\sigmaSat}{\\ensuremath{\\sigma_{\\rm sat, 1D}}}$\n",
       "$\\newcommand{\\sigmaSatproj}{\\ensuremath{\\sigma_{\\rm sat, 1D}^{\\rm proj}}}$\n",
       "$\\newcommand{\\sigmaDM}{\\ensuremath{\\sigma_{\\rm DM}}}$\n",
       "$\\newcommand{\\vproj}{\\ensuremath{v_{\\rm sat}^{\\rm proj}}}$\n",
       "$\\newcommand{\\mlim}{M_{\\rm lim}}$\n",
       "$\\newcommand{\\lcdm}{\\LambdaCDM}$\n",
       "$\\newcommand{\\sigmaeight}{\\ensuremath{\\sigma_8}}$\n",
       "$\\newcommand{\\ns}{\\ensuremath{n_{\\rm s}}}$\n",
       "$\\newcommand{\\omegam}{\\ensuremath{\\Omega_{\\rm m}}}$\n",
       "$\\newcommand{\\omegab}{\\ensuremath{\\Omega_{\\rm b}}}$\n",
       "$\\newcommand{\\omeganow}{\\ensuremath{\\Omega_{\\rm 0}}}$\n",
       "$\\newcommand{\\omegaDE}{\\ensuremath{\\Omega_{\\rm DE}}}$\n",
       "$\\newcommand{\\omegaLambda}{\\ensuremath{\\Omega_{\\Lambda}}}$\n",
       "$\\newcommand{\\Hnow}{\\ensuremath{H_{\\rm 0}}}$\n",
       "$\\newcommand{\\Seight}{\\ensuremath{S_8}}$\n",
       "$\\newcommand{\\TNGcombined}{\\rm TNG300 + TNG-Cluster}$\n",
       "$\\newcommand{\\Flam}{\\rm FLAMINGO-L1\\_m8}$\n",
       "$\\newcommand{\\github}[1]{$\n",
       "$   \\href{#1}{\\faGithub}$\n",
       "$}$\n",
       "$\\newcommand{\\thebibliography}{\\DeclareRobustCommand{\\VAN}[3]{##3}\\VANthebibliography}$</div>\n",
       "\n",
       "\n",
       "\n",
       "<div id=\"title\">\n",
       "\n",
       "# Mass Proxy Quality of Massive Halo Properties in the IllustrisTNG and FLAMINGO Simulations: I. Hot Gas\n",
       "\n",
       "</div>\n",
       "<div id=\"comments\">\n",
       "\n",
       "[![arXiv](https://img.shields.io/badge/arXiv-2507.05176-b31b1b.svg)](https://arxiv.org/abs/2507.05176)<mark>Appeared on: 2025-07-08</mark> -  _23 pages, 14 figures_\n",
       "\n",
       "</div>\n",
       "<div id=\"authors\">\n",
       "\n",
       "E. Aljamal, et al. -- incl., <mark>A. Pillepich</mark>, <mark>J. Braspenning</mark>\n",
       "\n",
       "</div>\n",
       "<div id=\"abstract\">\n",
       "\n",
       "**Abstract:** We examine scale and redshift dependence of mass-property relations (MPRs) for five hot gas properties of two large group- and cluster-scale halo samples realized by the IllustrisTNG, TNG-Cluster and FLAMINGO cosmological hydrodynamical simulations. For intrinsic properties of i) hot gas mass ( $\\Mgas$ ), ii) spectroscopic-like temperature ( $\\Tsl$ ), iii) soft-band X-ray luminosity ( $\\LX$ ), and iv) X-ray ( $\\YX$ ) and v) Sunyaev-Zel'dovich ( $\\YSZ$ ) thermal energies, we use MPR parameters to infer mass proxy quality (MPQ) --- the implied scatter in total halo mass conditioned on a property --- for halos with $\\Mfivehc \\geq 10^{13}\\msol$ at redshifts, $z \\in \\{0, 0.5, 1, 2\\}$ .We find: (1) in general, scaling relation slopes and covariance display moderate to strong dependence on halo mass, with redshift dependence secondary;(2) for halos with $\\Mfivehc > 10^{14}\\msol$ , scalings of $\\Mgas$ and $\\YSZ$ simplify toward self-similar slope and constant intrinsic scatter (5 and 10 \\% , respectively) nearly independent of scale, making both measures ideal for cluster finding and characterization to $z=2$ ;(3) halo mass-conditioned likelihoods of hot gas mass and thermal energy at fixed halo mass closely follow a log-normal form;(4) despite normalization differences ranging up to $0.4$ dex, there is good qualitative, and often quantitative, agreement between the scale-dependent slopes and property covariance of the two simulations. Slopes show appreciable redshift dependence at the group scale, while redshift dependence of the scatter is exhibited by low mass FLAMINGO halos only;(5) property correlations are largely consistent between the simulations, with values that mainly agree with existing empirical measurements.We close with a literature survey placing our MPR slopes and intrinsic scatter estimates into context.\n",
       "\n",
       "</div>\n",
       "\n",
       "<div id=\"div_fig1\">\n",
       "\n",
       "<img src=\"tmp_2507.05176/./plots/MPQ.png\" alt=\"Fig14\" width=\"100%\"/>\n",
       "\n",
       "**Figure 14. -** The mass proxy quality, quantified by the implied halo mass scatter (Equation \\eqref{eq:mass-proxy-quality}), for the five gas properties within a 3-D aperture of $\\Rfivehc$ listed in the legend\n",
       "    for TNG (solid lines) and FLAMINGO (dashed) halo populations. Shaded regions are $1\\sigma$ uncertainties based on $1000$ bootstrap samples.\n",
       "    We indicate the low redshift mass regimes of groups and clusters as roughly divided by a halo mass of $10^{14}$\\msol$$.  All MPQs show moderate to strong mass dependence.  The relative ordering of mass proxy quality is fairly consistent between the two simulation methods, with thermal energy ($\\YSZ$, violet) being the best mass proxy below $10^{14.5} $\\msol$$ and hot gas mass ($\\Mgas$, black) best above this scale, reaching a minimum of $4\\%$ halo mass scatter at $10^{15} $\\msol$$. See text for further discussion.\n",
       " (*fig:MPQzero*)\n",
       "\n",
       "</div>\n",
       "<div id=\"div_fig2\">\n",
       "\n",
       "<img src=\"tmp_2507.05176/./plots/slopes.png\" alt=\"Fig15\" width=\"100%\"/>\n",
       "\n",
       "**Figure 15. -** Halo mass and redshift dependence of the MPR slopes for (top to bottom)\n",
       "    $\\Mgas$, $\\Tsl$, $\\LX$, $\\YX$, $\\YSZ$.  The\n",
       "    KLLR-derived values are shown at redshifts $z = 0$(black), $0.5$(blue), $1.0$(gold), and $2$(green) for TNG (left) and FLAMINGO (right) halo populations. Dotted lines indicate the self-similar slopes given in \\S\\ref{sec:self-similar-theory}. Note that, by definition, the slope in $\\YX$ is the sum of the slopes in $\\Mgas$ and $\\Tsl$.  (*fig:MPR-slope-plots*)\n",
       "\n",
       "</div>\n",
       "<div id=\"div_fig3\">\n",
       "\n",
       "<img src=\"tmp_2507.05176/./plots/scatters.png\" alt=\"Fig16\" width=\"100%\"/>\n",
       "\n",
       "**Figure 16. -** Halo mass and redshift dependence of the MPR intrinsic scatter values. Format is identical to that of Figure \\ref{fig:MPR-slope-plots}. (*fig:MPR-inrinsic-scatter-plots*)\n",
       "\n",
       "</div><div id=\"qrcode\"><img src=https://api.qrserver.com/v1/create-qr-code/?size=100x100&data=\"https://arxiv.org/abs/2507.05176\"></div>"
      ],
      "text/plain": [
       "<IPython.core.display.Markdown object>"
      ]
     },
     "metadata": {},
     "output_type": "display_data"
    }
   ],
   "source": [
    "[display(Markdown(k[1])) for k in documents];"
   ]
  },
  {
   "cell_type": "markdown",
   "id": "873873a4",
   "metadata": {
    "papermill": {
     "duration": 0.007703,
     "end_time": "2025-07-08T04:27:48.715768",
     "exception": false,
     "start_time": "2025-07-08T04:27:48.708065",
     "status": "completed"
    },
    "tags": []
   },
   "source": [
    "# Create HTML index"
   ]
  },
  {
   "cell_type": "code",
   "execution_count": 10,
   "id": "cf665672",
   "metadata": {
    "execution": {
     "iopub.execute_input": "2025-07-08T04:27:48.732156Z",
     "iopub.status.busy": "2025-07-08T04:27:48.731731Z",
     "iopub.status.idle": "2025-07-08T04:27:48.739174Z",
     "shell.execute_reply": "2025-07-08T04:27:48.738526Z"
    },
    "papermill": {
     "duration": 0.016737,
     "end_time": "2025-07-08T04:27:48.740192",
     "exception": false,
     "start_time": "2025-07-08T04:27:48.723455",
     "status": "completed"
    },
    "tags": []
   },
   "outputs": [
    {
     "name": "stdout",
     "output_type": "stream",
     "text": [
      "136  publications files modified in the last 7 days.\n"
     ]
    }
   ],
   "source": [
    "from datetime import datetime, timedelta, timezone\n",
    "from glob import glob\n",
    "import os\n",
    "\n",
    "files = glob('_build/html/*.md')\n",
    "days = 7\n",
    "now = datetime.today()\n",
    "res = []\n",
    "for fk in files:\n",
    "    stat_result = os.stat(fk).st_ctime\n",
    "    modified = datetime.fromtimestamp(stat_result, tz=timezone.utc).replace(tzinfo=None)\n",
    "    delta = now.today() - modified\n",
    "    if delta <= timedelta(days=days):\n",
    "        res.append((delta.seconds, fk))\n",
    "res = [k[1] for k in reversed(sorted(res, key=lambda x:x[1]))]\n",
    "npub = len(res)\n",
    "print(len(res), f\" publications files modified in the last {days:d} days.\")\n",
    "# [ print('\\t', k) for k in res ];"
   ]
  },
  {
   "cell_type": "code",
   "execution_count": 11,
   "id": "015de740",
   "metadata": {
    "execution": {
     "iopub.execute_input": "2025-07-08T04:27:48.756861Z",
     "iopub.status.busy": "2025-07-08T04:27:48.756400Z",
     "iopub.status.idle": "2025-07-08T04:27:48.768593Z",
     "shell.execute_reply": "2025-07-08T04:27:48.768018Z"
    },
    "papermill": {
     "duration": 0.021729,
     "end_time": "2025-07-08T04:27:48.769650",
     "exception": false,
     "start_time": "2025-07-08T04:27:48.747921",
     "status": "completed"
    },
    "tags": []
   },
   "outputs": [
    {
     "name": "stdout",
     "output_type": "stream",
     "text": [
      "16  publications in the last 7 days.\n"
     ]
    }
   ],
   "source": [
    "import datetime\n",
    "from glob import glob\n",
    "\n",
    "def get_last_n_days(lst, days=1):\n",
    "    \"\"\" Get the documents from the last n days \"\"\"\n",
    "    sorted_lst = sorted(lst, key=lambda x: x[1], reverse=True)\n",
    "    for fname, date in sorted_lst:\n",
    "        if date >= str(datetime.date.today() - datetime.timedelta(days=days)):\n",
    "            yield fname\n",
    "\n",
    "def extract_appearance_dates(lst_file):\n",
    "    dates = []\n",
    "\n",
    "    def get_date(line):\n",
    "        return line\\\n",
    "            .split('Appeared on:')[-1]\\\n",
    "            .split('</mark>')[0].strip()\n",
    "\n",
    "    for fname in lst:\n",
    "        with open(fname, 'r') as f:\n",
    "            found_date = False\n",
    "            for line in f:\n",
    "                if not found_date:\n",
    "                    if \"Appeared on\" in line:\n",
    "                        found_date = True\n",
    "                        dates.append((fname, get_date(line)))\n",
    "                else:\n",
    "                    break\n",
    "    return dates\n",
    "\n",
    "from glob import glob\n",
    "lst = glob('_build/html/*md')\n",
    "days = 7\n",
    "dates = extract_appearance_dates(lst)\n",
    "res = list(get_last_n_days(dates, days))\n",
    "npub = len(res)\n",
    "print(len(res), f\" publications in the last {days:d} days.\")"
   ]
  },
  {
   "cell_type": "code",
   "execution_count": 12,
   "id": "52ca0208",
   "metadata": {
    "execution": {
     "iopub.execute_input": "2025-07-08T04:27:48.786684Z",
     "iopub.status.busy": "2025-07-08T04:27:48.786168Z",
     "iopub.status.idle": "2025-07-08T04:27:48.791104Z",
     "shell.execute_reply": "2025-07-08T04:27:48.790590Z"
    },
    "papermill": {
     "duration": 0.014481,
     "end_time": "2025-07-08T04:27:48.792047",
     "exception": false,
     "start_time": "2025-07-08T04:27:48.777566",
     "status": "completed"
    },
    "scrolled": false,
    "tags": []
   },
   "outputs": [],
   "source": [
    "def create_carousel(npub=4):\n",
    "    \"\"\" Generate the HTML code for a carousel with `npub` slides \"\"\"\n",
    "    carousel = [\"\"\"  <div class=\"carousel\" \"\"\",\n",
    "                \"\"\"       data-flickity='{ \"autoPlay\": 10000, \"adaptiveHeight\": true, \"resize\": true, \"wrapAround\": true, \"pauseAutoPlayOnHover\": true, \"groupCells\": 1 }' id=\"asyncTypeset\">\"\"\"\n",
    "                ]\n",
    "    \n",
    "    item_str = \"\"\"    <div class=\"carousel-cell\"> <div id=\"slide{k}\" class=\"md_view\">Content {k}</div> </div>\"\"\"\n",
    "    for k in range(1, npub + 1):\n",
    "        carousel.append(item_str.format(k=k))\n",
    "    carousel.append(\"  </div>\")\n",
    "    return '\\n'.join(carousel)\n",
    "\n",
    "def create_grid(npub=4):\n",
    "    \"\"\" Generate the HTML code for a flat grid with `npub` slides \"\"\"\n",
    "    grid = [\"\"\"  <div class=\"grid\"> \"\"\",\n",
    "                ]\n",
    "    \n",
    "    item_str = \"\"\"    <div class=\"grid-item\"> <div id=\"slide{k}\" class=\"md_view\">Content {k}</div> </div>\"\"\"\n",
    "    for k in range(1, npub + 1):\n",
    "        grid.append(item_str.format(k=k))\n",
    "    grid.append(\"  </div>\")\n",
    "    return '\\n'.join(grid)"
   ]
  },
  {
   "cell_type": "code",
   "execution_count": 13,
   "id": "a6eac5b6",
   "metadata": {
    "execution": {
     "iopub.execute_input": "2025-07-08T04:27:48.808797Z",
     "iopub.status.busy": "2025-07-08T04:27:48.808563Z",
     "iopub.status.idle": "2025-07-08T04:27:48.813822Z",
     "shell.execute_reply": "2025-07-08T04:27:48.813160Z"
    },
    "papermill": {
     "duration": 0.014831,
     "end_time": "2025-07-08T04:27:48.814890",
     "exception": false,
     "start_time": "2025-07-08T04:27:48.800059",
     "status": "completed"
    },
    "scrolled": false,
    "tags": []
   },
   "outputs": [],
   "source": [
    "carousel = create_carousel(npub)\n",
    "docs = ', '.join(['\"{0:s}\"'.format(k.split('/')[-1]) for k in res])\n",
    "slides = ', '.join([f'\"slide{k}\"' for k in range(1, npub + 1)])\n",
    "\n",
    "with open(\"daily_template.html\", \"r\") as tpl:\n",
    "    page = tpl.read()\n",
    "    page = page.replace(\"{%-- carousel:s --%}\", carousel)\\\n",
    "               .replace(\"{%-- suptitle:s --%}\",  \"7-day archives\" )\\\n",
    "               .replace(\"{%-- docs:s --%}\", docs)\\\n",
    "               .replace(\"{%-- slides:s --%}\", slides)\n",
    "    \n",
    "with open(\"_build/html/index_7days.html\", 'w') as fout:\n",
    "    fout.write(page)"
   ]
  },
  {
   "cell_type": "code",
   "execution_count": 14,
   "id": "adc1a1ec",
   "metadata": {
    "execution": {
     "iopub.execute_input": "2025-07-08T04:27:48.831771Z",
     "iopub.status.busy": "2025-07-08T04:27:48.831338Z",
     "iopub.status.idle": "2025-07-08T04:27:48.837355Z",
     "shell.execute_reply": "2025-07-08T04:27:48.836845Z"
    },
    "papermill": {
     "duration": 0.015531,
     "end_time": "2025-07-08T04:27:48.838368",
     "exception": false,
     "start_time": "2025-07-08T04:27:48.822837",
     "status": "completed"
    },
    "tags": []
   },
   "outputs": [
    {
     "name": "stdout",
     "output_type": "stream",
     "text": [
      "7  publications in the last day.\n"
     ]
    }
   ],
   "source": [
    "# redo for today\n",
    "days = 1\n",
    "res = list(get_last_n_days(dates, days))\n",
    "npub = len(res)\n",
    "print(len(res), f\" publications in the last day.\")\n",
    "\n",
    "carousel = create_carousel(npub)\n",
    "docs = ', '.join(['\"{0:s}\"'.format(k.split('/')[-1]) for k in res])\n",
    "slides = ', '.join([f'\"slide{k}\"' for k in range(1, npub + 1)])\n",
    "\n",
    "with open(\"daily_template.html\", \"r\") as tpl:\n",
    "    page = tpl.read()\n",
    "    page = page.replace(\"{%-- carousel:s --%}\", carousel)\\\n",
    "               .replace(\"{%-- suptitle:s --%}\",  \"Daily\" )\\\n",
    "               .replace(\"{%-- docs:s --%}\", docs)\\\n",
    "               .replace(\"{%-- slides:s --%}\", slides)\n",
    "    \n",
    "# print(carousel, docs, slides)\n",
    "# print(page)\n",
    "with open(\"_build/html/index_daily.html\", 'w') as fout:\n",
    "    fout.write(page)"
   ]
  },
  {
   "cell_type": "code",
   "execution_count": 15,
   "id": "00eece82",
   "metadata": {
    "execution": {
     "iopub.execute_input": "2025-07-08T04:27:48.855048Z",
     "iopub.status.busy": "2025-07-08T04:27:48.854852Z",
     "iopub.status.idle": "2025-07-08T04:27:48.861045Z",
     "shell.execute_reply": "2025-07-08T04:27:48.860543Z"
    },
    "papermill": {
     "duration": 0.015647,
     "end_time": "2025-07-08T04:27:48.861975",
     "exception": false,
     "start_time": "2025-07-08T04:27:48.846328",
     "status": "completed"
    },
    "scrolled": false,
    "tags": []
   },
   "outputs": [
    {
     "name": "stdout",
     "output_type": "stream",
     "text": [
      "6  6 publications selected.\n"
     ]
    }
   ],
   "source": [
    "# Create the flat grid of the last N papers (fixed number regardless of dates)\n",
    "from itertools import islice \n",
    "\n",
    "npub = 6\n",
    "res = [k[0] for k in (islice(reversed(sorted(dates, key=lambda x: x[1])), 6))]\n",
    "print(len(res), f\" {npub} publications selected.\")\n",
    "\n",
    "grid = create_grid(npub)\n",
    "docs = ', '.join(['\"{0:s}\"'.format(k.split('/')[-1]) for k in res])\n",
    "slides = ', '.join([f'\"slide{k}\"' for k in range(1, npub + 1)])\n",
    "\n",
    "with open(\"grid_template.html\", \"r\") as tpl:\n",
    "    page = tpl.read()\n",
    "    page = page.replace(\"{%-- grid-content:s --%}\", grid)\\\n",
    "               .replace(\"{%-- suptitle:s --%}\",  f\"Last {npub:,d} papers\" )\\\n",
    "               .replace(\"{%-- docs:s --%}\", docs)\\\n",
    "               .replace(\"{%-- slides:s --%}\", slides)\n",
    "    \n",
    "# print(grid, docs, slides)\n",
    "# print(page)\n",
    "with open(\"_build/html/index_npub_grid.html\", 'w') as fout:\n",
    "    fout.write(page)"
   ]
  }
 ],
 "metadata": {
  "kernelspec": {
   "display_name": "Python 3 (ipykernel)",
   "language": "python",
   "name": "python3"
  },
  "language_info": {
   "codemirror_mode": {
    "name": "ipython",
    "version": 3
   },
   "file_extension": ".py",
   "mimetype": "text/x-python",
   "name": "python",
   "nbconvert_exporter": "python",
   "pygments_lexer": "ipython3",
   "version": "3.9.23"
  },
  "papermill": {
   "default_parameters": {},
   "duration": 370.614979,
   "end_time": "2025-07-08T04:27:49.085316",
   "environment_variables": {},
   "exception": null,
   "input_path": "MPIA daily digest.ipynb",
   "output_path": "log.ipynb",
   "parameters": {},
   "start_time": "2025-07-08T04:21:38.470337",
   "version": "2.6.0"
  },
  "vscode": {
   "interpreter": {
    "hash": "aee8b7b246df8f9039afb4144a1f6fd8d2ca17a180786b69acc140d282b71a49"
   }
  },
  "widgets": {
   "application/vnd.jupyter.widget-state+json": {
    "state": {
     "2433505fe1994a0696b75f627550748c": {
      "model_module": "@jupyter-widgets/base",
      "model_module_version": "2.0.0",
      "model_name": "LayoutModel",
      "state": {
       "_model_module": "@jupyter-widgets/base",
       "_model_module_version": "2.0.0",
       "_model_name": "LayoutModel",
       "_view_count": null,
       "_view_module": "@jupyter-widgets/base",
       "_view_module_version": "2.0.0",
       "_view_name": "LayoutView",
       "align_content": null,
       "align_items": null,
       "align_self": null,
       "border_bottom": null,
       "border_left": null,
       "border_right": null,
       "border_top": null,
       "bottom": null,
       "display": null,
       "flex": null,
       "flex_flow": null,
       "grid_area": null,
       "grid_auto_columns": null,
       "grid_auto_flow": null,
       "grid_auto_rows": null,
       "grid_column": null,
       "grid_gap": null,
       "grid_row": null,
       "grid_template_areas": null,
       "grid_template_columns": null,
       "grid_template_rows": null,
       "height": null,
       "justify_content": null,
       "justify_items": null,
       "left": null,
       "margin": null,
       "max_height": null,
       "max_width": null,
       "min_height": null,
       "min_width": null,
       "object_fit": null,
       "object_position": null,
       "order": null,
       "overflow": null,
       "padding": null,
       "right": null,
       "top": null,
       "visibility": null,
       "width": null
      }
     },
     "3f2cb4b24e864352950c1918225455e8": {
      "model_module": "@jupyter-widgets/base",
      "model_module_version": "2.0.0",
      "model_name": "LayoutModel",
      "state": {
       "_model_module": "@jupyter-widgets/base",
       "_model_module_version": "2.0.0",
       "_model_name": "LayoutModel",
       "_view_count": null,
       "_view_module": "@jupyter-widgets/base",
       "_view_module_version": "2.0.0",
       "_view_name": "LayoutView",
       "align_content": null,
       "align_items": null,
       "align_self": null,
       "border_bottom": null,
       "border_left": null,
       "border_right": null,
       "border_top": null,
       "bottom": null,
       "display": null,
       "flex": null,
       "flex_flow": null,
       "grid_area": null,
       "grid_auto_columns": null,
       "grid_auto_flow": null,
       "grid_auto_rows": null,
       "grid_column": null,
       "grid_gap": null,
       "grid_row": null,
       "grid_template_areas": null,
       "grid_template_columns": null,
       "grid_template_rows": null,
       "height": null,
       "justify_content": null,
       "justify_items": null,
       "left": null,
       "margin": null,
       "max_height": null,
       "max_width": null,
       "min_height": null,
       "min_width": null,
       "object_fit": null,
       "object_position": null,
       "order": null,
       "overflow": null,
       "padding": null,
       "right": null,
       "top": null,
       "visibility": null,
       "width": null
      }
     },
     "4d66edb47e204bf397b022cde1e45177": {
      "model_module": "@jupyter-widgets/base",
      "model_module_version": "2.0.0",
      "model_name": "LayoutModel",
      "state": {
       "_model_module": "@jupyter-widgets/base",
       "_model_module_version": "2.0.0",
       "_model_name": "LayoutModel",
       "_view_count": null,
       "_view_module": "@jupyter-widgets/base",
       "_view_module_version": "2.0.0",
       "_view_name": "LayoutView",
       "align_content": null,
       "align_items": null,
       "align_self": null,
       "border_bottom": null,
       "border_left": null,
       "border_right": null,
       "border_top": null,
       "bottom": null,
       "display": null,
       "flex": null,
       "flex_flow": null,
       "grid_area": null,
       "grid_auto_columns": null,
       "grid_auto_flow": null,
       "grid_auto_rows": null,
       "grid_column": null,
       "grid_gap": null,
       "grid_row": null,
       "grid_template_areas": null,
       "grid_template_columns": null,
       "grid_template_rows": null,
       "height": null,
       "justify_content": null,
       "justify_items": null,
       "left": null,
       "margin": null,
       "max_height": null,
       "max_width": null,
       "min_height": null,
       "min_width": null,
       "object_fit": null,
       "object_position": null,
       "order": null,
       "overflow": null,
       "padding": null,
       "right": null,
       "top": null,
       "visibility": null,
       "width": null
      }
     },
     "5039f1c208864b919e2803af73cebf38": {
      "model_module": "@jupyter-widgets/controls",
      "model_module_version": "2.0.0",
      "model_name": "HTMLStyleModel",
      "state": {
       "_model_module": "@jupyter-widgets/controls",
       "_model_module_version": "2.0.0",
       "_model_name": "HTMLStyleModel",
       "_view_count": null,
       "_view_module": "@jupyter-widgets/base",
       "_view_module_version": "2.0.0",
       "_view_name": "StyleView",
       "background": null,
       "description_width": "",
       "font_size": null,
       "text_color": null
      }
     },
     "50ab7cf597b840538aac846aa13ff8d6": {
      "model_module": "@jupyter-widgets/controls",
      "model_module_version": "2.0.0",
      "model_name": "ProgressStyleModel",
      "state": {
       "_model_module": "@jupyter-widgets/controls",
       "_model_module_version": "2.0.0",
       "_model_name": "ProgressStyleModel",
       "_view_count": null,
       "_view_module": "@jupyter-widgets/base",
       "_view_module_version": "2.0.0",
       "_view_name": "StyleView",
       "bar_color": null,
       "description_width": ""
      }
     },
     "81930e78f4df47949de17071803264dc": {
      "model_module": "@jupyter-widgets/controls",
      "model_module_version": "2.0.0",
      "model_name": "HBoxModel",
      "state": {
       "_dom_classes": [],
       "_model_module": "@jupyter-widgets/controls",
       "_model_module_version": "2.0.0",
       "_model_name": "HBoxModel",
       "_view_count": null,
       "_view_module": "@jupyter-widgets/controls",
       "_view_module_version": "2.0.0",
       "_view_name": "HBoxView",
       "box_style": "",
       "children": [
        "IPY_MODEL_f11bc2c0a53342fab915667c2e890f56",
        "IPY_MODEL_cf53fc7f925f4b9aa983d3b2a6248e19",
        "IPY_MODEL_85c5082ac64e4379ba13073dd4f6847a"
       ],
       "layout": "IPY_MODEL_2433505fe1994a0696b75f627550748c",
       "tabbable": null,
       "tooltip": null
      }
     },
     "85c5082ac64e4379ba13073dd4f6847a": {
      "model_module": "@jupyter-widgets/controls",
      "model_module_version": "2.0.0",
      "model_name": "HTMLModel",
      "state": {
       "_dom_classes": [],
       "_model_module": "@jupyter-widgets/controls",
       "_model_module_version": "2.0.0",
       "_model_name": "HTMLModel",
       "_view_count": null,
       "_view_module": "@jupyter-widgets/controls",
       "_view_module_version": "2.0.0",
       "_view_name": "HTMLView",
       "description": "",
       "description_allow_html": false,
       "layout": "IPY_MODEL_3f2cb4b24e864352950c1918225455e8",
       "placeholder": "​",
       "style": "IPY_MODEL_5039f1c208864b919e2803af73cebf38",
       "tabbable": null,
       "tooltip": null,
       "value": " 14/14 [05:44&lt;00:00, 23.80s/it]"
      }
     },
     "a568d985a90e4eddb58cc0f8a5f851d0": {
      "model_module": "@jupyter-widgets/base",
      "model_module_version": "2.0.0",
      "model_name": "LayoutModel",
      "state": {
       "_model_module": "@jupyter-widgets/base",
       "_model_module_version": "2.0.0",
       "_model_name": "LayoutModel",
       "_view_count": null,
       "_view_module": "@jupyter-widgets/base",
       "_view_module_version": "2.0.0",
       "_view_name": "LayoutView",
       "align_content": null,
       "align_items": null,
       "align_self": null,
       "border_bottom": null,
       "border_left": null,
       "border_right": null,
       "border_top": null,
       "bottom": null,
       "display": null,
       "flex": null,
       "flex_flow": null,
       "grid_area": null,
       "grid_auto_columns": null,
       "grid_auto_flow": null,
       "grid_auto_rows": null,
       "grid_column": null,
       "grid_gap": null,
       "grid_row": null,
       "grid_template_areas": null,
       "grid_template_columns": null,
       "grid_template_rows": null,
       "height": null,
       "justify_content": null,
       "justify_items": null,
       "left": null,
       "margin": null,
       "max_height": null,
       "max_width": null,
       "min_height": null,
       "min_width": null,
       "object_fit": null,
       "object_position": null,
       "order": null,
       "overflow": null,
       "padding": null,
       "right": null,
       "top": null,
       "visibility": null,
       "width": null
      }
     },
     "cf53fc7f925f4b9aa983d3b2a6248e19": {
      "model_module": "@jupyter-widgets/controls",
      "model_module_version": "2.0.0",
      "model_name": "FloatProgressModel",
      "state": {
       "_dom_classes": [],
       "_model_module": "@jupyter-widgets/controls",
       "_model_module_version": "2.0.0",
       "_model_name": "FloatProgressModel",
       "_view_count": null,
       "_view_module": "@jupyter-widgets/controls",
       "_view_module_version": "2.0.0",
       "_view_name": "ProgressView",
       "bar_style": "success",
       "description": "",
       "description_allow_html": false,
       "layout": "IPY_MODEL_4d66edb47e204bf397b022cde1e45177",
       "max": 14.0,
       "min": 0.0,
       "orientation": "horizontal",
       "style": "IPY_MODEL_50ab7cf597b840538aac846aa13ff8d6",
       "tabbable": null,
       "tooltip": null,
       "value": 14.0
      }
     },
     "f00b48df186e40bbaae1b6a74832368c": {
      "model_module": "@jupyter-widgets/controls",
      "model_module_version": "2.0.0",
      "model_name": "HTMLStyleModel",
      "state": {
       "_model_module": "@jupyter-widgets/controls",
       "_model_module_version": "2.0.0",
       "_model_name": "HTMLStyleModel",
       "_view_count": null,
       "_view_module": "@jupyter-widgets/base",
       "_view_module_version": "2.0.0",
       "_view_name": "StyleView",
       "background": null,
       "description_width": "",
       "font_size": null,
       "text_color": null
      }
     },
     "f11bc2c0a53342fab915667c2e890f56": {
      "model_module": "@jupyter-widgets/controls",
      "model_module_version": "2.0.0",
      "model_name": "HTMLModel",
      "state": {
       "_dom_classes": [],
       "_model_module": "@jupyter-widgets/controls",
       "_model_module_version": "2.0.0",
       "_model_name": "HTMLModel",
       "_view_count": null,
       "_view_module": "@jupyter-widgets/controls",
       "_view_module_version": "2.0.0",
       "_view_name": "HTMLView",
       "description": "",
       "description_allow_html": false,
       "layout": "IPY_MODEL_a568d985a90e4eddb58cc0f8a5f851d0",
       "placeholder": "​",
       "style": "IPY_MODEL_f00b48df186e40bbaae1b6a74832368c",
       "tabbable": null,
       "tooltip": null,
       "value": "100%"
      }
     }
    },
    "version_major": 2,
    "version_minor": 0
   }
  }
 },
 "nbformat": 4,
 "nbformat_minor": 5
}