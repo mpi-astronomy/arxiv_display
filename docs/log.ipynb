{
 "cells": [
  {
   "cell_type": "markdown",
   "id": "92bcb855",
   "metadata": {
    "papermill": {
     "duration": 0.00657,
     "end_time": "2022-09-20T05:17:06.641397",
     "exception": false,
     "start_time": "2022-09-20T05:17:06.634827",
     "status": "completed"
    },
    "tags": []
   },
   "source": [
    "# MPIA Arxiv on Deck 2\n",
    "\n",
    "Contains the steps to produce the paper extractions."
   ]
  },
  {
   "cell_type": "code",
   "execution_count": 1,
   "id": "3a0d6e11",
   "metadata": {
    "execution": {
     "iopub.execute_input": "2022-09-20T05:17:06.654623Z",
     "iopub.status.busy": "2022-09-20T05:17:06.653177Z",
     "iopub.status.idle": "2022-09-20T05:17:06.857245Z",
     "shell.execute_reply": "2022-09-20T05:17:06.856290Z"
    },
    "papermill": {
     "duration": 0.213145,
     "end_time": "2022-09-20T05:17:06.859650",
     "exception": false,
     "start_time": "2022-09-20T05:17:06.646505",
     "status": "completed"
    },
    "tags": []
   },
   "outputs": [],
   "source": [
    "# Imports\n",
    "import os\n",
    "from IPython.display import Markdown, display\n",
    "from tqdm.notebook import tqdm\n",
    "import warnings\n",
    "from PIL import Image \n",
    "\n",
    "# requires arxiv_on_deck_2\n",
    "\n",
    "from arxiv_on_deck_2.arxiv2 import (get_new_papers, \n",
    "                                    get_paper_from_identifier,\n",
    "                                    retrieve_document_source, \n",
    "                                    get_markdown_badge)\n",
    "from arxiv_on_deck_2 import (latex, \n",
    "                             mpia,\n",
    "                             highlight_authors_in_list)\n",
    "\n",
    "# Sometimes images are really big\n",
    "Image.MAX_IMAGE_PIXELS = 1000000000 "
   ]
  },
  {
   "cell_type": "code",
   "execution_count": 2,
   "id": "22aa9d44",
   "metadata": {
    "execution": {
     "iopub.execute_input": "2022-09-20T05:17:06.871419Z",
     "iopub.status.busy": "2022-09-20T05:17:06.870856Z",
     "iopub.status.idle": "2022-09-20T05:17:06.876518Z",
     "shell.execute_reply": "2022-09-20T05:17:06.875765Z"
    },
    "papermill": {
     "duration": 0.014123,
     "end_time": "2022-09-20T05:17:06.878830",
     "exception": false,
     "start_time": "2022-09-20T05:17:06.864707",
     "status": "completed"
    },
    "tags": []
   },
   "outputs": [],
   "source": [
    "# Some useful definitions.\n",
    "\n",
    "class AffiliationWarning(UserWarning):\n",
    "    pass\n",
    "\n",
    "class AffiliationError(RuntimeError):\n",
    "    pass\n",
    "\n",
    "def validation(source: str):\n",
    "    \"\"\"Raises error paper during parsing of source file\n",
    "    \n",
    "    Allows checks before parsing TeX code.\n",
    "    \n",
    "    Raises AffiliationWarning\n",
    "    \"\"\"\n",
    "    check = mpia.affiliation_verifications(source, verbose=True)\n",
    "    if check is not True:\n",
    "        raise AffiliationError(\"mpia.affiliation_verifications: \" + check)\n",
    "\n",
    "        \n",
    "warnings.simplefilter('always', AffiliationWarning)"
   ]
  },
  {
   "cell_type": "code",
   "execution_count": 3,
   "id": "14622700",
   "metadata": {
    "execution": {
     "iopub.execute_input": "2022-09-20T05:17:06.890243Z",
     "iopub.status.busy": "2022-09-20T05:17:06.889485Z",
     "iopub.status.idle": "2022-09-20T05:17:06.894134Z",
     "shell.execute_reply": "2022-09-20T05:17:06.893375Z"
    },
    "papermill": {
     "duration": 0.013044,
     "end_time": "2022-09-20T05:17:06.896405",
     "exception": false,
     "start_time": "2022-09-20T05:17:06.883361",
     "status": "completed"
    },
    "tags": []
   },
   "outputs": [],
   "source": [
    "# additional CSS to consider. \n",
    "# TODO: Current into each exported file. \n",
    "#       This should be set once into the webpages directly.\n",
    "#       With only the class/id definitions in the .md files.\n",
    "\n",
    "debug_html = \"\"\"\n",
    "<style>\n",
    "#wrap{ overflow:auto; }\n",
    "#fig1{ background:yellow; width:100%; float:left; padding:5px;  }\n",
    "#fig2{ background:red; width:50%; float:left; clear:left; padding:5px;  }\n",
    "#fig3{ background:green; width:50%; float:left; padding:5px;   }\n",
    ".macros{ background:yellow; visibility:visible;}\n",
    "h1 {margin: 0 0 0 0;}\n",
    "mark {background-color:#fff3b6;}\n",
    "img {object-fit:contain; max-height:250px; display:inline-block; text-align: center;}\n",
    "</style>\n",
    "\"\"\" \n",
    "html = \"\"\"\n",
    "<style>\n",
    "#wrap{ overflow:auto; }\n",
    "#fig1{ width:100%; float:left; padding: 5px;  }\n",
    "#fig2{ width:50%; float:left; clear:left; padding: 5px;  }\n",
    "#fig3{ width:50%; float:left; padding: 5px;  }\n",
    ".macros{ visibility:hidden; height:0px; }\n",
    "h1 {margin: 0em 0 0 0;}\n",
    "mark {background-color:#fff3b6;}\n",
    "img {object-fit:contain; max-height:250px; display:inline-block; text-align: center;}\n",
    "</style>\n",
    "\"\"\""
   ]
  },
  {
   "cell_type": "markdown",
   "id": "14bd6310",
   "metadata": {
    "papermill": {
     "duration": 0.004703,
     "end_time": "2022-09-20T05:17:06.905790",
     "exception": false,
     "start_time": "2022-09-20T05:17:06.901087",
     "status": "completed"
    },
    "tags": []
   },
   "source": [
    "## get list of arxiv paper candidates\n",
    "\n",
    "We use the MPIA mitarbeiter list webpage from mpia.de to get author names\n",
    "We then get all new papers from Arxiv and match authors"
   ]
  },
  {
   "cell_type": "code",
   "execution_count": 4,
   "id": "2645e73a",
   "metadata": {
    "execution": {
     "iopub.execute_input": "2022-09-20T05:17:06.917492Z",
     "iopub.status.busy": "2022-09-20T05:17:06.916648Z",
     "iopub.status.idle": "2022-09-20T05:17:32.851825Z",
     "shell.execute_reply": "2022-09-20T05:17:32.850695Z"
    },
    "papermill": {
     "duration": 25.943193,
     "end_time": "2022-09-20T05:17:32.853796",
     "exception": false,
     "start_time": "2022-09-20T05:17:06.910603",
     "status": "completed"
    },
    "tags": []
   },
   "outputs": [
    {
     "name": "stdout",
     "output_type": "stream",
     "text": [
      "Arxiv has 65 new papers today\n",
      "          27 with possible author matches\n"
     ]
    }
   ],
   "source": [
    "# get list from MPIA website\n",
    "# it automatically filters identified non-scientists :func:`mpia.filter_non_scientists`\n",
    "mpia_authors = mpia.get_mpia_mitarbeiter_list()\n",
    "new_papers = get_new_papers()\n",
    "# add manual references\n",
    "add_paper_refs = []\n",
    "new_papers.extend([get_paper_from_identifier(k) for k in add_paper_refs])\n",
    "\n",
    "# select only papers with matching author names and highlight authors\n",
    "hl_list = [k[0] for k in mpia_authors]\n",
    "\n",
    "candidates = []\n",
    "for paperk in new_papers:\n",
    "    hl_authors = highlight_authors_in_list(paperk['authors'], hl_list)\n",
    "    matches = [(hl, orig) for hl, orig in zip(hl_authors, paperk['authors']) if 'mark' in hl]\n",
    "    paperk['authors'] = hl_authors\n",
    "    if matches:\n",
    "        candidates.append(paperk)\n",
    "print(\"\"\"Arxiv has {0:,d} new papers today\"\"\".format(len(new_papers)))        \n",
    "print(\"\"\"          {0:,d} with possible author matches\"\"\".format(len(candidates)))"
   ]
  },
  {
   "cell_type": "markdown",
   "id": "3543b34a",
   "metadata": {
    "papermill": {
     "duration": 0.004827,
     "end_time": "2022-09-20T05:17:32.865345",
     "exception": false,
     "start_time": "2022-09-20T05:17:32.860518",
     "status": "completed"
    },
    "tags": []
   },
   "source": [
    "# Parse sources and generate relevant outputs\n",
    "\n",
    "From the candidates, we do the following steps:\n",
    "* get their tarball from ArXiv (and extract data)\n",
    "* find the main .tex file: find one with \\documentclass{...} (sometimes it's non trivial)\n",
    "* Check affiliations with :func:`validation`, which uses :func:`mpia.affiliation_verifications`\n",
    "* If passing the affiliations: we parse the .tex source\n",
    "   * inject sub-documents into the main (flatten the main document)\n",
    "   * parse structure, extract information (title, abstract, authors, figures...)\n",
    "   * handles `\\graphicspath` if provided\n",
    "* Generate the .md document."
   ]
  },
  {
   "cell_type": "code",
   "execution_count": 5,
   "id": "9576b79e",
   "metadata": {
    "execution": {
     "iopub.execute_input": "2022-09-20T05:17:32.876981Z",
     "iopub.status.busy": "2022-09-20T05:17:32.876385Z",
     "iopub.status.idle": "2022-09-20T05:21:19.018066Z",
     "shell.execute_reply": "2022-09-20T05:21:19.017052Z"
    },
    "papermill": {
     "duration": 226.150294,
     "end_time": "2022-09-20T05:21:19.020331",
     "exception": false,
     "start_time": "2022-09-20T05:17:32.870037",
     "status": "completed"
    },
    "scrolled": false,
    "tags": []
   },
   "outputs": [
    {
     "data": {
      "application/vnd.jupyter.widget-view+json": {
       "model_id": "d6238081bc4a4cf9b083f45b9ec1f881",
       "version_major": 2,
       "version_minor": 0
      },
      "text/plain": [
       "  0%|          | 0/26 [00:00<?, ?it/s]"
      ]
     },
     "metadata": {},
     "output_type": "display_data"
    },
    {
     "name": "stdout",
     "output_type": "stream",
     "text": [
      "Retrieving document from  https://arxiv.org/e-print/2209.08102\n"
     ]
    },
    {
     "name": "stdout",
     "output_type": "stream",
     "text": [
      "extracting tarball to tmp_2209.08102..."
     ]
    },
    {
     "name": "stdout",
     "output_type": "stream",
     "text": [
      " done.\n",
      "Retrieving document from  https://arxiv.org/e-print/2209.08105\n"
     ]
    },
    {
     "name": "stdout",
     "output_type": "stream",
     "text": [
      "extracting tarball to tmp_2209.08105..."
     ]
    },
    {
     "name": "stdout",
     "output_type": "stream",
     "text": [
      " done.\n",
      "Retrieving document from  https://arxiv.org/e-print/2209.08106\n"
     ]
    },
    {
     "name": "stdout",
     "output_type": "stream",
     "text": [
      "extracting tarball to tmp_2209.08106..."
     ]
    },
    {
     "name": "stdout",
     "output_type": "stream",
     "text": [
      " done.\n"
     ]
    },
    {
     "name": "stdout",
     "output_type": "stream",
     "text": [
      "Retrieving document from  https://arxiv.org/e-print/2209.08120\n"
     ]
    },
    {
     "name": "stdout",
     "output_type": "stream",
     "text": [
      "extracting tarball to tmp_2209.08120..."
     ]
    },
    {
     "name": "stdout",
     "output_type": "stream",
     "text": [
      " done.\n"
     ]
    },
    {
     "name": "stdout",
     "output_type": "stream",
     "text": [
      "Retrieving document from  https://arxiv.org/e-print/2209.08122\n"
     ]
    },
    {
     "name": "stdout",
     "output_type": "stream",
     "text": [
      "extracting tarball to tmp_2209.08122... done.\n",
      "Retrieving document from  https://arxiv.org/e-print/2209.08127\n"
     ]
    },
    {
     "name": "stdout",
     "output_type": "stream",
     "text": [
      "extracting tarball to tmp_2209.08127... done.\n",
      "Retrieving document from  https://arxiv.org/e-print/2209.08153\n"
     ]
    },
    {
     "name": "stdout",
     "output_type": "stream",
     "text": [
      "extracting tarball to tmp_2209.08153..."
     ]
    },
    {
     "name": "stdout",
     "output_type": "stream",
     "text": [
      " done.\n",
      "Retrieving document from  https://arxiv.org/e-print/2209.08216\n"
     ]
    },
    {
     "name": "stdout",
     "output_type": "stream",
     "text": [
      "extracting tarball to tmp_2209.08216..."
     ]
    },
    {
     "name": "stdout",
     "output_type": "stream",
     "text": [
      " done.\n",
      "Retrieving document from  https://arxiv.org/e-print/2209.08242\n"
     ]
    },
    {
     "name": "stdout",
     "output_type": "stream",
     "text": [
      "extracting tarball to tmp_2209.08242..."
     ]
    },
    {
     "name": "stdout",
     "output_type": "stream",
     "text": [
      " done.\n"
     ]
    },
    {
     "name": "stderr",
     "output_type": "stream",
     "text": [
      "/opt/hostedtoolcache/Python/3.9.13/x64/lib/python3.9/site-packages/arxiv_on_deck_2/latex.py:366: LatexWarning: Error parsing the document directly. Trying to recover.\n",
      "  warnings.warn(LatexWarning(f\"Error parsing the document directly. Trying to recover.\"))\n"
     ]
    },
    {
     "name": "stdout",
     "output_type": "stream",
     "text": [
      "✔ → 0:header\n",
      "  ↳ 4577:\\section{Introduction}\n",
      "✔ → 4577:\\section{Introduction}\n",
      "  ↳ 8027:\\section{Data and Detection}\n"
     ]
    },
    {
     "name": "stdout",
     "output_type": "stream",
     "text": [
      "✔ → 8027:\\section{Data and Detection}\n",
      "  ↳ 20428:\\section{Photometric and Structural Properties}\n"
     ]
    },
    {
     "name": "stdout",
     "output_type": "stream",
     "text": [
      "✘ → 20428:\\section{Photometric and Structural Properties}\n",
      "  ↳ 36649:\\section{Dynamics and Metallicity}\n"
     ]
    },
    {
     "name": "stdout",
     "output_type": "stream",
     "text": [
      "✔ → 36649:\\section{Dynamics and Metallicity}\n",
      "  ↳ 47293:\\section{Classification and Conclusions}\n"
     ]
    },
    {
     "name": "stdout",
     "output_type": "stream",
     "text": [
      "✔ → 47293:\\section{Classification and Conclusions}\n",
      "  ↳ 54351:\\section{Ackownledgements}\n",
      "✔ → 54351:\\section{Ackownledgements}\n",
      "  ↳ 57845:end\n"
     ]
    },
    {
     "name": "stdout",
     "output_type": "stream",
     "text": [
      "Retrieving document from  https://arxiv.org/e-print/2209.08328\n"
     ]
    },
    {
     "name": "stdout",
     "output_type": "stream",
     "text": [
      "extracting tarball to tmp_2209.08328..."
     ]
    },
    {
     "name": "stdout",
     "output_type": "stream",
     "text": [
      " done.\n",
      "Retrieving document from  https://arxiv.org/e-print/2209.08360\n"
     ]
    },
    {
     "name": "stdout",
     "output_type": "stream",
     "text": [
      "extracting tarball to tmp_2209.08360..."
     ]
    },
    {
     "name": "stdout",
     "output_type": "stream",
     "text": [
      " done.\n",
      "Retrieving document from  https://arxiv.org/e-print/2209.08489\n"
     ]
    },
    {
     "name": "stdout",
     "output_type": "stream",
     "text": [
      "extracting tarball to tmp_2209.08489..."
     ]
    },
    {
     "name": "stdout",
     "output_type": "stream",
     "text": [
      " done.\n",
      "Retrieving document from  https://arxiv.org/e-print/2209.08502\n"
     ]
    },
    {
     "name": "stderr",
     "output_type": "stream",
     "text": [
      "/opt/hostedtoolcache/Python/3.9.13/x64/lib/python3.9/site-packages/IPython/core/interactiveshell.py:3378: LatexWarning: Multiple tex files.\n",
      "\n",
      "  exec(code_obj, self.user_global_ns, self.user_ns)\n",
      "/opt/hostedtoolcache/Python/3.9.13/x64/lib/python3.9/site-packages/IPython/core/interactiveshell.py:3378: LatexWarning: Found documentclass in tmp_2209.08489/sample631.tex\n",
      "\n",
      "  exec(code_obj, self.user_global_ns, self.user_ns)\n"
     ]
    },
    {
     "name": "stdout",
     "output_type": "stream",
     "text": [
      "extracting tarball to tmp_2209.08502..."
     ]
    },
    {
     "name": "stdout",
     "output_type": "stream",
     "text": [
      " done.\n",
      "Retrieving document from  https://arxiv.org/e-print/2209.08504\n"
     ]
    },
    {
     "name": "stdout",
     "output_type": "stream",
     "text": [
      "extracting tarball to tmp_2209.08504..."
     ]
    },
    {
     "name": "stdout",
     "output_type": "stream",
     "text": [
      " done.\n",
      "Retrieving document from  https://arxiv.org/e-print/2209.08631\n"
     ]
    },
    {
     "name": "stderr",
     "output_type": "stream",
     "text": [
      "/opt/hostedtoolcache/Python/3.9.13/x64/lib/python3.9/site-packages/IPython/core/interactiveshell.py:3378: LatexWarning: Multiple tex files.\n",
      "\n",
      "  exec(code_obj, self.user_global_ns, self.user_ns)\n",
      "/opt/hostedtoolcache/Python/3.9.13/x64/lib/python3.9/site-packages/IPython/core/interactiveshell.py:3378: LatexWarning: Found documentclass in tmp_2209.08504/noc.tex\n",
      "\n",
      "  exec(code_obj, self.user_global_ns, self.user_ns)\n",
      "/opt/hostedtoolcache/Python/3.9.13/x64/lib/python3.9/site-packages/arxiv_on_deck_2/latex.py:292: LatexWarning: Latex injecting: 't2.tex' from 'tmp_2209.08504/t2.tex'\n",
      "  warnings.warn(LatexWarning(f\"Latex injecting: '{ext}' from '{subsource}'\"))\n",
      "/opt/hostedtoolcache/Python/3.9.13/x64/lib/python3.9/site-packages/arxiv_on_deck_2/latex.py:292: LatexWarning: Latex injecting: 't1.tex' from 'tmp_2209.08504/t1.tex'\n",
      "  warnings.warn(LatexWarning(f\"Latex injecting: '{ext}' from '{subsource}'\"))\n"
     ]
    },
    {
     "name": "stdout",
     "output_type": "stream",
     "text": [
      "extracting tarball to tmp_2209.08631..."
     ]
    },
    {
     "name": "stdout",
     "output_type": "stream",
     "text": [
      " done.\n",
      "Retrieving document from  https://arxiv.org/e-print/2209.08654\n"
     ]
    },
    {
     "name": "stdout",
     "output_type": "stream",
     "text": [
      "extracting tarball to tmp_2209.08654..."
     ]
    },
    {
     "name": "stdout",
     "output_type": "stream",
     "text": [
      " done.\n",
      "Retrieving document from  https://arxiv.org/e-print/2209.08755\n"
     ]
    },
    {
     "name": "stderr",
     "output_type": "stream",
     "text": [
      "/opt/hostedtoolcache/Python/3.9.13/x64/lib/python3.9/site-packages/IPython/core/interactiveshell.py:3378: LatexWarning: Multiple tex files.\n",
      "\n",
      "  exec(code_obj, self.user_global_ns, self.user_ns)\n",
      "/opt/hostedtoolcache/Python/3.9.13/x64/lib/python3.9/site-packages/IPython/core/interactiveshell.py:3378: LatexWarning: Found documentclass in tmp_2209.08654/SnowmassBook-CosmicProbes.tex\n",
      "\n",
      "  exec(code_obj, self.user_global_ns, self.user_ns)\n"
     ]
    },
    {
     "name": "stdout",
     "output_type": "stream",
     "text": [
      "extracting tarball to tmp_2209.08755..."
     ]
    },
    {
     "name": "stdout",
     "output_type": "stream",
     "text": [
      " done.\n",
      "Retrieving document from  https://arxiv.org/e-print/2209.08783\n"
     ]
    },
    {
     "name": "stdout",
     "output_type": "stream",
     "text": [
      "extracting tarball to tmp_2209.08783..."
     ]
    },
    {
     "name": "stdout",
     "output_type": "stream",
     "text": [
      " done.\n",
      "Retrieving document from  https://arxiv.org/e-print/2209.08822\n"
     ]
    },
    {
     "name": "stdout",
     "output_type": "stream",
     "text": [
      "extracting tarball to tmp_2209.08822..."
     ]
    },
    {
     "name": "stdout",
     "output_type": "stream",
     "text": [
      " done.\n",
      "Retrieving document from  https://arxiv.org/e-print/2209.08883\n"
     ]
    },
    {
     "name": "stdout",
     "output_type": "stream",
     "text": [
      "extracting tarball to tmp_2209.08883..."
     ]
    },
    {
     "name": "stdout",
     "output_type": "stream",
     "text": [
      " done.\n",
      "Retrieving document from  https://arxiv.org/e-print/2209.09037\n"
     ]
    },
    {
     "name": "stdout",
     "output_type": "stream",
     "text": [
      "extracting tarball to tmp_2209.09037..."
     ]
    },
    {
     "name": "stdout",
     "output_type": "stream",
     "text": [
      " done.\n",
      "Retrieving document from  https://arxiv.org/e-print/2209.09041\n"
     ]
    },
    {
     "name": "stdout",
     "output_type": "stream",
     "text": [
      "extracting tarball to tmp_2209.09041..."
     ]
    },
    {
     "name": "stdout",
     "output_type": "stream",
     "text": [
      " done.\n",
      "Retrieving document from  https://arxiv.org/e-print/2209.09047\n"
     ]
    },
    {
     "name": "stdout",
     "output_type": "stream",
     "text": [
      "extracting tarball to tmp_2209.09047..."
     ]
    },
    {
     "name": "stdout",
     "output_type": "stream",
     "text": [
      " done.\n",
      "Retrieving document from  https://arxiv.org/e-print/2209.09052\n"
     ]
    },
    {
     "name": "stderr",
     "output_type": "stream",
     "text": [
      "/opt/hostedtoolcache/Python/3.9.13/x64/lib/python3.9/site-packages/IPython/core/interactiveshell.py:3378: LatexWarning: Multiple tex files.\n",
      "\n",
      "  exec(code_obj, self.user_global_ns, self.user_ns)\n",
      "/opt/hostedtoolcache/Python/3.9.13/x64/lib/python3.9/site-packages/IPython/core/interactiveshell.py:3378: LatexWarning: Found documentclass in tmp_2209.09047/CLASSY.tex\n",
      "\n",
      "  exec(code_obj, self.user_global_ns, self.user_ns)\n"
     ]
    },
    {
     "name": "stdout",
     "output_type": "stream",
     "text": [
      "extracting tarball to tmp_2209.09052..."
     ]
    },
    {
     "name": "stdout",
     "output_type": "stream",
     "text": [
      " done.\n",
      "Retrieving document from  https://arxiv.org/e-print/2209.09088\n"
     ]
    },
    {
     "name": "stdout",
     "output_type": "stream",
     "text": [
      "extracting tarball to tmp_2209.09088..."
     ]
    },
    {
     "name": "stdout",
     "output_type": "stream",
     "text": [
      " done.\n",
      "Retrieving document from  https://arxiv.org/e-print/2209.09112\n"
     ]
    },
    {
     "name": "stdout",
     "output_type": "stream",
     "text": [
      "extracting tarball to tmp_2209.09112..."
     ]
    },
    {
     "name": "stdout",
     "output_type": "stream",
     "text": [
      " done.\n"
     ]
    }
   ],
   "source": [
    "documents = []\n",
    "failed = []\n",
    "for paper in tqdm(candidates[:-1]):\n",
    "    paper_id = paper['identifier'].lower().replace('arxiv:', '')\n",
    "    \n",
    "    folder = f'tmp_{paper_id}'\n",
    "\n",
    "    try:\n",
    "        if not os.path.isdir(folder):\n",
    "            folder = retrieve_document_source(f\"{paper_id}\", f'tmp_{paper_id}')\n",
    "        \n",
    "        try:\n",
    "            doc = latex.LatexDocument(folder, validation=validation)    \n",
    "        except AffiliationError as affilerror:\n",
    "            msg = f\"ArXiv:{paper_id:s} is not an MPIA paper... \" + str(affilerror)\n",
    "            failed.append((paper, \"affiliation error: \" + str(affilerror) ))\n",
    "            continue\n",
    "        \n",
    "        # Hack because sometimes author parsing does not work well\n",
    "        if (len(doc.authors) != len(paper['authors'])):\n",
    "            doc._authors = paper['authors']\n",
    "        if (doc.abstract) in (None, ''):\n",
    "            doc._abstract = paper['abstract']\n",
    "            \n",
    "        doc.comment = (get_markdown_badge(paper_id) + \n",
    "                       \"<mark>Appeared on: \" + paper['date'] + \"</mark> - \" +\n",
    "                       \"_\" + paper['comments'] + \"_\")\n",
    "        doc.highlight_authors_in_list(hl_list)\n",
    "\n",
    "        full_md = doc.generate_markdown_text()\n",
    "        \n",
    "        documents.append((paper_id, full_md))\n",
    "    except Exception as e:\n",
    "        warnings.warn(latex.LatexWarning(f\"{paper_id:s} did not run properly\\n\" +\n",
    "                                         str(e)\n",
    "                                        ))\n",
    "        failed.append((paper, \"latex error \" + str(e)))"
   ]
  },
  {
   "cell_type": "markdown",
   "id": "2505a25c",
   "metadata": {
    "papermill": {
     "duration": 0.008516,
     "end_time": "2022-09-20T05:21:19.038474",
     "exception": false,
     "start_time": "2022-09-20T05:21:19.029958",
     "status": "completed"
    },
    "tags": []
   },
   "source": [
    "### Export the logs\n",
    "\n",
    "Throughout, we also keep track of the logs per paper. see `logs-{today date}.md` "
   ]
  },
  {
   "cell_type": "code",
   "execution_count": 6,
   "id": "d733828a",
   "metadata": {
    "execution": {
     "iopub.execute_input": "2022-09-20T05:21:19.057815Z",
     "iopub.status.busy": "2022-09-20T05:21:19.057221Z",
     "iopub.status.idle": "2022-09-20T05:21:19.102814Z",
     "shell.execute_reply": "2022-09-20T05:21:19.101987Z"
    },
    "papermill": {
     "duration": 0.057598,
     "end_time": "2022-09-20T05:21:19.104681",
     "exception": false,
     "start_time": "2022-09-20T05:21:19.047083",
     "status": "completed"
    },
    "scrolled": false,
    "tags": []
   },
   "outputs": [
    {
     "data": {
      "text/markdown": [
       "## Successful papers"
      ],
      "text/plain": [
       "<IPython.core.display.Markdown object>"
      ]
     },
     "metadata": {},
     "output_type": "display_data"
    },
    {
     "data": {
      "text/markdown": [
       "\n",
       "|||\n",
       "|---:|:---|\n",
       "| [![arXiv](https://img.shields.io/badge/arXiv-arXiv:2209.08106-b31b1b.svg)](https://arxiv.org/abs/arXiv:2209.08106) | **Limits on the Diffuse Gamma-Ray Background above 10 TeV with HAWC**  |\n",
       "|| HAWC Collaboration, et al. -- incl., <mark>R. Alfaro</mark>, <mark>R. Diaz Hernandez</mark>, <mark>S. Hernandez</mark>, <mark>A. Lara</mark>, <mark>W.H. Lee</mark>, <mark>J.T. Linnemann</mark> |\n",
       "|*Appeared on*| *2022-09-20*|\n",
       "|*Comments*| *8 pages, 3 figures*|\n",
       "|**Abstract**| The high-energy Diffuse Gamma-Ray Background (DGRB) is expected to be produced by unresolved isotropically distributed astrophysical objects, potentially including dark matter annihilation or decay emissions in galactic or extragalactic structures. The DGRB has only been observed below 1 TeV; above this energy, upper limits have been reported. Observations or stringent limits on the DGRB above this energy could have significant multi-messenger implications, such as constraining the origin of TeV-PeV astrophysical neutrinos detected by IceCube. The High Altitude Water Cherenkov (HAWC) Observatory, located in central Mexico at 4100 m above sea level, is sensitive to gamma rays from a few hundred GeV to several hundred TeV and continuously observes a wide field-of-view (2 sr). With its high-energy reach and large area coverage, HAWC is well-suited to notably improve searches for the DGRB at TeV energies. In this work, strict cuts have been applied to the HAWC dataset to better isolate gamma-ray air showers from background hadronic showers. The sensitivity to the DGRB was then verified using 535 days of Crab data and Monte Carlo simulations, leading to new limits above 10 TeV on the DGRB as well as prospective implications for multi-messenger studies. |"
      ],
      "text/plain": [
       "[arXiv:2209.08106] Limits on the Diffuse Gamma-Ray Background above 10 TeV with HAWC\n",
       "\tHAWC Collaboration, et al. -- incl., <mark>R. Alfaro</mark>, <mark>R. Diaz Hernandez</mark>, <mark>S. Hernandez</mark>, <mark>A. Lara</mark>, <mark>W.H. Lee</mark>, <mark>J.T. Linnemann</mark>"
      ]
     },
     "metadata": {},
     "output_type": "display_data"
    },
    {
     "data": {
      "text/markdown": [
       "\n",
       "|||\n",
       "|---:|:---|\n",
       "| [![arXiv](https://img.shields.io/badge/arXiv-arXiv:2209.08120-b31b1b.svg)](https://arxiv.org/abs/arXiv:2209.08120) | **Exoplanet Imaging Data Challenge, phase II: Characterization of  exoplanet signals in high-contrast images**  |\n",
       "|| F. Cantalloube, et al. -- incl., <mark>E. Nasedkin</mark>, <mark>M. Samland Ruffio J.-B.i</mark> |\n",
       "|*Appeared on*| *2022-09-20*|\n",
       "|*Comments*| *Submitted to SPIE Astronomical Telescopes + Instrumentation 2022, Adaptive Optics Systems VIII, Paper 12185-4*|\n",
       "|**Abstract**| Today, there exists a wide variety of algorithms dedicated to high-contrast imaging, especially for the detection and characterisation of exoplanet signals. These algorithms are tailored to address the very high contrast between the exoplanet signal(s), which can be more than two orders of magnitude fainter than the bright starlight residuals in coronagraphic images. The starlight residuals are inhomogeneously distributed and follow various timescales that depend on the observing conditions and on the target star brightness. Disentangling the exoplanet signals within the starlight residuals is therefore challenging, and new post-processing algorithms are striving to achieve more accurate astrophysical results. The Exoplanet Imaging Data Challenge is a community-wide effort to develop, compare and evaluate algorithms using a set of benchmark high-contrast imaging datasets. After a first phase ran in 2020 and focused on the detection capabilities of existing algorithms, the focus of this ongoing second phase is to compare the characterisation capabilities of state-of-the-art techniques. The characterisation of planetary companions is two-fold: the astrometry (estimated position with respect to the host star) and spectrophotometry (estimated contrast with respect to the host star, as a function of wavelength). The goal of this second phase is to offer a platform for the community to benchmark techniques in a fair, homogeneous and robust way, and to foster collaborations. |"
      ],
      "text/plain": [
       "[arXiv:2209.08120] Exoplanet Imaging Data Challenge, phase II: Characterization of  exoplanet signals in high-contrast images\n",
       "\tF. Cantalloube, et al. -- incl., <mark>E. Nasedkin</mark>, <mark>M. Samland Ruffio J.-B.i</mark>"
      ]
     },
     "metadata": {},
     "output_type": "display_data"
    },
    {
     "data": {
      "text/markdown": [
       "\n",
       "|||\n",
       "|---:|:---|\n",
       "| [![arXiv](https://img.shields.io/badge/arXiv-arXiv:2209.08242-b31b1b.svg)](https://arxiv.org/abs/arXiv:2209.08242) | **Discovery of a new Local Group Dwarf Galaxy Candidate in UNIONS:  Boötes V**  |\n",
       "|| <mark>Simon E.T. Smith</mark>, et al. |\n",
       "|*Appeared on*| *2022-09-20*|\n",
       "|*Comments*| *13 pages, 7 figures, 3 tables. Submitted to the AAS Journals. Please note that this paper is being submitted in coordination with the work of William Cerny et al. These authors independently discovered this same satellite so our two research groups have coordinated the submission of these discovery papers*|\n",
       "|**Abstract**| We present the discovery of Bo\\\"otes V, a new ultra-faint dwarf galaxy candidate. This satellite is detected as a resolved overdensity of stars during an ongoing search for new Local Group dwarf galaxy candidates in the UNIONS photometric dataset. It has a physical half-light radius of 26.9$^{+7.5}_{-5.4}$ pc, a $V$-band magnitude of $-$4.5 $\\pm$ 0.4 mag, and resides at a heliocentric distance of approximately 100 kpc. We use Gaia DR3 astrometry to identify member stars, characterize the systemic proper motion, and confirm the reality of this faint stellar system. The brightest star in this system was followed up using Gemini GMOS-N long-slit spectroscopy and is measured to have a metallicity of [Fe/H] $=$ -2.85 $\\pm$ 0.10 dex and a heliocentric radial velocity of $v_r$ = 5.1 $\\pm$ 13.4 km s$^{-1}$. Bo\\\"otes V is larger (in terms of scale radius), more distant, and more metal-poor than the vast majority of globular clusters. It is likely that Bo\\\"otes V is an ultra-faint dwarf galaxy, though future spectroscopic studies will be necessary to definitively classify this object. |"
      ],
      "text/plain": [
       "[arXiv:2209.08242] Discovery of a new Local Group Dwarf Galaxy Candidate in UNIONS:  Boötes V\n",
       "\t<mark>Simon E.T. Smith</mark>, et al."
      ]
     },
     "metadata": {},
     "output_type": "display_data"
    },
    {
     "data": {
      "text/markdown": [
       "## Failed papers"
      ],
      "text/plain": [
       "<IPython.core.display.Markdown object>"
      ]
     },
     "metadata": {},
     "output_type": "display_data"
    },
    {
     "data": {
      "text/markdown": [
       "\n",
       "|||\n",
       "|---:|:---|\n",
       "| [![arXiv](https://img.shields.io/badge/arXiv-arXiv:2209.09047-b31b1b.svg)](https://arxiv.org/abs/arXiv:2209.09047) | **CLASSY IV: Exploring UV diagnostics of the interstellar medium in local  high-$z$ analogs at the dawn of the JWST era**  |\n",
       "|| Matilde Mingozzi, et al. -- incl., <mark>Tim Heckman</mark>, <mark>Alaina Henry</mark>, <mark>Svea Hernandez</mark> |\n",
       "|*Appeared on*| *2022-09-20*|\n",
       "|*Comments*| *Resubmitted to ApJ*|\n",
       "|**Abstract**| The COS Legacy Archive Spectroscopic SurveY (CLASSY) HST/COS treasury program provides the first high-resolution spectral catalogue of 45 local high-z analogues in the UV (1200-2000{\\AA}) to investigate their stellar and gas properties. We present a toolkit of UV interstellar medium (ISM) diagnostics, analyzing the main emission lines of CLASSY spectra (i.e., NIV]{\\lambda}{\\lambda}1483,87, CIV{\\lambda}{\\lambda}1548,51, HeII{\\lambda}1640, OIII]{\\lambda}{\\lambda}1661,6, SiIII]{\\lambda}{\\lambda}1883,92, CIII]{\\lambda}{\\lambda}1907,9). Specifically, we focus our investigation on providing accurate diagnostics for reddening, electron density and temperature, gas-phase metallicity and ionization parameter, taking into account the different ionization zones of the ISM. We calibrate our UV toolkit using well-known optical diagnostics, analyzing archival optical spectra for all the CLASSY targets. We find that UV density diagnostics estimate ne values that are ~1-2 dex higher (e.g., ne(CIII]{\\lambda}{\\lambda}1907,9)~10^4cm^{-3}) than those inferred from their optical counterparts (e.g., ne([SII]{\\lambda}{\\lambda}6717,31)~10^2cm^{-3}). Te derived from the hybrid ratio OIII]{\\lambda}1666/[OIII]{\\lambda}5007 proves to be a reliable Te diagnostic, with differences in 12+log(O/H) within ~+/-0.3dex. We also investigate the relation between the stellar and gas E(B-V), finding consistent values at high specific star formation rates, while at low sSFR we confirm an excess of dust attenuation in the gas. Finally, we investigate UV line ratios and equivalent widths to provide correlations with 12+log(O/H) and log(U), but note there are degeneracies between the two. With this suite of UV-based diagnostics, we illustrate the pivotal role CLASSY plays in understanding the chemical and physical properties of high-z systems that JWST can observe in the rest-frame UV. |\n",
       "|<p style=\"color:green\"> **ERROR** </p>| <p style=\"color:green\">affiliation error: mpia.affiliation_verifications: '69117' keyword not found.</p> |"
      ],
      "text/plain": [
       "<IPython.core.display.Markdown object>"
      ]
     },
     "metadata": {},
     "output_type": "display_data"
    },
    {
     "data": {
      "text/markdown": [
       "\n",
       "|||\n",
       "|---:|:---|\n",
       "| [![arXiv](https://img.shields.io/badge/arXiv-arXiv:2209.08102-b31b1b.svg)](https://arxiv.org/abs/arXiv:2209.08102) | **A dark matter solution to the $H_{0}$ and $σ_{8}$ tensions, and the  integrated Sachs-Wolfe void anomaly**  |\n",
       "|| Krishna Naidoo, Mariana Jaber, <mark>Wojciech A. Hellwing</mark>, Maciej Bilicki |\n",
       "|*Appeared on*| *2022-09-20*|\n",
       "|*Comments*| *5 pages (+references) and 3 figures. Comments welcome*|\n",
       "|**Abstract**| We consider a phenomenological model of dark matter with an equation-of-state that is negative and changing at late times. We show this couples the $H_{0}$ and $\\sigma_{8}$ tensions, providing an explanation for both simultaneously, while also providing an explanation for the anomalously large integrated Sachs-Wolfe (ISW) effect from cosmic voids. Observations of high ISW from cosmic voids may therefore be evidence that dark matter plays a significant role in the $H_{0}$ and $\\sigma_{8}$ tensions. We predict the ISW from cosmic voids to be a factor of ~ 2 greater in this model than what is expected from the standard model $\\Lambda$CDM. |\n",
       "|<p style=\"color:green\"> **ERROR** </p>| <p style=\"color:green\">affiliation error: mpia.affiliation_verifications: 'Heidelberg' keyword not found.</p> |"
      ],
      "text/plain": [
       "<IPython.core.display.Markdown object>"
      ]
     },
     "metadata": {},
     "output_type": "display_data"
    },
    {
     "data": {
      "text/markdown": [
       "\n",
       "|||\n",
       "|---:|:---|\n",
       "| [![arXiv](https://img.shields.io/badge/arXiv-arXiv:2209.08105-b31b1b.svg)](https://arxiv.org/abs/arXiv:2209.08105) | **The Effect of Stars on the Dark Matter Spike Around a Black Hole: A Tale  of Two Treatments**  |\n",
       "|| Stuart L. Shapiro, <mark>Douglas C. Heggie</mark> |\n",
       "|*Appeared on*| *2022-09-20*|\n",
       "|*Comments*| *12 pages, 6 figures*|\n",
       "|**Abstract**| We revisit the role that gravitational scattering off stars plays in establishing the steady-state distribution of collisionless dark matter (DM) around a massive black hole (BH). This is a physically interesting problem that has potentially observable signatures, such as $\\gamma-$rays from DM annihilation in a density spike. The system serves as a laboratory for comparing two different dynamical approaches, both of which have been widely used: a Fokker-Planck treatment and a two-component conduction fluid treatment. In our Fokker-Planck analysis we extend a previous analytic model to account for a nonzero flux of DM particles into the BH, as well as a cut-off in the distribution function near the BH due to relativistic effects or, further out, possible DM annihilation. In our two-fluid analysis, following an approximate analytic treatment, we recast the equations as a \"heated Bondi accretion\" problem and solve the equations numerically without approximation. While both the Fokker-Planck and two-fluid methods yield basically the same DM density and velocity dispersion profiles away from the boundaries in the spike interior, there are other differences, especially the determination of the DM accretion rate. We discuss limitations of the two treatments, including the assumption of an isotropic velocity dispersion. |\n",
       "|<p style=\"color:green\"> **ERROR** </p>| <p style=\"color:green\">affiliation error: mpia.affiliation_verifications: 'Heidelberg' keyword not found.</p> |"
      ],
      "text/plain": [
       "<IPython.core.display.Markdown object>"
      ]
     },
     "metadata": {},
     "output_type": "display_data"
    },
    {
     "data": {
      "text/markdown": [
       "\n",
       "|||\n",
       "|---:|:---|\n",
       "| [![arXiv](https://img.shields.io/badge/arXiv-arXiv:2209.08122-b31b1b.svg)](https://arxiv.org/abs/arXiv:2209.08122) | **Using TeV Cosmic Rays to probe the Heliosphere's Boundary with the Local  Interstellar Medium**  |\n",
       "|| Paolo Desiati, et al. -- incl., <mark>Ming Zhang</mark> |\n",
       "|*Appeared on*| *2022-09-20*|\n",
       "|*Comments*| *White Paper for the Decadal Survey for Solar and Space Physics (Heliophysics) 2024-2033*|\n",
       "|**Abstract**| The heliosphere is the magnetic structure formed by the Sun's atmosphere extending into the local interstellar medium (ISM). The boundary separating the heliosphere from the ISM is a still largely unexplored region of space. Even though both Voyager spacecraft entered the local ISM and are delivering data, they are two points piercing a vast region of space at specific times. The heliospheric boundary regulates the penetration of MeV- GeV galactic cosmic rays (CR) in the inner heliosphere. Interstellar keV neutral atoms are crucial to the outer heliosphere since they can penetrate unperturbed and transfer energy to the solar wind. Missions such as NASA's IBEX and Cassini are designed to detect neutral atoms and monitor charge exchange processes at the heliospheric boundary. The heliosphere does not modulate the TeV CR intensity, but it does influence their arrival direction distribution. Ground-based CR observatories have provided accurate maps of CR anisotropy as a function of energy in the last couple of decades. Combining observations to produce all-sky coverage makes it possible to investigate the heliosphere's impact on TeV CR particles. We can numerically calculate the pristine TeV CR distribution in the local ISM with state-of-the-art heliosphere models. Only by subtracting the heliospheric influence is it possible to use TeV CR observations to infer propagation properties and the characteristics of magnetic turbulence in the ISM. Numerical calculations of CR particle trajectories through heliospheric models provide a complementary tool to probe the boundary region properties. A program boosting heliospheric modeling with emphasis on the boundary region and promoting combined CR experimental data analyses from multiple experiments benefits CR astrophysics and provides additional data and tools to explore the interaction between the heliosphere and the local ISM. |\n",
       "|<p style=\"color:green\"> **ERROR** </p>| <p style=\"color:green\">affiliation error: mpia.affiliation_verifications: 'Heidelberg' keyword not found.</p> |"
      ],
      "text/plain": [
       "<IPython.core.display.Markdown object>"
      ]
     },
     "metadata": {},
     "output_type": "display_data"
    },
    {
     "data": {
      "text/markdown": [
       "\n",
       "|||\n",
       "|---:|:---|\n",
       "| [![arXiv](https://img.shields.io/badge/arXiv-arXiv:2209.08127-b31b1b.svg)](https://arxiv.org/abs/arXiv:2209.08127) | **Milky Way Zero-Point Calibration of the JAGB Method: Using Thermally  Pulsing AGB Stars in Galactic Open Clusters**  |\n",
       "|| Barry F. Madore, Wendy L. Freedman, <mark>Abigail J. Lee</mark>, Kayla Owens |\n",
       "|*Appeared on*| *2022-09-20*|\n",
       "|*Comments*| *Accepted to the Astrophysical Journal Sept 15 2022*|\n",
       "|**Abstract**| We present a new calibration of the J-band absolute magnitude of the JAGB method based on thermally pulsing AGB stars that are members of Milky Way open clusters, having distances and reddenings, independently compiled and published by Marigo et al (2022). 17 of these photometrically-selected J-Branch AGB stars give M_J = -6.40 mag with a scatter of +/-0.40 mag, and a sigma on the mean of +/-0.10 mag. Combining the Milky Way field carbon star calibration of Lee et al. (2021) with this determination gives a weighted average of M_J(MW) = -6.19 +/- 0.04 mag (error on the mean). This value is statistically indistinguishable from the value determined for this population of distance indicators in the LMC and SMC, giving further evidence that JAGB stars are extremely reliable distance indicators of high luminosity and universal applicability. Combining the zero points for JAGB stars in these three systems, a value of M_J = -6.20 +/- 0.01 (stat) +/- 0.04 (sys) mag becomes our best current estimate of the JAGB zero point and its associated errors. Finally, we note that no evidence is found for any statistically significant dependence of this zero point on metallicity. |\n",
       "|<p style=\"color:green\"> **ERROR** </p>| <p style=\"color:green\">affiliation error: mpia.affiliation_verifications: 'Heidelberg' keyword not found.</p> |"
      ],
      "text/plain": [
       "<IPython.core.display.Markdown object>"
      ]
     },
     "metadata": {},
     "output_type": "display_data"
    },
    {
     "data": {
      "text/markdown": [
       "\n",
       "|||\n",
       "|---:|:---|\n",
       "| [![arXiv](https://img.shields.io/badge/arXiv-arXiv:2209.08153-b31b1b.svg)](https://arxiv.org/abs/arXiv:2209.08153) | **A VLA Study of Newly-Discovered Southern Latitude Non-Thermal Filaments  in the Galactic Center: Radio Continuum Total-intensity and Spectral Index  Properties**  |\n",
       "|| Dylan M. Paré, <mark>Cornelia C. Lang</mark>, Mark R. Morris |\n",
       "|*Appeared on*| *2022-09-20*|\n",
       "|*Comments*| *18 pages, 13 figures, 2 tables. Submitted to ApJ for peer-review*|\n",
       "|**Abstract**| The non-thermal filament (NTF) radio structures clustered within a few hundred parsecs of the Galactic Center (GC) are apparently unique to this region of the Galaxy. Recent radio images of the GC using MeerKAT at 1 GHz have revealed a multitude of faint, previously unknown NTF bundles (NTFBs), some of which are comprised of as many as 10 or more individual filaments. In this work we present Very Large Array (VLA) observations at C- and X-bands (4 - 12 GHz) at arcsecond-scale resolutions of three of these newly-discovered NTFBs, all located at southern Galactic latitudes. These observations allow us to compare their total-intensity properties with those of the larger NTF population. We find that these targets generally possess properties similar to what is observed in the larger NTF population. However, the larger NTF population generally has steeper spectral index values than what we observe for our chosen targets. The results presented here based on the total-intensity properties of these structures indicate that the NTFs are likely all formed from Cosmic Rays (CRs). These CRs are either generated by a nearby compact source and then diffuse along the NTF lengths or are generated by extended, magnetized structures whose magnetic field undergoes reconnection with the NTF magnetic field. |\n",
       "|<p style=\"color:green\"> **ERROR** </p>| <p style=\"color:green\">affiliation error: mpia.affiliation_verifications: 'Heidelberg' keyword not found.</p> |"
      ],
      "text/plain": [
       "<IPython.core.display.Markdown object>"
      ]
     },
     "metadata": {},
     "output_type": "display_data"
    },
    {
     "data": {
      "text/markdown": [
       "\n",
       "|||\n",
       "|---:|:---|\n",
       "| [![arXiv](https://img.shields.io/badge/arXiv-arXiv:2209.08216-b31b1b.svg)](https://arxiv.org/abs/arXiv:2209.08216) | **The kinematics and excitation of infrared water vapor emission from  planet-forming disks: results from spectrally-resolved surveys and guidelines  for JWST spectra**  |\n",
       "|| Andrea Banzatti, et al. -- incl., <mark>Lindsey Diehl</mark>, <mark>Greg J. Herczeg</mark>, <mark>Arthur D. Bosman</mark>, <mark>Michael R. Meyer</mark> |\n",
       "|*Appeared on*| *2022-09-20*|\n",
       "|*Comments*| *Posted on arXiv as submitted to AJ, for immediate access by teams working on the analysis of JWST spectra*|\n",
       "|**Abstract**| This work presents water emission spectra at wavelengths covered by JWST (2.9-12.8 $\\mu$m) as spectrally-resolved with high resolving powers (R = 30,000-100,000) using ground-based spectrographs. Two new surveys with iSHELL and VISIR are combined with previous spectra from CRIRES and TEXES to cover parts of multiple ro-vibrational and rotational bands observable within telluric transmission bands, for a total of 85 disks and $\\approx160$ spectra. The general expectation of a range of regions and excitation conditions traced by infrared water spectra is for the first time supported by the combined kinematics and excitation as spectrally resolved at multiple wavelengths. The main findings from this analysis are: 1) water lines are progressively narrower going from the ro-vibrational bands at 2-9 $\\mu$m to the rotational lines at 12 $\\mu$m, and partly match a broad (BC) and narrow (NC) emission components, respectively, as extracted from ro-vibrational CO spectra; 2) rotation diagrams of resolved water lines from upper level energies of 4000-9500 K show curvatures indicative of optically thick emission ($\\approx 10^{18}$ cm$^{-2}$) from a range of excitation temperatures ($\\approx$ 800-1100 K); 3) the new 5 $\\mu$m spectra demonstrate that slab model fits to the rotational lines at $> 10 \\mu$m strongly over-predict the ro-vibrational emission bands at $< 9 \\mu$m, implying non-LTE excitation. We discuss these findings in the context of a emission from a disk surface and a molecular inner disk wind, and provide a list of detailed guidelines to support the analysis and interpretation of spectrally-unresolved JWST spectra. |\n",
       "|<p style=\"color:green\"> **ERROR** </p>| <p style=\"color:green\">affiliation error: mpia.affiliation_verifications: 'Heidelberg' keyword not found.</p> |"
      ],
      "text/plain": [
       "<IPython.core.display.Markdown object>"
      ]
     },
     "metadata": {},
     "output_type": "display_data"
    },
    {
     "data": {
      "text/markdown": [
       "\n",
       "|||\n",
       "|---:|:---|\n",
       "| [![arXiv](https://img.shields.io/badge/arXiv-arXiv:2209.08328-b31b1b.svg)](https://arxiv.org/abs/arXiv:2209.08328) | **Towards a Better Understanding of OPD Limitations for Higher Sensitivity  and Contrast at the VLTI**  |\n",
       "|| Benjamin Courtney-Barrer, et al. -- incl., <mark>Vicente Lizana</mark>, <mark>Frank Eisenhauer</mark> |\n",
       "|*Appeared on*| *2022-09-20*|\n",
       "|*Comments*| **|\n",
       "|**Abstract**| Precise control of the optical path differences (OPD) in the Very Large Telescope Interferometer (VLTI) was critical for the characterization of the black hole at the center of our Galaxy - leading to the 2020 Nobel prize in physics. There is now significant effort to push these OPD limits even further, in-particular achieving 100nm OPD RMS on the 8m unit telescopes (UT's) to allow higher contrast and sensitivity at the VLTI. This work calculated the theoretical atmospheric OPD limit of the VLTI as 5nm and 15nm RMS, with current levels around 200nm and 100nm RMS for the UT and 1.8m auxillary telescopes (AT's) respectively, when using bright targets in good atmospheric conditions. We find experimental evidence for the $f^{-17/3}$ power law theoretically predicted from the effect of telescope filtering in the case of the ATs which is not currently observed for the UT's. Fitting a series of vibrating mirrors modelled as dampened harmonic oscillators, we were able to model the UT OPD PSD of the gravity fringe tracker to $<1nm/\\sqrt{Hz}$ RMSE up to 100Hz, which could adequately explain a hidden $f^{-17/3}$ power law on the UTs. Vibration frequencies in the range of 60-90Hz and also 40-50Hz were found to generally dominate the closed loop OPD residuals of Gravity. Cross correlating accelerometer with Gravity data, it was found that strong contributions in the 40-50Hz range are coming from the M1-M3 mirrors, while a significant portion of power from the 60-100Hz contributions are likely coming from between the M4-M10. From the vibrating mirror model it was shown that achieving sub 100nm OPD RMS for particular baselines (that have OPD$\\sim$200nm RMS) required removing nearly all vibration sources below 100Hz. |\n",
       "|<p style=\"color:green\"> **ERROR** </p>| <p style=\"color:green\">affiliation error: mpia.affiliation_verifications: 'Heidelberg' keyword not found.</p> |"
      ],
      "text/plain": [
       "<IPython.core.display.Markdown object>"
      ]
     },
     "metadata": {},
     "output_type": "display_data"
    },
    {
     "data": {
      "text/markdown": [
       "\n",
       "|||\n",
       "|---:|:---|\n",
       "| [![arXiv](https://img.shields.io/badge/arXiv-arXiv:2209.08360-b31b1b.svg)](https://arxiv.org/abs/arXiv:2209.08360) | **Refining the prediction for OJ 287 next impact flare arrival epoch**  |\n",
       "|| Mauri J. Valtonen, et al. -- incl., <mark>Helen Jermak</mark> |\n",
       "|*Appeared on*| *2022-09-20*|\n",
       "|*Comments*| *16 pages, 2 figures*|\n",
       "|**Abstract**| The bright blazar OJ~287 routinely parades high brightness bremsstrahlung flares which are explained as being a result of a secondary supermassive black hole (SMBH) impacting the accretion disk of a primary SMBH in a binary system. We begin by showing that these flares occur at times predicted by a simple analytical formula, based on the Kepler equation, which explains flares since 1888. The next impact flare, namely the flare number 26, is rather peculiar as it breaks the typical pattern of two impact flares per 12 year cycle. This will be the third bremsstrahlung flare of the current cycle that follows the already observed 2015 and 2019 impact flares from OJ~287. Unfortunately, astrophysical considerations make it difficult to predict the exact arrival epoch of the flare number 26. In the second part of the paper, we describe our recent OJ~287 observations. They show that the pre-flare light curve of flare number 22, observed in 2005, exhibits similar activity as the pre-flare light curve in 2022, preceding the expected flare number 26 in our model. We argue that the pre-flare activity most likely arises in the primary jet whose activity is modulated by the transit of the secondary SMBH through the accretion disk of the primary. Observing the next impact flare of OJ~287 in October 2022 will substantiate the theory of disk impacts in binary black hole systems. |\n",
       "|<p style=\"color:green\"> **ERROR** </p>| <p style=\"color:green\">affiliation error: mpia.affiliation_verifications: 'Heidelberg' keyword not found.</p> |"
      ],
      "text/plain": [
       "<IPython.core.display.Markdown object>"
      ]
     },
     "metadata": {},
     "output_type": "display_data"
    },
    {
     "data": {
      "text/markdown": [
       "\n",
       "|||\n",
       "|---:|:---|\n",
       "| [![arXiv](https://img.shields.io/badge/arXiv-arXiv:2209.08489-b31b1b.svg)](https://arxiv.org/abs/arXiv:2209.08489) | **The key parameters controlling the photodesorption yield in interstellar  CO ice analogs: Influence of ice deposition temperature and thickness**  |\n",
       "|| N.-E. Sie, et al. -- incl., <mark>H.-C. Lin</mark> |\n",
       "|*Appeared on*| *2022-09-20*|\n",
       "|*Comments*| *8 pages, 4 figures*|\n",
       "|**Abstract**| The overabundance of gas molecules in the coldest regions of space point to a non-thermal desorption process. Laboratory simulations show an efficient desorption of CO ice exposed to ultraviolet radiation, known as photodesorption, which decreases for increasing ice deposition temperature. However, the understanding of this abnormal phenomenon has remained elusive. In this work we show the same phenomenon, and in particular, a dramatic drop in the photodesorption yield is observed when the deposition temperature is 19 K and higher. Also the minimum ice thickness that accounts for a constant photodesorption yield of CO ice is deposition temperature dependent, an observation reported here for the first time. We propose that the key parameters that dominate the absorbed photon energy transfer in CO ice, and contribute to the measured photodesorption yields are the energy transfer length, single ice layer contributed desorption yield, and relative effective surface area. This set of parameters should be incorporated in astrophysical models that simulate photodesorption of the top CO-rich ice layer on icy dust populations with the size distribution which is ice thickness related. |\n",
       "|<p style=\"color:green\"> **ERROR** </p>| <p style=\"color:green\">affiliation error: mpia.affiliation_verifications: 'Heidelberg' keyword not found.</p> |"
      ],
      "text/plain": [
       "<IPython.core.display.Markdown object>"
      ]
     },
     "metadata": {},
     "output_type": "display_data"
    },
    {
     "data": {
      "text/markdown": [
       "\n",
       "|||\n",
       "|---:|:---|\n",
       "| [![arXiv](https://img.shields.io/badge/arXiv-arXiv:2209.08502-b31b1b.svg)](https://arxiv.org/abs/arXiv:2209.08502) | **Null test for cosmic curvature using Gaussian process**  |\n",
       "|| Peng-Ju Wu, Jing-Zhao Qi, <mark>Xin Zhang</mark> |\n",
       "|*Appeared on*| *2022-09-20*|\n",
       "|*Comments*| *10 pages, 4 figures*|\n",
       "|**Abstract**| The cosmic curvature $\\Omega_{K,0}$, which determines the spatial geometry of the universe, is an important parameter in modern cosmology. Any deviation from $\\Omega_{K,0}=0$ would have a profound impact on primordial inflation paradigm and fundamental physics. In this work, we adopt a model-independent method to test whether $\\Omega_{K,0}$ deviates from zero. We use the Gaussian process to reconstruct the reduced Hubble parameter $E(z)$ and the derivative of distance $D'(z)$ from observational data, and then determine $\\Omega_{K,0}$ with a null test relation. The cosmic chronometer (CC) Hubble data, baryon acoustic oscillation (BAO) Hubble data, and supernovae Pantheon sample are considered. Our result is consistent with a spatially flat universe within the domain of reconstruction $0<z<2.3$, at the $1\\sigma$ confidence level. In the redshift interval $0<z<1$, the result favors a flat universe, while at $z>1$, it tends to favor a closed universe. In this sense, there is still a possibility for a closed universe. We also carry out the null test of the cosmic curvature at $0<z<4.5$ using the simulated gravitational wave standard sirens, CC+BAO and redshift drift Hubble data. The result shows that in the future, with the synergy of multiple high-quality observations, we can tightly constrain the spatial geometry or exclude the flat universe. |\n",
       "|<p style=\"color:green\"> **ERROR** </p>| <p style=\"color:green\">affiliation error: mpia.affiliation_verifications: 'Heidelberg' keyword not found.</p> |"
      ],
      "text/plain": [
       "<IPython.core.display.Markdown object>"
      ]
     },
     "metadata": {},
     "output_type": "display_data"
    },
    {
     "data": {
      "text/markdown": [
       "\n",
       "|||\n",
       "|---:|:---|\n",
       "| [![arXiv](https://img.shields.io/badge/arXiv-arXiv:2209.08504-b31b1b.svg)](https://arxiv.org/abs/arXiv:2209.08504) | **Unveiling hidden stellar aggregates in the Milky Way: 1656 new star  clusters found in Gaia EDR3**  |\n",
       "|| <mark>Zhihong He</mark>, et al. -- incl., <mark>Xiaochen Liu</mark> |\n",
       "|*Appeared on*| *2022-09-20*|\n",
       "|*Comments*| *16 pages, 11 figures, 2 tables with full clusters/members data link in CDS*|\n",
       "|**Abstract**| We report 1,656 new star clusters found in the Galactic disk (|b|<20 degrees) beyond 1.2 kpc, using Gaia EDR3 data. Based on an unsupervised machine learning algorithm, DBSCAN, and followed our previous studies, we utilized a unique method to do the data preparation and obtained the clustering coefficients, which proved to be an effective way to search blindly for star clusters. We tabulated the physical parameters and member stars of the new clusters, and presented some interesting examples, including a globular cluster candidate. The cluster parameters and member stars are available at CDS via anonymous ftp to https://cdsarc.cds.unistra.fr/ftp/vizier.submit//he22c. We examined the new discoveries and discussed their statistical properties. The proper motion dispersions and radii of the new clusters were the same as the previously reported ones. The new star clusters beyond 1.2 kpc were older than those in the solar neighborhood, and the new objects found in the third Galactic quadrant presented the lowest line-of-sight extinctions. Combined with our previous results, the total population of new clusters detected through our method was 2,541, corresponding to 55% of all newly published clusters in the Gaia era. The number of cataloged Gaia star clusters was also increased to nearly six thousand. In the near future, it is necessary to make a unified confirmation and member star determination for all reported clusters. |\n",
       "|<p style=\"color:green\"> **ERROR** </p>| <p style=\"color:green\">affiliation error: mpia.affiliation_verifications: 'Heidelberg' keyword not found.</p> |"
      ],
      "text/plain": [
       "<IPython.core.display.Markdown object>"
      ]
     },
     "metadata": {},
     "output_type": "display_data"
    },
    {
     "data": {
      "text/markdown": [
       "\n",
       "|||\n",
       "|---:|:---|\n",
       "| [![arXiv](https://img.shields.io/badge/arXiv-arXiv:2209.08631-b31b1b.svg)](https://arxiv.org/abs/arXiv:2209.08631) | **Halo heating from fluctuating gas in a model dwarf**  |\n",
       "|| <mark>Mahmoud Hashim</mark>, et al. |\n",
       "|*Appeared on*| *2022-09-20*|\n",
       "|*Comments*| *15 pages, 17 figures. Comments welcomed*|\n",
       "|**Abstract**| The cold dark matter (CDM) structure formation scenario faces challenges on (sub)galactic scales, central among them being the `cusp-core' problem. A known remedy, driving CDM out of galactic centres, invokes interactions with baryons, through fluctuations in the gravitational potential arising from feedback or orbiting clumps of gas or stars. Here we interpret core formation in a hydrodynamic simulation in terms of a theoretical formulation, which may be considered a generalisation of Chandrasekhar's theory of two body relaxation to the case when the density fluctuations do not arise from white noise; it presents a simple characterisation of the effects of complex hydrodynamics and `subgrid physics'. The power spectrum of gaseous fluctuations is found to follow a power law over a range of scales, appropriate for a fully turbulent compressible medium. The potential fluctuations leading to core formation are nearly normally distributed, which allows for the energy transfer leading to core formation to be described as a standard diffusion process, initially increasing the velocity dispersion of test particles as in Chandrasekhar's theory. We calculate the energy transfer from the fluctuating gas to the halo and find it consistent with theoretical expectations. We also examine how the initial kinetic energy input to halo particles is redistributed to form a core. The temporal mass decrease inside the forming core may be fit by an exponential form; a simple prescription based on our model associates the characteristic timescale with an energy relaxation time. We compare the resulting theoretical density distribution with that in the simulation. |\n",
       "|<p style=\"color:green\"> **ERROR** </p>| <p style=\"color:green\">affiliation error: mpia.affiliation_verifications: 'Heidelberg' keyword not found.</p> |"
      ],
      "text/plain": [
       "<IPython.core.display.Markdown object>"
      ]
     },
     "metadata": {},
     "output_type": "display_data"
    },
    {
     "data": {
      "text/markdown": [
       "\n",
       "|||\n",
       "|---:|:---|\n",
       "| [![arXiv](https://img.shields.io/badge/arXiv-arXiv:2209.08654-b31b1b.svg)](https://arxiv.org/abs/arXiv:2209.08654) | **Report of the Topical Group on Dark Energy and Cosmic Acceleration:  Complementarity of Probes and New Facilities for Snowmass 2021**  |\n",
       "|| Brenna Flaugher, et al. -- incl., <mark>Lindsey E. Bleem</mark>, <mark>Katrin Heitmann</mark>, <mark>Eric V. Linder</mark>, <mark>Joel Meyers</mark>, <mark>Yuanyuan Zhang</mark> |\n",
       "|*Appeared on*| *2022-09-20*|\n",
       "|*Comments*| *Submitted to the Proceedings of the US Community Study on the Future of Particle Physics (Snowmass 2021); Topical Group Report for CF06 (Cosmic Frontier Topical Group on Dark Energy and Cosmic Acceleration: Complementarity of Probes and New Facilities*|\n",
       "|**Abstract**| The mechanism(s) driving the early- and late-time accelerated expansion of the Universe represent one of the most compelling mysteries in fundamental physics today. The path to understanding the causes of early- and late-time acceleration depends on fully leveraging ongoing surveys, developing and demonstrating new technologies, and constructing and operating new instruments. This report presents a multi-faceted vision for the cosmic survey program in the 2030s and beyond that derives from these considerations. Cosmic surveys address a wide range of fundamental physics questions, and are thus a unique and powerful component of the HEP experimental portfolio. |\n",
       "|<p style=\"color:green\"> **ERROR** </p>| <p style=\"color:green\">affiliation error: mpia.affiliation_verifications: 'Heidelberg' keyword not found.</p> |"
      ],
      "text/plain": [
       "<IPython.core.display.Markdown object>"
      ]
     },
     "metadata": {},
     "output_type": "display_data"
    },
    {
     "data": {
      "text/markdown": [
       "\n",
       "|||\n",
       "|---:|:---|\n",
       "| [![arXiv](https://img.shields.io/badge/arXiv-arXiv:2209.08755-b31b1b.svg)](https://arxiv.org/abs/arXiv:2209.08755) | **Forward Modeling of Magnetic-field Measurements at the Bases of Stellar  Coronae through Extreme-Ultraviolet Spectroscopy**  |\n",
       "|| <mark>Xianyu Liu</mark>, et al. -- incl., <mark>Wenxian Li</mark> |\n",
       "|*Appeared on*| *2022-09-20*|\n",
       "|*Comments*| *12 pages, 7 figures*|\n",
       "|**Abstract**| Measurements of the stellar coronal magnetic field are of great importance in understanding the stellar magnetic activity, yet the measurements have been extremely difficult. Recent studies proposed a new method of magnetic field measurements based on the magnetic-field-induced-transition (MIT) of the Fe~{\\sc{x}} ion. Here we construct a series of stellar coronal magnetohydrodynamics (MHD) models and synthesize several Fe~{\\sc{x}} emission lines at extreme-ultraviolet wavelengths, and then diagnose the magnetic field strength at the bases of the coronae using the MIT technique. Our results show that the technique can be applied to some stars with magnetic fields more than three times higher than that of the Sun at solar maximum. Furthermore, we investigate the uncertainty of the derived magnetic field strength caused by photon counting error and find that a signal-noise ratio of $\\sim$50 for the Fe~{\\sc{x}} 175 {\\AA}~line is required to achieve effective measurements of the stellar coronal magnetic field. |\n",
       "|<p style=\"color:green\"> **ERROR** </p>| <p style=\"color:green\">affiliation error: mpia.affiliation_verifications: 'Heidelberg' keyword not found.</p> |"
      ],
      "text/plain": [
       "<IPython.core.display.Markdown object>"
      ]
     },
     "metadata": {},
     "output_type": "display_data"
    },
    {
     "data": {
      "text/markdown": [
       "\n",
       "|||\n",
       "|---:|:---|\n",
       "| [![arXiv](https://img.shields.io/badge/arXiv-arXiv:2209.08783-b31b1b.svg)](https://arxiv.org/abs/arXiv:2209.08783) | **The fate of baryons in counterfactual universes**  |\n",
       "|| Boon Kiat Oh, John A. Peacock, Sadegh Khochfar, <mark>Britton D. Smith</mark> |\n",
       "|*Appeared on*| *2022-09-20*|\n",
       "|*Comments*| *18 pages, 10 figures, MNRAS: MN-22-1662-MJ.R1*|\n",
       "|**Abstract**| We present results from nine simulations that compare the standard $\\Lambda$ Cold Dark Matter cosmology ($\\Lambda$CDM) with counterfactual universes, for approximately $100\\,{\\rm Gyr}$ using the Enzo simulation code. We vary the value of $\\Lambda$ and the fluctuation amplitude to explore the effect on the evolution of the halo mass function (HMF), the intergalactic medium (IGM) and the star formation history (SFH). The distinct peak in star formation rate density (SFRD) and its subsequent decline are both affected by the interplay between gravitational attraction and the accelerating effects of $\\Lambda$. The IGM cools down more rapidly in models with a larger $\\Lambda$ and also with a lower $\\sigma_8$, reflecting the reduced SFRD associated with these changes -- although changing $\\sigma_8$ is not degenerate with changing $\\Lambda$, either regarding the thermal history of the IGM or the SFH. However, these induced changes to the IGM or ionizing background have little impact on the calculated SFRD. We provide fits for the evolution of the SFRD in these different universes, which we integrate over time to derive an asymptotic star formation efficiency. Together with Weinberg's uniform prior on $\\Lambda$, the estimated probability of observers experiencing a value of $\\Lambda$ no greater than the observed value is 13%, substantially larger than some alternative estimates. Within the Enzo model framework, then, observer selection within a multiverse is able to account statistically for the small value of the cosmological constant, although $\\Lambda$ in our universe does appear to be at the low end of the predicted range. |\n",
       "|<p style=\"color:green\"> **ERROR** </p>| <p style=\"color:green\">affiliation error: mpia.affiliation_verifications: 'Heidelberg' keyword not found.</p> |"
      ],
      "text/plain": [
       "<IPython.core.display.Markdown object>"
      ]
     },
     "metadata": {},
     "output_type": "display_data"
    },
    {
     "data": {
      "text/markdown": [
       "\n",
       "|||\n",
       "|---:|:---|\n",
       "| [![arXiv](https://img.shields.io/badge/arXiv-arXiv:2209.08822-b31b1b.svg)](https://arxiv.org/abs/arXiv:2209.08822) | **Adapting the pyramid wavefront sensor for pupil fragmentation of the ELT  class telescopes**  |\n",
       "|| Nicolas Levraud, et al. -- incl., <mark>Mahawa Cissé</mark>, <mark>Enrico Pinna</mark> |\n",
       "|*Appeared on*| *2022-09-20*|\n",
       "|*Comments*| **|\n",
       "|**Abstract**| The next generation of Extremely Large Telescope (24 to 39m diameter) will suffer from the so-called \"pupil fragmentation\" problem. Due to their pupil shape complexity (segmentation, large spiders ...), some differential pistons may appear between some isolated part of the full pupil during the observations. Although classical AO system will be able to correct for turbulence effects, they will be blind to this specific telescope induced perturbations. Hence, such differential piston, a.k.a petal modes, will prevent to reach the diffraction limit of the telescope and ultimately will represent the main limitation of AO-assisted observation with an ELT. In this work we analyse the spatial structure of these petal modes and how it affects the ability of a Pyramid Wavefront sensor to sense them. Then we propose a variation around the classical Pyramid concept for increasing the WFS sensitivity to this particular modes. Nevertheless, We show that one single WFS can not accurately and simultaneously measure turbulence and petal modes. We propose a double path wavefront sensor scheme to solve this problem. We show that such a scheme,associated to a spatial filtering of residual turbulence in the second WFS path dedicated to petal mode sensing, allows to fully measure and correct for both turbulence and fragmentation effects and will eventually restore the full capability and spatial resolution of the future ELT. |\n",
       "|<p style=\"color:green\"> **ERROR** </p>| <p style=\"color:green\">affiliation error: mpia.affiliation_verifications: 'Heidelberg' keyword not found.</p> |"
      ],
      "text/plain": [
       "<IPython.core.display.Markdown object>"
      ]
     },
     "metadata": {},
     "output_type": "display_data"
    },
    {
     "data": {
      "text/markdown": [
       "\n",
       "|||\n",
       "|---:|:---|\n",
       "| [![arXiv](https://img.shields.io/badge/arXiv-arXiv:2209.08883-b31b1b.svg)](https://arxiv.org/abs/arXiv:2209.08883) | **Reconstructing the neutron star equation of state from observational  data via automatic differentiation**  |\n",
       "|| Shriya Soma, et al. -- incl., <mark>Lingxiao Wang</mark> |\n",
       "|*Appeared on*| *2022-09-20*|\n",
       "|*Comments*| *7 pages, 5 figures*|\n",
       "|**Abstract**| The equation of state (EoS) that describes extremely dense matter under strong interactions is not completely understood. One reason is that the first-principle calculations of the EoS at finite chemical potential are challenging in nuclear physics. However, neutron star observables like masses, radii, moment of inertia and tidal deformability are direct probes to the EoS and hence make the EoS reconstruction task feasible. In this work, we present results from a novel deep learning technique that optimizes a parameterized equation of state in the automatic differentiation framework. We predict stellar structures from a pre-trained Tolman-Oppenheimer-Volkoff (TOV) solver network, given an EoS represented by neural networks. The latest observational data of neutron stars, specifically their masses and radii, are used to implement the chi-square fitting. We optimize the parameters of the neural network EoS by minimizing the error between observations and predictions. The well-trained neural network EoS gives an estimate of the relationship between the pressure and the mass density. The results presented are consistent with those from conventional approaches and the experimental bound on the tidal deformability inferred from the gravitational wave event, GW170817. |\n",
       "|<p style=\"color:green\"> **ERROR** </p>| <p style=\"color:green\">affiliation error: mpia.affiliation_verifications: 'Heidelberg' keyword not found.</p> |"
      ],
      "text/plain": [
       "<IPython.core.display.Markdown object>"
      ]
     },
     "metadata": {},
     "output_type": "display_data"
    },
    {
     "data": {
      "text/markdown": [
       "\n",
       "|||\n",
       "|---:|:---|\n",
       "| [![arXiv](https://img.shields.io/badge/arXiv-arXiv:2209.09037-b31b1b.svg)](https://arxiv.org/abs/arXiv:2209.09037) | **Modeling the flare in NGC 1097 from 1991 to 2004 as a tidal disruption  event**  |\n",
       "|| <mark>Zhang XueGuang</mark> |\n",
       "|*Appeared on*| *2022-09-20*|\n",
       "|*Comments*| *5 pages, 3 figures, 1 table, Accepted to be published in MNRAS Letter*|\n",
       "|**Abstract**| In the Letter, interesting evidence is reported to support a central tidal disruption event (TDE) in the known AGN NGC 1097. Considering the motivations of TDE as one probable origination of emission materials of double-peaked broad emission lines and also as one probable explanation to changing-look AGN, it is interesting to check whether are there clues to support a TDE in NGC 1097, not only a changing-look AGN but also an AGN with double-peaked broad emission lines. Under the assumption that the onset of broad H$\\alpha$ emission was due to a TDE, the 13years-long (1991-2004) variability of double-peaked broad H$\\alpha$ line flux in NGC 1097 can be well predicted by theoretical TDE model, with a $(1-1.5){\\rm M_\\odot}$ main-sequence star tidally disrupted by the central BH with TDE model determined mass about $(5-8)\\times10^7{\\rm M_\\odot}$. The results provide interesting evidence to not only support TDE-related origin of double-peaked broad line emission materials but also support TDE as an accepted physical explanation to physical properties of changing-look AGN. |\n",
       "|<p style=\"color:green\"> **ERROR** </p>| <p style=\"color:green\">affiliation error: mpia.affiliation_verifications: 'Heidelberg' keyword not found.</p> |"
      ],
      "text/plain": [
       "<IPython.core.display.Markdown object>"
      ]
     },
     "metadata": {},
     "output_type": "display_data"
    },
    {
     "data": {
      "text/markdown": [
       "\n",
       "|||\n",
       "|---:|:---|\n",
       "| [![arXiv](https://img.shields.io/badge/arXiv-arXiv:2209.09041-b31b1b.svg)](https://arxiv.org/abs/arXiv:2209.09041) | **A Photometric and Spectroscopic Study of the Short-Period Algol EW  Boötis with a $δ$ Sct Pulsator**  |\n",
       "|| Hye-Young Kim, et al. -- incl., <mark>Jae Woo Lee</mark> |\n",
       "|*Appeared on*| *2022-09-20*|\n",
       "|*Comments*| *27 pages, 8 figures, Accepted for publication in AJ*|\n",
       "|**Abstract**| In this paper, we present TESS photometry and high-resolution spectra of the short-period Algol EW Boo. We obtained double-lined radial velocities (RVs) from the time-series spectra and measured the effective temperature of the primary star as $T_{\\rm{eff,1}}$ = 8560 $\\pm$ 118 K. For the orbital period study, we collected all times of minima available for over the last 30 years. It was found that the eclipse timing variation of the system could be represented by a periodic oscillation of 17.6 $\\pm$ 0.3 years with a semi-amplitude of 0.0041 $\\pm$ 0.0001 d. The orbital and physical parameters were derived by simultaneously analyzing the TESS light and RV curves using the Wilson-Devinney (WD) binary star modeling code. The component masses and radii were showed over 3% precision: $M_{1}$ = 2.67 $\\pm $ 0.08 M$_{\\odot}$, $M_{2}$ = 0.43 $\\pm $ 0.01 M$_{\\odot}$, $R_{1}$ = 2.01 $\\pm $ 0.02 R$_{\\odot}$, and $R_{2}$ = 1.35 $\\pm $ 0.01 R$_{\\odot}$. Furthermore, multiple frequency analyses were performed for the light-curve residuals from the WD model. As a result, we detected 17 pressure-mode pulsations in the region of 40.15 - 52.37 d$^{-1}$. The absolute dimensions and pulsation characteristics showed that the $\\delta$ Sct pulsator was the more massive and hotter primary star of the EW Boo. |\n",
       "|<p style=\"color:green\"> **ERROR** </p>| <p style=\"color:green\">affiliation error: mpia.affiliation_verifications: 'Heidelberg' keyword not found.</p> |"
      ],
      "text/plain": [
       "<IPython.core.display.Markdown object>"
      ]
     },
     "metadata": {},
     "output_type": "display_data"
    },
    {
     "data": {
      "text/markdown": [
       "\n",
       "|||\n",
       "|---:|:---|\n",
       "| [![arXiv](https://img.shields.io/badge/arXiv-arXiv:2209.09052-b31b1b.svg)](https://arxiv.org/abs/arXiv:2209.09052) | **Double Shells of the Planetary Nebula NGC 7009 Minor Axis**  |\n",
       "|| <mark>Seong-Jae Lee</mark>, Siek Hyung, Masaaki Otsuka |\n",
       "|*Appeared on*| *2022-09-20*|\n",
       "|*Comments*| *15 pages, 9 figures, accepted for publication in ApJ*|\n",
       "|**Abstract**| We analyzed the minor axis spectra of the elliptical planetary nebula (PN) NGC 7009 observed with the Keck HIRES with a 0.862$\"$ $\\times$ 10$\"$ slit placed at about $\\sim$7.5$\"$ and 10$\"$ away from the center and a 0.862$\"$ $\\times$ 14$\"$ slit at the center. The mean densities derived from the integrated [SII] 6716/6731\\r{A}, fluxes along the Keck HIRES slit length indicate a density range of 10$^{3.7}$ to 10$^{4.1}$ cm$^{-3}$, while the local densities derived from the slit spectral images show a large local density variation of about 10$^{2.8}$ - 10$^{4.6}$ cm$^{-3}$: local densities vary substantially more than values integrated over the line of sight. The expansion rates of the main and outer shells obtained by [SII] are about 21.7 and 30.0 kms$^{-1}$, respectively. The kinematic results of the [SII] spectral lines correspond to the outermost regions of the two shells and are not representative of the whole PN but are closely related to the other emission lines observed in the shell gas. We conclude that the density contrast leads to the formation of the inner shell, while the change in ionization state leads to the formation of the outer shell. We suggest that the inner main and outer shells result from two successive major ejections. The physical conditions of the central star must have been different when these shells first formed. |\n",
       "|<p style=\"color:green\"> **ERROR** </p>| <p style=\"color:green\">affiliation error: mpia.affiliation_verifications: 'Heidelberg' keyword not found.</p> |"
      ],
      "text/plain": [
       "<IPython.core.display.Markdown object>"
      ]
     },
     "metadata": {},
     "output_type": "display_data"
    },
    {
     "data": {
      "text/markdown": [
       "\n",
       "|||\n",
       "|---:|:---|\n",
       "| [![arXiv](https://img.shields.io/badge/arXiv-arXiv:2209.09088-b31b1b.svg)](https://arxiv.org/abs/arXiv:2209.09088) | **The shape of dark matter haloes: results from weak lensing in the  Ultraviolet Near-Infrared Optical Northern Survey (UNIONS)**  |\n",
       "|| Bailey Robison, et al. -- incl., <mark>Hendrik Hildebrandt</mark> |\n",
       "|*Appeared on*| *2022-09-20*|\n",
       "|*Comments*| **|\n",
       "|**Abstract**| Cold dark matter haloes are expected to be triaxial, and so appear elliptical in projection. We use weak gravitational lensing from the Canada-France Imaging Survey (CFIS) component of the Ultraviolet-Near Infrared Optical Northern Survey (UNIONS) to measure the ellipticity of the dark matter haloes around Luminous Red Galaxies (LRGs) from the Sloan Digital Sky Survey Data Release 7 (DR7) and from the CMASS and LOWZ samples of the Baryon Oscillation Spectroscopic Survey (BOSS), assuming their major axes are aligned with the stellar light. We find that DR7 LRGs with masses $M \\sim 2.5\\times10^{13} \\textrm{M}_{\\odot}/h$ have halo ellipticities $e=0.35\\pm0.09$. Expressed as a fraction of the galaxy ellipticity, we find $f_h = 1.4\\pm0.4$. For BOSS LRGs, the detection is of marginal significance: $e = 0.17\\pm0.10$ and $f_h=0.1\\pm0.4$. These results are in agreement with other measurements of halo ellipticity from weak lensing and, taken together with previous results, suggest an increase of halo ellipticity of $0.10\\pm0.05$ per decade in halo mass. This trend agrees with the predictions from hydrodynamical simulations, which find that at higher halo masses, not only do dark matter haloes become more elliptical, but that the misalignment between major axis of the stellar light in the central galaxy and that of the dark matter decreases. |\n",
       "|<p style=\"color:green\"> **ERROR** </p>| <p style=\"color:green\">affiliation error: mpia.affiliation_verifications: 'Heidelberg' keyword not found.</p> |"
      ],
      "text/plain": [
       "<IPython.core.display.Markdown object>"
      ]
     },
     "metadata": {},
     "output_type": "display_data"
    },
    {
     "data": {
      "text/markdown": [
       "\n",
       "|||\n",
       "|---:|:---|\n",
       "| [![arXiv](https://img.shields.io/badge/arXiv-arXiv:2209.09112-b31b1b.svg)](https://arxiv.org/abs/arXiv:2209.09112) | **SPECULOOS Northern Observatory: searching for red worlds in the northern  skies**  |\n",
       "|| Artem Y. Burdanov, et al. -- incl., <mark>Lionel Garcia</mark>, <mark>James McCormac</mark> |\n",
       "|*Appeared on*| *2022-09-20*|\n",
       "|*Comments*| *Accepted for publication in PASP (Publications of the Astronomical Society of the Pacific), 13 pages, 9 figures*|\n",
       "|**Abstract**| SPECULOOS is a ground-based transit survey consisting of six identical 1-m robotic telescopes. The immediate goal of the project is to detect temperate terrestrial planets transiting nearby ultracool dwarfs (late M-dwarf stars and brown dwarfs), which could be amenable for atmospheric research with the next generation of telescopes. Here, we report the developments of the northern counterpart of the project - SPECULOOS Northern Observatory, and present its performance during the first three years of operations from mid-2019 to mid-2022. Currently, the observatory consists of one telescope, which is named Artemis. The Artemis telescope demonstrates remarkable photometric precision, allowing it to be ready to detect new transiting terrestrial exoplanets around ultracool dwarfs. Over the period of the first three years after the installation, we observed 96 objects from the SPECULOOS target list for 6000 hours with a typical photometric precision of $0.5\\%$, and reaching a precision of $0.2\\%$ for relatively bright non-variable targets with a typical exposure time of 25 sec. Our weather downtime (clouds, high wind speed, high humidity, precipitation and/or high concentration of dust particles in the air) over the period of three years was 30% of overall night time. Our actual downtime is 40% because of additional time loss associated with technical problems. |\n",
       "|<p style=\"color:green\"> **ERROR** </p>| <p style=\"color:green\">affiliation error: mpia.affiliation_verifications: 'Heidelberg' keyword not found.</p> |"
      ],
      "text/plain": [
       "<IPython.core.display.Markdown object>"
      ]
     },
     "metadata": {},
     "output_type": "display_data"
    }
   ],
   "source": [
    "import datetime\n",
    "today = str(datetime.date.today())\n",
    "logfile = f\"_build/html/logs/log-{today}.md\"\n",
    "\n",
    "\n",
    "with open(logfile, 'w') as logs:\n",
    "    # Success\n",
    "    logs.write(f'# Arxiv on Deck 2: Logs - {today}\\n\\n')\n",
    "    logs.write(\"\"\"* Arxiv had {0:,d} new papers\\n\"\"\".format(len(new_papers)))\n",
    "    logs.write(\"\"\"    * {0:,d} with possible author matches\\n\\n\"\"\".format(len(candidates)))\n",
    "    logs.write(\"## Sucessful papers\\n\\n\")\n",
    "    display(Markdown(\"## Successful papers\"))\n",
    "    success = [k[0] for k in documents]\n",
    "    for candid in candidates:\n",
    "        if candid['identifier'].split(':')[-1] in success:\n",
    "            display(candid)\n",
    "            logs.write(candid.generate_markdown_text() + '\\n\\n')\n",
    "\n",
    "    ## failed\n",
    "    logs.write(\"## Failed papers\\n\\n\")\n",
    "    display(Markdown(\"## Failed papers\"))\n",
    "    failed = sorted(failed, key=lambda x: x[1])\n",
    "    current_reason = \"\"\n",
    "    for paper, reason in failed:\n",
    "        if 'affiliation' in reason:\n",
    "            color = 'green'\n",
    "        else:\n",
    "            color = 'red'\n",
    "        data = Markdown(\n",
    "                paper.generate_markdown_text() + \n",
    "                f'\\n|<p style=\"color:{color:s}\"> **ERROR** </p>| <p style=\"color:{color:s}\">{reason:s}</p> |'\n",
    "               )\n",
    "        if reason != current_reason:\n",
    "            logs.write(f'### {reason:s} \\n\\n')\n",
    "            current_reason = reason\n",
    "        logs.write(data.data + '\\n\\n')\n",
    "        \n",
    "        # only display here the important errors (all in logs)\n",
    "        # if color in ('red',):\n",
    "        display(data)"
   ]
  },
  {
   "cell_type": "markdown",
   "id": "472d20ee",
   "metadata": {
    "papermill": {
     "duration": 0.012568,
     "end_time": "2022-09-20T05:21:19.129769",
     "exception": false,
     "start_time": "2022-09-20T05:21:19.117201",
     "status": "completed"
    },
    "tags": []
   },
   "source": [
    "## Export documents\n",
    "\n",
    "We now write the .md files and export relevant images"
   ]
  },
  {
   "cell_type": "code",
   "execution_count": 7,
   "id": "d426aed9",
   "metadata": {
    "execution": {
     "iopub.execute_input": "2022-09-20T05:21:19.157074Z",
     "iopub.status.busy": "2022-09-20T05:21:19.156188Z",
     "iopub.status.idle": "2022-09-20T05:21:19.166462Z",
     "shell.execute_reply": "2022-09-20T05:21:19.165650Z"
    },
    "papermill": {
     "duration": 0.025898,
     "end_time": "2022-09-20T05:21:19.168353",
     "exception": false,
     "start_time": "2022-09-20T05:21:19.142455",
     "status": "completed"
    },
    "tags": []
   },
   "outputs": [],
   "source": [
    "def export_markdown_summary(md: str, md_fname:str, directory: str):\n",
    "    \"\"\"Export MD document and associated relevant images\"\"\"\n",
    "    import os\n",
    "    import shutil\n",
    "    import re\n",
    "\n",
    "    if (os.path.exists(directory) and not os.path.isdir(directory)):\n",
    "        raise RuntimeError(f\"a non-directory file exists with name {directory:s}\")\n",
    "\n",
    "    if (not os.path.exists(directory)):\n",
    "        print(f\"creating directory {directory:s}\")\n",
    "        os.mkdir(directory)\n",
    "\n",
    "    fig_fnames = (re.compile(r'\\[Fig.*\\]\\((.*)\\)').findall(md) + \n",
    "                  re.compile(r'\\<img src=\"([^>\\s]*)\"[^>]*/>').findall(md))\n",
    "    for fname in fig_fnames:\n",
    "        if 'http' in fname:\n",
    "            # No need to copy online figures\n",
    "            continue\n",
    "        destdir = os.path.join(directory, os.path.dirname(fname))\n",
    "        destfname = os.path.join(destdir, os.path.basename(fname))\n",
    "        try:\n",
    "            os.makedirs(destdir)\n",
    "        except FileExistsError:\n",
    "            pass\n",
    "        shutil.copy(fname, destfname)\n",
    "    with open(os.path.join(directory, md_fname), 'w') as fout:\n",
    "        fout.write(md)\n",
    "    print(\"exported in \", os.path.join(directory, md_fname))\n",
    "    [print(\"    + \" + os.path.join(directory,fk)) for fk in fig_fnames]"
   ]
  },
  {
   "cell_type": "code",
   "execution_count": 8,
   "id": "014d04a4",
   "metadata": {
    "execution": {
     "iopub.execute_input": "2022-09-20T05:21:19.196903Z",
     "iopub.status.busy": "2022-09-20T05:21:19.195920Z",
     "iopub.status.idle": "2022-09-20T05:21:19.238876Z",
     "shell.execute_reply": "2022-09-20T05:21:19.237729Z"
    },
    "papermill": {
     "duration": 0.06023,
     "end_time": "2022-09-20T05:21:19.241184",
     "exception": false,
     "start_time": "2022-09-20T05:21:19.180954",
     "status": "completed"
    },
    "tags": []
   },
   "outputs": [
    {
     "name": "stdout",
     "output_type": "stream",
     "text": [
      "exported in  _build/html/2209.08106.md\n",
      "    + _build/html/tmp_2209.08106/./figures/pinc_diff_rd41_dp_gp_fhbin7_gpbin7.png\n",
      "    + _build/html/tmp_2209.08106/./figures/flux_rd41_gp_pinc_fhbin_gpbin_NB_E25.png\n",
      "    + _build/html/tmp_2209.08106/./figures/radec_crab3_geminga5_b03_dp_gp_qly_fhbin9_precis_zoom_kInvertedDarkBodyRadiator.png\n",
      "exported in  _build/html/2209.08120.md\n",
      "    + _build/html/tmp_2209.08120/./Images_SPIE_injections_sph0.png\n",
      "    + _build/html/tmp_2209.08120/./Astrometry_b.png\n",
      "    + _build/html/tmp_2209.08120/./Astrometry_c.png\n",
      "    + _build/html/tmp_2209.08120/./Photometry_b.png\n",
      "    + _build/html/tmp_2209.08120/./Photometry_c.png\n"
     ]
    },
    {
     "name": "stdout",
     "output_type": "stream",
     "text": [
      "exported in  _build/html/2209.08242.md\n",
      "    + _build/html/tmp_2209.08242/./tile+density-stack.png\n",
      "    + _build/html/tmp_2209.08242/./proposal-cmdselect.png\n",
      "    + _build/html/tmp_2209.08242/./rhMv.png\n"
     ]
    }
   ],
   "source": [
    "for paper_id, md in documents:\n",
    "    export_markdown_summary(md, f\"{paper_id:s}.md\", '_build/html/')"
   ]
  },
  {
   "cell_type": "markdown",
   "id": "f087a0a7",
   "metadata": {
    "papermill": {
     "duration": 0.012369,
     "end_time": "2022-09-20T05:21:19.266043",
     "exception": false,
     "start_time": "2022-09-20T05:21:19.253674",
     "status": "completed"
    },
    "tags": []
   },
   "source": [
    "## Display the papers\n",
    "\n",
    "Not necessary but allows for a quick check."
   ]
  },
  {
   "cell_type": "code",
   "execution_count": 9,
   "id": "fd25f625",
   "metadata": {
    "execution": {
     "iopub.execute_input": "2022-09-20T05:21:19.292187Z",
     "iopub.status.busy": "2022-09-20T05:21:19.291502Z",
     "iopub.status.idle": "2022-09-20T05:21:19.300312Z",
     "shell.execute_reply": "2022-09-20T05:21:19.299529Z"
    },
    "papermill": {
     "duration": 0.023884,
     "end_time": "2022-09-20T05:21:19.301932",
     "exception": false,
     "start_time": "2022-09-20T05:21:19.278048",
     "status": "completed"
    },
    "scrolled": false,
    "tags": []
   },
   "outputs": [
    {
     "data": {
      "text/markdown": [
       "<div class=\"macros\" style=\"visibility:hidden;\">\n",
       "$\\newcommand{\\ensuremath}{}$\n",
       "$\\newcommand{\\xspace}{}$\n",
       "$\\newcommand{\\object}[1]{\\texttt{#1}}$\n",
       "$\\newcommand{\\farcs}{{.}''}$\n",
       "$\\newcommand{\\farcm}{{.}'}$\n",
       "$\\newcommand{\\arcsec}{''}$\n",
       "$\\newcommand{\\arcmin}{'}$\n",
       "$\\newcommand{\\ion}[2]{#1#2}$\n",
       "$\\newcommand{\\textsc}[1]{\\textrm{#1}}$\n",
       "$\\newcommand{\\hl}[1]{\\textrm{#1}}$</div>\n",
       "\n",
       "<div class=\"macros\" style=\"visibility:hidden;\">\n",
       "$\\newcommand{$\\ensuremath$}{}$\n",
       "$\\newcommand{$\\xspace$}{}$\n",
       "$\\newcommand{$\\object$}[1]{\\texttt{#1}}$\n",
       "$\\newcommand{$\\farcs$}{{.}''}$\n",
       "$\\newcommand{$\\farcm$}{{.}'}$\n",
       "$\\newcommand{$\\arcsec$}{''}$\n",
       "$\\newcommand{$\\arcmin$}{'}$\n",
       "$\\newcommand{$\\ion$}[2]{#1#2}$\n",
       "$\\newcommand{$\\textsc$}[1]{\\textrm{#1}}$\n",
       "$\\newcommand{$\\hl$}[1]{\\textrm{#1}}$</div>\n",
       "\n",
       "\n",
       "\n",
       "<div id=\"title\">\n",
       "\n",
       "# Limits on the Diffuse Gamma-Ray Background above 10 TeV with HAWC\n",
       "\n",
       "</div>\n",
       "<div id=\"comments\">\n",
       "\n",
       "[![arXiv](https://img.shields.io/badge/arXiv-2209.08106-b31b1b.svg)](https://arxiv.org/abs/2209.08106)<mark>Appeared on: 2022-09-20</mark> - _8 pages, 3 figures_\n",
       "\n",
       "</div>\n",
       "<div id=\"authors\">\n",
       "\n",
       "HAWC Collaboration, et al. -- incl., <mark><mark>R. Alfaro</mark></mark>, <mark><mark>R. Diaz Hernandez</mark></mark>, <mark><mark>S. Hernandez</mark></mark>, <mark><mark>A. Lara</mark></mark>, <mark><mark>W.H. Lee</mark></mark>, <mark><mark>J.T. Linnemann</mark></mark>\n",
       "\n",
       "</div>\n",
       "<div id=\"abstract\">\n",
       "\n",
       "**Abstract:** The high-energy Diffuse Gamma-Ray Background (DGRB) is expected to be produced by unresolved isotropically distributed astrophysical objects, potentially including dark matter annihilation or decay emissions in galactic or extragalactic structures. The DGRB has only been observed below 1 TeV; above this energy, upper limits have been reported. Observations or stringent limits on the DGRB above this energy could have significant multi-messenger implications, such as constraining the origin of TeV-PeV astrophysical neutrinos detected by IceCube. The High Altitude Water Cherenkov (HAWC) Observatory, located in central Mexico at 4100 m above sea level, is sensitive to gamma rays from a few hundred GeV to several hundred TeV and continuously observes a wide field-of-view (2 sr). With its high-energy reach and large area coverage, HAWC is well-suited to notably improve searches for the DGRB at TeV energies. In this work, strict cuts have been applied to the HAWC dataset to better isolate gamma-ray air showers from background hadronic showers. The sensitivity to the DGRB was then verified using 535 days of Crab data and Monte Carlo simulations, leading to new limits above 10 TeV on the DGRB as well as prospective implications for multi-messenger studies.\n",
       "\n",
       "</div>\n",
       "\n",
       "<div id=\"div_fig1\">\n",
       "\n",
       "<img src=\"tmp_2209.08106/./figures/pinc_diff_rd41_dp_gp_fhbin7_gpbin7.png\" alt=\"Fig1\" width=\"100%\"/>\n",
       "\n",
       "**Figure 1. -** Number of observed and expected events in the Crab RoI with respect to PINCness for the $\\hat{E}/\\mathcal{B}$ bin $g$/7. The expected number of events is the sum of the simulated gamma events from the Crab plus the $\\text{DGRB}_\\text{scaled}$, which is the average number of events from the DGRB strip found in  $2.22\\times10^{-4}$ sr (the size of the Crab RoI). (*fig:pinc_diff*)\n",
       "\n",
       "</div>\n",
       "<div id=\"div_fig2\">\n",
       "\n",
       "<img src=\"tmp_2209.08106/./figures/flux_rd41_gp_pinc_fhbin_gpbin_NB_E25.png\" alt=\"Fig2\" width=\"100%\"/>\n",
       "\n",
       "**Figure 2. -** Limits on the DGRB using 535 days of HAWC data compared to the diffuse electron/positron flux observed by HESS \\citep{hess1_graph,hess2_graph}. Also shown is the observed DGRB by the Fermi-LAT \\citep{fermi_graph}, as well as previous high-energy limits by GRAPES \\citep{grapes_graph} and CASA-MIA \\citep{casa-mia_graph}. The lines represent several astrophysical models which will be discussed in \\emph{Constraining Astrophysical Models}. The gamma-ray flux corresponding to the IceCube $\\nu_\\mu+\\overline{\\nu}_\\mu$ astrophysical flux \\citep{icecube} is shown (see \\emph{Constraining Astrophysical Models - IceCube Neutrino Spectrum}) for both $p\\gamma$ and $pp$ interactions. (*fig:ul_mc*)\n",
       "\n",
       "</div>\n",
       "<div id=\"div_fig3\">\n",
       "\n",
       "<img src=\"tmp_2209.08106/./figures/radec_crab3_geminga5_b03_dp_gp_qly_fhbin9_precis_zoom_kInvertedDarkBodyRadiator.png\" alt=\"Fig3\" width=\"100%\"/>\n",
       "\n",
       "**Figure 3. -** Map of the Diffuse Gamma-Ray Background strip, centered on the Crab Nebula's declination. The Crab Nebula, Geminga and the Galactic Plane have been removed, resulting in a 0.57 sr area. (*fig:DGRB_strip*)\n",
       "\n",
       "</div>"
      ],
      "text/plain": [
       "<IPython.core.display.Markdown object>"
      ]
     },
     "metadata": {},
     "output_type": "display_data"
    },
    {
     "data": {
      "text/markdown": [
       "<div class=\"macros\" style=\"visibility:hidden;\">\n",
       "$\\newcommand{\\ensuremath}{}$\n",
       "$\\newcommand{\\xspace}{}$\n",
       "$\\newcommand{\\object}[1]{\\texttt{#1}}$\n",
       "$\\newcommand{\\farcs}{{.}''}$\n",
       "$\\newcommand{\\farcm}{{.}'}$\n",
       "$\\newcommand{\\arcsec}{''}$\n",
       "$\\newcommand{\\arcmin}{'}$\n",
       "$\\newcommand{\\ion}[2]{#1#2}$\n",
       "$\\newcommand{\\textsc}[1]{\\textrm{#1}}$\n",
       "$\\newcommand{\\hl}[1]{\\textrm{#1}}$\n",
       "$\\newcommand{\\tbd}[1]{\\textcolor{red}{#1}}$\n",
       "$\\newcommand{\\baselinestretch}{1.0}$</div>\n",
       "\n",
       "<div class=\"macros\" style=\"visibility:hidden;\">\n",
       "$\\newcommand{$\\ensuremath$}{}$\n",
       "$\\newcommand{$\\xspace$}{}$\n",
       "$\\newcommand{$\\object$}[1]{\\texttt{#1}}$\n",
       "$\\newcommand{$\\farcs$}{{.}''}$\n",
       "$\\newcommand{$\\farcm$}{{.}'}$\n",
       "$\\newcommand{$\\arcsec$}{''}$\n",
       "$\\newcommand{$\\arcmin$}{'}$\n",
       "$\\newcommand{$\\ion$}[2]{#1#2}$\n",
       "$\\newcommand{$\\textsc$}[1]{\\textrm{#1}}$\n",
       "$\\newcommand{$\\hl$}[1]{\\textrm{#1}}$\n",
       "$\\newcommand{$\\tbd$}[1]{\\textcolor{red}{#1}}$\n",
       "$\\newcommand{$\\baselinestretch$}{1.0}$</div>\n",
       "\n",
       "\n",
       "\n",
       "<div id=\"title\">\n",
       "\n",
       "# Exoplanet Imaging Data Challenge, phase II: Characterization of exoplanet signals in high-contrast images\n",
       "\n",
       "</div>\n",
       "<div id=\"comments\">\n",
       "\n",
       "[![arXiv](https://img.shields.io/badge/arXiv-2209.08120-b31b1b.svg)](https://arxiv.org/abs/2209.08120)<mark>Appeared on: 2022-09-20</mark> - _Submitted to SPIE Astronomical Telescopes + Instrumentation 2022, Adaptive Optics Systems VIII, Paper 12185-4_\n",
       "\n",
       "</div>\n",
       "<div id=\"authors\">\n",
       "\n",
       "F. Cantalloube, et al. -- incl., <mark><mark>E. Nasedkin</mark></mark>, <mark><mark>M. Samland Ruffio J.-B.i</mark></mark>\n",
       "\n",
       "</div>\n",
       "<div id=\"abstract\">\n",
       "\n",
       "**Abstract:** Today, there exists a wide variety of algorithms dedicated to high-contrast imaging, especially for the detection and characterisation of exoplanet signals. These algorithms are tailored to address the very high contrast between the exoplanet signal(s), which can be more than two orders of magnitude fainter than the bright starlight residuals in coronagraphic images. The starlight residuals are inhomogeneously distributed and follow various timescales that depend on the observing conditions and on the target star brightness. Disentangling the exoplanet signals within the starlight residuals is therefore challenging, and new post-processing algorithms are striving to achieve more accurate astrophysical results.The Exoplanet Imaging Data Challenge is a community-wide effort to develop, compare and evaluate algorithms using a set of benchmark high-contrast imaging datasets. After a first phase ran in 2020 and focused on the detection capabilities of existing algorithms, the focus of this ongoing second phase is to compare the characterisation capabilities of state-of-the-art techniques. The characterisation of planetary companions is two-fold: the astrometry (estimated position with respect to the host star) and spectrophotometry (estimated contrast with respect to the host star, as a function of wavelength).The goal of this second phase is to offer a platform for the community to benchmark techniques in a fair, homogeneous and robust way, and to foster collaborations.\n",
       "\n",
       "</div>\n",
       "\n",
       "<div id=\"div_fig1\">\n",
       "\n",
       "<img src=\"tmp_2209.08120/./Images_SPIE_injections_sph0.png\" alt=\"Fig2\" width=\"100%\"/>\n",
       "\n",
       "**Figure 2. -** Example injection procedure for the training data set `sphere0'. Top panel: Median of the image cube at the shortest wavelength with the position of the two injections `b' and `c' indicated by colored circles (left) and their injected spectra of the two planetary signals (middle), sampled at the SPHERE-IFS spectral resolving power (right).\n",
       "    Bottom panel: Airmass factor used for the whole observing sequence (left); extracted spectrum of the non-coronagraphic PSF (middle); stellar SED model used for the target star (right), sampled at the SPHERE-IFS spectral resolving power. (*fig:sph0*)\n",
       "\n",
       "</div>\n",
       "<div id=\"div_fig2\">\n",
       "\n",
       "<img src=\"tmp_2209.08120/./Astrometry_b.png\" alt=\"Fig5.1\" width=\"50%\"/><img src=\"tmp_2209.08120/./Astrometry_c.png\" alt=\"Fig5.2\" width=\"50%\"/>\n",
       "\n",
       "**Figure 5. -** Astrometry estimations of the injected planets using PCA-NEGFC (orange) and ANDROMEDA (blue), relative to the ground truth (black) in Cartesian coordinates. The size of the symbols corresponds to the 1-sigma uncertainty (averaged in x- and y- direction) and the shaded area to the 3-sigma uncertainty. The two centered grey shaded areas represent the size of a half resolution element ($0.5\\lambda/D$) for the shortest and largest wavelengths of the spectro-imager.\n",
       "    Left: Planet 'b' ($155 \\mathrm{mas}$). Right: Planet 'c' ($616 \\mathrm{mas}$). (*fig:astro*)\n",
       "\n",
       "</div>\n",
       "<div id=\"div_fig3\">\n",
       "\n",
       "<img src=\"tmp_2209.08120/./Photometry_b.png\" alt=\"Fig6.1\" width=\"50%\"/><img src=\"tmp_2209.08120/./Photometry_c.png\" alt=\"Fig6.2\" width=\"50%\"/>\n",
       "\n",
       "**Figure 6. -** Spectro-photometry estimations of the injected planets using PCA-NEGFC (orange line) and ANDROMEDA (blue line), compared to the ground truth (black line), as well as the residuals normalized by the ground truth (bottom panel). The error bars displayed correspond to the 3-sigma uncertainties on the photometry estimation.\n",
       "    Top: Planet 'b' (Blackbody spectrum).\n",
       "    Bottom: Planet 'c' (HR8799e-like spectrum). (*fig:phot*)\n",
       "\n",
       "</div>"
      ],
      "text/plain": [
       "<IPython.core.display.Markdown object>"
      ]
     },
     "metadata": {},
     "output_type": "display_data"
    },
    {
     "data": {
      "text/markdown": [
       "<div class=\"macros\" style=\"visibility:hidden;\">\n",
       "$\\newcommand{\\ensuremath}{}$\n",
       "$\\newcommand{\\xspace}{}$\n",
       "$\\newcommand{\\object}[1]{\\texttt{#1}}$\n",
       "$\\newcommand{\\farcs}{{.}''}$\n",
       "$\\newcommand{\\farcm}{{.}'}$\n",
       "$\\newcommand{\\arcsec}{''}$\n",
       "$\\newcommand{\\arcmin}{'}$\n",
       "$\\newcommand{\\ion}[2]{#1#2}$\n",
       "$\\newcommand{\\textsc}[1]{\\textrm{#1}}$\n",
       "$\\newcommand{\\hl}[1]{\\textrm{#1}}$\n",
       "$\\newcommand{\\vdag}{(v)^\\dagger}$\n",
       "$\\newcommand$\n",
       "$\\newcommand$\n",
       "$\\newcommand{\\warn}[1]{\\textcolor{red}{\\textbf{#1}}}$\n",
       "$\\newcommand{\\plot}[1]{\\textit{#1}:}$\n",
       "$\\newcommand{\\code}[1]{\\texttt{#1}}$\n",
       "$\\newcommand{\\rh}{r_{\\text{h}}}$\n",
       "$\\newcommand{\\ebv}{E(B-V)}$\n",
       "$\\newcommand{\\Rv}{R_{V}}$\n",
       "$\\newcommand{\\Msun}{\\textup{M}_\\odot}$\n",
       "$\\newcommand{\\Lsun}{\\textup{L}_\\odot}$\n",
       "$\\newcommand{\\sqdeg}{deg^2}$\n",
       "$\\newcommand{\\kms}{km s^{-1}}$\n",
       "$\\newcommand{\\boov}{Bo\\\"otes V}$\n",
       "$\\newcommand{\\tabspace}{\\vspace{2pt}}$\n",
       "$\\newcommand{\\ubar}[1]{\\underaccent{\\bar}{#1}}$\n",
       "$\\newcommand{\\ii}{{~\\sc ii}}$\n",
       "$\\newcommand{\\ie}{{i.e., }}$\n",
       "$\\newcommand{\\eg}{{e.g., }}$</div>\n",
       "\n",
       "<div class=\"macros\" style=\"visibility:hidden;\">\n",
       "$\\newcommand{$\\ensuremath$}{}$\n",
       "$\\newcommand{$\\xspace$}{}$\n",
       "$\\newcommand{$\\object$}[1]{\\texttt{#1}}$\n",
       "$\\newcommand{$\\farcs$}{{.}''}$\n",
       "$\\newcommand{$\\farcm$}{{.}'}$\n",
       "$\\newcommand{$\\arcsec$}{''}$\n",
       "$\\newcommand{$\\arcmin$}{'}$\n",
       "$\\newcommand{$\\ion$}[2]{#1#2}$\n",
       "$\\newcommand{$\\textsc$}[1]{\\textrm{#1}}$\n",
       "$\\newcommand{$\\hl$}[1]{\\textrm{#1}}$\n",
       "$\\newcommand{$\\vdag$}{(v)^\\dagger}$\n",
       "$\\newcommand$\n",
       "$\\newcommand$\n",
       "$\\newcommand{$\\warn$}[1]{\\textcolor{red}{\\textbf{#1}}}$\n",
       "$\\newcommand{$\\plot$}[1]{\\textit{#1}:}$\n",
       "$\\newcommand{$\\code$}[1]{\\texttt{#1}}$\n",
       "$\\newcommand{$\\rh$}{r_{\\text{h}}}$\n",
       "$\\newcommand{$\\ebv$}{E(B-V)}$\n",
       "$\\newcommand{$\\Rv$}{R_{V}}$\n",
       "$\\newcommand{$\\Msun$}{\\textup{M}_\\odot}$\n",
       "$\\newcommand{$\\Lsun$}{\\textup{L}_\\odot}$\n",
       "$\\newcommand{$\\sqdeg$}{deg^2}$\n",
       "$\\newcommand{$\\kms$}{km s^{-1}}$\n",
       "$\\newcommand{$\\boov$}{Bo\\\"otes V}$\n",
       "$\\newcommand{$\\tabspace$}{\\vspace{2pt}}$\n",
       "$\\newcommand{$\\ubar$}[1]{\\underaccent{\\bar}{#1}}$\n",
       "$\\newcommand{$\\ii$}{{~\\sc ii}}$\n",
       "$\\newcommand{$\\ie$}{{i.e., }}$\n",
       "$\\newcommand{$\\eg$}{{e.g., }}$</div>\n",
       "\n",
       "\n",
       "\n",
       "<div id=\"title\">\n",
       "\n",
       "# tes V\n",
       "\n",
       "</div>\n",
       "<div id=\"comments\">\n",
       "\n",
       "[![arXiv](https://img.shields.io/badge/arXiv-2209.08242-b31b1b.svg)](https://arxiv.org/abs/2209.08242)<mark>Appeared on: 2022-09-20</mark> - _13 pages, 7 figures, 3 tables. Submitted to the AAS Journals. Please note that this paper is being submitted in coordination with the work of William Cerny et al. These authors independently discovered this same satellite so our two research groups have coordinated the submission of these discovery papers_\n",
       "\n",
       "</div>\n",
       "<div id=\"authors\">\n",
       "\n",
       "<mark>Simon E.T. Smith</mark>, et al.\n",
       "\n",
       "</div>\n",
       "<div id=\"abstract\">\n",
       "\n",
       "**Abstract:** We present the discovery of$\\boov$, a new ultra-faint dwarf galaxy candidate. This satellite is detected as a resolved overdensity of stars during an ongoing search for new Local Group dwarf galaxy candidates in the UNIONS photometric dataset.    It has a physical half-light radius of 26.9$^{+7.5}_{-5.4}$pc, a$V$-band magnitude of$-$4.5$\\pm$0.4 mag, and resides at a heliocentric distance of approximately 100 kpc. We use Gaia DR3 astrometry to identify member stars, characterize the systemic proper motion, and confirm the reality of this faint stellar system.    The brightest star in this system was followed up using Gemini GMOS-N long-slit spectroscopy and is measured to have a metallicity of[Fe/H]$=$-2.85$\\pm$0.10 dex and a heliocentric radial velocity of$v_r$= 5.1$\\pm$13.4$\\kms$.$\\boov$is larger (in terms of scale radius), more distant, and more metal-poor than the vast majority of globular clusters. It is likely that$\\boov$is an ultra-faint dwarf galaxy, though future spectroscopic studies will be necessary to definitively classify this object.\n",
       "\n",
       "</div>\n",
       "\n",
       "<div id=\"div_fig1\">\n",
       "\n",
       "<img src=\"tmp_2209.08242/./tile+density-stack.png\" alt=\"Fig2\" width=\"100%\"/>\n",
       "\n",
       "**Figure 2. -** $\\plot${Left} 8$\\arcmin$$\\times$ 8$\\arcmin$ cutout from CFIS-r imaging tiles. Bright sources with diffraction spikes are likely Milky Way foreground stars. The clustering of stars and light in the centre of this image is $\\boov$. $\\plot${Middle} Smoothed spatial density plot of all stellar sources on the 8$\\arcmin$$\\times$ 8$\\arcmin$ tile. No stellar population filtering has been applied to the stars in this smoothed distribution. $\\plot${Right} Smoothed spatial density plot of all galaxies in the 8$\\arcmin$$\\times$ 8$\\arcmin$ tile, normalized with respect to the stellar density. There are many more galaxies than stars in this field of view, but there is no discernible overdensity. (*fig:tile+den*)\n",
       "\n",
       "</div>\n",
       "<div id=\"div_fig2\">\n",
       "\n",
       "<img src=\"tmp_2209.08242/./proposal-cmdselect.png\" alt=\"Fig3\" width=\"100%\"/>\n",
       "\n",
       "**Figure 3. -** $\\plot${Left} Sky positions of all stars in a 12$\\arcmin$$\\times$ 12 $\\arcmin$ region about $\\boov$, projected onto the tangent plane centered at RA, Dec = (14h 15m 38.6s, +32\\textdegree 54$\\arcmin$ 42$\\arcsec$). Dark blue sources are those that meet the isochrone selection criterion (Right). Yellow points are stars identified in Gaia DR3 as sources with complete astrometric information, and are selected as high confidence (probability $>$ 90\\%) members by our maximum-likelihood membership selection algorithm (see Section \\ref{subsec:gaia}). The concentric black ellipses indicate 1 $\\times$, 3 $\\times$, and 5 $\\times$ the half-light radius ($\\rh$) as determined by the MCMC fit (see Section \\ref{subsec:structural}).\n",
       "    $\\plot${Right} Color-magnitude diagram of extinction-corrected CFIS-r and Pan-STARRS-i for all stellar sources in a 12$\\arcmin$$\\times$ 12$\\arcmin$ region about $\\boov$. We overlay an old (13 Gyr), metal-poor ([Fe/H] = $-$2.3) isochrone, shifted to a distance of 100 kpc. We use a broad color selection criterion, selecting all stars with $(r-i)_0 \\leq 0.1$ from the isochrone and we add, in quadrature, the empirical photometric errors from each band. Stars consistent with this selection criterion are highlighted in dark blue.\n",
       "     (*fig:cmdselect*)\n",
       "\n",
       "</div>\n",
       "<div id=\"div_fig3\">\n",
       "\n",
       "<img src=\"tmp_2209.08242/./rhMv.png\" alt=\"Fig1\" width=\"100%\"/>\n",
       "\n",
       "**Figure 1. -** Absolute V-band magnitude (M$_V$) vs. half-light radius ($\\rh$) plane showing both the dwarf galaxy (black markers) and globular cluster (blue Xs) populations. We show both candidate and spectroscopically confirmed dwarf galaxies within 300 kpc of the Milky Way. $\\boov$ is shown as a yellow triangle. (*fig:rhMv*)\n",
       "\n",
       "</div>"
      ],
      "text/plain": [
       "<IPython.core.display.Markdown object>"
      ]
     },
     "metadata": {},
     "output_type": "display_data"
    }
   ],
   "source": [
    "[display(Markdown(k[1])) for k in documents];"
   ]
  },
  {
   "cell_type": "markdown",
   "id": "873873a4",
   "metadata": {
    "papermill": {
     "duration": 0.012932,
     "end_time": "2022-09-20T05:21:19.327865",
     "exception": false,
     "start_time": "2022-09-20T05:21:19.314933",
     "status": "completed"
    },
    "tags": []
   },
   "source": [
    "# Create HTML index"
   ]
  },
  {
   "cell_type": "code",
   "execution_count": 10,
   "id": "cf665672",
   "metadata": {
    "execution": {
     "iopub.execute_input": "2022-09-20T05:21:19.356494Z",
     "iopub.status.busy": "2022-09-20T05:21:19.355484Z",
     "iopub.status.idle": "2022-09-20T05:21:19.367922Z",
     "shell.execute_reply": "2022-09-20T05:21:19.367100Z"
    },
    "papermill": {
     "duration": 0.029055,
     "end_time": "2022-09-20T05:21:19.369738",
     "exception": false,
     "start_time": "2022-09-20T05:21:19.340683",
     "status": "completed"
    },
    "tags": []
   },
   "outputs": [
    {
     "name": "stdout",
     "output_type": "stream",
     "text": [
      "38  publications in the last 7 days.\n",
      "\t _build/html/2209.08242.md\n",
      "\t _build/html/2209.08120.md\n",
      "\t _build/html/2209.08106.md\n",
      "\t _build/html/2209.07962.md\n",
      "\t _build/html/2209.07931.md\n",
      "\t _build/html/2209.06833.md\n",
      "\t _build/html/2209.05814.md\n",
      "\t _build/html/2209.05593.md\n",
      "\t _build/html/2209.04304.md\n",
      "\t _build/html/2209.03367.md\n",
      "\t _build/html/2209.02872.md\n",
      "\t _build/html/2209.02725.md\n",
      "\t _build/html/2209.02722.md\n",
      "\t _build/html/2209.02092.md\n",
      "\t _build/html/2209.01125.md\n",
      "\t _build/html/2209.00828.md\n",
      "\t _build/html/2209.00363.md\n",
      "\t _build/html/2208.14927.md\n",
      "\t _build/html/2208.09335.md\n",
      "\t _build/html/2208.08872.md\n",
      "\t _build/html/2204.06393.md\n",
      "\t _build/html/2204.03335.md\n",
      "\t _build/html/2204.03253.md\n",
      "\t _build/html/2204.02998.md\n",
      "\t _build/html/2204.02109.md\n",
      "\t _build/html/2204.02017.md\n",
      "\t _build/html/2204.01824.md\n",
      "\t _build/html/2204.01758.md\n",
      "\t _build/html/2204.01245.md\n",
      "\t _build/html/2204.00793.md\n",
      "\t _build/html/2204.00342.md\n",
      "\t _build/html/2203.16959.md\n",
      "\t _build/html/2203.16856.md\n",
      "\t _build/html/2203.16735.md\n",
      "\t _build/html/2203.16734.md\n",
      "\t _build/html/2203.16504.md\n",
      "\t _build/html/2203.15822.md\n",
      "\t _build/html/2203.15811.md\n"
     ]
    }
   ],
   "source": [
    "from datetime import datetime, timedelta, timezone\n",
    "from glob import glob\n",
    "\n",
    "files = glob('_build/html/*.md')\n",
    "days = 7\n",
    "now = datetime.today()\n",
    "res = []\n",
    "for fk in files:\n",
    "    stat_result = os.stat(fk).st_ctime\n",
    "    modified = datetime.fromtimestamp(stat_result, tz=timezone.utc).replace(tzinfo=None)\n",
    "    delta = now.today() - modified\n",
    "    if delta <= timedelta(days=days):\n",
    "        res.append((delta.seconds, fk))\n",
    "res = [k[1] for k in reversed(sorted(res, key=lambda x:x[1]))]\n",
    "npub = len(res)\n",
    "print(len(res), f\" publications in the last {days:d} days.\")\n",
    "[ print('\\t', k) for k in res ];"
   ]
  },
  {
   "cell_type": "code",
   "execution_count": 11,
   "id": "52ca0208",
   "metadata": {
    "execution": {
     "iopub.execute_input": "2022-09-20T05:21:19.400328Z",
     "iopub.status.busy": "2022-09-20T05:21:19.399450Z",
     "iopub.status.idle": "2022-09-20T05:21:19.410631Z",
     "shell.execute_reply": "2022-09-20T05:21:19.409930Z"
    },
    "papermill": {
     "duration": 0.028378,
     "end_time": "2022-09-20T05:21:19.412405",
     "exception": false,
     "start_time": "2022-09-20T05:21:19.384027",
     "status": "completed"
    },
    "scrolled": false,
    "tags": []
   },
   "outputs": [],
   "source": [
    "def create_carousel(npub=4):\n",
    "    \"\"\" Generate the HTML code for a carousel with `npub` slides \"\"\"\n",
    "    carousel = [\"\"\"<section class=\"carousel\" aria-label=\"Gallery\">\"\"\",\n",
    "                \"\"\"  <ol class=\"carousel__viewport\">\"\"\",\n",
    "    ]\n",
    "    for k in range(1, npub + 1):\n",
    "        prev_ = k - 1\n",
    "        next_ = k + 1\n",
    "        if prev_ <= 0:\n",
    "            prev_ = npub\n",
    "        if next_ > npub:\n",
    "            next_ = 1\n",
    "        text  = f\"\"\"    <li id=\"carousel__slide{k}\" tabindex=\"0\" class=\"carousel__slide\">\\n\"\"\"\n",
    "        text += f\"\"\"       <div class=\"carousel__snapper\">\\n\"\"\"\n",
    "        text += f\"\"\"         <a href=\"#carousel__slide{prev_}\" class=\"carousel__prev\">Go to previous slide</a>\\n\"\"\"\n",
    "        text += f\"\"\"         <a href=\"#carousel__slide{next_}\" class=\"carousel__next\">Go to next slide</a>\\n\"\"\"\n",
    "        text += f\"\"\"         <div id=\"slide{k}_content\" class=\"md_view\" >Content {k}</div>\\n\"\"\"\n",
    "        text += f\"\"\"       </div>\\n\"\"\"\n",
    "        text += f\"\"\"    </li>\"\"\"\n",
    "        carousel.append(text)\n",
    "\n",
    "    carousel.extend([\n",
    "        \"\"\"  </ol>\"\"\",\n",
    "        \"\"\"  <aside class=\"carousel__navigation\">\"\"\",\n",
    "        \"\"\"    <ol class=\"carousel__navigation-list\">\"\"\"])\n",
    "\n",
    "    for k in range(1, npub + 1):\n",
    "        text  = f\"\"\"      <li class=\"carousel__navigation-item\">\\n\"\"\"\n",
    "        text += f\"\"\"        <a href=\"#carousel__slide{k}\" class=\"carousel__navigation-button\">Go to {k}</a>\\n\"\"\"\n",
    "        text += f\"\"\"      </li>\"\"\"\n",
    "        carousel.append(text)\n",
    "    carousel.extend([\"\"\"    </ol>\"\"\", \"\"\"  </aside>\"\"\", \"\"\"</section>\"\"\"])\n",
    "\n",
    "    return '\\n'.join(carousel)"
   ]
  },
  {
   "cell_type": "code",
   "execution_count": 12,
   "id": "a6eac5b6",
   "metadata": {
    "execution": {
     "iopub.execute_input": "2022-09-20T05:21:19.481891Z",
     "iopub.status.busy": "2022-09-20T05:21:19.481249Z",
     "iopub.status.idle": "2022-09-20T05:21:19.492039Z",
     "shell.execute_reply": "2022-09-20T05:21:19.491243Z"
    },
    "papermill": {
     "duration": 0.067925,
     "end_time": "2022-09-20T05:21:19.493939",
     "exception": false,
     "start_time": "2022-09-20T05:21:19.426014",
     "status": "completed"
    },
    "scrolled": false,
    "tags": []
   },
   "outputs": [],
   "source": [
    "carousel = create_carousel(npub)\n",
    "docs = ', '.join(['\"{0:s}\"'.format(k.split('/')[-1]) for k in res])\n",
    "slides = ', '.join([f'\"slide{k}_content\"' for k in range(1, npub + 1)])\n",
    "\n",
    "script = f\"\"\"\n",
    "const docs = [{docs}]\n",
    "\n",
    "const slides = [{slides}]\n",
    "\"\"\" + \"\"\"\n",
    "async function run() {\n",
    "    for (let i = 0; i < docs.length; i++) {\n",
    "        let file = await fetch(docs[i]);\n",
    "        let text = await file.text()\n",
    "        document.getElementById(slides[i]).innerHTML =\n",
    "            marked.parse(text);\n",
    "    }\n",
    "    hljs.highlightAll();\n",
    "}\n",
    "run()\n",
    "\"\"\"\n",
    "\n",
    "page = f\"\"\"<!doctype html>\n",
    "<html lang=\"en\">\n",
    "\n",
    "<head>\n",
    "  <meta charset=\"utf-8\">\n",
    "  <meta name=\"viewport\" content=\"width=device-width, initial-scale=1\">\n",
    "  <!-- Bootstrap CSS -->\n",
    "  <link href=\"https://cdn.jsdelivr.net/npm/bootstrap@5.0.2/dist/css/bootstrap.min.css\" rel=\"stylesheet\"\n",
    "   integrity=\"sha384-EVSTQN3/azprG1Anm3QDgpJLIm9Nao0Yz1ztcQTwFspd3yD65VohhpuuCOmLASjC\" crossorigin=\"anonymous\">\n",
    "  <!-- highlight.js CSS -->\n",
    "  <link rel=\"stylesheet\" href=\"https://cdnjs.cloudflare.com/ajax/libs/highlight.js/11.1.0/styles/default.min.css\">\n",
    "  <!-- Mathjax 3 -->\n",
    "  <script type=\"text/javascript\" id=\"MathJax-config\" src=\"mathjax_config.js\"> </script>\n",
    "  <script type=\"text/javascript\" id=\"MathJax-script\" async \n",
    "    src=\"https://cdn.jsdelivr.net/npm/mathjax@3/es5/tex-mml-chtml.js\">\n",
    "  </script>\n",
    "  <link rel=\"stylesheet\" href=\"index_carousel.css\">\n",
    "  <link rel=\"icon\" type=\"image/x-icon\" href=\"https://www.mpia.de/assets/touch-icon-32x32-a66937bcebc4e8894ebff1f41a366c7c7220fd97a38869ee0f2db65a9f59b6c1.png\">\n",
    "  <title>MPIA Arxiv on deck!</title>\n",
    "</head>\n",
    "\n",
    "<body>\n",
    "  <div id=\"header\"> <img src=\"header_banner.png\" width=\"100%\"></div>\n",
    "  <div id=\"suptitle\"> 7-day archives </div>\n",
    "  <div id=\"info\">\n",
    "    <img src=\"https://pngimg.com/uploads/github/github_PNG58.png\" height=30rem></img>\n",
    "    <a href=https://github.com/mpi-astronomy/arxiv_display style=\"color:black;\">github/mpi-astronomy/arxiv_display</a> \n",
    "  </div>\n",
    "  {carousel:s}\n",
    "</body>\n",
    "\n",
    "<!-- Render Markdown -->\n",
    "\n",
    "<body>\n",
    "  <!-- highlight.js: https://highlightjs.org/download/ -->\n",
    "  <script src=\"https://cdnjs.cloudflare.com/ajax/libs/highlight.js/11.5.0/highlight.min.js\"></script>\n",
    "  <!-- marked.js -->\n",
    "  <script src=\"https://cdn.jsdelivr.net/npm/marked/marked.min.js\"></script>\n",
    "  <script>{script:s}</script>\n",
    "</body>\n",
    "</html>\n",
    "\"\"\"\n",
    "with open(\"_build/html/index_7days.html\", 'w') as fout:\n",
    "    fout.write(page)"
   ]
  },
  {
   "cell_type": "markdown",
   "id": "1cebacbc",
   "metadata": {
    "papermill": {
     "duration": 0.012984,
     "end_time": "2022-09-20T05:21:19.520215",
     "exception": false,
     "start_time": "2022-09-20T05:21:19.507231",
     "status": "completed"
    },
    "tags": []
   },
   "source": [
    "# Debugging papers"
   ]
  },
  {
   "cell_type": "raw",
   "id": "debe7cc6",
   "metadata": {
    "papermill": {
     "duration": 0.013086,
     "end_time": "2022-09-20T05:21:19.546491",
     "exception": false,
     "start_time": "2022-09-20T05:21:19.533405",
     "status": "completed"
    },
    "tags": []
   },
   "source": [
    "raise NotImplementedError(\"Manual Stop\")"
   ]
  },
  {
   "cell_type": "raw",
   "id": "eb169192",
   "metadata": {
    "papermill": {
     "duration": 0.013115,
     "end_time": "2022-09-20T05:21:19.572539",
     "exception": false,
     "start_time": "2022-09-20T05:21:19.559424",
     "status": "completed"
    },
    "scrolled": true,
    "tags": []
   },
   "source": [
    "from IPython.display import display, Markdown\n",
    "from TexSoup import TexSoup\n",
    "import re\n",
    "\n",
    "def bracket_error(source: str):\n",
    "    \"\"\" Find problematic portions of the document \"\"\"\n",
    "    \n",
    "    print(\"len(source)\", len(source))\n",
    "    \n",
    "    # Checking header\n",
    "    begin_doc = next(re.finditer(r'\\\\begin\\{document\\}', doc.source)).span()[1]\n",
    "    header = source[:begin_doc]\n",
    "    text = header + r\"\\n\\end{document}\"\n",
    "\n",
    "    try:\n",
    "        # print(\"Header check... \", end='')\n",
    "        TexSoup(text)\n",
    "        display(Markdown(f\"**[OK]** - Header\"))\n",
    "    except:\n",
    "        raise RuntimeError(\"Error in the header\")\n",
    "        \n",
    "    # Check the text per section until the end.\n",
    "    # Do not stop and try them all.\n",
    "    \n",
    "    problematic_text = []\n",
    "    \n",
    "    sections = ([(0, begin_doc, 'until first section')] + \n",
    "                [(g.span()[0], g.span()[1], g.group()) for g in re.finditer(r'\\\\section\\{.*\\}', source)] +\n",
    "                [(g.span()[0], g.span()[1], g.group()) for g in re.finditer(r'\\\\begin\\{appendix\\}', source)]\n",
    "               )\n",
    "    sections.append([len(source), len(source), 'end'])\n",
    "    \n",
    "    sections = sorted(sections, key=lambda x: x[0])\n",
    "    \n",
    "    prev_pos, prev_name = (0, 'header')\n",
    "    parsed = []\n",
    "    \n",
    "    for span, span_end, name in sections:\n",
    "\n",
    "        if span - prev_pos <= 0:\n",
    "            continue\n",
    "            \n",
    "\n",
    "        text = source[prev_pos:span]\n",
    "        if prev_pos > begin_doc:\n",
    "            text = r\"\\n\\begin{document}\" + text + r\"\\n\\end{document}\"\n",
    "        else:\n",
    "            text = text + r\"\\n\\end{document}\"\n",
    "        try:\n",
    "            #print(f\"{prev_pos}:{prev_name}-->{span}:{name} check... \", end='')\n",
    "            parsed.append(TexSoup(text, tolerance=1))  # allow not ending env\n",
    "            display(Markdown(f\"**[OK]** - *{prev_pos}*:{prev_name} &rarr; *{span}*:{name}\"))\n",
    "            # print(\"ok\")\n",
    "\n",
    "            prev_pos = span\n",
    "            prev_name = name\n",
    "        except:\n",
    "            # print(f\"error between {prev_pos} and {span}\")\n",
    "            display(Markdown(f\"**[ERR]** *{prev_pos}*:{prev_name} &rarr; *{span}*:{name}\"))\n",
    "            problematic_text.append((prev_pos, source[prev_pos:span]))\n",
    "            prev_pos = span\n",
    "            prev_name = name\n",
    "            # raise\n",
    "    return problematic_text, parsed\n",
    "\n",
    "\n",
    "def check_environment(text, offset=0):\n",
    "    \"\"\" Check environment \"\"\"\n",
    "    env = re.compile(r\"\\\\begin\\{(?P<env>.*)\\}(.*)\\\\end\\{(?P=env)\\}\", re.DOTALL)\n",
    "\n",
    "    for match in env.finditer(text):\n",
    "        beg, end = match.span()\n",
    "        beg += offset\n",
    "        end += offset\n",
    "        envname = match.groups()[0]\n",
    "        try:\n",
    "            latex.TexSoup(match.group())\n",
    "        except Exception as e:\n",
    "            display(e)\n",
    "            print(f\"Error in {envname:s} between {beg} and {end}\")\n",
    "            return match.groups()[1], beg, end"
   ]
  },
  {
   "cell_type": "raw",
   "id": "2315e835",
   "metadata": {
    "papermill": {
     "duration": 0.013047,
     "end_time": "2022-09-20T05:21:19.598603",
     "exception": false,
     "start_time": "2022-09-20T05:21:19.585556",
     "status": "completed"
    },
    "scrolled": false,
    "tags": []
   },
   "source": [
    "import importlib\n",
    "importlib.reload(latex)\n",
    "which = \"2204.03253\"\n",
    "paper_id = f'{which:s}'\n",
    "folder = f'tmp_{paper_id:s}'\n",
    "\n",
    "if not os.path.isdir(folder):\n",
    "    folder = retrieve_document_source(f\"{paper_id}\", f'tmp_{paper_id}')\n",
    "\n",
    "try:\n",
    "    doc = latex.LatexDocument(folder, validation=validation)    \n",
    "except AffiliationError as affilerror:\n",
    "    msg = f\"ArXiv:{paper_id:s} is not an MPIA paper... \" + str(affilerror)\n",
    "    print(msg)\n",
    "\n",
    "\n",
    "# Hack because sometimes author parsing does not work well\n",
    "if (len(doc.authors) != len(paper['authors'])):\n",
    "    doc._authors = paper['authors']\n",
    "if (doc.abstract) in (None, ''):\n",
    "    doc._abstract = paper['abstract']\n",
    "\n",
    "doc.comment = get_markdown_badge(paper_id) + \" _\" + paper['comments'] + \"_\"\n",
    "doc.highlight_authors_in_list(hl_list)\n",
    "\n",
    "full_md = doc.generate_markdown_text()"
   ]
  },
  {
   "cell_type": "raw",
   "id": "dd3781db",
   "metadata": {
    "papermill": {
     "duration": 0.016716,
     "end_time": "2022-09-20T05:21:19.628193",
     "exception": false,
     "start_time": "2022-09-20T05:21:19.611477",
     "status": "completed"
    },
    "scrolled": false,
    "tags": []
   },
   "source": [
    "doc"
   ]
  },
  {
   "cell_type": "raw",
   "id": "c6eed834",
   "metadata": {
    "papermill": {
     "duration": 0.013693,
     "end_time": "2022-09-20T05:21:19.655650",
     "exception": false,
     "start_time": "2022-09-20T05:21:19.641957",
     "status": "completed"
    },
    "tags": []
   },
   "source": [
    "# [check_environment(k) for k in bracket_error(doc.source)]\n",
    "_, _, a = latex.get_content_per_section(doc.source, verbose=True)\n",
    "if not a:\n",
    "    print(\"no issues per section\")\n",
    "for ak in a:\n",
    "    r = check_environment(ak[1], offset=ak[0])\n",
    "    print(r[1], r[2])\n",
    "    print(r[0])"
   ]
  },
  {
   "cell_type": "code",
   "execution_count": null,
   "id": "71ce768a",
   "metadata": {
    "papermill": {
     "duration": 0.01342,
     "end_time": "2022-09-20T05:21:19.682272",
     "exception": false,
     "start_time": "2022-09-20T05:21:19.668852",
     "status": "completed"
    },
    "tags": []
   },
   "outputs": [],
   "source": []
  }
 ],
 "metadata": {
  "kernelspec": {
   "display_name": "Python 3.10.6 64-bit",
   "language": "python",
   "name": "python3"
  },
  "language_info": {
   "codemirror_mode": {
    "name": "ipython",
    "version": 3
   },
   "file_extension": ".py",
   "mimetype": "text/x-python",
   "name": "python",
   "nbconvert_exporter": "python",
   "pygments_lexer": "ipython3",
   "version": "3.9.13"
  },
  "papermill": {
   "default_parameters": {},
   "duration": 254.586191,
   "end_time": "2022-09-20T05:21:19.928065",
   "environment_variables": {},
   "exception": null,
   "input_path": "MPIA daily digest.ipynb",
   "output_path": "log.ipynb",
   "parameters": {},
   "start_time": "2022-09-20T05:17:05.341874",
   "version": "2.4.0"
  },
  "vscode": {
   "interpreter": {
    "hash": "e7370f93d1d0cde622a1f8e1c04877d8463912d04d973331ad4851f04de6915a"
   }
  },
  "widgets": {
   "application/vnd.jupyter.widget-state+json": {
    "state": {
     "01e030bd37264da19ba7df9e2e79c2cc": {
      "model_module": "@jupyter-widgets/controls",
      "model_module_version": "2.0.0",
      "model_name": "HTMLModel",
      "state": {
       "_dom_classes": [],
       "_model_module": "@jupyter-widgets/controls",
       "_model_module_version": "2.0.0",
       "_model_name": "HTMLModel",
       "_view_count": null,
       "_view_module": "@jupyter-widgets/controls",
       "_view_module_version": "2.0.0",
       "_view_name": "HTMLView",
       "description": "",
       "description_allow_html": false,
       "layout": "IPY_MODEL_e79ee84a94d94ea9963ae860b1a0c93b",
       "placeholder": "​",
       "style": "IPY_MODEL_992d2e0c43db48fd856ec8bd08d0b086",
       "tabbable": null,
       "tooltip": null,
       "value": " 26/26 [03:46&lt;00:00,  6.37s/it]"
      }
     },
     "136a8e6dc4eb43f5a91d915aa5116ee3": {
      "model_module": "@jupyter-widgets/base",
      "model_module_version": "2.0.0",
      "model_name": "LayoutModel",
      "state": {
       "_model_module": "@jupyter-widgets/base",
       "_model_module_version": "2.0.0",
       "_model_name": "LayoutModel",
       "_view_count": null,
       "_view_module": "@jupyter-widgets/base",
       "_view_module_version": "2.0.0",
       "_view_name": "LayoutView",
       "align_content": null,
       "align_items": null,
       "align_self": null,
       "border_bottom": null,
       "border_left": null,
       "border_right": null,
       "border_top": null,
       "bottom": null,
       "display": null,
       "flex": null,
       "flex_flow": null,
       "grid_area": null,
       "grid_auto_columns": null,
       "grid_auto_flow": null,
       "grid_auto_rows": null,
       "grid_column": null,
       "grid_gap": null,
       "grid_row": null,
       "grid_template_areas": null,
       "grid_template_columns": null,
       "grid_template_rows": null,
       "height": null,
       "justify_content": null,
       "justify_items": null,
       "left": null,
       "margin": null,
       "max_height": null,
       "max_width": null,
       "min_height": null,
       "min_width": null,
       "object_fit": null,
       "object_position": null,
       "order": null,
       "overflow": null,
       "padding": null,
       "right": null,
       "top": null,
       "visibility": null,
       "width": null
      }
     },
     "3c5b7f7b785e4dfc97d181cd92454436": {
      "model_module": "@jupyter-widgets/controls",
      "model_module_version": "2.0.0",
      "model_name": "ProgressStyleModel",
      "state": {
       "_model_module": "@jupyter-widgets/controls",
       "_model_module_version": "2.0.0",
       "_model_name": "ProgressStyleModel",
       "_view_count": null,
       "_view_module": "@jupyter-widgets/base",
       "_view_module_version": "2.0.0",
       "_view_name": "StyleView",
       "bar_color": null,
       "description_width": ""
      }
     },
     "619405911f274cf99abd9bc18d88d04d": {
      "model_module": "@jupyter-widgets/controls",
      "model_module_version": "2.0.0",
      "model_name": "HTMLStyleModel",
      "state": {
       "_model_module": "@jupyter-widgets/controls",
       "_model_module_version": "2.0.0",
       "_model_name": "HTMLStyleModel",
       "_view_count": null,
       "_view_module": "@jupyter-widgets/base",
       "_view_module_version": "2.0.0",
       "_view_name": "StyleView",
       "background": null,
       "description_width": "",
       "font_size": null,
       "text_color": null
      }
     },
     "764efe28c5f94920b20610c44afe79ee": {
      "model_module": "@jupyter-widgets/base",
      "model_module_version": "2.0.0",
      "model_name": "LayoutModel",
      "state": {
       "_model_module": "@jupyter-widgets/base",
       "_model_module_version": "2.0.0",
       "_model_name": "LayoutModel",
       "_view_count": null,
       "_view_module": "@jupyter-widgets/base",
       "_view_module_version": "2.0.0",
       "_view_name": "LayoutView",
       "align_content": null,
       "align_items": null,
       "align_self": null,
       "border_bottom": null,
       "border_left": null,
       "border_right": null,
       "border_top": null,
       "bottom": null,
       "display": null,
       "flex": null,
       "flex_flow": null,
       "grid_area": null,
       "grid_auto_columns": null,
       "grid_auto_flow": null,
       "grid_auto_rows": null,
       "grid_column": null,
       "grid_gap": null,
       "grid_row": null,
       "grid_template_areas": null,
       "grid_template_columns": null,
       "grid_template_rows": null,
       "height": null,
       "justify_content": null,
       "justify_items": null,
       "left": null,
       "margin": null,
       "max_height": null,
       "max_width": null,
       "min_height": null,
       "min_width": null,
       "object_fit": null,
       "object_position": null,
       "order": null,
       "overflow": null,
       "padding": null,
       "right": null,
       "top": null,
       "visibility": null,
       "width": null
      }
     },
     "992d2e0c43db48fd856ec8bd08d0b086": {
      "model_module": "@jupyter-widgets/controls",
      "model_module_version": "2.0.0",
      "model_name": "HTMLStyleModel",
      "state": {
       "_model_module": "@jupyter-widgets/controls",
       "_model_module_version": "2.0.0",
       "_model_name": "HTMLStyleModel",
       "_view_count": null,
       "_view_module": "@jupyter-widgets/base",
       "_view_module_version": "2.0.0",
       "_view_name": "StyleView",
       "background": null,
       "description_width": "",
       "font_size": null,
       "text_color": null
      }
     },
     "ac76334685cc4d2880a9de4b897bf350": {
      "model_module": "@jupyter-widgets/base",
      "model_module_version": "2.0.0",
      "model_name": "LayoutModel",
      "state": {
       "_model_module": "@jupyter-widgets/base",
       "_model_module_version": "2.0.0",
       "_model_name": "LayoutModel",
       "_view_count": null,
       "_view_module": "@jupyter-widgets/base",
       "_view_module_version": "2.0.0",
       "_view_name": "LayoutView",
       "align_content": null,
       "align_items": null,
       "align_self": null,
       "border_bottom": null,
       "border_left": null,
       "border_right": null,
       "border_top": null,
       "bottom": null,
       "display": null,
       "flex": null,
       "flex_flow": null,
       "grid_area": null,
       "grid_auto_columns": null,
       "grid_auto_flow": null,
       "grid_auto_rows": null,
       "grid_column": null,
       "grid_gap": null,
       "grid_row": null,
       "grid_template_areas": null,
       "grid_template_columns": null,
       "grid_template_rows": null,
       "height": null,
       "justify_content": null,
       "justify_items": null,
       "left": null,
       "margin": null,
       "max_height": null,
       "max_width": null,
       "min_height": null,
       "min_width": null,
       "object_fit": null,
       "object_position": null,
       "order": null,
       "overflow": null,
       "padding": null,
       "right": null,
       "top": null,
       "visibility": null,
       "width": null
      }
     },
     "c593632388a2421585a3e02425251637": {
      "model_module": "@jupyter-widgets/controls",
      "model_module_version": "2.0.0",
      "model_name": "FloatProgressModel",
      "state": {
       "_dom_classes": [],
       "_model_module": "@jupyter-widgets/controls",
       "_model_module_version": "2.0.0",
       "_model_name": "FloatProgressModel",
       "_view_count": null,
       "_view_module": "@jupyter-widgets/controls",
       "_view_module_version": "2.0.0",
       "_view_name": "ProgressView",
       "bar_style": "success",
       "description": "",
       "description_allow_html": false,
       "layout": "IPY_MODEL_ac76334685cc4d2880a9de4b897bf350",
       "max": 26.0,
       "min": 0.0,
       "orientation": "horizontal",
       "style": "IPY_MODEL_3c5b7f7b785e4dfc97d181cd92454436",
       "tabbable": null,
       "tooltip": null,
       "value": 26.0
      }
     },
     "d6238081bc4a4cf9b083f45b9ec1f881": {
      "model_module": "@jupyter-widgets/controls",
      "model_module_version": "2.0.0",
      "model_name": "HBoxModel",
      "state": {
       "_dom_classes": [],
       "_model_module": "@jupyter-widgets/controls",
       "_model_module_version": "2.0.0",
       "_model_name": "HBoxModel",
       "_view_count": null,
       "_view_module": "@jupyter-widgets/controls",
       "_view_module_version": "2.0.0",
       "_view_name": "HBoxView",
       "box_style": "",
       "children": [
        "IPY_MODEL_e86226116da24132ab182f1689148efb",
        "IPY_MODEL_c593632388a2421585a3e02425251637",
        "IPY_MODEL_01e030bd37264da19ba7df9e2e79c2cc"
       ],
       "layout": "IPY_MODEL_764efe28c5f94920b20610c44afe79ee",
       "tabbable": null,
       "tooltip": null
      }
     },
     "e79ee84a94d94ea9963ae860b1a0c93b": {
      "model_module": "@jupyter-widgets/base",
      "model_module_version": "2.0.0",
      "model_name": "LayoutModel",
      "state": {
       "_model_module": "@jupyter-widgets/base",
       "_model_module_version": "2.0.0",
       "_model_name": "LayoutModel",
       "_view_count": null,
       "_view_module": "@jupyter-widgets/base",
       "_view_module_version": "2.0.0",
       "_view_name": "LayoutView",
       "align_content": null,
       "align_items": null,
       "align_self": null,
       "border_bottom": null,
       "border_left": null,
       "border_right": null,
       "border_top": null,
       "bottom": null,
       "display": null,
       "flex": null,
       "flex_flow": null,
       "grid_area": null,
       "grid_auto_columns": null,
       "grid_auto_flow": null,
       "grid_auto_rows": null,
       "grid_column": null,
       "grid_gap": null,
       "grid_row": null,
       "grid_template_areas": null,
       "grid_template_columns": null,
       "grid_template_rows": null,
       "height": null,
       "justify_content": null,
       "justify_items": null,
       "left": null,
       "margin": null,
       "max_height": null,
       "max_width": null,
       "min_height": null,
       "min_width": null,
       "object_fit": null,
       "object_position": null,
       "order": null,
       "overflow": null,
       "padding": null,
       "right": null,
       "top": null,
       "visibility": null,
       "width": null
      }
     },
     "e86226116da24132ab182f1689148efb": {
      "model_module": "@jupyter-widgets/controls",
      "model_module_version": "2.0.0",
      "model_name": "HTMLModel",
      "state": {
       "_dom_classes": [],
       "_model_module": "@jupyter-widgets/controls",
       "_model_module_version": "2.0.0",
       "_model_name": "HTMLModel",
       "_view_count": null,
       "_view_module": "@jupyter-widgets/controls",
       "_view_module_version": "2.0.0",
       "_view_name": "HTMLView",
       "description": "",
       "description_allow_html": false,
       "layout": "IPY_MODEL_136a8e6dc4eb43f5a91d915aa5116ee3",
       "placeholder": "​",
       "style": "IPY_MODEL_619405911f274cf99abd9bc18d88d04d",
       "tabbable": null,
       "tooltip": null,
       "value": "100%"
      }
     }
    },
    "version_major": 2,
    "version_minor": 0
   }
  }
 },
 "nbformat": 4,
 "nbformat_minor": 5
}