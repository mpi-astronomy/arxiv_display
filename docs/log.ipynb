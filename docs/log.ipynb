{
 "cells": [
  {
   "cell_type": "markdown",
   "id": "92bcb855",
   "metadata": {
    "papermill": {
     "duration": 0.009858,
     "end_time": "2023-01-03T04:04:46.273659",
     "exception": false,
     "start_time": "2023-01-03T04:04:46.263801",
     "status": "completed"
    },
    "tags": []
   },
   "source": [
    "# MPIA Arxiv on Deck 2\n",
    "\n",
    "Contains the steps to produce the paper extractions."
   ]
  },
  {
   "cell_type": "code",
   "execution_count": 1,
   "id": "3a0d6e11",
   "metadata": {
    "execution": {
     "iopub.execute_input": "2023-01-03T04:04:46.285390Z",
     "iopub.status.busy": "2023-01-03T04:04:46.284502Z",
     "iopub.status.idle": "2023-01-03T04:04:46.513410Z",
     "shell.execute_reply": "2023-01-03T04:04:46.512546Z"
    },
    "papermill": {
     "duration": 0.23756,
     "end_time": "2023-01-03T04:04:46.516152",
     "exception": false,
     "start_time": "2023-01-03T04:04:46.278592",
     "status": "completed"
    },
    "tags": []
   },
   "outputs": [],
   "source": [
    "# Imports\n",
    "import os\n",
    "from IPython.display import Markdown, display\n",
    "from tqdm.notebook import tqdm\n",
    "import warnings\n",
    "from PIL import Image \n",
    "\n",
    "# requires arxiv_on_deck_2\n",
    "\n",
    "from arxiv_on_deck_2.arxiv2 import (get_new_papers, \n",
    "                                    get_paper_from_identifier,\n",
    "                                    retrieve_document_source, \n",
    "                                    get_markdown_badge)\n",
    "from arxiv_on_deck_2 import (latex, \n",
    "                             mpia,\n",
    "                             highlight_authors_in_list)\n",
    "\n",
    "# Sometimes images are really big\n",
    "Image.MAX_IMAGE_PIXELS = 1000000000 "
   ]
  },
  {
   "cell_type": "code",
   "execution_count": 2,
   "id": "22aa9d44",
   "metadata": {
    "execution": {
     "iopub.execute_input": "2023-01-03T04:04:46.527881Z",
     "iopub.status.busy": "2023-01-03T04:04:46.527075Z",
     "iopub.status.idle": "2023-01-03T04:04:46.532865Z",
     "shell.execute_reply": "2023-01-03T04:04:46.532124Z"
    },
    "papermill": {
     "duration": 0.013598,
     "end_time": "2023-01-03T04:04:46.534750",
     "exception": false,
     "start_time": "2023-01-03T04:04:46.521152",
     "status": "completed"
    },
    "tags": []
   },
   "outputs": [],
   "source": [
    "# Some useful definitions.\n",
    "\n",
    "class AffiliationWarning(UserWarning):\n",
    "    pass\n",
    "\n",
    "class AffiliationError(RuntimeError):\n",
    "    pass\n",
    "\n",
    "def validation(source: str):\n",
    "    \"\"\"Raises error paper during parsing of source file\n",
    "    \n",
    "    Allows checks before parsing TeX code.\n",
    "    \n",
    "    Raises AffiliationWarning\n",
    "    \"\"\"\n",
    "    check = mpia.affiliation_verifications(source, verbose=True)\n",
    "    if check is not True:\n",
    "        raise AffiliationError(\"mpia.affiliation_verifications: \" + check)\n",
    "\n",
    "        \n",
    "warnings.simplefilter('always', AffiliationWarning)"
   ]
  },
  {
   "cell_type": "code",
   "execution_count": 3,
   "id": "14622700",
   "metadata": {
    "execution": {
     "iopub.execute_input": "2023-01-03T04:04:46.545399Z",
     "iopub.status.busy": "2023-01-03T04:04:46.544745Z",
     "iopub.status.idle": "2023-01-03T04:04:46.549041Z",
     "shell.execute_reply": "2023-01-03T04:04:46.548325Z"
    },
    "papermill": {
     "duration": 0.011747,
     "end_time": "2023-01-03T04:04:46.550936",
     "exception": false,
     "start_time": "2023-01-03T04:04:46.539189",
     "status": "completed"
    },
    "tags": []
   },
   "outputs": [],
   "source": [
    "# additional CSS to consider. \n",
    "# TODO: Current into each exported file. \n",
    "#       This should be set once into the webpages directly.\n",
    "#       With only the class/id definitions in the .md files.\n",
    "\n",
    "debug_html = \"\"\"\n",
    "<style>\n",
    "#wrap{ overflow:auto; }\n",
    "#fig1{ background:yellow; width:100%; float:left; padding:5px;  }\n",
    "#fig2{ background:red; width:50%; float:left; clear:left; padding:5px;  }\n",
    "#fig3{ background:green; width:50%; float:left; padding:5px;   }\n",
    ".macros{ background:yellow; visibility:visible;}\n",
    "h1 {margin: 0 0 0 0;}\n",
    "mark {background-color:#fff3b6;}\n",
    "img {object-fit:contain; max-height:250px; display:inline-block; text-align: center;}\n",
    "</style>\n",
    "\"\"\" \n",
    "html = \"\"\"\n",
    "<style>\n",
    "#wrap{ overflow:auto; }\n",
    "#fig1{ width:100%; float:left; padding: 5px;  }\n",
    "#fig2{ width:50%; float:left; clear:left; padding: 5px;  }\n",
    "#fig3{ width:50%; float:left; padding: 5px;  }\n",
    ".macros{ visibility:hidden; height:0px; }\n",
    "h1 {margin: 0em 0 0 0;}\n",
    "mark {background-color:#fff3b6;}\n",
    "img {object-fit:contain; max-height:250px; display:inline-block; text-align: center;}\n",
    "</style>\n",
    "\"\"\""
   ]
  },
  {
   "cell_type": "markdown",
   "id": "14bd6310",
   "metadata": {
    "papermill": {
     "duration": 0.004412,
     "end_time": "2023-01-03T04:04:46.559837",
     "exception": false,
     "start_time": "2023-01-03T04:04:46.555425",
     "status": "completed"
    },
    "tags": []
   },
   "source": [
    "## get list of arxiv paper candidates\n",
    "\n",
    "We use the MPIA mitarbeiter list webpage from mpia.de to get author names\n",
    "We then get all new papers from Arxiv and match authors"
   ]
  },
  {
   "cell_type": "code",
   "execution_count": 4,
   "id": "2645e73a",
   "metadata": {
    "execution": {
     "iopub.execute_input": "2023-01-03T04:04:46.570291Z",
     "iopub.status.busy": "2023-01-03T04:04:46.569773Z",
     "iopub.status.idle": "2023-01-03T04:05:17.844515Z",
     "shell.execute_reply": "2023-01-03T04:05:17.842638Z"
    },
    "papermill": {
     "duration": 31.286206,
     "end_time": "2023-01-03T04:05:17.850550",
     "exception": false,
     "start_time": "2023-01-03T04:04:46.564344",
     "status": "completed"
    },
    "tags": []
   },
   "outputs": [
    {
     "name": "stdout",
     "output_type": "stream",
     "text": [
      "Arxiv has 41 new papers today\n",
      "          18 with possible author matches\n"
     ]
    }
   ],
   "source": [
    "# get list from MPIA website\n",
    "# it automatically filters identified non-scientists :func:`mpia.filter_non_scientists`\n",
    "mpia_authors = mpia.get_mpia_mitarbeiter_list()\n",
    "new_papers = get_new_papers()\n",
    "# add manual references\n",
    "add_paper_refs = []\n",
    "new_papers.extend([get_paper_from_identifier(k) for k in add_paper_refs])\n",
    "\n",
    "# select only papers with matching author names and highlight authors\n",
    "hl_list = [k[0] for k in mpia_authors]\n",
    "\n",
    "candidates = []\n",
    "for paperk in new_papers:\n",
    "    hl_authors = highlight_authors_in_list(paperk['authors'], hl_list)\n",
    "    matches = [(hl, orig) for hl, orig in zip(hl_authors, paperk['authors']) if 'mark' in hl]\n",
    "    paperk['authors'] = hl_authors\n",
    "    if matches:\n",
    "        candidates.append(paperk)\n",
    "print(\"\"\"Arxiv has {0:,d} new papers today\"\"\".format(len(new_papers)))        \n",
    "print(\"\"\"          {0:,d} with possible author matches\"\"\".format(len(candidates)))"
   ]
  },
  {
   "cell_type": "markdown",
   "id": "3543b34a",
   "metadata": {
    "papermill": {
     "duration": 0.005556,
     "end_time": "2023-01-03T04:05:17.860913",
     "exception": false,
     "start_time": "2023-01-03T04:05:17.855357",
     "status": "completed"
    },
    "tags": []
   },
   "source": [
    "# Parse sources and generate relevant outputs\n",
    "\n",
    "From the candidates, we do the following steps:\n",
    "* get their tarball from ArXiv (and extract data)\n",
    "* find the main .tex file: find one with \\documentclass{...} (sometimes it's non trivial)\n",
    "* Check affiliations with :func:`validation`, which uses :func:`mpia.affiliation_verifications`\n",
    "* If passing the affiliations: we parse the .tex source\n",
    "   * inject sub-documents into the main (flatten the main document)\n",
    "   * parse structure, extract information (title, abstract, authors, figures...)\n",
    "   * handles `\\graphicspath` if provided\n",
    "* Generate the .md document."
   ]
  },
  {
   "cell_type": "code",
   "execution_count": 5,
   "id": "9576b79e",
   "metadata": {
    "execution": {
     "iopub.execute_input": "2023-01-03T04:05:17.872616Z",
     "iopub.status.busy": "2023-01-03T04:05:17.871936Z",
     "iopub.status.idle": "2023-01-03T04:06:31.306829Z",
     "shell.execute_reply": "2023-01-03T04:06:31.306024Z"
    },
    "papermill": {
     "duration": 73.443094,
     "end_time": "2023-01-03T04:06:31.308866",
     "exception": false,
     "start_time": "2023-01-03T04:05:17.865772",
     "status": "completed"
    },
    "scrolled": false,
    "tags": []
   },
   "outputs": [
    {
     "data": {
      "application/vnd.jupyter.widget-view+json": {
       "model_id": "c73c4cdc0c2540fb8593a5c3dce488e1",
       "version_major": 2,
       "version_minor": 0
      },
      "text/plain": [
       "  0%|          | 0/17 [00:00<?, ?it/s]"
      ]
     },
     "metadata": {},
     "output_type": "display_data"
    },
    {
     "name": "stdout",
     "output_type": "stream",
     "text": [
      "Retrieving document from  https://arxiv.org/e-print/2301.00010\n"
     ]
    },
    {
     "name": "stderr",
     "output_type": "stream",
     "text": [
      "/tmp/ipykernel_2098/4030337529.py:34: LatexWarning: 2301.00010 did not run properly\n",
      "not a gzip file\n",
      "  warnings.warn(latex.LatexWarning(f\"{paper_id:s} did not run properly\\n\" +\n"
     ]
    },
    {
     "name": "stdout",
     "output_type": "stream",
     "text": [
      "Retrieving document from  https://arxiv.org/e-print/2301.00017\n"
     ]
    },
    {
     "name": "stdout",
     "output_type": "stream",
     "text": [
      "extracting tarball to tmp_2301.00017..."
     ]
    },
    {
     "name": "stdout",
     "output_type": "stream",
     "text": [
      " done.\n",
      "Retrieving document from  https://arxiv.org/e-print/2301.00022\n"
     ]
    },
    {
     "name": "stderr",
     "output_type": "stream",
     "text": [
      "/opt/hostedtoolcache/Python/3.9.16/x64/lib/python3.9/site-packages/IPython/core/interactiveshell.py:3433: LatexWarning: Multiple tex files.\n",
      "\n",
      "  exec(code_obj, self.user_global_ns, self.user_ns)\n",
      "/opt/hostedtoolcache/Python/3.9.16/x64/lib/python3.9/site-packages/IPython/core/interactiveshell.py:3433: LatexWarning: Found documentclass in tmp_2301.00017/main.tex\n",
      "\n",
      "  exec(code_obj, self.user_global_ns, self.user_ns)\n"
     ]
    },
    {
     "name": "stdout",
     "output_type": "stream",
     "text": [
      "extracting tarball to tmp_2301.00022..."
     ]
    },
    {
     "name": "stdout",
     "output_type": "stream",
     "text": [
      " done.\n",
      "Retrieving document from  https://arxiv.org/e-print/2301.00027\n"
     ]
    },
    {
     "name": "stdout",
     "output_type": "stream",
     "text": [
      "extracting tarball to tmp_2301.00027..."
     ]
    },
    {
     "name": "stdout",
     "output_type": "stream",
     "text": [
      " done.\n",
      "Retrieving document from  https://arxiv.org/e-print/2301.00064\n"
     ]
    },
    {
     "name": "stderr",
     "output_type": "stream",
     "text": [
      "/opt/hostedtoolcache/Python/3.9.16/x64/lib/python3.9/site-packages/IPython/core/interactiveshell.py:3433: LatexWarning: Multiple tex files.\n",
      "\n",
      "  exec(code_obj, self.user_global_ns, self.user_ns)\n",
      "/opt/hostedtoolcache/Python/3.9.16/x64/lib/python3.9/site-packages/IPython/core/interactiveshell.py:3433: LatexWarning: Found documentclass in tmp_2301.00027/ceers_miri_lbg_seds.tex\n",
      "\n",
      "  exec(code_obj, self.user_global_ns, self.user_ns)\n",
      "/opt/hostedtoolcache/Python/3.9.16/x64/lib/python3.9/site-packages/arxiv_on_deck_2/latex.py:292: LatexWarning: Latex injecting: 'figset_spec_plots_burst.tex' from 'tmp_2301.00027/figset_spec_plots_burst.tex'\n",
      "  warnings.warn(LatexWarning(f\"Latex injecting: '{ext}' from '{subsource}'\"))\n",
      "/opt/hostedtoolcache/Python/3.9.16/x64/lib/python3.9/site-packages/arxiv_on_deck_2/latex.py:292: LatexWarning: Latex injecting: 'figset_montage.tex' from 'tmp_2301.00027/figset_montage.tex'\n",
      "  warnings.warn(LatexWarning(f\"Latex injecting: '{ext}' from '{subsource}'\"))\n",
      "/opt/hostedtoolcache/Python/3.9.16/x64/lib/python3.9/site-packages/arxiv_on_deck_2/latex.py:292: LatexWarning: Latex injecting: 'defs' from 'tmp_2301.00027/defs.tex'\n",
      "  warnings.warn(LatexWarning(f\"Latex injecting: '{ext}' from '{subsource}'\"))\n"
     ]
    },
    {
     "name": "stdout",
     "output_type": "stream",
     "text": [
      "extracting tarball to tmp_2301.00064..."
     ]
    },
    {
     "name": "stdout",
     "output_type": "stream",
     "text": [
      " done.\n",
      "Retrieving document from  https://arxiv.org/e-print/2301.00113\n"
     ]
    },
    {
     "name": "stdout",
     "output_type": "stream",
     "text": [
      "extracting tarball to tmp_2301.00113..."
     ]
    },
    {
     "name": "stdout",
     "output_type": "stream",
     "text": [
      " done.\n",
      "Retrieving document from  https://arxiv.org/e-print/2301.00338\n"
     ]
    },
    {
     "name": "stderr",
     "output_type": "stream",
     "text": [
      "/tmp/ipykernel_2098/4030337529.py:34: LatexWarning: 2301.00113 did not run properly\n",
      "'utf-8' codec can't decode byte 0xa8 in position 2991: invalid start byte\n",
      "  warnings.warn(latex.LatexWarning(f\"{paper_id:s} did not run properly\\n\" +\n"
     ]
    },
    {
     "name": "stdout",
     "output_type": "stream",
     "text": [
      "extracting tarball to tmp_2301.00338..."
     ]
    },
    {
     "name": "stdout",
     "output_type": "stream",
     "text": [
      " done.\n",
      "Retrieving document from  https://arxiv.org/e-print/2301.00347\n"
     ]
    },
    {
     "name": "stderr",
     "output_type": "stream",
     "text": [
      "/opt/hostedtoolcache/Python/3.9.16/x64/lib/python3.9/site-packages/IPython/core/interactiveshell.py:3433: LatexWarning: Multiple tex files.\n",
      "\n",
      "  exec(code_obj, self.user_global_ns, self.user_ns)\n",
      "/opt/hostedtoolcache/Python/3.9.16/x64/lib/python3.9/site-packages/IPython/core/interactiveshell.py:3433: LatexWarning: Found documentclass in tmp_2301.00338/fdt.tex\n",
      "\n",
      "  exec(code_obj, self.user_global_ns, self.user_ns)\n",
      "/opt/hostedtoolcache/Python/3.9.16/x64/lib/python3.9/site-packages/arxiv_on_deck_2/latex.py:292: LatexWarning: Latex injecting: 'preamble' from 'tmp_2301.00338/preamble.tex'\n",
      "  warnings.warn(LatexWarning(f\"Latex injecting: '{ext}' from '{subsource}'\"))\n"
     ]
    },
    {
     "name": "stdout",
     "output_type": "stream",
     "text": [
      "extracting tarball to tmp_2301.00347..."
     ]
    },
    {
     "name": "stdout",
     "output_type": "stream",
     "text": [
      " done.\n",
      "Retrieving document from  https://arxiv.org/e-print/2301.00359\n"
     ]
    },
    {
     "name": "stdout",
     "output_type": "stream",
     "text": [
      "extracting tarball to tmp_2301.00359..."
     ]
    },
    {
     "name": "stdout",
     "output_type": "stream",
     "text": [
      " done.\n",
      "Retrieving document from  https://arxiv.org/e-print/2301.00373\n"
     ]
    },
    {
     "name": "stdout",
     "output_type": "stream",
     "text": [
      "extracting tarball to tmp_2301.00373..."
     ]
    },
    {
     "name": "stdout",
     "output_type": "stream",
     "text": [
      " done.\n"
     ]
    },
    {
     "name": "stderr",
     "output_type": "stream",
     "text": [
      "/tmp/ipykernel_2098/4030337529.py:34: LatexWarning: 2301.00373 did not run properly\n",
      "sequence item 0: expected str instance, TexNode found\n",
      "  warnings.warn(latex.LatexWarning(f\"{paper_id:s} did not run properly\\n\" +\n"
     ]
    },
    {
     "name": "stdout",
     "output_type": "stream",
     "text": [
      "Retrieving document from  https://arxiv.org/e-print/2301.00490\n"
     ]
    },
    {
     "name": "stdout",
     "output_type": "stream",
     "text": [
      "extracting tarball to tmp_2301.00490..."
     ]
    },
    {
     "name": "stdout",
     "output_type": "stream",
     "text": [
      " done.\n",
      "Retrieving document from  https://arxiv.org/e-print/2301.00499\n"
     ]
    },
    {
     "name": "stdout",
     "output_type": "stream",
     "text": [
      "extracting tarball to tmp_2301.00499..."
     ]
    },
    {
     "name": "stdout",
     "output_type": "stream",
     "text": [
      " done.\n",
      "Retrieving document from  https://arxiv.org/e-print/2301.00576\n"
     ]
    },
    {
     "name": "stdout",
     "output_type": "stream",
     "text": [
      "extracting tarball to tmp_2301.00576..."
     ]
    },
    {
     "name": "stdout",
     "output_type": "stream",
     "text": [
      " done.\n",
      "Retrieving document from  https://arxiv.org/e-print/2301.00578\n"
     ]
    },
    {
     "name": "stdout",
     "output_type": "stream",
     "text": [
      "extracting tarball to tmp_2301.00578..."
     ]
    },
    {
     "name": "stdout",
     "output_type": "stream",
     "text": [
      " done.\n"
     ]
    },
    {
     "name": "stdout",
     "output_type": "stream",
     "text": [
      "Retrieving document from  https://arxiv.org/e-print/2301.00677\n"
     ]
    },
    {
     "name": "stdout",
     "output_type": "stream",
     "text": [
      "extracting tarball to tmp_2301.00677..."
     ]
    },
    {
     "name": "stdout",
     "output_type": "stream",
     "text": [
      " done.\n",
      "Retrieving document from  https://arxiv.org/e-print/2301.00705\n"
     ]
    },
    {
     "name": "stdout",
     "output_type": "stream",
     "text": [
      "extracting tarball to tmp_2301.00705..."
     ]
    },
    {
     "name": "stdout",
     "output_type": "stream",
     "text": [
      " done.\n",
      "Retrieving document from  https://arxiv.org/e-print/2301.00741\n"
     ]
    },
    {
     "name": "stdout",
     "output_type": "stream",
     "text": [
      "extracting tarball to tmp_2301.00741..."
     ]
    },
    {
     "name": "stdout",
     "output_type": "stream",
     "text": [
      " done.\n"
     ]
    }
   ],
   "source": [
    "documents = []\n",
    "failed = []\n",
    "for paper in tqdm(candidates[:-1]):\n",
    "    paper_id = paper['identifier'].lower().replace('arxiv:', '')\n",
    "    \n",
    "    folder = f'tmp_{paper_id}'\n",
    "\n",
    "    try:\n",
    "        if not os.path.isdir(folder):\n",
    "            folder = retrieve_document_source(f\"{paper_id}\", f'tmp_{paper_id}')\n",
    "        \n",
    "        try:\n",
    "            doc = latex.LatexDocument(folder, validation=validation)    \n",
    "        except AffiliationError as affilerror:\n",
    "            msg = f\"ArXiv:{paper_id:s} is not an MPIA paper... \" + str(affilerror)\n",
    "            failed.append((paper, \"affiliation error: \" + str(affilerror) ))\n",
    "            continue\n",
    "        \n",
    "        # Hack because sometimes author parsing does not work well\n",
    "        if (len(doc.authors) != len(paper['authors'])):\n",
    "            doc._authors = paper['authors']\n",
    "        if (doc.abstract) in (None, ''):\n",
    "            doc._abstract = paper['abstract']\n",
    "            \n",
    "        doc.comment = (get_markdown_badge(paper_id) + \n",
    "                       \"<mark>Appeared on: \" + paper['date'] + \"</mark> - \" +\n",
    "                       \"_\" + paper['comments'] + \"_\")\n",
    "        doc.highlight_authors_in_list(hl_list)\n",
    "\n",
    "        full_md = doc.generate_markdown_text()\n",
    "        \n",
    "        documents.append((paper_id, full_md))\n",
    "    except Exception as e:\n",
    "        warnings.warn(latex.LatexWarning(f\"{paper_id:s} did not run properly\\n\" +\n",
    "                                         str(e)\n",
    "                                        ))\n",
    "        failed.append((paper, \"latex error \" + str(e)))"
   ]
  },
  {
   "cell_type": "markdown",
   "id": "2505a25c",
   "metadata": {
    "papermill": {
     "duration": 0.007848,
     "end_time": "2023-01-03T04:06:31.324214",
     "exception": false,
     "start_time": "2023-01-03T04:06:31.316366",
     "status": "completed"
    },
    "tags": []
   },
   "source": [
    "### Export the logs\n",
    "\n",
    "Throughout, we also keep track of the logs per paper. see `logs-{today date}.md` "
   ]
  },
  {
   "cell_type": "code",
   "execution_count": 6,
   "id": "d733828a",
   "metadata": {
    "execution": {
     "iopub.execute_input": "2023-01-03T04:06:31.340864Z",
     "iopub.status.busy": "2023-01-03T04:06:31.339855Z",
     "iopub.status.idle": "2023-01-03T04:06:31.372774Z",
     "shell.execute_reply": "2023-01-03T04:06:31.371987Z"
    },
    "papermill": {
     "duration": 0.043307,
     "end_time": "2023-01-03T04:06:31.374610",
     "exception": false,
     "start_time": "2023-01-03T04:06:31.331303",
     "status": "completed"
    },
    "scrolled": false,
    "tags": []
   },
   "outputs": [
    {
     "data": {
      "text/markdown": [
       "## Successful papers"
      ],
      "text/plain": [
       "<IPython.core.display.Markdown object>"
      ]
     },
     "metadata": {},
     "output_type": "display_data"
    },
    {
     "data": {
      "text/markdown": [
       "\n",
       "|||\n",
       "|---:|:---|\n",
       "| [![arXiv](https://img.shields.io/badge/arXiv-arXiv:2301.00578-b31b1b.svg)](https://arxiv.org/abs/arXiv:2301.00578) | **PHANGS-JWST First Results: Variations in PAH Fraction as a Function of  ISM Phase and Metallicity**  |\n",
       "|| Jérémy Chastenet, et al. -- incl., <mark>Daizhong Liu</mark>, <mark>Frank Bigiel</mark>, <mark>Annie Hughes</mark>, <mark>Kathryn Kreckel</mark>, <mark>Eva Schinnerer</mark> |\n",
       "|*Appeared on*| *2023-01-03*|\n",
       "|*Comments*| *13 pages, 4 figures. Accepted as part of a PHANGS-JWST Focus Issue to appear in ApJ*|\n",
       "|**Abstract**| We present maps tracing the fraction of dust in the form of polycyclic aromatic hydrocarbons (PAHs) in IC 5332, NGC 628, NGC 1365, and NGC 7496 from JWST/MIRI observations. We trace the PAH fraction by combining the F770W ($7.7~\\mu$m) and F1130W ($11.3~\\mu$m) filters to track ionized and neutral PAH emission, respectively, and comparing the PAH emission to F2100W which traces small, hot dust grains. We find average $R{\\rm_{PAH} = (F770W+F1130W)/F2100W}$ values of 3.3, 4.7, 5.1, and 3.6 in IC 5332, NGC 628, NGC 1365, and NGC 7496, respectively. We find that H II regions traced by MUSE H$\\alpha$ show a systematically low PAH fraction. The PAH fraction remains relatively constant across other galactic environments, with slight variations. We use CO + H I + H$\\alpha$ to trace the interstellar gas phase and find that the PAH fraction decreases above a value of I$_{H\\alpha}/\\Sigma_{H~I+H_2}$ $\\sim~10^{37.5}$ erg s$^{-1}$ kpc$^{-2}$ (M$_\\odot$ pc$^{-2}$)$^{-1}$, in all four galaxies. Radial profiles also show a decreasing PAH fraction with increasing radius, correlated with lower metallicity, in line with previous results showing a strong metallicity dependence to the PAH fraction. Our results suggest that the process of PAH destruction in ionized gas operates similarly across the four targets. |"
      ],
      "text/plain": [
       "[arXiv:2301.00578] PHANGS-JWST First Results: Variations in PAH Fraction as a Function of  ISM Phase and Metallicity\n",
       "\tJérémy Chastenet, et al. -- incl., <mark>Daizhong Liu</mark>, <mark>Frank Bigiel</mark>, <mark>Annie Hughes</mark>, <mark>Kathryn Kreckel</mark>, <mark>Eva Schinnerer</mark>"
      ]
     },
     "metadata": {},
     "output_type": "display_data"
    },
    {
     "data": {
      "text/markdown": [
       "## Failed papers"
      ],
      "text/plain": [
       "<IPython.core.display.Markdown object>"
      ]
     },
     "metadata": {},
     "output_type": "display_data"
    },
    {
     "data": {
      "text/markdown": [
       "\n",
       "|||\n",
       "|---:|:---|\n",
       "| [![arXiv](https://img.shields.io/badge/arXiv-arXiv:2301.00017-b31b1b.svg)](https://arxiv.org/abs/arXiv:2301.00017) | **Broad emission lines in optical spectra of hot dust-obscured galaxies  can contribute significantly to JWST/NIRCam photometry**  |\n",
       "|| Jed McKinney, et al. -- incl., <mark>Lee Armus</mark>, <mark>Keith Matthews</mark> |\n",
       "|*Appeared on*| *2023-01-03*|\n",
       "|*Comments*| *8 pages, 3 figures, 1 table, submitted to ApJL*|\n",
       "|**Abstract**| Selecting the first galaxies at z>7-10 from JWST surveys is complicated by z<6 contaminants with degenerate photometry. For example, strong optical nebular emission lines at z<6 may mimic JWST/NIRCam photometry of z>7-10 Lyman Break Galaxies (LBGs). Dust-obscured 3<z<6 galaxies in particular are potentially important contaminants, and their faint rest-optical spectra have been historically difficult to observe. A lack of optical emission line and continuum measures for 3<z<6 dusty galaxies now makes it difficult to test their expected JWST/NIRCam photometry for degenerate solutions with NIRCam dropouts. Towards this end, we quantify the contribution by strong emission lines to NIRCam photometry in a physically motivated manner by stacking 21 Keck II/NIRES spectra of hot, dust-obscured, massive ($\\log\\mathrm{M_*/M_\\odot}\\gtrsim10-11$) and infrared (IR) luminous galaxies at z~1-4. We derive an average spectrum and measure strong narrow (broad) [OIII]5007 and H$\\alpha$ features with equivalent widths of $130\\pm20$ A ($150\\pm50$ A) and $220\\pm30$ A ($540\\pm80$ A) respectively. These features can increase broadband NIRCam fluxes by factors of 1.2-1.7 (0.2-0.6 mag). Due to significant dust-attenuation ($A_V\\sim6$), we find H$\\alpha$+[NII] to be significantly brighter than [OIII]+H$\\beta$, and therefore find that emission-line dominated contaminants of high-z galaxy searches can only reproduce moderately blue perceived UV continua of $S_\\lambda\\propto\\lambda^\\beta$ with $\\beta>-1.5$ and z>4. While there are some redshifts (z~3.75) where our stack is more degenerate with the photometry of z>10 LBGs between $\\lambda_{rest}\\sim0.3-0.8\\,\\mu$m, redder filter coverage beyond $\\lambda_{obs}>3.5\\,\\mu$m and far-IR/sub-mm follow-up may be useful for breaking the degeneracy and making a crucial separation between two fairly unconstrained populations, dust-obscured galaxies at z~3-6 and LBGs at z>10. |\n",
       "|<p style=\"color:green\"> **ERROR** </p>| <p style=\"color:green\">affiliation error: mpia.affiliation_verifications: 'Heidelberg' keyword not found.</p> |"
      ],
      "text/plain": [
       "<IPython.core.display.Markdown object>"
      ]
     },
     "metadata": {},
     "output_type": "display_data"
    },
    {
     "data": {
      "text/markdown": [
       "\n",
       "|||\n",
       "|---:|:---|\n",
       "| [![arXiv](https://img.shields.io/badge/arXiv-arXiv:2301.00022-b31b1b.svg)](https://arxiv.org/abs/arXiv:2301.00022) | **Bubble in the Whale: Identifying the Optical Counterparts and Extended  Nebula for the Ultraluminous X-ray Sources in NGC 4631**  |\n",
       "|| <mark>Jing Guo</mark>, et al. -- incl., <mark>Shiwu Zhang</mark>, <mark>Jifeng Liu</mark> |\n",
       "|*Appeared on*| *2023-01-03*|\n",
       "|*Comments*| *17 pages, 10 figures, accepted by ApJ*|\n",
       "|**Abstract**| We present a deep optical imaging campaign on the starburst galaxy NGC 4631 with CFHT/MegaCam. By supplementing the HST/ACS and Chandra/ACIS archival data, we search for the optical counterpart candidates of the five brightest X-ray sources in this galaxy, four of which are identified as ultraluminous X-ray sources (ULXs). The stellar environments of the X-ray sources are analyzed using the extinction-corrected color-magnitude diagrams and the isochrone models. We discover a highly asymmetric bubble nebula around X4 which exhibits different morphology in the H$\\alpha$ and [O III] images. The [O III]/H$\\alpha$ ratio map shows that the H$\\alpha$-bright bubble may be formed mainly via the shock ionization by the one-sided jet/outflow, while the more compact [O III] structure is photoionized by the ULX. We constrain the bubble expansion velocity and interstellar medium density with the MAPPINGS V code, and hence estimate the mechanical power injected to the bubble as $P_w \\sim 5\\times10^{40}$ erg s$^{-1}$ and the corresponding bubble age of $\\sim7\\times 10^{5}$ yr. Relativistic jets are needed to provide such level of mechanical power with a mass-loss rate of $\\sim10^{-7}\\ M_{\\odot}\\ \\rm yr^{-1}$. Besides the accretion, the black hole spin is likely an additional energy source for the super-Eddington jet power. |\n",
       "|<p style=\"color:green\"> **ERROR** </p>| <p style=\"color:green\">affiliation error: mpia.affiliation_verifications: 'Heidelberg' keyword not found.</p> |"
      ],
      "text/plain": [
       "<IPython.core.display.Markdown object>"
      ]
     },
     "metadata": {},
     "output_type": "display_data"
    },
    {
     "data": {
      "text/markdown": [
       "\n",
       "|||\n",
       "|---:|:---|\n",
       "| [![arXiv](https://img.shields.io/badge/arXiv-arXiv:2301.00027-b31b1b.svg)](https://arxiv.org/abs/arXiv:2301.00027) | **CEERS Key Paper IV: Galaxies at $4 < z < 9$ are Bluer than They Appear  -- Characterizing Galaxy Stellar Populations from Rest-Frame $\\sim 1$ micron  Imaging**  |\n",
       "|| Casey Papovich, et al. -- incl., <mark>Lise-Marie Seillé</mark>, <mark>Henry C. Ferguson</mark>, <mark>Lisa J. Kewley</mark> |\n",
       "|*Appeared on*| *2023-01-03*|\n",
       "|*Comments*| *submitted to ApJ as part of the CEERS Focus Issue. 27 pages, many figures (4 Figure Sets, available upon reasonable request)*|\n",
       "|**Abstract**| We present results from the Cosmic Evolution Early Release Survey (CEERS) on the stellar-population parameters for 28 galaxies with redshifts $4<z<9$ using imaging data from the James Webb Space Telescope (JWST) Mid-Infrared Instrument (MIRI) combined with data from the Hubble Space Telescope and the Spitzer Space Telescope. The JWST/MIRI 5.6 and 7.7 $\\mu$m data extend the coverage of the rest-frame spectral-energy distribution (SED) to nearly 1 micron for galaxies in this redshift range. By modeling the galaxies' SEDs the MIRI data show that the galaxies have, on average, rest-frame UV (1600 \\r{A}) $-$ $I$-band colors 0.4 mag bluer than derived when using photometry that lacks MIRI. Therefore, the galaxies have lower (stellar)-mass-to-light ratios. The MIRI data reduce the stellar masses by $\\langle \\Delta\\log M_\\ast\\rangle=0.25$ dex at $4<z<6$ (a factor of 1.8) and 0.37 dex at $6<z<9$ (a factor of 2.3). This also reduces the star-formation rates (SFRs) by $\\langle \\Delta\\log\\mathrm{SFR} \\rangle=0.14$ dex at $4<z<6$ and 0.27 dex at $6<z<9$. The MIRI data also improve constraints on the allowable stellar mass formed in early star-formation. We model this using a star-formation history that includes both a ``burst' at $z_f=100$ and a slowly varying (\"delayed-$\\tau$\") model. The MIRI data reduce the allowable stellar mass by 0.6 dex at $4<z< 6$ and by $\\approx$1 dex at $6<z<9$. Applying these results globally, this reduces the cosmic stellar-mass density by an order of magnitude in the early universe ($z\\approx9$). Therefore, observations of rest-frame $\\gtrsim$1 $\\mu$m are paramount for constraining the stellar-mass build-up in galaxies at very high-redshifts. |\n",
       "|<p style=\"color:green\"> **ERROR** </p>| <p style=\"color:green\">affiliation error: mpia.affiliation_verifications: 'Heidelberg' keyword not found.</p> |"
      ],
      "text/plain": [
       "<IPython.core.display.Markdown object>"
      ]
     },
     "metadata": {},
     "output_type": "display_data"
    },
    {
     "data": {
      "text/markdown": [
       "\n",
       "|||\n",
       "|---:|:---|\n",
       "| [![arXiv](https://img.shields.io/badge/arXiv-arXiv:2301.00064-b31b1b.svg)](https://arxiv.org/abs/arXiv:2301.00064) | **The orbital kinematics of eta Carinae over three periastra with a  possible detection of the elusive secondary's motion**  |\n",
       "|| Emily Strawn, et al. -- incl., <mark>Herbert Pablo</mark> |\n",
       "|*Appeared on*| *2023-01-03*|\n",
       "|*Comments*| *11 pages, accepted to MNRAS*|\n",
       "|**Abstract**| The binary eta Carinae is the closest example of a very massive star, which may have formed through a merger during its Great Eruption in the mid-nineteenth century. We aimed to confirm and improve the kinematics using a spectroscopic data set taken with the CTIO 1.5 m telescope over the time period of 2008-2020, covering three periastron passages of the highly eccentric orbit. We measure line variability of H-alpha and H-beta, where the radial velocity and orbital kinematics of the primary star were measured from the H-beta emission line using a bisector method. At phases away from periastron, we observed the He II 4686 emission moving opposite the primary star, consistent with a possible Wolf-Rayet companion, although with a seemingly narrow emission line. This could represent the first detection of emission from the companion. |\n",
       "|<p style=\"color:green\"> **ERROR** </p>| <p style=\"color:green\">affiliation error: mpia.affiliation_verifications: 'Heidelberg' keyword not found.</p> |"
      ],
      "text/plain": [
       "<IPython.core.display.Markdown object>"
      ]
     },
     "metadata": {},
     "output_type": "display_data"
    },
    {
     "data": {
      "text/markdown": [
       "\n",
       "|||\n",
       "|---:|:---|\n",
       "| [![arXiv](https://img.shields.io/badge/arXiv-arXiv:2301.00338-b31b1b.svg)](https://arxiv.org/abs/arXiv:2301.00338) | **Unification of thermal and quantum noise in gravitational-wave detectors**  |\n",
       "|| Chris Whittle, <mark>Lee McCuller</mark>, Vivishek Sudhir, Matthew Evans |\n",
       "|*Appeared on*| *2023-01-03*|\n",
       "|*Comments*| *5 pages, 2 figures*|\n",
       "|**Abstract**| Contemporary gravitational-wave detectors are fundamentally limited by thermal noise -- due to dissipation in the mechanical elements of the test mass -- and quantum noise -- from the vacuum fluctuations of the optical field used to probe the test mass position. Two other fundamental noises can in principle also limit sensitivity: test-mass quantization noise due to the zero-point fluctuation of its mechanical modes, and thermal excitation of the optical field. We use the quantum fluctuation-dissipation theorem to unify all four noises. This unified picture shows precisely when test-mass quantization noise and optical thermal noise can be ignored. |\n",
       "|<p style=\"color:green\"> **ERROR** </p>| <p style=\"color:green\">affiliation error: mpia.affiliation_verifications: 'Heidelberg' keyword not found.</p> |"
      ],
      "text/plain": [
       "<IPython.core.display.Markdown object>"
      ]
     },
     "metadata": {},
     "output_type": "display_data"
    },
    {
     "data": {
      "text/markdown": [
       "\n",
       "|||\n",
       "|---:|:---|\n",
       "| [![arXiv](https://img.shields.io/badge/arXiv-arXiv:2301.00347-b31b1b.svg)](https://arxiv.org/abs/arXiv:2301.00347) | **JWST high redshift galaxy observations have a strong tension with Planck  CMB measurements**  |\n",
       "|| Deng Wang, <mark>Yizhou Liu</mark> |\n",
       "|*Appeared on*| *2023-01-03*|\n",
       "|*Comments*| *8 pages, 3 figs. Non-standard cosmolgies hardly resolve the tension between JWST high-z galaxy observations and Planck CMB data*|\n",
       "|**Abstract**| JWST high redshift galaxy observations predict a higher star formation efficiency that the standard cosmology, which poses a new tension to $\\Lambda$CDM. We find that the situation is worse than expected. The true situation is that the Planck CMB measurement has a strong tension with JWST high redshift galaxy observations. Specifically, we make a trial to alleviate this tension by considering alternative cosmological models including dark matter-baryon interaction, $f(R)$ gravity and dynamical dark energy. Within current cosmological constraints from Planck-2018 CMB data, we find that these models all fail to explain such a large tension. A possible scenario to escape from cosmological constraints is the extended Press-Schechter formalism, where we consider the local environmental effect on the early formation of massive galaxies. Interestingly, we find that an appropriate value of nonlinear environmental overdensity of a high redshift halo can well explain this tension. |\n",
       "|<p style=\"color:green\"> **ERROR** </p>| <p style=\"color:green\">affiliation error: mpia.affiliation_verifications: 'Heidelberg' keyword not found.</p> |"
      ],
      "text/plain": [
       "<IPython.core.display.Markdown object>"
      ]
     },
     "metadata": {},
     "output_type": "display_data"
    },
    {
     "data": {
      "text/markdown": [
       "\n",
       "|||\n",
       "|---:|:---|\n",
       "| [![arXiv](https://img.shields.io/badge/arXiv-arXiv:2301.00359-b31b1b.svg)](https://arxiv.org/abs/arXiv:2301.00359) | **Light Curves of Type IIP Supernovae from Neutrino-driven Explosions of  Red Supergiants Obtained by a Semi-analytic Approach**  |\n",
       "|| Shuai Zha, <mark>Bernhard Müller</mark>, Amy Weir, <mark>Alexander Heger</mark> |\n",
       "|*Appeared on*| *2023-01-03*|\n",
       "|*Comments*| *20 pages, 9 figures, 3 tables*|\n",
       "|**Abstract**| Type IIP supernovae (SNe IIP) mark the explosive death of red supergiants (RSGs), evolved massive stars with an extended hydrogen envelope. They are the most common supernova type and allow for benchmarking of supernova explosion models by statistical comparison to observed population properties rather than comparing individual models and events. We construct a large synthetic set of SNe IIP light curves (LCs) using the radiation hydrodynamics code \\texttt{SNEC} and explosion energies and nickel masses obtained from an efficient semi-analytic model for two different sets of stellar progenitor models. By direct comparison we demonstrate that the semi-analytic model yields very similar predictions as alternative phenomenological explosion models based on one-dimensional simulations. We find systematic differences of a factor of $\\mathord{\\sim}2$ in plateau luminosities between the two progenitor sets due to different stellar radii, which highlights the importance of the RSG envelope structure as a major uncertainty in interpreting LCs of SNe IIP. A comparison to a volume-limited sample of observed SNe IIP shows decent agreement in plateau luminosity, plateau duration and nickel mass for at least one of the synthetic LC sets. The models, however, do not produce sufficient events with very small nickel mass $M_\\mathrm{Ni}<0.01\\,M_\\odot$ and predict an anticorrelation between plateau luminosity and plateau duration that is not present in the observed sample, a result that warrants further study. Our results suggest that a better understanding of RSG stellar structure is no less important for reliably explaining the light curves of SNe IIP than the explosion physics. |\n",
       "|<p style=\"color:green\"> **ERROR** </p>| <p style=\"color:green\">affiliation error: mpia.affiliation_verifications: 'Heidelberg' keyword not found.</p> |"
      ],
      "text/plain": [
       "<IPython.core.display.Markdown object>"
      ]
     },
     "metadata": {},
     "output_type": "display_data"
    },
    {
     "data": {
      "text/markdown": [
       "\n",
       "|||\n",
       "|---:|:---|\n",
       "| [![arXiv](https://img.shields.io/badge/arXiv-arXiv:2301.00490-b31b1b.svg)](https://arxiv.org/abs/arXiv:2301.00490) | **$H_0$ Tension on the Light of Supermassive Black Hole Shadows Data**  |\n",
       "|| Celia Escamilla-Rivera, <mark>Rubén Torres Castillejos</mark> |\n",
       "|*Appeared on*| *2023-01-03*|\n",
       "|*Comments*| *12 pages, 6 figures and 2 tables. Complete abstract inside the paper*|\n",
       "|**Abstract**| Cosmological tensions in current times have opened a wide door to study new probes to constrain cosmological parameters, specifically, to determine the value of the Hubble constant $H_0$ through independent techniques. The two standard methods to measure/infer $H_0$ rely on: (i) anchored observables for the distance ladder, and (ii) establishing the relationship of the $H_0$ to the angular size of the sound horizon in the recombination era assuming a standard Cosmological Constant Cold Dark Matter ($\\Lambda$CDM) cosmology. However, the former requires a calibration with observables at nearby distances, while the latter is not a direct measurement and is model-dependent. The physics behind these aspects restrains our possibilities in selecting a calibration method that can help minimise the systematic effects or in considering a fixed cosmological model background. Anticipating the possibility of deeply exploring the physics of new nearby observables such as the recently detected black hole shadows, in this paper we propose standard rules to extend the studies related to these observables. Supermassive black hole shadows can be characterised by two parameters: the angular size of the shadow and the black hole mass. We found that it is possible to break the degeneracy between these parameters by forecasting and fixing certain conditions at high(er) redshifts, i.e., instead of considering the $\\approx$10\\% precision from the EHT array, our results reach a $\\approx 4\\%$, a precision that could be achievable in experiments in the near future. |\n",
       "|<p style=\"color:green\"> **ERROR** </p>| <p style=\"color:green\">affiliation error: mpia.affiliation_verifications: 'Heidelberg' keyword not found.</p> |"
      ],
      "text/plain": [
       "<IPython.core.display.Markdown object>"
      ]
     },
     "metadata": {},
     "output_type": "display_data"
    },
    {
     "data": {
      "text/markdown": [
       "\n",
       "|||\n",
       "|---:|:---|\n",
       "| [![arXiv](https://img.shields.io/badge/arXiv-arXiv:2301.00499-b31b1b.svg)](https://arxiv.org/abs/arXiv:2301.00499) | **Linear and circular polarimetry of the optically bright relativistic  Tidal Disruption Event AT 2022cmc**  |\n",
       "|| Aleksandar Cikota, et al. -- incl., <mark>Lixin Dai</mark> |\n",
       "|*Appeared on*| *2023-01-03*|\n",
       "|*Comments*| *Accepted for publication in ApJL*|\n",
       "|**Abstract**| Tidal disruption events (TDEs) occur when a star orbiting a massive black hole is sufficiently close to be tidally ripped apart by the black hole. AT 2022cmc is the first relativistic TDE that was observed (and discovered) as an optically bright and fast transient, showing signatures of non-thermal radiation induced by a jet which is oriented towards the Earth. In this work, we present optical linear and circular polarization measurements, observed with VLT/FORS2 in the $R$-band (which corresponds to the blue/UV part of the spectrum in rest frame), $\\sim$ 7.2 and $\\sim$ 12.2 rest-frame days after the first detection, respectively, when the light curve of the transient had settled in a bright blue plateau. Both linear and circular polarization are consistent with zero, $p_{lin}$ = 0.14 $\\pm$ 0.73 % and $p_{cir}$ = $-$0.30 $\\pm$ 0.53 %. This is the highest S/N linear polarization measurement obtained for a relativistic TDE and the first circular polarimetry for such a transient. The non detection of the linear and circular polarization is consistent with the scenario of AT 2022cmc being a TDE where the thermal component (disk+outflows) is viewed pole-on, assuming an axially symmetric geometry. The presence and effect of a jet and/or external shocks are, however, difficult to disentangle. |\n",
       "|<p style=\"color:green\"> **ERROR** </p>| <p style=\"color:green\">affiliation error: mpia.affiliation_verifications: 'Heidelberg' keyword not found.</p> |"
      ],
      "text/plain": [
       "<IPython.core.display.Markdown object>"
      ]
     },
     "metadata": {},
     "output_type": "display_data"
    },
    {
     "data": {
      "text/markdown": [
       "\n",
       "|||\n",
       "|---:|:---|\n",
       "| [![arXiv](https://img.shields.io/badge/arXiv-arXiv:2301.00576-b31b1b.svg)](https://arxiv.org/abs/arXiv:2301.00576) | **Time-averaging Polarimetric and Spectral Properties of GRBs**  |\n",
       "|| <mark>Liang Li</mark>, Soroush Shakeri |\n",
       "|*Appeared on*| *2023-01-03*|\n",
       "|*Comments*| *25 pages, 9 figures (including 23 panels), 5 tables, submitted*|\n",
       "|**Abstract**| One of the most fundamental and yet open issues in gamma-ray burst (GRB) physics, is the comprehension of the nature of their jet composition. The investigation of joint polarimetric and spectral properties is essential to probe the jet composition and radiation mechanism of GRBs. Several distinct categories of jet properties -- the ``Kinetic-energy-dominated\" (KED), ``Poynting-flux-dominated\" (PFD), and ``Hybrid-dominated\" (HD) jets -- have been observed in the observed GRB spectra, and the emission dominated by different jet properties is expected to have a different level of polarization ($\\pi_{\\rm KED}\\lesssim\\pi_{\\rm HD}\\lesssim\\pi_{\\rm PED}$). In the present paper, we collected a GRB sample in which all the bursts detected by the Gamma-ray Burst Monitor (GBM) on board the NASA {\\it Fermi} Gamma-ray Space Telescope whose polarization measurements are also reported in the literature and the epochs of prompt emission are heavily overlapped with their polarization observations, aiming to establish a connection between the polarization and jet properties of GRBs, and to confirm the validity of this correlation ($\\pi_{\\rm KED}\\lesssim\\pi_{\\rm HD}\\lesssim\\pi_{\\rm PED}$) from observations. With a detailed spectral analysis, we found that all the bursts are classified as the ``Hybrid\" jet type, implying that one cannot rule out that the photosphere emission may also be the possible mechanism powering the high levels of polarization. Finally, we present different polarization models in the presence of ordered and random magnetic field configurations with the properties of corresponding hybrid jets in order to interpret polarization measurements of the prompt emission in our sample. |\n",
       "|<p style=\"color:green\"> **ERROR** </p>| <p style=\"color:green\">affiliation error: mpia.affiliation_verifications: 'Heidelberg' keyword not found.</p> |"
      ],
      "text/plain": [
       "<IPython.core.display.Markdown object>"
      ]
     },
     "metadata": {},
     "output_type": "display_data"
    },
    {
     "data": {
      "text/markdown": [
       "\n",
       "|||\n",
       "|---:|:---|\n",
       "| [![arXiv](https://img.shields.io/badge/arXiv-arXiv:2301.00677-b31b1b.svg)](https://arxiv.org/abs/arXiv:2301.00677) | **The Mars Orbiter Magnetometer of Tianwen-1: In-flight Performance and  First Science Results**  |\n",
       "|| Yuming Wang, et al. -- incl., <mark>Tielong Zhang</mark>, <mark>Guoqiang Wang</mark>, <mark>Kai Liu</mark>, <mark>Yiren Li</mark>, <mark>Zhoubin Zhang</mark>, <mark>Jingnan Guo</mark> |\n",
       "|*Appeared on*| *2023-01-03*|\n",
       "|*Comments*| *14 pages, 10 figures*|\n",
       "|**Abstract**| Mars Orbiter MAGnetometer (MOMAG) is a scientifc instrument onboard the orbiter of China's first mission for Mars -- Tianwen-1. It started to routinely measure the magnetic field from the solar wind to magnetic pile-up region surrounding Mars since November 13, 2021. Here we present its in-flight performance and first science results based on the first one and a half months' data. By comparing with the magnetic field data in the solar wind from the Mars Atmosphere and Volatile EvolutioN (MAVEN), the magnetic field by MOMAG is at the same level in magnitude, and the same magnetic structures with the similar variations in three components could be found in MOMAG data. In the first one and a half months, we recognize 158 clear bow shock (BS) crossings from MOMAG data, whose locations statistically match well with the modeled average BS. We also identify 5 pairs of simultaneous BS crossings of the Tianwen-1's orbiter and MAVEN. These BS crossings confirm the global shape of modeled BS as well as the south-north asymmetry of the Martian BS. Two presented cases in this paper suggest that the BS is probably more dynamic at flank than near the nose. So far, MOMAG performs well, and provides accurate magnetic field vectors. MOMAG is continuously scanning the magnetic field surrounding Mars. These measurements complemented by observations from MAVEN will undoubtedly advance our understanding of the plasma environment of Mars. |\n",
       "|<p style=\"color:green\"> **ERROR** </p>| <p style=\"color:green\">affiliation error: mpia.affiliation_verifications: 'Heidelberg' keyword not found.</p> |"
      ],
      "text/plain": [
       "<IPython.core.display.Markdown object>"
      ]
     },
     "metadata": {},
     "output_type": "display_data"
    },
    {
     "data": {
      "text/markdown": [
       "\n",
       "|||\n",
       "|---:|:---|\n",
       "| [![arXiv](https://img.shields.io/badge/arXiv-arXiv:2301.00705-b31b1b.svg)](https://arxiv.org/abs/arXiv:2301.00705) | **White Dwarfs with Infrared Excess from LAMOST Data Release 5**  |\n",
       "|| <mark>Lin Wang</mark>, et al. -- incl., <mark>Xiaoxia Zhang</mark>, <mark>Zhi-Xiang Zhang</mark>, <mark>Jincheng Guo</mark> |\n",
       "|*Appeared on*| *2023-01-03*|\n",
       "|*Comments*| *15 pages, 7 figures, 3 tables; accepted for publication in ApJ*|\n",
       "|**Abstract**| Infrared excess is an important probe of sub-stellar companions and/or debris disks around white dwarfs (WDs). Such systems are still rare for in-depth understanding of their formation and long-term evolution. One of the largest spectroscopic surveys carried out by the Large sky Area Multi-Object fiber Spectroscopic Telescope (LAMOST) recently released more than $3000$ WDs, a significant fraction of which have not undergone excess search. Here we present cross-correlation of LAMOST DR5 WD catalog with the Pan-STARRS, SDSS, UKIDSS, 2MASS, and {\\it WISE}. By performing SED (spectral energy distribution) fitting for 846 WDs with $WISE$ detections, we identify 50 candidates with infrared excess, including 7 candidate WD+M dwarf binaries, 31 candidate WD+brown dwarf (BD) binaries and 12 candidate WD+dust disk systems. 8 of the dust disk systems are our new identifications. Utilizing a systematic survey with accurate stellar parameters derived from spectral fitting, our work is an important addition to previous searches for infrared excess from SDSS and {\\it Gaia} WDs, and provides a significant ($\\gtrsim8\\%$) complement to current database of WDs with candidate BD companions and dust disks. The frequencies of WD+BD binaries and WD+dust disk systems are constrained to be $\\lesssim3.7\\%$ and $\\sim1.4\\%$, respectively. The properties of candidate dust disk systems are discussed. All of our candidates require follow-up observations for confirmation owing to limited spatial resolution of {\\it WISE}. |\n",
       "|<p style=\"color:green\"> **ERROR** </p>| <p style=\"color:green\">affiliation error: mpia.affiliation_verifications: 'Heidelberg' keyword not found.</p> |"
      ],
      "text/plain": [
       "<IPython.core.display.Markdown object>"
      ]
     },
     "metadata": {},
     "output_type": "display_data"
    },
    {
     "data": {
      "text/markdown": [
       "\n",
       "|||\n",
       "|---:|:---|\n",
       "| [![arXiv](https://img.shields.io/badge/arXiv-arXiv:2301.00741-b31b1b.svg)](https://arxiv.org/abs/arXiv:2301.00741) | **Analysis of the first infrared spectrum of quasi-bound H2 line emission  in Herbig-Haro 7**  |\n",
       "|| Evelyne Roueff, Michael G. Burton, Thomas R. Geballe, <mark>Hervé Abgrall</mark> |\n",
       "|*Appeared on*| *2023-01-03*|\n",
       "|*Comments*| *5 pages, 3 figures, accepted in Astronomy and Astrophysics Letters 22/12/2022*|\n",
       "|**Abstract**| Context. Highly excited molecular hydrogen H2 has been observed in many regions of shocked molecular gas. A recently published $K$-band spectrum of Herbig-Haro 7 (HH7) contains several vibration-rotation lines of H2 from highly excited energy levels that have not been detected elsewhere, including a line at 2.179 $\\mu$m identified as arising from the $v$=2 $J$=29 level, which lies above the dissociation limit of H2. One emission line at 2.104 $\\mu$m in this spectrum was unidentified. Aims. We aim to complete the analysis of the spectrum of HH7 by including previously missing molecular data that have been recently computed. Methods. We re-analysed the $K$-band spectrum, emphasising the physics of quasi-bound upper levels that can produce infrared emission lines in the $K$ band. Results. We confirm the identification of the $2-1$ $S$(27) line at 2.1785 $\\mu$m and identify the line at 2.1042 $\\mu$m as due to the 1-0 $S$(29) transition of H2, whose upper level energy is also higher than the dissociation limit. This latter identification, its column density, and the energy of its upper level further substantiate the existence of a hot thermal component at 5000 K in the HH7 environment.} Conclusion. The presence of the newly identified $1-0$ $S$(29) line, whose quasi-bound upper level ($v$=1, $J$=31) has a significant spontaneous dissociation probability, shows that dissociation of H2 is occurring. The mechanism by which virtually all of the H2 levels with energies from 20,000 K to 53,000 K is maintained in local thermodynamic equilibrium at a single temperature of $\\sim$5,000 K remains to be understood. |\n",
       "|<p style=\"color:green\"> **ERROR** </p>| <p style=\"color:green\">affiliation error: mpia.affiliation_verifications: 'Heidelberg' keyword not found.</p> |"
      ],
      "text/plain": [
       "<IPython.core.display.Markdown object>"
      ]
     },
     "metadata": {},
     "output_type": "display_data"
    },
    {
     "data": {
      "text/markdown": [
       "\n",
       "|||\n",
       "|---:|:---|\n",
       "| [![arXiv](https://img.shields.io/badge/arXiv-arXiv:2301.00113-b31b1b.svg)](https://arxiv.org/abs/arXiv:2301.00113) | **Black hole images: A Review**  |\n",
       "|| Songbai Chen, Jiliang Jing, <mark>Wei-Liang Qian</mark>, Bin Wang |\n",
       "|*Appeared on*| *2023-01-03*|\n",
       "|*Comments*| *17 pages, 8 figures, Acepted by Sci. China-Phys. Mech. Astron*|\n",
       "|**Abstract**| In recent years, unprecedented progress has been achieved regarding black holes' observation through the electromagnetic channel. The images of the supermassive black holes M87$^{*}$ and Sgr A$^{*}$ released by the Event Horizon Telescope (EHT) Collaboration provided direct visual evidence for their existence, which has stimulated further studies on various aspects of the compact celestial objects. Moreover, the information stored in these images provides a new way to understand the pertinent physical processes that occurred near the black holes, to test alternative theories of gravity, and to furnish insight into fundamental physics. In this review, we briefly summarize the recent developments on the topic. In particular, we elaborate on the features and formation mechanism of black hole shadows, the properties of black hole images illuminated by the surrounding thin accretion disk, and the corresponding polarization patterns. The potential applications of the relevant studies are also addressed. |\n",
       "|<p style=\"color:red\"> **ERROR** </p>| <p style=\"color:red\">latex error 'utf-8' codec can't decode byte 0xa8 in position 2991: invalid start byte</p> |"
      ],
      "text/plain": [
       "<IPython.core.display.Markdown object>"
      ]
     },
     "metadata": {},
     "output_type": "display_data"
    },
    {
     "data": {
      "text/markdown": [
       "\n",
       "|||\n",
       "|---:|:---|\n",
       "| [![arXiv](https://img.shields.io/badge/arXiv-arXiv:2301.00010-b31b1b.svg)](https://arxiv.org/abs/arXiv:2301.00010) | **Exploring the Solar Poles: The Last Great Frontier of the Sun**  |\n",
       "|| Dibyendu Nandy, et al. -- incl., <mark>Sushant S. Mahajan</mark> |\n",
       "|*Appeared on*| *2023-01-03*|\n",
       "|*Comments*| *This White Paper was submitted in 2022 to the United States National Academies Solar and Space Physics (Heliophysics) Decadal Survey*|\n",
       "|**Abstract**| Despite investments in multiple space and ground-based solar observatories by the global community, the Sun's polar regions remain unchartered territory - the last great frontier for solar observations. Breaching this frontier is fundamental to understanding the solar cycle - the ultimate driver of short-to-long term solar activity that encompasses space weather and space climate. Magnetohydrodynamic dynamo models and empirically observed relationships have established that the polar field is the primary determinant of the future solar cycle amplitude. Models of solar surface evolution of tilted active regions indicate that the mid to high latitude surges of magnetic flux govern dynamics leading to the reversal and build-up of polar fields. Our theoretical understanding and numerical models of this high latitude magnetic field dynamics and plasma flows - that are a critical component of the sunspot cycle - lack precise observational constraints. This limitation compromises our ability to observe the enigmatic kilo Gauss polar flux patches and constrain the polar field distribution at high latitudes. The lack of these observations handicap our understanding of how high latitude magnetic fields power polar jets, plumes, and the fast solar wind that extend to the boundaries of the heliosphere and modulate solar open flux and cosmic ray flux within the solar system. Accurate observation of the Sun's polar regions, therefore, is the single most outstanding challenge that confronts Heliophysics. This paper argues the scientific case for novel out of ecliptic observations of the Sun's polar regions, in conjunction with existing, or future multi-vantage point heliospheric observatories. Such a mission concept can revolutionize the field of Heliophysics like no other mission concept has - with relevance that transcends spatial regimes from the solar interior to the heliosphere. |\n",
       "|<p style=\"color:red\"> **ERROR** </p>| <p style=\"color:red\">latex error not a gzip file</p> |"
      ],
      "text/plain": [
       "<IPython.core.display.Markdown object>"
      ]
     },
     "metadata": {},
     "output_type": "display_data"
    },
    {
     "data": {
      "text/markdown": [
       "\n",
       "|||\n",
       "|---:|:---|\n",
       "| [![arXiv](https://img.shields.io/badge/arXiv-arXiv:2301.00373-b31b1b.svg)](https://arxiv.org/abs/arXiv:2301.00373) | **Photometric IGM tomography with Subaru/HSC: the large-scale structure of  Ly$α$ emitters and IGM transmission in the COSMOS field at $z\\sim5$**  |\n",
       "|| Koki Kakiichi, et al. -- incl., <mark>Joseph F. Hennawi</mark>, <mark>Romain A. Meyer</mark>, <mark>Sarah I. Bosman</mark> |\n",
       "|*Appeared on*| *2023-01-03*|\n",
       "|*Comments*| *27 pages, 21 figures, submitted to MNRAS, table available as online supplementary material*|\n",
       "|**Abstract**| We present a novel technique called \"photometric IGM tomography\" to map the intergalactic medium (IGM) at $z\\simeq4.9$ in the COSMOS field. It utilizes deep narrow-band (NB) imaging to photometrically detect faint Ly$\\alpha$ forest transmission in background galaxies across the Subaru/Hyper-Suprime Cam (HSC)'s $1.8\\rm\\,sq.\\,deg$ field of view and locate Ly$\\alpha$ emitters (LAEs) in the same cosmic volume. Using ultra-deep HSC images and Bayesian spectral energy distribution fitting, we measure the Ly$\\alpha$ forest transmission at $z\\simeq4.9$ along a large number ($140$) of background galaxies selected from the DEIMOS10k spectroscopic catalogue at $4.98<z<5.89$ and the SILVERRUSH LAEs at $z\\simeq5.7$. We photometrically measure the mean Ly$\\alpha$ forest transmission and achieve a result consistent with previous measurements based on quasar spectra. We also measure the angular LAE-Ly$\\alpha$ forest cross-correlation and Ly$\\alpha$ forest auto-correlation functions and place an observational constraint on the large-scale fluctuations of the IGM around LAEs at $z\\simeq4.9$. Finally, we present the reconstructed 2D tomographic map of the IGM, co-spatial with the large-scale structure of LAEs, at a transverse resolution of $11 \\,h^{-1}\\rm cMpc$ across $140\\,h^{-1}\\rm cMpc$ in the COSMOS field at $z\\simeq4.9$. We discuss the observational requirements and the potential applications of this new technique for understanding the sources of reionization, quasar radiative history, and galaxy-IGM correlations across $z\\sim3-6$. Our results represent the first proof-of-concept of photometric IGM tomography, offering a new route to examining early galaxy evolution in the context of the large-scale cosmic web from the epoch of reionization to cosmic noon. |\n",
       "|<p style=\"color:red\"> **ERROR** </p>| <p style=\"color:red\">latex error sequence item 0: expected str instance, TexNode found</p> |"
      ],
      "text/plain": [
       "<IPython.core.display.Markdown object>"
      ]
     },
     "metadata": {},
     "output_type": "display_data"
    }
   ],
   "source": [
    "import datetime\n",
    "today = str(datetime.date.today())\n",
    "logfile = f\"_build/html/logs/log-{today}.md\"\n",
    "\n",
    "\n",
    "with open(logfile, 'w') as logs:\n",
    "    # Success\n",
    "    logs.write(f'# Arxiv on Deck 2: Logs - {today}\\n\\n')\n",
    "    logs.write(\"\"\"* Arxiv had {0:,d} new papers\\n\"\"\".format(len(new_papers)))\n",
    "    logs.write(\"\"\"    * {0:,d} with possible author matches\\n\\n\"\"\".format(len(candidates)))\n",
    "    logs.write(\"## Sucessful papers\\n\\n\")\n",
    "    display(Markdown(\"## Successful papers\"))\n",
    "    success = [k[0] for k in documents]\n",
    "    for candid in candidates:\n",
    "        if candid['identifier'].split(':')[-1] in success:\n",
    "            display(candid)\n",
    "            logs.write(candid.generate_markdown_text() + '\\n\\n')\n",
    "\n",
    "    ## failed\n",
    "    logs.write(\"## Failed papers\\n\\n\")\n",
    "    display(Markdown(\"## Failed papers\"))\n",
    "    failed = sorted(failed, key=lambda x: x[1])\n",
    "    current_reason = \"\"\n",
    "    for paper, reason in failed:\n",
    "        if 'affiliation' in reason:\n",
    "            color = 'green'\n",
    "        else:\n",
    "            color = 'red'\n",
    "        data = Markdown(\n",
    "                paper.generate_markdown_text() + \n",
    "                f'\\n|<p style=\"color:{color:s}\"> **ERROR** </p>| <p style=\"color:{color:s}\">{reason:s}</p> |'\n",
    "               )\n",
    "        if reason != current_reason:\n",
    "            logs.write(f'### {reason:s} \\n\\n')\n",
    "            current_reason = reason\n",
    "        logs.write(data.data + '\\n\\n')\n",
    "        \n",
    "        # only display here the important errors (all in logs)\n",
    "        # if color in ('red',):\n",
    "        display(data)"
   ]
  },
  {
   "cell_type": "markdown",
   "id": "472d20ee",
   "metadata": {
    "papermill": {
     "duration": 0.009484,
     "end_time": "2023-01-03T04:06:31.394069",
     "exception": false,
     "start_time": "2023-01-03T04:06:31.384585",
     "status": "completed"
    },
    "tags": []
   },
   "source": [
    "## Export documents\n",
    "\n",
    "We now write the .md files and export relevant images"
   ]
  },
  {
   "cell_type": "code",
   "execution_count": 7,
   "id": "d426aed9",
   "metadata": {
    "execution": {
     "iopub.execute_input": "2023-01-03T04:06:31.414904Z",
     "iopub.status.busy": "2023-01-03T04:06:31.414153Z",
     "iopub.status.idle": "2023-01-03T04:06:31.423975Z",
     "shell.execute_reply": "2023-01-03T04:06:31.423178Z"
    },
    "papermill": {
     "duration": 0.022381,
     "end_time": "2023-01-03T04:06:31.425944",
     "exception": false,
     "start_time": "2023-01-03T04:06:31.403563",
     "status": "completed"
    },
    "tags": []
   },
   "outputs": [],
   "source": [
    "def export_markdown_summary(md: str, md_fname:str, directory: str):\n",
    "    \"\"\"Export MD document and associated relevant images\"\"\"\n",
    "    import os\n",
    "    import shutil\n",
    "    import re\n",
    "\n",
    "    if (os.path.exists(directory) and not os.path.isdir(directory)):\n",
    "        raise RuntimeError(f\"a non-directory file exists with name {directory:s}\")\n",
    "\n",
    "    if (not os.path.exists(directory)):\n",
    "        print(f\"creating directory {directory:s}\")\n",
    "        os.mkdir(directory)\n",
    "\n",
    "    fig_fnames = (re.compile(r'\\[Fig.*\\]\\((.*)\\)').findall(md) + \n",
    "                  re.compile(r'\\<img src=\"([^>\\s]*)\"[^>]*/>').findall(md))\n",
    "    for fname in fig_fnames:\n",
    "        if 'http' in fname:\n",
    "            # No need to copy online figures\n",
    "            continue\n",
    "        destdir = os.path.join(directory, os.path.dirname(fname))\n",
    "        destfname = os.path.join(destdir, os.path.basename(fname))\n",
    "        try:\n",
    "            os.makedirs(destdir)\n",
    "        except FileExistsError:\n",
    "            pass\n",
    "        shutil.copy(fname, destfname)\n",
    "    with open(os.path.join(directory, md_fname), 'w') as fout:\n",
    "        fout.write(md)\n",
    "    print(\"exported in \", os.path.join(directory, md_fname))\n",
    "    [print(\"    + \" + os.path.join(directory,fk)) for fk in fig_fnames]"
   ]
  },
  {
   "cell_type": "code",
   "execution_count": 8,
   "id": "014d04a4",
   "metadata": {
    "execution": {
     "iopub.execute_input": "2023-01-03T04:06:31.447441Z",
     "iopub.status.busy": "2023-01-03T04:06:31.446834Z",
     "iopub.status.idle": "2023-01-03T04:06:31.456493Z",
     "shell.execute_reply": "2023-01-03T04:06:31.455653Z"
    },
    "papermill": {
     "duration": 0.02214,
     "end_time": "2023-01-03T04:06:31.458267",
     "exception": false,
     "start_time": "2023-01-03T04:06:31.436127",
     "status": "completed"
    },
    "tags": []
   },
   "outputs": [
    {
     "name": "stdout",
     "output_type": "stream",
     "text": [
      "exported in  _build/html/2301.00578.md\n",
      "    + _build/html/tmp_2301.00578/./ratio_abdance_panels_2.png\n",
      "    + _build/html/tmp_2301.00578/./ratio_abdance_all_maps_panel_sat.png\n",
      "    + _build/html/tmp_2301.00578/./ratio_abdance_hagas_2d_v2_2.png\n"
     ]
    }
   ],
   "source": [
    "for paper_id, md in documents:\n",
    "    export_markdown_summary(md, f\"{paper_id:s}.md\", '_build/html/')"
   ]
  },
  {
   "cell_type": "markdown",
   "id": "f087a0a7",
   "metadata": {
    "papermill": {
     "duration": 0.009621,
     "end_time": "2023-01-03T04:06:31.477694",
     "exception": false,
     "start_time": "2023-01-03T04:06:31.468073",
     "status": "completed"
    },
    "tags": []
   },
   "source": [
    "## Display the papers\n",
    "\n",
    "Not necessary but allows for a quick check."
   ]
  },
  {
   "cell_type": "code",
   "execution_count": 9,
   "id": "fd25f625",
   "metadata": {
    "execution": {
     "iopub.execute_input": "2023-01-03T04:06:31.498740Z",
     "iopub.status.busy": "2023-01-03T04:06:31.498112Z",
     "iopub.status.idle": "2023-01-03T04:06:31.504146Z",
     "shell.execute_reply": "2023-01-03T04:06:31.503344Z"
    },
    "papermill": {
     "duration": 0.018573,
     "end_time": "2023-01-03T04:06:31.505912",
     "exception": false,
     "start_time": "2023-01-03T04:06:31.487339",
     "status": "completed"
    },
    "scrolled": false,
    "tags": []
   },
   "outputs": [
    {
     "data": {
      "text/markdown": [
       "<div class=\"macros\" style=\"visibility:hidden;\">\n",
       "$\\newcommand{\\ensuremath}{}$\n",
       "$\\newcommand{\\xspace}{}$\n",
       "$\\newcommand{\\object}[1]{\\texttt{#1}}$\n",
       "$\\newcommand{\\farcs}{{.}''}$\n",
       "$\\newcommand{\\farcm}{{.}'}$\n",
       "$\\newcommand{\\arcsec}{''}$\n",
       "$\\newcommand{\\arcmin}{'}$\n",
       "$\\newcommand{\\ion}[2]{#1#2}$\n",
       "$\\newcommand{\\textsc}[1]{\\textrm{#1}}$\n",
       "$\\newcommand{\\hl}[1]{\\textrm{#1}}$\n",
       "$\\newcommand{\\XX}{\\textbf{Flag!}\\xspace}$\n",
       "$\\newcommand{\\coto}{^{12}{\\rm CO}~(2-1)\\xspace}$\n",
       "$\\newcommand{\\halpha}{H\\alpha\\xspace}$\n",
       "$\\newcommand{\\hii}{\\ion{H}{2}\\xspace}$\n",
       "$\\newcommand{\\hone}{H{\\sc i}\\xspace}$\n",
       "$\\newcommand{\\hagasratio}{I_{\\rm H{\\alpha}}/\\Sigma_{\\rm H{\\sc I}+H_2}\\xspace}$\n",
       "$\\newcommand{\\ratio}{(F770W+F1130W)/F2100W\\xspace}$\n",
       "$\\newcommand{\\rpah}{R_{\\rm PAH}\\xspace}$\n",
       "$\\newcommand{\\mjysr}{MJy~sr^{-1}\\xspace}$\n",
       "$\\newcommand{\\JS}[1]{\\textcolor{violet}{#1}}$</div>\n",
       "\n",
       "<div class=\"macros\" style=\"visibility:hidden;\">\n",
       "$\\newcommand{$\\ensuremath$}{}$\n",
       "$\\newcommand{$\\xspace$}{}$\n",
       "$\\newcommand{$\\object$}[1]{\\texttt{#1}}$\n",
       "$\\newcommand{$\\farcs$}{{.}''}$\n",
       "$\\newcommand{$\\farcm$}{{.}'}$\n",
       "$\\newcommand{$\\arcsec$}{''}$\n",
       "$\\newcommand{$\\arcmin$}{'}$\n",
       "$\\newcommand{$\\ion$}[2]{#1#2}$\n",
       "$\\newcommand{$\\textsc$}[1]{\\textrm{#1}}$\n",
       "$\\newcommand{$\\hl$}[1]{\\textrm{#1}}$\n",
       "$\\newcommand{$\\XX$}{\\textbf{Flag!}$\\xspace$}$\n",
       "$\\newcommand{$\\coto$}{^{12}{\\rm CO}~(2-1)$\\xspace$}$\n",
       "$\\newcommand{$\\halpha$}{H\\alpha$\\xspace$}$\n",
       "$\\newcommand{$\\hii$}{$\\ion${H}{2}$\\xspace$}$\n",
       "$\\newcommand{$\\hone$}{H{\\sc i}$\\xspace$}$\n",
       "$\\newcommand{$\\hagasratio$}{I_{\\rm H{\\alpha}}/\\Sigma_{\\rm H{\\sc I}+H_2}$\\xspace$}$\n",
       "$\\newcommand{$\\ratio$}{(F770W+F1130W)/F2100W$\\xspace$}$\n",
       "$\\newcommand{$\\rpah$}{R_{\\rm PAH}$\\xspace$}$\n",
       "$\\newcommand{$\\mjysr$}{MJy~sr^{-1}$\\xspace$}$\n",
       "$\\newcommand{$\\JS$}[1]{\\textcolor{violet}{#1}}$</div>\n",
       "\n",
       "\n",
       "\n",
       "<div id=\"title\">\n",
       "\n",
       "# PHANGS-JWST First Results: Variations in PAH Fraction as a Function of ISM Phase and Metallicity\n",
       "\n",
       "</div>\n",
       "<div id=\"comments\">\n",
       "\n",
       "[![arXiv](https://img.shields.io/badge/arXiv-2301.00578-b31b1b.svg)](https://arxiv.org/abs/2301.00578)<mark>Appeared on: 2023-01-03</mark> - _13 pages, 4 figures. Accepted as part of a PHANGS-JWST Focus Issue to appear in ApJ_\n",
       "\n",
       "</div>\n",
       "<div id=\"authors\">\n",
       "\n",
       "J\\'er\\'emy Chastenet, et al. -- incl., <mark>Daizhong Liu</mark>, <mark>Frank Bigiel</mark>, <mark>Annie~Hughes</mark>, <mark>Kathryn Kreckel</mark>, <mark>Eva Schinnerer</mark>\n",
       "\n",
       "</div>\n",
       "<div id=\"abstract\">\n",
       "\n",
       "**Abstract:** We present maps tracing the fraction of dust in the form of polycyclic aromatic hydrocarbons (PAHs) in IC 5332, NGC 628, NGC 1365, and NGC 7496 from JWST/MIRI observations.We trace the PAH fraction by combining the F770W ($7.7 \\mu$m) and F1130W ($11.3 \\mu$m) filters to track ionized and neutral PAH emission, respectively, and comparing the PAH emission to F2100W which traces small, hot dust grains. We find average$R{\\rm_{PAH} = (F770W+F1130W)/F2100W}$values of 3.3, 4.7, 5.1, and 3.6 in IC 5332, NGC 628, NGC 1365, and NGC 7496, respectively.We find that$\\hii$regions traced by MUSE$\\halpha$show a systematically low PAH fraction. The PAH fraction remains relatively constant across other galactic environments, with slight variations. We use CO+$\\hone$+$\\halpha$to trace the interstellar gas phase and find that the PAH fraction decreases above a value of${\\rm I_{H\\alpha}/\\Sigma_{H{\\sc I}+H_2}} \\sim 10^{37.5} {\\rm erg s^{-1} kpc^{-2} (M_\\odot pc^{-2}})^{-1}$, in all four galaxies.  Radial profiles also show a decreasing PAH fraction with increasing radius, correlated with lower metallicity, in line with previous results showing a strong metallicity dependence to the PAH fraction. Our results suggest that the process of PAH destruction in ionized gas operates similarly across the four targets.\n",
       "\n",
       "</div>\n",
       "\n",
       "<div id=\"div_fig1\">\n",
       "\n",
       "<img src=\"tmp_2301.00578/./ratio_abdance_panels_2.png\" alt=\"Fig2\" width=\"100%\"/>\n",
       "\n",
       "**Figure 2. -** Running medians of $\\rpah$, as a function of\n",
       "    (\\textit{top left:}) $r/{\\rm r_{25}}$;\n",
       "    (\\textit{top right:}) ${\\rm 12+log(O/H)}$ using metallicity maps from \\citet[][]{Williams2022};\n",
       "    (\\textit{middle left:}) $\\hagasratio$ in units of ${\\rm  erg s^{-1} kpc^{-2} (M_\\odot pc^{-2}})^{-1}$;\n",
       "    (\\textit{middle right:}) the fraction of molecular gas;\n",
       "    (\\textit{bottom left:}) the environmental masks from \\citet[][]{Querejeta2021}, with a black star symbol showing the median for all pixels within each category.\n",
       "    The error-bars show $3 \\times$ standard error of the mean in each bin (except for the bottom left panel, only 1 SEM).\n",
       "    Note that the middle panels involve the flat $\\hone$ distribution assumption in IC 5332 and NGC 1365, which may shift the curves horizontally. (*FigMediansPanel*)\n",
       "\n",
       "</div>\n",
       "<div id=\"div_fig2\">\n",
       "\n",
       "<img src=\"tmp_2301.00578/./ratio_abdance_all_maps_panel_sat.png\" alt=\"Fig1\" width=\"100%\"/>\n",
       "\n",
       "**Figure 1. -** Maps of $\\rpah$ in IC 5332 (top left), NGC 628 (top right), NGC 1365 (bottom left), and NGC 7496 (bottom right). We mask the pixels with a ${\\rm S/N < 3}$ in all bands (gray uniform background).\n",
       "    We also mask the central pixels in NGC 1365 and NGC 7496 which are saturated, using instrument PSFs, and perform a by-hand additional masking to remove conspicuous saturation artifacts (shown in gray scale, not included in the analysis).\n",
       "    We plot contours for a few of the brightest $\\hii$ regions. They are clearly visible as depressions (darker colors) in $\\rpah$, especially in NGC 628 and NGC 7496. (*FigAllMaps*)\n",
       "\n",
       "</div>\n",
       "<div id=\"div_fig3\">\n",
       "\n",
       "<img src=\"tmp_2301.00578/./ratio_abdance_hagas_2d_v2_2.png\" alt=\"Fig3\" width=\"100%\"/>\n",
       "\n",
       "**Figure 3. -** 2D histograms of the $\\hagasratio$ and the $\\rpah$, color-coded by metallicity, using the gradient from PHANGS-MUSE.\n",
       "    The more transparent colors indicate bins with at least 10 hits, while the solid colors with at least 100 hits per bin. (*FigHaGas_Ratio2D*)\n",
       "\n",
       "</div>"
      ],
      "text/plain": [
       "<IPython.core.display.Markdown object>"
      ]
     },
     "metadata": {},
     "output_type": "display_data"
    }
   ],
   "source": [
    "[display(Markdown(k[1])) for k in documents];"
   ]
  },
  {
   "cell_type": "markdown",
   "id": "873873a4",
   "metadata": {
    "papermill": {
     "duration": 0.009874,
     "end_time": "2023-01-03T04:06:31.525778",
     "exception": false,
     "start_time": "2023-01-03T04:06:31.515904",
     "status": "completed"
    },
    "tags": []
   },
   "source": [
    "# Create HTML index"
   ]
  },
  {
   "cell_type": "code",
   "execution_count": 10,
   "id": "cf665672",
   "metadata": {
    "execution": {
     "iopub.execute_input": "2023-01-03T04:06:31.547365Z",
     "iopub.status.busy": "2023-01-03T04:06:31.546749Z",
     "iopub.status.idle": "2023-01-03T04:06:31.560989Z",
     "shell.execute_reply": "2023-01-03T04:06:31.560131Z"
    },
    "papermill": {
     "duration": 0.027155,
     "end_time": "2023-01-03T04:06:31.562820",
     "exception": false,
     "start_time": "2023-01-03T04:06:31.535665",
     "status": "completed"
    },
    "tags": []
   },
   "outputs": [
    {
     "name": "stdout",
     "output_type": "stream",
     "text": [
      "149  publications in the last 7 days.\n",
      "\t _build/html/2301.00578.md\n",
      "\t _build/html/2212.12039.md\n",
      "\t _build/html/2212.11991.md\n",
      "\t _build/html/2212.11425.md\n",
      "\t _build/html/2212.11177.md\n",
      "\t _build/html/2212.10804.md\n",
      "\t _build/html/2212.10512.md\n",
      "\t _build/html/2212.09766.md\n",
      "\t _build/html/2212.09675.md\n",
      "\t _build/html/2212.09661.md\n",
      "\t _build/html/2212.09652.md\n",
      "\t _build/html/2212.09443.md\n",
      "\t _build/html/2212.09307.md\n",
      "\t _build/html/2212.09168.md\n",
      "\t _build/html/2212.09159.md\n",
      "\t _build/html/2212.08702.md\n",
      "\t _build/html/2212.07332.md\n",
      "\t _build/html/2212.06434.md\n",
      "\t _build/html/2212.04710.md\n",
      "\t _build/html/2212.04026.md\n",
      "\t _build/html/2212.03563.md\n",
      "\t _build/html/2212.03514.md\n",
      "\t _build/html/2212.02667.md\n",
      "\t _build/html/2212.02627.md\n",
      "\t _build/html/2212.02235.md\n",
      "\t _build/html/2212.01707.md\n",
      "\t _build/html/2212.01526.md\n",
      "\t _build/html/2212.01397.md\n",
      "\t _build/html/2212.01291.md\n",
      "\t _build/html/2212.01281.md\n",
      "\t _build/html/2212.00812.md\n",
      "\t _build/html/2212.00811.md\n",
      "\t _build/html/2212.00806.md\n",
      "\t _build/html/2212.00047.md\n",
      "\t _build/html/2212.00032.md\n",
      "\t _build/html/2211.16996.md\n",
      "\t _build/html/2211.16510.md\n",
      "\t _build/html/2211.16123.md\n",
      "\t _build/html/2211.15816.md\n",
      "\t _build/html/2211.15698.md\n",
      "\t _build/html/2211.15576.md\n",
      "\t _build/html/2211.15434.md\n",
      "\t _build/html/2211.15288.md\n",
      "\t _build/html/2211.15224.md\n",
      "\t _build/html/2211.14543.md\n",
      "\t _build/html/2211.14330.md\n",
      "\t _build/html/2211.14322.md\n",
      "\t _build/html/2211.14132.md\n",
      "\t _build/html/2211.13811.md\n",
      "\t _build/html/2211.13426.md\n",
      "\t _build/html/2211.13318.md\n",
      "\t _build/html/2211.13146.md\n",
      "\t _build/html/2211.12613.md\n",
      "\t _build/html/2211.11767.md\n",
      "\t _build/html/2211.09840.md\n",
      "\t _build/html/2211.09217.md\n",
      "\t _build/html/2211.08493.md\n",
      "\t _build/html/2211.08487.md\n",
      "\t _build/html/2211.08294.md\n",
      "\t _build/html/2211.07667.md\n",
      "\t _build/html/2211.07659.md\n",
      "\t _build/html/2211.06454.md\n",
      "\t _build/html/2211.06205.md\n",
      "\t _build/html/2211.06194.md\n",
      "\t _build/html/2211.05022.md\n",
      "\t _build/html/2211.04048.md\n",
      "\t _build/html/2211.03641.md\n",
      "\t _build/html/2211.02502.md\n",
      "\t _build/html/2211.01474.md\n",
      "\t _build/html/2211.00667.md\n",
      "\t _build/html/2211.00657.md\n",
      "\t _build/html/2211.00087.md\n",
      "\t _build/html/2211.00036.md\n",
      "\t _build/html/2211.00020.md\n",
      "\t _build/html/2211.00010.md\n",
      "\t _build/html/2210.17434.md\n",
      "\t _build/html/2210.12412.md\n",
      "\t _build/html/2210.11926.md\n",
      "\t _build/html/2210.11551.md\n",
      "\t _build/html/2210.11103.md\n",
      "\t _build/html/2210.10707.md\n",
      "\t _build/html/2210.09930.md\n",
      "\t _build/html/2210.08996.md\n",
      "\t _build/html/2210.08517.md\n",
      "\t _build/html/2210.08510.md\n",
      "\t _build/html/2210.08078.md\n",
      "\t _build/html/2210.06504.md\n",
      "\t _build/html/2210.05695.md\n",
      "\t _build/html/2210.05595.md\n",
      "\t _build/html/2210.05505.md\n",
      "\t _build/html/2210.04721.md\n",
      "\t _build/html/2210.03615.md\n",
      "\t _build/html/2210.01811.md\n",
      "\t _build/html/2210.01809.md\n",
      "\t _build/html/2210.01556.md\n",
      "\t _build/html/2210.00863.md\n",
      "\t _build/html/2210.00560.md\n",
      "\t _build/html/2209.15403.md\n",
      "\t _build/html/2209.15110.md\n",
      "\t _build/html/2209.14410.md\n",
      "\t _build/html/2209.14396.md\n",
      "\t _build/html/2209.13717.md\n",
      "\t _build/html/2209.13336.md\n",
      "\t _build/html/2209.12906.md\n",
      "\t _build/html/2209.11781.md\n",
      "\t _build/html/2209.11602.md\n",
      "\t _build/html/2209.11248.md\n",
      "\t _build/html/2209.11096.md\n",
      "\t _build/html/2209.10618.md\n",
      "\t _build/html/2209.09914.md\n",
      "\t _build/html/2209.09823.md\n",
      "\t _build/html/2209.08242.md\n",
      "\t _build/html/2209.08120.md\n",
      "\t _build/html/2209.08106.md\n",
      "\t _build/html/2209.07962.md\n",
      "\t _build/html/2209.07931.md\n",
      "\t _build/html/2209.06833.md\n",
      "\t _build/html/2209.05814.md\n",
      "\t _build/html/2209.05593.md\n",
      "\t _build/html/2209.04304.md\n",
      "\t _build/html/2209.03367.md\n",
      "\t _build/html/2209.02872.md\n",
      "\t _build/html/2209.02725.md\n",
      "\t _build/html/2209.02722.md\n",
      "\t _build/html/2209.02092.md\n",
      "\t _build/html/2209.01125.md\n",
      "\t _build/html/2209.00828.md\n",
      "\t _build/html/2209.00363.md\n",
      "\t _build/html/2208.14927.md\n",
      "\t _build/html/2208.09335.md\n",
      "\t _build/html/2208.08872.md\n",
      "\t _build/html/2204.06393.md\n",
      "\t _build/html/2204.03335.md\n",
      "\t _build/html/2204.03253.md\n",
      "\t _build/html/2204.02998.md\n",
      "\t _build/html/2204.02109.md\n",
      "\t _build/html/2204.02017.md\n",
      "\t _build/html/2204.01824.md\n",
      "\t _build/html/2204.01758.md\n",
      "\t _build/html/2204.01245.md\n",
      "\t _build/html/2204.00793.md\n",
      "\t _build/html/2204.00342.md\n",
      "\t _build/html/2203.16959.md\n",
      "\t _build/html/2203.16856.md\n",
      "\t _build/html/2203.16735.md\n",
      "\t _build/html/2203.16734.md\n",
      "\t _build/html/2203.16504.md\n",
      "\t _build/html/2203.15822.md\n",
      "\t _build/html/2203.15811.md\n"
     ]
    }
   ],
   "source": [
    "from datetime import datetime, timedelta, timezone\n",
    "from glob import glob\n",
    "\n",
    "files = glob('_build/html/*.md')\n",
    "days = 7\n",
    "now = datetime.today()\n",
    "res = []\n",
    "for fk in files:\n",
    "    stat_result = os.stat(fk).st_ctime\n",
    "    modified = datetime.fromtimestamp(stat_result, tz=timezone.utc).replace(tzinfo=None)\n",
    "    delta = now.today() - modified\n",
    "    if delta <= timedelta(days=days):\n",
    "        res.append((delta.seconds, fk))\n",
    "res = [k[1] for k in reversed(sorted(res, key=lambda x:x[1]))]\n",
    "npub = len(res)\n",
    "print(len(res), f\" publications in the last {days:d} days.\")\n",
    "[ print('\\t', k) for k in res ];"
   ]
  },
  {
   "cell_type": "code",
   "execution_count": 11,
   "id": "52ca0208",
   "metadata": {
    "execution": {
     "iopub.execute_input": "2023-01-03T04:06:31.585983Z",
     "iopub.status.busy": "2023-01-03T04:06:31.585342Z",
     "iopub.status.idle": "2023-01-03T04:06:31.593541Z",
     "shell.execute_reply": "2023-01-03T04:06:31.592756Z"
    },
    "papermill": {
     "duration": 0.0218,
     "end_time": "2023-01-03T04:06:31.595362",
     "exception": false,
     "start_time": "2023-01-03T04:06:31.573562",
     "status": "completed"
    },
    "scrolled": false,
    "tags": []
   },
   "outputs": [],
   "source": [
    "def create_carousel(npub=4):\n",
    "    \"\"\" Generate the HTML code for a carousel with `npub` slides \"\"\"\n",
    "    carousel = [\"\"\"<section class=\"carousel\" aria-label=\"Gallery\">\"\"\",\n",
    "                \"\"\"  <ol class=\"carousel__viewport\">\"\"\",\n",
    "    ]\n",
    "    for k in range(1, npub + 1):\n",
    "        prev_ = k - 1\n",
    "        next_ = k + 1\n",
    "        if prev_ <= 0:\n",
    "            prev_ = npub\n",
    "        if next_ > npub:\n",
    "            next_ = 1\n",
    "        text  = f\"\"\"    <li id=\"carousel__slide{k}\" tabindex=\"0\" class=\"carousel__slide\">\\n\"\"\"\n",
    "        text += f\"\"\"       <div class=\"carousel__snapper\">\\n\"\"\"\n",
    "        text += f\"\"\"         <a href=\"#carousel__slide{prev_}\" class=\"carousel__prev\">Go to previous slide</a>\\n\"\"\"\n",
    "        text += f\"\"\"         <a href=\"#carousel__slide{next_}\" class=\"carousel__next\">Go to next slide</a>\\n\"\"\"\n",
    "        text += f\"\"\"         <div id=\"slide{k}_content\" class=\"md_view\" >Content {k}</div>\\n\"\"\"\n",
    "        text += f\"\"\"       </div>\\n\"\"\"\n",
    "        text += f\"\"\"    </li>\"\"\"\n",
    "        carousel.append(text)\n",
    "\n",
    "    carousel.extend([\n",
    "        \"\"\"  </ol>\"\"\",\n",
    "        \"\"\"  <aside class=\"carousel__navigation\">\"\"\",\n",
    "        \"\"\"    <ol class=\"carousel__navigation-list\">\"\"\"])\n",
    "\n",
    "    for k in range(1, npub + 1):\n",
    "        text  = f\"\"\"      <li class=\"carousel__navigation-item\">\\n\"\"\"\n",
    "        text += f\"\"\"        <a href=\"#carousel__slide{k}\" class=\"carousel__navigation-button\">Go to {k}</a>\\n\"\"\"\n",
    "        text += f\"\"\"      </li>\"\"\"\n",
    "        carousel.append(text)\n",
    "    carousel.extend([\"\"\"    </ol>\"\"\", \"\"\"  </aside>\"\"\", \"\"\"</section>\"\"\"])\n",
    "\n",
    "    return '\\n'.join(carousel)"
   ]
  },
  {
   "cell_type": "code",
   "execution_count": 12,
   "id": "a6eac5b6",
   "metadata": {
    "execution": {
     "iopub.execute_input": "2023-01-03T04:06:31.619247Z",
     "iopub.status.busy": "2023-01-03T04:06:31.618812Z",
     "iopub.status.idle": "2023-01-03T04:06:31.627818Z",
     "shell.execute_reply": "2023-01-03T04:06:31.627155Z"
    },
    "papermill": {
     "duration": 0.02457,
     "end_time": "2023-01-03T04:06:31.630260",
     "exception": false,
     "start_time": "2023-01-03T04:06:31.605690",
     "status": "completed"
    },
    "scrolled": false,
    "tags": []
   },
   "outputs": [],
   "source": [
    "carousel = create_carousel(npub)\n",
    "docs = ', '.join(['\"{0:s}\"'.format(k.split('/')[-1]) for k in res])\n",
    "slides = ', '.join([f'\"slide{k}_content\"' for k in range(1, npub + 1)])\n",
    "\n",
    "script = f\"\"\"\n",
    "const docs = [{docs}]\n",
    "\n",
    "const slides = [{slides}]\n",
    "\"\"\" + \"\"\"\n",
    "async function run() {\n",
    "    for (let i = 0; i < docs.length; i++) {\n",
    "        let file = await fetch(docs[i]);\n",
    "        let text = await file.text()\n",
    "        document.getElementById(slides[i]).innerHTML =\n",
    "            marked.parse(text);\n",
    "    }\n",
    "    hljs.highlightAll();\n",
    "}\n",
    "run()\n",
    "\"\"\"\n",
    "\n",
    "page = f\"\"\"<!doctype html>\n",
    "<html lang=\"en\">\n",
    "\n",
    "<head>\n",
    "  <meta charset=\"utf-8\">\n",
    "  <meta name=\"viewport\" content=\"width=device-width, initial-scale=1\">\n",
    "  <!-- Bootstrap CSS -->\n",
    "  <link href=\"https://cdn.jsdelivr.net/npm/bootstrap@5.0.2/dist/css/bootstrap.min.css\" rel=\"stylesheet\"\n",
    "   integrity=\"sha384-EVSTQN3/azprG1Anm3QDgpJLIm9Nao0Yz1ztcQTwFspd3yD65VohhpuuCOmLASjC\" crossorigin=\"anonymous\">\n",
    "  <!-- highlight.js CSS -->\n",
    "  <link rel=\"stylesheet\" href=\"https://cdnjs.cloudflare.com/ajax/libs/highlight.js/11.1.0/styles/default.min.css\">\n",
    "  <!-- Mathjax 3 -->\n",
    "  <script type=\"text/javascript\" id=\"MathJax-config\" src=\"mathjax_config.js\"> </script>\n",
    "  <script type=\"text/javascript\" id=\"MathJax-script\" async \n",
    "    src=\"https://cdn.jsdelivr.net/npm/mathjax@3/es5/tex-mml-chtml.js\">\n",
    "  </script>\n",
    "  <link rel=\"stylesheet\" href=\"index_carousel.css\">\n",
    "  <link rel=\"icon\" type=\"image/x-icon\" href=\"https://www.mpia.de/assets/touch-icon-32x32-a66937bcebc4e8894ebff1f41a366c7c7220fd97a38869ee0f2db65a9f59b6c1.png\">\n",
    "  <title>MPIA Arxiv on deck!</title>\n",
    "</head>\n",
    "\n",
    "<body>\n",
    "  <div id=\"header\"> <img src=\"header_banner.png\" width=\"100%\"></div>\n",
    "  <div id=\"suptitle\"> 7-day archives </div>\n",
    "  <div id=\"info\">\n",
    "    <img src=\"https://pngimg.com/uploads/github/github_PNG58.png\" height=30rem></img>\n",
    "    <a href=https://github.com/mpi-astronomy/arxiv_display style=\"color:black;\">github/mpi-astronomy/arxiv_display</a> \n",
    "  </div>\n",
    "  {carousel:s}\n",
    "</body>\n",
    "\n",
    "<!-- Render Markdown -->\n",
    "\n",
    "<body>\n",
    "  <!-- highlight.js: https://highlightjs.org/download/ -->\n",
    "  <script src=\"https://cdnjs.cloudflare.com/ajax/libs/highlight.js/11.5.0/highlight.min.js\"></script>\n",
    "  <!-- marked.js -->\n",
    "  <script src=\"https://cdn.jsdelivr.net/npm/marked/marked.min.js\"></script>\n",
    "  <script>{script:s}</script>\n",
    "</body>\n",
    "</html>\n",
    "\"\"\"\n",
    "with open(\"_build/html/index_7days.html\", 'w') as fout:\n",
    "    fout.write(page)"
   ]
  },
  {
   "cell_type": "markdown",
   "id": "1cebacbc",
   "metadata": {
    "papermill": {
     "duration": 0.010976,
     "end_time": "2023-01-03T04:06:31.654880",
     "exception": false,
     "start_time": "2023-01-03T04:06:31.643904",
     "status": "completed"
    },
    "tags": []
   },
   "source": [
    "# Debugging papers"
   ]
  },
  {
   "cell_type": "raw",
   "id": "debe7cc6",
   "metadata": {
    "papermill": {
     "duration": 0.010409,
     "end_time": "2023-01-03T04:06:31.676336",
     "exception": false,
     "start_time": "2023-01-03T04:06:31.665927",
     "status": "completed"
    },
    "tags": []
   },
   "source": [
    "raise NotImplementedError(\"Manual Stop\")"
   ]
  },
  {
   "cell_type": "raw",
   "id": "eb169192",
   "metadata": {
    "papermill": {
     "duration": 0.010437,
     "end_time": "2023-01-03T04:06:31.739186",
     "exception": false,
     "start_time": "2023-01-03T04:06:31.728749",
     "status": "completed"
    },
    "scrolled": true,
    "tags": []
   },
   "source": [
    "from IPython.display import display, Markdown\n",
    "from TexSoup import TexSoup\n",
    "import re\n",
    "\n",
    "def bracket_error(source: str):\n",
    "    \"\"\" Find problematic portions of the document \"\"\"\n",
    "    \n",
    "    print(\"len(source)\", len(source))\n",
    "    \n",
    "    # Checking header\n",
    "    begin_doc = next(re.finditer(r'\\\\begin\\{document\\}', doc.source)).span()[1]\n",
    "    header = source[:begin_doc]\n",
    "    text = header + r\"\\n\\end{document}\"\n",
    "\n",
    "    try:\n",
    "        # print(\"Header check... \", end='')\n",
    "        TexSoup(text)\n",
    "        display(Markdown(f\"**[OK]** - Header\"))\n",
    "    except:\n",
    "        raise RuntimeError(\"Error in the header\")\n",
    "        \n",
    "    # Check the text per section until the end.\n",
    "    # Do not stop and try them all.\n",
    "    \n",
    "    problematic_text = []\n",
    "    \n",
    "    sections = ([(0, begin_doc, 'until first section')] + \n",
    "                [(g.span()[0], g.span()[1], g.group()) for g in re.finditer(r'\\\\section\\{.*\\}', source)] +\n",
    "                [(g.span()[0], g.span()[1], g.group()) for g in re.finditer(r'\\\\begin\\{appendix\\}', source)]\n",
    "               )\n",
    "    sections.append([len(source), len(source), 'end'])\n",
    "    \n",
    "    sections = sorted(sections, key=lambda x: x[0])\n",
    "    \n",
    "    prev_pos, prev_name = (0, 'header')\n",
    "    parsed = []\n",
    "    \n",
    "    for span, span_end, name in sections:\n",
    "\n",
    "        if span - prev_pos <= 0:\n",
    "            continue\n",
    "            \n",
    "\n",
    "        text = source[prev_pos:span]\n",
    "        if prev_pos > begin_doc:\n",
    "            text = r\"\\n\\begin{document}\" + text + r\"\\n\\end{document}\"\n",
    "        else:\n",
    "            text = text + r\"\\n\\end{document}\"\n",
    "        try:\n",
    "            #print(f\"{prev_pos}:{prev_name}-->{span}:{name} check... \", end='')\n",
    "            parsed.append(TexSoup(text, tolerance=1))  # allow not ending env\n",
    "            display(Markdown(f\"**[OK]** - *{prev_pos}*:{prev_name} &rarr; *{span}*:{name}\"))\n",
    "            # print(\"ok\")\n",
    "\n",
    "            prev_pos = span\n",
    "            prev_name = name\n",
    "        except:\n",
    "            # print(f\"error between {prev_pos} and {span}\")\n",
    "            display(Markdown(f\"**[ERR]** *{prev_pos}*:{prev_name} &rarr; *{span}*:{name}\"))\n",
    "            problematic_text.append((prev_pos, source[prev_pos:span]))\n",
    "            prev_pos = span\n",
    "            prev_name = name\n",
    "            # raise\n",
    "    return problematic_text, parsed\n",
    "\n",
    "\n",
    "def check_environment(text, offset=0):\n",
    "    \"\"\" Check environment \"\"\"\n",
    "    env = re.compile(r\"\\\\begin\\{(?P<env>.*)\\}(.*)\\\\end\\{(?P=env)\\}\", re.DOTALL)\n",
    "\n",
    "    for match in env.finditer(text):\n",
    "        beg, end = match.span()\n",
    "        beg += offset\n",
    "        end += offset\n",
    "        envname = match.groups()[0]\n",
    "        try:\n",
    "            latex.TexSoup(match.group())\n",
    "        except Exception as e:\n",
    "            display(e)\n",
    "            print(f\"Error in {envname:s} between {beg} and {end}\")\n",
    "            return match.groups()[1], beg, end"
   ]
  },
  {
   "cell_type": "raw",
   "id": "2315e835",
   "metadata": {
    "papermill": {
     "duration": 0.011343,
     "end_time": "2023-01-03T04:06:31.761183",
     "exception": false,
     "start_time": "2023-01-03T04:06:31.749840",
     "status": "completed"
    },
    "scrolled": false,
    "tags": []
   },
   "source": [
    "import importlib\n",
    "importlib.reload(latex)\n",
    "which = \"2204.03253\"\n",
    "paper_id = f'{which:s}'\n",
    "folder = f'tmp_{paper_id:s}'\n",
    "\n",
    "if not os.path.isdir(folder):\n",
    "    folder = retrieve_document_source(f\"{paper_id}\", f'tmp_{paper_id}')\n",
    "\n",
    "try:\n",
    "    doc = latex.LatexDocument(folder, validation=validation)    \n",
    "except AffiliationError as affilerror:\n",
    "    msg = f\"ArXiv:{paper_id:s} is not an MPIA paper... \" + str(affilerror)\n",
    "    print(msg)\n",
    "\n",
    "\n",
    "# Hack because sometimes author parsing does not work well\n",
    "if (len(doc.authors) != len(paper['authors'])):\n",
    "    doc._authors = paper['authors']\n",
    "if (doc.abstract) in (None, ''):\n",
    "    doc._abstract = paper['abstract']\n",
    "\n",
    "doc.comment = get_markdown_badge(paper_id) + \" _\" + paper['comments'] + \"_\"\n",
    "doc.highlight_authors_in_list(hl_list)\n",
    "\n",
    "full_md = doc.generate_markdown_text()"
   ]
  },
  {
   "cell_type": "raw",
   "id": "dd3781db",
   "metadata": {
    "papermill": {
     "duration": 0.011561,
     "end_time": "2023-01-03T04:06:31.784483",
     "exception": false,
     "start_time": "2023-01-03T04:06:31.772922",
     "status": "completed"
    },
    "scrolled": false,
    "tags": []
   },
   "source": [
    "doc"
   ]
  },
  {
   "cell_type": "raw",
   "id": "c6eed834",
   "metadata": {
    "papermill": {
     "duration": 0.010156,
     "end_time": "2023-01-03T04:06:31.804841",
     "exception": false,
     "start_time": "2023-01-03T04:06:31.794685",
     "status": "completed"
    },
    "tags": []
   },
   "source": [
    "# [check_environment(k) for k in bracket_error(doc.source)]\n",
    "_, _, a = latex.get_content_per_section(doc.source, verbose=True)\n",
    "if not a:\n",
    "    print(\"no issues per section\")\n",
    "for ak in a:\n",
    "    r = check_environment(ak[1], offset=ak[0])\n",
    "    print(r[1], r[2])\n",
    "    print(r[0])"
   ]
  },
  {
   "cell_type": "code",
   "execution_count": null,
   "id": "71ce768a",
   "metadata": {
    "papermill": {
     "duration": 0.01014,
     "end_time": "2023-01-03T04:06:31.825204",
     "exception": false,
     "start_time": "2023-01-03T04:06:31.815064",
     "status": "completed"
    },
    "tags": []
   },
   "outputs": [],
   "source": []
  }
 ],
 "metadata": {
  "kernelspec": {
   "display_name": "Python 3.10.6 64-bit",
   "language": "python",
   "name": "python3"
  },
  "language_info": {
   "codemirror_mode": {
    "name": "ipython",
    "version": 3
   },
   "file_extension": ".py",
   "mimetype": "text/x-python",
   "name": "python",
   "nbconvert_exporter": "python",
   "pygments_lexer": "ipython3",
   "version": "3.9.16"
  },
  "papermill": {
   "default_parameters": {},
   "duration": 107.28786,
   "end_time": "2023-01-03T04:06:32.256481",
   "environment_variables": {},
   "exception": null,
   "input_path": "MPIA daily digest.ipynb",
   "output_path": "log.ipynb",
   "parameters": {},
   "start_time": "2023-01-03T04:04:44.968621",
   "version": "2.4.0"
  },
  "vscode": {
   "interpreter": {
    "hash": "e7370f93d1d0cde622a1f8e1c04877d8463912d04d973331ad4851f04de6915a"
   }
  },
  "widgets": {
   "application/vnd.jupyter.widget-state+json": {
    "state": {
     "145a9626cf1e49658baf1d1a3692584f": {
      "model_module": "@jupyter-widgets/base",
      "model_module_version": "2.0.0",
      "model_name": "LayoutModel",
      "state": {
       "_model_module": "@jupyter-widgets/base",
       "_model_module_version": "2.0.0",
       "_model_name": "LayoutModel",
       "_view_count": null,
       "_view_module": "@jupyter-widgets/base",
       "_view_module_version": "2.0.0",
       "_view_name": "LayoutView",
       "align_content": null,
       "align_items": null,
       "align_self": null,
       "border_bottom": null,
       "border_left": null,
       "border_right": null,
       "border_top": null,
       "bottom": null,
       "display": null,
       "flex": null,
       "flex_flow": null,
       "grid_area": null,
       "grid_auto_columns": null,
       "grid_auto_flow": null,
       "grid_auto_rows": null,
       "grid_column": null,
       "grid_gap": null,
       "grid_row": null,
       "grid_template_areas": null,
       "grid_template_columns": null,
       "grid_template_rows": null,
       "height": null,
       "justify_content": null,
       "justify_items": null,
       "left": null,
       "margin": null,
       "max_height": null,
       "max_width": null,
       "min_height": null,
       "min_width": null,
       "object_fit": null,
       "object_position": null,
       "order": null,
       "overflow": null,
       "padding": null,
       "right": null,
       "top": null,
       "visibility": null,
       "width": null
      }
     },
     "16f80cbc508e42dc97bdcc006ca14edb": {
      "model_module": "@jupyter-widgets/controls",
      "model_module_version": "2.0.0",
      "model_name": "HTMLModel",
      "state": {
       "_dom_classes": [],
       "_model_module": "@jupyter-widgets/controls",
       "_model_module_version": "2.0.0",
       "_model_name": "HTMLModel",
       "_view_count": null,
       "_view_module": "@jupyter-widgets/controls",
       "_view_module_version": "2.0.0",
       "_view_name": "HTMLView",
       "description": "",
       "description_allow_html": false,
       "layout": "IPY_MODEL_79906044b1134d48a35f5b058d410dd5",
       "placeholder": "​",
       "style": "IPY_MODEL_69c51c1006564304a1239a780f5f4fa6",
       "tabbable": null,
       "tooltip": null,
       "value": " 17/17 [01:13&lt;00:00,  4.89s/it]"
      }
     },
     "19a208c80ee64193bf5780aba30d46ec": {
      "model_module": "@jupyter-widgets/controls",
      "model_module_version": "2.0.0",
      "model_name": "HTMLStyleModel",
      "state": {
       "_model_module": "@jupyter-widgets/controls",
       "_model_module_version": "2.0.0",
       "_model_name": "HTMLStyleModel",
       "_view_count": null,
       "_view_module": "@jupyter-widgets/base",
       "_view_module_version": "2.0.0",
       "_view_name": "StyleView",
       "background": null,
       "description_width": "",
       "font_size": null,
       "text_color": null
      }
     },
     "49f77263bb2f45e7a563a87bdbd5f24d": {
      "model_module": "@jupyter-widgets/controls",
      "model_module_version": "2.0.0",
      "model_name": "FloatProgressModel",
      "state": {
       "_dom_classes": [],
       "_model_module": "@jupyter-widgets/controls",
       "_model_module_version": "2.0.0",
       "_model_name": "FloatProgressModel",
       "_view_count": null,
       "_view_module": "@jupyter-widgets/controls",
       "_view_module_version": "2.0.0",
       "_view_name": "ProgressView",
       "bar_style": "success",
       "description": "",
       "description_allow_html": false,
       "layout": "IPY_MODEL_9a64f27248574707b06e9dd281d7e9b8",
       "max": 17.0,
       "min": 0.0,
       "orientation": "horizontal",
       "style": "IPY_MODEL_6264f99f81de4da9a2cbd168870ad3ff",
       "tabbable": null,
       "tooltip": null,
       "value": 17.0
      }
     },
     "513cca2edaa04f099e5c4f61ba8afa7b": {
      "model_module": "@jupyter-widgets/base",
      "model_module_version": "2.0.0",
      "model_name": "LayoutModel",
      "state": {
       "_model_module": "@jupyter-widgets/base",
       "_model_module_version": "2.0.0",
       "_model_name": "LayoutModel",
       "_view_count": null,
       "_view_module": "@jupyter-widgets/base",
       "_view_module_version": "2.0.0",
       "_view_name": "LayoutView",
       "align_content": null,
       "align_items": null,
       "align_self": null,
       "border_bottom": null,
       "border_left": null,
       "border_right": null,
       "border_top": null,
       "bottom": null,
       "display": null,
       "flex": null,
       "flex_flow": null,
       "grid_area": null,
       "grid_auto_columns": null,
       "grid_auto_flow": null,
       "grid_auto_rows": null,
       "grid_column": null,
       "grid_gap": null,
       "grid_row": null,
       "grid_template_areas": null,
       "grid_template_columns": null,
       "grid_template_rows": null,
       "height": null,
       "justify_content": null,
       "justify_items": null,
       "left": null,
       "margin": null,
       "max_height": null,
       "max_width": null,
       "min_height": null,
       "min_width": null,
       "object_fit": null,
       "object_position": null,
       "order": null,
       "overflow": null,
       "padding": null,
       "right": null,
       "top": null,
       "visibility": null,
       "width": null
      }
     },
     "6264f99f81de4da9a2cbd168870ad3ff": {
      "model_module": "@jupyter-widgets/controls",
      "model_module_version": "2.0.0",
      "model_name": "ProgressStyleModel",
      "state": {
       "_model_module": "@jupyter-widgets/controls",
       "_model_module_version": "2.0.0",
       "_model_name": "ProgressStyleModel",
       "_view_count": null,
       "_view_module": "@jupyter-widgets/base",
       "_view_module_version": "2.0.0",
       "_view_name": "StyleView",
       "bar_color": null,
       "description_width": ""
      }
     },
     "69c51c1006564304a1239a780f5f4fa6": {
      "model_module": "@jupyter-widgets/controls",
      "model_module_version": "2.0.0",
      "model_name": "HTMLStyleModel",
      "state": {
       "_model_module": "@jupyter-widgets/controls",
       "_model_module_version": "2.0.0",
       "_model_name": "HTMLStyleModel",
       "_view_count": null,
       "_view_module": "@jupyter-widgets/base",
       "_view_module_version": "2.0.0",
       "_view_name": "StyleView",
       "background": null,
       "description_width": "",
       "font_size": null,
       "text_color": null
      }
     },
     "79906044b1134d48a35f5b058d410dd5": {
      "model_module": "@jupyter-widgets/base",
      "model_module_version": "2.0.0",
      "model_name": "LayoutModel",
      "state": {
       "_model_module": "@jupyter-widgets/base",
       "_model_module_version": "2.0.0",
       "_model_name": "LayoutModel",
       "_view_count": null,
       "_view_module": "@jupyter-widgets/base",
       "_view_module_version": "2.0.0",
       "_view_name": "LayoutView",
       "align_content": null,
       "align_items": null,
       "align_self": null,
       "border_bottom": null,
       "border_left": null,
       "border_right": null,
       "border_top": null,
       "bottom": null,
       "display": null,
       "flex": null,
       "flex_flow": null,
       "grid_area": null,
       "grid_auto_columns": null,
       "grid_auto_flow": null,
       "grid_auto_rows": null,
       "grid_column": null,
       "grid_gap": null,
       "grid_row": null,
       "grid_template_areas": null,
       "grid_template_columns": null,
       "grid_template_rows": null,
       "height": null,
       "justify_content": null,
       "justify_items": null,
       "left": null,
       "margin": null,
       "max_height": null,
       "max_width": null,
       "min_height": null,
       "min_width": null,
       "object_fit": null,
       "object_position": null,
       "order": null,
       "overflow": null,
       "padding": null,
       "right": null,
       "top": null,
       "visibility": null,
       "width": null
      }
     },
     "9a64f27248574707b06e9dd281d7e9b8": {
      "model_module": "@jupyter-widgets/base",
      "model_module_version": "2.0.0",
      "model_name": "LayoutModel",
      "state": {
       "_model_module": "@jupyter-widgets/base",
       "_model_module_version": "2.0.0",
       "_model_name": "LayoutModel",
       "_view_count": null,
       "_view_module": "@jupyter-widgets/base",
       "_view_module_version": "2.0.0",
       "_view_name": "LayoutView",
       "align_content": null,
       "align_items": null,
       "align_self": null,
       "border_bottom": null,
       "border_left": null,
       "border_right": null,
       "border_top": null,
       "bottom": null,
       "display": null,
       "flex": null,
       "flex_flow": null,
       "grid_area": null,
       "grid_auto_columns": null,
       "grid_auto_flow": null,
       "grid_auto_rows": null,
       "grid_column": null,
       "grid_gap": null,
       "grid_row": null,
       "grid_template_areas": null,
       "grid_template_columns": null,
       "grid_template_rows": null,
       "height": null,
       "justify_content": null,
       "justify_items": null,
       "left": null,
       "margin": null,
       "max_height": null,
       "max_width": null,
       "min_height": null,
       "min_width": null,
       "object_fit": null,
       "object_position": null,
       "order": null,
       "overflow": null,
       "padding": null,
       "right": null,
       "top": null,
       "visibility": null,
       "width": null
      }
     },
     "bd0192dd8cb94460b1ea62e78a28f606": {
      "model_module": "@jupyter-widgets/controls",
      "model_module_version": "2.0.0",
      "model_name": "HTMLModel",
      "state": {
       "_dom_classes": [],
       "_model_module": "@jupyter-widgets/controls",
       "_model_module_version": "2.0.0",
       "_model_name": "HTMLModel",
       "_view_count": null,
       "_view_module": "@jupyter-widgets/controls",
       "_view_module_version": "2.0.0",
       "_view_name": "HTMLView",
       "description": "",
       "description_allow_html": false,
       "layout": "IPY_MODEL_145a9626cf1e49658baf1d1a3692584f",
       "placeholder": "​",
       "style": "IPY_MODEL_19a208c80ee64193bf5780aba30d46ec",
       "tabbable": null,
       "tooltip": null,
       "value": "100%"
      }
     },
     "c73c4cdc0c2540fb8593a5c3dce488e1": {
      "model_module": "@jupyter-widgets/controls",
      "model_module_version": "2.0.0",
      "model_name": "HBoxModel",
      "state": {
       "_dom_classes": [],
       "_model_module": "@jupyter-widgets/controls",
       "_model_module_version": "2.0.0",
       "_model_name": "HBoxModel",
       "_view_count": null,
       "_view_module": "@jupyter-widgets/controls",
       "_view_module_version": "2.0.0",
       "_view_name": "HBoxView",
       "box_style": "",
       "children": [
        "IPY_MODEL_bd0192dd8cb94460b1ea62e78a28f606",
        "IPY_MODEL_49f77263bb2f45e7a563a87bdbd5f24d",
        "IPY_MODEL_16f80cbc508e42dc97bdcc006ca14edb"
       ],
       "layout": "IPY_MODEL_513cca2edaa04f099e5c4f61ba8afa7b",
       "tabbable": null,
       "tooltip": null
      }
     }
    },
    "version_major": 2,
    "version_minor": 0
   }
  }
 },
 "nbformat": 4,
 "nbformat_minor": 5
}