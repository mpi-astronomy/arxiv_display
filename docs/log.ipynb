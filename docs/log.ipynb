{
 "cells": [
  {
   "cell_type": "markdown",
   "id": "92bcb855",
   "metadata": {
    "papermill": {
     "duration": 0.003887,
     "end_time": "2024-05-29T04:10:41.070455",
     "exception": false,
     "start_time": "2024-05-29T04:10:41.066568",
     "status": "completed"
    },
    "tags": []
   },
   "source": [
    "# MPIA Arxiv on Deck 2\n",
    "\n",
    "Contains the steps to produce the paper extractions."
   ]
  },
  {
   "cell_type": "code",
   "execution_count": 1,
   "id": "3a0d6e11",
   "metadata": {
    "execution": {
     "iopub.execute_input": "2024-05-29T04:10:41.078296Z",
     "iopub.status.busy": "2024-05-29T04:10:41.077733Z",
     "iopub.status.idle": "2024-05-29T04:10:41.535364Z",
     "shell.execute_reply": "2024-05-29T04:10:41.534731Z"
    },
    "papermill": {
     "duration": 0.463427,
     "end_time": "2024-05-29T04:10:41.537058",
     "exception": false,
     "start_time": "2024-05-29T04:10:41.073631",
     "status": "completed"
    },
    "tags": []
   },
   "outputs": [],
   "source": [
    "# Imports\n",
    "import os\n",
    "from IPython.display import Markdown, display\n",
    "from tqdm.notebook import tqdm\n",
    "import warnings\n",
    "from PIL import Image \n",
    "\n",
    "# requires arxiv_on_deck_2\n",
    "\n",
    "from arxiv_on_deck_2.arxiv2 import (get_new_papers, \n",
    "                                    get_paper_from_identifier,\n",
    "                                    retrieve_document_source, \n",
    "                                    get_markdown_badge)\n",
    "from arxiv_on_deck_2 import (latex,\n",
    "                             latex_bib,\n",
    "                             mpia,\n",
    "                             highlight_authors_in_list)\n",
    "\n",
    "# Sometimes images are really big\n",
    "Image.MAX_IMAGE_PIXELS = 1000000000 "
   ]
  },
  {
   "cell_type": "code",
   "execution_count": 2,
   "id": "22aa9d44",
   "metadata": {
    "execution": {
     "iopub.execute_input": "2024-05-29T04:10:41.544547Z",
     "iopub.status.busy": "2024-05-29T04:10:41.543981Z",
     "iopub.status.idle": "2024-05-29T04:10:41.549327Z",
     "shell.execute_reply": "2024-05-29T04:10:41.548781Z"
    },
    "papermill": {
     "duration": 0.010475,
     "end_time": "2024-05-29T04:10:41.550634",
     "exception": false,
     "start_time": "2024-05-29T04:10:41.540159",
     "status": "completed"
    },
    "tags": []
   },
   "outputs": [],
   "source": [
    "# Some useful definitions.\n",
    "\n",
    "class AffiliationWarning(UserWarning):\n",
    "    pass\n",
    "\n",
    "class AffiliationError(RuntimeError):\n",
    "    pass\n",
    "\n",
    "def validation(source: str):\n",
    "    \"\"\"Raises error paper during parsing of source file\n",
    "    \n",
    "    Allows checks before parsing TeX code.\n",
    "    \n",
    "    Raises AffiliationWarning\n",
    "    \"\"\"\n",
    "    check = mpia.affiliation_verifications(source, verbose=True)\n",
    "    if check is not True:\n",
    "        raise AffiliationError(\"mpia.affiliation_verifications: \" + check)\n",
    "\n",
    "        \n",
    "warnings.simplefilter('always', AffiliationWarning)\n",
    "\n",
    "\n",
    "def get_markdown_qrcode(paper_id: str):\n",
    "    \"\"\" Generate a qrcode to the arxiv page using qrserver.com\n",
    "    \n",
    "    :param paper: Arxiv paper\n",
    "    :returns: markdown text\n",
    "    \"\"\"\n",
    "    url = r\"https://api.qrserver.com/v1/create-qr-code/?size=100x100&data=\"\n",
    "    txt = f\"\"\"<img src={url}\"https://arxiv.org/abs/{paper_id}\">\"\"\"\n",
    "    txt = '<div id=\"qrcode\">' + txt + '</div>'\n",
    "    return txt"
   ]
  },
  {
   "cell_type": "markdown",
   "id": "14bd6310",
   "metadata": {
    "papermill": {
     "duration": 0.002864,
     "end_time": "2024-05-29T04:10:41.556485",
     "exception": false,
     "start_time": "2024-05-29T04:10:41.553621",
     "status": "completed"
    },
    "tags": []
   },
   "source": [
    "## get list of arxiv paper candidates\n",
    "\n",
    "We use the MPIA mitarbeiter list webpage from mpia.de to get author names\n",
    "We then get all new papers from Arxiv and match authors"
   ]
  },
  {
   "cell_type": "code",
   "execution_count": 3,
   "id": "7ea813a8",
   "metadata": {
    "execution": {
     "iopub.execute_input": "2024-05-29T04:10:41.563446Z",
     "iopub.status.busy": "2024-05-29T04:10:41.563006Z",
     "iopub.status.idle": "2024-05-29T04:11:01.251312Z",
     "shell.execute_reply": "2024-05-29T04:11:01.250749Z"
    },
    "papermill": {
     "duration": 19.693578,
     "end_time": "2024-05-29T04:11:01.252965",
     "exception": false,
     "start_time": "2024-05-29T04:10:41.559387",
     "status": "completed"
    },
    "tags": []
   },
   "outputs": [],
   "source": [
    "# deal with the author list and edge cases of people that cannot be consistent on their name  \n",
    "\n",
    "def filter_non_scientists(name: str) -> bool:\n",
    "    \"\"\" Loose filter on expected authorships\n",
    "\n",
    "    removing IT, administration, technical staff\n",
    "    :param name: name\n",
    "    :returns: False if name is not a scientist\n",
    "    \"\"\"\n",
    "    remove_list = ['Wolf', 'Licht', 'Binroth', 'Witzel', 'Jordan',\n",
    "                   'Zähringer', 'Scheerer', 'Hoffmann', 'Düe',\n",
    "                   'Hellmich', 'Enkler-Scharpegge', 'Witte-Nguy',\n",
    "                   'Dehen', 'Beckmann', 'Jager', 'Jäger'\n",
    "                  ]\n",
    "\n",
    "    for k in remove_list:\n",
    "        if k in name:\n",
    "            return False\n",
    "    return True\n",
    "\n",
    "def add_author_to_list(author_list: list) -> list:\n",
    "    \"\"\" Add author to list if not already in list\n",
    "    \n",
    "    :param author: author name\n",
    "    :param author_list: list of authors\n",
    "    :returns: updated list of authors\n",
    "    \"\"\"\n",
    "    add_list = ['T. Henning']\n",
    "\n",
    "    for author in add_list:\n",
    "        if author not in author_list:\n",
    "            author_list.append(author)\n",
    "    return author_list\n",
    "\n",
    "# get list from MPIA website\n",
    "# filter for non-scientists (mpia.get_mpia_mitarbeiter_list() does some filtering)\n",
    "mpia_authors = [k[1] for k in mpia.get_mpia_mitarbeiter_list() if filter_non_scientists(k[1])]\n",
    "# add some missing author because of inconsistencies in their MPIA name and author name on papers\n",
    "mpia_authors = add_author_to_list(mpia_authors)"
   ]
  },
  {
   "cell_type": "code",
   "execution_count": 4,
   "id": "2645e73a",
   "metadata": {
    "execution": {
     "iopub.execute_input": "2024-05-29T04:11:01.260373Z",
     "iopub.status.busy": "2024-05-29T04:11:01.260122Z",
     "iopub.status.idle": "2024-05-29T04:11:01.708614Z",
     "shell.execute_reply": "2024-05-29T04:11:01.707911Z"
    },
    "papermill": {
     "duration": 0.453666,
     "end_time": "2024-05-29T04:11:01.709964",
     "exception": false,
     "start_time": "2024-05-29T04:11:01.256298",
     "status": "completed"
    },
    "tags": []
   },
   "outputs": [
    {
     "name": "stdout",
     "output_type": "stream",
     "text": [
      "K. El-Badry  ->  K. El-Badry  |  ['K. El-Badry']\n",
      "E. Schinnerer  ->  E. Schinnerer  |  ['E. Schinnerer']\n",
      "E. Bañados  ->  E. Bañados  |  ['E. Bañados']\n",
      "K. Jahnke  ->  K. Jahnke  |  ['K. Jahnke']\n",
      "X. Zhang  ->  X. Zhang  |  ['X. Zhang']\n",
      "Arxiv has 54 new papers today\n",
      "          4 with possible author matches\n"
     ]
    }
   ],
   "source": [
    "new_papers = get_new_papers()\n",
    "# add manual references\n",
    "add_paper_refs = []\n",
    "new_papers.extend([get_paper_from_identifier(k) for k in add_paper_refs])\n",
    "\n",
    "candidates = []\n",
    "for paperk in new_papers:\n",
    "    # Check author list with their initials\n",
    "    normed_author_list = [mpia.get_initials(k) for k in paperk['authors']]\n",
    "    hl_authors = highlight_authors_in_list(normed_author_list, mpia_authors, verbose=True)\n",
    "    matches = [(hl, orig) for hl, orig in zip(hl_authors, paperk['authors']) if 'mark' in hl]\n",
    "    paperk['authors'] = hl_authors\n",
    "    if matches:\n",
    "        # only select paper if an author matched our list\n",
    "        candidates.append(paperk)\n",
    "print(\"\"\"Arxiv has {0:,d} new papers today\"\"\".format(len(new_papers)))        \n",
    "print(\"\"\"          {0:,d} with possible author matches\"\"\".format(len(candidates)))"
   ]
  },
  {
   "cell_type": "markdown",
   "id": "3543b34a",
   "metadata": {
    "papermill": {
     "duration": 0.003855,
     "end_time": "2024-05-29T04:11:01.717231",
     "exception": false,
     "start_time": "2024-05-29T04:11:01.713376",
     "status": "completed"
    },
    "tags": []
   },
   "source": [
    "# Parse sources and generate relevant outputs\n",
    "\n",
    "From the candidates, we do the following steps:\n",
    "* get their tarball from ArXiv (and extract data)\n",
    "* find the main .tex file: find one with \\documentclass{...} (sometimes it's non trivial)\n",
    "* Check affiliations with :func:`validation`, which uses :func:`mpia.affiliation_verifications`\n",
    "* If passing the affiliations: we parse the .tex source\n",
    "   * inject sub-documents into the main (flatten the main document)\n",
    "   * parse structure, extract information (title, abstract, authors, figures...)\n",
    "   * handles `\\graphicspath` if provided\n",
    "* Generate the .md document."
   ]
  },
  {
   "cell_type": "code",
   "execution_count": 5,
   "id": "9576b79e",
   "metadata": {
    "execution": {
     "iopub.execute_input": "2024-05-29T04:11:01.724493Z",
     "iopub.status.busy": "2024-05-29T04:11:01.724084Z",
     "iopub.status.idle": "2024-05-29T04:12:03.220791Z",
     "shell.execute_reply": "2024-05-29T04:12:03.220045Z"
    },
    "papermill": {
     "duration": 61.503255,
     "end_time": "2024-05-29T04:12:03.223521",
     "exception": false,
     "start_time": "2024-05-29T04:11:01.720266",
     "status": "completed"
    },
    "scrolled": false,
    "tags": []
   },
   "outputs": [
    {
     "data": {
      "application/vnd.jupyter.widget-view+json": {
       "model_id": "3c7450e4a72a4ff8b5dc690de87687fd",
       "version_major": 2,
       "version_minor": 0
      },
      "text/plain": [
       "  0%|          | 0/4 [00:00<?, ?it/s]"
      ]
     },
     "metadata": {},
     "output_type": "display_data"
    },
    {
     "name": "stdout",
     "output_type": "stream",
     "text": [
      "Retrieving document from  https://arxiv.org/e-print/2405.17560\n"
     ]
    },
    {
     "name": "stdout",
     "output_type": "stream",
     "text": [
      "extracting tarball to tmp_2405.17560..."
     ]
    },
    {
     "name": "stdout",
     "output_type": "stream",
     "text": [
      " done.\n",
      "Retrieving document from  https://arxiv.org/e-print/2405.18086\n",
      "extracting tarball to tmp_2405.18086... done.\n"
     ]
    },
    {
     "name": "stdout",
     "output_type": "stream",
     "text": [
      "E. Schinnerer  ->  E. Schinnerer  |  ['E. Schinnerer']\n"
     ]
    },
    {
     "name": "stdout",
     "output_type": "stream",
     "text": [
      "list index out of range\n",
      "Retrieving document from  https://arxiv.org/e-print/2405.18126\n",
      "extracting tarball to tmp_2405.18126..."
     ]
    },
    {
     "name": "stdout",
     "output_type": "stream",
     "text": [
      " done.\n"
     ]
    },
    {
     "name": "stdout",
     "output_type": "stream",
     "text": [
      "Found 190 bibliographic references in tmp_2405.18126/main.bbl.\n",
      "syntax error in line 1194: '=' expected\n",
      "Retrieving document from  https://arxiv.org/e-print/2405.18228\n"
     ]
    },
    {
     "name": "stdout",
     "output_type": "stream",
     "text": [
      "extracting tarball to tmp_2405.18228..."
     ]
    },
    {
     "name": "stdout",
     "output_type": "stream",
     "text": [
      " done.\n",
      "  0: tmp_2405.18228/aassymbols.tex, 579 lines\n",
      "  1: tmp_2405.18228/natnotes.tex, 332 lines\n",
      "  2: tmp_2405.18228/NGC6517_Pulsars.tex, 916 lines\n",
      "  3: tmp_2405.18228/natbib.tex, 96 lines\n"
     ]
    },
    {
     "name": "stderr",
     "output_type": "stream",
     "text": [
      "/opt/hostedtoolcache/Python/3.9.19/x64/lib/python3.9/site-packages/IPython/core/interactiveshell.py:3550: LatexWarning: Multiple tex files.\n",
      "\n",
      "  exec(code_obj, self.user_global_ns, self.user_ns)\n",
      "/opt/hostedtoolcache/Python/3.9.19/x64/lib/python3.9/site-packages/IPython/core/interactiveshell.py:3550: LatexWarning: Found 4 candidates with documentclass definition.\n",
      "  exec(code_obj, self.user_global_ns, self.user_ns)\n",
      "/opt/hostedtoolcache/Python/3.9.19/x64/lib/python3.9/site-packages/IPython/core/interactiveshell.py:3550: LatexWarning: Assuming tmp_2405.18228/NGC6517_Pulsars.tex as main document.\n",
      "  exec(code_obj, self.user_global_ns, self.user_ns)\n"
     ]
    }
   ],
   "source": [
    "documents = []\n",
    "failed = []\n",
    "for paper in tqdm(candidates):\n",
    "    # debug crap\n",
    "    paper['identifier'] = paper['identifier'].lower().replace('arxiv:', '').replace(r'\\n', '').strip()\n",
    "    paper_id = paper['identifier']\n",
    "    \n",
    "    folder = f'tmp_{paper_id}'\n",
    "\n",
    "    try:\n",
    "        if not os.path.isdir(folder):\n",
    "            folder = retrieve_document_source(f\"{paper_id}\", f'tmp_{paper_id}')\n",
    "        \n",
    "        try:\n",
    "            doc = latex.LatexDocument(folder, validation=validation)    \n",
    "        except AffiliationError as affilerror:\n",
    "            msg = f\"ArXiv:{paper_id:s} is not an MPIA paper... \" + str(affilerror)\n",
    "            failed.append((paper, \"affiliation error: \" + str(affilerror) ))\n",
    "            continue\n",
    "        \n",
    "        # Hack because sometimes author parsing does not work well\n",
    "        if (len(doc.authors) != len(paper['authors'])):\n",
    "            doc._authors = paper['authors']\n",
    "        else:\n",
    "            # highlight authors (FIXME: doc.highlight_authors)\n",
    "            # done on arxiv paper already\n",
    "            doc._authors = highlight_authors_in_list(\n",
    "                [mpia.get_initials(k) for k in doc.authors], \n",
    "                mpia_authors, verbose=True)\n",
    "        if (doc.abstract) in (None, ''):\n",
    "            doc._abstract = paper['abstract']\n",
    "            \n",
    "        doc.comment = (get_markdown_badge(paper_id) + \n",
    "                       \"<mark>Appeared on: \" + paper['date'] + \"</mark> - \")\n",
    "        if paper['comments']:\n",
    "            doc.comment += \" _\" + paper['comments'] + \"_\"\n",
    "        \n",
    "        full_md = doc.generate_markdown_text()\n",
    "        \n",
    "        full_md += get_markdown_qrcode(paper_id)\n",
    "        \n",
    "        # replace citations\n",
    "        try:\n",
    "            bibdata = latex_bib.LatexBib.from_doc(doc)\n",
    "            full_md = latex_bib.replace_citations(full_md, bibdata)\n",
    "        except Exception as e:\n",
    "            print(e)\n",
    "        \n",
    "        documents.append((paper_id, full_md))\n",
    "    except Exception as e:\n",
    "        warnings.warn(latex.LatexWarning(f\"{paper_id:s} did not run properly\\n\" +\n",
    "                                         str(e)\n",
    "                                        ))\n",
    "        failed.append((paper, \"latex error \" + str(e)))"
   ]
  },
  {
   "cell_type": "markdown",
   "id": "2505a25c",
   "metadata": {
    "papermill": {
     "duration": 0.003746,
     "end_time": "2024-05-29T04:12:03.231215",
     "exception": false,
     "start_time": "2024-05-29T04:12:03.227469",
     "status": "completed"
    },
    "tags": []
   },
   "source": [
    "### Export the logs\n",
    "\n",
    "Throughout, we also keep track of the logs per paper. see `logs-{today date}.md` "
   ]
  },
  {
   "cell_type": "code",
   "execution_count": 6,
   "id": "d733828a",
   "metadata": {
    "execution": {
     "iopub.execute_input": "2024-05-29T04:12:03.239787Z",
     "iopub.status.busy": "2024-05-29T04:12:03.239359Z",
     "iopub.status.idle": "2024-05-29T04:12:03.254229Z",
     "shell.execute_reply": "2024-05-29T04:12:03.253624Z"
    },
    "papermill": {
     "duration": 0.020619,
     "end_time": "2024-05-29T04:12:03.255526",
     "exception": false,
     "start_time": "2024-05-29T04:12:03.234907",
     "status": "completed"
    },
    "scrolled": false,
    "tags": []
   },
   "outputs": [
    {
     "data": {
      "text/markdown": [
       "## Successful papers"
      ],
      "text/plain": [
       "<IPython.core.display.Markdown object>"
      ]
     },
     "metadata": {},
     "output_type": "display_data"
    },
    {
     "data": {
      "text/markdown": [
       "\n",
       "|||\n",
       "|---:|:---|\n",
       "| [![arXiv](https://img.shields.io/badge/arXiv-2405.18086-b31b1b.svg)](https://arxiv.org/abs/2405.18086) | **A$^3$COSMOS: Measuring the cosmic dust-attenuated star formation rate density at $4 < z < 5$**  |\n",
       "|| B. Magnelli, et al. -- incl., <mark>E. Schinnerer</mark> |\n",
       "|*Appeared on*| *2024-05-29*|\n",
       "|*Comments*| *Accepted for publication in A&A; 14 pages and 8 figures*|\n",
       "|**Abstract**|            [Abridged] In recent years, conflicting results have provided an uncertain view of the dust-attenuated properties of $z>4$ star-forming galaxies (SFGs). To solve this, we used the deepest data publicly available in COSMOS to build a mass-complete ($>10^{9.5}\\,M_{\\odot}$) sample of SFGs at $4<z<5$ and measured their dust-attenuated properties by stacking all archival ALMA band 6 and 7 observations available. Combining this information with their rest-frame ultraviolet emission from the COSMOS2020 catalog, we constrained the IRX ($\\equiv L_{\\rm IR}/L_{\\rm UV}$)--$\\beta_{\\rm UV}$, IRX--$M_\\ast$, and SFR--$M_\\ast$ relations at $z\\sim4.5$. Finally, using these relations and the stellar mass function of SFGs at $z\\sim4.5$, we inferred the unattenuated and dust-attenuated SFRD at this epoch. SFGs at $z\\sim4.5$ follow an IRX--$\\beta_{\\rm UV}$ relation that is consistent with that of local starbursts, while they follow a steeper IRX--$M_\\ast$ relation than observed locally. The grain properties of dust in these SFGs seems thus similar to those in local starbursts but its mass and geometry result in lower attenuation in low-mass SFGs. SFGs at $z\\sim4.5$ lie on a linear SFR--$M_\\ast$ relation, whose normalization varies by 0.3 dex, when we exclude or include from our stacks the ALMA primary targets. The cosmic SFRD$(>M_\\ast)$ converges at $M_\\ast<10^{9}\\,M_\\odot$ and is dominated by SFGs with $M_\\ast\\sim10^{9.5-10.5}\\,M_\\odot$. The fraction of the cosmic SFRD that is attenuated by dust, ${\\rm SFRD}_{\\rm IR}(>M_\\ast)/ {\\rm SFRD}(>M_\\ast)$, is $90\\pm4\\%$ for $M_\\ast\\,=\\,10^{10}\\,M_\\odot$, $68\\pm10\\%$ for $M_\\ast=10^{8.9}\\,M_\\odot$ (i.e., $0.03\\times M^\\star$; $M^\\star$ being the characteristic stellar mass of SFGs) and this value converges to $60\\pm10\\%$ for $M_\\ast=10^{8}\\,M_\\odot$. Even at this early epoch, the fraction of the cosmic SFRD that is attenuated by dust remains thus significant.         |"
      ],
      "text/plain": [
       "[2405.18086] A$^3$COSMOS: Measuring the cosmic dust-attenuated star formation rate density at $4 < z < 5$\n",
       "\tB. Magnelli, et al. -- incl., <mark>E. Schinnerer</mark>"
      ]
     },
     "metadata": {},
     "output_type": "display_data"
    },
    {
     "data": {
      "text/markdown": [
       "\n",
       "|||\n",
       "|---:|:---|\n",
       "| [![arXiv](https://img.shields.io/badge/arXiv-2405.18126-b31b1b.svg)](https://arxiv.org/abs/2405.18126) | **Euclid preparation. Observational expectations for redshift z<7 active galactic nuclei in the Euclid Wide and Deep surveys**  |\n",
       "|| E. Collaboration, et al. -- incl., <mark>E. Bañados</mark>, <mark>K. Jahnke</mark> |\n",
       "|*Appeared on*| *2024-05-29*|\n",
       "|*Comments*| *36 pages, 21 figures, submitted to A&A*|\n",
       "|**Abstract**|            We forecast the expected population of active galactic nuclei (AGN) observable in the Euclid Wide Survey (EWS) and Euclid Deep Survey (EDS). Starting from an X-ray luminosity function (XLF) we generate volume-limited samples of the AGN expected in the survey footprints. Each AGN is assigned an SED appropriate for its X-ray luminosity and redshift, with perturbations sampled from empirical distributions. The photometric detectability of each AGN is assessed via mock observation of the assigned SED. We estimate 40 million AGN will be detectable in at least one band in the EWS and 0.24 million in the EDS, corresponding to surface densities of 2.8$\\times$10$^{3}$ deg$^{-2}$ and 4.7$\\times$10$^{3}$ deg$^{-2}$. Employing colour selection criteria on our simulated data we select a sample of 4.8$\\times$10$^{6}$ (331 deg$^{-2}$) AGN in the EWS and 1.7$\\times$10$^{4}$ (346 deg$^{-2}$) in the EDS, amounting to 10% and 8% of the AGN detectable in the EWS and EDS. Including ancillary Rubin/LSST bands improves the completeness and purity of AGN selection. These data roughly double the total number of selected AGN to comprise 21% and 15% of the detectable AGN in the EWS and EDS. The total expected sample of colour-selected AGN contains 6.0$\\times$10$^{6}$ (74%) unobscured AGN and 2.1$\\times$10$^{6}$ (26%) obscured AGN, covering $0.02 \\leq z \\lesssim 5.2$ and $43 \\leq \\log_{10} (L_{bol} / erg s^{-1}) \\leq 47$. With this simple colour selection, expected surface densities are already comparable to the yield of modern X-ray and mid-infrared surveys of similar area. The relative uncertainty on our expectation for detectable AGN is 6.7% for the EWS and 12.5% for the EDS, driven by the uncertainty of the XLF.         |"
      ],
      "text/plain": [
       "[2405.18126] Euclid preparation. Observational expectations for redshift z<7 active galactic nuclei in the Euclid Wide and Deep surveys\n",
       "\tE. Collaboration, et al. -- incl., <mark>E. Bañados</mark>, <mark>K. Jahnke</mark>"
      ]
     },
     "metadata": {},
     "output_type": "display_data"
    },
    {
     "data": {
      "text/markdown": [
       "## Failed papers"
      ],
      "text/plain": [
       "<IPython.core.display.Markdown object>"
      ]
     },
     "metadata": {},
     "output_type": "display_data"
    },
    {
     "data": {
      "text/markdown": [
       "\n",
       "|||\n",
       "|---:|:---|\n",
       "| [![arXiv](https://img.shields.io/badge/arXiv-2405.17560-b31b1b.svg)](https://arxiv.org/abs/2405.17560) | **The Symbiotic X-ray Binary IGR J16194-2810: A Window on the Future Evolution of Wide Neutron Star Binaries From Gaia**  |\n",
       "|| P. Nagarajan, <mark>K. El-Badry</mark>, C. Lam, H. Reggiani |\n",
       "|*Appeared on*| *2024-05-29*|\n",
       "|*Comments*| *20 pages, 13 figures, Submitted to PASP*|\n",
       "|**Abstract**|            We present optical follow-up of IGR J16194-2810, a hard X-ray source discovered by the INTEGRAL mission. The optical counterpart is a $\\sim500\\,L_\\odot$ red giant at a distance of $2.1$ kpc. We measured 16 radial velocities (RVs) of the giant over a period of $\\sim 300$ days. Fitting these RVs with a Keplerian model, we find an orbital period of $P_{\\rm orb} = 192.73 \\pm 0.01$ days and a companion mass function $f(M_2) = 0.361 \\pm 0.005 \\,M_{\\odot}$. We detect ellipsoidal variability with the same period in optical light curves from the ASAS-SN survey. Joint fitting of the RVs, light curves, and the broadband SED allows us to robustly constrain the masses of both components. We find a giant mass of $M_\\star = 1.02\\pm 0.01\\,M_{\\odot}$ and a companion mass of $M_{2} = 1.35^{+0.09}_{-0.07}\\,M_{\\odot}$, implying that the companion is a neutron star (NS). We recover a $4.06$-hour period in the system's TESS light curve, which we tentatively associate with the NS spin period. The giant does not yet fill its Roche lobe, suggesting that current mass transfer is primarily via winds. MESA evolutionary models predict that the giant will overflow its Roche lobe in $5$-$10$ Myr, eventually forming a recycled pulsar + white dwarf binary with a $\\sim 900$ day period. IGR J16194-2810 provides a window on the future evolution of wide NS + main sequence binaries recently discovered via Gaia astrometry. As with those systems, the binary's formation history is uncertain. Before the formation of the NS, it likely survived a common envelope episode with a donor-to-accretor mass ratio $\\gtrsim 10$ and emerged in a wide orbit. The NS likely formed with a weak kick ($v_{\\rm kick}\\lesssim 100\\,\\rm km\\,s^{-1}$), as stronger kicks would have disrupted the orbit.         |\n",
       "|<p style=\"color:green\"> **ERROR** </p>| <p style=\"color:green\">affiliation error: mpia.affiliation_verifications: 'Heidelberg' keyword not found.</p> |"
      ],
      "text/plain": [
       "<IPython.core.display.Markdown object>"
      ]
     },
     "metadata": {},
     "output_type": "display_data"
    },
    {
     "data": {
      "text/markdown": [
       "\n",
       "|||\n",
       "|---:|:---|\n",
       "| [![arXiv](https://img.shields.io/badge/arXiv-2405.18228-b31b1b.svg)](https://arxiv.org/abs/2405.18228) | **FAST Discovery of Eight Isolated Millisecond Pulsars in NGC 6517**  |\n",
       "|| D. Yin, et al. -- incl., <mark>X. Zhang</mark> |\n",
       "|*Appeared on*| *2024-05-29*|\n",
       "|*Comments*| *21 pages, 2 figures, accepted for publication in The Astrophysical Journal Letters*|\n",
       "|**Abstract**|            We present the discovery of 8 isolated millisecond pulsars in Globular Cluster (GC) NGC 6517 using the Five-Hundred-meter Aperture Spherical radio Telescope (FAST). The spin periods of those pulsars (namely PSR J1801-0857K to R, or, NGC 6517K to R) are all shorter than 10 ms. With these discoveries, NGC 6517 is currently the GC with the most known pulsars in the FAST sky. The largest difference in dispersion measure of the pulsars in NGC 6517 is 11.2 cm$^{-3}$ pc, the second among all GCs. The fraction of isolated pulsars in this GC (16 of 17, 94$\\%$) is consistent with previous studies indicating an overabundance of isolated pulsars in the densest GCs, especially in those undergoing cluster core collapse. Considering the FAST GC pulsar discoveries, we modeled the GC pulsar population using the empirical Bayesian method described by Turk and Lorimer with the recent counts. Using this approach, we find that the expected number of potential pulsars in GCs seems to be correlated with the central escape velocity, hence, the GCs Liller 1, NGC 6441, M54 (NGC 6715), and $\\omega$-Cen (NGC 5139) are expected to host the largest numbers of pulsars.         |\n",
       "|<p style=\"color:green\"> **ERROR** </p>| <p style=\"color:green\">affiliation error: mpia.affiliation_verifications: 'Heidelberg' keyword not found.</p> |"
      ],
      "text/plain": [
       "<IPython.core.display.Markdown object>"
      ]
     },
     "metadata": {},
     "output_type": "display_data"
    }
   ],
   "source": [
    "import datetime\n",
    "today = str(datetime.date.today())\n",
    "logfile = f\"_build/html/logs/log-{today}.md\"\n",
    "\n",
    "\n",
    "with open(logfile, 'w') as logs:\n",
    "    # Success\n",
    "    logs.write(f'# Arxiv on Deck 2: Logs - {today}\\n\\n')\n",
    "    logs.write(\"\"\"* Arxiv had {0:,d} new papers\\n\"\"\".format(len(new_papers)))\n",
    "    logs.write(\"\"\"    * {0:,d} with possible author matches\\n\\n\"\"\".format(len(candidates)))\n",
    "    logs.write(\"## Sucessful papers\\n\\n\")\n",
    "    display(Markdown(\"## Successful papers\"))\n",
    "    success = [k[0] for k in documents]\n",
    "    for candid in candidates:\n",
    "        if candid['identifier'].split(':')[-1] in success:\n",
    "            display(candid)\n",
    "            logs.write(candid.generate_markdown_text() + '\\n\\n')\n",
    "\n",
    "    ## failed\n",
    "    logs.write(\"## Failed papers\\n\\n\")\n",
    "    display(Markdown(\"## Failed papers\"))\n",
    "    failed = sorted(failed, key=lambda x: x[1])\n",
    "    current_reason = \"\"\n",
    "    for paper, reason in failed:\n",
    "        if 'affiliation' in reason:\n",
    "            color = 'green'\n",
    "        else:\n",
    "            color = 'red'\n",
    "        data = Markdown(\n",
    "                paper.generate_markdown_text() + \n",
    "                f'\\n|<p style=\"color:{color:s}\"> **ERROR** </p>| <p style=\"color:{color:s}\">{reason:s}</p> |'\n",
    "               )\n",
    "        if reason != current_reason:\n",
    "            logs.write(f'### {reason:s} \\n\\n')\n",
    "            current_reason = reason\n",
    "        logs.write(data.data + '\\n\\n')\n",
    "        \n",
    "        # only display here the important errors (all in logs)\n",
    "        # if color in ('red',):\n",
    "        display(data)"
   ]
  },
  {
   "cell_type": "markdown",
   "id": "472d20ee",
   "metadata": {
    "papermill": {
     "duration": 0.004255,
     "end_time": "2024-05-29T04:12:03.264085",
     "exception": false,
     "start_time": "2024-05-29T04:12:03.259830",
     "status": "completed"
    },
    "tags": []
   },
   "source": [
    "## Export documents\n",
    "\n",
    "We now write the .md files and export relevant images"
   ]
  },
  {
   "cell_type": "code",
   "execution_count": 7,
   "id": "d426aed9",
   "metadata": {
    "execution": {
     "iopub.execute_input": "2024-05-29T04:12:03.273704Z",
     "iopub.status.busy": "2024-05-29T04:12:03.273315Z",
     "iopub.status.idle": "2024-05-29T04:12:03.279467Z",
     "shell.execute_reply": "2024-05-29T04:12:03.278878Z"
    },
    "papermill": {
     "duration": 0.012496,
     "end_time": "2024-05-29T04:12:03.280826",
     "exception": false,
     "start_time": "2024-05-29T04:12:03.268330",
     "status": "completed"
    },
    "tags": []
   },
   "outputs": [],
   "source": [
    "def export_markdown_summary(md: str, md_fname:str, directory: str):\n",
    "    \"\"\"Export MD document and associated relevant images\"\"\"\n",
    "    import os\n",
    "    import shutil\n",
    "    import re\n",
    "\n",
    "    if (os.path.exists(directory) and not os.path.isdir(directory)):\n",
    "        raise RuntimeError(f\"a non-directory file exists with name {directory:s}\")\n",
    "\n",
    "    if (not os.path.exists(directory)):\n",
    "        print(f\"creating directory {directory:s}\")\n",
    "        os.mkdir(directory)\n",
    "\n",
    "    fig_fnames = (re.compile(r'\\[Fig.*\\]\\((.*)\\)').findall(md) + \n",
    "                  re.compile(r'\\<img src=\"([^>\\s]*)\"[^>]*/>').findall(md))\n",
    "    for fname in fig_fnames:\n",
    "        if 'http' in fname:\n",
    "            # No need to copy online figures\n",
    "            continue\n",
    "        destdir = os.path.join(directory, os.path.dirname(fname))\n",
    "        destfname = os.path.join(destdir, os.path.basename(fname))\n",
    "        try:\n",
    "            os.makedirs(destdir)\n",
    "        except FileExistsError:\n",
    "            pass\n",
    "        shutil.copy(fname, destfname)\n",
    "    with open(os.path.join(directory, md_fname), 'w') as fout:\n",
    "        fout.write(md)\n",
    "    print(\"exported in \", os.path.join(directory, md_fname))\n",
    "    [print(\"    + \" + os.path.join(directory,fk)) for fk in fig_fnames]"
   ]
  },
  {
   "cell_type": "code",
   "execution_count": 8,
   "id": "014d04a4",
   "metadata": {
    "execution": {
     "iopub.execute_input": "2024-05-29T04:12:03.290433Z",
     "iopub.status.busy": "2024-05-29T04:12:03.290056Z",
     "iopub.status.idle": "2024-05-29T04:12:03.299999Z",
     "shell.execute_reply": "2024-05-29T04:12:03.299463Z"
    },
    "papermill": {
     "duration": 0.016141,
     "end_time": "2024-05-29T04:12:03.301327",
     "exception": false,
     "start_time": "2024-05-29T04:12:03.285186",
     "status": "completed"
    },
    "tags": []
   },
   "outputs": [
    {
     "name": "stdout",
     "output_type": "stream",
     "text": [
      "exported in  _build/html/2405.18086.md\n",
      "    + _build/html/tmp_2405.18086/./Fraction_SFRD_z_4.png\n",
      "    + _build/html/tmp_2405.18086/./IRX_Beta_z_4.png\n",
      "    + _build/html/tmp_2405.18086/./IRX_M_z_4.png\n",
      "    + _build/html/tmp_2405.18086/./SFR_M_z_4.png\n",
      "exported in  _build/html/2405.18126.md\n",
      "    + _build/html/tmp_2405.18126/./figures/selectionsinfo.png\n",
      "    + _build/html/tmp_2405.18126/./figures/lf_consistency_refereeupdate.png\n",
      "    + _build/html/tmp_2405.18126/./figures/filter_sed_zevo.png\n"
     ]
    }
   ],
   "source": [
    "for paper_id, md in documents:\n",
    "    export_markdown_summary(md, f\"{paper_id:s}.md\", '_build/html/')"
   ]
  },
  {
   "cell_type": "markdown",
   "id": "f087a0a7",
   "metadata": {
    "papermill": {
     "duration": 0.004254,
     "end_time": "2024-05-29T04:12:03.309974",
     "exception": false,
     "start_time": "2024-05-29T04:12:03.305720",
     "status": "completed"
    },
    "tags": []
   },
   "source": [
    "## Display the papers\n",
    "\n",
    "Not necessary but allows for a quick check."
   ]
  },
  {
   "cell_type": "code",
   "execution_count": 9,
   "id": "fd25f625",
   "metadata": {
    "execution": {
     "iopub.execute_input": "2024-05-29T04:12:03.319720Z",
     "iopub.status.busy": "2024-05-29T04:12:03.319326Z",
     "iopub.status.idle": "2024-05-29T04:12:03.325047Z",
     "shell.execute_reply": "2024-05-29T04:12:03.324410Z"
    },
    "papermill": {
     "duration": 0.0121,
     "end_time": "2024-05-29T04:12:03.326437",
     "exception": false,
     "start_time": "2024-05-29T04:12:03.314337",
     "status": "completed"
    },
    "scrolled": false,
    "tags": []
   },
   "outputs": [
    {
     "data": {
      "text/markdown": [
       "<div class=\"macros\" style=\"visibility:hidden;\">\n",
       "$\\newcommand{\\ensuremath}{}$\n",
       "$\\newcommand{\\xspace}{}$\n",
       "$\\newcommand{\\object}[1]{\\texttt{#1}}$\n",
       "$\\newcommand{\\farcs}{{.}''}$\n",
       "$\\newcommand{\\farcm}{{.}'}$\n",
       "$\\newcommand{\\arcsec}{''}$\n",
       "$\\newcommand{\\arcmin}{'}$\n",
       "$\\newcommand{\\ion}[2]{#1#2}$\n",
       "$\\newcommand{\\textsc}[1]{\\textrm{#1}}$\n",
       "$\\newcommand{\\hl}[1]{\\textrm{#1}}$\n",
       "$\\newcommand{\\footnote}[1]{}$\n",
       "$\\newcommand{\\acosmos}{A^3COSMOS }$\n",
       "$\\newcommand\\natexlab{#1}$</div>\n",
       "\n",
       "\n",
       "\n",
       "<div id=\"title\">\n",
       "\n",
       "# A$^3$COSMOS: Measuring the cosmic dust-attenuated star formation rate density at $4 < z < 5$\n",
       "\n",
       "</div>\n",
       "<div id=\"comments\">\n",
       "\n",
       "[![arXiv](https://img.shields.io/badge/arXiv-2405.18086-b31b1b.svg)](https://arxiv.org/abs/2405.18086)<mark>Appeared on: 2024-05-29</mark> -  _Accepted for publication in A&A; 14 pages and 8 figures_\n",
       "\n",
       "</div>\n",
       "<div id=\"authors\">\n",
       "\n",
       "B. Magnelli, et al. -- incl., <mark>E. Schinnerer</mark>\n",
       "\n",
       "</div>\n",
       "<div id=\"abstract\">\n",
       "\n",
       "**Abstract:** In recent years, conflicting results have provided an uncertain view of the dust-attenuated star-forming properties of $z\\gtrsim4$ galaxies. To solve this, we need to accurately measure the mean dust-attenuated properties of star-forming galaxies (SFGs) at $4<z<5$ and therefore constrain the cosmic dust-attenuated star formation rate density (SFRD) of the Universe 1.3 Giga-years after the Big Bang. We used the deepest optical-to-near-infrared data publicly available in the Cosmic Evolution Survey (COSMOS) field to build a mass-complete ( $>10^{9.5} M_{\\odot}$ ) sample of SFGs at $4<z<5$ .   Then, we measured their mean dust-attenuated properties (i.e., infrared luminosity, $\\langle L_{\\rm IR}\\rangle$ ; dust-attenuated star formation rate, $\\langle{\\rm SFR}_{\\rm IR}\\rangle$ ) by dividing our sample in three stellar mass ( $M_\\ast$ ) bins (i.e., $10^{9.5} < M_\\ast/M_\\odot<10^{10}$ , $10^{10} < M_\\ast/M_\\odot<10^{10.5}$ , and $10^{10.5} < M_\\ast/M_\\odot<10^{11.5}$ ) and by stacking in the $uv$ domain all archival Atacama Large Millimeter/submillimeter Array (ALMA) band 6 and 7 observations available for these galaxies.   Then, we combined this information with their mean rest-frame ultraviolet (UV) emission measured from the COSMOS2020 catalog (i.e., UV luminosity, $\\langle L_{\\rm UV}\\rangle$ ; UV spectral slope, $\\langle \\beta_{\\rm UV}\\rangle$ ; and unattenuated SFR, $\\langle{\\rm SFR}_{\\rm UV}\\rangle$ ), and constrained the IRX ( $\\equiv L_{\\rm IR}/L_{\\rm UV}$ )-- $\\beta_{\\rm UV}$ , IRX-- $M_\\ast$ , and SFR-- $M_\\ast$ relations at $z\\sim4.5$ .   Finally, using these relations and the stellar mass function of SFGs at $z\\sim4.5$ , we inferred the unattenuated and dust-attenuated SFRD at this epoch. SFGs follow an IRX-- $\\beta_{\\rm UV}$ relation that is consistent with that observed in local starbursts.   Our measurements favors a steepening of the IRX-- $M_\\ast$ relation at $z\\sim4.5$ , compared to the redshift-independent IRX-- $M_\\ast$ relation observed at $z\\sim1-3$ .   Our galaxies lie on a linear SFR-- $M_\\ast$ relation, whose normalization varies by 0.3 dex, when we exclude or include from our stacks the ALMA primary targets (i.e., sources within 3 $\\arcsec$ from the ALMA phase center).   The cosmic SFRD $(>M_\\ast)$ converges at $M_\\ast\\lesssim10^{9} M_\\odot$ , with SFGs at $10^8<M_\\ast/M_\\odot<10^9$ contributing already less than 15 \\% of the SFRD from all SFGs with $M_\\ast>10^8 M_\\odot$ .   The cosmic SFRD at $z\\sim4.5$ is dominated by SFGs with a stellar mass of $10^{9.5-10.5} M_\\odot$ .   Finally, the fraction of the cosmic SFRD that is attenuated by dust, ${\\rm SFRD}_{\\rm IR}(>M_\\ast)/ {\\rm SFRD}(>M_\\ast)$ , is $90\\pm4\\%$ for $M_\\ast = 10^{10} M_\\odot$ , $68\\pm10\\%$ for $M_\\ast=10^{8.9} M_\\odot$ (i.e., $0.03\\times M^\\star$ ; $M^\\star$ being the characteristic stellar mass of SFGs at this epoch) and this value converges to $60\\pm10\\%$ for $M_\\ast=10^{8} M_\\odot$ . A non-evolving IRX-- $\\beta_{\\rm UV}$ relation suggests that the grain properties (e.g., size distribution, composition) of dust in SFGs at $z\\sim4.5$ are similar to those in local starbursts.   However, the mass and geometry of this dust result in lower attenuation in low-mass SFGs ( $\\lesssim10^{10} M_\\odot$ ) at $z\\sim4.5$ than at $z\\lesssim3$ .   Nevertheless, the fraction of the cosmic SFRD that is attenuated by dust remains significant ( $\\sim68\\pm10\\%$ ) even at such an early cosmic epoch.\n",
       "\n",
       "</div>\n",
       "\n",
       "<div id=\"div_fig1\">\n",
       "\n",
       "<img src=\"tmp_2405.18086/./Fraction_SFRD_z_4.png\" alt=\"Fig5\" width=\"100%\"/>\n",
       "\n",
       "**Figure 5. -** Evolution with stellar mass of the cosmic SFRD at $4<z<5$.\n",
       "      (_top left_) The fiducial SMF used in our calculations is represented by the gray line and shaded region.\n",
       "      This is the combination of a Schechter and power-law function fit to the SMF of \\citet[][gray and black circles]{Weaver.2023}.\n",
       "      A Schechter function fit to these data points is shown by the gray dotted line.\n",
       "      (_bottom left_) Cosmic SFRD (thick black line) and dust-attenuated SFRD (red line) above a given stellar mass, as inferred using the fiducial SMF.\n",
       "      The dotted gray and red lines present the same quantities but using a simple Schechter SMF in our calculations.\n",
       "      (_top right_) Fraction of the $M_\\ast>10^{8} M_\\odot$ SFRD (gray histogram) and dust-attenuated SFRD (red histogram) that is attributed to a given stellar mass bin.\n",
       "      (_bottom right_) Fraction of the cosmic SFRD above a given stellar mass that is dust-attenuated (red region) and unattenuated (blue region).\n",
       "      The dotted gray line present the same quantity but using a simple Schechter SMF in our calculations.\n",
       "      In all panels, the vertical line represents the $0.03\\times M^\\star$ lower integration limits commonly used to infer the \"total\" cosmic SFRD \\citep[e.g.,][]{Madau.2014}.\n",
       "      All quantities in the bottom-left, top-right, and bottom-right panels were calculated using our fiducial SMF, IRX--$M_\\ast$, MS relations.\n",
       "      The propagation of the 1-$\\sigma$ uncertainties on the SMF and the IRX--$M_\\ast$ relation are represented by shaded regions.\n",
       "      The uncertainties on the MS would move the black and red lines of the bottom-left panel up and down by 0.15 dex, but would have no effect on the other quantities displayed in this figure. (*fig:Frac. SFRD*)\n",
       "\n",
       "</div>\n",
       "<div id=\"div_fig2\">\n",
       "\n",
       "<img src=\"tmp_2405.18086/./IRX_Beta_z_4.png\" alt=\"Fig4.1\" width=\"50%\"/><img src=\"tmp_2405.18086/./IRX_M_z_4.png\" alt=\"Fig4.2\" width=\"50%\"/>\n",
       "\n",
       "**Figure 4. -** Dust attenution properties of SFGs at $z\\sim4.5$.\n",
       "      (_left_) IRX--$\\beta_{\\rm UV}$ relation derived at $4<z<5$ by stacking all SFGs with a $\\acosmos$ coverage (dark-green hexagons) or by stacking all SFGs except the ALMA primary targets (lime-green circles).\n",
       "      Hexagons and circles with faded colors correspond to our $\\langle L_{\\rm UV}^{\\rm phot.}\\rangle$ and $\\langle\\beta_{\\rm UV}^{\\rm phot.}\\rangle$ estimates, i.e., inferred from a COSMOS2020 photometry as opposed to their best-fit SED (see Sect. \\ref{subsec:LUV}).\n",
       "      For each stellar mass bin, the fraction of galaxies for which we were able to make such photometric measurement (see text for details) is given in the bottom part of the panel.\n",
       "      In parenthesis, we provide the same number but after excluding the ALMA primary targets.\n",
       "      The gray shaded squares present measurements for UV-selected SFGs at $z\\sim4-8$ from \\citet{Bowler.2024}.\n",
       "      The black solid, dash-dotted, dashed, and dotted lines show the IRX--$\\beta_{\\rm UV}$ relation observed in local starbursts by \\citet{Meurer.1999} and by \\citet{Calzetti.2000}, an updated version for local galaxies \\citep{Overzier.2011}, and an SMC-like dust attenuation relation, respectively.\n",
       "      The orange dash-dot-dotted line shows the relation observed in a UV-selected sample of SFGs at $z\\sim4.5$\\citep{Fudamoto.2020}.\n",
       "      (_right_) IRX--$M_{\\ast}$ relation at $4<z<5$.\n",
       "      Symbols are the same as in the left panel.\n",
       "      Dark-green and lime-green solid lines are linear fits to these data points, while the associated shaded regions show the 1$\\sigma$ uncertainties on these fits (i.e., the 16th to 84th ranges).\n",
       "      The pink dotted line shows the redshift-independent IRX--$M_{\\ast}$ relation derived by \\citet{Pannella.2015} for $z\\lesssim4$ SFGs.\n",
       "      The black dash-dotted line shows the IRX--$M_{\\ast}$ relation at $z\\sim4$ inferred by \\citet{Koprowski.2018}.\n",
       "      The blue dashed line shows the IRX--$M_{\\ast}$ relation at $z\\sim3$ and $z\\sim4.5$ found in \\citet{Fudamoto.2019,Fudamoto.2020}.\n",
       "       (*fig:IRX*)\n",
       "\n",
       "</div>\n",
       "<div id=\"div_fig3\">\n",
       "\n",
       "<img src=\"tmp_2405.18086/./SFR_M_z_4.png\" alt=\"Fig1\" width=\"100%\"/>\n",
       "\n",
       "**Figure 1. -** SFR--$M_{\\ast}$ relation at $4<z<5$.\n",
       "      Dark-gray hexagons show the dust-attenuated SFRs (i.e., SFR$_{\\rm IR}$) inferred by stacking all SFGs with a $\\acosmos$ coverage, while dark-green hexagons show their total SFRs, i.e., adding the contribution of their unattenuated SFRs measured in the UV (i.e., SFR$_{\\rm UV}$; symbols are slightly offset along the stellar mass axis for clarity).\n",
       "      Light-gray and lime-green circles display the same quantities but for our stacking analysis which excludes the ALMA primary targets (symbols are slightly offset along the stellar mass axis for clarity).\n",
       "      The dark-green solid and red dotted lines represent the MS and its $\\pm0.3 $dex dispersion from \\citet{Schreiber.2015}, whose normalization happens to be perfectly consistent with our dark-green hexagons, i.e., MS$_{\\rm All,  Fit}\\equiv{\\rm MS}_{\\rm S15}$.\n",
       "      The lime-green line is obtained by renormalizing the MS of \\citet{Schreiber.2015} to fit our lime-green circles, i.e., MS$_{\\rm Offcenter, Fit}\\equiv{\\rm MS}_{\\rm S15}-0.3 $dex.\n",
       "      For each stellar mass bin, we give the fraction of ALMA primary targets and in parenthesis their weights in our stacks.\n",
       "      Finally, pink squares and diamonds show the total and dust-attenuated SFRs found in \\citet{Khusanova.2021} by stacking in three stellar mass bins, ALMA observations of all (detected and undetected) $z\\sim4.5$ SFGs from the ALMA ALPINE survey.\n",
       "       (*fig:MS*)\n",
       "\n",
       "</div><div id=\"qrcode\"><img src=https://api.qrserver.com/v1/create-qr-code/?size=100x100&data=\"https://arxiv.org/abs/2405.18086\"></div>"
      ],
      "text/plain": [
       "<IPython.core.display.Markdown object>"
      ]
     },
     "metadata": {},
     "output_type": "display_data"
    },
    {
     "data": {
      "text/markdown": [
       "<div class=\"macros\" style=\"visibility:hidden;\">\n",
       "$\\newcommand{\\ensuremath}{}$\n",
       "$\\newcommand{\\xspace}{}$\n",
       "$\\newcommand{\\object}[1]{\\texttt{#1}}$\n",
       "$\\newcommand{\\farcs}{{.}''}$\n",
       "$\\newcommand{\\farcm}{{.}'}$\n",
       "$\\newcommand{\\arcsec}{''}$\n",
       "$\\newcommand{\\arcmin}{'}$\n",
       "$\\newcommand{\\ion}[2]{#1#2}$\n",
       "$\\newcommand{\\textsc}[1]{\\textrm{#1}}$\n",
       "$\\newcommand{\\hl}[1]{\\textrm{#1}}$\n",
       "$\\newcommand{\\footnote}[1]{}$\n",
       "$\\newcommand{\\head}[2]{\\multicolumn{1}{>{\\centering\\arraybackslash}p{#1}}{#2}}$\n",
       "$\\newcommand{\\ebv}{{E(B-V)}}$\n",
       "$\\newcommand{\\qsfit}{{\\tt QSFIT}}$\n",
       "$\\newcommand{\\red}{\\textcolor{red}}$\n",
       "$\\newcommand{\\green}{\\textcolor{orange}}$\n",
       "$\\newcommand{\\purp}{\\textcolor{cyan}}$\n",
       "$\\newcommand{\\orcid}[1]$\n",
       "$\\newcommand{\\NUMDetectableIeEWS}{3.1 \\times 10^{7} }$\n",
       "$\\newcommand{\\NUMDetectableYeEWS}{2.2 \\times 10^{7} }$\n",
       "$\\newcommand{\\NUMDetectableJeEWS}{3.0 \\times 10^{7} }$\n",
       "$\\newcommand{\\NUMDetectableHeEWS}{3.5 \\times 10^{7} }$\n",
       "$\\newcommand{\\NUMDetectableOneFiltEWS}{4.0 \\times 10^{7} }$\n",
       "$\\newcommand{\\NUMDetectableAllFiltEWS}{2.1 \\times 10^{7} }$\n",
       "$\\newcommand{\\SDDetectableIeEWS}{2.2 \\times 10^{3} }$\n",
       "$\\newcommand{\\SDDetectableYeEWS}{1.5 \\times 10^{3} }$\n",
       "$\\newcommand{\\SDDetectableJeEWS}{2.1 \\times 10^{3} }$\n",
       "$\\newcommand{\\SDDetectableHeEWS}{2.4 \\times 10^{3} }$\n",
       "$\\newcommand{\\SDDetectableOneFiltEWS}{2.8 \\times 10^{3} }$\n",
       "$\\newcommand{\\SDDetectableAllFiltEWS}{1.4 \\times 10^{3} }$\n",
       "$\\newcommand{\\NUMDetectableIeEDS}{1.9 \\times 10^{5} }$\n",
       "$\\newcommand{\\NUMDetectableYeEDS}{1.6 \\times 10^{5} }$\n",
       "$\\newcommand{\\NUMDetectableJeEDS}{2.0 \\times 10^{5} }$\n",
       "$\\newcommand{\\NUMDetectableHeEDS}{2.3 \\times 10^{5} }$\n",
       "$\\newcommand{\\NUMDetectableOneFiltEDS}{2.4 \\times 10^{5} }$\n",
       "$\\newcommand{\\NUMDetectableAllFiltEDS}{1.6 \\times 10^{5} }$\n",
       "$\\newcommand{\\SDDetectableIeEDS}{3.8 \\times 10^{3} }$\n",
       "$\\newcommand{\\SDDetectableYeEDS}{3.2 \\times 10^{3} }$\n",
       "$\\newcommand{\\SDDetectableJeEDS}{4.0 \\times 10^{3} }$\n",
       "$\\newcommand{\\SDDetectableHeEDS}{4.5 \\times 10^{3} }$\n",
       "$\\newcommand{\\SDDetectableOneFiltEDS}{4.7 \\times 10^{3} }$\n",
       "$\\newcommand{\\SDDetectableAllFiltEDS}{3.1 \\times 10^{3} }$\n",
       "$\\newcommand{\\NUMSelectedEuclidOnlyTypeOneEWS}{4.8 \\times 10^{6} }$\n",
       "$\\newcommand{\\SDSelectedEuclidOnlyTypeOneEWS}{331 }$\n",
       "$\\newcommand{\\CSelectedEuclidOnlyTypeOneEWS}{0.23}$\n",
       "$\\newcommand{\\CTypeOneSelectedEuclidOnlyTypeOneEWS}{0.52}$\n",
       "$\\newcommand{\\NUMSelectedEuclidLSSTTypeOneEWS}{5.7 \\times 10^{6} }$\n",
       "$\\newcommand{\\SDSelectedEuclidLSSTTypeOneEWS}{393 }$\n",
       "$\\newcommand{\\CSelectedEuclidLSSTTypeOneEWS}{0.45}$\n",
       "$\\newcommand{\\CTypeOneSelectedEuclidLSSTTypeOneEWS}{0.75}$\n",
       "$\\newcommand{\\NUMSelectedEuclidLSSTAllEWS}{6.0 \\times 10^{6} }$\n",
       "$\\newcommand{\\SDSelectedEuclidLSSTAllEWS}{413 }$\n",
       "$\\newcommand{\\CSelectedEuclidLSSTAllEWS}{0.51}$\n",
       "$\\newcommand{\\CTypeOneSelectedEuclidLSSTAllEWS}{0.65}$\n",
       "$\\newcommand{\\CTypeTwoSelectedEuclidLSSTAllEWS}{0.33}$\n",
       "$\\newcommand{\\NUMSelectedEuclidOnlyTypeOneEDS}{1.7 \\times 10^{4} }$\n",
       "$\\newcommand{\\SDSelectedEuclidOnlyTypeOneEDS}{346 }$\n",
       "$\\newcommand{\\CSelectedEuclidOnlyTypeOneEDS}{0.11}$\n",
       "$\\newcommand{\\CTypeOneSelectedEuclidOnlyTypeOneEDS}{0.40}$\n",
       "$\\newcommand{\\NUMSelectedEuclidLSSTTypeOneEDS}{2.0 \\times 10^{4} }$\n",
       "$\\newcommand{\\SDSelectedEuclidLSSTTypeOneEDS}{392 }$\n",
       "$\\newcommand{\\CSelectedEuclidLSSTTypeOneEDS}{0.45}$\n",
       "$\\newcommand{\\CTypeOneSelectedEuclidLSSTTypeOneEDS}{0.76}$\n",
       "$\\newcommand{\\NUMSelectedEuclidLSSTAllEDS}{2.9 \\times 10^{4} }$\n",
       "$\\newcommand{\\SDSelectedEuclidLSSTAllEDS}{579 }$\n",
       "$\\newcommand{\\CSelectedEuclidLSSTAllEDS}{0.32}$\n",
       "$\\newcommand{\\CTypeOneSelectedEuclidLSSTAllEDS}{0.51}$\n",
       "$\\newcommand{\\CTypeTwoSelectedEuclidLSSTAllEDS}{0.18}$</div>\n",
       "\n",
       "\n",
       "\n",
       "<div id=\"title\">\n",
       "\n",
       "# $\\Euclid$ preparation\n",
       "\n",
       "</div>\n",
       "<div id=\"comments\">\n",
       "\n",
       "[![arXiv](https://img.shields.io/badge/arXiv-2405.18126-b31b1b.svg)](https://arxiv.org/abs/2405.18126)<mark>Appeared on: 2024-05-29</mark> -  _36 pages, 21 figures, submitted to A&A_\n",
       "\n",
       "</div>\n",
       "<div id=\"authors\">\n",
       "\n",
       "E. Collaboration, et al. -- incl., <mark>E. Bañados</mark>, <mark>K. Jahnke</mark>\n",
       "\n",
       "</div>\n",
       "<div id=\"abstract\">\n",
       "\n",
       "**Abstract:** We forecast the expected population of active galactic nuclei (AGN) observable in the Euclid Wide Survey (EWS) and Euclid Deep Survey (EDS). Starting from an X-ray luminosity function (XLF) we generate volume-limited samples of the AGN expected in the $\\Euclid$ survey footprints. Each AGN is assigned an SED appropriate for its X-ray luminosity and redshift, with perturbations sampled from empirical distributions. The photometric detectability of each AGN is assessed via mock observation of the assigned SED.We estimate 40 million AGN will be detectable in at least one $\\Euclid$ band in the EWS and 0.24 million in the EDS, corresponding to surface densities of $\\SDDetectableOneFiltEWS$ deg $^{-2}$ and $\\SDDetectableOneFiltEDS$ deg $^{-2}$ .Employing $\\Euclid$ -only colour selection criteria on our simulated data we select a sample of $\\NUMSelectedEuclidOnlyTypeOneEWS$ ( $\\SDSelectedEuclidOnlyTypeOneEWS$ deg $^{-2}$ ) AGN in the EWS and $\\NUMSelectedEuclidOnlyTypeOneEDS$ ( $\\SDSelectedEuclidOnlyTypeOneEDS$ deg $^{-2}$ ) in the EDS, amounting to 10 \\% and 8 \\% of the AGN detectable in the EWS and EDS.Including ancillary Rubin/LSST bands improves the completeness and purity of AGN selection. These data roughly double the total number of selected AGN to comprise 21 \\% and 15 \\% of the $\\Euclid$ detectable AGN in the EWS and EDS.The total expected sample of colour-selected AGN contains 6.0 $\\times$ 10 $^{6}$ (74 \\% ) unobscured AGN and 2.1 $\\times$ 10 $^{6}$ (26 \\% ) obscured AGN, covering $0.02 \\leq z \\lesssim 5.2$ and $43 \\leq \\log_{10} (L_{\\rm bol} / {\\rm erg}  {\\rm s}^{-1}) \\leq 47$ .With this simple colour selection, expected surface densities are already comparable to the yield of modern X-ray and mid-infrared surveys of similar area.The relative uncertainty on our expectation for $\\Euclid$ detectable AGN is 6.7 \\% for the EWS and 12.5 \\% for the EDS, driven by the uncertainty of the XLF.\n",
       "\n",
       "</div>\n",
       "\n",
       "<div id=\"div_fig1\">\n",
       "\n",
       "<img src=\"tmp_2405.18126/./figures/selectionsinfo.png\" alt=\"Fig9\" width=\"100%\"/>\n",
       "\n",
       "**Figure 9. -** Redshift distributions (top), redshift-dependent completeness (middle), and $L_{\\rm bol}$-$z$ planes (bottom) for the selected AGN in the EWS (left) and EDS (right). AGN selected with \\Euclid-only photometric criteria (blue) and the total selected sample defined as the union ($\\cup$) of all \\Euclid and ancillary $ugrz$ photometric criteria discussed in Sect. \\ref{sec:euclidselection} are plotted for each panel. In all plots redshift is binned with width $\\delta z = 0.5$. In the $L_{\\rm bol}$-$z$ plane points represent the median, vertical lines represent $1\\sigma$ standard deviation and horizontal lines represent the width of the redshift bin. (*fig:selectioninfo*)\n",
       "\n",
       "</div>\n",
       "<div id=\"div_fig2\">\n",
       "\n",
       "<img src=\"tmp_2405.18126/./figures/lf_consistency_refereeupdate.png\" alt=\"Fig15\" width=\"100%\"/>\n",
       "\n",
       "**Figure 15. -** Comparison of different AGN LFs homogenised to the 2--10 keV X-ray band. Corresponding absolute UV magnitudes at 1450 Å , $M_{1450}$, are displayed on the upper axes. In each panel the LFs are realised for the central redshift value. The hard X-ray LF of \\citet{fotopoulou2016xlf} employed in this work is shown in black. The grey shaded regions depict the 1$\\sigma$ uncertainty. For reference, we plot the \\citet{fotopoulou2016xlf} XLF evaluated at $z=0.1$ as orange dotted lines in each panel. The hard XLF of \\citet{ueda2014} is shown in green, with the green shaded regions corresponding to the 1$\\sigma$ uncertainty generated with sampling from the published parameter uncertainties. The magenta lines portray the bolometric quasar LF of \\citet{shen2020}, converted to the X-ray domain. In the final panel the \\citet{jiang2016}$z>6$ SDSS quasar LF is represented by the blue curve. The solid orange curve gives the \\citet{schindler2023}$z\\sim6$ quasar LF derived from Pan-STARRS1 and SHELLQs observations. The red uncertainty interval represents eROSITA high-redshift constraints on the XLF \\citep{wolf2021}. In all cases dashed curves and hatched uncertainty intervals indicate extrapolation. (*fig:lf_comparison*)\n",
       "\n",
       "</div>\n",
       "<div id=\"div_fig3\">\n",
       "\n",
       "<img src=\"tmp_2405.18126/./figures/filter_sed_zevo.png\" alt=\"Fig6\" width=\"100%\"/>\n",
       "\n",
       "**Figure 6. -** All SEDs (unobscured and obscured) assigned to AGN in this work, normalised at 1 \\micron. The redshift evolution of the effective wavelength for each \\Euclid filter over the redshift range probed in this work are depicted below as black lines. The seven SED classes in this figure are: Unobscured AGN (`Unobsc.'; blue), Passive (`PASS'; pink), Star-forming (`SFG'; brown), Starburst (`SB'; purple), High-luminosity obscured AGN (`QSO2'; orange), Seyfert 2 (`SEY2'; green), and Starburst-AGN composite (`SB-AGN'; red). (*fig:filter_sed_zevo*)\n",
       "\n",
       "</div><div id=\"qrcode\"><img src=https://api.qrserver.com/v1/create-qr-code/?size=100x100&data=\"https://arxiv.org/abs/2405.18126\"></div>"
      ],
      "text/plain": [
       "<IPython.core.display.Markdown object>"
      ]
     },
     "metadata": {},
     "output_type": "display_data"
    }
   ],
   "source": [
    "[display(Markdown(k[1])) for k in documents];"
   ]
  },
  {
   "cell_type": "markdown",
   "id": "873873a4",
   "metadata": {
    "papermill": {
     "duration": 0.00485,
     "end_time": "2024-05-29T04:12:03.336398",
     "exception": false,
     "start_time": "2024-05-29T04:12:03.331548",
     "status": "completed"
    },
    "tags": []
   },
   "source": [
    "# Create HTML index"
   ]
  },
  {
   "cell_type": "code",
   "execution_count": 10,
   "id": "cf665672",
   "metadata": {
    "execution": {
     "iopub.execute_input": "2024-05-29T04:12:03.346993Z",
     "iopub.status.busy": "2024-05-29T04:12:03.346622Z",
     "iopub.status.idle": "2024-05-29T04:12:03.353175Z",
     "shell.execute_reply": "2024-05-29T04:12:03.352554Z"
    },
    "papermill": {
     "duration": 0.013318,
     "end_time": "2024-05-29T04:12:03.354513",
     "exception": false,
     "start_time": "2024-05-29T04:12:03.341195",
     "status": "completed"
    },
    "tags": []
   },
   "outputs": [
    {
     "name": "stdout",
     "output_type": "stream",
     "text": [
      "81  publications files modified in the last 7 days.\n"
     ]
    }
   ],
   "source": [
    "from datetime import datetime, timedelta, timezone\n",
    "from glob import glob\n",
    "import os\n",
    "\n",
    "files = glob('_build/html/*.md')\n",
    "days = 7\n",
    "now = datetime.today()\n",
    "res = []\n",
    "for fk in files:\n",
    "    stat_result = os.stat(fk).st_ctime\n",
    "    modified = datetime.fromtimestamp(stat_result, tz=timezone.utc).replace(tzinfo=None)\n",
    "    delta = now.today() - modified\n",
    "    if delta <= timedelta(days=days):\n",
    "        res.append((delta.seconds, fk))\n",
    "res = [k[1] for k in reversed(sorted(res, key=lambda x:x[1]))]\n",
    "npub = len(res)\n",
    "print(len(res), f\" publications files modified in the last {days:d} days.\")\n",
    "# [ print('\\t', k) for k in res ];"
   ]
  },
  {
   "cell_type": "code",
   "execution_count": 11,
   "id": "015de740",
   "metadata": {
    "execution": {
     "iopub.execute_input": "2024-05-29T04:12:03.365416Z",
     "iopub.status.busy": "2024-05-29T04:12:03.365019Z",
     "iopub.status.idle": "2024-05-29T04:12:03.375660Z",
     "shell.execute_reply": "2024-05-29T04:12:03.375143Z"
    },
    "papermill": {
     "duration": 0.017576,
     "end_time": "2024-05-29T04:12:03.377033",
     "exception": false,
     "start_time": "2024-05-29T04:12:03.359457",
     "status": "completed"
    },
    "tags": []
   },
   "outputs": [
    {
     "name": "stdout",
     "output_type": "stream",
     "text": [
      "5  publications in the last 7 days.\n"
     ]
    }
   ],
   "source": [
    "import datetime\n",
    "from glob import glob\n",
    "\n",
    "def get_last_n_days(lst, days=1):\n",
    "    \"\"\" Get the documents from the last n days \"\"\"\n",
    "    sorted_lst = sorted(lst, key=lambda x: x[1], reverse=True)\n",
    "    for fname, date in sorted_lst:\n",
    "        if date >= str(datetime.date.today() - datetime.timedelta(days=days)):\n",
    "            yield fname\n",
    "\n",
    "def extract_appearance_dates(lst_file):\n",
    "    dates = []\n",
    "\n",
    "    def get_date(line):\n",
    "        return line\\\n",
    "            .split('Appeared on:')[-1]\\\n",
    "            .split('</mark>')[0].strip()\n",
    "\n",
    "    for fname in lst:\n",
    "        with open(fname, 'r') as f:\n",
    "            found_date = False\n",
    "            for line in f:\n",
    "                if not found_date:\n",
    "                    if \"Appeared on\" in line:\n",
    "                        found_date = True\n",
    "                        dates.append((fname, get_date(line)))\n",
    "                else:\n",
    "                    break\n",
    "    return dates\n",
    "\n",
    "from glob import glob\n",
    "lst = glob('_build/html/*md')\n",
    "days = 7\n",
    "dates = extract_appearance_dates(lst)\n",
    "res = list(get_last_n_days(dates, days))\n",
    "npub = len(res)\n",
    "print(len(res), f\" publications in the last {days:d} days.\")"
   ]
  },
  {
   "cell_type": "code",
   "execution_count": 12,
   "id": "52ca0208",
   "metadata": {
    "execution": {
     "iopub.execute_input": "2024-05-29T04:12:03.388051Z",
     "iopub.status.busy": "2024-05-29T04:12:03.387610Z",
     "iopub.status.idle": "2024-05-29T04:12:03.392467Z",
     "shell.execute_reply": "2024-05-29T04:12:03.391920Z"
    },
    "papermill": {
     "duration": 0.01183,
     "end_time": "2024-05-29T04:12:03.393837",
     "exception": false,
     "start_time": "2024-05-29T04:12:03.382007",
     "status": "completed"
    },
    "scrolled": false,
    "tags": []
   },
   "outputs": [],
   "source": [
    "def create_carousel(npub=4):\n",
    "    \"\"\" Generate the HTML code for a carousel with `npub` slides \"\"\"\n",
    "    carousel = [\"\"\"  <div class=\"carousel\" \"\"\",\n",
    "                \"\"\"       data-flickity='{ \"autoPlay\": 10000, \"adaptiveHeight\": true, \"resize\": true, \"wrapAround\": true, \"pauseAutoPlayOnHover\": true, \"groupCells\": 1 }' id=\"asyncTypeset\">\"\"\"\n",
    "                ]\n",
    "    \n",
    "    item_str = \"\"\"    <div class=\"carousel-cell\"> <div id=\"slide{k}\" class=\"md_view\">Content {k}</div> </div>\"\"\"\n",
    "    for k in range(1, npub + 1):\n",
    "        carousel.append(item_str.format(k=k))\n",
    "    carousel.append(\"  </div>\")\n",
    "    return '\\n'.join(carousel)\n",
    "\n",
    "def create_grid(npub=4):\n",
    "    \"\"\" Generate the HTML code for a flat grid with `npub` slides \"\"\"\n",
    "    grid = [\"\"\"  <div class=\"grid\"> \"\"\",\n",
    "                ]\n",
    "    \n",
    "    item_str = \"\"\"    <div class=\"grid-item\"> <div id=\"slide{k}\" class=\"md_view\">Content {k}</div> </div>\"\"\"\n",
    "    for k in range(1, npub + 1):\n",
    "        grid.append(item_str.format(k=k))\n",
    "    grid.append(\"  </div>\")\n",
    "    return '\\n'.join(grid)"
   ]
  },
  {
   "cell_type": "code",
   "execution_count": 13,
   "id": "a6eac5b6",
   "metadata": {
    "execution": {
     "iopub.execute_input": "2024-05-29T04:12:03.404811Z",
     "iopub.status.busy": "2024-05-29T04:12:03.404598Z",
     "iopub.status.idle": "2024-05-29T04:12:03.409664Z",
     "shell.execute_reply": "2024-05-29T04:12:03.409146Z"
    },
    "papermill": {
     "duration": 0.012024,
     "end_time": "2024-05-29T04:12:03.410947",
     "exception": false,
     "start_time": "2024-05-29T04:12:03.398923",
     "status": "completed"
    },
    "scrolled": false,
    "tags": []
   },
   "outputs": [],
   "source": [
    "carousel = create_carousel(npub)\n",
    "docs = ', '.join(['\"{0:s}\"'.format(k.split('/')[-1]) for k in res])\n",
    "slides = ', '.join([f'\"slide{k}\"' for k in range(1, npub + 1)])\n",
    "\n",
    "with open(\"daily_template.html\", \"r\") as tpl:\n",
    "    page = tpl.read()\n",
    "    page = page.replace(\"{%-- carousel:s --%}\", carousel)\\\n",
    "               .replace(\"{%-- suptitle:s --%}\",  \"7-day archives\" )\\\n",
    "               .replace(\"{%-- docs:s --%}\", docs)\\\n",
    "               .replace(\"{%-- slides:s --%}\", slides)\n",
    "    \n",
    "with open(\"_build/html/index_7days.html\", 'w') as fout:\n",
    "    fout.write(page)"
   ]
  },
  {
   "cell_type": "code",
   "execution_count": 14,
   "id": "adc1a1ec",
   "metadata": {
    "execution": {
     "iopub.execute_input": "2024-05-29T04:12:03.422475Z",
     "iopub.status.busy": "2024-05-29T04:12:03.422091Z",
     "iopub.status.idle": "2024-05-29T04:12:03.428253Z",
     "shell.execute_reply": "2024-05-29T04:12:03.427693Z"
    },
    "papermill": {
     "duration": 0.013373,
     "end_time": "2024-05-29T04:12:03.429602",
     "exception": false,
     "start_time": "2024-05-29T04:12:03.416229",
     "status": "completed"
    },
    "tags": []
   },
   "outputs": [
    {
     "name": "stdout",
     "output_type": "stream",
     "text": [
      "3  publications in the last day.\n"
     ]
    }
   ],
   "source": [
    "# redo for today\n",
    "days = 1\n",
    "res = list(get_last_n_days(dates, days))\n",
    "npub = len(res)\n",
    "print(len(res), f\" publications in the last day.\")\n",
    "\n",
    "carousel = create_carousel(npub)\n",
    "docs = ', '.join(['\"{0:s}\"'.format(k.split('/')[-1]) for k in res])\n",
    "slides = ', '.join([f'\"slide{k}\"' for k in range(1, npub + 1)])\n",
    "\n",
    "with open(\"daily_template.html\", \"r\") as tpl:\n",
    "    page = tpl.read()\n",
    "    page = page.replace(\"{%-- carousel:s --%}\", carousel)\\\n",
    "               .replace(\"{%-- suptitle:s --%}\",  \"Daily\" )\\\n",
    "               .replace(\"{%-- docs:s --%}\", docs)\\\n",
    "               .replace(\"{%-- slides:s --%}\", slides)\n",
    "    \n",
    "# print(carousel, docs, slides)\n",
    "# print(page)\n",
    "with open(\"_build/html/index_daily.html\", 'w') as fout:\n",
    "    fout.write(page)"
   ]
  },
  {
   "cell_type": "code",
   "execution_count": 15,
   "id": "00eece82",
   "metadata": {
    "execution": {
     "iopub.execute_input": "2024-05-29T04:12:03.441109Z",
     "iopub.status.busy": "2024-05-29T04:12:03.440722Z",
     "iopub.status.idle": "2024-05-29T04:12:03.447055Z",
     "shell.execute_reply": "2024-05-29T04:12:03.446511Z"
    },
    "papermill": {
     "duration": 0.013408,
     "end_time": "2024-05-29T04:12:03.448330",
     "exception": false,
     "start_time": "2024-05-29T04:12:03.434922",
     "status": "completed"
    },
    "scrolled": false,
    "tags": []
   },
   "outputs": [
    {
     "name": "stdout",
     "output_type": "stream",
     "text": [
      "6  6 publications selected.\n"
     ]
    }
   ],
   "source": [
    "# Create the flat grid of the last N papers (fixed number regardless of dates)\n",
    "from itertools import islice \n",
    "\n",
    "npub = 6\n",
    "res = [k[0] for k in (islice(reversed(sorted(dates, key=lambda x: x[1])), 6))]\n",
    "print(len(res), f\" {npub} publications selected.\")\n",
    "\n",
    "grid = create_grid(npub)\n",
    "docs = ', '.join(['\"{0:s}\"'.format(k.split('/')[-1]) for k in res])\n",
    "slides = ', '.join([f'\"slide{k}\"' for k in range(1, npub + 1)])\n",
    "\n",
    "with open(\"grid_template.html\", \"r\") as tpl:\n",
    "    page = tpl.read()\n",
    "    page = page.replace(\"{%-- grid-content:s --%}\", grid)\\\n",
    "               .replace(\"{%-- suptitle:s --%}\",  f\"Last {npub:,d} papers\" )\\\n",
    "               .replace(\"{%-- docs:s --%}\", docs)\\\n",
    "               .replace(\"{%-- slides:s --%}\", slides)\n",
    "    \n",
    "# print(grid, docs, slides)\n",
    "# print(page)\n",
    "with open(\"_build/html/index_npub_grid.html\", 'w') as fout:\n",
    "    fout.write(page)"
   ]
  }
 ],
 "metadata": {
  "kernelspec": {
   "display_name": "Python 3 (ipykernel)",
   "language": "python",
   "name": "python3"
  },
  "language_info": {
   "codemirror_mode": {
    "name": "ipython",
    "version": 3
   },
   "file_extension": ".py",
   "mimetype": "text/x-python",
   "name": "python",
   "nbconvert_exporter": "python",
   "pygments_lexer": "ipython3",
   "version": "3.9.19"
  },
  "papermill": {
   "default_parameters": {},
   "duration": 83.59331,
   "end_time": "2024-05-29T04:12:03.769859",
   "environment_variables": {},
   "exception": null,
   "input_path": "MPIA daily digest.ipynb",
   "output_path": "log.ipynb",
   "parameters": {},
   "start_time": "2024-05-29T04:10:40.176549",
   "version": "2.6.0"
  },
  "vscode": {
   "interpreter": {
    "hash": "aee8b7b246df8f9039afb4144a1f6fd8d2ca17a180786b69acc140d282b71a49"
   }
  },
  "widgets": {
   "application/vnd.jupyter.widget-state+json": {
    "state": {
     "04d4c5ba2615438bbd9226f46c8a92a5": {
      "model_module": "@jupyter-widgets/base",
      "model_module_version": "2.0.0",
      "model_name": "LayoutModel",
      "state": {
       "_model_module": "@jupyter-widgets/base",
       "_model_module_version": "2.0.0",
       "_model_name": "LayoutModel",
       "_view_count": null,
       "_view_module": "@jupyter-widgets/base",
       "_view_module_version": "2.0.0",
       "_view_name": "LayoutView",
       "align_content": null,
       "align_items": null,
       "align_self": null,
       "border_bottom": null,
       "border_left": null,
       "border_right": null,
       "border_top": null,
       "bottom": null,
       "display": null,
       "flex": null,
       "flex_flow": null,
       "grid_area": null,
       "grid_auto_columns": null,
       "grid_auto_flow": null,
       "grid_auto_rows": null,
       "grid_column": null,
       "grid_gap": null,
       "grid_row": null,
       "grid_template_areas": null,
       "grid_template_columns": null,
       "grid_template_rows": null,
       "height": null,
       "justify_content": null,
       "justify_items": null,
       "left": null,
       "margin": null,
       "max_height": null,
       "max_width": null,
       "min_height": null,
       "min_width": null,
       "object_fit": null,
       "object_position": null,
       "order": null,
       "overflow": null,
       "padding": null,
       "right": null,
       "top": null,
       "visibility": null,
       "width": null
      }
     },
     "324063c0e4614024a1d7000539724e7f": {
      "model_module": "@jupyter-widgets/controls",
      "model_module_version": "2.0.0",
      "model_name": "HTMLModel",
      "state": {
       "_dom_classes": [],
       "_model_module": "@jupyter-widgets/controls",
       "_model_module_version": "2.0.0",
       "_model_name": "HTMLModel",
       "_view_count": null,
       "_view_module": "@jupyter-widgets/controls",
       "_view_module_version": "2.0.0",
       "_view_name": "HTMLView",
       "description": "",
       "description_allow_html": false,
       "layout": "IPY_MODEL_04d4c5ba2615438bbd9226f46c8a92a5",
       "placeholder": "​",
       "style": "IPY_MODEL_c065b218d8f9414fb132514f3abaaadd",
       "tabbable": null,
       "tooltip": null,
       "value": "100%"
      }
     },
     "35e0a85e061f4f7894eee2ff7803ed29": {
      "model_module": "@jupyter-widgets/controls",
      "model_module_version": "2.0.0",
      "model_name": "ProgressStyleModel",
      "state": {
       "_model_module": "@jupyter-widgets/controls",
       "_model_module_version": "2.0.0",
       "_model_name": "ProgressStyleModel",
       "_view_count": null,
       "_view_module": "@jupyter-widgets/base",
       "_view_module_version": "2.0.0",
       "_view_name": "StyleView",
       "bar_color": null,
       "description_width": ""
      }
     },
     "3c7450e4a72a4ff8b5dc690de87687fd": {
      "model_module": "@jupyter-widgets/controls",
      "model_module_version": "2.0.0",
      "model_name": "HBoxModel",
      "state": {
       "_dom_classes": [],
       "_model_module": "@jupyter-widgets/controls",
       "_model_module_version": "2.0.0",
       "_model_name": "HBoxModel",
       "_view_count": null,
       "_view_module": "@jupyter-widgets/controls",
       "_view_module_version": "2.0.0",
       "_view_name": "HBoxView",
       "box_style": "",
       "children": [
        "IPY_MODEL_324063c0e4614024a1d7000539724e7f",
        "IPY_MODEL_6200cc84bf08480a93d1a5ca589d2409",
        "IPY_MODEL_499aad6c16bd46ba8a8cc87a203c6663"
       ],
       "layout": "IPY_MODEL_56f97a26eb424dd2946776451edd3ad2",
       "tabbable": null,
       "tooltip": null
      }
     },
     "499aad6c16bd46ba8a8cc87a203c6663": {
      "model_module": "@jupyter-widgets/controls",
      "model_module_version": "2.0.0",
      "model_name": "HTMLModel",
      "state": {
       "_dom_classes": [],
       "_model_module": "@jupyter-widgets/controls",
       "_model_module_version": "2.0.0",
       "_model_name": "HTMLModel",
       "_view_count": null,
       "_view_module": "@jupyter-widgets/controls",
       "_view_module_version": "2.0.0",
       "_view_name": "HTMLView",
       "description": "",
       "description_allow_html": false,
       "layout": "IPY_MODEL_e53179ec0e4c494eb6243173da03cc44",
       "placeholder": "​",
       "style": "IPY_MODEL_d5bb175ad5284d2491e3513f061dbe99",
       "tabbable": null,
       "tooltip": null,
       "value": " 4/4 [01:01&lt;00:00, 14.94s/it]"
      }
     },
     "56f97a26eb424dd2946776451edd3ad2": {
      "model_module": "@jupyter-widgets/base",
      "model_module_version": "2.0.0",
      "model_name": "LayoutModel",
      "state": {
       "_model_module": "@jupyter-widgets/base",
       "_model_module_version": "2.0.0",
       "_model_name": "LayoutModel",
       "_view_count": null,
       "_view_module": "@jupyter-widgets/base",
       "_view_module_version": "2.0.0",
       "_view_name": "LayoutView",
       "align_content": null,
       "align_items": null,
       "align_self": null,
       "border_bottom": null,
       "border_left": null,
       "border_right": null,
       "border_top": null,
       "bottom": null,
       "display": null,
       "flex": null,
       "flex_flow": null,
       "grid_area": null,
       "grid_auto_columns": null,
       "grid_auto_flow": null,
       "grid_auto_rows": null,
       "grid_column": null,
       "grid_gap": null,
       "grid_row": null,
       "grid_template_areas": null,
       "grid_template_columns": null,
       "grid_template_rows": null,
       "height": null,
       "justify_content": null,
       "justify_items": null,
       "left": null,
       "margin": null,
       "max_height": null,
       "max_width": null,
       "min_height": null,
       "min_width": null,
       "object_fit": null,
       "object_position": null,
       "order": null,
       "overflow": null,
       "padding": null,
       "right": null,
       "top": null,
       "visibility": null,
       "width": null
      }
     },
     "6200cc84bf08480a93d1a5ca589d2409": {
      "model_module": "@jupyter-widgets/controls",
      "model_module_version": "2.0.0",
      "model_name": "FloatProgressModel",
      "state": {
       "_dom_classes": [],
       "_model_module": "@jupyter-widgets/controls",
       "_model_module_version": "2.0.0",
       "_model_name": "FloatProgressModel",
       "_view_count": null,
       "_view_module": "@jupyter-widgets/controls",
       "_view_module_version": "2.0.0",
       "_view_name": "ProgressView",
       "bar_style": "success",
       "description": "",
       "description_allow_html": false,
       "layout": "IPY_MODEL_f7e855a9c4bb49a68b8a4c7151b81977",
       "max": 4.0,
       "min": 0.0,
       "orientation": "horizontal",
       "style": "IPY_MODEL_35e0a85e061f4f7894eee2ff7803ed29",
       "tabbable": null,
       "tooltip": null,
       "value": 4.0
      }
     },
     "c065b218d8f9414fb132514f3abaaadd": {
      "model_module": "@jupyter-widgets/controls",
      "model_module_version": "2.0.0",
      "model_name": "HTMLStyleModel",
      "state": {
       "_model_module": "@jupyter-widgets/controls",
       "_model_module_version": "2.0.0",
       "_model_name": "HTMLStyleModel",
       "_view_count": null,
       "_view_module": "@jupyter-widgets/base",
       "_view_module_version": "2.0.0",
       "_view_name": "StyleView",
       "background": null,
       "description_width": "",
       "font_size": null,
       "text_color": null
      }
     },
     "d5bb175ad5284d2491e3513f061dbe99": {
      "model_module": "@jupyter-widgets/controls",
      "model_module_version": "2.0.0",
      "model_name": "HTMLStyleModel",
      "state": {
       "_model_module": "@jupyter-widgets/controls",
       "_model_module_version": "2.0.0",
       "_model_name": "HTMLStyleModel",
       "_view_count": null,
       "_view_module": "@jupyter-widgets/base",
       "_view_module_version": "2.0.0",
       "_view_name": "StyleView",
       "background": null,
       "description_width": "",
       "font_size": null,
       "text_color": null
      }
     },
     "e53179ec0e4c494eb6243173da03cc44": {
      "model_module": "@jupyter-widgets/base",
      "model_module_version": "2.0.0",
      "model_name": "LayoutModel",
      "state": {
       "_model_module": "@jupyter-widgets/base",
       "_model_module_version": "2.0.0",
       "_model_name": "LayoutModel",
       "_view_count": null,
       "_view_module": "@jupyter-widgets/base",
       "_view_module_version": "2.0.0",
       "_view_name": "LayoutView",
       "align_content": null,
       "align_items": null,
       "align_self": null,
       "border_bottom": null,
       "border_left": null,
       "border_right": null,
       "border_top": null,
       "bottom": null,
       "display": null,
       "flex": null,
       "flex_flow": null,
       "grid_area": null,
       "grid_auto_columns": null,
       "grid_auto_flow": null,
       "grid_auto_rows": null,
       "grid_column": null,
       "grid_gap": null,
       "grid_row": null,
       "grid_template_areas": null,
       "grid_template_columns": null,
       "grid_template_rows": null,
       "height": null,
       "justify_content": null,
       "justify_items": null,
       "left": null,
       "margin": null,
       "max_height": null,
       "max_width": null,
       "min_height": null,
       "min_width": null,
       "object_fit": null,
       "object_position": null,
       "order": null,
       "overflow": null,
       "padding": null,
       "right": null,
       "top": null,
       "visibility": null,
       "width": null
      }
     },
     "f7e855a9c4bb49a68b8a4c7151b81977": {
      "model_module": "@jupyter-widgets/base",
      "model_module_version": "2.0.0",
      "model_name": "LayoutModel",
      "state": {
       "_model_module": "@jupyter-widgets/base",
       "_model_module_version": "2.0.0",
       "_model_name": "LayoutModel",
       "_view_count": null,
       "_view_module": "@jupyter-widgets/base",
       "_view_module_version": "2.0.0",
       "_view_name": "LayoutView",
       "align_content": null,
       "align_items": null,
       "align_self": null,
       "border_bottom": null,
       "border_left": null,
       "border_right": null,
       "border_top": null,
       "bottom": null,
       "display": null,
       "flex": null,
       "flex_flow": null,
       "grid_area": null,
       "grid_auto_columns": null,
       "grid_auto_flow": null,
       "grid_auto_rows": null,
       "grid_column": null,
       "grid_gap": null,
       "grid_row": null,
       "grid_template_areas": null,
       "grid_template_columns": null,
       "grid_template_rows": null,
       "height": null,
       "justify_content": null,
       "justify_items": null,
       "left": null,
       "margin": null,
       "max_height": null,
       "max_width": null,
       "min_height": null,
       "min_width": null,
       "object_fit": null,
       "object_position": null,
       "order": null,
       "overflow": null,
       "padding": null,
       "right": null,
       "top": null,
       "visibility": null,
       "width": null
      }
     }
    },
    "version_major": 2,
    "version_minor": 0
   }
  }
 },
 "nbformat": 4,
 "nbformat_minor": 5
}