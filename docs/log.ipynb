{
 "cells": [
  {
   "cell_type": "markdown",
   "id": "92bcb855",
   "metadata": {
    "papermill": {
     "duration": 0.003854,
     "end_time": "2024-09-25T04:11:04.247613",
     "exception": false,
     "start_time": "2024-09-25T04:11:04.243759",
     "status": "completed"
    },
    "tags": []
   },
   "source": [
    "# MPIA Arxiv on Deck 2\n",
    "\n",
    "Contains the steps to produce the paper extractions."
   ]
  },
  {
   "cell_type": "code",
   "execution_count": 1,
   "id": "3a0d6e11",
   "metadata": {
    "execution": {
     "iopub.execute_input": "2024-09-25T04:11:04.255391Z",
     "iopub.status.busy": "2024-09-25T04:11:04.254906Z",
     "iopub.status.idle": "2024-09-25T04:11:04.689009Z",
     "shell.execute_reply": "2024-09-25T04:11:04.688374Z"
    },
    "papermill": {
     "duration": 0.439365,
     "end_time": "2024-09-25T04:11:04.690327",
     "exception": false,
     "start_time": "2024-09-25T04:11:04.250962",
     "status": "completed"
    },
    "tags": []
   },
   "outputs": [],
   "source": [
    "# Imports\n",
    "import os\n",
    "from IPython.display import Markdown, display\n",
    "from tqdm.notebook import tqdm\n",
    "import warnings\n",
    "from PIL import Image \n",
    "import re\n",
    "\n",
    "# requires arxiv_on_deck_2\n",
    "\n",
    "from arxiv_on_deck_2.arxiv2 import (get_new_papers, \n",
    "                                    get_paper_from_identifier,\n",
    "                                    retrieve_document_source, \n",
    "                                    get_markdown_badge)\n",
    "from arxiv_on_deck_2 import (latex,\n",
    "                             latex_bib,\n",
    "                             mpia,\n",
    "                             highlight_authors_in_list)\n",
    "\n",
    "# Sometimes images are really big\n",
    "Image.MAX_IMAGE_PIXELS = 1000000000 "
   ]
  },
  {
   "cell_type": "code",
   "execution_count": 2,
   "id": "22aa9d44",
   "metadata": {
    "execution": {
     "iopub.execute_input": "2024-09-25T04:11:04.697817Z",
     "iopub.status.busy": "2024-09-25T04:11:04.697364Z",
     "iopub.status.idle": "2024-09-25T04:11:04.705404Z",
     "shell.execute_reply": "2024-09-25T04:11:04.704767Z"
    },
    "papermill": {
     "duration": 0.012882,
     "end_time": "2024-09-25T04:11:04.706472",
     "exception": false,
     "start_time": "2024-09-25T04:11:04.693590",
     "status": "completed"
    },
    "tags": []
   },
   "outputs": [],
   "source": [
    "# Some useful definitions.\n",
    "\n",
    "class AffiliationWarning(UserWarning):\n",
    "    pass\n",
    "\n",
    "class AffiliationError(RuntimeError):\n",
    "    pass\n",
    "\n",
    "def validation(source: str):\n",
    "    \"\"\"Raises error paper during parsing of source file\n",
    "    \n",
    "    Allows checks before parsing TeX code.\n",
    "    \n",
    "    Raises AffiliationWarning\n",
    "    \"\"\"\n",
    "    check = mpia.affiliation_verifications(source, verbose=True)\n",
    "    if check is not True:\n",
    "        raise AffiliationError(\"mpia.affiliation_verifications: \" + check)\n",
    "\n",
    "        \n",
    "warnings.simplefilter('always', AffiliationWarning)\n",
    "\n",
    "\n",
    "def get_markdown_qrcode(paper_id: str):\n",
    "    \"\"\" Generate a qrcode to the arxiv page using qrserver.com\n",
    "    \n",
    "    :param paper: Arxiv paper\n",
    "    :returns: markdown text\n",
    "    \"\"\"\n",
    "    url = r\"https://api.qrserver.com/v1/create-qr-code/?size=100x100&data=\"\n",
    "    txt = f\"\"\"<img src={url}\"https://arxiv.org/abs/{paper_id}\">\"\"\"\n",
    "    txt = '<div id=\"qrcode\">' + txt + '</div>'\n",
    "    return txt\n",
    "\n",
    "\n",
    "def clean_non_western_encoded_characters_commands(text: str) -> str:\n",
    "    \"\"\" Remove non-western encoded characters from a string\n",
    "    List may need to grow.\n",
    "    \n",
    "    :param text: the text to clean\n",
    "    :return: the cleaned text\n",
    "    \"\"\"\n",
    "    text = re.sub(r\"(\\\\begin{CJK}{UTF8}{gbsn})(.*?)(\\\\end{CJK})\", r\"\\2\", text)\n",
    "    return text\n",
    "\n",
    "\n",
    "def get_initials(name: str) -> str:\n",
    "    \"\"\" Get the short name, e.g., A.-B. FamName\n",
    "    :param name: full name\n",
    "    :returns: initials\n",
    "    \"\"\"\n",
    "    initials = []\n",
    "    # account for non western names often in ()\n",
    "    if '(' in name:\n",
    "        name = clean_non_western_encoded_characters_commands(name)\n",
    "        suffix = re.findall(r\"\\((.*?)\\)\", name)[0]\n",
    "        name = name.replace(f\"({suffix})\", '')\n",
    "    else:\n",
    "        suffix = ''\n",
    "    split = name.split()\n",
    "    for token in split[:-1]:\n",
    "        if '-' in token:\n",
    "            current = '-'.join([k[0] + '.' for k in token.split('-')])\n",
    "        else:\n",
    "            current = token[0] + '.'\n",
    "        initials.append(current)\n",
    "    initials.append(split[-1].strip())\n",
    "    if suffix:\n",
    "        initials.append(f\"({suffix})\")\n",
    "    return ' '.join(initials)"
   ]
  },
  {
   "cell_type": "markdown",
   "id": "14bd6310",
   "metadata": {
    "papermill": {
     "duration": 0.002988,
     "end_time": "2024-09-25T04:11:04.712576",
     "exception": false,
     "start_time": "2024-09-25T04:11:04.709588",
     "status": "completed"
    },
    "tags": []
   },
   "source": [
    "## get list of arxiv paper candidates\n",
    "\n",
    "We use the MPIA mitarbeiter list webpage from mpia.de to get author names\n",
    "We then get all new papers from Arxiv and match authors"
   ]
  },
  {
   "cell_type": "code",
   "execution_count": 3,
   "id": "7ea813a8",
   "metadata": {
    "execution": {
     "iopub.execute_input": "2024-09-25T04:11:04.719320Z",
     "iopub.status.busy": "2024-09-25T04:11:04.719086Z",
     "iopub.status.idle": "2024-09-25T04:11:25.947139Z",
     "shell.execute_reply": "2024-09-25T04:11:25.946498Z"
    },
    "papermill": {
     "duration": 21.232894,
     "end_time": "2024-09-25T04:11:25.948428",
     "exception": false,
     "start_time": "2024-09-25T04:11:04.715534",
     "status": "completed"
    },
    "tags": []
   },
   "outputs": [],
   "source": [
    "# deal with the author list and edge cases of people that cannot be consistent on their name  \n",
    "\n",
    "def filter_non_scientists(name: str) -> bool:\n",
    "    \"\"\" Loose filter on expected authorships\n",
    "\n",
    "    removing IT, administration, technical staff\n",
    "    :param name: name\n",
    "    :returns: False if name is not a scientist\n",
    "    \"\"\"\n",
    "    remove_list = ['Licht', 'Binroth', 'Witzel', 'Jordan',\n",
    "                   'Zähringer', 'Scheerer', 'Hoffmann', 'Düe',\n",
    "                   'Hellmich', 'Enkler-Scharpegge', 'Witte-Nguy',\n",
    "                   'Dehen', 'Beckmann', 'Jager', 'Jäger'\n",
    "                  ]\n",
    "\n",
    "    for k in remove_list:\n",
    "        if k in name:\n",
    "            return False\n",
    "    return True\n",
    "\n",
    "def add_author_to_list(author_list: list) -> list:\n",
    "    \"\"\" Add author to list if not already in list\n",
    "    \n",
    "    :param author: author name\n",
    "    :param author_list: list of authors\n",
    "    :returns: updated list of authors\n",
    "    \"\"\"\n",
    "    add_list = ['T. Henning']\n",
    "\n",
    "    for author in add_list:\n",
    "        if author not in author_list:\n",
    "            author_list.append(author)\n",
    "    return author_list\n",
    "\n",
    "# get list from MPIA website\n",
    "# filter for non-scientists (mpia.get_mpia_mitarbeiter_list() does some filtering)\n",
    "mpia_authors = [k[1] for k in mpia.get_mpia_mitarbeiter_list() if filter_non_scientists(k[1])]\n",
    "# add some missing author because of inconsistencies in their MPIA name and author name on papers\n",
    "mpia_authors = add_author_to_list(mpia_authors)"
   ]
  },
  {
   "cell_type": "code",
   "execution_count": 4,
   "id": "2645e73a",
   "metadata": {
    "execution": {
     "iopub.execute_input": "2024-09-25T04:11:25.956088Z",
     "iopub.status.busy": "2024-09-25T04:11:25.955685Z",
     "iopub.status.idle": "2024-09-25T04:11:26.624290Z",
     "shell.execute_reply": "2024-09-25T04:11:26.623686Z"
    },
    "papermill": {
     "duration": 0.673459,
     "end_time": "2024-09-25T04:11:26.625354",
     "exception": false,
     "start_time": "2024-09-25T04:11:25.951895",
     "status": "completed"
    },
    "tags": []
   },
   "outputs": [
    {
     "name": "stdout",
     "output_type": "stream",
     "text": [
      "P. Sudarshan  ->  P. Sudarshan  |  ['P. Sudarshan']\n",
      "M. Flock  ->  M. Flock  |  ['M. Flock']\n",
      "R. P. Dubey  ->  R. P. Dubey  |  ['R. P. Dubey']\n",
      "C. Fendt  ->  C. Fendt  |  ['C. Fendt']\n",
      "J. Shi  ->  J. Shi  |  ['J. Shi']\n",
      "J. Liu  ->  J. Liu  |  ['J. Liu']\n",
      "M. McCaughrean  ->  M. McCaughrean  |  ['M. McCaughrean']\n",
      "H. Beuther  ->  H. Beuther  |  ['H. Beuther']\n",
      "S. Reyes  ->  S. Reyes  |  ['S. Reyes']\n",
      "T. Henning  ->  T. Henning  |  ['T. Henning']\n"
     ]
    },
    {
     "name": "stdout",
     "output_type": "stream",
     "text": [
      "Arxiv has 71 new papers today\n",
      "          4 with possible author matches\n"
     ]
    }
   ],
   "source": [
    "new_papers = get_new_papers()\n",
    "# add manual references\n",
    "add_paper_refs = []\n",
    "new_papers.extend([get_paper_from_identifier(k) for k in add_paper_refs])\n",
    "\n",
    "def robust_call(fn, value, *args, **kwargs):\n",
    "    try:\n",
    "        return fn(value, *args, **kwargs)\n",
    "    except Exception:\n",
    "        return value\n",
    "\n",
    "candidates = []\n",
    "for paperk in new_papers:\n",
    "    # Check author list with their initials\n",
    "    normed_author_list = [robust_call(mpia.get_initials, k) for k in paperk['authors']]\n",
    "    hl_authors = highlight_authors_in_list(normed_author_list, mpia_authors, verbose=True)\n",
    "    matches = [(hl, orig) for hl, orig in zip(hl_authors, paperk['authors']) if 'mark' in hl]\n",
    "    paperk['authors'] = hl_authors\n",
    "    if matches:\n",
    "        # only select paper if an author matched our list\n",
    "        candidates.append(paperk)\n",
    "print(\"\"\"Arxiv has {0:,d} new papers today\"\"\".format(len(new_papers)))        \n",
    "print(\"\"\"          {0:,d} with possible author matches\"\"\".format(len(candidates)))"
   ]
  },
  {
   "cell_type": "markdown",
   "id": "3543b34a",
   "metadata": {
    "papermill": {
     "duration": 0.003186,
     "end_time": "2024-09-25T04:11:26.632139",
     "exception": false,
     "start_time": "2024-09-25T04:11:26.628953",
     "status": "completed"
    },
    "tags": []
   },
   "source": [
    "# Parse sources and generate relevant outputs\n",
    "\n",
    "From the candidates, we do the following steps:\n",
    "* get their tarball from ArXiv (and extract data)\n",
    "* find the main .tex file: find one with \\documentclass{...} (sometimes it's non trivial)\n",
    "* Check affiliations with :func:`validation`, which uses :func:`mpia.affiliation_verifications`\n",
    "* If passing the affiliations: we parse the .tex source\n",
    "   * inject sub-documents into the main (flatten the main document)\n",
    "   * parse structure, extract information (title, abstract, authors, figures...)\n",
    "   * handles `\\graphicspath` if provided\n",
    "* Generate the .md document."
   ]
  },
  {
   "cell_type": "code",
   "execution_count": 5,
   "id": "9576b79e",
   "metadata": {
    "execution": {
     "iopub.execute_input": "2024-09-25T04:11:26.639599Z",
     "iopub.status.busy": "2024-09-25T04:11:26.639213Z",
     "iopub.status.idle": "2024-09-25T04:12:04.952425Z",
     "shell.execute_reply": "2024-09-25T04:12:04.951661Z"
    },
    "papermill": {
     "duration": 38.318131,
     "end_time": "2024-09-25T04:12:04.953481",
     "exception": false,
     "start_time": "2024-09-25T04:11:26.635350",
     "status": "completed"
    },
    "scrolled": false,
    "tags": []
   },
   "outputs": [
    {
     "data": {
      "application/vnd.jupyter.widget-view+json": {
       "model_id": "b14ba25ff83647f3943c61159a8846ff",
       "version_major": 2,
       "version_minor": 0
      },
      "text/plain": [
       "  0%|          | 0/4 [00:00<?, ?it/s]"
      ]
     },
     "metadata": {},
     "output_type": "display_data"
    },
    {
     "name": "stdout",
     "output_type": "stream",
     "text": [
      "Retrieving document from  https://arxiv.org/e-print/2409.15420\n"
     ]
    },
    {
     "name": "stdout",
     "output_type": "stream",
     "text": [
      "extracting tarball to tmp_2409.15420..."
     ]
    },
    {
     "name": "stdout",
     "output_type": "stream",
     "text": [
      " done.\n"
     ]
    },
    {
     "name": "stdout",
     "output_type": "stream",
     "text": [
      "Found 99 bibliographic references in tmp_2409.15420/rad-project-dust.bbl.\n",
      "Retrieving document from  https://arxiv.org/e-print/2409.15983\n"
     ]
    },
    {
     "name": "stderr",
     "output_type": "stream",
     "text": [
      "/opt/hostedtoolcache/Python/3.9.20/x64/lib/python3.9/site-packages/arxiv_on_deck_2/latex_bib.py:132: UserWarning: Error processing bibitem\n",
      " item = \\bibitem[\\protect\\citeauthoryear{{Rometsch}, {Ziampras}, {Kley}    {Béthune}}{{Rometsch} et~al.}{2021}]{rometsch-etal-2021}{Rometsch} T.,  {Ziampras} A.,  {Kley} W.,   {Béthune} W.,  2021, \\mn@doi  [\\aap] {None}, \\href {None} {None, None}\n",
      " regex = \n",
      "        \\\\bibitem(\\[[^\\[\\]]*?\\]){(?P<bibkey>[a-zA-Z0-9\\-\\+\\.\\S]+?)}(?P<authors>|([\\D]*?))(?P<year>[12][0-9]{3}).*?href(.*?{(?P<url>http[\\S]*)})(?P<rest>.*)\n",
      "        \n",
      "  warnings.warn(str(e))\n"
     ]
    },
    {
     "name": "stdout",
     "output_type": "stream",
     "text": [
      "extracting tarball to tmp_2409.15983..."
     ]
    },
    {
     "name": "stdout",
     "output_type": "stream",
     "text": [
      " done.\n"
     ]
    },
    {
     "name": "stdout",
     "output_type": "stream",
     "text": [
      "R. P. Dubey  ->  R. P. Dubey  |  ['R. P. Dubey']\n",
      "C. Fendt  ->  C. Fendt  |  ['C. Fendt']\n"
     ]
    },
    {
     "name": "stderr",
     "output_type": "stream",
     "text": [
      "/opt/hostedtoolcache/Python/3.9.20/x64/lib/python3.9/site-packages/arxiv_on_deck_2/latex.py:132: LatexWarning: attempting recovering figure dubey_fig11a\n",
      "  warnings.warn(LatexWarning(f'attempting recovering figure {image}'))\n",
      "/opt/hostedtoolcache/Python/3.9.20/x64/lib/python3.9/site-packages/arxiv_on_deck_2/latex.py:137: LatexWarning: Recovered figure dubey_fig11a as tmp_2409.15983/./dubey_fig11a.png\n",
      "  warnings.warn(LatexWarning(f'Recovered figure {image} as {fname}'))\n"
     ]
    },
    {
     "name": "stdout",
     "output_type": "stream",
     "text": [
      "Found 67 bibliographic references in tmp_2409.15983/main.bbl.\n",
      "Retrieving document from  https://arxiv.org/e-print/2409.16028\n"
     ]
    },
    {
     "name": "stdout",
     "output_type": "stream",
     "text": [
      "extracting tarball to tmp_2409.16028... done.\n",
      "Retrieving document from  https://arxiv.org/e-print/2409.16061\n",
      "extracting tarball to tmp_2409.16061..."
     ]
    },
    {
     "name": "stdout",
     "output_type": "stream",
     "text": [
      " done.\n"
     ]
    },
    {
     "name": "stdout",
     "output_type": "stream",
     "text": [
      "M. McCaughrean  ->  M. McCaughrean  |  ['M. McCaughrean']\n",
      "H. Beuther  ->  H. Beuther  |  ['H. Beuther']\n",
      "S. Reyes  ->  S. Reyes  |  ['S. Reyes']\n",
      "T. Henning  ->  T. Henning  |  ['T. Henning']\n"
     ]
    },
    {
     "name": "stdout",
     "output_type": "stream",
     "text": [
      "Found 115 bibliographic references in tmp_2409.16061/HH211astroph.bbl.\n"
     ]
    }
   ],
   "source": [
    "documents = []\n",
    "failed = []\n",
    "for paper in tqdm(candidates):\n",
    "    # debug crap\n",
    "    paper['identifier'] = paper['identifier'].lower().replace('arxiv:', '').replace(r'\\n', '').strip()\n",
    "    paper_id = paper['identifier']\n",
    "    \n",
    "    folder = f'tmp_{paper_id}'\n",
    "\n",
    "    try:\n",
    "        if not os.path.isdir(folder):\n",
    "            folder = retrieve_document_source(f\"{paper_id}\", f'tmp_{paper_id}')\n",
    "        \n",
    "        try:\n",
    "            doc = latex.LatexDocument(folder, validation=validation)    \n",
    "        except AffiliationError as affilerror:\n",
    "            msg = f\"ArXiv:{paper_id:s} is not an MPIA paper... \" + str(affilerror)\n",
    "            failed.append((paper, \"affiliation error: \" + str(affilerror) ))\n",
    "            continue\n",
    "        \n",
    "        # Hack because sometimes author parsing does not work well\n",
    "        if (len(doc.authors) != len(paper['authors'])):\n",
    "            doc._authors = paper['authors']\n",
    "        else:\n",
    "            # highlight authors (FIXME: doc.highlight_authors)\n",
    "            # done on arxiv paper already\n",
    "            doc._authors = highlight_authors_in_list(\n",
    "                [get_initials(k) for k in doc.authors], \n",
    "                mpia_authors, verbose=True)\n",
    "        if (doc.abstract) in (None, ''):\n",
    "            doc._abstract = paper['abstract']\n",
    "            \n",
    "        doc.comment = (get_markdown_badge(paper_id) + \n",
    "                       \"<mark>Appeared on: \" + paper['date'] + \"</mark> - \")\n",
    "        if paper['comments']:\n",
    "            doc.comment += \" _\" + paper['comments'] + \"_\"\n",
    "        \n",
    "        full_md = doc.generate_markdown_text()\n",
    "        \n",
    "        full_md += get_markdown_qrcode(paper_id)\n",
    "        \n",
    "        # replace citations\n",
    "        try:\n",
    "            bibdata = latex_bib.LatexBib.from_doc(doc)\n",
    "            full_md = latex_bib.replace_citations(full_md, bibdata)\n",
    "        except Exception as e:\n",
    "            print(\"Issues with the citations\")\n",
    "            print(e)\n",
    "        \n",
    "        documents.append((paper_id, full_md))\n",
    "    except Exception as e:\n",
    "        warnings.warn(latex.LatexWarning(f\"{paper_id:s} did not run properly\\n\" +\n",
    "                                         str(e)\n",
    "                                        ))\n",
    "        failed.append((paper, \"latex error \" + str(e)))"
   ]
  },
  {
   "cell_type": "markdown",
   "id": "2505a25c",
   "metadata": {
    "papermill": {
     "duration": 0.003942,
     "end_time": "2024-09-25T04:12:04.961879",
     "exception": false,
     "start_time": "2024-09-25T04:12:04.957937",
     "status": "completed"
    },
    "tags": []
   },
   "source": [
    "### Export the logs\n",
    "\n",
    "Throughout, we also keep track of the logs per paper. see `logs-{today date}.md` "
   ]
  },
  {
   "cell_type": "code",
   "execution_count": 6,
   "id": "d733828a",
   "metadata": {
    "execution": {
     "iopub.execute_input": "2024-09-25T04:12:04.971275Z",
     "iopub.status.busy": "2024-09-25T04:12:04.970783Z",
     "iopub.status.idle": "2024-09-25T04:12:04.986463Z",
     "shell.execute_reply": "2024-09-25T04:12:04.985903Z"
    },
    "papermill": {
     "duration": 0.021682,
     "end_time": "2024-09-25T04:12:04.987536",
     "exception": false,
     "start_time": "2024-09-25T04:12:04.965854",
     "status": "completed"
    },
    "scrolled": false,
    "tags": []
   },
   "outputs": [
    {
     "data": {
      "text/markdown": [
       "## Successful papers"
      ],
      "text/plain": [
       "<IPython.core.display.Markdown object>"
      ]
     },
     "metadata": {},
     "output_type": "display_data"
    },
    {
     "data": {
      "text/markdown": [
       "\n",
       "|||\n",
       "|---:|:---|\n",
       "| [![arXiv](https://img.shields.io/badge/arXiv-2409.15420-b31b1b.svg)](https://arxiv.org/abs/2409.15420) | **Dusty substructures induced by planets in ALMA disks: how dust growth and dynamics changes the picture**  |\n",
       "|| A. Ziampras, et al. -- incl., <mark>P. Sudarshan</mark>, <mark>M. Flock</mark> |\n",
       "|*Appeared on*| *2024-09-25*|\n",
       "|*Comments*| *15 pages, 15 figures, 2 tables; submitted to MNRAS, uploaded for visibility during PLUTO symposium; suggestions and comments welcome*|\n",
       "|**Abstract**|            Protoplanetary disks exhibit a rich variety of substructure in millimeter continuum emission, often attributed to unseen planets. As these planets carve gaps in the gas, dust particles can accumulate in the resulting pressure bumps, forming bright features in the dust continuum. We investigate the role of dust dynamics in the gap-opening process with 2D radiation hydrodynamics simulations of planet--disk interaction and a two-population dust component modeled as a pressureless fluid. We consider the opacity feedback and backreaction due to drag forces as mm grains accumulate in pressure bumps at different stages of dust growth. We find that dust dynamics can significantly affect the resulting substructure driven by the quasi-thermal-mass planet with $M_p/M_\\star=10^{-4}$. Opacity feedback causes nonaxisymmetric features to become more compact in azimuth, whereas the drag-induced backreaction tends to dissolve nonaxisymmetries. For our fiducial model, this results in multiple concentric rings of dust rather than the expected vortices and corotating dust clumps found in models without dust feedback. A higher coagulation fraction disproportionately enhances the effect of dust opacity feedback, favoring the formation of crescents rather than rings. Our results suggest that turbulent diffusion is not always necessary to explain the rarity of observed nonaxisymmetric features, and that incorporating dust dynamics is vital for interpreting the observed substructure in protoplanetary disks. We also describe and test the implementation of the publicly-available dust fluid module in the PLUTO code.         |"
      ],
      "text/plain": [
       "[2409.15420] Dusty substructures induced by planets in ALMA disks: how dust growth and dynamics changes the picture\n",
       "\tA. Ziampras, et al. -- incl., <mark>P. Sudarshan</mark>, <mark>M. Flock</mark>"
      ]
     },
     "metadata": {},
     "output_type": "display_data"
    },
    {
     "data": {
      "text/markdown": [
       "\n",
       "|||\n",
       "|---:|:---|\n",
       "| [![arXiv](https://img.shields.io/badge/arXiv-2409.15983-b31b1b.svg)](https://arxiv.org/abs/2409.15983) | **Particles in Relativistic MHD Jets II: Bridging Jet Dynamics with Multi-waveband Non-Thermal Emission Signatures**  |\n",
       "|| <mark>R. P. Dubey</mark>, <mark>C. Fendt</mark>, B. Vaidya |\n",
       "|*Appeared on*| *2024-09-25*|\n",
       "|*Comments*| *Submitted to The Astrophysical Journal (ApJ)*|\n",
       "|**Abstract**|            Relativistic magnetized jets, originating near black holes, are observed to exhibit sub-structured flows. In this study, we present synthetic synchrotron emission signatures for different lines of sight and frequencies, derived from three-dimensional relativistic magneto-hydrodynamic simulations of pc-scale AGN jets. These simulations apply different injection nozzles, injecting steady, variable, and precessing jets. Extending our previous study, here, we have developed a bridge to connect jet dynamics and particle acceleration within relativistic shocks with non-thermal radiation dominant in jets. The emission is derived from Lagrangian particles - injected into the jet and following the fluid - accelerated through diffusive shock acceleration and subsequently cooled by emitting energy via synchrotron and inverse-Compton processes. Overall, the different shocks structures lead to the formation of numerous localized emission patterns - interpreted as jet knots. These knot patterns can fade or flare, also as a consequence of merging or Doppler boosting, leading to jet variability. We find knots with high-enough pattern speed supposed to be visible as superluminal motion <~5c. Synchrotron spectra of all jets reveal double-humped structures, reflecting multiple electron populations characterized by the nature of underlying shock and their age. The precessing jet is the most powerful emitter, featuring a spectrum flatter than the steady and the variable jet. The emission, although essentially governed by the acceleration through shocks, depends on the cooling history of the particle as well. Overall, the continuous re-acceleration of electrons through shocks along the jet we found, is an essential prerequisite for observing extended jet emission over large time-scales and length-scales.         |"
      ],
      "text/plain": [
       "[2409.15983] Particles in Relativistic MHD Jets II: Bridging Jet Dynamics with Multi-waveband Non-Thermal Emission Signatures\n",
       "\t<mark>R. P. Dubey</mark>, <mark>C. Fendt</mark>, B. Vaidya"
      ]
     },
     "metadata": {},
     "output_type": "display_data"
    },
    {
     "data": {
      "text/markdown": [
       "\n",
       "|||\n",
       "|---:|:---|\n",
       "| [![arXiv](https://img.shields.io/badge/arXiv-2409.16061-b31b1b.svg)](https://arxiv.org/abs/2409.16061) | **JWST Observations of Young protoStars (JOYS). HH 211: the textbook case of a protostellar jet and outflow**  |\n",
       "|| A. C. o. Garatti, et al. -- incl., <mark>M. McCaughrean</mark>, <mark>H. Beuther</mark>, <mark>S. Reyes</mark>, <mark>T. Henning</mark> |\n",
       "|*Appeared on*| *2024-09-25*|\n",
       "|*Comments*| *Paper accepted in A&A for publication*|\n",
       "|**Abstract**|            We use the James Webb Space Telescope (JWST) and its Mid-Infrared Instrument (MIRI) (5-28 um), to study the embedded HH 211 flow. We map a 0.95'x0.22' region, covering the full extent of the blue-shifted lobe, the central protostellar region, and a small portion of the red-shifted lobe. The jet driving source is not detected even at the longest mid-IR wavelengths. The overall morphology of the flow consists of a highly collimated jet, mostly molecular (H2, HD) with an inner atomic ([FeI], [FeII], [SI], [NiII]) structure. The jet shocks the ambient medium, producing several large bow-shocks, rich in forbidden atomic and molecular lines, and is driving an H2 molecular outflow, mostly traced by low-J, v=0 transitions. Moreover, 0-0 S(1) uncollimated emission is also detected down to 2\"-3\" (~650-1000 au) from the source, tracing a cold (T=200-400 K), less dense and poorly collimated molecular wind. The atomic jet ([FeII] at 26 um) is detected down to ~130 au from source, whereas the lack of H2 emission close to the source is likely due to the large visual extinction. Dust continuum-emission is detected at the terminal bow-shocks, and in the blue- and red-shifted jet, being likely dust lifted from the disk. The jet shows an onion-like structure, with layers of different size, velocity, temperature, and chemical composition. Moreover, moving from the inner jet to the outer bow-shocks, different physical, kinematic and excitation conditions for both molecular and atomic gas are observed. The jet mass-flux rate, momentum, and momentum flux of the warm H2 component are up to one order of magnitude higher than those inferred from the atomic jet component. Our findings indicate that the warm H2 component is the primary mover of the outflow, namely it is the most significant dynamical component of the jet, in contrast to jets from more evolved YSOs, where the atomic component is dominant.         |"
      ],
      "text/plain": [
       "[2409.16061] JWST Observations of Young protoStars (JOYS). HH 211: the textbook case of a protostellar jet and outflow\n",
       "\tA. C. o. Garatti, et al. -- incl., <mark>M. McCaughrean</mark>, <mark>H. Beuther</mark>, <mark>S. Reyes</mark>, <mark>T. Henning</mark>"
      ]
     },
     "metadata": {},
     "output_type": "display_data"
    },
    {
     "data": {
      "text/markdown": [
       "## Failed papers"
      ],
      "text/plain": [
       "<IPython.core.display.Markdown object>"
      ]
     },
     "metadata": {},
     "output_type": "display_data"
    },
    {
     "data": {
      "text/markdown": [
       "\n",
       "|||\n",
       "|---:|:---|\n",
       "| [![arXiv](https://img.shields.io/badge/arXiv-2409.16028-b31b1b.svg)](https://arxiv.org/abs/2409.16028) | **Chromospheric modeling of the active M3V star G 80-21 with RH1.5D**  |\n",
       "|| S. Liu, et al. -- incl., <mark>J. Shi</mark>, <mark>J. Liu</mark> |\n",
       "|*Appeared on*| *2024-09-25*|\n",
       "|*Comments*| *Accepted for publication in The Astrophysical Journal*|\n",
       "|**Abstract**|            This study investigates the active regions of the M3.0V star G 80-21 using the observed data from the CARMENES project with synthetic spectra generated by the RH1.5D radiative transfer code. The CARMENES project aims to search for exoplanets around M dwarfs using high-resolution near-infrared and optical echelle spectrographs. By comparing the observed data and models for the chromospheric lines of H$_\\alpha$ and the bluest Ca II infrared triplet line, we obtain the best-fit models for this star. The optimal fitting for the observed spectrum of G 80-21 is achieved by employing two active areas in conjunction with an inactive regions, with a calcium abundance of [Ca/H] = $-$0.4. This combination successfully fits all the observed data across varying ratios. The minor active component consistently comprises approximately 18\\% of the total (ranging from 14\\% to 20\\%), which suggests that the minor active component is likely located in the polar regions. Meanwhile, the major active component occupies a variable proportion, ranging from 51\\% to 82\\%. Our method allows for the determination of the structure and size of stellar chromospheric active regions by analyzing high-resolution observed spectra.         |\n",
       "|<p style=\"color:green\"> **ERROR** </p>| <p style=\"color:green\">affiliation error: mpia.affiliation_verifications: 'Heidelberg' keyword not found.</p> |"
      ],
      "text/plain": [
       "<IPython.core.display.Markdown object>"
      ]
     },
     "metadata": {},
     "output_type": "display_data"
    }
   ],
   "source": [
    "import datetime\n",
    "today = str(datetime.date.today())\n",
    "logfile = f\"_build/html/logs/log-{today}.md\"\n",
    "\n",
    "\n",
    "with open(logfile, 'w') as logs:\n",
    "    # Success\n",
    "    logs.write(f'# Arxiv on Deck 2: Logs - {today}\\n\\n')\n",
    "    logs.write(\"\"\"* Arxiv had {0:,d} new papers\\n\"\"\".format(len(new_papers)))\n",
    "    logs.write(\"\"\"    * {0:,d} with possible author matches\\n\\n\"\"\".format(len(candidates)))\n",
    "    logs.write(\"## Sucessful papers\\n\\n\")\n",
    "    display(Markdown(\"## Successful papers\"))\n",
    "    success = [k[0] for k in documents]\n",
    "    for candid in candidates:\n",
    "        if candid['identifier'].split(':')[-1] in success:\n",
    "            display(candid)\n",
    "            logs.write(candid.generate_markdown_text() + '\\n\\n')\n",
    "\n",
    "    ## failed\n",
    "    logs.write(\"## Failed papers\\n\\n\")\n",
    "    display(Markdown(\"## Failed papers\"))\n",
    "    failed = sorted(failed, key=lambda x: x[1])\n",
    "    current_reason = \"\"\n",
    "    for paper, reason in failed:\n",
    "        if 'affiliation' in reason:\n",
    "            color = 'green'\n",
    "        else:\n",
    "            color = 'red'\n",
    "        data = Markdown(\n",
    "                paper.generate_markdown_text() + \n",
    "                f'\\n|<p style=\"color:{color:s}\"> **ERROR** </p>| <p style=\"color:{color:s}\">{reason:s}</p> |'\n",
    "               )\n",
    "        if reason != current_reason:\n",
    "            logs.write(f'### {reason:s} \\n\\n')\n",
    "            current_reason = reason\n",
    "        logs.write(data.data + '\\n\\n')\n",
    "        \n",
    "        # only display here the important errors (all in logs)\n",
    "        # if color in ('red',):\n",
    "        display(data)"
   ]
  },
  {
   "cell_type": "markdown",
   "id": "472d20ee",
   "metadata": {
    "papermill": {
     "duration": 0.004642,
     "end_time": "2024-09-25T04:12:04.996995",
     "exception": false,
     "start_time": "2024-09-25T04:12:04.992353",
     "status": "completed"
    },
    "tags": []
   },
   "source": [
    "## Export documents\n",
    "\n",
    "We now write the .md files and export relevant images"
   ]
  },
  {
   "cell_type": "code",
   "execution_count": 7,
   "id": "d426aed9",
   "metadata": {
    "execution": {
     "iopub.execute_input": "2024-09-25T04:12:05.007627Z",
     "iopub.status.busy": "2024-09-25T04:12:05.007131Z",
     "iopub.status.idle": "2024-09-25T04:12:05.014210Z",
     "shell.execute_reply": "2024-09-25T04:12:05.013679Z"
    },
    "papermill": {
     "duration": 0.013711,
     "end_time": "2024-09-25T04:12:05.015299",
     "exception": false,
     "start_time": "2024-09-25T04:12:05.001588",
     "status": "completed"
    },
    "tags": []
   },
   "outputs": [],
   "source": [
    "def export_markdown_summary(md: str, md_fname:str, directory: str):\n",
    "    \"\"\"Export MD document and associated relevant images\"\"\"\n",
    "    import os\n",
    "    import shutil\n",
    "    import re\n",
    "\n",
    "    if (os.path.exists(directory) and not os.path.isdir(directory)):\n",
    "        raise RuntimeError(f\"a non-directory file exists with name {directory:s}\")\n",
    "\n",
    "    if (not os.path.exists(directory)):\n",
    "        print(f\"creating directory {directory:s}\")\n",
    "        os.mkdir(directory)\n",
    "\n",
    "    fig_fnames = (re.compile(r'\\[Fig.*\\]\\((.*)\\)').findall(md) + \n",
    "                  re.compile(r'\\<img src=\"([^>\\s]*)\"[^>]*/>').findall(md))\n",
    "    print(\"found figures\", fig_fnames)\n",
    "    for fname in fig_fnames:\n",
    "        if 'http' in fname:\n",
    "            # No need to copy online figures\n",
    "            continue\n",
    "        if not os.path.exists(fname):\n",
    "            print(\"file not found\", fname)\n",
    "            continue\n",
    "        print(\"copying \", fname, \"to\", directory)\n",
    "        destdir = os.path.join(directory, os.path.dirname(fname))\n",
    "        destfname = os.path.join(destdir, os.path.basename(fname))\n",
    "        try:\n",
    "            os.makedirs(destdir)\n",
    "        except FileExistsError:\n",
    "            pass\n",
    "        shutil.copy(fname, destfname)\n",
    "    with open(os.path.join(directory, md_fname), 'w') as fout:\n",
    "        fout.write(md)\n",
    "    print(\"exported in \", os.path.join(directory, md_fname))\n",
    "    [print(\"    + \" + os.path.join(directory,fk)) for fk in fig_fnames]"
   ]
  },
  {
   "cell_type": "code",
   "execution_count": 8,
   "id": "014d04a4",
   "metadata": {
    "execution": {
     "iopub.execute_input": "2024-09-25T04:12:05.025782Z",
     "iopub.status.busy": "2024-09-25T04:12:05.025388Z",
     "iopub.status.idle": "2024-09-25T04:12:05.034556Z",
     "shell.execute_reply": "2024-09-25T04:12:05.033995Z"
    },
    "papermill": {
     "duration": 0.015461,
     "end_time": "2024-09-25T04:12:05.035570",
     "exception": false,
     "start_time": "2024-09-25T04:12:05.020109",
     "status": "completed"
    },
    "tags": []
   },
   "outputs": [
    {
     "name": "stdout",
     "output_type": "stream",
     "text": [
      "found figures ['tmp_2409.15420/./compare-X-1D.png', 'tmp_2409.15420/./compare-X.png', 'tmp_2409.15420/./kappa-temperature.png']\n",
      "copying  tmp_2409.15420/./compare-X-1D.png to _build/html/\n",
      "copying  tmp_2409.15420/./compare-X.png to _build/html/\n",
      "copying  tmp_2409.15420/./kappa-temperature.png to _build/html/\n",
      "exported in  _build/html/2409.15420.md\n",
      "    + _build/html/tmp_2409.15420/./compare-X-1D.png\n",
      "    + _build/html/tmp_2409.15420/./compare-X.png\n",
      "    + _build/html/tmp_2409.15420/./kappa-temperature.png\n",
      "found figures ['tmp_2409.15983/./dubey_fig9.png', 'tmp_2409.15983/./dubey_fig3a.png', 'tmp_2409.15983/./dubey_fig3b.png', 'tmp_2409.15983/./dubey_fig3c.png', 'tmp_2409.15983/./dubey_fig4.png']\n",
      "copying  tmp_2409.15983/./dubey_fig9.png to _build/html/\n",
      "copying  tmp_2409.15983/./dubey_fig3a.png to _build/html/\n",
      "copying  tmp_2409.15983/./dubey_fig3b.png to _build/html/\n",
      "copying  tmp_2409.15983/./dubey_fig3c.png to _build/html/\n",
      "copying  tmp_2409.15983/./dubey_fig4.png to _build/html/\n",
      "exported in  _build/html/2409.15983.md\n",
      "    + _build/html/tmp_2409.15983/./dubey_fig9.png\n",
      "    + _build/html/tmp_2409.15983/./dubey_fig3a.png\n",
      "    + _build/html/tmp_2409.15983/./dubey_fig3b.png\n",
      "    + _build/html/tmp_2409.15983/./dubey_fig3c.png\n",
      "    + _build/html/tmp_2409.15983/./dubey_fig4.png\n",
      "found figures ['tmp_2409.16061/./figures/tricolor_3.jpg', 'tmp_2409.16061/./figures/HD23um_astro.png', 'tmp_2409.16061/./figures/CO.png', 'tmp_2409.16061/./figures/NiII.png', 'tmp_2409.16061/./figures/ClI.png', 'tmp_2409.16061/./figures/v_map_SI25_clean.jpg', 'tmp_2409.16061/./figures/v_map_FeI._clean.jpg', 'tmp_2409.16061/./figures/v_map_FeII17_clean3.jpg']\n",
      "copying  tmp_2409.16061/./figures/tricolor_3.jpg to _build/html/\n",
      "copying  tmp_2409.16061/./figures/HD23um_astro.png to _build/html/\n",
      "copying  tmp_2409.16061/./figures/CO.png to _build/html/\n",
      "copying  tmp_2409.16061/./figures/NiII.png to _build/html/\n",
      "copying  tmp_2409.16061/./figures/ClI.png to _build/html/\n",
      "copying  tmp_2409.16061/./figures/v_map_SI25_clean.jpg to _build/html/\n",
      "copying  tmp_2409.16061/./figures/v_map_FeI._clean.jpg to _build/html/\n",
      "copying  tmp_2409.16061/./figures/v_map_FeII17_clean3.jpg to _build/html/\n",
      "exported in  _build/html/2409.16061.md\n",
      "    + _build/html/tmp_2409.16061/./figures/tricolor_3.jpg\n",
      "    + _build/html/tmp_2409.16061/./figures/HD23um_astro.png\n",
      "    + _build/html/tmp_2409.16061/./figures/CO.png\n",
      "    + _build/html/tmp_2409.16061/./figures/NiII.png\n",
      "    + _build/html/tmp_2409.16061/./figures/ClI.png\n",
      "    + _build/html/tmp_2409.16061/./figures/v_map_SI25_clean.jpg\n",
      "    + _build/html/tmp_2409.16061/./figures/v_map_FeI._clean.jpg\n",
      "    + _build/html/tmp_2409.16061/./figures/v_map_FeII17_clean3.jpg\n"
     ]
    }
   ],
   "source": [
    "for paper_id, md in documents:\n",
    "    export_markdown_summary(md, f\"{paper_id:s}.md\", '_build/html/')"
   ]
  },
  {
   "cell_type": "markdown",
   "id": "f087a0a7",
   "metadata": {
    "papermill": {
     "duration": 0.004691,
     "end_time": "2024-09-25T04:12:05.045307",
     "exception": false,
     "start_time": "2024-09-25T04:12:05.040616",
     "status": "completed"
    },
    "tags": []
   },
   "source": [
    "## Display the papers\n",
    "\n",
    "Not necessary but allows for a quick check."
   ]
  },
  {
   "cell_type": "code",
   "execution_count": 9,
   "id": "fd25f625",
   "metadata": {
    "execution": {
     "iopub.execute_input": "2024-09-25T04:12:05.056222Z",
     "iopub.status.busy": "2024-09-25T04:12:05.055702Z",
     "iopub.status.idle": "2024-09-25T04:12:05.063119Z",
     "shell.execute_reply": "2024-09-25T04:12:05.062544Z"
    },
    "papermill": {
     "duration": 0.014085,
     "end_time": "2024-09-25T04:12:05.064147",
     "exception": false,
     "start_time": "2024-09-25T04:12:05.050062",
     "status": "completed"
    },
    "scrolled": false,
    "tags": []
   },
   "outputs": [
    {
     "data": {
      "text/markdown": [
       "<div class=\"macros\" style=\"visibility:hidden;\">\n",
       "$\\newcommand{\\ensuremath}{}$\n",
       "$\\newcommand{\\xspace}{}$\n",
       "$\\newcommand{\\object}[1]{\\texttt{#1}}$\n",
       "$\\newcommand{\\farcs}{{.}''}$\n",
       "$\\newcommand{\\farcm}{{.}'}$\n",
       "$\\newcommand{\\arcsec}{''}$\n",
       "$\\newcommand{\\arcmin}{'}$\n",
       "$\\newcommand{\\ion}[2]{#1#2}$\n",
       "$\\newcommand{\\textsc}[1]{\\textrm{#1}}$\n",
       "$\\newcommand{\\hl}[1]{\\textrm{#1}}$\n",
       "$\\newcommand{\\footnote}[1]{}$\n",
       "$\\newcommand{\\tensor}[1]{\\overline{\\textbf{#1}}}$\n",
       "$\\newcommand{\\tensorGR}[1]{\\overline{\\bm{{#1}}}}$\n",
       "$\\newcommand{\\DP}[2]{\\frac{\\partial{#1}}{\\partial{#2}}}$\n",
       "$\\newcommand{\\D}[2]{\\frac{\\text{d}{#1}}{\\text{d}{#2}}}$\n",
       "$\\newcommand{\\ep}{e_\\mathrm{p}}$\n",
       "$\\newcommand{\\ap}{a_\\mathrm{p}}$\n",
       "$\\newcommand{\\G}{\\text{G}}$\n",
       "$\\newcommand{\\Mstar}{M_\\star}$\n",
       "$\\newcommand{\\Lstar}{L_\\star}$\n",
       "$\\newcommand{\\Rp}{R_\\mathrm{p}}$\n",
       "$\\newcommand{\\Mp}{M_\\mathrm{p}}$\n",
       "$\\newcommand{\\hp}{h_\\mathrm{p}}$\n",
       "$\\newcommand{\\Hp}{H_\\mathrm{p}}$\n",
       "$\\newcommand{\\Tp}{T_\\mathrm{p}}$\n",
       "$\\newcommand{\\Pp}{P_\\mathrm{p}}$\n",
       "$\\newcommand{\\Tb}{T_\\mathrm{b}}$\n",
       "$\\newcommand{\\Mth}{M_\\mathrm{th}}$\n",
       "$\\newcommand{\\Msun}{\\mathrm{M}_\\odot}$\n",
       "$\\newcommand{\\Lsun}{\\mathrm{L}_\\odot}$\n",
       "$\\newcommand{\\Mjup}{\\mathrm{M}_\\mathrm{J}}$\n",
       "$\\newcommand{\\Rgas}{\\mathcal{R}}$\n",
       "$\\newcommand{\\cs}{c_\\mathrm{s}}$\n",
       "$\\newcommand{\\csiso}{c_\\mathrm{s,iso}}$\n",
       "$\\newcommand{\\csadb}{c_\\mathrm{s}^\\mathrm{ad}}$\n",
       "$\\newcommand{\\OmegaK}{\\Omega_\\mathrm{K}}$\n",
       "$\\newcommand{\\vK}{u_\\mathrm{K}}$\n",
       "$\\newcommand{\\mean}[1]{\\langle{#1} \\rangle}$\n",
       "$\\newcommand{\\tauR}{\\tau_\\mathrm{R}}$\n",
       "$\\newcommand{\\tauP}{\\tau_\\mathrm{P}}$\n",
       "$\\newcommand{\\tauReff}{\\tau_\\mathrm{R}^\\mathrm{eff}}$\n",
       "$\\newcommand{\\tauPeff}{\\tau_\\mathrm{P}^\\mathrm{eff}}$\n",
       "$\\newcommand{\\taueff}{\\tau_\\mathrm{eff}}$\n",
       "$\\newcommand{\\kappaR}{\\kappa_\\mathrm{R}}$\n",
       "$\\newcommand{\\kappaP}{\\kappa_\\mathrm{P}}$\n",
       "$\\newcommand{\\cv}{c_\\mathrm{v}}$\n",
       "$\\newcommand{\\rhomid}{\\rho_\\mathrm{mid}}$\n",
       "$\\newcommand{\\sigmaSB}{\\sigma_\\mathrm{SB}}$\n",
       "$\\newcommand{\\vel}{\\bm{u}}$\n",
       "$\\newcommand{\\xh}{{x}_\\mathrm{h}}$\n",
       "$\\newcommand{\\varpih}{{\\varpi}_\\mathrm{h}}$\n",
       "$\\newcommand{\\tcool}{t_\\mathrm{cool}}$\n",
       "$\\newcommand{\\bcool}{\\beta_\\mathrm{cool}}$\n",
       "$\\newcommand{\\bsurf}{\\beta_\\mathrm{surf}}$\n",
       "$\\newcommand{\\bmid}{\\beta_\\mathrm{mid}}$\n",
       "$\\newcommand{\\btot}{\\beta_\\mathrm{tot}}$\n",
       "$\\newcommand{\\bcoll}{\\beta_\\mathrm{coll}}$\n",
       "$\\newcommand{\\bbuoy}{\\beta_\\mathrm{buoy}}$\n",
       "$\\newcommand{\\bdiff}{\\beta_\\text{diff}}$\n",
       "$\\newcommand{\\bfld}{\\beta_\\mathrm{FLD}}$\n",
       "$\\newcommand{\\Qvisc}{Q_\\mathrm{visc}}$\n",
       "$\\newcommand{\\Qcool}{Q_\\mathrm{cool}}$\n",
       "$\\newcommand{\\Qirr}{Q_\\mathrm{irr}}$\n",
       "$\\newcommand{\\Qrad}{Q_\\mathrm{rad}}$\n",
       "$\\newcommand{\\Qrelax}{Q_\\mathrm{relax}}$\n",
       "$\\newcommand{\\Erad}{E_\\mathrm{rad}}$\n",
       "$\\newcommand{\\aR}{a_\\mathrm{R}}$\n",
       "$\\newcommand{\\lrad}{l_\\mathrm{rad}}$\n",
       "$\\newcommand{\\Sigmag}{\\Sigma_\\mathrm{g}}$\n",
       "$\\newcommand{\\Sigmad}{\\Sigma_\\mathrm{d}}$\n",
       "$\\newcommand{\\velg}{\\vel_\\mathrm{g}}$\n",
       "$\\newcommand{\\veld}{\\vel_\\mathrm{d}}$\n",
       "$\\newcommand{\\veli}{\\vel_\\mathrm{i}}$\n",
       "$\\newcommand{\\velj}{\\vel_\\mathrm{j}}$\n",
       "$\\newcommand{\\St}{\\mathrm{St}}$\n",
       "$\\newcommand{\\ts}{t_\\mathrm{s}}$\n",
       "$\\newcommand{\\ad}{a_\\mathrm{d}}$\n",
       "$\\newcommand{\\brhod}{\\bar{\\rho}_\\mathrm{d}}$\n",
       "$\\newcommand{\\sd}{s_\\mathrm{d}}$\n",
       "$\\newcommand{\\md}{m_\\mathrm{d}}$\n",
       "$\\newcommand{\\pluto}{\\texttt{PLUTO}}$\n",
       "$\\newcommand{\\dw}{\\texttt{DUSTYWAVE}}$\n",
       "$\\newcommand{\\fargo}{{\\texttt{FARGO3D}}}$\n",
       "$\\newcommand{\\thebibliography}{\\DeclareRobustCommand{\\VAN}[3]{##3}\\VANthebibliography}$</div>\n",
       "\n",
       "\n",
       "\n",
       "<div id=\"title\">\n",
       "\n",
       "# Dusty substructures induced by planets in ALMA disks:\\\\how dust growth and dynamics changes the picture\n",
       "\n",
       "</div>\n",
       "<div id=\"comments\">\n",
       "\n",
       "[![arXiv](https://img.shields.io/badge/arXiv-2409.15420-b31b1b.svg)](https://arxiv.org/abs/2409.15420)<mark>Appeared on: 2024-09-25</mark> -  _15 pages, 15 figures, 2 tables; submitted to MNRAS, uploaded for visibility during PLUTO symposium; suggestions and comments welcome_\n",
       "\n",
       "</div>\n",
       "<div id=\"authors\">\n",
       "\n",
       "A. Ziampras, et al. -- incl., <mark>P. Sudarshan</mark>, <mark>M. Flock</mark>\n",
       "\n",
       "</div>\n",
       "<div id=\"abstract\">\n",
       "\n",
       "**Abstract:** Protoplanetary disks exhibit a rich variety of substructure in millimeter continuum emission, often attributed to unseen planets. As these planets carve gaps in the gas, dust particles can accumulate in the resulting pressure bumps, forming bright features in the dust continuum. We investigate the role of dust dynamics in the gap-opening process with 2D radiation hydrodynamics simulations of planet--disk interaction and a two-population dust component modeled as a pressureless fluid. We consider the opacity feedback and backreaction due to drag forces as mm grains accumulate in pressure bumps at different stages of dust growth. We find that dust dynamics can significantly affect the resulting substructure driven by the quasi-thermal-mass planet with $\\Mp/\\Mstar=10^{-4}$ . Opacity feedback causes nonaxisymmetric features to become more compact in azimuth, whereas the drag-induced backreaction tends to dissolve nonaxisymmetries. For our fiducial model, this results in multiple concentric rings of dust rather than the expected vortices and corotating dust clumps found in models without dust feedback. A higher coagulation fraction disproportionately enhances the effect of dust opacity feedback, favoring the formation of crescents rather than rings. Our results suggest that turbulent diffusion is not always necessary to explain the rarity of observed nonaxisymmetric features, and that incorporating dust dynamics is vital for interpreting the observed substructure in protoplanetary disks. We also describe and test the implementation of the publicly-available dust fluid module in the $\\pluto$ code.\n",
       "\n",
       "</div>\n",
       "\n",
       "<div id=\"div_fig1\">\n",
       "\n",
       "<img src=\"tmp_2409.15420/./compare-X-1D.png\" alt=\"Fig5\" width=\"100%\"/>\n",
       "\n",
       "**Figure 5. -** Azimuthally averaged gas surface density (top), dust surface density (middle), and dust brightness temperature at 1.25 mm (bottom) for models with different coagulation fractions $X$. The secondary gap in the gas surface density is shallower for smaller $X$(i.e., more mass in small grains), due to the longer cooling timescale in the inner disk. Substructure in the dust is less pronounced for $X=0.01$, due to the well-coupled small grains representing most of the dust mass. (*fig:compare-X-1D*)\n",
       "\n",
       "</div>\n",
       "<div id=\"div_fig2\">\n",
       "\n",
       "<img src=\"tmp_2409.15420/./compare-X.png\" alt=\"Fig7\" width=\"100%\"/>\n",
       "\n",
       "**Figure 7. -** Brightness temperature heatmaps at 1.25 mm for models with different coagulation fractions $X$. The locally isothermal model (panel *a*) shows a fainter ring than its radiative counterpart (*b*) near the inner gap edge and an azimuthally extended bright feature inside the corotating region. The model with $X=0.01$(*d*) is overall brighter and shows less pronounced features, as the bulk of the dust is perfectly coupled to the gas. (*fig:compare-X*)\n",
       "\n",
       "</div>\n",
       "<div id=\"div_fig3\">\n",
       "\n",
       "<img src=\"tmp_2409.15420/./kappa-temperature.png\" alt=\"Fig2\" width=\"100%\"/>\n",
       "\n",
       "**Figure 2. -** Rosseland and Planck mean opacities as a function of temperature for small (blue) and big (orange) grains. Small grains follow a power law $\\propto T^{1.6}$, while big grains have a roughly constant opacity. (*fig:opacity-temperature*)\n",
       "\n",
       "</div><div id=\"qrcode\"><img src=https://api.qrserver.com/v1/create-qr-code/?size=100x100&data=\"https://arxiv.org/abs/2409.15420\"></div>"
      ],
      "text/plain": [
       "<IPython.core.display.Markdown object>"
      ]
     },
     "metadata": {},
     "output_type": "display_data"
    },
    {
     "data": {
      "text/markdown": [
       "<div class=\"macros\" style=\"visibility:hidden;\">\n",
       "$\\newcommand{\\ensuremath}{}$\n",
       "$\\newcommand{\\xspace}{}$\n",
       "$\\newcommand{\\object}[1]{\\texttt{#1}}$\n",
       "$\\newcommand{\\farcs}{{.}''}$\n",
       "$\\newcommand{\\farcm}{{.}'}$\n",
       "$\\newcommand{\\arcsec}{''}$\n",
       "$\\newcommand{\\arcmin}{'}$\n",
       "$\\newcommand{\\ion}[2]{#1#2}$\n",
       "$\\newcommand{\\textsc}[1]{\\textrm{#1}}$\n",
       "$\\newcommand{\\hl}[1]{\\textrm{#1}}$\n",
       "$\\newcommand{\\footnote}[1]{}$\n",
       "$\\newcommand{\\vecc}{\\textbf{\\textit }}$</div>\n",
       "\n",
       "\n",
       "\n",
       "<div id=\"title\">\n",
       "\n",
       "# Particles in Relativistic MHD Jets II: Bridging Jet Dynamics with Multi-waveband Non-Thermal Emission Signatures\n",
       "\n",
       "</div>\n",
       "<div id=\"comments\">\n",
       "\n",
       "[![arXiv](https://img.shields.io/badge/arXiv-2409.15983-b31b1b.svg)](https://arxiv.org/abs/2409.15983)<mark>Appeared on: 2024-09-25</mark> -  _Submitted to The Astrophysical Journal (ApJ)_\n",
       "\n",
       "</div>\n",
       "<div id=\"authors\">\n",
       "\n",
       "<mark>R. P. Dubey</mark>, <mark>C. Fendt</mark>, B. Vaidya\n",
       "\n",
       "</div>\n",
       "<div id=\"abstract\">\n",
       "\n",
       "**Abstract:** Relativistic magnetized jets, originating near black holes, are observed to exhibit sub-structured flows.In this study, we present synthetic synchrotron emission signatures for different lines of sight and frequencies,derived from three-dimensional relativistic magneto-hydrodynamic simulations of pc-scale AGN jets.These simulations apply different injection nozzles, injecting steady, variable, and precessing jets.Extending our previous study, here, we have developed a bridge to connect jet dynamics and particle acceleration withinrelativistic shocks with non-thermal radiation dominant in jets.The emission is derived from Lagrangian particles - injected into the jet and following the fluid - accelerated through diffusiveshock acceleration and subsequently cooled by emitting energy via synchrotron and inverse-Compton processes.Overall, the different shocks structures lead to the formation of numerous localized emission patterns - interpreted as jet knots.These knot patterns can fade or flare, also as a consequence of merging or Doppler boosting, leading to jet variability.We find knots with high-enough pattern speed supposed to be visible as superluminal motion $\\lesssim 5c$ .Synchrotron spectra of all jets reveal double-humped structures, reflecting multiple electron populations characterized by the natureof underlying shock and their age.The precessing jet is the most powerful emitter, featuring a spectrum flatter than the steady and the variable jet.The emission, although essentially governed by the acceleration through shocks, depends on the cooling history of the particle as well.Overall, the continuous re-acceleration of electrons through shocks along the jet we found,is an essential prerequisite for observing extended jet emission over large time-scales and length-scales.\n",
       "\n",
       "</div>\n",
       "\n",
       "<div id=\"div_fig1\">\n",
       "\n",
       "<img src=\"tmp_2409.15983/./dubey_fig9.png\" alt=\"Fig10\" width=\"100%\"/>\n",
       "\n",
       "**Figure 10. -** Radiation spectra from simulations of a steady jet (left), a variable jet (center), and a precessing jet (right),\n",
       "    at time $t=50$(in code units).\n",
       "    In all three panels, the blue, orange and green curves represent the inclination\n",
       "    $\\hat{_**n**_}_{\\rm los} = 90^\\circ$, $45^\\circ$, and $10^\\circ$ respectively.\n",
       "    Fluxes are integrated over the whole computational domain, similar to an unresolved * core* emission. (*fig:spc_t50*)\n",
       "\n",
       "</div>\n",
       "<div id=\"div_fig2\">\n",
       "\n",
       "<img src=\"tmp_2409.15983/./dubey_fig3a.png\" alt=\"Fig4.1\" width=\"33%\"/><img src=\"tmp_2409.15983/./dubey_fig3b.png\" alt=\"Fig4.2\" width=\"33%\"/><img src=\"tmp_2409.15983/./dubey_fig3c.png\" alt=\"Fig4.3\" width=\"33%\"/>\n",
       "\n",
       "**Figure 4. -** 2D distribution of specific intensity $I_{\\nu}$(in $\\log$ scale), blurred with a Gaussian beam, in the plane of the sky at frequency $\\nu = 1$ GHz and time $t=50$(in code units)\n",
       "    after integrating the specific emissivity $J_{\\nu}$ along the line of sight.\n",
       "    Shown are the maps for\n",
       "    steady (left), variable (center), and precessing (right) jets with inclination $\\hat{_**n**_}_{\\rm los} = 90^\\circ$(top panel), $45^\\circ$(middle panel) and $10^\\circ$(bottom panel), respectively.\n",
       "    The colorbars indicate the level of specific intensity in $\\rm{erg  s^{-1}cm^{-2}str^{-1}Hz^{-1}}$(in $\\log$ scale).\n",
       "    The black contours indicate 0.01, 0.1, 1, 5, and 10 per cent of maximum intensity in all panels.\n",
       "    Additionally, contours at $10^{-5}$ of the maximum intensity are added in the middle panel\n",
       "    for better visualisation.\n",
       "     (*fig:blur_intensity_1GHZ*)\n",
       "\n",
       "</div>\n",
       "<div id=\"div_fig3\">\n",
       "\n",
       "<img src=\"tmp_2409.15983/./dubey_fig4.png\" alt=\"Fig5\" width=\"100%\"/>\n",
       "\n",
       "**Figure 5. -** Mock radiant intensity ($\\nu I_{\\nu}$) distribution (in $\\log$ scale) in the plane of the sky  for the steady jet * Std90* at time $t=50$\n",
       "    and frequency $\\nu = 1$ GHz (left), $9\\times 10^4$ GHz (center), and $10^9$ GHz (right), lying in the radio, optical and X-ray regime, respectively.\n",
       "    The colorbars indicate the levels of radiant intensity in $10^9 \\rm{erg s^{-1}cm^{-2}str^{-1}}$(in $\\log$ scale).  (*fig:multi_int*)\n",
       "\n",
       "</div><div id=\"qrcode\"><img src=https://api.qrserver.com/v1/create-qr-code/?size=100x100&data=\"https://arxiv.org/abs/2409.15983\"></div>"
      ],
      "text/plain": [
       "<IPython.core.display.Markdown object>"
      ]
     },
     "metadata": {},
     "output_type": "display_data"
    },
    {
     "data": {
      "text/markdown": [
       "<div class=\"macros\" style=\"visibility:hidden;\">\n",
       "$\\newcommand{\\ensuremath}{}$\n",
       "$\\newcommand{\\xspace}{}$\n",
       "$\\newcommand{\\object}[1]{\\texttt{#1}}$\n",
       "$\\newcommand{\\farcs}{{.}''}$\n",
       "$\\newcommand{\\farcm}{{.}'}$\n",
       "$\\newcommand{\\arcsec}{''}$\n",
       "$\\newcommand{\\arcmin}{'}$\n",
       "$\\newcommand{\\ion}[2]{#1#2}$\n",
       "$\\newcommand{\\textsc}[1]{\\textrm{#1}}$\n",
       "$\\newcommand{\\hl}[1]{\\textrm{#1}}$\n",
       "$\\newcommand{\\footnote}[1]{}$\n",
       "$\\newcommand{\\lsun}{\\mbox{L}_\\odot}$\n",
       "$\\newcommand{\\msun}{\\mbox{M}_\\odot}$\n",
       "$\\newcommand{\\macc}{\\dot{M}_{\\rm acc} }$\n",
       "$\\newcommand{\\FeII}{[\\ion{Fe}{ii}] }$\n",
       "$\\newcommand{\\FeIIp}{[\\ion{Fe}{ii}]}$\n",
       "$\\newcommand{\\FeI}{[\\ion{Fe}{i}] }$\n",
       "$\\newcommand{\\FeIp}{[\\ion{Fe}{i}]}$\n",
       "$\\newcommand{\\TiII}{[\\ion{Ti}{ii}]}$\n",
       "$\\newcommand{\\SII}{[\\ion{S}{ii}]}$\n",
       "$\\newcommand{\\SIIp}{[\\ion{S}{ii}] }$\n",
       "$\\newcommand{\\OI}{[\\ion{O}{i}] }$\n",
       "$\\newcommand{\\OIp}{[\\ion{O}{i}]}$\n",
       "$\\newcommand{\\PII}{[\\ion{P}{ii}]}$\n",
       "$\\newcommand{\\NiI}{[\\ion{Ni}{i}] }$\n",
       "$\\newcommand{\\NiII}{[\\ion{Ni}{ii}] }$\n",
       "$\\newcommand{\\NiIIp}{[\\ion{Ni}{ii}]}$\n",
       "$\\newcommand{\\NIp}{\\ion{N}{i}}$\n",
       "$\\newcommand{\\CaIIp}{\\ion{Ca}{ii}}$\n",
       "$\\newcommand{\\PI}{[\\ion{P}{i}]}$\n",
       "$\\newcommand{\\NeII}{[\\ion{Ne}{ii}] }$\n",
       "$\\newcommand{\\NeIIp}{[\\ion{Ne}{ii}]}$\n",
       "$\\newcommand{\\CoII}{[\\ion{Co}{ii}] }$\n",
       "$\\newcommand{\\CoIIp}{[\\ion{Co}{ii}]}$\n",
       "$\\newcommand{\\ClI}{[\\ion{Cl}{i}] }$\n",
       "$\\newcommand{\\ClIp}{[\\ion{Cl}{i}]}$\n",
       "$\\newcommand{\\ClII}{[\\ion{Cl}{ii}] }$\n",
       "$\\newcommand{\\ClIIp}{[\\ion{Cl}{ii}]}$\n",
       "$\\newcommand{\\CIp}{\\ion{C}{i}}$\n",
       "$\\newcommand{\\HeI}{\\ion{He}{i}}$\n",
       "$\\newcommand{\\MgIp}{\\ion{Mg}{i}}$\n",
       "$\\newcommand{\\MgIIp}{\\ion{Mg}{ii}}$\n",
       "$\\newcommand{\\NaI}{\\ion{Na}{i}}$\n",
       "$\\newcommand{\\HI}{\\ion{H}{i} }$\n",
       "$\\newcommand{\\HIp}{\\ion{H}{i}}$\n",
       "$\\newcommand{\\SI}{[\\ion{S}{i}] }$\n",
       "$\\newcommand{\\SiII}{[\\ion{Si}{ii}]}$\n",
       "$\\newcommand{\\SIp}{[\\ion{S}{i}]}$\n",
       "$\\newcommand{\\SIII}{[\\ion{S}{iii}] }$\n",
       "$\\newcommand{\\SIIIp}{[\\ion{S}{iii}]}$\n",
       "$\\newcommand{\\ArII}{[\\ion{Ar}{ii}] }$\n",
       "$\\newcommand{\\ArIIp}{[\\ion{Ar}{ii}]}$\n",
       "$\\newcommand{\\brg}{Br\\gamma}$\n",
       "$\\newcommand{\\pab}{Pa\\beta}$\n",
       "$\\newcommand{\\lacc}{L_{acc}}$\n",
       "$\\newcommand{\\lbol}{L_{bol}}$\n",
       "$\\newcommand{\\mjet}{\\dot{M}_{\\rm jet}}$\n",
       "$\\newcommand{\\mh}{\\dot{M}_{H_2}}$\n",
       "$\\newcommand{\\Ne}{n_e}$\n",
       "$\\newcommand{\\h}{H_2}$\n",
       "$\\newcommand{\\kms}{km s^{-1}}$\n",
       "$\\newcommand{\\um}{\\mum}$\n",
       "$\\newcommand{\\lam}{\\lambda}$\n",
       "$\\newcommand{\\msyr}{M_{\\sun} yr^{-1}}$\n",
       "$\\newcommand{\\Av}{A_V }$\n",
       "$\\newcommand{\\rsun}{R_{\\sun}}$\n",
       "$\\newcommand{\\cm}{cm^{-3}}$\n",
       "$\\newcommand{\\ergscm}{erg s^{-1} cm^{-2}}$</div>\n",
       "\n",
       "\n",
       "\n",
       "<div id=\"title\">\n",
       "\n",
       "# JWST Observations of Young protoStars (JOYS): HH 211: the textbook case of a protostellar jet and outflow\n",
       "\n",
       "</div>\n",
       "<div id=\"comments\">\n",
       "\n",
       "[![arXiv](https://img.shields.io/badge/arXiv-2409.16061-b31b1b.svg)](https://arxiv.org/abs/2409.16061)<mark>Appeared on: 2024-09-25</mark> -  _Paper accepted in A&A for publication_\n",
       "\n",
       "</div>\n",
       "<div id=\"authors\">\n",
       "\n",
       "A. C. o. Garatti, et al. -- incl., <mark>M. McCaughrean</mark>, <mark>H. Beuther</mark>, <mark>S. Reyes</mark>, <mark>T. Henning</mark>\n",
       "\n",
       "</div>\n",
       "<div id=\"abstract\">\n",
       "\n",
       "**Abstract:** Due to the high visual extinction and lack of sensitive mid-IR telescopes, the origin and properties of outflows and jets from embedded Class 0 protostars are still poorly constrained. We aim at characterising the physical, kinematic, and dynamical properties of the $\\object{HH 211}$ jet and outflow, one of the youngest protostellar flows. We use the $_ James Webb Space Telescope_$ (JWST) and its Mid-Infrared Instrument (MIRI) in the 5--28 $\\mu$ m range, to study the embedded $\\object{HH 211}$ flow. We map a 0 $\\farcm$ 95 $\\times$ 0 $\\farcm$ 22 region, covering the full extent of the blue-shifted lobe, the central protostellar region, and a small portion of the red-shifted lobe. We extract spectra along the jet and outflow and construct line and excitation maps of both atomic and molecular lines. Additional JWST NIRCam $H_2$ narrow-band images (at 2.122 and 3.235 $\\mu$ m) provide a visual-extinction map of the whole flow, and are used to deredden our data. The jet driving source is not detected even at the longest mid-IR wavelengths. The overall morphology of the flow consists of a highly collimated jet, mostly molecular ($H_2$ , HD) with an inner atomic ( $\\FeIp$ , $\\FeIIp$ , $\\SIp$ , $\\NiIIp$ ) structure. The jet shocks the ambient medium, producing several large bow-shocks, rich in forbidden atomic ( $\\FeIIp$ , $\\SIp$ , $\\NiIIp$ , $\\ClIp$ , $\\ClIIp$ , $\\ArIIp$ , $\\CoIIp$ , $\\NeIIp$ , $\\SIIIp$ ) and molecular lines ($H_2$ , HD, CO, OH, $H_2$ O, $CO_2$ , HCO $^+$ ), and is driving an $H_2$ molecular outflow, mostly traced by low- $J$ , $v=0$ transitions.   Moreover, $H_2$ 0-0 S(1) uncollimated emission is also detected down to 2 $\\arcsec$ --3 $\\arcsec$ ( $\\sim$ 650--1000 au) from the source, tracing a cold ( $T$ =200--400 K), less dense and poorly collimated molecular wind. Two $H_2$ components (warm, $T$ =300--1000 K, and hot, $T$ =1000--3500 K) are detected along the jet and outflow.   The atomic jet ( $\\FeII$ at 26 $\\mu$ m) is detected down to $\\sim$ 130 au from source, whereas the lack of $H_2$ emission (at 17 $\\mu$ m) close to the source is likely due to the large visual extinction ( $\\Av$ $>$ 80 mag).   Dust continuum-emission is detected at the terminal bow-shocks, and in the blue- and red-shifted jet, being likely dust lifted from the disk. The jet shows an onion-like structure, with layers of different size, velocity, temperature, and chemical composition.   Moreover, moving from the inner jet to the outer bow-shocks, different physical, kinematic and excitation conditions for both molecular and atomic gas are observed. The jet mass-flux rate, momentum, and momentum flux of the warm $H_2$ component are up to one order of magnitude higher than those inferred from the atomic jet component.   Our findings indicate that the warm $H_2$ component is the primary mover of the outflow, namely it is the most significant dynamical component of the jet, in contrast to jets from more evolved YSOs, where the atomic component is dominant.\n",
       "\n",
       "</div>\n",
       "\n",
       "<div id=\"div_fig1\">\n",
       "\n",
       "<img src=\"tmp_2409.16061/./figures/tricolor_3.jpg\" alt=\"Fig19\" width=\"100%\"/>\n",
       "\n",
       "**Figure 19. -** Tricolour MIRI-MRS map of $H_2$ 0-0 S(7) (at 5.5 $\\mu$m, in blue), $H_2$ 0-0 S(1) (at 17 $\\mu$m, in green), and $\\FeII$(at 26 $\\mu$m, in red) emission lines. The white circle marks the position of the ALMA mm continuum source. Black and white contours indicate the position (on the blue- and red-shifted lobe side, respectively) of continuum emission integrated between 25.3 and 25.9 $\\mu$m (displayed contours are at 3, 5, and 50 $\\sigma$; 1 $\\sigma$=4 MJy sr$^{-1}$). Knots and bow-shocks (BS) showing continuum emission are indicated. (*fig:MIRI-tricolor*)\n",
       "\n",
       "</div>\n",
       "<div id=\"div_fig2\">\n",
       "\n",
       "<img src=\"tmp_2409.16061/./figures/HD23um_astro.png\" alt=\"Fig12.1\" width=\"25%\"/><img src=\"tmp_2409.16061/./figures/CO.png\" alt=\"Fig12.2\" width=\"25%\"/><img src=\"tmp_2409.16061/./figures/NiII.png\" alt=\"Fig12.3\" width=\"25%\"/><img src=\"tmp_2409.16061/./figures/ClI.png\" alt=\"Fig12.4\" width=\"25%\"/>\n",
       "\n",
       "**Figure 12. -** \n",
       "   Additional line maps of some bright features detected along HH 211. From top to bottom: HD 0-0 R(4) at 23.03 $\\mu$m, CO (1-0) lines from 4.96 to 4.98 $\\mu$m, $\\NiI$I at 6.64 $\\mu$m, $\\ClI$ at 11.33 $\\mu$m. The magenta circle shows the position of the ALMA mm continuum source. Integrated flux is in mJy pixel$^{-1}$.  (*fig:all_maps*)\n",
       "\n",
       "</div>\n",
       "<div id=\"div_fig3\">\n",
       "\n",
       "<img src=\"tmp_2409.16061/./figures/v_map_SI25_clean.jpg\" alt=\"Fig15.1\" width=\"33%\"/><img src=\"tmp_2409.16061/./figures/v_map_FeI._clean.jpg\" alt=\"Fig15.2\" width=\"33%\"/><img src=\"tmp_2409.16061/./figures/v_map_FeII17_clean3.jpg\" alt=\"Fig15.3\" width=\"33%\"/>\n",
       "\n",
       "**Figure 15. -** $\\SI$ at 25 $\\mu$m (top panel) and $\\FeI$ at 24 $\\mu$m (middle panel) and $\\FeII$ at 17.9 $\\mu$m (bottom panel) velocity maps. Black contours in the top and bottom panels show the integrated continuum-subtracted line intensity at 5$\\sigma$(0.8 mJy pixel$^{-1}$). Bottom panel black contours are at 5, 50, 100, and 500 $\\sigma$(namely, 0.5, 5, 10, and 50 mJy pixel$^{-1}$\n",
       "    Only velocities within a 5$\\sigma$ threshold are plotted. The magenta circle shows the position of the ALMA mm continuum source. (*fig:atomic_vmap*)\n",
       "\n",
       "</div><div id=\"qrcode\"><img src=https://api.qrserver.com/v1/create-qr-code/?size=100x100&data=\"https://arxiv.org/abs/2409.16061\"></div>"
      ],
      "text/plain": [
       "<IPython.core.display.Markdown object>"
      ]
     },
     "metadata": {},
     "output_type": "display_data"
    }
   ],
   "source": [
    "[display(Markdown(k[1])) for k in documents];"
   ]
  },
  {
   "cell_type": "markdown",
   "id": "873873a4",
   "metadata": {
    "papermill": {
     "duration": 0.005301,
     "end_time": "2024-09-25T04:12:05.075200",
     "exception": false,
     "start_time": "2024-09-25T04:12:05.069899",
     "status": "completed"
    },
    "tags": []
   },
   "source": [
    "# Create HTML index"
   ]
  },
  {
   "cell_type": "code",
   "execution_count": 10,
   "id": "cf665672",
   "metadata": {
    "execution": {
     "iopub.execute_input": "2024-09-25T04:12:05.087252Z",
     "iopub.status.busy": "2024-09-25T04:12:05.086739Z",
     "iopub.status.idle": "2024-09-25T04:12:05.095338Z",
     "shell.execute_reply": "2024-09-25T04:12:05.094773Z"
    },
    "papermill": {
     "duration": 0.015878,
     "end_time": "2024-09-25T04:12:05.096390",
     "exception": false,
     "start_time": "2024-09-25T04:12:05.080512",
     "status": "completed"
    },
    "tags": []
   },
   "outputs": [
    {
     "name": "stdout",
     "output_type": "stream",
     "text": [
      "194  publications files modified in the last 7 days.\n"
     ]
    }
   ],
   "source": [
    "from datetime import datetime, timedelta, timezone\n",
    "from glob import glob\n",
    "import os\n",
    "\n",
    "files = glob('_build/html/*.md')\n",
    "days = 7\n",
    "now = datetime.today()\n",
    "res = []\n",
    "for fk in files:\n",
    "    stat_result = os.stat(fk).st_ctime\n",
    "    modified = datetime.fromtimestamp(stat_result, tz=timezone.utc).replace(tzinfo=None)\n",
    "    delta = now.today() - modified\n",
    "    if delta <= timedelta(days=days):\n",
    "        res.append((delta.seconds, fk))\n",
    "res = [k[1] for k in reversed(sorted(res, key=lambda x:x[1]))]\n",
    "npub = len(res)\n",
    "print(len(res), f\" publications files modified in the last {days:d} days.\")\n",
    "# [ print('\\t', k) for k in res ];"
   ]
  },
  {
   "cell_type": "code",
   "execution_count": 11,
   "id": "015de740",
   "metadata": {
    "execution": {
     "iopub.execute_input": "2024-09-25T04:12:05.108430Z",
     "iopub.status.busy": "2024-09-25T04:12:05.107972Z",
     "iopub.status.idle": "2024-09-25T04:12:05.122706Z",
     "shell.execute_reply": "2024-09-25T04:12:05.122099Z"
    },
    "papermill": {
     "duration": 0.021857,
     "end_time": "2024-09-25T04:12:05.123798",
     "exception": false,
     "start_time": "2024-09-25T04:12:05.101941",
     "status": "completed"
    },
    "tags": []
   },
   "outputs": [
    {
     "name": "stdout",
     "output_type": "stream",
     "text": [
      "14  publications in the last 7 days.\n"
     ]
    }
   ],
   "source": [
    "import datetime\n",
    "from glob import glob\n",
    "\n",
    "def get_last_n_days(lst, days=1):\n",
    "    \"\"\" Get the documents from the last n days \"\"\"\n",
    "    sorted_lst = sorted(lst, key=lambda x: x[1], reverse=True)\n",
    "    for fname, date in sorted_lst:\n",
    "        if date >= str(datetime.date.today() - datetime.timedelta(days=days)):\n",
    "            yield fname\n",
    "\n",
    "def extract_appearance_dates(lst_file):\n",
    "    dates = []\n",
    "\n",
    "    def get_date(line):\n",
    "        return line\\\n",
    "            .split('Appeared on:')[-1]\\\n",
    "            .split('</mark>')[0].strip()\n",
    "\n",
    "    for fname in lst:\n",
    "        with open(fname, 'r') as f:\n",
    "            found_date = False\n",
    "            for line in f:\n",
    "                if not found_date:\n",
    "                    if \"Appeared on\" in line:\n",
    "                        found_date = True\n",
    "                        dates.append((fname, get_date(line)))\n",
    "                else:\n",
    "                    break\n",
    "    return dates\n",
    "\n",
    "from glob import glob\n",
    "lst = glob('_build/html/*md')\n",
    "days = 7\n",
    "dates = extract_appearance_dates(lst)\n",
    "res = list(get_last_n_days(dates, days))\n",
    "npub = len(res)\n",
    "print(len(res), f\" publications in the last {days:d} days.\")"
   ]
  },
  {
   "cell_type": "code",
   "execution_count": 12,
   "id": "52ca0208",
   "metadata": {
    "execution": {
     "iopub.execute_input": "2024-09-25T04:12:05.136183Z",
     "iopub.status.busy": "2024-09-25T04:12:05.135703Z",
     "iopub.status.idle": "2024-09-25T04:12:05.140710Z",
     "shell.execute_reply": "2024-09-25T04:12:05.140141Z"
    },
    "papermill": {
     "duration": 0.012205,
     "end_time": "2024-09-25T04:12:05.141715",
     "exception": false,
     "start_time": "2024-09-25T04:12:05.129510",
     "status": "completed"
    },
    "scrolled": false,
    "tags": []
   },
   "outputs": [],
   "source": [
    "def create_carousel(npub=4):\n",
    "    \"\"\" Generate the HTML code for a carousel with `npub` slides \"\"\"\n",
    "    carousel = [\"\"\"  <div class=\"carousel\" \"\"\",\n",
    "                \"\"\"       data-flickity='{ \"autoPlay\": 10000, \"adaptiveHeight\": true, \"resize\": true, \"wrapAround\": true, \"pauseAutoPlayOnHover\": true, \"groupCells\": 1 }' id=\"asyncTypeset\">\"\"\"\n",
    "                ]\n",
    "    \n",
    "    item_str = \"\"\"    <div class=\"carousel-cell\"> <div id=\"slide{k}\" class=\"md_view\">Content {k}</div> </div>\"\"\"\n",
    "    for k in range(1, npub + 1):\n",
    "        carousel.append(item_str.format(k=k))\n",
    "    carousel.append(\"  </div>\")\n",
    "    return '\\n'.join(carousel)\n",
    "\n",
    "def create_grid(npub=4):\n",
    "    \"\"\" Generate the HTML code for a flat grid with `npub` slides \"\"\"\n",
    "    grid = [\"\"\"  <div class=\"grid\"> \"\"\",\n",
    "                ]\n",
    "    \n",
    "    item_str = \"\"\"    <div class=\"grid-item\"> <div id=\"slide{k}\" class=\"md_view\">Content {k}</div> </div>\"\"\"\n",
    "    for k in range(1, npub + 1):\n",
    "        grid.append(item_str.format(k=k))\n",
    "    grid.append(\"  </div>\")\n",
    "    return '\\n'.join(grid)"
   ]
  },
  {
   "cell_type": "code",
   "execution_count": 13,
   "id": "a6eac5b6",
   "metadata": {
    "execution": {
     "iopub.execute_input": "2024-09-25T04:12:05.153988Z",
     "iopub.status.busy": "2024-09-25T04:12:05.153539Z",
     "iopub.status.idle": "2024-09-25T04:12:05.158823Z",
     "shell.execute_reply": "2024-09-25T04:12:05.158180Z"
    },
    "papermill": {
     "duration": 0.012372,
     "end_time": "2024-09-25T04:12:05.159812",
     "exception": false,
     "start_time": "2024-09-25T04:12:05.147440",
     "status": "completed"
    },
    "scrolled": false,
    "tags": []
   },
   "outputs": [],
   "source": [
    "carousel = create_carousel(npub)\n",
    "docs = ', '.join(['\"{0:s}\"'.format(k.split('/')[-1]) for k in res])\n",
    "slides = ', '.join([f'\"slide{k}\"' for k in range(1, npub + 1)])\n",
    "\n",
    "with open(\"daily_template.html\", \"r\") as tpl:\n",
    "    page = tpl.read()\n",
    "    page = page.replace(\"{%-- carousel:s --%}\", carousel)\\\n",
    "               .replace(\"{%-- suptitle:s --%}\",  \"7-day archives\" )\\\n",
    "               .replace(\"{%-- docs:s --%}\", docs)\\\n",
    "               .replace(\"{%-- slides:s --%}\", slides)\n",
    "    \n",
    "with open(\"_build/html/index_7days.html\", 'w') as fout:\n",
    "    fout.write(page)"
   ]
  },
  {
   "cell_type": "code",
   "execution_count": 14,
   "id": "adc1a1ec",
   "metadata": {
    "execution": {
     "iopub.execute_input": "2024-09-25T04:12:05.172409Z",
     "iopub.status.busy": "2024-09-25T04:12:05.171914Z",
     "iopub.status.idle": "2024-09-25T04:12:05.178911Z",
     "shell.execute_reply": "2024-09-25T04:12:05.178229Z"
    },
    "papermill": {
     "duration": 0.01447,
     "end_time": "2024-09-25T04:12:05.179949",
     "exception": false,
     "start_time": "2024-09-25T04:12:05.165479",
     "status": "completed"
    },
    "tags": []
   },
   "outputs": [
    {
     "name": "stdout",
     "output_type": "stream",
     "text": [
      "5  publications in the last day.\n"
     ]
    }
   ],
   "source": [
    "# redo for today\n",
    "days = 1\n",
    "res = list(get_last_n_days(dates, days))\n",
    "npub = len(res)\n",
    "print(len(res), f\" publications in the last day.\")\n",
    "\n",
    "carousel = create_carousel(npub)\n",
    "docs = ', '.join(['\"{0:s}\"'.format(k.split('/')[-1]) for k in res])\n",
    "slides = ', '.join([f'\"slide{k}\"' for k in range(1, npub + 1)])\n",
    "\n",
    "with open(\"daily_template.html\", \"r\") as tpl:\n",
    "    page = tpl.read()\n",
    "    page = page.replace(\"{%-- carousel:s --%}\", carousel)\\\n",
    "               .replace(\"{%-- suptitle:s --%}\",  \"Daily\" )\\\n",
    "               .replace(\"{%-- docs:s --%}\", docs)\\\n",
    "               .replace(\"{%-- slides:s --%}\", slides)\n",
    "    \n",
    "# print(carousel, docs, slides)\n",
    "# print(page)\n",
    "with open(\"_build/html/index_daily.html\", 'w') as fout:\n",
    "    fout.write(page)"
   ]
  },
  {
   "cell_type": "code",
   "execution_count": 15,
   "id": "00eece82",
   "metadata": {
    "execution": {
     "iopub.execute_input": "2024-09-25T04:12:05.192850Z",
     "iopub.status.busy": "2024-09-25T04:12:05.192245Z",
     "iopub.status.idle": "2024-09-25T04:12:05.199154Z",
     "shell.execute_reply": "2024-09-25T04:12:05.198473Z"
    },
    "papermill": {
     "duration": 0.01433,
     "end_time": "2024-09-25T04:12:05.200177",
     "exception": false,
     "start_time": "2024-09-25T04:12:05.185847",
     "status": "completed"
    },
    "scrolled": false,
    "tags": []
   },
   "outputs": [
    {
     "name": "stdout",
     "output_type": "stream",
     "text": [
      "6  6 publications selected.\n"
     ]
    }
   ],
   "source": [
    "# Create the flat grid of the last N papers (fixed number regardless of dates)\n",
    "from itertools import islice \n",
    "\n",
    "npub = 6\n",
    "res = [k[0] for k in (islice(reversed(sorted(dates, key=lambda x: x[1])), 6))]\n",
    "print(len(res), f\" {npub} publications selected.\")\n",
    "\n",
    "grid = create_grid(npub)\n",
    "docs = ', '.join(['\"{0:s}\"'.format(k.split('/')[-1]) for k in res])\n",
    "slides = ', '.join([f'\"slide{k}\"' for k in range(1, npub + 1)])\n",
    "\n",
    "with open(\"grid_template.html\", \"r\") as tpl:\n",
    "    page = tpl.read()\n",
    "    page = page.replace(\"{%-- grid-content:s --%}\", grid)\\\n",
    "               .replace(\"{%-- suptitle:s --%}\",  f\"Last {npub:,d} papers\" )\\\n",
    "               .replace(\"{%-- docs:s --%}\", docs)\\\n",
    "               .replace(\"{%-- slides:s --%}\", slides)\n",
    "    \n",
    "# print(grid, docs, slides)\n",
    "# print(page)\n",
    "with open(\"_build/html/index_npub_grid.html\", 'w') as fout:\n",
    "    fout.write(page)"
   ]
  }
 ],
 "metadata": {
  "kernelspec": {
   "display_name": "Python 3 (ipykernel)",
   "language": "python",
   "name": "python3"
  },
  "language_info": {
   "codemirror_mode": {
    "name": "ipython",
    "version": 3
   },
   "file_extension": ".py",
   "mimetype": "text/x-python",
   "name": "python",
   "nbconvert_exporter": "python",
   "pygments_lexer": "ipython3",
   "version": "3.9.20"
  },
  "papermill": {
   "default_parameters": {},
   "duration": 62.125902,
   "end_time": "2024-09-25T04:12:05.522987",
   "environment_variables": {},
   "exception": null,
   "input_path": "MPIA daily digest.ipynb",
   "output_path": "log.ipynb",
   "parameters": {},
   "start_time": "2024-09-25T04:11:03.397085",
   "version": "2.6.0"
  },
  "vscode": {
   "interpreter": {
    "hash": "aee8b7b246df8f9039afb4144a1f6fd8d2ca17a180786b69acc140d282b71a49"
   }
  },
  "widgets": {
   "application/vnd.jupyter.widget-state+json": {
    "state": {
     "1317c623dd8c4808beb2f372f50b9c1a": {
      "model_module": "@jupyter-widgets/controls",
      "model_module_version": "2.0.0",
      "model_name": "HTMLModel",
      "state": {
       "_dom_classes": [],
       "_model_module": "@jupyter-widgets/controls",
       "_model_module_version": "2.0.0",
       "_model_name": "HTMLModel",
       "_view_count": null,
       "_view_module": "@jupyter-widgets/controls",
       "_view_module_version": "2.0.0",
       "_view_name": "HTMLView",
       "description": "",
       "description_allow_html": false,
       "layout": "IPY_MODEL_5e84466b175c4b95984259e1619b6e75",
       "placeholder": "​",
       "style": "IPY_MODEL_6d1f848e4f2140d385485ca4de38df57",
       "tabbable": null,
       "tooltip": null,
       "value": " 4/4 [00:38&lt;00:00,  9.32s/it]"
      }
     },
     "482150b61af2492a8900abcfceac0138": {
      "model_module": "@jupyter-widgets/base",
      "model_module_version": "2.0.0",
      "model_name": "LayoutModel",
      "state": {
       "_model_module": "@jupyter-widgets/base",
       "_model_module_version": "2.0.0",
       "_model_name": "LayoutModel",
       "_view_count": null,
       "_view_module": "@jupyter-widgets/base",
       "_view_module_version": "2.0.0",
       "_view_name": "LayoutView",
       "align_content": null,
       "align_items": null,
       "align_self": null,
       "border_bottom": null,
       "border_left": null,
       "border_right": null,
       "border_top": null,
       "bottom": null,
       "display": null,
       "flex": null,
       "flex_flow": null,
       "grid_area": null,
       "grid_auto_columns": null,
       "grid_auto_flow": null,
       "grid_auto_rows": null,
       "grid_column": null,
       "grid_gap": null,
       "grid_row": null,
       "grid_template_areas": null,
       "grid_template_columns": null,
       "grid_template_rows": null,
       "height": null,
       "justify_content": null,
       "justify_items": null,
       "left": null,
       "margin": null,
       "max_height": null,
       "max_width": null,
       "min_height": null,
       "min_width": null,
       "object_fit": null,
       "object_position": null,
       "order": null,
       "overflow": null,
       "padding": null,
       "right": null,
       "top": null,
       "visibility": null,
       "width": null
      }
     },
     "5e84466b175c4b95984259e1619b6e75": {
      "model_module": "@jupyter-widgets/base",
      "model_module_version": "2.0.0",
      "model_name": "LayoutModel",
      "state": {
       "_model_module": "@jupyter-widgets/base",
       "_model_module_version": "2.0.0",
       "_model_name": "LayoutModel",
       "_view_count": null,
       "_view_module": "@jupyter-widgets/base",
       "_view_module_version": "2.0.0",
       "_view_name": "LayoutView",
       "align_content": null,
       "align_items": null,
       "align_self": null,
       "border_bottom": null,
       "border_left": null,
       "border_right": null,
       "border_top": null,
       "bottom": null,
       "display": null,
       "flex": null,
       "flex_flow": null,
       "grid_area": null,
       "grid_auto_columns": null,
       "grid_auto_flow": null,
       "grid_auto_rows": null,
       "grid_column": null,
       "grid_gap": null,
       "grid_row": null,
       "grid_template_areas": null,
       "grid_template_columns": null,
       "grid_template_rows": null,
       "height": null,
       "justify_content": null,
       "justify_items": null,
       "left": null,
       "margin": null,
       "max_height": null,
       "max_width": null,
       "min_height": null,
       "min_width": null,
       "object_fit": null,
       "object_position": null,
       "order": null,
       "overflow": null,
       "padding": null,
       "right": null,
       "top": null,
       "visibility": null,
       "width": null
      }
     },
     "6509d4b211a6494d8fe6ad723dc20b9c": {
      "model_module": "@jupyter-widgets/controls",
      "model_module_version": "2.0.0",
      "model_name": "HTMLStyleModel",
      "state": {
       "_model_module": "@jupyter-widgets/controls",
       "_model_module_version": "2.0.0",
       "_model_name": "HTMLStyleModel",
       "_view_count": null,
       "_view_module": "@jupyter-widgets/base",
       "_view_module_version": "2.0.0",
       "_view_name": "StyleView",
       "background": null,
       "description_width": "",
       "font_size": null,
       "text_color": null
      }
     },
     "6d1f848e4f2140d385485ca4de38df57": {
      "model_module": "@jupyter-widgets/controls",
      "model_module_version": "2.0.0",
      "model_name": "HTMLStyleModel",
      "state": {
       "_model_module": "@jupyter-widgets/controls",
       "_model_module_version": "2.0.0",
       "_model_name": "HTMLStyleModel",
       "_view_count": null,
       "_view_module": "@jupyter-widgets/base",
       "_view_module_version": "2.0.0",
       "_view_name": "StyleView",
       "background": null,
       "description_width": "",
       "font_size": null,
       "text_color": null
      }
     },
     "803aec7b544a4f25b79d0a6792260ec0": {
      "model_module": "@jupyter-widgets/base",
      "model_module_version": "2.0.0",
      "model_name": "LayoutModel",
      "state": {
       "_model_module": "@jupyter-widgets/base",
       "_model_module_version": "2.0.0",
       "_model_name": "LayoutModel",
       "_view_count": null,
       "_view_module": "@jupyter-widgets/base",
       "_view_module_version": "2.0.0",
       "_view_name": "LayoutView",
       "align_content": null,
       "align_items": null,
       "align_self": null,
       "border_bottom": null,
       "border_left": null,
       "border_right": null,
       "border_top": null,
       "bottom": null,
       "display": null,
       "flex": null,
       "flex_flow": null,
       "grid_area": null,
       "grid_auto_columns": null,
       "grid_auto_flow": null,
       "grid_auto_rows": null,
       "grid_column": null,
       "grid_gap": null,
       "grid_row": null,
       "grid_template_areas": null,
       "grid_template_columns": null,
       "grid_template_rows": null,
       "height": null,
       "justify_content": null,
       "justify_items": null,
       "left": null,
       "margin": null,
       "max_height": null,
       "max_width": null,
       "min_height": null,
       "min_width": null,
       "object_fit": null,
       "object_position": null,
       "order": null,
       "overflow": null,
       "padding": null,
       "right": null,
       "top": null,
       "visibility": null,
       "width": null
      }
     },
     "815d525f983f462c89f42c11cef6ef1c": {
      "model_module": "@jupyter-widgets/controls",
      "model_module_version": "2.0.0",
      "model_name": "FloatProgressModel",
      "state": {
       "_dom_classes": [],
       "_model_module": "@jupyter-widgets/controls",
       "_model_module_version": "2.0.0",
       "_model_name": "FloatProgressModel",
       "_view_count": null,
       "_view_module": "@jupyter-widgets/controls",
       "_view_module_version": "2.0.0",
       "_view_name": "ProgressView",
       "bar_style": "success",
       "description": "",
       "description_allow_html": false,
       "layout": "IPY_MODEL_f34aae4de418485cb8a8b1693b0cb728",
       "max": 4.0,
       "min": 0.0,
       "orientation": "horizontal",
       "style": "IPY_MODEL_d338fb011dff464c910040ceab9f2f2e",
       "tabbable": null,
       "tooltip": null,
       "value": 4.0
      }
     },
     "b14ba25ff83647f3943c61159a8846ff": {
      "model_module": "@jupyter-widgets/controls",
      "model_module_version": "2.0.0",
      "model_name": "HBoxModel",
      "state": {
       "_dom_classes": [],
       "_model_module": "@jupyter-widgets/controls",
       "_model_module_version": "2.0.0",
       "_model_name": "HBoxModel",
       "_view_count": null,
       "_view_module": "@jupyter-widgets/controls",
       "_view_module_version": "2.0.0",
       "_view_name": "HBoxView",
       "box_style": "",
       "children": [
        "IPY_MODEL_ef135aef284d47549c6fd694b1290717",
        "IPY_MODEL_815d525f983f462c89f42c11cef6ef1c",
        "IPY_MODEL_1317c623dd8c4808beb2f372f50b9c1a"
       ],
       "layout": "IPY_MODEL_803aec7b544a4f25b79d0a6792260ec0",
       "tabbable": null,
       "tooltip": null
      }
     },
     "d338fb011dff464c910040ceab9f2f2e": {
      "model_module": "@jupyter-widgets/controls",
      "model_module_version": "2.0.0",
      "model_name": "ProgressStyleModel",
      "state": {
       "_model_module": "@jupyter-widgets/controls",
       "_model_module_version": "2.0.0",
       "_model_name": "ProgressStyleModel",
       "_view_count": null,
       "_view_module": "@jupyter-widgets/base",
       "_view_module_version": "2.0.0",
       "_view_name": "StyleView",
       "bar_color": null,
       "description_width": ""
      }
     },
     "ef135aef284d47549c6fd694b1290717": {
      "model_module": "@jupyter-widgets/controls",
      "model_module_version": "2.0.0",
      "model_name": "HTMLModel",
      "state": {
       "_dom_classes": [],
       "_model_module": "@jupyter-widgets/controls",
       "_model_module_version": "2.0.0",
       "_model_name": "HTMLModel",
       "_view_count": null,
       "_view_module": "@jupyter-widgets/controls",
       "_view_module_version": "2.0.0",
       "_view_name": "HTMLView",
       "description": "",
       "description_allow_html": false,
       "layout": "IPY_MODEL_482150b61af2492a8900abcfceac0138",
       "placeholder": "​",
       "style": "IPY_MODEL_6509d4b211a6494d8fe6ad723dc20b9c",
       "tabbable": null,
       "tooltip": null,
       "value": "100%"
      }
     },
     "f34aae4de418485cb8a8b1693b0cb728": {
      "model_module": "@jupyter-widgets/base",
      "model_module_version": "2.0.0",
      "model_name": "LayoutModel",
      "state": {
       "_model_module": "@jupyter-widgets/base",
       "_model_module_version": "2.0.0",
       "_model_name": "LayoutModel",
       "_view_count": null,
       "_view_module": "@jupyter-widgets/base",
       "_view_module_version": "2.0.0",
       "_view_name": "LayoutView",
       "align_content": null,
       "align_items": null,
       "align_self": null,
       "border_bottom": null,
       "border_left": null,
       "border_right": null,
       "border_top": null,
       "bottom": null,
       "display": null,
       "flex": null,
       "flex_flow": null,
       "grid_area": null,
       "grid_auto_columns": null,
       "grid_auto_flow": null,
       "grid_auto_rows": null,
       "grid_column": null,
       "grid_gap": null,
       "grid_row": null,
       "grid_template_areas": null,
       "grid_template_columns": null,
       "grid_template_rows": null,
       "height": null,
       "justify_content": null,
       "justify_items": null,
       "left": null,
       "margin": null,
       "max_height": null,
       "max_width": null,
       "min_height": null,
       "min_width": null,
       "object_fit": null,
       "object_position": null,
       "order": null,
       "overflow": null,
       "padding": null,
       "right": null,
       "top": null,
       "visibility": null,
       "width": null
      }
     }
    },
    "version_major": 2,
    "version_minor": 0
   }
  }
 },
 "nbformat": 4,
 "nbformat_minor": 5
}