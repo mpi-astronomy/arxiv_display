{
 "cells": [
  {
   "cell_type": "markdown",
   "id": "92bcb855",
   "metadata": {
    "papermill": {
     "duration": 0.004878,
     "end_time": "2022-12-12T04:07:24.425201",
     "exception": false,
     "start_time": "2022-12-12T04:07:24.420323",
     "status": "completed"
    },
    "tags": []
   },
   "source": [
    "# MPIA Arxiv on Deck 2\n",
    "\n",
    "Contains the steps to produce the paper extractions."
   ]
  },
  {
   "cell_type": "code",
   "execution_count": 1,
   "id": "3a0d6e11",
   "metadata": {
    "execution": {
     "iopub.execute_input": "2022-12-12T04:07:24.435112Z",
     "iopub.status.busy": "2022-12-12T04:07:24.434570Z",
     "iopub.status.idle": "2022-12-12T04:07:24.632025Z",
     "shell.execute_reply": "2022-12-12T04:07:24.631411Z"
    },
    "papermill": {
     "duration": 0.204171,
     "end_time": "2022-12-12T04:07:24.633832",
     "exception": false,
     "start_time": "2022-12-12T04:07:24.429661",
     "status": "completed"
    },
    "tags": []
   },
   "outputs": [],
   "source": [
    "# Imports\n",
    "import os\n",
    "from IPython.display import Markdown, display\n",
    "from tqdm.notebook import tqdm\n",
    "import warnings\n",
    "from PIL import Image \n",
    "\n",
    "# requires arxiv_on_deck_2\n",
    "\n",
    "from arxiv_on_deck_2.arxiv2 import (get_new_papers, \n",
    "                                    get_paper_from_identifier,\n",
    "                                    retrieve_document_source, \n",
    "                                    get_markdown_badge)\n",
    "from arxiv_on_deck_2 import (latex, \n",
    "                             mpia,\n",
    "                             highlight_authors_in_list)\n",
    "\n",
    "# Sometimes images are really big\n",
    "Image.MAX_IMAGE_PIXELS = 1000000000 "
   ]
  },
  {
   "cell_type": "code",
   "execution_count": 2,
   "id": "22aa9d44",
   "metadata": {
    "execution": {
     "iopub.execute_input": "2022-12-12T04:07:24.643476Z",
     "iopub.status.busy": "2022-12-12T04:07:24.642903Z",
     "iopub.status.idle": "2022-12-12T04:07:24.647510Z",
     "shell.execute_reply": "2022-12-12T04:07:24.647053Z"
    },
    "papermill": {
     "duration": 0.010997,
     "end_time": "2022-12-12T04:07:24.648909",
     "exception": false,
     "start_time": "2022-12-12T04:07:24.637912",
     "status": "completed"
    },
    "tags": []
   },
   "outputs": [],
   "source": [
    "# Some useful definitions.\n",
    "\n",
    "class AffiliationWarning(UserWarning):\n",
    "    pass\n",
    "\n",
    "class AffiliationError(RuntimeError):\n",
    "    pass\n",
    "\n",
    "def validation(source: str):\n",
    "    \"\"\"Raises error paper during parsing of source file\n",
    "    \n",
    "    Allows checks before parsing TeX code.\n",
    "    \n",
    "    Raises AffiliationWarning\n",
    "    \"\"\"\n",
    "    check = mpia.affiliation_verifications(source, verbose=True)\n",
    "    if check is not True:\n",
    "        raise AffiliationError(\"mpia.affiliation_verifications: \" + check)\n",
    "\n",
    "        \n",
    "warnings.simplefilter('always', AffiliationWarning)"
   ]
  },
  {
   "cell_type": "code",
   "execution_count": 3,
   "id": "14622700",
   "metadata": {
    "execution": {
     "iopub.execute_input": "2022-12-12T04:07:24.657479Z",
     "iopub.status.busy": "2022-12-12T04:07:24.657150Z",
     "iopub.status.idle": "2022-12-12T04:07:24.660669Z",
     "shell.execute_reply": "2022-12-12T04:07:24.660095Z"
    },
    "papermill": {
     "duration": 0.009586,
     "end_time": "2022-12-12T04:07:24.662266",
     "exception": false,
     "start_time": "2022-12-12T04:07:24.652680",
     "status": "completed"
    },
    "tags": []
   },
   "outputs": [],
   "source": [
    "# additional CSS to consider. \n",
    "# TODO: Current into each exported file. \n",
    "#       This should be set once into the webpages directly.\n",
    "#       With only the class/id definitions in the .md files.\n",
    "\n",
    "debug_html = \"\"\"\n",
    "<style>\n",
    "#wrap{ overflow:auto; }\n",
    "#fig1{ background:yellow; width:100%; float:left; padding:5px;  }\n",
    "#fig2{ background:red; width:50%; float:left; clear:left; padding:5px;  }\n",
    "#fig3{ background:green; width:50%; float:left; padding:5px;   }\n",
    ".macros{ background:yellow; visibility:visible;}\n",
    "h1 {margin: 0 0 0 0;}\n",
    "mark {background-color:#fff3b6;}\n",
    "img {object-fit:contain; max-height:250px; display:inline-block; text-align: center;}\n",
    "</style>\n",
    "\"\"\" \n",
    "html = \"\"\"\n",
    "<style>\n",
    "#wrap{ overflow:auto; }\n",
    "#fig1{ width:100%; float:left; padding: 5px;  }\n",
    "#fig2{ width:50%; float:left; clear:left; padding: 5px;  }\n",
    "#fig3{ width:50%; float:left; padding: 5px;  }\n",
    ".macros{ visibility:hidden; height:0px; }\n",
    "h1 {margin: 0em 0 0 0;}\n",
    "mark {background-color:#fff3b6;}\n",
    "img {object-fit:contain; max-height:250px; display:inline-block; text-align: center;}\n",
    "</style>\n",
    "\"\"\""
   ]
  },
  {
   "cell_type": "markdown",
   "id": "14bd6310",
   "metadata": {
    "papermill": {
     "duration": 0.003803,
     "end_time": "2022-12-12T04:07:24.670118",
     "exception": false,
     "start_time": "2022-12-12T04:07:24.666315",
     "status": "completed"
    },
    "tags": []
   },
   "source": [
    "## get list of arxiv paper candidates\n",
    "\n",
    "We use the MPIA mitarbeiter list webpage from mpia.de to get author names\n",
    "We then get all new papers from Arxiv and match authors"
   ]
  },
  {
   "cell_type": "code",
   "execution_count": 4,
   "id": "2645e73a",
   "metadata": {
    "execution": {
     "iopub.execute_input": "2022-12-12T04:07:24.678726Z",
     "iopub.status.busy": "2022-12-12T04:07:24.678520Z",
     "iopub.status.idle": "2022-12-12T04:07:50.910554Z",
     "shell.execute_reply": "2022-12-12T04:07:50.909060Z"
    },
    "papermill": {
     "duration": 26.238216,
     "end_time": "2022-12-12T04:07:50.912150",
     "exception": false,
     "start_time": "2022-12-12T04:07:24.673934",
     "status": "completed"
    },
    "tags": []
   },
   "outputs": [
    {
     "name": "stdout",
     "output_type": "stream",
     "text": [
      "Arxiv has 44 new papers today\n",
      "          18 with possible author matches\n"
     ]
    }
   ],
   "source": [
    "# get list from MPIA website\n",
    "# it automatically filters identified non-scientists :func:`mpia.filter_non_scientists`\n",
    "mpia_authors = mpia.get_mpia_mitarbeiter_list()\n",
    "new_papers = get_new_papers()\n",
    "# add manual references\n",
    "add_paper_refs = []\n",
    "new_papers.extend([get_paper_from_identifier(k) for k in add_paper_refs])\n",
    "\n",
    "# select only papers with matching author names and highlight authors\n",
    "hl_list = [k[0] for k in mpia_authors]\n",
    "\n",
    "candidates = []\n",
    "for paperk in new_papers:\n",
    "    hl_authors = highlight_authors_in_list(paperk['authors'], hl_list)\n",
    "    matches = [(hl, orig) for hl, orig in zip(hl_authors, paperk['authors']) if 'mark' in hl]\n",
    "    paperk['authors'] = hl_authors\n",
    "    if matches:\n",
    "        candidates.append(paperk)\n",
    "print(\"\"\"Arxiv has {0:,d} new papers today\"\"\".format(len(new_papers)))        \n",
    "print(\"\"\"          {0:,d} with possible author matches\"\"\".format(len(candidates)))"
   ]
  },
  {
   "cell_type": "markdown",
   "id": "3543b34a",
   "metadata": {
    "papermill": {
     "duration": 0.004472,
     "end_time": "2022-12-12T04:07:50.920911",
     "exception": false,
     "start_time": "2022-12-12T04:07:50.916439",
     "status": "completed"
    },
    "tags": []
   },
   "source": [
    "# Parse sources and generate relevant outputs\n",
    "\n",
    "From the candidates, we do the following steps:\n",
    "* get their tarball from ArXiv (and extract data)\n",
    "* find the main .tex file: find one with \\documentclass{...} (sometimes it's non trivial)\n",
    "* Check affiliations with :func:`validation`, which uses :func:`mpia.affiliation_verifications`\n",
    "* If passing the affiliations: we parse the .tex source\n",
    "   * inject sub-documents into the main (flatten the main document)\n",
    "   * parse structure, extract information (title, abstract, authors, figures...)\n",
    "   * handles `\\graphicspath` if provided\n",
    "* Generate the .md document."
   ]
  },
  {
   "cell_type": "code",
   "execution_count": 5,
   "id": "9576b79e",
   "metadata": {
    "execution": {
     "iopub.execute_input": "2022-12-12T04:07:50.930851Z",
     "iopub.status.busy": "2022-12-12T04:07:50.929665Z",
     "iopub.status.idle": "2022-12-12T04:08:52.931882Z",
     "shell.execute_reply": "2022-12-12T04:08:52.931246Z"
    },
    "papermill": {
     "duration": 62.015363,
     "end_time": "2022-12-12T04:08:52.940231",
     "exception": false,
     "start_time": "2022-12-12T04:07:50.924868",
     "status": "completed"
    },
    "scrolled": false,
    "tags": []
   },
   "outputs": [
    {
     "data": {
      "application/vnd.jupyter.widget-view+json": {
       "model_id": "c5a133a3f564471e93539290424e05fa",
       "version_major": 2,
       "version_minor": 0
      },
      "text/plain": [
       "  0%|          | 0/17 [00:00<?, ?it/s]"
      ]
     },
     "metadata": {},
     "output_type": "display_data"
    },
    {
     "name": "stdout",
     "output_type": "stream",
     "text": [
      "Retrieving document from  https://arxiv.org/e-print/2212.04515\n"
     ]
    },
    {
     "name": "stdout",
     "output_type": "stream",
     "text": [
      "extracting tarball to tmp_2212.04515..."
     ]
    },
    {
     "name": "stdout",
     "output_type": "stream",
     "text": [
      " done.\n",
      "Retrieving document from  https://arxiv.org/e-print/2212.04521\n"
     ]
    },
    {
     "name": "stdout",
     "output_type": "stream",
     "text": [
      "extracting tarball to tmp_2212.04521..."
     ]
    },
    {
     "name": "stdout",
     "output_type": "stream",
     "text": [
      " done.\n",
      "Retrieving document from  https://arxiv.org/e-print/2212.04522\n"
     ]
    },
    {
     "name": "stderr",
     "output_type": "stream",
     "text": [
      "/opt/hostedtoolcache/Python/3.9.15/x64/lib/python3.9/site-packages/IPython/core/interactiveshell.py:3433: LatexWarning: Multiple tex files.\n",
      "\n",
      "  exec(code_obj, self.user_global_ns, self.user_ns)\n",
      "/opt/hostedtoolcache/Python/3.9.15/x64/lib/python3.9/site-packages/IPython/core/interactiveshell.py:3433: LatexWarning: Found documentclass in tmp_2212.04521/mnras_guide.tex\n",
      "\n",
      "  exec(code_obj, self.user_global_ns, self.user_ns)\n"
     ]
    },
    {
     "name": "stdout",
     "output_type": "stream",
     "text": [
      "extracting tarball to tmp_2212.04522..."
     ]
    },
    {
     "name": "stdout",
     "output_type": "stream",
     "text": [
      " done.\n",
      "Retrieving document from  https://arxiv.org/e-print/2212.04526\n"
     ]
    },
    {
     "name": "stderr",
     "output_type": "stream",
     "text": [
      "/opt/hostedtoolcache/Python/3.9.15/x64/lib/python3.9/site-packages/IPython/core/interactiveshell.py:3433: LatexWarning: Multiple tex files.\n",
      "\n",
      "  exec(code_obj, self.user_global_ns, self.user_ns)\n",
      "/opt/hostedtoolcache/Python/3.9.15/x64/lib/python3.9/site-packages/IPython/core/interactiveshell.py:3433: LatexWarning: Found documentclass in tmp_2212.04522/tale.tex\n",
      "\n",
      "  exec(code_obj, self.user_global_ns, self.user_ns)\n",
      "/opt/hostedtoolcache/Python/3.9.15/x64/lib/python3.9/site-packages/arxiv_on_deck_2/latex.py:292: LatexWarning: Latex injecting: 'variables.tex' from 'tmp_2212.04522/variables.tex'\n",
      "  warnings.warn(LatexWarning(f\"Latex injecting: '{ext}' from '{subsource}'\"))\n"
     ]
    },
    {
     "name": "stdout",
     "output_type": "stream",
     "text": [
      "extracting tarball to tmp_2212.04526... done.\n",
      "Retrieving document from  https://arxiv.org/e-print/2212.04568\n"
     ]
    },
    {
     "name": "stdout",
     "output_type": "stream",
     "text": [
      "extracting tarball to tmp_2212.04568..."
     ]
    },
    {
     "name": "stdout",
     "output_type": "stream",
     "text": [
      " done.\n"
     ]
    },
    {
     "name": "stderr",
     "output_type": "stream",
     "text": [
      "/tmp/ipykernel_2024/4030337529.py:34: LatexWarning: 2212.04568 did not run properly\n",
      "expected string or bytes-like object\n",
      "  warnings.warn(latex.LatexWarning(f\"{paper_id:s} did not run properly\\n\" +\n"
     ]
    },
    {
     "name": "stdout",
     "output_type": "stream",
     "text": [
      "Retrieving document from  https://arxiv.org/e-print/2212.04639\n"
     ]
    },
    {
     "name": "stdout",
     "output_type": "stream",
     "text": [
      "extracting tarball to tmp_2212.04639..."
     ]
    },
    {
     "name": "stdout",
     "output_type": "stream",
     "text": [
      " done.\n",
      "Retrieving document from  https://arxiv.org/e-print/2212.04648\n"
     ]
    },
    {
     "name": "stdout",
     "output_type": "stream",
     "text": [
      "extracting tarball to tmp_2212.04648..."
     ]
    },
    {
     "name": "stdout",
     "output_type": "stream",
     "text": [
      " done.\n",
      "Retrieving document from  https://arxiv.org/e-print/2212.04653\n"
     ]
    },
    {
     "name": "stderr",
     "output_type": "stream",
     "text": [
      "/opt/hostedtoolcache/Python/3.9.15/x64/lib/python3.9/site-packages/IPython/core/interactiveshell.py:3433: LatexWarning: Multiple tex files.\n",
      "\n",
      "  exec(code_obj, self.user_global_ns, self.user_ns)\n",
      "/opt/hostedtoolcache/Python/3.9.15/x64/lib/python3.9/site-packages/IPython/core/interactiveshell.py:3433: LatexWarning: Found documentclass in tmp_2212.04648/mnras_guide.tex\n",
      "\n",
      "  exec(code_obj, self.user_global_ns, self.user_ns)\n"
     ]
    },
    {
     "name": "stdout",
     "output_type": "stream",
     "text": [
      "extracting tarball to tmp_2212.04653..."
     ]
    },
    {
     "name": "stdout",
     "output_type": "stream",
     "text": [
      " done.\n",
      "Retrieving document from  https://arxiv.org/e-print/2212.04674\n"
     ]
    },
    {
     "name": "stdout",
     "output_type": "stream",
     "text": [
      "extracting tarball to tmp_2212.04674..."
     ]
    },
    {
     "name": "stdout",
     "output_type": "stream",
     "text": [
      " done.\n",
      "Retrieving document from  https://arxiv.org/e-print/2212.04702\n"
     ]
    },
    {
     "name": "stderr",
     "output_type": "stream",
     "text": [
      "/opt/hostedtoolcache/Python/3.9.15/x64/lib/python3.9/site-packages/IPython/core/interactiveshell.py:3433: LatexWarning: Multiple tex files.\n",
      "\n",
      "  exec(code_obj, self.user_global_ns, self.user_ns)\n",
      "/opt/hostedtoolcache/Python/3.9.15/x64/lib/python3.9/site-packages/IPython/core/interactiveshell.py:3433: LatexWarning: Found documentclass in tmp_2212.04674/universe.tex\n",
      "\n",
      "  exec(code_obj, self.user_global_ns, self.user_ns)\n"
     ]
    },
    {
     "name": "stdout",
     "output_type": "stream",
     "text": [
      "extracting tarball to tmp_2212.04702... done.\n",
      "Retrieving document from  https://arxiv.org/e-print/2212.04710\n"
     ]
    },
    {
     "name": "stdout",
     "output_type": "stream",
     "text": [
      "extracting tarball to tmp_2212.04710..."
     ]
    },
    {
     "name": "stdout",
     "output_type": "stream",
     "text": [
      " done.\n"
     ]
    },
    {
     "name": "stderr",
     "output_type": "stream",
     "text": [
      "/opt/hostedtoolcache/Python/3.9.15/x64/lib/python3.9/site-packages/arxiv_on_deck_2/latex.py:366: LatexWarning: Error parsing the document directly. Trying to recover.\n",
      "  warnings.warn(LatexWarning(f\"Error parsing the document directly. Trying to recover.\"))\n"
     ]
    },
    {
     "name": "stdout",
     "output_type": "stream",
     "text": [
      "✔ → 0:header\n",
      "  ↳ 4781:\\section{Introduction}\\label{Intro}\n",
      "✔ → 4781:\\section{Introduction}\\label{Intro}\n",
      "  ↳ 7426:\\section{What massive black holes could be hidden in these galaxies?}\\label{multilambda}\n"
     ]
    },
    {
     "name": "stdout",
     "output_type": "stream",
     "text": [
      "✔ → 7426:\\section{What massive black holes could be hidden in these galaxies?}\\label{multilambda}\n",
      "  ↳ 28361:\\section{What does this mean for seeding models?}\\label{seeds}\n",
      "✔ → 28361:\\section{What does this mean for seeding models?}\\label{seeds}\n",
      "  ↳ 32842:\\section{Implications for $z\\sim 6-7$ quasars}\\label{qsos}\n"
     ]
    },
    {
     "name": "stdout",
     "output_type": "stream",
     "text": [
      "✔ → 32842:\\section{Implications for $z\\sim 6-7$ quasars}\\label{qsos}\n",
      "  ↳ 41182:\\section{Conclusions}\n",
      "✔ → 41182:\\section{Conclusions}\n",
      "  ↳ 45448:\\section{Photometry for galaxies with multiple filter data}\n"
     ]
    },
    {
     "name": "stdout",
     "output_type": "stream",
     "text": [
      "✔ → 45448:\\section{Photometry for galaxies with multiple filter data}\n",
      "  ↳ 47952:end\n"
     ]
    },
    {
     "name": "stdout",
     "output_type": "stream",
     "text": [
      "Retrieving document from  https://arxiv.org/e-print/2212.04731\n"
     ]
    },
    {
     "name": "stdout",
     "output_type": "stream",
     "text": [
      "extracting tarball to tmp_2212.04731..."
     ]
    },
    {
     "name": "stdout",
     "output_type": "stream",
     "text": [
      " done.\n",
      "Retrieving document from  https://arxiv.org/e-print/2212.04759\n"
     ]
    },
    {
     "name": "stderr",
     "output_type": "stream",
     "text": [
      "/opt/hostedtoolcache/Python/3.9.15/x64/lib/python3.9/site-packages/IPython/core/interactiveshell.py:3433: LatexWarning: Multiple tex files.\n",
      "\n",
      "  exec(code_obj, self.user_global_ns, self.user_ns)\n",
      "/opt/hostedtoolcache/Python/3.9.15/x64/lib/python3.9/site-packages/IPython/core/interactiveshell.py:3433: LatexWarning: Found documentclass in tmp_2212.04731/main.tex\n",
      "\n",
      "  exec(code_obj, self.user_global_ns, self.user_ns)\n"
     ]
    },
    {
     "name": "stdout",
     "output_type": "stream",
     "text": [
      "extracting tarball to tmp_2212.04759..."
     ]
    },
    {
     "name": "stdout",
     "output_type": "stream",
     "text": [
      " done.\n",
      "Retrieving document from  https://arxiv.org/e-print/2212.04815\n"
     ]
    },
    {
     "name": "stdout",
     "output_type": "stream",
     "text": [
      "extracting tarball to tmp_2212.04815..."
     ]
    },
    {
     "name": "stdout",
     "output_type": "stream",
     "text": [
      " done.\n",
      "Retrieving document from  https://arxiv.org/e-print/2212.04839\n"
     ]
    },
    {
     "name": "stderr",
     "output_type": "stream",
     "text": [
      "/opt/hostedtoolcache/Python/3.9.15/x64/lib/python3.9/site-packages/IPython/core/interactiveshell.py:3433: LatexWarning: Multiple tex files.\n",
      "\n",
      "  exec(code_obj, self.user_global_ns, self.user_ns)\n",
      "/opt/hostedtoolcache/Python/3.9.15/x64/lib/python3.9/site-packages/IPython/core/interactiveshell.py:3433: LatexWarning: Found documentclass in tmp_2212.04815/tanspec-pipeline.arxiv.tex\n",
      "\n",
      "  exec(code_obj, self.user_global_ns, self.user_ns)\n"
     ]
    },
    {
     "name": "stdout",
     "output_type": "stream",
     "text": [
      "extracting tarball to tmp_2212.04839... done.\n",
      "Retrieving document from  https://arxiv.org/e-print/2212.04962\n"
     ]
    },
    {
     "name": "stdout",
     "output_type": "stream",
     "text": [
      "extracting tarball to tmp_2212.04962..."
     ]
    },
    {
     "name": "stdout",
     "output_type": "stream",
     "text": [
      " done.\n",
      "Retrieving document from  https://arxiv.org/e-print/2212.04990\n"
     ]
    },
    {
     "name": "stderr",
     "output_type": "stream",
     "text": [
      "/opt/hostedtoolcache/Python/3.9.15/x64/lib/python3.9/site-packages/IPython/core/interactiveshell.py:3433: LatexWarning: Multiple tex files.\n",
      "\n",
      "  exec(code_obj, self.user_global_ns, self.user_ns)\n",
      "/opt/hostedtoolcache/Python/3.9.15/x64/lib/python3.9/site-packages/IPython/core/interactiveshell.py:3433: LatexWarning: Found documentclass in tmp_2212.04962/aanda.tex\n",
      "\n",
      "  exec(code_obj, self.user_global_ns, self.user_ns)\n"
     ]
    },
    {
     "name": "stdout",
     "output_type": "stream",
     "text": [
      "extracting tarball to tmp_2212.04990..."
     ]
    },
    {
     "name": "stdout",
     "output_type": "stream",
     "text": [
      " done.\n"
     ]
    }
   ],
   "source": [
    "documents = []\n",
    "failed = []\n",
    "for paper in tqdm(candidates[:-1]):\n",
    "    paper_id = paper['identifier'].lower().replace('arxiv:', '')\n",
    "    \n",
    "    folder = f'tmp_{paper_id}'\n",
    "\n",
    "    try:\n",
    "        if not os.path.isdir(folder):\n",
    "            folder = retrieve_document_source(f\"{paper_id}\", f'tmp_{paper_id}')\n",
    "        \n",
    "        try:\n",
    "            doc = latex.LatexDocument(folder, validation=validation)    \n",
    "        except AffiliationError as affilerror:\n",
    "            msg = f\"ArXiv:{paper_id:s} is not an MPIA paper... \" + str(affilerror)\n",
    "            failed.append((paper, \"affiliation error: \" + str(affilerror) ))\n",
    "            continue\n",
    "        \n",
    "        # Hack because sometimes author parsing does not work well\n",
    "        if (len(doc.authors) != len(paper['authors'])):\n",
    "            doc._authors = paper['authors']\n",
    "        if (doc.abstract) in (None, ''):\n",
    "            doc._abstract = paper['abstract']\n",
    "            \n",
    "        doc.comment = (get_markdown_badge(paper_id) + \n",
    "                       \"<mark>Appeared on: \" + paper['date'] + \"</mark> - \" +\n",
    "                       \"_\" + paper['comments'] + \"_\")\n",
    "        doc.highlight_authors_in_list(hl_list)\n",
    "\n",
    "        full_md = doc.generate_markdown_text()\n",
    "        \n",
    "        documents.append((paper_id, full_md))\n",
    "    except Exception as e:\n",
    "        warnings.warn(latex.LatexWarning(f\"{paper_id:s} did not run properly\\n\" +\n",
    "                                         str(e)\n",
    "                                        ))\n",
    "        failed.append((paper, \"latex error \" + str(e)))"
   ]
  },
  {
   "cell_type": "markdown",
   "id": "2505a25c",
   "metadata": {
    "papermill": {
     "duration": 0.006708,
     "end_time": "2022-12-12T04:08:52.953641",
     "exception": false,
     "start_time": "2022-12-12T04:08:52.946933",
     "status": "completed"
    },
    "tags": []
   },
   "source": [
    "### Export the logs\n",
    "\n",
    "Throughout, we also keep track of the logs per paper. see `logs-{today date}.md` "
   ]
  },
  {
   "cell_type": "code",
   "execution_count": 6,
   "id": "d733828a",
   "metadata": {
    "execution": {
     "iopub.execute_input": "2022-12-12T04:08:52.968268Z",
     "iopub.status.busy": "2022-12-12T04:08:52.967722Z",
     "iopub.status.idle": "2022-12-12T04:08:52.994476Z",
     "shell.execute_reply": "2022-12-12T04:08:52.993772Z"
    },
    "papermill": {
     "duration": 0.035938,
     "end_time": "2022-12-12T04:08:52.995982",
     "exception": false,
     "start_time": "2022-12-12T04:08:52.960044",
     "status": "completed"
    },
    "scrolled": false,
    "tags": []
   },
   "outputs": [
    {
     "data": {
      "text/markdown": [
       "## Successful papers"
      ],
      "text/plain": [
       "<IPython.core.display.Markdown object>"
      ]
     },
     "metadata": {},
     "output_type": "display_data"
    },
    {
     "data": {
      "text/markdown": [
       "\n",
       "|||\n",
       "|---:|:---|\n",
       "| [![arXiv](https://img.shields.io/badge/arXiv-arXiv:2212.04710-b31b1b.svg)](https://arxiv.org/abs/arXiv:2212.04710) | **What if young z>9 JWST galaxies hosted massive black holes?**  |\n",
       "|| Marta Volonteri, <mark>Melanie Habouzit</mark>, Monica Colpi |\n",
       "|*Appeared on*| *2022-12-12*|\n",
       "|*Comments*| *Submitted to MNRAS*|\n",
       "|**Abstract**| JWST is discovering star forming `candidate' galaxies with photometric redshifts $z>9$ and little attenuation. We model presumptive massive black holes (MBHs) in such galaxies and find that their unobscured emission is fainter than the galaxy starlight in JWST filters, and difficult to be detected via color-color selection, and X-ray and radio observations. Only MBHs overmassive relative to expected galaxy scaling relations, accreting at high Eddington rates, would be detectable. Their discovery would point to the presence of heavy MBH seeds, but care is needed to exclude the existence of lighter seeds as only overmassive MBHs are detectable in this type of galaxies. Conversely, if no overmassive MBHs are hosted in these galaxies, either there are no heavy seeds or they are rare. The most massive/highest redshift candidate galaxies can attain stellar masses in excess of 5e10 Msun by z~6 if they grow along the SFR-mass sequence, and can nurse a MBH growing from ~1e5 Msun up to >3e7 Msun by z~6, to become hosts of some z>6 quasars. Candidate galaxies of log(M_{gal}/Msun)~8 can not grow their putative seeds fast, unless seeds are >1e6 Msun. The number density of the JWST candidate galaxies far outnumbers that of the highest-z quasar hosts and this allows for about only 1 high-redshift quasar every 1000 of these galaxies. |"
      ],
      "text/plain": [
       "[arXiv:2212.04710] What if young z>9 JWST galaxies hosted massive black holes?\n",
       "\tMarta Volonteri, <mark>Melanie Habouzit</mark>, Monica Colpi"
      ]
     },
     "metadata": {},
     "output_type": "display_data"
    },
    {
     "data": {
      "text/markdown": [
       "## Failed papers"
      ],
      "text/plain": [
       "<IPython.core.display.Markdown object>"
      ]
     },
     "metadata": {},
     "output_type": "display_data"
    },
    {
     "data": {
      "text/markdown": [
       "\n",
       "|||\n",
       "|---:|:---|\n",
       "| [![arXiv](https://img.shields.io/badge/arXiv-arXiv:2212.04521-b31b1b.svg)](https://arxiv.org/abs/arXiv:2212.04521) | **A simulation-based inference pipeline for cosmic shear with the  Kilo-Degree Survey**  |\n",
       "|| <mark>Kiyam Lin</mark>, Maximilian von Wietersheim-Kramsta, Benjamin Joachimi, Stephen Feeney |\n",
       "|*Appeared on*| *2022-12-12*|\n",
       "|*Comments*| *14 pages, 8 figures; submitted to MNRAS*|\n",
       "|**Abstract**| The standard approach to inference from cosmic large-scale structure data employs summary statistics that are compared to analytic models in a Gaussian likelihood with pre-computed covariance. To overcome the idealising assumptions about the form of the likelihood and the complexity of the data inherent to the standard approach, we investigate simulation-based inference (SBI), which learns the likelihood as a probability density parameterised by a neural network. We construct suites of simulated, exactly Gaussian-distributed data vectors for the most recent Kilo-Degree Survey (KiDS) weak gravitational lensing analysis and demonstrate that SBI recovers the full 12-dimensional KiDS posterior distribution with just under $10^4$ simulations. We optimise the simulation strategy by initially covering the parameter space by a hypercube, followed by batches of actively learnt additional points. The data compression in our SBI implementation is robust to suboptimal choices of fiducial parameter values and of data covariance. Together with a fast simulator, SBI is therefore a competitive and more versatile alternative to standard inference. |\n",
       "|<p style=\"color:green\"> **ERROR** </p>| <p style=\"color:green\">affiliation error: mpia.affiliation_verifications: 'Heidelberg' keyword not found.</p> |"
      ],
      "text/plain": [
       "<IPython.core.display.Markdown object>"
      ]
     },
     "metadata": {},
     "output_type": "display_data"
    },
    {
     "data": {
      "text/markdown": [
       "\n",
       "|||\n",
       "|---:|:---|\n",
       "| [![arXiv](https://img.shields.io/badge/arXiv-arXiv:2212.04522-b31b1b.svg)](https://arxiv.org/abs/arXiv:2212.04522) | **A tale of two (or more) $h$'s**  |\n",
       "|| Samuel Brieden, Héctor Gil-Marín, <mark>Licia Verde</mark> |\n",
       "|*Appeared on*| *2022-12-12*|\n",
       "|*Comments*| *42 pages, 12 figures, 3 tables, to be submitted to JCAP. Comments welcome*|\n",
       "|**Abstract**| We use the large-scale structure galaxy data (LSS) from the BOSS and eBOSS surveys, in combination with abundances information from Big Bang Nucleosynthesis (BBN) to measure two values of the Hubble expansion rate, $H_0=100h\\,[{\\rm km}\\, {\\rm s}^{-1}\\,{\\rm Mpc}^{-1}]$, each of them based on very different physical processes. One is a (traditional) late-time-background measurement based on determining the BAO scale and using BBN abundances on baryons for calibrating its absolute size (BAO+BBN). This method anchors $H_0$ to the (standard) physics of the sound horizon scale at pre-recombination times. The other is a newer early-time based measurement associated with the broadband shape of the power spectrum. This second method anchors $H_0$ to the physics of the matter-radiation equality scale, which also needs BBN information for determining the suppression of baryons in the power spectrum shape (shape+BBN). Within the $\\Lambda$CDM model, we find very good consistency among these two $H_0$'s: BAO+BBN (+growth) delivers $H_0=67.42_{-0.94}^{+0.88}$ $(67.37_{-0.95}^{+0.86})$ km s$^{-1}$Mpc$^{-1}$ , whereas the shape+BBN (+growth) delivers $H_0 = 70.1_{-2.1}^{+2.1}$ $(70.1_{-2.1}^{+1.9})$ km s$^{-1}$ Mpc$^{-1}$, where \"growth\" stands for information from the late-time-perturbations captured by the growth of structure parameter. These are the tightest sound-horizon free $H_0$ constraints from LSS data to date. As a consequence to be viable, any $\\Lambda$CDM extension proposed to address the so-called \"Hubble tension\" needs to modify consistently not only the sound horizon scale physics, but also the matter-radiation equality scale, in such a way that both late- and early-based $H_0$'s return results mutually consistent and consistent with the high $H_0$ value recovered by the standard cosmic distance ladder (distance-redshift relation) determinations. |\n",
       "|<p style=\"color:green\"> **ERROR** </p>| <p style=\"color:green\">affiliation error: mpia.affiliation_verifications: 'Heidelberg' keyword not found.</p> |"
      ],
      "text/plain": [
       "<IPython.core.display.Markdown object>"
      ]
     },
     "metadata": {},
     "output_type": "display_data"
    },
    {
     "data": {
      "text/markdown": [
       "\n",
       "|||\n",
       "|---:|:---|\n",
       "| [![arXiv](https://img.shields.io/badge/arXiv-arXiv:2212.04526-b31b1b.svg)](https://arxiv.org/abs/arXiv:2212.04526) | **Analytic approximations of scattering effects on beam chromaticity in  21-cm global experiments**  |\n",
       "|| Alan E. E. Rogers, et al. -- incl., <mark>Nivedita Mahesh</mark> |\n",
       "|*Appeared on*| *2022-12-12*|\n",
       "|*Comments*| **|\n",
       "|**Abstract**| Scattering from objects near an antenna produce correlated signals from strong compact radio sources in a manner similar to those used by the Sea Interferometer to measure the radio source positions using the fine frequency structure in the total power spectrum of a single antenna. These fringes or ripples due to correlated signal interference are present at a low level in the spectrum of any single antenna and are a major source of systematics in systems used to measure the global redshifted 21-cm signal from the early universe. In the Sea Interferometer a single antenna on a cliff above the sea is used to add the signal from the direct path to the signal from the path reflected from the sea thereby forming an interferometer. This was used for mapping radio sources with a single antenna by Bolton and Slee in the 1950s. In this paper we derive analytic expressions to determine the level of these ripples and compare these results in a few simple cases with electromagnetic modeling software to verify that the analytic calculations are sufficient to obtain the magnitude of the scattering effects on the measurements of the global 21-cm signal. These analytic calculations are needed to evaluate the magnitude of the effects in cases that are either too complex or take too much time to be modeled using software. |\n",
       "|<p style=\"color:green\"> **ERROR** </p>| <p style=\"color:green\">affiliation error: mpia.affiliation_verifications: 'Heidelberg' keyword not found.</p> |"
      ],
      "text/plain": [
       "<IPython.core.display.Markdown object>"
      ]
     },
     "metadata": {},
     "output_type": "display_data"
    },
    {
     "data": {
      "text/markdown": [
       "\n",
       "|||\n",
       "|---:|:---|\n",
       "| [![arXiv](https://img.shields.io/badge/arXiv-arXiv:2212.04639-b31b1b.svg)](https://arxiv.org/abs/arXiv:2212.04639) | **FX UMa: A New Heartbeat Binary System with Linear and Non-linear Tidal  Oscillations and delta Sct Pulsations**  |\n",
       "|| Kun Wang, et al. -- incl., <mark>Frank Grundahl</mark> |\n",
       "|*Appeared on*| *2022-12-12*|\n",
       "|*Comments*| *15+4 pages, 8 figures, Submitted to AJ,*|\n",
       "|**Abstract**| We present a detailed analysis of an eclipsing double-lined binary FX UMa based on TESS photometry and newly acquired spectroscopic observations. The radial velocities and atmospheric parameters for each component star are obtained from the SONG high-resolution spectra. Combined with the radial-velocity measurements, our light-curve modeling yields absolute masses and radii of the two components. The Fourier amplitude spectrum of the residual light curve reveals a total of 103 frequencies with signal-to-noise ratio (S/N) > 4, including 12 independent frequencies, 17 multiples of the orbital frequency (Nforb), and 74 combination frequencies. Ten Nforb peaks with S/N > 10 have very high amplitudes and are likely due to tidally excited oscillations (TEOs). The remaining Nforb peaks (4 < S/N < 10) may be originated from the imperfect removal, or they are actually real TEOs. Four anharmonic frequencies can pair up and sum to give exact harmonics of the orbital frequency, suggesting the existence of non-linear tidal processes in the eccentric binary system FX UMa. Eight independent frequencies in the range of 20 to 32 day$^{-1}$ are typical low-order pressure modes of delta Scuti pulsators. |\n",
       "|<p style=\"color:green\"> **ERROR** </p>| <p style=\"color:green\">affiliation error: mpia.affiliation_verifications: 'Heidelberg' keyword not found.</p> |"
      ],
      "text/plain": [
       "<IPython.core.display.Markdown object>"
      ]
     },
     "metadata": {},
     "output_type": "display_data"
    },
    {
     "data": {
      "text/markdown": [
       "\n",
       "|||\n",
       "|---:|:---|\n",
       "| [![arXiv](https://img.shields.io/badge/arXiv-arXiv:2212.04648-b31b1b.svg)](https://arxiv.org/abs/arXiv:2212.04648) | **The MeerKAT Pulsar Timing Array: First Data Release**  |\n",
       "|| Matthew T. Miles, et al. -- incl., <mark>Michael Kramer</mark> |\n",
       "|*Appeared on*| *2022-12-12*|\n",
       "|*Comments*| *18 pages, 6 figures*|\n",
       "|**Abstract**| We present the first 2.5 years of data from the MeerKAT Pulsar Timing Array (MPTA), part of MeerTime, a MeerKAT Large Survey Project. The MPTA aims to precisely measure pulse arrival times from an ensemble of 88 pulsars visible from the Southern Hemisphere, with the goal of contributing to the search, detection and study of nanohertz-frequency gravitational waves as part of the International Pulsar Timing Array. This project makes use of the MeerKAT telescope, and operates with a typical observing cadence of two weeks using the L-band receiver that records data from 856-1712 MHz. We provide a comprehensive description of the observing system, software, and pipelines used and developed for the MeerTime project. The data products made available as part of this data release are from the 78 pulsars that had at least $30$ observations between the start of the MeerTime programme in February 2019 and October 2021. These include both sub-banded and band-averaged arrival times, as well as the initial timing ephemerides, noise models, and the frequency-dependent standard templates (portraits) used to derive pulse arrival times. After accounting for detected noise processes in the data, the frequency-averaged residuals of $67$ of the pulsars achieved a root-mean-square residual precision of $< 1 \\mu \\rm{s}$. We also present a novel recovery of the clock correction waveform solely from pulsar timing residuals, and an exploration into preliminary findings of interest to the international pulsar timing community. The arrival times, standards and full Stokes parameter calibrated pulsar timing archives are publicly available. |\n",
       "|<p style=\"color:green\"> **ERROR** </p>| <p style=\"color:green\">affiliation error: mpia.affiliation_verifications: 'Heidelberg' keyword not found.</p> |"
      ],
      "text/plain": [
       "<IPython.core.display.Markdown object>"
      ]
     },
     "metadata": {},
     "output_type": "display_data"
    },
    {
     "data": {
      "text/markdown": [
       "\n",
       "|||\n",
       "|---:|:---|\n",
       "| [![arXiv](https://img.shields.io/badge/arXiv-arXiv:2212.04653-b31b1b.svg)](https://arxiv.org/abs/arXiv:2212.04653) | **Using X-ray continuum-fitting to estimate the spin of MAXI J1305-704**  |\n",
       "|| Ye Feng, James F. Steiner, Santiago Ubach Ramirez, <mark>Lijun Gou</mark> |\n",
       "|*Appeared on*| *2022-12-12*|\n",
       "|*Comments*| *13 pages, 10 figures, submitted to MNRAS*|\n",
       "|**Abstract**| MAXI J1305-704 is a transient X-ray binary with a black hole primary. It was discovered on April 9, 2012, during its only known outburst. MAXI J1305-704 is also a high inclination low-mass X-ray binary with prominent dip features in its light curves, so we check the full catalog of 92 \\emph{Swift}/XRT continuous observations of MAXI J1305-704, focusing only on the stable spectra. We select 13 ``gold\" spectra for which the root mean square RMS <0.075 and the coronal scattered fraction $f_{\\mathrm{sc}} \\lesssim 25 \\%$. These ``gold\" data are optimal thermal-state observations for continuum-fitting modeling, in which the disk extends to the innermost-stable circular orbit and is geometrically thin. The black hole spin was unknown for this object before. By utilizing the X-ray continuum fitting method with the relativistic thin disk model \\texttt{kerrbb2} and supplying the known dynamical binary system parameters, we find MAXI J1305-704 has a moderate spin ($a_{*}=0.87_{-0.13}^{+0.07}$) at a 68.3\\% confidence level. This is the first determination of MAXI J1305-704's spin. |\n",
       "|<p style=\"color:green\"> **ERROR** </p>| <p style=\"color:green\">affiliation error: mpia.affiliation_verifications: 'Heidelberg' keyword not found.</p> |"
      ],
      "text/plain": [
       "<IPython.core.display.Markdown object>"
      ]
     },
     "metadata": {},
     "output_type": "display_data"
    },
    {
     "data": {
      "text/markdown": [
       "\n",
       "|||\n",
       "|---:|:---|\n",
       "| [![arXiv](https://img.shields.io/badge/arXiv-arXiv:2212.04702-b31b1b.svg)](https://arxiv.org/abs/arXiv:2212.04702) | **Dark against luminous matter around isolated central galaxies: a  comparative study between modern surveys and Illustris-TNG**  |\n",
       "|| Pedro Alonso, et al. -- incl., <mark>Jun Zhang</mark>, <mark>Hekun Li</mark>, <mark>Qi Guo</mark>, <mark>Yanqin He</mark> |\n",
       "|*Appeared on*| *2022-12-12*|\n",
       "|*Comments*| *28 pages, 12 figures*|\n",
       "|**Abstract**| Based on independent shear measurements using the DECaLS/DR8 imaging data, we measure the weak lensing signals around isolated central galaxies (ICGs) from SDSS/DR7 at $z\\sim0.1$. The projected stellar mass density profiles of surrounding satellite galaxies are further deduced, using photometric sources from the Hyper Suprime-Cam (HSC) survey (pDR3). The signals of ICGs $+$ their extended stellar halos are taken from Wang et al.(2021). All measurements are compared with predictions by the Illustris-TNG300-1 simulation. We find, overall, a good agreement between observation and TNG300. In particular, a correction to the stellar mass of massive observed ICGs is applied based on the calibration of He et al.(2013), which brings a much better agreement with TNG300 predicted lensing signals at $\\log_{10}M_\\ast/M_\\odot>11.1$. In real observation, red ICGs are hosted by more massive dark matter halos, have more satellites and more extended stellar halos than blue ICGs at fixed stellar mass. However, in TNG300 there are more satellites around blue ICGs at fixed stellar mass, and the outer stellar halos of red and blue ICGs are similar. The stellar halos of TNG galaxies are more extended compared with real observed galaxies, especially for blue ICGs with $\\log_{10}M_\\ast/M_\\odot>10.8$. We find the same trend for TNG100 galaxies and for true halo central galaxies. The tensions between TNG and real galaxies might indicate that satellite disruptions are stronger in TNG. In both TNG300 and observation, satellites approximately trace the underlying dark matter distribution beyond $0.1R_{200}$, but the fraction of total stellar mass in TNG300 does not show the same radial distribution as real galaxies. |\n",
       "|<p style=\"color:green\"> **ERROR** </p>| <p style=\"color:green\">affiliation error: mpia.affiliation_verifications: 'Heidelberg' keyword not found.</p> |"
      ],
      "text/plain": [
       "<IPython.core.display.Markdown object>"
      ]
     },
     "metadata": {},
     "output_type": "display_data"
    },
    {
     "data": {
      "text/markdown": [
       "\n",
       "|||\n",
       "|---:|:---|\n",
       "| [![arXiv](https://img.shields.io/badge/arXiv-arXiv:2212.04731-b31b1b.svg)](https://arxiv.org/abs/arXiv:2212.04731) | **A Glimpse of the Stellar Populations and Elemental Abundances of  Gravitationally Lensed, Quiescent Galaxies at $z\\gtrsim 1$ with Keck Deep  Spectroscopy**  |\n",
       "|| Zhuyun Zhuang, et al. -- incl., <mark>Nicha Leethochawalit</mark> |\n",
       "|*Appeared on*| *2022-12-12*|\n",
       "|*Comments*| *18 pages, 11 figures, submitted to ApJ; comments welcome*|\n",
       "|**Abstract**| Gravitational lenses can magnify distant galaxies, allowing us to discover and characterize the stellar populations of intrinsically faint, quiescent galaxies that are otherwise extremely difficult to directly observe at high redshift from ground-based telescopes. Here, we present the spectral analysis of two lensed, quiescent galaxies at $z\\gtrsim 1$ discovered by the ASTRO 3D Galaxy Evolution with Lenses survey: AGEL1323 ($M_*\\sim 10^{11.1}M_{\\odot}$, $z=1.016$, $\\mu \\sim 14.6$) and AGEL0014 ($M_*\\sim 10^{11.3}M_{\\odot}$, $z=1.374$, $\\mu \\sim 4.3$). We measured the age, [Fe/H], and [Mg/Fe] of the two lensed galaxies using deep, rest-frame-optical spectra (S/N $\\gtrsim$ 40\\AA$^{-1}$) obtained on the Keck I telescope. The ages of AGEL1323 and AGEL0014 are $5.6^{+0.8}_{-0.8}$ Gyr and $3.1^{+0.8}_{-0.3}$ Gyr, respectively, indicating that most of the stars in the galaxies were formed less than 2 Gyr after the Big Bang. Compared to nearby quiescent galaxies of similar masses, the lensed galaxies have lower [Fe/H] and [Mg/H]. Surprisingly, the two galaxies have comparable [Mg/Fe] to similar-mass galaxies at lower redshifts, despite their old ages. Using a simple analytic chemical evolution model connecting the instantaneously recycled element Mg with the mass-loading factors of outflows averaged over the entire star formation history, we found that the lensed galaxies may have experienced enhanced outflows during their star formation compared to lower-redshift galaxies, which may explain why they quenched early. |\n",
       "|<p style=\"color:green\"> **ERROR** </p>| <p style=\"color:green\">affiliation error: mpia.affiliation_verifications: 'Heidelberg' keyword not found.</p> |"
      ],
      "text/plain": [
       "<IPython.core.display.Markdown object>"
      ]
     },
     "metadata": {},
     "output_type": "display_data"
    },
    {
     "data": {
      "text/markdown": [
       "\n",
       "|||\n",
       "|---:|:---|\n",
       "| [![arXiv](https://img.shields.io/badge/arXiv-arXiv:2212.04759-b31b1b.svg)](https://arxiv.org/abs/arXiv:2212.04759) | **Effects of dust sources on dust attenuation properties in IllustrisTNG  galaxies at $z\\sim 7$**  |\n",
       "|| Yuan-Ming Hsu, et al. -- incl., <mark>Yen-Hsing Lin</mark> |\n",
       "|*Appeared on*| *2022-12-12*|\n",
       "|*Comments*| *11 pages, 6 figures, accepted for publication in MNRAS*|\n",
       "|**Abstract**| Dust emission from high-redshift galaxies gives us a clue to the origin and evolution of dust in the early Universe. Previous studies have shown that different sources of dust (stellar dust production and dust growth in dense clouds) predict different ultraviolet (UV) extinction curves for galaxies at $z\\sim 7$ but that the observed attenuation curves depend strongly on the geometry of dust and star distributions. Thus, we perform radiative transfer calculations under the dust-stars geometries computed by a cosmological hydrodynamic simulation (IllustrisTNG). This serves to investigate the dust attenuation curves predicted from `realistic' geometries. We choose objects with stellar mass and star formation rate appropriate for Lyman break galaxies at $z\\sim 7$. We find that the attenuation curves are very different from the original extinction curves in most of the galaxies. This makes it difficult to constrain the dominant dust sources from the observed attenuation curves. We further include infrared dust emission in the analysis and plot the infrared excess (IRX)-UV spectral slope ($\\beta$) diagram. We find that different sources of dust cause different IRX-$\\beta$ relations for the simulated galaxies. In particular, if dust growth is the main source of dust, a variation of dust-to-metal ratio causes a more extended sequence with smaller IRX in the IRX-$\\beta$ diagram. Thus, the comprehensive analysis of the abundances of dust and metals, the UV slope, and the dust emission could provide a clue to the dominant dust sources in the Universe. |\n",
       "|<p style=\"color:green\"> **ERROR** </p>| <p style=\"color:green\">affiliation error: mpia.affiliation_verifications: 'Heidelberg' keyword not found.</p> |"
      ],
      "text/plain": [
       "<IPython.core.display.Markdown object>"
      ]
     },
     "metadata": {},
     "output_type": "display_data"
    },
    {
     "data": {
      "text/markdown": [
       "\n",
       "|||\n",
       "|---:|:---|\n",
       "| [![arXiv](https://img.shields.io/badge/arXiv-arXiv:2212.04815-b31b1b.svg)](https://arxiv.org/abs/arXiv:2212.04815) | **pyTANSPEC: A Data Reduction Package for TANSPEC**  |\n",
       "|| <mark>Supriyo Ghosh</mark>, Joe P. Ninan, Devendra K. Ojha, <mark>Saurabh Sharma</mark> |\n",
       "|*Appeared on*| *2022-12-12*|\n",
       "|*Comments*| *10 pages, 6 figures, accepted for publication in the Special Issue of Journal of Astrophysics & Astronomy, 2022, Star formation studies in context of NIR instruments on 3.6m DOT, held at ARIES, Nainital during 4-7, May, 2022*|\n",
       "|**Abstract**| The TIFR-ARIES Near Infrared Spectrometer (TANSPEC) instrument provides simultaneous wavelength coverage from 0.55 to 2.5 micron, mounted on India's largest ground-based telescope, 3.6-m Devasthal Optical Telescope at Nainital, India. The TANSPEC offers three modes of observations, imaging with various filters, spectroscopy in the low-resolution prism mode with derived R~ 100-400 and the high-resolution cross-dispersed mode (XD-mode) with derived median R~ 2750 for a slit of width 0.5 arcsec. In the XD-mode, ten cross-dispersed orders are packed in the 2048 x 2048 pixels detector to cover the full wavelength regime. As the XD-mode is most utilized as well as for consistent data reduction for all orders and to reduce data reduction time, a dedicated pipeline is at the need. In this paper, we present the code for the TANSPEC XD-mode data reduction, its workflow, input/output files, and a showcase of its implementation on a particular dataset. This publicly available pipeline pyTANSPEC is fully developed in Python and includes nominal human intervention only for the quality assurance of the reduced data. Two customized configuration files are used to guide the data reduction. The pipeline creates a log file for all the fits files in a given data directory from its header, identifies correct frames (science, continuum and calibration lamps) based on the user input, and offers an option to the user for eyeballing and accepting/removing of the frames, does the cleaning of raw science frames and yields final wavelength calibrated spectra of all orders simultaneously. |\n",
       "|<p style=\"color:green\"> **ERROR** </p>| <p style=\"color:green\">affiliation error: mpia.affiliation_verifications: 'Heidelberg' keyword not found.</p> |"
      ],
      "text/plain": [
       "<IPython.core.display.Markdown object>"
      ]
     },
     "metadata": {},
     "output_type": "display_data"
    },
    {
     "data": {
      "text/markdown": [
       "\n",
       "|||\n",
       "|---:|:---|\n",
       "| [![arXiv](https://img.shields.io/badge/arXiv-arXiv:2212.04839-b31b1b.svg)](https://arxiv.org/abs/arXiv:2212.04839) | **Modelling Annual Scintillation Velocity Variations of FRB 20201124A**  |\n",
       "|| R. A. Main, et al. -- incl., <mark>D. Z. Li</mark>, <mark>H.-H. Lin</mark> |\n",
       "|*Appeared on*| *2022-12-12*|\n",
       "|*Comments*| *5 pages, 5 Figures, submitted to MNRAS Letters*|\n",
       "|**Abstract**| Compact radio sources exhibit scintillation, an interference pattern arising from propagation through inhomogeneous plasma, where scintillation patterns encode the relative distances and velocities of the source, scattering material, and Earth. In Main et al. 2022, we showed that the scintillation velocity of the repeating fast radio burst FRB20201124A can be measured by correlating pairs of burst spectra, and suggested that the scattering was nearby the Earth at $\\sim0.4\\,$kpc from the low values of the scintillation velocity and scattering timescale. In this work, we have measured the scintillation velocity at 10 epochs spanning a year, observing an annual variation which strongly implies the screen is within the Milky Way. Modelling the annual variation with a 1D anisotropic or 2D isotropic screen results in a screen distance $d_{l} = 0.24\\pm0.04\\,$pc or $d_{l} = 0.37\\pm0.07\\,$pc from Earth respectively, possibly associated with the Local Bubble or the edge of the Orion-Eridanus Superbubble. Continued monitoring, and using measurements from other telescopes particularly at times of low effective velocity will help probe changes in screen properties, and distinguish between screen models. Where scintillation of an FRB originates in its host galaxy or local environment, these techniques could be used to detect orbital motion, and probe the FRB's local ionized environment. |\n",
       "|<p style=\"color:green\"> **ERROR** </p>| <p style=\"color:green\">affiliation error: mpia.affiliation_verifications: 'Heidelberg' keyword not found.</p> |"
      ],
      "text/plain": [
       "<IPython.core.display.Markdown object>"
      ]
     },
     "metadata": {},
     "output_type": "display_data"
    },
    {
     "data": {
      "text/markdown": [
       "\n",
       "|||\n",
       "|---:|:---|\n",
       "| [![arXiv](https://img.shields.io/badge/arXiv-arXiv:2212.04962-b31b1b.svg)](https://arxiv.org/abs/arXiv:2212.04962) | **Exploring the single-pulse behaviours of PSR J0628+0909 with FAST**  |\n",
       "|| J. A. Hsu, et al. -- incl., <mark>K. J. Lee</mark> |\n",
       "|*Appeared on*| *2022-12-12*|\n",
       "|*Comments*| *10 pages, 9 figures, accepted by MNRAS*|\n",
       "|**Abstract**| More than 100 rotating radio transients (RRATs) have been discovered since 2006. However, it is unclear whether RRATs radiate in the nulling states. PSR J0628+0909 has been classified as an RRAT. In this paper, we study the single pulses and integrated pulse profile of PSR J0628+0909 to check whether we can detect pulsed radio emission in the nulling states. We also aim to study the polarization of the RRAT and its relationship to the general pulsar population. We used the Five-hundred-meter Aperture Spherical radio Telescope (FAST) to observe PSR J0628+0909 in the frequency range from 1.0 to 1.5 GHz. We searched for strong single pulses and looked for pulsed emission in the RRAT nulling states. Polarisation profiles, the single-pulse energy distribution, and waiting-time statistics were measured. The Faraday rotation measure and dispersion measure values are updated with the current observation. The single-pulse polarisation behaviours show great diversity, similar to the case of pulsars. Based on the integrated pulse profile and single-pulse energy statistics, we argue that continuous pulsar-like emission exists in addition to the transient-like burst emission for PSR J0628+0909. We find that the pulse waiting time is not correlated with the pulse energy and conclude that the strong transient emission of RRAT is not generated by the energy store-release mechanism. |\n",
       "|<p style=\"color:green\"> **ERROR** </p>| <p style=\"color:green\">affiliation error: mpia.affiliation_verifications: 'Heidelberg' keyword not found.</p> |"
      ],
      "text/plain": [
       "<IPython.core.display.Markdown object>"
      ]
     },
     "metadata": {},
     "output_type": "display_data"
    },
    {
     "data": {
      "text/markdown": [
       "\n",
       "|||\n",
       "|---:|:---|\n",
       "| [![arXiv](https://img.shields.io/badge/arXiv-arXiv:2212.04990-b31b1b.svg)](https://arxiv.org/abs/arXiv:2212.04990) | **Spicules in IRIS Mg II Observations: Automated Identification**  |\n",
       "|| <mark>Vicki L. Herde</mark>, et al. |\n",
       "|*Appeared on*| *2022-12-12*|\n",
       "|*Comments*| *17 pages, 9 figures, presented at the AGU Fall 2022 conference, Submitted to AAS Journal*|\n",
       "|**Abstract**| We have developed an algorithm to identify solar spicules in the first-ever systematic survey of on-disk spicules using exclusively Mg II spectral observations. Using this algorithm we identify 2219 events in three IRIS datasets with unique solar feature targets spanning a total of 300 minutes: 1) an active region, 2) decayed active region/active network, and 3) a coronal hole. We present event statistics and relate occurrence rates to underlying photospheric magnetic field strength. This method identifies spicule event densities and occurrence rates similar to previous studies performed using H{\\alpha} and Ca II observations of active regions. Additionally, this study identifies spicule-like events at very low rates at magnetic field intensities below 20 Gauss and increasing significantly between 100-200 Gauss in active regions and above 20 Gauss in coronal holes, which can be used to inform future observation campaigns. This information can be be used to help characterize spicules over their full lifetime, and compliments existing H-{\\alpha} spectral capabilities and upcoming Ly-{\\alpha} spectral observations on the SNIFS Sounding Rocket. In total, this study presents a method for detecting solar spicules using exclusively Mg II spectra, and provides statistics for spicule occurrence in Mg II wavelengths with respect to magnetic field strength for the purpose of predicting spicule occurrences. |\n",
       "|<p style=\"color:green\"> **ERROR** </p>| <p style=\"color:green\">affiliation error: mpia.affiliation_verifications: 'Heidelberg' keyword not found.</p> |"
      ],
      "text/plain": [
       "<IPython.core.display.Markdown object>"
      ]
     },
     "metadata": {},
     "output_type": "display_data"
    },
    {
     "data": {
      "text/markdown": [
       "\n",
       "|||\n",
       "|---:|:---|\n",
       "| [![arXiv](https://img.shields.io/badge/arXiv-arXiv:2212.04515-b31b1b.svg)](https://arxiv.org/abs/arXiv:2212.04515) | **There is No Place Like Home -- Finding Birth Radii of Stars in the Milky  Way**  |\n",
       "|| Yuxi, et al. -- incl., <mark>Noam Libeskind</mark> |\n",
       "|*Appeared on*| *2022-12-12*|\n",
       "|*Comments*| *Under review at Nature Letters, submitted Oct. 19, 2022*|\n",
       "|**Abstract**| Stars move away from their birth places over time via a process known as radial migration, which blurs chemo-kinematic relations used for reconstructing the Milky Way formation history. One of the ultimate goals of Galactic Archaeology, therefore, is to find stars' birth aggregates in the disk via chemical tagging. Here we show that stellar birth radii can be derived directly from the data with minimum prior assumptions on the Galactic enrichment history. We recover the time evolution of the stellar birth metallicity gradient, $d$[Fe/H]($R$, $\\tau$)/$dR$, through its inverse relation to the metallicity range as a function of age today, allowing us to place any star with age and metallicity measurements back to its birthplace, $R_b$. Applying our method to a high-precision large data set of Milky Way disk subgiant stars, we find a steepening of the birth metallicity gradient from 11 to 8 Gyr ago, which coincides with the time of the last major merger, Gaia-Sausage-Enceladus (GSE). This transition appears to play a major role in shaping both the age-metallicity relation and the bimodality in the [$\\alpha$/Fe]-[Fe/H] plane. By dissecting the disk into mono-$R_b$ populations, clumps in the low-[$\\alpha$/Fe] sequence appear, which are not seen in the total sample and coincide in time with known star-formation bursts. We estimated that the Sun was born at $4.5 \\pm 0.4$ kpc from the Galactic center. Our $R_b$ estimates provide the missing piece needed to recover the Milky Way formation history, while the by-product,[Fe/H]$(R$, $\\tau)$, can be used as the thus-far missing prior for chemical evolution modeling. |\n",
       "|<p style=\"color:green\"> **ERROR** </p>| <p style=\"color:green\">affiliation error: mpia.affiliation_verifications: 'Planck' keyword not found.</p> |"
      ],
      "text/plain": [
       "<IPython.core.display.Markdown object>"
      ]
     },
     "metadata": {},
     "output_type": "display_data"
    },
    {
     "data": {
      "text/markdown": [
       "\n",
       "|||\n",
       "|---:|:---|\n",
       "| [![arXiv](https://img.shields.io/badge/arXiv-arXiv:2212.04674-b31b1b.svg)](https://arxiv.org/abs/arXiv:2212.04674) | **Evolution of Spin Period and Magnetic Field of the Crab Pulsar: Decay of  the Braking Index by the Particle Wind Flow Torque**  |\n",
       "|| <mark>Cheng-Min Zhang</mark>, et al. -- incl., <mark>Di Li</mark>, <mark>Jian-Wei Zhang</mark> |\n",
       "|*Appeared on*| *2022-12-12*|\n",
       "|*Comments*| *21pages, 3 figures, 2 tables, and 5 appendices, published in Universe*|\n",
       "|**Abstract**| The evolutions of a neutron star's rotation and magnetic field (B-field) have remained unsolved puzzles for over half a century. We ascribe the rotational braking torques of pulsar to both components, the standard magnetic dipole radiation (MDR) and particle wind flow ( MDR + Wind, hereafter named MDRW), which we apply to the Crab pulsar (B0531 + 21), the only source with a known age and long-term continuous monitoring by radio telescope. Based on the above presumed simple spin-down torques, we obtain the exact analytic solution on the rotation evolution of the Crab pulsar, together with the related outcomes as described below: (1) unlike the constant characteristic B-field suggested by the MDR model, this value for the Crab pulsar increases by a hundred times in 50~kyr while its real B-field has no change; (2) the rotational braking index evolves from $\\sim$3 to 1 in the long-term, however, it drops from 2.51 to 2.50 in $\\sim$45 years at the present stage, while the particle flow contributes approximately 25% of the total rotational energy loss rate; (3) strikingly, the characteristic age has the maximum limit of $\\sim$10 kyr, meaning that it is not always a good indicator of real age. Furthermore, we discussed the evolutionary path of the Crab pulsar from the MDR to the wind domination by comparing it with the possible wind braking candidate pulsar PSR J1734-3333. |\n",
       "|<p style=\"color:green\"> **ERROR** </p>| <p style=\"color:green\">affiliation error: mpia.affiliation_verifications: 'Planck' keyword not found.</p> |"
      ],
      "text/plain": [
       "<IPython.core.display.Markdown object>"
      ]
     },
     "metadata": {},
     "output_type": "display_data"
    },
    {
     "data": {
      "text/markdown": [
       "\n",
       "|||\n",
       "|---:|:---|\n",
       "| [![arXiv](https://img.shields.io/badge/arXiv-arXiv:2212.04568-b31b1b.svg)](https://arxiv.org/abs/arXiv:2212.04568) | **Spectroscopy of four metal-poor galaxies beyond redshift ten**  |\n",
       "|| Emma Curtis-Lake, et al. -- incl., <mark>Hans-Walter Rix</mark>, <mark>Anna de Graaff</mark>, <mark>Jakob M. Helton</mark> |\n",
       "|*Appeared on*| *2022-12-12*|\n",
       "|*Comments*| *32 pages, 9 figures, Submitted*|\n",
       "|**Abstract**| Finding and characterising the first galaxies that illuminated the early Universe at cosmic dawn is pivotal to understand the physical conditions and the processes that led to the formation of the first stars. In the first few months of operations, imaging from the James Webb Space Telescope (JWST) have been used to identify tens of candidates of galaxies at redshift (z) greater than 10, less than 450 million years after the Big Bang. However, none of these candidates has yet been confirmed spectroscopically, leaving open the possibility that they are actually low-redshift interlopers. Here we present spectroscopic confirmation and analysis of four galaxies unambiguously detected at redshift 10.3<z<13.2, previously selected from NIRCam imaging. The spectra reveal that these primeval galaxies are extremely metal poor, have masses between 10^7 and a few times 10^8 solar masses, and young ages. The damping wings that shape the continuum close to the Lyman edge are consistent with a fully neutral intergalactic medium at this epoch. These findings demonstrate the rapid emergence of the first generations of galaxies at cosmic dawn. |\n",
       "|<p style=\"color:red\"> **ERROR** </p>| <p style=\"color:red\">latex error expected string or bytes-like object</p> |"
      ],
      "text/plain": [
       "<IPython.core.display.Markdown object>"
      ]
     },
     "metadata": {},
     "output_type": "display_data"
    }
   ],
   "source": [
    "import datetime\n",
    "today = str(datetime.date.today())\n",
    "logfile = f\"_build/html/logs/log-{today}.md\"\n",
    "\n",
    "\n",
    "with open(logfile, 'w') as logs:\n",
    "    # Success\n",
    "    logs.write(f'# Arxiv on Deck 2: Logs - {today}\\n\\n')\n",
    "    logs.write(\"\"\"* Arxiv had {0:,d} new papers\\n\"\"\".format(len(new_papers)))\n",
    "    logs.write(\"\"\"    * {0:,d} with possible author matches\\n\\n\"\"\".format(len(candidates)))\n",
    "    logs.write(\"## Sucessful papers\\n\\n\")\n",
    "    display(Markdown(\"## Successful papers\"))\n",
    "    success = [k[0] for k in documents]\n",
    "    for candid in candidates:\n",
    "        if candid['identifier'].split(':')[-1] in success:\n",
    "            display(candid)\n",
    "            logs.write(candid.generate_markdown_text() + '\\n\\n')\n",
    "\n",
    "    ## failed\n",
    "    logs.write(\"## Failed papers\\n\\n\")\n",
    "    display(Markdown(\"## Failed papers\"))\n",
    "    failed = sorted(failed, key=lambda x: x[1])\n",
    "    current_reason = \"\"\n",
    "    for paper, reason in failed:\n",
    "        if 'affiliation' in reason:\n",
    "            color = 'green'\n",
    "        else:\n",
    "            color = 'red'\n",
    "        data = Markdown(\n",
    "                paper.generate_markdown_text() + \n",
    "                f'\\n|<p style=\"color:{color:s}\"> **ERROR** </p>| <p style=\"color:{color:s}\">{reason:s}</p> |'\n",
    "               )\n",
    "        if reason != current_reason:\n",
    "            logs.write(f'### {reason:s} \\n\\n')\n",
    "            current_reason = reason\n",
    "        logs.write(data.data + '\\n\\n')\n",
    "        \n",
    "        # only display here the important errors (all in logs)\n",
    "        # if color in ('red',):\n",
    "        display(data)"
   ]
  },
  {
   "cell_type": "markdown",
   "id": "472d20ee",
   "metadata": {
    "papermill": {
     "duration": 0.008599,
     "end_time": "2022-12-12T04:08:53.013826",
     "exception": false,
     "start_time": "2022-12-12T04:08:53.005227",
     "status": "completed"
    },
    "tags": []
   },
   "source": [
    "## Export documents\n",
    "\n",
    "We now write the .md files and export relevant images"
   ]
  },
  {
   "cell_type": "code",
   "execution_count": 7,
   "id": "d426aed9",
   "metadata": {
    "execution": {
     "iopub.execute_input": "2022-12-12T04:08:53.032631Z",
     "iopub.status.busy": "2022-12-12T04:08:53.031923Z",
     "iopub.status.idle": "2022-12-12T04:08:53.039355Z",
     "shell.execute_reply": "2022-12-12T04:08:53.038745Z"
    },
    "papermill": {
     "duration": 0.01831,
     "end_time": "2022-12-12T04:08:53.040757",
     "exception": false,
     "start_time": "2022-12-12T04:08:53.022447",
     "status": "completed"
    },
    "tags": []
   },
   "outputs": [],
   "source": [
    "def export_markdown_summary(md: str, md_fname:str, directory: str):\n",
    "    \"\"\"Export MD document and associated relevant images\"\"\"\n",
    "    import os\n",
    "    import shutil\n",
    "    import re\n",
    "\n",
    "    if (os.path.exists(directory) and not os.path.isdir(directory)):\n",
    "        raise RuntimeError(f\"a non-directory file exists with name {directory:s}\")\n",
    "\n",
    "    if (not os.path.exists(directory)):\n",
    "        print(f\"creating directory {directory:s}\")\n",
    "        os.mkdir(directory)\n",
    "\n",
    "    fig_fnames = (re.compile(r'\\[Fig.*\\]\\((.*)\\)').findall(md) + \n",
    "                  re.compile(r'\\<img src=\"([^>\\s]*)\"[^>]*/>').findall(md))\n",
    "    for fname in fig_fnames:\n",
    "        if 'http' in fname:\n",
    "            # No need to copy online figures\n",
    "            continue\n",
    "        destdir = os.path.join(directory, os.path.dirname(fname))\n",
    "        destfname = os.path.join(destdir, os.path.basename(fname))\n",
    "        try:\n",
    "            os.makedirs(destdir)\n",
    "        except FileExistsError:\n",
    "            pass\n",
    "        shutil.copy(fname, destfname)\n",
    "    with open(os.path.join(directory, md_fname), 'w') as fout:\n",
    "        fout.write(md)\n",
    "    print(\"exported in \", os.path.join(directory, md_fname))\n",
    "    [print(\"    + \" + os.path.join(directory,fk)) for fk in fig_fnames]"
   ]
  },
  {
   "cell_type": "code",
   "execution_count": 8,
   "id": "014d04a4",
   "metadata": {
    "execution": {
     "iopub.execute_input": "2022-12-12T04:08:53.059703Z",
     "iopub.status.busy": "2022-12-12T04:08:53.059194Z",
     "iopub.status.idle": "2022-12-12T04:08:53.067805Z",
     "shell.execute_reply": "2022-12-12T04:08:53.067203Z"
    },
    "papermill": {
     "duration": 0.019709,
     "end_time": "2022-12-12T04:08:53.069305",
     "exception": false,
     "start_time": "2022-12-12T04:08:53.049596",
     "status": "completed"
    },
    "tags": []
   },
   "outputs": [
    {
     "name": "stdout",
     "output_type": "stream",
     "text": [
      "exported in  _build/html/2212.04710.md\n",
      "    + _build/html/tmp_2212.04710/./Figures/LGAL_LAGN_Mstar_MBH_app_z9.png\n",
      "    + _build/html/tmp_2212.04710/./Figures/MBH01e_4_varfedd.png\n",
      "    + _build/html/tmp_2212.04710/./Figures/MBH01e_4_varfedd_SN3e9.png\n",
      "    + _build/html/tmp_2212.04710/./Figures/MBH0opt_varfedd.png\n",
      "    + _build/html/tmp_2212.04710/./Figures/MBH0opt_fedd05.png\n",
      "    + _build/html/tmp_2212.04710/./Figures/LGAL_LAGN_Mstar_MBH_zoom_z9.png\n"
     ]
    }
   ],
   "source": [
    "for paper_id, md in documents:\n",
    "    export_markdown_summary(md, f\"{paper_id:s}.md\", '_build/html/')"
   ]
  },
  {
   "cell_type": "markdown",
   "id": "f087a0a7",
   "metadata": {
    "papermill": {
     "duration": 0.00866,
     "end_time": "2022-12-12T04:08:53.086718",
     "exception": false,
     "start_time": "2022-12-12T04:08:53.078058",
     "status": "completed"
    },
    "tags": []
   },
   "source": [
    "## Display the papers\n",
    "\n",
    "Not necessary but allows for a quick check."
   ]
  },
  {
   "cell_type": "code",
   "execution_count": 9,
   "id": "fd25f625",
   "metadata": {
    "execution": {
     "iopub.execute_input": "2022-12-12T04:08:53.105771Z",
     "iopub.status.busy": "2022-12-12T04:08:53.105241Z",
     "iopub.status.idle": "2022-12-12T04:08:53.110465Z",
     "shell.execute_reply": "2022-12-12T04:08:53.109809Z"
    },
    "papermill": {
     "duration": 0.020139,
     "end_time": "2022-12-12T04:08:53.115622",
     "exception": false,
     "start_time": "2022-12-12T04:08:53.095483",
     "status": "completed"
    },
    "scrolled": false,
    "tags": []
   },
   "outputs": [
    {
     "data": {
      "text/markdown": [
       "<div class=\"macros\" style=\"visibility:hidden;\">\n",
       "$\\newcommand{\\ensuremath}{}$\n",
       "$\\newcommand{\\xspace}{}$\n",
       "$\\newcommand{\\object}[1]{\\texttt{#1}}$\n",
       "$\\newcommand{\\farcs}{{.}''}$\n",
       "$\\newcommand{\\farcm}{{.}'}$\n",
       "$\\newcommand{\\arcsec}{''}$\n",
       "$\\newcommand{\\arcmin}{'}$\n",
       "$\\newcommand{\\ion}[2]{#1#2}$\n",
       "$\\newcommand{\\textsc}[1]{\\textrm{#1}}$\n",
       "$\\newcommand{\\hl}[1]{\\textrm{#1}}$\n",
       "$\\newcommand{\\aj}{AJ}$\n",
       "$\\newcommand{\\actaa}{Acta Astron.}$\n",
       "$\\newcommand{\\araa}{ARA\\&A}$\n",
       "$\\newcommand{\\apj}{ApJ}$\n",
       "$\\newcommand{\\apjl}{ApJ}$\n",
       "$\\newcommand{\\apjs}{ApJS}$\n",
       "$\\newcommand{\\ao}{Appl.~Opt.}$\n",
       "$\\newcommand{\\apss}{Ap\\&SS}$\n",
       "$\\newcommand{\\aap}{A\\&A}$\n",
       "$\\newcommand{\\aapr}{A\\&AR}$\n",
       "$\\newcommand{\\aaps}{A\\&AS}$\n",
       "$\\newcommand{\\azh}{AZh}$\n",
       "$\\newcommand{\\baas}{BAAS}$\n",
       "$\\newcommand{\\caa}{Chinese Astron. Astrophys.}$\n",
       "$\\newcommand{\\cjaa}{Chinese J. Astron. Astrophys.}$\n",
       "$\\newcommand{\\icarus}{Icarus}$\n",
       "$\\newcommand{\\jcap}{J. Cosmology Astropart. Phys.}$\n",
       "$\\newcommand{\\jrasc}{JRASC}$\n",
       "$\\newcommand{\\memras}{MmRAS}$\n",
       "$\\newcommand{\\mnras}{MNRAS}$\n",
       "$\\newcommand{\\na}{New Astron.}$\n",
       "$\\newcommand{\\nar}{New A Rev.}$\n",
       "$\\newcommand{\\pra}{Phys.~Rev.~A}$\n",
       "$\\newcommand{\\prb}{Phys.~Rev.~B}$\n",
       "$\\newcommand{\\prc}{Phys.~Rev.~C}$\n",
       "$\\newcommand{\\prd}{Phys.~Rev.~D}$\n",
       "$\\newcommand{\\pre}{Phys.~Rev.~E}$\n",
       "$\\newcommand{\\prl}{Phys.~Rev.~Lett.}$\n",
       "$\\newcommand{\\pasa}{PASA}$\n",
       "$\\newcommand{\\pasp}{PASP}$\n",
       "$\\newcommand{\\pasj}{PASJ}$\n",
       "$\\newcommand{\\qjras}{QJRAS}$\n",
       "$\\newcommand{\\rmxaa}{Rev. Mexicana Astron. Astrofis.}$\n",
       "$\\newcommand{\\skytel}{S\\&T}$\n",
       "$\\newcommand{\\solphys}{Sol.~Phys.}$\n",
       "$\\newcommand{\\sovast}{Soviet~Ast.}$\n",
       "$\\newcommand{\\ssr}{Space~Sci.~Rev.}$\n",
       "$\\newcommand{\\zap}{ZAp}$\n",
       "$\\newcommand{\\nat}{Nature}$\n",
       "$\\newcommand{\\iaucirc}{IAU~Circ.}$\n",
       "$\\newcommand{\\aplett}{Astrophys.~Lett.}$\n",
       "$\\newcommand{\\apspr}{Astrophys.~Space~Phys.~Res.}$\n",
       "$\\newcommand{\\bain}{Bull.~Astron.~Inst.~Netherlands}$\n",
       "$\\newcommand{\\fcp}{Fund.~Cosmic~Phys.}$\n",
       "$\\newcommand{\\gca}{Geochim.~Cosmochim.~Acta}$\n",
       "$\\newcommand{\\grl}{Geophys.~Res.~Lett.}$\n",
       "$\\newcommand{\\jcp}{J.~Chem.~Phys.}$\n",
       "$\\newcommand{\\jgr}{J.~Geophys.~Res.}$\n",
       "$\\newcommand{\\jqsrt}{J.~Quant.~Spec.~Radiat.~Transf.}$\n",
       "$\\newcommand{\\memsai}{Mem.~Soc.~Astron.~Italiana}$\n",
       "$\\newcommand{\\nphysa}{Nucl.~Phys.~A}$\n",
       "$\\newcommand{\\physrep}{Phys.~Rep.}$\n",
       "$\\newcommand{\\physscr}{Phys.~Scr}$\n",
       "$\\newcommand{\\planss}{Planet.~Space~Sci.}$\n",
       "$\\newcommand{\\procspie}{Proc.~SPIE}$\n",
       "$\\newcommand{\\edd}{{\\rm Edd}}$\n",
       "$\\newcommand{\\beq}{\\begin{equation}}$\n",
       "$\\newcommand{\\eeq}{\\end{equation}}$\n",
       "$\\newcommand{\\msun}{ {\\rm M_\\odot}}$\n",
       "$\\title[MBHs in z>9 JWST galaxies ]{What if young z>9 JWST galaxies hosted massive black holes?}$\n",
       "$\\author[Volonteri et al.]{Marta Volonteri,^{1}\\thanks{E-mail: martav@iap.fr (MV)}$\n",
       "$M\\'elanie Habouzit,^{2,3}$\n",
       "$Monica Colpi^{4,5}$\n",
       "$\\^{1}Institut d'Astrophysique de Paris, Sorbonne Universit\\'e, CNRS, UMR 7095, 98 bis bd Arago, 75014 Paris, France\\^{2}Zentrum f\\\"ur Astronomie der Universit\\\"at Heidelberg, ITA, Albert-Ueberle-Str. 2, D-69120 Heidelberg, Germany\\^{3}Max-Planck-Institut f\\\"ur Astronomie, K\\\"onigstuhl 17, D-69117 Heidelberg, Germany\\^{4}Dipartimento di Fisica G. Occhialini, Universita di Milano-Bicocca, Piazza della Scienza 3, I-20126 Milano, Italy\\^{5}INFN, Sezione di Milano-Bicocca, Piazza della Scienza 3, I-20126 Milano, Italy\\}$\n",
       "$\\begin{document}$\n",
       "$\\maketitle$\n",
       "$\\begin{abstract}$\n",
       "$JWST is discovering star forming `candidate' galaxies with photometric redshifts z>9 and little attenuation. We model presumptive massive black holes (MBHs) in such galaxies and find that their unobscured emission is fainter than the galaxy starlight in JWST filters, and difficult to be detected via color-color selection, and X-ray and radio observations. Only MBHs  overmassive relative to expected galaxy scaling relations, accreting at high Eddington rates, would be detectable. Their discovery would point to the presence of heavy MBH seeds, but care is needed to exclude the existence of lighter seeds  as only overmassive MBHs are detectable in this type of galaxies.  Conversely, if no overmassive MBHs are hosted in these galaxies, either there are no heavy seeds or they are rare. The most massive/highest redshift candidate galaxies can attain stellar masses in excess of 5\\times 10^{10}\\msun by z\\sim 6 if they grow along the SFR-mass sequence, and can nurse a MBH growing from \\sim 10^5 \\msun up to >3\\times 10^7\\msun by z\\sim 6, to become hosts of some z > 6 quasars. Candidate galaxies of  \\log( M_{\\rm gal}/\\msun)\\sim 8 can not grow their putative seeds fast, unless seeds are \\gtrsim 10^6\\msun.  The number density of the JWST candidate galaxies far outnumbers that of the highest-z quasar hosts and this allows for about only 1 high-redshift quasar every 1000 of these galaxies.$\n",
       "$\\end{abstract}$\n",
       "$\\begin{keywords}$\n",
       "$galaxies: high-redshift  - quasars: supermassive black holes -  galaxies: evolution - galaxies: active$\n",
       "$\\end{keywords}$\n",
       "$\\n\\end{document}\\end{equation}}$\n",
       "$\\newcommand{\\eeq}{\\end{equation}}$\n",
       "$\\newcommand{\\msun}{ {\\rm M_\\odot}}$</div>\n",
       "\n",
       "<div class=\"macros\" style=\"visibility:hidden;\">\n",
       "$\\newcommand{$\\ensuremath$}{}$\n",
       "$\\newcommand{$\\xspace$}{}$\n",
       "$\\newcommand{$\\object$}[1]{\\texttt{#1}}$\n",
       "$\\newcommand{$\\farcs$}{{.}''}$\n",
       "$\\newcommand{$\\farcm$}{{.}'}$\n",
       "$\\newcommand{$\\arcsec$}{''}$\n",
       "$\\newcommand{$\\arcmin$}{'}$\n",
       "$\\newcommand{$\\ion$}[2]{#1#2}$\n",
       "$\\newcommand{$\\textsc$}[1]{\\textrm{#1}}$\n",
       "$\\newcommand{$\\hl$}[1]{\\textrm{#1}}$\n",
       "$\\newcommand{$\\aj$}{AJ}$\n",
       "$\\newcommand{$\\actaa$}{Acta Astron.}$\n",
       "$\\newcommand{$\\araa$}{ARA\\&A}$\n",
       "$\\newcommand{$\\apj$}{ApJ}$\n",
       "$\\newcommand{$\\apj$l}{ApJ}$\n",
       "$\\newcommand{$\\apj$s}{ApJS}$\n",
       "$\\newcommand{$\\ao$}{Appl.~Opt.}$\n",
       "$\\newcommand{$\\apss$}{Ap\\&SS}$\n",
       "$\\newcommand{$\\aap$}{A\\&A}$\n",
       "$\\newcommand{$\\aap$r}{A\\&AR}$\n",
       "$\\newcommand{$\\aap$s}{A\\&AS}$\n",
       "$\\newcommand{$\\azh$}{AZh}$\n",
       "$\\newcommand{$\\baas$}{BAAS}$\n",
       "$\\newcommand{$\\caa$}{Chinese Astron. Astrophys.}$\n",
       "$\\newcommand{$\\cjaa$}{Chinese J. Astron. Astrophys.}$\n",
       "$\\newcommand{$\\icarus$}{Icarus}$\n",
       "$\\newcommand{$\\jcap$}{J. Cosmology Astropart. Phys.}$\n",
       "$\\newcommand{$\\jrasc$}{JRASC}$\n",
       "$\\newcommand{$\\memras$}{MmRAS}$\n",
       "$\\newcommand{$\\mnras$}{MNRAS}$\n",
       "$\\newcommand{$\\na$}{New Astron.}$\n",
       "$\\newcommand{$\\na$r}{New A Rev.}$\n",
       "$\\newcommand{$\\pra$}{Phys.~Rev.~A}$\n",
       "$\\newcommand{$\\prb$}{Phys.~Rev.~B}$\n",
       "$\\newcommand{$\\prc$}{Phys.~Rev.~C}$\n",
       "$\\newcommand{$\\prd$}{Phys.~Rev.~D}$\n",
       "$\\newcommand{$\\pre$}{Phys.~Rev.~E}$\n",
       "$\\newcommand{$\\prl$}{Phys.~Rev.~Lett.}$\n",
       "$\\newcommand{$\\pasa$}{PASA}$\n",
       "$\\newcommand{$\\pasp$}{PASP}$\n",
       "$\\newcommand{$\\pasj$}{PASJ}$\n",
       "$\\newcommand{$\\qjras$}{QJRAS}$\n",
       "$\\newcommand{$\\rmxaa$}{Rev. Mexicana Astron. Astrofis.}$\n",
       "$\\newcommand{$\\skytel$}{S\\&T}$\n",
       "$\\newcommand{$\\solphys$}{Sol.~Phys.}$\n",
       "$\\newcommand{$\\sovast$}{Soviet~Ast.}$\n",
       "$\\newcommand{$\\ssr$}{Space~Sci.~Rev.}$\n",
       "$\\newcommand{$\\zap$}{ZAp}$\n",
       "$\\newcommand{$\\na$t}{Nature}$\n",
       "$\\newcommand{$\\iaucirc$}{IAU~Circ.}$\n",
       "$\\newcommand{$\\aplett$}{Astrophys.~Lett.}$\n",
       "$\\newcommand{$\\apspr$}{Astrophys.~Space~Phys.~Res.}$\n",
       "$\\newcommand{$\\bain$}{Bull.~Astron.~Inst.~Netherlands}$\n",
       "$\\newcommand{$\\fcp$}{Fund.~Cosmic~Phys.}$\n",
       "$\\newcommand{$\\gca$}{Geochim.~Cosmochim.~Acta}$\n",
       "$\\newcommand{$\\grl$}{Geophys.~Res.~Lett.}$\n",
       "$\\newcommand{$\\jcp$}{J.~Chem.~Phys.}$\n",
       "$\\newcommand{$\\jgr$}{J.~Geophys.~Res.}$\n",
       "$\\newcommand{$\\jqsrt$}{J.~Quant.~Spec.~Radiat.~Transf.}$\n",
       "$\\newcommand{$\\memsai$}{Mem.~Soc.~Astron.~Italiana}$\n",
       "$\\newcommand{$\\nphysa$}{Nucl.~Phys.~A}$\n",
       "$\\newcommand{$\\physrep$}{Phys.~Rep.}$\n",
       "$\\newcommand{$\\physscr$}{Phys.~Scr}$\n",
       "$\\newcommand{$\\planss$}{Planet.~Space~Sci.}$\n",
       "$\\newcommand{$\\procspie$}{Proc.~SPIE}$\n",
       "$\\newcommand{$\\edd$}{{\\rm Edd}}$\n",
       "$\\newcommand{\\beq}{\\begin{equation}}$\n",
       "$\\newcommand{$\\eeq$}{\\end{equation}}$\n",
       "$\\newcommand{$\\msun$}{ {\\rm M_\\odot}}$\n",
       "$\\title[MBHs in z>9 JWST galaxies ]{What if young z>9 JWST galaxies hosted massive black holes?}$\n",
       "$\\author[Volonteri et al.]{Marta Volonteri,^{1}\\thanks{E-mail: martav@iap.fr (MV)}$\n",
       "$M\\'elanie Habouzit,^{2,3}$\n",
       "$Monica Colpi^{4,5}$\n",
       "$\\^{1}Institut d'Astrophysique de Paris, Sorbonne Universit\\'e, CNRS, UMR 7095, 98 bis bd Arago, 75014 Paris, France\\^{2}Zentrum f\\\"ur Astronomie der Universit\\\"at Heidelberg, ITA, Albert-Ueberle-Str. 2, D-69120 Heidelberg, Germany\\^{3}Max-Planck-Institut f\\\"ur Astronomie, K\\\"onigstuhl 17, D-69117 Heidelberg, Germany\\^{4}Dipartimento di Fisica G. Occhialini, Universita di Milano-Bicocca, Piazza della Scienza 3, I-20126 Milano, Italy\\^{5}INFN, Sezione di Milano-Bicocca, Piazza della Scienza 3, I-20126 Milano, Italy\\}$\n",
       "$\\begin{document}$\n",
       "$\\maketitle$\n",
       "$\\begin{abstract}$\n",
       "$JWST is discovering star forming `candidate' galaxies with photometric redshifts z>9 and little attenuation. We model presumptive massive black holes (MBHs) in such galaxies and find that their unobscured emission is fainter than the galaxy starlight in JWST filters, and difficult to be detected via color-color selection, and X-ray and radio observations. Only MBHs  overmassive relative to expected galaxy scaling relations, accreting at high Eddington rates, would be detectable. Their discovery would point to the presence of heavy MBH seeds, but care is needed to exclude the existence of lighter seeds  as only overmassive MBHs are detectable in this type of galaxies.  Conversely, if no overmassive MBHs are hosted in these galaxies, either there are no heavy seeds or they are rare. The most massive/highest redshift candidate galaxies can attain stellar masses in excess of 5\\times 10^{10}$\\msun$ by z\\sim 6 if they grow along the SFR-mass sequence, and can nurse a MBH growing from \\sim 10^5 $\\msun$ up to >3\\times 10^7$\\msun$ by z\\sim 6, to become hosts of some z > 6 quasars. Candidate galaxies of  \\log( M_{\\rm gal}/$\\msun$)\\sim 8 can not grow their putative seeds fast, unless seeds are \\gtrsim 10^6$\\msun$.  The number density of the JWST candidate galaxies far outnumbers that of the highest-z quasar hosts and this allows for about only 1 high-redshift quasar every 1000 of these galaxies.$\n",
       "$\\end{abstract}$\n",
       "$\\begin{keywords}$\n",
       "$galaxies: high-redshift  - quasars: supermassive black holes -  galaxies: evolution - galaxies: active$\n",
       "$\\end{keywords}$\n",
       "$\\n\\end{document}\\end{equation}}$\n",
       "$\\newcommand{$\\eeq$}{\\end{equation}}$\n",
       "$\\newcommand{$\\msun$}{ {\\rm M_\\odot}}$</div>\n",
       "\n",
       "\n",
       "\n",
       "<div id=\"title\">\n",
       "\n",
       "#  JWST galaxies hosted massive black holes?\n",
       "\n",
       "</div>\n",
       "<div id=\"comments\">\n",
       "\n",
       "[![arXiv](https://img.shields.io/badge/arXiv-2212.04710-b31b1b.svg)](https://arxiv.org/abs/2212.04710)<mark>Appeared on: 2022-12-12</mark> - _Submitted to MNRAS_\n",
       "\n",
       "</div>\n",
       "<div id=\"authors\">\n",
       "\n",
       "Marta Volonteri, <mark><mark>Melanie Habouzit</mark></mark>, Monica Colpi\n",
       "\n",
       "</div>\n",
       "<div id=\"abstract\">\n",
       "\n",
       "**Abstract:** JWST is discovering star forming `candidate' galaxies with photometric redshifts$z>9$and little attenuation. We model presumptive massive black holes (MBHs) in such galaxies and find that their unobscured emission is fainter than the galaxy starlight in JWST filters, and difficult to be detected via color-color selection, and X-ray and radio observations. Only MBHs  overmassive relative to expected galaxy scaling relations, accreting at high Eddington rates, would be detectable. Their discovery would point to the presence of heavy MBH seeds, but care is needed to exclude the existence of lighter seeds  as only overmassive MBHs are detectable in this type of galaxies.  Conversely, if no overmassive MBHs are hosted in these galaxies, either there are no heavy seeds or they are rare. The most massive/highest redshift candidate galaxies can attain stellar masses in excess of$5\\times 10^{10}$\\msun$$by$z\\sim 6$if they grow along the SFR-mass sequence, and can nurse a MBH growing from$\\sim 10^5 $\\msun$$up to$>3\\times 10^7$\\msun$$by$z\\sim 6$, to become hosts of some$z > 6$quasars. Candidate galaxies of$\\log( M_{\\rm gal}/$\\msun$)\\sim 8$can not grow their putative seeds fast, unless seeds are$\\gtrsim 10^6$\\msun$$.  The number density of the JWST candidate galaxies far outnumbers that of the highest-$z$quasar hosts and this allows for about only 1 high-redshift quasar every 1000 of these galaxies.\n",
       "\n",
       "</div>\n",
       "\n",
       "<div id=\"div_fig1\">\n",
       "\n",
       "<img src=\"tmp_2212.04710/./Figures/LGAL_LAGN_Mstar_MBH_app_z9.png\" alt=\"Fig1\" width=\"100%\"/>\n",
       "\n",
       "**Figure 1. -** Comparison of AGN and galaxy luminosity using our models: apparent magnitude of AGN and galaxies.\n",
       "    Triangles show the AGN magnitudes corresponding to MBHs following different scaling relations with the host galaxies, and accreting at fractions of the Eddington limit. Green: MBHs with mass $\\log(M_{\\rm gal}/$\\msun$)-5$; turquoise: MBHs with mass $\\log(M_{\\rm gal}/$\\msun$)-4$; blue: MBHs with mass $\\log(M_{\\rm gal}/$\\msun$)-3$; slate grey: MBHs with mass $\\log(M_{\\rm gal}/$\\msun$)-2$; grey: MBHs with mass $\\log(M_{\\rm gal}/$\\msun$)-1$. The size of the symbol scales with the Eddington ratio: small for $\\log(f_{\\rm Edd})=-2$, medium for $\\log(f_{\\rm Edd})=-1$, large for $\\log(f_{\\rm Edd})=0$.\n",
       "    Red dots: F356W or F444W  from observational references (only a fraction of the candidates have published photometry, therefore some of the sources are not shown). Photometric errors are not shown for clarity but they are less than 10 per cent. Orange dots: galaxy apparent magnitude from our models. Galaxies are shown at the mass corresponding to $\\log(M_{\\rm gal}/$\\msun$)-4$. The simple galaxy model we use produces reasonable results. When comparing AGN and galaxy magnitudes we see that AGN can be brighter than the host only when they are overmassive with respect to the nominal relation and they have high Eddington ratios. (*fig:compareL*)\n",
       "\n",
       "</div>\n",
       "<div id=\"div_fig2\">\n",
       "\n",
       "<img src=\"tmp_2212.04710/./Figures/MBH01e_4_varfedd.png\" alt=\"Fig7.1\" width=\"25%\"/><img src=\"tmp_2212.04710/./Figures/MBH01e_4_varfedd_SN3e9.png\" alt=\"Fig7.2\" width=\"25%\"/><img src=\"tmp_2212.04710/./Figures/MBH0opt_varfedd.png\" alt=\"Fig7.3\" width=\"25%\"/><img src=\"tmp_2212.04710/./Figures/MBH0opt_fedd05.png\" alt=\"Fig7.4\" width=\"25%\"/>\n",
       "\n",
       "**Figure 7. -** Examples of MBH and galaxy evolution, taking as initial conditions the galaxies in Table 1 and making different assumptions for the MBHs they host (top: $\\log(M_{\\rm BH}/$\\msun$)=\\log(M_{\\rm gal}/$\\msun$)-4$; bottom:  $\\log(M_{\\rm BH}/$\\msun$)=\\max(5,\\log(M_{\\rm gal}/$\\msun$)-3)$), effect of SNae (top-left and bottom: $M_{\\rm SN}=10^9 $\\msun$$; top-right: $M_{\\rm SN}=3\\times10^9 $\\msun$$), and their growth rate (top, bottom-left: scaling with SFR; bottom-right: $f_{\\rm Edd}=0.5$). Galaxies are always assumed to grow along the SFR-galaxy mass sequence. The thicker curves highlight some example galaxies: SMACS\\_z10b, SMACS\\_z16b, S5-z17-1, GL-z12. In all panels the bottom region shows the ratio of MBH to galaxy mass, without highlighting specific galaxies. (*fig:growth*)\n",
       "\n",
       "</div>\n",
       "<div id=\"div_fig3\">\n",
       "\n",
       "<img src=\"tmp_2212.04710/./Figures/LGAL_LAGN_Mstar_MBH_zoom_z9.png\" alt=\"Fig2\" width=\"100%\"/>\n",
       "\n",
       "**Figure 2. -** Difference between the AGN and galaxy magnitude (shown only for magnitude differences less than $\\pm2$). Colors as in Fig. \\ref{fig:compareL} and the symbol size also scales with Eddington ratio as described in that Figure. The grey shaded area shows the region where the AGN is fainter than the stellar component.\n",
       "At most JWST wavelengths only MBHs with mass larger than $\\log(M_{\\rm gal}/$\\msun$)-2$ can outshine their host galaxy, whereas MBHs with mass $\\log(M_{\\rm gal}/$\\msun$)-2$ and $\\log(f_{\\rm Edd})=0$ can outshine the galaxy at the longest JWST wavelengths. MBHs on the nominal relation are always fainter than their host galaxy.  (*fig:compareLzoom*)\n",
       "\n",
       "</div>"
      ],
      "text/plain": [
       "<IPython.core.display.Markdown object>"
      ]
     },
     "metadata": {},
     "output_type": "display_data"
    }
   ],
   "source": [
    "[display(Markdown(k[1])) for k in documents];"
   ]
  },
  {
   "cell_type": "markdown",
   "id": "873873a4",
   "metadata": {
    "papermill": {
     "duration": 0.009166,
     "end_time": "2022-12-12T04:08:53.134375",
     "exception": false,
     "start_time": "2022-12-12T04:08:53.125209",
     "status": "completed"
    },
    "tags": []
   },
   "source": [
    "# Create HTML index"
   ]
  },
  {
   "cell_type": "code",
   "execution_count": 10,
   "id": "cf665672",
   "metadata": {
    "execution": {
     "iopub.execute_input": "2022-12-12T04:08:53.154107Z",
     "iopub.status.busy": "2022-12-12T04:08:53.153517Z",
     "iopub.status.idle": "2022-12-12T04:08:53.163811Z",
     "shell.execute_reply": "2022-12-12T04:08:53.163209Z"
    },
    "papermill": {
     "duration": 0.021781,
     "end_time": "2022-12-12T04:08:53.165297",
     "exception": false,
     "start_time": "2022-12-12T04:08:53.143516",
     "status": "completed"
    },
    "tags": []
   },
   "outputs": [
    {
     "name": "stdout",
     "output_type": "stream",
     "text": [
      "131  publications in the last 7 days.\n",
      "\t _build/html/2212.04710.md\n",
      "\t _build/html/2212.04026.md\n",
      "\t _build/html/2212.03563.md\n",
      "\t _build/html/2212.03514.md\n",
      "\t _build/html/2212.02667.md\n",
      "\t _build/html/2212.02627.md\n",
      "\t _build/html/2212.02235.md\n",
      "\t _build/html/2212.01707.md\n",
      "\t _build/html/2212.01526.md\n",
      "\t _build/html/2212.01397.md\n",
      "\t _build/html/2212.01291.md\n",
      "\t _build/html/2212.01281.md\n",
      "\t _build/html/2212.00812.md\n",
      "\t _build/html/2212.00811.md\n",
      "\t _build/html/2212.00806.md\n",
      "\t _build/html/2212.00047.md\n",
      "\t _build/html/2212.00032.md\n",
      "\t _build/html/2211.16996.md\n",
      "\t _build/html/2211.16510.md\n",
      "\t _build/html/2211.16123.md\n",
      "\t _build/html/2211.15816.md\n",
      "\t _build/html/2211.15698.md\n",
      "\t _build/html/2211.15576.md\n",
      "\t _build/html/2211.15434.md\n",
      "\t _build/html/2211.15288.md\n",
      "\t _build/html/2211.15224.md\n",
      "\t _build/html/2211.14543.md\n",
      "\t _build/html/2211.14330.md\n",
      "\t _build/html/2211.14322.md\n",
      "\t _build/html/2211.14132.md\n",
      "\t _build/html/2211.13811.md\n",
      "\t _build/html/2211.13426.md\n",
      "\t _build/html/2211.13318.md\n",
      "\t _build/html/2211.13146.md\n",
      "\t _build/html/2211.12613.md\n",
      "\t _build/html/2211.11767.md\n",
      "\t _build/html/2211.09840.md\n",
      "\t _build/html/2211.09217.md\n",
      "\t _build/html/2211.08493.md\n",
      "\t _build/html/2211.08487.md\n",
      "\t _build/html/2211.08294.md\n",
      "\t _build/html/2211.07667.md\n",
      "\t _build/html/2211.07659.md\n",
      "\t _build/html/2211.06454.md\n",
      "\t _build/html/2211.06205.md\n",
      "\t _build/html/2211.06194.md\n",
      "\t _build/html/2211.05022.md\n",
      "\t _build/html/2211.04048.md\n",
      "\t _build/html/2211.03641.md\n",
      "\t _build/html/2211.02502.md\n",
      "\t _build/html/2211.01474.md\n",
      "\t _build/html/2211.00667.md\n",
      "\t _build/html/2211.00657.md\n",
      "\t _build/html/2211.00087.md\n",
      "\t _build/html/2211.00036.md\n",
      "\t _build/html/2211.00020.md\n",
      "\t _build/html/2211.00010.md\n",
      "\t _build/html/2210.17434.md\n",
      "\t _build/html/2210.12412.md\n",
      "\t _build/html/2210.11926.md\n",
      "\t _build/html/2210.11551.md\n",
      "\t _build/html/2210.11103.md\n",
      "\t _build/html/2210.10707.md\n",
      "\t _build/html/2210.09930.md\n",
      "\t _build/html/2210.08996.md\n",
      "\t _build/html/2210.08517.md\n",
      "\t _build/html/2210.08510.md\n",
      "\t _build/html/2210.08078.md\n",
      "\t _build/html/2210.06504.md\n",
      "\t _build/html/2210.05695.md\n",
      "\t _build/html/2210.05595.md\n",
      "\t _build/html/2210.05505.md\n",
      "\t _build/html/2210.04721.md\n",
      "\t _build/html/2210.03615.md\n",
      "\t _build/html/2210.01811.md\n",
      "\t _build/html/2210.01809.md\n",
      "\t _build/html/2210.01556.md\n",
      "\t _build/html/2210.00863.md\n",
      "\t _build/html/2210.00560.md\n",
      "\t _build/html/2209.15403.md\n",
      "\t _build/html/2209.15110.md\n",
      "\t _build/html/2209.14410.md\n",
      "\t _build/html/2209.14396.md\n",
      "\t _build/html/2209.13717.md\n",
      "\t _build/html/2209.13336.md\n",
      "\t _build/html/2209.12906.md\n",
      "\t _build/html/2209.11781.md\n",
      "\t _build/html/2209.11602.md\n",
      "\t _build/html/2209.11248.md\n",
      "\t _build/html/2209.11096.md\n",
      "\t _build/html/2209.10618.md\n",
      "\t _build/html/2209.09914.md\n",
      "\t _build/html/2209.09823.md\n",
      "\t _build/html/2209.08242.md\n",
      "\t _build/html/2209.08120.md\n",
      "\t _build/html/2209.08106.md\n",
      "\t _build/html/2209.07962.md\n",
      "\t _build/html/2209.07931.md\n",
      "\t _build/html/2209.06833.md\n",
      "\t _build/html/2209.05814.md\n",
      "\t _build/html/2209.05593.md\n",
      "\t _build/html/2209.04304.md\n",
      "\t _build/html/2209.03367.md\n",
      "\t _build/html/2209.02872.md\n",
      "\t _build/html/2209.02725.md\n",
      "\t _build/html/2209.02722.md\n",
      "\t _build/html/2209.02092.md\n",
      "\t _build/html/2209.01125.md\n",
      "\t _build/html/2209.00828.md\n",
      "\t _build/html/2209.00363.md\n",
      "\t _build/html/2208.14927.md\n",
      "\t _build/html/2208.09335.md\n",
      "\t _build/html/2208.08872.md\n",
      "\t _build/html/2204.06393.md\n",
      "\t _build/html/2204.03335.md\n",
      "\t _build/html/2204.03253.md\n",
      "\t _build/html/2204.02998.md\n",
      "\t _build/html/2204.02109.md\n",
      "\t _build/html/2204.02017.md\n",
      "\t _build/html/2204.01824.md\n",
      "\t _build/html/2204.01758.md\n",
      "\t _build/html/2204.01245.md\n",
      "\t _build/html/2204.00793.md\n",
      "\t _build/html/2204.00342.md\n",
      "\t _build/html/2203.16959.md\n",
      "\t _build/html/2203.16856.md\n",
      "\t _build/html/2203.16735.md\n",
      "\t _build/html/2203.16734.md\n",
      "\t _build/html/2203.16504.md\n",
      "\t _build/html/2203.15822.md\n",
      "\t _build/html/2203.15811.md\n"
     ]
    }
   ],
   "source": [
    "from datetime import datetime, timedelta, timezone\n",
    "from glob import glob\n",
    "\n",
    "files = glob('_build/html/*.md')\n",
    "days = 7\n",
    "now = datetime.today()\n",
    "res = []\n",
    "for fk in files:\n",
    "    stat_result = os.stat(fk).st_ctime\n",
    "    modified = datetime.fromtimestamp(stat_result, tz=timezone.utc).replace(tzinfo=None)\n",
    "    delta = now.today() - modified\n",
    "    if delta <= timedelta(days=days):\n",
    "        res.append((delta.seconds, fk))\n",
    "res = [k[1] for k in reversed(sorted(res, key=lambda x:x[1]))]\n",
    "npub = len(res)\n",
    "print(len(res), f\" publications in the last {days:d} days.\")\n",
    "[ print('\\t', k) for k in res ];"
   ]
  },
  {
   "cell_type": "code",
   "execution_count": 11,
   "id": "52ca0208",
   "metadata": {
    "execution": {
     "iopub.execute_input": "2022-12-12T04:08:53.185455Z",
     "iopub.status.busy": "2022-12-12T04:08:53.184980Z",
     "iopub.status.idle": "2022-12-12T04:08:53.191211Z",
     "shell.execute_reply": "2022-12-12T04:08:53.190595Z"
    },
    "papermill": {
     "duration": 0.018047,
     "end_time": "2022-12-12T04:08:53.192887",
     "exception": false,
     "start_time": "2022-12-12T04:08:53.174840",
     "status": "completed"
    },
    "scrolled": false,
    "tags": []
   },
   "outputs": [],
   "source": [
    "def create_carousel(npub=4):\n",
    "    \"\"\" Generate the HTML code for a carousel with `npub` slides \"\"\"\n",
    "    carousel = [\"\"\"<section class=\"carousel\" aria-label=\"Gallery\">\"\"\",\n",
    "                \"\"\"  <ol class=\"carousel__viewport\">\"\"\",\n",
    "    ]\n",
    "    for k in range(1, npub + 1):\n",
    "        prev_ = k - 1\n",
    "        next_ = k + 1\n",
    "        if prev_ <= 0:\n",
    "            prev_ = npub\n",
    "        if next_ > npub:\n",
    "            next_ = 1\n",
    "        text  = f\"\"\"    <li id=\"carousel__slide{k}\" tabindex=\"0\" class=\"carousel__slide\">\\n\"\"\"\n",
    "        text += f\"\"\"       <div class=\"carousel__snapper\">\\n\"\"\"\n",
    "        text += f\"\"\"         <a href=\"#carousel__slide{prev_}\" class=\"carousel__prev\">Go to previous slide</a>\\n\"\"\"\n",
    "        text += f\"\"\"         <a href=\"#carousel__slide{next_}\" class=\"carousel__next\">Go to next slide</a>\\n\"\"\"\n",
    "        text += f\"\"\"         <div id=\"slide{k}_content\" class=\"md_view\" >Content {k}</div>\\n\"\"\"\n",
    "        text += f\"\"\"       </div>\\n\"\"\"\n",
    "        text += f\"\"\"    </li>\"\"\"\n",
    "        carousel.append(text)\n",
    "\n",
    "    carousel.extend([\n",
    "        \"\"\"  </ol>\"\"\",\n",
    "        \"\"\"  <aside class=\"carousel__navigation\">\"\"\",\n",
    "        \"\"\"    <ol class=\"carousel__navigation-list\">\"\"\"])\n",
    "\n",
    "    for k in range(1, npub + 1):\n",
    "        text  = f\"\"\"      <li class=\"carousel__navigation-item\">\\n\"\"\"\n",
    "        text += f\"\"\"        <a href=\"#carousel__slide{k}\" class=\"carousel__navigation-button\">Go to {k}</a>\\n\"\"\"\n",
    "        text += f\"\"\"      </li>\"\"\"\n",
    "        carousel.append(text)\n",
    "    carousel.extend([\"\"\"    </ol>\"\"\", \"\"\"  </aside>\"\"\", \"\"\"</section>\"\"\"])\n",
    "\n",
    "    return '\\n'.join(carousel)"
   ]
  },
  {
   "cell_type": "code",
   "execution_count": 12,
   "id": "a6eac5b6",
   "metadata": {
    "execution": {
     "iopub.execute_input": "2022-12-12T04:08:53.213313Z",
     "iopub.status.busy": "2022-12-12T04:08:53.213060Z",
     "iopub.status.idle": "2022-12-12T04:08:53.219462Z",
     "shell.execute_reply": "2022-12-12T04:08:53.218831Z"
    },
    "papermill": {
     "duration": 0.018574,
     "end_time": "2022-12-12T04:08:53.220859",
     "exception": false,
     "start_time": "2022-12-12T04:08:53.202285",
     "status": "completed"
    },
    "scrolled": false,
    "tags": []
   },
   "outputs": [],
   "source": [
    "carousel = create_carousel(npub)\n",
    "docs = ', '.join(['\"{0:s}\"'.format(k.split('/')[-1]) for k in res])\n",
    "slides = ', '.join([f'\"slide{k}_content\"' for k in range(1, npub + 1)])\n",
    "\n",
    "script = f\"\"\"\n",
    "const docs = [{docs}]\n",
    "\n",
    "const slides = [{slides}]\n",
    "\"\"\" + \"\"\"\n",
    "async function run() {\n",
    "    for (let i = 0; i < docs.length; i++) {\n",
    "        let file = await fetch(docs[i]);\n",
    "        let text = await file.text()\n",
    "        document.getElementById(slides[i]).innerHTML =\n",
    "            marked.parse(text);\n",
    "    }\n",
    "    hljs.highlightAll();\n",
    "}\n",
    "run()\n",
    "\"\"\"\n",
    "\n",
    "page = f\"\"\"<!doctype html>\n",
    "<html lang=\"en\">\n",
    "\n",
    "<head>\n",
    "  <meta charset=\"utf-8\">\n",
    "  <meta name=\"viewport\" content=\"width=device-width, initial-scale=1\">\n",
    "  <!-- Bootstrap CSS -->\n",
    "  <link href=\"https://cdn.jsdelivr.net/npm/bootstrap@5.0.2/dist/css/bootstrap.min.css\" rel=\"stylesheet\"\n",
    "   integrity=\"sha384-EVSTQN3/azprG1Anm3QDgpJLIm9Nao0Yz1ztcQTwFspd3yD65VohhpuuCOmLASjC\" crossorigin=\"anonymous\">\n",
    "  <!-- highlight.js CSS -->\n",
    "  <link rel=\"stylesheet\" href=\"https://cdnjs.cloudflare.com/ajax/libs/highlight.js/11.1.0/styles/default.min.css\">\n",
    "  <!-- Mathjax 3 -->\n",
    "  <script type=\"text/javascript\" id=\"MathJax-config\" src=\"mathjax_config.js\"> </script>\n",
    "  <script type=\"text/javascript\" id=\"MathJax-script\" async \n",
    "    src=\"https://cdn.jsdelivr.net/npm/mathjax@3/es5/tex-mml-chtml.js\">\n",
    "  </script>\n",
    "  <link rel=\"stylesheet\" href=\"index_carousel.css\">\n",
    "  <link rel=\"icon\" type=\"image/x-icon\" href=\"https://www.mpia.de/assets/touch-icon-32x32-a66937bcebc4e8894ebff1f41a366c7c7220fd97a38869ee0f2db65a9f59b6c1.png\">\n",
    "  <title>MPIA Arxiv on deck!</title>\n",
    "</head>\n",
    "\n",
    "<body>\n",
    "  <div id=\"header\"> <img src=\"header_banner.png\" width=\"100%\"></div>\n",
    "  <div id=\"suptitle\"> 7-day archives </div>\n",
    "  <div id=\"info\">\n",
    "    <img src=\"https://pngimg.com/uploads/github/github_PNG58.png\" height=30rem></img>\n",
    "    <a href=https://github.com/mpi-astronomy/arxiv_display style=\"color:black;\">github/mpi-astronomy/arxiv_display</a> \n",
    "  </div>\n",
    "  {carousel:s}\n",
    "</body>\n",
    "\n",
    "<!-- Render Markdown -->\n",
    "\n",
    "<body>\n",
    "  <!-- highlight.js: https://highlightjs.org/download/ -->\n",
    "  <script src=\"https://cdnjs.cloudflare.com/ajax/libs/highlight.js/11.5.0/highlight.min.js\"></script>\n",
    "  <!-- marked.js -->\n",
    "  <script src=\"https://cdn.jsdelivr.net/npm/marked/marked.min.js\"></script>\n",
    "  <script>{script:s}</script>\n",
    "</body>\n",
    "</html>\n",
    "\"\"\"\n",
    "with open(\"_build/html/index_7days.html\", 'w') as fout:\n",
    "    fout.write(page)"
   ]
  },
  {
   "cell_type": "markdown",
   "id": "1cebacbc",
   "metadata": {
    "papermill": {
     "duration": 0.00923,
     "end_time": "2022-12-12T04:08:53.239432",
     "exception": false,
     "start_time": "2022-12-12T04:08:53.230202",
     "status": "completed"
    },
    "tags": []
   },
   "source": [
    "# Debugging papers"
   ]
  },
  {
   "cell_type": "raw",
   "id": "debe7cc6",
   "metadata": {
    "papermill": {
     "duration": 0.009178,
     "end_time": "2022-12-12T04:08:53.257936",
     "exception": false,
     "start_time": "2022-12-12T04:08:53.248758",
     "status": "completed"
    },
    "tags": []
   },
   "source": [
    "raise NotImplementedError(\"Manual Stop\")"
   ]
  },
  {
   "cell_type": "raw",
   "id": "eb169192",
   "metadata": {
    "papermill": {
     "duration": 0.00923,
     "end_time": "2022-12-12T04:08:53.276532",
     "exception": false,
     "start_time": "2022-12-12T04:08:53.267302",
     "status": "completed"
    },
    "scrolled": true,
    "tags": []
   },
   "source": [
    "from IPython.display import display, Markdown\n",
    "from TexSoup import TexSoup\n",
    "import re\n",
    "\n",
    "def bracket_error(source: str):\n",
    "    \"\"\" Find problematic portions of the document \"\"\"\n",
    "    \n",
    "    print(\"len(source)\", len(source))\n",
    "    \n",
    "    # Checking header\n",
    "    begin_doc = next(re.finditer(r'\\\\begin\\{document\\}', doc.source)).span()[1]\n",
    "    header = source[:begin_doc]\n",
    "    text = header + r\"\\n\\end{document}\"\n",
    "\n",
    "    try:\n",
    "        # print(\"Header check... \", end='')\n",
    "        TexSoup(text)\n",
    "        display(Markdown(f\"**[OK]** - Header\"))\n",
    "    except:\n",
    "        raise RuntimeError(\"Error in the header\")\n",
    "        \n",
    "    # Check the text per section until the end.\n",
    "    # Do not stop and try them all.\n",
    "    \n",
    "    problematic_text = []\n",
    "    \n",
    "    sections = ([(0, begin_doc, 'until first section')] + \n",
    "                [(g.span()[0], g.span()[1], g.group()) for g in re.finditer(r'\\\\section\\{.*\\}', source)] +\n",
    "                [(g.span()[0], g.span()[1], g.group()) for g in re.finditer(r'\\\\begin\\{appendix\\}', source)]\n",
    "               )\n",
    "    sections.append([len(source), len(source), 'end'])\n",
    "    \n",
    "    sections = sorted(sections, key=lambda x: x[0])\n",
    "    \n",
    "    prev_pos, prev_name = (0, 'header')\n",
    "    parsed = []\n",
    "    \n",
    "    for span, span_end, name in sections:\n",
    "\n",
    "        if span - prev_pos <= 0:\n",
    "            continue\n",
    "            \n",
    "\n",
    "        text = source[prev_pos:span]\n",
    "        if prev_pos > begin_doc:\n",
    "            text = r\"\\n\\begin{document}\" + text + r\"\\n\\end{document}\"\n",
    "        else:\n",
    "            text = text + r\"\\n\\end{document}\"\n",
    "        try:\n",
    "            #print(f\"{prev_pos}:{prev_name}-->{span}:{name} check... \", end='')\n",
    "            parsed.append(TexSoup(text, tolerance=1))  # allow not ending env\n",
    "            display(Markdown(f\"**[OK]** - *{prev_pos}*:{prev_name} &rarr; *{span}*:{name}\"))\n",
    "            # print(\"ok\")\n",
    "\n",
    "            prev_pos = span\n",
    "            prev_name = name\n",
    "        except:\n",
    "            # print(f\"error between {prev_pos} and {span}\")\n",
    "            display(Markdown(f\"**[ERR]** *{prev_pos}*:{prev_name} &rarr; *{span}*:{name}\"))\n",
    "            problematic_text.append((prev_pos, source[prev_pos:span]))\n",
    "            prev_pos = span\n",
    "            prev_name = name\n",
    "            # raise\n",
    "    return problematic_text, parsed\n",
    "\n",
    "\n",
    "def check_environment(text, offset=0):\n",
    "    \"\"\" Check environment \"\"\"\n",
    "    env = re.compile(r\"\\\\begin\\{(?P<env>.*)\\}(.*)\\\\end\\{(?P=env)\\}\", re.DOTALL)\n",
    "\n",
    "    for match in env.finditer(text):\n",
    "        beg, end = match.span()\n",
    "        beg += offset\n",
    "        end += offset\n",
    "        envname = match.groups()[0]\n",
    "        try:\n",
    "            latex.TexSoup(match.group())\n",
    "        except Exception as e:\n",
    "            display(e)\n",
    "            print(f\"Error in {envname:s} between {beg} and {end}\")\n",
    "            return match.groups()[1], beg, end"
   ]
  },
  {
   "cell_type": "raw",
   "id": "2315e835",
   "metadata": {
    "papermill": {
     "duration": 0.00925,
     "end_time": "2022-12-12T04:08:53.295308",
     "exception": false,
     "start_time": "2022-12-12T04:08:53.286058",
     "status": "completed"
    },
    "scrolled": false,
    "tags": []
   },
   "source": [
    "import importlib\n",
    "importlib.reload(latex)\n",
    "which = \"2204.03253\"\n",
    "paper_id = f'{which:s}'\n",
    "folder = f'tmp_{paper_id:s}'\n",
    "\n",
    "if not os.path.isdir(folder):\n",
    "    folder = retrieve_document_source(f\"{paper_id}\", f'tmp_{paper_id}')\n",
    "\n",
    "try:\n",
    "    doc = latex.LatexDocument(folder, validation=validation)    \n",
    "except AffiliationError as affilerror:\n",
    "    msg = f\"ArXiv:{paper_id:s} is not an MPIA paper... \" + str(affilerror)\n",
    "    print(msg)\n",
    "\n",
    "\n",
    "# Hack because sometimes author parsing does not work well\n",
    "if (len(doc.authors) != len(paper['authors'])):\n",
    "    doc._authors = paper['authors']\n",
    "if (doc.abstract) in (None, ''):\n",
    "    doc._abstract = paper['abstract']\n",
    "\n",
    "doc.comment = get_markdown_badge(paper_id) + \" _\" + paper['comments'] + \"_\"\n",
    "doc.highlight_authors_in_list(hl_list)\n",
    "\n",
    "full_md = doc.generate_markdown_text()"
   ]
  },
  {
   "cell_type": "raw",
   "id": "dd3781db",
   "metadata": {
    "papermill": {
     "duration": 0.009423,
     "end_time": "2022-12-12T04:08:53.342340",
     "exception": false,
     "start_time": "2022-12-12T04:08:53.332917",
     "status": "completed"
    },
    "scrolled": false,
    "tags": []
   },
   "source": [
    "doc"
   ]
  },
  {
   "cell_type": "raw",
   "id": "c6eed834",
   "metadata": {
    "papermill": {
     "duration": 0.00926,
     "end_time": "2022-12-12T04:08:53.361025",
     "exception": false,
     "start_time": "2022-12-12T04:08:53.351765",
     "status": "completed"
    },
    "tags": []
   },
   "source": [
    "# [check_environment(k) for k in bracket_error(doc.source)]\n",
    "_, _, a = latex.get_content_per_section(doc.source, verbose=True)\n",
    "if not a:\n",
    "    print(\"no issues per section\")\n",
    "for ak in a:\n",
    "    r = check_environment(ak[1], offset=ak[0])\n",
    "    print(r[1], r[2])\n",
    "    print(r[0])"
   ]
  },
  {
   "cell_type": "code",
   "execution_count": null,
   "id": "71ce768a",
   "metadata": {
    "papermill": {
     "duration": 0.009315,
     "end_time": "2022-12-12T04:08:53.379651",
     "exception": false,
     "start_time": "2022-12-12T04:08:53.370336",
     "status": "completed"
    },
    "tags": []
   },
   "outputs": [],
   "source": []
  }
 ],
 "metadata": {
  "kernelspec": {
   "display_name": "Python 3.10.6 64-bit",
   "language": "python",
   "name": "python3"
  },
  "language_info": {
   "codemirror_mode": {
    "name": "ipython",
    "version": 3
   },
   "file_extension": ".py",
   "mimetype": "text/x-python",
   "name": "python",
   "nbconvert_exporter": "python",
   "pygments_lexer": "ipython3",
   "version": "3.9.15"
  },
  "papermill": {
   "default_parameters": {},
   "duration": 90.491886,
   "end_time": "2022-12-12T04:08:53.608329",
   "environment_variables": {},
   "exception": null,
   "input_path": "MPIA daily digest.ipynb",
   "output_path": "log.ipynb",
   "parameters": {},
   "start_time": "2022-12-12T04:07:23.116443",
   "version": "2.4.0"
  },
  "vscode": {
   "interpreter": {
    "hash": "e7370f93d1d0cde622a1f8e1c04877d8463912d04d973331ad4851f04de6915a"
   }
  },
  "widgets": {
   "application/vnd.jupyter.widget-state+json": {
    "state": {
     "135778b89eef42efb79fd342a7baaaba": {
      "model_module": "@jupyter-widgets/base",
      "model_module_version": "2.0.0",
      "model_name": "LayoutModel",
      "state": {
       "_model_module": "@jupyter-widgets/base",
       "_model_module_version": "2.0.0",
       "_model_name": "LayoutModel",
       "_view_count": null,
       "_view_module": "@jupyter-widgets/base",
       "_view_module_version": "2.0.0",
       "_view_name": "LayoutView",
       "align_content": null,
       "align_items": null,
       "align_self": null,
       "border_bottom": null,
       "border_left": null,
       "border_right": null,
       "border_top": null,
       "bottom": null,
       "display": null,
       "flex": null,
       "flex_flow": null,
       "grid_area": null,
       "grid_auto_columns": null,
       "grid_auto_flow": null,
       "grid_auto_rows": null,
       "grid_column": null,
       "grid_gap": null,
       "grid_row": null,
       "grid_template_areas": null,
       "grid_template_columns": null,
       "grid_template_rows": null,
       "height": null,
       "justify_content": null,
       "justify_items": null,
       "left": null,
       "margin": null,
       "max_height": null,
       "max_width": null,
       "min_height": null,
       "min_width": null,
       "object_fit": null,
       "object_position": null,
       "order": null,
       "overflow": null,
       "padding": null,
       "right": null,
       "top": null,
       "visibility": null,
       "width": null
      }
     },
     "1ba1d94f24e34fadb7f65e48c4e1a4a4": {
      "model_module": "@jupyter-widgets/base",
      "model_module_version": "2.0.0",
      "model_name": "LayoutModel",
      "state": {
       "_model_module": "@jupyter-widgets/base",
       "_model_module_version": "2.0.0",
       "_model_name": "LayoutModel",
       "_view_count": null,
       "_view_module": "@jupyter-widgets/base",
       "_view_module_version": "2.0.0",
       "_view_name": "LayoutView",
       "align_content": null,
       "align_items": null,
       "align_self": null,
       "border_bottom": null,
       "border_left": null,
       "border_right": null,
       "border_top": null,
       "bottom": null,
       "display": null,
       "flex": null,
       "flex_flow": null,
       "grid_area": null,
       "grid_auto_columns": null,
       "grid_auto_flow": null,
       "grid_auto_rows": null,
       "grid_column": null,
       "grid_gap": null,
       "grid_row": null,
       "grid_template_areas": null,
       "grid_template_columns": null,
       "grid_template_rows": null,
       "height": null,
       "justify_content": null,
       "justify_items": null,
       "left": null,
       "margin": null,
       "max_height": null,
       "max_width": null,
       "min_height": null,
       "min_width": null,
       "object_fit": null,
       "object_position": null,
       "order": null,
       "overflow": null,
       "padding": null,
       "right": null,
       "top": null,
       "visibility": null,
       "width": null
      }
     },
     "236e01a755e046be9b89cbfc44d3ee7e": {
      "model_module": "@jupyter-widgets/controls",
      "model_module_version": "2.0.0",
      "model_name": "HBoxModel",
      "state": {
       "_dom_classes": [],
       "_model_module": "@jupyter-widgets/controls",
       "_model_module_version": "2.0.0",
       "_model_name": "HBoxModel",
       "_view_count": null,
       "_view_module": "@jupyter-widgets/controls",
       "_view_module_version": "2.0.0",
       "_view_name": "HBoxView",
       "box_style": "",
       "children": [
        "IPY_MODEL_73904a7e23b84dcb970e1cdeeecf2b25",
        "IPY_MODEL_aa1e7ae6179440f79616ad55cc5aaefb",
        "IPY_MODEL_959a9caff736436281430f99ab7bc0d9"
       ],
       "layout": "IPY_MODEL_e504a45dccd740988e5e990a9f7104b8",
       "tabbable": null,
       "tooltip": null
      }
     },
     "2bed62f98a2f4629b9d36ed27e660511": {
      "model_module": "@jupyter-widgets/controls",
      "model_module_version": "2.0.0",
      "model_name": "HTMLStyleModel",
      "state": {
       "_model_module": "@jupyter-widgets/controls",
       "_model_module_version": "2.0.0",
       "_model_name": "HTMLStyleModel",
       "_view_count": null,
       "_view_module": "@jupyter-widgets/base",
       "_view_module_version": "2.0.0",
       "_view_name": "StyleView",
       "background": null,
       "description_width": "",
       "font_size": null,
       "text_color": null
      }
     },
     "3692aeb0b9ba435cbefde65b0fcabdf4": {
      "model_module": "@jupyter-widgets/controls",
      "model_module_version": "2.0.0",
      "model_name": "ProgressStyleModel",
      "state": {
       "_model_module": "@jupyter-widgets/controls",
       "_model_module_version": "2.0.0",
       "_model_name": "ProgressStyleModel",
       "_view_count": null,
       "_view_module": "@jupyter-widgets/base",
       "_view_module_version": "2.0.0",
       "_view_name": "StyleView",
       "bar_color": null,
       "description_width": ""
      }
     },
     "46ed706b76ac444c834fb1f18d672950": {
      "model_module": "@jupyter-widgets/controls",
      "model_module_version": "2.0.0",
      "model_name": "FloatProgressModel",
      "state": {
       "_dom_classes": [],
       "_model_module": "@jupyter-widgets/controls",
       "_model_module_version": "2.0.0",
       "_model_name": "FloatProgressModel",
       "_view_count": null,
       "_view_module": "@jupyter-widgets/controls",
       "_view_module_version": "2.0.0",
       "_view_name": "ProgressView",
       "bar_style": "",
       "description": "",
       "description_allow_html": false,
       "layout": "IPY_MODEL_7890ab0c411b43f1ab0c65a6612e231b",
       "max": 17.0,
       "min": 0.0,
       "orientation": "horizontal",
       "style": "IPY_MODEL_3692aeb0b9ba435cbefde65b0fcabdf4",
       "tabbable": null,
       "tooltip": null,
       "value": 0.0
      }
     },
     "6f69a2e3b7fc4f488cf748a3b163bf5e": {
      "model_module": "@jupyter-widgets/controls",
      "model_module_version": "2.0.0",
      "model_name": "ProgressStyleModel",
      "state": {
       "_model_module": "@jupyter-widgets/controls",
       "_model_module_version": "2.0.0",
       "_model_name": "ProgressStyleModel",
       "_view_count": null,
       "_view_module": "@jupyter-widgets/base",
       "_view_module_version": "2.0.0",
       "_view_name": "StyleView",
       "bar_color": null,
       "description_width": ""
      }
     },
     "73904a7e23b84dcb970e1cdeeecf2b25": {
      "model_module": "@jupyter-widgets/controls",
      "model_module_version": "2.0.0",
      "model_name": "HTMLModel",
      "state": {
       "_dom_classes": [],
       "_model_module": "@jupyter-widgets/controls",
       "_model_module_version": "2.0.0",
       "_model_name": "HTMLModel",
       "_view_count": null,
       "_view_module": "@jupyter-widgets/controls",
       "_view_module_version": "2.0.0",
       "_view_name": "HTMLView",
       "description": "",
       "description_allow_html": false,
       "layout": "IPY_MODEL_ddf9c2b6fc7e4de7a176b5da5c15cef2",
       "placeholder": "​",
       "style": "IPY_MODEL_c44f805c99114fcbaa2686103344b917",
       "tabbable": null,
       "tooltip": null,
       "value": "100%"
      }
     },
     "7890ab0c411b43f1ab0c65a6612e231b": {
      "model_module": "@jupyter-widgets/base",
      "model_module_version": "2.0.0",
      "model_name": "LayoutModel",
      "state": {
       "_model_module": "@jupyter-widgets/base",
       "_model_module_version": "2.0.0",
       "_model_name": "LayoutModel",
       "_view_count": null,
       "_view_module": "@jupyter-widgets/base",
       "_view_module_version": "2.0.0",
       "_view_name": "LayoutView",
       "align_content": null,
       "align_items": null,
       "align_self": null,
       "border_bottom": null,
       "border_left": null,
       "border_right": null,
       "border_top": null,
       "bottom": null,
       "display": null,
       "flex": null,
       "flex_flow": null,
       "grid_area": null,
       "grid_auto_columns": null,
       "grid_auto_flow": null,
       "grid_auto_rows": null,
       "grid_column": null,
       "grid_gap": null,
       "grid_row": null,
       "grid_template_areas": null,
       "grid_template_columns": null,
       "grid_template_rows": null,
       "height": null,
       "justify_content": null,
       "justify_items": null,
       "left": null,
       "margin": null,
       "max_height": null,
       "max_width": null,
       "min_height": null,
       "min_width": null,
       "object_fit": null,
       "object_position": null,
       "order": null,
       "overflow": null,
       "padding": null,
       "right": null,
       "top": null,
       "visibility": null,
       "width": null
      }
     },
     "8797950073754f2bb77b3d0ee12cc018": {
      "model_module": "@jupyter-widgets/controls",
      "model_module_version": "2.0.0",
      "model_name": "HTMLModel",
      "state": {
       "_dom_classes": [],
       "_model_module": "@jupyter-widgets/controls",
       "_model_module_version": "2.0.0",
       "_model_name": "HTMLModel",
       "_view_count": null,
       "_view_module": "@jupyter-widgets/controls",
       "_view_module_version": "2.0.0",
       "_view_name": "HTMLView",
       "description": "",
       "description_allow_html": false,
       "layout": "IPY_MODEL_ddf9c2b6fc7e4de7a176b5da5c15cef2",
       "placeholder": "​",
       "style": "IPY_MODEL_c44f805c99114fcbaa2686103344b917",
       "tabbable": null,
       "tooltip": null,
       "value": ""
      }
     },
     "8cb950d2698a4b88951e29b0dced37e3": {
      "model_module": "@jupyter-widgets/base",
      "model_module_version": "2.0.0",
      "model_name": "LayoutModel",
      "state": {
       "_model_module": "@jupyter-widgets/base",
       "_model_module_version": "2.0.0",
       "_model_name": "LayoutModel",
       "_view_count": null,
       "_view_module": "@jupyter-widgets/base",
       "_view_module_version": "2.0.0",
       "_view_name": "LayoutView",
       "align_content": null,
       "align_items": null,
       "align_self": null,
       "border_bottom": null,
       "border_left": null,
       "border_right": null,
       "border_top": null,
       "bottom": null,
       "display": null,
       "flex": null,
       "flex_flow": null,
       "grid_area": null,
       "grid_auto_columns": null,
       "grid_auto_flow": null,
       "grid_auto_rows": null,
       "grid_column": null,
       "grid_gap": null,
       "grid_row": null,
       "grid_template_areas": null,
       "grid_template_columns": null,
       "grid_template_rows": null,
       "height": null,
       "justify_content": null,
       "justify_items": null,
       "left": null,
       "margin": null,
       "max_height": null,
       "max_width": null,
       "min_height": null,
       "min_width": null,
       "object_fit": null,
       "object_position": null,
       "order": null,
       "overflow": null,
       "padding": null,
       "right": null,
       "top": null,
       "visibility": null,
       "width": null
      }
     },
     "959a9caff736436281430f99ab7bc0d9": {
      "model_module": "@jupyter-widgets/controls",
      "model_module_version": "2.0.0",
      "model_name": "HTMLModel",
      "state": {
       "_dom_classes": [],
       "_model_module": "@jupyter-widgets/controls",
       "_model_module_version": "2.0.0",
       "_model_name": "HTMLModel",
       "_view_count": null,
       "_view_module": "@jupyter-widgets/controls",
       "_view_module_version": "2.0.0",
       "_view_name": "HTMLView",
       "description": "",
       "description_allow_html": false,
       "layout": "IPY_MODEL_135778b89eef42efb79fd342a7baaaba",
       "placeholder": "​",
       "style": "IPY_MODEL_dd7f45fefced4781a3d948b9ac875e42",
       "tabbable": null,
       "tooltip": null,
       "value": " 17/17 [01:01&lt;00:00,  3.72s/it]"
      }
     },
     "9af705fd7f14449a9afaca91acdbe19b": {
      "model_module": "@jupyter-widgets/base",
      "model_module_version": "2.0.0",
      "model_name": "LayoutModel",
      "state": {
       "_model_module": "@jupyter-widgets/base",
       "_model_module_version": "2.0.0",
       "_model_name": "LayoutModel",
       "_view_count": null,
       "_view_module": "@jupyter-widgets/base",
       "_view_module_version": "2.0.0",
       "_view_name": "LayoutView",
       "align_content": null,
       "align_items": null,
       "align_self": null,
       "border_bottom": null,
       "border_left": null,
       "border_right": null,
       "border_top": null,
       "bottom": null,
       "display": null,
       "flex": null,
       "flex_flow": null,
       "grid_area": null,
       "grid_auto_columns": null,
       "grid_auto_flow": null,
       "grid_auto_rows": null,
       "grid_column": null,
       "grid_gap": null,
       "grid_row": null,
       "grid_template_areas": null,
       "grid_template_columns": null,
       "grid_template_rows": null,
       "height": null,
       "justify_content": null,
       "justify_items": null,
       "left": null,
       "margin": null,
       "max_height": null,
       "max_width": null,
       "min_height": null,
       "min_width": null,
       "object_fit": null,
       "object_position": null,
       "order": null,
       "overflow": null,
       "padding": null,
       "right": null,
       "top": null,
       "visibility": null,
       "width": null
      }
     },
     "9fb70c4f26b149a88d2e1d361e93a2d2": {
      "model_module": "@jupyter-widgets/controls",
      "model_module_version": "2.0.0",
      "model_name": "HTMLStyleModel",
      "state": {
       "_model_module": "@jupyter-widgets/controls",
       "_model_module_version": "2.0.0",
       "_model_name": "HTMLStyleModel",
       "_view_count": null,
       "_view_module": "@jupyter-widgets/base",
       "_view_module_version": "2.0.0",
       "_view_name": "StyleView",
       "background": null,
       "description_width": "",
       "font_size": null,
       "text_color": null
      }
     },
     "aa1e7ae6179440f79616ad55cc5aaefb": {
      "model_module": "@jupyter-widgets/controls",
      "model_module_version": "2.0.0",
      "model_name": "FloatProgressModel",
      "state": {
       "_dom_classes": [],
       "_model_module": "@jupyter-widgets/controls",
       "_model_module_version": "2.0.0",
       "_model_name": "FloatProgressModel",
       "_view_count": null,
       "_view_module": "@jupyter-widgets/controls",
       "_view_module_version": "2.0.0",
       "_view_name": "ProgressView",
       "bar_style": "success",
       "description": "",
       "description_allow_html": false,
       "layout": "IPY_MODEL_7890ab0c411b43f1ab0c65a6612e231b",
       "max": 17.0,
       "min": 0.0,
       "orientation": "horizontal",
       "style": "IPY_MODEL_3692aeb0b9ba435cbefde65b0fcabdf4",
       "tabbable": null,
       "tooltip": null,
       "value": 17.0
      }
     },
     "c44f805c99114fcbaa2686103344b917": {
      "model_module": "@jupyter-widgets/controls",
      "model_module_version": "2.0.0",
      "model_name": "HTMLStyleModel",
      "state": {
       "_model_module": "@jupyter-widgets/controls",
       "_model_module_version": "2.0.0",
       "_model_name": "HTMLStyleModel",
       "_view_count": null,
       "_view_module": "@jupyter-widgets/base",
       "_view_module_version": "2.0.0",
       "_view_name": "StyleView",
       "background": null,
       "description_width": "",
       "font_size": null,
       "text_color": null
      }
     },
     "c5a133a3f564471e93539290424e05fa": {
      "model_module": "@jupyter-widgets/controls",
      "model_module_version": "2.0.0",
      "model_name": "HBoxModel",
      "state": {
       "_dom_classes": [],
       "_model_module": "@jupyter-widgets/controls",
       "_model_module_version": "2.0.0",
       "_model_name": "HBoxModel",
       "_view_count": null,
       "_view_module": "@jupyter-widgets/controls",
       "_view_module_version": "2.0.0",
       "_view_name": "HBoxView",
       "box_style": "",
       "children": [
        "IPY_MODEL_73904a7e23b84dcb970e1cdeeecf2b25",
        "IPY_MODEL_aa1e7ae6179440f79616ad55cc5aaefb",
        "IPY_MODEL_959a9caff736436281430f99ab7bc0d9"
       ],
       "layout": "IPY_MODEL_e504a45dccd740988e5e990a9f7104b8",
       "tabbable": null,
       "tooltip": null
      }
     },
     "c6d02eb383864032b776d76eea986503": {
      "model_module": "@jupyter-widgets/base",
      "model_module_version": "2.0.0",
      "model_name": "LayoutModel",
      "state": {
       "_model_module": "@jupyter-widgets/base",
       "_model_module_version": "2.0.0",
       "_model_name": "LayoutModel",
       "_view_count": null,
       "_view_module": "@jupyter-widgets/base",
       "_view_module_version": "2.0.0",
       "_view_name": "LayoutView",
       "align_content": null,
       "align_items": null,
       "align_self": null,
       "border_bottom": null,
       "border_left": null,
       "border_right": null,
       "border_top": null,
       "bottom": null,
       "display": null,
       "flex": null,
       "flex_flow": null,
       "grid_area": null,
       "grid_auto_columns": null,
       "grid_auto_flow": null,
       "grid_auto_rows": null,
       "grid_column": null,
       "grid_gap": null,
       "grid_row": null,
       "grid_template_areas": null,
       "grid_template_columns": null,
       "grid_template_rows": null,
       "height": null,
       "justify_content": null,
       "justify_items": null,
       "left": null,
       "margin": null,
       "max_height": null,
       "max_width": null,
       "min_height": null,
       "min_width": null,
       "object_fit": null,
       "object_position": null,
       "order": null,
       "overflow": null,
       "padding": null,
       "right": null,
       "top": null,
       "visibility": null,
       "width": null
      }
     },
     "dd7f45fefced4781a3d948b9ac875e42": {
      "model_module": "@jupyter-widgets/controls",
      "model_module_version": "2.0.0",
      "model_name": "HTMLStyleModel",
      "state": {
       "_model_module": "@jupyter-widgets/controls",
       "_model_module_version": "2.0.0",
       "_model_name": "HTMLStyleModel",
       "_view_count": null,
       "_view_module": "@jupyter-widgets/base",
       "_view_module_version": "2.0.0",
       "_view_name": "StyleView",
       "background": null,
       "description_width": "",
       "font_size": null,
       "text_color": null
      }
     },
     "ddf9c2b6fc7e4de7a176b5da5c15cef2": {
      "model_module": "@jupyter-widgets/base",
      "model_module_version": "2.0.0",
      "model_name": "LayoutModel",
      "state": {
       "_model_module": "@jupyter-widgets/base",
       "_model_module_version": "2.0.0",
       "_model_name": "LayoutModel",
       "_view_count": null,
       "_view_module": "@jupyter-widgets/base",
       "_view_module_version": "2.0.0",
       "_view_name": "LayoutView",
       "align_content": null,
       "align_items": null,
       "align_self": null,
       "border_bottom": null,
       "border_left": null,
       "border_right": null,
       "border_top": null,
       "bottom": null,
       "display": null,
       "flex": null,
       "flex_flow": null,
       "grid_area": null,
       "grid_auto_columns": null,
       "grid_auto_flow": null,
       "grid_auto_rows": null,
       "grid_column": null,
       "grid_gap": null,
       "grid_row": null,
       "grid_template_areas": null,
       "grid_template_columns": null,
       "grid_template_rows": null,
       "height": null,
       "justify_content": null,
       "justify_items": null,
       "left": null,
       "margin": null,
       "max_height": null,
       "max_width": null,
       "min_height": null,
       "min_width": null,
       "object_fit": null,
       "object_position": null,
       "order": null,
       "overflow": null,
       "padding": null,
       "right": null,
       "top": null,
       "visibility": null,
       "width": null
      }
     },
     "e504a45dccd740988e5e990a9f7104b8": {
      "model_module": "@jupyter-widgets/base",
      "model_module_version": "2.0.0",
      "model_name": "LayoutModel",
      "state": {
       "_model_module": "@jupyter-widgets/base",
       "_model_module_version": "2.0.0",
       "_model_name": "LayoutModel",
       "_view_count": null,
       "_view_module": "@jupyter-widgets/base",
       "_view_module_version": "2.0.0",
       "_view_name": "LayoutView",
       "align_content": null,
       "align_items": null,
       "align_self": null,
       "border_bottom": null,
       "border_left": null,
       "border_right": null,
       "border_top": null,
       "bottom": null,
       "display": null,
       "flex": null,
       "flex_flow": null,
       "grid_area": null,
       "grid_auto_columns": null,
       "grid_auto_flow": null,
       "grid_auto_rows": null,
       "grid_column": null,
       "grid_gap": null,
       "grid_row": null,
       "grid_template_areas": null,
       "grid_template_columns": null,
       "grid_template_rows": null,
       "height": null,
       "justify_content": null,
       "justify_items": null,
       "left": null,
       "margin": null,
       "max_height": null,
       "max_width": null,
       "min_height": null,
       "min_width": null,
       "object_fit": null,
       "object_position": null,
       "order": null,
       "overflow": null,
       "padding": null,
       "right": null,
       "top": null,
       "visibility": null,
       "width": null
      }
     },
     "ed865a162a0145d7a311fe2aa0beba63": {
      "model_module": "@jupyter-widgets/controls",
      "model_module_version": "2.0.0",
      "model_name": "HTMLModel",
      "state": {
       "_dom_classes": [],
       "_model_module": "@jupyter-widgets/controls",
       "_model_module_version": "2.0.0",
       "_model_name": "HTMLModel",
       "_view_count": null,
       "_view_module": "@jupyter-widgets/controls",
       "_view_module_version": "2.0.0",
       "_view_name": "HTMLView",
       "description": "",
       "description_allow_html": false,
       "layout": "IPY_MODEL_135778b89eef42efb79fd342a7baaaba",
       "placeholder": "​",
       "style": "IPY_MODEL_dd7f45fefced4781a3d948b9ac875e42",
       "tabbable": null,
       "tooltip": null,
       "value": ""
      }
     }
    },
    "version_major": 2,
    "version_minor": 0
   }
  }
 },
 "nbformat": 4,
 "nbformat_minor": 5
}