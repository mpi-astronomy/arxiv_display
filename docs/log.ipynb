{
 "cells": [
  {
   "cell_type": "markdown",
   "id": "92bcb855",
   "metadata": {
    "papermill": {
     "duration": 0.003723,
     "end_time": "2024-05-13T04:09:32.729328",
     "exception": false,
     "start_time": "2024-05-13T04:09:32.725605",
     "status": "completed"
    },
    "tags": []
   },
   "source": [
    "# MPIA Arxiv on Deck 2\n",
    "\n",
    "Contains the steps to produce the paper extractions."
   ]
  },
  {
   "cell_type": "code",
   "execution_count": 1,
   "id": "3a0d6e11",
   "metadata": {
    "execution": {
     "iopub.execute_input": "2024-05-13T04:09:32.736897Z",
     "iopub.status.busy": "2024-05-13T04:09:32.736326Z",
     "iopub.status.idle": "2024-05-13T04:09:33.175924Z",
     "shell.execute_reply": "2024-05-13T04:09:33.175263Z"
    },
    "papermill": {
     "duration": 0.445267,
     "end_time": "2024-05-13T04:09:33.177645",
     "exception": false,
     "start_time": "2024-05-13T04:09:32.732378",
     "status": "completed"
    },
    "tags": []
   },
   "outputs": [],
   "source": [
    "# Imports\n",
    "import os\n",
    "from IPython.display import Markdown, display\n",
    "from tqdm.notebook import tqdm\n",
    "import warnings\n",
    "from PIL import Image \n",
    "\n",
    "# requires arxiv_on_deck_2\n",
    "\n",
    "from arxiv_on_deck_2.arxiv2 import (get_new_papers, \n",
    "                                    get_paper_from_identifier,\n",
    "                                    retrieve_document_source, \n",
    "                                    get_markdown_badge)\n",
    "from arxiv_on_deck_2 import (latex,\n",
    "                             latex_bib,\n",
    "                             mpia,\n",
    "                             highlight_authors_in_list)\n",
    "\n",
    "# Sometimes images are really big\n",
    "Image.MAX_IMAGE_PIXELS = 1000000000 "
   ]
  },
  {
   "cell_type": "code",
   "execution_count": 2,
   "id": "22aa9d44",
   "metadata": {
    "execution": {
     "iopub.execute_input": "2024-05-13T04:09:33.185050Z",
     "iopub.status.busy": "2024-05-13T04:09:33.184478Z",
     "iopub.status.idle": "2024-05-13T04:09:33.189612Z",
     "shell.execute_reply": "2024-05-13T04:09:33.188983Z"
    },
    "papermill": {
     "duration": 0.010175,
     "end_time": "2024-05-13T04:09:33.190973",
     "exception": false,
     "start_time": "2024-05-13T04:09:33.180798",
     "status": "completed"
    },
    "tags": []
   },
   "outputs": [],
   "source": [
    "# Some useful definitions.\n",
    "\n",
    "class AffiliationWarning(UserWarning):\n",
    "    pass\n",
    "\n",
    "class AffiliationError(RuntimeError):\n",
    "    pass\n",
    "\n",
    "def validation(source: str):\n",
    "    \"\"\"Raises error paper during parsing of source file\n",
    "    \n",
    "    Allows checks before parsing TeX code.\n",
    "    \n",
    "    Raises AffiliationWarning\n",
    "    \"\"\"\n",
    "    check = mpia.affiliation_verifications(source, verbose=True)\n",
    "    if check is not True:\n",
    "        raise AffiliationError(\"mpia.affiliation_verifications: \" + check)\n",
    "\n",
    "        \n",
    "warnings.simplefilter('always', AffiliationWarning)\n",
    "\n",
    "\n",
    "def get_markdown_qrcode(paper_id: str):\n",
    "    \"\"\" Generate a qrcode to the arxiv page using qrserver.com\n",
    "    \n",
    "    :param paper: Arxiv paper\n",
    "    :returns: markdown text\n",
    "    \"\"\"\n",
    "    url = r\"https://api.qrserver.com/v1/create-qr-code/?size=100x100&data=\"\n",
    "    txt = f\"\"\"<img src={url}\"https://arxiv.org/abs/{paper_id}\">\"\"\"\n",
    "    txt = '<div id=\"qrcode\">' + txt + '</div>'\n",
    "    return txt"
   ]
  },
  {
   "cell_type": "markdown",
   "id": "14bd6310",
   "metadata": {
    "papermill": {
     "duration": 0.00276,
     "end_time": "2024-05-13T04:09:33.196534",
     "exception": false,
     "start_time": "2024-05-13T04:09:33.193774",
     "status": "completed"
    },
    "tags": []
   },
   "source": [
    "## get list of arxiv paper candidates\n",
    "\n",
    "We use the MPIA mitarbeiter list webpage from mpia.de to get author names\n",
    "We then get all new papers from Arxiv and match authors"
   ]
  },
  {
   "cell_type": "code",
   "execution_count": 3,
   "id": "2645e73a",
   "metadata": {
    "execution": {
     "iopub.execute_input": "2024-05-13T04:09:33.203032Z",
     "iopub.status.busy": "2024-05-13T04:09:33.202821Z",
     "iopub.status.idle": "2024-05-13T04:09:53.589470Z",
     "shell.execute_reply": "2024-05-13T04:09:53.588881Z"
    },
    "papermill": {
     "duration": 20.391542,
     "end_time": "2024-05-13T04:09:53.590836",
     "exception": false,
     "start_time": "2024-05-13T04:09:33.199294",
     "status": "completed"
    },
    "tags": []
   },
   "outputs": [
    {
     "name": "stdout",
     "output_type": "stream",
     "text": [
      "M. Häberle  ->  M. Häberle  |  ['M. Häberle']\n",
      "N. Neumayer  ->  N. Neumayer  |  ['N. Neumayer']\n",
      "A. Dumont  ->  A. Dumont  |  ['A. Dumont']\n",
      "C. Clontz  ->  C. Clontz  |  ['C. Clontz']\n",
      "K. El-Badry  ->  K. El-Badry  |  ['K. El-Badry']\n",
      "R. Andrae  ->  R. Andrae  |  ['R. Andrae']\n",
      "K. Jahnke  ->  K. Jahnke  |  ['K. Jahnke']\n",
      "P. Eitner  ->  P. Eitner  |  ['P. Eitner']\n",
      "M. Bergemann  ->  M. Bergemann  |  ['M. Bergemann']\n",
      "R. Hoppe  ->  R. Hoppe  |  ['R. Hoppe']\n",
      "J. Klevas  ->  J. Klevas  |  ['J. Klevas']\n",
      "X. Zhang  ->  X. Zhang  |  ['X. Zhang']\n"
     ]
    },
    {
     "name": "stdout",
     "output_type": "stream",
     "text": [
      "Arxiv has 55 new papers today\n",
      "          5 with possible author matches\n"
     ]
    }
   ],
   "source": [
    "# get list from MPIA website\n",
    "# it automatically filters identified non-scientists :func:`mpia.filter_non_scientists`\n",
    "mpia_authors = mpia.get_mpia_mitarbeiter_list()\n",
    "normed_mpia_authors = [k[1] for k in mpia_authors]   # initials + fullname\n",
    "new_papers = get_new_papers()\n",
    "# add manual references\n",
    "add_paper_refs = []\n",
    "new_papers.extend([get_paper_from_identifier(k) for k in add_paper_refs])\n",
    "\n",
    "candidates = []\n",
    "for paperk in new_papers:\n",
    "    # Check author list with their initials\n",
    "    normed_author_list = [mpia.get_initials(k) for k in paperk['authors']]\n",
    "    hl_authors = highlight_authors_in_list(normed_author_list, normed_mpia_authors, verbose=True)\n",
    "    matches = [(hl, orig) for hl, orig in zip(hl_authors, paperk['authors']) if 'mark' in hl]\n",
    "    paperk['authors'] = hl_authors\n",
    "    if matches:\n",
    "        # only select paper if an author matched our list\n",
    "        candidates.append(paperk)\n",
    "print(\"\"\"Arxiv has {0:,d} new papers today\"\"\".format(len(new_papers)))        \n",
    "print(\"\"\"          {0:,d} with possible author matches\"\"\".format(len(candidates)))"
   ]
  },
  {
   "cell_type": "markdown",
   "id": "3543b34a",
   "metadata": {
    "papermill": {
     "duration": 0.003006,
     "end_time": "2024-05-13T04:09:53.597096",
     "exception": false,
     "start_time": "2024-05-13T04:09:53.594090",
     "status": "completed"
    },
    "tags": []
   },
   "source": [
    "# Parse sources and generate relevant outputs\n",
    "\n",
    "From the candidates, we do the following steps:\n",
    "* get their tarball from ArXiv (and extract data)\n",
    "* find the main .tex file: find one with \\documentclass{...} (sometimes it's non trivial)\n",
    "* Check affiliations with :func:`validation`, which uses :func:`mpia.affiliation_verifications`\n",
    "* If passing the affiliations: we parse the .tex source\n",
    "   * inject sub-documents into the main (flatten the main document)\n",
    "   * parse structure, extract information (title, abstract, authors, figures...)\n",
    "   * handles `\\graphicspath` if provided\n",
    "* Generate the .md document."
   ]
  },
  {
   "cell_type": "code",
   "execution_count": 4,
   "id": "9576b79e",
   "metadata": {
    "execution": {
     "iopub.execute_input": "2024-05-13T04:09:53.604193Z",
     "iopub.status.busy": "2024-05-13T04:09:53.603752Z",
     "iopub.status.idle": "2024-05-13T04:09:53.633125Z",
     "shell.execute_reply": "2024-05-13T04:09:53.632437Z"
    },
    "papermill": {
     "duration": 0.036016,
     "end_time": "2024-05-13T04:09:53.636021",
     "exception": false,
     "start_time": "2024-05-13T04:09:53.600005",
     "status": "completed"
    },
    "scrolled": false,
    "tags": []
   },
   "outputs": [
    {
     "data": {
      "application/vnd.jupyter.widget-view+json": {
       "model_id": "0d66090c90e248bca493f930c9fbfba0",
       "version_major": 2,
       "version_minor": 0
      },
      "text/plain": [
       "  0%|          | 0/5 [00:00<?, ?it/s]"
      ]
     },
     "metadata": {},
     "output_type": "display_data"
    },
    {
     "name": "stdout",
     "output_type": "stream",
     "text": [
      "Retrieving document from  https://arxiv.org/e-print/\n",
      "        2405.06015\n",
      "      \n",
      "Retrieving document from  https://arxiv.org/e-print/\n",
      "        2405.06020\n",
      "      \n",
      "Retrieving document from  https://arxiv.org/e-print/\n",
      "        2405.06047\n",
      "      \n",
      "Retrieving document from  https://arxiv.org/e-print/\n",
      "        2405.06338\n",
      "      \n",
      "Retrieving document from  https://arxiv.org/e-print/\n",
      "        2405.06470\n",
      "      \n"
     ]
    },
    {
     "name": "stderr",
     "output_type": "stream",
     "text": [
      "/tmp/ipykernel_2217/3009462391.py:49: LatexWarning: \n",
      "        2405.06015\n",
      "       did not run properly\n",
      "URL can't contain control characters. '/e-print/\\n        2405.06015' (found at least '\\n')\n",
      "  warnings.warn(latex.LatexWarning(f\"{paper_id:s} did not run properly\\n\" +\n",
      "/tmp/ipykernel_2217/3009462391.py:49: LatexWarning: \n",
      "        2405.06020\n",
      "       did not run properly\n",
      "URL can't contain control characters. '/e-print/\\n        2405.06020' (found at least '\\n')\n",
      "  warnings.warn(latex.LatexWarning(f\"{paper_id:s} did not run properly\\n\" +\n",
      "/tmp/ipykernel_2217/3009462391.py:49: LatexWarning: \n",
      "        2405.06047\n",
      "       did not run properly\n",
      "URL can't contain control characters. '/e-print/\\n        2405.06047' (found at least '\\n')\n",
      "  warnings.warn(latex.LatexWarning(f\"{paper_id:s} did not run properly\\n\" +\n",
      "/tmp/ipykernel_2217/3009462391.py:49: LatexWarning: \n",
      "        2405.06338\n",
      "       did not run properly\n",
      "URL can't contain control characters. '/e-print/\\n        2405.06338' (found at least '\\n')\n",
      "  warnings.warn(latex.LatexWarning(f\"{paper_id:s} did not run properly\\n\" +\n",
      "/tmp/ipykernel_2217/3009462391.py:49: LatexWarning: \n",
      "        2405.06470\n",
      "       did not run properly\n",
      "URL can't contain control characters. '/e-print/\\n        2405.06470' (found at least '\\n')\n",
      "  warnings.warn(latex.LatexWarning(f\"{paper_id:s} did not run properly\\n\" +\n"
     ]
    }
   ],
   "source": [
    "documents = []\n",
    "failed = []\n",
    "for paper in tqdm(candidates):\n",
    "    paper_id = paper['identifier'].lower().replace('arxiv:', '')\n",
    "    \n",
    "    folder = f'tmp_{paper_id}'\n",
    "\n",
    "    try:\n",
    "        if not os.path.isdir(folder):\n",
    "            folder = retrieve_document_source(f\"{paper_id}\", f'tmp_{paper_id}')\n",
    "        \n",
    "        try:\n",
    "            doc = latex.LatexDocument(folder, validation=validation)    \n",
    "        except AffiliationError as affilerror:\n",
    "            msg = f\"ArXiv:{paper_id:s} is not an MPIA paper... \" + str(affilerror)\n",
    "            failed.append((paper, \"affiliation error: \" + str(affilerror) ))\n",
    "            continue\n",
    "        \n",
    "        # Hack because sometimes author parsing does not work well\n",
    "        if (len(doc.authors) != len(paper['authors'])):\n",
    "            doc._authors = paper['authors']\n",
    "        else:\n",
    "            # highlight authors (FIXME: doc.highlight_authors)\n",
    "            # done on arxiv paper already\n",
    "            doc._authors = highlight_authors_in_list(\n",
    "                [mpia.get_initials(k) for k in doc.authors], \n",
    "                normed_mpia_authors, verbose=True)\n",
    "        if (doc.abstract) in (None, ''):\n",
    "            doc._abstract = paper['abstract']\n",
    "            \n",
    "        doc.comment = (get_markdown_badge(paper_id) + \n",
    "                       \"<mark>Appeared on: \" + paper['date'] + \"</mark> - \")\n",
    "        if paper['comments']:\n",
    "            doc.comment += \" _\" + paper['comments'] + \"_\"\n",
    "        \n",
    "        full_md = doc.generate_markdown_text()\n",
    "        \n",
    "        full_md += get_markdown_qrcode(paper_id)\n",
    "        \n",
    "        # replace citations\n",
    "        try:\n",
    "            bibdata = latex_bib.LatexBib.from_doc(doc)\n",
    "            full_md = latex_bib.replace_citations(full_md, bibdata)\n",
    "        except Exception as e:\n",
    "            print(e)\n",
    "        \n",
    "        documents.append((paper_id, full_md))\n",
    "    except Exception as e:\n",
    "        warnings.warn(latex.LatexWarning(f\"{paper_id:s} did not run properly\\n\" +\n",
    "                                         str(e)\n",
    "                                        ))\n",
    "        failed.append((paper, \"latex error \" + str(e)))"
   ]
  },
  {
   "cell_type": "markdown",
   "id": "2505a25c",
   "metadata": {
    "papermill": {
     "duration": 0.003147,
     "end_time": "2024-05-13T04:09:53.642575",
     "exception": false,
     "start_time": "2024-05-13T04:09:53.639428",
     "status": "completed"
    },
    "tags": []
   },
   "source": [
    "### Export the logs\n",
    "\n",
    "Throughout, we also keep track of the logs per paper. see `logs-{today date}.md` "
   ]
  },
  {
   "cell_type": "code",
   "execution_count": 5,
   "id": "d733828a",
   "metadata": {
    "execution": {
     "iopub.execute_input": "2024-05-13T04:09:53.649960Z",
     "iopub.status.busy": "2024-05-13T04:09:53.649753Z",
     "iopub.status.idle": "2024-05-13T04:09:53.665711Z",
     "shell.execute_reply": "2024-05-13T04:09:53.665164Z"
    },
    "papermill": {
     "duration": 0.021216,
     "end_time": "2024-05-13T04:09:53.666956",
     "exception": false,
     "start_time": "2024-05-13T04:09:53.645740",
     "status": "completed"
    },
    "scrolled": false,
    "tags": []
   },
   "outputs": [
    {
     "data": {
      "text/markdown": [
       "## Successful papers"
      ],
      "text/plain": [
       "<IPython.core.display.Markdown object>"
      ]
     },
     "metadata": {},
     "output_type": "display_data"
    },
    {
     "data": {
      "text/markdown": [
       "## Failed papers"
      ],
      "text/plain": [
       "<IPython.core.display.Markdown object>"
      ]
     },
     "metadata": {},
     "output_type": "display_data"
    },
    {
     "data": {
      "text/markdown": [
       "\n",
       "|||\n",
       "|---:|:---|\n",
       "| [![arXiv](https://img.shields.io/badge/arXiv-\n",
       "        arXiv:2405.06015\n",
       "      -b31b1b.svg)](https://arxiv.org/abs/\n",
       "        arXiv:2405.06015\n",
       "      ) | **Fast-moving stars around an intermediate-mass black hole in Omega Centauri**  |\n",
       "|| <mark>M. Häberle</mark>, et al. -- incl., <mark>N. Neumayer</mark>, <mark>A. Dumont</mark>, <mark>C. Clontz</mark> |\n",
       "|*Appeared on*| *2024-05-13*|\n",
       "|*Comments*| *33 pages, 11 figures and 2 tables. Accepted for publication in Nature. It is embargoed for discussion in the press until formal publication in Nature. Several press releases are pending*|\n",
       "|**Abstract**|            Black holes have been found over a wide range of masses, from stellar remnants with masses of 5-150 solar masses (Msun), to those found at the centers of galaxies with $M>10^5$ Msun. However, only a few debated candidate black holes exist between 150 and $10^5$ Msun. Determining the population of these intermediate-mass black holes is an important step towards understanding supermassive black hole formation in the early universe. Several studies have claimed the detection of a central black hole in $\\omega$ Centauri, the Milky Way's most massive globular cluster. However, these studies have been questioned due to the possible mass contribution of stellar mass black holes, their sensitivity to the cluster center, and the lack of fast-moving stars above the escape velocity. Here we report observations of seven fast-moving stars in the central 3 arcseconds (0.08 pc) of $\\omega$ Centauri. The velocities of the fast-moving stars are significantly higher than the expected central escape velocity of the star cluster, so their presence can only be explained by being bound to a massive black hole. From the velocities alone, we can infer a firm lower limit of the black hole mass of $\\sim$8,200 Msun, making this a compelling candidate for an intermediate-mass black hole in the local universe.         |\n",
       "|<p style=\"color:red\"> **ERROR** </p>| <p style=\"color:red\">latex error URL can't contain control characters. '/e-print/\\n        2405.06015' (found at least '\\n')</p> |"
      ],
      "text/plain": [
       "<IPython.core.display.Markdown object>"
      ]
     },
     "metadata": {},
     "output_type": "display_data"
    },
    {
     "data": {
      "text/markdown": [
       "\n",
       "|||\n",
       "|---:|:---|\n",
       "| [![arXiv](https://img.shields.io/badge/arXiv-\n",
       "        arXiv:2405.06020\n",
       "      -b31b1b.svg)](https://arxiv.org/abs/\n",
       "        arXiv:2405.06020\n",
       "      ) | **Wide post-common envelope binaries from Gaia: orbit validation and formation models**  |\n",
       "|| N. Yamaguchi, et al. -- incl., <mark>K. El-Badry</mark>, <mark>R. Andrae</mark> |\n",
       "|*Appeared on*| *2024-05-13*|\n",
       "|*Comments*| *36 pages, 22 figures, submitted to PASP*|\n",
       "|**Abstract**|            Astrometry from {\\it Gaia} DR3 has enabled the discovery of a sample of 3000+ binaries containing white dwarfs (WD) and main-sequence (MS) stars in relatively wide orbits, with orbital periods $P_{\\rm orb} = (100-1000)$ d. This population was not predicted by binary population synthesis models before {\\it Gaia} and -- if the {\\it Gaia} orbits are robust -- likely requires very efficient envelope ejection during common envelope evolution (CEE). To assess the reliability of the {\\it Gaia} solutions, we measured multi-epoch radial velocities (RVs) of 31 WD+MS binary candidates with $P_{\\rm orb} = (40-300)$ d and \\texttt{AstroSpectroSB1} orbital solutions. We jointly fit the RVs and astrometry, allowing us to validate the {\\it Gaia} solutions and tighten constraints on component masses. We find a high success rate for the {\\it Gaia} solutions, with only 2 out of the 31 systems showing significant discrepancies between their {\\it Gaia} orbital solutions and our RVs. Joint fitting of RVs and astrometry allows us to directly constrain the secondary-to-primary flux ratio $\\mathcal{S}$, and we find $\\mathcal{S}\\lesssim 0.02$ for most objects, confirming the companions are indeed WDs. We tighten constraints on the binaries' eccentricities, finding a median $e\\approx 0.1$. These eccentricities are much lower than those of normal MS+MS binaries at similar periods, but much higher than predicted for binaries formed via stable mass transfer. We present MESA single and binary evolution models to explore how the binaries may have formed. The orbits of most binaries in the sample can be produced through CEE that begins when the WD progenitor is an AGB star, corresponding to initial separations of $2-5$ au. Roughly 50\\% of all post-common envelope binaries are predicted to have first interacted on the AGB, ending up in wide orbits like these systems.         |\n",
       "|<p style=\"color:red\"> **ERROR** </p>| <p style=\"color:red\">latex error URL can't contain control characters. '/e-print/\\n        2405.06020' (found at least '\\n')</p> |"
      ],
      "text/plain": [
       "<IPython.core.display.Markdown object>"
      ]
     },
     "metadata": {},
     "output_type": "display_data"
    },
    {
     "data": {
      "text/markdown": [
       "\n",
       "|||\n",
       "|---:|:---|\n",
       "| [![arXiv](https://img.shields.io/badge/arXiv-\n",
       "        arXiv:2405.06047\n",
       "      -b31b1b.svg)](https://arxiv.org/abs/\n",
       "        arXiv:2405.06047\n",
       "      ) | **Euclid preparation. Sensitivity to neutrino parameters**  |\n",
       "|| E. Collaboration, et al. -- incl., <mark>K. Jahnke</mark> |\n",
       "|*Appeared on*| *2024-05-13*|\n",
       "|*Comments*| *48 pages, 33 figures*|\n",
       "|**Abstract**|            The Euclid mission of the European Space Agency will deliver weak gravitational lensing and galaxy clustering surveys that can be used to constrain the standard cosmological model and extensions thereof. We present forecasts from the combination of these surveys on the sensitivity to cosmological parameters including the summed neutrino mass $M_\\nu$ and the effective number of relativistic species $N_{\\rm eff}$ in the standard $\\Lambda$CDM scenario and in a scenario with dynamical dark energy ($w_0 w_a$CDM). We compare the accuracy of different algorithms predicting the nonlinear matter power spectrum for such models. We then validate several pipelines for Fisher matrix and MCMC forecasts, using different theory codes, algorithms for numerical derivatives, and assumptions concerning the non-linear cut-off scale. The Euclid primary probes alone will reach a sensitivity of $\\sigma(M_\\nu)=$56meV in the $\\Lambda$CDM+$M_\\nu$ model, whereas the combination with CMB data from Planck is expected to achieve $\\sigma(M_\\nu)=$23meV and raise the evidence for a non-zero neutrino mass to at least the $2.6\\sigma$ level. This can be pushed to a $4\\sigma$ detection if future CMB data from LiteBIRD and CMB Stage-IV are included. In combination with Planck, Euclid will also deliver tight constraints on $\\Delta N_{\\rm eff}< 0.144$ (95%CL) in the $\\Lambda$CDM+$M_\\nu$+$N_{\\rm eff}$ model, or $\\Delta N_{\\rm eff}< 0.063$ when future CMB data are included. When floating $(w_0, w_a)$, we find that the sensitivity to $N_{\\rm eff}$ remains stable, while that to $M_\\nu$ degrades at most by a factor 2. This work illustrates the complementarity between the Euclid spectroscopic and imaging/photometric surveys and between Euclid and CMB constraints. Euclid will have a great potential for measuring the neutrino mass and excluding well-motivated scenarios with additional relativistic particles.         |\n",
       "|<p style=\"color:red\"> **ERROR** </p>| <p style=\"color:red\">latex error URL can't contain control characters. '/e-print/\\n        2405.06047' (found at least '\\n')</p> |"
      ],
      "text/plain": [
       "<IPython.core.display.Markdown object>"
      ]
     },
     "metadata": {},
     "output_type": "display_data"
    },
    {
     "data": {
      "text/markdown": [
       "\n",
       "|||\n",
       "|---:|:---|\n",
       "| [![arXiv](https://img.shields.io/badge/arXiv-\n",
       "        arXiv:2405.06338\n",
       "      -b31b1b.svg)](https://arxiv.org/abs/\n",
       "        arXiv:2405.06338\n",
       "      ) | **M3DIS - A grid of 3D radiation-hydrodynamics stellar atmosphere models for stellar surveys**  |\n",
       "|| <mark>P. Eitner</mark>, et al. -- incl., <mark>M. Bergemann</mark>, <mark>R. Hoppe</mark>, <mark>J. Klevas</mark> |\n",
       "|*Appeared on*| *2024-05-13*|\n",
       "|*Comments*| *Accepted by A&A. 20 pages, 16 figures*|\n",
       "|**Abstract**|            Large-scale stellar surveys, such as SDSS-V, 4MOST, WEAVE, and PLATO, require accurate atmospheric models and synthetic spectra of stars for accurate analyses of fundamental stellar parameters and chemical abundances. The primary goal of our work is to develop a new approach to solve radiation-hydrodynamics (RHD) and generate model stellar spectra in a self-consistent and highly efficient framework. We build upon the Copenhagen legacy RHD code, the MULTI3D non-local thermodynamic equilibrium (NLTE) code, and the DISPATCH high-performance framework. The new approach allows us to calculate 3D RHD models of stellar atmospheres on timescales of a few thousand CPU hours and to perform subsequent spectrum synthesis in local thermodynamic equilibrium (LTE) or NLTE for the desired physical conditions within the parameter space of FGK-type stars. We compare the 3D RHD solar model with other available models and validate its performance against solar observations, including the centre-to-limb variation of intensities and key solar diagnostic lines of H and Fe. We show that the performance of the new code allows to overcome the main bottleneck in 3D NLTE spectroscopy and enables calculations of multi-dimensional grids of synthetic stellar observables for comparison with modern astronomical observations.         |\n",
       "|<p style=\"color:red\"> **ERROR** </p>| <p style=\"color:red\">latex error URL can't contain control characters. '/e-print/\\n        2405.06338' (found at least '\\n')</p> |"
      ],
      "text/plain": [
       "<IPython.core.display.Markdown object>"
      ]
     },
     "metadata": {},
     "output_type": "display_data"
    },
    {
     "data": {
      "text/markdown": [
       "\n",
       "|||\n",
       "|---:|:---|\n",
       "| [![arXiv](https://img.shields.io/badge/arXiv-\n",
       "        arXiv:2405.06470\n",
       "      -b31b1b.svg)](https://arxiv.org/abs/\n",
       "        arXiv:2405.06470\n",
       "      ) | **Solar fusion III: New data and theory for hydrogen-burning stars**  |\n",
       "|| B. Acharya, et al. -- incl., <mark>X. Zhang</mark> |\n",
       "|*Appeared on*| *2024-05-13*|\n",
       "|*Comments*| *85 pages, 15 figures. To be submitted to Reviews of Modern Physics*|\n",
       "|**Abstract**|            In stars that lie on the main sequence in the Hertzsprung Russel diagram, like our sun, hydrogen is fused to helium in a number of nuclear reaction chains and series, such as the proton-proton chain and the carbon-nitrogen-oxygen cycles. Precisely determined thermonuclear rates of these reactions lie at the foundation of the standard solar model. This review, the third decadal evaluation of the nuclear physics of hydrogen-burning stars, is motivated by the great advances made in recent years by solar neutrino observatories, putting experimental knowledge of the proton-proton chain neutrino fluxes in the few-percent precision range. The basis of the review is a one-week community meeting held in July 2022 in Berkeley, California, and many subsequent digital meetings and exchanges. Each of the relevant reactions of solar and quiescent stellar hydrogen burning is reviewed here, from both theoretical and experimental perspectives. Recommendations for the state of the art of the astrophysical S-factor and its uncertainty are formulated for each of them. Several other topics of paramount importance for the solar model are reviewed, as well: recent and future neutrino experiments, electron screening, radiative opacities, and current and upcoming experimental facilities. In addition to reaction-specific recommendations, also general recommendations are formed.         |\n",
       "|<p style=\"color:red\"> **ERROR** </p>| <p style=\"color:red\">latex error URL can't contain control characters. '/e-print/\\n        2405.06470' (found at least '\\n')</p> |"
      ],
      "text/plain": [
       "<IPython.core.display.Markdown object>"
      ]
     },
     "metadata": {},
     "output_type": "display_data"
    }
   ],
   "source": [
    "import datetime\n",
    "today = str(datetime.date.today())\n",
    "logfile = f\"_build/html/logs/log-{today}.md\"\n",
    "\n",
    "\n",
    "with open(logfile, 'w') as logs:\n",
    "    # Success\n",
    "    logs.write(f'# Arxiv on Deck 2: Logs - {today}\\n\\n')\n",
    "    logs.write(\"\"\"* Arxiv had {0:,d} new papers\\n\"\"\".format(len(new_papers)))\n",
    "    logs.write(\"\"\"    * {0:,d} with possible author matches\\n\\n\"\"\".format(len(candidates)))\n",
    "    logs.write(\"## Sucessful papers\\n\\n\")\n",
    "    display(Markdown(\"## Successful papers\"))\n",
    "    success = [k[0] for k in documents]\n",
    "    for candid in candidates:\n",
    "        if candid['identifier'].split(':')[-1] in success:\n",
    "            display(candid)\n",
    "            logs.write(candid.generate_markdown_text() + '\\n\\n')\n",
    "\n",
    "    ## failed\n",
    "    logs.write(\"## Failed papers\\n\\n\")\n",
    "    display(Markdown(\"## Failed papers\"))\n",
    "    failed = sorted(failed, key=lambda x: x[1])\n",
    "    current_reason = \"\"\n",
    "    for paper, reason in failed:\n",
    "        if 'affiliation' in reason:\n",
    "            color = 'green'\n",
    "        else:\n",
    "            color = 'red'\n",
    "        data = Markdown(\n",
    "                paper.generate_markdown_text() + \n",
    "                f'\\n|<p style=\"color:{color:s}\"> **ERROR** </p>| <p style=\"color:{color:s}\">{reason:s}</p> |'\n",
    "               )\n",
    "        if reason != current_reason:\n",
    "            logs.write(f'### {reason:s} \\n\\n')\n",
    "            current_reason = reason\n",
    "        logs.write(data.data + '\\n\\n')\n",
    "        \n",
    "        # only display here the important errors (all in logs)\n",
    "        # if color in ('red',):\n",
    "        display(data)"
   ]
  },
  {
   "cell_type": "markdown",
   "id": "472d20ee",
   "metadata": {
    "papermill": {
     "duration": 0.003897,
     "end_time": "2024-05-13T04:09:53.675562",
     "exception": false,
     "start_time": "2024-05-13T04:09:53.671665",
     "status": "completed"
    },
    "tags": []
   },
   "source": [
    "## Export documents\n",
    "\n",
    "We now write the .md files and export relevant images"
   ]
  },
  {
   "cell_type": "code",
   "execution_count": 6,
   "id": "d426aed9",
   "metadata": {
    "execution": {
     "iopub.execute_input": "2024-05-13T04:09:53.684531Z",
     "iopub.status.busy": "2024-05-13T04:09:53.684053Z",
     "iopub.status.idle": "2024-05-13T04:09:53.690273Z",
     "shell.execute_reply": "2024-05-13T04:09:53.689707Z"
    },
    "papermill": {
     "duration": 0.012139,
     "end_time": "2024-05-13T04:09:53.691536",
     "exception": false,
     "start_time": "2024-05-13T04:09:53.679397",
     "status": "completed"
    },
    "tags": []
   },
   "outputs": [],
   "source": [
    "def export_markdown_summary(md: str, md_fname:str, directory: str):\n",
    "    \"\"\"Export MD document and associated relevant images\"\"\"\n",
    "    import os\n",
    "    import shutil\n",
    "    import re\n",
    "\n",
    "    if (os.path.exists(directory) and not os.path.isdir(directory)):\n",
    "        raise RuntimeError(f\"a non-directory file exists with name {directory:s}\")\n",
    "\n",
    "    if (not os.path.exists(directory)):\n",
    "        print(f\"creating directory {directory:s}\")\n",
    "        os.mkdir(directory)\n",
    "\n",
    "    fig_fnames = (re.compile(r'\\[Fig.*\\]\\((.*)\\)').findall(md) + \n",
    "                  re.compile(r'\\<img src=\"([^>\\s]*)\"[^>]*/>').findall(md))\n",
    "    for fname in fig_fnames:\n",
    "        if 'http' in fname:\n",
    "            # No need to copy online figures\n",
    "            continue\n",
    "        destdir = os.path.join(directory, os.path.dirname(fname))\n",
    "        destfname = os.path.join(destdir, os.path.basename(fname))\n",
    "        try:\n",
    "            os.makedirs(destdir)\n",
    "        except FileExistsError:\n",
    "            pass\n",
    "        shutil.copy(fname, destfname)\n",
    "    with open(os.path.join(directory, md_fname), 'w') as fout:\n",
    "        fout.write(md)\n",
    "    print(\"exported in \", os.path.join(directory, md_fname))\n",
    "    [print(\"    + \" + os.path.join(directory,fk)) for fk in fig_fnames]"
   ]
  },
  {
   "cell_type": "code",
   "execution_count": 7,
   "id": "014d04a4",
   "metadata": {
    "execution": {
     "iopub.execute_input": "2024-05-13T04:09:53.700667Z",
     "iopub.status.busy": "2024-05-13T04:09:53.700286Z",
     "iopub.status.idle": "2024-05-13T04:09:53.703233Z",
     "shell.execute_reply": "2024-05-13T04:09:53.702663Z"
    },
    "papermill": {
     "duration": 0.009003,
     "end_time": "2024-05-13T04:09:53.704581",
     "exception": false,
     "start_time": "2024-05-13T04:09:53.695578",
     "status": "completed"
    },
    "tags": []
   },
   "outputs": [],
   "source": [
    "for paper_id, md in documents:\n",
    "    export_markdown_summary(md, f\"{paper_id:s}.md\", '_build/html/')"
   ]
  },
  {
   "cell_type": "markdown",
   "id": "f087a0a7",
   "metadata": {
    "papermill": {
     "duration": 0.003912,
     "end_time": "2024-05-13T04:09:53.712526",
     "exception": false,
     "start_time": "2024-05-13T04:09:53.708614",
     "status": "completed"
    },
    "tags": []
   },
   "source": [
    "## Display the papers\n",
    "\n",
    "Not necessary but allows for a quick check."
   ]
  },
  {
   "cell_type": "code",
   "execution_count": 8,
   "id": "fd25f625",
   "metadata": {
    "execution": {
     "iopub.execute_input": "2024-05-13T04:09:53.721598Z",
     "iopub.status.busy": "2024-05-13T04:09:53.721215Z",
     "iopub.status.idle": "2024-05-13T04:09:53.724438Z",
     "shell.execute_reply": "2024-05-13T04:09:53.723796Z"
    },
    "papermill": {
     "duration": 0.009261,
     "end_time": "2024-05-13T04:09:53.725746",
     "exception": false,
     "start_time": "2024-05-13T04:09:53.716485",
     "status": "completed"
    },
    "scrolled": false,
    "tags": []
   },
   "outputs": [],
   "source": [
    "[display(Markdown(k[1])) for k in documents];"
   ]
  },
  {
   "cell_type": "markdown",
   "id": "873873a4",
   "metadata": {
    "papermill": {
     "duration": 0.004035,
     "end_time": "2024-05-13T04:09:53.733841",
     "exception": false,
     "start_time": "2024-05-13T04:09:53.729806",
     "status": "completed"
    },
    "tags": []
   },
   "source": [
    "# Create HTML index"
   ]
  },
  {
   "cell_type": "code",
   "execution_count": 9,
   "id": "cf665672",
   "metadata": {
    "execution": {
     "iopub.execute_input": "2024-05-13T04:09:53.742865Z",
     "iopub.status.busy": "2024-05-13T04:09:53.742469Z",
     "iopub.status.idle": "2024-05-13T04:09:53.752567Z",
     "shell.execute_reply": "2024-05-13T04:09:53.752036Z"
    },
    "papermill": {
     "duration": 0.016115,
     "end_time": "2024-05-13T04:09:53.753915",
     "exception": false,
     "start_time": "2024-05-13T04:09:53.737800",
     "status": "completed"
    },
    "tags": []
   },
   "outputs": [
    {
     "name": "stdout",
     "output_type": "stream",
     "text": [
      "414  publications files modified in the last 7 days.\n"
     ]
    }
   ],
   "source": [
    "from datetime import datetime, timedelta, timezone\n",
    "from glob import glob\n",
    "import os\n",
    "\n",
    "files = glob('_build/html/*.md')\n",
    "days = 7\n",
    "now = datetime.today()\n",
    "res = []\n",
    "for fk in files:\n",
    "    stat_result = os.stat(fk).st_ctime\n",
    "    modified = datetime.fromtimestamp(stat_result, tz=timezone.utc).replace(tzinfo=None)\n",
    "    delta = now.today() - modified\n",
    "    if delta <= timedelta(days=days):\n",
    "        res.append((delta.seconds, fk))\n",
    "res = [k[1] for k in reversed(sorted(res, key=lambda x:x[1]))]\n",
    "npub = len(res)\n",
    "print(len(res), f\" publications files modified in the last {days:d} days.\")\n",
    "# [ print('\\t', k) for k in res ];"
   ]
  },
  {
   "cell_type": "code",
   "execution_count": 10,
   "id": "015de740",
   "metadata": {
    "execution": {
     "iopub.execute_input": "2024-05-13T04:09:53.763175Z",
     "iopub.status.busy": "2024-05-13T04:09:53.762744Z",
     "iopub.status.idle": "2024-05-13T04:09:53.786081Z",
     "shell.execute_reply": "2024-05-13T04:09:53.785428Z"
    },
    "papermill": {
     "duration": 0.029341,
     "end_time": "2024-05-13T04:09:53.787371",
     "exception": false,
     "start_time": "2024-05-13T04:09:53.758030",
     "status": "completed"
    },
    "tags": []
   },
   "outputs": [
    {
     "name": "stdout",
     "output_type": "stream",
     "text": [
      "2  publications in the last 7 days.\n"
     ]
    }
   ],
   "source": [
    "import datetime\n",
    "from glob import glob\n",
    "\n",
    "def get_last_n_days(lst, days=1):\n",
    "    \"\"\" Get the documents from the last n days \"\"\"\n",
    "    sorted_lst = sorted(lst, key=lambda x: x[1], reverse=True)\n",
    "    for fname, date in sorted_lst:\n",
    "        if date >= str(datetime.date.today() - datetime.timedelta(days=days)):\n",
    "            yield fname\n",
    "\n",
    "def extract_appearance_dates(lst_file):\n",
    "    dates = []\n",
    "\n",
    "    def get_date(line):\n",
    "        return line\\\n",
    "            .split('Appeared on:')[-1]\\\n",
    "            .split('</mark>')[0].strip()\n",
    "\n",
    "    for fname in lst:\n",
    "        with open(fname, 'r') as f:\n",
    "            found_date = False\n",
    "            for line in f:\n",
    "                if not found_date:\n",
    "                    if \"Appeared on\" in line:\n",
    "                        found_date = True\n",
    "                        dates.append((fname, get_date(line)))\n",
    "                else:\n",
    "                    break\n",
    "    return dates\n",
    "\n",
    "from glob import glob\n",
    "lst = glob('_build/html/*md')\n",
    "days = 7\n",
    "dates = extract_appearance_dates(lst)\n",
    "res = list(get_last_n_days(dates, days))\n",
    "npub = len(res)\n",
    "print(len(res), f\" publications in the last {days:d} days.\")"
   ]
  },
  {
   "cell_type": "code",
   "execution_count": 11,
   "id": "52ca0208",
   "metadata": {
    "execution": {
     "iopub.execute_input": "2024-05-13T04:09:53.796973Z",
     "iopub.status.busy": "2024-05-13T04:09:53.796585Z",
     "iopub.status.idle": "2024-05-13T04:09:53.801475Z",
     "shell.execute_reply": "2024-05-13T04:09:53.800942Z"
    },
    "papermill": {
     "duration": 0.011043,
     "end_time": "2024-05-13T04:09:53.802753",
     "exception": false,
     "start_time": "2024-05-13T04:09:53.791710",
     "status": "completed"
    },
    "scrolled": false,
    "tags": []
   },
   "outputs": [],
   "source": [
    "def create_carousel(npub=4):\n",
    "    \"\"\" Generate the HTML code for a carousel with `npub` slides \"\"\"\n",
    "    carousel = [\"\"\"  <div class=\"carousel\" \"\"\",\n",
    "                \"\"\"       data-flickity='{ \"autoPlay\": 10000, \"adaptiveHeight\": true, \"resize\": true, \"wrapAround\": true, \"pauseAutoPlayOnHover\": true, \"groupCells\": 1 }' id=\"asyncTypeset\">\"\"\"\n",
    "                ]\n",
    "    \n",
    "    item_str = \"\"\"    <div class=\"carousel-cell\"> <div id=\"slide{k}\" class=\"md_view\">Content {k}</div> </div>\"\"\"\n",
    "    for k in range(1, npub + 1):\n",
    "        carousel.append(item_str.format(k=k))\n",
    "    carousel.append(\"  </div>\")\n",
    "    return '\\n'.join(carousel)\n",
    "\n",
    "def create_grid(npub=4):\n",
    "    \"\"\" Generate the HTML code for a flat grid with `npub` slides \"\"\"\n",
    "    grid = [\"\"\"  <div class=\"grid\"> \"\"\",\n",
    "                ]\n",
    "    \n",
    "    item_str = \"\"\"    <div class=\"grid-item\"> <div id=\"slide{k}\" class=\"md_view\">Content {k}</div> </div>\"\"\"\n",
    "    for k in range(1, npub + 1):\n",
    "        grid.append(item_str.format(k=k))\n",
    "    grid.append(\"  </div>\")\n",
    "    return '\\n'.join(grid)"
   ]
  },
  {
   "cell_type": "code",
   "execution_count": 12,
   "id": "a6eac5b6",
   "metadata": {
    "execution": {
     "iopub.execute_input": "2024-05-13T04:09:53.812418Z",
     "iopub.status.busy": "2024-05-13T04:09:53.812002Z",
     "iopub.status.idle": "2024-05-13T04:09:53.816897Z",
     "shell.execute_reply": "2024-05-13T04:09:53.816383Z"
    },
    "papermill": {
     "duration": 0.011123,
     "end_time": "2024-05-13T04:09:53.818163",
     "exception": false,
     "start_time": "2024-05-13T04:09:53.807040",
     "status": "completed"
    },
    "scrolled": false,
    "tags": []
   },
   "outputs": [],
   "source": [
    "carousel = create_carousel(npub)\n",
    "docs = ', '.join(['\"{0:s}\"'.format(k.split('/')[-1]) for k in res])\n",
    "slides = ', '.join([f'\"slide{k}\"' for k in range(1, npub + 1)])\n",
    "\n",
    "with open(\"daily_template.html\", \"r\") as tpl:\n",
    "    page = tpl.read()\n",
    "    page = page.replace(\"{%-- carousel:s --%}\", carousel)\\\n",
    "               .replace(\"{%-- suptitle:s --%}\",  \"7-day archives\" )\\\n",
    "               .replace(\"{%-- docs:s --%}\", docs)\\\n",
    "               .replace(\"{%-- slides:s --%}\", slides)\n",
    "    \n",
    "with open(\"_build/html/index_7days.html\", 'w') as fout:\n",
    "    fout.write(page)"
   ]
  },
  {
   "cell_type": "code",
   "execution_count": 13,
   "id": "adc1a1ec",
   "metadata": {
    "execution": {
     "iopub.execute_input": "2024-05-13T04:09:53.827778Z",
     "iopub.status.busy": "2024-05-13T04:09:53.827366Z",
     "iopub.status.idle": "2024-05-13T04:09:53.834091Z",
     "shell.execute_reply": "2024-05-13T04:09:53.833520Z"
    },
    "papermill": {
     "duration": 0.01297,
     "end_time": "2024-05-13T04:09:53.835330",
     "exception": false,
     "start_time": "2024-05-13T04:09:53.822360",
     "status": "completed"
    },
    "tags": []
   },
   "outputs": [
    {
     "name": "stdout",
     "output_type": "stream",
     "text": [
      "0  publications in the last day.\n"
     ]
    }
   ],
   "source": [
    "# redo for today\n",
    "days = 1\n",
    "res = list(get_last_n_days(dates, days))\n",
    "npub = len(res)\n",
    "print(len(res), f\" publications in the last day.\")\n",
    "\n",
    "carousel = create_carousel(npub)\n",
    "docs = ', '.join(['\"{0:s}\"'.format(k.split('/')[-1]) for k in res])\n",
    "slides = ', '.join([f'\"slide{k}\"' for k in range(1, npub + 1)])\n",
    "\n",
    "with open(\"daily_template.html\", \"r\") as tpl:\n",
    "    page = tpl.read()\n",
    "    page = page.replace(\"{%-- carousel:s --%}\", carousel)\\\n",
    "               .replace(\"{%-- suptitle:s --%}\",  \"Daily\" )\\\n",
    "               .replace(\"{%-- docs:s --%}\", docs)\\\n",
    "               .replace(\"{%-- slides:s --%}\", slides)\n",
    "    \n",
    "# print(carousel, docs, slides)\n",
    "# print(page)\n",
    "with open(\"_build/html/index_daily.html\", 'w') as fout:\n",
    "    fout.write(page)"
   ]
  },
  {
   "cell_type": "code",
   "execution_count": 14,
   "id": "00eece82",
   "metadata": {
    "execution": {
     "iopub.execute_input": "2024-05-13T04:09:53.844963Z",
     "iopub.status.busy": "2024-05-13T04:09:53.844578Z",
     "iopub.status.idle": "2024-05-13T04:09:53.850881Z",
     "shell.execute_reply": "2024-05-13T04:09:53.850281Z"
    },
    "papermill": {
     "duration": 0.012539,
     "end_time": "2024-05-13T04:09:53.852214",
     "exception": false,
     "start_time": "2024-05-13T04:09:53.839675",
     "status": "completed"
    },
    "scrolled": false,
    "tags": []
   },
   "outputs": [
    {
     "name": "stdout",
     "output_type": "stream",
     "text": [
      "6  6 publications selected.\n"
     ]
    }
   ],
   "source": [
    "# Create the flat grid of the last N papers (fixed number regardless of dates)\n",
    "from itertools import islice \n",
    "\n",
    "npub = 6\n",
    "res = [k[0] for k in (islice(reversed(sorted(dates, key=lambda x: x[1])), 6))]\n",
    "print(len(res), f\" {npub} publications selected.\")\n",
    "\n",
    "grid = create_grid(npub)\n",
    "docs = ', '.join(['\"{0:s}\"'.format(k.split('/')[-1]) for k in res])\n",
    "slides = ', '.join([f'\"slide{k}\"' for k in range(1, npub + 1)])\n",
    "\n",
    "with open(\"grid_template.html\", \"r\") as tpl:\n",
    "    page = tpl.read()\n",
    "    page = page.replace(\"{%-- grid-content:s --%}\", grid)\\\n",
    "               .replace(\"{%-- suptitle:s --%}\",  f\"Last {npub:,d} papers\" )\\\n",
    "               .replace(\"{%-- docs:s --%}\", docs)\\\n",
    "               .replace(\"{%-- slides:s --%}\", slides)\n",
    "    \n",
    "# print(grid, docs, slides)\n",
    "# print(page)\n",
    "with open(\"_build/html/index_npub_grid.html\", 'w') as fout:\n",
    "    fout.write(page)"
   ]
  }
 ],
 "metadata": {
  "kernelspec": {
   "display_name": "Python 3 (ipykernel)",
   "language": "python",
   "name": "python3"
  },
  "language_info": {
   "codemirror_mode": {
    "name": "ipython",
    "version": 3
   },
   "file_extension": ".py",
   "mimetype": "text/x-python",
   "name": "python",
   "nbconvert_exporter": "python",
   "pygments_lexer": "ipython3",
   "version": "3.9.19"
  },
  "papermill": {
   "default_parameters": {},
   "duration": 22.198901,
   "end_time": "2024-05-13T04:09:54.072935",
   "environment_variables": {},
   "exception": null,
   "input_path": "MPIA daily digest.ipynb",
   "output_path": "log.ipynb",
   "parameters": {},
   "start_time": "2024-05-13T04:09:31.874034",
   "version": "2.6.0"
  },
  "vscode": {
   "interpreter": {
    "hash": "aee8b7b246df8f9039afb4144a1f6fd8d2ca17a180786b69acc140d282b71a49"
   }
  },
  "widgets": {
   "application/vnd.jupyter.widget-state+json": {
    "state": {
     "0d66090c90e248bca493f930c9fbfba0": {
      "model_module": "@jupyter-widgets/controls",
      "model_module_version": "2.0.0",
      "model_name": "HBoxModel",
      "state": {
       "_dom_classes": [],
       "_model_module": "@jupyter-widgets/controls",
       "_model_module_version": "2.0.0",
       "_model_name": "HBoxModel",
       "_view_count": null,
       "_view_module": "@jupyter-widgets/controls",
       "_view_module_version": "2.0.0",
       "_view_name": "HBoxView",
       "box_style": "",
       "children": [
        "IPY_MODEL_9b89b645fffa4799ae637d131e4b9a13",
        "IPY_MODEL_57dc6baabbf84ae3884c83f0206fbe9e",
        "IPY_MODEL_eeaec9af2fe64d1699881d563e2ca7c2"
       ],
       "layout": "IPY_MODEL_2cb25e1420c945ef832ff61897c5202a",
       "tabbable": null,
       "tooltip": null
      }
     },
     "2cb25e1420c945ef832ff61897c5202a": {
      "model_module": "@jupyter-widgets/base",
      "model_module_version": "2.0.0",
      "model_name": "LayoutModel",
      "state": {
       "_model_module": "@jupyter-widgets/base",
       "_model_module_version": "2.0.0",
       "_model_name": "LayoutModel",
       "_view_count": null,
       "_view_module": "@jupyter-widgets/base",
       "_view_module_version": "2.0.0",
       "_view_name": "LayoutView",
       "align_content": null,
       "align_items": null,
       "align_self": null,
       "border_bottom": null,
       "border_left": null,
       "border_right": null,
       "border_top": null,
       "bottom": null,
       "display": null,
       "flex": null,
       "flex_flow": null,
       "grid_area": null,
       "grid_auto_columns": null,
       "grid_auto_flow": null,
       "grid_auto_rows": null,
       "grid_column": null,
       "grid_gap": null,
       "grid_row": null,
       "grid_template_areas": null,
       "grid_template_columns": null,
       "grid_template_rows": null,
       "height": null,
       "justify_content": null,
       "justify_items": null,
       "left": null,
       "margin": null,
       "max_height": null,
       "max_width": null,
       "min_height": null,
       "min_width": null,
       "object_fit": null,
       "object_position": null,
       "order": null,
       "overflow": null,
       "padding": null,
       "right": null,
       "top": null,
       "visibility": null,
       "width": null
      }
     },
     "3c3775021e864a88b448f05d58f4d0d2": {
      "model_module": "@jupyter-widgets/base",
      "model_module_version": "2.0.0",
      "model_name": "LayoutModel",
      "state": {
       "_model_module": "@jupyter-widgets/base",
       "_model_module_version": "2.0.0",
       "_model_name": "LayoutModel",
       "_view_count": null,
       "_view_module": "@jupyter-widgets/base",
       "_view_module_version": "2.0.0",
       "_view_name": "LayoutView",
       "align_content": null,
       "align_items": null,
       "align_self": null,
       "border_bottom": null,
       "border_left": null,
       "border_right": null,
       "border_top": null,
       "bottom": null,
       "display": null,
       "flex": null,
       "flex_flow": null,
       "grid_area": null,
       "grid_auto_columns": null,
       "grid_auto_flow": null,
       "grid_auto_rows": null,
       "grid_column": null,
       "grid_gap": null,
       "grid_row": null,
       "grid_template_areas": null,
       "grid_template_columns": null,
       "grid_template_rows": null,
       "height": null,
       "justify_content": null,
       "justify_items": null,
       "left": null,
       "margin": null,
       "max_height": null,
       "max_width": null,
       "min_height": null,
       "min_width": null,
       "object_fit": null,
       "object_position": null,
       "order": null,
       "overflow": null,
       "padding": null,
       "right": null,
       "top": null,
       "visibility": null,
       "width": null
      }
     },
     "57dc6baabbf84ae3884c83f0206fbe9e": {
      "model_module": "@jupyter-widgets/controls",
      "model_module_version": "2.0.0",
      "model_name": "FloatProgressModel",
      "state": {
       "_dom_classes": [],
       "_model_module": "@jupyter-widgets/controls",
       "_model_module_version": "2.0.0",
       "_model_name": "FloatProgressModel",
       "_view_count": null,
       "_view_module": "@jupyter-widgets/controls",
       "_view_module_version": "2.0.0",
       "_view_name": "ProgressView",
       "bar_style": "success",
       "description": "",
       "description_allow_html": false,
       "layout": "IPY_MODEL_3c3775021e864a88b448f05d58f4d0d2",
       "max": 5.0,
       "min": 0.0,
       "orientation": "horizontal",
       "style": "IPY_MODEL_5d1f74261a2444c9b20ed8f467eb1c09",
       "tabbable": null,
       "tooltip": null,
       "value": 5.0
      }
     },
     "5d1f74261a2444c9b20ed8f467eb1c09": {
      "model_module": "@jupyter-widgets/controls",
      "model_module_version": "2.0.0",
      "model_name": "ProgressStyleModel",
      "state": {
       "_model_module": "@jupyter-widgets/controls",
       "_model_module_version": "2.0.0",
       "_model_name": "ProgressStyleModel",
       "_view_count": null,
       "_view_module": "@jupyter-widgets/base",
       "_view_module_version": "2.0.0",
       "_view_name": "StyleView",
       "bar_color": null,
       "description_width": ""
      }
     },
     "68875ffbffda41fa87493e5f90bbdfdc": {
      "model_module": "@jupyter-widgets/controls",
      "model_module_version": "2.0.0",
      "model_name": "HTMLStyleModel",
      "state": {
       "_model_module": "@jupyter-widgets/controls",
       "_model_module_version": "2.0.0",
       "_model_name": "HTMLStyleModel",
       "_view_count": null,
       "_view_module": "@jupyter-widgets/base",
       "_view_module_version": "2.0.0",
       "_view_name": "StyleView",
       "background": null,
       "description_width": "",
       "font_size": null,
       "text_color": null
      }
     },
     "9b89b645fffa4799ae637d131e4b9a13": {
      "model_module": "@jupyter-widgets/controls",
      "model_module_version": "2.0.0",
      "model_name": "HTMLModel",
      "state": {
       "_dom_classes": [],
       "_model_module": "@jupyter-widgets/controls",
       "_model_module_version": "2.0.0",
       "_model_name": "HTMLModel",
       "_view_count": null,
       "_view_module": "@jupyter-widgets/controls",
       "_view_module_version": "2.0.0",
       "_view_name": "HTMLView",
       "description": "",
       "description_allow_html": false,
       "layout": "IPY_MODEL_eb9154ebec4c49ec86d4e6e986943875",
       "placeholder": "​",
       "style": "IPY_MODEL_68875ffbffda41fa87493e5f90bbdfdc",
       "tabbable": null,
       "tooltip": null,
       "value": "100%"
      }
     },
     "badc81ed7c2c47b3a27d6d61c4d73fc3": {
      "model_module": "@jupyter-widgets/base",
      "model_module_version": "2.0.0",
      "model_name": "LayoutModel",
      "state": {
       "_model_module": "@jupyter-widgets/base",
       "_model_module_version": "2.0.0",
       "_model_name": "LayoutModel",
       "_view_count": null,
       "_view_module": "@jupyter-widgets/base",
       "_view_module_version": "2.0.0",
       "_view_name": "LayoutView",
       "align_content": null,
       "align_items": null,
       "align_self": null,
       "border_bottom": null,
       "border_left": null,
       "border_right": null,
       "border_top": null,
       "bottom": null,
       "display": null,
       "flex": null,
       "flex_flow": null,
       "grid_area": null,
       "grid_auto_columns": null,
       "grid_auto_flow": null,
       "grid_auto_rows": null,
       "grid_column": null,
       "grid_gap": null,
       "grid_row": null,
       "grid_template_areas": null,
       "grid_template_columns": null,
       "grid_template_rows": null,
       "height": null,
       "justify_content": null,
       "justify_items": null,
       "left": null,
       "margin": null,
       "max_height": null,
       "max_width": null,
       "min_height": null,
       "min_width": null,
       "object_fit": null,
       "object_position": null,
       "order": null,
       "overflow": null,
       "padding": null,
       "right": null,
       "top": null,
       "visibility": null,
       "width": null
      }
     },
     "cbbbd13cb2d249488f0d2f1528f92479": {
      "model_module": "@jupyter-widgets/controls",
      "model_module_version": "2.0.0",
      "model_name": "HTMLStyleModel",
      "state": {
       "_model_module": "@jupyter-widgets/controls",
       "_model_module_version": "2.0.0",
       "_model_name": "HTMLStyleModel",
       "_view_count": null,
       "_view_module": "@jupyter-widgets/base",
       "_view_module_version": "2.0.0",
       "_view_name": "StyleView",
       "background": null,
       "description_width": "",
       "font_size": null,
       "text_color": null
      }
     },
     "eb9154ebec4c49ec86d4e6e986943875": {
      "model_module": "@jupyter-widgets/base",
      "model_module_version": "2.0.0",
      "model_name": "LayoutModel",
      "state": {
       "_model_module": "@jupyter-widgets/base",
       "_model_module_version": "2.0.0",
       "_model_name": "LayoutModel",
       "_view_count": null,
       "_view_module": "@jupyter-widgets/base",
       "_view_module_version": "2.0.0",
       "_view_name": "LayoutView",
       "align_content": null,
       "align_items": null,
       "align_self": null,
       "border_bottom": null,
       "border_left": null,
       "border_right": null,
       "border_top": null,
       "bottom": null,
       "display": null,
       "flex": null,
       "flex_flow": null,
       "grid_area": null,
       "grid_auto_columns": null,
       "grid_auto_flow": null,
       "grid_auto_rows": null,
       "grid_column": null,
       "grid_gap": null,
       "grid_row": null,
       "grid_template_areas": null,
       "grid_template_columns": null,
       "grid_template_rows": null,
       "height": null,
       "justify_content": null,
       "justify_items": null,
       "left": null,
       "margin": null,
       "max_height": null,
       "max_width": null,
       "min_height": null,
       "min_width": null,
       "object_fit": null,
       "object_position": null,
       "order": null,
       "overflow": null,
       "padding": null,
       "right": null,
       "top": null,
       "visibility": null,
       "width": null
      }
     },
     "eeaec9af2fe64d1699881d563e2ca7c2": {
      "model_module": "@jupyter-widgets/controls",
      "model_module_version": "2.0.0",
      "model_name": "HTMLModel",
      "state": {
       "_dom_classes": [],
       "_model_module": "@jupyter-widgets/controls",
       "_model_module_version": "2.0.0",
       "_model_name": "HTMLModel",
       "_view_count": null,
       "_view_module": "@jupyter-widgets/controls",
       "_view_module_version": "2.0.0",
       "_view_name": "HTMLView",
       "description": "",
       "description_allow_html": false,
       "layout": "IPY_MODEL_badc81ed7c2c47b3a27d6d61c4d73fc3",
       "placeholder": "​",
       "style": "IPY_MODEL_cbbbd13cb2d249488f0d2f1528f92479",
       "tabbable": null,
       "tooltip": null,
       "value": " 5/5 [00:00&lt;00:00, 365.95it/s]"
      }
     }
    },
    "version_major": 2,
    "version_minor": 0
   }
  }
 },
 "nbformat": 4,
 "nbformat_minor": 5
}