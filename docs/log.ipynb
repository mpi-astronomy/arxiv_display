{
 "cells": [
  {
   "cell_type": "markdown",
   "id": "92bcb855",
   "metadata": {
    "papermill": {
     "duration": 0.00377,
     "end_time": "2024-03-07T04:08:29.451854",
     "exception": false,
     "start_time": "2024-03-07T04:08:29.448084",
     "status": "completed"
    },
    "tags": []
   },
   "source": [
    "# MPIA Arxiv on Deck 2\n",
    "\n",
    "Contains the steps to produce the paper extractions."
   ]
  },
  {
   "cell_type": "code",
   "execution_count": 1,
   "id": "3a0d6e11",
   "metadata": {
    "execution": {
     "iopub.execute_input": "2024-03-07T04:08:29.459093Z",
     "iopub.status.busy": "2024-03-07T04:08:29.458551Z",
     "iopub.status.idle": "2024-03-07T04:08:29.926531Z",
     "shell.execute_reply": "2024-03-07T04:08:29.925891Z"
    },
    "papermill": {
     "duration": 0.473348,
     "end_time": "2024-03-07T04:08:29.928213",
     "exception": false,
     "start_time": "2024-03-07T04:08:29.454865",
     "status": "completed"
    },
    "tags": []
   },
   "outputs": [],
   "source": [
    "# Imports\n",
    "import os\n",
    "from IPython.display import Markdown, display\n",
    "from tqdm.notebook import tqdm\n",
    "import warnings\n",
    "from PIL import Image \n",
    "\n",
    "# requires arxiv_on_deck_2\n",
    "\n",
    "from arxiv_on_deck_2.arxiv2 import (get_new_papers, \n",
    "                                    get_paper_from_identifier,\n",
    "                                    retrieve_document_source, \n",
    "                                    get_markdown_badge)\n",
    "from arxiv_on_deck_2 import (latex,\n",
    "                             latex_bib,\n",
    "                             mpia,\n",
    "                             highlight_authors_in_list)\n",
    "\n",
    "# Sometimes images are really big\n",
    "Image.MAX_IMAGE_PIXELS = 1000000000 "
   ]
  },
  {
   "cell_type": "code",
   "execution_count": 2,
   "id": "22aa9d44",
   "metadata": {
    "execution": {
     "iopub.execute_input": "2024-03-07T04:08:29.935456Z",
     "iopub.status.busy": "2024-03-07T04:08:29.934895Z",
     "iopub.status.idle": "2024-03-07T04:08:29.939944Z",
     "shell.execute_reply": "2024-03-07T04:08:29.939322Z"
    },
    "papermill": {
     "duration": 0.010066,
     "end_time": "2024-03-07T04:08:29.941348",
     "exception": false,
     "start_time": "2024-03-07T04:08:29.931282",
     "status": "completed"
    },
    "tags": []
   },
   "outputs": [],
   "source": [
    "# Some useful definitions.\n",
    "\n",
    "class AffiliationWarning(UserWarning):\n",
    "    pass\n",
    "\n",
    "class AffiliationError(RuntimeError):\n",
    "    pass\n",
    "\n",
    "def validation(source: str):\n",
    "    \"\"\"Raises error paper during parsing of source file\n",
    "    \n",
    "    Allows checks before parsing TeX code.\n",
    "    \n",
    "    Raises AffiliationWarning\n",
    "    \"\"\"\n",
    "    check = mpia.affiliation_verifications(source, verbose=True)\n",
    "    if check is not True:\n",
    "        raise AffiliationError(\"mpia.affiliation_verifications: \" + check)\n",
    "\n",
    "        \n",
    "warnings.simplefilter('always', AffiliationWarning)\n",
    "\n",
    "\n",
    "def get_markdown_qrcode(paper_id: str):\n",
    "    \"\"\" Generate a qrcode to the arxiv page using qrserver.com\n",
    "    \n",
    "    :param paper: Arxiv paper\n",
    "    :returns: markdown text\n",
    "    \"\"\"\n",
    "    url = r\"https://api.qrserver.com/v1/create-qr-code/?size=100x100&data=\"\n",
    "    txt = f\"\"\"<img src={url}\"https://arxiv.org/abs/{paper_id}\">\"\"\"\n",
    "    txt = '<div id=\"qrcode\">' + txt + '</div>'\n",
    "    return txt"
   ]
  },
  {
   "cell_type": "markdown",
   "id": "14bd6310",
   "metadata": {
    "papermill": {
     "duration": 0.002761,
     "end_time": "2024-03-07T04:08:29.946929",
     "exception": false,
     "start_time": "2024-03-07T04:08:29.944168",
     "status": "completed"
    },
    "tags": []
   },
   "source": [
    "## get list of arxiv paper candidates\n",
    "\n",
    "We use the MPIA mitarbeiter list webpage from mpia.de to get author names\n",
    "We then get all new papers from Arxiv and match authors"
   ]
  },
  {
   "cell_type": "code",
   "execution_count": 3,
   "id": "2645e73a",
   "metadata": {
    "execution": {
     "iopub.execute_input": "2024-03-07T04:08:29.953633Z",
     "iopub.status.busy": "2024-03-07T04:08:29.953196Z",
     "iopub.status.idle": "2024-03-07T04:08:47.596473Z",
     "shell.execute_reply": "2024-03-07T04:08:47.595681Z"
    },
    "papermill": {
     "duration": 17.648161,
     "end_time": "2024-03-07T04:08:47.597875",
     "exception": false,
     "start_time": "2024-03-07T04:08:29.949714",
     "status": "completed"
    },
    "tags": []
   },
   "outputs": [
    {
     "name": "stdout",
     "output_type": "stream",
     "text": [
      "H.-W. Rix  ->  H.-W. Rix  |  ['H.-W. Rix']\n",
      "E.-M. Ahrer  ->  E.-M. Ahrer  |  ['E.-M. Ahrer']\n",
      "D. Christie  ->  D. Christie  |  ['D. Christie']\n",
      "L. Acuna  ->  L. Acuna  |  ['L. Acuna']\n",
      "J. Li  ->  J. Li  |  ['J. Li']\n",
      "S. Li  ->  S. Li  |  ['S. Li']\n",
      "X. Zhang  ->  X. Zhang  |  ['X. Zhang']\n",
      "A. d. Graaff  ->  A. D. Graaff  |  ['A. D. Graaff']\n",
      "Arxiv has 64 new papers today\n",
      "          6 with possible author matches\n"
     ]
    }
   ],
   "source": [
    "# get list from MPIA website\n",
    "# it automatically filters identified non-scientists :func:`mpia.filter_non_scientists`\n",
    "mpia_authors = mpia.get_mpia_mitarbeiter_list()\n",
    "normed_mpia_authors = [k[1] for k in mpia_authors]   # initials + fullname\n",
    "new_papers = get_new_papers()\n",
    "# add manual references\n",
    "add_paper_refs = []\n",
    "new_papers.extend([get_paper_from_identifier(k) for k in add_paper_refs])\n",
    "\n",
    "candidates = []\n",
    "for paperk in new_papers:\n",
    "    # Check author list with their initials\n",
    "    normed_author_list = [mpia.get_initials(k) for k in paperk['authors']]\n",
    "    hl_authors = highlight_authors_in_list(normed_author_list, normed_mpia_authors, verbose=True)\n",
    "    matches = [(hl, orig) for hl, orig in zip(hl_authors, paperk['authors']) if 'mark' in hl]\n",
    "    paperk['authors'] = hl_authors\n",
    "    if matches:\n",
    "        # only select paper if an author matched our list\n",
    "        candidates.append(paperk)\n",
    "print(\"\"\"Arxiv has {0:,d} new papers today\"\"\".format(len(new_papers)))        \n",
    "print(\"\"\"          {0:,d} with possible author matches\"\"\".format(len(candidates)))"
   ]
  },
  {
   "cell_type": "markdown",
   "id": "3543b34a",
   "metadata": {
    "papermill": {
     "duration": 0.002941,
     "end_time": "2024-03-07T04:08:47.604032",
     "exception": false,
     "start_time": "2024-03-07T04:08:47.601091",
     "status": "completed"
    },
    "tags": []
   },
   "source": [
    "# Parse sources and generate relevant outputs\n",
    "\n",
    "From the candidates, we do the following steps:\n",
    "* get their tarball from ArXiv (and extract data)\n",
    "* find the main .tex file: find one with \\documentclass{...} (sometimes it's non trivial)\n",
    "* Check affiliations with :func:`validation`, which uses :func:`mpia.affiliation_verifications`\n",
    "* If passing the affiliations: we parse the .tex source\n",
    "   * inject sub-documents into the main (flatten the main document)\n",
    "   * parse structure, extract information (title, abstract, authors, figures...)\n",
    "   * handles `\\graphicspath` if provided\n",
    "* Generate the .md document."
   ]
  },
  {
   "cell_type": "code",
   "execution_count": 4,
   "id": "9576b79e",
   "metadata": {
    "execution": {
     "iopub.execute_input": "2024-03-07T04:08:47.610954Z",
     "iopub.status.busy": "2024-03-07T04:08:47.610552Z",
     "iopub.status.idle": "2024-03-07T04:10:25.342690Z",
     "shell.execute_reply": "2024-03-07T04:10:25.341946Z"
    },
    "papermill": {
     "duration": 97.743157,
     "end_time": "2024-03-07T04:10:25.350043",
     "exception": false,
     "start_time": "2024-03-07T04:08:47.606886",
     "status": "completed"
    },
    "scrolled": false,
    "tags": []
   },
   "outputs": [
    {
     "data": {
      "application/vnd.jupyter.widget-view+json": {
       "model_id": "a67e6638c3864fadb65d956dc80e2cff",
       "version_major": 2,
       "version_minor": 0
      },
      "text/plain": [
       "  0%|          | 0/6 [00:00<?, ?it/s]"
      ]
     },
     "metadata": {},
     "output_type": "display_data"
    },
    {
     "name": "stdout",
     "output_type": "stream",
     "text": [
      "Retrieving document from  https://arxiv.org/e-print/2403.03257\n"
     ]
    },
    {
     "name": "stdout",
     "output_type": "stream",
     "text": [
      "extracting tarball to tmp_2403.03257..."
     ]
    },
    {
     "name": "stdout",
     "output_type": "stream",
     "text": [
      " done.\n"
     ]
    },
    {
     "name": "stdout",
     "output_type": "stream",
     "text": [
      "H.-W. Rix  ->  H.-W. Rix  |  ['H.-W. Rix']\n"
     ]
    },
    {
     "name": "stderr",
     "output_type": "stream",
     "text": [
      "/tmp/ipykernel_2142/3009462391.py:49: LatexWarning: 2403.03257 did not run properly\n",
      "list index out of range\n",
      "  warnings.warn(latex.LatexWarning(f\"{paper_id:s} did not run properly\\n\" +\n"
     ]
    },
    {
     "name": "stdout",
     "output_type": "stream",
     "text": [
      "Retrieving document from  https://arxiv.org/e-print/2403.03325\n"
     ]
    },
    {
     "name": "stdout",
     "output_type": "stream",
     "text": [
      "extracting tarball to tmp_2403.03325..."
     ]
    },
    {
     "name": "stdout",
     "output_type": "stream",
     "text": [
      " done.\n"
     ]
    },
    {
     "name": "stderr",
     "output_type": "stream",
     "text": [
      "/opt/hostedtoolcache/Python/3.9.18/x64/lib/python3.9/site-packages/IPython/core/interactiveshell.py:3550: LatexWarning: Multiple tex files.\n",
      "\n",
      "  exec(code_obj, self.user_global_ns, self.user_ns)\n",
      "/opt/hostedtoolcache/Python/3.9.18/x64/lib/python3.9/site-packages/IPython/core/interactiveshell.py:3550: LatexWarning: Found documentclass in tmp_2403.03325/main.tex\n",
      "\n",
      "  exec(code_obj, self.user_global_ns, self.user_ns)\n",
      "/opt/hostedtoolcache/Python/3.9.18/x64/lib/python3.9/site-packages/arxiv_on_deck_2/latex.py:399: LatexWarning: Latex injecting: 'commanddef.tex' from 'tmp_2403.03325/commanddef.tex'\n",
      "  warnings.warn(LatexWarning(f\"Latex injecting: '{ext}' from '{subsource}'\"))\n"
     ]
    },
    {
     "name": "stdout",
     "output_type": "stream",
     "text": [
      "E.-M. Ahrer  ->  E.-M. Ahrer  |  ['E.-M. Ahrer']\n",
      "D. Christie  ->  D. Christie  |  ['D. Christie']\n",
      "L. Acuna  ->  L. Acuna  |  ['L. Acuna']\n"
     ]
    },
    {
     "name": "stdout",
     "output_type": "stream",
     "text": [
      "Found 143 bibliographic references in tmp_2403.03325/main.bbl.\n",
      "Retrieving document from  https://arxiv.org/e-print/2403.03379\n"
     ]
    },
    {
     "name": "stdout",
     "output_type": "stream",
     "text": [
      "extracting tarball to tmp_2403.03379..."
     ]
    },
    {
     "name": "stdout",
     "output_type": "stream",
     "text": [
      " done.\n",
      "Retrieving document from  https://arxiv.org/e-print/2403.03437\n"
     ]
    },
    {
     "name": "stderr",
     "output_type": "stream",
     "text": [
      "/opt/hostedtoolcache/Python/3.9.18/x64/lib/python3.9/site-packages/IPython/core/interactiveshell.py:3550: LatexWarning: Multiple tex files.\n",
      "\n",
      "  exec(code_obj, self.user_global_ns, self.user_ns)\n",
      "/opt/hostedtoolcache/Python/3.9.18/x64/lib/python3.9/site-packages/IPython/core/interactiveshell.py:3550: LatexWarning: Found documentclass in tmp_2403.03379/aanda.tex\n",
      "\n",
      "  exec(code_obj, self.user_global_ns, self.user_ns)\n",
      "/opt/hostedtoolcache/Python/3.9.18/x64/lib/python3.9/site-packages/arxiv_on_deck_2/latex.py:399: LatexWarning: Latex injecting: 'authors' from 'tmp_2403.03379/authors.tex'\n",
      "  warnings.warn(LatexWarning(f\"Latex injecting: '{ext}' from '{subsource}'\"))\n"
     ]
    },
    {
     "name": "stdout",
     "output_type": "stream",
     "text": [
      "extracting tarball to tmp_2403.03437..."
     ]
    },
    {
     "name": "stdout",
     "output_type": "stream",
     "text": [
      " done.\n"
     ]
    },
    {
     "name": "stdout",
     "output_type": "stream",
     "text": [
      "S. Li  ->  S. Li  |  ['S. Li']\n"
     ]
    },
    {
     "name": "stderr",
     "output_type": "stream",
     "text": [
      "/tmp/ipykernel_2142/3009462391.py:49: LatexWarning: 2403.03437 did not run properly\n",
      "list index out of range\n",
      "  warnings.warn(latex.LatexWarning(f\"{paper_id:s} did not run properly\\n\" +\n"
     ]
    },
    {
     "name": "stdout",
     "output_type": "stream",
     "text": [
      "Retrieving document from  https://arxiv.org/e-print/2403.03845\n"
     ]
    },
    {
     "name": "stdout",
     "output_type": "stream",
     "text": [
      "extracting tarball to tmp_2403.03845..."
     ]
    },
    {
     "name": "stdout",
     "output_type": "stream",
     "text": [
      " done.\n",
      "Retrieving document from  https://arxiv.org/e-print/2403.03872\n"
     ]
    },
    {
     "name": "stdout",
     "output_type": "stream",
     "text": [
      "extracting tarball to tmp_2403.03872..."
     ]
    },
    {
     "name": "stdout",
     "output_type": "stream",
     "text": [
      " done.\n"
     ]
    },
    {
     "name": "stderr",
     "output_type": "stream",
     "text": [
      "/opt/hostedtoolcache/Python/3.9.18/x64/lib/python3.9/site-packages/IPython/core/interactiveshell.py:3550: LatexWarning: Multiple tex files.\n",
      "\n",
      "  exec(code_obj, self.user_global_ns, self.user_ns)\n",
      "/opt/hostedtoolcache/Python/3.9.18/x64/lib/python3.9/site-packages/IPython/core/interactiveshell.py:3550: LatexWarning: Found documentclass in tmp_2403.03872/tmp.tex\n",
      "\n",
      "  exec(code_obj, self.user_global_ns, self.user_ns)\n",
      "/opt/hostedtoolcache/Python/3.9.18/x64/lib/python3.9/site-packages/arxiv_on_deck_2/latex.py:399: LatexWarning: Latex injecting: 'journal_abbrev' from 'tmp_2403.03872/journal_abbrev.tex'\n",
      "  warnings.warn(LatexWarning(f\"Latex injecting: '{ext}' from '{subsource}'\"))\n"
     ]
    }
   ],
   "source": [
    "documents = []\n",
    "failed = []\n",
    "for paper in tqdm(candidates):\n",
    "    paper_id = paper['identifier'].lower().replace('arxiv:', '')\n",
    "    \n",
    "    folder = f'tmp_{paper_id}'\n",
    "\n",
    "    try:\n",
    "        if not os.path.isdir(folder):\n",
    "            folder = retrieve_document_source(f\"{paper_id}\", f'tmp_{paper_id}')\n",
    "        \n",
    "        try:\n",
    "            doc = latex.LatexDocument(folder, validation=validation)    \n",
    "        except AffiliationError as affilerror:\n",
    "            msg = f\"ArXiv:{paper_id:s} is not an MPIA paper... \" + str(affilerror)\n",
    "            failed.append((paper, \"affiliation error: \" + str(affilerror) ))\n",
    "            continue\n",
    "        \n",
    "        # Hack because sometimes author parsing does not work well\n",
    "        if (len(doc.authors) != len(paper['authors'])):\n",
    "            doc._authors = paper['authors']\n",
    "        else:\n",
    "            # highlight authors (FIXME: doc.highlight_authors)\n",
    "            # done on arxiv paper already\n",
    "            doc._authors = highlight_authors_in_list(\n",
    "                [mpia.get_initials(k) for k in doc.authors], \n",
    "                normed_mpia_authors, verbose=True)\n",
    "        if (doc.abstract) in (None, ''):\n",
    "            doc._abstract = paper['abstract']\n",
    "            \n",
    "        doc.comment = (get_markdown_badge(paper_id) + \n",
    "                       \"<mark>Appeared on: \" + paper['date'] + \"</mark> - \")\n",
    "        if paper['comments']:\n",
    "            doc.comment += \" _\" + paper['comments'] + \"_\"\n",
    "        \n",
    "        full_md = doc.generate_markdown_text()\n",
    "        \n",
    "        full_md += get_markdown_qrcode(paper_id)\n",
    "        \n",
    "        # replace citations\n",
    "        try:\n",
    "            bibdata = latex_bib.LatexBib.from_doc(doc)\n",
    "            full_md = latex_bib.replace_citations(full_md, bibdata)\n",
    "        except Exception as e:\n",
    "            print(e)\n",
    "        \n",
    "        documents.append((paper_id, full_md))\n",
    "    except Exception as e:\n",
    "        warnings.warn(latex.LatexWarning(f\"{paper_id:s} did not run properly\\n\" +\n",
    "                                         str(e)\n",
    "                                        ))\n",
    "        failed.append((paper, \"latex error \" + str(e)))"
   ]
  },
  {
   "cell_type": "markdown",
   "id": "2505a25c",
   "metadata": {
    "papermill": {
     "duration": 0.004137,
     "end_time": "2024-03-07T04:10:25.358362",
     "exception": false,
     "start_time": "2024-03-07T04:10:25.354225",
     "status": "completed"
    },
    "tags": []
   },
   "source": [
    "### Export the logs\n",
    "\n",
    "Throughout, we also keep track of the logs per paper. see `logs-{today date}.md` "
   ]
  },
  {
   "cell_type": "code",
   "execution_count": 5,
   "id": "d733828a",
   "metadata": {
    "execution": {
     "iopub.execute_input": "2024-03-07T04:10:25.367812Z",
     "iopub.status.busy": "2024-03-07T04:10:25.367309Z",
     "iopub.status.idle": "2024-03-07T04:10:25.384249Z",
     "shell.execute_reply": "2024-03-07T04:10:25.383712Z"
    },
    "papermill": {
     "duration": 0.023151,
     "end_time": "2024-03-07T04:10:25.385582",
     "exception": false,
     "start_time": "2024-03-07T04:10:25.362431",
     "status": "completed"
    },
    "scrolled": false,
    "tags": []
   },
   "outputs": [
    {
     "data": {
      "text/markdown": [
       "## Successful papers"
      ],
      "text/plain": [
       "<IPython.core.display.Markdown object>"
      ]
     },
     "metadata": {},
     "output_type": "display_data"
    },
    {
     "data": {
      "text/markdown": [
       "\n",
       "|||\n",
       "|---:|:---|\n",
       "| [![arXiv](https://img.shields.io/badge/arXiv-arXiv:2403.03325-b31b1b.svg)](https://arxiv.org/abs/arXiv:2403.03325) | **JWST Reveals CH$_4$, CO$_2$, and H$_2$O in a Metal-rich Miscible  Atmosphere on a Two-Earth-Radius Exoplanet**  |\n",
       "|| B. Benneke, et al. -- incl., <mark>E.-M. Ahrer</mark>, <mark>D. Christie</mark>, <mark>L. Acuna</mark> |\n",
       "|*Appeared on*| *2024-03-07*|\n",
       "|*Comments*| *25 pages, 12 figures*|\n",
       "|**Abstract**| Even though sub-Neptunes likely represent the most common outcome of planet formation, their natures remain poorly understood. In particular, planets near 1.5-2.5$\\,R_\\oplus$ often have bulk densities that can be explained equally well with widely different compositions and interior structures, resulting in grossly divergent implications for their formation. Here, we present the full 0.6-5.2$\\,\\mu \\mathrm{m}$ JWST NIRISS/SOSS+NIRSpec/G395H transmission spectrum of the 2.2$\\,R_\\oplus$ TOI-270d ($4.78\\,M_\\oplus$, $T_\\mathrm{eq}$=350-380 K), delivering unprecedented sensitivity for atmospheric characterization in the sub-Neptune regime. We detect five vibrational bands of CH$_4$ at 1.15, 1.4, 1.7, 2.3, and 3.3$\\,\\mu$m (9.4$\\sigma$), the signature of CO$_2$ at 4.3$\\,\\mu$m (4.8$\\sigma$), water vapor (2.5$\\sigma$), and potential signatures of SO$_2$ at 4.0$\\,\\mu \\mathrm{m}$ and CS$_2$ at 4.6$\\,\\mu\\mathrm{m}$. Intriguingly, we find an overall highly metal-rich atmosphere, with a mean molecular weight of $5.47_{-1.14}^{+1.25}$. We infer an atmospheric metal mass fraction of $58_{-12}^{+8}\\%$ and a C/O of $0.47_{-0.19}^{+0.16}$, indicating that approximately half the mass of the outer envelope is in high-molecular-weight volatiles (H$_2$O, CH$_4$, CO, CO$_2$) rather than H$_2$/He. We introduce a sub-Neptune classification scheme and identify TOI-270d as a \"miscible-envelope sub-Neptune\" in which H$_2$/He is well-mixed with the high-molecular-weight volatiles in a miscible supercritical metal-rich envelope. For a fully miscible envelope, we conclude that TOI-270d's interior is $90_{-4}^{+3}\\,$wt$\\,\\%$ rock/iron, indicating that it formed as a rocky planet that accreted a few wt % of H$_2$/He, with the overall envelope metal content explained by magma-ocean/envelope reactions without the need for significant ice accretion. TOI-270d may well be an archetype of the overall population of sub-Neptunes. |"
      ],
      "text/plain": [
       "[arXiv:2403.03325] JWST Reveals CH$_4$, CO$_2$, and H$_2$O in a Metal-rich Miscible  Atmosphere on a Two-Earth-Radius Exoplanet\n",
       "\tB. Benneke, et al. -- incl., <mark>E.-M. Ahrer</mark>, <mark>D. Christie</mark>, <mark>L. Acuna</mark>"
      ]
     },
     "metadata": {},
     "output_type": "display_data"
    },
    {
     "data": {
      "text/markdown": [
       "## Failed papers"
      ],
      "text/plain": [
       "<IPython.core.display.Markdown object>"
      ]
     },
     "metadata": {},
     "output_type": "display_data"
    },
    {
     "data": {
      "text/markdown": [
       "\n",
       "|||\n",
       "|---:|:---|\n",
       "| [![arXiv](https://img.shields.io/badge/arXiv-arXiv:2403.03379-b31b1b.svg)](https://arxiv.org/abs/arXiv:2403.03379) | **The ALMA-CRISTAL survey: Extended [CII] emission in an interacting  galaxy system at z ~ 5.5**  |\n",
       "|| A. Posses, et al. -- incl., <mark>J. Li</mark> |\n",
       "|*Appeared on*| *2024-03-07*|\n",
       "|*Comments*| *Submitted to A&A - comments are welcome! - 19 pages, 13 figures*|\n",
       "|**Abstract**| The ALMA [CII] Resolved Ism in STar-forming gALaxies (CRISTAL) survey is a Cycle 8 ALMA Large Programme that studies the cold gas component of high-redshift galaxies. Its sub-arcsecond resolution observations are key to disentangling physical mechanisms that shape galaxies during cosmic dawn. In this paper, we explore the morphology and kinematics of the cold gas, star-forming, and stellar components in the star-forming main-sequence galaxy CRISTAL-05/HZ3, at z = 5.54. Our analysis includes 0.3\" spatial resolution (~2 kpc) ALMA observations of the [CII] line. While CRISTAL-05 was previously classified as a single source, our observations reveal that the system is a close interacting pair surrounded by an extended component of carbon-enriched gas. This is imprinted in the disturbed elongated [CII] morphology and the separation of the two components in the position-velocity diagram (~100 km/s). The central region is composed of two components, named C05-NW and C05-SE, with the former being the dominant one. A significant fraction of the [CII] arises beyond the close pair up to 10 kpc, while the regions forming new massive stars and the stellar component seem compact (r_[CII] ~ 4 r_UV), as traced by rest-frame UV and optical imaging obtained with the Hubble Space Telescope and the James Webb Space Telescope. Our kinematic model, using the DYSMALpy software, yields a minor contribution of dark matter of C05-NW within a radius of ~2x Reff. Finally, we explore the resolved [CII]/FIR ratios as a proxy for shock-heating produced by this merger. We argue that the extended [CII] emission is mainly caused by the merger, which could not be discerned with lower-resolution observations. Our work emphasizes the need for high-resolution observations to fully characterize the dynamic stages of infant galaxies and the physical mechanisms that drive the metal enrichment of the circumgalactic medium. |\n",
       "|<p style=\"color:green\"> **ERROR** </p>| <p style=\"color:green\">affiliation error: mpia.affiliation_verifications: 'Heidelberg' keyword not found.</p> |"
      ],
      "text/plain": [
       "<IPython.core.display.Markdown object>"
      ]
     },
     "metadata": {},
     "output_type": "display_data"
    },
    {
     "data": {
      "text/markdown": [
       "\n",
       "|||\n",
       "|---:|:---|\n",
       "| [![arXiv](https://img.shields.io/badge/arXiv-arXiv:2403.03845-b31b1b.svg)](https://arxiv.org/abs/arXiv:2403.03845) | **Surveys of clumps, cores, and condensations in Cygnus X: Temperature and  nonthermal velocity dispersion revealed by VLA NH3 observations**  |\n",
       "|| <mark>X. Zhang</mark>, et al. |\n",
       "|*Appeared on*| *2024-03-07*|\n",
       "|*Comments*| *37 pages, 19 figures*|\n",
       "|**Abstract**| The physical properties, evolution, and fragmentation of massive dense cores (MDCs, $\\sim$ 0.1 pc) are fundamental pieces in our understanding of high-mass star formation. We aim to characterize the temperature, velocity dispersion, and fragmentation of the MDCs in the Cygnus X giant molecular cloud and to investigate the stability and dynamics of these cores. We present the Karl G. Jansky Very Large Array (VLA) observations of the NH$_3$ (J,K) = (1,1) and (2,2) inversion lines towards 35 MDCs in Cygnus X, from which we calculated the temperature and velocity dispersion. We extracted 202 fragments ($\\sim$ 0.02 pc) from the NH$_3$ (1,1) moment-0 maps with the GAUSSCLUMPS algorithm. We analyzed the stability of the MDCs and their NH$_3$ fragments through evaluating the corresponding kinetic, gravitational potential, and magnetic energies and the virial parameters. The MDCs in Cygnus X have a typical mean kinetic temperature T$_K$ of $\\sim$ 20 K. Our virial analysis shows that many MDCs are in subvirialized states, indicating that the kinetic energy is insufficient to support these MDCs against their gravity. The calculated nonthermal velocity dispersions of most MDCs are at transonic to mildly supersonic levels, and the bulk motions make only a minor contribution to the velocity dispersion. Regarding the NH$_3$ fragments, with T$_K$ $\\sim$ 19 K, their nonthermal velocity dispersions are mostly trans-sonic to subsonic. Unless there is a strong magnetic field, most NH$_3$ fragments are probably not in virialized states. We also find that most of the NH$_3$ fragments are dynamically quiescent, while only a few are active due to star formation activity. |\n",
       "|<p style=\"color:green\"> **ERROR** </p>| <p style=\"color:green\">affiliation error: mpia.affiliation_verifications: 'Heidelberg' keyword not found.</p> |"
      ],
      "text/plain": [
       "<IPython.core.display.Markdown object>"
      ]
     },
     "metadata": {},
     "output_type": "display_data"
    },
    {
     "data": {
      "text/markdown": [
       "\n",
       "|||\n",
       "|---:|:---|\n",
       "| [![arXiv](https://img.shields.io/badge/arXiv-arXiv:2403.03872-b31b1b.svg)](https://arxiv.org/abs/arXiv:2403.03872) | **A dormant, overmassive black hole in the early Universe**  |\n",
       "|| I. Juodžbalis, et al. -- incl., <mark>A. d. Graaff</mark> |\n",
       "|*Appeared on*| *2024-03-07*|\n",
       "|*Comments*| *38 pages, 18 figures. Submitted*|\n",
       "|**Abstract**| Recent observations have found a large number of supermassive black holes already in place in the first few hundred million years after Big Bang. The channels of formation and growth of these early, massive black holes are not clear, with scenarios ranging from heavy seeds to light seeds experiencing bursts of high accretion rate. Here we present the detection, from the JADES survey, of broad Halpha emission in a galaxy at z=6.68, which traces a black hole with mass of ~ 4 * 10^8 Msun and accreting at a rate of only 0.02 times the Eddington limit. The host galaxy has low star formation rate (~ 1 Msun/yr, a factor of 3 below the star forming main sequence). The black hole to stellar mass ratio is ~ 0.4, i.e. about 1,000 times above the local relation, while the system is closer to the local relations in terms of dynamical mass and velocity dispersion of the host galaxy. This object is most likely the tip of the iceberg of a much larger population of dormant black holes around the epoch of reionisation. Its properties are consistent with scenarios in which short bursts of super-Eddington accretion have resulted in black hole overgrowth and massive gas expulsion from the accretion disk; in between bursts, black holes spend most of their life in a dormant state. |\n",
       "|<p style=\"color:green\"> **ERROR** </p>| <p style=\"color:green\">affiliation error: mpia.affiliation_verifications: 'Heidelberg' keyword not found.</p> |"
      ],
      "text/plain": [
       "<IPython.core.display.Markdown object>"
      ]
     },
     "metadata": {},
     "output_type": "display_data"
    },
    {
     "data": {
      "text/markdown": [
       "\n",
       "|||\n",
       "|---:|:---|\n",
       "| [![arXiv](https://img.shields.io/badge/arXiv-arXiv:2403.03257-b31b1b.svg)](https://arxiv.org/abs/arXiv:2403.03257) | **Kinematical Fluctuations Vary with Galaxy Surface Mass Density**  |\n",
       "|| Z.-H. Zhong, G. Zhao, <mark>H.-W. Rix</mark>, L. C. Ho |\n",
       "|*Appeared on*| *2024-03-07*|\n",
       "|*Comments*| *13 pages,10 figures, accepted for publication in ApJL*|\n",
       "|**Abstract**| The Galaxy inner parts are generally considered to be optically symmetric, as well as kinematically symmetric for most massive early-type galaxies. At the lower-mass end, many galaxies contain lots of small patches in their velocity maps, causing their kinematics to be nonsmooth in small scales and far from symmetry. These small patches can easily be mistaken for measurement uncertainties and have not been well discussed. We used the comparison of observations and numerical simulations to demonstrate the small patches existence beyond uncertainties. For the first time we have found that the fluctuation degrees have an approximate inverse loglinear relation with the galaxy stellar surface mass densities. This tight relation among galaxies that do not show obvious optical asymmetry that traces environmental perturbations indicates that stellar motion in galaxies has inherent asymmetry besides external environment influences. The degree of the kinetic asymmetry is closely related to and constrained by the intrinsic properties of the host galaxy. |\n",
       "|<p style=\"color:red\"> **ERROR** </p>| <p style=\"color:red\">latex error list index out of range</p> |"
      ],
      "text/plain": [
       "<IPython.core.display.Markdown object>"
      ]
     },
     "metadata": {},
     "output_type": "display_data"
    },
    {
     "data": {
      "text/markdown": [
       "\n",
       "|||\n",
       "|---:|:---|\n",
       "| [![arXiv](https://img.shields.io/badge/arXiv-arXiv:2403.03437-b31b1b.svg)](https://arxiv.org/abs/arXiv:2403.03437) | **Dark Dragon Breaks Magnetic Chain: Dynamical Substructures of IRDC  G28.34 Form in Supported Environments**  |\n",
       "|| J. Liu, et al. -- incl., <mark>S. Li</mark> |\n",
       "|*Appeared on*| *2024-03-07*|\n",
       "|*Comments*| *35 pages, 24 figures. Accepted by ApJ for publication*|\n",
       "|**Abstract**| We have comprehensively studied the multi-scale physical properties of the infrared dark cloud (IRDC) G28.34 (the Dragon cloud) with dust polarization and molecular line data from Planck, FCRAO-14m, JCMT, and ALMA. We find that the averaged magnetic fields of clumps tend to be either parallel with or perpendicular to the cloud-scale magnetic fields, while the cores in clump MM4 tend to have magnetic fields aligned with the clump fields. Implementing the relative orientation analysis (for magnetic fields, column density gradients, and local gravity), Velocity Gradient Technique, and modified Davis-Chandrasekhar-Fermi analysis, we find that: G28.34 is located in a trans-to-sub-Alfv\\'{e}nic environment ($\\mathcal{M}_{A}=0.74$ within $r=15$ pc); the magnetic field is effectively resisting gravitational collapse in large-scale diffuse gas, but is distorted by gravity within the cloud and affected by star formation activities in high-density regions; and the normalized mass-to-flux ratio tends to increase with density and decrease with radius. Considering both the magnetic and turbulent support, we find that the environmental gas of G28.34 is in a super-virial (supported) state, the infrared dark clumps may be in a near-equilibrium state, and core MM4-core4 is in a sub-virial (gravity-dominant) state. In summary, we suggest that magnetic fields dominate gravity and turbulence in the cloud environment at large scales, resulting in relatively slow cloud formation and evolution processes. Within the cloud, gravity could overwhelm both magnetic fields and turbulence, allowing local dynamical star formation to happen. |\n",
       "|<p style=\"color:red\"> **ERROR** </p>| <p style=\"color:red\">latex error list index out of range</p> |"
      ],
      "text/plain": [
       "<IPython.core.display.Markdown object>"
      ]
     },
     "metadata": {},
     "output_type": "display_data"
    }
   ],
   "source": [
    "import datetime\n",
    "today = str(datetime.date.today())\n",
    "logfile = f\"_build/html/logs/log-{today}.md\"\n",
    "\n",
    "\n",
    "with open(logfile, 'w') as logs:\n",
    "    # Success\n",
    "    logs.write(f'# Arxiv on Deck 2: Logs - {today}\\n\\n')\n",
    "    logs.write(\"\"\"* Arxiv had {0:,d} new papers\\n\"\"\".format(len(new_papers)))\n",
    "    logs.write(\"\"\"    * {0:,d} with possible author matches\\n\\n\"\"\".format(len(candidates)))\n",
    "    logs.write(\"## Sucessful papers\\n\\n\")\n",
    "    display(Markdown(\"## Successful papers\"))\n",
    "    success = [k[0] for k in documents]\n",
    "    for candid in candidates:\n",
    "        if candid['identifier'].split(':')[-1] in success:\n",
    "            display(candid)\n",
    "            logs.write(candid.generate_markdown_text() + '\\n\\n')\n",
    "\n",
    "    ## failed\n",
    "    logs.write(\"## Failed papers\\n\\n\")\n",
    "    display(Markdown(\"## Failed papers\"))\n",
    "    failed = sorted(failed, key=lambda x: x[1])\n",
    "    current_reason = \"\"\n",
    "    for paper, reason in failed:\n",
    "        if 'affiliation' in reason:\n",
    "            color = 'green'\n",
    "        else:\n",
    "            color = 'red'\n",
    "        data = Markdown(\n",
    "                paper.generate_markdown_text() + \n",
    "                f'\\n|<p style=\"color:{color:s}\"> **ERROR** </p>| <p style=\"color:{color:s}\">{reason:s}</p> |'\n",
    "               )\n",
    "        if reason != current_reason:\n",
    "            logs.write(f'### {reason:s} \\n\\n')\n",
    "            current_reason = reason\n",
    "        logs.write(data.data + '\\n\\n')\n",
    "        \n",
    "        # only display here the important errors (all in logs)\n",
    "        # if color in ('red',):\n",
    "        display(data)"
   ]
  },
  {
   "cell_type": "markdown",
   "id": "472d20ee",
   "metadata": {
    "papermill": {
     "duration": 0.004819,
     "end_time": "2024-03-07T04:10:25.395469",
     "exception": false,
     "start_time": "2024-03-07T04:10:25.390650",
     "status": "completed"
    },
    "tags": []
   },
   "source": [
    "## Export documents\n",
    "\n",
    "We now write the .md files and export relevant images"
   ]
  },
  {
   "cell_type": "code",
   "execution_count": 6,
   "id": "d426aed9",
   "metadata": {
    "execution": {
     "iopub.execute_input": "2024-03-07T04:10:25.406657Z",
     "iopub.status.busy": "2024-03-07T04:10:25.406074Z",
     "iopub.status.idle": "2024-03-07T04:10:25.412685Z",
     "shell.execute_reply": "2024-03-07T04:10:25.412026Z"
    },
    "papermill": {
     "duration": 0.013634,
     "end_time": "2024-03-07T04:10:25.414014",
     "exception": false,
     "start_time": "2024-03-07T04:10:25.400380",
     "status": "completed"
    },
    "tags": []
   },
   "outputs": [],
   "source": [
    "def export_markdown_summary(md: str, md_fname:str, directory: str):\n",
    "    \"\"\"Export MD document and associated relevant images\"\"\"\n",
    "    import os\n",
    "    import shutil\n",
    "    import re\n",
    "\n",
    "    if (os.path.exists(directory) and not os.path.isdir(directory)):\n",
    "        raise RuntimeError(f\"a non-directory file exists with name {directory:s}\")\n",
    "\n",
    "    if (not os.path.exists(directory)):\n",
    "        print(f\"creating directory {directory:s}\")\n",
    "        os.mkdir(directory)\n",
    "\n",
    "    fig_fnames = (re.compile(r'\\[Fig.*\\]\\((.*)\\)').findall(md) + \n",
    "                  re.compile(r'\\<img src=\"([^>\\s]*)\"[^>]*/>').findall(md))\n",
    "    for fname in fig_fnames:\n",
    "        if 'http' in fname:\n",
    "            # No need to copy online figures\n",
    "            continue\n",
    "        destdir = os.path.join(directory, os.path.dirname(fname))\n",
    "        destfname = os.path.join(destdir, os.path.basename(fname))\n",
    "        try:\n",
    "            os.makedirs(destdir)\n",
    "        except FileExistsError:\n",
    "            pass\n",
    "        shutil.copy(fname, destfname)\n",
    "    with open(os.path.join(directory, md_fname), 'w') as fout:\n",
    "        fout.write(md)\n",
    "    print(\"exported in \", os.path.join(directory, md_fname))\n",
    "    [print(\"    + \" + os.path.join(directory,fk)) for fk in fig_fnames]"
   ]
  },
  {
   "cell_type": "code",
   "execution_count": 7,
   "id": "014d04a4",
   "metadata": {
    "execution": {
     "iopub.execute_input": "2024-03-07T04:10:25.424999Z",
     "iopub.status.busy": "2024-03-07T04:10:25.424639Z",
     "iopub.status.idle": "2024-03-07T04:10:25.432842Z",
     "shell.execute_reply": "2024-03-07T04:10:25.432220Z"
    },
    "papermill": {
     "duration": 0.015199,
     "end_time": "2024-03-07T04:10:25.434191",
     "exception": false,
     "start_time": "2024-03-07T04:10:25.418992",
     "status": "completed"
    },
    "tags": []
   },
   "outputs": [
    {
     "name": "stdout",
     "output_type": "stream",
     "text": [
      "exported in  _build/html/2403.03325.md\n",
      "    + _build/html/tmp_2403.03325/figures/TransmissionSpectrum.png\n",
      "    + _build/html/tmp_2403.03325/figures/Temp_vs_InteriorStructure.png\n",
      "    + _build/html/tmp_2403.03325/figures/gcm_pt_profiles.png\n"
     ]
    }
   ],
   "source": [
    "for paper_id, md in documents:\n",
    "    export_markdown_summary(md, f\"{paper_id:s}.md\", '_build/html/')"
   ]
  },
  {
   "cell_type": "markdown",
   "id": "f087a0a7",
   "metadata": {
    "papermill": {
     "duration": 0.004852,
     "end_time": "2024-03-07T04:10:25.444024",
     "exception": false,
     "start_time": "2024-03-07T04:10:25.439172",
     "status": "completed"
    },
    "tags": []
   },
   "source": [
    "## Display the papers\n",
    "\n",
    "Not necessary but allows for a quick check."
   ]
  },
  {
   "cell_type": "code",
   "execution_count": 8,
   "id": "fd25f625",
   "metadata": {
    "execution": {
     "iopub.execute_input": "2024-03-07T04:10:25.454980Z",
     "iopub.status.busy": "2024-03-07T04:10:25.454618Z",
     "iopub.status.idle": "2024-03-07T04:10:25.459162Z",
     "shell.execute_reply": "2024-03-07T04:10:25.458503Z"
    },
    "papermill": {
     "duration": 0.011518,
     "end_time": "2024-03-07T04:10:25.460473",
     "exception": false,
     "start_time": "2024-03-07T04:10:25.448955",
     "status": "completed"
    },
    "scrolled": false,
    "tags": []
   },
   "outputs": [
    {
     "data": {
      "text/markdown": [
       "<div class=\"macros\" style=\"visibility:hidden;\">\n",
       "$\\newcommand{\\ensuremath}{}$\n",
       "$\\newcommand{\\xspace}{}$\n",
       "$\\newcommand{\\object}[1]{\\texttt{#1}}$\n",
       "$\\newcommand{\\farcs}{{.}''}$\n",
       "$\\newcommand{\\farcm}{{.}'}$\n",
       "$\\newcommand{\\arcsec}{''}$\n",
       "$\\newcommand{\\arcmin}{'}$\n",
       "$\\newcommand{\\ion}[2]{#1#2}$\n",
       "$\\newcommand{\\textsc}[1]{\\textrm{#1}}$\n",
       "$\\newcommand{\\hl}[1]{\\textrm{#1}}$\n",
       "$\\newcommand{\\footnote}[1]{}$\n",
       "$\\newcommand{\\icarus}{Icarus}$\n",
       "$\\newcommand{\\mnras}{MNRAS}$\n",
       "$\\newcommand{\\pasp}{PASP}$\n",
       "$\\newcommand{\\jqsrt}{JQSRT}$\n",
       "$\\newcommand{\\aj}{AJ}$\n",
       "$\\newcommand{\\apj}{ApJ}$\n",
       "$\\newcommand{\\apjl}{ApJL}$\n",
       "$\\newcommand{\\apjs}{ApJS}$\n",
       "$\\newcommand{\\aap}{A\\&Aj}$\n",
       "$\\newcommand{\\araa}{ARAA}$\n",
       "$\\newcommand{\\nat}{Nature}$\n",
       "$\\newcommand{\\vdag}{(v)^\\dagger}$\n",
       "$\\newcommand$\n",
       "$\\newcommand$\n",
       "$\\newcommand{\\vect}[1]{\\mathbf{#1}}$\n",
       "$\\newcommand{\\mt}[1]{\\mathrm{#1}}$\n",
       "$\\newcommand{\\Msun}{\\ensuremath{ M_{\\odot}}}$\n",
       "$\\newcommand{\\Mearth}{\\ensuremath{ M_{\\oplus}}}$\n",
       "$\\newcommand{\\Mmoon}{\\ensuremath{ M_{\\mathrm{Moon}}}}$\n",
       "$\\newcommand{\\Mjup}{\\ensuremath{ M_{\\mathrm{Jup}}}}$\n",
       "$\\newcommand{\\Rjup}{\\ensuremath{ R_{\\mathrm{Jup}}}}$\n",
       "$\\newcommand{\\mum}{\\ensuremath{\\mathrm{ \\mu m}}}$\n",
       "$\\newcommand{\\AMMF}{\\ensuremath{\\mathrm{AMMF}}}$\n",
       "$\\newcommand{\\Zatm}{\\ensuremath{Z_{\\mathrm{atm}}}}$\n",
       "$\\newcommand{\\Zenv}{\\ensuremath{Z_{\\mathrm{env}}}}$\n",
       "$\\newcommand{\\farcmin}{\\mbox{\\ensuremath{.\\mkern-4mu^\\prime}}}$\n",
       "$\\newcommand{\\farcsec}{\\mbox{\\ensuremath{ .\\!\\!^{\\prime\\prime}}}}$\n",
       "$\\newcommand{\\water}{H_{2}O}$\n",
       "$\\newcommand{\\logX}[1]{\\ensuremath{\\log(\\mathrm{X_{\\ce{#1}}})}}$\n",
       "$\\newcommand{\\logXratio}[2]{\\ensuremath{\\log(\\mathrm{X_{\\ce{#1}} / X_{\\ce{#2}} })}}$\n",
       "$\\newcommand{\\rstar}{R_*}$\n",
       "$\\newcommand{\\re}{ R_\\oplus}$\n",
       "$\\newcommand{\\me}{ M_\\oplus}$\n",
       "$\\newcommand{\\rsun}{ R_\\odot}$\n",
       "$\\newcommand{\\project}[1]{\\textsl{#1}}$\n",
       "$\\newcommand{\\JWST}{\\project{JWST}}$\n",
       "$\\newcommand{\\HST}{\\project{HST}}$\n",
       "$\\newcommand{\\Hubble}{\\project{Hubble}}$\n",
       "$\\newcommand{\\Spitzer}{\\project{Spitzer}}$\n",
       "$\\newcommand{\\Kepler}{\\project{Kepler}}$\n",
       "$\\newcommand{\\Ktwo}{\\project{K2}}$\n",
       "$\\newcommand{\\TESS}{\\project{TESS}}$\n",
       "$\\newcommand{\\CHEOPS}{\\project{CHEOPS}}$\n",
       "$\\newcommand$\n",
       "$\\newcommand$\n",
       "$\\newcommand{\\umontreal}{Department of Physics and Trottier Institute for Research on Exoplanets, Université de Montréal, Montreal, QC, Canada \\href{mailto:bjorn.benneke@umontreal.ca}{bjorn.benneke@umontreal.ca}}$</div>\n",
       "\n",
       "\n",
       "\n",
       "<div id=\"title\">\n",
       "\n",
       "# $\\large{_JWST_ Reveals $CH_4$, $CO_2$, and $H_2$O in a Metal-rich Miscible Atmosphere\\ on a Two-Earth-Radius Exoplanet}$\n",
       "\n",
       "</div>\n",
       "<div id=\"comments\">\n",
       "\n",
       "[![arXiv](https://img.shields.io/badge/arXiv-2403.03325-b31b1b.svg)](https://arxiv.org/abs/2403.03325)<mark>Appeared on: 2024-03-07</mark> -  _25 pages, 12 figures_\n",
       "\n",
       "</div>\n",
       "<div id=\"authors\">\n",
       "\n",
       "B. Benneke, et al. -- incl., <mark>E.-M. Ahrer</mark>, <mark>D. Christie</mark>, <mark>L. Acuna</mark>\n",
       "\n",
       "</div>\n",
       "<div id=\"abstract\">\n",
       "\n",
       "**Abstract:** Even though sub-Neptunes likely represent the most common outcome of planet formation, their natures remain poorly understood. In particular, planets near 1.5--2.5 $\\re$ often have bulk densities that can be explained equally well with widely different compositions and interior structures, resulting in grossly divergent implications for their formation and potential habitability. Here, we present the full 0.6--5.2 $ \\mu \\mathrm{m}$ _JWST NIRISS/SOSS_ + _NIRSpec/G395H_ transmission spectrum of the 2.2 $ \\re$ planet TOI-270 d ( $4.78 \\me$ , $T_\\mathrm{eq}$ =350--380 K), delivering unprecedented sensitivity for atmospheric characterization in the sub-Neptune regime. We detect five vibrational bands of $CH_4$ at 1.15, 1.4, 1.7, 2.3, and 3.3 $\\mu$ m (9.4 $\\sigma$ ), the signature of $CO_2$ at 4.3 $\\mu$ m (4.8 $\\sigma$ ), water vapor (2.5 $\\sigma$ ), and potential signatures of $SO_2$ at 4.0 $ \\mu \\mathrm{m}$ and $CS_2$ at 4.6 $ \\mu\\mathrm{m}$ . Intriguingly, we find an overall highly metal-rich atmosphere, with a mean molecular weight of $5.47_{-1.14}^{+1.25}$ . We infer an atmospheric metal mass fraction of $58_{-12}^{+8}\\%$ and a C/O of $0.47_{-0.19}^{+0.16}$ , indicating that approximately half the mass of the outer envelope is in high-molecular-weight volatiles ($H_2$ O, $CH_4$ , CO, $CO_2$ ) rather than $H_2$ /He. We introduce a sub-Neptune classification scheme and identify TOI-270 d as a \"miscible-envelope sub-Neptune\" in which $H_2$ /He is well-mixed with the high-molecular-weight volatiles in a miscible supercritical metal-rich envelope. For a fully miscible envelope, we conclude that TOI-270 d's interior is $90_{-4}^{+3}$ wt \\% rock/iron, indicating that it formed as a rocky planet that accreted a few wt \\% of $H_2$ /He, with the overall envelope metal content explained by magma-ocean/envelope reactions without the need for significant ice accretion. TOI-270 d may well be an archetype of the overall population of sub-Neptunes.\n",
       "\n",
       "</div>\n",
       "\n",
       "<div id=\"div_fig1\">\n",
       "\n",
       "<img src=\"tmp_2403.03325/figures/TransmissionSpectrum.png\" alt=\"Fig8\" width=\"100%\"/>\n",
       "\n",
       "**Figure 8. -** _JWST/NIRISS + NIRSpec_ transmission spectrum of the temperate $2.2 R_\\oplus$ exoplanet TOI-270 d. The top panel shows the observed transit depths (black points) compared to a random sampling of the model transmission spectra in the atmospheric retrieval posterior (blue), with the overall best-fitting model shown in red. The middle panel illustrates the contributions of individual molecular absorbers in the atmosphere of TOI-270 d, with a zoom on the NIRSpec G395H data shown in the bottom panel. Strong vibrational bands of methane gas are detected at 1.15, 1.4, 1.7, 2.3, and 3.3 $\\mu$m (purple), with $H_2$O absorption contributing as well at 1.4 and 1.9$ \\mu$m. In addition, $CO_2$ absorption is detected at 4.2--4.5 $\\mu$m (green) and the increased transit depth around 4.7 $\\mu$m is a possible signature of $CS_2$(cyan). The inclusion of $SO_2$ improves the fit at 4.1 $\\mu$m. The combined effect of cloud and haze opacity, which becomes significant at wavelengths below 1.1 $\\mu$m, is illustrated through the lower gray envelope of the model spectra. (*fig:TransmissionSpectrum*)\n",
       "\n",
       "</div>\n",
       "<div id=\"div_fig2\">\n",
       "\n",
       "<img src=\"tmp_2403.03325/figures/Temp_vs_InteriorStructure.png\" alt=\"Fig11\" width=\"100%\"/>\n",
       "\n",
       "**Figure 11. -** Temperature-dependent interior structure of sub-Neptunes driven by the phase changes of $H_2$O. TOI-270 d's high atmospheric metal mass fraction indicates that high-molecule-weight volatiles ($H_2$O, $CH_4$, CO, $CO_2$) are well-mixed with the $H_2$/He in a warm miscible envelope (right scenario). The C/H and O/H of the atmosphere is therefore much more representative of the overall envelope composition than for stratified mini-Neptune and hycean worlds. (*fig:Temp_vs_InteriorStructure*)\n",
       "\n",
       "</div>\n",
       "<div id=\"div_fig3\">\n",
       "\n",
       "<img src=\"tmp_2403.03325/figures/gcm_pt_profiles.png\" alt=\"Fig4\" width=\"100%\"/>\n",
       "\n",
       "**Figure 4. -** Pressure-temperature profiles from the dual-grey GCM model of TOI-270 d, averaged over the final 100 days of the simulation. Profiles at the equator (solid lines) and at a latitude of $\\theta=45^{\\circ}$ are shown. TOI-270 d is sufficiently warm around the planet that water remains miscible and transitions directly from the vapor form at low pressures into the supercritical phase at high pressure. (*fig:gcm_pt*)\n",
       "\n",
       "</div><div id=\"qrcode\"><img src=https://api.qrserver.com/v1/create-qr-code/?size=100x100&data=\"https://arxiv.org/abs/2403.03325\"></div>"
      ],
      "text/plain": [
       "<IPython.core.display.Markdown object>"
      ]
     },
     "metadata": {},
     "output_type": "display_data"
    }
   ],
   "source": [
    "[display(Markdown(k[1])) for k in documents];"
   ]
  },
  {
   "cell_type": "markdown",
   "id": "873873a4",
   "metadata": {
    "papermill": {
     "duration": 0.005167,
     "end_time": "2024-03-07T04:10:25.470991",
     "exception": false,
     "start_time": "2024-03-07T04:10:25.465824",
     "status": "completed"
    },
    "tags": []
   },
   "source": [
    "# Create HTML index"
   ]
  },
  {
   "cell_type": "code",
   "execution_count": 9,
   "id": "cf665672",
   "metadata": {
    "execution": {
     "iopub.execute_input": "2024-03-07T04:10:25.482315Z",
     "iopub.status.busy": "2024-03-07T04:10:25.482129Z",
     "iopub.status.idle": "2024-03-07T04:10:25.491762Z",
     "shell.execute_reply": "2024-03-07T04:10:25.491112Z"
    },
    "papermill": {
     "duration": 0.01697,
     "end_time": "2024-03-07T04:10:25.493142",
     "exception": false,
     "start_time": "2024-03-07T04:10:25.476172",
     "status": "completed"
    },
    "tags": []
   },
   "outputs": [
    {
     "name": "stdout",
     "output_type": "stream",
     "text": [
      "379  publications files modified in the last 7 days.\n"
     ]
    }
   ],
   "source": [
    "from datetime import datetime, timedelta, timezone\n",
    "from glob import glob\n",
    "import os\n",
    "\n",
    "files = glob('_build/html/*.md')\n",
    "days = 7\n",
    "now = datetime.today()\n",
    "res = []\n",
    "for fk in files:\n",
    "    stat_result = os.stat(fk).st_ctime\n",
    "    modified = datetime.fromtimestamp(stat_result, tz=timezone.utc).replace(tzinfo=None)\n",
    "    delta = now.today() - modified\n",
    "    if delta <= timedelta(days=days):\n",
    "        res.append((delta.seconds, fk))\n",
    "res = [k[1] for k in reversed(sorted(res, key=lambda x:x[1]))]\n",
    "npub = len(res)\n",
    "print(len(res), f\" publications files modified in the last {days:d} days.\")\n",
    "# [ print('\\t', k) for k in res ];"
   ]
  },
  {
   "cell_type": "code",
   "execution_count": 10,
   "id": "015de740",
   "metadata": {
    "execution": {
     "iopub.execute_input": "2024-03-07T04:10:25.504800Z",
     "iopub.status.busy": "2024-03-07T04:10:25.504409Z",
     "iopub.status.idle": "2024-03-07T04:10:25.526144Z",
     "shell.execute_reply": "2024-03-07T04:10:25.525557Z"
    },
    "papermill": {
     "duration": 0.028931,
     "end_time": "2024-03-07T04:10:25.527418",
     "exception": false,
     "start_time": "2024-03-07T04:10:25.498487",
     "status": "completed"
    },
    "tags": []
   },
   "outputs": [
    {
     "name": "stdout",
     "output_type": "stream",
     "text": [
      "2  publications in the last 7 days.\n"
     ]
    }
   ],
   "source": [
    "import datetime\n",
    "from glob import glob\n",
    "\n",
    "def get_last_n_days(lst, days=1):\n",
    "    \"\"\" Get the documents from the last n days \"\"\"\n",
    "    sorted_lst = sorted(lst, key=lambda x: x[1], reverse=True)\n",
    "    for fname, date in sorted_lst:\n",
    "        if date >= str(datetime.date.today() - datetime.timedelta(days=days)):\n",
    "            yield fname\n",
    "\n",
    "def extract_appearance_dates(lst_file):\n",
    "    dates = []\n",
    "\n",
    "    def get_date(line):\n",
    "        return line\\\n",
    "            .split('Appeared on:')[-1]\\\n",
    "            .split('</mark>')[0].strip()\n",
    "\n",
    "    for fname in lst:\n",
    "        with open(fname, 'r') as f:\n",
    "            found_date = False\n",
    "            for line in f:\n",
    "                if not found_date:\n",
    "                    if \"Appeared on\" in line:\n",
    "                        found_date = True\n",
    "                        dates.append((fname, get_date(line)))\n",
    "                else:\n",
    "                    break\n",
    "    return dates\n",
    "\n",
    "from glob import glob\n",
    "lst = glob('_build/html/*md')\n",
    "days = 7\n",
    "dates = extract_appearance_dates(lst)\n",
    "res = list(get_last_n_days(dates, days))\n",
    "npub = len(res)\n",
    "print(len(res), f\" publications in the last {days:d} days.\")"
   ]
  },
  {
   "cell_type": "code",
   "execution_count": 11,
   "id": "52ca0208",
   "metadata": {
    "execution": {
     "iopub.execute_input": "2024-03-07T04:10:25.539131Z",
     "iopub.status.busy": "2024-03-07T04:10:25.538931Z",
     "iopub.status.idle": "2024-03-07T04:10:25.543725Z",
     "shell.execute_reply": "2024-03-07T04:10:25.543167Z"
    },
    "papermill": {
     "duration": 0.012208,
     "end_time": "2024-03-07T04:10:25.545039",
     "exception": false,
     "start_time": "2024-03-07T04:10:25.532831",
     "status": "completed"
    },
    "scrolled": false,
    "tags": []
   },
   "outputs": [],
   "source": [
    "def create_carousel(npub=4):\n",
    "    \"\"\" Generate the HTML code for a carousel with `npub` slides \"\"\"\n",
    "    carousel = [\"\"\"  <div class=\"carousel\" \"\"\",\n",
    "                \"\"\"       data-flickity='{ \"autoPlay\": 10000, \"adaptiveHeight\": true, \"resize\": true, \"wrapAround\": true, \"pauseAutoPlayOnHover\": true, \"groupCells\": 1 }' id=\"asyncTypeset\">\"\"\"\n",
    "                ]\n",
    "    \n",
    "    item_str = \"\"\"    <div class=\"carousel-cell\"> <div id=\"slide{k}\" class=\"md_view\">Content {k}</div> </div>\"\"\"\n",
    "    for k in range(1, npub + 1):\n",
    "        carousel.append(item_str.format(k=k))\n",
    "    carousel.append(\"  </div>\")\n",
    "    return '\\n'.join(carousel)\n",
    "\n",
    "def create_grid(npub=4):\n",
    "    \"\"\" Generate the HTML code for a flat grid with `npub` slides \"\"\"\n",
    "    grid = [\"\"\"  <div class=\"grid\"> \"\"\",\n",
    "                ]\n",
    "    \n",
    "    item_str = \"\"\"    <div class=\"grid-item\"> <div id=\"slide{k}\" class=\"md_view\">Content {k}</div> </div>\"\"\"\n",
    "    for k in range(1, npub + 1):\n",
    "        grid.append(item_str.format(k=k))\n",
    "    grid.append(\"  </div>\")\n",
    "    return '\\n'.join(grid)"
   ]
  },
  {
   "cell_type": "code",
   "execution_count": 12,
   "id": "a6eac5b6",
   "metadata": {
    "execution": {
     "iopub.execute_input": "2024-03-07T04:10:25.556880Z",
     "iopub.status.busy": "2024-03-07T04:10:25.556531Z",
     "iopub.status.idle": "2024-03-07T04:10:25.561549Z",
     "shell.execute_reply": "2024-03-07T04:10:25.560907Z"
    },
    "papermill": {
     "duration": 0.012409,
     "end_time": "2024-03-07T04:10:25.562955",
     "exception": false,
     "start_time": "2024-03-07T04:10:25.550546",
     "status": "completed"
    },
    "scrolled": false,
    "tags": []
   },
   "outputs": [],
   "source": [
    "carousel = create_carousel(npub)\n",
    "docs = ', '.join(['\"{0:s}\"'.format(k.split('/')[-1]) for k in res])\n",
    "slides = ', '.join([f'\"slide{k}\"' for k in range(1, npub + 1)])\n",
    "\n",
    "with open(\"daily_template.html\", \"r\") as tpl:\n",
    "    page = tpl.read()\n",
    "    page = page.replace(\"{%-- carousel:s --%}\", carousel)\\\n",
    "               .replace(\"{%-- suptitle:s --%}\",  \"7-day archives\" )\\\n",
    "               .replace(\"{%-- docs:s --%}\", docs)\\\n",
    "               .replace(\"{%-- slides:s --%}\", slides)\n",
    "    \n",
    "with open(\"_build/html/index_7days.html\", 'w') as fout:\n",
    "    fout.write(page)"
   ]
  },
  {
   "cell_type": "code",
   "execution_count": 13,
   "id": "adc1a1ec",
   "metadata": {
    "execution": {
     "iopub.execute_input": "2024-03-07T04:10:25.575540Z",
     "iopub.status.busy": "2024-03-07T04:10:25.575116Z",
     "iopub.status.idle": "2024-03-07T04:10:25.582119Z",
     "shell.execute_reply": "2024-03-07T04:10:25.581459Z"
    },
    "papermill": {
     "duration": 0.014854,
     "end_time": "2024-03-07T04:10:25.583393",
     "exception": false,
     "start_time": "2024-03-07T04:10:25.568539",
     "status": "completed"
    },
    "tags": []
   },
   "outputs": [
    {
     "name": "stdout",
     "output_type": "stream",
     "text": [
      "2  publications in the last day.\n"
     ]
    }
   ],
   "source": [
    "# redo for today\n",
    "days = 1\n",
    "res = list(get_last_n_days(dates, days))\n",
    "npub = len(res)\n",
    "print(len(res), f\" publications in the last day.\")\n",
    "\n",
    "carousel = create_carousel(npub)\n",
    "docs = ', '.join(['\"{0:s}\"'.format(k.split('/')[-1]) for k in res])\n",
    "slides = ', '.join([f'\"slide{k}\"' for k in range(1, npub + 1)])\n",
    "\n",
    "with open(\"daily_template.html\", \"r\") as tpl:\n",
    "    page = tpl.read()\n",
    "    page = page.replace(\"{%-- carousel:s --%}\", carousel)\\\n",
    "               .replace(\"{%-- suptitle:s --%}\",  \"Daily\" )\\\n",
    "               .replace(\"{%-- docs:s --%}\", docs)\\\n",
    "               .replace(\"{%-- slides:s --%}\", slides)\n",
    "    \n",
    "# print(carousel, docs, slides)\n",
    "# print(page)\n",
    "with open(\"_build/html/index_daily.html\", 'w') as fout:\n",
    "    fout.write(page)"
   ]
  },
  {
   "cell_type": "code",
   "execution_count": 14,
   "id": "00eece82",
   "metadata": {
    "execution": {
     "iopub.execute_input": "2024-03-07T04:10:25.595607Z",
     "iopub.status.busy": "2024-03-07T04:10:25.595118Z",
     "iopub.status.idle": "2024-03-07T04:10:25.601487Z",
     "shell.execute_reply": "2024-03-07T04:10:25.600876Z"
    },
    "papermill": {
     "duration": 0.013895,
     "end_time": "2024-03-07T04:10:25.602850",
     "exception": false,
     "start_time": "2024-03-07T04:10:25.588955",
     "status": "completed"
    },
    "scrolled": false,
    "tags": []
   },
   "outputs": [
    {
     "name": "stdout",
     "output_type": "stream",
     "text": [
      "6  6 publications selected.\n"
     ]
    }
   ],
   "source": [
    "# Create the flat grid of the last N papers (fixed number regardless of dates)\n",
    "from itertools import islice \n",
    "\n",
    "npub = 6\n",
    "res = [k[0] for k in (islice(reversed(sorted(dates, key=lambda x: x[1])), 6))]\n",
    "print(len(res), f\" {npub} publications selected.\")\n",
    "\n",
    "grid = create_grid(npub)\n",
    "docs = ', '.join(['\"{0:s}\"'.format(k.split('/')[-1]) for k in res])\n",
    "slides = ', '.join([f'\"slide{k}\"' for k in range(1, npub + 1)])\n",
    "\n",
    "with open(\"grid_template.html\", \"r\") as tpl:\n",
    "    page = tpl.read()\n",
    "    page = page.replace(\"{%-- grid-content:s --%}\", grid)\\\n",
    "               .replace(\"{%-- suptitle:s --%}\",  f\"Last {npub:,d} papers\" )\\\n",
    "               .replace(\"{%-- docs:s --%}\", docs)\\\n",
    "               .replace(\"{%-- slides:s --%}\", slides)\n",
    "    \n",
    "# print(grid, docs, slides)\n",
    "# print(page)\n",
    "with open(\"_build/html/index_npub_grid.html\", 'w') as fout:\n",
    "    fout.write(page)"
   ]
  }
 ],
 "metadata": {
  "kernelspec": {
   "display_name": "Python 3 (ipykernel)",
   "language": "python",
   "name": "python3"
  },
  "language_info": {
   "codemirror_mode": {
    "name": "ipython",
    "version": 3
   },
   "file_extension": ".py",
   "mimetype": "text/x-python",
   "name": "python",
   "nbconvert_exporter": "python",
   "pygments_lexer": "ipython3",
   "version": "3.9.18"
  },
  "papermill": {
   "default_parameters": {},
   "duration": 117.21713,
   "end_time": "2024-03-07T04:10:25.824654",
   "environment_variables": {},
   "exception": null,
   "input_path": "MPIA daily digest.ipynb",
   "output_path": "log.ipynb",
   "parameters": {},
   "start_time": "2024-03-07T04:08:28.607524",
   "version": "2.5.0"
  },
  "vscode": {
   "interpreter": {
    "hash": "aee8b7b246df8f9039afb4144a1f6fd8d2ca17a180786b69acc140d282b71a49"
   }
  },
  "widgets": {
   "application/vnd.jupyter.widget-state+json": {
    "state": {
     "14836cf574194ae8a4aa61700a851911": {
      "model_module": "@jupyter-widgets/controls",
      "model_module_version": "2.0.0",
      "model_name": "HTMLModel",
      "state": {
       "_dom_classes": [],
       "_model_module": "@jupyter-widgets/controls",
       "_model_module_version": "2.0.0",
       "_model_name": "HTMLModel",
       "_view_count": null,
       "_view_module": "@jupyter-widgets/controls",
       "_view_module_version": "2.0.0",
       "_view_name": "HTMLView",
       "description": "",
       "description_allow_html": false,
       "layout": "IPY_MODEL_be9120feebd94da9b8b175098a38f76e",
       "placeholder": "​",
       "style": "IPY_MODEL_a2d3892db08e481ba02aef8a8b7a52b9",
       "tabbable": null,
       "tooltip": null,
       "value": " 6/6 [01:37&lt;00:00, 11.91s/it]"
      }
     },
     "33388d595be74e9a9a322d9113f84e6e": {
      "model_module": "@jupyter-widgets/base",
      "model_module_version": "2.0.0",
      "model_name": "LayoutModel",
      "state": {
       "_model_module": "@jupyter-widgets/base",
       "_model_module_version": "2.0.0",
       "_model_name": "LayoutModel",
       "_view_count": null,
       "_view_module": "@jupyter-widgets/base",
       "_view_module_version": "2.0.0",
       "_view_name": "LayoutView",
       "align_content": null,
       "align_items": null,
       "align_self": null,
       "border_bottom": null,
       "border_left": null,
       "border_right": null,
       "border_top": null,
       "bottom": null,
       "display": null,
       "flex": null,
       "flex_flow": null,
       "grid_area": null,
       "grid_auto_columns": null,
       "grid_auto_flow": null,
       "grid_auto_rows": null,
       "grid_column": null,
       "grid_gap": null,
       "grid_row": null,
       "grid_template_areas": null,
       "grid_template_columns": null,
       "grid_template_rows": null,
       "height": null,
       "justify_content": null,
       "justify_items": null,
       "left": null,
       "margin": null,
       "max_height": null,
       "max_width": null,
       "min_height": null,
       "min_width": null,
       "object_fit": null,
       "object_position": null,
       "order": null,
       "overflow": null,
       "padding": null,
       "right": null,
       "top": null,
       "visibility": null,
       "width": null
      }
     },
     "4b9080a017264b48876064a7275ff301": {
      "model_module": "@jupyter-widgets/controls",
      "model_module_version": "2.0.0",
      "model_name": "FloatProgressModel",
      "state": {
       "_dom_classes": [],
       "_model_module": "@jupyter-widgets/controls",
       "_model_module_version": "2.0.0",
       "_model_name": "FloatProgressModel",
       "_view_count": null,
       "_view_module": "@jupyter-widgets/controls",
       "_view_module_version": "2.0.0",
       "_view_name": "ProgressView",
       "bar_style": "success",
       "description": "",
       "description_allow_html": false,
       "layout": "IPY_MODEL_33388d595be74e9a9a322d9113f84e6e",
       "max": 6.0,
       "min": 0.0,
       "orientation": "horizontal",
       "style": "IPY_MODEL_a69b304f78084a40bfd9e183445aba50",
       "tabbable": null,
       "tooltip": null,
       "value": 6.0
      }
     },
     "5a5600029a3a4bd99e343b5e4d00c851": {
      "model_module": "@jupyter-widgets/controls",
      "model_module_version": "2.0.0",
      "model_name": "HTMLStyleModel",
      "state": {
       "_model_module": "@jupyter-widgets/controls",
       "_model_module_version": "2.0.0",
       "_model_name": "HTMLStyleModel",
       "_view_count": null,
       "_view_module": "@jupyter-widgets/base",
       "_view_module_version": "2.0.0",
       "_view_name": "StyleView",
       "background": null,
       "description_width": "",
       "font_size": null,
       "text_color": null
      }
     },
     "a2d3892db08e481ba02aef8a8b7a52b9": {
      "model_module": "@jupyter-widgets/controls",
      "model_module_version": "2.0.0",
      "model_name": "HTMLStyleModel",
      "state": {
       "_model_module": "@jupyter-widgets/controls",
       "_model_module_version": "2.0.0",
       "_model_name": "HTMLStyleModel",
       "_view_count": null,
       "_view_module": "@jupyter-widgets/base",
       "_view_module_version": "2.0.0",
       "_view_name": "StyleView",
       "background": null,
       "description_width": "",
       "font_size": null,
       "text_color": null
      }
     },
     "a67e6638c3864fadb65d956dc80e2cff": {
      "model_module": "@jupyter-widgets/controls",
      "model_module_version": "2.0.0",
      "model_name": "HBoxModel",
      "state": {
       "_dom_classes": [],
       "_model_module": "@jupyter-widgets/controls",
       "_model_module_version": "2.0.0",
       "_model_name": "HBoxModel",
       "_view_count": null,
       "_view_module": "@jupyter-widgets/controls",
       "_view_module_version": "2.0.0",
       "_view_name": "HBoxView",
       "box_style": "",
       "children": [
        "IPY_MODEL_d2942f83a67b43428afcd6c8f8342796",
        "IPY_MODEL_4b9080a017264b48876064a7275ff301",
        "IPY_MODEL_14836cf574194ae8a4aa61700a851911"
       ],
       "layout": "IPY_MODEL_bc8bd5b10874447f80f72f002017ad2c",
       "tabbable": null,
       "tooltip": null
      }
     },
     "a69b304f78084a40bfd9e183445aba50": {
      "model_module": "@jupyter-widgets/controls",
      "model_module_version": "2.0.0",
      "model_name": "ProgressStyleModel",
      "state": {
       "_model_module": "@jupyter-widgets/controls",
       "_model_module_version": "2.0.0",
       "_model_name": "ProgressStyleModel",
       "_view_count": null,
       "_view_module": "@jupyter-widgets/base",
       "_view_module_version": "2.0.0",
       "_view_name": "StyleView",
       "bar_color": null,
       "description_width": ""
      }
     },
     "bc8bd5b10874447f80f72f002017ad2c": {
      "model_module": "@jupyter-widgets/base",
      "model_module_version": "2.0.0",
      "model_name": "LayoutModel",
      "state": {
       "_model_module": "@jupyter-widgets/base",
       "_model_module_version": "2.0.0",
       "_model_name": "LayoutModel",
       "_view_count": null,
       "_view_module": "@jupyter-widgets/base",
       "_view_module_version": "2.0.0",
       "_view_name": "LayoutView",
       "align_content": null,
       "align_items": null,
       "align_self": null,
       "border_bottom": null,
       "border_left": null,
       "border_right": null,
       "border_top": null,
       "bottom": null,
       "display": null,
       "flex": null,
       "flex_flow": null,
       "grid_area": null,
       "grid_auto_columns": null,
       "grid_auto_flow": null,
       "grid_auto_rows": null,
       "grid_column": null,
       "grid_gap": null,
       "grid_row": null,
       "grid_template_areas": null,
       "grid_template_columns": null,
       "grid_template_rows": null,
       "height": null,
       "justify_content": null,
       "justify_items": null,
       "left": null,
       "margin": null,
       "max_height": null,
       "max_width": null,
       "min_height": null,
       "min_width": null,
       "object_fit": null,
       "object_position": null,
       "order": null,
       "overflow": null,
       "padding": null,
       "right": null,
       "top": null,
       "visibility": null,
       "width": null
      }
     },
     "be9120feebd94da9b8b175098a38f76e": {
      "model_module": "@jupyter-widgets/base",
      "model_module_version": "2.0.0",
      "model_name": "LayoutModel",
      "state": {
       "_model_module": "@jupyter-widgets/base",
       "_model_module_version": "2.0.0",
       "_model_name": "LayoutModel",
       "_view_count": null,
       "_view_module": "@jupyter-widgets/base",
       "_view_module_version": "2.0.0",
       "_view_name": "LayoutView",
       "align_content": null,
       "align_items": null,
       "align_self": null,
       "border_bottom": null,
       "border_left": null,
       "border_right": null,
       "border_top": null,
       "bottom": null,
       "display": null,
       "flex": null,
       "flex_flow": null,
       "grid_area": null,
       "grid_auto_columns": null,
       "grid_auto_flow": null,
       "grid_auto_rows": null,
       "grid_column": null,
       "grid_gap": null,
       "grid_row": null,
       "grid_template_areas": null,
       "grid_template_columns": null,
       "grid_template_rows": null,
       "height": null,
       "justify_content": null,
       "justify_items": null,
       "left": null,
       "margin": null,
       "max_height": null,
       "max_width": null,
       "min_height": null,
       "min_width": null,
       "object_fit": null,
       "object_position": null,
       "order": null,
       "overflow": null,
       "padding": null,
       "right": null,
       "top": null,
       "visibility": null,
       "width": null
      }
     },
     "ca273ba755044ec5bd051d681ef08356": {
      "model_module": "@jupyter-widgets/base",
      "model_module_version": "2.0.0",
      "model_name": "LayoutModel",
      "state": {
       "_model_module": "@jupyter-widgets/base",
       "_model_module_version": "2.0.0",
       "_model_name": "LayoutModel",
       "_view_count": null,
       "_view_module": "@jupyter-widgets/base",
       "_view_module_version": "2.0.0",
       "_view_name": "LayoutView",
       "align_content": null,
       "align_items": null,
       "align_self": null,
       "border_bottom": null,
       "border_left": null,
       "border_right": null,
       "border_top": null,
       "bottom": null,
       "display": null,
       "flex": null,
       "flex_flow": null,
       "grid_area": null,
       "grid_auto_columns": null,
       "grid_auto_flow": null,
       "grid_auto_rows": null,
       "grid_column": null,
       "grid_gap": null,
       "grid_row": null,
       "grid_template_areas": null,
       "grid_template_columns": null,
       "grid_template_rows": null,
       "height": null,
       "justify_content": null,
       "justify_items": null,
       "left": null,
       "margin": null,
       "max_height": null,
       "max_width": null,
       "min_height": null,
       "min_width": null,
       "object_fit": null,
       "object_position": null,
       "order": null,
       "overflow": null,
       "padding": null,
       "right": null,
       "top": null,
       "visibility": null,
       "width": null
      }
     },
     "d2942f83a67b43428afcd6c8f8342796": {
      "model_module": "@jupyter-widgets/controls",
      "model_module_version": "2.0.0",
      "model_name": "HTMLModel",
      "state": {
       "_dom_classes": [],
       "_model_module": "@jupyter-widgets/controls",
       "_model_module_version": "2.0.0",
       "_model_name": "HTMLModel",
       "_view_count": null,
       "_view_module": "@jupyter-widgets/controls",
       "_view_module_version": "2.0.0",
       "_view_name": "HTMLView",
       "description": "",
       "description_allow_html": false,
       "layout": "IPY_MODEL_ca273ba755044ec5bd051d681ef08356",
       "placeholder": "​",
       "style": "IPY_MODEL_5a5600029a3a4bd99e343b5e4d00c851",
       "tabbable": null,
       "tooltip": null,
       "value": "100%"
      }
     }
    },
    "version_major": 2,
    "version_minor": 0
   }
  }
 },
 "nbformat": 4,
 "nbformat_minor": 5
}