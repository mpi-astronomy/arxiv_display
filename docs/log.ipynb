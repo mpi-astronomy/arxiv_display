{
 "cells": [
  {
   "cell_type": "markdown",
   "id": "92bcb855",
   "metadata": {
    "papermill": {
     "duration": 0.006437,
     "end_time": "2023-01-11T04:05:24.993358",
     "exception": false,
     "start_time": "2023-01-11T04:05:24.986921",
     "status": "completed"
    },
    "tags": []
   },
   "source": [
    "# MPIA Arxiv on Deck 2\n",
    "\n",
    "Contains the steps to produce the paper extractions."
   ]
  },
  {
   "cell_type": "code",
   "execution_count": 1,
   "id": "3a0d6e11",
   "metadata": {
    "execution": {
     "iopub.execute_input": "2023-01-11T04:05:25.005849Z",
     "iopub.status.busy": "2023-01-11T04:05:25.005122Z",
     "iopub.status.idle": "2023-01-11T04:05:25.238472Z",
     "shell.execute_reply": "2023-01-11T04:05:25.236633Z"
    },
    "papermill": {
     "duration": 0.247903,
     "end_time": "2023-01-11T04:05:25.246890",
     "exception": false,
     "start_time": "2023-01-11T04:05:24.998987",
     "status": "completed"
    },
    "tags": []
   },
   "outputs": [],
   "source": [
    "# Imports\n",
    "import os\n",
    "from IPython.display import Markdown, display\n",
    "from tqdm.notebook import tqdm\n",
    "import warnings\n",
    "from PIL import Image \n",
    "\n",
    "# requires arxiv_on_deck_2\n",
    "\n",
    "from arxiv_on_deck_2.arxiv2 import (get_new_papers, \n",
    "                                    get_paper_from_identifier,\n",
    "                                    retrieve_document_source, \n",
    "                                    get_markdown_badge)\n",
    "from arxiv_on_deck_2 import (latex, \n",
    "                             mpia,\n",
    "                             highlight_authors_in_list)\n",
    "\n",
    "# Sometimes images are really big\n",
    "Image.MAX_IMAGE_PIXELS = 1000000000 "
   ]
  },
  {
   "cell_type": "code",
   "execution_count": 2,
   "id": "22aa9d44",
   "metadata": {
    "execution": {
     "iopub.execute_input": "2023-01-11T04:05:25.279955Z",
     "iopub.status.busy": "2023-01-11T04:05:25.278919Z",
     "iopub.status.idle": "2023-01-11T04:05:25.284912Z",
     "shell.execute_reply": "2023-01-11T04:05:25.284307Z"
    },
    "papermill": {
     "duration": 0.026157,
     "end_time": "2023-01-11T04:05:25.293653",
     "exception": false,
     "start_time": "2023-01-11T04:05:25.267496",
     "status": "completed"
    },
    "tags": []
   },
   "outputs": [],
   "source": [
    "# Some useful definitions.\n",
    "\n",
    "class AffiliationWarning(UserWarning):\n",
    "    pass\n",
    "\n",
    "class AffiliationError(RuntimeError):\n",
    "    pass\n",
    "\n",
    "def validation(source: str):\n",
    "    \"\"\"Raises error paper during parsing of source file\n",
    "    \n",
    "    Allows checks before parsing TeX code.\n",
    "    \n",
    "    Raises AffiliationWarning\n",
    "    \"\"\"\n",
    "    check = mpia.affiliation_verifications(source, verbose=True)\n",
    "    if check is not True:\n",
    "        raise AffiliationError(\"mpia.affiliation_verifications: \" + check)\n",
    "\n",
    "        \n",
    "warnings.simplefilter('always', AffiliationWarning)"
   ]
  },
  {
   "cell_type": "code",
   "execution_count": 3,
   "id": "14622700",
   "metadata": {
    "execution": {
     "iopub.execute_input": "2023-01-11T04:05:25.310326Z",
     "iopub.status.busy": "2023-01-11T04:05:25.309550Z",
     "iopub.status.idle": "2023-01-11T04:05:25.314969Z",
     "shell.execute_reply": "2023-01-11T04:05:25.314135Z"
    },
    "papermill": {
     "duration": 0.014051,
     "end_time": "2023-01-11T04:05:25.316923",
     "exception": false,
     "start_time": "2023-01-11T04:05:25.302872",
     "status": "completed"
    },
    "tags": []
   },
   "outputs": [],
   "source": [
    "# additional CSS to consider. \n",
    "# TODO: Current into each exported file. \n",
    "#       This should be set once into the webpages directly.\n",
    "#       With only the class/id definitions in the .md files.\n",
    "\n",
    "debug_html = \"\"\"\n",
    "<style>\n",
    "#wrap{ overflow:auto; }\n",
    "#fig1{ background:yellow; width:100%; float:left; padding:5px;  }\n",
    "#fig2{ background:red; width:50%; float:left; clear:left; padding:5px;  }\n",
    "#fig3{ background:green; width:50%; float:left; padding:5px;   }\n",
    ".macros{ background:yellow; visibility:visible;}\n",
    "h1 {margin: 0 0 0 0;}\n",
    "mark {background-color:#fff3b6;}\n",
    "img {object-fit:contain; max-height:250px; display:inline-block; text-align: center;}\n",
    "</style>\n",
    "\"\"\" \n",
    "html = \"\"\"\n",
    "<style>\n",
    "#wrap{ overflow:auto; }\n",
    "#fig1{ width:100%; float:left; padding: 5px;  }\n",
    "#fig2{ width:50%; float:left; clear:left; padding: 5px;  }\n",
    "#fig3{ width:50%; float:left; padding: 5px;  }\n",
    ".macros{ visibility:hidden; height:0px; }\n",
    "h1 {margin: 0em 0 0 0;}\n",
    "mark {background-color:#fff3b6;}\n",
    "img {object-fit:contain; max-height:250px; display:inline-block; text-align: center;}\n",
    "</style>\n",
    "\"\"\""
   ]
  },
  {
   "cell_type": "markdown",
   "id": "14bd6310",
   "metadata": {
    "papermill": {
     "duration": 0.004868,
     "end_time": "2023-01-11T04:05:25.326787",
     "exception": false,
     "start_time": "2023-01-11T04:05:25.321919",
     "status": "completed"
    },
    "tags": []
   },
   "source": [
    "## get list of arxiv paper candidates\n",
    "\n",
    "We use the MPIA mitarbeiter list webpage from mpia.de to get author names\n",
    "We then get all new papers from Arxiv and match authors"
   ]
  },
  {
   "cell_type": "code",
   "execution_count": 4,
   "id": "2645e73a",
   "metadata": {
    "execution": {
     "iopub.execute_input": "2023-01-11T04:05:25.338980Z",
     "iopub.status.busy": "2023-01-11T04:05:25.338141Z",
     "iopub.status.idle": "2023-01-11T04:05:55.807669Z",
     "shell.execute_reply": "2023-01-11T04:05:55.806909Z"
    },
    "papermill": {
     "duration": 30.481714,
     "end_time": "2023-01-11T04:05:55.813268",
     "exception": false,
     "start_time": "2023-01-11T04:05:25.331554",
     "status": "completed"
    },
    "tags": []
   },
   "outputs": [
    {
     "name": "stdout",
     "output_type": "stream",
     "text": [
      "Arxiv has 71 new papers today\n",
      "          29 with possible author matches\n"
     ]
    }
   ],
   "source": [
    "# get list from MPIA website\n",
    "# it automatically filters identified non-scientists :func:`mpia.filter_non_scientists`\n",
    "mpia_authors = mpia.get_mpia_mitarbeiter_list()\n",
    "new_papers = get_new_papers()\n",
    "# add manual references\n",
    "add_paper_refs = []\n",
    "new_papers.extend([get_paper_from_identifier(k) for k in add_paper_refs])\n",
    "\n",
    "# select only papers with matching author names and highlight authors\n",
    "hl_list = [k[0] for k in mpia_authors]\n",
    "\n",
    "candidates = []\n",
    "for paperk in new_papers:\n",
    "    hl_authors = highlight_authors_in_list(paperk['authors'], hl_list)\n",
    "    matches = [(hl, orig) for hl, orig in zip(hl_authors, paperk['authors']) if 'mark' in hl]\n",
    "    paperk['authors'] = hl_authors\n",
    "    if matches:\n",
    "        candidates.append(paperk)\n",
    "print(\"\"\"Arxiv has {0:,d} new papers today\"\"\".format(len(new_papers)))        \n",
    "print(\"\"\"          {0:,d} with possible author matches\"\"\".format(len(candidates)))"
   ]
  },
  {
   "cell_type": "markdown",
   "id": "3543b34a",
   "metadata": {
    "papermill": {
     "duration": 0.004788,
     "end_time": "2023-01-11T04:05:55.823088",
     "exception": false,
     "start_time": "2023-01-11T04:05:55.818300",
     "status": "completed"
    },
    "tags": []
   },
   "source": [
    "# Parse sources and generate relevant outputs\n",
    "\n",
    "From the candidates, we do the following steps:\n",
    "* get their tarball from ArXiv (and extract data)\n",
    "* find the main .tex file: find one with \\documentclass{...} (sometimes it's non trivial)\n",
    "* Check affiliations with :func:`validation`, which uses :func:`mpia.affiliation_verifications`\n",
    "* If passing the affiliations: we parse the .tex source\n",
    "   * inject sub-documents into the main (flatten the main document)\n",
    "   * parse structure, extract information (title, abstract, authors, figures...)\n",
    "   * handles `\\graphicspath` if provided\n",
    "* Generate the .md document."
   ]
  },
  {
   "cell_type": "code",
   "execution_count": 5,
   "id": "9576b79e",
   "metadata": {
    "execution": {
     "iopub.execute_input": "2023-01-11T04:05:55.834776Z",
     "iopub.status.busy": "2023-01-11T04:05:55.834133Z",
     "iopub.status.idle": "2023-01-11T04:09:53.172181Z",
     "shell.execute_reply": "2023-01-11T04:09:53.171083Z"
    },
    "papermill": {
     "duration": 237.346911,
     "end_time": "2023-01-11T04:09:53.174861",
     "exception": false,
     "start_time": "2023-01-11T04:05:55.827950",
     "status": "completed"
    },
    "scrolled": false,
    "tags": []
   },
   "outputs": [
    {
     "data": {
      "application/vnd.jupyter.widget-view+json": {
       "model_id": "3d7cf50fc5e14892b8722f874166558a",
       "version_major": 2,
       "version_minor": 0
      },
      "text/plain": [
       "  0%|          | 0/28 [00:00<?, ?it/s]"
      ]
     },
     "metadata": {},
     "output_type": "display_data"
    },
    {
     "name": "stdout",
     "output_type": "stream",
     "text": [
      "Retrieving document from  https://arxiv.org/e-print/2301.03608\n"
     ]
    },
    {
     "name": "stdout",
     "output_type": "stream",
     "text": [
      "extracting tarball to tmp_2301.03608..."
     ]
    },
    {
     "name": "stdout",
     "output_type": "stream",
     "text": [
      " done.\n",
      "Retrieving document from  https://arxiv.org/e-print/2301.03609\n"
     ]
    },
    {
     "name": "stderr",
     "output_type": "stream",
     "text": [
      "/opt/hostedtoolcache/Python/3.9.16/x64/lib/python3.9/site-packages/IPython/core/interactiveshell.py:3442: LatexWarning: Multiple tex files.\n",
      "\n",
      "  exec(code_obj, self.user_global_ns, self.user_ns)\n",
      "/opt/hostedtoolcache/Python/3.9.16/x64/lib/python3.9/site-packages/IPython/core/interactiveshell.py:3442: LatexWarning: Found documentclass in tmp_2301.03608/rnaas.tex\n",
      "\n",
      "  exec(code_obj, self.user_global_ns, self.user_ns)\n"
     ]
    },
    {
     "name": "stdout",
     "output_type": "stream",
     "text": [
      "extracting tarball to tmp_2301.03609..."
     ]
    },
    {
     "name": "stdout",
     "output_type": "stream",
     "text": [
      " done.\n",
      "Retrieving document from  https://arxiv.org/e-print/2301.03613\n"
     ]
    },
    {
     "name": "stderr",
     "output_type": "stream",
     "text": [
      "/opt/hostedtoolcache/Python/3.9.16/x64/lib/python3.9/site-packages/IPython/core/interactiveshell.py:3442: LatexWarning: Multiple tex files.\n",
      "\n",
      "  exec(code_obj, self.user_global_ns, self.user_ns)\n",
      "/opt/hostedtoolcache/Python/3.9.16/x64/lib/python3.9/site-packages/IPython/core/interactiveshell.py:3442: LatexWarning: Found documentclass in tmp_2301.03609/ms.tex\n",
      "\n",
      "  exec(code_obj, self.user_global_ns, self.user_ns)\n",
      "/opt/hostedtoolcache/Python/3.9.16/x64/lib/python3.9/site-packages/arxiv_on_deck_2/latex.py:292: LatexWarning: Latex injecting: 'mycommands.tex' from 'tmp_2301.03609/mycommands.tex'\n",
      "  warnings.warn(LatexWarning(f\"Latex injecting: '{ext}' from '{subsource}'\"))\n"
     ]
    },
    {
     "name": "stdout",
     "output_type": "stream",
     "text": [
      "extracting tarball to tmp_2301.03613..."
     ]
    },
    {
     "name": "stdout",
     "output_type": "stream",
     "text": [
      " done.\n",
      "Retrieving document from  https://arxiv.org/e-print/2301.03614\n"
     ]
    },
    {
     "name": "stderr",
     "output_type": "stream",
     "text": [
      "/opt/hostedtoolcache/Python/3.9.16/x64/lib/python3.9/site-packages/IPython/core/interactiveshell.py:3442: LatexWarning: Multiple tex files.\n",
      "\n",
      "  exec(code_obj, self.user_global_ns, self.user_ns)\n",
      "/opt/hostedtoolcache/Python/3.9.16/x64/lib/python3.9/site-packages/IPython/core/interactiveshell.py:3442: LatexWarning: Found documentclass in tmp_2301.03613/natbib.tex\n",
      "\n",
      "  exec(code_obj, self.user_global_ns, self.user_ns)\n"
     ]
    },
    {
     "name": "stdout",
     "output_type": "stream",
     "text": [
      "extracting tarball to tmp_2301.03614..."
     ]
    },
    {
     "name": "stdout",
     "output_type": "stream",
     "text": [
      " done.\n",
      "Retrieving document from  https://arxiv.org/e-print/2301.03617\n"
     ]
    },
    {
     "name": "stdout",
     "output_type": "stream",
     "text": [
      "extracting tarball to tmp_2301.03617..."
     ]
    },
    {
     "name": "stdout",
     "output_type": "stream",
     "text": [
      " done.\n",
      "Retrieving document from  https://arxiv.org/e-print/2301.03626\n"
     ]
    },
    {
     "name": "stderr",
     "output_type": "stream",
     "text": [
      "/opt/hostedtoolcache/Python/3.9.16/x64/lib/python3.9/site-packages/IPython/core/interactiveshell.py:3442: LatexWarning: Multiple tex files.\n",
      "\n",
      "  exec(code_obj, self.user_global_ns, self.user_ns)\n",
      "/opt/hostedtoolcache/Python/3.9.16/x64/lib/python3.9/site-packages/IPython/core/interactiveshell.py:3442: LatexWarning: Found documentclass in tmp_2301.03617/main.tex\n",
      "\n",
      "  exec(code_obj, self.user_global_ns, self.user_ns)\n",
      "/opt/hostedtoolcache/Python/3.9.16/x64/lib/python3.9/site-packages/arxiv_on_deck_2/latex.py:292: LatexWarning: Latex injecting: 'planet-params' from 'tmp_2301.03617/planet-params.tex'\n",
      "  warnings.warn(LatexWarning(f\"Latex injecting: '{ext}' from '{subsource}'\"))\n",
      "/opt/hostedtoolcache/Python/3.9.16/x64/lib/python3.9/site-packages/arxiv_on_deck_2/latex.py:292: LatexWarning: Latex injecting: 'updated-exofast-table' from 'tmp_2301.03617/updated-exofast-table.tex'\n",
      "  warnings.warn(LatexWarning(f\"Latex injecting: '{ext}' from '{subsource}'\"))\n"
     ]
    },
    {
     "name": "stdout",
     "output_type": "stream",
     "text": [
      "extracting tarball to tmp_2301.03626..."
     ]
    },
    {
     "name": "stdout",
     "output_type": "stream",
     "text": [
      " done.\n",
      "Retrieving document from  https://arxiv.org/e-print/2301.03629\n"
     ]
    },
    {
     "name": "stdout",
     "output_type": "stream",
     "text": [
      "extracting tarball to tmp_2301.03629..."
     ]
    },
    {
     "name": "stdout",
     "output_type": "stream",
     "text": [
      " done.\n",
      "Retrieving document from  https://arxiv.org/e-print/2301.03639\n"
     ]
    },
    {
     "name": "stdout",
     "output_type": "stream",
     "text": [
      "extracting tarball to tmp_2301.03639..."
     ]
    },
    {
     "name": "stdout",
     "output_type": "stream",
     "text": [
      " done.\n",
      "Retrieving document from  https://arxiv.org/e-print/2301.03647\n"
     ]
    },
    {
     "name": "stdout",
     "output_type": "stream",
     "text": [
      "extracting tarball to tmp_2301.03647..."
     ]
    },
    {
     "name": "stdout",
     "output_type": "stream",
     "text": [
      " done.\n",
      "Retrieving document from  https://arxiv.org/e-print/2301.03651\n"
     ]
    },
    {
     "name": "stdout",
     "output_type": "stream",
     "text": [
      "extracting tarball to tmp_2301.03651... done.\n",
      "Retrieving document from  https://arxiv.org/e-print/2301.03660\n"
     ]
    },
    {
     "name": "stdout",
     "output_type": "stream",
     "text": [
      "extracting tarball to tmp_2301.03660..."
     ]
    },
    {
     "name": "stdout",
     "output_type": "stream",
     "text": [
      " done.\n",
      "Retrieving document from  https://arxiv.org/e-print/2301.03670\n"
     ]
    },
    {
     "name": "stdout",
     "output_type": "stream",
     "text": [
      "extracting tarball to tmp_2301.03670..."
     ]
    },
    {
     "name": "stdout",
     "output_type": "stream",
     "text": [
      " done.\n",
      "Retrieving document from  https://arxiv.org/e-print/2301.03687\n"
     ]
    },
    {
     "name": "stderr",
     "output_type": "stream",
     "text": [
      "/opt/hostedtoolcache/Python/3.9.16/x64/lib/python3.9/site-packages/IPython/core/interactiveshell.py:3442: LatexWarning: Multiple tex files.\n",
      "\n",
      "  exec(code_obj, self.user_global_ns, self.user_ns)\n",
      "/opt/hostedtoolcache/Python/3.9.16/x64/lib/python3.9/site-packages/IPython/core/interactiveshell.py:3442: LatexWarning: Found documentclass in tmp_2301.03670/mnras_guide.tex\n",
      "\n",
      "  exec(code_obj, self.user_global_ns, self.user_ns)\n"
     ]
    },
    {
     "name": "stdout",
     "output_type": "stream",
     "text": [
      "extracting tarball to tmp_2301.03687..."
     ]
    },
    {
     "name": "stdout",
     "output_type": "stream",
     "text": [
      " done.\n",
      "Retrieving document from  https://arxiv.org/e-print/2301.03689\n"
     ]
    },
    {
     "name": "stderr",
     "output_type": "stream",
     "text": [
      "/opt/hostedtoolcache/Python/3.9.16/x64/lib/python3.9/site-packages/IPython/core/interactiveshell.py:3442: LatexWarning: Multiple tex files.\n",
      "\n",
      "  exec(code_obj, self.user_global_ns, self.user_ns)\n",
      "/opt/hostedtoolcache/Python/3.9.16/x64/lib/python3.9/site-packages/IPython/core/interactiveshell.py:3442: LatexWarning: Found documentclass in tmp_2301.03687/universe-2092743-for-Arxiv-2023-01-09.tex\n",
      "\n",
      "  exec(code_obj, self.user_global_ns, self.user_ns)\n"
     ]
    },
    {
     "name": "stdout",
     "output_type": "stream",
     "text": [
      "extracting tarball to tmp_2301.03689..."
     ]
    },
    {
     "name": "stdout",
     "output_type": "stream",
     "text": [
      " done.\n"
     ]
    },
    {
     "name": "stdout",
     "output_type": "stream",
     "text": [
      "Retrieving document from  https://arxiv.org/e-print/2301.03694\n"
     ]
    },
    {
     "name": "stdout",
     "output_type": "stream",
     "text": [
      "extracting tarball to tmp_2301.03694..."
     ]
    },
    {
     "name": "stdout",
     "output_type": "stream",
     "text": [
      " done.\n",
      "Retrieving document from  https://arxiv.org/e-print/2301.03702\n"
     ]
    },
    {
     "name": "stderr",
     "output_type": "stream",
     "text": [
      "/opt/hostedtoolcache/Python/3.9.16/x64/lib/python3.9/site-packages/IPython/core/interactiveshell.py:3442: LatexWarning: Multiple tex files.\n",
      "\n",
      "  exec(code_obj, self.user_global_ns, self.user_ns)\n",
      "/opt/hostedtoolcache/Python/3.9.16/x64/lib/python3.9/site-packages/IPython/core/interactiveshell.py:3442: LatexWarning: Found documentclass in tmp_2301.03694/main.tex\n",
      "\n",
      "  exec(code_obj, self.user_global_ns, self.user_ns)\n"
     ]
    },
    {
     "name": "stdout",
     "output_type": "stream",
     "text": [
      "extracting tarball to tmp_2301.03702..."
     ]
    },
    {
     "name": "stdout",
     "output_type": "stream",
     "text": [
      " done.\n",
      "Retrieving document from  https://arxiv.org/e-print/2301.03744\n"
     ]
    },
    {
     "name": "stdout",
     "output_type": "stream",
     "text": [
      "extracting tarball to tmp_2301.03744..."
     ]
    },
    {
     "name": "stdout",
     "output_type": "stream",
     "text": [
      " done.\n",
      "Retrieving document from  https://arxiv.org/e-print/2301.03777\n"
     ]
    },
    {
     "name": "stdout",
     "output_type": "stream",
     "text": [
      "extracting tarball to tmp_2301.03777..."
     ]
    },
    {
     "name": "stdout",
     "output_type": "stream",
     "text": [
      " done.\n",
      "Retrieving document from  https://arxiv.org/e-print/2301.03811\n"
     ]
    },
    {
     "name": "stderr",
     "output_type": "stream",
     "text": [
      "/opt/hostedtoolcache/Python/3.9.16/x64/lib/python3.9/site-packages/IPython/core/interactiveshell.py:3442: LatexWarning: Multiple tex files.\n",
      "\n",
      "  exec(code_obj, self.user_global_ns, self.user_ns)\n",
      "/opt/hostedtoolcache/Python/3.9.16/x64/lib/python3.9/site-packages/IPython/core/interactiveshell.py:3442: LatexWarning: Found documentclass in tmp_2301.03777/main.tex\n",
      "\n",
      "  exec(code_obj, self.user_global_ns, self.user_ns)\n"
     ]
    },
    {
     "name": "stdout",
     "output_type": "stream",
     "text": [
      "extracting tarball to tmp_2301.03811..."
     ]
    },
    {
     "name": "stdout",
     "output_type": "stream",
     "text": [
      " done.\n"
     ]
    },
    {
     "name": "stderr",
     "output_type": "stream",
     "text": [
      "/opt/hostedtoolcache/Python/3.9.16/x64/lib/python3.9/site-packages/IPython/core/interactiveshell.py:3442: LatexWarning: Multiple tex files.\n",
      "\n",
      "  exec(code_obj, self.user_global_ns, self.user_ns)\n",
      "/opt/hostedtoolcache/Python/3.9.16/x64/lib/python3.9/site-packages/IPython/core/interactiveshell.py:3442: LatexWarning: Found documentclass in tmp_2301.03811/PHANGS_Nebula_Catalogue.tex\n",
      "\n",
      "  exec(code_obj, self.user_global_ns, self.user_ns)\n",
      "/opt/hostedtoolcache/Python/3.9.16/x64/lib/python3.9/site-packages/arxiv_on_deck_2/latex.py:292: LatexWarning: Latex injecting: 'tables/tab_metal_grads_N2S2' from 'tmp_2301.03811/tables/tab_metal_grads_N2S2.tex'\n",
      "  warnings.warn(LatexWarning(f\"Latex injecting: '{ext}' from '{subsource}'\"))\n",
      "/opt/hostedtoolcache/Python/3.9.16/x64/lib/python3.9/site-packages/arxiv_on_deck_2/latex.py:292: LatexWarning: Latex injecting: 'tables/tab_metal_grads_O3N2_M13' from 'tmp_2301.03811/tables/tab_metal_grads_O3N2_M13.tex'\n",
      "  warnings.warn(LatexWarning(f\"Latex injecting: '{ext}' from '{subsource}'\"))\n",
      "/opt/hostedtoolcache/Python/3.9.16/x64/lib/python3.9/site-packages/arxiv_on_deck_2/latex.py:292: LatexWarning: Latex injecting: 'tables/tab_1reff' from 'tmp_2301.03811/tables/tab_1reff.tex'\n",
      "  warnings.warn(LatexWarning(f\"Latex injecting: '{ext}' from '{subsource}'\"))\n",
      "/opt/hostedtoolcache/Python/3.9.16/x64/lib/python3.9/site-packages/arxiv_on_deck_2/latex.py:292: LatexWarning: Latex injecting: 'tables/tab_metal_grads_scal' from 'tmp_2301.03811/tables/tab_metal_grads_scal.tex'\n",
      "  warnings.warn(LatexWarning(f\"Latex injecting: '{ext}' from '{subsource}'\"))\n",
      "/opt/hostedtoolcache/Python/3.9.16/x64/lib/python3.9/site-packages/arxiv_on_deck_2/latex.py:292: LatexWarning: Latex injecting: 'tables/tab_environment_flags_MQ' from 'tmp_2301.03811/tables/tab_environment_flags_MQ.tex'\n",
      "  warnings.warn(LatexWarning(f\"Latex injecting: '{ext}' from '{subsource}'\"))\n",
      "/opt/hostedtoolcache/Python/3.9.16/x64/lib/python3.9/site-packages/arxiv_on_deck_2/latex.py:292: LatexWarning: Latex injecting: 'tables/tab_metal_conversions' from 'tmp_2301.03811/tables/tab_metal_conversions.tex'\n",
      "  warnings.warn(LatexWarning(f\"Latex injecting: '{ext}' from '{subsource}'\"))\n",
      "/opt/hostedtoolcache/Python/3.9.16/x64/lib/python3.9/site-packages/arxiv_on_deck_2/latex.py:292: LatexWarning: Latex injecting: 'tables/tab_metallicity_prescriptions' from 'tmp_2301.03811/tables/tab_metallicity_prescriptions.tex'\n",
      "  warnings.warn(LatexWarning(f\"Latex injecting: '{ext}' from '{subsource}'\"))\n",
      "/opt/hostedtoolcache/Python/3.9.16/x64/lib/python3.9/site-packages/arxiv_on_deck_2/latex.py:292: LatexWarning: Latex injecting: 'tables/tab_bpt_flags' from 'tmp_2301.03811/tables/tab_bpt_flags.tex'\n",
      "  warnings.warn(LatexWarning(f\"Latex injecting: '{ext}' from '{subsource}'\"))\n",
      "/opt/hostedtoolcache/Python/3.9.16/x64/lib/python3.9/site-packages/arxiv_on_deck_2/latex.py:292: LatexWarning: Latex injecting: 'tables/tab_catalog_data' from 'tmp_2301.03811/tables/tab_catalog_data.tex'\n",
      "  warnings.warn(LatexWarning(f\"Latex injecting: '{ext}' from '{subsource}'\"))\n",
      "/opt/hostedtoolcache/Python/3.9.16/x64/lib/python3.9/site-packages/arxiv_on_deck_2/latex.py:292: LatexWarning: Latex injecting: 'tables/tab_lum_size_dist' from 'tmp_2301.03811/tables/tab_lum_size_dist.tex'\n",
      "  warnings.warn(LatexWarning(f\"Latex injecting: '{ext}' from '{subsource}'\"))\n",
      "/opt/hostedtoolcache/Python/3.9.16/x64/lib/python3.9/site-packages/arxiv_on_deck_2/latex.py:292: LatexWarning: Latex injecting: 'tables/tab_line_list' from 'tmp_2301.03811/tables/tab_line_list.tex'\n",
      "  warnings.warn(LatexWarning(f\"Latex injecting: '{ext}' from '{subsource}'\"))\n",
      "/opt/hostedtoolcache/Python/3.9.16/x64/lib/python3.9/site-packages/arxiv_on_deck_2/latex.py:292: LatexWarning: Latex injecting: 'tables/PHANGS_MUSE_Sample' from 'tmp_2301.03811/tables/PHANGS_MUSE_Sample.tex'\n",
      "  warnings.warn(LatexWarning(f\"Latex injecting: '{ext}' from '{subsource}'\"))\n",
      "/opt/hostedtoolcache/Python/3.9.16/x64/lib/python3.9/site-packages/arxiv_on_deck_2/latex.py:292: LatexWarning: Latex injecting: 'authors' from 'tmp_2301.03811/authors.tex'\n",
      "  warnings.warn(LatexWarning(f\"Latex injecting: '{ext}' from '{subsource}'\"))\n"
     ]
    },
    {
     "name": "stderr",
     "output_type": "stream",
     "text": [
      "/opt/hostedtoolcache/Python/3.9.16/x64/lib/python3.9/site-packages/arxiv_on_deck_2/latex.py:366: LatexWarning: Error parsing the document directly. Trying to recover.\n",
      "  warnings.warn(LatexWarning(f\"Error parsing the document directly. Trying to recover.\"))\n"
     ]
    },
    {
     "name": "stdout",
     "output_type": "stream",
     "text": [
      "✔ → 0:header\n",
      "  ↳ 5119:\\section{Introduction}\n",
      "✔ → 5119:\\section{Introduction}\n",
      "  ↳ 10780:\\section{The PHANGS--MUSE Survey}\\label{sec:sample}\n"
     ]
    },
    {
     "name": "stdout",
     "output_type": "stream",
     "text": [
      "✔ → 10780:\\section{The PHANGS--MUSE Survey}\\label{sec:sample}\n",
      "  ↳ 21322:\\section{Methods}\n"
     ]
    },
    {
     "name": "stdout",
     "output_type": "stream",
     "text": [
      "✔ → 21322:\\section{Methods}\n",
      "  ↳ 40233:\\section{Value-Added Products}\n"
     ]
    },
    {
     "name": "stdout",
     "output_type": "stream",
     "text": [
      "✘ → 40233:\\section{Value-Added Products}\n",
      "  ↳ 70170:\\section{Results}\n"
     ]
    },
    {
     "name": "stdout",
     "output_type": "stream",
     "text": [
      "✔ → 70170:\\section{Results}\n",
      "  ↳ 94545:\\section{Discussion}\n"
     ]
    },
    {
     "name": "stdout",
     "output_type": "stream",
     "text": [
      "✔ → 94545:\\section{Discussion}\n",
      "  ↳ 112645:\\section{Conclusions}\n"
     ]
    },
    {
     "name": "stdout",
     "output_type": "stream",
     "text": [
      "✔ → 112645:\\section{Conclusions}\n",
      "  ↳ 120142:\\section{Image Atlas}\n"
     ]
    },
    {
     "name": "stdout",
     "output_type": "stream",
     "text": [
      "✔ → 120142:\\section{Image Atlas}\n",
      "  ↳ 124061:\\section{BPT diagrams for all galaxies}\n",
      "✔ → 124061:\\section{BPT diagrams for all galaxies}\n",
      "  ↳ 126612:\\section{Radial gradients for all galaxies}\n"
     ]
    },
    {
     "name": "stdout",
     "output_type": "stream",
     "text": [
      "✔ → 126612:\\section{Radial gradients for all galaxies}\n",
      "  ↳ 129065:\\section{Radial metallicity gradients for alternate prescriptions}\n"
     ]
    },
    {
     "name": "stdout",
     "output_type": "stream",
     "text": [
      "✔ → 129065:\\section{Radial metallicity gradients for alternate prescriptions}\n",
      "  ↳ 133857:end\n"
     ]
    },
    {
     "name": "stdout",
     "output_type": "stream",
     "text": [
      "Retrieving document from  https://arxiv.org/e-print/2301.03864\n"
     ]
    },
    {
     "name": "stdout",
     "output_type": "stream",
     "text": [
      "extracting tarball to tmp_2301.03864..."
     ]
    },
    {
     "name": "stdout",
     "output_type": "stream",
     "text": [
      " done.\n",
      "Retrieving document from  https://arxiv.org/e-print/2301.03932\n"
     ]
    },
    {
     "name": "stdout",
     "output_type": "stream",
     "text": [
      "extracting tarball to tmp_2301.03932..."
     ]
    },
    {
     "name": "stdout",
     "output_type": "stream",
     "text": [
      " done.\n",
      "Retrieving document from  https://arxiv.org/e-print/2301.03939\n"
     ]
    },
    {
     "name": "stderr",
     "output_type": "stream",
     "text": [
      "/opt/hostedtoolcache/Python/3.9.16/x64/lib/python3.9/site-packages/IPython/core/interactiveshell.py:3442: LatexWarning: Multiple tex files.\n",
      "\n",
      "  exec(code_obj, self.user_global_ns, self.user_ns)\n",
      "/opt/hostedtoolcache/Python/3.9.16/x64/lib/python3.9/site-packages/IPython/core/interactiveshell.py:3442: LatexWarning: Found documentclass in tmp_2301.03932/main.tex\n",
      "\n",
      "  exec(code_obj, self.user_global_ns, self.user_ns)\n",
      "/opt/hostedtoolcache/Python/3.9.16/x64/lib/python3.9/site-packages/arxiv_on_deck_2/latex.py:292: LatexWarning: Latex injecting: 'journaldefs' from 'tmp_2301.03932/journaldefs.tex'\n",
      "  warnings.warn(LatexWarning(f\"Latex injecting: '{ext}' from '{subsource}'\"))\n"
     ]
    },
    {
     "name": "stdout",
     "output_type": "stream",
     "text": [
      "extracting tarball to tmp_2301.03939..."
     ]
    },
    {
     "name": "stdout",
     "output_type": "stream",
     "text": [
      " done.\n",
      "Retrieving document from  https://arxiv.org/e-print/2301.03961\n"
     ]
    },
    {
     "name": "stdout",
     "output_type": "stream",
     "text": [
      "extracting tarball to tmp_2301.03961..."
     ]
    },
    {
     "name": "stdout",
     "output_type": "stream",
     "text": [
      " done.\n",
      "Retrieving document from  https://arxiv.org/e-print/2301.04002\n"
     ]
    },
    {
     "name": "stderr",
     "output_type": "stream",
     "text": [
      "/opt/hostedtoolcache/Python/3.9.16/x64/lib/python3.9/site-packages/IPython/core/interactiveshell.py:3442: LatexWarning: Multiple tex files.\n",
      "\n",
      "  exec(code_obj, self.user_global_ns, self.user_ns)\n",
      "/opt/hostedtoolcache/Python/3.9.16/x64/lib/python3.9/site-packages/IPython/core/interactiveshell.py:3442: LatexWarning: Found documentclass in tmp_2301.03961/manuscript.tex\n",
      "\n",
      "  exec(code_obj, self.user_global_ns, self.user_ns)\n"
     ]
    },
    {
     "name": "stdout",
     "output_type": "stream",
     "text": [
      "extracting tarball to tmp_2301.04002..."
     ]
    },
    {
     "name": "stdout",
     "output_type": "stream",
     "text": [
      " done.\n",
      "Retrieving document from  https://arxiv.org/e-print/2301.04055\n"
     ]
    },
    {
     "name": "stdout",
     "output_type": "stream",
     "text": [
      "extracting tarball to tmp_2301.04055..."
     ]
    },
    {
     "name": "stdout",
     "output_type": "stream",
     "text": [
      " done.\n",
      "Retrieving document from  https://arxiv.org/e-print/2301.04056\n"
     ]
    },
    {
     "name": "stdout",
     "output_type": "stream",
     "text": [
      "extracting tarball to tmp_2301.04056..."
     ]
    },
    {
     "name": "stdout",
     "output_type": "stream",
     "text": [
      " done.\n",
      "Retrieving document from  https://arxiv.org/e-print/2301.04081\n"
     ]
    },
    {
     "name": "stdout",
     "output_type": "stream",
     "text": [
      "extracting tarball to tmp_2301.04081..."
     ]
    },
    {
     "name": "stdout",
     "output_type": "stream",
     "text": [
      " done.\n",
      "Retrieving document from  https://arxiv.org/e-print/2301.04087\n"
     ]
    },
    {
     "name": "stderr",
     "output_type": "stream",
     "text": [
      "/opt/hostedtoolcache/Python/3.9.16/x64/lib/python3.9/site-packages/IPython/core/interactiveshell.py:3442: LatexWarning: Multiple tex files.\n",
      "\n",
      "  exec(code_obj, self.user_global_ns, self.user_ns)\n",
      "/opt/hostedtoolcache/Python/3.9.16/x64/lib/python3.9/site-packages/IPython/core/interactiveshell.py:3442: LatexWarning: Found documentclass in tmp_2301.04081/ms_V838Cyg.tex\n",
      "\n",
      "  exec(code_obj, self.user_global_ns, self.user_ns)\n",
      "/opt/hostedtoolcache/Python/3.9.16/x64/lib/python3.9/site-packages/arxiv_on_deck_2/latex.py:292: LatexWarning: Latex injecting: 'appendix' from 'tmp_2301.04081/appendix.tex'\n",
      "  warnings.warn(LatexWarning(f\"Latex injecting: '{ext}' from '{subsource}'\"))\n"
     ]
    },
    {
     "name": "stdout",
     "output_type": "stream",
     "text": [
      "extracting tarball to tmp_2301.04087..."
     ]
    },
    {
     "name": "stdout",
     "output_type": "stream",
     "text": [
      " done.\n"
     ]
    }
   ],
   "source": [
    "documents = []\n",
    "failed = []\n",
    "for paper in tqdm(candidates[:-1]):\n",
    "    paper_id = paper['identifier'].lower().replace('arxiv:', '')\n",
    "    \n",
    "    folder = f'tmp_{paper_id}'\n",
    "\n",
    "    try:\n",
    "        if not os.path.isdir(folder):\n",
    "            folder = retrieve_document_source(f\"{paper_id}\", f'tmp_{paper_id}')\n",
    "        \n",
    "        try:\n",
    "            doc = latex.LatexDocument(folder, validation=validation)    \n",
    "        except AffiliationError as affilerror:\n",
    "            msg = f\"ArXiv:{paper_id:s} is not an MPIA paper... \" + str(affilerror)\n",
    "            failed.append((paper, \"affiliation error: \" + str(affilerror) ))\n",
    "            continue\n",
    "        \n",
    "        # Hack because sometimes author parsing does not work well\n",
    "        if (len(doc.authors) != len(paper['authors'])):\n",
    "            doc._authors = paper['authors']\n",
    "        if (doc.abstract) in (None, ''):\n",
    "            doc._abstract = paper['abstract']\n",
    "            \n",
    "        doc.comment = (get_markdown_badge(paper_id) + \n",
    "                       \"<mark>Appeared on: \" + paper['date'] + \"</mark> - \" +\n",
    "                       \"_\" + paper['comments'] + \"_\")\n",
    "        doc.highlight_authors_in_list(hl_list)\n",
    "\n",
    "        full_md = doc.generate_markdown_text()\n",
    "        \n",
    "        documents.append((paper_id, full_md))\n",
    "    except Exception as e:\n",
    "        warnings.warn(latex.LatexWarning(f\"{paper_id:s} did not run properly\\n\" +\n",
    "                                         str(e)\n",
    "                                        ))\n",
    "        failed.append((paper, \"latex error \" + str(e)))"
   ]
  },
  {
   "cell_type": "markdown",
   "id": "2505a25c",
   "metadata": {
    "papermill": {
     "duration": 0.010468,
     "end_time": "2023-01-11T04:09:53.195992",
     "exception": false,
     "start_time": "2023-01-11T04:09:53.185524",
     "status": "completed"
    },
    "tags": []
   },
   "source": [
    "### Export the logs\n",
    "\n",
    "Throughout, we also keep track of the logs per paper. see `logs-{today date}.md` "
   ]
  },
  {
   "cell_type": "code",
   "execution_count": 6,
   "id": "d733828a",
   "metadata": {
    "execution": {
     "iopub.execute_input": "2023-01-11T04:09:53.219895Z",
     "iopub.status.busy": "2023-01-11T04:09:53.218797Z",
     "iopub.status.idle": "2023-01-11T04:09:53.270778Z",
     "shell.execute_reply": "2023-01-11T04:09:53.269942Z"
    },
    "papermill": {
     "duration": 0.066719,
     "end_time": "2023-01-11T04:09:53.272804",
     "exception": false,
     "start_time": "2023-01-11T04:09:53.206085",
     "status": "completed"
    },
    "scrolled": false,
    "tags": []
   },
   "outputs": [
    {
     "data": {
      "text/markdown": [
       "## Successful papers"
      ],
      "text/plain": [
       "<IPython.core.display.Markdown object>"
      ]
     },
     "metadata": {},
     "output_type": "display_data"
    },
    {
     "data": {
      "text/markdown": [
       "\n",
       "|||\n",
       "|---:|:---|\n",
       "| [![arXiv](https://img.shields.io/badge/arXiv-arXiv:2301.03689-b31b1b.svg)](https://arxiv.org/abs/arXiv:2301.03689) | **Improving Star Cluster Age Estimates in PHANGS-HST Galaxies and the  Impact on Cluster Demographics in NGC 628**  |\n",
       "|| Bradley C. Whitmore, et al. -- incl., <mark>Janice C. Lee</mark>, <mark>James Lilly</mark>, <mark>Kiana Henny</mark>, <mark>Frank Bigiel</mark>, <mark>Stephen Hannon</mark>, <mark>Kathryn Kreckel</mark>, <mark>Francesca Pinna</mark>, <mark>Eva Schinnerer</mark> |\n",
       "|*Appeared on*| *2023-01-11*|\n",
       "|*Comments*| *27 pages, 17 figures (NOTE: 1, 5, 9, 12, 14 are lower resolution than in the journal)*|\n",
       "|**Abstract**| A long-standing problem when deriving the physical properties of stellar populations is the degeneracy between age, reddening, and metallicity. When a single metallicity is used for all star clusters in a galaxy, this degeneracy can result in $`$catastrophic$'$ errors for old globular clusters. Typically, approximately 10 - 20 % of all clusters detected in spiral galaxies can have ages that are incorrect by a factor of ten or more. In this paper we present a pilot study for four galaxies (NGC 628, NGC 1433, NGC 1365, and NGC 3351) from the PHANGS-HST survey. We describe methods to correct the age-dating for old globular clusters, by first identifying candidates using their colors, and then reassigning ages and reddening based on a lower metallicity solution. We find that young $`$interlopers$'$ can be identified from their Halpha flux. CO (2-1) intensity or the presence of dust can also be used, but our tests show that they do not work as well. Improvements in the success fraction are possible at the $\\sim$ 15 % level (reducing the fraction of catastrophic age-estimates from between 13 - 21 % to 3 - 8 %). A large fraction of the incorrectly age-dated globular clusters are systematically given ages around 100 Myr, polluting the younger populations as well. Incorrectly age-dated globular clusters significantly impact the observed cluster age distribution in NGC 628, which affects the physical interpretation of cluster disruption in this galaxy. For NGC 1365, we also demonstrate how to fix a second major age-dating problem, where very dusty young clusters with E(B-V) $>$ 1.5 mag are assigned old, globular-cluster like ages. Finally, we note the discovery of a dense population of $\\sim$ 300 Myr clusters around the central region of NGC 1365. and discuss how this results naturally from the dynamics in a barred galaxy. |"
      ],
      "text/plain": [
       "[arXiv:2301.03689] Improving Star Cluster Age Estimates in PHANGS-HST Galaxies and the  Impact on Cluster Demographics in NGC 628\n",
       "\tBradley C. Whitmore, et al. -- incl., <mark>Janice C. Lee</mark>, <mark>James Lilly</mark>, <mark>Kiana Henny</mark>, <mark>Frank Bigiel</mark>, <mark>Stephen Hannon</mark>, <mark>Kathryn Kreckel</mark>, <mark>Francesca Pinna</mark>, <mark>Eva Schinnerer</mark>"
      ]
     },
     "metadata": {},
     "output_type": "display_data"
    },
    {
     "data": {
      "text/markdown": [
       "\n",
       "|||\n",
       "|---:|:---|\n",
       "| [![arXiv](https://img.shields.io/badge/arXiv-arXiv:2301.03811-b31b1b.svg)](https://arxiv.org/abs/arXiv:2301.03811) | **The PHANGS-MUSE Nebula Catalogue**  |\n",
       "|| B. Groves, et al. -- incl., <mark>K. Kreckel</mark>, <mark>E. Schinnerer</mark> |\n",
       "|*Appeared on*| *2023-01-11*|\n",
       "|*Comments*| *27 pages, accepted by MNRAS*|\n",
       "|**Abstract**| Ionized nebulae provide critical insights into the conditions of the interstellar medium (ISM). Their bright emission lines enable the measurement of physical properties, such as the gas-phase metallicity, across galaxy disks and in distant galaxies. The PHANGS--MUSE survey has produced optical spectroscopic coverage of the central star-forming discs of 19 nearby main-sequence galaxies. Here, we use the H{\\alpha} morphology from this data to identify 30,790 distinct nebulae, finding thousands of nebulae per galaxy. For each nebula, we extract emission line fluxes and, using diagnostic line ratios, identify the dominant excitation mechanism. A total of 23,244 nebulae (75%) are classified as HII regions. The dust attenuation of every nebulae is characterised via the Balmer decrement and we use existing environmental masks to identify their large scale galactic environment (centre, bar, arm, interarm and disc). Using strong-line prescriptions, we measure the gas-phase oxygen abundances (metallicity) and ionization parameter for all HII regions. With this new catalogue, we measure the radial metallicity gradients and explore second order metallicity variations within each galaxy. By quantifying the global scatter in metallicity per galaxy, we find a weak negative correlation with global star formation rate and stronger negative correlation with global gas velocity dispersion (in both ionized and molecular gas). With this paper we release the full catalogue of strong line fluxes and derived properties, providing a rich database for a broad variety of ISM studies. |"
      ],
      "text/plain": [
       "[arXiv:2301.03811] The PHANGS-MUSE Nebula Catalogue\n",
       "\tB. Groves, et al. -- incl., <mark>K. Kreckel</mark>, <mark>E. Schinnerer</mark>"
      ]
     },
     "metadata": {},
     "output_type": "display_data"
    },
    {
     "data": {
      "text/markdown": [
       "## Failed papers"
      ],
      "text/plain": [
       "<IPython.core.display.Markdown object>"
      ]
     },
     "metadata": {},
     "output_type": "display_data"
    },
    {
     "data": {
      "text/markdown": [
       "\n",
       "|||\n",
       "|---:|:---|\n",
       "| [![arXiv](https://img.shields.io/badge/arXiv-arXiv:2301.03608-b31b1b.svg)](https://arxiv.org/abs/arXiv:2301.03608) | **The NANOGrav 12.5-year Data Set: Bayesian Limits on Gravitational Waves  from Individual Supermassive Black Hole Binaries**  |\n",
       "|| Zaven Arzoumanian, et al. -- incl., <mark>Peter A. Gentile</mark>, <mark>Joseph Glaser</mark>, <mark>T. Joseph W. Lazio</mark>, <mark>Tingting Liu</mark> |\n",
       "|*Appeared on*| *2023-01-11*|\n",
       "|*Comments*| *20 pages, 12 figures. Submitted to ApJ*|\n",
       "|**Abstract**| Pulsar timing array collaborations, such as the North American Nanohertz Observatory for Gravitational Waves (NANOGrav), are seeking nanohertz gravitational waves emitted by supermassive black hole binaries formed in the aftermath of galaxy mergers. We have searched for continuous waves from individual circular supermassive black hole binaries using the NANOGrav's recent 12.5-year data set. We created new methods to accurately model the uncertainties on pulsar distances in our analysis, and we implemented new techniques to account for a common red noise process in pulsar timing array data sets while searching for deterministic gravitational wave signals, including continuous waves. As we found no evidence for continuous waves in our data, we placed 95\\% upper limits on the strain amplitude of continuous waves emitted by these sources. At our most sensitive frequency of 7.65 nanohertz, we placed a sky-averaged limit of $h_0 < $ $(6.82 \\pm 0.35) \\times 10^{-15}$, and $h_0 <$ $(2.66 \\pm 0.15) \\times 10^{-15}$ in our most sensitive sky location. Finally, we placed a multi-messenger limit of $\\mathcal{M} <$ $(1.41 \\pm 0.02) \\times 10^9 M_\\odot$ on the chirp mass of the supermassive black hole binary candidate 3C~66B. |\n",
       "|<p style=\"color:green\"> **ERROR** </p>| <p style=\"color:green\">affiliation error: mpia.affiliation_verifications: 'Heidelberg' keyword not found.</p> |"
      ],
      "text/plain": [
       "<IPython.core.display.Markdown object>"
      ]
     },
     "metadata": {},
     "output_type": "display_data"
    },
    {
     "data": {
      "text/markdown": [
       "\n",
       "|||\n",
       "|---:|:---|\n",
       "| [![arXiv](https://img.shields.io/badge/arXiv-arXiv:2301.03609-b31b1b.svg)](https://arxiv.org/abs/arXiv:2301.03609) | **UGC 4211: A Confirmed Dual Active Galactic Nucleus in the Local Universe  at 230 pc Nuclear Separation**  |\n",
       "|| Michael J. Koss, et al. -- incl., <mark>Fiona Harrison</mark>, <mark>Tingting Liu</mark>, <mark>Krista L. Smith</mark> |\n",
       "|*Appeared on*| *2023-01-11*|\n",
       "|*Comments*| *19 pages, 7 figures, 2 tables, published in ApJL*|\n",
       "|**Abstract**| We present multi-wavelength high-spatial resolution (~0.1'', 70 pc) observations of UGC 4211 at z=0.03474, a late-stage major galaxy merger at the closest nuclear separation yet found in near-IR imaging (0.32'', ~230 pc projected separation). Using Hubble Space Telescope/STIS, VLT/MUSE+AO, Keck/OSIRIS+AO spectroscopy, and ALMA observations, we show that the spatial distribution, optical and NIR emission lines, and millimeter continuum emission are all consistent with both nuclei being powered by accreting supermassive black holes (SMBHs). Our data, combined with common black hole mass prescriptions, suggests that both SMBHs have similar masses, log MBH~8.1 (south) and log MBH~8.3 (north), respectively. The projected separation of 230 pc (~6X the black hole sphere of influence) represents the closest-separation dual AGN studied to date with multi-wavelength resolved spectroscopy and shows the potential of nuclear (<50 pc) continuum observations with ALMA to discover hidden growing SMBH pairs. While the exact occurrence rate of close-separation dual AGN is not yet known, it may be surprisingly high, given that UGC 4211 was found within a small, volume-limited sample of nearby hard X-ray detected AGN. Observations of dual SMBH binaries in the sub-kpc regime at the final stages of dynamical friction provide important constraints for future gravitational wave observatories. |\n",
       "|<p style=\"color:green\"> **ERROR** </p>| <p style=\"color:green\">affiliation error: mpia.affiliation_verifications: 'Heidelberg' keyword not found.</p> |"
      ],
      "text/plain": [
       "<IPython.core.display.Markdown object>"
      ]
     },
     "metadata": {},
     "output_type": "display_data"
    },
    {
     "data": {
      "text/markdown": [
       "\n",
       "|||\n",
       "|---:|:---|\n",
       "| [![arXiv](https://img.shields.io/badge/arXiv-arXiv:2301.03613-b31b1b.svg)](https://arxiv.org/abs/arXiv:2301.03613) | **Hard X-Ray to Radio Multiwavelength SED Analysis of Local U/LIRGs in  GOALS Sample with Self-consistent AGN Model Including Polar-dust Component**  |\n",
       "|| Satoshi Yamada, et al. -- incl., <mark>Yoshihiro Ueda</mark>, <mark>Martín Herrera-Endoqui</mark> |\n",
       "|*Appeared on*| *2023-01-11*|\n",
       "|*Comments*| *84 pages (5 tables/29 figures in the main text and 8 tables/18 figures in the Appendix), accepted in ApJS*|\n",
       "|**Abstract**| We conduct a hard X-ray to radio multiwavelength spectral energy distribution (SED) decomposition for 57 local luminous and ultraluminous infrared galaxies (U/LIRGs) observed with Nuclear Spectroscopic Telescope Array and/or Swift/Burst Alert Telescope in GOALS (Armus et al. 2009) sample. We modify the latest SED-fitting code X-CIGALE by implementing the infrared (IR) CLUMPY model, allowing the multiwavelength study with the X-ray torus model (XCLUMPY) self-consistently. Adopting the torus parameters obtained by the X-ray fitting (Yamada et al. 2021), we estimate the properties of host galaxies, active galactic nucleus (AGN) tori, and polar dust. The star formation rates (SFRs) become larger with merger stage and most of them are above the main sequence. The SFRs are correlated with radio luminosity, indicating starburst emission is dominant in the radio band. Although polar-dust extinction is much smaller than torus extinction, the UV-to-IR (mainly IR) polar dust luminosities are $\\sim$2 times larger than the torus ones. The polar-dust temperature decreases while the physical size, estimated by the temperature and dust sublimation radius, increases with AGN luminosity from a few tens of parsec (early mergers) to kiloparsec scales (late mergers), where the polar dust is likely the expanding (i.e., evolving) dusty outflows. The comparison between SFRs and intrinsic AGN luminosities suggests that the starbursts occur first and AGNs arise later, and overall their growth rates follow the simultaneous coevolution relation that can establish the local galaxy-SMBH mass relation. We confirm the coexistence of intense starbursts, AGNs, and large-scale outflows in late mergers, supporting a standard AGN feedback scenario. |\n",
       "|<p style=\"color:green\"> **ERROR** </p>| <p style=\"color:green\">affiliation error: mpia.affiliation_verifications: 'Heidelberg' keyword not found.</p> |"
      ],
      "text/plain": [
       "<IPython.core.display.Markdown object>"
      ]
     },
     "metadata": {},
     "output_type": "display_data"
    },
    {
     "data": {
      "text/markdown": [
       "\n",
       "|||\n",
       "|---:|:---|\n",
       "| [![arXiv](https://img.shields.io/badge/arXiv-arXiv:2301.03614-b31b1b.svg)](https://arxiv.org/abs/arXiv:2301.03614) | **Fountain-driven gas accretion feeding star formation over the disc of  NGC 2403**  |\n",
       "|| <mark>Anqi Li</mark>, et al. |\n",
       "|*Appeared on*| *2023-01-11*|\n",
       "|*Comments*| *15 pages, 9 figures, accepted for publication in MNRAS*|\n",
       "|**Abstract**| We use a dynamical model of galactic fountain to study the neutral extraplanar gas (EPG) in the nearby spiral galaxy NGC 2403. We have modelled the EPG as a combination of material ejected from the disc by stellar feedback (i.e. galactic fountain) and gas accreting from the inner circumgalactic medium (CGM). This accretion is expected to occur because of cooling/condensation of the hot CGM (corona) triggered by the fountain. Our dynamical model reproduces the distribution and kinematics of the EPG H$\\mathrm{\\scriptsize{I}}$ emission in NGC 2403 remarkably well and suggests a total EPG mass of $4.7^{+1.2}_{-0.9}\\times10^8\\mathrm{M}_\\odot$, with a typical scale height of around 1 kpc and a vertical gradient of the rotation velocity of $-10.0\\pm2.7\\,\\mathrm{km\\,s^{-1}\\,kpc^{-1}}$. The best-fitting model requires a characteristic outflow velocity of $50\\pm10\\,\\mathrm{km\\,s^{-1}}$. The outflowing gas starts out mostly ionised and only becomes neutral later in the trajectory. The accretion rate from the condensation of the inner hot CGM inferred by the model is 0.8$\\,\\mathrm{M}_\\odot\\,\\mathrm{yr}^{-1}$, approximately equal to the star formation rate in this galaxy (0.6$\\,\\mathrm{M}_\\odot\\,\\mathrm{yr}^{-1}$). We show that the accretion profile, which peaks at a radius of about 4.5$\\,$kpc, predicts a disc growth rate compatible with the observed value. Our results indicate that fountain-driven corona condensation is a likely mechanism to sustain star formation as well as the disc inside-out growth in local disc galaxies. |\n",
       "|<p style=\"color:green\"> **ERROR** </p>| <p style=\"color:green\">affiliation error: mpia.affiliation_verifications: 'Heidelberg' keyword not found.</p> |"
      ],
      "text/plain": [
       "<IPython.core.display.Markdown object>"
      ]
     },
     "metadata": {},
     "output_type": "display_data"
    },
    {
     "data": {
      "text/markdown": [
       "\n",
       "|||\n",
       "|---:|:---|\n",
       "| [![arXiv](https://img.shields.io/badge/arXiv-arXiv:2301.03617-b31b1b.svg)](https://arxiv.org/abs/arXiv:2301.03617) | **A Second Earth-Sized Planet in the Habitable Zone of the M Dwarf,  TOI-700**  |\n",
       "|| Emily A. Gilbert, et al. -- incl., <mark>Joseph E. Rodriguez</mark>, <mark>Joseph D. Twicken</mark>, <mark>Franco Mallia</mark> |\n",
       "|*Appeared on*| *2023-01-11*|\n",
       "|*Comments*| *16 pages, 4 figures, 2 tables, accepted for publication in ApJL*|\n",
       "|**Abstract**| We report the discovery of TOI-700 e, a 0.95 R$_\\oplus$ planet residing in the Optimistic Habitable Zone (HZ) of its host star. This discovery was enabled by multiple years of monitoring from NASA's Transiting Exoplanet Survey Satellite (TESS) mission. The host star, TOI-700 (TIC 150428135), is a nearby (31.1 pc), inactive, M2.5 dwarf ($V_{mag} = 13.15$). TOI-700 is already known to host three planets, including the small, HZ planet, TOI-700 d. The new planet has an orbital period of 27.8 days and, based on its radius (0.95 R$_\\oplus$), it is likely rocky. TOI-700 was observed for 21 sectors over Years 1 and 3 of the TESS mission, including 10 sectors at 20-second cadence in Year 3. Using this full set of TESS data and additional follow-up observations, we identify, validate, and characterize TOI-700 e. This discovery adds another world to the short list of small, HZ planets transiting nearby and bright host stars. Such systems, where the stars are bright enough that follow-up observations are possible to constrain planet masses and atmospheres using current and future facilities, are incredibly valuable. The presence of multiple small, HZ planets makes this system even more enticing for follow-up observations. |\n",
       "|<p style=\"color:green\"> **ERROR** </p>| <p style=\"color:green\">affiliation error: mpia.affiliation_verifications: 'Heidelberg' keyword not found.</p> |"
      ],
      "text/plain": [
       "<IPython.core.display.Markdown object>"
      ]
     },
     "metadata": {},
     "output_type": "display_data"
    },
    {
     "data": {
      "text/markdown": [
       "\n",
       "|||\n",
       "|---:|:---|\n",
       "| [![arXiv](https://img.shields.io/badge/arXiv-arXiv:2301.03626-b31b1b.svg)](https://arxiv.org/abs/arXiv:2301.03626) | **The eROSITA Final Equatorial-Depth Survey (eFEDS) -- Splashback radius  of X-ray galaxy clusters using galaxies from HSC survey**  |\n",
       "|| Divya Rana, et al. -- incl., <mark>Matthias Klein</mark> |\n",
       "|*Appeared on*| *2023-01-11*|\n",
       "|*Comments*| *15 pages, 10 figures*|\n",
       "|**Abstract**| We present the splashback radius measurements around the SRG/eROSITA eFEDS X-ray selected galaxy clusters by cross-correlating them with HSC S19A photometric galaxies. The X-ray selection is expected to be less affected by systematics related to projection that affects optical cluster finder algorithms. We use a nearly volume-limited X-ray cluster sample selected in 0.5-2.0 keV band having luminosity $L_X > 10^{43.5} {\\rm erg s^{-1} h^{-2}}$ within the redshift $z<0.75$ and obtain measurements of the projected cross-correlation with a signal-to-noise of $17.43$. We model our measurements to infer a three-dimensional profile and find that the steepest slope is sharper than $-3$ and associate the location with the splashback radius. We infer the value of the 3D splashback radius $r_{\\rm sp} = 1.45^{+0.30}_{-0.26}\\,{\\rm h^{-1} Mpc}$. We also measure the weak lensing signal of the galaxy clusters and obtain halo mass $\\log[M_{\\rm 200m}/{\\rm h^{-1}M_\\odot}] = 14.52 \\pm 0.06$ using the HSC-S16A shape catalogue data at the median redshift $z=0.46$ of our cluster sample. We compare our $r_{\\rm sp}$ values with the spherical overdensity boundary $r_{\\rm 200m} = 1.75 \\pm 0.08\\,{\\rm h^{-1} Mpc}$ based on the halo mass which is consistent within $1.2\\sigma$ with the $\\Lambda$CDM predictions. Our constraints on the splashback radius, although broad, are the best measurements thus far obtained for an X-ray selected galaxy cluster sample. |\n",
       "|<p style=\"color:green\"> **ERROR** </p>| <p style=\"color:green\">affiliation error: mpia.affiliation_verifications: 'Heidelberg' keyword not found.</p> |"
      ],
      "text/plain": [
       "<IPython.core.display.Markdown object>"
      ]
     },
     "metadata": {},
     "output_type": "display_data"
    },
    {
     "data": {
      "text/markdown": [
       "\n",
       "|||\n",
       "|---:|:---|\n",
       "| [![arXiv](https://img.shields.io/badge/arXiv-arXiv:2301.03629-b31b1b.svg)](https://arxiv.org/abs/arXiv:2301.03629) | **On the correlation between dark matter, intracluster light and globular  cluster distribution in SMACS0723**  |\n",
       "|| J.M. Diego, et al. -- incl., <mark>G. Mahler</mark>, <mark>Myung Gyoon Lee</mark> |\n",
       "|*Appeared on*| *2023-01-11*|\n",
       "|*Comments*| *12 pages, 8 figures*|\n",
       "|**Abstract**| We present a free-form model of SMACS0723, the first cluster observed with JWST. This model makes no strong assumptions about the distribution of mass (mostly dark matter) in the cluster and we use it to study the possible correlation between dark matter with the intracluster light and distribution of globular clusters. To explore the uncertainty in mass modelling, we derive three lens models based on spectroscopically confirmed systems and new candidate systems with redshifts predicted by the lens model derived from the spectroscopic systems. We find that beyond the radius of influence of the BCG, the total mass does not trace the ICL, implying the need for a dark component (dark matter). Two loop-like structures observed in the intracluster light do not have an obvious correspondence with the total mass (mostly dark matter) distribution. The radial profiles of the ICL and the distribution of globular clusters are similar to each other, but steeper than the profile of the lens model. More specifically, we find that the total mass is shallower by 1 dex in log scale than both ICL and globular cluster profiles. This is in excellent agreement with N-body simulations of cold dark matter. |\n",
       "|<p style=\"color:green\"> **ERROR** </p>| <p style=\"color:green\">affiliation error: mpia.affiliation_verifications: 'Heidelberg' keyword not found.</p> |"
      ],
      "text/plain": [
       "<IPython.core.display.Markdown object>"
      ]
     },
     "metadata": {},
     "output_type": "display_data"
    },
    {
     "data": {
      "text/markdown": [
       "\n",
       "|||\n",
       "|---:|:---|\n",
       "| [![arXiv](https://img.shields.io/badge/arXiv-arXiv:2301.03639-b31b1b.svg)](https://arxiv.org/abs/arXiv:2301.03639) | **Emergent Spectral Fluxes of Hot Jupiters: an Abrupt Rise in Day Side  Brightness Temperature Under Strong Irradiation**  |\n",
       "|| Drake Deming, et al. -- incl., <mark>Michael R. Line</mark>, <mark>Heather A. Knutson</mark> |\n",
       "|*Appeared on*| *2023-01-11*|\n",
       "|*Comments*| *29 pages, 12 figures, 4 tables (3 are MR), accepted for the Astronomical Journal*|\n",
       "|**Abstract**| We study the emergent spectral fluxes of transiting hot Jupiters, using secondary eclipses from Spitzer. To achieve a large and uniform sample, we have re-analyzed all secondary eclipses for all hot Jupiters observed by Spitzer at 3.6- and/or 4.5 microns. Our sample comprises 457 eclipses of 122 planets, including eclipses of 13 planets not previously published. We use these eclipse depths to calculate the spectral fluxes emergent from the exoplanetary atmospheres, and thereby infer temperature and spectral properties of hot Jupiters. We find that an abrupt rise in brightness temperature, similar to a phase change, occurs on the day side atmospheres of the population at an equilibrium temperature between 1714K and 1818K (99-percent confidence limits). The amplitude of the rise is 291 +/-49 Kelvins, and two viable causes are the onset of magnetic drag that inhibits longitudinal heat redistribution, and/or the rapid dissipation of day side clouds. We also study hot Jupiter spectral properties with respect to metallicity and temperature inversions. Models exhibiting 4.5 micron emission from temperature inversions reproduce our fluxes statistically for the hottest planets, but the transition to emission is gradual, not abrupt. The Spitzer fluxes are sensitive to metallicity for planets cooler than approximately 1200 Kelvins, and most of the hot Jupiter population falls between model tracks having solar to 30X-solar metallicity. |\n",
       "|<p style=\"color:green\"> **ERROR** </p>| <p style=\"color:green\">affiliation error: mpia.affiliation_verifications: 'Heidelberg' keyword not found.</p> |"
      ],
      "text/plain": [
       "<IPython.core.display.Markdown object>"
      ]
     },
     "metadata": {},
     "output_type": "display_data"
    },
    {
     "data": {
      "text/markdown": [
       "\n",
       "|||\n",
       "|---:|:---|\n",
       "| [![arXiv](https://img.shields.io/badge/arXiv-arXiv:2301.03647-b31b1b.svg)](https://arxiv.org/abs/arXiv:2301.03647) | **JWST Low-Resolution MIRI Spectral Observations of SN~2021aefx:  High-density Burning in a Type Ia Supernova**  |\n",
       "|| J. M. DerKacy, et al. -- incl., <mark>P. J. Brown</mark>, <mark>C. R. Burns</mark>, <mark>T. de Jaeger</mark> |\n",
       "|*Appeared on*| *2023-01-11*|\n",
       "|*Comments*| *21 pages, 9 figures, 4 tables, submitted to ApJL*|\n",
       "|**Abstract**| We present a JWST/MIRI low-resolution mid-infrared (MIR) spectroscopic observation of the normal Type Ia supernova (SN Ia) SN 2021aefx at +323 days past rest-frame B-band maximum light. The spectrum ranges from 4-14 um, and shows many unique qualities including a flat-topped [Ar III] 8.991 um profile, a strongly tilted [Co III] 11.888 um feature, and multiple stable Ni lines. These features provide critical information about the physics of the explosion. The observations are compared to synthetic spectra from detailed NLTE multi-dimensional models. The results of the best-fitting model are used to identify the components of the spectral blends and provide a quantitative comparison to the explosion physics. Emission line profiles and the presence of electron capture (EC) elements are used to constrain the mass of the exploding white dwarf (WD) and the chemical asymmetries in the ejecta. We show that the observations of SN 2021aefx are consistent with an off-center delayed-detonation explosion of a near-Chandrasekhar mass (Mch) WD at a viewing angle of -30 degrees relative to the point of the deflagration-to-detonation transition. From the strength of the stable Ni lines we determine that there is little to no mixing in the central regions of the ejecta. Based on both the presence of stable Ni and the Ar velocity distributions, we obtain a strict lower limit of 1.2 Msun of the initial WD, implying that most sub-Mch explosions models are not viable models for SN 2021aefx. The analysis here shows the crucial importance of MIR spectra for distinguishing between explosion scenarios for SNe Ia. |\n",
       "|<p style=\"color:green\"> **ERROR** </p>| <p style=\"color:green\">affiliation error: mpia.affiliation_verifications: 'Heidelberg' keyword not found.</p> |"
      ],
      "text/plain": [
       "<IPython.core.display.Markdown object>"
      ]
     },
     "metadata": {},
     "output_type": "display_data"
    },
    {
     "data": {
      "text/markdown": [
       "\n",
       "|||\n",
       "|---:|:---|\n",
       "| [![arXiv](https://img.shields.io/badge/arXiv-arXiv:2301.03651-b31b1b.svg)](https://arxiv.org/abs/arXiv:2301.03651) | **Atomic oxygen abundance toward Sagittarius B2**  |\n",
       "|| <mark>Dariusz C. Lis</mark>, et al. -- incl., <mark>Helmut Wiesemeyer</mark> |\n",
       "|*Appeared on*| *2023-01-11*|\n",
       "|*Comments*| *7 pages, 7 figures, and 2 appendices. Astronomy & Astrophysics Letters, in press*|\n",
       "|**Abstract**| A substantial fraction of oxygen in diffuse clouds is unaccounted for by observations and is postulated to be in an unknown refractory form, referred to as unidentified depleted oxygen (UDO), which, depending on the local gas density, may contribute up to 50% of the total oxygen content. Previous Infrared Space Observatory (ISO) observations suggest that a significant fraction of oxygen in even denser, translucent clouds may be in atomic form. We have analyzed velocity-resolved archival SOFIA observations of the 63 $\\mu$m fine-structure [O I] transition toward the high-mass star-forming region Sgr B2(M) in the Central Molecular Zone. The foreground spiral-arm clouds as well as the extended Sgr B2 envelope between the Sun and the background dust continuum source produce multiple [O i] absorption components, spectrally separated in velocity space. The gas-phase atomic oxygen column density in foreground clouds toward Sgr B2 is well correlated with the total hydrogen column density, with an average atomic oxygen abundance of $(2.51 \\pm 0.69) \\times 10^{-4}$ with respect to hydrogen nuclei. This value is in good agreement with the earlier ISO measurements on the same line of sight, and is about 35% lower than the total interstellar medium oxygen abundance in the low-density warm gas, as measured in the UV. We find no evidence that a significant fraction of the oxygen on the line of sight toward Sagittarius B2 is in the form of UDO. |\n",
       "|<p style=\"color:green\"> **ERROR** </p>| <p style=\"color:green\">affiliation error: mpia.affiliation_verifications: 'Heidelberg' keyword not found.</p> |"
      ],
      "text/plain": [
       "<IPython.core.display.Markdown object>"
      ]
     },
     "metadata": {},
     "output_type": "display_data"
    },
    {
     "data": {
      "text/markdown": [
       "\n",
       "|||\n",
       "|---:|:---|\n",
       "| [![arXiv](https://img.shields.io/badge/arXiv-arXiv:2301.03660-b31b1b.svg)](https://arxiv.org/abs/arXiv:2301.03660) | **The sculpting of rectangular and jet-like morphologies in supernova  remnants by anisotropic equatorially-confined progenitor stellar winds**  |\n",
       "|| P. F. Velazquez, et al. -- incl., <mark>D. M.-A. Meyer</mark> |\n",
       "|*Appeared on*| *2023-01-11*|\n",
       "|*Comments*| *Accepted to MNRAS*|\n",
       "|**Abstract**| Thermonuclear and core-collapse supernova remnants (SNRs) are the nebular leftovers of defunct stars. Their morphology and emission properties provide insights into the evolutionary history of the progenitor star. But while some SNRs are spherical, as expected from a point-like explosion expanding into a roughly uniform medium, many others exhibit complex non-spherical morphologies which are often not easily explained. In this work, we use three-dimensional magnetohydrodynamic simulations to show that rectangular and jet-like morphologies can be explained by supernovae (SNe), either type Ia or type II, expanding within anisotropic, bipolar stellar wind bubbles driven by the progenitor star. The stellar wind has an anisotropic density distribution, which channels the SN ejecta differently depending on the anisotropy characteristics. We compute synthetic thermal (X-ray) and non-thermal (synchrotron) emission maps from our numerical simulations to compare with observations. We find rectangular morphologies are generated when the stellar wind has a high mass loss rate and forms a dense, narrow disk at the equatorial region. Instead, a jet-like or ear-like morphology is obtained when the stellar wind develops a wide, dense disk. Stellar winds with low mass-loss rates do not strongly influence the SNR morphology. Finally, our synthetic synchrotron and X-ray maps for the high mass-loss rate case qualitatively agree with the observations of the SNRs G332.5-5.6 and G290.1-0.8. |\n",
       "|<p style=\"color:green\"> **ERROR** </p>| <p style=\"color:green\">affiliation error: mpia.affiliation_verifications: 'Heidelberg' keyword not found.</p> |"
      ],
      "text/plain": [
       "<IPython.core.display.Markdown object>"
      ]
     },
     "metadata": {},
     "output_type": "display_data"
    },
    {
     "data": {
      "text/markdown": [
       "\n",
       "|||\n",
       "|---:|:---|\n",
       "| [![arXiv](https://img.shields.io/badge/arXiv-arXiv:2301.03670-b31b1b.svg)](https://arxiv.org/abs/arXiv:2301.03670) | **The impact of human expert visual inspection on the discovery of strong  gravitational lenses**  |\n",
       "|| Karina Rojas, et al. -- incl., <mark>Fabrizio Gentile</mark>, <mark>Rémy Joseph</mark>, <mark>Guillaume Mahler</mark>, <mark>Aniruddh Herle</mark> |\n",
       "|*Appeared on*| *2023-01-11*|\n",
       "|*Comments*| *16 pages, 18 Figures*|\n",
       "|**Abstract**| We investigate the ability of human 'expert' classifiers to identify strong gravitational lens candidates in Dark Energy Survey like imaging. We recruited a total of 55 people that completed more than 25$\\%$ of the project. During the classification task, we present to the participants 1489 images. The sample contains a variety of data including lens simulations, real lenses, non-lens examples, and unlabeled data. We find that experts are extremely good at finding bright, well-resolved Einstein rings, whilst arcs with $g$-band signal-to-noise less than $\\sim$25 or Einstein radii less than $\\sim$1.2 times the seeing are rarely recovered. Very few non-lenses are scored highly. There is substantial variation in the performance of individual classifiers, but they do not appear to depend on the classifier's experience, confidence or academic position. These variations can be mitigated with a team of 6 or more independent classifiers. Our results give confidence that humans are a reliable pruning step for lens candidates, providing pure and quantifiably complete samples for follow-up studies. |\n",
       "|<p style=\"color:green\"> **ERROR** </p>| <p style=\"color:green\">affiliation error: mpia.affiliation_verifications: 'Heidelberg' keyword not found.</p> |"
      ],
      "text/plain": [
       "<IPython.core.display.Markdown object>"
      ]
     },
     "metadata": {},
     "output_type": "display_data"
    },
    {
     "data": {
      "text/markdown": [
       "\n",
       "|||\n",
       "|---:|:---|\n",
       "| [![arXiv](https://img.shields.io/badge/arXiv-arXiv:2301.03687-b31b1b.svg)](https://arxiv.org/abs/arXiv:2301.03687) | **Hot Spots in Sgr A* Accretion Disk: Hydrodynamic Insights**  |\n",
       "|| E. P. Tito, V. P. Goncharov, <mark>V. I. Pavlov</mark> |\n",
       "|*Appeared on*| *2023-01-11*|\n",
       "|*Comments*| *15 pages, 5 figures*|\n",
       "|**Abstract**| The recent image of our galaxy's supermassive black hole Sgr A* derived from the 7 April 2017 data of the Event Horizon Telescope Collaboration shows multiple hot spots in its accretion disk. Using the analytical framework, we demonstrate that the observed hot spots may not be disjoint elements but causally linked components (\"petals\") of one rotating quasi-stationary macro-structure formed in the thermo-vorticial field within the accretion disk. |\n",
       "|<p style=\"color:green\"> **ERROR** </p>| <p style=\"color:green\">affiliation error: mpia.affiliation_verifications: 'Heidelberg' keyword not found.</p> |"
      ],
      "text/plain": [
       "<IPython.core.display.Markdown object>"
      ]
     },
     "metadata": {},
     "output_type": "display_data"
    },
    {
     "data": {
      "text/markdown": [
       "\n",
       "|||\n",
       "|---:|:---|\n",
       "| [![arXiv](https://img.shields.io/badge/arXiv-arXiv:2301.03694-b31b1b.svg)](https://arxiv.org/abs/arXiv:2301.03694) | **Growth and Geometry Split in Light of the DES-Y3 Survey**  |\n",
       "|| Kunhao Zhong, et al. -- incl., <mark>Elisabeth Krause</mark> |\n",
       "|*Appeared on*| *2023-01-11*|\n",
       "|*Comments*| *19 pages, 14 figures, to be submitted*|\n",
       "|**Abstract**| We test the smooth dark energy paradigm using Dark Energy Survey (DES) Year 1 and Year 3 weak lensing and galaxy clustering data. Within the $\\Lambda$CDM and $w$CDM model we separate the expansion and structure growth history by splitting $\\Omega_\\mathrm{m}$ (and $w$) into two meta-parameters that allow for different evolution of growth and geometry in the Universe. We consider three different combinations of priors on geometry from CMB, SNIa, BAO, BBN that differ in constraining power but have been designed such that the growth information comes solely from the DES weak lensing and galaxy clustering. For the DES-Y1 data we find no detectable tension between growth and geometry meta-parameters in both the $\\Lambda$CDM and $w$CDM parameter space. This statement also holds for DES-Y3 cosmic shear and 3x2pt analyses. For the combination of DES-Y3 galaxy-galaxy lensing and galaxy clustering (2x2pt) we measure a tension between our growth and geometry meta-parameters of 2.6$\\sigma$ in the $\\Lambda$CDM and 4.48$\\sigma$ in the $w$CDM model space, respectively. We attribute this tension to residual systematics in the DES-Y3 RedMagic galaxy sample rather than to new physics. We plan to investigate our findings further using alternative lens samples in DES-Y3 and future weak lensing and galaxy clustering datasets. |\n",
       "|<p style=\"color:green\"> **ERROR** </p>| <p style=\"color:green\">affiliation error: mpia.affiliation_verifications: 'Heidelberg' keyword not found.</p> |"
      ],
      "text/plain": [
       "<IPython.core.display.Markdown object>"
      ]
     },
     "metadata": {},
     "output_type": "display_data"
    },
    {
     "data": {
      "text/markdown": [
       "\n",
       "|||\n",
       "|---:|:---|\n",
       "| [![arXiv](https://img.shields.io/badge/arXiv-arXiv:2301.03702-b31b1b.svg)](https://arxiv.org/abs/arXiv:2301.03702) | **Galaxy quenching timescales from a forensic reconstruction of their  colour evolution**  |\n",
       "|| Matías Bravo, et al. -- incl., <mark>Luke J. M. Davies</mark> |\n",
       "|*Appeared on*| *2023-01-11*|\n",
       "|*Comments*| *17 pages, 13 figures. Submitted to MNRAS*|\n",
       "|**Abstract**| The timescales on which galaxies move out of the blue cloud to the red sequence ($\\tau^{}_\\mathrm{Q}$) provide insight into the mechanisms driving quenching. Here, we build upon previous work, where we showcased a method to reconstruct the colour evolution of observed low-redshift galaxies from the Galaxy And Mass Assembly (GAMA) survey based on spectral energy distribution (SED) fitting with ProSpect, together with a statistically-driven definition for the blue and red populations. We also use the predicted colour evolution from the SHARK semi-analytic model, combined with SED fits of our simulated galaxy sample, to study the accuracy of the measured $\\tau^{}_\\mathrm{Q}$ and gain physical insight into the colour evolution of galaxies. In this work, we measure $\\tau^{}_\\mathrm{Q}$ in a consistent approach for both observations and simulations. After accounting for selection bias, we find evidence for an increase in $\\tau^{}_\\mathrm{Q}$ in GAMA as a function of cosmic time (from $\\tau^{}_\\mathrm{Q}\\sim1$ Gyr to $\\tau^{}_\\mathrm{Q}\\sim2$ Gyr in the lapse of $\\sim4$ Gyr), but not in SHARK ($\\tau^{}_\\mathrm{Q}\\lesssim1$ Gyr). Our observations and simulations disagree on the effect of stellar mass, with GAMA showing massive galaxies transitioning faster, but is the opposite in SHARK. We find that environment only impacts galaxies below $\\sim10^{10}$ M$_\\odot$ in GAMA, with satellites having shorter $\\tau^{}_\\mathrm{Q}$ than centrals by $\\sim0.4$ Gyr, with SHARK only in qualitative agreement. Finally, we compare to previous literature, finding consistency with timescales in the order of couple Gyr, but with several differences that we discuss. |\n",
       "|<p style=\"color:green\"> **ERROR** </p>| <p style=\"color:green\">affiliation error: mpia.affiliation_verifications: 'Heidelberg' keyword not found.</p> |"
      ],
      "text/plain": [
       "<IPython.core.display.Markdown object>"
      ]
     },
     "metadata": {},
     "output_type": "display_data"
    },
    {
     "data": {
      "text/markdown": [
       "\n",
       "|||\n",
       "|---:|:---|\n",
       "| [![arXiv](https://img.shields.io/badge/arXiv-arXiv:2301.03744-b31b1b.svg)](https://arxiv.org/abs/arXiv:2301.03744) | **Inflation in Weyl Scaling Invariant Gravity with $R^3$ Extensions**  |\n",
       "|| Qing-Yang Wang, Yong Tang, <mark>Yue-Liang Wu</mark> |\n",
       "|*Appeared on*| *2023-01-11*|\n",
       "|*Comments*| *24 pages, 5 figures*|\n",
       "|**Abstract**| The cosmological observations of cosmic microwave background and large-scale structure indicate that our universe has a nearly scaling invariant power spectrum of the primordial perturbation. However, the exact origin for this primordial spectrum is still unclear. Here, we propose the Weyl scaling invariant $R^2+R^3$ gravity that gives rise to inflation that is responsible for the primordial perturbation in the early universe. We develop both analytic and numerical treatments on inflationary observables, and find this model gives a distinctive scalar potential that can support two different patterns of inflation. The first one is similar to that occurs in the pure $R^2$ model, but with a wide range of tensor-to-scalar ratio $r$ from $\\mathcal O(10^{-4})$ to $\\mathcal O(10^{-2})$. The other one is a new situation with not only slow-roll inflation but also a short stage of oscillation-induced accelerating expansion. Both patterns of inflation have viable parameter spaces that can be probed by future experiments on cosmic microwave background and primordial gravitational waves. |\n",
       "|<p style=\"color:green\"> **ERROR** </p>| <p style=\"color:green\">affiliation error: mpia.affiliation_verifications: 'Heidelberg' keyword not found.</p> |"
      ],
      "text/plain": [
       "<IPython.core.display.Markdown object>"
      ]
     },
     "metadata": {},
     "output_type": "display_data"
    },
    {
     "data": {
      "text/markdown": [
       "\n",
       "|||\n",
       "|---:|:---|\n",
       "| [![arXiv](https://img.shields.io/badge/arXiv-arXiv:2301.03777-b31b1b.svg)](https://arxiv.org/abs/arXiv:2301.03777) | **RR Lyrae mid-infrared Period-Luminosity-Metallicity and  Period-Wesenheit-Metallicity relations based on Gaia DR3 parallaxes**  |\n",
       "|| <mark>Joseph P. Mullen</mark>, et al. -- incl., <mark>Clara E. Martínez-Vázquez</mark> |\n",
       "|*Appeared on*| *2023-01-11*|\n",
       "|*Comments*| *Accepted by ApJ, 14 pages, 5 Figures, 2 Tables*|\n",
       "|**Abstract**| We present new empirical infrared Period-Luminosity-Metallicity (PLZ) and Period-Wesenheit-Metallicity (PWZ) relations for RR Lyrae based on the latest Gaia EDR3 parallaxes. The relations are provided in the WISE $W1$ and $W2$ bands, as well as in the $W(W1, V - W1)$ and $W(W2, V - W2)$ Wesenheit magnitudes. The relations are calibrated using a very large sample of Galactic halo field RR Lyrae stars with homogeneous spectroscopic [Fe/H] abundances (over 1,000 stars in the $W1$ band), covering a broad range of metallicities ($-2.5 \\lesssim \\textrm{[Fe/H]} \\lesssim 0.0$). We test the performance of our PLZ and PWZ relations by determining the distance moduli of both galactic and extragalactic stellar associations: the Sculptor dwarf spheroidal galaxy in the Local Group (finding $\\bar{\\mu}_{0}=19.47 \\pm 0.06$), the Galactic globular clusters M4 ($\\bar{\\mu}_{0}=11.16 \\pm 0.05$) and the Reticulum globular cluster in the Large Magellanic Cloud ($\\bar{\\mu}_{0}=18.23 \\pm 0.06$). The distance moduli determined through all our relations are internally self-consistent (within $\\lesssim$ 0.05 mag) but are systematically smaller (by $\\sim$ 2-3$\\sigma$) than previous literature measurements taken from a variety of methods/anchors. However, a comparison with similar recent RR Lyrae empirical relations anchored with EDR3 likewise shows to varying extents a systematically smaller distance modulus for PLZ/PWZ RR Lyrae relations. |\n",
       "|<p style=\"color:green\"> **ERROR** </p>| <p style=\"color:green\">affiliation error: mpia.affiliation_verifications: 'Heidelberg' keyword not found.</p> |"
      ],
      "text/plain": [
       "<IPython.core.display.Markdown object>"
      ]
     },
     "metadata": {},
     "output_type": "display_data"
    },
    {
     "data": {
      "text/markdown": [
       "\n",
       "|||\n",
       "|---:|:---|\n",
       "| [![arXiv](https://img.shields.io/badge/arXiv-arXiv:2301.03864-b31b1b.svg)](https://arxiv.org/abs/arXiv:2301.03864) | **MeerKAT discovery of 13 new pulsars in Omega Centauri**  |\n",
       "|| W. Chen, et al. -- incl., <mark>M. Kramer</mark> |\n",
       "|*Appeared on*| *2023-01-11*|\n",
       "|*Comments*| **|\n",
       "|**Abstract**| The most massive globular cluster in our Galaxy, Omega Centauri, is an interesting target for pulsar searches, because of its multiple stellar populations and the intriguing possibility that it was once the nucleus of a galaxy that was absorbed into the Milky Way. The recent discoveries of pulsars in this globular cluster and their association with known X-ray sources was a hint that, given the large number of known X-ray sources, there is a much larger undiscovered pulsar population. We used the superior sensitivity of the MeerKAT radio telescope to search for pulsars in Omega Centauri. In this paper, we present some of the first results of this survey, including the discovery of 13 new pulsars; the total number of known pulsars in this cluster currently stands at 18. At least half of them are in binary systems and preliminary orbital constraints suggest that most of the binaries have light companions. We also discuss the ratio between isolated and binaries pulsars and how they were formed in this cluster. |\n",
       "|<p style=\"color:green\"> **ERROR** </p>| <p style=\"color:green\">affiliation error: mpia.affiliation_verifications: 'Heidelberg' keyword not found.</p> |"
      ],
      "text/plain": [
       "<IPython.core.display.Markdown object>"
      ]
     },
     "metadata": {},
     "output_type": "display_data"
    },
    {
     "data": {
      "text/markdown": [
       "\n",
       "|||\n",
       "|---:|:---|\n",
       "| [![arXiv](https://img.shields.io/badge/arXiv-arXiv:2301.03932-b31b1b.svg)](https://arxiv.org/abs/arXiv:2301.03932) | **Discovery of dusty sub-solar mass young stellar objects in NGC 346 with  JWST/NIRCam**  |\n",
       "|| Olivia C. Jones, et al. -- incl., <mark>Margaret Meixner</mark> |\n",
       "|*Appeared on*| *2023-01-11*|\n",
       "|*Comments*| *17 pages, 2 figures, Submitted*|\n",
       "|**Abstract**| {\\it JWST} observations of NGC 346, a star-forming region in the metal-poor Small Magellanic Cloud, reveal a substantial population of sub-solar mass young stellar objects (YSOs) with IR excess. We have detected more than 33,000 sources across six NIRCam filters with deep, high-resolution imaging, where ongoing low-mass star formation is concentrated along dust filaments. From these observations, we construct detailed near-IR colour-magnitude diagrams with which preliminary classifications of different YSO classes are made. For the youngest, most deeply embedded objects, {\\em JWST}/NIRCam reaches over 10 magnitudes below {\\em Spitzer} observations at comparable wavelengths, and two magnitudes fainter than {\\em HST} for more evolved pre main sequence sources, corresponding to $\\sim$0.1~\\Msun. For the first time in an extragalactic environment, we detect the full sequence of low-mass YSOs at all evolutionary phases. Furthermore, evidence of IR excess and accretion suggests that the dust required for rocky planet formation is present at low metallicities. |\n",
       "|<p style=\"color:green\"> **ERROR** </p>| <p style=\"color:green\">affiliation error: mpia.affiliation_verifications: 'Heidelberg' keyword not found.</p> |"
      ],
      "text/plain": [
       "<IPython.core.display.Markdown object>"
      ]
     },
     "metadata": {},
     "output_type": "display_data"
    },
    {
     "data": {
      "text/markdown": [
       "\n",
       "|||\n",
       "|---:|:---|\n",
       "| [![arXiv](https://img.shields.io/badge/arXiv-arXiv:2301.03939-b31b1b.svg)](https://arxiv.org/abs/arXiv:2301.03939) | **Can decaying dark matter models be a solution to the $S_8$ tension from  the thermal Sunyaev-Zel'dovich effect?**  |\n",
       "|| Hideki Tanimura, Marian Douspis, Nabila Aghanim, <mark>Joseph Kuruvilla</mark> |\n",
       "|*Appeared on*| *2023-01-11*|\n",
       "|*Comments*| *8 pages, 5 figures*|\n",
       "|**Abstract**| Considering possible solutions to the $S_8$ tension between the Planck cosmic microwave background (CMB) measurement and low-redshift probes, we extended the standard $\\Lambda$CDM cosmological model by including decay of dark matter (DDM). We first tested the DDM model in which dark matter decays into a form of non-interacting dark radiation. Under this DDM model, we investigated the DDM's impacts on the Sunyaev Zel'dovich effect by varying the decay lifetime, $\\Gamma^{-1}$, including the background evolution in cosmology and non-linear prescription in the halo mass function. We performed a cosmological analysis under the assumption of this extended cosmological model by combining the latest high-redshift Planck CMB measurement and low-redshift SZ measurement. Our result shows a preference for $\\Gamma^{-1} \\sim 200$ Gyr with a lower bound on the decay lifetime of $\\sim$ 77 Gyr at 95\\% confidence level. However, the CMB data do not prefer this model, and the $S_8$ tension still remains. Additionally, we tested the other DDM model in which dark matter decays into warm dark matter and dark radiation. This model supports $\\Gamma^{-1} \\sim 204$ Gyr to resolve the $S_8$ tension with a lower bound on the decay lifetime of $\\sim$ 47 Gyr at 95\\% confidence level. |\n",
       "|<p style=\"color:green\"> **ERROR** </p>| <p style=\"color:green\">affiliation error: mpia.affiliation_verifications: 'Heidelberg' keyword not found.</p> |"
      ],
      "text/plain": [
       "<IPython.core.display.Markdown object>"
      ]
     },
     "metadata": {},
     "output_type": "display_data"
    },
    {
     "data": {
      "text/markdown": [
       "\n",
       "|||\n",
       "|---:|:---|\n",
       "| [![arXiv](https://img.shields.io/badge/arXiv-arXiv:2301.03961-b31b1b.svg)](https://arxiv.org/abs/arXiv:2301.03961) | **A Spectroscopic Analysis of a Sample of K2 Planet-Host Stars: Stellar  Parameters, Metallicities and Planetary Radii**  |\n",
       "|| V. Loaiza-Tacuri, et al. -- incl., <mark>Verne V. Smith</mark> |\n",
       "|*Appeared on*| *2023-01-11*|\n",
       "|*Comments*| *35 pages, 17 figures*|\n",
       "|**Abstract**| The physical properties of transiting exoplanets are connected with the physical properties of their host stars. We present a homogeneous spectroscopic analysis based on spectra of FGK-type stars observed with the Hydra spectrograph on the WIYN telescope. We derived effective temperatures, surface gravities, and metallicities, for 81 stars observed by K2 and 33 from Kepler 1. We constructed an Fe I and II line list that is adequate for the analysis of R$\\sim$18,000 spectra covering 6050-6350 \\r{A} and adopted the spectroscopic technique based on equivalent width measurements. The calculations were done in LTE using Kurucz model atmospheres and the qoyllur-quipu (q$^2$) package. We validated our methodology via analysis of a benchmark solar twin and solar proxies, which are used as the solar reference. We estimated the effects that including Zeeman sensitive Fe I lines have on the derived stellar parameters for young and possibly active stars in our sample and found it not to be significant. Stellar masses and radii were derived by combining the stellar parameters with Gaia EDR3 and V magnitudes and isochrones. The measured stellar radii have 4.2\\% median internal precision, leading to a median internal uncertainty of 4.4\\% in the derived planetary radii. With our sample of 83 confirmed planets orbiting K2 host stars, the radius gap near R$_{planet}1.9R{_\\plus}$ is detected, in agreement with previous findings. Relations between the planetary radius, orbital period and metallicity are explored and these also confirm previous findings for Kepler 1 systems. |\n",
       "|<p style=\"color:green\"> **ERROR** </p>| <p style=\"color:green\">affiliation error: mpia.affiliation_verifications: 'Heidelberg' keyword not found.</p> |"
      ],
      "text/plain": [
       "<IPython.core.display.Markdown object>"
      ]
     },
     "metadata": {},
     "output_type": "display_data"
    },
    {
     "data": {
      "text/markdown": [
       "\n",
       "|||\n",
       "|---:|:---|\n",
       "| [![arXiv](https://img.shields.io/badge/arXiv-arXiv:2301.04002-b31b1b.svg)](https://arxiv.org/abs/arXiv:2301.04002) | **X-ray Polarimetry for Black Hole Spin Measurements]{X-ray Polarimetry as  a Tool to Measure the Black Hole Spin in Microquasars: Simulations of IXPE  Capabilities**  |\n",
       "|| Romana Mikusincova, et al. -- incl., <mark>Wenda Zhang</mark> |\n",
       "|*Appeared on*| *2023-01-11*|\n",
       "|*Comments*| *11 pages, 10 figures*|\n",
       "|**Abstract**| Measurements of the angular momentum (spin) of astrophysical black holes are extremely important, as they provide information on the black hole formation and evolution. We present simulated observations of a X-ray binary system with the Imaging X-ray Polarimetry Explorer (IXPE), with the aim to study the robustness of black hole spin and geometry measurements using X-ray polarimetry. As a representative example, we used the parameters of GRS 1915+105 in its former unobscured, soft state. In order to simulate the polarization properties, we modeled the source emission with a multicolor blackbody accounting for thermal radiation from the accretion disk, including returning radiation. Our analysis shows that the polarimetric observations in the X-ray waveband will be able to estimate both spin and inclination of the system with a good precision (without returning radiation we obtained for the lowest spin $\\Delta a \\leq 0.4$ (0.4/0.998 $\\sim$ 40 \\%) for spin and $\\Delta i \\leq 30^\\circ$ (30$^\\circ$/70$^\\circ$ $\\sim$ 43\\%) for inclination, while for the higher spin values we obtained $\\Delta a \\leq 0.12$ ($\\sim$ 12 \\%) for spin and $\\Delta i \\leq 20^\\circ$ ($ \\sim $ 29\\%) for inclination, within 1$ \\sigma $ errors). When focusing on the case of returning radiation and treating inclination as a known parameter, we were able to successfully reconstruct spin and disk albedo in $\\Delta a \\leq 0.15$ ($\\sim$ 15 \\%) interval and $\\Delta$ albedo $\\leq 0.45$ (45 \\%) intervals within 1$ \\sigma $ errors. We conclude that X-ray polarimetry will be a useful tool to constrain black hole spins, in addition to timing and spectral-fitting methods. |\n",
       "|<p style=\"color:green\"> **ERROR** </p>| <p style=\"color:green\">affiliation error: mpia.affiliation_verifications: 'Heidelberg' keyword not found.</p> |"
      ],
      "text/plain": [
       "<IPython.core.display.Markdown object>"
      ]
     },
     "metadata": {},
     "output_type": "display_data"
    },
    {
     "data": {
      "text/markdown": [
       "\n",
       "|||\n",
       "|---:|:---|\n",
       "| [![arXiv](https://img.shields.io/badge/arXiv-arXiv:2301.04055-b31b1b.svg)](https://arxiv.org/abs/arXiv:2301.04055) | **PSR~J1910$-$5959A: A rare gravitational laboratory for testing white  dwarf models**  |\n",
       "|| A. Corongiu, et al. -- incl., <mark>M. Kramer</mark> |\n",
       "|*Appeared on*| *2023-01-11*|\n",
       "|*Comments*| *18 pages, 12 figures. Abstract shortened and rephrased because of arXiv characters limits. Accepted for publication on A&A on January 9th 2023*|\n",
       "|**Abstract**| PSRJ1910-5959A (J1910A) is a binary millisecond pulsar in a 0.837 day circular orbit around a helium white dwarf (HeWD) companion. This pulsar is located 6.3 arcmin away from the centre of the globular cluster NGC6752. Given the large offset, the association of the pulsar to NGC6752 has been debated. We have made use of two decades of archival Parkes 64-m \"Murriyang\" telescope data and recently carried out observations with the MeerKAT telescope. We obtained Pulse times of arrival using standard data reduction techniques and analysed using Bayesian pulsar timing techniques. We analysed the pulsar's total intensity and polarisation profile, to study the interstellar scattering along the line of sight, and the pulsar's geometry by applying the rotating vector model. We obtain precise measurements of several post-Keplerian parameters: the range $r=0.202(6)T_\\odot$ and shape s=0.999823(4) of the Shapiro delay, from which we infer the orbital inclination to be $88.9^{+0.15}_{-0.14}\\deg$ and the masses of both the pulsar and the companion to be $1.55(7)M_{\\odot}$ and $0.202(6)M_{\\odot}$ respectively; a secular change in the orbital period $\\dot{P}_{\\rm b}=-53^{+7.4}_{-6.0}\\times 10^{-15}$\\,s\\,s$^{-1}$ that proves the association to NGGC6752 and a secular change in the projected semi-major axis of the pulsar $\\dot{x}= -40.7^{+7.3}_{-8.2}\\times10^{-16}$\\,s\\,s$^{-1}$ that is likely caused by the spin-orbit interaction from a misaligned HeWD spin, at odds with the likely isolated binary evolution of the system. We also discuss some theoretical models for the structure and evolution of WDs in NS-WD binaries by using J1910A's companion as a test bed. J1910A is a rare system for which several parameters of both the pulsar and the HeWD companion can be accurately measured. As such, it is a test bed to discriminate between alternative models for HeWD structure and cooling. |\n",
       "|<p style=\"color:green\"> **ERROR** </p>| <p style=\"color:green\">affiliation error: mpia.affiliation_verifications: 'Heidelberg' keyword not found.</p> |"
      ],
      "text/plain": [
       "<IPython.core.display.Markdown object>"
      ]
     },
     "metadata": {},
     "output_type": "display_data"
    },
    {
     "data": {
      "text/markdown": [
       "\n",
       "|||\n",
       "|---:|:---|\n",
       "| [![arXiv](https://img.shields.io/badge/arXiv-arXiv:2301.04056-b31b1b.svg)](https://arxiv.org/abs/arXiv:2301.04056) | **Reverberation of pulsar wind nebulae (II): Anatomy of the \"thin-shell''  evolution**  |\n",
       "|| R. Bandiera, et al. -- incl., <mark>D. F. Torres</mark> |\n",
       "|*Appeared on*| *2023-01-11*|\n",
       "|*Comments*| *23 pages, 20 figures*|\n",
       "|**Abstract**| During its early evolution, a pulsar wind nebula (PWN) sweeps the inner part of the supernova ejecta and forms a thin massive shell. Later on, when the shell has been reached by the reverse shock of the supernova remnant, the evolution becomes more complex, in most cases reverting the expansion into a compression: this later phase is called \"reverberation\". Computations done so far to understand this phase have been mostly performed in the thin-shell approximation, where the evolution of the PWN radius is assimilated to that of the swept-up shell under the effect of both the inner pressure from the PWN, and the outer pressure from the supernova remnant. Despite the thin-shell approach seems rather justifiable, its implementations have so far been inaccurate, and its correctness, never tested. The outer pressure was naively assumed to be scaled according to the Sedov solution (or a constant fraction of it) along the entire evolution. The thin-shell assumption itself fails along the process, being the shell no longer thin in comparison with the size of the PWN. Here, through a combination of numerical models, dimensional arguments, and analytic approximations, we present a detailed analysis of the interaction of the PWN with the supernova remnant. We provide a new analytic approximation of the outer pressure, beyond the Sedov solution, and a revised \"thin-shell\" able to reproduce results from numerical simulations. Finally, we compute the efficiency by which the PWN is compressed during reverberation over a wide population of sources. |\n",
       "|<p style=\"color:green\"> **ERROR** </p>| <p style=\"color:green\">affiliation error: mpia.affiliation_verifications: 'Heidelberg' keyword not found.</p> |"
      ],
      "text/plain": [
       "<IPython.core.display.Markdown object>"
      ]
     },
     "metadata": {},
     "output_type": "display_data"
    },
    {
     "data": {
      "text/markdown": [
       "\n",
       "|||\n",
       "|---:|:---|\n",
       "| [![arXiv](https://img.shields.io/badge/arXiv-arXiv:2301.04081-b31b1b.svg)](https://arxiv.org/abs/arXiv:2301.04081) | **Two Different Weak Modulations in ab-type RR Lyrae Variable V838 Cyg,  and Potential Influence of Metal Abundance on Blazhko Modulation**  |\n",
       "|| <mark>L. -J. Li</mark>, S. -B. Qian, X. -D. Shi, L. -Y. Zhu |\n",
       "|*Appeared on*| *2023-01-11*|\n",
       "|*Comments*| *18 pages, 13 figures*|\n",
       "|**Abstract**| Noting the weakest modulation and relatively high metal abundance of the ab type RR Lyrae star V838 Cyg, we collected the photometric data of this star in several sky surveys to carry out an in-depth analysis. The O-C diagram shows that the pulsation period of V838 Cyg increases linearly on the large time scale. In the reanalysis of the high-precision Kepler data, we confirmed the modulation with the period of 59.45\\pm0.04 days found earlier, and also found an additional weak modulation with a longer period (840\\pm21 days). After a series of analyses, we incline to the view that the mechanisms leading the two modulations are different: the former is more similar to the typical Blazhko effect, while the mechanism leading to the latter may be an extrinsic factor. We also collected and compared the modulation and physical parameters of other Blazhko RR Lyrae stars from several works of literature, and find that there is a potential negative correlation between the modulation amplitude (or upper limit of amplitude) and the metal abundance. We infer that the relative metal-rich will promote the convection in the outer stellar atmosphere, and then inhibit those factors (turbulence, shock wave, etc.) that may cause Blazhko modulation. Future observations and research work can be carried out with reference to this viewpoint. |\n",
       "|<p style=\"color:green\"> **ERROR** </p>| <p style=\"color:green\">affiliation error: mpia.affiliation_verifications: 'Heidelberg' keyword not found.</p> |"
      ],
      "text/plain": [
       "<IPython.core.display.Markdown object>"
      ]
     },
     "metadata": {},
     "output_type": "display_data"
    },
    {
     "data": {
      "text/markdown": [
       "\n",
       "|||\n",
       "|---:|:---|\n",
       "| [![arXiv](https://img.shields.io/badge/arXiv-arXiv:2301.04087-b31b1b.svg)](https://arxiv.org/abs/arXiv:2301.04087) | **The Low-Redshift Lyman Continuum Survey: Optically Thin and Thick Mg II  Lines as Probes of Lyman Continuum Escape**  |\n",
       "|| Xinfeng Xu, et al. -- incl., <mark>Alaina Henry</mark>, <mark>Timothy Heckman</mark> |\n",
       "|*Appeared on*| *2023-01-11*|\n",
       "|*Comments*| *12 pages, 5 figures, 2 tables, accepted to ApJ*|\n",
       "|**Abstract**| The Mg II 2796, 2803 doublet has been suggested to be a useful indirect indicator for the escape of Ly-alpha and Lyman continuum (LyC) photons in local star-forming galaxies. However, studies to date have focused on small samples of galaxies with strong Mg II or strong LyC emission. Here we present the first study of Mg II probing a large dynamic range of galaxy properties, using newly obtained high signal-to-noise, moderate-resolution spectra of Mg II for a sample of 34 galaxies selected from the Low-redshift Lyman Continuum Survey. We show that the galaxies in our sample have Mg II profiles ranging from strong emission to P-Cygni profiles, and to pure absorption. We find there is a significant trend (with a possibility of spurious correlations of ~ 2%) that galaxies detected as strong LyC Emitters (LCEs) also show larger equivalent widths of Mg II emission, and non-LCEs tend to show evidence of more scattering and absorption features in Mg II We then find Mg II strongly correlates with Ly-alpha in both equivalent width and escape fraction, regardless of whether the emission or absorption dominates the Mg II profiles. Furthermore, we present that, for galaxies categorized as Mg II emitters (MgE), one can adopt the information of Mg II, metallicity, and dust to estimate the escape fraction of LyC within a factor of 3. These findings confirm that Mg II lines can be used as a tool to select galaxies as LCEs and to serve as an indirect indicator for the escape of Ly-alpha and LyC. |\n",
       "|<p style=\"color:green\"> **ERROR** </p>| <p style=\"color:green\">affiliation error: mpia.affiliation_verifications: 'Heidelberg' keyword not found.</p> |"
      ],
      "text/plain": [
       "<IPython.core.display.Markdown object>"
      ]
     },
     "metadata": {},
     "output_type": "display_data"
    }
   ],
   "source": [
    "import datetime\n",
    "today = str(datetime.date.today())\n",
    "logfile = f\"_build/html/logs/log-{today}.md\"\n",
    "\n",
    "\n",
    "with open(logfile, 'w') as logs:\n",
    "    # Success\n",
    "    logs.write(f'# Arxiv on Deck 2: Logs - {today}\\n\\n')\n",
    "    logs.write(\"\"\"* Arxiv had {0:,d} new papers\\n\"\"\".format(len(new_papers)))\n",
    "    logs.write(\"\"\"    * {0:,d} with possible author matches\\n\\n\"\"\".format(len(candidates)))\n",
    "    logs.write(\"## Sucessful papers\\n\\n\")\n",
    "    display(Markdown(\"## Successful papers\"))\n",
    "    success = [k[0] for k in documents]\n",
    "    for candid in candidates:\n",
    "        if candid['identifier'].split(':')[-1] in success:\n",
    "            display(candid)\n",
    "            logs.write(candid.generate_markdown_text() + '\\n\\n')\n",
    "\n",
    "    ## failed\n",
    "    logs.write(\"## Failed papers\\n\\n\")\n",
    "    display(Markdown(\"## Failed papers\"))\n",
    "    failed = sorted(failed, key=lambda x: x[1])\n",
    "    current_reason = \"\"\n",
    "    for paper, reason in failed:\n",
    "        if 'affiliation' in reason:\n",
    "            color = 'green'\n",
    "        else:\n",
    "            color = 'red'\n",
    "        data = Markdown(\n",
    "                paper.generate_markdown_text() + \n",
    "                f'\\n|<p style=\"color:{color:s}\"> **ERROR** </p>| <p style=\"color:{color:s}\">{reason:s}</p> |'\n",
    "               )\n",
    "        if reason != current_reason:\n",
    "            logs.write(f'### {reason:s} \\n\\n')\n",
    "            current_reason = reason\n",
    "        logs.write(data.data + '\\n\\n')\n",
    "        \n",
    "        # only display here the important errors (all in logs)\n",
    "        # if color in ('red',):\n",
    "        display(data)"
   ]
  },
  {
   "cell_type": "markdown",
   "id": "472d20ee",
   "metadata": {
    "papermill": {
     "duration": 0.014375,
     "end_time": "2023-01-11T04:09:53.302634",
     "exception": false,
     "start_time": "2023-01-11T04:09:53.288259",
     "status": "completed"
    },
    "tags": []
   },
   "source": [
    "## Export documents\n",
    "\n",
    "We now write the .md files and export relevant images"
   ]
  },
  {
   "cell_type": "code",
   "execution_count": 7,
   "id": "d426aed9",
   "metadata": {
    "execution": {
     "iopub.execute_input": "2023-01-11T04:09:53.335779Z",
     "iopub.status.busy": "2023-01-11T04:09:53.334410Z",
     "iopub.status.idle": "2023-01-11T04:09:53.346084Z",
     "shell.execute_reply": "2023-01-11T04:09:53.345214Z"
    },
    "papermill": {
     "duration": 0.031084,
     "end_time": "2023-01-11T04:09:53.348289",
     "exception": false,
     "start_time": "2023-01-11T04:09:53.317205",
     "status": "completed"
    },
    "tags": []
   },
   "outputs": [],
   "source": [
    "def export_markdown_summary(md: str, md_fname:str, directory: str):\n",
    "    \"\"\"Export MD document and associated relevant images\"\"\"\n",
    "    import os\n",
    "    import shutil\n",
    "    import re\n",
    "\n",
    "    if (os.path.exists(directory) and not os.path.isdir(directory)):\n",
    "        raise RuntimeError(f\"a non-directory file exists with name {directory:s}\")\n",
    "\n",
    "    if (not os.path.exists(directory)):\n",
    "        print(f\"creating directory {directory:s}\")\n",
    "        os.mkdir(directory)\n",
    "\n",
    "    fig_fnames = (re.compile(r'\\[Fig.*\\]\\((.*)\\)').findall(md) + \n",
    "                  re.compile(r'\\<img src=\"([^>\\s]*)\"[^>]*/>').findall(md))\n",
    "    for fname in fig_fnames:\n",
    "        if 'http' in fname:\n",
    "            # No need to copy online figures\n",
    "            continue\n",
    "        destdir = os.path.join(directory, os.path.dirname(fname))\n",
    "        destfname = os.path.join(destdir, os.path.basename(fname))\n",
    "        try:\n",
    "            os.makedirs(destdir)\n",
    "        except FileExistsError:\n",
    "            pass\n",
    "        shutil.copy(fname, destfname)\n",
    "    with open(os.path.join(directory, md_fname), 'w') as fout:\n",
    "        fout.write(md)\n",
    "    print(\"exported in \", os.path.join(directory, md_fname))\n",
    "    [print(\"    + \" + os.path.join(directory,fk)) for fk in fig_fnames]"
   ]
  },
  {
   "cell_type": "code",
   "execution_count": 8,
   "id": "014d04a4",
   "metadata": {
    "execution": {
     "iopub.execute_input": "2023-01-11T04:09:53.380402Z",
     "iopub.status.busy": "2023-01-11T04:09:53.380050Z",
     "iopub.status.idle": "2023-01-11T04:09:53.399350Z",
     "shell.execute_reply": "2023-01-11T04:09:53.398664Z"
    },
    "papermill": {
     "duration": 0.044194,
     "end_time": "2023-01-11T04:09:53.407835",
     "exception": false,
     "start_time": "2023-01-11T04:09:53.363641",
     "status": "completed"
    },
    "tags": []
   },
   "outputs": [
    {
     "name": "stdout",
     "output_type": "stream",
     "text": [
      "exported in  _build/html/2301.03689.md\n",
      "    + _build/html/tmp_2301.03689/./sed_2_halpha_vs_co_jun_11_2022.png\n",
      "    + _build/html/tmp_2301.03689/./7plot_ngc1365.png\n",
      "    + _build/html/tmp_2301.03689/./sinan_2plot_dec_6_2022.png\n",
      "exported in  _build/html/2301.03811.md\n",
      "    + _build/html/tmp_2301.03811/./atlas_full/IC5332_muse_nebulae.png\n",
      "    + _build/html/tmp_2301.03811/./figures/Figure_global_metal.png\n",
      "    + _build/html/tmp_2301.03811/./figures/IC5332_38_spectralfit.png\n"
     ]
    }
   ],
   "source": [
    "for paper_id, md in documents:\n",
    "    export_markdown_summary(md, f\"{paper_id:s}.md\", '_build/html/')"
   ]
  },
  {
   "cell_type": "markdown",
   "id": "f087a0a7",
   "metadata": {
    "papermill": {
     "duration": 0.058025,
     "end_time": "2023-01-11T04:09:53.483004",
     "exception": false,
     "start_time": "2023-01-11T04:09:53.424979",
     "status": "completed"
    },
    "tags": []
   },
   "source": [
    "## Display the papers\n",
    "\n",
    "Not necessary but allows for a quick check."
   ]
  },
  {
   "cell_type": "code",
   "execution_count": 9,
   "id": "fd25f625",
   "metadata": {
    "execution": {
     "iopub.execute_input": "2023-01-11T04:09:53.515356Z",
     "iopub.status.busy": "2023-01-11T04:09:53.514378Z",
     "iopub.status.idle": "2023-01-11T04:09:53.523132Z",
     "shell.execute_reply": "2023-01-11T04:09:53.522276Z"
    },
    "papermill": {
     "duration": 0.026235,
     "end_time": "2023-01-11T04:09:53.524849",
     "exception": false,
     "start_time": "2023-01-11T04:09:53.498614",
     "status": "completed"
    },
    "scrolled": false,
    "tags": []
   },
   "outputs": [
    {
     "data": {
      "text/markdown": [
       "<div class=\"macros\" style=\"visibility:hidden;\">\n",
       "$\\newcommand{\\ensuremath}{}$\n",
       "$\\newcommand{\\xspace}{}$\n",
       "$\\newcommand{\\object}[1]{\\texttt{#1}}$\n",
       "$\\newcommand{\\farcs}{{.}''}$\n",
       "$\\newcommand{\\farcm}{{.}'}$\n",
       "$\\newcommand{\\arcsec}{''}$\n",
       "$\\newcommand{\\arcmin}{'}$\n",
       "$\\newcommand{\\ion}[2]{#1#2}$\n",
       "$\\newcommand{\\textsc}[1]{\\textrm{#1}}$\n",
       "$\\newcommand{\\hl}[1]{\\textrm{#1}}$\n",
       "$\\newcommand{\\kms}{ km s^{-1}}$\n",
       "$\\newcommand{\\bibtex}{\\textsc{Bib}\\!\\TeX}$\n",
       "$\\newcommand{\\ngal}{ 17 }$\n",
       "$\\newcommand{\\lea}{\\mathrel{<\\kern-1.0em\\lower0.9ex\\hbox{\\sim}}}$\n",
       "$\\newcommand{\\gea}{\\mathrel{>\\kern-1.0em\\lower0.9ex\\hbox{\\sim}}}$</div>\n",
       "\n",
       "<div class=\"macros\" style=\"visibility:hidden;\">\n",
       "$\\newcommand{$\\ensuremath$}{}$\n",
       "$\\newcommand{$\\xspace$}{}$\n",
       "$\\newcommand{$\\object$}[1]{\\texttt{#1}}$\n",
       "$\\newcommand{$\\farcs$}{{.}''}$\n",
       "$\\newcommand{$\\farcm$}{{.}'}$\n",
       "$\\newcommand{$\\arcsec$}{''}$\n",
       "$\\newcommand{$\\arcmin$}{'}$\n",
       "$\\newcommand{$\\ion$}[2]{#1#2}$\n",
       "$\\newcommand{$\\textsc$}[1]{\\textrm{#1}}$\n",
       "$\\newcommand{$\\hl$}[1]{\\textrm{#1}}$\n",
       "$\\newcommand{$\\kms$}{ km s^{-1}}$\n",
       "$\\newcommand{$\\bibtex$}{$\\textsc${Bib}\\!\\TeX}$\n",
       "$\\newcommand{$\\ngal$}{ 17 }$\n",
       "$\\newcommand{$\\lea$}{\\mathrel{<\\kern-1.0em\\lower0.9ex\\hbox{\\sim}}}$\n",
       "$\\newcommand{$\\gea$}{\\mathrel{>\\kern-1.0em\\lower0.9ex\\hbox{\\sim}}}$</div>\n",
       "\n",
       "\n",
       "\n",
       "<div id=\"title\">\n",
       "\n",
       "# Improving Star Cluster Age Estimates in PHANGS-HST Galaxies andthe Impact on Cluster Demographics in NGC 628\n",
       "\n",
       "</div>\n",
       "<div id=\"comments\">\n",
       "\n",
       "[![arXiv](https://img.shields.io/badge/arXiv-2301.03689-b31b1b.svg)](https://arxiv.org/abs/2301.03689)<mark>Appeared on: 2023-01-11</mark> - _27 pages, 17 figures (NOTE: 1, 5, 9, 12, 14 are lower resolution than in the journal)_\n",
       "\n",
       "</div>\n",
       "<div id=\"authors\">\n",
       "\n",
       "Bradley C. Whitmore, et al. -- incl., <mark><mark>Janice C. Lee</mark></mark>, <mark><mark>James Lilly</mark></mark>, <mark><mark>Kiana Henny</mark></mark>, <mark><mark>Frank Bigiel</mark></mark>, <mark><mark>Stephen Hannon</mark></mark>, <mark><mark>Kathryn Kreckel</mark></mark>, <mark><mark>Francesca Pinna</mark></mark>, <mark><mark>Eva Schinnerer</mark></mark>\n",
       "\n",
       "</div>\n",
       "<div id=\"abstract\">\n",
       "\n",
       "**Abstract:** A long-standing problem when deriving the physical properties of stellar populationsis the degeneracy between age, reddening, and metallicity.When a single metallicity is usedfor all star clusters in a galaxy, this degeneracy can result in \"catastrophic\" errors for old globular clusters.Typically, approximately 10 -- 20\\%of all clusters detected in spiral galaxies can have ages that are incorrect by a factor of ten or more.In this paper we presenta pilot study for four galaxies (NGC 628, NGC 1433, NGC 1365, and NGC 3351) from the PHANGS-HST survey. We describemethods to correct the age-dating for old globular clusters, by first identifying candidatesusing their colors, and then reassigning ages and reddening  based on a lower metallicity  solution.We find that young `Interlopers' can be identified from their  H$\\alpha$flux. CO (2-1) intensity or the presence of dust can also be used, but our tests show that they do not work as well. Improvements in the success fraction are possible at the$\\approx15$\\%level (reducing the fraction of catastrophic age-estimates from  between 13 - 21\\%to 3 - 8\\%).A large fraction of the incorrectly age-dated globular clusters are systematically given ages around 100 Myr, polluting the  younger populations as well.Incorrectly age-dated globular clusters significantly impact the observed cluster age distribution in NGC 628, which affects the physical interpretation of cluster disruption in this galaxy.For NGC 1365, we also demonstrate how to fix a second major age-dating problem,where very dusty young clusters with$E(B-V)>1.5$mag are assigned old, globular-cluster like ages.Finally, we note the discovery of a dense population of$\\approx300$Myr clusters around the central region of NGC 1365.and discuss how this results naturally from the dynamics in a barred galaxy.\n",
       "\n",
       "</div>\n",
       "\n",
       "<div id=\"div_fig1\">\n",
       "\n",
       "<img src=\"tmp_2301.03689/./sed_2_halpha_vs_co_jun_11_2022.png\" alt=\"Fig14\" width=\"100%\"/>\n",
       "\n",
       "**Figure 14. -** \n",
       "Measured   H$\\alpha$ flux vs. CO intensity for the clusters in our four sample galaxies. In each panel, the green line shows where objects appear to be associated with  the faintest HII regions and the yellow lines shows the corresponding line for the CO flux of the same HII regions. These lines provide estimates of where the line should be set to determine whether an objects is an interloper, i.e., a young objects with enough dust that it has colors appropriate for an old globular cluster. Snapshots of various objects are included to illustrate various points in the text. The three snapshots are Hubble images using B-V-I  (top), B-V-H$\\alpha$(middle) and B-V-CO (bottom) images. The units for  H$\\alpha$ flux are  10$^{-18}$ erg/s/cm$^2$/pixel and for CO intensity are K km s$^{-1}$. (*fig:co_halpha_4plot*)\n",
       "\n",
       "</div>\n",
       "<div id=\"div_fig2\">\n",
       "\n",
       "<img src=\"tmp_2301.03689/./7plot_ngc1365.png\" alt=\"Fig12\" width=\"100%\"/>\n",
       "\n",
       "**Figure 12. -** Similar to Figure \\ref{fig:7plot-n1433} for NGC 1365. The primary difference is that the hybrid OGC/high-red solution is shown rather than the OGC-box and VI-limit solutions. In addition, the OGC-box is smaller, and green points are used to show  the high-red clusters. See text for details.  (*fig:7plot-n1365*)\n",
       "\n",
       "</div>\n",
       "<div id=\"div_fig3\">\n",
       "\n",
       "<img src=\"tmp_2301.03689/./sinan_2plot_dec_6_2022.png\" alt=\"Fig6\" width=\"100%\"/>\n",
       "\n",
       "**Figure 6. -** Illustration of how the age/reddening/metallicity degeneracy (left panel) can lead to the incorrect age-dating of old globular clusters, resulting in positions above a diagonal line in the log Age - $E(B-V)$ diagram (right panel). Using figures from \\citet{deger22} for 17 PHANGS galaxies as the base, the figure  shows how the mismatch between the location of the observations of old globular clusters (which have low metallicity)  and the pink SED track used for the prediction (solar metallicity) results in three different regions of poor fits, (i.e., $\\approx$ 3 Myr shown by the blue arrow and oval, $\\approx$ 100 Myr shown by the green arrow and oval, and $\\approx$ 1 Gyr shown by the  red arrow and  oval), rather than the correct solution at the end of the SED track at around 10 Gyr (i.e., log Age = 4).   (*fig:degen*)\n",
       "\n",
       "</div>"
      ],
      "text/plain": [
       "<IPython.core.display.Markdown object>"
      ]
     },
     "metadata": {},
     "output_type": "display_data"
    },
    {
     "data": {
      "text/markdown": [
       "<div class=\"macros\" style=\"visibility:hidden;\">\n",
       "$\\newcommand{\\ensuremath}{}$\n",
       "$\\newcommand{\\xspace}{}$\n",
       "$\\newcommand{\\object}[1]{\\texttt{#1}}$\n",
       "$\\newcommand{\\farcs}{{.}''}$\n",
       "$\\newcommand{\\farcm}{{.}'}$\n",
       "$\\newcommand{\\arcsec}{''}$\n",
       "$\\newcommand{\\arcmin}{'}$\n",
       "$\\newcommand{\\ion}[2]{#1#2}$\n",
       "$\\newcommand{\\textsc}[1]{\\textrm{#1}}$\n",
       "$\\newcommand{\\hl}[1]{\\textrm{#1}}$\n",
       "$\\newcommand{\\change}[1]{{\\color{red}#1}}$\n",
       "$\\newcommand{\\oiii}{[O \\textsc{iii}]}$\n",
       "$\\newcommand{\\nii}{[N \\textsc{ii}]}$\n",
       "$\\newcommand{\\sii}{[S \\textsc{ii}]}$\n",
       "$\\newcommand{\\oi}{[O \\textsc{i}]}$\n",
       "$\\newcommand{\\niion}{[N \\textsc{i}]}$\n",
       "$\\newcommand{\\hei}{[He \\textsc{i}]}$\n",
       "$\\newcommand{\\siii}{[S \\textsc{iii}]}$\n",
       "$\\newcommand{\\oii}{[O \\textsc{ii}]}$\n",
       "$\\newcommand{\\Mgb}{Mg\\textit{b}}$\n",
       "$\\newcommand{\\NaI}{Na \\textsc{I}}$\n",
       "$\\newcommand{\\hii}{H \\textsc{ii}}$\n",
       "$\\newcommand{\\ha}{\\mbox{\\rmn{H}\\alpha}}$\n",
       "$\\newcommand{\\hb}{\\mbox{\\rmn{H}\\beta}}$\n",
       "$\\newcommand{\\Rtwofive}{\\mbox{R_25}}$\n",
       "$\\newcommand{\\kms}{\\mathrm{km s}^{-1}}$\n",
       "$\\newcommand{\\re}{R_\\mathrm{e}}$\n",
       "$\\newcommand{\\Msun}{\\mathrm{M}_{\\sun}}$\n",
       "$\\newcommand{\\Lsun}{\\mathrm{L}_{\\sun}}$\n",
       "$\\newcommand{\\reff}{r_{\\rm eff}}$\n",
       "$\\newcommand{\\DAP}{{\\tt DAP}}$\n",
       "$\\newcommand{\\MAPS}{{\\tt MAPS}}$\n",
       "$\\newcommand{\\thebibliography}{\\DeclareRobustCommand{\\VAN}[3]{##3}\\VANthebibliography}$</div>\n",
       "\n",
       "<div class=\"macros\" style=\"visibility:hidden;\">\n",
       "$\\newcommand{$\\ensuremath$}{}$\n",
       "$\\newcommand{$\\xspace$}{}$\n",
       "$\\newcommand{$\\object$}[1]{\\texttt{#1}}$\n",
       "$\\newcommand{$\\farcs$}{{.}''}$\n",
       "$\\newcommand{$\\farcm$}{{.}'}$\n",
       "$\\newcommand{$\\arcsec$}{''}$\n",
       "$\\newcommand{$\\arcmin$}{'}$\n",
       "$\\newcommand{$\\ion$}[2]{#1#2}$\n",
       "$\\newcommand{$\\textsc$}[1]{\\textrm{#1}}$\n",
       "$\\newcommand{$\\hl$}[1]{\\textrm{#1}}$\n",
       "$\\newcommand{$\\change$}[1]{{\\color{red}#1}}$\n",
       "$\\newcommand{$\\oiii$}{[O $\\textsc${iii}]}$\n",
       "$\\newcommand{$\\nii$}{[N $\\textsc${ii}]}$\n",
       "$\\newcommand{$\\sii$}{[S $\\textsc${ii}]}$\n",
       "$\\newcommand{$\\oi$}{[O $\\textsc${i}]}$\n",
       "$\\newcommand{$\\nii$on}{[N $\\textsc${i}]}$\n",
       "$\\newcommand{$\\hei$}{[He $\\textsc${i}]}$\n",
       "$\\newcommand{$\\sii$i}{[S $\\textsc${iii}]}$\n",
       "$\\newcommand{$\\oi$i}{[O $\\textsc${ii}]}$\n",
       "$\\newcommand{$\\Mgb$}{Mg\\textit{b}}$\n",
       "$\\newcommand{$\\NaI$}{Na $\\textsc${I}}$\n",
       "$\\newcommand{$\\hii$}{H $\\textsc${ii}}$\n",
       "$\\newcommand{$\\ha$}{\\mbox{\\rmn{H}\\alpha}}$\n",
       "$\\newcommand{$\\hb$}{\\mbox{\\rmn{H}\\beta}}$\n",
       "$\\newcommand{$\\Rtwofive$}{\\mbox{R_25}}$\n",
       "$\\newcommand{$\\kms$}{\\mathrm{km s}^{-1}}$\n",
       "$\\newcommand{$\\re$}{R_\\mathrm{e}}$\n",
       "$\\newcommand{$\\Msun$}{\\mathrm{M}_{\\sun}}$\n",
       "$\\newcommand{$\\Lsun$}{\\mathrm{L}_{\\sun}}$\n",
       "$\\newcommand{$\\re$ff}{r_{\\rm eff}}$\n",
       "$\\newcommand{$\\DAP$}{{\\tt DAP}}$\n",
       "$\\newcommand{$\\MAPS$}{{\\tt MAPS}}$\n",
       "$\\newcommand{$\\thebibliography$}{\\DeclareRobustCommand{\\VAN}[3]{##3}\\VANthebibliography}$</div>\n",
       "\n",
       "\n",
       "\n",
       "<div id=\"title\">\n",
       "\n",
       "# The PHANGS--MUSE Nebular Catalogue\n",
       "\n",
       "</div>\n",
       "<div id=\"comments\">\n",
       "\n",
       "[![arXiv](https://img.shields.io/badge/arXiv-2301.03811-b31b1b.svg)](https://arxiv.org/abs/2301.03811)<mark>Appeared on: 2023-01-11</mark> - _27 pages, accepted by MNRAS_\n",
       "\n",
       "</div>\n",
       "<div id=\"authors\">\n",
       "\n",
       "B. Groves, et al. -- incl., <mark><mark>K. Kreckel</mark></mark>, <mark><mark>E. Schinnerer</mark></mark>\n",
       "\n",
       "</div>\n",
       "<div id=\"abstract\">\n",
       "\n",
       "**Abstract:** Ionized nebulae provide critical insights into the conditions of the interstellar medium (ISM). Their bright emission lines enable the measurement of physical properties, such as the gas-phase metallicity, across galaxy disks and in distant galaxies. The PHANGS--MUSE survey has produced optical spectroscopic coverage of the central star-forming discs of 19 nearby main-sequence galaxies. Here, we use the$\\ha$morphology from this data to identify 30,790 distinct nebulae, finding thousands of nebulae per galaxy. For each nebula, we extract emission line fluxes and, using diagnostic line ratios, identify the dominant excitation mechanism. A total of23,244 nebulae (75\\%) are classified as$\\hii$regions. The dust attenuation of every nebulae is characterised via the Balmer decrement and we use existing environmental masks to identify their large scale galactic environment (centre, bar, arm, interarm and disc). Using strong-line prescriptions, we measure the gas-phase oxygen abundances (metallicity) and ionization parameter for all$\\hii$regions.  With this new catalogue, we measure the radial metallicity gradients and explore second order metallicity variations within each galaxy. By quantifying the global scatter in metallicity per galaxy, we find a weak negative correlation with global star formation rate and stronger negative correlation with global gas velocity dispersion (in both ionized and molecular gas). With this paper we release the full catalogue of strong line fluxes and derived properties, providing a rich database for a broad variety of ISM studies.\n",
       "\n",
       "</div>\n",
       "\n",
       "<div id=\"div_fig1\">\n",
       "\n",
       "<img src=\"tmp_2301.03811/./atlas_full/IC5332_muse_nebulae.png\" alt=\"Fig12\" width=\"100%\"/>\n",
       "\n",
       "**Figure 12. -** The spatial distribution of nebulae in the galaxy IC5332. The background greyscale image shows the $\\ha$ emission in log scale, and the colour of the nebulae indicates their intrinsic (dust corrected) $\\ha$ luminosity. (*fig:atlas_IC5332*)\n",
       "\n",
       "</div>\n",
       "<div id=\"div_fig2\">\n",
       "\n",
       "<img src=\"tmp_2301.03811/./figures/Figure_global_metal.png\" alt=\"Fig8\" width=\"100%\"/>\n",
       "\n",
       "**Figure 8. -** Correlations between the global scatter in metallicity ($\\sigma$(O/H)), after removing the first order radial gradient, as a function of galaxy integrated properties. In the top right of each plot we show the Pearson correlation coefficient of those quantities, $r$. The total stellar mass (M$_*$), total star formation rate (SFR), and gas fraction show weak or absent trends. More pronounced  correlations are seen with the ionized gas velocity dispersion, as measured across the full disc ($\\sigma_{\\rm H\\alpha, disc}$) or just the $\\hii$ regions ($\\sigma_{\\rm H\\alpha, HII}$), as well as with the molecular gas velocity dispersion ($\\sigma_{\\rm CO}$).   (*fig:global_scatter*)\n",
       "\n",
       "</div>\n",
       "<div id=\"div_fig3\">\n",
       "\n",
       "<img src=\"tmp_2301.03811/./figures/IC5332_38_spectralfit.png\" alt=\"Fig3\" width=\"100%\"/>\n",
       "\n",
       "**Figure 3. -** A nebula spectrum from IC5332 (region ID 38, $L_{$\\ha$}=10^{36.8}$ erg s$^{-1}$), showing a typical integrated spectrum (gold), including the underlying stellar (and weak nebula) continuum with clear strong emission and absorption lines (with the strong lines labelled) and visible residuals from the sky background subtraction. Overlaid is the resulting analysis pipeline fit from pPXF (blue dashed line), from which we extract the emission line fluxes and kinematics. The lower panel shows the relative residual of the spectral fit in indigo and relative spectral error in cyan ((Nebula-Fit)/Fit and error/fit, respectively). In the insert we show a zoom in of the $\\ha$ and $\\nii$ region, where the spectral lines can be seen more clearly. We also show the underlying continuum fit (dotted green line) revealing the underlying $\\ha$$_{\\rm abs}$ feature. (*fig:specfit*)\n",
       "\n",
       "</div>"
      ],
      "text/plain": [
       "<IPython.core.display.Markdown object>"
      ]
     },
     "metadata": {},
     "output_type": "display_data"
    }
   ],
   "source": [
    "[display(Markdown(k[1])) for k in documents];"
   ]
  },
  {
   "cell_type": "markdown",
   "id": "873873a4",
   "metadata": {
    "papermill": {
     "duration": 0.014799,
     "end_time": "2023-01-11T04:09:53.554646",
     "exception": false,
     "start_time": "2023-01-11T04:09:53.539847",
     "status": "completed"
    },
    "tags": []
   },
   "source": [
    "# Create HTML index"
   ]
  },
  {
   "cell_type": "code",
   "execution_count": 10,
   "id": "cf665672",
   "metadata": {
    "execution": {
     "iopub.execute_input": "2023-01-11T04:09:53.586159Z",
     "iopub.status.busy": "2023-01-11T04:09:53.585203Z",
     "iopub.status.idle": "2023-01-11T04:09:53.599001Z",
     "shell.execute_reply": "2023-01-11T04:09:53.598290Z"
    },
    "papermill": {
     "duration": 0.032354,
     "end_time": "2023-01-11T04:09:53.601442",
     "exception": false,
     "start_time": "2023-01-11T04:09:53.569088",
     "status": "completed"
    },
    "tags": []
   },
   "outputs": [
    {
     "name": "stdout",
     "output_type": "stream",
     "text": [
      "163  publications in the last 7 days.\n",
      "\t _build/html/2301.03811.md\n",
      "\t _build/html/2301.03689.md\n",
      "\t _build/html/2301.03387.md\n",
      "\t _build/html/2301.03209.md\n",
      "\t _build/html/2301.02671.md\n",
      "\t _build/html/2301.02477.md\n",
      "\t _build/html/2301.02313.md\n",
      "\t _build/html/2301.02265.md\n",
      "\t _build/html/2301.01937.md\n",
      "\t _build/html/2301.01895.md\n",
      "\t _build/html/2301.01684.md\n",
      "\t _build/html/2301.01306.md\n",
      "\t _build/html/2301.00881.md\n",
      "\t _build/html/2301.00854.md\n",
      "\t _build/html/2301.00578.md\n",
      "\t _build/html/2212.12039.md\n",
      "\t _build/html/2212.11991.md\n",
      "\t _build/html/2212.11425.md\n",
      "\t _build/html/2212.11177.md\n",
      "\t _build/html/2212.10804.md\n",
      "\t _build/html/2212.10512.md\n",
      "\t _build/html/2212.09766.md\n",
      "\t _build/html/2212.09675.md\n",
      "\t _build/html/2212.09661.md\n",
      "\t _build/html/2212.09652.md\n",
      "\t _build/html/2212.09443.md\n",
      "\t _build/html/2212.09307.md\n",
      "\t _build/html/2212.09168.md\n",
      "\t _build/html/2212.09159.md\n",
      "\t _build/html/2212.08702.md\n",
      "\t _build/html/2212.07332.md\n",
      "\t _build/html/2212.06434.md\n",
      "\t _build/html/2212.04710.md\n",
      "\t _build/html/2212.04026.md\n",
      "\t _build/html/2212.03563.md\n",
      "\t _build/html/2212.03514.md\n",
      "\t _build/html/2212.02667.md\n",
      "\t _build/html/2212.02627.md\n",
      "\t _build/html/2212.02235.md\n",
      "\t _build/html/2212.01707.md\n",
      "\t _build/html/2212.01526.md\n",
      "\t _build/html/2212.01397.md\n",
      "\t _build/html/2212.01291.md\n",
      "\t _build/html/2212.01281.md\n",
      "\t _build/html/2212.00812.md\n",
      "\t _build/html/2212.00811.md\n",
      "\t _build/html/2212.00806.md\n",
      "\t _build/html/2212.00047.md\n",
      "\t _build/html/2212.00032.md\n",
      "\t _build/html/2211.16996.md\n",
      "\t _build/html/2211.16510.md\n",
      "\t _build/html/2211.16123.md\n",
      "\t _build/html/2211.15816.md\n",
      "\t _build/html/2211.15698.md\n",
      "\t _build/html/2211.15576.md\n",
      "\t _build/html/2211.15434.md\n",
      "\t _build/html/2211.15288.md\n",
      "\t _build/html/2211.15224.md\n",
      "\t _build/html/2211.14543.md\n",
      "\t _build/html/2211.14330.md\n",
      "\t _build/html/2211.14322.md\n",
      "\t _build/html/2211.14132.md\n",
      "\t _build/html/2211.13811.md\n",
      "\t _build/html/2211.13426.md\n",
      "\t _build/html/2211.13318.md\n",
      "\t _build/html/2211.13146.md\n",
      "\t _build/html/2211.12613.md\n",
      "\t _build/html/2211.11767.md\n",
      "\t _build/html/2211.09840.md\n",
      "\t _build/html/2211.09217.md\n",
      "\t _build/html/2211.08493.md\n",
      "\t _build/html/2211.08487.md\n",
      "\t _build/html/2211.08294.md\n",
      "\t _build/html/2211.07667.md\n",
      "\t _build/html/2211.07659.md\n",
      "\t _build/html/2211.06454.md\n",
      "\t _build/html/2211.06205.md\n",
      "\t _build/html/2211.06194.md\n",
      "\t _build/html/2211.05022.md\n",
      "\t _build/html/2211.04048.md\n",
      "\t _build/html/2211.03641.md\n",
      "\t _build/html/2211.02502.md\n",
      "\t _build/html/2211.01474.md\n",
      "\t _build/html/2211.00667.md\n",
      "\t _build/html/2211.00657.md\n",
      "\t _build/html/2211.00087.md\n",
      "\t _build/html/2211.00036.md\n",
      "\t _build/html/2211.00020.md\n",
      "\t _build/html/2211.00010.md\n",
      "\t _build/html/2210.17434.md\n",
      "\t _build/html/2210.12412.md\n",
      "\t _build/html/2210.11926.md\n",
      "\t _build/html/2210.11551.md\n",
      "\t _build/html/2210.11103.md\n",
      "\t _build/html/2210.10707.md\n",
      "\t _build/html/2210.09930.md\n",
      "\t _build/html/2210.08996.md\n",
      "\t _build/html/2210.08517.md\n",
      "\t _build/html/2210.08510.md\n",
      "\t _build/html/2210.08078.md\n",
      "\t _build/html/2210.06504.md\n",
      "\t _build/html/2210.05695.md\n",
      "\t _build/html/2210.05595.md\n",
      "\t _build/html/2210.05505.md\n",
      "\t _build/html/2210.04721.md\n",
      "\t _build/html/2210.03615.md\n",
      "\t _build/html/2210.01811.md\n",
      "\t _build/html/2210.01809.md\n",
      "\t _build/html/2210.01556.md\n",
      "\t _build/html/2210.00863.md\n",
      "\t _build/html/2210.00560.md\n",
      "\t _build/html/2209.15403.md\n",
      "\t _build/html/2209.15110.md\n",
      "\t _build/html/2209.14410.md\n",
      "\t _build/html/2209.14396.md\n",
      "\t _build/html/2209.13717.md\n",
      "\t _build/html/2209.13336.md\n",
      "\t _build/html/2209.12906.md\n",
      "\t _build/html/2209.11781.md\n",
      "\t _build/html/2209.11602.md\n",
      "\t _build/html/2209.11248.md\n",
      "\t _build/html/2209.11096.md\n",
      "\t _build/html/2209.10618.md\n",
      "\t _build/html/2209.09914.md\n",
      "\t _build/html/2209.09823.md\n",
      "\t _build/html/2209.08242.md\n",
      "\t _build/html/2209.08120.md\n",
      "\t _build/html/2209.08106.md\n",
      "\t _build/html/2209.07962.md\n",
      "\t _build/html/2209.07931.md\n",
      "\t _build/html/2209.06833.md\n",
      "\t _build/html/2209.05814.md\n",
      "\t _build/html/2209.05593.md\n",
      "\t _build/html/2209.04304.md\n",
      "\t _build/html/2209.03367.md\n",
      "\t _build/html/2209.02872.md\n",
      "\t _build/html/2209.02725.md\n",
      "\t _build/html/2209.02722.md\n",
      "\t _build/html/2209.02092.md\n",
      "\t _build/html/2209.01125.md\n",
      "\t _build/html/2209.00828.md\n",
      "\t _build/html/2209.00363.md\n",
      "\t _build/html/2208.14927.md\n",
      "\t _build/html/2208.09335.md\n",
      "\t _build/html/2208.08872.md\n",
      "\t _build/html/2204.06393.md\n",
      "\t _build/html/2204.03335.md\n",
      "\t _build/html/2204.03253.md\n",
      "\t _build/html/2204.02998.md\n",
      "\t _build/html/2204.02109.md\n",
      "\t _build/html/2204.02017.md\n",
      "\t _build/html/2204.01824.md\n",
      "\t _build/html/2204.01758.md\n",
      "\t _build/html/2204.01245.md\n",
      "\t _build/html/2204.00793.md\n",
      "\t _build/html/2204.00342.md\n",
      "\t _build/html/2203.16959.md\n",
      "\t _build/html/2203.16856.md\n",
      "\t _build/html/2203.16735.md\n",
      "\t _build/html/2203.16734.md\n",
      "\t _build/html/2203.16504.md\n",
      "\t _build/html/2203.15822.md\n",
      "\t _build/html/2203.15811.md\n"
     ]
    }
   ],
   "source": [
    "from datetime import datetime, timedelta, timezone\n",
    "from glob import glob\n",
    "\n",
    "files = glob('_build/html/*.md')\n",
    "days = 7\n",
    "now = datetime.today()\n",
    "res = []\n",
    "for fk in files:\n",
    "    stat_result = os.stat(fk).st_ctime\n",
    "    modified = datetime.fromtimestamp(stat_result, tz=timezone.utc).replace(tzinfo=None)\n",
    "    delta = now.today() - modified\n",
    "    if delta <= timedelta(days=days):\n",
    "        res.append((delta.seconds, fk))\n",
    "res = [k[1] for k in reversed(sorted(res, key=lambda x:x[1]))]\n",
    "npub = len(res)\n",
    "print(len(res), f\" publications in the last {days:d} days.\")\n",
    "[ print('\\t', k) for k in res ];"
   ]
  },
  {
   "cell_type": "code",
   "execution_count": 11,
   "id": "015de740",
   "metadata": {
    "execution": {
     "iopub.execute_input": "2023-01-11T04:09:53.631699Z",
     "iopub.status.busy": "2023-01-11T04:09:53.631371Z",
     "iopub.status.idle": "2023-01-11T04:09:53.656018Z",
     "shell.execute_reply": "2023-01-11T04:09:53.655339Z"
    },
    "papermill": {
     "duration": 0.042353,
     "end_time": "2023-01-11T04:09:53.658035",
     "exception": false,
     "start_time": "2023-01-11T04:09:53.615682",
     "status": "completed"
    },
    "tags": []
   },
   "outputs": [
    {
     "name": "stdout",
     "output_type": "stream",
     "text": [
      "14  publications in the last 7 days.\n"
     ]
    }
   ],
   "source": [
    "import datetime\n",
    "from glob import glob\n",
    "\n",
    "def get_last_n_days(lst, days=1):\n",
    "    \"\"\" Get the documents from the last n days \"\"\"\n",
    "    sorted_lst = sorted(lst, key=lambda x: x[1], reverse=True)\n",
    "    for fname, date in sorted_lst:\n",
    "        if date >= str(datetime.date.today() - datetime.timedelta(days=days)):\n",
    "            yield fname\n",
    "\n",
    "def extract_appearance_dates(lst_file):\n",
    "    dates = []\n",
    "\n",
    "    def get_date(line):\n",
    "        return line\\\n",
    "            .split('Appeared on:')[-1]\\\n",
    "            .split('</mark>')[0].strip()\n",
    "\n",
    "    for fname in lst:\n",
    "        with open(fname, 'r') as f:\n",
    "            found_date = False\n",
    "            for line in f:\n",
    "                if not found_date:\n",
    "                    if \"Appeared on\" in line:\n",
    "                        found_date = True\n",
    "                        dates.append((fname, get_date(line)))\n",
    "                else:\n",
    "                    break\n",
    "    return dates\n",
    "\n",
    "from glob import glob\n",
    "lst = glob('_build/html/*md')\n",
    "days = 7\n",
    "dates = extract_appearance_dates(lst)\n",
    "res = list(get_last_n_days(dates, days))\n",
    "npub = len(res)\n",
    "print(len(res), f\" publications in the last {days:d} days.\")"
   ]
  },
  {
   "cell_type": "code",
   "execution_count": 12,
   "id": "52ca0208",
   "metadata": {
    "execution": {
     "iopub.execute_input": "2023-01-11T04:09:53.689532Z",
     "iopub.status.busy": "2023-01-11T04:09:53.689204Z",
     "iopub.status.idle": "2023-01-11T04:09:53.698535Z",
     "shell.execute_reply": "2023-01-11T04:09:53.697765Z"
    },
    "papermill": {
     "duration": 0.027028,
     "end_time": "2023-01-11T04:09:53.700528",
     "exception": false,
     "start_time": "2023-01-11T04:09:53.673500",
     "status": "completed"
    },
    "scrolled": false,
    "tags": []
   },
   "outputs": [],
   "source": [
    "def create_carousel(npub=4):\n",
    "    \"\"\" Generate the HTML code for a carousel with `npub` slides \"\"\"\n",
    "    carousel = [\"\"\"<section class=\"carousel\" aria-label=\"Gallery\">\"\"\",\n",
    "                \"\"\"  <ol class=\"carousel__viewport\">\"\"\",\n",
    "    ]\n",
    "    for k in range(1, npub + 1):\n",
    "        prev_ = k - 1\n",
    "        next_ = k + 1\n",
    "        if prev_ <= 0:\n",
    "            prev_ = npub\n",
    "        if next_ > npub:\n",
    "            next_ = 1\n",
    "        text  = f\"\"\"    <li id=\"carousel__slide{k}\" tabindex=\"0\" class=\"carousel__slide\">\\n\"\"\"\n",
    "        text += f\"\"\"       <div class=\"carousel__snapper\">\\n\"\"\"\n",
    "        text += f\"\"\"         <a href=\"#carousel__slide{prev_}\" class=\"carousel__prev\">Go to previous slide</a>\\n\"\"\"\n",
    "        text += f\"\"\"         <a href=\"#carousel__slide{next_}\" class=\"carousel__next\">Go to next slide</a>\\n\"\"\"\n",
    "        text += f\"\"\"         <div id=\"slide{k}_content\" class=\"md_view\" >Content {k}</div>\\n\"\"\"\n",
    "        text += f\"\"\"       </div>\\n\"\"\"\n",
    "        text += f\"\"\"    </li>\"\"\"\n",
    "        carousel.append(text)\n",
    "\n",
    "    carousel.extend([\n",
    "        \"\"\"  </ol>\"\"\",\n",
    "        \"\"\"  <aside class=\"carousel__navigation\">\"\"\",\n",
    "        \"\"\"    <ol class=\"carousel__navigation-list\">\"\"\"])\n",
    "\n",
    "    for k in range(1, npub + 1):\n",
    "        text  = f\"\"\"      <li class=\"carousel__navigation-item\">\\n\"\"\"\n",
    "        text += f\"\"\"        <a href=\"#carousel__slide{k}\" class=\"carousel__navigation-button\">Go to {k}</a>\\n\"\"\"\n",
    "        text += f\"\"\"      </li>\"\"\"\n",
    "        carousel.append(text)\n",
    "    carousel.extend([\"\"\"    </ol>\"\"\", \"\"\"  </aside>\"\"\", \"\"\"</section>\"\"\"])\n",
    "\n",
    "    return '\\n'.join(carousel)"
   ]
  },
  {
   "cell_type": "code",
   "execution_count": 13,
   "id": "a6eac5b6",
   "metadata": {
    "execution": {
     "iopub.execute_input": "2023-01-11T04:09:53.733246Z",
     "iopub.status.busy": "2023-01-11T04:09:53.732909Z",
     "iopub.status.idle": "2023-01-11T04:09:53.742699Z",
     "shell.execute_reply": "2023-01-11T04:09:53.741648Z"
    },
    "papermill": {
     "duration": 0.029748,
     "end_time": "2023-01-11T04:09:53.744771",
     "exception": false,
     "start_time": "2023-01-11T04:09:53.715023",
     "status": "completed"
    },
    "scrolled": false,
    "tags": []
   },
   "outputs": [],
   "source": [
    "carousel = create_carousel(npub)\n",
    "docs = ', '.join(['\"{0:s}\"'.format(k.split('/')[-1]) for k in res])\n",
    "slides = ', '.join([f'\"slide{k}_content\"' for k in range(1, npub + 1)])\n",
    "\n",
    "script = f\"\"\"\n",
    "const docs = [{docs}]\n",
    "\n",
    "const slides = [{slides}]\n",
    "\"\"\" + \"\"\"\n",
    "async function run() {\n",
    "    for (let i = 0; i < docs.length; i++) {\n",
    "        let file = await fetch(docs[i]);\n",
    "        let text = await file.text()\n",
    "        document.getElementById(slides[i]).innerHTML =\n",
    "            marked.parse(text);\n",
    "    }\n",
    "    hljs.highlightAll();\n",
    "}\n",
    "run()\n",
    "\"\"\"\n",
    "\n",
    "page = f\"\"\"<!doctype html>\n",
    "<html lang=\"en\">\n",
    "\n",
    "<head>\n",
    "  <meta charset=\"utf-8\">\n",
    "  <meta name=\"viewport\" content=\"width=device-width, initial-scale=1\">\n",
    "  <!-- Bootstrap CSS -->\n",
    "  <link href=\"https://cdn.jsdelivr.net/npm/bootstrap@5.0.2/dist/css/bootstrap.min.css\" rel=\"stylesheet\"\n",
    "   integrity=\"sha384-EVSTQN3/azprG1Anm3QDgpJLIm9Nao0Yz1ztcQTwFspd3yD65VohhpuuCOmLASjC\" crossorigin=\"anonymous\">\n",
    "  <!-- highlight.js CSS -->\n",
    "  <link rel=\"stylesheet\" href=\"https://cdnjs.cloudflare.com/ajax/libs/highlight.js/11.1.0/styles/default.min.css\">\n",
    "  <!-- Mathjax 3 -->\n",
    "  <script type=\"text/javascript\" id=\"MathJax-config\" src=\"mathjax_config.js\"> </script>\n",
    "  <script type=\"text/javascript\" id=\"MathJax-script\" async \n",
    "    src=\"https://cdn.jsdelivr.net/npm/mathjax@3/es5/tex-mml-chtml.js\">\n",
    "  </script>\n",
    "  <link rel=\"stylesheet\" href=\"index_carousel.css\">\n",
    "  <link rel=\"icon\" type=\"image/x-icon\" href=\"https://www.mpia.de/assets/touch-icon-32x32-a66937bcebc4e8894ebff1f41a366c7c7220fd97a38869ee0f2db65a9f59b6c1.png\">\n",
    "  <title>MPIA Arxiv on deck!</title>\n",
    "</head>\n",
    "\n",
    "<body>\n",
    "  <div id=\"header\"> <img src=\"header_banner.png\" width=\"100%\"></div>\n",
    "  <div id=\"suptitle\"> 7-day archives </div>\n",
    "  <div id=\"info\">\n",
    "    <img src=\"https://pngimg.com/uploads/github/github_PNG58.png\" height=30rem></img>\n",
    "    <a href=https://github.com/mpi-astronomy/arxiv_display style=\"color:black;\">github/mpi-astronomy/arxiv_display</a> \n",
    "  </div>\n",
    "  {carousel:s}\n",
    "</body>\n",
    "\n",
    "<!-- Render Markdown -->\n",
    "\n",
    "<body>\n",
    "  <!-- highlight.js: https://highlightjs.org/download/ -->\n",
    "  <script src=\"https://cdnjs.cloudflare.com/ajax/libs/highlight.js/11.5.0/highlight.min.js\"></script>\n",
    "  <!-- marked.js -->\n",
    "  <script src=\"https://cdn.jsdelivr.net/npm/marked/marked.min.js\"></script>\n",
    "  <script>{script:s}</script>\n",
    "</body>\n",
    "</html>\n",
    "\"\"\"\n",
    "with open(\"_build/html/index_7days.html\", 'w') as fout:\n",
    "    fout.write(page)"
   ]
  },
  {
   "cell_type": "markdown",
   "id": "1cebacbc",
   "metadata": {
    "papermill": {
     "duration": 0.014457,
     "end_time": "2023-01-11T04:09:53.773973",
     "exception": false,
     "start_time": "2023-01-11T04:09:53.759516",
     "status": "completed"
    },
    "tags": []
   },
   "source": [
    "# Debugging papers"
   ]
  },
  {
   "cell_type": "raw",
   "id": "debe7cc6",
   "metadata": {
    "papermill": {
     "duration": 0.014647,
     "end_time": "2023-01-11T04:09:53.803644",
     "exception": false,
     "start_time": "2023-01-11T04:09:53.788997",
     "status": "completed"
    },
    "tags": []
   },
   "source": [
    "raise NotImplementedError(\"Manual Stop\")"
   ]
  },
  {
   "cell_type": "raw",
   "id": "eb169192",
   "metadata": {
    "papermill": {
     "duration": 0.014351,
     "end_time": "2023-01-11T04:09:53.832815",
     "exception": false,
     "start_time": "2023-01-11T04:09:53.818464",
     "status": "completed"
    },
    "scrolled": true,
    "tags": []
   },
   "source": [
    "from IPython.display import display, Markdown\n",
    "from TexSoup import TexSoup\n",
    "import re\n",
    "\n",
    "def bracket_error(source: str):\n",
    "    \"\"\" Find problematic portions of the document \"\"\"\n",
    "    \n",
    "    print(\"len(source)\", len(source))\n",
    "    \n",
    "    # Checking header\n",
    "    begin_doc = next(re.finditer(r'\\\\begin\\{document\\}', doc.source)).span()[1]\n",
    "    header = source[:begin_doc]\n",
    "    text = header + r\"\\n\\end{document}\"\n",
    "\n",
    "    try:\n",
    "        # print(\"Header check... \", end='')\n",
    "        TexSoup(text)\n",
    "        display(Markdown(f\"**[OK]** - Header\"))\n",
    "    except:\n",
    "        raise RuntimeError(\"Error in the header\")\n",
    "        \n",
    "    # Check the text per section until the end.\n",
    "    # Do not stop and try them all.\n",
    "    \n",
    "    problematic_text = []\n",
    "    \n",
    "    sections = ([(0, begin_doc, 'until first section')] + \n",
    "                [(g.span()[0], g.span()[1], g.group()) for g in re.finditer(r'\\\\section\\{.*\\}', source)] +\n",
    "                [(g.span()[0], g.span()[1], g.group()) for g in re.finditer(r'\\\\begin\\{appendix\\}', source)]\n",
    "               )\n",
    "    sections.append([len(source), len(source), 'end'])\n",
    "    \n",
    "    sections = sorted(sections, key=lambda x: x[0])\n",
    "    \n",
    "    prev_pos, prev_name = (0, 'header')\n",
    "    parsed = []\n",
    "    \n",
    "    for span, span_end, name in sections:\n",
    "\n",
    "        if span - prev_pos <= 0:\n",
    "            continue\n",
    "            \n",
    "\n",
    "        text = source[prev_pos:span]\n",
    "        if prev_pos > begin_doc:\n",
    "            text = r\"\\n\\begin{document}\" + text + r\"\\n\\end{document}\"\n",
    "        else:\n",
    "            text = text + r\"\\n\\end{document}\"\n",
    "        try:\n",
    "            #print(f\"{prev_pos}:{prev_name}-->{span}:{name} check... \", end='')\n",
    "            parsed.append(TexSoup(text, tolerance=1))  # allow not ending env\n",
    "            display(Markdown(f\"**[OK]** - *{prev_pos}*:{prev_name} &rarr; *{span}*:{name}\"))\n",
    "            # print(\"ok\")\n",
    "\n",
    "            prev_pos = span\n",
    "            prev_name = name\n",
    "        except:\n",
    "            # print(f\"error between {prev_pos} and {span}\")\n",
    "            display(Markdown(f\"**[ERR]** *{prev_pos}*:{prev_name} &rarr; *{span}*:{name}\"))\n",
    "            problematic_text.append((prev_pos, source[prev_pos:span]))\n",
    "            prev_pos = span\n",
    "            prev_name = name\n",
    "            # raise\n",
    "    return problematic_text, parsed\n",
    "\n",
    "\n",
    "def check_environment(text, offset=0):\n",
    "    \"\"\" Check environment \"\"\"\n",
    "    env = re.compile(r\"\\\\begin\\{(?P<env>.*)\\}(.*)\\\\end\\{(?P=env)\\}\", re.DOTALL)\n",
    "\n",
    "    for match in env.finditer(text):\n",
    "        beg, end = match.span()\n",
    "        beg += offset\n",
    "        end += offset\n",
    "        envname = match.groups()[0]\n",
    "        try:\n",
    "            latex.TexSoup(match.group())\n",
    "        except Exception as e:\n",
    "            display(e)\n",
    "            print(f\"Error in {envname:s} between {beg} and {end}\")\n",
    "            return match.groups()[1], beg, end"
   ]
  },
  {
   "cell_type": "raw",
   "id": "2315e835",
   "metadata": {
    "papermill": {
     "duration": 0.014467,
     "end_time": "2023-01-11T04:09:53.861695",
     "exception": false,
     "start_time": "2023-01-11T04:09:53.847228",
     "status": "completed"
    },
    "scrolled": false,
    "tags": []
   },
   "source": [
    "import importlib\n",
    "importlib.reload(latex)\n",
    "which = \"2204.03253\"\n",
    "paper_id = f'{which:s}'\n",
    "folder = f'tmp_{paper_id:s}'\n",
    "\n",
    "if not os.path.isdir(folder):\n",
    "    folder = retrieve_document_source(f\"{paper_id}\", f'tmp_{paper_id}')\n",
    "\n",
    "try:\n",
    "    doc = latex.LatexDocument(folder, validation=validation)    \n",
    "except AffiliationError as affilerror:\n",
    "    msg = f\"ArXiv:{paper_id:s} is not an MPIA paper... \" + str(affilerror)\n",
    "    print(msg)\n",
    "\n",
    "\n",
    "# Hack because sometimes author parsing does not work well\n",
    "if (len(doc.authors) != len(paper['authors'])):\n",
    "    doc._authors = paper['authors']\n",
    "if (doc.abstract) in (None, ''):\n",
    "    doc._abstract = paper['abstract']\n",
    "\n",
    "doc.comment = get_markdown_badge(paper_id) + \" _\" + paper['comments'] + \"_\"\n",
    "doc.highlight_authors_in_list(hl_list)\n",
    "\n",
    "full_md = doc.generate_markdown_text()"
   ]
  },
  {
   "cell_type": "raw",
   "id": "dd3781db",
   "metadata": {
    "papermill": {
     "duration": 0.014471,
     "end_time": "2023-01-11T04:09:53.890570",
     "exception": false,
     "start_time": "2023-01-11T04:09:53.876099",
     "status": "completed"
    },
    "scrolled": false,
    "tags": []
   },
   "source": [
    "doc"
   ]
  },
  {
   "cell_type": "raw",
   "id": "c6eed834",
   "metadata": {
    "papermill": {
     "duration": 0.014293,
     "end_time": "2023-01-11T04:09:53.919569",
     "exception": false,
     "start_time": "2023-01-11T04:09:53.905276",
     "status": "completed"
    },
    "tags": []
   },
   "source": [
    "# [check_environment(k) for k in bracket_error(doc.source)]\n",
    "_, _, a = latex.get_content_per_section(doc.source, verbose=True)\n",
    "if not a:\n",
    "    print(\"no issues per section\")\n",
    "for ak in a:\n",
    "    r = check_environment(ak[1], offset=ak[0])\n",
    "    print(r[1], r[2])\n",
    "    print(r[0])"
   ]
  },
  {
   "cell_type": "code",
   "execution_count": null,
   "id": "71ce768a",
   "metadata": {
    "papermill": {
     "duration": 0.014718,
     "end_time": "2023-01-11T04:09:53.948660",
     "exception": false,
     "start_time": "2023-01-11T04:09:53.933942",
     "status": "completed"
    },
    "tags": []
   },
   "outputs": [],
   "source": []
  }
 ],
 "metadata": {
  "kernelspec": {
   "display_name": "Python 3",
   "language": "python",
   "name": "python3"
  },
  "language_info": {
   "codemirror_mode": {
    "name": "ipython",
    "version": 3
   },
   "file_extension": ".py",
   "mimetype": "text/x-python",
   "name": "python",
   "nbconvert_exporter": "python",
   "pygments_lexer": "ipython3",
   "version": "3.9.16"
  },
  "papermill": {
   "default_parameters": {},
   "duration": 270.837678,
   "end_time": "2023-01-11T04:09:54.296871",
   "environment_variables": {},
   "exception": null,
   "input_path": "MPIA daily digest.ipynb",
   "output_path": "log.ipynb",
   "parameters": {},
   "start_time": "2023-01-11T04:05:23.459193",
   "version": "2.4.0"
  },
  "vscode": {
   "interpreter": {
    "hash": "aee8b7b246df8f9039afb4144a1f6fd8d2ca17a180786b69acc140d282b71a49"
   }
  },
  "widgets": {
   "application/vnd.jupyter.widget-state+json": {
    "state": {
     "1428ac1fbed14cd985fe5b06ee373ed0": {
      "model_module": "@jupyter-widgets/controls",
      "model_module_version": "2.0.0",
      "model_name": "HTMLStyleModel",
      "state": {
       "_model_module": "@jupyter-widgets/controls",
       "_model_module_version": "2.0.0",
       "_model_name": "HTMLStyleModel",
       "_view_count": null,
       "_view_module": "@jupyter-widgets/base",
       "_view_module_version": "2.0.0",
       "_view_name": "StyleView",
       "background": null,
       "description_width": "",
       "font_size": null,
       "text_color": null
      }
     },
     "1acb88517b8b44bead847e85a4d46e6b": {
      "model_module": "@jupyter-widgets/base",
      "model_module_version": "2.0.0",
      "model_name": "LayoutModel",
      "state": {
       "_model_module": "@jupyter-widgets/base",
       "_model_module_version": "2.0.0",
       "_model_name": "LayoutModel",
       "_view_count": null,
       "_view_module": "@jupyter-widgets/base",
       "_view_module_version": "2.0.0",
       "_view_name": "LayoutView",
       "align_content": null,
       "align_items": null,
       "align_self": null,
       "border_bottom": null,
       "border_left": null,
       "border_right": null,
       "border_top": null,
       "bottom": null,
       "display": null,
       "flex": null,
       "flex_flow": null,
       "grid_area": null,
       "grid_auto_columns": null,
       "grid_auto_flow": null,
       "grid_auto_rows": null,
       "grid_column": null,
       "grid_gap": null,
       "grid_row": null,
       "grid_template_areas": null,
       "grid_template_columns": null,
       "grid_template_rows": null,
       "height": null,
       "justify_content": null,
       "justify_items": null,
       "left": null,
       "margin": null,
       "max_height": null,
       "max_width": null,
       "min_height": null,
       "min_width": null,
       "object_fit": null,
       "object_position": null,
       "order": null,
       "overflow": null,
       "padding": null,
       "right": null,
       "top": null,
       "visibility": null,
       "width": null
      }
     },
     "207262c9159f4d14a9ab15a94ceae95c": {
      "model_module": "@jupyter-widgets/controls",
      "model_module_version": "2.0.0",
      "model_name": "FloatProgressModel",
      "state": {
       "_dom_classes": [],
       "_model_module": "@jupyter-widgets/controls",
       "_model_module_version": "2.0.0",
       "_model_name": "FloatProgressModel",
       "_view_count": null,
       "_view_module": "@jupyter-widgets/controls",
       "_view_module_version": "2.0.0",
       "_view_name": "ProgressView",
       "bar_style": "success",
       "description": "",
       "description_allow_html": false,
       "layout": "IPY_MODEL_8b77b00aa26b4fb79fde62a1a5120a5f",
       "max": 28.0,
       "min": 0.0,
       "orientation": "horizontal",
       "style": "IPY_MODEL_42488ca4b678450d9e933598b855e90c",
       "tabbable": null,
       "tooltip": null,
       "value": 28.0
      }
     },
     "2117601ff413435093f9f54f9545b184": {
      "model_module": "@jupyter-widgets/base",
      "model_module_version": "2.0.0",
      "model_name": "LayoutModel",
      "state": {
       "_model_module": "@jupyter-widgets/base",
       "_model_module_version": "2.0.0",
       "_model_name": "LayoutModel",
       "_view_count": null,
       "_view_module": "@jupyter-widgets/base",
       "_view_module_version": "2.0.0",
       "_view_name": "LayoutView",
       "align_content": null,
       "align_items": null,
       "align_self": null,
       "border_bottom": null,
       "border_left": null,
       "border_right": null,
       "border_top": null,
       "bottom": null,
       "display": null,
       "flex": null,
       "flex_flow": null,
       "grid_area": null,
       "grid_auto_columns": null,
       "grid_auto_flow": null,
       "grid_auto_rows": null,
       "grid_column": null,
       "grid_gap": null,
       "grid_row": null,
       "grid_template_areas": null,
       "grid_template_columns": null,
       "grid_template_rows": null,
       "height": null,
       "justify_content": null,
       "justify_items": null,
       "left": null,
       "margin": null,
       "max_height": null,
       "max_width": null,
       "min_height": null,
       "min_width": null,
       "object_fit": null,
       "object_position": null,
       "order": null,
       "overflow": null,
       "padding": null,
       "right": null,
       "top": null,
       "visibility": null,
       "width": null
      }
     },
     "27891848546a4ff18f57221095f22d8b": {
      "model_module": "@jupyter-widgets/base",
      "model_module_version": "2.0.0",
      "model_name": "LayoutModel",
      "state": {
       "_model_module": "@jupyter-widgets/base",
       "_model_module_version": "2.0.0",
       "_model_name": "LayoutModel",
       "_view_count": null,
       "_view_module": "@jupyter-widgets/base",
       "_view_module_version": "2.0.0",
       "_view_name": "LayoutView",
       "align_content": null,
       "align_items": null,
       "align_self": null,
       "border_bottom": null,
       "border_left": null,
       "border_right": null,
       "border_top": null,
       "bottom": null,
       "display": null,
       "flex": null,
       "flex_flow": null,
       "grid_area": null,
       "grid_auto_columns": null,
       "grid_auto_flow": null,
       "grid_auto_rows": null,
       "grid_column": null,
       "grid_gap": null,
       "grid_row": null,
       "grid_template_areas": null,
       "grid_template_columns": null,
       "grid_template_rows": null,
       "height": null,
       "justify_content": null,
       "justify_items": null,
       "left": null,
       "margin": null,
       "max_height": null,
       "max_width": null,
       "min_height": null,
       "min_width": null,
       "object_fit": null,
       "object_position": null,
       "order": null,
       "overflow": null,
       "padding": null,
       "right": null,
       "top": null,
       "visibility": null,
       "width": null
      }
     },
     "3d7cf50fc5e14892b8722f874166558a": {
      "model_module": "@jupyter-widgets/controls",
      "model_module_version": "2.0.0",
      "model_name": "HBoxModel",
      "state": {
       "_dom_classes": [],
       "_model_module": "@jupyter-widgets/controls",
       "_model_module_version": "2.0.0",
       "_model_name": "HBoxModel",
       "_view_count": null,
       "_view_module": "@jupyter-widgets/controls",
       "_view_module_version": "2.0.0",
       "_view_name": "HBoxView",
       "box_style": "",
       "children": [
        "IPY_MODEL_4f4a994d69644c58a5d40757a0b56d26",
        "IPY_MODEL_207262c9159f4d14a9ab15a94ceae95c",
        "IPY_MODEL_b9c831687344404db7021e07da8e1b4d"
       ],
       "layout": "IPY_MODEL_27891848546a4ff18f57221095f22d8b",
       "tabbable": null,
       "tooltip": null
      }
     },
     "42488ca4b678450d9e933598b855e90c": {
      "model_module": "@jupyter-widgets/controls",
      "model_module_version": "2.0.0",
      "model_name": "ProgressStyleModel",
      "state": {
       "_model_module": "@jupyter-widgets/controls",
       "_model_module_version": "2.0.0",
       "_model_name": "ProgressStyleModel",
       "_view_count": null,
       "_view_module": "@jupyter-widgets/base",
       "_view_module_version": "2.0.0",
       "_view_name": "StyleView",
       "bar_color": null,
       "description_width": ""
      }
     },
     "4f4a994d69644c58a5d40757a0b56d26": {
      "model_module": "@jupyter-widgets/controls",
      "model_module_version": "2.0.0",
      "model_name": "HTMLModel",
      "state": {
       "_dom_classes": [],
       "_model_module": "@jupyter-widgets/controls",
       "_model_module_version": "2.0.0",
       "_model_name": "HTMLModel",
       "_view_count": null,
       "_view_module": "@jupyter-widgets/controls",
       "_view_module_version": "2.0.0",
       "_view_name": "HTMLView",
       "description": "",
       "description_allow_html": false,
       "layout": "IPY_MODEL_2117601ff413435093f9f54f9545b184",
       "placeholder": "​",
       "style": "IPY_MODEL_1428ac1fbed14cd985fe5b06ee373ed0",
       "tabbable": null,
       "tooltip": null,
       "value": "100%"
      }
     },
     "8b77b00aa26b4fb79fde62a1a5120a5f": {
      "model_module": "@jupyter-widgets/base",
      "model_module_version": "2.0.0",
      "model_name": "LayoutModel",
      "state": {
       "_model_module": "@jupyter-widgets/base",
       "_model_module_version": "2.0.0",
       "_model_name": "LayoutModel",
       "_view_count": null,
       "_view_module": "@jupyter-widgets/base",
       "_view_module_version": "2.0.0",
       "_view_name": "LayoutView",
       "align_content": null,
       "align_items": null,
       "align_self": null,
       "border_bottom": null,
       "border_left": null,
       "border_right": null,
       "border_top": null,
       "bottom": null,
       "display": null,
       "flex": null,
       "flex_flow": null,
       "grid_area": null,
       "grid_auto_columns": null,
       "grid_auto_flow": null,
       "grid_auto_rows": null,
       "grid_column": null,
       "grid_gap": null,
       "grid_row": null,
       "grid_template_areas": null,
       "grid_template_columns": null,
       "grid_template_rows": null,
       "height": null,
       "justify_content": null,
       "justify_items": null,
       "left": null,
       "margin": null,
       "max_height": null,
       "max_width": null,
       "min_height": null,
       "min_width": null,
       "object_fit": null,
       "object_position": null,
       "order": null,
       "overflow": null,
       "padding": null,
       "right": null,
       "top": null,
       "visibility": null,
       "width": null
      }
     },
     "b9c831687344404db7021e07da8e1b4d": {
      "model_module": "@jupyter-widgets/controls",
      "model_module_version": "2.0.0",
      "model_name": "HTMLModel",
      "state": {
       "_dom_classes": [],
       "_model_module": "@jupyter-widgets/controls",
       "_model_module_version": "2.0.0",
       "_model_name": "HTMLModel",
       "_view_count": null,
       "_view_module": "@jupyter-widgets/controls",
       "_view_module_version": "2.0.0",
       "_view_name": "HTMLView",
       "description": "",
       "description_allow_html": false,
       "layout": "IPY_MODEL_1acb88517b8b44bead847e85a4d46e6b",
       "placeholder": "​",
       "style": "IPY_MODEL_c59a2872934341ec969bb50e5e68b347",
       "tabbable": null,
       "tooltip": null,
       "value": " 28/28 [03:57&lt;00:00,  4.03s/it]"
      }
     },
     "c59a2872934341ec969bb50e5e68b347": {
      "model_module": "@jupyter-widgets/controls",
      "model_module_version": "2.0.0",
      "model_name": "HTMLStyleModel",
      "state": {
       "_model_module": "@jupyter-widgets/controls",
       "_model_module_version": "2.0.0",
       "_model_name": "HTMLStyleModel",
       "_view_count": null,
       "_view_module": "@jupyter-widgets/base",
       "_view_module_version": "2.0.0",
       "_view_name": "StyleView",
       "background": null,
       "description_width": "",
       "font_size": null,
       "text_color": null
      }
     }
    },
    "version_major": 2,
    "version_minor": 0
   }
  }
 },
 "nbformat": 4,
 "nbformat_minor": 5
}