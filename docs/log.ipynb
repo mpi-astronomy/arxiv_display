{
 "cells": [
  {
   "cell_type": "markdown",
   "id": "92bcb855",
   "metadata": {
    "papermill": {
     "duration": 0.003964,
     "end_time": "2025-06-04T04:17:36.888537",
     "exception": false,
     "start_time": "2025-06-04T04:17:36.884573",
     "status": "completed"
    },
    "tags": []
   },
   "source": [
    "# MPIA Arxiv on Deck 2\n",
    "\n",
    "Contains the steps to produce the paper extractions."
   ]
  },
  {
   "cell_type": "code",
   "execution_count": 1,
   "id": "3a0d6e11",
   "metadata": {
    "execution": {
     "iopub.execute_input": "2025-06-04T04:17:36.896294Z",
     "iopub.status.busy": "2025-06-04T04:17:36.895818Z",
     "iopub.status.idle": "2025-06-04T04:17:37.460520Z",
     "shell.execute_reply": "2025-06-04T04:17:37.459895Z"
    },
    "papermill": {
     "duration": 0.570009,
     "end_time": "2025-06-04T04:17:37.461890",
     "exception": false,
     "start_time": "2025-06-04T04:17:36.891881",
     "status": "completed"
    },
    "tags": []
   },
   "outputs": [],
   "source": [
    "# Imports\n",
    "import os\n",
    "from IPython.display import Markdown, display\n",
    "from tqdm.notebook import tqdm\n",
    "import warnings\n",
    "from PIL import Image \n",
    "import re\n",
    "\n",
    "# requires arxiv_on_deck_2\n",
    "\n",
    "from arxiv_on_deck_2.arxiv2 import (get_new_papers, \n",
    "                                    get_paper_from_identifier,\n",
    "                                    retrieve_document_source, \n",
    "                                    get_markdown_badge)\n",
    "from arxiv_on_deck_2 import (latex,\n",
    "                             latex_bib,\n",
    "                             mpia,\n",
    "                             highlight_authors_in_list)\n",
    "\n",
    "# Sometimes images are really big\n",
    "Image.MAX_IMAGE_PIXELS = 1000000000 "
   ]
  },
  {
   "cell_type": "code",
   "execution_count": 2,
   "id": "22aa9d44",
   "metadata": {
    "execution": {
     "iopub.execute_input": "2025-06-04T04:17:37.469529Z",
     "iopub.status.busy": "2025-06-04T04:17:37.468888Z",
     "iopub.status.idle": "2025-06-04T04:17:37.477040Z",
     "shell.execute_reply": "2025-06-04T04:17:37.476413Z"
    },
    "papermill": {
     "duration": 0.012985,
     "end_time": "2025-06-04T04:17:37.478142",
     "exception": false,
     "start_time": "2025-06-04T04:17:37.465157",
     "status": "completed"
    },
    "tags": []
   },
   "outputs": [],
   "source": [
    "# Some useful definitions.\n",
    "\n",
    "class AffiliationWarning(UserWarning):\n",
    "    pass\n",
    "\n",
    "class AffiliationError(RuntimeError):\n",
    "    pass\n",
    "\n",
    "def validation(source: str):\n",
    "    \"\"\"Raises error paper during parsing of source file\n",
    "    \n",
    "    Allows checks before parsing TeX code.\n",
    "    \n",
    "    Raises AffiliationWarning\n",
    "    \"\"\"\n",
    "    check = mpia.affiliation_verifications(source, verbose=True)\n",
    "    if check is not True:\n",
    "        raise AffiliationError(\"mpia.affiliation_verifications: \" + check)\n",
    "\n",
    "        \n",
    "warnings.simplefilter('always', AffiliationWarning)\n",
    "\n",
    "\n",
    "def get_markdown_qrcode(paper_id: str):\n",
    "    \"\"\" Generate a qrcode to the arxiv page using qrserver.com\n",
    "    \n",
    "    :param paper: Arxiv paper\n",
    "    :returns: markdown text\n",
    "    \"\"\"\n",
    "    url = r\"https://api.qrserver.com/v1/create-qr-code/?size=100x100&data=\"\n",
    "    txt = f\"\"\"<img src={url}\"https://arxiv.org/abs/{paper_id}\">\"\"\"\n",
    "    txt = '<div id=\"qrcode\">' + txt + '</div>'\n",
    "    return txt\n",
    "\n",
    "\n",
    "def clean_non_western_encoded_characters_commands(text: str) -> str:\n",
    "    \"\"\" Remove non-western encoded characters from a string\n",
    "    List may need to grow.\n",
    "    \n",
    "    :param text: the text to clean\n",
    "    :return: the cleaned text\n",
    "    \"\"\"\n",
    "    text = re.sub(r\"(\\\\begin{CJK}{UTF8}{gbsn})(.*?)(\\\\end{CJK})\", r\"\\2\", text)\n",
    "    return text\n",
    "\n",
    "\n",
    "def get_initials(name: str) -> str:\n",
    "    \"\"\" Get the short name, e.g., A.-B. FamName\n",
    "    :param name: full name\n",
    "    :returns: initials\n",
    "    \"\"\"\n",
    "    initials = []\n",
    "    # account for non western names often in ()\n",
    "    if '(' in name:\n",
    "        name = clean_non_western_encoded_characters_commands(name)\n",
    "        suffix = re.findall(r\"\\((.*?)\\)\", name)[0]\n",
    "        name = name.replace(f\"({suffix})\", '')\n",
    "    else:\n",
    "        suffix = ''\n",
    "    split = name.split()\n",
    "    for token in split[:-1]:\n",
    "        if '-' in token:\n",
    "            current = '-'.join([k[0] + '.' for k in token.split('-')])\n",
    "        else:\n",
    "            current = token[0] + '.'\n",
    "        initials.append(current)\n",
    "    initials.append(split[-1].strip())\n",
    "    if suffix:\n",
    "        initials.append(f\"({suffix})\")\n",
    "    return ' '.join(initials)"
   ]
  },
  {
   "cell_type": "markdown",
   "id": "14bd6310",
   "metadata": {
    "papermill": {
     "duration": 0.002906,
     "end_time": "2025-06-04T04:17:37.484020",
     "exception": false,
     "start_time": "2025-06-04T04:17:37.481114",
     "status": "completed"
    },
    "tags": []
   },
   "source": [
    "## get list of arxiv paper candidates\n",
    "\n",
    "We use the MPIA mitarbeiter list webpage from mpia.de to get author names\n",
    "We then get all new papers from Arxiv and match authors"
   ]
  },
  {
   "cell_type": "code",
   "execution_count": 3,
   "id": "7ea813a8",
   "metadata": {
    "execution": {
     "iopub.execute_input": "2025-06-04T04:17:37.490993Z",
     "iopub.status.busy": "2025-06-04T04:17:37.490507Z",
     "iopub.status.idle": "2025-06-04T04:18:47.299251Z",
     "shell.execute_reply": "2025-06-04T04:18:47.298493Z"
    },
    "papermill": {
     "duration": 69.81352,
     "end_time": "2025-06-04T04:18:47.300537",
     "exception": false,
     "start_time": "2025-06-04T04:17:37.487017",
     "status": "completed"
    },
    "tags": []
   },
   "outputs": [],
   "source": [
    "# deal with the author list and edge cases of people that cannot be consistent on their name  \n",
    "\n",
    "def filter_non_scientists(name: str) -> bool:\n",
    "    \"\"\" Loose filter on expected authorships\n",
    "\n",
    "    removing IT, administration, technical staff\n",
    "    :param name: name\n",
    "    :returns: False if name is not a scientist\n",
    "    \"\"\"\n",
    "    remove_list = ['Licht', 'Binroth', 'Witzel', 'Jordan',\n",
    "                   'Zähringer', 'Scheerer', 'Hoffmann', 'Düe',\n",
    "                   'Hellmich', 'Enkler-Scharpegge', 'Witte-Nguy',\n",
    "                   'Dehen', 'Beckmann', 'Jager', 'Jäger'\n",
    "                  ]\n",
    "\n",
    "    for k in remove_list:\n",
    "        if k in name:\n",
    "            return False\n",
    "    return True\n",
    "\n",
    "def add_author_to_list(author_list: list) -> list:\n",
    "    \"\"\" Add author to list if not already in list\n",
    "    \n",
    "    :param author: author name\n",
    "    :param author_list: list of authors\n",
    "    :returns: updated list of authors\n",
    "    \"\"\"\n",
    "    add_list = ['T. Henning']\n",
    "\n",
    "    for author in add_list:\n",
    "        if author not in author_list:\n",
    "            author_list.append(author)\n",
    "    return author_list\n",
    "\n",
    "# get list from MPIA website\n",
    "# filter for non-scientists (mpia.get_mpia_mitarbeiter_list() does some filtering)\n",
    "mpia_authors = [k[1] for k in mpia.get_mpia_mitarbeiter_list() if filter_non_scientists(k[1])]\n",
    "# add some missing author because of inconsistencies in their MPIA name and author name on papers\n",
    "mpia_authors = add_author_to_list(mpia_authors)"
   ]
  },
  {
   "cell_type": "code",
   "execution_count": 4,
   "id": "2645e73a",
   "metadata": {
    "execution": {
     "iopub.execute_input": "2025-06-04T04:18:47.307953Z",
     "iopub.status.busy": "2025-06-04T04:18:47.307568Z",
     "iopub.status.idle": "2025-06-04T04:18:48.276924Z",
     "shell.execute_reply": "2025-06-04T04:18:48.276227Z"
    },
    "papermill": {
     "duration": 0.974115,
     "end_time": "2025-06-04T04:18:48.278068",
     "exception": false,
     "start_time": "2025-06-04T04:18:47.303953",
     "status": "completed"
    },
    "tags": []
   },
   "outputs": [
    {
     "name": "stdout",
     "output_type": "stream",
     "text": [
      "C. Gapp  ->  C. Gapp  |  ['C. Gapp']\n",
      "E.-M. Ahrer  ->  E.-M. Ahrer  |  ['E.-M. Ahrer']\n",
      "D. Christie  ->  D. Christie  |  ['D. Christie']\n",
      "L. Kreidberg  ->  L. Kreidberg  |  ['L. Kreidberg']\n",
      "M. Schirmer  ->  M. Schirmer  |  ['M. Schirmer']\n",
      "K. Jahnke  ->  K. Jahnke  |  ['K. Jahnke']\n",
      "T. Henning  ->  T. Henning  |  ['T. Henning']\n",
      "G. Perotti  ->  G. Perotti  |  ['G. Perotti']\n",
      "K. Schwarz  ->  K. Schwarz  |  ['K. Schwarz']\n",
      "J. Shi  ->  J. Shi  |  ['J. Shi']\n",
      "J. Liu  ->  J. Liu  |  ['J. Liu']\n",
      "K. Jahnke  ->  K. Jahnke  |  ['K. Jahnke']\n",
      "K. Paterson  ->  K. Paterson  |  ['K. Paterson']\n",
      "M. Schirmer  ->  M. Schirmer  |  ['M. Schirmer']\n",
      "O. Krause  ->  O. Krause  |  ['O. Krause']\n"
     ]
    },
    {
     "name": "stdout",
     "output_type": "stream",
     "text": [
      "K. Jahnke  ->  K. Jahnke  |  ['K. Jahnke']\n",
      "Arxiv has 80 new papers today\n",
      "          6 with possible author matches\n"
     ]
    }
   ],
   "source": [
    "new_papers = get_new_papers()\n",
    "# add manual references\n",
    "add_paper_refs = []\n",
    "new_papers.extend([get_paper_from_identifier(k) for k in add_paper_refs])\n",
    "\n",
    "def robust_call(fn, value, *args, **kwargs):\n",
    "    try:\n",
    "        return fn(value, *args, **kwargs)\n",
    "    except Exception:\n",
    "        return value\n",
    "\n",
    "candidates = []\n",
    "for paperk in new_papers:\n",
    "    # Check author list with their initials\n",
    "    normed_author_list = [robust_call(mpia.get_initials, k) for k in paperk['authors']]\n",
    "    hl_authors = highlight_authors_in_list(normed_author_list, mpia_authors, verbose=True)\n",
    "    matches = [(hl, orig) for hl, orig in zip(hl_authors, paperk['authors']) if 'mark' in hl]\n",
    "    paperk['authors'] = hl_authors\n",
    "    if matches:\n",
    "        # only select paper if an author matched our list\n",
    "        candidates.append(paperk)\n",
    "print(\"\"\"Arxiv has {0:,d} new papers today\"\"\".format(len(new_papers)))        \n",
    "print(\"\"\"          {0:,d} with possible author matches\"\"\".format(len(candidates)))"
   ]
  },
  {
   "cell_type": "markdown",
   "id": "3543b34a",
   "metadata": {
    "papermill": {
     "duration": 0.003333,
     "end_time": "2025-06-04T04:18:48.285091",
     "exception": false,
     "start_time": "2025-06-04T04:18:48.281758",
     "status": "completed"
    },
    "tags": []
   },
   "source": [
    "# Parse sources and generate relevant outputs\n",
    "\n",
    "From the candidates, we do the following steps:\n",
    "* get their tarball from ArXiv (and extract data)\n",
    "* find the main .tex file: find one with \\documentclass{...} (sometimes it's non trivial)\n",
    "* Check affiliations with :func:`validation`, which uses :func:`mpia.affiliation_verifications`\n",
    "* If passing the affiliations: we parse the .tex source\n",
    "   * inject sub-documents into the main (flatten the main document)\n",
    "   * parse structure, extract information (title, abstract, authors, figures...)\n",
    "   * handles `\\graphicspath` if provided\n",
    "* Generate the .md document."
   ]
  },
  {
   "cell_type": "code",
   "execution_count": 5,
   "id": "9576b79e",
   "metadata": {
    "execution": {
     "iopub.execute_input": "2025-06-04T04:18:48.292340Z",
     "iopub.status.busy": "2025-06-04T04:18:48.292133Z",
     "iopub.status.idle": "2025-06-04T04:20:19.901206Z",
     "shell.execute_reply": "2025-06-04T04:20:19.900454Z"
    },
    "papermill": {
     "duration": 91.61425,
     "end_time": "2025-06-04T04:20:19.902513",
     "exception": false,
     "start_time": "2025-06-04T04:18:48.288263",
     "status": "completed"
    },
    "scrolled": false,
    "tags": []
   },
   "outputs": [
    {
     "data": {
      "application/vnd.jupyter.widget-view+json": {
       "model_id": "00185bbd482f47c58205f1ec72db5f67",
       "version_major": 2,
       "version_minor": 0
      },
      "text/plain": [
       "  0%|          | 0/6 [00:00<?, ?it/s]"
      ]
     },
     "metadata": {},
     "output_type": "display_data"
    },
    {
     "name": "stdout",
     "output_type": "stream",
     "text": [
      "Retrieving document from  https://arxiv.org/e-print/2506.02199\n"
     ]
    },
    {
     "name": "stdout",
     "output_type": "stream",
     "text": [
      "extracting tarball to tmp_2506.02199..."
     ]
    },
    {
     "name": "stdout",
     "output_type": "stream",
     "text": [
      " done.\n"
     ]
    },
    {
     "name": "stderr",
     "output_type": "stream",
     "text": [
      "/tmp/ipykernel_3351/2822249172.py:52: LatexWarning: 2506.02199 did not run properly\n",
      "bad escape \\e at position 9\n",
      "  warnings.warn(latex.LatexWarning(f\"{paper_id:s} did not run properly\\n\" +\n"
     ]
    },
    {
     "name": "stdout",
     "output_type": "stream",
     "text": [
      "Retrieving document from  https://arxiv.org/e-print/2506.02745\n"
     ]
    },
    {
     "name": "stdout",
     "output_type": "stream",
     "text": [
      "extracting tarball to tmp_2506.02745..."
     ]
    },
    {
     "name": "stdout",
     "output_type": "stream",
     "text": [
      " done.\n"
     ]
    },
    {
     "name": "stderr",
     "output_type": "stream",
     "text": [
      "/tmp/ipykernel_3351/2822249172.py:52: LatexWarning: 2506.02745 did not run properly\n",
      "Unable to get page count.\n",
      "Syntax Warning: May not be a PDF file (continuing anyway)\n",
      "Syntax Error: Couldn't find trailer dictionary\n",
      "Syntax Error: Couldn't find trailer dictionary\n",
      "Syntax Error: Couldn't read xref table\n",
      "\n",
      "  warnings.warn(latex.LatexWarning(f\"{paper_id:s} did not run properly\\n\" +\n"
     ]
    },
    {
     "name": "stdout",
     "output_type": "stream",
     "text": [
      "Retrieving document from  https://arxiv.org/e-print/2506.02748\n"
     ]
    },
    {
     "name": "stdout",
     "output_type": "stream",
     "text": [
      "extracting tarball to tmp_2506.02748..."
     ]
    },
    {
     "name": "stdout",
     "output_type": "stream",
     "text": [
      " done.\n"
     ]
    },
    {
     "name": "stdout",
     "output_type": "stream",
     "text": [
      "T. Henning  ->  T. Henning  |  ['T. Henning']\n",
      "G. Perotti  ->  G. Perotti  |  ['G. Perotti']\n",
      "K. Schwarz  ->  K. Schwarz  |  ['K. Schwarz']\n"
     ]
    },
    {
     "name": "stderr",
     "output_type": "stream",
     "text": [
      "/opt/hostedtoolcache/Python/3.9.22/x64/lib/python3.9/site-packages/arxiv_on_deck_2/latex.py:132: LatexWarning: attempting recovering figure empty.eps\n",
      "  warnings.warn(LatexWarning(f'attempting recovering figure {image}'))\n",
      "/opt/hostedtoolcache/Python/3.9.22/x64/lib/python3.9/site-packages/arxiv_on_deck_2/latex.py:707: LatexWarning: Could not find graphic \\includegraphics[width=\\hsize]{empty.eps}\n",
      "  warnings.warn(LatexWarning(f\"Could not find graphic {k}\"))\n",
      "/opt/hostedtoolcache/Python/3.9.22/x64/lib/python3.9/site-packages/arxiv_on_deck_2/latex.py:132: LatexWarning: attempting recovering figure empty.eps\n",
      "  warnings.warn(LatexWarning(f'attempting recovering figure {image}'))\n",
      "/opt/hostedtoolcache/Python/3.9.22/x64/lib/python3.9/site-packages/arxiv_on_deck_2/latex.py:707: LatexWarning: Could not find graphic \\includegraphics[angle=-90,width=3cm]{empty.eps}\n",
      "  warnings.warn(LatexWarning(f\"Could not find graphic {k}\"))\n",
      "/opt/hostedtoolcache/Python/3.9.22/x64/lib/python3.9/site-packages/arxiv_on_deck_2/latex.py:132: LatexWarning: attempting recovering figure empty.eps\n",
      "  warnings.warn(LatexWarning(f'attempting recovering figure {image}'))\n",
      "/opt/hostedtoolcache/Python/3.9.22/x64/lib/python3.9/site-packages/arxiv_on_deck_2/latex.py:707: LatexWarning: Could not find graphic \\includegraphics[width=3cm]{empty.eps}\n",
      "  warnings.warn(LatexWarning(f\"Could not find graphic {k}\"))\n",
      "/opt/hostedtoolcache/Python/3.9.22/x64/lib/python3.9/site-packages/arxiv_on_deck_2/latex.py:132: LatexWarning: attempting recovering figure empty.eps\n",
      "  warnings.warn(LatexWarning(f'attempting recovering figure {image}'))\n",
      "/opt/hostedtoolcache/Python/3.9.22/x64/lib/python3.9/site-packages/arxiv_on_deck_2/latex.py:707: LatexWarning: Could not find graphic \\includegraphics[bb=10 20 100 300,width=3cm,clip]{empty.eps}\n",
      "  warnings.warn(LatexWarning(f\"Could not find graphic {k}\"))\n",
      "/opt/hostedtoolcache/Python/3.9.22/x64/lib/python3.9/site-packages/arxiv_on_deck_2/latex.py:132: LatexWarning: attempting recovering figure empty.eps\n",
      "  warnings.warn(LatexWarning(f'attempting recovering figure {image}'))\n",
      "/opt/hostedtoolcache/Python/3.9.22/x64/lib/python3.9/site-packages/arxiv_on_deck_2/latex.py:707: LatexWarning: Could not find graphic \\includegraphics[bb=10 20 100 300,clip]{empty.eps}\n",
      "  warnings.warn(LatexWarning(f\"Could not find graphic {k}\"))\n",
      "/opt/hostedtoolcache/Python/3.9.22/x64/lib/python3.9/site-packages/arxiv_on_deck_2/latex.py:132: LatexWarning: attempting recovering figure empty.eps\n",
      "  warnings.warn(LatexWarning(f'attempting recovering figure {image}'))\n",
      "/opt/hostedtoolcache/Python/3.9.22/x64/lib/python3.9/site-packages/arxiv_on_deck_2/latex.py:707: LatexWarning: Could not find graphic \\includegraphics[bb=10 20 100 300,clip]{empty.eps}\n",
      "  warnings.warn(LatexWarning(f\"Could not find graphic {k}\"))\n",
      "/opt/hostedtoolcache/Python/3.9.22/x64/lib/python3.9/site-packages/arxiv_on_deck_2/latex.py:132: LatexWarning: attempting recovering figure 1787f23.eps\n",
      "  warnings.warn(LatexWarning(f'attempting recovering figure {image}'))\n",
      "/opt/hostedtoolcache/Python/3.9.22/x64/lib/python3.9/site-packages/arxiv_on_deck_2/latex.py:707: LatexWarning: Could not find graphic \\includegraphics[width=10.9cm]{1787f23.eps}\n",
      "  warnings.warn(LatexWarning(f\"Could not find graphic {k}\"))\n",
      "/opt/hostedtoolcache/Python/3.9.22/x64/lib/python3.9/site-packages/arxiv_on_deck_2/latex.py:132: LatexWarning: attempting recovering figure 1787f24.ps\n",
      "  warnings.warn(LatexWarning(f'attempting recovering figure {image}'))\n",
      "/opt/hostedtoolcache/Python/3.9.22/x64/lib/python3.9/site-packages/arxiv_on_deck_2/latex.py:707: LatexWarning: Could not find graphic \\includegraphics[width=16.4cm,clip]{1787f24.ps}\n",
      "  warnings.warn(LatexWarning(f\"Could not find graphic {k}\"))\n"
     ]
    },
    {
     "name": "stderr",
     "output_type": "stream",
     "text": [
      "/opt/hostedtoolcache/Python/3.9.22/x64/lib/python3.9/site-packages/arxiv_on_deck_2/latex.py:132: LatexWarning: attempting recovering figure empty.eps\n",
      "  warnings.warn(LatexWarning(f'attempting recovering figure {image}'))\n",
      "/opt/hostedtoolcache/Python/3.9.22/x64/lib/python3.9/site-packages/arxiv_on_deck_2/latex.py:707: LatexWarning: Could not find graphic \\includegraphics[bb=10 20 100 300,clip]{empty.eps}\n",
      "  warnings.warn(LatexWarning(f\"Could not find graphic {k}\"))\n",
      "/opt/hostedtoolcache/Python/3.9.22/x64/lib/python3.9/site-packages/arxiv_on_deck_2/latex.py:132: LatexWarning: attempting recovering figure 1787f23.eps\n",
      "  warnings.warn(LatexWarning(f'attempting recovering figure {image}'))\n",
      "/opt/hostedtoolcache/Python/3.9.22/x64/lib/python3.9/site-packages/arxiv_on_deck_2/latex.py:707: LatexWarning: Could not find graphic \\includegraphics[width=10.9cm]{1787f23.eps}\n",
      "  warnings.warn(LatexWarning(f\"Could not find graphic {k}\"))\n",
      "/opt/hostedtoolcache/Python/3.9.22/x64/lib/python3.9/site-packages/arxiv_on_deck_2/latex.py:132: LatexWarning: attempting recovering figure 1787f24.ps\n",
      "  warnings.warn(LatexWarning(f'attempting recovering figure {image}'))\n",
      "/opt/hostedtoolcache/Python/3.9.22/x64/lib/python3.9/site-packages/arxiv_on_deck_2/latex.py:707: LatexWarning: Could not find graphic \\includegraphics[width=16.4cm,clip]{1787f24.ps}\n",
      "  warnings.warn(LatexWarning(f\"Could not find graphic {k}\"))\n",
      "/opt/hostedtoolcache/Python/3.9.22/x64/lib/python3.9/site-packages/arxiv_on_deck_2/latex.py:132: LatexWarning: attempting recovering figure 1787f23.eps\n",
      "  warnings.warn(LatexWarning(f'attempting recovering figure {image}'))\n",
      "/opt/hostedtoolcache/Python/3.9.22/x64/lib/python3.9/site-packages/arxiv_on_deck_2/latex.py:707: LatexWarning: Could not find graphic \\includegraphics[width=10.9cm]{1787f23.eps}\n",
      "  warnings.warn(LatexWarning(f\"Could not find graphic {k}\"))\n",
      "/opt/hostedtoolcache/Python/3.9.22/x64/lib/python3.9/site-packages/arxiv_on_deck_2/latex.py:132: LatexWarning: attempting recovering figure 1787f24.ps\n",
      "  warnings.warn(LatexWarning(f'attempting recovering figure {image}'))\n",
      "/opt/hostedtoolcache/Python/3.9.22/x64/lib/python3.9/site-packages/arxiv_on_deck_2/latex.py:707: LatexWarning: Could not find graphic \\includegraphics[width=16.4cm,clip]{1787f24.ps}\n",
      "  warnings.warn(LatexWarning(f\"Could not find graphic {k}\"))\n"
     ]
    },
    {
     "name": "stdout",
     "output_type": "stream",
     "text": [
      "Found 89 bibliographic references in tmp_2506.02748/aanda.bbl.\n",
      "Error retrieving bib data for Yule1912: 'author'\n",
      "Retrieving document from  https://arxiv.org/e-print/2506.02763\n"
     ]
    },
    {
     "name": "stdout",
     "output_type": "stream",
     "text": [
      "extracting tarball to tmp_2506.02763..."
     ]
    },
    {
     "name": "stdout",
     "output_type": "stream",
     "text": [
      " done.\n",
      "Retrieving document from  https://arxiv.org/e-print/2506.02775\n"
     ]
    },
    {
     "name": "stdout",
     "output_type": "stream",
     "text": [
      "extracting tarball to tmp_2506.02775..."
     ]
    },
    {
     "name": "stdout",
     "output_type": "stream",
     "text": [
      " done.\n"
     ]
    },
    {
     "name": "stderr",
     "output_type": "stream",
     "text": [
      "/opt/hostedtoolcache/Python/3.9.22/x64/lib/python3.9/site-packages/IPython/core/interactiveshell.py:3550: LatexWarning: Multiple tex files.\n",
      "\n",
      "  exec(code_obj, self.user_global_ns, self.user_ns)\n",
      "/opt/hostedtoolcache/Python/3.9.22/x64/lib/python3.9/site-packages/IPython/core/interactiveshell.py:3550: LatexWarning: Found documentclass in tmp_2506.02775/paper.tex\n",
      "\n",
      "  exec(code_obj, self.user_global_ns, self.user_ns)\n",
      "/opt/hostedtoolcache/Python/3.9.22/x64/lib/python3.9/site-packages/arxiv_on_deck_2/latex.py:414: LatexWarning: Latex injecting: 'authors' from 'tmp_2506.02775/authors.tex'\n",
      "  warnings.warn(LatexWarning(f\"Latex injecting: '{ext}' from '{subsource}'\"))\n"
     ]
    },
    {
     "name": "stdout",
     "output_type": "stream",
     "text": [
      "Found 20 bibliographic references in tmp_2506.02775/paper.bbl.\n",
      "Issues with the citations\n",
      "syntax error in line 9: '}' expected\n",
      "Retrieving document from  https://arxiv.org/e-print/2506.03008\n"
     ]
    },
    {
     "name": "stderr",
     "output_type": "stream",
     "text": [
      "/opt/hostedtoolcache/Python/3.9.22/x64/lib/python3.9/site-packages/arxiv_on_deck_2/latex_bib.py:132: UserWarning: Error processing bibitem\n",
      " item = \\bibitem[Anderson et~al.(2014)Anderson, Regan, Valenti, and Bergeron]{Anderson_2013}Rachel~E. Anderson, Michael Regan, Jeff Valenti, and Eddie Bergeron.\\newblock Understanding persistence: A 3d trap map of an h2rg imaging sensor.\\newblock \\emph{arXiv e-prints}, art. arXiv:1402.4181, 2014.\n",
      " regex = \n",
      "        \\\\bibitem(\\[[^\\[\\]]*?\\]){(?P<bibkey>[a-zA-Z0-9\\-\\+\\.\\S]+?)}(?P<authors>|([\\D]*?))(?P<year>[12][0-9]{3})(?P<rest>.*)\n",
      "        \n",
      "  warnings.warn(str(e))\n",
      "/opt/hostedtoolcache/Python/3.9.22/x64/lib/python3.9/site-packages/arxiv_on_deck_2/latex_bib.py:132: UserWarning: Error processing bibitem\n",
      " item = \\bibitem[{Barbier} et~al.(2018){Barbier}, {Buton}, {Clemens}, {Conversi}, {Ealet}, {Ferriol}, {Fornari}, {Gillard}, {Kohley}, {Kubik}, {Rosset}, {Secroun}, {Serra}, {Smadja}, and {Zoubian}]{barbier18}R.~{Barbier}, C.~{Buton}, J.~C. {Clemens}, L.~{Conversi}, A.~{Ealet}, S.~{Ferriol}, F.~{Fornari}, W.~{Gillard}, R.~{Kohley}, B.~{Kubik}, C.~{Rosset}, A.~{Secroun}, B.~{Serra}, G.~{Smadja}, and J.~{Zoubian}.\\newblock {Detector chain calibration strategy for the Euclid flight IR H2RGs}.\\newblock In Andrew~D. {Holland} and James {Beletic}, editors, \\emph{High Energy, Optical, and Infrared Detectors for Astronomy VIII}, volume 10709 of \\emph{Society of Photo-Optical Instrumentation Engineers (SPIE) Conference Series}, page 107090S, July 2018.\\newblock \\doi{10.1117/12.2311966}.\n",
      " regex = \n",
      "        \\\\bibitem(\\[[^\\[\\]]*?\\]){(?P<bibkey>[a-zA-Z0-9\\-\\+\\.\\S]+?)}(?P<authors>|([\\D]*?))(?P<year>[12][0-9]{3})(?P<rest>.*)\n",
      "        \n",
      "  warnings.warn(str(e))\n",
      "/opt/hostedtoolcache/Python/3.9.22/x64/lib/python3.9/site-packages/arxiv_on_deck_2/latex_bib.py:132: UserWarning: Error processing bibitem\n",
      " item = \\bibitem[{Euclid Collaboration: Schirmer} et~al.(2022){Euclid Collaboration: Schirmer}, {Jahnke}, and {Seidel, G., et al.}]{Schirmer-EP18}M.~{Euclid Collaboration: Schirmer}, K.~{Jahnke}, and {Seidel, G., et al.}\\newblock {Euclid preparation. XVIII. The NISP photometric system}.\\newblock \\emph{\\aap}, 662:\\penalty0 A92, June 2022.\\newblock \\doi{10.1051/0004-6361/202142897}.\n",
      " regex = \n",
      "        \\\\bibitem(\\[[^\\[\\]]*?\\]){(?P<bibkey>[a-zA-Z0-9\\-\\+\\.\\S]+?)}(?P<authors>|([\\D]*?))(?P<year>[12][0-9]{3})(?P<rest>.*)\n",
      "        \n",
      "  warnings.warn(str(e))\n",
      "/opt/hostedtoolcache/Python/3.9.22/x64/lib/python3.9/site-packages/arxiv_on_deck_2/latex_bib.py:132: UserWarning: Error processing bibitem\n",
      " item = \\bibitem[Kubik et~al.(2016)]{Kubik:2016hsg}Bogna Kubik et~al.\\newblock {A New Signal Estimator from the NIR Detectors of the Euclid Mission}.\\newblock \\emph{Publ. Astron. Soc. Pac.}, 128\\penalty0 (968):\\penalty0 104504, 2016.\\newblock \\doi{10.1088/1538-3873/128/968/104504}.\n",
      " regex = \n",
      "        \\\\bibitem(\\[[^\\[\\]]*?\\]){(?P<bibkey>[a-zA-Z0-9\\-\\+\\.\\S]+?)}(?P<authors>|([\\D]*?))(?P<year>[12][0-9]{3})(?P<rest>.*)\n",
      "        \n",
      "  warnings.warn(str(e))\n",
      "/opt/hostedtoolcache/Python/3.9.22/x64/lib/python3.9/site-packages/arxiv_on_deck_2/latex_bib.py:132: UserWarning: Error processing bibitem\n",
      " item = \\bibitem[Long et~al.(2012)Long, Baggett, MacKenty, and Riess]{Long_2012}Knox~S. Long, Sylvia~M. Baggett, John~W. MacKenty, and Adam~G. Riess.\\newblock {Characterizing persistence in the IR detector within the Wide Field Camera 3 instrument on the Hubble Space Telescope}.\\newblock In Mark~C. Clampin, Giovanni~G. Fazio, Howard~A. MacEwen, and Jacobus M.~Oschmann Jr., editors, \\emph{Space Telescopes and Instrumentation 2012: Optical, Infrared, and Millimeter Wave}, volume 8442, page 84421W. International Society for Optics and Photonics, SPIE, 2012.\\newblock \\doi{10.1117/12.926778}.\\newblock URL \\url{https://doi.org/10.1117/12.926778}.\n",
      " regex = \n",
      "        \\\\bibitem(\\[[^\\[\\]]*?\\]){(?P<bibkey>[a-zA-Z0-9\\-\\+\\.\\S]+?)}(?P<authors>|([\\D]*?))(?P<year>[12][0-9]{3})(?P<rest>.*)\n",
      "        \n",
      "  warnings.warn(str(e))\n",
      "/opt/hostedtoolcache/Python/3.9.22/x64/lib/python3.9/site-packages/arxiv_on_deck_2/latex_bib.py:132: UserWarning: Error processing bibitem\n",
      " item = \\bibitem[{Long} et~al.(2013){Long}, {Baggett}, and {MacKenty}]{Long_2013}Knox~S. {Long}, Sylvia~M. {Baggett}, and John~W. {MacKenty}.\\newblock {Characterizing Persistence in the WFC3 IR Channel: Finite Trapping Times}.\\newblock WFC3 Instrument Science Report 2013-06, 10 pages, July 2013.\n",
      " regex = \n",
      "        \\\\bibitem(\\[[^\\[\\]]*?\\]){(?P<bibkey>[a-zA-Z0-9\\-\\+\\.\\S]+?)}(?P<authors>|([\\D]*?))(?P<year>[12][0-9]{3})(?P<rest>.*)\n",
      "        \n",
      "  warnings.warn(str(e))\n",
      "/opt/hostedtoolcache/Python/3.9.22/x64/lib/python3.9/site-packages/arxiv_on_deck_2/latex_bib.py:132: UserWarning: Error processing bibitem\n",
      " item = \\bibitem[{Long} et~al.(2015){Long}, {Baggett}, and {MacKenty}]{Long_2015}Knox~S. {Long}, Sylvia~M. {Baggett}, and John~W. {MacKenty}.\\newblock {Persistence in the WFC3 IR Detector: an Improved Model Incorporating the Effects of Exposure Time}.\\newblock WFC3 Instrument Science Report 2015-15, 18 pages, September 2015.\n",
      " regex = \n",
      "        \\\\bibitem(\\[[^\\[\\]]*?\\]){(?P<bibkey>[a-zA-Z0-9\\-\\+\\.\\S]+?)}(?P<authors>|([\\D]*?))(?P<year>[12][0-9]{3})(?P<rest>.*)\n",
      "        \n",
      "  warnings.warn(str(e))\n",
      "/opt/hostedtoolcache/Python/3.9.22/x64/lib/python3.9/site-packages/arxiv_on_deck_2/latex_bib.py:132: UserWarning: Error processing bibitem\n",
      " item = \\bibitem[Mosby et~al.(2020)Mosby, Rauscher, Bennett, Cheng, Cheung, Cillis, Content, Cottingham, Foltz, Gygax, Hill, Kruk, Mah, Meier, Merchant, Miko, Piquette, Waczynski, and Wen]{Mosby_2020}Gregory Mosby, Bernard Rauscher, Chris Bennett, Edward~S. Cheng, Stephanie~A. Cheung, Analia~N. Cillis, David~A. Content, David~A. Cottingham, Roger~D. Foltz, John~D. Gygax, Robert~J. Hill, Jeffrey~W. Kruk, Jon~S. Mah, Lane~A. Meier, Chris~A. Merchant, Laddawan~R. Miko, Eric~C. Piquette, Augustyn Waczynski, and Yiting Wen.\\newblock {Properties and characteristics of the Nancy Grace Roman Space Telescope H4RG-10 detectors}.\\newblock \\emph{Journal of Astronomical Telescopes, Instruments, and Systems}, 6\\penalty0 (4):\\penalty0 046001, 2020.\\newblock \\doi{10.1117/1.JATIS.6.4.046001}.\\newblock URL \\url{https://doi.org/10.1117/1.JATIS.6.4.046001}.\n",
      " regex = \n",
      "        \\\\bibitem(\\[[^\\[\\]]*?\\]){(?P<bibkey>[a-zA-Z0-9\\-\\+\\.\\S]+?)}(?P<authors>|([\\D]*?))(?P<year>[12][0-9]{3})(?P<rest>.*)\n",
      "        \n",
      "  warnings.warn(str(e))\n",
      "/opt/hostedtoolcache/Python/3.9.22/x64/lib/python3.9/site-packages/arxiv_on_deck_2/latex_bib.py:132: UserWarning: Error processing bibitem\n",
      " item = \\bibitem[{Secroun} et~al.(2016){Secroun}, {Serra}, {Cl{é}mens}, {Legras}, {Lagier}, {Niclas}, {Caillat}, {Gillard}, {Tilquin}, {Ealet}, {Barbier}, {Ferriol}, {Kubik}, {Smadja}, {Prieto}, {Maciaszek}, and {Norup Sorensen}]{2016SPIE.9915E..1YS}Aur{é}lia {Secroun}, Benoit {Serra}, Jean~Claude {Cl{é}mens}, Romain {Legras}, Philippe {Lagier}, Mathieu {Niclas}, Laurence {Caillat}, William {Gillard}, Andr{é} {Tilquin}, Anne {Ealet}, R{é}mi {Barbier}, Sylvain {Ferriol}, Bogna {Kubik}, G{é}rard {Smadja}, Eric {Prieto}, Thierry {Maciaszek}, and Anton {Norup Sorensen}.\\newblock {Characterization of H2RG IR detectors for the Euclid NISP instrument}.\\newblock In Andrew~D. {Holland} and James {Beletic}, editors, \\emph{High Energy, Optical, and Infrared Detectors for Astronomy VII}, volume 9915 of \\emph{Society of Photo-Optical Instrumentation Engineers (SPIE) Conference Series}, page 99151Y, July 2016.\\newblock \\doi{10.1117/12.2232070}.\n",
      " regex = \n",
      "        \\\\bibitem(\\[[^\\[\\]]*?\\]){(?P<bibkey>[a-zA-Z0-9\\-\\+\\.\\S]+?)}(?P<authors>|([\\D]*?))(?P<year>[12][0-9]{3})(?P<rest>.*)\n",
      "        \n",
      "  warnings.warn(str(e))\n",
      "/opt/hostedtoolcache/Python/3.9.22/x64/lib/python3.9/site-packages/arxiv_on_deck_2/latex_bib.py:132: UserWarning: Error processing bibitem\n",
      " item = \\bibitem[{Serra} et~al.(2015){Serra}, {Secroun}, {Cl{é}mens}, {Lagier}, {Niclas}, {Caillat}, {Rodriguez-Ferreira}, {Gillard}, {Tilquin}, {Ealet}, {Barbier}, {Kubik}, {Smadja}, {Ferriol}, {Prieto}, {Maciaszek}, and {Norup Sorensen}]{2015SPIE.9602E..0GS}B.~{Serra}, A.~{Secroun}, J.~C. {Cl{é}mens}, P.~{Lagier}, M.~{Niclas}, L.~{Caillat}, J.~{Rodriguez-Ferreira}, W.~{Gillard}, A.~{Tilquin}, A.~{Ealet}, R.~{Barbier}, B.~{Kubik}, G.~{Smadja}, S.~{Ferriol}, E.~{Prieto}, T.~{Maciaszek}, and A.~{Norup Sorensen}.\\newblock {Characterization of Euclid-like H2RG IR detectors for the NISP instrument}.\\newblock In Howard~A. {MacEwen} and James~B. {Breckinridge}, editors, \\emph{Optics for EUV, X-Ray, and Gamma-Ray Astronomy VII}, volume 9602 of \\emph{Society of Photo-Optical Instrumentation Engineers (SPIE) Conference Series}, page 96020G, September 2015.\\newblock \\doi{10.1117/12.2188439}.\n",
      " regex = \n",
      "        \\\\bibitem(\\[[^\\[\\]]*?\\]){(?P<bibkey>[a-zA-Z0-9\\-\\+\\.\\S]+?)}(?P<authors>|([\\D]*?))(?P<year>[12][0-9]{3})(?P<rest>.*)\n",
      "        \n",
      "  warnings.warn(str(e))\n",
      "/opt/hostedtoolcache/Python/3.9.22/x64/lib/python3.9/site-packages/arxiv_on_deck_2/latex_bib.py:132: UserWarning: Error processing bibitem\n",
      " item = \\bibitem[Serra et~al.(2015)Serra, Secroun, Cl{é}mens, Lagier, Niclas, Caillat, Rodriguez-Ferreira, Gillard, Tilquin, Ealet, Barbier, Kubik, Smadja, Ferriol, Prieto, Maciaszek, and Sorensen]{Serra_2015}B.~Serra, A.~Secroun, J-C. Cl{é}mens, P.~Lagier, M.~Niclas, L.~Caillat, J.~Rodriguez-Ferreira, W.~Gillard, A.~Tilquin, A.~Ealet, R.~Barbier, B.~Kubik, G.~Smadja, S.~Ferriol, E.~Prieto, T.~Maciaszek, and A.~Norup Sorensen.\\newblock {Characterization of Euclid-like H2RG IR detectors for the NISP instrument}.\\newblock In Howard~A. MacEwen and James~B. Breckinridge, editors, \\emph{UV/Optical/IR Space Telescopes and Instruments: Innovative Technologies and Concepts VII}, volume 9602, page 96020G. International Society for Optics and Photonics, SPIE, 2015.\\newblock \\doi{10.1117/12.2188439}.\\newblock URL \\url{https://doi.org/10.1117/12.2188439}.\n",
      " regex = \n",
      "        \\\\bibitem(\\[[^\\[\\]]*?\\]){(?P<bibkey>[a-zA-Z0-9\\-\\+\\.\\S]+?)}(?P<authors>|([\\D]*?))(?P<year>[12][0-9]{3})(?P<rest>.*)\n",
      "        \n",
      "  warnings.warn(str(e))\n",
      "/opt/hostedtoolcache/Python/3.9.22/x64/lib/python3.9/site-packages/arxiv_on_deck_2/latex_bib.py:132: UserWarning: Error processing bibitem\n",
      " item = \\bibitem[Smith et~al.(2008{\\natexlab{a}})Smith, Zavodny, Rahmer, and Bonati]{Smith_2008a}Roger~M. Smith, Maximilian Zavodny, Gustavo Rahmer, and Marco Bonati.\\newblock {A theory for image persistence in HgCdTe photodiodes}.\\newblock In David~A. Dorn and Andrew~D. Holland, editors, \\emph{High Energy, Optical, and Infrared Detectors for Astronomy III}, volume 7021, page 70210J. International Society for Optics and Photonics, SPIE, 2008{\\natexlab{a}}.\\newblock \\doi{10.1117/12.789372}.\\newblock URL \\url{https://doi.org/10.1117/12.789372}.\n",
      " regex = \n",
      "        \\\\bibitem(\\[[^\\[\\]]*?\\]){(?P<bibkey>[a-zA-Z0-9\\-\\+\\.\\S]+?)}(?P<authors>|([\\D]*?))(?P<year>[12][0-9]{3})(?P<rest>.*)\n",
      "        \n",
      "  warnings.warn(str(e))\n",
      "/opt/hostedtoolcache/Python/3.9.22/x64/lib/python3.9/site-packages/arxiv_on_deck_2/latex_bib.py:132: UserWarning: Error processing bibitem\n",
      " item = \\bibitem[Smith et~al.(2008{\\natexlab{b}})Smith, Zavodny, Rahmer, and Bonati]{Smith_2008b}Roger~M. Smith, Maximilian Zavodny, Gustavo Rahmer, and Marco Bonati.\\newblock {Calibration of image persistence in HgCdTe photodiodes}.\\newblock In David~A. Dorn and Andrew~D. Holland, editors, \\emph{High Energy, Optical, and Infrared Detectors for Astronomy III}, volume 7021, page 70210K. International Society for Optics and Photonics, SPIE, 2008{\\natexlab{b}}.\\newblock \\doi{10.1117/12.789619}.\\newblock URL \\url{https://doi.org/10.1117/12.789619}.\n",
      " regex = \n",
      "        \\\\bibitem(\\[[^\\[\\]]*?\\]){(?P<bibkey>[a-zA-Z0-9\\-\\+\\.\\S]+?)}(?P<authors>|([\\D]*?))(?P<year>[12][0-9]{3})(?P<rest>.*)\n",
      "        \n",
      "  warnings.warn(str(e))\n",
      "/opt/hostedtoolcache/Python/3.9.22/x64/lib/python3.9/site-packages/arxiv_on_deck_2/latex_bib.py:132: UserWarning: Error processing bibitem\n",
      " item = \\bibitem[Tulloch et~al.(2019)Tulloch, George, and Group]{Tulloch_2019}Simon Tulloch, Elizabeth George, and ESO Detector~Systems Group.\\newblock {Predictive model of persistence in H2RG detectors}.\\newblock \\emph{Journal of Astronomical Telescopes, Instruments, and Systems}, 5\\penalty0 (3):\\penalty0 036004, 2019.\\newblock \\doi{10.1117/1.JATIS.5.3.036004}.\\newblock URL \\url{https://doi.org/10.1117/1.JATIS.5.3.036004}.\n",
      " regex = \n",
      "        \\\\bibitem(\\[[^\\[\\]]*?\\]){(?P<bibkey>[a-zA-Z0-9\\-\\+\\.\\S]+?)}(?P<authors>|([\\D]*?))(?P<year>[12][0-9]{3})(?P<rest>.*)\n",
      "        \n",
      "  warnings.warn(str(e))\n",
      "/opt/hostedtoolcache/Python/3.9.22/x64/lib/python3.9/site-packages/arxiv_on_deck_2/latex_bib.py:132: UserWarning: Error processing bibitem\n",
      " item = \\bibitem[{Waczynski} et~al.(2016){Waczynski}, {Barbier}, {Cagiano}, {Chen}, {Cheung}, {Cho}, {Cillis}, {Cl{é}mens}, {Dawson}, {Delo}, {Farris}, {Feizi}, {Foltz}, {Hickey}, {Holmes}, {Hwang}, {Israelsson}, {Jhabvala}, {Kahle}, {Kan}, {Kan}, {Loose}, {Lotkin}, {Miko}, {Nguyen}, {Piquette}, {Powers}, {Pravdo}, {Runkle}, {Seiffert}, {Strada}, {Tucker}, {Turck}, {Wang}, {Weber}, and {Williams}]{perf_h2rg}A.~{Waczynski}, R.~{Barbier}, S.~{Cagiano}, J.~{Chen}, S.~{Cheung}, H.~{Cho}, A.~{Cillis}, J.~C. {Cl{é}mens}, O.~{Dawson}, G.~{Delo}, M.~{Farris}, A.~{Feizi}, R.~{Foltz}, M.~{Hickey}, W.~{Holmes}, T.~{Hwang}, U.~{Israelsson}, M.~{Jhabvala}, D.~{Kahle}, Em. {Kan}, Er. {Kan}, M.~{Loose}, G.~{Lotkin}, L.~{Miko}, L.~{Nguyen}, E.~{Piquette}, T.~{Powers}, S.~{Pravdo}, A.~{Runkle}, M.~{Seiffert}, P.~{Strada}, C.~{Tucker}, K.~{Turck}, F.~{Wang}, C.~{Weber}, and J.~{Williams}.\\newblock {Performance overview of the Euclid infrared focal plane detector subsystems}.\\newblock In Andrew~D. {Holland} and James {Beletic}, editors, \\emph{High Energy, Optical, and Infrared Detectors for Astronomy VII}, volume 9915 of \\emph{Society of Photo-Optical Instrumentation Engineers (SPIE) Conference Series}, page 991511, July 2016.\\newblock \\doi{10.1117/12.2231641}.\\end{thebibliography}\n",
      " regex = \n",
      "        \\\\bibitem(\\[[^\\[\\]]*?\\]){(?P<bibkey>[a-zA-Z0-9\\-\\+\\.\\S]+?)}(?P<authors>|([\\D]*?))(?P<year>[12][0-9]{3})(?P<rest>.*)\n",
      "        \n",
      "  warnings.warn(str(e))\n"
     ]
    },
    {
     "name": "stdout",
     "output_type": "stream",
     "text": [
      "extracting tarball to tmp_2506.03008..."
     ]
    },
    {
     "name": "stdout",
     "output_type": "stream",
     "text": [
      " done.\n"
     ]
    },
    {
     "name": "stderr",
     "output_type": "stream",
     "text": [
      "/opt/hostedtoolcache/Python/3.9.22/x64/lib/python3.9/site-packages/arxiv_on_deck_2/latex.py:132: LatexWarning: attempting recovering figure figures/kfail.png\n",
      "  warnings.warn(LatexWarning(f'attempting recovering figure {image}'))\n",
      "/opt/hostedtoolcache/Python/3.9.22/x64/lib/python3.9/site-packages/arxiv_on_deck_2/latex.py:707: LatexWarning: Could not find graphic \\includegraphics[width = 0.45\\textwidth]{figures/kfail.png}\n",
      "  warnings.warn(LatexWarning(f\"Could not find graphic {k}\"))\n",
      "/opt/hostedtoolcache/Python/3.9.22/x64/lib/python3.9/site-packages/arxiv_on_deck_2/latex.py:132: LatexWarning: attempting recovering figure figures/US_v_SS_PMG_1.png\n",
      "  warnings.warn(LatexWarning(f'attempting recovering figure {image}'))\n",
      "/opt/hostedtoolcache/Python/3.9.22/x64/lib/python3.9/site-packages/arxiv_on_deck_2/latex.py:707: LatexWarning: Could not find graphic \\includegraphics[width=0.45\\linewidth]{figures/US_v_SS_PMG_1.png}\n",
      "  warnings.warn(LatexWarning(f\"Could not find graphic {k}\"))\n",
      "/opt/hostedtoolcache/Python/3.9.22/x64/lib/python3.9/site-packages/arxiv_on_deck_2/latex.py:132: LatexWarning: attempting recovering figure figures/US_v_SS_PMG_2.png\n",
      "  warnings.warn(LatexWarning(f'attempting recovering figure {image}'))\n",
      "/opt/hostedtoolcache/Python/3.9.22/x64/lib/python3.9/site-packages/arxiv_on_deck_2/latex.py:707: LatexWarning: Could not find graphic \\includegraphics[width=0.45\\linewidth]{figures/US_v_SS_PMG_2.png}\n",
      "  warnings.warn(LatexWarning(f\"Could not find graphic {k}\"))\n",
      "/opt/hostedtoolcache/Python/3.9.22/x64/lib/python3.9/site-packages/arxiv_on_deck_2/latex.py:132: LatexWarning: attempting recovering figure figures/PMG1_triplot_US.pdf\n",
      "  warnings.warn(LatexWarning(f'attempting recovering figure {image}'))\n",
      "/opt/hostedtoolcache/Python/3.9.22/x64/lib/python3.9/site-packages/arxiv_on_deck_2/latex.py:707: LatexWarning: Could not find graphic \\includegraphics[width=0.45\\linewidth]{figures/PMG1_triplot_US.pdf}\n",
      "  warnings.warn(LatexWarning(f\"Could not find graphic {k}\"))\n",
      "/opt/hostedtoolcache/Python/3.9.22/x64/lib/python3.9/site-packages/arxiv_on_deck_2/latex.py:132: LatexWarning: attempting recovering figure figures/PMG1_triplot_SS.pdf\n",
      "  warnings.warn(LatexWarning(f'attempting recovering figure {image}'))\n",
      "/opt/hostedtoolcache/Python/3.9.22/x64/lib/python3.9/site-packages/arxiv_on_deck_2/latex.py:707: LatexWarning: Could not find graphic \\includegraphics[width=0.45\\linewidth]{figures/PMG1_triplot_SS.pdf}\n",
      "  warnings.warn(LatexWarning(f\"Could not find graphic {k}\"))\n",
      "/opt/hostedtoolcache/Python/3.9.22/x64/lib/python3.9/site-packages/arxiv_on_deck_2/latex.py:132: LatexWarning: attempting recovering figure figures/PMG2_triplot_US.pdf\n",
      "  warnings.warn(LatexWarning(f'attempting recovering figure {image}'))\n",
      "/opt/hostedtoolcache/Python/3.9.22/x64/lib/python3.9/site-packages/arxiv_on_deck_2/latex.py:707: LatexWarning: Could not find graphic \\includegraphics[width=0.45\\linewidth]{figures/PMG2_triplot_US.pdf}\n",
      "  warnings.warn(LatexWarning(f\"Could not find graphic {k}\"))\n",
      "/opt/hostedtoolcache/Python/3.9.22/x64/lib/python3.9/site-packages/arxiv_on_deck_2/latex.py:132: LatexWarning: attempting recovering figure figures/PMG2_triplot_SS.pdf\n",
      "  warnings.warn(LatexWarning(f'attempting recovering figure {image}'))\n",
      "/opt/hostedtoolcache/Python/3.9.22/x64/lib/python3.9/site-packages/arxiv_on_deck_2/latex.py:707: LatexWarning: Could not find graphic \\includegraphics[width=0.45\\linewidth]{figures/PMG2_triplot_SS.pdf}\n",
      "  warnings.warn(LatexWarning(f\"Could not find graphic {k}\"))\n",
      "/opt/hostedtoolcache/Python/3.9.22/x64/lib/python3.9/site-packages/arxiv_on_deck_2/latex.py:132: LatexWarning: attempting recovering figure figures/PMG1_mu0.pdf\n",
      "  warnings.warn(LatexWarning(f'attempting recovering figure {image}'))\n",
      "/opt/hostedtoolcache/Python/3.9.22/x64/lib/python3.9/site-packages/arxiv_on_deck_2/latex.py:707: LatexWarning: Could not find graphic \\includegraphics[width=0.3\\textwidth]{figures/PMG1_mu0.pdf}\n",
      "  warnings.warn(LatexWarning(f\"Could not find graphic {k}\"))\n",
      "/opt/hostedtoolcache/Python/3.9.22/x64/lib/python3.9/site-packages/arxiv_on_deck_2/latex.py:132: LatexWarning: attempting recovering figure figures/PMG1_Sigma0.pdf\n",
      "  warnings.warn(LatexWarning(f'attempting recovering figure {image}'))\n",
      "/opt/hostedtoolcache/Python/3.9.22/x64/lib/python3.9/site-packages/arxiv_on_deck_2/latex.py:707: LatexWarning: Could not find graphic \\includegraphics[width=0.3\\textwidth]{figures/PMG1_Sigma0.pdf}\n",
      "  warnings.warn(LatexWarning(f\"Could not find graphic {k}\"))\n",
      "/opt/hostedtoolcache/Python/3.9.22/x64/lib/python3.9/site-packages/arxiv_on_deck_2/latex.py:132: LatexWarning: attempting recovering figure figures/PMG1_sigma8.pdf\n",
      "  warnings.warn(LatexWarning(f'attempting recovering figure {image}'))\n",
      "/opt/hostedtoolcache/Python/3.9.22/x64/lib/python3.9/site-packages/arxiv_on_deck_2/latex.py:707: LatexWarning: Could not find graphic \\includegraphics[width=0.3\\textwidth]{figures/PMG1_sigma8.pdf}\n",
      "  warnings.warn(LatexWarning(f\"Could not find graphic {k}\"))\n",
      "/opt/hostedtoolcache/Python/3.9.22/x64/lib/python3.9/site-packages/arxiv_on_deck_2/latex.py:132: LatexWarning: attempting recovering figure figures/PMG2_mu0.pdf\n",
      "  warnings.warn(LatexWarning(f'attempting recovering figure {image}'))\n",
      "/opt/hostedtoolcache/Python/3.9.22/x64/lib/python3.9/site-packages/arxiv_on_deck_2/latex.py:707: LatexWarning: Could not find graphic \\includegraphics[width=0.3\\textwidth]{figures/PMG2_mu0.pdf}\n",
      "  warnings.warn(LatexWarning(f\"Could not find graphic {k}\"))\n",
      "/opt/hostedtoolcache/Python/3.9.22/x64/lib/python3.9/site-packages/arxiv_on_deck_2/latex.py:132: LatexWarning: attempting recovering figure figures/PMG2_Sigma0.pdf\n",
      "  warnings.warn(LatexWarning(f'attempting recovering figure {image}'))\n",
      "/opt/hostedtoolcache/Python/3.9.22/x64/lib/python3.9/site-packages/arxiv_on_deck_2/latex.py:707: LatexWarning: Could not find graphic \\includegraphics[width=0.3\\textwidth]{figures/PMG2_Sigma0.pdf}\n",
      "  warnings.warn(LatexWarning(f\"Could not find graphic {k}\"))\n",
      "/opt/hostedtoolcache/Python/3.9.22/x64/lib/python3.9/site-packages/arxiv_on_deck_2/latex.py:132: LatexWarning: attempting recovering figure figures/PMG2_sigma8.pdf\n",
      "  warnings.warn(LatexWarning(f'attempting recovering figure {image}'))\n",
      "/opt/hostedtoolcache/Python/3.9.22/x64/lib/python3.9/site-packages/arxiv_on_deck_2/latex.py:707: LatexWarning: Could not find graphic \\includegraphics[width=0.3\\textwidth]{figures/PMG2_sigma8.pdf}\n",
      "  warnings.warn(LatexWarning(f\"Could not find graphic {k}\"))\n",
      "/opt/hostedtoolcache/Python/3.9.22/x64/lib/python3.9/site-packages/arxiv_on_deck_2/latex.py:132: LatexWarning: attempting recovering figure figures/PMG1_mu_maxed.pdf\n",
      "  warnings.warn(LatexWarning(f'attempting recovering figure {image}'))\n",
      "/opt/hostedtoolcache/Python/3.9.22/x64/lib/python3.9/site-packages/arxiv_on_deck_2/latex.py:707: LatexWarning: Could not find graphic \\includegraphics[width=0.35\\textwidth]{figures/PMG1_mu_maxed.pdf}\n",
      "  warnings.warn(LatexWarning(f\"Could not find graphic {k}\"))\n",
      "/opt/hostedtoolcache/Python/3.9.22/x64/lib/python3.9/site-packages/arxiv_on_deck_2/latex.py:132: LatexWarning: attempting recovering figure figures/PMG1_Sigma_maxed.pdf\n",
      "  warnings.warn(LatexWarning(f'attempting recovering figure {image}'))\n",
      "/opt/hostedtoolcache/Python/3.9.22/x64/lib/python3.9/site-packages/arxiv_on_deck_2/latex.py:707: LatexWarning: Could not find graphic \\includegraphics[width=0.35\\textwidth]{figures/PMG1_Sigma_maxed.pdf}\n",
      "  warnings.warn(LatexWarning(f\"Could not find graphic {k}\"))\n",
      "/opt/hostedtoolcache/Python/3.9.22/x64/lib/python3.9/site-packages/arxiv_on_deck_2/latex.py:132: LatexWarning: attempting recovering figure figures/EFT1_triplot_US.pdf\n",
      "  warnings.warn(LatexWarning(f'attempting recovering figure {image}'))\n",
      "/opt/hostedtoolcache/Python/3.9.22/x64/lib/python3.9/site-packages/arxiv_on_deck_2/latex.py:707: LatexWarning: Could not find graphic \\includegraphics[width=0.49\\linewidth]{figures/EFT1_triplot_US.pdf}\n",
      "  warnings.warn(LatexWarning(f\"Could not find graphic {k}\"))\n",
      "/opt/hostedtoolcache/Python/3.9.22/x64/lib/python3.9/site-packages/arxiv_on_deck_2/latex.py:132: LatexWarning: attempting recovering figure figures/EFT1_triplot_SS.pdf\n",
      "  warnings.warn(LatexWarning(f'attempting recovering figure {image}'))\n",
      "/opt/hostedtoolcache/Python/3.9.22/x64/lib/python3.9/site-packages/arxiv_on_deck_2/latex.py:707: LatexWarning: Could not find graphic \\includegraphics[width=0.49\\linewidth]{figures/EFT1_triplot_SS.pdf}\n",
      "  warnings.warn(LatexWarning(f\"Could not find graphic {k}\"))\n",
      "/opt/hostedtoolcache/Python/3.9.22/x64/lib/python3.9/site-packages/arxiv_on_deck_2/latex.py:132: LatexWarning: attempting recovering figure figures/EFT2_triplot_US.pdf\n",
      "  warnings.warn(LatexWarning(f'attempting recovering figure {image}'))\n",
      "/opt/hostedtoolcache/Python/3.9.22/x64/lib/python3.9/site-packages/arxiv_on_deck_2/latex.py:707: LatexWarning: Could not find graphic \\includegraphics[width=0.49\\linewidth]{figures/EFT2_triplot_US.pdf}\n",
      "  warnings.warn(LatexWarning(f\"Could not find graphic {k}\"))\n",
      "/opt/hostedtoolcache/Python/3.9.22/x64/lib/python3.9/site-packages/arxiv_on_deck_2/latex.py:132: LatexWarning: attempting recovering figure figures/EFT2_triplot_SS.pdf\n",
      "  warnings.warn(LatexWarning(f'attempting recovering figure {image}'))\n",
      "/opt/hostedtoolcache/Python/3.9.22/x64/lib/python3.9/site-packages/arxiv_on_deck_2/latex.py:707: LatexWarning: Could not find graphic \\includegraphics[width=0.49\\linewidth]{figures/EFT2_triplot_SS.pdf}\n",
      "  warnings.warn(LatexWarning(f\"Could not find graphic {k}\"))\n",
      "/opt/hostedtoolcache/Python/3.9.22/x64/lib/python3.9/site-packages/arxiv_on_deck_2/latex.py:132: LatexWarning: attempting recovering figure figures/EFT1_alphaB0.pdf\n",
      "  warnings.warn(LatexWarning(f'attempting recovering figure {image}'))\n",
      "/opt/hostedtoolcache/Python/3.9.22/x64/lib/python3.9/site-packages/arxiv_on_deck_2/latex.py:707: LatexWarning: Could not find graphic \\includegraphics[width=0.3\\textwidth]{figures/EFT1_alphaB0.pdf}\n",
      "  warnings.warn(LatexWarning(f\"Could not find graphic {k}\"))\n",
      "/opt/hostedtoolcache/Python/3.9.22/x64/lib/python3.9/site-packages/arxiv_on_deck_2/latex.py:132: LatexWarning: attempting recovering figure figures/EFT1_sigma8.pdf\n",
      "  warnings.warn(LatexWarning(f'attempting recovering figure {image}'))\n",
      "/opt/hostedtoolcache/Python/3.9.22/x64/lib/python3.9/site-packages/arxiv_on_deck_2/latex.py:707: LatexWarning: Could not find graphic \\includegraphics[width=0.3\\textwidth]{figures/EFT1_sigma8.pdf}\n",
      "  warnings.warn(LatexWarning(f\"Could not find graphic {k}\"))\n",
      "/opt/hostedtoolcache/Python/3.9.22/x64/lib/python3.9/site-packages/arxiv_on_deck_2/latex.py:132: LatexWarning: attempting recovering figure figures/EFT2_alphaB0.pdf\n",
      "  warnings.warn(LatexWarning(f'attempting recovering figure {image}'))\n",
      "/opt/hostedtoolcache/Python/3.9.22/x64/lib/python3.9/site-packages/arxiv_on_deck_2/latex.py:707: LatexWarning: Could not find graphic \\includegraphics[width=0.3\\textwidth]{figures/EFT2_alphaB0.pdf}\n",
      "  warnings.warn(LatexWarning(f\"Could not find graphic {k}\"))\n",
      "/opt/hostedtoolcache/Python/3.9.22/x64/lib/python3.9/site-packages/arxiv_on_deck_2/latex.py:132: LatexWarning: attempting recovering figure figures/EFT2_m.pdf\n",
      "  warnings.warn(LatexWarning(f'attempting recovering figure {image}'))\n",
      "/opt/hostedtoolcache/Python/3.9.22/x64/lib/python3.9/site-packages/arxiv_on_deck_2/latex.py:707: LatexWarning: Could not find graphic \\includegraphics[width=0.3\\textwidth]{figures/EFT2_m.pdf}\n",
      "  warnings.warn(LatexWarning(f\"Could not find graphic {k}\"))\n",
      "/opt/hostedtoolcache/Python/3.9.22/x64/lib/python3.9/site-packages/arxiv_on_deck_2/latex.py:132: LatexWarning: attempting recovering figure figures/EFT2_sigma8.pdf\n",
      "  warnings.warn(LatexWarning(f'attempting recovering figure {image}'))\n",
      "/opt/hostedtoolcache/Python/3.9.22/x64/lib/python3.9/site-packages/arxiv_on_deck_2/latex.py:707: LatexWarning: Could not find graphic \\includegraphics[width=0.3\\textwidth]{figures/EFT2_sigma8.pdf}\n",
      "  warnings.warn(LatexWarning(f\"Could not find graphic {k}\"))\n"
     ]
    },
    {
     "name": "stdout",
     "output_type": "stream",
     "text": [
      "Found 127 bibliographic references in tmp_2506.03008/project2.bbl.\n",
      "Error retrieving bib data for Blanchard:2019oqi: 'blanchard:2019oqi'\n"
     ]
    }
   ],
   "source": [
    "documents = []\n",
    "failed = []\n",
    "for paper in tqdm(candidates):\n",
    "    # debug crap\n",
    "    paper['identifier'] = paper['identifier'].lower().replace('arxiv:', '').replace(r'\\n', '').strip()\n",
    "    paper_id = paper['identifier']\n",
    "    \n",
    "    folder = f'tmp_{paper_id}'\n",
    "\n",
    "    try:\n",
    "        if not os.path.isdir(folder):\n",
    "            folder = retrieve_document_source(f\"{paper_id}\", f'tmp_{paper_id}')\n",
    "        \n",
    "        try:\n",
    "            doc = latex.LatexDocument(folder, validation=validation)    \n",
    "        except AffiliationError as affilerror:\n",
    "            msg = f\"ArXiv:{paper_id:s} is not an MPIA paper... \" + str(affilerror)\n",
    "            failed.append((paper, \"affiliation error: \" + str(affilerror) ))\n",
    "            continue\n",
    "        \n",
    "        # Hack because sometimes author parsing does not work well\n",
    "        if (len(doc.authors) != len(paper['authors'])):\n",
    "            doc._authors = paper['authors']\n",
    "        else:\n",
    "            # highlight authors (FIXME: doc.highlight_authors)\n",
    "            # done on arxiv paper already\n",
    "            doc._authors = highlight_authors_in_list(\n",
    "                [get_initials(k) for k in doc.authors], \n",
    "                mpia_authors, verbose=True)\n",
    "        if (doc.abstract) in (None, ''):\n",
    "            doc._abstract = paper['abstract']\n",
    "            \n",
    "        doc.comment = (get_markdown_badge(paper_id) + \n",
    "                       \"<mark>Appeared on: \" + paper['date'] + \"</mark> - \")\n",
    "        if paper['comments']:\n",
    "            doc.comment += \" _\" + paper['comments'] + \"_\"\n",
    "        \n",
    "        full_md = doc.generate_markdown_text()\n",
    "        \n",
    "        full_md += get_markdown_qrcode(paper_id)\n",
    "        \n",
    "        # replace citations\n",
    "        try:\n",
    "            bibdata = latex_bib.LatexBib.from_doc(doc)\n",
    "            full_md = latex_bib.replace_citations(full_md, bibdata)\n",
    "        except Exception as e:\n",
    "            print(\"Issues with the citations\")\n",
    "            print(e)\n",
    "        \n",
    "        documents.append((paper_id, full_md))\n",
    "    except Exception as e:\n",
    "        warnings.warn(latex.LatexWarning(f\"{paper_id:s} did not run properly\\n\" +\n",
    "                                         str(e)\n",
    "                                        ))\n",
    "        failed.append((paper, \"latex error \" + str(e)))"
   ]
  },
  {
   "cell_type": "markdown",
   "id": "2505a25c",
   "metadata": {
    "papermill": {
     "duration": 0.004795,
     "end_time": "2025-06-04T04:20:19.912485",
     "exception": false,
     "start_time": "2025-06-04T04:20:19.907690",
     "status": "completed"
    },
    "tags": []
   },
   "source": [
    "### Export the logs\n",
    "\n",
    "Throughout, we also keep track of the logs per paper. see `logs-{today date}.md` "
   ]
  },
  {
   "cell_type": "code",
   "execution_count": 6,
   "id": "d733828a",
   "metadata": {
    "execution": {
     "iopub.execute_input": "2025-06-04T04:20:19.923156Z",
     "iopub.status.busy": "2025-06-04T04:20:19.922715Z",
     "iopub.status.idle": "2025-06-04T04:20:19.939765Z",
     "shell.execute_reply": "2025-06-04T04:20:19.939204Z"
    },
    "papermill": {
     "duration": 0.02349,
     "end_time": "2025-06-04T04:20:19.940766",
     "exception": false,
     "start_time": "2025-06-04T04:20:19.917276",
     "status": "completed"
    },
    "scrolled": false,
    "tags": []
   },
   "outputs": [
    {
     "data": {
      "text/markdown": [
       "## Successful papers"
      ],
      "text/plain": [
       "<IPython.core.display.Markdown object>"
      ]
     },
     "metadata": {},
     "output_type": "display_data"
    },
    {
     "data": {
      "text/markdown": [
       "\n",
       "|||\n",
       "|---:|:---|\n",
       "| [![arXiv](https://img.shields.io/badge/arXiv-2506.02748-b31b1b.svg)](https://arxiv.org/abs/2506.02748) | **MINDS: The very low-mass star and brown dwarf sample. Detections and trends in the inner disk gas**  |\n",
       "|| A. M. Arabhavi, et al. -- incl., <mark>T. Henning</mark>, <mark>G. Perotti</mark>, <mark>K. Schwarz</mark> |\n",
       "|*Appeared on*| *2025-06-04*|\n",
       "|*Comments*| *20 pages, 18 figures, Accepted for publication in Astronomy & Astrophysics*|\n",
       "|**Abstract**|            Planet-forming disks around brown dwarfs and very low-mass stars (VLMS) are on average less massive and are expected to undergo faster radial solid transport than their higher mass counterparts. Spitzer had detected C$_2$H$_2$, CO$_2$ and HCN around these objects. With better sensitivity and spectral resolving power, JWST recently revealed incredibly carbon-rich spectra from such disks. A study of a larger sample of objects is necessary to understand how common such carbon-rich inner disk regions are and to put constraints on their evolution. We present and analyze MIRI observations of 10 disks around VLMS from the MIRI GTO program. This sample is diverse, with the central object ranging in mass from 0.02 to 0.14 $M_{\\odot}$. They are located in three star-forming regions and a moving group (1-10 Myr). We identify molecular emission in all sources and report detection rates. We compare the molecular flux ratios between different species and to dust emission strengths. We also compare the flux ratios with the stellar and disk properties. The spectra of these VLMS disks are extremely molecular rich, and we detect the 10 $\\mu$m silicate dust emission feature in 70% of the sample. We detect C$_2$H$_2$ and HCN in all of the sources and find larger hydrocarbons such as C$_4$H$_2$ and C$_6$H$_6$ in nearly all sources. Among O-bearing molecules, we find firm detections of CO$_2$, H$_2$O, and CO in 90%, 50%, and 20% of the sample, respectively. We find that the detection rates of organic molecules correlate with other organic molecules and anti-correlate with inorganic molecules. Hydrocarbon-rich sources show a weaker 10$\\mu$m dust strength as well as lower disk dust mass than the oxygen-rich sources. We find potential evidence for C/O enhancement with disk age. The observed trends are consistent with models that suggest rapid inward solid material transport and grain growth.         |"
      ],
      "text/plain": [
       "[2506.02748] MINDS: The very low-mass star and brown dwarf sample. Detections and trends in the inner disk gas\n",
       "\tA. M. Arabhavi, et al. -- incl., <mark>T. Henning</mark>, <mark>G. Perotti</mark>, <mark>K. Schwarz</mark>"
      ]
     },
     "metadata": {},
     "output_type": "display_data"
    },
    {
     "data": {
      "text/markdown": [
       "\n",
       "|||\n",
       "|---:|:---|\n",
       "| [![arXiv](https://img.shields.io/badge/arXiv-2506.02775-b31b1b.svg)](https://arxiv.org/abs/2506.02775) | **Performance of the image persistence model for Euclid infrared detectors**  |\n",
       "|| B. Kubik, et al. -- incl., <mark>K. Jahnke</mark>, <mark>K. Paterson</mark>, <mark>M. Schirmer</mark>, <mark>O. Krause</mark> |\n",
       "|*Appeared on*| *2025-06-04*|\n",
       "|*Comments*| *SPIE Astronomical Telescopes + Instrumentation, 2024, Yokohama, Japan*|\n",
       "|**Abstract**|            Large-format infrared detectors are at the heart of major ground and space-based astronomical instruments, and the HgCdTe HxRG is the most widely used. The Near Infrared Spectrometer and Photometer (NISP) of the ESA's Euclid mission launched in July 2023 hosts 16 H2RG detectors in the focal plane. Their performance relies heavily on the effect of image persistence, which results in residual images that can remain in the detector for a long time contaminating any subsequent observations. Deriving a precise model of image persistence is challenging due to the sensitivity of this effect to observation history going back hours or even days. Nevertheless, persistence removal is a critical part of image processing because it limits the accuracy of the derived cosmological parameters. We will present the empirical model of image persistence derived from ground characterization data, adapted to the Euclid observation sequence and compared with the data obtained during the in-orbit calibrations of the satellite.         |"
      ],
      "text/plain": [
       "[2506.02775] Performance of the image persistence model for Euclid infrared detectors\n",
       "\tB. Kubik, et al. -- incl., <mark>K. Jahnke</mark>, <mark>K. Paterson</mark>, <mark>M. Schirmer</mark>, <mark>O. Krause</mark>"
      ]
     },
     "metadata": {},
     "output_type": "display_data"
    },
    {
     "data": {
      "text/markdown": [
       "\n",
       "|||\n",
       "|---:|:---|\n",
       "| [![arXiv](https://img.shields.io/badge/arXiv-2506.03008-b31b1b.svg)](https://arxiv.org/abs/2506.03008) | **Euclid preparation. Constraining parameterised models of modifications of gravity with the spectroscopic and photometric primary probes**  |\n",
       "|| E. Collaboration, et al. -- incl., <mark>K. Jahnke</mark> |\n",
       "|*Appeared on*| *2025-06-04*|\n",
       "|*Comments*| *21 pages, 9 figures*|\n",
       "|**Abstract**|            The Euclid mission has the potential to understand the fundamental physical nature of late-time cosmic acceleration and, as such, of deviations from the standard cosmological model, LCDM. In this paper, we focus on model-independent methods to modify the evolution of scalar perturbations at linear scales. We consider two approaches: the first is based on the two phenomenological modified gravity (PMG) parameters, $\\mu_{\\rm mg}$ and $\\Sigma_{\\rm mg}$, which are phenomenologically connected to the clustering of matter and weak lensing, respectively; and the second is the effective field theory (EFT) of dark energy and modified gravity, which we use to parameterise the braiding function, $\\alpha_{\\rm B}$, which defines the mixing between the metric and the dark energy field. We discuss the predictions from spectroscopic and photometric primary probes by Euclid on the cosmological parameters and a given set of additional parameters featuring the PMG and EFT models. We use the Fisher matrix method applied to spectroscopic galaxy clustering (GCsp), weak lensing (WL), photometric galaxy clustering (GCph), and cross-correlation (XC) between GCph and WL. For the modelling of photometric predictions on nonlinear scales, we use the halo model to cover two limits for the screening mechanism: the unscreened (US) case, for which the screening mechanism is not present; and the super-screened (SS) case, which assumes strong screening. We also assume scale cuts to account for our uncertainties in the modelling of nonlinear perturbation evolution. We choose a time-dependent form for $\\{\\mu_{\\rm mg},\\Sigma_{\\rm mg}\\}$, with two fiducial sets of values for the corresponding model parameters at the present time, $\\{\\bar{\\mu}_0,\\bar{\\Sigma}_0\\}$, and two forms for $\\alpha_{\\rm B}$, with one fiducial set of values for each of the model parameters, $\\alpha_{\\rm B,0}$ and $\\{\\alpha_{\\rm B,0},m\\}$. (Abridged)         |"
      ],
      "text/plain": [
       "[2506.03008] Euclid preparation. Constraining parameterised models of modifications of gravity with the spectroscopic and photometric primary probes\n",
       "\tE. Collaboration, et al. -- incl., <mark>K. Jahnke</mark>"
      ]
     },
     "metadata": {},
     "output_type": "display_data"
    },
    {
     "data": {
      "text/markdown": [
       "## Failed papers"
      ],
      "text/plain": [
       "<IPython.core.display.Markdown object>"
      ]
     },
     "metadata": {},
     "output_type": "display_data"
    },
    {
     "data": {
      "text/markdown": [
       "\n",
       "|||\n",
       "|---:|:---|\n",
       "| [![arXiv](https://img.shields.io/badge/arXiv-2506.02763-b31b1b.svg)](https://arxiv.org/abs/2506.02763) | **Homogeneous Stellar Atmospheric Parameters and 22 Elemental Abundances for FGK Stars Derived From LAMOST Low-resolution Spectra with DD-Payne**  |\n",
       "|| M. Zhang, et al. -- incl., <mark>J. Shi</mark>, <mark>J. Liu</mark> |\n",
       "|*Appeared on*| *2025-06-04*|\n",
       "|*Comments*| *36 pages, 28 figures, 4 tables. Accepted for publication in ApJS*|\n",
       "|**Abstract**|            A deep understanding of our Galaxy desires detailed decomposition of its stellar populations via their chemical fingerprints. This requires precise stellar abundances of many elements for a large number of stars. Here we present an updated catalog of stellar labels derived from LAMOST low-resolution spectra in a physics-sensible and rigorous manner with DD-Payne, taking labels from high-resolution spectroscopy as training set. The catalog contains atmospheric parameters for 6.4 million stars released in LAMOST DR9, and abundances for 22 elements, namely, C, N, O, Na, Mg, Al, Si, Ca, Ti, Cr, Mn, Fe, Ni, Sr, Y, Zr, Ba, La, Ce, Nd, Sm, and Eu, for nearly 3.6 million stars with spectral signal-to-noise ratio (SNR) higher than 20. The [Fe/H] is valid down to $\\sim$-4.0, while elemental abundance ratios [X/Fe] are mostly valid for stars with [Fe/H] $\\gtrsim-2.0$. Measurement errors in these labels are sensitive to and almost inversely proportional with SNR. For stars with S/N>50, we achieved a typical error of 30 K in Teff, 0.07 dex in $\\log g$, $\\sim0.05$ dex in abundances for most elements with atomic number smaller than Sr, and 0.1--0.2 dex for heavier elements. Homogenization to the label estimates is carried out via dedicated internal and external calibration. In particular, the non-local thermal equilibrium effect is corrected for the [Fe/H] estimates, the Teff is calibrated to the infrared flux method scale, and the $\\log~g$ is validated with asteroseismic measurements. The elemental abundances are internally calibrated using wide binaries, eliminating systematic trend with effective temperature. The catalog is publicly available.         |\n",
       "|<p style=\"color:green\"> **ERROR** </p>| <p style=\"color:green\">affiliation error: mpia.affiliation_verifications: 'Heidelberg' keyword not found.</p> |"
      ],
      "text/plain": [
       "<IPython.core.display.Markdown object>"
      ]
     },
     "metadata": {},
     "output_type": "display_data"
    },
    {
     "data": {
      "text/markdown": [
       "\n",
       "|||\n",
       "|---:|:---|\n",
       "| [![arXiv](https://img.shields.io/badge/arXiv-2506.02745-b31b1b.svg)](https://arxiv.org/abs/2506.02745) | **Euclid: Early Release Observations -- The surface brightness and colour profiles of the far outskirts of galaxies in the Perseus cluster**  |\n",
       "|| M. Mondelin, et al. -- incl., <mark>M. Schirmer</mark>, <mark>K. Jahnke</mark> |\n",
       "|*Appeared on*| *2025-06-04*|\n",
       "|*Comments*| *29 pages, 20 figures*|\n",
       "|**Abstract**|            The Perseus field captured by Euclid as part of its Early Release Observations provides a unique opportunity to study cluster environment ranging from outskirts to dense regions. Leveraging unprecedented optical and near-infrared depths, we investigate the stellar structure of massive disc galaxies in this field. This study focuses on outer disc profiles, including simple exponential (Type I), down- (Type II) and up-bending break (Type III) profiles, and their associated colour gradients, to trace late assembly processes across various environments. Type II profiles, though relatively rare in high dense environments, appear stabilised by internal mechanisms like bars and resonances, even within dense cluster cores. Simulations suggest that in dense environments, Type II profiles tend to evolve into Type I profiles over time. Type III profiles often exhibit small colour gradients beyond the break, hinting at older stellar populations, potentially due to radial migration or accretion events. We analyse correlations between galaxy mass, morphology, and profile types. Mass distributions show weak trends of decreasing mass from the centre to the outskirts of the Perseus cluster. Type III profiles become more prevalent, while Type I profiles decrease in lower-mass galaxies with cluster centric distance. Type I profiles dominate in spiral galaxies, while Type III profiles are more common in S0 galaxies. Type II profiles are consistently observed across all morphological types. While the limited sample size restricts statistical power, our findings shed light on the mechanisms shaping galaxy profiles in cluster environments. Future work should extend observations to the cluster outskirts to enhance statistical significance. Additionally, 3D velocity maps are needed to achieve a non-projected view of galaxy positions, offering deeper insights into spatial distribution and dynamics.         |\n",
       "|<p style=\"color:red\"> **ERROR** </p>| <p style=\"color:red\">latex error Unable to get page count.\n",
       "Syntax Warning: May not be a PDF file (continuing anyway)\n",
       "Syntax Error: Couldn't find trailer dictionary\n",
       "Syntax Error: Couldn't find trailer dictionary\n",
       "Syntax Error: Couldn't read xref table\n",
       "</p> |"
      ],
      "text/plain": [
       "<IPython.core.display.Markdown object>"
      ]
     },
     "metadata": {},
     "output_type": "display_data"
    },
    {
     "data": {
      "text/markdown": [
       "\n",
       "|||\n",
       "|---:|:---|\n",
       "| [![arXiv](https://img.shields.io/badge/arXiv-2506.02199-b31b1b.svg)](https://arxiv.org/abs/2506.02199) | **WASP-121b's transmission spectrum observed with JWST/NIRSpec G395H reveals thermal dissociation and SiO in the atmosphere**  |\n",
       "|| <mark>C. Gapp</mark>, et al. -- incl., <mark>E.-M. Ahrer</mark>, <mark>D. Christie</mark>, <mark>L. Kreidberg</mark> |\n",
       "|*Appeared on*| *2025-06-04*|\n",
       "|*Comments*| *26 pages, 15 figures, 6 tables*|\n",
       "|**Abstract**|            WASP-121b has been established as a benchmark ultrahot Jupiter, serving as a laboratory for the atmospheric chemistry and dynamics of strongly irradiated extrasolar gas giants. Here, we present and analyze WASP-121b's transmission spectrum observed with NIRSpec G395H on board the James Webb Space Telescope and find evidence for the thermal dissociation of H$_2$O and H$_2$ on the planet's permanent dayside. Additionally, we detect SiO at a statistical significance of $5.2\\sigma$ which is compatible with chemical equilibrium in the atmosphere. Constraining the abundance of SiO and abundance ratios between silicon and volatile atoms in WASP-121b's atmosphere could help discriminate between possible migration histories of the planet. The three-dimensional nature of thermal dissociation on WASP-121b's dayside and of recombination on its nightside, however, poses a challenge to constraining molecular abundances and elemental abundance ratios from the transmission spectrum. To account for this, we implemented an atmospheric model in the NEMESIS framework that splits the planet's atmosphere into dayside and nightside. A retrieval applying our atmospheric model to WASP-121b's transmission spectrum favors a higher H$_2$O abundance on the nightside than on the dayside, demonstrating the impact of hemispheric heterogeneity when attempting to constrain WASP-121b's bulk H$_2$O inventory.         |\n",
       "|<p style=\"color:red\"> **ERROR** </p>| <p style=\"color:red\">latex error bad escape \\e at position 9</p> |"
      ],
      "text/plain": [
       "<IPython.core.display.Markdown object>"
      ]
     },
     "metadata": {},
     "output_type": "display_data"
    }
   ],
   "source": [
    "import datetime\n",
    "today = str(datetime.date.today())\n",
    "logfile = f\"_build/html/logs/log-{today}.md\"\n",
    "\n",
    "\n",
    "with open(logfile, 'w') as logs:\n",
    "    # Success\n",
    "    logs.write(f'# Arxiv on Deck 2: Logs - {today}\\n\\n')\n",
    "    logs.write(\"\"\"* Arxiv had {0:,d} new papers\\n\"\"\".format(len(new_papers)))\n",
    "    logs.write(\"\"\"    * {0:,d} with possible author matches\\n\\n\"\"\".format(len(candidates)))\n",
    "    logs.write(\"## Sucessful papers\\n\\n\")\n",
    "    display(Markdown(\"## Successful papers\"))\n",
    "    success = [k[0] for k in documents]\n",
    "    for candid in candidates:\n",
    "        if candid['identifier'].split(':')[-1] in success:\n",
    "            display(candid)\n",
    "            logs.write(candid.generate_markdown_text() + '\\n\\n')\n",
    "\n",
    "    ## failed\n",
    "    logs.write(\"## Failed papers\\n\\n\")\n",
    "    display(Markdown(\"## Failed papers\"))\n",
    "    failed = sorted(failed, key=lambda x: x[1])\n",
    "    current_reason = \"\"\n",
    "    for paper, reason in failed:\n",
    "        if 'affiliation' in reason:\n",
    "            color = 'green'\n",
    "        else:\n",
    "            color = 'red'\n",
    "        data = Markdown(\n",
    "                paper.generate_markdown_text() + \n",
    "                f'\\n|<p style=\"color:{color:s}\"> **ERROR** </p>| <p style=\"color:{color:s}\">{reason:s}</p> |'\n",
    "               )\n",
    "        if reason != current_reason:\n",
    "            logs.write(f'### {reason:s} \\n\\n')\n",
    "            current_reason = reason\n",
    "        logs.write(data.data + '\\n\\n')\n",
    "        \n",
    "        # only display here the important errors (all in logs)\n",
    "        # if color in ('red',):\n",
    "        display(data)"
   ]
  },
  {
   "cell_type": "markdown",
   "id": "472d20ee",
   "metadata": {
    "papermill": {
     "duration": 0.005406,
     "end_time": "2025-06-04T04:20:19.951776",
     "exception": false,
     "start_time": "2025-06-04T04:20:19.946370",
     "status": "completed"
    },
    "tags": []
   },
   "source": [
    "## Export documents\n",
    "\n",
    "We now write the .md files and export relevant images"
   ]
  },
  {
   "cell_type": "code",
   "execution_count": 7,
   "id": "d426aed9",
   "metadata": {
    "execution": {
     "iopub.execute_input": "2025-06-04T04:20:19.963727Z",
     "iopub.status.busy": "2025-06-04T04:20:19.963268Z",
     "iopub.status.idle": "2025-06-04T04:20:19.970254Z",
     "shell.execute_reply": "2025-06-04T04:20:19.969709Z"
    },
    "papermill": {
     "duration": 0.014057,
     "end_time": "2025-06-04T04:20:19.971284",
     "exception": false,
     "start_time": "2025-06-04T04:20:19.957227",
     "status": "completed"
    },
    "tags": []
   },
   "outputs": [],
   "source": [
    "def export_markdown_summary(md: str, md_fname:str, directory: str):\n",
    "    \"\"\"Export MD document and associated relevant images\"\"\"\n",
    "    import os\n",
    "    import shutil\n",
    "    import re\n",
    "\n",
    "    if (os.path.exists(directory) and not os.path.isdir(directory)):\n",
    "        raise RuntimeError(f\"a non-directory file exists with name {directory:s}\")\n",
    "\n",
    "    if (not os.path.exists(directory)):\n",
    "        print(f\"creating directory {directory:s}\")\n",
    "        os.mkdir(directory)\n",
    "\n",
    "    fig_fnames = (re.compile(r'\\[Fig.*\\]\\((.*)\\)').findall(md) + \n",
    "                  re.compile(r'\\<img src=\"([^>\\s]*)\"[^>]*/>').findall(md))\n",
    "    print(\"found figures\", fig_fnames)\n",
    "    for fname in fig_fnames:\n",
    "        if 'http' in fname:\n",
    "            # No need to copy online figures\n",
    "            continue\n",
    "        if not os.path.exists(fname):\n",
    "            print(\"file not found\", fname)\n",
    "            continue\n",
    "        print(\"copying \", fname, \"to\", directory)\n",
    "        destdir = os.path.join(directory, os.path.dirname(fname))\n",
    "        destfname = os.path.join(destdir, os.path.basename(fname))\n",
    "        try:\n",
    "            os.makedirs(destdir)\n",
    "        except FileExistsError:\n",
    "            pass\n",
    "        shutil.copy(fname, destfname)\n",
    "    with open(os.path.join(directory, md_fname), 'w') as fout:\n",
    "        fout.write(md)\n",
    "    print(\"exported in \", os.path.join(directory, md_fname))\n",
    "    [print(\"    + \" + os.path.join(directory,fk)) for fk in fig_fnames]"
   ]
  },
  {
   "cell_type": "code",
   "execution_count": 8,
   "id": "014d04a4",
   "metadata": {
    "execution": {
     "iopub.execute_input": "2025-06-04T04:20:19.983687Z",
     "iopub.status.busy": "2025-06-04T04:20:19.983243Z",
     "iopub.status.idle": "2025-06-04T04:20:19.990073Z",
     "shell.execute_reply": "2025-06-04T04:20:19.989504Z"
    },
    "papermill": {
     "duration": 0.013797,
     "end_time": "2025-06-04T04:20:19.991009",
     "exception": false,
     "start_time": "2025-06-04T04:20:19.977212",
     "status": "completed"
    },
    "tags": []
   },
   "outputs": [
    {
     "name": "stdout",
     "output_type": "stream",
     "text": [
      "found figures ['tmp_2506.02748/./dereddened_VLMS_features_PPVII_TWA27_1.0.3.png', 'tmp_2506.02748/./dereddened_correlations_PPVII_TWA27_v8.png', '', '', '', '']\n",
      "copying  tmp_2506.02748/./dereddened_VLMS_features_PPVII_TWA27_1.0.3.png to _build/html/\n",
      "copying  tmp_2506.02748/./dereddened_correlations_PPVII_TWA27_v8.png to _build/html/\n",
      "file not found \n",
      "file not found \n",
      "file not found \n",
      "file not found \n",
      "exported in  _build/html/2506.02748.md\n",
      "    + _build/html/tmp_2506.02748/./dereddened_VLMS_features_PPVII_TWA27_1.0.3.png\n",
      "    + _build/html/tmp_2506.02748/./dereddened_correlations_PPVII_TWA27_v8.png\n",
      "    + _build/html/\n",
      "    + _build/html/\n",
      "    + _build/html/\n",
      "    + _build/html/\n",
      "found figures ['tmp_2506.02775/././Figures/median_ground_alpha_evolution_with_sat_and_flight_sca_18628.png', 'tmp_2506.02775/././Figures/median_ground_beta_evolution_with_sat_and_flight_sca_18628.png', 'tmp_2506.02775/././Figures/median_signal_evolution_and_model_sca18267_irL_11_v2.png', 'tmp_2506.02775/././Figures/median_persistence_evolution_and_model_sca18267_irL_11_v2.png', 'tmp_2506.02775/././Figures/persistence_ratio_s_irL05_irL90_irL50_spectro_irL70_spectro.png']\n",
      "copying  tmp_2506.02775/././Figures/median_ground_alpha_evolution_with_sat_and_flight_sca_18628.png to _build/html/\n",
      "copying  tmp_2506.02775/././Figures/median_ground_beta_evolution_with_sat_and_flight_sca_18628.png to _build/html/\n",
      "copying  tmp_2506.02775/././Figures/median_signal_evolution_and_model_sca18267_irL_11_v2.png to _build/html/\n",
      "copying  tmp_2506.02775/././Figures/median_persistence_evolution_and_model_sca18267_irL_11_v2.png to _build/html/\n",
      "copying  tmp_2506.02775/././Figures/persistence_ratio_s_irL05_irL90_irL50_spectro_irL70_spectro.png to _build/html/\n",
      "exported in  _build/html/2506.02775.md\n",
      "    + _build/html/tmp_2506.02775/././Figures/median_ground_alpha_evolution_with_sat_and_flight_sca_18628.png\n",
      "    + _build/html/tmp_2506.02775/././Figures/median_ground_beta_evolution_with_sat_and_flight_sca_18628.png\n",
      "    + _build/html/tmp_2506.02775/././Figures/median_signal_evolution_and_model_sca18267_irL_11_v2.png\n",
      "    + _build/html/tmp_2506.02775/././Figures/median_persistence_evolution_and_model_sca18267_irL_11_v2.png\n",
      "    + _build/html/tmp_2506.02775/././Figures/persistence_ratio_s_irL05_irL90_irL50_spectro_irL70_spectro.png\n",
      "found figures ['', '', '', '', '', '']\n",
      "file not found \n",
      "file not found \n",
      "file not found \n",
      "file not found \n",
      "file not found \n",
      "file not found \n",
      "exported in  _build/html/2506.03008.md\n",
      "    + _build/html/\n",
      "    + _build/html/\n",
      "    + _build/html/\n",
      "    + _build/html/\n",
      "    + _build/html/\n",
      "    + _build/html/\n"
     ]
    }
   ],
   "source": [
    "for paper_id, md in documents:\n",
    "    export_markdown_summary(md, f\"{paper_id:s}.md\", '_build/html/')"
   ]
  },
  {
   "cell_type": "markdown",
   "id": "f087a0a7",
   "metadata": {
    "papermill": {
     "duration": 0.005524,
     "end_time": "2025-06-04T04:20:20.002124",
     "exception": false,
     "start_time": "2025-06-04T04:20:19.996600",
     "status": "completed"
    },
    "tags": []
   },
   "source": [
    "## Display the papers\n",
    "\n",
    "Not necessary but allows for a quick check."
   ]
  },
  {
   "cell_type": "code",
   "execution_count": 9,
   "id": "fd25f625",
   "metadata": {
    "execution": {
     "iopub.execute_input": "2025-06-04T04:20:20.014760Z",
     "iopub.status.busy": "2025-06-04T04:20:20.014308Z",
     "iopub.status.idle": "2025-06-04T04:20:20.021250Z",
     "shell.execute_reply": "2025-06-04T04:20:20.020588Z"
    },
    "papermill": {
     "duration": 0.014116,
     "end_time": "2025-06-04T04:20:20.022250",
     "exception": false,
     "start_time": "2025-06-04T04:20:20.008134",
     "status": "completed"
    },
    "scrolled": false,
    "tags": []
   },
   "outputs": [
    {
     "data": {
      "text/markdown": [
       "<div class=\"macros\" style=\"visibility:hidden;\">\n",
       "$\\newcommand{\\ensuremath}{}$\n",
       "$\\newcommand{\\xspace}{}$\n",
       "$\\newcommand{\\object}[1]{\\texttt{#1}}$\n",
       "$\\newcommand{\\farcs}{{.}''}$\n",
       "$\\newcommand{\\farcm}{{.}'}$\n",
       "$\\newcommand{\\arcsec}{''}$\n",
       "$\\newcommand{\\arcmin}{'}$\n",
       "$\\newcommand{\\ion}[2]{#1#2}$\n",
       "$\\newcommand{\\textsc}[1]{\\textrm{#1}}$\n",
       "$\\newcommand{\\hl}[1]{\\textrm{#1}}$\n",
       "$\\newcommand{\\footnote}[1]{}$\n",
       "$\\newcommand{\\ama}[1]{\\textcolor{red}{\\rm #1^{(\\rm AMA)}}}$\n",
       "$\\newcommand{\\ik}[1]{\\textcolor{purple}{\\rm #1^{(\\rm IK)}}}$\n",
       "$\\newcommand{\\jay}[1]{\\textcolor{magenta}{\\rm #1^{(\\rm Jay)}}}$\n",
       "$\\newcommand{\\ch}[1]{{\\rm #1}}$\n",
       "$\\newcommand{\\hl}[1]{{{#1}}}$\n",
       "$\\newcommand{\\hll}[1]{{{#1}}}$\n",
       "$\\newcommand{\\PreserveBackslash}[1]{\\let\\temp=\\\\#1\\let\\\\=\\temp}$\n",
       "$\\newcommand{\\mybox}[2][1.1ex]{\\raisebox{#1}{\\myboxi{#2}}}$\n",
       "$\\newcommand{\\myboxx}[2][1.1ex]{\\raisebox{#1}{\\myboxxi{#2}}}$\n",
       "$\\newcommand{\\myboxxx}[2][1.1ex]{\\raisebox{#1}{\\myboxxxi{#2}}}$</div>\n",
       "\n",
       "\n",
       "\n",
       "<div id=\"title\">\n",
       "\n",
       "# MINDS: The very low-mass star and brown dwarf sample: Detections and trends in the inner disk gas\n",
       "\n",
       "</div>\n",
       "<div id=\"comments\">\n",
       "\n",
       "[![arXiv](https://img.shields.io/badge/arXiv-2506.02748-b31b1b.svg)](https://arxiv.org/abs/2506.02748)<mark>Appeared on: 2025-06-04</mark> -  _20 pages, 18 figures, Accepted for publication in Astronomy & Astrophysics_\n",
       "\n",
       "</div>\n",
       "<div id=\"authors\">\n",
       "\n",
       "A. M. Arabhavi, et al. -- incl., <mark>T. Henning</mark>, <mark>G. Perotti</mark>, <mark>K. Schwarz</mark>\n",
       "\n",
       "</div>\n",
       "<div id=\"abstract\">\n",
       "\n",
       "**Abstract:** Planet-forming disks around brown dwarfs and very low-mass stars (VLMS) are on average less massive and are expected to undergo faster radial solid transport than their higher mass counterparts. _Spitzer_ had detected $\\ch{C_2H_2}$ , $\\ch{CO_2}$ and $\\ch{HCN}$ around these objects, but did not provide a firm detection of water. With better sensitivity and spectral resolving power than that of _Spitzer_ , the _James Webb Space Telescope_ (JWST) has recently revealed incredibly carbon-rich spectra and only one water-rich spectrum from such disks. A study of a larger sample of objects is necessary to understand how common such carbon-rich inner disk regions are and to put constraints on their evolution. We present and analyze JWST MIRI/MRS observations of 10 disks around VLMS from the MIRI GTO program. This sample is diverse, with the central object ranging in mass from 0.02 to 0.14 $M_{\\odot}$ . They are located in three star-forming regions and a moving group (1-10 Myr). We identify molecular emission $\\hl{in all sources based on recent literature and spectral inspection,}$ and report detection rates. We compare the molecular flux ratios between different species and to dust emission strengths. We also compare the flux ratios with the stellar and disk properties. The spectra of these VLMS disks are extremely rich in molecular emission, and we detect the 10 $\\mu$ m silicate dust emission feature in 70 \\% of the sample. We detect $\\ch{C_2H_2}$ and $\\ch{HCN}$ in all of the sources and find larger hydrocarbons such as $\\ch{C_4H_2}$ and $\\ch{C_6H_6}$ in nearly all sources. Among oxygen-bearing molecules, we find firm detections of $\\ch{CO_2}$ , $\\ch{H_2O}$ , and $\\ch{CO}$ in 90 \\% , 50 \\% , and 20 \\% of the sample, respectively. We find that the detection rates of organic molecules correlate with other organic molecules and anti-correlate with the detection rates of inorganic molecules. Hydrocarbon-rich sources show a weaker 10 $\\mu$ m dust strength as well as lower disk dust mass (measured from millimeter fluxes) than the oxygen-rich sources. We find potential evidence for C/O enhancement with disk age. The observed trends are consistent with models that suggest rapid inward solid material transport and grain growth.\n",
       "\n",
       "</div>\n",
       "\n",
       "<div id=\"div_fig1\">\n",
       "\n",
       "<img src=\"tmp_2506.02748/./dereddened_VLMS_features_PPVII_TWA27_1.0.3.png\" alt=\"Fig17\" width=\"100%\"/>\n",
       "\n",
       "**Figure 17. -** Summary of dust and gas observations. The left panels show continuum-normalized dust strengths highlighting $\\ch${SiO_2}, enstatite, and forsterite emission features. The middle panels show a zoom in on the observed $\\ch${C_2H_2} features highlighting four peaks corresponding to the main and rare isotopologues in red and blue respectively. The right panels show the continuum-subtracted hydrocarbon-rich wavelength region of the spectra. The grey regions highlight the main $Q$-branches of molecules in this wavelength region. $\\ch${HCN^*} and $\\ch${CO_2^*} indicate hot bands $\\nu_2$:1-0 and $\\nu_1\\nu_2\\nu_3$:100-010, respectively. The spectra are ordered by increasing flux ratios of the $\\ch${^{13}CCH_2} and $\\ch${C_2H_2} peaks (see Sect. \\ref{sec:trends2}) and are normalised to a distance of 150 pc. (*fig:features_summary*)\n",
       "\n",
       "</div>\n",
       "<div id=\"div_fig2\">\n",
       "\n",
       "<img src=\"tmp_2506.02748/./dereddened_correlations_PPVII_TWA27_v8.png\" alt=\"Fig23\" width=\"100%\"/>\n",
       "\n",
       "**Figure 23. -** Binary correlation coefficients  (Yule1912)  between the detection rates of different molecules. The box on the bottom left describes the details of various numbers shown in each colored box on the right. The color denotes the value of the correlation coefficient, with red corresponding to an anti-correlation and blue corresponding to a correlation. For calculating the coefficients only firm detections are considered as `detected' while the rest (including tentative detections) are considered `not detected'. Molecules that are detected in all the sources or are detected in only one source are not shown. Molecule pairs with statistically significant correlations (p-value<0.05) are highlighted with black borders. (*fig:correlations*)\n",
       "\n",
       "</div>\n",
       "<div id=\"div_fig3\">\n",
       "\n",
       "<img src=\"\" alt=\"Fig5.1\" width=\"25%\"/><img src=\"\" alt=\"Fig5.2\" width=\"25%\"/><img src=\"\" alt=\"Fig5.3\" width=\"25%\"/><img src=\"\" alt=\"Fig5.4\" width=\"25%\"/>\n",
       "\n",
       "**Figure 5. -** Vibrational stability equation of state\n",
       "               $S_{\\mathrm{vib}}(\\lg e, \\lg \\rho)$.\n",
       "               $>0$ means vibrational stability.\n",
       "              Vibrational stability equation of state\n",
       "               $S_{\\mathrm{vib}}(\\lg e, \\lg \\rho)$.\n",
       "               $>0$ means vibrational stability.\n",
       "              Nonlinear Model ResultsNonlinear Model ResultsSpectral types and photometry for stars in the\n",
       "  region.Spectral types and photometry for stars in the\n",
       "  region.List of nearby SNe used in this work.Summary for ISOCAM sources with mid-IR excess\n",
       "(YSO candidates).Summary for ISOCAM sources with mid-IR excess\n",
       "(YSO candidates). Sample stars with absolute magnitudecontinued. Sample stars with absolute magnitudecontinued.Shown in greyscale is a...Plotted above...Complexes characterisation.Line data and abundances ...Continued. (*FigVibStab*)\n",
       "\n",
       "</div><div id=\"qrcode\"><img src=https://api.qrserver.com/v1/create-qr-code/?size=100x100&data=\"https://arxiv.org/abs/2506.02748\"></div>"
      ],
      "text/plain": [
       "<IPython.core.display.Markdown object>"
      ]
     },
     "metadata": {},
     "output_type": "display_data"
    },
    {
     "data": {
      "text/markdown": [
       "<div class=\"macros\" style=\"visibility:hidden;\">\n",
       "$\\newcommand{\\ensuremath}{}$\n",
       "$\\newcommand{\\xspace}{}$\n",
       "$\\newcommand{\\object}[1]{\\texttt{#1}}$\n",
       "$\\newcommand{\\farcs}{{.}''}$\n",
       "$\\newcommand{\\farcm}{{.}'}$\n",
       "$\\newcommand{\\arcsec}{''}$\n",
       "$\\newcommand{\\arcmin}{'}$\n",
       "$\\newcommand{\\ion}[2]{#1#2}$\n",
       "$\\newcommand{\\textsc}[1]{\\textrm{#1}}$\n",
       "$\\newcommand{\\hl}[1]{\\textrm{#1}}$\n",
       "$\\newcommand{\\footnote}[1]{}$\n",
       "$\\newcommand{\\baselinestretch}{1.0}$\n",
       "$\\newcommand{\\thesubfigure}{\\Alph{subfigure}}$</div>\n",
       "\n",
       "\n",
       "\n",
       "<div id=\"title\">\n",
       "\n",
       "# Performance of the image persistence model for ${\\LARGE_**Euclid**_}$ infrared detectors\n",
       "\n",
       "</div>\n",
       "<div id=\"comments\">\n",
       "\n",
       "[![arXiv](https://img.shields.io/badge/arXiv-2506.02775-b31b1b.svg)](https://arxiv.org/abs/2506.02775)<mark>Appeared on: 2025-06-04</mark> -  _SPIE Astronomical Telescopes + Instrumentation, 2024, Yokohama, Japan_\n",
       "\n",
       "</div>\n",
       "<div id=\"authors\">\n",
       "\n",
       "B. Kubik, et al. -- incl., <mark>K. Jahnke</mark>, <mark>K. Paterson</mark>, <mark>M. Schirmer</mark>, <mark>O. Krause</mark>\n",
       "\n",
       "</div>\n",
       "<div id=\"abstract\">\n",
       "\n",
       "**Abstract:** Large-format infrared detectors are at the heart of major ground and space-based astronomical instruments, and the HgCdTe HxRG is the most widely used. The Near Infrared Spectrometer and Photometer (NISP) of the ESA's $\\Euclid$ mission launched in July 2023 hosts 16 H2RG detectors in the focal plane. Their performance relies heavily on the effect of image persistence, which results in residual images that can remain in the detector for a long time contaminating any subsequent observations.Deriving a precise model of image persistence is challenging due to the sensitivity of this effect to observation history going back hours or even days. Nevertheless, persistence removal is a critical part of image processing because it limits the accuracy of the derived cosmological parameters.We will present the empirical model of image persistence derived from ground characterization data, adapted to the $\\Euclid$ observation sequence and compared with the data obtained during the in-orbit calibrations of the satellite.\n",
       "\n",
       "</div>\n",
       "\n",
       "<div id=\"div_fig1\">\n",
       "\n",
       "<img src=\"tmp_2506.02775/././Figures/median_ground_alpha_evolution_with_sat_and_flight_sca_18628.png\" alt=\"Fig4.1\" width=\"50%\"/><img src=\"tmp_2506.02775/././Figures/median_ground_beta_evolution_with_sat_and_flight_sca_18628.png\" alt=\"Fig4.2\" width=\"50%\"/>\n",
       "\n",
       "**Figure 4. -**  Median parameters $\\alpha$(left panel) and $\\beta$(right panel) of the persistence model for one detector as function of fluence. The unfilled circles show the parameters $\\alpha_\\text{gd}$ and $\\beta_\\text{gd}$ measured during ground characterizations for unsaturating stimuli. The * markers show the parameters $\\alpha_\\text{gd}$ and $\\beta_\\text{gd}$ from ground characterizations for saturating stimuli. The filled circular markers represent the coefficients measured from flight calibrations $\\alpha_\\text{flight}$ and $\\beta_\\text{flight}$. (*fig:alpha_beta_median*)\n",
       "\n",
       "</div>\n",
       "<div id=\"div_fig2\">\n",
       "\n",
       "<img src=\"tmp_2506.02775/././Figures/median_signal_evolution_and_model_sca18267_irL_11_v2.png\" alt=\"Fig8.1\" width=\"50%\"/><img src=\"tmp_2506.02775/././Figures/median_persistence_evolution_and_model_sca18267_irL_11_v2.png\" alt=\"Fig8.2\" width=\"50%\"/>\n",
       "\n",
       "**Figure 8. -** Stabilisation of detector median stimulus amplitude (left panel) and persistence amplitude (right panel) in a sequence of measurements consisting of 15 pairs of flat and dark exposures at a constant nominal fluence, taken after the detector has been in the dark for a long period of time. The steady-state values of signal $S_\\infty$ and persistence $P_\\infty$ amplitudes are indicated by grey dashed lines. (*fig:pers_stabilisation*)\n",
       "\n",
       "</div>\n",
       "<div id=\"div_fig3\">\n",
       "\n",
       "<img src=\"tmp_2506.02775/././Figures/persistence_ratio_s_irL05_irL90_irL50_spectro_irL70_spectro.png\" alt=\"Fig9\" width=\"100%\"/>\n",
       "\n",
       "**Figure 9. -** Relative persistence in NISP detectors for typical photometric exposure of 87s. Unsaturating stimuli are represented by blue circles and green squares. Saturating fluences are represented by red triangles and grey pentagons. (*fig:pers_to_signal*)\n",
       "\n",
       "</div><div id=\"qrcode\"><img src=https://api.qrserver.com/v1/create-qr-code/?size=100x100&data=\"https://arxiv.org/abs/2506.02775\"></div>"
      ],
      "text/plain": [
       "<IPython.core.display.Markdown object>"
      ]
     },
     "metadata": {},
     "output_type": "display_data"
    },
    {
     "data": {
      "text/markdown": [
       "<div class=\"macros\" style=\"visibility:hidden;\">\n",
       "$\\newcommand{\\ensuremath}{}$\n",
       "$\\newcommand{\\xspace}{}$\n",
       "$\\newcommand{\\object}[1]{\\texttt{#1}}$\n",
       "$\\newcommand{\\farcs}{{.}''}$\n",
       "$\\newcommand{\\farcm}{{.}'}$\n",
       "$\\newcommand{\\arcsec}{''}$\n",
       "$\\newcommand{\\arcmin}{'}$\n",
       "$\\newcommand{\\ion}[2]{#1#2}$\n",
       "$\\newcommand{\\textsc}[1]{\\textrm{#1}}$\n",
       "$\\newcommand{\\hl}[1]{\\textrm{#1}}$\n",
       "$\\newcommand{\\footnote}[1]{}$\n",
       "$\\newcommand$\n",
       "$\\newcommand$\n",
       "$\\newcommand{\\orcid}[1]$\n",
       "$\\newcommand{\\bfpsi}{\\bm\\psi}$\n",
       "$\\newcommand{\\bfell}{\\bm\\ell}$\n",
       "$\\newcommand{\\bfn}{\\bm n}$\n",
       "$\\newcommand{\\bfth}{\\bm\\theta}$\n",
       "$\\newcommand{\\bfz}{\\bm z}$\n",
       "$\\newcommand{\\bfs}{\\bm s}$\n",
       "$\\newcommand{\\bfv}{\\bm v}$\n",
       "$\\newcommand{\\bfx}{\\bm x}$\n",
       "$\\newcommand{\\bfk}{\\bm k}$\n",
       "$\\newcommand{\\bfp}{\\bm p}$\n",
       "$\\newcommand{\\bfq}{\\bm q}$\n",
       "$\\newcommand{\\bfr}{\\bm r}$\n",
       "$\\newcommand{\\bfu}{\\bm u}$\n",
       "$\\newcommand{\\bfw}{\\bm w}$\n",
       "$\\newcommand{\\bfy}{\\bm y}$\n",
       "$\\newcommand{\\bfPhi}{\\bm\\Phi}$\n",
       "$\\newcommand{\\bfM}{\\bm M}$\n",
       "$\\newcommand{\\bfF}{\\bm F}$\n",
       "$\\newcommand{\\fnl}{f_{\\rm NL}}$\n",
       "$\\newcommand{\\gnl}{g_{\\rm NL}}$\n",
       "$\\newcommand{\\tdu}{\\widetilde{u}}$\n",
       "$\\newcommand{\\tdPhi}{\\widetilde{\\Phi}}$\n",
       "$\\newcommand{\\tdG}{\\widetilde{G}}$\n",
       "$\\newcommand{\\tdP}{\\widetilde{P}}$\n",
       "$\\newcommand{\\tdR}{\\widetilde{R}}$\n",
       "$\\newcommand{\\bfkk}{\\mbox{\\boldmathk}}$\n",
       "$\\newcommand{\\GCsp}{\\text{GC}\\ensuremath{_\\mathrm{sp}}}$\n",
       "$\\newcommand{\\GCph}{\\text{GC}\\ensuremath{_\\mathrm{ph}}}$\n",
       "$\\newcommand{\\Omegam}{\\ensuremath{\\Omega_{\\mathrm{m},0}}}$\n",
       "$\\newcommand{\\Omegab}{\\ensuremath{\\Omega_{\\mathrm{b},0}}}$\n",
       "$\\newcommand{\\OmegaDE}{\\ensuremath{\\Omega_{\\mathrm{DE},0}}}$\n",
       "$\\newcommand{\\ns}{n_{\\mathrm{s}}}$\n",
       "$\\newcommand{\\lcdm}{\\ensuremath{\\Lambda\\mathrm{CDM}}}$\n",
       "$\\newcommand{\\logfr}{\\ensuremath{\\log_{10}(|f_{R0}|)}}$\n",
       "$\\newcommand{\\fr}{\\ensuremath{|f_{R0}|}}$\n",
       "$\\newcommand{\\sg}{\\ensuremath{\\sigma_{8}}}$\n",
       "$\\newcommand{\\de}{\\mathrm{d}}$\n",
       "$\\newcommand{\\etal}{\\emph{et~al}}$\n",
       "$\\newcommand{\\fRpaper}[1]{{\\color{orange}{#1}}}$\n",
       "$\\newcommand{\\ISTcite}{Blanchard:2019oqi }$</div>\n",
       "\n",
       "\n",
       "\n",
       "<div id=\"title\">\n",
       "\n",
       "# $\\Euclid$ preparation: Constraining parameterised models of modifications of gravity with the spectroscopic and photometric primary probes\n",
       "\n",
       "</div>\n",
       "<div id=\"comments\">\n",
       "\n",
       "[![arXiv](https://img.shields.io/badge/arXiv-2506.03008-b31b1b.svg)](https://arxiv.org/abs/2506.03008)<mark>Appeared on: 2025-06-04</mark> -  _21 pages, 9 figures_\n",
       "\n",
       "</div>\n",
       "<div id=\"authors\">\n",
       "\n",
       "E. Collaboration, et al. -- incl., <mark>K. Jahnke</mark>\n",
       "\n",
       "</div>\n",
       "<div id=\"abstract\">\n",
       "\n",
       "**Abstract:** The $\\Euclid$ mission has the potential to understand the fundamental physical nature of late-time cosmic acceleration and, as such, of deviations from the standard cosmological model, $\\lcdm$ .In this paper, we focus on model-independent methods to modify the evolution of scalar perturbations at linear scales.We consider two powerful and convenient approaches: the first is based on the two phenomenological modified gravity (PMG) parameters, $\\mu_{\\rm mg}$ and $\\Sigma_{\\rm mg}$ , which are phenomenologically connected to the clustering of matter and weak lensing, respectively; and the second is the effective field theory (EFT) of dark energy and modified gravity, which we use to parameterise the braiding function, $\\alpha_{\\rm B}$ , which defines the mixing between the metric and the dark energy field typical of Galileon theories. We discuss the predictions from spectroscopic and photometric primary probes by $\\Euclid$ on the cosmological parameters and a given set of additional parameters featuring the PMG and EFT models. We use the Fisher matrix method applied to spectroscopic galaxy clustering ( $\\GCsp$ ), weak lensing (WL), photometric galaxy clustering ( $\\GCph$ ), and cross-correlation (XC) between $\\GCph$ and WL. For the modelling of photometric predictions on nonlinear scales, we use the halo model reaction approach to cover two limiting cases for the screening mechanism: the unscreened (US) case, for which the screening mechanism is not present; and the super-screened (SS) case, which assumes strong screening.We also assume scale cuts to account for our uncertainties in the modelling of nonlinear perturbation evolution. We choose a time-dependent form for $\\{\\mu_{\\rm mg},\\Sigma_{\\rm mg}\\}$ , with two fiducial sets of values for the corresponding model parameters at the present time, $\\{\\bar{\\mu}_0,\\bar{\\Sigma}_0\\}$ , and two forms for $\\alpha_{\\rm B}$ , with one fiducial set of values for each of the model parameters, $\\alpha_{\\rm B,0}$ and $\\{\\alpha_{\\rm B,0},m\\}$ . At the 68.3 \\% confidence level, the percentage relative errors obtained with $\\Euclid$ alone and our conservative settings for the full combination of probes for the US case are: for $\\{\\bar{\\mu}_0,\\bar{\\Sigma}_0\\}$ , with a $\\lcdm$ fiducial, \\{ $23.3\\%$ , $2.6\\%$ \\} ; for a fiducial $\\{\\bar{\\mu}_0,\\bar{\\Sigma}_0\\}$ = $\\{0.5,0.5\\}$ we obtain ${$36.2\\%$, $2.7\\%$}$ ; for $\\alpha_{\\rm B,0}$ whose fiducial is $0.2$ , we have $31.1\\%$ and for $\\{\\alpha_{\\rm B,0},m\\}$ with fiducial $\\{0.9,2.4\\}$ we have $11.6\\%$ and $11.8\\%$ . The constraints we obtain with the SS prescription provide similar values. We also compute the constraints for different combinations of probes to assess their standalone and complementary constraining power.\n",
       "\n",
       "</div>\n",
       "\n",
       "<div id=\"div_fig1\">\n",
       "\n",
       "<img src=\"\" alt=\"Fig4.1\" width=\"50%\"/><img src=\"\" alt=\"Fig4.2\" width=\"50%\"/>\n",
       "\n",
       "**Figure 4. -** 68\\% and 95\\% joint marginal error contours on the cosmological parameters in the phenomenological modified gravity approach for the PMG-2 case, using different probe combinations: $\\GCsp$(orange); 3\\texttimes2 pt. statistics (blue); and $\\GCsp$+3\\texttimes2 pt. statistics (green). Two different nonlinear corrections have also been considered for the photometric probes: US (left panels); and SS (right panels). (*fig:ellipses-musigma_GC2*)\n",
       "\n",
       "</div>\n",
       "<div id=\"div_fig2\">\n",
       "\n",
       "<img src=\"\" alt=\"Fig6.1\" width=\"50%\"/><img src=\"\" alt=\"Fig6.2\" width=\"50%\"/>\n",
       "\n",
       "**Figure 6. -** 3\\texttimes2 pt. statistics 68\\% marginal error on $\\bar{\\mu}_0$(left panel), $\\bar{\\Sigma}_0$(right panel) as a function of the $k^{\\rm 3\\times2pt}_{\\rm max}$ value considered in the photometric analysis for the PMG-1 model when all other parameters are fixed to their fiducial values. (*fig:musigma_maxed*)\n",
       "\n",
       "</div>\n",
       "<div id=\"div_fig3\">\n",
       "\n",
       "<img src=\"\" alt=\"Fig3.1\" width=\"50%\"/><img src=\"\" alt=\"Fig3.2\" width=\"50%\"/>\n",
       "\n",
       "**Figure 3. -** 68\\% and 95\\% joint marginal error contours on the cosmological parameters in the phenomenological modified gravity approach for the PMG-1 case, using different probe combinations: $\\GCsp$(orange); 3\\texttimes2 pt. statistics (blue); and $\\GCsp$+3\\texttimes2 pt. statistics (green). Two different nonlinear corrections have also been considered for the photometric probes: US (left panels); and SS (right panels).\n",
       "  (*fig:ellipses-musigma_GC1*)\n",
       "\n",
       "</div><div id=\"qrcode\"><img src=https://api.qrserver.com/v1/create-qr-code/?size=100x100&data=\"https://arxiv.org/abs/2506.03008\"></div>"
      ],
      "text/plain": [
       "<IPython.core.display.Markdown object>"
      ]
     },
     "metadata": {},
     "output_type": "display_data"
    }
   ],
   "source": [
    "[display(Markdown(k[1])) for k in documents];"
   ]
  },
  {
   "cell_type": "markdown",
   "id": "873873a4",
   "metadata": {
    "papermill": {
     "duration": 0.00605,
     "end_time": "2025-06-04T04:20:20.034363",
     "exception": false,
     "start_time": "2025-06-04T04:20:20.028313",
     "status": "completed"
    },
    "tags": []
   },
   "source": [
    "# Create HTML index"
   ]
  },
  {
   "cell_type": "code",
   "execution_count": 10,
   "id": "cf665672",
   "metadata": {
    "execution": {
     "iopub.execute_input": "2025-06-04T04:20:20.047594Z",
     "iopub.status.busy": "2025-06-04T04:20:20.047132Z",
     "iopub.status.idle": "2025-06-04T04:20:20.057707Z",
     "shell.execute_reply": "2025-06-04T04:20:20.057052Z"
    },
    "papermill": {
     "duration": 0.018186,
     "end_time": "2025-06-04T04:20:20.058696",
     "exception": false,
     "start_time": "2025-06-04T04:20:20.040510",
     "status": "completed"
    },
    "tags": []
   },
   "outputs": [
    {
     "name": "stdout",
     "output_type": "stream",
     "text": [
      "510  publications files modified in the last 7 days.\n"
     ]
    }
   ],
   "source": [
    "from datetime import datetime, timedelta, timezone\n",
    "from glob import glob\n",
    "import os\n",
    "\n",
    "files = glob('_build/html/*.md')\n",
    "days = 7\n",
    "now = datetime.today()\n",
    "res = []\n",
    "for fk in files:\n",
    "    stat_result = os.stat(fk).st_ctime\n",
    "    modified = datetime.fromtimestamp(stat_result, tz=timezone.utc).replace(tzinfo=None)\n",
    "    delta = now.today() - modified\n",
    "    if delta <= timedelta(days=days):\n",
    "        res.append((delta.seconds, fk))\n",
    "res = [k[1] for k in reversed(sorted(res, key=lambda x:x[1]))]\n",
    "npub = len(res)\n",
    "print(len(res), f\" publications files modified in the last {days:d} days.\")\n",
    "# [ print('\\t', k) for k in res ];"
   ]
  },
  {
   "cell_type": "code",
   "execution_count": 11,
   "id": "015de740",
   "metadata": {
    "execution": {
     "iopub.execute_input": "2025-06-04T04:20:20.072161Z",
     "iopub.status.busy": "2025-06-04T04:20:20.071612Z",
     "iopub.status.idle": "2025-06-04T04:20:20.096215Z",
     "shell.execute_reply": "2025-06-04T04:20:20.095577Z"
    },
    "papermill": {
     "duration": 0.032405,
     "end_time": "2025-06-04T04:20:20.097295",
     "exception": false,
     "start_time": "2025-06-04T04:20:20.064890",
     "status": "completed"
    },
    "tags": []
   },
   "outputs": [
    {
     "name": "stdout",
     "output_type": "stream",
     "text": [
      "9  publications in the last 7 days.\n"
     ]
    }
   ],
   "source": [
    "import datetime\n",
    "from glob import glob\n",
    "\n",
    "def get_last_n_days(lst, days=1):\n",
    "    \"\"\" Get the documents from the last n days \"\"\"\n",
    "    sorted_lst = sorted(lst, key=lambda x: x[1], reverse=True)\n",
    "    for fname, date in sorted_lst:\n",
    "        if date >= str(datetime.date.today() - datetime.timedelta(days=days)):\n",
    "            yield fname\n",
    "\n",
    "def extract_appearance_dates(lst_file):\n",
    "    dates = []\n",
    "\n",
    "    def get_date(line):\n",
    "        return line\\\n",
    "            .split('Appeared on:')[-1]\\\n",
    "            .split('</mark>')[0].strip()\n",
    "\n",
    "    for fname in lst:\n",
    "        with open(fname, 'r') as f:\n",
    "            found_date = False\n",
    "            for line in f:\n",
    "                if not found_date:\n",
    "                    if \"Appeared on\" in line:\n",
    "                        found_date = True\n",
    "                        dates.append((fname, get_date(line)))\n",
    "                else:\n",
    "                    break\n",
    "    return dates\n",
    "\n",
    "from glob import glob\n",
    "lst = glob('_build/html/*md')\n",
    "days = 7\n",
    "dates = extract_appearance_dates(lst)\n",
    "res = list(get_last_n_days(dates, days))\n",
    "npub = len(res)\n",
    "print(len(res), f\" publications in the last {days:d} days.\")"
   ]
  },
  {
   "cell_type": "code",
   "execution_count": 12,
   "id": "52ca0208",
   "metadata": {
    "execution": {
     "iopub.execute_input": "2025-06-04T04:20:20.110880Z",
     "iopub.status.busy": "2025-06-04T04:20:20.110374Z",
     "iopub.status.idle": "2025-06-04T04:20:20.115317Z",
     "shell.execute_reply": "2025-06-04T04:20:20.114693Z"
    },
    "papermill": {
     "duration": 0.012652,
     "end_time": "2025-06-04T04:20:20.116290",
     "exception": false,
     "start_time": "2025-06-04T04:20:20.103638",
     "status": "completed"
    },
    "scrolled": false,
    "tags": []
   },
   "outputs": [],
   "source": [
    "def create_carousel(npub=4):\n",
    "    \"\"\" Generate the HTML code for a carousel with `npub` slides \"\"\"\n",
    "    carousel = [\"\"\"  <div class=\"carousel\" \"\"\",\n",
    "                \"\"\"       data-flickity='{ \"autoPlay\": 10000, \"adaptiveHeight\": true, \"resize\": true, \"wrapAround\": true, \"pauseAutoPlayOnHover\": true, \"groupCells\": 1 }' id=\"asyncTypeset\">\"\"\"\n",
    "                ]\n",
    "    \n",
    "    item_str = \"\"\"    <div class=\"carousel-cell\"> <div id=\"slide{k}\" class=\"md_view\">Content {k}</div> </div>\"\"\"\n",
    "    for k in range(1, npub + 1):\n",
    "        carousel.append(item_str.format(k=k))\n",
    "    carousel.append(\"  </div>\")\n",
    "    return '\\n'.join(carousel)\n",
    "\n",
    "def create_grid(npub=4):\n",
    "    \"\"\" Generate the HTML code for a flat grid with `npub` slides \"\"\"\n",
    "    grid = [\"\"\"  <div class=\"grid\"> \"\"\",\n",
    "                ]\n",
    "    \n",
    "    item_str = \"\"\"    <div class=\"grid-item\"> <div id=\"slide{k}\" class=\"md_view\">Content {k}</div> </div>\"\"\"\n",
    "    for k in range(1, npub + 1):\n",
    "        grid.append(item_str.format(k=k))\n",
    "    grid.append(\"  </div>\")\n",
    "    return '\\n'.join(grid)"
   ]
  },
  {
   "cell_type": "code",
   "execution_count": 13,
   "id": "a6eac5b6",
   "metadata": {
    "execution": {
     "iopub.execute_input": "2025-06-04T04:20:20.130042Z",
     "iopub.status.busy": "2025-06-04T04:20:20.129693Z",
     "iopub.status.idle": "2025-06-04T04:20:20.134542Z",
     "shell.execute_reply": "2025-06-04T04:20:20.134031Z"
    },
    "papermill": {
     "duration": 0.012749,
     "end_time": "2025-06-04T04:20:20.135525",
     "exception": false,
     "start_time": "2025-06-04T04:20:20.122776",
     "status": "completed"
    },
    "scrolled": false,
    "tags": []
   },
   "outputs": [],
   "source": [
    "carousel = create_carousel(npub)\n",
    "docs = ', '.join(['\"{0:s}\"'.format(k.split('/')[-1]) for k in res])\n",
    "slides = ', '.join([f'\"slide{k}\"' for k in range(1, npub + 1)])\n",
    "\n",
    "with open(\"daily_template.html\", \"r\") as tpl:\n",
    "    page = tpl.read()\n",
    "    page = page.replace(\"{%-- carousel:s --%}\", carousel)\\\n",
    "               .replace(\"{%-- suptitle:s --%}\",  \"7-day archives\" )\\\n",
    "               .replace(\"{%-- docs:s --%}\", docs)\\\n",
    "               .replace(\"{%-- slides:s --%}\", slides)\n",
    "    \n",
    "with open(\"_build/html/index_7days.html\", 'w') as fout:\n",
    "    fout.write(page)"
   ]
  },
  {
   "cell_type": "code",
   "execution_count": 14,
   "id": "adc1a1ec",
   "metadata": {
    "execution": {
     "iopub.execute_input": "2025-06-04T04:20:20.149306Z",
     "iopub.status.busy": "2025-06-04T04:20:20.148902Z",
     "iopub.status.idle": "2025-06-04T04:20:20.155672Z",
     "shell.execute_reply": "2025-06-04T04:20:20.155143Z"
    },
    "papermill": {
     "duration": 0.014731,
     "end_time": "2025-06-04T04:20:20.156719",
     "exception": false,
     "start_time": "2025-06-04T04:20:20.141988",
     "status": "completed"
    },
    "tags": []
   },
   "outputs": [
    {
     "name": "stdout",
     "output_type": "stream",
     "text": [
      "4  publications in the last day.\n"
     ]
    }
   ],
   "source": [
    "# redo for today\n",
    "days = 1\n",
    "res = list(get_last_n_days(dates, days))\n",
    "npub = len(res)\n",
    "print(len(res), f\" publications in the last day.\")\n",
    "\n",
    "carousel = create_carousel(npub)\n",
    "docs = ', '.join(['\"{0:s}\"'.format(k.split('/')[-1]) for k in res])\n",
    "slides = ', '.join([f'\"slide{k}\"' for k in range(1, npub + 1)])\n",
    "\n",
    "with open(\"daily_template.html\", \"r\") as tpl:\n",
    "    page = tpl.read()\n",
    "    page = page.replace(\"{%-- carousel:s --%}\", carousel)\\\n",
    "               .replace(\"{%-- suptitle:s --%}\",  \"Daily\" )\\\n",
    "               .replace(\"{%-- docs:s --%}\", docs)\\\n",
    "               .replace(\"{%-- slides:s --%}\", slides)\n",
    "    \n",
    "# print(carousel, docs, slides)\n",
    "# print(page)\n",
    "with open(\"_build/html/index_daily.html\", 'w') as fout:\n",
    "    fout.write(page)"
   ]
  },
  {
   "cell_type": "code",
   "execution_count": 15,
   "id": "00eece82",
   "metadata": {
    "execution": {
     "iopub.execute_input": "2025-06-04T04:20:20.170502Z",
     "iopub.status.busy": "2025-06-04T04:20:20.170122Z",
     "iopub.status.idle": "2025-06-04T04:20:20.176421Z",
     "shell.execute_reply": "2025-06-04T04:20:20.175937Z"
    },
    "papermill": {
     "duration": 0.014302,
     "end_time": "2025-06-04T04:20:20.177432",
     "exception": false,
     "start_time": "2025-06-04T04:20:20.163130",
     "status": "completed"
    },
    "scrolled": false,
    "tags": []
   },
   "outputs": [
    {
     "name": "stdout",
     "output_type": "stream",
     "text": [
      "6  6 publications selected.\n"
     ]
    }
   ],
   "source": [
    "# Create the flat grid of the last N papers (fixed number regardless of dates)\n",
    "from itertools import islice \n",
    "\n",
    "npub = 6\n",
    "res = [k[0] for k in (islice(reversed(sorted(dates, key=lambda x: x[1])), 6))]\n",
    "print(len(res), f\" {npub} publications selected.\")\n",
    "\n",
    "grid = create_grid(npub)\n",
    "docs = ', '.join(['\"{0:s}\"'.format(k.split('/')[-1]) for k in res])\n",
    "slides = ', '.join([f'\"slide{k}\"' for k in range(1, npub + 1)])\n",
    "\n",
    "with open(\"grid_template.html\", \"r\") as tpl:\n",
    "    page = tpl.read()\n",
    "    page = page.replace(\"{%-- grid-content:s --%}\", grid)\\\n",
    "               .replace(\"{%-- suptitle:s --%}\",  f\"Last {npub:,d} papers\" )\\\n",
    "               .replace(\"{%-- docs:s --%}\", docs)\\\n",
    "               .replace(\"{%-- slides:s --%}\", slides)\n",
    "    \n",
    "# print(grid, docs, slides)\n",
    "# print(page)\n",
    "with open(\"_build/html/index_npub_grid.html\", 'w') as fout:\n",
    "    fout.write(page)"
   ]
  }
 ],
 "metadata": {
  "kernelspec": {
   "display_name": "Python 3 (ipykernel)",
   "language": "python",
   "name": "python3"
  },
  "language_info": {
   "codemirror_mode": {
    "name": "ipython",
    "version": 3
   },
   "file_extension": ".py",
   "mimetype": "text/x-python",
   "name": "python",
   "nbconvert_exporter": "python",
   "pygments_lexer": "ipython3",
   "version": "3.9.22"
  },
  "papermill": {
   "default_parameters": {},
   "duration": 164.382891,
   "end_time": "2025-06-04T04:20:20.400048",
   "environment_variables": {},
   "exception": null,
   "input_path": "MPIA daily digest.ipynb",
   "output_path": "log.ipynb",
   "parameters": {},
   "start_time": "2025-06-04T04:17:36.017157",
   "version": "2.6.0"
  },
  "vscode": {
   "interpreter": {
    "hash": "aee8b7b246df8f9039afb4144a1f6fd8d2ca17a180786b69acc140d282b71a49"
   }
  },
  "widgets": {
   "application/vnd.jupyter.widget-state+json": {
    "state": {
     "00185bbd482f47c58205f1ec72db5f67": {
      "model_module": "@jupyter-widgets/controls",
      "model_module_version": "2.0.0",
      "model_name": "HBoxModel",
      "state": {
       "_dom_classes": [],
       "_model_module": "@jupyter-widgets/controls",
       "_model_module_version": "2.0.0",
       "_model_name": "HBoxModel",
       "_view_count": null,
       "_view_module": "@jupyter-widgets/controls",
       "_view_module_version": "2.0.0",
       "_view_name": "HBoxView",
       "box_style": "",
       "children": [
        "IPY_MODEL_7e8a55ea672a4cbab537651b199ee0a0",
        "IPY_MODEL_8e599a77564d45be824a9d4b53fc10c8",
        "IPY_MODEL_49bdc0211ad2455c96d52dfcd8289583"
       ],
       "layout": "IPY_MODEL_bb2a5b3219ca44f0b18cfdf8231fa5d2",
       "tabbable": null,
       "tooltip": null
      }
     },
     "2042d0458bbb438887038370925f841c": {
      "model_module": "@jupyter-widgets/base",
      "model_module_version": "2.0.0",
      "model_name": "LayoutModel",
      "state": {
       "_model_module": "@jupyter-widgets/base",
       "_model_module_version": "2.0.0",
       "_model_name": "LayoutModel",
       "_view_count": null,
       "_view_module": "@jupyter-widgets/base",
       "_view_module_version": "2.0.0",
       "_view_name": "LayoutView",
       "align_content": null,
       "align_items": null,
       "align_self": null,
       "border_bottom": null,
       "border_left": null,
       "border_right": null,
       "border_top": null,
       "bottom": null,
       "display": null,
       "flex": null,
       "flex_flow": null,
       "grid_area": null,
       "grid_auto_columns": null,
       "grid_auto_flow": null,
       "grid_auto_rows": null,
       "grid_column": null,
       "grid_gap": null,
       "grid_row": null,
       "grid_template_areas": null,
       "grid_template_columns": null,
       "grid_template_rows": null,
       "height": null,
       "justify_content": null,
       "justify_items": null,
       "left": null,
       "margin": null,
       "max_height": null,
       "max_width": null,
       "min_height": null,
       "min_width": null,
       "object_fit": null,
       "object_position": null,
       "order": null,
       "overflow": null,
       "padding": null,
       "right": null,
       "top": null,
       "visibility": null,
       "width": null
      }
     },
     "49bdc0211ad2455c96d52dfcd8289583": {
      "model_module": "@jupyter-widgets/controls",
      "model_module_version": "2.0.0",
      "model_name": "HTMLModel",
      "state": {
       "_dom_classes": [],
       "_model_module": "@jupyter-widgets/controls",
       "_model_module_version": "2.0.0",
       "_model_name": "HTMLModel",
       "_view_count": null,
       "_view_module": "@jupyter-widgets/controls",
       "_view_module_version": "2.0.0",
       "_view_name": "HTMLView",
       "description": "",
       "description_allow_html": false,
       "layout": "IPY_MODEL_d40e01d462204c4ea2e49ac6010f348d",
       "placeholder": "​",
       "style": "IPY_MODEL_716dca976ab441219c6b111424734bf4",
       "tabbable": null,
       "tooltip": null,
       "value": " 6/6 [01:31&lt;00:00, 13.10s/it]"
      }
     },
     "5056d51439a84c61bb33d5366fe8eb50": {
      "model_module": "@jupyter-widgets/controls",
      "model_module_version": "2.0.0",
      "model_name": "ProgressStyleModel",
      "state": {
       "_model_module": "@jupyter-widgets/controls",
       "_model_module_version": "2.0.0",
       "_model_name": "ProgressStyleModel",
       "_view_count": null,
       "_view_module": "@jupyter-widgets/base",
       "_view_module_version": "2.0.0",
       "_view_name": "StyleView",
       "bar_color": null,
       "description_width": ""
      }
     },
     "716dca976ab441219c6b111424734bf4": {
      "model_module": "@jupyter-widgets/controls",
      "model_module_version": "2.0.0",
      "model_name": "HTMLStyleModel",
      "state": {
       "_model_module": "@jupyter-widgets/controls",
       "_model_module_version": "2.0.0",
       "_model_name": "HTMLStyleModel",
       "_view_count": null,
       "_view_module": "@jupyter-widgets/base",
       "_view_module_version": "2.0.0",
       "_view_name": "StyleView",
       "background": null,
       "description_width": "",
       "font_size": null,
       "text_color": null
      }
     },
     "736ad55e6d3045d7bb1a49ea3b6b5bc0": {
      "model_module": "@jupyter-widgets/controls",
      "model_module_version": "2.0.0",
      "model_name": "HTMLStyleModel",
      "state": {
       "_model_module": "@jupyter-widgets/controls",
       "_model_module_version": "2.0.0",
       "_model_name": "HTMLStyleModel",
       "_view_count": null,
       "_view_module": "@jupyter-widgets/base",
       "_view_module_version": "2.0.0",
       "_view_name": "StyleView",
       "background": null,
       "description_width": "",
       "font_size": null,
       "text_color": null
      }
     },
     "7e8a55ea672a4cbab537651b199ee0a0": {
      "model_module": "@jupyter-widgets/controls",
      "model_module_version": "2.0.0",
      "model_name": "HTMLModel",
      "state": {
       "_dom_classes": [],
       "_model_module": "@jupyter-widgets/controls",
       "_model_module_version": "2.0.0",
       "_model_name": "HTMLModel",
       "_view_count": null,
       "_view_module": "@jupyter-widgets/controls",
       "_view_module_version": "2.0.0",
       "_view_name": "HTMLView",
       "description": "",
       "description_allow_html": false,
       "layout": "IPY_MODEL_2042d0458bbb438887038370925f841c",
       "placeholder": "​",
       "style": "IPY_MODEL_736ad55e6d3045d7bb1a49ea3b6b5bc0",
       "tabbable": null,
       "tooltip": null,
       "value": "100%"
      }
     },
     "88faa37f0ca543379aab2b08dc4ce2b9": {
      "model_module": "@jupyter-widgets/base",
      "model_module_version": "2.0.0",
      "model_name": "LayoutModel",
      "state": {
       "_model_module": "@jupyter-widgets/base",
       "_model_module_version": "2.0.0",
       "_model_name": "LayoutModel",
       "_view_count": null,
       "_view_module": "@jupyter-widgets/base",
       "_view_module_version": "2.0.0",
       "_view_name": "LayoutView",
       "align_content": null,
       "align_items": null,
       "align_self": null,
       "border_bottom": null,
       "border_left": null,
       "border_right": null,
       "border_top": null,
       "bottom": null,
       "display": null,
       "flex": null,
       "flex_flow": null,
       "grid_area": null,
       "grid_auto_columns": null,
       "grid_auto_flow": null,
       "grid_auto_rows": null,
       "grid_column": null,
       "grid_gap": null,
       "grid_row": null,
       "grid_template_areas": null,
       "grid_template_columns": null,
       "grid_template_rows": null,
       "height": null,
       "justify_content": null,
       "justify_items": null,
       "left": null,
       "margin": null,
       "max_height": null,
       "max_width": null,
       "min_height": null,
       "min_width": null,
       "object_fit": null,
       "object_position": null,
       "order": null,
       "overflow": null,
       "padding": null,
       "right": null,
       "top": null,
       "visibility": null,
       "width": null
      }
     },
     "8e599a77564d45be824a9d4b53fc10c8": {
      "model_module": "@jupyter-widgets/controls",
      "model_module_version": "2.0.0",
      "model_name": "FloatProgressModel",
      "state": {
       "_dom_classes": [],
       "_model_module": "@jupyter-widgets/controls",
       "_model_module_version": "2.0.0",
       "_model_name": "FloatProgressModel",
       "_view_count": null,
       "_view_module": "@jupyter-widgets/controls",
       "_view_module_version": "2.0.0",
       "_view_name": "ProgressView",
       "bar_style": "success",
       "description": "",
       "description_allow_html": false,
       "layout": "IPY_MODEL_88faa37f0ca543379aab2b08dc4ce2b9",
       "max": 6.0,
       "min": 0.0,
       "orientation": "horizontal",
       "style": "IPY_MODEL_5056d51439a84c61bb33d5366fe8eb50",
       "tabbable": null,
       "tooltip": null,
       "value": 6.0
      }
     },
     "bb2a5b3219ca44f0b18cfdf8231fa5d2": {
      "model_module": "@jupyter-widgets/base",
      "model_module_version": "2.0.0",
      "model_name": "LayoutModel",
      "state": {
       "_model_module": "@jupyter-widgets/base",
       "_model_module_version": "2.0.0",
       "_model_name": "LayoutModel",
       "_view_count": null,
       "_view_module": "@jupyter-widgets/base",
       "_view_module_version": "2.0.0",
       "_view_name": "LayoutView",
       "align_content": null,
       "align_items": null,
       "align_self": null,
       "border_bottom": null,
       "border_left": null,
       "border_right": null,
       "border_top": null,
       "bottom": null,
       "display": null,
       "flex": null,
       "flex_flow": null,
       "grid_area": null,
       "grid_auto_columns": null,
       "grid_auto_flow": null,
       "grid_auto_rows": null,
       "grid_column": null,
       "grid_gap": null,
       "grid_row": null,
       "grid_template_areas": null,
       "grid_template_columns": null,
       "grid_template_rows": null,
       "height": null,
       "justify_content": null,
       "justify_items": null,
       "left": null,
       "margin": null,
       "max_height": null,
       "max_width": null,
       "min_height": null,
       "min_width": null,
       "object_fit": null,
       "object_position": null,
       "order": null,
       "overflow": null,
       "padding": null,
       "right": null,
       "top": null,
       "visibility": null,
       "width": null
      }
     },
     "d40e01d462204c4ea2e49ac6010f348d": {
      "model_module": "@jupyter-widgets/base",
      "model_module_version": "2.0.0",
      "model_name": "LayoutModel",
      "state": {
       "_model_module": "@jupyter-widgets/base",
       "_model_module_version": "2.0.0",
       "_model_name": "LayoutModel",
       "_view_count": null,
       "_view_module": "@jupyter-widgets/base",
       "_view_module_version": "2.0.0",
       "_view_name": "LayoutView",
       "align_content": null,
       "align_items": null,
       "align_self": null,
       "border_bottom": null,
       "border_left": null,
       "border_right": null,
       "border_top": null,
       "bottom": null,
       "display": null,
       "flex": null,
       "flex_flow": null,
       "grid_area": null,
       "grid_auto_columns": null,
       "grid_auto_flow": null,
       "grid_auto_rows": null,
       "grid_column": null,
       "grid_gap": null,
       "grid_row": null,
       "grid_template_areas": null,
       "grid_template_columns": null,
       "grid_template_rows": null,
       "height": null,
       "justify_content": null,
       "justify_items": null,
       "left": null,
       "margin": null,
       "max_height": null,
       "max_width": null,
       "min_height": null,
       "min_width": null,
       "object_fit": null,
       "object_position": null,
       "order": null,
       "overflow": null,
       "padding": null,
       "right": null,
       "top": null,
       "visibility": null,
       "width": null
      }
     }
    },
    "version_major": 2,
    "version_minor": 0
   }
  }
 },
 "nbformat": 4,
 "nbformat_minor": 5
}