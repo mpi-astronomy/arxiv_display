{
 "cells": [
  {
   "cell_type": "markdown",
   "id": "92bcb855",
   "metadata": {
    "papermill": {
     "duration": 0.003729,
     "end_time": "2024-03-14T04:08:39.837225",
     "exception": false,
     "start_time": "2024-03-14T04:08:39.833496",
     "status": "completed"
    },
    "tags": []
   },
   "source": [
    "# MPIA Arxiv on Deck 2\n",
    "\n",
    "Contains the steps to produce the paper extractions."
   ]
  },
  {
   "cell_type": "code",
   "execution_count": 1,
   "id": "3a0d6e11",
   "metadata": {
    "execution": {
     "iopub.execute_input": "2024-03-14T04:08:39.844432Z",
     "iopub.status.busy": "2024-03-14T04:08:39.844157Z",
     "iopub.status.idle": "2024-03-14T04:08:40.311877Z",
     "shell.execute_reply": "2024-03-14T04:08:40.311182Z"
    },
    "papermill": {
     "duration": 0.473516,
     "end_time": "2024-03-14T04:08:40.313780",
     "exception": false,
     "start_time": "2024-03-14T04:08:39.840264",
     "status": "completed"
    },
    "tags": []
   },
   "outputs": [],
   "source": [
    "# Imports\n",
    "import os\n",
    "from IPython.display import Markdown, display\n",
    "from tqdm.notebook import tqdm\n",
    "import warnings\n",
    "from PIL import Image \n",
    "\n",
    "# requires arxiv_on_deck_2\n",
    "\n",
    "from arxiv_on_deck_2.arxiv2 import (get_new_papers, \n",
    "                                    get_paper_from_identifier,\n",
    "                                    retrieve_document_source, \n",
    "                                    get_markdown_badge)\n",
    "from arxiv_on_deck_2 import (latex,\n",
    "                             latex_bib,\n",
    "                             mpia,\n",
    "                             highlight_authors_in_list)\n",
    "\n",
    "# Sometimes images are really big\n",
    "Image.MAX_IMAGE_PIXELS = 1000000000 "
   ]
  },
  {
   "cell_type": "code",
   "execution_count": 2,
   "id": "22aa9d44",
   "metadata": {
    "execution": {
     "iopub.execute_input": "2024-03-14T04:08:40.321015Z",
     "iopub.status.busy": "2024-03-14T04:08:40.320515Z",
     "iopub.status.idle": "2024-03-14T04:08:40.325645Z",
     "shell.execute_reply": "2024-03-14T04:08:40.325038Z"
    },
    "papermill": {
     "duration": 0.010044,
     "end_time": "2024-03-14T04:08:40.326870",
     "exception": false,
     "start_time": "2024-03-14T04:08:40.316826",
     "status": "completed"
    },
    "tags": []
   },
   "outputs": [],
   "source": [
    "# Some useful definitions.\n",
    "\n",
    "class AffiliationWarning(UserWarning):\n",
    "    pass\n",
    "\n",
    "class AffiliationError(RuntimeError):\n",
    "    pass\n",
    "\n",
    "def validation(source: str):\n",
    "    \"\"\"Raises error paper during parsing of source file\n",
    "    \n",
    "    Allows checks before parsing TeX code.\n",
    "    \n",
    "    Raises AffiliationWarning\n",
    "    \"\"\"\n",
    "    check = mpia.affiliation_verifications(source, verbose=True)\n",
    "    if check is not True:\n",
    "        raise AffiliationError(\"mpia.affiliation_verifications: \" + check)\n",
    "\n",
    "        \n",
    "warnings.simplefilter('always', AffiliationWarning)\n",
    "\n",
    "\n",
    "def get_markdown_qrcode(paper_id: str):\n",
    "    \"\"\" Generate a qrcode to the arxiv page using qrserver.com\n",
    "    \n",
    "    :param paper: Arxiv paper\n",
    "    :returns: markdown text\n",
    "    \"\"\"\n",
    "    url = r\"https://api.qrserver.com/v1/create-qr-code/?size=100x100&data=\"\n",
    "    txt = f\"\"\"<img src={url}\"https://arxiv.org/abs/{paper_id}\">\"\"\"\n",
    "    txt = '<div id=\"qrcode\">' + txt + '</div>'\n",
    "    return txt"
   ]
  },
  {
   "cell_type": "markdown",
   "id": "14bd6310",
   "metadata": {
    "papermill": {
     "duration": 0.002715,
     "end_time": "2024-03-14T04:08:40.332445",
     "exception": false,
     "start_time": "2024-03-14T04:08:40.329730",
     "status": "completed"
    },
    "tags": []
   },
   "source": [
    "## get list of arxiv paper candidates\n",
    "\n",
    "We use the MPIA mitarbeiter list webpage from mpia.de to get author names\n",
    "We then get all new papers from Arxiv and match authors"
   ]
  },
  {
   "cell_type": "code",
   "execution_count": 3,
   "id": "2645e73a",
   "metadata": {
    "execution": {
     "iopub.execute_input": "2024-03-14T04:08:40.339209Z",
     "iopub.status.busy": "2024-03-14T04:08:40.338770Z",
     "iopub.status.idle": "2024-03-14T04:09:02.082141Z",
     "shell.execute_reply": "2024-03-14T04:09:02.081464Z"
    },
    "papermill": {
     "duration": 21.74822,
     "end_time": "2024-03-14T04:09:02.083485",
     "exception": false,
     "start_time": "2024-03-14T04:08:40.335265",
     "status": "completed"
    },
    "tags": []
   },
   "outputs": [
    {
     "name": "stdout",
     "output_type": "stream",
     "text": [
      "J. Li  ->  J. Li  |  ['J. Li']\n",
      "R. Andrae  ->  R. Andrae  |  ['R. Andrae']\n",
      "H.-W. Rix  ->  H.-W. Rix  |  ['H.-W. Rix']\n",
      "A. Kospal  ->  A. Kospal  |  ['A. Kospal']\n",
      "Arxiv has 59 new papers today\n",
      "          3 with possible author matches\n"
     ]
    }
   ],
   "source": [
    "# get list from MPIA website\n",
    "# it automatically filters identified non-scientists :func:`mpia.filter_non_scientists`\n",
    "mpia_authors = mpia.get_mpia_mitarbeiter_list()\n",
    "normed_mpia_authors = [k[1] for k in mpia_authors]   # initials + fullname\n",
    "new_papers = get_new_papers()\n",
    "# add manual references\n",
    "add_paper_refs = []\n",
    "new_papers.extend([get_paper_from_identifier(k) for k in add_paper_refs])\n",
    "\n",
    "candidates = []\n",
    "for paperk in new_papers:\n",
    "    # Check author list with their initials\n",
    "    normed_author_list = [mpia.get_initials(k) for k in paperk['authors']]\n",
    "    hl_authors = highlight_authors_in_list(normed_author_list, normed_mpia_authors, verbose=True)\n",
    "    matches = [(hl, orig) for hl, orig in zip(hl_authors, paperk['authors']) if 'mark' in hl]\n",
    "    paperk['authors'] = hl_authors\n",
    "    if matches:\n",
    "        # only select paper if an author matched our list\n",
    "        candidates.append(paperk)\n",
    "print(\"\"\"Arxiv has {0:,d} new papers today\"\"\".format(len(new_papers)))        \n",
    "print(\"\"\"          {0:,d} with possible author matches\"\"\".format(len(candidates)))"
   ]
  },
  {
   "cell_type": "markdown",
   "id": "3543b34a",
   "metadata": {
    "papermill": {
     "duration": 0.002984,
     "end_time": "2024-03-14T04:09:02.089730",
     "exception": false,
     "start_time": "2024-03-14T04:09:02.086746",
     "status": "completed"
    },
    "tags": []
   },
   "source": [
    "# Parse sources and generate relevant outputs\n",
    "\n",
    "From the candidates, we do the following steps:\n",
    "* get their tarball from ArXiv (and extract data)\n",
    "* find the main .tex file: find one with \\documentclass{...} (sometimes it's non trivial)\n",
    "* Check affiliations with :func:`validation`, which uses :func:`mpia.affiliation_verifications`\n",
    "* If passing the affiliations: we parse the .tex source\n",
    "   * inject sub-documents into the main (flatten the main document)\n",
    "   * parse structure, extract information (title, abstract, authors, figures...)\n",
    "   * handles `\\graphicspath` if provided\n",
    "* Generate the .md document."
   ]
  },
  {
   "cell_type": "code",
   "execution_count": 4,
   "id": "9576b79e",
   "metadata": {
    "execution": {
     "iopub.execute_input": "2024-03-14T04:09:02.096621Z",
     "iopub.status.busy": "2024-03-14T04:09:02.096208Z",
     "iopub.status.idle": "2024-03-14T04:09:15.716008Z",
     "shell.execute_reply": "2024-03-14T04:09:15.715361Z"
    },
    "papermill": {
     "duration": 13.625013,
     "end_time": "2024-03-14T04:09:15.717550",
     "exception": false,
     "start_time": "2024-03-14T04:09:02.092537",
     "status": "completed"
    },
    "scrolled": false,
    "tags": []
   },
   "outputs": [
    {
     "data": {
      "application/vnd.jupyter.widget-view+json": {
       "model_id": "8383376da8fb413aacb413c4ed9f6865",
       "version_major": 2,
       "version_minor": 0
      },
      "text/plain": [
       "  0%|          | 0/3 [00:00<?, ?it/s]"
      ]
     },
     "metadata": {},
     "output_type": "display_data"
    },
    {
     "name": "stdout",
     "output_type": "stream",
     "text": [
      "Retrieving document from  https://arxiv.org/e-print/2403.08242\n"
     ]
    },
    {
     "name": "stdout",
     "output_type": "stream",
     "text": [
      "extracting tarball to tmp_2403.08242... done.\n",
      "Retrieving document from  https://arxiv.org/e-print/2403.08516\n"
     ]
    },
    {
     "name": "stdout",
     "output_type": "stream",
     "text": [
      "extracting tarball to tmp_2403.08516..."
     ]
    },
    {
     "name": "stdout",
     "output_type": "stream",
     "text": [
      " done.\n"
     ]
    },
    {
     "name": "stdout",
     "output_type": "stream",
     "text": [
      "R. Andrae  ->  R. Andrae  |  ['R. Andrae']\n",
      "H.-W. Rix  ->  H.-W. Rix  |  ['H.-W. Rix']\n"
     ]
    },
    {
     "name": "stdout",
     "output_type": "stream",
     "text": [
      "Found 69 bibliographic references in tmp_2403.08516/main.bbl.\n",
      "Retrieving document from  https://arxiv.org/e-print/2403.08698\n"
     ]
    },
    {
     "name": "stdout",
     "output_type": "stream",
     "text": [
      "extracting tarball to tmp_2403.08698..."
     ]
    },
    {
     "name": "stdout",
     "output_type": "stream",
     "text": [
      " done.\n"
     ]
    },
    {
     "name": "stdout",
     "output_type": "stream",
     "text": [
      "Found 84 bibliographic references in tmp_2403.08698/Gaia18cjb.bbl.\n",
      "syntax error in line 284: '=' expected\n"
     ]
    }
   ],
   "source": [
    "documents = []\n",
    "failed = []\n",
    "for paper in tqdm(candidates):\n",
    "    paper_id = paper['identifier'].lower().replace('arxiv:', '')\n",
    "    \n",
    "    folder = f'tmp_{paper_id}'\n",
    "\n",
    "    try:\n",
    "        if not os.path.isdir(folder):\n",
    "            folder = retrieve_document_source(f\"{paper_id}\", f'tmp_{paper_id}')\n",
    "        \n",
    "        try:\n",
    "            doc = latex.LatexDocument(folder, validation=validation)    \n",
    "        except AffiliationError as affilerror:\n",
    "            msg = f\"ArXiv:{paper_id:s} is not an MPIA paper... \" + str(affilerror)\n",
    "            failed.append((paper, \"affiliation error: \" + str(affilerror) ))\n",
    "            continue\n",
    "        \n",
    "        # Hack because sometimes author parsing does not work well\n",
    "        if (len(doc.authors) != len(paper['authors'])):\n",
    "            doc._authors = paper['authors']\n",
    "        else:\n",
    "            # highlight authors (FIXME: doc.highlight_authors)\n",
    "            # done on arxiv paper already\n",
    "            doc._authors = highlight_authors_in_list(\n",
    "                [mpia.get_initials(k) for k in doc.authors], \n",
    "                normed_mpia_authors, verbose=True)\n",
    "        if (doc.abstract) in (None, ''):\n",
    "            doc._abstract = paper['abstract']\n",
    "            \n",
    "        doc.comment = (get_markdown_badge(paper_id) + \n",
    "                       \"<mark>Appeared on: \" + paper['date'] + \"</mark> - \")\n",
    "        if paper['comments']:\n",
    "            doc.comment += \" _\" + paper['comments'] + \"_\"\n",
    "        \n",
    "        full_md = doc.generate_markdown_text()\n",
    "        \n",
    "        full_md += get_markdown_qrcode(paper_id)\n",
    "        \n",
    "        # replace citations\n",
    "        try:\n",
    "            bibdata = latex_bib.LatexBib.from_doc(doc)\n",
    "            full_md = latex_bib.replace_citations(full_md, bibdata)\n",
    "        except Exception as e:\n",
    "            print(e)\n",
    "        \n",
    "        documents.append((paper_id, full_md))\n",
    "    except Exception as e:\n",
    "        warnings.warn(latex.LatexWarning(f\"{paper_id:s} did not run properly\\n\" +\n",
    "                                         str(e)\n",
    "                                        ))\n",
    "        failed.append((paper, \"latex error \" + str(e)))"
   ]
  },
  {
   "cell_type": "markdown",
   "id": "2505a25c",
   "metadata": {
    "papermill": {
     "duration": 0.003679,
     "end_time": "2024-03-14T04:09:15.725717",
     "exception": false,
     "start_time": "2024-03-14T04:09:15.722038",
     "status": "completed"
    },
    "tags": []
   },
   "source": [
    "### Export the logs\n",
    "\n",
    "Throughout, we also keep track of the logs per paper. see `logs-{today date}.md` "
   ]
  },
  {
   "cell_type": "code",
   "execution_count": 5,
   "id": "d733828a",
   "metadata": {
    "execution": {
     "iopub.execute_input": "2024-03-14T04:09:15.734173Z",
     "iopub.status.busy": "2024-03-14T04:09:15.733803Z",
     "iopub.status.idle": "2024-03-14T04:09:15.746460Z",
     "shell.execute_reply": "2024-03-14T04:09:15.745885Z"
    },
    "papermill": {
     "duration": 0.018182,
     "end_time": "2024-03-14T04:09:15.747789",
     "exception": false,
     "start_time": "2024-03-14T04:09:15.729607",
     "status": "completed"
    },
    "scrolled": false,
    "tags": []
   },
   "outputs": [
    {
     "data": {
      "text/markdown": [
       "## Successful papers"
      ],
      "text/plain": [
       "<IPython.core.display.Markdown object>"
      ]
     },
     "metadata": {},
     "output_type": "display_data"
    },
    {
     "data": {
      "text/markdown": [
       "\n",
       "|||\n",
       "|---:|:---|\n",
       "| [![arXiv](https://img.shields.io/badge/arXiv-arXiv:2403.08516-b31b1b.svg)](https://arxiv.org/abs/arXiv:2403.08516) | **What Does the Large Magellanic Cloud Look Like? It Depends on [M/H] and  Age**  |\n",
       "|| N. Frankel, et al. -- incl., <mark>R. Andrae</mark>, <mark>H.-W. Rix</mark> |\n",
       "|*Appeared on*| *2024-03-14*|\n",
       "|*Comments*| *Submitted to ApJ; constructive comments would be appreciated*|\n",
       "|**Abstract**| We offer a new way to look at the Large Magellanic Cloud through stellar mono-abundance and mono-age-mono-abundance maps. These maps are based on $\\gtrsim 500\\,000$ member stars with photo-spectroscopic [M/H] and age estimates from Gaia DR3 data, and they are the first area-complete, metallicity- and age-differentiated stellar maps of any disk galaxy. Azimuthally averaged, these maps reveal a surprisingly simple picture of the Milky Way's largest satellite galaxy. For any [M/H] below -0.1 dex, the LMC's radial profile is well described by a simple exponential, but with a scale length that steadily shrinks towards higher metallicities, from nearly 2.3~kpc at [M/H]$=-1.8$ to only 0.75~kpc at [M/H]$=-0.25$. The prominence of the bar decreases dramatically with [M/H], making it barely discernible at [M/H]$\\lesssim -1.5$. Yet, even for metal-rich populations, the bar has little impact on the azimuthally averaged profile of the mono-abundance components. Including ages, we find that the scale length is a greater function of age than of metallicity, with younger populations far more centrally concentrated. At old ages, the scale length decreases with increasing metallicity; at young ages, the scale-length is independent of metallicity. These findings provide quantitative support for a scenario where the LMC built its stellar structure effectively outside in. |"
      ],
      "text/plain": [
       "[arXiv:2403.08516] What Does the Large Magellanic Cloud Look Like? It Depends on [M/H] and  Age\n",
       "\tN. Frankel, et al. -- incl., <mark>R. Andrae</mark>, <mark>H.-W. Rix</mark>"
      ]
     },
     "metadata": {},
     "output_type": "display_data"
    },
    {
     "data": {
      "text/markdown": [
       "\n",
       "|||\n",
       "|---:|:---|\n",
       "| [![arXiv](https://img.shields.io/badge/arXiv-arXiv:2403.08698-b31b1b.svg)](https://arxiv.org/abs/arXiv:2403.08698) | **The Enigma of Gaia18cjb: a Rare Hybrid of Four and EXor?**  |\n",
       "|| E. Fiorellino, et al. -- incl., <mark>A. Kospal</mark> |\n",
       "|*Appeared on*| *2024-03-14*|\n",
       "|*Comments*| *21 pages, 13 figures*|\n",
       "|**Abstract**| Context. Gaia18cjb is one of the Gaia-alerted eruptive young star candidates which has been experiencing a slow and strong brightening during the last 13 years, similar to some FU Orionis-type objects. Aims. The aim of this work is to derive the young stellar nature of Gaia18cjb, determine its physical and accretion properties to classify its variability. Methods. We conducted monitoring observations using multi-filter optical and near-infrared photometry, as well as near-infrared spectroscopy. We present the analysis of pre-outburst and outburst optical and infrared light curves, color-magnitude diagrams in different bands, the detection of near-IR spectral lines, and estimates of both stellar and accretion parameters during the burst. Results. The optical light curve shows an unusually long (8 years) brightening event of 5 mag in the last 13 years, before reaching a plateau indicating that the burst is still on-going, suggesting a FUor-like nature. The same outburst is less strong in the infrared light curves. The near-infrared spectra, obtained during the outburst, exhibit emission lines typical of highly accreting low-intermediate mass young stars with typical EXor features. The spectral index of Gaia18cjb SED classifies it as a Class I in the pre-burst stage and a Flat Spectrum young stellar object (YSO) during the burst. Conclusions. Gaia18cjb is an eruptive YSO which shows FUor-like photometric features (in terms of brightening amplitude and length of the burst) and EXor-like spectroscopic features and accretion rate, as V350 Cep and V1647 Ori, classified as objects in between FUors and EXors |"
      ],
      "text/plain": [
       "[arXiv:2403.08698] The Enigma of Gaia18cjb: a Rare Hybrid of Four and EXor?\n",
       "\tE. Fiorellino, et al. -- incl., <mark>A. Kospal</mark>"
      ]
     },
     "metadata": {},
     "output_type": "display_data"
    },
    {
     "data": {
      "text/markdown": [
       "## Failed papers"
      ],
      "text/plain": [
       "<IPython.core.display.Markdown object>"
      ]
     },
     "metadata": {},
     "output_type": "display_data"
    },
    {
     "data": {
      "text/markdown": [
       "\n",
       "|||\n",
       "|---:|:---|\n",
       "| [![arXiv](https://img.shields.io/badge/arXiv-arXiv:2403.08242-b31b1b.svg)](https://arxiv.org/abs/arXiv:2403.08242) | **Excited-State OH Masers in the Water Fountain Source IRAS 18460-0151**  |\n",
       "|| X.-J. Ouyang, et al. -- incl., <mark>J. Li</mark> |\n",
       "|*Appeared on*| *2024-03-14*|\n",
       "|*Comments*| *15 pages, 3 figures, accepted for publication in ApJL*|\n",
       "|**Abstract**| Water fountain objects are generally defined as \"evolved stars with low to intermediate initial mass accompanied by high-velocity molecular jets detectable in the 22.235 GHz H$_2$O maser line\". They are the key objects of understanding the morphological transitions of circumstellar envelopes during the post asymptotic giant branch phase. Masers are useful tools to trace the kinematic environments of the circumstellar envelopes. In this letter we report the discovery of exceptionally uncommon excited-state hydroxyl (ex-OH) masers at 4660 and 6031 MHz toward the water fountain source IRAS 18460-0151. These are the brightest ex-OH masers discovered in late-type objects to date. To the best of our knowledge, prior to the current work, no evolved stellar object has been observed in the 4660 MHz ex-OH maser line. The ground-state hydroxyl (g-OH) masers at 1612 and 1665 MHz are also observed. The velocity components of the 4660 MHz ex-OH maser line and the much weaker 1665 MHz g-OH maser line all can be seen in the 1612 MHz g-OH maser line profile. The blue-shifted components of the three masers are more intense than the red-shifted ones, in contrast to the ex-OH maser line at 6031 MHz. The relevance of the behaviors of the ex-OH masers to the circumstellar environments is unclear. |\n",
       "|<p style=\"color:green\"> **ERROR** </p>| <p style=\"color:green\">affiliation error: mpia.affiliation_verifications: 'Heidelberg' keyword not found.</p> |"
      ],
      "text/plain": [
       "<IPython.core.display.Markdown object>"
      ]
     },
     "metadata": {},
     "output_type": "display_data"
    }
   ],
   "source": [
    "import datetime\n",
    "today = str(datetime.date.today())\n",
    "logfile = f\"_build/html/logs/log-{today}.md\"\n",
    "\n",
    "\n",
    "with open(logfile, 'w') as logs:\n",
    "    # Success\n",
    "    logs.write(f'# Arxiv on Deck 2: Logs - {today}\\n\\n')\n",
    "    logs.write(\"\"\"* Arxiv had {0:,d} new papers\\n\"\"\".format(len(new_papers)))\n",
    "    logs.write(\"\"\"    * {0:,d} with possible author matches\\n\\n\"\"\".format(len(candidates)))\n",
    "    logs.write(\"## Sucessful papers\\n\\n\")\n",
    "    display(Markdown(\"## Successful papers\"))\n",
    "    success = [k[0] for k in documents]\n",
    "    for candid in candidates:\n",
    "        if candid['identifier'].split(':')[-1] in success:\n",
    "            display(candid)\n",
    "            logs.write(candid.generate_markdown_text() + '\\n\\n')\n",
    "\n",
    "    ## failed\n",
    "    logs.write(\"## Failed papers\\n\\n\")\n",
    "    display(Markdown(\"## Failed papers\"))\n",
    "    failed = sorted(failed, key=lambda x: x[1])\n",
    "    current_reason = \"\"\n",
    "    for paper, reason in failed:\n",
    "        if 'affiliation' in reason:\n",
    "            color = 'green'\n",
    "        else:\n",
    "            color = 'red'\n",
    "        data = Markdown(\n",
    "                paper.generate_markdown_text() + \n",
    "                f'\\n|<p style=\"color:{color:s}\"> **ERROR** </p>| <p style=\"color:{color:s}\">{reason:s}</p> |'\n",
    "               )\n",
    "        if reason != current_reason:\n",
    "            logs.write(f'### {reason:s} \\n\\n')\n",
    "            current_reason = reason\n",
    "        logs.write(data.data + '\\n\\n')\n",
    "        \n",
    "        # only display here the important errors (all in logs)\n",
    "        # if color in ('red',):\n",
    "        display(data)"
   ]
  },
  {
   "cell_type": "markdown",
   "id": "472d20ee",
   "metadata": {
    "papermill": {
     "duration": 0.003813,
     "end_time": "2024-03-14T04:09:15.755493",
     "exception": false,
     "start_time": "2024-03-14T04:09:15.751680",
     "status": "completed"
    },
    "tags": []
   },
   "source": [
    "## Export documents\n",
    "\n",
    "We now write the .md files and export relevant images"
   ]
  },
  {
   "cell_type": "code",
   "execution_count": 6,
   "id": "d426aed9",
   "metadata": {
    "execution": {
     "iopub.execute_input": "2024-03-14T04:09:15.764268Z",
     "iopub.status.busy": "2024-03-14T04:09:15.763914Z",
     "iopub.status.idle": "2024-03-14T04:09:15.770089Z",
     "shell.execute_reply": "2024-03-14T04:09:15.769558Z"
    },
    "papermill": {
     "duration": 0.011995,
     "end_time": "2024-03-14T04:09:15.771377",
     "exception": false,
     "start_time": "2024-03-14T04:09:15.759382",
     "status": "completed"
    },
    "tags": []
   },
   "outputs": [],
   "source": [
    "def export_markdown_summary(md: str, md_fname:str, directory: str):\n",
    "    \"\"\"Export MD document and associated relevant images\"\"\"\n",
    "    import os\n",
    "    import shutil\n",
    "    import re\n",
    "\n",
    "    if (os.path.exists(directory) and not os.path.isdir(directory)):\n",
    "        raise RuntimeError(f\"a non-directory file exists with name {directory:s}\")\n",
    "\n",
    "    if (not os.path.exists(directory)):\n",
    "        print(f\"creating directory {directory:s}\")\n",
    "        os.mkdir(directory)\n",
    "\n",
    "    fig_fnames = (re.compile(r'\\[Fig.*\\]\\((.*)\\)').findall(md) + \n",
    "                  re.compile(r'\\<img src=\"([^>\\s]*)\"[^>]*/>').findall(md))\n",
    "    for fname in fig_fnames:\n",
    "        if 'http' in fname:\n",
    "            # No need to copy online figures\n",
    "            continue\n",
    "        destdir = os.path.join(directory, os.path.dirname(fname))\n",
    "        destfname = os.path.join(destdir, os.path.basename(fname))\n",
    "        try:\n",
    "            os.makedirs(destdir)\n",
    "        except FileExistsError:\n",
    "            pass\n",
    "        shutil.copy(fname, destfname)\n",
    "    with open(os.path.join(directory, md_fname), 'w') as fout:\n",
    "        fout.write(md)\n",
    "    print(\"exported in \", os.path.join(directory, md_fname))\n",
    "    [print(\"    + \" + os.path.join(directory,fk)) for fk in fig_fnames]"
   ]
  },
  {
   "cell_type": "code",
   "execution_count": 7,
   "id": "014d04a4",
   "metadata": {
    "execution": {
     "iopub.execute_input": "2024-03-14T04:09:15.780278Z",
     "iopub.status.busy": "2024-03-14T04:09:15.779903Z",
     "iopub.status.idle": "2024-03-14T04:09:15.786233Z",
     "shell.execute_reply": "2024-03-14T04:09:15.785632Z"
    },
    "papermill": {
     "duration": 0.012231,
     "end_time": "2024-03-14T04:09:15.787523",
     "exception": false,
     "start_time": "2024-03-14T04:09:15.775292",
     "status": "completed"
    },
    "tags": []
   },
   "outputs": [
    {
     "name": "stdout",
     "output_type": "stream",
     "text": [
      "exported in  _build/html/2403.08516.md\n",
      "    + _build/html/tmp_2403.08516/./LMC-mono-abundance-maps-completeness-corrected.png\n",
      "    + _build/html/tmp_2403.08516/./completeness-for-paper-a.png\n",
      "    + _build/html/tmp_2403.08516/./completeness-for-paper-b.png\n",
      "    + _build/html/tmp_2403.08516/./completeness-for-paper-c.png\n",
      "    + _build/html/tmp_2403.08516/./completeness-for-paper-d.png\n",
      "    + _build/html/tmp_2403.08516/./completeness-for-paper-full.png\n",
      "exported in  _build/html/2403.08698.md\n",
      "    + _build/html/tmp_2403.08698/./figures/lightcurve_tot.png\n",
      "    + _build/html/tmp_2403.08698/./figures/position.png\n",
      "    + _build/html/tmp_2403.08698/./figures/SED.png\n"
     ]
    }
   ],
   "source": [
    "for paper_id, md in documents:\n",
    "    export_markdown_summary(md, f\"{paper_id:s}.md\", '_build/html/')"
   ]
  },
  {
   "cell_type": "markdown",
   "id": "f087a0a7",
   "metadata": {
    "papermill": {
     "duration": 0.003885,
     "end_time": "2024-03-14T04:09:15.795456",
     "exception": false,
     "start_time": "2024-03-14T04:09:15.791571",
     "status": "completed"
    },
    "tags": []
   },
   "source": [
    "## Display the papers\n",
    "\n",
    "Not necessary but allows for a quick check."
   ]
  },
  {
   "cell_type": "code",
   "execution_count": 8,
   "id": "fd25f625",
   "metadata": {
    "execution": {
     "iopub.execute_input": "2024-03-14T04:09:15.804302Z",
     "iopub.status.busy": "2024-03-14T04:09:15.803952Z",
     "iopub.status.idle": "2024-03-14T04:09:15.809302Z",
     "shell.execute_reply": "2024-03-14T04:09:15.808732Z"
    },
    "papermill": {
     "duration": 0.011232,
     "end_time": "2024-03-14T04:09:15.810636",
     "exception": false,
     "start_time": "2024-03-14T04:09:15.799404",
     "status": "completed"
    },
    "scrolled": false,
    "tags": []
   },
   "outputs": [
    {
     "data": {
      "text/markdown": [
       "<div class=\"macros\" style=\"visibility:hidden;\">\n",
       "$\\newcommand{\\ensuremath}{}$\n",
       "$\\newcommand{\\xspace}{}$\n",
       "$\\newcommand{\\object}[1]{\\texttt{#1}}$\n",
       "$\\newcommand{\\farcs}{{.}''}$\n",
       "$\\newcommand{\\farcm}{{.}'}$\n",
       "$\\newcommand{\\arcsec}{''}$\n",
       "$\\newcommand{\\arcmin}{'}$\n",
       "$\\newcommand{\\ion}[2]{#1#2}$\n",
       "$\\newcommand{\\textsc}[1]{\\textrm{#1}}$\n",
       "$\\newcommand{\\hl}[1]{\\textrm{#1}}$\n",
       "$\\newcommand{\\footnote}[1]{}$\n",
       "$\\newcommand{\\rbar}{\\ensuremath{R_\\mathrm{b}}}$\n",
       "$\\newcommand{\\ra}{\\ensuremath{\\alpha}}$\n",
       "$\\newcommand{\\dec}{\\ensuremath{\\delta}}$\n",
       "$\\newcommand{\\pmra}{\\ensuremath{{\\mu_\\alpha}\\cos{\\delta}}}$\n",
       "$\\newcommand{\\pmdec}{\\ensuremath{{\\mu_\\delta}}}$\n",
       "$\\newcommand{\\bprp}{\\ensuremath{\\mathrm{BP-RP}}}$\n",
       "$\\newcommand{\\br}{\\ensuremath{\\mathrm{BP-RP}}}$\n",
       "$\\newcommand$\n",
       "$\\newcommand$\n",
       "$\\newcommand{\\todo}[1]{\\textcolor{red}{TODO: #1}}$\n",
       "$\\newcommand{\\Comment}[2]{ [{\\color{red}\\sc #1 :} {{\\color{orange} \\it #2}}]}$\n",
       "$\\newcommand{\\com}[1]{ {\\textcolor{cyan}{ #1}}}$\n",
       "$\\newcommand{\\update}[1]{ {\\textbf{\\textcolor{mybluedark}{ #1}}}}$\n",
       "$\\newcommand{\\updateap}[1]{ {\\textbf{\\textcolor{cyan}{ #1}}}}$\n",
       "$\\newcommand{\\updatescott}[1]{ {\\textbf{\\textcolor{magenta}{ #1}}}}$\n",
       "$\\newcommand{\\apn}[1]{ {\\textcolor{magenta}{ #1}}}$</div>\n",
       "\n",
       "\n",
       "\n",
       "<div id=\"title\">\n",
       "\n",
       "# What Does the Large Magellanic Cloud Look Like? It Depends on [M/H] and Age\n",
       "\n",
       "</div>\n",
       "<div id=\"comments\">\n",
       "\n",
       "[![arXiv](https://img.shields.io/badge/arXiv-2403.08516-b31b1b.svg)](https://arxiv.org/abs/2403.08516)<mark>Appeared on: 2024-03-14</mark> -  _Submitted to ApJ; constructive comments would be appreciated_\n",
       "\n",
       "</div>\n",
       "<div id=\"authors\">\n",
       "\n",
       "N. Frankel, et al. -- incl., <mark>R. Andrae</mark>, <mark>H.-W. Rix</mark>\n",
       "\n",
       "</div>\n",
       "<div id=\"abstract\">\n",
       "\n",
       "**Abstract:** We offer a new way to look at the Large Magellanic Cloud through stellar mono-abundance and mono-age-mono-abundance maps. These maps are based on $\\gtrsim 500 000$ member stars with photo-spectroscopic [ M/H ] and age estimates from Gaia DR3 data, and they are the first area-complete, metallicity- and age-differentiated stellar maps of any disk galaxy. Azimuthally averaged, these maps reveal a surprisingly simple picture of the Milky Way's largest satellite galaxy. For any [ M/H ] below -0.1 dex, the LMC's radial profile is well described by a simple exponential, but with a scale length that steadily shrinks towards higher metallicities, from nearly 2.3 kpc at [ M/H ] $=-1.8$ to only 0.75 kpc at [ M/H ] $=-0.25$ . The prominence of the bar decreases dramatically with [ M/H ] , making it barely discernible at [ M/H ] $\\lesssim -1.5$ . Yet, even for metal-rich populations, the bar has little impact on the azimuthally averaged profile of the mono-abundance components. Including ages, we find that the scale length is a greater function of age than of metallicity, with younger populations far more centrally concentrated. At old ages, the scale length decreases with increasing metallicity; at young ages, the scale-length is independent of metallicity. These findings provide quantitative support for a scenario where the LMC built its stellar structure effectively outside in.\n",
       "\n",
       "</div>\n",
       "\n",
       "<div id=\"div_fig1\">\n",
       "\n",
       "<img src=\"tmp_2403.08516/./LMC-mono-abundance-maps-completeness-corrected.png\" alt=\"Fig5\" width=\"100%\"/>\n",
       "\n",
       "**Figure 5. -** Metallicity maps of the LMC. Panel (a) shows the global map of the mean metallicity (color coded), with total number density contours that are spaced by factors of two. Panels (b)-(f) show the completeness-corrected maps of various mono-abundance populations with \\MH ranging from $-2$ to 0. All panels mask noise-dominated pixels that contain fewer than 5 stars. (*LMC-mono-abundance-maps*)\n",
       "\n",
       "</div>\n",
       "<div id=\"div_fig2\">\n",
       "\n",
       "<img src=\"tmp_2403.08516/./completeness-for-paper-a.png\" alt=\"Fig9.1\" width=\"25%\"/><img src=\"tmp_2403.08516/./completeness-for-paper-b.png\" alt=\"Fig9.2\" width=\"25%\"/><img src=\"tmp_2403.08516/./completeness-for-paper-c.png\" alt=\"Fig9.3\" width=\"25%\"/><img src=\"tmp_2403.08516/./completeness-for-paper-d.png\" alt=\"Fig9.4\" width=\"25%\"/>\n",
       "\n",
       "**Figure 9. -** Completeness of the LMC according to the four factors in Eq. \\ref{eq:completeness-factorised}. Panel (a) represents the last term, i.e. the probability that a star with $G < 17.5$ is in Gaia; panel (b) represents the second to last term, i.e. the probability to have an XP spectra conditioned on (a); panel (c) the second term, i.e. whether Catwise has $W_1$ and $W_2$ entries conditoinned on (a-b); and panel (d) the first term, i.e. whether a metallicity could be estimated conditioned on (a-b-c). Note the drastically different colour-bar ranges. The resulting selection function is the multiplication of those four panels and is displayed in Fig. \\ref{fig:LMC-completeness}. (*fig:completeness-step-by-step*)\n",
       "\n",
       "</div>\n",
       "<div id=\"div_fig3\">\n",
       "\n",
       "<img src=\"tmp_2403.08516/./completeness-for-paper-full.png\" alt=\"Fig1\" width=\"100%\"/>\n",
       "\n",
       "**Figure 1. -** Probability to have \\MH estimates from XGBoost for a star with apparent magnitude $G<17.65$ in the LMC footprint. This completeness map is derived in Appendix \\ref{appendix:completeness} and following Eq. \\ref{eq:completeness-factorised}, it is the product of the four separate maps shown in Fig. \\ref{fig:completeness-step-by-step}. (*fig:LMC-completeness*)\n",
       "\n",
       "</div><div id=\"qrcode\"><img src=https://api.qrserver.com/v1/create-qr-code/?size=100x100&data=\"https://arxiv.org/abs/2403.08516\"></div>"
      ],
      "text/plain": [
       "<IPython.core.display.Markdown object>"
      ]
     },
     "metadata": {},
     "output_type": "display_data"
    },
    {
     "data": {
      "text/markdown": [
       "<div class=\"macros\" style=\"visibility:hidden;\">\n",
       "$\\newcommand{\\ensuremath}{}$\n",
       "$\\newcommand{\\xspace}{}$\n",
       "$\\newcommand{\\object}[1]{\\texttt{#1}}$\n",
       "$\\newcommand{\\farcs}{{.}''}$\n",
       "$\\newcommand{\\farcm}{{.}'}$\n",
       "$\\newcommand{\\arcsec}{''}$\n",
       "$\\newcommand{\\arcmin}{'}$\n",
       "$\\newcommand{\\ion}[2]{#1#2}$\n",
       "$\\newcommand{\\textsc}[1]{\\textrm{#1}}$\n",
       "$\\newcommand{\\hl}[1]{\\textrm{#1}}$\n",
       "$\\newcommand{\\footnote}[1]{}$\n",
       "$\\newcommand{\\uniF}{{\\rm erg} \\; {\\rm s}^{-1} {\\rm cm}^{-2}}$\n",
       "$\\newcommand{\\lsun}{\\mbox{L}_\\odot}$\n",
       "$\\newcommand{\\rsun}{\\mbox{R}_\\odot}$\n",
       "$\\newcommand{\\msun}{\\mbox{M}_\\odot}$\n",
       "$\\newcommand{\\pab}{\\mbox{Pa}\\beta}$\n",
       "$\\newcommand{\\brg}{\\mbox{Br}\\gamma}$\n",
       "$\\newcommand{\\lacc}{L_{\\rm acc}}$\n",
       "$\\newcommand{\\macc}{\\dot{M}_{\\rm acc}}$\n",
       "$\\newcommand{\\lstar}{L_\\star}$\n",
       "$\\newcommand{\\mstar}{M_\\star}$\n",
       "$\\newcommand{\\rstar}{R_\\star}$\n",
       "$\\newcommand{\\teff}{T_{\\rm eff}}$\n",
       "$\\newcommand{\\lbol}{L_{\\rm bol}}$</div>\n",
       "\n",
       "\n",
       "\n",
       "<div id=\"title\">\n",
       "\n",
       "# The Enigma of Gaia18cjb: a Rare Hybrid of FUor and EXor?   \\    $\\thanks{Based on observations collected at the Large Binocular Telescope under LBT programme IT-2019B-008.}$   $\\thanks{Based on observations collected at the European Southern Observatory under ESO/NTT programmes 105.203T.001 and 105.203T.003.}$   $\\thanks{Based on observations collected at the Gran Telescopio Canarias under GTC program GTC29-22B.}$\n",
       "\n",
       "</div>\n",
       "<div id=\"comments\">\n",
       "\n",
       "[![arXiv](https://img.shields.io/badge/arXiv-2403.08698-b31b1b.svg)](https://arxiv.org/abs/2403.08698)<mark>Appeared on: 2024-03-14</mark> -  _21 pages, 13 figures_\n",
       "\n",
       "</div>\n",
       "<div id=\"authors\">\n",
       "\n",
       "E. Fiorellino, et al. -- incl., <mark>A. Kospal</mark>\n",
       "\n",
       "</div>\n",
       "<div id=\"abstract\">\n",
       "\n",
       "**Abstract:** Gaia18cjb is one of the Gaia-alerted eruptive young star candidates which has been experiencing a slow and strong brightening during the last 13 years, similar to some FU Orionis-type objects. The aim of this work is to derive the young stellar nature of Gaia18cjb, determine its physical and accretion properties to classify its variability. We conducted monitoring observations using multi-filter optical and near-infrared photometry, as well as near-infrared spectroscopy.We present the analysis of pre-outburst and outburst optical and infrared light curves, color-magnitude diagrams in different bands, the detection of near-IR spectral lines, and estimates of both stellar and accretion parameters during the burst. The optical light curve shows an unusually long (8 years) brightening event of 5 mag in the last 13 years, before reaching a plateau indicating that the burst is still on-going, suggesting a FUor-like nature.The same outburst is less strong in the infrared light curves.The near-infrared spectra, obtained during the outburst, exhibit emission lines typical of highly accreting low-intermediate mass young stars with typical EXor features.The spectral index of Gaia18cjb SED classifies it as a Class I in the pre-burst stage and a Flat Spectrum young stellar object (YSO) during the burst. Gaia18cjb is an eruptive YSO which shows FUor-like photometric features (in terms of brightening amplitude and length of the burst) and EXor-like spectroscopic features and accretion rate, as V350 Cep and V1647 Ori, classified as objects in between FUors and EXors.\n",
       "\n",
       "</div>\n",
       "\n",
       "<div id=\"div_fig1\">\n",
       "\n",
       "<img src=\"tmp_2403.08698/./figures/lightcurve_tot.png\" alt=\"Fig7\" width=\"100%\"/>\n",
       "\n",
       "**Figure 7. -** The visible (_ top_) and  infrared (_ bottom_) light curves of Gaia18cjb. The red circle highlights the Gaia Alert trigger. The error bars smaller than the symbol size are not presented. Grey dashed lines correspond to the epochs for which we collected NIR spectroscopy. (*fig:lightcurveVIS*)\n",
       "\n",
       "</div>\n",
       "<div id=\"div_fig2\">\n",
       "\n",
       "<img src=\"tmp_2403.08698/./figures/position.png\" alt=\"Fig5\" width=\"100%\"/>\n",
       "\n",
       "**Figure 5. -** The background of the figure is the Planck 857 GHz map, 10 degrees in size, centred on Gaia18cjb, the red star symbol in the plot. Blue and orange dots are sources with H$\\alpha$-excess from \\citet{Fratta2021} whose distances are $0.95 {\\rm pc} < d < 1.05 {\\rm pc}$. The orange dots are sources whose proper motions are within 3 mas/yr from Gaia18cjb proper motions, see Figure \\ref{fig:magnitudes}. The regions closes to Gaia18cjb are highlighted. (*fig:gaia-location*)\n",
       "\n",
       "</div>\n",
       "<div id=\"div_fig3\">\n",
       "\n",
       "<img src=\"tmp_2403.08698/./figures/SED.png\" alt=\"Fig3\" width=\"100%\"/>\n",
       "\n",
       "**Figure 3. -** Spectral Energy Distribution. Circles and stars are observations taken before and after 2020, respectively. (*fig:sed*)\n",
       "\n",
       "</div><div id=\"qrcode\"><img src=https://api.qrserver.com/v1/create-qr-code/?size=100x100&data=\"https://arxiv.org/abs/2403.08698\"></div>"
      ],
      "text/plain": [
       "<IPython.core.display.Markdown object>"
      ]
     },
     "metadata": {},
     "output_type": "display_data"
    }
   ],
   "source": [
    "[display(Markdown(k[1])) for k in documents];"
   ]
  },
  {
   "cell_type": "markdown",
   "id": "873873a4",
   "metadata": {
    "papermill": {
     "duration": 0.004207,
     "end_time": "2024-03-14T04:09:15.819286",
     "exception": false,
     "start_time": "2024-03-14T04:09:15.815079",
     "status": "completed"
    },
    "tags": []
   },
   "source": [
    "# Create HTML index"
   ]
  },
  {
   "cell_type": "code",
   "execution_count": 9,
   "id": "cf665672",
   "metadata": {
    "execution": {
     "iopub.execute_input": "2024-03-14T04:09:15.829130Z",
     "iopub.status.busy": "2024-03-14T04:09:15.828754Z",
     "iopub.status.idle": "2024-03-14T04:09:15.838329Z",
     "shell.execute_reply": "2024-03-14T04:09:15.837739Z"
    },
    "papermill": {
     "duration": 0.015996,
     "end_time": "2024-03-14T04:09:15.839628",
     "exception": false,
     "start_time": "2024-03-14T04:09:15.823632",
     "status": "completed"
    },
    "tags": []
   },
   "outputs": [
    {
     "name": "stdout",
     "output_type": "stream",
     "text": [
      "388  publications files modified in the last 7 days.\n"
     ]
    }
   ],
   "source": [
    "from datetime import datetime, timedelta, timezone\n",
    "from glob import glob\n",
    "import os\n",
    "\n",
    "files = glob('_build/html/*.md')\n",
    "days = 7\n",
    "now = datetime.today()\n",
    "res = []\n",
    "for fk in files:\n",
    "    stat_result = os.stat(fk).st_ctime\n",
    "    modified = datetime.fromtimestamp(stat_result, tz=timezone.utc).replace(tzinfo=None)\n",
    "    delta = now.today() - modified\n",
    "    if delta <= timedelta(days=days):\n",
    "        res.append((delta.seconds, fk))\n",
    "res = [k[1] for k in reversed(sorted(res, key=lambda x:x[1]))]\n",
    "npub = len(res)\n",
    "print(len(res), f\" publications files modified in the last {days:d} days.\")\n",
    "# [ print('\\t', k) for k in res ];"
   ]
  },
  {
   "cell_type": "code",
   "execution_count": 10,
   "id": "015de740",
   "metadata": {
    "execution": {
     "iopub.execute_input": "2024-03-14T04:09:15.849620Z",
     "iopub.status.busy": "2024-03-14T04:09:15.849228Z",
     "iopub.status.idle": "2024-03-14T04:09:15.870939Z",
     "shell.execute_reply": "2024-03-14T04:09:15.870331Z"
    },
    "papermill": {
     "duration": 0.028185,
     "end_time": "2024-03-14T04:09:15.872277",
     "exception": false,
     "start_time": "2024-03-14T04:09:15.844092",
     "status": "completed"
    },
    "tags": []
   },
   "outputs": [
    {
     "name": "stdout",
     "output_type": "stream",
     "text": [
      "10  publications in the last 7 days.\n"
     ]
    }
   ],
   "source": [
    "import datetime\n",
    "from glob import glob\n",
    "\n",
    "def get_last_n_days(lst, days=1):\n",
    "    \"\"\" Get the documents from the last n days \"\"\"\n",
    "    sorted_lst = sorted(lst, key=lambda x: x[1], reverse=True)\n",
    "    for fname, date in sorted_lst:\n",
    "        if date >= str(datetime.date.today() - datetime.timedelta(days=days)):\n",
    "            yield fname\n",
    "\n",
    "def extract_appearance_dates(lst_file):\n",
    "    dates = []\n",
    "\n",
    "    def get_date(line):\n",
    "        return line\\\n",
    "            .split('Appeared on:')[-1]\\\n",
    "            .split('</mark>')[0].strip()\n",
    "\n",
    "    for fname in lst:\n",
    "        with open(fname, 'r') as f:\n",
    "            found_date = False\n",
    "            for line in f:\n",
    "                if not found_date:\n",
    "                    if \"Appeared on\" in line:\n",
    "                        found_date = True\n",
    "                        dates.append((fname, get_date(line)))\n",
    "                else:\n",
    "                    break\n",
    "    return dates\n",
    "\n",
    "from glob import glob\n",
    "lst = glob('_build/html/*md')\n",
    "days = 7\n",
    "dates = extract_appearance_dates(lst)\n",
    "res = list(get_last_n_days(dates, days))\n",
    "npub = len(res)\n",
    "print(len(res), f\" publications in the last {days:d} days.\")"
   ]
  },
  {
   "cell_type": "code",
   "execution_count": 11,
   "id": "52ca0208",
   "metadata": {
    "execution": {
     "iopub.execute_input": "2024-03-14T04:09:15.882198Z",
     "iopub.status.busy": "2024-03-14T04:09:15.881831Z",
     "iopub.status.idle": "2024-03-14T04:09:15.886609Z",
     "shell.execute_reply": "2024-03-14T04:09:15.886020Z"
    },
    "papermill": {
     "duration": 0.011254,
     "end_time": "2024-03-14T04:09:15.887998",
     "exception": false,
     "start_time": "2024-03-14T04:09:15.876744",
     "status": "completed"
    },
    "scrolled": false,
    "tags": []
   },
   "outputs": [],
   "source": [
    "def create_carousel(npub=4):\n",
    "    \"\"\" Generate the HTML code for a carousel with `npub` slides \"\"\"\n",
    "    carousel = [\"\"\"  <div class=\"carousel\" \"\"\",\n",
    "                \"\"\"       data-flickity='{ \"autoPlay\": 10000, \"adaptiveHeight\": true, \"resize\": true, \"wrapAround\": true, \"pauseAutoPlayOnHover\": true, \"groupCells\": 1 }' id=\"asyncTypeset\">\"\"\"\n",
    "                ]\n",
    "    \n",
    "    item_str = \"\"\"    <div class=\"carousel-cell\"> <div id=\"slide{k}\" class=\"md_view\">Content {k}</div> </div>\"\"\"\n",
    "    for k in range(1, npub + 1):\n",
    "        carousel.append(item_str.format(k=k))\n",
    "    carousel.append(\"  </div>\")\n",
    "    return '\\n'.join(carousel)\n",
    "\n",
    "def create_grid(npub=4):\n",
    "    \"\"\" Generate the HTML code for a flat grid with `npub` slides \"\"\"\n",
    "    grid = [\"\"\"  <div class=\"grid\"> \"\"\",\n",
    "                ]\n",
    "    \n",
    "    item_str = \"\"\"    <div class=\"grid-item\"> <div id=\"slide{k}\" class=\"md_view\">Content {k}</div> </div>\"\"\"\n",
    "    for k in range(1, npub + 1):\n",
    "        grid.append(item_str.format(k=k))\n",
    "    grid.append(\"  </div>\")\n",
    "    return '\\n'.join(grid)"
   ]
  },
  {
   "cell_type": "code",
   "execution_count": 12,
   "id": "a6eac5b6",
   "metadata": {
    "execution": {
     "iopub.execute_input": "2024-03-14T04:09:15.898103Z",
     "iopub.status.busy": "2024-03-14T04:09:15.897686Z",
     "iopub.status.idle": "2024-03-14T04:09:15.902562Z",
     "shell.execute_reply": "2024-03-14T04:09:15.902048Z"
    },
    "papermill": {
     "duration": 0.011256,
     "end_time": "2024-03-14T04:09:15.903776",
     "exception": false,
     "start_time": "2024-03-14T04:09:15.892520",
     "status": "completed"
    },
    "scrolled": false,
    "tags": []
   },
   "outputs": [],
   "source": [
    "carousel = create_carousel(npub)\n",
    "docs = ', '.join(['\"{0:s}\"'.format(k.split('/')[-1]) for k in res])\n",
    "slides = ', '.join([f'\"slide{k}\"' for k in range(1, npub + 1)])\n",
    "\n",
    "with open(\"daily_template.html\", \"r\") as tpl:\n",
    "    page = tpl.read()\n",
    "    page = page.replace(\"{%-- carousel:s --%}\", carousel)\\\n",
    "               .replace(\"{%-- suptitle:s --%}\",  \"7-day archives\" )\\\n",
    "               .replace(\"{%-- docs:s --%}\", docs)\\\n",
    "               .replace(\"{%-- slides:s --%}\", slides)\n",
    "    \n",
    "with open(\"_build/html/index_7days.html\", 'w') as fout:\n",
    "    fout.write(page)"
   ]
  },
  {
   "cell_type": "code",
   "execution_count": 13,
   "id": "adc1a1ec",
   "metadata": {
    "execution": {
     "iopub.execute_input": "2024-03-14T04:09:15.913835Z",
     "iopub.status.busy": "2024-03-14T04:09:15.913501Z",
     "iopub.status.idle": "2024-03-14T04:09:15.919995Z",
     "shell.execute_reply": "2024-03-14T04:09:15.919377Z"
    },
    "papermill": {
     "duration": 0.012918,
     "end_time": "2024-03-14T04:09:15.921300",
     "exception": false,
     "start_time": "2024-03-14T04:09:15.908382",
     "status": "completed"
    },
    "tags": []
   },
   "outputs": [
    {
     "name": "stdout",
     "output_type": "stream",
     "text": [
      "4  publications in the last day.\n"
     ]
    }
   ],
   "source": [
    "# redo for today\n",
    "days = 1\n",
    "res = list(get_last_n_days(dates, days))\n",
    "npub = len(res)\n",
    "print(len(res), f\" publications in the last day.\")\n",
    "\n",
    "carousel = create_carousel(npub)\n",
    "docs = ', '.join(['\"{0:s}\"'.format(k.split('/')[-1]) for k in res])\n",
    "slides = ', '.join([f'\"slide{k}\"' for k in range(1, npub + 1)])\n",
    "\n",
    "with open(\"daily_template.html\", \"r\") as tpl:\n",
    "    page = tpl.read()\n",
    "    page = page.replace(\"{%-- carousel:s --%}\", carousel)\\\n",
    "               .replace(\"{%-- suptitle:s --%}\",  \"Daily\" )\\\n",
    "               .replace(\"{%-- docs:s --%}\", docs)\\\n",
    "               .replace(\"{%-- slides:s --%}\", slides)\n",
    "    \n",
    "# print(carousel, docs, slides)\n",
    "# print(page)\n",
    "with open(\"_build/html/index_daily.html\", 'w') as fout:\n",
    "    fout.write(page)"
   ]
  },
  {
   "cell_type": "code",
   "execution_count": 14,
   "id": "00eece82",
   "metadata": {
    "execution": {
     "iopub.execute_input": "2024-03-14T04:09:15.931559Z",
     "iopub.status.busy": "2024-03-14T04:09:15.931189Z",
     "iopub.status.idle": "2024-03-14T04:09:15.937635Z",
     "shell.execute_reply": "2024-03-14T04:09:15.937096Z"
    },
    "papermill": {
     "duration": 0.012954,
     "end_time": "2024-03-14T04:09:15.938941",
     "exception": false,
     "start_time": "2024-03-14T04:09:15.925987",
     "status": "completed"
    },
    "scrolled": false,
    "tags": []
   },
   "outputs": [
    {
     "name": "stdout",
     "output_type": "stream",
     "text": [
      "6  6 publications selected.\n"
     ]
    }
   ],
   "source": [
    "# Create the flat grid of the last N papers (fixed number regardless of dates)\n",
    "from itertools import islice \n",
    "\n",
    "npub = 6\n",
    "res = [k[0] for k in (islice(reversed(sorted(dates, key=lambda x: x[1])), 6))]\n",
    "print(len(res), f\" {npub} publications selected.\")\n",
    "\n",
    "grid = create_grid(npub)\n",
    "docs = ', '.join(['\"{0:s}\"'.format(k.split('/')[-1]) for k in res])\n",
    "slides = ', '.join([f'\"slide{k}\"' for k in range(1, npub + 1)])\n",
    "\n",
    "with open(\"grid_template.html\", \"r\") as tpl:\n",
    "    page = tpl.read()\n",
    "    page = page.replace(\"{%-- grid-content:s --%}\", grid)\\\n",
    "               .replace(\"{%-- suptitle:s --%}\",  f\"Last {npub:,d} papers\" )\\\n",
    "               .replace(\"{%-- docs:s --%}\", docs)\\\n",
    "               .replace(\"{%-- slides:s --%}\", slides)\n",
    "    \n",
    "# print(grid, docs, slides)\n",
    "# print(page)\n",
    "with open(\"_build/html/index_npub_grid.html\", 'w') as fout:\n",
    "    fout.write(page)"
   ]
  }
 ],
 "metadata": {
  "kernelspec": {
   "display_name": "Python 3 (ipykernel)",
   "language": "python",
   "name": "python3"
  },
  "language_info": {
   "codemirror_mode": {
    "name": "ipython",
    "version": 3
   },
   "file_extension": ".py",
   "mimetype": "text/x-python",
   "name": "python",
   "nbconvert_exporter": "python",
   "pygments_lexer": "ipython3",
   "version": "3.9.18"
  },
  "papermill": {
   "default_parameters": {},
   "duration": 37.169661,
   "end_time": "2024-03-14T04:09:16.159049",
   "environment_variables": {},
   "exception": null,
   "input_path": "MPIA daily digest.ipynb",
   "output_path": "log.ipynb",
   "parameters": {},
   "start_time": "2024-03-14T04:08:38.989388",
   "version": "2.5.0"
  },
  "vscode": {
   "interpreter": {
    "hash": "aee8b7b246df8f9039afb4144a1f6fd8d2ca17a180786b69acc140d282b71a49"
   }
  },
  "widgets": {
   "application/vnd.jupyter.widget-state+json": {
    "state": {
     "0ba7824f8e61479c924d185c83e1362e": {
      "model_module": "@jupyter-widgets/controls",
      "model_module_version": "2.0.0",
      "model_name": "FloatProgressModel",
      "state": {
       "_dom_classes": [],
       "_model_module": "@jupyter-widgets/controls",
       "_model_module_version": "2.0.0",
       "_model_name": "FloatProgressModel",
       "_view_count": null,
       "_view_module": "@jupyter-widgets/controls",
       "_view_module_version": "2.0.0",
       "_view_name": "ProgressView",
       "bar_style": "success",
       "description": "",
       "description_allow_html": false,
       "layout": "IPY_MODEL_cf000dd62f2049e6a9b74701f977a34e",
       "max": 3.0,
       "min": 0.0,
       "orientation": "horizontal",
       "style": "IPY_MODEL_ef6a3900a35947419e54ac6cc7995a62",
       "tabbable": null,
       "tooltip": null,
       "value": 3.0
      }
     },
     "3f4fd7cdf55b44169f93170953774df1": {
      "model_module": "@jupyter-widgets/base",
      "model_module_version": "2.0.0",
      "model_name": "LayoutModel",
      "state": {
       "_model_module": "@jupyter-widgets/base",
       "_model_module_version": "2.0.0",
       "_model_name": "LayoutModel",
       "_view_count": null,
       "_view_module": "@jupyter-widgets/base",
       "_view_module_version": "2.0.0",
       "_view_name": "LayoutView",
       "align_content": null,
       "align_items": null,
       "align_self": null,
       "border_bottom": null,
       "border_left": null,
       "border_right": null,
       "border_top": null,
       "bottom": null,
       "display": null,
       "flex": null,
       "flex_flow": null,
       "grid_area": null,
       "grid_auto_columns": null,
       "grid_auto_flow": null,
       "grid_auto_rows": null,
       "grid_column": null,
       "grid_gap": null,
       "grid_row": null,
       "grid_template_areas": null,
       "grid_template_columns": null,
       "grid_template_rows": null,
       "height": null,
       "justify_content": null,
       "justify_items": null,
       "left": null,
       "margin": null,
       "max_height": null,
       "max_width": null,
       "min_height": null,
       "min_width": null,
       "object_fit": null,
       "object_position": null,
       "order": null,
       "overflow": null,
       "padding": null,
       "right": null,
       "top": null,
       "visibility": null,
       "width": null
      }
     },
     "5c9ebe5913e640a2814c741819e4f754": {
      "model_module": "@jupyter-widgets/controls",
      "model_module_version": "2.0.0",
      "model_name": "HTMLModel",
      "state": {
       "_dom_classes": [],
       "_model_module": "@jupyter-widgets/controls",
       "_model_module_version": "2.0.0",
       "_model_name": "HTMLModel",
       "_view_count": null,
       "_view_module": "@jupyter-widgets/controls",
       "_view_module_version": "2.0.0",
       "_view_name": "HTMLView",
       "description": "",
       "description_allow_html": false,
       "layout": "IPY_MODEL_3f4fd7cdf55b44169f93170953774df1",
       "placeholder": "​",
       "style": "IPY_MODEL_7f2a529ca62f4f1882d15e30aac249e7",
       "tabbable": null,
       "tooltip": null,
       "value": "100%"
      }
     },
     "701ad8ef13df4057ab0d35d660b8c457": {
      "model_module": "@jupyter-widgets/base",
      "model_module_version": "2.0.0",
      "model_name": "LayoutModel",
      "state": {
       "_model_module": "@jupyter-widgets/base",
       "_model_module_version": "2.0.0",
       "_model_name": "LayoutModel",
       "_view_count": null,
       "_view_module": "@jupyter-widgets/base",
       "_view_module_version": "2.0.0",
       "_view_name": "LayoutView",
       "align_content": null,
       "align_items": null,
       "align_self": null,
       "border_bottom": null,
       "border_left": null,
       "border_right": null,
       "border_top": null,
       "bottom": null,
       "display": null,
       "flex": null,
       "flex_flow": null,
       "grid_area": null,
       "grid_auto_columns": null,
       "grid_auto_flow": null,
       "grid_auto_rows": null,
       "grid_column": null,
       "grid_gap": null,
       "grid_row": null,
       "grid_template_areas": null,
       "grid_template_columns": null,
       "grid_template_rows": null,
       "height": null,
       "justify_content": null,
       "justify_items": null,
       "left": null,
       "margin": null,
       "max_height": null,
       "max_width": null,
       "min_height": null,
       "min_width": null,
       "object_fit": null,
       "object_position": null,
       "order": null,
       "overflow": null,
       "padding": null,
       "right": null,
       "top": null,
       "visibility": null,
       "width": null
      }
     },
     "7f2a529ca62f4f1882d15e30aac249e7": {
      "model_module": "@jupyter-widgets/controls",
      "model_module_version": "2.0.0",
      "model_name": "HTMLStyleModel",
      "state": {
       "_model_module": "@jupyter-widgets/controls",
       "_model_module_version": "2.0.0",
       "_model_name": "HTMLStyleModel",
       "_view_count": null,
       "_view_module": "@jupyter-widgets/base",
       "_view_module_version": "2.0.0",
       "_view_name": "StyleView",
       "background": null,
       "description_width": "",
       "font_size": null,
       "text_color": null
      }
     },
     "8383376da8fb413aacb413c4ed9f6865": {
      "model_module": "@jupyter-widgets/controls",
      "model_module_version": "2.0.0",
      "model_name": "HBoxModel",
      "state": {
       "_dom_classes": [],
       "_model_module": "@jupyter-widgets/controls",
       "_model_module_version": "2.0.0",
       "_model_name": "HBoxModel",
       "_view_count": null,
       "_view_module": "@jupyter-widgets/controls",
       "_view_module_version": "2.0.0",
       "_view_name": "HBoxView",
       "box_style": "",
       "children": [
        "IPY_MODEL_5c9ebe5913e640a2814c741819e4f754",
        "IPY_MODEL_0ba7824f8e61479c924d185c83e1362e",
        "IPY_MODEL_979092c9c51544c48960b9360b9a4f42"
       ],
       "layout": "IPY_MODEL_701ad8ef13df4057ab0d35d660b8c457",
       "tabbable": null,
       "tooltip": null
      }
     },
     "8b3fa744147e42efa3bc9d4b3bab7e67": {
      "model_module": "@jupyter-widgets/base",
      "model_module_version": "2.0.0",
      "model_name": "LayoutModel",
      "state": {
       "_model_module": "@jupyter-widgets/base",
       "_model_module_version": "2.0.0",
       "_model_name": "LayoutModel",
       "_view_count": null,
       "_view_module": "@jupyter-widgets/base",
       "_view_module_version": "2.0.0",
       "_view_name": "LayoutView",
       "align_content": null,
       "align_items": null,
       "align_self": null,
       "border_bottom": null,
       "border_left": null,
       "border_right": null,
       "border_top": null,
       "bottom": null,
       "display": null,
       "flex": null,
       "flex_flow": null,
       "grid_area": null,
       "grid_auto_columns": null,
       "grid_auto_flow": null,
       "grid_auto_rows": null,
       "grid_column": null,
       "grid_gap": null,
       "grid_row": null,
       "grid_template_areas": null,
       "grid_template_columns": null,
       "grid_template_rows": null,
       "height": null,
       "justify_content": null,
       "justify_items": null,
       "left": null,
       "margin": null,
       "max_height": null,
       "max_width": null,
       "min_height": null,
       "min_width": null,
       "object_fit": null,
       "object_position": null,
       "order": null,
       "overflow": null,
       "padding": null,
       "right": null,
       "top": null,
       "visibility": null,
       "width": null
      }
     },
     "979092c9c51544c48960b9360b9a4f42": {
      "model_module": "@jupyter-widgets/controls",
      "model_module_version": "2.0.0",
      "model_name": "HTMLModel",
      "state": {
       "_dom_classes": [],
       "_model_module": "@jupyter-widgets/controls",
       "_model_module_version": "2.0.0",
       "_model_name": "HTMLModel",
       "_view_count": null,
       "_view_module": "@jupyter-widgets/controls",
       "_view_module_version": "2.0.0",
       "_view_name": "HTMLView",
       "description": "",
       "description_allow_html": false,
       "layout": "IPY_MODEL_8b3fa744147e42efa3bc9d4b3bab7e67",
       "placeholder": "​",
       "style": "IPY_MODEL_e2e90573abe848fc90efeea595f91ea9",
       "tabbable": null,
       "tooltip": null,
       "value": " 3/3 [00:13&lt;00:00,  5.43s/it]"
      }
     },
     "cf000dd62f2049e6a9b74701f977a34e": {
      "model_module": "@jupyter-widgets/base",
      "model_module_version": "2.0.0",
      "model_name": "LayoutModel",
      "state": {
       "_model_module": "@jupyter-widgets/base",
       "_model_module_version": "2.0.0",
       "_model_name": "LayoutModel",
       "_view_count": null,
       "_view_module": "@jupyter-widgets/base",
       "_view_module_version": "2.0.0",
       "_view_name": "LayoutView",
       "align_content": null,
       "align_items": null,
       "align_self": null,
       "border_bottom": null,
       "border_left": null,
       "border_right": null,
       "border_top": null,
       "bottom": null,
       "display": null,
       "flex": null,
       "flex_flow": null,
       "grid_area": null,
       "grid_auto_columns": null,
       "grid_auto_flow": null,
       "grid_auto_rows": null,
       "grid_column": null,
       "grid_gap": null,
       "grid_row": null,
       "grid_template_areas": null,
       "grid_template_columns": null,
       "grid_template_rows": null,
       "height": null,
       "justify_content": null,
       "justify_items": null,
       "left": null,
       "margin": null,
       "max_height": null,
       "max_width": null,
       "min_height": null,
       "min_width": null,
       "object_fit": null,
       "object_position": null,
       "order": null,
       "overflow": null,
       "padding": null,
       "right": null,
       "top": null,
       "visibility": null,
       "width": null
      }
     },
     "e2e90573abe848fc90efeea595f91ea9": {
      "model_module": "@jupyter-widgets/controls",
      "model_module_version": "2.0.0",
      "model_name": "HTMLStyleModel",
      "state": {
       "_model_module": "@jupyter-widgets/controls",
       "_model_module_version": "2.0.0",
       "_model_name": "HTMLStyleModel",
       "_view_count": null,
       "_view_module": "@jupyter-widgets/base",
       "_view_module_version": "2.0.0",
       "_view_name": "StyleView",
       "background": null,
       "description_width": "",
       "font_size": null,
       "text_color": null
      }
     },
     "ef6a3900a35947419e54ac6cc7995a62": {
      "model_module": "@jupyter-widgets/controls",
      "model_module_version": "2.0.0",
      "model_name": "ProgressStyleModel",
      "state": {
       "_model_module": "@jupyter-widgets/controls",
       "_model_module_version": "2.0.0",
       "_model_name": "ProgressStyleModel",
       "_view_count": null,
       "_view_module": "@jupyter-widgets/base",
       "_view_module_version": "2.0.0",
       "_view_name": "StyleView",
       "bar_color": null,
       "description_width": ""
      }
     }
    },
    "version_major": 2,
    "version_minor": 0
   }
  }
 },
 "nbformat": 4,
 "nbformat_minor": 5
}