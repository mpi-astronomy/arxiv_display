{
 "cells": [
  {
   "cell_type": "markdown",
   "id": "92bcb855",
   "metadata": {
    "papermill": {
     "duration": 0.005991,
     "end_time": "2023-08-11T04:04:23.892276",
     "exception": false,
     "start_time": "2023-08-11T04:04:23.886285",
     "status": "completed"
    },
    "tags": []
   },
   "source": [
    "# MPIA Arxiv on Deck 2\n",
    "\n",
    "Contains the steps to produce the paper extractions."
   ]
  },
  {
   "cell_type": "code",
   "execution_count": 1,
   "id": "3a0d6e11",
   "metadata": {
    "execution": {
     "iopub.execute_input": "2023-08-11T04:04:23.903103Z",
     "iopub.status.busy": "2023-08-11T04:04:23.902064Z",
     "iopub.status.idle": "2023-08-11T04:04:24.217261Z",
     "shell.execute_reply": "2023-08-11T04:04:24.216162Z"
    },
    "papermill": {
     "duration": 0.323284,
     "end_time": "2023-08-11T04:04:24.219991",
     "exception": false,
     "start_time": "2023-08-11T04:04:23.896707",
     "status": "completed"
    },
    "tags": []
   },
   "outputs": [],
   "source": [
    "# Imports\n",
    "import os\n",
    "from IPython.display import Markdown, display\n",
    "from tqdm.notebook import tqdm\n",
    "import warnings\n",
    "from PIL import Image \n",
    "\n",
    "# requires arxiv_on_deck_2\n",
    "\n",
    "from arxiv_on_deck_2.arxiv2 import (get_new_papers, \n",
    "                                    get_paper_from_identifier,\n",
    "                                    retrieve_document_source, \n",
    "                                    get_markdown_badge)\n",
    "from arxiv_on_deck_2 import (latex,\n",
    "                             latex_bib,\n",
    "                             mpia,\n",
    "                             highlight_authors_in_list)\n",
    "\n",
    "# Sometimes images are really big\n",
    "Image.MAX_IMAGE_PIXELS = 1000000000 "
   ]
  },
  {
   "cell_type": "code",
   "execution_count": 2,
   "id": "22aa9d44",
   "metadata": {
    "execution": {
     "iopub.execute_input": "2023-08-11T04:04:24.231456Z",
     "iopub.status.busy": "2023-08-11T04:04:24.231109Z",
     "iopub.status.idle": "2023-08-11T04:04:24.239567Z",
     "shell.execute_reply": "2023-08-11T04:04:24.238660Z"
    },
    "papermill": {
     "duration": 0.015867,
     "end_time": "2023-08-11T04:04:24.241502",
     "exception": false,
     "start_time": "2023-08-11T04:04:24.225635",
     "status": "completed"
    },
    "tags": []
   },
   "outputs": [],
   "source": [
    "# Some useful definitions.\n",
    "\n",
    "class AffiliationWarning(UserWarning):\n",
    "    pass\n",
    "\n",
    "class AffiliationError(RuntimeError):\n",
    "    pass\n",
    "\n",
    "def validation(source: str):\n",
    "    \"\"\"Raises error paper during parsing of source file\n",
    "    \n",
    "    Allows checks before parsing TeX code.\n",
    "    \n",
    "    Raises AffiliationWarning\n",
    "    \"\"\"\n",
    "    check = mpia.affiliation_verifications(source, verbose=True)\n",
    "    if check is not True:\n",
    "        raise AffiliationError(\"mpia.affiliation_verifications: \" + check)\n",
    "\n",
    "        \n",
    "warnings.simplefilter('always', AffiliationWarning)\n",
    "\n",
    "\n",
    "def get_markdown_qrcode(paper_id: str):\n",
    "    \"\"\" Generate a qrcode to the arxiv page using qrserver.com\n",
    "    \n",
    "    :param paper: Arxiv paper\n",
    "    :returns: markdown text\n",
    "    \"\"\"\n",
    "    url = r\"https://api.qrserver.com/v1/create-qr-code/?size=100x100&data=\"\n",
    "    txt = f\"\"\"<img src={url}\"https://arxiv.org/abs/{paper_id}\">\"\"\"\n",
    "    txt = '<div id=\"qrcode\">' + txt + '</div>'\n",
    "    return txt"
   ]
  },
  {
   "cell_type": "markdown",
   "id": "14bd6310",
   "metadata": {
    "papermill": {
     "duration": 0.00481,
     "end_time": "2023-08-11T04:04:24.254211",
     "exception": false,
     "start_time": "2023-08-11T04:04:24.249401",
     "status": "completed"
    },
    "tags": []
   },
   "source": [
    "## get list of arxiv paper candidates\n",
    "\n",
    "We use the MPIA mitarbeiter list webpage from mpia.de to get author names\n",
    "We then get all new papers from Arxiv and match authors"
   ]
  },
  {
   "cell_type": "code",
   "execution_count": 3,
   "id": "2645e73a",
   "metadata": {
    "execution": {
     "iopub.execute_input": "2023-08-11T04:04:24.268254Z",
     "iopub.status.busy": "2023-08-11T04:04:24.267311Z",
     "iopub.status.idle": "2023-08-11T04:04:49.271956Z",
     "shell.execute_reply": "2023-08-11T04:04:49.271005Z"
    },
    "papermill": {
     "duration": 25.013735,
     "end_time": "2023-08-11T04:04:49.274509",
     "exception": false,
     "start_time": "2023-08-11T04:04:24.260774",
     "status": "completed"
    },
    "tags": []
   },
   "outputs": [
    {
     "name": "stdout",
     "output_type": "stream",
     "text": [
      "S. Li  ->  S. Li  |  ['S. Li']\n",
      "J. Olofsson  ->  J. Olofsson  |  ['J. Olofsson']\n",
      "C. Desgrange  ->  C. Desgrange  |  ['C. Desgrange']\n",
      "E. Matthews  ->  E. Matthews  |  ['E. Matthews']\n",
      "A. d. Graaff  ->  A. D. Graaff  |  ['A. D. Graaff']\n",
      "Arxiv has 52 new papers today\n",
      "          3 with possible author matches\n"
     ]
    }
   ],
   "source": [
    "# get list from MPIA website\n",
    "# it automatically filters identified non-scientists :func:`mpia.filter_non_scientists`\n",
    "mpia_authors = mpia.get_mpia_mitarbeiter_list()\n",
    "normed_mpia_authors = [k[1] for k in mpia_authors]   # initials + fullname\n",
    "new_papers = get_new_papers()\n",
    "# add manual references\n",
    "add_paper_refs = []\n",
    "new_papers.extend([get_paper_from_identifier(k) for k in add_paper_refs])\n",
    "\n",
    "candidates = []\n",
    "for paperk in new_papers:\n",
    "    # Check author list with their initials\n",
    "    normed_author_list = [mpia.get_initials(k) for k in paperk['authors']]\n",
    "    hl_authors = highlight_authors_in_list(normed_author_list, normed_mpia_authors, verbose=True)\n",
    "    matches = [(hl, orig) for hl, orig in zip(hl_authors, paperk['authors']) if 'mark' in hl]\n",
    "    paperk['authors'] = hl_authors\n",
    "    if matches:\n",
    "        # only select paper if an author matched our list\n",
    "        candidates.append(paperk)\n",
    "print(\"\"\"Arxiv has {0:,d} new papers today\"\"\".format(len(new_papers)))        \n",
    "print(\"\"\"          {0:,d} with possible author matches\"\"\".format(len(candidates)))"
   ]
  },
  {
   "cell_type": "markdown",
   "id": "3543b34a",
   "metadata": {
    "papermill": {
     "duration": 0.004405,
     "end_time": "2023-08-11T04:04:49.283438",
     "exception": false,
     "start_time": "2023-08-11T04:04:49.279033",
     "status": "completed"
    },
    "tags": []
   },
   "source": [
    "# Parse sources and generate relevant outputs\n",
    "\n",
    "From the candidates, we do the following steps:\n",
    "* get their tarball from ArXiv (and extract data)\n",
    "* find the main .tex file: find one with \\documentclass{...} (sometimes it's non trivial)\n",
    "* Check affiliations with :func:`validation`, which uses :func:`mpia.affiliation_verifications`\n",
    "* If passing the affiliations: we parse the .tex source\n",
    "   * inject sub-documents into the main (flatten the main document)\n",
    "   * parse structure, extract information (title, abstract, authors, figures...)\n",
    "   * handles `\\graphicspath` if provided\n",
    "* Generate the .md document."
   ]
  },
  {
   "cell_type": "code",
   "execution_count": 4,
   "id": "9576b79e",
   "metadata": {
    "execution": {
     "iopub.execute_input": "2023-08-11T04:04:49.293650Z",
     "iopub.status.busy": "2023-08-11T04:04:49.293320Z",
     "iopub.status.idle": "2023-08-11T04:06:08.160218Z",
     "shell.execute_reply": "2023-08-11T04:06:08.159349Z"
    },
    "papermill": {
     "duration": 78.87532,
     "end_time": "2023-08-11T04:06:08.163033",
     "exception": false,
     "start_time": "2023-08-11T04:04:49.287713",
     "status": "completed"
    },
    "scrolled": false,
    "tags": []
   },
   "outputs": [
    {
     "data": {
      "application/vnd.jupyter.widget-view+json": {
       "model_id": "e38483b5bd0943658517ed33dcd9b743",
       "version_major": 2,
       "version_minor": 0
      },
      "text/plain": [
       "  0%|          | 0/3 [00:00<?, ?it/s]"
      ]
     },
     "metadata": {},
     "output_type": "display_data"
    },
    {
     "name": "stdout",
     "output_type": "stream",
     "text": [
      "Retrieving document from  https://arxiv.org/e-print/2308.05494\n"
     ]
    },
    {
     "name": "stdout",
     "output_type": "stream",
     "text": [
      "extracting tarball to tmp_2308.05494..."
     ]
    },
    {
     "name": "stdout",
     "output_type": "stream",
     "text": [
      " done.\n"
     ]
    },
    {
     "name": "stderr",
     "output_type": "stream",
     "text": [
      "/opt/hostedtoolcache/Python/3.9.17/x64/lib/python3.9/site-packages/IPython/core/interactiveshell.py:3508: LatexWarning: Multiple tex files.\n",
      "\n",
      "  exec(code_obj, self.user_global_ns, self.user_ns)\n",
      "/opt/hostedtoolcache/Python/3.9.17/x64/lib/python3.9/site-packages/IPython/core/interactiveshell.py:3508: LatexWarning: Found documentclass in tmp_2308.05494/ms.tex\n",
      "\n",
      "  exec(code_obj, self.user_global_ns, self.user_ns)\n",
      "/opt/hostedtoolcache/Python/3.9.17/x64/lib/python3.9/site-packages/arxiv_on_deck_2/latex.py:399: LatexWarning: Latex injecting: 'AUTHOR.tex' from 'tmp_2308.05494/AUTHOR.tex'\n",
      "  warnings.warn(LatexWarning(f\"Latex injecting: '{ext}' from '{subsource}'\"))\n"
     ]
    },
    {
     "name": "stdout",
     "output_type": "stream",
     "text": [
      "S. Li  ->  S. Li  |  ['S. Li']\n"
     ]
    },
    {
     "name": "stderr",
     "output_type": "stream",
     "text": [
      "/opt/hostedtoolcache/Python/3.9.17/x64/lib/python3.9/site-packages/arxiv_on_deck_2/latex.py:120: LatexWarning: attempting recovering figure figures/sed.pdf\n",
      "  warnings.warn(LatexWarning(f'attempting recovering figure {image}'))\n",
      "/opt/hostedtoolcache/Python/3.9.17/x64/lib/python3.9/site-packages/arxiv_on_deck_2/latex.py:692: LatexWarning: Could not find graphic \\includegraphics[width=\\textwidth]{figures/sed.pdf}\n",
      "  warnings.warn(LatexWarning(f\"Could not find graphic {k}\"))\n"
     ]
    },
    {
     "name": "stderr",
     "output_type": "stream",
     "text": [
      "/tmp/ipykernel_2154/3009462391.py:49: LatexWarning: 2308.05494 did not run properly\n",
      "list index out of range\n",
      "  warnings.warn(latex.LatexWarning(f\"{paper_id:s} did not run properly\\n\" +\n"
     ]
    },
    {
     "name": "stdout",
     "output_type": "stream",
     "text": [
      "Retrieving document from  https://arxiv.org/e-print/2308.05613\n"
     ]
    },
    {
     "name": "stdout",
     "output_type": "stream",
     "text": [
      "extracting tarball to tmp_2308.05613..."
     ]
    },
    {
     "name": "stdout",
     "output_type": "stream",
     "text": [
      " done.\n"
     ]
    },
    {
     "name": "stdout",
     "output_type": "stream",
     "text": [
      "J. Olofsson  ->  J. Olofsson  |  ['J. Olofsson']\n",
      "C. Desgrange  ->  C. Desgrange  |  ['C. Desgrange']\n",
      "E. Matthews  ->  E. Matthews  |  ['E. Matthews']\n"
     ]
    },
    {
     "name": "stdout",
     "output_type": "stream",
     "text": [
      "Found 88 bibliographic references in tmp_2308.05613/draft.bbl.\n",
      "Retrieving document from  https://arxiv.org/e-print/2308.05735\n"
     ]
    },
    {
     "name": "stdout",
     "output_type": "stream",
     "text": [
      "extracting tarball to tmp_2308.05735..."
     ]
    },
    {
     "name": "stdout",
     "output_type": "stream",
     "text": [
      " done.\n"
     ]
    },
    {
     "name": "stderr",
     "output_type": "stream",
     "text": [
      "/opt/hostedtoolcache/Python/3.9.17/x64/lib/python3.9/site-packages/arxiv_on_deck_2/latex.py:473: LatexWarning: Error parsing the document directly. Trying to recover.\n",
      "  warnings.warn(LatexWarning(f\"Error parsing the document directly. Trying to recover.\"))\n"
     ]
    },
    {
     "name": "stdout",
     "output_type": "stream",
     "text": [
      "✘ → 0:header\n",
      "  ↳ 48924:end\n"
     ]
    },
    {
     "name": "stderr",
     "output_type": "stream",
     "text": [
      "/tmp/ipykernel_2154/3009462391.py:49: LatexWarning: 2308.05735 did not run properly\n",
      "list index out of range\n",
      "  warnings.warn(latex.LatexWarning(f\"{paper_id:s} did not run properly\\n\" +\n"
     ]
    }
   ],
   "source": [
    "documents = []\n",
    "failed = []\n",
    "for paper in tqdm(candidates):\n",
    "    paper_id = paper['identifier'].lower().replace('arxiv:', '')\n",
    "    \n",
    "    folder = f'tmp_{paper_id}'\n",
    "\n",
    "    try:\n",
    "        if not os.path.isdir(folder):\n",
    "            folder = retrieve_document_source(f\"{paper_id}\", f'tmp_{paper_id}')\n",
    "        \n",
    "        try:\n",
    "            doc = latex.LatexDocument(folder, validation=validation)    \n",
    "        except AffiliationError as affilerror:\n",
    "            msg = f\"ArXiv:{paper_id:s} is not an MPIA paper... \" + str(affilerror)\n",
    "            failed.append((paper, \"affiliation error: \" + str(affilerror) ))\n",
    "            continue\n",
    "        \n",
    "        # Hack because sometimes author parsing does not work well\n",
    "        if (len(doc.authors) != len(paper['authors'])):\n",
    "            doc._authors = paper['authors']\n",
    "        else:\n",
    "            # highlight authors (FIXME: doc.highlight_authors)\n",
    "            # done on arxiv paper already\n",
    "            doc._authors = highlight_authors_in_list(\n",
    "                [mpia.get_initials(k) for k in doc.authors], \n",
    "                normed_mpia_authors, verbose=True)\n",
    "        if (doc.abstract) in (None, ''):\n",
    "            doc._abstract = paper['abstract']\n",
    "            \n",
    "        doc.comment = (get_markdown_badge(paper_id) + \n",
    "                       \"<mark>Appeared on: \" + paper['date'] + \"</mark> - \")\n",
    "        if paper['comments']:\n",
    "            doc.comment += \" _\" + paper['comments'] + \"_\"\n",
    "        \n",
    "        full_md = doc.generate_markdown_text()\n",
    "        \n",
    "        full_md += get_markdown_qrcode(paper_id)\n",
    "        \n",
    "        # replace citations\n",
    "        try:\n",
    "            bibdata = latex_bib.LatexBib.from_doc(doc)\n",
    "            full_md = latex_bib.replace_citations(full_md, bibdata)\n",
    "        except Exception as e:\n",
    "            print(e)\n",
    "        \n",
    "        documents.append((paper_id, full_md))\n",
    "    except Exception as e:\n",
    "        warnings.warn(latex.LatexWarning(f\"{paper_id:s} did not run properly\\n\" +\n",
    "                                         str(e)\n",
    "                                        ))\n",
    "        failed.append((paper, \"latex error \" + str(e)))"
   ]
  },
  {
   "cell_type": "markdown",
   "id": "2505a25c",
   "metadata": {
    "papermill": {
     "duration": 0.00643,
     "end_time": "2023-08-11T04:06:08.175732",
     "exception": false,
     "start_time": "2023-08-11T04:06:08.169302",
     "status": "completed"
    },
    "tags": []
   },
   "source": [
    "### Export the logs\n",
    "\n",
    "Throughout, we also keep track of the logs per paper. see `logs-{today date}.md` "
   ]
  },
  {
   "cell_type": "code",
   "execution_count": 5,
   "id": "d733828a",
   "metadata": {
    "execution": {
     "iopub.execute_input": "2023-08-11T04:06:08.189436Z",
     "iopub.status.busy": "2023-08-11T04:06:08.188767Z",
     "iopub.status.idle": "2023-08-11T04:06:08.224849Z",
     "shell.execute_reply": "2023-08-11T04:06:08.223605Z"
    },
    "papermill": {
     "duration": 0.045624,
     "end_time": "2023-08-11T04:06:08.227271",
     "exception": false,
     "start_time": "2023-08-11T04:06:08.181647",
     "status": "completed"
    },
    "scrolled": false,
    "tags": []
   },
   "outputs": [
    {
     "data": {
      "text/markdown": [
       "## Successful papers"
      ],
      "text/plain": [
       "<IPython.core.display.Markdown object>"
      ]
     },
     "metadata": {},
     "output_type": "display_data"
    },
    {
     "data": {
      "text/markdown": [
       "\n",
       "|||\n",
       "|---:|:---|\n",
       "| [![arXiv](https://img.shields.io/badge/arXiv-arXiv:2308.05613-b31b1b.svg)](https://arxiv.org/abs/arXiv:2308.05613) | **An inner warp discovered in the disk around HD 110058 using VLT/SPHERE  and HST/STIS**  |\n",
       "|| S. Stasevic, et al. -- incl., <mark>J. Olofsson</mark>, <mark>C. Desgrange</mark>, <mark>E. Matthews</mark> |\n",
       "|*Appeared on*| *2023-08-11*|\n",
       "|*Comments*| *17 pages, 15 figures, 3 tables; accepted for publication in A&A*|\n",
       "|**Abstract**| An edge-on debris disk was detected in 2015 around the young, nearby A0V star HD 110058. The disk showed features resembling those seen in the disk of beta Pictoris that could indicate the presence of a perturbing planetary-mass companion in the system. We investigated new and archival scattered light images of the disk in order to characterise its morphology and spectrum. In particular, we analysed the disk's warp to constrain the properties of possible planetary perturbers. Our work uses data from two VLT/SPHERE observations and archival data from HST/STIS. We measured the morphology of the disk by analysing vertical profiles along the length of the disk to extract the centroid spine position and vertical height. We extracted the surface brightness and reflectance spectrum of the disk. We detect the disk between 20 au (with SPHERE) and 150 au (with STIS), at a position angle of 159.6$^\\circ\\pm$0.6$^\\circ$. Analysis of the spine shows an asymmetry between the two sides of the disk, with a 3.4$^\\circ\\pm$0.9$^\\circ$ warp between ~20 au and 60 au. The disk is marginally vertically resolved in scattered light, with a vertical aspect ratio of 9.3$\\pm$0.7% at 45 au. The extracted reflectance spectrum is featureless, flat between 0.95 micron and 1.1 micron, and red from 1.1 micron to 1.65 micron. The outer parts of the disk are also asymmetric with a tilt between the two sides compatible with a disk made of forward-scattering particles and seen not perfectly edge-on, suggesting an inclination of <84$^\\circ$. The presence of an undetected planetary-mass companion on an inclined orbit with respect to the disk could explain the warp. The misalignment of the inner parts of the disk with respect to the outer disk suggests a warp that has not yet propagated to the outer parts of the disk, favouring the scenario of an inner perturber as the origin of the warp. |"
      ],
      "text/plain": [
       "[arXiv:2308.05613] An inner warp discovered in the disk around HD 110058 using VLT/SPHERE  and HST/STIS\n",
       "\tS. Stasevic, et al. -- incl., <mark>J. Olofsson</mark>, <mark>C. Desgrange</mark>, <mark>E. Matthews</mark>"
      ]
     },
     "metadata": {},
     "output_type": "display_data"
    },
    {
     "data": {
      "text/markdown": [
       "## Failed papers"
      ],
      "text/plain": [
       "<IPython.core.display.Markdown object>"
      ]
     },
     "metadata": {},
     "output_type": "display_data"
    },
    {
     "data": {
      "text/markdown": [
       "\n",
       "|||\n",
       "|---:|:---|\n",
       "| [![arXiv](https://img.shields.io/badge/arXiv-arXiv:2308.05494-b31b1b.svg)](https://arxiv.org/abs/arXiv:2308.05494) | **ALMA Survey of Orion Planck Galactic Cold Clumps (ALMASOP): The  Warm-Envelope Origin of Hot Corinos**  |\n",
       "|| S.-Y. Hsu, et al. -- incl., <mark>S. Li</mark> |\n",
       "|*Appeared on*| *2023-08-11*|\n",
       "|*Comments*| *28 pages, 11 figures*|\n",
       "|**Abstract**| Hot corinos are of great interest due to their richness in interstellar complex organic molecules (COMs) and the consequent potential prebiotic connection to solar-like planetary systems. Recent surveys have reported an increasing number of hot corino detections in Class 0/I protostars; however, the relationships between their physical properties and the hot-corino signatures remain elusive. In this study, our objective is to establish a general picture of the detectability of the hot corinos by identifying the origin of the hot-corino signatures in the sample of young stellar objects (YSOs) obtained from the Atacama Large Millimeter/submillimeter Array Survey of Orion Planck Galactic Cold Clumps (ALMASOP) project. We apply spectral energy distribution (SED) modeling to our sample and identify the physical parameters of the modeled YSOs directly, linking the detection of hot-corino signatures to the envelope properties of the YSOs. Imaging simulations of the methanol emission further support this scenario. We, therefore, posit that the observed COM emission originates from the warm inner envelopes of the sample YSOs, based on both the warm region size and the envelope density profile. The former is governed by the source luminosity and is additionally affected by the disk and cavity properties, while the latter is related to the evolutionary stages. This scenario provides a framework for detecting hot-corino signatures toward luminous Class 0 YSOs, with fewer detections observed toward similarly luminous Class I sources. |\n",
       "|<p style=\"color:red\"> **ERROR** </p>| <p style=\"color:red\">latex error list index out of range</p> |"
      ],
      "text/plain": [
       "<IPython.core.display.Markdown object>"
      ]
     },
     "metadata": {},
     "output_type": "display_data"
    },
    {
     "data": {
      "text/markdown": [
       "\n",
       "|||\n",
       "|---:|:---|\n",
       "| [![arXiv](https://img.shields.io/badge/arXiv-arXiv:2308.05735-b31b1b.svg)](https://arxiv.org/abs/arXiv:2308.05735) | **A supermassive black hole in the early universe growing in the shadows**  |\n",
       "|| L. J. Furtak, et al. -- incl., <mark>A. d. Graaff</mark> |\n",
       "|*Appeared on*| *2023-08-11*|\n",
       "|*Comments*| *Submitted. Comments welcome!*|\n",
       "|**Abstract**| Early JWST observations have uncovered a new, substantial population of red sources that might represent a previously overlooked phase of actively growing supermassive black holes (Kocevski et al. 2023, Matthee et al. 2023, Labbe et al. 2023). One of the most intriguing examples is an extremely red, point-like object that was found to be triply-imaged by the strong lensing galaxy cluster Abell 2744 (Furtak et al. 2023), allowing an unprecedented detailed look into this enigmatic population. Here we present deep spectroscopic JWST/NIRSpec observations of this object, Abell2744-QSO1. The spectroscopy confirms that the three images are of the same object, and that it is a highly reddened ($A_V\\sim3$) broad emission-line Active Galactic Nucleus (AGN) at a redshift of $z_{\\mathrm{spec}}=7.0451\\pm0.0005$. From the width of H$\\beta$ ($\\mathrm{FWHM}=2800\\pm250\\,\\frac{\\mathrm{km}}{\\mathrm{s}}$) we derive a black hole mass of $M_{\\mathrm{BH}}=3_{-1}^{+2}\\times10^7\\,\\mathrm{M}_{\\odot}$. We infer a very high ratio of black hole to galaxy mass of at least 3% and possibly as high as 100%, an order of magnitude or more than is seen in local galaxies. The lack of strong metal lines in the spectrum together with the high bolometric luminosity ($L_{\\mathrm{bol}}=(1.1\\pm0.3)\\times10^{45}\\,\\frac{\\mathrm{erg}}{\\mathrm{s}}$) suggest that we are seeing the black hole in a phase of rapid growth, accreting at 30% of the Eddington limit. Based on early JWST imaging studies we estimate that such heavily reddened, low-mass black holes can be $\\sim100$ times more common than UV-selected ones at this epoch. The rapid growth and high black hole to galaxy mass ratio of A2744-QSO1 suggests that it may represent the missing link between black hole seeds (Inayoshi et al. 2020; Greene et al. 2020; Volonteri 2021) and the first luminous quasars (Fan et al. 2023). |\n",
       "|<p style=\"color:red\"> **ERROR** </p>| <p style=\"color:red\">latex error list index out of range</p> |"
      ],
      "text/plain": [
       "<IPython.core.display.Markdown object>"
      ]
     },
     "metadata": {},
     "output_type": "display_data"
    }
   ],
   "source": [
    "import datetime\n",
    "today = str(datetime.date.today())\n",
    "logfile = f\"_build/html/logs/log-{today}.md\"\n",
    "\n",
    "\n",
    "with open(logfile, 'w') as logs:\n",
    "    # Success\n",
    "    logs.write(f'# Arxiv on Deck 2: Logs - {today}\\n\\n')\n",
    "    logs.write(\"\"\"* Arxiv had {0:,d} new papers\\n\"\"\".format(len(new_papers)))\n",
    "    logs.write(\"\"\"    * {0:,d} with possible author matches\\n\\n\"\"\".format(len(candidates)))\n",
    "    logs.write(\"## Sucessful papers\\n\\n\")\n",
    "    display(Markdown(\"## Successful papers\"))\n",
    "    success = [k[0] for k in documents]\n",
    "    for candid in candidates:\n",
    "        if candid['identifier'].split(':')[-1] in success:\n",
    "            display(candid)\n",
    "            logs.write(candid.generate_markdown_text() + '\\n\\n')\n",
    "\n",
    "    ## failed\n",
    "    logs.write(\"## Failed papers\\n\\n\")\n",
    "    display(Markdown(\"## Failed papers\"))\n",
    "    failed = sorted(failed, key=lambda x: x[1])\n",
    "    current_reason = \"\"\n",
    "    for paper, reason in failed:\n",
    "        if 'affiliation' in reason:\n",
    "            color = 'green'\n",
    "        else:\n",
    "            color = 'red'\n",
    "        data = Markdown(\n",
    "                paper.generate_markdown_text() + \n",
    "                f'\\n|<p style=\"color:{color:s}\"> **ERROR** </p>| <p style=\"color:{color:s}\">{reason:s}</p> |'\n",
    "               )\n",
    "        if reason != current_reason:\n",
    "            logs.write(f'### {reason:s} \\n\\n')\n",
    "            current_reason = reason\n",
    "        logs.write(data.data + '\\n\\n')\n",
    "        \n",
    "        # only display here the important errors (all in logs)\n",
    "        # if color in ('red',):\n",
    "        display(data)"
   ]
  },
  {
   "cell_type": "markdown",
   "id": "472d20ee",
   "metadata": {
    "papermill": {
     "duration": 0.005956,
     "end_time": "2023-08-11T04:06:08.240351",
     "exception": false,
     "start_time": "2023-08-11T04:06:08.234395",
     "status": "completed"
    },
    "tags": []
   },
   "source": [
    "## Export documents\n",
    "\n",
    "We now write the .md files and export relevant images"
   ]
  },
  {
   "cell_type": "code",
   "execution_count": 6,
   "id": "d426aed9",
   "metadata": {
    "execution": {
     "iopub.execute_input": "2023-08-11T04:06:08.255285Z",
     "iopub.status.busy": "2023-08-11T04:06:08.254399Z",
     "iopub.status.idle": "2023-08-11T04:06:08.265824Z",
     "shell.execute_reply": "2023-08-11T04:06:08.264933Z"
    },
    "papermill": {
     "duration": 0.021207,
     "end_time": "2023-08-11T04:06:08.267883",
     "exception": false,
     "start_time": "2023-08-11T04:06:08.246676",
     "status": "completed"
    },
    "tags": []
   },
   "outputs": [],
   "source": [
    "def export_markdown_summary(md: str, md_fname:str, directory: str):\n",
    "    \"\"\"Export MD document and associated relevant images\"\"\"\n",
    "    import os\n",
    "    import shutil\n",
    "    import re\n",
    "\n",
    "    if (os.path.exists(directory) and not os.path.isdir(directory)):\n",
    "        raise RuntimeError(f\"a non-directory file exists with name {directory:s}\")\n",
    "\n",
    "    if (not os.path.exists(directory)):\n",
    "        print(f\"creating directory {directory:s}\")\n",
    "        os.mkdir(directory)\n",
    "\n",
    "    fig_fnames = (re.compile(r'\\[Fig.*\\]\\((.*)\\)').findall(md) + \n",
    "                  re.compile(r'\\<img src=\"([^>\\s]*)\"[^>]*/>').findall(md))\n",
    "    for fname in fig_fnames:\n",
    "        if 'http' in fname:\n",
    "            # No need to copy online figures\n",
    "            continue\n",
    "        destdir = os.path.join(directory, os.path.dirname(fname))\n",
    "        destfname = os.path.join(destdir, os.path.basename(fname))\n",
    "        try:\n",
    "            os.makedirs(destdir)\n",
    "        except FileExistsError:\n",
    "            pass\n",
    "        shutil.copy(fname, destfname)\n",
    "    with open(os.path.join(directory, md_fname), 'w') as fout:\n",
    "        fout.write(md)\n",
    "    print(\"exported in \", os.path.join(directory, md_fname))\n",
    "    [print(\"    + \" + os.path.join(directory,fk)) for fk in fig_fnames]"
   ]
  },
  {
   "cell_type": "code",
   "execution_count": 7,
   "id": "014d04a4",
   "metadata": {
    "execution": {
     "iopub.execute_input": "2023-08-11T04:06:08.282964Z",
     "iopub.status.busy": "2023-08-11T04:06:08.282167Z",
     "iopub.status.idle": "2023-08-11T04:06:08.291277Z",
     "shell.execute_reply": "2023-08-11T04:06:08.290209Z"
    },
    "papermill": {
     "duration": 0.018987,
     "end_time": "2023-08-11T04:06:08.293161",
     "exception": false,
     "start_time": "2023-08-11T04:06:08.274174",
     "status": "completed"
    },
    "tags": []
   },
   "outputs": [
    {
     "name": "stdout",
     "output_type": "stream",
     "text": [
      "exported in  _build/html/2308.05613.md\n",
      "    + _build/html/tmp_2308.05613/./HD-110058_Signal_Jy_arcsec-2_spine_fit_overlay.png\n",
      "    + _build/html/tmp_2308.05613/./broad_band_overlay_STIS_pa_pc5_PCA_temp-mean.png\n",
      "    + _build/html/tmp_2308.05613/./2015-04-12_ird_H23_RDI_temp-mean_pc_125.png\n"
     ]
    }
   ],
   "source": [
    "for paper_id, md in documents:\n",
    "    export_markdown_summary(md, f\"{paper_id:s}.md\", '_build/html/')"
   ]
  },
  {
   "cell_type": "markdown",
   "id": "f087a0a7",
   "metadata": {
    "papermill": {
     "duration": 0.006325,
     "end_time": "2023-08-11T04:06:08.305972",
     "exception": false,
     "start_time": "2023-08-11T04:06:08.299647",
     "status": "completed"
    },
    "tags": []
   },
   "source": [
    "## Display the papers\n",
    "\n",
    "Not necessary but allows for a quick check."
   ]
  },
  {
   "cell_type": "code",
   "execution_count": 8,
   "id": "fd25f625",
   "metadata": {
    "execution": {
     "iopub.execute_input": "2023-08-11T04:06:08.321008Z",
     "iopub.status.busy": "2023-08-11T04:06:08.320289Z",
     "iopub.status.idle": "2023-08-11T04:06:08.327182Z",
     "shell.execute_reply": "2023-08-11T04:06:08.326405Z"
    },
    "papermill": {
     "duration": 0.018038,
     "end_time": "2023-08-11T04:06:08.330366",
     "exception": false,
     "start_time": "2023-08-11T04:06:08.312328",
     "status": "completed"
    },
    "scrolled": false,
    "tags": []
   },
   "outputs": [
    {
     "data": {
      "text/markdown": [
       "<div class=\"macros\" style=\"visibility:hidden;\">\n",
       "$\\newcommand{\\ensuremath}{}$\n",
       "$\\newcommand{\\xspace}{}$\n",
       "$\\newcommand{\\object}[1]{\\texttt{#1}}$\n",
       "$\\newcommand{\\farcs}{{.}''}$\n",
       "$\\newcommand{\\farcm}{{.}'}$\n",
       "$\\newcommand{\\arcsec}{''}$\n",
       "$\\newcommand{\\arcmin}{'}$\n",
       "$\\newcommand{\\ion}[2]{#1#2}$\n",
       "$\\newcommand{\\textsc}[1]{\\textrm{#1}}$\n",
       "$\\newcommand{\\hl}[1]{\\textrm{#1}}$\n",
       "$\\newcommand{\\footnote}[1]{}$\n",
       "$\\newcommand{\\bpic}[1]{\\upbeta Pictoris}$\n",
       "$\\newcommand{\\HD}[1]{HD 110058}$\n",
       "$\\newcommand{\\micron}[1]{ \\upmum}$\n",
       "$\\newcommand{\\rev}[1]{#1}$</div>\n",
       "\n",
       "\n",
       "\n",
       "<div id=\"title\">\n",
       "\n",
       "# An inner warp discovered in the disk around $\\HD$  using VLT/SPHERE$\\thanks{Based on observations made with ESO telescopes at the Paranal Observatory under programmes 095.C-0389(A) and ID 095.C-0607(A)}$ and HST/STIS$\\thanks{Based on observations made with the STIS instrument aboard HST under program GO-15218 supported by NASA}$\n",
       "\n",
       "</div>\n",
       "<div id=\"comments\">\n",
       "\n",
       "[![arXiv](https://img.shields.io/badge/arXiv-2308.05613-b31b1b.svg)](https://arxiv.org/abs/2308.05613)<mark>Appeared on: 2023-08-11</mark> -  _17 pages, 15 figures, 3 tables; accepted for publication in A&A_\n",
       "\n",
       "</div>\n",
       "<div id=\"authors\">\n",
       "\n",
       "S. Stasevic, et al. -- incl., <mark>J. Olofsson</mark>, <mark>C. Desgrange</mark>, <mark>E. Matthews</mark>\n",
       "\n",
       "</div>\n",
       "<div id=\"abstract\">\n",
       "\n",
       "**Abstract:** An edge-on debris disk was detected in 2015 around the young, nearby A0V star $\\HD$ . The disk showed features resembling those seen in the disk of $\\bpic$ that could indicate the presence of a perturbing planetary-mass companion in the system. We investigated new and archival scattered light images of the disk in order to characterise its morphology and spectrum. In particular, we analysed the disk's warp to constrain the properties of possible planetary perturbers. Using data from two VLT/SPHERE observations taken with the Integral Field Spectrograph (IFS) and near InfraRed Dual-band Imager and Spectrograph (IRDIS), we obtained high-contrast images of the edge-on disk. Additionally, we used archival data from HST/STIS with a poorer inner-working angle but a higher sensitivity to detect the outer parts of the disk. We measured the morphology of the disk by analysing vertical profiles along the length of the disk to extract the centroid spine position and vertical height. We extracted the surface brightness and reflectance spectrum of the disk. We detect the disk between 20 au (with SPHERE) and 150 au (with STIS), at a position angle of $159.6^\\circ \\pm 0.6^\\circ$ . Analysis of the spine shows an asymmetry between the two sides of the disk, with a $3.4^\\circ \\pm 0.9^\\circ$ warp between $\\sim$ 20 au and 60 au. The disk is marginally vertically resolved in scattered light, with a vertical aspect ratio of $9.3 \\pm 0.7\\%$ at 45 au. The extracted reflectance spectrum is featureless, flat between 0.95 $\\micron$ and 1.1 $\\micron$ , and red from 1.1 $\\micron$ to 1.65 $\\micron$ . The outer parts of the disk are also asymmetric with a tilt between the two sides compatible with a disk made of forward-scattering particles and seen not perfectly edge-on, suggesting an inclination of $<84^\\circ$ . The presence of an undetected planetary-mass companion on an inclined orbit with respect to the disk could explain the warp. The misalignment of the inner parts of the disk with respect to the outer disk suggests a warp that has not yet propagated to the outer parts of the disk, favouring the scenario of an inner perturber as the origin of the warp.\n",
       "\n",
       "</div>\n",
       "\n",
       "<div id=\"div_fig1\">\n",
       "\n",
       "<img src=\"tmp_2308.05613/./HD-110058_Signal_Jy_arcsec-2_spine_fit_overlay.png\" alt=\"Fig2\" width=\"100%\"/>\n",
       "\n",
       "**Figure 2. -** STIS observation of $\\HD$ , the image rotated to have the disk horizontal, with the position of the brightest pixels (spine) overlaid in orange. The disk PA is $159.6^\\circ$. (*fig:STIS_spine*)\n",
       "\n",
       "</div>\n",
       "<div id=\"div_fig2\">\n",
       "\n",
       "<img src=\"tmp_2308.05613/./broad_band_overlay_STIS_pa_pc5_PCA_temp-mean.png\" alt=\"Fig3\" width=\"100%\"/>\n",
       "\n",
       "**Figure 3. -** ADI-PCA reductions of HD110058 IFS data using 5 PCs for the Y, J, and H band, and combined YJH data, with centroid spine position overlaid (orange). The spine measured on the STIS data in the FOV is overlaid in white. The H band image contains only the 2015-04-03 observation, while the rest combine both epochs. Images are rotated by $70.4^\\circ$ clockwise. (*fig:Spine*)\n",
       "\n",
       "</div>\n",
       "<div id=\"div_fig3\">\n",
       "\n",
       "<img src=\"tmp_2308.05613/./2015-04-12_ird_H23_RDI_temp-mean_pc_125.png\" alt=\"Fig14\" width=\"100%\"/>\n",
       "\n",
       "**Figure 14. -** RDI-PCA reduction of 2015-04-12 IRDIS data using 125 PCs for the H2 (left), H3 (centre), and combined H23 (right) channels. (*fig:RDI_img*)\n",
       "\n",
       "</div><div id=\"qrcode\"><img src=https://api.qrserver.com/v1/create-qr-code/?size=100x100&data=\"https://arxiv.org/abs/2308.05613\"></div>"
      ],
      "text/plain": [
       "<IPython.core.display.Markdown object>"
      ]
     },
     "metadata": {},
     "output_type": "display_data"
    }
   ],
   "source": [
    "[display(Markdown(k[1])) for k in documents];"
   ]
  },
  {
   "cell_type": "markdown",
   "id": "873873a4",
   "metadata": {
    "papermill": {
     "duration": 0.006716,
     "end_time": "2023-08-11T04:06:08.344024",
     "exception": false,
     "start_time": "2023-08-11T04:06:08.337308",
     "status": "completed"
    },
    "tags": []
   },
   "source": [
    "# Create HTML index"
   ]
  },
  {
   "cell_type": "code",
   "execution_count": 9,
   "id": "cf665672",
   "metadata": {
    "execution": {
     "iopub.execute_input": "2023-08-11T04:06:08.359596Z",
     "iopub.status.busy": "2023-08-11T04:06:08.359283Z",
     "iopub.status.idle": "2023-08-11T04:06:08.374323Z",
     "shell.execute_reply": "2023-08-11T04:06:08.372331Z"
    },
    "papermill": {
     "duration": 0.025482,
     "end_time": "2023-08-11T04:06:08.376422",
     "exception": false,
     "start_time": "2023-08-11T04:06:08.350940",
     "status": "completed"
    },
    "tags": []
   },
   "outputs": [
    {
     "name": "stdout",
     "output_type": "stream",
     "text": [
      "246  publications files modified in the last 7 days.\n"
     ]
    }
   ],
   "source": [
    "from datetime import datetime, timedelta, timezone\n",
    "from glob import glob\n",
    "import os\n",
    "\n",
    "files = glob('_build/html/*.md')\n",
    "days = 7\n",
    "now = datetime.today()\n",
    "res = []\n",
    "for fk in files:\n",
    "    stat_result = os.stat(fk).st_ctime\n",
    "    modified = datetime.fromtimestamp(stat_result, tz=timezone.utc).replace(tzinfo=None)\n",
    "    delta = now.today() - modified\n",
    "    if delta <= timedelta(days=days):\n",
    "        res.append((delta.seconds, fk))\n",
    "res = [k[1] for k in reversed(sorted(res, key=lambda x:x[1]))]\n",
    "npub = len(res)\n",
    "print(len(res), f\" publications files modified in the last {days:d} days.\")\n",
    "# [ print('\\t', k) for k in res ];"
   ]
  },
  {
   "cell_type": "code",
   "execution_count": 10,
   "id": "015de740",
   "metadata": {
    "execution": {
     "iopub.execute_input": "2023-08-11T04:06:08.400346Z",
     "iopub.status.busy": "2023-08-11T04:06:08.399884Z",
     "iopub.status.idle": "2023-08-11T04:06:08.427305Z",
     "shell.execute_reply": "2023-08-11T04:06:08.426539Z"
    },
    "papermill": {
     "duration": 0.041451,
     "end_time": "2023-08-11T04:06:08.429459",
     "exception": false,
     "start_time": "2023-08-11T04:06:08.388008",
     "status": "completed"
    },
    "tags": []
   },
   "outputs": [
    {
     "name": "stdout",
     "output_type": "stream",
     "text": [
      "1  publications in the last 7 days.\n"
     ]
    }
   ],
   "source": [
    "import datetime\n",
    "from glob import glob\n",
    "\n",
    "def get_last_n_days(lst, days=1):\n",
    "    \"\"\" Get the documents from the last n days \"\"\"\n",
    "    sorted_lst = sorted(lst, key=lambda x: x[1], reverse=True)\n",
    "    for fname, date in sorted_lst:\n",
    "        if date >= str(datetime.date.today() - datetime.timedelta(days=days)):\n",
    "            yield fname\n",
    "\n",
    "def extract_appearance_dates(lst_file):\n",
    "    dates = []\n",
    "\n",
    "    def get_date(line):\n",
    "        return line\\\n",
    "            .split('Appeared on:')[-1]\\\n",
    "            .split('</mark>')[0].strip()\n",
    "\n",
    "    for fname in lst:\n",
    "        with open(fname, 'r') as f:\n",
    "            found_date = False\n",
    "            for line in f:\n",
    "                if not found_date:\n",
    "                    if \"Appeared on\" in line:\n",
    "                        found_date = True\n",
    "                        dates.append((fname, get_date(line)))\n",
    "                else:\n",
    "                    break\n",
    "    return dates\n",
    "\n",
    "from glob import glob\n",
    "lst = glob('_build/html/*md')\n",
    "days = 7\n",
    "dates = extract_appearance_dates(lst)\n",
    "res = list(get_last_n_days(dates, days))\n",
    "npub = len(res)\n",
    "print(len(res), f\" publications in the last {days:d} days.\")"
   ]
  },
  {
   "cell_type": "code",
   "execution_count": 11,
   "id": "52ca0208",
   "metadata": {
    "execution": {
     "iopub.execute_input": "2023-08-11T04:06:08.446867Z",
     "iopub.status.busy": "2023-08-11T04:06:08.446393Z",
     "iopub.status.idle": "2023-08-11T04:06:08.452809Z",
     "shell.execute_reply": "2023-08-11T04:06:08.452028Z"
    },
    "papermill": {
     "duration": 0.018118,
     "end_time": "2023-08-11T04:06:08.454851",
     "exception": false,
     "start_time": "2023-08-11T04:06:08.436733",
     "status": "completed"
    },
    "scrolled": false,
    "tags": []
   },
   "outputs": [],
   "source": [
    "def create_carousel(npub=4):\n",
    "    \"\"\" Generate the HTML code for a carousel with `npub` slides \"\"\"\n",
    "    carousel = [\"\"\"  <div class=\"carousel\" \"\"\",\n",
    "                \"\"\"       data-flickity='{ \"autoPlay\": 10000, \"adaptiveHeight\": true, \"resize\": true, \"wrapAround\": true, \"pauseAutoPlayOnHover\": true, \"groupCells\": 1 }' id=\"asyncTypeset\">\"\"\"\n",
    "                ]\n",
    "    \n",
    "    item_str = \"\"\"    <div class=\"carousel-cell\"> <div id=\"slide{k}\" class=\"md_view\">Content {k}</div> </div>\"\"\"\n",
    "    for k in range(1, npub + 1):\n",
    "        carousel.append(item_str.format(k=k))\n",
    "    carousel.append(\"  </div>\")\n",
    "    return '\\n'.join(carousel)\n",
    "\n",
    "def create_grid(npub=4):\n",
    "    \"\"\" Generate the HTML code for a flat grid with `npub` slides \"\"\"\n",
    "    grid = [\"\"\"  <div class=\"grid\"> \"\"\",\n",
    "                ]\n",
    "    \n",
    "    item_str = \"\"\"    <div class=\"grid-item\"> <div id=\"slide{k}\" class=\"md_view\">Content {k}</div> </div>\"\"\"\n",
    "    for k in range(1, npub + 1):\n",
    "        grid.append(item_str.format(k=k))\n",
    "    grid.append(\"  </div>\")\n",
    "    return '\\n'.join(grid)"
   ]
  },
  {
   "cell_type": "code",
   "execution_count": 12,
   "id": "a6eac5b6",
   "metadata": {
    "execution": {
     "iopub.execute_input": "2023-08-11T04:06:08.472547Z",
     "iopub.status.busy": "2023-08-11T04:06:08.472112Z",
     "iopub.status.idle": "2023-08-11T04:06:08.479176Z",
     "shell.execute_reply": "2023-08-11T04:06:08.478283Z"
    },
    "papermill": {
     "duration": 0.018299,
     "end_time": "2023-08-11T04:06:08.481253",
     "exception": false,
     "start_time": "2023-08-11T04:06:08.462954",
     "status": "completed"
    },
    "scrolled": false,
    "tags": []
   },
   "outputs": [],
   "source": [
    "carousel = create_carousel(npub)\n",
    "docs = ', '.join(['\"{0:s}\"'.format(k.split('/')[-1]) for k in res])\n",
    "slides = ', '.join([f'\"slide{k}\"' for k in range(1, npub + 1)])\n",
    "\n",
    "with open(\"daily_template.html\", \"r\") as tpl:\n",
    "    page = tpl.read()\n",
    "    page = page.replace(\"{%-- carousel:s --%}\", carousel)\\\n",
    "               .replace(\"{%-- suptitle:s --%}\",  \"7-day archives\" )\\\n",
    "               .replace(\"{%-- docs:s --%}\", docs)\\\n",
    "               .replace(\"{%-- slides:s --%}\", slides)\n",
    "    \n",
    "with open(\"_build/html/index_7days.html\", 'w') as fout:\n",
    "    fout.write(page)"
   ]
  },
  {
   "cell_type": "code",
   "execution_count": 13,
   "id": "adc1a1ec",
   "metadata": {
    "execution": {
     "iopub.execute_input": "2023-08-11T04:06:08.499937Z",
     "iopub.status.busy": "2023-08-11T04:06:08.499047Z",
     "iopub.status.idle": "2023-08-11T04:06:08.511634Z",
     "shell.execute_reply": "2023-08-11T04:06:08.509407Z"
    },
    "papermill": {
     "duration": 0.024717,
     "end_time": "2023-08-11T04:06:08.513663",
     "exception": false,
     "start_time": "2023-08-11T04:06:08.488946",
     "status": "completed"
    },
    "tags": []
   },
   "outputs": [
    {
     "name": "stdout",
     "output_type": "stream",
     "text": [
      "1  publications in the last day.\n"
     ]
    }
   ],
   "source": [
    "# redo for today\n",
    "days = 1\n",
    "res = list(get_last_n_days(dates, days))\n",
    "npub = len(res)\n",
    "print(len(res), f\" publications in the last day.\")\n",
    "\n",
    "carousel = create_carousel(npub)\n",
    "docs = ', '.join(['\"{0:s}\"'.format(k.split('/')[-1]) for k in res])\n",
    "slides = ', '.join([f'\"slide{k}\"' for k in range(1, npub + 1)])\n",
    "\n",
    "with open(\"daily_template.html\", \"r\") as tpl:\n",
    "    page = tpl.read()\n",
    "    page = page.replace(\"{%-- carousel:s --%}\", carousel)\\\n",
    "               .replace(\"{%-- suptitle:s --%}\",  \"Daily\" )\\\n",
    "               .replace(\"{%-- docs:s --%}\", docs)\\\n",
    "               .replace(\"{%-- slides:s --%}\", slides)\n",
    "    \n",
    "# print(carousel, docs, slides)\n",
    "# print(page)\n",
    "with open(\"_build/html/index_daily.html\", 'w') as fout:\n",
    "    fout.write(page)"
   ]
  },
  {
   "cell_type": "code",
   "execution_count": 14,
   "id": "00eece82",
   "metadata": {
    "execution": {
     "iopub.execute_input": "2023-08-11T04:06:08.538951Z",
     "iopub.status.busy": "2023-08-11T04:06:08.537981Z",
     "iopub.status.idle": "2023-08-11T04:06:08.549676Z",
     "shell.execute_reply": "2023-08-11T04:06:08.548866Z"
    },
    "papermill": {
     "duration": 0.029785,
     "end_time": "2023-08-11T04:06:08.552350",
     "exception": false,
     "start_time": "2023-08-11T04:06:08.522565",
     "status": "completed"
    },
    "scrolled": false,
    "tags": []
   },
   "outputs": [
    {
     "name": "stdout",
     "output_type": "stream",
     "text": [
      "6  6 publications selected.\n"
     ]
    }
   ],
   "source": [
    "# Create the flat grid of the last N papers (fixed number regardless of dates)\n",
    "from itertools import islice \n",
    "\n",
    "npub = 6\n",
    "res = [k[0] for k in (islice(reversed(sorted(dates, key=lambda x: x[1])), 6))]\n",
    "print(len(res), f\" {npub} publications selected.\")\n",
    "\n",
    "grid = create_grid(npub)\n",
    "docs = ', '.join(['\"{0:s}\"'.format(k.split('/')[-1]) for k in res])\n",
    "slides = ', '.join([f'\"slide{k}\"' for k in range(1, npub + 1)])\n",
    "\n",
    "with open(\"grid_template.html\", \"r\") as tpl:\n",
    "    page = tpl.read()\n",
    "    page = page.replace(\"{%-- grid-content:s --%}\", grid)\\\n",
    "               .replace(\"{%-- suptitle:s --%}\",  f\"Last {npub:,d} papers\" )\\\n",
    "               .replace(\"{%-- docs:s --%}\", docs)\\\n",
    "               .replace(\"{%-- slides:s --%}\", slides)\n",
    "    \n",
    "# print(grid, docs, slides)\n",
    "# print(page)\n",
    "with open(\"_build/html/index_npub_grid.html\", 'w') as fout:\n",
    "    fout.write(page)"
   ]
  }
 ],
 "metadata": {
  "kernelspec": {
   "display_name": "Python 3 (ipykernel)",
   "language": "python",
   "name": "python3"
  },
  "language_info": {
   "codemirror_mode": {
    "name": "ipython",
    "version": 3
   },
   "file_extension": ".py",
   "mimetype": "text/x-python",
   "name": "python",
   "nbconvert_exporter": "python",
   "pygments_lexer": "ipython3",
   "version": "3.9.17"
  },
  "papermill": {
   "default_parameters": {},
   "duration": 106.331651,
   "end_time": "2023-08-11T04:06:08.782373",
   "environment_variables": {},
   "exception": null,
   "input_path": "MPIA daily digest.ipynb",
   "output_path": "log.ipynb",
   "parameters": {},
   "start_time": "2023-08-11T04:04:22.450722",
   "version": "2.4.0"
  },
  "vscode": {
   "interpreter": {
    "hash": "aee8b7b246df8f9039afb4144a1f6fd8d2ca17a180786b69acc140d282b71a49"
   }
  },
  "widgets": {
   "application/vnd.jupyter.widget-state+json": {
    "state": {
     "2989673880eb4923a85204ee144b35ea": {
      "model_module": "@jupyter-widgets/controls",
      "model_module_version": "2.0.0",
      "model_name": "ProgressStyleModel",
      "state": {
       "_model_module": "@jupyter-widgets/controls",
       "_model_module_version": "2.0.0",
       "_model_name": "ProgressStyleModel",
       "_view_count": null,
       "_view_module": "@jupyter-widgets/base",
       "_view_module_version": "2.0.0",
       "_view_name": "StyleView",
       "bar_color": null,
       "description_width": ""
      }
     },
     "3b72f7a0926d41c1af6da7db29c7b3e3": {
      "model_module": "@jupyter-widgets/base",
      "model_module_version": "2.0.0",
      "model_name": "LayoutModel",
      "state": {
       "_model_module": "@jupyter-widgets/base",
       "_model_module_version": "2.0.0",
       "_model_name": "LayoutModel",
       "_view_count": null,
       "_view_module": "@jupyter-widgets/base",
       "_view_module_version": "2.0.0",
       "_view_name": "LayoutView",
       "align_content": null,
       "align_items": null,
       "align_self": null,
       "border_bottom": null,
       "border_left": null,
       "border_right": null,
       "border_top": null,
       "bottom": null,
       "display": null,
       "flex": null,
       "flex_flow": null,
       "grid_area": null,
       "grid_auto_columns": null,
       "grid_auto_flow": null,
       "grid_auto_rows": null,
       "grid_column": null,
       "grid_gap": null,
       "grid_row": null,
       "grid_template_areas": null,
       "grid_template_columns": null,
       "grid_template_rows": null,
       "height": null,
       "justify_content": null,
       "justify_items": null,
       "left": null,
       "margin": null,
       "max_height": null,
       "max_width": null,
       "min_height": null,
       "min_width": null,
       "object_fit": null,
       "object_position": null,
       "order": null,
       "overflow": null,
       "padding": null,
       "right": null,
       "top": null,
       "visibility": null,
       "width": null
      }
     },
     "4555ebe274fd4b51bc02faf99b6b0968": {
      "model_module": "@jupyter-widgets/controls",
      "model_module_version": "2.0.0",
      "model_name": "HTMLStyleModel",
      "state": {
       "_model_module": "@jupyter-widgets/controls",
       "_model_module_version": "2.0.0",
       "_model_name": "HTMLStyleModel",
       "_view_count": null,
       "_view_module": "@jupyter-widgets/base",
       "_view_module_version": "2.0.0",
       "_view_name": "StyleView",
       "background": null,
       "description_width": "",
       "font_size": null,
       "text_color": null
      }
     },
     "8cb43d0ecb82473381ebeece0216a066": {
      "model_module": "@jupyter-widgets/controls",
      "model_module_version": "2.0.0",
      "model_name": "FloatProgressModel",
      "state": {
       "_dom_classes": [],
       "_model_module": "@jupyter-widgets/controls",
       "_model_module_version": "2.0.0",
       "_model_name": "FloatProgressModel",
       "_view_count": null,
       "_view_module": "@jupyter-widgets/controls",
       "_view_module_version": "2.0.0",
       "_view_name": "ProgressView",
       "bar_style": "success",
       "description": "",
       "description_allow_html": false,
       "layout": "IPY_MODEL_9c96a85ea8594ad5900159eb6503fde0",
       "max": 3.0,
       "min": 0.0,
       "orientation": "horizontal",
       "style": "IPY_MODEL_2989673880eb4923a85204ee144b35ea",
       "tabbable": null,
       "tooltip": null,
       "value": 3.0
      }
     },
     "9c96a85ea8594ad5900159eb6503fde0": {
      "model_module": "@jupyter-widgets/base",
      "model_module_version": "2.0.0",
      "model_name": "LayoutModel",
      "state": {
       "_model_module": "@jupyter-widgets/base",
       "_model_module_version": "2.0.0",
       "_model_name": "LayoutModel",
       "_view_count": null,
       "_view_module": "@jupyter-widgets/base",
       "_view_module_version": "2.0.0",
       "_view_name": "LayoutView",
       "align_content": null,
       "align_items": null,
       "align_self": null,
       "border_bottom": null,
       "border_left": null,
       "border_right": null,
       "border_top": null,
       "bottom": null,
       "display": null,
       "flex": null,
       "flex_flow": null,
       "grid_area": null,
       "grid_auto_columns": null,
       "grid_auto_flow": null,
       "grid_auto_rows": null,
       "grid_column": null,
       "grid_gap": null,
       "grid_row": null,
       "grid_template_areas": null,
       "grid_template_columns": null,
       "grid_template_rows": null,
       "height": null,
       "justify_content": null,
       "justify_items": null,
       "left": null,
       "margin": null,
       "max_height": null,
       "max_width": null,
       "min_height": null,
       "min_width": null,
       "object_fit": null,
       "object_position": null,
       "order": null,
       "overflow": null,
       "padding": null,
       "right": null,
       "top": null,
       "visibility": null,
       "width": null
      }
     },
     "a3408a0f49dd4d448b6b3c5cba913113": {
      "model_module": "@jupyter-widgets/base",
      "model_module_version": "2.0.0",
      "model_name": "LayoutModel",
      "state": {
       "_model_module": "@jupyter-widgets/base",
       "_model_module_version": "2.0.0",
       "_model_name": "LayoutModel",
       "_view_count": null,
       "_view_module": "@jupyter-widgets/base",
       "_view_module_version": "2.0.0",
       "_view_name": "LayoutView",
       "align_content": null,
       "align_items": null,
       "align_self": null,
       "border_bottom": null,
       "border_left": null,
       "border_right": null,
       "border_top": null,
       "bottom": null,
       "display": null,
       "flex": null,
       "flex_flow": null,
       "grid_area": null,
       "grid_auto_columns": null,
       "grid_auto_flow": null,
       "grid_auto_rows": null,
       "grid_column": null,
       "grid_gap": null,
       "grid_row": null,
       "grid_template_areas": null,
       "grid_template_columns": null,
       "grid_template_rows": null,
       "height": null,
       "justify_content": null,
       "justify_items": null,
       "left": null,
       "margin": null,
       "max_height": null,
       "max_width": null,
       "min_height": null,
       "min_width": null,
       "object_fit": null,
       "object_position": null,
       "order": null,
       "overflow": null,
       "padding": null,
       "right": null,
       "top": null,
       "visibility": null,
       "width": null
      }
     },
     "b1b24b20c5984f1ab94d54b25002cecd": {
      "model_module": "@jupyter-widgets/controls",
      "model_module_version": "2.0.0",
      "model_name": "HTMLStyleModel",
      "state": {
       "_model_module": "@jupyter-widgets/controls",
       "_model_module_version": "2.0.0",
       "_model_name": "HTMLStyleModel",
       "_view_count": null,
       "_view_module": "@jupyter-widgets/base",
       "_view_module_version": "2.0.0",
       "_view_name": "StyleView",
       "background": null,
       "description_width": "",
       "font_size": null,
       "text_color": null
      }
     },
     "c89e7ae12cd44fd5a19180b3931f1a0d": {
      "model_module": "@jupyter-widgets/controls",
      "model_module_version": "2.0.0",
      "model_name": "HTMLModel",
      "state": {
       "_dom_classes": [],
       "_model_module": "@jupyter-widgets/controls",
       "_model_module_version": "2.0.0",
       "_model_name": "HTMLModel",
       "_view_count": null,
       "_view_module": "@jupyter-widgets/controls",
       "_view_module_version": "2.0.0",
       "_view_name": "HTMLView",
       "description": "",
       "description_allow_html": false,
       "layout": "IPY_MODEL_d9b364e932f24e6eb3266076924f1946",
       "placeholder": "​",
       "style": "IPY_MODEL_b1b24b20c5984f1ab94d54b25002cecd",
       "tabbable": null,
       "tooltip": null,
       "value": "100%"
      }
     },
     "d9b364e932f24e6eb3266076924f1946": {
      "model_module": "@jupyter-widgets/base",
      "model_module_version": "2.0.0",
      "model_name": "LayoutModel",
      "state": {
       "_model_module": "@jupyter-widgets/base",
       "_model_module_version": "2.0.0",
       "_model_name": "LayoutModel",
       "_view_count": null,
       "_view_module": "@jupyter-widgets/base",
       "_view_module_version": "2.0.0",
       "_view_name": "LayoutView",
       "align_content": null,
       "align_items": null,
       "align_self": null,
       "border_bottom": null,
       "border_left": null,
       "border_right": null,
       "border_top": null,
       "bottom": null,
       "display": null,
       "flex": null,
       "flex_flow": null,
       "grid_area": null,
       "grid_auto_columns": null,
       "grid_auto_flow": null,
       "grid_auto_rows": null,
       "grid_column": null,
       "grid_gap": null,
       "grid_row": null,
       "grid_template_areas": null,
       "grid_template_columns": null,
       "grid_template_rows": null,
       "height": null,
       "justify_content": null,
       "justify_items": null,
       "left": null,
       "margin": null,
       "max_height": null,
       "max_width": null,
       "min_height": null,
       "min_width": null,
       "object_fit": null,
       "object_position": null,
       "order": null,
       "overflow": null,
       "padding": null,
       "right": null,
       "top": null,
       "visibility": null,
       "width": null
      }
     },
     "e38483b5bd0943658517ed33dcd9b743": {
      "model_module": "@jupyter-widgets/controls",
      "model_module_version": "2.0.0",
      "model_name": "HBoxModel",
      "state": {
       "_dom_classes": [],
       "_model_module": "@jupyter-widgets/controls",
       "_model_module_version": "2.0.0",
       "_model_name": "HBoxModel",
       "_view_count": null,
       "_view_module": "@jupyter-widgets/controls",
       "_view_module_version": "2.0.0",
       "_view_name": "HBoxView",
       "box_style": "",
       "children": [
        "IPY_MODEL_c89e7ae12cd44fd5a19180b3931f1a0d",
        "IPY_MODEL_8cb43d0ecb82473381ebeece0216a066",
        "IPY_MODEL_fc13bb70ee354e7580e29924328ba7a7"
       ],
       "layout": "IPY_MODEL_a3408a0f49dd4d448b6b3c5cba913113",
       "tabbable": null,
       "tooltip": null
      }
     },
     "fc13bb70ee354e7580e29924328ba7a7": {
      "model_module": "@jupyter-widgets/controls",
      "model_module_version": "2.0.0",
      "model_name": "HTMLModel",
      "state": {
       "_dom_classes": [],
       "_model_module": "@jupyter-widgets/controls",
       "_model_module_version": "2.0.0",
       "_model_name": "HTMLModel",
       "_view_count": null,
       "_view_module": "@jupyter-widgets/controls",
       "_view_module_version": "2.0.0",
       "_view_name": "HTMLView",
       "description": "",
       "description_allow_html": false,
       "layout": "IPY_MODEL_3b72f7a0926d41c1af6da7db29c7b3e3",
       "placeholder": "​",
       "style": "IPY_MODEL_4555ebe274fd4b51bc02faf99b6b0968",
       "tabbable": null,
       "tooltip": null,
       "value": " 3/3 [01:18&lt;00:00, 24.02s/it]"
      }
     }
    },
    "version_major": 2,
    "version_minor": 0
   }
  }
 },
 "nbformat": 4,
 "nbformat_minor": 5
}