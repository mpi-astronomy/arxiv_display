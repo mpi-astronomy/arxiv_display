{
 "cells": [
  {
   "cell_type": "markdown",
   "id": "92bcb855",
   "metadata": {
    "papermill": {
     "duration": 0.003769,
     "end_time": "2025-07-14T04:33:08.181149",
     "exception": false,
     "start_time": "2025-07-14T04:33:08.177380",
     "status": "completed"
    },
    "tags": []
   },
   "source": [
    "# MPIA Arxiv on Deck 2\n",
    "\n",
    "Contains the steps to produce the paper extractions."
   ]
  },
  {
   "cell_type": "code",
   "execution_count": 1,
   "id": "3a0d6e11",
   "metadata": {
    "execution": {
     "iopub.execute_input": "2025-07-14T04:33:08.189031Z",
     "iopub.status.busy": "2025-07-14T04:33:08.188402Z",
     "iopub.status.idle": "2025-07-14T04:33:08.419143Z",
     "shell.execute_reply": "2025-07-14T04:33:08.418516Z"
    },
    "papermill": {
     "duration": 0.236062,
     "end_time": "2025-07-14T04:33:08.420518",
     "exception": false,
     "start_time": "2025-07-14T04:33:08.184456",
     "status": "completed"
    },
    "tags": []
   },
   "outputs": [],
   "source": [
    "# Imports\n",
    "import os\n",
    "from IPython.display import Markdown, display\n",
    "from tqdm.notebook import tqdm\n",
    "import warnings\n",
    "from PIL import Image \n",
    "import re\n",
    "\n",
    "# requires arxiv_on_deck_2\n",
    "\n",
    "from arxiv_on_deck_2.arxiv2 import (get_new_papers, \n",
    "                                    get_paper_from_identifier,\n",
    "                                    retrieve_document_source, \n",
    "                                    get_markdown_badge)\n",
    "from arxiv_on_deck_2 import (latex,\n",
    "                             latex_bib,\n",
    "                             mpia,\n",
    "                             highlight_authors_in_list)\n",
    "\n",
    "# Sometimes images are really big\n",
    "Image.MAX_IMAGE_PIXELS = 1000000000 "
   ]
  },
  {
   "cell_type": "code",
   "execution_count": 2,
   "id": "22aa9d44",
   "metadata": {
    "execution": {
     "iopub.execute_input": "2025-07-14T04:33:08.427745Z",
     "iopub.status.busy": "2025-07-14T04:33:08.427461Z",
     "iopub.status.idle": "2025-07-14T04:33:08.435574Z",
     "shell.execute_reply": "2025-07-14T04:33:08.435019Z"
    },
    "papermill": {
     "duration": 0.012868,
     "end_time": "2025-07-14T04:33:08.436627",
     "exception": false,
     "start_time": "2025-07-14T04:33:08.423759",
     "status": "completed"
    },
    "tags": []
   },
   "outputs": [],
   "source": [
    "# Some useful definitions.\n",
    "\n",
    "class AffiliationWarning(UserWarning):\n",
    "    pass\n",
    "\n",
    "class AffiliationError(RuntimeError):\n",
    "    pass\n",
    "\n",
    "def validation(source: str):\n",
    "    \"\"\"Raises error paper during parsing of source file\n",
    "    \n",
    "    Allows checks before parsing TeX code.\n",
    "    \n",
    "    Raises AffiliationWarning\n",
    "    \"\"\"\n",
    "    check = mpia.affiliation_verifications(source, verbose=True)\n",
    "    if check is not True:\n",
    "        raise AffiliationError(\"mpia.affiliation_verifications: \" + check)\n",
    "\n",
    "        \n",
    "warnings.simplefilter('always', AffiliationWarning)\n",
    "\n",
    "\n",
    "def get_markdown_qrcode(paper_id: str):\n",
    "    \"\"\" Generate a qrcode to the arxiv page using qrserver.com\n",
    "    \n",
    "    :param paper: Arxiv paper\n",
    "    :returns: markdown text\n",
    "    \"\"\"\n",
    "    url = r\"https://api.qrserver.com/v1/create-qr-code/?size=100x100&data=\"\n",
    "    txt = f\"\"\"<img src={url}\"https://arxiv.org/abs/{paper_id}\">\"\"\"\n",
    "    txt = '<div id=\"qrcode\">' + txt + '</div>'\n",
    "    return txt\n",
    "\n",
    "\n",
    "def clean_non_western_encoded_characters_commands(text: str) -> str:\n",
    "    \"\"\" Remove non-western encoded characters from a string\n",
    "    List may need to grow.\n",
    "    \n",
    "    :param text: the text to clean\n",
    "    :return: the cleaned text\n",
    "    \"\"\"\n",
    "    text = re.sub(r\"(\\\\begin{CJK}{UTF8}{gbsn})(.*?)(\\\\end{CJK})\", r\"\\2\", text)\n",
    "    return text\n",
    "\n",
    "\n",
    "def get_initials(name: str) -> str:\n",
    "    \"\"\" Get the short name, e.g., A.-B. FamName\n",
    "    :param name: full name\n",
    "    :returns: initials\n",
    "    \"\"\"\n",
    "    initials = []\n",
    "    # account for non western names often in ()\n",
    "    if '(' in name:\n",
    "        name = clean_non_western_encoded_characters_commands(name)\n",
    "        suffix = re.findall(r\"\\((.*?)\\)\", name)[0]\n",
    "        name = name.replace(f\"({suffix})\", '')\n",
    "    else:\n",
    "        suffix = ''\n",
    "    split = name.split()\n",
    "    for token in split[:-1]:\n",
    "        if '-' in token:\n",
    "            current = '-'.join([k[0] + '.' for k in token.split('-')])\n",
    "        else:\n",
    "            current = token[0] + '.'\n",
    "        initials.append(current)\n",
    "    initials.append(split[-1].strip())\n",
    "    if suffix:\n",
    "        initials.append(f\"({suffix})\")\n",
    "    return ' '.join(initials)"
   ]
  },
  {
   "cell_type": "markdown",
   "id": "14bd6310",
   "metadata": {
    "papermill": {
     "duration": 0.002873,
     "end_time": "2025-07-14T04:33:08.442468",
     "exception": false,
     "start_time": "2025-07-14T04:33:08.439595",
     "status": "completed"
    },
    "tags": []
   },
   "source": [
    "## get list of arxiv paper candidates\n",
    "\n",
    "We use the MPIA mitarbeiter list webpage from mpia.de to get author names\n",
    "We then get all new papers from Arxiv and match authors"
   ]
  },
  {
   "cell_type": "code",
   "execution_count": 3,
   "id": "7ea813a8",
   "metadata": {
    "execution": {
     "iopub.execute_input": "2025-07-14T04:33:08.449216Z",
     "iopub.status.busy": "2025-07-14T04:33:08.448980Z",
     "iopub.status.idle": "2025-07-14T04:33:27.768503Z",
     "shell.execute_reply": "2025-07-14T04:33:27.767866Z"
    },
    "papermill": {
     "duration": 19.324396,
     "end_time": "2025-07-14T04:33:27.769814",
     "exception": false,
     "start_time": "2025-07-14T04:33:08.445418",
     "status": "completed"
    },
    "tags": []
   },
   "outputs": [],
   "source": [
    "# deal with the author list and edge cases of people that cannot be consistent on their name  \n",
    "\n",
    "def filter_non_scientists(name: str) -> bool:\n",
    "    \"\"\" Loose filter on expected authorships\n",
    "\n",
    "    removing IT, administration, technical staff\n",
    "    :param name: name\n",
    "    :returns: False if name is not a scientist\n",
    "    \"\"\"\n",
    "    remove_list = ['Licht', 'Binroth', 'Witzel', 'Jordan',\n",
    "                   'Zähringer', 'Scheerer', 'Hoffmann', 'Düe',\n",
    "                   'Hellmich', 'Enkler-Scharpegge', 'Witte-Nguy',\n",
    "                   'Dehen', 'Beckmann', 'Jager', 'Jäger'\n",
    "                  ]\n",
    "\n",
    "    for k in remove_list:\n",
    "        if k in name:\n",
    "            return False\n",
    "    return True\n",
    "\n",
    "def add_author_to_list(author_list: list) -> list:\n",
    "    \"\"\" Add author to list if not already in list\n",
    "    \n",
    "    :param author: author name\n",
    "    :param author_list: list of authors\n",
    "    :returns: updated list of authors\n",
    "    \"\"\"\n",
    "    add_list = ['T. Henning']\n",
    "\n",
    "    for author in add_list:\n",
    "        if author not in author_list:\n",
    "            author_list.append(author)\n",
    "    return author_list\n",
    "\n",
    "# get list from MPIA website\n",
    "# filter for non-scientists (mpia.get_mpia_mitarbeiter_list() does some filtering)\n",
    "mpia_authors = [k[1] for k in mpia.get_mpia_mitarbeiter_list() if filter_non_scientists(k[1])]\n",
    "# add some missing author because of inconsistencies in their MPIA name and author name on papers\n",
    "mpia_authors = add_author_to_list(mpia_authors)"
   ]
  },
  {
   "cell_type": "code",
   "execution_count": 4,
   "id": "2645e73a",
   "metadata": {
    "execution": {
     "iopub.execute_input": "2025-07-14T04:33:27.777485Z",
     "iopub.status.busy": "2025-07-14T04:33:27.776914Z",
     "iopub.status.idle": "2025-07-14T04:33:28.770175Z",
     "shell.execute_reply": "2025-07-14T04:33:28.769407Z"
    },
    "papermill": {
     "duration": 0.998147,
     "end_time": "2025-07-14T04:33:28.771298",
     "exception": false,
     "start_time": "2025-07-14T04:33:27.773151",
     "status": "completed"
    },
    "tags": []
   },
   "outputs": [
    {
     "name": "stdout",
     "output_type": "stream",
     "text": [
      "X. Zhang  ->  X. Zhang  |  ['X. Zhang']\n",
      "K. Lee  ->  K. Lee  |  ['K. Lee']\n",
      "K. Kreckel  ->  K. Kreckel  |  ['K. Kreckel']\n",
      "J. Li  ->  J. Li  |  ['J. Li']\n"
     ]
    },
    {
     "name": "stdout",
     "output_type": "stream",
     "text": [
      "M. Schirmer  ->  M. Schirmer  |  ['M. Schirmer']\n",
      "K. Jahnke  ->  K. Jahnke  |  ['K. Jahnke']\n",
      "J. Li  ->  J. Li  |  ['J. Li']\n",
      "X. Zhang  ->  X. Zhang  |  ['X. Zhang']\n"
     ]
    },
    {
     "name": "stdout",
     "output_type": "stream",
     "text": [
      "F. Zagaria  ->  F. Zagaria  |  ['F. Zagaria']\n",
      "Arxiv has 104 new papers today\n",
      "          7 with possible author matches\n"
     ]
    }
   ],
   "source": [
    "new_papers = get_new_papers()\n",
    "# add manual references\n",
    "add_paper_refs = []\n",
    "new_papers.extend([get_paper_from_identifier(k) for k in add_paper_refs])\n",
    "\n",
    "def robust_call(fn, value, *args, **kwargs):\n",
    "    try:\n",
    "        return fn(value, *args, **kwargs)\n",
    "    except Exception:\n",
    "        return value\n",
    "\n",
    "candidates = []\n",
    "for paperk in new_papers:\n",
    "    # Check author list with their initials\n",
    "    normed_author_list = [robust_call(mpia.get_initials, k) for k in paperk['authors']]\n",
    "    hl_authors = highlight_authors_in_list(normed_author_list, mpia_authors, verbose=True)\n",
    "    matches = [(hl, orig) for hl, orig in zip(hl_authors, paperk['authors']) if 'mark' in hl]\n",
    "    paperk['authors'] = hl_authors\n",
    "    if matches:\n",
    "        # only select paper if an author matched our list\n",
    "        candidates.append(paperk)\n",
    "print(\"\"\"Arxiv has {0:,d} new papers today\"\"\".format(len(new_papers)))        \n",
    "print(\"\"\"          {0:,d} with possible author matches\"\"\".format(len(candidates)))"
   ]
  },
  {
   "cell_type": "markdown",
   "id": "3543b34a",
   "metadata": {
    "papermill": {
     "duration": 0.003162,
     "end_time": "2025-07-14T04:33:28.778138",
     "exception": false,
     "start_time": "2025-07-14T04:33:28.774976",
     "status": "completed"
    },
    "tags": []
   },
   "source": [
    "# Parse sources and generate relevant outputs\n",
    "\n",
    "From the candidates, we do the following steps:\n",
    "* get their tarball from ArXiv (and extract data)\n",
    "* find the main .tex file: find one with \\documentclass{...} (sometimes it's non trivial)\n",
    "* Check affiliations with :func:`validation`, which uses :func:`mpia.affiliation_verifications`\n",
    "* If passing the affiliations: we parse the .tex source\n",
    "   * inject sub-documents into the main (flatten the main document)\n",
    "   * parse structure, extract information (title, abstract, authors, figures...)\n",
    "   * handles `\\graphicspath` if provided\n",
    "* Generate the .md document."
   ]
  },
  {
   "cell_type": "code",
   "execution_count": 5,
   "id": "9576b79e",
   "metadata": {
    "execution": {
     "iopub.execute_input": "2025-07-14T04:33:28.785734Z",
     "iopub.status.busy": "2025-07-14T04:33:28.785252Z",
     "iopub.status.idle": "2025-07-14T04:34:25.228949Z",
     "shell.execute_reply": "2025-07-14T04:34:25.228080Z"
    },
    "papermill": {
     "duration": 56.453463,
     "end_time": "2025-07-14T04:34:25.234699",
     "exception": false,
     "start_time": "2025-07-14T04:33:28.781236",
     "status": "completed"
    },
    "scrolled": false,
    "tags": []
   },
   "outputs": [
    {
     "data": {
      "application/vnd.jupyter.widget-view+json": {
       "model_id": "b585ea9bb08141928a1fb2ab9f4dc798",
       "version_major": 2,
       "version_minor": 0
      },
      "text/plain": [
       "  0%|          | 0/7 [00:00<?, ?it/s]"
      ]
     },
     "metadata": {},
     "output_type": "display_data"
    },
    {
     "name": "stdout",
     "output_type": "stream",
     "text": [
      "Retrieving document from  https://arxiv.org/e-print/2507.08048\n"
     ]
    },
    {
     "name": "stdout",
     "output_type": "stream",
     "text": [
      "extracting tarball to tmp_2507.08048..."
     ]
    },
    {
     "name": "stdout",
     "output_type": "stream",
     "text": [
      " done.\n",
      "Retrieving document from  https://arxiv.org/e-print/2507.08201\n",
      "extracting tarball to tmp_2507.08201... done.\n",
      "Retrieving document from  https://arxiv.org/e-print/2507.08257\n"
     ]
    },
    {
     "name": "stdout",
     "output_type": "stream",
     "text": [
      "extracting tarball to tmp_2507.08257..."
     ]
    },
    {
     "name": "stdout",
     "output_type": "stream",
     "text": [
      " done.\n",
      "Retrieving document from  https://arxiv.org/e-print/2507.08545\n"
     ]
    },
    {
     "name": "stdout",
     "output_type": "stream",
     "text": [
      "extracting tarball to tmp_2507.08545... done.\n"
     ]
    },
    {
     "name": "stdout",
     "output_type": "stream",
     "text": [
      "Found 76 bibliographic references in tmp_2507.08545/A2390_SL_WL_May2025.bbl.\n",
      "Retrieving document from  https://arxiv.org/e-print/2507.08561\n"
     ]
    },
    {
     "name": "stdout",
     "output_type": "stream",
     "text": [
      "extracting tarball to tmp_2507.08561... done.\n",
      "Retrieving document from  https://arxiv.org/e-print/2507.08709\n",
      "extracting tarball to tmp_2507.08709..."
     ]
    },
    {
     "name": "stderr",
     "output_type": "stream",
     "text": [
      "/opt/hostedtoolcache/Python/3.9.23/x64/lib/python3.9/site-packages/arxiv_on_deck_2/latex.py:414: LatexWarning: Latex injecting: 'main.bbl' from 'tmp_2507.08561/main.tex'\n",
      "  warnings.warn(LatexWarning(f\"Latex injecting: '{ext}' from '{subsource}'\"))\n"
     ]
    },
    {
     "name": "stdout",
     "output_type": "stream",
     "text": [
      " done.\n",
      "Retrieving document from  https://arxiv.org/e-print/2507.08797\n"
     ]
    },
    {
     "name": "stdout",
     "output_type": "stream",
     "text": [
      "extracting tarball to tmp_2507.08797... done.\n"
     ]
    },
    {
     "name": "stdout",
     "output_type": "stream",
     "text": [
      "F. Zagaria  ->  F. Zagaria  |  ['F. Zagaria']\n"
     ]
    },
    {
     "name": "stdout",
     "output_type": "stream",
     "text": [
      "Found 261 bibliographic references in tmp_2507.08797/main.bbl.\n",
      "Issues with the citations\n",
      "syntax error in line 1432: '=' expected\n"
     ]
    }
   ],
   "source": [
    "documents = []\n",
    "failed = []\n",
    "for paper in tqdm(candidates):\n",
    "    # debug crap\n",
    "    paper['identifier'] = paper['identifier'].lower().replace('arxiv:', '').replace(r'\\n', '').strip()\n",
    "    paper_id = paper['identifier']\n",
    "    \n",
    "    folder = f'tmp_{paper_id}'\n",
    "\n",
    "    try:\n",
    "        if not os.path.isdir(folder):\n",
    "            folder = retrieve_document_source(f\"{paper_id}\", f'tmp_{paper_id}')\n",
    "        \n",
    "        try:\n",
    "            doc = latex.LatexDocument(folder, validation=validation)    \n",
    "        except AffiliationError as affilerror:\n",
    "            msg = f\"ArXiv:{paper_id:s} is not an MPIA paper... \" + str(affilerror)\n",
    "            failed.append((paper, \"affiliation error: \" + str(affilerror) ))\n",
    "            continue\n",
    "        \n",
    "        # Hack because sometimes author parsing does not work well\n",
    "        if (len(doc.authors) != len(paper['authors'])):\n",
    "            doc._authors = paper['authors']\n",
    "        else:\n",
    "            # highlight authors (FIXME: doc.highlight_authors)\n",
    "            # done on arxiv paper already\n",
    "            doc._authors = highlight_authors_in_list(\n",
    "                [get_initials(k) for k in doc.authors], \n",
    "                mpia_authors, verbose=True)\n",
    "        if (doc.abstract) in (None, ''):\n",
    "            doc._abstract = paper['abstract']\n",
    "            \n",
    "        doc.comment = (get_markdown_badge(paper_id) + \n",
    "                       \"<mark>Appeared on: \" + paper['date'] + \"</mark> - \")\n",
    "        if paper['comments']:\n",
    "            doc.comment += \" _\" + paper['comments'] + \"_\"\n",
    "        \n",
    "        full_md = doc.generate_markdown_text()\n",
    "        \n",
    "        full_md += get_markdown_qrcode(paper_id)\n",
    "        \n",
    "        # replace citations\n",
    "        try:\n",
    "            bibdata = latex_bib.LatexBib.from_doc(doc)\n",
    "            full_md = latex_bib.replace_citations(full_md, bibdata)\n",
    "        except Exception as e:\n",
    "            print(\"Issues with the citations\")\n",
    "            print(e)\n",
    "        \n",
    "        documents.append((paper_id, full_md))\n",
    "    except Exception as e:\n",
    "        warnings.warn(latex.LatexWarning(f\"{paper_id:s} did not run properly\\n\" +\n",
    "                                         str(e)\n",
    "                                        ))\n",
    "        failed.append((paper, \"latex error \" + str(e)))"
   ]
  },
  {
   "cell_type": "markdown",
   "id": "2505a25c",
   "metadata": {
    "papermill": {
     "duration": 0.004415,
     "end_time": "2025-07-14T04:34:25.243178",
     "exception": false,
     "start_time": "2025-07-14T04:34:25.238763",
     "status": "completed"
    },
    "tags": []
   },
   "source": [
    "### Export the logs\n",
    "\n",
    "Throughout, we also keep track of the logs per paper. see `logs-{today date}.md` "
   ]
  },
  {
   "cell_type": "code",
   "execution_count": 6,
   "id": "d733828a",
   "metadata": {
    "execution": {
     "iopub.execute_input": "2025-07-14T04:34:25.252029Z",
     "iopub.status.busy": "2025-07-14T04:34:25.251779Z",
     "iopub.status.idle": "2025-07-14T04:34:25.271591Z",
     "shell.execute_reply": "2025-07-14T04:34:25.271003Z"
    },
    "papermill": {
     "duration": 0.025549,
     "end_time": "2025-07-14T04:34:25.272658",
     "exception": false,
     "start_time": "2025-07-14T04:34:25.247109",
     "status": "completed"
    },
    "scrolled": false,
    "tags": []
   },
   "outputs": [
    {
     "data": {
      "text/markdown": [
       "## Successful papers"
      ],
      "text/plain": [
       "<IPython.core.display.Markdown object>"
      ]
     },
     "metadata": {},
     "output_type": "display_data"
    },
    {
     "data": {
      "text/markdown": [
       "\n",
       "|||\n",
       "|---:|:---|\n",
       "| [![arXiv](https://img.shields.io/badge/arXiv-2507.08545-b31b1b.svg)](https://arxiv.org/abs/2507.08545) | **Euclid: Early Release Observations. A combined strong and weak lensing solution for Abell 2390 beyond its virial radius**  |\n",
       "|| J. M. Diego, et al. -- incl., <mark>M. Schirmer</mark>, <mark>K. Jahnke</mark> |\n",
       "|*Appeared on*| *2025-07-14*|\n",
       "|*Comments*| *13 pages, 8 figures*|\n",
       "|**Abstract**|            Euclid is presently mapping the distribution of matter in the Universe in detail via the weak lensing (WL) signature of billions of distant galaxies. The WL signal is most prominent around galaxy clusters, and can extend up to distances well beyond their virial radius, thus constraining their total mass. Near the centre of clusters, where contamination by member galaxies is an issue, the WL data can be complemented with strong lensing (SL) data which can diminish the uncertainty due to the mass-sheet degeneracy and provide high-resolution information about the distribution of matter in the centre of clusters. Here we present a joint SL and WL analysis of the Euclid Early Release Observations of the cluster Abell 2390 at z=0.228. Thanks to Euclid's wide field of view of 0.5 deg$^$2, combined with its angular resolution in the visible band of 0.\"13 and sampling of 0.\"1 per pixel, we constrain the density profile in a wide range of radii, 30 kpc < r < 2000 kpc, from the inner region near the brightest cluster galaxy to beyond the virial radius of the cluster. We find consistency with earlier X-ray results based on assumptions of hydrostatic equilibrium, thus indirectly confirming the nearly relaxed state of this cluster. We also find consistency with previous results based on weak lensing data and ground-based observations of this cluster. From the combined SL+WL profile, we derive the values of the viral mass $M_{200} = (1.48 \\pm 0.29)\\times10^{15}\\, \\Msun$, and virial radius $r_{200} =(2.05\\pm0.13 \\, {\\rm Mpc}$), with error bars representing one standard deviation. The profile is well described by an NFW model with concentration c=6.5 and a small-scale radius of 230 kpc in the 30\\,kpc $< r <$ 2000\\,kpc range that is best constrained by SL and WL data. Abell 2390 is the first of many examples where Euclid data will play a crucial role in providing masses for clusters.         |"
      ],
      "text/plain": [
       "[2507.08545] Euclid: Early Release Observations. A combined strong and weak lensing solution for Abell 2390 beyond its virial radius\n",
       "\tJ. M. Diego, et al. -- incl., <mark>M. Schirmer</mark>, <mark>K. Jahnke</mark>"
      ]
     },
     "metadata": {},
     "output_type": "display_data"
    },
    {
     "data": {
      "text/markdown": [
       "\n",
       "|||\n",
       "|---:|:---|\n",
       "| [![arXiv](https://img.shields.io/badge/arXiv-2507.08797-b31b1b.svg)](https://arxiv.org/abs/2507.08797) | **Multi-frequency analysis of the ALMA and VLA high resolution continuum observations of the substructured disc around CI Tau. Preference for sub-mm-sized low-porosity amorphous carbonaceous grains**  |\n",
       "|| <mark>F. Zagaria</mark>, et al. |\n",
       "|*Appeared on*| *2025-07-14*|\n",
       "|*Comments*| *43 pages, 23 figures, 6 tables. Accepted for publication on A&A*|\n",
       "|**Abstract**|            (Abridged) We present high angular resolution and sensitivity ALMA 3.1 mm and VLA 9.1 mm observations of the disc around CI Tau. These new data were combined with similar-resolution archival ALMA 0.9 and 1.3 mm observations and new and archival VLA 7.1 mm, 2.0, 3.0, and 6.0 cm photometry to study the properties of dust in this system. At wavelengths <3.1 mm, CI Tau's continuum emission is very extended and highly substructured (with three gaps, four rings, and two additional gap-ring pairs identified by non-parametric visibility modelling). Instead, the VLA 9.1 mm data are dominated by a bright central component, only partially (< 50%) due to dust emission, surrounded by a marginally detected, faint, and smooth halo. We fitted the ALMA and VLA 9.1 mm data together, adopting a physical model that accounts for the effects of dust absorption and scattering. For our fiducial dust composition (\"Ricci\" opacities), we retrieved a flat maximum grain size distribution across the disc radius of $(7.1\\pm0.8)\\times10^{-2}$ cm, that we tentatively attributed to fragmentation of fragile dust or bouncing. We tested, for the first time, the dependence of our results on the adopted dust composition model to assess which mixture can best reproduce the observations. We found that the \"Ricci\" opacities work better than the traditionally adopted \"DSHARP\" ones, while graphite-rich mixtures perform significantly worse. We also show that, for our fiducial composition, the data prefer low-porosity (< 70%) grains, in contrast with claims of highly porous aggregates in younger sources, which we tentatively justified by time-dependent compaction. Our results are in line with constraints from disc population synthesis models and naturally arise from CI Tau's peculiar spectral behaviour, making this disc an ideal target for deeper cm-wavelength and dust polarisation follow-ups.         |"
      ],
      "text/plain": [
       "[2507.08797] Multi-frequency analysis of the ALMA and VLA high resolution continuum observations of the substructured disc around CI Tau. Preference for sub-mm-sized low-porosity amorphous carbonaceous grains\n",
       "\t<mark>F. Zagaria</mark>, et al."
      ]
     },
     "metadata": {},
     "output_type": "display_data"
    },
    {
     "data": {
      "text/markdown": [
       "## Failed papers"
      ],
      "text/plain": [
       "<IPython.core.display.Markdown object>"
      ]
     },
     "metadata": {},
     "output_type": "display_data"
    },
    {
     "data": {
      "text/markdown": [
       "\n",
       "|||\n",
       "|---:|:---|\n",
       "| [![arXiv](https://img.shields.io/badge/arXiv-2507.08257-b31b1b.svg)](https://arxiv.org/abs/2507.08257) | **SDSS-V LVM: Collisionless Shocks in the Supernova Remnant RCW86**  |\n",
       "|| S. K. Sarbadhicary, et al. -- incl., <mark>K. Kreckel</mark>, <mark>J. Li</mark> |\n",
       "|*Appeared on*| *2025-07-14*|\n",
       "|*Comments*| *30 pages, 16 figures. Submitted to ApJ*|\n",
       "|**Abstract**|            The supernova remnant (SNR) RCW86 is among the few SNRs with Balmer-emission lines containing broad and narrow spectral components that trace fast, non-radiative shocks in partially-ionized gas.\\ These are invaluable laboratories for collisionless shock physics, especially for poorly-understood phenomena like electron-ion equilibration, and shock precursors. Here we present the first $\\sim$0.3 pc spatial scale integral field unit (IFU) observations of the southwestern RCW86 shock, obtained as part of the Sloan Digital Sky Survey-V Local Volume Mapper (SDSS-V LVM). The forward shock, clearly visible as thin filaments in narrowband images, have broad H$\\alpha$ components, indicating shock velocities varying from 500--900 km/s in the south to 1000--1500 km/s in the north. The varying velocity widths and broad-to-narrow intensity ratios show that electrons and ions have lower equilibration ($T_e/T_p \\rightarrow 0.1$) in faster ($>$800 km/s) shocks, in line with previous studies. The broad components are generally redshifted from the narrow components by $\\lesssim$100 km/s, likely due to shock-obliquity or non-Maxwellian post-shock distributions. We observe high extinction-corrected Balmer-decrements of 3--5 in the narrow components, indicating that conversion of Ly$\\beta$ photons to H$\\alpha$ is more efficient than Ly$\\gamma$ to H$\\beta$. Broad HeII$\\lambda$4686 was marginally ($\\gtrsim$2$\\sigma$) detected in the southern shock, meaning the shock is impacting gas with high ($>$30--100\\%) neutral fraction. We also find the first evidence of an intermediate H$\\alpha$ component in RCW86, with $\\Delta$V(FWHM) = 193--207 km/s, likely due to a neutral precursor. We also briefly discuss the southwestern radiative shock, and lay out the exciting future of studying astrophysical shocks with LVM.         |\n",
       "|<p style=\"color:green\"> **ERROR** </p>| <p style=\"color:green\">affiliation error: mpia.affiliation_verifications: '69117' keyword not found.</p> |"
      ],
      "text/plain": [
       "<IPython.core.display.Markdown object>"
      ]
     },
     "metadata": {},
     "output_type": "display_data"
    },
    {
     "data": {
      "text/markdown": [
       "\n",
       "|||\n",
       "|---:|:---|\n",
       "| [![arXiv](https://img.shields.io/badge/arXiv-2507.08048-b31b1b.svg)](https://arxiv.org/abs/2507.08048) | **A candidate field for deep imaging of the Epoch of Reionization observed with MWA**  |\n",
       "|| <mark>X. Zhang</mark>, et al. |\n",
       "|*Appeared on*| *2025-07-14*|\n",
       "|*Comments*| *Accepted for publication in MNRAS; 19 pages, 15 figures, and 11 tables*|\n",
       "|**Abstract**|            Deep imaging of structures from the Cosmic Dawn (CD) and the Epoch of Reionization (EoR) in five targeted fields is one of the highest priority scientific objectives for the Square Kilometre Array (SKA). Selecting 'quiet' fields, which allow deep imaging, is critical for future SKA CD/EoR observations. Pre-observations using existing radio facilities will help estimate the computational capabilities required for optimal data quality and refine data reduction techniques. In this study, we utilize data from the Murchison Widefield Array (MWA) Phase II extended array for a selected field to study the properties of foregrounds. We conduct deep imaging across two frequency bands: 72-103 MHz and 200-231 MHz. We identify up to 2,576 radio sources within a 5-degree radius of the image center (at RA (J2000) $8^h$ , Dec (J2000) 5°), achieving approximately 80% completeness at 7.7 mJy and 90% at 10.4 mJy for 216 MHz, with a total integration time of 4.43 hours and an average RMS of 1.80 mJy. Additionally, we apply a foreground removal algorithm using Principal Component Analysis (PCA) and calculate the angular power spectra of the residual images. Our results indicate that nearly all resolved radio sources can be successfully removed using PCA, leading to a reduction in foreground power. However, the angular power spectra of the residual map remains over an order of magnitude higher than the theoretically predicted CD/EoR 21 cm signal. Further improvements in data reduction and foreground subtraction techniques will be necessary to enhance these results.         |\n",
       "|<p style=\"color:green\"> **ERROR** </p>| <p style=\"color:green\">affiliation error: mpia.affiliation_verifications: 'Heidelberg' keyword not found.</p> |"
      ],
      "text/plain": [
       "<IPython.core.display.Markdown object>"
      ]
     },
     "metadata": {},
     "output_type": "display_data"
    },
    {
     "data": {
      "text/markdown": [
       "\n",
       "|||\n",
       "|---:|:---|\n",
       "| [![arXiv](https://img.shields.io/badge/arXiv-2507.08201-b31b1b.svg)](https://arxiv.org/abs/2507.08201) | **Detecting Intermediate-mass Black Holes Using Miniature Pulsar Timing Arrays in Globular Clusters**  |\n",
       "|| X. Chen, et al. -- incl., <mark>K. Lee</mark> |\n",
       "|*Appeared on*| *2025-07-14*|\n",
       "|*Comments*| *9 pages, 3 figures, comments welcome!*|\n",
       "|**Abstract**|            Theoretical models predict that intermediate-mass black holes (IMBHs) exist in globular clusters (GCs), but observational evidence remains elusive. Millisecond pulsars (MSPs), which are abundant in GCs and have served as precise probes for gravitational waves (GWs), offer a unique opportunity to detect potential IMBH binaries in GCs. Here, we consider the possibility of using multiple MSPs in a GC to form a miniature pulsar timing array (PTA), so as to take advantage of their correlated timing residuals to search for potential IMBH binaries in the same cluster. Our semi-analytical calculations reveal that nearby IMBH binaries around MSPs in GCs could induce microsecond-level timing residuals. In GCs like $\\omega$ Centauri and M15, favorable configurations are found which could lead to the detection of binaries with mass ratios $q\\gtrsim0.1$ and orbital periods of a few days. We estimate that future higher-precision timing programs could achieve $100$-nanosecond sensitivity, substantially expanding the searchable parameter space and establishing mini-PTAs as powerful detectors of IMBHs.         |\n",
       "|<p style=\"color:green\"> **ERROR** </p>| <p style=\"color:green\">affiliation error: mpia.affiliation_verifications: 'Heidelberg' keyword not found.</p> |"
      ],
      "text/plain": [
       "<IPython.core.display.Markdown object>"
      ]
     },
     "metadata": {},
     "output_type": "display_data"
    },
    {
     "data": {
      "text/markdown": [
       "\n",
       "|||\n",
       "|---:|:---|\n",
       "| [![arXiv](https://img.shields.io/badge/arXiv-2507.08561-b31b1b.svg)](https://arxiv.org/abs/2507.08561) | **Tracing Missing Baryons in the Cosmic Filaments with tSZ and CMB-Lensing Stacking**  |\n",
       "|| <mark>J. Li</mark>, Y. Zheng, W. Zhu |\n",
       "|*Appeared on*| *2025-07-14*|\n",
       "|*Comments*| *28 pages, 14 figures*|\n",
       "|**Abstract**|            We investigate the distribution of missing baryons in cosmic filaments by stacking approximately 31,300 filaments across the northern and southern SDSS sky regions using Planck Compton-$y$ and CMB lensing maps. Filaments are identified using the DisPerSE algorithm applied to the SDSS LOWZ-CMASS galaxy samples, selecting structures with lengths between 30-100 cMpc and redshifts in the range $0.2 < z < 0.6$. Radial profiles are extracted out to 25 cMpc from the filament spines, and galaxy clusters with halo masses above $3 \\times 10^{13}$ solar masses are masked to reduce contamination. We detect the thermal Sunyaev-Zel'dovich (tSZ) signal at $7.82\\sigma$ and the CMB lensing signal at $7.78\\sigma$. The stacked profiles are corrected by a geometric bias related to filament inclination with respect to the line of sight, and modeled assuming isothermal, cylindrically symmetric gas distributions. We explore different gas and matter density distributions, focusing on $\\beta$-models with $(\\alpha, \\beta) = (2, 2/3)$ or $(1, 1)$. By jointly fitting the Compton-$y$ and lensing convergence profiles, we constrain the central electron overdensity and temperature to be $\\delta = 5.90^{+4.18}_{-1.98}$ and $T_e = 2.71^{+0.63}_{-0.51} \\times 10^6$ K for the standard $\\beta$-model. These results suggest that the filamentary WHIM in our selected long filaments contributes a significant baryon fraction of $0.124^{+0.020}_{-0.021} \\times$ {\\Omega}_b to the cosmic baryon budget.         |\n",
       "|<p style=\"color:green\"> **ERROR** </p>| <p style=\"color:green\">affiliation error: mpia.affiliation_verifications: 'Heidelberg' keyword not found.</p> |"
      ],
      "text/plain": [
       "<IPython.core.display.Markdown object>"
      ]
     },
     "metadata": {},
     "output_type": "display_data"
    },
    {
     "data": {
      "text/markdown": [
       "\n",
       "|||\n",
       "|---:|:---|\n",
       "| [![arXiv](https://img.shields.io/badge/arXiv-2507.08709-b31b1b.svg)](https://arxiv.org/abs/2507.08709) | **Unambiguous GeV gamma-rays from molecular clouds illuminated by particles diffusing from the adjacent supernova remnant G335.2+0.1 that is confined in an expanding bubble**  |\n",
       "|| C. Huang, et al. -- incl., <mark>X. Zhang</mark> |\n",
       "|*Appeared on*| *2025-07-14*|\n",
       "|*Comments*| *ApJ manuscript after revision incorporating the referee's suggestions. 15 pages. 10 figures & 4 tables included*|\n",
       "|**Abstract**|            We report the detection of GeV gamma-ray emission likely associated with supernova remnant (SNR) G335.2+0.1 and the finding of a molecular cloud ($\\sim20$--$30^\\prime$ in angular size) that is very likely in physical contact with the SNR and responsible for the gamma-ray emission. Using the 16.8 yr Fermi-LAT data, an extended emission, with a significance of 13.5 $\\sigma$ and a radius 0.24° in 0.2--500 GeV in the uniform-disk model, was found to the adjacent east of the SNR. With archival Mopra CO-line data, a large molecular clump at local-standard-of-rest velocity $\\sim-48$ to $-43$ km s$^{-1}$ was revealed appearing coincident with the gamma-ray source. The SNR was found located in a cavity encircled by a 'C'-shaped ring-like molecular shell at $-45$ to $-43$ km s$^{-1}$. This morphological agreement, together with the position-velociy diagrams made along lines cutting across the cavity, suggests that the SNR was evolving in the expanding molecular bubble created by the stellar wind of the progenitor with a mass $\\gtrsim 15 M_{\\mathrm{sun}}$. The giant molecular cloud, visible at around $-46$ km s$^{-1}$, and the associated SNR are thus estimated to lie at a kinematic distance of 3.1 kpc, with the HI absorption taken into account. We suggest that the SNR has entered the radiative phase after the blastwave recently struck the cavity wall. With the evolutionary scenario of the SNR, we demonstrate that the gamma-ray emission reported here can be naturally interpreted by the hadronic interaction between the accelerated protons that escaped from the SNR shock and the eastern large molecular clump.         |\n",
       "|<p style=\"color:green\"> **ERROR** </p>| <p style=\"color:green\">affiliation error: mpia.affiliation_verifications: 'Heidelberg' keyword not found.</p> |"
      ],
      "text/plain": [
       "<IPython.core.display.Markdown object>"
      ]
     },
     "metadata": {},
     "output_type": "display_data"
    }
   ],
   "source": [
    "import datetime\n",
    "today = str(datetime.date.today())\n",
    "logfile = f\"_build/html/logs/log-{today}.md\"\n",
    "\n",
    "\n",
    "with open(logfile, 'w') as logs:\n",
    "    # Success\n",
    "    logs.write(f'# Arxiv on Deck 2: Logs - {today}\\n\\n')\n",
    "    logs.write(\"\"\"* Arxiv had {0:,d} new papers\\n\"\"\".format(len(new_papers)))\n",
    "    logs.write(\"\"\"    * {0:,d} with possible author matches\\n\\n\"\"\".format(len(candidates)))\n",
    "    logs.write(\"## Sucessful papers\\n\\n\")\n",
    "    display(Markdown(\"## Successful papers\"))\n",
    "    success = [k[0] for k in documents]\n",
    "    for candid in candidates:\n",
    "        if candid['identifier'].split(':')[-1] in success:\n",
    "            display(candid)\n",
    "            logs.write(candid.generate_markdown_text() + '\\n\\n')\n",
    "\n",
    "    ## failed\n",
    "    logs.write(\"## Failed papers\\n\\n\")\n",
    "    display(Markdown(\"## Failed papers\"))\n",
    "    failed = sorted(failed, key=lambda x: x[1])\n",
    "    current_reason = \"\"\n",
    "    for paper, reason in failed:\n",
    "        if 'affiliation' in reason:\n",
    "            color = 'green'\n",
    "        else:\n",
    "            color = 'red'\n",
    "        data = Markdown(\n",
    "                paper.generate_markdown_text() + \n",
    "                f'\\n|<p style=\"color:{color:s}\"> **ERROR** </p>| <p style=\"color:{color:s}\">{reason:s}</p> |'\n",
    "               )\n",
    "        if reason != current_reason:\n",
    "            logs.write(f'### {reason:s} \\n\\n')\n",
    "            current_reason = reason\n",
    "        logs.write(data.data + '\\n\\n')\n",
    "        \n",
    "        # only display here the important errors (all in logs)\n",
    "        # if color in ('red',):\n",
    "        display(data)"
   ]
  },
  {
   "cell_type": "markdown",
   "id": "472d20ee",
   "metadata": {
    "papermill": {
     "duration": 0.004644,
     "end_time": "2025-07-14T04:34:25.282645",
     "exception": false,
     "start_time": "2025-07-14T04:34:25.278001",
     "status": "completed"
    },
    "tags": []
   },
   "source": [
    "## Export documents\n",
    "\n",
    "We now write the .md files and export relevant images"
   ]
  },
  {
   "cell_type": "code",
   "execution_count": 7,
   "id": "d426aed9",
   "metadata": {
    "execution": {
     "iopub.execute_input": "2025-07-14T04:34:25.292957Z",
     "iopub.status.busy": "2025-07-14T04:34:25.292538Z",
     "iopub.status.idle": "2025-07-14T04:34:25.299260Z",
     "shell.execute_reply": "2025-07-14T04:34:25.298747Z"
    },
    "papermill": {
     "duration": 0.012937,
     "end_time": "2025-07-14T04:34:25.300269",
     "exception": false,
     "start_time": "2025-07-14T04:34:25.287332",
     "status": "completed"
    },
    "tags": []
   },
   "outputs": [],
   "source": [
    "def export_markdown_summary(md: str, md_fname:str, directory: str):\n",
    "    \"\"\"Export MD document and associated relevant images\"\"\"\n",
    "    import os\n",
    "    import shutil\n",
    "    import re\n",
    "\n",
    "    if (os.path.exists(directory) and not os.path.isdir(directory)):\n",
    "        raise RuntimeError(f\"a non-directory file exists with name {directory:s}\")\n",
    "\n",
    "    if (not os.path.exists(directory)):\n",
    "        print(f\"creating directory {directory:s}\")\n",
    "        os.mkdir(directory)\n",
    "\n",
    "    fig_fnames = (re.compile(r'\\[Fig.*\\]\\((.*)\\)').findall(md) + \n",
    "                  re.compile(r'\\<img src=\"([^>\\s]*)\"[^>]*/>').findall(md))\n",
    "    print(\"found figures\", fig_fnames)\n",
    "    for fname in fig_fnames:\n",
    "        if 'http' in fname:\n",
    "            # No need to copy online figures\n",
    "            continue\n",
    "        if not os.path.exists(fname):\n",
    "            print(\"file not found\", fname)\n",
    "            continue\n",
    "        print(\"copying \", fname, \"to\", directory)\n",
    "        destdir = os.path.join(directory, os.path.dirname(fname))\n",
    "        destfname = os.path.join(destdir, os.path.basename(fname))\n",
    "        try:\n",
    "            os.makedirs(destdir)\n",
    "        except FileExistsError:\n",
    "            pass\n",
    "        shutil.copy(fname, destfname)\n",
    "    with open(os.path.join(directory, md_fname), 'w') as fout:\n",
    "        fout.write(md)\n",
    "    print(\"exported in \", os.path.join(directory, md_fname))\n",
    "    [print(\"    + \" + os.path.join(directory,fk)) for fk in fig_fnames]"
   ]
  },
  {
   "cell_type": "code",
   "execution_count": 8,
   "id": "014d04a4",
   "metadata": {
    "execution": {
     "iopub.execute_input": "2025-07-14T04:34:25.310794Z",
     "iopub.status.busy": "2025-07-14T04:34:25.310361Z",
     "iopub.status.idle": "2025-07-14T04:34:25.320748Z",
     "shell.execute_reply": "2025-07-14T04:34:25.320180Z"
    },
    "papermill": {
     "duration": 0.016751,
     "end_time": "2025-07-14T04:34:25.321830",
     "exception": false,
     "start_time": "2025-07-14T04:34:25.305079",
     "status": "completed"
    },
    "tags": []
   },
   "outputs": [
    {
     "name": "stdout",
     "output_type": "stream",
     "text": [
      "found figures ['tmp_2507.08545/./Figs/Profile_A2390_MsunPc2_Feb2025_V2.png', 'tmp_2507.08545/./Figs/A2390_HST_Euclid_Arcs_CC_Feb2025.png', 'tmp_2507.08545/./Figs/NumberShear_G1_G2_Grid_30arcmin_V5_FINAL.png']\n",
      "copying  tmp_2507.08545/./Figs/Profile_A2390_MsunPc2_Feb2025_V2.png to _build/html/\n",
      "copying  tmp_2507.08545/./Figs/A2390_HST_Euclid_Arcs_CC_Feb2025.png to _build/html/\n",
      "copying  tmp_2507.08545/./Figs/NumberShear_G1_G2_Grid_30arcmin_V5_FINAL.png to _build/html/\n",
      "exported in  _build/html/2507.08545.md\n",
      "    + _build/html/tmp_2507.08545/./Figs/Profile_A2390_MsunPc2_Feb2025_V2.png\n",
      "    + _build/html/tmp_2507.08545/./Figs/A2390_HST_Euclid_Arcs_CC_Feb2025.png\n",
      "    + _build/html/tmp_2507.08545/./Figs/NumberShear_G1_G2_Grid_30arcmin_V5_FINAL.png\n",
      "found figures ['tmp_2507.08797/./image_montage.png', 'tmp_2507.08797/./spectral_index.png', 'tmp_2507.08797/./fit_results/results_comparison.png']\n",
      "copying  tmp_2507.08797/./image_montage.png to _build/html/\n",
      "copying  tmp_2507.08797/./spectral_index.png to _build/html/\n",
      "copying  tmp_2507.08797/./fit_results/results_comparison.png to _build/html/\n",
      "exported in  _build/html/2507.08797.md\n",
      "    + _build/html/tmp_2507.08797/./image_montage.png\n",
      "    + _build/html/tmp_2507.08797/./spectral_index.png\n",
      "    + _build/html/tmp_2507.08797/./fit_results/results_comparison.png\n"
     ]
    }
   ],
   "source": [
    "for paper_id, md in documents:\n",
    "    export_markdown_summary(md, f\"{paper_id:s}.md\", '_build/html/')"
   ]
  },
  {
   "cell_type": "markdown",
   "id": "f087a0a7",
   "metadata": {
    "papermill": {
     "duration": 0.004797,
     "end_time": "2025-07-14T04:34:25.331551",
     "exception": false,
     "start_time": "2025-07-14T04:34:25.326754",
     "status": "completed"
    },
    "tags": []
   },
   "source": [
    "## Display the papers\n",
    "\n",
    "Not necessary but allows for a quick check."
   ]
  },
  {
   "cell_type": "code",
   "execution_count": 9,
   "id": "fd25f625",
   "metadata": {
    "execution": {
     "iopub.execute_input": "2025-07-14T04:34:25.342197Z",
     "iopub.status.busy": "2025-07-14T04:34:25.341802Z",
     "iopub.status.idle": "2025-07-14T04:34:25.347907Z",
     "shell.execute_reply": "2025-07-14T04:34:25.347335Z"
    },
    "papermill": {
     "duration": 0.012494,
     "end_time": "2025-07-14T04:34:25.348910",
     "exception": false,
     "start_time": "2025-07-14T04:34:25.336416",
     "status": "completed"
    },
    "scrolled": false,
    "tags": []
   },
   "outputs": [
    {
     "data": {
      "text/markdown": [
       "<div class=\"macros\" style=\"visibility:hidden;\">\n",
       "$\\newcommand{\\ensuremath}{}$\n",
       "$\\newcommand{\\xspace}{}$\n",
       "$\\newcommand{\\object}[1]{\\texttt{#1}}$\n",
       "$\\newcommand{\\farcs}{{.}''}$\n",
       "$\\newcommand{\\farcm}{{.}'}$\n",
       "$\\newcommand{\\arcsec}{''}$\n",
       "$\\newcommand{\\arcmin}{'}$\n",
       "$\\newcommand{\\ion}[2]{#1#2}$\n",
       "$\\newcommand{\\textsc}[1]{\\textrm{#1}}$\n",
       "$\\newcommand{\\hl}[1]{\\textrm{#1}}$\n",
       "$\\newcommand{\\footnote}[1]{}$\n",
       "$\\newcommand{\\vect}[1]{\\vec{#1}}$\n",
       "$\\newcommand{\\Msun}{{  M}_{\\odot}}$\n",
       "$\\newcommand{\\wslap}{\\texttt{WSLAP+} }$\n",
       "$\\newcommand{\\orcid}[1]$</div>\n",
       "\n",
       "\n",
       "\n",
       "<div id=\"title\">\n",
       "\n",
       "# $\\Euclid$: Early Release Observations. A combined strong and weak lensing solution for Abell 2390 beyond its virial radius$\\thanks{This paper is published on behalf of the Euclid Consortium.}$\n",
       "\n",
       "</div>\n",
       "<div id=\"comments\">\n",
       "\n",
       "[![arXiv](https://img.shields.io/badge/arXiv-2507.08545-b31b1b.svg)](https://arxiv.org/abs/2507.08545)<mark>Appeared on: 2025-07-14</mark> -  _13 pages, 8 figures_\n",
       "\n",
       "</div>\n",
       "<div id=\"authors\">\n",
       "\n",
       "J. M. Diego, et al. -- incl., <mark>M. Schirmer</mark>, <mark>K. Jahnke</mark>\n",
       "\n",
       "</div>\n",
       "<div id=\"abstract\">\n",
       "\n",
       "**Abstract:** $\\Euclid$ \\/ is presently mapping the distribution of matter in the Universe in detail via the weak lensing signature of billions of distant galaxies. The weak lensing signal is most prominent around galaxy clusters, and can extend up to distances well beyond their virial radius, thus constraining their total mass.     Near the centre of clusters, where contamination by member galaxies is an issue, the weak lensing data can be complemented with strong lensing data. Strong lensing information can also  diminish the uncertainty due to the mass-sheet degeneracy and provide high-resolution information about the distribution of matter in the centre of clusters. Here we present a joint strong and weak lensing analysis of the $\\Euclid$ Early Release Observations  of the cluster Abell 2390  at $z=0.228$ . Thanks to $\\Euclid$ 's wide field of view of $0.5 \\mathrm{deg}^2$ , combined with its angular resolution in the visible band of $\\ang{;;0.13}$ and sampling of $\\ang{;;0.1}$ per pixel [ and Acevedo~Barroso (2025)]() , we constrain the density profile in a wide range of radii, 30 kpc $< r <$ 2000 kpc, from the inner region near the brightest cluster galaxy to beyond the virial radius of the cluster.  We find consistency with earlier X-ray results based on assumptions of hydrostatic equilibrium, thus indirectly confirming the nearly relaxed state of this cluster. We also find consistency with previous results based on weak lensing data and ground-based observations of this cluster. From the combined strong+weak lensing profile, we derive the values of the viral mass $M_{200} = (1.48 \\pm 0.29)\\times10^{15}  \\Msun$ ,     and virial radius $r_{200} =(2.05\\pm0.13   {\\rm Mpc}$ ),     with error bars representing one standard deviation. The profile is well described by an Navarro-Frenk-White model with concentration $c=6.5$ and a small-scale radius of 230 kpc in the  30 kpc $< r <$ 2000 kpc range that is best constrained by strong lensing and weak lensing data.     Abell 2390 is the first of many examples where $\\Euclid$ data will play a crucial role in providing masses for clusters. The large coverage provided by $\\Euclid$ , combined with the depth of the observations, and high angular resolution, will allow to produce similar results in hundreds of other clusters with rich already available strong lensing data.\n",
       "\n",
       "</div>\n",
       "\n",
       "<div id=\"div_fig1\">\n",
       "\n",
       "<img src=\"tmp_2507.08545/./Figs/Profile_A2390_MsunPc2_Feb2025_V2.png\" alt=\"Fig1\" width=\"100%\"/>\n",
       "\n",
       "**Figure 1. -** Surface mass density ($\\Sigma$) profiles as a function of radius ($r$) centred on the BCG for the three WL clean catalogues. Two NFW profiles are shown in black-grey. The black dotted line is the NFW derived from X-rays assuming hydrostatic equilibrium. The black short-dashed line is an NFW that fits the SL+WL model in the region that is best constrained by the SL+WL data. The light-blue band shows the $1 \\sigma$ variability in the \\texttt{LensMC} profile when we change the initial guess in the SL+WL optimisation algorithm.  The dark-blue dashed curve is the joint SL+WL solution when we use the raw LensMC in a larger field of view and with a minimal selection of objects (see appendix \\ref{sc:lensmc_fullcat}).\n",
       "   (*fig:A2390_profile*)\n",
       "\n",
       "</div>\n",
       "<div id=\"div_fig2\">\n",
       "\n",
       "<img src=\"tmp_2507.08545/./Figs/A2390_HST_Euclid_Arcs_CC_Feb2025.png\" alt=\"Fig6\" width=\"100%\"/>\n",
       "\n",
       "**Figure 6. -** Colour composite image (Red=NISP $\\JE+\\YE+\\HE$, Green=HST-ACS-F850LP, Blue=VIS \\IE) of the central region of A2390. The circles mark the position of the spectroscopic sample of SL constraints from [Richard, Stark and Ellis (2008)](), [Richard, Claeyssens and Lagattuta (2021)]() colour coded by their spectroscopic redshift (indicated in the upper left). The number next to each small circle is the ID for each family of counterimages.\n",
       "  We show the critical curves from the SL+WL model\n",
       "  in cyan at $z_{\\rm s}=1.036$ and red at $z_{\\rm s}=4.05$.\n",
       "  The image covers $\\ang{;1.73;}\\times\\ang{;1.18;}$.\n",
       "   (*fig:A2390_Arcs*)\n",
       "\n",
       "</div>\n",
       "<div id=\"div_fig3\">\n",
       "\n",
       "<img src=\"tmp_2507.08545/./Figs/NumberShear_G1_G2_Grid_30arcmin_V5_FINAL.png\" alt=\"Fig7\" width=\"100%\"/>\n",
       "\n",
       "**Figure 7. -** Multi-scale grid used for binning the shear measurements in the clean catalogue. The grid is centred in the cluster. _Left_: shows the number of galaxies per square arcminute in each bin when considering only galaxies in the tomographic bins 3--10 described in [Schrabback, Congedo and Gavazzi (2025)]().  The smallest bins in the centre are approximately $\\ang{;1;}\\times\\ang{;1;}$ while in the edges the bins are $\\ang{;2.24}\\times\\ang{;2.24;}$. The full area is  $\\ang{;26.85;}\\times\\ang{;26.85;}$. A similar grid configuration is adopted for the Gaussian functions in the distribution in mass. For the mass grid, the central  $\\ang{;4;}\\times\\ang{;4;}$ region (where the strong lensing constraints are found) is marked with a yellow square. This small region is further divided with an additional set of 123 smaller Gaussians (not shown).\n",
       "  _Middle and right_: show the observed shear $\\gamma_1$ and $\\gamma_2$ in the same multi-scale grid, same field of view, and for \\texttt{LensMC}. The classic structure of $\\gamma_1$ and $\\gamma_2$ can be seen (i.e., horizontal and $\\pi/4$-oriented quadrupole).\n",
       "   (*fig:A2390_ShearGrid*)\n",
       "\n",
       "</div><div id=\"qrcode\"><img src=https://api.qrserver.com/v1/create-qr-code/?size=100x100&data=\"https://arxiv.org/abs/2507.08545\"></div>"
      ],
      "text/plain": [
       "<IPython.core.display.Markdown object>"
      ]
     },
     "metadata": {},
     "output_type": "display_data"
    },
    {
     "data": {
      "text/markdown": [
       "<div class=\"macros\" style=\"visibility:hidden;\">\n",
       "$\\newcommand{\\ensuremath}{}$\n",
       "$\\newcommand{\\xspace}{}$\n",
       "$\\newcommand{\\object}[1]{\\texttt{#1}}$\n",
       "$\\newcommand{\\farcs}{{.}''}$\n",
       "$\\newcommand{\\farcm}{{.}'}$\n",
       "$\\newcommand{\\arcsec}{''}$\n",
       "$\\newcommand{\\arcmin}{'}$\n",
       "$\\newcommand{\\ion}[2]{#1#2}$\n",
       "$\\newcommand{\\textsc}[1]{\\textrm{#1}}$\n",
       "$\\newcommand{\\hl}[1]{\\textrm{#1}}$\n",
       "$\\newcommand{\\footnote}[1]{}$\n",
       "$\\newcommand{\\arraystretch}{1.25}$\n",
       "$\\newcommand{\\arraystretch}{1.25}$\n",
       "$\\newcommand{\\arraystretch}{1.25}$\n",
       "$\\newcommand{\\arraystretch}{1.25}$\n",
       "$\\newcommand{\\arraystretch}{1.25}$\n",
       "$\\newcommand{\\arraystretch}{1.25}$\n",
       "$\\newcommand\\orcid{#1}$</div>\n",
       "\n",
       "\n",
       "\n",
       "<div id=\"title\">\n",
       "\n",
       "# Multi-frequency analysis of the ALMA and VLA high resolution continuum observations of the substructured disc around CI Tau: Preference for sub-mm-sized low-porosity amorphous carbonaceous grains\n",
       "\n",
       "</div>\n",
       "<div id=\"comments\">\n",
       "\n",
       "[![arXiv](https://img.shields.io/badge/arXiv-2507.08797-b31b1b.svg)](https://arxiv.org/abs/2507.08797)<mark>Appeared on: 2025-07-14</mark> -  _43 pages, 23 figures, 6 tables. Accepted for publication on A&A_\n",
       "\n",
       "</div>\n",
       "<div id=\"authors\">\n",
       "\n",
       "<mark>F. Zagaria</mark>, et al.\n",
       "\n",
       "</div>\n",
       "<div id=\"abstract\">\n",
       "\n",
       "**Abstract:** We present high angular resolution ( $50 {\\rm mas}$ ) and sensitivity Atacama Large Millimeter/submillimeter Array (ALMA) Band 3 ( $3.1 {\\rm mm}$ ) and Very Large Array (VLA) Ka Band ( $9.1 {\\rm mm}$ ) observations of the multi-ringed disc around the $3 {\\rm Myr}$ -old solar-mass star CI Tau. These new data were combined with similar-resolution archival ALMA Band 7 ( $0.9 {\\rm mm}$ ) and 6 ( $1.3 {\\rm mm}$ ) observations, and new and archival VLA Q ( $7.1 {\\rm mm}$ ), Ku ( $2.0 {\\rm cm}$ ), X ( $3.0 {\\rm cm}$ ), and C Band ( $6.0 {\\rm cm}$ ) photometry to study the properties of dust in this system. At wavelengths $\\leq3.1 {\\rm mm}$ the continuum emission from CI Tau is very extended ( $\\geq200 {\\rm au}$ ) and highly substructured (with three gaps, four rings, and two additional gap-ring pairs identified by non-parametric visibility modelling). Instead, the VLA Ka Band data are dominated by a centrally peaked bright component, only partially ( $\\leq 50\\%$ ) due to dust emission, surrounded by a marginally-detected, faint and smooth halo. We fitted the ALMA and VLA Ka Band data together, adopting a physical model that accounts for the effects of dust absorption and scattering. For our fiducial dust composition (\"Ricci\" opacities), we retrieved a flat maximum grain size distribution across the disc radius, with $a_{\\rm max}=(7.1\\pm0.8)\\times10^{-2} {\\rm cm}$ , that we tentatively attributed to fragmentation of fragile dust or bouncing. We tested, for the first time, the dependence of our results on the adopted dust composition model to assess which mixture can best reproduce the observations. We found that the \"Ricci\" opacities work better than the traditionally adopted \"DSHARP\" ones, while graphite-rich mixtures perform significantly worse.        We also show that, for our fiducial composition, the data prefer low porosity ( $\\leq70\\%$ ) grains. This is in contrast with recent claims of highly porous aggregates in younger sources, which we tentatively justified by time-dependent compaction at the fragmentation or bouncing barrier. Our results on composition and porosity are in line with constraints from disc population synthesis models and naturally arise from CI Tau's peculiar spectral behaviour (i.e., the abrupt steepening of its spectral index at wavelengths longer than $3.1 {\\rm mm}$ ), making this disc a unique target to characterise the properties of disc solids, thus ideal for deeper cm-wavelength observations and follow-up dust polarisation studies.\n",
       "\n",
       "</div>\n",
       "\n",
       "<div id=\"div_fig1\">\n",
       "\n",
       "<img src=\"tmp_2507.08797/./image_montage.png\" alt=\"Fig1\" width=\"100%\"/>\n",
       "\n",
       "**Figure 1. -** From top to bottom CI Tau's ALMA Band 7, 6, 3 and VLA Ka Band continuum emission. Left column: \\texttt{CLEAN}ed images. Central column: azimuthally averaged surface brightness radial profiles, in violet for \\texttt{tclean} images and purple for the best fit \\texttt{frank} profiles (a point-source component was subtracted from the 3.1 and $9.1 {\\rm mm}$ visibilities before fitting). Right column: \\texttt{frank} fit residual images; dotted ellipses mark the location of the dark rings in the \\texttt{CLEAN}ed images. The synthesised \\texttt{CLEAN} beam is shown as an ellipse in the bottom left corner of each image, and as a segment with FWHM equal to the beam minor axis, in each radial profile subplot. (*fig:1*)\n",
       "\n",
       "</div>\n",
       "<div id=\"div_fig2\">\n",
       "\n",
       "<img src=\"tmp_2507.08797/./spectral_index.png\" alt=\"Fig3\" width=\"100%\"/>\n",
       "\n",
       "**Figure 3. -** Spectral index radial profiles (solid lines) and their $1\\sigma$ uncertainty (shaded areas). The hatched regions mark those locations where ${\\rm SNR}\\leq5$(left and central panel) and 3 (right panel), for at least one of the emission profiles. The dashed grey lines in each panel display the surface brightness radial profiles combined to determine the spectral index. (*fig:3*)\n",
       "\n",
       "</div>\n",
       "<div id=\"div_fig3\">\n",
       "\n",
       "<img src=\"tmp_2507.08797/./fit_results/results_comparison.png\" alt=\"Fig17\" width=\"100%\"/>\n",
       "\n",
       "**Figure 17. -** Same as in \\autoref{fig:4} but showing a comparison among the best fit results for different compositions: \"Ricci (compact)\" in blue, \"Zubko (BE)\" in turquoise, and \"DSHARP (default)\" in yellow. The highest quality (i.e., lowest $\\chi^2$) fits, obtained adopting the \"Ricci (compact)\" and \"Zubko (BE)\" optical properties, provide similar marginalised posterior distributions for all the parameters (within a factor of 3 for $a_{\\rm max}$ and 2 for $\\Sigma_{\\rm dust}$). (*fig:A12*)\n",
       "\n",
       "</div><div id=\"qrcode\"><img src=https://api.qrserver.com/v1/create-qr-code/?size=100x100&data=\"https://arxiv.org/abs/2507.08797\"></div>"
      ],
      "text/plain": [
       "<IPython.core.display.Markdown object>"
      ]
     },
     "metadata": {},
     "output_type": "display_data"
    }
   ],
   "source": [
    "[display(Markdown(k[1])) for k in documents];"
   ]
  },
  {
   "cell_type": "markdown",
   "id": "873873a4",
   "metadata": {
    "papermill": {
     "duration": 0.005192,
     "end_time": "2025-07-14T04:34:25.359366",
     "exception": false,
     "start_time": "2025-07-14T04:34:25.354174",
     "status": "completed"
    },
    "tags": []
   },
   "source": [
    "# Create HTML index"
   ]
  },
  {
   "cell_type": "code",
   "execution_count": 10,
   "id": "cf665672",
   "metadata": {
    "execution": {
     "iopub.execute_input": "2025-07-14T04:34:25.370405Z",
     "iopub.status.busy": "2025-07-14T04:34:25.370213Z",
     "iopub.status.idle": "2025-07-14T04:34:25.378110Z",
     "shell.execute_reply": "2025-07-14T04:34:25.377431Z"
    },
    "papermill": {
     "duration": 0.014553,
     "end_time": "2025-07-14T04:34:25.379100",
     "exception": false,
     "start_time": "2025-07-14T04:34:25.364547",
     "status": "completed"
    },
    "tags": []
   },
   "outputs": [
    {
     "name": "stdout",
     "output_type": "stream",
     "text": [
      "140  publications files modified in the last 7 days.\n"
     ]
    }
   ],
   "source": [
    "from datetime import datetime, timedelta, timezone\n",
    "from glob import glob\n",
    "import os\n",
    "\n",
    "files = glob('_build/html/*.md')\n",
    "days = 7\n",
    "now = datetime.today()\n",
    "res = []\n",
    "for fk in files:\n",
    "    stat_result = os.stat(fk).st_ctime\n",
    "    modified = datetime.fromtimestamp(stat_result, tz=timezone.utc).replace(tzinfo=None)\n",
    "    delta = now.today() - modified\n",
    "    if delta <= timedelta(days=days):\n",
    "        res.append((delta.seconds, fk))\n",
    "res = [k[1] for k in reversed(sorted(res, key=lambda x:x[1]))]\n",
    "npub = len(res)\n",
    "print(len(res), f\" publications files modified in the last {days:d} days.\")\n",
    "# [ print('\\t', k) for k in res ];"
   ]
  },
  {
   "cell_type": "code",
   "execution_count": 11,
   "id": "015de740",
   "metadata": {
    "execution": {
     "iopub.execute_input": "2025-07-14T04:34:25.390593Z",
     "iopub.status.busy": "2025-07-14T04:34:25.390185Z",
     "iopub.status.idle": "2025-07-14T04:34:25.402544Z",
     "shell.execute_reply": "2025-07-14T04:34:25.401981Z"
    },
    "papermill": {
     "duration": 0.019163,
     "end_time": "2025-07-14T04:34:25.403546",
     "exception": false,
     "start_time": "2025-07-14T04:34:25.384383",
     "status": "completed"
    },
    "tags": []
   },
   "outputs": [
    {
     "name": "stdout",
     "output_type": "stream",
     "text": [
      "17  publications in the last 7 days.\n"
     ]
    }
   ],
   "source": [
    "import datetime\n",
    "from glob import glob\n",
    "\n",
    "def get_last_n_days(lst, days=1):\n",
    "    \"\"\" Get the documents from the last n days \"\"\"\n",
    "    sorted_lst = sorted(lst, key=lambda x: x[1], reverse=True)\n",
    "    for fname, date in sorted_lst:\n",
    "        if date >= str(datetime.date.today() - datetime.timedelta(days=days)):\n",
    "            yield fname\n",
    "\n",
    "def extract_appearance_dates(lst_file):\n",
    "    dates = []\n",
    "\n",
    "    def get_date(line):\n",
    "        return line\\\n",
    "            .split('Appeared on:')[-1]\\\n",
    "            .split('</mark>')[0].strip()\n",
    "\n",
    "    for fname in lst:\n",
    "        with open(fname, 'r') as f:\n",
    "            found_date = False\n",
    "            for line in f:\n",
    "                if not found_date:\n",
    "                    if \"Appeared on\" in line:\n",
    "                        found_date = True\n",
    "                        dates.append((fname, get_date(line)))\n",
    "                else:\n",
    "                    break\n",
    "    return dates\n",
    "\n",
    "from glob import glob\n",
    "lst = glob('_build/html/*md')\n",
    "days = 7\n",
    "dates = extract_appearance_dates(lst)\n",
    "res = list(get_last_n_days(dates, days))\n",
    "npub = len(res)\n",
    "print(len(res), f\" publications in the last {days:d} days.\")"
   ]
  },
  {
   "cell_type": "code",
   "execution_count": 12,
   "id": "52ca0208",
   "metadata": {
    "execution": {
     "iopub.execute_input": "2025-07-14T04:34:25.415371Z",
     "iopub.status.busy": "2025-07-14T04:34:25.414928Z",
     "iopub.status.idle": "2025-07-14T04:34:25.420045Z",
     "shell.execute_reply": "2025-07-14T04:34:25.419481Z"
    },
    "papermill": {
     "duration": 0.012015,
     "end_time": "2025-07-14T04:34:25.421011",
     "exception": false,
     "start_time": "2025-07-14T04:34:25.408996",
     "status": "completed"
    },
    "scrolled": false,
    "tags": []
   },
   "outputs": [],
   "source": [
    "def create_carousel(npub=4):\n",
    "    \"\"\" Generate the HTML code for a carousel with `npub` slides \"\"\"\n",
    "    carousel = [\"\"\"  <div class=\"carousel\" \"\"\",\n",
    "                \"\"\"       data-flickity='{ \"autoPlay\": 10000, \"adaptiveHeight\": true, \"resize\": true, \"wrapAround\": true, \"pauseAutoPlayOnHover\": true, \"groupCells\": 1 }' id=\"asyncTypeset\">\"\"\"\n",
    "                ]\n",
    "    \n",
    "    item_str = \"\"\"    <div class=\"carousel-cell\"> <div id=\"slide{k}\" class=\"md_view\">Content {k}</div> </div>\"\"\"\n",
    "    for k in range(1, npub + 1):\n",
    "        carousel.append(item_str.format(k=k))\n",
    "    carousel.append(\"  </div>\")\n",
    "    return '\\n'.join(carousel)\n",
    "\n",
    "def create_grid(npub=4):\n",
    "    \"\"\" Generate the HTML code for a flat grid with `npub` slides \"\"\"\n",
    "    grid = [\"\"\"  <div class=\"grid\"> \"\"\",\n",
    "                ]\n",
    "    \n",
    "    item_str = \"\"\"    <div class=\"grid-item\"> <div id=\"slide{k}\" class=\"md_view\">Content {k}</div> </div>\"\"\"\n",
    "    for k in range(1, npub + 1):\n",
    "        grid.append(item_str.format(k=k))\n",
    "    grid.append(\"  </div>\")\n",
    "    return '\\n'.join(grid)"
   ]
  },
  {
   "cell_type": "code",
   "execution_count": 13,
   "id": "a6eac5b6",
   "metadata": {
    "execution": {
     "iopub.execute_input": "2025-07-14T04:34:25.432617Z",
     "iopub.status.busy": "2025-07-14T04:34:25.432280Z",
     "iopub.status.idle": "2025-07-14T04:34:25.437535Z",
     "shell.execute_reply": "2025-07-14T04:34:25.436910Z"
    },
    "papermill": {
     "duration": 0.012136,
     "end_time": "2025-07-14T04:34:25.438555",
     "exception": false,
     "start_time": "2025-07-14T04:34:25.426419",
     "status": "completed"
    },
    "scrolled": false,
    "tags": []
   },
   "outputs": [],
   "source": [
    "carousel = create_carousel(npub)\n",
    "docs = ', '.join(['\"{0:s}\"'.format(k.split('/')[-1]) for k in res])\n",
    "slides = ', '.join([f'\"slide{k}\"' for k in range(1, npub + 1)])\n",
    "\n",
    "with open(\"daily_template.html\", \"r\") as tpl:\n",
    "    page = tpl.read()\n",
    "    page = page.replace(\"{%-- carousel:s --%}\", carousel)\\\n",
    "               .replace(\"{%-- suptitle:s --%}\",  \"7-day archives\" )\\\n",
    "               .replace(\"{%-- docs:s --%}\", docs)\\\n",
    "               .replace(\"{%-- slides:s --%}\", slides)\n",
    "    \n",
    "with open(\"_build/html/index_7days.html\", 'w') as fout:\n",
    "    fout.write(page)"
   ]
  },
  {
   "cell_type": "code",
   "execution_count": 14,
   "id": "adc1a1ec",
   "metadata": {
    "execution": {
     "iopub.execute_input": "2025-07-14T04:34:25.450417Z",
     "iopub.status.busy": "2025-07-14T04:34:25.449973Z",
     "iopub.status.idle": "2025-07-14T04:34:25.456222Z",
     "shell.execute_reply": "2025-07-14T04:34:25.455680Z"
    },
    "papermill": {
     "duration": 0.013147,
     "end_time": "2025-07-14T04:34:25.457190",
     "exception": false,
     "start_time": "2025-07-14T04:34:25.444043",
     "status": "completed"
    },
    "tags": []
   },
   "outputs": [
    {
     "name": "stdout",
     "output_type": "stream",
     "text": [
      "2  publications in the last day.\n"
     ]
    }
   ],
   "source": [
    "# redo for today\n",
    "days = 1\n",
    "res = list(get_last_n_days(dates, days))\n",
    "npub = len(res)\n",
    "print(len(res), f\" publications in the last day.\")\n",
    "\n",
    "carousel = create_carousel(npub)\n",
    "docs = ', '.join(['\"{0:s}\"'.format(k.split('/')[-1]) for k in res])\n",
    "slides = ', '.join([f'\"slide{k}\"' for k in range(1, npub + 1)])\n",
    "\n",
    "with open(\"daily_template.html\", \"r\") as tpl:\n",
    "    page = tpl.read()\n",
    "    page = page.replace(\"{%-- carousel:s --%}\", carousel)\\\n",
    "               .replace(\"{%-- suptitle:s --%}\",  \"Daily\" )\\\n",
    "               .replace(\"{%-- docs:s --%}\", docs)\\\n",
    "               .replace(\"{%-- slides:s --%}\", slides)\n",
    "    \n",
    "# print(carousel, docs, slides)\n",
    "# print(page)\n",
    "with open(\"_build/html/index_daily.html\", 'w') as fout:\n",
    "    fout.write(page)"
   ]
  },
  {
   "cell_type": "code",
   "execution_count": 15,
   "id": "00eece82",
   "metadata": {
    "execution": {
     "iopub.execute_input": "2025-07-14T04:34:25.469045Z",
     "iopub.status.busy": "2025-07-14T04:34:25.468839Z",
     "iopub.status.idle": "2025-07-14T04:34:25.475512Z",
     "shell.execute_reply": "2025-07-14T04:34:25.474850Z"
    },
    "papermill": {
     "duration": 0.013773,
     "end_time": "2025-07-14T04:34:25.476569",
     "exception": false,
     "start_time": "2025-07-14T04:34:25.462796",
     "status": "completed"
    },
    "scrolled": false,
    "tags": []
   },
   "outputs": [
    {
     "name": "stdout",
     "output_type": "stream",
     "text": [
      "6  6 publications selected.\n"
     ]
    }
   ],
   "source": [
    "# Create the flat grid of the last N papers (fixed number regardless of dates)\n",
    "from itertools import islice \n",
    "\n",
    "npub = 6\n",
    "res = [k[0] for k in (islice(reversed(sorted(dates, key=lambda x: x[1])), 6))]\n",
    "print(len(res), f\" {npub} publications selected.\")\n",
    "\n",
    "grid = create_grid(npub)\n",
    "docs = ', '.join(['\"{0:s}\"'.format(k.split('/')[-1]) for k in res])\n",
    "slides = ', '.join([f'\"slide{k}\"' for k in range(1, npub + 1)])\n",
    "\n",
    "with open(\"grid_template.html\", \"r\") as tpl:\n",
    "    page = tpl.read()\n",
    "    page = page.replace(\"{%-- grid-content:s --%}\", grid)\\\n",
    "               .replace(\"{%-- suptitle:s --%}\",  f\"Last {npub:,d} papers\" )\\\n",
    "               .replace(\"{%-- docs:s --%}\", docs)\\\n",
    "               .replace(\"{%-- slides:s --%}\", slides)\n",
    "    \n",
    "# print(grid, docs, slides)\n",
    "# print(page)\n",
    "with open(\"_build/html/index_npub_grid.html\", 'w') as fout:\n",
    "    fout.write(page)"
   ]
  }
 ],
 "metadata": {
  "kernelspec": {
   "display_name": "Python 3 (ipykernel)",
   "language": "python",
   "name": "python3"
  },
  "language_info": {
   "codemirror_mode": {
    "name": "ipython",
    "version": 3
   },
   "file_extension": ".py",
   "mimetype": "text/x-python",
   "name": "python",
   "nbconvert_exporter": "python",
   "pygments_lexer": "ipython3",
   "version": "3.9.23"
  },
  "papermill": {
   "default_parameters": {},
   "duration": 78.524611,
   "end_time": "2025-07-14T04:34:25.798315",
   "environment_variables": {},
   "exception": null,
   "input_path": "MPIA daily digest.ipynb",
   "output_path": "log.ipynb",
   "parameters": {},
   "start_time": "2025-07-14T04:33:07.273704",
   "version": "2.6.0"
  },
  "vscode": {
   "interpreter": {
    "hash": "aee8b7b246df8f9039afb4144a1f6fd8d2ca17a180786b69acc140d282b71a49"
   }
  },
  "widgets": {
   "application/vnd.jupyter.widget-state+json": {
    "state": {
     "023453141c9e400b98c9d5c92eee2151": {
      "model_module": "@jupyter-widgets/base",
      "model_module_version": "2.0.0",
      "model_name": "LayoutModel",
      "state": {
       "_model_module": "@jupyter-widgets/base",
       "_model_module_version": "2.0.0",
       "_model_name": "LayoutModel",
       "_view_count": null,
       "_view_module": "@jupyter-widgets/base",
       "_view_module_version": "2.0.0",
       "_view_name": "LayoutView",
       "align_content": null,
       "align_items": null,
       "align_self": null,
       "border_bottom": null,
       "border_left": null,
       "border_right": null,
       "border_top": null,
       "bottom": null,
       "display": null,
       "flex": null,
       "flex_flow": null,
       "grid_area": null,
       "grid_auto_columns": null,
       "grid_auto_flow": null,
       "grid_auto_rows": null,
       "grid_column": null,
       "grid_gap": null,
       "grid_row": null,
       "grid_template_areas": null,
       "grid_template_columns": null,
       "grid_template_rows": null,
       "height": null,
       "justify_content": null,
       "justify_items": null,
       "left": null,
       "margin": null,
       "max_height": null,
       "max_width": null,
       "min_height": null,
       "min_width": null,
       "object_fit": null,
       "object_position": null,
       "order": null,
       "overflow": null,
       "padding": null,
       "right": null,
       "top": null,
       "visibility": null,
       "width": null
      }
     },
     "10a527bd6b82498ba5f4db70d3af25d2": {
      "model_module": "@jupyter-widgets/controls",
      "model_module_version": "2.0.0",
      "model_name": "FloatProgressModel",
      "state": {
       "_dom_classes": [],
       "_model_module": "@jupyter-widgets/controls",
       "_model_module_version": "2.0.0",
       "_model_name": "FloatProgressModel",
       "_view_count": null,
       "_view_module": "@jupyter-widgets/controls",
       "_view_module_version": "2.0.0",
       "_view_name": "ProgressView",
       "bar_style": "success",
       "description": "",
       "description_allow_html": false,
       "layout": "IPY_MODEL_66d342f8c836451f9f17d2688fcc31b6",
       "max": 7.0,
       "min": 0.0,
       "orientation": "horizontal",
       "style": "IPY_MODEL_e85a93ceeadd4e22b9995ebb4146f095",
       "tabbable": null,
       "tooltip": null,
       "value": 7.0
      }
     },
     "1b24829887fa4f919a39d75dcb4e22d7": {
      "model_module": "@jupyter-widgets/controls",
      "model_module_version": "2.0.0",
      "model_name": "HTMLStyleModel",
      "state": {
       "_model_module": "@jupyter-widgets/controls",
       "_model_module_version": "2.0.0",
       "_model_name": "HTMLStyleModel",
       "_view_count": null,
       "_view_module": "@jupyter-widgets/base",
       "_view_module_version": "2.0.0",
       "_view_name": "StyleView",
       "background": null,
       "description_width": "",
       "font_size": null,
       "text_color": null
      }
     },
     "5df589e38f0042d68ccc2ba2bf516713": {
      "model_module": "@jupyter-widgets/controls",
      "model_module_version": "2.0.0",
      "model_name": "HTMLStyleModel",
      "state": {
       "_model_module": "@jupyter-widgets/controls",
       "_model_module_version": "2.0.0",
       "_model_name": "HTMLStyleModel",
       "_view_count": null,
       "_view_module": "@jupyter-widgets/base",
       "_view_module_version": "2.0.0",
       "_view_name": "StyleView",
       "background": null,
       "description_width": "",
       "font_size": null,
       "text_color": null
      }
     },
     "62575f30cf904b218cf83d378f5e7236": {
      "model_module": "@jupyter-widgets/base",
      "model_module_version": "2.0.0",
      "model_name": "LayoutModel",
      "state": {
       "_model_module": "@jupyter-widgets/base",
       "_model_module_version": "2.0.0",
       "_model_name": "LayoutModel",
       "_view_count": null,
       "_view_module": "@jupyter-widgets/base",
       "_view_module_version": "2.0.0",
       "_view_name": "LayoutView",
       "align_content": null,
       "align_items": null,
       "align_self": null,
       "border_bottom": null,
       "border_left": null,
       "border_right": null,
       "border_top": null,
       "bottom": null,
       "display": null,
       "flex": null,
       "flex_flow": null,
       "grid_area": null,
       "grid_auto_columns": null,
       "grid_auto_flow": null,
       "grid_auto_rows": null,
       "grid_column": null,
       "grid_gap": null,
       "grid_row": null,
       "grid_template_areas": null,
       "grid_template_columns": null,
       "grid_template_rows": null,
       "height": null,
       "justify_content": null,
       "justify_items": null,
       "left": null,
       "margin": null,
       "max_height": null,
       "max_width": null,
       "min_height": null,
       "min_width": null,
       "object_fit": null,
       "object_position": null,
       "order": null,
       "overflow": null,
       "padding": null,
       "right": null,
       "top": null,
       "visibility": null,
       "width": null
      }
     },
     "66d342f8c836451f9f17d2688fcc31b6": {
      "model_module": "@jupyter-widgets/base",
      "model_module_version": "2.0.0",
      "model_name": "LayoutModel",
      "state": {
       "_model_module": "@jupyter-widgets/base",
       "_model_module_version": "2.0.0",
       "_model_name": "LayoutModel",
       "_view_count": null,
       "_view_module": "@jupyter-widgets/base",
       "_view_module_version": "2.0.0",
       "_view_name": "LayoutView",
       "align_content": null,
       "align_items": null,
       "align_self": null,
       "border_bottom": null,
       "border_left": null,
       "border_right": null,
       "border_top": null,
       "bottom": null,
       "display": null,
       "flex": null,
       "flex_flow": null,
       "grid_area": null,
       "grid_auto_columns": null,
       "grid_auto_flow": null,
       "grid_auto_rows": null,
       "grid_column": null,
       "grid_gap": null,
       "grid_row": null,
       "grid_template_areas": null,
       "grid_template_columns": null,
       "grid_template_rows": null,
       "height": null,
       "justify_content": null,
       "justify_items": null,
       "left": null,
       "margin": null,
       "max_height": null,
       "max_width": null,
       "min_height": null,
       "min_width": null,
       "object_fit": null,
       "object_position": null,
       "order": null,
       "overflow": null,
       "padding": null,
       "right": null,
       "top": null,
       "visibility": null,
       "width": null
      }
     },
     "974b53d4acb549b5966349040ec56d26": {
      "model_module": "@jupyter-widgets/controls",
      "model_module_version": "2.0.0",
      "model_name": "HTMLModel",
      "state": {
       "_dom_classes": [],
       "_model_module": "@jupyter-widgets/controls",
       "_model_module_version": "2.0.0",
       "_model_name": "HTMLModel",
       "_view_count": null,
       "_view_module": "@jupyter-widgets/controls",
       "_view_module_version": "2.0.0",
       "_view_name": "HTMLView",
       "description": "",
       "description_allow_html": false,
       "layout": "IPY_MODEL_023453141c9e400b98c9d5c92eee2151",
       "placeholder": "​",
       "style": "IPY_MODEL_1b24829887fa4f919a39d75dcb4e22d7",
       "tabbable": null,
       "tooltip": null,
       "value": " 7/7 [00:56&lt;00:00, 14.91s/it]"
      }
     },
     "b585ea9bb08141928a1fb2ab9f4dc798": {
      "model_module": "@jupyter-widgets/controls",
      "model_module_version": "2.0.0",
      "model_name": "HBoxModel",
      "state": {
       "_dom_classes": [],
       "_model_module": "@jupyter-widgets/controls",
       "_model_module_version": "2.0.0",
       "_model_name": "HBoxModel",
       "_view_count": null,
       "_view_module": "@jupyter-widgets/controls",
       "_view_module_version": "2.0.0",
       "_view_name": "HBoxView",
       "box_style": "",
       "children": [
        "IPY_MODEL_e33ee8a3f340497da0b7659122bdf32d",
        "IPY_MODEL_10a527bd6b82498ba5f4db70d3af25d2",
        "IPY_MODEL_974b53d4acb549b5966349040ec56d26"
       ],
       "layout": "IPY_MODEL_f8681608bb5f4429ade2f252f65b96a7",
       "tabbable": null,
       "tooltip": null
      }
     },
     "e33ee8a3f340497da0b7659122bdf32d": {
      "model_module": "@jupyter-widgets/controls",
      "model_module_version": "2.0.0",
      "model_name": "HTMLModel",
      "state": {
       "_dom_classes": [],
       "_model_module": "@jupyter-widgets/controls",
       "_model_module_version": "2.0.0",
       "_model_name": "HTMLModel",
       "_view_count": null,
       "_view_module": "@jupyter-widgets/controls",
       "_view_module_version": "2.0.0",
       "_view_name": "HTMLView",
       "description": "",
       "description_allow_html": false,
       "layout": "IPY_MODEL_62575f30cf904b218cf83d378f5e7236",
       "placeholder": "​",
       "style": "IPY_MODEL_5df589e38f0042d68ccc2ba2bf516713",
       "tabbable": null,
       "tooltip": null,
       "value": "100%"
      }
     },
     "e85a93ceeadd4e22b9995ebb4146f095": {
      "model_module": "@jupyter-widgets/controls",
      "model_module_version": "2.0.0",
      "model_name": "ProgressStyleModel",
      "state": {
       "_model_module": "@jupyter-widgets/controls",
       "_model_module_version": "2.0.0",
       "_model_name": "ProgressStyleModel",
       "_view_count": null,
       "_view_module": "@jupyter-widgets/base",
       "_view_module_version": "2.0.0",
       "_view_name": "StyleView",
       "bar_color": null,
       "description_width": ""
      }
     },
     "f8681608bb5f4429ade2f252f65b96a7": {
      "model_module": "@jupyter-widgets/base",
      "model_module_version": "2.0.0",
      "model_name": "LayoutModel",
      "state": {
       "_model_module": "@jupyter-widgets/base",
       "_model_module_version": "2.0.0",
       "_model_name": "LayoutModel",
       "_view_count": null,
       "_view_module": "@jupyter-widgets/base",
       "_view_module_version": "2.0.0",
       "_view_name": "LayoutView",
       "align_content": null,
       "align_items": null,
       "align_self": null,
       "border_bottom": null,
       "border_left": null,
       "border_right": null,
       "border_top": null,
       "bottom": null,
       "display": null,
       "flex": null,
       "flex_flow": null,
       "grid_area": null,
       "grid_auto_columns": null,
       "grid_auto_flow": null,
       "grid_auto_rows": null,
       "grid_column": null,
       "grid_gap": null,
       "grid_row": null,
       "grid_template_areas": null,
       "grid_template_columns": null,
       "grid_template_rows": null,
       "height": null,
       "justify_content": null,
       "justify_items": null,
       "left": null,
       "margin": null,
       "max_height": null,
       "max_width": null,
       "min_height": null,
       "min_width": null,
       "object_fit": null,
       "object_position": null,
       "order": null,
       "overflow": null,
       "padding": null,
       "right": null,
       "top": null,
       "visibility": null,
       "width": null
      }
     }
    },
    "version_major": 2,
    "version_minor": 0
   }
  }
 },
 "nbformat": 4,
 "nbformat_minor": 5
}