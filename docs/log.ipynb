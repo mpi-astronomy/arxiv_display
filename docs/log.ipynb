{
 "cells": [
  {
   "cell_type": "markdown",
   "id": "92bcb855",
   "metadata": {
    "papermill": {
     "duration": 0.003892,
     "end_time": "2025-05-15T04:13:51.339560",
     "exception": false,
     "start_time": "2025-05-15T04:13:51.335668",
     "status": "completed"
    },
    "tags": []
   },
   "source": [
    "# MPIA Arxiv on Deck 2\n",
    "\n",
    "Contains the steps to produce the paper extractions."
   ]
  },
  {
   "cell_type": "code",
   "execution_count": 1,
   "id": "3a0d6e11",
   "metadata": {
    "execution": {
     "iopub.execute_input": "2025-05-15T04:13:51.347189Z",
     "iopub.status.busy": "2025-05-15T04:13:51.346898Z",
     "iopub.status.idle": "2025-05-15T04:13:51.861018Z",
     "shell.execute_reply": "2025-05-15T04:13:51.860310Z"
    },
    "papermill": {
     "duration": 0.519525,
     "end_time": "2025-05-15T04:13:51.862437",
     "exception": false,
     "start_time": "2025-05-15T04:13:51.342912",
     "status": "completed"
    },
    "tags": []
   },
   "outputs": [],
   "source": [
    "# Imports\n",
    "import os\n",
    "from IPython.display import Markdown, display\n",
    "from tqdm.notebook import tqdm\n",
    "import warnings\n",
    "from PIL import Image \n",
    "import re\n",
    "\n",
    "# requires arxiv_on_deck_2\n",
    "\n",
    "from arxiv_on_deck_2.arxiv2 import (get_new_papers, \n",
    "                                    get_paper_from_identifier,\n",
    "                                    retrieve_document_source, \n",
    "                                    get_markdown_badge)\n",
    "from arxiv_on_deck_2 import (latex,\n",
    "                             latex_bib,\n",
    "                             mpia,\n",
    "                             highlight_authors_in_list)\n",
    "\n",
    "# Sometimes images are really big\n",
    "Image.MAX_IMAGE_PIXELS = 1000000000 "
   ]
  },
  {
   "cell_type": "code",
   "execution_count": 2,
   "id": "22aa9d44",
   "metadata": {
    "execution": {
     "iopub.execute_input": "2025-05-15T04:13:51.869949Z",
     "iopub.status.busy": "2025-05-15T04:13:51.869578Z",
     "iopub.status.idle": "2025-05-15T04:13:51.877990Z",
     "shell.execute_reply": "2025-05-15T04:13:51.877397Z"
    },
    "papermill": {
     "duration": 0.013308,
     "end_time": "2025-05-15T04:13:51.879034",
     "exception": false,
     "start_time": "2025-05-15T04:13:51.865726",
     "status": "completed"
    },
    "tags": []
   },
   "outputs": [],
   "source": [
    "# Some useful definitions.\n",
    "\n",
    "class AffiliationWarning(UserWarning):\n",
    "    pass\n",
    "\n",
    "class AffiliationError(RuntimeError):\n",
    "    pass\n",
    "\n",
    "def validation(source: str):\n",
    "    \"\"\"Raises error paper during parsing of source file\n",
    "    \n",
    "    Allows checks before parsing TeX code.\n",
    "    \n",
    "    Raises AffiliationWarning\n",
    "    \"\"\"\n",
    "    check = mpia.affiliation_verifications(source, verbose=True)\n",
    "    if check is not True:\n",
    "        raise AffiliationError(\"mpia.affiliation_verifications: \" + check)\n",
    "\n",
    "        \n",
    "warnings.simplefilter('always', AffiliationWarning)\n",
    "\n",
    "\n",
    "def get_markdown_qrcode(paper_id: str):\n",
    "    \"\"\" Generate a qrcode to the arxiv page using qrserver.com\n",
    "    \n",
    "    :param paper: Arxiv paper\n",
    "    :returns: markdown text\n",
    "    \"\"\"\n",
    "    url = r\"https://api.qrserver.com/v1/create-qr-code/?size=100x100&data=\"\n",
    "    txt = f\"\"\"<img src={url}\"https://arxiv.org/abs/{paper_id}\">\"\"\"\n",
    "    txt = '<div id=\"qrcode\">' + txt + '</div>'\n",
    "    return txt\n",
    "\n",
    "\n",
    "def clean_non_western_encoded_characters_commands(text: str) -> str:\n",
    "    \"\"\" Remove non-western encoded characters from a string\n",
    "    List may need to grow.\n",
    "    \n",
    "    :param text: the text to clean\n",
    "    :return: the cleaned text\n",
    "    \"\"\"\n",
    "    text = re.sub(r\"(\\\\begin{CJK}{UTF8}{gbsn})(.*?)(\\\\end{CJK})\", r\"\\2\", text)\n",
    "    return text\n",
    "\n",
    "\n",
    "def get_initials(name: str) -> str:\n",
    "    \"\"\" Get the short name, e.g., A.-B. FamName\n",
    "    :param name: full name\n",
    "    :returns: initials\n",
    "    \"\"\"\n",
    "    initials = []\n",
    "    # account for non western names often in ()\n",
    "    if '(' in name:\n",
    "        name = clean_non_western_encoded_characters_commands(name)\n",
    "        suffix = re.findall(r\"\\((.*?)\\)\", name)[0]\n",
    "        name = name.replace(f\"({suffix})\", '')\n",
    "    else:\n",
    "        suffix = ''\n",
    "    split = name.split()\n",
    "    for token in split[:-1]:\n",
    "        if '-' in token:\n",
    "            current = '-'.join([k[0] + '.' for k in token.split('-')])\n",
    "        else:\n",
    "            current = token[0] + '.'\n",
    "        initials.append(current)\n",
    "    initials.append(split[-1].strip())\n",
    "    if suffix:\n",
    "        initials.append(f\"({suffix})\")\n",
    "    return ' '.join(initials)"
   ]
  },
  {
   "cell_type": "markdown",
   "id": "14bd6310",
   "metadata": {
    "papermill": {
     "duration": 0.002912,
     "end_time": "2025-05-15T04:13:51.885000",
     "exception": false,
     "start_time": "2025-05-15T04:13:51.882088",
     "status": "completed"
    },
    "tags": []
   },
   "source": [
    "## get list of arxiv paper candidates\n",
    "\n",
    "We use the MPIA mitarbeiter list webpage from mpia.de to get author names\n",
    "We then get all new papers from Arxiv and match authors"
   ]
  },
  {
   "cell_type": "code",
   "execution_count": 3,
   "id": "7ea813a8",
   "metadata": {
    "execution": {
     "iopub.execute_input": "2025-05-15T04:13:51.891971Z",
     "iopub.status.busy": "2025-05-15T04:13:51.891544Z",
     "iopub.status.idle": "2025-05-15T04:14:13.717771Z",
     "shell.execute_reply": "2025-05-15T04:14:13.717110Z"
    },
    "papermill": {
     "duration": 21.831161,
     "end_time": "2025-05-15T04:14:13.719072",
     "exception": false,
     "start_time": "2025-05-15T04:13:51.887911",
     "status": "completed"
    },
    "tags": []
   },
   "outputs": [],
   "source": [
    "# deal with the author list and edge cases of people that cannot be consistent on their name  \n",
    "\n",
    "def filter_non_scientists(name: str) -> bool:\n",
    "    \"\"\" Loose filter on expected authorships\n",
    "\n",
    "    removing IT, administration, technical staff\n",
    "    :param name: name\n",
    "    :returns: False if name is not a scientist\n",
    "    \"\"\"\n",
    "    remove_list = ['Licht', 'Binroth', 'Witzel', 'Jordan',\n",
    "                   'Zähringer', 'Scheerer', 'Hoffmann', 'Düe',\n",
    "                   'Hellmich', 'Enkler-Scharpegge', 'Witte-Nguy',\n",
    "                   'Dehen', 'Beckmann', 'Jager', 'Jäger'\n",
    "                  ]\n",
    "\n",
    "    for k in remove_list:\n",
    "        if k in name:\n",
    "            return False\n",
    "    return True\n",
    "\n",
    "def add_author_to_list(author_list: list) -> list:\n",
    "    \"\"\" Add author to list if not already in list\n",
    "    \n",
    "    :param author: author name\n",
    "    :param author_list: list of authors\n",
    "    :returns: updated list of authors\n",
    "    \"\"\"\n",
    "    add_list = ['T. Henning']\n",
    "\n",
    "    for author in add_list:\n",
    "        if author not in author_list:\n",
    "            author_list.append(author)\n",
    "    return author_list\n",
    "\n",
    "# get list from MPIA website\n",
    "# filter for non-scientists (mpia.get_mpia_mitarbeiter_list() does some filtering)\n",
    "mpia_authors = [k[1] for k in mpia.get_mpia_mitarbeiter_list() if filter_non_scientists(k[1])]\n",
    "# add some missing author because of inconsistencies in their MPIA name and author name on papers\n",
    "mpia_authors = add_author_to_list(mpia_authors)"
   ]
  },
  {
   "cell_type": "code",
   "execution_count": 4,
   "id": "2645e73a",
   "metadata": {
    "execution": {
     "iopub.execute_input": "2025-05-15T04:14:13.726671Z",
     "iopub.status.busy": "2025-05-15T04:14:13.726194Z",
     "iopub.status.idle": "2025-05-15T04:14:14.537840Z",
     "shell.execute_reply": "2025-05-15T04:14:14.537075Z"
    },
    "papermill": {
     "duration": 0.816482,
     "end_time": "2025-05-15T04:14:14.538904",
     "exception": false,
     "start_time": "2025-05-15T04:14:13.722422",
     "status": "completed"
    },
    "tags": []
   },
   "outputs": [
    {
     "name": "stdout",
     "output_type": "stream",
     "text": [
      "H. Jiang  ->  H. Jiang  |  ['H. Jiang']\n",
      "Y. Wang  ->  Y. Wang  |  ['Y. Wang']\n",
      "B. Maity  ->  B. Maity  |  ['B. Maity']\n",
      "F. Davies  ->  F. Davies  |  ['F. Davies']\n",
      "Arxiv has 67 new papers today\n",
      "          3 with possible author matches\n"
     ]
    }
   ],
   "source": [
    "new_papers = get_new_papers()\n",
    "# add manual references\n",
    "add_paper_refs = []\n",
    "new_papers.extend([get_paper_from_identifier(k) for k in add_paper_refs])\n",
    "\n",
    "def robust_call(fn, value, *args, **kwargs):\n",
    "    try:\n",
    "        return fn(value, *args, **kwargs)\n",
    "    except Exception:\n",
    "        return value\n",
    "\n",
    "candidates = []\n",
    "for paperk in new_papers:\n",
    "    # Check author list with their initials\n",
    "    normed_author_list = [robust_call(mpia.get_initials, k) for k in paperk['authors']]\n",
    "    hl_authors = highlight_authors_in_list(normed_author_list, mpia_authors, verbose=True)\n",
    "    matches = [(hl, orig) for hl, orig in zip(hl_authors, paperk['authors']) if 'mark' in hl]\n",
    "    paperk['authors'] = hl_authors\n",
    "    if matches:\n",
    "        # only select paper if an author matched our list\n",
    "        candidates.append(paperk)\n",
    "print(\"\"\"Arxiv has {0:,d} new papers today\"\"\".format(len(new_papers)))        \n",
    "print(\"\"\"          {0:,d} with possible author matches\"\"\".format(len(candidates)))"
   ]
  },
  {
   "cell_type": "markdown",
   "id": "3543b34a",
   "metadata": {
    "papermill": {
     "duration": 0.00307,
     "end_time": "2025-05-15T04:14:14.545502",
     "exception": false,
     "start_time": "2025-05-15T04:14:14.542432",
     "status": "completed"
    },
    "tags": []
   },
   "source": [
    "# Parse sources and generate relevant outputs\n",
    "\n",
    "From the candidates, we do the following steps:\n",
    "* get their tarball from ArXiv (and extract data)\n",
    "* find the main .tex file: find one with \\documentclass{...} (sometimes it's non trivial)\n",
    "* Check affiliations with :func:`validation`, which uses :func:`mpia.affiliation_verifications`\n",
    "* If passing the affiliations: we parse the .tex source\n",
    "   * inject sub-documents into the main (flatten the main document)\n",
    "   * parse structure, extract information (title, abstract, authors, figures...)\n",
    "   * handles `\\graphicspath` if provided\n",
    "* Generate the .md document."
   ]
  },
  {
   "cell_type": "code",
   "execution_count": 5,
   "id": "9576b79e",
   "metadata": {
    "execution": {
     "iopub.execute_input": "2025-05-15T04:14:14.552670Z",
     "iopub.status.busy": "2025-05-15T04:14:14.552411Z",
     "iopub.status.idle": "2025-05-15T04:14:58.445654Z",
     "shell.execute_reply": "2025-05-15T04:14:58.444869Z"
    },
    "papermill": {
     "duration": 43.901925,
     "end_time": "2025-05-15T04:14:58.450528",
     "exception": false,
     "start_time": "2025-05-15T04:14:14.548603",
     "status": "completed"
    },
    "scrolled": false,
    "tags": []
   },
   "outputs": [
    {
     "data": {
      "application/vnd.jupyter.widget-view+json": {
       "model_id": "27d92e21b12747c38fafbf3ebc16a44d",
       "version_major": 2,
       "version_minor": 0
      },
      "text/plain": [
       "  0%|          | 0/3 [00:00<?, ?it/s]"
      ]
     },
     "metadata": {},
     "output_type": "display_data"
    },
    {
     "name": "stdout",
     "output_type": "stream",
     "text": [
      "Retrieving document from  https://arxiv.org/e-print/2505.09107\n"
     ]
    },
    {
     "name": "stdout",
     "output_type": "stream",
     "text": [
      "extracting tarball to tmp_2505.09107... done.\n",
      "Retrieving document from  https://arxiv.org/e-print/2505.09148\n"
     ]
    },
    {
     "name": "stdout",
     "output_type": "stream",
     "text": [
      "extracting tarball to tmp_2505.09148..."
     ]
    },
    {
     "name": "stdout",
     "output_type": "stream",
     "text": [
      " done.\n",
      "Retrieving document from  https://arxiv.org/e-print/2505.09369\n"
     ]
    },
    {
     "name": "stdout",
     "output_type": "stream",
     "text": [
      "extracting tarball to tmp_2505.09369..."
     ]
    },
    {
     "name": "stdout",
     "output_type": "stream",
     "text": [
      " done.\n"
     ]
    },
    {
     "name": "stderr",
     "output_type": "stream",
     "text": [
      "/opt/hostedtoolcache/Python/3.9.22/x64/lib/python3.9/site-packages/arxiv_on_deck_2/latex.py:488: LatexWarning: Error parsing the document directly. Trying to recover.\n",
      "  warnings.warn(LatexWarning(f\"Error parsing the document directly. Trying to recover.\"))\n"
     ]
    },
    {
     "name": "stdout",
     "output_type": "stream",
     "text": [
      "✔ → 0:header\n",
      "  ↳ 4019:\\section{Introduction}\n",
      "✔ → 4019:\\section{Introduction}\n",
      "  ↳ 12833:\\section{Formalism}\n"
     ]
    },
    {
     "name": "stdout",
     "output_type": "stream",
     "text": [
      "✔ → 12833:\\section{Formalism}\n",
      "  ↳ 37627:\\section{Demonstration with Fiducial Model}\n"
     ]
    },
    {
     "name": "stdout",
     "output_type": "stream",
     "text": [
      "✔ → 37627:\\section{Demonstration with Fiducial Model}\n",
      "  ↳ 45161:\\section{Observational Data \\& Likelihood Analysis}\n"
     ]
    },
    {
     "name": "stdout",
     "output_type": "stream",
     "text": [
      "✔ → 45161:\\section{Observational Data \\& Likelihood Analysis}\n",
      "  ↳ 52006:\\section{Results \\& Interpretations}\\label{sec:results}\n"
     ]
    },
    {
     "name": "stdout",
     "output_type": "stream",
     "text": [
      "✔ → 52006:\\section{Results \\& Interpretations}\\label{sec:results}\n",
      "  ↳ 63446:\\section{Summary \\& Conclusions}\\label{sec:summary}\n",
      "✔ → 63446:\\section{Summary \\& Conclusions}\\label{sec:summary}\n",
      "  ↳ 67683:\\section{Justification for Gaussian likelihood}\n",
      "✔ → 67683:\\section{Justification for Gaussian likelihood}\n",
      "  ↳ 68549:end\n"
     ]
    },
    {
     "name": "stdout",
     "output_type": "stream",
     "text": [
      "Found 67 bibliographic references in tmp_2505.09369/aanda.bbl.\n",
      "Issues with the citations\n",
      "syntax error in line 345: '}' expected\n"
     ]
    }
   ],
   "source": [
    "documents = []\n",
    "failed = []\n",
    "for paper in tqdm(candidates):\n",
    "    # debug crap\n",
    "    paper['identifier'] = paper['identifier'].lower().replace('arxiv:', '').replace(r'\\n', '').strip()\n",
    "    paper_id = paper['identifier']\n",
    "    \n",
    "    folder = f'tmp_{paper_id}'\n",
    "\n",
    "    try:\n",
    "        if not os.path.isdir(folder):\n",
    "            folder = retrieve_document_source(f\"{paper_id}\", f'tmp_{paper_id}')\n",
    "        \n",
    "        try:\n",
    "            doc = latex.LatexDocument(folder, validation=validation)    \n",
    "        except AffiliationError as affilerror:\n",
    "            msg = f\"ArXiv:{paper_id:s} is not an MPIA paper... \" + str(affilerror)\n",
    "            failed.append((paper, \"affiliation error: \" + str(affilerror) ))\n",
    "            continue\n",
    "        \n",
    "        # Hack because sometimes author parsing does not work well\n",
    "        if (len(doc.authors) != len(paper['authors'])):\n",
    "            doc._authors = paper['authors']\n",
    "        else:\n",
    "            # highlight authors (FIXME: doc.highlight_authors)\n",
    "            # done on arxiv paper already\n",
    "            doc._authors = highlight_authors_in_list(\n",
    "                [get_initials(k) for k in doc.authors], \n",
    "                mpia_authors, verbose=True)\n",
    "        if (doc.abstract) in (None, ''):\n",
    "            doc._abstract = paper['abstract']\n",
    "            \n",
    "        doc.comment = (get_markdown_badge(paper_id) + \n",
    "                       \"<mark>Appeared on: \" + paper['date'] + \"</mark> - \")\n",
    "        if paper['comments']:\n",
    "            doc.comment += \" _\" + paper['comments'] + \"_\"\n",
    "        \n",
    "        full_md = doc.generate_markdown_text()\n",
    "        \n",
    "        full_md += get_markdown_qrcode(paper_id)\n",
    "        \n",
    "        # replace citations\n",
    "        try:\n",
    "            bibdata = latex_bib.LatexBib.from_doc(doc)\n",
    "            full_md = latex_bib.replace_citations(full_md, bibdata)\n",
    "        except Exception as e:\n",
    "            print(\"Issues with the citations\")\n",
    "            print(e)\n",
    "        \n",
    "        documents.append((paper_id, full_md))\n",
    "    except Exception as e:\n",
    "        warnings.warn(latex.LatexWarning(f\"{paper_id:s} did not run properly\\n\" +\n",
    "                                         str(e)\n",
    "                                        ))\n",
    "        failed.append((paper, \"latex error \" + str(e)))"
   ]
  },
  {
   "cell_type": "markdown",
   "id": "2505a25c",
   "metadata": {
    "papermill": {
     "duration": 0.003847,
     "end_time": "2025-05-15T04:14:58.458369",
     "exception": false,
     "start_time": "2025-05-15T04:14:58.454522",
     "status": "completed"
    },
    "tags": []
   },
   "source": [
    "### Export the logs\n",
    "\n",
    "Throughout, we also keep track of the logs per paper. see `logs-{today date}.md` "
   ]
  },
  {
   "cell_type": "code",
   "execution_count": 6,
   "id": "d733828a",
   "metadata": {
    "execution": {
     "iopub.execute_input": "2025-05-15T04:14:58.467287Z",
     "iopub.status.busy": "2025-05-15T04:14:58.467015Z",
     "iopub.status.idle": "2025-05-15T04:14:58.480959Z",
     "shell.execute_reply": "2025-05-15T04:14:58.480305Z"
    },
    "papermill": {
     "duration": 0.019718,
     "end_time": "2025-05-15T04:14:58.481937",
     "exception": false,
     "start_time": "2025-05-15T04:14:58.462219",
     "status": "completed"
    },
    "scrolled": false,
    "tags": []
   },
   "outputs": [
    {
     "data": {
      "text/markdown": [
       "## Successful papers"
      ],
      "text/plain": [
       "<IPython.core.display.Markdown object>"
      ]
     },
     "metadata": {},
     "output_type": "display_data"
    },
    {
     "data": {
      "text/markdown": [
       "\n",
       "|||\n",
       "|---:|:---|\n",
       "| [![arXiv](https://img.shields.io/badge/arXiv-2505.09369-b31b1b.svg)](https://arxiv.org/abs/2505.09369) | **Efficient Modelling of Lyman-α opacity fluctuations during late EoR**  |\n",
       "|| <mark>B. Maity</mark>, <mark>F. Davies</mark>, P. Gaikwad |\n",
       "|*Appeared on*| *2025-05-15*|\n",
       "|*Comments*| *submitted to A&A*|\n",
       "|**Abstract**|            The Lyman-$\\alpha$ forest opacity fluctuations observed from high redshift quasar spectra have been proven to be extremely successful in order to probe the late phase of the reionization epoch. For ideal modeling of these opacity fluctuations, one of the main challenges is to satisfy the extremely high dynamic range requirements of the simulation box, resolving the Lyman alpha forest while probing the large cosmological scales. In this study, we adopt an efficient approach to model Lyman-$\\alpha$ opacity fluctuations in coarse simulation volume, utilizing the semi-numerical reionization model SCRIPT (including inhomogeneous recombination and radiative feedback) integrated with a realistic photoionization background fluctuation generating model. Our model crucially incorporates ionization and temperature fluctuations, which are consistent with the reionization model. After calibrating our method with respect to high-resolution full hydrodynamic simulation, Nyx, we compare the models with available observational data at the redshift range, $z=5.0-6.1$. With a fiducial reionization model (reionization end at $z=5.8$), we demonstrate that the observed scatter in the effective optical depth can be matched reasonably well by tuning the free parameters of our model i.e. the effective ionizing photon mean free path and mean photoionization rate. We further pursue an MCMC-based parameter space exploration utilizing the available data to put constraints on the above free parameters. Our estimation prefers a slightly higher photoionization rate and slightly lower mean free path than the previous studies which is also a consequence of temperature fluctuations. This study holds significant promise for efficiently extracting important physical information about the Epoch of Reionization, utilizing the wealth of available and upcoming observational data.         |"
      ],
      "text/plain": [
       "[2505.09369] Efficient Modelling of Lyman-α opacity fluctuations during late EoR\n",
       "\t<mark>B. Maity</mark>, <mark>F. Davies</mark>, P. Gaikwad"
      ]
     },
     "metadata": {},
     "output_type": "display_data"
    },
    {
     "data": {
      "text/markdown": [
       "## Failed papers"
      ],
      "text/plain": [
       "<IPython.core.display.Markdown object>"
      ]
     },
     "metadata": {},
     "output_type": "display_data"
    },
    {
     "data": {
      "text/markdown": [
       "\n",
       "|||\n",
       "|---:|:---|\n",
       "| [![arXiv](https://img.shields.io/badge/arXiv-2505.09107-b31b1b.svg)](https://arxiv.org/abs/2505.09107) | **Architecture of Tianyu Software: Relative Photometry as a Case Study**  |\n",
       "|| Y. Rui, et al. -- incl., <mark>H. Jiang</mark> |\n",
       "|*Appeared on*| *2025-05-15*|\n",
       "|*Comments*| *18 pages, 10 figures, 6 tables, accepted for publication in PASP*|\n",
       "|**Abstract**|            Tianyu telescope, an one-meter robotic optical survey instrument to be constructed in Lenghu, Qinghai, China, is designed for detecting transiting exoplanets, variable stars and transients. It requires a highly automated, optimally distributed, easily extendable, and highly flexible software to enable the data processing for the raw data at rates exceeding 500MB/s. In this work, we introduce the architecture of the Tianyu pipeline and use relative photometry as a case to demonstrate its high scalability and efficiency. This pipeline is tested on the data collected from Muguang observatory and Xinglong observatory. The pipeline demonstrates high scalability, with most processing stages increasing in throughput as the number of consumers grows. Compared to a single consumer, the median throughput of image calibration, alignment, and flux extraction increases by 41%, 257%, and 107% respectively when using 5 consumers, while image stacking exhibits limited scalability due to I/O constraints. In our tests, the pipeline was able to detect two transiting sources. Besides, the pipeline captures variability in the light curves of nine known and two previously unknown variable sources in the testing data. Meanwhile, the differential photometric precision of the light curves is near the theoretical limitation. These results indicate that this pipeline is suitable for detecting transiting exoplanets and variable stars. This work builds the fundation for further development of Tianyu software. Code of this work is available at this https URL.         |\n",
       "|<p style=\"color:green\"> **ERROR** </p>| <p style=\"color:green\">affiliation error: mpia.affiliation_verifications: 'Heidelberg' keyword not found.</p> |"
      ],
      "text/plain": [
       "<IPython.core.display.Markdown object>"
      ]
     },
     "metadata": {},
     "output_type": "display_data"
    },
    {
     "data": {
      "text/markdown": [
       "\n",
       "|||\n",
       "|---:|:---|\n",
       "| [![arXiv](https://img.shields.io/badge/arXiv-2505.09148-b31b1b.svg)](https://arxiv.org/abs/2505.09148) | **VAST-MeMeS: Characterising non-thermal radio emission from magnetic massive stars using the Australian SKA Pathfinder**  |\n",
       "|| B. Das, et al. -- incl., <mark>Y. Wang</mark> |\n",
       "|*Appeared on*| *2025-05-15*|\n",
       "|*Comments*| *Submitted to PASA*|\n",
       "|**Abstract**|            Magnetic massive stars are stars of spectral types O, B and A that harbour $\\sim$ kG strength (mostly dipolar) surface magnetic fields. Their non-thermal radio emission has been demonstrated to be an important magnetospheric probe, provided the emission is fully characterised. A necessary step for that is to build a statistically significant sample of radio-bright magnetic massive stars. In this paper, we present the `VAST project to study Magnetic Massive Stars' or VAST-MeMeS that aims to achieve that by taking advantage of survey data acquired with the Australian SKA Pathfinder telescope. VAST-MeMeS is defined under the `VAriable and Slow Transient' (VAST) survey, although it also uses data from other ASKAP surveys. We found radio detections from 48 magnetic massive stars, out of which, 14 do not have any prior radio detections. We also identified 9 `Main-sequence Radio Pulse Emitter' candidates based on variability and circular polarisation of flux densities. The expanded sample suggests a lower efficiency in the radio production than that reported in earlier work. In addition to significantly expanding the sample of radio-bright magnetic massive stars, the addition of flux density measurements at $\\lesssim 1$ GHz revealed that the spectra of incoherent radio emission can extend to much lower frequencies than that assumed in the past. In the future, radio observations spanning wide frequency and rotational phase ranges should be conducted so as to reduce the uncertainties in the incoherent radio luminosities. The results from these campaigns, supplemented with precise estimations of stellar parameters, will allow us to fully understand particle acceleration and non-thermal radio production in large-scale stellar magnetospheres.         |\n",
       "|<p style=\"color:green\"> **ERROR** </p>| <p style=\"color:green\">affiliation error: mpia.affiliation_verifications: 'Heidelberg' keyword not found.</p> |"
      ],
      "text/plain": [
       "<IPython.core.display.Markdown object>"
      ]
     },
     "metadata": {},
     "output_type": "display_data"
    }
   ],
   "source": [
    "import datetime\n",
    "today = str(datetime.date.today())\n",
    "logfile = f\"_build/html/logs/log-{today}.md\"\n",
    "\n",
    "\n",
    "with open(logfile, 'w') as logs:\n",
    "    # Success\n",
    "    logs.write(f'# Arxiv on Deck 2: Logs - {today}\\n\\n')\n",
    "    logs.write(\"\"\"* Arxiv had {0:,d} new papers\\n\"\"\".format(len(new_papers)))\n",
    "    logs.write(\"\"\"    * {0:,d} with possible author matches\\n\\n\"\"\".format(len(candidates)))\n",
    "    logs.write(\"## Sucessful papers\\n\\n\")\n",
    "    display(Markdown(\"## Successful papers\"))\n",
    "    success = [k[0] for k in documents]\n",
    "    for candid in candidates:\n",
    "        if candid['identifier'].split(':')[-1] in success:\n",
    "            display(candid)\n",
    "            logs.write(candid.generate_markdown_text() + '\\n\\n')\n",
    "\n",
    "    ## failed\n",
    "    logs.write(\"## Failed papers\\n\\n\")\n",
    "    display(Markdown(\"## Failed papers\"))\n",
    "    failed = sorted(failed, key=lambda x: x[1])\n",
    "    current_reason = \"\"\n",
    "    for paper, reason in failed:\n",
    "        if 'affiliation' in reason:\n",
    "            color = 'green'\n",
    "        else:\n",
    "            color = 'red'\n",
    "        data = Markdown(\n",
    "                paper.generate_markdown_text() + \n",
    "                f'\\n|<p style=\"color:{color:s}\"> **ERROR** </p>| <p style=\"color:{color:s}\">{reason:s}</p> |'\n",
    "               )\n",
    "        if reason != current_reason:\n",
    "            logs.write(f'### {reason:s} \\n\\n')\n",
    "            current_reason = reason\n",
    "        logs.write(data.data + '\\n\\n')\n",
    "        \n",
    "        # only display here the important errors (all in logs)\n",
    "        # if color in ('red',):\n",
    "        display(data)"
   ]
  },
  {
   "cell_type": "markdown",
   "id": "472d20ee",
   "metadata": {
    "papermill": {
     "duration": 0.004326,
     "end_time": "2025-05-15T04:14:58.490662",
     "exception": false,
     "start_time": "2025-05-15T04:14:58.486336",
     "status": "completed"
    },
    "tags": []
   },
   "source": [
    "## Export documents\n",
    "\n",
    "We now write the .md files and export relevant images"
   ]
  },
  {
   "cell_type": "code",
   "execution_count": 7,
   "id": "d426aed9",
   "metadata": {
    "execution": {
     "iopub.execute_input": "2025-05-15T04:14:58.499978Z",
     "iopub.status.busy": "2025-05-15T04:14:58.499761Z",
     "iopub.status.idle": "2025-05-15T04:14:58.506687Z",
     "shell.execute_reply": "2025-05-15T04:14:58.506061Z"
    },
    "papermill": {
     "duration": 0.012927,
     "end_time": "2025-05-15T04:14:58.507873",
     "exception": false,
     "start_time": "2025-05-15T04:14:58.494946",
     "status": "completed"
    },
    "tags": []
   },
   "outputs": [],
   "source": [
    "def export_markdown_summary(md: str, md_fname:str, directory: str):\n",
    "    \"\"\"Export MD document and associated relevant images\"\"\"\n",
    "    import os\n",
    "    import shutil\n",
    "    import re\n",
    "\n",
    "    if (os.path.exists(directory) and not os.path.isdir(directory)):\n",
    "        raise RuntimeError(f\"a non-directory file exists with name {directory:s}\")\n",
    "\n",
    "    if (not os.path.exists(directory)):\n",
    "        print(f\"creating directory {directory:s}\")\n",
    "        os.mkdir(directory)\n",
    "\n",
    "    fig_fnames = (re.compile(r'\\[Fig.*\\]\\((.*)\\)').findall(md) + \n",
    "                  re.compile(r'\\<img src=\"([^>\\s]*)\"[^>]*/>').findall(md))\n",
    "    print(\"found figures\", fig_fnames)\n",
    "    for fname in fig_fnames:\n",
    "        if 'http' in fname:\n",
    "            # No need to copy online figures\n",
    "            continue\n",
    "        if not os.path.exists(fname):\n",
    "            print(\"file not found\", fname)\n",
    "            continue\n",
    "        print(\"copying \", fname, \"to\", directory)\n",
    "        destdir = os.path.join(directory, os.path.dirname(fname))\n",
    "        destfname = os.path.join(destdir, os.path.basename(fname))\n",
    "        try:\n",
    "            os.makedirs(destdir)\n",
    "        except FileExistsError:\n",
    "            pass\n",
    "        shutil.copy(fname, destfname)\n",
    "    with open(os.path.join(directory, md_fname), 'w') as fout:\n",
    "        fout.write(md)\n",
    "    print(\"exported in \", os.path.join(directory, md_fname))\n",
    "    [print(\"    + \" + os.path.join(directory,fk)) for fk in fig_fnames]"
   ]
  },
  {
   "cell_type": "code",
   "execution_count": 8,
   "id": "014d04a4",
   "metadata": {
    "execution": {
     "iopub.execute_input": "2025-05-15T04:14:58.517627Z",
     "iopub.status.busy": "2025-05-15T04:14:58.517178Z",
     "iopub.status.idle": "2025-05-15T04:14:58.523066Z",
     "shell.execute_reply": "2025-05-15T04:14:58.522421Z"
    },
    "papermill": {
     "duration": 0.011827,
     "end_time": "2025-05-15T04:14:58.524113",
     "exception": false,
     "start_time": "2025-05-15T04:14:58.512286",
     "status": "completed"
    },
    "tags": []
   },
   "outputs": [
    {
     "name": "stdout",
     "output_type": "stream",
     "text": [
      "found figures ['tmp_2505.09369/./version_renew/paper_plots/Figure_3a_Delta_taupix_tau_eff_dist.png', 'tmp_2505.09369/./version_renew/paper_plots/fiducial_reion_model.png', 'tmp_2505.09369/./version_renew/paper_plots/Figure_6_tau_snap_gamma_temp.png']\n",
      "copying  tmp_2505.09369/./version_renew/paper_plots/Figure_3a_Delta_taupix_tau_eff_dist.png to _build/html/\n",
      "copying  tmp_2505.09369/./version_renew/paper_plots/fiducial_reion_model.png to _build/html/\n",
      "copying  tmp_2505.09369/./version_renew/paper_plots/Figure_6_tau_snap_gamma_temp.png to _build/html/\n",
      "exported in  _build/html/2505.09369.md\n",
      "    + _build/html/tmp_2505.09369/./version_renew/paper_plots/Figure_3a_Delta_taupix_tau_eff_dist.png\n",
      "    + _build/html/tmp_2505.09369/./version_renew/paper_plots/fiducial_reion_model.png\n",
      "    + _build/html/tmp_2505.09369/./version_renew/paper_plots/Figure_6_tau_snap_gamma_temp.png\n"
     ]
    }
   ],
   "source": [
    "for paper_id, md in documents:\n",
    "    export_markdown_summary(md, f\"{paper_id:s}.md\", '_build/html/')"
   ]
  },
  {
   "cell_type": "markdown",
   "id": "f087a0a7",
   "metadata": {
    "papermill": {
     "duration": 0.004318,
     "end_time": "2025-05-15T04:14:58.533344",
     "exception": false,
     "start_time": "2025-05-15T04:14:58.529026",
     "status": "completed"
    },
    "tags": []
   },
   "source": [
    "## Display the papers\n",
    "\n",
    "Not necessary but allows for a quick check."
   ]
  },
  {
   "cell_type": "code",
   "execution_count": 9,
   "id": "fd25f625",
   "metadata": {
    "execution": {
     "iopub.execute_input": "2025-05-15T04:14:58.543269Z",
     "iopub.status.busy": "2025-05-15T04:14:58.542710Z",
     "iopub.status.idle": "2025-05-15T04:14:58.547536Z",
     "shell.execute_reply": "2025-05-15T04:14:58.547000Z"
    },
    "papermill": {
     "duration": 0.010781,
     "end_time": "2025-05-15T04:14:58.548510",
     "exception": false,
     "start_time": "2025-05-15T04:14:58.537729",
     "status": "completed"
    },
    "scrolled": false,
    "tags": []
   },
   "outputs": [
    {
     "data": {
      "text/markdown": [
       "<div class=\"macros\" style=\"visibility:hidden;\">\n",
       "$\\newcommand{\\ensuremath}{}$\n",
       "$\\newcommand{\\xspace}{}$\n",
       "$\\newcommand{\\object}[1]{\\texttt{#1}}$\n",
       "$\\newcommand{\\farcs}{{.}''}$\n",
       "$\\newcommand{\\farcm}{{.}'}$\n",
       "$\\newcommand{\\arcsec}{''}$\n",
       "$\\newcommand{\\arcmin}{'}$\n",
       "$\\newcommand{\\ion}[2]{#1#2}$\n",
       "$\\newcommand{\\textsc}[1]{\\textrm{#1}}$\n",
       "$\\newcommand{\\hl}[1]{\\textrm{#1}}$\n",
       "$\\newcommand{\\footnote}[1]{}$\n",
       "$\\newcommand{\\be}{\\begin{equation}}$\n",
       "$\\newcommand{\\ee}{\\end{equation}}$\n",
       "$\\newcommand\\bear{#1}\\ear{\\begin{align}#1\\end{align}}$\n",
       "$\\newcommand{\\nline}{\\notag \\\\}$\n",
       "$\\newcommand{\\f}{\\frac}$\n",
       "$\\newcommand{\\de}{\\mathrm{d}}$\n",
       "$\\newcommand{\\del}{\\partial}$\n",
       "$\\newcommand{\\half}{\\frac{1}{2}}$\n",
       "$\\newcommand{\\im}{\\mathrm{i}}$\n",
       "$\\newcommand{\\e}{\\mathrm{e}}$\n",
       "$\\newcommand{\\Msun}{\\mathrm{M}_{\\odot}}$\n",
       "$\\newcommand{\\eqn}[1]{equation~(\\ref{#1})}$\n",
       "$\\newcommand{\\eqns}[2]{equations~(\\ref{#1}) and~(\\ref{#2})}$\n",
       "$\\newcommand{\\secn}[1]{Section~\\ref{#1}}$\n",
       "$\\newcommand{\\appndx}[1]{Appendix~\\ref{#1}}$\n",
       "$\\newcommand{\\fig}[1]{Fig.~\\ref{#1}}$\n",
       "$\\newcommand{\\figs}[1]{Figs.~\\ref{#1}}$\n",
       "$\\newcommand{\\tab}[1]{Table~\\ref{#1}}$\n",
       "$\\newcommand{\\TRC}[1]{{\\color{red}[{\\bf TRC:} #1]}}$\n",
       "$\\newcommand{\\BM}[1]{{\\color{blue}[{\\bf }#1]}}$\n",
       "$\\newcommand{\\AP}[1]{\\textbfit{\\color{purple}[AP: #1]}}$\n",
       "$\\newcommand{\\red}[1]{{\\color{red} #1}}$\n",
       "$\\usepackage[T1]{fontenc}$\n",
       "$\\usepackage{amsmath}$\n",
       "$\\DeclareRobustCommand{\\VAN}[3]{#2}$\n",
       "$\\let\\VANthebibliography\\thebibliography$\n",
       "$\\newcommand{\\thebibliography}{\\DeclareRobustCommand{\\VAN}[3]{##3}\\VANthebibliography}$\n",
       "$\\usepackage{graphicx}$\n",
       "$\\usepackage{txfonts}$\n",
       "$\\begin{document}$\n",
       "$   \\title{Efficient Modelling of Lyman-\\alpha opacity fluctuations during late EoR}$\n",
       "$    \\authorrunning{Maity et al.}$\n",
       "$   \\author{Barun Maity\\inst{1}\\fnmsep\\thanks{maity@mpia.de}$\n",
       "$          ,$\n",
       "$          Frederick Davies$\n",
       "$          \\inst{1},$\n",
       "$          \\and$\n",
       "$          Prakash Gaikwad$\n",
       "$          \\inst{2}}$\n",
       "$   \\institute{Max-Planck-Institut für Astronomie, Königstuhl 17, D-69117 Heidelberg, Germany$\n",
       "$         \\and Department of Astronomy, Astrophysics and Space Engineering, Indian Institute of Technology Indore, Simrol, MP 453552, India}$\n",
       "$   \\date{Received XXX; accepted XXX}$\n",
       "$  \\abstract{The Lyman-\\alpha forest opacity fluctuations observed from high redshift quasar spectra have been proven to be extremely successful in order to probe the late phase of the reionization epoch. For ideal modeling of these opacity fluctuations, one of the main challenges is to satisfy the extremely high dynamic range requirements of the simulation box,  resolving the Lyman alpha forest while probing the large cosmological scales. In this study,  we adopt an efficient approach to model Lyman-\\alpha opacity fluctuations in coarse simulation volume, utilizing the semi-numerical reionization model SCRIPT (including inhomogeneous recombination and radiative feedback) integrated with a realistic photoionization background fluctuation generating model. Our model crucially incorporates ionization and temperature fluctuations, which are consistent with the reionization model. After calibrating our method with respect to high-resolution full hydrodynamic simulation, Nyx, we compare the models with available observational data at the redshift range, z=5.0-6.1. With a fiducial reionization model (reionization end at z=5.8), we demonstrate that the observed scatter in the effective optical depth can be matched reasonably well by tuning the free parameters of our model i.e. the effective ionizing photon mean free path and mean photoionization rate. We further pursue an MCMC-based parameter space exploration utilizing the available data to put constraints on the above free parameters. Our estimation prefers a slightly higher photoionization rate and slightly lower mean free path than the previous studies which is also a consequence of temperature fluctuations. This study holds significant promise for efficiently extracting important physical information about the Epoch of Reionization, utilizing the wealth of available and upcoming observational data.$\n",
       "$}$\n",
       "$   \\keywords{intergalactic medium -- cosmology: theory – dark ages, reionization, first stars -- large-scale structure of Universe}$\n",
       "$   \\maketitle$\n",
       "$\\n\\end{document}\\end{equation}}$\n",
       "$\\newcommand{\\ee}{\\end{equation}}$\n",
       "$\\newcommand{\\nline}{\\notag \\\\}$\n",
       "$\\newcommand{\\f}{\\frac}$\n",
       "$\\newcommand{\\de}{\\mathrm{d}}$\n",
       "$\\newcommand{\\del}{\\partial}$\n",
       "$\\newcommand{\\half}{\\frac{1}{2}}$\n",
       "$\\newcommand{\\im}{\\mathrm{i}}$\n",
       "$\\newcommand{\\e}{\\mathrm{e}}$\n",
       "$\\newcommand{\\Msun}{\\mathrm{M}_{\\odot}}$\n",
       "$\\newcommand{\\eqn}[1]{equation~(\\ref{#1})}$\n",
       "$\\newcommand{\\eqns}[2]{equations~(\\ref{#1}) and~(\\ref{#2})}$\n",
       "$\\newcommand{\\secn}[1]{Section~\\ref{#1}}$\n",
       "$\\newcommand{\\appndx}[1]{Appendix~\\ref{#1}}$\n",
       "$\\newcommand{\\fig}[1]{Fig.~\\ref{#1}}$\n",
       "$\\newcommand{\\figs}[1]{Figs.~\\ref{#1}}$\n",
       "$\\newcommand{\\tab}[1]{Table~\\ref{#1}}$\n",
       "$\\newcommand{\\TRC}[1]{{\\color{red}[{\\bf TRC:} #1]}}$\n",
       "$\\newcommand{\\BM}[1]{{\\color{blue}[{\\bf }#1]}}$\n",
       "$\\newcommand{\\AP}[1]{\\textbfit{\\color{purple}[AP: #1]}}$\n",
       "$\\newcommand{\\red}[1]{{\\color{red} #1}}$\n",
       "$\\newcommand{\\arraystretch}{1.2}$\n",
       "$\\newcommand\\bear{#1}$\n",
       "$\\newcommand{\\thebibliography}{\\DeclareRobustCommand{\\VAN}[3]{##3}\\VANthebibliography}$</div>\n",
       "\n",
       "\n",
       "\n",
       "<div id=\"title\">\n",
       "\n",
       "# Efficient Modelling of Lyman-$\\alpha$ opacity fluctuations during late EoR\n",
       "\n",
       "</div>\n",
       "<div id=\"comments\">\n",
       "\n",
       "[![arXiv](https://img.shields.io/badge/arXiv-2505.09369-b31b1b.svg)](https://arxiv.org/abs/2505.09369)<mark>Appeared on: 2025-05-15</mark> -  _submitted to A&A_\n",
       "\n",
       "</div>\n",
       "<div id=\"authors\">\n",
       "\n",
       "<mark>B. Maity</mark>, <mark>F. Davies</mark>, P. Gaikwad\n",
       "\n",
       "</div>\n",
       "<div id=\"abstract\">\n",
       "\n",
       "**Abstract:** The Lyman- $\\alpha$ forest opacity fluctuations observed from high redshift quasar spectra have been proven to be extremely successful in order to probe the late phase of the reionization epoch. For ideal modeling of these opacity fluctuations, one of the main challenges is to satisfy the extremely high dynamic range requirements of the simulation box,  resolving the Lyman alpha forest while probing the large cosmological scales. In this study,  we adopt an efficient approach to model Lyman- $\\alpha$ opacity fluctuations in coarse simulation volume, utilizing the semi-numerical reionization model SCRIPT (including inhomogeneous recombination and radiative feedback) integrated with a realistic photoionization background fluctuation generating model. Our model crucially incorporates ionization and temperature fluctuations, which are consistent with the reionization model. After calibrating our method with respect to high-resolution full hydrodynamic simulation, Nyx, we compare the models with available observational data at the redshift range, $z=5.0-6.1$ . With a fiducial reionization model (reionization end at $z=5.8$ ), we demonstrate that the observed scatter in the effective optical depth can be matched reasonably well by tuning the free parameters of our model i.e. the effective ionizing photon mean free path and mean photoionization rate. We further pursue an MCMC-based parameter space exploration utilizing the available data to put constraints on the above free parameters. Our estimation prefers a slightly higher photoionization rate and slightly lower mean free path than the previous studies which is also a consequence of temperature fluctuations. This study holds significant promise for efficiently extracting important physical information about the Epoch of Reionization, utilizing the wealth of available and upcoming observational data.\n",
       "\n",
       "</div>\n",
       "\n",
       "<div id=\"div_fig1\">\n",
       "\n",
       "<img src=\"tmp_2505.09369/./version_renew/paper_plots/Figure_3a_Delta_taupix_tau_eff_dist.png\" alt=\"Fig6\" width=\"100%\"/>\n",
       "\n",
       "**Figure 6. -** _Left Panel:_ The distribution of densities ($\\log \\Delta$) from the hydro simulation (blue) and the semi-numerical setup (dashed orange). _Middle Panel:_ The distribution of optical depths averaged at $4h^{-1}\\mathrm{cMpc}$ scale ($\\tau_i$) for hydro simulation (blue), calibrated empirical relation (green), and calibrated semi-numerical setup (dashed orange). _Right Panel:_ The distributions of effective optical depth skewers ($\\tau_{\\mathrm{eff}}$) for the previous three cases. (*fig:fig4_tau_delta_dist*)\n",
       "\n",
       "</div>\n",
       "<div id=\"div_fig2\">\n",
       "\n",
       "<img src=\"tmp_2505.09369/./version_renew/paper_plots/fiducial_reion_model.png\" alt=\"Fig7\" width=\"100%\"/>\n",
       "\n",
       "**Figure 7. -** The figure shows the neutral fraction ($Q_{\\mathrm{HI}}^V$), mean IGM temperature ($T_0$), and $T-\\Delta$ power law index ($\\gamma$) evolution with redshift for our fiducial reionization model (_blue solid_ lines) along with other two variants using different reionization temperature increment, $T_{\\mathrm{re}}$(high: _green dashed_; low: _red dashed_). We also show the recent observational constraints on the neutral fractions \\citep{2018ApJ...864..142D,2022MNRAS.512.5390G,2024MNRAS.533L..49Z,2024A&A...688L..26S} and IGM temperatures \\citep{2020MNRAS.494.5091G}. (*fig:fig5_fid_model*)\n",
       "\n",
       "</div>\n",
       "<div id=\"div_fig3\">\n",
       "\n",
       "<img src=\"tmp_2505.09369/./version_renew/paper_plots/Figure_6_tau_snap_gamma_temp.png\" alt=\"Fig9\" width=\"100%\"/>\n",
       "\n",
       "**Figure 9. -** The snapshots of Ly-$\\alpha$ optical depth for different combinations of temperature and UVB fluctuation inputs. From left to right, we show the cases gradually where we include i) no UVB/temperature fluctuation; ii) only temperature fluctuation but no UVB fluctuations; iii) weak UVB fluctuations with temperature fluctuations, and iv) strong UVB fluctuations with temperature fluctuations. (*fig:fig7_tau_snapshots*)\n",
       "\n",
       "</div><div id=\"qrcode\"><img src=https://api.qrserver.com/v1/create-qr-code/?size=100x100&data=\"https://arxiv.org/abs/2505.09369\"></div>"
      ],
      "text/plain": [
       "<IPython.core.display.Markdown object>"
      ]
     },
     "metadata": {},
     "output_type": "display_data"
    }
   ],
   "source": [
    "[display(Markdown(k[1])) for k in documents];"
   ]
  },
  {
   "cell_type": "markdown",
   "id": "873873a4",
   "metadata": {
    "papermill": {
     "duration": 0.004736,
     "end_time": "2025-05-15T04:14:58.558061",
     "exception": false,
     "start_time": "2025-05-15T04:14:58.553325",
     "status": "completed"
    },
    "tags": []
   },
   "source": [
    "# Create HTML index"
   ]
  },
  {
   "cell_type": "code",
   "execution_count": 10,
   "id": "cf665672",
   "metadata": {
    "execution": {
     "iopub.execute_input": "2025-05-15T04:14:58.568481Z",
     "iopub.status.busy": "2025-05-15T04:14:58.568093Z",
     "iopub.status.idle": "2025-05-15T04:14:58.578732Z",
     "shell.execute_reply": "2025-05-15T04:14:58.578080Z"
    },
    "papermill": {
     "duration": 0.017048,
     "end_time": "2025-05-15T04:14:58.579868",
     "exception": false,
     "start_time": "2025-05-15T04:14:58.562820",
     "status": "completed"
    },
    "tags": []
   },
   "outputs": [
    {
     "name": "stdout",
     "output_type": "stream",
     "text": [
      "489  publications files modified in the last 7 days.\n"
     ]
    }
   ],
   "source": [
    "from datetime import datetime, timedelta, timezone\n",
    "from glob import glob\n",
    "import os\n",
    "\n",
    "files = glob('_build/html/*.md')\n",
    "days = 7\n",
    "now = datetime.today()\n",
    "res = []\n",
    "for fk in files:\n",
    "    stat_result = os.stat(fk).st_ctime\n",
    "    modified = datetime.fromtimestamp(stat_result, tz=timezone.utc).replace(tzinfo=None)\n",
    "    delta = now.today() - modified\n",
    "    if delta <= timedelta(days=days):\n",
    "        res.append((delta.seconds, fk))\n",
    "res = [k[1] for k in reversed(sorted(res, key=lambda x:x[1]))]\n",
    "npub = len(res)\n",
    "print(len(res), f\" publications files modified in the last {days:d} days.\")\n",
    "# [ print('\\t', k) for k in res ];"
   ]
  },
  {
   "cell_type": "code",
   "execution_count": 11,
   "id": "015de740",
   "metadata": {
    "execution": {
     "iopub.execute_input": "2025-05-15T04:14:58.590575Z",
     "iopub.status.busy": "2025-05-15T04:14:58.590080Z",
     "iopub.status.idle": "2025-05-15T04:14:58.614661Z",
     "shell.execute_reply": "2025-05-15T04:14:58.613992Z"
    },
    "papermill": {
     "duration": 0.030983,
     "end_time": "2025-05-15T04:14:58.615675",
     "exception": false,
     "start_time": "2025-05-15T04:14:58.584692",
     "status": "completed"
    },
    "tags": []
   },
   "outputs": [
    {
     "name": "stdout",
     "output_type": "stream",
     "text": [
      "13  publications in the last 7 days.\n"
     ]
    }
   ],
   "source": [
    "import datetime\n",
    "from glob import glob\n",
    "\n",
    "def get_last_n_days(lst, days=1):\n",
    "    \"\"\" Get the documents from the last n days \"\"\"\n",
    "    sorted_lst = sorted(lst, key=lambda x: x[1], reverse=True)\n",
    "    for fname, date in sorted_lst:\n",
    "        if date >= str(datetime.date.today() - datetime.timedelta(days=days)):\n",
    "            yield fname\n",
    "\n",
    "def extract_appearance_dates(lst_file):\n",
    "    dates = []\n",
    "\n",
    "    def get_date(line):\n",
    "        return line\\\n",
    "            .split('Appeared on:')[-1]\\\n",
    "            .split('</mark>')[0].strip()\n",
    "\n",
    "    for fname in lst:\n",
    "        with open(fname, 'r') as f:\n",
    "            found_date = False\n",
    "            for line in f:\n",
    "                if not found_date:\n",
    "                    if \"Appeared on\" in line:\n",
    "                        found_date = True\n",
    "                        dates.append((fname, get_date(line)))\n",
    "                else:\n",
    "                    break\n",
    "    return dates\n",
    "\n",
    "from glob import glob\n",
    "lst = glob('_build/html/*md')\n",
    "days = 7\n",
    "dates = extract_appearance_dates(lst)\n",
    "res = list(get_last_n_days(dates, days))\n",
    "npub = len(res)\n",
    "print(len(res), f\" publications in the last {days:d} days.\")"
   ]
  },
  {
   "cell_type": "code",
   "execution_count": 12,
   "id": "52ca0208",
   "metadata": {
    "execution": {
     "iopub.execute_input": "2025-05-15T04:14:58.626842Z",
     "iopub.status.busy": "2025-05-15T04:14:58.626309Z",
     "iopub.status.idle": "2025-05-15T04:14:58.631322Z",
     "shell.execute_reply": "2025-05-15T04:14:58.630789Z"
    },
    "papermill": {
     "duration": 0.011517,
     "end_time": "2025-05-15T04:14:58.632337",
     "exception": false,
     "start_time": "2025-05-15T04:14:58.620820",
     "status": "completed"
    },
    "scrolled": false,
    "tags": []
   },
   "outputs": [],
   "source": [
    "def create_carousel(npub=4):\n",
    "    \"\"\" Generate the HTML code for a carousel with `npub` slides \"\"\"\n",
    "    carousel = [\"\"\"  <div class=\"carousel\" \"\"\",\n",
    "                \"\"\"       data-flickity='{ \"autoPlay\": 10000, \"adaptiveHeight\": true, \"resize\": true, \"wrapAround\": true, \"pauseAutoPlayOnHover\": true, \"groupCells\": 1 }' id=\"asyncTypeset\">\"\"\"\n",
    "                ]\n",
    "    \n",
    "    item_str = \"\"\"    <div class=\"carousel-cell\"> <div id=\"slide{k}\" class=\"md_view\">Content {k}</div> </div>\"\"\"\n",
    "    for k in range(1, npub + 1):\n",
    "        carousel.append(item_str.format(k=k))\n",
    "    carousel.append(\"  </div>\")\n",
    "    return '\\n'.join(carousel)\n",
    "\n",
    "def create_grid(npub=4):\n",
    "    \"\"\" Generate the HTML code for a flat grid with `npub` slides \"\"\"\n",
    "    grid = [\"\"\"  <div class=\"grid\"> \"\"\",\n",
    "                ]\n",
    "    \n",
    "    item_str = \"\"\"    <div class=\"grid-item\"> <div id=\"slide{k}\" class=\"md_view\">Content {k}</div> </div>\"\"\"\n",
    "    for k in range(1, npub + 1):\n",
    "        grid.append(item_str.format(k=k))\n",
    "    grid.append(\"  </div>\")\n",
    "    return '\\n'.join(grid)"
   ]
  },
  {
   "cell_type": "code",
   "execution_count": 13,
   "id": "a6eac5b6",
   "metadata": {
    "execution": {
     "iopub.execute_input": "2025-05-15T04:14:58.643209Z",
     "iopub.status.busy": "2025-05-15T04:14:58.642738Z",
     "iopub.status.idle": "2025-05-15T04:14:58.647927Z",
     "shell.execute_reply": "2025-05-15T04:14:58.647394Z"
    },
    "papermill": {
     "duration": 0.011615,
     "end_time": "2025-05-15T04:14:58.648931",
     "exception": false,
     "start_time": "2025-05-15T04:14:58.637316",
     "status": "completed"
    },
    "scrolled": false,
    "tags": []
   },
   "outputs": [],
   "source": [
    "carousel = create_carousel(npub)\n",
    "docs = ', '.join(['\"{0:s}\"'.format(k.split('/')[-1]) for k in res])\n",
    "slides = ', '.join([f'\"slide{k}\"' for k in range(1, npub + 1)])\n",
    "\n",
    "with open(\"daily_template.html\", \"r\") as tpl:\n",
    "    page = tpl.read()\n",
    "    page = page.replace(\"{%-- carousel:s --%}\", carousel)\\\n",
    "               .replace(\"{%-- suptitle:s --%}\",  \"7-day archives\" )\\\n",
    "               .replace(\"{%-- docs:s --%}\", docs)\\\n",
    "               .replace(\"{%-- slides:s --%}\", slides)\n",
    "    \n",
    "with open(\"_build/html/index_7days.html\", 'w') as fout:\n",
    "    fout.write(page)"
   ]
  },
  {
   "cell_type": "code",
   "execution_count": 14,
   "id": "adc1a1ec",
   "metadata": {
    "execution": {
     "iopub.execute_input": "2025-05-15T04:14:58.659853Z",
     "iopub.status.busy": "2025-05-15T04:14:58.659452Z",
     "iopub.status.idle": "2025-05-15T04:14:58.666442Z",
     "shell.execute_reply": "2025-05-15T04:14:58.665793Z"
    },
    "papermill": {
     "duration": 0.013543,
     "end_time": "2025-05-15T04:14:58.667446",
     "exception": false,
     "start_time": "2025-05-15T04:14:58.653903",
     "status": "completed"
    },
    "tags": []
   },
   "outputs": [
    {
     "name": "stdout",
     "output_type": "stream",
     "text": [
      "4  publications in the last day.\n"
     ]
    }
   ],
   "source": [
    "# redo for today\n",
    "days = 1\n",
    "res = list(get_last_n_days(dates, days))\n",
    "npub = len(res)\n",
    "print(len(res), f\" publications in the last day.\")\n",
    "\n",
    "carousel = create_carousel(npub)\n",
    "docs = ', '.join(['\"{0:s}\"'.format(k.split('/')[-1]) for k in res])\n",
    "slides = ', '.join([f'\"slide{k}\"' for k in range(1, npub + 1)])\n",
    "\n",
    "with open(\"daily_template.html\", \"r\") as tpl:\n",
    "    page = tpl.read()\n",
    "    page = page.replace(\"{%-- carousel:s --%}\", carousel)\\\n",
    "               .replace(\"{%-- suptitle:s --%}\",  \"Daily\" )\\\n",
    "               .replace(\"{%-- docs:s --%}\", docs)\\\n",
    "               .replace(\"{%-- slides:s --%}\", slides)\n",
    "    \n",
    "# print(carousel, docs, slides)\n",
    "# print(page)\n",
    "with open(\"_build/html/index_daily.html\", 'w') as fout:\n",
    "    fout.write(page)"
   ]
  },
  {
   "cell_type": "code",
   "execution_count": 15,
   "id": "00eece82",
   "metadata": {
    "execution": {
     "iopub.execute_input": "2025-05-15T04:14:58.678319Z",
     "iopub.status.busy": "2025-05-15T04:14:58.677984Z",
     "iopub.status.idle": "2025-05-15T04:14:58.684534Z",
     "shell.execute_reply": "2025-05-15T04:14:58.683992Z"
    },
    "papermill": {
     "duration": 0.012956,
     "end_time": "2025-05-15T04:14:58.685454",
     "exception": false,
     "start_time": "2025-05-15T04:14:58.672498",
     "status": "completed"
    },
    "scrolled": false,
    "tags": []
   },
   "outputs": [
    {
     "name": "stdout",
     "output_type": "stream",
     "text": [
      "6  6 publications selected.\n"
     ]
    }
   ],
   "source": [
    "# Create the flat grid of the last N papers (fixed number regardless of dates)\n",
    "from itertools import islice \n",
    "\n",
    "npub = 6\n",
    "res = [k[0] for k in (islice(reversed(sorted(dates, key=lambda x: x[1])), 6))]\n",
    "print(len(res), f\" {npub} publications selected.\")\n",
    "\n",
    "grid = create_grid(npub)\n",
    "docs = ', '.join(['\"{0:s}\"'.format(k.split('/')[-1]) for k in res])\n",
    "slides = ', '.join([f'\"slide{k}\"' for k in range(1, npub + 1)])\n",
    "\n",
    "with open(\"grid_template.html\", \"r\") as tpl:\n",
    "    page = tpl.read()\n",
    "    page = page.replace(\"{%-- grid-content:s --%}\", grid)\\\n",
    "               .replace(\"{%-- suptitle:s --%}\",  f\"Last {npub:,d} papers\" )\\\n",
    "               .replace(\"{%-- docs:s --%}\", docs)\\\n",
    "               .replace(\"{%-- slides:s --%}\", slides)\n",
    "    \n",
    "# print(grid, docs, slides)\n",
    "# print(page)\n",
    "with open(\"_build/html/index_npub_grid.html\", 'w') as fout:\n",
    "    fout.write(page)"
   ]
  }
 ],
 "metadata": {
  "kernelspec": {
   "display_name": "Python 3 (ipykernel)",
   "language": "python",
   "name": "python3"
  },
  "language_info": {
   "codemirror_mode": {
    "name": "ipython",
    "version": 3
   },
   "file_extension": ".py",
   "mimetype": "text/x-python",
   "name": "python",
   "nbconvert_exporter": "python",
   "pygments_lexer": "ipython3",
   "version": "3.9.22"
  },
  "papermill": {
   "default_parameters": {},
   "duration": 68.492476,
   "end_time": "2025-05-15T04:14:58.906733",
   "environment_variables": {},
   "exception": null,
   "input_path": "MPIA daily digest.ipynb",
   "output_path": "log.ipynb",
   "parameters": {},
   "start_time": "2025-05-15T04:13:50.414257",
   "version": "2.6.0"
  },
  "vscode": {
   "interpreter": {
    "hash": "aee8b7b246df8f9039afb4144a1f6fd8d2ca17a180786b69acc140d282b71a49"
   }
  },
  "widgets": {
   "application/vnd.jupyter.widget-state+json": {
    "state": {
     "07200bef51204e439b4030f357c3b03d": {
      "model_module": "@jupyter-widgets/base",
      "model_module_version": "2.0.0",
      "model_name": "LayoutModel",
      "state": {
       "_model_module": "@jupyter-widgets/base",
       "_model_module_version": "2.0.0",
       "_model_name": "LayoutModel",
       "_view_count": null,
       "_view_module": "@jupyter-widgets/base",
       "_view_module_version": "2.0.0",
       "_view_name": "LayoutView",
       "align_content": null,
       "align_items": null,
       "align_self": null,
       "border_bottom": null,
       "border_left": null,
       "border_right": null,
       "border_top": null,
       "bottom": null,
       "display": null,
       "flex": null,
       "flex_flow": null,
       "grid_area": null,
       "grid_auto_columns": null,
       "grid_auto_flow": null,
       "grid_auto_rows": null,
       "grid_column": null,
       "grid_gap": null,
       "grid_row": null,
       "grid_template_areas": null,
       "grid_template_columns": null,
       "grid_template_rows": null,
       "height": null,
       "justify_content": null,
       "justify_items": null,
       "left": null,
       "margin": null,
       "max_height": null,
       "max_width": null,
       "min_height": null,
       "min_width": null,
       "object_fit": null,
       "object_position": null,
       "order": null,
       "overflow": null,
       "padding": null,
       "right": null,
       "top": null,
       "visibility": null,
       "width": null
      }
     },
     "1d13df0c82c14772b779f6c79522cf56": {
      "model_module": "@jupyter-widgets/base",
      "model_module_version": "2.0.0",
      "model_name": "LayoutModel",
      "state": {
       "_model_module": "@jupyter-widgets/base",
       "_model_module_version": "2.0.0",
       "_model_name": "LayoutModel",
       "_view_count": null,
       "_view_module": "@jupyter-widgets/base",
       "_view_module_version": "2.0.0",
       "_view_name": "LayoutView",
       "align_content": null,
       "align_items": null,
       "align_self": null,
       "border_bottom": null,
       "border_left": null,
       "border_right": null,
       "border_top": null,
       "bottom": null,
       "display": null,
       "flex": null,
       "flex_flow": null,
       "grid_area": null,
       "grid_auto_columns": null,
       "grid_auto_flow": null,
       "grid_auto_rows": null,
       "grid_column": null,
       "grid_gap": null,
       "grid_row": null,
       "grid_template_areas": null,
       "grid_template_columns": null,
       "grid_template_rows": null,
       "height": null,
       "justify_content": null,
       "justify_items": null,
       "left": null,
       "margin": null,
       "max_height": null,
       "max_width": null,
       "min_height": null,
       "min_width": null,
       "object_fit": null,
       "object_position": null,
       "order": null,
       "overflow": null,
       "padding": null,
       "right": null,
       "top": null,
       "visibility": null,
       "width": null
      }
     },
     "27d92e21b12747c38fafbf3ebc16a44d": {
      "model_module": "@jupyter-widgets/controls",
      "model_module_version": "2.0.0",
      "model_name": "HBoxModel",
      "state": {
       "_dom_classes": [],
       "_model_module": "@jupyter-widgets/controls",
       "_model_module_version": "2.0.0",
       "_model_name": "HBoxModel",
       "_view_count": null,
       "_view_module": "@jupyter-widgets/controls",
       "_view_module_version": "2.0.0",
       "_view_name": "HBoxView",
       "box_style": "",
       "children": [
        "IPY_MODEL_4bcd4882f2e848c8816d8f957cdc6803",
        "IPY_MODEL_da2a723f2b134396b800d8788312251f",
        "IPY_MODEL_968982ca16764f709b6df6731f276c42"
       ],
       "layout": "IPY_MODEL_1d13df0c82c14772b779f6c79522cf56",
       "tabbable": null,
       "tooltip": null
      }
     },
     "28404073a03c4b7e96f3cfd1229eb23b": {
      "model_module": "@jupyter-widgets/controls",
      "model_module_version": "2.0.0",
      "model_name": "HTMLStyleModel",
      "state": {
       "_model_module": "@jupyter-widgets/controls",
       "_model_module_version": "2.0.0",
       "_model_name": "HTMLStyleModel",
       "_view_count": null,
       "_view_module": "@jupyter-widgets/base",
       "_view_module_version": "2.0.0",
       "_view_name": "StyleView",
       "background": null,
       "description_width": "",
       "font_size": null,
       "text_color": null
      }
     },
     "48ebff45c4dc484087256fefcf69e05e": {
      "model_module": "@jupyter-widgets/base",
      "model_module_version": "2.0.0",
      "model_name": "LayoutModel",
      "state": {
       "_model_module": "@jupyter-widgets/base",
       "_model_module_version": "2.0.0",
       "_model_name": "LayoutModel",
       "_view_count": null,
       "_view_module": "@jupyter-widgets/base",
       "_view_module_version": "2.0.0",
       "_view_name": "LayoutView",
       "align_content": null,
       "align_items": null,
       "align_self": null,
       "border_bottom": null,
       "border_left": null,
       "border_right": null,
       "border_top": null,
       "bottom": null,
       "display": null,
       "flex": null,
       "flex_flow": null,
       "grid_area": null,
       "grid_auto_columns": null,
       "grid_auto_flow": null,
       "grid_auto_rows": null,
       "grid_column": null,
       "grid_gap": null,
       "grid_row": null,
       "grid_template_areas": null,
       "grid_template_columns": null,
       "grid_template_rows": null,
       "height": null,
       "justify_content": null,
       "justify_items": null,
       "left": null,
       "margin": null,
       "max_height": null,
       "max_width": null,
       "min_height": null,
       "min_width": null,
       "object_fit": null,
       "object_position": null,
       "order": null,
       "overflow": null,
       "padding": null,
       "right": null,
       "top": null,
       "visibility": null,
       "width": null
      }
     },
     "4bcd4882f2e848c8816d8f957cdc6803": {
      "model_module": "@jupyter-widgets/controls",
      "model_module_version": "2.0.0",
      "model_name": "HTMLModel",
      "state": {
       "_dom_classes": [],
       "_model_module": "@jupyter-widgets/controls",
       "_model_module_version": "2.0.0",
       "_model_name": "HTMLModel",
       "_view_count": null,
       "_view_module": "@jupyter-widgets/controls",
       "_view_module_version": "2.0.0",
       "_view_name": "HTMLView",
       "description": "",
       "description_allow_html": false,
       "layout": "IPY_MODEL_07200bef51204e439b4030f357c3b03d",
       "placeholder": "​",
       "style": "IPY_MODEL_f95d1e48fa364461b8e3c07b76e1b4df",
       "tabbable": null,
       "tooltip": null,
       "value": "100%"
      }
     },
     "6e8c7d2002e8488997f3d158e70ea020": {
      "model_module": "@jupyter-widgets/base",
      "model_module_version": "2.0.0",
      "model_name": "LayoutModel",
      "state": {
       "_model_module": "@jupyter-widgets/base",
       "_model_module_version": "2.0.0",
       "_model_name": "LayoutModel",
       "_view_count": null,
       "_view_module": "@jupyter-widgets/base",
       "_view_module_version": "2.0.0",
       "_view_name": "LayoutView",
       "align_content": null,
       "align_items": null,
       "align_self": null,
       "border_bottom": null,
       "border_left": null,
       "border_right": null,
       "border_top": null,
       "bottom": null,
       "display": null,
       "flex": null,
       "flex_flow": null,
       "grid_area": null,
       "grid_auto_columns": null,
       "grid_auto_flow": null,
       "grid_auto_rows": null,
       "grid_column": null,
       "grid_gap": null,
       "grid_row": null,
       "grid_template_areas": null,
       "grid_template_columns": null,
       "grid_template_rows": null,
       "height": null,
       "justify_content": null,
       "justify_items": null,
       "left": null,
       "margin": null,
       "max_height": null,
       "max_width": null,
       "min_height": null,
       "min_width": null,
       "object_fit": null,
       "object_position": null,
       "order": null,
       "overflow": null,
       "padding": null,
       "right": null,
       "top": null,
       "visibility": null,
       "width": null
      }
     },
     "968982ca16764f709b6df6731f276c42": {
      "model_module": "@jupyter-widgets/controls",
      "model_module_version": "2.0.0",
      "model_name": "HTMLModel",
      "state": {
       "_dom_classes": [],
       "_model_module": "@jupyter-widgets/controls",
       "_model_module_version": "2.0.0",
       "_model_name": "HTMLModel",
       "_view_count": null,
       "_view_module": "@jupyter-widgets/controls",
       "_view_module_version": "2.0.0",
       "_view_name": "HTMLView",
       "description": "",
       "description_allow_html": false,
       "layout": "IPY_MODEL_48ebff45c4dc484087256fefcf69e05e",
       "placeholder": "​",
       "style": "IPY_MODEL_28404073a03c4b7e96f3cfd1229eb23b",
       "tabbable": null,
       "tooltip": null,
       "value": " 3/3 [00:43&lt;00:00, 19.81s/it]"
      }
     },
     "b5eb727720504088bb0eb64f74f07330": {
      "model_module": "@jupyter-widgets/controls",
      "model_module_version": "2.0.0",
      "model_name": "ProgressStyleModel",
      "state": {
       "_model_module": "@jupyter-widgets/controls",
       "_model_module_version": "2.0.0",
       "_model_name": "ProgressStyleModel",
       "_view_count": null,
       "_view_module": "@jupyter-widgets/base",
       "_view_module_version": "2.0.0",
       "_view_name": "StyleView",
       "bar_color": null,
       "description_width": ""
      }
     },
     "da2a723f2b134396b800d8788312251f": {
      "model_module": "@jupyter-widgets/controls",
      "model_module_version": "2.0.0",
      "model_name": "FloatProgressModel",
      "state": {
       "_dom_classes": [],
       "_model_module": "@jupyter-widgets/controls",
       "_model_module_version": "2.0.0",
       "_model_name": "FloatProgressModel",
       "_view_count": null,
       "_view_module": "@jupyter-widgets/controls",
       "_view_module_version": "2.0.0",
       "_view_name": "ProgressView",
       "bar_style": "success",
       "description": "",
       "description_allow_html": false,
       "layout": "IPY_MODEL_6e8c7d2002e8488997f3d158e70ea020",
       "max": 3.0,
       "min": 0.0,
       "orientation": "horizontal",
       "style": "IPY_MODEL_b5eb727720504088bb0eb64f74f07330",
       "tabbable": null,
       "tooltip": null,
       "value": 3.0
      }
     },
     "f95d1e48fa364461b8e3c07b76e1b4df": {
      "model_module": "@jupyter-widgets/controls",
      "model_module_version": "2.0.0",
      "model_name": "HTMLStyleModel",
      "state": {
       "_model_module": "@jupyter-widgets/controls",
       "_model_module_version": "2.0.0",
       "_model_name": "HTMLStyleModel",
       "_view_count": null,
       "_view_module": "@jupyter-widgets/base",
       "_view_module_version": "2.0.0",
       "_view_name": "StyleView",
       "background": null,
       "description_width": "",
       "font_size": null,
       "text_color": null
      }
     }
    },
    "version_major": 2,
    "version_minor": 0
   }
  }
 },
 "nbformat": 4,
 "nbformat_minor": 5
}