{
 "cells": [
  {
   "cell_type": "markdown",
   "id": "92bcb855",
   "metadata": {
    "papermill": {
     "duration": 0.003751,
     "end_time": "2024-07-08T04:09:04.520417",
     "exception": false,
     "start_time": "2024-07-08T04:09:04.516666",
     "status": "completed"
    },
    "tags": []
   },
   "source": [
    "# MPIA Arxiv on Deck 2\n",
    "\n",
    "Contains the steps to produce the paper extractions."
   ]
  },
  {
   "cell_type": "code",
   "execution_count": 1,
   "id": "3a0d6e11",
   "metadata": {
    "execution": {
     "iopub.execute_input": "2024-07-08T04:09:04.527429Z",
     "iopub.status.busy": "2024-07-08T04:09:04.527209Z",
     "iopub.status.idle": "2024-07-08T04:09:05.044325Z",
     "shell.execute_reply": "2024-07-08T04:09:05.043610Z"
    },
    "papermill": {
     "duration": 0.522693,
     "end_time": "2024-07-08T04:09:05.046180",
     "exception": false,
     "start_time": "2024-07-08T04:09:04.523487",
     "status": "completed"
    },
    "tags": []
   },
   "outputs": [],
   "source": [
    "# Imports\n",
    "import os\n",
    "from IPython.display import Markdown, display\n",
    "from tqdm.notebook import tqdm\n",
    "import warnings\n",
    "from PIL import Image \n",
    "\n",
    "# requires arxiv_on_deck_2\n",
    "\n",
    "from arxiv_on_deck_2.arxiv2 import (get_new_papers, \n",
    "                                    get_paper_from_identifier,\n",
    "                                    retrieve_document_source, \n",
    "                                    get_markdown_badge)\n",
    "from arxiv_on_deck_2 import (latex,\n",
    "                             latex_bib,\n",
    "                             mpia,\n",
    "                             highlight_authors_in_list)\n",
    "\n",
    "# Sometimes images are really big\n",
    "Image.MAX_IMAGE_PIXELS = 1000000000 "
   ]
  },
  {
   "cell_type": "code",
   "execution_count": 2,
   "id": "22aa9d44",
   "metadata": {
    "execution": {
     "iopub.execute_input": "2024-07-08T04:09:05.053582Z",
     "iopub.status.busy": "2024-07-08T04:09:05.053078Z",
     "iopub.status.idle": "2024-07-08T04:09:05.058170Z",
     "shell.execute_reply": "2024-07-08T04:09:05.057580Z"
    },
    "papermill": {
     "duration": 0.010149,
     "end_time": "2024-07-08T04:09:05.059474",
     "exception": false,
     "start_time": "2024-07-08T04:09:05.049325",
     "status": "completed"
    },
    "tags": []
   },
   "outputs": [],
   "source": [
    "# Some useful definitions.\n",
    "\n",
    "class AffiliationWarning(UserWarning):\n",
    "    pass\n",
    "\n",
    "class AffiliationError(RuntimeError):\n",
    "    pass\n",
    "\n",
    "def validation(source: str):\n",
    "    \"\"\"Raises error paper during parsing of source file\n",
    "    \n",
    "    Allows checks before parsing TeX code.\n",
    "    \n",
    "    Raises AffiliationWarning\n",
    "    \"\"\"\n",
    "    check = mpia.affiliation_verifications(source, verbose=True)\n",
    "    if check is not True:\n",
    "        raise AffiliationError(\"mpia.affiliation_verifications: \" + check)\n",
    "\n",
    "        \n",
    "warnings.simplefilter('always', AffiliationWarning)\n",
    "\n",
    "\n",
    "def get_markdown_qrcode(paper_id: str):\n",
    "    \"\"\" Generate a qrcode to the arxiv page using qrserver.com\n",
    "    \n",
    "    :param paper: Arxiv paper\n",
    "    :returns: markdown text\n",
    "    \"\"\"\n",
    "    url = r\"https://api.qrserver.com/v1/create-qr-code/?size=100x100&data=\"\n",
    "    txt = f\"\"\"<img src={url}\"https://arxiv.org/abs/{paper_id}\">\"\"\"\n",
    "    txt = '<div id=\"qrcode\">' + txt + '</div>'\n",
    "    return txt"
   ]
  },
  {
   "cell_type": "markdown",
   "id": "14bd6310",
   "metadata": {
    "papermill": {
     "duration": 0.002796,
     "end_time": "2024-07-08T04:09:05.065170",
     "exception": false,
     "start_time": "2024-07-08T04:09:05.062374",
     "status": "completed"
    },
    "tags": []
   },
   "source": [
    "## get list of arxiv paper candidates\n",
    "\n",
    "We use the MPIA mitarbeiter list webpage from mpia.de to get author names\n",
    "We then get all new papers from Arxiv and match authors"
   ]
  },
  {
   "cell_type": "code",
   "execution_count": 3,
   "id": "7ea813a8",
   "metadata": {
    "execution": {
     "iopub.execute_input": "2024-07-08T04:09:05.072024Z",
     "iopub.status.busy": "2024-07-08T04:09:05.071637Z",
     "iopub.status.idle": "2024-07-08T04:09:22.179598Z",
     "shell.execute_reply": "2024-07-08T04:09:22.178908Z"
    },
    "papermill": {
     "duration": 17.113264,
     "end_time": "2024-07-08T04:09:22.181309",
     "exception": false,
     "start_time": "2024-07-08T04:09:05.068045",
     "status": "completed"
    },
    "tags": []
   },
   "outputs": [],
   "source": [
    "# deal with the author list and edge cases of people that cannot be consistent on their name  \n",
    "\n",
    "def filter_non_scientists(name: str) -> bool:\n",
    "    \"\"\" Loose filter on expected authorships\n",
    "\n",
    "    removing IT, administration, technical staff\n",
    "    :param name: name\n",
    "    :returns: False if name is not a scientist\n",
    "    \"\"\"\n",
    "    remove_list = ['Wolf', 'Licht', 'Binroth', 'Witzel', 'Jordan',\n",
    "                   'Zähringer', 'Scheerer', 'Hoffmann', 'Düe',\n",
    "                   'Hellmich', 'Enkler-Scharpegge', 'Witte-Nguy',\n",
    "                   'Dehen', 'Beckmann', 'Jager', 'Jäger'\n",
    "                  ]\n",
    "\n",
    "    for k in remove_list:\n",
    "        if k in name:\n",
    "            return False\n",
    "    return True\n",
    "\n",
    "def add_author_to_list(author_list: list) -> list:\n",
    "    \"\"\" Add author to list if not already in list\n",
    "    \n",
    "    :param author: author name\n",
    "    :param author_list: list of authors\n",
    "    :returns: updated list of authors\n",
    "    \"\"\"\n",
    "    add_list = ['T. Henning']\n",
    "\n",
    "    for author in add_list:\n",
    "        if author not in author_list:\n",
    "            author_list.append(author)\n",
    "    return author_list\n",
    "\n",
    "# get list from MPIA website\n",
    "# filter for non-scientists (mpia.get_mpia_mitarbeiter_list() does some filtering)\n",
    "mpia_authors = [k[1] for k in mpia.get_mpia_mitarbeiter_list() if filter_non_scientists(k[1])]\n",
    "# add some missing author because of inconsistencies in their MPIA name and author name on papers\n",
    "mpia_authors = add_author_to_list(mpia_authors)"
   ]
  },
  {
   "cell_type": "code",
   "execution_count": 4,
   "id": "2645e73a",
   "metadata": {
    "execution": {
     "iopub.execute_input": "2024-07-08T04:09:22.188812Z",
     "iopub.status.busy": "2024-07-08T04:09:22.188381Z",
     "iopub.status.idle": "2024-07-08T04:09:23.246252Z",
     "shell.execute_reply": "2024-07-08T04:09:23.245618Z"
    },
    "papermill": {
     "duration": 1.063014,
     "end_time": "2024-07-08T04:09:23.247659",
     "exception": false,
     "start_time": "2024-07-08T04:09:22.184645",
     "status": "completed"
    },
    "tags": []
   },
   "outputs": [
    {
     "name": "stdout",
     "output_type": "stream",
     "text": [
      "K. El-Badry  ->  K. El-Badry  |  ['K. El-Badry']\n",
      "X. Zhang  ->  X. Zhang  |  ['X. Zhang']\n",
      "G. Perotti  ->  G. Perotti  |  ['G. Perotti']\n",
      "J. Shi  ->  J. Shi  |  ['J. Shi']\n",
      "J. Liu  ->  J. Liu  |  ['J. Liu']\n",
      "S. Belladitta  ->  S. Belladitta  |  ['S. Belladitta']\n"
     ]
    },
    {
     "name": "stdout",
     "output_type": "stream",
     "text": [
      "M. Sharma  ->  Y. M. Sharma  |  ['M. Sharma']\n",
      "J. Liu  ->  J. Liu  |  ['J. Liu']\n",
      "E. Schinnerer  ->  E. Schinnerer  |  ['E. Schinnerer']\n",
      "S. Stuber  ->  S. Stuber  |  ['S. Stuber']\n",
      "J. Neumann  ->  J. Neumann  |  ['J. Neumann']\n"
     ]
    },
    {
     "name": "stdout",
     "output_type": "stream",
     "text": [
      "Arxiv has 107 new papers today\n",
      "          9 with possible author matches\n"
     ]
    }
   ],
   "source": [
    "new_papers = get_new_papers()\n",
    "# add manual references\n",
    "add_paper_refs = []\n",
    "new_papers.extend([get_paper_from_identifier(k) for k in add_paper_refs])\n",
    "\n",
    "candidates = []\n",
    "for paperk in new_papers:\n",
    "    # Check author list with their initials\n",
    "    normed_author_list = [mpia.get_initials(k) for k in paperk['authors']]\n",
    "    hl_authors = highlight_authors_in_list(normed_author_list, mpia_authors, verbose=True)\n",
    "    matches = [(hl, orig) for hl, orig in zip(hl_authors, paperk['authors']) if 'mark' in hl]\n",
    "    paperk['authors'] = hl_authors\n",
    "    if matches:\n",
    "        # only select paper if an author matched our list\n",
    "        candidates.append(paperk)\n",
    "print(\"\"\"Arxiv has {0:,d} new papers today\"\"\".format(len(new_papers)))        \n",
    "print(\"\"\"          {0:,d} with possible author matches\"\"\".format(len(candidates)))"
   ]
  },
  {
   "cell_type": "markdown",
   "id": "3543b34a",
   "metadata": {
    "papermill": {
     "duration": 0.004028,
     "end_time": "2024-07-08T04:09:23.255148",
     "exception": false,
     "start_time": "2024-07-08T04:09:23.251120",
     "status": "completed"
    },
    "tags": []
   },
   "source": [
    "# Parse sources and generate relevant outputs\n",
    "\n",
    "From the candidates, we do the following steps:\n",
    "* get their tarball from ArXiv (and extract data)\n",
    "* find the main .tex file: find one with \\documentclass{...} (sometimes it's non trivial)\n",
    "* Check affiliations with :func:`validation`, which uses :func:`mpia.affiliation_verifications`\n",
    "* If passing the affiliations: we parse the .tex source\n",
    "   * inject sub-documents into the main (flatten the main document)\n",
    "   * parse structure, extract information (title, abstract, authors, figures...)\n",
    "   * handles `\\graphicspath` if provided\n",
    "* Generate the .md document."
   ]
  },
  {
   "cell_type": "code",
   "execution_count": 5,
   "id": "9576b79e",
   "metadata": {
    "execution": {
     "iopub.execute_input": "2024-07-08T04:09:23.262596Z",
     "iopub.status.busy": "2024-07-08T04:09:23.262382Z",
     "iopub.status.idle": "2024-07-08T04:09:58.857031Z",
     "shell.execute_reply": "2024-07-08T04:09:58.856280Z"
    },
    "papermill": {
     "duration": 35.604502,
     "end_time": "2024-07-08T04:09:58.862710",
     "exception": false,
     "start_time": "2024-07-08T04:09:23.258208",
     "status": "completed"
    },
    "scrolled": false,
    "tags": []
   },
   "outputs": [
    {
     "data": {
      "application/vnd.jupyter.widget-view+json": {
       "model_id": "01032e4ae1214bf2b7b2ffa3dd8ce5e1",
       "version_major": 2,
       "version_minor": 0
      },
      "text/plain": [
       "  0%|          | 0/9 [00:00<?, ?it/s]"
      ]
     },
     "metadata": {},
     "output_type": "display_data"
    },
    {
     "name": "stdout",
     "output_type": "stream",
     "text": [
      "Retrieving document from  https://arxiv.org/e-print/2407.03424\n"
     ]
    },
    {
     "name": "stdout",
     "output_type": "stream",
     "text": [
      "extracting tarball to tmp_2407.03424... done.\n",
      "Retrieving document from  https://arxiv.org/e-print/2407.03445\n"
     ]
    },
    {
     "name": "stdout",
     "output_type": "stream",
     "text": [
      "extracting tarball to tmp_2407.03445..."
     ]
    },
    {
     "name": "stdout",
     "output_type": "stream",
     "text": [
      " done.\n",
      "Retrieving document from  https://arxiv.org/e-print/2407.03520\n",
      "extracting tarball to tmp_2407.03520... done.\n"
     ]
    },
    {
     "name": "stderr",
     "output_type": "stream",
     "text": [
      "/opt/hostedtoolcache/Python/3.9.19/x64/lib/python3.9/site-packages/IPython/core/interactiveshell.py:3550: LatexWarning: Multiple tex files.\n",
      "\n",
      "  exec(code_obj, self.user_global_ns, self.user_ns)\n",
      "/tmp/ipykernel_2150/1211882699.py:51: LatexWarning: 2407.03445 did not run properly\n",
      "'PosixPath' object is not subscriptable\n",
      "  warnings.warn(latex.LatexWarning(f\"{paper_id:s} did not run properly\\n\" +\n"
     ]
    },
    {
     "name": "stdout",
     "output_type": "stream",
     "text": [
      "G. Perotti  ->  G. Perotti  |  ['G. Perotti']\n"
     ]
    },
    {
     "name": "stdout",
     "output_type": "stream",
     "text": [
      "list index out of range\n",
      "Retrieving document from  https://arxiv.org/e-print/2407.03713\n"
     ]
    },
    {
     "name": "stdout",
     "output_type": "stream",
     "text": [
      "extracting tarball to tmp_2407.03713... done.\n",
      "Retrieving document from  https://arxiv.org/e-print/2407.03721\n",
      "extracting tarball to tmp_2407.03721... done.\n",
      "Retrieving document from  https://arxiv.org/e-print/2407.04094\n"
     ]
    },
    {
     "name": "stdout",
     "output_type": "stream",
     "text": [
      "extracting tarball to tmp_2407.04094... done.\n"
     ]
    },
    {
     "name": "stdout",
     "output_type": "stream",
     "text": [
      "S. Belladitta  ->  S. Belladitta  |  ['S. Belladitta']\n"
     ]
    },
    {
     "name": "stdout",
     "output_type": "stream",
     "text": [
      "Found 142 bibliographic references in tmp_2407.04094/main.bbl.\n",
      "Error retrieving bib data for Caccianiga2019: 'author'\n",
      "Retrieving document from  https://arxiv.org/e-print/2407.04164\n"
     ]
    },
    {
     "name": "stderr",
     "output_type": "stream",
     "text": [
      "/opt/hostedtoolcache/Python/3.9.19/x64/lib/python3.9/site-packages/arxiv_on_deck_2/latex_bib.py:132: UserWarning: Error processing bibitem\n",
      " item = \\bibitem[{{HI4PI Collaboration} {et~al.}(2016){HI4PI Collaboration}, {Ben  Bekhti}, {Fl{ö}er}, {Keller}, {Kerp}, {Lenz}, {Winkel}, {Bailin},  {Calabretta}, {Dedes}, {Ford}, {Gibson}, {Haud}, {Janowiecki}, {Kalberla},  {Lockman}, {McClure-Griffiths}, {Murphy}, {Nakanishi}, {Pisano},   {Staveley-Smith}}]{HI4PI2016}{HI4PI Collaboration}, {Ben Bekhti}, N., {Fl{ö}er}, L., {et~al.} 2016, \\aap,  594, A116\n",
      " regex = \n",
      "        \\\\bibitem(\\[[^\\[\\]]*?\\]){(?P<bibkey>[a-zA-Z0-9\\-\\+\\.\\S]+?)}(?P<authors>|([\\D]*?))(?P<year>[12][0-9]{3})(?P<rest>.*)\n",
      "        \n",
      "  warnings.warn(str(e))\n"
     ]
    },
    {
     "name": "stdout",
     "output_type": "stream",
     "text": [
      "extracting tarball to tmp_2407.04164... done.\n",
      "Retrieving document from  https://arxiv.org/e-print/2407.04220\n"
     ]
    },
    {
     "name": "stdout",
     "output_type": "stream",
     "text": [
      "extracting tarball to tmp_2407.04220... done.\n",
      "Retrieving document from  https://arxiv.org/e-print/2407.04531\n"
     ]
    },
    {
     "name": "stdout",
     "output_type": "stream",
     "text": [
      "extracting tarball to tmp_2407.04531..."
     ]
    },
    {
     "name": "stdout",
     "output_type": "stream",
     "text": [
      " done.\n"
     ]
    },
    {
     "name": "stdout",
     "output_type": "stream",
     "text": [
      "E. Schinnerer  ->  E. Schinnerer  |  ['E. Schinnerer']\n",
      "S. Stuber  ->  S. Stuber  |  ['S. Stuber']\n",
      "J. Neumann  ->  J. Neumann  |  ['J. Neumann']\n"
     ]
    },
    {
     "name": "stdout",
     "output_type": "stream",
     "text": [
      "Found 64 bibliographic references in tmp_2407.04531/clean_version.bbl.\n"
     ]
    }
   ],
   "source": [
    "documents = []\n",
    "failed = []\n",
    "for paper in tqdm(candidates):\n",
    "    # debug crap\n",
    "    paper['identifier'] = paper['identifier'].lower().replace('arxiv:', '').replace(r'\\n', '').strip()\n",
    "    paper_id = paper['identifier']\n",
    "    \n",
    "    folder = f'tmp_{paper_id}'\n",
    "\n",
    "    try:\n",
    "        if not os.path.isdir(folder):\n",
    "            folder = retrieve_document_source(f\"{paper_id}\", f'tmp_{paper_id}')\n",
    "        \n",
    "        try:\n",
    "            doc = latex.LatexDocument(folder, validation=validation)    \n",
    "        except AffiliationError as affilerror:\n",
    "            msg = f\"ArXiv:{paper_id:s} is not an MPIA paper... \" + str(affilerror)\n",
    "            failed.append((paper, \"affiliation error: \" + str(affilerror) ))\n",
    "            continue\n",
    "        \n",
    "        # Hack because sometimes author parsing does not work well\n",
    "        if (len(doc.authors) != len(paper['authors'])):\n",
    "            doc._authors = paper['authors']\n",
    "        else:\n",
    "            # highlight authors (FIXME: doc.highlight_authors)\n",
    "            # done on arxiv paper already\n",
    "            doc._authors = highlight_authors_in_list(\n",
    "                [mpia.get_initials(k) for k in doc.authors], \n",
    "                mpia_authors, verbose=True)\n",
    "        if (doc.abstract) in (None, ''):\n",
    "            doc._abstract = paper['abstract']\n",
    "            \n",
    "        doc.comment = (get_markdown_badge(paper_id) + \n",
    "                       \"<mark>Appeared on: \" + paper['date'] + \"</mark> - \")\n",
    "        if paper['comments']:\n",
    "            doc.comment += \" _\" + paper['comments'] + \"_\"\n",
    "        \n",
    "        full_md = doc.generate_markdown_text()\n",
    "        \n",
    "        full_md += get_markdown_qrcode(paper_id)\n",
    "        \n",
    "        # replace citations\n",
    "        try:\n",
    "            bibdata = latex_bib.LatexBib.from_doc(doc)\n",
    "            full_md = latex_bib.replace_citations(full_md, bibdata)\n",
    "        except Exception as e:\n",
    "            print(e)\n",
    "        \n",
    "        documents.append((paper_id, full_md))\n",
    "    except Exception as e:\n",
    "        warnings.warn(latex.LatexWarning(f\"{paper_id:s} did not run properly\\n\" +\n",
    "                                         str(e)\n",
    "                                        ))\n",
    "        failed.append((paper, \"latex error \" + str(e)))"
   ]
  },
  {
   "cell_type": "markdown",
   "id": "2505a25c",
   "metadata": {
    "papermill": {
     "duration": 0.00405,
     "end_time": "2024-07-08T04:09:58.870907",
     "exception": false,
     "start_time": "2024-07-08T04:09:58.866857",
     "status": "completed"
    },
    "tags": []
   },
   "source": [
    "### Export the logs\n",
    "\n",
    "Throughout, we also keep track of the logs per paper. see `logs-{today date}.md` "
   ]
  },
  {
   "cell_type": "code",
   "execution_count": 6,
   "id": "d733828a",
   "metadata": {
    "execution": {
     "iopub.execute_input": "2024-07-08T04:09:58.880295Z",
     "iopub.status.busy": "2024-07-08T04:09:58.879866Z",
     "iopub.status.idle": "2024-07-08T04:09:58.900102Z",
     "shell.execute_reply": "2024-07-08T04:09:58.899561Z"
    },
    "papermill": {
     "duration": 0.026436,
     "end_time": "2024-07-08T04:09:58.901351",
     "exception": false,
     "start_time": "2024-07-08T04:09:58.874915",
     "status": "completed"
    },
    "scrolled": false,
    "tags": []
   },
   "outputs": [
    {
     "data": {
      "text/markdown": [
       "## Successful papers"
      ],
      "text/plain": [
       "<IPython.core.display.Markdown object>"
      ]
     },
     "metadata": {},
     "output_type": "display_data"
    },
    {
     "data": {
      "text/markdown": [
       "\n",
       "|||\n",
       "|---:|:---|\n",
       "| [![arXiv](https://img.shields.io/badge/arXiv-2407.03520-b31b1b.svg)](https://arxiv.org/abs/2407.03520) | **Planet Formation and Disk Chemistry: Dust and Gas Evolution during Planet Formation**  |\n",
       "|| <mark>G. Perotti</mark>, et al. |\n",
       "|*Appeared on*| *2024-07-08*|\n",
       "|*Comments*| *9 pages, 5 figures, Chapter IV of the National Congress of (proto-)Planetary Astrochemistry (CNAP II) Proceedings*|\n",
       "|**Abstract**|            Over the past decade, progress in observational capabilities, combined with theoretical advancements, have transformed our comprehension of the physics and chemistry during planet formation. Despite these important steps forward, open questions persist on the chemical and physical evolution of solids in their journey from the collapsing molecular cores to disks and planetary bodies. This chapter is a repository of such burning questions. It has the ambition to identify the most promising avenues for future research based on current observational and modeling opportunities.         |"
      ],
      "text/plain": [
       "[2407.03520] Planet Formation and Disk Chemistry: Dust and Gas Evolution during Planet Formation\n",
       "\t<mark>G. Perotti</mark>, et al."
      ]
     },
     "metadata": {},
     "output_type": "display_data"
    },
    {
     "data": {
      "text/markdown": [
       "\n",
       "|||\n",
       "|---:|:---|\n",
       "| [![arXiv](https://img.shields.io/badge/arXiv-2407.04094-b31b1b.svg)](https://arxiv.org/abs/2407.04094) | **Multi-wavelength properties of three new radio-powerful $z\\sim5.6$ QSOs discovered from RACS**  |\n",
       "|| L. Ighina, et al. -- incl., <mark>S. Belladitta</mark> |\n",
       "|*Appeared on*| *2024-07-08*|\n",
       "|*Comments*| *Submitted to A&A on July 4th*|\n",
       "|**Abstract**|            We present a multi-wavelength study on three new $z\\sim5.6$ quasi stellar objects (QSOs) selected based on their radio and optical/near-infrared properties in publicly available surveys and then identified with dedicated spectroscopic observations. These are among the radio-brightest QSOs currently known at $z>5.5$, having $\\rm R=S_{\\rm 5GHz}/S_{\\rm 4400A}>100$. In this work we present their identification and we also discuss their multi-wavelength properties (from the radio to the X-ray band) based on the detection in public surveys as well as dedicated radio and X-ray observations. The three sources present a wide range of properties, in terms of relative intensity and spectral shape, highlighting the importance of multi-wavelength observations in order to accurately characterise these high-$z$ objects. In particular, from our analysis we found one source, at $z=5.61$, that presents clear blazars properties (strong and flat radio and X-ray emission), making it one of the most distant currently known in this class. Moreover, from the fit of the optical/near-infrared photometric measurements with an accretion disc model, as well as the analysis of the CIV broad emission line in one case, we were able to estimate the mass and the accretion rate of the central black holes in these systems, finding $\\rm M_{\\rm BH}\\sim1-10\\times10^9$ M$_\\odot$ accreting at a rate $\\lambda_{\\rm Edd}\\sim0.1-0.2$. With this work we increase the number of very-high redshift radio-powerful QSOs characterised with multi-wavelength observations, essential in order to understand the evolution and the properties of this still poorly constrained class of sources.         |"
      ],
      "text/plain": [
       "[2407.04094] Multi-wavelength properties of three new radio-powerful $z\\sim5.6$ QSOs discovered from RACS\n",
       "\tL. Ighina, et al. -- incl., <mark>S. Belladitta</mark>"
      ]
     },
     "metadata": {},
     "output_type": "display_data"
    },
    {
     "data": {
      "text/markdown": [
       "\n",
       "|||\n",
       "|---:|:---|\n",
       "| [![arXiv](https://img.shields.io/badge/arXiv-2407.04531-b31b1b.svg)](https://arxiv.org/abs/2407.04531) | **Neutral atomic and molecular gas dynamics in the nearby spiral galaxies NGC 1512, NGC 4535, and NGC 7496**  |\n",
       "|| S. Laudage, et al. -- incl., <mark>E. Schinnerer</mark>, <mark>S. Stuber</mark>, <mark>J. Neumann</mark> |\n",
       "|*Appeared on*| *2024-07-08*|\n",
       "|*Comments*| *accepted for publication in A&A; 13 pages, 9 Figures (+2 appendix pages)*|\n",
       "|**Abstract**|            Neutral atomic gas (HI) effectively traces galactic dynamics across mid to large galactocentric radii. However, its limitations in observing small-scale changes within the central few kiloparsecs, coupled with the often observed HI deficit in galactic centers, necessitates using molecular gas emission as a preferred tracer in these regions. Understanding the dynamics of both neutral atomic and molecular gas is crucial for a more complete understanding of how galaxies evolve, funnel gas from the outer disk into their central parts, and eventually form stars. In this work we aim to quantify the dynamics of both, the neutral atomic and molecular gas, in the nearby spiral galaxies NGC 1512, NGC 4535, and NGC 7496 using new MeerKAT-HI observations together with ALMA CO (2-1) observations from the PHANGS collaboration. We use the analysis tool 3D-Barolo to fit tilted ring models to the HI and CO observations. A combined approach of using the HI to constrain the true disk orientation parameters before applying these to the CO datasets is tested. This paper sets expectations for the results of the upcoming high-resolution HI coverage of many galaxies in the PHANGS-ALMA sample using MeerKAT or VLA, to establish a robust methodology for characterizing galaxy orientations and deriving dynamics from combining new HI with existing CO data.         |"
      ],
      "text/plain": [
       "[2407.04531] Neutral atomic and molecular gas dynamics in the nearby spiral galaxies NGC 1512, NGC 4535, and NGC 7496\n",
       "\tS. Laudage, et al. -- incl., <mark>E. Schinnerer</mark>, <mark>S. Stuber</mark>, <mark>J. Neumann</mark>"
      ]
     },
     "metadata": {},
     "output_type": "display_data"
    },
    {
     "data": {
      "text/markdown": [
       "## Failed papers"
      ],
      "text/plain": [
       "<IPython.core.display.Markdown object>"
      ]
     },
     "metadata": {},
     "output_type": "display_data"
    },
    {
     "data": {
      "text/markdown": [
       "\n",
       "|||\n",
       "|---:|:---|\n",
       "| [![arXiv](https://img.shields.io/badge/arXiv-2407.03424-b31b1b.svg)](https://arxiv.org/abs/2407.03424) | **Supernova Shocks Cannot Explain the Inflated State of Hypervelocity Runaways from White Dwarf Binaries**  |\n",
       "|| A. Bhat, et al. -- incl., <mark>K. El-Badry</mark> |\n",
       "|*Appeared on*| *2024-07-08*|\n",
       "|*Comments*| *Submitted to A\\&A. 15 pages, 17 figures*|\n",
       "|**Abstract**|            Recent observations have found a growing number of hypervelocity stars with speeds of $\\approx 1500-2500\\,$km\\,s$^{-1}$ which could have only been produced through thermonuclear supernovae in white dwarf binaries. Most of the observed hypervelocity runaways in this class display a surprising inflated structure: their current radii are roughly an order of magnitude greater than they would have been as white dwarfs filling their Roche lobe. While many simulations exist studying the dynamical phase leading to supernova detonation in these systems, no detailed calculations of the long-term structure of the runaways have yet been performed. We use an existing \\textsc{Arepo} hydrodynamical simulation of a supernova in a white dwarf binary as a starting point for the evolution of these stars with the 1 dimensional stellar evolution code MESA. We show that the supernova shock is not enough to inflate the white dwarf over timescales longer than a few thousand years, significantly shorter than the $10^{5-6}$ year lifetimes inferred for observed hypervelocity runaways. Despite experiencing a shock from a supernova less than $\\approx 0.02\\,R_\\odot$ away, our models do not experience significant interior heating, and all contract back to radii around $0.01\\,R_\\odot$ within about $10^4$\\,years. Explaining the observed inflated states requires either an additional source of significant heating or some other physics that is not yet accounted for in the subsequent evolution.         |\n",
       "|<p style=\"color:green\"> **ERROR** </p>| <p style=\"color:green\">affiliation error: mpia.affiliation_verifications: 'Heidelberg' keyword not found.</p> |"
      ],
      "text/plain": [
       "<IPython.core.display.Markdown object>"
      ]
     },
     "metadata": {},
     "output_type": "display_data"
    },
    {
     "data": {
      "text/markdown": [
       "\n",
       "|||\n",
       "|---:|:---|\n",
       "| [![arXiv](https://img.shields.io/badge/arXiv-2407.03713-b31b1b.svg)](https://arxiv.org/abs/2407.03713) | **Compositions of the Hercules-Aquila Cloud and Virgo Over-density**  |\n",
       "|| D. Ye, et al. -- incl., <mark>J. Shi</mark> |\n",
       "|*Appeared on*| *2024-07-08*|\n",
       "|*Comments*| *11 pages, 9 figures, accepted for publication in MNRAS*|\n",
       "|**Abstract**|            Based on a sample of K giant from Large sky Area Multi-Object fiber Spectroscopic Telescope (LAMOST) Data Release 8 and a sample of RR Lyrae (RRL) from \\textit{Gaia} Data Release 3, we investigate the compositions of the Hercules-Aquila Cloud (HAC) and Virgo Over-density (VOD) and their collective contribution to the tilt and triaxiality of the stellar halo ($r\\,\\textless\\,40\\,{\\rm kpc}$) as well as two breaks at $\\approx15\\,{\\rm kpc}$ and 30\\,kpc. We apply the Gaussian mixture model (GMM) to divide the stellar halo into the isotropic component and the radially biased anisotropic component, namely Gaia-Sausage-Enceladus (GSE), and find that both HAC and VOD are dominated by the GSE debris stars with weights of $0.67^{+0.09}_{-0.07}$ and $0.57^{+0.07}_{-0.06}$, respectively. In addition, using the K giants with orbital parameters, we identify the member stars of known substructures, including GSE, Sagittarius (Sgr), Helmi Streams, Sequoia, Thamnos, Pontus, Wukong, and Metal-weak Thick Disk (MWTD), to probe the compositions of low-eccentricity stars in the HAC and VOD regions. In density fittings of the RRL sample, we note that the absence of HAC and VOD has a weak effect on the shape of halo. Finally, we find that the radially biased anisotropic halo contributes majorly to the stellar halo that can be modelled with a tilted triaxial ellipsoid and a doubly broken power law with breaking radii at $18.08^{+2.04}_{-3.22}\\,{\\rm kpc}$ and $33.03^{+1.30}_{-1.21}\\,{\\rm kpc}$. This has important significance for understanding the status of large diffuse over-densities in the Milky Way.         |\n",
       "|<p style=\"color:green\"> **ERROR** </p>| <p style=\"color:green\">affiliation error: mpia.affiliation_verifications: 'Heidelberg' keyword not found.</p> |"
      ],
      "text/plain": [
       "<IPython.core.display.Markdown object>"
      ]
     },
     "metadata": {},
     "output_type": "display_data"
    },
    {
     "data": {
      "text/markdown": [
       "\n",
       "|||\n",
       "|---:|:---|\n",
       "| [![arXiv](https://img.shields.io/badge/arXiv-2407.03721-b31b1b.svg)](https://arxiv.org/abs/2407.03721) | **Discovery of a dusty yellow supergiant progenitor for the Type IIb SN 2017gkk**  |\n",
       "|| Z. Niu, N.-C. Sun, <mark>J. Liu</mark> |\n",
       "|*Appeared on*| *2024-07-08*|\n",
       "|*Comments*| *6 pages, 3 figures. ApJL accepted. Comments are welcome*|\n",
       "|**Abstract**|            Type IIb supernovae are important subclass of stripped-envelope supernovae (SNe), which show H lines only at early times. Their progenitors are believed to contain a low-mass H envelope before explosion. This work reports the discovery of a progenitor candidate in pre-explosion Hubble Space Telescope images for the Type IIb SN~2017gkk. With detailed analysis of its spectral energy distribution and local environment, we suggest that the progenitor is most likely a yellow supergiant with significant circumstellar extinction and has an initial mass of about 16 $M_\\odot$, effective temperature log($T_{\\rm eff}/K)=3.72\\pm0.08$ and luminosity log($L/L_{\\odot})=5.17\\pm0.04$. This progenitor is not massive enough to strip envelope through stellar wind, and it supports an interacting binary progenitor channel and adds to the growing list of direct progenitor detections for Type~IIb SNe. Future late-time observations will confirm whether this progenitor candidate has disappeared and reveal the putative binary companion that has survived the explosion.         |\n",
       "|<p style=\"color:green\"> **ERROR** </p>| <p style=\"color:green\">affiliation error: mpia.affiliation_verifications: 'Heidelberg' keyword not found.</p> |"
      ],
      "text/plain": [
       "<IPython.core.display.Markdown object>"
      ]
     },
     "metadata": {},
     "output_type": "display_data"
    },
    {
     "data": {
      "text/markdown": [
       "\n",
       "|||\n",
       "|---:|:---|\n",
       "| [![arXiv](https://img.shields.io/badge/arXiv-2407.04164-b31b1b.svg)](https://arxiv.org/abs/2407.04164) | **AGN STORM 2: VIII. Investigating the Narrow Absorption Lines in Mrk 817 Using HST-COS Observations**  |\n",
       "|| M. Dehghanian, et al. -- incl., <mark>M. Sharma</mark> |\n",
       "|*Appeared on*| *2024-07-08*|\n",
       "|*Comments*| *18 pages, 12 Figures, Accepted for publication in ApJ*|\n",
       "|**Abstract**|            We observed the Seyfert 1 galaxy Mrk817 during an intensive multi-wavelength reverberation mapping campaign for 16 months. Here, we examine the behavior of narrow UV absorption lines seen in HST/COS spectra, both during the campaign and in other epochs extending over 14 years. We conclude that while the narrow absorption outflow system (at -3750 km/s with FWHM=177 km/s) responds to the variations of the UV continuum as modified by the X-ray obscurer, its total column density (logNH =19.5 cm-2) did not change across all epochs. The adjusted ionization parameter (scaled with respect to the variations in the Hydrogen ionizing continuum flux) is log UH =-1.0. The outflow is located at a distance smaller than 38 parsecs from the central source, which implies a hydrogen density of nH > 3000 cm-3. The absorption outflow system only covers the continuum emission source and not the broad emission line region, which suggests that its transverse size is small (< 1e16 cm), with potential cloud geometries ranging from spherical to elongated along the line of sight.         |\n",
       "|<p style=\"color:green\"> **ERROR** </p>| <p style=\"color:green\">affiliation error: mpia.affiliation_verifications: 'Heidelberg' keyword not found.</p> |"
      ],
      "text/plain": [
       "<IPython.core.display.Markdown object>"
      ]
     },
     "metadata": {},
     "output_type": "display_data"
    },
    {
     "data": {
      "text/markdown": [
       "\n",
       "|||\n",
       "|---:|:---|\n",
       "| [![arXiv](https://img.shields.io/badge/arXiv-2407.04220-b31b1b.svg)](https://arxiv.org/abs/2407.04220) | **Detecting the dark sector through scalar-induced gravitational waves**  |\n",
       "|| X.-B. Sui, <mark>J. Liu</mark>, X.-Y. Yang, R.-G. Cai |\n",
       "|*Appeared on*| *2024-07-08*|\n",
       "|*Comments*| *13 pages, 4 figures*|\n",
       "|**Abstract**|            We investigate the evolution of cosmological scalar perturbations in the case that the background radiation is weakly coupled to a light scalar field $\\phi$. The light scalar $\\phi$ is a homogeneous background field with a large initial value. In the radiation-dominated Universe, the coupling term introduces an effective mass to $\\phi$ and the background ultra-relativistic particles. The oscillations of $\\phi$ result in the periodic change of the equation of state parameter and the sound speed, which provides a novel mechanism to amplify subhorizon scalar perturbations through parametric resonance. The amplification of scalar perturbations leads to a stochastic gravitational-waves background~(SGWB) expected to be observed by multiband gravitational wave observers. The observation of the SGWB helps to determine the initial value of $\\phi$ and the coupling strength of the interaction. This mechanism is generally applicable to the interactions that introduce an effective mass, and we take the interaction between $\\phi$ and electrons as a concrete example to illustrate the result. We find that under the condition that the coupling coefficient $\\lambda=10^{-16}$ and the initial value $\\phi_i=10^{18}$ GeV, the resulting SGWB spectrum is expected to be observed by the future observers including LISA, $Taiji$, DECIGO and BBO.         |\n",
       "|<p style=\"color:green\"> **ERROR** </p>| <p style=\"color:green\">affiliation error: mpia.affiliation_verifications: 'Heidelberg' keyword not found.</p> |"
      ],
      "text/plain": [
       "<IPython.core.display.Markdown object>"
      ]
     },
     "metadata": {},
     "output_type": "display_data"
    },
    {
     "data": {
      "text/markdown": [
       "\n",
       "|||\n",
       "|---:|:---|\n",
       "| [![arXiv](https://img.shields.io/badge/arXiv-2407.03445-b31b1b.svg)](https://arxiv.org/abs/2407.03445) | **Submillimeter and Mid-Infrared Variability of Young Stellar Objects in the M17SWex Intermediate-Mass Star-Forming Region**  |\n",
       "|| G. Park, et al. -- incl., <mark>X. Zhang</mark> |\n",
       "|*Appeared on*| *2024-07-08*|\n",
       "|*Comments*| *Accepted for Publication in The Astronomical Journal*|\n",
       "|**Abstract**|            We present a comprehensive analysis of young stellar object (YSO) variability within the M17 Southwest Extension (M17 SWex), using 3.5 years of monitoring data from the JCMT Transient Survey at sub-millimeter (sub-mm) and 9 years from the NEOWISE mission at mid-infrared (mid-IR). Our study encompasses observations of 147 bright sub-mm peaks identified within our deep JCMT co-added map as well as 156 YSOs in NEOWISE W1 and 179 in W2 that were previously identified in Spitzer surveys. We find three robust sub-mm variables: two are candidate YSOs and one is a likely extragalactic source. At mid-IR wavelengths, our analysis reveals secular and stochastic variability in 47 YSOs, with the highest fraction of secular variability occurring at the earliest evolutionary stage. This is similar to what has previously been observed for low-mass YSO variability within the Gould Belt. However, we observe less overall variability in M17SWex at both the sub-mm and mid-IR. We suspect that this lower fraction is due to the greater distance to M17 SWex. Our findings showcase the utility of multi-wavelength observations to better capture the complex variability phenomena inherent to star formation processes and demonstrate the importance of years-long monitoring of a diverse selection of star-forming environments.         |\n",
       "|<p style=\"color:red\"> **ERROR** </p>| <p style=\"color:red\">latex error 'PosixPath' object is not subscriptable</p> |"
      ],
      "text/plain": [
       "<IPython.core.display.Markdown object>"
      ]
     },
     "metadata": {},
     "output_type": "display_data"
    }
   ],
   "source": [
    "import datetime\n",
    "today = str(datetime.date.today())\n",
    "logfile = f\"_build/html/logs/log-{today}.md\"\n",
    "\n",
    "\n",
    "with open(logfile, 'w') as logs:\n",
    "    # Success\n",
    "    logs.write(f'# Arxiv on Deck 2: Logs - {today}\\n\\n')\n",
    "    logs.write(\"\"\"* Arxiv had {0:,d} new papers\\n\"\"\".format(len(new_papers)))\n",
    "    logs.write(\"\"\"    * {0:,d} with possible author matches\\n\\n\"\"\".format(len(candidates)))\n",
    "    logs.write(\"## Sucessful papers\\n\\n\")\n",
    "    display(Markdown(\"## Successful papers\"))\n",
    "    success = [k[0] for k in documents]\n",
    "    for candid in candidates:\n",
    "        if candid['identifier'].split(':')[-1] in success:\n",
    "            display(candid)\n",
    "            logs.write(candid.generate_markdown_text() + '\\n\\n')\n",
    "\n",
    "    ## failed\n",
    "    logs.write(\"## Failed papers\\n\\n\")\n",
    "    display(Markdown(\"## Failed papers\"))\n",
    "    failed = sorted(failed, key=lambda x: x[1])\n",
    "    current_reason = \"\"\n",
    "    for paper, reason in failed:\n",
    "        if 'affiliation' in reason:\n",
    "            color = 'green'\n",
    "        else:\n",
    "            color = 'red'\n",
    "        data = Markdown(\n",
    "                paper.generate_markdown_text() + \n",
    "                f'\\n|<p style=\"color:{color:s}\"> **ERROR** </p>| <p style=\"color:{color:s}\">{reason:s}</p> |'\n",
    "               )\n",
    "        if reason != current_reason:\n",
    "            logs.write(f'### {reason:s} \\n\\n')\n",
    "            current_reason = reason\n",
    "        logs.write(data.data + '\\n\\n')\n",
    "        \n",
    "        # only display here the important errors (all in logs)\n",
    "        # if color in ('red',):\n",
    "        display(data)"
   ]
  },
  {
   "cell_type": "markdown",
   "id": "472d20ee",
   "metadata": {
    "papermill": {
     "duration": 0.005056,
     "end_time": "2024-07-08T04:09:58.911637",
     "exception": false,
     "start_time": "2024-07-08T04:09:58.906581",
     "status": "completed"
    },
    "tags": []
   },
   "source": [
    "## Export documents\n",
    "\n",
    "We now write the .md files and export relevant images"
   ]
  },
  {
   "cell_type": "code",
   "execution_count": 7,
   "id": "d426aed9",
   "metadata": {
    "execution": {
     "iopub.execute_input": "2024-07-08T04:09:58.923074Z",
     "iopub.status.busy": "2024-07-08T04:09:58.922682Z",
     "iopub.status.idle": "2024-07-08T04:09:58.929335Z",
     "shell.execute_reply": "2024-07-08T04:09:58.928762Z"
    },
    "papermill": {
     "duration": 0.013959,
     "end_time": "2024-07-08T04:09:58.930680",
     "exception": false,
     "start_time": "2024-07-08T04:09:58.916721",
     "status": "completed"
    },
    "tags": []
   },
   "outputs": [],
   "source": [
    "def export_markdown_summary(md: str, md_fname:str, directory: str):\n",
    "    \"\"\"Export MD document and associated relevant images\"\"\"\n",
    "    import os\n",
    "    import shutil\n",
    "    import re\n",
    "\n",
    "    if (os.path.exists(directory) and not os.path.isdir(directory)):\n",
    "        raise RuntimeError(f\"a non-directory file exists with name {directory:s}\")\n",
    "\n",
    "    if (not os.path.exists(directory)):\n",
    "        print(f\"creating directory {directory:s}\")\n",
    "        os.mkdir(directory)\n",
    "\n",
    "    fig_fnames = (re.compile(r'\\[Fig.*\\]\\((.*)\\)').findall(md) + \n",
    "                  re.compile(r'\\<img src=\"([^>\\s]*)\"[^>]*/>').findall(md))\n",
    "    print(\"found figures\", fig_fnames)\n",
    "    for fname in fig_fnames:\n",
    "        if 'http' in fname:\n",
    "            # No need to copy online figures\n",
    "            continue\n",
    "        if not os.path.exists(fname):\n",
    "            print(\"file not found\", fname)\n",
    "            continue\n",
    "        print(\"copying \", fname, \"to\", directory)\n",
    "        destdir = os.path.join(directory, os.path.dirname(fname))\n",
    "        destfname = os.path.join(destdir, os.path.basename(fname))\n",
    "        try:\n",
    "            os.makedirs(destdir)\n",
    "        except FileExistsError:\n",
    "            pass\n",
    "        shutil.copy(fname, destfname)\n",
    "    with open(os.path.join(directory, md_fname), 'w') as fout:\n",
    "        fout.write(md)\n",
    "    print(\"exported in \", os.path.join(directory, md_fname))\n",
    "    [print(\"    + \" + os.path.join(directory,fk)) for fk in fig_fnames]"
   ]
  },
  {
   "cell_type": "code",
   "execution_count": 8,
   "id": "014d04a4",
   "metadata": {
    "execution": {
     "iopub.execute_input": "2024-07-08T04:09:58.942011Z",
     "iopub.status.busy": "2024-07-08T04:09:58.941478Z",
     "iopub.status.idle": "2024-07-08T04:09:58.960851Z",
     "shell.execute_reply": "2024-07-08T04:09:58.960221Z"
    },
    "papermill": {
     "duration": 0.026406,
     "end_time": "2024-07-08T04:09:58.962169",
     "exception": false,
     "start_time": "2024-07-08T04:09:58.935763",
     "status": "completed"
    },
    "tags": []
   },
   "outputs": [
    {
     "name": "stdout",
     "output_type": "stream",
     "text": [
      "found figures ['tmp_2407.03520/./Artboard_5.png', 'tmp_2407.03520/./LC_vertical_last.png', 'tmp_2407.03520/./lc_adapt.png']\n",
      "copying  tmp_2407.03520/./Artboard_5.png to _build/html/\n",
      "copying  tmp_2407.03520/./LC_vertical_last.png to _build/html/\n",
      "copying  tmp_2407.03520/./lc_adapt.png to _build/html/\n",
      "exported in  _build/html/2407.03520.md\n",
      "    + _build/html/tmp_2407.03520/./Artboard_5.png\n",
      "    + _build/html/tmp_2407.03520/./LC_vertical_last.png\n",
      "    + _build/html/tmp_2407.03520/./lc_adapt.png\n",
      "found figures ['tmp_2407.04094/./figures/SED_all.png', 'tmp_2407.04094/./figures/radio_spec_3bla.png', 'tmp_2407.04094/./figures/comparison_R_aox.png']\n",
      "copying  tmp_2407.04094/./figures/SED_all.png to _build/html/\n",
      "copying  tmp_2407.04094/./figures/radio_spec_3bla.png to _build/html/\n",
      "copying  tmp_2407.04094/./figures/comparison_R_aox.png to _build/html/\n",
      "exported in  _build/html/2407.04094.md\n",
      "    + _build/html/tmp_2407.04094/./figures/SED_all.png\n",
      "    + _build/html/tmp_2407.04094/./figures/radio_spec_3bla.png\n",
      "    + _build/html/tmp_2407.04094/./figures/comparison_R_aox.png\n",
      "found figures ['tmp_2407.04531/./figs/Figure3.png', 'tmp_2407.04531/./figs/Figure1.png', 'tmp_2407.04531/./figs/PVs.png']\n",
      "copying  tmp_2407.04531/./figs/Figure3.png to _build/html/\n",
      "copying  tmp_2407.04531/./figs/Figure1.png to _build/html/\n",
      "copying  tmp_2407.04531/./figs/PVs.png to _build/html/\n",
      "exported in  _build/html/2407.04531.md\n",
      "    + _build/html/tmp_2407.04531/./figs/Figure3.png\n",
      "    + _build/html/tmp_2407.04531/./figs/Figure1.png\n",
      "    + _build/html/tmp_2407.04531/./figs/PVs.png\n"
     ]
    }
   ],
   "source": [
    "for paper_id, md in documents:\n",
    "    export_markdown_summary(md, f\"{paper_id:s}.md\", '_build/html/')"
   ]
  },
  {
   "cell_type": "markdown",
   "id": "f087a0a7",
   "metadata": {
    "papermill": {
     "duration": 0.005267,
     "end_time": "2024-07-08T04:09:58.972810",
     "exception": false,
     "start_time": "2024-07-08T04:09:58.967543",
     "status": "completed"
    },
    "tags": []
   },
   "source": [
    "## Display the papers\n",
    "\n",
    "Not necessary but allows for a quick check."
   ]
  },
  {
   "cell_type": "code",
   "execution_count": 9,
   "id": "fd25f625",
   "metadata": {
    "execution": {
     "iopub.execute_input": "2024-07-08T04:09:58.984086Z",
     "iopub.status.busy": "2024-07-08T04:09:58.983701Z",
     "iopub.status.idle": "2024-07-08T04:09:58.990957Z",
     "shell.execute_reply": "2024-07-08T04:09:58.990363Z"
    },
    "papermill": {
     "duration": 0.01432,
     "end_time": "2024-07-08T04:09:58.992234",
     "exception": false,
     "start_time": "2024-07-08T04:09:58.977914",
     "status": "completed"
    },
    "scrolled": false,
    "tags": []
   },
   "outputs": [
    {
     "data": {
      "text/markdown": [
       "<div class=\"macros\" style=\"visibility:hidden;\">\n",
       "$\\newcommand{\\ensuremath}{}$\n",
       "$\\newcommand{\\xspace}{}$\n",
       "$\\newcommand{\\object}[1]{\\texttt{#1}}$\n",
       "$\\newcommand{\\farcs}{{.}''}$\n",
       "$\\newcommand{\\farcm}{{.}'}$\n",
       "$\\newcommand{\\arcsec}{''}$\n",
       "$\\newcommand{\\arcmin}{'}$\n",
       "$\\newcommand{\\ion}[2]{#1#2}$\n",
       "$\\newcommand{\\textsc}[1]{\\textrm{#1}}$\n",
       "$\\newcommand{\\hl}[1]{\\textrm{#1}}$\n",
       "$\\newcommand{\\footnote}[1]{}$\n",
       "$\\newcommand{\\gp}[1]{\\textcolor{teal}{\\textbf{GP:} #1}}$\n",
       "$\\newcommand{\\teff}{T\\rm_{eff }}$\n",
       "$\\newcommand{\\kms}{\\mathrm{km s}^{-1}}$\n",
       "$\\newcommand\\natexlab{#1}$</div>\n",
       "\n",
       "\n",
       "\n",
       "<div id=\"title\">\n",
       "\n",
       "# Planet Formation and Disk Chemistry\n",
       "\n",
       "</div>\n",
       "<div id=\"comments\">\n",
       "\n",
       "[![arXiv](https://img.shields.io/badge/arXiv-2407.03520-b31b1b.svg)](https://arxiv.org/abs/2407.03520)<mark>Appeared on: 2024-07-08</mark> -  _9 pages, 5 figures, Chapter IV of the National Congress of (proto-)Planetary Astrochemistry (CNAP II) Proceedings_\n",
       "\n",
       "</div>\n",
       "<div id=\"authors\">\n",
       "\n",
       "<mark>G. Perotti</mark>, et al.\n",
       "\n",
       "</div>\n",
       "<div id=\"abstract\">\n",
       "\n",
       "**Abstract:** Over the past decade, progress in observational capabilities, combined with theoretical advancements, have transformed our comprehension of the physics and chemistry during planet formation. Despite these important steps forward, open questions persist on the chemical and physical evolution of solids in their journey from the collapsing molecular cores to disks and planetary bodies. This chapter is a repository of such burning questions. It has the ambition to identify the most promising avenues for future research based on current observational and modeling opportunities. $\\keywords{Planet formation, Protoplanetary disks, Circumstellar matter, Dust, Gas}$\n",
       "\n",
       "</div>\n",
       "\n",
       "<div id=\"div_fig1\">\n",
       "\n",
       "<img src=\"tmp_2407.03520/./Artboard_5.png\" alt=\"Fig5\" width=\"100%\"/>\n",
       "\n",
       "**Figure 5. -** Schematics of a planet-forming disk. The illustration highlights facilities used to probe different dust and gas disk reservoirs. Figure by A. Houge. (*fig:disk_sketch*)\n",
       "\n",
       "</div>\n",
       "<div id=\"div_fig2\">\n",
       "\n",
       "<img src=\"tmp_2407.03520/./LC_vertical_last.png\" alt=\"Fig1\" width=\"100%\"/>\n",
       "\n",
       "**Figure 1. -** Complementary JWST and ALMA observations the L1527 IRS protostar. _Top:_ JWST/NIRCam image highlighting the wide molecular outflow (PID: 2739). _Middle:_ ALMA $^{13}$CO contours showing a snapshot of gas moving at +0.5 km/s with respect to the central source (PID: 2019.1.00261.L). _Bottom:_ ALMA 1.3 mm dust emission contours probing the disk midplane (adapted from \\citealt{2023ApJ...951...10V}). (*fig:L1527*)\n",
       "\n",
       "</div>\n",
       "<div id=\"div_fig3\">\n",
       "\n",
       "<img src=\"tmp_2407.03520/./lc_adapt.png\" alt=\"Fig2\" width=\"100%\"/>\n",
       "\n",
       "**Figure 2. -** Multi-wavelength dust opacity spectral index ($\\beta_{0.88-3.4 mm}$) across the envelope of L1527, as a function of ALMA antennas baseline length or, equivalently, recovered physical scale (top x-axis). The probed scales go from 2000 au to 100 au. A gradient in dust properties across scales could be explained by dust growth to sub-millimeter sizes, variations in the chemical compositions of grains, or outwards transport of disk grains along outflows. Adapted from \\citep{Cacciapuoti2023}. (*fig:LC23*)\n",
       "\n",
       "</div><div id=\"qrcode\"><img src=https://api.qrserver.com/v1/create-qr-code/?size=100x100&data=\"https://arxiv.org/abs/2407.03520\"></div>"
      ],
      "text/plain": [
       "<IPython.core.display.Markdown object>"
      ]
     },
     "metadata": {},
     "output_type": "display_data"
    },
    {
     "data": {
      "text/markdown": [
       "<div class=\"macros\" style=\"visibility:hidden;\">\n",
       "$\\newcommand{\\ensuremath}{}$\n",
       "$\\newcommand{\\xspace}{}$\n",
       "$\\newcommand{\\object}[1]{\\texttt{#1}}$\n",
       "$\\newcommand{\\farcs}{{.}''}$\n",
       "$\\newcommand{\\farcm}{{.}'}$\n",
       "$\\newcommand{\\arcsec}{''}$\n",
       "$\\newcommand{\\arcmin}{'}$\n",
       "$\\newcommand{\\ion}[2]{#1#2}$\n",
       "$\\newcommand{\\textsc}[1]{\\textrm{#1}}$\n",
       "$\\newcommand{\\hl}[1]{\\textrm{#1}}$\n",
       "$\\newcommand{\\footnote}[1]{}$</div>\n",
       "\n",
       "\n",
       "\n",
       "<div id=\"title\">\n",
       "\n",
       "# Multi-wavelength properties of three new radio-powerful $z\\sim5.6$ QSOs discovered from RACS\n",
       "\n",
       "</div>\n",
       "<div id=\"comments\">\n",
       "\n",
       "[![arXiv](https://img.shields.io/badge/arXiv-2407.04094-b31b1b.svg)](https://arxiv.org/abs/2407.04094)<mark>Appeared on: 2024-07-08</mark> -  _Submitted to A&A on July 4th_\n",
       "\n",
       "</div>\n",
       "<div id=\"authors\">\n",
       "\n",
       "L. Ighina, et al. -- incl., <mark>S. Belladitta</mark>\n",
       "\n",
       "</div>\n",
       "<div id=\"abstract\">\n",
       "\n",
       "**Abstract:** We present a multi-wavelength study on three new $z\\sim5.6$ quasi stellar objects (QSOs) selected based on their radio and optical/near-infrared properties in publicly available surveys and then identified with dedicated spectroscopic observations. These are among the radio-brightest QSOs currently known at $z>5.5$ , having $\\rm R=S_{\\rm 5GHz}/S_{\\rm 4400Å}>100$ . In this work we present their identification and we also discuss their multi-wavelength properties (from the radio to the X-ray band) based on the detection in public surveys as well as dedicated radio and X-ray observations. The three sources present a wide range of properties, in terms of relative intensity and spectral shape, highlighting the importance of multi-wavelength observations in order to accurately characterise these high- $z$ objects. In particular, from our analysis we found one source, at $z=5.61$ , that presents clear blazars properties (strong and flat radio and X-ray emission), making it one of the most distant currently known in this class. Moreover, from the fit of the optical/near-infrared photometric measurements with an accretion disc model, as well as the analysis of the CIV broad emission line in one case, we were able to estimate the mass and the accretion rate of the central black holes in these systems, finding $\\rm M_{\\rm BH}\\sim1-10\\times10^9$ M $_\\odot$ accreting at a rate $\\lambda_{\\rm Edd}\\sim0.1-0.2$ . With this work we increase the number of very-high redshift radio-powerful QSOs characterised with multi-wavelength observations, essential in order to understand the evolution and the properties of this still poorly constrained class of sources.\n",
       "\n",
       "</div>\n",
       "\n",
       "<div id=\"div_fig1\">\n",
       "\n",
       "<img src=\"tmp_2407.04094/./figures/SED_all.png\" alt=\"Fig7\" width=\"100%\"/>\n",
       "\n",
       "**Figure 7. -** Multi-wavelength rest-frame SED of the three new RL QSOs presented in this work. For each source we show the radio (red squares), optical/NIR (purple circles) and X-ray (orange diamonds) photometry discussed in the text. The black line is a QSO template from {\\protect [Polletta, Tajer and Maraschi (2007)]()}, while the shaded yellow region represents frequencies affected by the hydrogen absorption from the inter-galactic medium (IGM). The dashed line is the best-fit AD model to the optical data-points (assuming $\\eta\\sim0.1$) together with the expected X-ray emission from the optical/UV--X-ray relation found in {\\protect [ and Lusso (2016)]()}(assuming $\\Gamma_{\\rm X}=2$ and an exponential cut-off at 200 keV). The Corresponding shaded area in the X-rays shows the 1 and 2$\\sigma$ scatter of the relation. The dotted black line at low frequency is the best-fit power law to the radio data, as described in the text. (*fig:SED*)\n",
       "\n",
       "</div>\n",
       "<div id=\"div_fig2\">\n",
       "\n",
       "<img src=\"tmp_2407.04094/./figures/radio_spec_3bla.png\" alt=\"Fig4\" width=\"100%\"/>\n",
       "\n",
       "**Figure 4. -** Radio spectra over the $\\sim0.1-10$ GHz observed frequency range of the three sources described in this work. The majority of the data points are from public surveys (circles), while the 2.1, 5.5 and 9 GHz measurements are from dedicated, simultaneous observations with ATCA (squares). The dashed line in each panel indicate the best-fit model obtained for the different objects as described in the text. (*fig:radio_spec*)\n",
       "\n",
       "</div>\n",
       "<div id=\"div_fig3\">\n",
       "\n",
       "<img src=\"tmp_2407.04094/./figures/comparison_R_aox.png\" alt=\"Fig5\" width=\"100%\"/>\n",
       "\n",
       "**Figure 5. -** Radio loudness as a function of the $\\tilde{\\alpha}_{\\rm ox}$ parameter for the objects presented in this work (blue circle, red square and green upper limit) as well as for a complete radio-selected sample of $z>4$ blazars ( (Caccianiga2019, [Ighina, Caccianiga and Moretti 2019]()) ) and $z>4$ radio QSOs discussed from the literature ( ([Caccianiga, Ighina and Moretti 2024]()) , black points, and from single studies, pink symbols, see text). The shaded grey regions at $\\tilde{\\alpha}_{\\rm ox}\\sim1.35$ and log(R) $\\sim2$ divide the parameter space in two main regions: X-ray-, radio-bright objects (top-right corner, likely blazars) and X-ray-, radio-faint objects (bottom-left corner, likely hosting mis-aligned jets, i.e., classic RL QSOs). (*fig:R_aox*)\n",
       "\n",
       "</div><div id=\"qrcode\"><img src=https://api.qrserver.com/v1/create-qr-code/?size=100x100&data=\"https://arxiv.org/abs/2407.04094\"></div>"
      ],
      "text/plain": [
       "<IPython.core.display.Markdown object>"
      ]
     },
     "metadata": {},
     "output_type": "display_data"
    },
    {
     "data": {
      "text/markdown": [
       "<div class=\"macros\" style=\"visibility:hidden;\">\n",
       "$\\newcommand{\\ensuremath}{}$\n",
       "$\\newcommand{\\xspace}{}$\n",
       "$\\newcommand{\\object}[1]{\\texttt{#1}}$\n",
       "$\\newcommand{\\farcs}{{.}''}$\n",
       "$\\newcommand{\\farcm}{{.}'}$\n",
       "$\\newcommand{\\arcsec}{''}$\n",
       "$\\newcommand{\\arcmin}{'}$\n",
       "$\\newcommand{\\ion}[2]{#1#2}$\n",
       "$\\newcommand{\\textsc}[1]{\\textrm{#1}}$\n",
       "$\\newcommand{\\hl}[1]{\\textrm{#1}}$\n",
       "$\\newcommand{\\footnote}[1]{}$\n",
       "$\\newcommand{  \\hi       }{\\ifmmode{\\rm H} \\textsc{i} \\else H \\textsc{i} \\fi}$\n",
       "$\\newcommand$\n",
       "$\\newcommand$\n",
       "$\\newcommand$\n",
       "$\\newcommand{\\sample}{NGC~1512, NGC~4535, and NGC~7496}$\n",
       "$\\newcommand{\\orcid}[1]{\\href{https://orcid.org/#1}{\\includegraphics[width=10pt]{figs/orcid.pdf}}}$\n",
       "$\\newcommand{\\Bonn}{Argelander-Institut für Astronomie, Universität Bonn, Auf dem Hügel 71, 53121 Bonn, Germany}$\n",
       "$\\newcommand{\\NRAO}{National Radio Astronomy Observatory, 520 Edgemont Road, Charlottesville, VA 22903, USA}$\n",
       "$\\newcommand{\\OSU}{Department of Astronomy, The Ohio State University, 140 West 18th Ave, Columbus, OH 43210, USA}$\n",
       "$\\newcommand{ÇAP}{Center for Cosmology and Astroparticle Physics, 191 West Woodruff Avenue, Columbus, OH 43210, USA}$\n",
       "$\\newcommand{\\Princeton}{Department of Astrophysical Sciences, Princeton University, 4 Ivy Lane, Princeton, NJ 08544, USA}$\n",
       "$\\newcommand{\\MPIA}{\\affiliation{Max-Planck-Institut für Astronomie, Königstuhl 17, D-69117, Heidelberg, Germany}}$\n",
       "$\\newcommand{\\HeidelbergARI}{\\affiliation{Astronomisches Rechen-Institut, Zentrum für Astronomie der Universität Heidelberg, Mönchhofstra\\ss e 12-14, D-69120 Heidelberg, Germany}}$\n",
       "$\\newcommand{\\HeidelbergITA}{Universität Heidelberg, Zentrum für Astronomie, Institut für Theoretische Astrophysik, Albert-Ueberle-Stra{\\ss}e 2,69120 Heidelberg, Germany}$\n",
       "$\\newcommand{\\HeidelbergZWR}{Universität Heidelberg, Interdisziplinäres Zentrum für Wissenschaftliches Rechnen, Im Neuenheimer Feld 205, 69120 Heidelberg, Germany}$\n",
       "$\\newcommand{\\ESO}{\\affiliation{European Southern Observatory, Karl-Schwarzschild Stra{\\ss}e 2, D-85748 Garching bei München, Germany}}$\n",
       "$\\newcommand{\\Alberta}{\\affiliation{Department of Physics, University of Alberta, Edmonton, AB T6G 2E1, Canada}}$\n",
       "$\\newcommand{\\OAN}{Observatorio Astron{ó}mico Nacional (IGN), C/ Alfonso XII, 3, E-28014 Madrid, Spain}$\n",
       "$\\newcommand{\\astron}{Netherlands Institute for Radio Astronomy (ASTRON),  Oude Hoogeveensedijk 4, 7991 PD Dwingeloo, Netherlands}$\n",
       "$\\newcommand{\\kapeyn}{Kapteyn Astronomical Institute, University of Groningen, PO Box 800, 9700 AV Groningen, The Netherlands}$\n",
       "$\\newcommand{\\UCT}{Department of Astronomy, University of Cape Town, Private Bag X3, 7701 Rondebosch, South Africa}$\n",
       "$\\newcommand{\\MPE}{\\affiliation{Max-Planck-Institut für extraterrestrische Physik, Giessenbachstra{\\ss}e 1, D-85748 Garching, Germany}}$\n",
       "$\\newcommand{\\Conneticut}{Department of Physics, University of Connecticut, Storrs, CT, 06269, USA}$\n",
       "$\\newcommand{\\ASIAA}{Institute of Astronomy and Astrophysics, Academia Sinica, Astronomy-Mathematics Building, No. 1, Sec. 4, Roosevelt Road, Taipei 10617, Taiwan}$\n",
       "$\\newcommand{\\NRAOsoc}{National Radio Astronomy Observatory, 1003 Lopezville Road, Socorro, NM 87801, USA}$\n",
       "$\\newcommand{\\Wyoming}{Department of Physics & Astronomy, University of Wyoming, Laramie, WY 82071}$\n",
       "$\\newcommand{\\Tamkang}{Department of Physics, Tamkang University, No.151, Yingzhuan Road, Tamsui District, New Taipei City 251301, Taiwan}$\n",
       "$\\newcommand{\\SanDiego}{Center for Astrophysics and Space Sciences, University of California, San Diego, 9500 Gilman Drive MC0424, La Jolla, CA 92093, USA}$\n",
       "$\\newcommand{\\Oxford}{Sub-department of Astrophysics, Department of Physics, University of Oxford, Keble Road, Oxford OX1 3RH, UK}$\n",
       "$\\newcommand{\\sectionautorefname}{Section}$</div>\n",
       "\n",
       "\n",
       "\n",
       "<div id=\"title\">\n",
       "\n",
       "# Neutral atomic and molecular gas dynamics in the nearby spiral galaxies NGC 1512, NGC 4535, and NGC 7496\n",
       "\n",
       "</div>\n",
       "<div id=\"comments\">\n",
       "\n",
       "[![arXiv](https://img.shields.io/badge/arXiv-2407.04531-b31b1b.svg)](https://arxiv.org/abs/2407.04531)<mark>Appeared on: 2024-07-08</mark> -  _accepted for publication in A&A; 13 pages, 9 Figures (+2 appendix pages)_\n",
       "\n",
       "</div>\n",
       "<div id=\"authors\">\n",
       "\n",
       "S. Laudage, et al. -- incl., <mark>E. Schinnerer</mark>, <mark>S. Stuber</mark>, <mark>J. Neumann</mark>\n",
       "\n",
       "</div>\n",
       "<div id=\"abstract\">\n",
       "\n",
       "**Abstract:** Neutral atomic gas ( $\\rm H i$ ) effectively traces galactic dynamics across mid to large galactocentric radii. However, its limitations in observing small-scale changes within the central few kiloparsecs, coupled with the often observed $\\hi$ deficit in galactic centers, necessitates the use of molecular gas emission as a preferred tracer in these regions. Understanding the dynamics of both neutral atomic and molecular gas is crucial for a more complete understanding of how galaxies evolve, funnel gas from the outer disk into their central parts, and eventually form stars. In this work we aim to quantify the dynamics of both, the neutral atomic and molecular gas, in the nearby spiral galaxies NGC 1512, NGC 4535, and NGC 7496 using new MeerKAT $\\hi$ observations together with ALMA CO (2-1) observations from the PHANGS collaboration. We use the analysis tool $\\BB$ to fit tilted ring models to the $\\hi$ and CO observations. A combined approach of using the $\\hi$ to constrain the true disk orientation parameters before applying these to the CO datasets is tested. This paper sets expectations for the results of the upcoming high-resolution $\\hi$ coverage of many galaxies in the PHANGS-ALMA sample using MeerKAT or VLA, to establish a robust methodology for characterizing galaxy orientations and deriving dynamics from combing new $\\hi$ with existing CO data.\n",
       "\n",
       "</div>\n",
       "\n",
       "<div id=\"div_fig1\">\n",
       "\n",
       "<img src=\"tmp_2407.04531/./figs/Figure3.png\" alt=\"Fig3\" width=\"100%\"/>\n",
       "\n",
       "**Figure 3. -** _Top row:_ Final $\\hi$ rotation curves (black circles) for NGC 1512 (left), NGC 4535 (middle) and NGC 7496 (right) overplotted with rotation curves derived by only considering the approaching (blue) and the receding (red) side of the galaxy. The bar radius is indicated with a dashed grey line and the distance of NGC 1510 is indicated with the green dashed line. _Bottom row:_ The panels show the adopted geometry in our fitting procedure for NGC 1512 (left), NGC 4535 (middle) and NGC 7496 (right) for the $\\hi$ observations. The grey squares and circles represent the inclination $i$ and position angle $\\phi$ results for each ring after the second fitting stage, respectively. The blue (inclination) and yellow (position angle) lines represent the regularization function that was used to smooth out the geometry in the final stage of the fitting procedure. (*fig:ResultsHI*)\n",
       "\n",
       "</div>\n",
       "<div id=\"div_fig2\">\n",
       "\n",
       "<img src=\"tmp_2407.04531/./figs/Figure1.png\" alt=\"Fig1\" width=\"100%\"/>\n",
       "\n",
       "**Figure 1. -** _Top row:_ Moment 1 maps from PHANGS MeerKAT $\\hi$ observations of NGC 1512, NGC 4535, and NGC 7496 built with the strict masking procedure described in Section \\ref{sec:Methods}.  The maps are overplotted with isovelocity-lines (grey) in intervals of \\SI{30}{\\kilo\\meter\\per\\second}. _Middle row:_ Integrated intensity or Moment 0 maps from the MeerKAT $\\hi$ observations built with the same masking procedure. The location of the companion galaxy NGC 1510 is indicated by the white circle. _Bottom row:_ Integrated intensity or Moment 0 maps of the three galaxies built from CO observations taken from PHANGS-ALMA. The extent of the CO maps is indicated in comparison to the $\\hi$ maps. (*fig:moment1_HI*)\n",
       "\n",
       "</div>\n",
       "<div id=\"div_fig3\">\n",
       "\n",
       "<img src=\"tmp_2407.04531/./figs/PVs.png\" alt=\"Fig2\" width=\"100%\"/>\n",
       "\n",
       "**Figure 2. -** \\centering_Top row:_ Line-of-sight velocities along the major axis position from the $\\hi$ observations of NGC 1512 (left), NGC 4535 (middle), and NGC 7496 (right). _Bottom row:_ Line-of-sight velocities along the minor axis. The x-axis represents the offset of the galactic center and the y-axis represents the observed velocities with (left) and without (right) subtracting the systemic velocity of the galaxy. (*fig:PVs_MAJOR*)\n",
       "\n",
       "</div><div id=\"qrcode\"><img src=https://api.qrserver.com/v1/create-qr-code/?size=100x100&data=\"https://arxiv.org/abs/2407.04531\"></div>"
      ],
      "text/plain": [
       "<IPython.core.display.Markdown object>"
      ]
     },
     "metadata": {},
     "output_type": "display_data"
    }
   ],
   "source": [
    "[display(Markdown(k[1])) for k in documents];"
   ]
  },
  {
   "cell_type": "markdown",
   "id": "873873a4",
   "metadata": {
    "papermill": {
     "duration": 0.005682,
     "end_time": "2024-07-08T04:09:59.003739",
     "exception": false,
     "start_time": "2024-07-08T04:09:58.998057",
     "status": "completed"
    },
    "tags": []
   },
   "source": [
    "# Create HTML index"
   ]
  },
  {
   "cell_type": "code",
   "execution_count": 10,
   "id": "cf665672",
   "metadata": {
    "execution": {
     "iopub.execute_input": "2024-07-08T04:09:59.016230Z",
     "iopub.status.busy": "2024-07-08T04:09:59.015881Z",
     "iopub.status.idle": "2024-07-08T04:09:59.022786Z",
     "shell.execute_reply": "2024-07-08T04:09:59.022233Z"
    },
    "papermill": {
     "duration": 0.014675,
     "end_time": "2024-07-08T04:09:59.024106",
     "exception": false,
     "start_time": "2024-07-08T04:09:59.009431",
     "status": "completed"
    },
    "tags": []
   },
   "outputs": [
    {
     "name": "stdout",
     "output_type": "stream",
     "text": [
      "117  publications files modified in the last 7 days.\n"
     ]
    }
   ],
   "source": [
    "from datetime import datetime, timedelta, timezone\n",
    "from glob import glob\n",
    "import os\n",
    "\n",
    "files = glob('_build/html/*.md')\n",
    "days = 7\n",
    "now = datetime.today()\n",
    "res = []\n",
    "for fk in files:\n",
    "    stat_result = os.stat(fk).st_ctime\n",
    "    modified = datetime.fromtimestamp(stat_result, tz=timezone.utc).replace(tzinfo=None)\n",
    "    delta = now.today() - modified\n",
    "    if delta <= timedelta(days=days):\n",
    "        res.append((delta.seconds, fk))\n",
    "res = [k[1] for k in reversed(sorted(res, key=lambda x:x[1]))]\n",
    "npub = len(res)\n",
    "print(len(res), f\" publications files modified in the last {days:d} days.\")\n",
    "# [ print('\\t', k) for k in res ];"
   ]
  },
  {
   "cell_type": "code",
   "execution_count": 11,
   "id": "015de740",
   "metadata": {
    "execution": {
     "iopub.execute_input": "2024-07-08T04:09:59.036655Z",
     "iopub.status.busy": "2024-07-08T04:09:59.036309Z",
     "iopub.status.idle": "2024-07-08T04:09:59.047921Z",
     "shell.execute_reply": "2024-07-08T04:09:59.047387Z"
    },
    "papermill": {
     "duration": 0.019291,
     "end_time": "2024-07-08T04:09:59.049223",
     "exception": false,
     "start_time": "2024-07-08T04:09:59.029932",
     "status": "completed"
    },
    "tags": []
   },
   "outputs": [
    {
     "name": "stdout",
     "output_type": "stream",
     "text": [
      "11  publications in the last 7 days.\n"
     ]
    }
   ],
   "source": [
    "import datetime\n",
    "from glob import glob\n",
    "\n",
    "def get_last_n_days(lst, days=1):\n",
    "    \"\"\" Get the documents from the last n days \"\"\"\n",
    "    sorted_lst = sorted(lst, key=lambda x: x[1], reverse=True)\n",
    "    for fname, date in sorted_lst:\n",
    "        if date >= str(datetime.date.today() - datetime.timedelta(days=days)):\n",
    "            yield fname\n",
    "\n",
    "def extract_appearance_dates(lst_file):\n",
    "    dates = []\n",
    "\n",
    "    def get_date(line):\n",
    "        return line\\\n",
    "            .split('Appeared on:')[-1]\\\n",
    "            .split('</mark>')[0].strip()\n",
    "\n",
    "    for fname in lst:\n",
    "        with open(fname, 'r') as f:\n",
    "            found_date = False\n",
    "            for line in f:\n",
    "                if not found_date:\n",
    "                    if \"Appeared on\" in line:\n",
    "                        found_date = True\n",
    "                        dates.append((fname, get_date(line)))\n",
    "                else:\n",
    "                    break\n",
    "    return dates\n",
    "\n",
    "from glob import glob\n",
    "lst = glob('_build/html/*md')\n",
    "days = 7\n",
    "dates = extract_appearance_dates(lst)\n",
    "res = list(get_last_n_days(dates, days))\n",
    "npub = len(res)\n",
    "print(len(res), f\" publications in the last {days:d} days.\")"
   ]
  },
  {
   "cell_type": "code",
   "execution_count": 12,
   "id": "52ca0208",
   "metadata": {
    "execution": {
     "iopub.execute_input": "2024-07-08T04:09:59.061931Z",
     "iopub.status.busy": "2024-07-08T04:09:59.061496Z",
     "iopub.status.idle": "2024-07-08T04:09:59.066375Z",
     "shell.execute_reply": "2024-07-08T04:09:59.065795Z"
    },
    "papermill": {
     "duration": 0.012537,
     "end_time": "2024-07-08T04:09:59.067633",
     "exception": false,
     "start_time": "2024-07-08T04:09:59.055096",
     "status": "completed"
    },
    "scrolled": false,
    "tags": []
   },
   "outputs": [],
   "source": [
    "def create_carousel(npub=4):\n",
    "    \"\"\" Generate the HTML code for a carousel with `npub` slides \"\"\"\n",
    "    carousel = [\"\"\"  <div class=\"carousel\" \"\"\",\n",
    "                \"\"\"       data-flickity='{ \"autoPlay\": 10000, \"adaptiveHeight\": true, \"resize\": true, \"wrapAround\": true, \"pauseAutoPlayOnHover\": true, \"groupCells\": 1 }' id=\"asyncTypeset\">\"\"\"\n",
    "                ]\n",
    "    \n",
    "    item_str = \"\"\"    <div class=\"carousel-cell\"> <div id=\"slide{k}\" class=\"md_view\">Content {k}</div> </div>\"\"\"\n",
    "    for k in range(1, npub + 1):\n",
    "        carousel.append(item_str.format(k=k))\n",
    "    carousel.append(\"  </div>\")\n",
    "    return '\\n'.join(carousel)\n",
    "\n",
    "def create_grid(npub=4):\n",
    "    \"\"\" Generate the HTML code for a flat grid with `npub` slides \"\"\"\n",
    "    grid = [\"\"\"  <div class=\"grid\"> \"\"\",\n",
    "                ]\n",
    "    \n",
    "    item_str = \"\"\"    <div class=\"grid-item\"> <div id=\"slide{k}\" class=\"md_view\">Content {k}</div> </div>\"\"\"\n",
    "    for k in range(1, npub + 1):\n",
    "        grid.append(item_str.format(k=k))\n",
    "    grid.append(\"  </div>\")\n",
    "    return '\\n'.join(grid)"
   ]
  },
  {
   "cell_type": "code",
   "execution_count": 13,
   "id": "a6eac5b6",
   "metadata": {
    "execution": {
     "iopub.execute_input": "2024-07-08T04:09:59.080483Z",
     "iopub.status.busy": "2024-07-08T04:09:59.080279Z",
     "iopub.status.idle": "2024-07-08T04:09:59.085432Z",
     "shell.execute_reply": "2024-07-08T04:09:59.084898Z"
    },
    "papermill": {
     "duration": 0.013116,
     "end_time": "2024-07-08T04:09:59.086781",
     "exception": false,
     "start_time": "2024-07-08T04:09:59.073665",
     "status": "completed"
    },
    "scrolled": false,
    "tags": []
   },
   "outputs": [],
   "source": [
    "carousel = create_carousel(npub)\n",
    "docs = ', '.join(['\"{0:s}\"'.format(k.split('/')[-1]) for k in res])\n",
    "slides = ', '.join([f'\"slide{k}\"' for k in range(1, npub + 1)])\n",
    "\n",
    "with open(\"daily_template.html\", \"r\") as tpl:\n",
    "    page = tpl.read()\n",
    "    page = page.replace(\"{%-- carousel:s --%}\", carousel)\\\n",
    "               .replace(\"{%-- suptitle:s --%}\",  \"7-day archives\" )\\\n",
    "               .replace(\"{%-- docs:s --%}\", docs)\\\n",
    "               .replace(\"{%-- slides:s --%}\", slides)\n",
    "    \n",
    "with open(\"_build/html/index_7days.html\", 'w') as fout:\n",
    "    fout.write(page)"
   ]
  },
  {
   "cell_type": "code",
   "execution_count": 14,
   "id": "adc1a1ec",
   "metadata": {
    "execution": {
     "iopub.execute_input": "2024-07-08T04:09:59.099594Z",
     "iopub.status.busy": "2024-07-08T04:09:59.099242Z",
     "iopub.status.idle": "2024-07-08T04:09:59.105272Z",
     "shell.execute_reply": "2024-07-08T04:09:59.104657Z"
    },
    "papermill": {
     "duration": 0.013996,
     "end_time": "2024-07-08T04:09:59.106666",
     "exception": false,
     "start_time": "2024-07-08T04:09:59.092670",
     "status": "completed"
    },
    "tags": []
   },
   "outputs": [
    {
     "name": "stdout",
     "output_type": "stream",
     "text": [
      "3  publications in the last day.\n"
     ]
    }
   ],
   "source": [
    "# redo for today\n",
    "days = 1\n",
    "res = list(get_last_n_days(dates, days))\n",
    "npub = len(res)\n",
    "print(len(res), f\" publications in the last day.\")\n",
    "\n",
    "carousel = create_carousel(npub)\n",
    "docs = ', '.join(['\"{0:s}\"'.format(k.split('/')[-1]) for k in res])\n",
    "slides = ', '.join([f'\"slide{k}\"' for k in range(1, npub + 1)])\n",
    "\n",
    "with open(\"daily_template.html\", \"r\") as tpl:\n",
    "    page = tpl.read()\n",
    "    page = page.replace(\"{%-- carousel:s --%}\", carousel)\\\n",
    "               .replace(\"{%-- suptitle:s --%}\",  \"Daily\" )\\\n",
    "               .replace(\"{%-- docs:s --%}\", docs)\\\n",
    "               .replace(\"{%-- slides:s --%}\", slides)\n",
    "    \n",
    "# print(carousel, docs, slides)\n",
    "# print(page)\n",
    "with open(\"_build/html/index_daily.html\", 'w') as fout:\n",
    "    fout.write(page)"
   ]
  },
  {
   "cell_type": "code",
   "execution_count": 15,
   "id": "00eece82",
   "metadata": {
    "execution": {
     "iopub.execute_input": "2024-07-08T04:09:59.119865Z",
     "iopub.status.busy": "2024-07-08T04:09:59.119373Z",
     "iopub.status.idle": "2024-07-08T04:09:59.125593Z",
     "shell.execute_reply": "2024-07-08T04:09:59.125066Z"
    },
    "papermill": {
     "duration": 0.014204,
     "end_time": "2024-07-08T04:09:59.126940",
     "exception": false,
     "start_time": "2024-07-08T04:09:59.112736",
     "status": "completed"
    },
    "scrolled": false,
    "tags": []
   },
   "outputs": [
    {
     "name": "stdout",
     "output_type": "stream",
     "text": [
      "6  6 publications selected.\n"
     ]
    }
   ],
   "source": [
    "# Create the flat grid of the last N papers (fixed number regardless of dates)\n",
    "from itertools import islice \n",
    "\n",
    "npub = 6\n",
    "res = [k[0] for k in (islice(reversed(sorted(dates, key=lambda x: x[1])), 6))]\n",
    "print(len(res), f\" {npub} publications selected.\")\n",
    "\n",
    "grid = create_grid(npub)\n",
    "docs = ', '.join(['\"{0:s}\"'.format(k.split('/')[-1]) for k in res])\n",
    "slides = ', '.join([f'\"slide{k}\"' for k in range(1, npub + 1)])\n",
    "\n",
    "with open(\"grid_template.html\", \"r\") as tpl:\n",
    "    page = tpl.read()\n",
    "    page = page.replace(\"{%-- grid-content:s --%}\", grid)\\\n",
    "               .replace(\"{%-- suptitle:s --%}\",  f\"Last {npub:,d} papers\" )\\\n",
    "               .replace(\"{%-- docs:s --%}\", docs)\\\n",
    "               .replace(\"{%-- slides:s --%}\", slides)\n",
    "    \n",
    "# print(grid, docs, slides)\n",
    "# print(page)\n",
    "with open(\"_build/html/index_npub_grid.html\", 'w') as fout:\n",
    "    fout.write(page)"
   ]
  }
 ],
 "metadata": {
  "kernelspec": {
   "display_name": "Python 3 (ipykernel)",
   "language": "python",
   "name": "python3"
  },
  "language_info": {
   "codemirror_mode": {
    "name": "ipython",
    "version": 3
   },
   "file_extension": ".py",
   "mimetype": "text/x-python",
   "name": "python",
   "nbconvert_exporter": "python",
   "pygments_lexer": "ipython3",
   "version": "3.9.19"
  },
  "papermill": {
   "default_parameters": {},
   "duration": 55.770394,
   "end_time": "2024-07-08T04:09:59.350115",
   "environment_variables": {},
   "exception": null,
   "input_path": "MPIA daily digest.ipynb",
   "output_path": "log.ipynb",
   "parameters": {},
   "start_time": "2024-07-08T04:09:03.579721",
   "version": "2.6.0"
  },
  "vscode": {
   "interpreter": {
    "hash": "aee8b7b246df8f9039afb4144a1f6fd8d2ca17a180786b69acc140d282b71a49"
   }
  },
  "widgets": {
   "application/vnd.jupyter.widget-state+json": {
    "state": {
     "01032e4ae1214bf2b7b2ffa3dd8ce5e1": {
      "model_module": "@jupyter-widgets/controls",
      "model_module_version": "2.0.0",
      "model_name": "HBoxModel",
      "state": {
       "_dom_classes": [],
       "_model_module": "@jupyter-widgets/controls",
       "_model_module_version": "2.0.0",
       "_model_name": "HBoxModel",
       "_view_count": null,
       "_view_module": "@jupyter-widgets/controls",
       "_view_module_version": "2.0.0",
       "_view_name": "HBoxView",
       "box_style": "",
       "children": [
        "IPY_MODEL_3d8438bbaee74f8f86116b329f7459b2",
        "IPY_MODEL_d4a79b6f8e4a410dbcf31b9fbf17ec44",
        "IPY_MODEL_f5942a33c8344ea5b6b92e601f72eb34"
       ],
       "layout": "IPY_MODEL_5e2a4ed1076b44d7a77a0bff70a2a046",
       "tabbable": null,
       "tooltip": null
      }
     },
     "064ad4996b954c2aab57173b65a8006a": {
      "model_module": "@jupyter-widgets/base",
      "model_module_version": "2.0.0",
      "model_name": "LayoutModel",
      "state": {
       "_model_module": "@jupyter-widgets/base",
       "_model_module_version": "2.0.0",
       "_model_name": "LayoutModel",
       "_view_count": null,
       "_view_module": "@jupyter-widgets/base",
       "_view_module_version": "2.0.0",
       "_view_name": "LayoutView",
       "align_content": null,
       "align_items": null,
       "align_self": null,
       "border_bottom": null,
       "border_left": null,
       "border_right": null,
       "border_top": null,
       "bottom": null,
       "display": null,
       "flex": null,
       "flex_flow": null,
       "grid_area": null,
       "grid_auto_columns": null,
       "grid_auto_flow": null,
       "grid_auto_rows": null,
       "grid_column": null,
       "grid_gap": null,
       "grid_row": null,
       "grid_template_areas": null,
       "grid_template_columns": null,
       "grid_template_rows": null,
       "height": null,
       "justify_content": null,
       "justify_items": null,
       "left": null,
       "margin": null,
       "max_height": null,
       "max_width": null,
       "min_height": null,
       "min_width": null,
       "object_fit": null,
       "object_position": null,
       "order": null,
       "overflow": null,
       "padding": null,
       "right": null,
       "top": null,
       "visibility": null,
       "width": null
      }
     },
     "3d8438bbaee74f8f86116b329f7459b2": {
      "model_module": "@jupyter-widgets/controls",
      "model_module_version": "2.0.0",
      "model_name": "HTMLModel",
      "state": {
       "_dom_classes": [],
       "_model_module": "@jupyter-widgets/controls",
       "_model_module_version": "2.0.0",
       "_model_name": "HTMLModel",
       "_view_count": null,
       "_view_module": "@jupyter-widgets/controls",
       "_view_module_version": "2.0.0",
       "_view_name": "HTMLView",
       "description": "",
       "description_allow_html": false,
       "layout": "IPY_MODEL_cd3ea1c3e87c4ea6805ba99a988d1238",
       "placeholder": "​",
       "style": "IPY_MODEL_d01e90b8d66941a09c7c0d79518696ca",
       "tabbable": null,
       "tooltip": null,
       "value": "100%"
      }
     },
     "5e2a4ed1076b44d7a77a0bff70a2a046": {
      "model_module": "@jupyter-widgets/base",
      "model_module_version": "2.0.0",
      "model_name": "LayoutModel",
      "state": {
       "_model_module": "@jupyter-widgets/base",
       "_model_module_version": "2.0.0",
       "_model_name": "LayoutModel",
       "_view_count": null,
       "_view_module": "@jupyter-widgets/base",
       "_view_module_version": "2.0.0",
       "_view_name": "LayoutView",
       "align_content": null,
       "align_items": null,
       "align_self": null,
       "border_bottom": null,
       "border_left": null,
       "border_right": null,
       "border_top": null,
       "bottom": null,
       "display": null,
       "flex": null,
       "flex_flow": null,
       "grid_area": null,
       "grid_auto_columns": null,
       "grid_auto_flow": null,
       "grid_auto_rows": null,
       "grid_column": null,
       "grid_gap": null,
       "grid_row": null,
       "grid_template_areas": null,
       "grid_template_columns": null,
       "grid_template_rows": null,
       "height": null,
       "justify_content": null,
       "justify_items": null,
       "left": null,
       "margin": null,
       "max_height": null,
       "max_width": null,
       "min_height": null,
       "min_width": null,
       "object_fit": null,
       "object_position": null,
       "order": null,
       "overflow": null,
       "padding": null,
       "right": null,
       "top": null,
       "visibility": null,
       "width": null
      }
     },
     "73c5fadfbd52454b8b7fdb212d8e691c": {
      "model_module": "@jupyter-widgets/controls",
      "model_module_version": "2.0.0",
      "model_name": "HTMLStyleModel",
      "state": {
       "_model_module": "@jupyter-widgets/controls",
       "_model_module_version": "2.0.0",
       "_model_name": "HTMLStyleModel",
       "_view_count": null,
       "_view_module": "@jupyter-widgets/base",
       "_view_module_version": "2.0.0",
       "_view_name": "StyleView",
       "background": null,
       "description_width": "",
       "font_size": null,
       "text_color": null
      }
     },
     "95e8628ebcf948299c45326877929e04": {
      "model_module": "@jupyter-widgets/base",
      "model_module_version": "2.0.0",
      "model_name": "LayoutModel",
      "state": {
       "_model_module": "@jupyter-widgets/base",
       "_model_module_version": "2.0.0",
       "_model_name": "LayoutModel",
       "_view_count": null,
       "_view_module": "@jupyter-widgets/base",
       "_view_module_version": "2.0.0",
       "_view_name": "LayoutView",
       "align_content": null,
       "align_items": null,
       "align_self": null,
       "border_bottom": null,
       "border_left": null,
       "border_right": null,
       "border_top": null,
       "bottom": null,
       "display": null,
       "flex": null,
       "flex_flow": null,
       "grid_area": null,
       "grid_auto_columns": null,
       "grid_auto_flow": null,
       "grid_auto_rows": null,
       "grid_column": null,
       "grid_gap": null,
       "grid_row": null,
       "grid_template_areas": null,
       "grid_template_columns": null,
       "grid_template_rows": null,
       "height": null,
       "justify_content": null,
       "justify_items": null,
       "left": null,
       "margin": null,
       "max_height": null,
       "max_width": null,
       "min_height": null,
       "min_width": null,
       "object_fit": null,
       "object_position": null,
       "order": null,
       "overflow": null,
       "padding": null,
       "right": null,
       "top": null,
       "visibility": null,
       "width": null
      }
     },
     "cd3ea1c3e87c4ea6805ba99a988d1238": {
      "model_module": "@jupyter-widgets/base",
      "model_module_version": "2.0.0",
      "model_name": "LayoutModel",
      "state": {
       "_model_module": "@jupyter-widgets/base",
       "_model_module_version": "2.0.0",
       "_model_name": "LayoutModel",
       "_view_count": null,
       "_view_module": "@jupyter-widgets/base",
       "_view_module_version": "2.0.0",
       "_view_name": "LayoutView",
       "align_content": null,
       "align_items": null,
       "align_self": null,
       "border_bottom": null,
       "border_left": null,
       "border_right": null,
       "border_top": null,
       "bottom": null,
       "display": null,
       "flex": null,
       "flex_flow": null,
       "grid_area": null,
       "grid_auto_columns": null,
       "grid_auto_flow": null,
       "grid_auto_rows": null,
       "grid_column": null,
       "grid_gap": null,
       "grid_row": null,
       "grid_template_areas": null,
       "grid_template_columns": null,
       "grid_template_rows": null,
       "height": null,
       "justify_content": null,
       "justify_items": null,
       "left": null,
       "margin": null,
       "max_height": null,
       "max_width": null,
       "min_height": null,
       "min_width": null,
       "object_fit": null,
       "object_position": null,
       "order": null,
       "overflow": null,
       "padding": null,
       "right": null,
       "top": null,
       "visibility": null,
       "width": null
      }
     },
     "d01e90b8d66941a09c7c0d79518696ca": {
      "model_module": "@jupyter-widgets/controls",
      "model_module_version": "2.0.0",
      "model_name": "HTMLStyleModel",
      "state": {
       "_model_module": "@jupyter-widgets/controls",
       "_model_module_version": "2.0.0",
       "_model_name": "HTMLStyleModel",
       "_view_count": null,
       "_view_module": "@jupyter-widgets/base",
       "_view_module_version": "2.0.0",
       "_view_name": "StyleView",
       "background": null,
       "description_width": "",
       "font_size": null,
       "text_color": null
      }
     },
     "d4928fc5f608499f9837d423a040a6c4": {
      "model_module": "@jupyter-widgets/controls",
      "model_module_version": "2.0.0",
      "model_name": "ProgressStyleModel",
      "state": {
       "_model_module": "@jupyter-widgets/controls",
       "_model_module_version": "2.0.0",
       "_model_name": "ProgressStyleModel",
       "_view_count": null,
       "_view_module": "@jupyter-widgets/base",
       "_view_module_version": "2.0.0",
       "_view_name": "StyleView",
       "bar_color": null,
       "description_width": ""
      }
     },
     "d4a79b6f8e4a410dbcf31b9fbf17ec44": {
      "model_module": "@jupyter-widgets/controls",
      "model_module_version": "2.0.0",
      "model_name": "FloatProgressModel",
      "state": {
       "_dom_classes": [],
       "_model_module": "@jupyter-widgets/controls",
       "_model_module_version": "2.0.0",
       "_model_name": "FloatProgressModel",
       "_view_count": null,
       "_view_module": "@jupyter-widgets/controls",
       "_view_module_version": "2.0.0",
       "_view_name": "ProgressView",
       "bar_style": "success",
       "description": "",
       "description_allow_html": false,
       "layout": "IPY_MODEL_95e8628ebcf948299c45326877929e04",
       "max": 9.0,
       "min": 0.0,
       "orientation": "horizontal",
       "style": "IPY_MODEL_d4928fc5f608499f9837d423a040a6c4",
       "tabbable": null,
       "tooltip": null,
       "value": 9.0
      }
     },
     "f5942a33c8344ea5b6b92e601f72eb34": {
      "model_module": "@jupyter-widgets/controls",
      "model_module_version": "2.0.0",
      "model_name": "HTMLModel",
      "state": {
       "_dom_classes": [],
       "_model_module": "@jupyter-widgets/controls",
       "_model_module_version": "2.0.0",
       "_model_name": "HTMLModel",
       "_view_count": null,
       "_view_module": "@jupyter-widgets/controls",
       "_view_module_version": "2.0.0",
       "_view_name": "HTMLView",
       "description": "",
       "description_allow_html": false,
       "layout": "IPY_MODEL_064ad4996b954c2aab57173b65a8006a",
       "placeholder": "​",
       "style": "IPY_MODEL_73c5fadfbd52454b8b7fdb212d8e691c",
       "tabbable": null,
       "tooltip": null,
       "value": " 9/9 [00:35&lt;00:00,  4.87s/it]"
      }
     }
    },
    "version_major": 2,
    "version_minor": 0
   }
  }
 },
 "nbformat": 4,
 "nbformat_minor": 5
}