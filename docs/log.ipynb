{
 "cells": [
  {
   "cell_type": "markdown",
   "id": "92bcb855",
   "metadata": {
    "papermill": {
     "duration": 0.003931,
     "end_time": "2025-03-11T04:11:34.520045",
     "exception": false,
     "start_time": "2025-03-11T04:11:34.516114",
     "status": "completed"
    },
    "tags": []
   },
   "source": [
    "# MPIA Arxiv on Deck 2\n",
    "\n",
    "Contains the steps to produce the paper extractions."
   ]
  },
  {
   "cell_type": "code",
   "execution_count": 1,
   "id": "3a0d6e11",
   "metadata": {
    "execution": {
     "iopub.execute_input": "2025-03-11T04:11:34.528219Z",
     "iopub.status.busy": "2025-03-11T04:11:34.527529Z",
     "iopub.status.idle": "2025-03-11T04:11:35.055867Z",
     "shell.execute_reply": "2025-03-11T04:11:35.055218Z"
    },
    "papermill": {
     "duration": 0.533766,
     "end_time": "2025-03-11T04:11:35.057171",
     "exception": false,
     "start_time": "2025-03-11T04:11:34.523405",
     "status": "completed"
    },
    "tags": []
   },
   "outputs": [],
   "source": [
    "# Imports\n",
    "import os\n",
    "from IPython.display import Markdown, display\n",
    "from tqdm.notebook import tqdm\n",
    "import warnings\n",
    "from PIL import Image \n",
    "import re\n",
    "\n",
    "# requires arxiv_on_deck_2\n",
    "\n",
    "from arxiv_on_deck_2.arxiv2 import (get_new_papers, \n",
    "                                    get_paper_from_identifier,\n",
    "                                    retrieve_document_source, \n",
    "                                    get_markdown_badge)\n",
    "from arxiv_on_deck_2 import (latex,\n",
    "                             latex_bib,\n",
    "                             mpia,\n",
    "                             highlight_authors_in_list)\n",
    "\n",
    "# Sometimes images are really big\n",
    "Image.MAX_IMAGE_PIXELS = 1000000000 "
   ]
  },
  {
   "cell_type": "code",
   "execution_count": 2,
   "id": "22aa9d44",
   "metadata": {
    "execution": {
     "iopub.execute_input": "2025-03-11T04:11:35.064597Z",
     "iopub.status.busy": "2025-03-11T04:11:35.064276Z",
     "iopub.status.idle": "2025-03-11T04:11:35.072555Z",
     "shell.execute_reply": "2025-03-11T04:11:35.071992Z"
    },
    "papermill": {
     "duration": 0.013167,
     "end_time": "2025-03-11T04:11:35.073642",
     "exception": false,
     "start_time": "2025-03-11T04:11:35.060475",
     "status": "completed"
    },
    "tags": []
   },
   "outputs": [],
   "source": [
    "# Some useful definitions.\n",
    "\n",
    "class AffiliationWarning(UserWarning):\n",
    "    pass\n",
    "\n",
    "class AffiliationError(RuntimeError):\n",
    "    pass\n",
    "\n",
    "def validation(source: str):\n",
    "    \"\"\"Raises error paper during parsing of source file\n",
    "    \n",
    "    Allows checks before parsing TeX code.\n",
    "    \n",
    "    Raises AffiliationWarning\n",
    "    \"\"\"\n",
    "    check = mpia.affiliation_verifications(source, verbose=True)\n",
    "    if check is not True:\n",
    "        raise AffiliationError(\"mpia.affiliation_verifications: \" + check)\n",
    "\n",
    "        \n",
    "warnings.simplefilter('always', AffiliationWarning)\n",
    "\n",
    "\n",
    "def get_markdown_qrcode(paper_id: str):\n",
    "    \"\"\" Generate a qrcode to the arxiv page using qrserver.com\n",
    "    \n",
    "    :param paper: Arxiv paper\n",
    "    :returns: markdown text\n",
    "    \"\"\"\n",
    "    url = r\"https://api.qrserver.com/v1/create-qr-code/?size=100x100&data=\"\n",
    "    txt = f\"\"\"<img src={url}\"https://arxiv.org/abs/{paper_id}\">\"\"\"\n",
    "    txt = '<div id=\"qrcode\">' + txt + '</div>'\n",
    "    return txt\n",
    "\n",
    "\n",
    "def clean_non_western_encoded_characters_commands(text: str) -> str:\n",
    "    \"\"\" Remove non-western encoded characters from a string\n",
    "    List may need to grow.\n",
    "    \n",
    "    :param text: the text to clean\n",
    "    :return: the cleaned text\n",
    "    \"\"\"\n",
    "    text = re.sub(r\"(\\\\begin{CJK}{UTF8}{gbsn})(.*?)(\\\\end{CJK})\", r\"\\2\", text)\n",
    "    return text\n",
    "\n",
    "\n",
    "def get_initials(name: str) -> str:\n",
    "    \"\"\" Get the short name, e.g., A.-B. FamName\n",
    "    :param name: full name\n",
    "    :returns: initials\n",
    "    \"\"\"\n",
    "    initials = []\n",
    "    # account for non western names often in ()\n",
    "    if '(' in name:\n",
    "        name = clean_non_western_encoded_characters_commands(name)\n",
    "        suffix = re.findall(r\"\\((.*?)\\)\", name)[0]\n",
    "        name = name.replace(f\"({suffix})\", '')\n",
    "    else:\n",
    "        suffix = ''\n",
    "    split = name.split()\n",
    "    for token in split[:-1]:\n",
    "        if '-' in token:\n",
    "            current = '-'.join([k[0] + '.' for k in token.split('-')])\n",
    "        else:\n",
    "            current = token[0] + '.'\n",
    "        initials.append(current)\n",
    "    initials.append(split[-1].strip())\n",
    "    if suffix:\n",
    "        initials.append(f\"({suffix})\")\n",
    "    return ' '.join(initials)"
   ]
  },
  {
   "cell_type": "markdown",
   "id": "14bd6310",
   "metadata": {
    "papermill": {
     "duration": 0.002965,
     "end_time": "2025-03-11T04:11:35.079647",
     "exception": false,
     "start_time": "2025-03-11T04:11:35.076682",
     "status": "completed"
    },
    "tags": []
   },
   "source": [
    "## get list of arxiv paper candidates\n",
    "\n",
    "We use the MPIA mitarbeiter list webpage from mpia.de to get author names\n",
    "We then get all new papers from Arxiv and match authors"
   ]
  },
  {
   "cell_type": "code",
   "execution_count": 3,
   "id": "7ea813a8",
   "metadata": {
    "execution": {
     "iopub.execute_input": "2025-03-11T04:11:35.086798Z",
     "iopub.status.busy": "2025-03-11T04:11:35.086306Z",
     "iopub.status.idle": "2025-03-11T04:11:53.979831Z",
     "shell.execute_reply": "2025-03-11T04:11:53.979187Z"
    },
    "papermill": {
     "duration": 18.898488,
     "end_time": "2025-03-11T04:11:53.981105",
     "exception": false,
     "start_time": "2025-03-11T04:11:35.082617",
     "status": "completed"
    },
    "tags": []
   },
   "outputs": [],
   "source": [
    "# deal with the author list and edge cases of people that cannot be consistent on their name  \n",
    "\n",
    "def filter_non_scientists(name: str) -> bool:\n",
    "    \"\"\" Loose filter on expected authorships\n",
    "\n",
    "    removing IT, administration, technical staff\n",
    "    :param name: name\n",
    "    :returns: False if name is not a scientist\n",
    "    \"\"\"\n",
    "    remove_list = ['Licht', 'Binroth', 'Witzel', 'Jordan',\n",
    "                   'Zähringer', 'Scheerer', 'Hoffmann', 'Düe',\n",
    "                   'Hellmich', 'Enkler-Scharpegge', 'Witte-Nguy',\n",
    "                   'Dehen', 'Beckmann', 'Jager', 'Jäger'\n",
    "                  ]\n",
    "\n",
    "    for k in remove_list:\n",
    "        if k in name:\n",
    "            return False\n",
    "    return True\n",
    "\n",
    "def add_author_to_list(author_list: list) -> list:\n",
    "    \"\"\" Add author to list if not already in list\n",
    "    \n",
    "    :param author: author name\n",
    "    :param author_list: list of authors\n",
    "    :returns: updated list of authors\n",
    "    \"\"\"\n",
    "    add_list = ['T. Henning']\n",
    "\n",
    "    for author in add_list:\n",
    "        if author not in author_list:\n",
    "            author_list.append(author)\n",
    "    return author_list\n",
    "\n",
    "# get list from MPIA website\n",
    "# filter for non-scientists (mpia.get_mpia_mitarbeiter_list() does some filtering)\n",
    "mpia_authors = [k[1] for k in mpia.get_mpia_mitarbeiter_list() if filter_non_scientists(k[1])]\n",
    "# add some missing author because of inconsistencies in their MPIA name and author name on papers\n",
    "mpia_authors = add_author_to_list(mpia_authors)"
   ]
  },
  {
   "cell_type": "code",
   "execution_count": 4,
   "id": "2645e73a",
   "metadata": {
    "execution": {
     "iopub.execute_input": "2025-03-11T04:11:53.988657Z",
     "iopub.status.busy": "2025-03-11T04:11:53.988140Z",
     "iopub.status.idle": "2025-03-11T04:11:54.844729Z",
     "shell.execute_reply": "2025-03-11T04:11:54.844062Z"
    },
    "papermill": {
     "duration": 0.861318,
     "end_time": "2025-03-11T04:11:54.845827",
     "exception": false,
     "start_time": "2025-03-11T04:11:53.984509",
     "status": "completed"
    },
    "tags": []
   },
   "outputs": [
    {
     "name": "stdout",
     "output_type": "stream",
     "text": [
      "K. Doi  ->  K. Doi  |  ['K. Doi']\n",
      "M. Ramirez  ->  M. Ramirez-Tannus  |  ['M. Ramirez']\n",
      "E. Bañados  ->  E. Bañados  |  ['E. Bañados']\n"
     ]
    },
    {
     "name": "stdout",
     "output_type": "stream",
     "text": [
      "F. Walter  ->  F. Walter  |  ['F. Walter']\n",
      "K. Jahnke  ->  K. Jahnke  |  ['K. Jahnke']\n",
      "Arxiv has 72 new papers today\n",
      "          4 with possible author matches\n"
     ]
    }
   ],
   "source": [
    "new_papers = get_new_papers()\n",
    "# add manual references\n",
    "add_paper_refs = []\n",
    "new_papers.extend([get_paper_from_identifier(k) for k in add_paper_refs])\n",
    "\n",
    "def robust_call(fn, value, *args, **kwargs):\n",
    "    try:\n",
    "        return fn(value, *args, **kwargs)\n",
    "    except Exception:\n",
    "        return value\n",
    "\n",
    "candidates = []\n",
    "for paperk in new_papers:\n",
    "    # Check author list with their initials\n",
    "    normed_author_list = [robust_call(mpia.get_initials, k) for k in paperk['authors']]\n",
    "    hl_authors = highlight_authors_in_list(normed_author_list, mpia_authors, verbose=True)\n",
    "    matches = [(hl, orig) for hl, orig in zip(hl_authors, paperk['authors']) if 'mark' in hl]\n",
    "    paperk['authors'] = hl_authors\n",
    "    if matches:\n",
    "        # only select paper if an author matched our list\n",
    "        candidates.append(paperk)\n",
    "print(\"\"\"Arxiv has {0:,d} new papers today\"\"\".format(len(new_papers)))        \n",
    "print(\"\"\"          {0:,d} with possible author matches\"\"\".format(len(candidates)))"
   ]
  },
  {
   "cell_type": "markdown",
   "id": "3543b34a",
   "metadata": {
    "papermill": {
     "duration": 0.003192,
     "end_time": "2025-03-11T04:11:54.852678",
     "exception": false,
     "start_time": "2025-03-11T04:11:54.849486",
     "status": "completed"
    },
    "tags": []
   },
   "source": [
    "# Parse sources and generate relevant outputs\n",
    "\n",
    "From the candidates, we do the following steps:\n",
    "* get their tarball from ArXiv (and extract data)\n",
    "* find the main .tex file: find one with \\documentclass{...} (sometimes it's non trivial)\n",
    "* Check affiliations with :func:`validation`, which uses :func:`mpia.affiliation_verifications`\n",
    "* If passing the affiliations: we parse the .tex source\n",
    "   * inject sub-documents into the main (flatten the main document)\n",
    "   * parse structure, extract information (title, abstract, authors, figures...)\n",
    "   * handles `\\graphicspath` if provided\n",
    "* Generate the .md document."
   ]
  },
  {
   "cell_type": "code",
   "execution_count": 5,
   "id": "9576b79e",
   "metadata": {
    "execution": {
     "iopub.execute_input": "2025-03-11T04:11:54.860203Z",
     "iopub.status.busy": "2025-03-11T04:11:54.859777Z",
     "iopub.status.idle": "2025-03-11T04:13:42.283327Z",
     "shell.execute_reply": "2025-03-11T04:13:42.282593Z"
    },
    "papermill": {
     "duration": 107.431836,
     "end_time": "2025-03-11T04:13:42.287693",
     "exception": false,
     "start_time": "2025-03-11T04:11:54.855857",
     "status": "completed"
    },
    "scrolled": false,
    "tags": []
   },
   "outputs": [
    {
     "data": {
      "application/vnd.jupyter.widget-view+json": {
       "model_id": "09ad51124ab147a2a0b206456ee200b5",
       "version_major": 2,
       "version_minor": 0
      },
      "text/plain": [
       "  0%|          | 0/4 [00:00<?, ?it/s]"
      ]
     },
     "metadata": {},
     "output_type": "display_data"
    },
    {
     "name": "stdout",
     "output_type": "stream",
     "text": [
      "Retrieving document from  https://arxiv.org/e-print/2503.05872\n"
     ]
    },
    {
     "name": "stdout",
     "output_type": "stream",
     "text": [
      "extracting tarball to tmp_2503.05872..."
     ]
    },
    {
     "name": "stdout",
     "output_type": "stream",
     "text": [
      " done.\n"
     ]
    },
    {
     "name": "stdout",
     "output_type": "stream",
     "text": [
      "Found 150 bibliographic references in tmp_2503.05872/main.bbl.\n",
      "Retrieving document from  https://arxiv.org/e-print/2503.05909\n"
     ]
    },
    {
     "name": "stderr",
     "output_type": "stream",
     "text": [
      "/opt/hostedtoolcache/Python/3.9.21/x64/lib/python3.9/site-packages/arxiv_on_deck_2/latex_bib.py:132: UserWarning: Error processing bibitem\n",
      " item = \\bibitem[{{Galloway-Sprietma} {et~al.}(submitted){Galloway-Sprietma}, ExoALMA,   team}]{Galloway_in_prep}{Galloway-Sprietma}, ExoALMA,  team. submitted, ApJ\n",
      " regex = \n",
      "        \\\\bibitem(\\[[^\\[\\]]*?\\]){(?P<bibkey>[a-zA-Z0-9\\-\\+\\.\\S]+?)}(?P<authors>|([\\D]*?))(?P<year>[12][0-9]{3})(?P<rest>.*)\n",
      "        \n",
      "  warnings.warn(str(e))\n",
      "/opt/hostedtoolcache/Python/3.9.21/x64/lib/python3.9/site-packages/arxiv_on_deck_2/latex_bib.py:132: UserWarning: Error processing bibitem\n",
      " item = \\bibitem[{{Izquierdo} {et~al.}(in press){Izquierdo}, ExoALMA,   team}]{Izquierdo_in_prep}{Izquierdo}, A., ExoALMA,  team. in press, ApJ\n",
      " regex = \n",
      "        \\\\bibitem(\\[[^\\[\\]]*?\\]){(?P<bibkey>[a-zA-Z0-9\\-\\+\\.\\S]+?)}(?P<authors>|([\\D]*?))(?P<year>[12][0-9]{3})(?P<rest>.*)\n",
      "        \n",
      "  warnings.warn(str(e))\n",
      "/opt/hostedtoolcache/Python/3.9.21/x64/lib/python3.9/site-packages/arxiv_on_deck_2/latex_bib.py:132: UserWarning: Error processing bibitem\n",
      " item = \\bibitem[{{Longarini}  {ExoALMA team}(in press)}]{Longarini_in_prep}{Longarini}, C.  {ExoALMA team}. in press, ApJ\n",
      " regex = \n",
      "        \\\\bibitem(\\[[^\\[\\]]*?\\]){(?P<bibkey>[a-zA-Z0-9\\-\\+\\.\\S]+?)}(?P<authors>|([\\D]*?))(?P<year>[12][0-9]{3})(?P<rest>.*)\n",
      "        \n",
      "  warnings.warn(str(e))\n",
      "/opt/hostedtoolcache/Python/3.9.21/x64/lib/python3.9/site-packages/arxiv_on_deck_2/latex_bib.py:132: UserWarning: Error processing bibitem\n",
      " item = \\bibitem[{{Stadler} {et~al.}(in press){Stadler}, ExoALMA,   team}]{Stadler_in_prep}{Stadler}, J., ExoALMA,  team. in press, ApJ\n",
      " regex = \n",
      "        \\\\bibitem(\\[[^\\[\\]]*?\\]){(?P<bibkey>[a-zA-Z0-9\\-\\+\\.\\S]+?)}(?P<authors>|([\\D]*?))(?P<year>[12][0-9]{3})(?P<rest>.*)\n",
      "        \n",
      "  warnings.warn(str(e))\n",
      "/opt/hostedtoolcache/Python/3.9.21/x64/lib/python3.9/site-packages/arxiv_on_deck_2/latex_bib.py:132: UserWarning: Error processing bibitem\n",
      " item = \\bibitem[{{Trapman}  {AGE PRO team}(submitted)}]{Trapman_inprep}{Trapman}, L.  {AGE PRO team}. submitted, ApJ\n",
      " regex = \n",
      "        \\\\bibitem(\\[[^\\[\\]]*?\\]){(?P<bibkey>[a-zA-Z0-9\\-\\+\\.\\S]+?)}(?P<authors>|([\\D]*?))(?P<year>[12][0-9]{3})(?P<rest>.*)\n",
      "        \n",
      "  warnings.warn(str(e))\n"
     ]
    },
    {
     "name": "stdout",
     "output_type": "stream",
     "text": [
      "extracting tarball to tmp_2503.05909..."
     ]
    },
    {
     "name": "stdout",
     "output_type": "stream",
     "text": [
      " done.\n",
      "Retrieving document from  https://arxiv.org/e-print/2503.07074\n"
     ]
    },
    {
     "name": "stdout",
     "output_type": "stream",
     "text": [
      "extracting tarball to tmp_2503.07074..."
     ]
    },
    {
     "name": "stdout",
     "output_type": "stream",
     "text": [
      " done.\n"
     ]
    },
    {
     "name": "stdout",
     "output_type": "stream",
     "text": [
      "Found 152 bibliographic references in tmp_2503.07074/main.bbl.\n",
      "Retrieving document from  https://arxiv.org/e-print/2503.07484\n"
     ]
    },
    {
     "name": "stdout",
     "output_type": "stream",
     "text": [
      "extracting tarball to tmp_2503.07484..."
     ]
    },
    {
     "name": "stdout",
     "output_type": "stream",
     "text": [
      " done.\n"
     ]
    },
    {
     "name": "stdout",
     "output_type": "stream",
     "text": [
      "Found 128 bibliographic references in tmp_2503.07484/main.bbl.\n"
     ]
    }
   ],
   "source": [
    "documents = []\n",
    "failed = []\n",
    "for paper in tqdm(candidates):\n",
    "    # debug crap\n",
    "    paper['identifier'] = paper['identifier'].lower().replace('arxiv:', '').replace(r'\\n', '').strip()\n",
    "    paper_id = paper['identifier']\n",
    "    \n",
    "    folder = f'tmp_{paper_id}'\n",
    "\n",
    "    try:\n",
    "        if not os.path.isdir(folder):\n",
    "            folder = retrieve_document_source(f\"{paper_id}\", f'tmp_{paper_id}')\n",
    "        \n",
    "        try:\n",
    "            doc = latex.LatexDocument(folder, validation=validation)    \n",
    "        except AffiliationError as affilerror:\n",
    "            msg = f\"ArXiv:{paper_id:s} is not an MPIA paper... \" + str(affilerror)\n",
    "            failed.append((paper, \"affiliation error: \" + str(affilerror) ))\n",
    "            continue\n",
    "        \n",
    "        # Hack because sometimes author parsing does not work well\n",
    "        if (len(doc.authors) != len(paper['authors'])):\n",
    "            doc._authors = paper['authors']\n",
    "        else:\n",
    "            # highlight authors (FIXME: doc.highlight_authors)\n",
    "            # done on arxiv paper already\n",
    "            doc._authors = highlight_authors_in_list(\n",
    "                [get_initials(k) for k in doc.authors], \n",
    "                mpia_authors, verbose=True)\n",
    "        if (doc.abstract) in (None, ''):\n",
    "            doc._abstract = paper['abstract']\n",
    "            \n",
    "        doc.comment = (get_markdown_badge(paper_id) + \n",
    "                       \"<mark>Appeared on: \" + paper['date'] + \"</mark> - \")\n",
    "        if paper['comments']:\n",
    "            doc.comment += \" _\" + paper['comments'] + \"_\"\n",
    "        \n",
    "        full_md = doc.generate_markdown_text()\n",
    "        \n",
    "        full_md += get_markdown_qrcode(paper_id)\n",
    "        \n",
    "        # replace citations\n",
    "        try:\n",
    "            bibdata = latex_bib.LatexBib.from_doc(doc)\n",
    "            full_md = latex_bib.replace_citations(full_md, bibdata)\n",
    "        except Exception as e:\n",
    "            print(\"Issues with the citations\")\n",
    "            print(e)\n",
    "        \n",
    "        documents.append((paper_id, full_md))\n",
    "    except Exception as e:\n",
    "        warnings.warn(latex.LatexWarning(f\"{paper_id:s} did not run properly\\n\" +\n",
    "                                         str(e)\n",
    "                                        ))\n",
    "        failed.append((paper, \"latex error \" + str(e)))"
   ]
  },
  {
   "cell_type": "markdown",
   "id": "2505a25c",
   "metadata": {
    "papermill": {
     "duration": 0.00394,
     "end_time": "2025-03-11T04:13:42.295785",
     "exception": false,
     "start_time": "2025-03-11T04:13:42.291845",
     "status": "completed"
    },
    "tags": []
   },
   "source": [
    "### Export the logs\n",
    "\n",
    "Throughout, we also keep track of the logs per paper. see `logs-{today date}.md` "
   ]
  },
  {
   "cell_type": "code",
   "execution_count": 6,
   "id": "d733828a",
   "metadata": {
    "execution": {
     "iopub.execute_input": "2025-03-11T04:13:42.304652Z",
     "iopub.status.busy": "2025-03-11T04:13:42.304420Z",
     "iopub.status.idle": "2025-03-11T04:13:42.319937Z",
     "shell.execute_reply": "2025-03-11T04:13:42.319400Z"
    },
    "papermill": {
     "duration": 0.021154,
     "end_time": "2025-03-11T04:13:42.320885",
     "exception": false,
     "start_time": "2025-03-11T04:13:42.299731",
     "status": "completed"
    },
    "scrolled": false,
    "tags": []
   },
   "outputs": [
    {
     "data": {
      "text/markdown": [
       "## Successful papers"
      ],
      "text/plain": [
       "<IPython.core.display.Markdown object>"
      ]
     },
     "metadata": {},
     "output_type": "display_data"
    },
    {
     "data": {
      "text/markdown": [
       "\n",
       "|||\n",
       "|---:|:---|\n",
       "| [![arXiv](https://img.shields.io/badge/arXiv-2503.05872-b31b1b.svg)](https://arxiv.org/abs/2503.05872) | **Turbulence in protoplanetary disks: A systematic analysis of dust settling in 33 disks**  |\n",
       "|| M. Villenave, et al. -- incl., <mark>K. Doi</mark> |\n",
       "|*Appeared on*| *2025-03-11*|\n",
       "|*Comments*| *Accepted in A&A*|\n",
       "|**Abstract**|            The level of dust vertical settling and radial dust concentration in disks is of critical importance for understanding the efficiency of planet formation. We present the first uniform analysis of the vertical extent of millimeter dust for a representative sample of 33disks. We used radiative transfer modeling of archival high-angular-resolution (<=0.1\") ALMA dust observations of inclined and ringed disks to estimate their vertical dust scale height, which was compared to estimated gas scale heights to characterize the level of vertical sedimentation. In all 23systems for which constraints could be obtained, we find that the outer parts of the disks are vertically settled. 5disks allow for the characterization of the dust scale height both within and outside approximately half the dust disk radius, showing a lower limit on their dust heights at smaller radii. This implies that the ratio between vertical turbulence and the Stokes number, $\\alpha_z/\\St$, decreases radially in these sources. For 21rings in 15disks, we also constrained the level of radial concentration of the dust, finding that about half of the rings are compatible with strong radial trapping. In most of these rings, vertical turbulence is found to be comparable to or weaker than radial turbulence, which is incompatible with the turbulence generated by the vertical shear instability at these locations. We further used our dust settling constraints to estimate the turbulence level under the assumption that the dust size is limited by fragmentation, finding typical upper limits around $\\alpha_\\text{frag}\\leq10^{-3}$. In a few sources, we find that turbulence cannot be the main source of accretion. In the context of pebble accretion, we identify several disk regions that have upper limits on their dust concentration that would allow core formation to proceed efficiently, even at wide orbital distances outside of 50au.         |"
      ],
      "text/plain": [
       "[2503.05872] Turbulence in protoplanetary disks: A systematic analysis of dust settling in 33 disks\n",
       "\tM. Villenave, et al. -- incl., <mark>K. Doi</mark>"
      ]
     },
     "metadata": {},
     "output_type": "display_data"
    },
    {
     "data": {
      "text/markdown": [
       "\n",
       "|||\n",
       "|---:|:---|\n",
       "| [![arXiv](https://img.shields.io/badge/arXiv-2503.07074-b31b1b.svg)](https://arxiv.org/abs/2503.07074) | **JWST ASPIRE: How Did Galaxies Complete Reionization? Evidence for Excess IGM Transmission around ${\\rm [O\\,{\\scriptstyle III}]}$ Emitters during Reionization**  |\n",
       "|| K. Kakiichi, et al. -- incl., <mark>E. Bañados</mark>, <mark>F. Walter</mark> |\n",
       "|*Appeared on*| *2025-03-11*|\n",
       "|*Comments*| *31 pages, 22 figures, submitted to the Open Journal of Astrophysics*|\n",
       "|**Abstract**|            The spatial correlation between galaxies and the Ly$\\alpha$ forest provides insights into how galaxies reionized the Universe. Here, we present initial results on the spatial cross-correlation between [OIII] emitters and Ly$\\alpha$ forest at 5.4<z<6.5 from the JWST ASPIRE NIRCam/F356W Grism Spectroscopic Survey in z>6.5 QSO fields. Using data from five QSO fields, we find $2\\sigma$ evidence for excess Ly$\\alpha$ forest transmission at ~20-40 cMpc around [OIII] emitters at z=5.86, indicating that [OIII] emitters reside within a highly ionized IGM. At smaller scales, the Ly$\\alpha$ forest is preferentially absorbed, suggesting gas overdensities around [OIII] emitters. Comparing with models including THESAN simulations, we interpret the observed cross-correlation as evidence for significant large-scale fluctuations of the IGM and the late end of reionization at z<6, characterized by ionized bubbles over 50 cMpc around [OIII] emitters. The required UV background necessitates an unseen population of faint galaxies around the [OIII] emitters. Furthermore, we find that the number of observed [OIII] emitters near individual transmission spikes is insufficient to sustain reionization in their surroundings, even assuming all [OIII] emitters harbour AGN with 100 % LyC escape fractions. Despite broad agreement, a careful analysis of ASPIRE and THESAN, using the observed host halo mass from the clustering of [OIII] emitters, suggests that the simulations underpredict the observed excess IGM transmission around [OIII] emitters, challenging our model of reionization. Potential solutions include larger ionized bubbles at z<6, more enhanced large-scale UV background or temperature fluctuations of the IGM, and possibly a patchy early onset of reionization at z>10. Current observational errors are dominated by cosmic variance, meaning future analyses of more QSO fields from JWST will improve the results.         |"
      ],
      "text/plain": [
       "[2503.07074] JWST ASPIRE: How Did Galaxies Complete Reionization? Evidence for Excess IGM Transmission around ${\\rm [O\\,{\\scriptstyle III}]}$ Emitters during Reionization\n",
       "\tK. Kakiichi, et al. -- incl., <mark>E. Bañados</mark>, <mark>F. Walter</mark>"
      ]
     },
     "metadata": {},
     "output_type": "display_data"
    },
    {
     "data": {
      "text/markdown": [
       "\n",
       "|||\n",
       "|---:|:---|\n",
       "| [![arXiv](https://img.shields.io/badge/arXiv-2503.07484-b31b1b.svg)](https://arxiv.org/abs/2503.07484) | **Euclid: Early Release Observations -- The Intracluster Light of Abell 2390**  |\n",
       "|| A. Ellien, et al. -- incl., <mark>K. Jahnke</mark> |\n",
       "|*Appeared on*| *2025-03-11*|\n",
       "|*Comments*| *23 pages, 20 figures, 2 tables submitted to A\\&A*|\n",
       "|**Abstract**|            Intracluster light (ICL) provides a record of the dynamical interactions undergone by clusters, giving clues on cluster formation and evolution. Here, we analyse the properties of ICL in the massive cluster Abell 2390 at redshift z=0.228. Our analysis is based on the deep images obtained by the Euclid mission as part of the Early Release Observations in the near-infrared (Y, J, H bands), using the NISP instrument in a 0.75 deg$^2$ field. We subtracted a point--spread function (PSF) model and removed the Galactic cirrus contribution in each band after modelling it with the DAWIS software. We then applied three methods to detect, characterise, and model the ICL and the brightest cluster galaxy (BCG): the CICLE 2D multi-galaxy fitting; the DAWIS wavelet-based multiscale software; and a mask-based 1D profile fitting. We detect ICL out to 600 kpc. The ICL fractions derived by our three methods range between 18% and 36% (average of 24%), while the BCG+ICL fractions are between 21% and 41% (average of 29%), depending on the band and method. A galaxy density map based on 219 selected cluster members shows a strong cluster substructure to the south-east and a smaller feature to the north-west. Based on colours, the ICL (out to about 400 kpc) seems to be built by the accretion of small systems (M ~ $10^{9.5}$ solar mass), or from stars coming from the outskirts of Milky Way-type galaxies (M ~ $10^{10}$ solar mass). Though Abell 2390 does not seem to be undergoing a merger, it is not yet fully relaxed, since it has accreted two groups that have not fully merged with the cluster core. We estimate that the contributions to the inner 300 kpc of the ICL of the north-west and south-east subgroups are 21% and 9% respectively.         |"
      ],
      "text/plain": [
       "[2503.07484] Euclid: Early Release Observations -- The Intracluster Light of Abell 2390\n",
       "\tA. Ellien, et al. -- incl., <mark>K. Jahnke</mark>"
      ]
     },
     "metadata": {},
     "output_type": "display_data"
    },
    {
     "data": {
      "text/markdown": [
       "## Failed papers"
      ],
      "text/plain": [
       "<IPython.core.display.Markdown object>"
      ]
     },
     "metadata": {},
     "output_type": "display_data"
    },
    {
     "data": {
      "text/markdown": [
       "\n",
       "|||\n",
       "|---:|:---|\n",
       "| [![arXiv](https://img.shields.io/badge/arXiv-2503.05909-b31b1b.svg)](https://arxiv.org/abs/2503.05909) | **Early Light Curve Excess in Type IIb Supernovae Observed by the ATLAS Survey: Qualitative Constraints on Progenitor Systems**  |\n",
       "|| B. Ayala, et al. -- incl., <mark>M. Ramirez</mark> |\n",
       "|*Appeared on*| *2025-03-11*|\n",
       "|*Comments*| *27 pages, 18 figures. Submitted to Astronomy & Astrophysics, under review*|\n",
       "|**Abstract**|            Type IIb supernovae (SNe IIb) often exhibit an early light curve excess (EE) preceding the main peak powered by radioactive nickel decay. The physical origin of this early emission remains an open question. Among the proposed scenarios, shock cooling emission-resulting from the interaction between the shockwave and extended envelopes-is considered the most plausible mechanism. The frequency of these events remains unconstrained. This study aims to quantify the frequency of EE in SNe IIb and investigate its physical origin by analyzing optical light curves from the Asteroid Terrestrial-impact Last Alert System (ATLAS) survey. We selected 74 SNe IIb from 153 spectroscopically classified events in the Transient Name Server (TNS) database, observed by ATLAS, with peak fluxes exceeding 150 {\\mu}Jy and explosion epoch uncertainties lower than six days. Using light curve model fitting and outlier analysis, we identified SNe IIb exhibiting EE and analyzed their photometric properties. We found 21 SNe IIb with EE, corresponding to a frequency of approximately 28-40%, with the higher value obtained under the most stringent data cuts. The EE's duration and color evolution are consistent with shock cooling in extended hydrogen-rich envelopes. We also found that EE SNe IIb have longer rise times and faster post-peak decline rates than non-EE SNe IIb, while both groups share similar peak absolute magnitudes. Our findings suggest that EE and non-EE SNe IIb likely share similar initial progenitor masses but differ in ejecta mass properties, potentially due to varying degrees of binary interaction. This study provides constraints on the evolutionary pathways of SNe IIb progenitors as compact stars with and without extended hydrogen envelopes.         |\n",
       "|<p style=\"color:green\"> **ERROR** </p>| <p style=\"color:green\">affiliation error: mpia.affiliation_verifications: 'Heidelberg' keyword not found.</p> |"
      ],
      "text/plain": [
       "<IPython.core.display.Markdown object>"
      ]
     },
     "metadata": {},
     "output_type": "display_data"
    }
   ],
   "source": [
    "import datetime\n",
    "today = str(datetime.date.today())\n",
    "logfile = f\"_build/html/logs/log-{today}.md\"\n",
    "\n",
    "\n",
    "with open(logfile, 'w') as logs:\n",
    "    # Success\n",
    "    logs.write(f'# Arxiv on Deck 2: Logs - {today}\\n\\n')\n",
    "    logs.write(\"\"\"* Arxiv had {0:,d} new papers\\n\"\"\".format(len(new_papers)))\n",
    "    logs.write(\"\"\"    * {0:,d} with possible author matches\\n\\n\"\"\".format(len(candidates)))\n",
    "    logs.write(\"## Sucessful papers\\n\\n\")\n",
    "    display(Markdown(\"## Successful papers\"))\n",
    "    success = [k[0] for k in documents]\n",
    "    for candid in candidates:\n",
    "        if candid['identifier'].split(':')[-1] in success:\n",
    "            display(candid)\n",
    "            logs.write(candid.generate_markdown_text() + '\\n\\n')\n",
    "\n",
    "    ## failed\n",
    "    logs.write(\"## Failed papers\\n\\n\")\n",
    "    display(Markdown(\"## Failed papers\"))\n",
    "    failed = sorted(failed, key=lambda x: x[1])\n",
    "    current_reason = \"\"\n",
    "    for paper, reason in failed:\n",
    "        if 'affiliation' in reason:\n",
    "            color = 'green'\n",
    "        else:\n",
    "            color = 'red'\n",
    "        data = Markdown(\n",
    "                paper.generate_markdown_text() + \n",
    "                f'\\n|<p style=\"color:{color:s}\"> **ERROR** </p>| <p style=\"color:{color:s}\">{reason:s}</p> |'\n",
    "               )\n",
    "        if reason != current_reason:\n",
    "            logs.write(f'### {reason:s} \\n\\n')\n",
    "            current_reason = reason\n",
    "        logs.write(data.data + '\\n\\n')\n",
    "        \n",
    "        # only display here the important errors (all in logs)\n",
    "        # if color in ('red',):\n",
    "        display(data)"
   ]
  },
  {
   "cell_type": "markdown",
   "id": "472d20ee",
   "metadata": {
    "papermill": {
     "duration": 0.004398,
     "end_time": "2025-03-11T04:13:42.329846",
     "exception": false,
     "start_time": "2025-03-11T04:13:42.325448",
     "status": "completed"
    },
    "tags": []
   },
   "source": [
    "## Export documents\n",
    "\n",
    "We now write the .md files and export relevant images"
   ]
  },
  {
   "cell_type": "code",
   "execution_count": 7,
   "id": "d426aed9",
   "metadata": {
    "execution": {
     "iopub.execute_input": "2025-03-11T04:13:42.340050Z",
     "iopub.status.busy": "2025-03-11T04:13:42.339496Z",
     "iopub.status.idle": "2025-03-11T04:13:42.346404Z",
     "shell.execute_reply": "2025-03-11T04:13:42.345866Z"
    },
    "papermill": {
     "duration": 0.013089,
     "end_time": "2025-03-11T04:13:42.347414",
     "exception": false,
     "start_time": "2025-03-11T04:13:42.334325",
     "status": "completed"
    },
    "tags": []
   },
   "outputs": [],
   "source": [
    "def export_markdown_summary(md: str, md_fname:str, directory: str):\n",
    "    \"\"\"Export MD document and associated relevant images\"\"\"\n",
    "    import os\n",
    "    import shutil\n",
    "    import re\n",
    "\n",
    "    if (os.path.exists(directory) and not os.path.isdir(directory)):\n",
    "        raise RuntimeError(f\"a non-directory file exists with name {directory:s}\")\n",
    "\n",
    "    if (not os.path.exists(directory)):\n",
    "        print(f\"creating directory {directory:s}\")\n",
    "        os.mkdir(directory)\n",
    "\n",
    "    fig_fnames = (re.compile(r'\\[Fig.*\\]\\((.*)\\)').findall(md) + \n",
    "                  re.compile(r'\\<img src=\"([^>\\s]*)\"[^>]*/>').findall(md))\n",
    "    print(\"found figures\", fig_fnames)\n",
    "    for fname in fig_fnames:\n",
    "        if 'http' in fname:\n",
    "            # No need to copy online figures\n",
    "            continue\n",
    "        if not os.path.exists(fname):\n",
    "            print(\"file not found\", fname)\n",
    "            continue\n",
    "        print(\"copying \", fname, \"to\", directory)\n",
    "        destdir = os.path.join(directory, os.path.dirname(fname))\n",
    "        destfname = os.path.join(destdir, os.path.basename(fname))\n",
    "        try:\n",
    "            os.makedirs(destdir)\n",
    "        except FileExistsError:\n",
    "            pass\n",
    "        shutil.copy(fname, destfname)\n",
    "    with open(os.path.join(directory, md_fname), 'w') as fout:\n",
    "        fout.write(md)\n",
    "    print(\"exported in \", os.path.join(directory, md_fname))\n",
    "    [print(\"    + \" + os.path.join(directory,fk)) for fk in fig_fnames]"
   ]
  },
  {
   "cell_type": "code",
   "execution_count": 8,
   "id": "014d04a4",
   "metadata": {
    "execution": {
     "iopub.execute_input": "2025-03-11T04:13:42.357406Z",
     "iopub.status.busy": "2025-03-11T04:13:42.356983Z",
     "iopub.status.idle": "2025-03-11T04:13:42.372196Z",
     "shell.execute_reply": "2025-03-11T04:13:42.371656Z"
    },
    "papermill": {
     "duration": 0.02132,
     "end_time": "2025-03-11T04:13:42.373187",
     "exception": false,
     "start_time": "2025-03-11T04:13:42.351867",
     "status": "completed"
    },
    "tags": []
   },
   "outputs": [
    {
     "name": "stdout",
     "output_type": "stream",
     "text": [
      "found figures ['tmp_2503.05872/./figures/HD163296_LkCa15_V1094Sco_UpperLowerLimit_constraints.png', 'tmp_2503.05872/./figures/DoAr25_HD142666_UpperLowerLimit_constraints.png', 'tmp_2503.05872/./figures/alphaZ_over_alphaR.png']\n",
      "copying  tmp_2503.05872/./figures/HD163296_LkCa15_V1094Sco_UpperLowerLimit_constraints.png to _build/html/\n",
      "copying  tmp_2503.05872/./figures/DoAr25_HD142666_UpperLowerLimit_constraints.png to _build/html/\n",
      "copying  tmp_2503.05872/./figures/alphaZ_over_alphaR.png to _build/html/\n",
      "exported in  _build/html/2503.05872.md\n",
      "    + _build/html/tmp_2503.05872/./figures/HD163296_LkCa15_V1094Sco_UpperLowerLimit_constraints.png\n",
      "    + _build/html/tmp_2503.05872/./figures/DoAr25_HD142666_UpperLowerLimit_constraints.png\n",
      "    + _build/html/tmp_2503.05872/./figures/alphaZ_over_alphaR.png\n",
      "found figures ['tmp_2503.07074/./figures/galaxy-IGM_cross-correlation_measurement_vs_RT_FRAMEWORK_full.png', 'tmp_2503.07074/./figures/ASPIRE_vs_THESAN_Mstar1e10_xHI_clean.png', 'tmp_2503.07074/./figures/THESAN_map_full.png']\n",
      "copying  tmp_2503.07074/./figures/galaxy-IGM_cross-correlation_measurement_vs_RT_FRAMEWORK_full.png to _build/html/\n",
      "copying  tmp_2503.07074/./figures/ASPIRE_vs_THESAN_Mstar1e10_xHI_clean.png to _build/html/\n",
      "copying  tmp_2503.07074/./figures/THESAN_map_full.png to _build/html/\n",
      "exported in  _build/html/2503.07074.md\n",
      "    + _build/html/tmp_2503.07074/./figures/galaxy-IGM_cross-correlation_measurement_vs_RT_FRAMEWORK_full.png\n",
      "    + _build/html/tmp_2503.07074/./figures/ASPIRE_vs_THESAN_Mstar1e10_xHI_clean.png\n",
      "    + _build/html/tmp_2503.07074/./figures/THESAN_map_full.png\n",
      "found figures ['tmp_2503.07484/./figures/Contours_allspec_zphot_all_galaxies_v4.png', 'tmp_2503.07484/./figures/rgb_Yoli_wgroups.png', 'tmp_2503.07484/./figures/rgb_Amael_wgroups.png', 'tmp_2503.07484/./figures/A2390_allz_galdens.png']\n",
      "copying  tmp_2503.07484/./figures/Contours_allspec_zphot_all_galaxies_v4.png to _build/html/\n",
      "copying  tmp_2503.07484/./figures/rgb_Yoli_wgroups.png to _build/html/\n",
      "copying  tmp_2503.07484/./figures/rgb_Amael_wgroups.png to _build/html/\n",
      "copying  tmp_2503.07484/./figures/A2390_allz_galdens.png to _build/html/\n",
      "exported in  _build/html/2503.07484.md\n",
      "    + _build/html/tmp_2503.07484/./figures/Contours_allspec_zphot_all_galaxies_v4.png\n",
      "    + _build/html/tmp_2503.07484/./figures/rgb_Yoli_wgroups.png\n",
      "    + _build/html/tmp_2503.07484/./figures/rgb_Amael_wgroups.png\n",
      "    + _build/html/tmp_2503.07484/./figures/A2390_allz_galdens.png\n"
     ]
    }
   ],
   "source": [
    "for paper_id, md in documents:\n",
    "    export_markdown_summary(md, f\"{paper_id:s}.md\", '_build/html/')"
   ]
  },
  {
   "cell_type": "markdown",
   "id": "f087a0a7",
   "metadata": {
    "papermill": {
     "duration": 0.004556,
     "end_time": "2025-03-11T04:13:42.382443",
     "exception": false,
     "start_time": "2025-03-11T04:13:42.377887",
     "status": "completed"
    },
    "tags": []
   },
   "source": [
    "## Display the papers\n",
    "\n",
    "Not necessary but allows for a quick check."
   ]
  },
  {
   "cell_type": "code",
   "execution_count": 9,
   "id": "fd25f625",
   "metadata": {
    "execution": {
     "iopub.execute_input": "2025-03-11T04:13:42.392694Z",
     "iopub.status.busy": "2025-03-11T04:13:42.392288Z",
     "iopub.status.idle": "2025-03-11T04:13:42.399467Z",
     "shell.execute_reply": "2025-03-11T04:13:42.398806Z"
    },
    "papermill": {
     "duration": 0.013396,
     "end_time": "2025-03-11T04:13:42.400516",
     "exception": false,
     "start_time": "2025-03-11T04:13:42.387120",
     "status": "completed"
    },
    "scrolled": false,
    "tags": []
   },
   "outputs": [
    {
     "data": {
      "text/markdown": [
       "<div class=\"macros\" style=\"visibility:hidden;\">\n",
       "$\\newcommand{\\ensuremath}{}$\n",
       "$\\newcommand{\\xspace}{}$\n",
       "$\\newcommand{\\object}[1]{\\texttt{#1}}$\n",
       "$\\newcommand{\\farcs}{{.}''}$\n",
       "$\\newcommand{\\farcm}{{.}'}$\n",
       "$\\newcommand{\\arcsec}{''}$\n",
       "$\\newcommand{\\arcmin}{'}$\n",
       "$\\newcommand{\\ion}[2]{#1#2}$\n",
       "$\\newcommand{\\textsc}[1]{\\textrm{#1}}$\n",
       "$\\newcommand{\\hl}[1]{\\textrm{#1}}$\n",
       "$\\newcommand{\\footnote}[1]{}$\n",
       "$\\newcommand{\\vdag}{(v)^\\dagger}$\n",
       "$\\newcommand$\n",
       "$\\newcommand$\n",
       "$\\newcommand{\\St}{\\text{St}}$\n",
       "$\\newcommand{\\Sc}{\\text{Sc}}$</div>\n",
       "\n",
       "\n",
       "\n",
       "<div id=\"title\">\n",
       "\n",
       "# Turbulence in protoplanetary disks: A systematic analysis of dust settling in 33 disks\n",
       "\n",
       "</div>\n",
       "<div id=\"comments\">\n",
       "\n",
       "[![arXiv](https://img.shields.io/badge/arXiv-2503.05872-b31b1b.svg)](https://arxiv.org/abs/2503.05872)<mark>Appeared on: 2025-03-11</mark> -  _Accepted in A&A_\n",
       "\n",
       "</div>\n",
       "<div id=\"authors\">\n",
       "\n",
       "M. Villenave, et al. -- incl., <mark>K. Doi</mark>\n",
       "\n",
       "</div>\n",
       "<div id=\"abstract\">\n",
       "\n",
       "**Abstract:** The level of dust vertical settling and radial dust concentration in protoplanetary disks is of critical importance for understanding the efficiency of planet formation. Here, we present the first uniform analysis of the vertical extent of millimeter dust for a representative sample of 33  protoplanetary disks, covering broad ranges of disk evolutionary stages and stellar masses.We used radiative transfer modeling of archival high-angular-resolution ( $\\lesssim0.1\\arcsec$ ) ALMA dust observations of inclined and ringed disks to estimate their vertical dust scale height, which was compared to estimated gas scale heights to characterize the level of vertical sedimentation.In all 23 systems for which constraints could be obtained, we find that the outer parts of the disks are vertically settled.Five disks allow for the characterization of the dust scale height both within and outside approximately half the dust disk radius, showing a lower limit on their dust heights at smaller radii. This implies that the ratio between vertical turbulence, $\\alpha_z$ , and the Stokes number, $\\alpha_z/\\St$ , decreases radially in these sources. For 21 rings in 15 disks, we also constrained the level of radial concentration of the dust, finding that about half of the rings are compatible with strong radial trapping. In most of these rings, vertical turbulence is found to be comparable to or weaker than radial turbulence,which is incompatible with the turbulence generated by the vertical shear instability at these locations. We further used our dust settling constraints to estimate the turbulence level under the assumption that the dust size is limited by fragmentation, finding typical upper limits around $\\alpha_\\text{frag}\\lesssim10^{-3}$ .  In a few sources, we find that turbulence cannot be the main source of accretion.Finally, in the context of pebble accretion, we identify several disk regions that have upper limits on their dust concentrationthat would allow core formation to proceed efficiently, even at wide orbital distances outside of 50 au.\n",
       "\n",
       "</div>\n",
       "\n",
       "<div id=\"div_fig1\">\n",
       "\n",
       "<img src=\"tmp_2503.05872/./figures/HD163296_LkCa15_V1094Sco_UpperLowerLimit_constraints.png\" alt=\"Fig7\" width=\"100%\"/>\n",
       "\n",
       "**Figure 7. -** Vertically thick inner ring and thin outer disk in HD163296, LkCa 15, and V1094Sco. The shaded colors on the major axis cuts indicate the location of the azimuthal profiles (orange) and rings of interest (yellow and green).\n",
       "    \"Flat\" models are too thin vertically to show sufficient azimuthal variation compared to the data (third panels), while \"Thick\" models  are too vertically extended to reproduce the outer disk/ring brightness in all three disks. The beam size and a 25 au scale are indicated in the bottom left corner of the first panels. (*fig:upperLower_LkCa15_V1094Sco*)\n",
       "\n",
       "</div>\n",
       "<div id=\"div_fig2\">\n",
       "\n",
       "<img src=\"tmp_2503.05872/./figures/DoAr25_HD142666_UpperLowerLimit_constraints.png\" alt=\"Fig8\" width=\"100%\"/>\n",
       "\n",
       "**Figure 8. -** Resolved thickness in the inner disk half and flat outer disk in DoAr 25 and HD 142666. For both disks, \"Flat\" models show too strong of a gap in the inner region (third panels), indicating that the disks must be thicker. On the other hand, \"Moderate\" and \"Thick\" models do not reproduce the gap and ring in DoAr 25, and the outer disk profile in both disks (last panels), highlighting the presence of a flat outer disk. The beam size and a 25 au scale are indicated in the bottom left corner of the first panels. (*fig:upperLower_DoAr25_HD142666*)\n",
       "\n",
       "</div>\n",
       "<div id=\"div_fig3\">\n",
       "\n",
       "<img src=\"tmp_2503.05872/./figures/alphaZ_over_alphaR.png\" alt=\"Fig9\" width=\"100%\"/>\n",
       "\n",
       "**Figure 9. -** Vertical $\\alpha_z/$\\St$$(top), radial $\\alpha_r/$\\St$$(middle), and their ratio $\\alpha_z/\\alpha_r$(bottom). In the bottom panel, we mark the rings without a full inclusion into the domain of the vertical constraints with a lighter blue. In all panels, constraints obtained by previous studies are shown in gray. The labels correspond to the constrained regions in \\autoref{tab:verticalTrapping}. The underscore `\\_1' corresponds to the only or first region with a constraint in a disk, while `\\_2' displays the results for the second region. (*fig:radial_vertical_alpha*)\n",
       "\n",
       "</div><div id=\"qrcode\"><img src=https://api.qrserver.com/v1/create-qr-code/?size=100x100&data=\"https://arxiv.org/abs/2503.05872\"></div>"
      ],
      "text/plain": [
       "<IPython.core.display.Markdown object>"
      ]
     },
     "metadata": {},
     "output_type": "display_data"
    },
    {
     "data": {
      "text/markdown": [
       "<div class=\"macros\" style=\"visibility:hidden;\">\n",
       "$\\newcommand{\\ensuremath}{}$\n",
       "$\\newcommand{\\xspace}{}$\n",
       "$\\newcommand{\\object}[1]{\\texttt{#1}}$\n",
       "$\\newcommand{\\farcs}{{.}''}$\n",
       "$\\newcommand{\\farcm}{{.}'}$\n",
       "$\\newcommand{\\arcsec}{''}$\n",
       "$\\newcommand{\\arcmin}{'}$\n",
       "$\\newcommand{\\ion}[2]{#1#2}$\n",
       "$\\newcommand{\\textsc}[1]{\\textrm{#1}}$\n",
       "$\\newcommand{\\hl}[1]{\\textrm{#1}}$\n",
       "$\\newcommand{\\footnote}[1]{}$\n",
       "$\\newcommand{\\HI}{{\\rm H {\\scriptstyle I}}}$\n",
       "$\\newcommand{\\HII}{{\\rm H {\\scriptstyle II}}}$\n",
       "$\\newcommand{\\HeI}{{\\rm He {\\scriptstyle I}}}$\n",
       "$\\newcommand{\\HeII}{{\\rm He {\\scriptstyle II}}}$\n",
       "$\\newcommand{\\HeIII}{{\\rm He {\\scriptstyle III}}}$\n",
       "$\\newcommand{\\CII}{{\\rm C {\\scriptstyle II}}}$\n",
       "$\\newcommand{\\CIII}{{\\rm C {\\scriptstyle III}}}$\n",
       "$\\newcommand{\\CIV}{{\\rm C {\\scriptstyle IV}}}$\n",
       "$\\newcommand{\\SiII}{{\\rm Si {\\scriptstyle II}}}$\n",
       "$\\newcommand{\\SiIII}{{\\rm Si {\\scriptstyle III}}}$\n",
       "$\\newcommand{\\MgII}{{\\rm Mg {\\scriptstyle II}}}$\n",
       "$\\newcommand{\\NII}{{\\rm N {\\scriptstyle II}}}$\n",
       "$\\newcommand{\\NI}{{\\rm N {\\scriptstyle I}}}$\n",
       "$\\newcommand{\\NV}{{\\rm N {\\scriptstyle V}}}$\n",
       "$\\newcommand{\\NVI}{{\\rm N {\\scriptstyle VI}}}$\n",
       "$\\newcommand{\\OI}{{\\rm O {\\scriptstyle I}}}$\n",
       "$\\newcommand{\\OII}{{\\rm[O {\\scriptstyle II}]}}$\n",
       "$\\newcommand{\\OIII}{{\\rm[O {\\scriptstyle III}]}}$\n",
       "$\\newcommand{\\OVI}{{\\rm O {\\scriptstyle VI}}}$\n",
       "$\\newcommand{\\SII}{{\\rm S {\\scriptstyle II}}}$\n",
       "$\\newcommand{\\rmnum}[1]{\\romannumeral #1}$\n",
       "$\\newcommand{\\Rmnum}[1]{\\expandafter\\@slowromancap\\romannumeral #1@}$\n",
       "$\\newcommand{\\nHI}{n_{\\rm HI}}$\n",
       "$\\newcommand{\\xHI}{x_{\\rm HI}}$\n",
       "$\\newcommand{\\xHII}{x_{\\mbox{\\tiny H\\Rmnum{2}}}}$\n",
       "$\\newcommand{\\eHI}{\\epsilon_{\\mbox{\\tiny H\\Rmnum{1}}}}$\n",
       "$\\newcommand{\\LyA}{\\mbox{Ly}\\alpha}$\n",
       "$\\newcommand{\\NHI}{N_{\\mbox{\\tiny H\\Rmnum{1}}}}$\n",
       "$\\newcommand{\\fHI}{\\langle f_{\\mbox{\\tiny H\\Rmnum{1}}}\\rangle}$\n",
       "$\\newcommand{\\fHII}{\\langle f_{\\mbox{\\tiny H\\Rmnum{2}}}\\rangle}$\n",
       "$\\newcommand{\\CDDF}{\\frac{\\partial^2\\mathcal{N}}{\\partial\\NHI\\partial z}}$\n",
       "$\\newcommand{\\sigmaHI}{\\sigma_{\\mbox{\\tiny H\\Rmnum{1}}}}$\n",
       "$\\newcommand{\\Muv}{M_{\\mbox{\\tiny UV}}}$\n",
       "$\\newcommand{\\br}{\\boldsymbol{r}}$\n",
       "$\\newcommand{\\A}{\\mbox{Å}}$\n",
       "$\\newcommand{\\TIGM}{T_{\\rm IGM}}$\n",
       "$\\newcommand{\\TIGMi}{T_{{\\rm IGM},i}}$\n",
       "$\\newcommand{\\TIGMr}{\\langle\\overline{T}_{\\rm IGM}(r_\\perp)\\rangle}$\n",
       "$\\newcommand{\\Mh}{M_{\\rm h}}$\n",
       "$\\newcommand{\\comment}{\\textcolor{red}}$</div>\n",
       "\n",
       "\n",
       "\n",
       "<div id=\"title\">\n",
       "\n",
       "# $\\vspace{-0.5cm}$JWST ASPIRE: How Did Galaxies Complete Reionization? \\ Evidence for Excess IGM Transmission around $\\OIII$ Emitters during Reionization$\\vspace{-15mm}$\n",
       "\n",
       "</div>\n",
       "<div id=\"comments\">\n",
       "\n",
       "[![arXiv](https://img.shields.io/badge/arXiv-2503.07074-b31b1b.svg)](https://arxiv.org/abs/2503.07074)<mark>Appeared on: 2025-03-11</mark> -  _31 pages, 22 figures, submitted to the Open Journal of Astrophysics_\n",
       "\n",
       "</div>\n",
       "<div id=\"authors\">\n",
       "\n",
       "K. Kakiichi, et al. -- incl., <mark>E. Bañados</mark>, <mark>F. Walter</mark>\n",
       "\n",
       "</div>\n",
       "<div id=\"abstract\">\n",
       "\n",
       "**Abstract:** The spatial correlation between galaxies and the Ly $\\alpha$ forest of the intergalactic medium (IGM) provides insights into how galaxies reionized the Universe. Here, we present initial results on the spatial cross-correlation between $\\OIII$ emitters and Ly $\\alpha$ forest transmission at $5.4<z<6.5$ from the JWST ASPIRE NIRCam/F356W Grism Spectroscopic Survey in $z>6.5$ QSO fields. Using data from five QSO fields, we find $2\\sigma$ evidence for excess Ly $\\alpha$ forest transmission at $\\sim20-40 \\rm cMpc$ around $\\OIII$ emitters at $\\langle z\\rangle\\simeq5.86$ , indicating that $\\OIII$ emitters reside within a highly ionized IGM. At smaller scales, the Ly $\\alpha$ forest is preferentially absorbed, suggesting gas overdensities around $\\OIII$ emitters. Comparing with models, including THESAN cosmological radiation hydrodynamic simulations, we interpret the observed cross-correlation as evidence for significant large-scale fluctuations of the IGM and the late end of reionization at $z<6$ , characterized by ionized bubbles over $50\\rm cMpc$ around $\\OIII$ emitters. The required UV background necessitates an unseen population of faint galaxies around the $\\OIII$ emitters with average LyC leakage of $\\log_{10} \\langle f_{\\text{esc}} \\xi_{\\text{ion}} \\rangle / [{\\text{erg}^{-1} \\text{Hz}}] \\simeq 24.5$ down to $M_{\\text{UV}} = -10$ . Furthermore, we find that the number of observed $\\OIII$ emitters near individual transmission spikes is insufficient to sustain reionization in their surroundings, even assuming all $\\OIII$ emitters harbour AGN with $100 \\%$ LyC escape fractions. Despite broad agreement, a careful analysis of ASPIRE and THESAN, using the observed host halo mass from the clustering of $\\OIII$ emitters, suggests that the simulations underpredict the observed excess IGM transmission around $\\OIII$ emitters, challenging our model of reionization. Potential solutions include larger ionized bubbles at $z<6$ , further enhancement of large-scale UV background or temperature fluctuations of the IGM, and possibly a patchy early onset of reionization at $z>10$ . Current observational errors are dominated by cosmic variance, meaning future analyses of more QSO fields from JWST will improve the results.\n",
       "\n",
       "</div>\n",
       "\n",
       "<div id=\"div_fig1\">\n",
       "\n",
       "<img src=\"tmp_2503.07074/./figures/galaxy-IGM_cross-correlation_measurement_vs_RT_FRAMEWORK_full.png\" alt=\"Fig16\" width=\"100%\"/>\n",
       "\n",
       "**Figure 16. -** Comparison of the observed mean Ly$\\alpha$ forest transmission around $\\OIII$ emitters at $\\langle z\\rangle=5.86$ with the theoretical model based on analytic radiative transfer + CLF framework  ([ and Kakiichi 2018](https://ui.adsabs.harvard.edu/abs/2018MNRAS.479...43K)) . The top panels show the average photoionization rate around $\\OIII$ emitters, $\\langle \\Gamma_{\\rm HI}(r) \\rangle$(solid line: contribution from surrounding galaxies; dashed line: central $\\OIII$ emitters) on the left y-axis. The average gas overdensity profile around $\\OIII$ emitters is indicated on the right y-axis. The bottom panels indicate the mean Ly$\\alpha$ forest transmission around $\\OIII$ emitters, $\\langle T_{\\rm IGM}(r)\\rangle$ as a function of radial distance from $\\OIII$ emitters. (Left): The model prediction with varying average LyC leakage $\\langle f_{\\rm esc}\\xi_{\\rm ion}\\rangle=24.4,24.5,24.6$. The other parameters are fixed to the fiducial values as indicated in the text. (Middle): The model prediction with varying relative contribution from bright vs faint galaxies (see text). (Right): The model prediction with varying mean free path $\\lambda_{\\rm mfp}=1.0,2.0,3.0\\rm pMpc$. The black squares show the observed mean Ly$\\alpha$ forest transmission around $\\OIII$ emitters with $1\\sigma$ error estimated from the Jackknife method. (*fig:model*)\n",
       "\n",
       "</div>\n",
       "<div id=\"div_fig2\">\n",
       "\n",
       "<img src=\"tmp_2503.07074/./figures/ASPIRE_vs_THESAN_Mstar1e10_xHI_clean.png\" alt=\"Fig17\" width=\"100%\"/>\n",
       "\n",
       "**Figure 17. -** Comparison of the observed $\\OIII$ emitter-Ly$\\alpha$ forest cross-correlation, $\\langle T_{\\rm IGM}(r)\\rangle/\\overline{T}_{\\rm IGM}-1$, at $\\langle z\\rangle=5.86$(black squares) with the results from the THESAN cosmological radiation hydrodynamic simulation. The coloured curves show the results form THESAN-1 snapshots from $z=6.2$ to $5.5$ corresponding to global $\\HI$ fractions of $\\langle$\\xHI$\\rangle=0.14$ to $3.4\\times10^{-3}$. We chose the central galaxies with stellar mass of $M_\\ast>10^{10} \\rm M_\\odot$ from the THESAN simulation. The black errorbars show the $1\\sigma$ error estimated from the Jackknife method. (*fig:thesan*)\n",
       "\n",
       "</div>\n",
       "<div id=\"div_fig3\">\n",
       "\n",
       "<img src=\"tmp_2503.07074/./figures/THESAN_map_full.png\" alt=\"Fig18\" width=\"100%\"/>\n",
       "\n",
       "**Figure 18. -** Sliced maps of the $\\HI$ number density $n_{$\\HI$}$(left), the photoionization rate $\\Gamma_{\\rm HI}$(middle), and the temperature $T$(right) around a central galaxy (black star symbol) with a stellar mass of $M_\\ast>10^{10} \\rm M_\\odot$ in the THESAN-1 snapshot at $z=5.83$, corresponding to the fourth bluest galaxy-Ly$\\alpha$ forest cross-correlation in Figure \\ref{fig:thesan}. The open circles show the distribution of surrounding galaxies with stellar masses of $M_\\ast>5\\times10^7 \\rm M_\\odot$. The large dashed circle indicates a radius of $40\\rm cMpc$ around the central galaxy. All sliced maps have a width of $3.7 \\rm cMpc$. (*fig:thesan_map*)\n",
       "\n",
       "</div><div id=\"qrcode\"><img src=https://api.qrserver.com/v1/create-qr-code/?size=100x100&data=\"https://arxiv.org/abs/2503.07074\"></div>"
      ],
      "text/plain": [
       "<IPython.core.display.Markdown object>"
      ]
     },
     "metadata": {},
     "output_type": "display_data"
    },
    {
     "data": {
      "text/markdown": [
       "<div class=\"macros\" style=\"visibility:hidden;\">\n",
       "$\\newcommand{\\ensuremath}{}$\n",
       "$\\newcommand{\\xspace}{}$\n",
       "$\\newcommand{\\object}[1]{\\texttt{#1}}$\n",
       "$\\newcommand{\\farcs}{{.}''}$\n",
       "$\\newcommand{\\farcm}{{.}'}$\n",
       "$\\newcommand{\\arcsec}{''}$\n",
       "$\\newcommand{\\arcmin}{'}$\n",
       "$\\newcommand{\\ion}[2]{#1#2}$\n",
       "$\\newcommand{\\textsc}[1]{\\textrm{#1}}$\n",
       "$\\newcommand{\\hl}[1]{\\textrm{#1}}$\n",
       "$\\newcommand{\\footnote}[1]{}$\n",
       "$\\newcommand{\\mireia}[1]{{\\color{purple1}\\textsf{#1}}}$\n",
       "$\\newcommand{\\amael}[1]{{\\color{brown}\\textsf{#1}}}$\n",
       "$\\newcommand{\\jesse}[1]{{\\color{green}\\textsf{#1}}}$\n",
       "$\\newcommand{\\paola}[1]{{\\color{orange}\\textsf{#1}}}$\n",
       "$\\newcommand{\\lammim}[1]{{\\color{magenta}\\textsf{#1}}}$\n",
       "$\\newcommand{\\florence}[1]{{\\color{cyan}\\textsf{#1}}}$\n",
       "$\\newcommand{\\yoli}[1]{{\\color{pink}\\textsf{#1}}}$\n",
       "$\\newcommand{\\noisechisel}{\\texttt{NoiseChisel}}$\n",
       "$\\newcommand{\\sextractor}{\\texttt{SExtractor}}$\n",
       "$\\newcommand{\\orcid}[1]{\\orcidlink{#1}}$</div>\n",
       "\n",
       "\n",
       "\n",
       "<div id=\"title\">\n",
       "\n",
       "# $\\Euclid$: Early Release Observations -  The intracluster light of Abell 2390 $\\thanks{This paper is published on behalf of the Euclid Consortium.}$\n",
       "\n",
       "</div>\n",
       "<div id=\"comments\">\n",
       "\n",
       "[![arXiv](https://img.shields.io/badge/arXiv-2503.07484-b31b1b.svg)](https://arxiv.org/abs/2503.07484)<mark>Appeared on: 2025-03-11</mark> -  _23 pages, 20 figures, 2 tables submitted to A\\&A_\n",
       "\n",
       "</div>\n",
       "<div id=\"authors\">\n",
       "\n",
       "A. Ellien, et al. -- incl., <mark>K. Jahnke</mark>\n",
       "\n",
       "</div>\n",
       "<div id=\"abstract\">\n",
       "\n",
       "**Abstract:** Intracluster light (ICL) provides a record of the dynamical interactions undergone by clusters, giving clues on cluster formation and evolution. Here, we analyse the properties of ICL in the massive cluster Abell 2390 at redshift $z= 0.228$ .Our analysis is based on the deep images obtained by the $\\Euclid$ mission as part of the Early Release Observations in the near-infrared ( $\\YE$ , $\\JE$ , $\\HE$ bands), using the NISP instrument in a 0.75 deg $^2$ field. We subtracted a point--spread function (PSF) model and removed the Galactic cirrus contribution in each band after modelling it with the \\texttt{DAWIS} software. We then applied three methods to detect, characterise, and model the ICL and the brightest cluster galaxy (BCG): the \\texttt{CICLE} 2D multi-galaxy fitting; the \\texttt{DAWIS} wavelet-based multiscale software; and a mask-based 1D profile fitting.We detect ICL out to 600 kpc. The ICL fractions derived by our three methods range between 18 \\% and 36 \\% (average of 24 \\% ), while the BCG+ICL fractions are between 21 \\% and 41 \\% (average of 29 \\% ), depending on the band and method. A galaxy density map based on 219 selected cluster members shows a strong cluster substructure to the south-east and a smaller feature to the north-west.Ellipticals dominate the cluster's central region, with a centroid offset from the BCG by about 70 kpc and distribution following that of the ICL, while spirals do not trace the entire ICL but rather substructures. The comparison of the BCG+ICL, mass from gravitational lensing, and X-ray maps show that the BCG+ICL is the best tracer of substructures in the cluster.Based on colours, the ICL (out to about 400 kpc) seems to be built by the accretion of small systems ( $M \\sim 10^{9.5}\\si{\\solarmass}$ ), or from stars coming from the outskirts of Milky Way-type galaxies ( $M \\sim 10^{10}\\si{\\solarmass}$ ). Though Abell 2390 does not seem to be undergoing a merger, it is not yet fully relaxed, since it has accreted two groups that have not fully merged with the cluster core. We estimate that the contributions to the inner 300 kpc of the ICL of the north-west and south-east subgroups are 21 \\% and 9 \\% respectively.\n",
       "\n",
       "</div>\n",
       "\n",
       "<div id=\"div_fig1\">\n",
       "\n",
       "<img src=\"tmp_2503.07484/./figures/Contours_allspec_zphot_all_galaxies_v4.png\" alt=\"Fig11\" width=\"100%\"/>\n",
       "\n",
       "**Figure 11. -** Contour maps of the spatial distribution of elliptical (red) and spiral (blue) galaxies overlaid on the \\HE-band image of A 2390 in the upper panel, and the \\texttt{DAWIS} BCG+ICL map in the lower panel. The figure shows a region of $\\ang{;;700}\\times\\ang{;;700}$($2.5 {\\rm Mpc}\\times2.5 {\\rm Mpc}$) centred on the BCG. (*fig:morph_contours*)\n",
       "\n",
       "</div>\n",
       "<div id=\"div_fig2\">\n",
       "\n",
       "<img src=\"tmp_2503.07484/./figures/rgb_Yoli_wgroups.png\" alt=\"Fig18.1\" width=\"50%\"/><img src=\"tmp_2503.07484/./figures/rgb_Amael_wgroups.png\" alt=\"Fig18.2\" width=\"50%\"/>\n",
       "\n",
       "**Figure 18. -** RGB images of the BCG+ICL in the core of A 2390 ($700 $\\arcsec$\\times 700 $\\arcsec$$). The left panel shows the \\texttt{CICLE} RGB map and the right panel the \\texttt{DAWIS} RGB map. The numbers in both maps mark the position of the galaxies in the groups identified by DS+ (see Sect. \\ref{sec:substructures}), listed in Table \\ref{table:DS+}. Both colour images were generated with Trilogy  ([Coe, Umetsu and Zitrin 2012]()) . (*fig:rgb_groups*)\n",
       "\n",
       "</div>\n",
       "<div id=\"div_fig3\">\n",
       "\n",
       "<img src=\"tmp_2503.07484/./figures/A2390_allz_galdens.png\" alt=\"Fig10\" width=\"100%\"/>\n",
       "\n",
       "**Figure 10. -** Density map of the 219 galaxies selected as belonging to the cluster A 2390 (see main text). The green contour levels correspond to 3$\\sigma$, 10$\\sigma$, and 20$\\sigma$ above the background.  North is up and east is to the left. The image size is  $\\ang{0.4;;} \\times \\ang{0.4;;}$(5.24 Mpc $\\times$ 5.24 Mpc) and is centred on the BCG.  (*fig:densmap*)\n",
       "\n",
       "</div><div id=\"qrcode\"><img src=https://api.qrserver.com/v1/create-qr-code/?size=100x100&data=\"https://arxiv.org/abs/2503.07484\"></div>"
      ],
      "text/plain": [
       "<IPython.core.display.Markdown object>"
      ]
     },
     "metadata": {},
     "output_type": "display_data"
    }
   ],
   "source": [
    "[display(Markdown(k[1])) for k in documents];"
   ]
  },
  {
   "cell_type": "markdown",
   "id": "873873a4",
   "metadata": {
    "papermill": {
     "duration": 0.005089,
     "end_time": "2025-03-11T04:13:42.410879",
     "exception": false,
     "start_time": "2025-03-11T04:13:42.405790",
     "status": "completed"
    },
    "tags": []
   },
   "source": [
    "# Create HTML index"
   ]
  },
  {
   "cell_type": "code",
   "execution_count": 10,
   "id": "cf665672",
   "metadata": {
    "execution": {
     "iopub.execute_input": "2025-03-11T04:13:42.422465Z",
     "iopub.status.busy": "2025-03-11T04:13:42.422033Z",
     "iopub.status.idle": "2025-03-11T04:13:42.431394Z",
     "shell.execute_reply": "2025-03-11T04:13:42.430849Z"
    },
    "papermill": {
     "duration": 0.016104,
     "end_time": "2025-03-11T04:13:42.432413",
     "exception": false,
     "start_time": "2025-03-11T04:13:42.416309",
     "status": "completed"
    },
    "tags": []
   },
   "outputs": [
    {
     "name": "stdout",
     "output_type": "stream",
     "text": [
      "359  publications files modified in the last 7 days.\n"
     ]
    }
   ],
   "source": [
    "from datetime import datetime, timedelta, timezone\n",
    "from glob import glob\n",
    "import os\n",
    "\n",
    "files = glob('_build/html/*.md')\n",
    "days = 7\n",
    "now = datetime.today()\n",
    "res = []\n",
    "for fk in files:\n",
    "    stat_result = os.stat(fk).st_ctime\n",
    "    modified = datetime.fromtimestamp(stat_result, tz=timezone.utc).replace(tzinfo=None)\n",
    "    delta = now.today() - modified\n",
    "    if delta <= timedelta(days=days):\n",
    "        res.append((delta.seconds, fk))\n",
    "res = [k[1] for k in reversed(sorted(res, key=lambda x:x[1]))]\n",
    "npub = len(res)\n",
    "print(len(res), f\" publications files modified in the last {days:d} days.\")\n",
    "# [ print('\\t', k) for k in res ];"
   ]
  },
  {
   "cell_type": "code",
   "execution_count": 11,
   "id": "015de740",
   "metadata": {
    "execution": {
     "iopub.execute_input": "2025-03-11T04:13:42.443782Z",
     "iopub.status.busy": "2025-03-11T04:13:42.443396Z",
     "iopub.status.idle": "2025-03-11T04:13:42.462949Z",
     "shell.execute_reply": "2025-03-11T04:13:42.462424Z"
    },
    "papermill": {
     "duration": 0.026269,
     "end_time": "2025-03-11T04:13:42.463875",
     "exception": false,
     "start_time": "2025-03-11T04:13:42.437606",
     "status": "completed"
    },
    "tags": []
   },
   "outputs": [
    {
     "name": "stdout",
     "output_type": "stream",
     "text": [
      "16  publications in the last 7 days.\n"
     ]
    }
   ],
   "source": [
    "import datetime\n",
    "from glob import glob\n",
    "\n",
    "def get_last_n_days(lst, days=1):\n",
    "    \"\"\" Get the documents from the last n days \"\"\"\n",
    "    sorted_lst = sorted(lst, key=lambda x: x[1], reverse=True)\n",
    "    for fname, date in sorted_lst:\n",
    "        if date >= str(datetime.date.today() - datetime.timedelta(days=days)):\n",
    "            yield fname\n",
    "\n",
    "def extract_appearance_dates(lst_file):\n",
    "    dates = []\n",
    "\n",
    "    def get_date(line):\n",
    "        return line\\\n",
    "            .split('Appeared on:')[-1]\\\n",
    "            .split('</mark>')[0].strip()\n",
    "\n",
    "    for fname in lst:\n",
    "        with open(fname, 'r') as f:\n",
    "            found_date = False\n",
    "            for line in f:\n",
    "                if not found_date:\n",
    "                    if \"Appeared on\" in line:\n",
    "                        found_date = True\n",
    "                        dates.append((fname, get_date(line)))\n",
    "                else:\n",
    "                    break\n",
    "    return dates\n",
    "\n",
    "from glob import glob\n",
    "lst = glob('_build/html/*md')\n",
    "days = 7\n",
    "dates = extract_appearance_dates(lst)\n",
    "res = list(get_last_n_days(dates, days))\n",
    "npub = len(res)\n",
    "print(len(res), f\" publications in the last {days:d} days.\")"
   ]
  },
  {
   "cell_type": "code",
   "execution_count": 12,
   "id": "52ca0208",
   "metadata": {
    "execution": {
     "iopub.execute_input": "2025-03-11T04:13:42.475472Z",
     "iopub.status.busy": "2025-03-11T04:13:42.475071Z",
     "iopub.status.idle": "2025-03-11T04:13:42.479770Z",
     "shell.execute_reply": "2025-03-11T04:13:42.479265Z"
    },
    "papermill": {
     "duration": 0.011445,
     "end_time": "2025-03-11T04:13:42.480697",
     "exception": false,
     "start_time": "2025-03-11T04:13:42.469252",
     "status": "completed"
    },
    "scrolled": false,
    "tags": []
   },
   "outputs": [],
   "source": [
    "def create_carousel(npub=4):\n",
    "    \"\"\" Generate the HTML code for a carousel with `npub` slides \"\"\"\n",
    "    carousel = [\"\"\"  <div class=\"carousel\" \"\"\",\n",
    "                \"\"\"       data-flickity='{ \"autoPlay\": 10000, \"adaptiveHeight\": true, \"resize\": true, \"wrapAround\": true, \"pauseAutoPlayOnHover\": true, \"groupCells\": 1 }' id=\"asyncTypeset\">\"\"\"\n",
    "                ]\n",
    "    \n",
    "    item_str = \"\"\"    <div class=\"carousel-cell\"> <div id=\"slide{k}\" class=\"md_view\">Content {k}</div> </div>\"\"\"\n",
    "    for k in range(1, npub + 1):\n",
    "        carousel.append(item_str.format(k=k))\n",
    "    carousel.append(\"  </div>\")\n",
    "    return '\\n'.join(carousel)\n",
    "\n",
    "def create_grid(npub=4):\n",
    "    \"\"\" Generate the HTML code for a flat grid with `npub` slides \"\"\"\n",
    "    grid = [\"\"\"  <div class=\"grid\"> \"\"\",\n",
    "                ]\n",
    "    \n",
    "    item_str = \"\"\"    <div class=\"grid-item\"> <div id=\"slide{k}\" class=\"md_view\">Content {k}</div> </div>\"\"\"\n",
    "    for k in range(1, npub + 1):\n",
    "        grid.append(item_str.format(k=k))\n",
    "    grid.append(\"  </div>\")\n",
    "    return '\\n'.join(grid)"
   ]
  },
  {
   "cell_type": "code",
   "execution_count": 13,
   "id": "a6eac5b6",
   "metadata": {
    "execution": {
     "iopub.execute_input": "2025-03-11T04:13:42.492332Z",
     "iopub.status.busy": "2025-03-11T04:13:42.491825Z",
     "iopub.status.idle": "2025-03-11T04:13:42.496954Z",
     "shell.execute_reply": "2025-03-11T04:13:42.496433Z"
    },
    "papermill": {
     "duration": 0.011981,
     "end_time": "2025-03-11T04:13:42.497973",
     "exception": false,
     "start_time": "2025-03-11T04:13:42.485992",
     "status": "completed"
    },
    "scrolled": false,
    "tags": []
   },
   "outputs": [],
   "source": [
    "carousel = create_carousel(npub)\n",
    "docs = ', '.join(['\"{0:s}\"'.format(k.split('/')[-1]) for k in res])\n",
    "slides = ', '.join([f'\"slide{k}\"' for k in range(1, npub + 1)])\n",
    "\n",
    "with open(\"daily_template.html\", \"r\") as tpl:\n",
    "    page = tpl.read()\n",
    "    page = page.replace(\"{%-- carousel:s --%}\", carousel)\\\n",
    "               .replace(\"{%-- suptitle:s --%}\",  \"7-day archives\" )\\\n",
    "               .replace(\"{%-- docs:s --%}\", docs)\\\n",
    "               .replace(\"{%-- slides:s --%}\", slides)\n",
    "    \n",
    "with open(\"_build/html/index_7days.html\", 'w') as fout:\n",
    "    fout.write(page)"
   ]
  },
  {
   "cell_type": "code",
   "execution_count": 14,
   "id": "adc1a1ec",
   "metadata": {
    "execution": {
     "iopub.execute_input": "2025-03-11T04:13:42.509609Z",
     "iopub.status.busy": "2025-03-11T04:13:42.509407Z",
     "iopub.status.idle": "2025-03-11T04:13:42.516092Z",
     "shell.execute_reply": "2025-03-11T04:13:42.515579Z"
    },
    "papermill": {
     "duration": 0.013699,
     "end_time": "2025-03-11T04:13:42.517124",
     "exception": false,
     "start_time": "2025-03-11T04:13:42.503425",
     "status": "completed"
    },
    "tags": []
   },
   "outputs": [
    {
     "name": "stdout",
     "output_type": "stream",
     "text": [
      "7  publications in the last day.\n"
     ]
    }
   ],
   "source": [
    "# redo for today\n",
    "days = 1\n",
    "res = list(get_last_n_days(dates, days))\n",
    "npub = len(res)\n",
    "print(len(res), f\" publications in the last day.\")\n",
    "\n",
    "carousel = create_carousel(npub)\n",
    "docs = ', '.join(['\"{0:s}\"'.format(k.split('/')[-1]) for k in res])\n",
    "slides = ', '.join([f'\"slide{k}\"' for k in range(1, npub + 1)])\n",
    "\n",
    "with open(\"daily_template.html\", \"r\") as tpl:\n",
    "    page = tpl.read()\n",
    "    page = page.replace(\"{%-- carousel:s --%}\", carousel)\\\n",
    "               .replace(\"{%-- suptitle:s --%}\",  \"Daily\" )\\\n",
    "               .replace(\"{%-- docs:s --%}\", docs)\\\n",
    "               .replace(\"{%-- slides:s --%}\", slides)\n",
    "    \n",
    "# print(carousel, docs, slides)\n",
    "# print(page)\n",
    "with open(\"_build/html/index_daily.html\", 'w') as fout:\n",
    "    fout.write(page)"
   ]
  },
  {
   "cell_type": "code",
   "execution_count": 15,
   "id": "00eece82",
   "metadata": {
    "execution": {
     "iopub.execute_input": "2025-03-11T04:13:42.529103Z",
     "iopub.status.busy": "2025-03-11T04:13:42.528713Z",
     "iopub.status.idle": "2025-03-11T04:13:42.535264Z",
     "shell.execute_reply": "2025-03-11T04:13:42.534650Z"
    },
    "papermill": {
     "duration": 0.013619,
     "end_time": "2025-03-11T04:13:42.536306",
     "exception": false,
     "start_time": "2025-03-11T04:13:42.522687",
     "status": "completed"
    },
    "scrolled": false,
    "tags": []
   },
   "outputs": [
    {
     "name": "stdout",
     "output_type": "stream",
     "text": [
      "6  6 publications selected.\n"
     ]
    }
   ],
   "source": [
    "# Create the flat grid of the last N papers (fixed number regardless of dates)\n",
    "from itertools import islice \n",
    "\n",
    "npub = 6\n",
    "res = [k[0] for k in (islice(reversed(sorted(dates, key=lambda x: x[1])), 6))]\n",
    "print(len(res), f\" {npub} publications selected.\")\n",
    "\n",
    "grid = create_grid(npub)\n",
    "docs = ', '.join(['\"{0:s}\"'.format(k.split('/')[-1]) for k in res])\n",
    "slides = ', '.join([f'\"slide{k}\"' for k in range(1, npub + 1)])\n",
    "\n",
    "with open(\"grid_template.html\", \"r\") as tpl:\n",
    "    page = tpl.read()\n",
    "    page = page.replace(\"{%-- grid-content:s --%}\", grid)\\\n",
    "               .replace(\"{%-- suptitle:s --%}\",  f\"Last {npub:,d} papers\" )\\\n",
    "               .replace(\"{%-- docs:s --%}\", docs)\\\n",
    "               .replace(\"{%-- slides:s --%}\", slides)\n",
    "    \n",
    "# print(grid, docs, slides)\n",
    "# print(page)\n",
    "with open(\"_build/html/index_npub_grid.html\", 'w') as fout:\n",
    "    fout.write(page)"
   ]
  }
 ],
 "metadata": {
  "kernelspec": {
   "display_name": "Python 3 (ipykernel)",
   "language": "python",
   "name": "python3"
  },
  "language_info": {
   "codemirror_mode": {
    "name": "ipython",
    "version": 3
   },
   "file_extension": ".py",
   "mimetype": "text/x-python",
   "name": "python",
   "nbconvert_exporter": "python",
   "pygments_lexer": "ipython3",
   "version": "3.9.21"
  },
  "papermill": {
   "default_parameters": {},
   "duration": 129.088599,
   "end_time": "2025-03-11T04:13:42.757091",
   "environment_variables": {},
   "exception": null,
   "input_path": "MPIA daily digest.ipynb",
   "output_path": "log.ipynb",
   "parameters": {},
   "start_time": "2025-03-11T04:11:33.668492",
   "version": "2.6.0"
  },
  "vscode": {
   "interpreter": {
    "hash": "aee8b7b246df8f9039afb4144a1f6fd8d2ca17a180786b69acc140d282b71a49"
   }
  },
  "widgets": {
   "application/vnd.jupyter.widget-state+json": {
    "state": {
     "09ad51124ab147a2a0b206456ee200b5": {
      "model_module": "@jupyter-widgets/controls",
      "model_module_version": "2.0.0",
      "model_name": "HBoxModel",
      "state": {
       "_dom_classes": [],
       "_model_module": "@jupyter-widgets/controls",
       "_model_module_version": "2.0.0",
       "_model_name": "HBoxModel",
       "_view_count": null,
       "_view_module": "@jupyter-widgets/controls",
       "_view_module_version": "2.0.0",
       "_view_name": "HBoxView",
       "box_style": "",
       "children": [
        "IPY_MODEL_d5bb4f94be4f4f838ccf6bad7ad6460a",
        "IPY_MODEL_14476aa1547944649f30ea876701b405",
        "IPY_MODEL_5e40a9e8166945fdbc41a604c80f6b32"
       ],
       "layout": "IPY_MODEL_b0a1d512729346c5a354bbddbc9adffa",
       "tabbable": null,
       "tooltip": null
      }
     },
     "14476aa1547944649f30ea876701b405": {
      "model_module": "@jupyter-widgets/controls",
      "model_module_version": "2.0.0",
      "model_name": "FloatProgressModel",
      "state": {
       "_dom_classes": [],
       "_model_module": "@jupyter-widgets/controls",
       "_model_module_version": "2.0.0",
       "_model_name": "FloatProgressModel",
       "_view_count": null,
       "_view_module": "@jupyter-widgets/controls",
       "_view_module_version": "2.0.0",
       "_view_name": "ProgressView",
       "bar_style": "success",
       "description": "",
       "description_allow_html": false,
       "layout": "IPY_MODEL_8ac3153607004c67b49f62c29b181d3d",
       "max": 4.0,
       "min": 0.0,
       "orientation": "horizontal",
       "style": "IPY_MODEL_2946847293dd4016b777fd8ce41e9297",
       "tabbable": null,
       "tooltip": null,
       "value": 4.0
      }
     },
     "2946847293dd4016b777fd8ce41e9297": {
      "model_module": "@jupyter-widgets/controls",
      "model_module_version": "2.0.0",
      "model_name": "ProgressStyleModel",
      "state": {
       "_model_module": "@jupyter-widgets/controls",
       "_model_module_version": "2.0.0",
       "_model_name": "ProgressStyleModel",
       "_view_count": null,
       "_view_module": "@jupyter-widgets/base",
       "_view_module_version": "2.0.0",
       "_view_name": "StyleView",
       "bar_color": null,
       "description_width": ""
      }
     },
     "3407991e8ff94437b92df5852aeb5177": {
      "model_module": "@jupyter-widgets/base",
      "model_module_version": "2.0.0",
      "model_name": "LayoutModel",
      "state": {
       "_model_module": "@jupyter-widgets/base",
       "_model_module_version": "2.0.0",
       "_model_name": "LayoutModel",
       "_view_count": null,
       "_view_module": "@jupyter-widgets/base",
       "_view_module_version": "2.0.0",
       "_view_name": "LayoutView",
       "align_content": null,
       "align_items": null,
       "align_self": null,
       "border_bottom": null,
       "border_left": null,
       "border_right": null,
       "border_top": null,
       "bottom": null,
       "display": null,
       "flex": null,
       "flex_flow": null,
       "grid_area": null,
       "grid_auto_columns": null,
       "grid_auto_flow": null,
       "grid_auto_rows": null,
       "grid_column": null,
       "grid_gap": null,
       "grid_row": null,
       "grid_template_areas": null,
       "grid_template_columns": null,
       "grid_template_rows": null,
       "height": null,
       "justify_content": null,
       "justify_items": null,
       "left": null,
       "margin": null,
       "max_height": null,
       "max_width": null,
       "min_height": null,
       "min_width": null,
       "object_fit": null,
       "object_position": null,
       "order": null,
       "overflow": null,
       "padding": null,
       "right": null,
       "top": null,
       "visibility": null,
       "width": null
      }
     },
     "5b43be0bf19c47bcaa1fc405982a4333": {
      "model_module": "@jupyter-widgets/base",
      "model_module_version": "2.0.0",
      "model_name": "LayoutModel",
      "state": {
       "_model_module": "@jupyter-widgets/base",
       "_model_module_version": "2.0.0",
       "_model_name": "LayoutModel",
       "_view_count": null,
       "_view_module": "@jupyter-widgets/base",
       "_view_module_version": "2.0.0",
       "_view_name": "LayoutView",
       "align_content": null,
       "align_items": null,
       "align_self": null,
       "border_bottom": null,
       "border_left": null,
       "border_right": null,
       "border_top": null,
       "bottom": null,
       "display": null,
       "flex": null,
       "flex_flow": null,
       "grid_area": null,
       "grid_auto_columns": null,
       "grid_auto_flow": null,
       "grid_auto_rows": null,
       "grid_column": null,
       "grid_gap": null,
       "grid_row": null,
       "grid_template_areas": null,
       "grid_template_columns": null,
       "grid_template_rows": null,
       "height": null,
       "justify_content": null,
       "justify_items": null,
       "left": null,
       "margin": null,
       "max_height": null,
       "max_width": null,
       "min_height": null,
       "min_width": null,
       "object_fit": null,
       "object_position": null,
       "order": null,
       "overflow": null,
       "padding": null,
       "right": null,
       "top": null,
       "visibility": null,
       "width": null
      }
     },
     "5e40a9e8166945fdbc41a604c80f6b32": {
      "model_module": "@jupyter-widgets/controls",
      "model_module_version": "2.0.0",
      "model_name": "HTMLModel",
      "state": {
       "_dom_classes": [],
       "_model_module": "@jupyter-widgets/controls",
       "_model_module_version": "2.0.0",
       "_model_name": "HTMLModel",
       "_view_count": null,
       "_view_module": "@jupyter-widgets/controls",
       "_view_module_version": "2.0.0",
       "_view_name": "HTMLView",
       "description": "",
       "description_allow_html": false,
       "layout": "IPY_MODEL_5b43be0bf19c47bcaa1fc405982a4333",
       "placeholder": "​",
       "style": "IPY_MODEL_f5cae12a685744e8ad5801b82a74a391",
       "tabbable": null,
       "tooltip": null,
       "value": " 4/4 [01:47&lt;00:00, 29.28s/it]"
      }
     },
     "8ac3153607004c67b49f62c29b181d3d": {
      "model_module": "@jupyter-widgets/base",
      "model_module_version": "2.0.0",
      "model_name": "LayoutModel",
      "state": {
       "_model_module": "@jupyter-widgets/base",
       "_model_module_version": "2.0.0",
       "_model_name": "LayoutModel",
       "_view_count": null,
       "_view_module": "@jupyter-widgets/base",
       "_view_module_version": "2.0.0",
       "_view_name": "LayoutView",
       "align_content": null,
       "align_items": null,
       "align_self": null,
       "border_bottom": null,
       "border_left": null,
       "border_right": null,
       "border_top": null,
       "bottom": null,
       "display": null,
       "flex": null,
       "flex_flow": null,
       "grid_area": null,
       "grid_auto_columns": null,
       "grid_auto_flow": null,
       "grid_auto_rows": null,
       "grid_column": null,
       "grid_gap": null,
       "grid_row": null,
       "grid_template_areas": null,
       "grid_template_columns": null,
       "grid_template_rows": null,
       "height": null,
       "justify_content": null,
       "justify_items": null,
       "left": null,
       "margin": null,
       "max_height": null,
       "max_width": null,
       "min_height": null,
       "min_width": null,
       "object_fit": null,
       "object_position": null,
       "order": null,
       "overflow": null,
       "padding": null,
       "right": null,
       "top": null,
       "visibility": null,
       "width": null
      }
     },
     "99ef9b302e884931b88d6ecff8b610b1": {
      "model_module": "@jupyter-widgets/controls",
      "model_module_version": "2.0.0",
      "model_name": "HTMLStyleModel",
      "state": {
       "_model_module": "@jupyter-widgets/controls",
       "_model_module_version": "2.0.0",
       "_model_name": "HTMLStyleModel",
       "_view_count": null,
       "_view_module": "@jupyter-widgets/base",
       "_view_module_version": "2.0.0",
       "_view_name": "StyleView",
       "background": null,
       "description_width": "",
       "font_size": null,
       "text_color": null
      }
     },
     "b0a1d512729346c5a354bbddbc9adffa": {
      "model_module": "@jupyter-widgets/base",
      "model_module_version": "2.0.0",
      "model_name": "LayoutModel",
      "state": {
       "_model_module": "@jupyter-widgets/base",
       "_model_module_version": "2.0.0",
       "_model_name": "LayoutModel",
       "_view_count": null,
       "_view_module": "@jupyter-widgets/base",
       "_view_module_version": "2.0.0",
       "_view_name": "LayoutView",
       "align_content": null,
       "align_items": null,
       "align_self": null,
       "border_bottom": null,
       "border_left": null,
       "border_right": null,
       "border_top": null,
       "bottom": null,
       "display": null,
       "flex": null,
       "flex_flow": null,
       "grid_area": null,
       "grid_auto_columns": null,
       "grid_auto_flow": null,
       "grid_auto_rows": null,
       "grid_column": null,
       "grid_gap": null,
       "grid_row": null,
       "grid_template_areas": null,
       "grid_template_columns": null,
       "grid_template_rows": null,
       "height": null,
       "justify_content": null,
       "justify_items": null,
       "left": null,
       "margin": null,
       "max_height": null,
       "max_width": null,
       "min_height": null,
       "min_width": null,
       "object_fit": null,
       "object_position": null,
       "order": null,
       "overflow": null,
       "padding": null,
       "right": null,
       "top": null,
       "visibility": null,
       "width": null
      }
     },
     "d5bb4f94be4f4f838ccf6bad7ad6460a": {
      "model_module": "@jupyter-widgets/controls",
      "model_module_version": "2.0.0",
      "model_name": "HTMLModel",
      "state": {
       "_dom_classes": [],
       "_model_module": "@jupyter-widgets/controls",
       "_model_module_version": "2.0.0",
       "_model_name": "HTMLModel",
       "_view_count": null,
       "_view_module": "@jupyter-widgets/controls",
       "_view_module_version": "2.0.0",
       "_view_name": "HTMLView",
       "description": "",
       "description_allow_html": false,
       "layout": "IPY_MODEL_3407991e8ff94437b92df5852aeb5177",
       "placeholder": "​",
       "style": "IPY_MODEL_99ef9b302e884931b88d6ecff8b610b1",
       "tabbable": null,
       "tooltip": null,
       "value": "100%"
      }
     },
     "f5cae12a685744e8ad5801b82a74a391": {
      "model_module": "@jupyter-widgets/controls",
      "model_module_version": "2.0.0",
      "model_name": "HTMLStyleModel",
      "state": {
       "_model_module": "@jupyter-widgets/controls",
       "_model_module_version": "2.0.0",
       "_model_name": "HTMLStyleModel",
       "_view_count": null,
       "_view_module": "@jupyter-widgets/base",
       "_view_module_version": "2.0.0",
       "_view_name": "StyleView",
       "background": null,
       "description_width": "",
       "font_size": null,
       "text_color": null
      }
     }
    },
    "version_major": 2,
    "version_minor": 0
   }
  }
 },
 "nbformat": 4,
 "nbformat_minor": 5
}