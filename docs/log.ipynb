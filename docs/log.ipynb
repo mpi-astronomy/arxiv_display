{
 "cells": [
  {
   "cell_type": "markdown",
   "id": "92bcb855",
   "metadata": {
    "papermill": {
     "duration": 0.003759,
     "end_time": "2024-06-10T04:10:15.281837",
     "exception": false,
     "start_time": "2024-06-10T04:10:15.278078",
     "status": "completed"
    },
    "tags": []
   },
   "source": [
    "# MPIA Arxiv on Deck 2\n",
    "\n",
    "Contains the steps to produce the paper extractions."
   ]
  },
  {
   "cell_type": "code",
   "execution_count": 1,
   "id": "3a0d6e11",
   "metadata": {
    "execution": {
     "iopub.execute_input": "2024-06-10T04:10:15.289537Z",
     "iopub.status.busy": "2024-06-10T04:10:15.288946Z",
     "iopub.status.idle": "2024-06-10T04:10:15.791158Z",
     "shell.execute_reply": "2024-06-10T04:10:15.790453Z"
    },
    "papermill": {
     "duration": 0.507989,
     "end_time": "2024-06-10T04:10:15.792942",
     "exception": false,
     "start_time": "2024-06-10T04:10:15.284953",
     "status": "completed"
    },
    "tags": []
   },
   "outputs": [],
   "source": [
    "# Imports\n",
    "import os\n",
    "from IPython.display import Markdown, display\n",
    "from tqdm.notebook import tqdm\n",
    "import warnings\n",
    "from PIL import Image \n",
    "\n",
    "# requires arxiv_on_deck_2\n",
    "\n",
    "from arxiv_on_deck_2.arxiv2 import (get_new_papers, \n",
    "                                    get_paper_from_identifier,\n",
    "                                    retrieve_document_source, \n",
    "                                    get_markdown_badge)\n",
    "from arxiv_on_deck_2 import (latex,\n",
    "                             latex_bib,\n",
    "                             mpia,\n",
    "                             highlight_authors_in_list)\n",
    "\n",
    "# Sometimes images are really big\n",
    "Image.MAX_IMAGE_PIXELS = 1000000000 "
   ]
  },
  {
   "cell_type": "code",
   "execution_count": 2,
   "id": "22aa9d44",
   "metadata": {
    "execution": {
     "iopub.execute_input": "2024-06-10T04:10:15.800467Z",
     "iopub.status.busy": "2024-06-10T04:10:15.799940Z",
     "iopub.status.idle": "2024-06-10T04:10:15.805091Z",
     "shell.execute_reply": "2024-06-10T04:10:15.804491Z"
    },
    "papermill": {
     "duration": 0.010219,
     "end_time": "2024-06-10T04:10:15.806370",
     "exception": false,
     "start_time": "2024-06-10T04:10:15.796151",
     "status": "completed"
    },
    "tags": []
   },
   "outputs": [],
   "source": [
    "# Some useful definitions.\n",
    "\n",
    "class AffiliationWarning(UserWarning):\n",
    "    pass\n",
    "\n",
    "class AffiliationError(RuntimeError):\n",
    "    pass\n",
    "\n",
    "def validation(source: str):\n",
    "    \"\"\"Raises error paper during parsing of source file\n",
    "    \n",
    "    Allows checks before parsing TeX code.\n",
    "    \n",
    "    Raises AffiliationWarning\n",
    "    \"\"\"\n",
    "    check = mpia.affiliation_verifications(source, verbose=True)\n",
    "    if check is not True:\n",
    "        raise AffiliationError(\"mpia.affiliation_verifications: \" + check)\n",
    "\n",
    "        \n",
    "warnings.simplefilter('always', AffiliationWarning)\n",
    "\n",
    "\n",
    "def get_markdown_qrcode(paper_id: str):\n",
    "    \"\"\" Generate a qrcode to the arxiv page using qrserver.com\n",
    "    \n",
    "    :param paper: Arxiv paper\n",
    "    :returns: markdown text\n",
    "    \"\"\"\n",
    "    url = r\"https://api.qrserver.com/v1/create-qr-code/?size=100x100&data=\"\n",
    "    txt = f\"\"\"<img src={url}\"https://arxiv.org/abs/{paper_id}\">\"\"\"\n",
    "    txt = '<div id=\"qrcode\">' + txt + '</div>'\n",
    "    return txt"
   ]
  },
  {
   "cell_type": "markdown",
   "id": "14bd6310",
   "metadata": {
    "papermill": {
     "duration": 0.00289,
     "end_time": "2024-06-10T04:10:15.812196",
     "exception": false,
     "start_time": "2024-06-10T04:10:15.809306",
     "status": "completed"
    },
    "tags": []
   },
   "source": [
    "## get list of arxiv paper candidates\n",
    "\n",
    "We use the MPIA mitarbeiter list webpage from mpia.de to get author names\n",
    "We then get all new papers from Arxiv and match authors"
   ]
  },
  {
   "cell_type": "code",
   "execution_count": 3,
   "id": "7ea813a8",
   "metadata": {
    "execution": {
     "iopub.execute_input": "2024-06-10T04:10:15.819063Z",
     "iopub.status.busy": "2024-06-10T04:10:15.818713Z",
     "iopub.status.idle": "2024-06-10T04:10:31.942867Z",
     "shell.execute_reply": "2024-06-10T04:10:31.942272Z"
    },
    "papermill": {
     "duration": 16.129357,
     "end_time": "2024-06-10T04:10:31.944470",
     "exception": false,
     "start_time": "2024-06-10T04:10:15.815113",
     "status": "completed"
    },
    "tags": []
   },
   "outputs": [],
   "source": [
    "# deal with the author list and edge cases of people that cannot be consistent on their name  \n",
    "\n",
    "def filter_non_scientists(name: str) -> bool:\n",
    "    \"\"\" Loose filter on expected authorships\n",
    "\n",
    "    removing IT, administration, technical staff\n",
    "    :param name: name\n",
    "    :returns: False if name is not a scientist\n",
    "    \"\"\"\n",
    "    remove_list = ['Wolf', 'Licht', 'Binroth', 'Witzel', 'Jordan',\n",
    "                   'Zähringer', 'Scheerer', 'Hoffmann', 'Düe',\n",
    "                   'Hellmich', 'Enkler-Scharpegge', 'Witte-Nguy',\n",
    "                   'Dehen', 'Beckmann', 'Jager', 'Jäger'\n",
    "                  ]\n",
    "\n",
    "    for k in remove_list:\n",
    "        if k in name:\n",
    "            return False\n",
    "    return True\n",
    "\n",
    "def add_author_to_list(author_list: list) -> list:\n",
    "    \"\"\" Add author to list if not already in list\n",
    "    \n",
    "    :param author: author name\n",
    "    :param author_list: list of authors\n",
    "    :returns: updated list of authors\n",
    "    \"\"\"\n",
    "    add_list = ['T. Henning']\n",
    "\n",
    "    for author in add_list:\n",
    "        if author not in author_list:\n",
    "            author_list.append(author)\n",
    "    return author_list\n",
    "\n",
    "# get list from MPIA website\n",
    "# filter for non-scientists (mpia.get_mpia_mitarbeiter_list() does some filtering)\n",
    "mpia_authors = [k[1] for k in mpia.get_mpia_mitarbeiter_list() if filter_non_scientists(k[1])]\n",
    "# add some missing author because of inconsistencies in their MPIA name and author name on papers\n",
    "mpia_authors = add_author_to_list(mpia_authors)"
   ]
  },
  {
   "cell_type": "code",
   "execution_count": 4,
   "id": "2645e73a",
   "metadata": {
    "execution": {
     "iopub.execute_input": "2024-06-10T04:10:31.952063Z",
     "iopub.status.busy": "2024-06-10T04:10:31.951785Z",
     "iopub.status.idle": "2024-06-10T04:10:32.767324Z",
     "shell.execute_reply": "2024-06-10T04:10:32.766704Z"
    },
    "papermill": {
     "duration": 0.82082,
     "end_time": "2024-06-10T04:10:32.768636",
     "exception": false,
     "start_time": "2024-06-10T04:10:31.947816",
     "status": "completed"
    },
    "tags": []
   },
   "outputs": [
    {
     "name": "stdout",
     "output_type": "stream",
     "text": [
      "S. Zieba  ->  S. Zieba  |  ['S. Zieba']\n"
     ]
    },
    {
     "name": "stdout",
     "output_type": "stream",
     "text": [
      "S. Belladitta  ->  S. Belladitta  |  ['S. Belladitta']\n",
      "Arxiv has 65 new papers today\n",
      "          2 with possible author matches\n"
     ]
    }
   ],
   "source": [
    "new_papers = get_new_papers()\n",
    "# add manual references\n",
    "add_paper_refs = []\n",
    "new_papers.extend([get_paper_from_identifier(k) for k in add_paper_refs])\n",
    "\n",
    "candidates = []\n",
    "for paperk in new_papers:\n",
    "    # Check author list with their initials\n",
    "    normed_author_list = [mpia.get_initials(k) for k in paperk['authors']]\n",
    "    hl_authors = highlight_authors_in_list(normed_author_list, mpia_authors, verbose=True)\n",
    "    matches = [(hl, orig) for hl, orig in zip(hl_authors, paperk['authors']) if 'mark' in hl]\n",
    "    paperk['authors'] = hl_authors\n",
    "    if matches:\n",
    "        # only select paper if an author matched our list\n",
    "        candidates.append(paperk)\n",
    "print(\"\"\"Arxiv has {0:,d} new papers today\"\"\".format(len(new_papers)))        \n",
    "print(\"\"\"          {0:,d} with possible author matches\"\"\".format(len(candidates)))"
   ]
  },
  {
   "cell_type": "markdown",
   "id": "3543b34a",
   "metadata": {
    "papermill": {
     "duration": 0.004008,
     "end_time": "2024-06-10T04:10:32.776047",
     "exception": false,
     "start_time": "2024-06-10T04:10:32.772039",
     "status": "completed"
    },
    "tags": []
   },
   "source": [
    "# Parse sources and generate relevant outputs\n",
    "\n",
    "From the candidates, we do the following steps:\n",
    "* get their tarball from ArXiv (and extract data)\n",
    "* find the main .tex file: find one with \\documentclass{...} (sometimes it's non trivial)\n",
    "* Check affiliations with :func:`validation`, which uses :func:`mpia.affiliation_verifications`\n",
    "* If passing the affiliations: we parse the .tex source\n",
    "   * inject sub-documents into the main (flatten the main document)\n",
    "   * parse structure, extract information (title, abstract, authors, figures...)\n",
    "   * handles `\\graphicspath` if provided\n",
    "* Generate the .md document."
   ]
  },
  {
   "cell_type": "code",
   "execution_count": 5,
   "id": "9576b79e",
   "metadata": {
    "execution": {
     "iopub.execute_input": "2024-06-10T04:10:32.783215Z",
     "iopub.status.busy": "2024-06-10T04:10:32.782981Z",
     "iopub.status.idle": "2024-06-10T04:10:52.115905Z",
     "shell.execute_reply": "2024-06-10T04:10:52.115226Z"
    },
    "papermill": {
     "duration": 19.339142,
     "end_time": "2024-06-10T04:10:52.118279",
     "exception": false,
     "start_time": "2024-06-10T04:10:32.779137",
     "status": "completed"
    },
    "scrolled": false,
    "tags": []
   },
   "outputs": [
    {
     "data": {
      "application/vnd.jupyter.widget-view+json": {
       "model_id": "bc0219b656a3422195ac2e9268f5f9ab",
       "version_major": 2,
       "version_minor": 0
      },
      "text/plain": [
       "  0%|          | 0/2 [00:00<?, ?it/s]"
      ]
     },
     "metadata": {},
     "output_type": "display_data"
    },
    {
     "name": "stdout",
     "output_type": "stream",
     "text": [
      "Retrieving document from  https://arxiv.org/e-print/2406.04870\n",
      "extracting tarball to tmp_2406.04870... done.\n"
     ]
    },
    {
     "name": "stdout",
     "output_type": "stream",
     "text": [
      "Found 110 bibliographic references in tmp_2406.04870/main_arxiv_submission_june5.bbl.\n",
      "Retrieving document from  https://arxiv.org/e-print/2406.05118\n"
     ]
    },
    {
     "name": "stderr",
     "output_type": "stream",
     "text": [
      "/opt/hostedtoolcache/Python/3.9.19/x64/lib/python3.9/site-packages/arxiv_on_deck_2/latex_bib.py:132: UserWarning: Error processing bibitem\n",
      " item = \\bibitem[{{Burrows} {et~al.}(1995){Burrows}, {Krist}, {Stapelfeldt},  {WFPC2  Investigation Definition Team}}]{Burrows1995}{Burrows}, C.~J., {Krist}, J.~E., {Stapelfeldt}, K.~R.,  {WFPC2 Investigation  Definition Team}. 1995, in American Astronomical Society Meeting Abstracts,  Vol. 187, American Astronomical Society Meeting Abstracts, 32.05\n",
      " regex = \n",
      "        \\\\bibitem(\\[[^\\[\\]]*?\\]){(?P<bibkey>[a-zA-Z0-9\\-\\+\\.\\S]+?)}(?P<authors>|([\\D]*?))(?P<year>[12][0-9]{3})(?P<rest>.*)\n",
      "        \n",
      "  warnings.warn(str(e))\n"
     ]
    },
    {
     "name": "stdout",
     "output_type": "stream",
     "text": [
      "extracting tarball to tmp_2406.05118..."
     ]
    },
    {
     "name": "stdout",
     "output_type": "stream",
     "text": [
      " done.\n"
     ]
    },
    {
     "name": "stdout",
     "output_type": "stream",
     "text": [
      "S. Belladitta  ->  S. Belladitta  |  ['S. Belladitta']\n"
     ]
    },
    {
     "name": "stderr",
     "output_type": "stream",
     "text": [
      "/opt/hostedtoolcache/Python/3.9.19/x64/lib/python3.9/site-packages/arxiv_on_deck_2/latex.py:132: LatexWarning: attempting recovering figure J2020_emupilot\n",
      "  warnings.warn(LatexWarning(f'attempting recovering figure {image}'))\n",
      "/opt/hostedtoolcache/Python/3.9.19/x64/lib/python3.9/site-packages/arxiv_on_deck_2/latex.py:137: LatexWarning: Recovered figure J2020_emupilot as tmp_2406.05118/./J2020_emupilot.png\n",
      "  warnings.warn(LatexWarning(f'Recovered figure {image} as {fname}'))\n"
     ]
    },
    {
     "name": "stdout",
     "output_type": "stream",
     "text": [
      "Found 192 bibliographic references in tmp_2406.05118/aanda.bbl.\n"
     ]
    },
    {
     "name": "stderr",
     "output_type": "stream",
     "text": [
      "/opt/hostedtoolcache/Python/3.9.19/x64/lib/python3.9/site-packages/arxiv_on_deck_2/latex_bib.py:132: UserWarning: Error processing bibitem\n",
      " item = \\bibitem[{{HI4PI Collaboration} {et~al.}(2016){HI4PI Collaboration}, {Ben Bekhti}, {Fl{ö}er}, {Keller}, {Kerp}, {Lenz}, {Winkel}, {Bailin}, {Calabretta}, {Dedes}, {Ford}, {Gibson}, {Haud}, {Janowiecki}, {Kalberla}, {Lockman}, {McClure-Griffiths}, {Murphy}, {Nakanishi}, {Pisano},  {Staveley-Smith}}]{hi4pi16}{HI4PI Collaboration}, {Ben Bekhti}, N., {Fl{ö}er}, L., {et~al.} 2016, \\aap, 594, A116\n",
      " regex = \n",
      "        \\\\bibitem(\\[[^\\[\\]]*?\\]){(?P<bibkey>[a-zA-Z0-9\\-\\+\\.\\S]+?)}(?P<authors>|([\\D]*?))(?P<year>[12][0-9]{3})(?P<rest>.*)\n",
      "        \n",
      "  warnings.warn(str(e))\n"
     ]
    }
   ],
   "source": [
    "documents = []\n",
    "failed = []\n",
    "for paper in tqdm(candidates):\n",
    "    # debug crap\n",
    "    paper['identifier'] = paper['identifier'].lower().replace('arxiv:', '').replace(r'\\n', '').strip()\n",
    "    paper_id = paper['identifier']\n",
    "    \n",
    "    folder = f'tmp_{paper_id}'\n",
    "\n",
    "    try:\n",
    "        if not os.path.isdir(folder):\n",
    "            folder = retrieve_document_source(f\"{paper_id}\", f'tmp_{paper_id}')\n",
    "        \n",
    "        try:\n",
    "            doc = latex.LatexDocument(folder, validation=validation)    \n",
    "        except AffiliationError as affilerror:\n",
    "            msg = f\"ArXiv:{paper_id:s} is not an MPIA paper... \" + str(affilerror)\n",
    "            failed.append((paper, \"affiliation error: \" + str(affilerror) ))\n",
    "            continue\n",
    "        \n",
    "        # Hack because sometimes author parsing does not work well\n",
    "        if (len(doc.authors) != len(paper['authors'])):\n",
    "            doc._authors = paper['authors']\n",
    "        else:\n",
    "            # highlight authors (FIXME: doc.highlight_authors)\n",
    "            # done on arxiv paper already\n",
    "            doc._authors = highlight_authors_in_list(\n",
    "                [mpia.get_initials(k) for k in doc.authors], \n",
    "                mpia_authors, verbose=True)\n",
    "        if (doc.abstract) in (None, ''):\n",
    "            doc._abstract = paper['abstract']\n",
    "            \n",
    "        doc.comment = (get_markdown_badge(paper_id) + \n",
    "                       \"<mark>Appeared on: \" + paper['date'] + \"</mark> - \")\n",
    "        if paper['comments']:\n",
    "            doc.comment += \" _\" + paper['comments'] + \"_\"\n",
    "        \n",
    "        full_md = doc.generate_markdown_text()\n",
    "        \n",
    "        full_md += get_markdown_qrcode(paper_id)\n",
    "        \n",
    "        # replace citations\n",
    "        try:\n",
    "            bibdata = latex_bib.LatexBib.from_doc(doc)\n",
    "            full_md = latex_bib.replace_citations(full_md, bibdata)\n",
    "        except Exception as e:\n",
    "            print(e)\n",
    "        \n",
    "        documents.append((paper_id, full_md))\n",
    "    except Exception as e:\n",
    "        warnings.warn(latex.LatexWarning(f\"{paper_id:s} did not run properly\\n\" +\n",
    "                                         str(e)\n",
    "                                        ))\n",
    "        failed.append((paper, \"latex error \" + str(e)))"
   ]
  },
  {
   "cell_type": "markdown",
   "id": "2505a25c",
   "metadata": {
    "papermill": {
     "duration": 0.004979,
     "end_time": "2024-06-10T04:10:52.127387",
     "exception": false,
     "start_time": "2024-06-10T04:10:52.122408",
     "status": "completed"
    },
    "tags": []
   },
   "source": [
    "### Export the logs\n",
    "\n",
    "Throughout, we also keep track of the logs per paper. see `logs-{today date}.md` "
   ]
  },
  {
   "cell_type": "code",
   "execution_count": 6,
   "id": "d733828a",
   "metadata": {
    "execution": {
     "iopub.execute_input": "2024-06-10T04:10:52.136275Z",
     "iopub.status.busy": "2024-06-10T04:10:52.135838Z",
     "iopub.status.idle": "2024-06-10T04:10:52.148292Z",
     "shell.execute_reply": "2024-06-10T04:10:52.147757Z"
    },
    "papermill": {
     "duration": 0.01855,
     "end_time": "2024-06-10T04:10:52.149588",
     "exception": false,
     "start_time": "2024-06-10T04:10:52.131038",
     "status": "completed"
    },
    "scrolled": false,
    "tags": []
   },
   "outputs": [
    {
     "data": {
      "text/markdown": [
       "## Successful papers"
      ],
      "text/plain": [
       "<IPython.core.display.Markdown object>"
      ]
     },
     "metadata": {},
     "output_type": "display_data"
    },
    {
     "data": {
      "text/markdown": [
       "\n",
       "|||\n",
       "|---:|:---|\n",
       "| [![arXiv](https://img.shields.io/badge/arXiv-2406.04870-b31b1b.svg)](https://arxiv.org/abs/2406.04870) | **The $\\beta$ Pictoris b Hill sphere transit campaign. Paper II: Searching for the signatures of the $\\beta$ Pictoris exoplanets through time delay analysis of the $\\delta$ Scuti pulsations**  |\n",
       "|| <mark>S. Zieba</mark>, et al. |\n",
       "|*Appeared on*| *2024-06-10*|\n",
       "|*Comments*| *16 pages, 16 figures, 4 tables, accepted for publication in A&A*|\n",
       "|**Abstract**|            The $\\beta$ Pictoris system is the closest known stellar system with directly detected gas giant planets, an edge-on circumstellar disc, and evidence of falling sublimating bodies and transiting exocomets. The inner planet, $\\beta$ Pictoris c, has also been indirectly detected with radial velocity (RV) measurements. The star is a known $\\delta$ Scuti pulsator, and the long-term stability of these pulsations opens up the possibility of indirectly detecting the gas giant planets through time delays of the pulsations due to a varying light travel time. We search for phase shifts in the $\\delta$ Scuti pulsations consistent with the known planets $\\beta$ Pictoris b and c and carry out an analysis of the stellar pulsations of $\\beta$ Pictoris over a multi-year timescale. We used photometric data collected by the BRITE-Constellation, bRing, ASTEP, and TESS to derive a list of the strongest and most significant $\\delta$ Scuti pulsations. We carried out an analysis with the open-source python package maelstrom to study the stability of the pulsation modes of $\\beta$ Pictoris in order to determine the long-term trends in the observed pulsations. We did not detect the expected signal for $\\beta$ Pictoris b or $\\beta$ Pictoris c. The expected time delay is 6 seconds for $\\beta$ Pictoris c and 24 seconds for $\\beta$ Pictoris b. With simulations, we determined that the photometric noise in all the combined data sets cannot reach the sensitivity needed to detect the expected timing drifts. An analysis of the pulsational modes of $\\beta$ Pictoris using maelstrom showed that the modes themselves drift on the timescale of a year, fundamentally limiting our ability to detect exoplanets around $\\beta$ Pictoris via pulsation timing.         |"
      ],
      "text/plain": [
       "[2406.04870] The $\\beta$ Pictoris b Hill sphere transit campaign. Paper II: Searching for the signatures of the $\\beta$ Pictoris exoplanets through time delay analysis of the $\\delta$ Scuti pulsations\n",
       "\t<mark>S. Zieba</mark>, et al."
      ]
     },
     "metadata": {},
     "output_type": "display_data"
    },
    {
     "data": {
      "text/markdown": [
       "\n",
       "|||\n",
       "|---:|:---|\n",
       "| [![arXiv](https://img.shields.io/badge/arXiv-2406.05118-b31b1b.svg)](https://arxiv.org/abs/2406.05118) | **The SRG/eROSITA All-Sky Survey: X-ray beacons at late cosmic dawn**  |\n",
       "|| J. Wolf, et al. -- incl., <mark>S. Belladitta</mark> |\n",
       "|*Appeared on*| *2024-06-10*|\n",
       "|*Comments*| *Submitted to A&A, June 7, 2024*|\n",
       "|**Abstract**|            The SRG/eROSITA All-Sky Survey (eRASS) is expected to contain ~100 quasars that emitted their light when the universe was less than a billion years old, i.e. at z>5.6. By selection, these quasars populate the bright end of the AGN X-ray luminosity function and their count offers a powerful demographic diagnostic of the parent super-massive black hole population. Of the >~ 400 quasars that have been discovered at z>5.6 to date, less than 15 % have been X-ray detected. We present a pilot survey to uncover the elusive X-ray luminous end of the distant quasar population. We have designed a quasar selection pipeline based on optical, infrared and X-ray imaging data from DES DR2, VHS DR5, CatWISE2020 and the eRASS. The core selection method relies on SED template fitting. We performed optical follow-up spectroscopy with the Magellan/LDSS3 instrument for the redshift confirmation of a subset of candidates. We have further obtained a deeper X-ray image of one of our candidates with Chandra ACIS-S. We report the discovery of five new quasars in the redshift range 5.6 < z < 6.1. Two of these quasars are detected in eRASS and are by selection X-ray ultra-luminous. These quasars are also detected at radio frequencies. The first one is a broad absorption line quasar which shows significant X-ray dimming over 3.5 years, i.e. about 6 months in the quasar rest frame. The second radio-detected quasar is a jetted source with compact morphology. We show that a blazar configuration is likely for this source, making it the second most distant blazar known to date. With our pilot study, we demonstrate the power of eROSITA as a discovery machine for luminous quasars in the epoch of reionization. The X-ray emission of the two eROSITA detected quasars are likely to be driven by different high-energetic emission mechanisms a diversity which will be further explored in a future systematic full-hemisphere survey.         |"
      ],
      "text/plain": [
       "[2406.05118] The SRG/eROSITA All-Sky Survey: X-ray beacons at late cosmic dawn\n",
       "\tJ. Wolf, et al. -- incl., <mark>S. Belladitta</mark>"
      ]
     },
     "metadata": {},
     "output_type": "display_data"
    },
    {
     "data": {
      "text/markdown": [
       "## Failed papers"
      ],
      "text/plain": [
       "<IPython.core.display.Markdown object>"
      ]
     },
     "metadata": {},
     "output_type": "display_data"
    }
   ],
   "source": [
    "import datetime\n",
    "today = str(datetime.date.today())\n",
    "logfile = f\"_build/html/logs/log-{today}.md\"\n",
    "\n",
    "\n",
    "with open(logfile, 'w') as logs:\n",
    "    # Success\n",
    "    logs.write(f'# Arxiv on Deck 2: Logs - {today}\\n\\n')\n",
    "    logs.write(\"\"\"* Arxiv had {0:,d} new papers\\n\"\"\".format(len(new_papers)))\n",
    "    logs.write(\"\"\"    * {0:,d} with possible author matches\\n\\n\"\"\".format(len(candidates)))\n",
    "    logs.write(\"## Sucessful papers\\n\\n\")\n",
    "    display(Markdown(\"## Successful papers\"))\n",
    "    success = [k[0] for k in documents]\n",
    "    for candid in candidates:\n",
    "        if candid['identifier'].split(':')[-1] in success:\n",
    "            display(candid)\n",
    "            logs.write(candid.generate_markdown_text() + '\\n\\n')\n",
    "\n",
    "    ## failed\n",
    "    logs.write(\"## Failed papers\\n\\n\")\n",
    "    display(Markdown(\"## Failed papers\"))\n",
    "    failed = sorted(failed, key=lambda x: x[1])\n",
    "    current_reason = \"\"\n",
    "    for paper, reason in failed:\n",
    "        if 'affiliation' in reason:\n",
    "            color = 'green'\n",
    "        else:\n",
    "            color = 'red'\n",
    "        data = Markdown(\n",
    "                paper.generate_markdown_text() + \n",
    "                f'\\n|<p style=\"color:{color:s}\"> **ERROR** </p>| <p style=\"color:{color:s}\">{reason:s}</p> |'\n",
    "               )\n",
    "        if reason != current_reason:\n",
    "            logs.write(f'### {reason:s} \\n\\n')\n",
    "            current_reason = reason\n",
    "        logs.write(data.data + '\\n\\n')\n",
    "        \n",
    "        # only display here the important errors (all in logs)\n",
    "        # if color in ('red',):\n",
    "        display(data)"
   ]
  },
  {
   "cell_type": "markdown",
   "id": "472d20ee",
   "metadata": {
    "papermill": {
     "duration": 0.003962,
     "end_time": "2024-06-10T04:10:52.157632",
     "exception": false,
     "start_time": "2024-06-10T04:10:52.153670",
     "status": "completed"
    },
    "tags": []
   },
   "source": [
    "## Export documents\n",
    "\n",
    "We now write the .md files and export relevant images"
   ]
  },
  {
   "cell_type": "code",
   "execution_count": 7,
   "id": "d426aed9",
   "metadata": {
    "execution": {
     "iopub.execute_input": "2024-06-10T04:10:52.166841Z",
     "iopub.status.busy": "2024-06-10T04:10:52.166446Z",
     "iopub.status.idle": "2024-06-10T04:10:52.172788Z",
     "shell.execute_reply": "2024-06-10T04:10:52.172143Z"
    },
    "papermill": {
     "duration": 0.012494,
     "end_time": "2024-06-10T04:10:52.174170",
     "exception": false,
     "start_time": "2024-06-10T04:10:52.161676",
     "status": "completed"
    },
    "tags": []
   },
   "outputs": [],
   "source": [
    "def export_markdown_summary(md: str, md_fname:str, directory: str):\n",
    "    \"\"\"Export MD document and associated relevant images\"\"\"\n",
    "    import os\n",
    "    import shutil\n",
    "    import re\n",
    "\n",
    "    if (os.path.exists(directory) and not os.path.isdir(directory)):\n",
    "        raise RuntimeError(f\"a non-directory file exists with name {directory:s}\")\n",
    "\n",
    "    if (not os.path.exists(directory)):\n",
    "        print(f\"creating directory {directory:s}\")\n",
    "        os.mkdir(directory)\n",
    "\n",
    "    fig_fnames = (re.compile(r'\\[Fig.*\\]\\((.*)\\)').findall(md) + \n",
    "                  re.compile(r'\\<img src=\"([^>\\s]*)\"[^>]*/>').findall(md))\n",
    "    for fname in fig_fnames:\n",
    "        if 'http' in fname:\n",
    "            # No need to copy online figures\n",
    "            continue\n",
    "        destdir = os.path.join(directory, os.path.dirname(fname))\n",
    "        destfname = os.path.join(destdir, os.path.basename(fname))\n",
    "        try:\n",
    "            os.makedirs(destdir)\n",
    "        except FileExistsError:\n",
    "            pass\n",
    "        shutil.copy(fname, destfname)\n",
    "    with open(os.path.join(directory, md_fname), 'w') as fout:\n",
    "        fout.write(md)\n",
    "    print(\"exported in \", os.path.join(directory, md_fname))\n",
    "    [print(\"    + \" + os.path.join(directory,fk)) for fk in fig_fnames]"
   ]
  },
  {
   "cell_type": "code",
   "execution_count": 8,
   "id": "014d04a4",
   "metadata": {
    "execution": {
     "iopub.execute_input": "2024-06-10T04:10:52.183548Z",
     "iopub.status.busy": "2024-06-10T04:10:52.182981Z",
     "iopub.status.idle": "2024-06-10T04:10:52.190604Z",
     "shell.execute_reply": "2024-06-10T04:10:52.189981Z"
    },
    "papermill": {
     "duration": 0.013661,
     "end_time": "2024-06-10T04:10:52.191929",
     "exception": false,
     "start_time": "2024-06-10T04:10:52.178268",
     "status": "completed"
    },
    "tags": []
   },
   "outputs": [
    {
     "name": "stdout",
     "output_type": "stream",
     "text": [
      "exported in  _build/html/2406.04870.md\n",
      "    + _build/html/tmp_2406.04870/./final_figs/final1.png\n",
      "    + _build/html/tmp_2406.04870/./final_figs/final2.png\n",
      "    + _build/html/tmp_2406.04870/./final_figs/TD_ecc_sim1.png\n",
      "exported in  _build/html/2406.05118.md\n",
      "    + _build/html/tmp_2406.05118/./pflux.png\n",
      "    + _build/html/tmp_2406.05118/./chandra_det.png\n",
      "    + _build/html/tmp_2406.05118/./lxz_simple.png\n",
      "    + _build/html/tmp_2406.05118/./aoxluv_simple.png\n"
     ]
    }
   ],
   "source": [
    "for paper_id, md in documents:\n",
    "    export_markdown_summary(md, f\"{paper_id:s}.md\", '_build/html/')"
   ]
  },
  {
   "cell_type": "markdown",
   "id": "f087a0a7",
   "metadata": {
    "papermill": {
     "duration": 0.004031,
     "end_time": "2024-06-10T04:10:52.200191",
     "exception": false,
     "start_time": "2024-06-10T04:10:52.196160",
     "status": "completed"
    },
    "tags": []
   },
   "source": [
    "## Display the papers\n",
    "\n",
    "Not necessary but allows for a quick check."
   ]
  },
  {
   "cell_type": "code",
   "execution_count": 9,
   "id": "fd25f625",
   "metadata": {
    "execution": {
     "iopub.execute_input": "2024-06-10T04:10:52.209688Z",
     "iopub.status.busy": "2024-06-10T04:10:52.209118Z",
     "iopub.status.idle": "2024-06-10T04:10:52.214973Z",
     "shell.execute_reply": "2024-06-10T04:10:52.214331Z"
    },
    "papermill": {
     "duration": 0.011989,
     "end_time": "2024-06-10T04:10:52.216282",
     "exception": false,
     "start_time": "2024-06-10T04:10:52.204293",
     "status": "completed"
    },
    "scrolled": false,
    "tags": []
   },
   "outputs": [
    {
     "data": {
      "text/markdown": [
       "<div class=\"macros\" style=\"visibility:hidden;\">\n",
       "$\\newcommand{\\ensuremath}{}$\n",
       "$\\newcommand{\\xspace}{}$\n",
       "$\\newcommand{\\object}[1]{\\texttt{#1}}$\n",
       "$\\newcommand{\\farcs}{{.}''}$\n",
       "$\\newcommand{\\farcm}{{.}'}$\n",
       "$\\newcommand{\\arcsec}{''}$\n",
       "$\\newcommand{\\arcmin}{'}$\n",
       "$\\newcommand{\\ion}[2]{#1#2}$\n",
       "$\\newcommand{\\textsc}[1]{\\textrm{#1}}$\n",
       "$\\newcommand{\\hl}[1]{\\textrm{#1}}$\n",
       "$\\newcommand{\\footnote}[1]{}$\n",
       "$\\newcommand{\\arraystretch}{1.35}$\n",
       "$\\newcommand{\\arraystretch}{1.35}$\n",
       "$\\newcommand{\\arraystretch}{1.35}$\n",
       "$\\newcommand{\\arraystretch}{1.35}$\n",
       "$\\newcommand{\\bpic}{\\beta Pictoris}$\n",
       "$\\newcommand{\\bpicb}{\\beta Pictoris b}$\n",
       "$\\newcommand{\\bpicc}{\\beta Pictoris c}$\n",
       "$\\newcommand{\\dsct}{\\delta~Scuti }$\n",
       "$\\newcommand{\\gdor}{\\gamma~Doradus }$\n",
       "$\\newcommand{\\Msun}{M_{\\odot}}$\n",
       "$\\newcommand{\\MJ}{M_{J}}$\n",
       "$\\newcommand{\\RJ}{R_{J}}$\n",
       "$\\newcommand{\\Lsun}{L_{\\odot}}$\n",
       "$\\newcommand{\\Rsun}{R_{\\odot}}$\n",
       "$\\newcommand{\\Msun}{M_{\\odot}}$\n",
       "$\\newcommand{\\Teff}{\\ensuremath{T_{\\mathrm{eff}}}}$\n",
       "$\\newcommand{\\cd}{ d^{\\rm -1}}$\n",
       "$\\newcommand{\\logg}{\\ensuremath{\\log g}}$\n",
       "$\\newcommand{\\kms}{\\mathrm{km s}^{-1}}$</div>\n",
       "\n",
       "\n",
       "\n",
       "<div id=\"title\">\n",
       "\n",
       "# The $\\beta$ Pictoris b Hill sphere transit campaign\n",
       "\n",
       "</div>\n",
       "<div id=\"comments\">\n",
       "\n",
       "[![arXiv](https://img.shields.io/badge/arXiv-2406.04870-b31b1b.svg)](https://arxiv.org/abs/2406.04870)<mark>Appeared on: 2024-06-10</mark> -  _16 pages, 16 figures, 4 tables, accepted for publication in A&A_\n",
       "\n",
       "</div>\n",
       "<div id=\"authors\">\n",
       "\n",
       "<mark>S. Zieba</mark>, et al.\n",
       "\n",
       "</div>\n",
       "<div id=\"abstract\">\n",
       "\n",
       "**Abstract:** The $\\bpic$ system is the closest known stellar system with directly detected gas giant planets, an edge-on circumstellar disc, and evidence of falling sublimating bodies and transiting exocomets.   The inner planet, $\\bpicc$ , has also been indirectly detected with radial velocity (RV) measurements.   The star is a known $\\dsct$ pulsator, and the long-term stability of these pulsations opens up the possibility of indirectly detecting the gas giant planets through time delays of the pulsations due to a varying light travel time.    We search for phase shifts in the $\\dsct$ pulsations consistent with the known planets $\\bpicb$ and c and carry out an analysis of the stellar pulsations of $\\beta$ Pictoris over a multi-year timescale.   We used photometric data collected by the BRITE-Constellation, bRing, ASTEP, and TESS to derive a list of the strongest and most significant $\\dsct$ pulsations.   We carried out an analysis with the open-source python package \\texttt{maelstrom} to study the stability of the pulsation modes of $\\beta$ Pictoris in order to determine the long-term trends in the observed pulsations.   We did not detect the expected signal for $\\bpicb$ or $\\bpicc$ .   The expected time delay is 6 seconds for $\\bpicc$ and 24 seconds for $\\bpicb$ .    With simulations, we determined that the photometric noise in all the combined data sets cannot reach the sensitivity needed to detect the expected timing drifts.    An analysis of the pulsational modes of $\\beta$ Pictoris using \\texttt{maelstrom} showed that the modes themselves drift on the timescale of a year, fundamentally limiting our ability to detect exoplanets around $\\beta$ Pictoris via pulsation timing.\n",
       "\n",
       "</div>\n",
       "\n",
       "<div id=\"div_fig1\">\n",
       "\n",
       "<img src=\"tmp_2406.04870/./final_figs/final1.png\" alt=\"Fig11\" width=\"100%\"/>\n",
       "\n",
       "**Figure 11. -** Time delay plot calculated from the phases of four different frequencies for all available observations by BRITE, bRing, ASTEP and TESS. Each color represents a frequency (f1, f2, f3, and f4) listed in Table \\ref{tab:freqs}.\n",
       "The blue lines indicate time delay predictions for $\\bpic$b(dashed line), c (dashed, dotted line), and both planets (solid line).\n",
       "The lower panel is a zoom-in of the upper panel.\n",
       "The uncertainties in the time delays were derived from the covariance matrices given by the least-squares procedure, which was used in order to calculate the phases of the respective frequencies.\n",
       "The ticks at the top of the plot denote the various observatories: B15, B16, and B17 for the BRITE observations in the years 2015, 2016, and 2017, respectively; A17 and A18 for the ASTEP observations in 2017 and 2018; and R1 and R2 for the first and second part of the bRing data. (*fig:finall*)\n",
       "\n",
       "</div>\n",
       "<div id=\"div_fig2\">\n",
       "\n",
       "<img src=\"tmp_2406.04870/./final_figs/final2.png\" alt=\"Fig12\" width=\"100%\"/>\n",
       "\n",
       "**Figure 12. -** Time delay plot for the simulated data set showing a high similarity to the time delays of the real data set presented in Figure \\ref{fig:final2}.\n",
       "The colored points represent the simulated time delays for the four strongest pulsational frequencies.\n",
       "The blue lines indicate time delay predictions for $\\bpic$b(dashed line), c (dashed-dotted line), and both planets (solid line).\n",
       "The lower panel is a zoom-in of the upper panel.\n",
       "A description of the ticks at the top of the plot can be found in the caption of Figure \\ref{fig:finall}. (*fig:final2*)\n",
       "\n",
       "</div>\n",
       "<div id=\"div_fig3\">\n",
       "\n",
       "<img src=\"tmp_2406.04870/./final_figs/TD_ecc_sim1.png\" alt=\"Fig3\" width=\"100%\"/>\n",
       "\n",
       "**Figure 3. -** Simulation of a companion in a circular (\\(e = 0\\); left column) and eccentric (\\(e = 0.9\\); right column) orbit as if observed by the Kepler Space Telescope.\n",
       "The following parameters were used: \\(P = 1\\) year, $\\varpi = 0$, \\(M_\\text{pulsating} = 1.8 \\)$\\Msun$ , and \\(M_\\text{companion} = 0.1 \\)$\\Msun$.\n",
       "This led to a semi-amplitude of around 34 seconds in the circular case (using Equation \\ref{eq:TD_period}) and around 15 seconds in the eccentric case (using Equation \\ref{eq:TD_eccentric}). _Upper panel:_ Simulated time delay plot.\n",
       "_Lower panel:_ Fourier transformation of the time delays.\n",
       "One can clearly see the relative increase of the first harmonic at two cycles/year for the eccentric case. (*fig:TDsim*)\n",
       "\n",
       "</div><div id=\"qrcode\"><img src=https://api.qrserver.com/v1/create-qr-code/?size=100x100&data=\"https://arxiv.org/abs/2406.04870\"></div>"
      ],
      "text/plain": [
       "<IPython.core.display.Markdown object>"
      ]
     },
     "metadata": {},
     "output_type": "display_data"
    },
    {
     "data": {
      "text/markdown": [
       "<div class=\"macros\" style=\"visibility:hidden;\">\n",
       "$\\newcommand{\\ensuremath}{}$\n",
       "$\\newcommand{\\xspace}{}$\n",
       "$\\newcommand{\\object}[1]{\\texttt{#1}}$\n",
       "$\\newcommand{\\farcs}{{.}''}$\n",
       "$\\newcommand{\\farcm}{{.}'}$\n",
       "$\\newcommand{\\arcsec}{''}$\n",
       "$\\newcommand{\\arcmin}{'}$\n",
       "$\\newcommand{\\ion}[2]{#1#2}$\n",
       "$\\newcommand{\\textsc}[1]{\\textrm{#1}}$\n",
       "$\\newcommand{\\hl}[1]{\\textrm{#1}}$\n",
       "$\\newcommand{\\footnote}[1]{}$\n",
       "$\\newcommand{\\mockalph}[1]$</div>\n",
       "\n",
       "\n",
       "\n",
       "<div id=\"title\">\n",
       "\n",
       "# The SRG/eROSITA All-Sky Survey: \\  X-ray beacons at late cosmic dawn\n",
       "\n",
       "</div>\n",
       "<div id=\"comments\">\n",
       "\n",
       "[![arXiv](https://img.shields.io/badge/arXiv-2406.05118-b31b1b.svg)](https://arxiv.org/abs/2406.05118)<mark>Appeared on: 2024-06-10</mark> -  _Submitted to A&A, June 7, 2024_\n",
       "\n",
       "</div>\n",
       "<div id=\"authors\">\n",
       "\n",
       "J. Wolf, et al. -- incl., <mark>S. Belladitta</mark>\n",
       "\n",
       "</div>\n",
       "<div id=\"abstract\">\n",
       "\n",
       "**Abstract:** The Spectrum Roentgen Gamma (SRG)/eROSITA All-Sky Survey (eRASS) is expected to contain $\\sim100$ quasars that emitted their light when the universe was less than a billion years old, i.e. at $z>5.6$ . By selection, these quasars populate the bright end of the AGN X-ray luminosity function and their count offers a powerful demographic diagnostic of the parent super-massive black hole population. Of the $\\gtrapprox 400$ quasars that have been discovered at $z>5.6$ to date, less than 15 \\% have been X-ray detected. We present a pilot survey to uncover the elusive X-ray luminous end of the distant quasar population. We have designed a quasar selection pipeline based on optical, infrared and X-ray imaging data from DES DR2, VHS DR5, CatWISE2020 and the eRASS (up to eRASS:4).   The core selection method relies on SED template fitting. We performed optical follow-up spectroscopy with the Magellan/LDSS3 instrument for the redshift confirmation of a subset of candidates. We have further obtained a deeper X-ray image of one of our candidates with Chandra ACIS-S. We report the discovery of five new quasars in the redshift range $5.6 < z < 6.1$ . Two of these quasars are detected in eRASS and are by selection X-ray ultra-luminous. These quasars are also detected at radio frequencies. The first one is a broad absorption line quasar which shows significant, order-of-magnitude X-ray dimming over 3.5 years, i.e. about 6 months in the quasar rest frame. The second radio-detected quasar is a jetted source with compact morphology. We show that a blazar configuration is likely for this source, making it the second most distant blazar known to date. With our pilot study, we demonstrate the power of eROSITA as a discovery machine for luminous quasars in the epoch of reionization. The X-ray emission of the two eROSITA detected quasars are likely to be driven by different high-energetic emission mechanisms a diversity which will be further explored in a future systematic full-hemisphere survey.\n",
       "\n",
       "</div>\n",
       "\n",
       "<div id=\"div_fig1\">\n",
       "\n",
       "<img src=\"tmp_2406.05118/./pflux.png\" alt=\"Fig5\" width=\"100%\"/>\n",
       "\n",
       "**Figure 5. -** _Upper panel_: The cumulative distribution of expected random (unrelated) X-ray detections from forced photometry using a circular aperture of radius 30\" around 1604 optical quasar candidate positions with. The black curve is the estimate obtained from Eq. 2. for a single eRASS survey. The black dashed curve shows an empirical estimate of the same number based on a random sample of positions in the surveyed field. The brown curve shows the number of expected contaminants obtained from a random sample in eRASS:4. Blue vertical lines indicate the $P_B$ values of the best detection of quasars discovered in this work in any eRASS and in eRASS:4 (if available). _Lower panel_: Fraction of background sources $f_{\\rm bkg}$ expected to be detected in eRASS1 from a simulation by  [Seppi, Comparat and Bulbul (2022)](). (*fig:spurious*)\n",
       "\n",
       "</div>\n",
       "<div id=\"div_fig2\">\n",
       "\n",
       "<img src=\"tmp_2406.05118/./chandra_det.png\" alt=\"Fig12\" width=\"100%\"/>\n",
       "\n",
       "**Figure 12. -** All images are centered on the optical position of the new quasar J202040-621509 and have sizes 100' x100\". _Left panel_: Broadband (0.5-7 keV) Chandra image. Chandra sources detected with 30\" (black, dashed circle) of the quasar coordinates with \\texttt{wavdetect} are marked in red. The centroid of 1eRASS J202039.8-621525 catalogue detection is marked by a green triangle. The contours were obtained from the smoothed eRASS:4 0.5 - 7 keV image. _Central panel:_ DES DR2 z-band image.Circular colored markers denote counterpart candidates for 1eRASS J202039.8-621525 from the DESI Legacy Survey catalogue. They are colour-coded according to their relative probability \\texttt{p\\_i} of being the best counterpart. The DESI Legacy Survey source with the highest \\texttt{p\\_i} is spatially co-incident with the quasar coordinates. _Right panel:_  CatWISE 2020 W1 image. Among the Chandra and eROSITA X-ray detections, only the quasar is clearly detected.  (*fig:bbchandra*)\n",
       "\n",
       "</div>\n",
       "<div id=\"div_fig3\">\n",
       "\n",
       "<img src=\"tmp_2406.05118/./lxz_simple.png\" alt=\"Fig11.1\" width=\"50%\"/><img src=\"tmp_2406.05118/./aoxluv_simple.png\" alt=\"Fig11.2\" width=\"50%\"/>\n",
       "\n",
       "**Figure 11. -** _Left panel_: X-ray luminosity redshift distribution of X-ray luminous quasars from literature \\citep[][respectively as red diamonds, blue circles and green, yellow and brown squares]{nanni17,vito19,pons20,wolf21,wolf22} and the two newly discovered quasars (displayed as pink stars). The colour gradient shows the sensitivity to a fiducial absorbed power-law with Galactic absorption of the final cumulative eRASS in the equatorial region (in fractional of sensitive area). The quasars discovered in this work lie at the luminous end of the quasar population in the early universe. We show the luminosity derived from the Chandra follow-up observation of J202040-621509. Between the eRASS1 and the Chandra observation, its luminosity has decreased by an order of magnitude. _Right panel_:  $\\alpha_{OX}$-L2500 distribution of the same sample of sources. The 1$\\sigma$ confidence interval of relation derived by [Nanni, et. al (2017)]() is shown by red dotted line.  The hexagonal pattern shows a lower redshift AGN sample by [ and Lusso (2016)](). The three quasars X-ray detected, newly discovered, are over-luminous in the X-ray wavebands. Following its dimming observed in the recent Chandra observation, J202040-621509 is perfectly consistent $\\alpha_{OX}$-L2500 relation.  (*fig:lxaox*)\n",
       "\n",
       "</div><div id=\"qrcode\"><img src=https://api.qrserver.com/v1/create-qr-code/?size=100x100&data=\"https://arxiv.org/abs/2406.05118\"></div>"
      ],
      "text/plain": [
       "<IPython.core.display.Markdown object>"
      ]
     },
     "metadata": {},
     "output_type": "display_data"
    }
   ],
   "source": [
    "[display(Markdown(k[1])) for k in documents];"
   ]
  },
  {
   "cell_type": "markdown",
   "id": "873873a4",
   "metadata": {
    "papermill": {
     "duration": 0.004451,
     "end_time": "2024-06-10T04:10:52.225265",
     "exception": false,
     "start_time": "2024-06-10T04:10:52.220814",
     "status": "completed"
    },
    "tags": []
   },
   "source": [
    "# Create HTML index"
   ]
  },
  {
   "cell_type": "code",
   "execution_count": 10,
   "id": "cf665672",
   "metadata": {
    "execution": {
     "iopub.execute_input": "2024-06-10T04:10:52.235484Z",
     "iopub.status.busy": "2024-06-10T04:10:52.235145Z",
     "iopub.status.idle": "2024-06-10T04:10:52.241858Z",
     "shell.execute_reply": "2024-06-10T04:10:52.241214Z"
    },
    "papermill": {
     "duration": 0.013428,
     "end_time": "2024-06-10T04:10:52.243261",
     "exception": false,
     "start_time": "2024-06-10T04:10:52.229833",
     "status": "completed"
    },
    "tags": []
   },
   "outputs": [
    {
     "name": "stdout",
     "output_type": "stream",
     "text": [
      "89  publications files modified in the last 7 days.\n"
     ]
    }
   ],
   "source": [
    "from datetime import datetime, timedelta, timezone\n",
    "from glob import glob\n",
    "import os\n",
    "\n",
    "files = glob('_build/html/*.md')\n",
    "days = 7\n",
    "now = datetime.today()\n",
    "res = []\n",
    "for fk in files:\n",
    "    stat_result = os.stat(fk).st_ctime\n",
    "    modified = datetime.fromtimestamp(stat_result, tz=timezone.utc).replace(tzinfo=None)\n",
    "    delta = now.today() - modified\n",
    "    if delta <= timedelta(days=days):\n",
    "        res.append((delta.seconds, fk))\n",
    "res = [k[1] for k in reversed(sorted(res, key=lambda x:x[1]))]\n",
    "npub = len(res)\n",
    "print(len(res), f\" publications files modified in the last {days:d} days.\")\n",
    "# [ print('\\t', k) for k in res ];"
   ]
  },
  {
   "cell_type": "code",
   "execution_count": 11,
   "id": "015de740",
   "metadata": {
    "execution": {
     "iopub.execute_input": "2024-06-10T04:10:52.253591Z",
     "iopub.status.busy": "2024-06-10T04:10:52.253183Z",
     "iopub.status.idle": "2024-06-10T04:10:52.263763Z",
     "shell.execute_reply": "2024-06-10T04:10:52.263261Z"
    },
    "papermill": {
     "duration": 0.017144,
     "end_time": "2024-06-10T04:10:52.265032",
     "exception": false,
     "start_time": "2024-06-10T04:10:52.247888",
     "status": "completed"
    },
    "tags": []
   },
   "outputs": [
    {
     "name": "stdout",
     "output_type": "stream",
     "text": [
      "8  publications in the last 7 days.\n"
     ]
    }
   ],
   "source": [
    "import datetime\n",
    "from glob import glob\n",
    "\n",
    "def get_last_n_days(lst, days=1):\n",
    "    \"\"\" Get the documents from the last n days \"\"\"\n",
    "    sorted_lst = sorted(lst, key=lambda x: x[1], reverse=True)\n",
    "    for fname, date in sorted_lst:\n",
    "        if date >= str(datetime.date.today() - datetime.timedelta(days=days)):\n",
    "            yield fname\n",
    "\n",
    "def extract_appearance_dates(lst_file):\n",
    "    dates = []\n",
    "\n",
    "    def get_date(line):\n",
    "        return line\\\n",
    "            .split('Appeared on:')[-1]\\\n",
    "            .split('</mark>')[0].strip()\n",
    "\n",
    "    for fname in lst:\n",
    "        with open(fname, 'r') as f:\n",
    "            found_date = False\n",
    "            for line in f:\n",
    "                if not found_date:\n",
    "                    if \"Appeared on\" in line:\n",
    "                        found_date = True\n",
    "                        dates.append((fname, get_date(line)))\n",
    "                else:\n",
    "                    break\n",
    "    return dates\n",
    "\n",
    "from glob import glob\n",
    "lst = glob('_build/html/*md')\n",
    "days = 7\n",
    "dates = extract_appearance_dates(lst)\n",
    "res = list(get_last_n_days(dates, days))\n",
    "npub = len(res)\n",
    "print(len(res), f\" publications in the last {days:d} days.\")"
   ]
  },
  {
   "cell_type": "code",
   "execution_count": 12,
   "id": "52ca0208",
   "metadata": {
    "execution": {
     "iopub.execute_input": "2024-06-10T04:10:52.275511Z",
     "iopub.status.busy": "2024-06-10T04:10:52.275137Z",
     "iopub.status.idle": "2024-06-10T04:10:52.279994Z",
     "shell.execute_reply": "2024-06-10T04:10:52.279408Z"
    },
    "papermill": {
     "duration": 0.011465,
     "end_time": "2024-06-10T04:10:52.281312",
     "exception": false,
     "start_time": "2024-06-10T04:10:52.269847",
     "status": "completed"
    },
    "scrolled": false,
    "tags": []
   },
   "outputs": [],
   "source": [
    "def create_carousel(npub=4):\n",
    "    \"\"\" Generate the HTML code for a carousel with `npub` slides \"\"\"\n",
    "    carousel = [\"\"\"  <div class=\"carousel\" \"\"\",\n",
    "                \"\"\"       data-flickity='{ \"autoPlay\": 10000, \"adaptiveHeight\": true, \"resize\": true, \"wrapAround\": true, \"pauseAutoPlayOnHover\": true, \"groupCells\": 1 }' id=\"asyncTypeset\">\"\"\"\n",
    "                ]\n",
    "    \n",
    "    item_str = \"\"\"    <div class=\"carousel-cell\"> <div id=\"slide{k}\" class=\"md_view\">Content {k}</div> </div>\"\"\"\n",
    "    for k in range(1, npub + 1):\n",
    "        carousel.append(item_str.format(k=k))\n",
    "    carousel.append(\"  </div>\")\n",
    "    return '\\n'.join(carousel)\n",
    "\n",
    "def create_grid(npub=4):\n",
    "    \"\"\" Generate the HTML code for a flat grid with `npub` slides \"\"\"\n",
    "    grid = [\"\"\"  <div class=\"grid\"> \"\"\",\n",
    "                ]\n",
    "    \n",
    "    item_str = \"\"\"    <div class=\"grid-item\"> <div id=\"slide{k}\" class=\"md_view\">Content {k}</div> </div>\"\"\"\n",
    "    for k in range(1, npub + 1):\n",
    "        grid.append(item_str.format(k=k))\n",
    "    grid.append(\"  </div>\")\n",
    "    return '\\n'.join(grid)"
   ]
  },
  {
   "cell_type": "code",
   "execution_count": 13,
   "id": "a6eac5b6",
   "metadata": {
    "execution": {
     "iopub.execute_input": "2024-06-10T04:10:52.292053Z",
     "iopub.status.busy": "2024-06-10T04:10:52.291593Z",
     "iopub.status.idle": "2024-06-10T04:10:52.296616Z",
     "shell.execute_reply": "2024-06-10T04:10:52.296003Z"
    },
    "papermill": {
     "duration": 0.011871,
     "end_time": "2024-06-10T04:10:52.297945",
     "exception": false,
     "start_time": "2024-06-10T04:10:52.286074",
     "status": "completed"
    },
    "scrolled": false,
    "tags": []
   },
   "outputs": [],
   "source": [
    "carousel = create_carousel(npub)\n",
    "docs = ', '.join(['\"{0:s}\"'.format(k.split('/')[-1]) for k in res])\n",
    "slides = ', '.join([f'\"slide{k}\"' for k in range(1, npub + 1)])\n",
    "\n",
    "with open(\"daily_template.html\", \"r\") as tpl:\n",
    "    page = tpl.read()\n",
    "    page = page.replace(\"{%-- carousel:s --%}\", carousel)\\\n",
    "               .replace(\"{%-- suptitle:s --%}\",  \"7-day archives\" )\\\n",
    "               .replace(\"{%-- docs:s --%}\", docs)\\\n",
    "               .replace(\"{%-- slides:s --%}\", slides)\n",
    "    \n",
    "with open(\"_build/html/index_7days.html\", 'w') as fout:\n",
    "    fout.write(page)"
   ]
  },
  {
   "cell_type": "code",
   "execution_count": 14,
   "id": "adc1a1ec",
   "metadata": {
    "execution": {
     "iopub.execute_input": "2024-06-10T04:10:52.308478Z",
     "iopub.status.busy": "2024-06-10T04:10:52.308045Z",
     "iopub.status.idle": "2024-06-10T04:10:52.314109Z",
     "shell.execute_reply": "2024-06-10T04:10:52.313534Z"
    },
    "papermill": {
     "duration": 0.012619,
     "end_time": "2024-06-10T04:10:52.315342",
     "exception": false,
     "start_time": "2024-06-10T04:10:52.302723",
     "status": "completed"
    },
    "tags": []
   },
   "outputs": [
    {
     "name": "stdout",
     "output_type": "stream",
     "text": [
      "2  publications in the last day.\n"
     ]
    }
   ],
   "source": [
    "# redo for today\n",
    "days = 1\n",
    "res = list(get_last_n_days(dates, days))\n",
    "npub = len(res)\n",
    "print(len(res), f\" publications in the last day.\")\n",
    "\n",
    "carousel = create_carousel(npub)\n",
    "docs = ', '.join(['\"{0:s}\"'.format(k.split('/')[-1]) for k in res])\n",
    "slides = ', '.join([f'\"slide{k}\"' for k in range(1, npub + 1)])\n",
    "\n",
    "with open(\"daily_template.html\", \"r\") as tpl:\n",
    "    page = tpl.read()\n",
    "    page = page.replace(\"{%-- carousel:s --%}\", carousel)\\\n",
    "               .replace(\"{%-- suptitle:s --%}\",  \"Daily\" )\\\n",
    "               .replace(\"{%-- docs:s --%}\", docs)\\\n",
    "               .replace(\"{%-- slides:s --%}\", slides)\n",
    "    \n",
    "# print(carousel, docs, slides)\n",
    "# print(page)\n",
    "with open(\"_build/html/index_daily.html\", 'w') as fout:\n",
    "    fout.write(page)"
   ]
  },
  {
   "cell_type": "code",
   "execution_count": 15,
   "id": "00eece82",
   "metadata": {
    "execution": {
     "iopub.execute_input": "2024-06-10T04:10:52.326019Z",
     "iopub.status.busy": "2024-06-10T04:10:52.325548Z",
     "iopub.status.idle": "2024-06-10T04:10:52.332043Z",
     "shell.execute_reply": "2024-06-10T04:10:52.331504Z"
    },
    "papermill": {
     "duration": 0.013159,
     "end_time": "2024-06-10T04:10:52.333306",
     "exception": false,
     "start_time": "2024-06-10T04:10:52.320147",
     "status": "completed"
    },
    "scrolled": false,
    "tags": []
   },
   "outputs": [
    {
     "name": "stdout",
     "output_type": "stream",
     "text": [
      "6  6 publications selected.\n"
     ]
    }
   ],
   "source": [
    "# Create the flat grid of the last N papers (fixed number regardless of dates)\n",
    "from itertools import islice \n",
    "\n",
    "npub = 6\n",
    "res = [k[0] for k in (islice(reversed(sorted(dates, key=lambda x: x[1])), 6))]\n",
    "print(len(res), f\" {npub} publications selected.\")\n",
    "\n",
    "grid = create_grid(npub)\n",
    "docs = ', '.join(['\"{0:s}\"'.format(k.split('/')[-1]) for k in res])\n",
    "slides = ', '.join([f'\"slide{k}\"' for k in range(1, npub + 1)])\n",
    "\n",
    "with open(\"grid_template.html\", \"r\") as tpl:\n",
    "    page = tpl.read()\n",
    "    page = page.replace(\"{%-- grid-content:s --%}\", grid)\\\n",
    "               .replace(\"{%-- suptitle:s --%}\",  f\"Last {npub:,d} papers\" )\\\n",
    "               .replace(\"{%-- docs:s --%}\", docs)\\\n",
    "               .replace(\"{%-- slides:s --%}\", slides)\n",
    "    \n",
    "# print(grid, docs, slides)\n",
    "# print(page)\n",
    "with open(\"_build/html/index_npub_grid.html\", 'w') as fout:\n",
    "    fout.write(page)"
   ]
  }
 ],
 "metadata": {
  "kernelspec": {
   "display_name": "Python 3 (ipykernel)",
   "language": "python",
   "name": "python3"
  },
  "language_info": {
   "codemirror_mode": {
    "name": "ipython",
    "version": 3
   },
   "file_extension": ".py",
   "mimetype": "text/x-python",
   "name": "python",
   "nbconvert_exporter": "python",
   "pygments_lexer": "ipython3",
   "version": "3.9.19"
  },
  "papermill": {
   "default_parameters": {},
   "duration": 38.184401,
   "end_time": "2024-06-10T04:10:52.555007",
   "environment_variables": {},
   "exception": null,
   "input_path": "MPIA daily digest.ipynb",
   "output_path": "log.ipynb",
   "parameters": {},
   "start_time": "2024-06-10T04:10:14.370606",
   "version": "2.6.0"
  },
  "vscode": {
   "interpreter": {
    "hash": "aee8b7b246df8f9039afb4144a1f6fd8d2ca17a180786b69acc140d282b71a49"
   }
  },
  "widgets": {
   "application/vnd.jupyter.widget-state+json": {
    "state": {
     "11f2dc1e375f43a69e4568de97a5e5b0": {
      "model_module": "@jupyter-widgets/controls",
      "model_module_version": "2.0.0",
      "model_name": "ProgressStyleModel",
      "state": {
       "_model_module": "@jupyter-widgets/controls",
       "_model_module_version": "2.0.0",
       "_model_name": "ProgressStyleModel",
       "_view_count": null,
       "_view_module": "@jupyter-widgets/base",
       "_view_module_version": "2.0.0",
       "_view_name": "StyleView",
       "bar_color": null,
       "description_width": ""
      }
     },
     "259e2e5dab334608899c783c2a0fdc6d": {
      "model_module": "@jupyter-widgets/controls",
      "model_module_version": "2.0.0",
      "model_name": "HTMLModel",
      "state": {
       "_dom_classes": [],
       "_model_module": "@jupyter-widgets/controls",
       "_model_module_version": "2.0.0",
       "_model_name": "HTMLModel",
       "_view_count": null,
       "_view_module": "@jupyter-widgets/controls",
       "_view_module_version": "2.0.0",
       "_view_name": "HTMLView",
       "description": "",
       "description_allow_html": false,
       "layout": "IPY_MODEL_e16a28a825e04d01bf015011e872419e",
       "placeholder": "​",
       "style": "IPY_MODEL_2b11f46930ed44bc88e53a08bfc96ef3",
       "tabbable": null,
       "tooltip": null,
       "value": " 2/2 [00:19&lt;00:00,  8.85s/it]"
      }
     },
     "2b11f46930ed44bc88e53a08bfc96ef3": {
      "model_module": "@jupyter-widgets/controls",
      "model_module_version": "2.0.0",
      "model_name": "HTMLStyleModel",
      "state": {
       "_model_module": "@jupyter-widgets/controls",
       "_model_module_version": "2.0.0",
       "_model_name": "HTMLStyleModel",
       "_view_count": null,
       "_view_module": "@jupyter-widgets/base",
       "_view_module_version": "2.0.0",
       "_view_name": "StyleView",
       "background": null,
       "description_width": "",
       "font_size": null,
       "text_color": null
      }
     },
     "7e1565b783474936a453fb7c9833d24d": {
      "model_module": "@jupyter-widgets/controls",
      "model_module_version": "2.0.0",
      "model_name": "FloatProgressModel",
      "state": {
       "_dom_classes": [],
       "_model_module": "@jupyter-widgets/controls",
       "_model_module_version": "2.0.0",
       "_model_name": "FloatProgressModel",
       "_view_count": null,
       "_view_module": "@jupyter-widgets/controls",
       "_view_module_version": "2.0.0",
       "_view_name": "ProgressView",
       "bar_style": "success",
       "description": "",
       "description_allow_html": false,
       "layout": "IPY_MODEL_fea23d7c7e9e459f91caabd65a08db78",
       "max": 2.0,
       "min": 0.0,
       "orientation": "horizontal",
       "style": "IPY_MODEL_11f2dc1e375f43a69e4568de97a5e5b0",
       "tabbable": null,
       "tooltip": null,
       "value": 2.0
      }
     },
     "7e75abc682804ef0a37410fe68bfa7e1": {
      "model_module": "@jupyter-widgets/controls",
      "model_module_version": "2.0.0",
      "model_name": "HTMLModel",
      "state": {
       "_dom_classes": [],
       "_model_module": "@jupyter-widgets/controls",
       "_model_module_version": "2.0.0",
       "_model_name": "HTMLModel",
       "_view_count": null,
       "_view_module": "@jupyter-widgets/controls",
       "_view_module_version": "2.0.0",
       "_view_name": "HTMLView",
       "description": "",
       "description_allow_html": false,
       "layout": "IPY_MODEL_a32d7c5236d34c84b5c6edfdff28691b",
       "placeholder": "​",
       "style": "IPY_MODEL_8218d0b27eec4c898508a1aeede9aa8e",
       "tabbable": null,
       "tooltip": null,
       "value": "100%"
      }
     },
     "8218d0b27eec4c898508a1aeede9aa8e": {
      "model_module": "@jupyter-widgets/controls",
      "model_module_version": "2.0.0",
      "model_name": "HTMLStyleModel",
      "state": {
       "_model_module": "@jupyter-widgets/controls",
       "_model_module_version": "2.0.0",
       "_model_name": "HTMLStyleModel",
       "_view_count": null,
       "_view_module": "@jupyter-widgets/base",
       "_view_module_version": "2.0.0",
       "_view_name": "StyleView",
       "background": null,
       "description_width": "",
       "font_size": null,
       "text_color": null
      }
     },
     "900d8768aa9245a997bc6d7031e7294c": {
      "model_module": "@jupyter-widgets/base",
      "model_module_version": "2.0.0",
      "model_name": "LayoutModel",
      "state": {
       "_model_module": "@jupyter-widgets/base",
       "_model_module_version": "2.0.0",
       "_model_name": "LayoutModel",
       "_view_count": null,
       "_view_module": "@jupyter-widgets/base",
       "_view_module_version": "2.0.0",
       "_view_name": "LayoutView",
       "align_content": null,
       "align_items": null,
       "align_self": null,
       "border_bottom": null,
       "border_left": null,
       "border_right": null,
       "border_top": null,
       "bottom": null,
       "display": null,
       "flex": null,
       "flex_flow": null,
       "grid_area": null,
       "grid_auto_columns": null,
       "grid_auto_flow": null,
       "grid_auto_rows": null,
       "grid_column": null,
       "grid_gap": null,
       "grid_row": null,
       "grid_template_areas": null,
       "grid_template_columns": null,
       "grid_template_rows": null,
       "height": null,
       "justify_content": null,
       "justify_items": null,
       "left": null,
       "margin": null,
       "max_height": null,
       "max_width": null,
       "min_height": null,
       "min_width": null,
       "object_fit": null,
       "object_position": null,
       "order": null,
       "overflow": null,
       "padding": null,
       "right": null,
       "top": null,
       "visibility": null,
       "width": null
      }
     },
     "a32d7c5236d34c84b5c6edfdff28691b": {
      "model_module": "@jupyter-widgets/base",
      "model_module_version": "2.0.0",
      "model_name": "LayoutModel",
      "state": {
       "_model_module": "@jupyter-widgets/base",
       "_model_module_version": "2.0.0",
       "_model_name": "LayoutModel",
       "_view_count": null,
       "_view_module": "@jupyter-widgets/base",
       "_view_module_version": "2.0.0",
       "_view_name": "LayoutView",
       "align_content": null,
       "align_items": null,
       "align_self": null,
       "border_bottom": null,
       "border_left": null,
       "border_right": null,
       "border_top": null,
       "bottom": null,
       "display": null,
       "flex": null,
       "flex_flow": null,
       "grid_area": null,
       "grid_auto_columns": null,
       "grid_auto_flow": null,
       "grid_auto_rows": null,
       "grid_column": null,
       "grid_gap": null,
       "grid_row": null,
       "grid_template_areas": null,
       "grid_template_columns": null,
       "grid_template_rows": null,
       "height": null,
       "justify_content": null,
       "justify_items": null,
       "left": null,
       "margin": null,
       "max_height": null,
       "max_width": null,
       "min_height": null,
       "min_width": null,
       "object_fit": null,
       "object_position": null,
       "order": null,
       "overflow": null,
       "padding": null,
       "right": null,
       "top": null,
       "visibility": null,
       "width": null
      }
     },
     "bc0219b656a3422195ac2e9268f5f9ab": {
      "model_module": "@jupyter-widgets/controls",
      "model_module_version": "2.0.0",
      "model_name": "HBoxModel",
      "state": {
       "_dom_classes": [],
       "_model_module": "@jupyter-widgets/controls",
       "_model_module_version": "2.0.0",
       "_model_name": "HBoxModel",
       "_view_count": null,
       "_view_module": "@jupyter-widgets/controls",
       "_view_module_version": "2.0.0",
       "_view_name": "HBoxView",
       "box_style": "",
       "children": [
        "IPY_MODEL_7e75abc682804ef0a37410fe68bfa7e1",
        "IPY_MODEL_7e1565b783474936a453fb7c9833d24d",
        "IPY_MODEL_259e2e5dab334608899c783c2a0fdc6d"
       ],
       "layout": "IPY_MODEL_900d8768aa9245a997bc6d7031e7294c",
       "tabbable": null,
       "tooltip": null
      }
     },
     "e16a28a825e04d01bf015011e872419e": {
      "model_module": "@jupyter-widgets/base",
      "model_module_version": "2.0.0",
      "model_name": "LayoutModel",
      "state": {
       "_model_module": "@jupyter-widgets/base",
       "_model_module_version": "2.0.0",
       "_model_name": "LayoutModel",
       "_view_count": null,
       "_view_module": "@jupyter-widgets/base",
       "_view_module_version": "2.0.0",
       "_view_name": "LayoutView",
       "align_content": null,
       "align_items": null,
       "align_self": null,
       "border_bottom": null,
       "border_left": null,
       "border_right": null,
       "border_top": null,
       "bottom": null,
       "display": null,
       "flex": null,
       "flex_flow": null,
       "grid_area": null,
       "grid_auto_columns": null,
       "grid_auto_flow": null,
       "grid_auto_rows": null,
       "grid_column": null,
       "grid_gap": null,
       "grid_row": null,
       "grid_template_areas": null,
       "grid_template_columns": null,
       "grid_template_rows": null,
       "height": null,
       "justify_content": null,
       "justify_items": null,
       "left": null,
       "margin": null,
       "max_height": null,
       "max_width": null,
       "min_height": null,
       "min_width": null,
       "object_fit": null,
       "object_position": null,
       "order": null,
       "overflow": null,
       "padding": null,
       "right": null,
       "top": null,
       "visibility": null,
       "width": null
      }
     },
     "fea23d7c7e9e459f91caabd65a08db78": {
      "model_module": "@jupyter-widgets/base",
      "model_module_version": "2.0.0",
      "model_name": "LayoutModel",
      "state": {
       "_model_module": "@jupyter-widgets/base",
       "_model_module_version": "2.0.0",
       "_model_name": "LayoutModel",
       "_view_count": null,
       "_view_module": "@jupyter-widgets/base",
       "_view_module_version": "2.0.0",
       "_view_name": "LayoutView",
       "align_content": null,
       "align_items": null,
       "align_self": null,
       "border_bottom": null,
       "border_left": null,
       "border_right": null,
       "border_top": null,
       "bottom": null,
       "display": null,
       "flex": null,
       "flex_flow": null,
       "grid_area": null,
       "grid_auto_columns": null,
       "grid_auto_flow": null,
       "grid_auto_rows": null,
       "grid_column": null,
       "grid_gap": null,
       "grid_row": null,
       "grid_template_areas": null,
       "grid_template_columns": null,
       "grid_template_rows": null,
       "height": null,
       "justify_content": null,
       "justify_items": null,
       "left": null,
       "margin": null,
       "max_height": null,
       "max_width": null,
       "min_height": null,
       "min_width": null,
       "object_fit": null,
       "object_position": null,
       "order": null,
       "overflow": null,
       "padding": null,
       "right": null,
       "top": null,
       "visibility": null,
       "width": null
      }
     }
    },
    "version_major": 2,
    "version_minor": 0
   }
  }
 },
 "nbformat": 4,
 "nbformat_minor": 5
}