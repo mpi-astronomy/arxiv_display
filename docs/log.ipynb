{
 "cells": [
  {
   "cell_type": "markdown",
   "id": "92bcb855",
   "metadata": {
    "papermill": {
     "duration": 0.003902,
     "end_time": "2024-06-26T04:08:55.518634",
     "exception": false,
     "start_time": "2024-06-26T04:08:55.514732",
     "status": "completed"
    },
    "tags": []
   },
   "source": [
    "# MPIA Arxiv on Deck 2\n",
    "\n",
    "Contains the steps to produce the paper extractions."
   ]
  },
  {
   "cell_type": "code",
   "execution_count": 1,
   "id": "3a0d6e11",
   "metadata": {
    "execution": {
     "iopub.execute_input": "2024-06-26T04:08:55.526569Z",
     "iopub.status.busy": "2024-06-26T04:08:55.525943Z",
     "iopub.status.idle": "2024-06-26T04:08:55.997144Z",
     "shell.execute_reply": "2024-06-26T04:08:55.996494Z"
    },
    "papermill": {
     "duration": 0.476972,
     "end_time": "2024-06-26T04:08:55.998836",
     "exception": false,
     "start_time": "2024-06-26T04:08:55.521864",
     "status": "completed"
    },
    "tags": []
   },
   "outputs": [],
   "source": [
    "# Imports\n",
    "import os\n",
    "from IPython.display import Markdown, display\n",
    "from tqdm.notebook import tqdm\n",
    "import warnings\n",
    "from PIL import Image \n",
    "\n",
    "# requires arxiv_on_deck_2\n",
    "\n",
    "from arxiv_on_deck_2.arxiv2 import (get_new_papers, \n",
    "                                    get_paper_from_identifier,\n",
    "                                    retrieve_document_source, \n",
    "                                    get_markdown_badge)\n",
    "from arxiv_on_deck_2 import (latex,\n",
    "                             latex_bib,\n",
    "                             mpia,\n",
    "                             highlight_authors_in_list)\n",
    "\n",
    "# Sometimes images are really big\n",
    "Image.MAX_IMAGE_PIXELS = 1000000000 "
   ]
  },
  {
   "cell_type": "code",
   "execution_count": 2,
   "id": "22aa9d44",
   "metadata": {
    "execution": {
     "iopub.execute_input": "2024-06-26T04:08:56.006526Z",
     "iopub.status.busy": "2024-06-26T04:08:56.005818Z",
     "iopub.status.idle": "2024-06-26T04:08:56.011237Z",
     "shell.execute_reply": "2024-06-26T04:08:56.010713Z"
    },
    "papermill": {
     "duration": 0.010481,
     "end_time": "2024-06-26T04:08:56.012486",
     "exception": false,
     "start_time": "2024-06-26T04:08:56.002005",
     "status": "completed"
    },
    "tags": []
   },
   "outputs": [],
   "source": [
    "# Some useful definitions.\n",
    "\n",
    "class AffiliationWarning(UserWarning):\n",
    "    pass\n",
    "\n",
    "class AffiliationError(RuntimeError):\n",
    "    pass\n",
    "\n",
    "def validation(source: str):\n",
    "    \"\"\"Raises error paper during parsing of source file\n",
    "    \n",
    "    Allows checks before parsing TeX code.\n",
    "    \n",
    "    Raises AffiliationWarning\n",
    "    \"\"\"\n",
    "    check = mpia.affiliation_verifications(source, verbose=True)\n",
    "    if check is not True:\n",
    "        raise AffiliationError(\"mpia.affiliation_verifications: \" + check)\n",
    "\n",
    "        \n",
    "warnings.simplefilter('always', AffiliationWarning)\n",
    "\n",
    "\n",
    "def get_markdown_qrcode(paper_id: str):\n",
    "    \"\"\" Generate a qrcode to the arxiv page using qrserver.com\n",
    "    \n",
    "    :param paper: Arxiv paper\n",
    "    :returns: markdown text\n",
    "    \"\"\"\n",
    "    url = r\"https://api.qrserver.com/v1/create-qr-code/?size=100x100&data=\"\n",
    "    txt = f\"\"\"<img src={url}\"https://arxiv.org/abs/{paper_id}\">\"\"\"\n",
    "    txt = '<div id=\"qrcode\">' + txt + '</div>'\n",
    "    return txt"
   ]
  },
  {
   "cell_type": "markdown",
   "id": "14bd6310",
   "metadata": {
    "papermill": {
     "duration": 0.002827,
     "end_time": "2024-06-26T04:08:56.018280",
     "exception": false,
     "start_time": "2024-06-26T04:08:56.015453",
     "status": "completed"
    },
    "tags": []
   },
   "source": [
    "## get list of arxiv paper candidates\n",
    "\n",
    "We use the MPIA mitarbeiter list webpage from mpia.de to get author names\n",
    "We then get all new papers from Arxiv and match authors"
   ]
  },
  {
   "cell_type": "code",
   "execution_count": 3,
   "id": "7ea813a8",
   "metadata": {
    "execution": {
     "iopub.execute_input": "2024-06-26T04:08:56.025282Z",
     "iopub.status.busy": "2024-06-26T04:08:56.024730Z",
     "iopub.status.idle": "2024-06-26T04:09:12.874302Z",
     "shell.execute_reply": "2024-06-26T04:09:12.873595Z"
    },
    "papermill": {
     "duration": 16.854946,
     "end_time": "2024-06-26T04:09:12.876071",
     "exception": false,
     "start_time": "2024-06-26T04:08:56.021125",
     "status": "completed"
    },
    "tags": []
   },
   "outputs": [],
   "source": [
    "# deal with the author list and edge cases of people that cannot be consistent on their name  \n",
    "\n",
    "def filter_non_scientists(name: str) -> bool:\n",
    "    \"\"\" Loose filter on expected authorships\n",
    "\n",
    "    removing IT, administration, technical staff\n",
    "    :param name: name\n",
    "    :returns: False if name is not a scientist\n",
    "    \"\"\"\n",
    "    remove_list = ['Wolf', 'Licht', 'Binroth', 'Witzel', 'Jordan',\n",
    "                   'Zähringer', 'Scheerer', 'Hoffmann', 'Düe',\n",
    "                   'Hellmich', 'Enkler-Scharpegge', 'Witte-Nguy',\n",
    "                   'Dehen', 'Beckmann', 'Jager', 'Jäger'\n",
    "                  ]\n",
    "\n",
    "    for k in remove_list:\n",
    "        if k in name:\n",
    "            return False\n",
    "    return True\n",
    "\n",
    "def add_author_to_list(author_list: list) -> list:\n",
    "    \"\"\" Add author to list if not already in list\n",
    "    \n",
    "    :param author: author name\n",
    "    :param author_list: list of authors\n",
    "    :returns: updated list of authors\n",
    "    \"\"\"\n",
    "    add_list = ['T. Henning']\n",
    "\n",
    "    for author in add_list:\n",
    "        if author not in author_list:\n",
    "            author_list.append(author)\n",
    "    return author_list\n",
    "\n",
    "# get list from MPIA website\n",
    "# filter for non-scientists (mpia.get_mpia_mitarbeiter_list() does some filtering)\n",
    "mpia_authors = [k[1] for k in mpia.get_mpia_mitarbeiter_list() if filter_non_scientists(k[1])]\n",
    "# add some missing author because of inconsistencies in their MPIA name and author name on papers\n",
    "mpia_authors = add_author_to_list(mpia_authors)"
   ]
  },
  {
   "cell_type": "code",
   "execution_count": 4,
   "id": "2645e73a",
   "metadata": {
    "execution": {
     "iopub.execute_input": "2024-06-26T04:09:12.884049Z",
     "iopub.status.busy": "2024-06-26T04:09:12.883548Z",
     "iopub.status.idle": "2024-06-26T04:09:13.611840Z",
     "shell.execute_reply": "2024-06-26T04:09:13.611158Z"
    },
    "papermill": {
     "duration": 0.733552,
     "end_time": "2024-06-26T04:09:13.613304",
     "exception": false,
     "start_time": "2024-06-26T04:09:12.879752",
     "status": "completed"
    },
    "tags": []
   },
   "outputs": [
    {
     "name": "stdout",
     "output_type": "stream",
     "text": [
      "M. Häberle  ->  M. Häberle  |  ['M. Häberle']\n",
      "T. Henning  ->  T. Henning  |  ['T. Henning']\n",
      "Arxiv has 69 new papers today\n",
      "          2 with possible author matches\n"
     ]
    }
   ],
   "source": [
    "new_papers = get_new_papers()\n",
    "# add manual references\n",
    "add_paper_refs = []\n",
    "new_papers.extend([get_paper_from_identifier(k) for k in add_paper_refs])\n",
    "\n",
    "candidates = []\n",
    "for paperk in new_papers:\n",
    "    # Check author list with their initials\n",
    "    normed_author_list = [mpia.get_initials(k) for k in paperk['authors']]\n",
    "    hl_authors = highlight_authors_in_list(normed_author_list, mpia_authors, verbose=True)\n",
    "    matches = [(hl, orig) for hl, orig in zip(hl_authors, paperk['authors']) if 'mark' in hl]\n",
    "    paperk['authors'] = hl_authors\n",
    "    if matches:\n",
    "        # only select paper if an author matched our list\n",
    "        candidates.append(paperk)\n",
    "print(\"\"\"Arxiv has {0:,d} new papers today\"\"\".format(len(new_papers)))        \n",
    "print(\"\"\"          {0:,d} with possible author matches\"\"\".format(len(candidates)))"
   ]
  },
  {
   "cell_type": "markdown",
   "id": "3543b34a",
   "metadata": {
    "papermill": {
     "duration": 0.003988,
     "end_time": "2024-06-26T04:09:13.620706",
     "exception": false,
     "start_time": "2024-06-26T04:09:13.616718",
     "status": "completed"
    },
    "tags": []
   },
   "source": [
    "# Parse sources and generate relevant outputs\n",
    "\n",
    "From the candidates, we do the following steps:\n",
    "* get their tarball from ArXiv (and extract data)\n",
    "* find the main .tex file: find one with \\documentclass{...} (sometimes it's non trivial)\n",
    "* Check affiliations with :func:`validation`, which uses :func:`mpia.affiliation_verifications`\n",
    "* If passing the affiliations: we parse the .tex source\n",
    "   * inject sub-documents into the main (flatten the main document)\n",
    "   * parse structure, extract information (title, abstract, authors, figures...)\n",
    "   * handles `\\graphicspath` if provided\n",
    "* Generate the .md document."
   ]
  },
  {
   "cell_type": "code",
   "execution_count": 5,
   "id": "9576b79e",
   "metadata": {
    "execution": {
     "iopub.execute_input": "2024-06-26T04:09:13.627917Z",
     "iopub.status.busy": "2024-06-26T04:09:13.627548Z",
     "iopub.status.idle": "2024-06-26T04:09:48.187937Z",
     "shell.execute_reply": "2024-06-26T04:09:48.187202Z"
    },
    "papermill": {
     "duration": 34.566529,
     "end_time": "2024-06-26T04:09:48.190276",
     "exception": false,
     "start_time": "2024-06-26T04:09:13.623747",
     "status": "completed"
    },
    "scrolled": false,
    "tags": []
   },
   "outputs": [
    {
     "data": {
      "application/vnd.jupyter.widget-view+json": {
       "model_id": "a8d77b39d5694170be82b8aed1a1168c",
       "version_major": 2,
       "version_minor": 0
      },
      "text/plain": [
       "  0%|          | 0/2 [00:00<?, ?it/s]"
      ]
     },
     "metadata": {},
     "output_type": "display_data"
    },
    {
     "name": "stdout",
     "output_type": "stream",
     "text": [
      "Retrieving document from  https://arxiv.org/e-print/2406.17347\n"
     ]
    },
    {
     "name": "stdout",
     "output_type": "stream",
     "text": [
      "extracting tarball to tmp_2406.17347..."
     ]
    },
    {
     "name": "stdout",
     "output_type": "stream",
     "text": [
      " done.\n"
     ]
    },
    {
     "name": "stdout",
     "output_type": "stream",
     "text": [
      "M. Häberle  ->  M. Häberle  |  ['M. Häberle']\n"
     ]
    },
    {
     "name": "stdout",
     "output_type": "stream",
     "text": [
      "Found 116 bibliographic references in tmp_2406.17347/niederhofer24.bbl.\n",
      "Retrieving document from  https://arxiv.org/e-print/2406.17429\n",
      "extracting tarball to tmp_2406.17429..."
     ]
    },
    {
     "name": "stdout",
     "output_type": "stream",
     "text": [
      " done.\n"
     ]
    },
    {
     "name": "stdout",
     "output_type": "stream",
     "text": [
      "Found 75 bibliographic references in tmp_2406.17429/main.bbl.\n"
     ]
    }
   ],
   "source": [
    "documents = []\n",
    "failed = []\n",
    "for paper in tqdm(candidates):\n",
    "    # debug crap\n",
    "    paper['identifier'] = paper['identifier'].lower().replace('arxiv:', '').replace(r'\\n', '').strip()\n",
    "    paper_id = paper['identifier']\n",
    "    \n",
    "    folder = f'tmp_{paper_id}'\n",
    "\n",
    "    try:\n",
    "        if not os.path.isdir(folder):\n",
    "            folder = retrieve_document_source(f\"{paper_id}\", f'tmp_{paper_id}')\n",
    "        \n",
    "        try:\n",
    "            doc = latex.LatexDocument(folder, validation=validation)    \n",
    "        except AffiliationError as affilerror:\n",
    "            msg = f\"ArXiv:{paper_id:s} is not an MPIA paper... \" + str(affilerror)\n",
    "            failed.append((paper, \"affiliation error: \" + str(affilerror) ))\n",
    "            continue\n",
    "        \n",
    "        # Hack because sometimes author parsing does not work well\n",
    "        if (len(doc.authors) != len(paper['authors'])):\n",
    "            doc._authors = paper['authors']\n",
    "        else:\n",
    "            # highlight authors (FIXME: doc.highlight_authors)\n",
    "            # done on arxiv paper already\n",
    "            doc._authors = highlight_authors_in_list(\n",
    "                [mpia.get_initials(k) for k in doc.authors], \n",
    "                mpia_authors, verbose=True)\n",
    "        if (doc.abstract) in (None, ''):\n",
    "            doc._abstract = paper['abstract']\n",
    "            \n",
    "        doc.comment = (get_markdown_badge(paper_id) + \n",
    "                       \"<mark>Appeared on: \" + paper['date'] + \"</mark> - \")\n",
    "        if paper['comments']:\n",
    "            doc.comment += \" _\" + paper['comments'] + \"_\"\n",
    "        \n",
    "        full_md = doc.generate_markdown_text()\n",
    "        \n",
    "        full_md += get_markdown_qrcode(paper_id)\n",
    "        \n",
    "        # replace citations\n",
    "        try:\n",
    "            bibdata = latex_bib.LatexBib.from_doc(doc)\n",
    "            full_md = latex_bib.replace_citations(full_md, bibdata)\n",
    "        except Exception as e:\n",
    "            print(e)\n",
    "        \n",
    "        documents.append((paper_id, full_md))\n",
    "    except Exception as e:\n",
    "        warnings.warn(latex.LatexWarning(f\"{paper_id:s} did not run properly\\n\" +\n",
    "                                         str(e)\n",
    "                                        ))\n",
    "        failed.append((paper, \"latex error \" + str(e)))"
   ]
  },
  {
   "cell_type": "markdown",
   "id": "2505a25c",
   "metadata": {
    "papermill": {
     "duration": 0.003471,
     "end_time": "2024-06-26T04:09:48.197543",
     "exception": false,
     "start_time": "2024-06-26T04:09:48.194072",
     "status": "completed"
    },
    "tags": []
   },
   "source": [
    "### Export the logs\n",
    "\n",
    "Throughout, we also keep track of the logs per paper. see `logs-{today date}.md` "
   ]
  },
  {
   "cell_type": "code",
   "execution_count": 6,
   "id": "d733828a",
   "metadata": {
    "execution": {
     "iopub.execute_input": "2024-06-26T04:09:48.205824Z",
     "iopub.status.busy": "2024-06-26T04:09:48.205393Z",
     "iopub.status.idle": "2024-06-26T04:09:48.217918Z",
     "shell.execute_reply": "2024-06-26T04:09:48.217348Z"
    },
    "papermill": {
     "duration": 0.018161,
     "end_time": "2024-06-26T04:09:48.219227",
     "exception": false,
     "start_time": "2024-06-26T04:09:48.201066",
     "status": "completed"
    },
    "scrolled": false,
    "tags": []
   },
   "outputs": [
    {
     "data": {
      "text/markdown": [
       "## Successful papers"
      ],
      "text/plain": [
       "<IPython.core.display.Markdown object>"
      ]
     },
     "metadata": {},
     "output_type": "display_data"
    },
    {
     "data": {
      "text/markdown": [
       "\n",
       "|||\n",
       "|---:|:---|\n",
       "| [![arXiv](https://img.shields.io/badge/arXiv-2406.17347-b31b1b.svg)](https://arxiv.org/abs/2406.17347) | **Hubble Space Telescope proper motions of Large Magellanic Cloud star clusters -- I. Catalogues and results for NGC 1850**  |\n",
       "|| F. Niederhofer, et al. -- incl., <mark>M. Häberle</mark> |\n",
       "|*Appeared on*| *2024-06-26*|\n",
       "|*Comments*| *27 pages, 15 figures. Accepted for publication in A&A. Astro-photometric catalogues are available at this https URL*|\n",
       "|**Abstract**|            We present proper motion (PM) measurements for a sample of 23 massive star clusters within the Large Magellanic Cloud using multi-epoch data from the Hubble Space Telescope (HST). We combined archival data from the ACS/WFC and WFC3/UVIS instruments with observations from a dedicated HST programme, resulting in time baselines between 4.7 and 18.2 yr available for PM determinations. For bright well-measured stars, we achieved nominal PM precisions of 55 $\\mu$as/yr down to 11 $\\mu$as/yr . To demonstrate the potential and limitations of our PM data set, we analysed the cluster NGC 1850 and showcase a selection of different science applications. The precision of the PM measurements allows us to disentangle the kinematics of the various stellar populations that are present in the HST field. The cluster has a centre-of-mass motion that is different from the surrounding old field stars and also differs from the mean motion of a close-by group of very young stars. We determined the velocity dispersion of field stars to be 0.128 +/- 0.003 mas/yr (corresponding to 30.3 +/- 0.7 km/s). The velocity dispersion of the cluster inferred from the PM data set most probably overestimates the true value, suggesting that the precision of the measurements at this stage is not sufficient for a reliable analysis of the internal kinematics of extra-galactic star clusters. Finally, we exploit the PM-cleaned catalogue of likely cluster members to determine any radial segregation between fast and slowly-rotating stars, finding that the former are more centrally concentrated. With this paper, we also release the astro-photometric catalogues for each cluster.         |"
      ],
      "text/plain": [
       "[2406.17347] Hubble Space Telescope proper motions of Large Magellanic Cloud star clusters -- I. Catalogues and results for NGC 1850\n",
       "\tF. Niederhofer, et al. -- incl., <mark>M. Häberle</mark>"
      ]
     },
     "metadata": {},
     "output_type": "display_data"
    },
    {
     "data": {
      "text/markdown": [
       "\n",
       "|||\n",
       "|---:|:---|\n",
       "| [![arXiv](https://img.shields.io/badge/arXiv-2406.17429-b31b1b.svg)](https://arxiv.org/abs/2406.17429) | **Imaging of I Zw 18 by JWST: II. Spatially resolved star formation history**  |\n",
       "|| G. Bortolini, et al. -- incl., <mark>T. Henning</mark> |\n",
       "|*Appeared on*| *2024-06-26*|\n",
       "|*Comments*| *14 pages, 11 figures, accepted for publications in Astronomy & Astrophysics (section \"4. Extragalactic astronomy\")*|\n",
       "|**Abstract**|            The blue compact dwarf galaxy I Zw 18 is one of the most metal-poor ($Z \\sim 3% Z_{\\sun}$) star-forming galaxies in the local Universe. Its evolutionary status has sparked debate within the astronomical community. We aim to investigate the stellar populations of I Zw 18 in the near-IR using JWST/NIRCam's high spatial resolution and sensitivity. Additionally, we aim to derive the galaxy's spatially resolved star formation history (SFH) over the last 1 Gyr and provide constraints for older epochs. We used DOLPHOT to measure positions and fluxes of point sources in the F115W and F200W filters' images of I Zw 18. To derive I Zw 18's SFH, we applied the color-magnitude diagram (CMD) fitting technique SFERA 2.0, using two independent sets of stellar models. Our analysis reveals three main stellar populations: one younger than $\\sim30$ Myr, mainly in the northwest star-forming (SF) region; an intermediate-age population ($\\sim 100 - 800$ Myr) in the southeast SF region; and a red and faint population linked to the underlying halo, older than 1 Gyr and possibly as old as 13.8 Gyr. The main body of the galaxy shows a very low star formation rate (SFR) of $\\sim 10^{-4} M_{\\odot} \\text{yr}^{-1}$ between 1 and 13.8 Gyr ago. In the last billion years, I Zw 18 shows increasing SF, with strong bursts around $\\sim10$ and $\\sim100$ Myr ago. Component C mirrors the main body's evolution but with lower SFRs. Our findings confirm that I Zw 18 contains stars of all ages, indicating it is not a young galaxy but has an old stellar halo, similar to other BCDs. The low SF activity over the past billion years supports the \"slow cooking\" dwarf scenario, explaining its low metal content. Currently, the galaxy is undergoing its strongest SF episode ($\\sim 0.6 M_{\\odot} \\text{yr}^{-1}$) mainly in the northwest region, likely due to a recent gravitational interaction with Component C.         |"
      ],
      "text/plain": [
       "[2406.17429] Imaging of I Zw 18 by JWST: II. Spatially resolved star formation history\n",
       "\tG. Bortolini, et al. -- incl., <mark>T. Henning</mark>"
      ]
     },
     "metadata": {},
     "output_type": "display_data"
    },
    {
     "data": {
      "text/markdown": [
       "## Failed papers"
      ],
      "text/plain": [
       "<IPython.core.display.Markdown object>"
      ]
     },
     "metadata": {},
     "output_type": "display_data"
    }
   ],
   "source": [
    "import datetime\n",
    "today = str(datetime.date.today())\n",
    "logfile = f\"_build/html/logs/log-{today}.md\"\n",
    "\n",
    "\n",
    "with open(logfile, 'w') as logs:\n",
    "    # Success\n",
    "    logs.write(f'# Arxiv on Deck 2: Logs - {today}\\n\\n')\n",
    "    logs.write(\"\"\"* Arxiv had {0:,d} new papers\\n\"\"\".format(len(new_papers)))\n",
    "    logs.write(\"\"\"    * {0:,d} with possible author matches\\n\\n\"\"\".format(len(candidates)))\n",
    "    logs.write(\"## Sucessful papers\\n\\n\")\n",
    "    display(Markdown(\"## Successful papers\"))\n",
    "    success = [k[0] for k in documents]\n",
    "    for candid in candidates:\n",
    "        if candid['identifier'].split(':')[-1] in success:\n",
    "            display(candid)\n",
    "            logs.write(candid.generate_markdown_text() + '\\n\\n')\n",
    "\n",
    "    ## failed\n",
    "    logs.write(\"## Failed papers\\n\\n\")\n",
    "    display(Markdown(\"## Failed papers\"))\n",
    "    failed = sorted(failed, key=lambda x: x[1])\n",
    "    current_reason = \"\"\n",
    "    for paper, reason in failed:\n",
    "        if 'affiliation' in reason:\n",
    "            color = 'green'\n",
    "        else:\n",
    "            color = 'red'\n",
    "        data = Markdown(\n",
    "                paper.generate_markdown_text() + \n",
    "                f'\\n|<p style=\"color:{color:s}\"> **ERROR** </p>| <p style=\"color:{color:s}\">{reason:s}</p> |'\n",
    "               )\n",
    "        if reason != current_reason:\n",
    "            logs.write(f'### {reason:s} \\n\\n')\n",
    "            current_reason = reason\n",
    "        logs.write(data.data + '\\n\\n')\n",
    "        \n",
    "        # only display here the important errors (all in logs)\n",
    "        # if color in ('red',):\n",
    "        display(data)"
   ]
  },
  {
   "cell_type": "markdown",
   "id": "472d20ee",
   "metadata": {
    "papermill": {
     "duration": 0.003896,
     "end_time": "2024-06-26T04:09:48.227059",
     "exception": false,
     "start_time": "2024-06-26T04:09:48.223163",
     "status": "completed"
    },
    "tags": []
   },
   "source": [
    "## Export documents\n",
    "\n",
    "We now write the .md files and export relevant images"
   ]
  },
  {
   "cell_type": "code",
   "execution_count": 7,
   "id": "d426aed9",
   "metadata": {
    "execution": {
     "iopub.execute_input": "2024-06-26T04:09:48.235708Z",
     "iopub.status.busy": "2024-06-26T04:09:48.235494Z",
     "iopub.status.idle": "2024-06-26T04:09:48.242404Z",
     "shell.execute_reply": "2024-06-26T04:09:48.241759Z"
    },
    "papermill": {
     "duration": 0.01273,
     "end_time": "2024-06-26T04:09:48.243663",
     "exception": false,
     "start_time": "2024-06-26T04:09:48.230933",
     "status": "completed"
    },
    "tags": []
   },
   "outputs": [],
   "source": [
    "def export_markdown_summary(md: str, md_fname:str, directory: str):\n",
    "    \"\"\"Export MD document and associated relevant images\"\"\"\n",
    "    import os\n",
    "    import shutil\n",
    "    import re\n",
    "\n",
    "    if (os.path.exists(directory) and not os.path.isdir(directory)):\n",
    "        raise RuntimeError(f\"a non-directory file exists with name {directory:s}\")\n",
    "\n",
    "    if (not os.path.exists(directory)):\n",
    "        print(f\"creating directory {directory:s}\")\n",
    "        os.mkdir(directory)\n",
    "\n",
    "    fig_fnames = (re.compile(r'\\[Fig.*\\]\\((.*)\\)').findall(md) + \n",
    "                  re.compile(r'\\<img src=\"([^>\\s]*)\"[^>]*/>').findall(md))\n",
    "    print(\"found figures\", fig_fnames)\n",
    "    for fname in fig_fnames:\n",
    "        if 'http' in fname:\n",
    "            # No need to copy online figures\n",
    "            continue\n",
    "        if not os.path.exists(fname):\n",
    "            print(\"file not found\", fname)\n",
    "            continue\n",
    "        print(\"copying \", fname, \"to\", directory)\n",
    "        destdir = os.path.join(directory, os.path.dirname(fname))\n",
    "        destfname = os.path.join(destdir, os.path.basename(fname))\n",
    "        try:\n",
    "            os.makedirs(destdir)\n",
    "        except FileExistsError:\n",
    "            pass\n",
    "        shutil.copy(fname, destfname)\n",
    "    with open(os.path.join(directory, md_fname), 'w') as fout:\n",
    "        fout.write(md)\n",
    "    print(\"exported in \", os.path.join(directory, md_fname))\n",
    "    [print(\"    + \" + os.path.join(directory,fk)) for fk in fig_fnames]"
   ]
  },
  {
   "cell_type": "code",
   "execution_count": 8,
   "id": "014d04a4",
   "metadata": {
    "execution": {
     "iopub.execute_input": "2024-06-26T04:09:48.252885Z",
     "iopub.status.busy": "2024-06-26T04:09:48.252490Z",
     "iopub.status.idle": "2024-06-26T04:09:48.275296Z",
     "shell.execute_reply": "2024-06-26T04:09:48.274641Z"
    },
    "papermill": {
     "duration": 0.028925,
     "end_time": "2024-06-26T04:09:48.276591",
     "exception": false,
     "start_time": "2024-06-26T04:09:48.247666",
     "status": "completed"
    },
    "tags": []
   },
   "outputs": [
    {
     "name": "stdout",
     "output_type": "stream",
     "text": [
      "found figures ['tmp_2406.17347/./Figs/pm_correction.png', 'tmp_2406.17347/./Figs/NGC1850_cmd_populations_paper.png', 'tmp_2406.17347/./Figs/ngc1850_vpd_populations_paper.png', 'tmp_2406.17347/./Figs/NGC1850_paper.png']\n",
      "copying  tmp_2406.17347/./Figs/pm_correction.png to _build/html/\n",
      "copying  tmp_2406.17347/./Figs/NGC1850_cmd_populations_paper.png to _build/html/\n",
      "copying  tmp_2406.17347/./Figs/ngc1850_vpd_populations_paper.png to _build/html/\n",
      "copying  tmp_2406.17347/./Figs/NGC1850_paper.png to _build/html/\n",
      "exported in  _build/html/2406.17347.md\n",
      "    + _build/html/tmp_2406.17347/./Figs/pm_correction.png\n",
      "    + _build/html/tmp_2406.17347/./Figs/NGC1850_cmd_populations_paper.png\n",
      "    + _build/html/tmp_2406.17347/./Figs/ngc1850_vpd_populations_paper.png\n",
      "    + _build/html/tmp_2406.17347/./Figs/NGC1850_paper.png\n",
      "found figures ['tmp_2406.17429/./Images/F200W_cutout_v2.png', 'tmp_2406.17429/./Images/spatial_distributions.png', 'tmp_2406.17429/./Images/sfh_mass_lum_functions_region1.png', 'tmp_2406.17429/./Images/data_model_residual_region1.png']\n",
      "copying  tmp_2406.17429/./Images/F200W_cutout_v2.png to _build/html/\n",
      "copying  tmp_2406.17429/./Images/spatial_distributions.png to _build/html/\n",
      "copying  tmp_2406.17429/./Images/sfh_mass_lum_functions_region1.png to _build/html/\n",
      "copying  tmp_2406.17429/./Images/data_model_residual_region1.png to _build/html/\n",
      "exported in  _build/html/2406.17429.md\n",
      "    + _build/html/tmp_2406.17429/./Images/F200W_cutout_v2.png\n",
      "    + _build/html/tmp_2406.17429/./Images/spatial_distributions.png\n",
      "    + _build/html/tmp_2406.17429/./Images/sfh_mass_lum_functions_region1.png\n",
      "    + _build/html/tmp_2406.17429/./Images/data_model_residual_region1.png\n"
     ]
    }
   ],
   "source": [
    "for paper_id, md in documents:\n",
    "    export_markdown_summary(md, f\"{paper_id:s}.md\", '_build/html/')"
   ]
  },
  {
   "cell_type": "markdown",
   "id": "f087a0a7",
   "metadata": {
    "papermill": {
     "duration": 0.003944,
     "end_time": "2024-06-26T04:09:48.284602",
     "exception": false,
     "start_time": "2024-06-26T04:09:48.280658",
     "status": "completed"
    },
    "tags": []
   },
   "source": [
    "## Display the papers\n",
    "\n",
    "Not necessary but allows for a quick check."
   ]
  },
  {
   "cell_type": "code",
   "execution_count": 9,
   "id": "fd25f625",
   "metadata": {
    "execution": {
     "iopub.execute_input": "2024-06-26T04:09:48.293854Z",
     "iopub.status.busy": "2024-06-26T04:09:48.293388Z",
     "iopub.status.idle": "2024-06-26T04:09:48.299667Z",
     "shell.execute_reply": "2024-06-26T04:09:48.299114Z"
    },
    "papermill": {
     "duration": 0.012325,
     "end_time": "2024-06-26T04:09:48.300927",
     "exception": false,
     "start_time": "2024-06-26T04:09:48.288602",
     "status": "completed"
    },
    "scrolled": false,
    "tags": []
   },
   "outputs": [
    {
     "data": {
      "text/markdown": [
       "<div class=\"macros\" style=\"visibility:hidden;\">\n",
       "$\\newcommand{\\ensuremath}{}$\n",
       "$\\newcommand{\\xspace}{}$\n",
       "$\\newcommand{\\object}[1]{\\texttt{#1}}$\n",
       "$\\newcommand{\\farcs}{{.}''}$\n",
       "$\\newcommand{\\farcm}{{.}'}$\n",
       "$\\newcommand{\\arcsec}{''}$\n",
       "$\\newcommand{\\arcmin}{'}$\n",
       "$\\newcommand{\\ion}[2]{#1#2}$\n",
       "$\\newcommand{\\textsc}[1]{\\textrm{#1}}$\n",
       "$\\newcommand{\\hl}[1]{\\textrm{#1}}$\n",
       "$\\newcommand{\\footnote}[1]{}$</div>\n",
       "\n",
       "\n",
       "\n",
       "<div id=\"title\">\n",
       "\n",
       "# Hubble Space Telescope proper motions of Large Magellanic Cloud star clusters\n",
       "\n",
       "</div>\n",
       "<div id=\"comments\">\n",
       "\n",
       "[![arXiv](https://img.shields.io/badge/arXiv-2406.17347-b31b1b.svg)](https://arxiv.org/abs/2406.17347)<mark>Appeared on: 2024-06-26</mark> -  _27 pages, 15 figures. Accepted for publication in A&A. Astro-photometric catalogues are available at this https URL_\n",
       "\n",
       "</div>\n",
       "<div id=\"authors\">\n",
       "\n",
       "F. Niederhofer, et al. -- incl., <mark>M. Häberle</mark>\n",
       "\n",
       "</div>\n",
       "<div id=\"abstract\">\n",
       "\n",
       "**Abstract:** We present proper motion (PM) measurements for a sample of 23 massive star clusters within the Large Magellanic Cloud using multi-epoch data from the _Hubble_ Space Telescope (HST). We combined archival data from the ACS/WFC and WFC3/UVIS instruments with observations from a dedicated HST programme, resulting in time baselines between 4.7 and 18.2 yr available for PM determinations. For bright well-measured stars, we achieved nominal PM precisions of 55 $\\mu$ as yr $^{-1}$ down to 11 $\\mu$ as yr $^{-1}$ . To demonstrate the potential and limitations of our PM data set, we analysed the cluster NGC 1850 and showcase a selection of different science applications. The precision of the PM measurements allows us to disentangle the kinematics of the various stellar populations that are present in the HST field. The cluster has a centre-of-mass motion that is different from the surrounding old field stars and also differs from the mean motion of a close-by group of very young stars. We determined the velocity dispersion of field stars to be $0.128\\pm0.003$ mas yr $^{-1}$ (corresponding to $30.3\\pm0.7$ km s $^{-1}$ ). The velocity dispersion of the cluster inferred from the PM data set most probably overestimates the true value, suggesting that the precision of the measurements at this stage is not sufficient for a reliable analysis of the internal kinematics of extra-galactic star clusters.  Finally, we exploit the PM-cleaned catalogue of likely cluster members to determine any radial segregation between fast and slowly-rotating stars, finding that the former are more centrally concentrated.  With this paper, we also release the astro-photometric catalogues for each cluster.\n",
       "\n",
       "</div>\n",
       "\n",
       "<div id=\"div_fig1\">\n",
       "\n",
       "<img src=\"tmp_2406.17347/./Figs/pm_correction.png\" alt=\"Fig11\" width=\"100%\"/>\n",
       "\n",
       "**Figure 11. -** Outline of the procedure to correct the PMs for high-frequency systematic effects. Panel (a) shows the VPD of sources towards NGC 1850. Likely cluster members were selected based on their PMs (within the red circle, which has a radius of 0.1 mas yr$^{-1}$ in the case of NGC 1850) and their positions in the CMD. Panel (b) shows the $m_{\\rm F814W}$ vs $m_{\\rm F438W}-m_{\\rm F814W}$ CMD of all sources with measured PMs towards NGC 1850 (grey dots) and the final selection of well-measured cluster stars (black dots). Panels (c) and (d) show, separately for each PM component, the maps of the local mean raw PM field (before the high-frequency correction). Each point in the map is colour-coded according to the median PM of its closest 200 well-measured cluster stars. The corresponding maps of the a posteriori corrected PMs are displayed in panels (e) and (f). The points in these maps are coloured according to the same range in colour as in panels (c) and (d). (*fig:PM_correction*)\n",
       "\n",
       "</div>\n",
       "<div id=\"div_fig2\">\n",
       "\n",
       "<img src=\"tmp_2406.17347/./Figs/NGC1850_cmd_populations_paper.png\" alt=\"Fig15.1\" width=\"50%\"/><img src=\"tmp_2406.17347/./Figs/ngc1850_vpd_populations_paper.png\" alt=\"Fig15.2\" width=\"50%\"/>\n",
       "\n",
       "**Figure 15. -** The different populations in the field of NGC 1850. _Left_: $m_{\\rm F814W}$ vs $m_{\\rm F336W}-m_{\\rm F814W}$ CMD highlighting the selected members of NGC 1850 (orange dots), NGC 1850B (red diamonds) and old field stars (blue squares). _Right_: VPD of the same populations.\n",
       " (*fig:ngc1850_populations*)\n",
       "\n",
       "</div>\n",
       "<div id=\"div_fig3\">\n",
       "\n",
       "<img src=\"tmp_2406.17347/./Figs/NGC1850_paper.png\" alt=\"Fig4\" width=\"100%\"/>\n",
       "\n",
       "**Figure 4. -** Three-colour image of NGC 1850, created from HST observations in the F336W (blue), F438W (green) and F814W (red) filters. Member stars of\n",
       "NGC 1850 are selected based on their motion and distance\n",
       "from the cluster centre (white solid circle). Stars belonging to\n",
       "the young group called NGC 1850B are selected as the young\n",
       "sequence in the CMD that are located within the white dashed\n",
       "circle and show consistent motions.  (*fig:ngc1850b*)\n",
       "\n",
       "</div><div id=\"qrcode\"><img src=https://api.qrserver.com/v1/create-qr-code/?size=100x100&data=\"https://arxiv.org/abs/2406.17347\"></div>"
      ],
      "text/plain": [
       "<IPython.core.display.Markdown object>"
      ]
     },
     "metadata": {},
     "output_type": "display_data"
    },
    {
     "data": {
      "text/markdown": [
       "<div class=\"macros\" style=\"visibility:hidden;\">\n",
       "$\\newcommand{\\ensuremath}{}$\n",
       "$\\newcommand{\\xspace}{}$\n",
       "$\\newcommand{\\object}[1]{\\texttt{#1}}$\n",
       "$\\newcommand{\\farcs}{{.}''}$\n",
       "$\\newcommand{\\farcm}{{.}'}$\n",
       "$\\newcommand{\\arcsec}{''}$\n",
       "$\\newcommand{\\arcmin}{'}$\n",
       "$\\newcommand{\\ion}[2]{#1#2}$\n",
       "$\\newcommand{\\textsc}[1]{\\textrm{#1}}$\n",
       "$\\newcommand{\\hl}[1]{\\textrm{#1}}$\n",
       "$\\newcommand{\\footnote}[1]{}$</div>\n",
       "\n",
       "\n",
       "\n",
       "<div id=\"title\">\n",
       "\n",
       "# Imaging of I Zw 18 by JWST: II. Spatially resolved star formation history\n",
       "\n",
       "</div>\n",
       "<div id=\"comments\">\n",
       "\n",
       "[![arXiv](https://img.shields.io/badge/arXiv-2406.17429-b31b1b.svg)](https://arxiv.org/abs/2406.17429)<mark>Appeared on: 2024-06-26</mark> -  _14 pages, 11 figures, accepted for publications in Astronomy & Astrophysics (section \"4. Extragalactic astronomy\")_\n",
       "\n",
       "</div>\n",
       "<div id=\"authors\">\n",
       "\n",
       "G. Bortolini, et al. -- incl., <mark>T. Henning</mark>\n",
       "\n",
       "</div>\n",
       "<div id=\"abstract\">\n",
       "\n",
       "**Abstract:** The blue compact dwarf (BCD) galaxy I Zw 18 is one of the most metal-poor ( $Z \\sim 3\\%   Z_{\\sun}$ ) star-forming galaxies known in the local Universe. Since its discovery, the evolutionary status of this system has been at the center of numerous debates within the astronomical community. We aim to probe and resolve the stellar populations of I Zw 18 in the near-IR using JWST/NIRCam's unprecedented imaging spatial resolution and sensitivity. Additionally, our goal is to derive the spatially resolved star formation history (SFH) of the galaxy within the last $1$ Gyr, and to provide constraints for older epochs. We used the point spread function fitting photometry package \\texttt{DOLPHOT} to measure positions and fluxes of point sources in the $F115W$ and $F200W$ filters' images of I Zw 18, acquired as part of the JWST GTO ID 1233 (PI: Meixner). Furthermore, to derive I Zw 18's SFH, we applied a state-of-the-art color-magnitude diagram (CMD) fitting technique ( \\texttt{SFERA} 2.0), using two independent sets of stellar models: PARSEC-COLIBRI and MIST. Our analysis of I Zw 18's CMD reveal three main stellar populations: one younger than $\\sim30$ Myr, mainly associated with the northwest star-forming (SF) region; an intermediate-age population ( $\\sim 100 - 800$ Myr), associated with the southeast SF region; and a red and faint population, linked to the underlying halo of the galaxy, older than $1$ Gyr and possibly as old as $13.8$ Gyr. The main body of the galaxy shows a very low star formation rate (SFR) of $\\sim 10^{-4} \\; M_{\\odot} \\; {yr}^{-1}$ between $1$ and $13.8$ Gyr ago. In the last billion years, I Zw 18 shows an increasing trend, culminating in two strong bursts of SF around $\\sim 10$ and $\\sim100$ Myr ago. Notably, I Zw 18 Component C mimics the evolution of the main body, but with lower SFRs on average. Our results confirm that I Zw 18 is populated by stars of all ages, without any major gaps. Thus, I Zw 18 is not a truly young galaxy, but rather a system characterized by an old underlying stellar halo, in agreement with what has been found in other BCDs by similar studies. The low SF activity exhibited at epochs older than $1$ Gyr is in agreement with the \"slow cooking’’ dwarf scenario proposed in the literature, and could have contributed to its low metal content. The galaxy is now experiencing its strongest episode of star formation ( $\\sim 0.6   M_{\\sun}   yr^{-1}$ ) mainly located in the northwest region. A recent gravitational interaction between the main body and Component C is the most likely explanation for this starburst.\n",
       "\n",
       "</div>\n",
       "\n",
       "<div id=\"div_fig1\">\n",
       "\n",
       "<img src=\"tmp_2406.17429/./Images/F200W_cutout_v2.png\" alt=\"Fig1\" width=\"100%\"/>\n",
       "\n",
       "**Figure 1. -** $F200W$$(\\sim K)$ JWST/NIRCam image cutout displaying I Zw 18's main body (southeast) and Component C (northwest). We divided the main body of the galaxy in four different regions, going from the two inner star-forming regions (labeled R1 and R2, respectively), a middle section (R3), and the outermost region (R4). The Component C is also labeled in the image. In the bottom-left corner is shown a physical scale corresponding to $\\sim 5.7$\\arcsec$$($\\sim 500$ pc). (*F200W_cutout*)\n",
       "\n",
       "</div>\n",
       "<div id=\"div_fig2\">\n",
       "\n",
       "<img src=\"tmp_2406.17429/./Images/spatial_distributions.png\" alt=\"Fig5\" width=\"100%\"/>\n",
       "\n",
       "**Figure 5. -** F200W image of I Zw 18 with the positions of three bona fide stellar populations being overplotted and selected in the CMD using PARSEC-COLIBRI isochrones. A population of upper MS stars younger than $30$ Myr (blue circles, left panel), AGB stars of intermediate ages between $0.1$ and $1$ Gyr (green circles, middle panel), and a population of RGB and low-mass AGB stars older than $1$ Gyr (red circles, right panel). The insert panels on the bottom-left show the respected position in the CMD of the selected bona fide stellar populations. (*fig:spatial distribution*)\n",
       "\n",
       "</div>\n",
       "<div id=\"div_fig3\">\n",
       "\n",
       "<img src=\"tmp_2406.17429/./Images/sfh_mass_lum_functions_region1.png\" alt=\"Fig7.1\" width=\"50%\"/><img src=\"tmp_2406.17429/./Images/data_model_residual_region1.png\" alt=\"Fig7.2\" width=\"50%\"/>\n",
       "\n",
       "**Figure 7. -** \\texttt{SFERA} 2.0 results for region 1. Panels (a)-(b): recovered SFH and mass using PARSEC-COLIBRI (orange line) and MIST (blue line) isochrones. The shaded areas mark the 16-84 percentiles. Panels (c)-(d): Data (black points) vs. model CMD luminosity functions for different luminosity intervals (indicated on the upper-right). Again, the PARSEC-COLIBRI solution is in orange, while the MIST in blue. Panels (e)-(g): Observational CMD, \\texttt{SFERA} 2.0 best fit model CMD and normalized residuals for each CMD cell ($data - model/\\sqrt{model}$). The diagrams are color-coded according to the number of stars in each cell (see color-bar in the upper-right corner). The dark-shade masks the region of the CMD that is below our fiducial $50\\%$ completeness limit. This region is excluded from the fitting procedure. (*fig:region1_results*)\n",
       "\n",
       "</div><div id=\"qrcode\"><img src=https://api.qrserver.com/v1/create-qr-code/?size=100x100&data=\"https://arxiv.org/abs/2406.17429\"></div>"
      ],
      "text/plain": [
       "<IPython.core.display.Markdown object>"
      ]
     },
     "metadata": {},
     "output_type": "display_data"
    }
   ],
   "source": [
    "[display(Markdown(k[1])) for k in documents];"
   ]
  },
  {
   "cell_type": "markdown",
   "id": "873873a4",
   "metadata": {
    "papermill": {
     "duration": 0.004454,
     "end_time": "2024-06-26T04:09:48.310150",
     "exception": false,
     "start_time": "2024-06-26T04:09:48.305696",
     "status": "completed"
    },
    "tags": []
   },
   "source": [
    "# Create HTML index"
   ]
  },
  {
   "cell_type": "code",
   "execution_count": 10,
   "id": "cf665672",
   "metadata": {
    "execution": {
     "iopub.execute_input": "2024-06-26T04:09:48.320192Z",
     "iopub.status.busy": "2024-06-26T04:09:48.319674Z",
     "iopub.status.idle": "2024-06-26T04:09:48.326689Z",
     "shell.execute_reply": "2024-06-26T04:09:48.326072Z"
    },
    "papermill": {
     "duration": 0.013389,
     "end_time": "2024-06-26T04:09:48.327951",
     "exception": false,
     "start_time": "2024-06-26T04:09:48.314562",
     "status": "completed"
    },
    "tags": []
   },
   "outputs": [
    {
     "name": "stdout",
     "output_type": "stream",
     "text": [
      "104  publications files modified in the last 7 days.\n"
     ]
    }
   ],
   "source": [
    "from datetime import datetime, timedelta, timezone\n",
    "from glob import glob\n",
    "import os\n",
    "\n",
    "files = glob('_build/html/*.md')\n",
    "days = 7\n",
    "now = datetime.today()\n",
    "res = []\n",
    "for fk in files:\n",
    "    stat_result = os.stat(fk).st_ctime\n",
    "    modified = datetime.fromtimestamp(stat_result, tz=timezone.utc).replace(tzinfo=None)\n",
    "    delta = now.today() - modified\n",
    "    if delta <= timedelta(days=days):\n",
    "        res.append((delta.seconds, fk))\n",
    "res = [k[1] for k in reversed(sorted(res, key=lambda x:x[1]))]\n",
    "npub = len(res)\n",
    "print(len(res), f\" publications files modified in the last {days:d} days.\")\n",
    "# [ print('\\t', k) for k in res ];"
   ]
  },
  {
   "cell_type": "code",
   "execution_count": 11,
   "id": "015de740",
   "metadata": {
    "execution": {
     "iopub.execute_input": "2024-06-26T04:09:48.338127Z",
     "iopub.status.busy": "2024-06-26T04:09:48.337687Z",
     "iopub.status.idle": "2024-06-26T04:09:48.349306Z",
     "shell.execute_reply": "2024-06-26T04:09:48.348663Z"
    },
    "papermill": {
     "duration": 0.018304,
     "end_time": "2024-06-26T04:09:48.350749",
     "exception": false,
     "start_time": "2024-06-26T04:09:48.332445",
     "status": "completed"
    },
    "tags": []
   },
   "outputs": [
    {
     "name": "stdout",
     "output_type": "stream",
     "text": [
      "7  publications in the last 7 days.\n"
     ]
    }
   ],
   "source": [
    "import datetime\n",
    "from glob import glob\n",
    "\n",
    "def get_last_n_days(lst, days=1):\n",
    "    \"\"\" Get the documents from the last n days \"\"\"\n",
    "    sorted_lst = sorted(lst, key=lambda x: x[1], reverse=True)\n",
    "    for fname, date in sorted_lst:\n",
    "        if date >= str(datetime.date.today() - datetime.timedelta(days=days)):\n",
    "            yield fname\n",
    "\n",
    "def extract_appearance_dates(lst_file):\n",
    "    dates = []\n",
    "\n",
    "    def get_date(line):\n",
    "        return line\\\n",
    "            .split('Appeared on:')[-1]\\\n",
    "            .split('</mark>')[0].strip()\n",
    "\n",
    "    for fname in lst:\n",
    "        with open(fname, 'r') as f:\n",
    "            found_date = False\n",
    "            for line in f:\n",
    "                if not found_date:\n",
    "                    if \"Appeared on\" in line:\n",
    "                        found_date = True\n",
    "                        dates.append((fname, get_date(line)))\n",
    "                else:\n",
    "                    break\n",
    "    return dates\n",
    "\n",
    "from glob import glob\n",
    "lst = glob('_build/html/*md')\n",
    "days = 7\n",
    "dates = extract_appearance_dates(lst)\n",
    "res = list(get_last_n_days(dates, days))\n",
    "npub = len(res)\n",
    "print(len(res), f\" publications in the last {days:d} days.\")"
   ]
  },
  {
   "cell_type": "code",
   "execution_count": 12,
   "id": "52ca0208",
   "metadata": {
    "execution": {
     "iopub.execute_input": "2024-06-26T04:09:48.361043Z",
     "iopub.status.busy": "2024-06-26T04:09:48.360518Z",
     "iopub.status.idle": "2024-06-26T04:09:48.365515Z",
     "shell.execute_reply": "2024-06-26T04:09:48.364867Z"
    },
    "papermill": {
     "duration": 0.011464,
     "end_time": "2024-06-26T04:09:48.366768",
     "exception": false,
     "start_time": "2024-06-26T04:09:48.355304",
     "status": "completed"
    },
    "scrolled": false,
    "tags": []
   },
   "outputs": [],
   "source": [
    "def create_carousel(npub=4):\n",
    "    \"\"\" Generate the HTML code for a carousel with `npub` slides \"\"\"\n",
    "    carousel = [\"\"\"  <div class=\"carousel\" \"\"\",\n",
    "                \"\"\"       data-flickity='{ \"autoPlay\": 10000, \"adaptiveHeight\": true, \"resize\": true, \"wrapAround\": true, \"pauseAutoPlayOnHover\": true, \"groupCells\": 1 }' id=\"asyncTypeset\">\"\"\"\n",
    "                ]\n",
    "    \n",
    "    item_str = \"\"\"    <div class=\"carousel-cell\"> <div id=\"slide{k}\" class=\"md_view\">Content {k}</div> </div>\"\"\"\n",
    "    for k in range(1, npub + 1):\n",
    "        carousel.append(item_str.format(k=k))\n",
    "    carousel.append(\"  </div>\")\n",
    "    return '\\n'.join(carousel)\n",
    "\n",
    "def create_grid(npub=4):\n",
    "    \"\"\" Generate the HTML code for a flat grid with `npub` slides \"\"\"\n",
    "    grid = [\"\"\"  <div class=\"grid\"> \"\"\",\n",
    "                ]\n",
    "    \n",
    "    item_str = \"\"\"    <div class=\"grid-item\"> <div id=\"slide{k}\" class=\"md_view\">Content {k}</div> </div>\"\"\"\n",
    "    for k in range(1, npub + 1):\n",
    "        grid.append(item_str.format(k=k))\n",
    "    grid.append(\"  </div>\")\n",
    "    return '\\n'.join(grid)"
   ]
  },
  {
   "cell_type": "code",
   "execution_count": 13,
   "id": "a6eac5b6",
   "metadata": {
    "execution": {
     "iopub.execute_input": "2024-06-26T04:09:48.376797Z",
     "iopub.status.busy": "2024-06-26T04:09:48.376608Z",
     "iopub.status.idle": "2024-06-26T04:09:48.381584Z",
     "shell.execute_reply": "2024-06-26T04:09:48.381036Z"
    },
    "papermill": {
     "duration": 0.011611,
     "end_time": "2024-06-26T04:09:48.382941",
     "exception": false,
     "start_time": "2024-06-26T04:09:48.371330",
     "status": "completed"
    },
    "scrolled": false,
    "tags": []
   },
   "outputs": [],
   "source": [
    "carousel = create_carousel(npub)\n",
    "docs = ', '.join(['\"{0:s}\"'.format(k.split('/')[-1]) for k in res])\n",
    "slides = ', '.join([f'\"slide{k}\"' for k in range(1, npub + 1)])\n",
    "\n",
    "with open(\"daily_template.html\", \"r\") as tpl:\n",
    "    page = tpl.read()\n",
    "    page = page.replace(\"{%-- carousel:s --%}\", carousel)\\\n",
    "               .replace(\"{%-- suptitle:s --%}\",  \"7-day archives\" )\\\n",
    "               .replace(\"{%-- docs:s --%}\", docs)\\\n",
    "               .replace(\"{%-- slides:s --%}\", slides)\n",
    "    \n",
    "with open(\"_build/html/index_7days.html\", 'w') as fout:\n",
    "    fout.write(page)"
   ]
  },
  {
   "cell_type": "code",
   "execution_count": 14,
   "id": "adc1a1ec",
   "metadata": {
    "execution": {
     "iopub.execute_input": "2024-06-26T04:09:48.393094Z",
     "iopub.status.busy": "2024-06-26T04:09:48.392906Z",
     "iopub.status.idle": "2024-06-26T04:09:48.399237Z",
     "shell.execute_reply": "2024-06-26T04:09:48.398691Z"
    },
    "papermill": {
     "duration": 0.012838,
     "end_time": "2024-06-26T04:09:48.400498",
     "exception": false,
     "start_time": "2024-06-26T04:09:48.387660",
     "status": "completed"
    },
    "tags": []
   },
   "outputs": [
    {
     "name": "stdout",
     "output_type": "stream",
     "text": [
      "3  publications in the last day.\n"
     ]
    }
   ],
   "source": [
    "# redo for today\n",
    "days = 1\n",
    "res = list(get_last_n_days(dates, days))\n",
    "npub = len(res)\n",
    "print(len(res), f\" publications in the last day.\")\n",
    "\n",
    "carousel = create_carousel(npub)\n",
    "docs = ', '.join(['\"{0:s}\"'.format(k.split('/')[-1]) for k in res])\n",
    "slides = ', '.join([f'\"slide{k}\"' for k in range(1, npub + 1)])\n",
    "\n",
    "with open(\"daily_template.html\", \"r\") as tpl:\n",
    "    page = tpl.read()\n",
    "    page = page.replace(\"{%-- carousel:s --%}\", carousel)\\\n",
    "               .replace(\"{%-- suptitle:s --%}\",  \"Daily\" )\\\n",
    "               .replace(\"{%-- docs:s --%}\", docs)\\\n",
    "               .replace(\"{%-- slides:s --%}\", slides)\n",
    "    \n",
    "# print(carousel, docs, slides)\n",
    "# print(page)\n",
    "with open(\"_build/html/index_daily.html\", 'w') as fout:\n",
    "    fout.write(page)"
   ]
  },
  {
   "cell_type": "code",
   "execution_count": 15,
   "id": "00eece82",
   "metadata": {
    "execution": {
     "iopub.execute_input": "2024-06-26T04:09:48.411061Z",
     "iopub.status.busy": "2024-06-26T04:09:48.410623Z",
     "iopub.status.idle": "2024-06-26T04:09:48.416982Z",
     "shell.execute_reply": "2024-06-26T04:09:48.416405Z"
    },
    "papermill": {
     "duration": 0.013169,
     "end_time": "2024-06-26T04:09:48.418360",
     "exception": false,
     "start_time": "2024-06-26T04:09:48.405191",
     "status": "completed"
    },
    "scrolled": false,
    "tags": []
   },
   "outputs": [
    {
     "name": "stdout",
     "output_type": "stream",
     "text": [
      "6  6 publications selected.\n"
     ]
    }
   ],
   "source": [
    "# Create the flat grid of the last N papers (fixed number regardless of dates)\n",
    "from itertools import islice \n",
    "\n",
    "npub = 6\n",
    "res = [k[0] for k in (islice(reversed(sorted(dates, key=lambda x: x[1])), 6))]\n",
    "print(len(res), f\" {npub} publications selected.\")\n",
    "\n",
    "grid = create_grid(npub)\n",
    "docs = ', '.join(['\"{0:s}\"'.format(k.split('/')[-1]) for k in res])\n",
    "slides = ', '.join([f'\"slide{k}\"' for k in range(1, npub + 1)])\n",
    "\n",
    "with open(\"grid_template.html\", \"r\") as tpl:\n",
    "    page = tpl.read()\n",
    "    page = page.replace(\"{%-- grid-content:s --%}\", grid)\\\n",
    "               .replace(\"{%-- suptitle:s --%}\",  f\"Last {npub:,d} papers\" )\\\n",
    "               .replace(\"{%-- docs:s --%}\", docs)\\\n",
    "               .replace(\"{%-- slides:s --%}\", slides)\n",
    "    \n",
    "# print(grid, docs, slides)\n",
    "# print(page)\n",
    "with open(\"_build/html/index_npub_grid.html\", 'w') as fout:\n",
    "    fout.write(page)"
   ]
  }
 ],
 "metadata": {
  "kernelspec": {
   "display_name": "Python 3 (ipykernel)",
   "language": "python",
   "name": "python3"
  },
  "language_info": {
   "codemirror_mode": {
    "name": "ipython",
    "version": 3
   },
   "file_extension": ".py",
   "mimetype": "text/x-python",
   "name": "python",
   "nbconvert_exporter": "python",
   "pygments_lexer": "ipython3",
   "version": "3.9.19"
  },
  "papermill": {
   "default_parameters": {},
   "duration": 53.985839,
   "end_time": "2024-06-26T04:09:48.640391",
   "environment_variables": {},
   "exception": null,
   "input_path": "MPIA daily digest.ipynb",
   "output_path": "log.ipynb",
   "parameters": {},
   "start_time": "2024-06-26T04:08:54.654552",
   "version": "2.6.0"
  },
  "vscode": {
   "interpreter": {
    "hash": "aee8b7b246df8f9039afb4144a1f6fd8d2ca17a180786b69acc140d282b71a49"
   }
  },
  "widgets": {
   "application/vnd.jupyter.widget-state+json": {
    "state": {
     "17e701a13d75408ebc88f49fd5adbd55": {
      "model_module": "@jupyter-widgets/controls",
      "model_module_version": "2.0.0",
      "model_name": "HTMLStyleModel",
      "state": {
       "_model_module": "@jupyter-widgets/controls",
       "_model_module_version": "2.0.0",
       "_model_name": "HTMLStyleModel",
       "_view_count": null,
       "_view_module": "@jupyter-widgets/base",
       "_view_module_version": "2.0.0",
       "_view_name": "StyleView",
       "background": null,
       "description_width": "",
       "font_size": null,
       "text_color": null
      }
     },
     "1ca3a52c851a448cb9d9af2776878e39": {
      "model_module": "@jupyter-widgets/controls",
      "model_module_version": "2.0.0",
      "model_name": "HTMLStyleModel",
      "state": {
       "_model_module": "@jupyter-widgets/controls",
       "_model_module_version": "2.0.0",
       "_model_name": "HTMLStyleModel",
       "_view_count": null,
       "_view_module": "@jupyter-widgets/base",
       "_view_module_version": "2.0.0",
       "_view_name": "StyleView",
       "background": null,
       "description_width": "",
       "font_size": null,
       "text_color": null
      }
     },
     "41377954e2494d50a5ebd340ae0acaf0": {
      "model_module": "@jupyter-widgets/base",
      "model_module_version": "2.0.0",
      "model_name": "LayoutModel",
      "state": {
       "_model_module": "@jupyter-widgets/base",
       "_model_module_version": "2.0.0",
       "_model_name": "LayoutModel",
       "_view_count": null,
       "_view_module": "@jupyter-widgets/base",
       "_view_module_version": "2.0.0",
       "_view_name": "LayoutView",
       "align_content": null,
       "align_items": null,
       "align_self": null,
       "border_bottom": null,
       "border_left": null,
       "border_right": null,
       "border_top": null,
       "bottom": null,
       "display": null,
       "flex": null,
       "flex_flow": null,
       "grid_area": null,
       "grid_auto_columns": null,
       "grid_auto_flow": null,
       "grid_auto_rows": null,
       "grid_column": null,
       "grid_gap": null,
       "grid_row": null,
       "grid_template_areas": null,
       "grid_template_columns": null,
       "grid_template_rows": null,
       "height": null,
       "justify_content": null,
       "justify_items": null,
       "left": null,
       "margin": null,
       "max_height": null,
       "max_width": null,
       "min_height": null,
       "min_width": null,
       "object_fit": null,
       "object_position": null,
       "order": null,
       "overflow": null,
       "padding": null,
       "right": null,
       "top": null,
       "visibility": null,
       "width": null
      }
     },
     "94e780f0e26b4bb0bd1192a410e9421c": {
      "model_module": "@jupyter-widgets/base",
      "model_module_version": "2.0.0",
      "model_name": "LayoutModel",
      "state": {
       "_model_module": "@jupyter-widgets/base",
       "_model_module_version": "2.0.0",
       "_model_name": "LayoutModel",
       "_view_count": null,
       "_view_module": "@jupyter-widgets/base",
       "_view_module_version": "2.0.0",
       "_view_name": "LayoutView",
       "align_content": null,
       "align_items": null,
       "align_self": null,
       "border_bottom": null,
       "border_left": null,
       "border_right": null,
       "border_top": null,
       "bottom": null,
       "display": null,
       "flex": null,
       "flex_flow": null,
       "grid_area": null,
       "grid_auto_columns": null,
       "grid_auto_flow": null,
       "grid_auto_rows": null,
       "grid_column": null,
       "grid_gap": null,
       "grid_row": null,
       "grid_template_areas": null,
       "grid_template_columns": null,
       "grid_template_rows": null,
       "height": null,
       "justify_content": null,
       "justify_items": null,
       "left": null,
       "margin": null,
       "max_height": null,
       "max_width": null,
       "min_height": null,
       "min_width": null,
       "object_fit": null,
       "object_position": null,
       "order": null,
       "overflow": null,
       "padding": null,
       "right": null,
       "top": null,
       "visibility": null,
       "width": null
      }
     },
     "9b33547a41ff4e3f8ca4377f14acc7c0": {
      "model_module": "@jupyter-widgets/controls",
      "model_module_version": "2.0.0",
      "model_name": "HTMLModel",
      "state": {
       "_dom_classes": [],
       "_model_module": "@jupyter-widgets/controls",
       "_model_module_version": "2.0.0",
       "_model_name": "HTMLModel",
       "_view_count": null,
       "_view_module": "@jupyter-widgets/controls",
       "_view_module_version": "2.0.0",
       "_view_name": "HTMLView",
       "description": "",
       "description_allow_html": false,
       "layout": "IPY_MODEL_b72123c3473e4fa4b04907efa2b8a8bc",
       "placeholder": "​",
       "style": "IPY_MODEL_1ca3a52c851a448cb9d9af2776878e39",
       "tabbable": null,
       "tooltip": null,
       "value": " 2/2 [00:34&lt;00:00, 14.67s/it]"
      }
     },
     "a8d77b39d5694170be82b8aed1a1168c": {
      "model_module": "@jupyter-widgets/controls",
      "model_module_version": "2.0.0",
      "model_name": "HBoxModel",
      "state": {
       "_dom_classes": [],
       "_model_module": "@jupyter-widgets/controls",
       "_model_module_version": "2.0.0",
       "_model_name": "HBoxModel",
       "_view_count": null,
       "_view_module": "@jupyter-widgets/controls",
       "_view_module_version": "2.0.0",
       "_view_name": "HBoxView",
       "box_style": "",
       "children": [
        "IPY_MODEL_f6a86aca2dc043438c1b2ed04f6962f9",
        "IPY_MODEL_dcfb199337b54c11ad4a9c131a54b38e",
        "IPY_MODEL_9b33547a41ff4e3f8ca4377f14acc7c0"
       ],
       "layout": "IPY_MODEL_b4fe29fef0334088809b4b552c5a5087",
       "tabbable": null,
       "tooltip": null
      }
     },
     "b4fe29fef0334088809b4b552c5a5087": {
      "model_module": "@jupyter-widgets/base",
      "model_module_version": "2.0.0",
      "model_name": "LayoutModel",
      "state": {
       "_model_module": "@jupyter-widgets/base",
       "_model_module_version": "2.0.0",
       "_model_name": "LayoutModel",
       "_view_count": null,
       "_view_module": "@jupyter-widgets/base",
       "_view_module_version": "2.0.0",
       "_view_name": "LayoutView",
       "align_content": null,
       "align_items": null,
       "align_self": null,
       "border_bottom": null,
       "border_left": null,
       "border_right": null,
       "border_top": null,
       "bottom": null,
       "display": null,
       "flex": null,
       "flex_flow": null,
       "grid_area": null,
       "grid_auto_columns": null,
       "grid_auto_flow": null,
       "grid_auto_rows": null,
       "grid_column": null,
       "grid_gap": null,
       "grid_row": null,
       "grid_template_areas": null,
       "grid_template_columns": null,
       "grid_template_rows": null,
       "height": null,
       "justify_content": null,
       "justify_items": null,
       "left": null,
       "margin": null,
       "max_height": null,
       "max_width": null,
       "min_height": null,
       "min_width": null,
       "object_fit": null,
       "object_position": null,
       "order": null,
       "overflow": null,
       "padding": null,
       "right": null,
       "top": null,
       "visibility": null,
       "width": null
      }
     },
     "b72123c3473e4fa4b04907efa2b8a8bc": {
      "model_module": "@jupyter-widgets/base",
      "model_module_version": "2.0.0",
      "model_name": "LayoutModel",
      "state": {
       "_model_module": "@jupyter-widgets/base",
       "_model_module_version": "2.0.0",
       "_model_name": "LayoutModel",
       "_view_count": null,
       "_view_module": "@jupyter-widgets/base",
       "_view_module_version": "2.0.0",
       "_view_name": "LayoutView",
       "align_content": null,
       "align_items": null,
       "align_self": null,
       "border_bottom": null,
       "border_left": null,
       "border_right": null,
       "border_top": null,
       "bottom": null,
       "display": null,
       "flex": null,
       "flex_flow": null,
       "grid_area": null,
       "grid_auto_columns": null,
       "grid_auto_flow": null,
       "grid_auto_rows": null,
       "grid_column": null,
       "grid_gap": null,
       "grid_row": null,
       "grid_template_areas": null,
       "grid_template_columns": null,
       "grid_template_rows": null,
       "height": null,
       "justify_content": null,
       "justify_items": null,
       "left": null,
       "margin": null,
       "max_height": null,
       "max_width": null,
       "min_height": null,
       "min_width": null,
       "object_fit": null,
       "object_position": null,
       "order": null,
       "overflow": null,
       "padding": null,
       "right": null,
       "top": null,
       "visibility": null,
       "width": null
      }
     },
     "c03f61b7d38f445888eeb438302ab221": {
      "model_module": "@jupyter-widgets/controls",
      "model_module_version": "2.0.0",
      "model_name": "ProgressStyleModel",
      "state": {
       "_model_module": "@jupyter-widgets/controls",
       "_model_module_version": "2.0.0",
       "_model_name": "ProgressStyleModel",
       "_view_count": null,
       "_view_module": "@jupyter-widgets/base",
       "_view_module_version": "2.0.0",
       "_view_name": "StyleView",
       "bar_color": null,
       "description_width": ""
      }
     },
     "dcfb199337b54c11ad4a9c131a54b38e": {
      "model_module": "@jupyter-widgets/controls",
      "model_module_version": "2.0.0",
      "model_name": "FloatProgressModel",
      "state": {
       "_dom_classes": [],
       "_model_module": "@jupyter-widgets/controls",
       "_model_module_version": "2.0.0",
       "_model_name": "FloatProgressModel",
       "_view_count": null,
       "_view_module": "@jupyter-widgets/controls",
       "_view_module_version": "2.0.0",
       "_view_name": "ProgressView",
       "bar_style": "success",
       "description": "",
       "description_allow_html": false,
       "layout": "IPY_MODEL_41377954e2494d50a5ebd340ae0acaf0",
       "max": 2.0,
       "min": 0.0,
       "orientation": "horizontal",
       "style": "IPY_MODEL_c03f61b7d38f445888eeb438302ab221",
       "tabbable": null,
       "tooltip": null,
       "value": 2.0
      }
     },
     "f6a86aca2dc043438c1b2ed04f6962f9": {
      "model_module": "@jupyter-widgets/controls",
      "model_module_version": "2.0.0",
      "model_name": "HTMLModel",
      "state": {
       "_dom_classes": [],
       "_model_module": "@jupyter-widgets/controls",
       "_model_module_version": "2.0.0",
       "_model_name": "HTMLModel",
       "_view_count": null,
       "_view_module": "@jupyter-widgets/controls",
       "_view_module_version": "2.0.0",
       "_view_name": "HTMLView",
       "description": "",
       "description_allow_html": false,
       "layout": "IPY_MODEL_94e780f0e26b4bb0bd1192a410e9421c",
       "placeholder": "​",
       "style": "IPY_MODEL_17e701a13d75408ebc88f49fd5adbd55",
       "tabbable": null,
       "tooltip": null,
       "value": "100%"
      }
     }
    },
    "version_major": 2,
    "version_minor": 0
   }
  }
 },
 "nbformat": 4,
 "nbformat_minor": 5
}