{
 "cells": [
  {
   "cell_type": "markdown",
   "id": "92bcb855",
   "metadata": {
    "papermill": {
     "duration": 0.003758,
     "end_time": "2025-02-12T04:10:58.763320",
     "exception": false,
     "start_time": "2025-02-12T04:10:58.759562",
     "status": "completed"
    },
    "tags": []
   },
   "source": [
    "# MPIA Arxiv on Deck 2\n",
    "\n",
    "Contains the steps to produce the paper extractions."
   ]
  },
  {
   "cell_type": "code",
   "execution_count": 1,
   "id": "3a0d6e11",
   "metadata": {
    "execution": {
     "iopub.execute_input": "2025-02-12T04:10:58.770467Z",
     "iopub.status.busy": "2025-02-12T04:10:58.770057Z",
     "iopub.status.idle": "2025-02-12T04:10:59.334871Z",
     "shell.execute_reply": "2025-02-12T04:10:59.334149Z"
    },
    "papermill": {
     "duration": 0.569776,
     "end_time": "2025-02-12T04:10:59.336310",
     "exception": false,
     "start_time": "2025-02-12T04:10:58.766534",
     "status": "completed"
    },
    "tags": []
   },
   "outputs": [],
   "source": [
    "# Imports\n",
    "import os\n",
    "from IPython.display import Markdown, display\n",
    "from tqdm.notebook import tqdm\n",
    "import warnings\n",
    "from PIL import Image \n",
    "import re\n",
    "\n",
    "# requires arxiv_on_deck_2\n",
    "\n",
    "from arxiv_on_deck_2.arxiv2 import (get_new_papers, \n",
    "                                    get_paper_from_identifier,\n",
    "                                    retrieve_document_source, \n",
    "                                    get_markdown_badge)\n",
    "from arxiv_on_deck_2 import (latex,\n",
    "                             latex_bib,\n",
    "                             mpia,\n",
    "                             highlight_authors_in_list)\n",
    "\n",
    "# Sometimes images are really big\n",
    "Image.MAX_IMAGE_PIXELS = 1000000000 "
   ]
  },
  {
   "cell_type": "code",
   "execution_count": 2,
   "id": "22aa9d44",
   "metadata": {
    "execution": {
     "iopub.execute_input": "2025-02-12T04:10:59.343710Z",
     "iopub.status.busy": "2025-02-12T04:10:59.343465Z",
     "iopub.status.idle": "2025-02-12T04:10:59.351073Z",
     "shell.execute_reply": "2025-02-12T04:10:59.350558Z"
    },
    "papermill": {
     "duration": 0.012543,
     "end_time": "2025-02-12T04:10:59.352067",
     "exception": false,
     "start_time": "2025-02-12T04:10:59.339524",
     "status": "completed"
    },
    "tags": []
   },
   "outputs": [],
   "source": [
    "# Some useful definitions.\n",
    "\n",
    "class AffiliationWarning(UserWarning):\n",
    "    pass\n",
    "\n",
    "class AffiliationError(RuntimeError):\n",
    "    pass\n",
    "\n",
    "def validation(source: str):\n",
    "    \"\"\"Raises error paper during parsing of source file\n",
    "    \n",
    "    Allows checks before parsing TeX code.\n",
    "    \n",
    "    Raises AffiliationWarning\n",
    "    \"\"\"\n",
    "    check = mpia.affiliation_verifications(source, verbose=True)\n",
    "    if check is not True:\n",
    "        raise AffiliationError(\"mpia.affiliation_verifications: \" + check)\n",
    "\n",
    "        \n",
    "warnings.simplefilter('always', AffiliationWarning)\n",
    "\n",
    "\n",
    "def get_markdown_qrcode(paper_id: str):\n",
    "    \"\"\" Generate a qrcode to the arxiv page using qrserver.com\n",
    "    \n",
    "    :param paper: Arxiv paper\n",
    "    :returns: markdown text\n",
    "    \"\"\"\n",
    "    url = r\"https://api.qrserver.com/v1/create-qr-code/?size=100x100&data=\"\n",
    "    txt = f\"\"\"<img src={url}\"https://arxiv.org/abs/{paper_id}\">\"\"\"\n",
    "    txt = '<div id=\"qrcode\">' + txt + '</div>'\n",
    "    return txt\n",
    "\n",
    "\n",
    "def clean_non_western_encoded_characters_commands(text: str) -> str:\n",
    "    \"\"\" Remove non-western encoded characters from a string\n",
    "    List may need to grow.\n",
    "    \n",
    "    :param text: the text to clean\n",
    "    :return: the cleaned text\n",
    "    \"\"\"\n",
    "    text = re.sub(r\"(\\\\begin{CJK}{UTF8}{gbsn})(.*?)(\\\\end{CJK})\", r\"\\2\", text)\n",
    "    return text\n",
    "\n",
    "\n",
    "def get_initials(name: str) -> str:\n",
    "    \"\"\" Get the short name, e.g., A.-B. FamName\n",
    "    :param name: full name\n",
    "    :returns: initials\n",
    "    \"\"\"\n",
    "    initials = []\n",
    "    # account for non western names often in ()\n",
    "    if '(' in name:\n",
    "        name = clean_non_western_encoded_characters_commands(name)\n",
    "        suffix = re.findall(r\"\\((.*?)\\)\", name)[0]\n",
    "        name = name.replace(f\"({suffix})\", '')\n",
    "    else:\n",
    "        suffix = ''\n",
    "    split = name.split()\n",
    "    for token in split[:-1]:\n",
    "        if '-' in token:\n",
    "            current = '-'.join([k[0] + '.' for k in token.split('-')])\n",
    "        else:\n",
    "            current = token[0] + '.'\n",
    "        initials.append(current)\n",
    "    initials.append(split[-1].strip())\n",
    "    if suffix:\n",
    "        initials.append(f\"({suffix})\")\n",
    "    return ' '.join(initials)"
   ]
  },
  {
   "cell_type": "markdown",
   "id": "14bd6310",
   "metadata": {
    "papermill": {
     "duration": 0.002847,
     "end_time": "2025-02-12T04:10:59.357836",
     "exception": false,
     "start_time": "2025-02-12T04:10:59.354989",
     "status": "completed"
    },
    "tags": []
   },
   "source": [
    "## get list of arxiv paper candidates\n",
    "\n",
    "We use the MPIA mitarbeiter list webpage from mpia.de to get author names\n",
    "We then get all new papers from Arxiv and match authors"
   ]
  },
  {
   "cell_type": "code",
   "execution_count": 3,
   "id": "7ea813a8",
   "metadata": {
    "execution": {
     "iopub.execute_input": "2025-02-12T04:10:59.364786Z",
     "iopub.status.busy": "2025-02-12T04:10:59.364324Z",
     "iopub.status.idle": "2025-02-12T04:11:18.006295Z",
     "shell.execute_reply": "2025-02-12T04:11:18.005663Z"
    },
    "papermill": {
     "duration": 18.646739,
     "end_time": "2025-02-12T04:11:18.007472",
     "exception": false,
     "start_time": "2025-02-12T04:10:59.360733",
     "status": "completed"
    },
    "tags": []
   },
   "outputs": [],
   "source": [
    "# deal with the author list and edge cases of people that cannot be consistent on their name  \n",
    "\n",
    "def filter_non_scientists(name: str) -> bool:\n",
    "    \"\"\" Loose filter on expected authorships\n",
    "\n",
    "    removing IT, administration, technical staff\n",
    "    :param name: name\n",
    "    :returns: False if name is not a scientist\n",
    "    \"\"\"\n",
    "    remove_list = ['Licht', 'Binroth', 'Witzel', 'Jordan',\n",
    "                   'Zähringer', 'Scheerer', 'Hoffmann', 'Düe',\n",
    "                   'Hellmich', 'Enkler-Scharpegge', 'Witte-Nguy',\n",
    "                   'Dehen', 'Beckmann', 'Jager', 'Jäger'\n",
    "                  ]\n",
    "\n",
    "    for k in remove_list:\n",
    "        if k in name:\n",
    "            return False\n",
    "    return True\n",
    "\n",
    "def add_author_to_list(author_list: list) -> list:\n",
    "    \"\"\" Add author to list if not already in list\n",
    "    \n",
    "    :param author: author name\n",
    "    :param author_list: list of authors\n",
    "    :returns: updated list of authors\n",
    "    \"\"\"\n",
    "    add_list = ['T. Henning']\n",
    "\n",
    "    for author in add_list:\n",
    "        if author not in author_list:\n",
    "            author_list.append(author)\n",
    "    return author_list\n",
    "\n",
    "# get list from MPIA website\n",
    "# filter for non-scientists (mpia.get_mpia_mitarbeiter_list() does some filtering)\n",
    "mpia_authors = [k[1] for k in mpia.get_mpia_mitarbeiter_list() if filter_non_scientists(k[1])]\n",
    "# add some missing author because of inconsistencies in their MPIA name and author name on papers\n",
    "mpia_authors = add_author_to_list(mpia_authors)"
   ]
  },
  {
   "cell_type": "code",
   "execution_count": 4,
   "id": "2645e73a",
   "metadata": {
    "execution": {
     "iopub.execute_input": "2025-02-12T04:11:18.014771Z",
     "iopub.status.busy": "2025-02-12T04:11:18.014390Z",
     "iopub.status.idle": "2025-02-12T04:11:18.642716Z",
     "shell.execute_reply": "2025-02-12T04:11:18.642012Z"
    },
    "papermill": {
     "duration": 0.633108,
     "end_time": "2025-02-12T04:11:18.643873",
     "exception": false,
     "start_time": "2025-02-12T04:11:18.010765",
     "status": "completed"
    },
    "tags": []
   },
   "outputs": [
    {
     "name": "stdout",
     "output_type": "stream",
     "text": [
      "R. Burn  ->  R. Burn  |  ['R. Burn']\n",
      "M. Benisty  ->  M. Benisty  |  ['M. Benisty']\n",
      "Arxiv has 53 new papers today\n",
      "          2 with possible author matches\n"
     ]
    }
   ],
   "source": [
    "new_papers = get_new_papers()\n",
    "# add manual references\n",
    "add_paper_refs = []\n",
    "new_papers.extend([get_paper_from_identifier(k) for k in add_paper_refs])\n",
    "\n",
    "def robust_call(fn, value, *args, **kwargs):\n",
    "    try:\n",
    "        return fn(value, *args, **kwargs)\n",
    "    except Exception:\n",
    "        return value\n",
    "\n",
    "candidates = []\n",
    "for paperk in new_papers:\n",
    "    # Check author list with their initials\n",
    "    normed_author_list = [robust_call(mpia.get_initials, k) for k in paperk['authors']]\n",
    "    hl_authors = highlight_authors_in_list(normed_author_list, mpia_authors, verbose=True)\n",
    "    matches = [(hl, orig) for hl, orig in zip(hl_authors, paperk['authors']) if 'mark' in hl]\n",
    "    paperk['authors'] = hl_authors\n",
    "    if matches:\n",
    "        # only select paper if an author matched our list\n",
    "        candidates.append(paperk)\n",
    "print(\"\"\"Arxiv has {0:,d} new papers today\"\"\".format(len(new_papers)))        \n",
    "print(\"\"\"          {0:,d} with possible author matches\"\"\".format(len(candidates)))"
   ]
  },
  {
   "cell_type": "markdown",
   "id": "3543b34a",
   "metadata": {
    "papermill": {
     "duration": 0.003032,
     "end_time": "2025-02-12T04:11:18.650398",
     "exception": false,
     "start_time": "2025-02-12T04:11:18.647366",
     "status": "completed"
    },
    "tags": []
   },
   "source": [
    "# Parse sources and generate relevant outputs\n",
    "\n",
    "From the candidates, we do the following steps:\n",
    "* get their tarball from ArXiv (and extract data)\n",
    "* find the main .tex file: find one with \\documentclass{...} (sometimes it's non trivial)\n",
    "* Check affiliations with :func:`validation`, which uses :func:`mpia.affiliation_verifications`\n",
    "* If passing the affiliations: we parse the .tex source\n",
    "   * inject sub-documents into the main (flatten the main document)\n",
    "   * parse structure, extract information (title, abstract, authors, figures...)\n",
    "   * handles `\\graphicspath` if provided\n",
    "* Generate the .md document."
   ]
  },
  {
   "cell_type": "code",
   "execution_count": 5,
   "id": "9576b79e",
   "metadata": {
    "execution": {
     "iopub.execute_input": "2025-02-12T04:11:18.657638Z",
     "iopub.status.busy": "2025-02-12T04:11:18.657158Z",
     "iopub.status.idle": "2025-02-12T04:11:37.423535Z",
     "shell.execute_reply": "2025-02-12T04:11:37.422825Z"
    },
    "papermill": {
     "duration": 18.771106,
     "end_time": "2025-02-12T04:11:37.424535",
     "exception": false,
     "start_time": "2025-02-12T04:11:18.653429",
     "status": "completed"
    },
    "scrolled": false,
    "tags": []
   },
   "outputs": [
    {
     "data": {
      "application/vnd.jupyter.widget-view+json": {
       "model_id": "631ee01342aa4145b8f06d58e155cc1d",
       "version_major": 2,
       "version_minor": 0
      },
      "text/plain": [
       "  0%|          | 0/2 [00:00<?, ?it/s]"
      ]
     },
     "metadata": {},
     "output_type": "display_data"
    },
    {
     "name": "stdout",
     "output_type": "stream",
     "text": [
      "Retrieving document from  https://arxiv.org/e-print/2502.07294\n"
     ]
    },
    {
     "name": "stdout",
     "output_type": "stream",
     "text": [
      "extracting tarball to tmp_2502.07294..."
     ]
    },
    {
     "name": "stdout",
     "output_type": "stream",
     "text": [
      " done.\n"
     ]
    },
    {
     "name": "stdout",
     "output_type": "stream",
     "text": [
      "R. Burn  ->  R. Burn  |  ['R. Burn']\n"
     ]
    },
    {
     "name": "stderr",
     "output_type": "stream",
     "text": [
      "/opt/hostedtoolcache/Python/3.9.21/x64/lib/python3.9/site-packages/arxiv_on_deck_2/latex.py:132: LatexWarning: attempting recovering figure pgplot\n",
      "  warnings.warn(LatexWarning(f'attempting recovering figure {image}'))\n",
      "/opt/hostedtoolcache/Python/3.9.21/x64/lib/python3.9/site-packages/arxiv_on_deck_2/latex.py:137: LatexWarning: Recovered figure pgplot as tmp_2502.07294/figures/pgplot.pdf\n",
      "  warnings.warn(LatexWarning(f'Recovered figure {image} as {fname}'))\n"
     ]
    },
    {
     "name": "stdout",
     "output_type": "stream",
     "text": [
      "Found 84 bibliographic references in tmp_2502.07294/sample631.bbl.\n",
      "Issues with the citations\n",
      "syntax error in line 172: '=' expected\n",
      "Retrieving document from  https://arxiv.org/e-print/2502.07759\n"
     ]
    },
    {
     "name": "stdout",
     "output_type": "stream",
     "text": [
      "extracting tarball to tmp_2502.07759..."
     ]
    },
    {
     "name": "stdout",
     "output_type": "stream",
     "text": [
      " done.\n"
     ]
    },
    {
     "name": "stdout",
     "output_type": "stream",
     "text": [
      "M. Benisty  ->  M. Benisty  |  ['M. Benisty']\n"
     ]
    },
    {
     "name": "stdout",
     "output_type": "stream",
     "text": [
      "Found 60 bibliographic references in tmp_2502.07759/sample631.bbl.\n"
     ]
    }
   ],
   "source": [
    "documents = []\n",
    "failed = []\n",
    "for paper in tqdm(candidates):\n",
    "    # debug crap\n",
    "    paper['identifier'] = paper['identifier'].lower().replace('arxiv:', '').replace(r'\\n', '').strip()\n",
    "    paper_id = paper['identifier']\n",
    "    \n",
    "    folder = f'tmp_{paper_id}'\n",
    "\n",
    "    try:\n",
    "        if not os.path.isdir(folder):\n",
    "            folder = retrieve_document_source(f\"{paper_id}\", f'tmp_{paper_id}')\n",
    "        \n",
    "        try:\n",
    "            doc = latex.LatexDocument(folder, validation=validation)    \n",
    "        except AffiliationError as affilerror:\n",
    "            msg = f\"ArXiv:{paper_id:s} is not an MPIA paper... \" + str(affilerror)\n",
    "            failed.append((paper, \"affiliation error: \" + str(affilerror) ))\n",
    "            continue\n",
    "        \n",
    "        # Hack because sometimes author parsing does not work well\n",
    "        if (len(doc.authors) != len(paper['authors'])):\n",
    "            doc._authors = paper['authors']\n",
    "        else:\n",
    "            # highlight authors (FIXME: doc.highlight_authors)\n",
    "            # done on arxiv paper already\n",
    "            doc._authors = highlight_authors_in_list(\n",
    "                [get_initials(k) for k in doc.authors], \n",
    "                mpia_authors, verbose=True)\n",
    "        if (doc.abstract) in (None, ''):\n",
    "            doc._abstract = paper['abstract']\n",
    "            \n",
    "        doc.comment = (get_markdown_badge(paper_id) + \n",
    "                       \"<mark>Appeared on: \" + paper['date'] + \"</mark> - \")\n",
    "        if paper['comments']:\n",
    "            doc.comment += \" _\" + paper['comments'] + \"_\"\n",
    "        \n",
    "        full_md = doc.generate_markdown_text()\n",
    "        \n",
    "        full_md += get_markdown_qrcode(paper_id)\n",
    "        \n",
    "        # replace citations\n",
    "        try:\n",
    "            bibdata = latex_bib.LatexBib.from_doc(doc)\n",
    "            full_md = latex_bib.replace_citations(full_md, bibdata)\n",
    "        except Exception as e:\n",
    "            print(\"Issues with the citations\")\n",
    "            print(e)\n",
    "        \n",
    "        documents.append((paper_id, full_md))\n",
    "    except Exception as e:\n",
    "        warnings.warn(latex.LatexWarning(f\"{paper_id:s} did not run properly\\n\" +\n",
    "                                         str(e)\n",
    "                                        ))\n",
    "        failed.append((paper, \"latex error \" + str(e)))"
   ]
  },
  {
   "cell_type": "markdown",
   "id": "2505a25c",
   "metadata": {
    "papermill": {
     "duration": 0.003669,
     "end_time": "2025-02-12T04:11:37.432293",
     "exception": false,
     "start_time": "2025-02-12T04:11:37.428624",
     "status": "completed"
    },
    "tags": []
   },
   "source": [
    "### Export the logs\n",
    "\n",
    "Throughout, we also keep track of the logs per paper. see `logs-{today date}.md` "
   ]
  },
  {
   "cell_type": "code",
   "execution_count": 6,
   "id": "d733828a",
   "metadata": {
    "execution": {
     "iopub.execute_input": "2025-02-12T04:11:37.440685Z",
     "iopub.status.busy": "2025-02-12T04:11:37.440262Z",
     "iopub.status.idle": "2025-02-12T04:11:37.452203Z",
     "shell.execute_reply": "2025-02-12T04:11:37.451580Z"
    },
    "papermill": {
     "duration": 0.017303,
     "end_time": "2025-02-12T04:11:37.453194",
     "exception": false,
     "start_time": "2025-02-12T04:11:37.435891",
     "status": "completed"
    },
    "scrolled": false,
    "tags": []
   },
   "outputs": [
    {
     "data": {
      "text/markdown": [
       "## Successful papers"
      ],
      "text/plain": [
       "<IPython.core.display.Markdown object>"
      ]
     },
     "metadata": {},
     "output_type": "display_data"
    },
    {
     "data": {
      "text/markdown": [
       "\n",
       "|||\n",
       "|---:|:---|\n",
       "| [![arXiv](https://img.shields.io/badge/arXiv-2502.07294-b31b1b.svg)](https://arxiv.org/abs/2502.07294) | **Estimate the Mass Escaping Rates of Radius-valley-spanning Planets in TOI-431 System via XUV Evaporation**  |\n",
       "|| X. Jiang, J. H. Jiang, <mark>R. Burn</mark>, Z.-H. Zhu |\n",
       "|*Appeared on*| *2025-02-12*|\n",
       "|*Comments*| *16 pages, 14 figures, 4 tabels. Accepted by ApJ*|\n",
       "|**Abstract**|            TOI-431 system has 3 close-in exoplanets, which gives an ideal lab to study gas escape. In this study, we measure the XUV luminosity for TOI-431 with XMM-Newton/EPIC-pn and OM data, then calculate the fluxes for the planets in the system. We find that, TOI-431 b's $\\rm F_{XUV,b}=$$70286^{+12060}_{-2611}$$\\rm \\ erg\\ cm^{-2}s^{-1}$ is 75 times of TOI-431 d $\\rm F_{XUV,d}=$$935^{+160}_{-35}$$\\rm \\ erg\\ cm^{-2}s^{-1}$. Adopting the energy limit method and hydrodynamic code $ATES$ with a set of He/H ratios, we obtain the mass-loss rates of $10^{10.51^{+0.07}_{-0.02}}$ g s$^{-1}$ for TOI-431 b, $10^{9.14^{+0.07}_{-0.02}}$ and $10^{9.84\\sim 9.94}$ g s$^{-1}$ for TOI-431 d. We predict the $2.93\\sim 7.91 \\%$ H I Ly$\\alpha$ and $0.19\\sim 10.65\\%$ He I triplet absorption depths for TOI-431 d, thus its gas escaping is detectable in principle. For both TOI-431 b and d, we select similar planets from the New Generation Planetary Population Synthesis (NGPPS) data. Then show that considering the mass-loss rates, TOI-431 b should be a naked solid planet, and TOI-431 d will likely maintain its gas envelope until the host star dies. According to the formation and evolution tracks, we find that TOI-431 b's potential birthplace (0.1-2 AU) should be inner than TOI-431 d (2-12 AU). Our results are consistent with the interpretation of the radius valley being caused by atmospheric escape. The intrinsic reason may be their birthplace, which will determine how close they can migrate to the host star, then lose mass and result in the Fulton gap.         |"
      ],
      "text/plain": [
       "[2502.07294] Estimate the Mass Escaping Rates of Radius-valley-spanning Planets in TOI-431 System via XUV Evaporation\n",
       "\tX. Jiang, J. H. Jiang, <mark>R. Burn</mark>, Z.-H. Zhu"
      ]
     },
     "metadata": {},
     "output_type": "display_data"
    },
    {
     "data": {
      "text/markdown": [
       "\n",
       "|||\n",
       "|---:|:---|\n",
       "| [![arXiv](https://img.shields.io/badge/arXiv-2502.07759-b31b1b.svg)](https://arxiv.org/abs/2502.07759) | **A Tentative Detection of a Point Source in the Disk Gap of HD 100546 with VLT/SPHERE-IRDIS Sparse Aperture Masking Interferometry**  |\n",
       "|| D. Blakely, et al. -- incl., <mark>M. Benisty</mark> |\n",
       "|*Appeared on*| *2025-02-12*|\n",
       "|*Comments*| *Accepted for publication in AJ*|\n",
       "|**Abstract**|            We re-analyze VLT/SPHERE-IRDIS K and H-band sparse aperture masking interferometry data of the transition disk HD 100546 observed in 2018 and 2021, respectively. We fit geometrical models to the closure phases extracted from both datasets. We compare three model classes: a forward scattering disk, a forward scattering disk plus an arbitrary asymmetric disk feature and a forward scattering disk plus an unresolved point source in the disk-gap. We find that the forward scattering disk plus point source model is the best representation of the data. We find that this point source candidate moved from a position of sep. = $39.9^{+2.8}_{-3.3}$ mas, P.A. = $124.1^{+1.0}_{-1.0}$ degrees to a sep. = $50.0^{+1.0}_{-1.0}$ mas, P.A. = $106.4^{+1.4}_{-1.4}$ degrees between 2018 and 2021. Both of these positions are well within the $\\sim$13 au ($\\sim$120 mas) disk-gap, favouring the point source interpretation. We explore the orbital parameter space that is consistent with the measured relative astrometry. We find orbits either with a similar orientation to the outer disk, with a high eccentricity $e \\gtrapprox 0.65$, or orbits with a large relative inclination ($\\sim$60 degrees) to the outer disk, and any eccentricity. Despite the significance of the observed point-source signal, follow-up observations will be necessary to conclusively determine its nature.         |"
      ],
      "text/plain": [
       "[2502.07759] A Tentative Detection of a Point Source in the Disk Gap of HD 100546 with VLT/SPHERE-IRDIS Sparse Aperture Masking Interferometry\n",
       "\tD. Blakely, et al. -- incl., <mark>M. Benisty</mark>"
      ]
     },
     "metadata": {},
     "output_type": "display_data"
    },
    {
     "data": {
      "text/markdown": [
       "## Failed papers"
      ],
      "text/plain": [
       "<IPython.core.display.Markdown object>"
      ]
     },
     "metadata": {},
     "output_type": "display_data"
    }
   ],
   "source": [
    "import datetime\n",
    "today = str(datetime.date.today())\n",
    "logfile = f\"_build/html/logs/log-{today}.md\"\n",
    "\n",
    "\n",
    "with open(logfile, 'w') as logs:\n",
    "    # Success\n",
    "    logs.write(f'# Arxiv on Deck 2: Logs - {today}\\n\\n')\n",
    "    logs.write(\"\"\"* Arxiv had {0:,d} new papers\\n\"\"\".format(len(new_papers)))\n",
    "    logs.write(\"\"\"    * {0:,d} with possible author matches\\n\\n\"\"\".format(len(candidates)))\n",
    "    logs.write(\"## Sucessful papers\\n\\n\")\n",
    "    display(Markdown(\"## Successful papers\"))\n",
    "    success = [k[0] for k in documents]\n",
    "    for candid in candidates:\n",
    "        if candid['identifier'].split(':')[-1] in success:\n",
    "            display(candid)\n",
    "            logs.write(candid.generate_markdown_text() + '\\n\\n')\n",
    "\n",
    "    ## failed\n",
    "    logs.write(\"## Failed papers\\n\\n\")\n",
    "    display(Markdown(\"## Failed papers\"))\n",
    "    failed = sorted(failed, key=lambda x: x[1])\n",
    "    current_reason = \"\"\n",
    "    for paper, reason in failed:\n",
    "        if 'affiliation' in reason:\n",
    "            color = 'green'\n",
    "        else:\n",
    "            color = 'red'\n",
    "        data = Markdown(\n",
    "                paper.generate_markdown_text() + \n",
    "                f'\\n|<p style=\"color:{color:s}\"> **ERROR** </p>| <p style=\"color:{color:s}\">{reason:s}</p> |'\n",
    "               )\n",
    "        if reason != current_reason:\n",
    "            logs.write(f'### {reason:s} \\n\\n')\n",
    "            current_reason = reason\n",
    "        logs.write(data.data + '\\n\\n')\n",
    "        \n",
    "        # only display here the important errors (all in logs)\n",
    "        # if color in ('red',):\n",
    "        display(data)"
   ]
  },
  {
   "cell_type": "markdown",
   "id": "472d20ee",
   "metadata": {
    "papermill": {
     "duration": 0.003939,
     "end_time": "2025-02-12T04:11:37.461175",
     "exception": false,
     "start_time": "2025-02-12T04:11:37.457236",
     "status": "completed"
    },
    "tags": []
   },
   "source": [
    "## Export documents\n",
    "\n",
    "We now write the .md files and export relevant images"
   ]
  },
  {
   "cell_type": "code",
   "execution_count": 7,
   "id": "d426aed9",
   "metadata": {
    "execution": {
     "iopub.execute_input": "2025-02-12T04:11:37.470243Z",
     "iopub.status.busy": "2025-02-12T04:11:37.469826Z",
     "iopub.status.idle": "2025-02-12T04:11:37.476656Z",
     "shell.execute_reply": "2025-02-12T04:11:37.476094Z"
    },
    "papermill": {
     "duration": 0.012302,
     "end_time": "2025-02-12T04:11:37.477554",
     "exception": false,
     "start_time": "2025-02-12T04:11:37.465252",
     "status": "completed"
    },
    "tags": []
   },
   "outputs": [],
   "source": [
    "def export_markdown_summary(md: str, md_fname:str, directory: str):\n",
    "    \"\"\"Export MD document and associated relevant images\"\"\"\n",
    "    import os\n",
    "    import shutil\n",
    "    import re\n",
    "\n",
    "    if (os.path.exists(directory) and not os.path.isdir(directory)):\n",
    "        raise RuntimeError(f\"a non-directory file exists with name {directory:s}\")\n",
    "\n",
    "    if (not os.path.exists(directory)):\n",
    "        print(f\"creating directory {directory:s}\")\n",
    "        os.mkdir(directory)\n",
    "\n",
    "    fig_fnames = (re.compile(r'\\[Fig.*\\]\\((.*)\\)').findall(md) + \n",
    "                  re.compile(r'\\<img src=\"([^>\\s]*)\"[^>]*/>').findall(md))\n",
    "    print(\"found figures\", fig_fnames)\n",
    "    for fname in fig_fnames:\n",
    "        if 'http' in fname:\n",
    "            # No need to copy online figures\n",
    "            continue\n",
    "        if not os.path.exists(fname):\n",
    "            print(\"file not found\", fname)\n",
    "            continue\n",
    "        print(\"copying \", fname, \"to\", directory)\n",
    "        destdir = os.path.join(directory, os.path.dirname(fname))\n",
    "        destfname = os.path.join(destdir, os.path.basename(fname))\n",
    "        try:\n",
    "            os.makedirs(destdir)\n",
    "        except FileExistsError:\n",
    "            pass\n",
    "        shutil.copy(fname, destfname)\n",
    "    with open(os.path.join(directory, md_fname), 'w') as fout:\n",
    "        fout.write(md)\n",
    "    print(\"exported in \", os.path.join(directory, md_fname))\n",
    "    [print(\"    + \" + os.path.join(directory,fk)) for fk in fig_fnames]"
   ]
  },
  {
   "cell_type": "code",
   "execution_count": 8,
   "id": "014d04a4",
   "metadata": {
    "execution": {
     "iopub.execute_input": "2025-02-12T04:11:37.486626Z",
     "iopub.status.busy": "2025-02-12T04:11:37.486214Z",
     "iopub.status.idle": "2025-02-12T04:11:37.496853Z",
     "shell.execute_reply": "2025-02-12T04:11:37.496232Z"
    },
    "papermill": {
     "duration": 0.016335,
     "end_time": "2025-02-12T04:11:37.497925",
     "exception": false,
     "start_time": "2025-02-12T04:11:37.481590",
     "status": "completed"
    },
    "tags": []
   },
   "outputs": [
    {
     "name": "stdout",
     "output_type": "stream",
     "text": [
      "found figures ['tmp_2502.07294/./figures/heh_mass_dot_all.png', 'tmp_2502.07294/./figures/density_profiles.png', 'tmp_2502.07294/./figures/transmission_all_ism_2.png']\n",
      "copying  tmp_2502.07294/./figures/heh_mass_dot_all.png to _build/html/\n",
      "copying  tmp_2502.07294/./figures/density_profiles.png to _build/html/\n",
      "copying  tmp_2502.07294/./figures/transmission_all_ism_2.png to _build/html/\n",
      "exported in  _build/html/2502.07294.md\n",
      "    + _build/html/tmp_2502.07294/./figures/heh_mass_dot_all.png\n",
      "    + _build/html/tmp_2502.07294/./figures/density_profiles.png\n",
      "    + _build/html/tmp_2502.07294/./figures/transmission_all_ism_2.png\n",
      "found figures ['tmp_2502.07759/./cornerplot.png', 'tmp_2502.07759/./chi2_plot.png', 'tmp_2502.07759/./orbit_plot_comb2.png']\n",
      "copying  tmp_2502.07759/./cornerplot.png to _build/html/\n",
      "copying  tmp_2502.07759/./chi2_plot.png to _build/html/\n",
      "copying  tmp_2502.07759/./orbit_plot_comb2.png to _build/html/\n",
      "exported in  _build/html/2502.07759.md\n",
      "    + _build/html/tmp_2502.07759/./cornerplot.png\n",
      "    + _build/html/tmp_2502.07759/./chi2_plot.png\n",
      "    + _build/html/tmp_2502.07759/./orbit_plot_comb2.png\n"
     ]
    }
   ],
   "source": [
    "for paper_id, md in documents:\n",
    "    export_markdown_summary(md, f\"{paper_id:s}.md\", '_build/html/')"
   ]
  },
  {
   "cell_type": "markdown",
   "id": "f087a0a7",
   "metadata": {
    "papermill": {
     "duration": 0.0041,
     "end_time": "2025-02-12T04:11:37.506256",
     "exception": false,
     "start_time": "2025-02-12T04:11:37.502156",
     "status": "completed"
    },
    "tags": []
   },
   "source": [
    "## Display the papers\n",
    "\n",
    "Not necessary but allows for a quick check."
   ]
  },
  {
   "cell_type": "code",
   "execution_count": 9,
   "id": "fd25f625",
   "metadata": {
    "execution": {
     "iopub.execute_input": "2025-02-12T04:11:37.515394Z",
     "iopub.status.busy": "2025-02-12T04:11:37.514914Z",
     "iopub.status.idle": "2025-02-12T04:11:37.520805Z",
     "shell.execute_reply": "2025-02-12T04:11:37.520206Z"
    },
    "papermill": {
     "duration": 0.011502,
     "end_time": "2025-02-12T04:11:37.521855",
     "exception": false,
     "start_time": "2025-02-12T04:11:37.510353",
     "status": "completed"
    },
    "scrolled": false,
    "tags": []
   },
   "outputs": [
    {
     "data": {
      "text/markdown": [
       "<div class=\"macros\" style=\"visibility:hidden;\">\n",
       "$\\newcommand{\\ensuremath}{}$\n",
       "$\\newcommand{\\xspace}{}$\n",
       "$\\newcommand{\\object}[1]{\\texttt{#1}}$\n",
       "$\\newcommand{\\farcs}{{.}''}$\n",
       "$\\newcommand{\\farcm}{{.}'}$\n",
       "$\\newcommand{\\arcsec}{''}$\n",
       "$\\newcommand{\\arcmin}{'}$\n",
       "$\\newcommand{\\ion}[2]{#1#2}$\n",
       "$\\newcommand{\\textsc}[1]{\\textrm{#1}}$\n",
       "$\\newcommand{\\hl}[1]{\\textrm{#1}}$\n",
       "$\\newcommand{\\footnote}[1]{}$\n",
       "$\\newcommand{\\vdag}{(v)^\\dagger}$\n",
       "$\\newcommand$\n",
       "$\\newcommand$</div>\n",
       "\n",
       "\n",
       "\n",
       "<div id=\"title\">\n",
       "\n",
       "# Estimate the Mass Escaping Rates of Radius-valley-spanning Planets in TOI-431 System via XUV Evaporation\n",
       "\n",
       "</div>\n",
       "<div id=\"comments\">\n",
       "\n",
       "[![arXiv](https://img.shields.io/badge/arXiv-2502.07294-b31b1b.svg)](https://arxiv.org/abs/2502.07294)<mark>Appeared on: 2025-02-12</mark> -  _16 pages, 14 figures, 4 tabels. Accepted by ApJ_\n",
       "\n",
       "</div>\n",
       "<div id=\"authors\">\n",
       "\n",
       "X. Jiang (蒋效铭), J. H. Jiang, <mark>R. Burn</mark>, Z.-H. Zhu\n",
       "\n",
       "</div>\n",
       "<div id=\"abstract\">\n",
       "\n",
       "**Abstract:** TOI-431 system has 3 close-in exoplanets, which gives an ideal lab to study gas escape.In this study, we measure the XUV luminosity for TOI-431 with XMM-Newton/EPIC-pn and OM data, then calculate the fluxes for the planets in the system. We find that, TOI-431 b's $\\rm F_{XUV,b}=70286^{+12060}_{-2611}\\rm  erg cm^{-2}s^{-1}$ is 75 times of TOI-431 d $\\rm F_{XUV,d}=935^{+160}_{-35}\\rm  erg cm^{-2}s^{-1}$ .Adopting the energy limit method and hydrodynamic code $ATES$ with a set of He/H ratios, we obtain the mass-loss rates of $10^{10.51^{+0.07}_{-0.02}}$ g s $^{-1}$ for TOI-431 b, $10^{9.14^{+0.07}_{-0.02}}$ and $10^{9.84\\sim 9.94}$ g s $^{-1}$ for TOI-431 d. We predict the $2.93\\sim 7.91 \\%$ H I Ly $\\alpha$ and $0.19\\sim 10.65\\%$ He I triplet absorption depths for TOI-431 d, thus its gas escaping is detectable in principle.For both TOI-431 b and d, we select similar planets from the New Generation Planetary Population Synthesis (NGPPS) data. Then show that considering the mass-loss rates, TOI-431 b should be a naked solid planet, and TOI-431 d will likely maintain its gas envelope until the host star dies.According to the formation and evolution tracks, we find that TOI-431 b's potential birthplace (0.1-2 AU) should be inner than TOI-431 d (2-12 AU).Our results are consistent with the interpretation of the radius valley being caused by atmospheric escape. The intrinsic reason may be their birthplace, which will determine how close they can migrate to the host star, then lose mass and result in the Fulton gap.\n",
       "\n",
       "</div>\n",
       "\n",
       "<div id=\"div_fig1\">\n",
       "\n",
       "<img src=\"tmp_2502.07294/./figures/heh_mass_dot_all.png\" alt=\"Fig8\" width=\"100%\"/>\n",
       "\n",
       "**Figure 8. -** **Left axis:** relation of He/H ratio and mass loss rate of TOI-431 d, HD205498 b, and GJ436 b from $ATES$(solid lines) and 3D model in \\cite{2018MNRAS.481.5315S}(dotted lines); **Right axis:** relation of He/H ratio and average molecular mass of the atmosphere (dashed line). (*fig:heh_mass_dot_all*)\n",
       "\n",
       "</div>\n",
       "<div id=\"div_fig2\">\n",
       "\n",
       "<img src=\"tmp_2502.07294/./figures/density_profiles.png\" alt=\"Fig9\" width=\"100%\"/>\n",
       "\n",
       "**Figure 9. -** Density profiles of different He/H ratios for GJ 436 b from $ATES$. As the He/H ratio increases, the atmosphere will fall down quickly. (*fig:density_profiles*)\n",
       "\n",
       "</div>\n",
       "<div id=\"div_fig3\">\n",
       "\n",
       "<img src=\"tmp_2502.07294/./figures/transmission_all_ism_2.png\" alt=\"Fig12\" width=\"100%\"/>\n",
       "\n",
       "**Figure 12. -** Theoretical intrinsic (solid) and ISM absorbed (dashed) transmission profiles of H I Ly$\\alpha$(the ISM absorbed depths values are listed after the intrinsic depths) and He I triplet for TOI-431 d with the uncertainties range derived from the mass-loss rate uncertainties. The theoretical intrinsic maximum H I Ly$\\alpha$ transit depths are almost unchanged $44.34\\%$ at 1215.6 $\\rm Å$, but with the ISM absorption, transit depths will decrease continually as He/H ratio goes up, and much weaker than the intrinsic transit depth. The He I triplet absorption depths at 10830.3 $\\rm Å$ will increase up to 10.65 $\\%$ at He/H of 0.5, then decrease as He/H goes up. (*figures/transmission_all_ism_2*)\n",
       "\n",
       "</div><div id=\"qrcode\"><img src=https://api.qrserver.com/v1/create-qr-code/?size=100x100&data=\"https://arxiv.org/abs/2502.07294\"></div>"
      ],
      "text/plain": [
       "<IPython.core.display.Markdown object>"
      ]
     },
     "metadata": {},
     "output_type": "display_data"
    },
    {
     "data": {
      "text/markdown": [
       "<div class=\"macros\" style=\"visibility:hidden;\">\n",
       "$\\newcommand{\\ensuremath}{}$\n",
       "$\\newcommand{\\xspace}{}$\n",
       "$\\newcommand{\\object}[1]{\\texttt{#1}}$\n",
       "$\\newcommand{\\farcs}{{.}''}$\n",
       "$\\newcommand{\\farcm}{{.}'}$\n",
       "$\\newcommand{\\arcsec}{''}$\n",
       "$\\newcommand{\\arcmin}{'}$\n",
       "$\\newcommand{\\ion}[2]{#1#2}$\n",
       "$\\newcommand{\\textsc}[1]{\\textrm{#1}}$\n",
       "$\\newcommand{\\hl}[1]{\\textrm{#1}}$\n",
       "$\\newcommand{\\footnote}[1]{}$\n",
       "$\\newcommand{\\vdag}{(v)^\\dagger}$\n",
       "$\\newcommand$\n",
       "$\\newcommand$\n",
       "$\\newcommand{\\dij}[1]{\\textcolor{brown}{#1}}$\n",
       "$\\newcommand{\\db}[1]{\\textcolor{red}{#1}}$\n",
       "$\\newcommand{\\bn}[1]{\\textcolor{magenta}{#1}}$</div>\n",
       "\n",
       "\n",
       "\n",
       "<div id=\"title\">\n",
       "\n",
       "# A Tentative Detection of a Point Source in the Disk Gap of HD 100546 with VLT/SPHERE-IRDIS Sparse Aperture Masking Interferometry $\\footnote{ Based on observations collected at the European Southern Observatory under ESO programmes 2100.C-5052(B), 105.2067.001}$\n",
       "\n",
       "</div>\n",
       "<div id=\"comments\">\n",
       "\n",
       "[![arXiv](https://img.shields.io/badge/arXiv-2502.07759-b31b1b.svg)](https://arxiv.org/abs/2502.07759)<mark>Appeared on: 2025-02-12</mark> -  _Accepted for publication in AJ_\n",
       "\n",
       "</div>\n",
       "<div id=\"authors\">\n",
       "\n",
       "D. Blakely, et al. -- incl., <mark>M. Benisty</mark>\n",
       "\n",
       "</div>\n",
       "<div id=\"abstract\">\n",
       "\n",
       "**Abstract:** We re-analyze VLT/SPHERE-IRDIS _K_ and _H_ -band sparse aperture masking interferometry data of the transition disk HD 100546 observed in 2018 and 2021, respectively. We fit geometrical models to the closure phases extracted from both datasets. We compare three model classes: a forward scattering disk, a forward scattering disk plus an arbitrary asymmetric disk feature and a forward scattering disk plus an unresolved point source in the disk-gap. ${We find that the forward scattering disk plus point source model is the best representation of the data.}$ We find that this point source candidate moved from a position of ${sep. = $39.9^{+2.8}_{-3.3}$ mas, P.A. = $124.1^{+1.0}_{-1.0}$ degrees to a sep. = $50.0^{+1.0}_{-1.0}$ mas, P.A. = $106.4^{+1.4}_{-1.4}$}$ degrees between 2018 and 2021. ${Both of these positions are well within the $\\sim$13 au ($\\sim$120 mas) disk-gap, favouring the point source interpretation}$ . We explore the orbital parameter space that is consistent with the measured relative astrometry. We find orbits either with a similar orientation to the outer disk, with a high eccentricity $e \\gtrapprox 0.65$ , or orbits with a large relative inclination ( $\\sim$ 60 degrees) to the outer disk, and any eccentricity.Despite the significance of the observed ${point-source}$ signal, follow-up observations will be necessary to conclusively determine its nature.\n",
       "\n",
       "</div>\n",
       "\n",
       "<div id=\"div_fig1\">\n",
       "\n",
       "<img src=\"tmp_2502.07759/./cornerplot.png\" alt=\"Fig7\" width=\"100%\"/>\n",
       "\n",
       "**Figure 7. -** Corner plot from the joint fit of the PG+PS model, with the disk geometry fixed between epochs, and the companion location allowed to vary. (*fig:corner_plot*)\n",
       "\n",
       "</div>\n",
       "<div id=\"div_fig2\">\n",
       "\n",
       "<img src=\"tmp_2502.07759/./chi2_plot.png\" alt=\"Fig4\" width=\"100%\"/>\n",
       "\n",
       "**Figure 4. -** {Reduced chi-squared ($\\chi^2_{r}$) maps, calculated by fitting a point source (binary) model to the residuals of the PG model fit, at each location (with a step size of 1 mas) within a radius of 125 mas. The significance of the 2018 detection is a $>$8$\\sigma$ result and the 2021 detection is a 5$\\sigma$ result, using the method by [Gallenne, Mérand and Kervella (2015)](). The 3$\\sigma$ credible interval contours on the location of the point source at each epoch are denoted by the teal (2018, left) and maroon (2021, right) contours.} The 90\\% and 50\\% contours of the disk from the single polar Gaussian (PG) fit are denoted by the black lines. (*fig:chi2_plot*)\n",
       "\n",
       "</div>\n",
       "<div id=\"div_fig3\">\n",
       "\n",
       "<img src=\"tmp_2502.07759/./orbit_plot_comb2.png\" alt=\"Fig6\" width=\"100%\"/>\n",
       "\n",
       "**Figure 6. -** The white contours show the {median model} disk component of the PG+PS model plotted on top of a $_K_s$_-band total intensity image of HD 100546 from [Ren, Benisty and Ginski (2023)]()(left) and ALMA band 6 data of HD 100546 from [Norfolk, Pinte and Calcino (2022)]()(right). The images are shown on a linear scale. In both panels, the location of the central star is denoted by the white star and the 3 $\\sigma$ credible interval on the point source positions from the joint fit to all datasets with the PG+PS model are shown by the teal (2018) and maroon (2021) contours. The beamsize of the ALMA image is shown in the bottom left corner of the right panel. 1000 randomly drawn orbits from the orbital fit posteriors are plotted on top of both images. Note that in the right panel the inner disk in the ALMA image is almost entirely occulted by the plotted orbits. (*fig:joint_fit*)\n",
       "\n",
       "</div><div id=\"qrcode\"><img src=https://api.qrserver.com/v1/create-qr-code/?size=100x100&data=\"https://arxiv.org/abs/2502.07759\"></div>"
      ],
      "text/plain": [
       "<IPython.core.display.Markdown object>"
      ]
     },
     "metadata": {},
     "output_type": "display_data"
    }
   ],
   "source": [
    "[display(Markdown(k[1])) for k in documents];"
   ]
  },
  {
   "cell_type": "markdown",
   "id": "873873a4",
   "metadata": {
    "papermill": {
     "duration": 0.004375,
     "end_time": "2025-02-12T04:11:37.530811",
     "exception": false,
     "start_time": "2025-02-12T04:11:37.526436",
     "status": "completed"
    },
    "tags": []
   },
   "source": [
    "# Create HTML index"
   ]
  },
  {
   "cell_type": "code",
   "execution_count": 10,
   "id": "cf665672",
   "metadata": {
    "execution": {
     "iopub.execute_input": "2025-02-12T04:11:37.541242Z",
     "iopub.status.busy": "2025-02-12T04:11:37.540730Z",
     "iopub.status.idle": "2025-02-12T04:11:37.549556Z",
     "shell.execute_reply": "2025-02-12T04:11:37.548995Z"
    },
    "papermill": {
     "duration": 0.014869,
     "end_time": "2025-02-12T04:11:37.550518",
     "exception": false,
     "start_time": "2025-02-12T04:11:37.535649",
     "status": "completed"
    },
    "tags": []
   },
   "outputs": [
    {
     "name": "stdout",
     "output_type": "stream",
     "text": [
      "331  publications files modified in the last 7 days.\n"
     ]
    }
   ],
   "source": [
    "from datetime import datetime, timedelta, timezone\n",
    "from glob import glob\n",
    "import os\n",
    "\n",
    "files = glob('_build/html/*.md')\n",
    "days = 7\n",
    "now = datetime.today()\n",
    "res = []\n",
    "for fk in files:\n",
    "    stat_result = os.stat(fk).st_ctime\n",
    "    modified = datetime.fromtimestamp(stat_result, tz=timezone.utc).replace(tzinfo=None)\n",
    "    delta = now.today() - modified\n",
    "    if delta <= timedelta(days=days):\n",
    "        res.append((delta.seconds, fk))\n",
    "res = [k[1] for k in reversed(sorted(res, key=lambda x:x[1]))]\n",
    "npub = len(res)\n",
    "print(len(res), f\" publications files modified in the last {days:d} days.\")\n",
    "# [ print('\\t', k) for k in res ];"
   ]
  },
  {
   "cell_type": "code",
   "execution_count": 11,
   "id": "015de740",
   "metadata": {
    "execution": {
     "iopub.execute_input": "2025-02-12T04:11:37.560624Z",
     "iopub.status.busy": "2025-02-12T04:11:37.560262Z",
     "iopub.status.idle": "2025-02-12T04:11:37.578637Z",
     "shell.execute_reply": "2025-02-12T04:11:37.577956Z"
    },
    "papermill": {
     "duration": 0.024487,
     "end_time": "2025-02-12T04:11:37.579655",
     "exception": false,
     "start_time": "2025-02-12T04:11:37.555168",
     "status": "completed"
    },
    "tags": []
   },
   "outputs": [
    {
     "name": "stdout",
     "output_type": "stream",
     "text": [
      "7  publications in the last 7 days.\n"
     ]
    }
   ],
   "source": [
    "import datetime\n",
    "from glob import glob\n",
    "\n",
    "def get_last_n_days(lst, days=1):\n",
    "    \"\"\" Get the documents from the last n days \"\"\"\n",
    "    sorted_lst = sorted(lst, key=lambda x: x[1], reverse=True)\n",
    "    for fname, date in sorted_lst:\n",
    "        if date >= str(datetime.date.today() - datetime.timedelta(days=days)):\n",
    "            yield fname\n",
    "\n",
    "def extract_appearance_dates(lst_file):\n",
    "    dates = []\n",
    "\n",
    "    def get_date(line):\n",
    "        return line\\\n",
    "            .split('Appeared on:')[-1]\\\n",
    "            .split('</mark>')[0].strip()\n",
    "\n",
    "    for fname in lst:\n",
    "        with open(fname, 'r') as f:\n",
    "            found_date = False\n",
    "            for line in f:\n",
    "                if not found_date:\n",
    "                    if \"Appeared on\" in line:\n",
    "                        found_date = True\n",
    "                        dates.append((fname, get_date(line)))\n",
    "                else:\n",
    "                    break\n",
    "    return dates\n",
    "\n",
    "from glob import glob\n",
    "lst = glob('_build/html/*md')\n",
    "days = 7\n",
    "dates = extract_appearance_dates(lst)\n",
    "res = list(get_last_n_days(dates, days))\n",
    "npub = len(res)\n",
    "print(len(res), f\" publications in the last {days:d} days.\")"
   ]
  },
  {
   "cell_type": "code",
   "execution_count": 12,
   "id": "52ca0208",
   "metadata": {
    "execution": {
     "iopub.execute_input": "2025-02-12T04:11:37.590234Z",
     "iopub.status.busy": "2025-02-12T04:11:37.589700Z",
     "iopub.status.idle": "2025-02-12T04:11:37.594770Z",
     "shell.execute_reply": "2025-02-12T04:11:37.594113Z"
    },
    "papermill": {
     "duration": 0.011233,
     "end_time": "2025-02-12T04:11:37.595769",
     "exception": false,
     "start_time": "2025-02-12T04:11:37.584536",
     "status": "completed"
    },
    "scrolled": false,
    "tags": []
   },
   "outputs": [],
   "source": [
    "def create_carousel(npub=4):\n",
    "    \"\"\" Generate the HTML code for a carousel with `npub` slides \"\"\"\n",
    "    carousel = [\"\"\"  <div class=\"carousel\" \"\"\",\n",
    "                \"\"\"       data-flickity='{ \"autoPlay\": 10000, \"adaptiveHeight\": true, \"resize\": true, \"wrapAround\": true, \"pauseAutoPlayOnHover\": true, \"groupCells\": 1 }' id=\"asyncTypeset\">\"\"\"\n",
    "                ]\n",
    "    \n",
    "    item_str = \"\"\"    <div class=\"carousel-cell\"> <div id=\"slide{k}\" class=\"md_view\">Content {k}</div> </div>\"\"\"\n",
    "    for k in range(1, npub + 1):\n",
    "        carousel.append(item_str.format(k=k))\n",
    "    carousel.append(\"  </div>\")\n",
    "    return '\\n'.join(carousel)\n",
    "\n",
    "def create_grid(npub=4):\n",
    "    \"\"\" Generate the HTML code for a flat grid with `npub` slides \"\"\"\n",
    "    grid = [\"\"\"  <div class=\"grid\"> \"\"\",\n",
    "                ]\n",
    "    \n",
    "    item_str = \"\"\"    <div class=\"grid-item\"> <div id=\"slide{k}\" class=\"md_view\">Content {k}</div> </div>\"\"\"\n",
    "    for k in range(1, npub + 1):\n",
    "        grid.append(item_str.format(k=k))\n",
    "    grid.append(\"  </div>\")\n",
    "    return '\\n'.join(grid)"
   ]
  },
  {
   "cell_type": "code",
   "execution_count": 13,
   "id": "a6eac5b6",
   "metadata": {
    "execution": {
     "iopub.execute_input": "2025-02-12T04:11:37.606171Z",
     "iopub.status.busy": "2025-02-12T04:11:37.605720Z",
     "iopub.status.idle": "2025-02-12T04:11:37.610755Z",
     "shell.execute_reply": "2025-02-12T04:11:37.610241Z"
    },
    "papermill": {
     "duration": 0.011284,
     "end_time": "2025-02-12T04:11:37.611753",
     "exception": false,
     "start_time": "2025-02-12T04:11:37.600469",
     "status": "completed"
    },
    "scrolled": false,
    "tags": []
   },
   "outputs": [],
   "source": [
    "carousel = create_carousel(npub)\n",
    "docs = ', '.join(['\"{0:s}\"'.format(k.split('/')[-1]) for k in res])\n",
    "slides = ', '.join([f'\"slide{k}\"' for k in range(1, npub + 1)])\n",
    "\n",
    "with open(\"daily_template.html\", \"r\") as tpl:\n",
    "    page = tpl.read()\n",
    "    page = page.replace(\"{%-- carousel:s --%}\", carousel)\\\n",
    "               .replace(\"{%-- suptitle:s --%}\",  \"7-day archives\" )\\\n",
    "               .replace(\"{%-- docs:s --%}\", docs)\\\n",
    "               .replace(\"{%-- slides:s --%}\", slides)\n",
    "    \n",
    "with open(\"_build/html/index_7days.html\", 'w') as fout:\n",
    "    fout.write(page)"
   ]
  },
  {
   "cell_type": "code",
   "execution_count": 14,
   "id": "adc1a1ec",
   "metadata": {
    "execution": {
     "iopub.execute_input": "2025-02-12T04:11:37.622393Z",
     "iopub.status.busy": "2025-02-12T04:11:37.621768Z",
     "iopub.status.idle": "2025-02-12T04:11:37.628673Z",
     "shell.execute_reply": "2025-02-12T04:11:37.628145Z"
    },
    "papermill": {
     "duration": 0.013148,
     "end_time": "2025-02-12T04:11:37.629695",
     "exception": false,
     "start_time": "2025-02-12T04:11:37.616547",
     "status": "completed"
    },
    "tags": []
   },
   "outputs": [
    {
     "name": "stdout",
     "output_type": "stream",
     "text": [
      "4  publications in the last day.\n"
     ]
    }
   ],
   "source": [
    "# redo for today\n",
    "days = 1\n",
    "res = list(get_last_n_days(dates, days))\n",
    "npub = len(res)\n",
    "print(len(res), f\" publications in the last day.\")\n",
    "\n",
    "carousel = create_carousel(npub)\n",
    "docs = ', '.join(['\"{0:s}\"'.format(k.split('/')[-1]) for k in res])\n",
    "slides = ', '.join([f'\"slide{k}\"' for k in range(1, npub + 1)])\n",
    "\n",
    "with open(\"daily_template.html\", \"r\") as tpl:\n",
    "    page = tpl.read()\n",
    "    page = page.replace(\"{%-- carousel:s --%}\", carousel)\\\n",
    "               .replace(\"{%-- suptitle:s --%}\",  \"Daily\" )\\\n",
    "               .replace(\"{%-- docs:s --%}\", docs)\\\n",
    "               .replace(\"{%-- slides:s --%}\", slides)\n",
    "    \n",
    "# print(carousel, docs, slides)\n",
    "# print(page)\n",
    "with open(\"_build/html/index_daily.html\", 'w') as fout:\n",
    "    fout.write(page)"
   ]
  },
  {
   "cell_type": "code",
   "execution_count": 15,
   "id": "00eece82",
   "metadata": {
    "execution": {
     "iopub.execute_input": "2025-02-12T04:11:37.640267Z",
     "iopub.status.busy": "2025-02-12T04:11:37.639794Z",
     "iopub.status.idle": "2025-02-12T04:11:37.646279Z",
     "shell.execute_reply": "2025-02-12T04:11:37.645723Z"
    },
    "papermill": {
     "duration": 0.012748,
     "end_time": "2025-02-12T04:11:37.647256",
     "exception": false,
     "start_time": "2025-02-12T04:11:37.634508",
     "status": "completed"
    },
    "scrolled": false,
    "tags": []
   },
   "outputs": [
    {
     "name": "stdout",
     "output_type": "stream",
     "text": [
      "6  6 publications selected.\n"
     ]
    }
   ],
   "source": [
    "# Create the flat grid of the last N papers (fixed number regardless of dates)\n",
    "from itertools import islice \n",
    "\n",
    "npub = 6\n",
    "res = [k[0] for k in (islice(reversed(sorted(dates, key=lambda x: x[1])), 6))]\n",
    "print(len(res), f\" {npub} publications selected.\")\n",
    "\n",
    "grid = create_grid(npub)\n",
    "docs = ', '.join(['\"{0:s}\"'.format(k.split('/')[-1]) for k in res])\n",
    "slides = ', '.join([f'\"slide{k}\"' for k in range(1, npub + 1)])\n",
    "\n",
    "with open(\"grid_template.html\", \"r\") as tpl:\n",
    "    page = tpl.read()\n",
    "    page = page.replace(\"{%-- grid-content:s --%}\", grid)\\\n",
    "               .replace(\"{%-- suptitle:s --%}\",  f\"Last {npub:,d} papers\" )\\\n",
    "               .replace(\"{%-- docs:s --%}\", docs)\\\n",
    "               .replace(\"{%-- slides:s --%}\", slides)\n",
    "    \n",
    "# print(grid, docs, slides)\n",
    "# print(page)\n",
    "with open(\"_build/html/index_npub_grid.html\", 'w') as fout:\n",
    "    fout.write(page)"
   ]
  }
 ],
 "metadata": {
  "kernelspec": {
   "display_name": "Python 3 (ipykernel)",
   "language": "python",
   "name": "python3"
  },
  "language_info": {
   "codemirror_mode": {
    "name": "ipython",
    "version": 3
   },
   "file_extension": ".py",
   "mimetype": "text/x-python",
   "name": "python",
   "nbconvert_exporter": "python",
   "pygments_lexer": "ipython3",
   "version": "3.9.21"
  },
  "papermill": {
   "default_parameters": {},
   "duration": 39.966771,
   "end_time": "2025-02-12T04:11:37.867954",
   "environment_variables": {},
   "exception": null,
   "input_path": "MPIA daily digest.ipynb",
   "output_path": "log.ipynb",
   "parameters": {},
   "start_time": "2025-02-12T04:10:57.901183",
   "version": "2.6.0"
  },
  "vscode": {
   "interpreter": {
    "hash": "aee8b7b246df8f9039afb4144a1f6fd8d2ca17a180786b69acc140d282b71a49"
   }
  },
  "widgets": {
   "application/vnd.jupyter.widget-state+json": {
    "state": {
     "0d840d93133b484f9e725812e180c265": {
      "model_module": "@jupyter-widgets/controls",
      "model_module_version": "2.0.0",
      "model_name": "HTMLStyleModel",
      "state": {
       "_model_module": "@jupyter-widgets/controls",
       "_model_module_version": "2.0.0",
       "_model_name": "HTMLStyleModel",
       "_view_count": null,
       "_view_module": "@jupyter-widgets/base",
       "_view_module_version": "2.0.0",
       "_view_name": "StyleView",
       "background": null,
       "description_width": "",
       "font_size": null,
       "text_color": null
      }
     },
     "1c6a6f7df77945df89625acd3e4936ab": {
      "model_module": "@jupyter-widgets/controls",
      "model_module_version": "2.0.0",
      "model_name": "HTMLModel",
      "state": {
       "_dom_classes": [],
       "_model_module": "@jupyter-widgets/controls",
       "_model_module_version": "2.0.0",
       "_model_name": "HTMLModel",
       "_view_count": null,
       "_view_module": "@jupyter-widgets/controls",
       "_view_module_version": "2.0.0",
       "_view_name": "HTMLView",
       "description": "",
       "description_allow_html": false,
       "layout": "IPY_MODEL_e67cb409b6a44629876dd2744269b623",
       "placeholder": "​",
       "style": "IPY_MODEL_0d840d93133b484f9e725812e180c265",
       "tabbable": null,
       "tooltip": null,
       "value": " 2/2 [00:18&lt;00:00,  8.47s/it]"
      }
     },
     "1f8fa582e5ce40e8851725ce57a8dc64": {
      "model_module": "@jupyter-widgets/base",
      "model_module_version": "2.0.0",
      "model_name": "LayoutModel",
      "state": {
       "_model_module": "@jupyter-widgets/base",
       "_model_module_version": "2.0.0",
       "_model_name": "LayoutModel",
       "_view_count": null,
       "_view_module": "@jupyter-widgets/base",
       "_view_module_version": "2.0.0",
       "_view_name": "LayoutView",
       "align_content": null,
       "align_items": null,
       "align_self": null,
       "border_bottom": null,
       "border_left": null,
       "border_right": null,
       "border_top": null,
       "bottom": null,
       "display": null,
       "flex": null,
       "flex_flow": null,
       "grid_area": null,
       "grid_auto_columns": null,
       "grid_auto_flow": null,
       "grid_auto_rows": null,
       "grid_column": null,
       "grid_gap": null,
       "grid_row": null,
       "grid_template_areas": null,
       "grid_template_columns": null,
       "grid_template_rows": null,
       "height": null,
       "justify_content": null,
       "justify_items": null,
       "left": null,
       "margin": null,
       "max_height": null,
       "max_width": null,
       "min_height": null,
       "min_width": null,
       "object_fit": null,
       "object_position": null,
       "order": null,
       "overflow": null,
       "padding": null,
       "right": null,
       "top": null,
       "visibility": null,
       "width": null
      }
     },
     "27b8bc2adc0149d4ad7ef0c61bb2d444": {
      "model_module": "@jupyter-widgets/base",
      "model_module_version": "2.0.0",
      "model_name": "LayoutModel",
      "state": {
       "_model_module": "@jupyter-widgets/base",
       "_model_module_version": "2.0.0",
       "_model_name": "LayoutModel",
       "_view_count": null,
       "_view_module": "@jupyter-widgets/base",
       "_view_module_version": "2.0.0",
       "_view_name": "LayoutView",
       "align_content": null,
       "align_items": null,
       "align_self": null,
       "border_bottom": null,
       "border_left": null,
       "border_right": null,
       "border_top": null,
       "bottom": null,
       "display": null,
       "flex": null,
       "flex_flow": null,
       "grid_area": null,
       "grid_auto_columns": null,
       "grid_auto_flow": null,
       "grid_auto_rows": null,
       "grid_column": null,
       "grid_gap": null,
       "grid_row": null,
       "grid_template_areas": null,
       "grid_template_columns": null,
       "grid_template_rows": null,
       "height": null,
       "justify_content": null,
       "justify_items": null,
       "left": null,
       "margin": null,
       "max_height": null,
       "max_width": null,
       "min_height": null,
       "min_width": null,
       "object_fit": null,
       "object_position": null,
       "order": null,
       "overflow": null,
       "padding": null,
       "right": null,
       "top": null,
       "visibility": null,
       "width": null
      }
     },
     "631ee01342aa4145b8f06d58e155cc1d": {
      "model_module": "@jupyter-widgets/controls",
      "model_module_version": "2.0.0",
      "model_name": "HBoxModel",
      "state": {
       "_dom_classes": [],
       "_model_module": "@jupyter-widgets/controls",
       "_model_module_version": "2.0.0",
       "_model_name": "HBoxModel",
       "_view_count": null,
       "_view_module": "@jupyter-widgets/controls",
       "_view_module_version": "2.0.0",
       "_view_name": "HBoxView",
       "box_style": "",
       "children": [
        "IPY_MODEL_63eb44cff00a441eb7d9b3aea8fe20b5",
        "IPY_MODEL_7cf1808fdf844377a1639af318b03e72",
        "IPY_MODEL_1c6a6f7df77945df89625acd3e4936ab"
       ],
       "layout": "IPY_MODEL_1f8fa582e5ce40e8851725ce57a8dc64",
       "tabbable": null,
       "tooltip": null
      }
     },
     "63eb44cff00a441eb7d9b3aea8fe20b5": {
      "model_module": "@jupyter-widgets/controls",
      "model_module_version": "2.0.0",
      "model_name": "HTMLModel",
      "state": {
       "_dom_classes": [],
       "_model_module": "@jupyter-widgets/controls",
       "_model_module_version": "2.0.0",
       "_model_name": "HTMLModel",
       "_view_count": null,
       "_view_module": "@jupyter-widgets/controls",
       "_view_module_version": "2.0.0",
       "_view_name": "HTMLView",
       "description": "",
       "description_allow_html": false,
       "layout": "IPY_MODEL_8c9bdef98a3d43c5bedb5812e2d88da4",
       "placeholder": "​",
       "style": "IPY_MODEL_873e60ad5d4e4d74a6df35841d532436",
       "tabbable": null,
       "tooltip": null,
       "value": "100%"
      }
     },
     "7cf1808fdf844377a1639af318b03e72": {
      "model_module": "@jupyter-widgets/controls",
      "model_module_version": "2.0.0",
      "model_name": "FloatProgressModel",
      "state": {
       "_dom_classes": [],
       "_model_module": "@jupyter-widgets/controls",
       "_model_module_version": "2.0.0",
       "_model_name": "FloatProgressModel",
       "_view_count": null,
       "_view_module": "@jupyter-widgets/controls",
       "_view_module_version": "2.0.0",
       "_view_name": "ProgressView",
       "bar_style": "success",
       "description": "",
       "description_allow_html": false,
       "layout": "IPY_MODEL_27b8bc2adc0149d4ad7ef0c61bb2d444",
       "max": 2.0,
       "min": 0.0,
       "orientation": "horizontal",
       "style": "IPY_MODEL_fad6829f28d74c57a9c24981ea6147d1",
       "tabbable": null,
       "tooltip": null,
       "value": 2.0
      }
     },
     "873e60ad5d4e4d74a6df35841d532436": {
      "model_module": "@jupyter-widgets/controls",
      "model_module_version": "2.0.0",
      "model_name": "HTMLStyleModel",
      "state": {
       "_model_module": "@jupyter-widgets/controls",
       "_model_module_version": "2.0.0",
       "_model_name": "HTMLStyleModel",
       "_view_count": null,
       "_view_module": "@jupyter-widgets/base",
       "_view_module_version": "2.0.0",
       "_view_name": "StyleView",
       "background": null,
       "description_width": "",
       "font_size": null,
       "text_color": null
      }
     },
     "8c9bdef98a3d43c5bedb5812e2d88da4": {
      "model_module": "@jupyter-widgets/base",
      "model_module_version": "2.0.0",
      "model_name": "LayoutModel",
      "state": {
       "_model_module": "@jupyter-widgets/base",
       "_model_module_version": "2.0.0",
       "_model_name": "LayoutModel",
       "_view_count": null,
       "_view_module": "@jupyter-widgets/base",
       "_view_module_version": "2.0.0",
       "_view_name": "LayoutView",
       "align_content": null,
       "align_items": null,
       "align_self": null,
       "border_bottom": null,
       "border_left": null,
       "border_right": null,
       "border_top": null,
       "bottom": null,
       "display": null,
       "flex": null,
       "flex_flow": null,
       "grid_area": null,
       "grid_auto_columns": null,
       "grid_auto_flow": null,
       "grid_auto_rows": null,
       "grid_column": null,
       "grid_gap": null,
       "grid_row": null,
       "grid_template_areas": null,
       "grid_template_columns": null,
       "grid_template_rows": null,
       "height": null,
       "justify_content": null,
       "justify_items": null,
       "left": null,
       "margin": null,
       "max_height": null,
       "max_width": null,
       "min_height": null,
       "min_width": null,
       "object_fit": null,
       "object_position": null,
       "order": null,
       "overflow": null,
       "padding": null,
       "right": null,
       "top": null,
       "visibility": null,
       "width": null
      }
     },
     "e67cb409b6a44629876dd2744269b623": {
      "model_module": "@jupyter-widgets/base",
      "model_module_version": "2.0.0",
      "model_name": "LayoutModel",
      "state": {
       "_model_module": "@jupyter-widgets/base",
       "_model_module_version": "2.0.0",
       "_model_name": "LayoutModel",
       "_view_count": null,
       "_view_module": "@jupyter-widgets/base",
       "_view_module_version": "2.0.0",
       "_view_name": "LayoutView",
       "align_content": null,
       "align_items": null,
       "align_self": null,
       "border_bottom": null,
       "border_left": null,
       "border_right": null,
       "border_top": null,
       "bottom": null,
       "display": null,
       "flex": null,
       "flex_flow": null,
       "grid_area": null,
       "grid_auto_columns": null,
       "grid_auto_flow": null,
       "grid_auto_rows": null,
       "grid_column": null,
       "grid_gap": null,
       "grid_row": null,
       "grid_template_areas": null,
       "grid_template_columns": null,
       "grid_template_rows": null,
       "height": null,
       "justify_content": null,
       "justify_items": null,
       "left": null,
       "margin": null,
       "max_height": null,
       "max_width": null,
       "min_height": null,
       "min_width": null,
       "object_fit": null,
       "object_position": null,
       "order": null,
       "overflow": null,
       "padding": null,
       "right": null,
       "top": null,
       "visibility": null,
       "width": null
      }
     },
     "fad6829f28d74c57a9c24981ea6147d1": {
      "model_module": "@jupyter-widgets/controls",
      "model_module_version": "2.0.0",
      "model_name": "ProgressStyleModel",
      "state": {
       "_model_module": "@jupyter-widgets/controls",
       "_model_module_version": "2.0.0",
       "_model_name": "ProgressStyleModel",
       "_view_count": null,
       "_view_module": "@jupyter-widgets/base",
       "_view_module_version": "2.0.0",
       "_view_name": "StyleView",
       "bar_color": null,
       "description_width": ""
      }
     }
    },
    "version_major": 2,
    "version_minor": 0
   }
  }
 },
 "nbformat": 4,
 "nbformat_minor": 5
}