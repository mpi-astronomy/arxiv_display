{
 "cells": [
  {
   "cell_type": "markdown",
   "id": "92bcb855",
   "metadata": {
    "papermill": {
     "duration": 0.003479,
     "end_time": "2024-01-03T04:09:24.359279",
     "exception": false,
     "start_time": "2024-01-03T04:09:24.355800",
     "status": "completed"
    },
    "tags": []
   },
   "source": [
    "# MPIA Arxiv on Deck 2\n",
    "\n",
    "Contains the steps to produce the paper extractions."
   ]
  },
  {
   "cell_type": "code",
   "execution_count": 1,
   "id": "3a0d6e11",
   "metadata": {
    "execution": {
     "iopub.execute_input": "2024-01-03T04:09:24.367465Z",
     "iopub.status.busy": "2024-01-03T04:09:24.366930Z",
     "iopub.status.idle": "2024-01-03T04:09:24.666911Z",
     "shell.execute_reply": "2024-01-03T04:09:24.666210Z"
    },
    "papermill": {
     "duration": 0.305368,
     "end_time": "2024-01-03T04:09:24.668760",
     "exception": false,
     "start_time": "2024-01-03T04:09:24.363392",
     "status": "completed"
    },
    "tags": []
   },
   "outputs": [],
   "source": [
    "# Imports\n",
    "import os\n",
    "from IPython.display import Markdown, display\n",
    "from tqdm.notebook import tqdm\n",
    "import warnings\n",
    "from PIL import Image \n",
    "\n",
    "# requires arxiv_on_deck_2\n",
    "\n",
    "from arxiv_on_deck_2.arxiv2 import (get_new_papers, \n",
    "                                    get_paper_from_identifier,\n",
    "                                    retrieve_document_source, \n",
    "                                    get_markdown_badge)\n",
    "from arxiv_on_deck_2 import (latex,\n",
    "                             latex_bib,\n",
    "                             mpia,\n",
    "                             highlight_authors_in_list)\n",
    "\n",
    "# Sometimes images are really big\n",
    "Image.MAX_IMAGE_PIXELS = 1000000000 "
   ]
  },
  {
   "cell_type": "code",
   "execution_count": 2,
   "id": "22aa9d44",
   "metadata": {
    "execution": {
     "iopub.execute_input": "2024-01-03T04:09:24.675862Z",
     "iopub.status.busy": "2024-01-03T04:09:24.675469Z",
     "iopub.status.idle": "2024-01-03T04:09:24.680188Z",
     "shell.execute_reply": "2024-01-03T04:09:24.679555Z"
    },
    "papermill": {
     "duration": 0.009659,
     "end_time": "2024-01-03T04:09:24.681533",
     "exception": false,
     "start_time": "2024-01-03T04:09:24.671874",
     "status": "completed"
    },
    "tags": []
   },
   "outputs": [],
   "source": [
    "# Some useful definitions.\n",
    "\n",
    "class AffiliationWarning(UserWarning):\n",
    "    pass\n",
    "\n",
    "class AffiliationError(RuntimeError):\n",
    "    pass\n",
    "\n",
    "def validation(source: str):\n",
    "    \"\"\"Raises error paper during parsing of source file\n",
    "    \n",
    "    Allows checks before parsing TeX code.\n",
    "    \n",
    "    Raises AffiliationWarning\n",
    "    \"\"\"\n",
    "    check = mpia.affiliation_verifications(source, verbose=True)\n",
    "    if check is not True:\n",
    "        raise AffiliationError(\"mpia.affiliation_verifications: \" + check)\n",
    "\n",
    "        \n",
    "warnings.simplefilter('always', AffiliationWarning)\n",
    "\n",
    "\n",
    "def get_markdown_qrcode(paper_id: str):\n",
    "    \"\"\" Generate a qrcode to the arxiv page using qrserver.com\n",
    "    \n",
    "    :param paper: Arxiv paper\n",
    "    :returns: markdown text\n",
    "    \"\"\"\n",
    "    url = r\"https://api.qrserver.com/v1/create-qr-code/?size=100x100&data=\"\n",
    "    txt = f\"\"\"<img src={url}\"https://arxiv.org/abs/{paper_id}\">\"\"\"\n",
    "    txt = '<div id=\"qrcode\">' + txt + '</div>'\n",
    "    return txt"
   ]
  },
  {
   "cell_type": "markdown",
   "id": "14bd6310",
   "metadata": {
    "papermill": {
     "duration": 0.002671,
     "end_time": "2024-01-03T04:09:24.687111",
     "exception": false,
     "start_time": "2024-01-03T04:09:24.684440",
     "status": "completed"
    },
    "tags": []
   },
   "source": [
    "## get list of arxiv paper candidates\n",
    "\n",
    "We use the MPIA mitarbeiter list webpage from mpia.de to get author names\n",
    "We then get all new papers from Arxiv and match authors"
   ]
  },
  {
   "cell_type": "code",
   "execution_count": 3,
   "id": "2645e73a",
   "metadata": {
    "execution": {
     "iopub.execute_input": "2024-01-03T04:09:24.693626Z",
     "iopub.status.busy": "2024-01-03T04:09:24.693266Z",
     "iopub.status.idle": "2024-01-03T04:09:46.423079Z",
     "shell.execute_reply": "2024-01-03T04:09:46.422397Z"
    },
    "papermill": {
     "duration": 21.734684,
     "end_time": "2024-01-03T04:09:46.424507",
     "exception": false,
     "start_time": "2024-01-03T04:09:24.689823",
     "status": "completed"
    },
    "tags": []
   },
   "outputs": [
    {
     "name": "stdout",
     "output_type": "stream",
     "text": [
      "A. d. Graaff  ->  A. D. Graaff  |  ['A. D. Graaff']\n",
      "H.-W. Rix  ->  H.-W. Rix  |  ['H.-W. Rix']\n",
      "G. Rouille  ->  G. Rouille  |  ['G. Rouille']\n",
      "Arxiv has 35 new papers today\n",
      "          2 with possible author matches\n"
     ]
    }
   ],
   "source": [
    "# get list from MPIA website\n",
    "# it automatically filters identified non-scientists :func:`mpia.filter_non_scientists`\n",
    "mpia_authors = mpia.get_mpia_mitarbeiter_list()\n",
    "normed_mpia_authors = [k[1] for k in mpia_authors]   # initials + fullname\n",
    "new_papers = get_new_papers()\n",
    "# add manual references\n",
    "add_paper_refs = []\n",
    "new_papers.extend([get_paper_from_identifier(k) for k in add_paper_refs])\n",
    "\n",
    "candidates = []\n",
    "for paperk in new_papers:\n",
    "    # Check author list with their initials\n",
    "    normed_author_list = [mpia.get_initials(k) for k in paperk['authors']]\n",
    "    hl_authors = highlight_authors_in_list(normed_author_list, normed_mpia_authors, verbose=True)\n",
    "    matches = [(hl, orig) for hl, orig in zip(hl_authors, paperk['authors']) if 'mark' in hl]\n",
    "    paperk['authors'] = hl_authors\n",
    "    if matches:\n",
    "        # only select paper if an author matched our list\n",
    "        candidates.append(paperk)\n",
    "print(\"\"\"Arxiv has {0:,d} new papers today\"\"\".format(len(new_papers)))        \n",
    "print(\"\"\"          {0:,d} with possible author matches\"\"\".format(len(candidates)))"
   ]
  },
  {
   "cell_type": "markdown",
   "id": "3543b34a",
   "metadata": {
    "papermill": {
     "duration": 0.002958,
     "end_time": "2024-01-03T04:09:46.430581",
     "exception": false,
     "start_time": "2024-01-03T04:09:46.427623",
     "status": "completed"
    },
    "tags": []
   },
   "source": [
    "# Parse sources and generate relevant outputs\n",
    "\n",
    "From the candidates, we do the following steps:\n",
    "* get their tarball from ArXiv (and extract data)\n",
    "* find the main .tex file: find one with \\documentclass{...} (sometimes it's non trivial)\n",
    "* Check affiliations with :func:`validation`, which uses :func:`mpia.affiliation_verifications`\n",
    "* If passing the affiliations: we parse the .tex source\n",
    "   * inject sub-documents into the main (flatten the main document)\n",
    "   * parse structure, extract information (title, abstract, authors, figures...)\n",
    "   * handles `\\graphicspath` if provided\n",
    "* Generate the .md document."
   ]
  },
  {
   "cell_type": "code",
   "execution_count": 4,
   "id": "9576b79e",
   "metadata": {
    "execution": {
     "iopub.execute_input": "2024-01-03T04:09:46.437457Z",
     "iopub.status.busy": "2024-01-03T04:09:46.437091Z",
     "iopub.status.idle": "2024-01-03T04:10:18.767489Z",
     "shell.execute_reply": "2024-01-03T04:10:18.766725Z"
    },
    "papermill": {
     "duration": 32.336782,
     "end_time": "2024-01-03T04:10:18.770208",
     "exception": false,
     "start_time": "2024-01-03T04:09:46.433426",
     "status": "completed"
    },
    "scrolled": false,
    "tags": []
   },
   "outputs": [
    {
     "data": {
      "application/vnd.jupyter.widget-view+json": {
       "model_id": "063e1b873c12401e9abfdd4971c0fb5a",
       "version_major": 2,
       "version_minor": 0
      },
      "text/plain": [
       "  0%|          | 0/2 [00:00<?, ?it/s]"
      ]
     },
     "metadata": {},
     "output_type": "display_data"
    },
    {
     "name": "stdout",
     "output_type": "stream",
     "text": [
      "Retrieving document from  https://arxiv.org/e-print/2401.00934\n"
     ]
    },
    {
     "name": "stdout",
     "output_type": "stream",
     "text": [
      "extracting tarball to tmp_2401.00934..."
     ]
    },
    {
     "name": "stdout",
     "output_type": "stream",
     "text": [
      " done.\n"
     ]
    },
    {
     "name": "stdout",
     "output_type": "stream",
     "text": [
      "A. d. Graaff  ->  A. D. Graaff  |  ['A. D. Graaff']\n",
      "H.-W. Rix  ->  H.-W. Rix  |  ['H.-W. Rix']\n"
     ]
    },
    {
     "name": "stdout",
     "output_type": "stream",
     "text": [
      "Found 146 bibliographic references in tmp_2401.00934/main.bbl.\n",
      "syntax error in line 396: '=' expected\n",
      "Retrieving document from  https://arxiv.org/e-print/2401.01221\n"
     ]
    },
    {
     "name": "stdout",
     "output_type": "stream",
     "text": [
      "extracting tarball to tmp_2401.01221..."
     ]
    },
    {
     "name": "stdout",
     "output_type": "stream",
     "text": [
      " done.\n"
     ]
    },
    {
     "name": "stderr",
     "output_type": "stream",
     "text": [
      "/opt/hostedtoolcache/Python/3.9.18/x64/lib/python3.9/site-packages/IPython/core/interactiveshell.py:3550: LatexWarning: Multiple tex files.\n",
      "\n",
      "  exec(code_obj, self.user_global_ns, self.user_ns)\n",
      "/opt/hostedtoolcache/Python/3.9.18/x64/lib/python3.9/site-packages/IPython/core/interactiveshell.py:3550: LatexWarning: Found documentclass in tmp_2401.01221/aa.tex\n",
      "\n",
      "  exec(code_obj, self.user_global_ns, self.user_ns)\n",
      "/opt/hostedtoolcache/Python/3.9.18/x64/lib/python3.9/site-packages/arxiv_on_deck_2/latex.py:399: LatexWarning: Latex injecting: 'authors' from 'tmp_2401.01221/authors.tex'\n",
      "  warnings.warn(LatexWarning(f\"Latex injecting: '{ext}' from '{subsource}'\"))\n"
     ]
    }
   ],
   "source": [
    "documents = []\n",
    "failed = []\n",
    "for paper in tqdm(candidates):\n",
    "    paper_id = paper['identifier'].lower().replace('arxiv:', '')\n",
    "    \n",
    "    folder = f'tmp_{paper_id}'\n",
    "\n",
    "    try:\n",
    "        if not os.path.isdir(folder):\n",
    "            folder = retrieve_document_source(f\"{paper_id}\", f'tmp_{paper_id}')\n",
    "        \n",
    "        try:\n",
    "            doc = latex.LatexDocument(folder, validation=validation)    \n",
    "        except AffiliationError as affilerror:\n",
    "            msg = f\"ArXiv:{paper_id:s} is not an MPIA paper... \" + str(affilerror)\n",
    "            failed.append((paper, \"affiliation error: \" + str(affilerror) ))\n",
    "            continue\n",
    "        \n",
    "        # Hack because sometimes author parsing does not work well\n",
    "        if (len(doc.authors) != len(paper['authors'])):\n",
    "            doc._authors = paper['authors']\n",
    "        else:\n",
    "            # highlight authors (FIXME: doc.highlight_authors)\n",
    "            # done on arxiv paper already\n",
    "            doc._authors = highlight_authors_in_list(\n",
    "                [mpia.get_initials(k) for k in doc.authors], \n",
    "                normed_mpia_authors, verbose=True)\n",
    "        if (doc.abstract) in (None, ''):\n",
    "            doc._abstract = paper['abstract']\n",
    "            \n",
    "        doc.comment = (get_markdown_badge(paper_id) + \n",
    "                       \"<mark>Appeared on: \" + paper['date'] + \"</mark> - \")\n",
    "        if paper['comments']:\n",
    "            doc.comment += \" _\" + paper['comments'] + \"_\"\n",
    "        \n",
    "        full_md = doc.generate_markdown_text()\n",
    "        \n",
    "        full_md += get_markdown_qrcode(paper_id)\n",
    "        \n",
    "        # replace citations\n",
    "        try:\n",
    "            bibdata = latex_bib.LatexBib.from_doc(doc)\n",
    "            full_md = latex_bib.replace_citations(full_md, bibdata)\n",
    "        except Exception as e:\n",
    "            print(e)\n",
    "        \n",
    "        documents.append((paper_id, full_md))\n",
    "    except Exception as e:\n",
    "        warnings.warn(latex.LatexWarning(f\"{paper_id:s} did not run properly\\n\" +\n",
    "                                         str(e)\n",
    "                                        ))\n",
    "        failed.append((paper, \"latex error \" + str(e)))"
   ]
  },
  {
   "cell_type": "markdown",
   "id": "2505a25c",
   "metadata": {
    "papermill": {
     "duration": 0.003428,
     "end_time": "2024-01-03T04:10:18.777346",
     "exception": false,
     "start_time": "2024-01-03T04:10:18.773918",
     "status": "completed"
    },
    "tags": []
   },
   "source": [
    "### Export the logs\n",
    "\n",
    "Throughout, we also keep track of the logs per paper. see `logs-{today date}.md` "
   ]
  },
  {
   "cell_type": "code",
   "execution_count": 5,
   "id": "d733828a",
   "metadata": {
    "execution": {
     "iopub.execute_input": "2024-01-03T04:10:18.785156Z",
     "iopub.status.busy": "2024-01-03T04:10:18.784912Z",
     "iopub.status.idle": "2024-01-03T04:10:18.799875Z",
     "shell.execute_reply": "2024-01-03T04:10:18.799367Z"
    },
    "papermill": {
     "duration": 0.020469,
     "end_time": "2024-01-03T04:10:18.801155",
     "exception": false,
     "start_time": "2024-01-03T04:10:18.780686",
     "status": "completed"
    },
    "scrolled": false,
    "tags": []
   },
   "outputs": [
    {
     "data": {
      "text/markdown": [
       "## Successful papers"
      ],
      "text/plain": [
       "<IPython.core.display.Markdown object>"
      ]
     },
     "metadata": {},
     "output_type": "display_data"
    },
    {
     "data": {
      "text/markdown": [
       "\n",
       "|||\n",
       "|---:|:---|\n",
       "| [![arXiv](https://img.shields.io/badge/arXiv-arXiv:2401.00934-b31b1b.svg)](https://arxiv.org/abs/arXiv:2401.00934) | **JADES: Rest-frame UV-to-NIR Size Evolution of Massive Quiescent Galaxies  from Redshift z=5 to z=0.5**  |\n",
       "|| Z. Ji, et al. -- incl., <mark>A. d. Graaff</mark>, <mark>H.-W. Rix</mark> |\n",
       "|*Appeared on*| *2024-01-03*|\n",
       "|*Comments*| *28 pages, 19 figures, submitted to ApJ*|\n",
       "|**Abstract**| We present the UV-to-NIR size evolution of a sample of 161 quiescent galaxies (QGs) with $M_*>10^{10}M_\\odot$ over $0.5<z<5$. With deep multi-band NIRCam images in GOODS-South from JADES, we measure the effective radii ($R_e$) of the galaxies at rest-frame 0.3, 0.5 and 1$\\mu m$. On average, QGs are 45% (15%) more compact at rest-frame 1$\\mu m$ than they are at 0.3$\\mu m$ (0.5$\\mu m$). Regardless of wavelengths, the $R_e$ of QGs strongly evolves with redshift, and this evolution depends on stellar mass. For lower-mass QGs with $M_*=10^{10}-10^{10.6}M_\\odot$, the evolution follows $R_e\\sim(1+z)^{-1.1}$, whereas it becomes steeper, following $R_e\\sim(1+z)^{-1.7}$, for higher-mass QGs with $M_*>10^{10.6}M_\\odot$. To constrain the physical mechanisms driving the apparent size evolution, we study the relationship between $R_e$ and the formation redshift ($z_{form}$) of QGs. For lower-mass QGs, this relationship is broadly consistent with $R_e\\sim(1+z_{form})^{-1}$, in line with the expectation of the progenitor effect. For higher-mass QGs, the relationship between $R_e$ and $z_{form}$ depends on stellar age. Older QGs have a steeper relationship between $R_e$ and $z_{form}$ than that expected from the progenitor effect alone, suggesting that mergers and/or post-quenching continuous gas accretion drive additional size growth in very massive systems. We find that the $z>3$ QGs in our sample are very compact, with mass surface densities $\\Sigma_e\\gtrsim10^{10} M_\\odot/\\rm{kpc}^2$, and their $R_e$ are possibly even smaller than anticipated from the size evolution measured for lower-redshift QGs. Finally, we take a close look at the structure of GS-9209, one of the earliest confirmed massive QGs at $z_{spec}\\sim4.7$. From UV to NIR, GS-9209 becomes increasingly compact, and its light profile becomes more spheroidal, showing that the color gradient is already present in this earliest massive QG. |"
      ],
      "text/plain": [
       "[arXiv:2401.00934] JADES: Rest-frame UV-to-NIR Size Evolution of Massive Quiescent Galaxies  from Redshift z=5 to z=0.5\n",
       "\tZ. Ji, et al. -- incl., <mark>A. d. Graaff</mark>, <mark>H.-W. Rix</mark>"
      ]
     },
     "metadata": {},
     "output_type": "display_data"
    },
    {
     "data": {
      "text/markdown": [
       "## Failed papers"
      ],
      "text/plain": [
       "<IPython.core.display.Markdown object>"
      ]
     },
     "metadata": {},
     "output_type": "display_data"
    },
    {
     "data": {
      "text/markdown": [
       "\n",
       "|||\n",
       "|---:|:---|\n",
       "| [![arXiv](https://img.shields.io/badge/arXiv-arXiv:2401.01221-b31b1b.svg)](https://arxiv.org/abs/arXiv:2401.01221) | **PDRs4All. V. Modelling the dust evolution across the illuminated edge of  the Orion Bar**  |\n",
       "|| M. Elyajouri, et al. -- incl., <mark>G. Rouille</mark> |\n",
       "|*Appeared on*| *2024-01-03*|\n",
       "|*Comments*| *18 pages, 11 figures, accepted for publication in A&A*|\n",
       "|**Abstract**| We study the emission of dust grains within the Orion Bar - a well-known, highly far-UV (FUV)-irradiated PDR. The Orion Bar because of its edge-on geometry provides an exceptional benchmark for characterizing dust evolution and the associated driving processes under varying physical conditions. Our goal is to constrain the local properties of dust by comparing its emission to models. Taking advantage of the recent JWST PDRs4All data, we follow the dust emission as traced by JWST NIRCam (at 3.35 and 4.8 micron) and MIRI (at 7.7, 11.3, 15.0, and 25.5 micron), along with NIRSpec and MRS spectroscopic observations. First, we constrain the minimum size and hydrogen content of carbon nano-grains from a comparison between the observed dust emission spectra and the predictions of the THEMIS dust model coupled to the numerical code DustEM. Using this dust model, we then perform 3D radiative transfer simulations of dust emission with the SOC code and compare to data obtained along well chosen profiles across the Orion Bar. The JWST data allows us, for the first time, to spatially resolve the steep variation of dust emission at the illuminated edge of the Orion Bar PDR. By considering a dust model with carbonaceous nano-grains and submicronic coated silicate grains, we derive unprecedented constraints on the properties of across the Orion Bar. To explain the observed emission profiles with our simulations, we find that the nano-grains must be strongly depleted with an abundance (relative to the gas) 15 times less than in the diffuse ISM. The NIRSpec and MRS spectroscopic observations reveal variations in the hydrogenation of the carbon nano-grains. The lowest hydrogenation levels are found in the vicinity of the illuminating stars suggesting photo-processing while more hydrogenated nano-grains are found in the cold and dense molecular region, potentially indicative of larger grains. |\n",
       "|<p style=\"color:green\"> **ERROR** </p>| <p style=\"color:green\">affiliation error: mpia.affiliation_verifications: 'Heidelberg' keyword not found.</p> |"
      ],
      "text/plain": [
       "<IPython.core.display.Markdown object>"
      ]
     },
     "metadata": {},
     "output_type": "display_data"
    }
   ],
   "source": [
    "import datetime\n",
    "today = str(datetime.date.today())\n",
    "logfile = f\"_build/html/logs/log-{today}.md\"\n",
    "\n",
    "\n",
    "with open(logfile, 'w') as logs:\n",
    "    # Success\n",
    "    logs.write(f'# Arxiv on Deck 2: Logs - {today}\\n\\n')\n",
    "    logs.write(\"\"\"* Arxiv had {0:,d} new papers\\n\"\"\".format(len(new_papers)))\n",
    "    logs.write(\"\"\"    * {0:,d} with possible author matches\\n\\n\"\"\".format(len(candidates)))\n",
    "    logs.write(\"## Sucessful papers\\n\\n\")\n",
    "    display(Markdown(\"## Successful papers\"))\n",
    "    success = [k[0] for k in documents]\n",
    "    for candid in candidates:\n",
    "        if candid['identifier'].split(':')[-1] in success:\n",
    "            display(candid)\n",
    "            logs.write(candid.generate_markdown_text() + '\\n\\n')\n",
    "\n",
    "    ## failed\n",
    "    logs.write(\"## Failed papers\\n\\n\")\n",
    "    display(Markdown(\"## Failed papers\"))\n",
    "    failed = sorted(failed, key=lambda x: x[1])\n",
    "    current_reason = \"\"\n",
    "    for paper, reason in failed:\n",
    "        if 'affiliation' in reason:\n",
    "            color = 'green'\n",
    "        else:\n",
    "            color = 'red'\n",
    "        data = Markdown(\n",
    "                paper.generate_markdown_text() + \n",
    "                f'\\n|<p style=\"color:{color:s}\"> **ERROR** </p>| <p style=\"color:{color:s}\">{reason:s}</p> |'\n",
    "               )\n",
    "        if reason != current_reason:\n",
    "            logs.write(f'### {reason:s} \\n\\n')\n",
    "            current_reason = reason\n",
    "        logs.write(data.data + '\\n\\n')\n",
    "        \n",
    "        # only display here the important errors (all in logs)\n",
    "        # if color in ('red',):\n",
    "        display(data)"
   ]
  },
  {
   "cell_type": "markdown",
   "id": "472d20ee",
   "metadata": {
    "papermill": {
     "duration": 0.003667,
     "end_time": "2024-01-03T04:10:18.808645",
     "exception": false,
     "start_time": "2024-01-03T04:10:18.804978",
     "status": "completed"
    },
    "tags": []
   },
   "source": [
    "## Export documents\n",
    "\n",
    "We now write the .md files and export relevant images"
   ]
  },
  {
   "cell_type": "code",
   "execution_count": 6,
   "id": "d426aed9",
   "metadata": {
    "execution": {
     "iopub.execute_input": "2024-01-03T04:10:18.817038Z",
     "iopub.status.busy": "2024-01-03T04:10:18.816805Z",
     "iopub.status.idle": "2024-01-03T04:10:18.823280Z",
     "shell.execute_reply": "2024-01-03T04:10:18.822612Z"
    },
    "papermill": {
     "duration": 0.012165,
     "end_time": "2024-01-03T04:10:18.824537",
     "exception": false,
     "start_time": "2024-01-03T04:10:18.812372",
     "status": "completed"
    },
    "tags": []
   },
   "outputs": [],
   "source": [
    "def export_markdown_summary(md: str, md_fname:str, directory: str):\n",
    "    \"\"\"Export MD document and associated relevant images\"\"\"\n",
    "    import os\n",
    "    import shutil\n",
    "    import re\n",
    "\n",
    "    if (os.path.exists(directory) and not os.path.isdir(directory)):\n",
    "        raise RuntimeError(f\"a non-directory file exists with name {directory:s}\")\n",
    "\n",
    "    if (not os.path.exists(directory)):\n",
    "        print(f\"creating directory {directory:s}\")\n",
    "        os.mkdir(directory)\n",
    "\n",
    "    fig_fnames = (re.compile(r'\\[Fig.*\\]\\((.*)\\)').findall(md) + \n",
    "                  re.compile(r'\\<img src=\"([^>\\s]*)\"[^>]*/>').findall(md))\n",
    "    for fname in fig_fnames:\n",
    "        if 'http' in fname:\n",
    "            # No need to copy online figures\n",
    "            continue\n",
    "        destdir = os.path.join(directory, os.path.dirname(fname))\n",
    "        destfname = os.path.join(destdir, os.path.basename(fname))\n",
    "        try:\n",
    "            os.makedirs(destdir)\n",
    "        except FileExistsError:\n",
    "            pass\n",
    "        shutil.copy(fname, destfname)\n",
    "    with open(os.path.join(directory, md_fname), 'w') as fout:\n",
    "        fout.write(md)\n",
    "    print(\"exported in \", os.path.join(directory, md_fname))\n",
    "    [print(\"    + \" + os.path.join(directory,fk)) for fk in fig_fnames]"
   ]
  },
  {
   "cell_type": "code",
   "execution_count": 7,
   "id": "014d04a4",
   "metadata": {
    "execution": {
     "iopub.execute_input": "2024-01-03T04:10:18.833175Z",
     "iopub.status.busy": "2024-01-03T04:10:18.832683Z",
     "iopub.status.idle": "2024-01-03T04:10:18.838939Z",
     "shell.execute_reply": "2024-01-03T04:10:18.838409Z"
    },
    "papermill": {
     "duration": 0.01192,
     "end_time": "2024-01-03T04:10:18.840223",
     "exception": false,
     "start_time": "2024-01-03T04:10:18.828303",
     "status": "completed"
    },
    "tags": []
   },
   "outputs": [
    {
     "name": "stdout",
     "output_type": "stream",
     "text": [
      "exported in  _build/html/2401.00934.md\n",
      "    + _build/html/tmp_2401.00934/./size_evolution.png\n",
      "    + _build/html/tmp_2401.00934/./filter_choice.png\n",
      "    + _build/html/tmp_2401.00934/./size_comparison_zgt3.png\n"
     ]
    }
   ],
   "source": [
    "for paper_id, md in documents:\n",
    "    export_markdown_summary(md, f\"{paper_id:s}.md\", '_build/html/')"
   ]
  },
  {
   "cell_type": "markdown",
   "id": "f087a0a7",
   "metadata": {
    "papermill": {
     "duration": 0.003756,
     "end_time": "2024-01-03T04:10:18.847865",
     "exception": false,
     "start_time": "2024-01-03T04:10:18.844109",
     "status": "completed"
    },
    "tags": []
   },
   "source": [
    "## Display the papers\n",
    "\n",
    "Not necessary but allows for a quick check."
   ]
  },
  {
   "cell_type": "code",
   "execution_count": 8,
   "id": "fd25f625",
   "metadata": {
    "execution": {
     "iopub.execute_input": "2024-01-03T04:10:18.856434Z",
     "iopub.status.busy": "2024-01-03T04:10:18.856064Z",
     "iopub.status.idle": "2024-01-03T04:10:18.860480Z",
     "shell.execute_reply": "2024-01-03T04:10:18.859980Z"
    },
    "papermill": {
     "duration": 0.010059,
     "end_time": "2024-01-03T04:10:18.861732",
     "exception": false,
     "start_time": "2024-01-03T04:10:18.851673",
     "status": "completed"
    },
    "scrolled": false,
    "tags": []
   },
   "outputs": [
    {
     "data": {
      "text/markdown": [
       "<div class=\"macros\" style=\"visibility:hidden;\">\n",
       "$\\newcommand{\\ensuremath}{}$\n",
       "$\\newcommand{\\xspace}{}$\n",
       "$\\newcommand{\\object}[1]{\\texttt{#1}}$\n",
       "$\\newcommand{\\farcs}{{.}''}$\n",
       "$\\newcommand{\\farcm}{{.}'}$\n",
       "$\\newcommand{\\arcsec}{''}$\n",
       "$\\newcommand{\\arcmin}{'}$\n",
       "$\\newcommand{\\ion}[2]{#1#2}$\n",
       "$\\newcommand{\\textsc}[1]{\\textrm{#1}}$\n",
       "$\\newcommand{\\hl}[1]{\\textrm{#1}}$\n",
       "$\\newcommand{\\footnote}[1]{}$\n",
       "$\\newcommand{\\prospector}{{\\sc Prospector}\\xspace}$\n",
       "$\\newcommand{\\tlookback}{{t_{\\rm{lookback}}}\\xspace}$\n",
       "$\\newcommand{\\wren}[1]{\\textcolor{teal}{#1}}$</div>\n",
       "\n",
       "\n",
       "\n",
       "<div id=\"title\">\n",
       "\n",
       "# JADES: Rest-frame UV-to-NIR Size Evolution of Massive Quiescent Galaxies from Redshift $z=5$ to $z=0.5$ \n",
       "\n",
       "</div>\n",
       "<div id=\"comments\">\n",
       "\n",
       "[![arXiv](https://img.shields.io/badge/arXiv-2401.00934-b31b1b.svg)](https://arxiv.org/abs/2401.00934)<mark>Appeared on: 2024-01-03</mark> -  _28 pages, 19 figures, submitted to ApJ_\n",
       "\n",
       "</div>\n",
       "<div id=\"authors\">\n",
       "\n",
       "Z. Ji, et al. -- incl., <mark>A. d. Graaff</mark>, <mark>H.-W. Rix</mark>\n",
       "\n",
       "</div>\n",
       "<div id=\"abstract\">\n",
       "\n",
       "**Abstract:** We present the UV-to-NIR size evolution of a sample of 161 quiescent galaxies with $M_* > 10^{10}M_\\sun$ over $0.5<z<5$ . With deep multi-band NIRCam images in GOODS-South from JADES, we measure the effective radii ( $R_e$ ) of the galaxies at rest-frame 0.3, 0.5 and 1 $\\micron$ . On average, we find that quiescent galaxies are 45 \\% (15 \\% ) more compact at rest-frame 1 $\\micron$ than they are at 0.3 $\\micron$ (0.5 $\\micron$ ). Regardless of wavelengths, the $R_e$ of quiescent galaxies strongly evolves with redshift, and this evolution depends on stellar mass.  For lower-mass quiescent galaxies with $M_* = 10^{10}-10^{10.6}M_\\sun$ , the evolution follows $R_e\\propto(1+z)^{-1.1}$ , whereas it becomes steeper, following $R_e\\propto(1+z)^{-1.7}$ , for higher-mass quiescent galaxies with $M_* > 10^{10.6}M_\\sun$ . To constrain the physical mechanisms driving the apparent size evolution, we study the relationship between $R_e$ and the formation redshift ( $z_{\\rm{form}}$ ) of quiescent galaxies. For lower-mass quiescent galaxies, this relationship is broadly consistent with $R_e\\propto(1+z_{\\rm{form}})^{-1}$ , in line with the expectation of the progenitor effect. For higher-mass quiescent galaxies, the relationship between $R_e$ and $z_{\\rm{form}}$ depends on stellar age. Older quiescent galaxies have a steeper relationship between $R_e$ and $z_{\\rm{form}}$ than that expected from the progenitor effect alone, suggesting that mergers and/or post-quenching continuous gas accretion drive additional size growth in very massive systems. We find that the $z>3$ quiescent galaxies in our sample are very compact, with mass surface densities $\\Sigma_e \\gtrsim 10^{10} M_\\sun/\\rm{kpc}^2$ , and their $R_e$ are possibly even smaller than anticipated from the size evolution measured for lower-redshift quiescent galaxies. Finally, we take a close look at the structure of GS-9209, one of the earliest confirmed massive quiescent galaxies at $z_{\\rm{spec}} \\sim 4.7$ . From UV to NIR, GS-9209 becomes increasingly compact, and its light profile becomes more spheroidal, showing that the color gradient is already present in this earliest massive quiescent galaxy.\n",
       "\n",
       "</div>\n",
       "\n",
       "<div id=\"div_fig1\">\n",
       "\n",
       "<img src=\"tmp_2401.00934/./size_evolution.png\" alt=\"Fig12\" width=\"100%\"/>\n",
       "\n",
       "**Figure 12. -** Rest-frame size evolution of massive quiescent galaxies. The corresponding best-fit parameters can be found in Table \\ref{tab:size_evo}. ** Top:** The left panel shows the best-fit size evolution at rest-frame 0.3$\\micron$(blue), 0.5$\\micron$(green) and 1$\\micron$(red), respectively. The shaded regions mark the $1\\sigma$ uncertainties of the best-fit relations. The filled squares with error bars are median $R_e$ and their uncertainties in individual redshift bins (Section \\ref{sec:size_evo}). The right panel shows the 1-, 2- and 3-$\\sigma$ contours of the $R_e$-z relations based on our bootstrap Monte Carlo method (Section \\ref{sec:size_evo}). ** Bottom:** Differing from the top-left panel, here we plot individual quiescent galaxies to the size-evolution diagram. Like previous figures, GS-9209 is marked with the orange square. (*fig:size_evo*)\n",
       "\n",
       "</div>\n",
       "<div id=\"div_fig2\">\n",
       "\n",
       "<img src=\"tmp_2401.00934/./filter_choice.png\" alt=\"Fig2\" width=\"100%\"/>\n",
       "\n",
       "**Figure 2. -** Wide-band filters used for the rest-frame 0.3$\\micron$(blue), 0.5$\\micron$(green) and 1$\\micron$(red) size measures. Expect the HST/ACS F606W, all other filters are from JWST/NIRCam. (*fig:filter_selection*)\n",
       "\n",
       "</div>\n",
       "<div id=\"div_fig3\">\n",
       "\n",
       "<img src=\"tmp_2401.00934/./size_comparison_zgt3.png\" alt=\"Fig4\" width=\"100%\"/>\n",
       "\n",
       "**Figure 4. -** Rest-frame 1$\\micron$ sizes of the $z>3$ quiescent galaxies from different methods. The $x$-axis shows the fiducial measurements in this work (Section \\ref{sec:galfit}). The $y$-axis shows the measurements from alternative methods detailed in Section \\ref{sec:test_re_zgt3}, including using (1) a different morphological fitting tool {\\sc Lenstronomy}(black circles), (2) {\\sc Galfit} but fixing Sérsic index $n=1$(blue squares) or $n=4$(red squares) during the fit and (3) a nonparametric method with the Richardson–Lucy deconvolution (orange triangles). The main purpose here is to compare the sizes from different methodologies, we thus do not estimate uncertainties for the $y$-axis. The dashed line marks the one-to-one relation, and the dotted lines mark the 2 times above/below the one-to-one relation. For the vast majority of the $z>3$ quiescent galaxies, the relative difference in sizes from different methods is $<50\\%$.  (*fig:size_zgt3*)\n",
       "\n",
       "</div><div id=\"qrcode\"><img src=https://api.qrserver.com/v1/create-qr-code/?size=100x100&data=\"https://arxiv.org/abs/2401.00934\"></div>"
      ],
      "text/plain": [
       "<IPython.core.display.Markdown object>"
      ]
     },
     "metadata": {},
     "output_type": "display_data"
    }
   ],
   "source": [
    "[display(Markdown(k[1])) for k in documents];"
   ]
  },
  {
   "cell_type": "markdown",
   "id": "873873a4",
   "metadata": {
    "papermill": {
     "duration": 0.004058,
     "end_time": "2024-01-03T04:10:18.869917",
     "exception": false,
     "start_time": "2024-01-03T04:10:18.865859",
     "status": "completed"
    },
    "tags": []
   },
   "source": [
    "# Create HTML index"
   ]
  },
  {
   "cell_type": "code",
   "execution_count": 9,
   "id": "cf665672",
   "metadata": {
    "execution": {
     "iopub.execute_input": "2024-01-03T04:10:18.879202Z",
     "iopub.status.busy": "2024-01-03T04:10:18.878810Z",
     "iopub.status.idle": "2024-01-03T04:10:18.887532Z",
     "shell.execute_reply": "2024-01-03T04:10:18.886917Z"
    },
    "papermill": {
     "duration": 0.014815,
     "end_time": "2024-01-03T04:10:18.888854",
     "exception": false,
     "start_time": "2024-01-03T04:10:18.874039",
     "status": "completed"
    },
    "tags": []
   },
   "outputs": [
    {
     "name": "stdout",
     "output_type": "stream",
     "text": [
      "348  publications files modified in the last 7 days.\n"
     ]
    }
   ],
   "source": [
    "from datetime import datetime, timedelta, timezone\n",
    "from glob import glob\n",
    "import os\n",
    "\n",
    "files = glob('_build/html/*.md')\n",
    "days = 7\n",
    "now = datetime.today()\n",
    "res = []\n",
    "for fk in files:\n",
    "    stat_result = os.stat(fk).st_ctime\n",
    "    modified = datetime.fromtimestamp(stat_result, tz=timezone.utc).replace(tzinfo=None)\n",
    "    delta = now.today() - modified\n",
    "    if delta <= timedelta(days=days):\n",
    "        res.append((delta.seconds, fk))\n",
    "res = [k[1] for k in reversed(sorted(res, key=lambda x:x[1]))]\n",
    "npub = len(res)\n",
    "print(len(res), f\" publications files modified in the last {days:d} days.\")\n",
    "# [ print('\\t', k) for k in res ];"
   ]
  },
  {
   "cell_type": "code",
   "execution_count": 10,
   "id": "015de740",
   "metadata": {
    "execution": {
     "iopub.execute_input": "2024-01-03T04:10:18.898341Z",
     "iopub.status.busy": "2024-01-03T04:10:18.897812Z",
     "iopub.status.idle": "2024-01-03T04:10:18.917650Z",
     "shell.execute_reply": "2024-01-03T04:10:18.917037Z"
    },
    "papermill": {
     "duration": 0.025983,
     "end_time": "2024-01-03T04:10:18.918975",
     "exception": false,
     "start_time": "2024-01-03T04:10:18.892992",
     "status": "completed"
    },
    "tags": []
   },
   "outputs": [
    {
     "name": "stdout",
     "output_type": "stream",
     "text": [
      "1  publications in the last 7 days.\n"
     ]
    }
   ],
   "source": [
    "import datetime\n",
    "from glob import glob\n",
    "\n",
    "def get_last_n_days(lst, days=1):\n",
    "    \"\"\" Get the documents from the last n days \"\"\"\n",
    "    sorted_lst = sorted(lst, key=lambda x: x[1], reverse=True)\n",
    "    for fname, date in sorted_lst:\n",
    "        if date >= str(datetime.date.today() - datetime.timedelta(days=days)):\n",
    "            yield fname\n",
    "\n",
    "def extract_appearance_dates(lst_file):\n",
    "    dates = []\n",
    "\n",
    "    def get_date(line):\n",
    "        return line\\\n",
    "            .split('Appeared on:')[-1]\\\n",
    "            .split('</mark>')[0].strip()\n",
    "\n",
    "    for fname in lst:\n",
    "        with open(fname, 'r') as f:\n",
    "            found_date = False\n",
    "            for line in f:\n",
    "                if not found_date:\n",
    "                    if \"Appeared on\" in line:\n",
    "                        found_date = True\n",
    "                        dates.append((fname, get_date(line)))\n",
    "                else:\n",
    "                    break\n",
    "    return dates\n",
    "\n",
    "from glob import glob\n",
    "lst = glob('_build/html/*md')\n",
    "days = 7\n",
    "dates = extract_appearance_dates(lst)\n",
    "res = list(get_last_n_days(dates, days))\n",
    "npub = len(res)\n",
    "print(len(res), f\" publications in the last {days:d} days.\")"
   ]
  },
  {
   "cell_type": "code",
   "execution_count": 11,
   "id": "52ca0208",
   "metadata": {
    "execution": {
     "iopub.execute_input": "2024-01-03T04:10:18.928373Z",
     "iopub.status.busy": "2024-01-03T04:10:18.928066Z",
     "iopub.status.idle": "2024-01-03T04:10:18.932928Z",
     "shell.execute_reply": "2024-01-03T04:10:18.932344Z"
    },
    "papermill": {
     "duration": 0.010994,
     "end_time": "2024-01-03T04:10:18.934275",
     "exception": false,
     "start_time": "2024-01-03T04:10:18.923281",
     "status": "completed"
    },
    "scrolled": false,
    "tags": []
   },
   "outputs": [],
   "source": [
    "def create_carousel(npub=4):\n",
    "    \"\"\" Generate the HTML code for a carousel with `npub` slides \"\"\"\n",
    "    carousel = [\"\"\"  <div class=\"carousel\" \"\"\",\n",
    "                \"\"\"       data-flickity='{ \"autoPlay\": 10000, \"adaptiveHeight\": true, \"resize\": true, \"wrapAround\": true, \"pauseAutoPlayOnHover\": true, \"groupCells\": 1 }' id=\"asyncTypeset\">\"\"\"\n",
    "                ]\n",
    "    \n",
    "    item_str = \"\"\"    <div class=\"carousel-cell\"> <div id=\"slide{k}\" class=\"md_view\">Content {k}</div> </div>\"\"\"\n",
    "    for k in range(1, npub + 1):\n",
    "        carousel.append(item_str.format(k=k))\n",
    "    carousel.append(\"  </div>\")\n",
    "    return '\\n'.join(carousel)\n",
    "\n",
    "def create_grid(npub=4):\n",
    "    \"\"\" Generate the HTML code for a flat grid with `npub` slides \"\"\"\n",
    "    grid = [\"\"\"  <div class=\"grid\"> \"\"\",\n",
    "                ]\n",
    "    \n",
    "    item_str = \"\"\"    <div class=\"grid-item\"> <div id=\"slide{k}\" class=\"md_view\">Content {k}</div> </div>\"\"\"\n",
    "    for k in range(1, npub + 1):\n",
    "        grid.append(item_str.format(k=k))\n",
    "    grid.append(\"  </div>\")\n",
    "    return '\\n'.join(grid)"
   ]
  },
  {
   "cell_type": "code",
   "execution_count": 12,
   "id": "a6eac5b6",
   "metadata": {
    "execution": {
     "iopub.execute_input": "2024-01-03T04:10:18.943947Z",
     "iopub.status.busy": "2024-01-03T04:10:18.943500Z",
     "iopub.status.idle": "2024-01-03T04:10:18.948326Z",
     "shell.execute_reply": "2024-01-03T04:10:18.947738Z"
    },
    "papermill": {
     "duration": 0.011149,
     "end_time": "2024-01-03T04:10:18.949707",
     "exception": false,
     "start_time": "2024-01-03T04:10:18.938558",
     "status": "completed"
    },
    "scrolled": false,
    "tags": []
   },
   "outputs": [],
   "source": [
    "carousel = create_carousel(npub)\n",
    "docs = ', '.join(['\"{0:s}\"'.format(k.split('/')[-1]) for k in res])\n",
    "slides = ', '.join([f'\"slide{k}\"' for k in range(1, npub + 1)])\n",
    "\n",
    "with open(\"daily_template.html\", \"r\") as tpl:\n",
    "    page = tpl.read()\n",
    "    page = page.replace(\"{%-- carousel:s --%}\", carousel)\\\n",
    "               .replace(\"{%-- suptitle:s --%}\",  \"7-day archives\" )\\\n",
    "               .replace(\"{%-- docs:s --%}\", docs)\\\n",
    "               .replace(\"{%-- slides:s --%}\", slides)\n",
    "    \n",
    "with open(\"_build/html/index_7days.html\", 'w') as fout:\n",
    "    fout.write(page)"
   ]
  },
  {
   "cell_type": "code",
   "execution_count": 13,
   "id": "adc1a1ec",
   "metadata": {
    "execution": {
     "iopub.execute_input": "2024-01-03T04:10:18.959438Z",
     "iopub.status.busy": "2024-01-03T04:10:18.959021Z",
     "iopub.status.idle": "2024-01-03T04:10:18.965681Z",
     "shell.execute_reply": "2024-01-03T04:10:18.965162Z"
    },
    "papermill": {
     "duration": 0.012965,
     "end_time": "2024-01-03T04:10:18.966963",
     "exception": false,
     "start_time": "2024-01-03T04:10:18.953998",
     "status": "completed"
    },
    "tags": []
   },
   "outputs": [
    {
     "name": "stdout",
     "output_type": "stream",
     "text": [
      "1  publications in the last day.\n"
     ]
    }
   ],
   "source": [
    "# redo for today\n",
    "days = 1\n",
    "res = list(get_last_n_days(dates, days))\n",
    "npub = len(res)\n",
    "print(len(res), f\" publications in the last day.\")\n",
    "\n",
    "carousel = create_carousel(npub)\n",
    "docs = ', '.join(['\"{0:s}\"'.format(k.split('/')[-1]) for k in res])\n",
    "slides = ', '.join([f'\"slide{k}\"' for k in range(1, npub + 1)])\n",
    "\n",
    "with open(\"daily_template.html\", \"r\") as tpl:\n",
    "    page = tpl.read()\n",
    "    page = page.replace(\"{%-- carousel:s --%}\", carousel)\\\n",
    "               .replace(\"{%-- suptitle:s --%}\",  \"Daily\" )\\\n",
    "               .replace(\"{%-- docs:s --%}\", docs)\\\n",
    "               .replace(\"{%-- slides:s --%}\", slides)\n",
    "    \n",
    "# print(carousel, docs, slides)\n",
    "# print(page)\n",
    "with open(\"_build/html/index_daily.html\", 'w') as fout:\n",
    "    fout.write(page)"
   ]
  },
  {
   "cell_type": "code",
   "execution_count": 14,
   "id": "00eece82",
   "metadata": {
    "execution": {
     "iopub.execute_input": "2024-01-03T04:10:18.976538Z",
     "iopub.status.busy": "2024-01-03T04:10:18.976197Z",
     "iopub.status.idle": "2024-01-03T04:10:18.982352Z",
     "shell.execute_reply": "2024-01-03T04:10:18.981794Z"
    },
    "papermill": {
     "duration": 0.012327,
     "end_time": "2024-01-03T04:10:18.983633",
     "exception": false,
     "start_time": "2024-01-03T04:10:18.971306",
     "status": "completed"
    },
    "scrolled": false,
    "tags": []
   },
   "outputs": [
    {
     "name": "stdout",
     "output_type": "stream",
     "text": [
      "6  6 publications selected.\n"
     ]
    }
   ],
   "source": [
    "# Create the flat grid of the last N papers (fixed number regardless of dates)\n",
    "from itertools import islice \n",
    "\n",
    "npub = 6\n",
    "res = [k[0] for k in (islice(reversed(sorted(dates, key=lambda x: x[1])), 6))]\n",
    "print(len(res), f\" {npub} publications selected.\")\n",
    "\n",
    "grid = create_grid(npub)\n",
    "docs = ', '.join(['\"{0:s}\"'.format(k.split('/')[-1]) for k in res])\n",
    "slides = ', '.join([f'\"slide{k}\"' for k in range(1, npub + 1)])\n",
    "\n",
    "with open(\"grid_template.html\", \"r\") as tpl:\n",
    "    page = tpl.read()\n",
    "    page = page.replace(\"{%-- grid-content:s --%}\", grid)\\\n",
    "               .replace(\"{%-- suptitle:s --%}\",  f\"Last {npub:,d} papers\" )\\\n",
    "               .replace(\"{%-- docs:s --%}\", docs)\\\n",
    "               .replace(\"{%-- slides:s --%}\", slides)\n",
    "    \n",
    "# print(grid, docs, slides)\n",
    "# print(page)\n",
    "with open(\"_build/html/index_npub_grid.html\", 'w') as fout:\n",
    "    fout.write(page)"
   ]
  }
 ],
 "metadata": {
  "kernelspec": {
   "display_name": "Python 3 (ipykernel)",
   "language": "python",
   "name": "python3"
  },
  "language_info": {
   "codemirror_mode": {
    "name": "ipython",
    "version": 3
   },
   "file_extension": ".py",
   "mimetype": "text/x-python",
   "name": "python",
   "nbconvert_exporter": "python",
   "pygments_lexer": "ipython3",
   "version": "3.9.18"
  },
  "papermill": {
   "default_parameters": {},
   "duration": 55.733852,
   "end_time": "2024-01-03T04:10:19.204328",
   "environment_variables": {},
   "exception": null,
   "input_path": "MPIA daily digest.ipynb",
   "output_path": "log.ipynb",
   "parameters": {},
   "start_time": "2024-01-03T04:09:23.470476",
   "version": "2.5.0"
  },
  "vscode": {
   "interpreter": {
    "hash": "aee8b7b246df8f9039afb4144a1f6fd8d2ca17a180786b69acc140d282b71a49"
   }
  },
  "widgets": {
   "application/vnd.jupyter.widget-state+json": {
    "state": {
     "001a0088cca2430a828044bb005e596e": {
      "model_module": "@jupyter-widgets/base",
      "model_module_version": "2.0.0",
      "model_name": "LayoutModel",
      "state": {
       "_model_module": "@jupyter-widgets/base",
       "_model_module_version": "2.0.0",
       "_model_name": "LayoutModel",
       "_view_count": null,
       "_view_module": "@jupyter-widgets/base",
       "_view_module_version": "2.0.0",
       "_view_name": "LayoutView",
       "align_content": null,
       "align_items": null,
       "align_self": null,
       "border_bottom": null,
       "border_left": null,
       "border_right": null,
       "border_top": null,
       "bottom": null,
       "display": null,
       "flex": null,
       "flex_flow": null,
       "grid_area": null,
       "grid_auto_columns": null,
       "grid_auto_flow": null,
       "grid_auto_rows": null,
       "grid_column": null,
       "grid_gap": null,
       "grid_row": null,
       "grid_template_areas": null,
       "grid_template_columns": null,
       "grid_template_rows": null,
       "height": null,
       "justify_content": null,
       "justify_items": null,
       "left": null,
       "margin": null,
       "max_height": null,
       "max_width": null,
       "min_height": null,
       "min_width": null,
       "object_fit": null,
       "object_position": null,
       "order": null,
       "overflow": null,
       "padding": null,
       "right": null,
       "top": null,
       "visibility": null,
       "width": null
      }
     },
     "063e1b873c12401e9abfdd4971c0fb5a": {
      "model_module": "@jupyter-widgets/controls",
      "model_module_version": "2.0.0",
      "model_name": "HBoxModel",
      "state": {
       "_dom_classes": [],
       "_model_module": "@jupyter-widgets/controls",
       "_model_module_version": "2.0.0",
       "_model_name": "HBoxModel",
       "_view_count": null,
       "_view_module": "@jupyter-widgets/controls",
       "_view_module_version": "2.0.0",
       "_view_name": "HBoxView",
       "box_style": "",
       "children": [
        "IPY_MODEL_a6c6f547bd764335a6cfd8bda69c6c61",
        "IPY_MODEL_84a9a06eb5a54dba8d8ea3ba62f2c234",
        "IPY_MODEL_b17df2a015aa42919fe0eed0afa94f2e"
       ],
       "layout": "IPY_MODEL_001a0088cca2430a828044bb005e596e",
       "tabbable": null,
       "tooltip": null
      }
     },
     "11d801cbd59f4da3a963c383c633d8b3": {
      "model_module": "@jupyter-widgets/controls",
      "model_module_version": "2.0.0",
      "model_name": "ProgressStyleModel",
      "state": {
       "_model_module": "@jupyter-widgets/controls",
       "_model_module_version": "2.0.0",
       "_model_name": "ProgressStyleModel",
       "_view_count": null,
       "_view_module": "@jupyter-widgets/base",
       "_view_module_version": "2.0.0",
       "_view_name": "StyleView",
       "bar_color": null,
       "description_width": ""
      }
     },
     "3366ad4527be4159a3362b60ae6ebd48": {
      "model_module": "@jupyter-widgets/base",
      "model_module_version": "2.0.0",
      "model_name": "LayoutModel",
      "state": {
       "_model_module": "@jupyter-widgets/base",
       "_model_module_version": "2.0.0",
       "_model_name": "LayoutModel",
       "_view_count": null,
       "_view_module": "@jupyter-widgets/base",
       "_view_module_version": "2.0.0",
       "_view_name": "LayoutView",
       "align_content": null,
       "align_items": null,
       "align_self": null,
       "border_bottom": null,
       "border_left": null,
       "border_right": null,
       "border_top": null,
       "bottom": null,
       "display": null,
       "flex": null,
       "flex_flow": null,
       "grid_area": null,
       "grid_auto_columns": null,
       "grid_auto_flow": null,
       "grid_auto_rows": null,
       "grid_column": null,
       "grid_gap": null,
       "grid_row": null,
       "grid_template_areas": null,
       "grid_template_columns": null,
       "grid_template_rows": null,
       "height": null,
       "justify_content": null,
       "justify_items": null,
       "left": null,
       "margin": null,
       "max_height": null,
       "max_width": null,
       "min_height": null,
       "min_width": null,
       "object_fit": null,
       "object_position": null,
       "order": null,
       "overflow": null,
       "padding": null,
       "right": null,
       "top": null,
       "visibility": null,
       "width": null
      }
     },
     "368d6e10f41c4b3288ca0f66f4289023": {
      "model_module": "@jupyter-widgets/base",
      "model_module_version": "2.0.0",
      "model_name": "LayoutModel",
      "state": {
       "_model_module": "@jupyter-widgets/base",
       "_model_module_version": "2.0.0",
       "_model_name": "LayoutModel",
       "_view_count": null,
       "_view_module": "@jupyter-widgets/base",
       "_view_module_version": "2.0.0",
       "_view_name": "LayoutView",
       "align_content": null,
       "align_items": null,
       "align_self": null,
       "border_bottom": null,
       "border_left": null,
       "border_right": null,
       "border_top": null,
       "bottom": null,
       "display": null,
       "flex": null,
       "flex_flow": null,
       "grid_area": null,
       "grid_auto_columns": null,
       "grid_auto_flow": null,
       "grid_auto_rows": null,
       "grid_column": null,
       "grid_gap": null,
       "grid_row": null,
       "grid_template_areas": null,
       "grid_template_columns": null,
       "grid_template_rows": null,
       "height": null,
       "justify_content": null,
       "justify_items": null,
       "left": null,
       "margin": null,
       "max_height": null,
       "max_width": null,
       "min_height": null,
       "min_width": null,
       "object_fit": null,
       "object_position": null,
       "order": null,
       "overflow": null,
       "padding": null,
       "right": null,
       "top": null,
       "visibility": null,
       "width": null
      }
     },
     "84a9a06eb5a54dba8d8ea3ba62f2c234": {
      "model_module": "@jupyter-widgets/controls",
      "model_module_version": "2.0.0",
      "model_name": "FloatProgressModel",
      "state": {
       "_dom_classes": [],
       "_model_module": "@jupyter-widgets/controls",
       "_model_module_version": "2.0.0",
       "_model_name": "FloatProgressModel",
       "_view_count": null,
       "_view_module": "@jupyter-widgets/controls",
       "_view_module_version": "2.0.0",
       "_view_name": "ProgressView",
       "bar_style": "success",
       "description": "",
       "description_allow_html": false,
       "layout": "IPY_MODEL_368d6e10f41c4b3288ca0f66f4289023",
       "max": 2.0,
       "min": 0.0,
       "orientation": "horizontal",
       "style": "IPY_MODEL_11d801cbd59f4da3a963c383c633d8b3",
       "tabbable": null,
       "tooltip": null,
       "value": 2.0
      }
     },
     "a6c6f547bd764335a6cfd8bda69c6c61": {
      "model_module": "@jupyter-widgets/controls",
      "model_module_version": "2.0.0",
      "model_name": "HTMLModel",
      "state": {
       "_dom_classes": [],
       "_model_module": "@jupyter-widgets/controls",
       "_model_module_version": "2.0.0",
       "_model_name": "HTMLModel",
       "_view_count": null,
       "_view_module": "@jupyter-widgets/controls",
       "_view_module_version": "2.0.0",
       "_view_name": "HTMLView",
       "description": "",
       "description_allow_html": false,
       "layout": "IPY_MODEL_3366ad4527be4159a3362b60ae6ebd48",
       "placeholder": "​",
       "style": "IPY_MODEL_bd6ca98360f94e12b93d3de5bbbfe966",
       "tabbable": null,
       "tooltip": null,
       "value": "100%"
      }
     },
     "b17df2a015aa42919fe0eed0afa94f2e": {
      "model_module": "@jupyter-widgets/controls",
      "model_module_version": "2.0.0",
      "model_name": "HTMLModel",
      "state": {
       "_dom_classes": [],
       "_model_module": "@jupyter-widgets/controls",
       "_model_module_version": "2.0.0",
       "_model_name": "HTMLModel",
       "_view_count": null,
       "_view_module": "@jupyter-widgets/controls",
       "_view_module_version": "2.0.0",
       "_view_name": "HTMLView",
       "description": "",
       "description_allow_html": false,
       "layout": "IPY_MODEL_e87a7a1f295948a9ba123b25cf9e25ed",
       "placeholder": "​",
       "style": "IPY_MODEL_f4bcbf5a1a8f450f8c3645f22051d261",
       "tabbable": null,
       "tooltip": null,
       "value": " 2/2 [00:32&lt;00:00, 13.82s/it]"
      }
     },
     "bd6ca98360f94e12b93d3de5bbbfe966": {
      "model_module": "@jupyter-widgets/controls",
      "model_module_version": "2.0.0",
      "model_name": "HTMLStyleModel",
      "state": {
       "_model_module": "@jupyter-widgets/controls",
       "_model_module_version": "2.0.0",
       "_model_name": "HTMLStyleModel",
       "_view_count": null,
       "_view_module": "@jupyter-widgets/base",
       "_view_module_version": "2.0.0",
       "_view_name": "StyleView",
       "background": null,
       "description_width": "",
       "font_size": null,
       "text_color": null
      }
     },
     "e87a7a1f295948a9ba123b25cf9e25ed": {
      "model_module": "@jupyter-widgets/base",
      "model_module_version": "2.0.0",
      "model_name": "LayoutModel",
      "state": {
       "_model_module": "@jupyter-widgets/base",
       "_model_module_version": "2.0.0",
       "_model_name": "LayoutModel",
       "_view_count": null,
       "_view_module": "@jupyter-widgets/base",
       "_view_module_version": "2.0.0",
       "_view_name": "LayoutView",
       "align_content": null,
       "align_items": null,
       "align_self": null,
       "border_bottom": null,
       "border_left": null,
       "border_right": null,
       "border_top": null,
       "bottom": null,
       "display": null,
       "flex": null,
       "flex_flow": null,
       "grid_area": null,
       "grid_auto_columns": null,
       "grid_auto_flow": null,
       "grid_auto_rows": null,
       "grid_column": null,
       "grid_gap": null,
       "grid_row": null,
       "grid_template_areas": null,
       "grid_template_columns": null,
       "grid_template_rows": null,
       "height": null,
       "justify_content": null,
       "justify_items": null,
       "left": null,
       "margin": null,
       "max_height": null,
       "max_width": null,
       "min_height": null,
       "min_width": null,
       "object_fit": null,
       "object_position": null,
       "order": null,
       "overflow": null,
       "padding": null,
       "right": null,
       "top": null,
       "visibility": null,
       "width": null
      }
     },
     "f4bcbf5a1a8f450f8c3645f22051d261": {
      "model_module": "@jupyter-widgets/controls",
      "model_module_version": "2.0.0",
      "model_name": "HTMLStyleModel",
      "state": {
       "_model_module": "@jupyter-widgets/controls",
       "_model_module_version": "2.0.0",
       "_model_name": "HTMLStyleModel",
       "_view_count": null,
       "_view_module": "@jupyter-widgets/base",
       "_view_module_version": "2.0.0",
       "_view_name": "StyleView",
       "background": null,
       "description_width": "",
       "font_size": null,
       "text_color": null
      }
     }
    },
    "version_major": 2,
    "version_minor": 0
   }
  }
 },
 "nbformat": 4,
 "nbformat_minor": 5
}