{
 "cells": [
  {
   "cell_type": "markdown",
   "id": "92bcb855",
   "metadata": {
    "papermill": {
     "duration": 0.00366,
     "end_time": "2024-08-26T04:09:42.228903",
     "exception": false,
     "start_time": "2024-08-26T04:09:42.225243",
     "status": "completed"
    },
    "tags": []
   },
   "source": [
    "# MPIA Arxiv on Deck 2\n",
    "\n",
    "Contains the steps to produce the paper extractions."
   ]
  },
  {
   "cell_type": "code",
   "execution_count": 1,
   "id": "3a0d6e11",
   "metadata": {
    "execution": {
     "iopub.execute_input": "2024-08-26T04:09:42.236253Z",
     "iopub.status.busy": "2024-08-26T04:09:42.235658Z",
     "iopub.status.idle": "2024-08-26T04:09:42.615046Z",
     "shell.execute_reply": "2024-08-26T04:09:42.614383Z"
    },
    "papermill": {
     "duration": 0.384842,
     "end_time": "2024-08-26T04:09:42.616852",
     "exception": false,
     "start_time": "2024-08-26T04:09:42.232010",
     "status": "completed"
    },
    "tags": []
   },
   "outputs": [],
   "source": [
    "# Imports\n",
    "import os\n",
    "from IPython.display import Markdown, display\n",
    "from tqdm.notebook import tqdm\n",
    "import warnings\n",
    "from PIL import Image \n",
    "\n",
    "# requires arxiv_on_deck_2\n",
    "\n",
    "from arxiv_on_deck_2.arxiv2 import (get_new_papers, \n",
    "                                    get_paper_from_identifier,\n",
    "                                    retrieve_document_source, \n",
    "                                    get_markdown_badge)\n",
    "from arxiv_on_deck_2 import (latex,\n",
    "                             latex_bib,\n",
    "                             mpia,\n",
    "                             highlight_authors_in_list)\n",
    "\n",
    "# Sometimes images are really big\n",
    "Image.MAX_IMAGE_PIXELS = 1000000000 "
   ]
  },
  {
   "cell_type": "code",
   "execution_count": 2,
   "id": "22aa9d44",
   "metadata": {
    "execution": {
     "iopub.execute_input": "2024-08-26T04:09:42.624328Z",
     "iopub.status.busy": "2024-08-26T04:09:42.623814Z",
     "iopub.status.idle": "2024-08-26T04:09:42.628784Z",
     "shell.execute_reply": "2024-08-26T04:09:42.628221Z"
    },
    "papermill": {
     "duration": 0.009999,
     "end_time": "2024-08-26T04:09:42.630060",
     "exception": false,
     "start_time": "2024-08-26T04:09:42.620061",
     "status": "completed"
    },
    "tags": []
   },
   "outputs": [],
   "source": [
    "# Some useful definitions.\n",
    "\n",
    "class AffiliationWarning(UserWarning):\n",
    "    pass\n",
    "\n",
    "class AffiliationError(RuntimeError):\n",
    "    pass\n",
    "\n",
    "def validation(source: str):\n",
    "    \"\"\"Raises error paper during parsing of source file\n",
    "    \n",
    "    Allows checks before parsing TeX code.\n",
    "    \n",
    "    Raises AffiliationWarning\n",
    "    \"\"\"\n",
    "    check = mpia.affiliation_verifications(source, verbose=True)\n",
    "    if check is not True:\n",
    "        raise AffiliationError(\"mpia.affiliation_verifications: \" + check)\n",
    "\n",
    "        \n",
    "warnings.simplefilter('always', AffiliationWarning)\n",
    "\n",
    "\n",
    "def get_markdown_qrcode(paper_id: str):\n",
    "    \"\"\" Generate a qrcode to the arxiv page using qrserver.com\n",
    "    \n",
    "    :param paper: Arxiv paper\n",
    "    :returns: markdown text\n",
    "    \"\"\"\n",
    "    url = r\"https://api.qrserver.com/v1/create-qr-code/?size=100x100&data=\"\n",
    "    txt = f\"\"\"<img src={url}\"https://arxiv.org/abs/{paper_id}\">\"\"\"\n",
    "    txt = '<div id=\"qrcode\">' + txt + '</div>'\n",
    "    return txt"
   ]
  },
  {
   "cell_type": "markdown",
   "id": "14bd6310",
   "metadata": {
    "papermill": {
     "duration": 0.002807,
     "end_time": "2024-08-26T04:09:42.635786",
     "exception": false,
     "start_time": "2024-08-26T04:09:42.632979",
     "status": "completed"
    },
    "tags": []
   },
   "source": [
    "## get list of arxiv paper candidates\n",
    "\n",
    "We use the MPIA mitarbeiter list webpage from mpia.de to get author names\n",
    "We then get all new papers from Arxiv and match authors"
   ]
  },
  {
   "cell_type": "code",
   "execution_count": 3,
   "id": "7ea813a8",
   "metadata": {
    "execution": {
     "iopub.execute_input": "2024-08-26T04:09:42.642611Z",
     "iopub.status.busy": "2024-08-26T04:09:42.642239Z",
     "iopub.status.idle": "2024-08-26T04:09:59.217988Z",
     "shell.execute_reply": "2024-08-26T04:09:59.217383Z"
    },
    "papermill": {
     "duration": 16.580879,
     "end_time": "2024-08-26T04:09:59.219598",
     "exception": false,
     "start_time": "2024-08-26T04:09:42.638719",
     "status": "completed"
    },
    "tags": []
   },
   "outputs": [],
   "source": [
    "# deal with the author list and edge cases of people that cannot be consistent on their name  \n",
    "\n",
    "def filter_non_scientists(name: str) -> bool:\n",
    "    \"\"\" Loose filter on expected authorships\n",
    "\n",
    "    removing IT, administration, technical staff\n",
    "    :param name: name\n",
    "    :returns: False if name is not a scientist\n",
    "    \"\"\"\n",
    "    remove_list = ['Wolf', 'Licht', 'Binroth', 'Witzel', 'Jordan',\n",
    "                   'Zähringer', 'Scheerer', 'Hoffmann', 'Düe',\n",
    "                   'Hellmich', 'Enkler-Scharpegge', 'Witte-Nguy',\n",
    "                   'Dehen', 'Beckmann', 'Jager', 'Jäger'\n",
    "                  ]\n",
    "\n",
    "    for k in remove_list:\n",
    "        if k in name:\n",
    "            return False\n",
    "    return True\n",
    "\n",
    "def add_author_to_list(author_list: list) -> list:\n",
    "    \"\"\" Add author to list if not already in list\n",
    "    \n",
    "    :param author: author name\n",
    "    :param author_list: list of authors\n",
    "    :returns: updated list of authors\n",
    "    \"\"\"\n",
    "    add_list = ['T. Henning']\n",
    "\n",
    "    for author in add_list:\n",
    "        if author not in author_list:\n",
    "            author_list.append(author)\n",
    "    return author_list\n",
    "\n",
    "# get list from MPIA website\n",
    "# filter for non-scientists (mpia.get_mpia_mitarbeiter_list() does some filtering)\n",
    "mpia_authors = [k[1] for k in mpia.get_mpia_mitarbeiter_list() if filter_non_scientists(k[1])]\n",
    "# add some missing author because of inconsistencies in their MPIA name and author name on papers\n",
    "mpia_authors = add_author_to_list(mpia_authors)"
   ]
  },
  {
   "cell_type": "code",
   "execution_count": 4,
   "id": "2645e73a",
   "metadata": {
    "execution": {
     "iopub.execute_input": "2024-08-26T04:09:59.227219Z",
     "iopub.status.busy": "2024-08-26T04:09:59.226787Z",
     "iopub.status.idle": "2024-08-26T04:09:59.660074Z",
     "shell.execute_reply": "2024-08-26T04:09:59.659406Z"
    },
    "papermill": {
     "duration": 0.438483,
     "end_time": "2024-08-26T04:09:59.661385",
     "exception": false,
     "start_time": "2024-08-26T04:09:59.222902",
     "status": "completed"
    },
    "tags": []
   },
   "outputs": [
    {
     "name": "stdout",
     "output_type": "stream",
     "text": [
      "J. Li  ->  J. Li  |  ['J. Li']\n",
      "J. Liu  ->  J. Liu  |  ['J. Liu']\n",
      "M. Habouzit  ->  M. Habouzit  |  ['M. Habouzit']\n",
      "X. Zhang  ->  X. Zhang  |  ['X. Zhang']\n",
      "J. Bouwman  ->  J. Bouwman  |  ['J. Bouwman']\n",
      "Arxiv has 39 new papers today\n",
      "          5 with possible author matches\n"
     ]
    }
   ],
   "source": [
    "new_papers = get_new_papers()\n",
    "# add manual references\n",
    "add_paper_refs = []\n",
    "new_papers.extend([get_paper_from_identifier(k) for k in add_paper_refs])\n",
    "\n",
    "candidates = []\n",
    "for paperk in new_papers:\n",
    "    # Check author list with their initials\n",
    "    normed_author_list = [mpia.get_initials(k) for k in paperk['authors']]\n",
    "    hl_authors = highlight_authors_in_list(normed_author_list, mpia_authors, verbose=True)\n",
    "    matches = [(hl, orig) for hl, orig in zip(hl_authors, paperk['authors']) if 'mark' in hl]\n",
    "    paperk['authors'] = hl_authors\n",
    "    if matches:\n",
    "        # only select paper if an author matched our list\n",
    "        candidates.append(paperk)\n",
    "print(\"\"\"Arxiv has {0:,d} new papers today\"\"\".format(len(new_papers)))        \n",
    "print(\"\"\"          {0:,d} with possible author matches\"\"\".format(len(candidates)))"
   ]
  },
  {
   "cell_type": "markdown",
   "id": "3543b34a",
   "metadata": {
    "papermill": {
     "duration": 0.003026,
     "end_time": "2024-08-26T04:09:59.668523",
     "exception": false,
     "start_time": "2024-08-26T04:09:59.665497",
     "status": "completed"
    },
    "tags": []
   },
   "source": [
    "# Parse sources and generate relevant outputs\n",
    "\n",
    "From the candidates, we do the following steps:\n",
    "* get their tarball from ArXiv (and extract data)\n",
    "* find the main .tex file: find one with \\documentclass{...} (sometimes it's non trivial)\n",
    "* Check affiliations with :func:`validation`, which uses :func:`mpia.affiliation_verifications`\n",
    "* If passing the affiliations: we parse the .tex source\n",
    "   * inject sub-documents into the main (flatten the main document)\n",
    "   * parse structure, extract information (title, abstract, authors, figures...)\n",
    "   * handles `\\graphicspath` if provided\n",
    "* Generate the .md document."
   ]
  },
  {
   "cell_type": "code",
   "execution_count": 5,
   "id": "9576b79e",
   "metadata": {
    "execution": {
     "iopub.execute_input": "2024-08-26T04:09:59.675694Z",
     "iopub.status.busy": "2024-08-26T04:09:59.675310Z",
     "iopub.status.idle": "2024-08-26T04:10:43.138618Z",
     "shell.execute_reply": "2024-08-26T04:10:43.137850Z"
    },
    "papermill": {
     "duration": 43.469787,
     "end_time": "2024-08-26T04:10:43.141329",
     "exception": false,
     "start_time": "2024-08-26T04:09:59.671542",
     "status": "completed"
    },
    "scrolled": false,
    "tags": []
   },
   "outputs": [
    {
     "data": {
      "application/vnd.jupyter.widget-view+json": {
       "model_id": "01f0138df8ce40ef94f06d03c35d9089",
       "version_major": 2,
       "version_minor": 0
      },
      "text/plain": [
       "  0%|          | 0/5 [00:00<?, ?it/s]"
      ]
     },
     "metadata": {},
     "output_type": "display_data"
    },
    {
     "name": "stdout",
     "output_type": "stream",
     "text": [
      "Retrieving document from  https://arxiv.org/e-print/2408.12713\n"
     ]
    },
    {
     "name": "stdout",
     "output_type": "stream",
     "text": [
      "extracting tarball to tmp_2408.12713... done.\n",
      "Retrieving document from  https://arxiv.org/e-print/2408.12765\n"
     ]
    },
    {
     "name": "stdout",
     "output_type": "stream",
     "text": [
      "extracting tarball to tmp_2408.12765..."
     ]
    },
    {
     "name": "stdout",
     "output_type": "stream",
     "text": [
      " done.\n",
      "Retrieving document from  https://arxiv.org/e-print/2408.12854\n"
     ]
    },
    {
     "name": "stdout",
     "output_type": "stream",
     "text": [
      "extracting tarball to tmp_2408.12854... done.\n"
     ]
    },
    {
     "name": "stdout",
     "output_type": "stream",
     "text": [
      "M. Habouzit  ->  M. Habouzit  |  ['M. Habouzit']\n"
     ]
    },
    {
     "name": "stdout",
     "output_type": "stream",
     "text": [
      "Found 75 bibliographic references in tmp_2408.12854/aanda.bbl.\n",
      "Retrieving document from  https://arxiv.org/e-print/2408.12929\n",
      "extracting tarball to tmp_2408.12929... done.\n",
      "Retrieving document from  https://arxiv.org/e-print/2408.13141\n"
     ]
    },
    {
     "name": "stdout",
     "output_type": "stream",
     "text": [
      "extracting tarball to tmp_2408.13141..."
     ]
    },
    {
     "name": "stdout",
     "output_type": "stream",
     "text": [
      " done.\n"
     ]
    },
    {
     "name": "stderr",
     "output_type": "stream",
     "text": [
      "/opt/hostedtoolcache/Python/3.9.19/x64/lib/python3.9/site-packages/IPython/core/interactiveshell.py:3550: LatexWarning: Multiple tex files.\n",
      "\n",
      "  exec(code_obj, self.user_global_ns, self.user_ns)\n",
      "/tmp/ipykernel_2713/1211882699.py:51: LatexWarning: 2408.13141 did not run properly\n",
      "'PosixPath' object is not subscriptable\n",
      "  warnings.warn(latex.LatexWarning(f\"{paper_id:s} did not run properly\\n\" +\n"
     ]
    }
   ],
   "source": [
    "documents = []\n",
    "failed = []\n",
    "for paper in tqdm(candidates):\n",
    "    # debug crap\n",
    "    paper['identifier'] = paper['identifier'].lower().replace('arxiv:', '').replace(r'\\n', '').strip()\n",
    "    paper_id = paper['identifier']\n",
    "    \n",
    "    folder = f'tmp_{paper_id}'\n",
    "\n",
    "    try:\n",
    "        if not os.path.isdir(folder):\n",
    "            folder = retrieve_document_source(f\"{paper_id}\", f'tmp_{paper_id}')\n",
    "        \n",
    "        try:\n",
    "            doc = latex.LatexDocument(folder, validation=validation)    \n",
    "        except AffiliationError as affilerror:\n",
    "            msg = f\"ArXiv:{paper_id:s} is not an MPIA paper... \" + str(affilerror)\n",
    "            failed.append((paper, \"affiliation error: \" + str(affilerror) ))\n",
    "            continue\n",
    "        \n",
    "        # Hack because sometimes author parsing does not work well\n",
    "        if (len(doc.authors) != len(paper['authors'])):\n",
    "            doc._authors = paper['authors']\n",
    "        else:\n",
    "            # highlight authors (FIXME: doc.highlight_authors)\n",
    "            # done on arxiv paper already\n",
    "            doc._authors = highlight_authors_in_list(\n",
    "                [mpia.get_initials(k) for k in doc.authors], \n",
    "                mpia_authors, verbose=True)\n",
    "        if (doc.abstract) in (None, ''):\n",
    "            doc._abstract = paper['abstract']\n",
    "            \n",
    "        doc.comment = (get_markdown_badge(paper_id) + \n",
    "                       \"<mark>Appeared on: \" + paper['date'] + \"</mark> - \")\n",
    "        if paper['comments']:\n",
    "            doc.comment += \" _\" + paper['comments'] + \"_\"\n",
    "        \n",
    "        full_md = doc.generate_markdown_text()\n",
    "        \n",
    "        full_md += get_markdown_qrcode(paper_id)\n",
    "        \n",
    "        # replace citations\n",
    "        try:\n",
    "            bibdata = latex_bib.LatexBib.from_doc(doc)\n",
    "            full_md = latex_bib.replace_citations(full_md, bibdata)\n",
    "        except Exception as e:\n",
    "            print(e)\n",
    "        \n",
    "        documents.append((paper_id, full_md))\n",
    "    except Exception as e:\n",
    "        warnings.warn(latex.LatexWarning(f\"{paper_id:s} did not run properly\\n\" +\n",
    "                                         str(e)\n",
    "                                        ))\n",
    "        failed.append((paper, \"latex error \" + str(e)))"
   ]
  },
  {
   "cell_type": "markdown",
   "id": "2505a25c",
   "metadata": {
    "papermill": {
     "duration": 0.003669,
     "end_time": "2024-08-26T04:10:43.148884",
     "exception": false,
     "start_time": "2024-08-26T04:10:43.145215",
     "status": "completed"
    },
    "tags": []
   },
   "source": [
    "### Export the logs\n",
    "\n",
    "Throughout, we also keep track of the logs per paper. see `logs-{today date}.md` "
   ]
  },
  {
   "cell_type": "code",
   "execution_count": 6,
   "id": "d733828a",
   "metadata": {
    "execution": {
     "iopub.execute_input": "2024-08-26T04:10:43.157329Z",
     "iopub.status.busy": "2024-08-26T04:10:43.156914Z",
     "iopub.status.idle": "2024-08-26T04:10:43.172171Z",
     "shell.execute_reply": "2024-08-26T04:10:43.171564Z"
    },
    "papermill": {
     "duration": 0.020909,
     "end_time": "2024-08-26T04:10:43.173437",
     "exception": false,
     "start_time": "2024-08-26T04:10:43.152528",
     "status": "completed"
    },
    "scrolled": false,
    "tags": []
   },
   "outputs": [
    {
     "data": {
      "text/markdown": [
       "## Successful papers"
      ],
      "text/plain": [
       "<IPython.core.display.Markdown object>"
      ]
     },
     "metadata": {},
     "output_type": "display_data"
    },
    {
     "data": {
      "text/markdown": [
       "\n",
       "|||\n",
       "|---:|:---|\n",
       "| [![arXiv](https://img.shields.io/badge/arXiv-2408.12854-b31b1b.svg)](https://arxiv.org/abs/2408.12854) | **Exploring Active Galactic Nuclei and Little Red Dots with the Obelisk simulation**  |\n",
       "|| M. Volonteri, et al. -- incl., <mark>M. Habouzit</mark> |\n",
       "|*Appeared on*| *2024-08-26*|\n",
       "|*Comments*| *Submitted to A&A*|\n",
       "|**Abstract**|            The James Webb Space telescope has discovered an abundant population of broad line emitters, typical signposts for Active Galactic Nuclei (AGN). Many of these sources have red colors and a compact appearance that has led to naming them `Little Red Dots'. In this paper we develop a detailed framework to estimate the photometry of AGN embedded in galaxies extracted from the Obelisk cosmological simulation to understand the properties of color-selected Little Red Dots (cLRDs) in the context of the full AGN and massive black hole population. We find that using realistic spectral energy distributions (SEDs) and attenuation for AGN we can explain the shape of the cLRD SED as long as galaxies host a sufficiently luminous AGN that is not too much or too little attenuated. When attenuation is too low or too high, AGN do not enter the cLRD selection, because the AGN dominates over the host galaxy too much in blue filters, or it does not contribute to photometry anywhere, respectively. cLRDs are also characterized by high Eddington ratios, possibility super-Eddington, and/or high ratios between black hole and stellar mass.         |"
      ],
      "text/plain": [
       "[2408.12854] Exploring Active Galactic Nuclei and Little Red Dots with the Obelisk simulation\n",
       "\tM. Volonteri, et al. -- incl., <mark>M. Habouzit</mark>"
      ]
     },
     "metadata": {},
     "output_type": "display_data"
    },
    {
     "data": {
      "text/markdown": [
       "## Failed papers"
      ],
      "text/plain": [
       "<IPython.core.display.Markdown object>"
      ]
     },
     "metadata": {},
     "output_type": "display_data"
    },
    {
     "data": {
      "text/markdown": [
       "\n",
       "|||\n",
       "|---:|:---|\n",
       "| [![arXiv](https://img.shields.io/badge/arXiv-2408.12713-b31b1b.svg)](https://arxiv.org/abs/2408.12713) | **NEXUS: the North ecliptic pole EXtragalactic Unified Survey**  |\n",
       "|| Y. Shen, et al. -- incl., <mark>J. Li</mark> |\n",
       "|*Appeared on*| *2024-08-26*|\n",
       "|*Comments*| *19 pages*|\n",
       "|**Abstract**|            NEXUS is a JWST Multi-Cycle (Cycles 3-5; 368 primary hrs) GO Treasury imaging and spectroscopic survey around the North Ecliptic Pole. It contains two overlapping tiers. The Wide tier ($\\sim 400~{\\rm arcmin}^2$) performs NIRCam/WFSS 2.4-5 micron grism spectroscopy with three epochs over 3 years (final continuum ${\\rm S/N/pixel>3}$ at F444W$<22.2$). The Deep tier ($\\sim 50~{\\rm arcmin}^2$) performs high-multiplexing NIRSpec 0.6-5.3 micron MOS/PRISM spectroscopy for $\\sim 10,000$ targets, over 18 epochs with a 2-month cadence (epoch/final continuum ${\\rm S/N/pixel>3}$ at F200W$\\lesssim 27/29$). All epochs have simultaneous multi-band NIRCam and MIRI imaging ($5\\sigma$ final depths of $\\sim 28-29$ in NIRCam and $\\sim 25$ in MIRI). The field is within the continuous viewing zone of JWST, and is fully covered by the Euclid Ultra-Deep Field, with 0.9-2 micron deep Euclid spectroscopy and cadenced photometry. NEXUS has three science pillars. First, with its massive and nearly complete (flux-limited) spectroscopic samples and deep photometry, it will perform efficient classification and physical characterization of galaxies and AGNs from $z\\sim 1$ to Cosmic Dawn. With the large contiguous area coverage, it will measure the spatial clustering and demography of the first galaxies and SMBHs at $z>6$. Second, multi-epoch observations enable systematic time-domain investigations, focusing on $z>3$ transients and low-mass AGN reverberation mapping. Third, the comprehensive data set will enable knowledge transfer to other legacy fields, create data challenges, and initiate benchmark work for future space missions. With rapid public releases of processed data and an open invitation for collaboration, NEXUS aims for broad and swift community engagement, to become a powerhouse to drive transformative advancements in multiple key science areas of astronomy.         |\n",
       "|<p style=\"color:green\"> **ERROR** </p>| <p style=\"color:green\">affiliation error: mpia.affiliation_verifications: 'Heidelberg' keyword not found.</p> |"
      ],
      "text/plain": [
       "<IPython.core.display.Markdown object>"
      ]
     },
     "metadata": {},
     "output_type": "display_data"
    },
    {
     "data": {
      "text/markdown": [
       "\n",
       "|||\n",
       "|---:|:---|\n",
       "| [![arXiv](https://img.shields.io/badge/arXiv-2408.12765-b31b1b.svg)](https://arxiv.org/abs/2408.12765) | **Variable Stars in M31 Stellar Clusters from the Panchromatic Hubble Andromeda Treasury**  |\n",
       "|| R. Smith, et al. -- incl., <mark>J. Liu</mark> |\n",
       "|*Appeared on*| *2024-08-26*|\n",
       "|*Comments*| *36 pages, 18 figures; accepted for publication in ApJ*|\n",
       "|**Abstract**|            Variable stars in stellar clusters can offer key constraints on stellar evolution and pulsation models, utilising estimates of host cluster properties to constrain stellar physical parameters. We present a catalogue of 86 luminous (F814W<19) variable stars in M31 clusters identified by mining the archival Panchromatic Hubble Andromeda Treasury (PHAT) survey using a combination of statistical analysis of sparse PHAT light curves and difference imaging. We determine the evolutionary phases and initial masses of these variable stars by matching them with theoretical isochrones generated using host cluster properties from the literature. We calculate the probability of PHAT photometry being blended due to the highly crowded nature of cluster environments for each cluster-variable star, using these probabilities to inform our level of confidence in the derived properties of each star. Our 86 cluster-variable stars have initial masses between 0.8--67 $M_{\\odot}$. Their evolutionary phases span the main sequence, more evolved hydrogen- and helium-burning phases, and the post-asymptotic giant branch. We identify numerous candidate variable star types: RV Tauri variables, red supergiants and slowly pulsating B-type supergiants, along with Wolf Rayet stars, $\\alpha$ Cygni and Mira variables, a classical Cepheid and a possible super-asymptotic giant. We characterise 12 cluster-variable stars at higher confidence based on their difference image quality and lower blending probability. Ours is the first systematic study of variable stars in extragalactic stellar clusters leveraging the superior resolution of the Hubble Space Telescope and demonstrating the unique power of stellar clusters in constraining the fundamental properties of variable stars.         |\n",
       "|<p style=\"color:green\"> **ERROR** </p>| <p style=\"color:green\">affiliation error: mpia.affiliation_verifications: 'Heidelberg' keyword not found.</p> |"
      ],
      "text/plain": [
       "<IPython.core.display.Markdown object>"
      ]
     },
     "metadata": {},
     "output_type": "display_data"
    },
    {
     "data": {
      "text/markdown": [
       "\n",
       "|||\n",
       "|---:|:---|\n",
       "| [![arXiv](https://img.shields.io/badge/arXiv-2408.12929-b31b1b.svg)](https://arxiv.org/abs/2408.12929) | **The Velocity Aberration Effect of the CSST Main Survey Camera**  |\n",
       "|| H.-M. Feng, et al. -- incl., <mark>X. Zhang</mark> |\n",
       "|*Appeared on*| *2024-08-26*|\n",
       "|*Comments*| *13 pages, 8 figures; accepted by RAA*|\n",
       "|**Abstract**|            In this study, we conducted simulations to find the geometric aberrations expected for images taken by the Main Survey Camera (MSC) of the Chinese Space Station Telescope (CSST) due to its motion. As anticipated by previous work, our findings indicate that the geometric distortion of light impacts the focal plane's apparent scale, with a more pronounced influence as the size of the focal plane increases. Our models suggest that the effect consistently influences the pixel scale in both the vertical and parallel directions. The apparent scale variation follows a sinusoidal distribution throughout one orbit period. Simulations reveal that the effect is particularly pronounced in the center of the Galaxy and gradually diminishes along the direction of ecliptic latitude. At low ecliptic latitudes, the total aberration leads to about 0.94 pixels offset (a 20-minute exposure) and 0.26 pixels offset (a 300-second exposure) at the edge of the field of view, respectively. Appropriate processings for the geometric effect during the CSST pre- and post-observation phases are presented.         |\n",
       "|<p style=\"color:green\"> **ERROR** </p>| <p style=\"color:green\">affiliation error: mpia.affiliation_verifications: 'Heidelberg' keyword not found.</p> |"
      ],
      "text/plain": [
       "<IPython.core.display.Markdown object>"
      ]
     },
     "metadata": {},
     "output_type": "display_data"
    },
    {
     "data": {
      "text/markdown": [
       "\n",
       "|||\n",
       "|---:|:---|\n",
       "| [![arXiv](https://img.shields.io/badge/arXiv-2408.13141-b31b1b.svg)](https://arxiv.org/abs/2408.13141) | **Laser-induced fragmentation of coronene cations**  |\n",
       "|| S. Panchagnula, et al. -- incl., <mark>J. Bouwman</mark> |\n",
       "|*Appeared on*| *2024-08-26*|\n",
       "|*Comments*| *17 pages, 12 figure. Version submitted after referee report to PCCP. Supplementary information available at this https URL*|\n",
       "|**Abstract**|            Polycyclic aromatic hydrocarbons are an important component of the interstellar medium of galaxies and photochemistry plays a key role in the evolution of these species in space. Here, we explore the photofragmentation behaviour of the coronene cation (C24H12+) using time of flight mass spectrometry. The experiments show photodissociation fragmentation channels including the formation of bare carbon clusters (Cn+) and hydrocarbon chains (CnHx+). The mass spectrum of coronene is dominated by peaks from C11+ and C7H+. Density functional theory was used to calculate relative energies, potential dissociation pathways, and possible structures for relevant species. We identify 6-6 to 5-7 ring isomerisation as a key step in the formation of both the bare carbon clusters and the hydrocarbon chains observed in this study. We present the dissociation mechanism outlined here as a potential formation route for C60 and other astrochemically relevant species.         |\n",
       "|<p style=\"color:red\"> **ERROR** </p>| <p style=\"color:red\">latex error 'PosixPath' object is not subscriptable</p> |"
      ],
      "text/plain": [
       "<IPython.core.display.Markdown object>"
      ]
     },
     "metadata": {},
     "output_type": "display_data"
    }
   ],
   "source": [
    "import datetime\n",
    "today = str(datetime.date.today())\n",
    "logfile = f\"_build/html/logs/log-{today}.md\"\n",
    "\n",
    "\n",
    "with open(logfile, 'w') as logs:\n",
    "    # Success\n",
    "    logs.write(f'# Arxiv on Deck 2: Logs - {today}\\n\\n')\n",
    "    logs.write(\"\"\"* Arxiv had {0:,d} new papers\\n\"\"\".format(len(new_papers)))\n",
    "    logs.write(\"\"\"    * {0:,d} with possible author matches\\n\\n\"\"\".format(len(candidates)))\n",
    "    logs.write(\"## Sucessful papers\\n\\n\")\n",
    "    display(Markdown(\"## Successful papers\"))\n",
    "    success = [k[0] for k in documents]\n",
    "    for candid in candidates:\n",
    "        if candid['identifier'].split(':')[-1] in success:\n",
    "            display(candid)\n",
    "            logs.write(candid.generate_markdown_text() + '\\n\\n')\n",
    "\n",
    "    ## failed\n",
    "    logs.write(\"## Failed papers\\n\\n\")\n",
    "    display(Markdown(\"## Failed papers\"))\n",
    "    failed = sorted(failed, key=lambda x: x[1])\n",
    "    current_reason = \"\"\n",
    "    for paper, reason in failed:\n",
    "        if 'affiliation' in reason:\n",
    "            color = 'green'\n",
    "        else:\n",
    "            color = 'red'\n",
    "        data = Markdown(\n",
    "                paper.generate_markdown_text() + \n",
    "                f'\\n|<p style=\"color:{color:s}\"> **ERROR** </p>| <p style=\"color:{color:s}\">{reason:s}</p> |'\n",
    "               )\n",
    "        if reason != current_reason:\n",
    "            logs.write(f'### {reason:s} \\n\\n')\n",
    "            current_reason = reason\n",
    "        logs.write(data.data + '\\n\\n')\n",
    "        \n",
    "        # only display here the important errors (all in logs)\n",
    "        # if color in ('red',):\n",
    "        display(data)"
   ]
  },
  {
   "cell_type": "markdown",
   "id": "472d20ee",
   "metadata": {
    "papermill": {
     "duration": 0.004264,
     "end_time": "2024-08-26T04:10:43.182080",
     "exception": false,
     "start_time": "2024-08-26T04:10:43.177816",
     "status": "completed"
    },
    "tags": []
   },
   "source": [
    "## Export documents\n",
    "\n",
    "We now write the .md files and export relevant images"
   ]
  },
  {
   "cell_type": "code",
   "execution_count": 7,
   "id": "d426aed9",
   "metadata": {
    "execution": {
     "iopub.execute_input": "2024-08-26T04:10:43.191787Z",
     "iopub.status.busy": "2024-08-26T04:10:43.191384Z",
     "iopub.status.idle": "2024-08-26T04:10:43.198121Z",
     "shell.execute_reply": "2024-08-26T04:10:43.197489Z"
    },
    "papermill": {
     "duration": 0.013069,
     "end_time": "2024-08-26T04:10:43.199394",
     "exception": false,
     "start_time": "2024-08-26T04:10:43.186325",
     "status": "completed"
    },
    "tags": []
   },
   "outputs": [],
   "source": [
    "def export_markdown_summary(md: str, md_fname:str, directory: str):\n",
    "    \"\"\"Export MD document and associated relevant images\"\"\"\n",
    "    import os\n",
    "    import shutil\n",
    "    import re\n",
    "\n",
    "    if (os.path.exists(directory) and not os.path.isdir(directory)):\n",
    "        raise RuntimeError(f\"a non-directory file exists with name {directory:s}\")\n",
    "\n",
    "    if (not os.path.exists(directory)):\n",
    "        print(f\"creating directory {directory:s}\")\n",
    "        os.mkdir(directory)\n",
    "\n",
    "    fig_fnames = (re.compile(r'\\[Fig.*\\]\\((.*)\\)').findall(md) + \n",
    "                  re.compile(r'\\<img src=\"([^>\\s]*)\"[^>]*/>').findall(md))\n",
    "    print(\"found figures\", fig_fnames)\n",
    "    for fname in fig_fnames:\n",
    "        if 'http' in fname:\n",
    "            # No need to copy online figures\n",
    "            continue\n",
    "        if not os.path.exists(fname):\n",
    "            print(\"file not found\", fname)\n",
    "            continue\n",
    "        print(\"copying \", fname, \"to\", directory)\n",
    "        destdir = os.path.join(directory, os.path.dirname(fname))\n",
    "        destfname = os.path.join(destdir, os.path.basename(fname))\n",
    "        try:\n",
    "            os.makedirs(destdir)\n",
    "        except FileExistsError:\n",
    "            pass\n",
    "        shutil.copy(fname, destfname)\n",
    "    with open(os.path.join(directory, md_fname), 'w') as fout:\n",
    "        fout.write(md)\n",
    "    print(\"exported in \", os.path.join(directory, md_fname))\n",
    "    [print(\"    + \" + os.path.join(directory,fk)) for fk in fig_fnames]"
   ]
  },
  {
   "cell_type": "code",
   "execution_count": 8,
   "id": "014d04a4",
   "metadata": {
    "execution": {
     "iopub.execute_input": "2024-08-26T04:10:43.209170Z",
     "iopub.status.busy": "2024-08-26T04:10:43.208816Z",
     "iopub.status.idle": "2024-08-26T04:10:43.218337Z",
     "shell.execute_reply": "2024-08-26T04:10:43.217737Z"
    },
    "papermill": {
     "duration": 0.015955,
     "end_time": "2024-08-26T04:10:43.219696",
     "exception": false,
     "start_time": "2024-08-26T04:10:43.203741",
     "status": "completed"
    },
    "tags": []
   },
   "outputs": [
    {
     "name": "stdout",
     "output_type": "stream",
     "text": [
      "found figures ['tmp_2408.12854/./Figures/NHdistr_z6_LRDs.png', 'tmp_2408.12854/./Figures/NH_taugal.png', 'tmp_2408.12854/./Figures/mag_sEdd_mag_SMC.png', 'tmp_2408.12854/./Figures/mag_pac_mag_SMC.png', 'tmp_2408.12854/./Figures/mag_sEdd_mag_MW.png', 'tmp_2408.12854/./Figures/mag_pac_mag_MW.png', 'tmp_2408.12854/./Figures/bolLF_LRDs_Obelisk_gal.png']\n",
      "copying  tmp_2408.12854/./Figures/NHdistr_z6_LRDs.png to _build/html/\n",
      "copying  tmp_2408.12854/./Figures/NH_taugal.png to _build/html/\n",
      "copying  tmp_2408.12854/./Figures/mag_sEdd_mag_SMC.png to _build/html/\n",
      "copying  tmp_2408.12854/./Figures/mag_pac_mag_SMC.png to _build/html/\n",
      "copying  tmp_2408.12854/./Figures/mag_sEdd_mag_MW.png to _build/html/\n",
      "copying  tmp_2408.12854/./Figures/mag_pac_mag_MW.png to _build/html/\n",
      "copying  tmp_2408.12854/./Figures/bolLF_LRDs_Obelisk_gal.png to _build/html/\n",
      "exported in  _build/html/2408.12854.md\n",
      "    + _build/html/tmp_2408.12854/./Figures/NHdistr_z6_LRDs.png\n",
      "    + _build/html/tmp_2408.12854/./Figures/NH_taugal.png\n",
      "    + _build/html/tmp_2408.12854/./Figures/mag_sEdd_mag_SMC.png\n",
      "    + _build/html/tmp_2408.12854/./Figures/mag_pac_mag_SMC.png\n",
      "    + _build/html/tmp_2408.12854/./Figures/mag_sEdd_mag_MW.png\n",
      "    + _build/html/tmp_2408.12854/./Figures/mag_pac_mag_MW.png\n",
      "    + _build/html/tmp_2408.12854/./Figures/bolLF_LRDs_Obelisk_gal.png\n"
     ]
    }
   ],
   "source": [
    "for paper_id, md in documents:\n",
    "    export_markdown_summary(md, f\"{paper_id:s}.md\", '_build/html/')"
   ]
  },
  {
   "cell_type": "markdown",
   "id": "f087a0a7",
   "metadata": {
    "papermill": {
     "duration": 0.004305,
     "end_time": "2024-08-26T04:10:43.228421",
     "exception": false,
     "start_time": "2024-08-26T04:10:43.224116",
     "status": "completed"
    },
    "tags": []
   },
   "source": [
    "## Display the papers\n",
    "\n",
    "Not necessary but allows for a quick check."
   ]
  },
  {
   "cell_type": "code",
   "execution_count": 9,
   "id": "fd25f625",
   "metadata": {
    "execution": {
     "iopub.execute_input": "2024-08-26T04:10:43.238091Z",
     "iopub.status.busy": "2024-08-26T04:10:43.237750Z",
     "iopub.status.idle": "2024-08-26T04:10:43.242363Z",
     "shell.execute_reply": "2024-08-26T04:10:43.241823Z"
    },
    "papermill": {
     "duration": 0.010902,
     "end_time": "2024-08-26T04:10:43.243674",
     "exception": false,
     "start_time": "2024-08-26T04:10:43.232772",
     "status": "completed"
    },
    "scrolled": false,
    "tags": []
   },
   "outputs": [
    {
     "data": {
      "text/markdown": [
       "<div class=\"macros\" style=\"visibility:hidden;\">\n",
       "$\\newcommand{\\ensuremath}{}$\n",
       "$\\newcommand{\\xspace}{}$\n",
       "$\\newcommand{\\object}[1]{\\texttt{#1}}$\n",
       "$\\newcommand{\\farcs}{{.}''}$\n",
       "$\\newcommand{\\farcm}{{.}'}$\n",
       "$\\newcommand{\\arcsec}{''}$\n",
       "$\\newcommand{\\arcmin}{'}$\n",
       "$\\newcommand{\\ion}[2]{#1#2}$\n",
       "$\\newcommand{\\textsc}[1]{\\textrm{#1}}$\n",
       "$\\newcommand{\\hl}[1]{\\textrm{#1}}$\n",
       "$\\newcommand{\\footnote}[1]{}$\n",
       "$\\newcommand{\\mv}[1]{{\\textcolor{orange}{\\sf{[MV: #1]}} }}$\n",
       "$\\newcommand{\\yo}[1]{{\\textcolor{purple}{\\sf{[YD: #1]}} }}$\n",
       "$\\newcommand{\\ca}[1]{{\\textcolor{brown}{\\sf{[CA: #1]}} }}$\n",
       "$\\newcommand{\\mt}[1]{{\\textcolor{blue}{\\sf{[MT: #1]}} }}$\n",
       "$\\newcommand{\\mh}[1]{{\\textcolor{teal}{\\sf{[MH: #1]}} }}$\n",
       "$\\newcommand{\\rb}[1]{{\\textcolor{magenta}{\\sf{[RB: #1]}} }}$\n",
       "$\\newcommand{\\Obelisk}{\\textsc{Obelisk}}$\n",
       "$\\newcommand{\\fedd}{\\ensuremath{f_{\\rm Edd}}}$\n",
       "$\\newcommand{\\kms}{ {\\rm km s^{-1}}}$\n",
       "$\\newcommand{\\msun}{ {\\rm M_\\odot}}$\n",
       "$\\newcommand{\\mstar}{\\ensuremath{M_{\\rm star}}}$\n",
       "$\\newcommand{\\mbh}{\\ensuremath{M_{\\rm BH}}}$\n",
       "$\\newcommand{\\yilun}[1]{{\\textcolor{cyan}{\\sf{[Yilun: #1]}} }}$\n",
       "$\\newcommand{\\al}[1]{{\\textcolor{magenta}{\\sf{[AL: #1]}} }}$\n",
       "$\\newcommand\\hyper{@linkstart##1##2 $\n",
       "$}$\n",
       "$\\newcommand\\hyper{@linkstart##1##2 $\n",
       "$}$\n",
       "$\\newcommand\\hyper{@linkstart##1##2 $\n",
       "$}$\n",
       "$\\newcommand\\hyper{@linkstart##1##2 $\n",
       "$}$</div>\n",
       "\n",
       "\n",
       "\n",
       "<div id=\"title\">\n",
       "\n",
       "# Exploring Active Galactic Nuclei and Little Red Dots with the Obelisk simulation\n",
       "\n",
       "</div>\n",
       "<div id=\"comments\">\n",
       "\n",
       "[![arXiv](https://img.shields.io/badge/arXiv-2408.12854-b31b1b.svg)](https://arxiv.org/abs/2408.12854)<mark>Appeared on: 2024-08-26</mark> -  _Submitted to A&A_\n",
       "\n",
       "</div>\n",
       "<div id=\"authors\">\n",
       "\n",
       "M. Volonteri, et al. -- incl., <mark>M. Habouzit</mark>\n",
       "\n",
       "</div>\n",
       "<div id=\"abstract\">\n",
       "\n",
       "**Abstract:** The James Webb Space telescope has discovered an abundant population of broad line emitters, typical signposts for Active Galactic Nuclei (AGN). Many of these sources have red colors and a compact appearance that has led to naming them `Little Red Dots'. In this paper we develop a detailed framework to estimate the photometry of AGN embedded in galaxies extracted from the $\\Obelisk$ cosmological simulation to understand the properties of color-selected Little Red Dots (cLRDs) in the context of the full AGN and massive black hole population. We find that using realistic spectral energy distributions (SEDs) and attenuation for AGN we can explain the shape of the cLRD SED as long as galaxies host a sufficiently luminous AGN that is not too much or too little attenuated. When attenuation is too low or too high, AGN do not enter the cLRD selection, because the AGN dominates over the host galaxy too much in blue filters, or it does not contribute to photometry anywhere, respectively. cLRDs are also characterized by high Eddington ratios, possibility super-Eddington, and/or high ratios between black hole and stellar mass.\n",
       "\n",
       "</div>\n",
       "\n",
       "<div id=\"div_fig1\">\n",
       "\n",
       "<img src=\"tmp_2408.12854/./Figures/NHdistr_z6_LRDs.png\" alt=\"Fig4.1\" width=\"50%\"/><img src=\"tmp_2408.12854/./Figures/NH_taugal.png\" alt=\"Fig4.2\" width=\"50%\"/>\n",
       "\n",
       "**Figure 4. -** Top: distribution of hydrogen column density seen by the AGN as a function of galaxy stellar mass at $z=6$. This is the column density integrated above the dust sublimation radius, i.e. the column density that enters into calculating dust absorption. The red points highlight the cases that host a cLRD meeting the UNCOVER selection. Bottom: distribution of `effective' hydrogen column density for starlight obtained from the ratio of intrinsic and attenuated fluxes in each JWST filter we have considered (Eq. \\ref{eq:effNH}). (*fig:NHdistr*)\n",
       "\n",
       "</div>\n",
       "<div id=\"div_fig2\">\n",
       "\n",
       "<img src=\"tmp_2408.12854/./Figures/mag_sEdd_mag_SMC.png\" alt=\"Fig9.1\" width=\"25%\"/><img src=\"tmp_2408.12854/./Figures/mag_pac_mag_SMC.png\" alt=\"Fig9.2\" width=\"25%\"/><img src=\"tmp_2408.12854/./Figures/mag_sEdd_mag_MW.png\" alt=\"Fig9.3\" width=\"25%\"/><img src=\"tmp_2408.12854/./Figures/mag_pac_mag_MW.png\" alt=\"Fig9.4\" width=\"25%\"/>\n",
       "\n",
       "**Figure 9. -** Magnitudes for the `sEdd' and `overm' models and SMC-like dust (top panels) and MW-like dust (bottom panels).  The orange triangles and gray circles show separately the flux of AGN and galaxies, when selecting systems with $L_{\\rm bol}>10^{44}  {\\rm erg   s}^{-1}$ and m444W$<$28 (total flux, summing both AGN and galaxy contribution). The red dots have both of the above, plus the UNCOVER color selection, and show the combined galaxy+AGN flux. We have limited the y-axis to 50 to highlight the relevant parameter space. At 115 and 200 the galaxy is almost always brighter than the AGN, whose contribution increases as the wavelength increases. For the `overm' case some AGN are brighter than the galaxy also at short wavelenghts.  (*fig:mag_z6_80*)\n",
       "\n",
       "</div>\n",
       "<div id=\"div_fig3\">\n",
       "\n",
       "<img src=\"tmp_2408.12854/./Figures/bolLF_LRDs_Obelisk_gal.png\" alt=\"Fig2\" width=\"100%\"/>\n",
       "\n",
       "**Figure 2. -** Bolometric luminosity function for the actual MBHs in the simulation (`true') and for the models describes in  Table \\ref{tab:models}, where \"resc\" means we have corrected the number densities for the overdensity bias: $\\Obelisk$  is a protocluster. To obtain the cosmic average we have rescaled the $\\Obelisk$  galaxy mass function to that of the NewHorizon simulation, which simulates an average region of the Universe. This figure assumes an active fraction of unity, and therefore represents an upper limit to the LF for each of the models. The results are compared to the luminosity functions derived in \\citet[][M+24]{2024ApJ...963..129M} and \\citet[][G+24]{2024ApJ...964...39G} from JWST data and to fits to the evolution of the bolometric luminosity function derived in \\citet[][S+20, pre-JWST]{2020MNRAS.495.3252S}.  (*fig:bolLF*)\n",
       "\n",
       "</div><div id=\"qrcode\"><img src=https://api.qrserver.com/v1/create-qr-code/?size=100x100&data=\"https://arxiv.org/abs/2408.12854\"></div>"
      ],
      "text/plain": [
       "<IPython.core.display.Markdown object>"
      ]
     },
     "metadata": {},
     "output_type": "display_data"
    }
   ],
   "source": [
    "[display(Markdown(k[1])) for k in documents];"
   ]
  },
  {
   "cell_type": "markdown",
   "id": "873873a4",
   "metadata": {
    "papermill": {
     "duration": 0.004615,
     "end_time": "2024-08-26T04:10:43.253087",
     "exception": false,
     "start_time": "2024-08-26T04:10:43.248472",
     "status": "completed"
    },
    "tags": []
   },
   "source": [
    "# Create HTML index"
   ]
  },
  {
   "cell_type": "code",
   "execution_count": 10,
   "id": "cf665672",
   "metadata": {
    "execution": {
     "iopub.execute_input": "2024-08-26T04:10:43.263317Z",
     "iopub.status.busy": "2024-08-26T04:10:43.262902Z",
     "iopub.status.idle": "2024-08-26T04:10:43.270574Z",
     "shell.execute_reply": "2024-08-26T04:10:43.270064Z"
    },
    "papermill": {
     "duration": 0.014209,
     "end_time": "2024-08-26T04:10:43.271848",
     "exception": false,
     "start_time": "2024-08-26T04:10:43.257639",
     "status": "completed"
    },
    "tags": []
   },
   "outputs": [
    {
     "name": "stdout",
     "output_type": "stream",
     "text": [
      "167  publications files modified in the last 7 days.\n"
     ]
    }
   ],
   "source": [
    "from datetime import datetime, timedelta, timezone\n",
    "from glob import glob\n",
    "import os\n",
    "\n",
    "files = glob('_build/html/*.md')\n",
    "days = 7\n",
    "now = datetime.today()\n",
    "res = []\n",
    "for fk in files:\n",
    "    stat_result = os.stat(fk).st_ctime\n",
    "    modified = datetime.fromtimestamp(stat_result, tz=timezone.utc).replace(tzinfo=None)\n",
    "    delta = now.today() - modified\n",
    "    if delta <= timedelta(days=days):\n",
    "        res.append((delta.seconds, fk))\n",
    "res = [k[1] for k in reversed(sorted(res, key=lambda x:x[1]))]\n",
    "npub = len(res)\n",
    "print(len(res), f\" publications files modified in the last {days:d} days.\")\n",
    "# [ print('\\t', k) for k in res ];"
   ]
  },
  {
   "cell_type": "code",
   "execution_count": 11,
   "id": "015de740",
   "metadata": {
    "execution": {
     "iopub.execute_input": "2024-08-26T04:10:43.282097Z",
     "iopub.status.busy": "2024-08-26T04:10:43.281915Z",
     "iopub.status.idle": "2024-08-26T04:10:43.295687Z",
     "shell.execute_reply": "2024-08-26T04:10:43.295184Z"
    },
    "papermill": {
     "duration": 0.020413,
     "end_time": "2024-08-26T04:10:43.297011",
     "exception": false,
     "start_time": "2024-08-26T04:10:43.276598",
     "status": "completed"
    },
    "tags": []
   },
   "outputs": [
    {
     "name": "stdout",
     "output_type": "stream",
     "text": [
      "4  publications in the last 7 days.\n"
     ]
    }
   ],
   "source": [
    "import datetime\n",
    "from glob import glob\n",
    "\n",
    "def get_last_n_days(lst, days=1):\n",
    "    \"\"\" Get the documents from the last n days \"\"\"\n",
    "    sorted_lst = sorted(lst, key=lambda x: x[1], reverse=True)\n",
    "    for fname, date in sorted_lst:\n",
    "        if date >= str(datetime.date.today() - datetime.timedelta(days=days)):\n",
    "            yield fname\n",
    "\n",
    "def extract_appearance_dates(lst_file):\n",
    "    dates = []\n",
    "\n",
    "    def get_date(line):\n",
    "        return line\\\n",
    "            .split('Appeared on:')[-1]\\\n",
    "            .split('</mark>')[0].strip()\n",
    "\n",
    "    for fname in lst:\n",
    "        with open(fname, 'r') as f:\n",
    "            found_date = False\n",
    "            for line in f:\n",
    "                if not found_date:\n",
    "                    if \"Appeared on\" in line:\n",
    "                        found_date = True\n",
    "                        dates.append((fname, get_date(line)))\n",
    "                else:\n",
    "                    break\n",
    "    return dates\n",
    "\n",
    "from glob import glob\n",
    "lst = glob('_build/html/*md')\n",
    "days = 7\n",
    "dates = extract_appearance_dates(lst)\n",
    "res = list(get_last_n_days(dates, days))\n",
    "npub = len(res)\n",
    "print(len(res), f\" publications in the last {days:d} days.\")"
   ]
  },
  {
   "cell_type": "code",
   "execution_count": 12,
   "id": "52ca0208",
   "metadata": {
    "execution": {
     "iopub.execute_input": "2024-08-26T04:10:43.307682Z",
     "iopub.status.busy": "2024-08-26T04:10:43.307261Z",
     "iopub.status.idle": "2024-08-26T04:10:43.312204Z",
     "shell.execute_reply": "2024-08-26T04:10:43.311639Z"
    },
    "papermill": {
     "duration": 0.01169,
     "end_time": "2024-08-26T04:10:43.313476",
     "exception": false,
     "start_time": "2024-08-26T04:10:43.301786",
     "status": "completed"
    },
    "scrolled": false,
    "tags": []
   },
   "outputs": [],
   "source": [
    "def create_carousel(npub=4):\n",
    "    \"\"\" Generate the HTML code for a carousel with `npub` slides \"\"\"\n",
    "    carousel = [\"\"\"  <div class=\"carousel\" \"\"\",\n",
    "                \"\"\"       data-flickity='{ \"autoPlay\": 10000, \"adaptiveHeight\": true, \"resize\": true, \"wrapAround\": true, \"pauseAutoPlayOnHover\": true, \"groupCells\": 1 }' id=\"asyncTypeset\">\"\"\"\n",
    "                ]\n",
    "    \n",
    "    item_str = \"\"\"    <div class=\"carousel-cell\"> <div id=\"slide{k}\" class=\"md_view\">Content {k}</div> </div>\"\"\"\n",
    "    for k in range(1, npub + 1):\n",
    "        carousel.append(item_str.format(k=k))\n",
    "    carousel.append(\"  </div>\")\n",
    "    return '\\n'.join(carousel)\n",
    "\n",
    "def create_grid(npub=4):\n",
    "    \"\"\" Generate the HTML code for a flat grid with `npub` slides \"\"\"\n",
    "    grid = [\"\"\"  <div class=\"grid\"> \"\"\",\n",
    "                ]\n",
    "    \n",
    "    item_str = \"\"\"    <div class=\"grid-item\"> <div id=\"slide{k}\" class=\"md_view\">Content {k}</div> </div>\"\"\"\n",
    "    for k in range(1, npub + 1):\n",
    "        grid.append(item_str.format(k=k))\n",
    "    grid.append(\"  </div>\")\n",
    "    return '\\n'.join(grid)"
   ]
  },
  {
   "cell_type": "code",
   "execution_count": 13,
   "id": "a6eac5b6",
   "metadata": {
    "execution": {
     "iopub.execute_input": "2024-08-26T04:10:43.324324Z",
     "iopub.status.busy": "2024-08-26T04:10:43.323825Z",
     "iopub.status.idle": "2024-08-26T04:10:43.328716Z",
     "shell.execute_reply": "2024-08-26T04:10:43.328099Z"
    },
    "papermill": {
     "duration": 0.01162,
     "end_time": "2024-08-26T04:10:43.330002",
     "exception": false,
     "start_time": "2024-08-26T04:10:43.318382",
     "status": "completed"
    },
    "scrolled": false,
    "tags": []
   },
   "outputs": [],
   "source": [
    "carousel = create_carousel(npub)\n",
    "docs = ', '.join(['\"{0:s}\"'.format(k.split('/')[-1]) for k in res])\n",
    "slides = ', '.join([f'\"slide{k}\"' for k in range(1, npub + 1)])\n",
    "\n",
    "with open(\"daily_template.html\", \"r\") as tpl:\n",
    "    page = tpl.read()\n",
    "    page = page.replace(\"{%-- carousel:s --%}\", carousel)\\\n",
    "               .replace(\"{%-- suptitle:s --%}\",  \"7-day archives\" )\\\n",
    "               .replace(\"{%-- docs:s --%}\", docs)\\\n",
    "               .replace(\"{%-- slides:s --%}\", slides)\n",
    "    \n",
    "with open(\"_build/html/index_7days.html\", 'w') as fout:\n",
    "    fout.write(page)"
   ]
  },
  {
   "cell_type": "code",
   "execution_count": 14,
   "id": "adc1a1ec",
   "metadata": {
    "execution": {
     "iopub.execute_input": "2024-08-26T04:10:43.340856Z",
     "iopub.status.busy": "2024-08-26T04:10:43.340325Z",
     "iopub.status.idle": "2024-08-26T04:10:43.346452Z",
     "shell.execute_reply": "2024-08-26T04:10:43.345896Z"
    },
    "papermill": {
     "duration": 0.012895,
     "end_time": "2024-08-26T04:10:43.347723",
     "exception": false,
     "start_time": "2024-08-26T04:10:43.334828",
     "status": "completed"
    },
    "tags": []
   },
   "outputs": [
    {
     "name": "stdout",
     "output_type": "stream",
     "text": [
      "1  publications in the last day.\n"
     ]
    }
   ],
   "source": [
    "# redo for today\n",
    "days = 1\n",
    "res = list(get_last_n_days(dates, days))\n",
    "npub = len(res)\n",
    "print(len(res), f\" publications in the last day.\")\n",
    "\n",
    "carousel = create_carousel(npub)\n",
    "docs = ', '.join(['\"{0:s}\"'.format(k.split('/')[-1]) for k in res])\n",
    "slides = ', '.join([f'\"slide{k}\"' for k in range(1, npub + 1)])\n",
    "\n",
    "with open(\"daily_template.html\", \"r\") as tpl:\n",
    "    page = tpl.read()\n",
    "    page = page.replace(\"{%-- carousel:s --%}\", carousel)\\\n",
    "               .replace(\"{%-- suptitle:s --%}\",  \"Daily\" )\\\n",
    "               .replace(\"{%-- docs:s --%}\", docs)\\\n",
    "               .replace(\"{%-- slides:s --%}\", slides)\n",
    "    \n",
    "# print(carousel, docs, slides)\n",
    "# print(page)\n",
    "with open(\"_build/html/index_daily.html\", 'w') as fout:\n",
    "    fout.write(page)"
   ]
  },
  {
   "cell_type": "code",
   "execution_count": 15,
   "id": "00eece82",
   "metadata": {
    "execution": {
     "iopub.execute_input": "2024-08-26T04:10:43.358643Z",
     "iopub.status.busy": "2024-08-26T04:10:43.358225Z",
     "iopub.status.idle": "2024-08-26T04:10:43.364689Z",
     "shell.execute_reply": "2024-08-26T04:10:43.364127Z"
    },
    "papermill": {
     "duration": 0.013215,
     "end_time": "2024-08-26T04:10:43.365994",
     "exception": false,
     "start_time": "2024-08-26T04:10:43.352779",
     "status": "completed"
    },
    "scrolled": false,
    "tags": []
   },
   "outputs": [
    {
     "name": "stdout",
     "output_type": "stream",
     "text": [
      "6  6 publications selected.\n"
     ]
    }
   ],
   "source": [
    "# Create the flat grid of the last N papers (fixed number regardless of dates)\n",
    "from itertools import islice \n",
    "\n",
    "npub = 6\n",
    "res = [k[0] for k in (islice(reversed(sorted(dates, key=lambda x: x[1])), 6))]\n",
    "print(len(res), f\" {npub} publications selected.\")\n",
    "\n",
    "grid = create_grid(npub)\n",
    "docs = ', '.join(['\"{0:s}\"'.format(k.split('/')[-1]) for k in res])\n",
    "slides = ', '.join([f'\"slide{k}\"' for k in range(1, npub + 1)])\n",
    "\n",
    "with open(\"grid_template.html\", \"r\") as tpl:\n",
    "    page = tpl.read()\n",
    "    page = page.replace(\"{%-- grid-content:s --%}\", grid)\\\n",
    "               .replace(\"{%-- suptitle:s --%}\",  f\"Last {npub:,d} papers\" )\\\n",
    "               .replace(\"{%-- docs:s --%}\", docs)\\\n",
    "               .replace(\"{%-- slides:s --%}\", slides)\n",
    "    \n",
    "# print(grid, docs, slides)\n",
    "# print(page)\n",
    "with open(\"_build/html/index_npub_grid.html\", 'w') as fout:\n",
    "    fout.write(page)"
   ]
  }
 ],
 "metadata": {
  "kernelspec": {
   "display_name": "Python 3 (ipykernel)",
   "language": "python",
   "name": "python3"
  },
  "language_info": {
   "codemirror_mode": {
    "name": "ipython",
    "version": 3
   },
   "file_extension": ".py",
   "mimetype": "text/x-python",
   "name": "python",
   "nbconvert_exporter": "python",
   "pygments_lexer": "ipython3",
   "version": "3.9.19"
  },
  "papermill": {
   "default_parameters": {},
   "duration": 62.229626,
   "end_time": "2024-08-26T04:10:43.587104",
   "environment_variables": {},
   "exception": null,
   "input_path": "MPIA daily digest.ipynb",
   "output_path": "log.ipynb",
   "parameters": {},
   "start_time": "2024-08-26T04:09:41.357478",
   "version": "2.6.0"
  },
  "vscode": {
   "interpreter": {
    "hash": "aee8b7b246df8f9039afb4144a1f6fd8d2ca17a180786b69acc140d282b71a49"
   }
  },
  "widgets": {
   "application/vnd.jupyter.widget-state+json": {
    "state": {
     "011820fdba344e35a3103efbb4708641": {
      "model_module": "@jupyter-widgets/controls",
      "model_module_version": "2.0.0",
      "model_name": "FloatProgressModel",
      "state": {
       "_dom_classes": [],
       "_model_module": "@jupyter-widgets/controls",
       "_model_module_version": "2.0.0",
       "_model_name": "FloatProgressModel",
       "_view_count": null,
       "_view_module": "@jupyter-widgets/controls",
       "_view_module_version": "2.0.0",
       "_view_name": "ProgressView",
       "bar_style": "success",
       "description": "",
       "description_allow_html": false,
       "layout": "IPY_MODEL_f94428fd0c424650a4cb5c9f3b7446e9",
       "max": 5.0,
       "min": 0.0,
       "orientation": "horizontal",
       "style": "IPY_MODEL_79d65c2f4a544c18b1d6b953ad01e5a4",
       "tabbable": null,
       "tooltip": null,
       "value": 5.0
      }
     },
     "01f0138df8ce40ef94f06d03c35d9089": {
      "model_module": "@jupyter-widgets/controls",
      "model_module_version": "2.0.0",
      "model_name": "HBoxModel",
      "state": {
       "_dom_classes": [],
       "_model_module": "@jupyter-widgets/controls",
       "_model_module_version": "2.0.0",
       "_model_name": "HBoxModel",
       "_view_count": null,
       "_view_module": "@jupyter-widgets/controls",
       "_view_module_version": "2.0.0",
       "_view_name": "HBoxView",
       "box_style": "",
       "children": [
        "IPY_MODEL_5c3880cc9a154f84ae602c8a50276468",
        "IPY_MODEL_011820fdba344e35a3103efbb4708641",
        "IPY_MODEL_96a7776cb1f64057966b0d7deef7c350"
       ],
       "layout": "IPY_MODEL_866513926ab94cc3ab9cada1cd06e4aa",
       "tabbable": null,
       "tooltip": null
      }
     },
     "45a451fe55624aeeada727d831de014e": {
      "model_module": "@jupyter-widgets/controls",
      "model_module_version": "2.0.0",
      "model_name": "HTMLStyleModel",
      "state": {
       "_model_module": "@jupyter-widgets/controls",
       "_model_module_version": "2.0.0",
       "_model_name": "HTMLStyleModel",
       "_view_count": null,
       "_view_module": "@jupyter-widgets/base",
       "_view_module_version": "2.0.0",
       "_view_name": "StyleView",
       "background": null,
       "description_width": "",
       "font_size": null,
       "text_color": null
      }
     },
     "5c3880cc9a154f84ae602c8a50276468": {
      "model_module": "@jupyter-widgets/controls",
      "model_module_version": "2.0.0",
      "model_name": "HTMLModel",
      "state": {
       "_dom_classes": [],
       "_model_module": "@jupyter-widgets/controls",
       "_model_module_version": "2.0.0",
       "_model_name": "HTMLModel",
       "_view_count": null,
       "_view_module": "@jupyter-widgets/controls",
       "_view_module_version": "2.0.0",
       "_view_name": "HTMLView",
       "description": "",
       "description_allow_html": false,
       "layout": "IPY_MODEL_fdf946f1f2124dfd82b6188ba115eeb7",
       "placeholder": "​",
       "style": "IPY_MODEL_74f4845f3b8947c887ce0e86bd0862e2",
       "tabbable": null,
       "tooltip": null,
       "value": "100%"
      }
     },
     "74f4845f3b8947c887ce0e86bd0862e2": {
      "model_module": "@jupyter-widgets/controls",
      "model_module_version": "2.0.0",
      "model_name": "HTMLStyleModel",
      "state": {
       "_model_module": "@jupyter-widgets/controls",
       "_model_module_version": "2.0.0",
       "_model_name": "HTMLStyleModel",
       "_view_count": null,
       "_view_module": "@jupyter-widgets/base",
       "_view_module_version": "2.0.0",
       "_view_name": "StyleView",
       "background": null,
       "description_width": "",
       "font_size": null,
       "text_color": null
      }
     },
     "79d65c2f4a544c18b1d6b953ad01e5a4": {
      "model_module": "@jupyter-widgets/controls",
      "model_module_version": "2.0.0",
      "model_name": "ProgressStyleModel",
      "state": {
       "_model_module": "@jupyter-widgets/controls",
       "_model_module_version": "2.0.0",
       "_model_name": "ProgressStyleModel",
       "_view_count": null,
       "_view_module": "@jupyter-widgets/base",
       "_view_module_version": "2.0.0",
       "_view_name": "StyleView",
       "bar_color": null,
       "description_width": ""
      }
     },
     "866513926ab94cc3ab9cada1cd06e4aa": {
      "model_module": "@jupyter-widgets/base",
      "model_module_version": "2.0.0",
      "model_name": "LayoutModel",
      "state": {
       "_model_module": "@jupyter-widgets/base",
       "_model_module_version": "2.0.0",
       "_model_name": "LayoutModel",
       "_view_count": null,
       "_view_module": "@jupyter-widgets/base",
       "_view_module_version": "2.0.0",
       "_view_name": "LayoutView",
       "align_content": null,
       "align_items": null,
       "align_self": null,
       "border_bottom": null,
       "border_left": null,
       "border_right": null,
       "border_top": null,
       "bottom": null,
       "display": null,
       "flex": null,
       "flex_flow": null,
       "grid_area": null,
       "grid_auto_columns": null,
       "grid_auto_flow": null,
       "grid_auto_rows": null,
       "grid_column": null,
       "grid_gap": null,
       "grid_row": null,
       "grid_template_areas": null,
       "grid_template_columns": null,
       "grid_template_rows": null,
       "height": null,
       "justify_content": null,
       "justify_items": null,
       "left": null,
       "margin": null,
       "max_height": null,
       "max_width": null,
       "min_height": null,
       "min_width": null,
       "object_fit": null,
       "object_position": null,
       "order": null,
       "overflow": null,
       "padding": null,
       "right": null,
       "top": null,
       "visibility": null,
       "width": null
      }
     },
     "96a7776cb1f64057966b0d7deef7c350": {
      "model_module": "@jupyter-widgets/controls",
      "model_module_version": "2.0.0",
      "model_name": "HTMLModel",
      "state": {
       "_dom_classes": [],
       "_model_module": "@jupyter-widgets/controls",
       "_model_module_version": "2.0.0",
       "_model_name": "HTMLModel",
       "_view_count": null,
       "_view_module": "@jupyter-widgets/controls",
       "_view_module_version": "2.0.0",
       "_view_name": "HTMLView",
       "description": "",
       "description_allow_html": false,
       "layout": "IPY_MODEL_d9f883b7a1264e12aab175a6e6860448",
       "placeholder": "​",
       "style": "IPY_MODEL_45a451fe55624aeeada727d831de014e",
       "tabbable": null,
       "tooltip": null,
       "value": " 5/5 [00:43&lt;00:00,  8.60s/it]"
      }
     },
     "d9f883b7a1264e12aab175a6e6860448": {
      "model_module": "@jupyter-widgets/base",
      "model_module_version": "2.0.0",
      "model_name": "LayoutModel",
      "state": {
       "_model_module": "@jupyter-widgets/base",
       "_model_module_version": "2.0.0",
       "_model_name": "LayoutModel",
       "_view_count": null,
       "_view_module": "@jupyter-widgets/base",
       "_view_module_version": "2.0.0",
       "_view_name": "LayoutView",
       "align_content": null,
       "align_items": null,
       "align_self": null,
       "border_bottom": null,
       "border_left": null,
       "border_right": null,
       "border_top": null,
       "bottom": null,
       "display": null,
       "flex": null,
       "flex_flow": null,
       "grid_area": null,
       "grid_auto_columns": null,
       "grid_auto_flow": null,
       "grid_auto_rows": null,
       "grid_column": null,
       "grid_gap": null,
       "grid_row": null,
       "grid_template_areas": null,
       "grid_template_columns": null,
       "grid_template_rows": null,
       "height": null,
       "justify_content": null,
       "justify_items": null,
       "left": null,
       "margin": null,
       "max_height": null,
       "max_width": null,
       "min_height": null,
       "min_width": null,
       "object_fit": null,
       "object_position": null,
       "order": null,
       "overflow": null,
       "padding": null,
       "right": null,
       "top": null,
       "visibility": null,
       "width": null
      }
     },
     "f94428fd0c424650a4cb5c9f3b7446e9": {
      "model_module": "@jupyter-widgets/base",
      "model_module_version": "2.0.0",
      "model_name": "LayoutModel",
      "state": {
       "_model_module": "@jupyter-widgets/base",
       "_model_module_version": "2.0.0",
       "_model_name": "LayoutModel",
       "_view_count": null,
       "_view_module": "@jupyter-widgets/base",
       "_view_module_version": "2.0.0",
       "_view_name": "LayoutView",
       "align_content": null,
       "align_items": null,
       "align_self": null,
       "border_bottom": null,
       "border_left": null,
       "border_right": null,
       "border_top": null,
       "bottom": null,
       "display": null,
       "flex": null,
       "flex_flow": null,
       "grid_area": null,
       "grid_auto_columns": null,
       "grid_auto_flow": null,
       "grid_auto_rows": null,
       "grid_column": null,
       "grid_gap": null,
       "grid_row": null,
       "grid_template_areas": null,
       "grid_template_columns": null,
       "grid_template_rows": null,
       "height": null,
       "justify_content": null,
       "justify_items": null,
       "left": null,
       "margin": null,
       "max_height": null,
       "max_width": null,
       "min_height": null,
       "min_width": null,
       "object_fit": null,
       "object_position": null,
       "order": null,
       "overflow": null,
       "padding": null,
       "right": null,
       "top": null,
       "visibility": null,
       "width": null
      }
     },
     "fdf946f1f2124dfd82b6188ba115eeb7": {
      "model_module": "@jupyter-widgets/base",
      "model_module_version": "2.0.0",
      "model_name": "LayoutModel",
      "state": {
       "_model_module": "@jupyter-widgets/base",
       "_model_module_version": "2.0.0",
       "_model_name": "LayoutModel",
       "_view_count": null,
       "_view_module": "@jupyter-widgets/base",
       "_view_module_version": "2.0.0",
       "_view_name": "LayoutView",
       "align_content": null,
       "align_items": null,
       "align_self": null,
       "border_bottom": null,
       "border_left": null,
       "border_right": null,
       "border_top": null,
       "bottom": null,
       "display": null,
       "flex": null,
       "flex_flow": null,
       "grid_area": null,
       "grid_auto_columns": null,
       "grid_auto_flow": null,
       "grid_auto_rows": null,
       "grid_column": null,
       "grid_gap": null,
       "grid_row": null,
       "grid_template_areas": null,
       "grid_template_columns": null,
       "grid_template_rows": null,
       "height": null,
       "justify_content": null,
       "justify_items": null,
       "left": null,
       "margin": null,
       "max_height": null,
       "max_width": null,
       "min_height": null,
       "min_width": null,
       "object_fit": null,
       "object_position": null,
       "order": null,
       "overflow": null,
       "padding": null,
       "right": null,
       "top": null,
       "visibility": null,
       "width": null
      }
     }
    },
    "version_major": 2,
    "version_minor": 0
   }
  }
 },
 "nbformat": 4,
 "nbformat_minor": 5
}