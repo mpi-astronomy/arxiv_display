{
 "cells": [
  {
   "cell_type": "markdown",
   "id": "92bcb855",
   "metadata": {
    "papermill": {
     "duration": 0.005117,
     "end_time": "2023-05-10T04:03:33.694834",
     "exception": false,
     "start_time": "2023-05-10T04:03:33.689717",
     "status": "completed"
    },
    "tags": []
   },
   "source": [
    "# MPIA Arxiv on Deck 2\n",
    "\n",
    "Contains the steps to produce the paper extractions."
   ]
  },
  {
   "cell_type": "code",
   "execution_count": 1,
   "id": "3a0d6e11",
   "metadata": {
    "execution": {
     "iopub.execute_input": "2023-05-10T04:03:33.704205Z",
     "iopub.status.busy": "2023-05-10T04:03:33.703484Z",
     "iopub.status.idle": "2023-05-10T04:03:33.935342Z",
     "shell.execute_reply": "2023-05-10T04:03:33.934629Z"
    },
    "papermill": {
     "duration": 0.239124,
     "end_time": "2023-05-10T04:03:33.937875",
     "exception": false,
     "start_time": "2023-05-10T04:03:33.698751",
     "status": "completed"
    },
    "tags": []
   },
   "outputs": [],
   "source": [
    "# Imports\n",
    "import os\n",
    "from IPython.display import Markdown, display\n",
    "from tqdm.notebook import tqdm\n",
    "import warnings\n",
    "from PIL import Image \n",
    "\n",
    "# requires arxiv_on_deck_2\n",
    "\n",
    "from arxiv_on_deck_2.arxiv2 import (get_new_papers, \n",
    "                                    get_paper_from_identifier,\n",
    "                                    retrieve_document_source, \n",
    "                                    get_markdown_badge)\n",
    "from arxiv_on_deck_2 import (latex,\n",
    "                             latex_bib,\n",
    "                             mpia,\n",
    "                             highlight_authors_in_list)\n",
    "\n",
    "# Sometimes images are really big\n",
    "Image.MAX_IMAGE_PIXELS = 1000000000 "
   ]
  },
  {
   "cell_type": "code",
   "execution_count": 2,
   "id": "22aa9d44",
   "metadata": {
    "execution": {
     "iopub.execute_input": "2023-05-10T04:03:33.946983Z",
     "iopub.status.busy": "2023-05-10T04:03:33.946536Z",
     "iopub.status.idle": "2023-05-10T04:03:33.952294Z",
     "shell.execute_reply": "2023-05-10T04:03:33.951614Z"
    },
    "papermill": {
     "duration": 0.011945,
     "end_time": "2023-05-10T04:03:33.953862",
     "exception": false,
     "start_time": "2023-05-10T04:03:33.941917",
     "status": "completed"
    },
    "tags": []
   },
   "outputs": [],
   "source": [
    "# Some useful definitions.\n",
    "\n",
    "class AffiliationWarning(UserWarning):\n",
    "    pass\n",
    "\n",
    "class AffiliationError(RuntimeError):\n",
    "    pass\n",
    "\n",
    "def validation(source: str):\n",
    "    \"\"\"Raises error paper during parsing of source file\n",
    "    \n",
    "    Allows checks before parsing TeX code.\n",
    "    \n",
    "    Raises AffiliationWarning\n",
    "    \"\"\"\n",
    "    check = mpia.affiliation_verifications(source, verbose=True)\n",
    "    if check is not True:\n",
    "        raise AffiliationError(\"mpia.affiliation_verifications: \" + check)\n",
    "\n",
    "        \n",
    "warnings.simplefilter('always', AffiliationWarning)\n",
    "\n",
    "\n",
    "def get_markdown_qrcode(paper_id: str):\n",
    "    \"\"\" Generate a qrcode to the arxiv page using qrserver.com\n",
    "    \n",
    "    :param paper: Arxiv paper\n",
    "    :returns: markdown text\n",
    "    \"\"\"\n",
    "    url = r\"https://api.qrserver.com/v1/create-qr-code/?size=100x100&data=\"\n",
    "    txt = f\"\"\"<img src={url}\"https://arxiv.org/abs/{paper_id}\">\"\"\"\n",
    "    txt = '<div id=\"qrcode\">' + txt + '</div>'\n",
    "    return txt"
   ]
  },
  {
   "cell_type": "markdown",
   "id": "14bd6310",
   "metadata": {
    "papermill": {
     "duration": 0.003198,
     "end_time": "2023-05-10T04:03:33.960339",
     "exception": false,
     "start_time": "2023-05-10T04:03:33.957141",
     "status": "completed"
    },
    "tags": []
   },
   "source": [
    "## get list of arxiv paper candidates\n",
    "\n",
    "We use the MPIA mitarbeiter list webpage from mpia.de to get author names\n",
    "We then get all new papers from Arxiv and match authors"
   ]
  },
  {
   "cell_type": "code",
   "execution_count": 3,
   "id": "2645e73a",
   "metadata": {
    "execution": {
     "iopub.execute_input": "2023-05-10T04:03:33.968412Z",
     "iopub.status.busy": "2023-05-10T04:03:33.967860Z",
     "iopub.status.idle": "2023-05-10T04:03:54.951814Z",
     "shell.execute_reply": "2023-05-10T04:03:54.950744Z"
    },
    "papermill": {
     "duration": 20.989751,
     "end_time": "2023-05-10T04:03:54.953554",
     "exception": false,
     "start_time": "2023-05-10T04:03:33.963803",
     "status": "completed"
    },
    "tags": []
   },
   "outputs": [
    {
     "name": "stdout",
     "output_type": "stream",
     "text": [
      "I. Momcheva  ->  I. Momcheva  |  ['I. Momcheva']\n",
      "F. Walter  ->  F. Walter  |  ['F. Walter']\n",
      "F. Davies  ->  F. Davies  |  ['F. Davies']\n",
      "P. Gaikwad  ->  P. Gaikwad  |  ['P. Gaikwad']\n",
      "S. Rojas-Ruiz  ->  S. Rojas-Ruiz  |  ['S. Rojas-Ruiz']\n",
      "J. He  ->  J. He  |  ['J. He']\n"
     ]
    },
    {
     "name": "stdout",
     "output_type": "stream",
     "text": [
      "S. Ghosh  ->  S. Ghosh  |  ['S. Ghosh']\n",
      "Arxiv has 56 new papers today\n",
      "          4 with possible author matches\n"
     ]
    }
   ],
   "source": [
    "# get list from MPIA website\n",
    "# it automatically filters identified non-scientists :func:`mpia.filter_non_scientists`\n",
    "mpia_authors = mpia.get_mpia_mitarbeiter_list()\n",
    "normed_mpia_authors = [k[1] for k in mpia_authors]   # initials + fullname\n",
    "new_papers = get_new_papers()\n",
    "# add manual references\n",
    "add_paper_refs = []\n",
    "new_papers.extend([get_paper_from_identifier(k) for k in add_paper_refs])\n",
    "\n",
    "candidates = []\n",
    "for paperk in new_papers:\n",
    "    # Check author list with their initials\n",
    "    normed_author_list = [mpia.get_initials(k) for k in paperk['authors']]\n",
    "    hl_authors = highlight_authors_in_list(normed_author_list, normed_mpia_authors, verbose=True)\n",
    "    matches = [(hl, orig) for hl, orig in zip(hl_authors, paperk['authors']) if 'mark' in hl]\n",
    "    paperk['authors'] = hl_authors\n",
    "    if matches:\n",
    "        # only select paper if an author matched our list\n",
    "        candidates.append(paperk)\n",
    "print(\"\"\"Arxiv has {0:,d} new papers today\"\"\".format(len(new_papers)))        \n",
    "print(\"\"\"          {0:,d} with possible author matches\"\"\".format(len(candidates)))"
   ]
  },
  {
   "cell_type": "markdown",
   "id": "3543b34a",
   "metadata": {
    "papermill": {
     "duration": 0.003923,
     "end_time": "2023-05-10T04:03:54.961368",
     "exception": false,
     "start_time": "2023-05-10T04:03:54.957445",
     "status": "completed"
    },
    "tags": []
   },
   "source": [
    "# Parse sources and generate relevant outputs\n",
    "\n",
    "From the candidates, we do the following steps:\n",
    "* get their tarball from ArXiv (and extract data)\n",
    "* find the main .tex file: find one with \\documentclass{...} (sometimes it's non trivial)\n",
    "* Check affiliations with :func:`validation`, which uses :func:`mpia.affiliation_verifications`\n",
    "* If passing the affiliations: we parse the .tex source\n",
    "   * inject sub-documents into the main (flatten the main document)\n",
    "   * parse structure, extract information (title, abstract, authors, figures...)\n",
    "   * handles `\\graphicspath` if provided\n",
    "* Generate the .md document."
   ]
  },
  {
   "cell_type": "code",
   "execution_count": 4,
   "id": "9576b79e",
   "metadata": {
    "execution": {
     "iopub.execute_input": "2023-05-10T04:03:54.969643Z",
     "iopub.status.busy": "2023-05-10T04:03:54.969372Z",
     "iopub.status.idle": "2023-05-10T04:05:02.719757Z",
     "shell.execute_reply": "2023-05-10T04:05:02.718987Z"
    },
    "papermill": {
     "duration": 67.756744,
     "end_time": "2023-05-10T04:05:02.721553",
     "exception": false,
     "start_time": "2023-05-10T04:03:54.964809",
     "status": "completed"
    },
    "scrolled": false,
    "tags": []
   },
   "outputs": [
    {
     "data": {
      "application/vnd.jupyter.widget-view+json": {
       "model_id": "a56cbebe26824d6d84a82dd650b9d8a9",
       "version_major": 2,
       "version_minor": 0
      },
      "text/plain": [
       "  0%|          | 0/3 [00:00<?, ?it/s]"
      ]
     },
     "metadata": {},
     "output_type": "display_data"
    },
    {
     "name": "stdout",
     "output_type": "stream",
     "text": [
      "Retrieving document from  https://arxiv.org/e-print/2305.04953\n"
     ]
    },
    {
     "name": "stdout",
     "output_type": "stream",
     "text": [
      "extracting tarball to tmp_2305.04953..."
     ]
    },
    {
     "name": "stdout",
     "output_type": "stream",
     "text": [
      " done.\n"
     ]
    },
    {
     "name": "stderr",
     "output_type": "stream",
     "text": [
      "/opt/hostedtoolcache/Python/3.9.16/x64/lib/python3.9/site-packages/arxiv_on_deck_2/latex.py:473: LatexWarning: Error parsing the document directly. Trying to recover.\n",
      "  warnings.warn(LatexWarning(f\"Error parsing the document directly. Trying to recover.\"))\n"
     ]
    },
    {
     "name": "stdout",
     "output_type": "stream",
     "text": [
      "✔ → 0:header\n",
      "  ↳ 6596:\\section{Introduction}\n",
      "✔ → 6596:\\section{Introduction}\n",
      "  ↳ 12462:\\section{Data \\label{sec_data}}\n"
     ]
    },
    {
     "name": "stdout",
     "output_type": "stream",
     "text": [
      "✔ → 12462:\\section{Data \\label{sec_data}}\n",
      "  ↳ 17061:\\section{Method \\label{sec_met}}\n"
     ]
    },
    {
     "name": "stdout",
     "output_type": "stream",
     "text": [
      "✔ → 17061:\\section{Method \\label{sec_met}}\n",
      "  ↳ 29828:\\section{Results \\label{sec_res}}\n"
     ]
    },
    {
     "name": "stdout",
     "output_type": "stream",
     "text": [
      "✔ → 29828:\\section{Results \\label{sec_res}}\n",
      "  ↳ 41082:\\section{Discussion \\label{sec_dis}}\n"
     ]
    },
    {
     "name": "stdout",
     "output_type": "stream",
     "text": [
      "✘ → 41082:\\section{Discussion \\label{sec_dis}}\n",
      "  ↳ 61822:\\section{Conclusion \\label{sec_con}}\n"
     ]
    },
    {
     "name": "stdout",
     "output_type": "stream",
     "text": [
      "✔ → 61822:\\section{Conclusion \\label{sec_con}}\n",
      "  ↳ 67359:end\n",
      "I. Momcheva  ->  I. Momcheva  |  ['I. Momcheva']\n"
     ]
    },
    {
     "name": "stdout",
     "output_type": "stream",
     "text": [
      "Found 70 bibliographic references in tmp_2305.04953/main.bbl.\n",
      "Retrieving document from  https://arxiv.org/e-print/2305.05053\n"
     ]
    },
    {
     "name": "stdout",
     "output_type": "stream",
     "text": [
      "extracting tarball to tmp_2305.05053..."
     ]
    },
    {
     "name": "stdout",
     "output_type": "stream",
     "text": [
      " done.\n"
     ]
    },
    {
     "name": "stdout",
     "output_type": "stream",
     "text": [
      "Found 160 bibliographic references in tmp_2305.05053/XQR30_general_arxiv.bbl.\n",
      "Retrieving document from  https://arxiv.org/e-print/2305.05372\n"
     ]
    },
    {
     "name": "stdout",
     "output_type": "stream",
     "text": [
      "extracting tarball to tmp_2305.05372..."
     ]
    },
    {
     "name": "stdout",
     "output_type": "stream",
     "text": [
      " done.\n"
     ]
    }
   ],
   "source": [
    "documents = []\n",
    "failed = []\n",
    "for paper in tqdm(candidates[:-1]):\n",
    "    paper_id = paper['identifier'].lower().replace('arxiv:', '')\n",
    "    \n",
    "    folder = f'tmp_{paper_id}'\n",
    "\n",
    "    try:\n",
    "        if not os.path.isdir(folder):\n",
    "            folder = retrieve_document_source(f\"{paper_id}\", f'tmp_{paper_id}')\n",
    "        \n",
    "        try:\n",
    "            doc = latex.LatexDocument(folder, validation=validation)    \n",
    "        except AffiliationError as affilerror:\n",
    "            msg = f\"ArXiv:{paper_id:s} is not an MPIA paper... \" + str(affilerror)\n",
    "            failed.append((paper, \"affiliation error: \" + str(affilerror) ))\n",
    "            continue\n",
    "        \n",
    "        # Hack because sometimes author parsing does not work well\n",
    "        if (len(doc.authors) != len(paper['authors'])):\n",
    "            doc._authors = paper['authors']\n",
    "        else:\n",
    "            # highlight authors (FIXME: doc.highlight_authors)\n",
    "            # done on arxiv paper already\n",
    "            doc._authors = highlight_authors_in_list(\n",
    "                [mpia.get_initials(k) for k in doc.authors], \n",
    "                normed_mpia_authors, verbose=True)\n",
    "        if (doc.abstract) in (None, ''):\n",
    "            doc._abstract = paper['abstract']\n",
    "            \n",
    "        doc.comment = (get_markdown_badge(paper_id) + \n",
    "                       \"<mark>Appeared on: \" + paper['date'] + \"</mark> - \")\n",
    "        if paper['comments']:\n",
    "            doc.comment += \" _\" + paper['comments'] + \"_\"\n",
    "        \n",
    "        full_md = doc.generate_markdown_text()\n",
    "        \n",
    "        full_md += get_markdown_qrcode(paper_id)\n",
    "        \n",
    "        # replace citations\n",
    "        try:\n",
    "            bibdata = latex_bib.LatexBib.from_doc(doc)\n",
    "            full_md = latex_bib.replace_citations(full_md, bibdata)\n",
    "        except Exception as e:\n",
    "            print(e)\n",
    "        \n",
    "        documents.append((paper_id, full_md))\n",
    "    except Exception as e:\n",
    "        warnings.warn(latex.LatexWarning(f\"{paper_id:s} did not run properly\\n\" +\n",
    "                                         str(e)\n",
    "                                        ))\n",
    "        failed.append((paper, \"latex error \" + str(e)))"
   ]
  },
  {
   "cell_type": "markdown",
   "id": "2505a25c",
   "metadata": {
    "papermill": {
     "duration": 0.00473,
     "end_time": "2023-05-10T04:05:02.732303",
     "exception": false,
     "start_time": "2023-05-10T04:05:02.727573",
     "status": "completed"
    },
    "tags": []
   },
   "source": [
    "### Export the logs\n",
    "\n",
    "Throughout, we also keep track of the logs per paper. see `logs-{today date}.md` "
   ]
  },
  {
   "cell_type": "code",
   "execution_count": 5,
   "id": "d733828a",
   "metadata": {
    "execution": {
     "iopub.execute_input": "2023-05-10T04:05:02.743123Z",
     "iopub.status.busy": "2023-05-10T04:05:02.742552Z",
     "iopub.status.idle": "2023-05-10T04:05:02.757792Z",
     "shell.execute_reply": "2023-05-10T04:05:02.757126Z"
    },
    "papermill": {
     "duration": 0.022566,
     "end_time": "2023-05-10T04:05:02.759307",
     "exception": false,
     "start_time": "2023-05-10T04:05:02.736741",
     "status": "completed"
    },
    "scrolled": false,
    "tags": []
   },
   "outputs": [
    {
     "data": {
      "text/markdown": [
       "## Successful papers"
      ],
      "text/plain": [
       "<IPython.core.display.Markdown object>"
      ]
     },
     "metadata": {},
     "output_type": "display_data"
    },
    {
     "data": {
      "text/markdown": [
       "\n",
       "|||\n",
       "|---:|:---|\n",
       "| [![arXiv](https://img.shields.io/badge/arXiv-arXiv:2305.04953-b31b1b.svg)](https://arxiv.org/abs/arXiv:2305.04953) | **CLEAR: The Morphological Evolution of Galaxies in the Green Valley**  |\n",
       "|| V. Estrada-Carpenter, et al. -- incl., <mark>I. Momcheva</mark> |\n",
       "|*Appeared on*| *2023-05-10*|\n",
       "|*Comments*| *17 pages, 10 figures, submitted to ApJ*|\n",
       "|**Abstract**| Quiescent galaxies having more compact morphologies than star-forming galaxies has been a consistent result in the field of galaxy evolution. What is not clear is at what point this divergence happens, i.e. when do quiescent galaxies become compact, and how big of a role does the progenitor effect play in this result? Here we aim to model the morphological and star-formation histories of high redshift (0.8 $<$ z $<$ 1.65) massive galaxies (log(M/M$\\odot$) $>$ 10.2) with stellar population fits using HST/WFC3 G102 and G141 grism spectra plus photometry from the CLEAR (CANDELS Lyman-alpha Emission at Reionization) survey, constraining the star-formation histories for a sample of $\\sim$ 400 massive galaxies using flexible star-formation histories. We develop a novel approach to classifying galaxies by their formation activity in a way that highlights the green valley population, by modeling the specific star-formation rate distributions as a function of redshift and deriving the probability that a galaxy is quiescent (PQ). Using PQ and our flexible star-formation histories we outline the evolutionary paths of our galaxies in relation to stellar mass, Sersic index, $R_{eff}$, and stellar mass surface density. We find that galaxies show no appreciable stellar mass growth after entering the green valley (a net decrease of 4$\\%$) while their stellar mass surface densities increase by $\\sim$ 0.25 dex. Therefore galaxies are becoming compact during the green valley and this is due to increases in Sersic index and decreases in $R_{eff}$. |"
      ],
      "text/plain": [
       "[arXiv:2305.04953] CLEAR: The Morphological Evolution of Galaxies in the Green Valley\n",
       "\tV. Estrada-Carpenter, et al. -- incl., <mark>I. Momcheva</mark>"
      ]
     },
     "metadata": {},
     "output_type": "display_data"
    },
    {
     "data": {
      "text/markdown": [
       "\n",
       "|||\n",
       "|---:|:---|\n",
       "| [![arXiv](https://img.shields.io/badge/arXiv-arXiv:2305.05053-b31b1b.svg)](https://arxiv.org/abs/arXiv:2305.05053) | **XQR-30: the ultimate XSHOOTER quasar sample at the reionization epoch**  |\n",
       "|| V. D'Odorico, et al. -- incl., <mark>F. Walter</mark>, <mark>F. Davies</mark>, <mark>P. Gaikwad</mark>, <mark>S. Rojas-Ruiz</mark> |\n",
       "|*Appeared on*| *2023-05-10*|\n",
       "|*Comments*| *21 pages, 10 figures. Revised version resubmitted to MNRAS after minor referee report*|\n",
       "|**Abstract**| The final phase of the reionization process can be probed by rest-frame UV absorption spectra of quasars at z>6, shedding light on the properties of the diffuse intergalactic medium within the first Gyr of the Universe. The ESO Large Programme \"XQR-30: the ultimate XSHOOTER legacy survey of quasars at z~5.8-6.6\" dedicated ~250 hours of observations at the VLT to create a homogeneous and high-quality sample of spectra of 30 luminous quasars at z~6, covering the rest wavelength range from the Lyman limit to beyond the MgII emission. Twelve quasar spectra of similar quality from the XSHOOTER archive were added to form the enlarged XQR-30 sample, corresponding to a total of ~350 hours of on-source exposure time. The median effective resolving power of the 42 spectra is R~11400 and 9800 in the VIS and NIR arm, respectively. The signal-to-noise ratio per 10 km/s pixel ranges from ~11 to 114 at $\\lambda \\simeq 1285$ \\AA rest frame, with a median value of ~29. We describe the observations, data reduction and analysis of the spectra, together with some first results based on the E-XQR-30 sample. New photometry in the H and K bands are provided for the XQR-30 quasars, together with composite spectra whose characteristics reflect the large absolute magnitudes of the sample. The composite and the reduced spectra are released to the community through a public repository, and will enable a range of studies addressing outstanding questions regarding the first Gyr of the Universe. |"
      ],
      "text/plain": [
       "[arXiv:2305.05053] XQR-30: the ultimate XSHOOTER quasar sample at the reionization epoch\n",
       "\tV. D'Odorico, et al. -- incl., <mark>F. Walter</mark>, <mark>F. Davies</mark>, <mark>P. Gaikwad</mark>, <mark>S. Rojas-Ruiz</mark>"
      ]
     },
     "metadata": {},
     "output_type": "display_data"
    },
    {
     "data": {
      "text/markdown": [
       "## Failed papers"
      ],
      "text/plain": [
       "<IPython.core.display.Markdown object>"
      ]
     },
     "metadata": {},
     "output_type": "display_data"
    },
    {
     "data": {
      "text/markdown": [
       "\n",
       "|||\n",
       "|---:|:---|\n",
       "| [![arXiv](https://img.shields.io/badge/arXiv-arXiv:2305.05372-b31b1b.svg)](https://arxiv.org/abs/arXiv:2305.05372) | **Measurement of ultra-high-energy diffuse gamma-ray emission of the  Galactic plane from 10 TeV to 1 PeV with LHAASO-KM2A**  |\n",
       "|| Z. Cao, et al. -- incl., <mark>J. He</mark> |\n",
       "|*Appeared on*| *2023-05-10*|\n",
       "|*Comments*| *11 pages, 7 figures, 5 tables*|\n",
       "|**Abstract**| The diffuse Galactic $\\gamma$-ray emission, mainly produced via interactions between cosmic rays and the diffuse interstellar medium, is a very important probe of the distribution, propagation, and interaction of cosmic rays in the Milky Way. In this work we report the measurements of diffuse $\\gamma$-rays from the Galactic plane between 10 TeV and 1 PeV energies, with the square kilometer array of the Large High Altitude Air Shower Observatory (LHAASO). Diffuse emissions from the inner ($15^{\\circ}<l<125^{\\circ}$, $|b|<5^{\\circ}$) and outer ($125^{\\circ}<l<235^{\\circ}$, $|b|<5^{\\circ}$) Galactic plane are detected with $29.1\\sigma$ and $12.7\\sigma$ significance, respectively. The outer Galactic plane diffuse emission is detected for the first time in the very- to ultra-high-energy domain ($E>10$~TeV). The energy spectrum in the inner Galaxy regions can be described by a power-law function with an index of $-2.99\\pm0.04$, which is different from the curved spectrum as expected from hadronic interactions between locally measured cosmic rays and the line-of-sight integrated gas content. Furthermore, the measured flux is higher by a factor of $\\sim3$ than the prediction. A similar spectrum with an index of $-2.99\\pm0.07$ is found in the outer Galaxy region, and the absolute flux for $10\\lesssim E\\lesssim60$ TeV is again higher than the prediction for hadronic cosmic ray interactions. The latitude distributions of the diffuse emission are consistent with the gas distribution, while the longitude distributions show slight deviation from the gas distribution. The LHAASO measurements imply that either additional emission sources exist or cosmic ray intensities have spatial variations. |\n",
       "|<p style=\"color:green\"> **ERROR** </p>| <p style=\"color:green\">affiliation error: mpia.affiliation_verifications: '69117' keyword not found.</p> |"
      ],
      "text/plain": [
       "<IPython.core.display.Markdown object>"
      ]
     },
     "metadata": {},
     "output_type": "display_data"
    }
   ],
   "source": [
    "import datetime\n",
    "today = str(datetime.date.today())\n",
    "logfile = f\"_build/html/logs/log-{today}.md\"\n",
    "\n",
    "\n",
    "with open(logfile, 'w') as logs:\n",
    "    # Success\n",
    "    logs.write(f'# Arxiv on Deck 2: Logs - {today}\\n\\n')\n",
    "    logs.write(\"\"\"* Arxiv had {0:,d} new papers\\n\"\"\".format(len(new_papers)))\n",
    "    logs.write(\"\"\"    * {0:,d} with possible author matches\\n\\n\"\"\".format(len(candidates)))\n",
    "    logs.write(\"## Sucessful papers\\n\\n\")\n",
    "    display(Markdown(\"## Successful papers\"))\n",
    "    success = [k[0] for k in documents]\n",
    "    for candid in candidates:\n",
    "        if candid['identifier'].split(':')[-1] in success:\n",
    "            display(candid)\n",
    "            logs.write(candid.generate_markdown_text() + '\\n\\n')\n",
    "\n",
    "    ## failed\n",
    "    logs.write(\"## Failed papers\\n\\n\")\n",
    "    display(Markdown(\"## Failed papers\"))\n",
    "    failed = sorted(failed, key=lambda x: x[1])\n",
    "    current_reason = \"\"\n",
    "    for paper, reason in failed:\n",
    "        if 'affiliation' in reason:\n",
    "            color = 'green'\n",
    "        else:\n",
    "            color = 'red'\n",
    "        data = Markdown(\n",
    "                paper.generate_markdown_text() + \n",
    "                f'\\n|<p style=\"color:{color:s}\"> **ERROR** </p>| <p style=\"color:{color:s}\">{reason:s}</p> |'\n",
    "               )\n",
    "        if reason != current_reason:\n",
    "            logs.write(f'### {reason:s} \\n\\n')\n",
    "            current_reason = reason\n",
    "        logs.write(data.data + '\\n\\n')\n",
    "        \n",
    "        # only display here the important errors (all in logs)\n",
    "        # if color in ('red',):\n",
    "        display(data)"
   ]
  },
  {
   "cell_type": "markdown",
   "id": "472d20ee",
   "metadata": {
    "papermill": {
     "duration": 0.005146,
     "end_time": "2023-05-10T04:05:02.769527",
     "exception": false,
     "start_time": "2023-05-10T04:05:02.764381",
     "status": "completed"
    },
    "tags": []
   },
   "source": [
    "## Export documents\n",
    "\n",
    "We now write the .md files and export relevant images"
   ]
  },
  {
   "cell_type": "code",
   "execution_count": 6,
   "id": "d426aed9",
   "metadata": {
    "execution": {
     "iopub.execute_input": "2023-05-10T04:05:02.781184Z",
     "iopub.status.busy": "2023-05-10T04:05:02.780750Z",
     "iopub.status.idle": "2023-05-10T04:05:02.788519Z",
     "shell.execute_reply": "2023-05-10T04:05:02.787839Z"
    },
    "papermill": {
     "duration": 0.015394,
     "end_time": "2023-05-10T04:05:02.789976",
     "exception": false,
     "start_time": "2023-05-10T04:05:02.774582",
     "status": "completed"
    },
    "tags": []
   },
   "outputs": [],
   "source": [
    "def export_markdown_summary(md: str, md_fname:str, directory: str):\n",
    "    \"\"\"Export MD document and associated relevant images\"\"\"\n",
    "    import os\n",
    "    import shutil\n",
    "    import re\n",
    "\n",
    "    if (os.path.exists(directory) and not os.path.isdir(directory)):\n",
    "        raise RuntimeError(f\"a non-directory file exists with name {directory:s}\")\n",
    "\n",
    "    if (not os.path.exists(directory)):\n",
    "        print(f\"creating directory {directory:s}\")\n",
    "        os.mkdir(directory)\n",
    "\n",
    "    fig_fnames = (re.compile(r'\\[Fig.*\\]\\((.*)\\)').findall(md) + \n",
    "                  re.compile(r'\\<img src=\"([^>\\s]*)\"[^>]*/>').findall(md))\n",
    "    for fname in fig_fnames:\n",
    "        if 'http' in fname:\n",
    "            # No need to copy online figures\n",
    "            continue\n",
    "        destdir = os.path.join(directory, os.path.dirname(fname))\n",
    "        destfname = os.path.join(destdir, os.path.basename(fname))\n",
    "        try:\n",
    "            os.makedirs(destdir)\n",
    "        except FileExistsError:\n",
    "            pass\n",
    "        shutil.copy(fname, destfname)\n",
    "    with open(os.path.join(directory, md_fname), 'w') as fout:\n",
    "        fout.write(md)\n",
    "    print(\"exported in \", os.path.join(directory, md_fname))\n",
    "    [print(\"    + \" + os.path.join(directory,fk)) for fk in fig_fnames]"
   ]
  },
  {
   "cell_type": "code",
   "execution_count": 7,
   "id": "014d04a4",
   "metadata": {
    "execution": {
     "iopub.execute_input": "2023-05-10T04:05:02.801675Z",
     "iopub.status.busy": "2023-05-10T04:05:02.801194Z",
     "iopub.status.idle": "2023-05-10T04:05:02.808150Z",
     "shell.execute_reply": "2023-05-10T04:05:02.807494Z"
    },
    "papermill": {
     "duration": 0.014568,
     "end_time": "2023-05-10T04:05:02.809584",
     "exception": false,
     "start_time": "2023-05-10T04:05:02.795016",
     "status": "completed"
    },
    "tags": []
   },
   "outputs": [
    {
     "name": "stdout",
     "output_type": "stream",
     "text": [
      "exported in  _build/html/2305.04953.md\n",
      "exported in  _build/html/2305.05053.md\n",
      "    + _build/html/tmp_2305.05053/./FiguraJ_z.png\n",
      "    + _build/html/tmp_2305.05053/./composite-spectrum-noBAL-nopDLA.png\n",
      "    + _build/html/tmp_2305.05053/./J0100_spFWHM_vs_DIMM_VIS.png\n",
      "    + _build/html/tmp_2305.05053/./J0100_tellFWHM_vs_DIMM_VIS.png\n"
     ]
    }
   ],
   "source": [
    "for paper_id, md in documents:\n",
    "    export_markdown_summary(md, f\"{paper_id:s}.md\", '_build/html/')"
   ]
  },
  {
   "cell_type": "markdown",
   "id": "f087a0a7",
   "metadata": {
    "papermill": {
     "duration": 0.005071,
     "end_time": "2023-05-10T04:05:02.819785",
     "exception": false,
     "start_time": "2023-05-10T04:05:02.814714",
     "status": "completed"
    },
    "tags": []
   },
   "source": [
    "## Display the papers\n",
    "\n",
    "Not necessary but allows for a quick check."
   ]
  },
  {
   "cell_type": "code",
   "execution_count": 8,
   "id": "fd25f625",
   "metadata": {
    "execution": {
     "iopub.execute_input": "2023-05-10T04:05:02.831769Z",
     "iopub.status.busy": "2023-05-10T04:05:02.831221Z",
     "iopub.status.idle": "2023-05-10T04:05:02.838232Z",
     "shell.execute_reply": "2023-05-10T04:05:02.837535Z"
    },
    "papermill": {
     "duration": 0.01478,
     "end_time": "2023-05-10T04:05:02.839669",
     "exception": false,
     "start_time": "2023-05-10T04:05:02.824889",
     "status": "completed"
    },
    "scrolled": false,
    "tags": []
   },
   "outputs": [
    {
     "data": {
      "text/markdown": [
       ".\n",
       " (*fig_Psf*)\n",
       "\n",
       "</div><div id=\"qrcode\"><img src=https://api.qrserver.com/v1/create-qr-code/?size=100x100&data=\"https://arxiv.org/abs/2305.04953\"></div>"
      ],
      "text/plain": [
       "<IPython.core.display.Markdown object>"
      ]
     },
     "metadata": {},
     "output_type": "display_data"
    },
    {
     "data": {
      "text/markdown": [
       "<div class=\"macros\" style=\"visibility:hidden;\">\n",
       "$\\newcommand{\\ensuremath}{}$\n",
       "$\\newcommand{\\xspace}{}$\n",
       "$\\newcommand{\\object}[1]{\\texttt{#1}}$\n",
       "$\\newcommand{\\farcs}{{.}''}$\n",
       "$\\newcommand{\\farcm}{{.}'}$\n",
       "$\\newcommand{\\arcsec}{''}$\n",
       "$\\newcommand{\\arcmin}{'}$\n",
       "$\\newcommand{\\ion}[2]{#1#2}$\n",
       "$\\newcommand{\\textsc}[1]{\\textrm{#1}}$\n",
       "$\\newcommand{\\hl}[1]{\\textrm{#1}}$\n",
       "$\\newcommand{\\footnote}[1]{}$\n",
       "$\\newcommand{\\CIV}{\\mbox{C {\\sc iv}}}$\n",
       "$\\newcommand{\\CV}{\\mbox{C {\\sc v}}}$\n",
       "$\\newcommand{\\CIII}{\\mbox{C {\\sc iii}}}$\n",
       "$\\newcommand{\\CII}{\\mbox{C {\\sc ii}}}$\n",
       "$\\newcommand{\\NV}{\\mbox{N {\\sc v}}}$\n",
       "$\\newcommand{\\NIII}{\\mbox{N {\\sc iii}}}$\n",
       "$\\newcommand{\\NII}{\\mbox{N {\\sc ii}}}$\n",
       "$\\newcommand{\\OVI}{\\mbox{O {\\sc vi}}}$\n",
       "$\\newcommand{\\OIV}{\\mbox{O {\\sc iv}}}$\n",
       "$\\newcommand{\\OIII}{\\mbox{O {\\sc iii}}}$\n",
       "$\\newcommand{\\OII}{\\mbox{O {\\sc ii}}}$\n",
       "$\\newcommand{\\OI}{\\mbox{O {\\sc i}}}$\n",
       "$\\newcommand{\\MgI}{\\mbox{Mg {\\sc i}}}$\n",
       "$\\newcommand{\\MgII}{\\mbox{Mg {\\sc ii}}}$\n",
       "$\\newcommand{\\AlII}{\\mbox{Al {\\sc ii}}}$\n",
       "$\\newcommand{\\AlIII}{\\mbox{Al {\\sc iii}}}$\n",
       "$\\newcommand{\\SiIV}{\\mbox{Si {\\sc iv}}}$\n",
       "$\\newcommand{\\SiIII}{\\mbox{Si {\\sc iii}}}$\n",
       "$\\newcommand{\\SiII}{\\mbox{Si {\\sc ii}}}$\n",
       "$\\newcommand{\\SiV}{\\mbox{Si {\\sc v}}}$\n",
       "$\\newcommand{\\SIII}{\\mbox{S {\\sc iii}}}$\n",
       "$\\newcommand{\\SIV}{\\mbox{S {\\sc iv}}}$\n",
       "$\\newcommand{\\FeIII}{\\mbox{Fe {\\sc iii}}}$\n",
       "$\\newcommand{\\FeII}{\\mbox{Fe {\\sc ii}}}$\n",
       "$\\newcommand{\\ZnII}{\\mbox{Zn {\\sc ii}}}$\n",
       "$\\newcommand{\\HI}{\\mbox{H {\\sc i}}}$\n",
       "$\\newcommand{\\HII}{\\mbox{H {\\sc ii}}}$\n",
       "$\\newcommand{\\HeII}{\\mbox{He {\\sc ii}}}$\n",
       "$\\newcommand{\\thebibliography}{\\DeclareRobustCommand{\\VAN}[3]{##3}\\VANthebibliography}$\n",
       "$\\newcommand{\\gtsima}{\\; \\buildrel > \\over \\sim \\;}$\n",
       "$\\newcommand{\\ltsima}{\\; \\buildrel < \\over \\sim \\;}$\n",
       "$\\newcommand{\\gsim}{\\lower.5ex\\hbox{\\gtsima}}$\n",
       "$\\newcommand{\\lsim}{\\lower.5ex\\hbox{\\ltsima}}$\n",
       "$\\newcommand{\\kms}{km s^{-1}}$\n",
       "$\\newcommand{\\zabs}{z_{\\rm abs}}$\n",
       "$\\newcommand{\\zem}{z_{\\rm em}}$\n",
       "$\\newcommand{\\zlb}{z_{\\rm Ly\\beta}}$\n",
       "$\\newcommand{\\Lya}{Ly\\alpha}$\n",
       "$\\newcommand{\\Lyb}{Ly\\beta}$\n",
       "$\\newcommand{\\lam}{\\lambda}$\n",
       "$\\newcommand{\\lama}{\\lambda_{\\alpha}}$\n",
       "$\\newcommand{\\lamb}{\\lambda_{\\beta}}$\n",
       "$\\newcommand{\\lambdaem}{\\lambda_{\\rm em}~}$\n",
       "$\\newcommand{\\Jv}{{\\rm J_{\\nu}~}}$\n",
       "$\\newcommand{\\nh}{{n_{\\rm H}~}}$\n",
       "$\\newcommand{\\nhs}{{\\rm n_{\\rm H,syn}~}}$\n",
       "$\\newcommand{\\LJ}{{L_{\\rm J}}}$\n",
       "$\\newcommand{\\NHI}{{N_{\\rm HI}}}$</div>\n",
       "\n",
       "\n",
       "\n",
       "<div id=\"title\">\n",
       "\n",
       "# XQR-30: the ultimate XSHOOTER quasar sample at the reionization epoch\n",
       "\n",
       "</div>\n",
       "<div id=\"comments\">\n",
       "\n",
       "[![arXiv](https://img.shields.io/badge/arXiv-2305.05053-b31b1b.svg)](https://arxiv.org/abs/2305.05053)<mark>Appeared on: 2023-05-10</mark> -  _21 pages, 10 figures. Revised version resubmitted to MNRAS after minor referee report_\n",
       "\n",
       "</div>\n",
       "<div id=\"authors\">\n",
       "\n",
       "V. D'Odorico, et al. -- incl., <mark>F. Walter</mark>, <mark>F. Davies</mark>, <mark>P. Gaikwad</mark>, <mark>S. Rojas-Ruiz</mark>\n",
       "\n",
       "</div>\n",
       "<div id=\"abstract\">\n",
       "\n",
       "**Abstract:** The final phase of the reionization process can be probed by rest--frame UV absorption spectra of quasars at $z>6$ , shedding light on the properties of the diffuse intergalactic medium within the first Gyr of the Universe. The ESO Large Programme “XQR-30: the ultimate XSHOOTER legacy survey of quasars at $z \\simeq 5.8-6.6$ ” dedicated $\\sim250$ hours of observations at the VLT to create a homogeneous and high-quality sample of spectra of 30 luminous quasars at $z\\sim6$ , covering the rest wavelength range from the Lyman limit to beyond the $\\MgII$ emission. Twelve quasar spectra of similar quality from the XSHOOTER archive were added to form the enlarged XQR-30 sample, corresponding to a total of $\\sim350$ hours of on-source exposure time. The median effective resolving power of the  42 spectra is $R \\simeq 11400$ and $9800$ in the VIS and NIR arm, respectively. The signal-to-noise ratio per 10 $\\kms$ pixel ranges from $\\sim11$ to 114 at $\\lambda\\simeq 1285$ Å rest frame, with a median value of $\\sim29$ . We describe the observations, data reduction and analysis of the spectra, together with some first results based on the E-XQR-30 sample. New photometry in the $H$ and $K$ bands are provided for the XQR-30 quasars, together with composite spectra whose characteristics reflect the large absolute magnitudes of the sample.  The composite and the reduced spectra are released to the community through a public repository, and will enable a range of studies addressing outstanding questions regarding the first Gyr of the Universe.\n",
       "\n",
       "</div>\n",
       "\n",
       "<div id=\"div_fig1\">\n",
       "\n",
       "<img src=\"tmp_2305.05053/./FiguraJ_z.png\" alt=\"Fig2\" width=\"100%\"/>\n",
       "\n",
       "**Figure 2. -** Distribution of the XQR-30 targets (blue squares) in the Redshift-$J_{\\rm AB}$ magnitude plane. The orange dots represent the 9 quasars with SNR $ \\ge 25$ per pixel, already available from the XSHOOTER archive at the time of the proposal preparation. The green diamonds are the 4 quasars with similar properties whose spectra in the XSHOOTER archive became available after 2018. VDES J0224-4711 is represented as a green diamond with a blue contour (see text). (*fig:redshift_range*)\n",
       "\n",
       "</div>\n",
       "<div id=\"div_fig2\">\n",
       "\n",
       "<img src=\"tmp_2305.05053/./composite-spectrum-noBAL-nopDLA.png\" alt=\"Fig14\" width=\"100%\"/>\n",
       "\n",
       "**Figure 14. -** _Upper panel:_ Composite spectrum of the total E-XQR-30 sample rebinned to 250 $\\kms$(black curve), compared with the composite spectrum obtained excluding the targets showing BAL systems (orange curve), as detected in [ and Bischetti (2022)](https://ui.adsabs.harvard.edu/abs/2022Natur.605..244B). The list of targets contributing to the no-BAL composite is reported in Table \\ref{tab:noBAL}. _Lower panel:_ Composite spectrum of the total E-XQR-30 sample rebinned to 250 $\\kms$(black curve), compared with the composite spectrum obtained excluding the targets showing proximate DLAs (blue curve), as identified in [ and Davies (2023)]() and Sodini et al. in prep. The list of targets contributing to the no-pDLA composite is reported in Table \\ref{tab:nopDLA}. (*fig:comp_noBAL_nopDLA*)\n",
       "\n",
       "</div>\n",
       "<div id=\"div_fig3\">\n",
       "\n",
       "<img src=\"tmp_2305.05053/./J0100_spFWHM_vs_DIMM_VIS.png\" alt=\"Fig4.1\" width=\"50%\"/><img src=\"tmp_2305.05053/./J0100_tellFWHM_vs_DIMM_VIS.png\" alt=\"Fig4.2\" width=\"50%\"/>\n",
       "\n",
       "**Figure 4. -** FWHM of the spectral order spatial profiles (_ upper panel_) and average FWHM of the telluric model (_ lower panel_) as a function of the FWHM at $\\sim950$ nm of the seeing disk for the VIS frames of the literature quasar SDSSJ0100+2802,  which was observed with a slit=0.9\". The dots are coloured according to the SNR of the corresponding frame (see the scale in the sidebar). The dashed lines indicate the slit value.   (*fig:resol_VIS_J0100*)\n",
       "\n",
       "</div><div id=\"qrcode\"><img src=https://api.qrserver.com/v1/create-qr-code/?size=100x100&data=\"https://arxiv.org/abs/2305.05053\"></div>"
      ],
      "text/plain": [
       "<IPython.core.display.Markdown object>"
      ]
     },
     "metadata": {},
     "output_type": "display_data"
    }
   ],
   "source": [
    "[display(Markdown(k[1])) for k in documents];"
   ]
  },
  {
   "cell_type": "markdown",
   "id": "873873a4",
   "metadata": {
    "papermill": {
     "duration": 0.00544,
     "end_time": "2023-05-10T04:05:02.850909",
     "exception": false,
     "start_time": "2023-05-10T04:05:02.845469",
     "status": "completed"
    },
    "tags": []
   },
   "source": [
    "# Create HTML index"
   ]
  },
  {
   "cell_type": "code",
   "execution_count": 9,
   "id": "cf665672",
   "metadata": {
    "execution": {
     "iopub.execute_input": "2023-05-10T04:05:02.863598Z",
     "iopub.status.busy": "2023-05-10T04:05:02.863053Z",
     "iopub.status.idle": "2023-05-10T04:05:02.873087Z",
     "shell.execute_reply": "2023-05-10T04:05:02.872429Z"
    },
    "papermill": {
     "duration": 0.018219,
     "end_time": "2023-05-10T04:05:02.874594",
     "exception": false,
     "start_time": "2023-05-10T04:05:02.856375",
     "status": "completed"
    },
    "tags": []
   },
   "outputs": [
    {
     "name": "stdout",
     "output_type": "stream",
     "text": [
      "204  publications files modified in the last 7 days.\n"
     ]
    }
   ],
   "source": [
    "from datetime import datetime, timedelta, timezone\n",
    "from glob import glob\n",
    "import os\n",
    "\n",
    "files = glob('_build/html/*.md')\n",
    "days = 7\n",
    "now = datetime.today()\n",
    "res = []\n",
    "for fk in files:\n",
    "    stat_result = os.stat(fk).st_ctime\n",
    "    modified = datetime.fromtimestamp(stat_result, tz=timezone.utc).replace(tzinfo=None)\n",
    "    delta = now.today() - modified\n",
    "    if delta <= timedelta(days=days):\n",
    "        res.append((delta.seconds, fk))\n",
    "res = [k[1] for k in reversed(sorted(res, key=lambda x:x[1]))]\n",
    "npub = len(res)\n",
    "print(len(res), f\" publications files modified in the last {days:d} days.\")\n",
    "# [ print('\\t', k) for k in res ];"
   ]
  },
  {
   "cell_type": "code",
   "execution_count": 10,
   "id": "015de740",
   "metadata": {
    "execution": {
     "iopub.execute_input": "2023-05-10T04:05:02.887522Z",
     "iopub.status.busy": "2023-05-10T04:05:02.887017Z",
     "iopub.status.idle": "2023-05-10T04:05:02.904440Z",
     "shell.execute_reply": "2023-05-10T04:05:02.903747Z"
    },
    "papermill": {
     "duration": 0.025739,
     "end_time": "2023-05-10T04:05:02.905947",
     "exception": false,
     "start_time": "2023-05-10T04:05:02.880208",
     "status": "completed"
    },
    "tags": []
   },
   "outputs": [
    {
     "name": "stdout",
     "output_type": "stream",
     "text": [
      "3  publications in the last 7 days.\n"
     ]
    }
   ],
   "source": [
    "import datetime\n",
    "from glob import glob\n",
    "\n",
    "def get_last_n_days(lst, days=1):\n",
    "    \"\"\" Get the documents from the last n days \"\"\"\n",
    "    sorted_lst = sorted(lst, key=lambda x: x[1], reverse=True)\n",
    "    for fname, date in sorted_lst:\n",
    "        if date >= str(datetime.date.today() - datetime.timedelta(days=days)):\n",
    "            yield fname\n",
    "\n",
    "def extract_appearance_dates(lst_file):\n",
    "    dates = []\n",
    "\n",
    "    def get_date(line):\n",
    "        return line\\\n",
    "            .split('Appeared on:')[-1]\\\n",
    "            .split('</mark>')[0].strip()\n",
    "\n",
    "    for fname in lst:\n",
    "        with open(fname, 'r') as f:\n",
    "            found_date = False\n",
    "            for line in f:\n",
    "                if not found_date:\n",
    "                    if \"Appeared on\" in line:\n",
    "                        found_date = True\n",
    "                        dates.append((fname, get_date(line)))\n",
    "                else:\n",
    "                    break\n",
    "    return dates\n",
    "\n",
    "from glob import glob\n",
    "lst = glob('_build/html/*md')\n",
    "days = 7\n",
    "dates = extract_appearance_dates(lst)\n",
    "res = list(get_last_n_days(dates, days))\n",
    "npub = len(res)\n",
    "print(len(res), f\" publications in the last {days:d} days.\")"
   ]
  },
  {
   "cell_type": "code",
   "execution_count": 11,
   "id": "52ca0208",
   "metadata": {
    "execution": {
     "iopub.execute_input": "2023-05-10T04:05:02.919209Z",
     "iopub.status.busy": "2023-05-10T04:05:02.918776Z",
     "iopub.status.idle": "2023-05-10T04:05:02.924621Z",
     "shell.execute_reply": "2023-05-10T04:05:02.923955Z"
    },
    "papermill": {
     "duration": 0.014377,
     "end_time": "2023-05-10T04:05:02.926214",
     "exception": false,
     "start_time": "2023-05-10T04:05:02.911837",
     "status": "completed"
    },
    "scrolled": false,
    "tags": []
   },
   "outputs": [],
   "source": [
    "def create_carousel(npub=4):\n",
    "    \"\"\" Generate the HTML code for a carousel with `npub` slides \"\"\"\n",
    "    carousel = [\"\"\"  <div class=\"carousel\" \"\"\",\n",
    "                \"\"\"       data-flickity='{ \"autoPlay\": 10000, \"adaptiveHeight\": true, \"resize\": true, \"wrapAround\": true, \"pauseAutoPlayOnHover\": true, \"groupCells\": 1 }' id=\"asyncTypeset\">\"\"\"\n",
    "                ]\n",
    "    \n",
    "    item_str = \"\"\"    <div class=\"carousel-cell\"> <div id=\"slide{k}\" class=\"md_view\">Content {k}</div> </div>\"\"\"\n",
    "    for k in range(1, npub + 1):\n",
    "        carousel.append(item_str.format(k=k))\n",
    "    carousel.append(\"  </div>\")\n",
    "    return '\\n'.join(carousel)\n",
    "\n",
    "def create_grid(npub=4):\n",
    "    \"\"\" Generate the HTML code for a flat grid with `npub` slides \"\"\"\n",
    "    grid = [\"\"\"  <div class=\"grid\"> \"\"\",\n",
    "                ]\n",
    "    \n",
    "    item_str = \"\"\"    <div class=\"grid-item\"> <div id=\"slide{k}\" class=\"md_view\">Content {k}</div> </div>\"\"\"\n",
    "    for k in range(1, npub + 1):\n",
    "        grid.append(item_str.format(k=k))\n",
    "    grid.append(\"  </div>\")\n",
    "    return '\\n'.join(grid)"
   ]
  },
  {
   "cell_type": "code",
   "execution_count": 12,
   "id": "a6eac5b6",
   "metadata": {
    "execution": {
     "iopub.execute_input": "2023-05-10T04:05:02.939498Z",
     "iopub.status.busy": "2023-05-10T04:05:02.938989Z",
     "iopub.status.idle": "2023-05-10T04:05:02.944985Z",
     "shell.execute_reply": "2023-05-10T04:05:02.944297Z"
    },
    "papermill": {
     "duration": 0.014466,
     "end_time": "2023-05-10T04:05:02.946500",
     "exception": false,
     "start_time": "2023-05-10T04:05:02.932034",
     "status": "completed"
    },
    "scrolled": false,
    "tags": []
   },
   "outputs": [],
   "source": [
    "carousel = create_carousel(npub)\n",
    "docs = ', '.join(['\"{0:s}\"'.format(k.split('/')[-1]) for k in res])\n",
    "slides = ', '.join([f'\"slide{k}\"' for k in range(1, npub + 1)])\n",
    "\n",
    "with open(\"daily_template.html\", \"r\") as tpl:\n",
    "    page = tpl.read()\n",
    "    page = page.replace(\"{%-- carousel:s --%}\", carousel)\\\n",
    "               .replace(\"{%-- suptitle:s --%}\",  \"7-day archives\" )\\\n",
    "               .replace(\"{%-- docs:s --%}\", docs)\\\n",
    "               .replace(\"{%-- slides:s --%}\", slides)\n",
    "    \n",
    "with open(\"_build/html/index_7days.html\", 'w') as fout:\n",
    "    fout.write(page)"
   ]
  },
  {
   "cell_type": "code",
   "execution_count": 13,
   "id": "adc1a1ec",
   "metadata": {
    "execution": {
     "iopub.execute_input": "2023-05-10T04:05:02.959899Z",
     "iopub.status.busy": "2023-05-10T04:05:02.959261Z",
     "iopub.status.idle": "2023-05-10T04:05:02.967121Z",
     "shell.execute_reply": "2023-05-10T04:05:02.966479Z"
    },
    "papermill": {
     "duration": 0.016204,
     "end_time": "2023-05-10T04:05:02.968645",
     "exception": false,
     "start_time": "2023-05-10T04:05:02.952441",
     "status": "completed"
    },
    "tags": []
   },
   "outputs": [
    {
     "name": "stdout",
     "output_type": "stream",
     "text": [
      "1  publications in the last day.\n"
     ]
    }
   ],
   "source": [
    "# redo for today\n",
    "days = 1\n",
    "res = list(get_last_n_days(dates, days))\n",
    "npub = len(res)\n",
    "print(len(res), f\" publications in the last day.\")\n",
    "\n",
    "carousel = create_carousel(npub)\n",
    "docs = ', '.join(['\"{0:s}\"'.format(k.split('/')[-1]) for k in res])\n",
    "slides = ', '.join([f'\"slide{k}\"' for k in range(1, npub + 1)])\n",
    "\n",
    "with open(\"daily_template.html\", \"r\") as tpl:\n",
    "    page = tpl.read()\n",
    "    page = page.replace(\"{%-- carousel:s --%}\", carousel)\\\n",
    "               .replace(\"{%-- suptitle:s --%}\",  \"Daily\" )\\\n",
    "               .replace(\"{%-- docs:s --%}\", docs)\\\n",
    "               .replace(\"{%-- slides:s --%}\", slides)\n",
    "    \n",
    "# print(carousel, docs, slides)\n",
    "# print(page)\n",
    "with open(\"_build/html/index_daily.html\", 'w') as fout:\n",
    "    fout.write(page)"
   ]
  },
  {
   "cell_type": "code",
   "execution_count": 14,
   "id": "00eece82",
   "metadata": {
    "execution": {
     "iopub.execute_input": "2023-05-10T04:05:02.981856Z",
     "iopub.status.busy": "2023-05-10T04:05:02.981383Z",
     "iopub.status.idle": "2023-05-10T04:05:02.988555Z",
     "shell.execute_reply": "2023-05-10T04:05:02.987899Z"
    },
    "papermill": {
     "duration": 0.015522,
     "end_time": "2023-05-10T04:05:02.989985",
     "exception": false,
     "start_time": "2023-05-10T04:05:02.974463",
     "status": "completed"
    },
    "scrolled": false,
    "tags": []
   },
   "outputs": [
    {
     "name": "stdout",
     "output_type": "stream",
     "text": [
      "6  6 publications selected.\n"
     ]
    }
   ],
   "source": [
    "# Create the flat grid of the last N papers (fixed number regardless of dates)\n",
    "from itertools import islice \n",
    "\n",
    "npub = 6\n",
    "res = [k[0] for k in (islice(reversed(sorted(dates, key=lambda x: x[1])), 6))]\n",
    "print(len(res), f\" {npub} publications selected.\")\n",
    "\n",
    "grid = create_grid(npub)\n",
    "docs = ', '.join(['\"{0:s}\"'.format(k.split('/')[-1]) for k in res])\n",
    "slides = ', '.join([f'\"slide{k}\"' for k in range(1, npub + 1)])\n",
    "\n",
    "with open(\"grid_template.html\", \"r\") as tpl:\n",
    "    page = tpl.read()\n",
    "    page = page.replace(\"{%-- grid-content:s --%}\", grid)\\\n",
    "               .replace(\"{%-- suptitle:s --%}\",  f\"Last {npub:,d} papers\" )\\\n",
    "               .replace(\"{%-- docs:s --%}\", docs)\\\n",
    "               .replace(\"{%-- slides:s --%}\", slides)\n",
    "    \n",
    "# print(grid, docs, slides)\n",
    "# print(page)\n",
    "with open(\"_build/html/index_npub_grid.html\", 'w') as fout:\n",
    "    fout.write(page)"
   ]
  }
 ],
 "metadata": {
  "kernelspec": {
   "display_name": "Python 3 (ipykernel)",
   "language": "python",
   "name": "python3"
  },
  "language_info": {
   "codemirror_mode": {
    "name": "ipython",
    "version": 3
   },
   "file_extension": ".py",
   "mimetype": "text/x-python",
   "name": "python",
   "nbconvert_exporter": "python",
   "pygments_lexer": "ipython3",
   "version": "3.9.16"
  },
  "papermill": {
   "default_parameters": {},
   "duration": 90.953548,
   "end_time": "2023-05-10T04:05:03.313996",
   "environment_variables": {},
   "exception": null,
   "input_path": "MPIA daily digest.ipynb",
   "output_path": "log.ipynb",
   "parameters": {},
   "start_time": "2023-05-10T04:03:32.360448",
   "version": "2.4.0"
  },
  "vscode": {
   "interpreter": {
    "hash": "aee8b7b246df8f9039afb4144a1f6fd8d2ca17a180786b69acc140d282b71a49"
   }
  },
  "widgets": {
   "application/vnd.jupyter.widget-state+json": {
    "state": {
     "1cdb71dfdfa24497b3dcc8bf4e390ec9": {
      "model_module": "@jupyter-widgets/controls",
      "model_module_version": "2.0.0",
      "model_name": "HTMLStyleModel",
      "state": {
       "_model_module": "@jupyter-widgets/controls",
       "_model_module_version": "2.0.0",
       "_model_name": "HTMLStyleModel",
       "_view_count": null,
       "_view_module": "@jupyter-widgets/base",
       "_view_module_version": "2.0.0",
       "_view_name": "StyleView",
       "background": null,
       "description_width": "",
       "font_size": null,
       "text_color": null
      }
     },
     "25ae246ec2d6449b964bd40ab4eaa4d1": {
      "model_module": "@jupyter-widgets/base",
      "model_module_version": "2.0.0",
      "model_name": "LayoutModel",
      "state": {
       "_model_module": "@jupyter-widgets/base",
       "_model_module_version": "2.0.0",
       "_model_name": "LayoutModel",
       "_view_count": null,
       "_view_module": "@jupyter-widgets/base",
       "_view_module_version": "2.0.0",
       "_view_name": "LayoutView",
       "align_content": null,
       "align_items": null,
       "align_self": null,
       "border_bottom": null,
       "border_left": null,
       "border_right": null,
       "border_top": null,
       "bottom": null,
       "display": null,
       "flex": null,
       "flex_flow": null,
       "grid_area": null,
       "grid_auto_columns": null,
       "grid_auto_flow": null,
       "grid_auto_rows": null,
       "grid_column": null,
       "grid_gap": null,
       "grid_row": null,
       "grid_template_areas": null,
       "grid_template_columns": null,
       "grid_template_rows": null,
       "height": null,
       "justify_content": null,
       "justify_items": null,
       "left": null,
       "margin": null,
       "max_height": null,
       "max_width": null,
       "min_height": null,
       "min_width": null,
       "object_fit": null,
       "object_position": null,
       "order": null,
       "overflow": null,
       "padding": null,
       "right": null,
       "top": null,
       "visibility": null,
       "width": null
      }
     },
     "3c9a5a510ec54b258948b67245b7e0bc": {
      "model_module": "@jupyter-widgets/controls",
      "model_module_version": "2.0.0",
      "model_name": "ProgressStyleModel",
      "state": {
       "_model_module": "@jupyter-widgets/controls",
       "_model_module_version": "2.0.0",
       "_model_name": "ProgressStyleModel",
       "_view_count": null,
       "_view_module": "@jupyter-widgets/base",
       "_view_module_version": "2.0.0",
       "_view_name": "StyleView",
       "bar_color": null,
       "description_width": ""
      }
     },
     "62b2234c0c06435cb18171aef436b36c": {
      "model_module": "@jupyter-widgets/base",
      "model_module_version": "2.0.0",
      "model_name": "LayoutModel",
      "state": {
       "_model_module": "@jupyter-widgets/base",
       "_model_module_version": "2.0.0",
       "_model_name": "LayoutModel",
       "_view_count": null,
       "_view_module": "@jupyter-widgets/base",
       "_view_module_version": "2.0.0",
       "_view_name": "LayoutView",
       "align_content": null,
       "align_items": null,
       "align_self": null,
       "border_bottom": null,
       "border_left": null,
       "border_right": null,
       "border_top": null,
       "bottom": null,
       "display": null,
       "flex": null,
       "flex_flow": null,
       "grid_area": null,
       "grid_auto_columns": null,
       "grid_auto_flow": null,
       "grid_auto_rows": null,
       "grid_column": null,
       "grid_gap": null,
       "grid_row": null,
       "grid_template_areas": null,
       "grid_template_columns": null,
       "grid_template_rows": null,
       "height": null,
       "justify_content": null,
       "justify_items": null,
       "left": null,
       "margin": null,
       "max_height": null,
       "max_width": null,
       "min_height": null,
       "min_width": null,
       "object_fit": null,
       "object_position": null,
       "order": null,
       "overflow": null,
       "padding": null,
       "right": null,
       "top": null,
       "visibility": null,
       "width": null
      }
     },
     "78af4f37afab47ec95dd8504bae60666": {
      "model_module": "@jupyter-widgets/controls",
      "model_module_version": "2.0.0",
      "model_name": "HTMLModel",
      "state": {
       "_dom_classes": [],
       "_model_module": "@jupyter-widgets/controls",
       "_model_module_version": "2.0.0",
       "_model_name": "HTMLModel",
       "_view_count": null,
       "_view_module": "@jupyter-widgets/controls",
       "_view_module_version": "2.0.0",
       "_view_name": "HTMLView",
       "description": "",
       "description_allow_html": false,
       "layout": "IPY_MODEL_25ae246ec2d6449b964bd40ab4eaa4d1",
       "placeholder": "​",
       "style": "IPY_MODEL_1cdb71dfdfa24497b3dcc8bf4e390ec9",
       "tabbable": null,
       "tooltip": null,
       "value": " 3/3 [01:07&lt;00:00, 18.22s/it]"
      }
     },
     "92f9813457ee4881bca7959f51f29385": {
      "model_module": "@jupyter-widgets/controls",
      "model_module_version": "2.0.0",
      "model_name": "HTMLModel",
      "state": {
       "_dom_classes": [],
       "_model_module": "@jupyter-widgets/controls",
       "_model_module_version": "2.0.0",
       "_model_name": "HTMLModel",
       "_view_count": null,
       "_view_module": "@jupyter-widgets/controls",
       "_view_module_version": "2.0.0",
       "_view_name": "HTMLView",
       "description": "",
       "description_allow_html": false,
       "layout": "IPY_MODEL_cf7e7c8373e4454eae4ecf7561c375bd",
       "placeholder": "​",
       "style": "IPY_MODEL_eb0ce27d52c14967baaa93b1adba8d9f",
       "tabbable": null,
       "tooltip": null,
       "value": "100%"
      }
     },
     "a56cbebe26824d6d84a82dd650b9d8a9": {
      "model_module": "@jupyter-widgets/controls",
      "model_module_version": "2.0.0",
      "model_name": "HBoxModel",
      "state": {
       "_dom_classes": [],
       "_model_module": "@jupyter-widgets/controls",
       "_model_module_version": "2.0.0",
       "_model_name": "HBoxModel",
       "_view_count": null,
       "_view_module": "@jupyter-widgets/controls",
       "_view_module_version": "2.0.0",
       "_view_name": "HBoxView",
       "box_style": "",
       "children": [
        "IPY_MODEL_92f9813457ee4881bca7959f51f29385",
        "IPY_MODEL_d71a0144a68e483c884a4228c2891101",
        "IPY_MODEL_78af4f37afab47ec95dd8504bae60666"
       ],
       "layout": "IPY_MODEL_c49590cdb0ab4fc4938c92abee3edbac",
       "tabbable": null,
       "tooltip": null
      }
     },
     "c49590cdb0ab4fc4938c92abee3edbac": {
      "model_module": "@jupyter-widgets/base",
      "model_module_version": "2.0.0",
      "model_name": "LayoutModel",
      "state": {
       "_model_module": "@jupyter-widgets/base",
       "_model_module_version": "2.0.0",
       "_model_name": "LayoutModel",
       "_view_count": null,
       "_view_module": "@jupyter-widgets/base",
       "_view_module_version": "2.0.0",
       "_view_name": "LayoutView",
       "align_content": null,
       "align_items": null,
       "align_self": null,
       "border_bottom": null,
       "border_left": null,
       "border_right": null,
       "border_top": null,
       "bottom": null,
       "display": null,
       "flex": null,
       "flex_flow": null,
       "grid_area": null,
       "grid_auto_columns": null,
       "grid_auto_flow": null,
       "grid_auto_rows": null,
       "grid_column": null,
       "grid_gap": null,
       "grid_row": null,
       "grid_template_areas": null,
       "grid_template_columns": null,
       "grid_template_rows": null,
       "height": null,
       "justify_content": null,
       "justify_items": null,
       "left": null,
       "margin": null,
       "max_height": null,
       "max_width": null,
       "min_height": null,
       "min_width": null,
       "object_fit": null,
       "object_position": null,
       "order": null,
       "overflow": null,
       "padding": null,
       "right": null,
       "top": null,
       "visibility": null,
       "width": null
      }
     },
     "cf7e7c8373e4454eae4ecf7561c375bd": {
      "model_module": "@jupyter-widgets/base",
      "model_module_version": "2.0.0",
      "model_name": "LayoutModel",
      "state": {
       "_model_module": "@jupyter-widgets/base",
       "_model_module_version": "2.0.0",
       "_model_name": "LayoutModel",
       "_view_count": null,
       "_view_module": "@jupyter-widgets/base",
       "_view_module_version": "2.0.0",
       "_view_name": "LayoutView",
       "align_content": null,
       "align_items": null,
       "align_self": null,
       "border_bottom": null,
       "border_left": null,
       "border_right": null,
       "border_top": null,
       "bottom": null,
       "display": null,
       "flex": null,
       "flex_flow": null,
       "grid_area": null,
       "grid_auto_columns": null,
       "grid_auto_flow": null,
       "grid_auto_rows": null,
       "grid_column": null,
       "grid_gap": null,
       "grid_row": null,
       "grid_template_areas": null,
       "grid_template_columns": null,
       "grid_template_rows": null,
       "height": null,
       "justify_content": null,
       "justify_items": null,
       "left": null,
       "margin": null,
       "max_height": null,
       "max_width": null,
       "min_height": null,
       "min_width": null,
       "object_fit": null,
       "object_position": null,
       "order": null,
       "overflow": null,
       "padding": null,
       "right": null,
       "top": null,
       "visibility": null,
       "width": null
      }
     },
     "d71a0144a68e483c884a4228c2891101": {
      "model_module": "@jupyter-widgets/controls",
      "model_module_version": "2.0.0",
      "model_name": "FloatProgressModel",
      "state": {
       "_dom_classes": [],
       "_model_module": "@jupyter-widgets/controls",
       "_model_module_version": "2.0.0",
       "_model_name": "FloatProgressModel",
       "_view_count": null,
       "_view_module": "@jupyter-widgets/controls",
       "_view_module_version": "2.0.0",
       "_view_name": "ProgressView",
       "bar_style": "success",
       "description": "",
       "description_allow_html": false,
       "layout": "IPY_MODEL_62b2234c0c06435cb18171aef436b36c",
       "max": 3.0,
       "min": 0.0,
       "orientation": "horizontal",
       "style": "IPY_MODEL_3c9a5a510ec54b258948b67245b7e0bc",
       "tabbable": null,
       "tooltip": null,
       "value": 3.0
      }
     },
     "eb0ce27d52c14967baaa93b1adba8d9f": {
      "model_module": "@jupyter-widgets/controls",
      "model_module_version": "2.0.0",
      "model_name": "HTMLStyleModel",
      "state": {
       "_model_module": "@jupyter-widgets/controls",
       "_model_module_version": "2.0.0",
       "_model_name": "HTMLStyleModel",
       "_view_count": null,
       "_view_module": "@jupyter-widgets/base",
       "_view_module_version": "2.0.0",
       "_view_name": "StyleView",
       "background": null,
       "description_width": "",
       "font_size": null,
       "text_color": null
      }
     }
    },
    "version_major": 2,
    "version_minor": 0
   }
  }
 },
 "nbformat": 4,
 "nbformat_minor": 5
}