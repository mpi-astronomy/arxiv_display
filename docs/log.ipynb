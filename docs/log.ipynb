{
 "cells": [
  {
   "cell_type": "markdown",
   "id": "92bcb855",
   "metadata": {
    "papermill": {
     "duration": 0.005792,
     "end_time": "2022-10-27T04:36:23.130516",
     "exception": false,
     "start_time": "2022-10-27T04:36:23.124724",
     "status": "completed"
    },
    "tags": []
   },
   "source": [
    "# MPIA Arxiv on Deck 2\n",
    "\n",
    "Contains the steps to produce the paper extractions."
   ]
  },
  {
   "cell_type": "code",
   "execution_count": 1,
   "id": "3a0d6e11",
   "metadata": {
    "execution": {
     "iopub.execute_input": "2022-10-27T04:36:23.141084Z",
     "iopub.status.busy": "2022-10-27T04:36:23.140385Z",
     "iopub.status.idle": "2022-10-27T04:36:23.317719Z",
     "shell.execute_reply": "2022-10-27T04:36:23.316930Z"
    },
    "papermill": {
     "duration": 0.185667,
     "end_time": "2022-10-27T04:36:23.320499",
     "exception": false,
     "start_time": "2022-10-27T04:36:23.134832",
     "status": "completed"
    },
    "tags": []
   },
   "outputs": [],
   "source": [
    "# Imports\n",
    "import os\n",
    "from IPython.display import Markdown, display\n",
    "from tqdm.notebook import tqdm\n",
    "import warnings\n",
    "from PIL import Image \n",
    "\n",
    "# requires arxiv_on_deck_2\n",
    "\n",
    "from arxiv_on_deck_2.arxiv2 import (get_new_papers, \n",
    "                                    get_paper_from_identifier,\n",
    "                                    retrieve_document_source, \n",
    "                                    get_markdown_badge)\n",
    "from arxiv_on_deck_2 import (latex, \n",
    "                             mpia,\n",
    "                             highlight_authors_in_list)\n",
    "\n",
    "# Sometimes images are really big\n",
    "Image.MAX_IMAGE_PIXELS = 1000000000 "
   ]
  },
  {
   "cell_type": "code",
   "execution_count": 2,
   "id": "22aa9d44",
   "metadata": {
    "execution": {
     "iopub.execute_input": "2022-10-27T04:36:23.345692Z",
     "iopub.status.busy": "2022-10-27T04:36:23.344961Z",
     "iopub.status.idle": "2022-10-27T04:36:23.350511Z",
     "shell.execute_reply": "2022-10-27T04:36:23.349814Z"
    },
    "papermill": {
     "duration": 0.027388,
     "end_time": "2022-10-27T04:36:23.352482",
     "exception": false,
     "start_time": "2022-10-27T04:36:23.325094",
     "status": "completed"
    },
    "tags": []
   },
   "outputs": [],
   "source": [
    "# Some useful definitions.\n",
    "\n",
    "class AffiliationWarning(UserWarning):\n",
    "    pass\n",
    "\n",
    "class AffiliationError(RuntimeError):\n",
    "    pass\n",
    "\n",
    "def validation(source: str):\n",
    "    \"\"\"Raises error paper during parsing of source file\n",
    "    \n",
    "    Allows checks before parsing TeX code.\n",
    "    \n",
    "    Raises AffiliationWarning\n",
    "    \"\"\"\n",
    "    check = mpia.affiliation_verifications(source, verbose=True)\n",
    "    if check is not True:\n",
    "        raise AffiliationError(\"mpia.affiliation_verifications: \" + check)\n",
    "\n",
    "        \n",
    "warnings.simplefilter('always', AffiliationWarning)"
   ]
  },
  {
   "cell_type": "code",
   "execution_count": 3,
   "id": "14622700",
   "metadata": {
    "execution": {
     "iopub.execute_input": "2022-10-27T04:36:23.364180Z",
     "iopub.status.busy": "2022-10-27T04:36:23.363725Z",
     "iopub.status.idle": "2022-10-27T04:36:23.367839Z",
     "shell.execute_reply": "2022-10-27T04:36:23.367249Z"
    },
    "papermill": {
     "duration": 0.012899,
     "end_time": "2022-10-27T04:36:23.369517",
     "exception": false,
     "start_time": "2022-10-27T04:36:23.356618",
     "status": "completed"
    },
    "tags": []
   },
   "outputs": [],
   "source": [
    "# additional CSS to consider. \n",
    "# TODO: Current into each exported file. \n",
    "#       This should be set once into the webpages directly.\n",
    "#       With only the class/id definitions in the .md files.\n",
    "\n",
    "debug_html = \"\"\"\n",
    "<style>\n",
    "#wrap{ overflow:auto; }\n",
    "#fig1{ background:yellow; width:100%; float:left; padding:5px;  }\n",
    "#fig2{ background:red; width:50%; float:left; clear:left; padding:5px;  }\n",
    "#fig3{ background:green; width:50%; float:left; padding:5px;   }\n",
    ".macros{ background:yellow; visibility:visible;}\n",
    "h1 {margin: 0 0 0 0;}\n",
    "mark {background-color:#fff3b6;}\n",
    "img {object-fit:contain; max-height:250px; display:inline-block; text-align: center;}\n",
    "</style>\n",
    "\"\"\" \n",
    "html = \"\"\"\n",
    "<style>\n",
    "#wrap{ overflow:auto; }\n",
    "#fig1{ width:100%; float:left; padding: 5px;  }\n",
    "#fig2{ width:50%; float:left; clear:left; padding: 5px;  }\n",
    "#fig3{ width:50%; float:left; padding: 5px;  }\n",
    ".macros{ visibility:hidden; height:0px; }\n",
    "h1 {margin: 0em 0 0 0;}\n",
    "mark {background-color:#fff3b6;}\n",
    "img {object-fit:contain; max-height:250px; display:inline-block; text-align: center;}\n",
    "</style>\n",
    "\"\"\""
   ]
  },
  {
   "cell_type": "markdown",
   "id": "14bd6310",
   "metadata": {
    "papermill": {
     "duration": 0.004892,
     "end_time": "2022-10-27T04:36:23.388961",
     "exception": false,
     "start_time": "2022-10-27T04:36:23.384069",
     "status": "completed"
    },
    "tags": []
   },
   "source": [
    "## get list of arxiv paper candidates\n",
    "\n",
    "We use the MPIA mitarbeiter list webpage from mpia.de to get author names\n",
    "We then get all new papers from Arxiv and match authors"
   ]
  },
  {
   "cell_type": "code",
   "execution_count": 4,
   "id": "2645e73a",
   "metadata": {
    "execution": {
     "iopub.execute_input": "2022-10-27T04:36:23.399629Z",
     "iopub.status.busy": "2022-10-27T04:36:23.398808Z",
     "iopub.status.idle": "2022-10-27T04:36:46.789568Z",
     "shell.execute_reply": "2022-10-27T04:36:46.788625Z"
    },
    "papermill": {
     "duration": 23.397896,
     "end_time": "2022-10-27T04:36:46.791349",
     "exception": false,
     "start_time": "2022-10-27T04:36:23.393453",
     "status": "completed"
    },
    "tags": []
   },
   "outputs": [
    {
     "name": "stdout",
     "output_type": "stream",
     "text": [
      "Arxiv has 47 new papers today\n",
      "          16 with possible author matches\n"
     ]
    }
   ],
   "source": [
    "# get list from MPIA website\n",
    "# it automatically filters identified non-scientists :func:`mpia.filter_non_scientists`\n",
    "mpia_authors = mpia.get_mpia_mitarbeiter_list()\n",
    "new_papers = get_new_papers()\n",
    "# add manual references\n",
    "add_paper_refs = []\n",
    "new_papers.extend([get_paper_from_identifier(k) for k in add_paper_refs])\n",
    "\n",
    "# select only papers with matching author names and highlight authors\n",
    "hl_list = [k[0] for k in mpia_authors]\n",
    "\n",
    "candidates = []\n",
    "for paperk in new_papers:\n",
    "    hl_authors = highlight_authors_in_list(paperk['authors'], hl_list)\n",
    "    matches = [(hl, orig) for hl, orig in zip(hl_authors, paperk['authors']) if 'mark' in hl]\n",
    "    paperk['authors'] = hl_authors\n",
    "    if matches:\n",
    "        candidates.append(paperk)\n",
    "print(\"\"\"Arxiv has {0:,d} new papers today\"\"\".format(len(new_papers)))        \n",
    "print(\"\"\"          {0:,d} with possible author matches\"\"\".format(len(candidates)))"
   ]
  },
  {
   "cell_type": "markdown",
   "id": "3543b34a",
   "metadata": {
    "papermill": {
     "duration": 0.004258,
     "end_time": "2022-10-27T04:36:46.800198",
     "exception": false,
     "start_time": "2022-10-27T04:36:46.795940",
     "status": "completed"
    },
    "tags": []
   },
   "source": [
    "# Parse sources and generate relevant outputs\n",
    "\n",
    "From the candidates, we do the following steps:\n",
    "* get their tarball from ArXiv (and extract data)\n",
    "* find the main .tex file: find one with \\documentclass{...} (sometimes it's non trivial)\n",
    "* Check affiliations with :func:`validation`, which uses :func:`mpia.affiliation_verifications`\n",
    "* If passing the affiliations: we parse the .tex source\n",
    "   * inject sub-documents into the main (flatten the main document)\n",
    "   * parse structure, extract information (title, abstract, authors, figures...)\n",
    "   * handles `\\graphicspath` if provided\n",
    "* Generate the .md document."
   ]
  },
  {
   "cell_type": "code",
   "execution_count": 5,
   "id": "9576b79e",
   "metadata": {
    "execution": {
     "iopub.execute_input": "2022-10-27T04:36:46.810310Z",
     "iopub.status.busy": "2022-10-27T04:36:46.809809Z",
     "iopub.status.idle": "2022-10-27T04:37:12.209917Z",
     "shell.execute_reply": "2022-10-27T04:37:12.209188Z"
    },
    "papermill": {
     "duration": 25.407687,
     "end_time": "2022-10-27T04:37:12.211934",
     "exception": false,
     "start_time": "2022-10-27T04:36:46.804247",
     "status": "completed"
    },
    "scrolled": false,
    "tags": []
   },
   "outputs": [
    {
     "data": {
      "application/vnd.jupyter.widget-view+json": {
       "model_id": "bd4eba6f6bb3489caceb1ad716edbdb7",
       "version_major": 2,
       "version_minor": 0
      },
      "text/plain": [
       "  0%|          | 0/15 [00:00<?, ?it/s]"
      ]
     },
     "metadata": {},
     "output_type": "display_data"
    },
    {
     "name": "stdout",
     "output_type": "stream",
     "text": [
      "Retrieving document from  https://arxiv.org/e-print/2210.14233\n"
     ]
    },
    {
     "name": "stdout",
     "output_type": "stream",
     "text": [
      "extracting tarball to tmp_2210.14233..."
     ]
    },
    {
     "name": "stdout",
     "output_type": "stream",
     "text": [
      " done.\n",
      "Retrieving document from  https://arxiv.org/e-print/2210.14237\n"
     ]
    },
    {
     "name": "stdout",
     "output_type": "stream",
     "text": [
      "extracting tarball to tmp_2210.14237... done.\n",
      "Retrieving document from  https://arxiv.org/e-print/2210.14239\n"
     ]
    },
    {
     "name": "stdout",
     "output_type": "stream",
     "text": [
      "extracting tarball to tmp_2210.14239..."
     ]
    },
    {
     "name": "stdout",
     "output_type": "stream",
     "text": [
      " done.\n",
      "Retrieving document from  https://arxiv.org/e-print/2210.14244\n"
     ]
    },
    {
     "name": "stdout",
     "output_type": "stream",
     "text": [
      "extracting tarball to tmp_2210.14244..."
     ]
    },
    {
     "name": "stdout",
     "output_type": "stream",
     "text": [
      " done.\n"
     ]
    },
    {
     "name": "stderr",
     "output_type": "stream",
     "text": [
      "/opt/hostedtoolcache/Python/3.9.15/x64/lib/python3.9/site-packages/arxiv_on_deck_2/latex.py:366: LatexWarning: Error parsing the document directly. Trying to recover.\n",
      "  warnings.warn(LatexWarning(f\"Error parsing the document directly. Trying to recover.\"))\n"
     ]
    },
    {
     "name": "stdout",
     "output_type": "stream",
     "text": [
      "✘ → 0:header\n",
      "  ↳ 4009:\\section{Introduction}\n"
     ]
    },
    {
     "name": "stdout",
     "output_type": "stream",
     "text": [
      "✔ → 4009:\\section{Introduction}\n",
      "  ↳ 12760:\\section{Simulation set-up \\& $N$-body models}\n"
     ]
    },
    {
     "name": "stdout",
     "output_type": "stream",
     "text": [
      "✔ → 12760:\\section{Simulation set-up \\& $N$-body models}\n",
      "  ↳ 21369:\\section{Bar formation \\& evolution for different mass fraction of thick disc population}\n"
     ]
    },
    {
     "name": "stdout",
     "output_type": "stream",
     "text": [
      "✔ → 21369:\\section{Bar formation \\& evolution for different mass fraction of thick disc population}\n",
      "  ↳ 35324:\\section{Angular momentum exchange \\& radial heating within the bar region}\n"
     ]
    },
    {
     "name": "stdout",
     "output_type": "stream",
     "text": [
      "✔ → 35324:\\section{Angular momentum exchange \\& radial heating within the bar region}\n",
      "  ↳ 52023:\\section{Testing the bar instability criteria}\n"
     ]
    },
    {
     "name": "stdout",
     "output_type": "stream",
     "text": [
      "✔ → 52023:\\section{Testing the bar instability criteria}\n",
      "  ↳ 64123:\\section{Discussion}\n",
      "✔ → 64123:\\section{Discussion}\n",
      "  ↳ 68806:\\section{Summary}\n"
     ]
    },
    {
     "name": "stdout",
     "output_type": "stream",
     "text": [
      "✔ → 68806:\\section{Summary}\n",
      "  ↳ 72285:\\begin{appendix}\n",
      "✔ → 72285:\\begin{appendix}\n",
      "  ↳ 72302:\\section{$R_{\\rm bar}$ measurement for the thin+thick models}\n",
      "✔ → 72302:\\section{$R_{\\rm bar}$ measurement for the thin+thick models}\n",
      "  ↳ 74718:end\n"
     ]
    },
    {
     "name": "stderr",
     "output_type": "stream",
     "text": [
      "/tmp/ipykernel_2260/4030337529.py:34: LatexWarning: 2210.14244 did not run properly\n",
      "list index out of range\n",
      "  warnings.warn(latex.LatexWarning(f\"{paper_id:s} did not run properly\\n\" +\n"
     ]
    },
    {
     "name": "stdout",
     "output_type": "stream",
     "text": [
      "Retrieving document from  https://arxiv.org/e-print/2210.14249\n"
     ]
    },
    {
     "name": "stdout",
     "output_type": "stream",
     "text": [
      "extracting tarball to tmp_2210.14249..."
     ]
    },
    {
     "name": "stdout",
     "output_type": "stream",
     "text": [
      " done.\n",
      "Retrieving document from  https://arxiv.org/e-print/2210.14273\n"
     ]
    },
    {
     "name": "stdout",
     "output_type": "stream",
     "text": [
      "extracting tarball to tmp_2210.14273..."
     ]
    },
    {
     "name": "stdout",
     "output_type": "stream",
     "text": [
      " done.\n",
      "Retrieving document from  https://arxiv.org/e-print/2210.14293\n"
     ]
    },
    {
     "name": "stderr",
     "output_type": "stream",
     "text": [
      "/tmp/ipykernel_2260/4030337529.py:34: LatexWarning: 2210.14293 did not run properly\n",
      "not a gzip file\n",
      "  warnings.warn(latex.LatexWarning(f\"{paper_id:s} did not run properly\\n\" +\n"
     ]
    },
    {
     "name": "stdout",
     "output_type": "stream",
     "text": [
      "Retrieving document from  https://arxiv.org/e-print/2210.14432\n"
     ]
    },
    {
     "name": "stdout",
     "output_type": "stream",
     "text": [
      "extracting tarball to tmp_2210.14432..."
     ]
    },
    {
     "name": "stdout",
     "output_type": "stream",
     "text": [
      " done.\n",
      "Retrieving document from  https://arxiv.org/e-print/2210.14511\n"
     ]
    },
    {
     "name": "stdout",
     "output_type": "stream",
     "text": [
      "extracting tarball to tmp_2210.14511..."
     ]
    },
    {
     "name": "stdout",
     "output_type": "stream",
     "text": [
      " done.\n",
      "Retrieving document from  https://arxiv.org/e-print/2210.14563\n"
     ]
    },
    {
     "name": "stdout",
     "output_type": "stream",
     "text": [
      "extracting tarball to tmp_2210.14563..."
     ]
    },
    {
     "name": "stdout",
     "output_type": "stream",
     "text": [
      " done.\n",
      "Retrieving document from  https://arxiv.org/e-print/2210.14713\n"
     ]
    },
    {
     "name": "stdout",
     "output_type": "stream",
     "text": [
      "extracting tarball to tmp_2210.14713..."
     ]
    },
    {
     "name": "stdout",
     "output_type": "stream",
     "text": [
      " done.\n",
      "Retrieving document from  https://arxiv.org/e-print/2210.14805\n"
     ]
    },
    {
     "name": "stderr",
     "output_type": "stream",
     "text": [
      "/opt/hostedtoolcache/Python/3.9.15/x64/lib/python3.9/site-packages/IPython/core/interactiveshell.py:3378: LatexWarning: Multiple tex files.\n",
      "\n",
      "  exec(code_obj, self.user_global_ns, self.user_ns)\n",
      "/opt/hostedtoolcache/Python/3.9.15/x64/lib/python3.9/site-packages/IPython/core/interactiveshell.py:3378: LatexWarning: Found documentclass in tmp_2210.14713/natbib.tex\n",
      "\n",
      "  exec(code_obj, self.user_global_ns, self.user_ns)\n"
     ]
    },
    {
     "name": "stdout",
     "output_type": "stream",
     "text": [
      "extracting tarball to tmp_2210.14805..."
     ]
    },
    {
     "name": "stdout",
     "output_type": "stream",
     "text": [
      " done.\n",
      "Retrieving document from  https://arxiv.org/e-print/2210.14817\n"
     ]
    },
    {
     "name": "stderr",
     "output_type": "stream",
     "text": [
      "/opt/hostedtoolcache/Python/3.9.15/x64/lib/python3.9/site-packages/IPython/core/interactiveshell.py:3378: LatexWarning: Multiple tex files.\n",
      "\n",
      "  exec(code_obj, self.user_global_ns, self.user_ns)\n",
      "/opt/hostedtoolcache/Python/3.9.15/x64/lib/python3.9/site-packages/IPython/core/interactiveshell.py:3378: LatexWarning: Found documentclass in tmp_2210.14805/rnaas.tex\n",
      "\n",
      "  exec(code_obj, self.user_global_ns, self.user_ns)\n"
     ]
    },
    {
     "name": "stdout",
     "output_type": "stream",
     "text": [
      "extracting tarball to tmp_2210.14817... done.\n",
      "Retrieving document from  https://arxiv.org/e-print/2210.14853\n"
     ]
    },
    {
     "name": "stdout",
     "output_type": "stream",
     "text": [
      "extracting tarball to tmp_2210.14853..."
     ]
    },
    {
     "name": "stdout",
     "output_type": "stream",
     "text": [
      " done.\n",
      "Retrieving document from  https://arxiv.org/e-print/2210.14890\n"
     ]
    },
    {
     "name": "stdout",
     "output_type": "stream",
     "text": [
      "extracting tarball to tmp_2210.14890..."
     ]
    },
    {
     "name": "stdout",
     "output_type": "stream",
     "text": [
      " done.\n"
     ]
    }
   ],
   "source": [
    "documents = []\n",
    "failed = []\n",
    "for paper in tqdm(candidates[:-1]):\n",
    "    paper_id = paper['identifier'].lower().replace('arxiv:', '')\n",
    "    \n",
    "    folder = f'tmp_{paper_id}'\n",
    "\n",
    "    try:\n",
    "        if not os.path.isdir(folder):\n",
    "            folder = retrieve_document_source(f\"{paper_id}\", f'tmp_{paper_id}')\n",
    "        \n",
    "        try:\n",
    "            doc = latex.LatexDocument(folder, validation=validation)    \n",
    "        except AffiliationError as affilerror:\n",
    "            msg = f\"ArXiv:{paper_id:s} is not an MPIA paper... \" + str(affilerror)\n",
    "            failed.append((paper, \"affiliation error: \" + str(affilerror) ))\n",
    "            continue\n",
    "        \n",
    "        # Hack because sometimes author parsing does not work well\n",
    "        if (len(doc.authors) != len(paper['authors'])):\n",
    "            doc._authors = paper['authors']\n",
    "        if (doc.abstract) in (None, ''):\n",
    "            doc._abstract = paper['abstract']\n",
    "            \n",
    "        doc.comment = (get_markdown_badge(paper_id) + \n",
    "                       \"<mark>Appeared on: \" + paper['date'] + \"</mark> - \" +\n",
    "                       \"_\" + paper['comments'] + \"_\")\n",
    "        doc.highlight_authors_in_list(hl_list)\n",
    "\n",
    "        full_md = doc.generate_markdown_text()\n",
    "        \n",
    "        documents.append((paper_id, full_md))\n",
    "    except Exception as e:\n",
    "        warnings.warn(latex.LatexWarning(f\"{paper_id:s} did not run properly\\n\" +\n",
    "                                         str(e)\n",
    "                                        ))\n",
    "        failed.append((paper, \"latex error \" + str(e)))"
   ]
  },
  {
   "cell_type": "markdown",
   "id": "2505a25c",
   "metadata": {
    "papermill": {
     "duration": 0.00682,
     "end_time": "2022-10-27T04:37:12.225926",
     "exception": false,
     "start_time": "2022-10-27T04:37:12.219106",
     "status": "completed"
    },
    "tags": []
   },
   "source": [
    "### Export the logs\n",
    "\n",
    "Throughout, we also keep track of the logs per paper. see `logs-{today date}.md` "
   ]
  },
  {
   "cell_type": "code",
   "execution_count": 6,
   "id": "d733828a",
   "metadata": {
    "execution": {
     "iopub.execute_input": "2022-10-27T04:37:12.241131Z",
     "iopub.status.busy": "2022-10-27T04:37:12.240579Z",
     "iopub.status.idle": "2022-10-27T04:37:12.267026Z",
     "shell.execute_reply": "2022-10-27T04:37:12.266294Z"
    },
    "papermill": {
     "duration": 0.035907,
     "end_time": "2022-10-27T04:37:12.268689",
     "exception": false,
     "start_time": "2022-10-27T04:37:12.232782",
     "status": "completed"
    },
    "scrolled": false,
    "tags": []
   },
   "outputs": [
    {
     "data": {
      "text/markdown": [
       "## Successful papers"
      ],
      "text/plain": [
       "<IPython.core.display.Markdown object>"
      ]
     },
     "metadata": {},
     "output_type": "display_data"
    },
    {
     "data": {
      "text/markdown": [
       "## Failed papers"
      ],
      "text/plain": [
       "<IPython.core.display.Markdown object>"
      ]
     },
     "metadata": {},
     "output_type": "display_data"
    },
    {
     "data": {
      "text/markdown": [
       "\n",
       "|||\n",
       "|---:|:---|\n",
       "| [![arXiv](https://img.shields.io/badge/arXiv-arXiv:2210.14233-b31b1b.svg)](https://arxiv.org/abs/arXiv:2210.14233) | **ELVES IV: The Satellite Stellar-to-Halo Mass Relation Beyond the  Milky-Way**  |\n",
       "|| Shany Danieli, et al. -- incl., <mark>Jenny E. Greene</mark>, <mark>Andy D. Goulding</mark> |\n",
       "|*Appeared on*| *2022-10-27*|\n",
       "|*Comments*| *Submitted to ApJ, comments are very welcome!*|\n",
       "|**Abstract**| Quantifying the connection between galaxies and their host dark matter halos has been key for testing cosmological models on various scales. Below $M_\\star \\sim 10^9\\,M_\\odot$, such studies have primarily relied on the satellite galaxy population orbiting the Milky Way. Here we present new constraints on the connection between satellite galaxies and their host dark matter subhalos using the largest sample of satellite galaxies in the Local Volume ($D \\lesssim 12\\,\\mathrm{Mpc}$) to date. We use $250$ confirmed and $71$ candidate dwarf satellites around 27 Milky Way (MW)-like hosts from the Exploration of Local VolumE Satellites (ELVES) Survey and use the semi-analytical SatGen model for predicting the population of dark matter subhalos expected in the same volume. Through a Bayesian model comparison of the observed and the forward-modeled satellite stellar mass functions (SSMF), we infer the satellite stellar-to-halo mass relation. We find that the observed SSMF is best reproduced when subhalos are populated by a relation of the form $M_\\star \\propto M^\\alpha_\\mathrm{peak}$, with a moderate slope of $\\alpha=2.0 \\pm 0.1$, and a scatter that grows with decreasing $M_\\mathrm{peak}$. We find a significantly larger scatter towards lower peak halo masses, compared to prior studies that relied mainly on MW satellites. We conclude that this scatter results from a combination of star formation stochasticity and host-to-host scatter. Our new model for the satellite-subhalo connection has important implications for both of these baryonic-impacted effects, as well as on dark matter physics. |\n",
       "|<p style=\"color:green\"> **ERROR** </p>| <p style=\"color:green\">affiliation error: mpia.affiliation_verifications: 'Heidelberg' keyword not found.</p> |"
      ],
      "text/plain": [
       "<IPython.core.display.Markdown object>"
      ]
     },
     "metadata": {},
     "output_type": "display_data"
    },
    {
     "data": {
      "text/markdown": [
       "\n",
       "|||\n",
       "|---:|:---|\n",
       "| [![arXiv](https://img.shields.io/badge/arXiv-arXiv:2210.14237-b31b1b.svg)](https://arxiv.org/abs/arXiv:2210.14237) | **ELVES III: Environmental Quenching by Milky Way-Mass Hosts**  |\n",
       "|| <mark>Jenny E. Greene</mark>, et al. |\n",
       "|*Appeared on*| *2022-10-27*|\n",
       "|*Comments*| *18 pages, 12 figures, submitted to ApJ, comments welcome*|\n",
       "|**Abstract**| Isolated dwarf galaxies nearly always exhibit robust star formation but satellite dwarf galaxies are often devoid of young stars, even in Milky Way-mass groups. Dwarf galaxies thus offer an important laboratory into the environmental processes that cease star formation. We explore the balance of quiescent and star-forming galaxies (quenched fractions) for a sample of ~400 satellite galaxies around 30 Local Volume hosts from the Exploration of Local VolumE Satellites (ELVES) Survey. We present quenched fractions as a function of satellite stellar mass, projected radius, and host halo mass, to conclude that overall, the quenched fractions are similar to the Milky Way, dropping below 50\\% at satellite M*~10^8 Msun. There is a ~10% difference in quenched fraction for satellites within and outside of ~R_vir/2 at fixed satellite mass. Finally, the satellite mass at which quenching grows inefficient grows steadily with host halo mass. Through comparison with the semi-analytic modeling code SatGen, we are also able to infer average quenching times as a function of satellite mass in host halo-mass bins. There is a gradual increase in quenching time with satellite stellar mass rather than the abrupt change from rapid to slow quenching that has been inferred for the Milky Way. We also generally infer longer average quenching times than recent hydrodynamical simulations. Our results vindicate models that suggest a wide range of quenching times are possible via ram pressure stripping, depending on the clumpiness of the circumgalactic medium, the orbits of the satellites, and the degree of earlier preprocessing. |\n",
       "|<p style=\"color:green\"> **ERROR** </p>| <p style=\"color:green\">affiliation error: mpia.affiliation_verifications: 'Heidelberg' keyword not found.</p> |"
      ],
      "text/plain": [
       "<IPython.core.display.Markdown object>"
      ]
     },
     "metadata": {},
     "output_type": "display_data"
    },
    {
     "data": {
      "text/markdown": [
       "\n",
       "|||\n",
       "|---:|:---|\n",
       "| [![arXiv](https://img.shields.io/badge/arXiv-arXiv:2210.14239-b31b1b.svg)](https://arxiv.org/abs/arXiv:2210.14239) | **Precision Redshift-Space Galaxy Power Spectra using Zel'dovich Control  Variates**  |\n",
       "|| <mark>Joseph DeRose</mark>, Shi-Fan Chen, Nickolas Kokron, Martin White |\n",
       "|*Appeared on*| *2022-10-27*|\n",
       "|*Comments*| *17 pages main text, 5 pages of appendices, 9 figures*|\n",
       "|**Abstract**| Numerical simulations in cosmology require trade-offs between volume, resolution and run-time that limit the volume of the Universe that can be simulated, leading to sample variance in predictions of ensemble-average quantities such as the power spectrum or correlation function(s). Sample variance is particularly acute at large scales, which is also where analytic techniques can be highly reliable. This provides an opportunity to combine analytic and numerical techniques in a principled way to improve the dynamic range and reliability of predictions for clustering statistics. In this paper we extend the technique of Zel'dovich control variates, previously demonstrated for 2-point functions in real space, to reduce the sample variance in measurements of 2-point statistics of biased tracers in redshift space. We demonstrate that with this technique, we can reduce the sample variance of these statistics down to their shot-noise limit out to $k \\sim 0.2\\, h\\rm Mpc^{-1}$. This allows a better matching with perturbative models and improved predictions for the clustering of e.g.~quasars, galaxies and neutral Hydrogen measured in spectroscopic redshift surveys at very modest computational expense. We discuss the implementation of ZCV, give some examples and provide forecasts for the efficacy of the method under various conditions. |\n",
       "|<p style=\"color:green\"> **ERROR** </p>| <p style=\"color:green\">affiliation error: mpia.affiliation_verifications: 'Heidelberg' keyword not found.</p> |"
      ],
      "text/plain": [
       "<IPython.core.display.Markdown object>"
      ]
     },
     "metadata": {},
     "output_type": "display_data"
    },
    {
     "data": {
      "text/markdown": [
       "\n",
       "|||\n",
       "|---:|:---|\n",
       "| [![arXiv](https://img.shields.io/badge/arXiv-arXiv:2210.14249-b31b1b.svg)](https://arxiv.org/abs/arXiv:2210.14249) | **How to Interpret Measurements of Diffuse Light in Stacked Observations  of Groups and Clusters of Galaxies**  |\n",
       "|| <mark>Syeda Lammim Ahad</mark>, Yannick M. Bahé, <mark>Henk Hoekstra</mark> |\n",
       "|*Appeared on*| *2022-10-27*|\n",
       "|*Comments*| *18 pages, 12 figures, re-submitted to MNRAS after positive review*|\n",
       "|**Abstract**| The diffuse light within galaxy groups and clusters provides valuable insight into the growth of massive cosmic structures. Groups are particularly interesting in this context, because they represent the link between galactic haloes and massive clusters. However, low surface brightness makes their diffuse light extremely challenging to detect individually. Stacking many groups is a promising alternative, but its physical interpretation is complicated by possible systematic variations of diffuse light profiles with other group properties. Another issue is the often ambiguous choice of group centre. We explore these challenges using mock observations for 497 galaxy groups and clusters with halo masses from $~ 10^{12} \\textrm{M}_{\\odot}$ to $1.5 \\times 10^{15}\\textrm{M}_{\\odot}$ at redshift $0.1$ from the Hydrangea cosmological hydrodynamic simulations. In 18 per cent of groups with at least five galaxies above $10^{9} \\textrm{M}_{\\odot}$ in stellar mass, the $r$-band brightest galaxy is not the one at the centre of the gravitational potential; line-of-sight projections account for half of these cases. Miscentring does not significantly affect the ensemble average mass density profile or the surface brightness profile for our sample: even within ambiguously centred haloes, different centring choices lead to only a 1 per cent change in the total fraction of diffuse intra-group light, $f_{\\textrm{IGL}}$. We find strong correlations of $f_{\\textrm{IGL}}$ with the luminosity of the central group galaxy and halo mass. Stacking groups in narrow bins of central galaxy luminosity will therefore make the physical interpretation of the signal more straightforward than combining systems across a wide range of mass. |\n",
       "|<p style=\"color:green\"> **ERROR** </p>| <p style=\"color:green\">affiliation error: mpia.affiliation_verifications: 'Heidelberg' keyword not found.</p> |"
      ],
      "text/plain": [
       "<IPython.core.display.Markdown object>"
      ]
     },
     "metadata": {},
     "output_type": "display_data"
    },
    {
     "data": {
      "text/markdown": [
       "\n",
       "|||\n",
       "|---:|:---|\n",
       "| [![arXiv](https://img.shields.io/badge/arXiv-arXiv:2210.14273-b31b1b.svg)](https://arxiv.org/abs/arXiv:2210.14273) | **Towards a non-Gaussian Generative Model of large-scale Reionization Maps**  |\n",
       "|| <mark>Yu-Heng Lin</mark>, et al. |\n",
       "|*Appeared on*| *2022-10-27*|\n",
       "|*Comments*| *7 pages, 3 figures, accept in Machine Learning and the Physical Sciences workshop at NeurIPS 2022*|\n",
       "|**Abstract**| High-dimensional data sets are expected from the next generation of large-scale surveys. These data sets will carry a wealth of information about the early stages of galaxy formation and cosmic reionization. Extracting the maximum amount of information from the these data sets remains a key challenge. Current simulations of cosmic reionization are computationally too expensive to provide enough realizations to enable testing different statistical methods, such as parameter inference. We present a non-Gaussian generative model of reionization maps that is based solely on their summary statistics. We reconstruct large-scale ionization fields (bubble spatial distributions) directly from their power spectra (PS) and Wavelet Phase Harmonics (WPH) coefficients. Using WPH, we show that our model is efficient in generating diverse new examples of large-scale ionization maps from a single realization of a summary statistic. We compare our model with the target ionization maps using the bubble size statistics, and largely find a good agreement. As compared to PS, our results show that WPH provide optimal summary statistics that capture most of information out of a highly non-linear ionization fields. |\n",
       "|<p style=\"color:green\"> **ERROR** </p>| <p style=\"color:green\">affiliation error: mpia.affiliation_verifications: 'Heidelberg' keyword not found.</p> |"
      ],
      "text/plain": [
       "<IPython.core.display.Markdown object>"
      ]
     },
     "metadata": {},
     "output_type": "display_data"
    },
    {
     "data": {
      "text/markdown": [
       "\n",
       "|||\n",
       "|---:|:---|\n",
       "| [![arXiv](https://img.shields.io/badge/arXiv-arXiv:2210.14432-b31b1b.svg)](https://arxiv.org/abs/arXiv:2210.14432) | **Redshift-evolutionary X-ray and UV luminosity relation of quasars from  Gaussian copula**  |\n",
       "|| Bao Wang, et al. -- incl., <mark>Yang Liu</mark>, <mark>Nan Liang</mark> |\n",
       "|*Appeared on*| *2022-10-27*|\n",
       "|*Comments*| *15 pages, 6 figures. Accepted for publication in ApJ*|\n",
       "|**Abstract**| We construct a three-dimensional and redshift-evolutionary X-ray and ultraviolet ($L_X-L_{UV}$) luminosity relation for quasars from the powerful statistic tool called copula, and find that the constructed $L_X-L_{UV}$ relation from copula is more viable than the standard one and the observations favor the redshift-evolutionary relation more than $3\\sigma$. The Akaike and Bayes information criterions indicate that the quasar data support strongly the three-dimensional $L_X-L_{UV}$ relation. Our results show that the quasars can be regarded as a reliable indicator of the cosmic distance if the $L_X-L_{UV}$ relation from copula is used to calibrate quasar data. |\n",
       "|<p style=\"color:green\"> **ERROR** </p>| <p style=\"color:green\">affiliation error: mpia.affiliation_verifications: 'Heidelberg' keyword not found.</p> |"
      ],
      "text/plain": [
       "<IPython.core.display.Markdown object>"
      ]
     },
     "metadata": {},
     "output_type": "display_data"
    },
    {
     "data": {
      "text/markdown": [
       "\n",
       "|||\n",
       "|---:|:---|\n",
       "| [![arXiv](https://img.shields.io/badge/arXiv-arXiv:2210.14511-b31b1b.svg)](https://arxiv.org/abs/arXiv:2210.14511) | **Callisto's atmosphere: First evidence for H2 and constraints on H2O**  |\n",
       "|| Shane R. Carberry Mogan, et al. -- incl., <mark>Lorenz Roth</mark>, <mark>H. Todd Smith</mark> |\n",
       "|*Appeared on*| *2022-10-27*|\n",
       "|*Comments*| **|\n",
       "|**Abstract**| We explore the parameter space for the contribution to Callisto's H corona observed by the Hubble Space Telescope (Roth et al. 2017a) from sublimated H2O and radiolytically produced H2 using the Direct Simulation Monte Carlo (DSMC) method. The spatial morphology of this corona produced via photo- and magnetospheric electron impact-induced dissociation is described by tracking the motion of and simulating collisions between the hot H atoms and thermal molecules including a near-surface O2 component. Our results indicate that sublimated H2O produced from the surface ice, whether assumed to be intimately mixed with or distinctly segregated from the dark non-ice or ice-poor regolith, cannot explain the observed structure of the H corona. On the other hand, a global H2 component can reproduced the observation, and is also capable of producing the enhanced electron densities observed at high altitudes by Galileo's plasma-wave instrument (Gurnett et al., 1997, 2000), providing the first evidence of H2 in Callisto's atmosphere. The range of H2 surface densities explored, under a variety of conditions, that are consistent with these observations is ~(0.4-1)x10^8 cm^-3. The simulated H2 escape rates and estimated lifetimes suggest that Callisto has a neutral H2 torus. We also place a rough upper limit on the peak H2O number density (<~10^8 cm^-3), column density (<~10^15 cm^-2), and sublimation flux (<~10^12 cm^-2 s^-1), all of which are 1-2 orders of magnitude less than that assumed in previous models. Finally, we discuss the implications of these results, as well as how they compare to Europa and Ganymede. |\n",
       "|<p style=\"color:green\"> **ERROR** </p>| <p style=\"color:green\">affiliation error: mpia.affiliation_verifications: 'Heidelberg' keyword not found.</p> |"
      ],
      "text/plain": [
       "<IPython.core.display.Markdown object>"
      ]
     },
     "metadata": {},
     "output_type": "display_data"
    },
    {
     "data": {
      "text/markdown": [
       "\n",
       "|||\n",
       "|---:|:---|\n",
       "| [![arXiv](https://img.shields.io/badge/arXiv-arXiv:2210.14563-b31b1b.svg)](https://arxiv.org/abs/arXiv:2210.14563) | **A Data-constrained Magnetohydrodynamic Simulation of the X1.0 Solar  Flare of 2021 October 28**  |\n",
       "|| Daiki Yamasaki, et al. -- incl., <mark>Jeongwoo Lee</mark> |\n",
       "|*Appeared on*| *2022-10-27*|\n",
       "|*Comments*| *14 pages, 7 figures. Accepted for the Astrophysical Journal*|\n",
       "|**Abstract**| The solar active region NOAA 12887 produced a strong X1.0 flare on 2021 October 28, which exhibits X-shaped flare ribbons and a circle-shaped erupting filament. To understand the eruption process with these characteristics, we conducted a data-constrained magnetohydrodynamics simulation using a nonlinear force-free field of the active region about an hour before the flare as the initial condition. Our simulation reproduces the filament eruption observed in the Ha images of GONG and the 304 angstrom images of SDO/AIA and suggests that two mechanisms can possibly contribute to the magnetic eruption. One is the torus instability of the pre-existing magnetic flux rope (MFR), and the other is upward pushing by magnetic loops newly formed below the MFR via continuous magnetic reconnection between two sheared magnetic arcades. The presence of this reconnection is evidenced by the SDO/AIA observations of the 1600 angstrom brightening in the footpoints of the sheared arcades at the flare onset. To clarify which process is more essential for the eruption, we performed an experimental simulation in which the reconnection between the sheared field lines is suppressed. In this case too, the MFR could erupt, but at a much reduced rising speed. We interpret this result as indicating that the eruption is not only driven by the torus instability, but additionally accelerated by newly formed and rising magnetic loops under continuous reconnection. |\n",
       "|<p style=\"color:green\"> **ERROR** </p>| <p style=\"color:green\">affiliation error: mpia.affiliation_verifications: 'Heidelberg' keyword not found.</p> |"
      ],
      "text/plain": [
       "<IPython.core.display.Markdown object>"
      ]
     },
     "metadata": {},
     "output_type": "display_data"
    },
    {
     "data": {
      "text/markdown": [
       "\n",
       "|||\n",
       "|---:|:---|\n",
       "| [![arXiv](https://img.shields.io/badge/arXiv-arXiv:2210.14713-b31b1b.svg)](https://arxiv.org/abs/arXiv:2210.14713) | **CEERS Key Paper IV: The Diversity of Galaxy Structure and Morphology at  z=3-9 with JWST**  |\n",
       "|| Jeyhan S. Kartaltepe, et al. -- incl., <mark>Henry C. Ferguson Brett H. Andrews</mark>, <mark>Lisa J. Kewley</mark>, <mark>James Liu</mark> |\n",
       "|*Appeared on*| *2022-10-27*|\n",
       "|*Comments*| *Submitted to ApJL, 22 pages, 13 figures*|\n",
       "|**Abstract**| We present a comprehensive analysis of the evolution of the morphological and structural properties of a large sample of galaxies at z=3-9 using early JWST CEERS NIRCam observations. Our sample consists of 850 galaxies at z>3 detected in both CANDELS HST imaging and JWST CEERS NIRCam images to enable a comparison of HST and JWST morphologies. Our team conducted a set of visual classifications, with each galaxy in the sample classified by three different individuals. We also measure quantitative morphologies using the publicly available codes across all seven NIRCam filters. Using these measurements, we present the fraction of galaxies of each morphological type as a function of redshift. Overall, we find that galaxies at z>3 have a wide diversity of morphologies. Galaxies with disks make up a total of 60\\% of galaxies at z=3 and this fraction drops to ~30% at z=6-9, while galaxies with spheroids make up ~30-40% across the whole redshift range and pure spheroids with no evidence for disks or irregular features make up ~20%. The fraction of galaxies with irregular features is roughly constant at all redshifts (~40-50%), while those that are purely irregular increases from ~12% to ~20% at z>4.5. We note that these are apparent fractions as many selection effects impact the visibility of morphological features at high redshift. The distributions of S\\'ersic index, size, and axis ratios show significant differences between the morphological groups. Spheroid Only galaxies have a higher S\\'ersic index, smaller size, and higher axis ratio than Disk/Irregular galaxies. Across all redshifts, smaller spheroid and disk galaxies tend to be rounder. Overall, these trends suggest that galaxies with established disks and spheroids exist across the full redshift range of this study and further work with large samples at higher redshift is needed to quantify when these features first formed. |\n",
       "|<p style=\"color:green\"> **ERROR** </p>| <p style=\"color:green\">affiliation error: mpia.affiliation_verifications: 'Heidelberg' keyword not found.</p> |"
      ],
      "text/plain": [
       "<IPython.core.display.Markdown object>"
      ]
     },
     "metadata": {},
     "output_type": "display_data"
    },
    {
     "data": {
      "text/markdown": [
       "\n",
       "|||\n",
       "|---:|:---|\n",
       "| [![arXiv](https://img.shields.io/badge/arXiv-arXiv:2210.14805-b31b1b.svg)](https://arxiv.org/abs/arXiv:2210.14805) | **The First Galaxies and the Effect of Heterogeneous Enrichment from  Primordial Stars**  |\n",
       "|| <mark>Azton I. Wells</mark>, Michael L. Norman |\n",
       "|*Appeared on*| *2022-10-27*|\n",
       "|*Comments*| *Submitted to The Astrophysical Journal*|\n",
       "|**Abstract**| We incorporate new scale-intelligent models of metal-enriched star formation (\\starss) with surrogate models of primordial stellar feedback (\\starnet) into the astrophysics simulation code \\enzo to analyze the impact of heterogeneous metal enrichment on the first galaxies. Our study includes the earliest generations of stars and the protogalaxies ($10^6 \\lesssim M_v/M_\\odot \\lesssim 10^8$) containing them. We compare results obtained with the new methods to two common paradigms of metallicity initial conditions in simulations: ignoring the metallicity initial condition and assuming a uniform metallicity floor. We find that ignoring metallicity requirements for enriched star formation results in a redshift-dependent excess in stellar mass created and compounding errors consisting of stars forming in pristine gas. We find that using a metallicity floor causes an early underproduction of stars before $z=21$ that reverses to overproduction by $z=18$. At the final redshift, $z=14.95$, there is $\\sim 20\\%$ excess stellar mass with 8.6\\% increased protogalaxy count. Heterogeneous metallicity initial conditions greatly increase the range of halo observables, e.g., stellar metallicity, stellar mass, and luminosity. The increased range leads to better agreement with observations of ultra-faint dwarf galaxies when compared to metallicity-floor simulations. \\starnet generates protogalaxies with low stellar mass, $M_* \\lesssim 10^3 M_\\odot$, so may also serve to model low-luminosity protogalaxies more effectively than a metallicity floor criterion at similar spatial and mass resolution. |\n",
       "|<p style=\"color:green\"> **ERROR** </p>| <p style=\"color:green\">affiliation error: mpia.affiliation_verifications: 'Heidelberg' keyword not found.</p> |"
      ],
      "text/plain": [
       "<IPython.core.display.Markdown object>"
      ]
     },
     "metadata": {},
     "output_type": "display_data"
    },
    {
     "data": {
      "text/markdown": [
       "\n",
       "|||\n",
       "|---:|:---|\n",
       "| [![arXiv](https://img.shields.io/badge/arXiv-arXiv:2210.14817-b31b1b.svg)](https://arxiv.org/abs/arXiv:2210.14817) | **Joint photon-electron Lorentz violation parameter plane from LHAASO data**  |\n",
       "|| <mark>Ping He</mark>, Bo-Qiang Ma |\n",
       "|*Appeared on*| *2022-10-27*|\n",
       "|*Comments*| *8 latex pages, 3 figures, version for journal publication*|\n",
       "|**Abstract**| The Large High Altitude Air Shower Observatory~(LHAASO) is one of the most sensitive gamma-ray detector arrays, whose ultrahigh-energy~(UHE) work bands not only help to study the origin and acceleration mechanism of UHE cosmic rays, but also provide the opportunity to test fundamental physics concepts such as Lorentz symmetry. LHAASO directly observes the $1.42~\\mathrm{PeV}$ highest-energy photon. By adopting the synchrotion self-Compton model LHAASO also suggests that the $1.12~\\mathrm{PeV}$ high-energy photon from Crab Nebula corresponds to a $2.3~\\mathrm{PeV}$ high-energy electron. We study the $1.42~\\mathrm{PeV}$ photon decay and the $2.3~\\mathrm{PeV}$ electron decay to perform a joint analysis on photon and electron two-dimensional Lorentz violation~(LV) parameter plane. Our analysis is systematic and comprehensive, and we naturally get the strictest constraints from merely considering photon LV effect in photon decay and electron LV effect in electron decay. Our result also permits the parameter space for new physics beyond relativity. |\n",
       "|<p style=\"color:green\"> **ERROR** </p>| <p style=\"color:green\">affiliation error: mpia.affiliation_verifications: 'Heidelberg' keyword not found.</p> |"
      ],
      "text/plain": [
       "<IPython.core.display.Markdown object>"
      ]
     },
     "metadata": {},
     "output_type": "display_data"
    },
    {
     "data": {
      "text/markdown": [
       "\n",
       "|||\n",
       "|---:|:---|\n",
       "| [![arXiv](https://img.shields.io/badge/arXiv-arXiv:2210.14890-b31b1b.svg)](https://arxiv.org/abs/arXiv:2210.14890) | **The deconvolved distribution estimator: enhancing reionisation-era CO  line-intensity mapping analyses with a cross-correlation analogue for  one-point statistics**  |\n",
       "|| Dongwoo T. Chung, et al. -- incl., <mark>Liju Philip</mark> |\n",
       "|*Appeared on*| *2022-10-27*|\n",
       "|*Comments*| *10 pages + acknowledgements/bibliography/appendix (12 pages total); 10 figures, 2 tables; to be submitted to MNRAS*|\n",
       "|**Abstract**| We present the deconvolved distribution estimator (DDE), an extension of the voxel intensity distribution (VID), in the context of future observations proposed as part of the CO Mapping Array Project (COMAP). The DDE exploits the fact that the observed VID is a convolution of correlated signal intensity distributions and uncorrelated noise or interloper intensity distributions. By deconvolving the individual VID of two observables away from their joint VID in a Fourier-space operation, the DDE suppresses sensitivity to interloper emission while maintaining sensitivity to correlated components. The DDE thus improves upon the VID by rejecting uncorrelated noise and interloper biases, which is useful in the context of COMAP observations that observe different rotational transitions of CO from the same comoving volume in different observing frequency bands. Fisher forecasts suggest that the theoretical sensitivity in the DDE allows significant improvements in constraining power compared to either the cross power spectrum or the individual VID data, and matches the constraining power of the combination of all other one- and two-point summary statistics. Future work should further investigate the covariance and model-dependent behaviour of this novel one-point cross-correlation statistic. |\n",
       "|<p style=\"color:green\"> **ERROR** </p>| <p style=\"color:green\">affiliation error: mpia.affiliation_verifications: 'Heidelberg' keyword not found.</p> |"
      ],
      "text/plain": [
       "<IPython.core.display.Markdown object>"
      ]
     },
     "metadata": {},
     "output_type": "display_data"
    },
    {
     "data": {
      "text/markdown": [
       "\n",
       "|||\n",
       "|---:|:---|\n",
       "| [![arXiv](https://img.shields.io/badge/arXiv-arXiv:2210.14853-b31b1b.svg)](https://arxiv.org/abs/arXiv:2210.14853) | **A family of potential-density pairs for galactic bars**  |\n",
       "|| <mark>Walter Dehnen</mark>, Hossam Aly |\n",
       "|*Appeared on*| *2022-10-27*|\n",
       "|*Comments*| *10 pages, accepted for publication at MNRAS*|\n",
       "|**Abstract**| We present a family of analytical potential-density pairs for barred discs, which can be combined to describe galactic bars in a realistic way, including boxy/peanut components. We illustrate this with two reasonable compound models. Computer code for the evaluation of potential, forces, density, and projected density is freely provided. |\n",
       "|<p style=\"color:green\"> **ERROR** </p>| <p style=\"color:green\">affiliation error: mpia.affiliation_verifications: 'Planck' keyword not found.</p> |"
      ],
      "text/plain": [
       "<IPython.core.display.Markdown object>"
      ]
     },
     "metadata": {},
     "output_type": "display_data"
    },
    {
     "data": {
      "text/markdown": [
       "\n",
       "|||\n",
       "|---:|:---|\n",
       "| [![arXiv](https://img.shields.io/badge/arXiv-arXiv:2210.14244-b31b1b.svg)](https://arxiv.org/abs/arXiv:2210.14244) | **Bars and boxy/peanut bulges in thin and thick discs. II. Can bars form  in hot thick discs?**  |\n",
       "|| <mark>Soumavo Ghosh</mark>, Francesca Fragkoudi, Paola Di Matteo, Kanak Saha |\n",
       "|*Appeared on*| *2022-10-27*|\n",
       "|*Comments*| *20 pages, 14 figures, 1 table (including appendix). Comments are welcome!*|\n",
       "|**Abstract**| The Milky Way as well as external galaxies possess a thick disc. However, the dynamical role of the (geometrically) thick disc on the bar formation and evolution is not fully understood. Here, we investigate the effect of thick discs in bar formation and evolution by means of a suite of $N$-body models of (kinematically cold) thin-(kinematically hot) thick discs. We systematically vary the mass fraction of the thick disc, the thin-to-thick disc scale length ratio as well as thick disc's scale height to examine the bar formation under diverse dynamical scenarios. Bars form almost always in our models, even in presence of a massive thick disc. The bar in the thick disc closely follow the overall growth and temporal evolution of the thin disc's bar, only the bar in the thick disc is weaker than the bar in the thin disc. The formation of stronger bars is associated with a simultaneous larger loss of angular momentum and a larger radial heating. In addition, we demonstrate a preferential loss of angular momentum and a preferential radial heating of disc stars, along the azimuthal direction within the extent of the bar, in both thin and thick disc stars. For purely thick disc models (without any thin disc), the bar formation critically depends on the disc scale length and scale height. A larger scale length and/or a larger vertical scale height delays the bar formation time and/or suppresses the bar formation almost completely in thick-disc-only models. We find that the Ostriker-Peeble criterion predicts the bar instability scenarios in our models better than the Efstathiou-Lake-Negroponte criterion. |\n",
       "|<p style=\"color:red\"> **ERROR** </p>| <p style=\"color:red\">latex error list index out of range</p> |"
      ],
      "text/plain": [
       "<IPython.core.display.Markdown object>"
      ]
     },
     "metadata": {},
     "output_type": "display_data"
    },
    {
     "data": {
      "text/markdown": [
       "\n",
       "|||\n",
       "|---:|:---|\n",
       "| [![arXiv](https://img.shields.io/badge/arXiv-arXiv:2210.14293-b31b1b.svg)](https://arxiv.org/abs/arXiv:2210.14293) | **Community Report from the Biosignatures Standards of Evidence Workshop**  |\n",
       "|| Victoria Meadows, et al. -- incl., <mark>Heather Graham</mark> |\n",
       "|*Appeared on*| *2022-10-27*|\n",
       "|*Comments*| *86 pages, 14 figures, workshop report*|\n",
       "|**Abstract**| The search for life beyond the Earth is the overarching goal of the NASA Astrobiology Program, and it underpins the science of missions that explore the environments of Solar System planets and exoplanets. However, the detection of extraterrestrial life, in our Solar System and beyond, is sufficiently challenging that it is likely that multiple measurements and approaches, spanning disciplines and missions, will be needed to make a convincing claim. Life detection will therefore not be an instantaneous process, and it is unlikely to be unambiguous-yet it is a high-stakes scientific achievement that will garner an enormous amount of public interest. Current and upcoming research efforts and missions aimed at detecting past and extant life could be supported by a consensus framework to plan for, assess and discuss life detection claims (c.f. Green et al., 2021). Such a framework could help increase the robustness of biosignature detection and interpretation, and improve communication with the scientific community and the public. In response to this need, and the call to the community to develop a confidence scale for standards of evidence for biosignature detection (Green et al., 2021), a community-organized workshop was held on July 19-22, 2021. The meeting was designed in a fully virtual (flipped) format. Preparatory materials including readings, instructional videos and activities were made available prior to the workshop, allowing the workshop schedule to be fully dedicated to active community discussion and prompted writing sessions. To maximize global interaction, the discussion components of the workshop were held during business hours in three different time zones, Asia/Pacific, European and US, with daily information hand-off between group organizers. |\n",
       "|<p style=\"color:red\"> **ERROR** </p>| <p style=\"color:red\">latex error not a gzip file</p> |"
      ],
      "text/plain": [
       "<IPython.core.display.Markdown object>"
      ]
     },
     "metadata": {},
     "output_type": "display_data"
    }
   ],
   "source": [
    "import datetime\n",
    "today = str(datetime.date.today())\n",
    "logfile = f\"_build/html/logs/log-{today}.md\"\n",
    "\n",
    "\n",
    "with open(logfile, 'w') as logs:\n",
    "    # Success\n",
    "    logs.write(f'# Arxiv on Deck 2: Logs - {today}\\n\\n')\n",
    "    logs.write(\"\"\"* Arxiv had {0:,d} new papers\\n\"\"\".format(len(new_papers)))\n",
    "    logs.write(\"\"\"    * {0:,d} with possible author matches\\n\\n\"\"\".format(len(candidates)))\n",
    "    logs.write(\"## Sucessful papers\\n\\n\")\n",
    "    display(Markdown(\"## Successful papers\"))\n",
    "    success = [k[0] for k in documents]\n",
    "    for candid in candidates:\n",
    "        if candid['identifier'].split(':')[-1] in success:\n",
    "            display(candid)\n",
    "            logs.write(candid.generate_markdown_text() + '\\n\\n')\n",
    "\n",
    "    ## failed\n",
    "    logs.write(\"## Failed papers\\n\\n\")\n",
    "    display(Markdown(\"## Failed papers\"))\n",
    "    failed = sorted(failed, key=lambda x: x[1])\n",
    "    current_reason = \"\"\n",
    "    for paper, reason in failed:\n",
    "        if 'affiliation' in reason:\n",
    "            color = 'green'\n",
    "        else:\n",
    "            color = 'red'\n",
    "        data = Markdown(\n",
    "                paper.generate_markdown_text() + \n",
    "                f'\\n|<p style=\"color:{color:s}\"> **ERROR** </p>| <p style=\"color:{color:s}\">{reason:s}</p> |'\n",
    "               )\n",
    "        if reason != current_reason:\n",
    "            logs.write(f'### {reason:s} \\n\\n')\n",
    "            current_reason = reason\n",
    "        logs.write(data.data + '\\n\\n')\n",
    "        \n",
    "        # only display here the important errors (all in logs)\n",
    "        # if color in ('red',):\n",
    "        display(data)"
   ]
  },
  {
   "cell_type": "markdown",
   "id": "472d20ee",
   "metadata": {
    "papermill": {
     "duration": 0.008372,
     "end_time": "2022-10-27T04:37:12.285597",
     "exception": false,
     "start_time": "2022-10-27T04:37:12.277225",
     "status": "completed"
    },
    "tags": []
   },
   "source": [
    "## Export documents\n",
    "\n",
    "We now write the .md files and export relevant images"
   ]
  },
  {
   "cell_type": "code",
   "execution_count": 7,
   "id": "d426aed9",
   "metadata": {
    "execution": {
     "iopub.execute_input": "2022-10-27T04:37:12.304066Z",
     "iopub.status.busy": "2022-10-27T04:37:12.303519Z",
     "iopub.status.idle": "2022-10-27T04:37:12.311966Z",
     "shell.execute_reply": "2022-10-27T04:37:12.311199Z"
    },
    "papermill": {
     "duration": 0.020032,
     "end_time": "2022-10-27T04:37:12.313831",
     "exception": false,
     "start_time": "2022-10-27T04:37:12.293799",
     "status": "completed"
    },
    "tags": []
   },
   "outputs": [],
   "source": [
    "def export_markdown_summary(md: str, md_fname:str, directory: str):\n",
    "    \"\"\"Export MD document and associated relevant images\"\"\"\n",
    "    import os\n",
    "    import shutil\n",
    "    import re\n",
    "\n",
    "    if (os.path.exists(directory) and not os.path.isdir(directory)):\n",
    "        raise RuntimeError(f\"a non-directory file exists with name {directory:s}\")\n",
    "\n",
    "    if (not os.path.exists(directory)):\n",
    "        print(f\"creating directory {directory:s}\")\n",
    "        os.mkdir(directory)\n",
    "\n",
    "    fig_fnames = (re.compile(r'\\[Fig.*\\]\\((.*)\\)').findall(md) + \n",
    "                  re.compile(r'\\<img src=\"([^>\\s]*)\"[^>]*/>').findall(md))\n",
    "    for fname in fig_fnames:\n",
    "        if 'http' in fname:\n",
    "            # No need to copy online figures\n",
    "            continue\n",
    "        destdir = os.path.join(directory, os.path.dirname(fname))\n",
    "        destfname = os.path.join(destdir, os.path.basename(fname))\n",
    "        try:\n",
    "            os.makedirs(destdir)\n",
    "        except FileExistsError:\n",
    "            pass\n",
    "        shutil.copy(fname, destfname)\n",
    "    with open(os.path.join(directory, md_fname), 'w') as fout:\n",
    "        fout.write(md)\n",
    "    print(\"exported in \", os.path.join(directory, md_fname))\n",
    "    [print(\"    + \" + os.path.join(directory,fk)) for fk in fig_fnames]"
   ]
  },
  {
   "cell_type": "code",
   "execution_count": 8,
   "id": "014d04a4",
   "metadata": {
    "execution": {
     "iopub.execute_input": "2022-10-27T04:37:12.332830Z",
     "iopub.status.busy": "2022-10-27T04:37:12.332479Z",
     "iopub.status.idle": "2022-10-27T04:37:12.336369Z",
     "shell.execute_reply": "2022-10-27T04:37:12.335673Z"
    },
    "papermill": {
     "duration": 0.015534,
     "end_time": "2022-10-27T04:37:12.337955",
     "exception": false,
     "start_time": "2022-10-27T04:37:12.322421",
     "status": "completed"
    },
    "tags": []
   },
   "outputs": [],
   "source": [
    "for paper_id, md in documents:\n",
    "    export_markdown_summary(md, f\"{paper_id:s}.md\", '_build/html/')"
   ]
  },
  {
   "cell_type": "markdown",
   "id": "f087a0a7",
   "metadata": {
    "papermill": {
     "duration": 0.008302,
     "end_time": "2022-10-27T04:37:12.354573",
     "exception": false,
     "start_time": "2022-10-27T04:37:12.346271",
     "status": "completed"
    },
    "tags": []
   },
   "source": [
    "## Display the papers\n",
    "\n",
    "Not necessary but allows for a quick check."
   ]
  },
  {
   "cell_type": "code",
   "execution_count": 9,
   "id": "fd25f625",
   "metadata": {
    "execution": {
     "iopub.execute_input": "2022-10-27T04:37:12.373147Z",
     "iopub.status.busy": "2022-10-27T04:37:12.372283Z",
     "iopub.status.idle": "2022-10-27T04:37:12.376852Z",
     "shell.execute_reply": "2022-10-27T04:37:12.376086Z"
    },
    "papermill": {
     "duration": 0.015664,
     "end_time": "2022-10-27T04:37:12.378431",
     "exception": false,
     "start_time": "2022-10-27T04:37:12.362767",
     "status": "completed"
    },
    "scrolled": false,
    "tags": []
   },
   "outputs": [],
   "source": [
    "[display(Markdown(k[1])) for k in documents];"
   ]
  },
  {
   "cell_type": "markdown",
   "id": "873873a4",
   "metadata": {
    "papermill": {
     "duration": 0.008399,
     "end_time": "2022-10-27T04:37:12.395129",
     "exception": false,
     "start_time": "2022-10-27T04:37:12.386730",
     "status": "completed"
    },
    "tags": []
   },
   "source": [
    "# Create HTML index"
   ]
  },
  {
   "cell_type": "code",
   "execution_count": 10,
   "id": "cf665672",
   "metadata": {
    "execution": {
     "iopub.execute_input": "2022-10-27T04:37:12.414106Z",
     "iopub.status.busy": "2022-10-27T04:37:12.413553Z",
     "iopub.status.idle": "2022-10-27T04:37:12.423734Z",
     "shell.execute_reply": "2022-10-27T04:37:12.423009Z"
    },
    "papermill": {
     "duration": 0.021498,
     "end_time": "2022-10-27T04:37:12.425448",
     "exception": false,
     "start_time": "2022-10-27T04:37:12.403950",
     "status": "completed"
    },
    "tags": []
   },
   "outputs": [
    {
     "name": "stdout",
     "output_type": "stream",
     "text": [
      "73  publications in the last 7 days.\n",
      "\t _build/html/2210.12412.md\n",
      "\t _build/html/2210.11926.md\n",
      "\t _build/html/2210.11551.md\n",
      "\t _build/html/2210.11103.md\n",
      "\t _build/html/2210.10707.md\n",
      "\t _build/html/2210.09930.md\n",
      "\t _build/html/2210.08996.md\n",
      "\t _build/html/2210.08517.md\n",
      "\t _build/html/2210.08510.md\n",
      "\t _build/html/2210.08078.md\n",
      "\t _build/html/2210.06504.md\n",
      "\t _build/html/2210.05695.md\n",
      "\t _build/html/2210.05595.md\n",
      "\t _build/html/2210.05505.md\n",
      "\t _build/html/2210.04721.md\n",
      "\t _build/html/2210.03615.md\n",
      "\t _build/html/2210.01811.md\n",
      "\t _build/html/2210.01809.md\n",
      "\t _build/html/2210.01556.md\n",
      "\t _build/html/2210.00863.md\n",
      "\t _build/html/2210.00560.md\n",
      "\t _build/html/2209.15403.md\n",
      "\t _build/html/2209.15110.md\n",
      "\t _build/html/2209.14410.md\n",
      "\t _build/html/2209.14396.md\n",
      "\t _build/html/2209.13717.md\n",
      "\t _build/html/2209.13336.md\n",
      "\t _build/html/2209.12906.md\n",
      "\t _build/html/2209.11781.md\n",
      "\t _build/html/2209.11602.md\n",
      "\t _build/html/2209.11248.md\n",
      "\t _build/html/2209.11096.md\n",
      "\t _build/html/2209.10618.md\n",
      "\t _build/html/2209.09914.md\n",
      "\t _build/html/2209.09823.md\n",
      "\t _build/html/2209.08242.md\n",
      "\t _build/html/2209.08120.md\n",
      "\t _build/html/2209.08106.md\n",
      "\t _build/html/2209.07962.md\n",
      "\t _build/html/2209.07931.md\n",
      "\t _build/html/2209.06833.md\n",
      "\t _build/html/2209.05814.md\n",
      "\t _build/html/2209.05593.md\n",
      "\t _build/html/2209.04304.md\n",
      "\t _build/html/2209.03367.md\n",
      "\t _build/html/2209.02872.md\n",
      "\t _build/html/2209.02725.md\n",
      "\t _build/html/2209.02722.md\n",
      "\t _build/html/2209.02092.md\n",
      "\t _build/html/2209.01125.md\n",
      "\t _build/html/2209.00828.md\n",
      "\t _build/html/2209.00363.md\n",
      "\t _build/html/2208.14927.md\n",
      "\t _build/html/2208.09335.md\n",
      "\t _build/html/2208.08872.md\n",
      "\t _build/html/2204.06393.md\n",
      "\t _build/html/2204.03335.md\n",
      "\t _build/html/2204.03253.md\n",
      "\t _build/html/2204.02998.md\n",
      "\t _build/html/2204.02109.md\n",
      "\t _build/html/2204.02017.md\n",
      "\t _build/html/2204.01824.md\n",
      "\t _build/html/2204.01758.md\n",
      "\t _build/html/2204.01245.md\n",
      "\t _build/html/2204.00793.md\n",
      "\t _build/html/2204.00342.md\n",
      "\t _build/html/2203.16959.md\n",
      "\t _build/html/2203.16856.md\n",
      "\t _build/html/2203.16735.md\n",
      "\t _build/html/2203.16734.md\n",
      "\t _build/html/2203.16504.md\n",
      "\t _build/html/2203.15822.md\n",
      "\t _build/html/2203.15811.md\n"
     ]
    }
   ],
   "source": [
    "from datetime import datetime, timedelta, timezone\n",
    "from glob import glob\n",
    "\n",
    "files = glob('_build/html/*.md')\n",
    "days = 7\n",
    "now = datetime.today()\n",
    "res = []\n",
    "for fk in files:\n",
    "    stat_result = os.stat(fk).st_ctime\n",
    "    modified = datetime.fromtimestamp(stat_result, tz=timezone.utc).replace(tzinfo=None)\n",
    "    delta = now.today() - modified\n",
    "    if delta <= timedelta(days=days):\n",
    "        res.append((delta.seconds, fk))\n",
    "res = [k[1] for k in reversed(sorted(res, key=lambda x:x[1]))]\n",
    "npub = len(res)\n",
    "print(len(res), f\" publications in the last {days:d} days.\")\n",
    "[ print('\\t', k) for k in res ];"
   ]
  },
  {
   "cell_type": "code",
   "execution_count": 11,
   "id": "52ca0208",
   "metadata": {
    "execution": {
     "iopub.execute_input": "2022-10-27T04:37:12.444637Z",
     "iopub.status.busy": "2022-10-27T04:37:12.444124Z",
     "iopub.status.idle": "2022-10-27T04:37:12.450924Z",
     "shell.execute_reply": "2022-10-27T04:37:12.450357Z"
    },
    "papermill": {
     "duration": 0.018561,
     "end_time": "2022-10-27T04:37:12.452662",
     "exception": false,
     "start_time": "2022-10-27T04:37:12.434101",
     "status": "completed"
    },
    "scrolled": false,
    "tags": []
   },
   "outputs": [],
   "source": [
    "def create_carousel(npub=4):\n",
    "    \"\"\" Generate the HTML code for a carousel with `npub` slides \"\"\"\n",
    "    carousel = [\"\"\"<section class=\"carousel\" aria-label=\"Gallery\">\"\"\",\n",
    "                \"\"\"  <ol class=\"carousel__viewport\">\"\"\",\n",
    "    ]\n",
    "    for k in range(1, npub + 1):\n",
    "        prev_ = k - 1\n",
    "        next_ = k + 1\n",
    "        if prev_ <= 0:\n",
    "            prev_ = npub\n",
    "        if next_ > npub:\n",
    "            next_ = 1\n",
    "        text  = f\"\"\"    <li id=\"carousel__slide{k}\" tabindex=\"0\" class=\"carousel__slide\">\\n\"\"\"\n",
    "        text += f\"\"\"       <div class=\"carousel__snapper\">\\n\"\"\"\n",
    "        text += f\"\"\"         <a href=\"#carousel__slide{prev_}\" class=\"carousel__prev\">Go to previous slide</a>\\n\"\"\"\n",
    "        text += f\"\"\"         <a href=\"#carousel__slide{next_}\" class=\"carousel__next\">Go to next slide</a>\\n\"\"\"\n",
    "        text += f\"\"\"         <div id=\"slide{k}_content\" class=\"md_view\" >Content {k}</div>\\n\"\"\"\n",
    "        text += f\"\"\"       </div>\\n\"\"\"\n",
    "        text += f\"\"\"    </li>\"\"\"\n",
    "        carousel.append(text)\n",
    "\n",
    "    carousel.extend([\n",
    "        \"\"\"  </ol>\"\"\",\n",
    "        \"\"\"  <aside class=\"carousel__navigation\">\"\"\",\n",
    "        \"\"\"    <ol class=\"carousel__navigation-list\">\"\"\"])\n",
    "\n",
    "    for k in range(1, npub + 1):\n",
    "        text  = f\"\"\"      <li class=\"carousel__navigation-item\">\\n\"\"\"\n",
    "        text += f\"\"\"        <a href=\"#carousel__slide{k}\" class=\"carousel__navigation-button\">Go to {k}</a>\\n\"\"\"\n",
    "        text += f\"\"\"      </li>\"\"\"\n",
    "        carousel.append(text)\n",
    "    carousel.extend([\"\"\"    </ol>\"\"\", \"\"\"  </aside>\"\"\", \"\"\"</section>\"\"\"])\n",
    "\n",
    "    return '\\n'.join(carousel)"
   ]
  },
  {
   "cell_type": "code",
   "execution_count": 12,
   "id": "a6eac5b6",
   "metadata": {
    "execution": {
     "iopub.execute_input": "2022-10-27T04:37:12.471635Z",
     "iopub.status.busy": "2022-10-27T04:37:12.471000Z",
     "iopub.status.idle": "2022-10-27T04:37:12.478623Z",
     "shell.execute_reply": "2022-10-27T04:37:12.477846Z"
    },
    "papermill": {
     "duration": 0.019084,
     "end_time": "2022-10-27T04:37:12.480257",
     "exception": false,
     "start_time": "2022-10-27T04:37:12.461173",
     "status": "completed"
    },
    "scrolled": false,
    "tags": []
   },
   "outputs": [],
   "source": [
    "carousel = create_carousel(npub)\n",
    "docs = ', '.join(['\"{0:s}\"'.format(k.split('/')[-1]) for k in res])\n",
    "slides = ', '.join([f'\"slide{k}_content\"' for k in range(1, npub + 1)])\n",
    "\n",
    "script = f\"\"\"\n",
    "const docs = [{docs}]\n",
    "\n",
    "const slides = [{slides}]\n",
    "\"\"\" + \"\"\"\n",
    "async function run() {\n",
    "    for (let i = 0; i < docs.length; i++) {\n",
    "        let file = await fetch(docs[i]);\n",
    "        let text = await file.text()\n",
    "        document.getElementById(slides[i]).innerHTML =\n",
    "            marked.parse(text);\n",
    "    }\n",
    "    hljs.highlightAll();\n",
    "}\n",
    "run()\n",
    "\"\"\"\n",
    "\n",
    "page = f\"\"\"<!doctype html>\n",
    "<html lang=\"en\">\n",
    "\n",
    "<head>\n",
    "  <meta charset=\"utf-8\">\n",
    "  <meta name=\"viewport\" content=\"width=device-width, initial-scale=1\">\n",
    "  <!-- Bootstrap CSS -->\n",
    "  <link href=\"https://cdn.jsdelivr.net/npm/bootstrap@5.0.2/dist/css/bootstrap.min.css\" rel=\"stylesheet\"\n",
    "   integrity=\"sha384-EVSTQN3/azprG1Anm3QDgpJLIm9Nao0Yz1ztcQTwFspd3yD65VohhpuuCOmLASjC\" crossorigin=\"anonymous\">\n",
    "  <!-- highlight.js CSS -->\n",
    "  <link rel=\"stylesheet\" href=\"https://cdnjs.cloudflare.com/ajax/libs/highlight.js/11.1.0/styles/default.min.css\">\n",
    "  <!-- Mathjax 3 -->\n",
    "  <script type=\"text/javascript\" id=\"MathJax-config\" src=\"mathjax_config.js\"> </script>\n",
    "  <script type=\"text/javascript\" id=\"MathJax-script\" async \n",
    "    src=\"https://cdn.jsdelivr.net/npm/mathjax@3/es5/tex-mml-chtml.js\">\n",
    "  </script>\n",
    "  <link rel=\"stylesheet\" href=\"index_carousel.css\">\n",
    "  <link rel=\"icon\" type=\"image/x-icon\" href=\"https://www.mpia.de/assets/touch-icon-32x32-a66937bcebc4e8894ebff1f41a366c7c7220fd97a38869ee0f2db65a9f59b6c1.png\">\n",
    "  <title>MPIA Arxiv on deck!</title>\n",
    "</head>\n",
    "\n",
    "<body>\n",
    "  <div id=\"header\"> <img src=\"header_banner.png\" width=\"100%\"></div>\n",
    "  <div id=\"suptitle\"> 7-day archives </div>\n",
    "  <div id=\"info\">\n",
    "    <img src=\"https://pngimg.com/uploads/github/github_PNG58.png\" height=30rem></img>\n",
    "    <a href=https://github.com/mpi-astronomy/arxiv_display style=\"color:black;\">github/mpi-astronomy/arxiv_display</a> \n",
    "  </div>\n",
    "  {carousel:s}\n",
    "</body>\n",
    "\n",
    "<!-- Render Markdown -->\n",
    "\n",
    "<body>\n",
    "  <!-- highlight.js: https://highlightjs.org/download/ -->\n",
    "  <script src=\"https://cdnjs.cloudflare.com/ajax/libs/highlight.js/11.5.0/highlight.min.js\"></script>\n",
    "  <!-- marked.js -->\n",
    "  <script src=\"https://cdn.jsdelivr.net/npm/marked/marked.min.js\"></script>\n",
    "  <script>{script:s}</script>\n",
    "</body>\n",
    "</html>\n",
    "\"\"\"\n",
    "with open(\"_build/html/index_7days.html\", 'w') as fout:\n",
    "    fout.write(page)"
   ]
  },
  {
   "cell_type": "markdown",
   "id": "1cebacbc",
   "metadata": {
    "papermill": {
     "duration": 0.008543,
     "end_time": "2022-10-27T04:37:12.497358",
     "exception": false,
     "start_time": "2022-10-27T04:37:12.488815",
     "status": "completed"
    },
    "tags": []
   },
   "source": [
    "# Debugging papers"
   ]
  },
  {
   "cell_type": "raw",
   "id": "debe7cc6",
   "metadata": {
    "papermill": {
     "duration": 0.008554,
     "end_time": "2022-10-27T04:37:12.514426",
     "exception": false,
     "start_time": "2022-10-27T04:37:12.505872",
     "status": "completed"
    },
    "tags": []
   },
   "source": [
    "raise NotImplementedError(\"Manual Stop\")"
   ]
  },
  {
   "cell_type": "raw",
   "id": "eb169192",
   "metadata": {
    "papermill": {
     "duration": 0.008447,
     "end_time": "2022-10-27T04:37:12.531351",
     "exception": false,
     "start_time": "2022-10-27T04:37:12.522904",
     "status": "completed"
    },
    "scrolled": true,
    "tags": []
   },
   "source": [
    "from IPython.display import display, Markdown\n",
    "from TexSoup import TexSoup\n",
    "import re\n",
    "\n",
    "def bracket_error(source: str):\n",
    "    \"\"\" Find problematic portions of the document \"\"\"\n",
    "    \n",
    "    print(\"len(source)\", len(source))\n",
    "    \n",
    "    # Checking header\n",
    "    begin_doc = next(re.finditer(r'\\\\begin\\{document\\}', doc.source)).span()[1]\n",
    "    header = source[:begin_doc]\n",
    "    text = header + r\"\\n\\end{document}\"\n",
    "\n",
    "    try:\n",
    "        # print(\"Header check... \", end='')\n",
    "        TexSoup(text)\n",
    "        display(Markdown(f\"**[OK]** - Header\"))\n",
    "    except:\n",
    "        raise RuntimeError(\"Error in the header\")\n",
    "        \n",
    "    # Check the text per section until the end.\n",
    "    # Do not stop and try them all.\n",
    "    \n",
    "    problematic_text = []\n",
    "    \n",
    "    sections = ([(0, begin_doc, 'until first section')] + \n",
    "                [(g.span()[0], g.span()[1], g.group()) for g in re.finditer(r'\\\\section\\{.*\\}', source)] +\n",
    "                [(g.span()[0], g.span()[1], g.group()) for g in re.finditer(r'\\\\begin\\{appendix\\}', source)]\n",
    "               )\n",
    "    sections.append([len(source), len(source), 'end'])\n",
    "    \n",
    "    sections = sorted(sections, key=lambda x: x[0])\n",
    "    \n",
    "    prev_pos, prev_name = (0, 'header')\n",
    "    parsed = []\n",
    "    \n",
    "    for span, span_end, name in sections:\n",
    "\n",
    "        if span - prev_pos <= 0:\n",
    "            continue\n",
    "            \n",
    "\n",
    "        text = source[prev_pos:span]\n",
    "        if prev_pos > begin_doc:\n",
    "            text = r\"\\n\\begin{document}\" + text + r\"\\n\\end{document}\"\n",
    "        else:\n",
    "            text = text + r\"\\n\\end{document}\"\n",
    "        try:\n",
    "            #print(f\"{prev_pos}:{prev_name}-->{span}:{name} check... \", end='')\n",
    "            parsed.append(TexSoup(text, tolerance=1))  # allow not ending env\n",
    "            display(Markdown(f\"**[OK]** - *{prev_pos}*:{prev_name} &rarr; *{span}*:{name}\"))\n",
    "            # print(\"ok\")\n",
    "\n",
    "            prev_pos = span\n",
    "            prev_name = name\n",
    "        except:\n",
    "            # print(f\"error between {prev_pos} and {span}\")\n",
    "            display(Markdown(f\"**[ERR]** *{prev_pos}*:{prev_name} &rarr; *{span}*:{name}\"))\n",
    "            problematic_text.append((prev_pos, source[prev_pos:span]))\n",
    "            prev_pos = span\n",
    "            prev_name = name\n",
    "            # raise\n",
    "    return problematic_text, parsed\n",
    "\n",
    "\n",
    "def check_environment(text, offset=0):\n",
    "    \"\"\" Check environment \"\"\"\n",
    "    env = re.compile(r\"\\\\begin\\{(?P<env>.*)\\}(.*)\\\\end\\{(?P=env)\\}\", re.DOTALL)\n",
    "\n",
    "    for match in env.finditer(text):\n",
    "        beg, end = match.span()\n",
    "        beg += offset\n",
    "        end += offset\n",
    "        envname = match.groups()[0]\n",
    "        try:\n",
    "            latex.TexSoup(match.group())\n",
    "        except Exception as e:\n",
    "            display(e)\n",
    "            print(f\"Error in {envname:s} between {beg} and {end}\")\n",
    "            return match.groups()[1], beg, end"
   ]
  },
  {
   "cell_type": "raw",
   "id": "2315e835",
   "metadata": {
    "papermill": {
     "duration": 0.008425,
     "end_time": "2022-10-27T04:37:12.548348",
     "exception": false,
     "start_time": "2022-10-27T04:37:12.539923",
     "status": "completed"
    },
    "scrolled": false,
    "tags": []
   },
   "source": [
    "import importlib\n",
    "importlib.reload(latex)\n",
    "which = \"2204.03253\"\n",
    "paper_id = f'{which:s}'\n",
    "folder = f'tmp_{paper_id:s}'\n",
    "\n",
    "if not os.path.isdir(folder):\n",
    "    folder = retrieve_document_source(f\"{paper_id}\", f'tmp_{paper_id}')\n",
    "\n",
    "try:\n",
    "    doc = latex.LatexDocument(folder, validation=validation)    \n",
    "except AffiliationError as affilerror:\n",
    "    msg = f\"ArXiv:{paper_id:s} is not an MPIA paper... \" + str(affilerror)\n",
    "    print(msg)\n",
    "\n",
    "\n",
    "# Hack because sometimes author parsing does not work well\n",
    "if (len(doc.authors) != len(paper['authors'])):\n",
    "    doc._authors = paper['authors']\n",
    "if (doc.abstract) in (None, ''):\n",
    "    doc._abstract = paper['abstract']\n",
    "\n",
    "doc.comment = get_markdown_badge(paper_id) + \" _\" + paper['comments'] + \"_\"\n",
    "doc.highlight_authors_in_list(hl_list)\n",
    "\n",
    "full_md = doc.generate_markdown_text()"
   ]
  },
  {
   "cell_type": "raw",
   "id": "dd3781db",
   "metadata": {
    "papermill": {
     "duration": 0.00842,
     "end_time": "2022-10-27T04:37:12.565175",
     "exception": false,
     "start_time": "2022-10-27T04:37:12.556755",
     "status": "completed"
    },
    "scrolled": false,
    "tags": []
   },
   "source": [
    "doc"
   ]
  },
  {
   "cell_type": "raw",
   "id": "c6eed834",
   "metadata": {
    "papermill": {
     "duration": 0.008392,
     "end_time": "2022-10-27T04:37:12.581959",
     "exception": false,
     "start_time": "2022-10-27T04:37:12.573567",
     "status": "completed"
    },
    "tags": []
   },
   "source": [
    "# [check_environment(k) for k in bracket_error(doc.source)]\n",
    "_, _, a = latex.get_content_per_section(doc.source, verbose=True)\n",
    "if not a:\n",
    "    print(\"no issues per section\")\n",
    "for ak in a:\n",
    "    r = check_environment(ak[1], offset=ak[0])\n",
    "    print(r[1], r[2])\n",
    "    print(r[0])"
   ]
  },
  {
   "cell_type": "code",
   "execution_count": null,
   "id": "71ce768a",
   "metadata": {
    "papermill": {
     "duration": 0.008436,
     "end_time": "2022-10-27T04:37:12.598755",
     "exception": false,
     "start_time": "2022-10-27T04:37:12.590319",
     "status": "completed"
    },
    "tags": []
   },
   "outputs": [],
   "source": []
  }
 ],
 "metadata": {
  "kernelspec": {
   "display_name": "Python 3.10.6 64-bit",
   "language": "python",
   "name": "python3"
  },
  "language_info": {
   "codemirror_mode": {
    "name": "ipython",
    "version": 3
   },
   "file_extension": ".py",
   "mimetype": "text/x-python",
   "name": "python",
   "nbconvert_exporter": "python",
   "pygments_lexer": "ipython3",
   "version": "3.9.15"
  },
  "papermill": {
   "default_parameters": {},
   "duration": 51.002865,
   "end_time": "2022-10-27T04:37:12.926433",
   "environment_variables": {},
   "exception": null,
   "input_path": "MPIA daily digest.ipynb",
   "output_path": "log.ipynb",
   "parameters": {},
   "start_time": "2022-10-27T04:36:21.923568",
   "version": "2.4.0"
  },
  "vscode": {
   "interpreter": {
    "hash": "e7370f93d1d0cde622a1f8e1c04877d8463912d04d973331ad4851f04de6915a"
   }
  },
  "widgets": {
   "application/vnd.jupyter.widget-state+json": {
    "state": {
     "1d12de70f1904c79b5c14ce19684cf25": {
      "model_module": "@jupyter-widgets/controls",
      "model_module_version": "2.0.0",
      "model_name": "HTMLModel",
      "state": {
       "_dom_classes": [],
       "_model_module": "@jupyter-widgets/controls",
       "_model_module_version": "2.0.0",
       "_model_name": "HTMLModel",
       "_view_count": null,
       "_view_module": "@jupyter-widgets/controls",
       "_view_module_version": "2.0.0",
       "_view_name": "HTMLView",
       "description": "",
       "description_allow_html": false,
       "layout": "IPY_MODEL_536b2ac45bbf47a1af4556656a26cf3c",
       "placeholder": "​",
       "style": "IPY_MODEL_a08bae738ace4ab0bf729854b9d26b29",
       "tabbable": null,
       "tooltip": null,
       "value": "100%"
      }
     },
     "2ac18a59ab124e2fb6e861836a7c7ddb": {
      "model_module": "@jupyter-widgets/controls",
      "model_module_version": "2.0.0",
      "model_name": "HTMLModel",
      "state": {
       "_dom_classes": [],
       "_model_module": "@jupyter-widgets/controls",
       "_model_module_version": "2.0.0",
       "_model_name": "HTMLModel",
       "_view_count": null,
       "_view_module": "@jupyter-widgets/controls",
       "_view_module_version": "2.0.0",
       "_view_name": "HTMLView",
       "description": "",
       "description_allow_html": false,
       "layout": "IPY_MODEL_772c49fdfdf6482d891562646db83809",
       "placeholder": "​",
       "style": "IPY_MODEL_d1295b6004854746aed8e08fdb58418f",
       "tabbable": null,
       "tooltip": null,
       "value": " 15/15 [00:25&lt;00:00,  1.52s/it]"
      }
     },
     "35bf38aa9fd4481a8d890683651bab04": {
      "model_module": "@jupyter-widgets/controls",
      "model_module_version": "2.0.0",
      "model_name": "ProgressStyleModel",
      "state": {
       "_model_module": "@jupyter-widgets/controls",
       "_model_module_version": "2.0.0",
       "_model_name": "ProgressStyleModel",
       "_view_count": null,
       "_view_module": "@jupyter-widgets/base",
       "_view_module_version": "2.0.0",
       "_view_name": "StyleView",
       "bar_color": null,
       "description_width": ""
      }
     },
     "37bda197ff7a4e78b007171219f45c04": {
      "model_module": "@jupyter-widgets/base",
      "model_module_version": "2.0.0",
      "model_name": "LayoutModel",
      "state": {
       "_model_module": "@jupyter-widgets/base",
       "_model_module_version": "2.0.0",
       "_model_name": "LayoutModel",
       "_view_count": null,
       "_view_module": "@jupyter-widgets/base",
       "_view_module_version": "2.0.0",
       "_view_name": "LayoutView",
       "align_content": null,
       "align_items": null,
       "align_self": null,
       "border_bottom": null,
       "border_left": null,
       "border_right": null,
       "border_top": null,
       "bottom": null,
       "display": null,
       "flex": null,
       "flex_flow": null,
       "grid_area": null,
       "grid_auto_columns": null,
       "grid_auto_flow": null,
       "grid_auto_rows": null,
       "grid_column": null,
       "grid_gap": null,
       "grid_row": null,
       "grid_template_areas": null,
       "grid_template_columns": null,
       "grid_template_rows": null,
       "height": null,
       "justify_content": null,
       "justify_items": null,
       "left": null,
       "margin": null,
       "max_height": null,
       "max_width": null,
       "min_height": null,
       "min_width": null,
       "object_fit": null,
       "object_position": null,
       "order": null,
       "overflow": null,
       "padding": null,
       "right": null,
       "top": null,
       "visibility": null,
       "width": null
      }
     },
     "536b2ac45bbf47a1af4556656a26cf3c": {
      "model_module": "@jupyter-widgets/base",
      "model_module_version": "2.0.0",
      "model_name": "LayoutModel",
      "state": {
       "_model_module": "@jupyter-widgets/base",
       "_model_module_version": "2.0.0",
       "_model_name": "LayoutModel",
       "_view_count": null,
       "_view_module": "@jupyter-widgets/base",
       "_view_module_version": "2.0.0",
       "_view_name": "LayoutView",
       "align_content": null,
       "align_items": null,
       "align_self": null,
       "border_bottom": null,
       "border_left": null,
       "border_right": null,
       "border_top": null,
       "bottom": null,
       "display": null,
       "flex": null,
       "flex_flow": null,
       "grid_area": null,
       "grid_auto_columns": null,
       "grid_auto_flow": null,
       "grid_auto_rows": null,
       "grid_column": null,
       "grid_gap": null,
       "grid_row": null,
       "grid_template_areas": null,
       "grid_template_columns": null,
       "grid_template_rows": null,
       "height": null,
       "justify_content": null,
       "justify_items": null,
       "left": null,
       "margin": null,
       "max_height": null,
       "max_width": null,
       "min_height": null,
       "min_width": null,
       "object_fit": null,
       "object_position": null,
       "order": null,
       "overflow": null,
       "padding": null,
       "right": null,
       "top": null,
       "visibility": null,
       "width": null
      }
     },
     "772c49fdfdf6482d891562646db83809": {
      "model_module": "@jupyter-widgets/base",
      "model_module_version": "2.0.0",
      "model_name": "LayoutModel",
      "state": {
       "_model_module": "@jupyter-widgets/base",
       "_model_module_version": "2.0.0",
       "_model_name": "LayoutModel",
       "_view_count": null,
       "_view_module": "@jupyter-widgets/base",
       "_view_module_version": "2.0.0",
       "_view_name": "LayoutView",
       "align_content": null,
       "align_items": null,
       "align_self": null,
       "border_bottom": null,
       "border_left": null,
       "border_right": null,
       "border_top": null,
       "bottom": null,
       "display": null,
       "flex": null,
       "flex_flow": null,
       "grid_area": null,
       "grid_auto_columns": null,
       "grid_auto_flow": null,
       "grid_auto_rows": null,
       "grid_column": null,
       "grid_gap": null,
       "grid_row": null,
       "grid_template_areas": null,
       "grid_template_columns": null,
       "grid_template_rows": null,
       "height": null,
       "justify_content": null,
       "justify_items": null,
       "left": null,
       "margin": null,
       "max_height": null,
       "max_width": null,
       "min_height": null,
       "min_width": null,
       "object_fit": null,
       "object_position": null,
       "order": null,
       "overflow": null,
       "padding": null,
       "right": null,
       "top": null,
       "visibility": null,
       "width": null
      }
     },
     "a04780a4bbe24547810112f88ca2026d": {
      "model_module": "@jupyter-widgets/base",
      "model_module_version": "2.0.0",
      "model_name": "LayoutModel",
      "state": {
       "_model_module": "@jupyter-widgets/base",
       "_model_module_version": "2.0.0",
       "_model_name": "LayoutModel",
       "_view_count": null,
       "_view_module": "@jupyter-widgets/base",
       "_view_module_version": "2.0.0",
       "_view_name": "LayoutView",
       "align_content": null,
       "align_items": null,
       "align_self": null,
       "border_bottom": null,
       "border_left": null,
       "border_right": null,
       "border_top": null,
       "bottom": null,
       "display": null,
       "flex": null,
       "flex_flow": null,
       "grid_area": null,
       "grid_auto_columns": null,
       "grid_auto_flow": null,
       "grid_auto_rows": null,
       "grid_column": null,
       "grid_gap": null,
       "grid_row": null,
       "grid_template_areas": null,
       "grid_template_columns": null,
       "grid_template_rows": null,
       "height": null,
       "justify_content": null,
       "justify_items": null,
       "left": null,
       "margin": null,
       "max_height": null,
       "max_width": null,
       "min_height": null,
       "min_width": null,
       "object_fit": null,
       "object_position": null,
       "order": null,
       "overflow": null,
       "padding": null,
       "right": null,
       "top": null,
       "visibility": null,
       "width": null
      }
     },
     "a08bae738ace4ab0bf729854b9d26b29": {
      "model_module": "@jupyter-widgets/controls",
      "model_module_version": "2.0.0",
      "model_name": "HTMLStyleModel",
      "state": {
       "_model_module": "@jupyter-widgets/controls",
       "_model_module_version": "2.0.0",
       "_model_name": "HTMLStyleModel",
       "_view_count": null,
       "_view_module": "@jupyter-widgets/base",
       "_view_module_version": "2.0.0",
       "_view_name": "StyleView",
       "background": null,
       "description_width": "",
       "font_size": null,
       "text_color": null
      }
     },
     "bd4eba6f6bb3489caceb1ad716edbdb7": {
      "model_module": "@jupyter-widgets/controls",
      "model_module_version": "2.0.0",
      "model_name": "HBoxModel",
      "state": {
       "_dom_classes": [],
       "_model_module": "@jupyter-widgets/controls",
       "_model_module_version": "2.0.0",
       "_model_name": "HBoxModel",
       "_view_count": null,
       "_view_module": "@jupyter-widgets/controls",
       "_view_module_version": "2.0.0",
       "_view_name": "HBoxView",
       "box_style": "",
       "children": [
        "IPY_MODEL_1d12de70f1904c79b5c14ce19684cf25",
        "IPY_MODEL_ff050de29c944a1ba520865adea30664",
        "IPY_MODEL_2ac18a59ab124e2fb6e861836a7c7ddb"
       ],
       "layout": "IPY_MODEL_a04780a4bbe24547810112f88ca2026d",
       "tabbable": null,
       "tooltip": null
      }
     },
     "d1295b6004854746aed8e08fdb58418f": {
      "model_module": "@jupyter-widgets/controls",
      "model_module_version": "2.0.0",
      "model_name": "HTMLStyleModel",
      "state": {
       "_model_module": "@jupyter-widgets/controls",
       "_model_module_version": "2.0.0",
       "_model_name": "HTMLStyleModel",
       "_view_count": null,
       "_view_module": "@jupyter-widgets/base",
       "_view_module_version": "2.0.0",
       "_view_name": "StyleView",
       "background": null,
       "description_width": "",
       "font_size": null,
       "text_color": null
      }
     },
     "ff050de29c944a1ba520865adea30664": {
      "model_module": "@jupyter-widgets/controls",
      "model_module_version": "2.0.0",
      "model_name": "FloatProgressModel",
      "state": {
       "_dom_classes": [],
       "_model_module": "@jupyter-widgets/controls",
       "_model_module_version": "2.0.0",
       "_model_name": "FloatProgressModel",
       "_view_count": null,
       "_view_module": "@jupyter-widgets/controls",
       "_view_module_version": "2.0.0",
       "_view_name": "ProgressView",
       "bar_style": "success",
       "description": "",
       "description_allow_html": false,
       "layout": "IPY_MODEL_37bda197ff7a4e78b007171219f45c04",
       "max": 15.0,
       "min": 0.0,
       "orientation": "horizontal",
       "style": "IPY_MODEL_35bf38aa9fd4481a8d890683651bab04",
       "tabbable": null,
       "tooltip": null,
       "value": 15.0
      }
     }
    },
    "version_major": 2,
    "version_minor": 0
   }
  }
 },
 "nbformat": 4,
 "nbformat_minor": 5
}