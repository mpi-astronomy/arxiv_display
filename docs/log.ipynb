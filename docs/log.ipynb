{
 "cells": [
  {
   "cell_type": "markdown",
   "id": "92bcb855",
   "metadata": {
    "papermill": {
     "duration": 0.005412,
     "end_time": "2023-09-19T04:05:22.806773",
     "exception": false,
     "start_time": "2023-09-19T04:05:22.801361",
     "status": "completed"
    },
    "tags": []
   },
   "source": [
    "# MPIA Arxiv on Deck 2\n",
    "\n",
    "Contains the steps to produce the paper extractions."
   ]
  },
  {
   "cell_type": "code",
   "execution_count": 1,
   "id": "3a0d6e11",
   "metadata": {
    "execution": {
     "iopub.execute_input": "2023-09-19T04:05:22.816477Z",
     "iopub.status.busy": "2023-09-19T04:05:22.815936Z",
     "iopub.status.idle": "2023-09-19T04:05:23.217711Z",
     "shell.execute_reply": "2023-09-19T04:05:23.216938Z"
    },
    "papermill": {
     "duration": 0.409088,
     "end_time": "2023-09-19T04:05:23.219942",
     "exception": false,
     "start_time": "2023-09-19T04:05:22.810854",
     "status": "completed"
    },
    "tags": []
   },
   "outputs": [],
   "source": [
    "# Imports\n",
    "import os\n",
    "from IPython.display import Markdown, display\n",
    "from tqdm.notebook import tqdm\n",
    "import warnings\n",
    "from PIL import Image \n",
    "\n",
    "# requires arxiv_on_deck_2\n",
    "\n",
    "from arxiv_on_deck_2.arxiv2 import (get_new_papers, \n",
    "                                    get_paper_from_identifier,\n",
    "                                    retrieve_document_source, \n",
    "                                    get_markdown_badge)\n",
    "from arxiv_on_deck_2 import (latex,\n",
    "                             latex_bib,\n",
    "                             mpia,\n",
    "                             highlight_authors_in_list)\n",
    "\n",
    "# Sometimes images are really big\n",
    "Image.MAX_IMAGE_PIXELS = 1000000000 "
   ]
  },
  {
   "cell_type": "code",
   "execution_count": 2,
   "id": "22aa9d44",
   "metadata": {
    "execution": {
     "iopub.execute_input": "2023-09-19T04:05:23.230274Z",
     "iopub.status.busy": "2023-09-19T04:05:23.229535Z",
     "iopub.status.idle": "2023-09-19T04:05:23.237120Z",
     "shell.execute_reply": "2023-09-19T04:05:23.236416Z"
    },
    "papermill": {
     "duration": 0.014474,
     "end_time": "2023-09-19T04:05:23.238786",
     "exception": false,
     "start_time": "2023-09-19T04:05:23.224312",
     "status": "completed"
    },
    "tags": []
   },
   "outputs": [],
   "source": [
    "# Some useful definitions.\n",
    "\n",
    "class AffiliationWarning(UserWarning):\n",
    "    pass\n",
    "\n",
    "class AffiliationError(RuntimeError):\n",
    "    pass\n",
    "\n",
    "def validation(source: str):\n",
    "    \"\"\"Raises error paper during parsing of source file\n",
    "    \n",
    "    Allows checks before parsing TeX code.\n",
    "    \n",
    "    Raises AffiliationWarning\n",
    "    \"\"\"\n",
    "    check = mpia.affiliation_verifications(source, verbose=True)\n",
    "    if check is not True:\n",
    "        raise AffiliationError(\"mpia.affiliation_verifications: \" + check)\n",
    "\n",
    "        \n",
    "warnings.simplefilter('always', AffiliationWarning)\n",
    "\n",
    "\n",
    "def get_markdown_qrcode(paper_id: str):\n",
    "    \"\"\" Generate a qrcode to the arxiv page using qrserver.com\n",
    "    \n",
    "    :param paper: Arxiv paper\n",
    "    :returns: markdown text\n",
    "    \"\"\"\n",
    "    url = r\"https://api.qrserver.com/v1/create-qr-code/?size=100x100&data=\"\n",
    "    txt = f\"\"\"<img src={url}\"https://arxiv.org/abs/{paper_id}\">\"\"\"\n",
    "    txt = '<div id=\"qrcode\">' + txt + '</div>'\n",
    "    return txt"
   ]
  },
  {
   "cell_type": "markdown",
   "id": "14bd6310",
   "metadata": {
    "papermill": {
     "duration": 0.003582,
     "end_time": "2023-09-19T04:05:23.247828",
     "exception": false,
     "start_time": "2023-09-19T04:05:23.244246",
     "status": "completed"
    },
    "tags": []
   },
   "source": [
    "## get list of arxiv paper candidates\n",
    "\n",
    "We use the MPIA mitarbeiter list webpage from mpia.de to get author names\n",
    "We then get all new papers from Arxiv and match authors"
   ]
  },
  {
   "cell_type": "code",
   "execution_count": 3,
   "id": "2645e73a",
   "metadata": {
    "execution": {
     "iopub.execute_input": "2023-09-19T04:05:23.256555Z",
     "iopub.status.busy": "2023-09-19T04:05:23.256087Z",
     "iopub.status.idle": "2023-09-19T04:05:47.340180Z",
     "shell.execute_reply": "2023-09-19T04:05:47.339272Z"
    },
    "papermill": {
     "duration": 24.090512,
     "end_time": "2023-09-19T04:05:47.341913",
     "exception": false,
     "start_time": "2023-09-19T04:05:23.251401",
     "status": "completed"
    },
    "tags": []
   },
   "outputs": [
    {
     "name": "stdout",
     "output_type": "stream",
     "text": [
      "M. Gárate  ->  M. Gárate  |  ['M. Gárate']\n",
      "X. Zhang  ->  X. Zhang  |  ['X. Zhang']\n",
      "H. Beuther  ->  H. Beuther  |  ['H. Beuther']\n"
     ]
    },
    {
     "name": "stdout",
     "output_type": "stream",
     "text": [
      "S. Li  ->  S. Li  |  ['S. Li']\n",
      "Arxiv has 84 new papers today\n",
      "          3 with possible author matches\n"
     ]
    }
   ],
   "source": [
    "# get list from MPIA website\n",
    "# it automatically filters identified non-scientists :func:`mpia.filter_non_scientists`\n",
    "mpia_authors = mpia.get_mpia_mitarbeiter_list()\n",
    "normed_mpia_authors = [k[1] for k in mpia_authors]   # initials + fullname\n",
    "new_papers = get_new_papers()\n",
    "# add manual references\n",
    "add_paper_refs = []\n",
    "new_papers.extend([get_paper_from_identifier(k) for k in add_paper_refs])\n",
    "\n",
    "candidates = []\n",
    "for paperk in new_papers:\n",
    "    # Check author list with their initials\n",
    "    normed_author_list = [mpia.get_initials(k) for k in paperk['authors']]\n",
    "    hl_authors = highlight_authors_in_list(normed_author_list, normed_mpia_authors, verbose=True)\n",
    "    matches = [(hl, orig) for hl, orig in zip(hl_authors, paperk['authors']) if 'mark' in hl]\n",
    "    paperk['authors'] = hl_authors\n",
    "    if matches:\n",
    "        # only select paper if an author matched our list\n",
    "        candidates.append(paperk)\n",
    "print(\"\"\"Arxiv has {0:,d} new papers today\"\"\".format(len(new_papers)))        \n",
    "print(\"\"\"          {0:,d} with possible author matches\"\"\".format(len(candidates)))"
   ]
  },
  {
   "cell_type": "markdown",
   "id": "3543b34a",
   "metadata": {
    "papermill": {
     "duration": 0.003783,
     "end_time": "2023-09-19T04:05:47.349811",
     "exception": false,
     "start_time": "2023-09-19T04:05:47.346028",
     "status": "completed"
    },
    "tags": []
   },
   "source": [
    "# Parse sources and generate relevant outputs\n",
    "\n",
    "From the candidates, we do the following steps:\n",
    "* get their tarball from ArXiv (and extract data)\n",
    "* find the main .tex file: find one with \\documentclass{...} (sometimes it's non trivial)\n",
    "* Check affiliations with :func:`validation`, which uses :func:`mpia.affiliation_verifications`\n",
    "* If passing the affiliations: we parse the .tex source\n",
    "   * inject sub-documents into the main (flatten the main document)\n",
    "   * parse structure, extract information (title, abstract, authors, figures...)\n",
    "   * handles `\\graphicspath` if provided\n",
    "* Generate the .md document."
   ]
  },
  {
   "cell_type": "code",
   "execution_count": 4,
   "id": "9576b79e",
   "metadata": {
    "execution": {
     "iopub.execute_input": "2023-09-19T04:05:47.359092Z",
     "iopub.status.busy": "2023-09-19T04:05:47.358761Z",
     "iopub.status.idle": "2023-09-19T04:08:17.147010Z",
     "shell.execute_reply": "2023-09-19T04:08:17.146253Z"
    },
    "papermill": {
     "duration": 149.801079,
     "end_time": "2023-09-19T04:08:17.154560",
     "exception": false,
     "start_time": "2023-09-19T04:05:47.353481",
     "status": "completed"
    },
    "scrolled": false,
    "tags": []
   },
   "outputs": [
    {
     "data": {
      "application/vnd.jupyter.widget-view+json": {
       "model_id": "6e9e5e37b60947acbb3dd60dc2a3621c",
       "version_major": 2,
       "version_minor": 0
      },
      "text/plain": [
       "  0%|          | 0/3 [00:00<?, ?it/s]"
      ]
     },
     "metadata": {},
     "output_type": "display_data"
    },
    {
     "name": "stdout",
     "output_type": "stream",
     "text": [
      "Retrieving document from  https://arxiv.org/e-print/2309.08752\n"
     ]
    },
    {
     "name": "stdout",
     "output_type": "stream",
     "text": [
      "extracting tarball to tmp_2309.08752..."
     ]
    },
    {
     "name": "stdout",
     "output_type": "stream",
     "text": [
      " done.\n"
     ]
    },
    {
     "name": "stdout",
     "output_type": "stream",
     "text": [
      "M. Gárate  ->  M. Gárate  |  ['M. Gárate']\n"
     ]
    },
    {
     "name": "stdout",
     "output_type": "stream",
     "text": [
      "Found 138 bibliographic references in tmp_2309.08752/aa_main_mgarate.bbl.\n",
      "Retrieving document from  https://arxiv.org/e-print/2309.09414\n"
     ]
    },
    {
     "name": "stdout",
     "output_type": "stream",
     "text": [
      "extracting tarball to tmp_2309.09414..."
     ]
    },
    {
     "name": "stdout",
     "output_type": "stream",
     "text": [
      " done.\n",
      "Retrieving document from  https://arxiv.org/e-print/2309.09687\n"
     ]
    },
    {
     "name": "stdout",
     "output_type": "stream",
     "text": [
      "extracting tarball to tmp_2309.09687..."
     ]
    },
    {
     "name": "stdout",
     "output_type": "stream",
     "text": [
      " done.\n"
     ]
    },
    {
     "name": "stderr",
     "output_type": "stream",
     "text": [
      "/opt/hostedtoolcache/Python/3.9.18/x64/lib/python3.9/site-packages/arxiv_on_deck_2/latex.py:473: LatexWarning: Error parsing the document directly. Trying to recover.\n",
      "  warnings.warn(LatexWarning(f\"Error parsing the document directly. Trying to recover.\"))\n"
     ]
    },
    {
     "name": "stdout",
     "output_type": "stream",
     "text": [
      "✔ → 0:header\n",
      "  ↳ 3934:\\section{Introduction}\n"
     ]
    },
    {
     "name": "stdout",
     "output_type": "stream",
     "text": [
      "✘ → 3934:\\section{Introduction}\n",
      "  ↳ 17513:\\section{Observations}\n"
     ]
    },
    {
     "name": "stdout",
     "output_type": "stream",
     "text": [
      "✔ → 17513:\\section{Observations}\n",
      "  ↳ 21489:\\section{Results and analysis}\n"
     ]
    },
    {
     "name": "stdout",
     "output_type": "stream",
     "text": [
      "✔ → 21489:\\section{Results and analysis}\n",
      "  ↳ 46381:\\section{Discussion}\n"
     ]
    },
    {
     "name": "stdout",
     "output_type": "stream",
     "text": [
      "✔ → 46381:\\section{Discussion}\n",
      "  ↳ 65040:\\section{Summary and conclusions}\n",
      "✔ → 65040:\\section{Summary and conclusions}\n",
      "  ↳ 68854:\\begin{appendix}\n",
      "✔ → 68854:\\begin{appendix}\n",
      "  ↳ 68871:\\section{Integrated intensity contour maps}\n"
     ]
    },
    {
     "name": "stdout",
     "output_type": "stream",
     "text": [
      "✔ → 68871:\\section{Integrated intensity contour maps}\n",
      "  ↳ 71533:\\section{Line profiles in detected molecules}\n",
      "✔ → 71533:\\section{Line profiles in detected molecules}\n",
      "  ↳ 72850:\\section{Correlation plots}\n",
      "✔ → 72850:\\section{Correlation plots}\n",
      "  ↳ 74872:end\n"
     ]
    },
    {
     "name": "stdout",
     "output_type": "stream",
     "text": [
      "H. Beuther  ->  H. Beuther  |  ['H. Beuther']\n",
      "S. Li  ->  S. Li  |  ['S. Li']\n"
     ]
    },
    {
     "name": "stdout",
     "output_type": "stream",
     "text": [
      "Found 98 bibliographic references in tmp_2309.09687/main.bbl.\n",
      "syntax error in line 686: premature end of file\n"
     ]
    }
   ],
   "source": [
    "documents = []\n",
    "failed = []\n",
    "for paper in tqdm(candidates):\n",
    "    paper_id = paper['identifier'].lower().replace('arxiv:', '')\n",
    "    \n",
    "    folder = f'tmp_{paper_id}'\n",
    "\n",
    "    try:\n",
    "        if not os.path.isdir(folder):\n",
    "            folder = retrieve_document_source(f\"{paper_id}\", f'tmp_{paper_id}')\n",
    "        \n",
    "        try:\n",
    "            doc = latex.LatexDocument(folder, validation=validation)    \n",
    "        except AffiliationError as affilerror:\n",
    "            msg = f\"ArXiv:{paper_id:s} is not an MPIA paper... \" + str(affilerror)\n",
    "            failed.append((paper, \"affiliation error: \" + str(affilerror) ))\n",
    "            continue\n",
    "        \n",
    "        # Hack because sometimes author parsing does not work well\n",
    "        if (len(doc.authors) != len(paper['authors'])):\n",
    "            doc._authors = paper['authors']\n",
    "        else:\n",
    "            # highlight authors (FIXME: doc.highlight_authors)\n",
    "            # done on arxiv paper already\n",
    "            doc._authors = highlight_authors_in_list(\n",
    "                [mpia.get_initials(k) for k in doc.authors], \n",
    "                normed_mpia_authors, verbose=True)\n",
    "        if (doc.abstract) in (None, ''):\n",
    "            doc._abstract = paper['abstract']\n",
    "            \n",
    "        doc.comment = (get_markdown_badge(paper_id) + \n",
    "                       \"<mark>Appeared on: \" + paper['date'] + \"</mark> - \")\n",
    "        if paper['comments']:\n",
    "            doc.comment += \" _\" + paper['comments'] + \"_\"\n",
    "        \n",
    "        full_md = doc.generate_markdown_text()\n",
    "        \n",
    "        full_md += get_markdown_qrcode(paper_id)\n",
    "        \n",
    "        # replace citations\n",
    "        try:\n",
    "            bibdata = latex_bib.LatexBib.from_doc(doc)\n",
    "            full_md = latex_bib.replace_citations(full_md, bibdata)\n",
    "        except Exception as e:\n",
    "            print(e)\n",
    "        \n",
    "        documents.append((paper_id, full_md))\n",
    "    except Exception as e:\n",
    "        warnings.warn(latex.LatexWarning(f\"{paper_id:s} did not run properly\\n\" +\n",
    "                                         str(e)\n",
    "                                        ))\n",
    "        failed.append((paper, \"latex error \" + str(e)))"
   ]
  },
  {
   "cell_type": "markdown",
   "id": "2505a25c",
   "metadata": {
    "papermill": {
     "duration": 0.004907,
     "end_time": "2023-09-19T04:08:17.164609",
     "exception": false,
     "start_time": "2023-09-19T04:08:17.159702",
     "status": "completed"
    },
    "tags": []
   },
   "source": [
    "### Export the logs\n",
    "\n",
    "Throughout, we also keep track of the logs per paper. see `logs-{today date}.md` "
   ]
  },
  {
   "cell_type": "code",
   "execution_count": 5,
   "id": "d733828a",
   "metadata": {
    "execution": {
     "iopub.execute_input": "2023-09-19T04:08:17.176586Z",
     "iopub.status.busy": "2023-09-19T04:08:17.175945Z",
     "iopub.status.idle": "2023-09-19T04:08:17.194620Z",
     "shell.execute_reply": "2023-09-19T04:08:17.194021Z"
    },
    "papermill": {
     "duration": 0.026768,
     "end_time": "2023-09-19T04:08:17.196288",
     "exception": false,
     "start_time": "2023-09-19T04:08:17.169520",
     "status": "completed"
    },
    "scrolled": false,
    "tags": []
   },
   "outputs": [
    {
     "data": {
      "text/markdown": [
       "## Successful papers"
      ],
      "text/plain": [
       "<IPython.core.display.Markdown object>"
      ]
     },
     "metadata": {},
     "output_type": "display_data"
    },
    {
     "data": {
      "text/markdown": [
       "\n",
       "|||\n",
       "|---:|:---|\n",
       "| [![arXiv](https://img.shields.io/badge/arXiv-arXiv:2309.08752-b31b1b.svg)](https://arxiv.org/abs/arXiv:2309.08752) | **Millimeter emission in photoevaporating disks is determined by early  substructures**  |\n",
       "|| <mark>M. Gárate</mark>, et al. |\n",
       "|*Appeared on*| *2023-09-19*|\n",
       "|*Comments*| *Accepted for publication in A&A*|\n",
       "|**Abstract**| [abridged]Photoevaporation and dust-trapping are individually considered to be important mechanisms in the evolution and morphology of protoplanetary disks. We studied how the presence of early substructures affects the evolution of the dust distribution and flux in the millimeter continuum of disks that are undergoing photoevaporative dispersal. We also tested if the predicted properties resemble those observed in the population of transition disks. We used the numerical code Dustpy to simulate disk evolution considering gas accretion, dust growth, dust-trapping at substructures, and mass loss due to X-ray and EUV (XEUV) photoevaporation and dust entrainment. Then, we compared how the dust mass and millimeter flux evolve for different disk models. We find that, during photoevaporative dispersal, disks with primordial substructures retain more dust and are brighter in the millimeter continuum than disks without early substructures, regardless of the photoevaporative cavity size. Once the photoevaporative cavity opens, the estimated fluxes for the disk models that are initially structured are comparable to those found in the bright transition disk population ($F_\\textrm{mm} > 30\\, \\textrm{mJy}$), while the disk models that are initially smooth have fluxes comparable to the transition disks from the faint population ($F_\\textrm{mm} < 30\\, \\textrm{mJy}$), suggesting a link between each model and population. Our models indicate that the efficiency of the dust trapping determines the millimeter flux of the disk, while the gas loss due to photoevaporation controls the formation and expansion of a cavity, decoupling the mechanisms responsible for each feature. In consequence, even a planet with a mass comparable to Saturn could trap enough dust to reproduce the millimeter emission of a bright transition disk, while its cavity size is independently driven by photoevaporative dispersal. |"
      ],
      "text/plain": [
       "[arXiv:2309.08752] Millimeter emission in photoevaporating disks is determined by early  substructures\n",
       "\t<mark>M. Gárate</mark>, et al."
      ]
     },
     "metadata": {},
     "output_type": "display_data"
    },
    {
     "data": {
      "text/markdown": [
       "\n",
       "|||\n",
       "|---:|:---|\n",
       "| [![arXiv](https://img.shields.io/badge/arXiv-arXiv:2309.09687-b31b1b.svg)](https://arxiv.org/abs/arXiv:2309.09687) | **The Cygnus Allscale Survey of Chemistry and Dynamical Environments:  CASCADE. II. A detailed kinematic analysis of the DR21 Main outflow**  |\n",
       "|| I. M. Skretas, et al. -- incl., <mark>H. Beuther</mark>, <mark>S. Li</mark> |\n",
       "|*Appeared on*| *2023-09-19*|\n",
       "|*Comments*| *26 pages, 37 figures. Accepted for publication in A&A*|\n",
       "|**Abstract**| Molecular outflows are believed to be a key ingredient in the process of star formation. The molecular outflow associated with DR21 Main in Cygnus-X is one of the most extreme, in mass and size, molecular outflows in the Milky Way. The outflow is suggested to belong to a rare class of explosive outflows which are formed by the disintegration of protostellar systems.We aim to explore the morphology, kinematics,and energetics of the DR21 Main outflow, and compare those properties to confirmed explosive outflows to unravel the underlying driving mechanism behind DR21. Line and continuum emission are studied at a wavelength of 3.6\\,mm with IRAM 30 m and NOEMA telescopes as part of the Cygnus Allscale Survey of Chemistry and Dynamical Environments (CASCADE) program. The spectra include ($J= 1-0$) transitions of HCO$^+$, HCN, HNC, N$_2$H$^+$, H$_2$CO, CCH tracing different temperature and density regimes of the outflowing gas at high-velocity resolution ($\\sim$ 0.8 km s$^{-1}$). The map encompasses the entire DR21 Main outflow and covers all spatial scales down to a resolution of ~3\" ($\\sim$ 0.02 pc). Integrated intensity maps of the HCO$^+$ emission reveal a strongly collimated bipolar outflow with significant overlap of the blue- and red-shifted emission. The opening angles of both outflow lobes decrease with velocity, from $\\sim80$ to 20$^{\\circ}$ for the velocity range from 5 to 45 km s$^{-1}$ relative to the source velocity. No evidence is found for the presence of elongated, \"filament-like\" structures expected in explosive outflows. N$_2$H$^+$ emission near the western outflow lobe reveals the presence of a dense molecular structure which appears to be interacting with the DR21 Main outflow. The overall morphology as well as the detailed kinematics of the DR21 Main outflow is more consistent with that of a typical bipolar outflow instead of an explosive counterpart. |"
      ],
      "text/plain": [
       "[arXiv:2309.09687] The Cygnus Allscale Survey of Chemistry and Dynamical Environments:  CASCADE. II. A detailed kinematic analysis of the DR21 Main outflow\n",
       "\tI. M. Skretas, et al. -- incl., <mark>H. Beuther</mark>, <mark>S. Li</mark>"
      ]
     },
     "metadata": {},
     "output_type": "display_data"
    },
    {
     "data": {
      "text/markdown": [
       "## Failed papers"
      ],
      "text/plain": [
       "<IPython.core.display.Markdown object>"
      ]
     },
     "metadata": {},
     "output_type": "display_data"
    },
    {
     "data": {
      "text/markdown": [
       "\n",
       "|||\n",
       "|---:|:---|\n",
       "| [![arXiv](https://img.shields.io/badge/arXiv-arXiv:2309.09414-b31b1b.svg)](https://arxiv.org/abs/arXiv:2309.09414) | **The triggering process of an X-class solar flare on a small quadrupolar  active region**  |\n",
       "|| Q. Song, et al. -- incl., <mark>X. Zhang</mark> |\n",
       "|*Appeared on*| *2023-09-19*|\n",
       "|*Comments*| *24 pages, 7 figures, accepted for publication in ApJ*|\n",
       "|**Abstract**| The occurrence of X-class solar flares and their potential impact on the space weather often receive great attention than other flares. But predicting when and where an X-class flare will occur is still a challenge. With the multi-wavelength observation from the Solar Dynamics Observatory and FengYun- 3E satellite, we investigate the triggering of a GOES X1.0 flare occurring in the NOAA active region (AR) 12887. Our results show that this unique X-class flare is bred in a relatively small but complex quadrupolar AR. Before the X-class flare, two filaments (F1 and F2) exist below a null-point topology of the quadrupolar AR. Magnetic field extrapolation and observation reveal that F1 and F2 correspond to two magnetic flux ropes with the same chirality and their adjacent feet rooted at nonconjugated opposite polarities, respectively. Interestingly, these two polarities collide rapidly, accompanied by photospheric magnetic flux emergence, cancellation and shear motion in the AR center. Above this site, F1 and F2 subsequently intersect and merge to a longer filament (F3) via a tether-cutting-like reconnection process. As a result, the F3 rises and erupts, involving the large-scale arcades overlying filament and the quadrupolar magnetic field above the AR, and eventually leads to the eruption of the X-class flare with a quasi-X-shaped flare ribbon and a coronal mass ejection. It suggests that the rapid collision of nonconjugated opposite polarities provides a key condition for the triggering of this X-class flare, and also provides a featured case for flare trigger mechanism and space weather forecasting. |\n",
       "|<p style=\"color:green\"> **ERROR** </p>| <p style=\"color:green\">affiliation error: mpia.affiliation_verifications: 'Heidelberg' keyword not found.</p> |"
      ],
      "text/plain": [
       "<IPython.core.display.Markdown object>"
      ]
     },
     "metadata": {},
     "output_type": "display_data"
    }
   ],
   "source": [
    "import datetime\n",
    "today = str(datetime.date.today())\n",
    "logfile = f\"_build/html/logs/log-{today}.md\"\n",
    "\n",
    "\n",
    "with open(logfile, 'w') as logs:\n",
    "    # Success\n",
    "    logs.write(f'# Arxiv on Deck 2: Logs - {today}\\n\\n')\n",
    "    logs.write(\"\"\"* Arxiv had {0:,d} new papers\\n\"\"\".format(len(new_papers)))\n",
    "    logs.write(\"\"\"    * {0:,d} with possible author matches\\n\\n\"\"\".format(len(candidates)))\n",
    "    logs.write(\"## Sucessful papers\\n\\n\")\n",
    "    display(Markdown(\"## Successful papers\"))\n",
    "    success = [k[0] for k in documents]\n",
    "    for candid in candidates:\n",
    "        if candid['identifier'].split(':')[-1] in success:\n",
    "            display(candid)\n",
    "            logs.write(candid.generate_markdown_text() + '\\n\\n')\n",
    "\n",
    "    ## failed\n",
    "    logs.write(\"## Failed papers\\n\\n\")\n",
    "    display(Markdown(\"## Failed papers\"))\n",
    "    failed = sorted(failed, key=lambda x: x[1])\n",
    "    current_reason = \"\"\n",
    "    for paper, reason in failed:\n",
    "        if 'affiliation' in reason:\n",
    "            color = 'green'\n",
    "        else:\n",
    "            color = 'red'\n",
    "        data = Markdown(\n",
    "                paper.generate_markdown_text() + \n",
    "                f'\\n|<p style=\"color:{color:s}\"> **ERROR** </p>| <p style=\"color:{color:s}\">{reason:s}</p> |'\n",
    "               )\n",
    "        if reason != current_reason:\n",
    "            logs.write(f'### {reason:s} \\n\\n')\n",
    "            current_reason = reason\n",
    "        logs.write(data.data + '\\n\\n')\n",
    "        \n",
    "        # only display here the important errors (all in logs)\n",
    "        # if color in ('red',):\n",
    "        display(data)"
   ]
  },
  {
   "cell_type": "markdown",
   "id": "472d20ee",
   "metadata": {
    "papermill": {
     "duration": 0.005728,
     "end_time": "2023-09-19T04:08:17.209027",
     "exception": false,
     "start_time": "2023-09-19T04:08:17.203299",
     "status": "completed"
    },
    "tags": []
   },
   "source": [
    "## Export documents\n",
    "\n",
    "We now write the .md files and export relevant images"
   ]
  },
  {
   "cell_type": "code",
   "execution_count": 6,
   "id": "d426aed9",
   "metadata": {
    "execution": {
     "iopub.execute_input": "2023-09-19T04:08:17.222165Z",
     "iopub.status.busy": "2023-09-19T04:08:17.221708Z",
     "iopub.status.idle": "2023-09-19T04:08:17.234131Z",
     "shell.execute_reply": "2023-09-19T04:08:17.232293Z"
    },
    "papermill": {
     "duration": 0.021777,
     "end_time": "2023-09-19T04:08:17.236428",
     "exception": false,
     "start_time": "2023-09-19T04:08:17.214651",
     "status": "completed"
    },
    "tags": []
   },
   "outputs": [],
   "source": [
    "def export_markdown_summary(md: str, md_fname:str, directory: str):\n",
    "    \"\"\"Export MD document and associated relevant images\"\"\"\n",
    "    import os\n",
    "    import shutil\n",
    "    import re\n",
    "\n",
    "    if (os.path.exists(directory) and not os.path.isdir(directory)):\n",
    "        raise RuntimeError(f\"a non-directory file exists with name {directory:s}\")\n",
    "\n",
    "    if (not os.path.exists(directory)):\n",
    "        print(f\"creating directory {directory:s}\")\n",
    "        os.mkdir(directory)\n",
    "\n",
    "    fig_fnames = (re.compile(r'\\[Fig.*\\]\\((.*)\\)').findall(md) + \n",
    "                  re.compile(r'\\<img src=\"([^>\\s]*)\"[^>]*/>').findall(md))\n",
    "    for fname in fig_fnames:\n",
    "        if 'http' in fname:\n",
    "            # No need to copy online figures\n",
    "            continue\n",
    "        destdir = os.path.join(directory, os.path.dirname(fname))\n",
    "        destfname = os.path.join(destdir, os.path.basename(fname))\n",
    "        try:\n",
    "            os.makedirs(destdir)\n",
    "        except FileExistsError:\n",
    "            pass\n",
    "        shutil.copy(fname, destfname)\n",
    "    with open(os.path.join(directory, md_fname), 'w') as fout:\n",
    "        fout.write(md)\n",
    "    print(\"exported in \", os.path.join(directory, md_fname))\n",
    "    [print(\"    + \" + os.path.join(directory,fk)) for fk in fig_fnames]"
   ]
  },
  {
   "cell_type": "code",
   "execution_count": 7,
   "id": "014d04a4",
   "metadata": {
    "execution": {
     "iopub.execute_input": "2023-09-19T04:08:17.249574Z",
     "iopub.status.busy": "2023-09-19T04:08:17.248910Z",
     "iopub.status.idle": "2023-09-19T04:08:17.259131Z",
     "shell.execute_reply": "2023-09-19T04:08:17.258518Z"
    },
    "papermill": {
     "duration": 0.020203,
     "end_time": "2023-09-19T04:08:17.262407",
     "exception": false,
     "start_time": "2023-09-19T04:08:17.242204",
     "status": "completed"
    },
    "tags": []
   },
   "outputs": [
    {
     "name": "stdout",
     "output_type": "stream",
     "text": [
      "exported in  _build/html/2309.08752.md\n",
      "    + _build/html/tmp_2309.08752/./SecondaryPlots/Agap_MassIntensity.png\n",
      "    + _build/html/tmp_2309.08752/./SecondaryPlots/Rgap_MassIntensity.png\n",
      "    + _build/html/tmp_2309.08752/./SecondaryPlots/Lx_MassIntensity.png\n",
      "exported in  _build/html/2309.09687.md\n",
      "    + _build/html/tmp_2309.09687/./correlations/Fco_Menv_correlation_plot.png\n",
      "    + _build/html/tmp_2309.09687/./correlations/Fco_Lbol_correlation_plot.png\n",
      "    + _build/html/tmp_2309.09687/./Appendix1/2.2um_UKIDSS_WFCAM_withhcn_hnc_h2cocontours.png\n",
      "    + _build/html/tmp_2309.09687/./Images1/HCO+_H2CO_N2H+_intensities_across_line.png\n"
     ]
    }
   ],
   "source": [
    "for paper_id, md in documents:\n",
    "    export_markdown_summary(md, f\"{paper_id:s}.md\", '_build/html/')"
   ]
  },
  {
   "cell_type": "markdown",
   "id": "f087a0a7",
   "metadata": {
    "papermill": {
     "duration": 0.005844,
     "end_time": "2023-09-19T04:08:17.274266",
     "exception": false,
     "start_time": "2023-09-19T04:08:17.268422",
     "status": "completed"
    },
    "tags": []
   },
   "source": [
    "## Display the papers\n",
    "\n",
    "Not necessary but allows for a quick check."
   ]
  },
  {
   "cell_type": "code",
   "execution_count": 8,
   "id": "fd25f625",
   "metadata": {
    "execution": {
     "iopub.execute_input": "2023-09-19T04:08:17.287872Z",
     "iopub.status.busy": "2023-09-19T04:08:17.287035Z",
     "iopub.status.idle": "2023-09-19T04:08:17.298888Z",
     "shell.execute_reply": "2023-09-19T04:08:17.298235Z"
    },
    "papermill": {
     "duration": 0.02053,
     "end_time": "2023-09-19T04:08:17.300500",
     "exception": false,
     "start_time": "2023-09-19T04:08:17.279970",
     "status": "completed"
    },
    "scrolled": false,
    "tags": []
   },
   "outputs": [
    {
     "data": {
      "text/markdown": [
       "<div class=\"macros\" style=\"visibility:hidden;\">\n",
       "$\\newcommand{\\ensuremath}{}$\n",
       "$\\newcommand{\\xspace}{}$\n",
       "$\\newcommand{\\object}[1]{\\texttt{#1}}$\n",
       "$\\newcommand{\\farcs}{{.}''}$\n",
       "$\\newcommand{\\farcm}{{.}'}$\n",
       "$\\newcommand{\\arcsec}{''}$\n",
       "$\\newcommand{\\arcmin}{'}$\n",
       "$\\newcommand{\\ion}[2]{#1#2}$\n",
       "$\\newcommand{\\textsc}[1]{\\textrm{#1}}$\n",
       "$\\newcommand{\\hl}[1]{\\textrm{#1}}$\n",
       "$\\newcommand{\\footnote}[1]{}$\n",
       "$\\newcommand{\\revision}[1]{#1}$\n",
       "$\\newcommand{\\revisionStrike}[1]{\\sout{\\textcolor{red}{#1}}}$\n",
       "$\\newcommand{\\vdag}{(v)^\\dagger}$\n",
       "$\\newcommand$\n",
       "$\\newcommand{\\St}{\\ensuremath{\\mathrm{St}}\\xspace}$\n",
       "$\\newcommand$\n",
       "$\\newcommand$\n",
       "$\\newcommand$\n",
       "$\\newcommand$\n",
       "$\\newcommand$\n",
       "$\\newcommand$\n",
       "$\\newcommand$\n",
       "$\\newcommand{\\matias}[1]{\\textcolor{blue}{\\textbf{Matias:} #1}}$\n",
       "$\\newcommand{\\paola}[1]{\\textcolor{pink}{\\textbf{Paola:} #1}}$\n",
       "$\\newcommand{\\til}[1]{\\textcolor{red}{\\textbf{Til:} #1}}$\n",
       "$\\newcommand{\\barbara}[1]{\\textcolor{red}{\\textbf{Barbara:} #1}}$\n",
       "$\\newcommand{\\sean}[1]{\\textcolor{teal}{\\textbf{Sean:} #1}}$\n",
       "$\\newcommand{\\ana}[1]{\\textcolor{teal}{\\textbf{Ana:} #1}}$\n",
       "$\\newcommand{\\sebastian}[1]{\\textcolor{purple}{\\textbf{Sebastian:} #1}}$\n",
       "$\\newcommand{\\raphael}[1]{\\textcolor{purple}{\\textbf{Raphael:} #1}}$\n",
       "$\\newcommand{\\giovanni}[1]{\\textcolor{purple}{\\textbf{Giovanni:} #1}}$\n",
       "$\\newcommand{\\chapterautorefname}{Chapter}$\n",
       "$\\newcommand{\\sectionautorefname}{Section}$\n",
       "$\\newcommand{\\subsectionautorefname}{Section}$\n",
       "$\\newcommand{\\subsubsectionautorefname}{Section}$\n",
       "$\\newcommand{\\figureautorefname}{Figure}$</div>\n",
       "\n",
       "\n",
       "\n",
       "<div id=\"title\">\n",
       "\n",
       "# Millimeter emission in photoevaporating disks is determined by early substructures\n",
       "\n",
       "</div>\n",
       "<div id=\"comments\">\n",
       "\n",
       "[![arXiv](https://img.shields.io/badge/arXiv-2309.08752-b31b1b.svg)](https://arxiv.org/abs/2309.08752)<mark>Appeared on: 2023-09-19</mark> -  _Accepted for publication in A&A_\n",
       "\n",
       "</div>\n",
       "<div id=\"authors\">\n",
       "\n",
       "<mark>M. Gárate</mark>, et al.\n",
       "\n",
       "</div>\n",
       "<div id=\"abstract\">\n",
       "\n",
       "**Abstract:** Photoevaporation and dust-trapping are individually considered to be important mechanisms in the evolution and morphology of protoplanetary disks. However, it is not yet clear what kind of observational features are expected when both processes operate simultaneously. We studied how the presence (or absence) of early substructures, such as the gaps caused by planets, affects the evolution of the dust distribution and flux in the millimeter continuum of disks that are undergoing photoevaporative dispersal. We also tested if the predicted properties resemble those observed in the population of transition disks. We used the numerical code \\texttt{Dustpy} to simulate disk evolution considering gas accretion, dust growth, dust-trapping at substructures, and mass loss due to X-ray and EUV (XEUV) photoevaporation and dust entrainment. Then, we compared how the dust mass and millimeter flux evolve for different disk models. We find that, during photoevaporative dispersal, disks with primordial substructures retain more dust and are brighter in the millimeter continuum than disks without early substructures, regardless of the photoevaporative cavity size.   Once the photoevaporative cavity opens, the estimated fluxes for the disk models that are initially structured are comparable to those found in the bright transition disk population ( $F_\\textrm{mm} > 30  \\textrm{mJy}$ ), while the disk models that are initially smooth have fluxes comparable to the transition disks from the faint population ( $F_\\textrm{mm} < 30  \\textrm{mJy}$ ), suggesting a link between each model and population. Our models indicate that the efficiency of the dust trapping determines the millimeter flux of the disk, while the gas loss due to photoevaporation controls the formation and expansion of a cavity, decoupling the mechanisms responsible for each feature.   In consequence, even a planet with a mass comparable to Saturn could trap enough dust to reproduce the millimeter emission of a bright transition disk, while its cavity size is independently driven by photoevaporative dispersal.\n",
       "\n",
       "</div>\n",
       "\n",
       "<div id=\"div_fig1\">\n",
       "\n",
       "<img src=\"tmp_2309.08752/./SecondaryPlots/Agap_MassIntensity.png\" alt=\"Fig9\" width=\"100%\"/>\n",
       "\n",
       "**Figure 9. -** Same as \\autoref{Fig_LxParameter}, but for structured disks with different gap amplitudes, with a fixed location at $r_\\textrm{gap}=\\SI{40}{AU}$ and X-ray luminosity of $L_x = \\SI{e30}{erg  s^{-1}}$. Notice that the axis scales are different from \\autoref{Fig_LxParameter}.\n",
       "  (*Fig_AgapParameter*)\n",
       "\n",
       "</div>\n",
       "<div id=\"div_fig2\">\n",
       "\n",
       "<img src=\"tmp_2309.08752/./SecondaryPlots/Rgap_MassIntensity.png\" alt=\"Fig10\" width=\"100%\"/>\n",
       "\n",
       "**Figure 10. -** Same as \\autoref{Fig_LxParameter}, but for structured disks with different gap locations, with a fixed amplitude of $A_\\textrm{gap}=4$ and X-ray luminosity of $L_x = \\SI{e30}{erg  s^{-1}}$.\n",
       " Notice that the y-axis scale is different from \\autoref{Fig_AgapParameter}.\n",
       "  (*Fig_RgapParameter*)\n",
       "\n",
       "</div>\n",
       "<div id=\"div_fig3\">\n",
       "\n",
       "<img src=\"tmp_2309.08752/./SecondaryPlots/Lx_MassIntensity.png\" alt=\"Fig8\" width=\"100%\"/>\n",
       "\n",
       "**Figure 8. -** Evolution of the dust mass (_top_) and disk flux at $\\lambda = \\SI{1.3}{mm}$(_bottom_, assuming a distance of \\SI{140}{pc}), for different X-ray luminosities $L_x$, with the black line corresponding to the fiducial value.\n",
       " The markers indicate the moment when photoevaporation opens a cavity in the inner disk (\\sgquote{+} for the smooth disk, \\sgquote{x} for the structured disk).\n",
       "  (*Fig_LxParameter*)\n",
       "\n",
       "</div><div id=\"qrcode\"><img src=https://api.qrserver.com/v1/create-qr-code/?size=100x100&data=\"https://arxiv.org/abs/2309.08752\"></div>"
      ],
      "text/plain": [
       "<IPython.core.display.Markdown object>"
      ]
     },
     "metadata": {},
     "output_type": "display_data"
    },
    {
     "data": {
      "text/markdown": [
       "<div class=\"macros\" style=\"visibility:hidden;\">\n",
       "$\\newcommand{\\ensuremath}{}$\n",
       "$\\newcommand{\\xspace}{}$\n",
       "$\\newcommand{\\object}[1]{\\texttt{#1}}$\n",
       "$\\newcommand{\\farcs}{{.}''}$\n",
       "$\\newcommand{\\farcm}{{.}'}$\n",
       "$\\newcommand{\\arcsec}{''}$\n",
       "$\\newcommand{\\arcmin}{'}$\n",
       "$\\newcommand{\\ion}[2]{#1#2}$\n",
       "$\\newcommand{\\textsc}[1]{\\textrm{#1}}$\n",
       "$\\newcommand{\\hl}[1]{\\textrm{#1}}$\n",
       "$\\newcommand{\\footnote}[1]{}$\n",
       "$\\newcommand{\\arraystretch}{1.5}$</div>\n",
       "\n",
       "\n",
       "\n",
       "<div id=\"title\">\n",
       "\n",
       "# The Cygnus Allscale Survey of Chemistry and Dynamical Environments: CASCADE. II. A detailed kinematic analysis of the DR21 Main outflow\n",
       "\n",
       "</div>\n",
       "<div id=\"comments\">\n",
       "\n",
       "[![arXiv](https://img.shields.io/badge/arXiv-2309.09687-b31b1b.svg)](https://arxiv.org/abs/2309.09687)<mark>Appeared on: 2023-09-19</mark> -  _26 pages, 37 figures. Accepted for publication in A&A_\n",
       "\n",
       "</div>\n",
       "<div id=\"authors\">\n",
       "\n",
       "I. M. Skretas, et al. -- incl., <mark>H. Beuther</mark>, <mark>S. Li</mark>\n",
       "\n",
       "</div>\n",
       "<div id=\"abstract\">\n",
       "\n",
       "**Abstract:** Molecular outflows are believed to be a key ingredient in the process of star formation. The molecular outflow associated with DR21 Main in Cygnus-X is one of the most extreme, in mass and size, molecular outflows in the Milky Way. The outflow is suggested to belong to a rare class of explosive outflows which are formed by the disintegration of protostellar systems. We aim to explore the morphology, kinematics,and energetics of the DR21 Main outflow, and compare thoseproperties to confirmed explosive outflows to unravel theunderlying driving mechanism behind DR21. Line and continuum emission are studied at a wavelength of 3.6 mm with IRAM 30 m and NOEMA telescopes as part of the Cygnus Allscale Survey of Chemistry and Dynamical Environments (CASCADE) program. The spectra include ( $J= 1-0$ ) transitions of HCO $^+$ , HCN, HNC, $N_2$ H $^+$ , $H_2$ CO, CCH (among others) tracing different temperature and density regimes of the outflowing gas at high-velocity resolution ( $\\sim$ 0.8 km s $^{-1}$ ). The map encompasses the entire DR21 Main outflow and covers all spatial scales down to a resolution of  3 $\\arcsec$ ( $\\sim$ 0.02 pc). Integrated intensity maps of the HCO $^+$ emission reveal a strongly collimated bipolar outflow with significant overlap of the blue- and red-shifted emission. The opening angles of both outflow lobes decrease with velocity, from $\\sim80$ to 20 $^{\\circ}$ for the velocity range from 5 to 45 km s $^{-1}$ relative to the source velocity. No evidence is found for the presence of elongated, $\\lq\\lq$ filament-like $\"$ structures expected in explosive outflows.$N_2$ H $^+$ emission near the western outflow lobe reveals the presence of a dense molecular structure which appears to be interacting with the DR21 Main outflow. The overall morphology as well as the detailed kinematics of the DR21 Main outflow is more consistent with that of a typical bipolar outflow instead of an explosive counterpart.\n",
       "\n",
       "</div>\n",
       "\n",
       "<div id=\"div_fig1\">\n",
       "\n",
       "<img src=\"tmp_2309.09687/./correlations/Fco_Menv_correlation_plot.png\" alt=\"Fig15.1\" width=\"50%\"/><img src=\"tmp_2309.09687/./correlations/Fco_Lbol_correlation_plot.png\" alt=\"Fig15.2\" width=\"50%\"/>\n",
       "\n",
       "**Figure 15. -**  Outflow force over the envelope mass of the driving source for various protostellar sources. Right facing triangles represent low-mass sources from \\citet{Mottram2017}, left facing triangles mark sources taken from \\citet{Yildiz2015} and upwards are from \\citet{vdm2013} while in blue are the Class I sources and in red the Class 0. Black diamonds mark intermediate mass sources \\citep{vankempen2009}, grey squares mark high mass sources from \\citet{Maud2015}, green \\lq\\lq$\\times$\" mark high mass sources from \\citet{Beuther2002} and black stars mark high mass sources in Cygnus \\citep{Skretas2022}. The red crosses mark a sample of high-mass 70$\\mu$m dark sources \\citep{Shanghuo2020}. The Cyan star marks G5.89-0.39, the magenta one marks Orion KL and the green one represents the DR21 Main outflow. The dashed, black line shows the best fit to the outflow force - envelope mass correlation for all sources, while red and grey show the best fits for the low- and high-mass sources respectively. (*fig:forcemass*)\n",
       "\n",
       "</div>\n",
       "<div id=\"div_fig2\">\n",
       "\n",
       "<img src=\"tmp_2309.09687/./Appendix1/2.2um_UKIDSS_WFCAM_withhcn_hnc_h2cocontours.png\" alt=\"Fig16\" width=\"100%\"/>\n",
       "\n",
       "**Figure 16. -** _UKIRT_/WFCAM continuum image of the DR21 Main region at 2.2 $\\mu$m and the line emission in key gas tracers observed as part of CASCADE. White contours mark the 5$\\sigma$ HCN (left), $H_2$CO (middle) and HNC (right) emission. (*fig:appcontours1*)\n",
       "\n",
       "</div>\n",
       "<div id=\"div_fig3\">\n",
       "\n",
       "<img src=\"tmp_2309.09687/./Images1/HCO+_H2CO_N2H+_intensities_across_line.png\" alt=\"Fig7\" width=\"100%\"/>\n",
       "\n",
       "**Figure 7. -** Average integrated intensities of HCO$^+$(in blue), $H_2$CO (in red), and $N_2$H$^+$(in green) across the interaction region in the western lobe of DR21. Intensities are integrated from $-$70 to 70, $-$20 to 20 and $-$20 to 10 km s$^{-1}$ for HCO$^+$, $H_2$CO and $N_2$H$^+$, respectively. The x-axis shows the distance in arcseconds, covering the extent of the relevant region where the outflow interacts with a dense structure (marked also in Fig. \\ref{fig:interactioncontours}). The orange rectangle shows the area actively affected by the interaction. The intensities for $H_2$CO and $N_2$H$^+$ are scaled up by a factor of 8 in order for their distributions to be more easily comparable. (*fig:intens_across_line*)\n",
       "\n",
       "</div><div id=\"qrcode\"><img src=https://api.qrserver.com/v1/create-qr-code/?size=100x100&data=\"https://arxiv.org/abs/2309.09687\"></div>"
      ],
      "text/plain": [
       "<IPython.core.display.Markdown object>"
      ]
     },
     "metadata": {},
     "output_type": "display_data"
    }
   ],
   "source": [
    "[display(Markdown(k[1])) for k in documents];"
   ]
  },
  {
   "cell_type": "markdown",
   "id": "873873a4",
   "metadata": {
    "papermill": {
     "duration": 0.006707,
     "end_time": "2023-09-19T04:08:17.313947",
     "exception": false,
     "start_time": "2023-09-19T04:08:17.307240",
     "status": "completed"
    },
    "tags": []
   },
   "source": [
    "# Create HTML index"
   ]
  },
  {
   "cell_type": "code",
   "execution_count": 9,
   "id": "cf665672",
   "metadata": {
    "execution": {
     "iopub.execute_input": "2023-09-19T04:08:17.329251Z",
     "iopub.status.busy": "2023-09-19T04:08:17.328268Z",
     "iopub.status.idle": "2023-09-19T04:08:17.345373Z",
     "shell.execute_reply": "2023-09-19T04:08:17.344714Z"
    },
    "papermill": {
     "duration": 0.026874,
     "end_time": "2023-09-19T04:08:17.347155",
     "exception": false,
     "start_time": "2023-09-19T04:08:17.320281",
     "status": "completed"
    },
    "tags": []
   },
   "outputs": [
    {
     "name": "stdout",
     "output_type": "stream",
     "text": [
      "273  publications files modified in the last 7 days.\n"
     ]
    }
   ],
   "source": [
    "from datetime import datetime, timedelta, timezone\n",
    "from glob import glob\n",
    "import os\n",
    "\n",
    "files = glob('_build/html/*.md')\n",
    "days = 7\n",
    "now = datetime.today()\n",
    "res = []\n",
    "for fk in files:\n",
    "    stat_result = os.stat(fk).st_ctime\n",
    "    modified = datetime.fromtimestamp(stat_result, tz=timezone.utc).replace(tzinfo=None)\n",
    "    delta = now.today() - modified\n",
    "    if delta <= timedelta(days=days):\n",
    "        res.append((delta.seconds, fk))\n",
    "res = [k[1] for k in reversed(sorted(res, key=lambda x:x[1]))]\n",
    "npub = len(res)\n",
    "print(len(res), f\" publications files modified in the last {days:d} days.\")\n",
    "# [ print('\\t', k) for k in res ];"
   ]
  },
  {
   "cell_type": "code",
   "execution_count": 10,
   "id": "015de740",
   "metadata": {
    "execution": {
     "iopub.execute_input": "2023-09-19T04:08:17.361886Z",
     "iopub.status.busy": "2023-09-19T04:08:17.361574Z",
     "iopub.status.idle": "2023-09-19T04:08:17.383240Z",
     "shell.execute_reply": "2023-09-19T04:08:17.382507Z"
    },
    "papermill": {
     "duration": 0.031174,
     "end_time": "2023-09-19T04:08:17.385004",
     "exception": false,
     "start_time": "2023-09-19T04:08:17.353830",
     "status": "completed"
    },
    "tags": []
   },
   "outputs": [
    {
     "name": "stdout",
     "output_type": "stream",
     "text": [
      "7  publications in the last 7 days.\n"
     ]
    }
   ],
   "source": [
    "import datetime\n",
    "from glob import glob\n",
    "\n",
    "def get_last_n_days(lst, days=1):\n",
    "    \"\"\" Get the documents from the last n days \"\"\"\n",
    "    sorted_lst = sorted(lst, key=lambda x: x[1], reverse=True)\n",
    "    for fname, date in sorted_lst:\n",
    "        if date >= str(datetime.date.today() - datetime.timedelta(days=days)):\n",
    "            yield fname\n",
    "\n",
    "def extract_appearance_dates(lst_file):\n",
    "    dates = []\n",
    "\n",
    "    def get_date(line):\n",
    "        return line\\\n",
    "            .split('Appeared on:')[-1]\\\n",
    "            .split('</mark>')[0].strip()\n",
    "\n",
    "    for fname in lst:\n",
    "        with open(fname, 'r') as f:\n",
    "            found_date = False\n",
    "            for line in f:\n",
    "                if not found_date:\n",
    "                    if \"Appeared on\" in line:\n",
    "                        found_date = True\n",
    "                        dates.append((fname, get_date(line)))\n",
    "                else:\n",
    "                    break\n",
    "    return dates\n",
    "\n",
    "from glob import glob\n",
    "lst = glob('_build/html/*md')\n",
    "days = 7\n",
    "dates = extract_appearance_dates(lst)\n",
    "res = list(get_last_n_days(dates, days))\n",
    "npub = len(res)\n",
    "print(len(res), f\" publications in the last {days:d} days.\")"
   ]
  },
  {
   "cell_type": "code",
   "execution_count": 11,
   "id": "52ca0208",
   "metadata": {
    "execution": {
     "iopub.execute_input": "2023-09-19T04:08:17.400196Z",
     "iopub.status.busy": "2023-09-19T04:08:17.399739Z",
     "iopub.status.idle": "2023-09-19T04:08:17.405816Z",
     "shell.execute_reply": "2023-09-19T04:08:17.405097Z"
    },
    "papermill": {
     "duration": 0.015318,
     "end_time": "2023-09-19T04:08:17.407352",
     "exception": false,
     "start_time": "2023-09-19T04:08:17.392034",
     "status": "completed"
    },
    "scrolled": false,
    "tags": []
   },
   "outputs": [],
   "source": [
    "def create_carousel(npub=4):\n",
    "    \"\"\" Generate the HTML code for a carousel with `npub` slides \"\"\"\n",
    "    carousel = [\"\"\"  <div class=\"carousel\" \"\"\",\n",
    "                \"\"\"       data-flickity='{ \"autoPlay\": 10000, \"adaptiveHeight\": true, \"resize\": true, \"wrapAround\": true, \"pauseAutoPlayOnHover\": true, \"groupCells\": 1 }' id=\"asyncTypeset\">\"\"\"\n",
    "                ]\n",
    "    \n",
    "    item_str = \"\"\"    <div class=\"carousel-cell\"> <div id=\"slide{k}\" class=\"md_view\">Content {k}</div> </div>\"\"\"\n",
    "    for k in range(1, npub + 1):\n",
    "        carousel.append(item_str.format(k=k))\n",
    "    carousel.append(\"  </div>\")\n",
    "    return '\\n'.join(carousel)\n",
    "\n",
    "def create_grid(npub=4):\n",
    "    \"\"\" Generate the HTML code for a flat grid with `npub` slides \"\"\"\n",
    "    grid = [\"\"\"  <div class=\"grid\"> \"\"\",\n",
    "                ]\n",
    "    \n",
    "    item_str = \"\"\"    <div class=\"grid-item\"> <div id=\"slide{k}\" class=\"md_view\">Content {k}</div> </div>\"\"\"\n",
    "    for k in range(1, npub + 1):\n",
    "        grid.append(item_str.format(k=k))\n",
    "    grid.append(\"  </div>\")\n",
    "    return '\\n'.join(grid)"
   ]
  },
  {
   "cell_type": "code",
   "execution_count": 12,
   "id": "a6eac5b6",
   "metadata": {
    "execution": {
     "iopub.execute_input": "2023-09-19T04:08:17.422365Z",
     "iopub.status.busy": "2023-09-19T04:08:17.421541Z",
     "iopub.status.idle": "2023-09-19T04:08:17.427875Z",
     "shell.execute_reply": "2023-09-19T04:08:17.427243Z"
    },
    "papermill": {
     "duration": 0.015606,
     "end_time": "2023-09-19T04:08:17.429536",
     "exception": false,
     "start_time": "2023-09-19T04:08:17.413930",
     "status": "completed"
    },
    "scrolled": false,
    "tags": []
   },
   "outputs": [],
   "source": [
    "carousel = create_carousel(npub)\n",
    "docs = ', '.join(['\"{0:s}\"'.format(k.split('/')[-1]) for k in res])\n",
    "slides = ', '.join([f'\"slide{k}\"' for k in range(1, npub + 1)])\n",
    "\n",
    "with open(\"daily_template.html\", \"r\") as tpl:\n",
    "    page = tpl.read()\n",
    "    page = page.replace(\"{%-- carousel:s --%}\", carousel)\\\n",
    "               .replace(\"{%-- suptitle:s --%}\",  \"7-day archives\" )\\\n",
    "               .replace(\"{%-- docs:s --%}\", docs)\\\n",
    "               .replace(\"{%-- slides:s --%}\", slides)\n",
    "    \n",
    "with open(\"_build/html/index_7days.html\", 'w') as fout:\n",
    "    fout.write(page)"
   ]
  },
  {
   "cell_type": "code",
   "execution_count": 13,
   "id": "adc1a1ec",
   "metadata": {
    "execution": {
     "iopub.execute_input": "2023-09-19T04:08:17.444373Z",
     "iopub.status.busy": "2023-09-19T04:08:17.443911Z",
     "iopub.status.idle": "2023-09-19T04:08:17.454003Z",
     "shell.execute_reply": "2023-09-19T04:08:17.453304Z"
    },
    "papermill": {
     "duration": 0.019379,
     "end_time": "2023-09-19T04:08:17.455622",
     "exception": false,
     "start_time": "2023-09-19T04:08:17.436243",
     "status": "completed"
    },
    "tags": []
   },
   "outputs": [
    {
     "name": "stdout",
     "output_type": "stream",
     "text": [
      "3  publications in the last day.\n"
     ]
    }
   ],
   "source": [
    "# redo for today\n",
    "days = 1\n",
    "res = list(get_last_n_days(dates, days))\n",
    "npub = len(res)\n",
    "print(len(res), f\" publications in the last day.\")\n",
    "\n",
    "carousel = create_carousel(npub)\n",
    "docs = ', '.join(['\"{0:s}\"'.format(k.split('/')[-1]) for k in res])\n",
    "slides = ', '.join([f'\"slide{k}\"' for k in range(1, npub + 1)])\n",
    "\n",
    "with open(\"daily_template.html\", \"r\") as tpl:\n",
    "    page = tpl.read()\n",
    "    page = page.replace(\"{%-- carousel:s --%}\", carousel)\\\n",
    "               .replace(\"{%-- suptitle:s --%}\",  \"Daily\" )\\\n",
    "               .replace(\"{%-- docs:s --%}\", docs)\\\n",
    "               .replace(\"{%-- slides:s --%}\", slides)\n",
    "    \n",
    "# print(carousel, docs, slides)\n",
    "# print(page)\n",
    "with open(\"_build/html/index_daily.html\", 'w') as fout:\n",
    "    fout.write(page)"
   ]
  },
  {
   "cell_type": "code",
   "execution_count": 14,
   "id": "00eece82",
   "metadata": {
    "execution": {
     "iopub.execute_input": "2023-09-19T04:08:17.470606Z",
     "iopub.status.busy": "2023-09-19T04:08:17.470089Z",
     "iopub.status.idle": "2023-09-19T04:08:17.477704Z",
     "shell.execute_reply": "2023-09-19T04:08:17.477036Z"
    },
    "papermill": {
     "duration": 0.016951,
     "end_time": "2023-09-19T04:08:17.479300",
     "exception": false,
     "start_time": "2023-09-19T04:08:17.462349",
     "status": "completed"
    },
    "scrolled": false,
    "tags": []
   },
   "outputs": [
    {
     "name": "stdout",
     "output_type": "stream",
     "text": [
      "6  6 publications selected.\n"
     ]
    }
   ],
   "source": [
    "# Create the flat grid of the last N papers (fixed number regardless of dates)\n",
    "from itertools import islice \n",
    "\n",
    "npub = 6\n",
    "res = [k[0] for k in (islice(reversed(sorted(dates, key=lambda x: x[1])), 6))]\n",
    "print(len(res), f\" {npub} publications selected.\")\n",
    "\n",
    "grid = create_grid(npub)\n",
    "docs = ', '.join(['\"{0:s}\"'.format(k.split('/')[-1]) for k in res])\n",
    "slides = ', '.join([f'\"slide{k}\"' for k in range(1, npub + 1)])\n",
    "\n",
    "with open(\"grid_template.html\", \"r\") as tpl:\n",
    "    page = tpl.read()\n",
    "    page = page.replace(\"{%-- grid-content:s --%}\", grid)\\\n",
    "               .replace(\"{%-- suptitle:s --%}\",  f\"Last {npub:,d} papers\" )\\\n",
    "               .replace(\"{%-- docs:s --%}\", docs)\\\n",
    "               .replace(\"{%-- slides:s --%}\", slides)\n",
    "    \n",
    "# print(grid, docs, slides)\n",
    "# print(page)\n",
    "with open(\"_build/html/index_npub_grid.html\", 'w') as fout:\n",
    "    fout.write(page)"
   ]
  }
 ],
 "metadata": {
  "kernelspec": {
   "display_name": "Python 3 (ipykernel)",
   "language": "python",
   "name": "python3"
  },
  "language_info": {
   "codemirror_mode": {
    "name": "ipython",
    "version": 3
   },
   "file_extension": ".py",
   "mimetype": "text/x-python",
   "name": "python",
   "nbconvert_exporter": "python",
   "pygments_lexer": "ipython3",
   "version": "3.9.18"
  },
  "papermill": {
   "default_parameters": {},
   "duration": 176.296253,
   "end_time": "2023-09-19T04:08:17.806752",
   "environment_variables": {},
   "exception": null,
   "input_path": "MPIA daily digest.ipynb",
   "output_path": "log.ipynb",
   "parameters": {},
   "start_time": "2023-09-19T04:05:21.510499",
   "version": "2.4.0"
  },
  "vscode": {
   "interpreter": {
    "hash": "aee8b7b246df8f9039afb4144a1f6fd8d2ca17a180786b69acc140d282b71a49"
   }
  },
  "widgets": {
   "application/vnd.jupyter.widget-state+json": {
    "state": {
     "20550730c956421f85f698cee508d9df": {
      "model_module": "@jupyter-widgets/controls",
      "model_module_version": "2.0.0",
      "model_name": "HTMLModel",
      "state": {
       "_dom_classes": [],
       "_model_module": "@jupyter-widgets/controls",
       "_model_module_version": "2.0.0",
       "_model_name": "HTMLModel",
       "_view_count": null,
       "_view_module": "@jupyter-widgets/controls",
       "_view_module_version": "2.0.0",
       "_view_name": "HTMLView",
       "description": "",
       "description_allow_html": false,
       "layout": "IPY_MODEL_fa3d9ab58f57433ba20abed7e4d097d6",
       "placeholder": "​",
       "style": "IPY_MODEL_ece810a2e61e4ce7b0ff0715c89ad4bc",
       "tabbable": null,
       "tooltip": null,
       "value": "100%"
      }
     },
     "4d67821284a24bd58600f3f0b41ac690": {
      "model_module": "@jupyter-widgets/controls",
      "model_module_version": "2.0.0",
      "model_name": "HTMLModel",
      "state": {
       "_dom_classes": [],
       "_model_module": "@jupyter-widgets/controls",
       "_model_module_version": "2.0.0",
       "_model_name": "HTMLModel",
       "_view_count": null,
       "_view_module": "@jupyter-widgets/controls",
       "_view_module_version": "2.0.0",
       "_view_name": "HTMLView",
       "description": "",
       "description_allow_html": false,
       "layout": "IPY_MODEL_b92c9e88e4834d1abf09209671cebeeb",
       "placeholder": "​",
       "style": "IPY_MODEL_f7ec8adc9bc649efad70872585db622f",
       "tabbable": null,
       "tooltip": null,
       "value": " 3/3 [02:29&lt;00:00, 59.06s/it]"
      }
     },
     "54bb18de03c04c0abd8abf25348533c3": {
      "model_module": "@jupyter-widgets/controls",
      "model_module_version": "2.0.0",
      "model_name": "ProgressStyleModel",
      "state": {
       "_model_module": "@jupyter-widgets/controls",
       "_model_module_version": "2.0.0",
       "_model_name": "ProgressStyleModel",
       "_view_count": null,
       "_view_module": "@jupyter-widgets/base",
       "_view_module_version": "2.0.0",
       "_view_name": "StyleView",
       "bar_color": null,
       "description_width": ""
      }
     },
     "59205a674e9f4c1d84298f1e3adc7859": {
      "model_module": "@jupyter-widgets/base",
      "model_module_version": "2.0.0",
      "model_name": "LayoutModel",
      "state": {
       "_model_module": "@jupyter-widgets/base",
       "_model_module_version": "2.0.0",
       "_model_name": "LayoutModel",
       "_view_count": null,
       "_view_module": "@jupyter-widgets/base",
       "_view_module_version": "2.0.0",
       "_view_name": "LayoutView",
       "align_content": null,
       "align_items": null,
       "align_self": null,
       "border_bottom": null,
       "border_left": null,
       "border_right": null,
       "border_top": null,
       "bottom": null,
       "display": null,
       "flex": null,
       "flex_flow": null,
       "grid_area": null,
       "grid_auto_columns": null,
       "grid_auto_flow": null,
       "grid_auto_rows": null,
       "grid_column": null,
       "grid_gap": null,
       "grid_row": null,
       "grid_template_areas": null,
       "grid_template_columns": null,
       "grid_template_rows": null,
       "height": null,
       "justify_content": null,
       "justify_items": null,
       "left": null,
       "margin": null,
       "max_height": null,
       "max_width": null,
       "min_height": null,
       "min_width": null,
       "object_fit": null,
       "object_position": null,
       "order": null,
       "overflow": null,
       "padding": null,
       "right": null,
       "top": null,
       "visibility": null,
       "width": null
      }
     },
     "6c43861b72ff4cab8576370f96708257": {
      "model_module": "@jupyter-widgets/base",
      "model_module_version": "2.0.0",
      "model_name": "LayoutModel",
      "state": {
       "_model_module": "@jupyter-widgets/base",
       "_model_module_version": "2.0.0",
       "_model_name": "LayoutModel",
       "_view_count": null,
       "_view_module": "@jupyter-widgets/base",
       "_view_module_version": "2.0.0",
       "_view_name": "LayoutView",
       "align_content": null,
       "align_items": null,
       "align_self": null,
       "border_bottom": null,
       "border_left": null,
       "border_right": null,
       "border_top": null,
       "bottom": null,
       "display": null,
       "flex": null,
       "flex_flow": null,
       "grid_area": null,
       "grid_auto_columns": null,
       "grid_auto_flow": null,
       "grid_auto_rows": null,
       "grid_column": null,
       "grid_gap": null,
       "grid_row": null,
       "grid_template_areas": null,
       "grid_template_columns": null,
       "grid_template_rows": null,
       "height": null,
       "justify_content": null,
       "justify_items": null,
       "left": null,
       "margin": null,
       "max_height": null,
       "max_width": null,
       "min_height": null,
       "min_width": null,
       "object_fit": null,
       "object_position": null,
       "order": null,
       "overflow": null,
       "padding": null,
       "right": null,
       "top": null,
       "visibility": null,
       "width": null
      }
     },
     "6e9e5e37b60947acbb3dd60dc2a3621c": {
      "model_module": "@jupyter-widgets/controls",
      "model_module_version": "2.0.0",
      "model_name": "HBoxModel",
      "state": {
       "_dom_classes": [],
       "_model_module": "@jupyter-widgets/controls",
       "_model_module_version": "2.0.0",
       "_model_name": "HBoxModel",
       "_view_count": null,
       "_view_module": "@jupyter-widgets/controls",
       "_view_module_version": "2.0.0",
       "_view_name": "HBoxView",
       "box_style": "",
       "children": [
        "IPY_MODEL_20550730c956421f85f698cee508d9df",
        "IPY_MODEL_6f79c9a0c8f04a6094b709ae88b7c09a",
        "IPY_MODEL_4d67821284a24bd58600f3f0b41ac690"
       ],
       "layout": "IPY_MODEL_59205a674e9f4c1d84298f1e3adc7859",
       "tabbable": null,
       "tooltip": null
      }
     },
     "6f79c9a0c8f04a6094b709ae88b7c09a": {
      "model_module": "@jupyter-widgets/controls",
      "model_module_version": "2.0.0",
      "model_name": "FloatProgressModel",
      "state": {
       "_dom_classes": [],
       "_model_module": "@jupyter-widgets/controls",
       "_model_module_version": "2.0.0",
       "_model_name": "FloatProgressModel",
       "_view_count": null,
       "_view_module": "@jupyter-widgets/controls",
       "_view_module_version": "2.0.0",
       "_view_name": "ProgressView",
       "bar_style": "success",
       "description": "",
       "description_allow_html": false,
       "layout": "IPY_MODEL_6c43861b72ff4cab8576370f96708257",
       "max": 3.0,
       "min": 0.0,
       "orientation": "horizontal",
       "style": "IPY_MODEL_54bb18de03c04c0abd8abf25348533c3",
       "tabbable": null,
       "tooltip": null,
       "value": 3.0
      }
     },
     "b92c9e88e4834d1abf09209671cebeeb": {
      "model_module": "@jupyter-widgets/base",
      "model_module_version": "2.0.0",
      "model_name": "LayoutModel",
      "state": {
       "_model_module": "@jupyter-widgets/base",
       "_model_module_version": "2.0.0",
       "_model_name": "LayoutModel",
       "_view_count": null,
       "_view_module": "@jupyter-widgets/base",
       "_view_module_version": "2.0.0",
       "_view_name": "LayoutView",
       "align_content": null,
       "align_items": null,
       "align_self": null,
       "border_bottom": null,
       "border_left": null,
       "border_right": null,
       "border_top": null,
       "bottom": null,
       "display": null,
       "flex": null,
       "flex_flow": null,
       "grid_area": null,
       "grid_auto_columns": null,
       "grid_auto_flow": null,
       "grid_auto_rows": null,
       "grid_column": null,
       "grid_gap": null,
       "grid_row": null,
       "grid_template_areas": null,
       "grid_template_columns": null,
       "grid_template_rows": null,
       "height": null,
       "justify_content": null,
       "justify_items": null,
       "left": null,
       "margin": null,
       "max_height": null,
       "max_width": null,
       "min_height": null,
       "min_width": null,
       "object_fit": null,
       "object_position": null,
       "order": null,
       "overflow": null,
       "padding": null,
       "right": null,
       "top": null,
       "visibility": null,
       "width": null
      }
     },
     "ece810a2e61e4ce7b0ff0715c89ad4bc": {
      "model_module": "@jupyter-widgets/controls",
      "model_module_version": "2.0.0",
      "model_name": "HTMLStyleModel",
      "state": {
       "_model_module": "@jupyter-widgets/controls",
       "_model_module_version": "2.0.0",
       "_model_name": "HTMLStyleModel",
       "_view_count": null,
       "_view_module": "@jupyter-widgets/base",
       "_view_module_version": "2.0.0",
       "_view_name": "StyleView",
       "background": null,
       "description_width": "",
       "font_size": null,
       "text_color": null
      }
     },
     "f7ec8adc9bc649efad70872585db622f": {
      "model_module": "@jupyter-widgets/controls",
      "model_module_version": "2.0.0",
      "model_name": "HTMLStyleModel",
      "state": {
       "_model_module": "@jupyter-widgets/controls",
       "_model_module_version": "2.0.0",
       "_model_name": "HTMLStyleModel",
       "_view_count": null,
       "_view_module": "@jupyter-widgets/base",
       "_view_module_version": "2.0.0",
       "_view_name": "StyleView",
       "background": null,
       "description_width": "",
       "font_size": null,
       "text_color": null
      }
     },
     "fa3d9ab58f57433ba20abed7e4d097d6": {
      "model_module": "@jupyter-widgets/base",
      "model_module_version": "2.0.0",
      "model_name": "LayoutModel",
      "state": {
       "_model_module": "@jupyter-widgets/base",
       "_model_module_version": "2.0.0",
       "_model_name": "LayoutModel",
       "_view_count": null,
       "_view_module": "@jupyter-widgets/base",
       "_view_module_version": "2.0.0",
       "_view_name": "LayoutView",
       "align_content": null,
       "align_items": null,
       "align_self": null,
       "border_bottom": null,
       "border_left": null,
       "border_right": null,
       "border_top": null,
       "bottom": null,
       "display": null,
       "flex": null,
       "flex_flow": null,
       "grid_area": null,
       "grid_auto_columns": null,
       "grid_auto_flow": null,
       "grid_auto_rows": null,
       "grid_column": null,
       "grid_gap": null,
       "grid_row": null,
       "grid_template_areas": null,
       "grid_template_columns": null,
       "grid_template_rows": null,
       "height": null,
       "justify_content": null,
       "justify_items": null,
       "left": null,
       "margin": null,
       "max_height": null,
       "max_width": null,
       "min_height": null,
       "min_width": null,
       "object_fit": null,
       "object_position": null,
       "order": null,
       "overflow": null,
       "padding": null,
       "right": null,
       "top": null,
       "visibility": null,
       "width": null
      }
     }
    },
    "version_major": 2,
    "version_minor": 0
   }
  }
 },
 "nbformat": 4,
 "nbformat_minor": 5
}