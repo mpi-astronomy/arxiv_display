{
 "cells": [
  {
   "cell_type": "markdown",
   "id": "92bcb855",
   "metadata": {
    "papermill": {
     "duration": 0.003827,
     "end_time": "2025-07-11T04:28:16.729055",
     "exception": false,
     "start_time": "2025-07-11T04:28:16.725228",
     "status": "completed"
    },
    "tags": []
   },
   "source": [
    "# MPIA Arxiv on Deck 2\n",
    "\n",
    "Contains the steps to produce the paper extractions."
   ]
  },
  {
   "cell_type": "code",
   "execution_count": 1,
   "id": "3a0d6e11",
   "metadata": {
    "execution": {
     "iopub.execute_input": "2025-07-11T04:28:16.736671Z",
     "iopub.status.busy": "2025-07-11T04:28:16.736170Z",
     "iopub.status.idle": "2025-07-11T04:28:16.971416Z",
     "shell.execute_reply": "2025-07-11T04:28:16.970666Z"
    },
    "papermill": {
     "duration": 0.240512,
     "end_time": "2025-07-11T04:28:16.972904",
     "exception": false,
     "start_time": "2025-07-11T04:28:16.732392",
     "status": "completed"
    },
    "tags": []
   },
   "outputs": [],
   "source": [
    "# Imports\n",
    "import os\n",
    "from IPython.display import Markdown, display\n",
    "from tqdm.notebook import tqdm\n",
    "import warnings\n",
    "from PIL import Image \n",
    "import re\n",
    "\n",
    "# requires arxiv_on_deck_2\n",
    "\n",
    "from arxiv_on_deck_2.arxiv2 import (get_new_papers, \n",
    "                                    get_paper_from_identifier,\n",
    "                                    retrieve_document_source, \n",
    "                                    get_markdown_badge)\n",
    "from arxiv_on_deck_2 import (latex,\n",
    "                             latex_bib,\n",
    "                             mpia,\n",
    "                             highlight_authors_in_list)\n",
    "\n",
    "# Sometimes images are really big\n",
    "Image.MAX_IMAGE_PIXELS = 1000000000 "
   ]
  },
  {
   "cell_type": "code",
   "execution_count": 2,
   "id": "22aa9d44",
   "metadata": {
    "execution": {
     "iopub.execute_input": "2025-07-11T04:28:16.980169Z",
     "iopub.status.busy": "2025-07-11T04:28:16.979938Z",
     "iopub.status.idle": "2025-07-11T04:28:16.988059Z",
     "shell.execute_reply": "2025-07-11T04:28:16.987442Z"
    },
    "papermill": {
     "duration": 0.012838,
     "end_time": "2025-07-11T04:28:16.989038",
     "exception": false,
     "start_time": "2025-07-11T04:28:16.976200",
     "status": "completed"
    },
    "tags": []
   },
   "outputs": [],
   "source": [
    "# Some useful definitions.\n",
    "\n",
    "class AffiliationWarning(UserWarning):\n",
    "    pass\n",
    "\n",
    "class AffiliationError(RuntimeError):\n",
    "    pass\n",
    "\n",
    "def validation(source: str):\n",
    "    \"\"\"Raises error paper during parsing of source file\n",
    "    \n",
    "    Allows checks before parsing TeX code.\n",
    "    \n",
    "    Raises AffiliationWarning\n",
    "    \"\"\"\n",
    "    check = mpia.affiliation_verifications(source, verbose=True)\n",
    "    if check is not True:\n",
    "        raise AffiliationError(\"mpia.affiliation_verifications: \" + check)\n",
    "\n",
    "        \n",
    "warnings.simplefilter('always', AffiliationWarning)\n",
    "\n",
    "\n",
    "def get_markdown_qrcode(paper_id: str):\n",
    "    \"\"\" Generate a qrcode to the arxiv page using qrserver.com\n",
    "    \n",
    "    :param paper: Arxiv paper\n",
    "    :returns: markdown text\n",
    "    \"\"\"\n",
    "    url = r\"https://api.qrserver.com/v1/create-qr-code/?size=100x100&data=\"\n",
    "    txt = f\"\"\"<img src={url}\"https://arxiv.org/abs/{paper_id}\">\"\"\"\n",
    "    txt = '<div id=\"qrcode\">' + txt + '</div>'\n",
    "    return txt\n",
    "\n",
    "\n",
    "def clean_non_western_encoded_characters_commands(text: str) -> str:\n",
    "    \"\"\" Remove non-western encoded characters from a string\n",
    "    List may need to grow.\n",
    "    \n",
    "    :param text: the text to clean\n",
    "    :return: the cleaned text\n",
    "    \"\"\"\n",
    "    text = re.sub(r\"(\\\\begin{CJK}{UTF8}{gbsn})(.*?)(\\\\end{CJK})\", r\"\\2\", text)\n",
    "    return text\n",
    "\n",
    "\n",
    "def get_initials(name: str) -> str:\n",
    "    \"\"\" Get the short name, e.g., A.-B. FamName\n",
    "    :param name: full name\n",
    "    :returns: initials\n",
    "    \"\"\"\n",
    "    initials = []\n",
    "    # account for non western names often in ()\n",
    "    if '(' in name:\n",
    "        name = clean_non_western_encoded_characters_commands(name)\n",
    "        suffix = re.findall(r\"\\((.*?)\\)\", name)[0]\n",
    "        name = name.replace(f\"({suffix})\", '')\n",
    "    else:\n",
    "        suffix = ''\n",
    "    split = name.split()\n",
    "    for token in split[:-1]:\n",
    "        if '-' in token:\n",
    "            current = '-'.join([k[0] + '.' for k in token.split('-')])\n",
    "        else:\n",
    "            current = token[0] + '.'\n",
    "        initials.append(current)\n",
    "    initials.append(split[-1].strip())\n",
    "    if suffix:\n",
    "        initials.append(f\"({suffix})\")\n",
    "    return ' '.join(initials)"
   ]
  },
  {
   "cell_type": "markdown",
   "id": "14bd6310",
   "metadata": {
    "papermill": {
     "duration": 0.002864,
     "end_time": "2025-07-11T04:28:16.994840",
     "exception": false,
     "start_time": "2025-07-11T04:28:16.991976",
     "status": "completed"
    },
    "tags": []
   },
   "source": [
    "## get list of arxiv paper candidates\n",
    "\n",
    "We use the MPIA mitarbeiter list webpage from mpia.de to get author names\n",
    "We then get all new papers from Arxiv and match authors"
   ]
  },
  {
   "cell_type": "code",
   "execution_count": 3,
   "id": "7ea813a8",
   "metadata": {
    "execution": {
     "iopub.execute_input": "2025-07-11T04:28:17.001988Z",
     "iopub.status.busy": "2025-07-11T04:28:17.001561Z",
     "iopub.status.idle": "2025-07-11T04:28:35.860556Z",
     "shell.execute_reply": "2025-07-11T04:28:35.859901Z"
    },
    "papermill": {
     "duration": 18.864071,
     "end_time": "2025-07-11T04:28:35.861825",
     "exception": false,
     "start_time": "2025-07-11T04:28:16.997754",
     "status": "completed"
    },
    "tags": []
   },
   "outputs": [],
   "source": [
    "# deal with the author list and edge cases of people that cannot be consistent on their name  \n",
    "\n",
    "def filter_non_scientists(name: str) -> bool:\n",
    "    \"\"\" Loose filter on expected authorships\n",
    "\n",
    "    removing IT, administration, technical staff\n",
    "    :param name: name\n",
    "    :returns: False if name is not a scientist\n",
    "    \"\"\"\n",
    "    remove_list = ['Licht', 'Binroth', 'Witzel', 'Jordan',\n",
    "                   'Zähringer', 'Scheerer', 'Hoffmann', 'Düe',\n",
    "                   'Hellmich', 'Enkler-Scharpegge', 'Witte-Nguy',\n",
    "                   'Dehen', 'Beckmann', 'Jager', 'Jäger'\n",
    "                  ]\n",
    "\n",
    "    for k in remove_list:\n",
    "        if k in name:\n",
    "            return False\n",
    "    return True\n",
    "\n",
    "def add_author_to_list(author_list: list) -> list:\n",
    "    \"\"\" Add author to list if not already in list\n",
    "    \n",
    "    :param author: author name\n",
    "    :param author_list: list of authors\n",
    "    :returns: updated list of authors\n",
    "    \"\"\"\n",
    "    add_list = ['T. Henning']\n",
    "\n",
    "    for author in add_list:\n",
    "        if author not in author_list:\n",
    "            author_list.append(author)\n",
    "    return author_list\n",
    "\n",
    "# get list from MPIA website\n",
    "# filter for non-scientists (mpia.get_mpia_mitarbeiter_list() does some filtering)\n",
    "mpia_authors = [k[1] for k in mpia.get_mpia_mitarbeiter_list() if filter_non_scientists(k[1])]\n",
    "# add some missing author because of inconsistencies in their MPIA name and author name on papers\n",
    "mpia_authors = add_author_to_list(mpia_authors)"
   ]
  },
  {
   "cell_type": "code",
   "execution_count": 4,
   "id": "2645e73a",
   "metadata": {
    "execution": {
     "iopub.execute_input": "2025-07-11T04:28:35.869106Z",
     "iopub.status.busy": "2025-07-11T04:28:35.868689Z",
     "iopub.status.idle": "2025-07-11T04:28:36.661174Z",
     "shell.execute_reply": "2025-07-11T04:28:36.660444Z"
    },
    "papermill": {
     "duration": 0.797425,
     "end_time": "2025-07-11T04:28:36.662545",
     "exception": false,
     "start_time": "2025-07-11T04:28:35.865120",
     "status": "completed"
    },
    "tags": []
   },
   "outputs": [
    {
     "name": "stdout",
     "output_type": "stream",
     "text": [
      "Y. Wang  ->  Y. Wang  |  ['Y. Wang']\n",
      "M. Zhang  ->  M. Zhang  |  ['M. Zhang']\n",
      "K. Jahnke  ->  K. Jahnke  |  ['K. Jahnke']\n",
      "X. Zhang  ->  X. Zhang  |  ['X. Zhang']\n",
      "Arxiv has 83 new papers today\n",
      "          3 with possible author matches\n"
     ]
    }
   ],
   "source": [
    "new_papers = get_new_papers()\n",
    "# add manual references\n",
    "add_paper_refs = []\n",
    "new_papers.extend([get_paper_from_identifier(k) for k in add_paper_refs])\n",
    "\n",
    "def robust_call(fn, value, *args, **kwargs):\n",
    "    try:\n",
    "        return fn(value, *args, **kwargs)\n",
    "    except Exception:\n",
    "        return value\n",
    "\n",
    "candidates = []\n",
    "for paperk in new_papers:\n",
    "    # Check author list with their initials\n",
    "    normed_author_list = [robust_call(mpia.get_initials, k) for k in paperk['authors']]\n",
    "    hl_authors = highlight_authors_in_list(normed_author_list, mpia_authors, verbose=True)\n",
    "    matches = [(hl, orig) for hl, orig in zip(hl_authors, paperk['authors']) if 'mark' in hl]\n",
    "    paperk['authors'] = hl_authors\n",
    "    if matches:\n",
    "        # only select paper if an author matched our list\n",
    "        candidates.append(paperk)\n",
    "print(\"\"\"Arxiv has {0:,d} new papers today\"\"\".format(len(new_papers)))        \n",
    "print(\"\"\"          {0:,d} with possible author matches\"\"\".format(len(candidates)))"
   ]
  },
  {
   "cell_type": "markdown",
   "id": "3543b34a",
   "metadata": {
    "papermill": {
     "duration": 0.003069,
     "end_time": "2025-07-11T04:28:36.669172",
     "exception": false,
     "start_time": "2025-07-11T04:28:36.666103",
     "status": "completed"
    },
    "tags": []
   },
   "source": [
    "# Parse sources and generate relevant outputs\n",
    "\n",
    "From the candidates, we do the following steps:\n",
    "* get their tarball from ArXiv (and extract data)\n",
    "* find the main .tex file: find one with \\documentclass{...} (sometimes it's non trivial)\n",
    "* Check affiliations with :func:`validation`, which uses :func:`mpia.affiliation_verifications`\n",
    "* If passing the affiliations: we parse the .tex source\n",
    "   * inject sub-documents into the main (flatten the main document)\n",
    "   * parse structure, extract information (title, abstract, authors, figures...)\n",
    "   * handles `\\graphicspath` if provided\n",
    "* Generate the .md document."
   ]
  },
  {
   "cell_type": "code",
   "execution_count": 5,
   "id": "9576b79e",
   "metadata": {
    "execution": {
     "iopub.execute_input": "2025-07-11T04:28:36.676575Z",
     "iopub.status.busy": "2025-07-11T04:28:36.675993Z",
     "iopub.status.idle": "2025-07-11T04:28:58.854907Z",
     "shell.execute_reply": "2025-07-11T04:28:58.854172Z"
    },
    "papermill": {
     "duration": 22.183749,
     "end_time": "2025-07-11T04:28:58.855947",
     "exception": false,
     "start_time": "2025-07-11T04:28:36.672198",
     "status": "completed"
    },
    "scrolled": false,
    "tags": []
   },
   "outputs": [
    {
     "data": {
      "application/vnd.jupyter.widget-view+json": {
       "model_id": "b31958ac72f0411aa6f8bacac17f0b30",
       "version_major": 2,
       "version_minor": 0
      },
      "text/plain": [
       "  0%|          | 0/3 [00:00<?, ?it/s]"
      ]
     },
     "metadata": {},
     "output_type": "display_data"
    },
    {
     "name": "stdout",
     "output_type": "stream",
     "text": [
      "Retrieving document from  https://arxiv.org/e-print/2507.07412\n",
      "extracting tarball to tmp_2507.07412... done.\n",
      "Retrieving document from  https://arxiv.org/e-print/2507.07629\n"
     ]
    },
    {
     "name": "stdout",
     "output_type": "stream",
     "text": [
      "extracting tarball to tmp_2507.07629..."
     ]
    },
    {
     "name": "stdout",
     "output_type": "stream",
     "text": [
      " done.\n"
     ]
    },
    {
     "name": "stdout",
     "output_type": "stream",
     "text": [
      "Found 132 bibliographic references in tmp_2507.07629/ERO11_WL_arxiv.bbl.\n",
      "Issues with the citations\n",
      "syntax error in line 242: '=' expected\n",
      "Retrieving document from  https://arxiv.org/e-print/2507.07798\n",
      "extracting tarball to tmp_2507.07798... done.\n"
     ]
    }
   ],
   "source": [
    "documents = []\n",
    "failed = []\n",
    "for paper in tqdm(candidates):\n",
    "    # debug crap\n",
    "    paper['identifier'] = paper['identifier'].lower().replace('arxiv:', '').replace(r'\\n', '').strip()\n",
    "    paper_id = paper['identifier']\n",
    "    \n",
    "    folder = f'tmp_{paper_id}'\n",
    "\n",
    "    try:\n",
    "        if not os.path.isdir(folder):\n",
    "            folder = retrieve_document_source(f\"{paper_id}\", f'tmp_{paper_id}')\n",
    "        \n",
    "        try:\n",
    "            doc = latex.LatexDocument(folder, validation=validation)    \n",
    "        except AffiliationError as affilerror:\n",
    "            msg = f\"ArXiv:{paper_id:s} is not an MPIA paper... \" + str(affilerror)\n",
    "            failed.append((paper, \"affiliation error: \" + str(affilerror) ))\n",
    "            continue\n",
    "        \n",
    "        # Hack because sometimes author parsing does not work well\n",
    "        if (len(doc.authors) != len(paper['authors'])):\n",
    "            doc._authors = paper['authors']\n",
    "        else:\n",
    "            # highlight authors (FIXME: doc.highlight_authors)\n",
    "            # done on arxiv paper already\n",
    "            doc._authors = highlight_authors_in_list(\n",
    "                [get_initials(k) for k in doc.authors], \n",
    "                mpia_authors, verbose=True)\n",
    "        if (doc.abstract) in (None, ''):\n",
    "            doc._abstract = paper['abstract']\n",
    "            \n",
    "        doc.comment = (get_markdown_badge(paper_id) + \n",
    "                       \"<mark>Appeared on: \" + paper['date'] + \"</mark> - \")\n",
    "        if paper['comments']:\n",
    "            doc.comment += \" _\" + paper['comments'] + \"_\"\n",
    "        \n",
    "        full_md = doc.generate_markdown_text()\n",
    "        \n",
    "        full_md += get_markdown_qrcode(paper_id)\n",
    "        \n",
    "        # replace citations\n",
    "        try:\n",
    "            bibdata = latex_bib.LatexBib.from_doc(doc)\n",
    "            full_md = latex_bib.replace_citations(full_md, bibdata)\n",
    "        except Exception as e:\n",
    "            print(\"Issues with the citations\")\n",
    "            print(e)\n",
    "        \n",
    "        documents.append((paper_id, full_md))\n",
    "    except Exception as e:\n",
    "        warnings.warn(latex.LatexWarning(f\"{paper_id:s} did not run properly\\n\" +\n",
    "                                         str(e)\n",
    "                                        ))\n",
    "        failed.append((paper, \"latex error \" + str(e)))"
   ]
  },
  {
   "cell_type": "markdown",
   "id": "2505a25c",
   "metadata": {
    "papermill": {
     "duration": 0.003341,
     "end_time": "2025-07-11T04:28:58.863171",
     "exception": false,
     "start_time": "2025-07-11T04:28:58.859830",
     "status": "completed"
    },
    "tags": []
   },
   "source": [
    "### Export the logs\n",
    "\n",
    "Throughout, we also keep track of the logs per paper. see `logs-{today date}.md` "
   ]
  },
  {
   "cell_type": "code",
   "execution_count": 6,
   "id": "d733828a",
   "metadata": {
    "execution": {
     "iopub.execute_input": "2025-07-11T04:28:58.870974Z",
     "iopub.status.busy": "2025-07-11T04:28:58.870546Z",
     "iopub.status.idle": "2025-07-11T04:28:58.884493Z",
     "shell.execute_reply": "2025-07-11T04:28:58.883955Z"
    },
    "papermill": {
     "duration": 0.018964,
     "end_time": "2025-07-11T04:28:58.885466",
     "exception": false,
     "start_time": "2025-07-11T04:28:58.866502",
     "status": "completed"
    },
    "scrolled": false,
    "tags": []
   },
   "outputs": [
    {
     "data": {
      "text/markdown": [
       "## Successful papers"
      ],
      "text/plain": [
       "<IPython.core.display.Markdown object>"
      ]
     },
     "metadata": {},
     "output_type": "display_data"
    },
    {
     "data": {
      "text/markdown": [
       "\n",
       "|||\n",
       "|---:|:---|\n",
       "| [![arXiv](https://img.shields.io/badge/arXiv-2507.07629-b31b1b.svg)](https://arxiv.org/abs/2507.07629) | **Euclid: Early Release Observations. Weak gravitational lensing analysis of Abell 2390**  |\n",
       "|| T. Schrabback, et al. -- incl., <mark>K. Jahnke</mark> |\n",
       "|*Appeared on*| *2025-07-11*|\n",
       "|*Comments*| *This paper is published on behalf of the Euclid Consortium. 28 pages, 27 figures, 7 tables. Submitted to A&A*|\n",
       "|**Abstract**|            The Euclid space telescope of the European Space Agency (ESA) is designed to provide sensitive and accurate measurements of weak gravitational lensing distortions over wide areas on the sky. Here we present a weak gravitational lensing analysis of early Euclid observations obtained for the field around the massive galaxy cluster Abell 2390 as part of the Euclid Early Release Observations programme. We conduct galaxy shape measurements using three independent algorithms (LensMC, KSB+, and SourceXtractor++). Incorporating multi-band photometry from Euclid and Subaru/Suprime-Cam, we estimate photometric redshifts to preferentially select background sources from tomographic redshift bins, for which we calibrate the redshift distributions using the self-organising map approach and data from the Cosmic Evolution Survey (COSMOS). We quantify the residual cluster member contamination and correct for it in bins of photometric redshift and magnitude using their source density profiles, including corrections for source obscuration and magnification. We reconstruct the cluster mass distribution and jointly fit the tangential reduced shear profiles of the different tomographic bins with spherical Navarro--Frenk--White profile predictions to constrain the cluster mass, finding consistent results for the three shape catalogues and good agreement with earlier measurements. As an important validation test we compare these joint constraints to mass measurements obtained individually for the different tomographic bins, finding good consistency. More detailed constraints on the cluster properties are presented in a companion paper that additionally incorporates strong lensing measurements. Our analysis provides a first demonstration of the outstanding capabilities of Euclid for tomographic weak lensing measurements.         |"
      ],
      "text/plain": [
       "[2507.07629] Euclid: Early Release Observations. Weak gravitational lensing analysis of Abell 2390\n",
       "\tT. Schrabback, et al. -- incl., <mark>K. Jahnke</mark>"
      ]
     },
     "metadata": {},
     "output_type": "display_data"
    },
    {
     "data": {
      "text/markdown": [
       "## Failed papers"
      ],
      "text/plain": [
       "<IPython.core.display.Markdown object>"
      ]
     },
     "metadata": {},
     "output_type": "display_data"
    },
    {
     "data": {
      "text/markdown": [
       "\n",
       "|||\n",
       "|---:|:---|\n",
       "| [![arXiv](https://img.shields.io/badge/arXiv-2507.07412-b31b1b.svg)](https://arxiv.org/abs/2507.07412) | **Imaging-Spectroscopic diagnosis of the Giant Sloshing Spiral in the Virgo Cluster with the Einstein Probe Follow-up X-ray Telescope**  |\n",
       "|| X. Zheng, et al. -- incl., <mark>Y. Wang</mark>, <mark>M. Zhang</mark> |\n",
       "|*Appeared on*| *2025-07-11*|\n",
       "|*Comments*| *11 pages, 16 figures*|\n",
       "|**Abstract**|            We performed deep X-ray observations of the Virgo cluster using the Einstein Probe Follow-up X-ray Telescope (EP-FXT) with a total exposure of 295 ks. Leveraging the large field of view (FoV) and low particle background of EP-FXT, the image reveals a giant spiral feature connecting the cold fronts in the northwest and southeast, forming a coherent structure consistent with earlier results from XMM-Newton and Suzaku. We also present two-dimensional maps of temperature, metallicity, and entropy across the Virgo Cluster, covering a FoV of approximately 28.5 arcmin. These maps clearly show a spiral structure with high density, low temperature, high metallicity, and low entropy. The results support a scenario where the spiral morphology arises from gas sloshing driven by a minor merger. Additionally, EP-FXT temperature measurements agree well with XMM-Newton data within uncertainties.         |\n",
       "|<p style=\"color:green\"> **ERROR** </p>| <p style=\"color:green\">affiliation error: mpia.affiliation_verifications: 'Heidelberg' keyword not found.</p> |"
      ],
      "text/plain": [
       "<IPython.core.display.Markdown object>"
      ]
     },
     "metadata": {},
     "output_type": "display_data"
    },
    {
     "data": {
      "text/markdown": [
       "\n",
       "|||\n",
       "|---:|:---|\n",
       "| [![arXiv](https://img.shields.io/badge/arXiv-2507.07798-b31b1b.svg)](https://arxiv.org/abs/2507.07798) | **Exploring non-cold dark matter in a scenario of dynamical dark energy with DESI DR2 data**  |\n",
       "|| T.-N. Li, et al. -- incl., <mark>X. Zhang</mark> |\n",
       "|*Appeared on*| *2025-07-11*|\n",
       "|*Comments*| *8 pages, 5 figures*|\n",
       "|**Abstract**|            Recent observations of DESI hint that dark matter (DM) may not be cold but have a non-zero equation of state (EoS) parameter, and that dark energy (DE) may not be a cosmological constant. In this work, we explore the possibility of a non-zero DM EoS parameter within the framework of dynamical DE. We perform analysis by using the latest baryon acoustic oscillation (BAO) data from DESI DR2, the cosmic microwave background (CMB) data from Planck, and the type Ia supernova (SN) data from DESY5 and PantheonPlus. When using the combination of CMB, BAO, and SN data, our results indicate a preference for a non-zero DM EoS parameter at the $2.8\\sigma$ and $3.3\\sigma$ level within the content of a constant DE EoS. In contrast, for a time-evolving DE EoS parameterized by $w_0$ and $w_a$, this preference decreases to $0.8\\sigma$ and $1.1\\sigma$. Furthermore, allowing a non-zero DM EoS yields best-fit values of $w_0$ and $w_a$ that exhibit smaller deviations from the $\\Lambda$CDM expectations, and Bayesian evidence analysis shows a comparable preference for this model relative to $\\Lambda$CDM. The overall results of this work indicate that a non-zero DM EoS parameter warrants further exploration and investigation.         |\n",
       "|<p style=\"color:green\"> **ERROR** </p>| <p style=\"color:green\">affiliation error: mpia.affiliation_verifications: 'Heidelberg' keyword not found.</p> |"
      ],
      "text/plain": [
       "<IPython.core.display.Markdown object>"
      ]
     },
     "metadata": {},
     "output_type": "display_data"
    }
   ],
   "source": [
    "import datetime\n",
    "today = str(datetime.date.today())\n",
    "logfile = f\"_build/html/logs/log-{today}.md\"\n",
    "\n",
    "\n",
    "with open(logfile, 'w') as logs:\n",
    "    # Success\n",
    "    logs.write(f'# Arxiv on Deck 2: Logs - {today}\\n\\n')\n",
    "    logs.write(\"\"\"* Arxiv had {0:,d} new papers\\n\"\"\".format(len(new_papers)))\n",
    "    logs.write(\"\"\"    * {0:,d} with possible author matches\\n\\n\"\"\".format(len(candidates)))\n",
    "    logs.write(\"## Sucessful papers\\n\\n\")\n",
    "    display(Markdown(\"## Successful papers\"))\n",
    "    success = [k[0] for k in documents]\n",
    "    for candid in candidates:\n",
    "        if candid['identifier'].split(':')[-1] in success:\n",
    "            display(candid)\n",
    "            logs.write(candid.generate_markdown_text() + '\\n\\n')\n",
    "\n",
    "    ## failed\n",
    "    logs.write(\"## Failed papers\\n\\n\")\n",
    "    display(Markdown(\"## Failed papers\"))\n",
    "    failed = sorted(failed, key=lambda x: x[1])\n",
    "    current_reason = \"\"\n",
    "    for paper, reason in failed:\n",
    "        if 'affiliation' in reason:\n",
    "            color = 'green'\n",
    "        else:\n",
    "            color = 'red'\n",
    "        data = Markdown(\n",
    "                paper.generate_markdown_text() + \n",
    "                f'\\n|<p style=\"color:{color:s}\"> **ERROR** </p>| <p style=\"color:{color:s}\">{reason:s}</p> |'\n",
    "               )\n",
    "        if reason != current_reason:\n",
    "            logs.write(f'### {reason:s} \\n\\n')\n",
    "            current_reason = reason\n",
    "        logs.write(data.data + '\\n\\n')\n",
    "        \n",
    "        # only display here the important errors (all in logs)\n",
    "        # if color in ('red',):\n",
    "        display(data)"
   ]
  },
  {
   "cell_type": "markdown",
   "id": "472d20ee",
   "metadata": {
    "papermill": {
     "duration": 0.003777,
     "end_time": "2025-07-11T04:28:58.893178",
     "exception": false,
     "start_time": "2025-07-11T04:28:58.889401",
     "status": "completed"
    },
    "tags": []
   },
   "source": [
    "## Export documents\n",
    "\n",
    "We now write the .md files and export relevant images"
   ]
  },
  {
   "cell_type": "code",
   "execution_count": 7,
   "id": "d426aed9",
   "metadata": {
    "execution": {
     "iopub.execute_input": "2025-07-11T04:28:58.902689Z",
     "iopub.status.busy": "2025-07-11T04:28:58.902029Z",
     "iopub.status.idle": "2025-07-11T04:28:58.909221Z",
     "shell.execute_reply": "2025-07-11T04:28:58.908554Z"
    },
    "papermill": {
     "duration": 0.012707,
     "end_time": "2025-07-11T04:28:58.910205",
     "exception": false,
     "start_time": "2025-07-11T04:28:58.897498",
     "status": "completed"
    },
    "tags": []
   },
   "outputs": [],
   "source": [
    "def export_markdown_summary(md: str, md_fname:str, directory: str):\n",
    "    \"\"\"Export MD document and associated relevant images\"\"\"\n",
    "    import os\n",
    "    import shutil\n",
    "    import re\n",
    "\n",
    "    if (os.path.exists(directory) and not os.path.isdir(directory)):\n",
    "        raise RuntimeError(f\"a non-directory file exists with name {directory:s}\")\n",
    "\n",
    "    if (not os.path.exists(directory)):\n",
    "        print(f\"creating directory {directory:s}\")\n",
    "        os.mkdir(directory)\n",
    "\n",
    "    fig_fnames = (re.compile(r'\\[Fig.*\\]\\((.*)\\)').findall(md) + \n",
    "                  re.compile(r'\\<img src=\"([^>\\s]*)\"[^>]*/>').findall(md))\n",
    "    print(\"found figures\", fig_fnames)\n",
    "    for fname in fig_fnames:\n",
    "        if 'http' in fname:\n",
    "            # No need to copy online figures\n",
    "            continue\n",
    "        if not os.path.exists(fname):\n",
    "            print(\"file not found\", fname)\n",
    "            continue\n",
    "        print(\"copying \", fname, \"to\", directory)\n",
    "        destdir = os.path.join(directory, os.path.dirname(fname))\n",
    "        destfname = os.path.join(destdir, os.path.basename(fname))\n",
    "        try:\n",
    "            os.makedirs(destdir)\n",
    "        except FileExistsError:\n",
    "            pass\n",
    "        shutil.copy(fname, destfname)\n",
    "    with open(os.path.join(directory, md_fname), 'w') as fout:\n",
    "        fout.write(md)\n",
    "    print(\"exported in \", os.path.join(directory, md_fname))\n",
    "    [print(\"    + \" + os.path.join(directory,fk)) for fk in fig_fnames]"
   ]
  },
  {
   "cell_type": "code",
   "execution_count": 8,
   "id": "014d04a4",
   "metadata": {
    "execution": {
     "iopub.execute_input": "2025-07-11T04:28:58.919027Z",
     "iopub.status.busy": "2025-07-11T04:28:58.918509Z",
     "iopub.status.idle": "2025-07-11T04:28:58.925812Z",
     "shell.execute_reply": "2025-07-11T04:28:58.925269Z"
    },
    "papermill": {
     "duration": 0.012757,
     "end_time": "2025-07-11T04:28:58.926823",
     "exception": false,
     "start_time": "2025-07-11T04:28:58.914066",
     "status": "completed"
    },
    "tags": []
   },
   "outputs": [
    {
     "name": "stdout",
     "output_type": "stream",
     "text": [
      "found figures ['tmp_2507.07629/./figs/joint_maghisto_unweighted.png', 'tmp_2507.07629/./figs/image_kappa_KSB.jpg', 'tmp_2507.07629/./figs/nz_mag22-24p5_6bins_ser++_number-1.png', 'tmp_2507.07629/./figs/nz_mag24p5-26p5_6bins_ser++_number-1.png']\n",
      "copying  tmp_2507.07629/./figs/joint_maghisto_unweighted.png to _build/html/\n",
      "copying  tmp_2507.07629/./figs/image_kappa_KSB.jpg to _build/html/\n",
      "copying  tmp_2507.07629/./figs/nz_mag22-24p5_6bins_ser++_number-1.png to _build/html/\n",
      "copying  tmp_2507.07629/./figs/nz_mag24p5-26p5_6bins_ser++_number-1.png to _build/html/\n",
      "exported in  _build/html/2507.07629.md\n",
      "    + _build/html/tmp_2507.07629/./figs/joint_maghisto_unweighted.png\n",
      "    + _build/html/tmp_2507.07629/./figs/image_kappa_KSB.jpg\n",
      "    + _build/html/tmp_2507.07629/./figs/nz_mag22-24p5_6bins_ser++_number-1.png\n",
      "    + _build/html/tmp_2507.07629/./figs/nz_mag24p5-26p5_6bins_ser++_number-1.png\n"
     ]
    }
   ],
   "source": [
    "for paper_id, md in documents:\n",
    "    export_markdown_summary(md, f\"{paper_id:s}.md\", '_build/html/')"
   ]
  },
  {
   "cell_type": "markdown",
   "id": "f087a0a7",
   "metadata": {
    "papermill": {
     "duration": 0.003939,
     "end_time": "2025-07-11T04:28:58.934801",
     "exception": false,
     "start_time": "2025-07-11T04:28:58.930862",
     "status": "completed"
    },
    "tags": []
   },
   "source": [
    "## Display the papers\n",
    "\n",
    "Not necessary but allows for a quick check."
   ]
  },
  {
   "cell_type": "code",
   "execution_count": 9,
   "id": "fd25f625",
   "metadata": {
    "execution": {
     "iopub.execute_input": "2025-07-11T04:28:58.943454Z",
     "iopub.status.busy": "2025-07-11T04:28:58.943228Z",
     "iopub.status.idle": "2025-07-11T04:28:58.947832Z",
     "shell.execute_reply": "2025-07-11T04:28:58.947301Z"
    },
    "papermill": {
     "duration": 0.010149,
     "end_time": "2025-07-11T04:28:58.948856",
     "exception": false,
     "start_time": "2025-07-11T04:28:58.938707",
     "status": "completed"
    },
    "scrolled": false,
    "tags": []
   },
   "outputs": [
    {
     "data": {
      "text/markdown": [
       "<div class=\"macros\" style=\"visibility:hidden;\">\n",
       "$\\newcommand{\\ensuremath}{}$\n",
       "$\\newcommand{\\xspace}{}$\n",
       "$\\newcommand{\\object}[1]{\\texttt{#1}}$\n",
       "$\\newcommand{\\farcs}{{.}''}$\n",
       "$\\newcommand{\\farcm}{{.}'}$\n",
       "$\\newcommand{\\arcsec}{''}$\n",
       "$\\newcommand{\\arcmin}{'}$\n",
       "$\\newcommand{\\ion}[2]{#1#2}$\n",
       "$\\newcommand{\\textsc}[1]{\\textrm{#1}}$\n",
       "$\\newcommand{\\hl}[1]{\\textrm{#1}}$\n",
       "$\\newcommand{\\footnote}[1]{}$\n",
       "$\\newcommand{\\mat}[1]{\\tens{#1}}$\n",
       "$\\newcommand{\\comm}[1]{\\textcolor{red}{#1}}$\n",
       "$\\newcommand{\\orcid}[1]$\n",
       "$\\newcommand{\\pdr}{PDR}$</div>\n",
       "\n",
       "\n",
       "\n",
       "<div id=\"title\">\n",
       "\n",
       "# $\\Euclid$: Early Release Observations. Weak gravitational lensing analysis of Abell 2390$\\thanks{This paper is published on behalf of the Euclid Consortium.}$\n",
       "\n",
       "</div>\n",
       "<div id=\"comments\">\n",
       "\n",
       "[![arXiv](https://img.shields.io/badge/arXiv-2507.07629-b31b1b.svg)](https://arxiv.org/abs/2507.07629)<mark>Appeared on: 2025-07-11</mark> -  _This paper is published on behalf of the Euclid Consortium. 28 pages, 27 figures, 7 tables. Submitted to A&A_\n",
       "\n",
       "</div>\n",
       "<div id=\"authors\">\n",
       "\n",
       "T. Schrabback, et al. -- incl., <mark>K. Jahnke</mark>\n",
       "\n",
       "</div>\n",
       "<div id=\"abstract\">\n",
       "\n",
       "**Abstract:** The $\\Euclid$ space telescope of the  European Space Agency (ESA) is designed to provide sensitive and accurate measurements of weak gravitational lensing distortions over wide areas on the sky.   Here we present a weak gravitational lensing analysis of early $\\Euclid$ observations obtained for the field around the massive galaxy cluster Abell 2390 as part of the $\\Euclid$ Early Release Observations programme.   We conduct   galaxy shape measurements   using three independent   algorithms ( \\texttt{LensMC} , \\texttt{KSB+} , and \\texttt{SourceXtractor++} ).  Incorporating multi-band photometry from $\\Euclid$ and Subaru/Suprime-Cam,  we estimate photometric  redshifts to preferentially select background sources from tomographic redshift bins,  for which we calibrate the redshift distributions using the self-organising map approach and  data from the Cosmic Evolution Survey (COSMOS).  We quantify the residual cluster member contamination and correct for it in bins of photometric redshift and magnitude using their source density profiles, including corrections for source obscuration and magnification. We reconstruct the cluster mass distribution and jointly fit the tangential reduced shear profiles of the different tomographic binswith spherical Navarro--Frenk--White profile predictions to constrain the cluster mass, finding consistent results for the three shape catalogues and good agreement with earlier measurements.        As an important validation test       we compare these joint constraints to mass measurements obtained individually for the different tomographic bins,finding good consistency.    More detailed    constraints on the cluster properties are presented in a companion paper    that additionally incorporates strong lensing measurements.    Our analysis provides a first demonstration of the outstanding capabilities of $\\Euclid$ for tomographic  weak lensing measurements.\n",
       "\n",
       "</div>\n",
       "\n",
       "<div id=\"div_fig1\">\n",
       "\n",
       "<img src=\"tmp_2507.07629/./figs/joint_maghisto_unweighted.png\" alt=\"Fig6\" width=\"100%\"/>\n",
       "\n",
       "**Figure 6. -** Number density of objects in the \\texttt{LensMC}(dashed),  \\texttt{SE++}(solid), and \\texttt{KSB+}(dotted) weak lensing source catalogues, computed\n",
       "within the central\n",
       "$0\\fdg555 \\times 0\\fdg555$\n",
       "of the VIS stack, after applying shear selection cuts and removal of objects in masked areas, but without applying photometric redshift selections. (*fig:count_joint*)\n",
       "\n",
       "</div>\n",
       "<div id=\"div_fig2\">\n",
       "\n",
       "<img src=\"tmp_2507.07629/./figs/image_kappa_KSB.jpg\" alt=\"Fig26\" width=\"100%\"/>\n",
       "\n",
       "**Figure 26. -** As Fig.\\thinspace\\ref{fig:image_mass_overlay_lensMC}, but employing the \\texttt{KSB+} shear catalogue.  (*fig:image_mass_overlay_KSB*)\n",
       "\n",
       "</div>\n",
       "<div id=\"div_fig3\">\n",
       "\n",
       "<img src=\"tmp_2507.07629/./figs/nz_mag22-24p5_6bins_ser++_number-1.png\" alt=\"Fig5.1\" width=\"50%\"/><img src=\"tmp_2507.07629/./figs/nz_mag24p5-26p5_6bins_ser++_number-1.png\" alt=\"Fig5.2\" width=\"50%\"/>\n",
       "\n",
       "**Figure 5. -** Redshift distributions for each of our redshift and magnitude bins using the \\texttt{SE++} shear weights. The upper panel shows the distributions for the magnitude range $22<\\IE<24.5$, and the lower panel for the range $24.5<\\IE<26.5$. The black curve shows the geometric lensing efficiency $\\beta(z)$, with the corresponding axis plotted on the right. (*fig:nz*)\n",
       "\n",
       "</div><div id=\"qrcode\"><img src=https://api.qrserver.com/v1/create-qr-code/?size=100x100&data=\"https://arxiv.org/abs/2507.07629\"></div>"
      ],
      "text/plain": [
       "<IPython.core.display.Markdown object>"
      ]
     },
     "metadata": {},
     "output_type": "display_data"
    }
   ],
   "source": [
    "[display(Markdown(k[1])) for k in documents];"
   ]
  },
  {
   "cell_type": "markdown",
   "id": "873873a4",
   "metadata": {
    "papermill": {
     "duration": 0.00404,
     "end_time": "2025-07-11T04:28:58.957096",
     "exception": false,
     "start_time": "2025-07-11T04:28:58.953056",
     "status": "completed"
    },
    "tags": []
   },
   "source": [
    "# Create HTML index"
   ]
  },
  {
   "cell_type": "code",
   "execution_count": 10,
   "id": "cf665672",
   "metadata": {
    "execution": {
     "iopub.execute_input": "2025-07-11T04:28:58.966615Z",
     "iopub.status.busy": "2025-07-11T04:28:58.966085Z",
     "iopub.status.idle": "2025-07-11T04:28:58.973411Z",
     "shell.execute_reply": "2025-07-11T04:28:58.972748Z"
    },
    "papermill": {
     "duration": 0.013012,
     "end_time": "2025-07-11T04:28:58.974410",
     "exception": false,
     "start_time": "2025-07-11T04:28:58.961398",
     "status": "completed"
    },
    "tags": []
   },
   "outputs": [
    {
     "name": "stdout",
     "output_type": "stream",
     "text": [
      "139  publications files modified in the last 7 days.\n"
     ]
    }
   ],
   "source": [
    "from datetime import datetime, timedelta, timezone\n",
    "from glob import glob\n",
    "import os\n",
    "\n",
    "files = glob('_build/html/*.md')\n",
    "days = 7\n",
    "now = datetime.today()\n",
    "res = []\n",
    "for fk in files:\n",
    "    stat_result = os.stat(fk).st_ctime\n",
    "    modified = datetime.fromtimestamp(stat_result, tz=timezone.utc).replace(tzinfo=None)\n",
    "    delta = now.today() - modified\n",
    "    if delta <= timedelta(days=days):\n",
    "        res.append((delta.seconds, fk))\n",
    "res = [k[1] for k in reversed(sorted(res, key=lambda x:x[1]))]\n",
    "npub = len(res)\n",
    "print(len(res), f\" publications files modified in the last {days:d} days.\")\n",
    "# [ print('\\t', k) for k in res ];"
   ]
  },
  {
   "cell_type": "code",
   "execution_count": 11,
   "id": "015de740",
   "metadata": {
    "execution": {
     "iopub.execute_input": "2025-07-11T04:28:58.983835Z",
     "iopub.status.busy": "2025-07-11T04:28:58.983382Z",
     "iopub.status.idle": "2025-07-11T04:28:58.995624Z",
     "shell.execute_reply": "2025-07-11T04:28:58.994944Z"
    },
    "papermill": {
     "duration": 0.018111,
     "end_time": "2025-07-11T04:28:58.996720",
     "exception": false,
     "start_time": "2025-07-11T04:28:58.978609",
     "status": "completed"
    },
    "tags": []
   },
   "outputs": [
    {
     "name": "stdout",
     "output_type": "stream",
     "text": [
      "15  publications in the last 7 days.\n"
     ]
    }
   ],
   "source": [
    "import datetime\n",
    "from glob import glob\n",
    "\n",
    "def get_last_n_days(lst, days=1):\n",
    "    \"\"\" Get the documents from the last n days \"\"\"\n",
    "    sorted_lst = sorted(lst, key=lambda x: x[1], reverse=True)\n",
    "    for fname, date in sorted_lst:\n",
    "        if date >= str(datetime.date.today() - datetime.timedelta(days=days)):\n",
    "            yield fname\n",
    "\n",
    "def extract_appearance_dates(lst_file):\n",
    "    dates = []\n",
    "\n",
    "    def get_date(line):\n",
    "        return line\\\n",
    "            .split('Appeared on:')[-1]\\\n",
    "            .split('</mark>')[0].strip()\n",
    "\n",
    "    for fname in lst:\n",
    "        with open(fname, 'r') as f:\n",
    "            found_date = False\n",
    "            for line in f:\n",
    "                if not found_date:\n",
    "                    if \"Appeared on\" in line:\n",
    "                        found_date = True\n",
    "                        dates.append((fname, get_date(line)))\n",
    "                else:\n",
    "                    break\n",
    "    return dates\n",
    "\n",
    "from glob import glob\n",
    "lst = glob('_build/html/*md')\n",
    "days = 7\n",
    "dates = extract_appearance_dates(lst)\n",
    "res = list(get_last_n_days(dates, days))\n",
    "npub = len(res)\n",
    "print(len(res), f\" publications in the last {days:d} days.\")"
   ]
  },
  {
   "cell_type": "code",
   "execution_count": 12,
   "id": "52ca0208",
   "metadata": {
    "execution": {
     "iopub.execute_input": "2025-07-11T04:28:59.006523Z",
     "iopub.status.busy": "2025-07-11T04:28:59.006053Z",
     "iopub.status.idle": "2025-07-11T04:28:59.011110Z",
     "shell.execute_reply": "2025-07-11T04:28:59.010563Z"
    },
    "papermill": {
     "duration": 0.01105,
     "end_time": "2025-07-11T04:28:59.012179",
     "exception": false,
     "start_time": "2025-07-11T04:28:59.001129",
     "status": "completed"
    },
    "scrolled": false,
    "tags": []
   },
   "outputs": [],
   "source": [
    "def create_carousel(npub=4):\n",
    "    \"\"\" Generate the HTML code for a carousel with `npub` slides \"\"\"\n",
    "    carousel = [\"\"\"  <div class=\"carousel\" \"\"\",\n",
    "                \"\"\"       data-flickity='{ \"autoPlay\": 10000, \"adaptiveHeight\": true, \"resize\": true, \"wrapAround\": true, \"pauseAutoPlayOnHover\": true, \"groupCells\": 1 }' id=\"asyncTypeset\">\"\"\"\n",
    "                ]\n",
    "    \n",
    "    item_str = \"\"\"    <div class=\"carousel-cell\"> <div id=\"slide{k}\" class=\"md_view\">Content {k}</div> </div>\"\"\"\n",
    "    for k in range(1, npub + 1):\n",
    "        carousel.append(item_str.format(k=k))\n",
    "    carousel.append(\"  </div>\")\n",
    "    return '\\n'.join(carousel)\n",
    "\n",
    "def create_grid(npub=4):\n",
    "    \"\"\" Generate the HTML code for a flat grid with `npub` slides \"\"\"\n",
    "    grid = [\"\"\"  <div class=\"grid\"> \"\"\",\n",
    "                ]\n",
    "    \n",
    "    item_str = \"\"\"    <div class=\"grid-item\"> <div id=\"slide{k}\" class=\"md_view\">Content {k}</div> </div>\"\"\"\n",
    "    for k in range(1, npub + 1):\n",
    "        grid.append(item_str.format(k=k))\n",
    "    grid.append(\"  </div>\")\n",
    "    return '\\n'.join(grid)"
   ]
  },
  {
   "cell_type": "code",
   "execution_count": 13,
   "id": "a6eac5b6",
   "metadata": {
    "execution": {
     "iopub.execute_input": "2025-07-11T04:28:59.021857Z",
     "iopub.status.busy": "2025-07-11T04:28:59.021475Z",
     "iopub.status.idle": "2025-07-11T04:28:59.026514Z",
     "shell.execute_reply": "2025-07-11T04:28:59.025988Z"
    },
    "papermill": {
     "duration": 0.010894,
     "end_time": "2025-07-11T04:28:59.027448",
     "exception": false,
     "start_time": "2025-07-11T04:28:59.016554",
     "status": "completed"
    },
    "scrolled": false,
    "tags": []
   },
   "outputs": [],
   "source": [
    "carousel = create_carousel(npub)\n",
    "docs = ', '.join(['\"{0:s}\"'.format(k.split('/')[-1]) for k in res])\n",
    "slides = ', '.join([f'\"slide{k}\"' for k in range(1, npub + 1)])\n",
    "\n",
    "with open(\"daily_template.html\", \"r\") as tpl:\n",
    "    page = tpl.read()\n",
    "    page = page.replace(\"{%-- carousel:s --%}\", carousel)\\\n",
    "               .replace(\"{%-- suptitle:s --%}\",  \"7-day archives\" )\\\n",
    "               .replace(\"{%-- docs:s --%}\", docs)\\\n",
    "               .replace(\"{%-- slides:s --%}\", slides)\n",
    "    \n",
    "with open(\"_build/html/index_7days.html\", 'w') as fout:\n",
    "    fout.write(page)"
   ]
  },
  {
   "cell_type": "code",
   "execution_count": 14,
   "id": "adc1a1ec",
   "metadata": {
    "execution": {
     "iopub.execute_input": "2025-07-11T04:28:59.037010Z",
     "iopub.status.busy": "2025-07-11T04:28:59.036774Z",
     "iopub.status.idle": "2025-07-11T04:28:59.043001Z",
     "shell.execute_reply": "2025-07-11T04:28:59.042460Z"
    },
    "papermill": {
     "duration": 0.012103,
     "end_time": "2025-07-11T04:28:59.043955",
     "exception": false,
     "start_time": "2025-07-11T04:28:59.031852",
     "status": "completed"
    },
    "tags": []
   },
   "outputs": [
    {
     "name": "stdout",
     "output_type": "stream",
     "text": [
      "5  publications in the last day.\n"
     ]
    }
   ],
   "source": [
    "# redo for today\n",
    "days = 1\n",
    "res = list(get_last_n_days(dates, days))\n",
    "npub = len(res)\n",
    "print(len(res), f\" publications in the last day.\")\n",
    "\n",
    "carousel = create_carousel(npub)\n",
    "docs = ', '.join(['\"{0:s}\"'.format(k.split('/')[-1]) for k in res])\n",
    "slides = ', '.join([f'\"slide{k}\"' for k in range(1, npub + 1)])\n",
    "\n",
    "with open(\"daily_template.html\", \"r\") as tpl:\n",
    "    page = tpl.read()\n",
    "    page = page.replace(\"{%-- carousel:s --%}\", carousel)\\\n",
    "               .replace(\"{%-- suptitle:s --%}\",  \"Daily\" )\\\n",
    "               .replace(\"{%-- docs:s --%}\", docs)\\\n",
    "               .replace(\"{%-- slides:s --%}\", slides)\n",
    "    \n",
    "# print(carousel, docs, slides)\n",
    "# print(page)\n",
    "with open(\"_build/html/index_daily.html\", 'w') as fout:\n",
    "    fout.write(page)"
   ]
  },
  {
   "cell_type": "code",
   "execution_count": 15,
   "id": "00eece82",
   "metadata": {
    "execution": {
     "iopub.execute_input": "2025-07-11T04:28:59.054073Z",
     "iopub.status.busy": "2025-07-11T04:28:59.053645Z",
     "iopub.status.idle": "2025-07-11T04:28:59.060467Z",
     "shell.execute_reply": "2025-07-11T04:28:59.059793Z"
    },
    "papermill": {
     "duration": 0.012923,
     "end_time": "2025-07-11T04:28:59.061487",
     "exception": false,
     "start_time": "2025-07-11T04:28:59.048564",
     "status": "completed"
    },
    "scrolled": false,
    "tags": []
   },
   "outputs": [
    {
     "name": "stdout",
     "output_type": "stream",
     "text": [
      "6  6 publications selected.\n"
     ]
    }
   ],
   "source": [
    "# Create the flat grid of the last N papers (fixed number regardless of dates)\n",
    "from itertools import islice \n",
    "\n",
    "npub = 6\n",
    "res = [k[0] for k in (islice(reversed(sorted(dates, key=lambda x: x[1])), 6))]\n",
    "print(len(res), f\" {npub} publications selected.\")\n",
    "\n",
    "grid = create_grid(npub)\n",
    "docs = ', '.join(['\"{0:s}\"'.format(k.split('/')[-1]) for k in res])\n",
    "slides = ', '.join([f'\"slide{k}\"' for k in range(1, npub + 1)])\n",
    "\n",
    "with open(\"grid_template.html\", \"r\") as tpl:\n",
    "    page = tpl.read()\n",
    "    page = page.replace(\"{%-- grid-content:s --%}\", grid)\\\n",
    "               .replace(\"{%-- suptitle:s --%}\",  f\"Last {npub:,d} papers\" )\\\n",
    "               .replace(\"{%-- docs:s --%}\", docs)\\\n",
    "               .replace(\"{%-- slides:s --%}\", slides)\n",
    "    \n",
    "# print(grid, docs, slides)\n",
    "# print(page)\n",
    "with open(\"_build/html/index_npub_grid.html\", 'w') as fout:\n",
    "    fout.write(page)"
   ]
  }
 ],
 "metadata": {
  "kernelspec": {
   "display_name": "Python 3 (ipykernel)",
   "language": "python",
   "name": "python3"
  },
  "language_info": {
   "codemirror_mode": {
    "name": "ipython",
    "version": 3
   },
   "file_extension": ".py",
   "mimetype": "text/x-python",
   "name": "python",
   "nbconvert_exporter": "python",
   "pygments_lexer": "ipython3",
   "version": "3.9.23"
  },
  "papermill": {
   "default_parameters": {},
   "duration": 43.555322,
   "end_time": "2025-07-11T04:28:59.381804",
   "environment_variables": {},
   "exception": null,
   "input_path": "MPIA daily digest.ipynb",
   "output_path": "log.ipynb",
   "parameters": {},
   "start_time": "2025-07-11T04:28:15.826482",
   "version": "2.6.0"
  },
  "vscode": {
   "interpreter": {
    "hash": "aee8b7b246df8f9039afb4144a1f6fd8d2ca17a180786b69acc140d282b71a49"
   }
  },
  "widgets": {
   "application/vnd.jupyter.widget-state+json": {
    "state": {
     "3b4e130097244395a5619d7459003266": {
      "model_module": "@jupyter-widgets/base",
      "model_module_version": "2.0.0",
      "model_name": "LayoutModel",
      "state": {
       "_model_module": "@jupyter-widgets/base",
       "_model_module_version": "2.0.0",
       "_model_name": "LayoutModel",
       "_view_count": null,
       "_view_module": "@jupyter-widgets/base",
       "_view_module_version": "2.0.0",
       "_view_name": "LayoutView",
       "align_content": null,
       "align_items": null,
       "align_self": null,
       "border_bottom": null,
       "border_left": null,
       "border_right": null,
       "border_top": null,
       "bottom": null,
       "display": null,
       "flex": null,
       "flex_flow": null,
       "grid_area": null,
       "grid_auto_columns": null,
       "grid_auto_flow": null,
       "grid_auto_rows": null,
       "grid_column": null,
       "grid_gap": null,
       "grid_row": null,
       "grid_template_areas": null,
       "grid_template_columns": null,
       "grid_template_rows": null,
       "height": null,
       "justify_content": null,
       "justify_items": null,
       "left": null,
       "margin": null,
       "max_height": null,
       "max_width": null,
       "min_height": null,
       "min_width": null,
       "object_fit": null,
       "object_position": null,
       "order": null,
       "overflow": null,
       "padding": null,
       "right": null,
       "top": null,
       "visibility": null,
       "width": null
      }
     },
     "3e3003c9da454d409d4be980aaa5b477": {
      "model_module": "@jupyter-widgets/base",
      "model_module_version": "2.0.0",
      "model_name": "LayoutModel",
      "state": {
       "_model_module": "@jupyter-widgets/base",
       "_model_module_version": "2.0.0",
       "_model_name": "LayoutModel",
       "_view_count": null,
       "_view_module": "@jupyter-widgets/base",
       "_view_module_version": "2.0.0",
       "_view_name": "LayoutView",
       "align_content": null,
       "align_items": null,
       "align_self": null,
       "border_bottom": null,
       "border_left": null,
       "border_right": null,
       "border_top": null,
       "bottom": null,
       "display": null,
       "flex": null,
       "flex_flow": null,
       "grid_area": null,
       "grid_auto_columns": null,
       "grid_auto_flow": null,
       "grid_auto_rows": null,
       "grid_column": null,
       "grid_gap": null,
       "grid_row": null,
       "grid_template_areas": null,
       "grid_template_columns": null,
       "grid_template_rows": null,
       "height": null,
       "justify_content": null,
       "justify_items": null,
       "left": null,
       "margin": null,
       "max_height": null,
       "max_width": null,
       "min_height": null,
       "min_width": null,
       "object_fit": null,
       "object_position": null,
       "order": null,
       "overflow": null,
       "padding": null,
       "right": null,
       "top": null,
       "visibility": null,
       "width": null
      }
     },
     "5842afc4a51f44218ba4de59db72198c": {
      "model_module": "@jupyter-widgets/controls",
      "model_module_version": "2.0.0",
      "model_name": "HTMLStyleModel",
      "state": {
       "_model_module": "@jupyter-widgets/controls",
       "_model_module_version": "2.0.0",
       "_model_name": "HTMLStyleModel",
       "_view_count": null,
       "_view_module": "@jupyter-widgets/base",
       "_view_module_version": "2.0.0",
       "_view_name": "StyleView",
       "background": null,
       "description_width": "",
       "font_size": null,
       "text_color": null
      }
     },
     "6e6df1328a1f40448df92f8c7cd192f6": {
      "model_module": "@jupyter-widgets/controls",
      "model_module_version": "2.0.0",
      "model_name": "HTMLStyleModel",
      "state": {
       "_model_module": "@jupyter-widgets/controls",
       "_model_module_version": "2.0.0",
       "_model_name": "HTMLStyleModel",
       "_view_count": null,
       "_view_module": "@jupyter-widgets/base",
       "_view_module_version": "2.0.0",
       "_view_name": "StyleView",
       "background": null,
       "description_width": "",
       "font_size": null,
       "text_color": null
      }
     },
     "716ecd58c5184ce3b650478e701cd6f1": {
      "model_module": "@jupyter-widgets/controls",
      "model_module_version": "2.0.0",
      "model_name": "HTMLModel",
      "state": {
       "_dom_classes": [],
       "_model_module": "@jupyter-widgets/controls",
       "_model_module_version": "2.0.0",
       "_model_name": "HTMLModel",
       "_view_count": null,
       "_view_module": "@jupyter-widgets/controls",
       "_view_module_version": "2.0.0",
       "_view_name": "HTMLView",
       "description": "",
       "description_allow_html": false,
       "layout": "IPY_MODEL_c9df6fec1d954207ab9c384f52d70214",
       "placeholder": "​",
       "style": "IPY_MODEL_6e6df1328a1f40448df92f8c7cd192f6",
       "tabbable": null,
       "tooltip": null,
       "value": "100%"
      }
     },
     "b31958ac72f0411aa6f8bacac17f0b30": {
      "model_module": "@jupyter-widgets/controls",
      "model_module_version": "2.0.0",
      "model_name": "HBoxModel",
      "state": {
       "_dom_classes": [],
       "_model_module": "@jupyter-widgets/controls",
       "_model_module_version": "2.0.0",
       "_model_name": "HBoxModel",
       "_view_count": null,
       "_view_module": "@jupyter-widgets/controls",
       "_view_module_version": "2.0.0",
       "_view_name": "HBoxView",
       "box_style": "",
       "children": [
        "IPY_MODEL_716ecd58c5184ce3b650478e701cd6f1",
        "IPY_MODEL_c1aa793d2872462ab08ee80ca971ef69",
        "IPY_MODEL_fbb7b0092db94344afef7dfaa1d3f858"
       ],
       "layout": "IPY_MODEL_3b4e130097244395a5619d7459003266",
       "tabbable": null,
       "tooltip": null
      }
     },
     "c15a6df8d26c43a0b50100a8910d82f7": {
      "model_module": "@jupyter-widgets/base",
      "model_module_version": "2.0.0",
      "model_name": "LayoutModel",
      "state": {
       "_model_module": "@jupyter-widgets/base",
       "_model_module_version": "2.0.0",
       "_model_name": "LayoutModel",
       "_view_count": null,
       "_view_module": "@jupyter-widgets/base",
       "_view_module_version": "2.0.0",
       "_view_name": "LayoutView",
       "align_content": null,
       "align_items": null,
       "align_self": null,
       "border_bottom": null,
       "border_left": null,
       "border_right": null,
       "border_top": null,
       "bottom": null,
       "display": null,
       "flex": null,
       "flex_flow": null,
       "grid_area": null,
       "grid_auto_columns": null,
       "grid_auto_flow": null,
       "grid_auto_rows": null,
       "grid_column": null,
       "grid_gap": null,
       "grid_row": null,
       "grid_template_areas": null,
       "grid_template_columns": null,
       "grid_template_rows": null,
       "height": null,
       "justify_content": null,
       "justify_items": null,
       "left": null,
       "margin": null,
       "max_height": null,
       "max_width": null,
       "min_height": null,
       "min_width": null,
       "object_fit": null,
       "object_position": null,
       "order": null,
       "overflow": null,
       "padding": null,
       "right": null,
       "top": null,
       "visibility": null,
       "width": null
      }
     },
     "c1aa793d2872462ab08ee80ca971ef69": {
      "model_module": "@jupyter-widgets/controls",
      "model_module_version": "2.0.0",
      "model_name": "FloatProgressModel",
      "state": {
       "_dom_classes": [],
       "_model_module": "@jupyter-widgets/controls",
       "_model_module_version": "2.0.0",
       "_model_name": "FloatProgressModel",
       "_view_count": null,
       "_view_module": "@jupyter-widgets/controls",
       "_view_module_version": "2.0.0",
       "_view_name": "ProgressView",
       "bar_style": "success",
       "description": "",
       "description_allow_html": false,
       "layout": "IPY_MODEL_c15a6df8d26c43a0b50100a8910d82f7",
       "max": 3.0,
       "min": 0.0,
       "orientation": "horizontal",
       "style": "IPY_MODEL_ec40e2a1f951485c847993abe15ad79a",
       "tabbable": null,
       "tooltip": null,
       "value": 3.0
      }
     },
     "c9df6fec1d954207ab9c384f52d70214": {
      "model_module": "@jupyter-widgets/base",
      "model_module_version": "2.0.0",
      "model_name": "LayoutModel",
      "state": {
       "_model_module": "@jupyter-widgets/base",
       "_model_module_version": "2.0.0",
       "_model_name": "LayoutModel",
       "_view_count": null,
       "_view_module": "@jupyter-widgets/base",
       "_view_module_version": "2.0.0",
       "_view_name": "LayoutView",
       "align_content": null,
       "align_items": null,
       "align_self": null,
       "border_bottom": null,
       "border_left": null,
       "border_right": null,
       "border_top": null,
       "bottom": null,
       "display": null,
       "flex": null,
       "flex_flow": null,
       "grid_area": null,
       "grid_auto_columns": null,
       "grid_auto_flow": null,
       "grid_auto_rows": null,
       "grid_column": null,
       "grid_gap": null,
       "grid_row": null,
       "grid_template_areas": null,
       "grid_template_columns": null,
       "grid_template_rows": null,
       "height": null,
       "justify_content": null,
       "justify_items": null,
       "left": null,
       "margin": null,
       "max_height": null,
       "max_width": null,
       "min_height": null,
       "min_width": null,
       "object_fit": null,
       "object_position": null,
       "order": null,
       "overflow": null,
       "padding": null,
       "right": null,
       "top": null,
       "visibility": null,
       "width": null
      }
     },
     "ec40e2a1f951485c847993abe15ad79a": {
      "model_module": "@jupyter-widgets/controls",
      "model_module_version": "2.0.0",
      "model_name": "ProgressStyleModel",
      "state": {
       "_model_module": "@jupyter-widgets/controls",
       "_model_module_version": "2.0.0",
       "_model_name": "ProgressStyleModel",
       "_view_count": null,
       "_view_module": "@jupyter-widgets/base",
       "_view_module_version": "2.0.0",
       "_view_name": "StyleView",
       "bar_color": null,
       "description_width": ""
      }
     },
     "fbb7b0092db94344afef7dfaa1d3f858": {
      "model_module": "@jupyter-widgets/controls",
      "model_module_version": "2.0.0",
      "model_name": "HTMLModel",
      "state": {
       "_dom_classes": [],
       "_model_module": "@jupyter-widgets/controls",
       "_model_module_version": "2.0.0",
       "_model_name": "HTMLModel",
       "_view_count": null,
       "_view_module": "@jupyter-widgets/controls",
       "_view_module_version": "2.0.0",
       "_view_name": "HTMLView",
       "description": "",
       "description_allow_html": false,
       "layout": "IPY_MODEL_3e3003c9da454d409d4be980aaa5b477",
       "placeholder": "​",
       "style": "IPY_MODEL_5842afc4a51f44218ba4de59db72198c",
       "tabbable": null,
       "tooltip": null,
       "value": " 3/3 [00:22&lt;00:00,  7.09s/it]"
      }
     }
    },
    "version_major": 2,
    "version_minor": 0
   }
  }
 },
 "nbformat": 4,
 "nbformat_minor": 5
}