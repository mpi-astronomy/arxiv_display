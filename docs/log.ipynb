{
 "cells": [
  {
   "cell_type": "markdown",
   "id": "92bcb855",
   "metadata": {
    "papermill": {
     "duration": 0.00518,
     "end_time": "2023-09-11T04:07:00.937548",
     "exception": false,
     "start_time": "2023-09-11T04:07:00.932368",
     "status": "completed"
    },
    "tags": []
   },
   "source": [
    "# MPIA Arxiv on Deck 2\n",
    "\n",
    "Contains the steps to produce the paper extractions."
   ]
  },
  {
   "cell_type": "code",
   "execution_count": 1,
   "id": "3a0d6e11",
   "metadata": {
    "execution": {
     "iopub.execute_input": "2023-09-11T04:07:00.947656Z",
     "iopub.status.busy": "2023-09-11T04:07:00.946989Z",
     "iopub.status.idle": "2023-09-11T04:07:01.445434Z",
     "shell.execute_reply": "2023-09-11T04:07:01.444700Z"
    },
    "papermill": {
     "duration": 0.505812,
     "end_time": "2023-09-11T04:07:01.447882",
     "exception": false,
     "start_time": "2023-09-11T04:07:00.942070",
     "status": "completed"
    },
    "tags": []
   },
   "outputs": [],
   "source": [
    "# Imports\n",
    "import os\n",
    "from IPython.display import Markdown, display\n",
    "from tqdm.notebook import tqdm\n",
    "import warnings\n",
    "from PIL import Image \n",
    "\n",
    "# requires arxiv_on_deck_2\n",
    "\n",
    "from arxiv_on_deck_2.arxiv2 import (get_new_papers, \n",
    "                                    get_paper_from_identifier,\n",
    "                                    retrieve_document_source, \n",
    "                                    get_markdown_badge)\n",
    "from arxiv_on_deck_2 import (latex,\n",
    "                             latex_bib,\n",
    "                             mpia,\n",
    "                             highlight_authors_in_list)\n",
    "\n",
    "# Sometimes images are really big\n",
    "Image.MAX_IMAGE_PIXELS = 1000000000 "
   ]
  },
  {
   "cell_type": "code",
   "execution_count": 2,
   "id": "22aa9d44",
   "metadata": {
    "execution": {
     "iopub.execute_input": "2023-09-11T04:07:01.457071Z",
     "iopub.status.busy": "2023-09-11T04:07:01.456573Z",
     "iopub.status.idle": "2023-09-11T04:07:01.463360Z",
     "shell.execute_reply": "2023-09-11T04:07:01.462632Z"
    },
    "papermill": {
     "duration": 0.013315,
     "end_time": "2023-09-11T04:07:01.465040",
     "exception": false,
     "start_time": "2023-09-11T04:07:01.451725",
     "status": "completed"
    },
    "tags": []
   },
   "outputs": [],
   "source": [
    "# Some useful definitions.\n",
    "\n",
    "class AffiliationWarning(UserWarning):\n",
    "    pass\n",
    "\n",
    "class AffiliationError(RuntimeError):\n",
    "    pass\n",
    "\n",
    "def validation(source: str):\n",
    "    \"\"\"Raises error paper during parsing of source file\n",
    "    \n",
    "    Allows checks before parsing TeX code.\n",
    "    \n",
    "    Raises AffiliationWarning\n",
    "    \"\"\"\n",
    "    check = mpia.affiliation_verifications(source, verbose=True)\n",
    "    if check is not True:\n",
    "        raise AffiliationError(\"mpia.affiliation_verifications: \" + check)\n",
    "\n",
    "        \n",
    "warnings.simplefilter('always', AffiliationWarning)\n",
    "\n",
    "\n",
    "def get_markdown_qrcode(paper_id: str):\n",
    "    \"\"\" Generate a qrcode to the arxiv page using qrserver.com\n",
    "    \n",
    "    :param paper: Arxiv paper\n",
    "    :returns: markdown text\n",
    "    \"\"\"\n",
    "    url = r\"https://api.qrserver.com/v1/create-qr-code/?size=100x100&data=\"\n",
    "    txt = f\"\"\"<img src={url}\"https://arxiv.org/abs/{paper_id}\">\"\"\"\n",
    "    txt = '<div id=\"qrcode\">' + txt + '</div>'\n",
    "    return txt"
   ]
  },
  {
   "cell_type": "markdown",
   "id": "14bd6310",
   "metadata": {
    "papermill": {
     "duration": 0.003545,
     "end_time": "2023-09-11T04:07:01.473747",
     "exception": false,
     "start_time": "2023-09-11T04:07:01.470202",
     "status": "completed"
    },
    "tags": []
   },
   "source": [
    "## get list of arxiv paper candidates\n",
    "\n",
    "We use the MPIA mitarbeiter list webpage from mpia.de to get author names\n",
    "We then get all new papers from Arxiv and match authors"
   ]
  },
  {
   "cell_type": "code",
   "execution_count": 3,
   "id": "2645e73a",
   "metadata": {
    "execution": {
     "iopub.execute_input": "2023-09-11T04:07:01.482714Z",
     "iopub.status.busy": "2023-09-11T04:07:01.482123Z",
     "iopub.status.idle": "2023-09-11T04:07:24.442965Z",
     "shell.execute_reply": "2023-09-11T04:07:24.442109Z"
    },
    "papermill": {
     "duration": 22.96733,
     "end_time": "2023-09-11T04:07:24.444607",
     "exception": false,
     "start_time": "2023-09-11T04:07:01.477277",
     "status": "completed"
    },
    "tags": []
   },
   "outputs": [
    {
     "name": "stdout",
     "output_type": "stream",
     "text": [
      "S. Belladitta  ->  S. Belladitta  |  ['S. Belladitta']\n",
      "K. El-Badry  ->  K. El-Badry  |  ['K. El-Badry']\n",
      "A. Gould  ->  A. Gould  |  ['A. Gould']\n",
      "P. Mollière  ->  P. Mollière  |  ['P. Mollière']\n"
     ]
    },
    {
     "name": "stdout",
     "output_type": "stream",
     "text": [
      "Arxiv has 50 new papers today\n",
      "          3 with possible author matches\n"
     ]
    }
   ],
   "source": [
    "# get list from MPIA website\n",
    "# it automatically filters identified non-scientists :func:`mpia.filter_non_scientists`\n",
    "mpia_authors = mpia.get_mpia_mitarbeiter_list()\n",
    "normed_mpia_authors = [k[1] for k in mpia_authors]   # initials + fullname\n",
    "new_papers = get_new_papers()\n",
    "# add manual references\n",
    "add_paper_refs = []\n",
    "new_papers.extend([get_paper_from_identifier(k) for k in add_paper_refs])\n",
    "\n",
    "candidates = []\n",
    "for paperk in new_papers:\n",
    "    # Check author list with their initials\n",
    "    normed_author_list = [mpia.get_initials(k) for k in paperk['authors']]\n",
    "    hl_authors = highlight_authors_in_list(normed_author_list, normed_mpia_authors, verbose=True)\n",
    "    matches = [(hl, orig) for hl, orig in zip(hl_authors, paperk['authors']) if 'mark' in hl]\n",
    "    paperk['authors'] = hl_authors\n",
    "    if matches:\n",
    "        # only select paper if an author matched our list\n",
    "        candidates.append(paperk)\n",
    "print(\"\"\"Arxiv has {0:,d} new papers today\"\"\".format(len(new_papers)))        \n",
    "print(\"\"\"          {0:,d} with possible author matches\"\"\".format(len(candidates)))"
   ]
  },
  {
   "cell_type": "markdown",
   "id": "3543b34a",
   "metadata": {
    "papermill": {
     "duration": 0.004042,
     "end_time": "2023-09-11T04:07:24.452704",
     "exception": false,
     "start_time": "2023-09-11T04:07:24.448662",
     "status": "completed"
    },
    "tags": []
   },
   "source": [
    "# Parse sources and generate relevant outputs\n",
    "\n",
    "From the candidates, we do the following steps:\n",
    "* get their tarball from ArXiv (and extract data)\n",
    "* find the main .tex file: find one with \\documentclass{...} (sometimes it's non trivial)\n",
    "* Check affiliations with :func:`validation`, which uses :func:`mpia.affiliation_verifications`\n",
    "* If passing the affiliations: we parse the .tex source\n",
    "   * inject sub-documents into the main (flatten the main document)\n",
    "   * parse structure, extract information (title, abstract, authors, figures...)\n",
    "   * handles `\\graphicspath` if provided\n",
    "* Generate the .md document."
   ]
  },
  {
   "cell_type": "code",
   "execution_count": 4,
   "id": "9576b79e",
   "metadata": {
    "execution": {
     "iopub.execute_input": "2023-09-11T04:07:24.462298Z",
     "iopub.status.busy": "2023-09-11T04:07:24.461974Z",
     "iopub.status.idle": "2023-09-11T04:07:53.192243Z",
     "shell.execute_reply": "2023-09-11T04:07:53.191265Z"
    },
    "papermill": {
     "duration": 28.737485,
     "end_time": "2023-09-11T04:07:53.193880",
     "exception": false,
     "start_time": "2023-09-11T04:07:24.456395",
     "status": "completed"
    },
    "scrolled": false,
    "tags": []
   },
   "outputs": [
    {
     "data": {
      "application/vnd.jupyter.widget-view+json": {
       "model_id": "59abf46b961c498bb77867c1fce85365",
       "version_major": 2,
       "version_minor": 0
      },
      "text/plain": [
       "  0%|          | 0/3 [00:00<?, ?it/s]"
      ]
     },
     "metadata": {},
     "output_type": "display_data"
    },
    {
     "name": "stdout",
     "output_type": "stream",
     "text": [
      "Retrieving document from  https://arxiv.org/e-print/2309.03936\n"
     ]
    },
    {
     "name": "stdout",
     "output_type": "stream",
     "text": [
      "extracting tarball to tmp_2309.03936..."
     ]
    },
    {
     "name": "stdout",
     "output_type": "stream",
     "text": [
      " done.\n"
     ]
    },
    {
     "name": "stdout",
     "output_type": "stream",
     "text": [
      "S. Belladitta  ->  S. Belladitta  |  ['S. Belladitta']\n"
     ]
    },
    {
     "name": "stdout",
     "output_type": "stream",
     "text": [
      "Found 89 bibliographic references in tmp_2309.03936/main.bbl.\n",
      "Retrieving document from  https://arxiv.org/e-print/2309.03944\n"
     ]
    },
    {
     "name": "stdout",
     "output_type": "stream",
     "text": [
      "extracting tarball to tmp_2309.03944..."
     ]
    },
    {
     "name": "stdout",
     "output_type": "stream",
     "text": [
      " done.\n"
     ]
    },
    {
     "name": "stderr",
     "output_type": "stream",
     "text": [
      "/opt/hostedtoolcache/Python/3.9.18/x64/lib/python3.9/site-packages/arxiv_on_deck_2/latex.py:473: LatexWarning: Error parsing the document directly. Trying to recover.\n",
      "  warnings.warn(LatexWarning(f\"Error parsing the document directly. Trying to recover.\"))\n"
     ]
    },
    {
     "name": "stdout",
     "output_type": "stream",
     "text": [
      "✔ → 0:header\n",
      "  ↳ 6438:\\section{Introduction} \\label{sec:intro}\n",
      "✔ → 6438:\\section{Introduction} \\label{sec:intro}\n",
      "  ↳ 9323:\\section{Observations and Data Reductions} \\label{sec:obs_dre}\n"
     ]
    },
    {
     "name": "stdout",
     "output_type": "stream",
     "text": [
      "✔ → 9323:\\section{Observations and Data Reductions} \\label{sec:obs_dre}\n",
      "  ↳ 16306:\\section{Microlens Modeling} \\label{sec:analysis}\n"
     ]
    },
    {
     "name": "stdout",
     "output_type": "stream",
     "text": [
      "✘ → 16306:\\section{Microlens Modeling} \\label{sec:analysis}\n",
      "  ↳ 44735:\\section{Physical Parameters} \\label{sec:phy_param}\n"
     ]
    },
    {
     "name": "stdout",
     "output_type": "stream",
     "text": [
      "✘ → 44735:\\section{Physical Parameters} \\label{sec:phy_param}\n",
      "  ↳ 58680:\\section{Summary and Future Prospects} \\label{sec:summary}\n"
     ]
    },
    {
     "name": "stdout",
     "output_type": "stream",
     "text": [
      "✔ → 58680:\\section{Summary and Future Prospects} \\label{sec:summary}\n",
      "  ↳ 77994:\\section{Conclusion}\\label{sec:discussion}\n",
      "✔ → 77994:\\section{Conclusion}\\label{sec:discussion}\n",
      "  ↳ 82280:end\n"
     ]
    },
    {
     "name": "stdout",
     "output_type": "stream",
     "text": [
      "K. El-Badry  ->  K. El-Badry  |  ['K. El-Badry']\n",
      "A. Gould  ->  A. Gould  |  ['A. Gould']\n"
     ]
    },
    {
     "name": "stdout",
     "output_type": "stream",
     "text": [
      "Found 79 bibliographic references in tmp_2309.03944/ms.bbl.\n",
      "Retrieving document from  https://arxiv.org/e-print/2309.04403\n"
     ]
    },
    {
     "name": "stdout",
     "output_type": "stream",
     "text": [
      "extracting tarball to tmp_2309.04403..."
     ]
    },
    {
     "name": "stdout",
     "output_type": "stream",
     "text": [
      " done.\n"
     ]
    },
    {
     "name": "stderr",
     "output_type": "stream",
     "text": [
      "/opt/hostedtoolcache/Python/3.9.18/x64/lib/python3.9/site-packages/IPython/core/interactiveshell.py:3526: LatexWarning: Multiple tex files.\n",
      "\n",
      "  exec(code_obj, self.user_global_ns, self.user_ns)\n",
      "/opt/hostedtoolcache/Python/3.9.18/x64/lib/python3.9/site-packages/IPython/core/interactiveshell.py:3526: LatexWarning: Found documentclass in tmp_2309.04403/natnotes.tex\n",
      "\n",
      "  exec(code_obj, self.user_global_ns, self.user_ns)\n"
     ]
    }
   ],
   "source": [
    "documents = []\n",
    "failed = []\n",
    "for paper in tqdm(candidates):\n",
    "    paper_id = paper['identifier'].lower().replace('arxiv:', '')\n",
    "    \n",
    "    folder = f'tmp_{paper_id}'\n",
    "\n",
    "    try:\n",
    "        if not os.path.isdir(folder):\n",
    "            folder = retrieve_document_source(f\"{paper_id}\", f'tmp_{paper_id}')\n",
    "        \n",
    "        try:\n",
    "            doc = latex.LatexDocument(folder, validation=validation)    \n",
    "        except AffiliationError as affilerror:\n",
    "            msg = f\"ArXiv:{paper_id:s} is not an MPIA paper... \" + str(affilerror)\n",
    "            failed.append((paper, \"affiliation error: \" + str(affilerror) ))\n",
    "            continue\n",
    "        \n",
    "        # Hack because sometimes author parsing does not work well\n",
    "        if (len(doc.authors) != len(paper['authors'])):\n",
    "            doc._authors = paper['authors']\n",
    "        else:\n",
    "            # highlight authors (FIXME: doc.highlight_authors)\n",
    "            # done on arxiv paper already\n",
    "            doc._authors = highlight_authors_in_list(\n",
    "                [mpia.get_initials(k) for k in doc.authors], \n",
    "                normed_mpia_authors, verbose=True)\n",
    "        if (doc.abstract) in (None, ''):\n",
    "            doc._abstract = paper['abstract']\n",
    "            \n",
    "        doc.comment = (get_markdown_badge(paper_id) + \n",
    "                       \"<mark>Appeared on: \" + paper['date'] + \"</mark> - \")\n",
    "        if paper['comments']:\n",
    "            doc.comment += \" _\" + paper['comments'] + \"_\"\n",
    "        \n",
    "        full_md = doc.generate_markdown_text()\n",
    "        \n",
    "        full_md += get_markdown_qrcode(paper_id)\n",
    "        \n",
    "        # replace citations\n",
    "        try:\n",
    "            bibdata = latex_bib.LatexBib.from_doc(doc)\n",
    "            full_md = latex_bib.replace_citations(full_md, bibdata)\n",
    "        except Exception as e:\n",
    "            print(e)\n",
    "        \n",
    "        documents.append((paper_id, full_md))\n",
    "    except Exception as e:\n",
    "        warnings.warn(latex.LatexWarning(f\"{paper_id:s} did not run properly\\n\" +\n",
    "                                         str(e)\n",
    "                                        ))\n",
    "        failed.append((paper, \"latex error \" + str(e)))"
   ]
  },
  {
   "cell_type": "markdown",
   "id": "2505a25c",
   "metadata": {
    "papermill": {
     "duration": 0.005093,
     "end_time": "2023-09-11T04:07:53.204274",
     "exception": false,
     "start_time": "2023-09-11T04:07:53.199181",
     "status": "completed"
    },
    "tags": []
   },
   "source": [
    "### Export the logs\n",
    "\n",
    "Throughout, we also keep track of the logs per paper. see `logs-{today date}.md` "
   ]
  },
  {
   "cell_type": "code",
   "execution_count": 5,
   "id": "d733828a",
   "metadata": {
    "execution": {
     "iopub.execute_input": "2023-09-11T04:07:53.215819Z",
     "iopub.status.busy": "2023-09-11T04:07:53.215322Z",
     "iopub.status.idle": "2023-09-11T04:07:53.230320Z",
     "shell.execute_reply": "2023-09-11T04:07:53.229600Z"
    },
    "papermill": {
     "duration": 0.022763,
     "end_time": "2023-09-11T04:07:53.231915",
     "exception": false,
     "start_time": "2023-09-11T04:07:53.209152",
     "status": "completed"
    },
    "scrolled": false,
    "tags": []
   },
   "outputs": [
    {
     "data": {
      "text/markdown": [
       "## Successful papers"
      ],
      "text/plain": [
       "<IPython.core.display.Markdown object>"
      ]
     },
     "metadata": {},
     "output_type": "display_data"
    },
    {
     "data": {
      "text/markdown": [
       "\n",
       "|||\n",
       "|---:|:---|\n",
       "| [![arXiv](https://img.shields.io/badge/arXiv-arXiv:2309.03936-b31b1b.svg)](https://arxiv.org/abs/arXiv:2309.03936) | **No strong radio absorption detected in the low-frequency spectra of  radio-loud quasars at z > 5.6**  |\n",
       "|| A. J. Gloudemans, et al. -- incl., <mark>S. Belladitta</mark> |\n",
       "|*Appeared on*| *2023-09-11*|\n",
       "|*Comments*| *15 pages, 7 figures, accepted for publication in A&A*|\n",
       "|**Abstract**| We present the low-frequency radio spectra of 9 high-redshift quasars at $5.6 \\leq z \\leq 6.6$ using the Giant Metre Radio Telescope band-3, -4, and -5 observations ($\\sim$300-1200 MHz), archival Low Frequency Array (LOFAR; 144 MHz), and Very Large Array (VLA; 1.4 and 3 GHz) data. Five of the quasars in our sample have been discovered recently, representing some of the highest redshift radio bright quasars known at low-frequencies. We model their radio spectra to study their radio emission mechanism and age of the radio jets by constraining the spectral turnover caused by synchrotron self-absorption (SSA) or free-free absorption (FFA). Besides J0309+2717, a blazar at $z=6.1$, our quasars show no sign of a spectral flattening between 144 MHz and a few GHz, indicating there is no strong SSA or FFA absorption in the observed frequency range. However, we find a wide range of spectral indices between $-1.6$ and $0.05$, including the discovery of 3 potential ultra-steep spectrum quasars. Using further archival VLBA data, we confirm that the radio SED of the blazar J0309+2717 likely turns over at a rest-frame frequency of 0.6-2.3 GHz (90-330 MHz observed frame), with a high-frequency break indicative of radiative ageing of the electron population in the radio lobes. Ultra-low frequency data below 50 MHz are necessary to constrain the absorption mechanism for J0309+2717 and the turnover frequencies for the other high-$z$ quasars in our sample. A relation between linear radio jet size and turnover frequency has been established at low redshifts. If this relation were to hold at high redshifts, the limits on the turnover frequency of our sample suggest the radio jet sizes must be more extended than the typical sizes observed in other radio-bright quasars at similar redshift. To confirm this deep radio follow-up observations with high spatial resolution are required. |"
      ],
      "text/plain": [
       "[arXiv:2309.03936] No strong radio absorption detected in the low-frequency spectra of  radio-loud quasars at z > 5.6\n",
       "\tA. J. Gloudemans, et al. -- incl., <mark>S. Belladitta</mark>"
      ]
     },
     "metadata": {},
     "output_type": "display_data"
    },
    {
     "data": {
      "text/markdown": [
       "\n",
       "|||\n",
       "|---:|:---|\n",
       "| [![arXiv](https://img.shields.io/badge/arXiv-arXiv:2309.03944-b31b1b.svg)](https://arxiv.org/abs/arXiv:2309.03944) | **Gaia22dkvLb: A Microlensing Planet Potentially Accessible to  Radial-Velocity Characterization**  |\n",
       "|| Z. Wu, et al. -- incl., <mark>K. El-Badry</mark>, <mark>A. Gould</mark> |\n",
       "|*Appeared on*| *2023-09-11*|\n",
       "|*Comments*| **|\n",
       "|**Abstract**| We report discovering an exoplanet from following up a microlensing event alerted by Gaia. The event Gaia22dkv is toward a nearby disk source at ~2.5 kpc rather than the traditional bulge microlensing fields. Our primary analysis yields a Jovian planet with M_p = 0.50 +/- 0.05 M_J at a projected orbital separation r_perp = 1.63 +/- 0.17 AU. The host is a turnoff star with mass 1.24 +/- 0.06 M_sun and distance of 1.35 +/- 0.09 kpc, and at r'~14, it is far brighter than any previously discovered microlensing planet host, opening up the opportunity of testing the microlensing model with radial velocity (RV) observations. RV data can be used to measure the planet's orbital period and eccentricity, and they also enable searching for inner planets of the microlensing cold Jupiter, as expected from the \"inner-outer correlation\" inferred from Kepler and RV discoveries. Furthermore, we show that Gaia astrometric microlensing will not only allow precise measurements of its angular Einstein radius theta_E, but also directly measure the microlens parallax vector and unambiguously break a geometric light-curve degeneracy, leading to definitive characterization of the lens system. |"
      ],
      "text/plain": [
       "[arXiv:2309.03944] Gaia22dkvLb: A Microlensing Planet Potentially Accessible to  Radial-Velocity Characterization\n",
       "\tZ. Wu, et al. -- incl., <mark>K. El-Badry</mark>, <mark>A. Gould</mark>"
      ]
     },
     "metadata": {},
     "output_type": "display_data"
    },
    {
     "data": {
      "text/markdown": [
       "## Failed papers"
      ],
      "text/plain": [
       "<IPython.core.display.Markdown object>"
      ]
     },
     "metadata": {},
     "output_type": "display_data"
    },
    {
     "data": {
      "text/markdown": [
       "\n",
       "|||\n",
       "|---:|:---|\n",
       "| [![arXiv](https://img.shields.io/badge/arXiv-arXiv:2309.04403-b31b1b.svg)](https://arxiv.org/abs/arXiv:2309.04403) | **VLTI/GRAVITY Observations and Characterization of the Brown Dwarf  Companion HD 72946 B**  |\n",
       "|| W. O. Balmer, et al. -- incl., <mark>P. Mollière</mark> |\n",
       "|*Appeared on*| *2023-09-11*|\n",
       "|*Comments*| *Accepted for publication in the Astrophysical Journal. 32 pages, 14 figures, 7 tables*|\n",
       "|**Abstract**| Tension remains between the observed and modeled properties of substellar objects, but objects in binary orbits, with known dynamical masses can provide a way forward. HD 72946 B is a recently imaged brown dwarf companion to the nearby, solar type star. We achieve $\\sim100~\\mu\\mathrm{as}$ relative astrometry of HD 72946 B in the K-band using VLTI/GRAVITY, unprecedented for a benchmark brown dwarf. We fit an ensemble of measurements of the orbit using orbitize! and derive a strong dynamical mass constraint $\\mathrm{M_B}=69.5\\pm0.5~\\mathrm{M_{Jup}}$ assuming a strong prior on the host star mass $\\mathrm{M_A}=0.97\\pm0.01~\\mathrm{M_\\odot}$ from an updated stellar analysis. We fit the spectrum of the companion to a grid of self-consistent BT-Settl-CIFIST model atmospheres, and perform atmospheric retrievals using petitRADTRANS. A dynamical mass prior only marginally influences the sampled distribution on effective temperature, but has a large influence on the surface gravity and radius, as expected. The dynamical mass alone does not strongly influence retrieved pressure-temperature or cloud parameters within our current retrieval setup. Independent of cloud prescription and prior assumptions, we find agreement within $\\pm2\\,\\sigma$ between the C/O ratio of the host ($0.52\\pm0.05)$ and brown dwarf ($0.43$ to $0.63$), as expected from a molecular cloud collapse formation scenario, but our retrieved metallicities are implausibly high ($0.6-0.8$) in light of an excellent agreement of the data with the solar abundance model grid. Future work on our retrieval framework will seek to resolve this tension. Additional study of low surface-gravity objects is necessary to assess the influence of a dynamical mass prior on atmospheric analysis. |\n",
       "|<p style=\"color:green\"> **ERROR** </p>| <p style=\"color:green\">affiliation error: mpia.affiliation_verifications: 'Heidelberg' keyword not found.</p> |"
      ],
      "text/plain": [
       "<IPython.core.display.Markdown object>"
      ]
     },
     "metadata": {},
     "output_type": "display_data"
    }
   ],
   "source": [
    "import datetime\n",
    "today = str(datetime.date.today())\n",
    "logfile = f\"_build/html/logs/log-{today}.md\"\n",
    "\n",
    "\n",
    "with open(logfile, 'w') as logs:\n",
    "    # Success\n",
    "    logs.write(f'# Arxiv on Deck 2: Logs - {today}\\n\\n')\n",
    "    logs.write(\"\"\"* Arxiv had {0:,d} new papers\\n\"\"\".format(len(new_papers)))\n",
    "    logs.write(\"\"\"    * {0:,d} with possible author matches\\n\\n\"\"\".format(len(candidates)))\n",
    "    logs.write(\"## Sucessful papers\\n\\n\")\n",
    "    display(Markdown(\"## Successful papers\"))\n",
    "    success = [k[0] for k in documents]\n",
    "    for candid in candidates:\n",
    "        if candid['identifier'].split(':')[-1] in success:\n",
    "            display(candid)\n",
    "            logs.write(candid.generate_markdown_text() + '\\n\\n')\n",
    "\n",
    "    ## failed\n",
    "    logs.write(\"## Failed papers\\n\\n\")\n",
    "    display(Markdown(\"## Failed papers\"))\n",
    "    failed = sorted(failed, key=lambda x: x[1])\n",
    "    current_reason = \"\"\n",
    "    for paper, reason in failed:\n",
    "        if 'affiliation' in reason:\n",
    "            color = 'green'\n",
    "        else:\n",
    "            color = 'red'\n",
    "        data = Markdown(\n",
    "                paper.generate_markdown_text() + \n",
    "                f'\\n|<p style=\"color:{color:s}\"> **ERROR** </p>| <p style=\"color:{color:s}\">{reason:s}</p> |'\n",
    "               )\n",
    "        if reason != current_reason:\n",
    "            logs.write(f'### {reason:s} \\n\\n')\n",
    "            current_reason = reason\n",
    "        logs.write(data.data + '\\n\\n')\n",
    "        \n",
    "        # only display here the important errors (all in logs)\n",
    "        # if color in ('red',):\n",
    "        display(data)"
   ]
  },
  {
   "cell_type": "markdown",
   "id": "472d20ee",
   "metadata": {
    "papermill": {
     "duration": 0.005561,
     "end_time": "2023-09-11T04:07:53.243155",
     "exception": false,
     "start_time": "2023-09-11T04:07:53.237594",
     "status": "completed"
    },
    "tags": []
   },
   "source": [
    "## Export documents\n",
    "\n",
    "We now write the .md files and export relevant images"
   ]
  },
  {
   "cell_type": "code",
   "execution_count": 6,
   "id": "d426aed9",
   "metadata": {
    "execution": {
     "iopub.execute_input": "2023-09-11T04:07:53.255995Z",
     "iopub.status.busy": "2023-09-11T04:07:53.255415Z",
     "iopub.status.idle": "2023-09-11T04:07:53.263954Z",
     "shell.execute_reply": "2023-09-11T04:07:53.263255Z"
    },
    "papermill": {
     "duration": 0.016901,
     "end_time": "2023-09-11T04:07:53.265531",
     "exception": false,
     "start_time": "2023-09-11T04:07:53.248630",
     "status": "completed"
    },
    "tags": []
   },
   "outputs": [],
   "source": [
    "def export_markdown_summary(md: str, md_fname:str, directory: str):\n",
    "    \"\"\"Export MD document and associated relevant images\"\"\"\n",
    "    import os\n",
    "    import shutil\n",
    "    import re\n",
    "\n",
    "    if (os.path.exists(directory) and not os.path.isdir(directory)):\n",
    "        raise RuntimeError(f\"a non-directory file exists with name {directory:s}\")\n",
    "\n",
    "    if (not os.path.exists(directory)):\n",
    "        print(f\"creating directory {directory:s}\")\n",
    "        os.mkdir(directory)\n",
    "\n",
    "    fig_fnames = (re.compile(r'\\[Fig.*\\]\\((.*)\\)').findall(md) + \n",
    "                  re.compile(r'\\<img src=\"([^>\\s]*)\"[^>]*/>').findall(md))\n",
    "    for fname in fig_fnames:\n",
    "        if 'http' in fname:\n",
    "            # No need to copy online figures\n",
    "            continue\n",
    "        destdir = os.path.join(directory, os.path.dirname(fname))\n",
    "        destfname = os.path.join(destdir, os.path.basename(fname))\n",
    "        try:\n",
    "            os.makedirs(destdir)\n",
    "        except FileExistsError:\n",
    "            pass\n",
    "        shutil.copy(fname, destfname)\n",
    "    with open(os.path.join(directory, md_fname), 'w') as fout:\n",
    "        fout.write(md)\n",
    "    print(\"exported in \", os.path.join(directory, md_fname))\n",
    "    [print(\"    + \" + os.path.join(directory,fk)) for fk in fig_fnames]"
   ]
  },
  {
   "cell_type": "code",
   "execution_count": 7,
   "id": "014d04a4",
   "metadata": {
    "execution": {
     "iopub.execute_input": "2023-09-11T04:07:53.278278Z",
     "iopub.status.busy": "2023-09-11T04:07:53.277749Z",
     "iopub.status.idle": "2023-09-11T04:07:53.285349Z",
     "shell.execute_reply": "2023-09-11T04:07:53.284681Z"
    },
    "papermill": {
     "duration": 0.015744,
     "end_time": "2023-09-11T04:07:53.286934",
     "exception": false,
     "start_time": "2023-09-11T04:07:53.271190",
     "status": "completed"
    },
    "tags": []
   },
   "outputs": [
    {
     "name": "stdout",
     "output_type": "stream",
     "text": [
      "exported in  _build/html/2309.03936.md\n",
      "    + _build/html/tmp_2309.03936/./linear_size_vs_turnover_v10.png\n",
      "    + _build/html/tmp_2309.03936/./J0309_radio_spec_v8.png\n",
      "    + _build/html/tmp_2309.03936/./J172_curved_spec_v6.png\n",
      "    + _build/html/tmp_2309.03936/./radio_luminosities_from_lit_v3.png\n",
      "exported in  _build/html/2309.03944.md\n",
      "    + _build/html/tmp_2309.03944/figures/host_info.png\n",
      "    + _build/html/tmp_2309.03944/figures/RV.png\n",
      "    + _build/html/tmp_2309.03944/figures/Galactic.png\n"
     ]
    }
   ],
   "source": [
    "for paper_id, md in documents:\n",
    "    export_markdown_summary(md, f\"{paper_id:s}.md\", '_build/html/')"
   ]
  },
  {
   "cell_type": "markdown",
   "id": "f087a0a7",
   "metadata": {
    "papermill": {
     "duration": 0.005689,
     "end_time": "2023-09-11T04:07:53.298362",
     "exception": false,
     "start_time": "2023-09-11T04:07:53.292673",
     "status": "completed"
    },
    "tags": []
   },
   "source": [
    "## Display the papers\n",
    "\n",
    "Not necessary but allows for a quick check."
   ]
  },
  {
   "cell_type": "code",
   "execution_count": 8,
   "id": "fd25f625",
   "metadata": {
    "execution": {
     "iopub.execute_input": "2023-09-11T04:07:53.312074Z",
     "iopub.status.busy": "2023-09-11T04:07:53.311470Z",
     "iopub.status.idle": "2023-09-11T04:07:53.318303Z",
     "shell.execute_reply": "2023-09-11T04:07:53.317593Z"
    },
    "papermill": {
     "duration": 0.015697,
     "end_time": "2023-09-11T04:07:53.319863",
     "exception": false,
     "start_time": "2023-09-11T04:07:53.304166",
     "status": "completed"
    },
    "scrolled": false,
    "tags": []
   },
   "outputs": [
    {
     "data": {
      "text/markdown": [
       "<div class=\"macros\" style=\"visibility:hidden;\">\n",
       "$\\newcommand{\\ensuremath}{}$\n",
       "$\\newcommand{\\xspace}{}$\n",
       "$\\newcommand{\\object}[1]{\\texttt{#1}}$\n",
       "$\\newcommand{\\farcs}{{.}''}$\n",
       "$\\newcommand{\\farcm}{{.}'}$\n",
       "$\\newcommand{\\arcsec}{''}$\n",
       "$\\newcommand{\\arcmin}{'}$\n",
       "$\\newcommand{\\ion}[2]{#1#2}$\n",
       "$\\newcommand{\\textsc}[1]{\\textrm{#1}}$\n",
       "$\\newcommand{\\hl}[1]{\\textrm{#1}}$\n",
       "$\\newcommand{\\footnote}[1]{}$\n",
       "$\\newcommand{\\RNum}[1]{\\uppercase\\expandafter{\\romannumeral #1\\relax}}$\n",
       "$\\newcommand{\\arraystretch}{2.0}$</div>\n",
       "\n",
       "\n",
       "\n",
       "<div id=\"title\">\n",
       "\n",
       "# No strong radio absorption detected in the low-frequency spectra of radio-loud quasars at $z>5.6$\n",
       "\n",
       "</div>\n",
       "<div id=\"comments\">\n",
       "\n",
       "[![arXiv](https://img.shields.io/badge/arXiv-2309.03936-b31b1b.svg)](https://arxiv.org/abs/2309.03936)<mark>Appeared on: 2023-09-11</mark> -  _15 pages, 7 figures, accepted for publication in A&A_\n",
       "\n",
       "</div>\n",
       "<div id=\"authors\">\n",
       "\n",
       "A. J. Gloudemans, et al. -- incl., <mark>S. Belladitta</mark>\n",
       "\n",
       "</div>\n",
       "<div id=\"abstract\">\n",
       "\n",
       "**Abstract:** We present the low-frequency radio spectra of 9 high-redshift quasars at $5.6 \\leq z \\leq 6.6$ using the Giant Metre Radio Telescope band-3, -4, and -5 observations ( $\\sim$ 300-1200 MHz), archival Low Frequency Array (LOFAR; 144 MHz), and Very Large Array (VLA; 1.4 and 3 GHz) data. Five of the quasars in our sample have been discovered recently, representing some of the highest redshift radio bright quasars known at low-frequencies. We model their radio spectra to study their radio emission mechanism and age of the radio jets by constraining the spectral turnover caused by synchrotron self-absorption (SSA) or free-free absorption (FFA). Besides J0309+2717, a blazar at $z=6.1$ , our quasars show no sign of a spectral flattening between 144 MHz and a few GHz, indicating there is no strong SSA or FFA absorption in the observed frequency range. However, we find a wide range of spectral indices between $-1.6$ and $0.05$ , including the discovery of 3 potential ultra-steep spectrum quasars. Using further archival VLBA data, we confirm that the radio SED of the blazar J0309+2717 likely turns over at a rest-frame frequency of 0.6-2.3 GHz (90-330 MHz observed frame), with a high-frequency break indicative of radiative ageing of the electron population in the radio lobes. Ultra-low frequency data below 50 MHz are necessary to constrain the absorption mechanism for J0309+2717 and the turnover frequencies for the other high- $z$ quasars in our sample.A relation between linear radio jet size and turnover frequency has been established at low redshifts. If this relation were to hold at high redshifts, the limits on the turnover frequency of our sample suggest the radio jet sizes must be more extended than the typical sizes observed in other radio-bright quasars at similar redshift. To confirm this deep radio follow-up observations with high spatial resolution are required.\n",
       "\n",
       "</div>\n",
       "\n",
       "<div id=\"div_fig1\">\n",
       "\n",
       "<img src=\"tmp_2309.03936/./linear_size_vs_turnover_v10.png\" alt=\"Fig3\" width=\"100%\"/>\n",
       "\n",
       "**Figure 3. -** Linear sizes versus rest-frame turnover frequency for the quasars in our sample, J172+18, and the 10 high-$z$ quasars from [Shao, Wagg and Wang (2022)](). The grey points show low-redshift ($z\\approx0.1$-2) peaked spectrum sources from [Keim, Callingham and Röttgering (2019)](), which follow a tight relation given by the black solid line (see  ([Keim, Callingham and Röttgering 2019]()) ). Apart from J0309+2717, we have only upper limits on the linear sizes of the quasars in our sample and their turnover frequencies. Five of the quasars from [Shao, Wagg and Wang (2022)]() have been observed at mas resolution with the VLBA and three of them have size measurements, which seem to follow the low-$z$ relation. The solid and dashed grey lines show the frequencies of the LoLSS and LoDeSS survey, respectively, and the black open circles the resolution of the LOFAR VLBI and VLBA at 150 MHz and 1.6 GHz (observed frame). (*fig:linear_sizes*)\n",
       "\n",
       "</div>\n",
       "<div id=\"div_fig2\">\n",
       "\n",
       "<img src=\"tmp_2309.03936/./J0309_radio_spec_v8.png\" alt=\"Fig5.1\" width=\"50%\"/><img src=\"tmp_2309.03936/./J172_curved_spec_v6.png\" alt=\"Fig5.2\" width=\"50%\"/>\n",
       "\n",
       "**Figure 5. -**  Radio spectra of J0309+2717 (left) and J172+18 (right) including reported literature radio flux density measurements. Left: The GMRT subband flux densities of the band 3 and 4 observations are shown in light purple. The VLBA and VLA measurements have been provided by [Spingola, Dallacasa and Belladitta (2020)](). The dashed, dash-dotted and dotted line show the best fitting homogeneous SSA, homogeneous FFA, and internal FFA models, respectively. The homogeneous FFA with a break due to an ageing electron population (grey line) gives the best fit to the spectrum with a reduced $\\chi^2$ of 0.6 and $\\Delta$BIC $>6$ compared to all other models. Randomly selected MCMC fits are shown in light grey to visualize the uncertainty in the model fit with the parameters given in Tab. \\ref{tab:curve_parameters}. The bottom plot shows the residual of the homogeneous FFA model with a break. Right: The VLA-L and -S observations have been conducted by [Bañados, Mazzucchelli and Momjian (2021)]() and the VLBA observations by [Momjian, et. al (2021)](). Upper limits are given for the LOFAR at 144 MHz and the VLBA observations at 4.67 and 7.67 GHz. Due to a limited number of data points between 150 MHz and 1 GHz the absorption models remain unconstrained. However, we can conclude that the spectrum likely peaks between 0.25-1.3 GHz (rest-frame 2-10 GHz), meaning it can be classified as a GPS source. Again the residuals are shown in the bottom panel.  (*fig:radio_curves*)\n",
       "\n",
       "</div>\n",
       "<div id=\"div_fig3\">\n",
       "\n",
       "<img src=\"tmp_2309.03936/./radio_luminosities_from_lit_v3.png\" alt=\"Fig1\" width=\"100%\"/>\n",
       "\n",
       "**Figure 1. -** Radio luminosities at 144 MHz versus spectroscopic redshift of our selected sample and other known LOFAR detected quasars compiled by [Gloudemans, Duncan and Röttgering (2021)](), [Gloudemans, Duncan and Saxena (2022)](). Our sample probes some of the brightest and highest redshift radio-loud quasars currently known at low frequencies. The heavily obscured AGN COS-87259 is currently the highest redshift radio-loud quasar known and has been detected by LOFAR  ([Endsley, Stark and Bouwens 2022](), [Endsley, Stark and Lyu 2022]()) . The two radio-loud quasars around $z\\sim6.1$(J1427+3312 and J1429+5447) have not been included in our sample because their radio spectra have already been studied by [Shao, Wagg and Wang (2020)]() and [Shao, Wagg and Wang (2022)](), with J1427+3312 showing a turnover around 1.7 GHz rest-frame.  (*fig:radio_lum*)\n",
       "\n",
       "</div><div id=\"qrcode\"><img src=https://api.qrserver.com/v1/create-qr-code/?size=100x100&data=\"https://arxiv.org/abs/2309.03936\"></div>"
      ],
      "text/plain": [
       "<IPython.core.display.Markdown object>"
      ]
     },
     "metadata": {},
     "output_type": "display_data"
    },
    {
     "data": {
      "text/markdown": [
       "<div class=\"macros\" style=\"visibility:hidden;\">\n",
       "$\\newcommand{\\ensuremath}{}$\n",
       "$\\newcommand{\\xspace}{}$\n",
       "$\\newcommand{\\object}[1]{\\texttt{#1}}$\n",
       "$\\newcommand{\\farcs}{{.}''}$\n",
       "$\\newcommand{\\farcm}{{.}'}$\n",
       "$\\newcommand{\\arcsec}{''}$\n",
       "$\\newcommand{\\arcmin}{'}$\n",
       "$\\newcommand{\\ion}[2]{#1#2}$\n",
       "$\\newcommand{\\textsc}[1]{\\textrm{#1}}$\n",
       "$\\newcommand{\\hl}[1]{\\textrm{#1}}$\n",
       "$\\newcommand{\\footnote}[1]{}$\n",
       "$\\newcommand$\n",
       "$\\newcommand{\\bdv}[1]{\\mbox{\\boldmath#1}}$\n",
       "$\\newcommand{\\au}{{\\rm AU}}$\n",
       "$\\newcommand{\\sinc}{{\\rm sinc}}$\n",
       "$\\newcommand{\\kms}{{\\rm km} {\\rm s}^{-1}}$\n",
       "$\\newcommand{\\masyr}{{\\rm mas} {\\rm yr}^{-1}}$\n",
       "$\\newcommand{\\kpc}{{\\rm kpc}}$\n",
       "$\\newcommand{\\mas}{{\\rm mas}}$\n",
       "$\\newcommand{\\sat}{{\\rm sat}}$\n",
       "$\\newcommand{\\muas}{\\mu{\\rm as}}$\n",
       "$\\newcommand{\\var}{{\\rm var}}$\n",
       "$\\newcommand{\\pc}{{\\rm pc}}$\n",
       "$\\newcommand{\\orb}{{\\rm orb}}$\n",
       "$\\newcommand{\\obs}{{\\rm obs}}$\n",
       "$\\newcommand{\\max}{{\\rm max}}$\n",
       "$\\newcommand{\\min}{{\\rm min}}$\n",
       "$\\newcommand{\\rel}{{\\rm rel}}$\n",
       "$\\newcommand{\\ast}{{\\rm ast}}$\n",
       "$\\newcommand{\\eff}{{\\rm eff}}$\n",
       "$\\newcommand{\\rot}{{\\rm rot}}$\n",
       "$\\newcommand{\\lsr}{{\\rm lsr}}$\n",
       "$\\newcommand{\\hel}{{\\rm hel}}$\n",
       "$\\newcommand{\\geo}{{\\rm geo}}$\n",
       "$\\newcommand{\\B}{{\\rm B}}$\n",
       "$\\newcommand{\\Sc}{{\\rm S}}$\n",
       "$\\newcommand{\\L}{{\\rm L}}$\n",
       "$\\newcommand{\\E}{{\\rm E}}$\n",
       "$\\newcommand{\\bpi}{{\\bdv\\pi}}$\n",
       "$\\newcommand{\\bmu}{{\\bdv\\mu}}$\n",
       "$\\newcommand{\\balpha}{{\\bdv\\alpha}}$\n",
       "$\\newcommand{\\bgamma}{{\\bdv\\gamma}}$\n",
       "$\\newcommand{\\bDelta}{{\\bdv\\Delta}}$\n",
       "$\\newcommand{\\btheta}{{\\bdv\\theta}}$\n",
       "$\\newcommand{\\bphi}{{\\bdv\\phi}}$\n",
       "$\\newcommand{\\bp}{{\\bf p}}$\n",
       "$\\newcommand{\\bv}{{\\bf v}}$\n",
       "$\\newcommand{\\bu}{{\\bf u}}$\n",
       "$\\newcommand{\\naive}{{\\rm naive}}$\n",
       "$\\newcommand{\\revise}{\\bf}$\n",
       "$\\newcommand{\\revisec}{\\color{red}}$\n",
       "$\\newcommand{\\rowmac}{#1}$</div>\n",
       "\n",
       "\n",
       "\n",
       "<div id=\"title\">\n",
       "\n",
       "# Gaia22dkvLb: A Microlensing Planet Potentially Accessible to Radial-Velocity Characterization\n",
       "\n",
       "</div>\n",
       "<div id=\"comments\">\n",
       "\n",
       "[![arXiv](https://img.shields.io/badge/arXiv-2309.03944-b31b1b.svg)](https://arxiv.org/abs/2309.03944)<mark>Appeared on: 2023-09-11</mark> - \n",
       "\n",
       "</div>\n",
       "<div id=\"authors\">\n",
       "\n",
       "Z. Wu, et al. -- incl., <mark>K. El-Badry</mark>, <mark>A. Gould</mark>\n",
       "\n",
       "</div>\n",
       "<div id=\"abstract\">\n",
       "\n",
       "**Abstract:** We report discovering an exoplanet from following up a microlensing event alerted by Gaia. The event Gaia22dkv is toward a nearby disk source at $\\sim 2.5$ kpc rather than the traditional bulge microlensing fields. Our primary analysis yields a Jovian planet with $M_{\\rm p} = 0.50 \\pm 0.05 M_{\\rm J}$ at a projected orbital separation $r_{\\perp} = 1.63\\pm0.17$ AU. The host is a turnoff star with mass $1.24\\pm{0.06} M_\\odot$ and distance of $1.35\\pm0.09$ kpc, and at $r'\\approx14$ , it is far brighter than any previously discovered microlensing planet host, opening up the opportunity of testing the microlensing model with radial velocity (RV) observations.RV data can be used to measure the planet's orbital period and eccentricity, and they also enable searching for inner planets of the microlensing cold Jupiter, as expected from the \"inner-outer correlation\" inferred from $_ Kepler_$ and RV discoveries.Furthermore, we show that Gaia astrometric microlensing will not only allow precise measurements of its angular Einstein radius $\\theta_{\\rm E}$ , but also directly measure the microlens parallax vector and unambiguously break a geometric light-curve degeneracy, leading to definitive characterization of the lens system.\n",
       "\n",
       "</div>\n",
       "\n",
       "<div id=\"div_fig1\">\n",
       "\n",
       "<img src=\"tmp_2309.03944/figures/host_info.png\" alt=\"Fig6\" width=\"100%\"/>\n",
       "\n",
       "**Figure 6. -** Host properties of microlensing planets. We use the parameters of the default models (modeldef=1) in the microlensing planet catalog of the NASA Exoplanet Archive for all discoveries in the bulge field (black dots). The host properties of Kojima-1Lb (blue star) are from [Zang, Dong and Gould (2020)](), and those of Gaia22dkvLb are based on the globally best fit UPS$-$3.4$(u_0+)$ in this work. Panel A): Host  mass ($M_$\\L$$) vs. distance ($D_$\\L$$). Panel B):  Host brightness in $V$ band ($m_V$) vs. distance ($D_$\\L$$). For the systems in the bulge field, we make crude $V$-band brightness estimates by assuming the lens star is a main-sequence star with stellar mass $M_$\\L$$ at $D_$\\L$$. We use the isochrone at a stellar age of $5$ Gyr from the Dartmouth Stellar Evolution Database   ([Dotter and Chaboyer 2008]())  to estimate the stellar luminosities. Then we apply the extinction corrections using the near-infrared extinction maps by [Gonzalez, Rejkuba and Zoccali (2012)]() and convert it to $A_V$ with the relationship in [Cardelli, Clayton and Mathis (1989)](). Panel C): The Galactic longitude ($l$) vs. latitude ($b$) distribution.\n",
       " (*fig:hosts*)\n",
       "\n",
       "</div>\n",
       "<div id=\"div_fig2\">\n",
       "\n",
       "<img src=\"tmp_2309.03944/figures/RV.png\" alt=\"Fig3\" width=\"100%\"/>\n",
       "\n",
       "**Figure 3. -** The upper panel displays the predicted radial velocity curves based on the orbital parameters of the best fit. The black lines represent the MCMC sample with $\\Delta \\chi^2 < 1$. The lower panel displays the RV semi amplitude $K$ and circular orbital period $P_{\\rm circ}$ for all solutions. The best-fit solution is shown as a red filled circle with error bar, which is the only physically reasonable solution under the assumption that the blend is the lens and circular planetary orbital motion. Other solutions are shown as the color-coded open circles in red, yellow, green, blue, grey represents other solutions with $\\Delta\\chi^2 < 1, 4, 9, 16, 25$ compared with best fit, respectively. One year period is indicated as dashed line.\n",
       " (*fig:RV_curve*)\n",
       "\n",
       "</div>\n",
       "<div id=\"div_fig3\">\n",
       "\n",
       "<img src=\"tmp_2309.03944/figures/Galactic.png\" alt=\"Fig4\" width=\"100%\"/>\n",
       "\n",
       "**Figure 4. -** Galactic kinematics of the lens (green dot with error bar) and the source (blue dot with error bar) based on the best-fit solution.\n",
       "Upper: the Galactocentric distance $R$ and height $z$ with respect to the Galactic plane positions (the red dot represents the Sun at $z_{\\odot}$$=$ 25 pc;  ([ and Brooks 2008]()) ).\n",
       "Lower:  the Toomre diagram. Dashed curves indicate constant peculiar velocities = 50, 100, 150, and 200 $\\mathrm{km s^{-1}}$.\n",
       " (*fig:gala*)\n",
       "\n",
       "</div><div id=\"qrcode\"><img src=https://api.qrserver.com/v1/create-qr-code/?size=100x100&data=\"https://arxiv.org/abs/2309.03944\"></div>"
      ],
      "text/plain": [
       "<IPython.core.display.Markdown object>"
      ]
     },
     "metadata": {},
     "output_type": "display_data"
    }
   ],
   "source": [
    "[display(Markdown(k[1])) for k in documents];"
   ]
  },
  {
   "cell_type": "markdown",
   "id": "873873a4",
   "metadata": {
    "papermill": {
     "duration": 0.006163,
     "end_time": "2023-09-11T04:07:53.332375",
     "exception": false,
     "start_time": "2023-09-11T04:07:53.326212",
     "status": "completed"
    },
    "tags": []
   },
   "source": [
    "# Create HTML index"
   ]
  },
  {
   "cell_type": "code",
   "execution_count": 9,
   "id": "cf665672",
   "metadata": {
    "execution": {
     "iopub.execute_input": "2023-09-11T04:07:53.346734Z",
     "iopub.status.busy": "2023-09-11T04:07:53.346144Z",
     "iopub.status.idle": "2023-09-11T04:07:53.357164Z",
     "shell.execute_reply": "2023-09-11T04:07:53.356472Z"
    },
    "papermill": {
     "duration": 0.020154,
     "end_time": "2023-09-11T04:07:53.358753",
     "exception": false,
     "start_time": "2023-09-11T04:07:53.338599",
     "status": "completed"
    },
    "tags": []
   },
   "outputs": [
    {
     "name": "stdout",
     "output_type": "stream",
     "text": [
      "266  publications files modified in the last 7 days.\n"
     ]
    }
   ],
   "source": [
    "from datetime import datetime, timedelta, timezone\n",
    "from glob import glob\n",
    "import os\n",
    "\n",
    "files = glob('_build/html/*.md')\n",
    "days = 7\n",
    "now = datetime.today()\n",
    "res = []\n",
    "for fk in files:\n",
    "    stat_result = os.stat(fk).st_ctime\n",
    "    modified = datetime.fromtimestamp(stat_result, tz=timezone.utc).replace(tzinfo=None)\n",
    "    delta = now.today() - modified\n",
    "    if delta <= timedelta(days=days):\n",
    "        res.append((delta.seconds, fk))\n",
    "res = [k[1] for k in reversed(sorted(res, key=lambda x:x[1]))]\n",
    "npub = len(res)\n",
    "print(len(res), f\" publications files modified in the last {days:d} days.\")\n",
    "# [ print('\\t', k) for k in res ];"
   ]
  },
  {
   "cell_type": "code",
   "execution_count": 10,
   "id": "015de740",
   "metadata": {
    "execution": {
     "iopub.execute_input": "2023-09-11T04:07:53.373271Z",
     "iopub.status.busy": "2023-09-11T04:07:53.372756Z",
     "iopub.status.idle": "2023-09-11T04:07:53.393994Z",
     "shell.execute_reply": "2023-09-11T04:07:53.393227Z"
    },
    "papermill": {
     "duration": 0.030422,
     "end_time": "2023-09-11T04:07:53.395634",
     "exception": false,
     "start_time": "2023-09-11T04:07:53.365212",
     "status": "completed"
    },
    "tags": []
   },
   "outputs": [
    {
     "name": "stdout",
     "output_type": "stream",
     "text": [
      "7  publications in the last 7 days.\n"
     ]
    }
   ],
   "source": [
    "import datetime\n",
    "from glob import glob\n",
    "\n",
    "def get_last_n_days(lst, days=1):\n",
    "    \"\"\" Get the documents from the last n days \"\"\"\n",
    "    sorted_lst = sorted(lst, key=lambda x: x[1], reverse=True)\n",
    "    for fname, date in sorted_lst:\n",
    "        if date >= str(datetime.date.today() - datetime.timedelta(days=days)):\n",
    "            yield fname\n",
    "\n",
    "def extract_appearance_dates(lst_file):\n",
    "    dates = []\n",
    "\n",
    "    def get_date(line):\n",
    "        return line\\\n",
    "            .split('Appeared on:')[-1]\\\n",
    "            .split('</mark>')[0].strip()\n",
    "\n",
    "    for fname in lst:\n",
    "        with open(fname, 'r') as f:\n",
    "            found_date = False\n",
    "            for line in f:\n",
    "                if not found_date:\n",
    "                    if \"Appeared on\" in line:\n",
    "                        found_date = True\n",
    "                        dates.append((fname, get_date(line)))\n",
    "                else:\n",
    "                    break\n",
    "    return dates\n",
    "\n",
    "from glob import glob\n",
    "lst = glob('_build/html/*md')\n",
    "days = 7\n",
    "dates = extract_appearance_dates(lst)\n",
    "res = list(get_last_n_days(dates, days))\n",
    "npub = len(res)\n",
    "print(len(res), f\" publications in the last {days:d} days.\")"
   ]
  },
  {
   "cell_type": "code",
   "execution_count": 11,
   "id": "52ca0208",
   "metadata": {
    "execution": {
     "iopub.execute_input": "2023-09-11T04:07:53.410143Z",
     "iopub.status.busy": "2023-09-11T04:07:53.409696Z",
     "iopub.status.idle": "2023-09-11T04:07:53.415530Z",
     "shell.execute_reply": "2023-09-11T04:07:53.414857Z"
    },
    "papermill": {
     "duration": 0.014967,
     "end_time": "2023-09-11T04:07:53.417142",
     "exception": false,
     "start_time": "2023-09-11T04:07:53.402175",
     "status": "completed"
    },
    "scrolled": false,
    "tags": []
   },
   "outputs": [],
   "source": [
    "def create_carousel(npub=4):\n",
    "    \"\"\" Generate the HTML code for a carousel with `npub` slides \"\"\"\n",
    "    carousel = [\"\"\"  <div class=\"carousel\" \"\"\",\n",
    "                \"\"\"       data-flickity='{ \"autoPlay\": 10000, \"adaptiveHeight\": true, \"resize\": true, \"wrapAround\": true, \"pauseAutoPlayOnHover\": true, \"groupCells\": 1 }' id=\"asyncTypeset\">\"\"\"\n",
    "                ]\n",
    "    \n",
    "    item_str = \"\"\"    <div class=\"carousel-cell\"> <div id=\"slide{k}\" class=\"md_view\">Content {k}</div> </div>\"\"\"\n",
    "    for k in range(1, npub + 1):\n",
    "        carousel.append(item_str.format(k=k))\n",
    "    carousel.append(\"  </div>\")\n",
    "    return '\\n'.join(carousel)\n",
    "\n",
    "def create_grid(npub=4):\n",
    "    \"\"\" Generate the HTML code for a flat grid with `npub` slides \"\"\"\n",
    "    grid = [\"\"\"  <div class=\"grid\"> \"\"\",\n",
    "                ]\n",
    "    \n",
    "    item_str = \"\"\"    <div class=\"grid-item\"> <div id=\"slide{k}\" class=\"md_view\">Content {k}</div> </div>\"\"\"\n",
    "    for k in range(1, npub + 1):\n",
    "        grid.append(item_str.format(k=k))\n",
    "    grid.append(\"  </div>\")\n",
    "    return '\\n'.join(grid)"
   ]
  },
  {
   "cell_type": "code",
   "execution_count": 12,
   "id": "a6eac5b6",
   "metadata": {
    "execution": {
     "iopub.execute_input": "2023-09-11T04:07:53.432238Z",
     "iopub.status.busy": "2023-09-11T04:07:53.431525Z",
     "iopub.status.idle": "2023-09-11T04:07:53.437370Z",
     "shell.execute_reply": "2023-09-11T04:07:53.436768Z"
    },
    "papermill": {
     "duration": 0.015166,
     "end_time": "2023-09-11T04:07:53.438950",
     "exception": false,
     "start_time": "2023-09-11T04:07:53.423784",
     "status": "completed"
    },
    "scrolled": false,
    "tags": []
   },
   "outputs": [],
   "source": [
    "carousel = create_carousel(npub)\n",
    "docs = ', '.join(['\"{0:s}\"'.format(k.split('/')[-1]) for k in res])\n",
    "slides = ', '.join([f'\"slide{k}\"' for k in range(1, npub + 1)])\n",
    "\n",
    "with open(\"daily_template.html\", \"r\") as tpl:\n",
    "    page = tpl.read()\n",
    "    page = page.replace(\"{%-- carousel:s --%}\", carousel)\\\n",
    "               .replace(\"{%-- suptitle:s --%}\",  \"7-day archives\" )\\\n",
    "               .replace(\"{%-- docs:s --%}\", docs)\\\n",
    "               .replace(\"{%-- slides:s --%}\", slides)\n",
    "    \n",
    "with open(\"_build/html/index_7days.html\", 'w') as fout:\n",
    "    fout.write(page)"
   ]
  },
  {
   "cell_type": "code",
   "execution_count": 13,
   "id": "adc1a1ec",
   "metadata": {
    "execution": {
     "iopub.execute_input": "2023-09-11T04:07:53.453476Z",
     "iopub.status.busy": "2023-09-11T04:07:53.453045Z",
     "iopub.status.idle": "2023-09-11T04:07:53.460949Z",
     "shell.execute_reply": "2023-09-11T04:07:53.460272Z"
    },
    "papermill": {
     "duration": 0.017147,
     "end_time": "2023-09-11T04:07:53.462550",
     "exception": false,
     "start_time": "2023-09-11T04:07:53.445403",
     "status": "completed"
    },
    "tags": []
   },
   "outputs": [
    {
     "name": "stdout",
     "output_type": "stream",
     "text": [
      "2  publications in the last day.\n"
     ]
    }
   ],
   "source": [
    "# redo for today\n",
    "days = 1\n",
    "res = list(get_last_n_days(dates, days))\n",
    "npub = len(res)\n",
    "print(len(res), f\" publications in the last day.\")\n",
    "\n",
    "carousel = create_carousel(npub)\n",
    "docs = ', '.join(['\"{0:s}\"'.format(k.split('/')[-1]) for k in res])\n",
    "slides = ', '.join([f'\"slide{k}\"' for k in range(1, npub + 1)])\n",
    "\n",
    "with open(\"daily_template.html\", \"r\") as tpl:\n",
    "    page = tpl.read()\n",
    "    page = page.replace(\"{%-- carousel:s --%}\", carousel)\\\n",
    "               .replace(\"{%-- suptitle:s --%}\",  \"Daily\" )\\\n",
    "               .replace(\"{%-- docs:s --%}\", docs)\\\n",
    "               .replace(\"{%-- slides:s --%}\", slides)\n",
    "    \n",
    "# print(carousel, docs, slides)\n",
    "# print(page)\n",
    "with open(\"_build/html/index_daily.html\", 'w') as fout:\n",
    "    fout.write(page)"
   ]
  },
  {
   "cell_type": "code",
   "execution_count": 14,
   "id": "00eece82",
   "metadata": {
    "execution": {
     "iopub.execute_input": "2023-09-11T04:07:53.477812Z",
     "iopub.status.busy": "2023-09-11T04:07:53.477391Z",
     "iopub.status.idle": "2023-09-11T04:07:53.485041Z",
     "shell.execute_reply": "2023-09-11T04:07:53.484360Z"
    },
    "papermill": {
     "duration": 0.016774,
     "end_time": "2023-09-11T04:07:53.486534",
     "exception": false,
     "start_time": "2023-09-11T04:07:53.469760",
     "status": "completed"
    },
    "scrolled": false,
    "tags": []
   },
   "outputs": [
    {
     "name": "stdout",
     "output_type": "stream",
     "text": [
      "6  6 publications selected.\n"
     ]
    }
   ],
   "source": [
    "# Create the flat grid of the last N papers (fixed number regardless of dates)\n",
    "from itertools import islice \n",
    "\n",
    "npub = 6\n",
    "res = [k[0] for k in (islice(reversed(sorted(dates, key=lambda x: x[1])), 6))]\n",
    "print(len(res), f\" {npub} publications selected.\")\n",
    "\n",
    "grid = create_grid(npub)\n",
    "docs = ', '.join(['\"{0:s}\"'.format(k.split('/')[-1]) for k in res])\n",
    "slides = ', '.join([f'\"slide{k}\"' for k in range(1, npub + 1)])\n",
    "\n",
    "with open(\"grid_template.html\", \"r\") as tpl:\n",
    "    page = tpl.read()\n",
    "    page = page.replace(\"{%-- grid-content:s --%}\", grid)\\\n",
    "               .replace(\"{%-- suptitle:s --%}\",  f\"Last {npub:,d} papers\" )\\\n",
    "               .replace(\"{%-- docs:s --%}\", docs)\\\n",
    "               .replace(\"{%-- slides:s --%}\", slides)\n",
    "    \n",
    "# print(grid, docs, slides)\n",
    "# print(page)\n",
    "with open(\"_build/html/index_npub_grid.html\", 'w') as fout:\n",
    "    fout.write(page)"
   ]
  }
 ],
 "metadata": {
  "kernelspec": {
   "display_name": "Python 3 (ipykernel)",
   "language": "python",
   "name": "python3"
  },
  "language_info": {
   "codemirror_mode": {
    "name": "ipython",
    "version": 3
   },
   "file_extension": ".py",
   "mimetype": "text/x-python",
   "name": "python",
   "nbconvert_exporter": "python",
   "pygments_lexer": "ipython3",
   "version": "3.9.18"
  },
  "papermill": {
   "default_parameters": {},
   "duration": 54.154937,
   "end_time": "2023-09-11T04:07:53.812593",
   "environment_variables": {},
   "exception": null,
   "input_path": "MPIA daily digest.ipynb",
   "output_path": "log.ipynb",
   "parameters": {},
   "start_time": "2023-09-11T04:06:59.657656",
   "version": "2.4.0"
  },
  "vscode": {
   "interpreter": {
    "hash": "aee8b7b246df8f9039afb4144a1f6fd8d2ca17a180786b69acc140d282b71a49"
   }
  },
  "widgets": {
   "application/vnd.jupyter.widget-state+json": {
    "state": {
     "1d7a164a582c4a67afce3c00a1fe7112": {
      "model_module": "@jupyter-widgets/base",
      "model_module_version": "2.0.0",
      "model_name": "LayoutModel",
      "state": {
       "_model_module": "@jupyter-widgets/base",
       "_model_module_version": "2.0.0",
       "_model_name": "LayoutModel",
       "_view_count": null,
       "_view_module": "@jupyter-widgets/base",
       "_view_module_version": "2.0.0",
       "_view_name": "LayoutView",
       "align_content": null,
       "align_items": null,
       "align_self": null,
       "border_bottom": null,
       "border_left": null,
       "border_right": null,
       "border_top": null,
       "bottom": null,
       "display": null,
       "flex": null,
       "flex_flow": null,
       "grid_area": null,
       "grid_auto_columns": null,
       "grid_auto_flow": null,
       "grid_auto_rows": null,
       "grid_column": null,
       "grid_gap": null,
       "grid_row": null,
       "grid_template_areas": null,
       "grid_template_columns": null,
       "grid_template_rows": null,
       "height": null,
       "justify_content": null,
       "justify_items": null,
       "left": null,
       "margin": null,
       "max_height": null,
       "max_width": null,
       "min_height": null,
       "min_width": null,
       "object_fit": null,
       "object_position": null,
       "order": null,
       "overflow": null,
       "padding": null,
       "right": null,
       "top": null,
       "visibility": null,
       "width": null
      }
     },
     "2cd0851b2aca492aac3554d7bbd0be0f": {
      "model_module": "@jupyter-widgets/controls",
      "model_module_version": "2.0.0",
      "model_name": "HTMLStyleModel",
      "state": {
       "_model_module": "@jupyter-widgets/controls",
       "_model_module_version": "2.0.0",
       "_model_name": "HTMLStyleModel",
       "_view_count": null,
       "_view_module": "@jupyter-widgets/base",
       "_view_module_version": "2.0.0",
       "_view_name": "StyleView",
       "background": null,
       "description_width": "",
       "font_size": null,
       "text_color": null
      }
     },
     "48c728f11e3240a5a018ef2ec1e5c9ac": {
      "model_module": "@jupyter-widgets/controls",
      "model_module_version": "2.0.0",
      "model_name": "ProgressStyleModel",
      "state": {
       "_model_module": "@jupyter-widgets/controls",
       "_model_module_version": "2.0.0",
       "_model_name": "ProgressStyleModel",
       "_view_count": null,
       "_view_module": "@jupyter-widgets/base",
       "_view_module_version": "2.0.0",
       "_view_name": "StyleView",
       "bar_color": null,
       "description_width": ""
      }
     },
     "4deacd6f41bc4d78bc5830350e0c1ad0": {
      "model_module": "@jupyter-widgets/controls",
      "model_module_version": "2.0.0",
      "model_name": "HTMLModel",
      "state": {
       "_dom_classes": [],
       "_model_module": "@jupyter-widgets/controls",
       "_model_module_version": "2.0.0",
       "_model_name": "HTMLModel",
       "_view_count": null,
       "_view_module": "@jupyter-widgets/controls",
       "_view_module_version": "2.0.0",
       "_view_name": "HTMLView",
       "description": "",
       "description_allow_html": false,
       "layout": "IPY_MODEL_f4c18b5977004664ada61d2d02a3beef",
       "placeholder": "​",
       "style": "IPY_MODEL_540e9edf74414e0ca391bb6f91993c6d",
       "tabbable": null,
       "tooltip": null,
       "value": "100%"
      }
     },
     "540e9edf74414e0ca391bb6f91993c6d": {
      "model_module": "@jupyter-widgets/controls",
      "model_module_version": "2.0.0",
      "model_name": "HTMLStyleModel",
      "state": {
       "_model_module": "@jupyter-widgets/controls",
       "_model_module_version": "2.0.0",
       "_model_name": "HTMLStyleModel",
       "_view_count": null,
       "_view_module": "@jupyter-widgets/base",
       "_view_module_version": "2.0.0",
       "_view_name": "StyleView",
       "background": null,
       "description_width": "",
       "font_size": null,
       "text_color": null
      }
     },
     "59abf46b961c498bb77867c1fce85365": {
      "model_module": "@jupyter-widgets/controls",
      "model_module_version": "2.0.0",
      "model_name": "HBoxModel",
      "state": {
       "_dom_classes": [],
       "_model_module": "@jupyter-widgets/controls",
       "_model_module_version": "2.0.0",
       "_model_name": "HBoxModel",
       "_view_count": null,
       "_view_module": "@jupyter-widgets/controls",
       "_view_module_version": "2.0.0",
       "_view_name": "HBoxView",
       "box_style": "",
       "children": [
        "IPY_MODEL_4deacd6f41bc4d78bc5830350e0c1ad0",
        "IPY_MODEL_6c08220bd3454f41bc4935e2659af2b4",
        "IPY_MODEL_7e810c79938f479a86ee0927ac228c60"
       ],
       "layout": "IPY_MODEL_d7c1feb7552a44f28379a7e898493daf",
       "tabbable": null,
       "tooltip": null
      }
     },
     "6c08220bd3454f41bc4935e2659af2b4": {
      "model_module": "@jupyter-widgets/controls",
      "model_module_version": "2.0.0",
      "model_name": "FloatProgressModel",
      "state": {
       "_dom_classes": [],
       "_model_module": "@jupyter-widgets/controls",
       "_model_module_version": "2.0.0",
       "_model_name": "FloatProgressModel",
       "_view_count": null,
       "_view_module": "@jupyter-widgets/controls",
       "_view_module_version": "2.0.0",
       "_view_name": "ProgressView",
       "bar_style": "success",
       "description": "",
       "description_allow_html": false,
       "layout": "IPY_MODEL_a40501b9193c426eba0f2bb7b3e8106e",
       "max": 3.0,
       "min": 0.0,
       "orientation": "horizontal",
       "style": "IPY_MODEL_48c728f11e3240a5a018ef2ec1e5c9ac",
       "tabbable": null,
       "tooltip": null,
       "value": 3.0
      }
     },
     "7e810c79938f479a86ee0927ac228c60": {
      "model_module": "@jupyter-widgets/controls",
      "model_module_version": "2.0.0",
      "model_name": "HTMLModel",
      "state": {
       "_dom_classes": [],
       "_model_module": "@jupyter-widgets/controls",
       "_model_module_version": "2.0.0",
       "_model_name": "HTMLModel",
       "_view_count": null,
       "_view_module": "@jupyter-widgets/controls",
       "_view_module_version": "2.0.0",
       "_view_name": "HTMLView",
       "description": "",
       "description_allow_html": false,
       "layout": "IPY_MODEL_1d7a164a582c4a67afce3c00a1fe7112",
       "placeholder": "​",
       "style": "IPY_MODEL_2cd0851b2aca492aac3554d7bbd0be0f",
       "tabbable": null,
       "tooltip": null,
       "value": " 3/3 [00:28&lt;00:00,  8.03s/it]"
      }
     },
     "a40501b9193c426eba0f2bb7b3e8106e": {
      "model_module": "@jupyter-widgets/base",
      "model_module_version": "2.0.0",
      "model_name": "LayoutModel",
      "state": {
       "_model_module": "@jupyter-widgets/base",
       "_model_module_version": "2.0.0",
       "_model_name": "LayoutModel",
       "_view_count": null,
       "_view_module": "@jupyter-widgets/base",
       "_view_module_version": "2.0.0",
       "_view_name": "LayoutView",
       "align_content": null,
       "align_items": null,
       "align_self": null,
       "border_bottom": null,
       "border_left": null,
       "border_right": null,
       "border_top": null,
       "bottom": null,
       "display": null,
       "flex": null,
       "flex_flow": null,
       "grid_area": null,
       "grid_auto_columns": null,
       "grid_auto_flow": null,
       "grid_auto_rows": null,
       "grid_column": null,
       "grid_gap": null,
       "grid_row": null,
       "grid_template_areas": null,
       "grid_template_columns": null,
       "grid_template_rows": null,
       "height": null,
       "justify_content": null,
       "justify_items": null,
       "left": null,
       "margin": null,
       "max_height": null,
       "max_width": null,
       "min_height": null,
       "min_width": null,
       "object_fit": null,
       "object_position": null,
       "order": null,
       "overflow": null,
       "padding": null,
       "right": null,
       "top": null,
       "visibility": null,
       "width": null
      }
     },
     "d7c1feb7552a44f28379a7e898493daf": {
      "model_module": "@jupyter-widgets/base",
      "model_module_version": "2.0.0",
      "model_name": "LayoutModel",
      "state": {
       "_model_module": "@jupyter-widgets/base",
       "_model_module_version": "2.0.0",
       "_model_name": "LayoutModel",
       "_view_count": null,
       "_view_module": "@jupyter-widgets/base",
       "_view_module_version": "2.0.0",
       "_view_name": "LayoutView",
       "align_content": null,
       "align_items": null,
       "align_self": null,
       "border_bottom": null,
       "border_left": null,
       "border_right": null,
       "border_top": null,
       "bottom": null,
       "display": null,
       "flex": null,
       "flex_flow": null,
       "grid_area": null,
       "grid_auto_columns": null,
       "grid_auto_flow": null,
       "grid_auto_rows": null,
       "grid_column": null,
       "grid_gap": null,
       "grid_row": null,
       "grid_template_areas": null,
       "grid_template_columns": null,
       "grid_template_rows": null,
       "height": null,
       "justify_content": null,
       "justify_items": null,
       "left": null,
       "margin": null,
       "max_height": null,
       "max_width": null,
       "min_height": null,
       "min_width": null,
       "object_fit": null,
       "object_position": null,
       "order": null,
       "overflow": null,
       "padding": null,
       "right": null,
       "top": null,
       "visibility": null,
       "width": null
      }
     },
     "f4c18b5977004664ada61d2d02a3beef": {
      "model_module": "@jupyter-widgets/base",
      "model_module_version": "2.0.0",
      "model_name": "LayoutModel",
      "state": {
       "_model_module": "@jupyter-widgets/base",
       "_model_module_version": "2.0.0",
       "_model_name": "LayoutModel",
       "_view_count": null,
       "_view_module": "@jupyter-widgets/base",
       "_view_module_version": "2.0.0",
       "_view_name": "LayoutView",
       "align_content": null,
       "align_items": null,
       "align_self": null,
       "border_bottom": null,
       "border_left": null,
       "border_right": null,
       "border_top": null,
       "bottom": null,
       "display": null,
       "flex": null,
       "flex_flow": null,
       "grid_area": null,
       "grid_auto_columns": null,
       "grid_auto_flow": null,
       "grid_auto_rows": null,
       "grid_column": null,
       "grid_gap": null,
       "grid_row": null,
       "grid_template_areas": null,
       "grid_template_columns": null,
       "grid_template_rows": null,
       "height": null,
       "justify_content": null,
       "justify_items": null,
       "left": null,
       "margin": null,
       "max_height": null,
       "max_width": null,
       "min_height": null,
       "min_width": null,
       "object_fit": null,
       "object_position": null,
       "order": null,
       "overflow": null,
       "padding": null,
       "right": null,
       "top": null,
       "visibility": null,
       "width": null
      }
     }
    },
    "version_major": 2,
    "version_minor": 0
   }
  }
 },
 "nbformat": 4,
 "nbformat_minor": 5
}