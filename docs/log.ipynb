{
 "cells": [
  {
   "cell_type": "markdown",
   "id": "92bcb855",
   "metadata": {
    "papermill": {
     "duration": 0.003728,
     "end_time": "2025-01-23T04:10:54.722652",
     "exception": false,
     "start_time": "2025-01-23T04:10:54.718924",
     "status": "completed"
    },
    "tags": []
   },
   "source": [
    "# MPIA Arxiv on Deck 2\n",
    "\n",
    "Contains the steps to produce the paper extractions."
   ]
  },
  {
   "cell_type": "code",
   "execution_count": 1,
   "id": "3a0d6e11",
   "metadata": {
    "execution": {
     "iopub.execute_input": "2025-01-23T04:10:54.730308Z",
     "iopub.status.busy": "2025-01-23T04:10:54.729833Z",
     "iopub.status.idle": "2025-01-23T04:10:55.065743Z",
     "shell.execute_reply": "2025-01-23T04:10:55.065102Z"
    },
    "papermill": {
     "duration": 0.34115,
     "end_time": "2025-01-23T04:10:55.067053",
     "exception": false,
     "start_time": "2025-01-23T04:10:54.725903",
     "status": "completed"
    },
    "tags": []
   },
   "outputs": [],
   "source": [
    "# Imports\n",
    "import os\n",
    "from IPython.display import Markdown, display\n",
    "from tqdm.notebook import tqdm\n",
    "import warnings\n",
    "from PIL import Image \n",
    "import re\n",
    "\n",
    "# requires arxiv_on_deck_2\n",
    "\n",
    "from arxiv_on_deck_2.arxiv2 import (get_new_papers, \n",
    "                                    get_paper_from_identifier,\n",
    "                                    retrieve_document_source, \n",
    "                                    get_markdown_badge)\n",
    "from arxiv_on_deck_2 import (latex,\n",
    "                             latex_bib,\n",
    "                             mpia,\n",
    "                             highlight_authors_in_list)\n",
    "\n",
    "# Sometimes images are really big\n",
    "Image.MAX_IMAGE_PIXELS = 1000000000 "
   ]
  },
  {
   "cell_type": "code",
   "execution_count": 2,
   "id": "22aa9d44",
   "metadata": {
    "execution": {
     "iopub.execute_input": "2025-01-23T04:10:55.074561Z",
     "iopub.status.busy": "2025-01-23T04:10:55.074067Z",
     "iopub.status.idle": "2025-01-23T04:10:55.082259Z",
     "shell.execute_reply": "2025-01-23T04:10:55.081595Z"
    },
    "papermill": {
     "duration": 0.012953,
     "end_time": "2025-01-23T04:10:55.083298",
     "exception": false,
     "start_time": "2025-01-23T04:10:55.070345",
     "status": "completed"
    },
    "tags": []
   },
   "outputs": [],
   "source": [
    "# Some useful definitions.\n",
    "\n",
    "class AffiliationWarning(UserWarning):\n",
    "    pass\n",
    "\n",
    "class AffiliationError(RuntimeError):\n",
    "    pass\n",
    "\n",
    "def validation(source: str):\n",
    "    \"\"\"Raises error paper during parsing of source file\n",
    "    \n",
    "    Allows checks before parsing TeX code.\n",
    "    \n",
    "    Raises AffiliationWarning\n",
    "    \"\"\"\n",
    "    check = mpia.affiliation_verifications(source, verbose=True)\n",
    "    if check is not True:\n",
    "        raise AffiliationError(\"mpia.affiliation_verifications: \" + check)\n",
    "\n",
    "        \n",
    "warnings.simplefilter('always', AffiliationWarning)\n",
    "\n",
    "\n",
    "def get_markdown_qrcode(paper_id: str):\n",
    "    \"\"\" Generate a qrcode to the arxiv page using qrserver.com\n",
    "    \n",
    "    :param paper: Arxiv paper\n",
    "    :returns: markdown text\n",
    "    \"\"\"\n",
    "    url = r\"https://api.qrserver.com/v1/create-qr-code/?size=100x100&data=\"\n",
    "    txt = f\"\"\"<img src={url}\"https://arxiv.org/abs/{paper_id}\">\"\"\"\n",
    "    txt = '<div id=\"qrcode\">' + txt + '</div>'\n",
    "    return txt\n",
    "\n",
    "\n",
    "def clean_non_western_encoded_characters_commands(text: str) -> str:\n",
    "    \"\"\" Remove non-western encoded characters from a string\n",
    "    List may need to grow.\n",
    "    \n",
    "    :param text: the text to clean\n",
    "    :return: the cleaned text\n",
    "    \"\"\"\n",
    "    text = re.sub(r\"(\\\\begin{CJK}{UTF8}{gbsn})(.*?)(\\\\end{CJK})\", r\"\\2\", text)\n",
    "    return text\n",
    "\n",
    "\n",
    "def get_initials(name: str) -> str:\n",
    "    \"\"\" Get the short name, e.g., A.-B. FamName\n",
    "    :param name: full name\n",
    "    :returns: initials\n",
    "    \"\"\"\n",
    "    initials = []\n",
    "    # account for non western names often in ()\n",
    "    if '(' in name:\n",
    "        name = clean_non_western_encoded_characters_commands(name)\n",
    "        suffix = re.findall(r\"\\((.*?)\\)\", name)[0]\n",
    "        name = name.replace(f\"({suffix})\", '')\n",
    "    else:\n",
    "        suffix = ''\n",
    "    split = name.split()\n",
    "    for token in split[:-1]:\n",
    "        if '-' in token:\n",
    "            current = '-'.join([k[0] + '.' for k in token.split('-')])\n",
    "        else:\n",
    "            current = token[0] + '.'\n",
    "        initials.append(current)\n",
    "    initials.append(split[-1].strip())\n",
    "    if suffix:\n",
    "        initials.append(f\"({suffix})\")\n",
    "    return ' '.join(initials)"
   ]
  },
  {
   "cell_type": "markdown",
   "id": "14bd6310",
   "metadata": {
    "papermill": {
     "duration": 0.002872,
     "end_time": "2025-01-23T04:10:55.089133",
     "exception": false,
     "start_time": "2025-01-23T04:10:55.086261",
     "status": "completed"
    },
    "tags": []
   },
   "source": [
    "## get list of arxiv paper candidates\n",
    "\n",
    "We use the MPIA mitarbeiter list webpage from mpia.de to get author names\n",
    "We then get all new papers from Arxiv and match authors"
   ]
  },
  {
   "cell_type": "code",
   "execution_count": 3,
   "id": "7ea813a8",
   "metadata": {
    "execution": {
     "iopub.execute_input": "2025-01-23T04:10:55.097683Z",
     "iopub.status.busy": "2025-01-23T04:10:55.097293Z",
     "iopub.status.idle": "2025-01-23T04:11:12.195226Z",
     "shell.execute_reply": "2025-01-23T04:11:12.194518Z"
    },
    "papermill": {
     "duration": 17.104414,
     "end_time": "2025-01-23T04:11:12.196421",
     "exception": false,
     "start_time": "2025-01-23T04:10:55.092007",
     "status": "completed"
    },
    "tags": []
   },
   "outputs": [],
   "source": [
    "# deal with the author list and edge cases of people that cannot be consistent on their name  \n",
    "\n",
    "def filter_non_scientists(name: str) -> bool:\n",
    "    \"\"\" Loose filter on expected authorships\n",
    "\n",
    "    removing IT, administration, technical staff\n",
    "    :param name: name\n",
    "    :returns: False if name is not a scientist\n",
    "    \"\"\"\n",
    "    remove_list = ['Licht', 'Binroth', 'Witzel', 'Jordan',\n",
    "                   'Zähringer', 'Scheerer', 'Hoffmann', 'Düe',\n",
    "                   'Hellmich', 'Enkler-Scharpegge', 'Witte-Nguy',\n",
    "                   'Dehen', 'Beckmann', 'Jager', 'Jäger'\n",
    "                  ]\n",
    "\n",
    "    for k in remove_list:\n",
    "        if k in name:\n",
    "            return False\n",
    "    return True\n",
    "\n",
    "def add_author_to_list(author_list: list) -> list:\n",
    "    \"\"\" Add author to list if not already in list\n",
    "    \n",
    "    :param author: author name\n",
    "    :param author_list: list of authors\n",
    "    :returns: updated list of authors\n",
    "    \"\"\"\n",
    "    add_list = ['T. Henning']\n",
    "\n",
    "    for author in add_list:\n",
    "        if author not in author_list:\n",
    "            author_list.append(author)\n",
    "    return author_list\n",
    "\n",
    "# get list from MPIA website\n",
    "# filter for non-scientists (mpia.get_mpia_mitarbeiter_list() does some filtering)\n",
    "mpia_authors = [k[1] for k in mpia.get_mpia_mitarbeiter_list() if filter_non_scientists(k[1])]\n",
    "# add some missing author because of inconsistencies in their MPIA name and author name on papers\n",
    "mpia_authors = add_author_to_list(mpia_authors)"
   ]
  },
  {
   "cell_type": "code",
   "execution_count": 4,
   "id": "2645e73a",
   "metadata": {
    "execution": {
     "iopub.execute_input": "2025-01-23T04:11:12.203790Z",
     "iopub.status.busy": "2025-01-23T04:11:12.203402Z",
     "iopub.status.idle": "2025-01-23T04:11:12.728038Z",
     "shell.execute_reply": "2025-01-23T04:11:12.727403Z"
    },
    "papermill": {
     "duration": 0.529298,
     "end_time": "2025-01-23T04:11:12.729063",
     "exception": false,
     "start_time": "2025-01-23T04:11:12.199765",
     "status": "completed"
    },
    "tags": []
   },
   "outputs": [
    {
     "name": "stdout",
     "output_type": "stream",
     "text": [
      "A. Pillepich  ->  A. Pillepich  |  ['A. Pillepich']\n",
      "S. Belladitta  ->  S. Belladitta  |  ['S. Belladitta']\n",
      "J. Liu  ->  J. Liu  |  ['J. Liu']\n"
     ]
    },
    {
     "name": "stdout",
     "output_type": "stream",
     "text": [
      "Arxiv has 63 new papers today\n",
      "          3 with possible author matches\n"
     ]
    }
   ],
   "source": [
    "new_papers = get_new_papers()\n",
    "# add manual references\n",
    "add_paper_refs = []\n",
    "new_papers.extend([get_paper_from_identifier(k) for k in add_paper_refs])\n",
    "\n",
    "def robust_call(fn, value, *args, **kwargs):\n",
    "    try:\n",
    "        return fn(value, *args, **kwargs)\n",
    "    except Exception:\n",
    "        return value\n",
    "\n",
    "candidates = []\n",
    "for paperk in new_papers:\n",
    "    # Check author list with their initials\n",
    "    normed_author_list = [robust_call(mpia.get_initials, k) for k in paperk['authors']]\n",
    "    hl_authors = highlight_authors_in_list(normed_author_list, mpia_authors, verbose=True)\n",
    "    matches = [(hl, orig) for hl, orig in zip(hl_authors, paperk['authors']) if 'mark' in hl]\n",
    "    paperk['authors'] = hl_authors\n",
    "    if matches:\n",
    "        # only select paper if an author matched our list\n",
    "        candidates.append(paperk)\n",
    "print(\"\"\"Arxiv has {0:,d} new papers today\"\"\".format(len(new_papers)))        \n",
    "print(\"\"\"          {0:,d} with possible author matches\"\"\".format(len(candidates)))"
   ]
  },
  {
   "cell_type": "markdown",
   "id": "3543b34a",
   "metadata": {
    "papermill": {
     "duration": 0.003092,
     "end_time": "2025-01-23T04:11:12.735685",
     "exception": false,
     "start_time": "2025-01-23T04:11:12.732593",
     "status": "completed"
    },
    "tags": []
   },
   "source": [
    "# Parse sources and generate relevant outputs\n",
    "\n",
    "From the candidates, we do the following steps:\n",
    "* get their tarball from ArXiv (and extract data)\n",
    "* find the main .tex file: find one with \\documentclass{...} (sometimes it's non trivial)\n",
    "* Check affiliations with :func:`validation`, which uses :func:`mpia.affiliation_verifications`\n",
    "* If passing the affiliations: we parse the .tex source\n",
    "   * inject sub-documents into the main (flatten the main document)\n",
    "   * parse structure, extract information (title, abstract, authors, figures...)\n",
    "   * handles `\\graphicspath` if provided\n",
    "* Generate the .md document."
   ]
  },
  {
   "cell_type": "code",
   "execution_count": 5,
   "id": "9576b79e",
   "metadata": {
    "execution": {
     "iopub.execute_input": "2025-01-23T04:11:12.743046Z",
     "iopub.status.busy": "2025-01-23T04:11:12.742592Z",
     "iopub.status.idle": "2025-01-23T04:12:55.653598Z",
     "shell.execute_reply": "2025-01-23T04:12:55.652860Z"
    },
    "papermill": {
     "duration": 102.916093,
     "end_time": "2025-01-23T04:12:55.654899",
     "exception": false,
     "start_time": "2025-01-23T04:11:12.738806",
     "status": "completed"
    },
    "scrolled": false,
    "tags": []
   },
   "outputs": [
    {
     "data": {
      "application/vnd.jupyter.widget-view+json": {
       "model_id": "831ffe155e1447bb8f8c980f25d1a3a1",
       "version_major": 2,
       "version_minor": 0
      },
      "text/plain": [
       "  0%|          | 0/3 [00:00<?, ?it/s]"
      ]
     },
     "metadata": {},
     "output_type": "display_data"
    },
    {
     "name": "stdout",
     "output_type": "stream",
     "text": [
      "Retrieving document from  https://arxiv.org/e-print/2501.12439\n",
      "extracting tarball to tmp_2501.12439..."
     ]
    },
    {
     "name": "stdout",
     "output_type": "stream",
     "text": [
      " done.\n"
     ]
    },
    {
     "name": "stdout",
     "output_type": "stream",
     "text": [
      "Found 125 bibliographic references in tmp_2501.12439/aanda.bbl.\n",
      "Retrieving document from  https://arxiv.org/e-print/2501.12449\n",
      "extracting tarball to tmp_2501.12449... done.\n"
     ]
    },
    {
     "name": "stdout",
     "output_type": "stream",
     "text": [
      "S. Belladitta  ->  S. Belladitta  |  ['S. Belladitta']\n"
     ]
    },
    {
     "name": "stdout",
     "output_type": "stream",
     "text": [
      "Found 62 bibliographic references in tmp_2501.12449/J1641_monitoring_Letter.bbl.\n",
      "Retrieving document from  https://arxiv.org/e-print/2501.12760\n"
     ]
    },
    {
     "name": "stdout",
     "output_type": "stream",
     "text": [
      "extracting tarball to tmp_2501.12760..."
     ]
    },
    {
     "name": "stdout",
     "output_type": "stream",
     "text": [
      " done.\n",
      "  0: tmp_2501.12760/natbib.tex, 96 lines\n",
      "  1: tmp_2501.12760/sample631.tex, 535 lines\n",
      "  2: tmp_2501.12760/natnotes.tex, 332 lines\n",
      "  3: tmp_2501.12760/aassymbols.tex, 579 lines\n"
     ]
    },
    {
     "name": "stderr",
     "output_type": "stream",
     "text": [
      "/opt/hostedtoolcache/Python/3.9.21/x64/lib/python3.9/site-packages/IPython/core/interactiveshell.py:3550: LatexWarning: Multiple tex files.\n",
      "\n",
      "  exec(code_obj, self.user_global_ns, self.user_ns)\n",
      "/opt/hostedtoolcache/Python/3.9.21/x64/lib/python3.9/site-packages/IPython/core/interactiveshell.py:3550: LatexWarning: Found 4 candidates with documentclass definition.\n",
      "  exec(code_obj, self.user_global_ns, self.user_ns)\n",
      "/opt/hostedtoolcache/Python/3.9.21/x64/lib/python3.9/site-packages/IPython/core/interactiveshell.py:3550: LatexWarning: Assuming tmp_2501.12760/aassymbols.tex as main document.\n",
      "  exec(code_obj, self.user_global_ns, self.user_ns)\n"
     ]
    }
   ],
   "source": [
    "documents = []\n",
    "failed = []\n",
    "for paper in tqdm(candidates):\n",
    "    # debug crap\n",
    "    paper['identifier'] = paper['identifier'].lower().replace('arxiv:', '').replace(r'\\n', '').strip()\n",
    "    paper_id = paper['identifier']\n",
    "    \n",
    "    folder = f'tmp_{paper_id}'\n",
    "\n",
    "    try:\n",
    "        if not os.path.isdir(folder):\n",
    "            folder = retrieve_document_source(f\"{paper_id}\", f'tmp_{paper_id}')\n",
    "        \n",
    "        try:\n",
    "            doc = latex.LatexDocument(folder, validation=validation)    \n",
    "        except AffiliationError as affilerror:\n",
    "            msg = f\"ArXiv:{paper_id:s} is not an MPIA paper... \" + str(affilerror)\n",
    "            failed.append((paper, \"affiliation error: \" + str(affilerror) ))\n",
    "            continue\n",
    "        \n",
    "        # Hack because sometimes author parsing does not work well\n",
    "        if (len(doc.authors) != len(paper['authors'])):\n",
    "            doc._authors = paper['authors']\n",
    "        else:\n",
    "            # highlight authors (FIXME: doc.highlight_authors)\n",
    "            # done on arxiv paper already\n",
    "            doc._authors = highlight_authors_in_list(\n",
    "                [get_initials(k) for k in doc.authors], \n",
    "                mpia_authors, verbose=True)\n",
    "        if (doc.abstract) in (None, ''):\n",
    "            doc._abstract = paper['abstract']\n",
    "            \n",
    "        doc.comment = (get_markdown_badge(paper_id) + \n",
    "                       \"<mark>Appeared on: \" + paper['date'] + \"</mark> - \")\n",
    "        if paper['comments']:\n",
    "            doc.comment += \" _\" + paper['comments'] + \"_\"\n",
    "        \n",
    "        full_md = doc.generate_markdown_text()\n",
    "        \n",
    "        full_md += get_markdown_qrcode(paper_id)\n",
    "        \n",
    "        # replace citations\n",
    "        try:\n",
    "            bibdata = latex_bib.LatexBib.from_doc(doc)\n",
    "            full_md = latex_bib.replace_citations(full_md, bibdata)\n",
    "        except Exception as e:\n",
    "            print(\"Issues with the citations\")\n",
    "            print(e)\n",
    "        \n",
    "        documents.append((paper_id, full_md))\n",
    "    except Exception as e:\n",
    "        warnings.warn(latex.LatexWarning(f\"{paper_id:s} did not run properly\\n\" +\n",
    "                                         str(e)\n",
    "                                        ))\n",
    "        failed.append((paper, \"latex error \" + str(e)))"
   ]
  },
  {
   "cell_type": "markdown",
   "id": "2505a25c",
   "metadata": {
    "papermill": {
     "duration": 0.003611,
     "end_time": "2025-01-23T04:12:55.662415",
     "exception": false,
     "start_time": "2025-01-23T04:12:55.658804",
     "status": "completed"
    },
    "tags": []
   },
   "source": [
    "### Export the logs\n",
    "\n",
    "Throughout, we also keep track of the logs per paper. see `logs-{today date}.md` "
   ]
  },
  {
   "cell_type": "code",
   "execution_count": 6,
   "id": "d733828a",
   "metadata": {
    "execution": {
     "iopub.execute_input": "2025-01-23T04:12:55.671309Z",
     "iopub.status.busy": "2025-01-23T04:12:55.670674Z",
     "iopub.status.idle": "2025-01-23T04:12:55.684697Z",
     "shell.execute_reply": "2025-01-23T04:12:55.684128Z"
    },
    "papermill": {
     "duration": 0.019583,
     "end_time": "2025-01-23T04:12:55.685686",
     "exception": false,
     "start_time": "2025-01-23T04:12:55.666103",
     "status": "completed"
    },
    "scrolled": false,
    "tags": []
   },
   "outputs": [
    {
     "data": {
      "text/markdown": [
       "## Successful papers"
      ],
      "text/plain": [
       "<IPython.core.display.Markdown object>"
      ]
     },
     "metadata": {},
     "output_type": "display_data"
    },
    {
     "data": {
      "text/markdown": [
       "\n",
       "|||\n",
       "|---:|:---|\n",
       "| [![arXiv](https://img.shields.io/badge/arXiv-2501.12439-b31b1b.svg)](https://arxiv.org/abs/2501.12439) | **Introducing the AIDA-TNG project: galaxy formation in alternative dark matter models**  |\n",
       "|| G. Despali, et al. -- incl., <mark>A. Pillepich</mark> |\n",
       "|*Appeared on*| *2025-01-23*|\n",
       "|*Comments*| *20 pages, 18 figures, submitted to A&A. Comments welcome, get in touch to know more about opportunities to use the runs - this https URL*|\n",
       "|**Abstract**|            We introduce the AIDA-TNG project, a suite of cosmological magnetohydrodynamic simulations that simultaneously model galaxy formation and different variations of the underlying dark matter model. We consider the standard cold dark matter model and five variations, including three warm dark matter scenarios and two self-interacting models with constant or velocity-dependent cross-section. In each model, we simulate two cosmological boxes of 51.7 and 110.7 Mpc on a side, with the same initial conditions as TNG50 and TNG100, and combine the variations in the physics of dark matter with the fiducial IllustrisTNG galaxy formation model. The AIDA-TNG runs are thus ideal for studying the simultaneous effect of baryons and alternative dark matter models on observable properties of galaxies and large-scale structures. We resolve haloes in the range between $10^{8}$ and $4\\times10^{14}\\,$M$_{\\odot}$ and scales down to the nominal resolution of 570 pc in the highest resolution runs. This work presents the first results on statistical quantities such as the halo mass function and the matter power spectrum; we quantify the modification in the number of haloes and the power on scales smaller than 1 Mpc, due to the combination of baryonic and dark matter physics. Despite being calibrated on cold dark matter, we find that the TNG galaxy formation model can produce a realistic galaxy population in all scenarios. The stellar and gas mass fraction, stellar mass function, black hole mass as a function of stellar mass and star formation rate density are very similar in all dark matter models, with some deviations only in the most extreme warm dark matter model. Finally, we also quantify changes in halo structure due to warm and self-interacting dark matter, which appear in the density profiles, concentration-mass relation and galaxy sizes.         |"
      ],
      "text/plain": [
       "[2501.12439] Introducing the AIDA-TNG project: galaxy formation in alternative dark matter models\n",
       "\tG. Despali, et al. -- incl., <mark>A. Pillepich</mark>"
      ]
     },
     "metadata": {},
     "output_type": "display_data"
    },
    {
     "data": {
      "text/markdown": [
       "\n",
       "|||\n",
       "|---:|:---|\n",
       "| [![arXiv](https://img.shields.io/badge/arXiv-2501.12449-b31b1b.svg)](https://arxiv.org/abs/2501.12449) | **Intervening nuclear obscuration changing the X-ray look of the $z\\approx6$ QSO CFHQS J164121+375520**  |\n",
       "|| F. Vito, et al. -- incl., <mark>S. Belladitta</mark> |\n",
       "|*Appeared on*| *2025-01-23*|\n",
       "|*Comments*| *Accepted for publication on A&A Letters*|\n",
       "|**Abstract**|            X-ray observations of the optically selected $z=6.025$ QSO CFHQS J164121+375520 (hereafter J1641) revealed that its flux dropped by a factor $\\gtrsim7$ from 2018, when it was a bright and soft X-ray source, to 2021. Such a strong variability amplitude has not been observed before among $z>6$ QSOs, and the underlying physical mechanism was unclear. We carried out a new X-ray and rest-frame UV monitoring campaign of J1641 over 2022-2024. We detected J1641 with Chandra in the 2-7 keV band, while no significant emission is detected at softer X-ray energies, making J1641 an X-ray changing look QSO at $z>6$. Comparing with the 2018 epoch, the 0.5-2 keV flux dropped dramatically by a factor $>20$. We ascribe this behaviour to intervening, and still ongoing, obscuration by Compton-thick gas intercepting our line of sight between 2018 and 2021. The screening material could be an inner disk or a failed nuclear wind that increased their thickness. Another possibility is that we have witnessed an occultation event due to dust-free clouds located at sub-pc/pc scales, similar to those recently invoked to explain the remarkable X-ray weakness of AGN discovered by JWST. These interpretations are also consistent with the lack of strong variations of the QSO rest-frame UV lightcurve over the same period. Future monitoring of J1641 and the possible discovery of other X-ray changing look QSOs at $z>6$ will provide us with precious information about the physics of rapid supermassive black-hole growth at high redshift.         |"
      ],
      "text/plain": [
       "[2501.12449] Intervening nuclear obscuration changing the X-ray look of the $z\\approx6$ QSO CFHQS J164121+375520\n",
       "\tF. Vito, et al. -- incl., <mark>S. Belladitta</mark>"
      ]
     },
     "metadata": {},
     "output_type": "display_data"
    },
    {
     "data": {
      "text/markdown": [
       "## Failed papers"
      ],
      "text/plain": [
       "<IPython.core.display.Markdown object>"
      ]
     },
     "metadata": {},
     "output_type": "display_data"
    },
    {
     "data": {
      "text/markdown": [
       "\n",
       "|||\n",
       "|---:|:---|\n",
       "| [![arXiv](https://img.shields.io/badge/arXiv-2501.12760-b31b1b.svg)](https://arxiv.org/abs/2501.12760) | **The Impact of Bar-induced Non-Circular Motions on the Measurement of Galactic Rotation Curves**  |\n",
       "|| <mark>J. Liu</mark>, Z. Li, J. Shen |\n",
       "|*Appeared on*| *2025-01-23*|\n",
       "|*Comments*| *19 pages, 12 figures, ApJ accepted*|\n",
       "|**Abstract**|            We study the impact of bar-induced non-circular motions on the derivation of galactic rotation curves (RCs) using hydrodynamic simulations and observational data from the PHANGS-ALMA survey. We confirm that non-circular motions induced by a bar can significantly bias RCs derived from the conventional tilted-ring method, consistent with previous findings. The shape of the derived RC depends on the position angle difference ($\\Delta \\phi$) between the major axes of the bar and the disk in the face-on plane. For $\\left|\\Delta \\phi\\right|\\lesssim40^\\circ$, non-circular motions produce a bar-induced \"dip\" feature (rise-drop-rise pattern) in the derived RC, which shows higher velocities near the nuclear ring and lower velocities in the bar region compared to the true RC (${\\mathrm{RC_{true}}}$). We demonstrate convincingly that such dip features are very common in the PHANGS-ALMA barred galaxies sample. Hydrodynamical simulations reveal that the \"dip\" feature is caused by the perpendicular orientation of the gas flows in the nuclear ring and the bar; at low $\\left|\\Delta \\phi\\right|$ streamlines in the nuclear ring tend to enhance $V_\\mathrm{los}$, while those in the bar tend to suppress $V_\\mathrm{los}$. We use a simple {\\misaell} model to qualitatively explain the general trend of RCs from the tilted-ring method (${\\mathrm{RC_{tilted}}}$) and the discrepancy between ${\\mathrm{RC_{tilted}}}$ and ${\\mathrm{RC_{true}}}$. Furthermore, we propose a straightforward method to implement a first-order correction to the RC derived from the tilted-ring method. Our study is the first to systematically discuss the bar-induced \"dip\" feature in the RCs of barred galaxies combining both simulations and observations.         |\n",
       "|<p style=\"color:green\"> **ERROR** </p>| <p style=\"color:green\">affiliation error: mpia.affiliation_verifications: 'Heidelberg' keyword not found.</p> |"
      ],
      "text/plain": [
       "<IPython.core.display.Markdown object>"
      ]
     },
     "metadata": {},
     "output_type": "display_data"
    }
   ],
   "source": [
    "import datetime\n",
    "today = str(datetime.date.today())\n",
    "logfile = f\"_build/html/logs/log-{today}.md\"\n",
    "\n",
    "\n",
    "with open(logfile, 'w') as logs:\n",
    "    # Success\n",
    "    logs.write(f'# Arxiv on Deck 2: Logs - {today}\\n\\n')\n",
    "    logs.write(\"\"\"* Arxiv had {0:,d} new papers\\n\"\"\".format(len(new_papers)))\n",
    "    logs.write(\"\"\"    * {0:,d} with possible author matches\\n\\n\"\"\".format(len(candidates)))\n",
    "    logs.write(\"## Sucessful papers\\n\\n\")\n",
    "    display(Markdown(\"## Successful papers\"))\n",
    "    success = [k[0] for k in documents]\n",
    "    for candid in candidates:\n",
    "        if candid['identifier'].split(':')[-1] in success:\n",
    "            display(candid)\n",
    "            logs.write(candid.generate_markdown_text() + '\\n\\n')\n",
    "\n",
    "    ## failed\n",
    "    logs.write(\"## Failed papers\\n\\n\")\n",
    "    display(Markdown(\"## Failed papers\"))\n",
    "    failed = sorted(failed, key=lambda x: x[1])\n",
    "    current_reason = \"\"\n",
    "    for paper, reason in failed:\n",
    "        if 'affiliation' in reason:\n",
    "            color = 'green'\n",
    "        else:\n",
    "            color = 'red'\n",
    "        data = Markdown(\n",
    "                paper.generate_markdown_text() + \n",
    "                f'\\n|<p style=\"color:{color:s}\"> **ERROR** </p>| <p style=\"color:{color:s}\">{reason:s}</p> |'\n",
    "               )\n",
    "        if reason != current_reason:\n",
    "            logs.write(f'### {reason:s} \\n\\n')\n",
    "            current_reason = reason\n",
    "        logs.write(data.data + '\\n\\n')\n",
    "        \n",
    "        # only display here the important errors (all in logs)\n",
    "        # if color in ('red',):\n",
    "        display(data)"
   ]
  },
  {
   "cell_type": "markdown",
   "id": "472d20ee",
   "metadata": {
    "papermill": {
     "duration": 0.004072,
     "end_time": "2025-01-23T04:12:55.694060",
     "exception": false,
     "start_time": "2025-01-23T04:12:55.689988",
     "status": "completed"
    },
    "tags": []
   },
   "source": [
    "## Export documents\n",
    "\n",
    "We now write the .md files and export relevant images"
   ]
  },
  {
   "cell_type": "code",
   "execution_count": 7,
   "id": "d426aed9",
   "metadata": {
    "execution": {
     "iopub.execute_input": "2025-01-23T04:12:55.703459Z",
     "iopub.status.busy": "2025-01-23T04:12:55.702998Z",
     "iopub.status.idle": "2025-01-23T04:12:55.710096Z",
     "shell.execute_reply": "2025-01-23T04:12:55.709536Z"
    },
    "papermill": {
     "duration": 0.01298,
     "end_time": "2025-01-23T04:12:55.711091",
     "exception": false,
     "start_time": "2025-01-23T04:12:55.698111",
     "status": "completed"
    },
    "tags": []
   },
   "outputs": [],
   "source": [
    "def export_markdown_summary(md: str, md_fname:str, directory: str):\n",
    "    \"\"\"Export MD document and associated relevant images\"\"\"\n",
    "    import os\n",
    "    import shutil\n",
    "    import re\n",
    "\n",
    "    if (os.path.exists(directory) and not os.path.isdir(directory)):\n",
    "        raise RuntimeError(f\"a non-directory file exists with name {directory:s}\")\n",
    "\n",
    "    if (not os.path.exists(directory)):\n",
    "        print(f\"creating directory {directory:s}\")\n",
    "        os.mkdir(directory)\n",
    "\n",
    "    fig_fnames = (re.compile(r'\\[Fig.*\\]\\((.*)\\)').findall(md) + \n",
    "                  re.compile(r'\\<img src=\"([^>\\s]*)\"[^>]*/>').findall(md))\n",
    "    print(\"found figures\", fig_fnames)\n",
    "    for fname in fig_fnames:\n",
    "        if 'http' in fname:\n",
    "            # No need to copy online figures\n",
    "            continue\n",
    "        if not os.path.exists(fname):\n",
    "            print(\"file not found\", fname)\n",
    "            continue\n",
    "        print(\"copying \", fname, \"to\", directory)\n",
    "        destdir = os.path.join(directory, os.path.dirname(fname))\n",
    "        destfname = os.path.join(destdir, os.path.basename(fname))\n",
    "        try:\n",
    "            os.makedirs(destdir)\n",
    "        except FileExistsError:\n",
    "            pass\n",
    "        shutil.copy(fname, destfname)\n",
    "    with open(os.path.join(directory, md_fname), 'w') as fout:\n",
    "        fout.write(md)\n",
    "    print(\"exported in \", os.path.join(directory, md_fname))\n",
    "    [print(\"    + \" + os.path.join(directory,fk)) for fk in fig_fnames]"
   ]
  },
  {
   "cell_type": "code",
   "execution_count": 8,
   "id": "014d04a4",
   "metadata": {
    "execution": {
     "iopub.execute_input": "2025-01-23T04:12:55.720383Z",
     "iopub.status.busy": "2025-01-23T04:12:55.720163Z",
     "iopub.status.idle": "2025-01-23T04:12:55.734658Z",
     "shell.execute_reply": "2025-01-23T04:12:55.733965Z"
    },
    "papermill": {
     "duration": 0.020292,
     "end_time": "2025-01-23T04:12:55.735680",
     "exception": false,
     "start_time": "2025-01-23T04:12:55.715388",
     "status": "completed"
    },
    "tags": []
   },
   "outputs": [
    {
     "name": "stdout",
     "output_type": "stream",
     "text": [
      "found figures ['tmp_2501.12439/./figures/profiles_dm3.png', 'tmp_2501.12439/./figures/mass_func_dmo.png', 'tmp_2501.12439/./figures/mass_func_hydro.png', 'tmp_2501.12439/./figures/halo386.png']\n",
      "copying  tmp_2501.12439/./figures/profiles_dm3.png to _build/html/\n",
      "copying  tmp_2501.12439/./figures/mass_func_dmo.png to _build/html/\n",
      "copying  tmp_2501.12439/./figures/mass_func_hydro.png to _build/html/\n",
      "copying  tmp_2501.12439/./figures/halo386.png to _build/html/\n",
      "exported in  _build/html/2501.12439.md\n",
      "    + _build/html/tmp_2501.12439/./figures/profiles_dm3.png\n",
      "    + _build/html/tmp_2501.12439/./figures/mass_func_dmo.png\n",
      "    + _build/html/tmp_2501.12439/./figures/mass_func_hydro.png\n",
      "    + _build/html/tmp_2501.12439/./figures/halo386.png\n",
      "found figures ['tmp_2501.12449/./J1641_UV_Xrayflux_lightcurve_NH_resize.png', 'tmp_2501.12449/./Xray_images_square.png']\n",
      "copying  tmp_2501.12449/./J1641_UV_Xrayflux_lightcurve_NH_resize.png to _build/html/\n",
      "copying  tmp_2501.12449/./Xray_images_square.png to _build/html/\n",
      "exported in  _build/html/2501.12449.md\n",
      "    + _build/html/tmp_2501.12449/./J1641_UV_Xrayflux_lightcurve_NH_resize.png\n",
      "    + _build/html/tmp_2501.12449/./Xray_images_square.png\n"
     ]
    }
   ],
   "source": [
    "for paper_id, md in documents:\n",
    "    export_markdown_summary(md, f\"{paper_id:s}.md\", '_build/html/')"
   ]
  },
  {
   "cell_type": "markdown",
   "id": "f087a0a7",
   "metadata": {
    "papermill": {
     "duration": 0.004123,
     "end_time": "2025-01-23T04:12:55.744320",
     "exception": false,
     "start_time": "2025-01-23T04:12:55.740197",
     "status": "completed"
    },
    "tags": []
   },
   "source": [
    "## Display the papers\n",
    "\n",
    "Not necessary but allows for a quick check."
   ]
  },
  {
   "cell_type": "code",
   "execution_count": 9,
   "id": "fd25f625",
   "metadata": {
    "execution": {
     "iopub.execute_input": "2025-01-23T04:12:55.753813Z",
     "iopub.status.busy": "2025-01-23T04:12:55.753461Z",
     "iopub.status.idle": "2025-01-23T04:12:55.759638Z",
     "shell.execute_reply": "2025-01-23T04:12:55.758961Z"
    },
    "papermill": {
     "duration": 0.012109,
     "end_time": "2025-01-23T04:12:55.760634",
     "exception": false,
     "start_time": "2025-01-23T04:12:55.748525",
     "status": "completed"
    },
    "scrolled": false,
    "tags": []
   },
   "outputs": [
    {
     "data": {
      "text/markdown": [
       "<div class=\"macros\" style=\"visibility:hidden;\">\n",
       "$\\newcommand{\\ensuremath}{}$\n",
       "$\\newcommand{\\xspace}{}$\n",
       "$\\newcommand{\\object}[1]{\\texttt{#1}}$\n",
       "$\\newcommand{\\farcs}{{.}''}$\n",
       "$\\newcommand{\\farcm}{{.}'}$\n",
       "$\\newcommand{\\arcsec}{''}$\n",
       "$\\newcommand{\\arcmin}{'}$\n",
       "$\\newcommand{\\ion}[2]{#1#2}$\n",
       "$\\newcommand{\\textsc}[1]{\\textrm{#1}}$\n",
       "$\\newcommand{\\hl}[1]{\\textrm{#1}}$\n",
       "$\\newcommand{\\footnote}[1]{}$\n",
       "$\\newcommand{\\arraystretch}{1.3}$</div>\n",
       "\n",
       "\n",
       "\n",
       "<div id=\"title\">\n",
       "\n",
       "# Introducing the AIDA-TNG project:\\\\galaxy formation in alternative dark matter models\n",
       "\n",
       "</div>\n",
       "<div id=\"comments\">\n",
       "\n",
       "[![arXiv](https://img.shields.io/badge/arXiv-2501.12439-b31b1b.svg)](https://arxiv.org/abs/2501.12439)<mark>Appeared on: 2025-01-23</mark> -  _20 pages, 18 figures, submitted to A&A. Comments welcome, get in touch to know more about opportunities to use the runs - this https URL_\n",
       "\n",
       "</div>\n",
       "<div id=\"authors\">\n",
       "\n",
       "G. Despali, et al. -- incl., <mark>A. Pillepich</mark>\n",
       "\n",
       "</div>\n",
       "<div id=\"abstract\">\n",
       "\n",
       "**Abstract:** We introduce the AIDA-TNG project, a suite of cosmological magnetohydrodynamic simulations that simultaneously model galaxy formation and different variations of the underlying dark matter model. We consider the standard cold dark matter model and five variations, including three warm dark matter scenarios and two self-interacting models with constant or velocity-dependent cross-section. In each model, we simulate two cosmological boxes of 51.7 and 110.7 Mpc on a side, with the same initial conditions as TNG50 and TNG100, and combine the variations in the physics of dark matter with the fiducial IllustrisTNG galaxy formation model. The AIDA-TNG runs are thus ideal for studying the simultaneous effect of baryons and alternative dark matter models on observable properties of galaxies and large-scale structures. We resolve haloes in the range between $10^{8}$ and $4\\times10^{14} $ M $_{\\odot}$ and scales down to the nominal resolution of 570 pc in the highest resolution runs. This work presents the first results on statistical quantities such as the halo mass function and the matter power spectrum; we quantify the modification in the number of haloes and the power on scales smaller than 1 Mpc, due to the combination of baryonic and dark matter physics. Despite being calibrated on cold dark matter, we find that the TNG galaxy formation model can produce a realistic galaxy population in all scenarios. The stellar and gas mass fraction, stellar mass function, black hole mass as a function of stellar mass and star formation rate density are very similar in all dark matter models, with some deviations only in the most extreme warm dark matter model. Finally, we also quantify changes in halo structure due to warm and self-interacting dark matter, which appear in the density profiles, concentration-mass relation and galaxy sizes.\n",
       "\n",
       "</div>\n",
       "\n",
       "<div id=\"div_fig1\">\n",
       "\n",
       "<img src=\"tmp_2501.12439/./figures/profiles_dm3.png\" alt=\"Fig11\" width=\"100%\"/>\n",
       "\n",
       "**Figure 11. -** Dark matter density profiles at $z=0$ when considering five halo mass bins (left to right). We calculate the mean dark matter profile in bins of $\\Delta \\log(M_{\\rm vir})=0.2$ dex around the mean value, both in the full-physics (solid) and dark (dashed) runs. The profiles are calculated in logarithmically spaced spherical shells from 1 kpc to the halo virial radius. In order to capture both a good statistics at high masses and the highest resolution, we average profiles from both the 50/A and 100/A runs for all models -- except WDM1, where 50/B is employed. The small panels show, $(i)$ the ratio of each mean profile to its dark counterpart, and $(ii)$ to the CDM version. We observe an opposite trend in mass in the WDM and SIDM models: the latter create larger density cores at high masses and cuspy profiles at $M_{\\rm vir}\\leq 10^{12} {\\rm M}_{\\odot}$, the former instead lowers the central density at low masses, i.e. halo masses below the half-mode mass $M_{\\rm hm}$. In all panels, the gray bands indicate 2.3$\\epsilon_{\\rm DM}$ for both runs, which is often used as the minimum distance for reliable measurements. (*fig:prof1*)\n",
       "\n",
       "</div>\n",
       "<div id=\"div_fig2\">\n",
       "\n",
       "<img src=\"tmp_2501.12439/./figures/mass_func_dmo.png\" alt=\"Fig8.1\" width=\"50%\"/><img src=\"tmp_2501.12439/./figures/mass_func_hydro.png\" alt=\"Fig8.2\" width=\"50%\"/>\n",
       "\n",
       "**Figure 8. -** Halo mass function at $z=0$ in the DMO (left) and FP (right) runs of the four simulation sets listed in Table \\ref{table:1}. For each set, we only plot haloes with masses $M_{\\rm vir}\\geq100 m_{\\rm DM}$, corresponding to increasingly smaller low-mass limits as indicated by the labels in the top-left panel. The smaller panels show the ratio of each model to CDM. The dashed black line gives the theoretical prediction calculated by [Despali, Giocoli and Angulo (2016)]() -- which agrees very well with the mass function measured in the DMO runs, while the dotted lines are calculated by applying to it the correction derived by [Lovell, Frenk and Eke (2014)](). In the right panel, we also plot the CDM DMO mass function (black dashed line) to highlight the suppression generated by baryons at the low-mass end, compared to the DMO case. For the WDM runs, the transition between dashed and solid lines marks the limiting mass $M_{\\rm lim}$ below which the runs are affected by artificial fragmentation. (*fig:massf*)\n",
       "\n",
       "</div>\n",
       "<div id=\"div_fig3\">\n",
       "\n",
       "<img src=\"tmp_2501.12439/./figures/halo386.png\" alt=\"Fig5\" width=\"100%\"/>\n",
       "\n",
       "**Figure 5. -** Visualisation of the dark matter (top), gas (middle) and stellar (bottom) projected mass distributions in a Milky-Way mass halo ($M_{\\rm vir}=6.9\\times10^{12} {\\rm M}_{\\odot}$ in CDM at $z=0$) from the 100/A runs: from left to right, CDM, SIDM1, vSIDM and WDM3. We zoom onto the central parts of the halo, $\\sim0.5 r_{\\rm vir}$ in the top and middle panels, and $\\sim0.25 r_{\\rm vir}$ in the stellar distribution. In the latter, we also mark the distance corresponding to twice the stellar half-mass radius. We can observe a decrease in the number of substructures in WDM3, as well as a clear difference in the gas dynamics and the shape of the stellar distribution.\n",
       "               (*fig:visual1*)\n",
       "\n",
       "</div><div id=\"qrcode\"><img src=https://api.qrserver.com/v1/create-qr-code/?size=100x100&data=\"https://arxiv.org/abs/2501.12439\"></div>"
      ],
      "text/plain": [
       "<IPython.core.display.Markdown object>"
      ]
     },
     "metadata": {},
     "output_type": "display_data"
    },
    {
     "data": {
      "text/markdown": [
       "<div class=\"macros\" style=\"visibility:hidden;\">\n",
       "$\\newcommand{\\ensuremath}{}$\n",
       "$\\newcommand{\\xspace}{}$\n",
       "$\\newcommand{\\object}[1]{\\texttt{#1}}$\n",
       "$\\newcommand{\\farcs}{{.}''}$\n",
       "$\\newcommand{\\farcm}{{.}'}$\n",
       "$\\newcommand{\\arcsec}{''}$\n",
       "$\\newcommand{\\arcmin}{'}$\n",
       "$\\newcommand{\\ion}[2]{#1#2}$\n",
       "$\\newcommand{\\textsc}[1]{\\textrm{#1}}$\n",
       "$\\newcommand{\\hl}[1]{\\textrm{#1}}$\n",
       "$\\newcommand{\\footnote}[1]{}$\n",
       "$\\newcommand{\\chandra}{\\textit{Chandra}\\xspace}$\n",
       "$\\newcommand{\\xmm}{\\textit{XMM-Newton}\\xspace}$\n",
       "$\\newcommand{\\alma}{\\textit{ALMA}\\xspace}$\n",
       "$\\newcommand{\\ang}{\\mathrm{Å}\\xspace}$\n",
       "$\\newcommand{\\um}{~\\mathrm{\\mu m}\\xspace}$\n",
       "$\\newcommand{\\daox}{\\mbox{\\Delta\\alpha_{ox}}}$\n",
       "$\\newcommand{\\aox}{\\mbox{\\alpha_{\\mathrm{ox}}}}$\n",
       "$\\newcommand{\\LUV}{\\mbox{L_{\\mathrm{UV}}}}$\n",
       "$\\newcommand{\\zsdss}{\\mbox{z_{\\mathrm{SDSS}}}}$</div>\n",
       "\n",
       "\n",
       "\n",
       "<div id=\"title\">\n",
       "\n",
       "# Intervening nuclear obscuration changing the X-ray look of the $z\\approx6$ QSO CFHQS J164121+375520\n",
       "\n",
       "</div>\n",
       "<div id=\"comments\">\n",
       "\n",
       "[![arXiv](https://img.shields.io/badge/arXiv-2501.12449-b31b1b.svg)](https://arxiv.org/abs/2501.12449)<mark>Appeared on: 2025-01-23</mark> -  _Accepted for publication on A&A Letters_\n",
       "\n",
       "</div>\n",
       "<div id=\"authors\">\n",
       "\n",
       "F. Vito, et al. -- incl., <mark>S. Belladitta</mark>\n",
       "\n",
       "</div>\n",
       "<div id=\"abstract\">\n",
       "\n",
       "**Abstract:** X-ray observations of the optically selected $z=6.025$ QSO CFHQS J164121+375520 (hereafter J1641) revealed that its flux dropped by a factor $\\gtrsim7$ from 2018, when it was a bright and soft X-ray source, to 2021. Such a strong variability amplitude has not been observed before among $z>6$ QSOs, and the underlying physical mechanism was unclear. We carried out a new X-ray and rest-frame UV monitoring campaign of J1641 over 2022--2024. We detected J1641 with $\\chandra$ in the 2--7 keV band, while no significant emission is detected at softer X-ray energies, making J1641 an X-ray changing look QSO at $z>6$ . Comparing with the 2018 epoch, the 0.5--2 keV flux dropped dramatically by a factor $>20$ . We ascribe this behaviour to intervening, and still ongoing, obscuration by  Compton-thick gas intercepting our line of sight between 2018 and 2021. The screening material could be an inner disk or a failed nuclear wind that increased their thickness. Another possibility is that we have witnessed an occultation event due to dust-free clouds located at sub-pc/pc scales, similar to those recently invoked to explain the remarkable X-ray weakness of AGN discovered by JWST. These interpretations are also consistent with the lack of strong variations of the QSO rest-frame UV lightcurve over the same period.\tFuture monitoring of J1641 and the possible discovery of other X-ray changing look QSOs at $z>6$ will provide us with precious information about the physics of rapid supermassive black-hole growth at high redshift.\n",
       "\n",
       "</div>\n",
       "\n",
       "<div id=\"div_fig1\">\n",
       "\n",
       "<img src=\"tmp_2501.12449/./J1641_UV_Xrayflux_lightcurve_NH_resize.png\" alt=\"Fig2\" width=\"100%\"/>\n",
       "\n",
       "**Figure 2. -** X-ray lightcurve of J1641 as a function of observation time: red circles and squares are the soft-band and hard-band observed fluxes, respectively. The most recent red points refer to the stacked $\\chandra$ observations taken in 2022, 2023, and 2024, and are plotted at the average observing date (Tab. \\ref{Tab_Xray_cts}), with horizontal error bars encompassing the times of the three stacked observations.\n",
       "  The soft-band flux of J1641 dropped by a factor $>20$, while the QSO is still detected in the hard band, with at most a modest dimming. Black points are the $z$-band magnitudes of J1641 (\\citetalias{Vito22} and Tab. \\ref{Tab_UV}), and show no significant variation over the period covered by the X-ray observations.   (*Fig_lightcurve*)\n",
       "\n",
       "</div>\n",
       "<div id=\"div_fig2\">\n",
       "\n",
       "<img src=\"tmp_2501.12449/./Xray_images_square.png\" alt=\"Fig1\" width=\"100%\"/>\n",
       "\n",
       "**Figure 1. -** _Chandra_ images ($20^{\\prime\\prime}\\times20^{\\prime\\prime}$) of J1641. The left and right columns display the 2018 epoch and the stacked image of the new $\\chandra$ monitoring program (2022-2024), respectively, and the associated ACIS-S exposure time. Soft-band  and hard-band  images are shown in the top and bottom rows, respectively.The $R=2$\\arcsec$$ circles are the apertures used for X-ray photometry.\n",
       "\t (*Fig_Xray_images*)\n",
       "\n",
       "</div><div id=\"qrcode\"><img src=https://api.qrserver.com/v1/create-qr-code/?size=100x100&data=\"https://arxiv.org/abs/2501.12449\"></div>"
      ],
      "text/plain": [
       "<IPython.core.display.Markdown object>"
      ]
     },
     "metadata": {},
     "output_type": "display_data"
    }
   ],
   "source": [
    "[display(Markdown(k[1])) for k in documents];"
   ]
  },
  {
   "cell_type": "markdown",
   "id": "873873a4",
   "metadata": {
    "papermill": {
     "duration": 0.004478,
     "end_time": "2025-01-23T04:12:55.769946",
     "exception": false,
     "start_time": "2025-01-23T04:12:55.765468",
     "status": "completed"
    },
    "tags": []
   },
   "source": [
    "# Create HTML index"
   ]
  },
  {
   "cell_type": "code",
   "execution_count": 10,
   "id": "cf665672",
   "metadata": {
    "execution": {
     "iopub.execute_input": "2025-01-23T04:12:55.780475Z",
     "iopub.status.busy": "2025-01-23T04:12:55.779934Z",
     "iopub.status.idle": "2025-01-23T04:12:55.789085Z",
     "shell.execute_reply": "2025-01-23T04:12:55.788422Z"
    },
    "papermill": {
     "duration": 0.015481,
     "end_time": "2025-01-23T04:12:55.790066",
     "exception": false,
     "start_time": "2025-01-23T04:12:55.774585",
     "status": "completed"
    },
    "tags": []
   },
   "outputs": [
    {
     "name": "stdout",
     "output_type": "stream",
     "text": [
      "314  publications files modified in the last 7 days.\n"
     ]
    }
   ],
   "source": [
    "from datetime import datetime, timedelta, timezone\n",
    "from glob import glob\n",
    "import os\n",
    "\n",
    "files = glob('_build/html/*.md')\n",
    "days = 7\n",
    "now = datetime.today()\n",
    "res = []\n",
    "for fk in files:\n",
    "    stat_result = os.stat(fk).st_ctime\n",
    "    modified = datetime.fromtimestamp(stat_result, tz=timezone.utc).replace(tzinfo=None)\n",
    "    delta = now.today() - modified\n",
    "    if delta <= timedelta(days=days):\n",
    "        res.append((delta.seconds, fk))\n",
    "res = [k[1] for k in reversed(sorted(res, key=lambda x:x[1]))]\n",
    "npub = len(res)\n",
    "print(len(res), f\" publications files modified in the last {days:d} days.\")\n",
    "# [ print('\\t', k) for k in res ];"
   ]
  },
  {
   "cell_type": "code",
   "execution_count": 11,
   "id": "015de740",
   "metadata": {
    "execution": {
     "iopub.execute_input": "2025-01-23T04:12:55.800737Z",
     "iopub.status.busy": "2025-01-23T04:12:55.800329Z",
     "iopub.status.idle": "2025-01-23T04:12:55.819060Z",
     "shell.execute_reply": "2025-01-23T04:12:55.818351Z"
    },
    "papermill": {
     "duration": 0.025298,
     "end_time": "2025-01-23T04:12:55.820081",
     "exception": false,
     "start_time": "2025-01-23T04:12:55.794783",
     "status": "completed"
    },
    "tags": []
   },
   "outputs": [
    {
     "name": "stdout",
     "output_type": "stream",
     "text": [
      "4  publications in the last 7 days.\n"
     ]
    }
   ],
   "source": [
    "import datetime\n",
    "from glob import glob\n",
    "\n",
    "def get_last_n_days(lst, days=1):\n",
    "    \"\"\" Get the documents from the last n days \"\"\"\n",
    "    sorted_lst = sorted(lst, key=lambda x: x[1], reverse=True)\n",
    "    for fname, date in sorted_lst:\n",
    "        if date >= str(datetime.date.today() - datetime.timedelta(days=days)):\n",
    "            yield fname\n",
    "\n",
    "def extract_appearance_dates(lst_file):\n",
    "    dates = []\n",
    "\n",
    "    def get_date(line):\n",
    "        return line\\\n",
    "            .split('Appeared on:')[-1]\\\n",
    "            .split('</mark>')[0].strip()\n",
    "\n",
    "    for fname in lst:\n",
    "        with open(fname, 'r') as f:\n",
    "            found_date = False\n",
    "            for line in f:\n",
    "                if not found_date:\n",
    "                    if \"Appeared on\" in line:\n",
    "                        found_date = True\n",
    "                        dates.append((fname, get_date(line)))\n",
    "                else:\n",
    "                    break\n",
    "    return dates\n",
    "\n",
    "from glob import glob\n",
    "lst = glob('_build/html/*md')\n",
    "days = 7\n",
    "dates = extract_appearance_dates(lst)\n",
    "res = list(get_last_n_days(dates, days))\n",
    "npub = len(res)\n",
    "print(len(res), f\" publications in the last {days:d} days.\")"
   ]
  },
  {
   "cell_type": "code",
   "execution_count": 12,
   "id": "52ca0208",
   "metadata": {
    "execution": {
     "iopub.execute_input": "2025-01-23T04:12:55.830916Z",
     "iopub.status.busy": "2025-01-23T04:12:55.830444Z",
     "iopub.status.idle": "2025-01-23T04:12:55.835637Z",
     "shell.execute_reply": "2025-01-23T04:12:55.835052Z"
    },
    "papermill": {
     "duration": 0.011625,
     "end_time": "2025-01-23T04:12:55.836631",
     "exception": false,
     "start_time": "2025-01-23T04:12:55.825006",
     "status": "completed"
    },
    "scrolled": false,
    "tags": []
   },
   "outputs": [],
   "source": [
    "def create_carousel(npub=4):\n",
    "    \"\"\" Generate the HTML code for a carousel with `npub` slides \"\"\"\n",
    "    carousel = [\"\"\"  <div class=\"carousel\" \"\"\",\n",
    "                \"\"\"       data-flickity='{ \"autoPlay\": 10000, \"adaptiveHeight\": true, \"resize\": true, \"wrapAround\": true, \"pauseAutoPlayOnHover\": true, \"groupCells\": 1 }' id=\"asyncTypeset\">\"\"\"\n",
    "                ]\n",
    "    \n",
    "    item_str = \"\"\"    <div class=\"carousel-cell\"> <div id=\"slide{k}\" class=\"md_view\">Content {k}</div> </div>\"\"\"\n",
    "    for k in range(1, npub + 1):\n",
    "        carousel.append(item_str.format(k=k))\n",
    "    carousel.append(\"  </div>\")\n",
    "    return '\\n'.join(carousel)\n",
    "\n",
    "def create_grid(npub=4):\n",
    "    \"\"\" Generate the HTML code for a flat grid with `npub` slides \"\"\"\n",
    "    grid = [\"\"\"  <div class=\"grid\"> \"\"\",\n",
    "                ]\n",
    "    \n",
    "    item_str = \"\"\"    <div class=\"grid-item\"> <div id=\"slide{k}\" class=\"md_view\">Content {k}</div> </div>\"\"\"\n",
    "    for k in range(1, npub + 1):\n",
    "        grid.append(item_str.format(k=k))\n",
    "    grid.append(\"  </div>\")\n",
    "    return '\\n'.join(grid)"
   ]
  },
  {
   "cell_type": "code",
   "execution_count": 13,
   "id": "a6eac5b6",
   "metadata": {
    "execution": {
     "iopub.execute_input": "2025-01-23T04:12:55.847201Z",
     "iopub.status.busy": "2025-01-23T04:12:55.846795Z",
     "iopub.status.idle": "2025-01-23T04:12:55.851998Z",
     "shell.execute_reply": "2025-01-23T04:12:55.851467Z"
    },
    "papermill": {
     "duration": 0.011509,
     "end_time": "2025-01-23T04:12:55.852985",
     "exception": false,
     "start_time": "2025-01-23T04:12:55.841476",
     "status": "completed"
    },
    "scrolled": false,
    "tags": []
   },
   "outputs": [],
   "source": [
    "carousel = create_carousel(npub)\n",
    "docs = ', '.join(['\"{0:s}\"'.format(k.split('/')[-1]) for k in res])\n",
    "slides = ', '.join([f'\"slide{k}\"' for k in range(1, npub + 1)])\n",
    "\n",
    "with open(\"daily_template.html\", \"r\") as tpl:\n",
    "    page = tpl.read()\n",
    "    page = page.replace(\"{%-- carousel:s --%}\", carousel)\\\n",
    "               .replace(\"{%-- suptitle:s --%}\",  \"7-day archives\" )\\\n",
    "               .replace(\"{%-- docs:s --%}\", docs)\\\n",
    "               .replace(\"{%-- slides:s --%}\", slides)\n",
    "    \n",
    "with open(\"_build/html/index_7days.html\", 'w') as fout:\n",
    "    fout.write(page)"
   ]
  },
  {
   "cell_type": "code",
   "execution_count": 14,
   "id": "adc1a1ec",
   "metadata": {
    "execution": {
     "iopub.execute_input": "2025-01-23T04:12:55.863690Z",
     "iopub.status.busy": "2025-01-23T04:12:55.863221Z",
     "iopub.status.idle": "2025-01-23T04:12:55.870202Z",
     "shell.execute_reply": "2025-01-23T04:12:55.869633Z"
    },
    "papermill": {
     "duration": 0.013429,
     "end_time": "2025-01-23T04:12:55.871244",
     "exception": false,
     "start_time": "2025-01-23T04:12:55.857815",
     "status": "completed"
    },
    "tags": []
   },
   "outputs": [
    {
     "name": "stdout",
     "output_type": "stream",
     "text": [
      "2  publications in the last day.\n"
     ]
    }
   ],
   "source": [
    "# redo for today\n",
    "days = 1\n",
    "res = list(get_last_n_days(dates, days))\n",
    "npub = len(res)\n",
    "print(len(res), f\" publications in the last day.\")\n",
    "\n",
    "carousel = create_carousel(npub)\n",
    "docs = ', '.join(['\"{0:s}\"'.format(k.split('/')[-1]) for k in res])\n",
    "slides = ', '.join([f'\"slide{k}\"' for k in range(1, npub + 1)])\n",
    "\n",
    "with open(\"daily_template.html\", \"r\") as tpl:\n",
    "    page = tpl.read()\n",
    "    page = page.replace(\"{%-- carousel:s --%}\", carousel)\\\n",
    "               .replace(\"{%-- suptitle:s --%}\",  \"Daily\" )\\\n",
    "               .replace(\"{%-- docs:s --%}\", docs)\\\n",
    "               .replace(\"{%-- slides:s --%}\", slides)\n",
    "    \n",
    "# print(carousel, docs, slides)\n",
    "# print(page)\n",
    "with open(\"_build/html/index_daily.html\", 'w') as fout:\n",
    "    fout.write(page)"
   ]
  },
  {
   "cell_type": "code",
   "execution_count": 15,
   "id": "00eece82",
   "metadata": {
    "execution": {
     "iopub.execute_input": "2025-01-23T04:12:55.882323Z",
     "iopub.status.busy": "2025-01-23T04:12:55.881913Z",
     "iopub.status.idle": "2025-01-23T04:12:55.888485Z",
     "shell.execute_reply": "2025-01-23T04:12:55.887960Z"
    },
    "papermill": {
     "duration": 0.013254,
     "end_time": "2025-01-23T04:12:55.889496",
     "exception": false,
     "start_time": "2025-01-23T04:12:55.876242",
     "status": "completed"
    },
    "scrolled": false,
    "tags": []
   },
   "outputs": [
    {
     "name": "stdout",
     "output_type": "stream",
     "text": [
      "6  6 publications selected.\n"
     ]
    }
   ],
   "source": [
    "# Create the flat grid of the last N papers (fixed number regardless of dates)\n",
    "from itertools import islice \n",
    "\n",
    "npub = 6\n",
    "res = [k[0] for k in (islice(reversed(sorted(dates, key=lambda x: x[1])), 6))]\n",
    "print(len(res), f\" {npub} publications selected.\")\n",
    "\n",
    "grid = create_grid(npub)\n",
    "docs = ', '.join(['\"{0:s}\"'.format(k.split('/')[-1]) for k in res])\n",
    "slides = ', '.join([f'\"slide{k}\"' for k in range(1, npub + 1)])\n",
    "\n",
    "with open(\"grid_template.html\", \"r\") as tpl:\n",
    "    page = tpl.read()\n",
    "    page = page.replace(\"{%-- grid-content:s --%}\", grid)\\\n",
    "               .replace(\"{%-- suptitle:s --%}\",  f\"Last {npub:,d} papers\" )\\\n",
    "               .replace(\"{%-- docs:s --%}\", docs)\\\n",
    "               .replace(\"{%-- slides:s --%}\", slides)\n",
    "    \n",
    "# print(grid, docs, slides)\n",
    "# print(page)\n",
    "with open(\"_build/html/index_npub_grid.html\", 'w') as fout:\n",
    "    fout.write(page)"
   ]
  }
 ],
 "metadata": {
  "kernelspec": {
   "display_name": "Python 3 (ipykernel)",
   "language": "python",
   "name": "python3"
  },
  "language_info": {
   "codemirror_mode": {
    "name": "ipython",
    "version": 3
   },
   "file_extension": ".py",
   "mimetype": "text/x-python",
   "name": "python",
   "nbconvert_exporter": "python",
   "pygments_lexer": "ipython3",
   "version": "3.9.21"
  },
  "papermill": {
   "default_parameters": {},
   "duration": 122.35491,
   "end_time": "2025-01-23T04:12:56.110549",
   "environment_variables": {},
   "exception": null,
   "input_path": "MPIA daily digest.ipynb",
   "output_path": "log.ipynb",
   "parameters": {},
   "start_time": "2025-01-23T04:10:53.755639",
   "version": "2.6.0"
  },
  "vscode": {
   "interpreter": {
    "hash": "aee8b7b246df8f9039afb4144a1f6fd8d2ca17a180786b69acc140d282b71a49"
   }
  },
  "widgets": {
   "application/vnd.jupyter.widget-state+json": {
    "state": {
     "2dd2201736e443c39327bbb6457f55b5": {
      "model_module": "@jupyter-widgets/controls",
      "model_module_version": "2.0.0",
      "model_name": "HTMLModel",
      "state": {
       "_dom_classes": [],
       "_model_module": "@jupyter-widgets/controls",
       "_model_module_version": "2.0.0",
       "_model_name": "HTMLModel",
       "_view_count": null,
       "_view_module": "@jupyter-widgets/controls",
       "_view_module_version": "2.0.0",
       "_view_name": "HTMLView",
       "description": "",
       "description_allow_html": false,
       "layout": "IPY_MODEL_e560595bdb8a4bdea0d779c60fa71c49",
       "placeholder": "​",
       "style": "IPY_MODEL_bf2b9ba635b34050903722748b3f70d9",
       "tabbable": null,
       "tooltip": null,
       "value": "100%"
      }
     },
     "46412138ee7e47ca83e657f9f9d2f0b2": {
      "model_module": "@jupyter-widgets/base",
      "model_module_version": "2.0.0",
      "model_name": "LayoutModel",
      "state": {
       "_model_module": "@jupyter-widgets/base",
       "_model_module_version": "2.0.0",
       "_model_name": "LayoutModel",
       "_view_count": null,
       "_view_module": "@jupyter-widgets/base",
       "_view_module_version": "2.0.0",
       "_view_name": "LayoutView",
       "align_content": null,
       "align_items": null,
       "align_self": null,
       "border_bottom": null,
       "border_left": null,
       "border_right": null,
       "border_top": null,
       "bottom": null,
       "display": null,
       "flex": null,
       "flex_flow": null,
       "grid_area": null,
       "grid_auto_columns": null,
       "grid_auto_flow": null,
       "grid_auto_rows": null,
       "grid_column": null,
       "grid_gap": null,
       "grid_row": null,
       "grid_template_areas": null,
       "grid_template_columns": null,
       "grid_template_rows": null,
       "height": null,
       "justify_content": null,
       "justify_items": null,
       "left": null,
       "margin": null,
       "max_height": null,
       "max_width": null,
       "min_height": null,
       "min_width": null,
       "object_fit": null,
       "object_position": null,
       "order": null,
       "overflow": null,
       "padding": null,
       "right": null,
       "top": null,
       "visibility": null,
       "width": null
      }
     },
     "5b5f0f0c11fd47429de27163daac5878": {
      "model_module": "@jupyter-widgets/controls",
      "model_module_version": "2.0.0",
      "model_name": "HTMLModel",
      "state": {
       "_dom_classes": [],
       "_model_module": "@jupyter-widgets/controls",
       "_model_module_version": "2.0.0",
       "_model_name": "HTMLModel",
       "_view_count": null,
       "_view_module": "@jupyter-widgets/controls",
       "_view_module_version": "2.0.0",
       "_view_name": "HTMLView",
       "description": "",
       "description_allow_html": false,
       "layout": "IPY_MODEL_46412138ee7e47ca83e657f9f9d2f0b2",
       "placeholder": "​",
       "style": "IPY_MODEL_d521e5089e474650a455f41ddebf72bd",
       "tabbable": null,
       "tooltip": null,
       "value": " 3/3 [01:42&lt;00:00, 23.53s/it]"
      }
     },
     "66de7f698a3f4ff0ae73d41294960f01": {
      "model_module": "@jupyter-widgets/controls",
      "model_module_version": "2.0.0",
      "model_name": "FloatProgressModel",
      "state": {
       "_dom_classes": [],
       "_model_module": "@jupyter-widgets/controls",
       "_model_module_version": "2.0.0",
       "_model_name": "FloatProgressModel",
       "_view_count": null,
       "_view_module": "@jupyter-widgets/controls",
       "_view_module_version": "2.0.0",
       "_view_name": "ProgressView",
       "bar_style": "success",
       "description": "",
       "description_allow_html": false,
       "layout": "IPY_MODEL_cade4f476f454224a728d30ca07a01d3",
       "max": 3.0,
       "min": 0.0,
       "orientation": "horizontal",
       "style": "IPY_MODEL_f1aa571b305347c2ae99a9ae613f2d76",
       "tabbable": null,
       "tooltip": null,
       "value": 3.0
      }
     },
     "831ffe155e1447bb8f8c980f25d1a3a1": {
      "model_module": "@jupyter-widgets/controls",
      "model_module_version": "2.0.0",
      "model_name": "HBoxModel",
      "state": {
       "_dom_classes": [],
       "_model_module": "@jupyter-widgets/controls",
       "_model_module_version": "2.0.0",
       "_model_name": "HBoxModel",
       "_view_count": null,
       "_view_module": "@jupyter-widgets/controls",
       "_view_module_version": "2.0.0",
       "_view_name": "HBoxView",
       "box_style": "",
       "children": [
        "IPY_MODEL_2dd2201736e443c39327bbb6457f55b5",
        "IPY_MODEL_66de7f698a3f4ff0ae73d41294960f01",
        "IPY_MODEL_5b5f0f0c11fd47429de27163daac5878"
       ],
       "layout": "IPY_MODEL_ec88f69e0798465e91a79a3d17dcfac4",
       "tabbable": null,
       "tooltip": null
      }
     },
     "bf2b9ba635b34050903722748b3f70d9": {
      "model_module": "@jupyter-widgets/controls",
      "model_module_version": "2.0.0",
      "model_name": "HTMLStyleModel",
      "state": {
       "_model_module": "@jupyter-widgets/controls",
       "_model_module_version": "2.0.0",
       "_model_name": "HTMLStyleModel",
       "_view_count": null,
       "_view_module": "@jupyter-widgets/base",
       "_view_module_version": "2.0.0",
       "_view_name": "StyleView",
       "background": null,
       "description_width": "",
       "font_size": null,
       "text_color": null
      }
     },
     "cade4f476f454224a728d30ca07a01d3": {
      "model_module": "@jupyter-widgets/base",
      "model_module_version": "2.0.0",
      "model_name": "LayoutModel",
      "state": {
       "_model_module": "@jupyter-widgets/base",
       "_model_module_version": "2.0.0",
       "_model_name": "LayoutModel",
       "_view_count": null,
       "_view_module": "@jupyter-widgets/base",
       "_view_module_version": "2.0.0",
       "_view_name": "LayoutView",
       "align_content": null,
       "align_items": null,
       "align_self": null,
       "border_bottom": null,
       "border_left": null,
       "border_right": null,
       "border_top": null,
       "bottom": null,
       "display": null,
       "flex": null,
       "flex_flow": null,
       "grid_area": null,
       "grid_auto_columns": null,
       "grid_auto_flow": null,
       "grid_auto_rows": null,
       "grid_column": null,
       "grid_gap": null,
       "grid_row": null,
       "grid_template_areas": null,
       "grid_template_columns": null,
       "grid_template_rows": null,
       "height": null,
       "justify_content": null,
       "justify_items": null,
       "left": null,
       "margin": null,
       "max_height": null,
       "max_width": null,
       "min_height": null,
       "min_width": null,
       "object_fit": null,
       "object_position": null,
       "order": null,
       "overflow": null,
       "padding": null,
       "right": null,
       "top": null,
       "visibility": null,
       "width": null
      }
     },
     "d521e5089e474650a455f41ddebf72bd": {
      "model_module": "@jupyter-widgets/controls",
      "model_module_version": "2.0.0",
      "model_name": "HTMLStyleModel",
      "state": {
       "_model_module": "@jupyter-widgets/controls",
       "_model_module_version": "2.0.0",
       "_model_name": "HTMLStyleModel",
       "_view_count": null,
       "_view_module": "@jupyter-widgets/base",
       "_view_module_version": "2.0.0",
       "_view_name": "StyleView",
       "background": null,
       "description_width": "",
       "font_size": null,
       "text_color": null
      }
     },
     "e560595bdb8a4bdea0d779c60fa71c49": {
      "model_module": "@jupyter-widgets/base",
      "model_module_version": "2.0.0",
      "model_name": "LayoutModel",
      "state": {
       "_model_module": "@jupyter-widgets/base",
       "_model_module_version": "2.0.0",
       "_model_name": "LayoutModel",
       "_view_count": null,
       "_view_module": "@jupyter-widgets/base",
       "_view_module_version": "2.0.0",
       "_view_name": "LayoutView",
       "align_content": null,
       "align_items": null,
       "align_self": null,
       "border_bottom": null,
       "border_left": null,
       "border_right": null,
       "border_top": null,
       "bottom": null,
       "display": null,
       "flex": null,
       "flex_flow": null,
       "grid_area": null,
       "grid_auto_columns": null,
       "grid_auto_flow": null,
       "grid_auto_rows": null,
       "grid_column": null,
       "grid_gap": null,
       "grid_row": null,
       "grid_template_areas": null,
       "grid_template_columns": null,
       "grid_template_rows": null,
       "height": null,
       "justify_content": null,
       "justify_items": null,
       "left": null,
       "margin": null,
       "max_height": null,
       "max_width": null,
       "min_height": null,
       "min_width": null,
       "object_fit": null,
       "object_position": null,
       "order": null,
       "overflow": null,
       "padding": null,
       "right": null,
       "top": null,
       "visibility": null,
       "width": null
      }
     },
     "ec88f69e0798465e91a79a3d17dcfac4": {
      "model_module": "@jupyter-widgets/base",
      "model_module_version": "2.0.0",
      "model_name": "LayoutModel",
      "state": {
       "_model_module": "@jupyter-widgets/base",
       "_model_module_version": "2.0.0",
       "_model_name": "LayoutModel",
       "_view_count": null,
       "_view_module": "@jupyter-widgets/base",
       "_view_module_version": "2.0.0",
       "_view_name": "LayoutView",
       "align_content": null,
       "align_items": null,
       "align_self": null,
       "border_bottom": null,
       "border_left": null,
       "border_right": null,
       "border_top": null,
       "bottom": null,
       "display": null,
       "flex": null,
       "flex_flow": null,
       "grid_area": null,
       "grid_auto_columns": null,
       "grid_auto_flow": null,
       "grid_auto_rows": null,
       "grid_column": null,
       "grid_gap": null,
       "grid_row": null,
       "grid_template_areas": null,
       "grid_template_columns": null,
       "grid_template_rows": null,
       "height": null,
       "justify_content": null,
       "justify_items": null,
       "left": null,
       "margin": null,
       "max_height": null,
       "max_width": null,
       "min_height": null,
       "min_width": null,
       "object_fit": null,
       "object_position": null,
       "order": null,
       "overflow": null,
       "padding": null,
       "right": null,
       "top": null,
       "visibility": null,
       "width": null
      }
     },
     "f1aa571b305347c2ae99a9ae613f2d76": {
      "model_module": "@jupyter-widgets/controls",
      "model_module_version": "2.0.0",
      "model_name": "ProgressStyleModel",
      "state": {
       "_model_module": "@jupyter-widgets/controls",
       "_model_module_version": "2.0.0",
       "_model_name": "ProgressStyleModel",
       "_view_count": null,
       "_view_module": "@jupyter-widgets/base",
       "_view_module_version": "2.0.0",
       "_view_name": "StyleView",
       "bar_color": null,
       "description_width": ""
      }
     }
    },
    "version_major": 2,
    "version_minor": 0
   }
  }
 },
 "nbformat": 4,
 "nbformat_minor": 5
}