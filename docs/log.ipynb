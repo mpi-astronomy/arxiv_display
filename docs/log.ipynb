{
 "cells": [
  {
   "cell_type": "markdown",
   "id": "92bcb855",
   "metadata": {
    "papermill": {
     "duration": 0.00634,
     "end_time": "2023-01-12T04:08:00.005230",
     "exception": false,
     "start_time": "2023-01-12T04:07:59.998890",
     "status": "completed"
    },
    "tags": []
   },
   "source": [
    "# MPIA Arxiv on Deck 2\n",
    "\n",
    "Contains the steps to produce the paper extractions."
   ]
  },
  {
   "cell_type": "code",
   "execution_count": 1,
   "id": "3a0d6e11",
   "metadata": {
    "execution": {
     "iopub.execute_input": "2023-01-12T04:08:00.017182Z",
     "iopub.status.busy": "2023-01-12T04:08:00.016389Z",
     "iopub.status.idle": "2023-01-12T04:08:00.262414Z",
     "shell.execute_reply": "2023-01-12T04:08:00.261441Z"
    },
    "papermill": {
     "duration": 0.255239,
     "end_time": "2023-01-12T04:08:00.265486",
     "exception": false,
     "start_time": "2023-01-12T04:08:00.010247",
     "status": "completed"
    },
    "tags": []
   },
   "outputs": [],
   "source": [
    "# Imports\n",
    "import os\n",
    "from IPython.display import Markdown, display\n",
    "from tqdm.notebook import tqdm\n",
    "import warnings\n",
    "from PIL import Image \n",
    "\n",
    "# requires arxiv_on_deck_2\n",
    "\n",
    "from arxiv_on_deck_2.arxiv2 import (get_new_papers, \n",
    "                                    get_paper_from_identifier,\n",
    "                                    retrieve_document_source, \n",
    "                                    get_markdown_badge)\n",
    "from arxiv_on_deck_2 import (latex, \n",
    "                             mpia,\n",
    "                             highlight_authors_in_list)\n",
    "\n",
    "# Sometimes images are really big\n",
    "Image.MAX_IMAGE_PIXELS = 1000000000 "
   ]
  },
  {
   "cell_type": "code",
   "execution_count": 2,
   "id": "22aa9d44",
   "metadata": {
    "execution": {
     "iopub.execute_input": "2023-01-12T04:08:00.277080Z",
     "iopub.status.busy": "2023-01-12T04:08:00.276746Z",
     "iopub.status.idle": "2023-01-12T04:08:00.282606Z",
     "shell.execute_reply": "2023-01-12T04:08:00.281858Z"
    },
    "papermill": {
     "duration": 0.013966,
     "end_time": "2023-01-12T04:08:00.284575",
     "exception": false,
     "start_time": "2023-01-12T04:08:00.270609",
     "status": "completed"
    },
    "tags": []
   },
   "outputs": [],
   "source": [
    "# Some useful definitions.\n",
    "\n",
    "class AffiliationWarning(UserWarning):\n",
    "    pass\n",
    "\n",
    "class AffiliationError(RuntimeError):\n",
    "    pass\n",
    "\n",
    "def validation(source: str):\n",
    "    \"\"\"Raises error paper during parsing of source file\n",
    "    \n",
    "    Allows checks before parsing TeX code.\n",
    "    \n",
    "    Raises AffiliationWarning\n",
    "    \"\"\"\n",
    "    check = mpia.affiliation_verifications(source, verbose=True)\n",
    "    if check is not True:\n",
    "        raise AffiliationError(\"mpia.affiliation_verifications: \" + check)\n",
    "\n",
    "        \n",
    "warnings.simplefilter('always', AffiliationWarning)"
   ]
  },
  {
   "cell_type": "code",
   "execution_count": 3,
   "id": "14622700",
   "metadata": {
    "execution": {
     "iopub.execute_input": "2023-01-12T04:08:00.297077Z",
     "iopub.status.busy": "2023-01-12T04:08:00.296231Z",
     "iopub.status.idle": "2023-01-12T04:08:00.301468Z",
     "shell.execute_reply": "2023-01-12T04:08:00.300553Z"
    },
    "papermill": {
     "duration": 0.013898,
     "end_time": "2023-01-12T04:08:00.303567",
     "exception": false,
     "start_time": "2023-01-12T04:08:00.289669",
     "status": "completed"
    },
    "tags": []
   },
   "outputs": [],
   "source": [
    "# additional CSS to consider. \n",
    "# TODO: Current into each exported file. \n",
    "#       This should be set once into the webpages directly.\n",
    "#       With only the class/id definitions in the .md files.\n",
    "\n",
    "debug_html = \"\"\"\n",
    "<style>\n",
    "#wrap{ overflow:auto; }\n",
    "#fig1{ background:yellow; width:100%; float:left; padding:5px;  }\n",
    "#fig2{ background:red; width:50%; float:left; clear:left; padding:5px;  }\n",
    "#fig3{ background:green; width:50%; float:left; padding:5px;   }\n",
    ".macros{ background:yellow; visibility:visible;}\n",
    "h1 {margin: 0 0 0 0;}\n",
    "mark {background-color:#fff3b6;}\n",
    "img {object-fit:contain; max-height:250px; display:inline-block; text-align: center;}\n",
    "</style>\n",
    "\"\"\" \n",
    "html = \"\"\"\n",
    "<style>\n",
    "#wrap{ overflow:auto; }\n",
    "#fig1{ width:100%; float:left; padding: 5px;  }\n",
    "#fig2{ width:50%; float:left; clear:left; padding: 5px;  }\n",
    "#fig3{ width:50%; float:left; padding: 5px;  }\n",
    ".macros{ visibility:hidden; height:0px; }\n",
    "h1 {margin: 0em 0 0 0;}\n",
    "mark {background-color:#fff3b6;}\n",
    "img {object-fit:contain; max-height:250px; display:inline-block; text-align: center;}\n",
    "</style>\n",
    "\"\"\""
   ]
  },
  {
   "cell_type": "markdown",
   "id": "14bd6310",
   "metadata": {
    "papermill": {
     "duration": 0.005134,
     "end_time": "2023-01-12T04:08:00.313753",
     "exception": false,
     "start_time": "2023-01-12T04:08:00.308619",
     "status": "completed"
    },
    "tags": []
   },
   "source": [
    "## get list of arxiv paper candidates\n",
    "\n",
    "We use the MPIA mitarbeiter list webpage from mpia.de to get author names\n",
    "We then get all new papers from Arxiv and match authors"
   ]
  },
  {
   "cell_type": "code",
   "execution_count": 4,
   "id": "2645e73a",
   "metadata": {
    "execution": {
     "iopub.execute_input": "2023-01-12T04:08:00.326234Z",
     "iopub.status.busy": "2023-01-12T04:08:00.325294Z",
     "iopub.status.idle": "2023-01-12T04:08:29.285985Z",
     "shell.execute_reply": "2023-01-12T04:08:29.285087Z"
    },
    "papermill": {
     "duration": 28.968797,
     "end_time": "2023-01-12T04:08:29.288006",
     "exception": false,
     "start_time": "2023-01-12T04:08:00.319209",
     "status": "completed"
    },
    "tags": []
   },
   "outputs": [
    {
     "name": "stdout",
     "output_type": "stream",
     "text": [
      "Arxiv has 61 new papers today\n",
      "          27 with possible author matches\n"
     ]
    }
   ],
   "source": [
    "# get list from MPIA website\n",
    "# it automatically filters identified non-scientists :func:`mpia.filter_non_scientists`\n",
    "mpia_authors = mpia.get_mpia_mitarbeiter_list()\n",
    "new_papers = get_new_papers()\n",
    "# add manual references\n",
    "add_paper_refs = []\n",
    "new_papers.extend([get_paper_from_identifier(k) for k in add_paper_refs])\n",
    "\n",
    "# select only papers with matching author names and highlight authors\n",
    "hl_list = [k[0] for k in mpia_authors]\n",
    "\n",
    "candidates = []\n",
    "for paperk in new_papers:\n",
    "    hl_authors = highlight_authors_in_list(paperk['authors'], hl_list)\n",
    "    matches = [(hl, orig) for hl, orig in zip(hl_authors, paperk['authors']) if 'mark' in hl]\n",
    "    paperk['authors'] = hl_authors\n",
    "    if matches:\n",
    "        candidates.append(paperk)\n",
    "print(\"\"\"Arxiv has {0:,d} new papers today\"\"\".format(len(new_papers)))        \n",
    "print(\"\"\"          {0:,d} with possible author matches\"\"\".format(len(candidates)))"
   ]
  },
  {
   "cell_type": "markdown",
   "id": "3543b34a",
   "metadata": {
    "papermill": {
     "duration": 0.005489,
     "end_time": "2023-01-12T04:08:29.299482",
     "exception": false,
     "start_time": "2023-01-12T04:08:29.293993",
     "status": "completed"
    },
    "tags": []
   },
   "source": [
    "# Parse sources and generate relevant outputs\n",
    "\n",
    "From the candidates, we do the following steps:\n",
    "* get their tarball from ArXiv (and extract data)\n",
    "* find the main .tex file: find one with \\documentclass{...} (sometimes it's non trivial)\n",
    "* Check affiliations with :func:`validation`, which uses :func:`mpia.affiliation_verifications`\n",
    "* If passing the affiliations: we parse the .tex source\n",
    "   * inject sub-documents into the main (flatten the main document)\n",
    "   * parse structure, extract information (title, abstract, authors, figures...)\n",
    "   * handles `\\graphicspath` if provided\n",
    "* Generate the .md document."
   ]
  },
  {
   "cell_type": "code",
   "execution_count": 5,
   "id": "9576b79e",
   "metadata": {
    "execution": {
     "iopub.execute_input": "2023-01-12T04:08:29.312118Z",
     "iopub.status.busy": "2023-01-12T04:08:29.311080Z",
     "iopub.status.idle": "2023-01-12T04:10:20.163674Z",
     "shell.execute_reply": "2023-01-12T04:10:20.162740Z"
    },
    "papermill": {
     "duration": 110.861783,
     "end_time": "2023-01-12T04:10:20.166486",
     "exception": false,
     "start_time": "2023-01-12T04:08:29.304703",
     "status": "completed"
    },
    "scrolled": false,
    "tags": []
   },
   "outputs": [
    {
     "data": {
      "application/vnd.jupyter.widget-view+json": {
       "model_id": "7976ec02fc5d43e3b76045e26fdba380",
       "version_major": 2,
       "version_minor": 0
      },
      "text/plain": [
       "  0%|          | 0/26 [00:00<?, ?it/s]"
      ]
     },
     "metadata": {},
     "output_type": "display_data"
    },
    {
     "name": "stdout",
     "output_type": "stream",
     "text": [
      "Retrieving document from  https://arxiv.org/e-print/2301.04136\n"
     ]
    },
    {
     "name": "stderr",
     "output_type": "stream",
     "text": [
      "/tmp/ipykernel_2089/4030337529.py:34: LatexWarning: 2301.04136 did not run properly\n",
      "not a gzip file\n",
      "  warnings.warn(latex.LatexWarning(f\"{paper_id:s} did not run properly\\n\" +\n"
     ]
    },
    {
     "name": "stdout",
     "output_type": "stream",
     "text": [
      "Retrieving document from  https://arxiv.org/e-print/2301.04145\n"
     ]
    },
    {
     "name": "stdout",
     "output_type": "stream",
     "text": [
      "extracting tarball to tmp_2301.04145..."
     ]
    },
    {
     "name": "stdout",
     "output_type": "stream",
     "text": [
      " done.\n",
      "Retrieving document from  https://arxiv.org/e-print/2301.04148\n"
     ]
    },
    {
     "name": "stdout",
     "output_type": "stream",
     "text": [
      "extracting tarball to tmp_2301.04148..."
     ]
    },
    {
     "name": "stdout",
     "output_type": "stream",
     "text": [
      " done.\n",
      "Retrieving document from  https://arxiv.org/e-print/2301.04149\n"
     ]
    },
    {
     "name": "stdout",
     "output_type": "stream",
     "text": [
      "extracting tarball to tmp_2301.04149..."
     ]
    },
    {
     "name": "stdout",
     "output_type": "stream",
     "text": [
      " done.\n",
      "Retrieving document from  https://arxiv.org/e-print/2301.04154\n"
     ]
    },
    {
     "name": "stdout",
     "output_type": "stream",
     "text": [
      "extracting tarball to tmp_2301.04154..."
     ]
    },
    {
     "name": "stdout",
     "output_type": "stream",
     "text": [
      " done.\n",
      "Retrieving document from  https://arxiv.org/e-print/2301.04163\n"
     ]
    },
    {
     "name": "stdout",
     "output_type": "stream",
     "text": [
      "extracting tarball to tmp_2301.04163..."
     ]
    },
    {
     "name": "stdout",
     "output_type": "stream",
     "text": [
      " done.\n",
      "Retrieving document from  https://arxiv.org/e-print/2301.04164\n"
     ]
    },
    {
     "name": "stdout",
     "output_type": "stream",
     "text": [
      "extracting tarball to tmp_2301.04164..."
     ]
    },
    {
     "name": "stdout",
     "output_type": "stream",
     "text": [
      " done.\n",
      "Retrieving document from  https://arxiv.org/e-print/2301.04168\n"
     ]
    },
    {
     "name": "stdout",
     "output_type": "stream",
     "text": [
      "extracting tarball to tmp_2301.04168..."
     ]
    },
    {
     "name": "stdout",
     "output_type": "stream",
     "text": [
      " done.\n",
      "Retrieving document from  https://arxiv.org/e-print/2301.04177\n"
     ]
    },
    {
     "name": "stdout",
     "output_type": "stream",
     "text": [
      "extracting tarball to tmp_2301.04177..."
     ]
    },
    {
     "name": "stdout",
     "output_type": "stream",
     "text": [
      " done.\n",
      "Retrieving document from  https://arxiv.org/e-print/2301.04206\n"
     ]
    },
    {
     "name": "stdout",
     "output_type": "stream",
     "text": [
      "extracting tarball to tmp_2301.04206..."
     ]
    },
    {
     "name": "stdout",
     "output_type": "stream",
     "text": [
      " done.\n",
      "Retrieving document from  https://arxiv.org/e-print/2301.04215\n"
     ]
    },
    {
     "name": "stderr",
     "output_type": "stream",
     "text": [
      "/opt/hostedtoolcache/Python/3.9.16/x64/lib/python3.9/site-packages/IPython/core/interactiveshell.py:3442: LatexWarning: Multiple tex files.\n",
      "\n",
      "  exec(code_obj, self.user_global_ns, self.user_ns)\n",
      "/opt/hostedtoolcache/Python/3.9.16/x64/lib/python3.9/site-packages/IPython/core/interactiveshell.py:3442: LatexWarning: Found documentclass in tmp_2301.04206/natbib.tex\n",
      "\n",
      "  exec(code_obj, self.user_global_ns, self.user_ns)\n"
     ]
    },
    {
     "name": "stdout",
     "output_type": "stream",
     "text": [
      "extracting tarball to tmp_2301.04215..."
     ]
    },
    {
     "name": "stdout",
     "output_type": "stream",
     "text": [
      " done.\n",
      "Retrieving document from  https://arxiv.org/e-print/2301.04259\n"
     ]
    },
    {
     "name": "stdout",
     "output_type": "stream",
     "text": [
      "extracting tarball to tmp_2301.04259..."
     ]
    },
    {
     "name": "stdout",
     "output_type": "stream",
     "text": [
      " done.\n",
      "Retrieving document from  https://arxiv.org/e-print/2301.04286\n"
     ]
    },
    {
     "name": "stdout",
     "output_type": "stream",
     "text": [
      "extracting tarball to tmp_2301.04286..."
     ]
    },
    {
     "name": "stdout",
     "output_type": "stream",
     "text": [
      " done.\n",
      "Retrieving document from  https://arxiv.org/e-print/2301.04307\n"
     ]
    },
    {
     "name": "stdout",
     "output_type": "stream",
     "text": [
      "extracting tarball to tmp_2301.04307..."
     ]
    },
    {
     "name": "stdout",
     "output_type": "stream",
     "text": [
      " done.\n",
      "Retrieving document from  https://arxiv.org/e-print/2301.04319\n"
     ]
    },
    {
     "name": "stdout",
     "output_type": "stream",
     "text": [
      "extracting tarball to tmp_2301.04319... done.\n",
      "Retrieving document from  https://arxiv.org/e-print/2301.04324\n"
     ]
    },
    {
     "name": "stdout",
     "output_type": "stream",
     "text": [
      "extracting tarball to tmp_2301.04324..."
     ]
    },
    {
     "name": "stdout",
     "output_type": "stream",
     "text": [
      " done.\n",
      "Retrieving document from  https://arxiv.org/e-print/2301.04409\n"
     ]
    },
    {
     "name": "stderr",
     "output_type": "stream",
     "text": [
      "/opt/hostedtoolcache/Python/3.9.16/x64/lib/python3.9/site-packages/IPython/core/interactiveshell.py:3442: LatexWarning: Multiple tex files.\n",
      "\n",
      "  exec(code_obj, self.user_global_ns, self.user_ns)\n",
      "/opt/hostedtoolcache/Python/3.9.16/x64/lib/python3.9/site-packages/IPython/core/interactiveshell.py:3442: LatexWarning: Found documentclass in tmp_2301.04324/main.tex\n",
      "\n",
      "  exec(code_obj, self.user_global_ns, self.user_ns)\n",
      "/opt/hostedtoolcache/Python/3.9.16/x64/lib/python3.9/site-packages/arxiv_on_deck_2/latex.py:292: LatexWarning: Latex injecting: 'conclusion' from 'tmp_2301.04324/conclusion.tex'\n",
      "  warnings.warn(LatexWarning(f\"Latex injecting: '{ext}' from '{subsource}'\"))\n",
      "/opt/hostedtoolcache/Python/3.9.16/x64/lib/python3.9/site-packages/arxiv_on_deck_2/latex.py:292: LatexWarning: Latex injecting: 'conclusion' from 'tmp_2301.04324/Reaction sensitivity to H2-genation(2)/conclusion.tex'\n",
      "  warnings.warn(LatexWarning(f\"Latex injecting: '{ext}' from '{subsource}'\"))\n",
      "/opt/hostedtoolcache/Python/3.9.16/x64/lib/python3.9/site-packages/arxiv_on_deck_2/latex.py:292: LatexWarning: Latex injecting: 'results_astrochemical_implications' from 'tmp_2301.04324/results_astrochemical_implications.tex'\n",
      "  warnings.warn(LatexWarning(f\"Latex injecting: '{ext}' from '{subsource}'\"))\n",
      "/opt/hostedtoolcache/Python/3.9.16/x64/lib/python3.9/site-packages/arxiv_on_deck_2/latex.py:292: LatexWarning: Latex injecting: 'results_astrochemical_implications' from 'tmp_2301.04324/Reaction sensitivity to H2-genation(2)/results_astrochemical_implications.tex'\n",
      "  warnings.warn(LatexWarning(f\"Latex injecting: '{ext}' from '{subsource}'\"))\n",
      "/opt/hostedtoolcache/Python/3.9.16/x64/lib/python3.9/site-packages/arxiv_on_deck_2/latex.py:292: LatexWarning: Latex injecting: 'methodology' from 'tmp_2301.04324/methodology.tex'\n",
      "  warnings.warn(LatexWarning(f\"Latex injecting: '{ext}' from '{subsource}'\"))\n",
      "/opt/hostedtoolcache/Python/3.9.16/x64/lib/python3.9/site-packages/arxiv_on_deck_2/latex.py:292: LatexWarning: Latex injecting: 'methodology' from 'tmp_2301.04324/Reaction sensitivity to H2-genation(2)/methodology.tex'\n",
      "  warnings.warn(LatexWarning(f\"Latex injecting: '{ext}' from '{subsource}'\"))\n",
      "/opt/hostedtoolcache/Python/3.9.16/x64/lib/python3.9/site-packages/arxiv_on_deck_2/latex.py:292: LatexWarning: Latex injecting: 'introduction' from 'tmp_2301.04324/introduction.tex'\n",
      "  warnings.warn(LatexWarning(f\"Latex injecting: '{ext}' from '{subsource}'\"))\n",
      "/opt/hostedtoolcache/Python/3.9.16/x64/lib/python3.9/site-packages/arxiv_on_deck_2/latex.py:292: LatexWarning: Latex injecting: 'introduction' from 'tmp_2301.04324/Reaction sensitivity to H2-genation(2)/introduction.tex'\n",
      "  warnings.warn(LatexWarning(f\"Latex injecting: '{ext}' from '{subsource}'\"))\n"
     ]
    },
    {
     "name": "stdout",
     "output_type": "stream",
     "text": [
      "extracting tarball to tmp_2301.04409..."
     ]
    },
    {
     "name": "stdout",
     "output_type": "stream",
     "text": [
      " done.\n",
      "Retrieving document from  https://arxiv.org/e-print/2301.04418\n"
     ]
    },
    {
     "name": "stderr",
     "output_type": "stream",
     "text": [
      "/tmp/ipykernel_2089/4030337529.py:34: LatexWarning: 2301.04409 did not run properly\n",
      "'utf-8' codec can't decode byte 0xc7 in position 3324: invalid continuation byte\n",
      "  warnings.warn(latex.LatexWarning(f\"{paper_id:s} did not run properly\\n\" +\n"
     ]
    },
    {
     "name": "stdout",
     "output_type": "stream",
     "text": [
      "extracting tarball to tmp_2301.04418..."
     ]
    },
    {
     "name": "stdout",
     "output_type": "stream",
     "text": [
      " done.\n",
      "Retrieving document from  https://arxiv.org/e-print/2301.04442\n"
     ]
    },
    {
     "name": "stdout",
     "output_type": "stream",
     "text": [
      "extracting tarball to tmp_2301.04442..."
     ]
    },
    {
     "name": "stdout",
     "output_type": "stream",
     "text": [
      " done.\n"
     ]
    },
    {
     "name": "stderr",
     "output_type": "stream",
     "text": [
      "/opt/hostedtoolcache/Python/3.9.16/x64/lib/python3.9/site-packages/IPython/core/interactiveshell.py:3442: LatexWarning: Multiple tex files.\n",
      "\n",
      "  exec(code_obj, self.user_global_ns, self.user_ns)\n",
      "/opt/hostedtoolcache/Python/3.9.16/x64/lib/python3.9/site-packages/IPython/core/interactiveshell.py:3442: LatexWarning: Found documentclass in tmp_2301.04442/arxiv.tex\n",
      "\n",
      "  exec(code_obj, self.user_global_ns, self.user_ns)\n"
     ]
    },
    {
     "name": "stdout",
     "output_type": "stream",
     "text": [
      "Retrieving document from  https://arxiv.org/e-print/2301.04445\n"
     ]
    },
    {
     "name": "stdout",
     "output_type": "stream",
     "text": [
      "extracting tarball to tmp_2301.04445..."
     ]
    },
    {
     "name": "stdout",
     "output_type": "stream",
     "text": [
      " done.\n",
      "Retrieving document from  https://arxiv.org/e-print/2301.04476\n"
     ]
    },
    {
     "name": "stderr",
     "output_type": "stream",
     "text": [
      "/tmp/ipykernel_2089/4030337529.py:34: LatexWarning: 2301.04476 did not run properly\n",
      "not a gzip file\n",
      "  warnings.warn(latex.LatexWarning(f\"{paper_id:s} did not run properly\\n\" +\n"
     ]
    },
    {
     "name": "stdout",
     "output_type": "stream",
     "text": [
      "Retrieving document from  https://arxiv.org/e-print/2301.04498\n"
     ]
    },
    {
     "name": "stdout",
     "output_type": "stream",
     "text": [
      "extracting tarball to tmp_2301.04498... done.\n",
      "Retrieving document from  https://arxiv.org/e-print/2301.04533\n"
     ]
    },
    {
     "name": "stdout",
     "output_type": "stream",
     "text": [
      "extracting tarball to tmp_2301.04533... done.\n"
     ]
    },
    {
     "name": "stdout",
     "output_type": "stream",
     "text": [
      "Retrieving document from  https://arxiv.org/e-print/2301.04543\n"
     ]
    },
    {
     "name": "stdout",
     "output_type": "stream",
     "text": [
      "extracting tarball to tmp_2301.04543..."
     ]
    },
    {
     "name": "stdout",
     "output_type": "stream",
     "text": [
      " done.\n",
      "Retrieving document from  https://arxiv.org/e-print/2301.04586\n"
     ]
    },
    {
     "name": "stdout",
     "output_type": "stream",
     "text": [
      "extracting tarball to tmp_2301.04586..."
     ]
    },
    {
     "name": "stdout",
     "output_type": "stream",
     "text": [
      " done.\n",
      "Retrieving document from  https://arxiv.org/e-print/2301.04637\n"
     ]
    },
    {
     "name": "stderr",
     "output_type": "stream",
     "text": [
      "/opt/hostedtoolcache/Python/3.9.16/x64/lib/python3.9/site-packages/IPython/core/interactiveshell.py:3442: LatexWarning: Multiple tex files.\n",
      "\n",
      "  exec(code_obj, self.user_global_ns, self.user_ns)\n",
      "/opt/hostedtoolcache/Python/3.9.16/x64/lib/python3.9/site-packages/IPython/core/interactiveshell.py:3442: LatexWarning: Found documentclass in tmp_2301.04586/mnras_template.tex\n",
      "\n",
      "  exec(code_obj, self.user_global_ns, self.user_ns)\n"
     ]
    },
    {
     "name": "stdout",
     "output_type": "stream",
     "text": [
      "extracting tarball to tmp_2301.04637..."
     ]
    },
    {
     "name": "stdout",
     "output_type": "stream",
     "text": [
      " done.\n"
     ]
    }
   ],
   "source": [
    "documents = []\n",
    "failed = []\n",
    "for paper in tqdm(candidates[:-1]):\n",
    "    paper_id = paper['identifier'].lower().replace('arxiv:', '')\n",
    "    \n",
    "    folder = f'tmp_{paper_id}'\n",
    "\n",
    "    try:\n",
    "        if not os.path.isdir(folder):\n",
    "            folder = retrieve_document_source(f\"{paper_id}\", f'tmp_{paper_id}')\n",
    "        \n",
    "        try:\n",
    "            doc = latex.LatexDocument(folder, validation=validation)    \n",
    "        except AffiliationError as affilerror:\n",
    "            msg = f\"ArXiv:{paper_id:s} is not an MPIA paper... \" + str(affilerror)\n",
    "            failed.append((paper, \"affiliation error: \" + str(affilerror) ))\n",
    "            continue\n",
    "        \n",
    "        # Hack because sometimes author parsing does not work well\n",
    "        if (len(doc.authors) != len(paper['authors'])):\n",
    "            doc._authors = paper['authors']\n",
    "        if (doc.abstract) in (None, ''):\n",
    "            doc._abstract = paper['abstract']\n",
    "            \n",
    "        doc.comment = (get_markdown_badge(paper_id) + \n",
    "                       \"<mark>Appeared on: \" + paper['date'] + \"</mark> - \" +\n",
    "                       \"_\" + paper['comments'] + \"_\")\n",
    "        doc.highlight_authors_in_list(hl_list)\n",
    "\n",
    "        full_md = doc.generate_markdown_text()\n",
    "        \n",
    "        documents.append((paper_id, full_md))\n",
    "    except Exception as e:\n",
    "        warnings.warn(latex.LatexWarning(f\"{paper_id:s} did not run properly\\n\" +\n",
    "                                         str(e)\n",
    "                                        ))\n",
    "        failed.append((paper, \"latex error \" + str(e)))"
   ]
  },
  {
   "cell_type": "markdown",
   "id": "2505a25c",
   "metadata": {
    "papermill": {
     "duration": 0.008302,
     "end_time": "2023-01-12T04:10:20.184192",
     "exception": false,
     "start_time": "2023-01-12T04:10:20.175890",
     "status": "completed"
    },
    "tags": []
   },
   "source": [
    "### Export the logs\n",
    "\n",
    "Throughout, we also keep track of the logs per paper. see `logs-{today date}.md` "
   ]
  },
  {
   "cell_type": "code",
   "execution_count": 6,
   "id": "d733828a",
   "metadata": {
    "execution": {
     "iopub.execute_input": "2023-01-12T04:10:20.203436Z",
     "iopub.status.busy": "2023-01-12T04:10:20.202583Z",
     "iopub.status.idle": "2023-01-12T04:10:20.278484Z",
     "shell.execute_reply": "2023-01-12T04:10:20.277575Z"
    },
    "papermill": {
     "duration": 0.090743,
     "end_time": "2023-01-12T04:10:20.283464",
     "exception": false,
     "start_time": "2023-01-12T04:10:20.192721",
     "status": "completed"
    },
    "scrolled": false,
    "tags": []
   },
   "outputs": [
    {
     "data": {
      "text/markdown": [
       "## Successful papers"
      ],
      "text/plain": [
       "<IPython.core.display.Markdown object>"
      ]
     },
     "metadata": {},
     "output_type": "display_data"
    },
    {
     "data": {
      "text/markdown": [
       "\n",
       "|||\n",
       "|---:|:---|\n",
       "| [![arXiv](https://img.shields.io/badge/arXiv-arXiv:2301.04442-b31b1b.svg)](https://arxiv.org/abs/arXiv:2301.04442) | **The CARMENES search for exoplanets around M dwarfs. A long-period planet  around GJ 1151 measured with CARMENES and HARPS-N data**  |\n",
       "|| J. Blanco-Pozo, et al. -- incl., <mark>M. Pérez-Torres</mark>, <mark>E. L. Brown</mark>, <mark>M. Kürster</mark> |\n",
       "|*Appeared on*| *2023-01-12*|\n",
       "|*Comments*| *18 pages, 11 figures. Accepted version, A&A (2023)*|\n",
       "|**Abstract**| Detecting a planetary companion in a short-period orbit through radio emission from the interaction with its host star is a new prospect in exoplanet science. Recently, a tantalising signal was found close to the low-mass stellar system GJ 1151 using LOFAR observations. We studied spectroscopic time-series data of GJ 1151 in order to search for planetary companions, investigate possible signatures of stellar magnetic activity, and to find possible explanations for the radio signal. We used the combined radial velocities measured from spectra acquired with the CARMENES, HARPS-N, and HPF instruments, extracted activity indices from those spectra in order to mitigate the impact of stellar magnetic activity on the data, and performed a detailed analysis of Gaia astrometry and all available photometric time series coming from the MEarth and ASAS-SN surveys. We found a M$>$10.6 M$_{\\oplus}$ companion to GJ 1151 in a 390d orbit at a separation of 0.57 au. Evidence for a second modulation is also present; this could be due to long-term magnetic variability or a second (substellar) companion. The star shows episodes of elevated magnetic activity, one of which could be linked to the observed LOFAR radio emission. We show that it is highly unlikely that the detected GJ 1151 b, or any additional outer companion is the source of the detected signal. We cannot firmly rule out the suggested explanation of an undetected short-period planet that could be related to the radio emission, as we establish an upper limit of 1.2 M$_{\\oplus}$ for the minimum mass. |"
      ],
      "text/plain": [
       "[arXiv:2301.04442] The CARMENES search for exoplanets around M dwarfs. A long-period planet  around GJ 1151 measured with CARMENES and HARPS-N data\n",
       "\tJ. Blanco-Pozo, et al. -- incl., <mark>M. Pérez-Torres</mark>, <mark>E. L. Brown</mark>, <mark>M. Kürster</mark>"
      ]
     },
     "metadata": {},
     "output_type": "display_data"
    },
    {
     "data": {
      "text/markdown": [
       "\n",
       "|||\n",
       "|---:|:---|\n",
       "| [![arXiv](https://img.shields.io/badge/arXiv-arXiv:2301.04533-b31b1b.svg)](https://arxiv.org/abs/arXiv:2301.04533) | **Very long baseline interferometry observations of the high-redshift  blazar candidate J0141-5427**  |\n",
       "|| K. É. Gabányi, et al. -- incl., <mark>S. Belladitta</mark> |\n",
       "|*Appeared on*| *2023-01-12*|\n",
       "|*Comments*| *8 pages, 4 figures, accepted for publication in PASA*|\n",
       "|**Abstract**| Active galactic nuclei (AGN) have been observed as far as redshift z~7. They are crucial in investigating the early Universe as well as the growth of supermassive black holes at their centres. Radio-loud AGN with their jets seen at a small viewing angle are called blazars and show relativistic boosting of their emission. Thus, their apparently brighter jets are easier to detect in the high-redshift Universe. DES J014132.4-542749.9 is a radio-luminous but X-ray weak blazar candidate at z = 5. We conducted high-resolution radio interferometric observations of this source with the Australian Long Baseline Array at 1.7 and 8.5 GHz. A single, compact radio emitting feature was detected at both frequencies with a flat radio spectrum. We derived the milliarcsecond-level accurate position of the object. The frequency dependence of its brightness temperature is similar to that of blazar sources observed at lower redshifts. Based on our observations, we can confirm its blazar nature. We compared its radio properties with those of two other similarly X-ray-weak and radio-bright AGN, and found that they show very different relativistic boosting characteristics. |"
      ],
      "text/plain": [
       "[arXiv:2301.04533] Very long baseline interferometry observations of the high-redshift  blazar candidate J0141-5427\n",
       "\tK. É. Gabányi, et al. -- incl., <mark>S. Belladitta</mark>"
      ]
     },
     "metadata": {},
     "output_type": "display_data"
    },
    {
     "data": {
      "text/markdown": [
       "## Failed papers"
      ],
      "text/plain": [
       "<IPython.core.display.Markdown object>"
      ]
     },
     "metadata": {},
     "output_type": "display_data"
    },
    {
     "data": {
      "text/markdown": [
       "\n",
       "|||\n",
       "|---:|:---|\n",
       "| [![arXiv](https://img.shields.io/badge/arXiv-arXiv:2301.04163-b31b1b.svg)](https://arxiv.org/abs/arXiv:2301.04163) | **Gamma-ray emission from spectrally resolved cosmic rays in galaxies**  |\n",
       "|| Maria Werhahn, Philipp Girichidis, Christoph Pfrommer, <mark>Joseph Whittingham</mark> |\n",
       "|*Appeared on*| *2023-01-12*|\n",
       "|*Comments*| *18 pages, 11 figures, submitted to MNRAS, comments are welcome!*|\n",
       "|**Abstract**| Cosmic rays (CRs) are ubiquitous in the interstellar medium (ISM) of nearby galaxies, but many of their properties are not well-constrained. Gamma-ray observations provide a powerful tool in this respect, allowing us to constrain both the interaction of CR protons with the ISM and their transport properties. To help better understand the link between observational signatures and CR physics, we use a series of magneto-hydrodynamical (MHD) AREPO simulations of isolated galaxies performed using spectrally-resolved CR transport in every computational cell, with subsequent gamma-ray emission calculated using the CRAYON+ (Cosmic RAY emissiON) code. In each of our simulated halos, modelling the energy-dependent spatial diffusion of CRs leads to a more extended distribution of high-energy (~100 GeV) gamma rays compared to that predicted by a 'grey' steady-state model, which is especially visible in the corresponding emission maps and radial profiles. Despite this, the total gamma-ray spectra can often be well approximated by the steady-state model, although recovering the same spectral index typically requires a minor variation of the energy dependence of the diffusion coefficient. Our simulations reproduce the observed spectral indices and gamma-ray spectra of nearby star-forming galaxies and also match recent observations of the far infrared--gamma-ray relation. We find, however, that the spectrally resolved model yields marginally smaller luminosities for lower star formation rates compared to grey simulations of CRs. Our work highlights the importance of modelling spectrally resolved CR transport for an accurate prediction of spatially resolved high-energy gamma-ray emission, as will be probed by the upcoming Cherenkov Telescope Array observatory. |\n",
       "|<p style=\"color:green\"> **ERROR** </p>| <p style=\"color:green\">affiliation error: mpia.affiliation_verifications: '69117' keyword not found.</p> |"
      ],
      "text/plain": [
       "<IPython.core.display.Markdown object>"
      ]
     },
     "metadata": {},
     "output_type": "display_data"
    },
    {
     "data": {
      "text/markdown": [
       "\n",
       "|||\n",
       "|---:|:---|\n",
       "| [![arXiv](https://img.shields.io/badge/arXiv-arXiv:2301.04164-b31b1b.svg)](https://arxiv.org/abs/arXiv:2301.04164) | **Study of the excess Fe XXV line emission in the central degrees of the  Galactic centre using XMM-Newton data**  |\n",
       "|| K. Anastasopoulou, et al. -- incl., <mark>Y. Zhang</mark> |\n",
       "|*Appeared on*| *2023-01-12*|\n",
       "|*Comments*| *21 pages, 11 figures, 7 tables, accepted for publication in A&A*|\n",
       "|**Abstract**| The diffuse Fe XXV (6.7 keV) line emission observed in the Galactic ridge is widely accepted to be produced by a superposition of a large number of unresolved X-ray point sources. In the very central degrees of our Galaxy, however, the existence of an extremely hot ($\\sim$7 keV) diffuse plasma is still under debate. In this work we measure the Fe XXV line emission using all available XMM-Newton observations of the Galactic centre (GC) and inner disc ($-10^{\\circ}$$<\\ell<10^{\\circ}$, $-2^{\\circ}<b<2^{\\circ}$). We use recent stellar mass distribution models to estimate the amount of X-ray emission originating from unresolved point sources, and find that within a region of $\\ell=\\pm1^{\\circ}$ and $b=\\pm0.25^\\circ$ the 6.7 keV emission is 1.3 to 1.5 times in excess of what is expected from unresolved point sources. The excess emission is enhanced towards regions where known supernova remnants are located, suggesting that at least a part of this emission is due to genuine diffuse very hot plasma. If the entire excess is due to very hot plasma, an energy injection rate of at least $\\sim6\\times10^{40}$ erg s$^{-1}$ is required, which cannot be provided by the measured supernova explosion rate or past Sgr A$^{*}$ activity alone. However, we find that almost the entire excess we observe can be explained by assuming GC stellar populations with iron abundances $\\sim$1.9 times higher than those in the bar/bulge, a value that can be reproduced by fitting diffuse X-ray spectra from the corresponding regions. Even in this case, a leftover X-ray excess is concentrated within $\\ell=\\pm0.3^{\\circ}$ and $b=\\pm0.15^\\circ$, corresponding to a thermal energy of $\\sim2\\times10^{52}$ erg, which can be reproduced by the estimated supernova explosion rate in the GC. Finally we discuss a possible connection to the observed GC Fermi-LAT excess. |\n",
       "|<p style=\"color:green\"> **ERROR** </p>| <p style=\"color:green\">affiliation error: mpia.affiliation_verifications: '69117' keyword not found.</p> |"
      ],
      "text/plain": [
       "<IPython.core.display.Markdown object>"
      ]
     },
     "metadata": {},
     "output_type": "display_data"
    },
    {
     "data": {
      "text/markdown": [
       "\n",
       "|||\n",
       "|---:|:---|\n",
       "| [![arXiv](https://img.shields.io/badge/arXiv-arXiv:2301.04145-b31b1b.svg)](https://arxiv.org/abs/arXiv:2301.04145) | **Are the fates of supermassive black holes and galaxies determined by  individual mergers, or by the properties of their host haloes?**  |\n",
       "|| <mark>Jonathan J. Davies</mark>, Andrew Pontzen, Robert A. Crain |\n",
       "|*Appeared on*| *2023-01-12*|\n",
       "|*Comments*| *11 pages, 5 figures. Submitted to MNRAS, comments welcome*|\n",
       "|**Abstract**| The fates of massive galaxies are tied to the evolution of their central supermassive black holes (BHs), due to the influence of AGN feedback. Correlations within simulated galaxy populations suggest that the masses of BHs are governed by properties of their host dark matter haloes, such as the binding energy and assembly time, at a given halo mass. However, the full picture must be more complex as galaxy mergers have also been shown to influence the growth of BHs and the impact of AGN. In this study, we investigate this problem by using the genetic modification technique to adjust the assembly history of a Milky Way-like galaxy simulated with the EAGLE model. We change the halo assembly time (and hence the binding energy) in the absence of any disruptive merger events, and find little change in the integrated growth of the BH. We attribute this to the angular momentum support provided by a galaxy disc, which reduces the inflow of gas towards the BH and effectively decouples the BH's growth from the properties of the halo. Introducing major mergers into the assembly history disrupts the disc, causing the BH to grow $\\approx 4\\times$ more massive and inject feedback that reduces the halo baryon fraction by a factor of $\\approx 2$ and quenches star formation. Merger events appear to be essential to the diversity in BH masses in EAGLE, and we show that they can also significantly increase the halo binding energy, potentially explaining the correlation between these quantities. |\n",
       "|<p style=\"color:green\"> **ERROR** </p>| <p style=\"color:green\">affiliation error: mpia.affiliation_verifications: 'Heidelberg' keyword not found.</p> |"
      ],
      "text/plain": [
       "<IPython.core.display.Markdown object>"
      ]
     },
     "metadata": {},
     "output_type": "display_data"
    },
    {
     "data": {
      "text/markdown": [
       "\n",
       "|||\n",
       "|---:|:---|\n",
       "| [![arXiv](https://img.shields.io/badge/arXiv-arXiv:2301.04148-b31b1b.svg)](https://arxiv.org/abs/arXiv:2301.04148) | **The Hubble Space Telescope UV Legacy Survey of Galactic Globular  Clusters. XXIV. Differences in internal kinematics of multiple stellar  populations**  |\n",
       "|| <mark>M. Libralato</mark>, et al. -- incl., <mark>T. M. Brown</mark> |\n",
       "|*Appeared on*| *2023-01-12*|\n",
       "|*Comments*| *10 pages, 4 figures, 2 tables. Accepted for publication on ApJ*|\n",
       "|**Abstract**| Our understanding of the kinematic properties of multiple stellar populations (mPOPs) in Galactic globular clusters (GCs) is still limited compared to what we know about their chemical and photometric characteristics. Such limitation arises from the lack of a comprehensive observational investigation of this topic. Here we present the first homogeneous kinematic analysis of mPOPs in 56 GCs based on high-precision proper motions computed with Hubble Space Telescope data. We focused on red-giant-branch stars, for which the mPOP tagging is clearer, and measured the velocity dispersion of stars belonging to first (1G) and second generations (2G). We find that 1G stars are generally kinematically isotropic even at the half-light radius, whereas 2G stars are isotropic at the center and become radially anisotropic before the half-light radius. The radial anisotropy is induced by a lower tangential velocity dispersion of 2G stars with respect to the 1G population, while the radial component of the motion is comparable. We also show possible evidence that the kinematic properties of mPOPs are affected by the Galactic tidal field, corroborating previous observational and theoretical results suggesting a relation between the strength of the external tidal field and some properties of mPOPs. Although limited to the GCs' central regions, our analysis leads to new insights into the mPOP phenomenon, and provides the motivation for future observational studies of the internal kinematics of mPOPs. |\n",
       "|<p style=\"color:green\"> **ERROR** </p>| <p style=\"color:green\">affiliation error: mpia.affiliation_verifications: 'Heidelberg' keyword not found.</p> |"
      ],
      "text/plain": [
       "<IPython.core.display.Markdown object>"
      ]
     },
     "metadata": {},
     "output_type": "display_data"
    },
    {
     "data": {
      "text/markdown": [
       "\n",
       "|||\n",
       "|---:|:---|\n",
       "| [![arXiv](https://img.shields.io/badge/arXiv-arXiv:2301.04149-b31b1b.svg)](https://arxiv.org/abs/arXiv:2301.04149) | **$\\rm [C_{II}]$ 158 $\\rm μm$ emission as an indicator of galaxy star  formation rate**  |\n",
       "|| <mark>Lichen Liang</mark>, et al. |\n",
       "|*Appeared on*| *2023-01-12*|\n",
       "|*Comments*| *42 page, 25 figures, 8 tables and 8 appendices. Key figures: fig. 16 & 17. Comments are welcome*|\n",
       "|**Abstract**| Observations of local star-forming galaxies (SFGs) show a tight correlation between their singly ionized carbon line luminosity ($L_{\\rm [C_{II}]}$) and star formation rate (SFR), suggesting that $L_{\\rm [C_{II}]}$ may be a useful SFR tracer for galaxies. Some other galaxy populations, however, are found to have lower $L_{\\rm [C_{II}]}{}/{}\\rm SFR$ than the local SFGs, including the infrared-luminous, starburst galaxies at low and high redshifts, as well as some moderately star-forming galaxies at the epoch of re-ionization (EoR). The origin of this `$\\rm [C_{II}]$ deficit' is unclear. In this work, we study the $L_{\\rm [C_{II}]}$-SFR relation of galaxies using a sample of $z=0-8$ galaxies with $M_*\\approx10^7-5\\times10^{11}\\,M_\\odot$ extracted from cosmological volume and zoom-in simulations from the Feedback in Realistic Environments (FIRE) project. We find a simple analytic expression for $L_{\\rm [C_{II}]}$/SFR of galaxies in terms of the following parameters: mass fraction of $\\rm [C_{II}]$-emitting gas ($f_{\\rm [C_{II}]}$), gas metallicity ($Z_{\\rm gas}$), gas density ($n_{\\rm gas}$) and gas depletion time ($t_{\\rm dep}{}={}M_{\\rm gas}{}/{}\\rm SFR$). We find two distinct physical regimes, where $t_{\\rm dep}$ ($Z_{\\rm gas}$) is the main driver of the $\\rm [C_{II}]$ deficit in $\\rm H_2$-rich ($\\rm H_2$-poor) galaxies. The observed $\\rm [C_{II}]$ deficit of IR-luminous galaxies and early EoR galaxies, corresponding to the two different regimes, is due to short gas depletion time and low gas metallicity, respectively. Our result indicates that $\\rm [C_{II}]$ deficit is a common phenomenon of galaxies, and caution needs to be taken when applying a constant $L_{\\rm [C_{II}]}$-to-SFR conversion factor derived from local SFGs to estimate cosmic SFR density at high redshifts and interpret data from upcoming $\\rm [C_{II}]$ line intensity mapping experiments. |\n",
       "|<p style=\"color:green\"> **ERROR** </p>| <p style=\"color:green\">affiliation error: mpia.affiliation_verifications: 'Heidelberg' keyword not found.</p> |"
      ],
      "text/plain": [
       "<IPython.core.display.Markdown object>"
      ]
     },
     "metadata": {},
     "output_type": "display_data"
    },
    {
     "data": {
      "text/markdown": [
       "\n",
       "|||\n",
       "|---:|:---|\n",
       "| [![arXiv](https://img.shields.io/badge/arXiv-arXiv:2301.04154-b31b1b.svg)](https://arxiv.org/abs/arXiv:2301.04154) | **Accelerated phase-mixing in the stellar halo due to a rotating bar**  |\n",
       "|| <mark>Elliot Y. Davies</mark>, Adam M. Dillamore, Eugene Vasiliev, Vasily Belokurov |\n",
       "|*Appeared on*| *2023-01-12*|\n",
       "|*Comments*| *5 pages, 7 figures, submitted to MNRAS*|\n",
       "|**Abstract**| In a galaxy merger, the stars tidally stripped from the satellite and accreted onto the host galaxy undergo phase mixing and form finely-grained structures in the phase space. However, these fragile structures may be destroyed in the subsequent galaxy evolution, in particular, by a rotating bar that appears well after the merger is completed. In this work, we investigate the survivability of phase-space structures in the presence of a bar. We find that a bar with amplitude and pattern speed similar to those of the Milky Way would blur and destroy a substantial amount of the substructure that consists of particles with pericentre radii comparable to the bar length. While this appears to be in tension with the recent discovery of phase-space chevrons in \\textit{Gaia} DR3 data, the most prominent chevrons in our simulations can still be recovered when applying the same analysis procedure as in observations. Moreover, the smoothing effect is less pronounced in the population of stars whose angular momenta have the opposite sign to the bar pattern speed. |\n",
       "|<p style=\"color:green\"> **ERROR** </p>| <p style=\"color:green\">affiliation error: mpia.affiliation_verifications: 'Heidelberg' keyword not found.</p> |"
      ],
      "text/plain": [
       "<IPython.core.display.Markdown object>"
      ]
     },
     "metadata": {},
     "output_type": "display_data"
    },
    {
     "data": {
      "text/markdown": [
       "\n",
       "|||\n",
       "|---:|:---|\n",
       "| [![arXiv](https://img.shields.io/badge/arXiv-arXiv:2301.04168-b31b1b.svg)](https://arxiv.org/abs/arXiv:2301.04168) | **Pixelated Reconstruction of Foreground Density and Background Surface  Brightness in Gravitational Lensing Systems using Recurrent Inference  Machines**  |\n",
       "|| Alexandre Adam, Laurence Perreault-Levasseur, <mark>Yashar Hezaveh</mark>, Max Welling |\n",
       "|*Appeared on*| *2023-01-12*|\n",
       "|*Comments*| *13+7 pages, 13 figures; Submitted to The Astrophysical Journal. arXiv admin note: text overlap with arXiv:2207.01073*|\n",
       "|**Abstract**| Modeling strong gravitational lenses in order to quantify the distortions in the images of background sources and to reconstruct the mass density in the foreground lenses has been a difficult computational challenge. As the quality of gravitational lens images increases, the task of fully exploiting the information they contain becomes computationally and algorithmically more difficult. In this work, we use a neural network based on the Recurrent Inference Machine (RIM) to simultaneously reconstruct an undistorted image of the background source and the lens mass density distribution as pixelated maps. The method iteratively reconstructs the model parameters (the image of the source and a pixelated density map) by learning the process of optimizing the likelihood given the data using the physical model (a ray-tracing simulation), regularized by a prior implicitly learned by the neural network through its training data. When compared to more traditional parametric models, the proposed method is significantly more expressive and can reconstruct complex mass distributions, which we demonstrate by using realistic lensing galaxies taken from the IllustrisTNG cosmological hydrodynamic simulation. |\n",
       "|<p style=\"color:green\"> **ERROR** </p>| <p style=\"color:green\">affiliation error: mpia.affiliation_verifications: 'Heidelberg' keyword not found.</p> |"
      ],
      "text/plain": [
       "<IPython.core.display.Markdown object>"
      ]
     },
     "metadata": {},
     "output_type": "display_data"
    },
    {
     "data": {
      "text/markdown": [
       "\n",
       "|||\n",
       "|---:|:---|\n",
       "| [![arXiv](https://img.shields.io/badge/arXiv-arXiv:2301.04177-b31b1b.svg)](https://arxiv.org/abs/arXiv:2301.04177) | **The Sloan Digital Sky Survey Reverberation Mapping Project: The Black  Hole Mass$-$Stellar Mass Relations at $0.2\\lesssim z\\lesssim 0.8$**  |\n",
       "|| <mark>Jennifer I-Hsiu Li</mark>, et al. |\n",
       "|*Appeared on*| *2023-01-12*|\n",
       "|*Comments*| *23 pages, 10 figures (Fig 9 is the key figure). Submitted to ApJ. The full figure set and ancillary data products can be found at this ftp URL*|\n",
       "|**Abstract**| We measure the correlation between black-hole mass $M_{\\rm BH}$ and host stellar mass $M_*$ for a sample of 38 broad-line quasars at $0.2\\lesssim z\\lesssim 0.8$ (median redshift $z_{\\rm med}=0.5$). The black-hole masses are derived from a dedicated reverberation mapping program for distant quasars, and the stellar masses are estimated from two-band optical+IR HST imaging. Most of these quasars are well centered within $\\lesssim 1$kpc from the host galaxy centroid, with only a few cases in merging/disturbed systems showing larger spatial offsets. Our sample spans two orders of magnitude in stellar mass ($\\sim 10^9-10^{11}\\,M_\\odot$) and black-hole mass ($\\sim 10^7-10^9\\,M_\\odot$), and reveals a significant correlation between the two quantities. We find a best-fit intrinsic (i.e., selection effects corrected) $M_{\\rm BH}-M_{\\rm *,host}$ relation of $\\log (M_{\\rm BH}/M_{\\rm \\odot})=7.01_{-0.33}^{+0.23} + 1.74_{-0.64}^{+0.64}\\log (M_{\\rm *,host}/10^{10}M_{\\rm \\odot})$, with an intrinsic scatter of $0.47_{-0.17}^{+0.24}$dex. Decomposing our quasar hosts into bulges and disks, there is a similar $M_{\\rm BH}-M_{\\rm *,bulge}$ relation with a slightly larger scatter, likely caused by systematic uncertainties in the bulge-disk decomposition. The $M_{\\rm BH}-M_{\\rm *,host}$ relation at $z_{\\rm med}=0.5$ is similar to that in local quiescent galaxies, with negligible evolution over the redshift range probed by our sample. With direct black-hole masses from reverberation mapping and a large dynamical range of the sample, selection biases do not appear to affect our conclusions significantly. Our results, along with other samples in the literature, suggest that the locally-measured black-hole mass$-$host stellar mass relation is already in place at $z\\sim 1$. |\n",
       "|<p style=\"color:green\"> **ERROR** </p>| <p style=\"color:green\">affiliation error: mpia.affiliation_verifications: 'Heidelberg' keyword not found.</p> |"
      ],
      "text/plain": [
       "<IPython.core.display.Markdown object>"
      ]
     },
     "metadata": {},
     "output_type": "display_data"
    },
    {
     "data": {
      "text/markdown": [
       "\n",
       "|||\n",
       "|---:|:---|\n",
       "| [![arXiv](https://img.shields.io/badge/arXiv-arXiv:2301.04206-b31b1b.svg)](https://arxiv.org/abs/arXiv:2301.04206) | **Detecting exomoons from radial velocity measurements of self-luminous  planets: application to observations of HR 7672 B and future prospects**  |\n",
       "|| Jean-Baptiste Ruffio, et al. -- incl., <mark>Lee J. Rosenthal</mark> |\n",
       "|*Appeared on*| *2023-01-12*|\n",
       "|*Comments*| *Accepted to AJ (Jan 10, 2023)*|\n",
       "|**Abstract**| The detection of satellites around extrasolar planets, so called exomoons, remains a largely unexplored territory. In this work, we study the potential of detecting these elusive objects from radial velocity monitoring of self-luminous directly imaged planets. This technique is now possible thanks to the development of dedicated instruments combining the power of high-resolution spectroscopy and high-contrast imaging. First, we demonstrate a sensitivity to satellites with a mass ratio of 1-4% at separations similar to the Galilean moons from observations of a brown-dwarf companion (HR 7672 B; Kmag=13; 0.7\" separation) with the Keck Planet Imager and Characterizer (KPIC; R~35,000 in K band) at the W. M. Keck Observatory. Current instrumentation is therefore already sensitive to large unresolved satellites that could be forming from gravitational instability akin to binary star formation. Using end-to-end simulations, we then estimate that future instruments such as MODHIS, planned for the Thirty Meter Telescope, should be sensitive to satellites with mass ratios of ~1e-4. Such small moons would likely form in a circumplanetary disk similar to the Jovian satellites in the solar system. Looking for the Rossiter-McLaughlin effect could also be an interesting pathway to detecting the smallest moons on short orbital periods. Future exomoon discoveries will allow precise mass measurements of the substellar companions that they orbit and provide key insight into the formation of exoplanets. They would also help constrain the population of habitable Earth-sized moons orbiting gas giants in the habitable zone of their stars. |\n",
       "|<p style=\"color:green\"> **ERROR** </p>| <p style=\"color:green\">affiliation error: mpia.affiliation_verifications: 'Heidelberg' keyword not found.</p> |"
      ],
      "text/plain": [
       "<IPython.core.display.Markdown object>"
      ]
     },
     "metadata": {},
     "output_type": "display_data"
    },
    {
     "data": {
      "text/markdown": [
       "\n",
       "|||\n",
       "|---:|:---|\n",
       "| [![arXiv](https://img.shields.io/badge/arXiv-arXiv:2301.04215-b31b1b.svg)](https://arxiv.org/abs/arXiv:2301.04215) | **High-mass eclipsing binaries: a testbed for models of interior structure  and evolution -- Accurate fundamental properties and surface chemical  composition for V1034 Sco, GL Car, V573 Car and V346 Cen**  |\n",
       "|| <mark>K. Pavlovski</mark>, et al. |\n",
       "|*Appeared on*| *2023-01-12*|\n",
       "|*Comments*| *Accepted for publication in Astronomy & Astrophysics*|\n",
       "|**Abstract**| The surface chemical compositions of stars are affected by physical processes which bring the products of thermonuclear burning to the surface. Despite their potential in understanding the structure and evolution of stars, elemental abundances are available for only a few high-mass binary stars. We aim to enlarge this sample by determining the physical properties and photospheric abundances for four eclipsing binary systems containing high-mass stars: V1034 Sco, GL Car, V573 Car and V346 Cen. The components have masses 8-17 Msun and effective temperatures from 22500 to 32200 K, and are all on the main sequence. We present new high-resolution and high signal-to-noise spectroscopy from HARPS, and analyse them using spectral disentangling and NLTE spectral synthesis. We model existing light curves and new photometry from the TESS satellite, We measure the stellar masses to 0.6-2.0 percent precision, radii to 0.8-1.7 percent precision, effective temperatures to 1.1-1.6 percent precision, and abundances of C, N, O, Mg and Si. The abundances are similar to those found in our previous studies of high-mass eclipsing binaries; our sample now comprises 25 high-mass stars in 13 binary systems. We also find tidally-excited pulsations in V346 Cen. We reinforce our previous conclusions: interior chemical element transport is not as efficient in binary star components as in their single-star counterparts in the same mass regime and evolutionary stage, possibly due to the effects of tidal forces. Our ultimate goal is to provide a larger sample of OB-type stars in binaries which would enable a thorough comparison to stellar evolutionary models, as well as to single high-mass stars. |\n",
       "|<p style=\"color:green\"> **ERROR** </p>| <p style=\"color:green\">affiliation error: mpia.affiliation_verifications: 'Heidelberg' keyword not found.</p> |"
      ],
      "text/plain": [
       "<IPython.core.display.Markdown object>"
      ]
     },
     "metadata": {},
     "output_type": "display_data"
    },
    {
     "data": {
      "text/markdown": [
       "\n",
       "|||\n",
       "|---:|:---|\n",
       "| [![arXiv](https://img.shields.io/badge/arXiv-arXiv:2301.04259-b31b1b.svg)](https://arxiv.org/abs/arXiv:2301.04259) | **SOAP-GPU: Efficient Spectral Modelling of Stellar Activity Using  Graphical Processing Units**  |\n",
       "|| <mark>Yinan Zhao</mark>, Xavier Dumusque |\n",
       "|*Appeared on*| *2023-01-12*|\n",
       "|*Comments*| *Accepted for publication in A&A*|\n",
       "|**Abstract**| Stellar activity mitigation is one of the major challenges for the detection of earth-like exoplanets in radial velocity (RV) measurements. Several promising techniques are now investigating the use of spectral time-series, to differentiate between stellar and planetary perturbations. In this paper, we present a new version of the Spot Oscillation And Planet (SOAP) 2.0 code that can model stellar activity at the spectral level using graphical processing units (GPUs). We take advantage of the computational power of GPUs to optimise the computationally expensive algorithms behind the original SOAP 2.0 code. We develope GPU kernels that allow to model stellar activity on any given wavelength range. In addition to the treatment of stellar activity at the spectral level, SOAP-GPU also includes the change of spectral line bisectors from center to limb, and can take as input PHOENIX spectra to model the quiet photosphere, spots and faculae, which allow to simulate stellar activity for a wide space in stellar properties. Benchmark calculations show that for the same accuracy, this new code improves the computational speed by a factor of 60 compared with a modified version of SOAP 2.0 that generates spectra, when modeling stellar activity on the full visible spectral range with a resolution of R=115'000. Although the code now includes the variation of spectral line bisector with center to limb angle, the effect on the derived RVs is small. The publicly available SOAP-GPU code allows to efficiently model stellar activity at the spectral level, which is essential to test further stellar activity mitigation techniques working at the level of spectral timeseries not affected by other sources of noise. Besides a huge gain in performance, SOAP-GPU also includes more physics and is able to model different stars than the Sun, from F to K dwarfs, thanks to the use of the PHOENIX spectral library. |\n",
       "|<p style=\"color:green\"> **ERROR** </p>| <p style=\"color:green\">affiliation error: mpia.affiliation_verifications: 'Heidelberg' keyword not found.</p> |"
      ],
      "text/plain": [
       "<IPython.core.display.Markdown object>"
      ]
     },
     "metadata": {},
     "output_type": "display_data"
    },
    {
     "data": {
      "text/markdown": [
       "\n",
       "|||\n",
       "|---:|:---|\n",
       "| [![arXiv](https://img.shields.io/badge/arXiv-arXiv:2301.04286-b31b1b.svg)](https://arxiv.org/abs/arXiv:2301.04286) | **Revisiting FS Aurigae and its triple cataclysmic variable system  hypothesis**  |\n",
       "|| Carlos E. Chavez, et al. -- incl., <mark>Cesar Ramos</mark>, <mark>Hector Aceves</mark> |\n",
       "|*Appeared on*| *2023-01-12*|\n",
       "|*Comments*| *16 pages, 5 figures*|\n",
       "|**Abstract**| A very long term variability (VLPP), with period of 875 days, was observed in the long-term light curve of FS Aurigae in 2011. This periodicity was calculated on 6 cycles. We re-examine the periodicity with new observations over of the past 5 yrs. A total of 18 yrs of observations confirm the hypothesis of a third body perturbing in a secular way the cataclysmic variable (CV). Improvements to the model such as eccentric and inclined orbits for the third body and a binary post-Newtonian correction are considered. We confirm the VLPP of FS Aur and find the new period of 857 $\\pm$ 78 days. The secular perturbations are most efficient when the mass of the third body is M=29 MJ, much less than the 50 MJ reported in 2011. We estimate the effect of the third body on the mass transfer rate and the brightness of the system. We consider alternative scenarios for the VLPP. The new data and analysis supports the hypothesis that FS Aur is a CV in a triple system. |\n",
       "|<p style=\"color:green\"> **ERROR** </p>| <p style=\"color:green\">affiliation error: mpia.affiliation_verifications: 'Heidelberg' keyword not found.</p> |"
      ],
      "text/plain": [
       "<IPython.core.display.Markdown object>"
      ]
     },
     "metadata": {},
     "output_type": "display_data"
    },
    {
     "data": {
      "text/markdown": [
       "\n",
       "|||\n",
       "|---:|:---|\n",
       "| [![arXiv](https://img.shields.io/badge/arXiv-arXiv:2301.04307-b31b1b.svg)](https://arxiv.org/abs/arXiv:2301.04307) | **Accretion of supersonic magnetized winds onto black holes**  |\n",
       "|| <mark>Miguel Gracia-Linares</mark>, Francisco S. Guzmán |\n",
       "|*Appeared on*| *2023-01-12*|\n",
       "|*Comments*| *9 pages, 10 figures. Accepted for publication in MNRAS*|\n",
       "|**Abstract**| We present the accretion of magnetized supersonic winds onto a rotating black hole in three dimensions. We select representative spin-wind orientations in order to illustrate its effects on the evolution and morphology of the shock cone. The most important finding in the magnetized case, unlike the purely hydrodynamical scenario, is the formation of rarified spots where the magnetic field pressure dominates over the gas pressure. In these rarified spots we find the formation of eddies within the shock cone. |\n",
       "|<p style=\"color:green\"> **ERROR** </p>| <p style=\"color:green\">affiliation error: mpia.affiliation_verifications: 'Heidelberg' keyword not found.</p> |"
      ],
      "text/plain": [
       "<IPython.core.display.Markdown object>"
      ]
     },
     "metadata": {},
     "output_type": "display_data"
    },
    {
     "data": {
      "text/markdown": [
       "\n",
       "|||\n",
       "|---:|:---|\n",
       "| [![arXiv](https://img.shields.io/badge/arXiv-arXiv:2301.04319-b31b1b.svg)](https://arxiv.org/abs/arXiv:2301.04319) | **Coronal Loop Heating by Nearly Incompressible Magnetohydrodynamic and  Reduced Magnetohydrodynamic Turbulence Models**  |\n",
       "|| Mehmet Sarp Yalim, Gary P. Zank, <mark>Mahboubeh Asgari-Targhi</mark> |\n",
       "|*Appeared on*| *2023-01-12*|\n",
       "|*Comments*| *23 pages, 6 figures, 1 table, The Astrophysical Journal, in press*|\n",
       "|**Abstract**| The transport of waves and turbulence beyond the photosphere is central to the coronal heating problem. Turbulence in the quiet solar corona has been modeled on the basis of the nearly incompressible magnetohydrodynamic (NI MHD) theory to describe the transport of low-frequency turbulence in open magnetic field regions. It describes the evolution of the coupled majority quasi-2D and minority slab component, driven by the magnetic carpet and advected by a subsonic, sub-Alfvenic flow from the lower corona. In this paper, we couple the NI MHD turbulence transport model with an MHD model of the solar corona to study the heating problem in a coronal loop. In a realistic benchmark coronal loop problem, we find that a loop can be heated to ~1.5 million K by transport and dissipation of MHD turbulence described by the NI MHD model. We also find that the majority 2D component is as important as the minority slab component in the heating of the coronal loop. We compare our coupled MHD/NI MHD model results with a reduced MHD (RMHD) model. An important distinction between these models is that RMHD solves for small-scale velocity and magnetic field fluctuations and obtains the actual viscous/resistive dissipation associated with their evolution whereas NI MHD evolves scalar moments of the fluctuating velocity and magnetic fields and approximates dissipation using an MHD turbulence phenomenology. Despite the basic differences between the models, their simulation results match remarkably well, yielding almost identical heating rates inside the corona. |\n",
       "|<p style=\"color:green\"> **ERROR** </p>| <p style=\"color:green\">affiliation error: mpia.affiliation_verifications: 'Heidelberg' keyword not found.</p> |"
      ],
      "text/plain": [
       "<IPython.core.display.Markdown object>"
      ]
     },
     "metadata": {},
     "output_type": "display_data"
    },
    {
     "data": {
      "text/markdown": [
       "\n",
       "|||\n",
       "|---:|:---|\n",
       "| [![arXiv](https://img.shields.io/badge/arXiv-arXiv:2301.04324-b31b1b.svg)](https://arxiv.org/abs/arXiv:2301.04324) | **Investigating the impact of reactions of C and CH with molecular  hydrogen on a glycine gas-grain network**  |\n",
       "|| <mark>Johannes Heyl</mark>, Thanja Lamberts, Serena Viti, Jonathan Holdship |\n",
       "|*Appeared on*| *2023-01-12*|\n",
       "|*Comments*| *11 pages, 3 figures, accepted for publication in MNRAS*|\n",
       "|**Abstract**| The impact of including the reactions of C and CH with molecular hydrogen in a gas-grain network is assessed via a sensitivity analysis. To this end, we vary 3 parameters, namely, the efficiency for the reaction \\ce{C + H2 -> CH2}, and the cosmic ray ionisation rate, with the third parameter being the final density of the collapsing dark cloud. A grid of 12 models is run to investigate the effect of all parameters on the final molecular abundances of the chemical network. We find that including reactions with molecular hydrogen alters the hydrogen economy of the network; since some species are hydrogenated by molecular hydrogen, atomic hydrogen is freed up. The abundances of simple molecules produced from hydrogenation, such as \\ce{CH4}, \\ce{CH3OH} and \\ce{NH3}, increase, and at the same time, more complex species such as glycine and its precursors see a significant decrease in their final abundances. We find that the precursors of glycine are being preferentially hydrogenated, and therefore glycine itself is produced less efficiently. |\n",
       "|<p style=\"color:green\"> **ERROR** </p>| <p style=\"color:green\">affiliation error: mpia.affiliation_verifications: 'Heidelberg' keyword not found.</p> |"
      ],
      "text/plain": [
       "<IPython.core.display.Markdown object>"
      ]
     },
     "metadata": {},
     "output_type": "display_data"
    },
    {
     "data": {
      "text/markdown": [
       "\n",
       "|||\n",
       "|---:|:---|\n",
       "| [![arXiv](https://img.shields.io/badge/arXiv-arXiv:2301.04418-b31b1b.svg)](https://arxiv.org/abs/arXiv:2301.04418) | **The comptonizing medium of the black-hole X-ray binary MAXI~J1535$-$571  through type-C quasi-periodic oscillations**  |\n",
       "|| Divya Rawat, et al. -- incl., <mark>Liang Zhang</mark> |\n",
       "|*Appeared on*| *2023-01-12*|\n",
       "|*Comments*| *15 pages, 8 figures, accepted for publication in MNRAS*|\n",
       "|**Abstract**| We present a detailed spectral and temporal analysis of the black-hole candidate MAXI~J1535$-$571 using NICER observations in September and October 2017. We focus specifically on observations in the hard-intermediate state when the source shows type-C quasi-periodic oscillations (QPOs). We fitted the time-averaged spectrum of the source and the rms and phase-lag spectra of the QPO with a one-component time-dependent Comptonization model. We found that the corona contracts from $\\sim 10^4$ to $\\sim 3 \\times 10^3$ km as the QPO frequency increases from $\\sim 1.8$ Hz to $\\sim 9.0$ Hz. The fits suggest that the system would consists of two coronas, a small one that dominates the time-averaged spectrum and a larger one, possibly the jet, that dominates the rms and lag spectra of the QPO. We found a significant break in the relation of the spectral parameters of the source and the properties of the QPO, including its lag spectra, with QPO frequency. The change in the relations happens when the QPO frequency crosses a critical frequency $\\nu_c \\approx 3.0$ Hz. Interestingly, the QPO reaches this critical frequency simultaneously as the radio emission from the jet in this source is quenched. |\n",
       "|<p style=\"color:green\"> **ERROR** </p>| <p style=\"color:green\">affiliation error: mpia.affiliation_verifications: 'Heidelberg' keyword not found.</p> |"
      ],
      "text/plain": [
       "<IPython.core.display.Markdown object>"
      ]
     },
     "metadata": {},
     "output_type": "display_data"
    },
    {
     "data": {
      "text/markdown": [
       "\n",
       "|||\n",
       "|---:|:---|\n",
       "| [![arXiv](https://img.shields.io/badge/arXiv-arXiv:2301.04445-b31b1b.svg)](https://arxiv.org/abs/arXiv:2301.04445) | **HI intensity mapping with MeerKAT: forecast for delay power spectrum  measurement using interferometer mode**  |\n",
       "|| <mark>Ming Zhang</mark>, <mark>Yichao Li</mark>, <mark>Jing-Fei Zhang</mark>, <mark>Xin Zhang</mark> |\n",
       "|*Appeared on*| *2023-01-12*|\n",
       "|*Comments*| *10 pages, 10 figures*|\n",
       "|**Abstract**| Neutral hydrogen (HI) intensity mapping (IM) survey is generally regarded as a promising tool to explore the expansion history of the universe. In this work, we investigate the capability of MeerKAT HI IM observation in interferometric mode to estimate the power spectrum and constrain cosmological parameters in typical dark energy models. Besides, a novel approach of delay spectrum is employed, which can achieve separating the weak HI signal from the foreground in the frequency space. We find that the different survey fields have a great influence on the fractional errors on power spectrum $\\Delta P/P$ in a limited observational time of 10 h. With the integration time increasing from 10 h to 10000 h, $\\Delta P/P$ becomes distinctly smaller until the cosmic variance begins to dominate. In the total 10000 h observation, the lower $\\Delta P/P$ in low $k$ can be achieved when tracking 100 points for MeerKAT L-band and 10 points for MeerKAT UHF-band. Through simulating 10000 h HI IM survey, we obtain $\\sigma(\\Omega_{\\rm m})=0.044$ and $\\sigma(H_0)=2.8~{\\rm km\\ s^{-1}\\ Mpc^{-1}}$ with MeerKAT L-band, which are worse than the results of $\\sigma(\\Omega_{\\rm m})=0.028$ and $\\sigma(H_0)=2.0~{\\rm km\\ s^{-1}\\ Mpc^{-1}}$ with MeerKAT UHF-band in the $\\Lambda$CDM model. However, in the $w$CDM and CPL models, MeerKAT shows a limited capability of constraining dark-energy equation of state, even though combined with Planck data. Our analysis is shown to be a useful guide for the near future MeerKAT observations in HI IM survey. |\n",
       "|<p style=\"color:green\"> **ERROR** </p>| <p style=\"color:green\">affiliation error: mpia.affiliation_verifications: 'Heidelberg' keyword not found.</p> |"
      ],
      "text/plain": [
       "<IPython.core.display.Markdown object>"
      ]
     },
     "metadata": {},
     "output_type": "display_data"
    },
    {
     "data": {
      "text/markdown": [
       "\n",
       "|||\n",
       "|---:|:---|\n",
       "| [![arXiv](https://img.shields.io/badge/arXiv-arXiv:2301.04543-b31b1b.svg)](https://arxiv.org/abs/arXiv:2301.04543) | **A Characterization of the ALMA Phasing System at 345 GHz**  |\n",
       "|| G. B. Crew, et al. -- incl., <mark>L. D. Matthews</mark> |\n",
       "|*Appeared on*| *2023-01-12*|\n",
       "|*Comments*| *22 pages, 11 figures, 7 tables, accepted for publication in PASP*|\n",
       "|**Abstract**| The development of the Atacama Large Millimeter/submillimeter Array (ALMA) phasing system (APS) has allowed ALMA to function as an extraordinarily sensitive station for very long baseline interferometry (VLBI) at frequencies of up to 230 GHz (~1.3 mm). Efforts are now underway to extend use of the APS to 345 GHz (~0.87 mm). Here we report a characterization of APS performance at 345 GHz based on a series of tests carried out between 2015-2021, including a successful global VLBI test campaign conducted in 2018 October in collaboration with the Event Horizon Telescope (EHT). |\n",
       "|<p style=\"color:green\"> **ERROR** </p>| <p style=\"color:green\">affiliation error: mpia.affiliation_verifications: 'Heidelberg' keyword not found.</p> |"
      ],
      "text/plain": [
       "<IPython.core.display.Markdown object>"
      ]
     },
     "metadata": {},
     "output_type": "display_data"
    },
    {
     "data": {
      "text/markdown": [
       "\n",
       "|||\n",
       "|---:|:---|\n",
       "| [![arXiv](https://img.shields.io/badge/arXiv-arXiv:2301.04586-b31b1b.svg)](https://arxiv.org/abs/arXiv:2301.04586) | **AI-assisted reconstruction of cosmic velocity field from redshift-space  spatial distribution of halos**  |\n",
       "|| Ziyong Wu, et al. -- incl., <mark>Liang Xiao</mark>, <mark>Le Zhang</mark>, <mark>Xiao-Dong Li</mark> |\n",
       "|*Appeared on*| *2023-01-12*|\n",
       "|*Comments*| *15 pages, 13 figures*|\n",
       "|**Abstract**| The peculiar velocities of dark matter halos are crucial to study many issues in cosmology and galaxy evolution. In this study, by using the state-of-the-art deep learning technique, a UNet-based neural network, we propose to reconstruct the peculiar velocity field from the redshift-space distribution of dark matter halos. Through a point-to-point comparison and examination of various statistical properties, we demonstrate that, the reconstructed velocity field is in good agreement with the ground truth. The power spectra of various velocity field components, including velocity magnitude, divergence and vorticity, can be successfully recovered when $k\\lesssim 1.1$ $h/\\rm Mpc$ (the Nyquist frequency of the simulations) at about 80% accuracy. This approach is very promising and presents an alternative method to correct the redshift-space distortions using the measured 3D spatial information of halos. Additionally, for the reconstruction of the momentum field of halos, UNet achieves similar good results. Hence the applications in various aspects of cosmology are very broad, such as correcting redshift errors and improving measurements in the structure of the cosmic web, the kinetic Sunyaev-Zel'dovich effect, BAO reconstruction, etc. |\n",
       "|<p style=\"color:green\"> **ERROR** </p>| <p style=\"color:green\">affiliation error: mpia.affiliation_verifications: 'Heidelberg' keyword not found.</p> |"
      ],
      "text/plain": [
       "<IPython.core.display.Markdown object>"
      ]
     },
     "metadata": {},
     "output_type": "display_data"
    },
    {
     "data": {
      "text/markdown": [
       "\n",
       "|||\n",
       "|---:|:---|\n",
       "| [![arXiv](https://img.shields.io/badge/arXiv-arXiv:2301.04637-b31b1b.svg)](https://arxiv.org/abs/arXiv:2301.04637) | **A Systematic Study of Ia-CSM Supernovae from the ZTF Bright Transient  Survey**  |\n",
       "|| <mark>Yashvi Sharma</mark>, et al. -- incl., <mark>Nora Linn Strotjohann</mark>, <mark>Frank J. Masci</mark>, <mark>Lin Yan</mark> |\n",
       "|*Appeared on*| *2023-01-12*|\n",
       "|*Comments*| *26 pages, 14 figures, 5 tables. Submitted to ApJ*|\n",
       "|**Abstract**| Among the supernovae (SNe) that show strong interaction with the circumstellar medium, there is a rare subclass of Type Ia supernovae, SNe Ia-CSM, that show strong narrow hydrogen emission lines much like SNe IIn but on top of a diluted over-luminous Type Ia spectrum. In the only previous systematic study of this class (Silverman et al. 2013), 16 objects were identified, 8 historic and 8 from the Palomar Transient Factory (PTF). Now using the successor survey to PTF, the Zwicky Transient Facility (ZTF), we have classified 12 additional objects of this type through the systematic Bright Transient Survey (BTS). In this study, we present and analyze the optical and mid-IR light curves, optical spectra, and host galaxy properties of this sample. Consistent with previous studies, we find the objects to have slowly evolving light curves compared to normal SNe Ia with peak absolute magnitudes between -19.1 and -21, spectra having weak H$\\beta$, large Balmer decrements of ~7 and strong Ca NIR emission. Out of 10 SNe from our sample observed by NEOWISE, 9 have $3\\sigma$ detections, along with some showing a clear reduction in red-wing of H$\\alpha$, indicative of newly formed dust. We do not find our SN Ia-CSM sample to have a significantly different distribution of equivalent width of He I $\\lambda5876$ than SNe IIn as observed in Silverman et al. 2013. The hosts tend to be late-type galaxies with recent star formation. We also derive a rate estimate of 29$^{+27}_{-21}$ Gpc$^{-3}$ yr$^{-1}$ for SNe Ia-CSM which is ~0.02--0.2 % of the SN Ia rate. This work nearly doubles the sample of well-studied Ia-CSM objects in Silverman et al. 2013, increasing the total number to 28. |\n",
       "|<p style=\"color:green\"> **ERROR** </p>| <p style=\"color:green\">affiliation error: mpia.affiliation_verifications: 'Heidelberg' keyword not found.</p> |"
      ],
      "text/plain": [
       "<IPython.core.display.Markdown object>"
      ]
     },
     "metadata": {},
     "output_type": "display_data"
    },
    {
     "data": {
      "text/markdown": [
       "\n",
       "|||\n",
       "|---:|:---|\n",
       "| [![arXiv](https://img.shields.io/badge/arXiv-arXiv:2301.04498-b31b1b.svg)](https://arxiv.org/abs/arXiv:2301.04498) | **VTSCat: The VERITAS Catalog of Gamma-Ray Observations**  |\n",
       "|| W. Benbow, et al. -- incl., <mark>A. Brill</mark>, <mark>A. Gent</mark>, <mark>O. Hervet</mark>, <mark>G. Hughes</mark>, <mark>T. K. Kleiner</mark>, <mark>M. J. Lang</mark> |\n",
       "|*Appeared on*| *2023-01-12*|\n",
       "|*Comments*| **|\n",
       "|**Abstract**| The ground-based gamma-ray observatory VERITAS (Very Energetic Radiation Imaging Telescope Array System) is sensitive to photons of astrophysical origin with energies in the range between $\\approx 85$ GeV to $\\approx 30$ TeV. The instrument consists of four 12-m diameter imaging Cherenkov telescopes operating at the Fred Lawrence Whipple Observatory (FLWO) in southern Arizona. VERITAS started four-telescope operations in 2007 and collects about 1100 hours of good-weather data per year. The VERITAS collaboration has published over 100 journal articles since 2008 reporting on gamma-ray observations of a large variety of objects: Galactic sources like supernova remnants, pulsar wind nebulae, and binary systems; extragalactic sources like star forming galaxies, dwarf-spheroidal galaxies, and highly-variable active galactic nuclei. This note presents VTSCat: the catalog of high-level data products from all VERITAS publications. |\n",
       "|<p style=\"color:green\"> **ERROR** </p>| <p style=\"color:green\">affiliation error: mpia.affiliation_verifications: 'Max' keyword not found.</p> |"
      ],
      "text/plain": [
       "<IPython.core.display.Markdown object>"
      ]
     },
     "metadata": {},
     "output_type": "display_data"
    },
    {
     "data": {
      "text/markdown": [
       "\n",
       "|||\n",
       "|---:|:---|\n",
       "| [![arXiv](https://img.shields.io/badge/arXiv-arXiv:2301.04409-b31b1b.svg)](https://arxiv.org/abs/arXiv:2301.04409) | **Comprehensive spectroscopic and photometric study of pulsating eclipsing  binary star AI Hya**  |\n",
       "|| F. Kahraman Alivacus, et al. -- incl., <mark>K. G. Hełminiak</mark> |\n",
       "|*Appeared on*| *2023-01-12*|\n",
       "|*Comments*| *Accepted for publication in MNRAS*|\n",
       "|**Abstract**| The pulsating eclipsing binaries are remarkable systems that provide an opportunity to probe the stellar interior and to determine the fundamental stellar parameters precisely. Especially the detached eclipsing binary systems with (a) pulsating component(s) are significant objects to understand the nature of the oscillations since the binary effects in these systems are negligible. Recent studies based on space data have shown that the pulsation mechanisms of some oscillating stars are not completely understood. Hence, comprehensive studies of a number of pulsating stars within detached eclipsing binaries are important. In this study, we present a detailed analysis of the pulsating detached eclipsing binary system AI Hya which was studied by two independent groups with different methods. We carried out a spectroscopic survey to estimate the orbital parameters via radial velocity measurements and the atmospheric parameters of each binary component using the composite and/or disentangled spectra. We found that the more luminous component of the system is a massive, cool and chemically normal star while the hotter binary component is a slightly metal-rich object. The fundamental parameters of AI Hya were determined by the analysis of binary variations and subsequently used in the evolutionary modelling. Consequently, we obtained the age of the system as 850 $\\pm$ 20 Myr and found that both binary components are situated in the Delta Scuti instability strip. The frequency analysis revealed pulsation frequencies between the 5.5 - 13.0 d$^{-1}$ and we tried to estimate which binary component is the pulsating one. However, it turned out that those frequencies could originate from both binary components. |\n",
       "|<p style=\"color:red\"> **ERROR** </p>| <p style=\"color:red\">latex error 'utf-8' codec can't decode byte 0xc7 in position 3324: invalid continuation byte</p> |"
      ],
      "text/plain": [
       "<IPython.core.display.Markdown object>"
      ]
     },
     "metadata": {},
     "output_type": "display_data"
    },
    {
     "data": {
      "text/markdown": [
       "\n",
       "|||\n",
       "|---:|:---|\n",
       "| [![arXiv](https://img.shields.io/badge/arXiv-arXiv:2301.04136-b31b1b.svg)](https://arxiv.org/abs/arXiv:2301.04136) | **Focused Space Weather Strategy for Securing Earth, and Human Exploration  of the Moon and Mars**  |\n",
       "|| A. Posner, et al. -- incl., <mark>B. Heber</mark> |\n",
       "|*Appeared on*| *2023-01-12*|\n",
       "|*Comments*| *Heliophysics 2050 White Paper*|\n",
       "|**Abstract**| This white paper recognizes gaps in observations that will, when addressed, much improve solar radiation hazard and geomagnetic storm forecasting. Radiation forecasting depends on observations of the entire \"Solar Radiation Hemisphere\" that we will define. Mars exploration needs strategic placement of radiation-relevant observations. We also suggest an orbital solution that will improve geomagnetic storm forecasting through improved in situ and solar/heliospheric remote sensing. |\n",
       "|<p style=\"color:red\"> **ERROR** </p>| <p style=\"color:red\">latex error not a gzip file</p> |"
      ],
      "text/plain": [
       "<IPython.core.display.Markdown object>"
      ]
     },
     "metadata": {},
     "output_type": "display_data"
    },
    {
     "data": {
      "text/markdown": [
       "\n",
       "|||\n",
       "|---:|:---|\n",
       "| [![arXiv](https://img.shields.io/badge/arXiv-arXiv:2301.04476-b31b1b.svg)](https://arxiv.org/abs/arXiv:2301.04476) | **Mid-infrared bi-directional reflectance spectroscopy of impact melt  glasses and tektites**  |\n",
       "|| Andreas Morlok, et al. -- incl., <mark>Joern Helbert</mark> |\n",
       "|*Appeared on*| *2023-01-12*|\n",
       "|*Comments*| **|\n",
       "|**Abstract**| We have analyzed 14 impact melt glass samples, covering the compositional range from highly felsic to mafic/basaltic, as part of our effort to provide mid-infrared spectra (7-14 micron) for MERTIS (Mercury Radiometer and Thermal Infrared Spectrometer), an instrument onboard of the ESA/JAXA BepiColombo mission. Since Mercury was exposed to many impacts in its history, and impact glasses are also common on other bodies, powders of tektites (Irghizite, Libyan Desert Glass, Moldavite, Muong Nong, Thailandite) and impact glasses (from the Dellen, El'gygytgyn, Lonar, Mien, Mistastin, and Popigai impact structures) were analyzed in four size fractions of (0-25, 25-63, 93-125 and 125-250 micron) from 2.5 to 19 micron in bi-directional reflectance. The characteristic Christiansen Feature (CF) is identified between 7.3 micron (Libyan Desert Glass) and 8.2 micron (Dellen). Most samples show mid-infrared spectra typical of highly amorphous material, dominated by a strong Reststrahlen Band (RB) between 8.9 micron (Libyan Desert Glass) and 10.3 micron (Dellen). Even substantial amounts of mineral fragments hardly affect this general band shape. Comparisons of the SiO2 content representing the felsic/mafic composition of the samples with the CF shows felsic/intermediate glass and tektites forming a big group, and comparatively mafic samples a second one. An additional sign of a highly amorphous state is the lack of features at wavelengths longer than about 15 micron. The tektites and two impact glasses, Irghizite and El'gygytgyn respectively, have much weaker water features than most of the other impact glasses. |\n",
       "|<p style=\"color:red\"> **ERROR** </p>| <p style=\"color:red\">latex error not a gzip file</p> |"
      ],
      "text/plain": [
       "<IPython.core.display.Markdown object>"
      ]
     },
     "metadata": {},
     "output_type": "display_data"
    }
   ],
   "source": [
    "import datetime\n",
    "today = str(datetime.date.today())\n",
    "logfile = f\"_build/html/logs/log-{today}.md\"\n",
    "\n",
    "\n",
    "with open(logfile, 'w') as logs:\n",
    "    # Success\n",
    "    logs.write(f'# Arxiv on Deck 2: Logs - {today}\\n\\n')\n",
    "    logs.write(\"\"\"* Arxiv had {0:,d} new papers\\n\"\"\".format(len(new_papers)))\n",
    "    logs.write(\"\"\"    * {0:,d} with possible author matches\\n\\n\"\"\".format(len(candidates)))\n",
    "    logs.write(\"## Sucessful papers\\n\\n\")\n",
    "    display(Markdown(\"## Successful papers\"))\n",
    "    success = [k[0] for k in documents]\n",
    "    for candid in candidates:\n",
    "        if candid['identifier'].split(':')[-1] in success:\n",
    "            display(candid)\n",
    "            logs.write(candid.generate_markdown_text() + '\\n\\n')\n",
    "\n",
    "    ## failed\n",
    "    logs.write(\"## Failed papers\\n\\n\")\n",
    "    display(Markdown(\"## Failed papers\"))\n",
    "    failed = sorted(failed, key=lambda x: x[1])\n",
    "    current_reason = \"\"\n",
    "    for paper, reason in failed:\n",
    "        if 'affiliation' in reason:\n",
    "            color = 'green'\n",
    "        else:\n",
    "            color = 'red'\n",
    "        data = Markdown(\n",
    "                paper.generate_markdown_text() + \n",
    "                f'\\n|<p style=\"color:{color:s}\"> **ERROR** </p>| <p style=\"color:{color:s}\">{reason:s}</p> |'\n",
    "               )\n",
    "        if reason != current_reason:\n",
    "            logs.write(f'### {reason:s} \\n\\n')\n",
    "            current_reason = reason\n",
    "        logs.write(data.data + '\\n\\n')\n",
    "        \n",
    "        # only display here the important errors (all in logs)\n",
    "        # if color in ('red',):\n",
    "        display(data)"
   ]
  },
  {
   "cell_type": "markdown",
   "id": "472d20ee",
   "metadata": {
    "papermill": {
     "duration": 0.012208,
     "end_time": "2023-01-12T04:10:20.308630",
     "exception": false,
     "start_time": "2023-01-12T04:10:20.296422",
     "status": "completed"
    },
    "tags": []
   },
   "source": [
    "## Export documents\n",
    "\n",
    "We now write the .md files and export relevant images"
   ]
  },
  {
   "cell_type": "code",
   "execution_count": 7,
   "id": "d426aed9",
   "metadata": {
    "execution": {
     "iopub.execute_input": "2023-01-12T04:10:20.335989Z",
     "iopub.status.busy": "2023-01-12T04:10:20.335188Z",
     "iopub.status.idle": "2023-01-12T04:10:20.346231Z",
     "shell.execute_reply": "2023-01-12T04:10:20.345404Z"
    },
    "papermill": {
     "duration": 0.028302,
     "end_time": "2023-01-12T04:10:20.349673",
     "exception": false,
     "start_time": "2023-01-12T04:10:20.321371",
     "status": "completed"
    },
    "tags": []
   },
   "outputs": [],
   "source": [
    "def export_markdown_summary(md: str, md_fname:str, directory: str):\n",
    "    \"\"\"Export MD document and associated relevant images\"\"\"\n",
    "    import os\n",
    "    import shutil\n",
    "    import re\n",
    "\n",
    "    if (os.path.exists(directory) and not os.path.isdir(directory)):\n",
    "        raise RuntimeError(f\"a non-directory file exists with name {directory:s}\")\n",
    "\n",
    "    if (not os.path.exists(directory)):\n",
    "        print(f\"creating directory {directory:s}\")\n",
    "        os.mkdir(directory)\n",
    "\n",
    "    fig_fnames = (re.compile(r'\\[Fig.*\\]\\((.*)\\)').findall(md) + \n",
    "                  re.compile(r'\\<img src=\"([^>\\s]*)\"[^>]*/>').findall(md))\n",
    "    for fname in fig_fnames:\n",
    "        if 'http' in fname:\n",
    "            # No need to copy online figures\n",
    "            continue\n",
    "        destdir = os.path.join(directory, os.path.dirname(fname))\n",
    "        destfname = os.path.join(destdir, os.path.basename(fname))\n",
    "        try:\n",
    "            os.makedirs(destdir)\n",
    "        except FileExistsError:\n",
    "            pass\n",
    "        shutil.copy(fname, destfname)\n",
    "    with open(os.path.join(directory, md_fname), 'w') as fout:\n",
    "        fout.write(md)\n",
    "    print(\"exported in \", os.path.join(directory, md_fname))\n",
    "    [print(\"    + \" + os.path.join(directory,fk)) for fk in fig_fnames]"
   ]
  },
  {
   "cell_type": "code",
   "execution_count": 8,
   "id": "014d04a4",
   "metadata": {
    "execution": {
     "iopub.execute_input": "2023-01-12T04:10:20.378952Z",
     "iopub.status.busy": "2023-01-12T04:10:20.378025Z",
     "iopub.status.idle": "2023-01-12T04:10:20.388996Z",
     "shell.execute_reply": "2023-01-12T04:10:20.388050Z"
    },
    "papermill": {
     "duration": 0.026636,
     "end_time": "2023-01-12T04:10:20.391026",
     "exception": false,
     "start_time": "2023-01-12T04:10:20.364390",
     "status": "completed"
    },
    "tags": []
   },
   "outputs": [
    {
     "name": "stdout",
     "output_type": "stream",
     "text": [
      "exported in  _build/html/2301.04442.md\n",
      "    + _build/html/tmp_2301.04442/./pics/selection/Sin_Quad_LS_data_3_subplot.png\n",
      "    + _build/html/tmp_2301.04442/./pics/selection/p1_quad_res_quad_term_data_LS_no_label.png\n",
      "    + _build/html/tmp_2301.04442/./pics/selection/p1_quad_res_data_LS_no_label.png\n",
      "    + _build/html/tmp_2301.04442/./pics/selection/LS_photometry_MEarth_individually.jpeg\n",
      "    + _build/html/tmp_2301.04442/./pics/selection/LS_photometry_selection.jpeg\n",
      "    + _build/html/tmp_2301.04442/./pics/selection/significant_indices_LS_1409.jpeg\n",
      "exported in  _build/html/2301.04533.md\n",
      "    + _build/html/tmp_2301.04533/./J0141_L.png\n",
      "    + _build/html/tmp_2301.04533/./J0141_Xamplcal.png\n",
      "    + _build/html/tmp_2301.04533/./radiospectrum.png\n"
     ]
    }
   ],
   "source": [
    "for paper_id, md in documents:\n",
    "    export_markdown_summary(md, f\"{paper_id:s}.md\", '_build/html/')"
   ]
  },
  {
   "cell_type": "markdown",
   "id": "f087a0a7",
   "metadata": {
    "papermill": {
     "duration": 0.012214,
     "end_time": "2023-01-12T04:10:20.416434",
     "exception": false,
     "start_time": "2023-01-12T04:10:20.404220",
     "status": "completed"
    },
    "tags": []
   },
   "source": [
    "## Display the papers\n",
    "\n",
    "Not necessary but allows for a quick check."
   ]
  },
  {
   "cell_type": "code",
   "execution_count": 9,
   "id": "fd25f625",
   "metadata": {
    "execution": {
     "iopub.execute_input": "2023-01-12T04:10:20.484140Z",
     "iopub.status.busy": "2023-01-12T04:10:20.483341Z",
     "iopub.status.idle": "2023-01-12T04:10:20.495142Z",
     "shell.execute_reply": "2023-01-12T04:10:20.494267Z"
    },
    "papermill": {
     "duration": 0.07185,
     "end_time": "2023-01-12T04:10:20.501942",
     "exception": false,
     "start_time": "2023-01-12T04:10:20.430092",
     "status": "completed"
    },
    "scrolled": false,
    "tags": []
   },
   "outputs": [
    {
     "data": {
      "text/markdown": [
       "<div class=\"macros\" style=\"visibility:hidden;\">\n",
       "$\\newcommand{\\ensuremath}{}$\n",
       "$\\newcommand{\\xspace}{}$\n",
       "$\\newcommand{\\object}[1]{\\texttt{#1}}$\n",
       "$\\newcommand{\\farcs}{{.}''}$\n",
       "$\\newcommand{\\farcm}{{.}'}$\n",
       "$\\newcommand{\\arcsec}{''}$\n",
       "$\\newcommand{\\arcmin}{'}$\n",
       "$\\newcommand{\\ion}[2]{#1#2}$\n",
       "$\\newcommand{\\textsc}[1]{\\textrm{#1}}$\n",
       "$\\newcommand{\\hl}[1]{\\textrm{#1}}$\n",
       "$\\newcommand{\\arraystretch}{1.0}$</div>\n",
       "\n",
       "<div class=\"macros\" style=\"visibility:hidden;\">\n",
       "$\\newcommand{$\\ensuremath$}{}$\n",
       "$\\newcommand{$\\xspace$}{}$\n",
       "$\\newcommand{$\\object$}[1]{\\texttt{#1}}$\n",
       "$\\newcommand{$\\farcs$}{{.}''}$\n",
       "$\\newcommand{$\\farcm$}{{.}'}$\n",
       "$\\newcommand{$\\arcsec$}{''}$\n",
       "$\\newcommand{$\\arcmin$}{'}$\n",
       "$\\newcommand{$\\ion$}[2]{#1#2}$\n",
       "$\\newcommand{$\\textsc$}[1]{\\textrm{#1}}$\n",
       "$\\newcommand{$\\hl$}[1]{\\textrm{#1}}$\n",
       "$\\newcommand{$\\arraystretch$}{1.0}$</div>\n",
       "\n",
       "\n",
       "\n",
       "<div id=\"title\">\n",
       "\n",
       "# The CARMENES search for exoplanets around M dwarfs\n",
       "\n",
       "</div>\n",
       "<div id=\"comments\">\n",
       "\n",
       "[![arXiv](https://img.shields.io/badge/arXiv-2301.04442-b31b1b.svg)](https://arxiv.org/abs/2301.04442)<mark>Appeared on: 2023-01-12</mark> - _18 pages, 11 figures. Accepted version, A&A (2023)_\n",
       "\n",
       "</div>\n",
       "<div id=\"authors\">\n",
       "\n",
       "J. Blanco-Pozo, et al. -- incl., <mark><mark>M. Pérez-Torres</mark></mark>, <mark><mark>E. L. Brown</mark></mark>, <mark><mark>M. Kürster</mark></mark>\n",
       "\n",
       "</div>\n",
       "<div id=\"abstract\">\n",
       "\n",
       "**Abstract:** Detecting a planetary companion in a short-period orbit through radio emission from the interaction with its host star is a new prospect in exoplanet science. Recently, a tantalising signal was found  close to the low-mass stellar system GJ 1151 using LOFAR observations.We studied spectroscopic time-series data of GJ 1151 in order to search for planetary companions, investigate possible signatures of stellar magnetic activity, and to find possible explanations for the radio signal.We used the combined radial velocities measured from spectra acquired with the CARMENES, HARPS-N, and HPF instruments, extracted activity indices from those spectra in order to mitigate the impact of stellar magnetic activity on the data, and performed a detailed analysis of{\\it Gaia}astrometry and all available photometric time series coming from the MEarth and ASAS-SN surveys.We found a M$>$10.6 M$_{\\oplus}$companion to GJ 1151 in a 390d orbit at a separation of 0.57 au. Evidence for a second modulation is also present; this could be due to long-term magnetic variability or a second (substellar) companion. The star shows episodes of elevated magnetic activity, one of which could be linked to the observed LOFAR radio emission. We show that it is highly unlikely that the detected GJ 1151 b, or any additional outer companion is the source of the detected signal. We cannot firmly rule out the suggested explanation of an undetected short-period planet that could be relatedto the radio emission,  as we establish an upper limit of 1.2 M$_{\\oplus}$for the minimum mass.\n",
       "\n",
       "</div>\n",
       "\n",
       "<div id=\"div_fig1\">\n",
       "\n",
       "<img src=\"tmp_2301.04442/./pics/selection/Sin_Quad_LS_data_3_subplot.png\" alt=\"Fig7.1\" width=\"33%\"/><img src=\"tmp_2301.04442/./pics/selection/p1_quad_res_quad_term_data_LS_no_label.png\" alt=\"Fig7.2\" width=\"33%\"/><img src=\"tmp_2301.04442/./pics/selection/p1_quad_res_data_LS_no_label.png\" alt=\"Fig7.3\" width=\"33%\"/>\n",
       "\n",
       "**Figure 7. -** RV time-series data (left panels) and periodograms (red dashed lines as the 0.1, 1, and 10\\% FAP levels) of the best-fitting model consisting of a sinusoid and a parabola. The middle panels show the low-frequency portion of the periodograms ($P>50$ d) and we mark the rotational period at 140,  including its uncertainty of $\\pm$10 d, with the blue vertical area, and the planetary period at 390 d with the green vertical line. In the right panel, the full periodogram is shown. In the top panels, we show the data as observed (green: CARMENES, red: HPF, blue: HARPS-N) and indicate the best-fitting model by the black curve. The middle row shows the RV residuals after the subtraction of the parabola. The bottom row shows the residuals of the best fit and we provide the RV rms. (*fig:best_models1*)\n",
       "\n",
       "</div>\n",
       "<div id=\"div_fig2\">\n",
       "\n",
       "<img src=\"tmp_2301.04442/./pics/selection/LS_photometry_MEarth_individually.jpeg\" alt=\"Fig8\" width=\"100%\"/>\n",
       "\n",
       "**Figure 8. -** Individual MEarth datasets separated according to observational season and telescope (left panels). We also show  their periodograms for longer periods ($>$50 days, middle panels) and the full periodograms (right panels). We mark the significant signals in grey, the period of our planet in green, and the rotational period of the star in blue, within the errors. The FAP levels of 10, 1, and 0.1\\% are shown by the red dashed lines. (*prewhit1*)\n",
       "\n",
       "</div>\n",
       "<div id=\"div_fig3\">\n",
       "\n",
       "<img src=\"tmp_2301.04442/./pics/selection/LS_photometry_selection.jpeg\" alt=\"Fig6.1\" width=\"50%\"/><img src=\"tmp_2301.04442/./pics/selection/significant_indices_LS_1409.jpeg\" alt=\"Fig6.2\" width=\"50%\"/>\n",
       "\n",
       "**Figure 6. -** Photometric and spectral index time series. Significant signals are marked. We show the full dataset (left panels) and their periodograms for longer periods ($>$50 d, middle panels) and for all periods (right panels). The grey vertical dashed lines mark the significant peaks. We show the period of the planet  in green and the rotational period of the star at 140$\\pm$10 d  in blue. For the combined MEarth data, we show the different individual sets in colours. The red dashed horizontal lines show the FAP levels of 10, 1, and 0.1\\%. (*LS_indices*)\n",
       "\n",
       "</div>"
      ],
      "text/plain": [
       "<IPython.core.display.Markdown object>"
      ]
     },
     "metadata": {},
     "output_type": "display_data"
    },
    {
     "data": {
      "text/markdown": [
       "<div class=\"macros\" style=\"visibility:hidden;\">\n",
       "$\\newcommand{\\ensuremath}{}$\n",
       "$\\newcommand{\\xspace}{}$\n",
       "$\\newcommand{\\object}[1]{\\texttt{#1}}$\n",
       "$\\newcommand{\\farcs}{{.}''}$\n",
       "$\\newcommand{\\farcm}{{.}'}$\n",
       "$\\newcommand{\\arcsec}{''}$\n",
       "$\\newcommand{\\arcmin}{'}$\n",
       "$\\newcommand{\\ion}[2]{#1#2}$\n",
       "$\\newcommand{\\textsc}[1]{\\textrm{#1}}$\n",
       "$\\newcommand{\\hl}[1]{\\textrm{#1}}$\n",
       "$\\newcommand{\\}{natexlab}$</div>\n",
       "\n",
       "<div class=\"macros\" style=\"visibility:hidden;\">\n",
       "$\\newcommand{$\\ensuremath$}{}$\n",
       "$\\newcommand{$\\xspace$}{}$\n",
       "$\\newcommand{$\\object$}[1]{\\texttt{#1}}$\n",
       "$\\newcommand{$\\farcs$}{{.}''}$\n",
       "$\\newcommand{$\\farcm$}{{.}'}$\n",
       "$\\newcommand{$\\arcsec$}{''}$\n",
       "$\\newcommand{$\\arcmin$}{'}$\n",
       "$\\newcommand{$\\ion$}[2]{#1#2}$\n",
       "$\\newcommand{$\\textsc$}[1]{\\textrm{#1}}$\n",
       "$\\newcommand{$\\hl$}[1]{\\textrm{#1}}$\n",
       "$\\newcommand{\\}{natexlab}$</div>\n",
       "\n",
       "\n",
       "\n",
       "<div id=\"title\">\n",
       "\n",
       "# 5427\n",
       "\n",
       "</div>\n",
       "<div id=\"comments\">\n",
       "\n",
       "[![arXiv](https://img.shields.io/badge/arXiv-2301.04533-b31b1b.svg)](https://arxiv.org/abs/2301.04533)<mark>Appeared on: 2023-01-12</mark> - _8 pages, 4 figures, accepted for publication in PASA_\n",
       "\n",
       "</div>\n",
       "<div id=\"authors\">\n",
       "\n",
       "K. \\'E.~Gab\\'anyi, et al. -- incl., <mark>S.~Belladitta</mark>\n",
       "\n",
       "</div>\n",
       "<div id=\"abstract\">\n",
       "\n",
       "**Abstract:** Active galactic nuclei (AGN) have been observed as far as redshift$z\\sim7$. They are crucial in investigating the early Universe as well as the growth of supermassive black holes at their centres. Radio-loud AGN with their jets seen at a small viewing angle are called blazars and show relativistic boosting of their emission. Thus, their apparently brighter jets are easier to detect in the high-redshift Universe.DES J014132.4$-$542749.9 is a radio-luminous but X-ray weak blazar candidate at$z=5$. We conducted high-resolution radio interferometric observations of this source with the Australian Long Baseline Array at$1.7$and$8.5$GHz. A single, compact radio emitting feature was detected at both frequencies with a flat radio spectrum. We derived the milliarcsecond-level accurate position of the object. The frequency dependence of its brightness temperature is similar to that of blazar sources observed at lower redshifts. Based on our observations, we can confirm its blazar nature. We compared its radio properties with those of two other similarly X-ray-weak and radio-bright AGN, and found that they show very different relativistic boosting characteristics.\n",
       "\n",
       "</div>\n",
       "\n",
       "<div id=\"div_fig1\">\n",
       "\n",
       "<img src=\"tmp_2301.04533/./J0141_L.png\" alt=\"Fig1\" width=\"100%\"/>\n",
       "\n",
       "**Figure 1. -** $1.7$-GHz naturally-weighted LBA map of the fringe-fitted data of J0141$-$5427. The peak intensity is $76.7\\mathrm{ mJy beam}^{-1}$. The lowest contours are at $\\pm1.7\\mathrm{ mJy beam}^{-1}$, corresponding to $4\\sigma$ image noise level. Further positive contours increase by a factor of $2$. The elliptical Gaussian restoring beam size is $25.7\\mathrm{ mas}\\times6.2\\mathrm{ mas}$ at a major axis position angle of $-8.9^\\circ$, and it is shown in the lower left corner of the image. (*fig:LBA_L*)\n",
       "\n",
       "</div>\n",
       "<div id=\"div_fig2\">\n",
       "\n",
       "<img src=\"tmp_2301.04533/./J0141_Xamplcal.png\" alt=\"Fig2\" width=\"100%\"/>\n",
       "\n",
       "**Figure 2. -** $8.5$-GHz naturally-weighted phase-referenced LBA map of J0141$-$5427. The peak intensity is $28.5\\mathrm{ mJy beam}^{-1}$. The lowest contours are at $\\pm0.7\\mathrm{ mJy beam}^{-1}$, corresponding to $4\\sigma$ image noise level. Further positive contours increase by a factor of $2$. The elliptical Gaussian restoring beam size is $3.9\\mathrm{ mas}\\times2.8\\mathrm{ mas}$ at a major axis position angle of $5.3^\\circ$, and it is shown in the lower left corner of the image. (*fig:LBA_X*)\n",
       "\n",
       "</div>\n",
       "<div id=\"div_fig3\">\n",
       "\n",
       "<img src=\"tmp_2301.04533/./radiospectrum.png\" alt=\"Fig3\" width=\"100%\"/>\n",
       "\n",
       "**Figure 3. -** Radio spectrum of J0141$-$5427. Black circles are low-resolution archival measurements \\citep[for references, see][]{Belladitta_2019}. Orange circles are from the RACS DR1 \\citep{racs1,racs2}, and from the SPT-SZ survey \\citep{sptsz-cat}. Red squares are our LBA flux densities. The brown line represents a power-law fit to the low-resolution data (black and orange symbols). (*fig:spectrum*)\n",
       "\n",
       "</div>"
      ],
      "text/plain": [
       "<IPython.core.display.Markdown object>"
      ]
     },
     "metadata": {},
     "output_type": "display_data"
    }
   ],
   "source": [
    "[display(Markdown(k[1])) for k in documents];"
   ]
  },
  {
   "cell_type": "markdown",
   "id": "873873a4",
   "metadata": {
    "papermill": {
     "duration": 0.015498,
     "end_time": "2023-01-12T04:10:20.532245",
     "exception": false,
     "start_time": "2023-01-12T04:10:20.516747",
     "status": "completed"
    },
    "tags": []
   },
   "source": [
    "# Create HTML index"
   ]
  },
  {
   "cell_type": "code",
   "execution_count": 10,
   "id": "cf665672",
   "metadata": {
    "execution": {
     "iopub.execute_input": "2023-01-12T04:10:20.565079Z",
     "iopub.status.busy": "2023-01-12T04:10:20.564711Z",
     "iopub.status.idle": "2023-01-12T04:10:20.579592Z",
     "shell.execute_reply": "2023-01-12T04:10:20.577928Z"
    },
    "papermill": {
     "duration": 0.033501,
     "end_time": "2023-01-12T04:10:20.581653",
     "exception": false,
     "start_time": "2023-01-12T04:10:20.548152",
     "status": "completed"
    },
    "tags": []
   },
   "outputs": [
    {
     "name": "stdout",
     "output_type": "stream",
     "text": [
      "165  publications in the last 7 days.\n",
      "\t _build/html/2301.04533.md\n",
      "\t _build/html/2301.04442.md\n",
      "\t _build/html/2301.03811.md\n",
      "\t _build/html/2301.03689.md\n",
      "\t _build/html/2301.03387.md\n",
      "\t _build/html/2301.03209.md\n",
      "\t _build/html/2301.02671.md\n",
      "\t _build/html/2301.02477.md\n",
      "\t _build/html/2301.02313.md\n",
      "\t _build/html/2301.02265.md\n",
      "\t _build/html/2301.01937.md\n",
      "\t _build/html/2301.01895.md\n",
      "\t _build/html/2301.01684.md\n",
      "\t _build/html/2301.01306.md\n",
      "\t _build/html/2301.00881.md\n",
      "\t _build/html/2301.00854.md\n",
      "\t _build/html/2301.00578.md\n",
      "\t _build/html/2212.12039.md\n",
      "\t _build/html/2212.11991.md\n",
      "\t _build/html/2212.11425.md\n",
      "\t _build/html/2212.11177.md\n",
      "\t _build/html/2212.10804.md\n",
      "\t _build/html/2212.10512.md\n",
      "\t _build/html/2212.09766.md\n",
      "\t _build/html/2212.09675.md\n",
      "\t _build/html/2212.09661.md\n",
      "\t _build/html/2212.09652.md\n",
      "\t _build/html/2212.09443.md\n",
      "\t _build/html/2212.09307.md\n",
      "\t _build/html/2212.09168.md\n",
      "\t _build/html/2212.09159.md\n",
      "\t _build/html/2212.08702.md\n",
      "\t _build/html/2212.07332.md\n",
      "\t _build/html/2212.06434.md\n",
      "\t _build/html/2212.04710.md\n",
      "\t _build/html/2212.04026.md\n",
      "\t _build/html/2212.03563.md\n",
      "\t _build/html/2212.03514.md\n",
      "\t _build/html/2212.02667.md\n",
      "\t _build/html/2212.02627.md\n",
      "\t _build/html/2212.02235.md\n",
      "\t _build/html/2212.01707.md\n",
      "\t _build/html/2212.01526.md\n",
      "\t _build/html/2212.01397.md\n",
      "\t _build/html/2212.01291.md\n",
      "\t _build/html/2212.01281.md\n",
      "\t _build/html/2212.00812.md\n",
      "\t _build/html/2212.00811.md\n",
      "\t _build/html/2212.00806.md\n",
      "\t _build/html/2212.00047.md\n",
      "\t _build/html/2212.00032.md\n",
      "\t _build/html/2211.16996.md\n",
      "\t _build/html/2211.16510.md\n",
      "\t _build/html/2211.16123.md\n",
      "\t _build/html/2211.15816.md\n",
      "\t _build/html/2211.15698.md\n",
      "\t _build/html/2211.15576.md\n",
      "\t _build/html/2211.15434.md\n",
      "\t _build/html/2211.15288.md\n",
      "\t _build/html/2211.15224.md\n",
      "\t _build/html/2211.14543.md\n",
      "\t _build/html/2211.14330.md\n",
      "\t _build/html/2211.14322.md\n",
      "\t _build/html/2211.14132.md\n",
      "\t _build/html/2211.13811.md\n",
      "\t _build/html/2211.13426.md\n",
      "\t _build/html/2211.13318.md\n",
      "\t _build/html/2211.13146.md\n",
      "\t _build/html/2211.12613.md\n",
      "\t _build/html/2211.11767.md\n",
      "\t _build/html/2211.09840.md\n",
      "\t _build/html/2211.09217.md\n",
      "\t _build/html/2211.08493.md\n",
      "\t _build/html/2211.08487.md\n",
      "\t _build/html/2211.08294.md\n",
      "\t _build/html/2211.07667.md\n",
      "\t _build/html/2211.07659.md\n",
      "\t _build/html/2211.06454.md\n",
      "\t _build/html/2211.06205.md\n",
      "\t _build/html/2211.06194.md\n",
      "\t _build/html/2211.05022.md\n",
      "\t _build/html/2211.04048.md\n",
      "\t _build/html/2211.03641.md\n",
      "\t _build/html/2211.02502.md\n",
      "\t _build/html/2211.01474.md\n",
      "\t _build/html/2211.00667.md\n",
      "\t _build/html/2211.00657.md\n",
      "\t _build/html/2211.00087.md\n",
      "\t _build/html/2211.00036.md\n",
      "\t _build/html/2211.00020.md\n",
      "\t _build/html/2211.00010.md\n",
      "\t _build/html/2210.17434.md\n",
      "\t _build/html/2210.12412.md\n",
      "\t _build/html/2210.11926.md\n",
      "\t _build/html/2210.11551.md\n",
      "\t _build/html/2210.11103.md\n",
      "\t _build/html/2210.10707.md\n",
      "\t _build/html/2210.09930.md\n",
      "\t _build/html/2210.08996.md\n",
      "\t _build/html/2210.08517.md\n",
      "\t _build/html/2210.08510.md\n",
      "\t _build/html/2210.08078.md\n",
      "\t _build/html/2210.06504.md\n",
      "\t _build/html/2210.05695.md\n",
      "\t _build/html/2210.05595.md\n",
      "\t _build/html/2210.05505.md\n",
      "\t _build/html/2210.04721.md\n",
      "\t _build/html/2210.03615.md\n",
      "\t _build/html/2210.01811.md\n",
      "\t _build/html/2210.01809.md\n",
      "\t _build/html/2210.01556.md\n",
      "\t _build/html/2210.00863.md\n",
      "\t _build/html/2210.00560.md\n",
      "\t _build/html/2209.15403.md\n",
      "\t _build/html/2209.15110.md\n",
      "\t _build/html/2209.14410.md\n",
      "\t _build/html/2209.14396.md\n",
      "\t _build/html/2209.13717.md\n",
      "\t _build/html/2209.13336.md\n",
      "\t _build/html/2209.12906.md\n",
      "\t _build/html/2209.11781.md\n",
      "\t _build/html/2209.11602.md\n",
      "\t _build/html/2209.11248.md\n",
      "\t _build/html/2209.11096.md\n",
      "\t _build/html/2209.10618.md\n",
      "\t _build/html/2209.09914.md\n",
      "\t _build/html/2209.09823.md\n",
      "\t _build/html/2209.08242.md\n",
      "\t _build/html/2209.08120.md\n",
      "\t _build/html/2209.08106.md\n",
      "\t _build/html/2209.07962.md\n",
      "\t _build/html/2209.07931.md\n",
      "\t _build/html/2209.06833.md\n",
      "\t _build/html/2209.05814.md\n",
      "\t _build/html/2209.05593.md\n",
      "\t _build/html/2209.04304.md\n",
      "\t _build/html/2209.03367.md\n",
      "\t _build/html/2209.02872.md\n",
      "\t _build/html/2209.02725.md\n",
      "\t _build/html/2209.02722.md\n",
      "\t _build/html/2209.02092.md\n",
      "\t _build/html/2209.01125.md\n",
      "\t _build/html/2209.00828.md\n",
      "\t _build/html/2209.00363.md\n",
      "\t _build/html/2208.14927.md\n",
      "\t _build/html/2208.09335.md\n",
      "\t _build/html/2208.08872.md\n",
      "\t _build/html/2204.06393.md\n",
      "\t _build/html/2204.03335.md\n",
      "\t _build/html/2204.03253.md\n",
      "\t _build/html/2204.02998.md\n",
      "\t _build/html/2204.02109.md\n",
      "\t _build/html/2204.02017.md\n",
      "\t _build/html/2204.01824.md\n",
      "\t _build/html/2204.01758.md\n",
      "\t _build/html/2204.01245.md\n",
      "\t _build/html/2204.00793.md\n",
      "\t _build/html/2204.00342.md\n",
      "\t _build/html/2203.16959.md\n",
      "\t _build/html/2203.16856.md\n",
      "\t _build/html/2203.16735.md\n",
      "\t _build/html/2203.16734.md\n",
      "\t _build/html/2203.16504.md\n",
      "\t _build/html/2203.15822.md\n",
      "\t _build/html/2203.15811.md\n"
     ]
    }
   ],
   "source": [
    "from datetime import datetime, timedelta, timezone\n",
    "from glob import glob\n",
    "\n",
    "files = glob('_build/html/*.md')\n",
    "days = 7\n",
    "now = datetime.today()\n",
    "res = []\n",
    "for fk in files:\n",
    "    stat_result = os.stat(fk).st_ctime\n",
    "    modified = datetime.fromtimestamp(stat_result, tz=timezone.utc).replace(tzinfo=None)\n",
    "    delta = now.today() - modified\n",
    "    if delta <= timedelta(days=days):\n",
    "        res.append((delta.seconds, fk))\n",
    "res = [k[1] for k in reversed(sorted(res, key=lambda x:x[1]))]\n",
    "npub = len(res)\n",
    "print(len(res), f\" publications in the last {days:d} days.\")\n",
    "[ print('\\t', k) for k in res ];"
   ]
  },
  {
   "cell_type": "code",
   "execution_count": 11,
   "id": "015de740",
   "metadata": {
    "execution": {
     "iopub.execute_input": "2023-01-12T04:10:20.611587Z",
     "iopub.status.busy": "2023-01-12T04:10:20.609658Z",
     "iopub.status.idle": "2023-01-12T04:10:20.635678Z",
     "shell.execute_reply": "2023-01-12T04:10:20.634624Z"
    },
    "papermill": {
     "duration": 0.042856,
     "end_time": "2023-01-12T04:10:20.637987",
     "exception": false,
     "start_time": "2023-01-12T04:10:20.595131",
     "status": "completed"
    },
    "tags": []
   },
   "outputs": [
    {
     "name": "stdout",
     "output_type": "stream",
     "text": [
      "14  publications in the last 7 days.\n"
     ]
    }
   ],
   "source": [
    "import datetime\n",
    "from glob import glob\n",
    "\n",
    "def get_last_n_days(lst, days=1):\n",
    "    \"\"\" Get the documents from the last n days \"\"\"\n",
    "    sorted_lst = sorted(lst, key=lambda x: x[1], reverse=True)\n",
    "    for fname, date in sorted_lst:\n",
    "        if date >= str(datetime.date.today() - datetime.timedelta(days=days)):\n",
    "            yield fname\n",
    "\n",
    "def extract_appearance_dates(lst_file):\n",
    "    dates = []\n",
    "\n",
    "    def get_date(line):\n",
    "        return line\\\n",
    "            .split('Appeared on:')[-1]\\\n",
    "            .split('</mark>')[0].strip()\n",
    "\n",
    "    for fname in lst:\n",
    "        with open(fname, 'r') as f:\n",
    "            found_date = False\n",
    "            for line in f:\n",
    "                if not found_date:\n",
    "                    if \"Appeared on\" in line:\n",
    "                        found_date = True\n",
    "                        dates.append((fname, get_date(line)))\n",
    "                else:\n",
    "                    break\n",
    "    return dates\n",
    "\n",
    "from glob import glob\n",
    "lst = glob('_build/html/*md')\n",
    "days = 7\n",
    "dates = extract_appearance_dates(lst)\n",
    "res = list(get_last_n_days(dates, days))\n",
    "npub = len(res)\n",
    "print(len(res), f\" publications in the last {days:d} days.\")"
   ]
  },
  {
   "cell_type": "code",
   "execution_count": 12,
   "id": "52ca0208",
   "metadata": {
    "execution": {
     "iopub.execute_input": "2023-01-12T04:10:20.668157Z",
     "iopub.status.busy": "2023-01-12T04:10:20.667839Z",
     "iopub.status.idle": "2023-01-12T04:10:20.678747Z",
     "shell.execute_reply": "2023-01-12T04:10:20.677861Z"
    },
    "papermill": {
     "duration": 0.028977,
     "end_time": "2023-01-12T04:10:20.680787",
     "exception": false,
     "start_time": "2023-01-12T04:10:20.651810",
     "status": "completed"
    },
    "scrolled": false,
    "tags": []
   },
   "outputs": [],
   "source": [
    "def create_carousel(npub=4):\n",
    "    \"\"\" Generate the HTML code for a carousel with `npub` slides \"\"\"\n",
    "    carousel = [\"\"\"<section class=\"carousel\" aria-label=\"Gallery\">\"\"\",\n",
    "                \"\"\"  <ol class=\"carousel__viewport\">\"\"\",\n",
    "    ]\n",
    "    for k in range(1, npub + 1):\n",
    "        prev_ = k - 1\n",
    "        next_ = k + 1\n",
    "        if prev_ <= 0:\n",
    "            prev_ = npub\n",
    "        if next_ > npub:\n",
    "            next_ = 1\n",
    "        text  = f\"\"\"    <li id=\"carousel__slide{k}\" tabindex=\"0\" class=\"carousel__slide\">\\n\"\"\"\n",
    "        text += f\"\"\"       <div class=\"carousel__snapper\">\\n\"\"\"\n",
    "        text += f\"\"\"         <a href=\"#carousel__slide{prev_}\" class=\"carousel__prev\">Go to previous slide</a>\\n\"\"\"\n",
    "        text += f\"\"\"         <a href=\"#carousel__slide{next_}\" class=\"carousel__next\">Go to next slide</a>\\n\"\"\"\n",
    "        text += f\"\"\"         <div id=\"slide{k}_content\" class=\"md_view\" >Content {k}</div>\\n\"\"\"\n",
    "        text += f\"\"\"       </div>\\n\"\"\"\n",
    "        text += f\"\"\"    </li>\"\"\"\n",
    "        carousel.append(text)\n",
    "\n",
    "    carousel.extend([\n",
    "        \"\"\"  </ol>\"\"\",\n",
    "        \"\"\"  <aside class=\"carousel__navigation\">\"\"\",\n",
    "        \"\"\"    <ol class=\"carousel__navigation-list\">\"\"\"])\n",
    "\n",
    "    for k in range(1, npub + 1):\n",
    "        text  = f\"\"\"      <li class=\"carousel__navigation-item\">\\n\"\"\"\n",
    "        text += f\"\"\"        <a href=\"#carousel__slide{k}\" class=\"carousel__navigation-button\">Go to {k}</a>\\n\"\"\"\n",
    "        text += f\"\"\"      </li>\"\"\"\n",
    "        carousel.append(text)\n",
    "    carousel.extend([\"\"\"    </ol>\"\"\", \"\"\"  </aside>\"\"\", \"\"\"</section>\"\"\"])\n",
    "\n",
    "    return '\\n'.join(carousel)"
   ]
  },
  {
   "cell_type": "code",
   "execution_count": 13,
   "id": "a6eac5b6",
   "metadata": {
    "execution": {
     "iopub.execute_input": "2023-01-12T04:10:20.709071Z",
     "iopub.status.busy": "2023-01-12T04:10:20.708731Z",
     "iopub.status.idle": "2023-01-12T04:10:20.717219Z",
     "shell.execute_reply": "2023-01-12T04:10:20.715455Z"
    },
    "papermill": {
     "duration": 0.025017,
     "end_time": "2023-01-12T04:10:20.719175",
     "exception": false,
     "start_time": "2023-01-12T04:10:20.694158",
     "status": "completed"
    },
    "scrolled": false,
    "tags": []
   },
   "outputs": [],
   "source": [
    "carousel = create_carousel(npub)\n",
    "docs = ', '.join(['\"{0:s}\"'.format(k.split('/')[-1]) for k in res])\n",
    "slides = ', '.join([f'\"slide{k}_content\"' for k in range(1, npub + 1)])\n",
    "\n",
    "script = f\"\"\"\n",
    "const docs = [{docs}]\n",
    "\n",
    "const slides = [{slides}]\n",
    "\"\"\" + \"\"\"\n",
    "async function run() {\n",
    "    for (let i = 0; i < docs.length; i++) {\n",
    "        let file = await fetch(docs[i]);\n",
    "        let text = await file.text()\n",
    "        document.getElementById(slides[i]).innerHTML =\n",
    "            marked.parse(text);\n",
    "    }\n",
    "    hljs.highlightAll();\n",
    "}\n",
    "run()\n",
    "\"\"\"\n",
    "\n",
    "page = f\"\"\"<!doctype html>\n",
    "<html lang=\"en\">\n",
    "\n",
    "<head>\n",
    "  <meta charset=\"utf-8\">\n",
    "  <meta name=\"viewport\" content=\"width=device-width, initial-scale=1\">\n",
    "  <!-- Bootstrap CSS -->\n",
    "  <link href=\"https://cdn.jsdelivr.net/npm/bootstrap@5.0.2/dist/css/bootstrap.min.css\" rel=\"stylesheet\"\n",
    "   integrity=\"sha384-EVSTQN3/azprG1Anm3QDgpJLIm9Nao0Yz1ztcQTwFspd3yD65VohhpuuCOmLASjC\" crossorigin=\"anonymous\">\n",
    "  <!-- highlight.js CSS -->\n",
    "  <link rel=\"stylesheet\" href=\"https://cdnjs.cloudflare.com/ajax/libs/highlight.js/11.1.0/styles/default.min.css\">\n",
    "  <!-- Mathjax 3 -->\n",
    "  <script type=\"text/javascript\" id=\"MathJax-config\" src=\"mathjax_config.js\"> </script>\n",
    "  <script type=\"text/javascript\" id=\"MathJax-script\" async \n",
    "    src=\"https://cdn.jsdelivr.net/npm/mathjax@3/es5/tex-mml-chtml.js\">\n",
    "  </script>\n",
    "  <link rel=\"stylesheet\" href=\"index_carousel.css\">\n",
    "  <link rel=\"icon\" type=\"image/x-icon\" href=\"https://www.mpia.de/assets/touch-icon-32x32-a66937bcebc4e8894ebff1f41a366c7c7220fd97a38869ee0f2db65a9f59b6c1.png\">\n",
    "  <title>MPIA Arxiv on deck!</title>\n",
    "</head>\n",
    "\n",
    "<body>\n",
    "  <div id=\"header\"> <img src=\"header_banner.png\" width=\"100%\"></div>\n",
    "  <div id=\"suptitle\"> 7-day archives </div>\n",
    "  <div id=\"info\">\n",
    "    <img src=\"https://pngimg.com/uploads/github/github_PNG58.png\" height=30rem></img>\n",
    "    <a href=https://github.com/mpi-astronomy/arxiv_display style=\"color:black;\">github/mpi-astronomy/arxiv_display</a> \n",
    "  </div>\n",
    "  {carousel:s}\n",
    "</body>\n",
    "\n",
    "<!-- Render Markdown -->\n",
    "\n",
    "<body>\n",
    "  <!-- highlight.js: https://highlightjs.org/download/ -->\n",
    "  <script src=\"https://cdnjs.cloudflare.com/ajax/libs/highlight.js/11.5.0/highlight.min.js\"></script>\n",
    "  <!-- marked.js -->\n",
    "  <script src=\"https://cdn.jsdelivr.net/npm/marked/marked.min.js\"></script>\n",
    "  <script>{script:s}</script>\n",
    "</body>\n",
    "</html>\n",
    "\"\"\"\n",
    "with open(\"_build/html/index_7days.html\", 'w') as fout:\n",
    "    fout.write(page)"
   ]
  },
  {
   "cell_type": "markdown",
   "id": "1cebacbc",
   "metadata": {
    "papermill": {
     "duration": 0.013314,
     "end_time": "2023-01-12T04:10:20.746051",
     "exception": false,
     "start_time": "2023-01-12T04:10:20.732737",
     "status": "completed"
    },
    "tags": []
   },
   "source": [
    "# Debugging papers"
   ]
  },
  {
   "cell_type": "raw",
   "id": "debe7cc6",
   "metadata": {
    "papermill": {
     "duration": 0.013207,
     "end_time": "2023-01-12T04:10:20.772897",
     "exception": false,
     "start_time": "2023-01-12T04:10:20.759690",
     "status": "completed"
    },
    "tags": []
   },
   "source": [
    "raise NotImplementedError(\"Manual Stop\")"
   ]
  },
  {
   "cell_type": "raw",
   "id": "eb169192",
   "metadata": {
    "papermill": {
     "duration": 0.013141,
     "end_time": "2023-01-12T04:10:20.799405",
     "exception": false,
     "start_time": "2023-01-12T04:10:20.786264",
     "status": "completed"
    },
    "scrolled": true,
    "tags": []
   },
   "source": [
    "from IPython.display import display, Markdown\n",
    "from TexSoup import TexSoup\n",
    "import re\n",
    "\n",
    "def bracket_error(source: str):\n",
    "    \"\"\" Find problematic portions of the document \"\"\"\n",
    "    \n",
    "    print(\"len(source)\", len(source))\n",
    "    \n",
    "    # Checking header\n",
    "    begin_doc = next(re.finditer(r'\\\\begin\\{document\\}', doc.source)).span()[1]\n",
    "    header = source[:begin_doc]\n",
    "    text = header + r\"\\n\\end{document}\"\n",
    "\n",
    "    try:\n",
    "        # print(\"Header check... \", end='')\n",
    "        TexSoup(text)\n",
    "        display(Markdown(f\"**[OK]** - Header\"))\n",
    "    except:\n",
    "        raise RuntimeError(\"Error in the header\")\n",
    "        \n",
    "    # Check the text per section until the end.\n",
    "    # Do not stop and try them all.\n",
    "    \n",
    "    problematic_text = []\n",
    "    \n",
    "    sections = ([(0, begin_doc, 'until first section')] + \n",
    "                [(g.span()[0], g.span()[1], g.group()) for g in re.finditer(r'\\\\section\\{.*\\}', source)] +\n",
    "                [(g.span()[0], g.span()[1], g.group()) for g in re.finditer(r'\\\\begin\\{appendix\\}', source)]\n",
    "               )\n",
    "    sections.append([len(source), len(source), 'end'])\n",
    "    \n",
    "    sections = sorted(sections, key=lambda x: x[0])\n",
    "    \n",
    "    prev_pos, prev_name = (0, 'header')\n",
    "    parsed = []\n",
    "    \n",
    "    for span, span_end, name in sections:\n",
    "\n",
    "        if span - prev_pos <= 0:\n",
    "            continue\n",
    "            \n",
    "\n",
    "        text = source[prev_pos:span]\n",
    "        if prev_pos > begin_doc:\n",
    "            text = r\"\\n\\begin{document}\" + text + r\"\\n\\end{document}\"\n",
    "        else:\n",
    "            text = text + r\"\\n\\end{document}\"\n",
    "        try:\n",
    "            #print(f\"{prev_pos}:{prev_name}-->{span}:{name} check... \", end='')\n",
    "            parsed.append(TexSoup(text, tolerance=1))  # allow not ending env\n",
    "            display(Markdown(f\"**[OK]** - *{prev_pos}*:{prev_name} &rarr; *{span}*:{name}\"))\n",
    "            # print(\"ok\")\n",
    "\n",
    "            prev_pos = span\n",
    "            prev_name = name\n",
    "        except:\n",
    "            # print(f\"error between {prev_pos} and {span}\")\n",
    "            display(Markdown(f\"**[ERR]** *{prev_pos}*:{prev_name} &rarr; *{span}*:{name}\"))\n",
    "            problematic_text.append((prev_pos, source[prev_pos:span]))\n",
    "            prev_pos = span\n",
    "            prev_name = name\n",
    "            # raise\n",
    "    return problematic_text, parsed\n",
    "\n",
    "\n",
    "def check_environment(text, offset=0):\n",
    "    \"\"\" Check environment \"\"\"\n",
    "    env = re.compile(r\"\\\\begin\\{(?P<env>.*)\\}(.*)\\\\end\\{(?P=env)\\}\", re.DOTALL)\n",
    "\n",
    "    for match in env.finditer(text):\n",
    "        beg, end = match.span()\n",
    "        beg += offset\n",
    "        end += offset\n",
    "        envname = match.groups()[0]\n",
    "        try:\n",
    "            latex.TexSoup(match.group())\n",
    "        except Exception as e:\n",
    "            display(e)\n",
    "            print(f\"Error in {envname:s} between {beg} and {end}\")\n",
    "            return match.groups()[1], beg, end"
   ]
  },
  {
   "cell_type": "raw",
   "id": "2315e835",
   "metadata": {
    "papermill": {
     "duration": 0.013296,
     "end_time": "2023-01-12T04:10:20.826262",
     "exception": false,
     "start_time": "2023-01-12T04:10:20.812966",
     "status": "completed"
    },
    "scrolled": false,
    "tags": []
   },
   "source": [
    "import importlib\n",
    "importlib.reload(latex)\n",
    "which = \"2204.03253\"\n",
    "paper_id = f'{which:s}'\n",
    "folder = f'tmp_{paper_id:s}'\n",
    "\n",
    "if not os.path.isdir(folder):\n",
    "    folder = retrieve_document_source(f\"{paper_id}\", f'tmp_{paper_id}')\n",
    "\n",
    "try:\n",
    "    doc = latex.LatexDocument(folder, validation=validation)    \n",
    "except AffiliationError as affilerror:\n",
    "    msg = f\"ArXiv:{paper_id:s} is not an MPIA paper... \" + str(affilerror)\n",
    "    print(msg)\n",
    "\n",
    "\n",
    "# Hack because sometimes author parsing does not work well\n",
    "if (len(doc.authors) != len(paper['authors'])):\n",
    "    doc._authors = paper['authors']\n",
    "if (doc.abstract) in (None, ''):\n",
    "    doc._abstract = paper['abstract']\n",
    "\n",
    "doc.comment = get_markdown_badge(paper_id) + \" _\" + paper['comments'] + \"_\"\n",
    "doc.highlight_authors_in_list(hl_list)\n",
    "\n",
    "full_md = doc.generate_markdown_text()"
   ]
  },
  {
   "cell_type": "raw",
   "id": "dd3781db",
   "metadata": {
    "papermill": {
     "duration": 0.013689,
     "end_time": "2023-01-12T04:10:20.853421",
     "exception": false,
     "start_time": "2023-01-12T04:10:20.839732",
     "status": "completed"
    },
    "scrolled": false,
    "tags": []
   },
   "source": [
    "doc"
   ]
  },
  {
   "cell_type": "raw",
   "id": "c6eed834",
   "metadata": {
    "papermill": {
     "duration": 0.01327,
     "end_time": "2023-01-12T04:10:20.880720",
     "exception": false,
     "start_time": "2023-01-12T04:10:20.867450",
     "status": "completed"
    },
    "tags": []
   },
   "source": [
    "# [check_environment(k) for k in bracket_error(doc.source)]\n",
    "_, _, a = latex.get_content_per_section(doc.source, verbose=True)\n",
    "if not a:\n",
    "    print(\"no issues per section\")\n",
    "for ak in a:\n",
    "    r = check_environment(ak[1], offset=ak[0])\n",
    "    print(r[1], r[2])\n",
    "    print(r[0])"
   ]
  },
  {
   "cell_type": "code",
   "execution_count": null,
   "id": "71ce768a",
   "metadata": {
    "papermill": {
     "duration": 0.013098,
     "end_time": "2023-01-12T04:10:20.906929",
     "exception": false,
     "start_time": "2023-01-12T04:10:20.893831",
     "status": "completed"
    },
    "tags": []
   },
   "outputs": [],
   "source": []
  }
 ],
 "metadata": {
  "kernelspec": {
   "display_name": "Python 3",
   "language": "python",
   "name": "python3"
  },
  "language_info": {
   "codemirror_mode": {
    "name": "ipython",
    "version": 3
   },
   "file_extension": ".py",
   "mimetype": "text/x-python",
   "name": "python",
   "nbconvert_exporter": "python",
   "pygments_lexer": "ipython3",
   "version": "3.9.16"
  },
  "papermill": {
   "default_parameters": {},
   "duration": 142.806334,
   "end_time": "2023-01-12T04:10:21.240105",
   "environment_variables": {},
   "exception": null,
   "input_path": "MPIA daily digest.ipynb",
   "output_path": "log.ipynb",
   "parameters": {},
   "start_time": "2023-01-12T04:07:58.433771",
   "version": "2.4.0"
  },
  "vscode": {
   "interpreter": {
    "hash": "aee8b7b246df8f9039afb4144a1f6fd8d2ca17a180786b69acc140d282b71a49"
   }
  },
  "widgets": {
   "application/vnd.jupyter.widget-state+json": {
    "state": {
     "1490703ceea844cd8b19b0291fcc0904": {
      "model_module": "@jupyter-widgets/base",
      "model_module_version": "2.0.0",
      "model_name": "LayoutModel",
      "state": {
       "_model_module": "@jupyter-widgets/base",
       "_model_module_version": "2.0.0",
       "_model_name": "LayoutModel",
       "_view_count": null,
       "_view_module": "@jupyter-widgets/base",
       "_view_module_version": "2.0.0",
       "_view_name": "LayoutView",
       "align_content": null,
       "align_items": null,
       "align_self": null,
       "border_bottom": null,
       "border_left": null,
       "border_right": null,
       "border_top": null,
       "bottom": null,
       "display": null,
       "flex": null,
       "flex_flow": null,
       "grid_area": null,
       "grid_auto_columns": null,
       "grid_auto_flow": null,
       "grid_auto_rows": null,
       "grid_column": null,
       "grid_gap": null,
       "grid_row": null,
       "grid_template_areas": null,
       "grid_template_columns": null,
       "grid_template_rows": null,
       "height": null,
       "justify_content": null,
       "justify_items": null,
       "left": null,
       "margin": null,
       "max_height": null,
       "max_width": null,
       "min_height": null,
       "min_width": null,
       "object_fit": null,
       "object_position": null,
       "order": null,
       "overflow": null,
       "padding": null,
       "right": null,
       "top": null,
       "visibility": null,
       "width": null
      }
     },
     "161ba1b8f8fd4beda30fa766774e062a": {
      "model_module": "@jupyter-widgets/base",
      "model_module_version": "2.0.0",
      "model_name": "LayoutModel",
      "state": {
       "_model_module": "@jupyter-widgets/base",
       "_model_module_version": "2.0.0",
       "_model_name": "LayoutModel",
       "_view_count": null,
       "_view_module": "@jupyter-widgets/base",
       "_view_module_version": "2.0.0",
       "_view_name": "LayoutView",
       "align_content": null,
       "align_items": null,
       "align_self": null,
       "border_bottom": null,
       "border_left": null,
       "border_right": null,
       "border_top": null,
       "bottom": null,
       "display": null,
       "flex": null,
       "flex_flow": null,
       "grid_area": null,
       "grid_auto_columns": null,
       "grid_auto_flow": null,
       "grid_auto_rows": null,
       "grid_column": null,
       "grid_gap": null,
       "grid_row": null,
       "grid_template_areas": null,
       "grid_template_columns": null,
       "grid_template_rows": null,
       "height": null,
       "justify_content": null,
       "justify_items": null,
       "left": null,
       "margin": null,
       "max_height": null,
       "max_width": null,
       "min_height": null,
       "min_width": null,
       "object_fit": null,
       "object_position": null,
       "order": null,
       "overflow": null,
       "padding": null,
       "right": null,
       "top": null,
       "visibility": null,
       "width": null
      }
     },
     "351d5ed0ad444343be92964d7f868961": {
      "model_module": "@jupyter-widgets/controls",
      "model_module_version": "2.0.0",
      "model_name": "HTMLModel",
      "state": {
       "_dom_classes": [],
       "_model_module": "@jupyter-widgets/controls",
       "_model_module_version": "2.0.0",
       "_model_name": "HTMLModel",
       "_view_count": null,
       "_view_module": "@jupyter-widgets/controls",
       "_view_module_version": "2.0.0",
       "_view_name": "HTMLView",
       "description": "",
       "description_allow_html": false,
       "layout": "IPY_MODEL_5f28e61558a44be2b0cf8df27f670994",
       "placeholder": "​",
       "style": "IPY_MODEL_9eb55abcec1a46dd89ff241d513113dc",
       "tabbable": null,
       "tooltip": null,
       "value": " 26/26 [01:50&lt;00:00,  5.31s/it]"
      }
     },
     "36c26366420c4bd7b62686fe0acaa890": {
      "model_module": "@jupyter-widgets/controls",
      "model_module_version": "2.0.0",
      "model_name": "HTMLStyleModel",
      "state": {
       "_model_module": "@jupyter-widgets/controls",
       "_model_module_version": "2.0.0",
       "_model_name": "HTMLStyleModel",
       "_view_count": null,
       "_view_module": "@jupyter-widgets/base",
       "_view_module_version": "2.0.0",
       "_view_name": "StyleView",
       "background": null,
       "description_width": "",
       "font_size": null,
       "text_color": null
      }
     },
     "4d59b1adf15849b196972b405a3f9f6d": {
      "model_module": "@jupyter-widgets/controls",
      "model_module_version": "2.0.0",
      "model_name": "FloatProgressModel",
      "state": {
       "_dom_classes": [],
       "_model_module": "@jupyter-widgets/controls",
       "_model_module_version": "2.0.0",
       "_model_name": "FloatProgressModel",
       "_view_count": null,
       "_view_module": "@jupyter-widgets/controls",
       "_view_module_version": "2.0.0",
       "_view_name": "ProgressView",
       "bar_style": "success",
       "description": "",
       "description_allow_html": false,
       "layout": "IPY_MODEL_546825ae94e94d17920ea449b1472033",
       "max": 26.0,
       "min": 0.0,
       "orientation": "horizontal",
       "style": "IPY_MODEL_7d3c565b102c4d7e8945a236953e8c9f",
       "tabbable": null,
       "tooltip": null,
       "value": 26.0
      }
     },
     "546825ae94e94d17920ea449b1472033": {
      "model_module": "@jupyter-widgets/base",
      "model_module_version": "2.0.0",
      "model_name": "LayoutModel",
      "state": {
       "_model_module": "@jupyter-widgets/base",
       "_model_module_version": "2.0.0",
       "_model_name": "LayoutModel",
       "_view_count": null,
       "_view_module": "@jupyter-widgets/base",
       "_view_module_version": "2.0.0",
       "_view_name": "LayoutView",
       "align_content": null,
       "align_items": null,
       "align_self": null,
       "border_bottom": null,
       "border_left": null,
       "border_right": null,
       "border_top": null,
       "bottom": null,
       "display": null,
       "flex": null,
       "flex_flow": null,
       "grid_area": null,
       "grid_auto_columns": null,
       "grid_auto_flow": null,
       "grid_auto_rows": null,
       "grid_column": null,
       "grid_gap": null,
       "grid_row": null,
       "grid_template_areas": null,
       "grid_template_columns": null,
       "grid_template_rows": null,
       "height": null,
       "justify_content": null,
       "justify_items": null,
       "left": null,
       "margin": null,
       "max_height": null,
       "max_width": null,
       "min_height": null,
       "min_width": null,
       "object_fit": null,
       "object_position": null,
       "order": null,
       "overflow": null,
       "padding": null,
       "right": null,
       "top": null,
       "visibility": null,
       "width": null
      }
     },
     "5f28e61558a44be2b0cf8df27f670994": {
      "model_module": "@jupyter-widgets/base",
      "model_module_version": "2.0.0",
      "model_name": "LayoutModel",
      "state": {
       "_model_module": "@jupyter-widgets/base",
       "_model_module_version": "2.0.0",
       "_model_name": "LayoutModel",
       "_view_count": null,
       "_view_module": "@jupyter-widgets/base",
       "_view_module_version": "2.0.0",
       "_view_name": "LayoutView",
       "align_content": null,
       "align_items": null,
       "align_self": null,
       "border_bottom": null,
       "border_left": null,
       "border_right": null,
       "border_top": null,
       "bottom": null,
       "display": null,
       "flex": null,
       "flex_flow": null,
       "grid_area": null,
       "grid_auto_columns": null,
       "grid_auto_flow": null,
       "grid_auto_rows": null,
       "grid_column": null,
       "grid_gap": null,
       "grid_row": null,
       "grid_template_areas": null,
       "grid_template_columns": null,
       "grid_template_rows": null,
       "height": null,
       "justify_content": null,
       "justify_items": null,
       "left": null,
       "margin": null,
       "max_height": null,
       "max_width": null,
       "min_height": null,
       "min_width": null,
       "object_fit": null,
       "object_position": null,
       "order": null,
       "overflow": null,
       "padding": null,
       "right": null,
       "top": null,
       "visibility": null,
       "width": null
      }
     },
     "7976ec02fc5d43e3b76045e26fdba380": {
      "model_module": "@jupyter-widgets/controls",
      "model_module_version": "2.0.0",
      "model_name": "HBoxModel",
      "state": {
       "_dom_classes": [],
       "_model_module": "@jupyter-widgets/controls",
       "_model_module_version": "2.0.0",
       "_model_name": "HBoxModel",
       "_view_count": null,
       "_view_module": "@jupyter-widgets/controls",
       "_view_module_version": "2.0.0",
       "_view_name": "HBoxView",
       "box_style": "",
       "children": [
        "IPY_MODEL_db8e10e972e64bc096606ca826a29c0f",
        "IPY_MODEL_4d59b1adf15849b196972b405a3f9f6d",
        "IPY_MODEL_351d5ed0ad444343be92964d7f868961"
       ],
       "layout": "IPY_MODEL_161ba1b8f8fd4beda30fa766774e062a",
       "tabbable": null,
       "tooltip": null
      }
     },
     "7d3c565b102c4d7e8945a236953e8c9f": {
      "model_module": "@jupyter-widgets/controls",
      "model_module_version": "2.0.0",
      "model_name": "ProgressStyleModel",
      "state": {
       "_model_module": "@jupyter-widgets/controls",
       "_model_module_version": "2.0.0",
       "_model_name": "ProgressStyleModel",
       "_view_count": null,
       "_view_module": "@jupyter-widgets/base",
       "_view_module_version": "2.0.0",
       "_view_name": "StyleView",
       "bar_color": null,
       "description_width": ""
      }
     },
     "9eb55abcec1a46dd89ff241d513113dc": {
      "model_module": "@jupyter-widgets/controls",
      "model_module_version": "2.0.0",
      "model_name": "HTMLStyleModel",
      "state": {
       "_model_module": "@jupyter-widgets/controls",
       "_model_module_version": "2.0.0",
       "_model_name": "HTMLStyleModel",
       "_view_count": null,
       "_view_module": "@jupyter-widgets/base",
       "_view_module_version": "2.0.0",
       "_view_name": "StyleView",
       "background": null,
       "description_width": "",
       "font_size": null,
       "text_color": null
      }
     },
     "db8e10e972e64bc096606ca826a29c0f": {
      "model_module": "@jupyter-widgets/controls",
      "model_module_version": "2.0.0",
      "model_name": "HTMLModel",
      "state": {
       "_dom_classes": [],
       "_model_module": "@jupyter-widgets/controls",
       "_model_module_version": "2.0.0",
       "_model_name": "HTMLModel",
       "_view_count": null,
       "_view_module": "@jupyter-widgets/controls",
       "_view_module_version": "2.0.0",
       "_view_name": "HTMLView",
       "description": "",
       "description_allow_html": false,
       "layout": "IPY_MODEL_1490703ceea844cd8b19b0291fcc0904",
       "placeholder": "​",
       "style": "IPY_MODEL_36c26366420c4bd7b62686fe0acaa890",
       "tabbable": null,
       "tooltip": null,
       "value": "100%"
      }
     }
    },
    "version_major": 2,
    "version_minor": 0
   }
  }
 },
 "nbformat": 4,
 "nbformat_minor": 5
}