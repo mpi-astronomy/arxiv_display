{
 "cells": [
  {
   "cell_type": "markdown",
   "id": "92bcb855",
   "metadata": {
    "papermill": {
     "duration": 0.003895,
     "end_time": "2024-11-15T04:10:59.655673",
     "exception": false,
     "start_time": "2024-11-15T04:10:59.651778",
     "status": "completed"
    },
    "tags": []
   },
   "source": [
    "# MPIA Arxiv on Deck 2\n",
    "\n",
    "Contains the steps to produce the paper extractions."
   ]
  },
  {
   "cell_type": "code",
   "execution_count": 1,
   "id": "3a0d6e11",
   "metadata": {
    "execution": {
     "iopub.execute_input": "2024-11-15T04:10:59.663222Z",
     "iopub.status.busy": "2024-11-15T04:10:59.662598Z",
     "iopub.status.idle": "2024-11-15T04:11:00.284556Z",
     "shell.execute_reply": "2024-11-15T04:11:00.283926Z"
    },
    "papermill": {
     "duration": 0.626927,
     "end_time": "2024-11-15T04:11:00.285866",
     "exception": false,
     "start_time": "2024-11-15T04:10:59.658939",
     "status": "completed"
    },
    "tags": []
   },
   "outputs": [],
   "source": [
    "# Imports\n",
    "import os\n",
    "from IPython.display import Markdown, display\n",
    "from tqdm.notebook import tqdm\n",
    "import warnings\n",
    "from PIL import Image \n",
    "import re\n",
    "\n",
    "# requires arxiv_on_deck_2\n",
    "\n",
    "from arxiv_on_deck_2.arxiv2 import (get_new_papers, \n",
    "                                    get_paper_from_identifier,\n",
    "                                    retrieve_document_source, \n",
    "                                    get_markdown_badge)\n",
    "from arxiv_on_deck_2 import (latex,\n",
    "                             latex_bib,\n",
    "                             mpia,\n",
    "                             highlight_authors_in_list)\n",
    "\n",
    "# Sometimes images are really big\n",
    "Image.MAX_IMAGE_PIXELS = 1000000000 "
   ]
  },
  {
   "cell_type": "code",
   "execution_count": 2,
   "id": "22aa9d44",
   "metadata": {
    "execution": {
     "iopub.execute_input": "2024-11-15T04:11:00.293300Z",
     "iopub.status.busy": "2024-11-15T04:11:00.292667Z",
     "iopub.status.idle": "2024-11-15T04:11:00.300576Z",
     "shell.execute_reply": "2024-11-15T04:11:00.300083Z"
    },
    "papermill": {
     "duration": 0.012433,
     "end_time": "2024-11-15T04:11:00.301506",
     "exception": false,
     "start_time": "2024-11-15T04:11:00.289073",
     "status": "completed"
    },
    "tags": []
   },
   "outputs": [],
   "source": [
    "# Some useful definitions.\n",
    "\n",
    "class AffiliationWarning(UserWarning):\n",
    "    pass\n",
    "\n",
    "class AffiliationError(RuntimeError):\n",
    "    pass\n",
    "\n",
    "def validation(source: str):\n",
    "    \"\"\"Raises error paper during parsing of source file\n",
    "    \n",
    "    Allows checks before parsing TeX code.\n",
    "    \n",
    "    Raises AffiliationWarning\n",
    "    \"\"\"\n",
    "    check = mpia.affiliation_verifications(source, verbose=True)\n",
    "    if check is not True:\n",
    "        raise AffiliationError(\"mpia.affiliation_verifications: \" + check)\n",
    "\n",
    "        \n",
    "warnings.simplefilter('always', AffiliationWarning)\n",
    "\n",
    "\n",
    "def get_markdown_qrcode(paper_id: str):\n",
    "    \"\"\" Generate a qrcode to the arxiv page using qrserver.com\n",
    "    \n",
    "    :param paper: Arxiv paper\n",
    "    :returns: markdown text\n",
    "    \"\"\"\n",
    "    url = r\"https://api.qrserver.com/v1/create-qr-code/?size=100x100&data=\"\n",
    "    txt = f\"\"\"<img src={url}\"https://arxiv.org/abs/{paper_id}\">\"\"\"\n",
    "    txt = '<div id=\"qrcode\">' + txt + '</div>'\n",
    "    return txt\n",
    "\n",
    "\n",
    "def clean_non_western_encoded_characters_commands(text: str) -> str:\n",
    "    \"\"\" Remove non-western encoded characters from a string\n",
    "    List may need to grow.\n",
    "    \n",
    "    :param text: the text to clean\n",
    "    :return: the cleaned text\n",
    "    \"\"\"\n",
    "    text = re.sub(r\"(\\\\begin{CJK}{UTF8}{gbsn})(.*?)(\\\\end{CJK})\", r\"\\2\", text)\n",
    "    return text\n",
    "\n",
    "\n",
    "def get_initials(name: str) -> str:\n",
    "    \"\"\" Get the short name, e.g., A.-B. FamName\n",
    "    :param name: full name\n",
    "    :returns: initials\n",
    "    \"\"\"\n",
    "    initials = []\n",
    "    # account for non western names often in ()\n",
    "    if '(' in name:\n",
    "        name = clean_non_western_encoded_characters_commands(name)\n",
    "        suffix = re.findall(r\"\\((.*?)\\)\", name)[0]\n",
    "        name = name.replace(f\"({suffix})\", '')\n",
    "    else:\n",
    "        suffix = ''\n",
    "    split = name.split()\n",
    "    for token in split[:-1]:\n",
    "        if '-' in token:\n",
    "            current = '-'.join([k[0] + '.' for k in token.split('-')])\n",
    "        else:\n",
    "            current = token[0] + '.'\n",
    "        initials.append(current)\n",
    "    initials.append(split[-1].strip())\n",
    "    if suffix:\n",
    "        initials.append(f\"({suffix})\")\n",
    "    return ' '.join(initials)"
   ]
  },
  {
   "cell_type": "markdown",
   "id": "14bd6310",
   "metadata": {
    "papermill": {
     "duration": 0.002922,
     "end_time": "2024-11-15T04:11:00.307397",
     "exception": false,
     "start_time": "2024-11-15T04:11:00.304475",
     "status": "completed"
    },
    "tags": []
   },
   "source": [
    "## get list of arxiv paper candidates\n",
    "\n",
    "We use the MPIA mitarbeiter list webpage from mpia.de to get author names\n",
    "We then get all new papers from Arxiv and match authors"
   ]
  },
  {
   "cell_type": "code",
   "execution_count": 3,
   "id": "7ea813a8",
   "metadata": {
    "execution": {
     "iopub.execute_input": "2024-11-15T04:11:00.314192Z",
     "iopub.status.busy": "2024-11-15T04:11:00.313834Z",
     "iopub.status.idle": "2024-11-15T04:11:17.650007Z",
     "shell.execute_reply": "2024-11-15T04:11:17.649314Z"
    },
    "papermill": {
     "duration": 17.340986,
     "end_time": "2024-11-15T04:11:17.651305",
     "exception": false,
     "start_time": "2024-11-15T04:11:00.310319",
     "status": "completed"
    },
    "tags": []
   },
   "outputs": [],
   "source": [
    "# deal with the author list and edge cases of people that cannot be consistent on their name  \n",
    "\n",
    "def filter_non_scientists(name: str) -> bool:\n",
    "    \"\"\" Loose filter on expected authorships\n",
    "\n",
    "    removing IT, administration, technical staff\n",
    "    :param name: name\n",
    "    :returns: False if name is not a scientist\n",
    "    \"\"\"\n",
    "    remove_list = ['Licht', 'Binroth', 'Witzel', 'Jordan',\n",
    "                   'Zähringer', 'Scheerer', 'Hoffmann', 'Düe',\n",
    "                   'Hellmich', 'Enkler-Scharpegge', 'Witte-Nguy',\n",
    "                   'Dehen', 'Beckmann', 'Jager', 'Jäger'\n",
    "                  ]\n",
    "\n",
    "    for k in remove_list:\n",
    "        if k in name:\n",
    "            return False\n",
    "    return True\n",
    "\n",
    "def add_author_to_list(author_list: list) -> list:\n",
    "    \"\"\" Add author to list if not already in list\n",
    "    \n",
    "    :param author: author name\n",
    "    :param author_list: list of authors\n",
    "    :returns: updated list of authors\n",
    "    \"\"\"\n",
    "    add_list = ['T. Henning']\n",
    "\n",
    "    for author in add_list:\n",
    "        if author not in author_list:\n",
    "            author_list.append(author)\n",
    "    return author_list\n",
    "\n",
    "# get list from MPIA website\n",
    "# filter for non-scientists (mpia.get_mpia_mitarbeiter_list() does some filtering)\n",
    "mpia_authors = [k[1] for k in mpia.get_mpia_mitarbeiter_list() if filter_non_scientists(k[1])]\n",
    "# add some missing author because of inconsistencies in their MPIA name and author name on papers\n",
    "mpia_authors = add_author_to_list(mpia_authors)"
   ]
  },
  {
   "cell_type": "code",
   "execution_count": 4,
   "id": "2645e73a",
   "metadata": {
    "execution": {
     "iopub.execute_input": "2024-11-15T04:11:17.658620Z",
     "iopub.status.busy": "2024-11-15T04:11:17.658412Z",
     "iopub.status.idle": "2024-11-15T04:11:18.381721Z",
     "shell.execute_reply": "2024-11-15T04:11:18.381011Z"
    },
    "papermill": {
     "duration": 0.728219,
     "end_time": "2024-11-15T04:11:18.382858",
     "exception": false,
     "start_time": "2024-11-15T04:11:17.654639",
     "status": "completed"
    },
    "tags": []
   },
   "outputs": [
    {
     "name": "stdout",
     "output_type": "stream",
     "text": [
      "S. Li  ->  S. Li  |  ['S. Li']\n",
      "L. Acuña  ->  L. Acuña  |  ['L. Acuña']\n",
      "E. Schinnerer  ->  E. Schinnerer  |  ['E. Schinnerer']\n",
      "Arxiv has 69 new papers today\n",
      "          3 with possible author matches\n"
     ]
    }
   ],
   "source": [
    "new_papers = get_new_papers()\n",
    "# add manual references\n",
    "add_paper_refs = []\n",
    "new_papers.extend([get_paper_from_identifier(k) for k in add_paper_refs])\n",
    "\n",
    "def robust_call(fn, value, *args, **kwargs):\n",
    "    try:\n",
    "        return fn(value, *args, **kwargs)\n",
    "    except Exception:\n",
    "        return value\n",
    "\n",
    "candidates = []\n",
    "for paperk in new_papers:\n",
    "    # Check author list with their initials\n",
    "    normed_author_list = [robust_call(mpia.get_initials, k) for k in paperk['authors']]\n",
    "    hl_authors = highlight_authors_in_list(normed_author_list, mpia_authors, verbose=True)\n",
    "    matches = [(hl, orig) for hl, orig in zip(hl_authors, paperk['authors']) if 'mark' in hl]\n",
    "    paperk['authors'] = hl_authors\n",
    "    if matches:\n",
    "        # only select paper if an author matched our list\n",
    "        candidates.append(paperk)\n",
    "print(\"\"\"Arxiv has {0:,d} new papers today\"\"\".format(len(new_papers)))        \n",
    "print(\"\"\"          {0:,d} with possible author matches\"\"\".format(len(candidates)))"
   ]
  },
  {
   "cell_type": "markdown",
   "id": "3543b34a",
   "metadata": {
    "papermill": {
     "duration": 0.003217,
     "end_time": "2024-11-15T04:11:18.389532",
     "exception": false,
     "start_time": "2024-11-15T04:11:18.386315",
     "status": "completed"
    },
    "tags": []
   },
   "source": [
    "# Parse sources and generate relevant outputs\n",
    "\n",
    "From the candidates, we do the following steps:\n",
    "* get their tarball from ArXiv (and extract data)\n",
    "* find the main .tex file: find one with \\documentclass{...} (sometimes it's non trivial)\n",
    "* Check affiliations with :func:`validation`, which uses :func:`mpia.affiliation_verifications`\n",
    "* If passing the affiliations: we parse the .tex source\n",
    "   * inject sub-documents into the main (flatten the main document)\n",
    "   * parse structure, extract information (title, abstract, authors, figures...)\n",
    "   * handles `\\graphicspath` if provided\n",
    "* Generate the .md document."
   ]
  },
  {
   "cell_type": "code",
   "execution_count": 5,
   "id": "9576b79e",
   "metadata": {
    "execution": {
     "iopub.execute_input": "2024-11-15T04:11:18.396763Z",
     "iopub.status.busy": "2024-11-15T04:11:18.396297Z",
     "iopub.status.idle": "2024-11-15T04:12:25.571729Z",
     "shell.execute_reply": "2024-11-15T04:12:25.570979Z"
    },
    "papermill": {
     "duration": 67.180152,
     "end_time": "2024-11-15T04:12:25.572736",
     "exception": false,
     "start_time": "2024-11-15T04:11:18.392584",
     "status": "completed"
    },
    "scrolled": false,
    "tags": []
   },
   "outputs": [
    {
     "data": {
      "application/vnd.jupyter.widget-view+json": {
       "model_id": "5843c7775ad841e3bf9427718c361768",
       "version_major": 2,
       "version_minor": 0
      },
      "text/plain": [
       "  0%|          | 0/3 [00:00<?, ?it/s]"
      ]
     },
     "metadata": {},
     "output_type": "display_data"
    },
    {
     "name": "stdout",
     "output_type": "stream",
     "text": [
      "Retrieving document from  https://arxiv.org/e-print/2411.09278\n"
     ]
    },
    {
     "name": "stdout",
     "output_type": "stream",
     "text": [
      "extracting tarball to tmp_2411.09278..."
     ]
    },
    {
     "name": "stdout",
     "output_type": "stream",
     "text": [
      " done.\n",
      "Retrieving document from  https://arxiv.org/e-print/2411.09506\n"
     ]
    },
    {
     "name": "stdout",
     "output_type": "stream",
     "text": [
      "extracting tarball to tmp_2411.09506..."
     ]
    },
    {
     "name": "stdout",
     "output_type": "stream",
     "text": [
      " done.\n",
      "  0: tmp_2411.09506/aanda_old.tex, 1,103 lines\n",
      "  1: tmp_2411.09506/aanda.tex, 1,058 lines\n",
      "  2: tmp_2411.09506/diff.tex, 1,145 lines\n"
     ]
    },
    {
     "name": "stderr",
     "output_type": "stream",
     "text": [
      "/opt/hostedtoolcache/Python/3.9.20/x64/lib/python3.9/site-packages/IPython/core/interactiveshell.py:3550: LatexWarning: Multiple tex files.\n",
      "\n",
      "  exec(code_obj, self.user_global_ns, self.user_ns)\n",
      "/opt/hostedtoolcache/Python/3.9.20/x64/lib/python3.9/site-packages/IPython/core/interactiveshell.py:3550: LatexWarning: Found 3 candidates with documentclass definition.\n",
      "  exec(code_obj, self.user_global_ns, self.user_ns)\n",
      "/opt/hostedtoolcache/Python/3.9.20/x64/lib/python3.9/site-packages/IPython/core/interactiveshell.py:3550: LatexWarning: Assuming tmp_2411.09506/diff.tex as main document.\n",
      "  exec(code_obj, self.user_global_ns, self.user_ns)\n"
     ]
    },
    {
     "name": "stderr",
     "output_type": "stream",
     "text": [
      "/opt/hostedtoolcache/Python/3.9.20/x64/lib/python3.9/site-packages/arxiv_on_deck_2/latex.py:488: LatexWarning: Error parsing the document directly. Trying to recover.\n",
      "  warnings.warn(LatexWarning(f\"Error parsing the document directly. Trying to recover.\"))\n"
     ]
    },
    {
     "name": "stdout",
     "output_type": "stream",
     "text": [
      "✔ → 0:header\n",
      "  ↳ 10623:\\section{Introduction}\n"
     ]
    },
    {
     "name": "stdout",
     "output_type": "stream",
     "text": [
      "✔ → 10623:\\section{Introduction}\n",
      "  ↳ 18998:\\section{Observations and data reduction}\\label{sec:obs}\n"
     ]
    },
    {
     "name": "stdout",
     "output_type": "stream",
     "text": [
      "✔ → 18998:\\section{Observations and data reduction}\\label{sec:obs}\n",
      "  ↳ 35453:\\section{Stellar properties}\\label{sec:stellar}\n"
     ]
    },
    {
     "name": "stdout",
     "output_type": "stream",
     "text": [
      "✔ → 35453:\\section{Stellar properties}\\label{sec:stellar}\n",
      "  ↳ 46356:\\section{Stellar activity analysis}\\label{sec:activity}\n",
      "✔ → 46356:\\section{Stellar activity analysis}\\label{sec:activity}\n",
      "  ↳ 50765:\\section{Characterization of Gl 725A b}\\label{sec:planet}\n"
     ]
    },
    {
     "name": "stdout",
     "output_type": "stream",
     "text": [
      "✘ → 50765:\\section{Characterization of Gl 725A b}\\label{sec:planet}\n",
      "  ↳ 72584:\\section{Transit search in TESS data}\\label{sec:tess}\n"
     ]
    },
    {
     "name": "stdout",
     "output_type": "stream",
     "text": [
      "✔ → 72584:\\section{Transit search in TESS data}\\label{sec:tess}\n",
      "  ↳ 79589:\\section{Discussion}\\label{sec:discussion}\n",
      "✔ → 79589:\\section{Discussion}\\label{sec:discussion}\n",
      "  ↳ 87318:\\section{Summary and Conclusions}\\label{sec:conclusions}\n"
     ]
    },
    {
     "name": "stdout",
     "output_type": "stream",
     "text": [
      "✔ → 87318:\\section{Summary and Conclusions}\\label{sec:conclusions}\n",
      "  ↳ 93583:\\begin{appendix}\n",
      "✔ → 93583:\\begin{appendix}\n",
      "  ↳ 93625:\\section{Log of observations}\\label{App:RVs}\n"
     ]
    },
    {
     "name": "stdout",
     "output_type": "stream",
     "text": [
      "✔ → 93625:\\section{Log of observations}\\label{App:RVs}\n",
      "  ↳ 137845:\\section{Planet model priors}\n",
      "✔ → 137845:\\section{Planet model priors}\n",
      "  ↳ 140013:\\section{Binary system model corner plot}\\label{App:corner_binary}\n",
      "✔ → 140013:\\section{Binary system model corner plot}\\label{App:corner_binary}\n",
      "  ↳ 140357:\\section{Planet model corner plot}\\label{App:corner_planet}\n",
      "✔ → 140357:\\section{Planet model corner plot}\\label{App:corner_planet}\n",
      "  ↳ 140756:end\n"
     ]
    },
    {
     "name": "stdout",
     "output_type": "stream",
     "text": [
      "L. Acuña  ->  L. Acuña  |  ['L. Acuña']\n"
     ]
    },
    {
     "name": "stdout",
     "output_type": "stream",
     "text": [
      "Found 138 bibliographic references in tmp_2411.09506/aanda.bbl.\n",
      "Issues with the citations\n",
      "syntax error in line 403: '=' expected\n",
      "Retrieving document from  https://arxiv.org/e-print/2411.09608\n"
     ]
    },
    {
     "name": "stderr",
     "output_type": "stream",
     "text": [
      "/tmp/ipykernel_2705/2822249172.py:52: LatexWarning: 2411.09608 did not run properly\n",
      "not a gzip file\n",
      "  warnings.warn(latex.LatexWarning(f\"{paper_id:s} did not run properly\\n\" +\n"
     ]
    }
   ],
   "source": [
    "documents = []\n",
    "failed = []\n",
    "for paper in tqdm(candidates):\n",
    "    # debug crap\n",
    "    paper['identifier'] = paper['identifier'].lower().replace('arxiv:', '').replace(r'\\n', '').strip()\n",
    "    paper_id = paper['identifier']\n",
    "    \n",
    "    folder = f'tmp_{paper_id}'\n",
    "\n",
    "    try:\n",
    "        if not os.path.isdir(folder):\n",
    "            folder = retrieve_document_source(f\"{paper_id}\", f'tmp_{paper_id}')\n",
    "        \n",
    "        try:\n",
    "            doc = latex.LatexDocument(folder, validation=validation)    \n",
    "        except AffiliationError as affilerror:\n",
    "            msg = f\"ArXiv:{paper_id:s} is not an MPIA paper... \" + str(affilerror)\n",
    "            failed.append((paper, \"affiliation error: \" + str(affilerror) ))\n",
    "            continue\n",
    "        \n",
    "        # Hack because sometimes author parsing does not work well\n",
    "        if (len(doc.authors) != len(paper['authors'])):\n",
    "            doc._authors = paper['authors']\n",
    "        else:\n",
    "            # highlight authors (FIXME: doc.highlight_authors)\n",
    "            # done on arxiv paper already\n",
    "            doc._authors = highlight_authors_in_list(\n",
    "                [get_initials(k) for k in doc.authors], \n",
    "                mpia_authors, verbose=True)\n",
    "        if (doc.abstract) in (None, ''):\n",
    "            doc._abstract = paper['abstract']\n",
    "            \n",
    "        doc.comment = (get_markdown_badge(paper_id) + \n",
    "                       \"<mark>Appeared on: \" + paper['date'] + \"</mark> - \")\n",
    "        if paper['comments']:\n",
    "            doc.comment += \" _\" + paper['comments'] + \"_\"\n",
    "        \n",
    "        full_md = doc.generate_markdown_text()\n",
    "        \n",
    "        full_md += get_markdown_qrcode(paper_id)\n",
    "        \n",
    "        # replace citations\n",
    "        try:\n",
    "            bibdata = latex_bib.LatexBib.from_doc(doc)\n",
    "            full_md = latex_bib.replace_citations(full_md, bibdata)\n",
    "        except Exception as e:\n",
    "            print(\"Issues with the citations\")\n",
    "            print(e)\n",
    "        \n",
    "        documents.append((paper_id, full_md))\n",
    "    except Exception as e:\n",
    "        warnings.warn(latex.LatexWarning(f\"{paper_id:s} did not run properly\\n\" +\n",
    "                                         str(e)\n",
    "                                        ))\n",
    "        failed.append((paper, \"latex error \" + str(e)))"
   ]
  },
  {
   "cell_type": "markdown",
   "id": "2505a25c",
   "metadata": {
    "papermill": {
     "duration": 0.004006,
     "end_time": "2024-11-15T04:12:25.581102",
     "exception": false,
     "start_time": "2024-11-15T04:12:25.577096",
     "status": "completed"
    },
    "tags": []
   },
   "source": [
    "### Export the logs\n",
    "\n",
    "Throughout, we also keep track of the logs per paper. see `logs-{today date}.md` "
   ]
  },
  {
   "cell_type": "code",
   "execution_count": 6,
   "id": "d733828a",
   "metadata": {
    "execution": {
     "iopub.execute_input": "2024-11-15T04:12:25.590278Z",
     "iopub.status.busy": "2024-11-15T04:12:25.589877Z",
     "iopub.status.idle": "2024-11-15T04:12:25.604102Z",
     "shell.execute_reply": "2024-11-15T04:12:25.603602Z"
    },
    "papermill": {
     "duration": 0.019947,
     "end_time": "2024-11-15T04:12:25.605022",
     "exception": false,
     "start_time": "2024-11-15T04:12:25.585075",
     "status": "completed"
    },
    "scrolled": false,
    "tags": []
   },
   "outputs": [
    {
     "data": {
      "text/markdown": [
       "## Successful papers"
      ],
      "text/plain": [
       "<IPython.core.display.Markdown object>"
      ]
     },
     "metadata": {},
     "output_type": "display_data"
    },
    {
     "data": {
      "text/markdown": [
       "\n",
       "|||\n",
       "|---:|:---|\n",
       "| [![arXiv](https://img.shields.io/badge/arXiv-2411.09506-b31b1b.svg)](https://arxiv.org/abs/2411.09506) | **Gl 725A b: a potential super-Earth detected with SOPHIE and SPIRou in an M dwarf binary system at 3.5 pc**  |\n",
       "|| P. Cortes-Zuleta, et al. -- incl., <mark>L. Acuña</mark> |\n",
       "|*Appeared on*| *2024-11-15*|\n",
       "|*Comments*| *26 pages, 17 figures. Accepted in A&A*|\n",
       "|**Abstract**|            We report the discovery of a super-Earth candidate orbiting the nearby mid M dwarf Gl\\,725A using the radial velocity (RV) method. The planetary signal has been independently identified using high-precision RVs from the SOPHIE and SPIRou spectrographs, in the optical and near-infrared domains, respectively. We modelled the stellar activity signal jointly with the planet using two Gaussian Processes, one for each instrument to account for the chromaticity of the stellar activity and instrumental systematics, along with a Keplerian model. The signal is significantly detected with a RV semi-amplitude of $1.67\\pm0.20$ m/s. The planet Gl 725A b is found to be in an orbit compatible with circular with a period of $11.2201\\pm0.0051$ days. We analysed 27 sectors of TESS photometry on which no transit event was found. We determined a minimum mass of $M_{p}\\sin{i}=2.78\\pm0.35\\,M_{\\oplus}$ which places the planet in the super-Earth regime. Using Mass-Radius relationships we predict a planetary radius to be between 1.2 and $2.0\\,R_{\\oplus}$. The proximity of Gl 725A, of only 3.5 pc, makes this new exoplanet one of the closest to Earth and joins the group of S-type low-mass planets in short orbits ($P<15$ d) around close M dwarfs.         |"
      ],
      "text/plain": [
       "[2411.09506] Gl 725A b: a potential super-Earth detected with SOPHIE and SPIRou in an M dwarf binary system at 3.5 pc\n",
       "\tP. Cortes-Zuleta, et al. -- incl., <mark>L. Acuña</mark>"
      ]
     },
     "metadata": {},
     "output_type": "display_data"
    },
    {
     "data": {
      "text/markdown": [
       "## Failed papers"
      ],
      "text/plain": [
       "<IPython.core.display.Markdown object>"
      ]
     },
     "metadata": {},
     "output_type": "display_data"
    },
    {
     "data": {
      "text/markdown": [
       "\n",
       "|||\n",
       "|---:|:---|\n",
       "| [![arXiv](https://img.shields.io/badge/arXiv-2411.09278-b31b1b.svg)](https://arxiv.org/abs/2411.09278) | **A Recent Supermassive Black Hole Binary in the Galactic Center Unveiled by the Hypervelocity Stars**  |\n",
       "|| C. Cao, et al. -- incl., <mark>S. Li</mark> |\n",
       "|*Appeared on*| *2024-11-15*|\n",
       "|*Comments*| *34 pages, 13 figures, 1 table, submitted on 2024 January 15*|\n",
       "|**Abstract**|            Dozens of B-type hypervelocity stars (HVSs) moving faster than the Galactic escape speed have been discovered in the Galactic halo and are produced most likely by the supermassive black hole (SMBH) at the Galactic Center (GC). However, the velocity distribution and in particular the deficit of the HVSs above 700 km/s is seriously inconsistent with the expectations of the present models. Here we show that the high-velocity deficit is due to the deficiency in close interactions of stars with the SMBH, because an orbiting intermediate-mass black hole (IMBH) of about 15,000 Solar mass kicked away slowly approaching stars 50-250 million years ago. The SMBH-IMBH binary formed probably after the merger of the Galaxy with the Gaia-Sausage-Enceladus (GSE) dwarf galaxy, and coalesced about 10 million years ago. Afterwards, HVSs with speed up to above 3000 km/s are produced by binary tidal disruptions and the counterparts formed the S-star cluster at the GC.         |\n",
       "|<p style=\"color:green\"> **ERROR** </p>| <p style=\"color:green\">affiliation error: mpia.affiliation_verifications: '69117' keyword not found.</p> |"
      ],
      "text/plain": [
       "<IPython.core.display.Markdown object>"
      ]
     },
     "metadata": {},
     "output_type": "display_data"
    },
    {
     "data": {
      "text/markdown": [
       "\n",
       "|||\n",
       "|---:|:---|\n",
       "| [![arXiv](https://img.shields.io/badge/arXiv-2411.09608-b31b1b.svg)](https://arxiv.org/abs/2411.09608) | **VST-SMASH: the VST Survey of Mass Assembly and Structural Hierarchy**  |\n",
       "|| C. Tortora, et al. -- incl., <mark>E. Schinnerer</mark> |\n",
       "|*Appeared on*| *2024-11-15*|\n",
       "|*Comments*| *4 pages, 2 figures, 1 table, published in the ESO Messenger 193*|\n",
       "|**Abstract**|            The VLT Survey Telescope Survey of Mass Assembly and Structural Hierarchy (VST-SMASH) aims to detect tidal features and remnants around very nearby galaxies, a unique and essential diagnostic of the hierarchical nature of galaxy formation. Leveraging optimal sky conditions at ESO's Paranal Observatory, combined with the VST's multi-band optical filters, VST-SMASH aims to be the definitive survey of stellar streams and tidal remnants in the Local Volume, targeting a low surface-brightness limit of $\\mu \\sim$ 30 mag arcsec$^{-2}$ in the g and r bands, and $\\mu \\sim$ 28 mag arcsec$^{-2}$ in the i band, in a volume-limited sample of local galaxies within 11 Mpc and the Euclid footprint.         |\n",
       "|<p style=\"color:red\"> **ERROR** </p>| <p style=\"color:red\">latex error not a gzip file</p> |"
      ],
      "text/plain": [
       "<IPython.core.display.Markdown object>"
      ]
     },
     "metadata": {},
     "output_type": "display_data"
    }
   ],
   "source": [
    "import datetime\n",
    "today = str(datetime.date.today())\n",
    "logfile = f\"_build/html/logs/log-{today}.md\"\n",
    "\n",
    "\n",
    "with open(logfile, 'w') as logs:\n",
    "    # Success\n",
    "    logs.write(f'# Arxiv on Deck 2: Logs - {today}\\n\\n')\n",
    "    logs.write(\"\"\"* Arxiv had {0:,d} new papers\\n\"\"\".format(len(new_papers)))\n",
    "    logs.write(\"\"\"    * {0:,d} with possible author matches\\n\\n\"\"\".format(len(candidates)))\n",
    "    logs.write(\"## Sucessful papers\\n\\n\")\n",
    "    display(Markdown(\"## Successful papers\"))\n",
    "    success = [k[0] for k in documents]\n",
    "    for candid in candidates:\n",
    "        if candid['identifier'].split(':')[-1] in success:\n",
    "            display(candid)\n",
    "            logs.write(candid.generate_markdown_text() + '\\n\\n')\n",
    "\n",
    "    ## failed\n",
    "    logs.write(\"## Failed papers\\n\\n\")\n",
    "    display(Markdown(\"## Failed papers\"))\n",
    "    failed = sorted(failed, key=lambda x: x[1])\n",
    "    current_reason = \"\"\n",
    "    for paper, reason in failed:\n",
    "        if 'affiliation' in reason:\n",
    "            color = 'green'\n",
    "        else:\n",
    "            color = 'red'\n",
    "        data = Markdown(\n",
    "                paper.generate_markdown_text() + \n",
    "                f'\\n|<p style=\"color:{color:s}\"> **ERROR** </p>| <p style=\"color:{color:s}\">{reason:s}</p> |'\n",
    "               )\n",
    "        if reason != current_reason:\n",
    "            logs.write(f'### {reason:s} \\n\\n')\n",
    "            current_reason = reason\n",
    "        logs.write(data.data + '\\n\\n')\n",
    "        \n",
    "        # only display here the important errors (all in logs)\n",
    "        # if color in ('red',):\n",
    "        display(data)"
   ]
  },
  {
   "cell_type": "markdown",
   "id": "472d20ee",
   "metadata": {
    "papermill": {
     "duration": 0.004424,
     "end_time": "2024-11-15T04:12:25.614082",
     "exception": false,
     "start_time": "2024-11-15T04:12:25.609658",
     "status": "completed"
    },
    "tags": []
   },
   "source": [
    "## Export documents\n",
    "\n",
    "We now write the .md files and export relevant images"
   ]
  },
  {
   "cell_type": "code",
   "execution_count": 7,
   "id": "d426aed9",
   "metadata": {
    "execution": {
     "iopub.execute_input": "2024-11-15T04:12:25.624160Z",
     "iopub.status.busy": "2024-11-15T04:12:25.623745Z",
     "iopub.status.idle": "2024-11-15T04:12:25.630515Z",
     "shell.execute_reply": "2024-11-15T04:12:25.629990Z"
    },
    "papermill": {
     "duration": 0.012922,
     "end_time": "2024-11-15T04:12:25.631548",
     "exception": false,
     "start_time": "2024-11-15T04:12:25.618626",
     "status": "completed"
    },
    "tags": []
   },
   "outputs": [],
   "source": [
    "def export_markdown_summary(md: str, md_fname:str, directory: str):\n",
    "    \"\"\"Export MD document and associated relevant images\"\"\"\n",
    "    import os\n",
    "    import shutil\n",
    "    import re\n",
    "\n",
    "    if (os.path.exists(directory) and not os.path.isdir(directory)):\n",
    "        raise RuntimeError(f\"a non-directory file exists with name {directory:s}\")\n",
    "\n",
    "    if (not os.path.exists(directory)):\n",
    "        print(f\"creating directory {directory:s}\")\n",
    "        os.mkdir(directory)\n",
    "\n",
    "    fig_fnames = (re.compile(r'\\[Fig.*\\]\\((.*)\\)').findall(md) + \n",
    "                  re.compile(r'\\<img src=\"([^>\\s]*)\"[^>]*/>').findall(md))\n",
    "    print(\"found figures\", fig_fnames)\n",
    "    for fname in fig_fnames:\n",
    "        if 'http' in fname:\n",
    "            # No need to copy online figures\n",
    "            continue\n",
    "        if not os.path.exists(fname):\n",
    "            print(\"file not found\", fname)\n",
    "            continue\n",
    "        print(\"copying \", fname, \"to\", directory)\n",
    "        destdir = os.path.join(directory, os.path.dirname(fname))\n",
    "        destfname = os.path.join(destdir, os.path.basename(fname))\n",
    "        try:\n",
    "            os.makedirs(destdir)\n",
    "        except FileExistsError:\n",
    "            pass\n",
    "        shutil.copy(fname, destfname)\n",
    "    with open(os.path.join(directory, md_fname), 'w') as fout:\n",
    "        fout.write(md)\n",
    "    print(\"exported in \", os.path.join(directory, md_fname))\n",
    "    [print(\"    + \" + os.path.join(directory,fk)) for fk in fig_fnames]"
   ]
  },
  {
   "cell_type": "code",
   "execution_count": 8,
   "id": "014d04a4",
   "metadata": {
    "execution": {
     "iopub.execute_input": "2024-11-15T04:12:25.641786Z",
     "iopub.status.busy": "2024-11-15T04:12:25.641362Z",
     "iopub.status.idle": "2024-11-15T04:12:25.647632Z",
     "shell.execute_reply": "2024-11-15T04:12:25.647111Z"
    },
    "papermill": {
     "duration": 0.01242,
     "end_time": "2024-11-15T04:12:25.648602",
     "exception": false,
     "start_time": "2024-11-15T04:12:25.636182",
     "status": "completed"
    },
    "tags": []
   },
   "outputs": [
    {
     "name": "stdout",
     "output_type": "stream",
     "text": [
      "found figures ['tmp_2411.09506/./figs/periodograms_freq.png', 'tmp_2411.09506/./figs/periodograms_original_corrected_Gl725A.png', 'tmp_2411.09506/./figs/Mdwarfs+Gl725Ab_mass_period_histograms_2024.png']\n",
      "copying  tmp_2411.09506/./figs/periodograms_freq.png to _build/html/\n",
      "copying  tmp_2411.09506/./figs/periodograms_original_corrected_Gl725A.png to _build/html/\n",
      "copying  tmp_2411.09506/./figs/Mdwarfs+Gl725Ab_mass_period_histograms_2024.png to _build/html/\n",
      "exported in  _build/html/2411.09506.md\n",
      "    + _build/html/tmp_2411.09506/./figs/periodograms_freq.png\n",
      "    + _build/html/tmp_2411.09506/./figs/periodograms_original_corrected_Gl725A.png\n",
      "    + _build/html/tmp_2411.09506/./figs/Mdwarfs+Gl725Ab_mass_period_histograms_2024.png\n"
     ]
    }
   ],
   "source": [
    "for paper_id, md in documents:\n",
    "    export_markdown_summary(md, f\"{paper_id:s}.md\", '_build/html/')"
   ]
  },
  {
   "cell_type": "markdown",
   "id": "f087a0a7",
   "metadata": {
    "papermill": {
     "duration": 0.00463,
     "end_time": "2024-11-15T04:12:25.658043",
     "exception": false,
     "start_time": "2024-11-15T04:12:25.653413",
     "status": "completed"
    },
    "tags": []
   },
   "source": [
    "## Display the papers\n",
    "\n",
    "Not necessary but allows for a quick check."
   ]
  },
  {
   "cell_type": "code",
   "execution_count": 9,
   "id": "fd25f625",
   "metadata": {
    "execution": {
     "iopub.execute_input": "2024-11-15T04:12:25.668188Z",
     "iopub.status.busy": "2024-11-15T04:12:25.667860Z",
     "iopub.status.idle": "2024-11-15T04:12:25.672399Z",
     "shell.execute_reply": "2024-11-15T04:12:25.671798Z"
    },
    "papermill": {
     "duration": 0.010667,
     "end_time": "2024-11-15T04:12:25.673334",
     "exception": false,
     "start_time": "2024-11-15T04:12:25.662667",
     "status": "completed"
    },
    "scrolled": false,
    "tags": []
   },
   "outputs": [
    {
     "data": {
      "text/markdown": [
       "<div class=\"macros\" style=\"visibility:hidden;\">\n",
       "$\\newcommand{\\ensuremath}{}$\n",
       "$\\newcommand{\\xspace}{}$\n",
       "$\\newcommand{\\object}[1]{\\texttt{#1}}$\n",
       "$\\newcommand{\\farcs}{{.}''}$\n",
       "$\\newcommand{\\farcm}{{.}'}$\n",
       "$\\newcommand{\\arcsec}{''}$\n",
       "$\\newcommand{\\arcmin}{'}$\n",
       "$\\newcommand{\\ion}[2]{#1#2}$\n",
       "$\\newcommand{\\textsc}[1]{\\textrm{#1}}$\n",
       "$\\newcommand{\\hl}[1]{\\textrm{#1}}$\n",
       "$\\newcommand{\\footnote}[1]{}$\n",
       "$\\newcommand{\\DIFaddtex}[1]{{\\bf #1}}$\n",
       "$\\newcommand{\\DIFdeltex}[1]$\n",
       "$\\newcommand{\\DIFaddbegin}$\n",
       "$\\newcommand{\\DIFaddend}$\n",
       "$\\newcommand{\\DIFdelbegin}$\n",
       "$\\newcommand{\\DIFdelend}$\n",
       "$\\newcommand{\\DIFmodbegin}$\n",
       "$\\newcommand{\\DIFmodend}$\n",
       "$\\newcommand{\\DIFaddFL}[1]{\\DIFadd{#1}}$\n",
       "$\\newcommand{\\DIFdelFL}[1]{\\DIFdel{#1}}$\n",
       "$\\newcommand{\\DIFaddbeginFL}$\n",
       "$\\newcommand{\\DIFaddendFL}$\n",
       "$\\newcommand{\\DIFdelbeginFL}$\n",
       "$\\newcommand{\\DIFdelendFL}$\n",
       "$\\newcommand{\\DIFadd}[1]{\\texorpdfstring{\\DIFaddtex{#1}}{#1}}$\n",
       "$\\newcommand{\\DIFdel}[1]{\\texorpdfstring{\\DIFdeltex{#1}} }$\n",
       "$\\newcommand{\\ha}{\\rm H\\alpha}$\n",
       "$\\newcommand{\\ms}{m s^{-1}}$\n",
       "$\\newcommand{\\teff}{T_{\\rm eff}}$\n",
       "$\\newcommand{\\logg}{\\log g}$\n",
       "$\\newcommand{\\vsini}{v\\sin i}$\n",
       "$\\newcommand{\\feh}{[Fe/H]}$\n",
       "$\\newcommand{\\kms}{\\hbox{km s^{-1}}}$\n",
       "$\\newcommand{\\prot}{P_{\\rm rot} = 103.1\\pm6.1  \\rm d }$\n",
       "$\\newcommand{\\protv}{103.1\\pm6.1 }$\n",
       "$\\newcommand{\\starA}{\\rm Gl~725A }$\n",
       "$\\newcommand{\\DIFscaledelfig}{0.5}$\n",
       "$\\newcommand{\\DIFaddincludegraphics}[2][]{{\\color{blue}\\fbox{\\DIFOincludegraphics[#1]{#2}}}}$\n",
       "$\\newcommand{\\DIFdelincludegraphics}[2][]{$\n",
       "$\\sbox{\\DIFdelgraphicsbox}{\\DIFOincludegraphics[#1]{#2}}$\n",
       "$\\settoboxwidth{\\DIFdelgraphicswidth}{\\DIFdelgraphicsbox}$\n",
       "$\\settoboxtotalheight{\\DIFdelgraphicsheight}{\\DIFdelgraphicsbox}$\n",
       "$\\scalebox{\\DIFscaledelfig}{$\n",
       "$\\parbox[b]{\\DIFdelgraphicswidth}{\\usebox{\\DIFdelgraphicsbox}\\\\[-\\baselineskip] \\rule{\\DIFdelgraphicswidth}{0em}}\\llap{\\resizebox{\\DIFdelgraphicswidth}{\\DIFdelgraphicsheight}{$\n",
       "$\\setlength{\\unitlength}{\\DIFdelgraphicswidth}$\n",
       "$\\begin{picture}(1,1)$\n",
       "$\\thicklines\\linethickness{2pt}{\\color[rgb]{1,0,0}\\put(0,0){\\framebox(1,1) }}{\\color[rgb]{1,0,0}\\put(0,0){\\line( 1,1){1}}}{\\color[rgb]{1,0,0}\\put(0,1){\\line(1,-1){1}}}$\n",
       "$\\end{picture}$\n",
       "$}\\hspace*{3pt}}}$\n",
       "$}$\n",
       "$\\newcommand{\\arraystretch}{1.3}$\n",
       "$\\newcommand{\\arraystretch}{1.5}$\n",
       "$\\newcommand\\hyper{@linkstart##1##2 $\n",
       "$     }$\n",
       "$\\newcommand\\hyper{@linkstart##1##2 $\n",
       "$     }$\n",
       "$\\newcommand\\hyper{@linkstart##1##2 $\n",
       "$     }$\n",
       "$\\newcommand\\hyper{@linkstart##1##2 $\n",
       "$     }$</div>\n",
       "\n",
       "\n",
       "\n",
       "<div id=\"title\">\n",
       "\n",
       "# Gl 725A b: a potential super-Earth detected with SOPHIE and SPIRou in an M dwarf binary system at 3.5 pc\n",
       "\n",
       "</div>\n",
       "<div id=\"comments\">\n",
       "\n",
       "[![arXiv](https://img.shields.io/badge/arXiv-2411.09506-b31b1b.svg)](https://arxiv.org/abs/2411.09506)<mark>Appeared on: 2024-11-15</mark> -  _26 pages, 17 figures. Accepted in A&A_\n",
       "\n",
       "</div>\n",
       "<div id=\"authors\">\n",
       "\n",
       "P. Cortés-Zuleta, et al. -- incl., <mark>L. Acuña</mark>\n",
       "\n",
       "</div>\n",
       "<div id=\"abstract\">\n",
       "\n",
       "**Abstract:** We report the discovery of a super-Earth candidate orbiting the nearby mid M dwarf Gl 725A using the radial velocity (RV) method. The planetary signal has been independently identified using high-precision RVs from the SOPHIE and SPIRou spectrographs, in the optical and near-infrared domains, respectively. We modelled the stellar activity signal jointly with the planet using two Gaussian Processes, one for each instrument to account for the chromaticity of the stellar activity and instrumental systematics, along with a Keplerian model. The signal is significantly detected with a RV semi-amplitude of $1.67\\pm0.20$ m/s. The planet Gl 725A b is found to be in an orbit compatible with circular with a period of $11.2201\\pm0.0051$ days. We analysed 27 sectors of TESS photometry on which no transit event was found. We determined a minimum mass of $M_{p}\\sin{i}=2.78\\pm0.35 M_{\\oplus}$ which places the planet in the super-Earth regime. Using Mass-Radius relationships we predict a planetary radius to be between 1.2 and $2.0 R_{\\oplus}$ . The proximity of Gl 725A, of only 3.5 pc, makes this new exoplanet one of the closest to Earth and joins the group of S-type low-mass planets in short orbits ( $P<15$ d) around close M dwarfs.\n",
       "\n",
       "</div>\n",
       "\n",
       "<div id=\"div_fig1\">\n",
       "\n",
       "<img src=\"tmp_2411.09506/./figs/periodograms_freq.png\" alt=\"Fig1\" width=\"100%\"/>\n",
       "\n",
       "**Figure 1. -** Periodograms of the SOPHIE and SPIRou RVs and activity indicators. The pointed and dashed horizontal lines mark the 0.1 and 1$\\%$ FAP. The magenta and orange dashed vertical lines depict the orbital period of the planet at 11.2 d and the stellar rotation period at 103.1 d, respectively. (*fig:periodograms*)\n",
       "\n",
       "</div>\n",
       "<div id=\"div_fig2\">\n",
       "\n",
       "<img src=\"tmp_2411.09506/./figs/periodograms_original_corrected_Gl725A.png\" alt=\"Fig3\" width=\"100%\"/>\n",
       "\n",
       "**Figure 3. -** Periodograms of the original SPIRou RVs (top) and after the \\texttt{wapiti} correction (bottom), on which the period with the highest power correspond to the planet signal at 11.2 days. The horizontal dashed lines in blue, orange, and green depict the FAP at 10, 1, and 0.1$\\%$, respectively. The vertical line indicates the stellar rotation period at 103.1 days. Details odf the \\texttt{wapiti} correction can be found in Sect. \\ref{wapiti}. (*fig:wapiti_periodograms*)\n",
       "\n",
       "</div>\n",
       "<div id=\"div_fig3\">\n",
       "\n",
       "<img src=\"tmp_2411.09506/./figs/Mdwarfs+Gl725Ab_mass_period_histograms_2024.png\" alt=\"Fig7\" width=\"100%\"/>\n",
       "\n",
       "**Figure 7. -** Orbital period versus mass diagram of planets around M dwarfs. For simplicity, planets with orbits larger than $10^5$ days are not included. The orange contours indicate 10, 30, 60, and 90$\\%$ of density levels of the observed probability density of the joint mass and period distribution. The magenta star and lines indicate the position of Gl 725A b, with a minimum mass of $M{_p}\\sin{i}=2.78\\pm0.35 M_{\\oplus}$, and an orbital period of 11.2 days. The top and right histograms correspond to the probability density distribution of the orbital periods and planetary masses, respectively. For reference, the black diamonds represent the Earth and Neptune. (*fig:Mdwarf_planets*)\n",
       "\n",
       "</div><div id=\"qrcode\"><img src=https://api.qrserver.com/v1/create-qr-code/?size=100x100&data=\"https://arxiv.org/abs/2411.09506\"></div>"
      ],
      "text/plain": [
       "<IPython.core.display.Markdown object>"
      ]
     },
     "metadata": {},
     "output_type": "display_data"
    }
   ],
   "source": [
    "[display(Markdown(k[1])) for k in documents];"
   ]
  },
  {
   "cell_type": "markdown",
   "id": "873873a4",
   "metadata": {
    "papermill": {
     "duration": 0.004907,
     "end_time": "2024-11-15T04:12:25.683366",
     "exception": false,
     "start_time": "2024-11-15T04:12:25.678459",
     "status": "completed"
    },
    "tags": []
   },
   "source": [
    "# Create HTML index"
   ]
  },
  {
   "cell_type": "code",
   "execution_count": 10,
   "id": "cf665672",
   "metadata": {
    "execution": {
     "iopub.execute_input": "2024-11-15T04:12:25.694077Z",
     "iopub.status.busy": "2024-11-15T04:12:25.693683Z",
     "iopub.status.idle": "2024-11-15T04:12:25.701942Z",
     "shell.execute_reply": "2024-11-15T04:12:25.701423Z"
    },
    "papermill": {
     "duration": 0.014693,
     "end_time": "2024-11-15T04:12:25.702926",
     "exception": false,
     "start_time": "2024-11-15T04:12:25.688233",
     "status": "completed"
    },
    "tags": []
   },
   "outputs": [
    {
     "name": "stdout",
     "output_type": "stream",
     "text": [
      "246  publications files modified in the last 7 days.\n"
     ]
    }
   ],
   "source": [
    "from datetime import datetime, timedelta, timezone\n",
    "from glob import glob\n",
    "import os\n",
    "\n",
    "files = glob('_build/html/*.md')\n",
    "days = 7\n",
    "now = datetime.today()\n",
    "res = []\n",
    "for fk in files:\n",
    "    stat_result = os.stat(fk).st_ctime\n",
    "    modified = datetime.fromtimestamp(stat_result, tz=timezone.utc).replace(tzinfo=None)\n",
    "    delta = now.today() - modified\n",
    "    if delta <= timedelta(days=days):\n",
    "        res.append((delta.seconds, fk))\n",
    "res = [k[1] for k in reversed(sorted(res, key=lambda x:x[1]))]\n",
    "npub = len(res)\n",
    "print(len(res), f\" publications files modified in the last {days:d} days.\")\n",
    "# [ print('\\t', k) for k in res ];"
   ]
  },
  {
   "cell_type": "code",
   "execution_count": 11,
   "id": "015de740",
   "metadata": {
    "execution": {
     "iopub.execute_input": "2024-11-15T04:12:25.713882Z",
     "iopub.status.busy": "2024-11-15T04:12:25.713483Z",
     "iopub.status.idle": "2024-11-15T04:12:25.729919Z",
     "shell.execute_reply": "2024-11-15T04:12:25.729298Z"
    },
    "papermill": {
     "duration": 0.02294,
     "end_time": "2024-11-15T04:12:25.730898",
     "exception": false,
     "start_time": "2024-11-15T04:12:25.707958",
     "status": "completed"
    },
    "tags": []
   },
   "outputs": [
    {
     "name": "stdout",
     "output_type": "stream",
     "text": [
      "4  publications in the last 7 days.\n"
     ]
    }
   ],
   "source": [
    "import datetime\n",
    "from glob import glob\n",
    "\n",
    "def get_last_n_days(lst, days=1):\n",
    "    \"\"\" Get the documents from the last n days \"\"\"\n",
    "    sorted_lst = sorted(lst, key=lambda x: x[1], reverse=True)\n",
    "    for fname, date in sorted_lst:\n",
    "        if date >= str(datetime.date.today() - datetime.timedelta(days=days)):\n",
    "            yield fname\n",
    "\n",
    "def extract_appearance_dates(lst_file):\n",
    "    dates = []\n",
    "\n",
    "    def get_date(line):\n",
    "        return line\\\n",
    "            .split('Appeared on:')[-1]\\\n",
    "            .split('</mark>')[0].strip()\n",
    "\n",
    "    for fname in lst:\n",
    "        with open(fname, 'r') as f:\n",
    "            found_date = False\n",
    "            for line in f:\n",
    "                if not found_date:\n",
    "                    if \"Appeared on\" in line:\n",
    "                        found_date = True\n",
    "                        dates.append((fname, get_date(line)))\n",
    "                else:\n",
    "                    break\n",
    "    return dates\n",
    "\n",
    "from glob import glob\n",
    "lst = glob('_build/html/*md')\n",
    "days = 7\n",
    "dates = extract_appearance_dates(lst)\n",
    "res = list(get_last_n_days(dates, days))\n",
    "npub = len(res)\n",
    "print(len(res), f\" publications in the last {days:d} days.\")"
   ]
  },
  {
   "cell_type": "code",
   "execution_count": 12,
   "id": "52ca0208",
   "metadata": {
    "execution": {
     "iopub.execute_input": "2024-11-15T04:12:25.742207Z",
     "iopub.status.busy": "2024-11-15T04:12:25.741684Z",
     "iopub.status.idle": "2024-11-15T04:12:25.746563Z",
     "shell.execute_reply": "2024-11-15T04:12:25.746017Z"
    },
    "papermill": {
     "duration": 0.011438,
     "end_time": "2024-11-15T04:12:25.747498",
     "exception": false,
     "start_time": "2024-11-15T04:12:25.736060",
     "status": "completed"
    },
    "scrolled": false,
    "tags": []
   },
   "outputs": [],
   "source": [
    "def create_carousel(npub=4):\n",
    "    \"\"\" Generate the HTML code for a carousel with `npub` slides \"\"\"\n",
    "    carousel = [\"\"\"  <div class=\"carousel\" \"\"\",\n",
    "                \"\"\"       data-flickity='{ \"autoPlay\": 10000, \"adaptiveHeight\": true, \"resize\": true, \"wrapAround\": true, \"pauseAutoPlayOnHover\": true, \"groupCells\": 1 }' id=\"asyncTypeset\">\"\"\"\n",
    "                ]\n",
    "    \n",
    "    item_str = \"\"\"    <div class=\"carousel-cell\"> <div id=\"slide{k}\" class=\"md_view\">Content {k}</div> </div>\"\"\"\n",
    "    for k in range(1, npub + 1):\n",
    "        carousel.append(item_str.format(k=k))\n",
    "    carousel.append(\"  </div>\")\n",
    "    return '\\n'.join(carousel)\n",
    "\n",
    "def create_grid(npub=4):\n",
    "    \"\"\" Generate the HTML code for a flat grid with `npub` slides \"\"\"\n",
    "    grid = [\"\"\"  <div class=\"grid\"> \"\"\",\n",
    "                ]\n",
    "    \n",
    "    item_str = \"\"\"    <div class=\"grid-item\"> <div id=\"slide{k}\" class=\"md_view\">Content {k}</div> </div>\"\"\"\n",
    "    for k in range(1, npub + 1):\n",
    "        grid.append(item_str.format(k=k))\n",
    "    grid.append(\"  </div>\")\n",
    "    return '\\n'.join(grid)"
   ]
  },
  {
   "cell_type": "code",
   "execution_count": 13,
   "id": "a6eac5b6",
   "metadata": {
    "execution": {
     "iopub.execute_input": "2024-11-15T04:12:25.758640Z",
     "iopub.status.busy": "2024-11-15T04:12:25.758401Z",
     "iopub.status.idle": "2024-11-15T04:12:25.763601Z",
     "shell.execute_reply": "2024-11-15T04:12:25.763104Z"
    },
    "papermill": {
     "duration": 0.011754,
     "end_time": "2024-11-15T04:12:25.764543",
     "exception": false,
     "start_time": "2024-11-15T04:12:25.752789",
     "status": "completed"
    },
    "scrolled": false,
    "tags": []
   },
   "outputs": [],
   "source": [
    "carousel = create_carousel(npub)\n",
    "docs = ', '.join(['\"{0:s}\"'.format(k.split('/')[-1]) for k in res])\n",
    "slides = ', '.join([f'\"slide{k}\"' for k in range(1, npub + 1)])\n",
    "\n",
    "with open(\"daily_template.html\", \"r\") as tpl:\n",
    "    page = tpl.read()\n",
    "    page = page.replace(\"{%-- carousel:s --%}\", carousel)\\\n",
    "               .replace(\"{%-- suptitle:s --%}\",  \"7-day archives\" )\\\n",
    "               .replace(\"{%-- docs:s --%}\", docs)\\\n",
    "               .replace(\"{%-- slides:s --%}\", slides)\n",
    "    \n",
    "with open(\"_build/html/index_7days.html\", 'w') as fout:\n",
    "    fout.write(page)"
   ]
  },
  {
   "cell_type": "code",
   "execution_count": 14,
   "id": "adc1a1ec",
   "metadata": {
    "execution": {
     "iopub.execute_input": "2024-11-15T04:12:25.775662Z",
     "iopub.status.busy": "2024-11-15T04:12:25.775183Z",
     "iopub.status.idle": "2024-11-15T04:12:25.781739Z",
     "shell.execute_reply": "2024-11-15T04:12:25.781197Z"
    },
    "papermill": {
     "duration": 0.013095,
     "end_time": "2024-11-15T04:12:25.782746",
     "exception": false,
     "start_time": "2024-11-15T04:12:25.769651",
     "status": "completed"
    },
    "tags": []
   },
   "outputs": [
    {
     "name": "stdout",
     "output_type": "stream",
     "text": [
      "1  publications in the last day.\n"
     ]
    }
   ],
   "source": [
    "# redo for today\n",
    "days = 1\n",
    "res = list(get_last_n_days(dates, days))\n",
    "npub = len(res)\n",
    "print(len(res), f\" publications in the last day.\")\n",
    "\n",
    "carousel = create_carousel(npub)\n",
    "docs = ', '.join(['\"{0:s}\"'.format(k.split('/')[-1]) for k in res])\n",
    "slides = ', '.join([f'\"slide{k}\"' for k in range(1, npub + 1)])\n",
    "\n",
    "with open(\"daily_template.html\", \"r\") as tpl:\n",
    "    page = tpl.read()\n",
    "    page = page.replace(\"{%-- carousel:s --%}\", carousel)\\\n",
    "               .replace(\"{%-- suptitle:s --%}\",  \"Daily\" )\\\n",
    "               .replace(\"{%-- docs:s --%}\", docs)\\\n",
    "               .replace(\"{%-- slides:s --%}\", slides)\n",
    "    \n",
    "# print(carousel, docs, slides)\n",
    "# print(page)\n",
    "with open(\"_build/html/index_daily.html\", 'w') as fout:\n",
    "    fout.write(page)"
   ]
  },
  {
   "cell_type": "code",
   "execution_count": 15,
   "id": "00eece82",
   "metadata": {
    "execution": {
     "iopub.execute_input": "2024-11-15T04:12:25.794277Z",
     "iopub.status.busy": "2024-11-15T04:12:25.793893Z",
     "iopub.status.idle": "2024-11-15T04:12:25.800259Z",
     "shell.execute_reply": "2024-11-15T04:12:25.799726Z"
    },
    "papermill": {
     "duration": 0.01311,
     "end_time": "2024-11-15T04:12:25.801229",
     "exception": false,
     "start_time": "2024-11-15T04:12:25.788119",
     "status": "completed"
    },
    "scrolled": false,
    "tags": []
   },
   "outputs": [
    {
     "name": "stdout",
     "output_type": "stream",
     "text": [
      "6  6 publications selected.\n"
     ]
    }
   ],
   "source": [
    "# Create the flat grid of the last N papers (fixed number regardless of dates)\n",
    "from itertools import islice \n",
    "\n",
    "npub = 6\n",
    "res = [k[0] for k in (islice(reversed(sorted(dates, key=lambda x: x[1])), 6))]\n",
    "print(len(res), f\" {npub} publications selected.\")\n",
    "\n",
    "grid = create_grid(npub)\n",
    "docs = ', '.join(['\"{0:s}\"'.format(k.split('/')[-1]) for k in res])\n",
    "slides = ', '.join([f'\"slide{k}\"' for k in range(1, npub + 1)])\n",
    "\n",
    "with open(\"grid_template.html\", \"r\") as tpl:\n",
    "    page = tpl.read()\n",
    "    page = page.replace(\"{%-- grid-content:s --%}\", grid)\\\n",
    "               .replace(\"{%-- suptitle:s --%}\",  f\"Last {npub:,d} papers\" )\\\n",
    "               .replace(\"{%-- docs:s --%}\", docs)\\\n",
    "               .replace(\"{%-- slides:s --%}\", slides)\n",
    "    \n",
    "# print(grid, docs, slides)\n",
    "# print(page)\n",
    "with open(\"_build/html/index_npub_grid.html\", 'w') as fout:\n",
    "    fout.write(page)"
   ]
  }
 ],
 "metadata": {
  "kernelspec": {
   "display_name": "Python 3 (ipykernel)",
   "language": "python",
   "name": "python3"
  },
  "language_info": {
   "codemirror_mode": {
    "name": "ipython",
    "version": 3
   },
   "file_extension": ".py",
   "mimetype": "text/x-python",
   "name": "python",
   "nbconvert_exporter": "python",
   "pygments_lexer": "ipython3",
   "version": "3.9.20"
  },
  "papermill": {
   "default_parameters": {},
   "duration": 87.260381,
   "end_time": "2024-11-15T04:12:26.022078",
   "environment_variables": {},
   "exception": null,
   "input_path": "MPIA daily digest.ipynb",
   "output_path": "log.ipynb",
   "parameters": {},
   "start_time": "2024-11-15T04:10:58.761697",
   "version": "2.6.0"
  },
  "vscode": {
   "interpreter": {
    "hash": "aee8b7b246df8f9039afb4144a1f6fd8d2ca17a180786b69acc140d282b71a49"
   }
  },
  "widgets": {
   "application/vnd.jupyter.widget-state+json": {
    "state": {
     "0247bcf23e784e0ab51f0a08421ea84a": {
      "model_module": "@jupyter-widgets/controls",
      "model_module_version": "2.0.0",
      "model_name": "HTMLStyleModel",
      "state": {
       "_model_module": "@jupyter-widgets/controls",
       "_model_module_version": "2.0.0",
       "_model_name": "HTMLStyleModel",
       "_view_count": null,
       "_view_module": "@jupyter-widgets/base",
       "_view_module_version": "2.0.0",
       "_view_name": "StyleView",
       "background": null,
       "description_width": "",
       "font_size": null,
       "text_color": null
      }
     },
     "4da9ef7e026c43629e833dff1d89bfbe": {
      "model_module": "@jupyter-widgets/controls",
      "model_module_version": "2.0.0",
      "model_name": "HTMLModel",
      "state": {
       "_dom_classes": [],
       "_model_module": "@jupyter-widgets/controls",
       "_model_module_version": "2.0.0",
       "_model_name": "HTMLModel",
       "_view_count": null,
       "_view_module": "@jupyter-widgets/controls",
       "_view_module_version": "2.0.0",
       "_view_name": "HTMLView",
       "description": "",
       "description_allow_html": false,
       "layout": "IPY_MODEL_e52447da9e094b8ab5e55215834ec726",
       "placeholder": "​",
       "style": "IPY_MODEL_0247bcf23e784e0ab51f0a08421ea84a",
       "tabbable": null,
       "tooltip": null,
       "value": " 3/3 [01:07&lt;00:00, 21.45s/it]"
      }
     },
     "5843c7775ad841e3bf9427718c361768": {
      "model_module": "@jupyter-widgets/controls",
      "model_module_version": "2.0.0",
      "model_name": "HBoxModel",
      "state": {
       "_dom_classes": [],
       "_model_module": "@jupyter-widgets/controls",
       "_model_module_version": "2.0.0",
       "_model_name": "HBoxModel",
       "_view_count": null,
       "_view_module": "@jupyter-widgets/controls",
       "_view_module_version": "2.0.0",
       "_view_name": "HBoxView",
       "box_style": "",
       "children": [
        "IPY_MODEL_76b33310af9d422f90b375e330d60db6",
        "IPY_MODEL_e7967e5836904af8a2c8a6ec9141a841",
        "IPY_MODEL_4da9ef7e026c43629e833dff1d89bfbe"
       ],
       "layout": "IPY_MODEL_61324f30a9c14e62b5a77fc9175e4e3c",
       "tabbable": null,
       "tooltip": null
      }
     },
     "61324f30a9c14e62b5a77fc9175e4e3c": {
      "model_module": "@jupyter-widgets/base",
      "model_module_version": "2.0.0",
      "model_name": "LayoutModel",
      "state": {
       "_model_module": "@jupyter-widgets/base",
       "_model_module_version": "2.0.0",
       "_model_name": "LayoutModel",
       "_view_count": null,
       "_view_module": "@jupyter-widgets/base",
       "_view_module_version": "2.0.0",
       "_view_name": "LayoutView",
       "align_content": null,
       "align_items": null,
       "align_self": null,
       "border_bottom": null,
       "border_left": null,
       "border_right": null,
       "border_top": null,
       "bottom": null,
       "display": null,
       "flex": null,
       "flex_flow": null,
       "grid_area": null,
       "grid_auto_columns": null,
       "grid_auto_flow": null,
       "grid_auto_rows": null,
       "grid_column": null,
       "grid_gap": null,
       "grid_row": null,
       "grid_template_areas": null,
       "grid_template_columns": null,
       "grid_template_rows": null,
       "height": null,
       "justify_content": null,
       "justify_items": null,
       "left": null,
       "margin": null,
       "max_height": null,
       "max_width": null,
       "min_height": null,
       "min_width": null,
       "object_fit": null,
       "object_position": null,
       "order": null,
       "overflow": null,
       "padding": null,
       "right": null,
       "top": null,
       "visibility": null,
       "width": null
      }
     },
     "76b33310af9d422f90b375e330d60db6": {
      "model_module": "@jupyter-widgets/controls",
      "model_module_version": "2.0.0",
      "model_name": "HTMLModel",
      "state": {
       "_dom_classes": [],
       "_model_module": "@jupyter-widgets/controls",
       "_model_module_version": "2.0.0",
       "_model_name": "HTMLModel",
       "_view_count": null,
       "_view_module": "@jupyter-widgets/controls",
       "_view_module_version": "2.0.0",
       "_view_name": "HTMLView",
       "description": "",
       "description_allow_html": false,
       "layout": "IPY_MODEL_ece9a44d176a48ab8a2f00e84938d414",
       "placeholder": "​",
       "style": "IPY_MODEL_8aadaf8cddc74439bf40605fe30679d3",
       "tabbable": null,
       "tooltip": null,
       "value": "100%"
      }
     },
     "8aadaf8cddc74439bf40605fe30679d3": {
      "model_module": "@jupyter-widgets/controls",
      "model_module_version": "2.0.0",
      "model_name": "HTMLStyleModel",
      "state": {
       "_model_module": "@jupyter-widgets/controls",
       "_model_module_version": "2.0.0",
       "_model_name": "HTMLStyleModel",
       "_view_count": null,
       "_view_module": "@jupyter-widgets/base",
       "_view_module_version": "2.0.0",
       "_view_name": "StyleView",
       "background": null,
       "description_width": "",
       "font_size": null,
       "text_color": null
      }
     },
     "b6535c7c9055489f809d8c231fd5318f": {
      "model_module": "@jupyter-widgets/base",
      "model_module_version": "2.0.0",
      "model_name": "LayoutModel",
      "state": {
       "_model_module": "@jupyter-widgets/base",
       "_model_module_version": "2.0.0",
       "_model_name": "LayoutModel",
       "_view_count": null,
       "_view_module": "@jupyter-widgets/base",
       "_view_module_version": "2.0.0",
       "_view_name": "LayoutView",
       "align_content": null,
       "align_items": null,
       "align_self": null,
       "border_bottom": null,
       "border_left": null,
       "border_right": null,
       "border_top": null,
       "bottom": null,
       "display": null,
       "flex": null,
       "flex_flow": null,
       "grid_area": null,
       "grid_auto_columns": null,
       "grid_auto_flow": null,
       "grid_auto_rows": null,
       "grid_column": null,
       "grid_gap": null,
       "grid_row": null,
       "grid_template_areas": null,
       "grid_template_columns": null,
       "grid_template_rows": null,
       "height": null,
       "justify_content": null,
       "justify_items": null,
       "left": null,
       "margin": null,
       "max_height": null,
       "max_width": null,
       "min_height": null,
       "min_width": null,
       "object_fit": null,
       "object_position": null,
       "order": null,
       "overflow": null,
       "padding": null,
       "right": null,
       "top": null,
       "visibility": null,
       "width": null
      }
     },
     "dffd75157a5b4207bcdc0c136e0d489e": {
      "model_module": "@jupyter-widgets/controls",
      "model_module_version": "2.0.0",
      "model_name": "ProgressStyleModel",
      "state": {
       "_model_module": "@jupyter-widgets/controls",
       "_model_module_version": "2.0.0",
       "_model_name": "ProgressStyleModel",
       "_view_count": null,
       "_view_module": "@jupyter-widgets/base",
       "_view_module_version": "2.0.0",
       "_view_name": "StyleView",
       "bar_color": null,
       "description_width": ""
      }
     },
     "e52447da9e094b8ab5e55215834ec726": {
      "model_module": "@jupyter-widgets/base",
      "model_module_version": "2.0.0",
      "model_name": "LayoutModel",
      "state": {
       "_model_module": "@jupyter-widgets/base",
       "_model_module_version": "2.0.0",
       "_model_name": "LayoutModel",
       "_view_count": null,
       "_view_module": "@jupyter-widgets/base",
       "_view_module_version": "2.0.0",
       "_view_name": "LayoutView",
       "align_content": null,
       "align_items": null,
       "align_self": null,
       "border_bottom": null,
       "border_left": null,
       "border_right": null,
       "border_top": null,
       "bottom": null,
       "display": null,
       "flex": null,
       "flex_flow": null,
       "grid_area": null,
       "grid_auto_columns": null,
       "grid_auto_flow": null,
       "grid_auto_rows": null,
       "grid_column": null,
       "grid_gap": null,
       "grid_row": null,
       "grid_template_areas": null,
       "grid_template_columns": null,
       "grid_template_rows": null,
       "height": null,
       "justify_content": null,
       "justify_items": null,
       "left": null,
       "margin": null,
       "max_height": null,
       "max_width": null,
       "min_height": null,
       "min_width": null,
       "object_fit": null,
       "object_position": null,
       "order": null,
       "overflow": null,
       "padding": null,
       "right": null,
       "top": null,
       "visibility": null,
       "width": null
      }
     },
     "e7967e5836904af8a2c8a6ec9141a841": {
      "model_module": "@jupyter-widgets/controls",
      "model_module_version": "2.0.0",
      "model_name": "FloatProgressModel",
      "state": {
       "_dom_classes": [],
       "_model_module": "@jupyter-widgets/controls",
       "_model_module_version": "2.0.0",
       "_model_name": "FloatProgressModel",
       "_view_count": null,
       "_view_module": "@jupyter-widgets/controls",
       "_view_module_version": "2.0.0",
       "_view_name": "ProgressView",
       "bar_style": "success",
       "description": "",
       "description_allow_html": false,
       "layout": "IPY_MODEL_b6535c7c9055489f809d8c231fd5318f",
       "max": 3.0,
       "min": 0.0,
       "orientation": "horizontal",
       "style": "IPY_MODEL_dffd75157a5b4207bcdc0c136e0d489e",
       "tabbable": null,
       "tooltip": null,
       "value": 3.0
      }
     },
     "ece9a44d176a48ab8a2f00e84938d414": {
      "model_module": "@jupyter-widgets/base",
      "model_module_version": "2.0.0",
      "model_name": "LayoutModel",
      "state": {
       "_model_module": "@jupyter-widgets/base",
       "_model_module_version": "2.0.0",
       "_model_name": "LayoutModel",
       "_view_count": null,
       "_view_module": "@jupyter-widgets/base",
       "_view_module_version": "2.0.0",
       "_view_name": "LayoutView",
       "align_content": null,
       "align_items": null,
       "align_self": null,
       "border_bottom": null,
       "border_left": null,
       "border_right": null,
       "border_top": null,
       "bottom": null,
       "display": null,
       "flex": null,
       "flex_flow": null,
       "grid_area": null,
       "grid_auto_columns": null,
       "grid_auto_flow": null,
       "grid_auto_rows": null,
       "grid_column": null,
       "grid_gap": null,
       "grid_row": null,
       "grid_template_areas": null,
       "grid_template_columns": null,
       "grid_template_rows": null,
       "height": null,
       "justify_content": null,
       "justify_items": null,
       "left": null,
       "margin": null,
       "max_height": null,
       "max_width": null,
       "min_height": null,
       "min_width": null,
       "object_fit": null,
       "object_position": null,
       "order": null,
       "overflow": null,
       "padding": null,
       "right": null,
       "top": null,
       "visibility": null,
       "width": null
      }
     }
    },
    "version_major": 2,
    "version_minor": 0
   }
  }
 },
 "nbformat": 4,
 "nbformat_minor": 5
}