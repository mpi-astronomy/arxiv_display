{
 "cells": [
  {
   "cell_type": "markdown",
   "id": "92bcb855",
   "metadata": {
    "papermill": {
     "duration": 0.005566,
     "end_time": "2022-09-19T05:20:41.500409",
     "exception": false,
     "start_time": "2022-09-19T05:20:41.494843",
     "status": "completed"
    },
    "tags": []
   },
   "source": [
    "# MPIA Arxiv on Deck 2\n",
    "\n",
    "Contains the steps to produce the paper extractions."
   ]
  },
  {
   "cell_type": "code",
   "execution_count": 1,
   "id": "3a0d6e11",
   "metadata": {
    "execution": {
     "iopub.execute_input": "2022-09-19T05:20:41.511526Z",
     "iopub.status.busy": "2022-09-19T05:20:41.511204Z",
     "iopub.status.idle": "2022-09-19T05:20:41.731370Z",
     "shell.execute_reply": "2022-09-19T05:20:41.730276Z"
    },
    "papermill": {
     "duration": 0.228652,
     "end_time": "2022-09-19T05:20:41.734355",
     "exception": false,
     "start_time": "2022-09-19T05:20:41.505703",
     "status": "completed"
    },
    "tags": []
   },
   "outputs": [],
   "source": [
    "# Imports\n",
    "import os\n",
    "from IPython.display import Markdown, display\n",
    "from tqdm.notebook import tqdm\n",
    "import warnings\n",
    "from PIL import Image \n",
    "\n",
    "# requires arxiv_on_deck_2\n",
    "\n",
    "from arxiv_on_deck_2.arxiv2 import (get_new_papers, \n",
    "                                    get_paper_from_identifier,\n",
    "                                    retrieve_document_source, \n",
    "                                    get_markdown_badge)\n",
    "from arxiv_on_deck_2 import (latex, \n",
    "                             mpia,\n",
    "                             highlight_authors_in_list)\n",
    "\n",
    "# Sometimes images are really big\n",
    "Image.MAX_IMAGE_PIXELS = 1000000000 "
   ]
  },
  {
   "cell_type": "code",
   "execution_count": 2,
   "id": "22aa9d44",
   "metadata": {
    "execution": {
     "iopub.execute_input": "2022-09-19T05:20:41.744815Z",
     "iopub.status.busy": "2022-09-19T05:20:41.744586Z",
     "iopub.status.idle": "2022-09-19T05:20:41.750230Z",
     "shell.execute_reply": "2022-09-19T05:20:41.749443Z"
    },
    "papermill": {
     "duration": 0.013863,
     "end_time": "2022-09-19T05:20:41.752993",
     "exception": false,
     "start_time": "2022-09-19T05:20:41.739130",
     "status": "completed"
    },
    "tags": []
   },
   "outputs": [],
   "source": [
    "# Some useful definitions.\n",
    "\n",
    "class AffiliationWarning(UserWarning):\n",
    "    pass\n",
    "\n",
    "class AffiliationError(RuntimeError):\n",
    "    pass\n",
    "\n",
    "def validation(source: str):\n",
    "    \"\"\"Raises error paper during parsing of source file\n",
    "    \n",
    "    Allows checks before parsing TeX code.\n",
    "    \n",
    "    Raises AffiliationWarning\n",
    "    \"\"\"\n",
    "    check = mpia.affiliation_verifications(source, verbose=True)\n",
    "    if check is not True:\n",
    "        raise AffiliationError(\"mpia.affiliation_verifications: \" + check)\n",
    "\n",
    "        \n",
    "warnings.simplefilter('always', AffiliationWarning)"
   ]
  },
  {
   "cell_type": "code",
   "execution_count": 3,
   "id": "14622700",
   "metadata": {
    "execution": {
     "iopub.execute_input": "2022-09-19T05:20:41.764050Z",
     "iopub.status.busy": "2022-09-19T05:20:41.763735Z",
     "iopub.status.idle": "2022-09-19T05:20:41.768153Z",
     "shell.execute_reply": "2022-09-19T05:20:41.767345Z"
    },
    "papermill": {
     "duration": 0.011925,
     "end_time": "2022-09-19T05:20:41.770032",
     "exception": false,
     "start_time": "2022-09-19T05:20:41.758107",
     "status": "completed"
    },
    "tags": []
   },
   "outputs": [],
   "source": [
    "# additional CSS to consider. \n",
    "# TODO: Current into each exported file. \n",
    "#       This should be set once into the webpages directly.\n",
    "#       With only the class/id definitions in the .md files.\n",
    "\n",
    "debug_html = \"\"\"\n",
    "<style>\n",
    "#wrap{ overflow:auto; }\n",
    "#fig1{ background:yellow; width:100%; float:left; padding:5px;  }\n",
    "#fig2{ background:red; width:50%; float:left; clear:left; padding:5px;  }\n",
    "#fig3{ background:green; width:50%; float:left; padding:5px;   }\n",
    ".macros{ background:yellow; visibility:visible;}\n",
    "h1 {margin: 0 0 0 0;}\n",
    "mark {background-color:#fff3b6;}\n",
    "img {object-fit:contain; max-height:250px; display:inline-block; text-align: center;}\n",
    "</style>\n",
    "\"\"\" \n",
    "html = \"\"\"\n",
    "<style>\n",
    "#wrap{ overflow:auto; }\n",
    "#fig1{ width:100%; float:left; padding: 5px;  }\n",
    "#fig2{ width:50%; float:left; clear:left; padding: 5px;  }\n",
    "#fig3{ width:50%; float:left; padding: 5px;  }\n",
    ".macros{ visibility:hidden; height:0px; }\n",
    "h1 {margin: 0em 0 0 0;}\n",
    "mark {background-color:#fff3b6;}\n",
    "img {object-fit:contain; max-height:250px; display:inline-block; text-align: center;}\n",
    "</style>\n",
    "\"\"\""
   ]
  },
  {
   "cell_type": "markdown",
   "id": "14bd6310",
   "metadata": {
    "papermill": {
     "duration": 0.004557,
     "end_time": "2022-09-19T05:20:41.779006",
     "exception": false,
     "start_time": "2022-09-19T05:20:41.774449",
     "status": "completed"
    },
    "tags": []
   },
   "source": [
    "## get list of arxiv paper candidates\n",
    "\n",
    "We use the MPIA mitarbeiter list webpage from mpia.de to get author names\n",
    "We then get all new papers from Arxiv and match authors"
   ]
  },
  {
   "cell_type": "code",
   "execution_count": 4,
   "id": "2645e73a",
   "metadata": {
    "execution": {
     "iopub.execute_input": "2022-09-19T05:20:41.789164Z",
     "iopub.status.busy": "2022-09-19T05:20:41.788767Z",
     "iopub.status.idle": "2022-09-19T05:21:06.523154Z",
     "shell.execute_reply": "2022-09-19T05:21:06.522151Z"
    },
    "papermill": {
     "duration": 24.7416,
     "end_time": "2022-09-19T05:21:06.524860",
     "exception": false,
     "start_time": "2022-09-19T05:20:41.783260",
     "status": "completed"
    },
    "tags": []
   },
   "outputs": [
    {
     "name": "stdout",
     "output_type": "stream",
     "text": [
      "Arxiv has 42 new papers today\n",
      "          17 with possible author matches\n"
     ]
    }
   ],
   "source": [
    "# get list from MPIA website\n",
    "# it automatically filters identified non-scientists :func:`mpia.filter_non_scientists`\n",
    "mpia_authors = mpia.get_mpia_mitarbeiter_list()\n",
    "new_papers = get_new_papers()\n",
    "# add manual references\n",
    "add_paper_refs = []\n",
    "new_papers.extend([get_paper_from_identifier(k) for k in add_paper_refs])\n",
    "\n",
    "# select only papers with matching author names and highlight authors\n",
    "hl_list = [k[0] for k in mpia_authors]\n",
    "\n",
    "candidates = []\n",
    "for paperk in new_papers:\n",
    "    hl_authors = highlight_authors_in_list(paperk['authors'], hl_list)\n",
    "    matches = [(hl, orig) for hl, orig in zip(hl_authors, paperk['authors']) if 'mark' in hl]\n",
    "    paperk['authors'] = hl_authors\n",
    "    if matches:\n",
    "        candidates.append(paperk)\n",
    "print(\"\"\"Arxiv has {0:,d} new papers today\"\"\".format(len(new_papers)))        \n",
    "print(\"\"\"          {0:,d} with possible author matches\"\"\".format(len(candidates)))"
   ]
  },
  {
   "cell_type": "markdown",
   "id": "3543b34a",
   "metadata": {
    "papermill": {
     "duration": 0.0045,
     "end_time": "2022-09-19T05:21:06.536392",
     "exception": false,
     "start_time": "2022-09-19T05:21:06.531892",
     "status": "completed"
    },
    "tags": []
   },
   "source": [
    "# Parse sources and generate relevant outputs\n",
    "\n",
    "From the candidates, we do the following steps:\n",
    "* get their tarball from ArXiv (and extract data)\n",
    "* find the main .tex file: find one with \\documentclass{...} (sometimes it's non trivial)\n",
    "* Check affiliations with :func:`validation`, which uses :func:`mpia.affiliation_verifications`\n",
    "* If passing the affiliations: we parse the .tex source\n",
    "   * inject sub-documents into the main (flatten the main document)\n",
    "   * parse structure, extract information (title, abstract, authors, figures...)\n",
    "   * handles `\\graphicspath` if provided\n",
    "* Generate the .md document."
   ]
  },
  {
   "cell_type": "code",
   "execution_count": 5,
   "id": "9576b79e",
   "metadata": {
    "execution": {
     "iopub.execute_input": "2022-09-19T05:21:06.547232Z",
     "iopub.status.busy": "2022-09-19T05:21:06.546808Z",
     "iopub.status.idle": "2022-09-19T05:24:00.992268Z",
     "shell.execute_reply": "2022-09-19T05:24:00.991169Z"
    },
    "papermill": {
     "duration": 174.455087,
     "end_time": "2022-09-19T05:24:00.996079",
     "exception": false,
     "start_time": "2022-09-19T05:21:06.540992",
     "status": "completed"
    },
    "scrolled": false,
    "tags": []
   },
   "outputs": [
    {
     "data": {
      "application/vnd.jupyter.widget-view+json": {
       "model_id": "8bdcaf88f52a48a38a3b36b547c80bea",
       "version_major": 2,
       "version_minor": 0
      },
      "text/plain": [
       "  0%|          | 0/16 [00:00<?, ?it/s]"
      ]
     },
     "metadata": {},
     "output_type": "display_data"
    },
    {
     "name": "stdout",
     "output_type": "stream",
     "text": [
      "Retrieving document from  https://arxiv.org/e-print/2209.07538\n"
     ]
    },
    {
     "name": "stdout",
     "output_type": "stream",
     "text": [
      "extracting tarball to tmp_2209.07538..."
     ]
    },
    {
     "name": "stdout",
     "output_type": "stream",
     "text": [
      " done.\n",
      "Retrieving document from  https://arxiv.org/e-print/2209.07539\n"
     ]
    },
    {
     "name": "stdout",
     "output_type": "stream",
     "text": [
      "extracting tarball to tmp_2209.07539..."
     ]
    },
    {
     "name": "stdout",
     "output_type": "stream",
     "text": [
      " done.\n",
      "Retrieving document from  https://arxiv.org/e-print/2209.07542\n"
     ]
    },
    {
     "name": "stdout",
     "output_type": "stream",
     "text": [
      "extracting tarball to tmp_2209.07542..."
     ]
    },
    {
     "name": "stdout",
     "output_type": "stream",
     "text": [
      " done.\n"
     ]
    },
    {
     "name": "stderr",
     "output_type": "stream",
     "text": [
      "/opt/hostedtoolcache/Python/3.9.13/x64/lib/python3.9/site-packages/arxiv_on_deck_2/latex.py:118: LatexWarning: attempting recovering figure (a)\n",
      "  warnings.warn(LatexWarning(f'attempting recovering figure {image}'))\n",
      "/tmp/ipykernel_2328/4030337529.py:34: LatexWarning: 2209.07542 did not run properly\n",
      "Could not find figure (a)\n",
      "  warnings.warn(latex.LatexWarning(f\"{paper_id:s} did not run properly\\n\" +\n"
     ]
    },
    {
     "name": "stdout",
     "output_type": "stream",
     "text": [
      "Retrieving document from  https://arxiv.org/e-print/2209.07644\n"
     ]
    },
    {
     "name": "stdout",
     "output_type": "stream",
     "text": [
      "extracting tarball to tmp_2209.07644..."
     ]
    },
    {
     "name": "stdout",
     "output_type": "stream",
     "text": [
      " done.\n",
      "Retrieving document from  https://arxiv.org/e-print/2209.07673\n"
     ]
    },
    {
     "name": "stdout",
     "output_type": "stream",
     "text": [
      "extracting tarball to tmp_2209.07673..."
     ]
    },
    {
     "name": "stdout",
     "output_type": "stream",
     "text": [
      " done.\n",
      "Retrieving document from  https://arxiv.org/e-print/2209.07691\n"
     ]
    },
    {
     "name": "stdout",
     "output_type": "stream",
     "text": [
      "extracting tarball to tmp_2209.07691..."
     ]
    },
    {
     "name": "stdout",
     "output_type": "stream",
     "text": [
      " done.\n",
      "Retrieving document from  https://arxiv.org/e-print/2209.07693\n"
     ]
    },
    {
     "name": "stdout",
     "output_type": "stream",
     "text": [
      "extracting tarball to tmp_2209.07693..."
     ]
    },
    {
     "name": "stdout",
     "output_type": "stream",
     "text": [
      " done.\n",
      "Retrieving document from  https://arxiv.org/e-print/2209.07700\n"
     ]
    },
    {
     "name": "stderr",
     "output_type": "stream",
     "text": [
      "/tmp/ipykernel_2328/4030337529.py:34: LatexWarning: 2209.07700 did not run properly\n",
      "not a gzip file\n",
      "  warnings.warn(latex.LatexWarning(f\"{paper_id:s} did not run properly\\n\" +\n"
     ]
    },
    {
     "name": "stdout",
     "output_type": "stream",
     "text": [
      "Retrieving document from  https://arxiv.org/e-print/2209.07701\n"
     ]
    },
    {
     "name": "stderr",
     "output_type": "stream",
     "text": [
      "/tmp/ipykernel_2328/4030337529.py:34: LatexWarning: 2209.07701 did not run properly\n",
      "not a gzip file\n",
      "  warnings.warn(latex.LatexWarning(f\"{paper_id:s} did not run properly\\n\" +\n"
     ]
    },
    {
     "name": "stdout",
     "output_type": "stream",
     "text": [
      "Retrieving document from  https://arxiv.org/e-print/2209.07703\n"
     ]
    },
    {
     "name": "stderr",
     "output_type": "stream",
     "text": [
      "/tmp/ipykernel_2328/4030337529.py:34: LatexWarning: 2209.07703 did not run properly\n",
      "not a gzip file\n",
      "  warnings.warn(latex.LatexWarning(f\"{paper_id:s} did not run properly\\n\" +\n"
     ]
    },
    {
     "name": "stdout",
     "output_type": "stream",
     "text": [
      "Retrieving document from  https://arxiv.org/e-print/2209.07711\n"
     ]
    },
    {
     "name": "stdout",
     "output_type": "stream",
     "text": [
      "extracting tarball to tmp_2209.07711..."
     ]
    },
    {
     "name": "stdout",
     "output_type": "stream",
     "text": [
      " done.\n",
      "Retrieving document from  https://arxiv.org/e-print/2209.07797\n"
     ]
    },
    {
     "name": "stdout",
     "output_type": "stream",
     "text": [
      "extracting tarball to tmp_2209.07797..."
     ]
    },
    {
     "name": "stdout",
     "output_type": "stream",
     "text": [
      " done.\n",
      "Retrieving document from  https://arxiv.org/e-print/2209.07832\n"
     ]
    },
    {
     "name": "stderr",
     "output_type": "stream",
     "text": [
      "/opt/hostedtoolcache/Python/3.9.13/x64/lib/python3.9/site-packages/IPython/core/interactiveshell.py:3378: LatexWarning: Multiple tex files.\n",
      "\n",
      "  exec(code_obj, self.user_global_ns, self.user_ns)\n",
      "/opt/hostedtoolcache/Python/3.9.13/x64/lib/python3.9/site-packages/IPython/core/interactiveshell.py:3378: LatexWarning: Found documentclass in tmp_2209.07797/natbib.tex\n",
      "\n",
      "  exec(code_obj, self.user_global_ns, self.user_ns)\n"
     ]
    },
    {
     "name": "stdout",
     "output_type": "stream",
     "text": [
      "extracting tarball to tmp_2209.07832..."
     ]
    },
    {
     "name": "stdout",
     "output_type": "stream",
     "text": [
      " done.\n",
      "Retrieving document from  https://arxiv.org/e-print/2209.07885\n"
     ]
    },
    {
     "name": "stderr",
     "output_type": "stream",
     "text": [
      "/opt/hostedtoolcache/Python/3.9.13/x64/lib/python3.9/site-packages/IPython/core/interactiveshell.py:3378: LatexWarning: Multiple tex files.\n",
      "\n",
      "  exec(code_obj, self.user_global_ns, self.user_ns)\n",
      "/opt/hostedtoolcache/Python/3.9.13/x64/lib/python3.9/site-packages/IPython/core/interactiveshell.py:3378: LatexWarning: Found documentclass in tmp_2209.07832/zinchenko.tex\n",
      "\n",
      "  exec(code_obj, self.user_global_ns, self.user_ns)\n",
      "/opt/hostedtoolcache/Python/3.9.13/x64/lib/python3.9/site-packages/arxiv_on_deck_2/latex.py:292: LatexWarning: Latex injecting: 'journal' from 'tmp_2209.07832/journal.tex'\n",
      "  warnings.warn(LatexWarning(f\"Latex injecting: '{ext}' from '{subsource}'\"))\n"
     ]
    },
    {
     "name": "stdout",
     "output_type": "stream",
     "text": [
      "extracting tarball to tmp_2209.07885..."
     ]
    },
    {
     "name": "stdout",
     "output_type": "stream",
     "text": [
      " done.\n",
      "Retrieving document from  https://arxiv.org/e-print/2209.07931\n"
     ]
    },
    {
     "name": "stdout",
     "output_type": "stream",
     "text": [
      "extracting tarball to tmp_2209.07931..."
     ]
    },
    {
     "name": "stdout",
     "output_type": "stream",
     "text": [
      " done.\n"
     ]
    },
    {
     "name": "stderr",
     "output_type": "stream",
     "text": [
      "/opt/hostedtoolcache/Python/3.9.13/x64/lib/python3.9/site-packages/arxiv_on_deck_2/latex.py:366: LatexWarning: Error parsing the document directly. Trying to recover.\n",
      "  warnings.warn(LatexWarning(f\"Error parsing the document directly. Trying to recover.\"))\n"
     ]
    },
    {
     "name": "stdout",
     "output_type": "stream",
     "text": [
      "✔ → 0:header\n",
      "  ↳ 3836:\\section{Introduction}\n",
      "✔ → 3836:\\section{Introduction}\n",
      "  ↳ 11407:\\section{Models}\n"
     ]
    },
    {
     "name": "stdout",
     "output_type": "stream",
     "text": [
      "✔ → 11407:\\section{Models}\n",
      "  ↳ 29085:\\section{Simulation setup}\n"
     ]
    },
    {
     "name": "stdout",
     "output_type": "stream",
     "text": [
      "✔ → 29085:\\section{Simulation setup}\n",
      "  ↳ 49716:\\section{Results}\n"
     ]
    },
    {
     "name": "stdout",
     "output_type": "stream",
     "text": [
      "✔ → 49716:\\section{Results}\n",
      "  ↳ 70732:\\section{Discussion}\n"
     ]
    },
    {
     "name": "stdout",
     "output_type": "stream",
     "text": [
      "✔ → 70732:\\section{Discussion}\n",
      "  ↳ 112928:\\section{Conclusions} \\label{sec:conclusions}\n",
      "✔ → 112928:\\section{Conclusions} \\label{sec:conclusions}\n",
      "  ↳ 118929:\\begin{appendix}\n",
      "✔ → 118929:\\begin{appendix}\n",
      "  ↳ 118957:\\section{Supporting figures}\n"
     ]
    },
    {
     "name": "stdout",
     "output_type": "stream",
     "text": [
      "✔ → 118957:\\section{Supporting figures}\n",
      "  ↳ 121017:end\n"
     ]
    },
    {
     "name": "stdout",
     "output_type": "stream",
     "text": [
      "Retrieving document from  https://arxiv.org/e-print/2209.07962\n"
     ]
    },
    {
     "name": "stdout",
     "output_type": "stream",
     "text": [
      "extracting tarball to tmp_2209.07962..."
     ]
    },
    {
     "name": "stdout",
     "output_type": "stream",
     "text": [
      " done.\n"
     ]
    },
    {
     "name": "stderr",
     "output_type": "stream",
     "text": [
      "/opt/hostedtoolcache/Python/3.9.13/x64/lib/python3.9/site-packages/IPython/core/interactiveshell.py:3378: LatexWarning: Multiple tex files.\n",
      "\n",
      "  exec(code_obj, self.user_global_ns, self.user_ns)\n",
      "/opt/hostedtoolcache/Python/3.9.13/x64/lib/python3.9/site-packages/IPython/core/interactiveshell.py:3378: LatexWarning: Found documentclass in tmp_2209.07962/main.tex\n",
      "\n",
      "  exec(code_obj, self.user_global_ns, self.user_ns)\n",
      "/opt/hostedtoolcache/Python/3.9.13/x64/lib/python3.9/site-packages/arxiv_on_deck_2/latex.py:292: LatexWarning: Latex injecting: 'bibliography' from 'tmp_2209.07962/bibliography.tex'\n",
      "  warnings.warn(LatexWarning(f\"Latex injecting: '{ext}' from '{subsource}'\"))\n",
      "/opt/hostedtoolcache/Python/3.9.13/x64/lib/python3.9/site-packages/arxiv_on_deck_2/latex.py:292: LatexWarning: Latex injecting: 'latexdefs' from 'tmp_2209.07962/latexdefs.tex'\n",
      "  warnings.warn(LatexWarning(f\"Latex injecting: '{ext}' from '{subsource}'\"))\n"
     ]
    }
   ],
   "source": [
    "documents = []\n",
    "failed = []\n",
    "for paper in tqdm(candidates[:-1]):\n",
    "    paper_id = paper['identifier'].lower().replace('arxiv:', '')\n",
    "    \n",
    "    folder = f'tmp_{paper_id}'\n",
    "\n",
    "    try:\n",
    "        if not os.path.isdir(folder):\n",
    "            folder = retrieve_document_source(f\"{paper_id}\", f'tmp_{paper_id}')\n",
    "        \n",
    "        try:\n",
    "            doc = latex.LatexDocument(folder, validation=validation)    \n",
    "        except AffiliationError as affilerror:\n",
    "            msg = f\"ArXiv:{paper_id:s} is not an MPIA paper... \" + str(affilerror)\n",
    "            failed.append((paper, \"affiliation error: \" + str(affilerror) ))\n",
    "            continue\n",
    "        \n",
    "        # Hack because sometimes author parsing does not work well\n",
    "        if (len(doc.authors) != len(paper['authors'])):\n",
    "            doc._authors = paper['authors']\n",
    "        if (doc.abstract) in (None, ''):\n",
    "            doc._abstract = paper['abstract']\n",
    "            \n",
    "        doc.comment = (get_markdown_badge(paper_id) + \n",
    "                       \"<mark>Appeared on: \" + paper['date'] + \"</mark> - \" +\n",
    "                       \"_\" + paper['comments'] + \"_\")\n",
    "        doc.highlight_authors_in_list(hl_list)\n",
    "\n",
    "        full_md = doc.generate_markdown_text()\n",
    "        \n",
    "        documents.append((paper_id, full_md))\n",
    "    except Exception as e:\n",
    "        warnings.warn(latex.LatexWarning(f\"{paper_id:s} did not run properly\\n\" +\n",
    "                                         str(e)\n",
    "                                        ))\n",
    "        failed.append((paper, \"latex error \" + str(e)))"
   ]
  },
  {
   "cell_type": "markdown",
   "id": "2505a25c",
   "metadata": {
    "papermill": {
     "duration": 0.008012,
     "end_time": "2022-09-19T05:24:01.011633",
     "exception": false,
     "start_time": "2022-09-19T05:24:01.003621",
     "status": "completed"
    },
    "tags": []
   },
   "source": [
    "### Export the logs\n",
    "\n",
    "Throughout, we also keep track of the logs per paper. see `logs-{today date}.md` "
   ]
  },
  {
   "cell_type": "code",
   "execution_count": 6,
   "id": "d733828a",
   "metadata": {
    "execution": {
     "iopub.execute_input": "2022-09-19T05:24:01.029586Z",
     "iopub.status.busy": "2022-09-19T05:24:01.029297Z",
     "iopub.status.idle": "2022-09-19T05:24:01.064612Z",
     "shell.execute_reply": "2022-09-19T05:24:01.063696Z"
    },
    "papermill": {
     "duration": 0.046307,
     "end_time": "2022-09-19T05:24:01.066650",
     "exception": false,
     "start_time": "2022-09-19T05:24:01.020343",
     "status": "completed"
    },
    "scrolled": false,
    "tags": []
   },
   "outputs": [
    {
     "data": {
      "text/markdown": [
       "## Successful papers"
      ],
      "text/plain": [
       "<IPython.core.display.Markdown object>"
      ]
     },
     "metadata": {},
     "output_type": "display_data"
    },
    {
     "data": {
      "text/markdown": [
       "\n",
       "|||\n",
       "|---:|:---|\n",
       "| [![arXiv](https://img.shields.io/badge/arXiv-arXiv:2209.07931-b31b1b.svg)](https://arxiv.org/abs/arXiv:2209.07931) | **The impact of dynamic pressure bumps on the observational properties of  protoplanetary disks**  |\n",
       "|| <mark>Jochen Stadler</mark>, et al. -- incl., <mark>Matías Gárate</mark> |\n",
       "|*Appeared on*| *2022-09-19*|\n",
       "|*Comments*| *22 pages, 15 figures. To be published in Astronomy & Astrophysics*|\n",
       "|**Abstract**| Over the last years, large (sub-)millimetre surveys of protoplanetary disks have well constrained the demographics of disks, such as their millimetre luminosities, spectral indices, and disk radii. Additionally, several high-resolution observations have revealed an abundance of substructures in the disks dust continuum. The most prominent are ring like structures, likely due to pressure bumps trapping dust particles. The origins and characteristics of these bumps, nevertheless, need to be further investigated. The purpose of this work is to study how dynamic pressure bumps affect observational properties of protoplanetary disks. We further aim to differentiate between the planetary- versus zonal flow-origin of pressure bumps. We perform one-dimensional gas and dust evolution simulations, setting up models with varying pressure bump features. We subsequently run radiative transfer calculations to obtain synthetic images and the different quantities of observations. We find that the outermost pressure bump determines the disks dust size across different millimetre wavelengths. Our modelled dust traps need to form early (< 0.1 Myr), fast (on viscous timescales), and must be long lived (> Myr) to obtain the observed high millimetre luminosities and low spectral indices of disks. While the planetary bump models can reproduce these observables irrespectively of the opacity prescription, the highest opacities are needed for the zonal flow bump model to be in line with observations. Our findings favour the planetary- over the zonal flow-origin of pressure bumps and support the idea that planet formation already occurs in early class 0-1 stages of circumstellar disks. The determination of the disks effective size through its outermost pressure bump also delivers a possible answer to why disks in recent low-resolution surveys appear to have the same sizes across different millimetre wavelengths. |"
      ],
      "text/plain": [
       "[arXiv:2209.07931] The impact of dynamic pressure bumps on the observational properties of  protoplanetary disks\n",
       "\t<mark>Jochen Stadler</mark>, et al. -- incl., <mark>Matías Gárate</mark>"
      ]
     },
     "metadata": {},
     "output_type": "display_data"
    },
    {
     "data": {
      "text/markdown": [
       "\n",
       "|||\n",
       "|---:|:---|\n",
       "| [![arXiv](https://img.shields.io/badge/arXiv-arXiv:2209.07962-b31b1b.svg)](https://arxiv.org/abs/arXiv:2209.07962) | **Resolved SPLASH Chemodynamics in Andromeda's PHAT Stellar Halo and Disk:  On the Nature of the Inner Halo Along the Major Axis**  |\n",
       "|| Ivanna Escala, et al. -- incl., <mark>Lara Cullinane</mark>, <mark>Benjamin F. Williams</mark> |\n",
       "|*Appeared on*| *2022-09-19*|\n",
       "|*Comments*| *Submitted to AJ. Conclusions on page 20. 18 figures, 2 tables, 4 appendices*|\n",
       "|**Abstract**| Stellar kinematics and metallicity are key to exploring formation scenarios for galactic disks and halos. In this work, we characterized the relationship between kinematics and photometric metallicity along the line-of-sight to M31's disk. We combined optical HST/ACS photometry from the Panchromatic Hubble Andromeda Treasury (PHAT) survey with Keck/DEIMOS spectra from the Spectroscopic and Photometric Landscape of Andromeda's Stellar Halo (SPLASH) survey. The resulting sample of 3536 individual red giant branch stars spans 4-19 projected kpc, making it a useful probe of both the disk and inner halo. We separated these stars into disk and halo populations by modeling the line-of-sight velocity distributions as a function of position across the disk region, where 70.9% stars have a high likelihood of belonging to the disk and 17.1% to the halo. Although stellar halos are typically thought to be metal-poor, the kinematically identified halo contains a significant population of stars (29.4%) with disk-like metallicity ([Fe/H]$_{\\rm phot} \\sim -0.10$). This metal-rich halo population lags the gaseous disk to a similar extent as the rest of the halo, indicating that it does not correspond to a canonical thick disk. Its properties are inconsistent with those of tidal debris originating from the Giant Stellar Stream merger event. Moreover, the halo is chemically distinct from the phase-mixed component previously identified along the minor axis (i.e., away from the disk), implying contributions from different formation channels. These metal-rich halo stars provide direct chemodynamical evidence in favor of the previously suggested \"kicked-up'' disk population in M31's inner stellar halo. |"
      ],
      "text/plain": [
       "[arXiv:2209.07962] Resolved SPLASH Chemodynamics in Andromeda's PHAT Stellar Halo and Disk:  On the Nature of the Inner Halo Along the Major Axis\n",
       "\tIvanna Escala, et al. -- incl., <mark>Lara Cullinane</mark>, <mark>Benjamin F. Williams</mark>"
      ]
     },
     "metadata": {},
     "output_type": "display_data"
    },
    {
     "data": {
      "text/markdown": [
       "## Failed papers"
      ],
      "text/plain": [
       "<IPython.core.display.Markdown object>"
      ]
     },
     "metadata": {},
     "output_type": "display_data"
    },
    {
     "data": {
      "text/markdown": [
       "\n",
       "|||\n",
       "|---:|:---|\n",
       "| [![arXiv](https://img.shields.io/badge/arXiv-arXiv:2209.07538-b31b1b.svg)](https://arxiv.org/abs/arXiv:2209.07538) | **The rebrightening of AT2018fyk as a repeating partial tidal disruption  event**  |\n",
       "|| T. Wevers, et al. -- incl., <mark>M. Guolo</mark>, <mark>Z. Liu</mark> |\n",
       "|*Appeared on*| *2022-09-19*|\n",
       "|*Comments*| *Submitted to ApJ Letters*|\n",
       "|**Abstract**| Stars that interact with supermassive black holes (SMBHs) can either be completely or partially destroyed by tides. In a partial tidal disruption event (TDE) the high-density core of the star remains intact, and the low-density, outer envelope of the star is stripped and feeds a luminous accretion episode. The TDE AT2018fyk, with an inferred black hole mass of $10^{7.7\\pm0.4}$ M$_{\\odot}$, experienced an extreme dimming event at X-ray (factor of $>$6000) and UV (factor $\\sim$15) wavelengths $\\sim$500--600 days after discovery. Here we report on the re-emergence of these emission components roughly 1200 days after discovery. We find that the source properties are similar to those of the pre-dimming accretion state, suggesting that the accretion flow was rejuvenated to a similar state. We propose that a repeating partial TDE, where the partially disrupted star is on a $\\sim 600$ day orbit about the SMBH and is periodically stripped of mass during each pericenter passage, powers its unique lightcurve. This scenario provides a plausible explanation for AT2018fyk's overall properties, including the rapid dimming event and the rebrightening at late times. We also provide testable predictions for the behavior of the accretion flow in the future: if the second encounter was also a partial disruption then we predict another strong dimming event around day 1800 (August 2023), and a subsequent rebrightening around day 2400 (March 2025). This source provides strong evidence of the partial disruption of a star by a SMBH. |\n",
       "|<p style=\"color:green\"> **ERROR** </p>| <p style=\"color:green\">affiliation error: mpia.affiliation_verifications: 'Heidelberg' keyword not found.</p> |"
      ],
      "text/plain": [
       "<IPython.core.display.Markdown object>"
      ]
     },
     "metadata": {},
     "output_type": "display_data"
    },
    {
     "data": {
      "text/markdown": [
       "\n",
       "|||\n",
       "|---:|:---|\n",
       "| [![arXiv](https://img.shields.io/badge/arXiv-arXiv:2209.07539-b31b1b.svg)](https://arxiv.org/abs/arXiv:2209.07539) | **Origin and evolution of ultra-diffuse galaxies in different environments**  |\n",
       "|| Jose A. Benavides, et al. -- incl., <mark>Lars Hernquist</mark> |\n",
       "|*Appeared on*| *2022-09-19*|\n",
       "|*Comments*| *17 pages, 13 figures, submitted to MNRAS*|\n",
       "|**Abstract**| We study the formation of ultra-diffuse galaxies (UDGs) using the cosmological hydrodynamical simulation TNG50 of the Illustris-TNG suite. We define UDGs as dwarf galaxies in the stellar mass range $\\rm{7.5 \\leq log (M_{\\star} / M_{\\odot}) \\leq 9 }$ that are in the $5\\%$ most extended tail of the simulated mass-size relation. This results in a sample of UDGs with half-mass radii $\\rm{r_{h \\star } \\gtrsim 2 \\ kpc}$ and surface brightness between $\\rm{24.5}$ and $\\rm{28 \\ mag \\ arcsec^{-2}}$, similar to definitions of UDGs in observations. The large cosmological volume in TNG50 allows for a comparison of UDGs properties in different environments, from the field to galaxy clusters with virial mass $\\rm{M_{200} \\sim 2 \\times 10^{14} ~ M_{\\odot}}$. All UDGs in our sample have dwarf-mass haloes ($\\rm{M_{200}\\sim 10^{11} ~ M_{\\odot} }$) and show the same environmental trends as normal dwarfs: field UDGs are star-forming and blue while satellite UDGs are typically quiescent and red. The TNG50 simulation predicts UDGs that populate preferentially higher spin haloes and more massive haloes at fixed $\\rm{M_{\\star}}$ compared to non-UDG dwarfs. This applies also to most satellite UDGs, which are actually ``born\" UDGs in the field and infall into groups and clusters without significant changes to their size. We find, however, a small subset of satellite UDGs ($\\lesssim 10 \\%$) with present-day stellar size a factor $\\geq 1.5$ larger than at infall, confirming that tidal effects, particularly in the lower mass dwarfs, are also a viable formation mechanism for some of these dwarfs, although subdominant in this simulation. |\n",
       "|<p style=\"color:green\"> **ERROR** </p>| <p style=\"color:green\">affiliation error: mpia.affiliation_verifications: 'Heidelberg' keyword not found.</p> |"
      ],
      "text/plain": [
       "<IPython.core.display.Markdown object>"
      ]
     },
     "metadata": {},
     "output_type": "display_data"
    },
    {
     "data": {
      "text/markdown": [
       "\n",
       "|||\n",
       "|---:|:---|\n",
       "| [![arXiv](https://img.shields.io/badge/arXiv-arXiv:2209.07644-b31b1b.svg)](https://arxiv.org/abs/arXiv:2209.07644) | **Efficient detection and characterization of exoplanets within the  diffraction limit: nulling with a mode-selective photonic lantern**  |\n",
       "|| Yinzi Xin, et al. -- incl., <mark>Jonathan Lin</mark> |\n",
       "|*Appeared on*| *2022-09-19*|\n",
       "|*Comments*| *15 pages, 12 figures*|\n",
       "|**Abstract**| Coronagraphs allow for faint off-axis exoplanets to be observed, but are limited to angular separations greater than a few beam widths. Accessing closer-in separations would greatly increase the expected number of detectable planets, which scales inversely with the inner working angle. The Vortex Fiber Nuller (VFN) is an instrument concept designed to characterize exoplanets within a single beam-width. It requires few optical elements and is compatible with many coronagraph designs as a complementary characterization tool. However, the peak throughput for planet light is limited to about 20%, and the measurement places poor constraints on the planet location and flux ratio. We propose to augment the VFN design by replacing its single-mode fiber with a six-port mode-selective photonic lantern, retaining the original functionality while providing several additional ports that reject starlight but couple planet light. We show that the photonic lantern can also be used as a nuller without a vortex. We present monochromatic simulations characterizing the response of the Photonic Lantern Nuller (PLN) to astrophysical signals and wavefront errors, and show that combining exoplanet flux from the nulled ports significantly increases the overall throughput of the instrument. We show using synthetically generated data that the PLN detects exoplanets more effectively than the VFN. Furthermore, with the PLN, the exoplanet can be partially localized, and its flux ratio constrained. The PLN has the potential to be a powerful characterization tool complementary to traditional coronagraphs in future high-contrast instruments. |\n",
       "|<p style=\"color:green\"> **ERROR** </p>| <p style=\"color:green\">affiliation error: mpia.affiliation_verifications: 'Heidelberg' keyword not found.</p> |"
      ],
      "text/plain": [
       "<IPython.core.display.Markdown object>"
      ]
     },
     "metadata": {},
     "output_type": "display_data"
    },
    {
     "data": {
      "text/markdown": [
       "\n",
       "|||\n",
       "|---:|:---|\n",
       "| [![arXiv](https://img.shields.io/badge/arXiv-arXiv:2209.07673-b31b1b.svg)](https://arxiv.org/abs/arXiv:2209.07673) | **Towards Super-resolution via Iterative multi-exposure Coaddition**  |\n",
       "|| Lei Wang, <mark>Guoliang Li</mark>, Xi Kang |\n",
       "|*Appeared on*| *2022-09-19*|\n",
       "|*Comments*| *Accepted for publications in MNRAS (15 pages, 12 figures, 3 tables)*|\n",
       "|**Abstract**| In this article, we provide an alternative up-sampling and PSF deconvolution method for the iterative multi-exposure coaddition. Different from the previous works, the new method has a ratio-correction term, which allows the iterations to converge more rapidly to an accurate representation of the underlying image than those with difference-correction terms. By employing this method, one can coadd the under-sampled multi-exposures to a super-resolution and obtain a higher peak signal-to-noise ratio. A set of simulations show that we can take many advantages of the new method, e.g. in the signal-to-noise ratio, the average deviation of all source fluxes, super-resolution, and source distortion ratio, etc., which are friendly to astronomical photometry and morphology, and benefits faint source detection and shear measurement of weak gravitational lensing. It provides an improvement in fidelity over the previous works tested in this paper. |\n",
       "|<p style=\"color:green\"> **ERROR** </p>| <p style=\"color:green\">affiliation error: mpia.affiliation_verifications: 'Heidelberg' keyword not found.</p> |"
      ],
      "text/plain": [
       "<IPython.core.display.Markdown object>"
      ]
     },
     "metadata": {},
     "output_type": "display_data"
    },
    {
     "data": {
      "text/markdown": [
       "\n",
       "|||\n",
       "|---:|:---|\n",
       "| [![arXiv](https://img.shields.io/badge/arXiv-arXiv:2209.07691-b31b1b.svg)](https://arxiv.org/abs/arXiv:2209.07691) | **Conditional HI mass functions and the HI-to-halo mass relation in the  local Universe**  |\n",
       "|| <mark>Xiao Li</mark>, et al. -- incl., <mark>Cheng Li</mark> |\n",
       "|*Appeared on*| *2022-09-19*|\n",
       "|*Comments*| *22 pages, 10 figures, 2 tables, submitted to ApJ*|\n",
       "|**Abstract**| We present a new HI mass estimator which relates the HI-to-stellar mass ratio to four galaxy properties: stellar surface mass density, color index $u-r$, stellar mass and concentration index, with the scatter of individual galaxies around the mean HI mass modeled with a Gaussian distribution. We calibrate the estimator using the xGASS sample, including both HI detection and non-detection, and constrain the model parameters through Bayesian inferences. Tests with mock catalogs demonstrate that our estimator provides unbiased HI masses for optical samples like the SDSS, thus suitable for statistical studies of HI gas contents in galaxies and dark matter halos. We apply our estimator to the SDSS spectroscopic sample to estimate the local HI mass function (HIMF), the conditional HI mass function (CHIMF) in galaxy groups and the HI-halo mass (HIHM) relation. Our HIMF agrees with the ALFALFA measurements at $M_{HI}\\gtrsim 5\\times 10^9M_{\\odot}$, but with higher amplitude and a steeper slope at lower masses. We show that this discrepancy is caused primarily by the cosmic variance which is corrected for the SDSS sample but not for the ALFALFA. The CHIMFs for all halo masses can be described by a single Schechter function, and this is true for red, blue and satellite galaxies. For central galaxies the CHIMFs show a double-Gaussian profile, with the two components contributed by the red and blue galaxies, respectively. The total HI mass in a group increases monotonically with halo mass. The HI mass of central galaxies in galaxy groups increases rapidly with halo mass only at $M_h\\lesssim10^{12}M_{\\odot}$, while the mass dependence becomes much weaker at higher halo masses. The observed HI-halo mass relation is not reproduced by current hydrodynamic simulations and semi-analytic models of galaxy formation. |\n",
       "|<p style=\"color:green\"> **ERROR** </p>| <p style=\"color:green\">affiliation error: mpia.affiliation_verifications: 'Heidelberg' keyword not found.</p> |"
      ],
      "text/plain": [
       "<IPython.core.display.Markdown object>"
      ]
     },
     "metadata": {},
     "output_type": "display_data"
    },
    {
     "data": {
      "text/markdown": [
       "\n",
       "|||\n",
       "|---:|:---|\n",
       "| [![arXiv](https://img.shields.io/badge/arXiv-arXiv:2209.07693-b31b1b.svg)](https://arxiv.org/abs/arXiv:2209.07693) | **Gravitational waves from primordial scalar and tensor perturbations**  |\n",
       "|| Zhe Chang, <mark>Xukun Zhang</mark>, Jing-Zhi Zhou |\n",
       "|*Appeared on*| *2022-09-19*|\n",
       "|*Comments*| **|\n",
       "|**Abstract**| We investigate the second order gravitational waves induced by the primordial scalar and tensor perturbations during radiation-dominated era. The explicit expressions of the power spectra of the second order GWs are presented. We calculate the energy density spectra of the second order GWs for a monochromatic primordial power spectra. For large $k$ $\\left( k>k_* \\right)$, the effects of the primordial tensor perturbation with tensor-to-scalar ratio $r=A_{h}/A_{\\zeta}=0.2$ lead to an around $50\\% $ increase of the signal-to-noise ratio (SNR) for LISA observations. |\n",
       "|<p style=\"color:green\"> **ERROR** </p>| <p style=\"color:green\">affiliation error: mpia.affiliation_verifications: 'Heidelberg' keyword not found.</p> |"
      ],
      "text/plain": [
       "<IPython.core.display.Markdown object>"
      ]
     },
     "metadata": {},
     "output_type": "display_data"
    },
    {
     "data": {
      "text/markdown": [
       "\n",
       "|||\n",
       "|---:|:---|\n",
       "| [![arXiv](https://img.shields.io/badge/arXiv-arXiv:2209.07711-b31b1b.svg)](https://arxiv.org/abs/arXiv:2209.07711) | **Shock-induced stripping of satellite ISM/CGM in IllustrisTNG clusters at  $z\\sim0$**  |\n",
       "|| <mark>Hao Li</mark>, et al. -- incl., <mark>Renjie Li</mark> |\n",
       "|*Appeared on*| *2022-09-19*|\n",
       "|*Comments*| *13 pages,8 figures, submitted to ApJ*|\n",
       "|**Abstract**| Using the IllustrisTNG simulation, we study the interaction of large-scale shocks with the circumgalactic medium (CGM) and interstellar medium (ISM) of star-forming (SF) satellite galaxies in galaxy clusters. These shocks are usually produced by mergers and massive accretion. Our visual inspection shows that approximately half of SF satellites have encountered shocks in their host clusters at $z\\leq0.11$. After a satellite crosses a shock front and enters the postshock region, the ram pressure on it is boosted significantly. Both the CGM and ISM can be severely impacted, either by striping or compression. The stripping of the ISM is particularly important for low-mass galaxies with $\\log (M_{*}/M_{\\odot})<10$ and can occur even in the outskirts of galaxy clusters. In comparison, satellites that do not interact with shocks lose their ISM only in the inner regions of clusters. About half of the ISM is stripped within about 0.6 Gyr after it crosses the shock front. Our results show that shock-induced stripping plays an important role in quenching satellite galaxies in clusters. |\n",
       "|<p style=\"color:green\"> **ERROR** </p>| <p style=\"color:green\">affiliation error: mpia.affiliation_verifications: 'Heidelberg' keyword not found.</p> |"
      ],
      "text/plain": [
       "<IPython.core.display.Markdown object>"
      ]
     },
     "metadata": {},
     "output_type": "display_data"
    },
    {
     "data": {
      "text/markdown": [
       "\n",
       "|||\n",
       "|---:|:---|\n",
       "| [![arXiv](https://img.shields.io/badge/arXiv-arXiv:2209.07797-b31b1b.svg)](https://arxiv.org/abs/arXiv:2209.07797) | **The Obscured Fraction of Quasars at Cosmic Noon**  |\n",
       "|| Bovornpratch Vijarnwannaluk, et al. -- incl., <mark>Yoshihiro Ueda</mark> |\n",
       "|*Appeared on*| *2022-09-19*|\n",
       "|*Comments*| *25 Pages, 19 Figure, ApJ accepted*|\n",
       "|**Abstract**| Statistical studies of X-ray selected Active Galactic Nuclei (AGN) indicate that the fraction of obscured AGN increases with increasing redshift, and the results suggest that a significant part of the accretion growth occurs behind obscuring material in the early universe. We investigate the obscured fraction of highly accreting X-ray AGN at around the peak epoch of supermassive black hole growth utilizing the wide and deep X-ray and optical/IR imaging datasets. A unique sample of luminous X-ray selected AGNs above $z>2$ was constructed by matching the XMM-SERVS X-ray point-source catalog with a PSF-convolved photometric catalog covering from $u^*$ to 4.5$\\mu \\mathrm{m}$ bands. Photometric redshift, hydrogen column density, and 2-10 keV AGN luminosity of the X-ray selected AGN candidates were estimated. Using the sample of 306 2-10 keV detected AGN at above redshift 2, we estimate the fraction of AGN with $\\log N_{\\rm H}\\ (\\rm cm^{-2})>22$, assuming parametric X-ray luminosity and absorption functions. The results suggest that $76_{-3}^{+4}\\%$ of luminous quasars ($\\log L_X\\ (\\rm erg\\ s^{-1}) >44.5$) above redshift 2 are obscured. The fraction indicates an increased contribution of obscured accretion at high redshift than that in the local universe. We discuss the implications of the increasing obscured fraction with increasing redshift based on the AGN obscuration scenarios, which describe obscuration properties in the local universe. Both the obscured and unobscured $z>2$ AGN show a broad range of SEDs and morphology, which may reflect the broad variety of host galaxy properties and physical processes associated with the obscuration. |\n",
       "|<p style=\"color:green\"> **ERROR** </p>| <p style=\"color:green\">affiliation error: mpia.affiliation_verifications: 'Heidelberg' keyword not found.</p> |"
      ],
      "text/plain": [
       "<IPython.core.display.Markdown object>"
      ]
     },
     "metadata": {},
     "output_type": "display_data"
    },
    {
     "data": {
      "text/markdown": [
       "\n",
       "|||\n",
       "|---:|:---|\n",
       "| [![arXiv](https://img.shields.io/badge/arXiv-arXiv:2209.07832-b31b1b.svg)](https://arxiv.org/abs/arXiv:2209.07832) | **Deuterated molecules in regions of high-mass star formation**  |\n",
       "|| Igor I. Zinchenko, et al. -- incl., <mark>Christian Henkel</mark> |\n",
       "|*Appeared on*| *2022-09-19*|\n",
       "|*Comments*| *8 pages, 4 figures, to be published in Proceedings of Science (Proceedings of the conference \"The Multifaceted Universe: Theory and Observations - 2022\", 23-27 May 2022, SAO RAS, Nizhny Arkhyz, Russia)*|\n",
       "|**Abstract**| We present the results of our studies of deuterated molecules (DCN, DNC, DCO$^+$, N$_2$D$^+$ and NH$_2$D) in regions of high-mass star formation, which include a survey of such regions with the 20-m Onsala radio telescope and mapping of several objects in various lines with the 30-m IRAM and 100-m MPIfR radio telescopes. The deuteration degree reaches $\\sim$10$^{-2}$ in these objects. We discuss its dependencies on the gas temperature and velocity dispersion, as well as spatial distributions of deuterated molecules. We show that the H$^{13}$CN/HN$^{13}$C intensity ratio may be a good indicator of the gas kinetic temperature and estimate densities of the investigated objects. |\n",
       "|<p style=\"color:green\"> **ERROR** </p>| <p style=\"color:green\">affiliation error: mpia.affiliation_verifications: 'Heidelberg' keyword not found.</p> |"
      ],
      "text/plain": [
       "<IPython.core.display.Markdown object>"
      ]
     },
     "metadata": {},
     "output_type": "display_data"
    },
    {
     "data": {
      "text/markdown": [
       "\n",
       "|||\n",
       "|---:|:---|\n",
       "| [![arXiv](https://img.shields.io/badge/arXiv-arXiv:2209.07885-b31b1b.svg)](https://arxiv.org/abs/arXiv:2209.07885) | **Probing the Galactic halo with RR Lyrae stars $-$ III. The chemical and  kinematic properties of the stellar halo**  |\n",
       "|| <mark>Gaochao Liu</mark>, et al. -- incl., <mark>Huawei Zhang</mark> |\n",
       "|*Appeared on*| *2022-09-19*|\n",
       "|*Comments*| *15 pages, 14 figures, MNRAS accepted*|\n",
       "|**Abstract**| Based on a large spectroscopic sample of $\\sim$ 4,300 RR Lyrae stars with metallicity, systemic radial velocity and distance measurements, we present a detailed analysis of the chemical and kinematic properties of the Galactic halo. Using this sample, the metallicity distribution function (MDF) as a function of $r$ and the velocity anisotropy parameter $\\beta$ profiles (for different metallicity populations) are derived for the stellar halo. Both the chemical and kinematic results suggest that the Galactic halo is composed of two distinct parts, the inner halo and outer halo. The cutoff radius ($\\sim$ 30 kpc) is similar to the previous break radius found in the density distribution of the stellar halo. We find that the inner part is dominated by a metal-rich population with extremely radial anisotropy ($\\beta \\sim 0.9$). These features are in accordance with those of ``{\\it Gaia}-Enceladus-Sausage'' (GES) and we attribute this inner halo component as being dominantly composed of stars deposited from this ancient merged satellite. We find that GES probably has a slightly negative metallicity gradient. The metal-poor populations in the inner halo are characterized as a long-tail in MDF with an anisotropy of $\\beta \\sim 0.5$, which is similar to that of the outer part. The MDF for the outer halo is very broad with several weak peaks and the value of $\\beta$ is around 0.5 for all metallicities. |\n",
       "|<p style=\"color:green\"> **ERROR** </p>| <p style=\"color:green\">affiliation error: mpia.affiliation_verifications: 'Heidelberg' keyword not found.</p> |"
      ],
      "text/plain": [
       "<IPython.core.display.Markdown object>"
      ]
     },
     "metadata": {},
     "output_type": "display_data"
    },
    {
     "data": {
      "text/markdown": [
       "\n",
       "|||\n",
       "|---:|:---|\n",
       "| [![arXiv](https://img.shields.io/badge/arXiv-arXiv:2209.07542-b31b1b.svg)](https://arxiv.org/abs/arXiv:2209.07542) | **Toward an understanding of the properties of neural network approaches  for supernovae light curve approximation**  |\n",
       "|| <mark>Mariia Demianenko</mark>, et al. |\n",
       "|*Appeared on*| *2022-09-19*|\n",
       "|*Comments*| *Submitted to MNRAS. 14 pages, 6 figures, 9 tables*|\n",
       "|**Abstract**| The modern time-domain photometric surveys collect a lot of observations of various astronomical objects, and the coming era of large-scale surveys will provide even more information. Most of the objects have never received a spectroscopic follow-up, which is especially crucial for transients e.g. supernovae. In such cases, observed light curves could present an affordable alternative. Time series are actively used for photometric classification and characterization, such as peak and luminosity decline estimation. However, the collected time series are multidimensional, irregularly sampled, contain outliers, and do not have well-defined systematic uncertainties. Machine learning methods help extract useful information from available data in the most efficient way. We consider several light curve approximation methods based on neural networks: Multilayer Perceptrons, Bayesian Neural Networks, and Normalizing Flows, to approximate observations of a single light curve. Tests using both the simulated PLAsTiCC and real Zwicky Transient Facility data samples demonstrate that even few observations are enough to fit networks and achieve better approximation quality than other state-of-the-art methods. We show that the methods described in this work have better computational complexity and work faster than Gaussian Processes. We analyze the performance of the approximation techniques aiming to fill the gaps in the observations of the light curves, and show that the use of appropriate technique increases the accuracy of peak finding and supernova classification. In addition, the study results are organized in a Fulu Python library available on GitHub, which can be easily used by the community. |\n",
       "|<p style=\"color:red\"> **ERROR** </p>| <p style=\"color:red\">latex error Could not find figure (a)</p> |"
      ],
      "text/plain": [
       "<IPython.core.display.Markdown object>"
      ]
     },
     "metadata": {},
     "output_type": "display_data"
    },
    {
     "data": {
      "text/markdown": [
       "\n",
       "|||\n",
       "|---:|:---|\n",
       "| [![arXiv](https://img.shields.io/badge/arXiv-arXiv:2209.07700-b31b1b.svg)](https://arxiv.org/abs/arXiv:2209.07700) | **The Effects of Space Weather on Flight Delays**  |\n",
       "|| Y. Wang, et al. -- incl., <mark>W. Y. Zhang</mark>, <mark>Z. Li</mark>, <mark>J. P. Guo</mark> |\n",
       "|*Appeared on*| *2022-09-19*|\n",
       "|*Comments*| *submitted to science advances*|\n",
       "|**Abstract**| Although the sun is really far away from us, some solar activities could still influence the performance and reliability of space-borne and ground-based technological systems on Earth. Those time-varying conditions in space caused by the sun are also called space weather, as the atmospheric conditions that can affect weather on the ground. It is known that aviation activities can be affected during space weather events, but the exact effects of space weather on aviation are still unclear. Especially how the flight delays, the top topic concerned by most people, will be affected by space weather has never been thoroughly researched. By analyzing huge amount of flight data (~5X106 records), for the first time, we demonstrate that space weather events could have systematically modulating effects on flight delays. The average arrival delay time and 30-minute delay rate during space weather events are significantly increased by 81.34% and 21.45% respectively compared to those during quiet periods. The evident negative correlation between the yearly flight regularity rate and the yearly mean total sunspot number during 22 years also confirms such delay effects. Further studies indicate that the interference in communication and navigation caused by geomagnetic field fluctuations and ionospheric disturbances associated with the space weather events will increase the flight delay time and delay rate. These results expand the traditional field of space weather research and could also provide us with brand new views for improving the flight delay predications. |\n",
       "|<p style=\"color:red\"> **ERROR** </p>| <p style=\"color:red\">latex error not a gzip file</p> |"
      ],
      "text/plain": [
       "<IPython.core.display.Markdown object>"
      ]
     },
     "metadata": {},
     "output_type": "display_data"
    },
    {
     "data": {
      "text/markdown": [
       "\n",
       "|||\n",
       "|---:|:---|\n",
       "| [![arXiv](https://img.shields.io/badge/arXiv-arXiv:2209.07701-b31b1b.svg)](https://arxiv.org/abs/arXiv:2209.07701) | **Characteristics of Flight Delays during Solar Flares**  |\n",
       "|| X. H. Xu, et al. -- incl., <mark>W. Y. Zhang</mark>, <mark>Z. Li</mark>, <mark>J. P. Guo</mark> |\n",
       "|*Appeared on*| *2022-09-19*|\n",
       "|*Comments*| *submitted to APJL*|\n",
       "|**Abstract**| Solar flare is one of the severest solar activities on the sun, and it has many important impacts on the near-earth space. It has been found that flight arrival delays will increase during solar flare. However, the detailed intrinsic mechanism of how solar flares influence the delays is still unknown. Based on 5-years huge amount of flight data, here we comprehensively analyze the flight departure delays during 57 solar flares. It is found that the averaged flight departure delay time during solar flares increased by 20.68% (7.67 min) compared to those during quiet periods. It is also shown that solar flare related flight delays reveal apparent time and latitude dependencies. Flight delays during dayside solar flares are more serious than those during nightside flares, and the longer (shorter) delays tend to occur in the lower (higher) latitude airport. Further analyses suggest that flight delay time and delay rate would be directly modulated by the solar intensity (soft X-ray flux) and the Solar Zenith Angle. For the first time, these results indicate that the communication interferences caused by solar flares will directly affect flight departure delay time and delay rate. This work also expands our conventional understandings to the impacts of solar flares on human society, and it could also provide us with brand new views to help prevent or cope with flight delays. |\n",
       "|<p style=\"color:red\"> **ERROR** </p>| <p style=\"color:red\">latex error not a gzip file</p> |"
      ],
      "text/plain": [
       "<IPython.core.display.Markdown object>"
      ]
     },
     "metadata": {},
     "output_type": "display_data"
    },
    {
     "data": {
      "text/markdown": [
       "\n",
       "|||\n",
       "|---:|:---|\n",
       "| [![arXiv](https://img.shields.io/badge/arXiv-arXiv:2209.07703-b31b1b.svg)](https://arxiv.org/abs/arXiv:2209.07703) | **Analyses of Flight Time During Solar Proton Events and Solar Flares**  |\n",
       "|| X. H. Xu, et al. -- incl., <mark>Z. Li</mark>, <mark>W. Y. Zhang</mark> |\n",
       "|*Appeared on*| *2022-09-19*|\n",
       "|*Comments*| *submitted to Scientific Reports*|\n",
       "|**Abstract**| Analyzing the effects of space weather on aviation is a new and developing topic. It has been commonly accepted that the flight time of the polar flights may increase during solar proton events because the flights have to change their route to avoid the high-energy particles. However, apart from such phenomenon, researches related to the flight time during space weather events is very rare. Based on the analyses of 39 representative international air routes around westerlies, it is found that 97.44% (94.87%) of the commercial airplanes on the westbound (eastbound) air routes reveal shorter (longer) flight time during solar proton events compared to those during quiet periods, and the averaged magnitude of change in flight time is ~10 min or 0.21%-4.17% of the total flight durations. Comparative investigations reassure the certainty of such phenomenon that the directional differences in flight time are still incontrovertible regardless of over-land routes (China-Europe) or over-sea routes (China-Western America). Further analyses suggest that the solar proton events associated atmospheric heating will change the flight durations by weakening certain atmospheric circulations, such as the polar jet stream. While the polar jet stream will not be obviously altered during solar flares so that the directional differences in flight time are not found. Besides the conventional space weather effects already known, this paper is the first report that indicates a distinct new scenario of how the solar proton events affect flight time. These analyses are also important for aviation since our discoveries could help the airways optimize the air routes to save passenger time costs, reduce fuel costs and even contribute to the global warming issues. |\n",
       "|<p style=\"color:red\"> **ERROR** </p>| <p style=\"color:red\">latex error not a gzip file</p> |"
      ],
      "text/plain": [
       "<IPython.core.display.Markdown object>"
      ]
     },
     "metadata": {},
     "output_type": "display_data"
    }
   ],
   "source": [
    "import datetime\n",
    "today = str(datetime.date.today())\n",
    "logfile = f\"_build/html/logs/log-{today}.md\"\n",
    "\n",
    "\n",
    "with open(logfile, 'w') as logs:\n",
    "    # Success\n",
    "    logs.write(f'# Arxiv on Deck 2: Logs - {today}\\n\\n')\n",
    "    logs.write(\"\"\"* Arxiv had {0:,d} new papers\\n\"\"\".format(len(new_papers)))\n",
    "    logs.write(\"\"\"    * {0:,d} with possible author matches\\n\\n\"\"\".format(len(candidates)))\n",
    "    logs.write(\"## Sucessful papers\\n\\n\")\n",
    "    display(Markdown(\"## Successful papers\"))\n",
    "    success = [k[0] for k in documents]\n",
    "    for candid in candidates:\n",
    "        if candid['identifier'].split(':')[-1] in success:\n",
    "            display(candid)\n",
    "            logs.write(candid.generate_markdown_text() + '\\n\\n')\n",
    "\n",
    "    ## failed\n",
    "    logs.write(\"## Failed papers\\n\\n\")\n",
    "    display(Markdown(\"## Failed papers\"))\n",
    "    failed = sorted(failed, key=lambda x: x[1])\n",
    "    current_reason = \"\"\n",
    "    for paper, reason in failed:\n",
    "        if 'affiliation' in reason:\n",
    "            color = 'green'\n",
    "        else:\n",
    "            color = 'red'\n",
    "        data = Markdown(\n",
    "                paper.generate_markdown_text() + \n",
    "                f'\\n|<p style=\"color:{color:s}\"> **ERROR** </p>| <p style=\"color:{color:s}\">{reason:s}</p> |'\n",
    "               )\n",
    "        if reason != current_reason:\n",
    "            logs.write(f'### {reason:s} \\n\\n')\n",
    "            current_reason = reason\n",
    "        logs.write(data.data + '\\n\\n')\n",
    "        \n",
    "        # only display here the important errors (all in logs)\n",
    "        # if color in ('red',):\n",
    "        display(data)"
   ]
  },
  {
   "cell_type": "markdown",
   "id": "472d20ee",
   "metadata": {
    "papermill": {
     "duration": 0.00861,
     "end_time": "2022-09-19T05:24:01.084350",
     "exception": false,
     "start_time": "2022-09-19T05:24:01.075740",
     "status": "completed"
    },
    "tags": []
   },
   "source": [
    "## Export documents\n",
    "\n",
    "We now write the .md files and export relevant images"
   ]
  },
  {
   "cell_type": "code",
   "execution_count": 7,
   "id": "d426aed9",
   "metadata": {
    "execution": {
     "iopub.execute_input": "2022-09-19T05:24:01.104664Z",
     "iopub.status.busy": "2022-09-19T05:24:01.104385Z",
     "iopub.status.idle": "2022-09-19T05:24:01.112639Z",
     "shell.execute_reply": "2022-09-19T05:24:01.111769Z"
    },
    "papermill": {
     "duration": 0.02088,
     "end_time": "2022-09-19T05:24:01.114900",
     "exception": false,
     "start_time": "2022-09-19T05:24:01.094020",
     "status": "completed"
    },
    "tags": []
   },
   "outputs": [],
   "source": [
    "def export_markdown_summary(md: str, md_fname:str, directory: str):\n",
    "    \"\"\"Export MD document and associated relevant images\"\"\"\n",
    "    import os\n",
    "    import shutil\n",
    "    import re\n",
    "\n",
    "    if (os.path.exists(directory) and not os.path.isdir(directory)):\n",
    "        raise RuntimeError(f\"a non-directory file exists with name {directory:s}\")\n",
    "\n",
    "    if (not os.path.exists(directory)):\n",
    "        print(f\"creating directory {directory:s}\")\n",
    "        os.mkdir(directory)\n",
    "\n",
    "    fig_fnames = (re.compile(r'\\[Fig.*\\]\\((.*)\\)').findall(md) + \n",
    "                  re.compile(r'\\<img src=\"([^>\\s]*)\"[^>]*/>').findall(md))\n",
    "    for fname in fig_fnames:\n",
    "        if 'http' in fname:\n",
    "            # No need to copy online figures\n",
    "            continue\n",
    "        destdir = os.path.join(directory, os.path.dirname(fname))\n",
    "        destfname = os.path.join(destdir, os.path.basename(fname))\n",
    "        try:\n",
    "            os.makedirs(destdir)\n",
    "        except FileExistsError:\n",
    "            pass\n",
    "        shutil.copy(fname, destfname)\n",
    "    with open(os.path.join(directory, md_fname), 'w') as fout:\n",
    "        fout.write(md)\n",
    "    print(\"exported in \", os.path.join(directory, md_fname))\n",
    "    [print(\"    + \" + os.path.join(directory,fk)) for fk in fig_fnames]"
   ]
  },
  {
   "cell_type": "code",
   "execution_count": 8,
   "id": "014d04a4",
   "metadata": {
    "execution": {
     "iopub.execute_input": "2022-09-19T05:24:01.137632Z",
     "iopub.status.busy": "2022-09-19T05:24:01.137331Z",
     "iopub.status.idle": "2022-09-19T05:24:01.149688Z",
     "shell.execute_reply": "2022-09-19T05:24:01.148809Z"
    },
    "papermill": {
     "duration": 0.026143,
     "end_time": "2022-09-19T05:24:01.151491",
     "exception": false,
     "start_time": "2022-09-19T05:24:01.125348",
     "status": "completed"
    },
    "tags": []
   },
   "outputs": [
    {
     "name": "stdout",
     "output_type": "stream",
     "text": [
      "exported in  _build/html/2209.07931.md\n",
      "    + _build/html/tmp_2209.07931/./figures/SizeLumRel_1mm_lowhighres_TazzariComp.png\n",
      "    + _build/html/tmp_2209.07931/./figures/SizeLumRel_3mm_lowhighres_TazzariComp.png\n",
      "    + _build/html/tmp_2209.07931/./figures/SpecIndex_R68_lowres_Tazzari.png\n",
      "    + _build/html/tmp_2209.07931/./figures/MDust_Rgap.png\n",
      "    + _build/html/tmp_2209.07931/./figures/MDust_Amplitude.png\n",
      "    + _build/html/tmp_2209.07931/./figures/MDust_Tgrow.png\n",
      "    + _build/html/tmp_2209.07931/./figures/OptDepth_Rgap.png\n",
      "    + _build/html/tmp_2209.07931/./figures/OptDepth_Amplitude.png\n",
      "    + _build/html/tmp_2209.07931/./figures/OptDepth_Tgrow.png\n",
      "    + _build/html/tmp_2209.07931/./figures/Dynamic_Sigmas_Compared_1Myrs_new1.png\n",
      "    + _build/html/tmp_2209.07931/./figures/Dynamic_Masses_Time_log.png\n",
      "exported in  _build/html/2209.07962.md\n",
      "    + _build/html/tmp_2209.07962/figures/splash_mdf_rgb_lowextinction_medianAv.png\n",
      "    + _build/html/tmp_2209.07962/figures/splash_membership_coloredbypna_v2.png\n",
      "    + _build/html/tmp_2209.07962/figures/ne3_vmodel.png\n"
     ]
    }
   ],
   "source": [
    "for paper_id, md in documents:\n",
    "    export_markdown_summary(md, f\"{paper_id:s}.md\", '_build/html/')"
   ]
  },
  {
   "cell_type": "markdown",
   "id": "f087a0a7",
   "metadata": {
    "papermill": {
     "duration": 0.009512,
     "end_time": "2022-09-19T05:24:01.170459",
     "exception": false,
     "start_time": "2022-09-19T05:24:01.160947",
     "status": "completed"
    },
    "tags": []
   },
   "source": [
    "## Display the papers\n",
    "\n",
    "Not necessary but allows for a quick check."
   ]
  },
  {
   "cell_type": "code",
   "execution_count": 9,
   "id": "fd25f625",
   "metadata": {
    "execution": {
     "iopub.execute_input": "2022-09-19T05:24:01.191405Z",
     "iopub.status.busy": "2022-09-19T05:24:01.190959Z",
     "iopub.status.idle": "2022-09-19T05:24:01.199459Z",
     "shell.execute_reply": "2022-09-19T05:24:01.198647Z"
    },
    "papermill": {
     "duration": 0.021595,
     "end_time": "2022-09-19T05:24:01.201640",
     "exception": false,
     "start_time": "2022-09-19T05:24:01.180045",
     "status": "completed"
    },
    "scrolled": false,
    "tags": []
   },
   "outputs": [
    {
     "data": {
      "text/markdown": [
       "<div class=\"macros\" style=\"visibility:hidden;\">\n",
       "$\\newcommand{\\ensuremath}{}$\n",
       "$\\newcommand{\\xspace}{}$\n",
       "$\\newcommand{\\object}[1]{\\texttt{#1}}$\n",
       "$\\newcommand{\\farcs}{{.}''}$\n",
       "$\\newcommand{\\farcm}{{.}'}$\n",
       "$\\newcommand{\\arcsec}{''}$\n",
       "$\\newcommand{\\arcmin}{'}$\n",
       "$\\newcommand{\\ion}[2]{#1#2}$\n",
       "$\\newcommand{\\textsc}[1]{\\textrm{#1}}$\n",
       "$\\newcommand{\\hl}[1]{\\textrm{#1}}$\n",
       "$\\newcommand$</div>\n",
       "\n",
       "<div class=\"macros\" style=\"visibility:hidden;\">\n",
       "$\\newcommand{$\\ensuremath$}{}$\n",
       "$\\newcommand{$\\xspace$}{}$\n",
       "$\\newcommand{$\\object$}[1]{\\texttt{#1}}$\n",
       "$\\newcommand{$\\farcs$}{{.}''}$\n",
       "$\\newcommand{$\\farcm$}{{.}'}$\n",
       "$\\newcommand{$\\arcsec$}{''}$\n",
       "$\\newcommand{$\\arcmin$}{'}$\n",
       "$\\newcommand{$\\ion$}[2]{#1#2}$\n",
       "$\\newcommand{$\\textsc$}[1]{\\textrm{#1}}$\n",
       "$\\newcommand{$\\hl$}[1]{\\textrm{#1}}$\n",
       "$\\newcommand$</div>\n",
       "\n",
       "\n",
       "\n",
       "<div id=\"title\">\n",
       "\n",
       "# The impact of dynamic pressure bumps on the observational properties of protoplanetary disks\n",
       "\n",
       "</div>\n",
       "<div id=\"comments\">\n",
       "\n",
       "[![arXiv](https://img.shields.io/badge/arXiv-2209.07931-b31b1b.svg)](https://arxiv.org/abs/2209.07931)<mark>Appeared on: 2022-09-19</mark> - _22 pages, 15 figures. To be published in Astronomy & Astrophysics_\n",
       "\n",
       "</div>\n",
       "<div id=\"authors\">\n",
       "\n",
       "<mark><mark>Jochen Stadler</mark></mark>, et al. -- incl., <mark><mark>Matías Gárate</mark></mark>\n",
       "\n",
       "</div>\n",
       "<div id=\"abstract\">\n",
       "\n",
       "**Abstract:** Over the last years, large (sub-)millimetre surveys of protoplanetary disks in different star forming regions have well constrained the demographics of disks, such as their millimetre luminosities, spectral indices, and disk radii. Additionally, several high-resolution observations have revealed an abundance of substructures in the disk's dust continuum. The most prominent are ring like structures, which are likely caused by pressure bumps trapping dust particles. The origins and characteristics of these pressure bumps, nevertheless, need to be further investigated.The purpose of this work is to study how dynamic pressure bumps affect observational properties of protoplanetary disks. We further aim to differentiate between the planetary- versus zonal flow-origin of pressure bumps.We perform one-dimensional gas and dust evolution simulations, setting up models with varying pressure bump features, including their amplitude and location, growth time, and number of bumps. We subsequently run radiative transfer calculations to obtain synthetic images, from which we obtain the different quantities of observations.We find that the outermost pressure bump determines the disk's dust size across different millimetre wavelengths and confirm that the observed dust masses of disks with optically thick inner bumps ($<40$au) are underestimated by up to an order of magnitude. Our modelled dust traps need to form early (< 0.1 Myr), fast (on viscous timescales), and must be long lived (> Myr) to obtain the observed high millimetre luminosities and low spectral indices of disks. While the planetary bump models can reproduce these observables irrespectively of the opacity prescription, the highest opacities are needed for the dynamic bump model, which mimics zonal flows in disks, to be in line with observations.Our findings favour the planetary- over the zonal flow-origin of pressure bumps and support the idea that planet formation already occurs in early class 0-1 stages of circumstellar disks. The determination of the disk's effective size through its outermost pressure bump also delivers a possible answer to why disks in recent low-resolution surveys appear to have the same sizes across different millimetre wavelengths.\n",
       "\n",
       "</div>\n",
       "\n",
       "<div id=\"div_fig1\">\n",
       "\n",
       "<img src=\"tmp_2209.07931/./figures/SizeLumRel_1mm_lowhighres_TazzariComp.png\" alt=\"Fig3.1\" width=\"33%\"/><img src=\"tmp_2209.07931/./figures/SizeLumRel_3mm_lowhighres_TazzariComp.png\" alt=\"Fig3.2\" width=\"33%\"/><img src=\"tmp_2209.07931/./figures/SpecIndex_R68_lowres_Tazzari.png\" alt=\"Fig3.3\" width=\"33%\"/>\n",
       "\n",
       "**Figure 3. -** Size-luminosity relations and spectral indices dependent on disk sizesSize-luminosity relations and spectral indices dependent on disk sizes. In \\textbf{a) + b)} the fluxes are divided by the cosine of the inclination (i = 20°).  The plotted 68\\% emission disk radii are found to decrease from low (0.30\") to high (0.04\") resolution for all models irrespective of wavelength which is highlighted by lines connecting both radii. The grey dashed lines show the relations for Lupus at $\\lambda=$1.3 mm and $\\lambda=$3.0 mm found by \\cite{Tazzari2021_sizes}, where the grey area represents the 68\\% confidence interval around the median. \\textbf{c)} Spectral index ($\\alpha_\\mathrm{1.3-3.0mm}$) over disk effective size (R$_\\mathrm{d, 68\\%}$) at $\\lambda=$1.3 mm with 0.30\" resolution, black dots show Lupus data also from \\cite{Tazzari2021_sizes}. (*fig:Tazzari_relations*)\n",
       "\n",
       "</div>\n",
       "<div id=\"div_fig2\">\n",
       "\n",
       "<img src=\"tmp_2209.07931/./figures/MDust_Rgap.png\" alt=\"Fig8.1\" width=\"16%\"/><img src=\"tmp_2209.07931/./figures/MDust_Amplitude.png\" alt=\"Fig8.2\" width=\"16%\"/><img src=\"tmp_2209.07931/./figures/MDust_Tgrow.png\" alt=\"Fig8.3\" width=\"16%\"/><img src=\"tmp_2209.07931/./figures/OptDepth_Rgap.png\" alt=\"Fig8.4\" width=\"16%\"/><img src=\"tmp_2209.07931/./figures/OptDepth_Amplitude.png\" alt=\"Fig8.5\" width=\"16%\"/><img src=\"tmp_2209.07931/./figures/OptDepth_Tgrow.png\" alt=\"Fig8.6\" width=\"16%\"/>\n",
       "\n",
       "**Figure 8. -** Dust mass and optical depth parameter plots. \\textsl{(Upper)} Total dust mass (blue), dust mass for grains larger than 0.1 mm (orange) and observed dust mass (green) plotted over the gap location, bump amplitude and bump growth time (from a) - c)). \\textsl{(Lower)} Absorption and observed peak optical depth also in dependence on bump model parameters. The \\textit{Inner Bump} model reaches $\\tau_\\mathrm{abs}=35$ which is why we used a logarithmic scale in subplot a) (*fig:Mdust_tau_effect*)\n",
       "\n",
       "</div>\n",
       "<div id=\"div_fig3\">\n",
       "\n",
       "<img src=\"tmp_2209.07931/./figures/Dynamic_Sigmas_Compared_1Myrs_new1.png\" alt=\"Fig2.1\" width=\"50%\"/><img src=\"tmp_2209.07931/./figures/Dynamic_Masses_Time_log.png\" alt=\"Fig2.2\" width=\"50%\"/>\n",
       "\n",
       "**Figure 2. -** Surface density and dust masses plots of dynamic bumps models. \\textbf{a)} Gas (dashed line) and dust (solid line) surface densities at 1 Myr of evolution for the different dynamic bumps models and the model without any bumps for comparison. \\textbf{b)} Total dust mass of each model over the disk lifetime. (*fig:dynamic_bumps*)\n",
       "\n",
       "</div>"
      ],
      "text/plain": [
       "<IPython.core.display.Markdown object>"
      ]
     },
     "metadata": {},
     "output_type": "display_data"
    },
    {
     "data": {
      "text/markdown": [
       "<div class=\"macros\" style=\"visibility:hidden;\">\n",
       "$\\newcommand{\\ensuremath}{}$\n",
       "$\\newcommand{\\xspace}{}$\n",
       "$\\newcommand{\\object}[1]{\\texttt{#1}}$\n",
       "$\\newcommand{\\farcs}{{.}''}$\n",
       "$\\newcommand{\\farcm}{{.}'}$\n",
       "$\\newcommand{\\arcsec}{''}$\n",
       "$\\newcommand{\\arcmin}{'}$\n",
       "$\\newcommand{\\ion}[2]{#1#2}$\n",
       "$\\newcommand{\\textsc}[1]{\\textrm{#1}}$\n",
       "$\\newcommand{\\hl}[1]{\\textrm{#1}}$\n",
       "$\\newcommand{\\nsplash}{6405}$\n",
       "$\\newcommand{\\fkickedupdiskdorman}{5.2\\% \\pm 1.2\\%}$\n",
       "$\\newcommand{\\fmrtotstat}{6.5\\% \\pm 1.4\\%}$\n",
       "$\\newcommand{\\fmrtot}{5.5\\%}$\n",
       "$\\newcommand{\\fkickedupdiskexcess}{6.8\\% \\pm 0.4\\%}$\n",
       "$\\newcommand{\\fdisktotstat}{75.0\\% \\pm 4.5\\%}$\n",
       "$\\newcommand{\\fehphotshiftfourtotwelve}{-0.26}$\n",
       "$\\newcommand{\\medfehphotneshelf}{-0.16}$\n",
       "$\\newcommand{\\medfehphotminhalo}{-0.15}$\n",
       "$\\newcommand{\\fehphotshiftnoinnerfield}{-0.29}$\n",
       "$\\newcommand{\\frachostnbody}{98.9\\%}$\n",
       "$\\newcommand{\\ndiskrgb}{2443}$\n",
       "$\\newcommand{\\nhalorgb}{657}$\n",
       "$\\newcommand{\\nmixedrgb}{436}$\n",
       "$\\newcommand{\\fehphotdiskrgbmr}{-0.10}$\n",
       "$\\newcommand{\\fehphotdiskrgbmp}{-0.89}$\n",
       "$\\newcommand{\\fehphotdiskrgbmrsig}{0.23}$\n",
       "$\\newcommand{\\fehphotdiskrgbmpsig}{0.53}$\n",
       "$\\newcommand{\\fehphotdiskrgbmrfrac}{70\\%}$\n",
       "$\\newcommand{\\fehphotdiskrgbmpfrac}{30\\%}$\n",
       "$\\newcommand{\\fehphothalorgbmr}{-0.16}$\n",
       "$\\newcommand{\\fehphothalorgbmp}{-0.88}$\n",
       "$\\newcommand{\\fehphothalorgbmrsig}{0.22}$\n",
       "$\\newcommand{\\fehphothalorgbmpsig}{0.45}$\n",
       "$\\newcommand{\\fehphothalorgbmrfrac}{50\\%}$\n",
       "$\\newcommand{\\fehphothalorgbmpfrac}{50\\%}$\n",
       "$\\newcommand{\\percentsupersolarhalo}{14\\%}$\n",
       "$\\newcommand{\\fcontamhalo}{12.5\\%}$\n",
       "$\\newcommand{\\fcontamdisk}{11.0\\%}$\n",
       "$\\newcommand{\\fehphotmedhalorgbcontamcorr}{-0.49^{+0.003}_{-0.009}}$\n",
       "$\\newcommand{\\fehphotmeddiskrgbcontamcorr}{-0.16^{+0.002}_{-0.004}}$\n",
       "$\\newcommand{\\fehphotavghalorgbcontamcorr}{-0.57 \\pm 0.003}$\n",
       "$\\newcommand{\\fehphotavgdiskrgbcontamcorr}{-0.30 \\pm 0.003}$\n",
       "$\\newcommand{\\gradientdisk}{-0.0190}$\n",
       "$\\newcommand{\\gradientdiskerr}{0.0002}$\n",
       "$\\newcommand{\\gradienthalo}{-0.0051}$\n",
       "$\\newcommand{\\gradienthaloerr}{0.0004}$\n",
       "$\\newcommand{\\interceptdisk}{+0.060}$\n",
       "$\\newcommand{\\interceptdiskerr}{0.005}$\n",
       "$\\newcommand{\\intercepthalo}{-0.279}$\n",
       "$\\newcommand{\\intercepthaloerr}{0.004}$\n",
       "$\\newcommand{\\gradientdisklowext}{-0.0220}$\n",
       "$\\newcommand{\\gradientdisklowexterr}{0.0004}$\n",
       "$\\newcommand{\\gradienthalolowext}{-0.0075}$\n",
       "$\\newcommand{\\gradienthalolowexterr}{0.0004}$\n",
       "$\\newcommand{\\interceptdisklowext}{+0.119}$\n",
       "$\\newcommand{\\interceptdisklowexterr}{0.005}$\n",
       "$\\newcommand{\\intercepthalolowext}{-0.242}$\n",
       "$\\newcommand{\\intercepthalolowexterr}{0.006}$\n",
       "$\\newcommand{\\gradientdiskdust}{-0.0185}$\n",
       "$\\newcommand{\\gradientdiskdusterr}{0.0002}$\n",
       "$\\newcommand{\\gradienthalodust}{-0.0090}$\n",
       "$\\newcommand{\\gradienthalodusterr}{0.0003}$\n",
       "$\\newcommand{\\interceptdiskdust}{+0.084}$\n",
       "$\\newcommand{\\interceptdiskdusterr}{0.003}$\n",
       "$\\newcommand{\\intercepthalodust}{-0.200}$\n",
       "$\\newcommand{\\intercepthalodusterr}{0.004}$\n",
       "$\\newcommand{\\gradientdiskfid}{-0.019^{+0.001}_{-0.003}}$\n",
       "$\\newcommand{\\fracmrhalofid}{55.1\\%}$\n",
       "$\\newcommand{\\fracmrhalocontamcorr}{49.2\\%}$\n",
       "$\\newcommand{\\fracmrhalocontambydisk}{5.9\\%}$\n",
       "$\\newcommand{\\fracpkickfid}{29.4\\%}$\n",
       "$\\newcommand{\\fracpkickcontamcorr}{25.6\\%}$\n",
       "$\\newcommand{\\fracpkickcontam}{3.8\\%}$\n",
       "$\\newcommand{\\muvhalomr}{-266.3}$\n",
       "$\\newcommand{\\muverrhalomr}{5.6}$\n",
       "$\\newcommand{\\muxhalomr}{-0.12}$\n",
       "$\\newcommand{\\muxerrhalomr}{0.02}$\n",
       "$\\newcommand{\\sigvhalomr}{46.0}$\n",
       "$\\newcommand{\\sigverrhalomr}{4.7}$\n",
       "$\\newcommand{\\sigxhalomr}{0.19}$\n",
       "$\\newcommand{\\sigxerrhalomr}{0.02}$\n",
       "$\\newcommand{\\rhalomr}{0.26}$\n",
       "$\\newcommand{\\rerrhalomr}{0.10}$\n",
       "$\\newcommand{\\fmrhalo}{0.26}$\n",
       "$\\newcommand{\\fmrerrhalo}{0.03}$\n",
       "$\\newcommand{\\muvhalomp}{-322.9}$\n",
       "$\\newcommand{\\muverrhalomp}{6.7}$\n",
       "$\\newcommand{\\sigvhalomp}{139.3}$\n",
       "$\\newcommand{\\sigverrhalomp}{4.5}$\n",
       "$\\newcommand{\\muxhalomp}{-0.66}$\n",
       "$\\newcommand{\\muxerrhalomp}{0.03}$\n",
       "$\\newcommand{\\sigxhalomp}{0.51}$\n",
       "$\\newcommand{\\sigxerrhalomp}{0.02}$\n",
       "$\\newcommand{\\rhalomp}{0.08}$\n",
       "$\\newcommand{\\rerrhalomp}{0.04}$\n",
       "$\\newcommand{\\admeddiskall}{61.7^{+0.8}_{-0.7}}$\n",
       "$\\newcommand{\\admedmixedall}{61.1^{+1.9}_{-1.5}}$\n",
       "$\\newcommand{\\admedhaloall}{66.2^{+0.8}_{-2.1}}$\n",
       "$\\newcommand{\\admedhalomrall}{63.1^{+3.4}_{-2.6}}$\n",
       "$\\newcommand{\\percentmrhalo}{72.3\\%}$\n",
       "$\\newcommand{\\percentmrdisk}{80.0\\%}$\n",
       "$\\newcommand{\\percentmrmixed}{84.2\\%}$\n",
       "$\\newcommand{\\admeddisk}{68.2^{+1.0}_{-0.6}}$\n",
       "$\\newcommand{\\admedmixed}{74.8^{+0.8}_{-1.6}}$\n",
       "$\\newcommand{\\admedhalo}{75.2^{+1.4}_{-1.2}}$\n",
       "$\\newcommand{\\admedhalomr}{77.9^{+1.2}_{-1.1}}$\n",
       "$\\newcommand{\\addiskhalodiffsig}{2.9}$\n",
       "$\\newcommand{\\addiskmixeddiffsig}{2.5}$\n",
       "$\\newcommand{\\adhalomrdiffsig}{1.1}$\n",
       "$\\newcommand{\\adhalomrdiffsigrest}{1.7}$\n",
       "$\\newcommand{\\addiskhalodiffsigall}{1.6}$\n",
       "$\\newcommand{\\fehphotmeddiskrgb}{-0.19}$\n",
       "$\\newcommand{\\fehphotmedmixedrgb}{-0.16}$\n",
       "$\\newcommand{\\fehphotmedhalorgb}{-0.41}$\n",
       "$\\newcommand{\\fehphotmeddiskagb}{-0.07}$\n",
       "$\\newcommand{\\fehphotmedmixedagb}{+0.14}$\n",
       "$\\newcommand{\\fehphotmedhaloagb}{+0.01}$\n",
       "$\\newcommand{\\verrmed}{7.1}$\n",
       "$\\newcommand{\\nblended}{7}$\n",
       "$\\newcommand{\\ngoodrv}{247}$\n",
       "$\\newcommand{\\meddeltaewna}{2.5}$\n",
       "$\\newcommand{\\nmembersplash}{4930}$\n",
       "$\\newcommand{\\meanewand}{0.54}$\n",
       "$\\newcommand{\\stdewand}{1.00}$\n",
       "$\\newcommand{\\meanewmw}{2.27}$\n",
       "$\\newcommand{\\stdewmw}{1.96}$\n",
       "$\\newcommand{\\percentnonasplash}{51.6\\%}$\n",
       "$\\newcommand{\\muhaloone}{-258.2}$\n",
       "$\\newcommand{\\muhalotwo}{-268.7}$\n",
       "$\\newcommand{\\muhalothree}{-238.8}$\n",
       "$\\newcommand{\\sighaloone}{134.4}$\n",
       "$\\newcommand{\\sighalotwo}{135.3}$\n",
       "$\\newcommand{\\sighalothree}{117.5}$\n",
       "$\\newcommand{\\percentdisksplash}{70.9}$\n",
       "$\\newcommand{\\percenthalosplash}{17.1}$\n",
       "$\\newcommand{\\percentmixedsplash}{12.0}$\n",
       "$\\newcommand{\\medradneone}{6.3}$\n",
       "$\\newcommand{\\medradnetwo}{10.3}$\n",
       "$\\newcommand{\\medradnethree}{14.4}$\n",
       "$\\newcommand{\\fehphotmedallrgb}{-0.18}$\n",
       "$\\newcommand{\\fehphotmedlowextrgb}{-0.21}$\n",
       "$\\newcommand{\\fehphotdiffagblowext}{-0.01}$\n",
       "$\\newcommand{\\fehphotdiffrgbcorr}{-0.03}$\n",
       "$\\newcommand{\\fehphotdiffagbcorr}{-0.15}$\n",
       "$\\newcommand{\\sigmaavmed}{0.30}$\n",
       "$\\newcommand{\\diskscaleheight}{0.77}$\n",
       "$\\newcommand{\\ngiantslowext}{2706}$\n",
       "$\\newcommand{\\nrgblowext}{2080}$\n",
       "$\\newcommand{\\fracoldagb}{67.5\\%}$\n",
       "$\\newcommand{\\nagbdustcorr}{556}$\n",
       "$\\newcommand{\\nrgbdustcorr}{3536}$\n",
       "$\\newcommand{\\fehphoterrmed}{0.03}$\n",
       "$\\newcommand{\\medrederr}{0.004}$\n",
       "$\\newcommand{\\medblueerr}{0.015}$\n",
       "$\\newcommand{\\difffehphotrgb}{-0.22}$\n",
       "$\\newcommand{\\difffehphotagb}{+0.48}$\n",
       "$\\newcommand{\\nrgbsplashmwcorr}{3910}$\n",
       "$\\newcommand{\\nrgbsplashmwcorrrheb}{3389}$\n",
       "$\\newcommand{\\ewna}{EW_{\\rm Na}}$\n",
       "$\\newcommand{\\fehphot}{[Fe/H]_{\\rm phot}}$\n",
       "$\\newcommand{\\loggphot}{\\log g_{\\rm phot}}$\n",
       "$\\newcommand{\\teffphot}{T_{\\rm eff,phot}}$\n",
       "$\\newcommand{\\logg}{\\log g}$\n",
       "$\\newcommand{\\teff}{T_{\\rm eff}}$\n",
       "$\\newcommand{\\feh}{[Fe/H]}$\n",
       "$\\newcommand{\\alphafe}{[\\alpha/Fe]}$\n",
       "$\\newcommand{\\vhelio}{v_{\\rm helio}}$\n",
       "$\\newcommand{\\rproj}{R_{\\rm proj}}$\n",
       "$\\newcommand{\\fehphotinit}{[Fe/H]_{\\rm phot, init}}$\n",
       "$\\newcommand{\\fehphoterr}{\\delta[Fe/H]_{\\rm phot}}$\n",
       "$\\newcommand{\\ewsum}{\\Sigma{\\rm Ca}}$\n",
       "$\\newcommand{\\fehcat}{[Fe/H]_{\\rm spec}}$\n",
       "$\\newcommand{\\avdal}{A_{V, {\\rm Dal}}}$\n",
       "$\\newcommand{\\sigav}{\\sigma_V}$\n",
       "$\\newcommand{\\fred}{f_{\\rm red}}$\n",
       "$\\newcommand{\\pdisk}{p_{\\rm disk}}$\n",
       "$\\newcommand{\\Msun}{M_{\\odot}}$\n",
       "$\\newcommand{\\kms}{km s^{-1}}$</div>\n",
       "\n",
       "<div class=\"macros\" style=\"visibility:hidden;\">\n",
       "$\\newcommand{$\\ensuremath$}{}$\n",
       "$\\newcommand{$\\xspace$}{}$\n",
       "$\\newcommand{$\\object$}[1]{\\texttt{#1}}$\n",
       "$\\newcommand{$\\farcs$}{{.}''}$\n",
       "$\\newcommand{$\\farcm$}{{.}'}$\n",
       "$\\newcommand{$\\arcsec$}{''}$\n",
       "$\\newcommand{$\\arcmin$}{'}$\n",
       "$\\newcommand{$\\ion$}[2]{#1#2}$\n",
       "$\\newcommand{$\\textsc$}[1]{\\textrm{#1}}$\n",
       "$\\newcommand{$\\hl$}[1]{\\textrm{#1}}$\n",
       "$\\newcommand{$\\nsplash$}{6405}$\n",
       "$\\newcommand{$\\fkickedupdiskdorman$}{5.2\\% \\pm 1.2\\%}$\n",
       "$\\newcommand{$\\fmrtotstat$}{6.5\\% \\pm 1.4\\%}$\n",
       "$\\newcommand{$\\fmrtot$}{5.5\\%}$\n",
       "$\\newcommand{$\\fkickedupdiskexcess$}{6.8\\% \\pm 0.4\\%}$\n",
       "$\\newcommand{$\\fdisktotstat$}{75.0\\% \\pm 4.5\\%}$\n",
       "$\\newcommand{$\\fehphotshiftfourtotwelve$}{-0.26}$\n",
       "$\\newcommand{$\\medfehphotneshelf$}{-0.16}$\n",
       "$\\newcommand{$\\medfehphotminhalo$}{-0.15}$\n",
       "$\\newcommand{$\\fehphotshiftnoinnerfield$}{-0.29}$\n",
       "$\\newcommand{$\\frachostnbody$}{98.9\\%}$\n",
       "$\\newcommand{$\\ndiskrgb$}{2443}$\n",
       "$\\newcommand{$\\nhalorgb$}{657}$\n",
       "$\\newcommand{$\\nmixedrgb$}{436}$\n",
       "$\\newcommand{$\\fehphotdiskrgbmr$}{-0.10}$\n",
       "$\\newcommand{$\\fehphotdiskrgbmp$}{-0.89}$\n",
       "$\\newcommand{$\\fehphotdiskrgbmr$sig}{0.23}$\n",
       "$\\newcommand{$\\fehphotdiskrgbmp$sig}{0.53}$\n",
       "$\\newcommand{$\\fehphotdiskrgbmr$frac}{70\\%}$\n",
       "$\\newcommand{$\\fehphotdiskrgbmp$frac}{30\\%}$\n",
       "$\\newcommand{$\\fehphothalorgbmr$}{-0.16}$\n",
       "$\\newcommand{$\\fehphothalorgbmp$}{-0.88}$\n",
       "$\\newcommand{$\\fehphothalorgbmr$sig}{0.22}$\n",
       "$\\newcommand{$\\fehphothalorgbmp$sig}{0.45}$\n",
       "$\\newcommand{$\\fehphothalorgbmr$frac}{50\\%}$\n",
       "$\\newcommand{$\\fehphothalorgbmp$frac}{50\\%}$\n",
       "$\\newcommand{$\\percentsupersolarhalo$}{14\\%}$\n",
       "$\\newcommand{$\\fcontamhalo$}{12.5\\%}$\n",
       "$\\newcommand{$\\fcontamdisk$}{11.0\\%}$\n",
       "$\\newcommand{$\\fehphotmedhalorgbcontamcorr$}{-0.49^{+0.003}_{-0.009}}$\n",
       "$\\newcommand{$\\fehphotmeddiskrgbcontamcorr$}{-0.16^{+0.002}_{-0.004}}$\n",
       "$\\newcommand{$\\fehphotavghalorgbcontamcorr$}{-0.57 \\pm 0.003}$\n",
       "$\\newcommand{$\\fehphotavgdiskrgbcontamcorr$}{-0.30 \\pm 0.003}$\n",
       "$\\newcommand{$\\gradientdisk$}{-0.0190}$\n",
       "$\\newcommand{$\\gradientdisk$err}{0.0002}$\n",
       "$\\newcommand{$\\gradienthalo$}{-0.0051}$\n",
       "$\\newcommand{$\\gradienthalo$err}{0.0004}$\n",
       "$\\newcommand{$\\interceptdisk$}{+0.060}$\n",
       "$\\newcommand{$\\interceptdisk$err}{0.005}$\n",
       "$\\newcommand{$\\intercepthalo$}{-0.279}$\n",
       "$\\newcommand{$\\intercepthalo$err}{0.004}$\n",
       "$\\newcommand{$\\gradientdisk$lowext}{-0.0220}$\n",
       "$\\newcommand{$\\gradientdisk$lowexterr}{0.0004}$\n",
       "$\\newcommand{$\\gradienthalo$lowext}{-0.0075}$\n",
       "$\\newcommand{$\\gradienthalo$lowexterr}{0.0004}$\n",
       "$\\newcommand{$\\interceptdisk$lowext}{+0.119}$\n",
       "$\\newcommand{$\\interceptdisk$lowexterr}{0.005}$\n",
       "$\\newcommand{$\\intercepthalo$lowext}{-0.242}$\n",
       "$\\newcommand{$\\intercepthalo$lowexterr}{0.006}$\n",
       "$\\newcommand{$\\gradientdisk$dust}{-0.0185}$\n",
       "$\\newcommand{$\\gradientdisk$dusterr}{0.0002}$\n",
       "$\\newcommand{$\\gradienthalo$dust}{-0.0090}$\n",
       "$\\newcommand{$\\gradienthalo$dusterr}{0.0003}$\n",
       "$\\newcommand{$\\interceptdisk$dust}{+0.084}$\n",
       "$\\newcommand{$\\interceptdisk$dusterr}{0.003}$\n",
       "$\\newcommand{$\\intercepthalo$dust}{-0.200}$\n",
       "$\\newcommand{$\\intercepthalo$dusterr}{0.004}$\n",
       "$\\newcommand{$\\gradientdisk$fid}{-0.019^{+0.001}_{-0.003}}$\n",
       "$\\newcommand{$\\fracmrhalofid$}{55.1\\%}$\n",
       "$\\newcommand{$\\fracmrhalocontamcorr$}{49.2\\%}$\n",
       "$\\newcommand{$\\fracmrhalocontambydisk$}{5.9\\%}$\n",
       "$\\newcommand{$\\fracpkickfid$}{29.4\\%}$\n",
       "$\\newcommand{$\\fracpkickcontamcorr$}{25.6\\%}$\n",
       "$\\newcommand{$\\fracpkickcontam$}{3.8\\%}$\n",
       "$\\newcommand{$\\muvhalomr$}{-266.3}$\n",
       "$\\newcommand{$\\muverrhalomr$}{5.6}$\n",
       "$\\newcommand{$\\muxhalomr$}{-0.12}$\n",
       "$\\newcommand{$\\muxerrhalomr$}{0.02}$\n",
       "$\\newcommand{$\\sigvhalomr$}{46.0}$\n",
       "$\\newcommand{$\\sigverrhalomr$}{4.7}$\n",
       "$\\newcommand{$\\sigxhalomr$}{0.19}$\n",
       "$\\newcommand{$\\sigxerrhalomr$}{0.02}$\n",
       "$\\newcommand{$\\rhalomr$}{0.26}$\n",
       "$\\newcommand{$\\rerrhalomr$}{0.10}$\n",
       "$\\newcommand{$\\fmrhalo$}{0.26}$\n",
       "$\\newcommand{$\\fmrerrhalo$}{0.03}$\n",
       "$\\newcommand{$\\muvhalomp$}{-322.9}$\n",
       "$\\newcommand{$\\muverrhalomp$}{6.7}$\n",
       "$\\newcommand{$\\sigvhalomp$}{139.3}$\n",
       "$\\newcommand{$\\sigverrhalomp$}{4.5}$\n",
       "$\\newcommand{$\\muxhalomp$}{-0.66}$\n",
       "$\\newcommand{$\\muxerrhalomp$}{0.03}$\n",
       "$\\newcommand{$\\sigxhalomp$}{0.51}$\n",
       "$\\newcommand{$\\sigxerrhalomp$}{0.02}$\n",
       "$\\newcommand{$\\rhalomp$}{0.08}$\n",
       "$\\newcommand{$\\rerrhalomp$}{0.04}$\n",
       "$\\newcommand{$\\admeddiskall$}{61.7^{+0.8}_{-0.7}}$\n",
       "$\\newcommand{$\\admedmixedall$}{61.1^{+1.9}_{-1.5}}$\n",
       "$\\newcommand{$\\admedhaloall$}{66.2^{+0.8}_{-2.1}}$\n",
       "$\\newcommand{$\\admedhalomrall$}{63.1^{+3.4}_{-2.6}}$\n",
       "$\\newcommand{$\\percentmrhalo$}{72.3\\%}$\n",
       "$\\newcommand{$\\percentmrdisk$}{80.0\\%}$\n",
       "$\\newcommand{$\\percentmrmixed$}{84.2\\%}$\n",
       "$\\newcommand{$\\admeddisk$}{68.2^{+1.0}_{-0.6}}$\n",
       "$\\newcommand{$\\admedmixed$}{74.8^{+0.8}_{-1.6}}$\n",
       "$\\newcommand{$\\admedhalo$}{75.2^{+1.4}_{-1.2}}$\n",
       "$\\newcommand{$\\admedhalo$mr}{77.9^{+1.2}_{-1.1}}$\n",
       "$\\newcommand{$\\addiskhalodiffsig$}{2.9}$\n",
       "$\\newcommand{$\\addiskmixeddiffsig$}{2.5}$\n",
       "$\\newcommand{$\\adhalomrdiffsig$}{1.1}$\n",
       "$\\newcommand{$\\adhalomrdiffsig$rest}{1.7}$\n",
       "$\\newcommand{$\\addiskhalodiffsig$all}{1.6}$\n",
       "$\\newcommand{$\\fehphotmeddiskrgb$}{-0.19}$\n",
       "$\\newcommand{$\\fehphotmedmixedrgb$}{-0.16}$\n",
       "$\\newcommand{$\\fehphotmedhalorgb$}{-0.41}$\n",
       "$\\newcommand{$\\fehphotmeddiskagb$}{-0.07}$\n",
       "$\\newcommand{$\\fehphotmedmixedagb$}{+0.14}$\n",
       "$\\newcommand{$\\fehphotmedhaloagb$}{+0.01}$\n",
       "$\\newcommand{$\\verrmed$}{7.1}$\n",
       "$\\newcommand{$\\nblended$}{7}$\n",
       "$\\newcommand{$\\ngoodrv$}{247}$\n",
       "$\\newcommand{$\\meddeltaewna$}{2.5}$\n",
       "$\\newcommand{$\\nmembersplash$}{4930}$\n",
       "$\\newcommand{$\\meanewand$}{0.54}$\n",
       "$\\newcommand{$\\stdewand$}{1.00}$\n",
       "$\\newcommand{$\\meanewmw$}{2.27}$\n",
       "$\\newcommand{$\\stdewmw$}{1.96}$\n",
       "$\\newcommand{$\\percentnonasplash$}{51.6\\%}$\n",
       "$\\newcommand{$\\muhaloone$}{-258.2}$\n",
       "$\\newcommand{$\\muhalotwo$}{-268.7}$\n",
       "$\\newcommand{$\\muhalothree$}{-238.8}$\n",
       "$\\newcommand{$\\sighaloone$}{134.4}$\n",
       "$\\newcommand{$\\sighalotwo$}{135.3}$\n",
       "$\\newcommand{$\\sighalothree$}{117.5}$\n",
       "$\\newcommand{$\\percentdisksplash$}{70.9}$\n",
       "$\\newcommand{$\\percenthalosplash$}{17.1}$\n",
       "$\\newcommand{$\\percentmixedsplash$}{12.0}$\n",
       "$\\newcommand{$\\medradneone$}{6.3}$\n",
       "$\\newcommand{$\\medradnetwo$}{10.3}$\n",
       "$\\newcommand{$\\medradnethree$}{14.4}$\n",
       "$\\newcommand{$\\fehphotmedallrgb$}{-0.18}$\n",
       "$\\newcommand{$\\fehphotmedlowextrgb$}{-0.21}$\n",
       "$\\newcommand{$\\fehphotdiffagblowext$}{-0.01}$\n",
       "$\\newcommand{$\\fehphotdiffrgbcorr$}{-0.03}$\n",
       "$\\newcommand{$\\fehphotdiffagbcorr$}{-0.15}$\n",
       "$\\newcommand{$\\sigmaavmed$}{0.30}$\n",
       "$\\newcommand{$\\diskscaleheight$}{0.77}$\n",
       "$\\newcommand{$\\ngiantslowext$}{2706}$\n",
       "$\\newcommand{$\\nrgblowext$}{2080}$\n",
       "$\\newcommand{$\\fracoldagb$}{67.5\\%}$\n",
       "$\\newcommand{$\\nagbdustcorr$}{556}$\n",
       "$\\newcommand{$\\nrgbdustcorr$}{3536}$\n",
       "$\\newcommand{$\\fehphoterrmed$}{0.03}$\n",
       "$\\newcommand{$\\medrederr$}{0.004}$\n",
       "$\\newcommand{$\\medblueerr$}{0.015}$\n",
       "$\\newcommand{$\\difffehphotrgb$}{-0.22}$\n",
       "$\\newcommand{$\\difffehphotagb$}{+0.48}$\n",
       "$\\newcommand{$\\nrgbsplashmwcorr$}{3910}$\n",
       "$\\newcommand{$\\nrgbsplashmwcorr$rheb}{3389}$\n",
       "$\\newcommand{$\\ewna$}{EW_{\\rm Na}}$\n",
       "$\\newcommand{$\\fehphot$}{[Fe/H]_{\\rm phot}}$\n",
       "$\\newcommand{$\\loggphot$}{\\log g_{\\rm phot}}$\n",
       "$\\newcommand{$\\teffphot$}{T_{\\rm eff,phot}}$\n",
       "$\\newcommand{$\\logg$}{\\log g}$\n",
       "$\\newcommand{$\\teff$}{T_{\\rm eff}}$\n",
       "$\\newcommand{$\\feh$}{[Fe/H]}$\n",
       "$\\newcommand{$\\alphafe$}{[\\alpha/Fe]}$\n",
       "$\\newcommand{$\\vhelio$}{v_{\\rm helio}}$\n",
       "$\\newcommand{$\\rproj$}{R_{\\rm proj}}$\n",
       "$\\newcommand{$\\fehphot$init}{[Fe/H]_{\\rm phot, init}}$\n",
       "$\\newcommand{$\\fehphot$err}{\\delta[Fe/H]_{\\rm phot}}$\n",
       "$\\newcommand{$\\ewsum$}{\\Sigma{\\rm Ca}}$\n",
       "$\\newcommand{$\\feh$cat}{[Fe/H]_{\\rm spec}}$\n",
       "$\\newcommand{$\\avdal$}{A_{V, {\\rm Dal}}}$\n",
       "$\\newcommand{$\\sigav$}{\\sigma_V}$\n",
       "$\\newcommand{$\\fred$}{f_{\\rm red}}$\n",
       "$\\newcommand{$\\pdisk$}{p_{\\rm disk}}$\n",
       "$\\newcommand{$\\Msun$}{M_{\\odot}}$\n",
       "$\\newcommand{$\\kms$}{km s^{-1}}$</div>\n",
       "\n",
       "\n",
       "\n",
       "<div id=\"title\">\n",
       "\n",
       "# Resolved SPLASH Chemodynamics in Andromeda's PHAT Stellar Halo and Disk: On the Nature of the Inner Halo Along the Major Axis\n",
       "\n",
       "</div>\n",
       "<div id=\"comments\">\n",
       "\n",
       "[![arXiv](https://img.shields.io/badge/arXiv-2209.07962-b31b1b.svg)](https://arxiv.org/abs/2209.07962)<mark>Appeared on: 2022-09-19</mark> - _Submitted to AJ. Conclusions on page 20. 18 figures, 2 tables, 4 appendices_\n",
       "\n",
       "</div>\n",
       "<div id=\"authors\">\n",
       "\n",
       "Ivanna Escala, et al. -- incl., <mark><mark>Lara Cullinane</mark></mark>, <mark><mark>Benjamin F. Williams</mark></mark>\n",
       "\n",
       "</div>\n",
       "<div id=\"abstract\">\n",
       "\n",
       "**Abstract:** Stellar kinematics and metallicity are key to exploring formation scenarios for galactic disks and halos. In this work, we characterized the relationship between kinematics and photometric metallicityalong the line-of-sight to M31's disk.We combined optical HST/ACS photometry from the Panchromatic Hubble Andromeda Treasury (PHAT) survey with Keck/DEIMOSspectrafrom the Spectroscopic and Photometric Landscape of Andromeda's Stellar Halo (SPLASH) survey. The resulting sample of$\\nrgbdustcorr$individual red giant branch stars spans 4--19 projected kpc, making it a useful probe of both the disk and inner halo.We separated these stars into disk and halo populations by modeling the line-of-sight velocity distributions as a function of position across the disk region, where$\\percentdisksplash$\\%stars have a high likelihood of belonging to the disk and$\\percenthalosplash$\\%to the halo. Although stellar halos are typically thought to be metal-poor, the kinematically identified halo contains a significant population of stars ($\\fracpkickfid$)with disk-like metallicity ($\\fehphot$$\\sim$\\fehphotdiskrgbmr).This metal-rich halo population lags the gaseous disk to a similar extent as the rest of the halo, indicating that it does not correspond to a canonical thick disk. Itsproperties are inconsistent with those of tidal debris originating from the Giant Stellar Stream merger event.Moreover, the halo is chemically distinct from the phase-mixed component previously identified along the minor axis (i.e., away from the disk), implying contributions from different formation channels. These metal-rich halo stars provide direct chemodynamicalevidence in favor of the previously suggested \"kicked-up\" disk population in M31's inner stellar halo.\n",
       "\n",
       "</div>\n",
       "\n",
       "<div id=\"div_fig1\">\n",
       "\n",
       "<img src=\"tmp_2209.07962/figures/splash_mdf_rgb_lowextinction_medianAv.png\" alt=\"Fig4\" width=\"100%\"/>\n",
       "\n",
       "**Figure 4. -** $\\fehphot$init distributions for all RGB stars (gray filled histogram) and RGB stars located in low extinction regions of the disk (black open histogram). We measured $\\fehphot$init using 4 Gyr PARSEC RGB isochrones on the foreground-reddening corrected optical CMD (Section \\ref{sec:phot_params}).\n",
       "    We define low extinction regions using $f_{\\rm red} \\times A_{V, {\\rm Dal}} < 0.25$(\\citealt{Gregersen2015}). The median $\\fehphot$init for all (low extinction) RGB stars is shown as a gray (black) arrow, where [Fe/H]$_{\\rm phot, init, med}$ = $\\fehphotmedallrgb$($\\fehphotmedlowextrgb$). This implies that most RGB stars in SPLASH are located in front of the dust layer and not significantly reddened.\n",
       "     (*fig:mdf_lowext*)\n",
       "\n",
       "</div>\n",
       "<div id=\"div_fig2\">\n",
       "\n",
       "<img src=\"tmp_2209.07962/figures/splash_membership_coloredbypna_v2.png\" alt=\"Fig8\" width=\"100%\"/>\n",
       "\n",
       "**Figure 8. -** \n",
       "    Membership determination for SPLASH targets with successful radial velocity measurements \\citep{Dorman2012,Dorman2015} along the line-of-sight to M31's disk (Section \\ref{sec:members}). (Left) Foreground-extinction-corrected (F475W, F814W) PHAT v2 CMD (\\citealt{Dalcanton2012,Williams2014}; Section \\ref{sec:phot}, \\ref{sec:zinit}) for stars with (colored points) and without (grey points) Na I $\\lambda$8190 doublet equivalent width ($\\ewna$) measurements. We show 12 Gyr PARSEC RGB isochrones \\citep{Marigo2017} with $\\fehphot$ = $-2.0, -1.5, -1.0, -0.5$, 0 for reference, assuming $m-M = 24.45 \\pm 0.05$\\citep{Dalcanton2012}.\n",
       "    Stars with $p_{\\rm Na} \\leq 0.25$, which are $\\geq$3 times more likely to belong to the MW foreground than M31, are classified as non-members. We also exclude stars with colors bluer than the most metal-poor RGB isochrone. (Right) $\\ewna$ versus heliocentric velocity ($\\vhelio$).\n",
       "    We show the median uncertainty in $\\ewna$($\\delta$\\ewna = $\\meddeltaewna$\\AA) as a gray errorbar.\n",
       "    Stars with $p_{\\rm Na} \\leq 0.25$ preferentially have blue colors or lie above the TRGB and have more positive $\\vhelio$, all of which are properties characteristic of MW foreground dwarfs.\n",
       "     (*fig:members*)\n",
       "\n",
       "</div>\n",
       "<div id=\"div_fig3\">\n",
       "\n",
       "<img src=\"tmp_2209.07962/figures/ne3_vmodel.png\" alt=\"Fig9\" width=\"100%\"/>\n",
       "\n",
       "**Figure 9. -** Heliocentric velocity distributions for region R3 (Section \\ref{sec:disk_regions}). From left to right, the panels show the velocity distribution in each subregion (grey histograms; Figure \\ref{fig:disk_regions}; Table \\ref{tab:vmodel}), where R3$_1$ straddles the major axis and R3$_4$ is the most distant from the major axis. We also show the fitted velocity model for each subregion (thick purple lines; Section \\ref{sec:disk_model}), which is composed of a stellar halo component \\citep{Dorman2012} with fixed mean and dispersion but variable fractional contribution (dotted blue lines) and a disk component (dashed green lines). Figures \\ref{fig:ne1} and \\ref{fig:ne2} show the velocity distributions and models for R1 and R2. In general, the trends between the disk component velocity and $\\Delta$P.A.\\@ follow that expected for an inclined rotating disk, approaching M31's systemic velocity ($-300$\\kms) with increasing $\\Delta$P.A. \\citep{Dorman2012}. The stellar halo component also becomes more dominant with increasing $\\Delta$P.A.\\@ (*fig:ne3*)\n",
       "\n",
       "</div>"
      ],
      "text/plain": [
       "<IPython.core.display.Markdown object>"
      ]
     },
     "metadata": {},
     "output_type": "display_data"
    }
   ],
   "source": [
    "[display(Markdown(k[1])) for k in documents];"
   ]
  },
  {
   "cell_type": "markdown",
   "id": "873873a4",
   "metadata": {
    "papermill": {
     "duration": 0.01247,
     "end_time": "2022-09-19T05:24:01.223588",
     "exception": false,
     "start_time": "2022-09-19T05:24:01.211118",
     "status": "completed"
    },
    "tags": []
   },
   "source": [
    "# Create HTML index"
   ]
  },
  {
   "cell_type": "code",
   "execution_count": 10,
   "id": "cf665672",
   "metadata": {
    "execution": {
     "iopub.execute_input": "2022-09-19T05:24:01.247707Z",
     "iopub.status.busy": "2022-09-19T05:24:01.247078Z",
     "iopub.status.idle": "2022-09-19T05:24:01.256994Z",
     "shell.execute_reply": "2022-09-19T05:24:01.256017Z"
    },
    "papermill": {
     "duration": 0.024296,
     "end_time": "2022-09-19T05:24:01.259126",
     "exception": false,
     "start_time": "2022-09-19T05:24:01.234830",
     "status": "completed"
    },
    "tags": []
   },
   "outputs": [
    {
     "name": "stdout",
     "output_type": "stream",
     "text": [
      "35  publications in the last 7 days.\n",
      "\t _build/html/2209.07962.md\n",
      "\t _build/html/2209.07931.md\n",
      "\t _build/html/2209.06833.md\n",
      "\t _build/html/2209.05814.md\n",
      "\t _build/html/2209.05593.md\n",
      "\t _build/html/2209.04304.md\n",
      "\t _build/html/2209.03367.md\n",
      "\t _build/html/2209.02872.md\n",
      "\t _build/html/2209.02725.md\n",
      "\t _build/html/2209.02722.md\n",
      "\t _build/html/2209.02092.md\n",
      "\t _build/html/2209.01125.md\n",
      "\t _build/html/2209.00828.md\n",
      "\t _build/html/2209.00363.md\n",
      "\t _build/html/2208.14927.md\n",
      "\t _build/html/2208.09335.md\n",
      "\t _build/html/2208.08872.md\n",
      "\t _build/html/2204.06393.md\n",
      "\t _build/html/2204.03335.md\n",
      "\t _build/html/2204.03253.md\n",
      "\t _build/html/2204.02998.md\n",
      "\t _build/html/2204.02109.md\n",
      "\t _build/html/2204.02017.md\n",
      "\t _build/html/2204.01824.md\n",
      "\t _build/html/2204.01758.md\n",
      "\t _build/html/2204.01245.md\n",
      "\t _build/html/2204.00793.md\n",
      "\t _build/html/2204.00342.md\n",
      "\t _build/html/2203.16959.md\n",
      "\t _build/html/2203.16856.md\n",
      "\t _build/html/2203.16735.md\n",
      "\t _build/html/2203.16734.md\n",
      "\t _build/html/2203.16504.md\n",
      "\t _build/html/2203.15822.md\n",
      "\t _build/html/2203.15811.md\n"
     ]
    }
   ],
   "source": [
    "from datetime import datetime, timedelta, timezone\n",
    "from glob import glob\n",
    "\n",
    "files = glob('_build/html/*.md')\n",
    "days = 7\n",
    "now = datetime.today()\n",
    "res = []\n",
    "for fk in files:\n",
    "    stat_result = os.stat(fk).st_ctime\n",
    "    modified = datetime.fromtimestamp(stat_result, tz=timezone.utc).replace(tzinfo=None)\n",
    "    delta = now.today() - modified\n",
    "    if delta <= timedelta(days=days):\n",
    "        res.append((delta.seconds, fk))\n",
    "res = [k[1] for k in reversed(sorted(res, key=lambda x:x[1]))]\n",
    "npub = len(res)\n",
    "print(len(res), f\" publications in the last {days:d} days.\")\n",
    "[ print('\\t', k) for k in res ];"
   ]
  },
  {
   "cell_type": "code",
   "execution_count": 11,
   "id": "52ca0208",
   "metadata": {
    "execution": {
     "iopub.execute_input": "2022-09-19T05:24:01.282608Z",
     "iopub.status.busy": "2022-09-19T05:24:01.282076Z",
     "iopub.status.idle": "2022-09-19T05:24:01.288961Z",
     "shell.execute_reply": "2022-09-19T05:24:01.288282Z"
    },
    "papermill": {
     "duration": 0.020483,
     "end_time": "2022-09-19T05:24:01.290923",
     "exception": false,
     "start_time": "2022-09-19T05:24:01.270440",
     "status": "completed"
    },
    "scrolled": false,
    "tags": []
   },
   "outputs": [],
   "source": [
    "def create_carousel(npub=4):\n",
    "    \"\"\" Generate the HTML code for a carousel with `npub` slides \"\"\"\n",
    "    carousel = [\"\"\"<section class=\"carousel\" aria-label=\"Gallery\">\"\"\",\n",
    "                \"\"\"  <ol class=\"carousel__viewport\">\"\"\",\n",
    "    ]\n",
    "    for k in range(1, npub + 1):\n",
    "        prev_ = k - 1\n",
    "        next_ = k + 1\n",
    "        if prev_ <= 0:\n",
    "            prev_ = npub\n",
    "        if next_ > npub:\n",
    "            next_ = 1\n",
    "        text  = f\"\"\"    <li id=\"carousel__slide{k}\" tabindex=\"0\" class=\"carousel__slide\">\\n\"\"\"\n",
    "        text += f\"\"\"       <div class=\"carousel__snapper\">\\n\"\"\"\n",
    "        text += f\"\"\"         <a href=\"#carousel__slide{prev_}\" class=\"carousel__prev\">Go to previous slide</a>\\n\"\"\"\n",
    "        text += f\"\"\"         <a href=\"#carousel__slide{next_}\" class=\"carousel__next\">Go to next slide</a>\\n\"\"\"\n",
    "        text += f\"\"\"         <div id=\"slide{k}_content\" class=\"md_view\" >Content {k}</div>\\n\"\"\"\n",
    "        text += f\"\"\"       </div>\\n\"\"\"\n",
    "        text += f\"\"\"    </li>\"\"\"\n",
    "        carousel.append(text)\n",
    "\n",
    "    carousel.extend([\n",
    "        \"\"\"  </ol>\"\"\",\n",
    "        \"\"\"  <aside class=\"carousel__navigation\">\"\"\",\n",
    "        \"\"\"    <ol class=\"carousel__navigation-list\">\"\"\"])\n",
    "\n",
    "    for k in range(1, npub + 1):\n",
    "        text  = f\"\"\"      <li class=\"carousel__navigation-item\">\\n\"\"\"\n",
    "        text += f\"\"\"        <a href=\"#carousel__slide{k}\" class=\"carousel__navigation-button\">Go to {k}</a>\\n\"\"\"\n",
    "        text += f\"\"\"      </li>\"\"\"\n",
    "        carousel.append(text)\n",
    "    carousel.extend([\"\"\"    </ol>\"\"\", \"\"\"  </aside>\"\"\", \"\"\"</section>\"\"\"])\n",
    "\n",
    "    return '\\n'.join(carousel)"
   ]
  },
  {
   "cell_type": "code",
   "execution_count": 12,
   "id": "a6eac5b6",
   "metadata": {
    "execution": {
     "iopub.execute_input": "2022-09-19T05:24:01.312948Z",
     "iopub.status.busy": "2022-09-19T05:24:01.312616Z",
     "iopub.status.idle": "2022-09-19T05:24:01.320653Z",
     "shell.execute_reply": "2022-09-19T05:24:01.319705Z"
    },
    "papermill": {
     "duration": 0.02167,
     "end_time": "2022-09-19T05:24:01.322549",
     "exception": false,
     "start_time": "2022-09-19T05:24:01.300879",
     "status": "completed"
    },
    "scrolled": false,
    "tags": []
   },
   "outputs": [],
   "source": [
    "carousel = create_carousel(npub)\n",
    "docs = ', '.join(['\"{0:s}\"'.format(k.split('/')[-1]) for k in res])\n",
    "slides = ', '.join([f'\"slide{k}_content\"' for k in range(1, npub + 1)])\n",
    "\n",
    "script = f\"\"\"\n",
    "const docs = [{docs}]\n",
    "\n",
    "const slides = [{slides}]\n",
    "\"\"\" + \"\"\"\n",
    "async function run() {\n",
    "    for (let i = 0; i < docs.length; i++) {\n",
    "        let file = await fetch(docs[i]);\n",
    "        let text = await file.text()\n",
    "        document.getElementById(slides[i]).innerHTML =\n",
    "            marked.parse(text);\n",
    "    }\n",
    "    hljs.highlightAll();\n",
    "}\n",
    "run()\n",
    "\"\"\"\n",
    "\n",
    "page = f\"\"\"<!doctype html>\n",
    "<html lang=\"en\">\n",
    "\n",
    "<head>\n",
    "  <meta charset=\"utf-8\">\n",
    "  <meta name=\"viewport\" content=\"width=device-width, initial-scale=1\">\n",
    "  <!-- Bootstrap CSS -->\n",
    "  <link href=\"https://cdn.jsdelivr.net/npm/bootstrap@5.0.2/dist/css/bootstrap.min.css\" rel=\"stylesheet\"\n",
    "   integrity=\"sha384-EVSTQN3/azprG1Anm3QDgpJLIm9Nao0Yz1ztcQTwFspd3yD65VohhpuuCOmLASjC\" crossorigin=\"anonymous\">\n",
    "  <!-- highlight.js CSS -->\n",
    "  <link rel=\"stylesheet\" href=\"https://cdnjs.cloudflare.com/ajax/libs/highlight.js/11.1.0/styles/default.min.css\">\n",
    "  <!-- Mathjax 3 -->\n",
    "  <script type=\"text/javascript\" id=\"MathJax-config\" src=\"mathjax_config.js\"> </script>\n",
    "  <script type=\"text/javascript\" id=\"MathJax-script\" async \n",
    "    src=\"https://cdn.jsdelivr.net/npm/mathjax@3/es5/tex-mml-chtml.js\">\n",
    "  </script>\n",
    "  <link rel=\"stylesheet\" href=\"index_carousel.css\">\n",
    "  <link rel=\"icon\" type=\"image/x-icon\" href=\"https://www.mpia.de/assets/touch-icon-32x32-a66937bcebc4e8894ebff1f41a366c7c7220fd97a38869ee0f2db65a9f59b6c1.png\">\n",
    "  <title>MPIA Arxiv on deck!</title>\n",
    "</head>\n",
    "\n",
    "<body>\n",
    "  <div id=\"header\"> <img src=\"header_banner.png\" width=\"100%\"></div>\n",
    "  <div id=\"suptitle\"> 7-day archives </div>\n",
    "  <div id=\"info\">\n",
    "    <img src=\"https://pngimg.com/uploads/github/github_PNG58.png\" height=30rem></img>\n",
    "    <a href=https://github.com/mpi-astronomy/arxiv_display style=\"color:black;\">github/mpi-astronomy/arxiv_display</a> \n",
    "  </div>\n",
    "  {carousel:s}\n",
    "</body>\n",
    "\n",
    "<!-- Render Markdown -->\n",
    "\n",
    "<body>\n",
    "  <!-- highlight.js: https://highlightjs.org/download/ -->\n",
    "  <script src=\"https://cdnjs.cloudflare.com/ajax/libs/highlight.js/11.5.0/highlight.min.js\"></script>\n",
    "  <!-- marked.js -->\n",
    "  <script src=\"https://cdn.jsdelivr.net/npm/marked/marked.min.js\"></script>\n",
    "  <script>{script:s}</script>\n",
    "</body>\n",
    "</html>\n",
    "\"\"\"\n",
    "with open(\"_build/html/index_7days.html\", 'w') as fout:\n",
    "    fout.write(page)"
   ]
  },
  {
   "cell_type": "markdown",
   "id": "1cebacbc",
   "metadata": {
    "papermill": {
     "duration": 0.010428,
     "end_time": "2022-09-19T05:24:01.344032",
     "exception": false,
     "start_time": "2022-09-19T05:24:01.333604",
     "status": "completed"
    },
    "tags": []
   },
   "source": [
    "# Debugging papers"
   ]
  },
  {
   "cell_type": "raw",
   "id": "debe7cc6",
   "metadata": {
    "papermill": {
     "duration": 0.010959,
     "end_time": "2022-09-19T05:24:01.364875",
     "exception": false,
     "start_time": "2022-09-19T05:24:01.353916",
     "status": "completed"
    },
    "tags": []
   },
   "source": [
    "raise NotImplementedError(\"Manual Stop\")"
   ]
  },
  {
   "cell_type": "raw",
   "id": "eb169192",
   "metadata": {
    "papermill": {
     "duration": 0.010402,
     "end_time": "2022-09-19T05:24:01.386327",
     "exception": false,
     "start_time": "2022-09-19T05:24:01.375925",
     "status": "completed"
    },
    "scrolled": true,
    "tags": []
   },
   "source": [
    "from IPython.display import display, Markdown\n",
    "from TexSoup import TexSoup\n",
    "import re\n",
    "\n",
    "def bracket_error(source: str):\n",
    "    \"\"\" Find problematic portions of the document \"\"\"\n",
    "    \n",
    "    print(\"len(source)\", len(source))\n",
    "    \n",
    "    # Checking header\n",
    "    begin_doc = next(re.finditer(r'\\\\begin\\{document\\}', doc.source)).span()[1]\n",
    "    header = source[:begin_doc]\n",
    "    text = header + r\"\\n\\end{document}\"\n",
    "\n",
    "    try:\n",
    "        # print(\"Header check... \", end='')\n",
    "        TexSoup(text)\n",
    "        display(Markdown(f\"**[OK]** - Header\"))\n",
    "    except:\n",
    "        raise RuntimeError(\"Error in the header\")\n",
    "        \n",
    "    # Check the text per section until the end.\n",
    "    # Do not stop and try them all.\n",
    "    \n",
    "    problematic_text = []\n",
    "    \n",
    "    sections = ([(0, begin_doc, 'until first section')] + \n",
    "                [(g.span()[0], g.span()[1], g.group()) for g in re.finditer(r'\\\\section\\{.*\\}', source)] +\n",
    "                [(g.span()[0], g.span()[1], g.group()) for g in re.finditer(r'\\\\begin\\{appendix\\}', source)]\n",
    "               )\n",
    "    sections.append([len(source), len(source), 'end'])\n",
    "    \n",
    "    sections = sorted(sections, key=lambda x: x[0])\n",
    "    \n",
    "    prev_pos, prev_name = (0, 'header')\n",
    "    parsed = []\n",
    "    \n",
    "    for span, span_end, name in sections:\n",
    "\n",
    "        if span - prev_pos <= 0:\n",
    "            continue\n",
    "            \n",
    "\n",
    "        text = source[prev_pos:span]\n",
    "        if prev_pos > begin_doc:\n",
    "            text = r\"\\n\\begin{document}\" + text + r\"\\n\\end{document}\"\n",
    "        else:\n",
    "            text = text + r\"\\n\\end{document}\"\n",
    "        try:\n",
    "            #print(f\"{prev_pos}:{prev_name}-->{span}:{name} check... \", end='')\n",
    "            parsed.append(TexSoup(text, tolerance=1))  # allow not ending env\n",
    "            display(Markdown(f\"**[OK]** - *{prev_pos}*:{prev_name} &rarr; *{span}*:{name}\"))\n",
    "            # print(\"ok\")\n",
    "\n",
    "            prev_pos = span\n",
    "            prev_name = name\n",
    "        except:\n",
    "            # print(f\"error between {prev_pos} and {span}\")\n",
    "            display(Markdown(f\"**[ERR]** *{prev_pos}*:{prev_name} &rarr; *{span}*:{name}\"))\n",
    "            problematic_text.append((prev_pos, source[prev_pos:span]))\n",
    "            prev_pos = span\n",
    "            prev_name = name\n",
    "            # raise\n",
    "    return problematic_text, parsed\n",
    "\n",
    "\n",
    "def check_environment(text, offset=0):\n",
    "    \"\"\" Check environment \"\"\"\n",
    "    env = re.compile(r\"\\\\begin\\{(?P<env>.*)\\}(.*)\\\\end\\{(?P=env)\\}\", re.DOTALL)\n",
    "\n",
    "    for match in env.finditer(text):\n",
    "        beg, end = match.span()\n",
    "        beg += offset\n",
    "        end += offset\n",
    "        envname = match.groups()[0]\n",
    "        try:\n",
    "            latex.TexSoup(match.group())\n",
    "        except Exception as e:\n",
    "            display(e)\n",
    "            print(f\"Error in {envname:s} between {beg} and {end}\")\n",
    "            return match.groups()[1], beg, end"
   ]
  },
  {
   "cell_type": "raw",
   "id": "2315e835",
   "metadata": {
    "papermill": {
     "duration": 0.010565,
     "end_time": "2022-09-19T05:24:01.407839",
     "exception": false,
     "start_time": "2022-09-19T05:24:01.397274",
     "status": "completed"
    },
    "scrolled": false,
    "tags": []
   },
   "source": [
    "import importlib\n",
    "importlib.reload(latex)\n",
    "which = \"2204.03253\"\n",
    "paper_id = f'{which:s}'\n",
    "folder = f'tmp_{paper_id:s}'\n",
    "\n",
    "if not os.path.isdir(folder):\n",
    "    folder = retrieve_document_source(f\"{paper_id}\", f'tmp_{paper_id}')\n",
    "\n",
    "try:\n",
    "    doc = latex.LatexDocument(folder, validation=validation)    \n",
    "except AffiliationError as affilerror:\n",
    "    msg = f\"ArXiv:{paper_id:s} is not an MPIA paper... \" + str(affilerror)\n",
    "    print(msg)\n",
    "\n",
    "\n",
    "# Hack because sometimes author parsing does not work well\n",
    "if (len(doc.authors) != len(paper['authors'])):\n",
    "    doc._authors = paper['authors']\n",
    "if (doc.abstract) in (None, ''):\n",
    "    doc._abstract = paper['abstract']\n",
    "\n",
    "doc.comment = get_markdown_badge(paper_id) + \" _\" + paper['comments'] + \"_\"\n",
    "doc.highlight_authors_in_list(hl_list)\n",
    "\n",
    "full_md = doc.generate_markdown_text()"
   ]
  },
  {
   "cell_type": "raw",
   "id": "dd3781db",
   "metadata": {
    "papermill": {
     "duration": 0.01225,
     "end_time": "2022-09-19T05:24:01.431934",
     "exception": false,
     "start_time": "2022-09-19T05:24:01.419684",
     "status": "completed"
    },
    "scrolled": false,
    "tags": []
   },
   "source": [
    "doc"
   ]
  },
  {
   "cell_type": "raw",
   "id": "c6eed834",
   "metadata": {
    "papermill": {
     "duration": 0.011717,
     "end_time": "2022-09-19T05:24:01.455386",
     "exception": false,
     "start_time": "2022-09-19T05:24:01.443669",
     "status": "completed"
    },
    "tags": []
   },
   "source": [
    "# [check_environment(k) for k in bracket_error(doc.source)]\n",
    "_, _, a = latex.get_content_per_section(doc.source, verbose=True)\n",
    "if not a:\n",
    "    print(\"no issues per section\")\n",
    "for ak in a:\n",
    "    r = check_environment(ak[1], offset=ak[0])\n",
    "    print(r[1], r[2])\n",
    "    print(r[0])"
   ]
  },
  {
   "cell_type": "code",
   "execution_count": null,
   "id": "71ce768a",
   "metadata": {
    "papermill": {
     "duration": 0.011418,
     "end_time": "2022-09-19T05:24:01.478358",
     "exception": false,
     "start_time": "2022-09-19T05:24:01.466940",
     "status": "completed"
    },
    "tags": []
   },
   "outputs": [],
   "source": []
  }
 ],
 "metadata": {
  "kernelspec": {
   "display_name": "Python 3.10.6 64-bit",
   "language": "python",
   "name": "python3"
  },
  "language_info": {
   "codemirror_mode": {
    "name": "ipython",
    "version": 3
   },
   "file_extension": ".py",
   "mimetype": "text/x-python",
   "name": "python",
   "nbconvert_exporter": "python",
   "pygments_lexer": "ipython3",
   "version": "3.9.13"
  },
  "papermill": {
   "default_parameters": {},
   "duration": 201.478468,
   "end_time": "2022-09-19T05:24:01.708211",
   "environment_variables": {},
   "exception": null,
   "input_path": "MPIA daily digest.ipynb",
   "output_path": "log.ipynb",
   "parameters": {},
   "start_time": "2022-09-19T05:20:40.229743",
   "version": "2.4.0"
  },
  "vscode": {
   "interpreter": {
    "hash": "e7370f93d1d0cde622a1f8e1c04877d8463912d04d973331ad4851f04de6915a"
   }
  },
  "widgets": {
   "application/vnd.jupyter.widget-state+json": {
    "state": {
     "0823d417eeef41a48f041033c0bcd85d": {
      "model_module": "@jupyter-widgets/base",
      "model_module_version": "2.0.0",
      "model_name": "LayoutModel",
      "state": {
       "_model_module": "@jupyter-widgets/base",
       "_model_module_version": "2.0.0",
       "_model_name": "LayoutModel",
       "_view_count": null,
       "_view_module": "@jupyter-widgets/base",
       "_view_module_version": "2.0.0",
       "_view_name": "LayoutView",
       "align_content": null,
       "align_items": null,
       "align_self": null,
       "border_bottom": null,
       "border_left": null,
       "border_right": null,
       "border_top": null,
       "bottom": null,
       "display": null,
       "flex": null,
       "flex_flow": null,
       "grid_area": null,
       "grid_auto_columns": null,
       "grid_auto_flow": null,
       "grid_auto_rows": null,
       "grid_column": null,
       "grid_gap": null,
       "grid_row": null,
       "grid_template_areas": null,
       "grid_template_columns": null,
       "grid_template_rows": null,
       "height": null,
       "justify_content": null,
       "justify_items": null,
       "left": null,
       "margin": null,
       "max_height": null,
       "max_width": null,
       "min_height": null,
       "min_width": null,
       "object_fit": null,
       "object_position": null,
       "order": null,
       "overflow": null,
       "padding": null,
       "right": null,
       "top": null,
       "visibility": null,
       "width": null
      }
     },
     "1a5af24099a74b7a99633df70445f608": {
      "model_module": "@jupyter-widgets/controls",
      "model_module_version": "2.0.0",
      "model_name": "HTMLStyleModel",
      "state": {
       "_model_module": "@jupyter-widgets/controls",
       "_model_module_version": "2.0.0",
       "_model_name": "HTMLStyleModel",
       "_view_count": null,
       "_view_module": "@jupyter-widgets/base",
       "_view_module_version": "2.0.0",
       "_view_name": "StyleView",
       "background": null,
       "description_width": "",
       "font_size": null,
       "text_color": null
      }
     },
     "1f34d6ec57244223b48723548429a8a3": {
      "model_module": "@jupyter-widgets/base",
      "model_module_version": "2.0.0",
      "model_name": "LayoutModel",
      "state": {
       "_model_module": "@jupyter-widgets/base",
       "_model_module_version": "2.0.0",
       "_model_name": "LayoutModel",
       "_view_count": null,
       "_view_module": "@jupyter-widgets/base",
       "_view_module_version": "2.0.0",
       "_view_name": "LayoutView",
       "align_content": null,
       "align_items": null,
       "align_self": null,
       "border_bottom": null,
       "border_left": null,
       "border_right": null,
       "border_top": null,
       "bottom": null,
       "display": null,
       "flex": null,
       "flex_flow": null,
       "grid_area": null,
       "grid_auto_columns": null,
       "grid_auto_flow": null,
       "grid_auto_rows": null,
       "grid_column": null,
       "grid_gap": null,
       "grid_row": null,
       "grid_template_areas": null,
       "grid_template_columns": null,
       "grid_template_rows": null,
       "height": null,
       "justify_content": null,
       "justify_items": null,
       "left": null,
       "margin": null,
       "max_height": null,
       "max_width": null,
       "min_height": null,
       "min_width": null,
       "object_fit": null,
       "object_position": null,
       "order": null,
       "overflow": null,
       "padding": null,
       "right": null,
       "top": null,
       "visibility": null,
       "width": null
      }
     },
     "28ccb77935204b38a6590e8f444c6c29": {
      "model_module": "@jupyter-widgets/base",
      "model_module_version": "2.0.0",
      "model_name": "LayoutModel",
      "state": {
       "_model_module": "@jupyter-widgets/base",
       "_model_module_version": "2.0.0",
       "_model_name": "LayoutModel",
       "_view_count": null,
       "_view_module": "@jupyter-widgets/base",
       "_view_module_version": "2.0.0",
       "_view_name": "LayoutView",
       "align_content": null,
       "align_items": null,
       "align_self": null,
       "border_bottom": null,
       "border_left": null,
       "border_right": null,
       "border_top": null,
       "bottom": null,
       "display": null,
       "flex": null,
       "flex_flow": null,
       "grid_area": null,
       "grid_auto_columns": null,
       "grid_auto_flow": null,
       "grid_auto_rows": null,
       "grid_column": null,
       "grid_gap": null,
       "grid_row": null,
       "grid_template_areas": null,
       "grid_template_columns": null,
       "grid_template_rows": null,
       "height": null,
       "justify_content": null,
       "justify_items": null,
       "left": null,
       "margin": null,
       "max_height": null,
       "max_width": null,
       "min_height": null,
       "min_width": null,
       "object_fit": null,
       "object_position": null,
       "order": null,
       "overflow": null,
       "padding": null,
       "right": null,
       "top": null,
       "visibility": null,
       "width": null
      }
     },
     "85ef77399a8d4895ad3a8b204186843d": {
      "model_module": "@jupyter-widgets/controls",
      "model_module_version": "2.0.0",
      "model_name": "FloatProgressModel",
      "state": {
       "_dom_classes": [],
       "_model_module": "@jupyter-widgets/controls",
       "_model_module_version": "2.0.0",
       "_model_name": "FloatProgressModel",
       "_view_count": null,
       "_view_module": "@jupyter-widgets/controls",
       "_view_module_version": "2.0.0",
       "_view_name": "ProgressView",
       "bar_style": "success",
       "description": "",
       "description_allow_html": false,
       "layout": "IPY_MODEL_0823d417eeef41a48f041033c0bcd85d",
       "max": 16.0,
       "min": 0.0,
       "orientation": "horizontal",
       "style": "IPY_MODEL_b6d0a1e2d8154e42b539080fdb572abe",
       "tabbable": null,
       "tooltip": null,
       "value": 16.0
      }
     },
     "8bdcaf88f52a48a38a3b36b547c80bea": {
      "model_module": "@jupyter-widgets/controls",
      "model_module_version": "2.0.0",
      "model_name": "HBoxModel",
      "state": {
       "_dom_classes": [],
       "_model_module": "@jupyter-widgets/controls",
       "_model_module_version": "2.0.0",
       "_model_name": "HBoxModel",
       "_view_count": null,
       "_view_module": "@jupyter-widgets/controls",
       "_view_module_version": "2.0.0",
       "_view_name": "HBoxView",
       "box_style": "",
       "children": [
        "IPY_MODEL_8de56c47f8384fb7a6b847d633454fd7",
        "IPY_MODEL_85ef77399a8d4895ad3a8b204186843d",
        "IPY_MODEL_93d6eb02f389442dbe3f08700f050feb"
       ],
       "layout": "IPY_MODEL_1f34d6ec57244223b48723548429a8a3",
       "tabbable": null,
       "tooltip": null
      }
     },
     "8de56c47f8384fb7a6b847d633454fd7": {
      "model_module": "@jupyter-widgets/controls",
      "model_module_version": "2.0.0",
      "model_name": "HTMLModel",
      "state": {
       "_dom_classes": [],
       "_model_module": "@jupyter-widgets/controls",
       "_model_module_version": "2.0.0",
       "_model_name": "HTMLModel",
       "_view_count": null,
       "_view_module": "@jupyter-widgets/controls",
       "_view_module_version": "2.0.0",
       "_view_name": "HTMLView",
       "description": "",
       "description_allow_html": false,
       "layout": "IPY_MODEL_f5863e51cb304546901fb22651f2b14c",
       "placeholder": "​",
       "style": "IPY_MODEL_df0baf1454aa452eaedab51655e942ee",
       "tabbable": null,
       "tooltip": null,
       "value": "100%"
      }
     },
     "93d6eb02f389442dbe3f08700f050feb": {
      "model_module": "@jupyter-widgets/controls",
      "model_module_version": "2.0.0",
      "model_name": "HTMLModel",
      "state": {
       "_dom_classes": [],
       "_model_module": "@jupyter-widgets/controls",
       "_model_module_version": "2.0.0",
       "_model_name": "HTMLModel",
       "_view_count": null,
       "_view_module": "@jupyter-widgets/controls",
       "_view_module_version": "2.0.0",
       "_view_name": "HTMLView",
       "description": "",
       "description_allow_html": false,
       "layout": "IPY_MODEL_28ccb77935204b38a6590e8f444c6c29",
       "placeholder": "​",
       "style": "IPY_MODEL_1a5af24099a74b7a99633df70445f608",
       "tabbable": null,
       "tooltip": null,
       "value": " 16/16 [02:54&lt;00:00, 31.95s/it]"
      }
     },
     "b6d0a1e2d8154e42b539080fdb572abe": {
      "model_module": "@jupyter-widgets/controls",
      "model_module_version": "2.0.0",
      "model_name": "ProgressStyleModel",
      "state": {
       "_model_module": "@jupyter-widgets/controls",
       "_model_module_version": "2.0.0",
       "_model_name": "ProgressStyleModel",
       "_view_count": null,
       "_view_module": "@jupyter-widgets/base",
       "_view_module_version": "2.0.0",
       "_view_name": "StyleView",
       "bar_color": null,
       "description_width": ""
      }
     },
     "df0baf1454aa452eaedab51655e942ee": {
      "model_module": "@jupyter-widgets/controls",
      "model_module_version": "2.0.0",
      "model_name": "HTMLStyleModel",
      "state": {
       "_model_module": "@jupyter-widgets/controls",
       "_model_module_version": "2.0.0",
       "_model_name": "HTMLStyleModel",
       "_view_count": null,
       "_view_module": "@jupyter-widgets/base",
       "_view_module_version": "2.0.0",
       "_view_name": "StyleView",
       "background": null,
       "description_width": "",
       "font_size": null,
       "text_color": null
      }
     },
     "f5863e51cb304546901fb22651f2b14c": {
      "model_module": "@jupyter-widgets/base",
      "model_module_version": "2.0.0",
      "model_name": "LayoutModel",
      "state": {
       "_model_module": "@jupyter-widgets/base",
       "_model_module_version": "2.0.0",
       "_model_name": "LayoutModel",
       "_view_count": null,
       "_view_module": "@jupyter-widgets/base",
       "_view_module_version": "2.0.0",
       "_view_name": "LayoutView",
       "align_content": null,
       "align_items": null,
       "align_self": null,
       "border_bottom": null,
       "border_left": null,
       "border_right": null,
       "border_top": null,
       "bottom": null,
       "display": null,
       "flex": null,
       "flex_flow": null,
       "grid_area": null,
       "grid_auto_columns": null,
       "grid_auto_flow": null,
       "grid_auto_rows": null,
       "grid_column": null,
       "grid_gap": null,
       "grid_row": null,
       "grid_template_areas": null,
       "grid_template_columns": null,
       "grid_template_rows": null,
       "height": null,
       "justify_content": null,
       "justify_items": null,
       "left": null,
       "margin": null,
       "max_height": null,
       "max_width": null,
       "min_height": null,
       "min_width": null,
       "object_fit": null,
       "object_position": null,
       "order": null,
       "overflow": null,
       "padding": null,
       "right": null,
       "top": null,
       "visibility": null,
       "width": null
      }
     }
    },
    "version_major": 2,
    "version_minor": 0
   }
  }
 },
 "nbformat": 4,
 "nbformat_minor": 5
}