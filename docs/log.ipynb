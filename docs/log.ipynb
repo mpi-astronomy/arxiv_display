{
 "cells": [
  {
   "cell_type": "markdown",
   "id": "92bcb855",
   "metadata": {
    "papermill": {
     "duration": 0.003868,
     "end_time": "2025-04-22T04:12:03.918788",
     "exception": false,
     "start_time": "2025-04-22T04:12:03.914920",
     "status": "completed"
    },
    "tags": []
   },
   "source": [
    "# MPIA Arxiv on Deck 2\n",
    "\n",
    "Contains the steps to produce the paper extractions."
   ]
  },
  {
   "cell_type": "code",
   "execution_count": 1,
   "id": "3a0d6e11",
   "metadata": {
    "execution": {
     "iopub.execute_input": "2025-04-22T04:12:03.926432Z",
     "iopub.status.busy": "2025-04-22T04:12:03.925933Z",
     "iopub.status.idle": "2025-04-22T04:12:04.549167Z",
     "shell.execute_reply": "2025-04-22T04:12:04.548485Z"
    },
    "papermill": {
     "duration": 0.628466,
     "end_time": "2025-04-22T04:12:04.550532",
     "exception": false,
     "start_time": "2025-04-22T04:12:03.922066",
     "status": "completed"
    },
    "tags": []
   },
   "outputs": [],
   "source": [
    "# Imports\n",
    "import os\n",
    "from IPython.display import Markdown, display\n",
    "from tqdm.notebook import tqdm\n",
    "import warnings\n",
    "from PIL import Image \n",
    "import re\n",
    "\n",
    "# requires arxiv_on_deck_2\n",
    "\n",
    "from arxiv_on_deck_2.arxiv2 import (get_new_papers, \n",
    "                                    get_paper_from_identifier,\n",
    "                                    retrieve_document_source, \n",
    "                                    get_markdown_badge)\n",
    "from arxiv_on_deck_2 import (latex,\n",
    "                             latex_bib,\n",
    "                             mpia,\n",
    "                             highlight_authors_in_list)\n",
    "\n",
    "# Sometimes images are really big\n",
    "Image.MAX_IMAGE_PIXELS = 1000000000 "
   ]
  },
  {
   "cell_type": "code",
   "execution_count": 2,
   "id": "22aa9d44",
   "metadata": {
    "execution": {
     "iopub.execute_input": "2025-04-22T04:12:04.558193Z",
     "iopub.status.busy": "2025-04-22T04:12:04.557690Z",
     "iopub.status.idle": "2025-04-22T04:12:04.565846Z",
     "shell.execute_reply": "2025-04-22T04:12:04.565286Z"
    },
    "papermill": {
     "duration": 0.013075,
     "end_time": "2025-04-22T04:12:04.566896",
     "exception": false,
     "start_time": "2025-04-22T04:12:04.553821",
     "status": "completed"
    },
    "tags": []
   },
   "outputs": [],
   "source": [
    "# Some useful definitions.\n",
    "\n",
    "class AffiliationWarning(UserWarning):\n",
    "    pass\n",
    "\n",
    "class AffiliationError(RuntimeError):\n",
    "    pass\n",
    "\n",
    "def validation(source: str):\n",
    "    \"\"\"Raises error paper during parsing of source file\n",
    "    \n",
    "    Allows checks before parsing TeX code.\n",
    "    \n",
    "    Raises AffiliationWarning\n",
    "    \"\"\"\n",
    "    check = mpia.affiliation_verifications(source, verbose=True)\n",
    "    if check is not True:\n",
    "        raise AffiliationError(\"mpia.affiliation_verifications: \" + check)\n",
    "\n",
    "        \n",
    "warnings.simplefilter('always', AffiliationWarning)\n",
    "\n",
    "\n",
    "def get_markdown_qrcode(paper_id: str):\n",
    "    \"\"\" Generate a qrcode to the arxiv page using qrserver.com\n",
    "    \n",
    "    :param paper: Arxiv paper\n",
    "    :returns: markdown text\n",
    "    \"\"\"\n",
    "    url = r\"https://api.qrserver.com/v1/create-qr-code/?size=100x100&data=\"\n",
    "    txt = f\"\"\"<img src={url}\"https://arxiv.org/abs/{paper_id}\">\"\"\"\n",
    "    txt = '<div id=\"qrcode\">' + txt + '</div>'\n",
    "    return txt\n",
    "\n",
    "\n",
    "def clean_non_western_encoded_characters_commands(text: str) -> str:\n",
    "    \"\"\" Remove non-western encoded characters from a string\n",
    "    List may need to grow.\n",
    "    \n",
    "    :param text: the text to clean\n",
    "    :return: the cleaned text\n",
    "    \"\"\"\n",
    "    text = re.sub(r\"(\\\\begin{CJK}{UTF8}{gbsn})(.*?)(\\\\end{CJK})\", r\"\\2\", text)\n",
    "    return text\n",
    "\n",
    "\n",
    "def get_initials(name: str) -> str:\n",
    "    \"\"\" Get the short name, e.g., A.-B. FamName\n",
    "    :param name: full name\n",
    "    :returns: initials\n",
    "    \"\"\"\n",
    "    initials = []\n",
    "    # account for non western names often in ()\n",
    "    if '(' in name:\n",
    "        name = clean_non_western_encoded_characters_commands(name)\n",
    "        suffix = re.findall(r\"\\((.*?)\\)\", name)[0]\n",
    "        name = name.replace(f\"({suffix})\", '')\n",
    "    else:\n",
    "        suffix = ''\n",
    "    split = name.split()\n",
    "    for token in split[:-1]:\n",
    "        if '-' in token:\n",
    "            current = '-'.join([k[0] + '.' for k in token.split('-')])\n",
    "        else:\n",
    "            current = token[0] + '.'\n",
    "        initials.append(current)\n",
    "    initials.append(split[-1].strip())\n",
    "    if suffix:\n",
    "        initials.append(f\"({suffix})\")\n",
    "    return ' '.join(initials)"
   ]
  },
  {
   "cell_type": "markdown",
   "id": "14bd6310",
   "metadata": {
    "papermill": {
     "duration": 0.002914,
     "end_time": "2025-04-22T04:12:04.572809",
     "exception": false,
     "start_time": "2025-04-22T04:12:04.569895",
     "status": "completed"
    },
    "tags": []
   },
   "source": [
    "## get list of arxiv paper candidates\n",
    "\n",
    "We use the MPIA mitarbeiter list webpage from mpia.de to get author names\n",
    "We then get all new papers from Arxiv and match authors"
   ]
  },
  {
   "cell_type": "code",
   "execution_count": 3,
   "id": "7ea813a8",
   "metadata": {
    "execution": {
     "iopub.execute_input": "2025-04-22T04:12:04.579765Z",
     "iopub.status.busy": "2025-04-22T04:12:04.579317Z",
     "iopub.status.idle": "2025-04-22T04:12:25.334379Z",
     "shell.execute_reply": "2025-04-22T04:12:25.333695Z"
    },
    "papermill": {
     "duration": 20.759978,
     "end_time": "2025-04-22T04:12:25.335726",
     "exception": false,
     "start_time": "2025-04-22T04:12:04.575748",
     "status": "completed"
    },
    "tags": []
   },
   "outputs": [],
   "source": [
    "# deal with the author list and edge cases of people that cannot be consistent on their name  \n",
    "\n",
    "def filter_non_scientists(name: str) -> bool:\n",
    "    \"\"\" Loose filter on expected authorships\n",
    "\n",
    "    removing IT, administration, technical staff\n",
    "    :param name: name\n",
    "    :returns: False if name is not a scientist\n",
    "    \"\"\"\n",
    "    remove_list = ['Licht', 'Binroth', 'Witzel', 'Jordan',\n",
    "                   'Zähringer', 'Scheerer', 'Hoffmann', 'Düe',\n",
    "                   'Hellmich', 'Enkler-Scharpegge', 'Witte-Nguy',\n",
    "                   'Dehen', 'Beckmann', 'Jager', 'Jäger'\n",
    "                  ]\n",
    "\n",
    "    for k in remove_list:\n",
    "        if k in name:\n",
    "            return False\n",
    "    return True\n",
    "\n",
    "def add_author_to_list(author_list: list) -> list:\n",
    "    \"\"\" Add author to list if not already in list\n",
    "    \n",
    "    :param author: author name\n",
    "    :param author_list: list of authors\n",
    "    :returns: updated list of authors\n",
    "    \"\"\"\n",
    "    add_list = ['T. Henning']\n",
    "\n",
    "    for author in add_list:\n",
    "        if author not in author_list:\n",
    "            author_list.append(author)\n",
    "    return author_list\n",
    "\n",
    "# get list from MPIA website\n",
    "# filter for non-scientists (mpia.get_mpia_mitarbeiter_list() does some filtering)\n",
    "mpia_authors = [k[1] for k in mpia.get_mpia_mitarbeiter_list() if filter_non_scientists(k[1])]\n",
    "# add some missing author because of inconsistencies in their MPIA name and author name on papers\n",
    "mpia_authors = add_author_to_list(mpia_authors)"
   ]
  },
  {
   "cell_type": "code",
   "execution_count": 4,
   "id": "2645e73a",
   "metadata": {
    "execution": {
     "iopub.execute_input": "2025-04-22T04:12:25.343354Z",
     "iopub.status.busy": "2025-04-22T04:12:25.342864Z",
     "iopub.status.idle": "2025-04-22T04:12:26.117353Z",
     "shell.execute_reply": "2025-04-22T04:12:26.116730Z"
    },
    "papermill": {
     "duration": 0.779332,
     "end_time": "2025-04-22T04:12:26.118434",
     "exception": false,
     "start_time": "2025-04-22T04:12:25.339102",
     "status": "completed"
    },
    "tags": []
   },
   "outputs": [
    {
     "name": "stdout",
     "output_type": "stream",
     "text": [
      "D. M. Fuksman  ->  D. M. Fuksman  |  ['D. M. Fuksman']\n",
      "M. Flock  ->  M. Flock  |  ['M. Flock']\n",
      "H. Klahr  ->  H. Klahr  |  ['H. Klahr']\n",
      "G. Mattia  ->  G. Mattia  |  ['G. Mattia']\n",
      "D. Muley  ->  D. Muley  |  ['D. Muley']\n",
      "X. Zhang  ->  X. Zhang  |  ['X. Zhang']\n",
      "J. Liu  ->  J. Liu  |  ['J. Liu']\n",
      "J. Shi  ->  J. Shi  |  ['J. Shi']\n",
      "X. Zhang  ->  X. Zhang  |  ['X. Zhang']\n"
     ]
    },
    {
     "name": "stdout",
     "output_type": "stream",
     "text": [
      "Arxiv has 82 new papers today\n",
      "          4 with possible author matches\n"
     ]
    }
   ],
   "source": [
    "new_papers = get_new_papers()\n",
    "# add manual references\n",
    "add_paper_refs = []\n",
    "new_papers.extend([get_paper_from_identifier(k) for k in add_paper_refs])\n",
    "\n",
    "def robust_call(fn, value, *args, **kwargs):\n",
    "    try:\n",
    "        return fn(value, *args, **kwargs)\n",
    "    except Exception:\n",
    "        return value\n",
    "\n",
    "candidates = []\n",
    "for paperk in new_papers:\n",
    "    # Check author list with their initials\n",
    "    normed_author_list = [robust_call(mpia.get_initials, k) for k in paperk['authors']]\n",
    "    hl_authors = highlight_authors_in_list(normed_author_list, mpia_authors, verbose=True)\n",
    "    matches = [(hl, orig) for hl, orig in zip(hl_authors, paperk['authors']) if 'mark' in hl]\n",
    "    paperk['authors'] = hl_authors\n",
    "    if matches:\n",
    "        # only select paper if an author matched our list\n",
    "        candidates.append(paperk)\n",
    "print(\"\"\"Arxiv has {0:,d} new papers today\"\"\".format(len(new_papers)))        \n",
    "print(\"\"\"          {0:,d} with possible author matches\"\"\".format(len(candidates)))"
   ]
  },
  {
   "cell_type": "markdown",
   "id": "3543b34a",
   "metadata": {
    "papermill": {
     "duration": 0.003158,
     "end_time": "2025-04-22T04:12:26.125156",
     "exception": false,
     "start_time": "2025-04-22T04:12:26.121998",
     "status": "completed"
    },
    "tags": []
   },
   "source": [
    "# Parse sources and generate relevant outputs\n",
    "\n",
    "From the candidates, we do the following steps:\n",
    "* get their tarball from ArXiv (and extract data)\n",
    "* find the main .tex file: find one with \\documentclass{...} (sometimes it's non trivial)\n",
    "* Check affiliations with :func:`validation`, which uses :func:`mpia.affiliation_verifications`\n",
    "* If passing the affiliations: we parse the .tex source\n",
    "   * inject sub-documents into the main (flatten the main document)\n",
    "   * parse structure, extract information (title, abstract, authors, figures...)\n",
    "   * handles `\\graphicspath` if provided\n",
    "* Generate the .md document."
   ]
  },
  {
   "cell_type": "code",
   "execution_count": 5,
   "id": "9576b79e",
   "metadata": {
    "execution": {
     "iopub.execute_input": "2025-04-22T04:12:26.132443Z",
     "iopub.status.busy": "2025-04-22T04:12:26.132006Z",
     "iopub.status.idle": "2025-04-22T04:13:05.378767Z",
     "shell.execute_reply": "2025-04-22T04:13:05.377994Z"
    },
    "papermill": {
     "duration": 39.251671,
     "end_time": "2025-04-22T04:13:05.379879",
     "exception": false,
     "start_time": "2025-04-22T04:12:26.128208",
     "status": "completed"
    },
    "scrolled": false,
    "tags": []
   },
   "outputs": [
    {
     "data": {
      "application/vnd.jupyter.widget-view+json": {
       "model_id": "429f6ac5d61a4a7a91d2cca799d8d9ba",
       "version_major": 2,
       "version_minor": 0
      },
      "text/plain": [
       "  0%|          | 0/4 [00:00<?, ?it/s]"
      ]
     },
     "metadata": {},
     "output_type": "display_data"
    },
    {
     "name": "stdout",
     "output_type": "stream",
     "text": [
      "Retrieving document from  https://arxiv.org/e-print/2504.13999\n"
     ]
    },
    {
     "name": "stdout",
     "output_type": "stream",
     "text": [
      "extracting tarball to tmp_2504.13999..."
     ]
    },
    {
     "name": "stdout",
     "output_type": "stream",
     "text": [
      " done.\n"
     ]
    },
    {
     "name": "stdout",
     "output_type": "stream",
     "text": [
      "D. M. Fuksman  ->  D. M. Fuksman  |  ['D. M. Fuksman']\n",
      "M. Flock  ->  M. Flock  |  ['M. Flock']\n",
      "H. Klahr  ->  H. Klahr  |  ['H. Klahr']\n",
      "G. Mattia  ->  G. Mattia  |  ['G. Mattia']\n",
      "D. Muley  ->  D. Muley  |  ['D. Muley']\n"
     ]
    },
    {
     "name": "stdout",
     "output_type": "stream",
     "text": [
      "Found 71 bibliographic references in tmp_2504.13999/ms_combined.bbl.\n",
      "Retrieving document from  https://arxiv.org/e-print/2504.14180\n"
     ]
    },
    {
     "name": "stdout",
     "output_type": "stream",
     "text": [
      "extracting tarball to tmp_2504.14180..."
     ]
    },
    {
     "name": "stdout",
     "output_type": "stream",
     "text": [
      " done.\n",
      "  0: tmp_2504.14180/main.tex, 1,052 lines\n",
      "  1: tmp_2504.14180/reference.tex, 8 lines\n",
      "Retrieving document from  https://arxiv.org/e-print/2504.14836\n"
     ]
    },
    {
     "name": "stderr",
     "output_type": "stream",
     "text": [
      "/opt/hostedtoolcache/Python/3.9.22/x64/lib/python3.9/site-packages/IPython/core/interactiveshell.py:3550: LatexWarning: Multiple tex files.\n",
      "\n",
      "  exec(code_obj, self.user_global_ns, self.user_ns)\n",
      "/opt/hostedtoolcache/Python/3.9.22/x64/lib/python3.9/site-packages/IPython/core/interactiveshell.py:3550: LatexWarning: Found 2 candidates with documentclass definition.\n",
      "  exec(code_obj, self.user_global_ns, self.user_ns)\n",
      "/opt/hostedtoolcache/Python/3.9.22/x64/lib/python3.9/site-packages/IPython/core/interactiveshell.py:3550: LatexWarning: Assuming tmp_2504.14180/main.tex as main document.\n",
      "  exec(code_obj, self.user_global_ns, self.user_ns)\n",
      "/opt/hostedtoolcache/Python/3.9.22/x64/lib/python3.9/site-packages/arxiv_on_deck_2/latex.py:414: LatexWarning: Latex injecting: 'main.bbl' from 'tmp_2504.14180/main.tex'\n",
      "  warnings.warn(LatexWarning(f\"Latex injecting: '{ext}' from '{subsource}'\"))\n"
     ]
    },
    {
     "name": "stdout",
     "output_type": "stream",
     "text": [
      "extracting tarball to tmp_2504.14836..."
     ]
    },
    {
     "name": "stdout",
     "output_type": "stream",
     "text": [
      " done.\n",
      "Retrieving document from  https://arxiv.org/e-print/2504.15086\n"
     ]
    },
    {
     "name": "stdout",
     "output_type": "stream",
     "text": [
      "extracting tarball to tmp_2504.15086... done.\n"
     ]
    }
   ],
   "source": [
    "documents = []\n",
    "failed = []\n",
    "for paper in tqdm(candidates):\n",
    "    # debug crap\n",
    "    paper['identifier'] = paper['identifier'].lower().replace('arxiv:', '').replace(r'\\n', '').strip()\n",
    "    paper_id = paper['identifier']\n",
    "    \n",
    "    folder = f'tmp_{paper_id}'\n",
    "\n",
    "    try:\n",
    "        if not os.path.isdir(folder):\n",
    "            folder = retrieve_document_source(f\"{paper_id}\", f'tmp_{paper_id}')\n",
    "        \n",
    "        try:\n",
    "            doc = latex.LatexDocument(folder, validation=validation)    \n",
    "        except AffiliationError as affilerror:\n",
    "            msg = f\"ArXiv:{paper_id:s} is not an MPIA paper... \" + str(affilerror)\n",
    "            failed.append((paper, \"affiliation error: \" + str(affilerror) ))\n",
    "            continue\n",
    "        \n",
    "        # Hack because sometimes author parsing does not work well\n",
    "        if (len(doc.authors) != len(paper['authors'])):\n",
    "            doc._authors = paper['authors']\n",
    "        else:\n",
    "            # highlight authors (FIXME: doc.highlight_authors)\n",
    "            # done on arxiv paper already\n",
    "            doc._authors = highlight_authors_in_list(\n",
    "                [get_initials(k) for k in doc.authors], \n",
    "                mpia_authors, verbose=True)\n",
    "        if (doc.abstract) in (None, ''):\n",
    "            doc._abstract = paper['abstract']\n",
    "            \n",
    "        doc.comment = (get_markdown_badge(paper_id) + \n",
    "                       \"<mark>Appeared on: \" + paper['date'] + \"</mark> - \")\n",
    "        if paper['comments']:\n",
    "            doc.comment += \" _\" + paper['comments'] + \"_\"\n",
    "        \n",
    "        full_md = doc.generate_markdown_text()\n",
    "        \n",
    "        full_md += get_markdown_qrcode(paper_id)\n",
    "        \n",
    "        # replace citations\n",
    "        try:\n",
    "            bibdata = latex_bib.LatexBib.from_doc(doc)\n",
    "            full_md = latex_bib.replace_citations(full_md, bibdata)\n",
    "        except Exception as e:\n",
    "            print(\"Issues with the citations\")\n",
    "            print(e)\n",
    "        \n",
    "        documents.append((paper_id, full_md))\n",
    "    except Exception as e:\n",
    "        warnings.warn(latex.LatexWarning(f\"{paper_id:s} did not run properly\\n\" +\n",
    "                                         str(e)\n",
    "                                        ))\n",
    "        failed.append((paper, \"latex error \" + str(e)))"
   ]
  },
  {
   "cell_type": "markdown",
   "id": "2505a25c",
   "metadata": {
    "papermill": {
     "duration": 0.003768,
     "end_time": "2025-04-22T04:13:05.387678",
     "exception": false,
     "start_time": "2025-04-22T04:13:05.383910",
     "status": "completed"
    },
    "tags": []
   },
   "source": [
    "### Export the logs\n",
    "\n",
    "Throughout, we also keep track of the logs per paper. see `logs-{today date}.md` "
   ]
  },
  {
   "cell_type": "code",
   "execution_count": 6,
   "id": "d733828a",
   "metadata": {
    "execution": {
     "iopub.execute_input": "2025-04-22T04:13:05.396577Z",
     "iopub.status.busy": "2025-04-22T04:13:05.395922Z",
     "iopub.status.idle": "2025-04-22T04:13:05.411325Z",
     "shell.execute_reply": "2025-04-22T04:13:05.410701Z"
    },
    "papermill": {
     "duration": 0.020938,
     "end_time": "2025-04-22T04:13:05.412413",
     "exception": false,
     "start_time": "2025-04-22T04:13:05.391475",
     "status": "completed"
    },
    "scrolled": false,
    "tags": []
   },
   "outputs": [
    {
     "data": {
      "text/markdown": [
       "## Successful papers"
      ],
      "text/plain": [
       "<IPython.core.display.Markdown object>"
      ]
     },
     "metadata": {},
     "output_type": "display_data"
    },
    {
     "data": {
      "text/markdown": [
       "\n",
       "|||\n",
       "|---:|:---|\n",
       "| [![arXiv](https://img.shields.io/badge/arXiv-2504.13999-b31b1b.svg)](https://arxiv.org/abs/2504.13999) | **Multidimensional half-moment multigroup radiative transfer. Improving moment-based thermal models of circumstellar disks**  |\n",
       "|| <mark>D. M. Fuksman</mark>, <mark>M. Flock</mark>, <mark>H. Klahr</mark>, <mark>G. Mattia</mark>, <mark>D. Muley</mark> |\n",
       "|*Appeared on*| *2025-04-22*|\n",
       "|*Comments*| *Submitted to Astronomy & Astrophysics, comments welcome*|\n",
       "|**Abstract**|            Common radiative transfer methods, such as flux-limited diffusion (FLD) and the M1 closure, suffer from artificial interactions between crossing beams. In protoplanetary disks, this leads to an overestimation of the midplane temperature due to the merging of vertical inward and outward fluxes. Methods that avoid these artifacts typically require angular discretization, which can be computationally expensive. In the spirit of the two-stream approximation, we aim to remove the interaction between beams in a fixed spatial direction by introducing a half-moment (HM) closure, which integrates the radiative intensity over hemispheres. We derive a multidimensional HM closure via entropy maximization and replace it with an approximate expression that closely matches it, coinciding in the diffusion and free-streaming regimes while remaining expressible through simple operations. We implement the HM and M1 closures via implicit-explicit (IMEX) schemes, including multiple frequency groups. We test these methods in numerical benchmarks, including computing the temperature in an irradiated disk around a T Tauri star, comparing the results with Monte Carlo (MC) radiative transfer simulations. The resulting HM closure tends to the correct limit in the diffusion regime and prevents interactions between crossing fluxes in a chosen spatial direction. In disk simulations with 22 frequency groups, the M1 closure disagrees with the MC midplane temperature by up to 21%, while HM reduces this discrepancy to 6%. Even with just 3 frequency groups, HM significantly outperforms M1, with maximum departures of 8% compared to M1's 23%.         |"
      ],
      "text/plain": [
       "[2504.13999] Multidimensional half-moment multigroup radiative transfer. Improving moment-based thermal models of circumstellar disks\n",
       "\t<mark>D. M. Fuksman</mark>, <mark>M. Flock</mark>, <mark>H. Klahr</mark>, <mark>G. Mattia</mark>, <mark>D. Muley</mark>"
      ]
     },
     "metadata": {},
     "output_type": "display_data"
    },
    {
     "data": {
      "text/markdown": [
       "## Failed papers"
      ],
      "text/plain": [
       "<IPython.core.display.Markdown object>"
      ]
     },
     "metadata": {},
     "output_type": "display_data"
    },
    {
     "data": {
      "text/markdown": [
       "\n",
       "|||\n",
       "|---:|:---|\n",
       "| [![arXiv](https://img.shields.io/badge/arXiv-2504.14180-b31b1b.svg)](https://arxiv.org/abs/2504.14180) | **Deep Neural Networks for Modeling Astrophysical Nuclear reacting flows**  |\n",
       "|| <mark>X. Zhang</mark>, et al. |\n",
       "|*Appeared on*| *2025-04-22*|\n",
       "|*Comments*| **|\n",
       "|**Abstract**|            In astrophysical simulations, nuclear reacting flows pose computational challenges due to the stiffness of reaction networks. We introduce neural network-based surrogate models using the DeePODE framework to enhance simulation efficiency while maintaining accuracy and robustness. Our method replaces conventional stiff ODE solvers with deep learning models trained through evolutionary Monte Carlo sampling from zero-dimensional simulation data, ensuring generalization across varied thermonuclear and hydrodynamic conditions. Tested on 3-species and 13-species reaction networks, the models achieve $\\lesssim 1\\%$ accuracy relative to semi-implicit numerical solutions and deliver a $\\sim 2.6\\times$ speedup on CPUs. A temperature-thresholded deployment strategy ensures stability in extreme conditions, sustaining neural network utilization above 75\\% in multi-dimensional simulations. These data-driven surrogates effectively mitigate stiffness constraints, offering a scalable approach for high-fidelity modeling of astrophysical nuclear reacting flows.         |\n",
       "|<p style=\"color:green\"> **ERROR** </p>| <p style=\"color:green\">affiliation error: mpia.affiliation_verifications: 'Heidelberg' keyword not found.</p> |"
      ],
      "text/plain": [
       "<IPython.core.display.Markdown object>"
      ]
     },
     "metadata": {},
     "output_type": "display_data"
    },
    {
     "data": {
      "text/markdown": [
       "\n",
       "|||\n",
       "|---:|:---|\n",
       "| [![arXiv](https://img.shields.io/badge/arXiv-2504.14836-b31b1b.svg)](https://arxiv.org/abs/2504.14836) | **Systematic search for blue hyper-velocity stars from LAMOST survey**  |\n",
       "|| Y. Sun, et al. -- incl., <mark>J. Liu</mark>, <mark>J. Shi</mark> |\n",
       "|*Appeared on*| *2025-04-22*|\n",
       "|*Comments*| *21 pages, 11 figures, accepted for publication in APJ*|\n",
       "|**Abstract**|            Hypervelocity stars (HVSs) represent a unique class of objects capable of escaping the gravitational pull of the Milky Way due to extreme acceleration events, such as close encounters with the supermassive black hole at the Galactic center (GC), supernova explosions in binary systems, or multi-body dynamical interactions. Finding and studying HVSs are crucial to exploring these ejection mechanisms, characterizing central black holes, probing the GC environment, and revealing the distribution of dark matter in our galaxy. The Large Sky Area Multi-Object Fiber Spectroscopic Telescope (LAMOST) spectroscopic surveys have so far identified four B-type unbound HVSs. To expand this sample with the second-phase LAMOST survey that started in 2018, we conducted a systematic search for early-type HVSs using the LAMOST Data Release 10. We identified 125 early-type high-velocity candidates with total velocities exceeding 300 km\\,s$^{-1}$. Among them, we report ten new unbound B- and A-type hypervelocity star (HVS) candidates (designated LAMOST-HVS5 through LAMOST-HVS14), tripling the number of unbound HVSs previously identified by LAMOST. Kinematic analyses suggest that these newly discovered HVS candidates likely originated either from the Galactic Center or via dynamical interactions. Future high-resolution follow-up observations promise to refine the stellar parameters, distances, and elemental abundances of these candidates, thereby providing deeper insights into their origins and broadening their potential applications across astrophysics.         |\n",
       "|<p style=\"color:green\"> **ERROR** </p>| <p style=\"color:green\">affiliation error: mpia.affiliation_verifications: 'Heidelberg' keyword not found.</p> |"
      ],
      "text/plain": [
       "<IPython.core.display.Markdown object>"
      ]
     },
     "metadata": {},
     "output_type": "display_data"
    },
    {
     "data": {
      "text/markdown": [
       "\n",
       "|||\n",
       "|---:|:---|\n",
       "| [![arXiv](https://img.shields.io/badge/arXiv-2504.15086-b31b1b.svg)](https://arxiv.org/abs/2504.15086) | **Configuration Requirements for 21-cm Forest Background Quasar Searches with the Moon-based Interferometer**  |\n",
       "|| S. Zhang, Q. Niu, Y. Li, <mark>X. Zhang</mark> |\n",
       "|*Appeared on*| *2025-04-22*|\n",
       "|*Comments*| *8 pages, 5 figures*|\n",
       "|**Abstract**|            The 21-cm forest offers a powerful cosmological probe of the thermal history and small-scale structure of the intergalactic medium during the Epoch of Reionization (EoR). Its success, however, critically depends on the availability of high-redshift radio-loud quasars (HzRLQs) as background sources. In this work, we investigate the configuration requirements for a Moon-based low-frequency radio interferometer aimed at maximizing the detection of HzRLQs for future 21-cm forest studies. Building upon a previously developed quasar luminosity function (QLF), we forecast HzRLQ abundances under various array configurations. Assuming a total survey area of $10^4\\,\\mathrm{deg}^2$ and 1 year of observation, we compare continuum surveys with 10 MHz bandwidth and 21-cm forest surveys with 5 kHz resolution. Our results show that a minimum collecting area of $\\sim$6 500 m$^2$ enables detection at $z \\sim 6$, while SKA-like arrays ($N_{\\mathrm{st}} = 512$) extend the detection limit to $z \\sim 10$ for 21-cm forest survey and $z \\sim 16$ for continuum survey. Larger arrays with $N_{\\mathrm{st}} = 2048$ can reach $z \\sim 11$ in 21-cm forest mode. We also explore configurations that maintain fixed collecting areas while increasing the number to enhance survey efficiency. This boosts source detection but significantly increases the data volume and computational demands. These results underscore the importance of optimizing array design for different survey goals and balancing sensitivity, spectral resolution, and data management. A well-designed Moon-based array could open a new observational window on reionization and early cosmic structure formation.         |\n",
       "|<p style=\"color:green\"> **ERROR** </p>| <p style=\"color:green\">affiliation error: mpia.affiliation_verifications: 'Heidelberg' keyword not found.</p> |"
      ],
      "text/plain": [
       "<IPython.core.display.Markdown object>"
      ]
     },
     "metadata": {},
     "output_type": "display_data"
    }
   ],
   "source": [
    "import datetime\n",
    "today = str(datetime.date.today())\n",
    "logfile = f\"_build/html/logs/log-{today}.md\"\n",
    "\n",
    "\n",
    "with open(logfile, 'w') as logs:\n",
    "    # Success\n",
    "    logs.write(f'# Arxiv on Deck 2: Logs - {today}\\n\\n')\n",
    "    logs.write(\"\"\"* Arxiv had {0:,d} new papers\\n\"\"\".format(len(new_papers)))\n",
    "    logs.write(\"\"\"    * {0:,d} with possible author matches\\n\\n\"\"\".format(len(candidates)))\n",
    "    logs.write(\"## Sucessful papers\\n\\n\")\n",
    "    display(Markdown(\"## Successful papers\"))\n",
    "    success = [k[0] for k in documents]\n",
    "    for candid in candidates:\n",
    "        if candid['identifier'].split(':')[-1] in success:\n",
    "            display(candid)\n",
    "            logs.write(candid.generate_markdown_text() + '\\n\\n')\n",
    "\n",
    "    ## failed\n",
    "    logs.write(\"## Failed papers\\n\\n\")\n",
    "    display(Markdown(\"## Failed papers\"))\n",
    "    failed = sorted(failed, key=lambda x: x[1])\n",
    "    current_reason = \"\"\n",
    "    for paper, reason in failed:\n",
    "        if 'affiliation' in reason:\n",
    "            color = 'green'\n",
    "        else:\n",
    "            color = 'red'\n",
    "        data = Markdown(\n",
    "                paper.generate_markdown_text() + \n",
    "                f'\\n|<p style=\"color:{color:s}\"> **ERROR** </p>| <p style=\"color:{color:s}\">{reason:s}</p> |'\n",
    "               )\n",
    "        if reason != current_reason:\n",
    "            logs.write(f'### {reason:s} \\n\\n')\n",
    "            current_reason = reason\n",
    "        logs.write(data.data + '\\n\\n')\n",
    "        \n",
    "        # only display here the important errors (all in logs)\n",
    "        # if color in ('red',):\n",
    "        display(data)"
   ]
  },
  {
   "cell_type": "markdown",
   "id": "472d20ee",
   "metadata": {
    "papermill": {
     "duration": 0.004335,
     "end_time": "2025-04-22T04:13:05.421088",
     "exception": false,
     "start_time": "2025-04-22T04:13:05.416753",
     "status": "completed"
    },
    "tags": []
   },
   "source": [
    "## Export documents\n",
    "\n",
    "We now write the .md files and export relevant images"
   ]
  },
  {
   "cell_type": "code",
   "execution_count": 7,
   "id": "d426aed9",
   "metadata": {
    "execution": {
     "iopub.execute_input": "2025-04-22T04:13:05.430686Z",
     "iopub.status.busy": "2025-04-22T04:13:05.430325Z",
     "iopub.status.idle": "2025-04-22T04:13:05.437107Z",
     "shell.execute_reply": "2025-04-22T04:13:05.436460Z"
    },
    "papermill": {
     "duration": 0.012791,
     "end_time": "2025-04-22T04:13:05.438177",
     "exception": false,
     "start_time": "2025-04-22T04:13:05.425386",
     "status": "completed"
    },
    "tags": []
   },
   "outputs": [],
   "source": [
    "def export_markdown_summary(md: str, md_fname:str, directory: str):\n",
    "    \"\"\"Export MD document and associated relevant images\"\"\"\n",
    "    import os\n",
    "    import shutil\n",
    "    import re\n",
    "\n",
    "    if (os.path.exists(directory) and not os.path.isdir(directory)):\n",
    "        raise RuntimeError(f\"a non-directory file exists with name {directory:s}\")\n",
    "\n",
    "    if (not os.path.exists(directory)):\n",
    "        print(f\"creating directory {directory:s}\")\n",
    "        os.mkdir(directory)\n",
    "\n",
    "    fig_fnames = (re.compile(r'\\[Fig.*\\]\\((.*)\\)').findall(md) + \n",
    "                  re.compile(r'\\<img src=\"([^>\\s]*)\"[^>]*/>').findall(md))\n",
    "    print(\"found figures\", fig_fnames)\n",
    "    for fname in fig_fnames:\n",
    "        if 'http' in fname:\n",
    "            # No need to copy online figures\n",
    "            continue\n",
    "        if not os.path.exists(fname):\n",
    "            print(\"file not found\", fname)\n",
    "            continue\n",
    "        print(\"copying \", fname, \"to\", directory)\n",
    "        destdir = os.path.join(directory, os.path.dirname(fname))\n",
    "        destfname = os.path.join(destdir, os.path.basename(fname))\n",
    "        try:\n",
    "            os.makedirs(destdir)\n",
    "        except FileExistsError:\n",
    "            pass\n",
    "        shutil.copy(fname, destfname)\n",
    "    with open(os.path.join(directory, md_fname), 'w') as fout:\n",
    "        fout.write(md)\n",
    "    print(\"exported in \", os.path.join(directory, md_fname))\n",
    "    [print(\"    + \" + os.path.join(directory,fk)) for fk in fig_fnames]"
   ]
  },
  {
   "cell_type": "code",
   "execution_count": 8,
   "id": "014d04a4",
   "metadata": {
    "execution": {
     "iopub.execute_input": "2025-04-22T04:13:05.447745Z",
     "iopub.status.busy": "2025-04-22T04:13:05.447378Z",
     "iopub.status.idle": "2025-04-22T04:13:05.453941Z",
     "shell.execute_reply": "2025-04-22T04:13:05.453295Z"
    },
    "papermill": {
     "duration": 0.012433,
     "end_time": "2025-04-22T04:13:05.454959",
     "exception": false,
     "start_time": "2025-04-22T04:13:05.442526",
     "status": "completed"
    },
    "tags": []
   },
   "outputs": [
    {
     "name": "stdout",
     "output_type": "stream",
     "text": [
      "found figures ['tmp_2504.13999/./beams_combined.png', 'tmp_2504.13999/./shadow_limiting.png', 'tmp_2504.13999/./Disk_FpEp_v2.png']\n",
      "copying  tmp_2504.13999/./beams_combined.png to _build/html/\n",
      "copying  tmp_2504.13999/./shadow_limiting.png to _build/html/\n",
      "copying  tmp_2504.13999/./Disk_FpEp_v2.png to _build/html/\n",
      "exported in  _build/html/2504.13999.md\n",
      "    + _build/html/tmp_2504.13999/./beams_combined.png\n",
      "    + _build/html/tmp_2504.13999/./shadow_limiting.png\n",
      "    + _build/html/tmp_2504.13999/./Disk_FpEp_v2.png\n"
     ]
    }
   ],
   "source": [
    "for paper_id, md in documents:\n",
    "    export_markdown_summary(md, f\"{paper_id:s}.md\", '_build/html/')"
   ]
  },
  {
   "cell_type": "markdown",
   "id": "f087a0a7",
   "metadata": {
    "papermill": {
     "duration": 0.004358,
     "end_time": "2025-04-22T04:13:05.464217",
     "exception": false,
     "start_time": "2025-04-22T04:13:05.459859",
     "status": "completed"
    },
    "tags": []
   },
   "source": [
    "## Display the papers\n",
    "\n",
    "Not necessary but allows for a quick check."
   ]
  },
  {
   "cell_type": "code",
   "execution_count": 9,
   "id": "fd25f625",
   "metadata": {
    "execution": {
     "iopub.execute_input": "2025-04-22T04:13:05.474201Z",
     "iopub.status.busy": "2025-04-22T04:13:05.473679Z",
     "iopub.status.idle": "2025-04-22T04:13:05.478195Z",
     "shell.execute_reply": "2025-04-22T04:13:05.477690Z"
    },
    "papermill": {
     "duration": 0.010489,
     "end_time": "2025-04-22T04:13:05.479111",
     "exception": false,
     "start_time": "2025-04-22T04:13:05.468622",
     "status": "completed"
    },
    "scrolled": false,
    "tags": []
   },
   "outputs": [
    {
     "data": {
      "text/markdown": [
       "<div class=\"macros\" style=\"visibility:hidden;\">\n",
       "$\\newcommand{\\ensuremath}{}$\n",
       "$\\newcommand{\\xspace}{}$\n",
       "$\\newcommand{\\object}[1]{\\texttt{#1}}$\n",
       "$\\newcommand{\\farcs}{{.}''}$\n",
       "$\\newcommand{\\farcm}{{.}'}$\n",
       "$\\newcommand{\\arcsec}{''}$\n",
       "$\\newcommand{\\arcmin}{'}$\n",
       "$\\newcommand{\\ion}[2]{#1#2}$\n",
       "$\\newcommand{\\textsc}[1]{\\textrm{#1}}$\n",
       "$\\newcommand{\\hl}[1]{\\textrm{#1}}$\n",
       "$\\newcommand{\\footnote}[1]{}$\n",
       "$\\newcommand{\\sftw}[1]{\\texttt{#1}}$\n",
       "$\\newcommand{\\RED}{\\color{red}}$\n",
       "$\\newcommand{\\BLACK}{\\color{black}}$\n",
       "$\\newcommand{\\BLUE}{\\color{blue}}$\n",
       "$\\newcommand{\\GREEN}{\\color{green1}}$\n",
       "$\\newcommand{\\DS}{\\displaystyle}$\n",
       "$\\newcommand{\\cF}{{\\cal F}}$\n",
       "$\\newcommand{\\cG}{{\\cal G}}$\n",
       "$\\newcommand{\\cR}{{\\cal R}}$\n",
       "$\\newcommand{\\cS}{{\\cal S}}$\n",
       "$\\newcommand{\\cU}{{\\cal U}}$\n",
       "$\\newcommand{\\cV}{{\\cal V}}$\n",
       "$\\newcommand{\\norm}[1]{ {\\left|\\left|{#1}\\right|\\right|}}$\n",
       "$\\newcommand{\\dmnote}[1]{{\\bf \\color{blue}[D.M.: #1]}}$\n",
       "$\\newcommand\\blue{#1}$\n",
       "$\\newcommand\\green{#1}$\n",
       "$\\newcommand\\red{#1}$</div>\n",
       "\n",
       "\n",
       "\n",
       "<div id=\"title\">\n",
       "\n",
       "# Multidimensional half-moment multigroup radiative transfer: Improving moment-based thermal models of circumstellar disks\n",
       "\n",
       "</div>\n",
       "<div id=\"comments\">\n",
       "\n",
       "[![arXiv](https://img.shields.io/badge/arXiv-2504.13999-b31b1b.svg)](https://arxiv.org/abs/2504.13999)<mark>Appeared on: 2025-04-22</mark> -  _Submitted to Astronomy & Astrophysics, comments welcome_\n",
       "\n",
       "</div>\n",
       "<div id=\"authors\">\n",
       "\n",
       "<mark>D. M. Fuksman</mark>, <mark>M. Flock</mark>, <mark>H. Klahr</mark>, <mark>G. Mattia</mark>, <mark>D. Muley</mark>\n",
       "\n",
       "</div>\n",
       "<div id=\"abstract\">\n",
       "\n",
       "**Abstract:** Common radiative transfer methods, such as flux-limited diffusion (FLD) and the M1 closure, suffer from artificial interactions between crossing beams. In protoplanetary disks, this leads to an overestimation of the midplane temperature due to the merging of vertical inward and outward fluxes. Methods that avoid these artifacts typically require angular discretization, which can be computationally expensive. In the spirit of the two-stream approximation, we aim to remove the interaction between beams in a fixed spatial direction by introducing a half-moment (HM) closure, which integrates the radiative intensity over hemispheres. We derived a multidimensional HM closure via entropy maximization and replaced this closure with an approximate expression that closely matches it, coinciding in the diffusion and free-streaming regimes while remaining expressible through simple operations.We implementedthe HM and M1 closures via implicit-explicit (IMEX) schemes,  including multiple frequency groups.We testedthese methods in numerical benchmarks, including computing the temperature in an irradiateddisk around a T Tauri star, comparing the results with Monte Carlo (MC) radiative transfer simulations. The resulting HM closure tends to the correct limit in the diffusion regime and prevents interactions between crossing fluxes in a chosen spatial direction.In disk simulations with 22 frequency groups, the M1 closure disagrees with the MC midplane temperature by up to $21\\%$ , while HM reduces this discrepancy to $6\\%$ . Even with just 3 frequency groups, HM significantly outperforms M1, with maximum departures of $8\\%$ compared to M1's $23\\%$ .\n",
       "\n",
       "</div>\n",
       "\n",
       "<div id=\"div_fig1\">\n",
       "\n",
       "<img src=\"tmp_2504.13999/./beams_combined.png\" alt=\"Fig2\" width=\"100%\"/>\n",
       "\n",
       "**Figure 2. -** Crossing beams advected with the M1 and HM closures. This test highlights how the HM closure removes the artificial interaction between crossing fluxes in selected directions. In the HM case, $\\hat{\\mathbf{d}}=\\hat{\\mathbf{x}}$ has been chosen as the splitting direction. Arrows indicate the directions of the injected beams.\n",
       " (*fig:crossing_beams*)\n",
       "\n",
       "</div>\n",
       "<div id=\"div_fig2\">\n",
       "\n",
       "<img src=\"tmp_2504.13999/./shadow_limiting.png\" alt=\"Fig6\" width=\"100%\"/>\n",
       "\n",
       "**Figure 6. -** Total energy density in the horizontal shadow test obtained with the M1 and HM closures. For the HM closure, distributions are shown for the cases where Eq. \\eqref{Eq:physlimit2} is not enforced, enforced via Eq. \\eqref{Eq:Fminv1}, and enforced via Eq. \\eqref{Eq:Fminv2}, in the second, third, and fourth panels from the top, respectively.\n",
       " (*fig:shadow*)\n",
       "\n",
       "</div>\n",
       "<div id=\"div_fig3\">\n",
       "\n",
       "<img src=\"tmp_2504.13999/./Disk_FpEp_v2.png\" alt=\"Fig12\" width=\"100%\"/>\n",
       "\n",
       "**Figure 12. -** \n",
       "Half-moment ($+$) flux and energy density at $r=1$ au for the highest-energy group in the disk tests with $N_g=3$, given in erg cm$^{-3}$. Solid and dotted lines correspond to solutions obtained with and without enforcing Eq. \\eqref{Eq:Fminv2}, respectively.\n",
       " (*fig:DiskFpEp*)\n",
       "\n",
       "</div><div id=\"qrcode\"><img src=https://api.qrserver.com/v1/create-qr-code/?size=100x100&data=\"https://arxiv.org/abs/2504.13999\"></div>"
      ],
      "text/plain": [
       "<IPython.core.display.Markdown object>"
      ]
     },
     "metadata": {},
     "output_type": "display_data"
    }
   ],
   "source": [
    "[display(Markdown(k[1])) for k in documents];"
   ]
  },
  {
   "cell_type": "markdown",
   "id": "873873a4",
   "metadata": {
    "papermill": {
     "duration": 0.004842,
     "end_time": "2025-04-22T04:13:05.488890",
     "exception": false,
     "start_time": "2025-04-22T04:13:05.484048",
     "status": "completed"
    },
    "tags": []
   },
   "source": [
    "# Create HTML index"
   ]
  },
  {
   "cell_type": "code",
   "execution_count": 10,
   "id": "cf665672",
   "metadata": {
    "execution": {
     "iopub.execute_input": "2025-04-22T04:13:05.498983Z",
     "iopub.status.busy": "2025-04-22T04:13:05.498745Z",
     "iopub.status.idle": "2025-04-22T04:13:05.508583Z",
     "shell.execute_reply": "2025-04-22T04:13:05.508075Z"
    },
    "papermill": {
     "duration": 0.016018,
     "end_time": "2025-04-22T04:13:05.509533",
     "exception": false,
     "start_time": "2025-04-22T04:13:05.493515",
     "status": "completed"
    },
    "tags": []
   },
   "outputs": [
    {
     "name": "stdout",
     "output_type": "stream",
     "text": [
      "449  publications files modified in the last 7 days.\n"
     ]
    }
   ],
   "source": [
    "from datetime import datetime, timedelta, timezone\n",
    "from glob import glob\n",
    "import os\n",
    "\n",
    "files = glob('_build/html/*.md')\n",
    "days = 7\n",
    "now = datetime.today()\n",
    "res = []\n",
    "for fk in files:\n",
    "    stat_result = os.stat(fk).st_ctime\n",
    "    modified = datetime.fromtimestamp(stat_result, tz=timezone.utc).replace(tzinfo=None)\n",
    "    delta = now.today() - modified\n",
    "    if delta <= timedelta(days=days):\n",
    "        res.append((delta.seconds, fk))\n",
    "res = [k[1] for k in reversed(sorted(res, key=lambda x:x[1]))]\n",
    "npub = len(res)\n",
    "print(len(res), f\" publications files modified in the last {days:d} days.\")\n",
    "# [ print('\\t', k) for k in res ];"
   ]
  },
  {
   "cell_type": "code",
   "execution_count": 11,
   "id": "015de740",
   "metadata": {
    "execution": {
     "iopub.execute_input": "2025-04-22T04:13:05.519696Z",
     "iopub.status.busy": "2025-04-22T04:13:05.519471Z",
     "iopub.status.idle": "2025-04-22T04:13:05.542153Z",
     "shell.execute_reply": "2025-04-22T04:13:05.541657Z"
    },
    "papermill": {
     "duration": 0.028884,
     "end_time": "2025-04-22T04:13:05.543153",
     "exception": false,
     "start_time": "2025-04-22T04:13:05.514269",
     "status": "completed"
    },
    "tags": []
   },
   "outputs": [
    {
     "name": "stdout",
     "output_type": "stream",
     "text": [
      "11  publications in the last 7 days.\n"
     ]
    }
   ],
   "source": [
    "import datetime\n",
    "from glob import glob\n",
    "\n",
    "def get_last_n_days(lst, days=1):\n",
    "    \"\"\" Get the documents from the last n days \"\"\"\n",
    "    sorted_lst = sorted(lst, key=lambda x: x[1], reverse=True)\n",
    "    for fname, date in sorted_lst:\n",
    "        if date >= str(datetime.date.today() - datetime.timedelta(days=days)):\n",
    "            yield fname\n",
    "\n",
    "def extract_appearance_dates(lst_file):\n",
    "    dates = []\n",
    "\n",
    "    def get_date(line):\n",
    "        return line\\\n",
    "            .split('Appeared on:')[-1]\\\n",
    "            .split('</mark>')[0].strip()\n",
    "\n",
    "    for fname in lst:\n",
    "        with open(fname, 'r') as f:\n",
    "            found_date = False\n",
    "            for line in f:\n",
    "                if not found_date:\n",
    "                    if \"Appeared on\" in line:\n",
    "                        found_date = True\n",
    "                        dates.append((fname, get_date(line)))\n",
    "                else:\n",
    "                    break\n",
    "    return dates\n",
    "\n",
    "from glob import glob\n",
    "lst = glob('_build/html/*md')\n",
    "days = 7\n",
    "dates = extract_appearance_dates(lst)\n",
    "res = list(get_last_n_days(dates, days))\n",
    "npub = len(res)\n",
    "print(len(res), f\" publications in the last {days:d} days.\")"
   ]
  },
  {
   "cell_type": "code",
   "execution_count": 12,
   "id": "52ca0208",
   "metadata": {
    "execution": {
     "iopub.execute_input": "2025-04-22T04:13:05.553685Z",
     "iopub.status.busy": "2025-04-22T04:13:05.553165Z",
     "iopub.status.idle": "2025-04-22T04:13:05.558106Z",
     "shell.execute_reply": "2025-04-22T04:13:05.557452Z"
    },
    "papermill": {
     "duration": 0.011212,
     "end_time": "2025-04-22T04:13:05.559104",
     "exception": false,
     "start_time": "2025-04-22T04:13:05.547892",
     "status": "completed"
    },
    "scrolled": false,
    "tags": []
   },
   "outputs": [],
   "source": [
    "def create_carousel(npub=4):\n",
    "    \"\"\" Generate the HTML code for a carousel with `npub` slides \"\"\"\n",
    "    carousel = [\"\"\"  <div class=\"carousel\" \"\"\",\n",
    "                \"\"\"       data-flickity='{ \"autoPlay\": 10000, \"adaptiveHeight\": true, \"resize\": true, \"wrapAround\": true, \"pauseAutoPlayOnHover\": true, \"groupCells\": 1 }' id=\"asyncTypeset\">\"\"\"\n",
    "                ]\n",
    "    \n",
    "    item_str = \"\"\"    <div class=\"carousel-cell\"> <div id=\"slide{k}\" class=\"md_view\">Content {k}</div> </div>\"\"\"\n",
    "    for k in range(1, npub + 1):\n",
    "        carousel.append(item_str.format(k=k))\n",
    "    carousel.append(\"  </div>\")\n",
    "    return '\\n'.join(carousel)\n",
    "\n",
    "def create_grid(npub=4):\n",
    "    \"\"\" Generate the HTML code for a flat grid with `npub` slides \"\"\"\n",
    "    grid = [\"\"\"  <div class=\"grid\"> \"\"\",\n",
    "                ]\n",
    "    \n",
    "    item_str = \"\"\"    <div class=\"grid-item\"> <div id=\"slide{k}\" class=\"md_view\">Content {k}</div> </div>\"\"\"\n",
    "    for k in range(1, npub + 1):\n",
    "        grid.append(item_str.format(k=k))\n",
    "    grid.append(\"  </div>\")\n",
    "    return '\\n'.join(grid)"
   ]
  },
  {
   "cell_type": "code",
   "execution_count": 13,
   "id": "a6eac5b6",
   "metadata": {
    "execution": {
     "iopub.execute_input": "2025-04-22T04:13:05.572148Z",
     "iopub.status.busy": "2025-04-22T04:13:05.571765Z",
     "iopub.status.idle": "2025-04-22T04:13:05.576880Z",
     "shell.execute_reply": "2025-04-22T04:13:05.576305Z"
    },
    "papermill": {
     "duration": 0.011472,
     "end_time": "2025-04-22T04:13:05.577838",
     "exception": false,
     "start_time": "2025-04-22T04:13:05.566366",
     "status": "completed"
    },
    "scrolled": false,
    "tags": []
   },
   "outputs": [],
   "source": [
    "carousel = create_carousel(npub)\n",
    "docs = ', '.join(['\"{0:s}\"'.format(k.split('/')[-1]) for k in res])\n",
    "slides = ', '.join([f'\"slide{k}\"' for k in range(1, npub + 1)])\n",
    "\n",
    "with open(\"daily_template.html\", \"r\") as tpl:\n",
    "    page = tpl.read()\n",
    "    page = page.replace(\"{%-- carousel:s --%}\", carousel)\\\n",
    "               .replace(\"{%-- suptitle:s --%}\",  \"7-day archives\" )\\\n",
    "               .replace(\"{%-- docs:s --%}\", docs)\\\n",
    "               .replace(\"{%-- slides:s --%}\", slides)\n",
    "    \n",
    "with open(\"_build/html/index_7days.html\", 'w') as fout:\n",
    "    fout.write(page)"
   ]
  },
  {
   "cell_type": "code",
   "execution_count": 14,
   "id": "adc1a1ec",
   "metadata": {
    "execution": {
     "iopub.execute_input": "2025-04-22T04:13:05.588462Z",
     "iopub.status.busy": "2025-04-22T04:13:05.588012Z",
     "iopub.status.idle": "2025-04-22T04:13:05.594840Z",
     "shell.execute_reply": "2025-04-22T04:13:05.594314Z"
    },
    "papermill": {
     "duration": 0.013061,
     "end_time": "2025-04-22T04:13:05.595763",
     "exception": false,
     "start_time": "2025-04-22T04:13:05.582702",
     "status": "completed"
    },
    "tags": []
   },
   "outputs": [
    {
     "name": "stdout",
     "output_type": "stream",
     "text": [
      "3  publications in the last day.\n"
     ]
    }
   ],
   "source": [
    "# redo for today\n",
    "days = 1\n",
    "res = list(get_last_n_days(dates, days))\n",
    "npub = len(res)\n",
    "print(len(res), f\" publications in the last day.\")\n",
    "\n",
    "carousel = create_carousel(npub)\n",
    "docs = ', '.join(['\"{0:s}\"'.format(k.split('/')[-1]) for k in res])\n",
    "slides = ', '.join([f'\"slide{k}\"' for k in range(1, npub + 1)])\n",
    "\n",
    "with open(\"daily_template.html\", \"r\") as tpl:\n",
    "    page = tpl.read()\n",
    "    page = page.replace(\"{%-- carousel:s --%}\", carousel)\\\n",
    "               .replace(\"{%-- suptitle:s --%}\",  \"Daily\" )\\\n",
    "               .replace(\"{%-- docs:s --%}\", docs)\\\n",
    "               .replace(\"{%-- slides:s --%}\", slides)\n",
    "    \n",
    "# print(carousel, docs, slides)\n",
    "# print(page)\n",
    "with open(\"_build/html/index_daily.html\", 'w') as fout:\n",
    "    fout.write(page)"
   ]
  },
  {
   "cell_type": "code",
   "execution_count": 15,
   "id": "00eece82",
   "metadata": {
    "execution": {
     "iopub.execute_input": "2025-04-22T04:13:05.606623Z",
     "iopub.status.busy": "2025-04-22T04:13:05.606226Z",
     "iopub.status.idle": "2025-04-22T04:13:05.612375Z",
     "shell.execute_reply": "2025-04-22T04:13:05.611854Z"
    },
    "papermill": {
     "duration": 0.01247,
     "end_time": "2025-04-22T04:13:05.613327",
     "exception": false,
     "start_time": "2025-04-22T04:13:05.600857",
     "status": "completed"
    },
    "scrolled": false,
    "tags": []
   },
   "outputs": [
    {
     "name": "stdout",
     "output_type": "stream",
     "text": [
      "6  6 publications selected.\n"
     ]
    }
   ],
   "source": [
    "# Create the flat grid of the last N papers (fixed number regardless of dates)\n",
    "from itertools import islice \n",
    "\n",
    "npub = 6\n",
    "res = [k[0] for k in (islice(reversed(sorted(dates, key=lambda x: x[1])), 6))]\n",
    "print(len(res), f\" {npub} publications selected.\")\n",
    "\n",
    "grid = create_grid(npub)\n",
    "docs = ', '.join(['\"{0:s}\"'.format(k.split('/')[-1]) for k in res])\n",
    "slides = ', '.join([f'\"slide{k}\"' for k in range(1, npub + 1)])\n",
    "\n",
    "with open(\"grid_template.html\", \"r\") as tpl:\n",
    "    page = tpl.read()\n",
    "    page = page.replace(\"{%-- grid-content:s --%}\", grid)\\\n",
    "               .replace(\"{%-- suptitle:s --%}\",  f\"Last {npub:,d} papers\" )\\\n",
    "               .replace(\"{%-- docs:s --%}\", docs)\\\n",
    "               .replace(\"{%-- slides:s --%}\", slides)\n",
    "    \n",
    "# print(grid, docs, slides)\n",
    "# print(page)\n",
    "with open(\"_build/html/index_npub_grid.html\", 'w') as fout:\n",
    "    fout.write(page)"
   ]
  }
 ],
 "metadata": {
  "kernelspec": {
   "display_name": "Python 3 (ipykernel)",
   "language": "python",
   "name": "python3"
  },
  "language_info": {
   "codemirror_mode": {
    "name": "ipython",
    "version": 3
   },
   "file_extension": ".py",
   "mimetype": "text/x-python",
   "name": "python",
   "nbconvert_exporter": "python",
   "pygments_lexer": "ipython3",
   "version": "3.9.22"
  },
  "papermill": {
   "default_parameters": {},
   "duration": 62.773761,
   "end_time": "2025-04-22T04:13:05.833357",
   "environment_variables": {},
   "exception": null,
   "input_path": "MPIA daily digest.ipynb",
   "output_path": "log.ipynb",
   "parameters": {},
   "start_time": "2025-04-22T04:12:03.059596",
   "version": "2.6.0"
  },
  "vscode": {
   "interpreter": {
    "hash": "aee8b7b246df8f9039afb4144a1f6fd8d2ca17a180786b69acc140d282b71a49"
   }
  },
  "widgets": {
   "application/vnd.jupyter.widget-state+json": {
    "state": {
     "007a7756895146b6af2f96974c5d90d7": {
      "model_module": "@jupyter-widgets/controls",
      "model_module_version": "2.0.0",
      "model_name": "HTMLStyleModel",
      "state": {
       "_model_module": "@jupyter-widgets/controls",
       "_model_module_version": "2.0.0",
       "_model_name": "HTMLStyleModel",
       "_view_count": null,
       "_view_module": "@jupyter-widgets/base",
       "_view_module_version": "2.0.0",
       "_view_name": "StyleView",
       "background": null,
       "description_width": "",
       "font_size": null,
       "text_color": null
      }
     },
     "00a4297d30314086a90bc79e38a7ebb3": {
      "model_module": "@jupyter-widgets/controls",
      "model_module_version": "2.0.0",
      "model_name": "ProgressStyleModel",
      "state": {
       "_model_module": "@jupyter-widgets/controls",
       "_model_module_version": "2.0.0",
       "_model_name": "ProgressStyleModel",
       "_view_count": null,
       "_view_module": "@jupyter-widgets/base",
       "_view_module_version": "2.0.0",
       "_view_name": "StyleView",
       "bar_color": null,
       "description_width": ""
      }
     },
     "0c71d45b55b041c9b66967cc40e29e42": {
      "model_module": "@jupyter-widgets/controls",
      "model_module_version": "2.0.0",
      "model_name": "FloatProgressModel",
      "state": {
       "_dom_classes": [],
       "_model_module": "@jupyter-widgets/controls",
       "_model_module_version": "2.0.0",
       "_model_name": "FloatProgressModel",
       "_view_count": null,
       "_view_module": "@jupyter-widgets/controls",
       "_view_module_version": "2.0.0",
       "_view_name": "ProgressView",
       "bar_style": "success",
       "description": "",
       "description_allow_html": false,
       "layout": "IPY_MODEL_38d5f64fbbc54be683536f30c3d59649",
       "max": 4.0,
       "min": 0.0,
       "orientation": "horizontal",
       "style": "IPY_MODEL_00a4297d30314086a90bc79e38a7ebb3",
       "tabbable": null,
       "tooltip": null,
       "value": 4.0
      }
     },
     "29f93926b8a14b46955110cabe2a36af": {
      "model_module": "@jupyter-widgets/controls",
      "model_module_version": "2.0.0",
      "model_name": "HTMLModel",
      "state": {
       "_dom_classes": [],
       "_model_module": "@jupyter-widgets/controls",
       "_model_module_version": "2.0.0",
       "_model_name": "HTMLModel",
       "_view_count": null,
       "_view_module": "@jupyter-widgets/controls",
       "_view_module_version": "2.0.0",
       "_view_name": "HTMLView",
       "description": "",
       "description_allow_html": false,
       "layout": "IPY_MODEL_d02484fa1e924834aa3eda244be3e1da",
       "placeholder": "​",
       "style": "IPY_MODEL_007a7756895146b6af2f96974c5d90d7",
       "tabbable": null,
       "tooltip": null,
       "value": "100%"
      }
     },
     "38d5f64fbbc54be683536f30c3d59649": {
      "model_module": "@jupyter-widgets/base",
      "model_module_version": "2.0.0",
      "model_name": "LayoutModel",
      "state": {
       "_model_module": "@jupyter-widgets/base",
       "_model_module_version": "2.0.0",
       "_model_name": "LayoutModel",
       "_view_count": null,
       "_view_module": "@jupyter-widgets/base",
       "_view_module_version": "2.0.0",
       "_view_name": "LayoutView",
       "align_content": null,
       "align_items": null,
       "align_self": null,
       "border_bottom": null,
       "border_left": null,
       "border_right": null,
       "border_top": null,
       "bottom": null,
       "display": null,
       "flex": null,
       "flex_flow": null,
       "grid_area": null,
       "grid_auto_columns": null,
       "grid_auto_flow": null,
       "grid_auto_rows": null,
       "grid_column": null,
       "grid_gap": null,
       "grid_row": null,
       "grid_template_areas": null,
       "grid_template_columns": null,
       "grid_template_rows": null,
       "height": null,
       "justify_content": null,
       "justify_items": null,
       "left": null,
       "margin": null,
       "max_height": null,
       "max_width": null,
       "min_height": null,
       "min_width": null,
       "object_fit": null,
       "object_position": null,
       "order": null,
       "overflow": null,
       "padding": null,
       "right": null,
       "top": null,
       "visibility": null,
       "width": null
      }
     },
     "3c76181ab2db4feb8b53d7edee4fea0c": {
      "model_module": "@jupyter-widgets/base",
      "model_module_version": "2.0.0",
      "model_name": "LayoutModel",
      "state": {
       "_model_module": "@jupyter-widgets/base",
       "_model_module_version": "2.0.0",
       "_model_name": "LayoutModel",
       "_view_count": null,
       "_view_module": "@jupyter-widgets/base",
       "_view_module_version": "2.0.0",
       "_view_name": "LayoutView",
       "align_content": null,
       "align_items": null,
       "align_self": null,
       "border_bottom": null,
       "border_left": null,
       "border_right": null,
       "border_top": null,
       "bottom": null,
       "display": null,
       "flex": null,
       "flex_flow": null,
       "grid_area": null,
       "grid_auto_columns": null,
       "grid_auto_flow": null,
       "grid_auto_rows": null,
       "grid_column": null,
       "grid_gap": null,
       "grid_row": null,
       "grid_template_areas": null,
       "grid_template_columns": null,
       "grid_template_rows": null,
       "height": null,
       "justify_content": null,
       "justify_items": null,
       "left": null,
       "margin": null,
       "max_height": null,
       "max_width": null,
       "min_height": null,
       "min_width": null,
       "object_fit": null,
       "object_position": null,
       "order": null,
       "overflow": null,
       "padding": null,
       "right": null,
       "top": null,
       "visibility": null,
       "width": null
      }
     },
     "429f6ac5d61a4a7a91d2cca799d8d9ba": {
      "model_module": "@jupyter-widgets/controls",
      "model_module_version": "2.0.0",
      "model_name": "HBoxModel",
      "state": {
       "_dom_classes": [],
       "_model_module": "@jupyter-widgets/controls",
       "_model_module_version": "2.0.0",
       "_model_name": "HBoxModel",
       "_view_count": null,
       "_view_module": "@jupyter-widgets/controls",
       "_view_module_version": "2.0.0",
       "_view_name": "HBoxView",
       "box_style": "",
       "children": [
        "IPY_MODEL_29f93926b8a14b46955110cabe2a36af",
        "IPY_MODEL_0c71d45b55b041c9b66967cc40e29e42",
        "IPY_MODEL_699feda050784389bfbb74e5db399a03"
       ],
       "layout": "IPY_MODEL_a818a31f7d854edfbad30b09ebbb3806",
       "tabbable": null,
       "tooltip": null
      }
     },
     "66f442215fc746929bdc4037d181911f": {
      "model_module": "@jupyter-widgets/controls",
      "model_module_version": "2.0.0",
      "model_name": "HTMLStyleModel",
      "state": {
       "_model_module": "@jupyter-widgets/controls",
       "_model_module_version": "2.0.0",
       "_model_name": "HTMLStyleModel",
       "_view_count": null,
       "_view_module": "@jupyter-widgets/base",
       "_view_module_version": "2.0.0",
       "_view_name": "StyleView",
       "background": null,
       "description_width": "",
       "font_size": null,
       "text_color": null
      }
     },
     "699feda050784389bfbb74e5db399a03": {
      "model_module": "@jupyter-widgets/controls",
      "model_module_version": "2.0.0",
      "model_name": "HTMLModel",
      "state": {
       "_dom_classes": [],
       "_model_module": "@jupyter-widgets/controls",
       "_model_module_version": "2.0.0",
       "_model_name": "HTMLModel",
       "_view_count": null,
       "_view_module": "@jupyter-widgets/controls",
       "_view_module_version": "2.0.0",
       "_view_name": "HTMLView",
       "description": "",
       "description_allow_html": false,
       "layout": "IPY_MODEL_3c76181ab2db4feb8b53d7edee4fea0c",
       "placeholder": "​",
       "style": "IPY_MODEL_66f442215fc746929bdc4037d181911f",
       "tabbable": null,
       "tooltip": null,
       "value": " 4/4 [00:39&lt;00:00,  7.26s/it]"
      }
     },
     "a818a31f7d854edfbad30b09ebbb3806": {
      "model_module": "@jupyter-widgets/base",
      "model_module_version": "2.0.0",
      "model_name": "LayoutModel",
      "state": {
       "_model_module": "@jupyter-widgets/base",
       "_model_module_version": "2.0.0",
       "_model_name": "LayoutModel",
       "_view_count": null,
       "_view_module": "@jupyter-widgets/base",
       "_view_module_version": "2.0.0",
       "_view_name": "LayoutView",
       "align_content": null,
       "align_items": null,
       "align_self": null,
       "border_bottom": null,
       "border_left": null,
       "border_right": null,
       "border_top": null,
       "bottom": null,
       "display": null,
       "flex": null,
       "flex_flow": null,
       "grid_area": null,
       "grid_auto_columns": null,
       "grid_auto_flow": null,
       "grid_auto_rows": null,
       "grid_column": null,
       "grid_gap": null,
       "grid_row": null,
       "grid_template_areas": null,
       "grid_template_columns": null,
       "grid_template_rows": null,
       "height": null,
       "justify_content": null,
       "justify_items": null,
       "left": null,
       "margin": null,
       "max_height": null,
       "max_width": null,
       "min_height": null,
       "min_width": null,
       "object_fit": null,
       "object_position": null,
       "order": null,
       "overflow": null,
       "padding": null,
       "right": null,
       "top": null,
       "visibility": null,
       "width": null
      }
     },
     "d02484fa1e924834aa3eda244be3e1da": {
      "model_module": "@jupyter-widgets/base",
      "model_module_version": "2.0.0",
      "model_name": "LayoutModel",
      "state": {
       "_model_module": "@jupyter-widgets/base",
       "_model_module_version": "2.0.0",
       "_model_name": "LayoutModel",
       "_view_count": null,
       "_view_module": "@jupyter-widgets/base",
       "_view_module_version": "2.0.0",
       "_view_name": "LayoutView",
       "align_content": null,
       "align_items": null,
       "align_self": null,
       "border_bottom": null,
       "border_left": null,
       "border_right": null,
       "border_top": null,
       "bottom": null,
       "display": null,
       "flex": null,
       "flex_flow": null,
       "grid_area": null,
       "grid_auto_columns": null,
       "grid_auto_flow": null,
       "grid_auto_rows": null,
       "grid_column": null,
       "grid_gap": null,
       "grid_row": null,
       "grid_template_areas": null,
       "grid_template_columns": null,
       "grid_template_rows": null,
       "height": null,
       "justify_content": null,
       "justify_items": null,
       "left": null,
       "margin": null,
       "max_height": null,
       "max_width": null,
       "min_height": null,
       "min_width": null,
       "object_fit": null,
       "object_position": null,
       "order": null,
       "overflow": null,
       "padding": null,
       "right": null,
       "top": null,
       "visibility": null,
       "width": null
      }
     }
    },
    "version_major": 2,
    "version_minor": 0
   }
  }
 },
 "nbformat": 4,
 "nbformat_minor": 5
}