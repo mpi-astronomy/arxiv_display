{
 "cells": [
  {
   "cell_type": "markdown",
   "id": "92bcb855",
   "metadata": {
    "papermill": {
     "duration": 0.004802,
     "end_time": "2023-07-27T04:03:41.326786",
     "exception": false,
     "start_time": "2023-07-27T04:03:41.321984",
     "status": "completed"
    },
    "tags": []
   },
   "source": [
    "# MPIA Arxiv on Deck 2\n",
    "\n",
    "Contains the steps to produce the paper extractions."
   ]
  },
  {
   "cell_type": "code",
   "execution_count": 1,
   "id": "3a0d6e11",
   "metadata": {
    "execution": {
     "iopub.execute_input": "2023-07-27T04:03:41.336356Z",
     "iopub.status.busy": "2023-07-27T04:03:41.335723Z",
     "iopub.status.idle": "2023-07-27T04:03:41.584946Z",
     "shell.execute_reply": "2023-07-27T04:03:41.584227Z"
    },
    "papermill": {
     "duration": 0.256537,
     "end_time": "2023-07-27T04:03:41.587226",
     "exception": false,
     "start_time": "2023-07-27T04:03:41.330689",
     "status": "completed"
    },
    "tags": []
   },
   "outputs": [],
   "source": [
    "# Imports\n",
    "import os\n",
    "from IPython.display import Markdown, display\n",
    "from tqdm.notebook import tqdm\n",
    "import warnings\n",
    "from PIL import Image \n",
    "\n",
    "# requires arxiv_on_deck_2\n",
    "\n",
    "from arxiv_on_deck_2.arxiv2 import (get_new_papers, \n",
    "                                    get_paper_from_identifier,\n",
    "                                    retrieve_document_source, \n",
    "                                    get_markdown_badge)\n",
    "from arxiv_on_deck_2 import (latex,\n",
    "                             latex_bib,\n",
    "                             mpia,\n",
    "                             highlight_authors_in_list)\n",
    "\n",
    "# Sometimes images are really big\n",
    "Image.MAX_IMAGE_PIXELS = 1000000000 "
   ]
  },
  {
   "cell_type": "code",
   "execution_count": 2,
   "id": "22aa9d44",
   "metadata": {
    "execution": {
     "iopub.execute_input": "2023-07-27T04:03:41.597605Z",
     "iopub.status.busy": "2023-07-27T04:03:41.596809Z",
     "iopub.status.idle": "2023-07-27T04:03:41.603269Z",
     "shell.execute_reply": "2023-07-27T04:03:41.602536Z"
    },
    "papermill": {
     "duration": 0.013424,
     "end_time": "2023-07-27T04:03:41.605055",
     "exception": false,
     "start_time": "2023-07-27T04:03:41.591631",
     "status": "completed"
    },
    "tags": []
   },
   "outputs": [],
   "source": [
    "# Some useful definitions.\n",
    "\n",
    "class AffiliationWarning(UserWarning):\n",
    "    pass\n",
    "\n",
    "class AffiliationError(RuntimeError):\n",
    "    pass\n",
    "\n",
    "def validation(source: str):\n",
    "    \"\"\"Raises error paper during parsing of source file\n",
    "    \n",
    "    Allows checks before parsing TeX code.\n",
    "    \n",
    "    Raises AffiliationWarning\n",
    "    \"\"\"\n",
    "    check = mpia.affiliation_verifications(source, verbose=True)\n",
    "    if check is not True:\n",
    "        raise AffiliationError(\"mpia.affiliation_verifications: \" + check)\n",
    "\n",
    "        \n",
    "warnings.simplefilter('always', AffiliationWarning)\n",
    "\n",
    "\n",
    "def get_markdown_qrcode(paper_id: str):\n",
    "    \"\"\" Generate a qrcode to the arxiv page using qrserver.com\n",
    "    \n",
    "    :param paper: Arxiv paper\n",
    "    :returns: markdown text\n",
    "    \"\"\"\n",
    "    url = r\"https://api.qrserver.com/v1/create-qr-code/?size=100x100&data=\"\n",
    "    txt = f\"\"\"<img src={url}\"https://arxiv.org/abs/{paper_id}\">\"\"\"\n",
    "    txt = '<div id=\"qrcode\">' + txt + '</div>'\n",
    "    return txt"
   ]
  },
  {
   "cell_type": "markdown",
   "id": "14bd6310",
   "metadata": {
    "papermill": {
     "duration": 0.003612,
     "end_time": "2023-07-27T04:03:41.612359",
     "exception": false,
     "start_time": "2023-07-27T04:03:41.608747",
     "status": "completed"
    },
    "tags": []
   },
   "source": [
    "## get list of arxiv paper candidates\n",
    "\n",
    "We use the MPIA mitarbeiter list webpage from mpia.de to get author names\n",
    "We then get all new papers from Arxiv and match authors"
   ]
  },
  {
   "cell_type": "code",
   "execution_count": 3,
   "id": "2645e73a",
   "metadata": {
    "execution": {
     "iopub.execute_input": "2023-07-27T04:03:41.621384Z",
     "iopub.status.busy": "2023-07-27T04:03:41.620647Z",
     "iopub.status.idle": "2023-07-27T04:04:02.765452Z",
     "shell.execute_reply": "2023-07-27T04:04:02.764535Z"
    },
    "papermill": {
     "duration": 21.151371,
     "end_time": "2023-07-27T04:04:02.767337",
     "exception": false,
     "start_time": "2023-07-27T04:03:41.615966",
     "status": "completed"
    },
    "tags": []
   },
   "outputs": [
    {
     "name": "stdout",
     "output_type": "stream",
     "text": [
      "M. Guedel  ->  M. Guedel  |  ['M. Guedel']\n",
      "J. Lian  ->  J. Lian  |  ['J. Lian']\n",
      "J. Neumann  ->  J. Neumann  |  ['J. Neumann']\n",
      "N. Winkel  ->  N. Winkel  |  ['N. Winkel']\n"
     ]
    },
    {
     "name": "stdout",
     "output_type": "stream",
     "text": [
      "A. Gould  ->  A. Gould  |  ['A. Gould']\n",
      "Arxiv has 68 new papers today\n",
      "          4 with possible author matches\n"
     ]
    }
   ],
   "source": [
    "# get list from MPIA website\n",
    "# it automatically filters identified non-scientists :func:`mpia.filter_non_scientists`\n",
    "mpia_authors = mpia.get_mpia_mitarbeiter_list()\n",
    "normed_mpia_authors = [k[1] for k in mpia_authors]   # initials + fullname\n",
    "new_papers = get_new_papers()\n",
    "# add manual references\n",
    "add_paper_refs = []\n",
    "new_papers.extend([get_paper_from_identifier(k) for k in add_paper_refs])\n",
    "\n",
    "candidates = []\n",
    "for paperk in new_papers:\n",
    "    # Check author list with their initials\n",
    "    normed_author_list = [mpia.get_initials(k) for k in paperk['authors']]\n",
    "    hl_authors = highlight_authors_in_list(normed_author_list, normed_mpia_authors, verbose=True)\n",
    "    matches = [(hl, orig) for hl, orig in zip(hl_authors, paperk['authors']) if 'mark' in hl]\n",
    "    paperk['authors'] = hl_authors\n",
    "    if matches:\n",
    "        # only select paper if an author matched our list\n",
    "        candidates.append(paperk)\n",
    "print(\"\"\"Arxiv has {0:,d} new papers today\"\"\".format(len(new_papers)))        \n",
    "print(\"\"\"          {0:,d} with possible author matches\"\"\".format(len(candidates)))"
   ]
  },
  {
   "cell_type": "markdown",
   "id": "3543b34a",
   "metadata": {
    "papermill": {
     "duration": 0.005519,
     "end_time": "2023-07-27T04:04:02.777743",
     "exception": false,
     "start_time": "2023-07-27T04:04:02.772224",
     "status": "completed"
    },
    "tags": []
   },
   "source": [
    "# Parse sources and generate relevant outputs\n",
    "\n",
    "From the candidates, we do the following steps:\n",
    "* get their tarball from ArXiv (and extract data)\n",
    "* find the main .tex file: find one with \\documentclass{...} (sometimes it's non trivial)\n",
    "* Check affiliations with :func:`validation`, which uses :func:`mpia.affiliation_verifications`\n",
    "* If passing the affiliations: we parse the .tex source\n",
    "   * inject sub-documents into the main (flatten the main document)\n",
    "   * parse structure, extract information (title, abstract, authors, figures...)\n",
    "   * handles `\\graphicspath` if provided\n",
    "* Generate the .md document."
   ]
  },
  {
   "cell_type": "code",
   "execution_count": 4,
   "id": "9576b79e",
   "metadata": {
    "execution": {
     "iopub.execute_input": "2023-07-27T04:04:02.787229Z",
     "iopub.status.busy": "2023-07-27T04:04:02.786845Z",
     "iopub.status.idle": "2023-07-27T04:05:05.759752Z",
     "shell.execute_reply": "2023-07-27T04:05:05.758959Z"
    },
    "papermill": {
     "duration": 62.980649,
     "end_time": "2023-07-27T04:05:05.762174",
     "exception": false,
     "start_time": "2023-07-27T04:04:02.781525",
     "status": "completed"
    },
    "scrolled": false,
    "tags": []
   },
   "outputs": [
    {
     "data": {
      "application/vnd.jupyter.widget-view+json": {
       "model_id": "4e39afdcd8d148e6b6808bc7ac12b5ba",
       "version_major": 2,
       "version_minor": 0
      },
      "text/plain": [
       "  0%|          | 0/4 [00:00<?, ?it/s]"
      ]
     },
     "metadata": {},
     "output_type": "display_data"
    },
    {
     "name": "stdout",
     "output_type": "stream",
     "text": [
      "Retrieving document from  https://arxiv.org/e-print/2307.13722\n"
     ]
    },
    {
     "name": "stdout",
     "output_type": "stream",
     "text": [
      "extracting tarball to tmp_2307.13722..."
     ]
    },
    {
     "name": "stdout",
     "output_type": "stream",
     "text": [
      " done.\n",
      "Retrieving document from  https://arxiv.org/e-print/2307.13887\n"
     ]
    },
    {
     "name": "stdout",
     "output_type": "stream",
     "text": [
      "extracting tarball to tmp_2307.13887..."
     ]
    },
    {
     "name": "stdout",
     "output_type": "stream",
     "text": [
      " done.\n"
     ]
    },
    {
     "name": "stdout",
     "output_type": "stream",
     "text": [
      "J. Lian  ->  J. Lian  |  ['J. Lian']\n"
     ]
    },
    {
     "name": "stderr",
     "output_type": "stream",
     "text": [
      "/opt/hostedtoolcache/Python/3.9.17/x64/lib/python3.9/site-packages/arxiv_on_deck_2/latex.py:120: LatexWarning: attempting recovering figure figures/azimuthal_invariance_2col\n",
      "  warnings.warn(LatexWarning(f'attempting recovering figure {image}'))\n",
      "/opt/hostedtoolcache/Python/3.9.17/x64/lib/python3.9/site-packages/arxiv_on_deck_2/latex.py:125: LatexWarning: Recovered figure figures/azimuthal_invariance_2col as tmp_2307.13887/./figures/azimuthal_invariance_2col.png\n",
      "  warnings.warn(LatexWarning(f'Recovered figure {image} as {fname}'))\n",
      "/opt/hostedtoolcache/Python/3.9.17/x64/lib/python3.9/site-packages/arxiv_on_deck_2/latex.py:120: LatexWarning: attempting recovering figure , reproduced here for ease of comparison.\n",
      "  warnings.warn(LatexWarning(f'attempting recovering figure {image}'))\n",
      "/opt/hostedtoolcache/Python/3.9.17/x64/lib/python3.9/site-packages/arxiv_on_deck_2/latex.py:692: LatexWarning: Could not find graphic \\includegraphics[width=\\textwidth]{figures/radial_age_gradients_RIGHT.png}{(a) Same as Figure {\\ref{fig:radial_age_gradients}}, reproduced here for ease of comparison.}\n",
      "  warnings.warn(LatexWarning(f\"Could not find graphic {k}\"))\n",
      "/opt/hostedtoolcache/Python/3.9.17/x64/lib/python3.9/site-packages/arxiv_on_deck_2/latex.py:120: LatexWarning: attempting recovering figure (Test Sample A)\n",
      "  warnings.warn(LatexWarning(f'attempting recovering figure {image}'))\n",
      "/opt/hostedtoolcache/Python/3.9.17/x64/lib/python3.9/site-packages/arxiv_on_deck_2/latex.py:692: LatexWarning: Could not find graphic \\includegraphics[width=\\textwidth]{figures/radial_age_gradients_grav.png}{(b) Same as (a), but using a sample covering a higher surface gravity range of $2.0 \\leq \\log g \\leq 2.3$ (Test Sample A)}\n",
      "  warnings.warn(LatexWarning(f\"Could not find graphic {k}\"))\n"
     ]
    },
    {
     "name": "stdout",
     "output_type": "stream",
     "text": [
      "Found 221 bibliographic references in tmp_2307.13887/sample631.bbl.\n",
      "syntax error in line 459: '=' expected\n",
      "Retrieving document from  https://arxiv.org/e-print/2307.14139\n"
     ]
    },
    {
     "name": "stdout",
     "output_type": "stream",
     "text": [
      "extracting tarball to tmp_2307.14139... done.\n"
     ]
    },
    {
     "name": "stdout",
     "output_type": "stream",
     "text": [
      "J. Neumann  ->  J. Neumann  |  ['J. Neumann']\n",
      "N. Winkel  ->  N. Winkel  |  ['N. Winkel']\n"
     ]
    },
    {
     "name": "stdout",
     "output_type": "stream",
     "text": [
      "Found 87 bibliographic references in tmp_2307.14139/main.bbl.\n",
      "Retrieving document from  https://arxiv.org/e-print/2307.14274\n"
     ]
    },
    {
     "name": "stdout",
     "output_type": "stream",
     "text": [
      "extracting tarball to tmp_2307.14274..."
     ]
    },
    {
     "name": "stdout",
     "output_type": "stream",
     "text": [
      " done.\n"
     ]
    },
    {
     "name": "stderr",
     "output_type": "stream",
     "text": [
      "/opt/hostedtoolcache/Python/3.9.17/x64/lib/python3.9/site-packages/arxiv_on_deck_2/latex.py:120: LatexWarning: attempting recovering figure 4_Light_Curve_Modeling/lc2.eps\n",
      "  warnings.warn(LatexWarning(f'attempting recovering figure {image}'))\n",
      "/opt/hostedtoolcache/Python/3.9.17/x64/lib/python3.9/site-packages/arxiv_on_deck_2/latex.py:692: LatexWarning: Could not find graphic \\includegraphics[scale=0.6,angle=-90]{4_Light_Curve_Modeling/lc2.eps}\n",
      "  warnings.warn(LatexWarning(f\"Could not find graphic {k}\"))\n"
     ]
    },
    {
     "name": "stdout",
     "output_type": "stream",
     "text": [
      "Found 112 bibliographic references in tmp_2307.14274/ms.bbl.\n",
      "syntax error in line 214: '=' expected\n"
     ]
    }
   ],
   "source": [
    "documents = []\n",
    "failed = []\n",
    "for paper in tqdm(candidates):\n",
    "    paper_id = paper['identifier'].lower().replace('arxiv:', '')\n",
    "    \n",
    "    folder = f'tmp_{paper_id}'\n",
    "\n",
    "    try:\n",
    "        if not os.path.isdir(folder):\n",
    "            folder = retrieve_document_source(f\"{paper_id}\", f'tmp_{paper_id}')\n",
    "        \n",
    "        try:\n",
    "            doc = latex.LatexDocument(folder, validation=validation)    \n",
    "        except AffiliationError as affilerror:\n",
    "            msg = f\"ArXiv:{paper_id:s} is not an MPIA paper... \" + str(affilerror)\n",
    "            failed.append((paper, \"affiliation error: \" + str(affilerror) ))\n",
    "            continue\n",
    "        \n",
    "        # Hack because sometimes author parsing does not work well\n",
    "        if (len(doc.authors) != len(paper['authors'])):\n",
    "            doc._authors = paper['authors']\n",
    "        else:\n",
    "            # highlight authors (FIXME: doc.highlight_authors)\n",
    "            # done on arxiv paper already\n",
    "            doc._authors = highlight_authors_in_list(\n",
    "                [mpia.get_initials(k) for k in doc.authors], \n",
    "                normed_mpia_authors, verbose=True)\n",
    "        if (doc.abstract) in (None, ''):\n",
    "            doc._abstract = paper['abstract']\n",
    "            \n",
    "        doc.comment = (get_markdown_badge(paper_id) + \n",
    "                       \"<mark>Appeared on: \" + paper['date'] + \"</mark> - \")\n",
    "        if paper['comments']:\n",
    "            doc.comment += \" _\" + paper['comments'] + \"_\"\n",
    "        \n",
    "        full_md = doc.generate_markdown_text()\n",
    "        \n",
    "        full_md += get_markdown_qrcode(paper_id)\n",
    "        \n",
    "        # replace citations\n",
    "        try:\n",
    "            bibdata = latex_bib.LatexBib.from_doc(doc)\n",
    "            full_md = latex_bib.replace_citations(full_md, bibdata)\n",
    "        except Exception as e:\n",
    "            print(e)\n",
    "        \n",
    "        documents.append((paper_id, full_md))\n",
    "    except Exception as e:\n",
    "        warnings.warn(latex.LatexWarning(f\"{paper_id:s} did not run properly\\n\" +\n",
    "                                         str(e)\n",
    "                                        ))\n",
    "        failed.append((paper, \"latex error \" + str(e)))"
   ]
  },
  {
   "cell_type": "markdown",
   "id": "2505a25c",
   "metadata": {
    "papermill": {
     "duration": 0.004815,
     "end_time": "2023-07-27T04:05:05.772079",
     "exception": false,
     "start_time": "2023-07-27T04:05:05.767264",
     "status": "completed"
    },
    "tags": []
   },
   "source": [
    "### Export the logs\n",
    "\n",
    "Throughout, we also keep track of the logs per paper. see `logs-{today date}.md` "
   ]
  },
  {
   "cell_type": "code",
   "execution_count": 5,
   "id": "d733828a",
   "metadata": {
    "execution": {
     "iopub.execute_input": "2023-07-27T04:05:05.783635Z",
     "iopub.status.busy": "2023-07-27T04:05:05.782773Z",
     "iopub.status.idle": "2023-07-27T04:05:05.798504Z",
     "shell.execute_reply": "2023-07-27T04:05:05.797937Z"
    },
    "papermill": {
     "duration": 0.023186,
     "end_time": "2023-07-27T04:05:05.799963",
     "exception": false,
     "start_time": "2023-07-27T04:05:05.776777",
     "status": "completed"
    },
    "scrolled": false,
    "tags": []
   },
   "outputs": [
    {
     "data": {
      "text/markdown": [
       "## Successful papers"
      ],
      "text/plain": [
       "<IPython.core.display.Markdown object>"
      ]
     },
     "metadata": {},
     "output_type": "display_data"
    },
    {
     "data": {
      "text/markdown": [
       "\n",
       "|||\n",
       "|---:|:---|\n",
       "| [![arXiv](https://img.shields.io/badge/arXiv-arXiv:2307.13887-b31b1b.svg)](https://arxiv.org/abs/arXiv:2307.13887) | **A Tale of Two Disks: Mapping the Milky Way with the Final Data Release  of APOGEE**  |\n",
       "|| J. Imig, et al. -- incl., <mark>J. Lian</mark> |\n",
       "|*Appeared on*| *2023-07-27*|\n",
       "|*Comments*| *41 pages, 32 figures, accepted to ApJ*|\n",
       "|**Abstract**| We present new maps of the Milky Way disk showing the distribution of metallicity ([Fe/H]), $\\alpha$-element abundances ([Mg/Fe]), and stellar age, using a sample of 66,496 red giant stars from the final data release (DR17) of the Apache Point Observatory Galactic Evolution Experiment (APOGEE) survey. We measure radial and vertical gradients, quantify the distribution functions for age and metallicity, and explore chemical clock relations across the Milky Way for the low-$\\alpha$ disk, high-$\\alpha$ disk, and total population independently. The low-$\\alpha$ disk exhibits a negative radial metallicity gradient of $-0.06 \\pm 0.001$ dex kpc$^{-1}$, which flattens with distance from the midplane. The high-$\\alpha$ disk shows a flat radial gradient in metallicity and age across nearly all locations of the disk. The age and metallicity distribution functions shift from negatively skewed in the inner Galaxy to positively skewed at large radius. Significant bimodality in the [Mg/Fe]-[Fe/H] plane and in the [Mg/Fe]-age relation persist across the entire disk. The age estimates have typical uncertainties of $\\sim0.15$ in $\\log$(age) and may be subject to additional systematic errors, which impose limitations on conclusions drawn from this sample. Nevertheless, these results act as critical constraints on galactic evolution models, constraining which physical processes played a dominant role in the formation of the Milky Way disk. We discuss how radial migration predicts many of the observed trends near the solar neighborhood and in the outer disk, but an additional more dramatic evolution history, such as the multi-infall model or a merger event, is needed to explain the chemical and age bimodality elsewhere in the Galaxy. |"
      ],
      "text/plain": [
       "[arXiv:2307.13887] A Tale of Two Disks: Mapping the Milky Way with the Final Data Release  of APOGEE\n",
       "\tJ. Imig, et al. -- incl., <mark>J. Lian</mark>"
      ]
     },
     "metadata": {},
     "output_type": "display_data"
    },
    {
     "data": {
      "text/markdown": [
       "\n",
       "|||\n",
       "|---:|:---|\n",
       "| [![arXiv](https://img.shields.io/badge/arXiv-arXiv:2307.14139-b31b1b.svg)](https://arxiv.org/abs/arXiv:2307.14139) | **Still alive and kicking: A significant outburst in changing-look AGN Mrk  1018**  |\n",
       "|| R. Brogan, et al. -- incl., <mark>J. Neumann</mark>, <mark>N. Winkel</mark> |\n",
       "|*Appeared on*| *2023-07-27*|\n",
       "|*Comments*| *Accepted for publication in A&A*|\n",
       "|**Abstract**| Changing-look active galactic nuclei (CL-AGN) have been observed to change optical spectral type. Mrk 1018 is unique: first classified as a type 1.9 Seyfert galaxy, it transitioned to a type 1 before returning to its initial classification after approximately 30 years. We present a high-cadence monitoring programme that caught a major outburst in 2020. Due to sunblock, only the decline could be observed. We studied X-ray, UV, optical, and IR before and after the outburst to investigate the responses of the AGN structures. We derived a u'-band light curve of the AGN contribution alone. The flux increased by a factor of the order of 13. We confirmed this in other optical bands and determined the shape and speed of the decline in each waveband. The shapes of H beta and H alpha were analysed before and after the event. Two XMM-Newton observations from before and after the outburst were also exploited. The outburst is asymmetric, with a swifter rise than decline. The decline is best fit by a linear function, ruling out a tidal disruption event. The optical spectrum shows no change approximately 8 months before and 17 months after. The UV flux increased slightly after the outburst but the X-ray primary flux is unchanged. However, the 6.4 keV Iron line has doubled in strength. IR data taken 13 days after the observed optical peak show an increased emission level. Calculating the distance of the broad-line region and inner edge of the torus from the supermassive black hole can explain the multi-wavelength response to the outburst, in particular: i) the unchanged H beta and H alpha lines, ii) the unchanged primary X-ray spectral components, iii) the rapid and extended infrared response, as well as iv) the enhanced emission of the reflected 6.4 keV line. The outburst was due to a dramatic and short-lasting change in the intrinsic accretion rate. We discuss different models as potential causes. |"
      ],
      "text/plain": [
       "[arXiv:2307.14139] Still alive and kicking: A significant outburst in changing-look AGN Mrk  1018\n",
       "\tR. Brogan, et al. -- incl., <mark>J. Neumann</mark>, <mark>N. Winkel</mark>"
      ]
     },
     "metadata": {},
     "output_type": "display_data"
    },
    {
     "data": {
      "text/markdown": [
       "\n",
       "|||\n",
       "|---:|:---|\n",
       "| [![arXiv](https://img.shields.io/badge/arXiv-arXiv:2307.14274-b31b1b.svg)](https://arxiv.org/abs/arXiv:2307.14274) | **OGLE-2019-BLG-0825: Constraints on the Source System and Effect on  Binary-lens Parameters arising from a Five Day Xallarap Effect in a Candidate  Planetary Microlensing Event**  |\n",
       "|| Y. K. Satoh, et al. -- incl., <mark>A. Gould</mark> |\n",
       "|*Appeared on*| *2023-07-27*|\n",
       "|*Comments*| *19 pages, 7 figures, 6 tables. Accepted by AJ*|\n",
       "|**Abstract**| We present an analysis of microlensing event OGLE-2019-BLG-0825. This event was identified as a planetary candidate by preliminary modeling. We find that significant residuals from the best-fit static binary-lens model exist and a xallarap effect can fit the residuals very well and significantly improves $\\chi^2$ values. On the other hand, by including the xallarap effect in our models, we find that binary-lens parameters like mass-ratio, $q$, and separation, $s$, cannot be constrained well. However, we also find that the parameters for the source system like the orbital period and semi major axis are consistent between all the models we analyzed. We therefore constrain the properties of the source system better than the properties of the lens system. The source system comprises a G-type main-sequence star orbited by a brown dwarf with a period of $P\\sim5$ days. This analysis is the first to demonstrate that the xallarap effect does affect binary-lens parameters in planetary events. It would not be common for the presence or absence of the xallarap effect to affect lens parameters in events with long orbital periods of the source system or events with transits to caustics, but in other cases, such as this event, the xallarap effect can affect binary-lens parameters. |"
      ],
      "text/plain": [
       "[arXiv:2307.14274] OGLE-2019-BLG-0825: Constraints on the Source System and Effect on  Binary-lens Parameters arising from a Five Day Xallarap Effect in a Candidate  Planetary Microlensing Event\n",
       "\tY. K. Satoh, et al. -- incl., <mark>A. Gould</mark>"
      ]
     },
     "metadata": {},
     "output_type": "display_data"
    },
    {
     "data": {
      "text/markdown": [
       "## Failed papers"
      ],
      "text/plain": [
       "<IPython.core.display.Markdown object>"
      ]
     },
     "metadata": {},
     "output_type": "display_data"
    },
    {
     "data": {
      "text/markdown": [
       "\n",
       "|||\n",
       "|---:|:---|\n",
       "| [![arXiv](https://img.shields.io/badge/arXiv-arXiv:2307.13722-b31b1b.svg)](https://arxiv.org/abs/arXiv:2307.13722) | **Formation of a wide-orbit giant planet in a gravitationally unstable  subsolar-metallicity protoplanetary disc**  |\n",
       "|| R. Matsukoba, E. I. Vorobyov, T. Hosokawa, <mark>M. Guedel</mark> |\n",
       "|*Appeared on*| *2023-07-27*|\n",
       "|*Comments*| *11 pages, 8 figures, submitted to MNRAS*|\n",
       "|**Abstract**| Direct imaging observations of planets revealed that wide-orbit ($>10$ au) giant planets exist even around subsolar-metallicity host stars and do not require metal-rich environments for their formation. A possible formation mechanism of wide-orbit giant planets in subsolar-metallicity environments is the gravitational fragmentation of massive protoplanetary discs. Here, we follow the long-term evolution of the disc for 1 Myr after its formation, which is comparable to disc lifetime, by way of a two-dimensional thin-disc hydrodynamic simulation with the metallicity of 0.1 ${\\rm Z}_{\\odot}$. We find a giant protoplanet that survives until the end of the simulation. The protoplanet is formed by the merger of two gaseous clumps at $\\sim$0.5 Myr after disc formation, and then it orbits $\\sim$200 au from the host star for $\\sim$0.5 Myr. The protoplanet's mass is $\\sim$10 ${\\rm M}_{\\rm J}$ at birth and gradually decreases to 1 ${\\rm M}_{\\rm J}$ due to the tidal effect from the host star. The result provides the minimum mass of 1 ${\\rm M}_{\\rm J}$ for protoplanets formed by gravitational instability in a subsolar-metallicity disc. We anticipate that the mass of a protoplanet experiencing reduced mass loss thanks to the protoplanetary contraction in higher resolution simulations can increase to $\\sim$10 ${\\rm M}_{\\rm J}$. We argue that the disc gravitational fragmentation would be a promising pathway to form wide-orbit giant planets with masses of $\\ge1$ ${\\rm M}_{\\rm J}$ in subsolar-metallicity environments. |\n",
       "|<p style=\"color:green\"> **ERROR** </p>| <p style=\"color:green\">affiliation error: mpia.affiliation_verifications: 'Heidelberg' keyword not found.</p> |"
      ],
      "text/plain": [
       "<IPython.core.display.Markdown object>"
      ]
     },
     "metadata": {},
     "output_type": "display_data"
    }
   ],
   "source": [
    "import datetime\n",
    "today = str(datetime.date.today())\n",
    "logfile = f\"_build/html/logs/log-{today}.md\"\n",
    "\n",
    "\n",
    "with open(logfile, 'w') as logs:\n",
    "    # Success\n",
    "    logs.write(f'# Arxiv on Deck 2: Logs - {today}\\n\\n')\n",
    "    logs.write(\"\"\"* Arxiv had {0:,d} new papers\\n\"\"\".format(len(new_papers)))\n",
    "    logs.write(\"\"\"    * {0:,d} with possible author matches\\n\\n\"\"\".format(len(candidates)))\n",
    "    logs.write(\"## Sucessful papers\\n\\n\")\n",
    "    display(Markdown(\"## Successful papers\"))\n",
    "    success = [k[0] for k in documents]\n",
    "    for candid in candidates:\n",
    "        if candid['identifier'].split(':')[-1] in success:\n",
    "            display(candid)\n",
    "            logs.write(candid.generate_markdown_text() + '\\n\\n')\n",
    "\n",
    "    ## failed\n",
    "    logs.write(\"## Failed papers\\n\\n\")\n",
    "    display(Markdown(\"## Failed papers\"))\n",
    "    failed = sorted(failed, key=lambda x: x[1])\n",
    "    current_reason = \"\"\n",
    "    for paper, reason in failed:\n",
    "        if 'affiliation' in reason:\n",
    "            color = 'green'\n",
    "        else:\n",
    "            color = 'red'\n",
    "        data = Markdown(\n",
    "                paper.generate_markdown_text() + \n",
    "                f'\\n|<p style=\"color:{color:s}\"> **ERROR** </p>| <p style=\"color:{color:s}\">{reason:s}</p> |'\n",
    "               )\n",
    "        if reason != current_reason:\n",
    "            logs.write(f'### {reason:s} \\n\\n')\n",
    "            current_reason = reason\n",
    "        logs.write(data.data + '\\n\\n')\n",
    "        \n",
    "        # only display here the important errors (all in logs)\n",
    "        # if color in ('red',):\n",
    "        display(data)"
   ]
  },
  {
   "cell_type": "markdown",
   "id": "472d20ee",
   "metadata": {
    "papermill": {
     "duration": 0.005406,
     "end_time": "2023-07-27T04:05:05.810929",
     "exception": false,
     "start_time": "2023-07-27T04:05:05.805523",
     "status": "completed"
    },
    "tags": []
   },
   "source": [
    "## Export documents\n",
    "\n",
    "We now write the .md files and export relevant images"
   ]
  },
  {
   "cell_type": "code",
   "execution_count": 6,
   "id": "d426aed9",
   "metadata": {
    "execution": {
     "iopub.execute_input": "2023-07-27T04:05:05.823363Z",
     "iopub.status.busy": "2023-07-27T04:05:05.822849Z",
     "iopub.status.idle": "2023-07-27T04:05:05.843360Z",
     "shell.execute_reply": "2023-07-27T04:05:05.842515Z"
    },
    "papermill": {
     "duration": 0.028937,
     "end_time": "2023-07-27T04:05:05.845297",
     "exception": false,
     "start_time": "2023-07-27T04:05:05.816360",
     "status": "completed"
    },
    "tags": []
   },
   "outputs": [],
   "source": [
    "def export_markdown_summary(md: str, md_fname:str, directory: str):\n",
    "    \"\"\"Export MD document and associated relevant images\"\"\"\n",
    "    import os\n",
    "    import shutil\n",
    "    import re\n",
    "\n",
    "    if (os.path.exists(directory) and not os.path.isdir(directory)):\n",
    "        raise RuntimeError(f\"a non-directory file exists with name {directory:s}\")\n",
    "\n",
    "    if (not os.path.exists(directory)):\n",
    "        print(f\"creating directory {directory:s}\")\n",
    "        os.mkdir(directory)\n",
    "\n",
    "    fig_fnames = (re.compile(r'\\[Fig.*\\]\\((.*)\\)').findall(md) + \n",
    "                  re.compile(r'\\<img src=\"([^>\\s]*)\"[^>]*/>').findall(md))\n",
    "    for fname in fig_fnames:\n",
    "        if 'http' in fname:\n",
    "            # No need to copy online figures\n",
    "            continue\n",
    "        destdir = os.path.join(directory, os.path.dirname(fname))\n",
    "        destfname = os.path.join(destdir, os.path.basename(fname))\n",
    "        try:\n",
    "            os.makedirs(destdir)\n",
    "        except FileExistsError:\n",
    "            pass\n",
    "        shutil.copy(fname, destfname)\n",
    "    with open(os.path.join(directory, md_fname), 'w') as fout:\n",
    "        fout.write(md)\n",
    "    print(\"exported in \", os.path.join(directory, md_fname))\n",
    "    [print(\"    + \" + os.path.join(directory,fk)) for fk in fig_fnames]"
   ]
  },
  {
   "cell_type": "code",
   "execution_count": 7,
   "id": "014d04a4",
   "metadata": {
    "execution": {
     "iopub.execute_input": "2023-07-27T04:05:05.859663Z",
     "iopub.status.busy": "2023-07-27T04:05:05.858941Z",
     "iopub.status.idle": "2023-07-27T04:05:05.871381Z",
     "shell.execute_reply": "2023-07-27T04:05:05.870792Z"
    },
    "papermill": {
     "duration": 0.020608,
     "end_time": "2023-07-27T04:05:05.872910",
     "exception": false,
     "start_time": "2023-07-27T04:05:05.852302",
     "status": "completed"
    },
    "tags": []
   },
   "outputs": [
    {
     "name": "stdout",
     "output_type": "stream",
     "text": [
      "exported in  _build/html/2307.13887.md\n",
      "    + _build/html/tmp_2307.13887/./figures/age_metalicity_relation.png\n",
      "    + _build/html/tmp_2307.13887/./figures/apogee_mhplots.png\n",
      "    + _build/html/tmp_2307.13887/./figures/apogee_MDF_annotated_alphas_flip2.png\n",
      "exported in  _build/html/2307.14139.md\n",
      "    + _build/html/tmp_2307.14139/./stella_lc.png\n",
      "    + _build/html/tmp_2307.14139/./wise_atlas.png\n",
      "    + _build/html/tmp_2307.14139/./host+agn.png\n",
      "exported in  _build/html/2307.14274.md\n",
      "    + _build/html/tmp_2307.14274/./lightcurve.png\n",
      "    + _build/html/tmp_2307.14274/./cmd_e=0.png\n",
      "    + _build/html/tmp_2307.14274/./GS1+2.png\n"
     ]
    }
   ],
   "source": [
    "for paper_id, md in documents:\n",
    "    export_markdown_summary(md, f\"{paper_id:s}.md\", '_build/html/')"
   ]
  },
  {
   "cell_type": "markdown",
   "id": "f087a0a7",
   "metadata": {
    "papermill": {
     "duration": 0.005848,
     "end_time": "2023-07-27T04:05:05.884676",
     "exception": false,
     "start_time": "2023-07-27T04:05:05.878828",
     "status": "completed"
    },
    "tags": []
   },
   "source": [
    "## Display the papers\n",
    "\n",
    "Not necessary but allows for a quick check."
   ]
  },
  {
   "cell_type": "code",
   "execution_count": 8,
   "id": "fd25f625",
   "metadata": {
    "execution": {
     "iopub.execute_input": "2023-07-27T04:05:05.897275Z",
     "iopub.status.busy": "2023-07-27T04:05:05.896860Z",
     "iopub.status.idle": "2023-07-27T04:05:05.904657Z",
     "shell.execute_reply": "2023-07-27T04:05:05.904121Z"
    },
    "papermill": {
     "duration": 0.016142,
     "end_time": "2023-07-27T04:05:05.906356",
     "exception": false,
     "start_time": "2023-07-27T04:05:05.890214",
     "status": "completed"
    },
    "scrolled": false,
    "tags": []
   },
   "outputs": [
    {
     "data": {
      "text/markdown": [
       "<div class=\"macros\" style=\"visibility:hidden;\">\n",
       "$\\newcommand{\\ensuremath}{}$\n",
       "$\\newcommand{\\xspace}{}$\n",
       "$\\newcommand{\\object}[1]{\\texttt{#1}}$\n",
       "$\\newcommand{\\farcs}{{.}''}$\n",
       "$\\newcommand{\\farcm}{{.}'}$\n",
       "$\\newcommand{\\arcsec}{''}$\n",
       "$\\newcommand{\\arcmin}{'}$\n",
       "$\\newcommand{\\ion}[2]{#1#2}$\n",
       "$\\newcommand{\\textsc}[1]{\\textrm{#1}}$\n",
       "$\\newcommand{\\hl}[1]{\\textrm{#1}}$\n",
       "$\\newcommand{\\footnote}[1]{}$\n",
       "$\\newcommand{\\vdag}{(v)^\\dagger}$\n",
       "$\\newcommand$\n",
       "$\\newcommand$\n",
       "$\\newcommand$\n",
       "$\\newcommand{\\alpham}{[Mg/Fe]}$</div>\n",
       "\n",
       "\n",
       "\n",
       "<div id=\"title\">\n",
       "\n",
       "# A Tale of Two Disks: Mapping the Milky Way with the Final Data Release of APOGEE\n",
       "\n",
       "</div>\n",
       "<div id=\"comments\">\n",
       "\n",
       "[![arXiv](https://img.shields.io/badge/arXiv-2307.13887-b31b1b.svg)](https://arxiv.org/abs/2307.13887)<mark>Appeared on: 2023-07-27</mark> -  _41 pages, 32 figures, accepted to ApJ_\n",
       "\n",
       "</div>\n",
       "<div id=\"authors\">\n",
       "\n",
       "J. Imig, et al. -- incl., <mark>J. Lian</mark>\n",
       "\n",
       "</div>\n",
       "<div id=\"abstract\">\n",
       "\n",
       "**Abstract:** We present new maps of the Milky Way disk showing the distribution of metallicity ( ${\\feh}$ ), $\\alpha$ -element abundances ( ${\\alpham}$ ), and stellar age, using a sample of \\textcolor{black}{66,496} red giant stars from the final data release (DR17) of the Apache Point Observatory Galactic Evolution Experiment (APOGEE) survey. We measure radial and vertical gradients, quantify the distribution functions for age and metallicity, and explore chemical clock relations across the Milky Way for the low- $\\alpha$ disk, high- $\\alpha$ disk, and total population independently. The low- $\\alpha$ disk exhibits a negative radial metallicity gradient of \\textcolor{black}{$-0.06 \\pm 0.001$} dex kpc $^{-1}$ , which flattens with distance from the midplane. The high- $\\alpha$ disk shows a flat radial gradient in metallicity and age across nearly all locations of the disk. The age and metallicity distribution functions shift from negatively skewed in the inner Galaxy to positively skewed at large radius. Significant bimodality in the ${\\alpham}$ - ${\\feh}$ plane and in the ${\\alpham}$ -age relation persist across the entire disk. The age estimates have typical uncertainties of $\\sim0.15$ in $\\log$ (age) and may be subject to additional systematic errors, which impose limitations on conclusions drawn from this sample. Nevertheless, these results act as critical constraints on galactic evolution models, constraining which physical processes played a dominant role in the formation of the Milky Way disk. We discuss how radial migration predicts many of the observed trends near the solar neighborhood and in the outer disk, but an additional more dramatic evolution history, such as the multi-infall model or a merger event, is needed to explain the chemical and age bimodality elsewhere in the Galaxy.\n",
       "\n",
       "</div>\n",
       "\n",
       "<div id=\"div_fig1\">\n",
       "\n",
       "<img src=\"tmp_2307.13887/./figures/age_metalicity_relation.png\" alt=\"Fig25\" width=\"100%\"/>\n",
       "\n",
       "**Figure 25. -** The age-metallicity relation across the Milky Way disk. Panels represent different spatial zones, laid out in the same way as Figure \\ref{fig:apogee_mhplots}, with rows corresponding to $Z$ and columns increasing in $R$. The number in the top-right corner of each panel is the number of stars in our sample in that spatial bin. The age and metallicity for individual stars is plotted, colored by {$\\alpham$} abundance. The running median trend is plotted in black square points to guide the eye, with the vertical bars indicating the standard deviation in {\\feh} for bins in log(age). The typical (median) uncertainty for any given point is shown in the top right corner of each panel. (*fig:age_metallicity_relation*)\n",
       "\n",
       "</div>\n",
       "<div id=\"div_fig2\">\n",
       "\n",
       "<img src=\"tmp_2307.13887/./figures/apogee_mhplots.png\" alt=\"Fig21\" width=\"100%\"/>\n",
       "\n",
       "**Figure 21. -** The distribution of stars in the {$\\alpham$} vs. {\\feh} plane as a function of $R$ and $|Z|$, as a contour map of point density. Spatial bins move from closest to the Galactic plane (bottom row, 0.0 $<|Z|<$ 0.5 kpc) to farthest above the Galactic plane (top row, 1.0 $<|Z|<$ 2.0 kpc), and from close to the Galactic center (left column, 0.0 $<|R|<$ 3.0 kpc) to farthest out in the disk (right column, 15.0 $<|R|<$ 25.0 kpc). The number in the top-right corner of each panel is the number of stars in our sample in that spatial bin. For reference, the gray background shape and black line is the same in each panel, to highlight how the sequence changes across location in the Galaxy. The black line is the boundary between high- and low-$\\alpha$ populations defined in Equation \\ref{eq:alpha_split}, and the gray shape is the contour containing 90\\% of the points in the full sample. The typical uncertainties in abundance measurements as a function of metallicity are shown as a $\\pm1\\sigma$ value at the bottom of each panel for reference. (*fig:apogee_mhplots*)\n",
       "\n",
       "</div>\n",
       "<div id=\"div_fig3\">\n",
       "\n",
       "<img src=\"tmp_2307.13887/./figures/apogee_MDF_annotated_alphas_flip2.png\" alt=\"Fig14\" width=\"100%\"/>\n",
       "\n",
       "**Figure 14. -** The metallicity distribution function of the Milky Way disk, split into different height bins (panels), from closest to the Galactic plane (top) to farthest beyond (bottom). Each panel shows the fraction of stars at each metallicity {\\feh} as a function of Galactocentric radius, further split by color between high-$\\alpha$(red) and low-$\\alpha$(blue) samples. Every third row is annotated with markings for the peak (or mode) of the distribution (white diamond), as well as the 25th, 50th (median), and 75th percentiles (white tick marks) to highlight the shape of the distribution. (*fig:apogee_MDF_alpha*)\n",
       "\n",
       "</div><div id=\"qrcode\"><img src=https://api.qrserver.com/v1/create-qr-code/?size=100x100&data=\"https://arxiv.org/abs/2307.13887\"></div>"
      ],
      "text/plain": [
       "<IPython.core.display.Markdown object>"
      ]
     },
     "metadata": {},
     "output_type": "display_data"
    },
    {
     "data": {
      "text/markdown": [
       "<div class=\"macros\" style=\"visibility:hidden;\">\n",
       "$\\newcommand{\\ensuremath}{}$\n",
       "$\\newcommand{\\xspace}{}$\n",
       "$\\newcommand{\\object}[1]{\\texttt{#1}}$\n",
       "$\\newcommand{\\farcs}{{.}''}$\n",
       "$\\newcommand{\\farcm}{{.}'}$\n",
       "$\\newcommand{\\arcsec}{''}$\n",
       "$\\newcommand{\\arcmin}{'}$\n",
       "$\\newcommand{\\ion}[2]{#1#2}$\n",
       "$\\newcommand{\\textsc}[1]{\\textrm{#1}}$\n",
       "$\\newcommand{\\hl}[1]{\\textrm{#1}}$\n",
       "$\\newcommand{\\footnote}[1]{}$\n",
       "$\\newcommand{\\arraystretch}{2}$\n",
       "$\\newcommand{\\arraystretch}{1.5}$\n",
       "$\\newcommand{\\arraystretch}{2}$\n",
       "$\\newcommand{\\arraystretch}{1.3}$\n",
       "$\\newcommand{\\arraystretch}{1.3}$</div>\n",
       "\n",
       "\n",
       "\n",
       "<div id=\"title\">\n",
       "\n",
       "# Still alive and kicking: A significant outburst in changing-look AGN Mrk 1018\n",
       "\n",
       "</div>\n",
       "<div id=\"comments\">\n",
       "\n",
       "[![arXiv](https://img.shields.io/badge/arXiv-2307.14139-b31b1b.svg)](https://arxiv.org/abs/2307.14139)<mark>Appeared on: 2023-07-27</mark> -  _Accepted for publication in A&A_\n",
       "\n",
       "</div>\n",
       "<div id=\"authors\">\n",
       "\n",
       "R. Brogan, et al. -- incl., <mark>J. Neumann</mark>, <mark>N. Winkel</mark>\n",
       "\n",
       "</div>\n",
       "<div id=\"abstract\">\n",
       "\n",
       "**Abstract:** Changing-look active galactic nuclei (AGN) have been observed to change their optical spectral type. Mrk 1018 is particularly unique: first classified as a type 1.9 Seyfert galaxy, it transitioned to being a type 1 Seyfert galaxy a few years later before returning to its initial classification as a type 1.9 Seyfert galaxy after $\\sim$ 30 years. We present the results of a high-cadence optical monitoring programme that caught a major outburst in 2020. Due to sunblock, only the decline could be observed for $\\sim$ 200 days. We studied X-ray, UV, optical, and infrared data before and after the outburst to investigate the responses of the AGN structures. We derived a $u'$ -band light curve of the AGN contribution alone. The flux increased by a factor of $\\sim$ 13. We confirmed this in other optical bands and determined the shape and speed of the decline in each waveband. The shapes of H $\\beta$ and H $\\alpha$ were analysed before and after the event. Two _XMM-Newton_ observations (X-ray and UV) from before and after the outburst were also exploited. The outburst is asymmetric, with a swifter rise than decline. The decline is best fit by a linear function, ruling out a tidal disruption event. The optical spectrum shows no change approximately eight months before and 17 months after. The UV flux is increased slightly after the outburst but the X-ray primary flux is unchanged. However, the 6.4 keV Iron line has doubled in strength. Infrared data taken 13 days after the observed optical peak already show an increased emission level as well. Calculating the distance of the broad-line region and inner edge of the torus from the supermassive black hole can explain the multi-wavelength response to the outburst, in particular: i) the unchanged H $\\beta$ and H $\\alpha$ lines, ii) the unchanged primary X-ray spectral components, iii) the rapid and extended infrared response, as well as iv) the enhanced emission of the reflected 6.4 keV line. The outburst was due to a dramatic and short-lasting change in the intrinsic accretion rate. We discuss different models as potential causes.\n",
       "\n",
       "</div>\n",
       "\n",
       "<div id=\"div_fig1\">\n",
       "\n",
       "<img src=\"tmp_2307.14139/./stella_lc.png\" alt=\"Fig4\" width=\"100%\"/>\n",
       "\n",
       "**Figure 4. -** Final host-subtracted $u'$-band light curve of the AGN in Mrk 1018. The blue points are the data points with statistical uncertainties shown by error bars and the blue shaded area represents the systematic uncertainty arising from the choice of image used to model the host galaxy component. This outburst is the most significant as yet observed during Mrk 1018's new type 1.9 state. Both sunblock periods are indicated in grey. (*stella_lc*)\n",
       "\n",
       "</div>\n",
       "<div id=\"div_fig2\">\n",
       "\n",
       "<img src=\"tmp_2307.14139/./wise_atlas.png\" alt=\"Fig9\" width=\"100%\"/>\n",
       "\n",
       "**Figure 9. -** _WISE_ IR light curve from MJD 57957 to MJD 59417 (Jul 2017 -- Jul 2021). The ATLAS $o$-band data for the same time period are shown for a visual reference of the rapidness of the IR response. The green line indicates the observed peak of the optical outburst in the ATLAS $o$-band. The blue dashed lines indicate the dates of the two _XMM-Newton_ observations before and after the outburst. (*wiselc*)\n",
       "\n",
       "</div>\n",
       "<div id=\"div_fig3\">\n",
       "\n",
       "<img src=\"tmp_2307.14139/./host+agn.png\" alt=\"Fig10\" width=\"100%\"/>\n",
       "\n",
       "**Figure 10. -** Image created by stacking the 20 VIMOS exposures of Mrk 1018 during the faint (type 1.9) phase, shown with a log scale. The pixel scale is $0.205$\\arcsec$$, corresponding to 179 \\si{pc} per pixel. The red boxes indicate regions that are masked in the fitting process. A subtle light-absorbing structure is marked with a blue box. This is approximated in the fitting by an elongated Sérsic function with a negative intensity.  (*vimos*)\n",
       "\n",
       "</div><div id=\"qrcode\"><img src=https://api.qrserver.com/v1/create-qr-code/?size=100x100&data=\"https://arxiv.org/abs/2307.14139\"></div>"
      ],
      "text/plain": [
       "<IPython.core.display.Markdown object>"
      ]
     },
     "metadata": {},
     "output_type": "display_data"
    },
    {
     "data": {
      "text/markdown": [
       "<div class=\"macros\" style=\"visibility:hidden;\">\n",
       "$\\newcommand{\\ensuremath}{}$\n",
       "$\\newcommand{\\xspace}{}$\n",
       "$\\newcommand{\\object}[1]{\\texttt{#1}}$\n",
       "$\\newcommand{\\farcs}{{.}''}$\n",
       "$\\newcommand{\\farcm}{{.}'}$\n",
       "$\\newcommand{\\arcsec}{''}$\n",
       "$\\newcommand{\\arcmin}{'}$\n",
       "$\\newcommand{\\ion}[2]{#1#2}$\n",
       "$\\newcommand{\\textsc}[1]{\\textrm{#1}}$\n",
       "$\\newcommand{\\hl}[1]{\\textrm{#1}}$\n",
       "$\\newcommand{\\footnote}[1]{}$\n",
       "$\\newcommand{\\vdag}{(v)^\\dagger}$\n",
       "$\\newcommand$\n",
       "$\\newcommand$</div>\n",
       "\n",
       "\n",
       "\n",
       "<div id=\"title\">\n",
       "\n",
       "# OGLE-2019-BLG-0825: Constraints on the Source System and Effect on Binary-lens Parameters arising from a Five Day Xallarap Effect in a Candidate Planetary Microlensing Event\n",
       "\n",
       "</div>\n",
       "<div id=\"comments\">\n",
       "\n",
       "[![arXiv](https://img.shields.io/badge/arXiv-2307.14274-b31b1b.svg)](https://arxiv.org/abs/2307.14274)<mark>Appeared on: 2023-07-27</mark> -  _19 pages, 7 figures, 6 tables. Accepted by AJ_\n",
       "\n",
       "</div>\n",
       "<div id=\"authors\">\n",
       "\n",
       "Y. K. Satoh, et al. -- incl., <mark>A. Gould</mark>\n",
       "\n",
       "</div>\n",
       "<div id=\"abstract\">\n",
       "\n",
       "**Abstract:** We present an analysis of microlensing event OGLE-2019-BLG-0825.This event was identified as a planetary candidate by preliminary modeling.We find that significant residuals from the best-fit static binary-lens model exist and a xallarap effect can fit the residuals very well and significantly improves $\\chi^2$ values.On the other hand, by including the xallarap effect in our models, we find that binary-lens parameters like mass-ratio, $q$ , and separation, $s$ , cannot be constrained well.However, we also find that the parameters for the source system like the orbital period and semi major axis are consistent between all the models we analyzed.We therefore constrain the properties of the source system better than the properties of the lens system.The source system comprises a G-type main-sequence star orbited by a brown dwarf with a period of $P\\sim5$ days.This analysis is the first to demonstrate that the xallarap effect does affect binary-lens parameters in planetary events.It would not be common for the presence or absence of the xallarap effect to affect lens parameters in events with long orbital periods of the source system or events with transits to caustics, but in other cases, such as this event, the xallarap effect can affect binary-lens parameters.\n",
       "\n",
       "</div>\n",
       "\n",
       "<div id=\"div_fig1\">\n",
       "\n",
       "<img src=\"tmp_2307.14274/./lightcurve.png\" alt=\"Fig3\" width=\"100%\"/>\n",
       "\n",
       "**Figure 3. -** (Top panel) Light curve for OGLE-2019-BLG-0825.\n",
       "    Error bars are renormalized according to Equation (\\ref{eq:error}).\n",
       "    The red solid, blue dashed, orange solid, and green dashed lines are the best 2L1S + xallarap model, the best 1L1S + xallarap model, the best 2L1S + parallax model and the best standard 2L1S model described in Section \\ref{sec:light_curve_modeling}, respectively.\n",
       "    (Middle panel) Residuals from the best 2L1S + xallarap model.\n",
       "    (Bottom panel) Residuals from the best 2L1S + xallarap model binned by 0.2 days.\n",
       "     (*fig:lightcurve*)\n",
       "\n",
       "</div>\n",
       "<div id=\"div_fig2\">\n",
       "\n",
       "<img src=\"tmp_2307.14274/./cmd_e=0.png\" alt=\"Fig2\" width=\"100%\"/>\n",
       "\n",
       "**Figure 2. -** \n",
       "    Color Magnitude Diagram (CMD, black dots) of the OGLE-$\\mathrm{I}\\hspace{-1.2pt}\\mathrm{I}\\hspace{-1.2pt}\\mathrm{I}$ stars within $2’$ around OGLE-2019-BLG-0825. The green dots are stars in Baade's window based on Hubble Space Telescope observations \\citep{Holtzman+1998}, color- and magnitude-matched at the RCG position. The orange circles represent the positions of the source, and the red dots represent the positions of the RCG centroid within $2’$ around OGLE-2019-BLG-0825.\n",
       "     (*fig:cmd*)\n",
       "\n",
       "</div>\n",
       "<div id=\"div_fig3\">\n",
       "\n",
       "<img src=\"tmp_2307.14274/./GS1+2.png\" alt=\"Fig4\" width=\"100%\"/>\n",
       "\n",
       "**Figure 4. -** \n",
       "    Map of $\\Delta\\chi^2$ in each $s–q$ grid from the $(q,s,\\alpha)$ grid search for the standard 2L1S model (Left) and for the 2L1S + xallarap model (Right).\n",
       "    The best fit $\\alpha$ is chosen for each grid location, respectively.\n",
       "    In the map of the standard 2L1S model, we found the best solution at $q\\sim10^{-3}$.\n",
       "    However, for the 2L1S + xallarap map, best solutions at two other local minima appear at $q > 0.1$.\n",
       "     (*fig:Grid_search*)\n",
       "\n",
       "</div><div id=\"qrcode\"><img src=https://api.qrserver.com/v1/create-qr-code/?size=100x100&data=\"https://arxiv.org/abs/2307.14274\"></div>"
      ],
      "text/plain": [
       "<IPython.core.display.Markdown object>"
      ]
     },
     "metadata": {},
     "output_type": "display_data"
    }
   ],
   "source": [
    "[display(Markdown(k[1])) for k in documents];"
   ]
  },
  {
   "cell_type": "markdown",
   "id": "873873a4",
   "metadata": {
    "papermill": {
     "duration": 0.006216,
     "end_time": "2023-07-27T04:05:05.919069",
     "exception": false,
     "start_time": "2023-07-27T04:05:05.912853",
     "status": "completed"
    },
    "tags": []
   },
   "source": [
    "# Create HTML index"
   ]
  },
  {
   "cell_type": "code",
   "execution_count": 9,
   "id": "cf665672",
   "metadata": {
    "execution": {
     "iopub.execute_input": "2023-07-27T04:05:05.933123Z",
     "iopub.status.busy": "2023-07-27T04:05:05.932614Z",
     "iopub.status.idle": "2023-07-27T04:05:05.943147Z",
     "shell.execute_reply": "2023-07-27T04:05:05.942438Z"
    },
    "papermill": {
     "duration": 0.01937,
     "end_time": "2023-07-27T04:05:05.944696",
     "exception": false,
     "start_time": "2023-07-27T04:05:05.925326",
     "status": "completed"
    },
    "tags": []
   },
   "outputs": [
    {
     "name": "stdout",
     "output_type": "stream",
     "text": [
      "237  publications files modified in the last 7 days.\n"
     ]
    }
   ],
   "source": [
    "from datetime import datetime, timedelta, timezone\n",
    "from glob import glob\n",
    "import os\n",
    "\n",
    "files = glob('_build/html/*.md')\n",
    "days = 7\n",
    "now = datetime.today()\n",
    "res = []\n",
    "for fk in files:\n",
    "    stat_result = os.stat(fk).st_ctime\n",
    "    modified = datetime.fromtimestamp(stat_result, tz=timezone.utc).replace(tzinfo=None)\n",
    "    delta = now.today() - modified\n",
    "    if delta <= timedelta(days=days):\n",
    "        res.append((delta.seconds, fk))\n",
    "res = [k[1] for k in reversed(sorted(res, key=lambda x:x[1]))]\n",
    "npub = len(res)\n",
    "print(len(res), f\" publications files modified in the last {days:d} days.\")\n",
    "# [ print('\\t', k) for k in res ];"
   ]
  },
  {
   "cell_type": "code",
   "execution_count": 10,
   "id": "015de740",
   "metadata": {
    "execution": {
     "iopub.execute_input": "2023-07-27T04:05:05.959745Z",
     "iopub.status.busy": "2023-07-27T04:05:05.959039Z",
     "iopub.status.idle": "2023-07-27T04:05:05.978531Z",
     "shell.execute_reply": "2023-07-27T04:05:05.977818Z"
    },
    "papermill": {
     "duration": 0.028785,
     "end_time": "2023-07-27T04:05:05.980156",
     "exception": false,
     "start_time": "2023-07-27T04:05:05.951371",
     "status": "completed"
    },
    "tags": []
   },
   "outputs": [
    {
     "name": "stdout",
     "output_type": "stream",
     "text": [
      "7  publications in the last 7 days.\n"
     ]
    }
   ],
   "source": [
    "import datetime\n",
    "from glob import glob\n",
    "\n",
    "def get_last_n_days(lst, days=1):\n",
    "    \"\"\" Get the documents from the last n days \"\"\"\n",
    "    sorted_lst = sorted(lst, key=lambda x: x[1], reverse=True)\n",
    "    for fname, date in sorted_lst:\n",
    "        if date >= str(datetime.date.today() - datetime.timedelta(days=days)):\n",
    "            yield fname\n",
    "\n",
    "def extract_appearance_dates(lst_file):\n",
    "    dates = []\n",
    "\n",
    "    def get_date(line):\n",
    "        return line\\\n",
    "            .split('Appeared on:')[-1]\\\n",
    "            .split('</mark>')[0].strip()\n",
    "\n",
    "    for fname in lst:\n",
    "        with open(fname, 'r') as f:\n",
    "            found_date = False\n",
    "            for line in f:\n",
    "                if not found_date:\n",
    "                    if \"Appeared on\" in line:\n",
    "                        found_date = True\n",
    "                        dates.append((fname, get_date(line)))\n",
    "                else:\n",
    "                    break\n",
    "    return dates\n",
    "\n",
    "from glob import glob\n",
    "lst = glob('_build/html/*md')\n",
    "days = 7\n",
    "dates = extract_appearance_dates(lst)\n",
    "res = list(get_last_n_days(dates, days))\n",
    "npub = len(res)\n",
    "print(len(res), f\" publications in the last {days:d} days.\")"
   ]
  },
  {
   "cell_type": "code",
   "execution_count": 11,
   "id": "52ca0208",
   "metadata": {
    "execution": {
     "iopub.execute_input": "2023-07-27T04:05:05.994791Z",
     "iopub.status.busy": "2023-07-27T04:05:05.994306Z",
     "iopub.status.idle": "2023-07-27T04:05:06.000025Z",
     "shell.execute_reply": "2023-07-27T04:05:05.999369Z"
    },
    "papermill": {
     "duration": 0.014659,
     "end_time": "2023-07-27T04:05:06.001550",
     "exception": false,
     "start_time": "2023-07-27T04:05:05.986891",
     "status": "completed"
    },
    "scrolled": false,
    "tags": []
   },
   "outputs": [],
   "source": [
    "def create_carousel(npub=4):\n",
    "    \"\"\" Generate the HTML code for a carousel with `npub` slides \"\"\"\n",
    "    carousel = [\"\"\"  <div class=\"carousel\" \"\"\",\n",
    "                \"\"\"       data-flickity='{ \"autoPlay\": 10000, \"adaptiveHeight\": true, \"resize\": true, \"wrapAround\": true, \"pauseAutoPlayOnHover\": true, \"groupCells\": 1 }' id=\"asyncTypeset\">\"\"\"\n",
    "                ]\n",
    "    \n",
    "    item_str = \"\"\"    <div class=\"carousel-cell\"> <div id=\"slide{k}\" class=\"md_view\">Content {k}</div> </div>\"\"\"\n",
    "    for k in range(1, npub + 1):\n",
    "        carousel.append(item_str.format(k=k))\n",
    "    carousel.append(\"  </div>\")\n",
    "    return '\\n'.join(carousel)\n",
    "\n",
    "def create_grid(npub=4):\n",
    "    \"\"\" Generate the HTML code for a flat grid with `npub` slides \"\"\"\n",
    "    grid = [\"\"\"  <div class=\"grid\"> \"\"\",\n",
    "                ]\n",
    "    \n",
    "    item_str = \"\"\"    <div class=\"grid-item\"> <div id=\"slide{k}\" class=\"md_view\">Content {k}</div> </div>\"\"\"\n",
    "    for k in range(1, npub + 1):\n",
    "        grid.append(item_str.format(k=k))\n",
    "    grid.append(\"  </div>\")\n",
    "    return '\\n'.join(grid)"
   ]
  },
  {
   "cell_type": "code",
   "execution_count": 12,
   "id": "a6eac5b6",
   "metadata": {
    "execution": {
     "iopub.execute_input": "2023-07-27T04:05:06.016049Z",
     "iopub.status.busy": "2023-07-27T04:05:06.015647Z",
     "iopub.status.idle": "2023-07-27T04:05:06.021675Z",
     "shell.execute_reply": "2023-07-27T04:05:06.020993Z"
    },
    "papermill": {
     "duration": 0.015082,
     "end_time": "2023-07-27T04:05:06.023246",
     "exception": false,
     "start_time": "2023-07-27T04:05:06.008164",
     "status": "completed"
    },
    "scrolled": false,
    "tags": []
   },
   "outputs": [],
   "source": [
    "carousel = create_carousel(npub)\n",
    "docs = ', '.join(['\"{0:s}\"'.format(k.split('/')[-1]) for k in res])\n",
    "slides = ', '.join([f'\"slide{k}\"' for k in range(1, npub + 1)])\n",
    "\n",
    "with open(\"daily_template.html\", \"r\") as tpl:\n",
    "    page = tpl.read()\n",
    "    page = page.replace(\"{%-- carousel:s --%}\", carousel)\\\n",
    "               .replace(\"{%-- suptitle:s --%}\",  \"7-day archives\" )\\\n",
    "               .replace(\"{%-- docs:s --%}\", docs)\\\n",
    "               .replace(\"{%-- slides:s --%}\", slides)\n",
    "    \n",
    "with open(\"_build/html/index_7days.html\", 'w') as fout:\n",
    "    fout.write(page)"
   ]
  },
  {
   "cell_type": "code",
   "execution_count": 13,
   "id": "adc1a1ec",
   "metadata": {
    "execution": {
     "iopub.execute_input": "2023-07-27T04:05:06.038355Z",
     "iopub.status.busy": "2023-07-27T04:05:06.037579Z",
     "iopub.status.idle": "2023-07-27T04:05:06.045156Z",
     "shell.execute_reply": "2023-07-27T04:05:06.044618Z"
    },
    "papermill": {
     "duration": 0.016724,
     "end_time": "2023-07-27T04:05:06.046602",
     "exception": false,
     "start_time": "2023-07-27T04:05:06.029878",
     "status": "completed"
    },
    "tags": []
   },
   "outputs": [
    {
     "name": "stdout",
     "output_type": "stream",
     "text": [
      "4  publications in the last day.\n"
     ]
    }
   ],
   "source": [
    "# redo for today\n",
    "days = 1\n",
    "res = list(get_last_n_days(dates, days))\n",
    "npub = len(res)\n",
    "print(len(res), f\" publications in the last day.\")\n",
    "\n",
    "carousel = create_carousel(npub)\n",
    "docs = ', '.join(['\"{0:s}\"'.format(k.split('/')[-1]) for k in res])\n",
    "slides = ', '.join([f'\"slide{k}\"' for k in range(1, npub + 1)])\n",
    "\n",
    "with open(\"daily_template.html\", \"r\") as tpl:\n",
    "    page = tpl.read()\n",
    "    page = page.replace(\"{%-- carousel:s --%}\", carousel)\\\n",
    "               .replace(\"{%-- suptitle:s --%}\",  \"Daily\" )\\\n",
    "               .replace(\"{%-- docs:s --%}\", docs)\\\n",
    "               .replace(\"{%-- slides:s --%}\", slides)\n",
    "    \n",
    "# print(carousel, docs, slides)\n",
    "# print(page)\n",
    "with open(\"_build/html/index_daily.html\", 'w') as fout:\n",
    "    fout.write(page)"
   ]
  },
  {
   "cell_type": "code",
   "execution_count": 14,
   "id": "00eece82",
   "metadata": {
    "execution": {
     "iopub.execute_input": "2023-07-27T04:05:06.061408Z",
     "iopub.status.busy": "2023-07-27T04:05:06.060943Z",
     "iopub.status.idle": "2023-07-27T04:05:06.068757Z",
     "shell.execute_reply": "2023-07-27T04:05:06.068224Z"
    },
    "papermill": {
     "duration": 0.016769,
     "end_time": "2023-07-27T04:05:06.070161",
     "exception": false,
     "start_time": "2023-07-27T04:05:06.053392",
     "status": "completed"
    },
    "scrolled": false,
    "tags": []
   },
   "outputs": [
    {
     "name": "stdout",
     "output_type": "stream",
     "text": [
      "6"
     ]
    },
    {
     "name": "stdout",
     "output_type": "stream",
     "text": [
      "  6 publications selected.\n"
     ]
    }
   ],
   "source": [
    "# Create the flat grid of the last N papers (fixed number regardless of dates)\n",
    "from itertools import islice \n",
    "\n",
    "npub = 6\n",
    "res = [k[0] for k in (islice(reversed(sorted(dates, key=lambda x: x[1])), 6))]\n",
    "print(len(res), f\" {npub} publications selected.\")\n",
    "\n",
    "grid = create_grid(npub)\n",
    "docs = ', '.join(['\"{0:s}\"'.format(k.split('/')[-1]) for k in res])\n",
    "slides = ', '.join([f'\"slide{k}\"' for k in range(1, npub + 1)])\n",
    "\n",
    "with open(\"grid_template.html\", \"r\") as tpl:\n",
    "    page = tpl.read()\n",
    "    page = page.replace(\"{%-- grid-content:s --%}\", grid)\\\n",
    "               .replace(\"{%-- suptitle:s --%}\",  f\"Last {npub:,d} papers\" )\\\n",
    "               .replace(\"{%-- docs:s --%}\", docs)\\\n",
    "               .replace(\"{%-- slides:s --%}\", slides)\n",
    "    \n",
    "# print(grid, docs, slides)\n",
    "# print(page)\n",
    "with open(\"_build/html/index_npub_grid.html\", 'w') as fout:\n",
    "    fout.write(page)"
   ]
  }
 ],
 "metadata": {
  "kernelspec": {
   "display_name": "Python 3 (ipykernel)",
   "language": "python",
   "name": "python3"
  },
  "language_info": {
   "codemirror_mode": {
    "name": "ipython",
    "version": 3
   },
   "file_extension": ".py",
   "mimetype": "text/x-python",
   "name": "python",
   "nbconvert_exporter": "python",
   "pygments_lexer": "ipython3",
   "version": "3.9.17"
  },
  "papermill": {
   "default_parameters": {},
   "duration": 86.54623,
   "end_time": "2023-07-27T04:05:06.497463",
   "environment_variables": {},
   "exception": null,
   "input_path": "MPIA daily digest.ipynb",
   "output_path": "log.ipynb",
   "parameters": {},
   "start_time": "2023-07-27T04:03:39.951233",
   "version": "2.4.0"
  },
  "vscode": {
   "interpreter": {
    "hash": "aee8b7b246df8f9039afb4144a1f6fd8d2ca17a180786b69acc140d282b71a49"
   }
  },
  "widgets": {
   "application/vnd.jupyter.widget-state+json": {
    "state": {
     "08eed7f6de4f457d888a6ed4878e2f4e": {
      "model_module": "@jupyter-widgets/base",
      "model_module_version": "2.0.0",
      "model_name": "LayoutModel",
      "state": {
       "_model_module": "@jupyter-widgets/base",
       "_model_module_version": "2.0.0",
       "_model_name": "LayoutModel",
       "_view_count": null,
       "_view_module": "@jupyter-widgets/base",
       "_view_module_version": "2.0.0",
       "_view_name": "LayoutView",
       "align_content": null,
       "align_items": null,
       "align_self": null,
       "border_bottom": null,
       "border_left": null,
       "border_right": null,
       "border_top": null,
       "bottom": null,
       "display": null,
       "flex": null,
       "flex_flow": null,
       "grid_area": null,
       "grid_auto_columns": null,
       "grid_auto_flow": null,
       "grid_auto_rows": null,
       "grid_column": null,
       "grid_gap": null,
       "grid_row": null,
       "grid_template_areas": null,
       "grid_template_columns": null,
       "grid_template_rows": null,
       "height": null,
       "justify_content": null,
       "justify_items": null,
       "left": null,
       "margin": null,
       "max_height": null,
       "max_width": null,
       "min_height": null,
       "min_width": null,
       "object_fit": null,
       "object_position": null,
       "order": null,
       "overflow": null,
       "padding": null,
       "right": null,
       "top": null,
       "visibility": null,
       "width": null
      }
     },
     "347b0b7c8c044131908c86866add6c1d": {
      "model_module": "@jupyter-widgets/controls",
      "model_module_version": "2.0.0",
      "model_name": "FloatProgressModel",
      "state": {
       "_dom_classes": [],
       "_model_module": "@jupyter-widgets/controls",
       "_model_module_version": "2.0.0",
       "_model_name": "FloatProgressModel",
       "_view_count": null,
       "_view_module": "@jupyter-widgets/controls",
       "_view_module_version": "2.0.0",
       "_view_name": "ProgressView",
       "bar_style": "success",
       "description": "",
       "description_allow_html": false,
       "layout": "IPY_MODEL_ec67447f6ee84781b2afaa57ff6125ab",
       "max": 4.0,
       "min": 0.0,
       "orientation": "horizontal",
       "style": "IPY_MODEL_d5645a5040fe4685aed046e5b43c6e5d",
       "tabbable": null,
       "tooltip": null,
       "value": 4.0
      }
     },
     "3faa5850e7ee4c36a9a64d9c16283aef": {
      "model_module": "@jupyter-widgets/base",
      "model_module_version": "2.0.0",
      "model_name": "LayoutModel",
      "state": {
       "_model_module": "@jupyter-widgets/base",
       "_model_module_version": "2.0.0",
       "_model_name": "LayoutModel",
       "_view_count": null,
       "_view_module": "@jupyter-widgets/base",
       "_view_module_version": "2.0.0",
       "_view_name": "LayoutView",
       "align_content": null,
       "align_items": null,
       "align_self": null,
       "border_bottom": null,
       "border_left": null,
       "border_right": null,
       "border_top": null,
       "bottom": null,
       "display": null,
       "flex": null,
       "flex_flow": null,
       "grid_area": null,
       "grid_auto_columns": null,
       "grid_auto_flow": null,
       "grid_auto_rows": null,
       "grid_column": null,
       "grid_gap": null,
       "grid_row": null,
       "grid_template_areas": null,
       "grid_template_columns": null,
       "grid_template_rows": null,
       "height": null,
       "justify_content": null,
       "justify_items": null,
       "left": null,
       "margin": null,
       "max_height": null,
       "max_width": null,
       "min_height": null,
       "min_width": null,
       "object_fit": null,
       "object_position": null,
       "order": null,
       "overflow": null,
       "padding": null,
       "right": null,
       "top": null,
       "visibility": null,
       "width": null
      }
     },
     "4333ffdae4004b589dcb4f24715d6e46": {
      "model_module": "@jupyter-widgets/controls",
      "model_module_version": "2.0.0",
      "model_name": "HTMLModel",
      "state": {
       "_dom_classes": [],
       "_model_module": "@jupyter-widgets/controls",
       "_model_module_version": "2.0.0",
       "_model_name": "HTMLModel",
       "_view_count": null,
       "_view_module": "@jupyter-widgets/controls",
       "_view_module_version": "2.0.0",
       "_view_name": "HTMLView",
       "description": "",
       "description_allow_html": false,
       "layout": "IPY_MODEL_9df63f233ae2486e9d7998e1bac5b36f",
       "placeholder": "​",
       "style": "IPY_MODEL_b32be11be06d48159da039d683c84700",
       "tabbable": null,
       "tooltip": null,
       "value": " 4/4 [01:02&lt;00:00, 19.52s/it]"
      }
     },
     "4368d308317548a28256c2fa1a389cf7": {
      "model_module": "@jupyter-widgets/controls",
      "model_module_version": "2.0.0",
      "model_name": "HTMLStyleModel",
      "state": {
       "_model_module": "@jupyter-widgets/controls",
       "_model_module_version": "2.0.0",
       "_model_name": "HTMLStyleModel",
       "_view_count": null,
       "_view_module": "@jupyter-widgets/base",
       "_view_module_version": "2.0.0",
       "_view_name": "StyleView",
       "background": null,
       "description_width": "",
       "font_size": null,
       "text_color": null
      }
     },
     "4e39afdcd8d148e6b6808bc7ac12b5ba": {
      "model_module": "@jupyter-widgets/controls",
      "model_module_version": "2.0.0",
      "model_name": "HBoxModel",
      "state": {
       "_dom_classes": [],
       "_model_module": "@jupyter-widgets/controls",
       "_model_module_version": "2.0.0",
       "_model_name": "HBoxModel",
       "_view_count": null,
       "_view_module": "@jupyter-widgets/controls",
       "_view_module_version": "2.0.0",
       "_view_name": "HBoxView",
       "box_style": "",
       "children": [
        "IPY_MODEL_e615b08469d5447488245bafdc6f2032",
        "IPY_MODEL_347b0b7c8c044131908c86866add6c1d",
        "IPY_MODEL_4333ffdae4004b589dcb4f24715d6e46"
       ],
       "layout": "IPY_MODEL_3faa5850e7ee4c36a9a64d9c16283aef",
       "tabbable": null,
       "tooltip": null
      }
     },
     "9df63f233ae2486e9d7998e1bac5b36f": {
      "model_module": "@jupyter-widgets/base",
      "model_module_version": "2.0.0",
      "model_name": "LayoutModel",
      "state": {
       "_model_module": "@jupyter-widgets/base",
       "_model_module_version": "2.0.0",
       "_model_name": "LayoutModel",
       "_view_count": null,
       "_view_module": "@jupyter-widgets/base",
       "_view_module_version": "2.0.0",
       "_view_name": "LayoutView",
       "align_content": null,
       "align_items": null,
       "align_self": null,
       "border_bottom": null,
       "border_left": null,
       "border_right": null,
       "border_top": null,
       "bottom": null,
       "display": null,
       "flex": null,
       "flex_flow": null,
       "grid_area": null,
       "grid_auto_columns": null,
       "grid_auto_flow": null,
       "grid_auto_rows": null,
       "grid_column": null,
       "grid_gap": null,
       "grid_row": null,
       "grid_template_areas": null,
       "grid_template_columns": null,
       "grid_template_rows": null,
       "height": null,
       "justify_content": null,
       "justify_items": null,
       "left": null,
       "margin": null,
       "max_height": null,
       "max_width": null,
       "min_height": null,
       "min_width": null,
       "object_fit": null,
       "object_position": null,
       "order": null,
       "overflow": null,
       "padding": null,
       "right": null,
       "top": null,
       "visibility": null,
       "width": null
      }
     },
     "b32be11be06d48159da039d683c84700": {
      "model_module": "@jupyter-widgets/controls",
      "model_module_version": "2.0.0",
      "model_name": "HTMLStyleModel",
      "state": {
       "_model_module": "@jupyter-widgets/controls",
       "_model_module_version": "2.0.0",
       "_model_name": "HTMLStyleModel",
       "_view_count": null,
       "_view_module": "@jupyter-widgets/base",
       "_view_module_version": "2.0.0",
       "_view_name": "StyleView",
       "background": null,
       "description_width": "",
       "font_size": null,
       "text_color": null
      }
     },
     "d5645a5040fe4685aed046e5b43c6e5d": {
      "model_module": "@jupyter-widgets/controls",
      "model_module_version": "2.0.0",
      "model_name": "ProgressStyleModel",
      "state": {
       "_model_module": "@jupyter-widgets/controls",
       "_model_module_version": "2.0.0",
       "_model_name": "ProgressStyleModel",
       "_view_count": null,
       "_view_module": "@jupyter-widgets/base",
       "_view_module_version": "2.0.0",
       "_view_name": "StyleView",
       "bar_color": null,
       "description_width": ""
      }
     },
     "e615b08469d5447488245bafdc6f2032": {
      "model_module": "@jupyter-widgets/controls",
      "model_module_version": "2.0.0",
      "model_name": "HTMLModel",
      "state": {
       "_dom_classes": [],
       "_model_module": "@jupyter-widgets/controls",
       "_model_module_version": "2.0.0",
       "_model_name": "HTMLModel",
       "_view_count": null,
       "_view_module": "@jupyter-widgets/controls",
       "_view_module_version": "2.0.0",
       "_view_name": "HTMLView",
       "description": "",
       "description_allow_html": false,
       "layout": "IPY_MODEL_08eed7f6de4f457d888a6ed4878e2f4e",
       "placeholder": "​",
       "style": "IPY_MODEL_4368d308317548a28256c2fa1a389cf7",
       "tabbable": null,
       "tooltip": null,
       "value": "100%"
      }
     },
     "ec67447f6ee84781b2afaa57ff6125ab": {
      "model_module": "@jupyter-widgets/base",
      "model_module_version": "2.0.0",
      "model_name": "LayoutModel",
      "state": {
       "_model_module": "@jupyter-widgets/base",
       "_model_module_version": "2.0.0",
       "_model_name": "LayoutModel",
       "_view_count": null,
       "_view_module": "@jupyter-widgets/base",
       "_view_module_version": "2.0.0",
       "_view_name": "LayoutView",
       "align_content": null,
       "align_items": null,
       "align_self": null,
       "border_bottom": null,
       "border_left": null,
       "border_right": null,
       "border_top": null,
       "bottom": null,
       "display": null,
       "flex": null,
       "flex_flow": null,
       "grid_area": null,
       "grid_auto_columns": null,
       "grid_auto_flow": null,
       "grid_auto_rows": null,
       "grid_column": null,
       "grid_gap": null,
       "grid_row": null,
       "grid_template_areas": null,
       "grid_template_columns": null,
       "grid_template_rows": null,
       "height": null,
       "justify_content": null,
       "justify_items": null,
       "left": null,
       "margin": null,
       "max_height": null,
       "max_width": null,
       "min_height": null,
       "min_width": null,
       "object_fit": null,
       "object_position": null,
       "order": null,
       "overflow": null,
       "padding": null,
       "right": null,
       "top": null,
       "visibility": null,
       "width": null
      }
     }
    },
    "version_major": 2,
    "version_minor": 0
   }
  }
 },
 "nbformat": 4,
 "nbformat_minor": 5
}