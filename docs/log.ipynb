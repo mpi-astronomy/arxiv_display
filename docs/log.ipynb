{
 "cells": [
  {
   "cell_type": "markdown",
   "id": "92bcb855",
   "metadata": {
    "papermill": {
     "duration": 0.004057,
     "end_time": "2024-06-05T04:11:02.382102",
     "exception": false,
     "start_time": "2024-06-05T04:11:02.378045",
     "status": "completed"
    },
    "tags": []
   },
   "source": [
    "# MPIA Arxiv on Deck 2\n",
    "\n",
    "Contains the steps to produce the paper extractions."
   ]
  },
  {
   "cell_type": "code",
   "execution_count": 1,
   "id": "3a0d6e11",
   "metadata": {
    "execution": {
     "iopub.execute_input": "2024-06-05T04:11:02.390042Z",
     "iopub.status.busy": "2024-06-05T04:11:02.389444Z",
     "iopub.status.idle": "2024-06-05T04:11:03.010960Z",
     "shell.execute_reply": "2024-06-05T04:11:03.010217Z"
    },
    "papermill": {
     "duration": 0.62764,
     "end_time": "2024-06-05T04:11:03.012978",
     "exception": false,
     "start_time": "2024-06-05T04:11:02.385338",
     "status": "completed"
    },
    "tags": []
   },
   "outputs": [],
   "source": [
    "# Imports\n",
    "import os\n",
    "from IPython.display import Markdown, display\n",
    "from tqdm.notebook import tqdm\n",
    "import warnings\n",
    "from PIL import Image \n",
    "\n",
    "# requires arxiv_on_deck_2\n",
    "\n",
    "from arxiv_on_deck_2.arxiv2 import (get_new_papers, \n",
    "                                    get_paper_from_identifier,\n",
    "                                    retrieve_document_source, \n",
    "                                    get_markdown_badge)\n",
    "from arxiv_on_deck_2 import (latex,\n",
    "                             latex_bib,\n",
    "                             mpia,\n",
    "                             highlight_authors_in_list)\n",
    "\n",
    "# Sometimes images are really big\n",
    "Image.MAX_IMAGE_PIXELS = 1000000000 "
   ]
  },
  {
   "cell_type": "code",
   "execution_count": 2,
   "id": "22aa9d44",
   "metadata": {
    "execution": {
     "iopub.execute_input": "2024-06-05T04:11:03.020574Z",
     "iopub.status.busy": "2024-06-05T04:11:03.020237Z",
     "iopub.status.idle": "2024-06-05T04:11:03.025661Z",
     "shell.execute_reply": "2024-06-05T04:11:03.024987Z"
    },
    "papermill": {
     "duration": 0.010865,
     "end_time": "2024-06-05T04:11:03.027107",
     "exception": false,
     "start_time": "2024-06-05T04:11:03.016242",
     "status": "completed"
    },
    "tags": []
   },
   "outputs": [],
   "source": [
    "# Some useful definitions.\n",
    "\n",
    "class AffiliationWarning(UserWarning):\n",
    "    pass\n",
    "\n",
    "class AffiliationError(RuntimeError):\n",
    "    pass\n",
    "\n",
    "def validation(source: str):\n",
    "    \"\"\"Raises error paper during parsing of source file\n",
    "    \n",
    "    Allows checks before parsing TeX code.\n",
    "    \n",
    "    Raises AffiliationWarning\n",
    "    \"\"\"\n",
    "    check = mpia.affiliation_verifications(source, verbose=True)\n",
    "    if check is not True:\n",
    "        raise AffiliationError(\"mpia.affiliation_verifications: \" + check)\n",
    "\n",
    "        \n",
    "warnings.simplefilter('always', AffiliationWarning)\n",
    "\n",
    "\n",
    "def get_markdown_qrcode(paper_id: str):\n",
    "    \"\"\" Generate a qrcode to the arxiv page using qrserver.com\n",
    "    \n",
    "    :param paper: Arxiv paper\n",
    "    :returns: markdown text\n",
    "    \"\"\"\n",
    "    url = r\"https://api.qrserver.com/v1/create-qr-code/?size=100x100&data=\"\n",
    "    txt = f\"\"\"<img src={url}\"https://arxiv.org/abs/{paper_id}\">\"\"\"\n",
    "    txt = '<div id=\"qrcode\">' + txt + '</div>'\n",
    "    return txt"
   ]
  },
  {
   "cell_type": "markdown",
   "id": "14bd6310",
   "metadata": {
    "papermill": {
     "duration": 0.002908,
     "end_time": "2024-06-05T04:11:03.033079",
     "exception": false,
     "start_time": "2024-06-05T04:11:03.030171",
     "status": "completed"
    },
    "tags": []
   },
   "source": [
    "## get list of arxiv paper candidates\n",
    "\n",
    "We use the MPIA mitarbeiter list webpage from mpia.de to get author names\n",
    "We then get all new papers from Arxiv and match authors"
   ]
  },
  {
   "cell_type": "code",
   "execution_count": 3,
   "id": "7ea813a8",
   "metadata": {
    "execution": {
     "iopub.execute_input": "2024-06-05T04:11:03.040134Z",
     "iopub.status.busy": "2024-06-05T04:11:03.039754Z",
     "iopub.status.idle": "2024-06-05T04:11:23.031580Z",
     "shell.execute_reply": "2024-06-05T04:11:23.030803Z"
    },
    "papermill": {
     "duration": 19.997443,
     "end_time": "2024-06-05T04:11:23.033474",
     "exception": false,
     "start_time": "2024-06-05T04:11:03.036031",
     "status": "completed"
    },
    "tags": []
   },
   "outputs": [],
   "source": [
    "# deal with the author list and edge cases of people that cannot be consistent on their name  \n",
    "\n",
    "def filter_non_scientists(name: str) -> bool:\n",
    "    \"\"\" Loose filter on expected authorships\n",
    "\n",
    "    removing IT, administration, technical staff\n",
    "    :param name: name\n",
    "    :returns: False if name is not a scientist\n",
    "    \"\"\"\n",
    "    remove_list = ['Wolf', 'Licht', 'Binroth', 'Witzel', 'Jordan',\n",
    "                   'Zähringer', 'Scheerer', 'Hoffmann', 'Düe',\n",
    "                   'Hellmich', 'Enkler-Scharpegge', 'Witte-Nguy',\n",
    "                   'Dehen', 'Beckmann', 'Jager', 'Jäger'\n",
    "                  ]\n",
    "\n",
    "    for k in remove_list:\n",
    "        if k in name:\n",
    "            return False\n",
    "    return True\n",
    "\n",
    "def add_author_to_list(author_list: list) -> list:\n",
    "    \"\"\" Add author to list if not already in list\n",
    "    \n",
    "    :param author: author name\n",
    "    :param author_list: list of authors\n",
    "    :returns: updated list of authors\n",
    "    \"\"\"\n",
    "    add_list = ['T. Henning']\n",
    "\n",
    "    for author in add_list:\n",
    "        if author not in author_list:\n",
    "            author_list.append(author)\n",
    "    return author_list\n",
    "\n",
    "# get list from MPIA website\n",
    "# filter for non-scientists (mpia.get_mpia_mitarbeiter_list() does some filtering)\n",
    "mpia_authors = [k[1] for k in mpia.get_mpia_mitarbeiter_list() if filter_non_scientists(k[1])]\n",
    "# add some missing author because of inconsistencies in their MPIA name and author name on papers\n",
    "mpia_authors = add_author_to_list(mpia_authors)"
   ]
  },
  {
   "cell_type": "code",
   "execution_count": 4,
   "id": "2645e73a",
   "metadata": {
    "execution": {
     "iopub.execute_input": "2024-06-05T04:11:23.041724Z",
     "iopub.status.busy": "2024-06-05T04:11:23.041136Z",
     "iopub.status.idle": "2024-06-05T04:11:24.094023Z",
     "shell.execute_reply": "2024-06-05T04:11:24.093251Z"
    },
    "papermill": {
     "duration": 1.058672,
     "end_time": "2024-06-05T04:11:24.095603",
     "exception": false,
     "start_time": "2024-06-05T04:11:23.036931",
     "status": "completed"
    },
    "tags": []
   },
   "outputs": [
    {
     "name": "stdout",
     "output_type": "stream",
     "text": [
      "H.-W. Rix  ->  H.-W. Rix  |  ['H.-W. Rix']\n",
      "N. Neumayer  ->  N. Neumayer  |  ['N. Neumayer']\n",
      "M. Häberle  ->  M. Häberle  |  ['M. Häberle']\n",
      "C. Clontz  ->  C. Clontz  |  ['C. Clontz']\n",
      "H.-W. Rix  ->  H.-W. Rix  |  ['H.-W. Rix']\n",
      "A. Pillepich  ->  A. Pillepich  |  ['A. Pillepich']\n",
      "J. Lian  ->  J. Lian  |  ['J. Lian']\n",
      "U. Chadayammuri  ->  U. Chadayammuri  |  ['U. Chadayammuri']\n",
      "E. Matthews  ->  E. Matthews  |  ['E. Matthews']\n"
     ]
    },
    {
     "name": "stdout",
     "output_type": "stream",
     "text": [
      "C. Gapp  ->  C. Gapp  |  ['C. Gapp']\n",
      "L. Kreidberg  ->  L. Kreidberg  |  ['L. Kreidberg']\n",
      "Arxiv has 64 new papers today\n",
      "          7 with possible author matches\n"
     ]
    }
   ],
   "source": [
    "new_papers = get_new_papers()\n",
    "# add manual references\n",
    "add_paper_refs = []\n",
    "new_papers.extend([get_paper_from_identifier(k) for k in add_paper_refs])\n",
    "\n",
    "candidates = []\n",
    "for paperk in new_papers:\n",
    "    # Check author list with their initials\n",
    "    normed_author_list = [mpia.get_initials(k) for k in paperk['authors']]\n",
    "    hl_authors = highlight_authors_in_list(normed_author_list, mpia_authors, verbose=True)\n",
    "    matches = [(hl, orig) for hl, orig in zip(hl_authors, paperk['authors']) if 'mark' in hl]\n",
    "    paperk['authors'] = hl_authors\n",
    "    if matches:\n",
    "        # only select paper if an author matched our list\n",
    "        candidates.append(paperk)\n",
    "print(\"\"\"Arxiv has {0:,d} new papers today\"\"\".format(len(new_papers)))        \n",
    "print(\"\"\"          {0:,d} with possible author matches\"\"\".format(len(candidates)))"
   ]
  },
  {
   "cell_type": "markdown",
   "id": "3543b34a",
   "metadata": {
    "papermill": {
     "duration": 0.004431,
     "end_time": "2024-06-05T04:11:24.103580",
     "exception": false,
     "start_time": "2024-06-05T04:11:24.099149",
     "status": "completed"
    },
    "tags": []
   },
   "source": [
    "# Parse sources and generate relevant outputs\n",
    "\n",
    "From the candidates, we do the following steps:\n",
    "* get their tarball from ArXiv (and extract data)\n",
    "* find the main .tex file: find one with \\documentclass{...} (sometimes it's non trivial)\n",
    "* Check affiliations with :func:`validation`, which uses :func:`mpia.affiliation_verifications`\n",
    "* If passing the affiliations: we parse the .tex source\n",
    "   * inject sub-documents into the main (flatten the main document)\n",
    "   * parse structure, extract information (title, abstract, authors, figures...)\n",
    "   * handles `\\graphicspath` if provided\n",
    "* Generate the .md document."
   ]
  },
  {
   "cell_type": "code",
   "execution_count": 5,
   "id": "9576b79e",
   "metadata": {
    "execution": {
     "iopub.execute_input": "2024-06-05T04:11:24.112072Z",
     "iopub.status.busy": "2024-06-05T04:11:24.111296Z",
     "iopub.status.idle": "2024-06-05T04:12:06.363477Z",
     "shell.execute_reply": "2024-06-05T04:12:06.362711Z"
    },
    "papermill": {
     "duration": 42.259046,
     "end_time": "2024-06-05T04:12:06.365768",
     "exception": false,
     "start_time": "2024-06-05T04:11:24.106722",
     "status": "completed"
    },
    "scrolled": false,
    "tags": []
   },
   "outputs": [
    {
     "data": {
      "application/vnd.jupyter.widget-view+json": {
       "model_id": "4622d63fab1048c18fd50490d97b7521",
       "version_major": 2,
       "version_minor": 0
      },
      "text/plain": [
       "  0%|          | 0/7 [00:00<?, ?it/s]"
      ]
     },
     "metadata": {},
     "output_type": "display_data"
    },
    {
     "name": "stdout",
     "output_type": "stream",
     "text": [
      "Retrieving document from  https://arxiv.org/e-print/2406.01676\n"
     ]
    },
    {
     "name": "stdout",
     "output_type": "stream",
     "text": [
      "extracting tarball to tmp_2406.01676..."
     ]
    },
    {
     "name": "stdout",
     "output_type": "stream",
     "text": [
      " done.\n"
     ]
    },
    {
     "name": "stdout",
     "output_type": "stream",
     "text": [
      "H.-W. Rix  ->  H.-W. Rix  |  ['H.-W. Rix']\n",
      "Retrieving document from  https://arxiv.org/e-print/2406.01688\n"
     ]
    },
    {
     "name": "stderr",
     "output_type": "stream",
     "text": [
      "/tmp/ipykernel_2227/1211882699.py:51: LatexWarning: 2406.01676 did not run properly\n",
      "bad escape \\e at position 37\n",
      "  warnings.warn(latex.LatexWarning(f\"{paper_id:s} did not run properly\\n\" +\n"
     ]
    },
    {
     "name": "stdout",
     "output_type": "stream",
     "text": [
      "extracting tarball to tmp_2406.01688..."
     ]
    },
    {
     "name": "stdout",
     "output_type": "stream",
     "text": [
      " done.\n",
      "  0: tmp_2406.01688/aassymbols.tex, 579 lines\n",
      "  1: tmp_2406.01688/natnotes.tex, 332 lines\n",
      "  2: tmp_2406.01688/natbib.tex, 96 lines\n",
      "  3: tmp_2406.01688/paper.tex, 520 lines\n",
      "Retrieving document from  https://arxiv.org/e-print/2406.01706\n",
      "extracting tarball to tmp_2406.01706... done.\n"
     ]
    },
    {
     "name": "stderr",
     "output_type": "stream",
     "text": [
      "/opt/hostedtoolcache/Python/3.9.19/x64/lib/python3.9/site-packages/IPython/core/interactiveshell.py:3550: LatexWarning: Multiple tex files.\n",
      "\n",
      "  exec(code_obj, self.user_global_ns, self.user_ns)\n",
      "/opt/hostedtoolcache/Python/3.9.19/x64/lib/python3.9/site-packages/IPython/core/interactiveshell.py:3550: LatexWarning: Found 4 candidates with documentclass definition.\n",
      "  exec(code_obj, self.user_global_ns, self.user_ns)\n",
      "/opt/hostedtoolcache/Python/3.9.19/x64/lib/python3.9/site-packages/IPython/core/interactiveshell.py:3550: LatexWarning: Assuming tmp_2406.01688/aassymbols.tex as main document.\n",
      "  exec(code_obj, self.user_global_ns, self.user_ns)\n"
     ]
    },
    {
     "name": "stdout",
     "output_type": "stream",
     "text": [
      "H.-W. Rix  ->  H.-W. Rix  |  ['H.-W. Rix']\n",
      "A. Pillepich  ->  A. Pillepich  |  ['A. Pillepich']\n",
      "J. Lian  ->  J. Lian  |  ['J. Lian']\n"
     ]
    },
    {
     "name": "stdout",
     "output_type": "stream",
     "text": [
      "Found 62 bibliographic references in tmp_2406.01706/GCriches.bbl.\n",
      "syntax error in line 417: '=' expected\n",
      "Retrieving document from  https://arxiv.org/e-print/2406.01707\n"
     ]
    },
    {
     "name": "stdout",
     "output_type": "stream",
     "text": [
      "extracting tarball to tmp_2406.01707..."
     ]
    },
    {
     "name": "stdout",
     "output_type": "stream",
     "text": [
      " done.\n",
      "Retrieving document from  https://arxiv.org/e-print/2406.01809\n"
     ]
    },
    {
     "name": "stdout",
     "output_type": "stream",
     "text": [
      "extracting tarball to tmp_2406.01809..."
     ]
    },
    {
     "name": "stdout",
     "output_type": "stream",
     "text": [
      " done.\n",
      "Retrieving document from  https://arxiv.org/e-print/2406.02179\n",
      "extracting tarball to tmp_2406.02179..."
     ]
    },
    {
     "name": "stderr",
     "output_type": "stream",
     "text": [
      "/opt/hostedtoolcache/Python/3.9.19/x64/lib/python3.9/site-packages/IPython/core/interactiveshell.py:3550: LatexWarning: Multiple tex files.\n",
      "\n",
      "  exec(code_obj, self.user_global_ns, self.user_ns)\n",
      "/tmp/ipykernel_2227/1211882699.py:51: LatexWarning: 2406.01809 did not run properly\n",
      "'PosixPath' object is not subscriptable\n",
      "  warnings.warn(latex.LatexWarning(f\"{paper_id:s} did not run properly\\n\" +\n"
     ]
    },
    {
     "name": "stdout",
     "output_type": "stream",
     "text": [
      " done.\n"
     ]
    },
    {
     "name": "stdout",
     "output_type": "stream",
     "text": [
      "C. Gapp  ->  C. Gapp  |  ['C. Gapp']\n"
     ]
    },
    {
     "name": "stdout",
     "output_type": "stream",
     "text": [
      "Found 75 bibliographic references in tmp_2406.02179/main.bbl.\n",
      "Retrieving document from  https://arxiv.org/e-print/2406.02305\n"
     ]
    },
    {
     "name": "stdout",
     "output_type": "stream",
     "text": [
      "extracting tarball to tmp_2406.02305... done.\n"
     ]
    }
   ],
   "source": [
    "documents = []\n",
    "failed = []\n",
    "for paper in tqdm(candidates):\n",
    "    # debug crap\n",
    "    paper['identifier'] = paper['identifier'].lower().replace('arxiv:', '').replace(r'\\n', '').strip()\n",
    "    paper_id = paper['identifier']\n",
    "    \n",
    "    folder = f'tmp_{paper_id}'\n",
    "\n",
    "    try:\n",
    "        if not os.path.isdir(folder):\n",
    "            folder = retrieve_document_source(f\"{paper_id}\", f'tmp_{paper_id}')\n",
    "        \n",
    "        try:\n",
    "            doc = latex.LatexDocument(folder, validation=validation)    \n",
    "        except AffiliationError as affilerror:\n",
    "            msg = f\"ArXiv:{paper_id:s} is not an MPIA paper... \" + str(affilerror)\n",
    "            failed.append((paper, \"affiliation error: \" + str(affilerror) ))\n",
    "            continue\n",
    "        \n",
    "        # Hack because sometimes author parsing does not work well\n",
    "        if (len(doc.authors) != len(paper['authors'])):\n",
    "            doc._authors = paper['authors']\n",
    "        else:\n",
    "            # highlight authors (FIXME: doc.highlight_authors)\n",
    "            # done on arxiv paper already\n",
    "            doc._authors = highlight_authors_in_list(\n",
    "                [mpia.get_initials(k) for k in doc.authors], \n",
    "                mpia_authors, verbose=True)\n",
    "        if (doc.abstract) in (None, ''):\n",
    "            doc._abstract = paper['abstract']\n",
    "            \n",
    "        doc.comment = (get_markdown_badge(paper_id) + \n",
    "                       \"<mark>Appeared on: \" + paper['date'] + \"</mark> - \")\n",
    "        if paper['comments']:\n",
    "            doc.comment += \" _\" + paper['comments'] + \"_\"\n",
    "        \n",
    "        full_md = doc.generate_markdown_text()\n",
    "        \n",
    "        full_md += get_markdown_qrcode(paper_id)\n",
    "        \n",
    "        # replace citations\n",
    "        try:\n",
    "            bibdata = latex_bib.LatexBib.from_doc(doc)\n",
    "            full_md = latex_bib.replace_citations(full_md, bibdata)\n",
    "        except Exception as e:\n",
    "            print(e)\n",
    "        \n",
    "        documents.append((paper_id, full_md))\n",
    "    except Exception as e:\n",
    "        warnings.warn(latex.LatexWarning(f\"{paper_id:s} did not run properly\\n\" +\n",
    "                                         str(e)\n",
    "                                        ))\n",
    "        failed.append((paper, \"latex error \" + str(e)))"
   ]
  },
  {
   "cell_type": "markdown",
   "id": "2505a25c",
   "metadata": {
    "papermill": {
     "duration": 0.004172,
     "end_time": "2024-06-05T04:12:06.374334",
     "exception": false,
     "start_time": "2024-06-05T04:12:06.370162",
     "status": "completed"
    },
    "tags": []
   },
   "source": [
    "### Export the logs\n",
    "\n",
    "Throughout, we also keep track of the logs per paper. see `logs-{today date}.md` "
   ]
  },
  {
   "cell_type": "code",
   "execution_count": 6,
   "id": "d733828a",
   "metadata": {
    "execution": {
     "iopub.execute_input": "2024-06-05T04:12:06.383933Z",
     "iopub.status.busy": "2024-06-05T04:12:06.383453Z",
     "iopub.status.idle": "2024-06-05T04:12:06.401093Z",
     "shell.execute_reply": "2024-06-05T04:12:06.400550Z"
    },
    "papermill": {
     "duration": 0.024009,
     "end_time": "2024-06-05T04:12:06.402464",
     "exception": false,
     "start_time": "2024-06-05T04:12:06.378455",
     "status": "completed"
    },
    "scrolled": false,
    "tags": []
   },
   "outputs": [
    {
     "data": {
      "text/markdown": [
       "## Successful papers"
      ],
      "text/plain": [
       "<IPython.core.display.Markdown object>"
      ]
     },
     "metadata": {},
     "output_type": "display_data"
    },
    {
     "data": {
      "text/markdown": [
       "\n",
       "|||\n",
       "|---:|:---|\n",
       "| [![arXiv](https://img.shields.io/badge/arXiv-2406.01706-b31b1b.svg)](https://arxiv.org/abs/2406.01706) | **The Extremely Metal Rich Knot of Stars at the Heart of the Galaxy**  |\n",
       "|| <mark>H.-W. Rix</mark>, et al. -- incl., <mark>A. Pillepich</mark>, <mark>J. Lian</mark> |\n",
       "|*Appeared on*| *2024-06-05*|\n",
       "|*Comments*| *11 pages, 7 figures, submitted to ApJ*|\n",
       "|**Abstract**|            We show with Gaia XP spectroscopy that extremely metal-rich stars in the Milky Way (EMR; $[M/H]_{XP} > 0.5$) - but only those - are largely confined to a tight \"knot\" at the center of the Galaxy. This EMR knot is round in projection, has a fairly abrupt edge near $\\sim 1.5$kpc, and is a dynamically hot system. This central knot also contains very metal-rich (VMR; $+0.2\\le [M/H]_{XP} \\le +0.4$) stars. However, in contrast to EMR stars, the bulk of VMR stars form an extended, highly flattened distribution in the inner Galaxy ($R_{\\mathrm{GC}}\\lesssim 5$ kpc). We draw on TNG50 simulations of Milky Way analogs for context and find that compact, metal-rich knots confined to $<1.5$kpc are a universal feature. In typical simulated analogs, the top 5-10% most metal-rich stars are confined to a central knot; however, in our Milky Way data this fraction is only 0.1%. Dust-penetrating wide-area near-infrared spectroscopy, such as SDSS-V, will be needed for a rigorous estimate of the fraction of stars in the Galactic EMR knot. Why in our Milky Way only EMR giants are confined to such a central knot remains to be explained. Remarkably, the central few kiloparsecs of the Milky Way harbor both the highest concentration of metal-poor stars (the `poor old heart') and almost all EMR stars. This highlights the stellar population diversity at the bottom of galactic potential wells.         |"
      ],
      "text/plain": [
       "[2406.01706] The Extremely Metal Rich Knot of Stars at the Heart of the Galaxy\n",
       "\t<mark>H.-W. Rix</mark>, et al. -- incl., <mark>A. Pillepich</mark>, <mark>J. Lian</mark>"
      ]
     },
     "metadata": {},
     "output_type": "display_data"
    },
    {
     "data": {
      "text/markdown": [
       "\n",
       "|||\n",
       "|---:|:---|\n",
       "| [![arXiv](https://img.shields.io/badge/arXiv-2406.02179-b31b1b.svg)](https://arxiv.org/abs/2406.02179) | **Abundances of trace constituents in Jupiter's atmosphere inferred from Herschel/PACS observations**  |\n",
       "|| <mark>C. Gapp</mark>, et al. |\n",
       "|*Appeared on*| *2024-06-05*|\n",
       "|*Comments*| *Accepted for publication in Astronomy and Astrophysics, 16 pages, 4 tables, 24 figures incl. Appendix*|\n",
       "|**Abstract**|            $Context.$ On October 31, 2009, the Photodetector Array Camera and Spectrometer (PACS) on board the Herschel Space Observatory observed far-infrared spectra of Jupiter between 50 and 220$\\,\\mu$m as part of the program \"Water and Related Chemistry in the Solar System\". $Aims.$ We investigate the disk-averaged chemical composition of Jupiter's atmosphere as a function of height using these observations. $Methods.$ We used the Planetary Spectrum Generator (PSG) and the least-squares fitting technique to infer the abundances of trace constituents. $Results.$ The PACS data include numerous spectral lines attributable to ammonia (NH$_3$), methane (CH$_4$), phosphine (PH$_3$), water (H$_2$O), and deuterated hydrogen (HD) in the Jovian atmosphere. We infer an ammonia abundance profile that decreases from a mole fraction of $(1.7\\pm 0.8)\\times 10^{-4}$ at $p\\sim 900\\,$mbar to $(1.7\\pm 0.9)\\times 10^{-8}$ at $p\\sim 275\\,$mbar, following a fractional scale height of about 0.114. For phosphine, we find a mole fraction of $(7.2\\pm 1.2)\\times 10^{-7}$ at pressures higher than $(550\\pm 100)\\,$mbar and a decrease of its abundance at lower pressures following a fractional scale height of $(0.09\\pm 0.02)$. Our analysis delivers a methane mole fraction of $(1.49\\pm 0.09)\\times 10^{-3}$. Analyzing the HD $R(0)$ line at $112.1\\,\\mu$m yields a new measurement of Jupiter's D/H ratio, $\\text{D/H}=(1.5\\pm 0.6)\\times 10^{-5}$. Finally, the PACS data allow us to put the most stringent $3\\sigma$ upper limits yet on the mole fractions of hydrogen halides in the Jovian troposphere. These new upper limits are $<1.1\\times 10^{-11}$ for hydrogen fluoride (HF), $<6.0\\times 10^{-11}$ for hydrogen chloride (HCl), $<2.3\\times 10^{-10}$ for hydrogen bromide (HBr) and $<1.2\\times 10^{-9}$ for hydrogen iodide (HI) and support the proposed condensation of hydrogen halides into ammonium halide salts in the Jovian troposphere.         |"
      ],
      "text/plain": [
       "[2406.02179] Abundances of trace constituents in Jupiter's atmosphere inferred from Herschel/PACS observations\n",
       "\t<mark>C. Gapp</mark>, et al."
      ]
     },
     "metadata": {},
     "output_type": "display_data"
    },
    {
     "data": {
      "text/markdown": [
       "## Failed papers"
      ],
      "text/plain": [
       "<IPython.core.display.Markdown object>"
      ]
     },
     "metadata": {},
     "output_type": "display_data"
    },
    {
     "data": {
      "text/markdown": [
       "\n",
       "|||\n",
       "|---:|:---|\n",
       "| [![arXiv](https://img.shields.io/badge/arXiv-2406.01707-b31b1b.svg)](https://arxiv.org/abs/2406.01707) | **X-ray bright AGN in local dwarf galaxies: insights from eROSITA**  |\n",
       "|| A. Sacchi, A. Bogdan, <mark>U. Chadayammuri</mark>, A. Ricarte |\n",
       "|*Appeared on*| *2024-06-05*|\n",
       "|*Comments*| *17 pages, 12 figures, 1 table. Submitted to ApJ. Comments are welcome*|\n",
       "|**Abstract**|            Although supermassive black holes (SMBHs) reside in the heart of virtually every massive galaxy, it remains debated whether dwarf galaxies also commonly host SMBHs. Because low-mass galaxies may retain a memory of the assembly history of their black holes, probing the black hole occupation fraction of local dwarf galaxies might offer insights into the growth and seeding mechanisms of the first black holes. In this work, we exploit the Western half of the eROSITA all-sky survey (covering $20,000~\\rm{deg^2}$) and compile a catalog of accreting SMBHs in local ($D<200$~Mpc) dwarf galaxies. After cleaning our sample from cosmic X-ray background sources, X-ray binaries, and ultraluminous X-ray sources, we identify 74 AGN-dwarf galaxy pairs. Using this large and uniform sample, we derive a luminosity function of dwarf galaxy AGN, fitting it with a power law function and obtaining ${\\rm d}N/{\\rm d}L_{\\rm X} = (15.9\\pm2.2)\\times L_{\\rm X}^{-1.63\\pm0.05}$. Measuring the offset between the centroid of dwarf galaxies and the X-ray sources, we find that about $50\\%$ of the AGN are likely off-nuclear, in agreement with theoretical predictions. We also compare the black hole-to-stellar mass relation of the AGN in our sample with the local and high-redshift relations, finding that our sources better adhere to the former. This suggests that local AGN across different mass scales underwent a similar growth history. Finally, we compare our sources with semi-analytical models: while our sample is too shallow to distinguish between different seeding models, it favors a growth mechanism linked to the star-formation rate of the host galaxy.         |\n",
       "|<p style=\"color:green\"> **ERROR** </p>| <p style=\"color:green\">affiliation error: mpia.affiliation_verifications: '69117' keyword not found.</p> |"
      ],
      "text/plain": [
       "<IPython.core.display.Markdown object>"
      ]
     },
     "metadata": {},
     "output_type": "display_data"
    },
    {
     "data": {
      "text/markdown": [
       "\n",
       "|||\n",
       "|---:|:---|\n",
       "| [![arXiv](https://img.shields.io/badge/arXiv-2406.01688-b31b1b.svg)](https://arxiv.org/abs/2406.01688) | **oMEGACat III. Multi-band photometry and metallicities reveal spatially well-mixed populations within $\\omega$ Centauri's half-light radius**  |\n",
       "|| M. S. Nitschai, et al. -- incl., <mark>N. Neumayer</mark>, <mark>M. Häberle</mark>, <mark>C. Clontz</mark> |\n",
       "|*Appeared on*| *2024-06-05*|\n",
       "|*Comments*| *22 pages, 18 figures, and 3 tables. Accepted for publication in ApJ*|\n",
       "|**Abstract**|            $\\omega$ Centauri, the most massive globular cluster in the Milky Way, has long been suspected to be the stripped nucleus of a dwarf galaxy that fell into the Galaxy a long time ago. There is considerable evidence for this scenario including a large spread in metallicity and an unusually large number of distinct sub-populations seen in photometric studies. In this work, we use new MUSE spectroscopic and HST photometric catalogs to investigate the underlying metallicity distributions as well as the spatial variations of the populations within the cluster up to its half-light radius. Based on 11,050 member stars, the [M/H] distribution has a median of $ (-1.614 \\pm 0.003)$ dex and a large spread of $\\sim$ 1.37 dex reaching from $ -0.67$ dex to $ -2.04$ dex for 99.7 % of the stars. In addition, we show the chromosome map of the cluster, which separates the red giant branch stars into different sub-populations, and analyze the sub-populations of the metal-poorest component. Finally, we do not find any metallicity gradient within the half-light radius, and the different sub-populations are well mixed.         |\n",
       "|<p style=\"color:green\"> **ERROR** </p>| <p style=\"color:green\">affiliation error: mpia.affiliation_verifications: 'Heidelberg' keyword not found.</p> |"
      ],
      "text/plain": [
       "<IPython.core.display.Markdown object>"
      ]
     },
     "metadata": {},
     "output_type": "display_data"
    },
    {
     "data": {
      "text/markdown": [
       "\n",
       "|||\n",
       "|---:|:---|\n",
       "| [![arXiv](https://img.shields.io/badge/arXiv-2406.02305-b31b1b.svg)](https://arxiv.org/abs/2406.02305) | **Debris Disks can Contaminate Mid-Infrared Exoplanet Spectra: Evidence for a Circumstellar Debris Disk around Exoplanet Host WASP-39**  |\n",
       "|| L. Flagg, et al. -- incl., <mark>L. Kreidberg</mark> |\n",
       "|*Appeared on*| *2024-06-05*|\n",
       "|*Comments*| *accepted to ApJL*|\n",
       "|**Abstract**|            The signal from a transiting planet can be diluted by astrophysical contamination. In the case of circumstellar debris disks, this contamination could start in the mid-infrared and vary as a function of wavelength, which would then change the observed transmission spectrum for any planet in the system. The MIRI/LRS WASP-39b transmission spectrum shows an unexplained dip starting at $\\sim$10 $\\mu$m that could be caused by astrophysical contamination. The spectral energy distribution displays excess flux at similar levels to that which are needed to create the dip in the transmission spectrum. In this article, we show that this dip is consistent with the presence of a bright circumstellar debris disk, at a distance of $>$2 au. We discuss how a circumstellar debris disk like that could affect the atmosphere of WASP-39b. We also show that even faint debris disks can be a source of contamination in MIRI exoplanet spectra.         |\n",
       "|<p style=\"color:green\"> **ERROR** </p>| <p style=\"color:green\">affiliation error: mpia.affiliation_verifications: 'Heidelberg' keyword not found.</p> |"
      ],
      "text/plain": [
       "<IPython.core.display.Markdown object>"
      ]
     },
     "metadata": {},
     "output_type": "display_data"
    },
    {
     "data": {
      "text/markdown": [
       "\n",
       "|||\n",
       "|---:|:---|\n",
       "| [![arXiv](https://img.shields.io/badge/arXiv-2406.01809-b31b1b.svg)](https://arxiv.org/abs/2406.01809) | **Use the 4S (Signal-Safe Speckle Subtraction): Explainable Machine Learning reveals the Giant Exoplanet AF Lep b in High-Contrast Imaging Data from 2011**  |\n",
       "|| M. J. Bonse, et al. -- incl., <mark>E. Matthews</mark> |\n",
       "|*Appeared on*| *2024-06-05*|\n",
       "|*Comments*| *Submitted to AJ, 26 pages, 15 figures, comments welcome, code available on ReadtheDocs: this https URL*|\n",
       "|**Abstract**|            The main challenge of exoplanet high-contrast imaging (HCI) is to separate the signal of exoplanets from their host stars, which are many orders of magnitude brighter. HCI for ground-based observations is further exacerbated by speckle noise originating from perturbations in the Earth's atmosphere and imperfections in the telescope optics. Various data post-processing techniques are used to remove this speckle noise and reveal the faint planet signal. Often, however, a significant part of the planet signal is accidentally subtracted together with the noise. In the present work, we use explainable machine learning to investigate the reason for the loss of the planet signal for one of the most used post-processing methods: Principal Component Analysis (PCA). We find that PCA learns the shape of the telescope point spread function for high numbers of PCA components. This representation of the noise captures not only the speckle noise, but also the characteristic shape of the planet signal. Building upon these insights, we develop a new post-processing method (4S) that constrains the noise model to minimize this signal loss. We apply our model to 11 archival HCI datasets from the VLT-NACO instrument in the L'-band and find that our model consistently outperforms PCA. The improvement is largest at close separations to the star ($\\leq 4 \\lambda /D$) providing up to 1.5 magnitudes deeper contrast. This enhancement enables us to detect the exoplanet AF Lep b in data from 2011, 11 years before its subsequent discovery. We present updated orbital parameters for this object.         |\n",
       "|<p style=\"color:red\"> **ERROR** </p>| <p style=\"color:red\">latex error 'PosixPath' object is not subscriptable</p> |"
      ],
      "text/plain": [
       "<IPython.core.display.Markdown object>"
      ]
     },
     "metadata": {},
     "output_type": "display_data"
    },
    {
     "data": {
      "text/markdown": [
       "\n",
       "|||\n",
       "|---:|:---|\n",
       "| [![arXiv](https://img.shields.io/badge/arXiv-2406.01676-b31b1b.svg)](https://arxiv.org/abs/2406.01676) | **All-Sky Kinematics of the Distant Halo: The Reflex Response to the LMC**  |\n",
       "|| V. Chandra, et al. -- incl., <mark>H.-W. Rix</mark> |\n",
       "|*Appeared on*| *2024-06-05*|\n",
       "|*Comments*| *25 pages, 15 figures. Submitted to ApJ*|\n",
       "|**Abstract**|            The infall of the Large Magellanic Cloud (LMC) is predicted to displace the inner Milky Way (MW), imprinting an apparent 'reflex motion' on the observed velocities of distant halo stars. We construct the largest all-sky spectroscopic dataset of luminous red giant stars from $50-160$ kpc, including a new survey of the southern celestial hemisphere. We fit the full 6D kinematics of our data to measure the amplitude and direction of the inner MW's motion towards the outer halo. The observed velocity grows with distance such that, relative to halo stars at $100$ kpc, the inner MW is lurching at $\\approx 40$ km s$^{-1}$ towards a recent location along the LMC's past orbit. Our measurements align with N-body simulations of the halo's response to a $1.8 \\times 10^{11} M_\\odot$ LMC on first infall, suggesting that the LMC is at least 15% as massive as the MW. Our findings highlight the dramatic disequilibrium of the MW outskirts, and will enable more accurate measurements of the total mass of our Galaxy.         |\n",
       "|<p style=\"color:red\"> **ERROR** </p>| <p style=\"color:red\">latex error bad escape \\e at position 37</p> |"
      ],
      "text/plain": [
       "<IPython.core.display.Markdown object>"
      ]
     },
     "metadata": {},
     "output_type": "display_data"
    }
   ],
   "source": [
    "import datetime\n",
    "today = str(datetime.date.today())\n",
    "logfile = f\"_build/html/logs/log-{today}.md\"\n",
    "\n",
    "\n",
    "with open(logfile, 'w') as logs:\n",
    "    # Success\n",
    "    logs.write(f'# Arxiv on Deck 2: Logs - {today}\\n\\n')\n",
    "    logs.write(\"\"\"* Arxiv had {0:,d} new papers\\n\"\"\".format(len(new_papers)))\n",
    "    logs.write(\"\"\"    * {0:,d} with possible author matches\\n\\n\"\"\".format(len(candidates)))\n",
    "    logs.write(\"## Sucessful papers\\n\\n\")\n",
    "    display(Markdown(\"## Successful papers\"))\n",
    "    success = [k[0] for k in documents]\n",
    "    for candid in candidates:\n",
    "        if candid['identifier'].split(':')[-1] in success:\n",
    "            display(candid)\n",
    "            logs.write(candid.generate_markdown_text() + '\\n\\n')\n",
    "\n",
    "    ## failed\n",
    "    logs.write(\"## Failed papers\\n\\n\")\n",
    "    display(Markdown(\"## Failed papers\"))\n",
    "    failed = sorted(failed, key=lambda x: x[1])\n",
    "    current_reason = \"\"\n",
    "    for paper, reason in failed:\n",
    "        if 'affiliation' in reason:\n",
    "            color = 'green'\n",
    "        else:\n",
    "            color = 'red'\n",
    "        data = Markdown(\n",
    "                paper.generate_markdown_text() + \n",
    "                f'\\n|<p style=\"color:{color:s}\"> **ERROR** </p>| <p style=\"color:{color:s}\">{reason:s}</p> |'\n",
    "               )\n",
    "        if reason != current_reason:\n",
    "            logs.write(f'### {reason:s} \\n\\n')\n",
    "            current_reason = reason\n",
    "        logs.write(data.data + '\\n\\n')\n",
    "        \n",
    "        # only display here the important errors (all in logs)\n",
    "        # if color in ('red',):\n",
    "        display(data)"
   ]
  },
  {
   "cell_type": "markdown",
   "id": "472d20ee",
   "metadata": {
    "papermill": {
     "duration": 0.00488,
     "end_time": "2024-06-05T04:12:06.412482",
     "exception": false,
     "start_time": "2024-06-05T04:12:06.407602",
     "status": "completed"
    },
    "tags": []
   },
   "source": [
    "## Export documents\n",
    "\n",
    "We now write the .md files and export relevant images"
   ]
  },
  {
   "cell_type": "code",
   "execution_count": 7,
   "id": "d426aed9",
   "metadata": {
    "execution": {
     "iopub.execute_input": "2024-06-05T04:12:06.423303Z",
     "iopub.status.busy": "2024-06-05T04:12:06.423104Z",
     "iopub.status.idle": "2024-06-05T04:12:06.429493Z",
     "shell.execute_reply": "2024-06-05T04:12:06.428915Z"
    },
    "papermill": {
     "duration": 0.013382,
     "end_time": "2024-06-05T04:12:06.430822",
     "exception": false,
     "start_time": "2024-06-05T04:12:06.417440",
     "status": "completed"
    },
    "tags": []
   },
   "outputs": [],
   "source": [
    "def export_markdown_summary(md: str, md_fname:str, directory: str):\n",
    "    \"\"\"Export MD document and associated relevant images\"\"\"\n",
    "    import os\n",
    "    import shutil\n",
    "    import re\n",
    "\n",
    "    if (os.path.exists(directory) and not os.path.isdir(directory)):\n",
    "        raise RuntimeError(f\"a non-directory file exists with name {directory:s}\")\n",
    "\n",
    "    if (not os.path.exists(directory)):\n",
    "        print(f\"creating directory {directory:s}\")\n",
    "        os.mkdir(directory)\n",
    "\n",
    "    fig_fnames = (re.compile(r'\\[Fig.*\\]\\((.*)\\)').findall(md) + \n",
    "                  re.compile(r'\\<img src=\"([^>\\s]*)\"[^>]*/>').findall(md))\n",
    "    for fname in fig_fnames:\n",
    "        if 'http' in fname:\n",
    "            # No need to copy online figures\n",
    "            continue\n",
    "        destdir = os.path.join(directory, os.path.dirname(fname))\n",
    "        destfname = os.path.join(destdir, os.path.basename(fname))\n",
    "        try:\n",
    "            os.makedirs(destdir)\n",
    "        except FileExistsError:\n",
    "            pass\n",
    "        shutil.copy(fname, destfname)\n",
    "    with open(os.path.join(directory, md_fname), 'w') as fout:\n",
    "        fout.write(md)\n",
    "    print(\"exported in \", os.path.join(directory, md_fname))\n",
    "    [print(\"    + \" + os.path.join(directory,fk)) for fk in fig_fnames]"
   ]
  },
  {
   "cell_type": "code",
   "execution_count": 8,
   "id": "014d04a4",
   "metadata": {
    "execution": {
     "iopub.execute_input": "2024-06-05T04:12:06.442041Z",
     "iopub.status.busy": "2024-06-05T04:12:06.441548Z",
     "iopub.status.idle": "2024-06-05T04:12:06.450115Z",
     "shell.execute_reply": "2024-06-05T04:12:06.449493Z"
    },
    "papermill": {
     "duration": 0.01572,
     "end_time": "2024-06-05T04:12:06.451545",
     "exception": false,
     "start_time": "2024-06-05T04:12:06.435825",
     "status": "completed"
    },
    "tags": []
   },
   "outputs": [
    {
     "name": "stdout",
     "output_type": "stream",
     "text": [
      "exported in  _build/html/2406.01706.md\n",
      "    + _build/html/tmp_2406.01706/./metal_rich_on_sky.png\n",
      "    + _build/html/tmp_2406.01706/./RGC_vs_MH.png\n",
      "    + _build/html/tmp_2406.01706/./MHrich-core-fraction.png\n",
      "    + _build/html/tmp_2406.01706/./EMR_l_density_profile.png\n",
      "exported in  _build/html/2406.02179.md\n",
      "    + _build/html/tmp_2406.02179/./figures/hf_results.png\n",
      "    + _build/html/tmp_2406.02179/./figures/ph3_lines.png\n",
      "    + _build/html/tmp_2406.02179/./figures/nh3_contours.png\n"
     ]
    }
   ],
   "source": [
    "for paper_id, md in documents:\n",
    "    export_markdown_summary(md, f\"{paper_id:s}.md\", '_build/html/')"
   ]
  },
  {
   "cell_type": "markdown",
   "id": "f087a0a7",
   "metadata": {
    "papermill": {
     "duration": 0.005263,
     "end_time": "2024-06-05T04:12:06.461924",
     "exception": false,
     "start_time": "2024-06-05T04:12:06.456661",
     "status": "completed"
    },
    "tags": []
   },
   "source": [
    "## Display the papers\n",
    "\n",
    "Not necessary but allows for a quick check."
   ]
  },
  {
   "cell_type": "code",
   "execution_count": 9,
   "id": "fd25f625",
   "metadata": {
    "execution": {
     "iopub.execute_input": "2024-06-05T04:12:06.474407Z",
     "iopub.status.busy": "2024-06-05T04:12:06.474028Z",
     "iopub.status.idle": "2024-06-05T04:12:06.479849Z",
     "shell.execute_reply": "2024-06-05T04:12:06.479249Z"
    },
    "papermill": {
     "duration": 0.013322,
     "end_time": "2024-06-05T04:12:06.481194",
     "exception": false,
     "start_time": "2024-06-05T04:12:06.467872",
     "status": "completed"
    },
    "scrolled": false,
    "tags": []
   },
   "outputs": [
    {
     "data": {
      "text/markdown": [
       "<div class=\"macros\" style=\"visibility:hidden;\">\n",
       "$\\newcommand{\\ensuremath}{}$\n",
       "$\\newcommand{\\xspace}{}$\n",
       "$\\newcommand{\\object}[1]{\\texttt{#1}}$\n",
       "$\\newcommand{\\farcs}{{.}''}$\n",
       "$\\newcommand{\\farcm}{{.}'}$\n",
       "$\\newcommand{\\arcsec}{''}$\n",
       "$\\newcommand{\\arcmin}{'}$\n",
       "$\\newcommand{\\ion}[2]{#1#2}$\n",
       "$\\newcommand{\\textsc}[1]{\\textrm{#1}}$\n",
       "$\\newcommand{\\hl}[1]{\\textrm{#1}}$\n",
       "$\\newcommand{\\footnote}[1]{}$\n",
       "$\\newcommand{\\vdag}{(v)^\\dagger}$\n",
       "$\\newcommand$\n",
       "$\\newcommand$\n",
       "$\\newcommand{\\MH}{\\ensuremath{{[\\mathrm{M}/\\mathrm{H}]}}}$\n",
       "$\\newcommand{\\apc}[1]{ #1}$\n",
       "$\\newcommand{\\thing}{knot~}$\n",
       "$\\newcommand{\\thingns}{knot}$\n",
       "$\\newcommand{\\things}{knots~}$\n",
       "$\\newcommand{\\Thing}{Knot~}$\n",
       "$\\newcommand{\\Thingns}{Knot}$\n",
       "$\\newcommand{\\MHXP}{\\ensuremath{\\mathrm{[M/H]}_{\\mathrm{XP}}}}$</div>\n",
       "\n",
       "\n",
       "\n",
       "<div id=\"title\">\n",
       "\n",
       "# The Extremely Metal Rich $\\Thing$ of Stars at the Heart of the Galaxy\n",
       "\n",
       "</div>\n",
       "<div id=\"comments\">\n",
       "\n",
       "[![arXiv](https://img.shields.io/badge/arXiv-2406.01706-b31b1b.svg)](https://arxiv.org/abs/2406.01706)<mark>Appeared on: 2024-06-05</mark> -  _11 pages, 7 figures, submitted to ApJ_\n",
       "\n",
       "</div>\n",
       "<div id=\"authors\">\n",
       "\n",
       "<mark>H.-W. Rix</mark>, et al. -- incl., <mark>A. Pillepich</mark>, <mark>J. Lian</mark>\n",
       "\n",
       "</div>\n",
       "<div id=\"abstract\">\n",
       "\n",
       "**Abstract:** $\\noindent$ We show with Gaia XP spectroscopy that extremely metal-rich stars in the Milky Way (EMR; $\\mathrm{[M/H]}_{\\mathrm{XP}} \\gtrsim 0.5$ ) -- but only those -- are largely confined to a tight \"knot” at the center of the Galaxy.This EMR knot is round in projection, has a fairly abrupt edge near $\\sim 1.5$ kpc, and is a dynamically hot system.This central knot also contains very metal-rich (VMR; $+0.2\\le \\mathrm{[M/H]}_{\\mathrm{XP}} \\le +0.4$ ) stars.However, in contrast to EMR stars, the bulk of VMR stars form an extended, highly flattened distribution in the inner Galaxy ( $R_{\\mathrm{GC}}\\lesssim 5$ kpc).We draw on TNG50 simulations of Milky Way analogs for context and find that compact, metal-rich knots confined to $\\lesssim 1.5$ kpc are a universal feature.In typical simulated analogs, the top 5-10 \\% most metal-rich stars are confined to a central knot; however, in our Milky Way data this fraction is only 0.1 \\% .Dust-penetrating wide-area near-infrared spectroscopy, such as SDSS-V, will be needed for a rigorous estimate of the fraction of stars in the Galactic EMR knot.Why in our Milky Way only EMR giants are confined to such a central knot remains to be explained.Remarkably, the central few kiloparsecs of the Milky Way harbor both the highest concentration of metal-poor stars (the `poor old heart') and almost all EMR stars.This highlights the stellar population diversity at the bottom of galactic potential wells.\n",
       "\n",
       "</div>\n",
       "\n",
       "<div id=\"div_fig1\">\n",
       "\n",
       "<img src=\"tmp_2406.01706/./metal_rich_on_sky.png\" alt=\"Fig6\" width=\"100%\"/>\n",
       "\n",
       "**Figure 6. -** \n",
       "   On-sky density distribution of very (and extremely) metal-rich giant stars, with $\\MHXP\\ge +0.3$ from Gaia DR3 XP spectra, in three different $\\MH$XP  bins.\n",
       "   The top panel (containing $\\sim 85\\%$ of all these stars) shows a flattened, disk-like distribution, concentrated towards the inner Galaxy. This central concentration increases toward higher metallicity (middle panel).\n",
       "  The bottom panel, showing the distribution of extremely metal-rich (EMR) stars with $\\MHXP \\gtrsim 0.5$, shows a striking change in morphology compared to the bin with $0.3<$\\MH$XP < 0.4$: the distribution is dominated by a central *$\\thing$* with a sharp cut-off at $R_{\\mathrm{GC}} \\sim 1.5$ kpc. The relative prominence of this *$\\thing$* increases by an order of magnitude from the previous bin (see also Fig. \\ref{fig:EMRprofile}). Note that in all three panels, the imprint of dust extinction is apparent at the lowest latitudes; and the bar may contribute to the slight $\\pm l$ asymmetry. Foreground stars closer than 4 kpc from the Sun have been removed (see sample selection criteria at the end of Section \\ref{sec:sample} (*fig:metal_rich_on_sky*)\n",
       "\n",
       "</div>\n",
       "<div id=\"div_fig2\">\n",
       "\n",
       "<img src=\"tmp_2406.01706/./RGC_vs_MH.png\" alt=\"Fig8.1\" width=\"50%\"/><img src=\"tmp_2406.01706/./MHrich-core-fraction.png\" alt=\"Fig8.2\" width=\"50%\"/>\n",
       "\n",
       "**Figure 8. -** Radial extent of different mono-abundance stellar populations for Milky Way analogs from the TNG50 simulation \\citep{Pillepich2023}. The left panel shows the radius $R_{\\mathrm{GC}}$ that encloses 68\\% of a mono-abundance population as a function of $\\MH$ for a handful of example galaxies. This left panel shows that for (at least these) simulated galaxies the most metal-rich stars are very centrally concentrated, forming a $\\thing$ of $\\lesssim 1$ kpc. This is in qualitative agreement with our analysis of the Milky Way (see Fig. \\ref{fig:D68percentile_MH}). However, in these simulated galaxies the central confinement encompasses stars within $\\Delta$\\MH$ = 0.4$ of the maximal metallicity, whereas in our Galaxy the stars in the $\\thing$ are within 0.1 dex of the maximal metallicity.  To eliminate issues revolving around metallicity systematics, we also consider which fraction of the stars' MFD is part of this central $\\thing$ns .\n",
       "    The right panel shows, for a much larger set of TNG50 Milky Way analogs, the (most metal rich) fraction of the MDF that is confined to within  $R_{\\mathrm{GC}}= 1.5$ kpc: typically between 5\\% and 15\\% of all stars within 20 kpc. By comparison, the *face value* fraction of stars in the Milky Way's $\\thing$(i.e. in the Gaia XP sample as defined in Section \\ref{sec:metal-rich-distribution}) is dramatically lower, only 0.1\\%(Fig. \\ref{fig:D68percentile_MH}). However, this observed fraction constitutes a lower limit, as the most centrally concentrated populations in the Milky Way are inevitably most extincted, and hence most underrepresented in the Gaia XP sample. (*fig:sims_extent*)\n",
       "\n",
       "</div>\n",
       "<div id=\"div_fig3\">\n",
       "\n",
       "<img src=\"tmp_2406.01706/./EMR_l_density_profile.png\" alt=\"Fig1\" width=\"100%\"/>\n",
       "\n",
       "**Figure 1. -** \n",
       "   The longitudinal number density profile of the very metal-rich stars towards the center of the Milky Way. These are the same stars as shown in Fig. \\ref{fig:metal_rich_on_sky}, but integrated over Galactic latitude (excluding $\\pm 3^\\circ$ because of the severe dust extinction). The dashed line just illustrates a Gaussian of $\\sigma=10^\\circ$ centered on $|l|=0$ in order to illustrate the level of asymmetry induced by dust extinction. While for the least metal-rich bin ($0.3<$\\MH$XP<0.4$) the density peak of the central $\\thing$ is only $\\sim 3\\times$ above the surrounding (in projection) disk-like distribution, this contrast has grown to $100\\times$ in the EMR bin ($\\MHXP > 0.5$): EMR stars are basically only found in the $\\lesssim 1$ kpc $\\thing$ns. (*fig:EMRprofile*)\n",
       "\n",
       "</div><div id=\"qrcode\"><img src=https://api.qrserver.com/v1/create-qr-code/?size=100x100&data=\"https://arxiv.org/abs/2406.01706\"></div>"
      ],
      "text/plain": [
       "<IPython.core.display.Markdown object>"
      ]
     },
     "metadata": {},
     "output_type": "display_data"
    },
    {
     "data": {
      "text/markdown": [
       "<div class=\"macros\" style=\"visibility:hidden;\">\n",
       "$\\newcommand{\\ensuremath}{}$\n",
       "$\\newcommand{\\xspace}{}$\n",
       "$\\newcommand{\\object}[1]{\\texttt{#1}}$\n",
       "$\\newcommand{\\farcs}{{.}''}$\n",
       "$\\newcommand{\\farcm}{{.}'}$\n",
       "$\\newcommand{\\arcsec}{''}$\n",
       "$\\newcommand{\\arcmin}{'}$\n",
       "$\\newcommand{\\ion}[2]{#1#2}$\n",
       "$\\newcommand{\\textsc}[1]{\\textrm{#1}}$\n",
       "$\\newcommand{\\hl}[1]{\\textrm{#1}}$\n",
       "$\\newcommand{\\footnote}[1]{}$</div>\n",
       "\n",
       "\n",
       "\n",
       "<div id=\"title\">\n",
       "\n",
       "# Abundances of trace constituents in Jupiter's atmosphere inferred from Herschel/PACS$\\thanks{_ Herschel_ is an ESA space observatory with science instruments provided by European-led Principal Investigator consortia and with important participation from NASA.}$ observations\n",
       "\n",
       "</div>\n",
       "<div id=\"comments\">\n",
       "\n",
       "[![arXiv](https://img.shields.io/badge/arXiv-2406.02179-b31b1b.svg)](https://arxiv.org/abs/2406.02179)<mark>Appeared on: 2024-06-05</mark> -  _Accepted for publication in Astronomy and Astrophysics, 16 pages, 4 tables, 24 figures incl. Appendix_\n",
       "\n",
       "</div>\n",
       "<div id=\"authors\">\n",
       "\n",
       "<mark>C. Gapp</mark>, et al.\n",
       "\n",
       "</div>\n",
       "<div id=\"abstract\">\n",
       "\n",
       "**Abstract:** On October 31, 2009, the Photodetector Array Camera and Spectrometer (PACS) on board the _Herschel_ Space Observatory observed far-infrared spectra of Jupiter in the wavelength range between 50 and 220 $ \\mu$ m as part of the program \"Water and Related Chemistry in the Solar System\". The spectra have an effective spectral resolution between 900 and 3500, depending on the wavelength and grating order. We investigate the disk-averaged chemical composition of Jupiter's atmosphere as a function of height using these observations. We used the Planetary Spectrum Generator (PSG) and the least-squares fitting technique to infer the abundances of trace constituents. The PACS data include numerous spectral lines attributable to ammonia ($NH_3$ ), methane ($CH_4$ ), phosphine ($PH_3$ ), water ($H_2$ O), and deuterated hydrogen (HD) in the Jovian atmosphere and probe the chemical composition from $p\\sim 275$ mbar to $p\\sim 900$ mbar. From the observations, we infer an ammonia abundance profile that decreases from a mole fraction of $(1.7\\pm 0.8)\\times 10^{-4}$ at $p\\sim 900$ mbar to $(1.7\\pm 0.9)\\times 10^{-8}$ at $p\\sim 275$ mbar, following a fractional scale height of about $0.114$ . For phosphine, we find a mole fraction of $(7.2\\pm 1.2)\\times 10^{-7}$ at pressures higher than $(550\\pm 100)$ mbar and a decrease of its abundance at lower pressures following a fractional scale height of $(0.09\\pm 0.02)$ . Our analysis delivers a methane mole fraction of $(1.49\\pm 0.09)\\times 10^{-3}$ . Analyzing the HD $R(0)$ line at $112.1 \\mu$ m yields a new measurement of Jupiter's D/H ratio, $\\text{D/H}=(1.5\\pm 0.6)\\times 10^{-5}$ . Finally, the PACS data allow us to put the most stringent $3\\sigma$ upper limits yet on the mole fractions of hydrogen halides in the Jovian troposphere. These new upper limits are $<1.1\\times 10^{-11}$ for hydrogen fluoride (HF), $<6.0\\times 10^{-11}$ for hydrogen chloride (HCl), $<2.3\\times 10^{-10}$ for hydrogen bromide (HBr) and $<1.2\\times 10^{-9}$ for hydrogen iodide (HI) and support the proposed condensation of hydrogen halides into ammonium halide salts in the Jovian troposphere.\n",
       "\n",
       "</div>\n",
       "\n",
       "<div id=\"div_fig1\">\n",
       "\n",
       "<img src=\"tmp_2406.02179/./figures/hf_results.png\" alt=\"Fig17\" width=\"100%\"/>\n",
       "\n",
       "**Figure 17. -** Results of the upper limit determination of Jupiter's atmospheric hydrogen fluoride (\\ce{HF}) mole fraction using the PACS data and the a priori forward model (Sec. \\ref{sec:model_setup}) including the derived ammonia and phosphine profiles (Subsec. \\ref{subsec:nh3} and \\ref{subsec:ph3}) and the inferred methane mole fraction (Subsec. \\ref{subsec:ch4}). Panels (a) to (c) show the PACS data around the wavelengths of three \\ce{HF} lines in the PACS spectral range. These plots also show forward model spectra including \\ce{HF} with the inferred upper limit mole fraction and without \\ce{HF} at all. Panel (d) shows the results of the least-squares comparison between model spectra assuming different \\ce{HF} mole fractions and the PACS data using $\\Delta\\chi_0^2$(see Equation \\ref{eq:delta_chi-squared0}). The criterion for the upper limit ($\\Delta\\chi_0^2=9$) is shown with a horizontal blue dashed line and the mole fraction at which it is met is shown using a vertical blue dashed line. In total, 1000 values for the \\ce{HF} mole fraction between 0 and $1\\times 10^{-9}$ were used in the forward model to compare the resulting model spectra with the PACS data. (*fig:hf*)\n",
       "\n",
       "</div>\n",
       "<div id=\"div_fig2\">\n",
       "\n",
       "<img src=\"tmp_2406.02179/./figures/ph3_lines.png\" alt=\"Fig9\" width=\"100%\"/>\n",
       "\n",
       "**Figure 9. -** PACS data and model spectra of the five phosphine bands used for the analysis of phosphine in Jupiter's atmosphere as well as the \\ce{PH_3}$R(5)$ band. The forward model spectra were synthesized using $a_{\\ce{PH_3}}(\\infty)=7.2\\times 10^{-7}$, $p_{\\ce{PH_3}}=550 $mbar, and $f_{\\ce{PH_3}}=0.09$. (*fig:ph3_lines*)\n",
       "\n",
       "</div>\n",
       "<div id=\"div_fig3\">\n",
       "\n",
       "<img src=\"tmp_2406.02179/./figures/nh3_contours.png\" alt=\"Fig5\" width=\"100%\"/>\n",
       "\n",
       "**Figure 5. -** Least-squares comparison between the PACS data of the \\ce{NH_3}$R(2)$, $R(5)$, and $R(7)$ bands and the model spectra synthesized using grids of ammonia abundance profiles expressed in $\\Delta\\chi^2$(see Equation \\ref{eq:delta_chi-squared}). (*fig:nh3_contours*)\n",
       "\n",
       "</div><div id=\"qrcode\"><img src=https://api.qrserver.com/v1/create-qr-code/?size=100x100&data=\"https://arxiv.org/abs/2406.02179\"></div>"
      ],
      "text/plain": [
       "<IPython.core.display.Markdown object>"
      ]
     },
     "metadata": {},
     "output_type": "display_data"
    }
   ],
   "source": [
    "[display(Markdown(k[1])) for k in documents];"
   ]
  },
  {
   "cell_type": "markdown",
   "id": "873873a4",
   "metadata": {
    "papermill": {
     "duration": 0.005664,
     "end_time": "2024-06-05T04:12:06.492572",
     "exception": false,
     "start_time": "2024-06-05T04:12:06.486908",
     "status": "completed"
    },
    "tags": []
   },
   "source": [
    "# Create HTML index"
   ]
  },
  {
   "cell_type": "code",
   "execution_count": 10,
   "id": "cf665672",
   "metadata": {
    "execution": {
     "iopub.execute_input": "2024-06-05T04:12:06.504766Z",
     "iopub.status.busy": "2024-06-05T04:12:06.504295Z",
     "iopub.status.idle": "2024-06-05T04:12:06.511247Z",
     "shell.execute_reply": "2024-06-05T04:12:06.510636Z"
    },
    "papermill": {
     "duration": 0.014605,
     "end_time": "2024-06-05T04:12:06.512666",
     "exception": false,
     "start_time": "2024-06-05T04:12:06.498061",
     "status": "completed"
    },
    "tags": []
   },
   "outputs": [
    {
     "name": "stdout",
     "output_type": "stream",
     "text": [
      "84  publications files modified in the last 7 days.\n"
     ]
    }
   ],
   "source": [
    "from datetime import datetime, timedelta, timezone\n",
    "from glob import glob\n",
    "import os\n",
    "\n",
    "files = glob('_build/html/*.md')\n",
    "days = 7\n",
    "now = datetime.today()\n",
    "res = []\n",
    "for fk in files:\n",
    "    stat_result = os.stat(fk).st_ctime\n",
    "    modified = datetime.fromtimestamp(stat_result, tz=timezone.utc).replace(tzinfo=None)\n",
    "    delta = now.today() - modified\n",
    "    if delta <= timedelta(days=days):\n",
    "        res.append((delta.seconds, fk))\n",
    "res = [k[1] for k in reversed(sorted(res, key=lambda x:x[1]))]\n",
    "npub = len(res)\n",
    "print(len(res), f\" publications files modified in the last {days:d} days.\")\n",
    "# [ print('\\t', k) for k in res ];"
   ]
  },
  {
   "cell_type": "code",
   "execution_count": 11,
   "id": "015de740",
   "metadata": {
    "execution": {
     "iopub.execute_input": "2024-06-05T04:12:06.525088Z",
     "iopub.status.busy": "2024-06-05T04:12:06.524692Z",
     "iopub.status.idle": "2024-06-05T04:12:06.535540Z",
     "shell.execute_reply": "2024-06-05T04:12:06.534877Z"
    },
    "papermill": {
     "duration": 0.018666,
     "end_time": "2024-06-05T04:12:06.536926",
     "exception": false,
     "start_time": "2024-06-05T04:12:06.518260",
     "status": "completed"
    },
    "tags": []
   },
   "outputs": [
    {
     "name": "stdout",
     "output_type": "stream",
     "text": [
      "5  publications in the last 7 days.\n"
     ]
    }
   ],
   "source": [
    "import datetime\n",
    "from glob import glob\n",
    "\n",
    "def get_last_n_days(lst, days=1):\n",
    "    \"\"\" Get the documents from the last n days \"\"\"\n",
    "    sorted_lst = sorted(lst, key=lambda x: x[1], reverse=True)\n",
    "    for fname, date in sorted_lst:\n",
    "        if date >= str(datetime.date.today() - datetime.timedelta(days=days)):\n",
    "            yield fname\n",
    "\n",
    "def extract_appearance_dates(lst_file):\n",
    "    dates = []\n",
    "\n",
    "    def get_date(line):\n",
    "        return line\\\n",
    "            .split('Appeared on:')[-1]\\\n",
    "            .split('</mark>')[0].strip()\n",
    "\n",
    "    for fname in lst:\n",
    "        with open(fname, 'r') as f:\n",
    "            found_date = False\n",
    "            for line in f:\n",
    "                if not found_date:\n",
    "                    if \"Appeared on\" in line:\n",
    "                        found_date = True\n",
    "                        dates.append((fname, get_date(line)))\n",
    "                else:\n",
    "                    break\n",
    "    return dates\n",
    "\n",
    "from glob import glob\n",
    "lst = glob('_build/html/*md')\n",
    "days = 7\n",
    "dates = extract_appearance_dates(lst)\n",
    "res = list(get_last_n_days(dates, days))\n",
    "npub = len(res)\n",
    "print(len(res), f\" publications in the last {days:d} days.\")"
   ]
  },
  {
   "cell_type": "code",
   "execution_count": 12,
   "id": "52ca0208",
   "metadata": {
    "execution": {
     "iopub.execute_input": "2024-06-05T04:12:06.549576Z",
     "iopub.status.busy": "2024-06-05T04:12:06.549138Z",
     "iopub.status.idle": "2024-06-05T04:12:06.554299Z",
     "shell.execute_reply": "2024-06-05T04:12:06.553739Z"
    },
    "papermill": {
     "duration": 0.013061,
     "end_time": "2024-06-05T04:12:06.555675",
     "exception": false,
     "start_time": "2024-06-05T04:12:06.542614",
     "status": "completed"
    },
    "scrolled": false,
    "tags": []
   },
   "outputs": [],
   "source": [
    "def create_carousel(npub=4):\n",
    "    \"\"\" Generate the HTML code for a carousel with `npub` slides \"\"\"\n",
    "    carousel = [\"\"\"  <div class=\"carousel\" \"\"\",\n",
    "                \"\"\"       data-flickity='{ \"autoPlay\": 10000, \"adaptiveHeight\": true, \"resize\": true, \"wrapAround\": true, \"pauseAutoPlayOnHover\": true, \"groupCells\": 1 }' id=\"asyncTypeset\">\"\"\"\n",
    "                ]\n",
    "    \n",
    "    item_str = \"\"\"    <div class=\"carousel-cell\"> <div id=\"slide{k}\" class=\"md_view\">Content {k}</div> </div>\"\"\"\n",
    "    for k in range(1, npub + 1):\n",
    "        carousel.append(item_str.format(k=k))\n",
    "    carousel.append(\"  </div>\")\n",
    "    return '\\n'.join(carousel)\n",
    "\n",
    "def create_grid(npub=4):\n",
    "    \"\"\" Generate the HTML code for a flat grid with `npub` slides \"\"\"\n",
    "    grid = [\"\"\"  <div class=\"grid\"> \"\"\",\n",
    "                ]\n",
    "    \n",
    "    item_str = \"\"\"    <div class=\"grid-item\"> <div id=\"slide{k}\" class=\"md_view\">Content {k}</div> </div>\"\"\"\n",
    "    for k in range(1, npub + 1):\n",
    "        grid.append(item_str.format(k=k))\n",
    "    grid.append(\"  </div>\")\n",
    "    return '\\n'.join(grid)"
   ]
  },
  {
   "cell_type": "code",
   "execution_count": 13,
   "id": "a6eac5b6",
   "metadata": {
    "execution": {
     "iopub.execute_input": "2024-06-05T04:12:06.568455Z",
     "iopub.status.busy": "2024-06-05T04:12:06.568029Z",
     "iopub.status.idle": "2024-06-05T04:12:06.573095Z",
     "shell.execute_reply": "2024-06-05T04:12:06.572574Z"
    },
    "papermill": {
     "duration": 0.012962,
     "end_time": "2024-06-05T04:12:06.574374",
     "exception": false,
     "start_time": "2024-06-05T04:12:06.561412",
     "status": "completed"
    },
    "scrolled": false,
    "tags": []
   },
   "outputs": [],
   "source": [
    "carousel = create_carousel(npub)\n",
    "docs = ', '.join(['\"{0:s}\"'.format(k.split('/')[-1]) for k in res])\n",
    "slides = ', '.join([f'\"slide{k}\"' for k in range(1, npub + 1)])\n",
    "\n",
    "with open(\"daily_template.html\", \"r\") as tpl:\n",
    "    page = tpl.read()\n",
    "    page = page.replace(\"{%-- carousel:s --%}\", carousel)\\\n",
    "               .replace(\"{%-- suptitle:s --%}\",  \"7-day archives\" )\\\n",
    "               .replace(\"{%-- docs:s --%}\", docs)\\\n",
    "               .replace(\"{%-- slides:s --%}\", slides)\n",
    "    \n",
    "with open(\"_build/html/index_7days.html\", 'w') as fout:\n",
    "    fout.write(page)"
   ]
  },
  {
   "cell_type": "code",
   "execution_count": 14,
   "id": "adc1a1ec",
   "metadata": {
    "execution": {
     "iopub.execute_input": "2024-06-05T04:12:06.587107Z",
     "iopub.status.busy": "2024-06-05T04:12:06.586566Z",
     "iopub.status.idle": "2024-06-05T04:12:06.592946Z",
     "shell.execute_reply": "2024-06-05T04:12:06.592324Z"
    },
    "papermill": {
     "duration": 0.014171,
     "end_time": "2024-06-05T04:12:06.594296",
     "exception": false,
     "start_time": "2024-06-05T04:12:06.580125",
     "status": "completed"
    },
    "tags": []
   },
   "outputs": [
    {
     "name": "stdout",
     "output_type": "stream",
     "text": [
      "2  publications in the last day.\n"
     ]
    }
   ],
   "source": [
    "# redo for today\n",
    "days = 1\n",
    "res = list(get_last_n_days(dates, days))\n",
    "npub = len(res)\n",
    "print(len(res), f\" publications in the last day.\")\n",
    "\n",
    "carousel = create_carousel(npub)\n",
    "docs = ', '.join(['\"{0:s}\"'.format(k.split('/')[-1]) for k in res])\n",
    "slides = ', '.join([f'\"slide{k}\"' for k in range(1, npub + 1)])\n",
    "\n",
    "with open(\"daily_template.html\", \"r\") as tpl:\n",
    "    page = tpl.read()\n",
    "    page = page.replace(\"{%-- carousel:s --%}\", carousel)\\\n",
    "               .replace(\"{%-- suptitle:s --%}\",  \"Daily\" )\\\n",
    "               .replace(\"{%-- docs:s --%}\", docs)\\\n",
    "               .replace(\"{%-- slides:s --%}\", slides)\n",
    "    \n",
    "# print(carousel, docs, slides)\n",
    "# print(page)\n",
    "with open(\"_build/html/index_daily.html\", 'w') as fout:\n",
    "    fout.write(page)"
   ]
  },
  {
   "cell_type": "code",
   "execution_count": 15,
   "id": "00eece82",
   "metadata": {
    "execution": {
     "iopub.execute_input": "2024-06-05T04:12:06.608199Z",
     "iopub.status.busy": "2024-06-05T04:12:06.607494Z",
     "iopub.status.idle": "2024-06-05T04:12:06.614926Z",
     "shell.execute_reply": "2024-06-05T04:12:06.614168Z"
    },
    "papermill": {
     "duration": 0.016224,
     "end_time": "2024-06-05T04:12:06.616498",
     "exception": false,
     "start_time": "2024-06-05T04:12:06.600274",
     "status": "completed"
    },
    "scrolled": false,
    "tags": []
   },
   "outputs": [
    {
     "name": "stdout",
     "output_type": "stream",
     "text": [
      "6  6 publications selected.\n"
     ]
    }
   ],
   "source": [
    "# Create the flat grid of the last N papers (fixed number regardless of dates)\n",
    "from itertools import islice \n",
    "\n",
    "npub = 6\n",
    "res = [k[0] for k in (islice(reversed(sorted(dates, key=lambda x: x[1])), 6))]\n",
    "print(len(res), f\" {npub} publications selected.\")\n",
    "\n",
    "grid = create_grid(npub)\n",
    "docs = ', '.join(['\"{0:s}\"'.format(k.split('/')[-1]) for k in res])\n",
    "slides = ', '.join([f'\"slide{k}\"' for k in range(1, npub + 1)])\n",
    "\n",
    "with open(\"grid_template.html\", \"r\") as tpl:\n",
    "    page = tpl.read()\n",
    "    page = page.replace(\"{%-- grid-content:s --%}\", grid)\\\n",
    "               .replace(\"{%-- suptitle:s --%}\",  f\"Last {npub:,d} papers\" )\\\n",
    "               .replace(\"{%-- docs:s --%}\", docs)\\\n",
    "               .replace(\"{%-- slides:s --%}\", slides)\n",
    "    \n",
    "# print(grid, docs, slides)\n",
    "# print(page)\n",
    "with open(\"_build/html/index_npub_grid.html\", 'w') as fout:\n",
    "    fout.write(page)"
   ]
  }
 ],
 "metadata": {
  "kernelspec": {
   "display_name": "Python 3 (ipykernel)",
   "language": "python",
   "name": "python3"
  },
  "language_info": {
   "codemirror_mode": {
    "name": "ipython",
    "version": 3
   },
   "file_extension": ".py",
   "mimetype": "text/x-python",
   "name": "python",
   "nbconvert_exporter": "python",
   "pygments_lexer": "ipython3",
   "version": "3.9.19"
  },
  "papermill": {
   "default_parameters": {},
   "duration": 65.358613,
   "end_time": "2024-06-05T04:12:06.839472",
   "environment_variables": {},
   "exception": null,
   "input_path": "MPIA daily digest.ipynb",
   "output_path": "log.ipynb",
   "parameters": {},
   "start_time": "2024-06-05T04:11:01.480859",
   "version": "2.6.0"
  },
  "vscode": {
   "interpreter": {
    "hash": "aee8b7b246df8f9039afb4144a1f6fd8d2ca17a180786b69acc140d282b71a49"
   }
  },
  "widgets": {
   "application/vnd.jupyter.widget-state+json": {
    "state": {
     "08832672cf9e4f0e881713cc78f52e47": {
      "model_module": "@jupyter-widgets/base",
      "model_module_version": "2.0.0",
      "model_name": "LayoutModel",
      "state": {
       "_model_module": "@jupyter-widgets/base",
       "_model_module_version": "2.0.0",
       "_model_name": "LayoutModel",
       "_view_count": null,
       "_view_module": "@jupyter-widgets/base",
       "_view_module_version": "2.0.0",
       "_view_name": "LayoutView",
       "align_content": null,
       "align_items": null,
       "align_self": null,
       "border_bottom": null,
       "border_left": null,
       "border_right": null,
       "border_top": null,
       "bottom": null,
       "display": null,
       "flex": null,
       "flex_flow": null,
       "grid_area": null,
       "grid_auto_columns": null,
       "grid_auto_flow": null,
       "grid_auto_rows": null,
       "grid_column": null,
       "grid_gap": null,
       "grid_row": null,
       "grid_template_areas": null,
       "grid_template_columns": null,
       "grid_template_rows": null,
       "height": null,
       "justify_content": null,
       "justify_items": null,
       "left": null,
       "margin": null,
       "max_height": null,
       "max_width": null,
       "min_height": null,
       "min_width": null,
       "object_fit": null,
       "object_position": null,
       "order": null,
       "overflow": null,
       "padding": null,
       "right": null,
       "top": null,
       "visibility": null,
       "width": null
      }
     },
     "260aae69bc8741b78741985e315b66ae": {
      "model_module": "@jupyter-widgets/controls",
      "model_module_version": "2.0.0",
      "model_name": "HTMLStyleModel",
      "state": {
       "_model_module": "@jupyter-widgets/controls",
       "_model_module_version": "2.0.0",
       "_model_name": "HTMLStyleModel",
       "_view_count": null,
       "_view_module": "@jupyter-widgets/base",
       "_view_module_version": "2.0.0",
       "_view_name": "StyleView",
       "background": null,
       "description_width": "",
       "font_size": null,
       "text_color": null
      }
     },
     "28249a3542764d3286dd029e72d1eb2c": {
      "model_module": "@jupyter-widgets/controls",
      "model_module_version": "2.0.0",
      "model_name": "FloatProgressModel",
      "state": {
       "_dom_classes": [],
       "_model_module": "@jupyter-widgets/controls",
       "_model_module_version": "2.0.0",
       "_model_name": "FloatProgressModel",
       "_view_count": null,
       "_view_module": "@jupyter-widgets/controls",
       "_view_module_version": "2.0.0",
       "_view_name": "ProgressView",
       "bar_style": "success",
       "description": "",
       "description_allow_html": false,
       "layout": "IPY_MODEL_4f3223f5fe8a4a8ebf0f59ad58bffeb1",
       "max": 7.0,
       "min": 0.0,
       "orientation": "horizontal",
       "style": "IPY_MODEL_3a8aa741ff3948c0872f85286d39ee7a",
       "tabbable": null,
       "tooltip": null,
       "value": 7.0
      }
     },
     "3a8aa741ff3948c0872f85286d39ee7a": {
      "model_module": "@jupyter-widgets/controls",
      "model_module_version": "2.0.0",
      "model_name": "ProgressStyleModel",
      "state": {
       "_model_module": "@jupyter-widgets/controls",
       "_model_module_version": "2.0.0",
       "_model_name": "ProgressStyleModel",
       "_view_count": null,
       "_view_module": "@jupyter-widgets/base",
       "_view_module_version": "2.0.0",
       "_view_name": "StyleView",
       "bar_color": null,
       "description_width": ""
      }
     },
     "4622d63fab1048c18fd50490d97b7521": {
      "model_module": "@jupyter-widgets/controls",
      "model_module_version": "2.0.0",
      "model_name": "HBoxModel",
      "state": {
       "_dom_classes": [],
       "_model_module": "@jupyter-widgets/controls",
       "_model_module_version": "2.0.0",
       "_model_name": "HBoxModel",
       "_view_count": null,
       "_view_module": "@jupyter-widgets/controls",
       "_view_module_version": "2.0.0",
       "_view_name": "HBoxView",
       "box_style": "",
       "children": [
        "IPY_MODEL_de20d13605df401e87a96eaa588f776f",
        "IPY_MODEL_28249a3542764d3286dd029e72d1eb2c",
        "IPY_MODEL_63b119ae63844071ac2d1a00a4d376d4"
       ],
       "layout": "IPY_MODEL_08832672cf9e4f0e881713cc78f52e47",
       "tabbable": null,
       "tooltip": null
      }
     },
     "4f3223f5fe8a4a8ebf0f59ad58bffeb1": {
      "model_module": "@jupyter-widgets/base",
      "model_module_version": "2.0.0",
      "model_name": "LayoutModel",
      "state": {
       "_model_module": "@jupyter-widgets/base",
       "_model_module_version": "2.0.0",
       "_model_name": "LayoutModel",
       "_view_count": null,
       "_view_module": "@jupyter-widgets/base",
       "_view_module_version": "2.0.0",
       "_view_name": "LayoutView",
       "align_content": null,
       "align_items": null,
       "align_self": null,
       "border_bottom": null,
       "border_left": null,
       "border_right": null,
       "border_top": null,
       "bottom": null,
       "display": null,
       "flex": null,
       "flex_flow": null,
       "grid_area": null,
       "grid_auto_columns": null,
       "grid_auto_flow": null,
       "grid_auto_rows": null,
       "grid_column": null,
       "grid_gap": null,
       "grid_row": null,
       "grid_template_areas": null,
       "grid_template_columns": null,
       "grid_template_rows": null,
       "height": null,
       "justify_content": null,
       "justify_items": null,
       "left": null,
       "margin": null,
       "max_height": null,
       "max_width": null,
       "min_height": null,
       "min_width": null,
       "object_fit": null,
       "object_position": null,
       "order": null,
       "overflow": null,
       "padding": null,
       "right": null,
       "top": null,
       "visibility": null,
       "width": null
      }
     },
     "63b119ae63844071ac2d1a00a4d376d4": {
      "model_module": "@jupyter-widgets/controls",
      "model_module_version": "2.0.0",
      "model_name": "HTMLModel",
      "state": {
       "_dom_classes": [],
       "_model_module": "@jupyter-widgets/controls",
       "_model_module_version": "2.0.0",
       "_model_name": "HTMLModel",
       "_view_count": null,
       "_view_module": "@jupyter-widgets/controls",
       "_view_module_version": "2.0.0",
       "_view_name": "HTMLView",
       "description": "",
       "description_allow_html": false,
       "layout": "IPY_MODEL_6fcea775685344bfb1dedb524beb555b",
       "placeholder": "​",
       "style": "IPY_MODEL_260aae69bc8741b78741985e315b66ae",
       "tabbable": null,
       "tooltip": null,
       "value": " 7/7 [00:42&lt;00:00,  6.33s/it]"
      }
     },
     "6fcea775685344bfb1dedb524beb555b": {
      "model_module": "@jupyter-widgets/base",
      "model_module_version": "2.0.0",
      "model_name": "LayoutModel",
      "state": {
       "_model_module": "@jupyter-widgets/base",
       "_model_module_version": "2.0.0",
       "_model_name": "LayoutModel",
       "_view_count": null,
       "_view_module": "@jupyter-widgets/base",
       "_view_module_version": "2.0.0",
       "_view_name": "LayoutView",
       "align_content": null,
       "align_items": null,
       "align_self": null,
       "border_bottom": null,
       "border_left": null,
       "border_right": null,
       "border_top": null,
       "bottom": null,
       "display": null,
       "flex": null,
       "flex_flow": null,
       "grid_area": null,
       "grid_auto_columns": null,
       "grid_auto_flow": null,
       "grid_auto_rows": null,
       "grid_column": null,
       "grid_gap": null,
       "grid_row": null,
       "grid_template_areas": null,
       "grid_template_columns": null,
       "grid_template_rows": null,
       "height": null,
       "justify_content": null,
       "justify_items": null,
       "left": null,
       "margin": null,
       "max_height": null,
       "max_width": null,
       "min_height": null,
       "min_width": null,
       "object_fit": null,
       "object_position": null,
       "order": null,
       "overflow": null,
       "padding": null,
       "right": null,
       "top": null,
       "visibility": null,
       "width": null
      }
     },
     "de20d13605df401e87a96eaa588f776f": {
      "model_module": "@jupyter-widgets/controls",
      "model_module_version": "2.0.0",
      "model_name": "HTMLModel",
      "state": {
       "_dom_classes": [],
       "_model_module": "@jupyter-widgets/controls",
       "_model_module_version": "2.0.0",
       "_model_name": "HTMLModel",
       "_view_count": null,
       "_view_module": "@jupyter-widgets/controls",
       "_view_module_version": "2.0.0",
       "_view_name": "HTMLView",
       "description": "",
       "description_allow_html": false,
       "layout": "IPY_MODEL_f9720a24f2ad47f48dac2e72730d9b91",
       "placeholder": "​",
       "style": "IPY_MODEL_f78b14da71b54cf993d89c67e4808d0d",
       "tabbable": null,
       "tooltip": null,
       "value": "100%"
      }
     },
     "f78b14da71b54cf993d89c67e4808d0d": {
      "model_module": "@jupyter-widgets/controls",
      "model_module_version": "2.0.0",
      "model_name": "HTMLStyleModel",
      "state": {
       "_model_module": "@jupyter-widgets/controls",
       "_model_module_version": "2.0.0",
       "_model_name": "HTMLStyleModel",
       "_view_count": null,
       "_view_module": "@jupyter-widgets/base",
       "_view_module_version": "2.0.0",
       "_view_name": "StyleView",
       "background": null,
       "description_width": "",
       "font_size": null,
       "text_color": null
      }
     },
     "f9720a24f2ad47f48dac2e72730d9b91": {
      "model_module": "@jupyter-widgets/base",
      "model_module_version": "2.0.0",
      "model_name": "LayoutModel",
      "state": {
       "_model_module": "@jupyter-widgets/base",
       "_model_module_version": "2.0.0",
       "_model_name": "LayoutModel",
       "_view_count": null,
       "_view_module": "@jupyter-widgets/base",
       "_view_module_version": "2.0.0",
       "_view_name": "LayoutView",
       "align_content": null,
       "align_items": null,
       "align_self": null,
       "border_bottom": null,
       "border_left": null,
       "border_right": null,
       "border_top": null,
       "bottom": null,
       "display": null,
       "flex": null,
       "flex_flow": null,
       "grid_area": null,
       "grid_auto_columns": null,
       "grid_auto_flow": null,
       "grid_auto_rows": null,
       "grid_column": null,
       "grid_gap": null,
       "grid_row": null,
       "grid_template_areas": null,
       "grid_template_columns": null,
       "grid_template_rows": null,
       "height": null,
       "justify_content": null,
       "justify_items": null,
       "left": null,
       "margin": null,
       "max_height": null,
       "max_width": null,
       "min_height": null,
       "min_width": null,
       "object_fit": null,
       "object_position": null,
       "order": null,
       "overflow": null,
       "padding": null,
       "right": null,
       "top": null,
       "visibility": null,
       "width": null
      }
     }
    },
    "version_major": 2,
    "version_minor": 0
   }
  }
 },
 "nbformat": 4,
 "nbformat_minor": 5
}