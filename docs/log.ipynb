{
 "cells": [
  {
   "cell_type": "markdown",
   "id": "92bcb855",
   "metadata": {
    "papermill": {
     "duration": 0.005102,
     "end_time": "2023-10-31T04:07:55.396596",
     "exception": false,
     "start_time": "2023-10-31T04:07:55.391494",
     "status": "completed"
    },
    "tags": []
   },
   "source": [
    "# MPIA Arxiv on Deck 2\n",
    "\n",
    "Contains the steps to produce the paper extractions."
   ]
  },
  {
   "cell_type": "code",
   "execution_count": 1,
   "id": "3a0d6e11",
   "metadata": {
    "execution": {
     "iopub.execute_input": "2023-10-31T04:07:55.406351Z",
     "iopub.status.busy": "2023-10-31T04:07:55.405542Z",
     "iopub.status.idle": "2023-10-31T04:07:55.812544Z",
     "shell.execute_reply": "2023-10-31T04:07:55.811773Z"
    },
    "papermill": {
     "duration": 0.414278,
     "end_time": "2023-10-31T04:07:55.814828",
     "exception": false,
     "start_time": "2023-10-31T04:07:55.400550",
     "status": "completed"
    },
    "tags": []
   },
   "outputs": [],
   "source": [
    "# Imports\n",
    "import os\n",
    "from IPython.display import Markdown, display\n",
    "from tqdm.notebook import tqdm\n",
    "import warnings\n",
    "from PIL import Image \n",
    "\n",
    "# requires arxiv_on_deck_2\n",
    "\n",
    "from arxiv_on_deck_2.arxiv2 import (get_new_papers, \n",
    "                                    get_paper_from_identifier,\n",
    "                                    retrieve_document_source, \n",
    "                                    get_markdown_badge)\n",
    "from arxiv_on_deck_2 import (latex,\n",
    "                             latex_bib,\n",
    "                             mpia,\n",
    "                             highlight_authors_in_list)\n",
    "\n",
    "# Sometimes images are really big\n",
    "Image.MAX_IMAGE_PIXELS = 1000000000 "
   ]
  },
  {
   "cell_type": "code",
   "execution_count": 2,
   "id": "22aa9d44",
   "metadata": {
    "execution": {
     "iopub.execute_input": "2023-10-31T04:07:55.825997Z",
     "iopub.status.busy": "2023-10-31T04:07:55.825433Z",
     "iopub.status.idle": "2023-10-31T04:07:55.832168Z",
     "shell.execute_reply": "2023-10-31T04:07:55.831441Z"
    },
    "papermill": {
     "duration": 0.013269,
     "end_time": "2023-10-31T04:07:55.833807",
     "exception": false,
     "start_time": "2023-10-31T04:07:55.820538",
     "status": "completed"
    },
    "tags": []
   },
   "outputs": [],
   "source": [
    "# Some useful definitions.\n",
    "\n",
    "class AffiliationWarning(UserWarning):\n",
    "    pass\n",
    "\n",
    "class AffiliationError(RuntimeError):\n",
    "    pass\n",
    "\n",
    "def validation(source: str):\n",
    "    \"\"\"Raises error paper during parsing of source file\n",
    "    \n",
    "    Allows checks before parsing TeX code.\n",
    "    \n",
    "    Raises AffiliationWarning\n",
    "    \"\"\"\n",
    "    check = mpia.affiliation_verifications(source, verbose=True)\n",
    "    if check is not True:\n",
    "        raise AffiliationError(\"mpia.affiliation_verifications: \" + check)\n",
    "\n",
    "        \n",
    "warnings.simplefilter('always', AffiliationWarning)\n",
    "\n",
    "\n",
    "def get_markdown_qrcode(paper_id: str):\n",
    "    \"\"\" Generate a qrcode to the arxiv page using qrserver.com\n",
    "    \n",
    "    :param paper: Arxiv paper\n",
    "    :returns: markdown text\n",
    "    \"\"\"\n",
    "    url = r\"https://api.qrserver.com/v1/create-qr-code/?size=100x100&data=\"\n",
    "    txt = f\"\"\"<img src={url}\"https://arxiv.org/abs/{paper_id}\">\"\"\"\n",
    "    txt = '<div id=\"qrcode\">' + txt + '</div>'\n",
    "    return txt"
   ]
  },
  {
   "cell_type": "markdown",
   "id": "14bd6310",
   "metadata": {
    "papermill": {
     "duration": 0.003525,
     "end_time": "2023-10-31T04:07:55.840900",
     "exception": false,
     "start_time": "2023-10-31T04:07:55.837375",
     "status": "completed"
    },
    "tags": []
   },
   "source": [
    "## get list of arxiv paper candidates\n",
    "\n",
    "We use the MPIA mitarbeiter list webpage from mpia.de to get author names\n",
    "We then get all new papers from Arxiv and match authors"
   ]
  },
  {
   "cell_type": "code",
   "execution_count": 3,
   "id": "2645e73a",
   "metadata": {
    "execution": {
     "iopub.execute_input": "2023-10-31T04:07:55.850703Z",
     "iopub.status.busy": "2023-10-31T04:07:55.850179Z",
     "iopub.status.idle": "2023-10-31T04:08:17.341803Z",
     "shell.execute_reply": "2023-10-31T04:08:17.340835Z"
    },
    "papermill": {
     "duration": 21.4995,
     "end_time": "2023-10-31T04:08:17.343935",
     "exception": false,
     "start_time": "2023-10-31T04:07:55.844435",
     "status": "completed"
    },
    "tags": []
   },
   "outputs": [
    {
     "name": "stdout",
     "output_type": "stream",
     "text": [
      "E. Schinnerer  ->  E. Schinnerer  |  ['E. Schinnerer']\n",
      "M. Flock  ->  M. Flock  |  ['M. Flock']\n",
      "A. Gould  ->  A. Gould  |  ['A. Gould']\n",
      "S. Li  ->  S. Li  |  ['S. Li']\n",
      "C. Jaeger  ->  C. Jaeger  |  ['C. Jaeger']\n",
      "S. Ghosh  ->  S. Ghosh  |  ['S. Ghosh']\n",
      "Arxiv has 79 new papers today\n",
      "          6 with possible author matches\n"
     ]
    }
   ],
   "source": [
    "# get list from MPIA website\n",
    "# it automatically filters identified non-scientists :func:`mpia.filter_non_scientists`\n",
    "mpia_authors = mpia.get_mpia_mitarbeiter_list()\n",
    "normed_mpia_authors = [k[1] for k in mpia_authors]   # initials + fullname\n",
    "new_papers = get_new_papers()\n",
    "# add manual references\n",
    "add_paper_refs = []\n",
    "new_papers.extend([get_paper_from_identifier(k) for k in add_paper_refs])\n",
    "\n",
    "candidates = []\n",
    "for paperk in new_papers:\n",
    "    # Check author list with their initials\n",
    "    normed_author_list = [mpia.get_initials(k) for k in paperk['authors']]\n",
    "    hl_authors = highlight_authors_in_list(normed_author_list, normed_mpia_authors, verbose=True)\n",
    "    matches = [(hl, orig) for hl, orig in zip(hl_authors, paperk['authors']) if 'mark' in hl]\n",
    "    paperk['authors'] = hl_authors\n",
    "    if matches:\n",
    "        # only select paper if an author matched our list\n",
    "        candidates.append(paperk)\n",
    "print(\"\"\"Arxiv has {0:,d} new papers today\"\"\".format(len(new_papers)))        \n",
    "print(\"\"\"          {0:,d} with possible author matches\"\"\".format(len(candidates)))"
   ]
  },
  {
   "cell_type": "markdown",
   "id": "3543b34a",
   "metadata": {
    "papermill": {
     "duration": 0.003827,
     "end_time": "2023-10-31T04:08:17.353194",
     "exception": false,
     "start_time": "2023-10-31T04:08:17.349367",
     "status": "completed"
    },
    "tags": []
   },
   "source": [
    "# Parse sources and generate relevant outputs\n",
    "\n",
    "From the candidates, we do the following steps:\n",
    "* get their tarball from ArXiv (and extract data)\n",
    "* find the main .tex file: find one with \\documentclass{...} (sometimes it's non trivial)\n",
    "* Check affiliations with :func:`validation`, which uses :func:`mpia.affiliation_verifications`\n",
    "* If passing the affiliations: we parse the .tex source\n",
    "   * inject sub-documents into the main (flatten the main document)\n",
    "   * parse structure, extract information (title, abstract, authors, figures...)\n",
    "   * handles `\\graphicspath` if provided\n",
    "* Generate the .md document."
   ]
  },
  {
   "cell_type": "code",
   "execution_count": 4,
   "id": "9576b79e",
   "metadata": {
    "execution": {
     "iopub.execute_input": "2023-10-31T04:08:17.362151Z",
     "iopub.status.busy": "2023-10-31T04:08:17.361682Z",
     "iopub.status.idle": "2023-10-31T04:10:44.609862Z",
     "shell.execute_reply": "2023-10-31T04:10:44.609167Z"
    },
    "papermill": {
     "duration": 147.255566,
     "end_time": "2023-10-31T04:10:44.612380",
     "exception": false,
     "start_time": "2023-10-31T04:08:17.356814",
     "status": "completed"
    },
    "scrolled": false,
    "tags": []
   },
   "outputs": [
    {
     "data": {
      "application/vnd.jupyter.widget-view+json": {
       "model_id": "8b1375fbfbac48a89b023ab42bc0efe1",
       "version_major": 2,
       "version_minor": 0
      },
      "text/plain": [
       "  0%|          | 0/6 [00:00<?, ?it/s]"
      ]
     },
     "metadata": {},
     "output_type": "display_data"
    },
    {
     "name": "stdout",
     "output_type": "stream",
     "text": [
      "Retrieving document from  https://arxiv.org/e-print/2310.18407\n"
     ]
    },
    {
     "name": "stdout",
     "output_type": "stream",
     "text": [
      "extracting tarball to tmp_2310.18407..."
     ]
    },
    {
     "name": "stdout",
     "output_type": "stream",
     "text": [
      " done.\n"
     ]
    },
    {
     "name": "stderr",
     "output_type": "stream",
     "text": [
      "/opt/hostedtoolcache/Python/3.9.18/x64/lib/python3.9/site-packages/IPython/core/interactiveshell.py:3548: LatexWarning: Multiple tex files.\n",
      "\n",
      "  exec(code_obj, self.user_global_ns, self.user_ns)\n",
      "/opt/hostedtoolcache/Python/3.9.18/x64/lib/python3.9/site-packages/IPython/core/interactiveshell.py:3548: LatexWarning: Found documentclass in tmp_2310.18407/main_v1.tex\n",
      "\n",
      "  exec(code_obj, self.user_global_ns, self.user_ns)\n",
      "/opt/hostedtoolcache/Python/3.9.18/x64/lib/python3.9/site-packages/arxiv_on_deck_2/latex.py:399: LatexWarning: Latex injecting: 'Sections/appendix' from 'tmp_2310.18407/Sections/appendix.tex'\n",
      "  warnings.warn(LatexWarning(f\"Latex injecting: '{ext}' from '{subsource}'\"))\n",
      "/opt/hostedtoolcache/Python/3.9.18/x64/lib/python3.9/site-packages/arxiv_on_deck_2/latex.py:399: LatexWarning: Latex injecting: 'Sections/05_conclusion' from 'tmp_2310.18407/Sections/05_conclusion.tex'\n",
      "  warnings.warn(LatexWarning(f\"Latex injecting: '{ext}' from '{subsource}'\"))\n",
      "/opt/hostedtoolcache/Python/3.9.18/x64/lib/python3.9/site-packages/arxiv_on_deck_2/latex.py:399: LatexWarning: Latex injecting: 'Sections/04_discussion' from 'tmp_2310.18407/Sections/04_discussion.tex'\n",
      "  warnings.warn(LatexWarning(f\"Latex injecting: '{ext}' from '{subsource}'\"))\n",
      "/opt/hostedtoolcache/Python/3.9.18/x64/lib/python3.9/site-packages/arxiv_on_deck_2/latex.py:399: LatexWarning: Latex injecting: 'Sections/03_results' from 'tmp_2310.18407/Sections/03_results.tex'\n",
      "  warnings.warn(LatexWarning(f\"Latex injecting: '{ext}' from '{subsource}'\"))\n",
      "/opt/hostedtoolcache/Python/3.9.18/x64/lib/python3.9/site-packages/arxiv_on_deck_2/latex.py:399: LatexWarning: Latex injecting: 'Sections/02_obs' from 'tmp_2310.18407/Sections/02_obs.tex'\n",
      "  warnings.warn(LatexWarning(f\"Latex injecting: '{ext}' from '{subsource}'\"))\n",
      "/opt/hostedtoolcache/Python/3.9.18/x64/lib/python3.9/site-packages/arxiv_on_deck_2/latex.py:399: LatexWarning: Latex injecting: 'Sections/01_introduction' from 'tmp_2310.18407/Sections/01_introduction.tex'\n",
      "  warnings.warn(LatexWarning(f\"Latex injecting: '{ext}' from '{subsource}'\"))\n"
     ]
    },
    {
     "name": "stdout",
     "output_type": "stream",
     "text": [
      "Found 74 bibliographic references in tmp_2310.18407/main_v1.bbl.\n",
      "Retrieving document from  https://arxiv.org/e-print/2310.18484\n"
     ]
    },
    {
     "name": "stdout",
     "output_type": "stream",
     "text": [
      "extracting tarball to tmp_2310.18484..."
     ]
    },
    {
     "name": "stdout",
     "output_type": "stream",
     "text": [
      " done.\n"
     ]
    },
    {
     "name": "stdout",
     "output_type": "stream",
     "text": [
      "M. Flock  ->  M. Flock  |  ['M. Flock']\n"
     ]
    },
    {
     "name": "stdout",
     "output_type": "stream",
     "text": [
      "Found 113 bibliographic references in tmp_2310.18484/aanda.bbl.\n",
      "Retrieving document from  https://arxiv.org/e-print/2310.19164\n"
     ]
    },
    {
     "name": "stdout",
     "output_type": "stream",
     "text": [
      "extracting tarball to tmp_2310.19164... done.\n",
      "Retrieving document from  https://arxiv.org/e-print/2310.19228\n"
     ]
    },
    {
     "name": "stderr",
     "output_type": "stream",
     "text": [
      "/opt/hostedtoolcache/Python/3.9.18/x64/lib/python3.9/site-packages/IPython/core/interactiveshell.py:3548: LatexWarning: Multiple tex files.\n",
      "\n",
      "  exec(code_obj, self.user_global_ns, self.user_ns)\n",
      "/opt/hostedtoolcache/Python/3.9.18/x64/lib/python3.9/site-packages/IPython/core/interactiveshell.py:3548: LatexWarning: Found documentclass in tmp_2310.19164/ms.tex\n",
      "\n",
      "  exec(code_obj, self.user_global_ns, self.user_ns)\n"
     ]
    },
    {
     "name": "stdout",
     "output_type": "stream",
     "text": [
      "extracting tarball to tmp_2310.19228..."
     ]
    },
    {
     "name": "stdout",
     "output_type": "stream",
     "text": [
      " done.\n",
      "Retrieving document from  https://arxiv.org/e-print/2310.19497\n"
     ]
    },
    {
     "name": "stdout",
     "output_type": "stream",
     "text": [
      "extracting tarball to tmp_2310.19497..."
     ]
    },
    {
     "name": "stdout",
     "output_type": "stream",
     "text": [
      " done.\n"
     ]
    },
    {
     "name": "stdout",
     "output_type": "stream",
     "text": [
      "C. Jäger  ->  C. Jäger  |  ['C. Jäger']\n"
     ]
    },
    {
     "name": "stdout",
     "output_type": "stream",
     "text": [
      "Found 39 bibliographic references in tmp_2310.19497/ms.bbl.\n",
      "Retrieving document from  https://arxiv.org/e-print/2310.19627\n"
     ]
    },
    {
     "name": "stdout",
     "output_type": "stream",
     "text": [
      "extracting tarball to tmp_2310.19627..."
     ]
    },
    {
     "name": "stdout",
     "output_type": "stream",
     "text": [
      " done.\n"
     ]
    }
   ],
   "source": [
    "documents = []\n",
    "failed = []\n",
    "for paper in tqdm(candidates):\n",
    "    paper_id = paper['identifier'].lower().replace('arxiv:', '')\n",
    "    \n",
    "    folder = f'tmp_{paper_id}'\n",
    "\n",
    "    try:\n",
    "        if not os.path.isdir(folder):\n",
    "            folder = retrieve_document_source(f\"{paper_id}\", f'tmp_{paper_id}')\n",
    "        \n",
    "        try:\n",
    "            doc = latex.LatexDocument(folder, validation=validation)    \n",
    "        except AffiliationError as affilerror:\n",
    "            msg = f\"ArXiv:{paper_id:s} is not an MPIA paper... \" + str(affilerror)\n",
    "            failed.append((paper, \"affiliation error: \" + str(affilerror) ))\n",
    "            continue\n",
    "        \n",
    "        # Hack because sometimes author parsing does not work well\n",
    "        if (len(doc.authors) != len(paper['authors'])):\n",
    "            doc._authors = paper['authors']\n",
    "        else:\n",
    "            # highlight authors (FIXME: doc.highlight_authors)\n",
    "            # done on arxiv paper already\n",
    "            doc._authors = highlight_authors_in_list(\n",
    "                [mpia.get_initials(k) for k in doc.authors], \n",
    "                normed_mpia_authors, verbose=True)\n",
    "        if (doc.abstract) in (None, ''):\n",
    "            doc._abstract = paper['abstract']\n",
    "            \n",
    "        doc.comment = (get_markdown_badge(paper_id) + \n",
    "                       \"<mark>Appeared on: \" + paper['date'] + \"</mark> - \")\n",
    "        if paper['comments']:\n",
    "            doc.comment += \" _\" + paper['comments'] + \"_\"\n",
    "        \n",
    "        full_md = doc.generate_markdown_text()\n",
    "        \n",
    "        full_md += get_markdown_qrcode(paper_id)\n",
    "        \n",
    "        # replace citations\n",
    "        try:\n",
    "            bibdata = latex_bib.LatexBib.from_doc(doc)\n",
    "            full_md = latex_bib.replace_citations(full_md, bibdata)\n",
    "        except Exception as e:\n",
    "            print(e)\n",
    "        \n",
    "        documents.append((paper_id, full_md))\n",
    "    except Exception as e:\n",
    "        warnings.warn(latex.LatexWarning(f\"{paper_id:s} did not run properly\\n\" +\n",
    "                                         str(e)\n",
    "                                        ))\n",
    "        failed.append((paper, \"latex error \" + str(e)))"
   ]
  },
  {
   "cell_type": "markdown",
   "id": "2505a25c",
   "metadata": {
    "papermill": {
     "duration": 0.009519,
     "end_time": "2023-10-31T04:10:44.627208",
     "exception": false,
     "start_time": "2023-10-31T04:10:44.617689",
     "status": "completed"
    },
    "tags": []
   },
   "source": [
    "### Export the logs\n",
    "\n",
    "Throughout, we also keep track of the logs per paper. see `logs-{today date}.md` "
   ]
  },
  {
   "cell_type": "code",
   "execution_count": 5,
   "id": "d733828a",
   "metadata": {
    "execution": {
     "iopub.execute_input": "2023-10-31T04:10:44.639712Z",
     "iopub.status.busy": "2023-10-31T04:10:44.639038Z",
     "iopub.status.idle": "2023-10-31T04:10:44.657053Z",
     "shell.execute_reply": "2023-10-31T04:10:44.656338Z"
    },
    "papermill": {
     "duration": 0.02639,
     "end_time": "2023-10-31T04:10:44.658880",
     "exception": false,
     "start_time": "2023-10-31T04:10:44.632490",
     "status": "completed"
    },
    "scrolled": false,
    "tags": []
   },
   "outputs": [
    {
     "data": {
      "text/markdown": [
       "## Successful papers"
      ],
      "text/plain": [
       "<IPython.core.display.Markdown object>"
      ]
     },
     "metadata": {},
     "output_type": "display_data"
    },
    {
     "data": {
      "text/markdown": [
       "\n",
       "|||\n",
       "|---:|:---|\n",
       "| [![arXiv](https://img.shields.io/badge/arXiv-arXiv:2310.18407-b31b1b.svg)](https://arxiv.org/abs/arXiv:2310.18407) | **Resolved low-J $^{12}$CO excitation at 190 parsec resolution across NGC  2903 and NGC 3627**  |\n",
       "|| J. S. d. Brok, et al. -- incl., <mark>E. Schinnerer</mark> |\n",
       "|*Appeared on*| *2023-10-31*|\n",
       "|*Comments*| *accepted for publication in MNRAS, 17 pages, 16 figures*|\n",
       "|**Abstract**| The low-$J$ rotational transitions of $^{12}$CO are commonly used to trace the distribution of molecular gas in galaxies. Their ratios are sensitive to excitation and physical conditions in the molecular gas. Spatially resolved studies of CO ratios are still sparse and affected by flux calibration uncertainties, especially since most do not have high angular resolution or do not have short-spacing information and hence miss any diffuse emission. We compare the low-$J$ CO ratios across the disk of two massive, star-forming spiral galaxies NGC2903 and NGC3627 to investigate whether and how local environments drive excitation variations at GMC scales. We use Atacama Large Millimeter Array (ALMA) observations of the three lowest-$J$ CO transitions at a common angular resolution of 4$''$ (190pc). We measure median line ratios of $R_{21}=0.67^{+0.13}_{-0.11}$, $R_{32}=0.33^{+0.09}_{-0.08}$, and $R_{31}=0.24^{+0.10}_{-0.09}$ across the full disk of NGC3627. We see clear CO line ratio variation across the galaxy consistent with changes in temperature and density of the molecular gas. In particular, toward the center, $R_{21}$, $R_{32}$, and $R_{31}$ increase by 35\\%, 50\\%, and 66\\%, respectively compared to their average disk values. The overall line ratio trends suggest that CO(3-2) is more sensitive to changes in the excitation conditions than the two lower-$J$ transitions. Furthermore, we find a similar radial $R_{32}$ trend in NGC2903, albite a larger disk-wide average of $\\langle R_{32}\\rangle=0.47^{+0.14}_{-0.08}$. We conclude that the CO low-$J$ line ratios vary across environments in such a way that they can trace changes in the molecular gas conditions, with the main driver being changes in temperature. |"
      ],
      "text/plain": [
       "[arXiv:2310.18407] Resolved low-J $^{12}$CO excitation at 190 parsec resolution across NGC  2903 and NGC 3627\n",
       "\tJ. S. d. Brok, et al. -- incl., <mark>E. Schinnerer</mark>"
      ]
     },
     "metadata": {},
     "output_type": "display_data"
    },
    {
     "data": {
      "text/markdown": [
       "\n",
       "|||\n",
       "|---:|:---|\n",
       "| [![arXiv](https://img.shields.io/badge/arXiv-arXiv:2310.18484-b31b1b.svg)](https://arxiv.org/abs/arXiv:2310.18484) | **Kinematic signatures of planet-disk interactions in VSI-turbulent  protoplanetary disks**  |\n",
       "|| M. Barraza-Alfaro, <mark>M. Flock</mark>, T. Henning |\n",
       "|*Appeared on*| *2023-10-31*|\n",
       "|*Comments*| *Accepted for publication in Astronomy & Astrophysics. 27 pages, 17 figures and 2 tables*|\n",
       "|**Abstract**| Context. Planets are thought to form inside weakly ionized regions of protoplanetary disks, where turbulence creates ideal conditions for solid growth. However, the nature of this turbulence is still uncertain. In this zone, vertical shear instability (VSI) can operate, inducing a low level of gas turbulence and large-scale motions. Resolving kinematic signatures of VSI may reveal the origin of turbulence in planet-forming disks. However, an exploration of kinematic signatures of the interplay between VSI and forming planets is needed for a correct interpretation of radio interferometric observations. Robust detection of VSI would lead to a deeper understanding of the impact of gas turbulence on planet formation. Aims. The goal of this study is to explore the effect of VSI on the disk substructures triggered by an embedded massive planet. We focus on the impact of this interplay on CO kinematic observations with ALMA. Methods. We conduct global 3D hydrodynamical simulations of VSI-unstable disks with and without embedded massive planets, exploring Saturn- and Jupiter-mass cases. We study the effect of planets on the VSI gas dynamics, comparing with viscous disks. Post-processing the simulations with a radiative transfer code, we examine the kinematic signatures expected in CO molecular line emission, varying disk inclination. Further, we simulate ALMA high-resolution observations to test the observability of VSI and planetary signatures. Results. The embedded planet dampens the VSI along a radial region, most effective at the disk midplane. For the Saturn case, the VSI modes are distorted by the planet's spirals producing mixed kinematic signatures. For the Jupiter case, the planet's influence dominates the disk gas kinematics. Conclusions. The presence of massive embedded planets can weaken the VSI large-scale gas flows, limiting its observability in CO kinematic observations. |"
      ],
      "text/plain": [
       "[arXiv:2310.18484] Kinematic signatures of planet-disk interactions in VSI-turbulent  protoplanetary disks\n",
       "\tM. Barraza-Alfaro, <mark>M. Flock</mark>, T. Henning"
      ]
     },
     "metadata": {},
     "output_type": "display_data"
    },
    {
     "data": {
      "text/markdown": [
       "\n",
       "|||\n",
       "|---:|:---|\n",
       "| [![arXiv](https://img.shields.io/badge/arXiv-arXiv:2310.19497-b31b1b.svg)](https://arxiv.org/abs/arXiv:2310.19497) | **Interstellar carbonaceous dust erosion induced by X-ray irradiation of  water ice in star-forming regions**  |\n",
       "|| K.-J. Chuang, et al. -- incl., <mark>C. Jaeger</mark> |\n",
       "|*Appeared on*| *2023-10-31*|\n",
       "|*Comments*| *12 pages, 9 figures, 1 table*|\n",
       "|**Abstract**| The chemical inventory of protoplanetary midplanes is the basis for forming planetesimals. Among them, solid-state reactions based on CO/CO$_2$ toward molecular complexity on interstellar dust grains have been studied in theoretical and laboratory work. In this work, the erosion of C dust grains induced by X-ray irradiation of H$_2$O ice was systematically investigated for the first time. The work aims to provide a better understanding of the reaction mechanism using selectively isotope-labeled oxygen/carbon species in kinetic analysis. Ultrahigh vacuum experiments were performed to study the interstellar ice analog on sub-$\\mu$m thick C dust at $\\sim$13~K. H$_2$O or O$_2$ ice was deposited on the pre-synthesized amorphous C dust and exposed to soft X-ray photons (250--1250~eV). Fourier-transform infrared spectroscopy was used to monitor in situ the newly formed species as a function of the incident photon fluence. Field emission scanning electron microscopy was used to monitor the morphological changes of (non-)eroded carbon samples. The X-ray processing of the ice/dust interface leads to the formation of CO$_2$, which further dissociates and forms CO. Carbonyl groups are formed by oxygen addition to grain surfaces and are confirmed as intermediate species in the formation process. The yields of CO and CO$_2$ were found to be dependent on the thickness of the carbon layer. The astronomical relevance of the experimental findings is discussed. |"
      ],
      "text/plain": [
       "[arXiv:2310.19497] Interstellar carbonaceous dust erosion induced by X-ray irradiation of  water ice in star-forming regions\n",
       "\tK.-J. Chuang, et al. -- incl., <mark>C. Jaeger</mark>"
      ]
     },
     "metadata": {},
     "output_type": "display_data"
    },
    {
     "data": {
      "text/markdown": [
       "## Failed papers"
      ],
      "text/plain": [
       "<IPython.core.display.Markdown object>"
      ]
     },
     "metadata": {},
     "output_type": "display_data"
    },
    {
     "data": {
      "text/markdown": [
       "\n",
       "|||\n",
       "|---:|:---|\n",
       "| [![arXiv](https://img.shields.io/badge/arXiv-arXiv:2310.19164-b31b1b.svg)](https://arxiv.org/abs/arXiv:2310.19164) | **Industrial-Scale Mass Measurements of Isolated Black Holes**  |\n",
       "|| <mark>A. Gould</mark> |\n",
       "|*Appeared on*| *2023-10-31*|\n",
       "|*Comments*| *39 pages, 7 figures, to be submitted to AAS Journals*|\n",
       "|**Abstract**| I show that industrial-scale mass measurement of isolated black holes (BHs) can be achieved by combining a high-cadence, wide-field microlensing survey such as KMTNet, observations from a parallax satellite in solar orbit, and VLTI GRAVITY+ interferometry. I show that these can yield precision measurements of microlens parallaxes down to $\\pi_{\\rm E}\\sim 0.01$ and Einstein radii down to $\\theta_{\\rm E}\\sim 1\\,$mas. These limits correspond to BH masses $M\\sim 12\\,M_\\odot$, deep in the Galactic bulge, with lens-source separations of $D_{LS}\\sim 0.6\\,$kpc, and they include all BHs in the Galactic disk. I carry out detailed analyses of simulations that explore many aspects of the measurement process, including the decisions on whether to carry out VLTI measurements for each long-event candidate. I show that the combination of ground-based and space-based light curves of BH events will automatically exclude the spurious \"large parallax\" solutions that arise from the standard (Refsdal 1966) analysis, except for the high-magnification events, for which other methods can be applied. The remaining two-fold degeneracy can always be broken by conducting a second VLTI measurement, and I show how to identify the relatively rare cases that this is required. |\n",
       "|<p style=\"color:green\"> **ERROR** </p>| <p style=\"color:green\">affiliation error: mpia.affiliation_verifications: 'Heidelberg' keyword not found.</p> |"
      ],
      "text/plain": [
       "<IPython.core.display.Markdown object>"
      ]
     },
     "metadata": {},
     "output_type": "display_data"
    },
    {
     "data": {
      "text/markdown": [
       "\n",
       "|||\n",
       "|---:|:---|\n",
       "| [![arXiv](https://img.shields.io/badge/arXiv-arXiv:2310.19228-b31b1b.svg)](https://arxiv.org/abs/arXiv:2310.19228) | **Simultaneous Horizontal and Vertical Oscillation of a Quiescent Filament  observed by CHASE and SDO**  |\n",
       "|| J. Dai, et al. -- incl., <mark>S. Li</mark> |\n",
       "|*Appeared on*| *2023-10-31*|\n",
       "|*Comments*| **|\n",
       "|**Abstract**| In this paper, we present the imaging and spectroscopic observations of the simultaneous horizontal and vertical large-amplitude oscillation of a quiescent filament triggered by an EUV wave on 2022 October 02. Particularly, the filament oscillation involved winking phenomenon in Ha images and horizontal motions in EUV images. Originally, a filament and its overlying loops across AR 13110 and 13113 erupted with a highly inclined direction, resulting in an X1.0 flare and a non-radial CME. The fast lateral expansion of loops excited an EUV wave and the corresponding Moreton wave propagating northward. Once the EUV wavefront arrived at the quiescent filament, the filament began to oscillate coherently along the horizontal direction and the winking filament appeared concurrently in Ha images. The horizontal oscillation involved an initial amplitude of 10.2 Mm and a velocity amplitude of 46.5 km/s, lasting for 3 cycles with a period of 18.2 minutes and a damping time of 31.1 minutes. The maximum Doppler velocities of the oscillating filament are 18 km/s (redshift) and 24 km/s (blueshift), which was derived from the spectroscopic data provided by CHASE/HIS. The three-dimensional velocity of the oscillation is determined to be 50 km/s at an angle of 50 to the local photosphere plane. Based on the wave-filament interaction, the minimum energy of the EUV wave is estimated to be 2.7 10 20 J. Furthermore, this event provides evidence that Moreton wavesshould be excited by the highly inclined eruptions. |\n",
       "|<p style=\"color:green\"> **ERROR** </p>| <p style=\"color:green\">affiliation error: mpia.affiliation_verifications: 'Heidelberg' keyword not found.</p> |"
      ],
      "text/plain": [
       "<IPython.core.display.Markdown object>"
      ]
     },
     "metadata": {},
     "output_type": "display_data"
    },
    {
     "data": {
      "text/markdown": [
       "\n",
       "|||\n",
       "|---:|:---|\n",
       "| [![arXiv](https://img.shields.io/badge/arXiv-arXiv:2310.19627-b31b1b.svg)](https://arxiv.org/abs/arXiv:2310.19627) | **Foreground removal with ILC methods for AliCPT-1**  |\n",
       "|| J. Dou, <mark>S. Ghosh</mark>, L. Santos, W. Zhao |\n",
       "|*Appeared on*| *2023-10-31*|\n",
       "|*Comments*| **|\n",
       "|**Abstract**| One of the main goals of most future CMB experiments is the precise measurement of CMB B-mode polarization, whose major obstacle is the Galactic foregrounds. In this paper, we evaluate the foreground cleaning performance of the variants of the ILC method on partial sky B-modes and analyze the main sources of biases on the BB power spectrum. Specially, we compare the NILC, the cILC (in three domains) and the cMILC methods for AliCPT-1 simulations. We find that the cILC methods implemented in harmonic space and needlet space are both competent to clean different models of foregrounds, which bias the tensor-to-scalar ratio about 0.008 at maximum, and constrain the tensor-to-scalar ratio to r<0.043 (95\\%CL) for the AliCPT-1 configuration. We also note that the deviation of the estimated noise bias from the actual one for ILC, dubbed the noise bias error (NBE) in this paper, might make significant effects on the power spectrum for a small footprint and low signal-to-noise ratio CMB experiment. We finally obtain its relation with respect to the noise residual which fits well with the simulated results. |\n",
       "|<p style=\"color:green\"> **ERROR** </p>| <p style=\"color:green\">affiliation error: mpia.affiliation_verifications: 'Heidelberg' keyword not found.</p> |"
      ],
      "text/plain": [
       "<IPython.core.display.Markdown object>"
      ]
     },
     "metadata": {},
     "output_type": "display_data"
    }
   ],
   "source": [
    "import datetime\n",
    "today = str(datetime.date.today())\n",
    "logfile = f\"_build/html/logs/log-{today}.md\"\n",
    "\n",
    "\n",
    "with open(logfile, 'w') as logs:\n",
    "    # Success\n",
    "    logs.write(f'# Arxiv on Deck 2: Logs - {today}\\n\\n')\n",
    "    logs.write(\"\"\"* Arxiv had {0:,d} new papers\\n\"\"\".format(len(new_papers)))\n",
    "    logs.write(\"\"\"    * {0:,d} with possible author matches\\n\\n\"\"\".format(len(candidates)))\n",
    "    logs.write(\"## Sucessful papers\\n\\n\")\n",
    "    display(Markdown(\"## Successful papers\"))\n",
    "    success = [k[0] for k in documents]\n",
    "    for candid in candidates:\n",
    "        if candid['identifier'].split(':')[-1] in success:\n",
    "            display(candid)\n",
    "            logs.write(candid.generate_markdown_text() + '\\n\\n')\n",
    "\n",
    "    ## failed\n",
    "    logs.write(\"## Failed papers\\n\\n\")\n",
    "    display(Markdown(\"## Failed papers\"))\n",
    "    failed = sorted(failed, key=lambda x: x[1])\n",
    "    current_reason = \"\"\n",
    "    for paper, reason in failed:\n",
    "        if 'affiliation' in reason:\n",
    "            color = 'green'\n",
    "        else:\n",
    "            color = 'red'\n",
    "        data = Markdown(\n",
    "                paper.generate_markdown_text() + \n",
    "                f'\\n|<p style=\"color:{color:s}\"> **ERROR** </p>| <p style=\"color:{color:s}\">{reason:s}</p> |'\n",
    "               )\n",
    "        if reason != current_reason:\n",
    "            logs.write(f'### {reason:s} \\n\\n')\n",
    "            current_reason = reason\n",
    "        logs.write(data.data + '\\n\\n')\n",
    "        \n",
    "        # only display here the important errors (all in logs)\n",
    "        # if color in ('red',):\n",
    "        display(data)"
   ]
  },
  {
   "cell_type": "markdown",
   "id": "472d20ee",
   "metadata": {
    "papermill": {
     "duration": 0.00603,
     "end_time": "2023-10-31T04:10:44.671108",
     "exception": false,
     "start_time": "2023-10-31T04:10:44.665078",
     "status": "completed"
    },
    "tags": []
   },
   "source": [
    "## Export documents\n",
    "\n",
    "We now write the .md files and export relevant images"
   ]
  },
  {
   "cell_type": "code",
   "execution_count": 6,
   "id": "d426aed9",
   "metadata": {
    "execution": {
     "iopub.execute_input": "2023-10-31T04:10:44.685481Z",
     "iopub.status.busy": "2023-10-31T04:10:44.684643Z",
     "iopub.status.idle": "2023-10-31T04:10:44.693262Z",
     "shell.execute_reply": "2023-10-31T04:10:44.692502Z"
    },
    "papermill": {
     "duration": 0.017745,
     "end_time": "2023-10-31T04:10:44.694853",
     "exception": false,
     "start_time": "2023-10-31T04:10:44.677108",
     "status": "completed"
    },
    "tags": []
   },
   "outputs": [],
   "source": [
    "def export_markdown_summary(md: str, md_fname:str, directory: str):\n",
    "    \"\"\"Export MD document and associated relevant images\"\"\"\n",
    "    import os\n",
    "    import shutil\n",
    "    import re\n",
    "\n",
    "    if (os.path.exists(directory) and not os.path.isdir(directory)):\n",
    "        raise RuntimeError(f\"a non-directory file exists with name {directory:s}\")\n",
    "\n",
    "    if (not os.path.exists(directory)):\n",
    "        print(f\"creating directory {directory:s}\")\n",
    "        os.mkdir(directory)\n",
    "\n",
    "    fig_fnames = (re.compile(r'\\[Fig.*\\]\\((.*)\\)').findall(md) + \n",
    "                  re.compile(r'\\<img src=\"([^>\\s]*)\"[^>]*/>').findall(md))\n",
    "    for fname in fig_fnames:\n",
    "        if 'http' in fname:\n",
    "            # No need to copy online figures\n",
    "            continue\n",
    "        destdir = os.path.join(directory, os.path.dirname(fname))\n",
    "        destfname = os.path.join(destdir, os.path.basename(fname))\n",
    "        try:\n",
    "            os.makedirs(destdir)\n",
    "        except FileExistsError:\n",
    "            pass\n",
    "        shutil.copy(fname, destfname)\n",
    "    with open(os.path.join(directory, md_fname), 'w') as fout:\n",
    "        fout.write(md)\n",
    "    print(\"exported in \", os.path.join(directory, md_fname))\n",
    "    [print(\"    + \" + os.path.join(directory,fk)) for fk in fig_fnames]"
   ]
  },
  {
   "cell_type": "code",
   "execution_count": 7,
   "id": "014d04a4",
   "metadata": {
    "execution": {
     "iopub.execute_input": "2023-10-31T04:10:44.709000Z",
     "iopub.status.busy": "2023-10-31T04:10:44.708492Z",
     "iopub.status.idle": "2023-10-31T04:10:44.737429Z",
     "shell.execute_reply": "2023-10-31T04:10:44.736672Z"
    },
    "papermill": {
     "duration": 0.038383,
     "end_time": "2023-10-31T04:10:44.739438",
     "exception": false,
     "start_time": "2023-10-31T04:10:44.701055",
     "status": "completed"
    },
    "tags": []
   },
   "outputs": [
    {
     "name": "stdout",
     "output_type": "stream",
     "text": [
      "exported in  _build/html/2310.18407.md\n",
      "    + _build/html/tmp_2310.18407/./Figures/ratio_vs_ratio.png\n",
      "    + _build/html/tmp_2310.18407/./Figures/full_correlations.png\n",
      "    + _build/html/tmp_2310.18407/./Figures/maps_ratio.png\n",
      "exported in  _build/html/2310.18484.md\n",
      "    + _build/html/tmp_2310.18484/./Plots_Main/Simulations_VSI_Midplane.png\n",
      "    + _build/html/tmp_2310.18484/./Plots_Main/Simulations_VSI_Surface.png\n",
      "    + _build/html/tmp_2310.18484/./Plots_Main/Residuals_TwoLayers_VSI.png\n",
      "exported in  _build/html/2310.19497.md\n",
      "    + _build/html/tmp_2310.19497/./Figures/Figure02.png\n",
      "    + _build/html/tmp_2310.19497/./Figures/Figure01.png\n",
      "    + _build/html/tmp_2310.19497/./Figures/FigureA2.png\n"
     ]
    }
   ],
   "source": [
    "for paper_id, md in documents:\n",
    "    export_markdown_summary(md, f\"{paper_id:s}.md\", '_build/html/')"
   ]
  },
  {
   "cell_type": "markdown",
   "id": "f087a0a7",
   "metadata": {
    "papermill": {
     "duration": 0.006727,
     "end_time": "2023-10-31T04:10:44.753287",
     "exception": false,
     "start_time": "2023-10-31T04:10:44.746560",
     "status": "completed"
    },
    "tags": []
   },
   "source": [
    "## Display the papers\n",
    "\n",
    "Not necessary but allows for a quick check."
   ]
  },
  {
   "cell_type": "code",
   "execution_count": 8,
   "id": "fd25f625",
   "metadata": {
    "execution": {
     "iopub.execute_input": "2023-10-31T04:10:44.767917Z",
     "iopub.status.busy": "2023-10-31T04:10:44.767107Z",
     "iopub.status.idle": "2023-10-31T04:10:44.775777Z",
     "shell.execute_reply": "2023-10-31T04:10:44.775177Z"
    },
    "papermill": {
     "duration": 0.01787,
     "end_time": "2023-10-31T04:10:44.777298",
     "exception": false,
     "start_time": "2023-10-31T04:10:44.759428",
     "status": "completed"
    },
    "scrolled": false,
    "tags": []
   },
   "outputs": [
    {
     "data": {
      "text/markdown": [
       "<div class=\"macros\" style=\"visibility:hidden;\">\n",
       "$\\newcommand{\\ensuremath}{}$\n",
       "$\\newcommand{\\xspace}{}$\n",
       "$\\newcommand{\\object}[1]{\\texttt{#1}}$\n",
       "$\\newcommand{\\farcs}{{.}''}$\n",
       "$\\newcommand{\\farcm}{{.}'}$\n",
       "$\\newcommand{\\arcsec}{''}$\n",
       "$\\newcommand{\\arcmin}{'}$\n",
       "$\\newcommand{\\ion}[2]{#1#2}$\n",
       "$\\newcommand{\\textsc}[1]{\\textrm{#1}}$\n",
       "$\\newcommand{\\hl}[1]{\\textrm{#1}}$\n",
       "$\\newcommand{\\footnote}[1]{}$\n",
       "$\\newcommand{  \\Hi      }{\\ifmmode{\\rm H} \\textsc{i} \\else H \\textsc{i}\\fi}$\n",
       "$\\newcommand{\\delim}{{-}}$\n",
       "$\\newcommand{\\figureautorefname}{Fig.}$\n",
       "$\\newcommand{\\equationautorefname}{Eq.}$\n",
       "$\\newcommand{\\sectionautorefname}{Section}$\n",
       "$\\newcommand{\\subsectionautorefname}{Section}$\n",
       "$\\newcommand{\\subsubsectionautorefname}{Section}$\n",
       "$\\newcommand{\\appendixautorefname}{Appendix}$\n",
       "$\\newcommand{\\arraystretch}{1.5}$\n",
       "$\\newcommand{\\thebibliography}{\\DeclareRobustCommand{\\VAN}[3]{##3}\\VANthebibliography}$</div>\n",
       "\n",
       "\n",
       "\n",
       "<div id=\"title\">\n",
       "\n",
       "# Resolved low-$J$ $^{12}$CO excitation at $190$ parsec resolution across NGC 2903 and NGC 3627\n",
       "\n",
       "</div>\n",
       "<div id=\"comments\">\n",
       "\n",
       "[![arXiv](https://img.shields.io/badge/arXiv-2310.18407-b31b1b.svg)](https://arxiv.org/abs/2310.18407)<mark>Appeared on: 2023-10-31</mark> -  _accepted for publication in MNRAS, 17 pages, 16 figures_\n",
       "\n",
       "</div>\n",
       "<div id=\"authors\">\n",
       "\n",
       "J. S. d. Brok, et al. -- incl., <mark>E. Schinnerer</mark>\n",
       "\n",
       "</div>\n",
       "<div id=\"abstract\">\n",
       "\n",
       "**Abstract:** The low- $J$ rotational transitions of $\\chem{^{12}CO}$ are commonly used to trace the distribution of molecular gas in galaxies. Their ratios are sensitive to excitation and physical conditions in the molecular gas. Spatially resolved studies of CO ratios are still sparse and affected by flux calibration uncertainties, especially since most do not have high angular resolution or do not have short-spacing information and hence miss any diffuse emission. We compare the low- $J$ CO ratios across the disk of two massive, star-forming spiral galaxies NGC 2903 and NGC 3627 to investigate whether and how local environments drive excitation variations at GMC scales. We use Atacama Large Millimeter Array (ALMA) observations of the three lowest- $J$ CO transitions at a common angular resolution of 4 $\"$ (190 pc).We measure median line ratios of $R_{21}=0.67^{+0.13}_{-0.11}$ , $R_{32}=0.33^{+0.09}_{-0.08}$ , and $R_{31}=0.24^{+0.10}_{-0.09}$ across the full disk of NGC 3627. We see clear CO line ratio variation across the galaxy consistent with changes in temperature and density of the molecular gas. In particular, toward the center, $R_{21}$ , $R_{32}$ , and $R_{31}$ increase by 35 \\% , 50 \\% , and 66 \\% , respectively compared to their average disk values.The overall line ratio trends suggest that CO(3-2) is more sensitive to changes in the excitation conditions than the two lower- $J$ transitions. Furthermore, we find a similar radial $R_{32}$ trend in NGC 2903, albite a larger disk-wide average of $\\langle R_{32}\\rangle=0.47^{+0.14}_{-0.08}$ . We conclude that the CO low- $J$ line ratios vary across environments in such a way that they can trace changes in the molecular gas conditions, with the main driver being changes in temperature.\n",
       "\n",
       "</div>\n",
       "\n",
       "<div id=\"div_fig1\">\n",
       "\n",
       "<img src=\"tmp_2310.18407/./Figures/ratio_vs_ratio.png\" alt=\"Fig4\" width=\"100%\"/>\n",
       "\n",
       "**Figure 4. -** ** CO ratio-to-ratio comparison in NGC 3627**. The panels depict the three permutations of comparing $R_{21}$, $R_{32}$, and $R_{31}$ to each other. The light-colored points have S/N${>}5$ in all lines. The filled circles are the binned trend. The filled squares represent the result when computing the line ratio from the spectral stacks by SFR (using all lines of sight irrespective of S/N). For reference, the red line indicates the 1:1 relation. We perform a linear regression to the stacked data points, represented as a black dashed line. We note that the axes of the different panels are correlated. The sense of the implicit correlation between the plotted variables is indicated in each panel.  (*fig:ratio_vs_ratio*)\n",
       "\n",
       "</div>\n",
       "<div id=\"div_fig2\">\n",
       "\n",
       "<img src=\"tmp_2310.18407/./Figures/full_correlations.png\" alt=\"Fig13\" width=\"100%\"/>\n",
       "\n",
       "**Figure 13. -** ** CO line ratio trends with $\\Sigma_{\\rm SFR**$ and dust tracers $I_{7.7 \\mu\\rm m}$ (PAH) and  $I_{7.7 \\mu\\rm m}$ (hot dust)}. The different panels show the trends of $R_{21}$(_top_), $R_{32}$(_middle_), and $R_{31}$(_bottom_) for the different environments. The orange hexagonal bins represent the 2D histogram of $\\rm S/N{\\ge}5$ sightlines. We note that the stacked trends also include the sightlines $\\rm S/N{<}5$.\n",
       "     (*fig:ratio_comp*)\n",
       "\n",
       "</div>\n",
       "<div id=\"div_fig3\">\n",
       "\n",
       "<img src=\"tmp_2310.18407/./Figures/maps_ratio.png\" alt=\"Fig11\" width=\"100%\"/>\n",
       "\n",
       "**Figure 11. -** ** CO line ratio trends with galactocentric radius in NGC 3627**. The panels on the left show the radial trend of $R_{21}$(_top_), $R_{32}$(_center_), and $R_{31}$(_bottom_). The red-shaded region shows the radial extent beyond which our sampling is limited by the map size. The large filled circles show the stacked (we stack datapoints irrespective of the different regions).  The sightlines are color-coded by different environmental regions. For reference, the gray ellipses indicate deprojected radial distances of 1, 2, 3, 4, 5, and 6 kpc. The extent of the different regions is shown in the CO line ratio maps on the right-hand side. For these panels, we only select data points where line intensities have ${\\rm S/N}{>5}$ for both the denominator and numerator of the ratio. (*fig:ngc3627_ratio*)\n",
       "\n",
       "</div><div id=\"qrcode\"><img src=https://api.qrserver.com/v1/create-qr-code/?size=100x100&data=\"https://arxiv.org/abs/2310.18407\"></div>"
      ],
      "text/plain": [
       "<IPython.core.display.Markdown object>"
      ]
     },
     "metadata": {},
     "output_type": "display_data"
    },
    {
     "data": {
      "text/markdown": [
       "<div class=\"macros\" style=\"visibility:hidden;\">\n",
       "$\\newcommand{\\ensuremath}{}$\n",
       "$\\newcommand{\\xspace}{}$\n",
       "$\\newcommand{\\object}[1]{\\texttt{#1}}$\n",
       "$\\newcommand{\\farcs}{{.}''}$\n",
       "$\\newcommand{\\farcm}{{.}'}$\n",
       "$\\newcommand{\\arcsec}{''}$\n",
       "$\\newcommand{\\arcmin}{'}$\n",
       "$\\newcommand{\\ion}[2]{#1#2}$\n",
       "$\\newcommand{\\textsc}[1]{\\textrm{#1}}$\n",
       "$\\newcommand{\\hl}[1]{\\textrm{#1}}$\n",
       "$\\newcommand{\\footnote}[1]{}$\n",
       "$\\newcommand{\\sgn}{\\text{sgn}}$</div>\n",
       "\n",
       "\n",
       "\n",
       "<div id=\"title\">\n",
       "\n",
       "# Kinematic signatures of planet-disk interactions$\\in VSI-turbulent protoplanetary disks$\n",
       "\n",
       "</div>\n",
       "<div id=\"comments\">\n",
       "\n",
       "[![arXiv](https://img.shields.io/badge/arXiv-2310.18484-b31b1b.svg)](https://arxiv.org/abs/2310.18484)<mark>Appeared on: 2023-10-31</mark> -  _Accepted for publication in Astronomy & Astrophysics. 27 pages, 17 figures and 2 tables_\n",
       "\n",
       "</div>\n",
       "<div id=\"authors\">\n",
       "\n",
       "M. Barraza-Alfaro, <mark>M. Flock</mark>, T. Henning\n",
       "\n",
       "</div>\n",
       "<div id=\"abstract\">\n",
       "\n",
       "**Abstract:** Planets are thought to form inside weakly ionized regions of protoplanetary disks, in which turbulence creates ideal conditions for solid growth. However, the nature of this turbulence is still uncertain. In fast cooling parts of this zone the vertical shear instability (VSI) can operate, inducing a low level of gas turbulence and large-scale gas motions. Resolving kinematic signatures of active VSI could reveal the origin of turbulence in planet-forming disk regions. However, an exploration of kinematic signatures of the interplay between VSI and forming planets is needed for a correct interpretation of radio interferometric observations. A robust detection of VSI would open the door for a deeper understanding of the impact of gas turbulence on planet formation. The objective of this study is to explore the effect of the VSI on the disk substructures triggered by an embedded fairly massive planet. We will focus on the impact of this interplay on CO kinematic observations with the ALMA interferometer. We conducted global 3D hydrodynamical simulations of VSI-unstable disks with and without embedded massive planets, exploring Saturn- and Jupiter-mass cases. We studied the effect of planets on the VSI gas dynamics, comparing with viscous disks.   Post-processing the simulations with a radiative transfer code, we examined the kinematic signatures expected in CO molecular line emission, varying disk inclination. Further, we simulate deep ALMA high-resolution observations of our synthetic images, to test the observability of VSI and planetary signatures. The embedded planet produces a damping of the VSI along a radial region, most effective at the disk midplane. For the Saturn case, the VSI modes are distorted by the planet's spirals producing mixed kinematic signatures. For the Jupiter case, the planet's influence dominates the overall disk gas kinematics. The presence of massive planets embedded in the disk can weaken the VSI large-scale gas flows, limiting its observability in CO kinematic observations with ALMA.\n",
       "\n",
       "</div>\n",
       "\n",
       "<div id=\"div_fig1\">\n",
       "\n",
       "<img src=\"tmp_2310.18484/./Plots_Main/Simulations_VSI_Midplane.png\" alt=\"Fig1\" width=\"100%\"/>\n",
       "\n",
       "**Figure 1. -** Snapshots of the VSI-unstable hydrodynamical simulations at the disk midplane. From top to bottom: simulation without an embedded planet, with an embedded Saturn-mass planet, and with an Jupiter-mass planet. From left to right: gas density relative to the initial value ($\\rho/\\rho_0$), radial velocity field ($v_r$), meridional velocity field ($v_{\\theta}$), and azimuthal velocity deviations from Keplerian rotation ($v_{\\phi}-v_{\\rm Kep}$).\n",
       "The included planets are orbiting at $100$ au from the central star, marked with dotted lines in the second and third rows. The dashed lines in the first panel indicate the buffer zones applied in the hydro simulations. (*fig:simulationsvsimidplane*)\n",
       "\n",
       "</div>\n",
       "<div id=\"div_fig2\">\n",
       "\n",
       "<img src=\"tmp_2310.18484/./Plots_Main/Simulations_VSI_Surface.png\" alt=\"Fig2\" width=\"100%\"/>\n",
       "\n",
       "**Figure 2. -** Snapshots of the VSI-unstable hydrodynamical simulations at the disk surface. Same as Figure \\ref{fig:simulationsvsimidplane}, but obtained at 3 pressure scale heights from the disk midplane ($Z\\sim 3H$). (*fig:simulationsvsisurface*)\n",
       "\n",
       "</div>\n",
       "<div id=\"div_fig3\">\n",
       "\n",
       "<img src=\"tmp_2310.18484/./Plots_Main/Residuals_TwoLayers_VSI.png\" alt=\"Fig9\" width=\"100%\"/>\n",
       "\n",
       "**Figure 9. -** Deviations from Keplerian rotation for $^{13}$CO$(3-2)$ synthetic images of the post-processed simulations, for a VSI unstable disk without embedded planets. In the first row, from left to right, we show models including the full disk, only the disk hemisphere closer to the observer (front side), and the farther hemisphere of the disk (back side), for a disk inclination of 30 degrees. In the second row, a deprojected view of the residual maps (first row) is shown. The fourth panel, shows a normalized square root of the product of the front and back sides deprojected residual maps, times the sign of the initial multiplication of both residuals. A ring of interest is enclosed by black-dashed lines, drawn at 1.55 and 1.85 arcsec. The black solid line along the semi-minor axis in the non-Keplerian residuals shows the line of zero gas velocity projected into the line-of-sight. (*fig:residualstwolayersvsi*)\n",
       "\n",
       "</div><div id=\"qrcode\"><img src=https://api.qrserver.com/v1/create-qr-code/?size=100x100&data=\"https://arxiv.org/abs/2310.18484\"></div>"
      ],
      "text/plain": [
       "<IPython.core.display.Markdown object>"
      ]
     },
     "metadata": {},
     "output_type": "display_data"
    },
    {
     "data": {
      "text/markdown": [
       "<div class=\"macros\" style=\"visibility:hidden;\">\n",
       "$\\newcommand{\\ensuremath}{}$\n",
       "$\\newcommand{\\xspace}{}$\n",
       "$\\newcommand{\\object}[1]{\\texttt{#1}}$\n",
       "$\\newcommand{\\farcs}{{.}''}$\n",
       "$\\newcommand{\\farcm}{{.}'}$\n",
       "$\\newcommand{\\arcsec}{''}$\n",
       "$\\newcommand{\\arcmin}{'}$\n",
       "$\\newcommand{\\ion}[2]{#1#2}$\n",
       "$\\newcommand{\\textsc}[1]{\\textrm{#1}}$\n",
       "$\\newcommand{\\hl}[1]{\\textrm{#1}}$\n",
       "$\\newcommand{\\footnote}[1]{}$\n",
       "$\\newcommand{\\vdag}{(v)^\\dagger}$\n",
       "$\\newcommand$\n",
       "$\\newcommand$</div>\n",
       "\n",
       "\n",
       "\n",
       "<div id=\"title\">\n",
       "\n",
       "# Interstellar carbonaceous dust erosion induced by X-ray irradiation of water ice in star-forming regions\n",
       "\n",
       "</div>\n",
       "<div id=\"comments\">\n",
       "\n",
       "[![arXiv](https://img.shields.io/badge/arXiv-2310.19497-b31b1b.svg)](https://arxiv.org/abs/2310.19497)<mark>Appeared on: 2023-10-31</mark> -  _12 pages, 9 figures, 1 table_\n",
       "\n",
       "</div>\n",
       "<div id=\"authors\">\n",
       "\n",
       "K.-J. Chuang, et al. -- incl., <mark>C. Jäger</mark>\n",
       "\n",
       "</div>\n",
       "<div id=\"abstract\">\n",
       "\n",
       "**Abstract:** The chemical inventory of protoplanetary midplanes is the basis for forming planetesimals. Among them, solid-state reactions based on CO/$CO_2$ toward molecular complexity on interstellar dust grains have been studied in theoretical and laboratory work.The physicochemical interactions between ice, constituted mainly of $H_2$ O, and dust surfaces are limited to a few experimental studies focusing on vacuum ultraviolet and cosmic-ray processing.In this work, the erosion of C dust grains induced by X-ray irradiation of $H_2$ O ice was systematically investigated for the first time. The work aims to provide a better understanding of the reaction mechanism using selectively isotope-labeled oxygen/carbon species in kinetic analysis.Ultrahigh vacuum experiments were performed to study the interstellar ice analog on sub- $\\mu$ m thick C dust at $\\sim$ 13 K. $H_2$ O or $O_2$ ice was deposited on the pre-synthesized amorphous C dust and exposed to soft X-ray photons (250--1250 eV). Fourier-transform infrared spectroscopy was used to monitor in situ the newly formed species as a function of the incident photon fluence. Field emission scanning electron microscopy was used to monitor the morphological changes of (non-)eroded carbon samples.The X-ray processing of the ice/dust interface leads to the formation of $CO_2$ , which further dissociates and forms CO.Carbonyl groups are formed by oxygen addition to grain surfaces and are confirmed as intermediate species in the formation process. The yields of CO and $CO_2$ were found to be dependent on the thickness of the carbon layer.The astronomical relevance of the experimental findings is discussed.\n",
       "\n",
       "</div>\n",
       "\n",
       "<div id=\"div_fig1\">\n",
       "\n",
       "<img src=\"tmp_2310.19497/./Figures/Figure02.png\" alt=\"Fig8\" width=\"100%\"/>\n",
       "\n",
       "**Figure 8. -** Left: the IR difference spectra obtained before and after X-ray irradiation of (a) $^{(16)}$O$_{2}$ and (b) $^{18}$O$_{2}$ ices on the same a-$^{13}$C dust analog as well as (c) $H_2$O on a-$^{13}$C dust analog at 15 K for 60 minutes. Right: the corresponding residual spectra measured at 300 K. The thickness of a-$^{13}$C dust is $\\sim$100 nm, and the deposited abundances of $H_2$O and $^{(16/18)}$O$_{2}$ are $\\sim$5 $\\times$ 10$^{17}$ molecule cm$^{-2}$. The total fluence of X-ray photons is (7.6--7.9) $\\times$ 10$^{18}$ photon cm$^{-2}$. The dashed lines highlight the peak position of $^{13}$C-labeled products, and the shadowed area highlights the regions of the carbonyl group feature. The spectra are offset for clarity.\n",
       "             (*Fig2*)\n",
       "\n",
       "</div>\n",
       "<div id=\"div_fig2\">\n",
       "\n",
       "<img src=\"tmp_2310.19497/./Figures/Figure01.png\" alt=\"Fig7\" width=\"100%\"/>\n",
       "\n",
       "**Figure 7. -** Left: the IR difference spectra obtained before and after X-ray irradiation of $H_2$O ice on a-$^{13}$C dust analog at 15 K for 60 minutes. The thickness of a-$^{13}$C dust is $\\sim$100 nm, and the deposited abundance of $H_2$O is $\\sim$5 $\\times$ 10$^{17}$ molecule cm$^{-2}$. The dashed lines highlight the peak position of $^{13}$C-labeled products. The spectra are offset for clarity. Right: abundance evolution of the product $^{13}$$CO_2$(solid) and $^{13}$CO (open) obtained from the X-ray irradiation of $H_2$O ice on the same a-$^{13}$C dust over X-ray photons fluence of (7.6--8.0) $\\times$ 10$^{18}$ photon cm$^{-2}$(i.e., (7.0--7.4) $\\times$ 10$^{20}$ eV cm$^{-2}$). The dashed lines show the linear fit for the initial formation rate. (*Fig1*)\n",
       "\n",
       "</div>\n",
       "<div id=\"div_fig3\">\n",
       "\n",
       "<img src=\"tmp_2310.19497/./Figures/FigureA2.png\" alt=\"Fig4\" width=\"100%\"/>\n",
       "\n",
       "**Figure 4. -** The X-ray photon flux and $H_2$O transmittance as a function of photon energy. (*FigA1*)\n",
       "\n",
       "</div><div id=\"qrcode\"><img src=https://api.qrserver.com/v1/create-qr-code/?size=100x100&data=\"https://arxiv.org/abs/2310.19497\"></div>"
      ],
      "text/plain": [
       "<IPython.core.display.Markdown object>"
      ]
     },
     "metadata": {},
     "output_type": "display_data"
    }
   ],
   "source": [
    "[display(Markdown(k[1])) for k in documents];"
   ]
  },
  {
   "cell_type": "markdown",
   "id": "873873a4",
   "metadata": {
    "papermill": {
     "duration": 0.006932,
     "end_time": "2023-10-31T04:10:44.791247",
     "exception": false,
     "start_time": "2023-10-31T04:10:44.784315",
     "status": "completed"
    },
    "tags": []
   },
   "source": [
    "# Create HTML index"
   ]
  },
  {
   "cell_type": "code",
   "execution_count": 9,
   "id": "cf665672",
   "metadata": {
    "execution": {
     "iopub.execute_input": "2023-10-31T04:10:44.807209Z",
     "iopub.status.busy": "2023-10-31T04:10:44.806390Z",
     "iopub.status.idle": "2023-10-31T04:10:44.818758Z",
     "shell.execute_reply": "2023-10-31T04:10:44.818041Z"
    },
    "papermill": {
     "duration": 0.022261,
     "end_time": "2023-10-31T04:10:44.820393",
     "exception": false,
     "start_time": "2023-10-31T04:10:44.798132",
     "status": "completed"
    },
    "tags": []
   },
   "outputs": [
    {
     "name": "stdout",
     "output_type": "stream",
     "text": [
      "312  publications files modified in the last 7 days.\n"
     ]
    }
   ],
   "source": [
    "from datetime import datetime, timedelta, timezone\n",
    "from glob import glob\n",
    "import os\n",
    "\n",
    "files = glob('_build/html/*.md')\n",
    "days = 7\n",
    "now = datetime.today()\n",
    "res = []\n",
    "for fk in files:\n",
    "    stat_result = os.stat(fk).st_ctime\n",
    "    modified = datetime.fromtimestamp(stat_result, tz=timezone.utc).replace(tzinfo=None)\n",
    "    delta = now.today() - modified\n",
    "    if delta <= timedelta(days=days):\n",
    "        res.append((delta.seconds, fk))\n",
    "res = [k[1] for k in reversed(sorted(res, key=lambda x:x[1]))]\n",
    "npub = len(res)\n",
    "print(len(res), f\" publications files modified in the last {days:d} days.\")\n",
    "# [ print('\\t', k) for k in res ];"
   ]
  },
  {
   "cell_type": "code",
   "execution_count": 10,
   "id": "015de740",
   "metadata": {
    "execution": {
     "iopub.execute_input": "2023-10-31T04:10:44.836021Z",
     "iopub.status.busy": "2023-10-31T04:10:44.835528Z",
     "iopub.status.idle": "2023-10-31T04:10:44.859283Z",
     "shell.execute_reply": "2023-10-31T04:10:44.858561Z"
    },
    "papermill": {
     "duration": 0.033614,
     "end_time": "2023-10-31T04:10:44.860917",
     "exception": false,
     "start_time": "2023-10-31T04:10:44.827303",
     "status": "completed"
    },
    "tags": []
   },
   "outputs": [
    {
     "name": "stdout",
     "output_type": "stream",
     "text": [
      "7  publications in the last 7 days.\n"
     ]
    }
   ],
   "source": [
    "import datetime\n",
    "from glob import glob\n",
    "\n",
    "def get_last_n_days(lst, days=1):\n",
    "    \"\"\" Get the documents from the last n days \"\"\"\n",
    "    sorted_lst = sorted(lst, key=lambda x: x[1], reverse=True)\n",
    "    for fname, date in sorted_lst:\n",
    "        if date >= str(datetime.date.today() - datetime.timedelta(days=days)):\n",
    "            yield fname\n",
    "\n",
    "def extract_appearance_dates(lst_file):\n",
    "    dates = []\n",
    "\n",
    "    def get_date(line):\n",
    "        return line\\\n",
    "            .split('Appeared on:')[-1]\\\n",
    "            .split('</mark>')[0].strip()\n",
    "\n",
    "    for fname in lst:\n",
    "        with open(fname, 'r') as f:\n",
    "            found_date = False\n",
    "            for line in f:\n",
    "                if not found_date:\n",
    "                    if \"Appeared on\" in line:\n",
    "                        found_date = True\n",
    "                        dates.append((fname, get_date(line)))\n",
    "                else:\n",
    "                    break\n",
    "    return dates\n",
    "\n",
    "from glob import glob\n",
    "lst = glob('_build/html/*md')\n",
    "days = 7\n",
    "dates = extract_appearance_dates(lst)\n",
    "res = list(get_last_n_days(dates, days))\n",
    "npub = len(res)\n",
    "print(len(res), f\" publications in the last {days:d} days.\")"
   ]
  },
  {
   "cell_type": "code",
   "execution_count": 11,
   "id": "52ca0208",
   "metadata": {
    "execution": {
     "iopub.execute_input": "2023-10-31T04:10:44.877653Z",
     "iopub.status.busy": "2023-10-31T04:10:44.877066Z",
     "iopub.status.idle": "2023-10-31T04:10:44.883945Z",
     "shell.execute_reply": "2023-10-31T04:10:44.883108Z"
    },
    "papermill": {
     "duration": 0.0168,
     "end_time": "2023-10-31T04:10:44.885612",
     "exception": false,
     "start_time": "2023-10-31T04:10:44.868812",
     "status": "completed"
    },
    "scrolled": false,
    "tags": []
   },
   "outputs": [],
   "source": [
    "def create_carousel(npub=4):\n",
    "    \"\"\" Generate the HTML code for a carousel with `npub` slides \"\"\"\n",
    "    carousel = [\"\"\"  <div class=\"carousel\" \"\"\",\n",
    "                \"\"\"       data-flickity='{ \"autoPlay\": 10000, \"adaptiveHeight\": true, \"resize\": true, \"wrapAround\": true, \"pauseAutoPlayOnHover\": true, \"groupCells\": 1 }' id=\"asyncTypeset\">\"\"\"\n",
    "                ]\n",
    "    \n",
    "    item_str = \"\"\"    <div class=\"carousel-cell\"> <div id=\"slide{k}\" class=\"md_view\">Content {k}</div> </div>\"\"\"\n",
    "    for k in range(1, npub + 1):\n",
    "        carousel.append(item_str.format(k=k))\n",
    "    carousel.append(\"  </div>\")\n",
    "    return '\\n'.join(carousel)\n",
    "\n",
    "def create_grid(npub=4):\n",
    "    \"\"\" Generate the HTML code for a flat grid with `npub` slides \"\"\"\n",
    "    grid = [\"\"\"  <div class=\"grid\"> \"\"\",\n",
    "                ]\n",
    "    \n",
    "    item_str = \"\"\"    <div class=\"grid-item\"> <div id=\"slide{k}\" class=\"md_view\">Content {k}</div> </div>\"\"\"\n",
    "    for k in range(1, npub + 1):\n",
    "        grid.append(item_str.format(k=k))\n",
    "    grid.append(\"  </div>\")\n",
    "    return '\\n'.join(grid)"
   ]
  },
  {
   "cell_type": "code",
   "execution_count": 12,
   "id": "a6eac5b6",
   "metadata": {
    "execution": {
     "iopub.execute_input": "2023-10-31T04:10:44.901673Z",
     "iopub.status.busy": "2023-10-31T04:10:44.901212Z",
     "iopub.status.idle": "2023-10-31T04:10:44.907445Z",
     "shell.execute_reply": "2023-10-31T04:10:44.906775Z"
    },
    "papermill": {
     "duration": 0.0163,
     "end_time": "2023-10-31T04:10:44.909036",
     "exception": false,
     "start_time": "2023-10-31T04:10:44.892736",
     "status": "completed"
    },
    "scrolled": false,
    "tags": []
   },
   "outputs": [],
   "source": [
    "carousel = create_carousel(npub)\n",
    "docs = ', '.join(['\"{0:s}\"'.format(k.split('/')[-1]) for k in res])\n",
    "slides = ', '.join([f'\"slide{k}\"' for k in range(1, npub + 1)])\n",
    "\n",
    "with open(\"daily_template.html\", \"r\") as tpl:\n",
    "    page = tpl.read()\n",
    "    page = page.replace(\"{%-- carousel:s --%}\", carousel)\\\n",
    "               .replace(\"{%-- suptitle:s --%}\",  \"7-day archives\" )\\\n",
    "               .replace(\"{%-- docs:s --%}\", docs)\\\n",
    "               .replace(\"{%-- slides:s --%}\", slides)\n",
    "    \n",
    "with open(\"_build/html/index_7days.html\", 'w') as fout:\n",
    "    fout.write(page)"
   ]
  },
  {
   "cell_type": "code",
   "execution_count": 13,
   "id": "adc1a1ec",
   "metadata": {
    "execution": {
     "iopub.execute_input": "2023-10-31T04:10:44.924476Z",
     "iopub.status.busy": "2023-10-31T04:10:44.924199Z",
     "iopub.status.idle": "2023-10-31T04:10:44.931781Z",
     "shell.execute_reply": "2023-10-31T04:10:44.931194Z"
    },
    "papermill": {
     "duration": 0.017436,
     "end_time": "2023-10-31T04:10:44.933455",
     "exception": false,
     "start_time": "2023-10-31T04:10:44.916019",
     "status": "completed"
    },
    "tags": []
   },
   "outputs": [
    {
     "name": "stdout",
     "output_type": "stream",
     "text": [
      "5  publications in the last day.\n"
     ]
    }
   ],
   "source": [
    "# redo for today\n",
    "days = 1\n",
    "res = list(get_last_n_days(dates, days))\n",
    "npub = len(res)\n",
    "print(len(res), f\" publications in the last day.\")\n",
    "\n",
    "carousel = create_carousel(npub)\n",
    "docs = ', '.join(['\"{0:s}\"'.format(k.split('/')[-1]) for k in res])\n",
    "slides = ', '.join([f'\"slide{k}\"' for k in range(1, npub + 1)])\n",
    "\n",
    "with open(\"daily_template.html\", \"r\") as tpl:\n",
    "    page = tpl.read()\n",
    "    page = page.replace(\"{%-- carousel:s --%}\", carousel)\\\n",
    "               .replace(\"{%-- suptitle:s --%}\",  \"Daily\" )\\\n",
    "               .replace(\"{%-- docs:s --%}\", docs)\\\n",
    "               .replace(\"{%-- slides:s --%}\", slides)\n",
    "    \n",
    "# print(carousel, docs, slides)\n",
    "# print(page)\n",
    "with open(\"_build/html/index_daily.html\", 'w') as fout:\n",
    "    fout.write(page)"
   ]
  },
  {
   "cell_type": "code",
   "execution_count": 14,
   "id": "00eece82",
   "metadata": {
    "execution": {
     "iopub.execute_input": "2023-10-31T04:10:44.950210Z",
     "iopub.status.busy": "2023-10-31T04:10:44.949459Z",
     "iopub.status.idle": "2023-10-31T04:10:44.957832Z",
     "shell.execute_reply": "2023-10-31T04:10:44.957263Z"
    },
    "papermill": {
     "duration": 0.018729,
     "end_time": "2023-10-31T04:10:44.959442",
     "exception": false,
     "start_time": "2023-10-31T04:10:44.940713",
     "status": "completed"
    },
    "scrolled": false,
    "tags": []
   },
   "outputs": [
    {
     "name": "stdout",
     "output_type": "stream",
     "text": [
      "6  6 publications selected.\n"
     ]
    }
   ],
   "source": [
    "# Create the flat grid of the last N papers (fixed number regardless of dates)\n",
    "from itertools import islice \n",
    "\n",
    "npub = 6\n",
    "res = [k[0] for k in (islice(reversed(sorted(dates, key=lambda x: x[1])), 6))]\n",
    "print(len(res), f\" {npub} publications selected.\")\n",
    "\n",
    "grid = create_grid(npub)\n",
    "docs = ', '.join(['\"{0:s}\"'.format(k.split('/')[-1]) for k in res])\n",
    "slides = ', '.join([f'\"slide{k}\"' for k in range(1, npub + 1)])\n",
    "\n",
    "with open(\"grid_template.html\", \"r\") as tpl:\n",
    "    page = tpl.read()\n",
    "    page = page.replace(\"{%-- grid-content:s --%}\", grid)\\\n",
    "               .replace(\"{%-- suptitle:s --%}\",  f\"Last {npub:,d} papers\" )\\\n",
    "               .replace(\"{%-- docs:s --%}\", docs)\\\n",
    "               .replace(\"{%-- slides:s --%}\", slides)\n",
    "    \n",
    "# print(grid, docs, slides)\n",
    "# print(page)\n",
    "with open(\"_build/html/index_npub_grid.html\", 'w') as fout:\n",
    "    fout.write(page)"
   ]
  }
 ],
 "metadata": {
  "kernelspec": {
   "display_name": "Python 3 (ipykernel)",
   "language": "python",
   "name": "python3"
  },
  "language_info": {
   "codemirror_mode": {
    "name": "ipython",
    "version": 3
   },
   "file_extension": ".py",
   "mimetype": "text/x-python",
   "name": "python",
   "nbconvert_exporter": "python",
   "pygments_lexer": "ipython3",
   "version": "3.9.18"
  },
  "papermill": {
   "default_parameters": {},
   "duration": 171.189714,
   "end_time": "2023-10-31T04:10:45.285808",
   "environment_variables": {},
   "exception": null,
   "input_path": "MPIA daily digest.ipynb",
   "output_path": "log.ipynb",
   "parameters": {},
   "start_time": "2023-10-31T04:07:54.096094",
   "version": "2.4.0"
  },
  "vscode": {
   "interpreter": {
    "hash": "aee8b7b246df8f9039afb4144a1f6fd8d2ca17a180786b69acc140d282b71a49"
   }
  },
  "widgets": {
   "application/vnd.jupyter.widget-state+json": {
    "state": {
     "19fcdcb59630467bb97b7f62970264c2": {
      "model_module": "@jupyter-widgets/base",
      "model_module_version": "2.0.0",
      "model_name": "LayoutModel",
      "state": {
       "_model_module": "@jupyter-widgets/base",
       "_model_module_version": "2.0.0",
       "_model_name": "LayoutModel",
       "_view_count": null,
       "_view_module": "@jupyter-widgets/base",
       "_view_module_version": "2.0.0",
       "_view_name": "LayoutView",
       "align_content": null,
       "align_items": null,
       "align_self": null,
       "border_bottom": null,
       "border_left": null,
       "border_right": null,
       "border_top": null,
       "bottom": null,
       "display": null,
       "flex": null,
       "flex_flow": null,
       "grid_area": null,
       "grid_auto_columns": null,
       "grid_auto_flow": null,
       "grid_auto_rows": null,
       "grid_column": null,
       "grid_gap": null,
       "grid_row": null,
       "grid_template_areas": null,
       "grid_template_columns": null,
       "grid_template_rows": null,
       "height": null,
       "justify_content": null,
       "justify_items": null,
       "left": null,
       "margin": null,
       "max_height": null,
       "max_width": null,
       "min_height": null,
       "min_width": null,
       "object_fit": null,
       "object_position": null,
       "order": null,
       "overflow": null,
       "padding": null,
       "right": null,
       "top": null,
       "visibility": null,
       "width": null
      }
     },
     "2cbe4b99277d4fa4bd0ce06a0a2d121f": {
      "model_module": "@jupyter-widgets/controls",
      "model_module_version": "2.0.0",
      "model_name": "HTMLStyleModel",
      "state": {
       "_model_module": "@jupyter-widgets/controls",
       "_model_module_version": "2.0.0",
       "_model_name": "HTMLStyleModel",
       "_view_count": null,
       "_view_module": "@jupyter-widgets/base",
       "_view_module_version": "2.0.0",
       "_view_name": "StyleView",
       "background": null,
       "description_width": "",
       "font_size": null,
       "text_color": null
      }
     },
     "68f70a1eea5546d0b1e3bf0d32da41a6": {
      "model_module": "@jupyter-widgets/controls",
      "model_module_version": "2.0.0",
      "model_name": "ProgressStyleModel",
      "state": {
       "_model_module": "@jupyter-widgets/controls",
       "_model_module_version": "2.0.0",
       "_model_name": "ProgressStyleModel",
       "_view_count": null,
       "_view_module": "@jupyter-widgets/base",
       "_view_module_version": "2.0.0",
       "_view_name": "StyleView",
       "bar_color": null,
       "description_width": ""
      }
     },
     "77fd31da104541f5a94bf0dc8bb1db7e": {
      "model_module": "@jupyter-widgets/controls",
      "model_module_version": "2.0.0",
      "model_name": "HTMLStyleModel",
      "state": {
       "_model_module": "@jupyter-widgets/controls",
       "_model_module_version": "2.0.0",
       "_model_name": "HTMLStyleModel",
       "_view_count": null,
       "_view_module": "@jupyter-widgets/base",
       "_view_module_version": "2.0.0",
       "_view_name": "StyleView",
       "background": null,
       "description_width": "",
       "font_size": null,
       "text_color": null
      }
     },
     "80e4a8c370ec430c850862887c46993a": {
      "model_module": "@jupyter-widgets/base",
      "model_module_version": "2.0.0",
      "model_name": "LayoutModel",
      "state": {
       "_model_module": "@jupyter-widgets/base",
       "_model_module_version": "2.0.0",
       "_model_name": "LayoutModel",
       "_view_count": null,
       "_view_module": "@jupyter-widgets/base",
       "_view_module_version": "2.0.0",
       "_view_name": "LayoutView",
       "align_content": null,
       "align_items": null,
       "align_self": null,
       "border_bottom": null,
       "border_left": null,
       "border_right": null,
       "border_top": null,
       "bottom": null,
       "display": null,
       "flex": null,
       "flex_flow": null,
       "grid_area": null,
       "grid_auto_columns": null,
       "grid_auto_flow": null,
       "grid_auto_rows": null,
       "grid_column": null,
       "grid_gap": null,
       "grid_row": null,
       "grid_template_areas": null,
       "grid_template_columns": null,
       "grid_template_rows": null,
       "height": null,
       "justify_content": null,
       "justify_items": null,
       "left": null,
       "margin": null,
       "max_height": null,
       "max_width": null,
       "min_height": null,
       "min_width": null,
       "object_fit": null,
       "object_position": null,
       "order": null,
       "overflow": null,
       "padding": null,
       "right": null,
       "top": null,
       "visibility": null,
       "width": null
      }
     },
     "8b1375fbfbac48a89b023ab42bc0efe1": {
      "model_module": "@jupyter-widgets/controls",
      "model_module_version": "2.0.0",
      "model_name": "HBoxModel",
      "state": {
       "_dom_classes": [],
       "_model_module": "@jupyter-widgets/controls",
       "_model_module_version": "2.0.0",
       "_model_name": "HBoxModel",
       "_view_count": null,
       "_view_module": "@jupyter-widgets/controls",
       "_view_module_version": "2.0.0",
       "_view_name": "HBoxView",
       "box_style": "",
       "children": [
        "IPY_MODEL_b59583278450447bb55e6317b3b5a8a1",
        "IPY_MODEL_b9d03519029542638e813ae7844a069d",
        "IPY_MODEL_906e80ea7fed4339bec59f3c9218bfd2"
       ],
       "layout": "IPY_MODEL_912adcefa81a40a29281d767b9fbb80f",
       "tabbable": null,
       "tooltip": null
      }
     },
     "906e80ea7fed4339bec59f3c9218bfd2": {
      "model_module": "@jupyter-widgets/controls",
      "model_module_version": "2.0.0",
      "model_name": "HTMLModel",
      "state": {
       "_dom_classes": [],
       "_model_module": "@jupyter-widgets/controls",
       "_model_module_version": "2.0.0",
       "_model_name": "HTMLModel",
       "_view_count": null,
       "_view_module": "@jupyter-widgets/controls",
       "_view_module_version": "2.0.0",
       "_view_name": "HTMLView",
       "description": "",
       "description_allow_html": false,
       "layout": "IPY_MODEL_ad6052dc8aca4f67ac81198446e640cd",
       "placeholder": "​",
       "style": "IPY_MODEL_2cbe4b99277d4fa4bd0ce06a0a2d121f",
       "tabbable": null,
       "tooltip": null,
       "value": " 6/6 [02:27&lt;00:00, 10.90s/it]"
      }
     },
     "912adcefa81a40a29281d767b9fbb80f": {
      "model_module": "@jupyter-widgets/base",
      "model_module_version": "2.0.0",
      "model_name": "LayoutModel",
      "state": {
       "_model_module": "@jupyter-widgets/base",
       "_model_module_version": "2.0.0",
       "_model_name": "LayoutModel",
       "_view_count": null,
       "_view_module": "@jupyter-widgets/base",
       "_view_module_version": "2.0.0",
       "_view_name": "LayoutView",
       "align_content": null,
       "align_items": null,
       "align_self": null,
       "border_bottom": null,
       "border_left": null,
       "border_right": null,
       "border_top": null,
       "bottom": null,
       "display": null,
       "flex": null,
       "flex_flow": null,
       "grid_area": null,
       "grid_auto_columns": null,
       "grid_auto_flow": null,
       "grid_auto_rows": null,
       "grid_column": null,
       "grid_gap": null,
       "grid_row": null,
       "grid_template_areas": null,
       "grid_template_columns": null,
       "grid_template_rows": null,
       "height": null,
       "justify_content": null,
       "justify_items": null,
       "left": null,
       "margin": null,
       "max_height": null,
       "max_width": null,
       "min_height": null,
       "min_width": null,
       "object_fit": null,
       "object_position": null,
       "order": null,
       "overflow": null,
       "padding": null,
       "right": null,
       "top": null,
       "visibility": null,
       "width": null
      }
     },
     "ad6052dc8aca4f67ac81198446e640cd": {
      "model_module": "@jupyter-widgets/base",
      "model_module_version": "2.0.0",
      "model_name": "LayoutModel",
      "state": {
       "_model_module": "@jupyter-widgets/base",
       "_model_module_version": "2.0.0",
       "_model_name": "LayoutModel",
       "_view_count": null,
       "_view_module": "@jupyter-widgets/base",
       "_view_module_version": "2.0.0",
       "_view_name": "LayoutView",
       "align_content": null,
       "align_items": null,
       "align_self": null,
       "border_bottom": null,
       "border_left": null,
       "border_right": null,
       "border_top": null,
       "bottom": null,
       "display": null,
       "flex": null,
       "flex_flow": null,
       "grid_area": null,
       "grid_auto_columns": null,
       "grid_auto_flow": null,
       "grid_auto_rows": null,
       "grid_column": null,
       "grid_gap": null,
       "grid_row": null,
       "grid_template_areas": null,
       "grid_template_columns": null,
       "grid_template_rows": null,
       "height": null,
       "justify_content": null,
       "justify_items": null,
       "left": null,
       "margin": null,
       "max_height": null,
       "max_width": null,
       "min_height": null,
       "min_width": null,
       "object_fit": null,
       "object_position": null,
       "order": null,
       "overflow": null,
       "padding": null,
       "right": null,
       "top": null,
       "visibility": null,
       "width": null
      }
     },
     "b59583278450447bb55e6317b3b5a8a1": {
      "model_module": "@jupyter-widgets/controls",
      "model_module_version": "2.0.0",
      "model_name": "HTMLModel",
      "state": {
       "_dom_classes": [],
       "_model_module": "@jupyter-widgets/controls",
       "_model_module_version": "2.0.0",
       "_model_name": "HTMLModel",
       "_view_count": null,
       "_view_module": "@jupyter-widgets/controls",
       "_view_module_version": "2.0.0",
       "_view_name": "HTMLView",
       "description": "",
       "description_allow_html": false,
       "layout": "IPY_MODEL_80e4a8c370ec430c850862887c46993a",
       "placeholder": "​",
       "style": "IPY_MODEL_77fd31da104541f5a94bf0dc8bb1db7e",
       "tabbable": null,
       "tooltip": null,
       "value": "100%"
      }
     },
     "b9d03519029542638e813ae7844a069d": {
      "model_module": "@jupyter-widgets/controls",
      "model_module_version": "2.0.0",
      "model_name": "FloatProgressModel",
      "state": {
       "_dom_classes": [],
       "_model_module": "@jupyter-widgets/controls",
       "_model_module_version": "2.0.0",
       "_model_name": "FloatProgressModel",
       "_view_count": null,
       "_view_module": "@jupyter-widgets/controls",
       "_view_module_version": "2.0.0",
       "_view_name": "ProgressView",
       "bar_style": "success",
       "description": "",
       "description_allow_html": false,
       "layout": "IPY_MODEL_19fcdcb59630467bb97b7f62970264c2",
       "max": 6.0,
       "min": 0.0,
       "orientation": "horizontal",
       "style": "IPY_MODEL_68f70a1eea5546d0b1e3bf0d32da41a6",
       "tabbable": null,
       "tooltip": null,
       "value": 6.0
      }
     }
    },
    "version_major": 2,
    "version_minor": 0
   }
  }
 },
 "nbformat": 4,
 "nbformat_minor": 5
}