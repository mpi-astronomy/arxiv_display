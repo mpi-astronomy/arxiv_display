{
 "cells": [
  {
   "cell_type": "markdown",
   "id": "92bcb855",
   "metadata": {
    "papermill": {
     "duration": 0.005083,
     "end_time": "2023-04-27T04:05:09.371007",
     "exception": false,
     "start_time": "2023-04-27T04:05:09.365924",
     "status": "completed"
    },
    "tags": []
   },
   "source": [
    "# MPIA Arxiv on Deck 2\n",
    "\n",
    "Contains the steps to produce the paper extractions."
   ]
  },
  {
   "cell_type": "code",
   "execution_count": 1,
   "id": "3a0d6e11",
   "metadata": {
    "execution": {
     "iopub.execute_input": "2023-04-27T04:05:09.379959Z",
     "iopub.status.busy": "2023-04-27T04:05:09.379381Z",
     "iopub.status.idle": "2023-04-27T04:05:09.608848Z",
     "shell.execute_reply": "2023-04-27T04:05:09.608094Z"
    },
    "papermill": {
     "duration": 0.237296,
     "end_time": "2023-04-27T04:05:09.612100",
     "exception": false,
     "start_time": "2023-04-27T04:05:09.374804",
     "status": "completed"
    },
    "tags": []
   },
   "outputs": [],
   "source": [
    "# Imports\n",
    "import os\n",
    "from IPython.display import Markdown, display\n",
    "from tqdm.notebook import tqdm\n",
    "import warnings\n",
    "from PIL import Image \n",
    "\n",
    "# requires arxiv_on_deck_2\n",
    "\n",
    "from arxiv_on_deck_2.arxiv2 import (get_new_papers, \n",
    "                                    get_paper_from_identifier,\n",
    "                                    retrieve_document_source, \n",
    "                                    get_markdown_badge)\n",
    "from arxiv_on_deck_2 import (latex,\n",
    "                             latex_bib,\n",
    "                             mpia,\n",
    "                             highlight_authors_in_list)\n",
    "\n",
    "# Sometimes images are really big\n",
    "Image.MAX_IMAGE_PIXELS = 1000000000 "
   ]
  },
  {
   "cell_type": "code",
   "execution_count": 2,
   "id": "22aa9d44",
   "metadata": {
    "execution": {
     "iopub.execute_input": "2023-04-27T04:05:09.626136Z",
     "iopub.status.busy": "2023-04-27T04:05:09.625634Z",
     "iopub.status.idle": "2023-04-27T04:05:09.631670Z",
     "shell.execute_reply": "2023-04-27T04:05:09.630925Z"
    },
    "papermill": {
     "duration": 0.013672,
     "end_time": "2023-04-27T04:05:09.633305",
     "exception": false,
     "start_time": "2023-04-27T04:05:09.619633",
     "status": "completed"
    },
    "tags": []
   },
   "outputs": [],
   "source": [
    "# Some useful definitions.\n",
    "\n",
    "class AffiliationWarning(UserWarning):\n",
    "    pass\n",
    "\n",
    "class AffiliationError(RuntimeError):\n",
    "    pass\n",
    "\n",
    "def validation(source: str):\n",
    "    \"\"\"Raises error paper during parsing of source file\n",
    "    \n",
    "    Allows checks before parsing TeX code.\n",
    "    \n",
    "    Raises AffiliationWarning\n",
    "    \"\"\"\n",
    "    check = mpia.affiliation_verifications(source, verbose=True)\n",
    "    if check is not True:\n",
    "        raise AffiliationError(\"mpia.affiliation_verifications: \" + check)\n",
    "\n",
    "        \n",
    "warnings.simplefilter('always', AffiliationWarning)\n",
    "\n",
    "\n",
    "def get_markdown_qrcode(paper_id: str):\n",
    "    \"\"\" Generate a qrcode to the arxiv page using qrserver.com\n",
    "    \n",
    "    :param paper: Arxiv paper\n",
    "    :returns: markdown text\n",
    "    \"\"\"\n",
    "    url = r\"https://api.qrserver.com/v1/create-qr-code/?size=100x100&data=\"\n",
    "    txt = f\"\"\"<img src={url}\"https://arxiv.org/abs/{paper_id}\">\"\"\"\n",
    "    txt = '<div id=\"qrcode\">' + txt + '</div>'\n",
    "    return txt"
   ]
  },
  {
   "cell_type": "markdown",
   "id": "14bd6310",
   "metadata": {
    "papermill": {
     "duration": 0.003587,
     "end_time": "2023-04-27T04:05:09.644297",
     "exception": false,
     "start_time": "2023-04-27T04:05:09.640710",
     "status": "completed"
    },
    "tags": []
   },
   "source": [
    "## get list of arxiv paper candidates\n",
    "\n",
    "We use the MPIA mitarbeiter list webpage from mpia.de to get author names\n",
    "We then get all new papers from Arxiv and match authors"
   ]
  },
  {
   "cell_type": "code",
   "execution_count": 3,
   "id": "2645e73a",
   "metadata": {
    "execution": {
     "iopub.execute_input": "2023-04-27T04:05:09.654761Z",
     "iopub.status.busy": "2023-04-27T04:05:09.654459Z",
     "iopub.status.idle": "2023-04-27T04:05:38.172898Z",
     "shell.execute_reply": "2023-04-27T04:05:38.171249Z"
    },
    "papermill": {
     "duration": 28.526677,
     "end_time": "2023-04-27T04:05:38.174560",
     "exception": false,
     "start_time": "2023-04-27T04:05:09.647883",
     "status": "completed"
    },
    "tags": []
   },
   "outputs": [
    {
     "name": "stdout",
     "output_type": "stream",
     "text": [
      "Arxiv has 68 new papers today\n",
      "          2 with possible author matches\n"
     ]
    }
   ],
   "source": [
    "# get list from MPIA website\n",
    "# it automatically filters identified non-scientists :func:`mpia.filter_non_scientists`\n",
    "mpia_authors = mpia.get_mpia_mitarbeiter_list()\n",
    "normed_mpia_authors = [k[1] for k in mpia_authors]   # initials + fullname\n",
    "new_papers = get_new_papers()\n",
    "# add manual references\n",
    "add_paper_refs = []\n",
    "new_papers.extend([get_paper_from_identifier(k) for k in add_paper_refs])\n",
    "\n",
    "candidates = []\n",
    "for paperk in new_papers:\n",
    "    # Check author list with their initials\n",
    "    normed_author_list = [mpia.get_initials(k) for k in paperk['authors']]\n",
    "    hl_authors = highlight_authors_in_list(normed_author_list, normed_mpia_authors, verbose=True)\n",
    "    matches = [(hl, orig) for hl, orig in zip(hl_authors, paperk['authors']) if 'mark' in hl]\n",
    "    paperk['authors'] = hl_authors\n",
    "    if matches:\n",
    "        # only select paper if an author matched our list\n",
    "        candidates.append(paperk)\n",
    "print(\"\"\"Arxiv has {0:,d} new papers today\"\"\".format(len(new_papers)))        \n",
    "print(\"\"\"          {0:,d} with possible author matches\"\"\".format(len(candidates)))"
   ]
  },
  {
   "cell_type": "markdown",
   "id": "3543b34a",
   "metadata": {
    "papermill": {
     "duration": 0.003657,
     "end_time": "2023-04-27T04:05:38.182021",
     "exception": false,
     "start_time": "2023-04-27T04:05:38.178364",
     "status": "completed"
    },
    "tags": []
   },
   "source": [
    "# Parse sources and generate relevant outputs\n",
    "\n",
    "From the candidates, we do the following steps:\n",
    "* get their tarball from ArXiv (and extract data)\n",
    "* find the main .tex file: find one with \\documentclass{...} (sometimes it's non trivial)\n",
    "* Check affiliations with :func:`validation`, which uses :func:`mpia.affiliation_verifications`\n",
    "* If passing the affiliations: we parse the .tex source\n",
    "   * inject sub-documents into the main (flatten the main document)\n",
    "   * parse structure, extract information (title, abstract, authors, figures...)\n",
    "   * handles `\\graphicspath` if provided\n",
    "* Generate the .md document."
   ]
  },
  {
   "cell_type": "code",
   "execution_count": 4,
   "id": "9576b79e",
   "metadata": {
    "execution": {
     "iopub.execute_input": "2023-04-27T04:05:38.190385Z",
     "iopub.status.busy": "2023-04-27T04:05:38.189860Z",
     "iopub.status.idle": "2023-04-27T04:06:09.875229Z",
     "shell.execute_reply": "2023-04-27T04:06:09.874595Z"
    },
    "papermill": {
     "duration": 31.694175,
     "end_time": "2023-04-27T04:06:09.879577",
     "exception": false,
     "start_time": "2023-04-27T04:05:38.185402",
     "status": "completed"
    },
    "scrolled": false,
    "tags": []
   },
   "outputs": [
    {
     "data": {
      "application/vnd.jupyter.widget-view+json": {
       "model_id": "014feba44a8d490f92f65a6ced2e9e41",
       "version_major": 2,
       "version_minor": 0
      },
      "text/plain": [
       "  0%|          | 0/1 [00:00<?, ?it/s]"
      ]
     },
     "metadata": {},
     "output_type": "display_data"
    },
    {
     "name": "stdout",
     "output_type": "stream",
     "text": [
      "Retrieving document from  https://arxiv.org/e-print/2304.13046\n"
     ]
    },
    {
     "name": "stdout",
     "output_type": "stream",
     "text": [
      "extracting tarball to tmp_2304.13046..."
     ]
    },
    {
     "name": "stdout",
     "output_type": "stream",
     "text": [
      " done.\n"
     ]
    },
    {
     "name": "stdout",
     "output_type": "stream",
     "text": [
      "list index out of range\n"
     ]
    }
   ],
   "source": [
    "documents = []\n",
    "failed = []\n",
    "for paper in tqdm(candidates[:-1]):\n",
    "    paper_id = paper['identifier'].lower().replace('arxiv:', '')\n",
    "    \n",
    "    folder = f'tmp_{paper_id}'\n",
    "\n",
    "    try:\n",
    "        if not os.path.isdir(folder):\n",
    "            folder = retrieve_document_source(f\"{paper_id}\", f'tmp_{paper_id}')\n",
    "        \n",
    "        try:\n",
    "            doc = latex.LatexDocument(folder, validation=validation)    \n",
    "        except AffiliationError as affilerror:\n",
    "            msg = f\"ArXiv:{paper_id:s} is not an MPIA paper... \" + str(affilerror)\n",
    "            failed.append((paper, \"affiliation error: \" + str(affilerror) ))\n",
    "            continue\n",
    "        \n",
    "        # Hack because sometimes author parsing does not work well\n",
    "        if (len(doc.authors) != len(paper['authors'])):\n",
    "            doc._authors = paper['authors']\n",
    "        else:\n",
    "            # highlight authors (FIXME: doc.highlight_authors)\n",
    "            # done on arxiv paper already\n",
    "            doc._authors = highlight_authors_in_list(\n",
    "                [mpia.get_initials(k) for k in doc.authors], \n",
    "                normed_mpia_authors, verbose=True)\n",
    "        if (doc.abstract) in (None, ''):\n",
    "            doc._abstract = paper['abstract']\n",
    "            \n",
    "        doc.comment = (get_markdown_badge(paper_id) + \n",
    "                       \"<mark>Appeared on: \" + paper['date'] + \"</mark> - \")\n",
    "        if paper['comments']:\n",
    "            doc.comment += \" _\" + paper['comments'] + \"_\"\n",
    "        \n",
    "        full_md = doc.generate_markdown_text()\n",
    "        \n",
    "        full_md += get_markdown_qrcode(paper_id)\n",
    "        \n",
    "        # replace citations\n",
    "        try:\n",
    "            bibdata = latex_bib.LatexBib.from_doc(doc)\n",
    "            full_md = latex_bib.replace_citations(full_md, bibdata)\n",
    "        except Exception as e:\n",
    "            print(e)\n",
    "        \n",
    "        documents.append((paper_id, full_md))\n",
    "    except Exception as e:\n",
    "        warnings.warn(latex.LatexWarning(f\"{paper_id:s} did not run properly\\n\" +\n",
    "                                         str(e)\n",
    "                                        ))\n",
    "        failed.append((paper, \"latex error \" + str(e)))"
   ]
  },
  {
   "cell_type": "markdown",
   "id": "2505a25c",
   "metadata": {
    "papermill": {
     "duration": 0.004012,
     "end_time": "2023-04-27T04:06:09.887483",
     "exception": false,
     "start_time": "2023-04-27T04:06:09.883471",
     "status": "completed"
    },
    "tags": []
   },
   "source": [
    "### Export the logs\n",
    "\n",
    "Throughout, we also keep track of the logs per paper. see `logs-{today date}.md` "
   ]
  },
  {
   "cell_type": "code",
   "execution_count": 5,
   "id": "d733828a",
   "metadata": {
    "execution": {
     "iopub.execute_input": "2023-04-27T04:06:09.897808Z",
     "iopub.status.busy": "2023-04-27T04:06:09.897096Z",
     "iopub.status.idle": "2023-04-27T04:06:09.915158Z",
     "shell.execute_reply": "2023-04-27T04:06:09.913839Z"
    },
    "papermill": {
     "duration": 0.025673,
     "end_time": "2023-04-27T04:06:09.916854",
     "exception": false,
     "start_time": "2023-04-27T04:06:09.891181",
     "status": "completed"
    },
    "scrolled": false,
    "tags": []
   },
   "outputs": [
    {
     "data": {
      "text/markdown": [
       "## Successful papers"
      ],
      "text/plain": [
       "<IPython.core.display.Markdown object>"
      ]
     },
     "metadata": {},
     "output_type": "display_data"
    },
    {
     "data": {
      "text/markdown": [
       "\n",
       "|||\n",
       "|---:|:---|\n",
       "| [![arXiv](https://img.shields.io/badge/arXiv-arXiv:2304.13046-b31b1b.svg)](https://arxiv.org/abs/arXiv:2304.13046) | **The Pristine Dwarf-Galaxy survey -- V. The edges of the dwarf galaxy  Hercules**  |\n",
       "|| N. Longeard, et al. -- incl., <mark>K. Malhan</mark> |\n",
       "|*Appeared on*| *2023-04-27*|\n",
       "|*Comments*| **|\n",
       "|**Abstract**| We present a new spectroscopic study of the dwarf galaxy Hercules (d ~ 132 kpc) with data from the Anglo-Australian Telescope and its AAOmega spectrograph together with the Two Degree Field multi-object system to solve the conundrum that whether Hercules is tidally disrupting. We combine broadband photometry, proper motions from Gaia, and our Pristine narrow-band and metallicity-sensitive photometry to efficiently weed out the Milky Way contamination. Such cleaning is particularly critical in this kinematic regime, as both the transverse and heliocentric velocities of Milky Way populations overlap with Hercules. Thanks to this method, three new member stars are identified, including one at almost 10rh of the satellite. All three have velocities and metallicities consistent with that of the main body. Combining this new dataset with the entire literature cleaned out from contamination shows that Hercules does not exhibit a velocity gradient (d<v>/dX = 0.1+0.4/-0.2 km s-1 arcmin-1) and, as such, does not show evidence to undergo tidal disruption. |"
      ],
      "text/plain": [
       "[arXiv:2304.13046] The Pristine Dwarf-Galaxy survey -- V. The edges of the dwarf galaxy  Hercules\n",
       "\tN. Longeard, et al. -- incl., <mark>K. Malhan</mark>"
      ]
     },
     "metadata": {},
     "output_type": "display_data"
    },
    {
     "data": {
      "text/markdown": [
       "## Failed papers"
      ],
      "text/plain": [
       "<IPython.core.display.Markdown object>"
      ]
     },
     "metadata": {},
     "output_type": "display_data"
    }
   ],
   "source": [
    "import datetime\n",
    "today = str(datetime.date.today())\n",
    "logfile = f\"_build/html/logs/log-{today}.md\"\n",
    "\n",
    "\n",
    "with open(logfile, 'w') as logs:\n",
    "    # Success\n",
    "    logs.write(f'# Arxiv on Deck 2: Logs - {today}\\n\\n')\n",
    "    logs.write(\"\"\"* Arxiv had {0:,d} new papers\\n\"\"\".format(len(new_papers)))\n",
    "    logs.write(\"\"\"    * {0:,d} with possible author matches\\n\\n\"\"\".format(len(candidates)))\n",
    "    logs.write(\"## Sucessful papers\\n\\n\")\n",
    "    display(Markdown(\"## Successful papers\"))\n",
    "    success = [k[0] for k in documents]\n",
    "    for candid in candidates:\n",
    "        if candid['identifier'].split(':')[-1] in success:\n",
    "            display(candid)\n",
    "            logs.write(candid.generate_markdown_text() + '\\n\\n')\n",
    "\n",
    "    ## failed\n",
    "    logs.write(\"## Failed papers\\n\\n\")\n",
    "    display(Markdown(\"## Failed papers\"))\n",
    "    failed = sorted(failed, key=lambda x: x[1])\n",
    "    current_reason = \"\"\n",
    "    for paper, reason in failed:\n",
    "        if 'affiliation' in reason:\n",
    "            color = 'green'\n",
    "        else:\n",
    "            color = 'red'\n",
    "        data = Markdown(\n",
    "                paper.generate_markdown_text() + \n",
    "                f'\\n|<p style=\"color:{color:s}\"> **ERROR** </p>| <p style=\"color:{color:s}\">{reason:s}</p> |'\n",
    "               )\n",
    "        if reason != current_reason:\n",
    "            logs.write(f'### {reason:s} \\n\\n')\n",
    "            current_reason = reason\n",
    "        logs.write(data.data + '\\n\\n')\n",
    "        \n",
    "        # only display here the important errors (all in logs)\n",
    "        # if color in ('red',):\n",
    "        display(data)"
   ]
  },
  {
   "cell_type": "markdown",
   "id": "472d20ee",
   "metadata": {
    "papermill": {
     "duration": 0.004022,
     "end_time": "2023-04-27T04:06:09.924949",
     "exception": false,
     "start_time": "2023-04-27T04:06:09.920927",
     "status": "completed"
    },
    "tags": []
   },
   "source": [
    "## Export documents\n",
    "\n",
    "We now write the .md files and export relevant images"
   ]
  },
  {
   "cell_type": "code",
   "execution_count": 6,
   "id": "d426aed9",
   "metadata": {
    "execution": {
     "iopub.execute_input": "2023-04-27T04:06:09.934655Z",
     "iopub.status.busy": "2023-04-27T04:06:09.934046Z",
     "iopub.status.idle": "2023-04-27T04:06:09.941393Z",
     "shell.execute_reply": "2023-04-27T04:06:09.940705Z"
    },
    "papermill": {
     "duration": 0.013862,
     "end_time": "2023-04-27T04:06:09.942933",
     "exception": false,
     "start_time": "2023-04-27T04:06:09.929071",
     "status": "completed"
    },
    "tags": []
   },
   "outputs": [],
   "source": [
    "def export_markdown_summary(md: str, md_fname:str, directory: str):\n",
    "    \"\"\"Export MD document and associated relevant images\"\"\"\n",
    "    import os\n",
    "    import shutil\n",
    "    import re\n",
    "\n",
    "    if (os.path.exists(directory) and not os.path.isdir(directory)):\n",
    "        raise RuntimeError(f\"a non-directory file exists with name {directory:s}\")\n",
    "\n",
    "    if (not os.path.exists(directory)):\n",
    "        print(f\"creating directory {directory:s}\")\n",
    "        os.mkdir(directory)\n",
    "\n",
    "    fig_fnames = (re.compile(r'\\[Fig.*\\]\\((.*)\\)').findall(md) + \n",
    "                  re.compile(r'\\<img src=\"([^>\\s]*)\"[^>]*/>').findall(md))\n",
    "    for fname in fig_fnames:\n",
    "        if 'http' in fname:\n",
    "            # No need to copy online figures\n",
    "            continue\n",
    "        destdir = os.path.join(directory, os.path.dirname(fname))\n",
    "        destfname = os.path.join(destdir, os.path.basename(fname))\n",
    "        try:\n",
    "            os.makedirs(destdir)\n",
    "        except FileExistsError:\n",
    "            pass\n",
    "        shutil.copy(fname, destfname)\n",
    "    with open(os.path.join(directory, md_fname), 'w') as fout:\n",
    "        fout.write(md)\n",
    "    print(\"exported in \", os.path.join(directory, md_fname))\n",
    "    [print(\"    + \" + os.path.join(directory,fk)) for fk in fig_fnames]"
   ]
  },
  {
   "cell_type": "code",
   "execution_count": 7,
   "id": "014d04a4",
   "metadata": {
    "execution": {
     "iopub.execute_input": "2023-04-27T04:06:09.952759Z",
     "iopub.status.busy": "2023-04-27T04:06:09.952263Z",
     "iopub.status.idle": "2023-04-27T04:06:09.958925Z",
     "shell.execute_reply": "2023-04-27T04:06:09.958251Z"
    },
    "papermill": {
     "duration": 0.013344,
     "end_time": "2023-04-27T04:06:09.960414",
     "exception": false,
     "start_time": "2023-04-27T04:06:09.947070",
     "status": "completed"
    },
    "tags": []
   },
   "outputs": [
    {
     "name": "stdout",
     "output_type": "stream",
     "text": [
      "exported in  _build/html/2304.13046.md\n",
      "    + _build/html/tmp_2304.13046/./cahk_density.png\n",
      "    + _build/html/tmp_2304.13046/./field.png\n",
      "    + _build/html/tmp_2304.13046/./Her_velocity_gradient_pdfs_noaat_vs_aat.png\n"
     ]
    }
   ],
   "source": [
    "for paper_id, md in documents:\n",
    "    export_markdown_summary(md, f\"{paper_id:s}.md\", '_build/html/')"
   ]
  },
  {
   "cell_type": "markdown",
   "id": "f087a0a7",
   "metadata": {
    "papermill": {
     "duration": 0.004171,
     "end_time": "2023-04-27T04:06:09.968833",
     "exception": false,
     "start_time": "2023-04-27T04:06:09.964662",
     "status": "completed"
    },
    "tags": []
   },
   "source": [
    "## Display the papers\n",
    "\n",
    "Not necessary but allows for a quick check."
   ]
  },
  {
   "cell_type": "code",
   "execution_count": 8,
   "id": "fd25f625",
   "metadata": {
    "execution": {
     "iopub.execute_input": "2023-04-27T04:06:09.978689Z",
     "iopub.status.busy": "2023-04-27T04:06:09.978230Z",
     "iopub.status.idle": "2023-04-27T04:06:09.983198Z",
     "shell.execute_reply": "2023-04-27T04:06:09.982569Z"
    },
    "papermill": {
     "duration": 0.01159,
     "end_time": "2023-04-27T04:06:09.984616",
     "exception": false,
     "start_time": "2023-04-27T04:06:09.973026",
     "status": "completed"
    },
    "scrolled": false,
    "tags": []
   },
   "outputs": [
    {
     "data": {
      "text/markdown": [
       "<div class=\"macros\" style=\"visibility:hidden;\">\n",
       "$\\newcommand{\\ensuremath}{}$\n",
       "$\\newcommand{\\xspace}{}$\n",
       "$\\newcommand{\\object}[1]{\\texttt{#1}}$\n",
       "$\\newcommand{\\farcs}{{.}''}$\n",
       "$\\newcommand{\\farcm}{{.}'}$\n",
       "$\\newcommand{\\arcsec}{''}$\n",
       "$\\newcommand{\\arcmin}{'}$\n",
       "$\\newcommand{\\ion}[2]{#1#2}$\n",
       "$\\newcommand{\\textsc}[1]{\\textrm{#1}}$\n",
       "$\\newcommand{\\hl}[1]{\\textrm{#1}}$\n",
       "$\\newcommand{\\footnote}[1]{}$\n",
       "$\\newcommand{\\fmmm}[1]{\\mbox{#1}}$\n",
       "$\\newcommand{\\scnd}{\\mbox{\\fmmm{\"}\\hskip-0.3em .}}$\n",
       "$\\newcommand{\\scnp}{\\mbox{\\fmmm{\"}}}$\n",
       "$\\newcommand{\\mcnd}{\\mbox{\\fmmm{'}\\hskip-0.3em .}}$\n",
       "$\\newcommand{\\mnras}{MNRAS}$\n",
       "$\\newcommand{\\pasa}{PASA}$\n",
       "$\\newcommand{\\nat}{Nature}$\n",
       "$\\newcommand{\\araa}{ARAA}$\n",
       "$\\newcommand{\\aj}{AJ}$\n",
       "$\\newcommand{\\apj}{ApJ}$\n",
       "$\\newcommand{\\apjl}{ApJ}$\n",
       "$\\newcommand{\\apjs}{ApJSupp}$\n",
       "$\\newcommand{\\aap}{A\\&A}$\n",
       "$\\newcommand{\\aaps}{A\\&ASupp}$\n",
       "$\\newcommand{\\pasp}{PASP}$\n",
       "$\\newcommand{\\pasj}{PASJ}$\n",
       "$\\newcommand{\\arraystretch}{0.3}$\n",
       "$\\newcommand{\\arraystretch}{0.3}$\n",
       "$\\newcommand{\\arraystretch}{0.3}$\n",
       "$\\newcommand{\\arraystretch}{0.3}$\n",
       "$\\newcommand{\\ltsima}{\\; \\buildrel < \\over \\sim \\;}$\n",
       "$\\newcommand{\\lta}{\\lower.5ex\\hbox{\\ltsima}}$\n",
       "$\\newcommand{\\gtsima}{\\; \\buildrel > \\over \\sim \\;}$\n",
       "$\\newcommand{\\simgt}{\\lower.5ex\\hbox{\\gtsima}}$\n",
       "$\\newcommand{\\erf}{\\mathop{\\rm erf}\\nolimits}$\n",
       "$\\newcommand{\\sech}{ \\mathop{\\rm sech}\\nolimits}$\n",
       "$\\newcommand{\\csch}{ \\mathop{\\rm csch}\\nolimits}$\n",
       "$\\newcommand{\\arcsinh}{\\mathop{\\rm arcsinh}\\nolimits}$\n",
       "$\\newcommand{\\arccosh}{\\mathop{\\rm arccosh}\\nolimits}$\n",
       "$\\newcommand{\\arctanh}{\\mathop{\\rm arctanh}\\nolimits}$\n",
       "$\\newcommand{\\arccoth}{\\mathop{\\rm arccoth}\\nolimits}$\n",
       "$\\newcommand{\\arcsech}{\\mathop{\\rm arcsech}\\nolimits}$\n",
       "$\\newcommand{\\arccsch}{\\mathop{\\rm arccsch}\\nolimits}$\n",
       "$\\newcommand{\\arccot}{\\mathop{\\rm arccot}\\nolimits}$\n",
       "$\\newcommand{\\arcsec}{\\mathop{\\rm arcsec}\\nolimits}$\n",
       "$\\newcommand{\\arccsc}{\\mathop{\\rm arccsc}\\nolimits}$\n",
       "$\\newcommand{\\ylm}{\\mathop{\\rm Y}_l^m\\nolimits}$\n",
       "$\\newcommand{\\ylmp}{\\mathop{\\rm Y}_{l'}^{m'}\\nolimits}$\n",
       "$\\newcommand{\\real}{\\Re e}$\n",
       "$\\newcommand{\\imag}{\\Im m}$\n",
       "$\\newcommand{\\km}{{\\rm km}}$\n",
       "$\\newcommand{\\kms}{{\\rm km \\; s^{-1}}}$\n",
       "$\\newcommand{\\mas}{{\\rm mas}}$\n",
       "$\\newcommand{\\masyr}{{\\rm mas/yr}}$\n",
       "$\\newcommand{\\kpc}{{\\rm kpc}}$\n",
       "$\\newcommand{\\mpc}{{\\rm Mpc}}$\n",
       "$\\newcommand{\\msun}{{\\rm M_\\odot}}$\n",
       "$\\newcommand{\\lsun}{{\\rm L_\\odot}}$\n",
       "$\\newcommand{\\rsun}{{\\rm R_\\odot}}$\n",
       "$\\newcommand{\\pc}{{\\rm pc}}$\n",
       "$\\newcommand{\\cm}{{\\rm cm}}$\n",
       "$\\newcommand{\\yr}{{\\rm yr}}$\n",
       "$\\newcommand{\\au}{{\\rm AU}}$\n",
       "$\\newcommand{\\g}{{\\rm g}}$\n",
       "$\\newcommand{\\om}{\\Omega_0}$\n",
       "$\\newcommand{\\}{ca}$\n",
       "$\\newcommand{\\}{r}$\n",
       "$\\newcommand{\\}{magnitude}$\n",
       "$\\newcommand{\\kr}{{\\cal K}_r}$\n",
       "$\\newcommand{\\kz}{{\\cal K}_z}$\n",
       "$\\newcommand{\\kzz}{{\\cal K}_z(z)}$\n",
       "$\\newcommand{\\mss}{{\\rm M}_\\odot \\rm pc^{-2}}$\n",
       "$\\newcommand{\\msss}{{\\rm M}_\\odot \\rm pc^{-3}}$\n",
       "$\\newcommand{\\Aa}{\\; \\buildrel \\circ \\over{\\rm A}}$\n",
       "$\\newcommand{Å}{\\; \\buildrel \\circ \\over{\\rm A}}$\n",
       "$\\newcommand{\\yr}{{\\rm yr}}$\n",
       "$\\newcommand{\\CompactFigs}{0}$\n",
       "$\\newcommand{\\UseFigs}{1}$\n",
       "$\\newcommand{\\deg}{^\\circ}$\n",
       "$\\newcommand{\\degg}{\\hbox{\\null^\\circ\\hskip-3pt .}}$\n",
       "$\\newcommand{\\sec}{\\hbox{\"\\hskip-3pt .}}$\n",
       "$\\newcommand{\\half}{{\\scriptstyle{1\\over2}}}$\n",
       "$\\newcommand{\\s}{\\ifmmode \\widetilde \\else \\~\\fi}$\n",
       "$\\newcommand{\\=}{\\overline}$\n",
       "$\\newcommand{\\scre}{{\\cal E}}$\n",
       "$\\newcommand{\\}{spose}$\n",
       "$\\newcommand{\\larrow}{\\leftarrow}$\n",
       "$\\newcommand{\\rarrow}{\\rightarrow}$\n",
       "$\\newcommand{\\llangle}{\\langle\\langle}$\n",
       "$\\newcommand{\\rrangle}{\\rangle\\rangle}$\n",
       "$\\newcommand{\\etal}{{\\it et al. }}$\n",
       "$\\newcommand{\\cf}{{\\it cf. }}$\n",
       "$\\newcommand{\\eg}{{ e.g., }}$\n",
       "$\\newcommand{\\ie}{{ i.e., }}$\n",
       "$\\newcommand{\\lta}{\\mathrel{\\spose{\\lower 3pt\\hbox{\\mathchar\"218}}$\n",
       "$     \\raise 2.0pt\\hbox{\\mathchar\"13C}}}$\n",
       "$\\newcommand{\\gta}{\\mathrel{\\spose{\\lower 3pt\\hbox{\\mathchar\"218}}$\n",
       "$     \\raise 2.0pt\\hbox{\\mathchar\"13E}}}$\n",
       "$\\newcommand{\\Dt}{\\spose{\\raise 1.5ex\\hbox{\\hskip3pt\\mathchar\"201}}}$\n",
       "$\\newcommand{\\dt}{\\spose{\\raise 1.0ex\\hbox{\\hskip2pt\\mathchar\"201}}}$\n",
       "$\\newcommand{\\del}{\\nabla}$\n",
       "$\\newcommand{\\delv}{\\bb\\nabla}$\n",
       "$\\newcommand{\\r}{{\\rm r^{1/4}}}$\n",
       "$\\newcommand{\\jla}{J_{\\lambda}}$\n",
       "$\\newcommand{\\jmu}{J_{\\mu}}$\n",
       "$\\newcommand{\\jnu}{J_{\\nu}}$\n",
       "$\\newcommand{\\pomega}{\\varpi}$\n",
       "$\\newcommand{\\sigla}{\\sigma_{\\lambda}}$\n",
       "$\\newcommand{\\sigmu}{\\sigma_{\\mu}}$\n",
       "$\\newcommand{\\signu}{\\sigma_{\\nu}}$\n",
       "$\\newcommand{\\dotsfill}{\\leaders\\hbox to 1em{\\hss.\\hss}\\hfill}$\n",
       "$\\newcommand{\\sun}{\\odot}$\n",
       "$\\newcommand{\\earth}{\\oplus}$\n",
       "$\\newcommand{\\Gyr}{{\\rm Gyr}}$\n",
       "$\\newcommand{\\FeH}{{\\rm[Fe/H]}}$\n",
       "$\\newcommand{\\kmsd}{{\\rm km/s/degree}}$\n",
       "$\\newcommand{\\}{Ger}$\n",
       "$\\newcommand{\\}{Rod}$\n",
       "$\\newcommand{\\}{Mike}$\n",
       "$\\newcommand{\\}{Nickl}$\n",
       "$\\newcommand{\\}{Nick}$\n",
       "$\\newcommand{\\}{natexlab}$</div>\n",
       "\n",
       "\n",
       "\n",
       "<div id=\"title\">\n",
       "\n",
       "# The Pristine Dwarf-Galaxy survey - V. The edges of the dwarf galaxy Hercules\n",
       "\n",
       "</div>\n",
       "<div id=\"comments\">\n",
       "\n",
       "[![arXiv](https://img.shields.io/badge/arXiv-2304.13046-b31b1b.svg)](https://arxiv.org/abs/2304.13046)<mark>Appeared on: 2023-04-27</mark> - \n",
       "\n",
       "</div>\n",
       "<div id=\"authors\">\n",
       "\n",
       "N. Longeard, et al. -- incl., <mark>K. Malhan</mark>\n",
       "\n",
       "</div>\n",
       "<div id=\"abstract\">\n",
       "\n",
       "**Abstract:** We present a new spectroscopic study of the dwarf galaxy Hercules (d $\\sim 132$ kpc) with data from the Anglo-Australian Telescope and its AAOmega spectrograph together with the Two Degree Field multi-object system to solve the conundrum that whether Hercules is tidally disrupting. We combine broadband photometry, proper motions from Gaia, and our Pristine narrow-band and metallicity-sensitive photometry to efficiently weed out the Milky Way contamination. Such cleaning is particularly critical in this kinematic regime, as both the transverse and heliocentric velocities of Milky Way populations overlap with Hercules. Thanks to this method, three new member stars are identified, including one at almost $10$ $r_h$ of the satellite. All three have velocities and metallicities consistent with that of the main body. Combining this new dataset with the entire literature cleaned out from contamination shows that Hercules does not exhibit a velocity gradient (d $\\langle v \\rangle$ /d $\\chi$ $ = 0.1^{+0.4}_{-0.2}$ km s $^{-1}$ arcmin $^{-1}$ ) and, as such, does not show evidence to undergo tidal disruption.\n",
       "\n",
       "</div>\n",
       "\n",
       "<div id=\"div_fig1\">\n",
       "\n",
       "<img src=\"tmp_2304.13046/./cahk_density.png\" alt=\"Fig7\" width=\"100%\"/>\n",
       "\n",
       "**Figure 7. -** Pristine colour-colour space, with the ($g-i$)$_0$ temperature proxy and the $CaHK_0 - g_0 - 1.5$($g-i$)$_0$ colour on the y-axis. In this plot, [Fe/H] decreases as values on the y-axis decrease. The density plot of the MW contamination is also shown with the colour scale. The density decreases as the colour goes darker. The $1$, $2$ and $3$\\s$igma$ contours are shown as white dotted lines. Literature members and non-members are shown as blue diamonds and crosses respectively and are only the ones with a spectroscopic metallicity and a proper motion measurement to ensure their membership status. Our new AAT members as shown as red circles, while uncertain candidates are represented as orange diamonds. (*cahk_density*)\n",
       "\n",
       "</div>\n",
       "<div id=\"div_fig2\">\n",
       "\n",
       "<img src=\"tmp_2304.13046/./field.png\" alt=\"Fig10\" width=\"100%\"/>\n",
       "\n",
       "**Figure 10. -** _Left panel:_ Spatial distribution of the AAT spectroscopic sample. Newly discovered members are shown as red circles, while uncertain candidates are shown as orange diamonds. Non-members from the AAT sample are shown as red crosses. Previously known members from the literature are represented as smaller blue diamonds.  The two half-light radii of Hercules as inferred by \\citet[M18]{munoz18} are shown as a purple ellipse. _Right panel:_ CMD of our spectroscopic sample superimposed with a metal-poor Darmouth isochrone at the distance of Hercules. (*field*)\n",
       "\n",
       "</div>\n",
       "<div id=\"div_fig3\">\n",
       "\n",
       "<img src=\"tmp_2304.13046/./Her_velocity_gradient_pdfs_noaat_vs_aat.png\" alt=\"Fig9\" width=\"100%\"/>\n",
       "\n",
       "**Figure 9. -** PDFs of the velocity gradient of Hercules in the three cases detailed in section 5. (*pdfs_vel_grad*)\n",
       "\n",
       "</div><div id=\"qrcode\"><img src=https://api.qrserver.com/v1/create-qr-code/?size=100x100&data=\"https://arxiv.org/abs/2304.13046\"></div>"
      ],
      "text/plain": [
       "<IPython.core.display.Markdown object>"
      ]
     },
     "metadata": {},
     "output_type": "display_data"
    }
   ],
   "source": [
    "[display(Markdown(k[1])) for k in documents];"
   ]
  },
  {
   "cell_type": "markdown",
   "id": "873873a4",
   "metadata": {
    "papermill": {
     "duration": 0.004464,
     "end_time": "2023-04-27T04:06:09.993751",
     "exception": false,
     "start_time": "2023-04-27T04:06:09.989287",
     "status": "completed"
    },
    "tags": []
   },
   "source": [
    "# Create HTML index"
   ]
  },
  {
   "cell_type": "code",
   "execution_count": 9,
   "id": "cf665672",
   "metadata": {
    "execution": {
     "iopub.execute_input": "2023-04-27T04:06:10.004150Z",
     "iopub.status.busy": "2023-04-27T04:06:10.003695Z",
     "iopub.status.idle": "2023-04-27T04:06:10.013125Z",
     "shell.execute_reply": "2023-04-27T04:06:10.012428Z"
    },
    "papermill": {
     "duration": 0.016387,
     "end_time": "2023-04-27T04:06:10.014627",
     "exception": false,
     "start_time": "2023-04-27T04:06:09.998240",
     "status": "completed"
    },
    "tags": []
   },
   "outputs": [
    {
     "name": "stdout",
     "output_type": "stream",
     "text": [
      "196  publications files modified in the last 7 days.\n"
     ]
    }
   ],
   "source": [
    "from datetime import datetime, timedelta, timezone\n",
    "from glob import glob\n",
    "import os\n",
    "\n",
    "files = glob('_build/html/*.md')\n",
    "days = 7\n",
    "now = datetime.today()\n",
    "res = []\n",
    "for fk in files:\n",
    "    stat_result = os.stat(fk).st_ctime\n",
    "    modified = datetime.fromtimestamp(stat_result, tz=timezone.utc).replace(tzinfo=None)\n",
    "    delta = now.today() - modified\n",
    "    if delta <= timedelta(days=days):\n",
    "        res.append((delta.seconds, fk))\n",
    "res = [k[1] for k in reversed(sorted(res, key=lambda x:x[1]))]\n",
    "npub = len(res)\n",
    "print(len(res), f\" publications files modified in the last {days:d} days.\")\n",
    "# [ print('\\t', k) for k in res ];"
   ]
  },
  {
   "cell_type": "code",
   "execution_count": 10,
   "id": "015de740",
   "metadata": {
    "execution": {
     "iopub.execute_input": "2023-04-27T04:06:10.025140Z",
     "iopub.status.busy": "2023-04-27T04:06:10.024717Z",
     "iopub.status.idle": "2023-04-27T04:06:10.040764Z",
     "shell.execute_reply": "2023-04-27T04:06:10.040088Z"
    },
    "papermill": {
     "duration": 0.022932,
     "end_time": "2023-04-27T04:06:10.042205",
     "exception": false,
     "start_time": "2023-04-27T04:06:10.019273",
     "status": "completed"
    },
    "tags": []
   },
   "outputs": [
    {
     "name": "stdout",
     "output_type": "stream",
     "text": [
      "4  publications in the last 7 days.\n"
     ]
    }
   ],
   "source": [
    "import datetime\n",
    "from glob import glob\n",
    "\n",
    "def get_last_n_days(lst, days=1):\n",
    "    \"\"\" Get the documents from the last n days \"\"\"\n",
    "    sorted_lst = sorted(lst, key=lambda x: x[1], reverse=True)\n",
    "    for fname, date in sorted_lst:\n",
    "        if date >= str(datetime.date.today() - datetime.timedelta(days=days)):\n",
    "            yield fname\n",
    "\n",
    "def extract_appearance_dates(lst_file):\n",
    "    dates = []\n",
    "\n",
    "    def get_date(line):\n",
    "        return line\\\n",
    "            .split('Appeared on:')[-1]\\\n",
    "            .split('</mark>')[0].strip()\n",
    "\n",
    "    for fname in lst:\n",
    "        with open(fname, 'r') as f:\n",
    "            found_date = False\n",
    "            for line in f:\n",
    "                if not found_date:\n",
    "                    if \"Appeared on\" in line:\n",
    "                        found_date = True\n",
    "                        dates.append((fname, get_date(line)))\n",
    "                else:\n",
    "                    break\n",
    "    return dates\n",
    "\n",
    "from glob import glob\n",
    "lst = glob('_build/html/*md')\n",
    "days = 7\n",
    "dates = extract_appearance_dates(lst)\n",
    "res = list(get_last_n_days(dates, days))\n",
    "npub = len(res)\n",
    "print(len(res), f\" publications in the last {days:d} days.\")"
   ]
  },
  {
   "cell_type": "code",
   "execution_count": 11,
   "id": "52ca0208",
   "metadata": {
    "execution": {
     "iopub.execute_input": "2023-04-27T04:06:10.052870Z",
     "iopub.status.busy": "2023-04-27T04:06:10.052445Z",
     "iopub.status.idle": "2023-04-27T04:06:10.057914Z",
     "shell.execute_reply": "2023-04-27T04:06:10.057285Z"
    },
    "papermill": {
     "duration": 0.012545,
     "end_time": "2023-04-27T04:06:10.059401",
     "exception": false,
     "start_time": "2023-04-27T04:06:10.046856",
     "status": "completed"
    },
    "scrolled": false,
    "tags": []
   },
   "outputs": [],
   "source": [
    "def create_carousel(npub=4):\n",
    "    \"\"\" Generate the HTML code for a carousel with `npub` slides \"\"\"\n",
    "    carousel = [\"\"\"  <div class=\"carousel\" \"\"\",\n",
    "                \"\"\"       data-flickity='{ \"autoPlay\": 10000, \"adaptiveHeight\": true, \"resize\": true, \"wrapAround\": true, \"pauseAutoPlayOnHover\": true, \"groupCells\": 1 }' id=\"asyncTypeset\">\"\"\"\n",
    "                ]\n",
    "    \n",
    "    item_str = \"\"\"    <div class=\"carousel-cell\"> <div id=\"slide{k}\" class=\"md_view\">Content {k}</div> </div>\"\"\"\n",
    "    for k in range(1, npub + 1):\n",
    "        carousel.append(item_str.format(k=k))\n",
    "    carousel.append(\"  </div>\")\n",
    "    return '\\n'.join(carousel)\n",
    "\n",
    "def create_grid(npub=4):\n",
    "    \"\"\" Generate the HTML code for a flat grid with `npub` slides \"\"\"\n",
    "    grid = [\"\"\"  <div class=\"grid\"> \"\"\",\n",
    "                ]\n",
    "    \n",
    "    item_str = \"\"\"    <div class=\"grid-item\"> <div id=\"slide{k}\" class=\"md_view\">Content {k}</div> </div>\"\"\"\n",
    "    for k in range(1, npub + 1):\n",
    "        grid.append(item_str.format(k=k))\n",
    "    grid.append(\"  </div>\")\n",
    "    return '\\n'.join(grid)"
   ]
  },
  {
   "cell_type": "code",
   "execution_count": 12,
   "id": "a6eac5b6",
   "metadata": {
    "execution": {
     "iopub.execute_input": "2023-04-27T04:06:10.070865Z",
     "iopub.status.busy": "2023-04-27T04:06:10.070409Z",
     "iopub.status.idle": "2023-04-27T04:06:10.076330Z",
     "shell.execute_reply": "2023-04-27T04:06:10.075609Z"
    },
    "papermill": {
     "duration": 0.01367,
     "end_time": "2023-04-27T04:06:10.077858",
     "exception": false,
     "start_time": "2023-04-27T04:06:10.064188",
     "status": "completed"
    },
    "scrolled": false,
    "tags": []
   },
   "outputs": [],
   "source": [
    "carousel = create_carousel(npub)\n",
    "docs = ', '.join(['\"{0:s}\"'.format(k.split('/')[-1]) for k in res])\n",
    "slides = ', '.join([f'\"slide{k}\"' for k in range(1, npub + 1)])\n",
    "\n",
    "with open(\"daily_template.html\", \"r\") as tpl:\n",
    "    page = tpl.read()\n",
    "    page = page.replace(\"{%-- carousel:s --%}\", carousel)\\\n",
    "               .replace(\"{%-- suptitle:s --%}\",  \"7-day archives\" )\\\n",
    "               .replace(\"{%-- docs:s --%}\", docs)\\\n",
    "               .replace(\"{%-- slides:s --%}\", slides)\n",
    "    \n",
    "with open(\"_build/html/index_7days.html\", 'w') as fout:\n",
    "    fout.write(page)"
   ]
  },
  {
   "cell_type": "code",
   "execution_count": 13,
   "id": "adc1a1ec",
   "metadata": {
    "execution": {
     "iopub.execute_input": "2023-04-27T04:06:10.088951Z",
     "iopub.status.busy": "2023-04-27T04:06:10.088466Z",
     "iopub.status.idle": "2023-04-27T04:06:10.095686Z",
     "shell.execute_reply": "2023-04-27T04:06:10.095034Z"
    },
    "papermill": {
     "duration": 0.014569,
     "end_time": "2023-04-27T04:06:10.097248",
     "exception": false,
     "start_time": "2023-04-27T04:06:10.082679",
     "status": "completed"
    },
    "tags": []
   },
   "outputs": [
    {
     "name": "stdout",
     "output_type": "stream",
     "text": [
      "2  publications in the last day.\n"
     ]
    }
   ],
   "source": [
    "# redo for today\n",
    "days = 1\n",
    "res = list(get_last_n_days(dates, days))\n",
    "npub = len(res)\n",
    "print(len(res), f\" publications in the last day.\")\n",
    "\n",
    "carousel = create_carousel(npub)\n",
    "docs = ', '.join(['\"{0:s}\"'.format(k.split('/')[-1]) for k in res])\n",
    "slides = ', '.join([f'\"slide{k}\"' for k in range(1, npub + 1)])\n",
    "\n",
    "with open(\"daily_template.html\", \"r\") as tpl:\n",
    "    page = tpl.read()\n",
    "    page = page.replace(\"{%-- carousel:s --%}\", carousel)\\\n",
    "               .replace(\"{%-- suptitle:s --%}\",  \"Daily\" )\\\n",
    "               .replace(\"{%-- docs:s --%}\", docs)\\\n",
    "               .replace(\"{%-- slides:s --%}\", slides)\n",
    "    \n",
    "# print(carousel, docs, slides)\n",
    "# print(page)\n",
    "with open(\"_build/html/index_daily.html\", 'w') as fout:\n",
    "    fout.write(page)"
   ]
  },
  {
   "cell_type": "code",
   "execution_count": 14,
   "id": "00eece82",
   "metadata": {
    "execution": {
     "iopub.execute_input": "2023-04-27T04:06:10.108613Z",
     "iopub.status.busy": "2023-04-27T04:06:10.108130Z",
     "iopub.status.idle": "2023-04-27T04:06:10.115266Z",
     "shell.execute_reply": "2023-04-27T04:06:10.114619Z"
    },
    "papermill": {
     "duration": 0.014405,
     "end_time": "2023-04-27T04:06:10.116698",
     "exception": false,
     "start_time": "2023-04-27T04:06:10.102293",
     "status": "completed"
    },
    "scrolled": false,
    "tags": []
   },
   "outputs": [
    {
     "name": "stdout",
     "output_type": "stream",
     "text": [
      "6  6 publications selected.\n"
     ]
    }
   ],
   "source": [
    "# Create the flat grid of the last N papers (fixed number regardless of dates)\n",
    "from itertools import islice \n",
    "\n",
    "npub = 6\n",
    "res = [k[0] for k in (islice(reversed(sorted(dates, key=lambda x: x[1])), 6))]\n",
    "print(len(res), f\" {npub} publications selected.\")\n",
    "\n",
    "grid = create_grid(npub)\n",
    "docs = ', '.join(['\"{0:s}\"'.format(k.split('/')[-1]) for k in res])\n",
    "slides = ', '.join([f'\"slide{k}\"' for k in range(1, npub + 1)])\n",
    "\n",
    "with open(\"grid_template.html\", \"r\") as tpl:\n",
    "    page = tpl.read()\n",
    "    page = page.replace(\"{%-- grid-content:s --%}\", grid)\\\n",
    "               .replace(\"{%-- suptitle:s --%}\",  f\"Last {npub:,d} papers\" )\\\n",
    "               .replace(\"{%-- docs:s --%}\", docs)\\\n",
    "               .replace(\"{%-- slides:s --%}\", slides)\n",
    "    \n",
    "# print(grid, docs, slides)\n",
    "# print(page)\n",
    "with open(\"_build/html/index_npub_grid.html\", 'w') as fout:\n",
    "    fout.write(page)"
   ]
  }
 ],
 "metadata": {
  "kernelspec": {
   "display_name": "Python 3 (ipykernel)",
   "language": "python",
   "name": "python3"
  },
  "language_info": {
   "codemirror_mode": {
    "name": "ipython",
    "version": 3
   },
   "file_extension": ".py",
   "mimetype": "text/x-python",
   "name": "python",
   "nbconvert_exporter": "python",
   "pygments_lexer": "ipython3",
   "version": "3.9.16"
  },
  "papermill": {
   "default_parameters": {},
   "duration": 62.402618,
   "end_time": "2023-04-27T04:06:10.440372",
   "environment_variables": {},
   "exception": null,
   "input_path": "MPIA daily digest.ipynb",
   "output_path": "log.ipynb",
   "parameters": {},
   "start_time": "2023-04-27T04:05:08.037754",
   "version": "2.4.0"
  },
  "vscode": {
   "interpreter": {
    "hash": "aee8b7b246df8f9039afb4144a1f6fd8d2ca17a180786b69acc140d282b71a49"
   }
  },
  "widgets": {
   "application/vnd.jupyter.widget-state+json": {
    "state": {
     "014feba44a8d490f92f65a6ced2e9e41": {
      "model_module": "@jupyter-widgets/controls",
      "model_module_version": "2.0.0",
      "model_name": "HBoxModel",
      "state": {
       "_dom_classes": [],
       "_model_module": "@jupyter-widgets/controls",
       "_model_module_version": "2.0.0",
       "_model_name": "HBoxModel",
       "_view_count": null,
       "_view_module": "@jupyter-widgets/controls",
       "_view_module_version": "2.0.0",
       "_view_name": "HBoxView",
       "box_style": "",
       "children": [
        "IPY_MODEL_d07ab14ba520467985d5a353d69830d6",
        "IPY_MODEL_fc8e62dcd0f94ca8a6a32abf5d949ea4",
        "IPY_MODEL_2c602ea4a8514d55b807293ad23141d4"
       ],
       "layout": "IPY_MODEL_aef39122424f4c9fa1ac6d72ed18b3a6",
       "tabbable": null,
       "tooltip": null
      }
     },
     "056f10fd8d49478fbc19a6eba15dc99a": {
      "model_module": "@jupyter-widgets/controls",
      "model_module_version": "2.0.0",
      "model_name": "HTMLStyleModel",
      "state": {
       "_model_module": "@jupyter-widgets/controls",
       "_model_module_version": "2.0.0",
       "_model_name": "HTMLStyleModel",
       "_view_count": null,
       "_view_module": "@jupyter-widgets/base",
       "_view_module_version": "2.0.0",
       "_view_name": "StyleView",
       "background": null,
       "description_width": "",
       "font_size": null,
       "text_color": null
      }
     },
     "2afe9167105a4560af426c058ddf05c7": {
      "model_module": "@jupyter-widgets/controls",
      "model_module_version": "2.0.0",
      "model_name": "HTMLStyleModel",
      "state": {
       "_model_module": "@jupyter-widgets/controls",
       "_model_module_version": "2.0.0",
       "_model_name": "HTMLStyleModel",
       "_view_count": null,
       "_view_module": "@jupyter-widgets/base",
       "_view_module_version": "2.0.0",
       "_view_name": "StyleView",
       "background": null,
       "description_width": "",
       "font_size": null,
       "text_color": null
      }
     },
     "2c602ea4a8514d55b807293ad23141d4": {
      "model_module": "@jupyter-widgets/controls",
      "model_module_version": "2.0.0",
      "model_name": "HTMLModel",
      "state": {
       "_dom_classes": [],
       "_model_module": "@jupyter-widgets/controls",
       "_model_module_version": "2.0.0",
       "_model_name": "HTMLModel",
       "_view_count": null,
       "_view_module": "@jupyter-widgets/controls",
       "_view_module_version": "2.0.0",
       "_view_name": "HTMLView",
       "description": "",
       "description_allow_html": false,
       "layout": "IPY_MODEL_d9ba7907c8e54e488ecbebfab129197f",
       "placeholder": "​",
       "style": "IPY_MODEL_2afe9167105a4560af426c058ddf05c7",
       "tabbable": null,
       "tooltip": null,
       "value": " 1/1 [00:31&lt;00:00, 31.67s/it]"
      }
     },
     "42a54524d0384e17a4f82e02d2492655": {
      "model_module": "@jupyter-widgets/controls",
      "model_module_version": "2.0.0",
      "model_name": "ProgressStyleModel",
      "state": {
       "_model_module": "@jupyter-widgets/controls",
       "_model_module_version": "2.0.0",
       "_model_name": "ProgressStyleModel",
       "_view_count": null,
       "_view_module": "@jupyter-widgets/base",
       "_view_module_version": "2.0.0",
       "_view_name": "StyleView",
       "bar_color": null,
       "description_width": ""
      }
     },
     "a006aace586547ed8cbe88468aa724d1": {
      "model_module": "@jupyter-widgets/base",
      "model_module_version": "2.0.0",
      "model_name": "LayoutModel",
      "state": {
       "_model_module": "@jupyter-widgets/base",
       "_model_module_version": "2.0.0",
       "_model_name": "LayoutModel",
       "_view_count": null,
       "_view_module": "@jupyter-widgets/base",
       "_view_module_version": "2.0.0",
       "_view_name": "LayoutView",
       "align_content": null,
       "align_items": null,
       "align_self": null,
       "border_bottom": null,
       "border_left": null,
       "border_right": null,
       "border_top": null,
       "bottom": null,
       "display": null,
       "flex": null,
       "flex_flow": null,
       "grid_area": null,
       "grid_auto_columns": null,
       "grid_auto_flow": null,
       "grid_auto_rows": null,
       "grid_column": null,
       "grid_gap": null,
       "grid_row": null,
       "grid_template_areas": null,
       "grid_template_columns": null,
       "grid_template_rows": null,
       "height": null,
       "justify_content": null,
       "justify_items": null,
       "left": null,
       "margin": null,
       "max_height": null,
       "max_width": null,
       "min_height": null,
       "min_width": null,
       "object_fit": null,
       "object_position": null,
       "order": null,
       "overflow": null,
       "padding": null,
       "right": null,
       "top": null,
       "visibility": null,
       "width": null
      }
     },
     "aef39122424f4c9fa1ac6d72ed18b3a6": {
      "model_module": "@jupyter-widgets/base",
      "model_module_version": "2.0.0",
      "model_name": "LayoutModel",
      "state": {
       "_model_module": "@jupyter-widgets/base",
       "_model_module_version": "2.0.0",
       "_model_name": "LayoutModel",
       "_view_count": null,
       "_view_module": "@jupyter-widgets/base",
       "_view_module_version": "2.0.0",
       "_view_name": "LayoutView",
       "align_content": null,
       "align_items": null,
       "align_self": null,
       "border_bottom": null,
       "border_left": null,
       "border_right": null,
       "border_top": null,
       "bottom": null,
       "display": null,
       "flex": null,
       "flex_flow": null,
       "grid_area": null,
       "grid_auto_columns": null,
       "grid_auto_flow": null,
       "grid_auto_rows": null,
       "grid_column": null,
       "grid_gap": null,
       "grid_row": null,
       "grid_template_areas": null,
       "grid_template_columns": null,
       "grid_template_rows": null,
       "height": null,
       "justify_content": null,
       "justify_items": null,
       "left": null,
       "margin": null,
       "max_height": null,
       "max_width": null,
       "min_height": null,
       "min_width": null,
       "object_fit": null,
       "object_position": null,
       "order": null,
       "overflow": null,
       "padding": null,
       "right": null,
       "top": null,
       "visibility": null,
       "width": null
      }
     },
     "d07ab14ba520467985d5a353d69830d6": {
      "model_module": "@jupyter-widgets/controls",
      "model_module_version": "2.0.0",
      "model_name": "HTMLModel",
      "state": {
       "_dom_classes": [],
       "_model_module": "@jupyter-widgets/controls",
       "_model_module_version": "2.0.0",
       "_model_name": "HTMLModel",
       "_view_count": null,
       "_view_module": "@jupyter-widgets/controls",
       "_view_module_version": "2.0.0",
       "_view_name": "HTMLView",
       "description": "",
       "description_allow_html": false,
       "layout": "IPY_MODEL_a006aace586547ed8cbe88468aa724d1",
       "placeholder": "​",
       "style": "IPY_MODEL_056f10fd8d49478fbc19a6eba15dc99a",
       "tabbable": null,
       "tooltip": null,
       "value": "100%"
      }
     },
     "d9ba7907c8e54e488ecbebfab129197f": {
      "model_module": "@jupyter-widgets/base",
      "model_module_version": "2.0.0",
      "model_name": "LayoutModel",
      "state": {
       "_model_module": "@jupyter-widgets/base",
       "_model_module_version": "2.0.0",
       "_model_name": "LayoutModel",
       "_view_count": null,
       "_view_module": "@jupyter-widgets/base",
       "_view_module_version": "2.0.0",
       "_view_name": "LayoutView",
       "align_content": null,
       "align_items": null,
       "align_self": null,
       "border_bottom": null,
       "border_left": null,
       "border_right": null,
       "border_top": null,
       "bottom": null,
       "display": null,
       "flex": null,
       "flex_flow": null,
       "grid_area": null,
       "grid_auto_columns": null,
       "grid_auto_flow": null,
       "grid_auto_rows": null,
       "grid_column": null,
       "grid_gap": null,
       "grid_row": null,
       "grid_template_areas": null,
       "grid_template_columns": null,
       "grid_template_rows": null,
       "height": null,
       "justify_content": null,
       "justify_items": null,
       "left": null,
       "margin": null,
       "max_height": null,
       "max_width": null,
       "min_height": null,
       "min_width": null,
       "object_fit": null,
       "object_position": null,
       "order": null,
       "overflow": null,
       "padding": null,
       "right": null,
       "top": null,
       "visibility": null,
       "width": null
      }
     },
     "f6708675a4744c87a2ed5ed0e2c2b5e9": {
      "model_module": "@jupyter-widgets/base",
      "model_module_version": "2.0.0",
      "model_name": "LayoutModel",
      "state": {
       "_model_module": "@jupyter-widgets/base",
       "_model_module_version": "2.0.0",
       "_model_name": "LayoutModel",
       "_view_count": null,
       "_view_module": "@jupyter-widgets/base",
       "_view_module_version": "2.0.0",
       "_view_name": "LayoutView",
       "align_content": null,
       "align_items": null,
       "align_self": null,
       "border_bottom": null,
       "border_left": null,
       "border_right": null,
       "border_top": null,
       "bottom": null,
       "display": null,
       "flex": null,
       "flex_flow": null,
       "grid_area": null,
       "grid_auto_columns": null,
       "grid_auto_flow": null,
       "grid_auto_rows": null,
       "grid_column": null,
       "grid_gap": null,
       "grid_row": null,
       "grid_template_areas": null,
       "grid_template_columns": null,
       "grid_template_rows": null,
       "height": null,
       "justify_content": null,
       "justify_items": null,
       "left": null,
       "margin": null,
       "max_height": null,
       "max_width": null,
       "min_height": null,
       "min_width": null,
       "object_fit": null,
       "object_position": null,
       "order": null,
       "overflow": null,
       "padding": null,
       "right": null,
       "top": null,
       "visibility": null,
       "width": null
      }
     },
     "fc8e62dcd0f94ca8a6a32abf5d949ea4": {
      "model_module": "@jupyter-widgets/controls",
      "model_module_version": "2.0.0",
      "model_name": "FloatProgressModel",
      "state": {
       "_dom_classes": [],
       "_model_module": "@jupyter-widgets/controls",
       "_model_module_version": "2.0.0",
       "_model_name": "FloatProgressModel",
       "_view_count": null,
       "_view_module": "@jupyter-widgets/controls",
       "_view_module_version": "2.0.0",
       "_view_name": "ProgressView",
       "bar_style": "success",
       "description": "",
       "description_allow_html": false,
       "layout": "IPY_MODEL_f6708675a4744c87a2ed5ed0e2c2b5e9",
       "max": 1.0,
       "min": 0.0,
       "orientation": "horizontal",
       "style": "IPY_MODEL_42a54524d0384e17a4f82e02d2492655",
       "tabbable": null,
       "tooltip": null,
       "value": 1.0
      }
     }
    },
    "version_major": 2,
    "version_minor": 0
   }
  }
 },
 "nbformat": 4,
 "nbformat_minor": 5
}