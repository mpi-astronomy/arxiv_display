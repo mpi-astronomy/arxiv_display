{
 "cells": [
  {
   "cell_type": "markdown",
   "id": "92bcb855",
   "metadata": {
    "papermill": {
     "duration": 0.005748,
     "end_time": "2022-11-11T04:24:40.634593",
     "exception": false,
     "start_time": "2022-11-11T04:24:40.628845",
     "status": "completed"
    },
    "tags": []
   },
   "source": [
    "# MPIA Arxiv on Deck 2\n",
    "\n",
    "Contains the steps to produce the paper extractions."
   ]
  },
  {
   "cell_type": "code",
   "execution_count": 1,
   "id": "3a0d6e11",
   "metadata": {
    "execution": {
     "iopub.execute_input": "2022-11-11T04:24:40.645188Z",
     "iopub.status.busy": "2022-11-11T04:24:40.644368Z",
     "iopub.status.idle": "2022-11-11T04:24:40.817416Z",
     "shell.execute_reply": "2022-11-11T04:24:40.816354Z"
    },
    "papermill": {
     "duration": 0.180701,
     "end_time": "2022-11-11T04:24:40.819756",
     "exception": false,
     "start_time": "2022-11-11T04:24:40.639055",
     "status": "completed"
    },
    "tags": []
   },
   "outputs": [],
   "source": [
    "# Imports\n",
    "import os\n",
    "from IPython.display import Markdown, display\n",
    "from tqdm.notebook import tqdm\n",
    "import warnings\n",
    "from PIL import Image \n",
    "\n",
    "# requires arxiv_on_deck_2\n",
    "\n",
    "from arxiv_on_deck_2.arxiv2 import (get_new_papers, \n",
    "                                    get_paper_from_identifier,\n",
    "                                    retrieve_document_source, \n",
    "                                    get_markdown_badge)\n",
    "from arxiv_on_deck_2 import (latex, \n",
    "                             mpia,\n",
    "                             highlight_authors_in_list)\n",
    "\n",
    "# Sometimes images are really big\n",
    "Image.MAX_IMAGE_PIXELS = 1000000000 "
   ]
  },
  {
   "cell_type": "code",
   "execution_count": 2,
   "id": "22aa9d44",
   "metadata": {
    "execution": {
     "iopub.execute_input": "2022-11-11T04:24:40.831720Z",
     "iopub.status.busy": "2022-11-11T04:24:40.831076Z",
     "iopub.status.idle": "2022-11-11T04:24:40.836328Z",
     "shell.execute_reply": "2022-11-11T04:24:40.835676Z"
    },
    "papermill": {
     "duration": 0.012098,
     "end_time": "2022-11-11T04:24:40.837974",
     "exception": false,
     "start_time": "2022-11-11T04:24:40.825876",
     "status": "completed"
    },
    "tags": []
   },
   "outputs": [],
   "source": [
    "# Some useful definitions.\n",
    "\n",
    "class AffiliationWarning(UserWarning):\n",
    "    pass\n",
    "\n",
    "class AffiliationError(RuntimeError):\n",
    "    pass\n",
    "\n",
    "def validation(source: str):\n",
    "    \"\"\"Raises error paper during parsing of source file\n",
    "    \n",
    "    Allows checks before parsing TeX code.\n",
    "    \n",
    "    Raises AffiliationWarning\n",
    "    \"\"\"\n",
    "    check = mpia.affiliation_verifications(source, verbose=True)\n",
    "    if check is not True:\n",
    "        raise AffiliationError(\"mpia.affiliation_verifications: \" + check)\n",
    "\n",
    "        \n",
    "warnings.simplefilter('always', AffiliationWarning)"
   ]
  },
  {
   "cell_type": "code",
   "execution_count": 3,
   "id": "14622700",
   "metadata": {
    "execution": {
     "iopub.execute_input": "2022-11-11T04:24:40.847118Z",
     "iopub.status.busy": "2022-11-11T04:24:40.846682Z",
     "iopub.status.idle": "2022-11-11T04:24:40.850436Z",
     "shell.execute_reply": "2022-11-11T04:24:40.849784Z"
    },
    "papermill": {
     "duration": 0.010311,
     "end_time": "2022-11-11T04:24:40.852182",
     "exception": false,
     "start_time": "2022-11-11T04:24:40.841871",
     "status": "completed"
    },
    "tags": []
   },
   "outputs": [],
   "source": [
    "# additional CSS to consider. \n",
    "# TODO: Current into each exported file. \n",
    "#       This should be set once into the webpages directly.\n",
    "#       With only the class/id definitions in the .md files.\n",
    "\n",
    "debug_html = \"\"\"\n",
    "<style>\n",
    "#wrap{ overflow:auto; }\n",
    "#fig1{ background:yellow; width:100%; float:left; padding:5px;  }\n",
    "#fig2{ background:red; width:50%; float:left; clear:left; padding:5px;  }\n",
    "#fig3{ background:green; width:50%; float:left; padding:5px;   }\n",
    ".macros{ background:yellow; visibility:visible;}\n",
    "h1 {margin: 0 0 0 0;}\n",
    "mark {background-color:#fff3b6;}\n",
    "img {object-fit:contain; max-height:250px; display:inline-block; text-align: center;}\n",
    "</style>\n",
    "\"\"\" \n",
    "html = \"\"\"\n",
    "<style>\n",
    "#wrap{ overflow:auto; }\n",
    "#fig1{ width:100%; float:left; padding: 5px;  }\n",
    "#fig2{ width:50%; float:left; clear:left; padding: 5px;  }\n",
    "#fig3{ width:50%; float:left; padding: 5px;  }\n",
    ".macros{ visibility:hidden; height:0px; }\n",
    "h1 {margin: 0em 0 0 0;}\n",
    "mark {background-color:#fff3b6;}\n",
    "img {object-fit:contain; max-height:250px; display:inline-block; text-align: center;}\n",
    "</style>\n",
    "\"\"\""
   ]
  },
  {
   "cell_type": "markdown",
   "id": "14bd6310",
   "metadata": {
    "papermill": {
     "duration": 0.003889,
     "end_time": "2022-11-11T04:24:40.859898",
     "exception": false,
     "start_time": "2022-11-11T04:24:40.856009",
     "status": "completed"
    },
    "tags": []
   },
   "source": [
    "## get list of arxiv paper candidates\n",
    "\n",
    "We use the MPIA mitarbeiter list webpage from mpia.de to get author names\n",
    "We then get all new papers from Arxiv and match authors"
   ]
  },
  {
   "cell_type": "code",
   "execution_count": 4,
   "id": "2645e73a",
   "metadata": {
    "execution": {
     "iopub.execute_input": "2022-11-11T04:24:40.869139Z",
     "iopub.status.busy": "2022-11-11T04:24:40.868638Z",
     "iopub.status.idle": "2022-11-11T04:25:03.540435Z",
     "shell.execute_reply": "2022-11-11T04:25:03.539552Z"
    },
    "papermill": {
     "duration": 22.678308,
     "end_time": "2022-11-11T04:25:03.542105",
     "exception": false,
     "start_time": "2022-11-11T04:24:40.863797",
     "status": "completed"
    },
    "tags": []
   },
   "outputs": [
    {
     "name": "stdout",
     "output_type": "stream",
     "text": [
      "Arxiv has 47 new papers today\n",
      "          25 with possible author matches\n"
     ]
    }
   ],
   "source": [
    "# get list from MPIA website\n",
    "# it automatically filters identified non-scientists :func:`mpia.filter_non_scientists`\n",
    "mpia_authors = mpia.get_mpia_mitarbeiter_list()\n",
    "new_papers = get_new_papers()\n",
    "# add manual references\n",
    "add_paper_refs = []\n",
    "new_papers.extend([get_paper_from_identifier(k) for k in add_paper_refs])\n",
    "\n",
    "# select only papers with matching author names and highlight authors\n",
    "hl_list = [k[0] for k in mpia_authors]\n",
    "\n",
    "candidates = []\n",
    "for paperk in new_papers:\n",
    "    hl_authors = highlight_authors_in_list(paperk['authors'], hl_list)\n",
    "    matches = [(hl, orig) for hl, orig in zip(hl_authors, paperk['authors']) if 'mark' in hl]\n",
    "    paperk['authors'] = hl_authors\n",
    "    if matches:\n",
    "        candidates.append(paperk)\n",
    "print(\"\"\"Arxiv has {0:,d} new papers today\"\"\".format(len(new_papers)))        \n",
    "print(\"\"\"          {0:,d} with possible author matches\"\"\".format(len(candidates)))"
   ]
  },
  {
   "cell_type": "markdown",
   "id": "3543b34a",
   "metadata": {
    "papermill": {
     "duration": 0.004224,
     "end_time": "2022-11-11T04:25:03.550807",
     "exception": false,
     "start_time": "2022-11-11T04:25:03.546583",
     "status": "completed"
    },
    "tags": []
   },
   "source": [
    "# Parse sources and generate relevant outputs\n",
    "\n",
    "From the candidates, we do the following steps:\n",
    "* get their tarball from ArXiv (and extract data)\n",
    "* find the main .tex file: find one with \\documentclass{...} (sometimes it's non trivial)\n",
    "* Check affiliations with :func:`validation`, which uses :func:`mpia.affiliation_verifications`\n",
    "* If passing the affiliations: we parse the .tex source\n",
    "   * inject sub-documents into the main (flatten the main document)\n",
    "   * parse structure, extract information (title, abstract, authors, figures...)\n",
    "   * handles `\\graphicspath` if provided\n",
    "* Generate the .md document."
   ]
  },
  {
   "cell_type": "code",
   "execution_count": 5,
   "id": "9576b79e",
   "metadata": {
    "execution": {
     "iopub.execute_input": "2022-11-11T04:25:03.560414Z",
     "iopub.status.busy": "2022-11-11T04:25:03.559990Z",
     "iopub.status.idle": "2022-11-11T04:25:27.941384Z",
     "shell.execute_reply": "2022-11-11T04:25:27.940789Z"
    },
    "papermill": {
     "duration": 24.38926,
     "end_time": "2022-11-11T04:25:27.944052",
     "exception": false,
     "start_time": "2022-11-11T04:25:03.554792",
     "status": "completed"
    },
    "scrolled": false,
    "tags": []
   },
   "outputs": [
    {
     "data": {
      "application/vnd.jupyter.widget-view+json": {
       "model_id": "ea1f5753f7e549f1a06c513e8299d8e3",
       "version_major": 2,
       "version_minor": 0
      },
      "text/plain": [
       "  0%|          | 0/24 [00:00<?, ?it/s]"
      ]
     },
     "metadata": {},
     "output_type": "display_data"
    },
    {
     "name": "stdout",
     "output_type": "stream",
     "text": [
      "Retrieving document from  https://arxiv.org/e-print/2211.05131\n"
     ]
    },
    {
     "name": "stdout",
     "output_type": "stream",
     "text": [
      "extracting tarball to tmp_2211.05131..."
     ]
    },
    {
     "name": "stdout",
     "output_type": "stream",
     "text": [
      " done.\n",
      "Retrieving document from  https://arxiv.org/e-print/2211.05134\n"
     ]
    },
    {
     "name": "stdout",
     "output_type": "stream",
     "text": [
      "extracting tarball to tmp_2211.05134..."
     ]
    },
    {
     "name": "stdout",
     "output_type": "stream",
     "text": [
      " done.\n",
      "Retrieving document from  https://arxiv.org/e-print/2211.05141\n"
     ]
    },
    {
     "name": "stderr",
     "output_type": "stream",
     "text": [
      "/opt/hostedtoolcache/Python/3.9.15/x64/lib/python3.9/site-packages/IPython/core/interactiveshell.py:3433: LatexWarning: Multiple tex files.\n",
      "\n",
      "  exec(code_obj, self.user_global_ns, self.user_ns)\n",
      "/opt/hostedtoolcache/Python/3.9.15/x64/lib/python3.9/site-packages/IPython/core/interactiveshell.py:3433: LatexWarning: Found documentclass in tmp_2211.05134/main.tex\n",
      "\n",
      "  exec(code_obj, self.user_global_ns, self.user_ns)\n"
     ]
    },
    {
     "name": "stdout",
     "output_type": "stream",
     "text": [
      "extracting tarball to tmp_2211.05141..."
     ]
    },
    {
     "name": "stdout",
     "output_type": "stream",
     "text": [
      " done.\n",
      "Retrieving document from  https://arxiv.org/e-print/2211.05150\n"
     ]
    },
    {
     "name": "stderr",
     "output_type": "stream",
     "text": [
      "/opt/hostedtoolcache/Python/3.9.15/x64/lib/python3.9/site-packages/IPython/core/interactiveshell.py:3433: LatexWarning: Multiple tex files.\n",
      "\n",
      "  exec(code_obj, self.user_global_ns, self.user_ns)\n",
      "/opt/hostedtoolcache/Python/3.9.15/x64/lib/python3.9/site-packages/IPython/core/interactiveshell.py:3433: LatexWarning: Found documentclass in tmp_2211.05141/main.tex\n",
      "\n",
      "  exec(code_obj, self.user_global_ns, self.user_ns)\n",
      "/opt/hostedtoolcache/Python/3.9.15/x64/lib/python3.9/site-packages/arxiv_on_deck_2/latex.py:292: LatexWarning: Latex injecting: 'table_spec_properties' from 'tmp_2211.05141/table_spec_properties.tex'\n",
      "  warnings.warn(LatexWarning(f\"Latex injecting: '{ext}' from '{subsource}'\"))\n",
      "/opt/hostedtoolcache/Python/3.9.15/x64/lib/python3.9/site-packages/arxiv_on_deck_2/latex.py:292: LatexWarning: Latex injecting: 'table_phot_properties' from 'tmp_2211.05141/table_phot_properties.tex'\n",
      "  warnings.warn(LatexWarning(f\"Latex injecting: '{ext}' from '{subsource}'\"))\n",
      "/opt/hostedtoolcache/Python/3.9.15/x64/lib/python3.9/site-packages/arxiv_on_deck_2/latex.py:292: LatexWarning: Latex injecting: 'table_spectral_log' from 'tmp_2211.05141/table_spectral_log.tex'\n",
      "  warnings.warn(LatexWarning(f\"Latex injecting: '{ext}' from '{subsource}'\"))\n",
      "/opt/hostedtoolcache/Python/3.9.15/x64/lib/python3.9/site-packages/arxiv_on_deck_2/latex.py:292: LatexWarning: Latex injecting: 'table_candidates_spec' from 'tmp_2211.05141/table_candidates_spec.tex'\n",
      "  warnings.warn(LatexWarning(f\"Latex injecting: '{ext}' from '{subsource}'\"))\n",
      "/opt/hostedtoolcache/Python/3.9.15/x64/lib/python3.9/site-packages/arxiv_on_deck_2/latex.py:292: LatexWarning: Latex injecting: 'authors.tex' from 'tmp_2211.05141/authors.tex'\n",
      "  warnings.warn(LatexWarning(f\"Latex injecting: '{ext}' from '{subsource}'\"))\n",
      "/opt/hostedtoolcache/Python/3.9.15/x64/lib/python3.9/site-packages/arxiv_on_deck_2/latex.py:292: LatexWarning: Latex injecting: 'authors.tex' from 'tmp_2211.05141/authors.tex'\n",
      "  warnings.warn(LatexWarning(f\"Latex injecting: '{ext}' from '{subsource}'\"))\n",
      "/opt/hostedtoolcache/Python/3.9.15/x64/lib/python3.9/site-packages/arxiv_on_deck_2/latex.py:292: LatexWarning: Latex injecting: 'journals.tex' from 'tmp_2211.05141/journals.tex'\n",
      "  warnings.warn(LatexWarning(f\"Latex injecting: '{ext}' from '{subsource}'\"))\n"
     ]
    },
    {
     "name": "stdout",
     "output_type": "stream",
     "text": [
      "extracting tarball to tmp_2211.05150..."
     ]
    },
    {
     "name": "stdout",
     "output_type": "stream",
     "text": [
      " done.\n",
      "Retrieving document from  https://arxiv.org/e-print/2211.05155\n"
     ]
    },
    {
     "name": "stderr",
     "output_type": "stream",
     "text": [
      "/tmp/ipykernel_2234/4030337529.py:34: LatexWarning: 2211.05155 did not run properly\n",
      "not a gzip file\n",
      "  warnings.warn(latex.LatexWarning(f\"{paper_id:s} did not run properly\\n\" +\n"
     ]
    },
    {
     "name": "stdout",
     "output_type": "stream",
     "text": [
      "Retrieving document from  https://arxiv.org/e-print/2211.05196\n"
     ]
    },
    {
     "name": "stdout",
     "output_type": "stream",
     "text": [
      "extracting tarball to tmp_2211.05196..."
     ]
    },
    {
     "name": "stdout",
     "output_type": "stream",
     "text": [
      " done.\n",
      "Retrieving document from  https://arxiv.org/e-print/2211.05209\n"
     ]
    },
    {
     "name": "stderr",
     "output_type": "stream",
     "text": [
      "/opt/hostedtoolcache/Python/3.9.15/x64/lib/python3.9/site-packages/IPython/core/interactiveshell.py:3433: LatexWarning: Multiple tex files.\n",
      "\n",
      "  exec(code_obj, self.user_global_ns, self.user_ns)\n",
      "/opt/hostedtoolcache/Python/3.9.15/x64/lib/python3.9/site-packages/IPython/core/interactiveshell.py:3433: LatexWarning: Found documentclass in tmp_2211.05196/k102.tex\n",
      "\n",
      "  exec(code_obj, self.user_global_ns, self.user_ns)\n"
     ]
    },
    {
     "name": "stdout",
     "output_type": "stream",
     "text": [
      "extracting tarball to tmp_2211.05209..."
     ]
    },
    {
     "name": "stdout",
     "output_type": "stream",
     "text": [
      " done.\n",
      "Retrieving document from  https://arxiv.org/e-print/2211.05219\n"
     ]
    },
    {
     "name": "stdout",
     "output_type": "stream",
     "text": [
      "extracting tarball to tmp_2211.05219..."
     ]
    },
    {
     "name": "stdout",
     "output_type": "stream",
     "text": [
      " done.\n",
      "Retrieving document from  https://arxiv.org/e-print/2211.05253\n"
     ]
    },
    {
     "name": "stdout",
     "output_type": "stream",
     "text": [
      "extracting tarball to tmp_2211.05253..."
     ]
    },
    {
     "name": "stdout",
     "output_type": "stream",
     "text": [
      " done.\n",
      "Retrieving document from  https://arxiv.org/e-print/2211.05258\n"
     ]
    },
    {
     "name": "stdout",
     "output_type": "stream",
     "text": [
      "extracting tarball to tmp_2211.05258..."
     ]
    },
    {
     "name": "stdout",
     "output_type": "stream",
     "text": [
      " done.\n",
      "Retrieving document from  https://arxiv.org/e-print/2211.05275\n"
     ]
    },
    {
     "name": "stdout",
     "output_type": "stream",
     "text": [
      "extracting tarball to tmp_2211.05275... done.\n",
      "Retrieving document from  https://arxiv.org/e-print/2211.05283\n"
     ]
    },
    {
     "name": "stdout",
     "output_type": "stream",
     "text": [
      "extracting tarball to tmp_2211.05283..."
     ]
    },
    {
     "name": "stdout",
     "output_type": "stream",
     "text": [
      " done.\n",
      "Retrieving document from  https://arxiv.org/e-print/2211.05366\n"
     ]
    },
    {
     "name": "stdout",
     "output_type": "stream",
     "text": [
      "extracting tarball to tmp_2211.05366..."
     ]
    },
    {
     "name": "stdout",
     "output_type": "stream",
     "text": [
      " done.\n",
      "Retrieving document from  https://arxiv.org/e-print/2211.05386\n"
     ]
    },
    {
     "name": "stdout",
     "output_type": "stream",
     "text": [
      "extracting tarball to tmp_2211.05386..."
     ]
    },
    {
     "name": "stdout",
     "output_type": "stream",
     "text": [
      " done.\n",
      "Retrieving document from  https://arxiv.org/e-print/2211.05468\n"
     ]
    },
    {
     "name": "stdout",
     "output_type": "stream",
     "text": [
      "extracting tarball to tmp_2211.05468... done.\n",
      "Retrieving document from  https://arxiv.org/e-print/2211.05512\n"
     ]
    },
    {
     "name": "stdout",
     "output_type": "stream",
     "text": [
      "extracting tarball to tmp_2211.05512..."
     ]
    },
    {
     "name": "stdout",
     "output_type": "stream",
     "text": [
      " done.\n",
      "Retrieving document from  https://arxiv.org/e-print/2211.05573\n"
     ]
    },
    {
     "name": "stdout",
     "output_type": "stream",
     "text": [
      "extracting tarball to tmp_2211.05573... done.\n",
      "Retrieving document from  https://arxiv.org/e-print/2211.05586\n"
     ]
    },
    {
     "name": "stderr",
     "output_type": "stream",
     "text": [
      "/opt/hostedtoolcache/Python/3.9.15/x64/lib/python3.9/site-packages/IPython/core/interactiveshell.py:3433: LatexWarning: Multiple tex files.\n",
      "\n",
      "  exec(code_obj, self.user_global_ns, self.user_ns)\n",
      "/opt/hostedtoolcache/Python/3.9.15/x64/lib/python3.9/site-packages/IPython/core/interactiveshell.py:3433: LatexWarning: Found documentclass in tmp_2211.05573/SFR_article.tex\n",
      "\n",
      "  exec(code_obj, self.user_global_ns, self.user_ns)\n",
      "/opt/hostedtoolcache/Python/3.9.15/x64/lib/python3.9/site-packages/arxiv_on_deck_2/latex.py:292: LatexWarning: Latex injecting: 'ksvalues.tex' from 'tmp_2211.05573/ksvalues.tex'\n",
      "  warnings.warn(LatexWarning(f\"Latex injecting: '{ext}' from '{subsource}'\"))\n",
      "/opt/hostedtoolcache/Python/3.9.15/x64/lib/python3.9/site-packages/arxiv_on_deck_2/latex.py:292: LatexWarning: Latex injecting: 'sfrvalues.tex' from 'tmp_2211.05573/sfrvalues.tex'\n",
      "  warnings.warn(LatexWarning(f\"Latex injecting: '{ext}' from '{subsource}'\"))\n"
     ]
    },
    {
     "name": "stdout",
     "output_type": "stream",
     "text": [
      "extracting tarball to tmp_2211.05586..."
     ]
    },
    {
     "name": "stdout",
     "output_type": "stream",
     "text": [
      " done.\n",
      "Retrieving document from  https://arxiv.org/e-print/2211.05646\n"
     ]
    },
    {
     "name": "stdout",
     "output_type": "stream",
     "text": [
      "extracting tarball to tmp_2211.05646..."
     ]
    },
    {
     "name": "stdout",
     "output_type": "stream",
     "text": [
      " done.\n",
      "Retrieving document from  https://arxiv.org/e-print/2211.05685\n"
     ]
    },
    {
     "name": "stdout",
     "output_type": "stream",
     "text": [
      "extracting tarball to tmp_2211.05685... done.\n",
      "Retrieving document from  https://arxiv.org/e-print/2211.05741\n"
     ]
    },
    {
     "name": "stdout",
     "output_type": "stream",
     "text": [
      "extracting tarball to tmp_2211.05741..."
     ]
    },
    {
     "name": "stdout",
     "output_type": "stream",
     "text": [
      " done.\n",
      "Retrieving document from  https://arxiv.org/e-print/2211.05744\n"
     ]
    },
    {
     "name": "stdout",
     "output_type": "stream",
     "text": [
      "extracting tarball to tmp_2211.05744..."
     ]
    },
    {
     "name": "stdout",
     "output_type": "stream",
     "text": [
      " done.\n",
      "Retrieving document from  https://arxiv.org/e-print/2211.05754\n"
     ]
    },
    {
     "name": "stdout",
     "output_type": "stream",
     "text": [
      "extracting tarball to tmp_2211.05754... done.\n",
      "Retrieving document from  https://arxiv.org/e-print/2211.05779\n"
     ]
    },
    {
     "name": "stdout",
     "output_type": "stream",
     "text": [
      "extracting tarball to tmp_2211.05779..."
     ]
    },
    {
     "name": "stdout",
     "output_type": "stream",
     "text": [
      " done.\n"
     ]
    },
    {
     "name": "stderr",
     "output_type": "stream",
     "text": [
      "/opt/hostedtoolcache/Python/3.9.15/x64/lib/python3.9/site-packages/IPython/core/interactiveshell.py:3433: LatexWarning: Multiple tex files.\n",
      "\n",
      "  exec(code_obj, self.user_global_ns, self.user_ns)\n",
      "/opt/hostedtoolcache/Python/3.9.15/x64/lib/python3.9/site-packages/IPython/core/interactiveshell.py:3433: LatexWarning: Found documentclass in tmp_2211.05779/MGLenS.tex\n",
      "\n",
      "  exec(code_obj, self.user_global_ns, self.user_ns)\n",
      "/opt/hostedtoolcache/Python/3.9.15/x64/lib/python3.9/site-packages/arxiv_on_deck_2/latex.py:292: LatexWarning: Latex injecting: 'abbrev' from 'tmp_2211.05779/abbrev.tex'\n",
      "  warnings.warn(LatexWarning(f\"Latex injecting: '{ext}' from '{subsource}'\"))\n"
     ]
    }
   ],
   "source": [
    "documents = []\n",
    "failed = []\n",
    "for paper in tqdm(candidates[:-1]):\n",
    "    paper_id = paper['identifier'].lower().replace('arxiv:', '')\n",
    "    \n",
    "    folder = f'tmp_{paper_id}'\n",
    "\n",
    "    try:\n",
    "        if not os.path.isdir(folder):\n",
    "            folder = retrieve_document_source(f\"{paper_id}\", f'tmp_{paper_id}')\n",
    "        \n",
    "        try:\n",
    "            doc = latex.LatexDocument(folder, validation=validation)    \n",
    "        except AffiliationError as affilerror:\n",
    "            msg = f\"ArXiv:{paper_id:s} is not an MPIA paper... \" + str(affilerror)\n",
    "            failed.append((paper, \"affiliation error: \" + str(affilerror) ))\n",
    "            continue\n",
    "        \n",
    "        # Hack because sometimes author parsing does not work well\n",
    "        if (len(doc.authors) != len(paper['authors'])):\n",
    "            doc._authors = paper['authors']\n",
    "        if (doc.abstract) in (None, ''):\n",
    "            doc._abstract = paper['abstract']\n",
    "            \n",
    "        doc.comment = (get_markdown_badge(paper_id) + \n",
    "                       \"<mark>Appeared on: \" + paper['date'] + \"</mark> - \" +\n",
    "                       \"_\" + paper['comments'] + \"_\")\n",
    "        doc.highlight_authors_in_list(hl_list)\n",
    "\n",
    "        full_md = doc.generate_markdown_text()\n",
    "        \n",
    "        documents.append((paper_id, full_md))\n",
    "    except Exception as e:\n",
    "        warnings.warn(latex.LatexWarning(f\"{paper_id:s} did not run properly\\n\" +\n",
    "                                         str(e)\n",
    "                                        ))\n",
    "        failed.append((paper, \"latex error \" + str(e)))"
   ]
  },
  {
   "cell_type": "markdown",
   "id": "2505a25c",
   "metadata": {
    "papermill": {
     "duration": 0.00678,
     "end_time": "2022-11-11T04:25:27.957928",
     "exception": false,
     "start_time": "2022-11-11T04:25:27.951148",
     "status": "completed"
    },
    "tags": []
   },
   "source": [
    "### Export the logs\n",
    "\n",
    "Throughout, we also keep track of the logs per paper. see `logs-{today date}.md` "
   ]
  },
  {
   "cell_type": "code",
   "execution_count": 6,
   "id": "d733828a",
   "metadata": {
    "execution": {
     "iopub.execute_input": "2022-11-11T04:25:27.973404Z",
     "iopub.status.busy": "2022-11-11T04:25:27.972831Z",
     "iopub.status.idle": "2022-11-11T04:25:28.009422Z",
     "shell.execute_reply": "2022-11-11T04:25:28.008687Z"
    },
    "papermill": {
     "duration": 0.046472,
     "end_time": "2022-11-11T04:25:28.011022",
     "exception": false,
     "start_time": "2022-11-11T04:25:27.964550",
     "status": "completed"
    },
    "scrolled": false,
    "tags": []
   },
   "outputs": [
    {
     "data": {
      "text/markdown": [
       "## Successful papers"
      ],
      "text/plain": [
       "<IPython.core.display.Markdown object>"
      ]
     },
     "metadata": {},
     "output_type": "display_data"
    },
    {
     "data": {
      "text/markdown": [
       "## Failed papers"
      ],
      "text/plain": [
       "<IPython.core.display.Markdown object>"
      ]
     },
     "metadata": {},
     "output_type": "display_data"
    },
    {
     "data": {
      "text/markdown": [
       "\n",
       "|||\n",
       "|---:|:---|\n",
       "| [![arXiv](https://img.shields.io/badge/arXiv-arXiv:2211.05134-b31b1b.svg)](https://arxiv.org/abs/arXiv:2211.05134) | **SN 2022ann: A type Icn supernova from a dwarf galaxy that reveals helium  in its circumstellar environment**  |\n",
       "|| K. W. Davis, et al. -- incl., <mark>V. A. Villar</mark>, <mark>M. E. Huber</mark>, <mark>D. Langeroodi</mark>, <mark>F. R. Herpich</mark>, <mark>C.-C. Lin</mark> |\n",
       "|*Appeared on*| *2022-11-11*|\n",
       "|*Comments*| *21 pages, 13 figures, to be submitted to MNRAS*|\n",
       "|**Abstract**| We present optical and near-infrared (NIR) observations of the Type Icn supernova (SN Icn) 2022ann, the fifth member of its newly identified class of SNe. Its early optical spectra are dominated by narrow carbon and oxygen P-Cygni features with absorption velocities of 800 km/s; slower than other SNe Icn and indicative of interaction with a dense, H/He-poor circumstellar medium (CSM) that is outflowing slower than a typical Wolf-Rayet wind velocity of $>$1000 km/s. We identify helium in NIR spectra obtained two weeks after maximum and in optical spectra at three weeks, demonstrating that the CSM is not fully devoid of helium. We never detect broad spectral features from SN ejecta, including in spectra extending to the nebular phase, a unique characteristic among SNe~Icn. Compared to other SNe Icn, SN 2022ann has a low luminosity, with a peak o-band absolute magnitude of -17.7, and evolves slowly. We model the bolometric light curve and find it is well-described by 1.7 M_Sun of SN ejecta interacting with 0.2 M_sun of CSM. We place an upper limit of 0.04 M_Sun of Ni56 synthesized in the explosion. The host galaxy is a dwarf galaxy with a stellar mass of 10^7.34 M_Sun (implied metallicity of log(Z/Z_Sun) $\\approx$ 0.10) and integrated star-formation rate of log(SFR) = -2.20 M_sun/yr; both lower than 97\\% of the galaxies observed to produce core-collapse supernovae, although consistent with star-forming galaxies on the galaxy Main Sequence. The low CSM velocity, nickel and ejecta masses, and likely low-metallicity environment disfavour a single Wolf-Rayet progenitor star. Instead, a binary companion star is likely required to adequately strip the progenitor before explosion and produce a low-velocity outflow. The low CSM velocity may be indicative of the outer Lagrangian points in the stellar binary progenitor, rather than from the escape velocity of a single Wolf-Rayet-like massive star. |\n",
       "|<p style=\"color:green\"> **ERROR** </p>| <p style=\"color:green\">affiliation error: mpia.affiliation_verifications: '69117' keyword not found.</p> |"
      ],
      "text/plain": [
       "<IPython.core.display.Markdown object>"
      ]
     },
     "metadata": {},
     "output_type": "display_data"
    },
    {
     "data": {
      "text/markdown": [
       "\n",
       "|||\n",
       "|---:|:---|\n",
       "| [![arXiv](https://img.shields.io/badge/arXiv-arXiv:2211.05131-b31b1b.svg)](https://arxiv.org/abs/arXiv:2211.05131) | **Toward Horizon-scale Accretion Onto Supermassive Black Holes in  Elliptical Galaxies**  |\n",
       "|| <mark>Minghao Guo</mark>, James M. Stone, Chang-Goo Kim, Eliot Quataert |\n",
       "|*Appeared on*| *2022-11-11*|\n",
       "|*Comments*| *28 pages, 24 figures, 2 tables, submitted to ApJ, comments are welcome*|\n",
       "|**Abstract**| We present high-resolution, three-dimensional hydrodynamic simulations of the fueling of supermassive black holes in elliptical galaxies from a turbulent medium on galactic scales, taking M87* as a typical case. The simulations use a new GPU-accelerated version of the Athena++ AMR code, and span more than 6 orders of magnitude in radius, reaching scales similar to the black hole horizon. The key physical ingredients are radiative cooling and a phenomenological heating model. We find that the accretion flow takes the form of multiphase gas at radii less than about a kpc. The cold gas accretion includes two dynamically distinct stages: the typical disk stage in which the cold gas resides in a rotationally supported disk and relatively rare chaotic stages ($\\lesssim 10\\%$ of the time) in which the cold gas inflows via chaotic streams. Though cold gas accretion dominates the time-averaged accretion rate at intermediate radii, accretion at the smallest radii is dominated by hot virialized gas at most times. The accretion rate scales with radius as $\\dot{M}\\propto r^{1/2}$ when hot gas dominates and we obtain $\\dot{M}\\simeq10^\\mathrm{-4}-10^\\mathrm{-3}\\,M_\\odot\\,\\mathrm{yr^{-1}}$ near the event horizon, similar to what is inferred from EHT observations. The orientation of the cold gas disk can differ significantly on different spatial scales. We propose a subgrid model for accretion in lower-resolution simulations in which the hot gas accretion rate is suppressed relative to the Bondi rate by $\\sim (r_\\mathrm{g}/r_{\\rm Bondi})^{1/2}$. Our results can also provide more realistic initial conditions for simulations of black hole accretion at the event horizon scale. |\n",
       "|<p style=\"color:green\"> **ERROR** </p>| <p style=\"color:green\">affiliation error: mpia.affiliation_verifications: 'Heidelberg' keyword not found.</p> |"
      ],
      "text/plain": [
       "<IPython.core.display.Markdown object>"
      ]
     },
     "metadata": {},
     "output_type": "display_data"
    },
    {
     "data": {
      "text/markdown": [
       "\n",
       "|||\n",
       "|---:|:---|\n",
       "| [![arXiv](https://img.shields.io/badge/arXiv-arXiv:2211.05141-b31b1b.svg)](https://arxiv.org/abs/arXiv:2211.05141) | **Volumetric rates of Luminous Red Novae and Intermediate Luminosity Red  Transients with the Zwicky Transient Facility**  |\n",
       "|| Viraj R. Karambelkar, et al. -- incl., <mark>George Helou</mark>, <mark>Frank J. Masci</mark>, <mark>Yashvi Sharma</mark>, <mark>Chaoran Zhang</mark> |\n",
       "|*Appeared on*| *2022-11-11*|\n",
       "|*Comments*| *32 pages, 16 figures. Submitted to ApJ, comments welcome*|\n",
       "|**Abstract**| Luminous red novae (LRNe) are transients characterized by low luminosities and expansion velocities, and are associated with mergers or common envelope ejections in stellar binaries. Intermediate-luminosity red transients (ILRTs) are an observationally similar class with unknown origins, but generally believed to either be electron capture supernovae (ECSN) in super-AGB stars, or outbursts in dusty luminous blue variables (LBVs). In this paper, we present a systematic sample of 8 LRNe and 8 ILRTs detected as part of the Census of the Local Universe (CLU) experiment on the Zwicky Transient Facility (ZTF). The CLU experiment spectroscopically classifies ZTF transients associated with nearby ($<150$ Mpc) galaxies, achieving 80% completeness for m$_{r}<20$\\,mag. Using the ZTF-CLU sample, we derive the first systematic LRNe volumetric-rate of 7.8$^{+6.5}_{-3.7}\\times10^{-5}$ Mpc$^{-3}$ yr$^{-1}$ in the luminosity range $-16\\leq$M$_{\\rm{r}}$$\\leq -11$ mag. We find that in this luminosity range, the LRN rate scales as dN/dL $\\propto L^{-2.5\\pm0.3}$ - significantly steeper than the previously derived scaling of $L^{-1.4\\pm0.3}$ for lower luminosity LRNe (M$_{V}\\geq-10$). The steeper power law for LRNe at high luminosities is consistent with the massive merger rates predicted by binary population synthesis models. We find that the rates of the brightest LRNe (M$_{r}\\leq-13$ mag) are consistent with a significant fraction of them being progenitors of double compact objects (DCOs) that merge within a Hubble time. For ILRTs, we derive a volumetric rate of $2.6^{+1.8}_{-1.4}\\times10^{-6}$ Mpc$^{-3}$yr$^{-1}$ for M$_{\\rm{r}}\\leq-13.5$, that scales as dN/dL $\\propto L^{-2.5\\pm0.5}$. This rate is $\\approx1-5\\%$ of the local core-collapse supernova rate, and is consistent with theoretical ECSN rate estimates. |\n",
       "|<p style=\"color:green\"> **ERROR** </p>| <p style=\"color:green\">affiliation error: mpia.affiliation_verifications: 'Heidelberg' keyword not found.</p> |"
      ],
      "text/plain": [
       "<IPython.core.display.Markdown object>"
      ]
     },
     "metadata": {},
     "output_type": "display_data"
    },
    {
     "data": {
      "text/markdown": [
       "\n",
       "|||\n",
       "|---:|:---|\n",
       "| [![arXiv](https://img.shields.io/badge/arXiv-arXiv:2211.05150-b31b1b.svg)](https://arxiv.org/abs/arXiv:2211.05150) | **A limit on variations in the fine-structure constant from spectra of  nearby Sun-like stars**  |\n",
       "|| Michael T. Murphy, et al. -- incl., <mark>Fan Liu</mark> |\n",
       "|*Appeared on*| *2022-11-11*|\n",
       "|*Comments*| *33 pages, 6 figures. Published in Science (11 November 2022). This is the accepted version which includes 20 pages of Supplementary Materials*|\n",
       "|**Abstract**| The fine structure constant, $\\alpha$, sets the strength of the electromagnetic force. The Standard Model of particle physics provides no explanation for its value, which could potentially vary. The wavelengths of stellar absorption lines depend on $\\alpha$, but are subject to systematic effects owing to astrophysical processes in stellar atmospheres. We measured precise line wavelengths using 17 stars, selected to have almost identical atmospheric properties to those of the Sun (solar twins), which reduces those systematic effects. We found that $\\alpha$ varies by $\\lesssim$50 parts-per-billion (ppb) within 50 parsecs from Earth. Combining the results from all 17 stars provides an empirical, local reference for stellar measurements of $\\alpha$ with an ensemble precision of 12 ppb. |\n",
       "|<p style=\"color:green\"> **ERROR** </p>| <p style=\"color:green\">affiliation error: mpia.affiliation_verifications: 'Heidelberg' keyword not found.</p> |"
      ],
      "text/plain": [
       "<IPython.core.display.Markdown object>"
      ]
     },
     "metadata": {},
     "output_type": "display_data"
    },
    {
     "data": {
      "text/markdown": [
       "\n",
       "|||\n",
       "|---:|:---|\n",
       "| [![arXiv](https://img.shields.io/badge/arXiv-arXiv:2211.05196-b31b1b.svg)](https://arxiv.org/abs/arXiv:2211.05196) | **Kepler-102: Masses and Compositions for a Super-Earth and Sub-Neptune  Orbiting an Active Star**  |\n",
       "|| Casey Brinkman, et al. -- incl., <mark>Daniel Huber</mark> |\n",
       "|*Appeared on*| *2022-11-11*|\n",
       "|*Comments*| *Accepted to AJ 11/08/2022*|\n",
       "|**Abstract**| Radial velocity (RV) measurements of transiting multiplanet systems allow us to understand the densities and compositions of planets unlike those in the Solar System. Kepler-102, which consists of 5 tightly packed transiting planets, is a particularly interesting system since it includes a super-Earth (Kepler-102d) and a sub-Neptune-sized planet (Kepler-102e) for which masses can be measured using radial velocities. Previous work found a high density for Kepler-102d, suggesting a composition similar to that of Mercury, while Kepler-102e was found to have a density typical of sub-Neptune size planets; however, Kepler-102 is an active star, which can interfere with RV mass measurements. To better measure the mass of these two planets, we obtained 111 new RVs using Keck/HIRES and TNG/HARPS-N and modeled Kepler-102's activity using quasi-periodic Gaussian Process Regression. For Kepler-102d, we report a mass upper limit of M$_{d} < $5.3 M$_{\\oplus}$ [95\\% confidence], a best-fit mass of M$_{d}$=2.5 $\\pm$ 1.4 M$_{\\oplus}$, and a density of $\\rho_{d}$=5.6 $\\pm$ 3.2 g/cm$^{3}$ which is consistent with a rocky composition similar in density to the Earth. For Kepler-102e we report a mass of M$_{e}$=4.7 $\\pm$ 1.7 M$_{\\oplus}$ and a density of $\\rho_{e}$=1.8 $\\pm$ 0.7 g/cm$^{3}$. These measurements suggest that Kepler-102e has a rocky core with a thick gaseous envelope comprising 2-4% of the planet mass and 16-50% of its radius. Our study is yet another demonstration that accounting for stellar activity in stars with clear rotation signals can yield more accurate planet masses, enabling a more realistic interpretation of planet interiors. |\n",
       "|<p style=\"color:green\"> **ERROR** </p>| <p style=\"color:green\">affiliation error: mpia.affiliation_verifications: 'Heidelberg' keyword not found.</p> |"
      ],
      "text/plain": [
       "<IPython.core.display.Markdown object>"
      ]
     },
     "metadata": {},
     "output_type": "display_data"
    },
    {
     "data": {
      "text/markdown": [
       "\n",
       "|||\n",
       "|---:|:---|\n",
       "| [![arXiv](https://img.shields.io/badge/arXiv-arXiv:2211.05209-b31b1b.svg)](https://arxiv.org/abs/arXiv:2211.05209) | **Resolving the Emission Regions of the Crab Pulsar's Giant Pulses II.  Evidence for Relativistic Motion**  |\n",
       "|| <mark>Rebecca Lin</mark>, et al. -- incl., <mark>Nikhil Mahajan</mark>, <mark>Ue-Li Pen</mark> |\n",
       "|*Appeared on*| *2022-11-11*|\n",
       "|*Comments*| *29 pages, 18 figures, submitted to ApJ*|\n",
       "|**Abstract**| The Crab Pulsar is the prime example of an emitter of giant pulses. These short, very bright pulses are thought to originate near the light cylinder, at $\\sim\\!1600{\\rm\\;km}$ from the pulsar. The pulsar's location inside the Crab Nebula offers an unusual opportunity to resolve the emission regions, using the nebula, which scatters radio waves, as a lens. We attempt to do this using a sample of 61998 giant pulses found in coherently combined European VLBI network observations at $18{\\rm\\;cm}$. These were taken at times of relatively strong scattering and hence good effective resolution, and from correlations between pulse spectra, we show that the giant pulse emission regions are indeed resolved. We infer apparent diameters of $\\sim\\!2000$ and $\\sim\\!2400{\\rm\\;km}$ for the main and interpulse components, respectively, and show that with these sizes the correlation amplitudes and decorrelation timescales and bandwidths can be understood quantitatively, both in our observations and in previous ones. Using pulse-spectra statistics and correlations between polarizations, we also show that the nebula resolves the nanoshots that comprise individual giant pulses. The implied diameters of $\\sim\\!1100{\\rm\\;km}$ far exceed light travel-time estimates, suggesting the emitting plasma is moving relativistically, with $\\gamma\\simeq10^{4}$, as inferred previously from drifting bands during the scattering tail of a giant pulse. If so, the emission happens over a region extended along the line of sight by $\\sim\\!10^{7}{\\rm\\;km}$. We conclude that relativistic motion likely is important for producing giant pulses, and may be similarly for other sources of short, bright radio emission, such as fast radio bursts. |\n",
       "|<p style=\"color:green\"> **ERROR** </p>| <p style=\"color:green\">affiliation error: mpia.affiliation_verifications: 'Heidelberg' keyword not found.</p> |"
      ],
      "text/plain": [
       "<IPython.core.display.Markdown object>"
      ]
     },
     "metadata": {},
     "output_type": "display_data"
    },
    {
     "data": {
      "text/markdown": [
       "\n",
       "|||\n",
       "|---:|:---|\n",
       "| [![arXiv](https://img.shields.io/badge/arXiv-arXiv:2211.05219-b31b1b.svg)](https://arxiv.org/abs/arXiv:2211.05219) | **Using Physics Informed Neural Networks for Supernova Radiative Transfer  Simulation**  |\n",
       "|| Xingzhuo Chen, et al. -- incl., <mark>Lifan Wang</mark> |\n",
       "|*Appeared on*| *2022-11-11*|\n",
       "|*Comments*| **|\n",
       "|**Abstract**| We use physics informed neural networks (PINNs) to solve the radiative transfer equation and calculate a synthetic spectrum for a Type Ia supernova (SN~Ia) SN 2011fe. The calculation is based on local thermodynamic equilibrium (LTE) and 9 elements are included. Physical processes included are approximate radiative equilibrium, bound-bound transitions, and the Doppler effect. A PINN based gamma-ray scattering approximation is used for radioactive decay energy deposition. The PINN synthetic spectrum is compared to an observed spectrum, a synthetic spectrum calculated by the Monte-Carlo radiative transfer program TARDIS, and the formal solution of the radiative transfer equation. We discuss the challenges and potential of this deep-learning based radiative transfer equation solver. In fact, PINNs offer the prospect of simultaneous solution of the atmosphere problem for both radiation field and thermal state throughout spacetime. We have made modest steps to realizing that prospect with our calculations which required many approximations in order to be feasible at this point in the development of PINN atmosphere solutions. |\n",
       "|<p style=\"color:green\"> **ERROR** </p>| <p style=\"color:green\">affiliation error: mpia.affiliation_verifications: 'Heidelberg' keyword not found.</p> |"
      ],
      "text/plain": [
       "<IPython.core.display.Markdown object>"
      ]
     },
     "metadata": {},
     "output_type": "display_data"
    },
    {
     "data": {
      "text/markdown": [
       "\n",
       "|||\n",
       "|---:|:---|\n",
       "| [![arXiv](https://img.shields.io/badge/arXiv-arXiv:2211.05253-b31b1b.svg)](https://arxiv.org/abs/arXiv:2211.05253) | **Saturn's atmospheric response to the large influx of ring material  inferred from Cassini INMS measurements**  |\n",
       "|| Julianne I. Moses, et al. -- incl., <mark>Zarah L. Brown</mark>, <mark>Joseph Serigano</mark>, <mark>Ingo Müller-Wodarg</mark> |\n",
       "|*Appeared on*| *2022-11-11*|\n",
       "|*Comments*| *accepted in Icarus*|\n",
       "|**Abstract**| During the Grand Finale stage of the Cassini mission, organic-rich ring material was discovered to be flowing into Saturn's equatorial upper atmosphere at a surprisingly large rate. Through a series of photochemical models, we have examined the consequences of this ring material on the chemistry of Saturn's neutral and ionized atmosphere. We find that if a substantial fraction of this material enters the atmosphere as vapor or becomes vaporized as the solid ring particles ablate upon atmospheric entry, then the ring-derived vapor would strongly affect the composition of Saturn's ionosphere and neutral stratosphere. Our surveys of Cassini infrared and ultraviolet remote-sensing data from the final few years of the mission, however, reveal none of these predicted chemical consequences. We therefore conclude that either (1) the inferred ring influx represents an anomalous, transient situation that was triggered by some recent dynamical event in the ring system that occurred a few months to a few tens of years before the 2017 end of the Cassini mission, or (2) a large fraction of the incoming material must have been entering the atmosphere as small dust particles less than ~100 nm in radius, rather than as vapor or as large particles that are likely to ablate. Future observations or upper limits for stratospheric neutral species such as HC$_3$N, HCN, and CO$_2$ at infrared wavelengths could shed light on the origin, timing, magnitude, and nature of a possible vapor-rich ring-inflow event. |\n",
       "|<p style=\"color:green\"> **ERROR** </p>| <p style=\"color:green\">affiliation error: mpia.affiliation_verifications: 'Heidelberg' keyword not found.</p> |"
      ],
      "text/plain": [
       "<IPython.core.display.Markdown object>"
      ]
     },
     "metadata": {},
     "output_type": "display_data"
    },
    {
     "data": {
      "text/markdown": [
       "\n",
       "|||\n",
       "|---:|:---|\n",
       "| [![arXiv](https://img.shields.io/badge/arXiv-arXiv:2211.05258-b31b1b.svg)](https://arxiv.org/abs/arXiv:2211.05258) | **Examining the Rotation Period Distribution of the 40 Myr  Tucana-Horologium Association with TESS**  |\n",
       "|| Mark Popinchalk, et al. -- incl., <mark>Lisseth Gonzales</mark> |\n",
       "|*Appeared on*| *2022-11-11*|\n",
       "|*Comments*| *27 pages, 12 figures*|\n",
       "|**Abstract**| The Tucana-Horologium Association (Tuc-Hor) is a 40 Myr old moving group in the southern sky. In this work, we measure the rotation periods of 313 Tuc-Hor objects with TESS light curves derived from TESS full frame images and membership lists driven by Gaia EDR3 kinematics and known youth indicators. We recover a period for 81.4% of the sample and report 255 rotaion periods for Tuc-Hor objects. From these objects we identify 11 candidate binaries based on multiple periodic signals or outlier Gaia DR2 and EDR3 re-normalised unit weight error (RUWE) values. We also identify three new complex rotators (rapidly rotating M dwarf objects with intricate light curve morphology) within our sample. Along with the six previously known complex rotators that belong to Tuc-Hor, we compare their light curve morphology between TESS Cycle 1 and Cycle 3 and find they change substantially. Furthermore, we provide context for the entire Tuc-Hor rotation sample by describing the rotation period distributions alongside other youth indicators such as H{\\alpha} and Li equivalent width, as well as near ultra-violet and X ray flux. We find that measuring rotation periods with TESS to be a fast and effective means to confirm members in young moving groups. |\n",
       "|<p style=\"color:green\"> **ERROR** </p>| <p style=\"color:green\">affiliation error: mpia.affiliation_verifications: 'Heidelberg' keyword not found.</p> |"
      ],
      "text/plain": [
       "<IPython.core.display.Markdown object>"
      ]
     },
     "metadata": {},
     "output_type": "display_data"
    },
    {
     "data": {
      "text/markdown": [
       "\n",
       "|||\n",
       "|---:|:---|\n",
       "| [![arXiv](https://img.shields.io/badge/arXiv-arXiv:2211.05275-b31b1b.svg)](https://arxiv.org/abs/arXiv:2211.05275) | **AGN quenching in simulated dwarf galaxies**  |\n",
       "|| <mark>Ray S. Sharma</mark>, et al. |\n",
       "|*Appeared on*| *2022-11-11*|\n",
       "|*Comments*| *23 pages, 11 figures; submitted to ApJ*|\n",
       "|**Abstract**| We examine the quenching characteristics of $328$ isolated dwarf galaxies $\\left(10^{8} < M_{\\rm star}/M_\\odot < 10^{10} \\right)$ within the \\Rom{} cosmological hydrodynamic simulation. Using mock observation methods, we identify isolated dwarf galaxies with quenched star formation and make direct comparisons to the quenched fraction in the NASA Sloan Atlas (NSA). Similar to other cosmological simulations, we find a population of quenched, isolated dwarf galaxies below $M_{\\rm star} < 10^{9} M_\\odot$ not detected within the NSA. We find that the presence of massive black holes (MBHs) in \\Rom{} is largely responsible for the quenched, isolated dwarfs, while isolated dwarfs without an MBH are consistent with quiescent fractions observed in the field. Quenching occurs between $z=0.5-1$, during which the available supply of star-forming gas is heated or evacuated by MBH feedback. Mergers or interactions seem to play little to no role in triggering the MBH feedback. At low stellar masses, $M_{\\rm star} \\lesssim 10^{9.3} M_\\odot$, quenching proceeds across several Gyr as the MBH slowly heats up gas in the central regions. At higher stellar masses, $M_{\\rm star} \\gtrsim 10^{9.3} M_\\odot$, quenching occurs rapidly within $1$ Gyr, with the MBH evacuating gas from the central few kpc of the galaxy and driving it to the outskirts of the halo. Our results indicate the possibility of substantial star formation suppression via MBH feedback within dwarf galaxies in the field. On the other hand, the apparent over-quenching of dwarf galaxies due to MBH suggests higher resolution and/or better modeling is required for MBHs in dwarfs, and quenched fractions offer the opportunity to constrain current models. |\n",
       "|<p style=\"color:green\"> **ERROR** </p>| <p style=\"color:green\">affiliation error: mpia.affiliation_verifications: 'Heidelberg' keyword not found.</p> |"
      ],
      "text/plain": [
       "<IPython.core.display.Markdown object>"
      ]
     },
     "metadata": {},
     "output_type": "display_data"
    },
    {
     "data": {
      "text/markdown": [
       "\n",
       "|||\n",
       "|---:|:---|\n",
       "| [![arXiv](https://img.shields.io/badge/arXiv-arXiv:2211.05283-b31b1b.svg)](https://arxiv.org/abs/arXiv:2211.05283) | **Detection of $δ$ Scuti pulsators in the eclipsing binaries observed  by TESS**  |\n",
       "|| Chen Xinghao, et al. -- incl., <mark>Cheng Liantao</mark>, <mark>Zhang Xiaobin</mark>, <mark>Li Yan</mark>, <mark>Li Xuzhi</mark> |\n",
       "|*Appeared on*| *2022-11-11*|\n",
       "|*Comments*| *26 pages, 16 figures, 1 table, accepted for publication in ApJS*|\n",
       "|**Abstract**| Based on 2-minute cadence TESS data from sectors 1-50, we report the results of the systematic extraction of $\\delta$ Scuti-type pulsations in the 6431 eclipsing binaries with orbital periods shorter than 13 days. A total number of 242 pulsators were found in those systems, including 143 new discoveries. We examined their pulsation properties based on the H-R diagram and the relationships between the dominant pulsation period $P_{\\rm dom}$, orbital period $P_{\\rm orb}$, and effective temperature $T_{\\rm eff}$. As a consequence, 216 targets are likely $\\delta$ Scuti stars (123 new), 11 likely $\\gamma$ Doradus-$\\delta$ Scuti hybrid stars (8 new), 5 likely $\\beta$ Cephei stars (4 new), 4 likely $\\delta$ Scuti-$\\gamma$ Doradus hybrid stars (3 new), 3 likely Maia stars (3 new), 2 likely pulsating red giants (1 new), and a new unclassified star. As for the 6 new $\\delta$ Scuti pulsators in eclipsing binaries with $P_{\\rm orb}$ $<$ 0.65 days, we found that 3 of them significantly exceed the upper limits of the $P_{\\rm dom}$/$P_{\\rm orb}$ ratio. This may indicate that $P_{\\rm dom}$ and $P_{\\rm orb}$ are uncorrelated for them. Finally, we statistically analyzed the dominant pulsation periods of the 216 $\\delta$ Scuti stars in eclipsing binaries. Those stars concentrate around 225 $\\mu$Hz and the proportion of stars in the high-frequency region is significantly higher than that of single stars, which could be ascribed to the mass transfer process. |\n",
       "|<p style=\"color:green\"> **ERROR** </p>| <p style=\"color:green\">affiliation error: mpia.affiliation_verifications: 'Heidelberg' keyword not found.</p> |"
      ],
      "text/plain": [
       "<IPython.core.display.Markdown object>"
      ]
     },
     "metadata": {},
     "output_type": "display_data"
    },
    {
     "data": {
      "text/markdown": [
       "\n",
       "|||\n",
       "|---:|:---|\n",
       "| [![arXiv](https://img.shields.io/badge/arXiv-arXiv:2211.05366-b31b1b.svg)](https://arxiv.org/abs/arXiv:2211.05366) | **Solar Energetic Particle Acceleration at a Spherical Shock with the  Shock Normal Angle $θ_{B_n}$ Evolving in Space and Time**  |\n",
       "|| Xiaohang Chen, Joe Giacalone, <mark>Fan Guo</mark> |\n",
       "|*Appeared on*| *2022-11-11*|\n",
       "|*Comments*| *Accepted to ApJ*|\n",
       "|**Abstract**| We present a 2D kinematic model to study the acceleration of solar energetic particles (SEPs) at a shock driven by a coronal mass ejection. The shock is assumed to be spherical about an origin that is offset from the center of the Sun. This leads to a spatial and temporal evolution of the angle between the magnetic field and shock normal direction ($\\theta_{Bn}$) as it propagates through the Parker spiral magnetic field from the lower corona to 1 AU. We find that the high-energy SEP intensity varies significantly along the shock front due to the evolution of $\\theta_{Bn}$. Generally, the west flank of the shock preferentially accelerates particles to high energies compared to the east flank and shock nose. This can be understood in terms of the rate of acceleration, which is higher at the west flank. Double power-law energy spectra are reproduced in our model as a consequence of the local acceleration and transport effects. These results will help better understand the evolution of SEP acceleration and provide new insights into large SEP events observed by multi-spacecraft, especially those close to the Sun, such as Parker Solar Probe and Solar Orbiter. |\n",
       "|<p style=\"color:green\"> **ERROR** </p>| <p style=\"color:green\">affiliation error: mpia.affiliation_verifications: 'Heidelberg' keyword not found.</p> |"
      ],
      "text/plain": [
       "<IPython.core.display.Markdown object>"
      ]
     },
     "metadata": {},
     "output_type": "display_data"
    },
    {
     "data": {
      "text/markdown": [
       "\n",
       "|||\n",
       "|---:|:---|\n",
       "| [![arXiv](https://img.shields.io/badge/arXiv-arXiv:2211.05386-b31b1b.svg)](https://arxiv.org/abs/arXiv:2211.05386) | **Constraints on ultra-slow-roll inflation from the third LIGO-Virgo  observing run**  |\n",
       "|| Bo Mu, Gong Cheng, <mark>Jing Liu</mark>, <mark>Zong-Kuan Guo</mark> |\n",
       "|*Appeared on*| *2022-11-11*|\n",
       "|*Comments*| *6 pages, 3 figures*|\n",
       "|**Abstract**| The nonattractor evolution in ultra-slow-roll (USR) inflation results in the amplification of superhorizon curvature perturbations and then induces a strong and detectable stochastic gravitational wave background. In this letter, we search for such a stochastic gravitational wave background in data from the third LIGO-Virgo observing run and place constraints on the USR inflationary models. The $e$-folding number of the USR phase are constrained to be $\\Delta N \\lesssim 2.9$ at the 95% confidence level and the power spectrum of curvature perturbations amplified during the USR phase is constrained to be $\\log_{10}P_{R\\mathrm{p}}<-1.7$ at the scales $2.9\\times10^5 ~\\mathrm{pc^{-1}} \\lesssim k \\lesssim 1.7\\times10^{11}~\\mathrm{pc^{-1}}$. Besides, we forecast the ability of future experiments to constrain USR inflation, and find $P_{R\\mathrm{p}}\\lesssim 10^{-3.6}$ for LISA and Taiji, $P_{R\\mathrm{p}}\\lesssim 10^{-3.3}$ for Cosmic Explore and Einstein Telescope, $P_{R\\mathrm{p}}\\lesssim 10^{-5.5}$ for DECIGO and Big Bang Observer and $P_{R\\mathrm{p}}\\lesssim 10^{-5.2}$ for Square Kilometre Array. |\n",
       "|<p style=\"color:green\"> **ERROR** </p>| <p style=\"color:green\">affiliation error: mpia.affiliation_verifications: 'Heidelberg' keyword not found.</p> |"
      ],
      "text/plain": [
       "<IPython.core.display.Markdown object>"
      ]
     },
     "metadata": {},
     "output_type": "display_data"
    },
    {
     "data": {
      "text/markdown": [
       "\n",
       "|||\n",
       "|---:|:---|\n",
       "| [![arXiv](https://img.shields.io/badge/arXiv-arXiv:2211.05468-b31b1b.svg)](https://arxiv.org/abs/arXiv:2211.05468) | **Towards a new era in giant exoplanet characterisation**  |\n",
       "|| <mark>Simon Müller</mark>, <mark>Ravit Helled</mark> |\n",
       "|*Appeared on*| *2022-11-11*|\n",
       "|*Comments*| *11 pages, 12 figures, 2 tables, accepted for publication in Astronomy & Astrophysics*|\n",
       "|**Abstract**| Determining the composition of giant exoplanets is crucial for understanding their origin and evolution. However, the planetary bulk composition is not measured directly but must be deduced from a combination of mass-radius measurements, knowledge of the planetary age and evolution simulations. Accurate determinations of stellar ages, mass-radius, and atmospheric compositions from upcoming missions can significantly improve the determination of the heavy-element mass in giant planets. In this paper, we first demonstrate the importance of an accurate age measurement, as expected from Plato, in constraining the planetary properties. Well-determined stellar ages can reduce the bulk-metallicity uncertainty up to about a factor of two. We next infer the bulk metallicity of warm giants from the Ariel mission reference sample and identify the Ariel high-priority targets for which a measured atmospheric metallicity can clearly break the degeneracy in the inferred composition. We show that knowledge of the atmospheric metallicity can broadly reduce the bulk-metallicity uncertainty by a factor of four to eight. We conclude that the accurate age determination from Plato and atmospheric measurements by Ariel and the James Webb Space Telescope will play a key role in revealing the composition of giant exoplanets. |\n",
       "|<p style=\"color:green\"> **ERROR** </p>| <p style=\"color:green\">affiliation error: mpia.affiliation_verifications: 'Heidelberg' keyword not found.</p> |"
      ],
      "text/plain": [
       "<IPython.core.display.Markdown object>"
      ]
     },
     "metadata": {},
     "output_type": "display_data"
    },
    {
     "data": {
      "text/markdown": [
       "\n",
       "|||\n",
       "|---:|:---|\n",
       "| [![arXiv](https://img.shields.io/badge/arXiv-arXiv:2211.05512-b31b1b.svg)](https://arxiv.org/abs/arXiv:2211.05512) | **Probing early universe through redshifted 21-cm signal: Modelling and  observational challenges**  |\n",
       "|| Abinash Kumar Shaw, et al. -- incl., <mark>Abhik Ghosh</mark> |\n",
       "|*Appeared on*| *2022-11-11*|\n",
       "|*Comments*| *37 pages, 26 figures, Review article, Accepted for publication in the Special Issue of Journal of Astrophysics and Astronomy on \"Indian Participation in the SKA\"*|\n",
       "|**Abstract**| The redshifted 21-cm radiation from the atomic hydrogen (HI) provides an excellent direct probe to study the evolution of HI in IGM and thus reveal the nature of the first luminous objects, their evolution and role during Cosmic Dawn (CD) and Epoch of Reionization (EoR), and formation and evolution of the structures thereafter. Direct mapping of the HI density during the CD-EoR is rather difficult with the current and future instruments due to large foreground and other observational contamination. The first detection of this redshifted HI signal is planned through statistical estimators. Given the utmost importance of the detection and analysis of the redshifted 21-cm signal, physics of CD-EoR is one of the objectives of the upcoming SKA-Low telescope. This paper summarizes the collective effort of Indian astronomers to understand the origin of the redshifted 21-cm signal, sources of first ionizing photons, their propagation through the IGM, various cosmological effects on the expected 21-cm signal, various statistical measures of the signal like power spectrum, bispectrum, etc. A collective effort on detection of the signal by developing estimators of the statistical measures with rigorous assessment of their expected uncertainties, various challenges like that of the large foreground emission and calibration issues are also discussed. Various versions of the detection methods discussed here have also been used in practice with the GMRT with successful assessment of the foreground contamination and upper limits on the matter density in EoR and post-EoR. The collective efforts compiled here has been a large part of the global effort to prepare proper observational technique and analysis procedure for the first light of the CD-EoR through the SKA-Low. |\n",
       "|<p style=\"color:green\"> **ERROR** </p>| <p style=\"color:green\">affiliation error: mpia.affiliation_verifications: 'Heidelberg' keyword not found.</p> |"
      ],
      "text/plain": [
       "<IPython.core.display.Markdown object>"
      ]
     },
     "metadata": {},
     "output_type": "display_data"
    },
    {
     "data": {
      "text/markdown": [
       "\n",
       "|||\n",
       "|---:|:---|\n",
       "| [![arXiv](https://img.shields.io/badge/arXiv-arXiv:2211.05586-b31b1b.svg)](https://arxiv.org/abs/arXiv:2211.05586) | **Utilizing the slope of the brightness temperature continuum as a  diagnostic tool of solar ALMA observations**  |\n",
       "|| <mark>Henrik Eklund</mark>, Mikolaj Szydlarski, Sven Wedemeyer |\n",
       "|*Appeared on*| *2022-11-11*|\n",
       "|*Comments*| *14 pages, 12 figures with appendix of 2 pages and 1 figure. Accepted for publication in A&A*|\n",
       "|**Abstract**| The intensity of radiation at millimeter wavelengths from the solar atmosphere is closely related to the plasma temperature and the height of formation of the radiation is wavelength dependent. From that follows that the slope of the brightness temperature (T$_\\mathrm{b}$) continuum, samples the local gradient of the gas temperature of the sampled layers in the solar atmosphere. We use solar observations from the Atacama Large Millimeter/sub-millimeter Array (ALMA) and perform estimations and prediction of the slope of the T$_\\mathrm{b}$ continuum based on differences between synthetic observables at different ALMA receiver sub-bands (2.8-3.2 mm; band 3) and (1.20-1.31 mm; band 6) from a state-of-the-art 3D rMHD simulation. The slope of the continuum is coupled to the small-scale dynamics and a positive sign indicates an increase in temperature with height while a negative sign implies a decrease. Network patches are dominated by large positive slopes while quiet Sun region show a mixture of positive and negative slopes, much in connection to propagating shock waves and the temporal evolution of the slopes can therefore be used to identify shocks. The observability of the slope of brightness temperatures is estimated for angular resolutions corresponding to ALMA observations. The simulations also show that the radiation of both bands 3 and 6 can origin from several components at different heights simultaneously and that the delay of shock signatures between two wavelengths does not necessarily reflect the propagation speed, but could be caused by different rate of change of opacity of above-lying layers. The slope of the T$_\\mathrm{b}$ continuum sampled at different ALMA receiver sub-bands serves as indicator of the slope of the local plasma temperature at the sampled heights in the atmosphere, which offers new diagnostic possibilities to measure the underlying physical properties. |\n",
       "|<p style=\"color:green\"> **ERROR** </p>| <p style=\"color:green\">affiliation error: mpia.affiliation_verifications: 'Heidelberg' keyword not found.</p> |"
      ],
      "text/plain": [
       "<IPython.core.display.Markdown object>"
      ]
     },
     "metadata": {},
     "output_type": "display_data"
    },
    {
     "data": {
      "text/markdown": [
       "\n",
       "|||\n",
       "|---:|:---|\n",
       "| [![arXiv](https://img.shields.io/badge/arXiv-arXiv:2211.05646-b31b1b.svg)](https://arxiv.org/abs/arXiv:2211.05646) | **Examining the orbital decay targets KELT-9 b, KELT-16 b and WASP-4 b,  and the transit-timing variations of HD 97658 b**  |\n",
       "|| J.-V. Harre, et al. -- incl., <mark>A. M. S. Smith</mark>, <mark>M. B. Davies</mark>, <mark>M. Güdel</mark>, <mark>C. Hellier</mark>, <mark>K. Heng</mark>, <mark>S. Hoyer</mark>, <mark>G. Olofsson</mark> |\n",
       "|*Appeared on*| *2022-11-11*|\n",
       "|*Comments*| *19 pages, 11 figures, 9 tables, accepted for publication in A&A*|\n",
       "|**Abstract**| Tidal orbital decay is suspected to occur especially for hot Jupiters, with the only observationally confirmed case of this being WASP-12 b. By examining this effect, information on the properties of the host star can be obtained using the so-called stellar modified tidal quality factor $Q_*'$, which describes the efficiency with which kinetic energy of the planet is dissipated within the star. This can help to get information about the interior of the star. In this study, we aim to improve constraints on the tidal decay of the KELT-9, KELT-16 and WASP-4 systems, to find evidence for or against the presence of this particular effect. With this, we want to constrain each star's respective $Q_*'$ value. In addition to that, we also aim to test the existence of the transit timing variations (TTVs) in the HD 97658 system, which previously favoured a quadratic trend with increasing orbital period. Making use of newly acquired photometric observations from CHEOPS and TESS, combined with archival transit and occultation data, we use Markov chain Monte Carlo (MCMC) algorithms to fit three models, a constant period model, an orbital decay model, and an apsidal precession model, to the data. We find that the KELT-9 system is best described by an apsidal precession model for now, with an orbital decay trend at over 2 $\\sigma$ being a possible solution as well. A Keplerian orbit model with a constant orbital period fits the transit timings of KELT-16 b the best due to the scatter and scale of their error bars. The WASP-4 system is represented the best by an orbital decay model at a 5 $\\sigma$ significance, although apsidal precession cannot be ruled out with the present data. For HD 97658 b, using recently acquired transit observations, we find no conclusive evidence for a previously suspected strong quadratic trend in the data. |\n",
       "|<p style=\"color:green\"> **ERROR** </p>| <p style=\"color:green\">affiliation error: mpia.affiliation_verifications: 'Heidelberg' keyword not found.</p> |"
      ],
      "text/plain": [
       "<IPython.core.display.Markdown object>"
      ]
     },
     "metadata": {},
     "output_type": "display_data"
    },
    {
     "data": {
      "text/markdown": [
       "\n",
       "|||\n",
       "|---:|:---|\n",
       "| [![arXiv](https://img.shields.io/badge/arXiv-arXiv:2211.05685-b31b1b.svg)](https://arxiv.org/abs/arXiv:2211.05685) | **Impact of half-wave plate systematics on the measurement of cosmic  birefringence from CMB polarization**  |\n",
       "|| Marta Monelli, et al. -- incl., <mark>Alexandre E. Adler</mark> |\n",
       "|*Appeared on*| *2022-11-11*|\n",
       "|*Comments*| *12 pages + appendices and bibliography, 5 figures, 1 table*|\n",
       "|**Abstract**| Polarization of the cosmic microwave background (CMB) can probe new parity-violating physics such as cosmic birefringence (CB), which requires exquisite control over instrumental systematics. The non-idealities of the half-wave plate (HWP) represent a source of systematics when used as a polarization modulator. We study their impact on the CMB angular power spectra, which is partially degenerate with CB and miscalibration of the polarization angle. We use full-sky beam convolution simulations including HWP to generate mock noiseless time-ordered data, process them through a bin averaging map-maker, and calculate the power spectra including $TB$ and $EB$ correlations. We also derive analytical formulae which accurately model the observed spectra. For our choice of HWP parameters, the HWP-induced angle amounts to a few degrees, which could be misinterpreted as CB. Accurate knowledge of the HWP is required to mitigate this. Our simulation and analytical formulae will be useful for deriving requirements for the accuracy of HWP calibration. |\n",
       "|<p style=\"color:green\"> **ERROR** </p>| <p style=\"color:green\">affiliation error: mpia.affiliation_verifications: 'Heidelberg' keyword not found.</p> |"
      ],
      "text/plain": [
       "<IPython.core.display.Markdown object>"
      ]
     },
     "metadata": {},
     "output_type": "display_data"
    },
    {
     "data": {
      "text/markdown": [
       "\n",
       "|||\n",
       "|---:|:---|\n",
       "| [![arXiv](https://img.shields.io/badge/arXiv-arXiv:2211.05741-b31b1b.svg)](https://arxiv.org/abs/arXiv:2211.05741) | **MIGHTEE: Deep 1.4 GHz Source Counts and the Sky Temperature Contribution  of Star Forming Galaxies and Active Galactic Nuclei**  |\n",
       "|| C. L. Hale, et al. -- incl., <mark>I. Heywood</mark>, <mark>B. S. Frank</mark> |\n",
       "|*Appeared on*| *2022-11-11*|\n",
       "|*Comments*| *24 pages, 12 figures; Accepted for publication in MNRAS*|\n",
       "|**Abstract**| We present deep 1.4 GHz source counts from $\\sim$5 deg$^2$ of the continuum Early Science data release of the MeerKAT International Gigahertz Tiered Extragalactic Exploration (MIGHTEE) survey down to $S_{1.4\\textrm{GHz}}\\sim$15 $\\mu$Jy. Using observations over two extragalactic fields (COSMOS and XMM-LSS), we provide a comprehensive investigation into correcting the incompleteness of the raw source counts within the survey to understand the true underlying source count population. We use a variety of simulations that account for: errors in source detection and characterisation, clustering, and variations in the assumed source model used to simulate sources within the field and characterise source count incompleteness. We present these deep source count distributions and use them to investigate the contribution of extragalactic sources to the sky background temperature at 1.4 GHz using a relatively large sky area. We then use the wealth of ancillary data covering{a subset of the COSMOS field to investigate the specific contributions from both active galactic nuclei (AGN) and star forming galaxies (SFGs) to the source counts and sky background temperature. We find, similar to previous deep studies, that we are unable to reconcile the sky temperature observed by the ARCADE 2 experiment. We show that AGN provide the majority contribution to the sky temperature contribution from radio sources, but the relative contribution of SFGs rises sharply below 1 mJy, reaching an approximate 15-25% contribution to the total sky background temperature ($T_b\\sim$100 mK) at $\\sim$15 $\\mu$Jy. |\n",
       "|<p style=\"color:green\"> **ERROR** </p>| <p style=\"color:green\">affiliation error: mpia.affiliation_verifications: 'Heidelberg' keyword not found.</p> |"
      ],
      "text/plain": [
       "<IPython.core.display.Markdown object>"
      ]
     },
     "metadata": {},
     "output_type": "display_data"
    },
    {
     "data": {
      "text/markdown": [
       "\n",
       "|||\n",
       "|---:|:---|\n",
       "| [![arXiv](https://img.shields.io/badge/arXiv-arXiv:2211.05744-b31b1b.svg)](https://arxiv.org/abs/arXiv:2211.05744) | **Identification of Large Equivalent Width Dusty Galaxies at 4 $<$ z $<$ 6  from Sub-mm Colours**  |\n",
       "|| Denis Burgarella, et al. -- incl., <mark>Lisa Gouiran</mark> |\n",
       "|*Appeared on*| *2022-11-11*|\n",
       "|*Comments*| *Paper accepted in Astronomy and Astrophysics on 10 November 2022*|\n",
       "|**Abstract**| Infrared (IR), sub-millimetre (sub-mm) and millimetre (mm) databases contain a huge quantity of high quality data. However, a large part of these data are photometric, and are thought not to be useful to derive a quantitative information on the nebular emission of galaxies. The aim of this project is first to identify galaxies at z > 4-6, and in the epoch of reionization from their sub-mm colours. We also aim at showing that the colours can be used to try and derive physical constraints from photometric bands, when accounting for the contribution from the IR fine structure lines to these photometric bands. We model the flux of IR fine structure lines with CLOUDY, and add them to the dust continuum emission with CIGALE. Including or not emission lines in the simulated spectral energy distribution (SED) modifies the broad band emission and colours. The introduction of the lines allows to identify strong star forming galaxies at z > 4 - 6 from the log10 (PSW_250um/PMW_350um) versus log10 (LABOCA_870um/PLW_500um) colour-colour diagramme. By comparing the relevant models to each observed galaxy colour, we are able to roughly estimate the fluxes of the lines, and the associated nebular parameters. This method allows to identify a double sequence in a plot built from the ionization parameter and the gas metallicity. The HII and photodissociation region (PDR) fine structure lines are an essential part of the SEDs. It is important to add them when modelling the spectra, especially at z > 4 - 6 where their equivalent widths can be large. Conversely, we show that we can extract some information on strong IR fine structure lines and on the physical parameters related to the nebular emission from IR colour-colour diagrams. |\n",
       "|<p style=\"color:green\"> **ERROR** </p>| <p style=\"color:green\">affiliation error: mpia.affiliation_verifications: 'Heidelberg' keyword not found.</p> |"
      ],
      "text/plain": [
       "<IPython.core.display.Markdown object>"
      ]
     },
     "metadata": {},
     "output_type": "display_data"
    },
    {
     "data": {
      "text/markdown": [
       "\n",
       "|||\n",
       "|---:|:---|\n",
       "| [![arXiv](https://img.shields.io/badge/arXiv-arXiv:2211.05754-b31b1b.svg)](https://arxiv.org/abs/arXiv:2211.05754) | **External Inverse-Compton and Proton Synchrotron Emission from the  Reverse Shock as the Origin of VHE Gamma-Rays from the Hyper-Bright GRB  221009A**  |\n",
       "|| <mark>B. Theodore Zhang</mark>, et al. |\n",
       "|*Appeared on*| *2022-11-11*|\n",
       "|*Comments*| *9 pages, 4 figures*|\n",
       "|**Abstract**| The detection of the hyper-bright gamma-ray burst (GRB) 221009A enables us to explore the nature of GRB emission and the origin of very-high-energy (VHE) gamma-rays. We analyze the ${\\it Fermi}$-LAT data and investigate GeV-TeV emission in the framework of the external reverse shock model. We show that early $\\sim1-10$ GeV emission can be explained by the external inverse-Compton mechanism via upscattering MeV gamma-rays by electrons accelerated at the reverse shock, in addition to the synchrotron self-Compton component. The predicted early optical flux could have been brighter than the naked-eye GRB 080319B. We also show that proton synchrotron emission from accelerated ultra-high-energy cosmic rays (UHECRs) is detectable, and could potentially explain $\\gtrsim \\rm TeV$ photons detected by LHAASO or UHECR acceleration can be constrained. Our model suggests that the detection of $\\mathcal{O}(10\\rm~TeV)$ photons with energy up to $\\sim18$ TeV is possible for reasonable models of the extragalactic background light without invoking new physics, and predicts anti-correlations between MeV photons and TeV photons, which can be tested with the LHAASO data |\n",
       "|<p style=\"color:green\"> **ERROR** </p>| <p style=\"color:green\">affiliation error: mpia.affiliation_verifications: 'Heidelberg' keyword not found.</p> |"
      ],
      "text/plain": [
       "<IPython.core.display.Markdown object>"
      ]
     },
     "metadata": {},
     "output_type": "display_data"
    },
    {
     "data": {
      "text/markdown": [
       "\n",
       "|||\n",
       "|---:|:---|\n",
       "| [![arXiv](https://img.shields.io/badge/arXiv-arXiv:2211.05779-b31b1b.svg)](https://arxiv.org/abs/arXiv:2211.05779) | **MGLenS: Modified gravity weak lensing simulations for emulation-based  cosmological inference**  |\n",
       "|| Joachim Harnois-Déraps, et al. -- incl., <mark>Cesar Hernandez-Aguayo</mark>, <mark>Baojiu Li</mark>, <mark>Christopher T. Davies</mark> |\n",
       "|*Appeared on*| *2022-11-11*|\n",
       "|*Comments*| *22 pages, 15 figures, comments welcome, simulations available upon request*|\n",
       "|**Abstract**| We present MGLenS, a large series of modified gravity lensing simulations tailored for cosmic shear data analyses and forecasts in which cosmological and modified gravity parameters are varied simultaneously. Based on the FORGE and BRIDGE $N$-body simulation suites presented in companion papers, we construct 500,000 deg$^2$ of mock Stage-IV lensing data, sampling a pair of 4-dimensional volumes designed for the training of emulators. We validate the accuracy of MGLenS with inference analyses based on the lensing power spectrum exploiting our implementation of $f(R)$ and nDGP theoretical predictions within the cosmoSIS cosmological inference package. A Fisher analysis reveals that the vast majority of the constraining power from such a survey comes from the highest redshift galaxies alone. We further find from a full likelihood sampling that cosmic shear can achieve 95% CL constraints on the modified gravity parameters of log$_{10}\\left[ f_{R_0}\\right] < -5.24$ and log$_{10}\\left[ H_0 r_c\\right] > -0.05$, after marginalising over intrinsic alignments of galaxies and including scales up to $\\ell=5000$. Such a survey setup could in fact detect with more than $3\\sigma$ confidence $f(R)$ values larger than $3 \\times 10^{-6}$ and $H_0 r_c$ smaller than 1.0. Scale cuts at $\\ell=3000$ reduce the degeneracy breaking between $S_8$ and the modified gravity parameters, while photometric redshift uncertainty seem to play a subdominant role in our error budget. We finally explore the consequences of analysing data with the wrong gravity model, and report the catastrophic biases for a number of possible scenarios. The Stage-IV MGLenS simulations, the FORGE and BRIDGE emulators and the cosmoSIS interface modules will be made publicly available upon journal acceptance. |\n",
       "|<p style=\"color:green\"> **ERROR** </p>| <p style=\"color:green\">affiliation error: mpia.affiliation_verifications: 'Heidelberg' keyword not found.</p> |"
      ],
      "text/plain": [
       "<IPython.core.display.Markdown object>"
      ]
     },
     "metadata": {},
     "output_type": "display_data"
    },
    {
     "data": {
      "text/markdown": [
       "\n",
       "|||\n",
       "|---:|:---|\n",
       "| [![arXiv](https://img.shields.io/badge/arXiv-arXiv:2211.05573-b31b1b.svg)](https://arxiv.org/abs/arXiv:2211.05573) | **The Star Formation Rate of the Milky Way as seen by Herschel**  |\n",
       "|| D. Elia, et al. -- incl., <mark>P. Hennebelle</mark>, <mark>S. J. Liu</mark> |\n",
       "|*Appeared on*| *2022-11-11*|\n",
       "|*Comments*| *To be published in ApJ*|\n",
       "|**Abstract**| We present a new derivation of the Milky Way's current star formation rate (SFR) based on the data of the Hi-GAL Galactic plane survey. We estimate the distribution of the SFR across the Galactic plane from the star-forming clumps identified in the Hi-GAL survey and calculate the total SFR from the sum of their contributions. The estimate of the global SFR amounts to $2.0 \\pm 0.7$~M$_{\\odot}$~yr$^{-1}$, of which $1.7 \\pm 0.6$~M$_{\\odot}$~yr$^{-1}$ coming from clumps with reliable heliocentric distance assignment. This value is in general agreement with estimates found in the literature of last decades. The profile of SFR density averaged in Galactocentric rings is found to be qualitatively similar to others previously computed, with a peak corresponding to the Central Molecular Zone and another one around Galactocentric radius $R_\\mathrm{gal} \\sim 5$~kpc, followed by an exponential decrease as $\\log(\\Sigma_\\mathrm{SFR}/[\\mathrm{M}_\\odot~\\mathrm{yr}^{-1}~\\mathrm{kpc}^{-2}])=a\\,R_\\mathrm{gal}/[\\mathrm{kpc}]+b $, with $a=-0.28 \\pm 0.01$. In this regard, the fraction of SFR produced within and outside the Solar circle is 84\\% and 16\\%, respectively; the fraction corresponding to the far outer Galaxy ($R_\\mathrm{gal} > 13.5$~kpc) is only 1\\%. We also find that, for $R_\\mathrm{gal}>3$~kpc, our data follow a power law as a function of density, similarly to the Kennicutt-Schmidt relation. Finally, we compare the distribution of the SFR density across the face-on Galactic plane and those of median parameters, such as temperature, luminosity/mass ratio and bolometric temperature, describing the evolutionary stage of Hi-GAL clumps. We found no clear correlation between the SFR and the clump evolutionary stage. |\n",
       "|<p style=\"color:green\"> **ERROR** </p>| <p style=\"color:green\">affiliation error: mpia.affiliation_verifications: 'Planck' keyword not found.</p> |"
      ],
      "text/plain": [
       "<IPython.core.display.Markdown object>"
      ]
     },
     "metadata": {},
     "output_type": "display_data"
    },
    {
     "data": {
      "text/markdown": [
       "\n",
       "|||\n",
       "|---:|:---|\n",
       "| [![arXiv](https://img.shields.io/badge/arXiv-arXiv:2211.05155-b31b1b.svg)](https://arxiv.org/abs/arXiv:2211.05155) | **Signatures of Strong Magnetization and Metal-Poor Atmosphere for a  Neptune-Size Exoplanet**  |\n",
       "|| Lotfi Ben-Jaffel, et al. -- incl., <mark>Gregory W. Henry</mark>, <mark>Thomas Mikal-Evans</mark> |\n",
       "|*Appeared on*| *2022-11-11*|\n",
       "|*Comments*| *68 pages, 12 figures. Published in Nature Astronomy on December 16 2021. Main draft and Supplementary information are included in a single file. Full-text access to a view-only version of the paper via : this https URL*|\n",
       "|**Abstract**| The magnetosphere of an exoplanet has yet to be unambiguously detected. Investigations of star-planet interaction and neutral atomic hydrogen absorption during transit to detect magnetic fields in hot Jupiters have been inconclusive, and interpretations of the transit absorption non-unique. In contrast, ionized species escaping a magnetized exoplanet, particularly from the polar caps, should populate the magnetosphere, allowing detection of different regions from the plasmasphere to the extended magnetotail, and characterization of the magnetic field producing them. Here, we report ultraviolet observations of HAT-P-11b, a low-mass (0.08 MJ) exoplanet showing strong, phase-extended transit absorption of neutral hydrogen (maximum and tail transit depths of 32 \\pm 4%, 27 \\pm 4%) and singly ionized carbon (15 \\pm 4%, 12.5 \\pm 4%). We show that the atmosphere should have less than six times the solar metallicity (at 200 bars), and the exoplanet must also have an extended magnetotail (1.8-3.1 AU). The HAT-P-11b equatorial magnetic field strength should be about 1-5 Gauss. Our panchromatic approach using ionized species to simultaneously derive metallicity and magnetic field strength can now constrain interior and dynamo models of exoplanets, with implications for formation and evolution scenarios. |\n",
       "|<p style=\"color:red\"> **ERROR** </p>| <p style=\"color:red\">latex error not a gzip file</p> |"
      ],
      "text/plain": [
       "<IPython.core.display.Markdown object>"
      ]
     },
     "metadata": {},
     "output_type": "display_data"
    }
   ],
   "source": [
    "import datetime\n",
    "today = str(datetime.date.today())\n",
    "logfile = f\"_build/html/logs/log-{today}.md\"\n",
    "\n",
    "\n",
    "with open(logfile, 'w') as logs:\n",
    "    # Success\n",
    "    logs.write(f'# Arxiv on Deck 2: Logs - {today}\\n\\n')\n",
    "    logs.write(\"\"\"* Arxiv had {0:,d} new papers\\n\"\"\".format(len(new_papers)))\n",
    "    logs.write(\"\"\"    * {0:,d} with possible author matches\\n\\n\"\"\".format(len(candidates)))\n",
    "    logs.write(\"## Sucessful papers\\n\\n\")\n",
    "    display(Markdown(\"## Successful papers\"))\n",
    "    success = [k[0] for k in documents]\n",
    "    for candid in candidates:\n",
    "        if candid['identifier'].split(':')[-1] in success:\n",
    "            display(candid)\n",
    "            logs.write(candid.generate_markdown_text() + '\\n\\n')\n",
    "\n",
    "    ## failed\n",
    "    logs.write(\"## Failed papers\\n\\n\")\n",
    "    display(Markdown(\"## Failed papers\"))\n",
    "    failed = sorted(failed, key=lambda x: x[1])\n",
    "    current_reason = \"\"\n",
    "    for paper, reason in failed:\n",
    "        if 'affiliation' in reason:\n",
    "            color = 'green'\n",
    "        else:\n",
    "            color = 'red'\n",
    "        data = Markdown(\n",
    "                paper.generate_markdown_text() + \n",
    "                f'\\n|<p style=\"color:{color:s}\"> **ERROR** </p>| <p style=\"color:{color:s}\">{reason:s}</p> |'\n",
    "               )\n",
    "        if reason != current_reason:\n",
    "            logs.write(f'### {reason:s} \\n\\n')\n",
    "            current_reason = reason\n",
    "        logs.write(data.data + '\\n\\n')\n",
    "        \n",
    "        # only display here the important errors (all in logs)\n",
    "        # if color in ('red',):\n",
    "        display(data)"
   ]
  },
  {
   "cell_type": "markdown",
   "id": "472d20ee",
   "metadata": {
    "papermill": {
     "duration": 0.009715,
     "end_time": "2022-11-11T04:25:28.030799",
     "exception": false,
     "start_time": "2022-11-11T04:25:28.021084",
     "status": "completed"
    },
    "tags": []
   },
   "source": [
    "## Export documents\n",
    "\n",
    "We now write the .md files and export relevant images"
   ]
  },
  {
   "cell_type": "code",
   "execution_count": 7,
   "id": "d426aed9",
   "metadata": {
    "execution": {
     "iopub.execute_input": "2022-11-11T04:25:28.051918Z",
     "iopub.status.busy": "2022-11-11T04:25:28.051348Z",
     "iopub.status.idle": "2022-11-11T04:25:28.059822Z",
     "shell.execute_reply": "2022-11-11T04:25:28.059171Z"
    },
    "papermill": {
     "duration": 0.021161,
     "end_time": "2022-11-11T04:25:28.061522",
     "exception": false,
     "start_time": "2022-11-11T04:25:28.040361",
     "status": "completed"
    },
    "tags": []
   },
   "outputs": [],
   "source": [
    "def export_markdown_summary(md: str, md_fname:str, directory: str):\n",
    "    \"\"\"Export MD document and associated relevant images\"\"\"\n",
    "    import os\n",
    "    import shutil\n",
    "    import re\n",
    "\n",
    "    if (os.path.exists(directory) and not os.path.isdir(directory)):\n",
    "        raise RuntimeError(f\"a non-directory file exists with name {directory:s}\")\n",
    "\n",
    "    if (not os.path.exists(directory)):\n",
    "        print(f\"creating directory {directory:s}\")\n",
    "        os.mkdir(directory)\n",
    "\n",
    "    fig_fnames = (re.compile(r'\\[Fig.*\\]\\((.*)\\)').findall(md) + \n",
    "                  re.compile(r'\\<img src=\"([^>\\s]*)\"[^>]*/>').findall(md))\n",
    "    for fname in fig_fnames:\n",
    "        if 'http' in fname:\n",
    "            # No need to copy online figures\n",
    "            continue\n",
    "        destdir = os.path.join(directory, os.path.dirname(fname))\n",
    "        destfname = os.path.join(destdir, os.path.basename(fname))\n",
    "        try:\n",
    "            os.makedirs(destdir)\n",
    "        except FileExistsError:\n",
    "            pass\n",
    "        shutil.copy(fname, destfname)\n",
    "    with open(os.path.join(directory, md_fname), 'w') as fout:\n",
    "        fout.write(md)\n",
    "    print(\"exported in \", os.path.join(directory, md_fname))\n",
    "    [print(\"    + \" + os.path.join(directory,fk)) for fk in fig_fnames]"
   ]
  },
  {
   "cell_type": "code",
   "execution_count": 8,
   "id": "014d04a4",
   "metadata": {
    "execution": {
     "iopub.execute_input": "2022-11-11T04:25:28.084285Z",
     "iopub.status.busy": "2022-11-11T04:25:28.083736Z",
     "iopub.status.idle": "2022-11-11T04:25:28.087641Z",
     "shell.execute_reply": "2022-11-11T04:25:28.087054Z"
    },
    "papermill": {
     "duration": 0.017676,
     "end_time": "2022-11-11T04:25:28.089332",
     "exception": false,
     "start_time": "2022-11-11T04:25:28.071656",
     "status": "completed"
    },
    "tags": []
   },
   "outputs": [],
   "source": [
    "for paper_id, md in documents:\n",
    "    export_markdown_summary(md, f\"{paper_id:s}.md\", '_build/html/')"
   ]
  },
  {
   "cell_type": "markdown",
   "id": "f087a0a7",
   "metadata": {
    "papermill": {
     "duration": 0.010021,
     "end_time": "2022-11-11T04:25:28.109311",
     "exception": false,
     "start_time": "2022-11-11T04:25:28.099290",
     "status": "completed"
    },
    "tags": []
   },
   "source": [
    "## Display the papers\n",
    "\n",
    "Not necessary but allows for a quick check."
   ]
  },
  {
   "cell_type": "code",
   "execution_count": 9,
   "id": "fd25f625",
   "metadata": {
    "execution": {
     "iopub.execute_input": "2022-11-11T04:25:28.131195Z",
     "iopub.status.busy": "2022-11-11T04:25:28.130621Z",
     "iopub.status.idle": "2022-11-11T04:25:28.135168Z",
     "shell.execute_reply": "2022-11-11T04:25:28.134550Z"
    },
    "papermill": {
     "duration": 0.01765,
     "end_time": "2022-11-11T04:25:28.136832",
     "exception": false,
     "start_time": "2022-11-11T04:25:28.119182",
     "status": "completed"
    },
    "scrolled": false,
    "tags": []
   },
   "outputs": [],
   "source": [
    "[display(Markdown(k[1])) for k in documents];"
   ]
  },
  {
   "cell_type": "markdown",
   "id": "873873a4",
   "metadata": {
    "papermill": {
     "duration": 0.009871,
     "end_time": "2022-11-11T04:25:28.156458",
     "exception": false,
     "start_time": "2022-11-11T04:25:28.146587",
     "status": "completed"
    },
    "tags": []
   },
   "source": [
    "# Create HTML index"
   ]
  },
  {
   "cell_type": "code",
   "execution_count": 10,
   "id": "cf665672",
   "metadata": {
    "execution": {
     "iopub.execute_input": "2022-11-11T04:25:28.178036Z",
     "iopub.status.busy": "2022-11-11T04:25:28.177461Z",
     "iopub.status.idle": "2022-11-11T04:25:28.187380Z",
     "shell.execute_reply": "2022-11-11T04:25:28.186675Z"
    },
    "papermill": {
     "duration": 0.022884,
     "end_time": "2022-11-11T04:25:28.189022",
     "exception": false,
     "start_time": "2022-11-11T04:25:28.166138",
     "status": "completed"
    },
    "tags": []
   },
   "outputs": [
    {
     "name": "stdout",
     "output_type": "stream",
     "text": [
      "85  publications in the last 7 days.\n",
      "\t _build/html/2211.05022.md\n",
      "\t _build/html/2211.04048.md\n",
      "\t _build/html/2211.03641.md\n",
      "\t _build/html/2211.02502.md\n",
      "\t _build/html/2211.01474.md\n",
      "\t _build/html/2211.00667.md\n",
      "\t _build/html/2211.00657.md\n",
      "\t _build/html/2211.00087.md\n",
      "\t _build/html/2211.00036.md\n",
      "\t _build/html/2211.00020.md\n",
      "\t _build/html/2211.00010.md\n",
      "\t _build/html/2210.17434.md\n",
      "\t _build/html/2210.12412.md\n",
      "\t _build/html/2210.11926.md\n",
      "\t _build/html/2210.11551.md\n",
      "\t _build/html/2210.11103.md\n",
      "\t _build/html/2210.10707.md\n",
      "\t _build/html/2210.09930.md\n",
      "\t _build/html/2210.08996.md\n",
      "\t _build/html/2210.08517.md\n",
      "\t _build/html/2210.08510.md\n",
      "\t _build/html/2210.08078.md\n",
      "\t _build/html/2210.06504.md\n",
      "\t _build/html/2210.05695.md\n",
      "\t _build/html/2210.05595.md\n",
      "\t _build/html/2210.05505.md\n",
      "\t _build/html/2210.04721.md\n",
      "\t _build/html/2210.03615.md\n",
      "\t _build/html/2210.01811.md\n",
      "\t _build/html/2210.01809.md\n",
      "\t _build/html/2210.01556.md\n",
      "\t _build/html/2210.00863.md\n",
      "\t _build/html/2210.00560.md\n",
      "\t _build/html/2209.15403.md\n",
      "\t _build/html/2209.15110.md\n",
      "\t _build/html/2209.14410.md\n",
      "\t _build/html/2209.14396.md\n",
      "\t _build/html/2209.13717.md\n",
      "\t _build/html/2209.13336.md\n",
      "\t _build/html/2209.12906.md\n",
      "\t _build/html/2209.11781.md\n",
      "\t _build/html/2209.11602.md\n",
      "\t _build/html/2209.11248.md\n",
      "\t _build/html/2209.11096.md\n",
      "\t _build/html/2209.10618.md\n",
      "\t _build/html/2209.09914.md\n",
      "\t _build/html/2209.09823.md\n",
      "\t _build/html/2209.08242.md\n",
      "\t _build/html/2209.08120.md\n",
      "\t _build/html/2209.08106.md\n",
      "\t _build/html/2209.07962.md\n",
      "\t _build/html/2209.07931.md\n",
      "\t _build/html/2209.06833.md\n",
      "\t _build/html/2209.05814.md\n",
      "\t _build/html/2209.05593.md\n",
      "\t _build/html/2209.04304.md\n",
      "\t _build/html/2209.03367.md\n",
      "\t _build/html/2209.02872.md\n",
      "\t _build/html/2209.02725.md\n",
      "\t _build/html/2209.02722.md\n",
      "\t _build/html/2209.02092.md\n",
      "\t _build/html/2209.01125.md\n",
      "\t _build/html/2209.00828.md\n",
      "\t _build/html/2209.00363.md\n",
      "\t _build/html/2208.14927.md\n",
      "\t _build/html/2208.09335.md\n",
      "\t _build/html/2208.08872.md\n",
      "\t _build/html/2204.06393.md\n",
      "\t _build/html/2204.03335.md\n",
      "\t _build/html/2204.03253.md\n",
      "\t _build/html/2204.02998.md\n",
      "\t _build/html/2204.02109.md\n",
      "\t _build/html/2204.02017.md\n",
      "\t _build/html/2204.01824.md\n",
      "\t _build/html/2204.01758.md\n",
      "\t _build/html/2204.01245.md\n",
      "\t _build/html/2204.00793.md\n",
      "\t _build/html/2204.00342.md\n",
      "\t _build/html/2203.16959.md\n",
      "\t _build/html/2203.16856.md\n",
      "\t _build/html/2203.16735.md\n",
      "\t _build/html/2203.16734.md\n",
      "\t _build/html/2203.16504.md\n",
      "\t _build/html/2203.15822.md\n",
      "\t _build/html/2203.15811.md\n"
     ]
    }
   ],
   "source": [
    "from datetime import datetime, timedelta, timezone\n",
    "from glob import glob\n",
    "\n",
    "files = glob('_build/html/*.md')\n",
    "days = 7\n",
    "now = datetime.today()\n",
    "res = []\n",
    "for fk in files:\n",
    "    stat_result = os.stat(fk).st_ctime\n",
    "    modified = datetime.fromtimestamp(stat_result, tz=timezone.utc).replace(tzinfo=None)\n",
    "    delta = now.today() - modified\n",
    "    if delta <= timedelta(days=days):\n",
    "        res.append((delta.seconds, fk))\n",
    "res = [k[1] for k in reversed(sorted(res, key=lambda x:x[1]))]\n",
    "npub = len(res)\n",
    "print(len(res), f\" publications in the last {days:d} days.\")\n",
    "[ print('\\t', k) for k in res ];"
   ]
  },
  {
   "cell_type": "code",
   "execution_count": 11,
   "id": "52ca0208",
   "metadata": {
    "execution": {
     "iopub.execute_input": "2022-11-11T04:25:28.211138Z",
     "iopub.status.busy": "2022-11-11T04:25:28.210515Z",
     "iopub.status.idle": "2022-11-11T04:25:28.218107Z",
     "shell.execute_reply": "2022-11-11T04:25:28.217355Z"
    },
    "papermill": {
     "duration": 0.020672,
     "end_time": "2022-11-11T04:25:28.219739",
     "exception": false,
     "start_time": "2022-11-11T04:25:28.199067",
     "status": "completed"
    },
    "scrolled": false,
    "tags": []
   },
   "outputs": [],
   "source": [
    "def create_carousel(npub=4):\n",
    "    \"\"\" Generate the HTML code for a carousel with `npub` slides \"\"\"\n",
    "    carousel = [\"\"\"<section class=\"carousel\" aria-label=\"Gallery\">\"\"\",\n",
    "                \"\"\"  <ol class=\"carousel__viewport\">\"\"\",\n",
    "    ]\n",
    "    for k in range(1, npub + 1):\n",
    "        prev_ = k - 1\n",
    "        next_ = k + 1\n",
    "        if prev_ <= 0:\n",
    "            prev_ = npub\n",
    "        if next_ > npub:\n",
    "            next_ = 1\n",
    "        text  = f\"\"\"    <li id=\"carousel__slide{k}\" tabindex=\"0\" class=\"carousel__slide\">\\n\"\"\"\n",
    "        text += f\"\"\"       <div class=\"carousel__snapper\">\\n\"\"\"\n",
    "        text += f\"\"\"         <a href=\"#carousel__slide{prev_}\" class=\"carousel__prev\">Go to previous slide</a>\\n\"\"\"\n",
    "        text += f\"\"\"         <a href=\"#carousel__slide{next_}\" class=\"carousel__next\">Go to next slide</a>\\n\"\"\"\n",
    "        text += f\"\"\"         <div id=\"slide{k}_content\" class=\"md_view\" >Content {k}</div>\\n\"\"\"\n",
    "        text += f\"\"\"       </div>\\n\"\"\"\n",
    "        text += f\"\"\"    </li>\"\"\"\n",
    "        carousel.append(text)\n",
    "\n",
    "    carousel.extend([\n",
    "        \"\"\"  </ol>\"\"\",\n",
    "        \"\"\"  <aside class=\"carousel__navigation\">\"\"\",\n",
    "        \"\"\"    <ol class=\"carousel__navigation-list\">\"\"\"])\n",
    "\n",
    "    for k in range(1, npub + 1):\n",
    "        text  = f\"\"\"      <li class=\"carousel__navigation-item\">\\n\"\"\"\n",
    "        text += f\"\"\"        <a href=\"#carousel__slide{k}\" class=\"carousel__navigation-button\">Go to {k}</a>\\n\"\"\"\n",
    "        text += f\"\"\"      </li>\"\"\"\n",
    "        carousel.append(text)\n",
    "    carousel.extend([\"\"\"    </ol>\"\"\", \"\"\"  </aside>\"\"\", \"\"\"</section>\"\"\"])\n",
    "\n",
    "    return '\\n'.join(carousel)"
   ]
  },
  {
   "cell_type": "code",
   "execution_count": 12,
   "id": "a6eac5b6",
   "metadata": {
    "execution": {
     "iopub.execute_input": "2022-11-11T04:25:28.241955Z",
     "iopub.status.busy": "2022-11-11T04:25:28.241614Z",
     "iopub.status.idle": "2022-11-11T04:25:28.249238Z",
     "shell.execute_reply": "2022-11-11T04:25:28.248521Z"
    },
    "papermill": {
     "duration": 0.021168,
     "end_time": "2022-11-11T04:25:28.250892",
     "exception": false,
     "start_time": "2022-11-11T04:25:28.229724",
     "status": "completed"
    },
    "scrolled": false,
    "tags": []
   },
   "outputs": [],
   "source": [
    "carousel = create_carousel(npub)\n",
    "docs = ', '.join(['\"{0:s}\"'.format(k.split('/')[-1]) for k in res])\n",
    "slides = ', '.join([f'\"slide{k}_content\"' for k in range(1, npub + 1)])\n",
    "\n",
    "script = f\"\"\"\n",
    "const docs = [{docs}]\n",
    "\n",
    "const slides = [{slides}]\n",
    "\"\"\" + \"\"\"\n",
    "async function run() {\n",
    "    for (let i = 0; i < docs.length; i++) {\n",
    "        let file = await fetch(docs[i]);\n",
    "        let text = await file.text()\n",
    "        document.getElementById(slides[i]).innerHTML =\n",
    "            marked.parse(text);\n",
    "    }\n",
    "    hljs.highlightAll();\n",
    "}\n",
    "run()\n",
    "\"\"\"\n",
    "\n",
    "page = f\"\"\"<!doctype html>\n",
    "<html lang=\"en\">\n",
    "\n",
    "<head>\n",
    "  <meta charset=\"utf-8\">\n",
    "  <meta name=\"viewport\" content=\"width=device-width, initial-scale=1\">\n",
    "  <!-- Bootstrap CSS -->\n",
    "  <link href=\"https://cdn.jsdelivr.net/npm/bootstrap@5.0.2/dist/css/bootstrap.min.css\" rel=\"stylesheet\"\n",
    "   integrity=\"sha384-EVSTQN3/azprG1Anm3QDgpJLIm9Nao0Yz1ztcQTwFspd3yD65VohhpuuCOmLASjC\" crossorigin=\"anonymous\">\n",
    "  <!-- highlight.js CSS -->\n",
    "  <link rel=\"stylesheet\" href=\"https://cdnjs.cloudflare.com/ajax/libs/highlight.js/11.1.0/styles/default.min.css\">\n",
    "  <!-- Mathjax 3 -->\n",
    "  <script type=\"text/javascript\" id=\"MathJax-config\" src=\"mathjax_config.js\"> </script>\n",
    "  <script type=\"text/javascript\" id=\"MathJax-script\" async \n",
    "    src=\"https://cdn.jsdelivr.net/npm/mathjax@3/es5/tex-mml-chtml.js\">\n",
    "  </script>\n",
    "  <link rel=\"stylesheet\" href=\"index_carousel.css\">\n",
    "  <link rel=\"icon\" type=\"image/x-icon\" href=\"https://www.mpia.de/assets/touch-icon-32x32-a66937bcebc4e8894ebff1f41a366c7c7220fd97a38869ee0f2db65a9f59b6c1.png\">\n",
    "  <title>MPIA Arxiv on deck!</title>\n",
    "</head>\n",
    "\n",
    "<body>\n",
    "  <div id=\"header\"> <img src=\"header_banner.png\" width=\"100%\"></div>\n",
    "  <div id=\"suptitle\"> 7-day archives </div>\n",
    "  <div id=\"info\">\n",
    "    <img src=\"https://pngimg.com/uploads/github/github_PNG58.png\" height=30rem></img>\n",
    "    <a href=https://github.com/mpi-astronomy/arxiv_display style=\"color:black;\">github/mpi-astronomy/arxiv_display</a> \n",
    "  </div>\n",
    "  {carousel:s}\n",
    "</body>\n",
    "\n",
    "<!-- Render Markdown -->\n",
    "\n",
    "<body>\n",
    "  <!-- highlight.js: https://highlightjs.org/download/ -->\n",
    "  <script src=\"https://cdnjs.cloudflare.com/ajax/libs/highlight.js/11.5.0/highlight.min.js\"></script>\n",
    "  <!-- marked.js -->\n",
    "  <script src=\"https://cdn.jsdelivr.net/npm/marked/marked.min.js\"></script>\n",
    "  <script>{script:s}</script>\n",
    "</body>\n",
    "</html>\n",
    "\"\"\"\n",
    "with open(\"_build/html/index_7days.html\", 'w') as fout:\n",
    "    fout.write(page)"
   ]
  },
  {
   "cell_type": "markdown",
   "id": "1cebacbc",
   "metadata": {
    "papermill": {
     "duration": 0.010244,
     "end_time": "2022-11-11T04:25:28.316944",
     "exception": false,
     "start_time": "2022-11-11T04:25:28.306700",
     "status": "completed"
    },
    "tags": []
   },
   "source": [
    "# Debugging papers"
   ]
  },
  {
   "cell_type": "raw",
   "id": "debe7cc6",
   "metadata": {
    "papermill": {
     "duration": 0.010064,
     "end_time": "2022-11-11T04:25:28.337196",
     "exception": false,
     "start_time": "2022-11-11T04:25:28.327132",
     "status": "completed"
    },
    "tags": []
   },
   "source": [
    "raise NotImplementedError(\"Manual Stop\")"
   ]
  },
  {
   "cell_type": "raw",
   "id": "eb169192",
   "metadata": {
    "papermill": {
     "duration": 0.009928,
     "end_time": "2022-11-11T04:25:28.357049",
     "exception": false,
     "start_time": "2022-11-11T04:25:28.347121",
     "status": "completed"
    },
    "scrolled": true,
    "tags": []
   },
   "source": [
    "from IPython.display import display, Markdown\n",
    "from TexSoup import TexSoup\n",
    "import re\n",
    "\n",
    "def bracket_error(source: str):\n",
    "    \"\"\" Find problematic portions of the document \"\"\"\n",
    "    \n",
    "    print(\"len(source)\", len(source))\n",
    "    \n",
    "    # Checking header\n",
    "    begin_doc = next(re.finditer(r'\\\\begin\\{document\\}', doc.source)).span()[1]\n",
    "    header = source[:begin_doc]\n",
    "    text = header + r\"\\n\\end{document}\"\n",
    "\n",
    "    try:\n",
    "        # print(\"Header check... \", end='')\n",
    "        TexSoup(text)\n",
    "        display(Markdown(f\"**[OK]** - Header\"))\n",
    "    except:\n",
    "        raise RuntimeError(\"Error in the header\")\n",
    "        \n",
    "    # Check the text per section until the end.\n",
    "    # Do not stop and try them all.\n",
    "    \n",
    "    problematic_text = []\n",
    "    \n",
    "    sections = ([(0, begin_doc, 'until first section')] + \n",
    "                [(g.span()[0], g.span()[1], g.group()) for g in re.finditer(r'\\\\section\\{.*\\}', source)] +\n",
    "                [(g.span()[0], g.span()[1], g.group()) for g in re.finditer(r'\\\\begin\\{appendix\\}', source)]\n",
    "               )\n",
    "    sections.append([len(source), len(source), 'end'])\n",
    "    \n",
    "    sections = sorted(sections, key=lambda x: x[0])\n",
    "    \n",
    "    prev_pos, prev_name = (0, 'header')\n",
    "    parsed = []\n",
    "    \n",
    "    for span, span_end, name in sections:\n",
    "\n",
    "        if span - prev_pos <= 0:\n",
    "            continue\n",
    "            \n",
    "\n",
    "        text = source[prev_pos:span]\n",
    "        if prev_pos > begin_doc:\n",
    "            text = r\"\\n\\begin{document}\" + text + r\"\\n\\end{document}\"\n",
    "        else:\n",
    "            text = text + r\"\\n\\end{document}\"\n",
    "        try:\n",
    "            #print(f\"{prev_pos}:{prev_name}-->{span}:{name} check... \", end='')\n",
    "            parsed.append(TexSoup(text, tolerance=1))  # allow not ending env\n",
    "            display(Markdown(f\"**[OK]** - *{prev_pos}*:{prev_name} &rarr; *{span}*:{name}\"))\n",
    "            # print(\"ok\")\n",
    "\n",
    "            prev_pos = span\n",
    "            prev_name = name\n",
    "        except:\n",
    "            # print(f\"error between {prev_pos} and {span}\")\n",
    "            display(Markdown(f\"**[ERR]** *{prev_pos}*:{prev_name} &rarr; *{span}*:{name}\"))\n",
    "            problematic_text.append((prev_pos, source[prev_pos:span]))\n",
    "            prev_pos = span\n",
    "            prev_name = name\n",
    "            # raise\n",
    "    return problematic_text, parsed\n",
    "\n",
    "\n",
    "def check_environment(text, offset=0):\n",
    "    \"\"\" Check environment \"\"\"\n",
    "    env = re.compile(r\"\\\\begin\\{(?P<env>.*)\\}(.*)\\\\end\\{(?P=env)\\}\", re.DOTALL)\n",
    "\n",
    "    for match in env.finditer(text):\n",
    "        beg, end = match.span()\n",
    "        beg += offset\n",
    "        end += offset\n",
    "        envname = match.groups()[0]\n",
    "        try:\n",
    "            latex.TexSoup(match.group())\n",
    "        except Exception as e:\n",
    "            display(e)\n",
    "            print(f\"Error in {envname:s} between {beg} and {end}\")\n",
    "            return match.groups()[1], beg, end"
   ]
  },
  {
   "cell_type": "raw",
   "id": "2315e835",
   "metadata": {
    "papermill": {
     "duration": 0.009845,
     "end_time": "2022-11-11T04:25:28.376707",
     "exception": false,
     "start_time": "2022-11-11T04:25:28.366862",
     "status": "completed"
    },
    "scrolled": false,
    "tags": []
   },
   "source": [
    "import importlib\n",
    "importlib.reload(latex)\n",
    "which = \"2204.03253\"\n",
    "paper_id = f'{which:s}'\n",
    "folder = f'tmp_{paper_id:s}'\n",
    "\n",
    "if not os.path.isdir(folder):\n",
    "    folder = retrieve_document_source(f\"{paper_id}\", f'tmp_{paper_id}')\n",
    "\n",
    "try:\n",
    "    doc = latex.LatexDocument(folder, validation=validation)    \n",
    "except AffiliationError as affilerror:\n",
    "    msg = f\"ArXiv:{paper_id:s} is not an MPIA paper... \" + str(affilerror)\n",
    "    print(msg)\n",
    "\n",
    "\n",
    "# Hack because sometimes author parsing does not work well\n",
    "if (len(doc.authors) != len(paper['authors'])):\n",
    "    doc._authors = paper['authors']\n",
    "if (doc.abstract) in (None, ''):\n",
    "    doc._abstract = paper['abstract']\n",
    "\n",
    "doc.comment = get_markdown_badge(paper_id) + \" _\" + paper['comments'] + \"_\"\n",
    "doc.highlight_authors_in_list(hl_list)\n",
    "\n",
    "full_md = doc.generate_markdown_text()"
   ]
  },
  {
   "cell_type": "raw",
   "id": "dd3781db",
   "metadata": {
    "papermill": {
     "duration": 0.009917,
     "end_time": "2022-11-11T04:25:28.396444",
     "exception": false,
     "start_time": "2022-11-11T04:25:28.386527",
     "status": "completed"
    },
    "scrolled": false,
    "tags": []
   },
   "source": [
    "doc"
   ]
  },
  {
   "cell_type": "raw",
   "id": "c6eed834",
   "metadata": {
    "papermill": {
     "duration": 0.009879,
     "end_time": "2022-11-11T04:25:28.416119",
     "exception": false,
     "start_time": "2022-11-11T04:25:28.406240",
     "status": "completed"
    },
    "tags": []
   },
   "source": [
    "# [check_environment(k) for k in bracket_error(doc.source)]\n",
    "_, _, a = latex.get_content_per_section(doc.source, verbose=True)\n",
    "if not a:\n",
    "    print(\"no issues per section\")\n",
    "for ak in a:\n",
    "    r = check_environment(ak[1], offset=ak[0])\n",
    "    print(r[1], r[2])\n",
    "    print(r[0])"
   ]
  },
  {
   "cell_type": "code",
   "execution_count": null,
   "id": "71ce768a",
   "metadata": {
    "papermill": {
     "duration": 0.009902,
     "end_time": "2022-11-11T04:25:28.436088",
     "exception": false,
     "start_time": "2022-11-11T04:25:28.426186",
     "status": "completed"
    },
    "tags": []
   },
   "outputs": [],
   "source": []
  }
 ],
 "metadata": {
  "kernelspec": {
   "display_name": "Python 3.10.6 64-bit",
   "language": "python",
   "name": "python3"
  },
  "language_info": {
   "codemirror_mode": {
    "name": "ipython",
    "version": 3
   },
   "file_extension": ".py",
   "mimetype": "text/x-python",
   "name": "python",
   "nbconvert_exporter": "python",
   "pygments_lexer": "ipython3",
   "version": "3.9.15"
  },
  "papermill": {
   "default_parameters": {},
   "duration": 49.357353,
   "end_time": "2022-11-11T04:25:28.664517",
   "environment_variables": {},
   "exception": null,
   "input_path": "MPIA daily digest.ipynb",
   "output_path": "log.ipynb",
   "parameters": {},
   "start_time": "2022-11-11T04:24:39.307164",
   "version": "2.4.0"
  },
  "vscode": {
   "interpreter": {
    "hash": "e7370f93d1d0cde622a1f8e1c04877d8463912d04d973331ad4851f04de6915a"
   }
  },
  "widgets": {
   "application/vnd.jupyter.widget-state+json": {
    "state": {
     "138db249c68d43639c3429db51db07c5": {
      "model_module": "@jupyter-widgets/controls",
      "model_module_version": "2.0.0",
      "model_name": "HTMLModel",
      "state": {
       "_dom_classes": [],
       "_model_module": "@jupyter-widgets/controls",
       "_model_module_version": "2.0.0",
       "_model_name": "HTMLModel",
       "_view_count": null,
       "_view_module": "@jupyter-widgets/controls",
       "_view_module_version": "2.0.0",
       "_view_name": "HTMLView",
       "description": "",
       "description_allow_html": false,
       "layout": "IPY_MODEL_c8b33cc3b52d41d69c2dd7f440cfae04",
       "placeholder": "​",
       "style": "IPY_MODEL_954fcf7c8c9445fe84b511682dea7dbf",
       "tabbable": null,
       "tooltip": null,
       "value": "100%"
      }
     },
     "569b69fafda84a0a8daadfe27ff4e19a": {
      "model_module": "@jupyter-widgets/controls",
      "model_module_version": "2.0.0",
      "model_name": "ProgressStyleModel",
      "state": {
       "_model_module": "@jupyter-widgets/controls",
       "_model_module_version": "2.0.0",
       "_model_name": "ProgressStyleModel",
       "_view_count": null,
       "_view_module": "@jupyter-widgets/base",
       "_view_module_version": "2.0.0",
       "_view_name": "StyleView",
       "bar_color": null,
       "description_width": ""
      }
     },
     "75129368d6ec4986bdb360e929a80439": {
      "model_module": "@jupyter-widgets/controls",
      "model_module_version": "2.0.0",
      "model_name": "HTMLStyleModel",
      "state": {
       "_model_module": "@jupyter-widgets/controls",
       "_model_module_version": "2.0.0",
       "_model_name": "HTMLStyleModel",
       "_view_count": null,
       "_view_module": "@jupyter-widgets/base",
       "_view_module_version": "2.0.0",
       "_view_name": "StyleView",
       "background": null,
       "description_width": "",
       "font_size": null,
       "text_color": null
      }
     },
     "8f5f0addf88147eaa5d9c042756f3ccb": {
      "model_module": "@jupyter-widgets/controls",
      "model_module_version": "2.0.0",
      "model_name": "FloatProgressModel",
      "state": {
       "_dom_classes": [],
       "_model_module": "@jupyter-widgets/controls",
       "_model_module_version": "2.0.0",
       "_model_name": "FloatProgressModel",
       "_view_count": null,
       "_view_module": "@jupyter-widgets/controls",
       "_view_module_version": "2.0.0",
       "_view_name": "ProgressView",
       "bar_style": "success",
       "description": "",
       "description_allow_html": false,
       "layout": "IPY_MODEL_b618334faf4e4683a5881cbe0cc14220",
       "max": 24.0,
       "min": 0.0,
       "orientation": "horizontal",
       "style": "IPY_MODEL_569b69fafda84a0a8daadfe27ff4e19a",
       "tabbable": null,
       "tooltip": null,
       "value": 24.0
      }
     },
     "954fcf7c8c9445fe84b511682dea7dbf": {
      "model_module": "@jupyter-widgets/controls",
      "model_module_version": "2.0.0",
      "model_name": "HTMLStyleModel",
      "state": {
       "_model_module": "@jupyter-widgets/controls",
       "_model_module_version": "2.0.0",
       "_model_name": "HTMLStyleModel",
       "_view_count": null,
       "_view_module": "@jupyter-widgets/base",
       "_view_module_version": "2.0.0",
       "_view_name": "StyleView",
       "background": null,
       "description_width": "",
       "font_size": null,
       "text_color": null
      }
     },
     "b109c049bb2b4d7d906ecd6b72a88dba": {
      "model_module": "@jupyter-widgets/controls",
      "model_module_version": "2.0.0",
      "model_name": "HTMLModel",
      "state": {
       "_dom_classes": [],
       "_model_module": "@jupyter-widgets/controls",
       "_model_module_version": "2.0.0",
       "_model_name": "HTMLModel",
       "_view_count": null,
       "_view_module": "@jupyter-widgets/controls",
       "_view_module_version": "2.0.0",
       "_view_name": "HTMLView",
       "description": "",
       "description_allow_html": false,
       "layout": "IPY_MODEL_dae10fd3587e4c82b0dd52caad7a0bbc",
       "placeholder": "​",
       "style": "IPY_MODEL_75129368d6ec4986bdb360e929a80439",
       "tabbable": null,
       "tooltip": null,
       "value": " 24/24 [00:24&lt;00:00,  1.28it/s]"
      }
     },
     "b618334faf4e4683a5881cbe0cc14220": {
      "model_module": "@jupyter-widgets/base",
      "model_module_version": "2.0.0",
      "model_name": "LayoutModel",
      "state": {
       "_model_module": "@jupyter-widgets/base",
       "_model_module_version": "2.0.0",
       "_model_name": "LayoutModel",
       "_view_count": null,
       "_view_module": "@jupyter-widgets/base",
       "_view_module_version": "2.0.0",
       "_view_name": "LayoutView",
       "align_content": null,
       "align_items": null,
       "align_self": null,
       "border_bottom": null,
       "border_left": null,
       "border_right": null,
       "border_top": null,
       "bottom": null,
       "display": null,
       "flex": null,
       "flex_flow": null,
       "grid_area": null,
       "grid_auto_columns": null,
       "grid_auto_flow": null,
       "grid_auto_rows": null,
       "grid_column": null,
       "grid_gap": null,
       "grid_row": null,
       "grid_template_areas": null,
       "grid_template_columns": null,
       "grid_template_rows": null,
       "height": null,
       "justify_content": null,
       "justify_items": null,
       "left": null,
       "margin": null,
       "max_height": null,
       "max_width": null,
       "min_height": null,
       "min_width": null,
       "object_fit": null,
       "object_position": null,
       "order": null,
       "overflow": null,
       "padding": null,
       "right": null,
       "top": null,
       "visibility": null,
       "width": null
      }
     },
     "c8b33cc3b52d41d69c2dd7f440cfae04": {
      "model_module": "@jupyter-widgets/base",
      "model_module_version": "2.0.0",
      "model_name": "LayoutModel",
      "state": {
       "_model_module": "@jupyter-widgets/base",
       "_model_module_version": "2.0.0",
       "_model_name": "LayoutModel",
       "_view_count": null,
       "_view_module": "@jupyter-widgets/base",
       "_view_module_version": "2.0.0",
       "_view_name": "LayoutView",
       "align_content": null,
       "align_items": null,
       "align_self": null,
       "border_bottom": null,
       "border_left": null,
       "border_right": null,
       "border_top": null,
       "bottom": null,
       "display": null,
       "flex": null,
       "flex_flow": null,
       "grid_area": null,
       "grid_auto_columns": null,
       "grid_auto_flow": null,
       "grid_auto_rows": null,
       "grid_column": null,
       "grid_gap": null,
       "grid_row": null,
       "grid_template_areas": null,
       "grid_template_columns": null,
       "grid_template_rows": null,
       "height": null,
       "justify_content": null,
       "justify_items": null,
       "left": null,
       "margin": null,
       "max_height": null,
       "max_width": null,
       "min_height": null,
       "min_width": null,
       "object_fit": null,
       "object_position": null,
       "order": null,
       "overflow": null,
       "padding": null,
       "right": null,
       "top": null,
       "visibility": null,
       "width": null
      }
     },
     "dae10fd3587e4c82b0dd52caad7a0bbc": {
      "model_module": "@jupyter-widgets/base",
      "model_module_version": "2.0.0",
      "model_name": "LayoutModel",
      "state": {
       "_model_module": "@jupyter-widgets/base",
       "_model_module_version": "2.0.0",
       "_model_name": "LayoutModel",
       "_view_count": null,
       "_view_module": "@jupyter-widgets/base",
       "_view_module_version": "2.0.0",
       "_view_name": "LayoutView",
       "align_content": null,
       "align_items": null,
       "align_self": null,
       "border_bottom": null,
       "border_left": null,
       "border_right": null,
       "border_top": null,
       "bottom": null,
       "display": null,
       "flex": null,
       "flex_flow": null,
       "grid_area": null,
       "grid_auto_columns": null,
       "grid_auto_flow": null,
       "grid_auto_rows": null,
       "grid_column": null,
       "grid_gap": null,
       "grid_row": null,
       "grid_template_areas": null,
       "grid_template_columns": null,
       "grid_template_rows": null,
       "height": null,
       "justify_content": null,
       "justify_items": null,
       "left": null,
       "margin": null,
       "max_height": null,
       "max_width": null,
       "min_height": null,
       "min_width": null,
       "object_fit": null,
       "object_position": null,
       "order": null,
       "overflow": null,
       "padding": null,
       "right": null,
       "top": null,
       "visibility": null,
       "width": null
      }
     },
     "e35cc1ad75724a3e9b61f9c5fd4ca0f5": {
      "model_module": "@jupyter-widgets/base",
      "model_module_version": "2.0.0",
      "model_name": "LayoutModel",
      "state": {
       "_model_module": "@jupyter-widgets/base",
       "_model_module_version": "2.0.0",
       "_model_name": "LayoutModel",
       "_view_count": null,
       "_view_module": "@jupyter-widgets/base",
       "_view_module_version": "2.0.0",
       "_view_name": "LayoutView",
       "align_content": null,
       "align_items": null,
       "align_self": null,
       "border_bottom": null,
       "border_left": null,
       "border_right": null,
       "border_top": null,
       "bottom": null,
       "display": null,
       "flex": null,
       "flex_flow": null,
       "grid_area": null,
       "grid_auto_columns": null,
       "grid_auto_flow": null,
       "grid_auto_rows": null,
       "grid_column": null,
       "grid_gap": null,
       "grid_row": null,
       "grid_template_areas": null,
       "grid_template_columns": null,
       "grid_template_rows": null,
       "height": null,
       "justify_content": null,
       "justify_items": null,
       "left": null,
       "margin": null,
       "max_height": null,
       "max_width": null,
       "min_height": null,
       "min_width": null,
       "object_fit": null,
       "object_position": null,
       "order": null,
       "overflow": null,
       "padding": null,
       "right": null,
       "top": null,
       "visibility": null,
       "width": null
      }
     },
     "ea1f5753f7e549f1a06c513e8299d8e3": {
      "model_module": "@jupyter-widgets/controls",
      "model_module_version": "2.0.0",
      "model_name": "HBoxModel",
      "state": {
       "_dom_classes": [],
       "_model_module": "@jupyter-widgets/controls",
       "_model_module_version": "2.0.0",
       "_model_name": "HBoxModel",
       "_view_count": null,
       "_view_module": "@jupyter-widgets/controls",
       "_view_module_version": "2.0.0",
       "_view_name": "HBoxView",
       "box_style": "",
       "children": [
        "IPY_MODEL_138db249c68d43639c3429db51db07c5",
        "IPY_MODEL_8f5f0addf88147eaa5d9c042756f3ccb",
        "IPY_MODEL_b109c049bb2b4d7d906ecd6b72a88dba"
       ],
       "layout": "IPY_MODEL_e35cc1ad75724a3e9b61f9c5fd4ca0f5",
       "tabbable": null,
       "tooltip": null
      }
     }
    },
    "version_major": 2,
    "version_minor": 0
   }
  }
 },
 "nbformat": 4,
 "nbformat_minor": 5
}