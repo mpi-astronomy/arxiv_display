{
 "cells": [
  {
   "cell_type": "markdown",
   "id": "92bcb855",
   "metadata": {
    "papermill": {
     "duration": 0.003829,
     "end_time": "2025-04-29T04:11:53.906854",
     "exception": false,
     "start_time": "2025-04-29T04:11:53.903025",
     "status": "completed"
    },
    "tags": []
   },
   "source": [
    "# MPIA Arxiv on Deck 2\n",
    "\n",
    "Contains the steps to produce the paper extractions."
   ]
  },
  {
   "cell_type": "code",
   "execution_count": 1,
   "id": "3a0d6e11",
   "metadata": {
    "execution": {
     "iopub.execute_input": "2025-04-29T04:11:53.914484Z",
     "iopub.status.busy": "2025-04-29T04:11:53.914001Z",
     "iopub.status.idle": "2025-04-29T04:11:54.425374Z",
     "shell.execute_reply": "2025-04-29T04:11:54.424692Z"
    },
    "papermill": {
     "duration": 0.516534,
     "end_time": "2025-04-29T04:11:54.426683",
     "exception": false,
     "start_time": "2025-04-29T04:11:53.910149",
     "status": "completed"
    },
    "tags": []
   },
   "outputs": [],
   "source": [
    "# Imports\n",
    "import os\n",
    "from IPython.display import Markdown, display\n",
    "from tqdm.notebook import tqdm\n",
    "import warnings\n",
    "from PIL import Image \n",
    "import re\n",
    "\n",
    "# requires arxiv_on_deck_2\n",
    "\n",
    "from arxiv_on_deck_2.arxiv2 import (get_new_papers, \n",
    "                                    get_paper_from_identifier,\n",
    "                                    retrieve_document_source, \n",
    "                                    get_markdown_badge)\n",
    "from arxiv_on_deck_2 import (latex,\n",
    "                             latex_bib,\n",
    "                             mpia,\n",
    "                             highlight_authors_in_list)\n",
    "\n",
    "# Sometimes images are really big\n",
    "Image.MAX_IMAGE_PIXELS = 1000000000 "
   ]
  },
  {
   "cell_type": "code",
   "execution_count": 2,
   "id": "22aa9d44",
   "metadata": {
    "execution": {
     "iopub.execute_input": "2025-04-29T04:11:54.434025Z",
     "iopub.status.busy": "2025-04-29T04:11:54.433720Z",
     "iopub.status.idle": "2025-04-29T04:11:54.442013Z",
     "shell.execute_reply": "2025-04-29T04:11:54.441374Z"
    },
    "papermill": {
     "duration": 0.013045,
     "end_time": "2025-04-29T04:11:54.442955",
     "exception": false,
     "start_time": "2025-04-29T04:11:54.429910",
     "status": "completed"
    },
    "tags": []
   },
   "outputs": [],
   "source": [
    "# Some useful definitions.\n",
    "\n",
    "class AffiliationWarning(UserWarning):\n",
    "    pass\n",
    "\n",
    "class AffiliationError(RuntimeError):\n",
    "    pass\n",
    "\n",
    "def validation(source: str):\n",
    "    \"\"\"Raises error paper during parsing of source file\n",
    "    \n",
    "    Allows checks before parsing TeX code.\n",
    "    \n",
    "    Raises AffiliationWarning\n",
    "    \"\"\"\n",
    "    check = mpia.affiliation_verifications(source, verbose=True)\n",
    "    if check is not True:\n",
    "        raise AffiliationError(\"mpia.affiliation_verifications: \" + check)\n",
    "\n",
    "        \n",
    "warnings.simplefilter('always', AffiliationWarning)\n",
    "\n",
    "\n",
    "def get_markdown_qrcode(paper_id: str):\n",
    "    \"\"\" Generate a qrcode to the arxiv page using qrserver.com\n",
    "    \n",
    "    :param paper: Arxiv paper\n",
    "    :returns: markdown text\n",
    "    \"\"\"\n",
    "    url = r\"https://api.qrserver.com/v1/create-qr-code/?size=100x100&data=\"\n",
    "    txt = f\"\"\"<img src={url}\"https://arxiv.org/abs/{paper_id}\">\"\"\"\n",
    "    txt = '<div id=\"qrcode\">' + txt + '</div>'\n",
    "    return txt\n",
    "\n",
    "\n",
    "def clean_non_western_encoded_characters_commands(text: str) -> str:\n",
    "    \"\"\" Remove non-western encoded characters from a string\n",
    "    List may need to grow.\n",
    "    \n",
    "    :param text: the text to clean\n",
    "    :return: the cleaned text\n",
    "    \"\"\"\n",
    "    text = re.sub(r\"(\\\\begin{CJK}{UTF8}{gbsn})(.*?)(\\\\end{CJK})\", r\"\\2\", text)\n",
    "    return text\n",
    "\n",
    "\n",
    "def get_initials(name: str) -> str:\n",
    "    \"\"\" Get the short name, e.g., A.-B. FamName\n",
    "    :param name: full name\n",
    "    :returns: initials\n",
    "    \"\"\"\n",
    "    initials = []\n",
    "    # account for non western names often in ()\n",
    "    if '(' in name:\n",
    "        name = clean_non_western_encoded_characters_commands(name)\n",
    "        suffix = re.findall(r\"\\((.*?)\\)\", name)[0]\n",
    "        name = name.replace(f\"({suffix})\", '')\n",
    "    else:\n",
    "        suffix = ''\n",
    "    split = name.split()\n",
    "    for token in split[:-1]:\n",
    "        if '-' in token:\n",
    "            current = '-'.join([k[0] + '.' for k in token.split('-')])\n",
    "        else:\n",
    "            current = token[0] + '.'\n",
    "        initials.append(current)\n",
    "    initials.append(split[-1].strip())\n",
    "    if suffix:\n",
    "        initials.append(f\"({suffix})\")\n",
    "    return ' '.join(initials)"
   ]
  },
  {
   "cell_type": "markdown",
   "id": "14bd6310",
   "metadata": {
    "papermill": {
     "duration": 0.002886,
     "end_time": "2025-04-29T04:11:54.448867",
     "exception": false,
     "start_time": "2025-04-29T04:11:54.445981",
     "status": "completed"
    },
    "tags": []
   },
   "source": [
    "## get list of arxiv paper candidates\n",
    "\n",
    "We use the MPIA mitarbeiter list webpage from mpia.de to get author names\n",
    "We then get all new papers from Arxiv and match authors"
   ]
  },
  {
   "cell_type": "code",
   "execution_count": 3,
   "id": "7ea813a8",
   "metadata": {
    "execution": {
     "iopub.execute_input": "2025-04-29T04:11:54.455832Z",
     "iopub.status.busy": "2025-04-29T04:11:54.455425Z",
     "iopub.status.idle": "2025-04-29T04:12:17.231978Z",
     "shell.execute_reply": "2025-04-29T04:12:17.231285Z"
    },
    "papermill": {
     "duration": 22.781545,
     "end_time": "2025-04-29T04:12:17.233325",
     "exception": false,
     "start_time": "2025-04-29T04:11:54.451780",
     "status": "completed"
    },
    "tags": []
   },
   "outputs": [],
   "source": [
    "# deal with the author list and edge cases of people that cannot be consistent on their name  \n",
    "\n",
    "def filter_non_scientists(name: str) -> bool:\n",
    "    \"\"\" Loose filter on expected authorships\n",
    "\n",
    "    removing IT, administration, technical staff\n",
    "    :param name: name\n",
    "    :returns: False if name is not a scientist\n",
    "    \"\"\"\n",
    "    remove_list = ['Licht', 'Binroth', 'Witzel', 'Jordan',\n",
    "                   'Zähringer', 'Scheerer', 'Hoffmann', 'Düe',\n",
    "                   'Hellmich', 'Enkler-Scharpegge', 'Witte-Nguy',\n",
    "                   'Dehen', 'Beckmann', 'Jager', 'Jäger'\n",
    "                  ]\n",
    "\n",
    "    for k in remove_list:\n",
    "        if k in name:\n",
    "            return False\n",
    "    return True\n",
    "\n",
    "def add_author_to_list(author_list: list) -> list:\n",
    "    \"\"\" Add author to list if not already in list\n",
    "    \n",
    "    :param author: author name\n",
    "    :param author_list: list of authors\n",
    "    :returns: updated list of authors\n",
    "    \"\"\"\n",
    "    add_list = ['T. Henning']\n",
    "\n",
    "    for author in add_list:\n",
    "        if author not in author_list:\n",
    "            author_list.append(author)\n",
    "    return author_list\n",
    "\n",
    "# get list from MPIA website\n",
    "# filter for non-scientists (mpia.get_mpia_mitarbeiter_list() does some filtering)\n",
    "mpia_authors = [k[1] for k in mpia.get_mpia_mitarbeiter_list() if filter_non_scientists(k[1])]\n",
    "# add some missing author because of inconsistencies in their MPIA name and author name on papers\n",
    "mpia_authors = add_author_to_list(mpia_authors)"
   ]
  },
  {
   "cell_type": "code",
   "execution_count": 4,
   "id": "2645e73a",
   "metadata": {
    "execution": {
     "iopub.execute_input": "2025-04-29T04:12:17.240897Z",
     "iopub.status.busy": "2025-04-29T04:12:17.240402Z",
     "iopub.status.idle": "2025-04-29T04:12:18.393410Z",
     "shell.execute_reply": "2025-04-29T04:12:18.392761Z"
    },
    "papermill": {
     "duration": 1.157733,
     "end_time": "2025-04-29T04:12:18.394449",
     "exception": false,
     "start_time": "2025-04-29T04:12:17.236716",
     "status": "completed"
    },
    "tags": []
   },
   "outputs": [
    {
     "name": "stdout",
     "output_type": "stream",
     "text": [
      "F. Walter  ->  F. Walter  |  ['F. Walter']\n",
      "M. Flock  ->  M. Flock  |  ['M. Flock']\n",
      "M. Benisty  ->  M. Benisty  |  ['M. Benisty']\n",
      "I. Hammond  ->  I. Hammond  |  ['I. Hammond']\n",
      "A. Winter  ->  A. Winter  |  ['A. Winter']\n",
      "M. Benisty  ->  M. Benisty  |  ['M. Benisty']\n",
      "D. Fasano  ->  D. Fasano  |  ['D. Fasano']\n",
      "M. Flock  ->  M. Flock  |  ['M. Flock']\n",
      "I. Hammond  ->  I. Hammond  |  ['I. Hammond']\n",
      "M. Benisty  ->  M. Benisty  |  ['M. Benisty']\n",
      "D. Fasano  ->  D. Fasano  |  ['D. Fasano']\n",
      "M. Flock  ->  M. Flock  |  ['M. Flock']\n",
      "I. Hammond  ->  I. Hammond  |  ['I. Hammond']\n",
      "M. Benisty  ->  M. Benisty  |  ['M. Benisty']\n",
      "D. Fasano  ->  D. Fasano  |  ['D. Fasano']\n",
      "M. Flock  ->  M. Flock  |  ['M. Flock']\n",
      "A. Winter  ->  A. Winter  |  ['A. Winter']\n",
      "M. Benisty  ->  M. Benisty  |  ['M. Benisty']\n",
      "D. Fasano  ->  D. Fasano  |  ['D. Fasano']\n",
      "M. Flock  ->  M. Flock  |  ['M. Flock']\n",
      "I. Hammond  ->  I. Hammond  |  ['I. Hammond']\n",
      "Y. Wang  ->  Y. Wang  |  ['Y. Wang']\n",
      "X. Zhang  ->  X. Zhang  |  ['X. Zhang']\n",
      "Y. Wang  ->  Y. Wang  |  ['Y. Wang']\n",
      "M. Benisty  ->  M. Benisty  |  ['M. Benisty']\n",
      "D. Fasano  ->  D. Fasano  |  ['D. Fasano']\n",
      "M. Flock  ->  M. Flock  |  ['M. Flock']\n"
     ]
    },
    {
     "name": "stdout",
     "output_type": "stream",
     "text": [
      "M. Benisty  ->  M. Benisty  |  ['M. Benisty']\n",
      "D. Fasano  ->  D. Fasano  |  ['D. Fasano']\n",
      "M. Flock  ->  M. Flock  |  ['M. Flock']\n",
      "M. Benisty  ->  M. Benisty  |  ['M. Benisty']\n",
      "D. Fasano  ->  D. Fasano  |  ['D. Fasano']\n",
      "M. Flock  ->  M. Flock  |  ['M. Flock']\n",
      "I. Hammond  ->  I. Hammond  |  ['I. Hammond']\n",
      "M. Benisty  ->  M. Benisty  |  ['M. Benisty']\n",
      "D. Fasano  ->  D. Fasano  |  ['D. Fasano']\n",
      "M. Flock  ->  M. Flock  |  ['M. Flock']\n",
      "F. Briegel  ->  F. Briegel  |  ['F. Briegel']\n",
      "L. Mohr  ->  L. Mohr  |  ['L. Mohr']\n",
      "M. Flock  ->  M. Flock  |  ['M. Flock']\n",
      "M. Benisty  ->  M. Benisty  |  ['M. Benisty']\n",
      "D. Fasano  ->  D. Fasano  |  ['D. Fasano']\n",
      "M. Benisty  ->  M. Benisty  |  ['M. Benisty']\n",
      "D. Fasano  ->  D. Fasano  |  ['D. Fasano']\n",
      "M. Flock  ->  M. Flock  |  ['M. Flock']\n",
      "M. Benisty  ->  M. Benisty  |  ['M. Benisty']\n",
      "D. Fasano  ->  D. Fasano  |  ['D. Fasano']\n",
      "M. Flock  ->  M. Flock  |  ['M. Flock']\n",
      "M. Benisty  ->  M. Benisty  |  ['M. Benisty']\n",
      "D. Fasano  ->  D. Fasano  |  ['D. Fasano']\n",
      "M. Flock  ->  M. Flock  |  ['M. Flock']\n"
     ]
    },
    {
     "name": "stdout",
     "output_type": "stream",
     "text": [
      "M. Benisty  ->  M. Benisty  |  ['M. Benisty']\n",
      "D. Fasano  ->  D. Fasano  |  ['D. Fasano']\n",
      "M. Flock  ->  M. Flock  |  ['M. Flock']\n",
      "I. Hammond  ->  I. Hammond  |  ['I. Hammond']\n",
      "M. Benisty  ->  M. Benisty  |  ['M. Benisty']\n",
      "D. Fasano  ->  D. Fasano  |  ['D. Fasano']\n",
      "M. Flock  ->  M. Flock  |  ['M. Flock']\n",
      "M. Benisty  ->  M. Benisty  |  ['M. Benisty']\n",
      "D. Fasano  ->  D. Fasano  |  ['D. Fasano']\n",
      "M. Flock  ->  M. Flock  |  ['M. Flock']\n",
      "M. Benisty  ->  M. Benisty  |  ['M. Benisty']\n",
      "D. Fasano  ->  D. Fasano  |  ['D. Fasano']\n",
      "M. Flock  ->  M. Flock  |  ['M. Flock']\n",
      "I. Hammond  ->  I. Hammond  |  ['I. Hammond']\n",
      "Arxiv has 105 new papers today\n",
      "          22 with possible author matches\n"
     ]
    }
   ],
   "source": [
    "new_papers = get_new_papers()\n",
    "# add manual references\n",
    "add_paper_refs = []\n",
    "new_papers.extend([get_paper_from_identifier(k) for k in add_paper_refs])\n",
    "\n",
    "def robust_call(fn, value, *args, **kwargs):\n",
    "    try:\n",
    "        return fn(value, *args, **kwargs)\n",
    "    except Exception:\n",
    "        return value\n",
    "\n",
    "candidates = []\n",
    "for paperk in new_papers:\n",
    "    # Check author list with their initials\n",
    "    normed_author_list = [robust_call(mpia.get_initials, k) for k in paperk['authors']]\n",
    "    hl_authors = highlight_authors_in_list(normed_author_list, mpia_authors, verbose=True)\n",
    "    matches = [(hl, orig) for hl, orig in zip(hl_authors, paperk['authors']) if 'mark' in hl]\n",
    "    paperk['authors'] = hl_authors\n",
    "    if matches:\n",
    "        # only select paper if an author matched our list\n",
    "        candidates.append(paperk)\n",
    "print(\"\"\"Arxiv has {0:,d} new papers today\"\"\".format(len(new_papers)))        \n",
    "print(\"\"\"          {0:,d} with possible author matches\"\"\".format(len(candidates)))"
   ]
  },
  {
   "cell_type": "markdown",
   "id": "3543b34a",
   "metadata": {
    "papermill": {
     "duration": 0.003197,
     "end_time": "2025-04-29T04:12:18.401339",
     "exception": false,
     "start_time": "2025-04-29T04:12:18.398142",
     "status": "completed"
    },
    "tags": []
   },
   "source": [
    "# Parse sources and generate relevant outputs\n",
    "\n",
    "From the candidates, we do the following steps:\n",
    "* get their tarball from ArXiv (and extract data)\n",
    "* find the main .tex file: find one with \\documentclass{...} (sometimes it's non trivial)\n",
    "* Check affiliations with :func:`validation`, which uses :func:`mpia.affiliation_verifications`\n",
    "* If passing the affiliations: we parse the .tex source\n",
    "   * inject sub-documents into the main (flatten the main document)\n",
    "   * parse structure, extract information (title, abstract, authors, figures...)\n",
    "   * handles `\\graphicspath` if provided\n",
    "* Generate the .md document."
   ]
  },
  {
   "cell_type": "code",
   "execution_count": 5,
   "id": "9576b79e",
   "metadata": {
    "execution": {
     "iopub.execute_input": "2025-04-29T04:12:18.408885Z",
     "iopub.status.busy": "2025-04-29T04:12:18.408471Z",
     "iopub.status.idle": "2025-04-29T04:24:48.782166Z",
     "shell.execute_reply": "2025-04-29T04:24:48.781325Z"
    },
    "papermill": {
     "duration": 750.386342,
     "end_time": "2025-04-29T04:24:48.790937",
     "exception": false,
     "start_time": "2025-04-29T04:12:18.404595",
     "status": "completed"
    },
    "scrolled": false,
    "tags": []
   },
   "outputs": [
    {
     "data": {
      "application/vnd.jupyter.widget-view+json": {
       "model_id": "47e2e8167d134367af7553626b8bca77",
       "version_major": 2,
       "version_minor": 0
      },
      "text/plain": [
       "  0%|          | 0/22 [00:00<?, ?it/s]"
      ]
     },
     "metadata": {},
     "output_type": "display_data"
    },
    {
     "name": "stdout",
     "output_type": "stream",
     "text": [
      "Retrieving document from  https://arxiv.org/e-print/2504.18616\n"
     ]
    },
    {
     "name": "stdout",
     "output_type": "stream",
     "text": [
      "extracting tarball to tmp_2504.18616..."
     ]
    },
    {
     "name": "stdout",
     "output_type": "stream",
     "text": [
      " done.\n"
     ]
    },
    {
     "name": "stdout",
     "output_type": "stream",
     "text": [
      "F. Walter  ->  F. Walter  |  ['F. Walter']\n"
     ]
    },
    {
     "name": "stdout",
     "output_type": "stream",
     "text": [
      "Found 156 bibliographic references in tmp_2504.18616/aanda.bbl.\n",
      "Issues with the citations\n",
      "syntax error in line 5: unbalanced braces\n",
      "Retrieving document from  https://arxiv.org/e-print/2504.18643\n"
     ]
    },
    {
     "name": "stdout",
     "output_type": "stream",
     "text": [
      "extracting tarball to tmp_2504.18643..."
     ]
    },
    {
     "name": "stdout",
     "output_type": "stream",
     "text": [
      " done.\n",
      "  0: tmp_2504.18643/ms.tex, 736 lines\n",
      "  1: tmp_2504.18643/natbib.tex, 96 lines\n",
      "  2: tmp_2504.18643/natnotes.tex, 332 lines\n",
      "  3: tmp_2504.18643/aassymbols.tex, 579 lines\n"
     ]
    },
    {
     "name": "stderr",
     "output_type": "stream",
     "text": [
      "/opt/hostedtoolcache/Python/3.9.22/x64/lib/python3.9/site-packages/IPython/core/interactiveshell.py:3550: LatexWarning: Multiple tex files.\n",
      "\n",
      "  exec(code_obj, self.user_global_ns, self.user_ns)\n",
      "/opt/hostedtoolcache/Python/3.9.22/x64/lib/python3.9/site-packages/IPython/core/interactiveshell.py:3550: LatexWarning: Found 4 candidates with documentclass definition.\n",
      "  exec(code_obj, self.user_global_ns, self.user_ns)\n",
      "/opt/hostedtoolcache/Python/3.9.22/x64/lib/python3.9/site-packages/IPython/core/interactiveshell.py:3550: LatexWarning: Assuming tmp_2504.18643/ms.tex as main document.\n",
      "  exec(code_obj, self.user_global_ns, self.user_ns)\n"
     ]
    },
    {
     "name": "stdout",
     "output_type": "stream",
     "text": [
      "Found 45 bibliographic references in tmp_2504.18643/ms.bbl.\n",
      "Retrieving document from  https://arxiv.org/e-print/2504.18688\n"
     ]
    },
    {
     "name": "stdout",
     "output_type": "stream",
     "text": [
      "extracting tarball to tmp_2504.18688..."
     ]
    },
    {
     "name": "stdout",
     "output_type": "stream",
     "text": [
      " done.\n"
     ]
    },
    {
     "name": "stdout",
     "output_type": "stream",
     "text": [
      "M. Benisty  ->  M. Benisty  |  ['M. Benisty']\n",
      "D. Fasano  ->  D. Fasano  |  ['D. Fasano']\n",
      "M. Flock  ->  M. Flock  |  ['M. Flock']\n",
      "I. Hammond  ->  I. Hammond  |  ['I. Hammond']\n"
     ]
    },
    {
     "name": "stdout",
     "output_type": "stream",
     "text": [
      "Found 133 bibliographic references in tmp_2504.18688/main.bbl.\n",
      "Retrieving document from  https://arxiv.org/e-print/2504.18717\n"
     ]
    },
    {
     "name": "stdout",
     "output_type": "stream",
     "text": [
      "extracting tarball to tmp_2504.18717..."
     ]
    },
    {
     "name": "stdout",
     "output_type": "stream",
     "text": [
      " done.\n"
     ]
    },
    {
     "name": "stdout",
     "output_type": "stream",
     "text": [
      "Found 74 bibliographic references in tmp_2504.18717/exoALMA_planets.bbl.\n",
      "Retrieving document from  https://arxiv.org/e-print/2504.18725\n"
     ]
    },
    {
     "name": "stdout",
     "output_type": "stream",
     "text": [
      "extracting tarball to tmp_2504.18725..."
     ]
    },
    {
     "name": "stdout",
     "output_type": "stream",
     "text": [
      " done.\n"
     ]
    },
    {
     "name": "stdout",
     "output_type": "stream",
     "text": [
      "M. Benisty  ->  M. Benisty  |  ['M. Benisty']\n",
      "D. Fasano  ->  D. Fasano  |  ['D. Fasano']\n",
      "M. Flock  ->  M. Flock  |  ['M. Flock']\n"
     ]
    },
    {
     "name": "stdout",
     "output_type": "stream",
     "text": [
      "Found 107 bibliographic references in tmp_2504.18725/exoALMA_continuum.bbl.\n",
      "Retrieving document from  https://arxiv.org/e-print/2504.18726\n"
     ]
    },
    {
     "name": "stdout",
     "output_type": "stream",
     "text": [
      "extracting tarball to tmp_2504.18726..."
     ]
    },
    {
     "name": "stdout",
     "output_type": "stream",
     "text": [
      " done.\n"
     ]
    },
    {
     "name": "stdout",
     "output_type": "stream",
     "text": [
      "A. Winter  ->  A. Winter  |  ['A. Winter']\n",
      "M. Benisty  ->  M. Benisty  |  ['M. Benisty']\n",
      "D. Fasano  ->  D. Fasano  |  ['D. Fasano']\n",
      "M. Flock  ->  M. Flock  |  ['M. Flock']\n",
      "I. Hammond  ->  I. Hammond  |  ['I. Hammond']\n"
     ]
    },
    {
     "name": "stdout",
     "output_type": "stream",
     "text": [
      "Found 64 bibliographic references in tmp_2504.18726/main.bbl.\n",
      "Retrieving document from  https://arxiv.org/e-print/2504.18820\n"
     ]
    },
    {
     "name": "stdout",
     "output_type": "stream",
     "text": [
      "extracting tarball to tmp_2504.18820..."
     ]
    },
    {
     "name": "stdout",
     "output_type": "stream",
     "text": [
      " done.\n",
      "Retrieving document from  https://arxiv.org/e-print/2504.18935\n"
     ]
    },
    {
     "name": "stdout",
     "output_type": "stream",
     "text": [
      "extracting tarball to tmp_2504.18935... done.\n",
      "Retrieving document from  https://arxiv.org/e-print/2504.18952\n"
     ]
    },
    {
     "name": "stdout",
     "output_type": "stream",
     "text": [
      "extracting tarball to tmp_2504.18952..."
     ]
    },
    {
     "name": "stdout",
     "output_type": "stream",
     "text": [
      " done.\n",
      "Retrieving document from  https://arxiv.org/e-print/2504.19111\n"
     ]
    },
    {
     "name": "stdout",
     "output_type": "stream",
     "text": [
      "extracting tarball to tmp_2504.19111..."
     ]
    },
    {
     "name": "stdout",
     "output_type": "stream",
     "text": [
      " done.\n"
     ]
    },
    {
     "name": "stdout",
     "output_type": "stream",
     "text": [
      "M. Benisty  ->  M. Benisty  |  ['M. Benisty']\n",
      "D. Fasano  ->  D. Fasano  |  ['D. Fasano']\n",
      "M. Flock  ->  M. Flock  |  ['M. Flock']\n"
     ]
    },
    {
     "name": "stdout",
     "output_type": "stream",
     "text": [
      "Found 48 bibliographic references in tmp_2504.19111/main.bbl.\n",
      "Retrieving document from  https://arxiv.org/e-print/2504.19371\n"
     ]
    },
    {
     "name": "stdout",
     "output_type": "stream",
     "text": [
      "extracting tarball to tmp_2504.19371... done.\n"
     ]
    },
    {
     "name": "stdout",
     "output_type": "stream",
     "text": [
      "M. Benisty  ->  M. Benisty  |  ['M. Benisty']\n",
      "D. Fasano  ->  D. Fasano  |  ['D. Fasano']\n",
      "M. Flock  ->  M. Flock  |  ['M. Flock']\n"
     ]
    },
    {
     "name": "stderr",
     "output_type": "stream",
     "text": [
      "/opt/hostedtoolcache/Python/3.9.22/x64/lib/python3.9/site-packages/arxiv_on_deck_2/latex.py:132: LatexWarning: attempting recovering figure C18O_versus_225GHz_continuum.pdf\n",
      "  warnings.warn(LatexWarning(f'attempting recovering figure {image}'))\n",
      "/opt/hostedtoolcache/Python/3.9.22/x64/lib/python3.9/site-packages/arxiv_on_deck_2/latex.py:707: LatexWarning: Could not find graphic \\includegraphics[width=\\textwidth]{C18O_versus_225GHz_continuum.pdf}\n",
      "  warnings.warn(LatexWarning(f\"Could not find graphic {k}\"))\n",
      "/opt/hostedtoolcache/Python/3.9.22/x64/lib/python3.9/site-packages/arxiv_on_deck_2/latex.py:132: LatexWarning: attempting recovering figure N2Hp_versus_285GHz_continuum.pdf\n",
      "  warnings.warn(LatexWarning(f'attempting recovering figure {image}'))\n",
      "/opt/hostedtoolcache/Python/3.9.22/x64/lib/python3.9/site-packages/arxiv_on_deck_2/latex.py:707: LatexWarning: Could not find graphic \\includegraphics[width=\\textwidth]{N2Hp_versus_285GHz_continuum.pdf}\n",
      "  warnings.warn(LatexWarning(f\"Could not find graphic {k}\"))\n",
      "/opt/hostedtoolcache/Python/3.9.22/x64/lib/python3.9/site-packages/arxiv_on_deck_2/latex.py:132: LatexWarning: attempting recovering figure C18O_versus_N2Hp_fluxes.pdf\n",
      "  warnings.warn(LatexWarning(f'attempting recovering figure {image}'))\n",
      "/opt/hostedtoolcache/Python/3.9.22/x64/lib/python3.9/site-packages/arxiv_on_deck_2/latex.py:707: LatexWarning: Could not find graphic \\includegraphics[width=\\textwidth]{C18O_versus_N2Hp_fluxes.pdf}\n",
      "  warnings.warn(LatexWarning(f\"Could not find graphic {k}\"))\n",
      "/opt/hostedtoolcache/Python/3.9.22/x64/lib/python3.9/site-packages/arxiv_on_deck_2/latex.py:132: LatexWarning: attempting recovering figure Mgas_versus_Mdust.pdf\n",
      "  warnings.warn(LatexWarning(f'attempting recovering figure {image}'))\n",
      "/opt/hostedtoolcache/Python/3.9.22/x64/lib/python3.9/site-packages/arxiv_on_deck_2/latex.py:707: LatexWarning: Could not find graphic \\includegraphics[width=0.98\\columnwidth]{Mgas_versus_Mdust.pdf}\n",
      "  warnings.warn(LatexWarning(f\"Could not find graphic {k}\"))\n",
      "/opt/hostedtoolcache/Python/3.9.22/x64/lib/python3.9/site-packages/arxiv_on_deck_2/latex.py:132: LatexWarning: attempting recovering figure Mass_comparison_xVSy.pdf\n",
      "  warnings.warn(LatexWarning(f'attempting recovering figure {image}'))\n",
      "/opt/hostedtoolcache/Python/3.9.22/x64/lib/python3.9/site-packages/arxiv_on_deck_2/latex.py:707: LatexWarning: Could not find graphic \\includegraphics[width=\\columnwidth]{Mass_comparison_xVSy.pdf}\n",
      "  warnings.warn(LatexWarning(f\"Could not find graphic {k}\"))\n",
      "/opt/hostedtoolcache/Python/3.9.22/x64/lib/python3.9/site-packages/arxiv_on_deck_2/latex.py:132: LatexWarning: attempting recovering figure Gas_masses_with_and_without_cavities_v2.pdf\n",
      "  warnings.warn(LatexWarning(f'attempting recovering figure {image}'))\n",
      "/opt/hostedtoolcache/Python/3.9.22/x64/lib/python3.9/site-packages/arxiv_on_deck_2/latex.py:707: LatexWarning: Could not find graphic \\includegraphics[width=\\columnwidth]{Gas_masses_with_and_without_cavities_v2.pdf}\n",
      "  warnings.warn(LatexWarning(f\"Could not find graphic {k}\"))\n",
      "/opt/hostedtoolcache/Python/3.9.22/x64/lib/python3.9/site-packages/arxiv_on_deck_2/latex.py:132: LatexWarning: attempting recovering figure Cosmic_ray_ionization_rates.pdf\n",
      "  warnings.warn(LatexWarning(f'attempting recovering figure {image}'))\n",
      "/opt/hostedtoolcache/Python/3.9.22/x64/lib/python3.9/site-packages/arxiv_on_deck_2/latex.py:707: LatexWarning: Could not find graphic \\includegraphics[width=\\columnwidth]{Cosmic_ray_ionization_rates.pdf}\n",
      "  warnings.warn(LatexWarning(f\"Could not find graphic {k}\"))\n",
      "/opt/hostedtoolcache/Python/3.9.22/x64/lib/python3.9/site-packages/arxiv_on_deck_2/latex.py:132: LatexWarning: attempting recovering figure Herbigs_with_and_without_N2Hp.pdf\n",
      "  warnings.warn(LatexWarning(f'attempting recovering figure {image}'))\n",
      "/opt/hostedtoolcache/Python/3.9.22/x64/lib/python3.9/site-packages/arxiv_on_deck_2/latex.py:707: LatexWarning: Could not find graphic \\includegraphics[width=\\columnwidth]{Herbigs_with_and_without_N2Hp.pdf}\n",
      "  warnings.warn(LatexWarning(f\"Could not find graphic {k}\"))\n",
      "/opt/hostedtoolcache/Python/3.9.22/x64/lib/python3.9/site-packages/arxiv_on_deck_2/latex.py:132: LatexWarning: attempting recovering figure xCO_histogram.pdf\n",
      "  warnings.warn(LatexWarning(f'attempting recovering figure {image}'))\n",
      "/opt/hostedtoolcache/Python/3.9.22/x64/lib/python3.9/site-packages/arxiv_on_deck_2/latex.py:707: LatexWarning: Could not find graphic \\includegraphics[width=\\columnwidth]{xCO_histogram.pdf}\n",
      "  warnings.warn(LatexWarning(f\"Could not find graphic {k}\"))\n",
      "/opt/hostedtoolcache/Python/3.9.22/x64/lib/python3.9/site-packages/arxiv_on_deck_2/latex.py:132: LatexWarning: attempting recovering figure exoALMA_new_obs_gallery.pdf\n",
      "  warnings.warn(LatexWarning(f'attempting recovering figure {image}'))\n",
      "/opt/hostedtoolcache/Python/3.9.22/x64/lib/python3.9/site-packages/arxiv_on_deck_2/latex.py:707: LatexWarning: Could not find graphic \\includegraphics[width=\\textwidth]{exoALMA_new_obs_gallery.pdf}\n",
      "  warnings.warn(LatexWarning(f\"Could not find graphic {k}\"))\n",
      "/opt/hostedtoolcache/Python/3.9.22/x64/lib/python3.9/site-packages/arxiv_on_deck_2/latex.py:132: LatexWarning: attempting recovering figure exoALMA_and_MAPS_disk_masses_MCMC_v5.pdf\n",
      "  warnings.warn(LatexWarning(f'attempting recovering figure {image}'))\n",
      "/opt/hostedtoolcache/Python/3.9.22/x64/lib/python3.9/site-packages/arxiv_on_deck_2/latex.py:707: LatexWarning: Could not find graphic \\includegraphics[width=\\textwidth]{exoALMA_and_MAPS_disk_masses_MCMC_v5.pdf}\n",
      "  warnings.warn(LatexWarning(f\"Could not find graphic {k}\"))\n"
     ]
    },
    {
     "name": "stdout",
     "output_type": "stream",
     "text": [
      "Found 138 bibliographic references in tmp_2504.19371/main-accepted.bbl.\n",
      "Issues with the citations\n",
      "syntax error in line 16: '}' expected\n",
      "Retrieving document from  https://arxiv.org/e-print/2504.19416\n"
     ]
    },
    {
     "name": "stdout",
     "output_type": "stream",
     "text": [
      "extracting tarball to tmp_2504.19416..."
     ]
    },
    {
     "name": "stdout",
     "output_type": "stream",
     "text": [
      " done.\n"
     ]
    },
    {
     "name": "stdout",
     "output_type": "stream",
     "text": [
      "M. Benisty  ->  M. Benisty  |  ['M. Benisty']\n",
      "D. Fasano  ->  D. Fasano  |  ['D. Fasano']\n",
      "M. Flock  ->  M. Flock  |  ['M. Flock']\n",
      "I. Hammond  ->  I. Hammond  |  ['I. Hammond']\n"
     ]
    },
    {
     "name": "stdout",
     "output_type": "stream",
     "text": [
      "Found 99 bibliographic references in tmp_2504.19416/paper.bbl.\n",
      "Retrieving document from  https://arxiv.org/e-print/2504.19434\n"
     ]
    },
    {
     "name": "stdout",
     "output_type": "stream",
     "text": [
      "extracting tarball to tmp_2504.19434..."
     ]
    },
    {
     "name": "stdout",
     "output_type": "stream",
     "text": [
      " done.\n"
     ]
    },
    {
     "name": "stdout",
     "output_type": "stream",
     "text": [
      "M. Benisty  ->  M. Benisty  |  ['M. Benisty']\n",
      "D. Fasano  ->  D. Fasano  |  ['D. Fasano']\n",
      "M. Flock  ->  M. Flock  |  ['M. Flock']\n"
     ]
    },
    {
     "name": "stdout",
     "output_type": "stream",
     "text": [
      "Found 104 bibliographic references in tmp_2504.19434/sample631.bbl.\n",
      "Retrieving document from  https://arxiv.org/e-print/2504.19709\n"
     ]
    },
    {
     "name": "stdout",
     "output_type": "stream",
     "text": [
      "extracting tarball to tmp_2504.19709..."
     ]
    },
    {
     "name": "stdout",
     "output_type": "stream",
     "text": [
      " done.\n"
     ]
    },
    {
     "name": "stderr",
     "output_type": "stream",
     "text": [
      "/opt/hostedtoolcache/Python/3.9.22/x64/lib/python3.9/site-packages/arxiv_on_deck_2/latex.py:132: LatexWarning: attempting recovering figure shark-opto-2\n",
      "  warnings.warn(LatexWarning(f'attempting recovering figure {image}'))\n",
      "/opt/hostedtoolcache/Python/3.9.22/x64/lib/python3.9/site-packages/arxiv_on_deck_2/latex.py:137: LatexWarning: Recovered figure shark-opto-2 as tmp_2504.19709/./shark-opto-2.pdf\n",
      "  warnings.warn(LatexWarning(f'Recovered figure {image} as {fname}'))\n"
     ]
    },
    {
     "name": "stderr",
     "output_type": "stream",
     "text": [
      "/opt/hostedtoolcache/Python/3.9.22/x64/lib/python3.9/site-packages/arxiv_on_deck_2/latex.py:132: LatexWarning: attempting recovering figure shark-network\n",
      "  warnings.warn(LatexWarning(f'attempting recovering figure {image}'))\n",
      "/opt/hostedtoolcache/Python/3.9.22/x64/lib/python3.9/site-packages/arxiv_on_deck_2/latex.py:137: LatexWarning: Recovered figure shark-network as tmp_2504.19709/./shark-network.pdf\n",
      "  warnings.warn(LatexWarning(f'Recovered figure {image} as {fname}'))\n"
     ]
    },
    {
     "name": "stderr",
     "output_type": "stream",
     "text": [
      "/opt/hostedtoolcache/Python/3.9.22/x64/lib/python3.9/site-packages/arxiv_on_deck_2/latex.py:132: LatexWarning: attempting recovering figure shark-stack\n",
      "  warnings.warn(LatexWarning(f'attempting recovering figure {image}'))\n",
      "/opt/hostedtoolcache/Python/3.9.22/x64/lib/python3.9/site-packages/arxiv_on_deck_2/latex.py:137: LatexWarning: Recovered figure shark-stack as tmp_2504.19709/./shark-stack.pdf\n",
      "  warnings.warn(LatexWarning(f'Recovered figure {image} as {fname}'))\n"
     ]
    },
    {
     "name": "stderr",
     "output_type": "stream",
     "text": [
      "/opt/hostedtoolcache/Python/3.9.22/x64/lib/python3.9/site-packages/arxiv_on_deck_2/latex.py:132: LatexWarning: attempting recovering figure dev\n",
      "  warnings.warn(LatexWarning(f'attempting recovering figure {image}'))\n",
      "/opt/hostedtoolcache/Python/3.9.22/x64/lib/python3.9/site-packages/arxiv_on_deck_2/latex.py:137: LatexWarning: Recovered figure dev as tmp_2504.19709/./dev.pdf\n",
      "  warnings.warn(LatexWarning(f'Recovered figure {image} as {fname}'))\n",
      "/opt/hostedtoolcache/Python/3.9.22/x64/lib/python3.9/site-packages/arxiv_on_deck_2/latex.py:132: LatexWarning: attempting recovering figure rtc\n",
      "  warnings.warn(LatexWarning(f'attempting recovering figure {image}'))\n",
      "/opt/hostedtoolcache/Python/3.9.22/x64/lib/python3.9/site-packages/arxiv_on_deck_2/latex.py:137: LatexWarning: Recovered figure rtc as tmp_2504.19709/./rtc.pdf\n",
      "  warnings.warn(LatexWarning(f'Recovered figure {image} as {fname}'))\n",
      "/opt/hostedtoolcache/Python/3.9.22/x64/lib/python3.9/site-packages/arxiv_on_deck_2/latex.py:132: LatexWarning: attempting recovering figure obs\n",
      "  warnings.warn(LatexWarning(f'attempting recovering figure {image}'))\n",
      "/opt/hostedtoolcache/Python/3.9.22/x64/lib/python3.9/site-packages/arxiv_on_deck_2/latex.py:137: LatexWarning: Recovered figure obs as tmp_2504.19709/./obs.pdf\n",
      "  warnings.warn(LatexWarning(f'Recovered figure {image} as {fname}'))\n"
     ]
    },
    {
     "name": "stderr",
     "output_type": "stream",
     "text": [
      "/opt/hostedtoolcache/Python/3.9.22/x64/lib/python3.9/site-packages/arxiv_on_deck_2/latex.py:132: LatexWarning: attempting recovering figure dev-1-1\n",
      "  warnings.warn(LatexWarning(f'attempting recovering figure {image}'))\n",
      "/opt/hostedtoolcache/Python/3.9.22/x64/lib/python3.9/site-packages/arxiv_on_deck_2/latex.py:137: LatexWarning: Recovered figure dev-1-1 as tmp_2504.19709/./dev-1-1.png\n",
      "  warnings.warn(LatexWarning(f'Recovered figure {image} as {fname}'))\n",
      "/opt/hostedtoolcache/Python/3.9.22/x64/lib/python3.9/site-packages/arxiv_on_deck_2/latex.py:132: LatexWarning: attempting recovering figure dev-2-2\n",
      "  warnings.warn(LatexWarning(f'attempting recovering figure {image}'))\n",
      "/opt/hostedtoolcache/Python/3.9.22/x64/lib/python3.9/site-packages/arxiv_on_deck_2/latex.py:137: LatexWarning: Recovered figure dev-2-2 as tmp_2504.19709/./dev-2-2.png\n",
      "  warnings.warn(LatexWarning(f'Recovered figure {image} as {fname}'))\n",
      "/opt/hostedtoolcache/Python/3.9.22/x64/lib/python3.9/site-packages/arxiv_on_deck_2/latex.py:132: LatexWarning: attempting recovering figure rtc-1-1-2\n",
      "  warnings.warn(LatexWarning(f'attempting recovering figure {image}'))\n",
      "/opt/hostedtoolcache/Python/3.9.22/x64/lib/python3.9/site-packages/arxiv_on_deck_2/latex.py:137: LatexWarning: Recovered figure rtc-1-1-2 as tmp_2504.19709/./rtc-1-1-2.png\n",
      "  warnings.warn(LatexWarning(f'Recovered figure {image} as {fname}'))\n",
      "/opt/hostedtoolcache/Python/3.9.22/x64/lib/python3.9/site-packages/arxiv_on_deck_2/latex.py:132: LatexWarning: attempting recovering figure rtc-1-2-1\n",
      "  warnings.warn(LatexWarning(f'attempting recovering figure {image}'))\n",
      "/opt/hostedtoolcache/Python/3.9.22/x64/lib/python3.9/site-packages/arxiv_on_deck_2/latex.py:137: LatexWarning: Recovered figure rtc-1-2-1 as tmp_2504.19709/./rtc-1-2-1.png\n",
      "  warnings.warn(LatexWarning(f'Recovered figure {image} as {fname}'))\n",
      "/opt/hostedtoolcache/Python/3.9.22/x64/lib/python3.9/site-packages/arxiv_on_deck_2/latex.py:132: LatexWarning: attempting recovering figure rtc-1-4-1\n",
      "  warnings.warn(LatexWarning(f'attempting recovering figure {image}'))\n",
      "/opt/hostedtoolcache/Python/3.9.22/x64/lib/python3.9/site-packages/arxiv_on_deck_2/latex.py:137: LatexWarning: Recovered figure rtc-1-4-1 as tmp_2504.19709/./rtc-1-4-1.png\n",
      "  warnings.warn(LatexWarning(f'Recovered figure {image} as {fname}'))\n",
      "/opt/hostedtoolcache/Python/3.9.22/x64/lib/python3.9/site-packages/arxiv_on_deck_2/latex.py:132: LatexWarning: attempting recovering figure rtc-2-1-1\n",
      "  warnings.warn(LatexWarning(f'attempting recovering figure {image}'))\n",
      "/opt/hostedtoolcache/Python/3.9.22/x64/lib/python3.9/site-packages/arxiv_on_deck_2/latex.py:137: LatexWarning: Recovered figure rtc-2-1-1 as tmp_2504.19709/./rtc-2-1-1.png\n",
      "  warnings.warn(LatexWarning(f'Recovered figure {image} as {fname}'))\n",
      "/opt/hostedtoolcache/Python/3.9.22/x64/lib/python3.9/site-packages/arxiv_on_deck_2/latex.py:132: LatexWarning: attempting recovering figure rtc-2-4-1\n",
      "  warnings.warn(LatexWarning(f'attempting recovering figure {image}'))\n",
      "/opt/hostedtoolcache/Python/3.9.22/x64/lib/python3.9/site-packages/arxiv_on_deck_2/latex.py:137: LatexWarning: Recovered figure rtc-2-4-1 as tmp_2504.19709/./rtc-2-4-1.png\n",
      "  warnings.warn(LatexWarning(f'Recovered figure {image} as {fname}'))\n",
      "/opt/hostedtoolcache/Python/3.9.22/x64/lib/python3.9/site-packages/arxiv_on_deck_2/latex.py:132: LatexWarning: attempting recovering figure wiz-1\n",
      "  warnings.warn(LatexWarning(f'attempting recovering figure {image}'))\n",
      "/opt/hostedtoolcache/Python/3.9.22/x64/lib/python3.9/site-packages/arxiv_on_deck_2/latex.py:137: LatexWarning: Recovered figure wiz-1 as tmp_2504.19709/./wiz-1.png\n",
      "  warnings.warn(LatexWarning(f'Recovered figure {image} as {fname}'))\n",
      "/opt/hostedtoolcache/Python/3.9.22/x64/lib/python3.9/site-packages/arxiv_on_deck_2/latex.py:132: LatexWarning: attempting recovering figure obs-1-1\n",
      "  warnings.warn(LatexWarning(f'attempting recovering figure {image}'))\n",
      "/opt/hostedtoolcache/Python/3.9.22/x64/lib/python3.9/site-packages/arxiv_on_deck_2/latex.py:137: LatexWarning: Recovered figure obs-1-1 as tmp_2504.19709/./obs-1-1.png\n",
      "  warnings.warn(LatexWarning(f'Recovered figure {image} as {fname}'))\n",
      "/opt/hostedtoolcache/Python/3.9.22/x64/lib/python3.9/site-packages/arxiv_on_deck_2/latex.py:132: LatexWarning: attempting recovering figure obs-2-2-1\n",
      "  warnings.warn(LatexWarning(f'attempting recovering figure {image}'))\n",
      "/opt/hostedtoolcache/Python/3.9.22/x64/lib/python3.9/site-packages/arxiv_on_deck_2/latex.py:137: LatexWarning: Recovered figure obs-2-2-1 as tmp_2504.19709/./obs-2-2-1.png\n",
      "  warnings.warn(LatexWarning(f'Recovered figure {image} as {fname}'))\n",
      "/opt/hostedtoolcache/Python/3.9.22/x64/lib/python3.9/site-packages/arxiv_on_deck_2/latex.py:132: LatexWarning: attempting recovering figure obs-2-3-1\n",
      "  warnings.warn(LatexWarning(f'attempting recovering figure {image}'))\n",
      "/opt/hostedtoolcache/Python/3.9.22/x64/lib/python3.9/site-packages/arxiv_on_deck_2/latex.py:137: LatexWarning: Recovered figure obs-2-3-1 as tmp_2504.19709/./obs-2-3-1.png\n",
      "  warnings.warn(LatexWarning(f'Recovered figure {image} as {fname}'))\n",
      "/opt/hostedtoolcache/Python/3.9.22/x64/lib/python3.9/site-packages/arxiv_on_deck_2/latex.py:132: LatexWarning: attempting recovering figure obs-5-2-2\n",
      "  warnings.warn(LatexWarning(f'attempting recovering figure {image}'))\n",
      "/opt/hostedtoolcache/Python/3.9.22/x64/lib/python3.9/site-packages/arxiv_on_deck_2/latex.py:137: LatexWarning: Recovered figure obs-5-2-2 as tmp_2504.19709/./obs-5-2-2.png\n",
      "  warnings.warn(LatexWarning(f'Recovered figure {image} as {fname}'))\n",
      "/opt/hostedtoolcache/Python/3.9.22/x64/lib/python3.9/site-packages/arxiv_on_deck_2/latex.py:132: LatexWarning: attempting recovering figure obs-4-2-1\n",
      "  warnings.warn(LatexWarning(f'attempting recovering figure {image}'))\n",
      "/opt/hostedtoolcache/Python/3.9.22/x64/lib/python3.9/site-packages/arxiv_on_deck_2/latex.py:137: LatexWarning: Recovered figure obs-4-2-1 as tmp_2504.19709/./obs-4-2-1.png\n",
      "  warnings.warn(LatexWarning(f'Recovered figure {image} as {fname}'))\n",
      "/opt/hostedtoolcache/Python/3.9.22/x64/lib/python3.9/site-packages/arxiv_on_deck_2/latex.py:132: LatexWarning: attempting recovering figure hip-36277\n",
      "  warnings.warn(LatexWarning(f'attempting recovering figure {image}'))\n",
      "/opt/hostedtoolcache/Python/3.9.22/x64/lib/python3.9/site-packages/arxiv_on_deck_2/latex.py:137: LatexWarning: Recovered figure hip-36277 as tmp_2504.19709/./hip-36277.png\n",
      "  warnings.warn(LatexWarning(f'Recovered figure {image} as {fname}'))\n"
     ]
    },
    {
     "name": "stdout",
     "output_type": "stream",
     "text": [
      "Found 28 bibliographic references in tmp_2504.19709/shark-ins.bbl.\n",
      "Error retrieving bib data for 2016SPIE.9909E..3VP: '2016spie.9909e..3vp'\n",
      "Retrieving document from  https://arxiv.org/e-print/2504.19853\n"
     ]
    },
    {
     "name": "stderr",
     "output_type": "stream",
     "text": [
      "/opt/hostedtoolcache/Python/3.9.22/x64/lib/python3.9/site-packages/arxiv_on_deck_2/latex_bib.py:132: UserWarning: Error processing bibitem\n",
      " item = \\bibitem{2016SPIE.9909E..3VP}E.~{Pinna}, S.~{Esposito}, P.~{Hinz}, {\\em et~al.}, ``{SOUL: the Single  conjugated adaptive Optics Upgrade for LBT},'' in {\\em Adaptive Optics  Systems V},  E.~{Marchetti}, L.~M. {Close}, and J.-P. {V{é}ran}, Eds., {\\em  Society of Photo-Optical Instrumentation Engineers (SPIE) Conference Series}  {\\bf 9909}, 99093V  (2016).\n",
      " regex = \n",
      "        \\\\bibitem(\\[[^\\[\\]]*?\\]){(?P<bibkey>[a-zA-Z0-9\\-\\+\\.\\S]+?)}(?P<authors>|([\\D]*?))(?P<year>[12][0-9]{3})(?P<rest>.*)\n",
      "        \n",
      "  warnings.warn(str(e))\n",
      "/opt/hostedtoolcache/Python/3.9.22/x64/lib/python3.9/site-packages/arxiv_on_deck_2/latex_bib.py:132: UserWarning: Error processing bibitem\n",
      " item = \\bibitem{2016SPIE.9908E..32P}F.~{Pedichini}, F.~{Ambrosino}, M.~{Centrone}, {\\em et~al.}, ``{The V-SHARK  high contrast imager at LBT},'' in {\\em Ground-based and Airborne  Instrumentation for Astronomy VI},  C.~J. {Evans}, L.~{Simard}, and  H.~{Takami}, Eds., {\\em Society of Photo-Optical Instrumentation Engineers  (SPIE) Conference Series} {\\bf 9908}, 990832  (2016).\n",
      " regex = \n",
      "        \\\\bibitem(\\[[^\\[\\]]*?\\]){(?P<bibkey>[a-zA-Z0-9\\-\\+\\.\\S]+?)}(?P<authors>|([\\D]*?))(?P<year>[12][0-9]{3})(?P<rest>.*)\n",
      "        \n",
      "  warnings.warn(str(e))\n",
      "/opt/hostedtoolcache/Python/3.9.22/x64/lib/python3.9/site-packages/arxiv_on_deck_2/latex_bib.py:132: UserWarning: Error processing bibitem\n",
      " item = \\bibitem{2016SPIE.9911E..27V}V.~{Viotto}, J.~{Farinato}, D.~{Greggio}, {\\em et~al.}, ``{SHARK-NIR system  design analysis overview},'' in {\\em Modeling, Systems Engineering, and  Project Management for Astronomy VI},  G.~Z. {Angeli} and P.~{Dierickx},  Eds., {\\em Society of Photo-Optical Instrumentation Engineers (SPIE)  Conference Series} {\\bf 9911}, 991127  (2016).\n",
      " regex = \n",
      "        \\\\bibitem(\\[[^\\[\\]]*?\\]){(?P<bibkey>[a-zA-Z0-9\\-\\+\\.\\S]+?)}(?P<authors>|([\\D]*?))(?P<year>[12][0-9]{3})(?P<rest>.*)\n",
      "        \n",
      "  warnings.warn(str(e))\n",
      "/opt/hostedtoolcache/Python/3.9.22/x64/lib/python3.9/site-packages/arxiv_on_deck_2/latex_bib.py:132: UserWarning: Error processing bibitem\n",
      " item = \\bibitem{2016SPIE.9909E..31F}J.~{Farinato}, F.~{Bacciotti}, C.~{Baffa}, {\\em et~al.}, ``{SHARK-NIR: from  K-band to a key instrument, a status update},'' in {\\em Adaptive Optics  Systems V},  E.~{Marchetti}, L.~M. {Close}, and J.-P. {V{é}ran}, Eds., {\\em  Society of Photo-Optical Instrumentation Engineers (SPIE) Conference Series}  {\\bf 9909}, 990931  (2016).\n",
      " regex = \n",
      "        \\\\bibitem(\\[[^\\[\\]]*?\\]){(?P<bibkey>[a-zA-Z0-9\\-\\+\\.\\S]+?)}(?P<authors>|([\\D]*?))(?P<year>[12][0-9]{3})(?P<rest>.*)\n",
      "        \n",
      "  warnings.warn(str(e))\n",
      "/opt/hostedtoolcache/Python/3.9.22/x64/lib/python3.9/site-packages/arxiv_on_deck_2/latex_bib.py:132: UserWarning: Error processing bibitem\n",
      " item = \\bibitem{2015IJAsB..14..365F}J.~{Farinato}, C.~{Baffa}, A.~{Baruffolo}, {\\em et~al.}, ``{The NIR arm of  SHARK: System for coronagraphy with High-order Adaptive optics from R to K  bands},'' {\\em International Journal of Astrobiology} {\\bf 14}, 365--373  (2015).\n",
      " regex = \n",
      "        \\\\bibitem(\\[[^\\[\\]]*?\\]){(?P<bibkey>[a-zA-Z0-9\\-\\+\\.\\S]+?)}(?P<authors>|([\\D]*?))(?P<year>[12][0-9]{3})(?P<rest>.*)\n",
      "        \n",
      "  warnings.warn(str(e))\n",
      "/opt/hostedtoolcache/Python/3.9.22/x64/lib/python3.9/site-packages/arxiv_on_deck_2/latex_bib.py:132: UserWarning: Error processing bibitem\n",
      " item = \\bibitem{2018SPIE10701E..2BC}E.~{Carolo}, D.~{Vassallo}, J.~{Farinato}, {\\em et~al.}, ``{SHARK-NIR  coronagraphic simulations: performance dependence on the Strehl ratio},'' in  {\\em Optical and Infrared Interferometry and Imaging VI},  M.~J.  {Creech-Eakman}, P.~G. {Tuthill}, and A.~{M{é}rand}, Eds., {\\em Society of  Photo-Optical Instrumentation Engineers (SPIE) Conference Series} {\\bf  10701}, 107012B  (2018).\n",
      " regex = \n",
      "        \\\\bibitem(\\[[^\\[\\]]*?\\]){(?P<bibkey>[a-zA-Z0-9\\-\\+\\.\\S]+?)}(?P<authors>|([\\D]*?))(?P<year>[12][0-9]{3})(?P<rest>.*)\n",
      "        \n",
      "  warnings.warn(str(e))\n",
      "/opt/hostedtoolcache/Python/3.9.22/x64/lib/python3.9/site-packages/arxiv_on_deck_2/latex_bib.py:132: UserWarning: Error processing bibitem\n",
      " item = \\bibitem{2024SPIE13096E..3TC}P.~{Cerpelloni}, E.~{Carolo}, G.~{Umbriaco}, {\\em et~al.}, ``{Unravelling the  performance of the SHARK-NIR Four Quadrant Phase Mask in a controlled  environment},'' in {\\em Ground-based and Airborne Instrumentation for  Astronomy X},  J.~J. {Bryant}, K.~{Motohara}, and J.~R.~D. {Vernet}, Eds.,  {\\em Society of Photo-Optical Instrumentation Engineers (SPIE) Conference  Series} {\\bf 13096}, 130963T  (2024).\n",
      " regex = \n",
      "        \\\\bibitem(\\[[^\\[\\]]*?\\]){(?P<bibkey>[a-zA-Z0-9\\-\\+\\.\\S]+?)}(?P<authors>|([\\D]*?))(?P<year>[12][0-9]{3})(?P<rest>.*)\n",
      "        \n",
      "  warnings.warn(str(e))\n",
      "/opt/hostedtoolcache/Python/3.9.22/x64/lib/python3.9/site-packages/arxiv_on_deck_2/latex_bib.py:132: UserWarning: Error processing bibitem\n",
      " item = \\bibitem{2024SPIE13096E..1WB}D.~{Barbato}, J.~{Farinato}, A.~{Baruffolo}, {\\em et~al.}, ``{SHARK-NIR  commissioning and early science runs},'' in {\\em Ground-based and Airborne  Instrumentation for Astronomy X},  J.~J. {Bryant}, K.~{Motohara}, and  J.~R.~D. {Vernet}, Eds., {\\em Society of Photo-Optical Instrumentation  Engineers (SPIE) Conference Series} {\\bf 13096}, 130961W  (2024).\n",
      " regex = \n",
      "        \\\\bibitem(\\[[^\\[\\]]*?\\]){(?P<bibkey>[a-zA-Z0-9\\-\\+\\.\\S]+?)}(?P<authors>|([\\D]*?))(?P<year>[12][0-9]{3})(?P<rest>.*)\n",
      "        \n",
      "  warnings.warn(str(e))\n",
      "/opt/hostedtoolcache/Python/3.9.22/x64/lib/python3.9/site-packages/arxiv_on_deck_2/latex_bib.py:132: UserWarning: Error processing bibitem\n",
      " item = \\bibitem{2022SPIE12187E..09B}M.~{Bergomi}, L.~{Marafatto}, E.~{Carolo}, {\\em et~al.}, ``{SHARK-NIR: from  design to installation, ready to dive into first light},'' in {\\em Modeling,  Systems Engineering, and Project Management for Astronomy X},  G.~Z. {Angeli}  and P.~{Dierickx}, Eds., {\\em Society of Photo-Optical Instrumentation  Engineers (SPIE) Conference Series} {\\bf 12187}, 1218709  (2022).\n",
      " regex = \n",
      "        \\\\bibitem(\\[[^\\[\\]]*?\\]){(?P<bibkey>[a-zA-Z0-9\\-\\+\\.\\S]+?)}(?P<authors>|([\\D]*?))(?P<year>[12][0-9]{3})(?P<rest>.*)\n",
      "        \n",
      "  warnings.warn(str(e))\n",
      "/opt/hostedtoolcache/Python/3.9.22/x64/lib/python3.9/site-packages/arxiv_on_deck_2/latex_bib.py:132: UserWarning: Error processing bibitem\n",
      " item = \\bibitem{2022SPIE12185E..8IV}D.~{Vassallo}, M.~{Bergomi}, E.~{Carolo}, {\\em et~al.}, ``{Laboratory  demonstration of focal plane wavefront sensing using phase diversity: a way  to tackle the problem of NCPA in SHARK-NIR: Part II: new characterization  tests and alternative wavefront sensing strategies},'' in {\\em Adaptive  Optics Systems VIII},  L.~{Schreiber}, D.~{Schmidt}, and E.~{Vernet}, Eds.,  {\\em Society of Photo-Optical Instrumentation Engineers (SPIE) Conference  Series} {\\bf 12185}, 121858I  (2022).\n",
      " regex = \n",
      "        \\\\bibitem(\\[[^\\[\\]]*?\\]){(?P<bibkey>[a-zA-Z0-9\\-\\+\\.\\S]+?)}(?P<authors>|([\\D]*?))(?P<year>[12][0-9]{3})(?P<rest>.*)\n",
      "        \n",
      "  warnings.warn(str(e))\n",
      "/opt/hostedtoolcache/Python/3.9.22/x64/lib/python3.9/site-packages/arxiv_on_deck_2/latex_bib.py:132: UserWarning: Error processing bibitem\n",
      " item = \\bibitem{2022SPIE12185E..6WU}G.~{Umbriaco}, D.~{Vassallo}, J.~{Farinato}, {\\em et~al.}, ``{Deformable lens  for testing the performance of focal plane wavefront sensing using phase  diversity},'' in {\\em Adaptive Optics Systems VIII},  L.~{Schreiber},  D.~{Schmidt}, and E.~{Vernet}, Eds., {\\em Society of Photo-Optical  Instrumentation Engineers (SPIE) Conference Series} {\\bf 12185}, 121856W  (2022).\n",
      " regex = \n",
      "        \\\\bibitem(\\[[^\\[\\]]*?\\]){(?P<bibkey>[a-zA-Z0-9\\-\\+\\.\\S]+?)}(?P<authors>|([\\D]*?))(?P<year>[12][0-9]{3})(?P<rest>.*)\n",
      "        \n",
      "  warnings.warn(str(e))\n",
      "/opt/hostedtoolcache/Python/3.9.22/x64/lib/python3.9/site-packages/arxiv_on_deck_2/latex_bib.py:132: UserWarning: Error processing bibitem\n",
      " item = \\bibitem{2022SPIE12185E..22F}J.~{Farinato}, A.~{Baruffolo}, M.~{Bergomi}, {\\em et~al.}, ``{SHARK-NIR, ready  to ``swim'' in the LBT Northern Hemisphere ``ocean''},'' in {\\em Adaptive  Optics Systems VIII},  L.~{Schreiber}, D.~{Schmidt}, and E.~{Vernet}, Eds.,  {\\em Society of Photo-Optical Instrumentation Engineers (SPIE) Conference  Series} {\\bf 12185}, 1218522  (2022).\n",
      " regex = \n",
      "        \\\\bibitem(\\[[^\\[\\]]*?\\]){(?P<bibkey>[a-zA-Z0-9\\-\\+\\.\\S]+?)}(?P<authors>|([\\D]*?))(?P<year>[12][0-9]{3})(?P<rest>.*)\n",
      "        \n",
      "  warnings.warn(str(e))\n",
      "/opt/hostedtoolcache/Python/3.9.22/x64/lib/python3.9/site-packages/arxiv_on_deck_2/latex_bib.py:132: UserWarning: Error processing bibitem\n",
      " item = \\bibitem{2022SPIE12184E..3VM}L.~{Marafatto}, E.~{Carolo}, G.~{Umbriaco}, {\\em et~al.}, ``{SHARK-NIR on its  way to LBT},'' in {\\em Ground-based and Airborne Instrumentation for  Astronomy IX},  C.~J. {Evans}, J.~J. {Bryant}, and K.~{Motohara}, Eds., {\\em  Society of Photo-Optical Instrumentation Engineers (SPIE) Conference Series}  {\\bf 12184}, 121843V  (2022).\n",
      " regex = \n",
      "        \\\\bibitem(\\[[^\\[\\]]*?\\]){(?P<bibkey>[a-zA-Z0-9\\-\\+\\.\\S]+?)}(?P<authors>|([\\D]*?))(?P<year>[12][0-9]{3})(?P<rest>.*)\n",
      "        \n",
      "  warnings.warn(str(e))\n",
      "/opt/hostedtoolcache/Python/3.9.22/x64/lib/python3.9/site-packages/arxiv_on_deck_2/latex_bib.py:132: UserWarning: Error processing bibitem\n",
      " item = \\bibitem{2025A&A...693A..81B}D.~{Barbato}, D.~{Mesa}, V.~{D'Orazi}, {\\em et~al.}, ``{A multi-technique  detection of an eccentric giant planet around the accelerating star HD  57625},'' {\\em \\aap} {\\bf 693}, A81  (2025).\n",
      " regex = \n",
      "        \\\\bibitem(\\[[^\\[\\]]*?\\]){(?P<bibkey>[a-zA-Z0-9\\-\\+\\.\\S]+?)}(?P<authors>|([\\D]*?))(?P<year>[12][0-9]{3})(?P<rest>.*)\n",
      "        \n",
      "  warnings.warn(str(e))\n",
      "/opt/hostedtoolcache/Python/3.9.22/x64/lib/python3.9/site-packages/arxiv_on_deck_2/latex_bib.py:132: UserWarning: Error processing bibitem\n",
      " item = \\bibitem{2025MNRAS.536.1455M}D.~{Mesa}, R.~{Gratton}, V.~{D'Orazi}, {\\em et~al.}, ``{Deep imaging of three  accelerating stars using SHARK-NIR and LMIRCam at LBT},'' {\\em \\mnras} {\\bf  536}, 1455--1466  (2025).\n",
      " regex = \n",
      "        \\\\bibitem(\\[[^\\[\\]]*?\\]){(?P<bibkey>[a-zA-Z0-9\\-\\+\\.\\S]+?)}(?P<authors>|([\\D]*?))(?P<year>[12][0-9]{3})(?P<rest>.*)\n",
      "        \n",
      "  warnings.warn(str(e))\n",
      "/opt/hostedtoolcache/Python/3.9.22/x64/lib/python3.9/site-packages/arxiv_on_deck_2/latex_bib.py:132: UserWarning: Error processing bibitem\n",
      " item = \\bibitem{lorenzetto2024}A.~Lorenzetto, D.~Ricci, F.~Laudisio, {\\em et~al.}, ``{SHARK-NIR instrument  control software: new features and tools approaching science runs},'' in {\\em  Software and Cyberinfrastructure for Astronomy VIII},  J.~Ibsen and  G.~Chiozzi, Eds.,  {\\bf 13101}, 131013S, International Society for Optics and  Photonics, SPIE  (2024).\n",
      " regex = \n",
      "        \\\\bibitem(\\[[^\\[\\]]*?\\]){(?P<bibkey>[a-zA-Z0-9\\-\\+\\.\\S]+?)}(?P<authors>|([\\D]*?))(?P<year>[12][0-9]{3})(?P<rest>.*)\n",
      "        \n",
      "  warnings.warn(str(e))\n",
      "/opt/hostedtoolcache/Python/3.9.22/x64/lib/python3.9/site-packages/arxiv_on_deck_2/latex_bib.py:132: UserWarning: Error processing bibitem\n",
      " item = \\bibitem{2022SPIE12189E..20R}D.~{Ricci}, F.~{Laudisio}, S.~{Chavan}, {\\em et~al.}, ``{Improvements to SHINS,  the SHARK-NIR instrument software, during the AIT phase},'' in {\\em Software  and Cyberinfrastructure for Astronomy VII},  {\\em Society of Photo-Optical  Instrumentation Engineers (SPIE) Conference Series} {\\bf 12189}, 1218920  (2022).\n",
      " regex = \n",
      "        \\\\bibitem(\\[[^\\[\\]]*?\\]){(?P<bibkey>[a-zA-Z0-9\\-\\+\\.\\S]+?)}(?P<authors>|([\\D]*?))(?P<year>[12][0-9]{3})(?P<rest>.*)\n",
      "        \n",
      "  warnings.warn(str(e))\n",
      "/opt/hostedtoolcache/Python/3.9.22/x64/lib/python3.9/site-packages/arxiv_on_deck_2/latex_bib.py:132: UserWarning: Error processing bibitem\n",
      " item = \\bibitem{2020SPIE11452E..1TD}M.~{De Pascale}, A.~{Baruffolo}, B.~{Salasnich}, {\\em et~al.}, ``{SHARK-NIR:  implementation of the instrument control software SHINS},'' in {\\em Software  and Cyberinfrastructure for Astronomy VI},  J.~C. {Guzman} and J.~{Ibsen},  Eds., {\\em Society of Photo-Optical Instrumentation Engineers (SPIE)  Conference Series} {\\bf 11452}, 114521T  (2020).\n",
      " regex = \n",
      "        \\\\bibitem(\\[[^\\[\\]]*?\\]){(?P<bibkey>[a-zA-Z0-9\\-\\+\\.\\S]+?)}(?P<authors>|([\\D]*?))(?P<year>[12][0-9]{3})(?P<rest>.*)\n",
      "        \n",
      "  warnings.warn(str(e))\n",
      "/opt/hostedtoolcache/Python/3.9.22/x64/lib/python3.9/site-packages/arxiv_on_deck_2/latex_bib.py:132: UserWarning: Error processing bibitem\n",
      " item = \\bibitem{2018SPIE10707E..1MD}M.~{De Pascale}, A.~{Baruffolo}, B.~{Salasnich}, {\\em et~al.}, ``{Design of  SHINS: the SHARK-NIR instrument control software},'' in {\\em Software and  Cyberinfrastructure for Astronomy V},  J.~C. {Guzman} and J.~{Ibsen}, Eds.,  {\\em Society of Photo-Optical Instrumentation Engineers (SPIE) Conference  Series} {\\bf 10707}, 107071M  (2018).\n",
      " regex = \n",
      "        \\\\bibitem(\\[[^\\[\\]]*?\\]){(?P<bibkey>[a-zA-Z0-9\\-\\+\\.\\S]+?)}(?P<authors>|([\\D]*?))(?P<year>[12][0-9]{3})(?P<rest>.*)\n",
      "        \n",
      "  warnings.warn(str(e))\n",
      "/opt/hostedtoolcache/Python/3.9.22/x64/lib/python3.9/site-packages/arxiv_on_deck_2/latex_bib.py:132: UserWarning: Error processing bibitem\n",
      " item = \\bibitem{2008SPIE.7013E..26H}T.~M. {Herbst}, R.~{Ragazzoni}, A.~{Eckart}, {\\em et~al.}, ``{LINC-NIRVANA: the  Fizeau interferometer for the Large Binocular Telescope},'' in {\\em Optical  and Infrared Interferometry},  M.~{Sch{ö}ller}, W.~C. {Danchi}, and  F.~{Delplancke}, Eds., {\\em Society of Photo-Optical Instrumentation  Engineers (SPIE) Conference Series} {\\bf 7013}, 701326  (2008).\n",
      " regex = \n",
      "        \\\\bibitem(\\[[^\\[\\]]*?\\]){(?P<bibkey>[a-zA-Z0-9\\-\\+\\.\\S]+?)}(?P<authors>|([\\D]*?))(?P<year>[12][0-9]{3})(?P<rest>.*)\n",
      "        \n",
      "  warnings.warn(str(e))\n",
      "/opt/hostedtoolcache/Python/3.9.22/x64/lib/python3.9/site-packages/arxiv_on_deck_2/latex_bib.py:132: UserWarning: Error processing bibitem\n",
      " item = \\bibitem{2008SPIE.7019E..1TB}J.~{Berwein}, F.~{Briegel}, W.~{Gaessler}, {\\em et~al.}, ``{An SOA developer  framework for astronomical instrument control software},'' in {\\em Advanced  Software and Control for Astronomy II},  A.~{Bridger} and N.~M. {Radziwill},  Eds., {\\em Society of Photo-Optical Instrumentation Engineers (SPIE)  Conference Series} {\\bf 7019}, 70191T  (2008).\n",
      " regex = \n",
      "        \\\\bibitem(\\[[^\\[\\]]*?\\]){(?P<bibkey>[a-zA-Z0-9\\-\\+\\.\\S]+?)}(?P<authors>|([\\D]*?))(?P<year>[12][0-9]{3})(?P<rest>.*)\n",
      "        \n",
      "  warnings.warn(str(e))\n",
      "/opt/hostedtoolcache/Python/3.9.22/x64/lib/python3.9/site-packages/arxiv_on_deck_2/latex_bib.py:132: UserWarning: Error processing bibitem\n",
      " item = \\bibitem{2019A&A...621A...4R}S.~{Rabien}, R.~{Angel}, L.~{Barl}, {\\em et~al.}, ``{ARGOS at the LBT.  Binocular laser guided ground-layer adaptive optics},'' {\\em \\aap} {\\bf 621},  A4  (2019).\n",
      " regex = \n",
      "        \\\\bibitem(\\[[^\\[\\]]*?\\]){(?P<bibkey>[a-zA-Z0-9\\-\\+\\.\\S]+?)}(?P<authors>|([\\D]*?))(?P<year>[12][0-9]{3})(?P<rest>.*)\n",
      "        \n",
      "  warnings.warn(str(e))\n",
      "/opt/hostedtoolcache/Python/3.9.22/x64/lib/python3.9/site-packages/arxiv_on_deck_2/latex_bib.py:132: UserWarning: Error processing bibitem\n",
      " item = \\bibitem{2012SPIE.8446E..4FL}J.~M. {Leisenring}, M.~F. {Skrutskie}, P.~M. {Hinz}, {\\em et~al.}, ``{On-sky  operations and performance of LMIRcam at the Large Binocular Telescope},'' in  {\\em Ground-based and Airborne Instrumentation for Astronomy IV},  I.~S.  {McLean}, S.~K. {Ramsay}, and H.~{Takami}, Eds., {\\em Society of  Photo-Optical Instrumentation Engineers (SPIE) Conference Series} {\\bf 8446},  84464F  (2012).\n",
      " regex = \n",
      "        \\\\bibitem(\\[[^\\[\\]]*?\\]){(?P<bibkey>[a-zA-Z0-9\\-\\+\\.\\S]+?)}(?P<authors>|([\\D]*?))(?P<year>[12][0-9]{3})(?P<rest>.*)\n",
      "        \n",
      "  warnings.warn(str(e))\n",
      "/opt/hostedtoolcache/Python/3.9.22/x64/lib/python3.9/site-packages/arxiv_on_deck_2/latex_bib.py:132: UserWarning: Error processing bibitem\n",
      " item = \\bibitem{2018SPIE10705E..16V}D.~{Vassallo}, J.~{Farinato}, J.~F. {Sauvage}, {\\em et~al.}, ``{Validating the  phase diversity approach for sensing NCPA in SHARK-NIR, the second-generation  high-contrast imager for the Large Binocular Telescope},'' in {\\em Modeling,  Systems Engineering, and Project Management for Astronomy VIII},  G.~Z.  {Angeli} and P.~{Dierickx}, Eds., {\\em Society of Photo-Optical  Instrumentation Engineers (SPIE) Conference Series} {\\bf 10705}, 1070516  (2018).\n",
      " regex = \n",
      "        \\\\bibitem(\\[[^\\[\\]]*?\\]){(?P<bibkey>[a-zA-Z0-9\\-\\+\\.\\S]+?)}(?P<authors>|([\\D]*?))(?P<year>[12][0-9]{3})(?P<rest>.*)\n",
      "        \n",
      "  warnings.warn(str(e))\n",
      "/opt/hostedtoolcache/Python/3.9.22/x64/lib/python3.9/site-packages/arxiv_on_deck_2/latex_bib.py:132: UserWarning: Error processing bibitem\n",
      " item = \\bibitem{10.5555/932295}R.~T. Fielding and R.~N. Taylor, {\\em Architectural styles and the design of  network-based software architectures}.\\newblock PhD thesis, University Of California, Irvine  (2000).\\newblock AAI9980887.\n",
      " regex = \n",
      "        \\\\bibitem(\\[[^\\[\\]]*?\\]){(?P<bibkey>[a-zA-Z0-9\\-\\+\\.\\S]+?)}(?P<authors>|([\\D]*?))(?P<year>[12][0-9]{3})(?P<rest>.*)\n",
      "        \n",
      "  warnings.warn(str(e))\n",
      "/opt/hostedtoolcache/Python/3.9.22/x64/lib/python3.9/site-packages/arxiv_on_deck_2/latex_bib.py:132: UserWarning: Error processing bibitem\n",
      " item = \\bibitem{2024SPIE13098E..0TR}D.~{Ricci}, L.~{Cabona}, B.~{Salasnich}, {\\em et~al.}, ``{Easy remote  observations using web interfaces: controlling an Italian telescope from  Japan, and more},'' in {\\em Observatory Operations: Strategies, Processes,  and Systems X},  C.~R. {Benn}, A.~{Chrysostomou}, and L.~J.  {Storrie-Lombardi}, Eds., {\\em Society of Photo-Optical Instrumentation  Engineers (SPIE) Conference Series} {\\bf 13098}, 130980T  (2024).\n",
      " regex = \n",
      "        \\\\bibitem(\\[[^\\[\\]]*?\\]){(?P<bibkey>[a-zA-Z0-9\\-\\+\\.\\S]+?)}(?P<authors>|([\\D]*?))(?P<year>[12][0-9]{3})(?P<rest>.*)\n",
      "        \n",
      "  warnings.warn(str(e))\n",
      "/opt/hostedtoolcache/Python/3.9.22/x64/lib/python3.9/site-packages/arxiv_on_deck_2/latex_bib.py:132: UserWarning: Error processing bibitem\n",
      " item = \\bibitem{2022SPIE12186E..0PR}D.~{Ricci}, L.~{Cabona}, S.~{Tosi}, {\\em et~al.}, ``{Toward the remotization  and robotization of the OARPAF Telescope},'' in {\\em Observatory Operations:  Strategies, Processes, and Systems IX},  D.~S. {Adler}, R.~L. {Seaman}, and  C.~R. {Benn}, Eds., {\\em Society of Photo-Optical Instrumentation Engineers  (SPIE) Conference Series} {\\bf 12186}, 121860P  (2022).\n",
      " regex = \n",
      "        \\\\bibitem(\\[[^\\[\\]]*?\\]){(?P<bibkey>[a-zA-Z0-9\\-\\+\\.\\S]+?)}(?P<authors>|([\\D]*?))(?P<year>[12][0-9]{3})(?P<rest>.*)\n",
      "        \n",
      "  warnings.warn(str(e))\n",
      "/opt/hostedtoolcache/Python/3.9.22/x64/lib/python3.9/site-packages/arxiv_on_deck_2/latex_bib.py:132: UserWarning: Error processing bibitem\n",
      " item = \\bibitem{2000PASP..112.1479R}D.~{Rouan}, P.~{Riaud}, A.~{Boccaletti}, {\\em et~al.}, ``{The Four-Quadrant  Phase-Mask Coronagraph. I. Principle},'' {\\em \\pasp} {\\bf 112}, 1479--1486  (2000).\\end{thebibliography}\n",
      " regex = \n",
      "        \\\\bibitem(\\[[^\\[\\]]*?\\]){(?P<bibkey>[a-zA-Z0-9\\-\\+\\.\\S]+?)}(?P<authors>|([\\D]*?))(?P<year>[12][0-9]{3})(?P<rest>.*)\n",
      "        \n",
      "  warnings.warn(str(e))\n"
     ]
    },
    {
     "name": "stdout",
     "output_type": "stream",
     "text": [
      "extracting tarball to tmp_2504.19853..."
     ]
    },
    {
     "name": "stdout",
     "output_type": "stream",
     "text": [
      " done.\n"
     ]
    },
    {
     "name": "stdout",
     "output_type": "stream",
     "text": [
      "M. Flock  ->  M. Flock  |  ['M. Flock']\n",
      "M. Benisty  ->  M. Benisty  |  ['M. Benisty']\n",
      "D. Fasano  ->  D. Fasano  |  ['D. Fasano']\n"
     ]
    },
    {
     "name": "stdout",
     "output_type": "stream",
     "text": [
      "Found 140 bibliographic references in tmp_2504.19853/manuscript.bbl.\n",
      "Retrieving document from  https://arxiv.org/e-print/2504.19868\n"
     ]
    },
    {
     "name": "stdout",
     "output_type": "stream",
     "text": [
      "extracting tarball to tmp_2504.19868..."
     ]
    },
    {
     "name": "stdout",
     "output_type": "stream",
     "text": [
      " done.\n"
     ]
    },
    {
     "name": "stdout",
     "output_type": "stream",
     "text": [
      "M. Benisty  ->  M. Benisty  |  ['M. Benisty']\n",
      "D. Fasano  ->  D. Fasano  |  ['D. Fasano']\n",
      "M. Flock  ->  M. Flock  |  ['M. Flock']\n"
     ]
    },
    {
     "name": "stdout",
     "output_type": "stream",
     "text": [
      "Found 85 bibliographic references in tmp_2504.19868/output-2.bbl.\n",
      "Retrieving document from  https://arxiv.org/e-print/2504.19870\n"
     ]
    },
    {
     "name": "stdout",
     "output_type": "stream",
     "text": [
      "extracting tarball to tmp_2504.19870..."
     ]
    },
    {
     "name": "stdout",
     "output_type": "stream",
     "text": [
      " done.\n"
     ]
    },
    {
     "name": "stdout",
     "output_type": "stream",
     "text": [
      "M. Benisty  ->  M. Benisty  |  ['M. Benisty']\n",
      "D. Fasano  ->  D. Fasano  |  ['D. Fasano']\n",
      "M. Flock  ->  M. Flock  |  ['M. Flock']\n"
     ]
    },
    {
     "name": "stderr",
     "output_type": "stream",
     "text": [
      "/opt/hostedtoolcache/Python/3.9.22/x64/lib/python3.9/site-packages/arxiv_on_deck_2/latex.py:132: LatexWarning: attempting recovering figure figures/example_flux_offset\n",
      "  warnings.warn(LatexWarning(f'attempting recovering figure {image}'))\n",
      "/opt/hostedtoolcache/Python/3.9.22/x64/lib/python3.9/site-packages/arxiv_on_deck_2/latex.py:137: LatexWarning: Recovered figure figures/example_flux_offset as tmp_2504.19870/./figures/example_flux_offset.pdf\n",
      "  warnings.warn(LatexWarning(f'Recovered figure {image} as {fname}'))\n"
     ]
    },
    {
     "name": "stderr",
     "output_type": "stream",
     "text": [
      "/opt/hostedtoolcache/Python/3.9.22/x64/lib/python3.9/site-packages/arxiv_on_deck_2/latex.py:132: LatexWarning: attempting recovering figure figures/images_improvement_selfcal_LkCa15\n",
      "  warnings.warn(LatexWarning(f'attempting recovering figure {image}'))\n",
      "/opt/hostedtoolcache/Python/3.9.22/x64/lib/python3.9/site-packages/arxiv_on_deck_2/latex.py:137: LatexWarning: Recovered figure figures/images_improvement_selfcal_LkCa15 as tmp_2504.19870/./figures/images_improvement_selfcal_LkCa15.pdf\n",
      "  warnings.warn(LatexWarning(f'Recovered figure {image} as {fname}'))\n"
     ]
    },
    {
     "name": "stdout",
     "output_type": "stream",
     "text": [
      "Found 49 bibliographic references in tmp_2504.19870/cal_image.bbl.\n",
      "Retrieving document from  https://arxiv.org/e-print/2504.19902\n"
     ]
    },
    {
     "name": "stdout",
     "output_type": "stream",
     "text": [
      "extracting tarball to tmp_2504.19902..."
     ]
    },
    {
     "name": "stdout",
     "output_type": "stream",
     "text": [
      " done.\n"
     ]
    },
    {
     "name": "stdout",
     "output_type": "stream",
     "text": [
      "M. Benisty  ->  M. Benisty  |  ['M. Benisty']\n",
      "D. Fasano  ->  D. Fasano  |  ['D. Fasano']\n",
      "M. Flock  ->  M. Flock  |  ['M. Flock']\n"
     ]
    },
    {
     "name": "stdout",
     "output_type": "stream",
     "text": [
      "Found 98 bibliographic references in tmp_2504.19902/sample631.bbl.\n",
      "Retrieving document from  https://arxiv.org/e-print/2504.19986\n"
     ]
    },
    {
     "name": "stdout",
     "output_type": "stream",
     "text": [
      "extracting tarball to tmp_2504.19986..."
     ]
    },
    {
     "name": "stdout",
     "output_type": "stream",
     "text": [
      " done.\n"
     ]
    },
    {
     "name": "stderr",
     "output_type": "stream",
     "text": [
      "/opt/hostedtoolcache/Python/3.9.22/x64/lib/python3.9/site-packages/IPython/core/interactiveshell.py:3550: LatexWarning: Multiple tex files.\n",
      "\n",
      "  exec(code_obj, self.user_global_ns, self.user_ns)\n",
      "/opt/hostedtoolcache/Python/3.9.22/x64/lib/python3.9/site-packages/IPython/core/interactiveshell.py:3550: LatexWarning: Found documentclass in tmp_2504.19986/main.tex\n",
      "\n",
      "  exec(code_obj, self.user_global_ns, self.user_ns)\n",
      "/opt/hostedtoolcache/Python/3.9.22/x64/lib/python3.9/site-packages/arxiv_on_deck_2/latex.py:414: LatexWarning: Latex injecting: 'table_attributes' from 'tmp_2504.19986/table_attributes.tex'\n",
      "  warnings.warn(LatexWarning(f\"Latex injecting: '{ext}' from '{subsource}'\"))\n"
     ]
    },
    {
     "name": "stdout",
     "output_type": "stream",
     "text": [
      "M. Benisty  ->  M. Benisty  |  ['M. Benisty']\n",
      "D. Fasano  ->  D. Fasano  |  ['D. Fasano']\n",
      "M. Flock  ->  M. Flock  |  ['M. Flock']\n",
      "I. Hammond  ->  I. Hammond  |  ['I. Hammond']\n"
     ]
    },
    {
     "name": "stderr",
     "output_type": "stream",
     "text": [
      "/opt/hostedtoolcache/Python/3.9.22/x64/lib/python3.9/site-packages/arxiv_on_deck_2/latex.py:132: LatexWarning: attempting recovering figure figures/radial_profiles_12co.pdf\n",
      "  warnings.warn(LatexWarning(f'attempting recovering figure {image}'))\n",
      "/opt/hostedtoolcache/Python/3.9.22/x64/lib/python3.9/site-packages/arxiv_on_deck_2/latex.py:707: LatexWarning: Could not find graphic \\includegraphics[width=0.5\\textwidth]{figures/radial_profiles_12co.pdf}\n",
      "  warnings.warn(LatexWarning(f\"Could not find graphic {k}\"))\n",
      "/opt/hostedtoolcache/Python/3.9.22/x64/lib/python3.9/site-packages/arxiv_on_deck_2/latex.py:132: LatexWarning: attempting recovering figure figures/rotation_curves_12co.pdf\n",
      "  warnings.warn(LatexWarning(f'attempting recovering figure {image}'))\n",
      "/opt/hostedtoolcache/Python/3.9.22/x64/lib/python3.9/site-packages/arxiv_on_deck_2/latex.py:707: LatexWarning: Could not find graphic \\includegraphics[width=0.4\\textwidth]{figures/rotation_curves_12co.pdf}\n",
      "  warnings.warn(LatexWarning(f\"Could not find graphic {k}\"))\n"
     ]
    },
    {
     "name": "stdout",
     "output_type": "stream",
     "text": [
      "Found 42 bibliographic references in tmp_2504.19986/main.bbl.\n",
      "Retrieving document from  https://arxiv.org/e-print/2504.20012\n"
     ]
    },
    {
     "name": "stdout",
     "output_type": "stream",
     "text": [
      "extracting tarball to tmp_2504.20012... done.\n"
     ]
    },
    {
     "name": "stderr",
     "output_type": "stream",
     "text": [
      "/opt/hostedtoolcache/Python/3.9.22/x64/lib/python3.9/site-packages/IPython/core/interactiveshell.py:3550: LatexWarning: Multiple tex files.\n",
      "\n",
      "  exec(code_obj, self.user_global_ns, self.user_ns)\n",
      "/opt/hostedtoolcache/Python/3.9.22/x64/lib/python3.9/site-packages/IPython/core/interactiveshell.py:3550: LatexWarning: Found documentclass in tmp_2504.20012/emission_height.tex\n",
      "\n",
      "  exec(code_obj, self.user_global_ns, self.user_ns)\n",
      "/opt/hostedtoolcache/Python/3.9.22/x64/lib/python3.9/site-packages/arxiv_on_deck_2/latex.py:414: LatexWarning: Latex injecting: 'table_masses' from 'tmp_2504.20012/table_masses.tex'\n",
      "  warnings.warn(LatexWarning(f\"Latex injecting: '{ext}' from '{subsource}'\"))\n"
     ]
    },
    {
     "name": "stdout",
     "output_type": "stream",
     "text": [
      "M. Benisty  ->  M. Benisty  |  ['M. Benisty']\n",
      "D. Fasano  ->  D. Fasano  |  ['D. Fasano']\n",
      "M. Flock  ->  M. Flock  |  ['M. Flock']\n"
     ]
    },
    {
     "name": "stdout",
     "output_type": "stream",
     "text": [
      "Found 64 bibliographic references in tmp_2504.20012/emission_height.bbl.\n",
      "Retrieving document from  https://arxiv.org/e-print/2504.20023\n"
     ]
    },
    {
     "name": "stdout",
     "output_type": "stream",
     "text": [
      "extracting tarball to tmp_2504.20023..."
     ]
    },
    {
     "name": "stdout",
     "output_type": "stream",
     "text": [
      " done.\n"
     ]
    },
    {
     "name": "stderr",
     "output_type": "stream",
     "text": [
      "/opt/hostedtoolcache/Python/3.9.22/x64/lib/python3.9/site-packages/IPython/core/interactiveshell.py:3550: LatexWarning: Multiple tex files.\n",
      "\n",
      "  exec(code_obj, self.user_global_ns, self.user_ns)\n",
      "/opt/hostedtoolcache/Python/3.9.22/x64/lib/python3.9/site-packages/IPython/core/interactiveshell.py:3550: LatexWarning: Found documentclass in tmp_2504.20023/vortices.tex\n",
      "\n",
      "  exec(code_obj, self.user_global_ns, self.user_ns)\n",
      "/opt/hostedtoolcache/Python/3.9.22/x64/lib/python3.9/site-packages/arxiv_on_deck_2/latex.py:414: LatexWarning: Latex injecting: 'authorlist' from 'tmp_2504.20023/authorlist.tex'\n",
      "  warnings.warn(LatexWarning(f\"Latex injecting: '{ext}' from '{subsource}'\"))\n"
     ]
    },
    {
     "name": "stdout",
     "output_type": "stream",
     "text": [
      "M. Benisty  ->  M. Benisty  |  ['M. Benisty']\n",
      "D. Fasano  ->  D. Fasano  |  ['D. Fasano']\n",
      "M. Flock  ->  M. Flock  |  ['M. Flock']\n"
     ]
    },
    {
     "name": "stdout",
     "output_type": "stream",
     "text": [
      "Found 161 bibliographic references in tmp_2504.20023/vortices.bbl.\n",
      "Issues with the citations\n",
      "syntax error in line 858: '=' expected\n",
      "Retrieving document from  https://arxiv.org/e-print/2504.20036\n"
     ]
    },
    {
     "name": "stdout",
     "output_type": "stream",
     "text": [
      "extracting tarball to tmp_2504.20036..."
     ]
    },
    {
     "name": "stdout",
     "output_type": "stream",
     "text": [
      " done.\n"
     ]
    },
    {
     "name": "stderr",
     "output_type": "stream",
     "text": [
      "/opt/hostedtoolcache/Python/3.9.22/x64/lib/python3.9/site-packages/IPython/core/interactiveshell.py:3550: LatexWarning: Multiple tex files.\n",
      "\n",
      "  exec(code_obj, self.user_global_ns, self.user_ns)\n",
      "/opt/hostedtoolcache/Python/3.9.22/x64/lib/python3.9/site-packages/IPython/core/interactiveshell.py:3550: LatexWarning: Found documentclass in tmp_2504.20036/main.tex\n",
      "\n",
      "  exec(code_obj, self.user_global_ns, self.user_ns)\n",
      "/opt/hostedtoolcache/Python/3.9.22/x64/lib/python3.9/site-packages/arxiv_on_deck_2/latex.py:414: LatexWarning: Latex injecting: 'table_dvphi_prop' from 'tmp_2504.20036/table_dvphi_prop.tex'\n",
      "  warnings.warn(LatexWarning(f\"Latex injecting: '{ext}' from '{subsource}'\"))\n",
      "/opt/hostedtoolcache/Python/3.9.22/x64/lib/python3.9/site-packages/arxiv_on_deck_2/latex.py:414: LatexWarning: Latex injecting: 'authorlist' from 'tmp_2504.20036/authorlist.tex'\n",
      "  warnings.warn(LatexWarning(f\"Latex injecting: '{ext}' from '{subsource}'\"))\n"
     ]
    },
    {
     "name": "stdout",
     "output_type": "stream",
     "text": [
      "M. Benisty  ->  M. Benisty  |  ['M. Benisty']\n",
      "D. Fasano  ->  D. Fasano  |  ['D. Fasano']\n",
      "M. Flock  ->  M. Flock  |  ['M. Flock']\n",
      "I. Hammond  ->  I. Hammond  |  ['I. Hammond']\n"
     ]
    },
    {
     "name": "stdout",
     "output_type": "stream",
     "text": [
      "Found 91 bibliographic references in tmp_2504.20036/main.bbl.\n"
     ]
    }
   ],
   "source": [
    "documents = []\n",
    "failed = []\n",
    "for paper in tqdm(candidates):\n",
    "    # debug crap\n",
    "    paper['identifier'] = paper['identifier'].lower().replace('arxiv:', '').replace(r'\\n', '').strip()\n",
    "    paper_id = paper['identifier']\n",
    "    \n",
    "    folder = f'tmp_{paper_id}'\n",
    "\n",
    "    try:\n",
    "        if not os.path.isdir(folder):\n",
    "            folder = retrieve_document_source(f\"{paper_id}\", f'tmp_{paper_id}')\n",
    "        \n",
    "        try:\n",
    "            doc = latex.LatexDocument(folder, validation=validation)    \n",
    "        except AffiliationError as affilerror:\n",
    "            msg = f\"ArXiv:{paper_id:s} is not an MPIA paper... \" + str(affilerror)\n",
    "            failed.append((paper, \"affiliation error: \" + str(affilerror) ))\n",
    "            continue\n",
    "        \n",
    "        # Hack because sometimes author parsing does not work well\n",
    "        if (len(doc.authors) != len(paper['authors'])):\n",
    "            doc._authors = paper['authors']\n",
    "        else:\n",
    "            # highlight authors (FIXME: doc.highlight_authors)\n",
    "            # done on arxiv paper already\n",
    "            doc._authors = highlight_authors_in_list(\n",
    "                [get_initials(k) for k in doc.authors], \n",
    "                mpia_authors, verbose=True)\n",
    "        if (doc.abstract) in (None, ''):\n",
    "            doc._abstract = paper['abstract']\n",
    "            \n",
    "        doc.comment = (get_markdown_badge(paper_id) + \n",
    "                       \"<mark>Appeared on: \" + paper['date'] + \"</mark> - \")\n",
    "        if paper['comments']:\n",
    "            doc.comment += \" _\" + paper['comments'] + \"_\"\n",
    "        \n",
    "        full_md = doc.generate_markdown_text()\n",
    "        \n",
    "        full_md += get_markdown_qrcode(paper_id)\n",
    "        \n",
    "        # replace citations\n",
    "        try:\n",
    "            bibdata = latex_bib.LatexBib.from_doc(doc)\n",
    "            full_md = latex_bib.replace_citations(full_md, bibdata)\n",
    "        except Exception as e:\n",
    "            print(\"Issues with the citations\")\n",
    "            print(e)\n",
    "        \n",
    "        documents.append((paper_id, full_md))\n",
    "    except Exception as e:\n",
    "        warnings.warn(latex.LatexWarning(f\"{paper_id:s} did not run properly\\n\" +\n",
    "                                         str(e)\n",
    "                                        ))\n",
    "        failed.append((paper, \"latex error \" + str(e)))"
   ]
  },
  {
   "cell_type": "markdown",
   "id": "2505a25c",
   "metadata": {
    "papermill": {
     "duration": 0.007565,
     "end_time": "2025-04-29T04:24:48.806370",
     "exception": false,
     "start_time": "2025-04-29T04:24:48.798805",
     "status": "completed"
    },
    "tags": []
   },
   "source": [
    "### Export the logs\n",
    "\n",
    "Throughout, we also keep track of the logs per paper. see `logs-{today date}.md` "
   ]
  },
  {
   "cell_type": "code",
   "execution_count": 6,
   "id": "d733828a",
   "metadata": {
    "execution": {
     "iopub.execute_input": "2025-04-29T04:24:48.822415Z",
     "iopub.status.busy": "2025-04-29T04:24:48.822111Z",
     "iopub.status.idle": "2025-04-29T04:24:48.857897Z",
     "shell.execute_reply": "2025-04-29T04:24:48.857316Z"
    },
    "papermill": {
     "duration": 0.045027,
     "end_time": "2025-04-29T04:24:48.858990",
     "exception": false,
     "start_time": "2025-04-29T04:24:48.813963",
     "status": "completed"
    },
    "scrolled": false,
    "tags": []
   },
   "outputs": [
    {
     "data": {
      "text/markdown": [
       "## Successful papers"
      ],
      "text/plain": [
       "<IPython.core.display.Markdown object>"
      ]
     },
     "metadata": {},
     "output_type": "display_data"
    },
    {
     "data": {
      "text/markdown": [
       "\n",
       "|||\n",
       "|---:|:---|\n",
       "| [![arXiv](https://img.shields.io/badge/arXiv-2504.18616-b31b1b.svg)](https://arxiv.org/abs/2504.18616) | **Insights on Metal Enrichment and Environmental Effect at $z\\approx5-7$ with JWST ASPIRE/EIGER and Chemical Evolution Model**  |\n",
       "|| Z. Li, et al. -- incl., <mark>F. Walter</mark> |\n",
       "|*Appeared on*| *2025-04-29*|\n",
       "|*Comments*| *19 pages, 9 figures. Comments are welcome*|\n",
       "|**Abstract**|            We present the mass-metallicity relation (MZR) for a parent sample of 604 galaxies at $z=5.34-6.94$ with [\\text{O}~\\textsc{iii}] doublets detected, using the deep JWST/NIRCam wide field slitless spectroscopic (WFSS) observations in 26 quasar fields. The sample incorporates the full observations of 25 quasar fields from JWST Cycle 1 GO program ASPIRE and the quasar SDSS J0100+2802 from JWST EIGER program. We identify 204 galaxies residing in overdense structures using friends-of-friends (FoF) algorithm. We estimate the electron temperature of $2.0^{+0.3}_{-0.4}\\times10^4$ K from the Hg and $[\\text{O}~\\textsc{iii}]_{4363}$ lines in the stacked spectrum, indicating a metal-poor sample with median gas phase metallicity 12+$\\log(\\mathrm{O/H})=7.64^{+0.23}_{-0.11}$. With the most up-to-date strong line calibration based on NIRSpec observations, we find that the MZR shows a metal enhancement of $\\sim0.2$ dex at high mass end in overdense environments. However, compared to the local Fundamental Metallicity Relation (FMR), our galaxy sample at $z>5$ shows a metal deficiency of $\\sim0.2$ dex relative to FMR predictions. We explain the observed trend of FMR with a simple analytical model, and we favor dilution from intense gas accretion over outflow to explain the metallicity properties at $z>5$. Those high redshift galaxies are likely in a rapid gas accretion phase when their metal and gas contents are in a non-equilibrium state. According to model predictions, the protocluster members are closer to the gas equilibrium state than field galaxies and thus have higher metallicity and are closer to the local FMR. Our results suggest that the accelerated star formation during protocluster assembly likely plays a key role in shaping the observed MZR and FMR, indicating a potentially earlier onset of metal enrichment in overdense environments at $z\\approx5-7$.         |"
      ],
      "text/plain": [
       "[2504.18616] Insights on Metal Enrichment and Environmental Effect at $z\\approx5-7$ with JWST ASPIRE/EIGER and Chemical Evolution Model\n",
       "\tZ. Li, et al. -- incl., <mark>F. Walter</mark>"
      ]
     },
     "metadata": {},
     "output_type": "display_data"
    },
    {
     "data": {
      "text/markdown": [
       "\n",
       "|||\n",
       "|---:|:---|\n",
       "| [![arXiv](https://img.shields.io/badge/arXiv-2504.18643-b31b1b.svg)](https://arxiv.org/abs/2504.18643) | **exoALMA VII: Benchmarking Hydrodynamics and Radiative Transfer Codes**  |\n",
       "|| J. Bae, et al. -- incl., <mark>M. Flock</mark>, <mark>M. Benisty</mark>, <mark>I. Hammond</mark>, <mark>A. Winter</mark> |\n",
       "|*Appeared on*| *2025-04-29*|\n",
       "|*Comments*| *16 pages, 13 figures, Accepted for publication in The Astrophysical Journal Letters*|\n",
       "|**Abstract**|            Forward modeling is often used to interpret substructures observed in protoplanetary disks. To ensure the robustness and consistency of the current forward modeling approach from the community, we conducted a systematic comparison of various hydrodynamics and radiative transfer codes. Using four grid-based hydrodynamics codes (FARGO3D, Idefix, Athena++, PLUTO) and a smoothed particle hydrodynamics code (Phantom), we simulated a protoplanetary disk with an embedded giant planet. We then used two radiative transfer codes (mcfost, RADMC-3D) to calculate disk temperatures and create synthetic 12CO cubes. Finally, we retrieved the location of the planet from the synthetic cubes using DISCMINER. We found strong consistency between the hydrodynamics codes, particularly in the density and velocity perturbations associated with planet-driven spirals. We also found a good agreement between the two radiative transfer codes: the disk temperature in mcfost and RADMC-3D models agrees within $\\lesssim 3~\\%$ everywhere in the domain. In synthetic $^{12}$CO channel maps, this results in brightness temperature differences within $\\pm1.5$ K in all our models. This good agreement ensures consistent retrieval of planet's radial/azimuthal location with only a few % of scatter, with velocity perturbations varying $\\lesssim 20~\\%$ among the models. Notably, while the planet-opened gap is shallower in the Phantom simulation, we found that this does not impact the planet location retrieval. In summary, our results demonstrate that any combination of the tested hydrodynamics and radiative transfer codes can be used to reliably model and interpret planet-driven kinematic perturbations.         |"
      ],
      "text/plain": [
       "[2504.18643] exoALMA VII: Benchmarking Hydrodynamics and Radiative Transfer Codes\n",
       "\tJ. Bae, et al. -- incl., <mark>M. Flock</mark>, <mark>M. Benisty</mark>, <mark>I. Hammond</mark>, <mark>A. Winter</mark>"
      ]
     },
     "metadata": {},
     "output_type": "display_data"
    },
    {
     "data": {
      "text/markdown": [
       "\n",
       "|||\n",
       "|---:|:---|\n",
       "| [![arXiv](https://img.shields.io/badge/arXiv-2504.18688-b31b1b.svg)](https://arxiv.org/abs/2504.18688) | **exoALMA I. Science Goals, Project Design and Data Products**  |\n",
       "|| R. Teague, et al. -- incl., <mark>M. Benisty</mark>, <mark>D. Fasano</mark>, <mark>M. Flock</mark>, <mark>I. Hammond</mark> |\n",
       "|*Appeared on*| *2025-04-29*|\n",
       "|*Comments*| *This paper is part of the exoALMA Focus Issue of The Astrophysical Journal Letters*|\n",
       "|**Abstract**|            Planet formation is a hugely dynamic process requiring the transport, concentration and assimilation of gas and dust to form the first planetesimals and cores. With access to extremely high spatial and spectral resolution observations at unprecedented sensitivities, it is now possible to probe the planet forming environment in detail. To this end, the exoALMA Large Program targeted fifteen large protoplanetary disks ranging between ${\\sim}1\\arcsec$ and ${\\sim}7\\arcsec$ in radius, and mapped the gas and dust distributions. $^{12}$CO J=3-2, $^{13}$CO J=3-2 and CS J=7-6 molecular emission was imaged at high angular (${\\sim}~0\\farcs15$) and spectral (${\\sim}~100~{\\rm m\\,s^{-1}}$) resolution, achieving a surface brightness temperature sensitivity of ${\\sim}1.5$~K over a single channel, while the 330~GHz continuum emission was imaged at 90~mas resolution and achieved a point source sensitivity of ${\\sim}\\,40~\\mu{\\rm Jy~beam^{-1}}$. These observations constitute some of the deepest observations of protoplanetary disks to date. Extensive substructure was found in all but one disk, traced by both dust continuum and molecular line emission. In addition, the molecular emission allowed for the velocity structure of the disks to be mapped with excellent precision (uncertainties on the order of $10~{\\rm m\\,s^{-1}}$), revealing a variety of kinematic perturbations across all sources. From this sample it is clear that, when observed in detail, all disks appear to exhibit physical and dynamical substructure indicative of on-going dynamical processing due to young, embedded planets, large-scale, (magneto-)hydrodynamical instabilities or winds.         |"
      ],
      "text/plain": [
       "[2504.18688] exoALMA I. Science Goals, Project Design and Data Products\n",
       "\tR. Teague, et al. -- incl., <mark>M. Benisty</mark>, <mark>D. Fasano</mark>, <mark>M. Flock</mark>, <mark>I. Hammond</mark>"
      ]
     },
     "metadata": {},
     "output_type": "display_data"
    },
    {
     "data": {
      "text/markdown": [
       "\n",
       "|||\n",
       "|---:|:---|\n",
       "| [![arXiv](https://img.shields.io/badge/arXiv-2504.18717-b31b1b.svg)](https://arxiv.org/abs/2504.18717) | **exoALMA. X. channel maps reveal complex $^{12}$CO abundance distributions and a variety of kinematic structures with evidence for embedded planets**  |\n",
       "|| C. Pinte, et al. -- incl., <mark>M. Benisty</mark>, <mark>D. Fasano</mark>, <mark>M. Flock</mark>, <mark>I. Hammond</mark> |\n",
       "|*Appeared on*| *2025-04-29*|\n",
       "|*Comments*| *16 pages, 8 figures, accepted for publication in the ApJL exoALMA focus issue*|\n",
       "|**Abstract**|            We analyze the $^{12}$CO $J=3-2$ data cubes of the disks in the exoALMA program. 13/15 disks reveal a variety of kinematic substructures in individual channels: large-scale arcs or spiral arms, localized velocity kinks, and/or multiple faints arcs that appear like filamentary structures on the disk surface. We find kinematic signatures that are consistent with planet wakes in six disks: AA Tau, SY Cha, J1842, J1615, LkCa 15 and HD 143006. Comparison with hydrodynamical and radiative transfer simulations suggests planets with orbital radii between 80 and 310\\,au and masses between 1 and 5 M$_\\mathrm{Jup}$. Additional kinematic substructures limit our ability to place tight constraints on the planet masses. When the inclination is favorable to separate the upper and lower surfaces (near 45$^\\mathrm{o}$, i.e. in 7/15 disks), we always detect the vertical CO snowline and find that the $^{12}$CO freeze-out is partial in the disk midplane, with a depletion factor of $\\approx 10^{-3}$ - $10^{-2}$ compared to the warm molecular layer. In these same seven disks, we also systematically detect evidence of CO desorption in the outer regions.         |"
      ],
      "text/plain": [
       "[2504.18717] exoALMA. X. channel maps reveal complex $^{12}$CO abundance distributions and a variety of kinematic structures with evidence for embedded planets\n",
       "\tC. Pinte, et al. -- incl., <mark>M. Benisty</mark>, <mark>D. Fasano</mark>, <mark>M. Flock</mark>, <mark>I. Hammond</mark>"
      ]
     },
     "metadata": {},
     "output_type": "display_data"
    },
    {
     "data": {
      "text/markdown": [
       "\n",
       "|||\n",
       "|---:|:---|\n",
       "| [![arXiv](https://img.shields.io/badge/arXiv-2504.18725-b31b1b.svg)](https://arxiv.org/abs/2504.18725) | **exoALMA IV: Substructures, Asymmetries, and the Faint Outer Disk in Continuum Emission**  |\n",
       "|| P. Curone, et al. -- incl., <mark>M. Benisty</mark>, <mark>D. Fasano</mark>, <mark>M. Flock</mark> |\n",
       "|*Appeared on*| *2025-04-29*|\n",
       "|*Comments*| *This paper is part of the exoALMA Focus Issue of The Astrophysical Journal Letters*|\n",
       "|**Abstract**|            The exoALMA Large Program targeted a sample of 15 disks to study gas dynamics within these systems, and these observations simultaneously produced continuum data at 0.9 mm (331.6 GHz) with exceptional surface brightness sensitivity at high angular resolution. To provide a robust characterization of the observed substructures, we performed a visibility space analysis of the continuum emission from the exoALMA data, characterizing axisymmetric substructures and nonaxisymmetric residuals obtained by subtracting an axisymmetric model from the observed data. We defined a nonaxisymmetry index and found that the most asymmetric disks predominantly show an inner cavity and consistently present higher values of mass accretion rate and near-infrared excess. This suggests a connection between outer disk dust substructures and inner disk properties. The depth of the data allowed us to describe the azimuthally averaged continuum emission in the outer disk, revealing that larger disks (both in dust and gas) in our sample tend to be gradually tapered compared to the sharper outer edge of more compact sources. Additionally, the data quality revealed peculiar features in various sources, such as shadows, inner disk offsets, tentative external substructures, and a possible dust cavity wall.         |"
      ],
      "text/plain": [
       "[2504.18725] exoALMA IV: Substructures, Asymmetries, and the Faint Outer Disk in Continuum Emission\n",
       "\tP. Curone, et al. -- incl., <mark>M. Benisty</mark>, <mark>D. Fasano</mark>, <mark>M. Flock</mark>"
      ]
     },
     "metadata": {},
     "output_type": "display_data"
    },
    {
     "data": {
      "text/markdown": [
       "\n",
       "|||\n",
       "|---:|:---|\n",
       "| [![arXiv](https://img.shields.io/badge/arXiv-2504.18726-b31b1b.svg)](https://arxiv.org/abs/2504.18726) | **exoALMA XII: Weighing and sizing exoALMA disks with rotation curve modelling**  |\n",
       "|| C. Longarini, et al. -- incl., <mark>A. Winter</mark>, <mark>M. Benisty</mark>, <mark>D. Fasano</mark>, <mark>M. Flock</mark>, <mark>I. Hammond</mark> |\n",
       "|*Appeared on*| *2025-04-29*|\n",
       "|*Comments*| *This paper is part of the exoALMA Focus Issue of The Astrophysical Journal Letters*|\n",
       "|**Abstract**|            The exoALMA large program offers a unique opportunity to investigate the fundamental properties of protoplanetary disks, such as their masses and sizes, providing important insights in the mechanism responsible for the transport of angular momentum. In this work, we model the rotation curves of CO isotopologues $^{12}$CO and $^{13}$CO of ten sources within the exoALMA sample, and we constrain the stellar mass, the disk mass and the density scale radius through precise characterization of the pressure gradient and disk self gravity. We obtain dynamical disk masses for our sample measuring the self-gravitating contribution to the gravitational potential. We are able to parametrically describe their surface density, and all of them appear gravitationally stable. By combining dynamical disk masses with dust continuum emission data, we determine an averaged gas-to-dust ratio of approximately 400, not statistically consistent with the standard value of 100, assuming optically thin dust emission. In addition, the measurement of the dynamical scale radius allows for direct comparison with flux-based radii of gas and dust. This comparison suggests that substructures may influence the size of the dust disk, and that CO depletion might reconcile our measurements with thermochemical models. Finally, with the stellar mass, disk mass, scale radius, and accretion rate, and assuming self-similar evolution of the surface density, we constrain the effective $\\alpha_S$ for these systems. We find a broad range of $\\alpha_S$ values ranging between $10^{-5}$ and $10^{-2}$.         |"
      ],
      "text/plain": [
       "[2504.18726] exoALMA XII: Weighing and sizing exoALMA disks with rotation curve modelling\n",
       "\tC. Longarini, et al. -- incl., <mark>A. Winter</mark>, <mark>M. Benisty</mark>, <mark>D. Fasano</mark>, <mark>M. Flock</mark>, <mark>I. Hammond</mark>"
      ]
     },
     "metadata": {},
     "output_type": "display_data"
    },
    {
     "data": {
      "text/markdown": [
       "\n",
       "|||\n",
       "|---:|:---|\n",
       "| [![arXiv](https://img.shields.io/badge/arXiv-2504.19111-b31b1b.svg)](https://arxiv.org/abs/2504.19111) | **exoALMA IX: Regularized Maximum Likelihood Imaging of Non-Keplerian Features**  |\n",
       "|| B. Zawadzki, et al. -- incl., <mark>M. Benisty</mark>, <mark>D. Fasano</mark>, <mark>M. Flock</mark> |\n",
       "|*Appeared on*| *2025-04-29*|\n",
       "|*Comments*| *19 pages, 13 figures. This paper is part of the exoALMA Focus Issue of The Astrophysical Journal Letters*|\n",
       "|**Abstract**|            The planet-hunting ALMA large program exoALMA observed 15 protoplanetary disks at ~0.15\" angular resolution and ~100 m/s spectral resolution, characterizing disk structures and kinematics in enough detail to detect non-Keplerian features (NKFs) in the gas emission. As these features are often small and low-contrast, robust imaging procedures are critical for identifying and characterizing NKFs, including determining which features may be signatures of young planets. The exoALMA collaboration employed two different imaging procedures to ensure the consistent detection of NKFs: CLEAN, the standard iterative deconvolution algorithm, and regularized maximum likelihood (RML) imaging. This paper presents the exoALMA RML images, obtained by maximizing the likelihood of the visibility data given a model image and subject to regularizer penalties. Crucially, in the context of exoALMA, RML images serve as an independent verification of marginal features seen in the fiducial CLEAN images. However, best practices for synthesizing RML images of multi-channeled (i.e. velocity-resolved) data remain undefined, as prior work on RML imaging for protoplanetary disk data has primarily addressed single-image cases. We used the open source Python package MPoL to explore RML image validation methods for multi-channeled data and synthesize RML images from the exoALMA observations of 7 protoplanetary disks with apparent NKFs in the 12CO J=3-2 CLEAN images. We find that RML imaging methods independently reproduce the NKFs seen in the CLEAN images of these sources, suggesting that the NKFs are robust features rather than artifacts from a specific imaging procedure.         |"
      ],
      "text/plain": [
       "[2504.19111] exoALMA IX: Regularized Maximum Likelihood Imaging of Non-Keplerian Features\n",
       "\tB. Zawadzki, et al. -- incl., <mark>M. Benisty</mark>, <mark>D. Fasano</mark>, <mark>M. Flock</mark>"
      ]
     },
     "metadata": {},
     "output_type": "display_data"
    },
    {
     "data": {
      "text/markdown": [
       "\n",
       "|||\n",
       "|---:|:---|\n",
       "| [![arXiv](https://img.shields.io/badge/arXiv-2504.19371-b31b1b.svg)](https://arxiv.org/abs/2504.19371) | **ExoALMA XIII. gas masses from N2H+ and C18O: a comparison of protoplanetary gas disk mass measurement techniques**  |\n",
       "|| L. Trapman, et al. -- incl., <mark>M. Benisty</mark>, <mark>D. Fasano</mark>, <mark>M. Flock</mark> |\n",
       "|*Appeared on*| *2025-04-29*|\n",
       "|*Comments*| *20 pages, 9 figures, 4 tables. This paper is part of the exoALMA Focus Issue of The Astrophysical Journal Letters*|\n",
       "|**Abstract**|            The gas masses of protoplanetary disks are important but elusive quantities. In this work we present new ALMA observations of N2H+ (3-2) for 11 exoALMA disks. N2H+ is a molecule sensitive to CO freeze-out and has recently been shown to significantly improve the accuracy of gas masses estimated from CO line emission. We combine these new observations with archival N2H+ and CO isotopologue observations to measure gas masses for 19 disks, predominantly from the exoALMA Large program. For 15 of these disks the gas mass has also been measured using gas rotation curves. We show that the CO + N2H+ line emission-based gas masses typically agree with the kinematically measured ones within a factor 3 (1-2{\\sigma}). Gas disk masses from CO + N2H+ are on average a factor 2.3(+0.7,-1.0) x lower than the kinematic disk masses, which could suggest slightly lower N2 abundances and/or lower midplane ionization rates than typically assumed. Herbig disks are found to have ISM level CO gas abundances based on their CO and N2H+ fluxes, which sets them apart from T-Tauri disks where abundances are typically 3-30x lower. The agreement between CO + N2H+ -based and kinematically measured gas masses is promising and shows that multi-molecule line fluxes are a robust tool to accurately measure disk masses at least for extended disks.         |"
      ],
      "text/plain": [
       "[2504.19371] ExoALMA XIII. gas masses from N2H+ and C18O: a comparison of protoplanetary gas disk mass measurement techniques\n",
       "\tL. Trapman, et al. -- incl., <mark>M. Benisty</mark>, <mark>D. Fasano</mark>, <mark>M. Flock</mark>"
      ]
     },
     "metadata": {},
     "output_type": "display_data"
    },
    {
     "data": {
      "text/markdown": [
       "\n",
       "|||\n",
       "|---:|:---|\n",
       "| [![arXiv](https://img.shields.io/badge/arXiv-2504.19416-b31b1b.svg)](https://arxiv.org/abs/2504.19416) | **exoALMA. VIII. Probabilistic Moment Maps and Data Products using Non-parametric Linear Models**  |\n",
       "|| T. Hilder, et al. -- incl., <mark>M. Benisty</mark>, <mark>D. Fasano</mark>, <mark>M. Flock</mark>, <mark>I. Hammond</mark> |\n",
       "|*Appeared on*| *2025-04-29*|\n",
       "|*Comments*| *24 pages, 10 figures*|\n",
       "|**Abstract**|            Extracting robust inferences on physical quantities from disk kinematics measured from Doppler-shifted molecular line emission is challenging due to the data's size and complexity. In this paper we develop a flexible linear model of the intensity distribution in each frequency channel, accounting for spatial correlations from the point spread function. The analytic form of the model's posterior enables probabilistic data products through sampling. Our method debiases peak intensity, peak velocity, and line width maps, particularly in disk substructures that are only partially resolved. These are needed in order to measure disk mass, turbulence, pressure gradients, and to detect embedded planets. We analyse HD 135344B, MWC 758, and CQ Tau, finding velocity substructures 50--200 ${\\rm m s^{-1}}$ greater than with conventional methods. Additionally, we combine our approach with discminer in a case study of J1842. We find that uncertainties in stellar mass and inclination increase by an order of magnitude due to the more realistic noise model. More broadly, our method can be applied to any problem requiring a probabilistic model of an intensity distribution conditioned on a point spread function.         |"
      ],
      "text/plain": [
       "[2504.19416] exoALMA. VIII. Probabilistic Moment Maps and Data Products using Non-parametric Linear Models\n",
       "\tT. Hilder, et al. -- incl., <mark>M. Benisty</mark>, <mark>D. Fasano</mark>, <mark>M. Flock</mark>, <mark>I. Hammond</mark>"
      ]
     },
     "metadata": {},
     "output_type": "display_data"
    },
    {
     "data": {
      "text/markdown": [
       "\n",
       "|||\n",
       "|---:|:---|\n",
       "| [![arXiv](https://img.shields.io/badge/arXiv-2504.19434-b31b1b.svg)](https://arxiv.org/abs/2504.19434) | **exoALMA XIV. Gas Surface Densities in the RX J1604.3-2130 A Disk from Pressure-broadened CO Line Wings**  |\n",
       "|| T. C. Yoshida, et al. -- incl., <mark>M. Benisty</mark>, <mark>D. Fasano</mark>, <mark>M. Flock</mark> |\n",
       "|*Appeared on*| *2025-04-29*|\n",
       "|*Comments*| *23 pages, 16 figures. This paper is part of the exoALMA Focus Issue of The Astrophysical Journal Letters*|\n",
       "|**Abstract**|            The gas surface density is one of the most relevant physical quantities in protoplanetary disks. However, its precise measurement remains highly challenging due to the lack of a direct tracer. In this study, we report the spatially-resolved detection of pressure-broadened line wings in the CO $J=3-2$ line in the RX J1604.3-2130 A transition disk as part of the exoALMA large program. Since pressure-broadened line wings are sensitive to the total gas volume density, we robustly constrain the radial dependence of the gas surface density and midplane pressure in the region located $50-110$ au from the central star, which encompasses the dust ring of the system. The peak radius of the midplane pressure profile matches the dust ring radial location, directly proving radial dust trapping at a gas pressure maximum. The peak gas surface density is $18-44\\ {\\rm g\\ cm^{-2}}$} and decreases at radii interior to and exterior of the dust ring. A comparison of the gas and dust surface densities suggests that the disk turbulence is as low as $\\alpha_{\\rm turb} \\sim 2\\times10^{-4}$. Despite dust trapping, the gas-to-dust surface density ratio at the ring peak is { $70-400$}, which implies already-formed protoplanets and/or less efficient dust trapping. The gas surface density drop at radii interior to the ring is consistent with a gas gap induced by a Jupiter-mass planet. The total gas mass within $50 < r < 110$ au is estimated to be $\\sim 0.05-0.1\\ M_\\odot$ ($50-100\\ {M_{\\rm Jup}}$), suggesting that planetary system formation is possible.         |"
      ],
      "text/plain": [
       "[2504.19434] exoALMA XIV. Gas Surface Densities in the RX J1604.3-2130 A Disk from Pressure-broadened CO Line Wings\n",
       "\tT. C. Yoshida, et al. -- incl., <mark>M. Benisty</mark>, <mark>D. Fasano</mark>, <mark>M. Flock</mark>"
      ]
     },
     "metadata": {},
     "output_type": "display_data"
    },
    {
     "data": {
      "text/markdown": [
       "\n",
       "|||\n",
       "|---:|:---|\n",
       "| [![arXiv](https://img.shields.io/badge/arXiv-2504.19709-b31b1b.svg)](https://arxiv.org/abs/2504.19709) | **SHINS, the SHARK-NIR Instrument Control Software**  |\n",
       "|| D. Ricci, et al. -- incl., <mark>F. Briegel</mark>, <mark>L. Mohr</mark> |\n",
       "|*Appeared on*| *2025-04-29*|\n",
       "|*Comments*| *26 pages, 20 figures. Accepted for publication in JATIS*|\n",
       "|**Abstract**|            SHARK-NIR is a new compact instrument for coronagraphic imaging, direct imaging, and coronagraphic spectroscopy in the near-infrared wavelengths mounted at LBT. Taking advantage of the telescope's adaptive optics system, it provides high contrast imaging with coronagraphic and spectroscopic capabilities and is focused on the direct imaging of exoplanets and circumstellar discs. We present SHINS, the SHARK-NIR instrument control software, mainly realized with the TwiceAsNice framework from MPIA - Heidelberg and the ICE framework using the C++ programming language. We describe how we implemented the software components controlling several instrument subsystems, through the adaptation of already tested libraries from other instruments at LBT, such as LINC-NIRVANA. The scientific detector comes with its own readout electronic and control software interfaced with our software through INDI. We describe the C++ core software Observation Control Software, responsible for dispatching commands to the subsystems, also implementing a software solution to avoid a potential collision between motorized components, fully transparent to final users. It exposes an ICE interface and can be controlled by clients developed in different languages. Observation, calibration, and maintenance procedures are implemented by means of template scripts, written in python language, controlling Observation Control Software through its ICE interface. These templates and their parameters are configured using \"ESO-style\", XML Observation Blocks prepared by observers, or in general SHARK-NIR users. The high-level control is carried out by REST HTTP APIs implemented in a python back-end, also acting as a web server for the several browser-based front-end GUIs. Finally, we present the first scientific results obtained by SHARK-NIR using coronagraphic mode.         |"
      ],
      "text/plain": [
       "[2504.19709] SHINS, the SHARK-NIR Instrument Control Software\n",
       "\tD. Ricci, et al. -- incl., <mark>F. Briegel</mark>, <mark>L. Mohr</mark>"
      ]
     },
     "metadata": {},
     "output_type": "display_data"
    },
    {
     "data": {
      "text/markdown": [
       "\n",
       "|||\n",
       "|---:|:---|\n",
       "| [![arXiv](https://img.shields.io/badge/arXiv-2504.19853-b31b1b.svg)](https://arxiv.org/abs/2504.19853) | **exoALMA. XVI. Predicting Signatures of Large-scale Turbulence in Protoplanetary Disks**  |\n",
       "|| M. Barraza-Alfaro, et al. -- incl., <mark>M. Flock</mark>, <mark>M. Benisty</mark>, <mark>D. Fasano</mark> |\n",
       "|*Appeared on*| *2025-04-29*|\n",
       "|*Comments*| *This paper is part of the exoALMA Focus Issue of The Astrophysical Journal Letters. 29 pages, 11 figures and 1 table*|\n",
       "|**Abstract**|            Turbulent gas motions drive planet formation and protoplanetary disk evolution. However, empirical constraints on turbulence are scarce, halting our understanding of its nature. Resolving signatures of the large-scale perturbations driven by disk instabilities may reveal clues on the origin of turbulence in the outer regions of planet-forming disks. We aim to predict the observational signatures of such large-scale flows, as they would appear in high-resolution Atacama Large Millimeter/submillimeter Array observations of CO rotational lines, such as those conducted by the exoALMA Large Program. Post-processing 3D numerical simulations, we explored the observational signatures produced by three candidate (magneto-)hydrodynamical instabilities to operate in the outer regions of protoplanetary disks: the vertical shear instability (VSI), the magneto-rotational instability (MRI), and the gravitational instability (GI). We found that exoALMA-quality observations should capture signatures of the large-scale motions induced by these instabilities. Mainly, flows with ring, arc, and spiral morphologies are apparent in the residuals of synthetic velocity centroid maps. A qualitative comparison between our predictions and the perturbations recovered from exoALMA data suggests the presence of two laminar disks and a scarcity of ring- and arc-like VSI signatures within the sample. Spiral features produced by the MRI or the GI are still plausible in explaining observed disk perturbations. Supporting these scenarios requires further methodically comparing the predicted perturbations and the observed disks' complex dynamic structure.         |"
      ],
      "text/plain": [
       "[2504.19853] exoALMA. XVI. Predicting Signatures of Large-scale Turbulence in Protoplanetary Disks\n",
       "\tM. Barraza-Alfaro, et al. -- incl., <mark>M. Flock</mark>, <mark>M. Benisty</mark>, <mark>D. Fasano</mark>"
      ]
     },
     "metadata": {},
     "output_type": "display_data"
    },
    {
     "data": {
      "text/markdown": [
       "\n",
       "|||\n",
       "|---:|:---|\n",
       "| [![arXiv](https://img.shields.io/badge/arXiv-2504.19868-b31b1b.svg)](https://arxiv.org/abs/2504.19868) | **exoALMA XI: ALMA Observations and Hydrodynamic Models of LkCa 15: Implications for Planetary Mass Companions in the Dust Continuum Cavity**  |\n",
       "|| C. H. Gardner, et al. -- incl., <mark>M. Benisty</mark>, <mark>D. Fasano</mark>, <mark>M. Flock</mark> |\n",
       "|*Appeared on*| *2025-04-29*|\n",
       "|*Comments*| *23 pages, 12 Figures. This letter was accepted for publication in The Astrophysical Journal Letters. This paper is part of the exoALMA Focus Issue of The Astrophysical Journal Letters*|\n",
       "|**Abstract**|            In the past decade, the Atacama Large Millimeter/submillimeter Array (ALMA) has revealed a plethora of substructures in the disks surrounding young stars. These substructures have several proposed formation mechanisms, with one leading theory being the interaction between the disk and newly formed planets. In this Letter, we present high angular resolution ALMA observations of LkCa~15's disk that reveal a striking difference in dust and CO emission morphology. The dust continuum emission shows a ring-like structure characterized by a dust-depleted inner region of $\\sim$40 au in radius. Conversely, the CO emission is radially smoother and shows no sign of gas depletion within the dust cavity. We compare the observations with models for the disk-planet interaction, including radiative transfer calculation in the dust and CO emission. This source is particularly interesting as the presence of massive planets within the dust cavity has been suggested based on previous NIR observations. We find that the level of CO emission observed within the dust cavity is inconsistent with the presence of planets more massive than Jupiter orbiting between 10-40 au. Instead, we argue that the LkCa~15 innermost dust cavity might be created either by a chain of low-mass planets, or by other processes that do not require the presence of planets.         |"
      ],
      "text/plain": [
       "[2504.19868] exoALMA XI: ALMA Observations and Hydrodynamic Models of LkCa 15: Implications for Planetary Mass Companions in the Dust Continuum Cavity\n",
       "\tC. H. Gardner, et al. -- incl., <mark>M. Benisty</mark>, <mark>D. Fasano</mark>, <mark>M. Flock</mark>"
      ]
     },
     "metadata": {},
     "output_type": "display_data"
    },
    {
     "data": {
      "text/markdown": [
       "\n",
       "|||\n",
       "|---:|:---|\n",
       "| [![arXiv](https://img.shields.io/badge/arXiv-2504.19870-b31b1b.svg)](https://arxiv.org/abs/2504.19870) | **exoALMA II: Data Calibration and Imaging Pipeline**  |\n",
       "|| R. A. Loomis, et al. -- incl., <mark>M. Benisty</mark>, <mark>D. Fasano</mark>, <mark>M. Flock</mark> |\n",
       "|*Appeared on*| *2025-04-29*|\n",
       "|*Comments*| *24 pages, 10 figures. This paper is accepted as part of the exoALMA Focus Issue of The Astrophysical Journal Letters*|\n",
       "|**Abstract**|            The exoALMA Large Program was designed to search for subtle kinematic deviations from Keplerian motion, indicative of embedded planets, in high angular and spectral resolution Band 7 observations of $^{12}$CO, $^{13}$CO and CS emission from protoplanetary disks. This paper summarizes the calibration and imaging pipelines used by the exoALMA collaboration. With sources ranging in diameter from 2.4\" to 13.8\" when probed by $^{12}$CO, multiple antennae configurations were required to maximally recover all spatial information (including the ACA for 7 sources). Combining these datasets warranted particular care in their alignment during calibration and prior to imaging, so as not to introduce spurious features that might resemble the kinematic deviations being investigated. Phase decoherence was found in several datasets, which was corrected by an iterative self-calibration procedure, and we explored the effects of the order of operations of spatial alignment, flux scaling, and self-calibration. A number of different imaging sets were produced for the continuum and line emission, employing an iterative masking procedure that minimizes bias due to non-Keplerian motions in the disk.         |"
      ],
      "text/plain": [
       "[2504.19870] exoALMA II: Data Calibration and Imaging Pipeline\n",
       "\tR. A. Loomis, et al. -- incl., <mark>M. Benisty</mark>, <mark>D. Fasano</mark>, <mark>M. Flock</mark>"
      ]
     },
     "metadata": {},
     "output_type": "display_data"
    },
    {
     "data": {
      "text/markdown": [
       "\n",
       "|||\n",
       "|---:|:---|\n",
       "| [![arXiv](https://img.shields.io/badge/arXiv-2504.19902-b31b1b.svg)](https://arxiv.org/abs/2504.19902) | **exoALMA V: Gaseous Emission Surfaces and Temperature Structures**  |\n",
       "|| M. Galloway-Sprietsma, et al. -- incl., <mark>M. Benisty</mark>, <mark>D. Fasano</mark>, <mark>M. Flock</mark> |\n",
       "|*Appeared on*| *2025-04-29*|\n",
       "|*Comments*| *This paper is part of the exoALMA Focus Issue of The Astrophysical Journal Letters*|\n",
       "|**Abstract**|            Analysis of the gaseous component in protoplanetary disks can inform us about their thermal and physical structure, chemical composition, and kinematic properties, all of which are crucial for understanding various processes within the disks. By exploiting the asymmetry of the line emission, or via line profile analysis, we can locate the emitting surfaces. Here, we present the emission surfaces of the exoALMA sources in $^{12}$CO $J=3-2$, $^{13}$CO $J=3-2$, and CS $J=7-6$. We find that $^{12}$CO traces the upper disk atmosphere, with mean <$z/r$> values of $\\approx$ 0.28, while $^{13}$CO and CS trace lower regions of the disk with mean <z/r> values of $\\approx$ 0.16 and $\\approx$ 0.18, respectively. We find that $^{12}$CO <$z/r$> and the disk mass are positively correlated with each other; this relationship offers a straightforward way to infer the disk mass. We derive 2-D $r-z$ temperature distributions of the disks. Additionally, we search for substructure in the surfaces and radial intensity profiles; we find evidence of localized substructure in the emission surfaces and peak intensity profiles of nearly every disk, with this substructure often being co-incident between molecular tracers, intensity profiles, and kinematic perturbations. Four disks display evidence of potential photo-desorption, implying that this effect may be common even in low FUV star-forming regions. For most disks, we find that the physical and thermal structure is more complex than analytical models can account for, highlighting a need for more theoretical work and a better understanding of the role of projection effects on our observations.         |"
      ],
      "text/plain": [
       "[2504.19902] exoALMA V: Gaseous Emission Surfaces and Temperature Structures\n",
       "\tM. Galloway-Sprietsma, et al. -- incl., <mark>M. Benisty</mark>, <mark>D. Fasano</mark>, <mark>M. Flock</mark>"
      ]
     },
     "metadata": {},
     "output_type": "display_data"
    },
    {
     "data": {
      "text/markdown": [
       "\n",
       "|||\n",
       "|---:|:---|\n",
       "| [![arXiv](https://img.shields.io/badge/arXiv-2504.19986-b31b1b.svg)](https://arxiv.org/abs/2504.19986) | **exoALMA III: Line-intensity Modeling and System Property Extraction from Protoplanetary Disks**  |\n",
       "|| A. F. Izquierdo, et al. -- incl., <mark>M. Benisty</mark>, <mark>D. Fasano</mark>, <mark>M. Flock</mark>, <mark>I. Hammond</mark> |\n",
       "|*Appeared on*| *2025-04-29*|\n",
       "|*Comments*| *This paper is part of the exoALMA Focus Issue of The Astrophysical Journal Letters*|\n",
       "|**Abstract**|            The ALMA large program exoALMA offers a unique window into the three-dimensional physical and dynamical properties of 15 circumstellar disks where planets may be actively forming. Here, we present an analysis methodology to map the gas disk structure and substructure encoded in 12CO, 13CO, and CS line emission from our targets. To model and characterize the disk structure probed by optically thin species, such as CS and, in some cases, 13CO, we introduce a composite line profile kernel that accounts for increased intensities caused by the projected overlap between the disk's front and back side emission. Our workflow, built on the Discminer modelling framework, incorporates an improved iterative two-component fitting method for inclined sources ($i>40^\\circ$), to mitigate the impact of the disk backside on the extraction of velocity maps. Also, we report best-fit parameters for the Keplerian stellar masses, as well as inclinations, position angles, systemic velocities, rotation direction, and emission surfaces of the disks in our sample.         |"
      ],
      "text/plain": [
       "[2504.19986] exoALMA III: Line-intensity Modeling and System Property Extraction from Protoplanetary Disks\n",
       "\tA. F. Izquierdo, et al. -- incl., <mark>M. Benisty</mark>, <mark>D. Fasano</mark>, <mark>M. Flock</mark>, <mark>I. Hammond</mark>"
      ]
     },
     "metadata": {},
     "output_type": "display_data"
    },
    {
     "data": {
      "text/markdown": [
       "\n",
       "|||\n",
       "|---:|:---|\n",
       "| [![arXiv](https://img.shields.io/badge/arXiv-2504.20012-b31b1b.svg)](https://arxiv.org/abs/2504.20012) | **exoALMA XV: Interpreting the height of CO emission layer**  |\n",
       "|| G. P. Rosotti, et al. -- incl., <mark>M. Benisty</mark>, <mark>D. Fasano</mark>, <mark>M. Flock</mark> |\n",
       "|*Appeared on*| *2025-04-29*|\n",
       "|*Comments*| *23 pages, 12 figures. This paper is part of the exoALMA Focus Issue of The Astrophysical Journal Letters available at this https URL*|\n",
       "|**Abstract**|            The availability of exquisite data and the development of new analysis techniques have enabled the study of emitting heights in proto-planetary disks. In this paper we introduce a simple model linking the emitting height of CO to the disk surface density and temperature structure. We then apply the model to measurements of the emitting height and disk temperature conducted as part of exoALMA, integrated with additional legacy measurements from the MAPS Large Programme, to derive CO column densities and surface density profiles (assuming a CO abundance) for a total of 14 disks. A unique feature of the method we introduce to measure surface densities is that it can be applied to optically thick observations, rather than optically thin as conventionally done. While we use our method on a sample of well studied disks where temperature structures have been derived using two emission lines, we show that reasonably accurate estimates can be obtained also when only one molecular transition is available. With our method we obtain independent constraints from $^{12}$CO and $^{13}$CO and we find they are in general good agreement using the standard $^{12}$C/$^{13}$C isotopic ratio. The masses derived from our method are systematically lower compared with the values derived dynamically from the rotation curve if using an ISM CO abundance, implying that CO is depleted by a median factor $\\sim$20 with respect to the ISM value, in line with other works that find that CO is depleted in proto-planetary disks.         |"
      ],
      "text/plain": [
       "[2504.20012] exoALMA XV: Interpreting the height of CO emission layer\n",
       "\tG. P. Rosotti, et al. -- incl., <mark>M. Benisty</mark>, <mark>D. Fasano</mark>, <mark>M. Flock</mark>"
      ]
     },
     "metadata": {},
     "output_type": "display_data"
    },
    {
     "data": {
      "text/markdown": [
       "\n",
       "|||\n",
       "|---:|:---|\n",
       "| [![arXiv](https://img.shields.io/badge/arXiv-2504.20023-b31b1b.svg)](https://arxiv.org/abs/2504.20023) | **exoALMA. XVII. Characterizing the Gas Dynamics around Dust Asymmetries**  |\n",
       "|| L. Wölfer, et al. -- incl., <mark>M. Benisty</mark>, <mark>D. Fasano</mark>, <mark>M. Flock</mark> |\n",
       "|*Appeared on*| *2025-04-29*|\n",
       "|*Comments*| *19 pages, 8 figures, 1 table, This paper is part of the exoALMA Focus Issue of The Astrophysical Journal Letters*|\n",
       "|**Abstract**|            The key planet-formation processes in protoplanetary disks remain an active matter of research. One promising mechanism to radially and azimuthally trap millimeter-emitting dust grains, enabling them to concentrate and grow into planetesimals, is anticyclonic vortices. While dust observations have revealed crescent structures in several disks, observations of their kinematic signatures are still lacking. Studying the gas dynamics is, however, essential to confirm the presence of a vortex and understand its dust trapping properties. In this work, we make use of the high-resolution and sensitivity observations conducted by the exoALMA large program to search for such signatures in the $^{12}$CO and $^{13}$CO molecular line emission of four disks with azimuthal dust asymmetries: HD 135344B, HD 143006, HD 34282, and MWC 758. To assess the vortex features, we constructed an analytical vortex model and performed hydrodynamical simulations. For the latter, we assumed two scenarios: a vortex triggered at the edge of a dead zone and of a gap created by a massive embedded planet. These models reveal a complex kinematical morphology of the vortex. When compared to the data, we find that none of the sources show a distinctive vortex signature around the dust crescents in the kinematics.         |"
      ],
      "text/plain": [
       "[2504.20023] exoALMA. XVII. Characterizing the Gas Dynamics around Dust Asymmetries\n",
       "\tL. Wölfer, et al. -- incl., <mark>M. Benisty</mark>, <mark>D. Fasano</mark>, <mark>M. Flock</mark>"
      ]
     },
     "metadata": {},
     "output_type": "display_data"
    },
    {
     "data": {
      "text/markdown": [
       "\n",
       "|||\n",
       "|---:|:---|\n",
       "| [![arXiv](https://img.shields.io/badge/arXiv-2504.20036-b31b1b.svg)](https://arxiv.org/abs/2504.20036) | **exoALMA. VI. Rotating under Pressure: Rotation curves, azimuthal velocity substructures, and pressure variations**  |\n",
       "|| J. Stadler, et al. -- incl., <mark>M. Benisty</mark>, <mark>D. Fasano</mark>, <mark>M. Flock</mark>, <mark>I. Hammond</mark> |\n",
       "|*Appeared on*| *2025-04-29*|\n",
       "|*Comments*| *This paper is part of the exoALMA Focus Issue of The Astrophysical Journal Letters. 37 pages, 19 figures*|\n",
       "|**Abstract**|            The bulk motion of the gas in protoplanetary disks around newborn stars is nearly Keplerian. By leveraging the high angular and spectral resolution of ALMA, we can detect small-scale velocity perturbations in molecular line observations caused by local gas pressure variations in the disk, possibly induced by embedded protoplanets. This paper presents the azimuthally averaged rotational velocity and its deviations from Keplerian rotation ($\\delta\\upsilon_{\\phi}$) for the exoALMA sample, as measured in the $^{12}$CO and $^{13}$CO emission lines. The rotation signatures show evidence for vertically stratified disks, in which $^{13}$CO rotates faster than $^{12}$CO due to a distinct thermal gas pressure gradient at their emitting heights. We find $\\delta\\upsilon_{\\phi}$-substructures in the sample on both small ($\\sim$10 au) and large ($\\sim$100 au) radial scales, reaching deviations up to 15% from background Keplerian velocity in the most extreme cases. More than 75% of the rings and 80% of the gaps in the dust continuum emission resolved in $\\delta\\upsilon_{\\phi}$ are co-located with gas pressure maxima and minima, respectively. Additionally, gas pressure substructures are observed far beyond the dust continuum emission. For the first time, we determined the gas pressure derivative at the midplane from observations and found it to align well with the dust substructures within the given uncertainties. Based on our findings, we conclude that gas pressure variations are likely the dominant mechanism for ring and gap formation in the dust continuum.         |"
      ],
      "text/plain": [
       "[2504.20036] exoALMA. VI. Rotating under Pressure: Rotation curves, azimuthal velocity substructures, and pressure variations\n",
       "\tJ. Stadler, et al. -- incl., <mark>M. Benisty</mark>, <mark>D. Fasano</mark>, <mark>M. Flock</mark>, <mark>I. Hammond</mark>"
      ]
     },
     "metadata": {},
     "output_type": "display_data"
    },
    {
     "data": {
      "text/markdown": [
       "## Failed papers"
      ],
      "text/plain": [
       "<IPython.core.display.Markdown object>"
      ]
     },
     "metadata": {},
     "output_type": "display_data"
    },
    {
     "data": {
      "text/markdown": [
       "\n",
       "|||\n",
       "|---:|:---|\n",
       "| [![arXiv](https://img.shields.io/badge/arXiv-2504.18820-b31b1b.svg)](https://arxiv.org/abs/2504.18820) | **Potential-Driven Metal Cycling: JADES Census of Gas-Phase Metallicity for galaxies at 1 < z < 7**  |\n",
       "|| C. Jia, et al. -- incl., <mark>Y. Wang</mark> |\n",
       "|*Appeared on*| *2025-04-29*|\n",
       "|*Comments*| *12 pages, 7 figures*|\n",
       "|**Abstract**|            The gravitational potential is established as a critical determinant of gas-phase metallicity (12+log(O/H)) in low-redshift galaxies, whereas its influence remains unconfirmed at high redshifts. We investigate the correlation between gas-phase metallicity and effective radius ($R_{\\rm e}$) for a sample of galaxies with redshifts ranging from 1 to 7, drawn from JADES (JWST Advanced Deep Extragalactic Survey) Data Release 3. We calculate the metallicities using four strong-line methods: ${\\rm N2S2H\\alpha}$, ${\\rm R23}$, ${\\rm N2}$, and ${\\rm O3N2}$, respectively. After taking out the evolution of size, we find that the offsets of mass-size relation ($\\Delta \\log R_{\\rm e}$) are significantly negatively correlated with the offset of mass-metallicity relation ($\\Delta \\log({\\rm O/H})$) for the four metallicity tracers. Regardless of the metallicity tracer used, we obtain Spearman rank $p-$values much less than 0.01, rejecting the null hypothesis that the observed correlation is statistically nonsignificant and attributable to random chance. This is also true for galaxies with $z>3$, with $p-$values less than 0.05 for the four metallicity tracers. We for the first time find evidence of size playing a key role in determining gas-phase metallicity towards cosmic dawn, suggesting that the gravitational potential influences their material-exchange processes with the surrounding environment at very early universe.         |\n",
       "|<p style=\"color:green\"> **ERROR** </p>| <p style=\"color:green\">affiliation error: mpia.affiliation_verifications: 'Heidelberg' keyword not found.</p> |"
      ],
      "text/plain": [
       "<IPython.core.display.Markdown object>"
      ]
     },
     "metadata": {},
     "output_type": "display_data"
    },
    {
     "data": {
      "text/markdown": [
       "\n",
       "|||\n",
       "|---:|:---|\n",
       "| [![arXiv](https://img.shields.io/badge/arXiv-2504.18935-b31b1b.svg)](https://arxiv.org/abs/2504.18935) | **Superradiant dark matter production from primordial black holes: Impact of multiple modes and gravitational wave emission**  |\n",
       "|| N. Jia, et al. -- incl., <mark>X. Zhang</mark> |\n",
       "|*Appeared on*| *2025-04-29*|\n",
       "|*Comments*| *29 pages, 3 figures*|\n",
       "|**Abstract**|            Rotating primordial black holes (PBHs) in the early universe can emit particles through superradiance, a process particularly efficient when the particle's Compton wavelength is comparable to the PBH's gravitational radius. Superradiance leads to an exponential growth of particle occupation numbers in gravitationally bound states. We present an analysis of heavy bosonic dark matter (DM) production through three gravitational mechanisms: Hawking radiation, superradiant instabilities, and ultraviolet (UV) freeze-in. We consider PBHs that evaporate before Big Bang Nucleosynthesis (BBN). For both scalar and vector DM, our analysis incorporates the evolution of a second superradiant mode. We demonstrate that the growth of a second superradiant mode causes the decay of the first mode, and thus the second mode cannot further enhance the DM abundance beyond that already achieved by the first mode. Our study also reveals that while superradiance generally enhances DM production, gravitational wave (GW) emission from the superradiant cloud may significantly modify this picture. For scalar DM, GW emission reduces the parameter space where superradiance effectively augments relic abundance. For vector DM, rapid GW emission from the superradiant cloud may yield relic abundances below those achieved through Hawking radiation alone. These findings demonstrate that multiple-mode effect and GW emission play critical roles in modeling DM production from PBHs in the early universe.         |\n",
       "|<p style=\"color:green\"> **ERROR** </p>| <p style=\"color:green\">affiliation error: mpia.affiliation_verifications: 'Heidelberg' keyword not found.</p> |"
      ],
      "text/plain": [
       "<IPython.core.display.Markdown object>"
      ]
     },
     "metadata": {},
     "output_type": "display_data"
    },
    {
     "data": {
      "text/markdown": [
       "\n",
       "|||\n",
       "|---:|:---|\n",
       "| [![arXiv](https://img.shields.io/badge/arXiv-2504.18952-b31b1b.svg)](https://arxiv.org/abs/2504.18952) | **Insight-HXMT observations of the extremely bright GRB 221009A**  |\n",
       "|| W.-L. Zhang, et al. -- incl., <mark>Y. Wang</mark> |\n",
       "|*Appeared on*| *2025-04-29*|\n",
       "|*Comments*| *11 pages, 15 figures. Accepted for publication in ApJ*|\n",
       "|**Abstract**|            The Hard X-ray Modulation Telescope (\\insight) detected GRB 221009A, the brightest gamma-ray burst observed to date, with all its three telescopes, i.e. High Energy telescope (HE, 20-250 keV), Medium Energy telescope (ME, 5-30 keV), and Low Energy telescope (LE, 1-10 keV). Here we present the detailed observation results of all three telescopes of \\insight~ on the prompt emission of GRB 221009A. After dead-time and data saturation correction, we recovered the light curves of HE, ME and LE telescopes and find that they generally track the GECAM-C low gain light curves that are free of data saturation issues. Particularly, the ME light curve matches the GECAM-C light curve in low gain mode above 400 keV, while the LE light curve is more consistent with the GECAM-C above 1.5 MeV. Based on simulation, we find that the signals recorded by the ME and LE are actually caused by the secondary particles produced by the interaction between GRB gamma-ray photons and the material of the satellite. Interestingly, the consistency between ME and LE light curves and GECAM-C demonstrates that ME and LE data could be used to characterize the GRB properties. Espeically, the high time resolution light curve of ME allowed us, for the first time, to calculate the minimum variability timescale (MVT = 0.10 s) of the main burst episode of GRB 221009A.         |\n",
       "|<p style=\"color:green\"> **ERROR** </p>| <p style=\"color:green\">affiliation error: mpia.affiliation_verifications: 'Heidelberg' keyword not found.</p> |"
      ],
      "text/plain": [
       "<IPython.core.display.Markdown object>"
      ]
     },
     "metadata": {},
     "output_type": "display_data"
    }
   ],
   "source": [
    "import datetime\n",
    "today = str(datetime.date.today())\n",
    "logfile = f\"_build/html/logs/log-{today}.md\"\n",
    "\n",
    "\n",
    "with open(logfile, 'w') as logs:\n",
    "    # Success\n",
    "    logs.write(f'# Arxiv on Deck 2: Logs - {today}\\n\\n')\n",
    "    logs.write(\"\"\"* Arxiv had {0:,d} new papers\\n\"\"\".format(len(new_papers)))\n",
    "    logs.write(\"\"\"    * {0:,d} with possible author matches\\n\\n\"\"\".format(len(candidates)))\n",
    "    logs.write(\"## Sucessful papers\\n\\n\")\n",
    "    display(Markdown(\"## Successful papers\"))\n",
    "    success = [k[0] for k in documents]\n",
    "    for candid in candidates:\n",
    "        if candid['identifier'].split(':')[-1] in success:\n",
    "            display(candid)\n",
    "            logs.write(candid.generate_markdown_text() + '\\n\\n')\n",
    "\n",
    "    ## failed\n",
    "    logs.write(\"## Failed papers\\n\\n\")\n",
    "    display(Markdown(\"## Failed papers\"))\n",
    "    failed = sorted(failed, key=lambda x: x[1])\n",
    "    current_reason = \"\"\n",
    "    for paper, reason in failed:\n",
    "        if 'affiliation' in reason:\n",
    "            color = 'green'\n",
    "        else:\n",
    "            color = 'red'\n",
    "        data = Markdown(\n",
    "                paper.generate_markdown_text() + \n",
    "                f'\\n|<p style=\"color:{color:s}\"> **ERROR** </p>| <p style=\"color:{color:s}\">{reason:s}</p> |'\n",
    "               )\n",
    "        if reason != current_reason:\n",
    "            logs.write(f'### {reason:s} \\n\\n')\n",
    "            current_reason = reason\n",
    "        logs.write(data.data + '\\n\\n')\n",
    "        \n",
    "        # only display here the important errors (all in logs)\n",
    "        # if color in ('red',):\n",
    "        display(data)"
   ]
  },
  {
   "cell_type": "markdown",
   "id": "472d20ee",
   "metadata": {
    "papermill": {
     "duration": 0.009753,
     "end_time": "2025-04-29T04:24:48.879148",
     "exception": false,
     "start_time": "2025-04-29T04:24:48.869395",
     "status": "completed"
    },
    "tags": []
   },
   "source": [
    "## Export documents\n",
    "\n",
    "We now write the .md files and export relevant images"
   ]
  },
  {
   "cell_type": "code",
   "execution_count": 7,
   "id": "d426aed9",
   "metadata": {
    "execution": {
     "iopub.execute_input": "2025-04-29T04:24:48.900202Z",
     "iopub.status.busy": "2025-04-29T04:24:48.899728Z",
     "iopub.status.idle": "2025-04-29T04:24:48.907087Z",
     "shell.execute_reply": "2025-04-29T04:24:48.906420Z"
    },
    "papermill": {
     "duration": 0.019139,
     "end_time": "2025-04-29T04:24:48.908103",
     "exception": false,
     "start_time": "2025-04-29T04:24:48.888964",
     "status": "completed"
    },
    "tags": []
   },
   "outputs": [],
   "source": [
    "def export_markdown_summary(md: str, md_fname:str, directory: str):\n",
    "    \"\"\"Export MD document and associated relevant images\"\"\"\n",
    "    import os\n",
    "    import shutil\n",
    "    import re\n",
    "\n",
    "    if (os.path.exists(directory) and not os.path.isdir(directory)):\n",
    "        raise RuntimeError(f\"a non-directory file exists with name {directory:s}\")\n",
    "\n",
    "    if (not os.path.exists(directory)):\n",
    "        print(f\"creating directory {directory:s}\")\n",
    "        os.mkdir(directory)\n",
    "\n",
    "    fig_fnames = (re.compile(r'\\[Fig.*\\]\\((.*)\\)').findall(md) + \n",
    "                  re.compile(r'\\<img src=\"([^>\\s]*)\"[^>]*/>').findall(md))\n",
    "    print(\"found figures\", fig_fnames)\n",
    "    for fname in fig_fnames:\n",
    "        if 'http' in fname:\n",
    "            # No need to copy online figures\n",
    "            continue\n",
    "        if not os.path.exists(fname):\n",
    "            print(\"file not found\", fname)\n",
    "            continue\n",
    "        print(\"copying \", fname, \"to\", directory)\n",
    "        destdir = os.path.join(directory, os.path.dirname(fname))\n",
    "        destfname = os.path.join(destdir, os.path.basename(fname))\n",
    "        try:\n",
    "            os.makedirs(destdir)\n",
    "        except FileExistsError:\n",
    "            pass\n",
    "        shutil.copy(fname, destfname)\n",
    "    with open(os.path.join(directory, md_fname), 'w') as fout:\n",
    "        fout.write(md)\n",
    "    print(\"exported in \", os.path.join(directory, md_fname))\n",
    "    [print(\"    + \" + os.path.join(directory,fk)) for fk in fig_fnames]"
   ]
  },
  {
   "cell_type": "code",
   "execution_count": 8,
   "id": "014d04a4",
   "metadata": {
    "execution": {
     "iopub.execute_input": "2025-04-29T04:24:48.929502Z",
     "iopub.status.busy": "2025-04-29T04:24:48.928973Z",
     "iopub.status.idle": "2025-04-29T04:24:49.048265Z",
     "shell.execute_reply": "2025-04-29T04:24:49.047662Z"
    },
    "papermill": {
     "duration": 0.130949,
     "end_time": "2025-04-29T04:24:49.049293",
     "exception": false,
     "start_time": "2025-04-29T04:24:48.918344",
     "status": "completed"
    },
    "tags": []
   },
   "outputs": [
    {
     "name": "stdout",
     "output_type": "stream",
     "text": [
      "found figures ['tmp_2504.18616/./SFR_Z_combined_plot.png', 'tmp_2504.18616/./MZR_vary_time.png', 'tmp_2504.18616/./SFR_Z_vary_time.png', 'tmp_2504.18616/./ASPIRE_MZR_obs.png']\n",
      "copying  tmp_2504.18616/./SFR_Z_combined_plot.png to _build/html/\n",
      "copying  tmp_2504.18616/./MZR_vary_time.png to _build/html/\n",
      "copying  tmp_2504.18616/./SFR_Z_vary_time.png to _build/html/\n",
      "copying  tmp_2504.18616/./ASPIRE_MZR_obs.png to _build/html/\n",
      "exported in  _build/html/2504.18616.md\n",
      "    + _build/html/tmp_2504.18616/./SFR_Z_combined_plot.png\n",
      "    + _build/html/tmp_2504.18616/./MZR_vary_time.png\n",
      "    + _build/html/tmp_2504.18616/./SFR_Z_vary_time.png\n",
      "    + _build/html/tmp_2504.18616/./ASPIRE_MZR_obs.png\n",
      "found figures ['tmp_2504.18643/././figures/dens2d_unstratified.png', 'tmp_2504.18643/././figures/dens1d_phi_unstratified.png', 'tmp_2504.18643/././figures/vtheta2d_unstratified.png']\n",
      "copying  tmp_2504.18643/././figures/dens2d_unstratified.png to _build/html/\n",
      "copying  tmp_2504.18643/././figures/dens1d_phi_unstratified.png to _build/html/\n",
      "copying  tmp_2504.18643/././figures/vtheta2d_unstratified.png to _build/html/\n",
      "exported in  _build/html/2504.18643.md\n",
      "    + _build/html/tmp_2504.18643/././figures/dens2d_unstratified.png\n",
      "    + _build/html/tmp_2504.18643/././figures/dens1d_phi_unstratified.png\n",
      "    + _build/html/tmp_2504.18643/././figures/vtheta2d_unstratified.png\n",
      "found figures ['tmp_2504.18688/figures/12CO_gallery.png', 'tmp_2504.18688/figures/emission_surface_rotation_profile_demo.png', 'tmp_2504.18688/figures/HD135344_gallery.png']\n",
      "copying  tmp_2504.18688/figures/12CO_gallery.png to _build/html/\n",
      "copying  tmp_2504.18688/figures/emission_surface_rotation_profile_demo.png to _build/html/\n",
      "copying  tmp_2504.18688/figures/HD135344_gallery.png to _build/html/\n",
      "exported in  _build/html/2504.18688.md\n",
      "    + _build/html/tmp_2504.18688/figures/12CO_gallery.png\n",
      "    + _build/html/tmp_2504.18688/figures/emission_surface_rotation_profile_demo.png\n",
      "    + _build/html/tmp_2504.18688/figures/HD135344_gallery.png\n",
      "found figures ['tmp_2504.18717/./channels-1.png', 'tmp_2504.18717/./channels-2.png', 'tmp_2504.18717/./cont_scatt.png']\n",
      "copying  tmp_2504.18717/./channels-1.png to _build/html/\n",
      "copying  tmp_2504.18717/./channels-2.png to _build/html/\n"
     ]
    },
    {
     "name": "stdout",
     "output_type": "stream",
     "text": [
      "copying  tmp_2504.18717/./cont_scatt.png to _build/html/\n",
      "exported in  _build/html/2504.18717.md\n",
      "    + _build/html/tmp_2504.18717/./channels-1.png\n",
      "    + _build/html/tmp_2504.18717/./channels-2.png\n",
      "    + _build/html/tmp_2504.18717/./cont_scatt.png\n",
      "found figures ['tmp_2504.18725/./Figures/gallery_single_sources_maintext.png', 'tmp_2504.18725/./Figures/gallery_single_sources_appendix1.png', 'tmp_2504.18725/./Figures/gallery_single_sources_appendix2.png']\n",
      "copying  tmp_2504.18725/./Figures/gallery_single_sources_maintext.png to _build/html/\n",
      "copying  tmp_2504.18725/./Figures/gallery_single_sources_appendix1.png to _build/html/\n",
      "copying  tmp_2504.18725/./Figures/gallery_single_sources_appendix2.png to _build/html/\n",
      "exported in  _build/html/2504.18725.md\n",
      "    + _build/html/tmp_2504.18725/./Figures/gallery_single_sources_maintext.png\n",
      "    + _build/html/tmp_2504.18725/./Figures/gallery_single_sources_appendix1.png\n",
      "    + _build/html/tmp_2504.18725/./Figures/gallery_single_sources_appendix2.png\n",
      "found figures ['tmp_2504.18726/./images/radii.png', 'tmp_2504.18726/./images/dyn_dust.png', 'tmp_2504.18726/./images/alphavisc.png']\n",
      "copying  tmp_2504.18726/./images/radii.png to _build/html/\n",
      "copying  tmp_2504.18726/./images/dyn_dust.png to _build/html/\n",
      "copying  tmp_2504.18726/./images/alphavisc.png to _build/html/\n",
      "exported in  _build/html/2504.18726.md\n",
      "    + _build/html/tmp_2504.18726/./images/radii.png\n",
      "    + _build/html/tmp_2504.18726/./images/dyn_dust.png\n",
      "    + _build/html/tmp_2504.18726/./images/alphavisc.png\n",
      "found figures ['tmp_2504.19111/./AATau_contsub_cbar.png', 'tmp_2504.19111/./SYCha_contsub_cbar.png', 'tmp_2504.19111/./HD135344b_contsub_cbar.png']\n",
      "copying  tmp_2504.19111/./AATau_contsub_cbar.png to _build/html/\n",
      "copying  tmp_2504.19111/./SYCha_contsub_cbar.png to _build/html/\n",
      "copying  tmp_2504.19111/./HD135344b_contsub_cbar.png to _build/html/\n",
      "exported in  _build/html/2504.19111.md\n",
      "    + _build/html/tmp_2504.19111/./AATau_contsub_cbar.png\n",
      "    + _build/html/tmp_2504.19111/./SYCha_contsub_cbar.png\n",
      "    + _build/html/tmp_2504.19111/./HD135344b_contsub_cbar.png\n",
      "found figures ['', '', '']\n",
      "file not found \n",
      "file not found \n",
      "file not found \n",
      "exported in  _build/html/2504.19371.md\n",
      "    + _build/html/\n",
      "    + _build/html/\n",
      "    + _build/html/\n",
      "found figures ['tmp_2504.19416/./combined_benchmark_vI.png', 'tmp_2504.19416/./hd135_cqtau_combined.png', 'tmp_2504.19416/./better_diagram.png']\n",
      "copying  tmp_2504.19416/./combined_benchmark_vI.png to _build/html/\n",
      "copying  tmp_2504.19416/./hd135_cqtau_combined.png to _build/html/\n",
      "copying  tmp_2504.19416/./better_diagram.png to _build/html/\n",
      "exported in  _build/html/2504.19416.md\n",
      "    + _build/html/tmp_2504.19416/./combined_benchmark_vI.png\n",
      "    + _build/html/tmp_2504.19416/./hd135_cqtau_combined.png\n",
      "    + _build/html/tmp_2504.19416/./better_diagram.png\n",
      "found figures ['tmp_2504.19434/./teardrop.png', 'tmp_2504.19434/./sigmas.png', 'tmp_2504.19434/./onedspec.png']\n",
      "copying  tmp_2504.19434/./teardrop.png to _build/html/\n",
      "copying  tmp_2504.19434/./sigmas.png to _build/html/\n",
      "copying  tmp_2504.19434/./onedspec.png to _build/html/\n",
      "exported in  _build/html/2504.19434.md\n",
      "    + _build/html/tmp_2504.19434/./teardrop.png\n",
      "    + _build/html/tmp_2504.19434/./sigmas.png\n",
      "    + _build/html/tmp_2504.19434/./onedspec.png\n",
      "found figures ['tmp_2504.19709/./shark-opto-2.png', 'tmp_2504.19709/./shark-network.png', 'tmp_2504.19709/./dev.png', 'tmp_2504.19709/./rtc.png', 'tmp_2504.19709/./obs.png']\n",
      "copying  tmp_2504.19709/./shark-opto-2.png to _build/html/\n",
      "copying  tmp_2504.19709/./shark-network.png to _build/html/\n",
      "copying  tmp_2504.19709/./dev.png to _build/html/\n",
      "copying  tmp_2504.19709/./rtc.png to _build/html/\n",
      "copying  tmp_2504.19709/./obs.png to _build/html/\n",
      "exported in  _build/html/2504.19709.md\n",
      "    + _build/html/tmp_2504.19709/./shark-opto-2.png\n",
      "    + _build/html/tmp_2504.19709/./shark-network.png\n",
      "    + _build/html/tmp_2504.19709/./dev.png\n",
      "    + _build/html/tmp_2504.19709/./rtc.png\n",
      "    + _build/html/tmp_2504.19709/./obs.png\n",
      "found figures ['tmp_2504.19853/./Simulation_Fields_Z2.5H.png', 'tmp_2504.19853/./Model_Residuals_v0.png', 'tmp_2504.19853/./Model_Channel_Maps.png']\n",
      "copying  tmp_2504.19853/./Simulation_Fields_Z2.5H.png to _build/html/\n",
      "copying  tmp_2504.19853/./Model_Residuals_v0.png to _build/html/\n",
      "copying  tmp_2504.19853/./Model_Channel_Maps.png to _build/html/\n",
      "exported in  _build/html/2504.19853.md\n",
      "    + _build/html/tmp_2504.19853/./Simulation_Fields_Z2.5H.png\n",
      "    + _build/html/tmp_2504.19853/./Model_Residuals_v0.png\n",
      "    + _build/html/tmp_2504.19853/./Model_Channel_Maps.png\n",
      "found figures ['tmp_2504.19868/./continuum_figure.png', 'tmp_2504.19868/./model_vs_observation_three_panel.png', 'tmp_2504.19868/./CO_observation_vs_models_initial_vs_evolved.png']\n",
      "copying  tmp_2504.19868/./continuum_figure.png to _build/html/\n",
      "copying  tmp_2504.19868/./model_vs_observation_three_panel.png to _build/html/\n",
      "copying  tmp_2504.19868/./CO_observation_vs_models_initial_vs_evolved.png to _build/html/\n",
      "exported in  _build/html/2504.19868.md\n",
      "    + _build/html/tmp_2504.19868/./continuum_figure.png\n",
      "    + _build/html/tmp_2504.19868/./model_vs_observation_three_panel.png\n",
      "    + _build/html/tmp_2504.19868/./CO_observation_vs_models_initial_vs_evolved.png\n",
      "found figures ['tmp_2504.19870/./figures/uvcoverage_LkCa_15.png', 'tmp_2504.19870/./figures/exoALMA_calibration_workflow.png', 'tmp_2504.19870/./figures/improvement_decoherence_PDS_66_v2.png']\n",
      "copying  tmp_2504.19870/./figures/uvcoverage_LkCa_15.png to _build/html/\n",
      "copying  tmp_2504.19870/./figures/exoALMA_calibration_workflow.png to _build/html/\n",
      "copying  tmp_2504.19870/./figures/improvement_decoherence_PDS_66_v2.png to _build/html/\n",
      "exported in  _build/html/2504.19870.md\n",
      "    + _build/html/tmp_2504.19870/./figures/uvcoverage_LkCa_15.png\n",
      "    + _build/html/tmp_2504.19870/./figures/exoALMA_calibration_workflow.png\n",
      "    + _build/html/tmp_2504.19870/./figures/improvement_decoherence_PDS_66_v2.png\n",
      "found figures ['tmp_2504.19902/./exoALMA_emissionsurfaces_12co.png', 'tmp_2504.19902/./exoALMA_all_rolling_surfaces.png', 'tmp_2504.19902/./exoALMA_emissionsurfaces_13co.png']\n",
      "copying  tmp_2504.19902/./exoALMA_emissionsurfaces_12co.png to _build/html/\n",
      "copying  tmp_2504.19902/./exoALMA_all_rolling_surfaces.png to _build/html/\n",
      "copying  tmp_2504.19902/./exoALMA_emissionsurfaces_13co.png to _build/html/\n",
      "exported in  _build/html/2504.19902.md\n",
      "    + _build/html/tmp_2504.19902/./exoALMA_emissionsurfaces_12co.png\n",
      "    + _build/html/tmp_2504.19902/./exoALMA_all_rolling_surfaces.png\n",
      "    + _build/html/tmp_2504.19902/./exoALMA_emissionsurfaces_13co.png\n",
      "found figures ['tmp_2504.19986/./figures/hd135344/channel_maps_hd135344_allmol.png', 'tmp_2504.19986/./figures/lkca15/channel_maps_lkca15_allmol.png', 'tmp_2504.19986/./figures/flowchart_data_vs_model_v0p3.png']\n",
      "copying  tmp_2504.19986/./figures/hd135344/channel_maps_hd135344_allmol.png to _build/html/\n",
      "copying  tmp_2504.19986/./figures/lkca15/channel_maps_lkca15_allmol.png to _build/html/\n",
      "copying  tmp_2504.19986/./figures/flowchart_data_vs_model_v0p3.png to _build/html/\n",
      "exported in  _build/html/2504.19986.md\n",
      "    + _build/html/tmp_2504.19986/./figures/hd135344/channel_maps_hd135344_allmol.png\n",
      "    + _build/html/tmp_2504.19986/./figures/lkca15/channel_maps_lkca15_allmol.png\n",
      "    + _build/html/tmp_2504.19986/./figures/flowchart_data_vs_model_v0p3.png\n",
      "found figures ['tmp_2504.20012/./Nph_ttauri.png', 'tmp_2504.20012/./lkca15_sigma_comp_DM_single.png', 'tmp_2504.20012/./critical_column.png']\n",
      "copying  tmp_2504.20012/./Nph_ttauri.png to _build/html/\n",
      "copying  tmp_2504.20012/./lkca15_sigma_comp_DM_single.png to _build/html/\n",
      "copying  tmp_2504.20012/./critical_column.png to _build/html/\n",
      "exported in  _build/html/2504.20012.md\n",
      "    + _build/html/tmp_2504.20012/./Nph_ttauri.png\n",
      "    + _build/html/tmp_2504.20012/./lkca15_sigma_comp_DM_single.png\n",
      "    + _build/html/tmp_2504.20012/./critical_column.png\n",
      "found figures ['tmp_2504.20023/./plots/Vortex_analytical_model_arcsec.png', 'tmp_2504.20023/./plots/cont_and_scat_and_12CO_v1.png', 'tmp_2504.20023/./plots/vel_res_overview_arcsec.png']\n",
      "copying  tmp_2504.20023/./plots/Vortex_analytical_model_arcsec.png to _build/html/\n",
      "copying  tmp_2504.20023/./plots/cont_and_scat_and_12CO_v1.png to _build/html/\n",
      "copying  tmp_2504.20023/./plots/vel_res_overview_arcsec.png to _build/html/\n",
      "exported in  _build/html/2504.20023.md\n",
      "    + _build/html/tmp_2504.20023/./plots/Vortex_analytical_model_arcsec.png\n",
      "    + _build/html/tmp_2504.20023/./plots/cont_and_scat_and_12CO_v1.png\n",
      "    + _build/html/tmp_2504.20023/./plots/vel_res_overview_arcsec.png\n",
      "found figures ['tmp_2504.20036/./figures/paper_vphi_dpdr_symgap_comparison_2row.png', 'tmp_2504.20036/./figures/dvphi_percent_all_disks_12co_marker_largescale_contgrad_fullpage_R90_nonsmooth.png', 'tmp_2504.20036/./figures/dvphi_percent_all_disks_12co_marker_smallscale_promcont_contgrad_fullpage_R90_nonsmooth.png']\n",
      "copying  tmp_2504.20036/./figures/paper_vphi_dpdr_symgap_comparison_2row.png to _build/html/\n",
      "copying  tmp_2504.20036/./figures/dvphi_percent_all_disks_12co_marker_largescale_contgrad_fullpage_R90_nonsmooth.png to _build/html/\n",
      "copying  tmp_2504.20036/./figures/dvphi_percent_all_disks_12co_marker_smallscale_promcont_contgrad_fullpage_R90_nonsmooth.png to _build/html/\n",
      "exported in  _build/html/2504.20036.md\n",
      "    + _build/html/tmp_2504.20036/./figures/paper_vphi_dpdr_symgap_comparison_2row.png\n",
      "    + _build/html/tmp_2504.20036/./figures/dvphi_percent_all_disks_12co_marker_largescale_contgrad_fullpage_R90_nonsmooth.png\n",
      "    + _build/html/tmp_2504.20036/./figures/dvphi_percent_all_disks_12co_marker_smallscale_promcont_contgrad_fullpage_R90_nonsmooth.png\n"
     ]
    }
   ],
   "source": [
    "for paper_id, md in documents:\n",
    "    export_markdown_summary(md, f\"{paper_id:s}.md\", '_build/html/')"
   ]
  },
  {
   "cell_type": "markdown",
   "id": "f087a0a7",
   "metadata": {
    "papermill": {
     "duration": 0.010089,
     "end_time": "2025-04-29T04:24:49.069899",
     "exception": false,
     "start_time": "2025-04-29T04:24:49.059810",
     "status": "completed"
    },
    "tags": []
   },
   "source": [
    "## Display the papers\n",
    "\n",
    "Not necessary but allows for a quick check."
   ]
  },
  {
   "cell_type": "code",
   "execution_count": 9,
   "id": "fd25f625",
   "metadata": {
    "execution": {
     "iopub.execute_input": "2025-04-29T04:24:49.091054Z",
     "iopub.status.busy": "2025-04-29T04:24:49.090846Z",
     "iopub.status.idle": "2025-04-29T04:24:49.118880Z",
     "shell.execute_reply": "2025-04-29T04:24:49.118382Z"
    },
    "papermill": {
     "duration": 0.039819,
     "end_time": "2025-04-29T04:24:49.119861",
     "exception": false,
     "start_time": "2025-04-29T04:24:49.080042",
     "status": "completed"
    },
    "scrolled": false,
    "tags": []
   },
   "outputs": [
    {
     "data": {
      "text/markdown": [
       "<div class=\"macros\" style=\"visibility:hidden;\">\n",
       "$\\newcommand{\\ensuremath}{}$\n",
       "$\\newcommand{\\xspace}{}$\n",
       "$\\newcommand{\\object}[1]{\\texttt{#1}}$\n",
       "$\\newcommand{\\farcs}{{.}''}$\n",
       "$\\newcommand{\\farcm}{{.}'}$\n",
       "$\\newcommand{\\arcsec}{''}$\n",
       "$\\newcommand{\\arcmin}{'}$\n",
       "$\\newcommand{\\ion}[2]{#1#2}$\n",
       "$\\newcommand{\\textsc}[1]{\\textrm{#1}}$\n",
       "$\\newcommand{\\hl}[1]{\\textrm{#1}}$\n",
       "$\\newcommand{\\footnote}[1]{}$\n",
       "$\\newcommand{\\vdag}{(v)^\\dagger}$\n",
       "$\\newcommand$\n",
       "$\\newcommand$\n",
       "$\\newcommand{\\km}{{\\rm km}}$\n",
       "$\\newcommand{\\iruv}{L_{\\rm IR}/L_{\\rm UV}}$\n",
       "$\\newcommand{\\irx}{{\\it IRX}}$\n",
       "$\\newcommand{\\irxb}{{\\it IRX}--\\beta}$\n",
       "$\\newcommand{\\iras}{{\\it IRAS}}$\n",
       "$\\newcommand{\\galex}{{\\it GALEX}}$\n",
       "$\\newcommand{\\kpc}{{\\rm kpc}}$\n",
       "$\\newcommand{\\mpc}{{\\rm Mpc}}$\n",
       "$\\newcommand{\\Mpc}{{\\rm Mpc}}$\n",
       "$\\newcommand{\\msun}{{M_\\odot}}$\n",
       "$\\newcommand{\\sfr}{{\\rm M_\\odot yr^{-1}}}$\n",
       "$\\newcommand{\\lsun}{{\\rm L_\\odot}}$\n",
       "$\\newcommand{\\hubunits}{{\\rm km s^{-1} Mpc^{-1}}}$\n",
       "$\\newcommand{\\cm}{{\\rm cm}}$\n",
       "$\\newcommand{\\Gyr}{{\\rm Gyr}}$\n",
       "$\\newcommand{\\Hboiii}{{\\rm H\\beta+O[III]}}$\n",
       "$\\newcommand{\\siiv}{{\\rm Si{\\sc IV}}}$\n",
       "$\\newcommand{\\heii}{{\\rm He{\\sc ii}}}$\n",
       "$\\newcommand{\\nii}{{\\rm[N{\\sc ii}]}}$\n",
       "$\\newcommand{\\sii}{{\\rm[S{\\sc ii}]}}$\n",
       "$\\newcommand{\\nv}{{\\rm N{\\sc V}}}$\n",
       "$\\newcommand{\\mgii}{{\\rm Mg{\\sc ii}}}$\n",
       "$\\newcommand{\\OII}{[\\textrm{O}~\\textsc{ii}]\\xspace}$\n",
       "$\\newcommand{\\OIII}{[\\textrm{O}~\\textsc{iii}]\\xspace}$\n",
       "$\\newcommand{\\Ha}{\\textrm{H}\\ensuremath{\\alpha}\\xspace}$\n",
       "$\\newcommand{\\Hb}{\\textrm{H}\\ensuremath{\\beta}}$\n",
       "$\\newcommand{\\Hg}{\\textrm{H}\\ensuremath{\\gamma}\\xspace}$\n",
       "$\\newcommand{\\Hd}{\\textrm{H}\\ensuremath{\\delta}\\xspace}$\n",
       "$\\newcommand{\\neiii}{{\\rm Ne{\\sc III}}}$\n",
       "$\\newcommand{\\ciii}{{\\rm C{\\sc III}]}}$\n",
       "$\\newcommand{\\civ}{{\\rm C{\\sc IV}}}$\n",
       "$\\newcommand{\\cii}{{\\rm[C{\\sc II}]}}$\n",
       "$\\newcommand{\\el}[1]{\\ensuremath{\\textrm{EL}_{#1}}}$\n",
       "$\\newcommand{\\arraystretch}{1.3}$\n",
       "$\\newcommand{\\arraystretch}{1.35}$\n",
       "$\\newcommand{\\arraystretch}{1.2}$</div>\n",
       "\n",
       "\n",
       "\n",
       "<div id=\"title\">\n",
       "\n",
       "# Insights on Metal Enrichment and Environmental Effect at $z\\approx5-7$ with JWST ASPIRE/EIGER and Chemical Evolution Model\n",
       "\n",
       "</div>\n",
       "<div id=\"comments\">\n",
       "\n",
       "[![arXiv](https://img.shields.io/badge/arXiv-2504.18616-b31b1b.svg)](https://arxiv.org/abs/2504.18616)<mark>Appeared on: 2025-04-29</mark> -  _19 pages, 9 figures. Comments are welcome_\n",
       "\n",
       "</div>\n",
       "<div id=\"authors\">\n",
       "\n",
       "Z. Li, et al. -- incl., <mark>F. Walter</mark>\n",
       "\n",
       "</div>\n",
       "<div id=\"abstract\">\n",
       "\n",
       "**Abstract:** We present the mass-metallicity relation (MZR) for a parent sample of 604 galaxies at $z=5.34-6.94$ with $\\OIII$ doublets detected, using the deep JWST/NIRCam wide field slitless spectroscopic (WFSS) observations in 26 quasar fields. The sample incorporates the full observations of 25 quasar fields from JWST Cycle 1 GO program ASPIRE and the quasar SDSS J0100+2802 from JWST EIGER program.    We identify 204 galaxies residing in overdense structures using friends-of-friends (FoF) algorithm. We estimate the electron temperature of $2.0^{+0.3}_{-0.4}\\times10^4$ K from the $\\Hg$ and $\\OIII_{4363}$ lines in the stacked spectrum, indicating a metal-poor sample with median gas phase metallicity 12+ $\\log(\\mathrm{O/H})=7.64^{+0.23}_{-0.11}$ .    With the most up-to-date strong line calibration based on NIRSpec observations, we find that the MZR shows a metal enhancement of $\\sim0.2$ dex at high mass end in overdense environments. However, compared to the local Fundamental Metallicity Relation (FMR), our galaxy sample at $z>5$ shows a metal deficiency of $\\sim0.2$ dex relative to FMR predictions. We explain the observed trend of FMR with a simple analytical model, and we favor dilution from intense gas accretion over outflow to explain the metallicity properties at $z>5$ .    Those high redshift galaxies are likely in a rapid gas accretion phase when their metal and gas contents are in a non-equilibrium state. According to model predictions, the protocluster members are closer to the gas equilibrium state than field galaxies and thus have higher metallicity and closer to the local FMR.    Our results suggest that the accelerated star formation during protocluster assembly likely plays a key role in shaping the observed MZR and FMR, indicating a potentially earlier onset of metal enrichment in overdense environments at $z\\approx5-7$ .\n",
       "\n",
       "</div>\n",
       "\n",
       "<div id=\"div_fig1\">\n",
       "\n",
       "<img src=\"tmp_2504.18616/./SFR_Z_combined_plot.png\" alt=\"Fig11\" width=\"100%\"/>\n",
       "\n",
       "**Figure 11. -** The predicted $Z-\\text{SFR}$ relations for different model configurations. The first panel: Model 1, Incorporating inflow but no outflow, with $\\epsilon_\\text{SF}$ as the varying parameter. The second panel: Model 2, Incorporating outflow but no inflow, with $\\epsilon_\\text{SF}$ as the varying parameter. The third panel: Model 3, Incorporating both inflow and outflow, with $\\eta$ as the varying parameter. The fourth panel: Model 4, Incorporating both inflow and outflow, with $\\beta$ as the varying parameter. In all panels, the lines are color-coded by stellar mass, while different line styles indicate variations in model parameters. (*fig:FMR_predictions*)\n",
       "\n",
       "</div>\n",
       "<div id=\"div_fig2\">\n",
       "\n",
       "<img src=\"tmp_2504.18616/./MZR_vary_time.png\" alt=\"Fig5.1\" width=\"50%\"/><img src=\"tmp_2504.18616/./SFR_Z_vary_time.png\" alt=\"Fig5.2\" width=\"50%\"/>\n",
       "\n",
       "**Figure 5. -** Top: The predicted MZR for galaxies with different $t_\\text{obs}$. The dashed lines are MZRs color-coded by $t_\\text{obs}$. This model assumes $\\epsilon_\\text{SF}=0.05$, $\\eta_0=5$, and an energy-driven wind $\\beta=2/3$. The diamond points are our observations the same as in Fig. \\ref{fig:mzr}. Bottom: The predicted SFR$-$Z relation for galaxies is shown for different stellar masses and $t_\\text{obs}$. The dashed lines, color-coded by $t_\\text{obs}$, connect galaxies with the same observational time, while the solid black lines link galaxies of equal stellar mass. Different stellar masses are represented by different symbols. The red and blue diamond points are our observations in cluster and field environments. The asymmetric errors on SFR are due to uncertainties in dust correction.  (*fig:MZR_predictions*)\n",
       "\n",
       "</div>\n",
       "<div id=\"div_fig3\">\n",
       "\n",
       "<img src=\"tmp_2504.18616/./ASPIRE_MZR_obs.png\" alt=\"Fig10\" width=\"100%\"/>\n",
       "\n",
       "**Figure 10. -** The mass-metallicity relation for galaxies in protoclusters (red) and blank fields (blue), which are based on R3 calibration from \\citetalias{Chakraborty_24}. The \\citetalias{Sanders_24} calibration provides similar results, which are listed in Table. \\ref{tab:mzr_info} for comparison.\n",
       "    The results from other works in literature are shown with different colors, which are also listed in Table. \\ref{tab:mzr_info} for reference. Higher redshift ($z>3$) measurements in literature are shown in solid lines, and lower redshift ($z\\sim2-3$) measurements are shown in dashed lines.\n",
       "     (*fig:mzr*)\n",
       "\n",
       "</div><div id=\"qrcode\"><img src=https://api.qrserver.com/v1/create-qr-code/?size=100x100&data=\"https://arxiv.org/abs/2504.18616\"></div>"
      ],
      "text/plain": [
       "<IPython.core.display.Markdown object>"
      ]
     },
     "metadata": {},
     "output_type": "display_data"
    },
    {
     "data": {
      "text/markdown": [
       "<div class=\"macros\" style=\"visibility:hidden;\">\n",
       "$\\newcommand{\\ensuremath}{}$\n",
       "$\\newcommand{\\xspace}{}$\n",
       "$\\newcommand{\\object}[1]{\\texttt{#1}}$\n",
       "$\\newcommand{\\farcs}{{.}''}$\n",
       "$\\newcommand{\\farcm}{{.}'}$\n",
       "$\\newcommand{\\arcsec}{''}$\n",
       "$\\newcommand{\\arcmin}{'}$\n",
       "$\\newcommand{\\ion}[2]{#1#2}$\n",
       "$\\newcommand{\\textsc}[1]{\\textrm{#1}}$\n",
       "$\\newcommand{\\hl}[1]{\\textrm{#1}}$\n",
       "$\\newcommand{\\footnote}[1]{}$\n",
       "$\\newcommand{\\vdag}{(v)^\\dagger}$\n",
       "$\\newcommand$\n",
       "$\\newcommand$\n",
       "$\\newcommand{\\fargo}{\\texttt{FARGO3D}}$\n",
       "$\\newcommand{\\inewcommandix}{\\texttt{Inewcommandix}}$\n",
       "$\\newcommand{\\athena}{\\texttt{Athena++}}$\n",
       "$\\newcommand{\\pluto}{\\texttt{PLUTO}}$\n",
       "$\\newcommand{\\Phantom}{\\texttt{Phantom}}$\n",
       "$\\newcommand{\\mcfost}{\\texttt{mcfost}}$\n",
       "$\\newcommand{\\radmc}{\\texttt{RADMC-3D}}$\n",
       "$\\newcommand{\\discminer}{\\texttt{DISCMINER}}$</div>\n",
       "\n",
       "\n",
       "\n",
       "<div id=\"title\">\n",
       "\n",
       "# exoALMA VII: Benchmarking Hydrodynamics and Radiative Transfer Codes\n",
       "\n",
       "</div>\n",
       "<div id=\"comments\">\n",
       "\n",
       "[![arXiv](https://img.shields.io/badge/arXiv-2504.18643-b31b1b.svg)](https://arxiv.org/abs/2504.18643)<mark>Appeared on: 2025-04-29</mark> -  _16 pages, 13 figures, Accepted for publication in The Astrophysical Journal Letters_\n",
       "\n",
       "</div>\n",
       "<div id=\"authors\">\n",
       "\n",
       "J. Bae, et al. -- incl., <mark>M. Flock</mark>, <mark>M. Benisty</mark>, <mark>I. Hammond</mark>, <mark>A. Winter</mark>\n",
       "\n",
       "</div>\n",
       "<div id=\"abstract\">\n",
       "\n",
       "**Abstract:** Forward modeling is often used to interpret substructures observed in protoplanetary disks. To ensure the robustness and consistency of the current forward modeling approach from the community, we conducted a systematic comparison of various hydrodynamics and radiative transfer codes. Using four grid-based hydrodynamics codes ( $\\fargo$ , $\\idefix$ , $\\athena$ , $\\pluto$ ) and a smoothed particle hydrodynamics code ( $\\Phantom$ ), we simulated a protoplanetary disk with an embedded giant planet. We then used two radiative transfer codes ( $\\mcfost$ , $\\radmc$ ) to calculate disk temperatures and create synthetic $^{12}$ CO cubes. Finally, we retrieved the location of the planet from the synthetic cubes using $\\discminer$ . We found strong consistency between the hydrodynamics codes, particularly in the density and velocity perturbations associated with planet-driven spirals. We also found a good agreement between the two radiative transfer codes: the disk temperature in $\\mcfost$ and $\\radmc$ models agrees within $\\lesssim 3 \\%$ everywhere in the domain. In synthetic $^{12}$ CO channel maps, this results in brightness temperature differences within $\\pm1.5$ K in all our models. This good agreement ensures consistent retrieval of planet's radial/azimuthal location with only a few \\% of scatter, with velocity perturbations varying $\\lesssim 20 \\%$ among the models. Notably, while the planet-opened gap is shallower in the $\\Phantom$ simulation, we found that this does not impact the planet location retrieval. In summary, our results demonstrate that any combination of the tested hydrodynamics and radiative transfer codes can be used to reliably model and interpret planet-driven kinematic perturbations.\n",
       "\n",
       "</div>\n",
       "\n",
       "<div id=\"div_fig1\">\n",
       "\n",
       "<img src=\"tmp_2504.18643/././figures/dens2d_unstratified.png\" alt=\"Fig1\" width=\"100%\"/>\n",
       "\n",
       "**Figure 1. -** Perturbed density (normalized by the initial density), $\\delta\\rho/\\rho_{\\rm init}$ at (top panels) $Z/R=0.3$(3 scale heights above the midplane at $R=1$), (middle panels) $Z/R=0.1$(1 scale height above the midplane at $R=1$), and (bottom panels) midplane. From left to right, results with \\texttt{FARGO3D}, \\texttt{Idefix}, \\texttt{Athena++}, \\texttt{PLUTO}, and \\texttt{Phantom}. At high altitudes, $\\Phantom$ results appear noisy because of the small number of SPH particles in the low-density regions. (*fig:dens2d*)\n",
       "\n",
       "</div>\n",
       "<div id=\"div_fig2\">\n",
       "\n",
       "<img src=\"tmp_2504.18643/././figures/dens1d_phi_unstratified.png\" alt=\"Fig10\" width=\"100%\"/>\n",
       "\n",
       "**Figure 10. -** Azimuthal distribution of the density at (top panels) $R=1.3$ and (bottom panels) $R=0.7$. From left to right, each panel shows the density at the midplane, at $Z/R=0.1$, and $Z/R=0.3$, respectively. The scatter seen in the $\\Phantom$ simulation is due to the finite number of particles used in the simulation, and is expected. (*fig:dens1d*)\n",
       "\n",
       "</div>\n",
       "<div id=\"div_fig3\">\n",
       "\n",
       "<img src=\"tmp_2504.18643/././figures/vtheta2d_unstratified.png\" alt=\"Fig4\" width=\"100%\"/>\n",
       "\n",
       "**Figure 4. -** Same as Figure \\ref{fig:dens2d}, but for the meridional velocity $v_\\theta$. (*fig:vtheta2d*)\n",
       "\n",
       "</div><div id=\"qrcode\"><img src=https://api.qrserver.com/v1/create-qr-code/?size=100x100&data=\"https://arxiv.org/abs/2504.18643\"></div>"
      ],
      "text/plain": [
       "<IPython.core.display.Markdown object>"
      ]
     },
     "metadata": {},
     "output_type": "display_data"
    },
    {
     "data": {
      "text/markdown": [
       "<div class=\"macros\" style=\"visibility:hidden;\">\n",
       "$\\newcommand{\\ensuremath}{}$\n",
       "$\\newcommand{\\xspace}{}$\n",
       "$\\newcommand{\\object}[1]{\\texttt{#1}}$\n",
       "$\\newcommand{\\farcs}{{.}''}$\n",
       "$\\newcommand{\\farcm}{{.}'}$\n",
       "$\\newcommand{\\arcsec}{''}$\n",
       "$\\newcommand{\\arcmin}{'}$\n",
       "$\\newcommand{\\ion}[2]{#1#2}$\n",
       "$\\newcommand{\\textsc}[1]{\\textrm{#1}}$\n",
       "$\\newcommand{\\hl}[1]{\\textrm{#1}}$\n",
       "$\\newcommand{\\footnote}[1]{}$</div>\n",
       "\n",
       "\n",
       "\n",
       "<div id=\"title\">\n",
       "\n",
       "# exoALMA I. Science Goals, Project Design and Data Products\n",
       "\n",
       "</div>\n",
       "<div id=\"comments\">\n",
       "\n",
       "[![arXiv](https://img.shields.io/badge/arXiv-2504.18688-b31b1b.svg)](https://arxiv.org/abs/2504.18688)<mark>Appeared on: 2025-04-29</mark> -  _This paper is part of the exoALMA Focus Issue of The Astrophysical Journal Letters_\n",
       "\n",
       "</div>\n",
       "<div id=\"authors\">\n",
       "\n",
       "R. Teague, et al. -- incl., <mark>M. Benisty</mark>, <mark>D. Fasano</mark>, <mark>M. Flock</mark>, <mark>I. Hammond</mark>\n",
       "\n",
       "</div>\n",
       "<div id=\"abstract\">\n",
       "\n",
       "**Abstract:** Planet formation is a hugely dynamic process requiring the transport, concentration and assimilation of gas and dust to form the first planetesimals and cores. With access to extremely high spatial and spectral resolution observations at unprecedented sensitivities, it is now possible to probe the planet forming environment in detail. To this end, the exoALMA Large Program targeted fifteen large protoplanetary disks ranging between ${\\sim}1\\arcsec$ and ${\\sim}7\\arcsec$ in radius, and mapped the gas and dust distributions. $^{12}$ CO J=3-2, $^{13}$ CO J=3-2 and CS J=7-6 molecular emission was imaged at high angular ( ${\\sim} 0\\farcs15$ ) and spectral ( ${\\sim} 100 {\\rm m s^{-1}}$ ) resolution, achieving a surface brightness temperature sensitivity of ${\\sim}1.5$ K over a single channel, while the 330 GHz continuum emission was imaged at 90 mas resolution and achieved a point source sensitivity of ${\\sim} 40 \\mu{\\rm Jy beam^{-1}}$ . These observations constitute some of the deepest observations of protoplanetary disks to date. Extensive substructure was found in all but one disk, traced by both dust continuum and molecular line emission. In addition, the molecular emission allowed for the velocity structure of the disks to be mapped with excellent precision (uncertainties on the order of $10 {\\rm m s^{-1}}$ ), revealing a variety of kinematic perturbations across all sources. From this sample it is clear that, when observed in detail, all disks appear to exhibit physical and dynamical substructure indicative of on-going dynamical processing due to young, embedded planets, large-scale, (magneto-)hydrodynamical instabilities or winds.\n",
       "\n",
       "</div>\n",
       "\n",
       "<div id=\"div_fig1\">\n",
       "\n",
       "<img src=\"tmp_2504.18688/figures/12CO_gallery.png\" alt=\"Fig1\" width=\"100%\"/>\n",
       "\n",
       "**Figure 1. -** A summary of the exoALMA sample with all sources showing evidence of gas substructures. All images show the $^{12}$CO (3-2) peak intensity obtained with \\texttt{bettermoments} ([Teague and Foreman-Mackey 2018]())  using a quadratic fit to the data and masked with the CLEAN masks. Each source has a variable field of view and the open circle in the lower left of each image denotes the $0$\\farcs$15$ synthesized beam for reference. The color maps is individually scaled for each source to emphasize the emission morphology rather than for a quantitative comparison (which can be found in  ([Galloway-Sprietsma, Bae and Izquierdo 2024]()) ). (*fig:CO_gallery_main*)\n",
       "\n",
       "</div>\n",
       "<div id=\"div_fig2\">\n",
       "\n",
       "<img src=\"tmp_2504.18688/figures/emission_surface_rotation_profile_demo.png\" alt=\"Fig6\" width=\"100%\"/>\n",
       "\n",
       "**Figure 6. -** The high angular and spectral resolution of the exoALMA data enable a detailed exploration of the 3D physical and dynamical structure of protoplanetary disks. Panel (a) shows the projection of the inferred emission surface of the $^{12}$CO emission from the disk around LkCa 15 shown in panel (b). As described in [Galloway-Sprietsma, Bae and Izquierdo (2024)](), the gray points are individual measurements while the black line shows a moving average with a window of $0$\\farcs$15$. This deprojection allows for a precise $v_{\\phi}$ profile to be extracted, as shown by the orange points in panel (c), which reveals a significant departure from purely Keplerian rotation, as shown by the dotted gray line  ([Stadler, Benisty and Winter 2024]()) . The global profile can be well recovered with a model, shown by the gray line, that includes a radial pressure gradient and the inclusion of the self-gravity of the disk  ([Longarini, et. al 2024]()) . The localized variations, most readily discernible in the residuals shown in panel (d), can be associated with localized pressure variations within the disk  ([Stadler, Benisty and Winter 2024]()) . (*fig:LkCa15_velocity*)\n",
       "\n",
       "</div>\n",
       "<div id=\"div_fig3\">\n",
       "\n",
       "<img src=\"tmp_2504.18688/figures/HD135344_gallery.png\" alt=\"Fig3\" width=\"100%\"/>\n",
       "\n",
       "**Figure 3. -** Example of the peak intensities derived from the `fiducial set' of images for HD 135344B. All panels share a $4$\\arcsec$\\! \\times 4$\\arcsec$$ field of view centered on the star. The spatial resolution of molecular emission images is $0$\\farcs$15$ and the channel spacing is 100 ${\\rm m s^{-1}}$ for both $^{12}$CO and $^{13}$CO and 200 ${\\rm m s^{-1}}$ for CS. The continuum image has a synthesized beam of $90 {\\rm mas} \\times 76 {\\rm mas}$ with a position angle of $85\\fdg0$. (*fig:HD13344_gallery*)\n",
       "\n",
       "</div><div id=\"qrcode\"><img src=https://api.qrserver.com/v1/create-qr-code/?size=100x100&data=\"https://arxiv.org/abs/2504.18688\"></div>"
      ],
      "text/plain": [
       "<IPython.core.display.Markdown object>"
      ]
     },
     "metadata": {},
     "output_type": "display_data"
    },
    {
     "data": {
      "text/markdown": [
       "<div class=\"macros\" style=\"visibility:hidden;\">\n",
       "$\\newcommand{\\ensuremath}{}$\n",
       "$\\newcommand{\\xspace}{}$\n",
       "$\\newcommand{\\object}[1]{\\texttt{#1}}$\n",
       "$\\newcommand{\\farcs}{{.}''}$\n",
       "$\\newcommand{\\farcm}{{.}'}$\n",
       "$\\newcommand{\\arcsec}{''}$\n",
       "$\\newcommand{\\arcmin}{'}$\n",
       "$\\newcommand{\\ion}[2]{#1#2}$\n",
       "$\\newcommand{\\textsc}[1]{\\textrm{#1}}$\n",
       "$\\newcommand{\\hl}[1]{\\textrm{#1}}$\n",
       "$\\newcommand{\\footnote}[1]{}$\n",
       "$\\newcommand{\\cp}[1]{\\textcolor{red}{CP: #1}}$</div>\n",
       "\n",
       "\n",
       "\n",
       "<div id=\"title\">\n",
       "\n",
       "# exoALMA. X. channel maps reveal complex $^{12}$CO abundance distributions and a variety of kinematic structures with evidence for embedded planets\n",
       "\n",
       "</div>\n",
       "<div id=\"comments\">\n",
       "\n",
       "[![arXiv](https://img.shields.io/badge/arXiv-2504.18717-b31b1b.svg)](https://arxiv.org/abs/2504.18717)<mark>Appeared on: 2025-04-29</mark> -  _16 pages, 8 figures, accepted for publication in the ApJL exoALMA focus issue_\n",
       "\n",
       "</div>\n",
       "<div id=\"authors\">\n",
       "\n",
       "C. Pinte, et al. -- incl., <mark>M. Benisty</mark>, <mark>D. Fasano</mark>, <mark>M. Flock</mark>, <mark>I. Hammond</mark>\n",
       "\n",
       "</div>\n",
       "<div id=\"abstract\">\n",
       "\n",
       "**Abstract:** We analyze the $^{12}$ CO $J=3-2$ data cubes of the disks in the exoALMA program.  13/15 disks reveal a variety of kinematic substructures in individual channels: large-scale arcs or spiral arms, localized velocity kinks, and/or multiple faints arcs that appear like filamentary structures on the disk surface.  We find kinematic signatures that are consistent with planet wakes in six disks: AA Tau, SY Cha, J1842, J1615, LkCa 15 and HD 143006. Comparison with hydrodynamical and radiative transfer simulations suggests planets with orbital radii between 80 and 310 au and masses between 1 and 5 M $_\\mathrm{Jup}$ . Additional kinematic substructures limit our ability to place tight constraints on the planet masses. When the inclination is favorable to separate the upper and lower surfaces (near 45 $^\\mathrm{o}$ , $*i.e.*$ in 7/15 disks), we always detect the vertical CO snowline and find that the $^{12}$ CO freeze-out is partial in the disk midplane, with a depletion factor of $\\approx 10^{-3}$ -- $10^{-2}$ compared to the warm molecular layer. In these same seven disks, we also systematically detect evidence of CO desorption in the outer regions.\n",
       "\n",
       "</div>\n",
       "\n",
       "<div id=\"div_fig1\">\n",
       "\n",
       "<img src=\"tmp_2504.18717/./channels-1.png\" alt=\"Fig1\" width=\"100%\"/>\n",
       "\n",
       "**Figure 1. -** Sources displaying large-scale non-Keplerian arcs. For each object, we show the channel at systemic velocity (central column), as well as channels at two velocity offsets on the blue side of the line (first two columns) and the opposite channels on the red side of the line (last two columns).  Solid lines indicate the expected location of the isovelocity curves at Keplerian velocities $\\pm$100 m s. White arrows indicate deviations from the expected isovelocity curves for Keplerian rotation, and white circles highlight velocity kinks, *i.e.* distortions of the isovelocity curves. The beam is indicated as a gray circle and the horizontal white line is a $0$\\farcs$2$ scale. The color map traces the square root of the intensity between zero and the peak. Note that the ringlike structure seen in CQ Tau is the continuum emission.  (*fig:arcs*)\n",
       "\n",
       "</div>\n",
       "<div id=\"div_fig2\">\n",
       "\n",
       "<img src=\"tmp_2504.18717/./channels-2.png\" alt=\"Fig2\" width=\"100%\"/>\n",
       "\n",
       "**Figure 2. -** Sources with velocity kinks consistent with embedded planets (white circles). White arrows indicate additional deviations from Keplerian rotation. Beams and scales as in Fig \\ref{fig:arcs}.  (*fig:kinks*)\n",
       "\n",
       "</div>\n",
       "<div id=\"div_fig3\">\n",
       "\n",
       "<img src=\"tmp_2504.18717/./cont_scatt.png\" alt=\"Fig5\" width=\"100%\"/>\n",
       "\n",
       "**Figure 5. -** $^{12}$CO $J=3-2$ observations from the Atacama Large Millimeter/submillimeter Array (ALMA), continuum emission, and near-infrared scattered light images for the five newly detected planet candidates. The first row shows the $^{12}$CO $J=3-2$ channels with the identified velocity kinks. The second row presents the corresponding peak intensity map. The third row displays a high-pass filtered peak intensity map using a Gaussian kernel twice the size of the beam, where we overlay the location of the planetary wake, derived using the same thermal structure as in the {\\sf phantom} models and projected vertically onto the CO-emitting surface. The fourth row shows the exoALMA continuum  ([Curone, et. al 2025]()) , and the last row presents SPHERE DPI observations. The white circles indicate the velocity kinks shown in Fig. \\ref{fig:kinks}, while the blue dot marks the deprojected location on the disk midplane. No SPHERE data are available for AA Tau, as it is currently too faint to lock the adaptive optics system.\n",
       " (*fig:cont*)\n",
       "\n",
       "</div><div id=\"qrcode\"><img src=https://api.qrserver.com/v1/create-qr-code/?size=100x100&data=\"https://arxiv.org/abs/2504.18717\"></div>"
      ],
      "text/plain": [
       "<IPython.core.display.Markdown object>"
      ]
     },
     "metadata": {},
     "output_type": "display_data"
    },
    {
     "data": {
      "text/markdown": [
       "<div class=\"macros\" style=\"visibility:hidden;\">\n",
       "$\\newcommand{\\ensuremath}{}$\n",
       "$\\newcommand{\\xspace}{}$\n",
       "$\\newcommand{\\object}[1]{\\texttt{#1}}$\n",
       "$\\newcommand{\\farcs}{{.}''}$\n",
       "$\\newcommand{\\farcm}{{.}'}$\n",
       "$\\newcommand{\\arcsec}{''}$\n",
       "$\\newcommand{\\arcmin}{'}$\n",
       "$\\newcommand{\\ion}[2]{#1#2}$\n",
       "$\\newcommand{\\textsc}[1]{\\textrm{#1}}$\n",
       "$\\newcommand{\\hl}[1]{\\textrm{#1}}$\n",
       "$\\newcommand{\\footnote}[1]{}$\n",
       "$\\newcommand{\\vdag}{(v)^\\dagger}$\n",
       "$\\newcommand$\n",
       "$\\newcommand$\n",
       "$\\newcommand{\\comment}[1]{\\textit{\\textcolor{red}{#1}}}$\n",
       "$\\newcommand{\\refexoalma}[1]{\\textbf{\\textcolor{blue}{#1}}}$\n",
       "$\\newcommand{\\revision}[1]{\\textcolor{red}{#1}}$\n",
       "$\\newcommand{\\galario}{\\texttt{galario}\\xspace}$\n",
       "$\\newcommand{\\frank}{\\texttt{frank}\\xspace}$\n",
       "$\\newcommand{\\discminer}{\\texttt{discminer}\\xspace}$</div>\n",
       "\n",
       "\n",
       "\n",
       "<div id=\"title\">\n",
       "\n",
       "# exoALMA IV: Substructures, Asymmetries, and the Faint Outer Disk in Continuum Emission\n",
       "\n",
       "</div>\n",
       "<div id=\"comments\">\n",
       "\n",
       "[![arXiv](https://img.shields.io/badge/arXiv-2504.18725-b31b1b.svg)](https://arxiv.org/abs/2504.18725)<mark>Appeared on: 2025-04-29</mark> -  _This paper is part of the exoALMA Focus Issue of The Astrophysical Journal Letters_\n",
       "\n",
       "</div>\n",
       "<div id=\"authors\">\n",
       "\n",
       "P. Curone, et al. -- incl., <mark>M. Benisty</mark>, <mark>D. Fasano</mark>, <mark>M. Flock</mark>\n",
       "\n",
       "</div>\n",
       "<div id=\"abstract\">\n",
       "\n",
       "**Abstract:** The exoALMA Large Program targeted a sample of 15 disks to study gas dynamics within these systems, and these observations simultaneously produced continuum data at 0.9 mm (331.6 GHz) with exceptional surface brightness sensitivity at high angular resolution. To provide a robust characterization of the observed substructures, we performed a visibility space analysis of the continuum emission from the exoALMA data, characterizing axisymmetric substructures and nonaxisymmetric residuals obtained by subtracting an axisymmetric model from the observed data. We defined a nonaxisymmetry index and found that the most asymmetric disks predominantly show an inner cavity and consistently present higher values of mass accretion rate and near-infrared excess. This suggests a connection between outer disk dust substructures and inner disk properties. The depth of the data allowed us to describe the azimuthally averaged continuum emission in the outer disk, revealing that larger disks (both in dust and gas) in our sample tend to be gradually tapered compared to the sharper outer edge of more compact sources. Additionally, the data quality revealed peculiar features in various sources, such as shadows, inner disk offsets, tentative external substructures, and a possible dust cavity wall.\n",
       "\n",
       "</div>\n",
       "\n",
       "<div id=\"div_fig1\">\n",
       "\n",
       "<img src=\"tmp_2504.18725/./Figures/gallery_single_sources_maintext.png\" alt=\"Fig17\" width=\"100%\"/>\n",
       "\n",
       "**Figure 17. -** Comparison of data, $\\frank$ model, CLEAN-imaged $\\frank$ model, residuals, and polar plots for each disk (here showing AA Tau and CQ Tau and continued in Appendix \\ref{sect:Appendix_Galleries}). (Top to bottom, left to right) First panel: fiducial continuum image of the observed data obtained with robust -0.5, with the synthesized beam’s FWHM shown as an ellipse in the lower left corner. The asinh function was applied to the color scale to visually enhance the fainter emission. Second panel: image of the frank model swept over $2\\pi$ and reprojected, with normalized intensity and an asinh stretch. Each gap is marked by a dashed arc labeled “D\" with its distance from the star in au, while solid arcs labeled “B\"indicate the rings. The dotted line corresponds with the PA measured on gas data with $\\discminer$ ([Izquierdo, Stadler and Bae 2025]())  and defines the $\\phi=0$ angle of the polar plots, increasing counterclockwise (note possible PA differences with the one measured from $\\galario$ and used in $\\frank$, see Appendix \\ref{sect:comparing_gas_dust_geom_param}). Third panel: $\\frank$ model sampled at the same $uv$-points of the observation and imaged with CLEAN as the observed data. The color scale is the same as the data panel. Fourth panel: residuals obtained subtracting the \\texttt{frank model} from the data. The residual visibilities were calculated at the same $uv$-points of the ALMA observations and imaged with CLEAN as the observed data. The color scale shows the residuals in units of the observed noise ($\\sigma_\\mathrm{rms}$). Rings and gaps are marked with solid and dashed ellipses, respectively. Fifth panel: polar plot of the data continuum image. Sixth panel: polar plot of the nonaxisymmetric residuals. The locations of rings and gaps are marked by solid and dashed horizontal lines, respectively. (*fig:gallery_single_sources_maintext*)\n",
       "\n",
       "</div>\n",
       "<div id=\"div_fig2\">\n",
       "\n",
       "<img src=\"tmp_2504.18725/./Figures/gallery_single_sources_appendix1.png\" alt=\"Fig2\" width=\"100%\"/>\n",
       "\n",
       "**Figure 2. -** Same as Fig. \\ref{fig:gallery_single_sources_maintext} but for DM Tau and HD 135344B. (*fig:gallery_single_sources_appendix1*)\n",
       "\n",
       "</div>\n",
       "<div id=\"div_fig3\">\n",
       "\n",
       "<img src=\"tmp_2504.18725/./Figures/gallery_single_sources_appendix2.png\" alt=\"Fig3\" width=\"100%\"/>\n",
       "\n",
       "**Figure 3. -** Same as Fig. \\ref{fig:gallery_single_sources_maintext} but for HD 143006 and HD 34282. (*fig:gallery_single_sources_appendix2*)\n",
       "\n",
       "</div><div id=\"qrcode\"><img src=https://api.qrserver.com/v1/create-qr-code/?size=100x100&data=\"https://arxiv.org/abs/2504.18725\"></div>"
      ],
      "text/plain": [
       "<IPython.core.display.Markdown object>"
      ]
     },
     "metadata": {},
     "output_type": "display_data"
    },
    {
     "data": {
      "text/markdown": [
       "<div class=\"macros\" style=\"visibility:hidden;\">\n",
       "$\\newcommand{\\ensuremath}{}$\n",
       "$\\newcommand{\\xspace}{}$\n",
       "$\\newcommand{\\object}[1]{\\texttt{#1}}$\n",
       "$\\newcommand{\\farcs}{{.}''}$\n",
       "$\\newcommand{\\farcm}{{.}'}$\n",
       "$\\newcommand{\\arcsec}{''}$\n",
       "$\\newcommand{\\arcmin}{'}$\n",
       "$\\newcommand{\\ion}[2]{#1#2}$\n",
       "$\\newcommand{\\textsc}[1]{\\textrm{#1}}$\n",
       "$\\newcommand{\\hl}[1]{\\textrm{#1}}$\n",
       "$\\newcommand{\\footnote}[1]{}$\n",
       "$\\newcommand{\\vdag}{(v)^\\dagger}$</div>\n",
       "\n",
       "\n",
       "\n",
       "<div id=\"title\">\n",
       "\n",
       "# ${exoALMA XII}$ : Weighing and sizing exoALMA disks with rotation curve modelling\n",
       "\n",
       "</div>\n",
       "<div id=\"comments\">\n",
       "\n",
       "[![arXiv](https://img.shields.io/badge/arXiv-2504.18726-b31b1b.svg)](https://arxiv.org/abs/2504.18726)<mark>Appeared on: 2025-04-29</mark> -  _This paper is part of the exoALMA Focus Issue of The Astrophysical Journal Letters_\n",
       "\n",
       "</div>\n",
       "<div id=\"authors\">\n",
       "\n",
       "C. Longarini, et al. -- incl., <mark>A. Winter</mark>, <mark>M. Benisty</mark>, <mark>D. Fasano</mark>, <mark>M. Flock</mark>, <mark>I. Hammond</mark>\n",
       "\n",
       "</div>\n",
       "<div id=\"abstract\">\n",
       "\n",
       "**Abstract:** The exoALMA large program offers a unique opportunity to investigate the fundamental properties of protoplanetary disks, such as their masses and sizes, providing important insights in the mechanism responsible for the transport of angular momentum. In this work, we model the rotation curves of CO isotopologues $^{12}$ CO and $^{13}$ CO of ten sources within the exoALMA sample, and we constrain the stellar mass, the disk mass and the density scale radiusthrough precise characterization of the pressure gradient and disk self gravity.We obtain dynamical disk masses for our sample measuring the self-gravitating contribution to the gravitational potential. We are able to parametrically describe their surface density, and all of them appear gravitationally stable.By combining dynamical disk masses with dust continuum emission data, we determine an averaged gas-to-dust ratio of approximately 400, not statistically consistent with the standard value of 100, assuming optically thin dust emission. In addition, the measurement of the dynamical scale radius allows for direct comparison with flux-based radii of gas and dust. This comparison suggests that substructures may influence the size of the dust disk, and that CO depletion might reconcile our measurements with thermochemical models. Finally, with the stellar mass, disk mass, scale radius, and accretion rate, and assuming self-similar evolution of the surface density, we constrain the effective $\\alpha_S$ for these systems. We find a  broad range of $\\alpha_S$ values ranging between $10^{-5}$ and $10^{-2}$ .\n",
       "\n",
       "</div>\n",
       "\n",
       "<div id=\"div_fig1\">\n",
       "\n",
       "<img src=\"tmp_2504.18726/./images/radii.png\" alt=\"Fig7\" width=\"100%\"/>\n",
       "\n",
       "**Figure 7. -** Flux based radii (i.e. radii enclosing the 68\\% of the emission) of $^{12}$CO, $^{13}$CO and dust compared with the dynamical scale radii $R_c$. The orange squares are the exoALMA sources, while the blue ones are the MAPS. The black line shows when the flux radius is equal to the dynamical one, and the brown line is the average value for the sources.  (*radii_comparison_plot*)\n",
       "\n",
       "</div>\n",
       "<div id=\"div_fig2\">\n",
       "\n",
       "<img src=\"tmp_2504.18726/./images/dyn_dust.png\" alt=\"Fig2\" width=\"100%\"/>\n",
       "\n",
       "**Figure 2. -** {Dynamical masses against dust masses as computed in [Curone, Facchini and Andrews (2025)]() for the exoALMA and MAPS sources. The black line shows the $M_{\\rm dyn}=100M_{\\rm dust}$ and the brown line the $M_{\\rm dyn}=400M_{\\rm dust}$.} (*gtd_figure*)\n",
       "\n",
       "</div>\n",
       "<div id=\"div_fig3\">\n",
       "\n",
       "<img src=\"tmp_2504.18726/./images/alphavisc.png\" alt=\"Fig4\" width=\"100%\"/>\n",
       "\n",
       "**Figure 4. -** $\\alpha_S$ for the exoALMA and MAPS sources, computed according to Eq. \\ref{alpha_mdot} and comparison with literature values.  (*alpha_plot*)\n",
       "\n",
       "</div><div id=\"qrcode\"><img src=https://api.qrserver.com/v1/create-qr-code/?size=100x100&data=\"https://arxiv.org/abs/2504.18726\"></div>"
      ],
      "text/plain": [
       "<IPython.core.display.Markdown object>"
      ]
     },
     "metadata": {},
     "output_type": "display_data"
    },
    {
     "data": {
      "text/markdown": [
       "<div class=\"macros\" style=\"visibility:hidden;\">\n",
       "$\\newcommand{\\ensuremath}{}$\n",
       "$\\newcommand{\\xspace}{}$\n",
       "$\\newcommand{\\object}[1]{\\texttt{#1}}$\n",
       "$\\newcommand{\\farcs}{{.}''}$\n",
       "$\\newcommand{\\farcm}{{.}'}$\n",
       "$\\newcommand{\\arcsec}{''}$\n",
       "$\\newcommand{\\arcmin}{'}$\n",
       "$\\newcommand{\\ion}[2]{#1#2}$\n",
       "$\\newcommand{\\textsc}[1]{\\textrm{#1}}$\n",
       "$\\newcommand{\\hl}[1]{\\textrm{#1}}$\n",
       "$\\newcommand{\\footnote}[1]{}$\n",
       "$\\newcommand{\\vdag}{(v)^\\dagger}$\n",
       "$\\newcommand$\n",
       "$\\newcommand$\n",
       "$\\newcommand{\\bz}[1]{\\textbf{#1}}$\n",
       "$\\newcommand{\\disksurf}{\\texttt{disksurf}}$</div>\n",
       "\n",
       "\n",
       "\n",
       "<div id=\"title\">\n",
       "\n",
       "# exoALMA IX: Regularized Maximum Likelihood Imaging of Non-Keplerian Features\n",
       "\n",
       "</div>\n",
       "<div id=\"comments\">\n",
       "\n",
       "[![arXiv](https://img.shields.io/badge/arXiv-2504.19111-b31b1b.svg)](https://arxiv.org/abs/2504.19111)<mark>Appeared on: 2025-04-29</mark> -  _19 pages, 13 figures. This paper is part of the exoALMA Focus Issue of The Astrophysical Journal Letters_\n",
       "\n",
       "</div>\n",
       "<div id=\"authors\">\n",
       "\n",
       "B. Zawadzki, et al. -- incl., <mark>M. Benisty</mark>, <mark>D. Fasano</mark>, <mark>M. Flock</mark>\n",
       "\n",
       "</div>\n",
       "<div id=\"abstract\">\n",
       "\n",
       "**Abstract:** The planet-hunting ALMA large program exoALMA observed 15 protoplanetary disks at $\\sim0\\farcs15$ angular resolution and $\\sim100$ m/s spectral resolution, characterizing disk structures and kinematics in enough detail to detect non-Keplerian features (NKFs) in the gas emission. As these features are often small and low-contrast, robust imaging procedures are critical for identifying and characterizing NKFs, including determining which features may be signatures of young planets. The exoALMA collaboration employed two different imaging procedures to ensure the consistent detection of NKFs: CLEAN, the standard iterative deconvolution algorithm, and regularized maximum likelihood (RML) imaging. This paper presents the exoALMA RML images, obtained by maximizing the likelihood of the visibility data given a model image and subject to regularizer penalties. Crucially, in the context of exoALMA, RML images serve as an independent verification of marginal features seen in the fiducial CLEAN images. However, best practices for synthesizing RML images of multi-channeled (i.e. velocity-resolved) data remain undefined, as prior work on RML imaging for protoplanetary disk data has primarily addressed single-image cases. We used the open source Python package \\texttt{MPoL} to explore RML image validation methods for multi-channeled data and synthesize RML images from the exoALMA observations of 7 protoplanetary disks with apparent NKFs in the $^{12}$ CO J=3-2 CLEAN images. We find that RML imaging methods independently reproduce the NKFs seen in the CLEAN images of these sources, suggesting that the NKFs are robust features rather than artifacts from a specific imaging procedure.\n",
       "\n",
       "</div>\n",
       "\n",
       "<div id=\"div_fig1\">\n",
       "\n",
       "<img src=\"tmp_2504.19111/./AATau_contsub_cbar.png\" alt=\"Fig1\" width=\"100%\"/>\n",
       "\n",
       "**Figure 1. -** RML and CLEAN comparison for continuum-subtracted observations of AA Tau in $^{12}$CO J=3-2, $^{13}$CO J=3-2, and CS J=7-6. Shown are three adjacent channels, centered at $v=7.8$ km/s where the $^{12}$CO J=3-2 non-Keplerian feature appears most prominently. All 6 panels for each molecular line (the three RML panels and three CLEAN panels) are plotted on the same color scale, and the color bars for each molecule are in units of Jy/arcsec$^{2}$. The white arrows indicate the NKF which can be seen in the $^{12}$CO J=3-2 emission; while the feature is present in all three channels shown, we only place the arrows in one RML image and one CLEAN image to highlight the location of the feature. (*fig:aatau*)\n",
       "\n",
       "</div>\n",
       "<div id=\"div_fig2\">\n",
       "\n",
       "<img src=\"tmp_2504.19111/./SYCha_contsub_cbar.png\" alt=\"Fig7\" width=\"100%\"/>\n",
       "\n",
       "**Figure 7. -** Same as Figure \\ref{fig:aatau}, but for SY Cha. Shown are three adjacent channels, centered at $v=3.6$ km/s where the $^{12}$CO J=3-2 non-Keplerian feature appears most prominently. (*fig:sycha*)\n",
       "\n",
       "</div>\n",
       "<div id=\"div_fig3\">\n",
       "\n",
       "<img src=\"tmp_2504.19111/./HD135344b_contsub_cbar.png\" alt=\"Fig2\" width=\"100%\"/>\n",
       "\n",
       "**Figure 2. -** Same as Figure \\ref{fig:aatau}, but for HD 135344B. As HD 135344B displays large NKFs that persist throughout the cube, we show three adjacent and representative channels centered at $v=6.6$ km/s.  (*fig:hd135344b*)\n",
       "\n",
       "</div><div id=\"qrcode\"><img src=https://api.qrserver.com/v1/create-qr-code/?size=100x100&data=\"https://arxiv.org/abs/2504.19111\"></div>"
      ],
      "text/plain": [
       "<IPython.core.display.Markdown object>"
      ]
     },
     "metadata": {},
     "output_type": "display_data"
    },
    {
     "data": {
      "text/markdown": [
       "<div class=\"macros\" style=\"visibility:hidden;\">\n",
       "$\\newcommand{\\ensuremath}{}$\n",
       "$\\newcommand{\\xspace}{}$\n",
       "$\\newcommand{\\object}[1]{\\texttt{#1}}$\n",
       "$\\newcommand{\\farcs}{{.}''}$\n",
       "$\\newcommand{\\farcm}{{.}'}$\n",
       "$\\newcommand{\\arcsec}{''}$\n",
       "$\\newcommand{\\arcmin}{'}$\n",
       "$\\newcommand{\\ion}[2]{#1#2}$\n",
       "$\\newcommand{\\textsc}[1]{\\textrm{#1}}$\n",
       "$\\newcommand{\\hl}[1]{\\textrm{#1}}$\n",
       "$\\newcommand{\\footnote}[1]{}$\n",
       "$\\newcommand{\\vdag}{(v)^\\dagger}$\n",
       "$\\newcommand$\n",
       "$\\newcommand$\n",
       "$\\newcommand{\\dr}[0]{\\ensuremath{\\mathrm{d}r}}$\n",
       "$\\newcommand{\\mdisk}[0]{\\ensuremath{M_{\\rm disk}}}$\n",
       "$\\newcommand{\\mgas}[0]{\\ensuremath{M_{\\rm gas}}}$\n",
       "$\\newcommand{\\mdust}[0]{\\ensuremath{M_{\\rm dust}}}$\n",
       "$\\newcommand{\\rgas}[0]{\\ensuremath{R_{\\rm CO, 90\\%}}}$\n",
       "$\\newcommand{\\rdust}[0]{\\ensuremath{R_{\\rm dust, 90\\%}}}$\n",
       "$\\newcommand{\\rc}[0]{\\ensuremath{R_{\\rm c}}}$\n",
       "$\\newcommand{\\macc}[0]{\\ensuremath{\\dot{M}_{\\rm acc}}}$\n",
       "$\\newcommand{\\mstar}[0]{\\ensuremath{M_{*}}}$\n",
       "$\\newcommand{\\msun}[0]{\\ensuremath{\\mathrm{M}_{\\odot}}}$\n",
       "$\\newcommand{\\Lsun}[0]{\\ensuremath{\\mathrm{L}_{\\odot}}}$\n",
       "$\\newcommand{\\nhp}[0]{\\ensuremath{\\mathrm{N}_2\\mathrm{H}^+}}$\n",
       "$\\newcommand{\\co}[0]{\\ensuremath{^{12}\\mathrm{CO}}}$\n",
       "$\\newcommand{\\xco}[0]{\\ensuremath{^{13}\\mathrm{CO}}}$\n",
       "$\\newcommand{\\cyo}[0]{\\ensuremath{\\mathrm{C}^{18}\\mathrm{O}}}$\n",
       "$\\newcommand{\\zet}[0]{\\ensuremath{\\zeta_{\\rm mid}}}$\n",
       "$\\newcommand{\\htwo}[0]{\\ensuremath{\\mathrm{H}_{2}}}$\n",
       "$\\newcommand{\\abu}[0]{\\ensuremath{x_{\\rm CO}}}$\n",
       "$\\newcommand{\\arraystretch}{1.0}$\n",
       "$\\newcommand{\\arraystretch}{1.05}$\n",
       "$\\newcommand{\\arraystretch}{1.0}$\n",
       "$\\newcommand{\\arraystretch}{1.0}$</div>\n",
       "\n",
       "\n",
       "\n",
       "<div id=\"title\">\n",
       "\n",
       "# ExoALMA XIII. gas masses from $\\nhp$ and $\\cyo$:\\ a comparison of protoplanetary gas disk mass measurement techniques\n",
       "\n",
       "</div>\n",
       "<div id=\"comments\">\n",
       "\n",
       "[![arXiv](https://img.shields.io/badge/arXiv-2504.19371-b31b1b.svg)](https://arxiv.org/abs/2504.19371)<mark>Appeared on: 2025-04-29</mark> -  _20 pages, 9 figures, 4 tables. This paper is part of the exoALMA Focus Issue of The Astrophysical Journal Letters_\n",
       "\n",
       "</div>\n",
       "<div id=\"authors\">\n",
       "\n",
       "L. Trapman, et al. -- incl., <mark>M. Benisty</mark>, <mark>D. Fasano</mark>, <mark>M. Flock</mark>\n",
       "\n",
       "</div>\n",
       "<div id=\"abstract\">\n",
       "\n",
       "**Abstract:** The gas masses of protoplanetary disks are important but elusive quantities.In this work we present new ALMA observations of $\\nhp$ (3-2) for 11 exoALMA disks. $\\nhp$ is a molecule sensitive to CO freeze-out and has recently been shown to significantly improve the accuracy of gas masses estimated from CO line emission. We combine these new observations with archival $\\nhp$ and CO isotopologue observations to measure gas masses for 19 disks, predominantly from the exoALMA Large program. For 15 of these disks the gas mass has also been measured using gas rotation curves.We show that the CO + $\\nhp$ line emission-based gas masses typically agree with the kinematically measured ones within a factor 3 ( $\\sim1-2\\sigma$ ). Gas disk masses from CO + $\\nhp$ are on average a factor $2.3^{+0.7}_{-1.0}\\times$ lower than the kinematic disk masses, which could suggest slightly lower $N_2$ abundances and/or  lower midplane ionization rates than typically assumed. Herbig disks are found to have ISM level CO gas abundances based on their CO and $\\nhp$ fluxes, which sets them apart from T-Tauri disks where abundances are typically $\\sim3-30\\times$ lower.The agreement between CO + $\\nhp$ -based and kinematically measured gas masses is promising andshows that multi-molecule line fluxes are a robust tool to accurately measure disk masses at least for extended disks.\n",
       "\n",
       "</div>\n",
       "\n",
       "<div id=\"div_fig1\">\n",
       "\n",
       "<img src=\"\" alt=\"Fig1.1\" width=\"33%\"/><img src=\"\" alt=\"Fig1.2\" width=\"33%\"/><img src=\"\" alt=\"Fig1.3\" width=\"33%\"/>\n",
       "\n",
       "**Figure 1. -**  Integrated line and continuum fluxes, scaled to a distance of 150 pc, of the disk sample examined in this work (in green, blue, and purple) combined with twenty class II disks from the AGE-PRO ALMA large program, shown in black \\citep{AGEPRO_III_Lupus,AGEPRO_IV_UpperSco}. $\\cyo$ (2-1) and (3-2) observations are denoted as circles and stars, respectively. The $\\cyo$ (3-2) fluxes are reduced by a factor 2.3, the median $\\cyo$ (3-2)/$\\cyo$ (2-1) line ratio of models with $\\mdisk\\geq10^{-4} $\\msun$$ from \\cite{AGEPRO_V_gas_masses}. Herbig disks are highlighted with a pink circle. Triangles show upper limits, with open triangles representing upper limits in both $\\nhp$ and $\\cyo$.   (*fig: integrated line fluxes*)\n",
       "\n",
       "</div><div id=\"qrcode\"><img src=https://api.qrserver.com/v1/create-qr-code/?size=100x100&data=\"https://arxiv.org/abs/2504.19371\"></div>"
      ],
      "text/plain": [
       "<IPython.core.display.Markdown object>"
      ]
     },
     "metadata": {},
     "output_type": "display_data"
    },
    {
     "data": {
      "text/markdown": [
       "<div class=\"macros\" style=\"visibility:hidden;\">\n",
       "$\\newcommand{\\ensuremath}{}$\n",
       "$\\newcommand{\\xspace}{}$\n",
       "$\\newcommand{\\object}[1]{\\texttt{#1}}$\n",
       "$\\newcommand{\\farcs}{{.}''}$\n",
       "$\\newcommand{\\farcm}{{.}'}$\n",
       "$\\newcommand{\\arcsec}{''}$\n",
       "$\\newcommand{\\arcmin}{'}$\n",
       "$\\newcommand{\\ion}[2]{#1#2}$\n",
       "$\\newcommand{\\textsc}[1]{\\textrm{#1}}$\n",
       "$\\newcommand{\\hl}[1]{\\textrm{#1}}$\n",
       "$\\newcommand{\\footnote}[1]{}$\n",
       "$\\newcommand{\\vdag}{(v)^\\dagger}$\n",
       "$\\newcommand$\n",
       "$\\newcommand$\n",
       "$\\newcommand{\\tom}[1]{\\textcolor{red}{\\textbf{TH:} #1}}$\n",
       "$\\newcommand{\\cp}[1]{\\textcolor{blue}{\\textbf{CP:} #1}}$\n",
       "$\\newcommand{\\codesnip}[1]{\\texttt{#1}}$\n",
       "$\\newcommand{\\citeexoalma}[1]{\\textbf{#1's paper}}$</div>\n",
       "\n",
       "\n",
       "\n",
       "<div id=\"title\">\n",
       "\n",
       "# exoALMA. VIII. Probabilistic Moment Maps and Data Products using Non-parametric Linear Models\n",
       "\n",
       "</div>\n",
       "<div id=\"comments\">\n",
       "\n",
       "[![arXiv](https://img.shields.io/badge/arXiv-2504.19416-b31b1b.svg)](https://arxiv.org/abs/2504.19416)<mark>Appeared on: 2025-04-29</mark> -  _24 pages, 10 figures_\n",
       "\n",
       "</div>\n",
       "<div id=\"authors\">\n",
       "\n",
       "T. Hilder, et al. -- incl., <mark>M. Benisty</mark>, <mark>D. Fasano</mark>, <mark>M. Flock</mark>, <mark>I. Hammond</mark>\n",
       "\n",
       "</div>\n",
       "<div id=\"abstract\">\n",
       "\n",
       "**Abstract:** Extracting robust inferences on physical quantities from disk kinematics measured from Doppler-shifted molecular line emission is challenging due to the data's size and complexity.In this paper we develop a flexible linear model of the intensity distribution in each frequency channel, accounting for spatial correlations from the point spread function.The analytic form of the model's posterior enables probabilistic data products through sampling.Our method debiases peak intensity, peak velocity, and line width maps, particularly in disk substructures that are only partially resolved.These are needed in order to measure disk mass, turbulence, pressure gradients, and to detect embedded planets.We analyse HD 135344B, MWC 758, and CQ Tau, finding velocity substructures 50--200 ${\\rm m s^{-1}}$ greater than with conventional methods.Additionally, we combine our approach with discminer in a case study of J1842.We find that uncertainties in stellar mass and inclination increase by an order of magnitude due to the more realistic noise model.More broadly, our method can be applied to any problem requiring a probabilistic model of an intensity distribution conditioned on a point spread function.\n",
       "\n",
       "</div>\n",
       "\n",
       "<div id=\"div_fig1\">\n",
       "\n",
       "<img src=\"tmp_2504.19416/./combined_benchmark_vI.png\" alt=\"Fig3\" width=\"100%\"/>\n",
       "\n",
       "**Figure 3. -** Top: Peak velocity maps $v_0$ extracted from the _benchmark model_ synthetic data, using both the conventional method (left; see Section \\ref{sec:methods_moments}) and our method (right). Right-most panel shows the true _benchmark model_ line-of-sight velocities $v_{0,   {\\rm truth}}$. $v_0$ maps show also iso-velocity contours spaced by $200   {\\rm m s^{-1}}$, and the beam is shown in the top-left panel. Second row shows the difference between the recovered $v_0$ maps and the truth. Our method debiases the $v_0$ map and recovers the full amplitude of the substructures. Bottom: Same as above except showing recovered peak intensity maps $I_0$. (*fig:vI_hd135_model*)\n",
       "\n",
       "</div>\n",
       "<div id=\"div_fig2\">\n",
       "\n",
       "<img src=\"tmp_2504.19416/./hd135_cqtau_combined.png\" alt=\"Fig6\" width=\"100%\"/>\n",
       "\n",
       "**Figure 6. -** Peak velocity, peak intensity, and line width maps for HD 135344B (top) and CQ Tau (bottom). Left column shows the results using the conventional method. Second column shows the results using our new method. Third column shows the difference of these. Fourth column shows the $1\\sigma$ uncertainty on the results from the new method. As in the benchmark, the new method better resolves the velocity perturbations associated with substructures. (*fig:moments_hd135_cqtau*)\n",
       "\n",
       "</div>\n",
       "<div id=\"div_fig3\">\n",
       "\n",
       "<img src=\"tmp_2504.19416/./better_diagram.png\" alt=\"Fig1\" width=\"100%\"/>\n",
       "\n",
       "**Figure 1. -** Schematic overview of the methodology for generating probabilistic data products using the non-parametric cube model. The cube graphic represents data cubes, with the orange and blue cubes illustrating posterior model cube samples before and after beam convolution, respectively. The ${\\rm P}_i$ values indicate sample data products (DPs) calculated from the corresponding cube samples, colour-coded accordingly. The numbered steps in the bottom-left correspond directly to those in Section \\ref{sec:overview}. (*fig:overview*)\n",
       "\n",
       "</div><div id=\"qrcode\"><img src=https://api.qrserver.com/v1/create-qr-code/?size=100x100&data=\"https://arxiv.org/abs/2504.19416\"></div>"
      ],
      "text/plain": [
       "<IPython.core.display.Markdown object>"
      ]
     },
     "metadata": {},
     "output_type": "display_data"
    },
    {
     "data": {
      "text/markdown": [
       "<div class=\"macros\" style=\"visibility:hidden;\">\n",
       "$\\newcommand{\\ensuremath}{}$\n",
       "$\\newcommand{\\xspace}{}$\n",
       "$\\newcommand{\\object}[1]{\\texttt{#1}}$\n",
       "$\\newcommand{\\farcs}{{.}''}$\n",
       "$\\newcommand{\\farcm}{{.}'}$\n",
       "$\\newcommand{\\arcsec}{''}$\n",
       "$\\newcommand{\\arcmin}{'}$\n",
       "$\\newcommand{\\ion}[2]{#1#2}$\n",
       "$\\newcommand{\\textsc}[1]{\\textrm{#1}}$\n",
       "$\\newcommand{\\hl}[1]{\\textrm{#1}}$\n",
       "$\\newcommand{\\footnote}[1]{}$\n",
       "$\\newcommand{\\vdag}{(v)^\\dagger}$\n",
       "$\\newcommand$\n",
       "$\\newcommand$\n",
       "$\\newcommand{\\kms}{{\\rm km s^{-1}}}$</div>\n",
       "\n",
       "\n",
       "\n",
       "<div id=\"title\">\n",
       "\n",
       "# exoALMA XIV. Gas Surface Densities in the RX J1604.3-2130 A Disk from Pressure-broadened CO Line Wings\n",
       "\n",
       "</div>\n",
       "<div id=\"comments\">\n",
       "\n",
       "[![arXiv](https://img.shields.io/badge/arXiv-2504.19434-b31b1b.svg)](https://arxiv.org/abs/2504.19434)<mark>Appeared on: 2025-04-29</mark> -  _23 pages, 16 figures. This paper is part of the exoALMA Focus Issue of The Astrophysical Journal Letters_\n",
       "\n",
       "</div>\n",
       "<div id=\"authors\">\n",
       "\n",
       "T. C. Yoshida, et al. -- incl., <mark>M. Benisty</mark>, <mark>D. Fasano</mark>, <mark>M. Flock</mark>\n",
       "\n",
       "</div>\n",
       "<div id=\"abstract\">\n",
       "\n",
       "**Abstract:** The gas surface density is one of the most relevant physical quantities in protoplanetary disks.However, ${ its precise measurement remains highly challenging due to the lack of a direct tracer.}$ In this study, we report the spatially-resolved detection of pressure-broadened line wings in the CO $J=3-2$ line in the RX J1604.3-2130 A transition disk as part of the exoALMA large program.Since pressure-broadened line wings are sensitive to the total gas ${ volume}$ density, we robustly constrain ${ the radial dependence of the gas surface density and midplane pressure in the region}$ located $50-110$ au from the central star, which encompasses the dust ring of the system.The peak radius of the midplane pressure profile matches the dust ring ${ radial}$ location, directly proving radial dust trapping at a gas pressure maximum. ${ The peak gas surface density is $18-44 {\\rm g cm^{-2}}$}$ and decreases at radii interior to and exterior of the dust ring.A comparison of the gas and dust surface densities suggests that the disk turbulence is as low as $\\alpha_{\\rm turb} \\sim 2\\times10^{-4}$ . ${ Despite dust trapping}$ , the gas-to-dust surface density ratio at the ring peak is ${ $70-400$}$ , which implies already-formed protoplanets and/or less efficient dust trapping.The gas surface density drop at radii interior to the ring is consistent with a gas gap induced by a Jupiter-mass planet.The total gas mass within $50 < r < 110$ au is estimated to be $\\sim 0.05-0.1 M_\\odot$ ( $50-100 {M_{\\rm Jup}}$ ), suggesting that planetary system formation is possible.\n",
       "\n",
       "</div>\n",
       "\n",
       "<div id=\"div_fig1\">\n",
       "\n",
       "<img src=\"tmp_2504.19434/./teardrop.png\" alt=\"Fig16\" width=\"100%\"/>\n",
       "\n",
       "**Figure 16. -** (left) Azimuthally stacked CO spectra. The upper and lower panels show the same data, { but in the lower panel, we convolved the spectrum at each radius with a flat kernel of three channels and use the symmetric logarithm color map in order to enhance the faint emission in the line wings.} The horizontal dotted lines indicate the { radial range} of the dust ring. The dashed ellipse marks the { faint line wings we analyze in this Letter}. (middle) The best-fit model of the CO spectra. (right) The residual between the observed and model spectra. (*fig:teardrop*)\n",
       "\n",
       "</div>\n",
       "<div id=\"div_fig2\">\n",
       "\n",
       "<img src=\"tmp_2504.19434/./sigmas.png\" alt=\"Fig17\" width=\"100%\"/>\n",
       "\n",
       "**Figure 17. -** { Fitting results for the fiducial temperature assumption.}(a) Gas (blue) and dust (orange) surface density profiles. The dust surface density is multiplied by 100 for visibility purposes. The black bar at the upper right corner indicates the spatial resolution of the CO image. (b) Midplane gas pressure profile (blue) with an arbitrarily scaled dust surface density profile (orange). The dust surface density peaks at the gas pressure maximum.\n",
       "    Note that there are uncertainties from the undetermined $X_{\\rm CO}$ in panels (a) and (b).\n",
       "    (c) Gas surface density profile for various $X_{\\rm CO}$ with criteria for gravitational instability and streaming instability.  (*fig:sigmas_and_T*)\n",
       "\n",
       "</div>\n",
       "<div id=\"div_fig3\">\n",
       "\n",
       "<img src=\"tmp_2504.19434/./onedspec.png\" alt=\"Fig2\" width=\"100%\"/>\n",
       "\n",
       "**Figure 2. -**  Radially averaged spectrum at $r=0$\\farcs$4-0$\\farcs$8$(see Figure \\ref{fig:teardrop}). The lower panel shows the zoom-in view of the upper panel. Colored lines indicate models with different gas surface densities as discussed in Section \\ref{sec:gas_res} (*fig:spec*)\n",
       "\n",
       "</div><div id=\"qrcode\"><img src=https://api.qrserver.com/v1/create-qr-code/?size=100x100&data=\"https://arxiv.org/abs/2504.19434\"></div>"
      ],
      "text/plain": [
       "<IPython.core.display.Markdown object>"
      ]
     },
     "metadata": {},
     "output_type": "display_data"
    },
    {
     "data": {
      "text/markdown": [
       "<div class=\"macros\" style=\"visibility:hidden;\">\n",
       "$\\newcommand{\\ensuremath}{}$\n",
       "$\\newcommand{\\xspace}{}$\n",
       "$\\newcommand{\\object}[1]{\\texttt{#1}}$\n",
       "$\\newcommand{\\farcs}{{.}''}$\n",
       "$\\newcommand{\\farcm}{{.}'}$\n",
       "$\\newcommand{\\arcsec}{''}$\n",
       "$\\newcommand{\\arcmin}{'}$\n",
       "$\\newcommand{\\ion}[2]{#1#2}$\n",
       "$\\newcommand{\\textsc}[1]{\\textrm{#1}}$\n",
       "$\\newcommand{\\hl}[1]{\\textrm{#1}}$\n",
       "$\\newcommand{\\footnote}[1]{}$\n",
       "$\\newcommand{\\flechas}{\\textsc{flechas}\\xspace}$\n",
       "$\\newcommand{\\hl}$\n",
       "$\\newcommand{\\thefootnote}{\\alph{footnote}}$</div>\n",
       "\n",
       "\n",
       "\n",
       "<div id=\"title\">\n",
       "\n",
       "# SHINS, the SHARK-NIR Instrument Control Software\n",
       "\n",
       "</div>\n",
       "<div id=\"comments\">\n",
       "\n",
       "[![arXiv](https://img.shields.io/badge/arXiv-2504.19709-b31b1b.svg)](https://arxiv.org/abs/2504.19709)<mark>Appeared on: 2025-04-29</mark> -  _26 pages, 20 figures. Accepted for publication in JATIS_\n",
       "\n",
       "</div>\n",
       "<div id=\"authors\">\n",
       "\n",
       "Davide~Ricci, et al.\n",
       "\n",
       "</div>\n",
       "<div id=\"abstract\">\n",
       "\n",
       "**Abstract:** SHARK-NIR is a new compact instrument for coronagraphic imaging,  direct imaging, and coronagraphic spectroscopy in the near-infrared  wavelengths ( $0.96$ -- $1.7\\um$ ) mounted at the left bent Gregorian  focus of the Large Binocular Telescope (LBT).  Taking advantage of the telescope's adaptive optics  system 2016SPIE.9909E..3VP , it provides high contrast imaging  with coronagraphic and spectroscopic capabilities and is focused on  the direct imaging of exoplanets and circumstellar discs.  We present SHINS, the SHARK-NIR instrument control software, mainly  realized with the TwiceAsNice framework from MPIA - Heidelberg and  the Internet Communications Engine (ICE) framework using the \\texttt{C++} programming language.  We describe how we implemented  the software components controlling several instrument subsystems,  through the adaptation of already tested libraries from other  instruments at LBT, such as LINC-NIRVANA.  The scientific detector comes with its own readout electronic and  control software interfaced with our software through  Instrument-Neutral Distributed Interface (INDI) $\\footnote{\\hl{Downey,    E. C., \"INDI: Instrument-Neutral Distributed Interface.,\" (2007)}    \\url{http://www.clearskyinstitute.com/INDI/INDI.pdf}}$ .  We describe the \\texttt{C++} core software Observation Control  Software, responsible for dispatching commands to the subsystems,  also implementing a software solution to avoid a potential collision  between motorized components, fully transparent to final users. It  exposes an ICE interface and can be controlled by clients developed  in different languages.  Observation, calibration, and maintenance procedures are implemented  by means of template scripts, written in \\texttt{python} language,  controlling Observation Control Software through its ICE  interface. These templates and their parameters are configured using  \"ESO-style\", \\texttt{XML} Observation Blocks (OBs) prepared by  observers, or in general SHARK-NIR users.  The high-level control is carried out by REST HTTP APIs implemented  in a \\texttt{python} back-end, also acting as a web server for the  several browser-based front-end Graphical User Interfaces, that  allow the OBs to edit and sequence, as well as individual device  movement and monitoring.  Finally, we present the first scientific results obtained by  SHARK-NIR using coronagraphic mode.\n",
       "\n",
       "</div>\n",
       "\n",
       "<div id=\"div_fig1\">\n",
       "\n",
       "<img src=\"tmp_2504.19709/./shark-opto-2.png\" alt=\"Fig1\" width=\"100%\"/>\n",
       "\n",
       "**Figure 1. -**  Schematic view of SHARK-NIR,\n",
       "    $\\hl${replicated three times following the three principal \"light\n",
       "      paths\".\n",
       "      The top part shows the path of the light from a\n",
       "      celestial source through until the science detector, and highlights\n",
       "      the tracking devices.\n",
       "      The middle part shows the the path from an internal calibration\n",
       "      lamp through a fiber deployer, which are two of the components\n",
       "      of the calibration unit.\n",
       "      The bottom part is focused on the internal adaptive optics loop\n",
       "      system of the instrument.\n",
       "    }\n",
       "    See Sect. \\ref{sec:introduction} for details.  (*fig:shark-opto*)\n",
       "\n",
       "</div>\n",
       "<div id=\"div_fig2\">\n",
       "\n",
       "<img src=\"tmp_2504.19709/./shark-network.png\" alt=\"Fig2\" width=\"100%\"/>\n",
       "\n",
       "**Figure 2. -**  How the SHARK-NIR devices $\\hl${(gray\n",
       "    boxes), workstations (pink boxes), and TCS (olive green box),\n",
       "    described} in Sect. \\ref{sec:introduction}, are controlled by\n",
       "    Control Electronics and interfaced in the Control Network to the\n",
       "    Instrument workstation. The location of the hardware is also\n",
       "    specified in clear between dotted lines. See\n",
       "    Sect. \\ref{sec:control-electronics}-\\ref{sec:control-network} for\n",
       "    details.  (*fig:shark-network*)\n",
       "\n",
       "</div>\n",
       "<div id=\"div_fig3\">\n",
       "\n",
       "<img src=\"tmp_2504.19709/./dev.png\" alt=\"Fig5.1\" width=\"33%\"/><img src=\"tmp_2504.19709/./rtc.png\" alt=\"Fig5.2\" width=\"33%\"/><img src=\"tmp_2504.19709/./obs.png\" alt=\"Fig5.3\" width=\"33%\"/>\n",
       "\n",
       "**Figure 5. -**  Devices and Synoptic panel overview. See\n",
       "    \"A\" (Fig. \\ref{fig:devices}) and\n",
       "    \"B\" (Fig. \\ref{fig:synoptic})\n",
       "    for details.  RTC Engineering panel overview. See\n",
       "    \"A\" (Fig. \\ref{fig:rtc-cred}),\n",
       "    \"B\" (Fig. \\ref{fig:rtc-dm}),\n",
       "    \"C\" (Fig. \\ref{fig:rtc-cloud}), and\n",
       "    \"D\" (Fig. \\ref{fig:rtc-control})\n",
       "    for details.   Observation panel overview. Details in\n",
       "    \"A\" (Fig. \\ref{fig:dm}),\n",
       "    \"B\" (Fig. \\ref{fig:pdu}),\n",
       "    \"C\" (Fig. \\ref{fig:scicam}),\n",
       "    \"D\" (Fig. \\ref{fig:preset}),\n",
       "    \"E\" (Fig. \\ref{fig:operations}).\n",
       "   (*fig:dev*)\n",
       "\n",
       "</div><div id=\"qrcode\"><img src=https://api.qrserver.com/v1/create-qr-code/?size=100x100&data=\"https://arxiv.org/abs/2504.19709\"></div>"
      ],
      "text/plain": [
       "<IPython.core.display.Markdown object>"
      ]
     },
     "metadata": {},
     "output_type": "display_data"
    },
    {
     "data": {
      "text/markdown": [
       "<div class=\"macros\" style=\"visibility:hidden;\">\n",
       "$\\newcommand{\\ensuremath}{}$\n",
       "$\\newcommand{\\xspace}{}$\n",
       "$\\newcommand{\\object}[1]{\\texttt{#1}}$\n",
       "$\\newcommand{\\farcs}{{.}''}$\n",
       "$\\newcommand{\\farcm}{{.}'}$\n",
       "$\\newcommand{\\arcsec}{''}$\n",
       "$\\newcommand{\\arcmin}{'}$\n",
       "$\\newcommand{\\ion}[2]{#1#2}$\n",
       "$\\newcommand{\\textsc}[1]{\\textrm{#1}}$\n",
       "$\\newcommand{\\hl}[1]{\\textrm{#1}}$\n",
       "$\\newcommand{\\footnote}[1]{}$\n",
       "$\\newcommand{\\vdag}{(v)^\\dagger}$\n",
       "$\\newcommand$\n",
       "$\\newcommand$</div>\n",
       "\n",
       "\n",
       "\n",
       "<div id=\"title\">\n",
       "\n",
       "# exoALMA. XVI. Predicting Signatures of Large-scale Turbulence in Protoplanetary Disks\n",
       "\n",
       "</div>\n",
       "<div id=\"comments\">\n",
       "\n",
       "[![arXiv](https://img.shields.io/badge/arXiv-2504.19853-b31b1b.svg)](https://arxiv.org/abs/2504.19853)<mark>Appeared on: 2025-04-29</mark> -  _This paper is part of the exoALMA Focus Issue of The Astrophysical Journal Letters. 29 pages, 11 figures and 1 table_\n",
       "\n",
       "</div>\n",
       "<div id=\"authors\">\n",
       "\n",
       "M. Barraza-Alfaro, et al. -- incl., <mark>M. Flock</mark>, <mark>M. Benisty</mark>, <mark>D. Fasano</mark>\n",
       "\n",
       "</div>\n",
       "<div id=\"abstract\">\n",
       "\n",
       "**Abstract:** Turbulent gas motions drive planet formation and protoplanetary disk evolution. However, empirical constraints on turbulence are scarce, halting our understanding of its nature.Resolving signatures of the large-scale perturbations driven by disk instabilities may reveal clues on the origin of turbulence in the outer regions of planet-forming disks.We aim to predict the observational signatures of such large-scale flows, as they would appear in high-resolution Atacama Large Millimeter/submillimeter Array observations of CO rotational lines, such as those conducted by the exoALMA Large Program.Post-processing 3D numerical simulations, we explored the observational signatures produced by three candidate (magneto-)hydrodynamical instabilities to operate in the outer regions of protoplanetary disks: the vertical shear instability (VSI), the magneto-rotational instability (MRI), and the gravitational instability (GI). We found that exoALMA-quality observations should capture signatures of the large-scale motions induced by these instabilities. Mainly, flows with ring, arc, and spiral morphologies are apparent in the residuals of synthetic velocity centroid maps.A qualitative comparison between our predictions and the perturbations recovered from exoALMA data suggests the presence of two laminar disks and a scarcity of ring- and arc-like VSI signatures within the sample. Spiral features produced by the MRI or the GI are still plausible in explaining observed disk perturbations. Supporting these scenarios requires further methodically comparing the predicted perturbations and the observed disks' complex dynamic structure.\n",
       "\n",
       "</div>\n",
       "\n",
       "<div id=\"div_fig1\">\n",
       "\n",
       "<img src=\"tmp_2504.19853/./Simulation_Fields_Z2.5H.png\" alt=\"Fig7\" width=\"100%\"/>\n",
       "\n",
       "**Figure 7. -** Cartesian view of the disk perturbations at $Z\\sim 2.5H$ for the HD (top), MHD (middle), and SGHD (bottom) simulations, with active VSI, MRI, and GI, respectively. From left to right, are shown perturbations in the gas density, radial velocity, meridional velocity and azimuthal velocity. The color bar limits are adjusted for each instability. (*fig:simulationssurface*)\n",
       "\n",
       "</div>\n",
       "<div id=\"div_fig2\">\n",
       "\n",
       "<img src=\"tmp_2504.19853/./Model_Residuals_v0.png\" alt=\"Fig9\" width=\"100%\"/>\n",
       "\n",
       "**Figure 9. -** Line centroid map residuals of the disk velocity relative to its rotation from *raw*$\\rm ^{12}CO(3-2)$ predictions of disks unstable to the VSI, MRI and GI, assuming a perfect background subtraction of the disk rotation. The raw images have a $26$ m s$^{-1}$ velocity resolution. From left to right, different disk inclinations are shown. The models consider only the upper (or front) disk hemisphere, and the disk rotation is counterclockwise in the sky. The color bar limits have been adjusted for each instability. (*fig:nonkeplerian*)\n",
       "\n",
       "</div>\n",
       "<div id=\"div_fig3\">\n",
       "\n",
       "<img src=\"tmp_2504.19853/./Model_Channel_Maps.png\" alt=\"Fig8\" width=\"100%\"/>\n",
       "\n",
       "**Figure 8. -** Selected channel maps from $\\rm ^{12}CO(3-2)$ predictions of disks unstable to the VSI, MRI and GI, for an disk inclination of $30^{\\circ}$. The left $2.5$ panels show the raw product, while the right $2.5$ panels include the effect of the spatial resolution ($35$ mas FWHM Gaussian beam), spectral resolution ($104$ m s$^{-1}$ channel spacing), and sensitivity of exoALMA. The models only consider the upper (or front) CO layer. (*fig:chanelmaps*)\n",
       "\n",
       "</div><div id=\"qrcode\"><img src=https://api.qrserver.com/v1/create-qr-code/?size=100x100&data=\"https://arxiv.org/abs/2504.19853\"></div>"
      ],
      "text/plain": [
       "<IPython.core.display.Markdown object>"
      ]
     },
     "metadata": {},
     "output_type": "display_data"
    },
    {
     "data": {
      "text/markdown": [
       "<div class=\"macros\" style=\"visibility:hidden;\">\n",
       "$\\newcommand{\\ensuremath}{}$\n",
       "$\\newcommand{\\xspace}{}$\n",
       "$\\newcommand{\\object}[1]{\\texttt{#1}}$\n",
       "$\\newcommand{\\farcs}{{.}''}$\n",
       "$\\newcommand{\\farcm}{{.}'}$\n",
       "$\\newcommand{\\arcsec}{''}$\n",
       "$\\newcommand{\\arcmin}{'}$\n",
       "$\\newcommand{\\ion}[2]{#1#2}$\n",
       "$\\newcommand{\\textsc}[1]{\\textrm{#1}}$\n",
       "$\\newcommand{\\hl}[1]{\\textrm{#1}}$\n",
       "$\\newcommand{\\footnote}[1]{}$\n",
       "$\\newcommand{\\vdag}{(v)^\\dagger}$\n",
       "$\\newcommand$\n",
       "$\\newcommand$\n",
       "$\\newcommand{\\ai}[1]{\\textcolor{red}{#1}}$</div>\n",
       "\n",
       "\n",
       "\n",
       "<div id=\"title\">\n",
       "\n",
       "# exoALMA XI: ALMA Observations and Hydrodynamic Models of LkCa 15: Implications for Planetary Mass Companions in the Dust Continuum Cavity    \n",
       "\n",
       "</div>\n",
       "<div id=\"comments\">\n",
       "\n",
       "[![arXiv](https://img.shields.io/badge/arXiv-2504.19868-b31b1b.svg)](https://arxiv.org/abs/2504.19868)<mark>Appeared on: 2025-04-29</mark> -  _23 pages, 12 Figures. This letter was accepted for publication in The Astrophysical Journal Letters. This paper is part of the exoALMA Focus Issue of The Astrophysical Journal Letters_\n",
       "\n",
       "</div>\n",
       "<div id=\"authors\">\n",
       "\n",
       "C. H. Gardner, et al. -- incl., <mark>M. Benisty</mark>, <mark>D. Fasano</mark>, <mark>M. Flock</mark>\n",
       "\n",
       "</div>\n",
       "<div id=\"abstract\">\n",
       "\n",
       "**Abstract:** In the past decade, the Atacama Large Millimeter/submillimeter Array (ALMA) has revealed a plethora of substructures in the disks surrounding young stars.These substructures have several proposed formation mechanisms, with one leading theory being the interaction between the disk and newly formed planets.In this Letter, we present high angular resolution ALMA observations of LkCa 15's disk that reveal a striking difference in dust and CO emission morphology.The dust continuum emission shows a ring-like structure characterized by a dust-depleted inner region of $\\sim$ 40 au in radius.Conversely, the CO emission is radially smoother and shows no sign of gas depletion within the dust cavity.We compare the observations with models for the disk-planet interaction, including radiative transfer calculation in the dust and CO emission.This source is particularly interesting as the presence of massive planets within the dust cavity has been suggested based on previous NIR observations.We find that the level of CO emission observed within the dust cavity is inconsistent with the presence of planets more massive than Jupiter orbiting between 10-40 au.Instead, we argue that the LkCa 15 innermost dust cavity might be created either by a chain of low-mass planets, or by other processes that do not require the presence of planets.\n",
       "\n",
       "</div>\n",
       "\n",
       "<div id=\"div_fig1\">\n",
       "\n",
       "<img src=\"tmp_2504.19868/./continuum_figure.png\" alt=\"Fig3\" width=\"100%\"/>\n",
       "\n",
       "**Figure 3. -** Left: The 0.87 mm continuum image of LkCa 15's disk obtained with _robust_$=0.7$ corresponding to a beam FWHM of $0.049$\\arcsec$\\times0.028$\\arcsec$$. The disk exhibits a three-ringed morphology with a faint inner ring, a bright middle ring, and an intermediate brightness outer ring. A continuum contour at 5 times the rms noise of 11 $\\mu$Jy beam$^{-1}$ shows the size of the dust cavity and extent of the disk at this wavelength.  The synthesized beam of the continuum image is shown in the bottom left corner. Center: A zoom-in on the same continuum image with contours of 5, 10, 20, 25, 30, 50, and 75 times the rms noise. Key features are labeled, including the proposed co-rotational material from [Long, Andrews and Zhang (2022)]() and some emission identified within the cavity and described more fully in the text. Additionally, the locations of the proposed LkCa 15 b and c  ([Sallum, Follette and Eisner 2015]())  are marked with a white $+$ and white $\\times$, respectively. The red $+$ and red $\\times$ denote instead where the planets would be 5 years later ($\\sim$ the difference in time between [Sallum, Follette and Eisner (2015)]() and ALMA epochs), assuming Keplerian rotation and circular orbits. The central source is marked with a white star. Right: The same as the middle panel but using the _robust_=0.9 image and its rms noise (10.4 $\\mu$Jy beam$^{-1}$). Contours are 3, 5, 10, 20, 25, 30, 50, and 75 times the rms noise. The beam size of 0.055$\\arcsec$$\\times$0.031$\\arcsec$ is shown in the bottom corner. More faint emissions can be seen in the cavity in this image due to the higher sensitivity provided by the weighting scheme. A bridge of emission connecting the central source to the disk is also revealed. (*fig:cont*)\n",
       "\n",
       "</div>\n",
       "<div id=\"div_fig2\">\n",
       "\n",
       "<img src=\"tmp_2504.19868/./model_vs_observation_three_panel.png\" alt=\"Fig5\" width=\"100%\"/>\n",
       "\n",
       "**Figure 5. -** Comparing the azimuthally averaged radial intensity profiles from our models to the observations. In all panels the filled circles show the radial profile of the dust continuum emission while colored lines show profiles from the models. Vertical dashed lines show the orbital radii of the three planets in the model. Left: continuum models with the lowest $\\chi^{2}$ values from our model grid characterized by fixed planets' orbital radii. Middle: reducing the mass of Planet 2 results in too much dust emission within 70 au. Right: relaxing the assumption of fixed radii allows for the planets to be placed at locations that better reproduce the observations. (*fig:mod_cont_rad*)\n",
       "\n",
       "</div>\n",
       "<div id=\"div_fig3\">\n",
       "\n",
       "<img src=\"tmp_2504.19868/./CO_observation_vs_models_initial_vs_evolved.png\" alt=\"Fig7\" width=\"100%\"/>\n",
       "\n",
       "**Figure 7. -** Left: The peak intensity map of CO emission recorded toward LkCa15 converted to brightness temperature. This is the same image shown in Figure \\ref{fig:moment}. Center: CO peak intensity map of the disk with no planets included. The resemblance between this image and the observations indicates that a disk with no planets can approximate the observed CO emission. Right: CO peak intensity map of the reference model discussed in Section \\ref{subsec:model:cont} with a 3.8 M$_\\mathrm{J}$ inner planet. We mark the locations of the planets in this model with white dots as in Figure \\ref{fig:mod_cont_im}. In this model, the effect of the massive planet is clearly visible in the CO emission and shows that a massive planet is not consistent with the observations. The corresponding surface density maps are shown in Figure \\ref{fig:sigma_gas}. (*fig:mod_temp_im*)\n",
       "\n",
       "</div><div id=\"qrcode\"><img src=https://api.qrserver.com/v1/create-qr-code/?size=100x100&data=\"https://arxiv.org/abs/2504.19868\"></div>"
      ],
      "text/plain": [
       "<IPython.core.display.Markdown object>"
      ]
     },
     "metadata": {},
     "output_type": "display_data"
    },
    {
     "data": {
      "text/markdown": [
       "<div class=\"macros\" style=\"visibility:hidden;\">\n",
       "$\\newcommand{\\ensuremath}{}$\n",
       "$\\newcommand{\\xspace}{}$\n",
       "$\\newcommand{\\object}[1]{\\texttt{#1}}$\n",
       "$\\newcommand{\\farcs}{{.}''}$\n",
       "$\\newcommand{\\farcm}{{.}'}$\n",
       "$\\newcommand{\\arcsec}{''}$\n",
       "$\\newcommand{\\arcmin}{'}$\n",
       "$\\newcommand{\\ion}[2]{#1#2}$\n",
       "$\\newcommand{\\textsc}[1]{\\textrm{#1}}$\n",
       "$\\newcommand{\\hl}[1]{\\textrm{#1}}$\n",
       "$\\newcommand{\\footnote}[1]{}$\n",
       "$\\newcommand{\\vdag}{(v)^\\dagger}$\n",
       "$\\newcommand$\n",
       "$\\newcommand$\n",
       "$\\newcommand{\\SF}[1]{\\textcolor{olive}{#1}}$\n",
       "$\\newcommand{\\Fig}[1]{\\textcolor{red}{#1}}$\n",
       "$\\newcommand{\\MB}[1]{\\textcolor{magenta}{#1}}$\n",
       "$\\newcommand{\\JI}[1]{\\textcolor{orange}{#1}}$</div>\n",
       "\n",
       "\n",
       "\n",
       "<div id=\"title\">\n",
       "\n",
       "# exoALMA II: Data Calibration and Imaging Pipeline\n",
       "\n",
       "</div>\n",
       "<div id=\"comments\">\n",
       "\n",
       "[![arXiv](https://img.shields.io/badge/arXiv-2504.19870-b31b1b.svg)](https://arxiv.org/abs/2504.19870)<mark>Appeared on: 2025-04-29</mark> -  _24 pages, 10 figures. This paper is accepted as part of the exoALMA Focus Issue of The Astrophysical Journal Letters_\n",
       "\n",
       "</div>\n",
       "<div id=\"authors\">\n",
       "\n",
       "R. A. Loomis, et al. -- incl., <mark>M. Benisty</mark>, <mark>D. Fasano</mark>, <mark>M. Flock</mark>\n",
       "\n",
       "</div>\n",
       "<div id=\"abstract\">\n",
       "\n",
       "**Abstract:** The exoALMA Large Program was designed to search for subtle kinematic deviations from Keplerian motion, indicative of embedded planets, in high angular and spectral resolution Band 7 observations of $^{12}$ CO, $^{13}$ CO and CS emission from protoplanetary disks. This paper summarizes the calibration and imaging pipelines used by the exoALMA collaboration. With sources ranging in diameter from $2.4\\arcsec$ to $13.8\\arcsec$ when probed by $^{12}$ CO, multiple antennae configurations were required to maximally recover all spatial information (including the ACA for 7 sources). Combining these datasets warranted particular care in their alignment during calibration and prior to imaging, so as not to introduce spurious features that might resemble the kinematic deviations being investigated. Phase decoherence was found in several datasets, which was corrected by an iterative self-calibration procedure, and we explored the effects of the order of operations of spatial alignment, flux scaling, and self-calibration.  A number of different imaging sets were produced for the continuum and line emission, employing an iterative masking procedure that minimizes bias due to non-Keplerian motions in the disk.\n",
       "\n",
       "</div>\n",
       "\n",
       "<div id=\"div_fig1\">\n",
       "\n",
       "<img src=\"tmp_2504.19870/./figures/uvcoverage_LkCa_15.png\" alt=\"Fig1\" width=\"100%\"/>\n",
       "\n",
       "**Figure 1. -** $uv$-coverage of the LkCa 15 dataset. The visibilities in the plot are binned in 30 s intervals. Three LB EBs were executed back-to-back, yielding optimal hour angle spanning and $uv$-coverage for such a low elevation source. Note that the final combined $uv$-coverage results in a PSF that is non-Gaussian \\citep[see e.g.,][]{Czekala_ea_2021}, discussed further in \\ref{sec:imaging:weighting}. (*fig:uvcoverage_LkCa15*)\n",
       "\n",
       "</div>\n",
       "<div id=\"div_fig2\">\n",
       "\n",
       "<img src=\"tmp_2504.19870/./figures/exoALMA_calibration_workflow.png\" alt=\"Fig3\" width=\"100%\"/>\n",
       "\n",
       "**Figure 3. -** exoALMA calibration workflow. Individual MOUS datasets are color coded (ACA, LB, SB), and referred to with no spacing (e.g. (ACA)SBLB) when concatenated. (*fig:workflow*)\n",
       "\n",
       "</div>\n",
       "<div id=\"div_fig3\">\n",
       "\n",
       "<img src=\"tmp_2504.19870/./figures/improvement_decoherence_PDS_66_v2.png\" alt=\"Fig6\" width=\"100%\"/>\n",
       "\n",
       "**Figure 6. -** Example of improvement of phase coherence. Visibility amplitude ratio as a function of deprojected baselines for PDS 66 between LB EB0 and LB EB1 (reference) at different rounds of SB+LB self-calibration after flux rescaling. (*fig:fixed_decoherence*)\n",
       "\n",
       "</div><div id=\"qrcode\"><img src=https://api.qrserver.com/v1/create-qr-code/?size=100x100&data=\"https://arxiv.org/abs/2504.19870\"></div>"
      ],
      "text/plain": [
       "<IPython.core.display.Markdown object>"
      ]
     },
     "metadata": {},
     "output_type": "display_data"
    },
    {
     "data": {
      "text/markdown": [
       "<div class=\"macros\" style=\"visibility:hidden;\">\n",
       "$\\newcommand{\\ensuremath}{}$\n",
       "$\\newcommand{\\xspace}{}$\n",
       "$\\newcommand{\\object}[1]{\\texttt{#1}}$\n",
       "$\\newcommand{\\farcs}{{.}''}$\n",
       "$\\newcommand{\\farcm}{{.}'}$\n",
       "$\\newcommand{\\arcsec}{''}$\n",
       "$\\newcommand{\\arcmin}{'}$\n",
       "$\\newcommand{\\ion}[2]{#1#2}$\n",
       "$\\newcommand{\\textsc}[1]{\\textrm{#1}}$\n",
       "$\\newcommand{\\hl}[1]{\\textrm{#1}}$\n",
       "$\\newcommand{\\footnote}[1]{}$\n",
       "$\\newcommand{\\vdag}{(v)^\\dagger}$\n",
       "$\\newcommand$\n",
       "$\\newcommand$\n",
       "$\\newcommand{\\discminer}{\\textsc{discminer}}$\n",
       "$\\newcommand{\\disksurf}{\\texttt{disksurf}}$\n",
       "$\\newcommand{\\gofish}{\\texttt{GoFish}}$\n",
       "$\\newcommand{\\zr}{\\langle z / r \\rangle}$\n",
       "$\\newcommand{\\linmix}{\\texttt{linmix}}$\n",
       "$\\newcommand$\n",
       "$\\newcommand{\\maria}[1]{#1}$\n",
       "$\\newcommand{\\mariatwo}[1]{#1}$\n",
       "$\\newcommand{\\newcite}[1]{\\textcolor{red}{\\textbf{#1}}}$</div>\n",
       "\n",
       "\n",
       "\n",
       "<div id=\"title\">\n",
       "\n",
       "# exoALMA V: Gaseous Emission Surfaces and Temperature Structures\n",
       "\n",
       "</div>\n",
       "<div id=\"comments\">\n",
       "\n",
       "[![arXiv](https://img.shields.io/badge/arXiv-2504.19902-b31b1b.svg)](https://arxiv.org/abs/2504.19902)<mark>Appeared on: 2025-04-29</mark> -  _This paper is part of the exoALMA Focus Issue of The Astrophysical Journal Letters_\n",
       "\n",
       "</div>\n",
       "<div id=\"authors\">\n",
       "\n",
       "M. Galloway-Sprietsma, et al. -- incl., <mark>M. Benisty</mark>, <mark>D. Fasano</mark>, <mark>M. Flock</mark>\n",
       "\n",
       "</div>\n",
       "<div id=\"abstract\">\n",
       "\n",
       "**Abstract:** Analysis of the gaseous component in protoplanetary disks can inform us about their thermal and physical structure, chemical composition, and kinematic properties, all of which are crucial for understanding various processes within the disks.By exploiting the asymmetry of the line emission, or via line profile analysis, we can locate the emitting surfaces.Here, we present the emission surfaces of the exoALMA sources in $^{12}$ CO $J=3-2$ , $^{13}$ CO $J=3-2$ , and CS $J=7-6$ . We find that $^{12}$ CO traces the upper disk atmosphere, with mean $\\zr$ values of $\\approx$ 0.28, while $^{13}$ CO and CS trace lower regions of the disk with mean $\\zr$ values of $\\approx$ 0.16 and $\\approx$ 0.18, respectively.We find that $^{12}$ CO $\\zr$ and the disk mass are positively correlated with each other; this relationship offers a straightforward way to infer the disk mass.We derive 2-D $r-z$ temperature distributions of the disks. Additionally, we search for substructure in the surfaces and radial intensity profiles; we find evidence of localized substructure in the emission surfaces and peak intensity profiles of nearly every disk, with this substructure often being co-incident between molecular tracers, intensity profiles, and kinematic perturbations. Four disks display evidence of potential photo-desorption, implying that this effect may be common even in low FUV star-forming regions. For most disks, we find that the physical and thermal structure is more complex than analytical models can account for, highlighting a need for more theoretical work and a better understanding of the role of projection effects on our observations.\n",
       "\n",
       "</div>\n",
       "\n",
       "<div id=\"div_fig1\">\n",
       "\n",
       "<img src=\"tmp_2504.19902/./exoALMA_emissionsurfaces_12co.png\" alt=\"Fig11\" width=\"100%\"/>\n",
       "\n",
       "**Figure 11. -** Non-parametric (data points) and parametric surfaces (solid and dashed curves) for $^{12}$CO $J=3-2$. The larger black points represent radially binned data. We exclude two disks $\\maria${(HD 135344B and J1604)} whose surfaces could not be extracted due to a face-on geometry. Background gray lines show scale heights $(z/r)$ from 0.1 to 0.6 with 0.1 increments. The darker blue solid line shows the tapered power law surface fit from $\\discminer$ , and the light blue and gray dashed line shows the tapered power law fit from $\\disksurf$ , which uses the background data points. The gray cross markers for AA Tau and SY Cha show the diffuse outer surface points that we do not include in the parametric fits. (*fig:surfaces_12co*)\n",
       "\n",
       "</div>\n",
       "<div id=\"div_fig2\">\n",
       "\n",
       "<img src=\"tmp_2504.19902/./exoALMA_all_rolling_surfaces.png\" alt=\"Fig14\" width=\"100%\"/>\n",
       "\n",
       "**Figure 14. -** Rolling surfaces made from the raw $r-z$\\disksurf  emission surface points for $^{12}$CO $J=3-2$(blue), $^{13}$CO $J=3-2$(orange), and CS $J=7-6$(pink). Vertical dashed lines denote emission surface substructure, whose identification is discussed in Section \\ref{sec:substucture}. We label dips in the emission surfaces with the nomenclature first used in [Law, Teague and Loomis (2021)](), where `Z' denotes a dip in the emission surface, followed by the radial location in au. We also plot the continuum rings (solid gray lines) and gaps (dashed gray lines) identified in [Curone, et. al (2025)]().\n",
       "    Thin background gray lines show scale heights $(z/r)$ from 0.1 to 0.6 with 0.1 increments. The beamsize of $0$\\farcs$15$ is shown in the upper right corner for each disk. AA Tau is zoomed in to better show structure. (*fig:rolling_surfaces*)\n",
       "\n",
       "</div>\n",
       "<div id=\"div_fig3\">\n",
       "\n",
       "<img src=\"tmp_2504.19902/./exoALMA_emissionsurfaces_13co.png\" alt=\"Fig12\" width=\"100%\"/>\n",
       "\n",
       "**Figure 12. -** The same as Figure \\ref{fig:surfaces_12co}, but for $^{13}$CO $J=3-2$. The orange solid line shows the tapered power law surface fit from $\\discminer$ , and the gray and peach dashed line shows the tapered power law fit from $\\disksurf$ . (*fig:surfaces_13co*)\n",
       "\n",
       "</div><div id=\"qrcode\"><img src=https://api.qrserver.com/v1/create-qr-code/?size=100x100&data=\"https://arxiv.org/abs/2504.19902\"></div>"
      ],
      "text/plain": [
       "<IPython.core.display.Markdown object>"
      ]
     },
     "metadata": {},
     "output_type": "display_data"
    },
    {
     "data": {
      "text/markdown": [
       "<div class=\"macros\" style=\"visibility:hidden;\">\n",
       "$\\newcommand{\\ensuremath}{}$\n",
       "$\\newcommand{\\xspace}{}$\n",
       "$\\newcommand{\\object}[1]{\\texttt{#1}}$\n",
       "$\\newcommand{\\farcs}{{.}''}$\n",
       "$\\newcommand{\\farcm}{{.}'}$\n",
       "$\\newcommand{\\arcsec}{''}$\n",
       "$\\newcommand{\\arcmin}{'}$\n",
       "$\\newcommand{\\ion}[2]{#1#2}$\n",
       "$\\newcommand{\\textsc}[1]{\\textrm{#1}}$\n",
       "$\\newcommand{\\hl}[1]{\\textrm{#1}}$\n",
       "$\\newcommand{\\footnote}[1]{}$\n",
       "$\\newcommand{\\Mj}{M_{\\rm Jup}}$\n",
       "$\\newcommand{\\phip}{\\phi_{p}}$\n",
       "$\\newcommand{\\kms}{km s^{-1}}$\n",
       "$\\newcommand{\\discminer}{\\textsc{discminer}}$\n",
       "$\\newcommand{\\disksurf}{\\textsc{disksurf}}$\n",
       "$\\newcommand{\\mcfost}{\\textsc{mcfost}}$\n",
       "$\\newcommand{\\radmc}{\\textsc{radmc3d}}$\n",
       "$\\newcommand{\\exoalma}{exoALMA}$\n",
       "$\\newcommand{\\filfinder}{\\textsc{FilFinder}}$\n",
       "$\\newcommand{\\twCOfull}{^{12}CO J=3-2}$\n",
       "$\\newcommand{\\twCO}{^{12}CO}$\n",
       "$\\newcommand{\\thCO}{^{13}CO}$\n",
       "$\\newcommand{\\thCOfull}{^{13}CO J=3-2}$\n",
       "$\\newcommand{\\eiCO}{C^{18}O}$\n",
       "$\\newcommand{\\eiCOfull}{C^{18}O J=3-2}$\n",
       "$\\newcommand{\\CSfull}{CS J=7-6}$\n",
       "$\\newcommand{\\aatau}{AA Tau}$\n",
       "$\\newcommand{\\cqtau}{CQ Tau}$\n",
       "$\\newcommand{\\dmtau}{DM Tau}$\n",
       "$\\newcommand{\\hdthree}{HD 34282}$\n",
       "$\\newcommand{\\hdone}{HD 135344B}$\n",
       "$\\newcommand{\\hdonefour}{HD 143006}$\n",
       "$\\newcommand{\\jfour}{J1604}$\n",
       "$\\newcommand{\\jfifteen}{J1615}$\n",
       "$\\newcommand{\\jfortytwo}{J1842}$\n",
       "$\\newcommand{\\jfiftytwo}{J1852}$\n",
       "$\\newcommand{\\lkca}{LkCa 15}$\n",
       "$\\newcommand{\\mwcsev}{MWC 758}$\n",
       "$\\newcommand{\\pdssix}{PDS 66}$\n",
       "$\\newcommand{\\sycha}{SY Cha}$\n",
       "$\\newcommand{\\vforty}{V4046 Sgr}$\n",
       "$\\newcommand{\\arraystretch}{0.9}$\n",
       "$\\newcommand{\\arraystretch}{0.95}$\n",
       "$\\newcommand{\\arraystretch}{0.95}$</div>\n",
       "\n",
       "\n",
       "\n",
       "<div id=\"title\">\n",
       "\n",
       "# exoALMA III: Line-intensity Modeling and System Property Extraction from Protoplanetary Disks\n",
       "\n",
       "</div>\n",
       "<div id=\"comments\">\n",
       "\n",
       "[![arXiv](https://img.shields.io/badge/arXiv-2504.19986-b31b1b.svg)](https://arxiv.org/abs/2504.19986)<mark>Appeared on: 2025-04-29</mark> -  _This paper is part of the exoALMA Focus Issue of The Astrophysical Journal Letters_\n",
       "\n",
       "</div>\n",
       "<div id=\"authors\">\n",
       "\n",
       "A. F. Izquierdo, et al. -- incl., <mark>M. Benisty</mark>, <mark>D. Fasano</mark>, <mark>M. Flock</mark>, <mark>I. Hammond</mark>\n",
       "\n",
       "</div>\n",
       "<div id=\"abstract\">\n",
       "\n",
       "**Abstract:** The ALMA large program $\\exoalma$ offers a unique window into the three-dimensional physical and dynamical properties of 15 circumstellar discs where planets may be actively forming. Here, we present an analysis methodology to map the gas disc structure and substructure encoded in $\\twCO$ , $\\thCO$ , and CS line emission from our targets. To model and characterize the disc structure probed by optically thin species, such as CS and, in some cases, $\\thCO$ , we introduce a composite line profile kernel that accounts for increased intensities caused by the projected overlap between the disc's front and back side emission.Our workflow, built on the $\\discminer$ modelling framework, incorporates an improved iterative two-component fitting method for inclined sources ( $i>40^\\circ$ ), to mitigate the impact of the disc backside on the extraction of velocity maps. Also, we report best-fit parameters for the Keplerian stellar masses, as well as inclinations, position angles, systemic velocities, rotation direction, and emission surfaces of the discs in our sample.\n",
       "\n",
       "</div>\n",
       "\n",
       "<div id=\"div_fig1\">\n",
       "\n",
       "<img src=\"tmp_2504.19986/./figures/hd135344/channel_maps_hd135344_allmol.png\" alt=\"Fig11\" width=\"100%\"/>\n",
       "\n",
       "**Figure 11. -** Selected $\\twCO$(top), $\\thCO$(middle), and CS (bottom) intensity channels for the disc of $\\hdone$ . Each panel displays, from top to bottom, the channel maps for the data, the best-fit model, and the corresponding residuals, with residuals below three times the rms noise whited out. Peak intensity maps and residuals are shown in the leftmost column of each panel. Solid and dashed lines overlaid on the channel maps represent isovelocity contours from the model's front and back sides.\n",
       "               (*fig:channel_maps_hd135344*)\n",
       "\n",
       "</div>\n",
       "<div id=\"div_fig2\">\n",
       "\n",
       "<img src=\"tmp_2504.19986/./figures/lkca15/channel_maps_lkca15_allmol.png\" alt=\"Fig12\" width=\"100%\"/>\n",
       "\n",
       "**Figure 12. -** Same as Figure \\ref{fig:channel_maps_hd135344}, but for the disc of $\\lkca$ . The $\\thCO$  and CS models are assumed to be optically thin and therefore use a `sum' kernel to combine the contributions of the front and back sides to the total intensity (see Sects. \\ref{sec:models} and \\ref{sec:single_moments} for details). CS isovelocity contours are shown in yellow to highlight regions where increased intensity results from overlapping column densities of the front and back sides at matching line-of-sight velocities.\n",
       "               (*fig:channel_maps_lkca15*)\n",
       "\n",
       "</div>\n",
       "<div id=\"div_fig3\">\n",
       "\n",
       "<img src=\"tmp_2504.19986/./figures/flowchart_data_vs_model_v0p3.png\" alt=\"Fig5\" width=\"100%\"/>\n",
       "\n",
       "**Figure 5. -** Flowchart illustrating the extraction of line profile properties for $\\twCOfull$  emission from the disc of $\\lkca$ .\n",
       "               (*fig:flowchart*)\n",
       "\n",
       "</div><div id=\"qrcode\"><img src=https://api.qrserver.com/v1/create-qr-code/?size=100x100&data=\"https://arxiv.org/abs/2504.19986\"></div>"
      ],
      "text/plain": [
       "<IPython.core.display.Markdown object>"
      ]
     },
     "metadata": {},
     "output_type": "display_data"
    },
    {
     "data": {
      "text/markdown": [
       "<div class=\"macros\" style=\"visibility:hidden;\">\n",
       "$\\newcommand{\\ensuremath}{}$\n",
       "$\\newcommand{\\xspace}{}$\n",
       "$\\newcommand{\\object}[1]{\\texttt{#1}}$\n",
       "$\\newcommand{\\farcs}{{.}''}$\n",
       "$\\newcommand{\\farcm}{{.}'}$\n",
       "$\\newcommand{\\arcsec}{''}$\n",
       "$\\newcommand{\\arcmin}{'}$\n",
       "$\\newcommand{\\ion}[2]{#1#2}$\n",
       "$\\newcommand{\\textsc}[1]{\\textrm{#1}}$\n",
       "$\\newcommand{\\hl}[1]{\\textrm{#1}}$\n",
       "$\\newcommand{\\footnote}[1]{}$\n",
       "$\\newcommand{\\vdag}{(v)^\\dagger}$\n",
       "$\\newcommand$\n",
       "$\\newcommand$\n",
       "$\\newcommand{\\gr}[1]{\\textbf{\\color{cyan}GR: #1}}$\n",
       "$\\newcommand{\\cl}[1]{\\textbf{\\color{green} #1}}$\n",
       "$\\newcommand{\\discminer}{\\textsc{discminer} }$\n",
       "$\\newcommand{\\disksurf}{\\texttt{disksurf} }$</div>\n",
       "\n",
       "\n",
       "\n",
       "<div id=\"title\">\n",
       "\n",
       "# exoALMA XV: Interpreting the height of CO emission layer\n",
       "\n",
       "</div>\n",
       "<div id=\"comments\">\n",
       "\n",
       "[![arXiv](https://img.shields.io/badge/arXiv-2504.20012-b31b1b.svg)](https://arxiv.org/abs/2504.20012)<mark>Appeared on: 2025-04-29</mark> -  _23 pages, 12 figures. This paper is part of the exoALMA Focus Issue of The Astrophysical Journal Letters available at this https URL_\n",
       "\n",
       "</div>\n",
       "<div id=\"authors\">\n",
       "\n",
       "G. P. Rosotti, et al. -- incl., <mark>M. Benisty</mark>, <mark>D. Fasano</mark>, <mark>M. Flock</mark>\n",
       "\n",
       "</div>\n",
       "<div id=\"abstract\">\n",
       "\n",
       "**Abstract:** The availability of exquisite data and the development of new analysis techniques have enabled the study of emitting heights in proto-planetary disks. In this paper we introduce a simple model linking the emitting height of CO to the disk surface density and temperature structure. We then apply the model to measurements of the emitting height and disk temperature conducted as part of exoALMA, integrated with additional legacy measurements from the MAPS Large Programme, to derive CO column densities and surface density profiles (assuming a CO abundance) for a total of 14 disks. A unique feature of the method we introduce to measure surface densities is that it can be applied to optically thick observations, rather than optically thin as conventionally done. While we use our method on a sample of well studied disks where temperature structures have been derived using two emission lines, we show that reasonably accurate estimates can be obtained also when only one molecular transition is available. With our method we obtain independent constraints from $^{12}$ CO and $^{13}$ CO and we find they are in general good agreement using the standard $^{12}$ C/ $^{13}$ C isotopic ratio. The masses derived from our method are systematically lower compared with the values derived dynamically from the rotation curve if using an ISM CO abundance, implying that CO is depleted by a median factor $\\sim$ 20 with respect to the ISM value, in line with other works that find that CO is depleted in proto-planetary disks.\n",
       "\n",
       "</div>\n",
       "\n",
       "<div id=\"div_fig1\">\n",
       "\n",
       "<img src=\"tmp_2504.20012/./Nph_ttauri.png\" alt=\"Fig9\" width=\"100%\"/>\n",
       "\n",
       "**Figure 9. -** Left panel: Emitting height as a function of radius for $^{12}$CO, assuming a disk mass of 0.01 $M_\\odot$. We show the values from the DALI thermo-chemical model, as well as from our semi-analytical model, for different values of the free parameter $N_\\mathrm{ph}$. Central panel: Emitting height as a function of radius for $^{13}$CO, assuming a disk mass of 0.01 $M_\\odot$ for different values of $N_{ph}$. We compare the DALI data (black line) with the emitting layer predicted assuming $N_{ph,13}=N_{ph,12}$(blue line) and $N_{ph,13}=N_{ph,12}$$   ^{13}\\mathrm{C}/^{12}\\mathrm{C}$(orange line). Right panel: Emitting height as a function of radius for $^{12}$CO, assuming a disk mass of 0.01 $M_\\odot$ orbiting a Herbig star. We show the values from the DALI thermo-chemical model, as well as from our semi-analytical model, for different values of the free parameter $N_\\mathrm{ph}$. (*fig:comparison_dali*)\n",
       "\n",
       "</div>\n",
       "<div id=\"div_fig2\">\n",
       "\n",
       "<img src=\"tmp_2504.20012/./lkca15_sigma_comp_DM_single.png\" alt=\"Fig2\" width=\"100%\"/>\n",
       "\n",
       "**Figure 2. -** Surface density as a function of radius derived with the stratified model for LkCa 15. We show the results for both $^{12}$CO and $^{13}$CO; shaded regions show the uncertainties (see text for a discussion of the radial dependence of the uncertainty). For comparison we also show the surface density implied by the fit to the rotation curve presented in this paper series in [Longarini, Lodato and Rosotti (2025)]() and a constraint from optically thin C$^{18}$O and C$^{17}$O lines presented in [Sturm, et. al (2023)](). (*fig:results_lkca15*)\n",
       "\n",
       "</div>\n",
       "<div id=\"div_fig3\">\n",
       "\n",
       "<img src=\"tmp_2504.20012/./critical_column.png\" alt=\"Fig1\" width=\"100%\"/>\n",
       "\n",
       "**Figure 1. -** $N_\\tau$, the CO column to have $\\tau=2/3$ for the J=3-2 and J=2-1 transition of $^{12}$CO and $^{13}$CO, as a function of temperature. The photo-dissociation column value we show is only a reference and it will be estimated more precisely in section \\ref{sec:calibration}. (*fig:critical_column*)\n",
       "\n",
       "</div><div id=\"qrcode\"><img src=https://api.qrserver.com/v1/create-qr-code/?size=100x100&data=\"https://arxiv.org/abs/2504.20012\"></div>"
      ],
      "text/plain": [
       "<IPython.core.display.Markdown object>"
      ]
     },
     "metadata": {},
     "output_type": "display_data"
    },
    {
     "data": {
      "text/markdown": [
       "<div class=\"macros\" style=\"visibility:hidden;\">\n",
       "$\\newcommand{\\ensuremath}{}$\n",
       "$\\newcommand{\\xspace}{}$\n",
       "$\\newcommand{\\object}[1]{\\texttt{#1}}$\n",
       "$\\newcommand{\\farcs}{{.}''}$\n",
       "$\\newcommand{\\farcm}{{.}'}$\n",
       "$\\newcommand{\\arcsec}{''}$\n",
       "$\\newcommand{\\arcmin}{'}$\n",
       "$\\newcommand{\\ion}[2]{#1#2}$\n",
       "$\\newcommand{\\textsc}[1]{\\textrm{#1}}$\n",
       "$\\newcommand{\\hl}[1]{\\textrm{#1}}$\n",
       "$\\newcommand{\\footnote}[1]{}$\n",
       "$\\newcommand{\\farcsec}{\\mbox{\\ensuremath{\\hspace{1pt}.\\!\\!^{\\prime\\prime}}}}$\n",
       "$\\newcommand{\\vdag}{(v)^\\dagger}$</div>\n",
       "\n",
       "\n",
       "\n",
       "<div id=\"title\">\n",
       "\n",
       "# exoALMA XVII. Characterizing the Gas Dynamics around Dust Asymmetries\n",
       "\n",
       "</div>\n",
       "<div id=\"comments\">\n",
       "\n",
       "[![arXiv](https://img.shields.io/badge/arXiv-2504.20023-b31b1b.svg)](https://arxiv.org/abs/2504.20023)<mark>Appeared on: 2025-04-29</mark> -  _19 pages, 8 figures, 1 table, This paper is part of the exoALMA Focus Issue of The Astrophysical Journal Letters_\n",
       "\n",
       "</div>\n",
       "<div id=\"authors\">\n",
       "\n",
       "L. Wölfer, et al. -- incl., <mark>M. Benisty</mark>, <mark>D. Fasano</mark>, <mark>M. Flock</mark>\n",
       "\n",
       "</div>\n",
       "<div id=\"abstract\">\n",
       "\n",
       "**Abstract:** $\\noindent$ The key planet-formation processes in protoplanetary disks remain an active matter of research. One promising mechanism to radially and azimuthally trap millimeter-emitting dust grains, enabling them to concentrate and grow into planetesimals, is anticyclonic vortices. While dust observations have revealed crescent structures in several disks, observations of their kinematic signatures are still lacking. Studying the gas dynamics is, however, essential to confirm the presence of a vortex and understand its dust trapping properties. In this work, we make use of the high-resolution and sensitivity observations conducted by the exoALMA large program to search for such signatures in the $^{12}$ CO and $^{13}$ CO  molecular line emission of four disks with azimuthal dust asymmetries: HD 135344B, HD 143006, HD 34282, and MWC 758. To assess the vortex features, we constructed an analytical vortex model and performed hydrodynamical simulations. For the latter, we assumed two scenarios: a vortex triggered at the edge of a dead zone and of a gap created by a massive embedded planet. These models reveal a complex kinematical morphology of the vortex. When compared to the data, we find that none of the sources show a distinctive vortex signature around the dust crescents in the kinematics.HD 135344B exhibits a prominent feature similar to the predictions from the simulations, thus making this the most promising target for sensitive follow-up studies at higher resolution and in particular with less abundant molecules at higher resolution and sensitivity, to trace closer to the disk midplane.\n",
       "\n",
       "</div>\n",
       "\n",
       "<div id=\"div_fig1\">\n",
       "\n",
       "<img src=\"tmp_2504.20023/./plots/Vortex_analytical_model_arcsec.png\" alt=\"Fig3\" width=\"100%\"/>\n",
       "\n",
       "**Figure 3. -** Analytical model of a vortex, described as elliptic streamlines of constant velocity with a Gaussian velocity profile. The first two panels show the absolute velocity of the vortex in both the vortex frame and sky frame. The last panel depicts the velocity projected along the line-of-sight, showing a complex morphology purely resulting from the projection. In the last two panels, the underlying disk geometry is overlaid as grey contours, corresponding to a position angle of $243 ◦ee$ and inclination of $16 ◦ee$(same as for HD 135344B). (*fig:vortexAnalytical*)\n",
       "\n",
       "</div>\n",
       "<div id=\"div_fig2\">\n",
       "\n",
       "<img src=\"tmp_2504.20023/./plots/cont_and_scat_and_12CO_v1.png\" alt=\"Fig1\" width=\"100%\"/>\n",
       "\n",
       "**Figure 1. -** Overview of the four sources studied in this work, shown on the same spatial scale for the dust (top two rows) and gas (bottom row). Top: Millimetre dust continuum as observed within the exoALMA program \\citep{Curone_exoALMA}. Middle: Micron-sized dust observed through near-infrared scattered light with SPHERE \\citep{Stolker2017,Boer2021,Ren2023}. The SPHERE images are normalized to the peak value and shown with a logarithmic normalization of the color map to emphasize the structures in the outer disk. To highlight the location of the crescents, two continuum contours around the peak of the dust asymmetries are overlaid on the dust images. Bottom: Peak intensity of the $^{12}$CO $J=3-2$ emission line with overlaid continuum emission (five contour levels equally placed between 3$\\sigma$ and the peak flux). Note the larger spatial scale of the gas versus dust images. (*fig:dust_gas*)\n",
       "\n",
       "</div>\n",
       "<div id=\"div_fig3\">\n",
       "\n",
       "<img src=\"tmp_2504.20023/./plots/vel_res_overview_arcsec.png\" alt=\"Fig2\" width=\"100%\"/>\n",
       "\n",
       "**Figure 2. -** Velocity residuals $\\Delta v_0$ after subtraction of the Keplerian model from the data, shown for $^{12}$CO and $^{13}$CO $J=3-2$ and all four targets. For HD 34282, only emission from the top side of the disk was considered when making the $v_0$ map, following the procedure described in \\cite{Izquierdo_exoALMA}. The beam is shown in the bottom left corner of the top row. The red-blue circle and arrow indicate the underlying rotation pattern of each disk. To highlight the location of the crescents, two continuum contours around the dust asymmetries are overlaid on the images. (*fig:VelRes*)\n",
       "\n",
       "</div><div id=\"qrcode\"><img src=https://api.qrserver.com/v1/create-qr-code/?size=100x100&data=\"https://arxiv.org/abs/2504.20023\"></div>"
      ],
      "text/plain": [
       "<IPython.core.display.Markdown object>"
      ]
     },
     "metadata": {},
     "output_type": "display_data"
    },
    {
     "data": {
      "text/markdown": [
       "<div class=\"macros\" style=\"visibility:hidden;\">\n",
       "$\\newcommand{\\ensuremath}{}$\n",
       "$\\newcommand{\\xspace}{}$\n",
       "$\\newcommand{\\object}[1]{\\texttt{#1}}$\n",
       "$\\newcommand{\\farcs}{{.}''}$\n",
       "$\\newcommand{\\farcm}{{.}'}$\n",
       "$\\newcommand{\\arcsec}{''}$\n",
       "$\\newcommand{\\arcmin}{'}$\n",
       "$\\newcommand{\\ion}[2]{#1#2}$\n",
       "$\\newcommand{\\textsc}[1]{\\textrm{#1}}$\n",
       "$\\newcommand{\\hl}[1]{\\textrm{#1}}$\n",
       "$\\newcommand{\\footnote}[1]{}$\n",
       "$\\newcommand{\\vdag}{(v)^\\dagger}$\n",
       "$\\newcommand$\n",
       "$\\newcommand$</div>\n",
       "\n",
       "\n",
       "\n",
       "<div id=\"title\">\n",
       "\n",
       "# exoALMA. VI. Rotating under Pressure: \\ $\\vspace{0.1cm}$     \\text{Rotation curves, azimuthal velocity substructures, and pressure variations}\n",
       "\n",
       "</div>\n",
       "<div id=\"comments\">\n",
       "\n",
       "[![arXiv](https://img.shields.io/badge/arXiv-2504.20036-b31b1b.svg)](https://arxiv.org/abs/2504.20036)<mark>Appeared on: 2025-04-29</mark> -  _This paper is part of the exoALMA Focus Issue of The Astrophysical Journal Letters. 37 pages, 19 figures_\n",
       "\n",
       "</div>\n",
       "<div id=\"authors\">\n",
       "\n",
       "J. Stadler, et al. -- incl., <mark>M. Benisty</mark>, <mark>D. Fasano</mark>, <mark>M. Flock</mark>, <mark>I. Hammond</mark>\n",
       "\n",
       "</div>\n",
       "<div id=\"abstract\">\n",
       "\n",
       "**Abstract:** The bulk motion of the gas in protoplanetary disks around newborn stars is nearly Keplerian. By leveraging the high angular and spectral resolution of ALMA, we can detect small-scale velocity perturbations in molecular line observations caused by local gas pressure variations in the disk, possibly induced by embedded protoplanets.This paper presents the azimuthally averaged rotational velocity and its deviations from Keplerian rotation ( $\\dvphi$ ) for the exoALMA sample, as measured in the $\\twCOfull$ and $\\thCOfull$ emission lines. The rotation signatures show evidence for vertically stratified disks, in which $\\thCO$ rotates faster than $\\twCO$ due to a distinct thermal gas pressure gradient at their emitting heights. We find $\\dvphi$ -substructures in the sample on both small ( $\\sim$ 10 au) and large ( $\\sim$ 100 au) radial scales, reaching deviations up to 15 \\% from background Keplerian velocity in the most extreme cases.More than 75 \\% of the rings and 80 \\% of the gaps in the dust continuum emission resolved in $\\dvphi$ are co-located with gas pressure maxima and minima, respectively. Additionally, gas pressure substructures are observed far beyond the dust continuum emission. For the first time, we determined the gas pressure derivative at the midplane from observations and found it to align well with the dust substructures within the given uncertainties. Based on our findings, we conclude that gas pressure variations are likely the dominant mechanism for ring and gap formation in the dust continuum.\n",
       "\n",
       "</div>\n",
       "\n",
       "<div id=\"div_fig1\">\n",
       "\n",
       "<img src=\"tmp_2504.20036/./figures/paper_vphi_dpdr_symgap_comparison_2row.png\" alt=\"Fig1\" width=\"100%\"/>\n",
       "\n",
       "**Figure 1. -** (a) Azimuthal velocities (left axis, black lines) and midplane pressure (right axis, blue lines), (b) along with the deviations from Keplerian rotation and the first radial derivative of the pressure, for a hydrodynamic model with an imposed Gaussian gap in the pressure at $R=240 $au. The pressure minimum and maximum locations are marked with vertical purple dashed and full lines, respectively. The circles in (b) mark the sign of the radial derivative of \\dvphi  coinciding with the pressure minimum ($\\oplus$) and maximum ($\\ominus$), respectively. (*fig:vphi_press*)\n",
       "\n",
       "</div>\n",
       "<div id=\"div_fig2\">\n",
       "\n",
       "<img src=\"tmp_2504.20036/./figures/dvphi_percent_all_disks_12co_marker_largescale_contgrad_fullpage_R90_nonsmooth.png\" alt=\"Fig6\" width=\"100%\"/>\n",
       "\n",
       "**Figure 6. -** Radial profiles of \\dvphi  for \\twCOfull   of all sources focused on the region beyond the continuum substructures using the High Surface Brightness Sensitivity Images. The error bars show the standard deviation within each extracted radial annulus. The vertical dashed-dotted line indicates the radius that encompasses 95\\% of the continuum emission, with the signs of the radial derivatives of \\dvphi  marked at this location. The beam size is shown in the lower left corner. The \\thCO\\dvphi  radial profiles can be found in Fig. \\ref{fig:dvphi_large_13co} of the Appendix. (*fig:dvphi_large*)\n",
       "\n",
       "</div>\n",
       "<div id=\"div_fig3\">\n",
       "\n",
       "<img src=\"tmp_2504.20036/./figures/dvphi_percent_all_disks_12co_marker_smallscale_promcont_contgrad_fullpage_R90_nonsmooth.png\" alt=\"Fig7\" width=\"100%\"/>\n",
       "\n",
       "**Figure 7. -** Radial profiles of \\dvphi  for \\twCOfull   of all sources focused on the region of the continuum substructures, using the High Resolution Images. The profiles are plotted starting at two beam sizes from the disk center and the error bars show the standard deviation of each bin. The gray background gradient highlights the \\texttt{frank} radial profiles of the dust continuum emission normalized to its peak. The locations of continuum rings, gaps, and crescents are plotted in solid, dashed, and dotted vertical gray lines, respectively \\citep[][]{Curone_exoALMA}. We expect dust rings and gaps to be co-located with a radially decreasing and increasing \\dvphi  profile, if caused by pressure maxima and minima, respectively. The beam size is plotted in the lower right corner. The \\thCO\\dvphi  radial profiles can be found in Fig. \\ref{fig:dvphi_small_13co} of the Appendix. (*fig:dvphi_small*)\n",
       "\n",
       "</div><div id=\"qrcode\"><img src=https://api.qrserver.com/v1/create-qr-code/?size=100x100&data=\"https://arxiv.org/abs/2504.20036\"></div>"
      ],
      "text/plain": [
       "<IPython.core.display.Markdown object>"
      ]
     },
     "metadata": {},
     "output_type": "display_data"
    }
   ],
   "source": [
    "[display(Markdown(k[1])) for k in documents];"
   ]
  },
  {
   "cell_type": "markdown",
   "id": "873873a4",
   "metadata": {
    "papermill": {
     "duration": 0.012953,
     "end_time": "2025-04-29T04:24:49.146058",
     "exception": false,
     "start_time": "2025-04-29T04:24:49.133105",
     "status": "completed"
    },
    "tags": []
   },
   "source": [
    "# Create HTML index"
   ]
  },
  {
   "cell_type": "code",
   "execution_count": 10,
   "id": "cf665672",
   "metadata": {
    "execution": {
     "iopub.execute_input": "2025-04-29T04:24:49.172905Z",
     "iopub.status.busy": "2025-04-29T04:24:49.172662Z",
     "iopub.status.idle": "2025-04-29T04:24:49.182932Z",
     "shell.execute_reply": "2025-04-29T04:24:49.182427Z"
    },
    "papermill": {
     "duration": 0.024837,
     "end_time": "2025-04-29T04:24:49.183901",
     "exception": false,
     "start_time": "2025-04-29T04:24:49.159064",
     "status": "completed"
    },
    "tags": []
   },
   "outputs": [
    {
     "name": "stdout",
     "output_type": "stream",
     "text": [
      "471  publications files modified in the last 7 days.\n"
     ]
    }
   ],
   "source": [
    "from datetime import datetime, timedelta, timezone\n",
    "from glob import glob\n",
    "import os\n",
    "\n",
    "files = glob('_build/html/*.md')\n",
    "days = 7\n",
    "now = datetime.today()\n",
    "res = []\n",
    "for fk in files:\n",
    "    stat_result = os.stat(fk).st_ctime\n",
    "    modified = datetime.fromtimestamp(stat_result, tz=timezone.utc).replace(tzinfo=None)\n",
    "    delta = now.today() - modified\n",
    "    if delta <= timedelta(days=days):\n",
    "        res.append((delta.seconds, fk))\n",
    "res = [k[1] for k in reversed(sorted(res, key=lambda x:x[1]))]\n",
    "npub = len(res)\n",
    "print(len(res), f\" publications files modified in the last {days:d} days.\")\n",
    "# [ print('\\t', k) for k in res ];"
   ]
  },
  {
   "cell_type": "code",
   "execution_count": 11,
   "id": "015de740",
   "metadata": {
    "execution": {
     "iopub.execute_input": "2025-04-29T04:24:49.211602Z",
     "iopub.status.busy": "2025-04-29T04:24:49.211119Z",
     "iopub.status.idle": "2025-04-29T04:24:49.235040Z",
     "shell.execute_reply": "2025-04-29T04:24:49.234419Z"
    },
    "papermill": {
     "duration": 0.03868,
     "end_time": "2025-04-29T04:24:49.236096",
     "exception": false,
     "start_time": "2025-04-29T04:24:49.197416",
     "status": "completed"
    },
    "tags": []
   },
   "outputs": [
    {
     "name": "stdout",
     "output_type": "stream",
     "text": [
      "23  publications in the last 7 days.\n"
     ]
    }
   ],
   "source": [
    "import datetime\n",
    "from glob import glob\n",
    "\n",
    "def get_last_n_days(lst, days=1):\n",
    "    \"\"\" Get the documents from the last n days \"\"\"\n",
    "    sorted_lst = sorted(lst, key=lambda x: x[1], reverse=True)\n",
    "    for fname, date in sorted_lst:\n",
    "        if date >= str(datetime.date.today() - datetime.timedelta(days=days)):\n",
    "            yield fname\n",
    "\n",
    "def extract_appearance_dates(lst_file):\n",
    "    dates = []\n",
    "\n",
    "    def get_date(line):\n",
    "        return line\\\n",
    "            .split('Appeared on:')[-1]\\\n",
    "            .split('</mark>')[0].strip()\n",
    "\n",
    "    for fname in lst:\n",
    "        with open(fname, 'r') as f:\n",
    "            found_date = False\n",
    "            for line in f:\n",
    "                if not found_date:\n",
    "                    if \"Appeared on\" in line:\n",
    "                        found_date = True\n",
    "                        dates.append((fname, get_date(line)))\n",
    "                else:\n",
    "                    break\n",
    "    return dates\n",
    "\n",
    "from glob import glob\n",
    "lst = glob('_build/html/*md')\n",
    "days = 7\n",
    "dates = extract_appearance_dates(lst)\n",
    "res = list(get_last_n_days(dates, days))\n",
    "npub = len(res)\n",
    "print(len(res), f\" publications in the last {days:d} days.\")"
   ]
  },
  {
   "cell_type": "code",
   "execution_count": 12,
   "id": "52ca0208",
   "metadata": {
    "execution": {
     "iopub.execute_input": "2025-04-29T04:24:49.263838Z",
     "iopub.status.busy": "2025-04-29T04:24:49.263301Z",
     "iopub.status.idle": "2025-04-29T04:24:49.268252Z",
     "shell.execute_reply": "2025-04-29T04:24:49.267734Z"
    },
    "papermill": {
     "duration": 0.019819,
     "end_time": "2025-04-29T04:24:49.269222",
     "exception": false,
     "start_time": "2025-04-29T04:24:49.249403",
     "status": "completed"
    },
    "scrolled": false,
    "tags": []
   },
   "outputs": [],
   "source": [
    "def create_carousel(npub=4):\n",
    "    \"\"\" Generate the HTML code for a carousel with `npub` slides \"\"\"\n",
    "    carousel = [\"\"\"  <div class=\"carousel\" \"\"\",\n",
    "                \"\"\"       data-flickity='{ \"autoPlay\": 10000, \"adaptiveHeight\": true, \"resize\": true, \"wrapAround\": true, \"pauseAutoPlayOnHover\": true, \"groupCells\": 1 }' id=\"asyncTypeset\">\"\"\"\n",
    "                ]\n",
    "    \n",
    "    item_str = \"\"\"    <div class=\"carousel-cell\"> <div id=\"slide{k}\" class=\"md_view\">Content {k}</div> </div>\"\"\"\n",
    "    for k in range(1, npub + 1):\n",
    "        carousel.append(item_str.format(k=k))\n",
    "    carousel.append(\"  </div>\")\n",
    "    return '\\n'.join(carousel)\n",
    "\n",
    "def create_grid(npub=4):\n",
    "    \"\"\" Generate the HTML code for a flat grid with `npub` slides \"\"\"\n",
    "    grid = [\"\"\"  <div class=\"grid\"> \"\"\",\n",
    "                ]\n",
    "    \n",
    "    item_str = \"\"\"    <div class=\"grid-item\"> <div id=\"slide{k}\" class=\"md_view\">Content {k}</div> </div>\"\"\"\n",
    "    for k in range(1, npub + 1):\n",
    "        grid.append(item_str.format(k=k))\n",
    "    grid.append(\"  </div>\")\n",
    "    return '\\n'.join(grid)"
   ]
  },
  {
   "cell_type": "code",
   "execution_count": 13,
   "id": "a6eac5b6",
   "metadata": {
    "execution": {
     "iopub.execute_input": "2025-04-29T04:24:49.296946Z",
     "iopub.status.busy": "2025-04-29T04:24:49.296536Z",
     "iopub.status.idle": "2025-04-29T04:24:49.301676Z",
     "shell.execute_reply": "2025-04-29T04:24:49.301148Z"
    },
    "papermill": {
     "duration": 0.020184,
     "end_time": "2025-04-29T04:24:49.302746",
     "exception": false,
     "start_time": "2025-04-29T04:24:49.282562",
     "status": "completed"
    },
    "scrolled": false,
    "tags": []
   },
   "outputs": [],
   "source": [
    "carousel = create_carousel(npub)\n",
    "docs = ', '.join(['\"{0:s}\"'.format(k.split('/')[-1]) for k in res])\n",
    "slides = ', '.join([f'\"slide{k}\"' for k in range(1, npub + 1)])\n",
    "\n",
    "with open(\"daily_template.html\", \"r\") as tpl:\n",
    "    page = tpl.read()\n",
    "    page = page.replace(\"{%-- carousel:s --%}\", carousel)\\\n",
    "               .replace(\"{%-- suptitle:s --%}\",  \"7-day archives\" )\\\n",
    "               .replace(\"{%-- docs:s --%}\", docs)\\\n",
    "               .replace(\"{%-- slides:s --%}\", slides)\n",
    "    \n",
    "with open(\"_build/html/index_7days.html\", 'w') as fout:\n",
    "    fout.write(page)"
   ]
  },
  {
   "cell_type": "code",
   "execution_count": 14,
   "id": "adc1a1ec",
   "metadata": {
    "execution": {
     "iopub.execute_input": "2025-04-29T04:24:49.330660Z",
     "iopub.status.busy": "2025-04-29T04:24:49.330115Z",
     "iopub.status.idle": "2025-04-29T04:24:49.337319Z",
     "shell.execute_reply": "2025-04-29T04:24:49.336690Z"
    },
    "papermill": {
     "duration": 0.022134,
     "end_time": "2025-04-29T04:24:49.338323",
     "exception": false,
     "start_time": "2025-04-29T04:24:49.316189",
     "status": "completed"
    },
    "tags": []
   },
   "outputs": [
    {
     "name": "stdout",
     "output_type": "stream",
     "text": [
      "21  publications in the last day.\n"
     ]
    }
   ],
   "source": [
    "# redo for today\n",
    "days = 1\n",
    "res = list(get_last_n_days(dates, days))\n",
    "npub = len(res)\n",
    "print(len(res), f\" publications in the last day.\")\n",
    "\n",
    "carousel = create_carousel(npub)\n",
    "docs = ', '.join(['\"{0:s}\"'.format(k.split('/')[-1]) for k in res])\n",
    "slides = ', '.join([f'\"slide{k}\"' for k in range(1, npub + 1)])\n",
    "\n",
    "with open(\"daily_template.html\", \"r\") as tpl:\n",
    "    page = tpl.read()\n",
    "    page = page.replace(\"{%-- carousel:s --%}\", carousel)\\\n",
    "               .replace(\"{%-- suptitle:s --%}\",  \"Daily\" )\\\n",
    "               .replace(\"{%-- docs:s --%}\", docs)\\\n",
    "               .replace(\"{%-- slides:s --%}\", slides)\n",
    "    \n",
    "# print(carousel, docs, slides)\n",
    "# print(page)\n",
    "with open(\"_build/html/index_daily.html\", 'w') as fout:\n",
    "    fout.write(page)"
   ]
  },
  {
   "cell_type": "code",
   "execution_count": 15,
   "id": "00eece82",
   "metadata": {
    "execution": {
     "iopub.execute_input": "2025-04-29T04:24:49.366149Z",
     "iopub.status.busy": "2025-04-29T04:24:49.365776Z",
     "iopub.status.idle": "2025-04-29T04:24:49.372378Z",
     "shell.execute_reply": "2025-04-29T04:24:49.371850Z"
    },
    "papermill": {
     "duration": 0.021641,
     "end_time": "2025-04-29T04:24:49.373372",
     "exception": false,
     "start_time": "2025-04-29T04:24:49.351731",
     "status": "completed"
    },
    "scrolled": false,
    "tags": []
   },
   "outputs": [
    {
     "name": "stdout",
     "output_type": "stream",
     "text": [
      "6  6 publications selected.\n"
     ]
    }
   ],
   "source": [
    "# Create the flat grid of the last N papers (fixed number regardless of dates)\n",
    "from itertools import islice \n",
    "\n",
    "npub = 6\n",
    "res = [k[0] for k in (islice(reversed(sorted(dates, key=lambda x: x[1])), 6))]\n",
    "print(len(res), f\" {npub} publications selected.\")\n",
    "\n",
    "grid = create_grid(npub)\n",
    "docs = ', '.join(['\"{0:s}\"'.format(k.split('/')[-1]) for k in res])\n",
    "slides = ', '.join([f'\"slide{k}\"' for k in range(1, npub + 1)])\n",
    "\n",
    "with open(\"grid_template.html\", \"r\") as tpl:\n",
    "    page = tpl.read()\n",
    "    page = page.replace(\"{%-- grid-content:s --%}\", grid)\\\n",
    "               .replace(\"{%-- suptitle:s --%}\",  f\"Last {npub:,d} papers\" )\\\n",
    "               .replace(\"{%-- docs:s --%}\", docs)\\\n",
    "               .replace(\"{%-- slides:s --%}\", slides)\n",
    "    \n",
    "# print(grid, docs, slides)\n",
    "# print(page)\n",
    "with open(\"_build/html/index_npub_grid.html\", 'w') as fout:\n",
    "    fout.write(page)"
   ]
  }
 ],
 "metadata": {
  "kernelspec": {
   "display_name": "Python 3 (ipykernel)",
   "language": "python",
   "name": "python3"
  },
  "language_info": {
   "codemirror_mode": {
    "name": "ipython",
    "version": 3
   },
   "file_extension": ".py",
   "mimetype": "text/x-python",
   "name": "python",
   "nbconvert_exporter": "python",
   "pygments_lexer": "ipython3",
   "version": "3.9.22"
  },
  "papermill": {
   "default_parameters": {},
   "duration": 776.606653,
   "end_time": "2025-04-29T04:24:49.603019",
   "environment_variables": {},
   "exception": null,
   "input_path": "MPIA daily digest.ipynb",
   "output_path": "log.ipynb",
   "parameters": {},
   "start_time": "2025-04-29T04:11:52.996366",
   "version": "2.6.0"
  },
  "vscode": {
   "interpreter": {
    "hash": "aee8b7b246df8f9039afb4144a1f6fd8d2ca17a180786b69acc140d282b71a49"
   }
  },
  "widgets": {
   "application/vnd.jupyter.widget-state+json": {
    "state": {
     "32b1fc5a34c14f03b8c3654f4ca4b4b2": {
      "model_module": "@jupyter-widgets/controls",
      "model_module_version": "2.0.0",
      "model_name": "HTMLStyleModel",
      "state": {
       "_model_module": "@jupyter-widgets/controls",
       "_model_module_version": "2.0.0",
       "_model_name": "HTMLStyleModel",
       "_view_count": null,
       "_view_module": "@jupyter-widgets/base",
       "_view_module_version": "2.0.0",
       "_view_name": "StyleView",
       "background": null,
       "description_width": "",
       "font_size": null,
       "text_color": null
      }
     },
     "47e2e8167d134367af7553626b8bca77": {
      "model_module": "@jupyter-widgets/controls",
      "model_module_version": "2.0.0",
      "model_name": "HBoxModel",
      "state": {
       "_dom_classes": [],
       "_model_module": "@jupyter-widgets/controls",
       "_model_module_version": "2.0.0",
       "_model_name": "HBoxModel",
       "_view_count": null,
       "_view_module": "@jupyter-widgets/controls",
       "_view_module_version": "2.0.0",
       "_view_name": "HBoxView",
       "box_style": "",
       "children": [
        "IPY_MODEL_c07179146e084ed185e679c71d24b7f3",
        "IPY_MODEL_d3ace99f34274b1e96485849ded13d55",
        "IPY_MODEL_9f698122b845469db8db23c2702f65ee"
       ],
       "layout": "IPY_MODEL_4bea3883d93640e598b92a47837fd102",
       "tabbable": null,
       "tooltip": null
      }
     },
     "4bea3883d93640e598b92a47837fd102": {
      "model_module": "@jupyter-widgets/base",
      "model_module_version": "2.0.0",
      "model_name": "LayoutModel",
      "state": {
       "_model_module": "@jupyter-widgets/base",
       "_model_module_version": "2.0.0",
       "_model_name": "LayoutModel",
       "_view_count": null,
       "_view_module": "@jupyter-widgets/base",
       "_view_module_version": "2.0.0",
       "_view_name": "LayoutView",
       "align_content": null,
       "align_items": null,
       "align_self": null,
       "border_bottom": null,
       "border_left": null,
       "border_right": null,
       "border_top": null,
       "bottom": null,
       "display": null,
       "flex": null,
       "flex_flow": null,
       "grid_area": null,
       "grid_auto_columns": null,
       "grid_auto_flow": null,
       "grid_auto_rows": null,
       "grid_column": null,
       "grid_gap": null,
       "grid_row": null,
       "grid_template_areas": null,
       "grid_template_columns": null,
       "grid_template_rows": null,
       "height": null,
       "justify_content": null,
       "justify_items": null,
       "left": null,
       "margin": null,
       "max_height": null,
       "max_width": null,
       "min_height": null,
       "min_width": null,
       "object_fit": null,
       "object_position": null,
       "order": null,
       "overflow": null,
       "padding": null,
       "right": null,
       "top": null,
       "visibility": null,
       "width": null
      }
     },
     "4efa1326bd1a48b09faf15563b821158": {
      "model_module": "@jupyter-widgets/controls",
      "model_module_version": "2.0.0",
      "model_name": "ProgressStyleModel",
      "state": {
       "_model_module": "@jupyter-widgets/controls",
       "_model_module_version": "2.0.0",
       "_model_name": "ProgressStyleModel",
       "_view_count": null,
       "_view_module": "@jupyter-widgets/base",
       "_view_module_version": "2.0.0",
       "_view_name": "StyleView",
       "bar_color": null,
       "description_width": ""
      }
     },
     "6f6b1f783d684459b1993db219a3a44e": {
      "model_module": "@jupyter-widgets/base",
      "model_module_version": "2.0.0",
      "model_name": "LayoutModel",
      "state": {
       "_model_module": "@jupyter-widgets/base",
       "_model_module_version": "2.0.0",
       "_model_name": "LayoutModel",
       "_view_count": null,
       "_view_module": "@jupyter-widgets/base",
       "_view_module_version": "2.0.0",
       "_view_name": "LayoutView",
       "align_content": null,
       "align_items": null,
       "align_self": null,
       "border_bottom": null,
       "border_left": null,
       "border_right": null,
       "border_top": null,
       "bottom": null,
       "display": null,
       "flex": null,
       "flex_flow": null,
       "grid_area": null,
       "grid_auto_columns": null,
       "grid_auto_flow": null,
       "grid_auto_rows": null,
       "grid_column": null,
       "grid_gap": null,
       "grid_row": null,
       "grid_template_areas": null,
       "grid_template_columns": null,
       "grid_template_rows": null,
       "height": null,
       "justify_content": null,
       "justify_items": null,
       "left": null,
       "margin": null,
       "max_height": null,
       "max_width": null,
       "min_height": null,
       "min_width": null,
       "object_fit": null,
       "object_position": null,
       "order": null,
       "overflow": null,
       "padding": null,
       "right": null,
       "top": null,
       "visibility": null,
       "width": null
      }
     },
     "7682fdda2f4e422ab06d377e7e83508f": {
      "model_module": "@jupyter-widgets/base",
      "model_module_version": "2.0.0",
      "model_name": "LayoutModel",
      "state": {
       "_model_module": "@jupyter-widgets/base",
       "_model_module_version": "2.0.0",
       "_model_name": "LayoutModel",
       "_view_count": null,
       "_view_module": "@jupyter-widgets/base",
       "_view_module_version": "2.0.0",
       "_view_name": "LayoutView",
       "align_content": null,
       "align_items": null,
       "align_self": null,
       "border_bottom": null,
       "border_left": null,
       "border_right": null,
       "border_top": null,
       "bottom": null,
       "display": null,
       "flex": null,
       "flex_flow": null,
       "grid_area": null,
       "grid_auto_columns": null,
       "grid_auto_flow": null,
       "grid_auto_rows": null,
       "grid_column": null,
       "grid_gap": null,
       "grid_row": null,
       "grid_template_areas": null,
       "grid_template_columns": null,
       "grid_template_rows": null,
       "height": null,
       "justify_content": null,
       "justify_items": null,
       "left": null,
       "margin": null,
       "max_height": null,
       "max_width": null,
       "min_height": null,
       "min_width": null,
       "object_fit": null,
       "object_position": null,
       "order": null,
       "overflow": null,
       "padding": null,
       "right": null,
       "top": null,
       "visibility": null,
       "width": null
      }
     },
     "9f698122b845469db8db23c2702f65ee": {
      "model_module": "@jupyter-widgets/controls",
      "model_module_version": "2.0.0",
      "model_name": "HTMLModel",
      "state": {
       "_dom_classes": [],
       "_model_module": "@jupyter-widgets/controls",
       "_model_module_version": "2.0.0",
       "_model_name": "HTMLModel",
       "_view_count": null,
       "_view_module": "@jupyter-widgets/controls",
       "_view_module_version": "2.0.0",
       "_view_name": "HTMLView",
       "description": "",
       "description_allow_html": false,
       "layout": "IPY_MODEL_f3f310d3022048b2819b36e7020e7bcf",
       "placeholder": "​",
       "style": "IPY_MODEL_ef07a69d245442a09dea24874c8dfec4",
       "tabbable": null,
       "tooltip": null,
       "value": " 22/22 [12:30&lt;00:00, 47.97s/it]"
      }
     },
     "c07179146e084ed185e679c71d24b7f3": {
      "model_module": "@jupyter-widgets/controls",
      "model_module_version": "2.0.0",
      "model_name": "HTMLModel",
      "state": {
       "_dom_classes": [],
       "_model_module": "@jupyter-widgets/controls",
       "_model_module_version": "2.0.0",
       "_model_name": "HTMLModel",
       "_view_count": null,
       "_view_module": "@jupyter-widgets/controls",
       "_view_module_version": "2.0.0",
       "_view_name": "HTMLView",
       "description": "",
       "description_allow_html": false,
       "layout": "IPY_MODEL_6f6b1f783d684459b1993db219a3a44e",
       "placeholder": "​",
       "style": "IPY_MODEL_32b1fc5a34c14f03b8c3654f4ca4b4b2",
       "tabbable": null,
       "tooltip": null,
       "value": "100%"
      }
     },
     "d3ace99f34274b1e96485849ded13d55": {
      "model_module": "@jupyter-widgets/controls",
      "model_module_version": "2.0.0",
      "model_name": "FloatProgressModel",
      "state": {
       "_dom_classes": [],
       "_model_module": "@jupyter-widgets/controls",
       "_model_module_version": "2.0.0",
       "_model_name": "FloatProgressModel",
       "_view_count": null,
       "_view_module": "@jupyter-widgets/controls",
       "_view_module_version": "2.0.0",
       "_view_name": "ProgressView",
       "bar_style": "success",
       "description": "",
       "description_allow_html": false,
       "layout": "IPY_MODEL_7682fdda2f4e422ab06d377e7e83508f",
       "max": 22.0,
       "min": 0.0,
       "orientation": "horizontal",
       "style": "IPY_MODEL_4efa1326bd1a48b09faf15563b821158",
       "tabbable": null,
       "tooltip": null,
       "value": 22.0
      }
     },
     "ef07a69d245442a09dea24874c8dfec4": {
      "model_module": "@jupyter-widgets/controls",
      "model_module_version": "2.0.0",
      "model_name": "HTMLStyleModel",
      "state": {
       "_model_module": "@jupyter-widgets/controls",
       "_model_module_version": "2.0.0",
       "_model_name": "HTMLStyleModel",
       "_view_count": null,
       "_view_module": "@jupyter-widgets/base",
       "_view_module_version": "2.0.0",
       "_view_name": "StyleView",
       "background": null,
       "description_width": "",
       "font_size": null,
       "text_color": null
      }
     },
     "f3f310d3022048b2819b36e7020e7bcf": {
      "model_module": "@jupyter-widgets/base",
      "model_module_version": "2.0.0",
      "model_name": "LayoutModel",
      "state": {
       "_model_module": "@jupyter-widgets/base",
       "_model_module_version": "2.0.0",
       "_model_name": "LayoutModel",
       "_view_count": null,
       "_view_module": "@jupyter-widgets/base",
       "_view_module_version": "2.0.0",
       "_view_name": "LayoutView",
       "align_content": null,
       "align_items": null,
       "align_self": null,
       "border_bottom": null,
       "border_left": null,
       "border_right": null,
       "border_top": null,
       "bottom": null,
       "display": null,
       "flex": null,
       "flex_flow": null,
       "grid_area": null,
       "grid_auto_columns": null,
       "grid_auto_flow": null,
       "grid_auto_rows": null,
       "grid_column": null,
       "grid_gap": null,
       "grid_row": null,
       "grid_template_areas": null,
       "grid_template_columns": null,
       "grid_template_rows": null,
       "height": null,
       "justify_content": null,
       "justify_items": null,
       "left": null,
       "margin": null,
       "max_height": null,
       "max_width": null,
       "min_height": null,
       "min_width": null,
       "object_fit": null,
       "object_position": null,
       "order": null,
       "overflow": null,
       "padding": null,
       "right": null,
       "top": null,
       "visibility": null,
       "width": null
      }
     }
    },
    "version_major": 2,
    "version_minor": 0
   }
  }
 },
 "nbformat": 4,
 "nbformat_minor": 5
}