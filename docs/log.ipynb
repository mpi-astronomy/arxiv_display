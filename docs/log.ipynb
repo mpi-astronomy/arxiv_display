{
 "cells": [
  {
   "cell_type": "markdown",
   "id": "92bcb855",
   "metadata": {
    "papermill": {
     "duration": 0.006991,
     "end_time": "2024-08-06T04:10:16.478580",
     "exception": false,
     "start_time": "2024-08-06T04:10:16.471589",
     "status": "completed"
    },
    "tags": []
   },
   "source": [
    "# MPIA Arxiv on Deck 2\n",
    "\n",
    "Contains the steps to produce the paper extractions."
   ]
  },
  {
   "cell_type": "code",
   "execution_count": 1,
   "id": "3a0d6e11",
   "metadata": {
    "execution": {
     "iopub.execute_input": "2024-08-06T04:10:16.491648Z",
     "iopub.status.busy": "2024-08-06T04:10:16.491133Z",
     "iopub.status.idle": "2024-08-06T04:10:17.047394Z",
     "shell.execute_reply": "2024-08-06T04:10:17.046676Z"
    },
    "papermill": {
     "duration": 0.564841,
     "end_time": "2024-08-06T04:10:17.049357",
     "exception": false,
     "start_time": "2024-08-06T04:10:16.484516",
     "status": "completed"
    },
    "tags": []
   },
   "outputs": [],
   "source": [
    "# Imports\n",
    "import os\n",
    "from IPython.display import Markdown, display\n",
    "from tqdm.notebook import tqdm\n",
    "import warnings\n",
    "from PIL import Image \n",
    "\n",
    "# requires arxiv_on_deck_2\n",
    "\n",
    "from arxiv_on_deck_2.arxiv2 import (get_new_papers, \n",
    "                                    get_paper_from_identifier,\n",
    "                                    retrieve_document_source, \n",
    "                                    get_markdown_badge)\n",
    "from arxiv_on_deck_2 import (latex,\n",
    "                             latex_bib,\n",
    "                             mpia,\n",
    "                             highlight_authors_in_list)\n",
    "\n",
    "# Sometimes images are really big\n",
    "Image.MAX_IMAGE_PIXELS = 1000000000 "
   ]
  },
  {
   "cell_type": "code",
   "execution_count": 2,
   "id": "22aa9d44",
   "metadata": {
    "execution": {
     "iopub.execute_input": "2024-08-06T04:10:17.056843Z",
     "iopub.status.busy": "2024-08-06T04:10:17.056353Z",
     "iopub.status.idle": "2024-08-06T04:10:17.061493Z",
     "shell.execute_reply": "2024-08-06T04:10:17.060868Z"
    },
    "papermill": {
     "duration": 0.010198,
     "end_time": "2024-08-06T04:10:17.062731",
     "exception": false,
     "start_time": "2024-08-06T04:10:17.052533",
     "status": "completed"
    },
    "tags": []
   },
   "outputs": [],
   "source": [
    "# Some useful definitions.\n",
    "\n",
    "class AffiliationWarning(UserWarning):\n",
    "    pass\n",
    "\n",
    "class AffiliationError(RuntimeError):\n",
    "    pass\n",
    "\n",
    "def validation(source: str):\n",
    "    \"\"\"Raises error paper during parsing of source file\n",
    "    \n",
    "    Allows checks before parsing TeX code.\n",
    "    \n",
    "    Raises AffiliationWarning\n",
    "    \"\"\"\n",
    "    check = mpia.affiliation_verifications(source, verbose=True)\n",
    "    if check is not True:\n",
    "        raise AffiliationError(\"mpia.affiliation_verifications: \" + check)\n",
    "\n",
    "        \n",
    "warnings.simplefilter('always', AffiliationWarning)\n",
    "\n",
    "\n",
    "def get_markdown_qrcode(paper_id: str):\n",
    "    \"\"\" Generate a qrcode to the arxiv page using qrserver.com\n",
    "    \n",
    "    :param paper: Arxiv paper\n",
    "    :returns: markdown text\n",
    "    \"\"\"\n",
    "    url = r\"https://api.qrserver.com/v1/create-qr-code/?size=100x100&data=\"\n",
    "    txt = f\"\"\"<img src={url}\"https://arxiv.org/abs/{paper_id}\">\"\"\"\n",
    "    txt = '<div id=\"qrcode\">' + txt + '</div>'\n",
    "    return txt"
   ]
  },
  {
   "cell_type": "markdown",
   "id": "14bd6310",
   "metadata": {
    "papermill": {
     "duration": 0.002804,
     "end_time": "2024-08-06T04:10:17.068462",
     "exception": false,
     "start_time": "2024-08-06T04:10:17.065658",
     "status": "completed"
    },
    "tags": []
   },
   "source": [
    "## get list of arxiv paper candidates\n",
    "\n",
    "We use the MPIA mitarbeiter list webpage from mpia.de to get author names\n",
    "We then get all new papers from Arxiv and match authors"
   ]
  },
  {
   "cell_type": "code",
   "execution_count": 3,
   "id": "7ea813a8",
   "metadata": {
    "execution": {
     "iopub.execute_input": "2024-08-06T04:10:17.075317Z",
     "iopub.status.busy": "2024-08-06T04:10:17.074940Z",
     "iopub.status.idle": "2024-08-06T04:10:33.945877Z",
     "shell.execute_reply": "2024-08-06T04:10:33.945287Z"
    },
    "papermill": {
     "duration": 16.875996,
     "end_time": "2024-08-06T04:10:33.947388",
     "exception": false,
     "start_time": "2024-08-06T04:10:17.071392",
     "status": "completed"
    },
    "tags": []
   },
   "outputs": [],
   "source": [
    "# deal with the author list and edge cases of people that cannot be consistent on their name  \n",
    "\n",
    "def filter_non_scientists(name: str) -> bool:\n",
    "    \"\"\" Loose filter on expected authorships\n",
    "\n",
    "    removing IT, administration, technical staff\n",
    "    :param name: name\n",
    "    :returns: False if name is not a scientist\n",
    "    \"\"\"\n",
    "    remove_list = ['Wolf', 'Licht', 'Binroth', 'Witzel', 'Jordan',\n",
    "                   'Zähringer', 'Scheerer', 'Hoffmann', 'Düe',\n",
    "                   'Hellmich', 'Enkler-Scharpegge', 'Witte-Nguy',\n",
    "                   'Dehen', 'Beckmann', 'Jager', 'Jäger'\n",
    "                  ]\n",
    "\n",
    "    for k in remove_list:\n",
    "        if k in name:\n",
    "            return False\n",
    "    return True\n",
    "\n",
    "def add_author_to_list(author_list: list) -> list:\n",
    "    \"\"\" Add author to list if not already in list\n",
    "    \n",
    "    :param author: author name\n",
    "    :param author_list: list of authors\n",
    "    :returns: updated list of authors\n",
    "    \"\"\"\n",
    "    add_list = ['T. Henning']\n",
    "\n",
    "    for author in add_list:\n",
    "        if author not in author_list:\n",
    "            author_list.append(author)\n",
    "    return author_list\n",
    "\n",
    "# get list from MPIA website\n",
    "# filter for non-scientists (mpia.get_mpia_mitarbeiter_list() does some filtering)\n",
    "mpia_authors = [k[1] for k in mpia.get_mpia_mitarbeiter_list() if filter_non_scientists(k[1])]\n",
    "# add some missing author because of inconsistencies in their MPIA name and author name on papers\n",
    "mpia_authors = add_author_to_list(mpia_authors)"
   ]
  },
  {
   "cell_type": "code",
   "execution_count": 4,
   "id": "2645e73a",
   "metadata": {
    "execution": {
     "iopub.execute_input": "2024-08-06T04:10:33.955067Z",
     "iopub.status.busy": "2024-08-06T04:10:33.954687Z",
     "iopub.status.idle": "2024-08-06T04:10:34.805556Z",
     "shell.execute_reply": "2024-08-06T04:10:34.804837Z"
    },
    "papermill": {
     "duration": 0.856153,
     "end_time": "2024-08-06T04:10:34.806998",
     "exception": false,
     "start_time": "2024-08-06T04:10:33.950845",
     "status": "completed"
    },
    "tags": []
   },
   "outputs": [
    {
     "name": "stdout",
     "output_type": "stream",
     "text": [
      "G.-D. Marleau  ->  G.-D. Marleau  |  ['G.-D. Marleau']\n",
      "X. Zhang  ->  X. Zhang  |  ['X. Zhang']\n",
      "J. Li  ->  J. Li  |  ['J. Li']\n",
      "X. Zhang  ->  X. Zhang  |  ['X. Zhang']\n",
      "S. Li  ->  S. Li  |  ['S. Li']\n",
      "J. Liu  ->  J. Liu  |  ['J. Liu']\n",
      "J. Li  ->  J. Li  |  ['J. Li']\n"
     ]
    },
    {
     "name": "stdout",
     "output_type": "stream",
     "text": [
      "M. Benisty  ->  M. Benisty  |  ['M. Benisty']\n",
      "P. Garcia  ->  A. P. Garcia  |  ['P. Garcia']\n",
      "T. Henning  ->  T. Henning  |  ['T. Henning']\n",
      "S. Scheithauer  ->  S. Scheithauer  |  ['S. Scheithauer']\n",
      "Arxiv has 86 new papers today\n",
      "          6 with possible author matches\n"
     ]
    }
   ],
   "source": [
    "new_papers = get_new_papers()\n",
    "# add manual references\n",
    "add_paper_refs = []\n",
    "new_papers.extend([get_paper_from_identifier(k) for k in add_paper_refs])\n",
    "\n",
    "candidates = []\n",
    "for paperk in new_papers:\n",
    "    # Check author list with their initials\n",
    "    normed_author_list = [mpia.get_initials(k) for k in paperk['authors']]\n",
    "    hl_authors = highlight_authors_in_list(normed_author_list, mpia_authors, verbose=True)\n",
    "    matches = [(hl, orig) for hl, orig in zip(hl_authors, paperk['authors']) if 'mark' in hl]\n",
    "    paperk['authors'] = hl_authors\n",
    "    if matches:\n",
    "        # only select paper if an author matched our list\n",
    "        candidates.append(paperk)\n",
    "print(\"\"\"Arxiv has {0:,d} new papers today\"\"\".format(len(new_papers)))        \n",
    "print(\"\"\"          {0:,d} with possible author matches\"\"\".format(len(candidates)))"
   ]
  },
  {
   "cell_type": "markdown",
   "id": "3543b34a",
   "metadata": {
    "papermill": {
     "duration": 0.003169,
     "end_time": "2024-08-06T04:10:34.814483",
     "exception": false,
     "start_time": "2024-08-06T04:10:34.811314",
     "status": "completed"
    },
    "tags": []
   },
   "source": [
    "# Parse sources and generate relevant outputs\n",
    "\n",
    "From the candidates, we do the following steps:\n",
    "* get their tarball from ArXiv (and extract data)\n",
    "* find the main .tex file: find one with \\documentclass{...} (sometimes it's non trivial)\n",
    "* Check affiliations with :func:`validation`, which uses :func:`mpia.affiliation_verifications`\n",
    "* If passing the affiliations: we parse the .tex source\n",
    "   * inject sub-documents into the main (flatten the main document)\n",
    "   * parse structure, extract information (title, abstract, authors, figures...)\n",
    "   * handles `\\graphicspath` if provided\n",
    "* Generate the .md document."
   ]
  },
  {
   "cell_type": "code",
   "execution_count": 5,
   "id": "9576b79e",
   "metadata": {
    "execution": {
     "iopub.execute_input": "2024-08-06T04:10:34.821967Z",
     "iopub.status.busy": "2024-08-06T04:10:34.821571Z",
     "iopub.status.idle": "2024-08-06T04:11:20.205578Z",
     "shell.execute_reply": "2024-08-06T04:11:20.204775Z"
    },
    "papermill": {
     "duration": 45.394124,
     "end_time": "2024-08-06T04:11:20.211867",
     "exception": false,
     "start_time": "2024-08-06T04:10:34.817743",
     "status": "completed"
    },
    "scrolled": false,
    "tags": []
   },
   "outputs": [
    {
     "data": {
      "application/vnd.jupyter.widget-view+json": {
       "model_id": "90765069ff834ffdb1c1b5417f37f2ff",
       "version_major": 2,
       "version_minor": 0
      },
      "text/plain": [
       "  0%|          | 0/6 [00:00<?, ?it/s]"
      ]
     },
     "metadata": {},
     "output_type": "display_data"
    },
    {
     "name": "stdout",
     "output_type": "stream",
     "text": [
      "Retrieving document from  https://arxiv.org/e-print/2408.01491\n"
     ]
    },
    {
     "name": "stdout",
     "output_type": "stream",
     "text": [
      "extracting tarball to tmp_2408.01491..."
     ]
    },
    {
     "name": "stdout",
     "output_type": "stream",
     "text": [
      " done.\n"
     ]
    },
    {
     "name": "stdout",
     "output_type": "stream",
     "text": [
      "G.-D. Marleau  ->  G.-D. Marleau  |  ['G.-D. Marleau']\n"
     ]
    },
    {
     "name": "stdout",
     "output_type": "stream",
     "text": [
      "Found 102 bibliographic references in tmp_2408.01491/paper_final.bbl.\n",
      "syntax error in line 5: unbalanced braces\n",
      "Retrieving document from  https://arxiv.org/e-print/2408.01665\n"
     ]
    },
    {
     "name": "stdout",
     "output_type": "stream",
     "text": [
      "extracting tarball to tmp_2408.01665... done.\n",
      "Retrieving document from  https://arxiv.org/e-print/2408.01937\n"
     ]
    },
    {
     "name": "stderr",
     "output_type": "stream",
     "text": [
      "/tmp/ipykernel_2682/1211882699.py:51: LatexWarning: 2408.01937 did not run properly\n",
      "not a gzip file\n",
      "  warnings.warn(latex.LatexWarning(f\"{paper_id:s} did not run properly\\n\" +\n"
     ]
    },
    {
     "name": "stdout",
     "output_type": "stream",
     "text": [
      "Retrieving document from  https://arxiv.org/e-print/2408.02171\n"
     ]
    },
    {
     "name": "stdout",
     "output_type": "stream",
     "text": [
      "extracting tarball to tmp_2408.02171..."
     ]
    },
    {
     "name": "stdout",
     "output_type": "stream",
     "text": [
      " done.\n",
      "Retrieving document from  https://arxiv.org/e-print/2408.02305\n"
     ]
    },
    {
     "name": "stdout",
     "output_type": "stream",
     "text": [
      "extracting tarball to tmp_2408.02305..."
     ]
    },
    {
     "name": "stdout",
     "output_type": "stream",
     "text": [
      " done.\n",
      "Retrieving document from  https://arxiv.org/e-print/2408.02374\n"
     ]
    },
    {
     "name": "stdout",
     "output_type": "stream",
     "text": [
      "extracting tarball to tmp_2408.02374..."
     ]
    },
    {
     "name": "stdout",
     "output_type": "stream",
     "text": [
      " done.\n"
     ]
    },
    {
     "name": "stdout",
     "output_type": "stream",
     "text": [
      "Found 58 bibliographic references in tmp_2408.02374/main.bbl.\n"
     ]
    }
   ],
   "source": [
    "documents = []\n",
    "failed = []\n",
    "for paper in tqdm(candidates):\n",
    "    # debug crap\n",
    "    paper['identifier'] = paper['identifier'].lower().replace('arxiv:', '').replace(r'\\n', '').strip()\n",
    "    paper_id = paper['identifier']\n",
    "    \n",
    "    folder = f'tmp_{paper_id}'\n",
    "\n",
    "    try:\n",
    "        if not os.path.isdir(folder):\n",
    "            folder = retrieve_document_source(f\"{paper_id}\", f'tmp_{paper_id}')\n",
    "        \n",
    "        try:\n",
    "            doc = latex.LatexDocument(folder, validation=validation)    \n",
    "        except AffiliationError as affilerror:\n",
    "            msg = f\"ArXiv:{paper_id:s} is not an MPIA paper... \" + str(affilerror)\n",
    "            failed.append((paper, \"affiliation error: \" + str(affilerror) ))\n",
    "            continue\n",
    "        \n",
    "        # Hack because sometimes author parsing does not work well\n",
    "        if (len(doc.authors) != len(paper['authors'])):\n",
    "            doc._authors = paper['authors']\n",
    "        else:\n",
    "            # highlight authors (FIXME: doc.highlight_authors)\n",
    "            # done on arxiv paper already\n",
    "            doc._authors = highlight_authors_in_list(\n",
    "                [mpia.get_initials(k) for k in doc.authors], \n",
    "                mpia_authors, verbose=True)\n",
    "        if (doc.abstract) in (None, ''):\n",
    "            doc._abstract = paper['abstract']\n",
    "            \n",
    "        doc.comment = (get_markdown_badge(paper_id) + \n",
    "                       \"<mark>Appeared on: \" + paper['date'] + \"</mark> - \")\n",
    "        if paper['comments']:\n",
    "            doc.comment += \" _\" + paper['comments'] + \"_\"\n",
    "        \n",
    "        full_md = doc.generate_markdown_text()\n",
    "        \n",
    "        full_md += get_markdown_qrcode(paper_id)\n",
    "        \n",
    "        # replace citations\n",
    "        try:\n",
    "            bibdata = latex_bib.LatexBib.from_doc(doc)\n",
    "            full_md = latex_bib.replace_citations(full_md, bibdata)\n",
    "        except Exception as e:\n",
    "            print(e)\n",
    "        \n",
    "        documents.append((paper_id, full_md))\n",
    "    except Exception as e:\n",
    "        warnings.warn(latex.LatexWarning(f\"{paper_id:s} did not run properly\\n\" +\n",
    "                                         str(e)\n",
    "                                        ))\n",
    "        failed.append((paper, \"latex error \" + str(e)))"
   ]
  },
  {
   "cell_type": "markdown",
   "id": "2505a25c",
   "metadata": {
    "papermill": {
     "duration": 0.003923,
     "end_time": "2024-08-06T04:11:20.219736",
     "exception": false,
     "start_time": "2024-08-06T04:11:20.215813",
     "status": "completed"
    },
    "tags": []
   },
   "source": [
    "### Export the logs\n",
    "\n",
    "Throughout, we also keep track of the logs per paper. see `logs-{today date}.md` "
   ]
  },
  {
   "cell_type": "code",
   "execution_count": 6,
   "id": "d733828a",
   "metadata": {
    "execution": {
     "iopub.execute_input": "2024-08-06T04:11:20.228700Z",
     "iopub.status.busy": "2024-08-06T04:11:20.228179Z",
     "iopub.status.idle": "2024-08-06T04:11:20.245670Z",
     "shell.execute_reply": "2024-08-06T04:11:20.245013Z"
    },
    "papermill": {
     "duration": 0.023365,
     "end_time": "2024-08-06T04:11:20.246919",
     "exception": false,
     "start_time": "2024-08-06T04:11:20.223554",
     "status": "completed"
    },
    "scrolled": false,
    "tags": []
   },
   "outputs": [
    {
     "data": {
      "text/markdown": [
       "## Successful papers"
      ],
      "text/plain": [
       "<IPython.core.display.Markdown object>"
      ]
     },
     "metadata": {},
     "output_type": "display_data"
    },
    {
     "data": {
      "text/markdown": [
       "\n",
       "|||\n",
       "|---:|:---|\n",
       "| [![arXiv](https://img.shields.io/badge/arXiv-2408.01491-b31b1b.svg)](https://arxiv.org/abs/2408.01491) | **Accreting companion occurrence rates using a new method to compute emission-line survey sensitivity: Application to the H-alpha Giant Accreting Protoplanet Survey (GAPlanetS)**  |\n",
       "|| C. Plunkett, K. B. Follette, <mark>G.-D. Marleau</mark>, E. Nielsen |\n",
       "|*Appeared on*| *2024-08-06*|\n",
       "|*Comments*| *Submitted to ApJ. Comments welcome. 18 pages, 7 figures*|\n",
       "|**Abstract**|            A key scientific goal of exoplanet surveys is to characterize the underlying population of planets in the local galaxy. In particular, the properties of accreting protoplanets can inform the rates and physical processes of planet formation. We develop a novel method to compute sensitivity to protoplanets in emission-line direct-imaging surveys, enabling estimates of protoplanet population properties under various planetary accretion and formation theories. In this work, we specialize to the case of H-alpha and investigate three formation models governing the planetary-mass-to-mass-accretion-rate power law, and two accretion models that describe the scaling between total accretion luminosity and observable H-alpha line luminosity. We apply our method to the results of the Magellan Giant Accreting Protoplanet Survey (GAPlanetS) to place the first constraints on accreting companion occurrence rates in systems with transitional circumstellar disks. We compute the posterior probability for transitional disk systems to host an accreting companion (-8< log MMdot MJ^2/yr < -2) within 2 arcseconds (~200 au). Across accretion models, we find consistent accreting companion rates, with median and one-sigma credible intervals of 0.15 (+0.18, -0.10) and 0.19 (+0.23, -0.12). Our technique enables studying protoplanet populations under flexible assumptions about planet formation. This formalism provides the statistical underpinning necessary for protoplanet surveys to discriminate among formation and accretion theories for planets and brown dwarfs.         |"
      ],
      "text/plain": [
       "[2408.01491] Accreting companion occurrence rates using a new method to compute emission-line survey sensitivity: Application to the H-alpha Giant Accreting Protoplanet Survey (GAPlanetS)\n",
       "\tC. Plunkett, K. B. Follette, <mark>G.-D. Marleau</mark>, E. Nielsen"
      ]
     },
     "metadata": {},
     "output_type": "display_data"
    },
    {
     "data": {
      "text/markdown": [
       "\n",
       "|||\n",
       "|---:|:---|\n",
       "| [![arXiv](https://img.shields.io/badge/arXiv-2408.02374-b31b1b.svg)](https://arxiv.org/abs/2408.02374) | **The GRAVITY young stellar object survey XIV : Investigating the magnetospheric accretion-ejection processes in S CrA N**  |\n",
       "|| G. Collaboration, et al. -- incl., <mark>M. Benisty</mark>, <mark>P. Garcia</mark>, <mark>T. Henning</mark>, <mark>S. Scheithauer</mark> |\n",
       "|*Appeared on*| *2024-08-06*|\n",
       "|*Comments*| **|\n",
       "|**Abstract**|            The dust- and gas-rich protoplanetary disks around young stellar systems play a key role in star and planet formation. While considerable progress has recently been made in probing these disks on large scales of a few tens of astronomical units (au), the central au needs to be more investigated. We aim at unveiling the physical processes at play in the innermost regions of the strongly accreting T Tauri Star S CrA N by means of near-infrared interferometric observations. The K-band continuum emission is well reproduced with an azimuthally-modulated dusty ring. As the star alone cannot explain the size of this sublimation front, we propose that magnetospheric accretion is an important dust-heating mechanism leading to this continuum emission. The differential analysis of the Hydrogen Br$\\gamma$ line is in agreement with radiative transfer models combining magnetospheric accretion and disk winds. Our observations support an origin of the Br$\\gamma$ line from a combination of (variable) accretion-ejection processes in the inner disk region.         |"
      ],
      "text/plain": [
       "[2408.02374] The GRAVITY young stellar object survey XIV : Investigating the magnetospheric accretion-ejection processes in S CrA N\n",
       "\tG. Collaboration, et al. -- incl., <mark>M. Benisty</mark>, <mark>P. Garcia</mark>, <mark>T. Henning</mark>, <mark>S. Scheithauer</mark>"
      ]
     },
     "metadata": {},
     "output_type": "display_data"
    },
    {
     "data": {
      "text/markdown": [
       "## Failed papers"
      ],
      "text/plain": [
       "<IPython.core.display.Markdown object>"
      ]
     },
     "metadata": {},
     "output_type": "display_data"
    },
    {
     "data": {
      "text/markdown": [
       "\n",
       "|||\n",
       "|---:|:---|\n",
       "| [![arXiv](https://img.shields.io/badge/arXiv-2408.01665-b31b1b.svg)](https://arxiv.org/abs/2408.01665) | **Cosmological perturbations in the energy-momentum squared gravity theory: constraints from gravitational wave standard sirens and redshift space distortions**  |\n",
       "|| Q.-M. Fu, <mark>X. Zhang</mark> |\n",
       "|*Appeared on*| *2024-08-06*|\n",
       "|*Comments*| *11 pages, 2 figures*|\n",
       "|**Abstract**|            We investigate the linear cosmological perturbations in the context of the so-called energy-momentum squared gravity (EMSG) theory. Recent researches show that the EMSG theory can reproduce viable background cosmological evolution comparable to $\\Lambda$CDM, while the matter-dominated era exhibits slight distinctions. In this paper, we mainly focus on the power-law EMSG models and derive the equations for the linear cosmological perturbations. We explore the propagation of the gravitational wave (GW) and the growth of matter density perturbation at the first order, and estimate the model parameters from the simulated GW data and the observed redshift space distortion data. Our analysis reveals that the model parameters should be small and positive in $1\\sigma$ confidence interval, which indicates that the theory is in good agreement with the observational data and can be regarded as an alternative for the standard cosmological model.         |\n",
       "|<p style=\"color:green\"> **ERROR** </p>| <p style=\"color:green\">affiliation error: mpia.affiliation_verifications: 'Heidelberg' keyword not found.</p> |"
      ],
      "text/plain": [
       "<IPython.core.display.Markdown object>"
      ]
     },
     "metadata": {},
     "output_type": "display_data"
    },
    {
     "data": {
      "text/markdown": [
       "\n",
       "|||\n",
       "|---:|:---|\n",
       "| [![arXiv](https://img.shields.io/badge/arXiv-2408.02171-b31b1b.svg)](https://arxiv.org/abs/2408.02171) | **J-PLUS: Beyond Spectroscopy III. Stellar Parameters and Elemental-abundance Ratios for Five Million Stars from DR3**  |\n",
       "|| Y. Huang, et al. -- incl., <mark>J. Liu</mark> |\n",
       "|*Appeared on*| *2024-08-06*|\n",
       "|*Comments*| *31 pages, 20 figures, 3 tables, accepeted by ApJ*|\n",
       "|**Abstract**|            We present a catalog of stellar parameters (effective temperature $T_{\\rm eff}$, surface gravity $\\log g$, age, and metallicity [Fe/H]) and elemental-abundance ratios ([C/Fe], [Mg/Fe], and [$\\alpha$/Fe]) for some five million stars (4.5 million dwarfs and 0.5 million giants stars) in the Milky Way, based on stellar colors from the Javalambre Photometric Local Universe Survey (J-PLUS) DR3 and \\textit{Gaia} EDR3. These estimates are obtained through the construction of a large spectroscopic training set with parameters and abundances adjusted to uniform scales, and trained with a Kernel Principal Component Analysis. Owing to the seven narrow/medium-band filters employed by J-PLUS, we obtain precisions in the abundance estimates that are as good or better than derived from medium-resolution spectroscopy for stars covering a wide range of the parameter space: 0.10-0.20 dex for [Fe/H] and [C/Fe], and 0.05 dex for [Mg/Fe] and [$\\alpha$/Fe]. Moreover, systematic errors due to the influence of molecular carbon bands on previous photometric-metallicity estimates (which only included two narrow/medium-band blue filters) have now been removed, resulting in photometric-metallicity estimates down to [Fe/H] $\\sim -4.0$, with typical uncertainties of 0.25 dex and 0.40 dex for dwarfs and giants, respectively. This large photometric sample should prove useful for the exploration of the assembly and chemical-evolution history of our Galaxy.         |\n",
       "|<p style=\"color:green\"> **ERROR** </p>| <p style=\"color:green\">affiliation error: mpia.affiliation_verifications: 'Heidelberg' keyword not found.</p> |"
      ],
      "text/plain": [
       "<IPython.core.display.Markdown object>"
      ]
     },
     "metadata": {},
     "output_type": "display_data"
    },
    {
     "data": {
      "text/markdown": [
       "\n",
       "|||\n",
       "|---:|:---|\n",
       "| [![arXiv](https://img.shields.io/badge/arXiv-2408.02305-b31b1b.svg)](https://arxiv.org/abs/2408.02305) | **Star Formation, Nebulae, and Active Galactic Nuclei in CLASH Brightest Cluster Galaxies. I. Dependence on Core Entropy of Intracluster Medium**  |\n",
       "|| A. Levitskiy, et al. -- incl., <mark>J. Li</mark> |\n",
       "|*Appeared on*| *2024-08-06*|\n",
       "|*Comments*| *39 Pages, 18 Figures*|\n",
       "|**Abstract**|            We set the stage for reassessing how star formation, emission-line nebulae, and active galactic nuclei (AGNs) in brightest cluster galaxies (BCGs) depend on the thermodynamics of the intracluster medium (ICM). Our work is based on the 25 clusters observed in the CLASH program for which the aforementioned attributes in their BCGs can be well scrutinized, as has the thermodynamics of their ICM. Nine of these BCGs display complex UV morphologies tracing recent star formation, whereas the remaining 16 are characterized by a relatively compact central UV enhancement. Here, we show definitively that three of the latter BCGs also display star formation, whereas the diffuse UV of the remaining 13 is entirely consistent with old low-mass stars. The overall results support the previously established dependence of star formation and nebulae in BCGs on an \"excess core entropy,\" K$_{0}$, for the ICM: all 11 clusters with K$_{0}$ $\\leq$ 24 keV cm$^{2}$ (but only one of 14 clusters with K$_{0}$ $\\geq$ 42 keV cm$^{2}$) host star-forming BCGs that almost if not always possess nebulae. Instead of an entropy floor, we show that K$_{0}$ reflects the degree to which the radial entropy profile decreases inward within $\\sim$100 kpc rather than (except perhaps at large K$_{0}$) actually flattening: clusters with lower ICM entropies and hence shorter cooling times at their cores preferentially host BCGs displaying star formation, nebulae, and more radio-luminous AGNs. Nearly all BCGs possess detectable AGNs, however, indicating multiple pathways for fuelling their AGNs.         |\n",
       "|<p style=\"color:green\"> **ERROR** </p>| <p style=\"color:green\">affiliation error: mpia.affiliation_verifications: 'Heidelberg' keyword not found.</p> |"
      ],
      "text/plain": [
       "<IPython.core.display.Markdown object>"
      ]
     },
     "metadata": {},
     "output_type": "display_data"
    },
    {
     "data": {
      "text/markdown": [
       "\n",
       "|||\n",
       "|---:|:---|\n",
       "| [![arXiv](https://img.shields.io/badge/arXiv-2408.01937-b31b1b.svg)](https://arxiv.org/abs/2408.01937) | **Inflight Performance and Calibrations of the Lyman-alpha Solar Telescope on board the Advanced Space-based Solar Observatory**  |\n",
       "|| B. Chen, et al. -- incl., <mark>J. Li</mark>, <mark>X. Zhang</mark>, <mark>S. Li</mark> |\n",
       "|*Appeared on*| *2024-08-06*|\n",
       "|*Comments*| *Solar Physics (ASO-S mission topical collection), accepted*|\n",
       "|**Abstract**|            The Lyman-alpha Solar Telescope (LST) on board the Advanced Space-based Solar Observatory (ASO-S) is the first payload to image the full solar disk and the solar corona in both white-light (WL) and ultraviolet (UV) H I Lya, extending up to 2.5 solar radii (Rs). Since the launch of the ASO-S on 9 October 2022, LST has captured various significant solar activities including flares, prominences, coronal mass ejections (CMEs). LST covers different passbands of 121.6 nm, 360 nm and 700 nm. The Lya Solar Disk Imager (SDI) has a field of view (FOV) of 38.4 arcmin and a spatial resolution of around 9.5 arcsec, while the White-Light Solar Telescope (WST) has a FOV of 38.43 arcmin and a spatial resolution of around 3.0 arcsec. The FOV of the Lya Solar Corona Imager (SCI) reaches 81.1 arcmin and its spatial resolution is 4.3 arcsec. The stray-light level in the 700 nm waveband is about 7.8e-6 MSB (mean solar brightness) at 1.1 Rs and 7.6e-7 MSB at 2.5 Rs, and in the Lya waveband it is around 4.3e-3 MSB at 1.1 Rs and 4.1e-4 MSB at 2.5 Rs. This article will detail the results from on-orbit tests and calibrations.         |\n",
       "|<p style=\"color:red\"> **ERROR** </p>| <p style=\"color:red\">latex error not a gzip file</p> |"
      ],
      "text/plain": [
       "<IPython.core.display.Markdown object>"
      ]
     },
     "metadata": {},
     "output_type": "display_data"
    }
   ],
   "source": [
    "import datetime\n",
    "today = str(datetime.date.today())\n",
    "logfile = f\"_build/html/logs/log-{today}.md\"\n",
    "\n",
    "\n",
    "with open(logfile, 'w') as logs:\n",
    "    # Success\n",
    "    logs.write(f'# Arxiv on Deck 2: Logs - {today}\\n\\n')\n",
    "    logs.write(\"\"\"* Arxiv had {0:,d} new papers\\n\"\"\".format(len(new_papers)))\n",
    "    logs.write(\"\"\"    * {0:,d} with possible author matches\\n\\n\"\"\".format(len(candidates)))\n",
    "    logs.write(\"## Sucessful papers\\n\\n\")\n",
    "    display(Markdown(\"## Successful papers\"))\n",
    "    success = [k[0] for k in documents]\n",
    "    for candid in candidates:\n",
    "        if candid['identifier'].split(':')[-1] in success:\n",
    "            display(candid)\n",
    "            logs.write(candid.generate_markdown_text() + '\\n\\n')\n",
    "\n",
    "    ## failed\n",
    "    logs.write(\"## Failed papers\\n\\n\")\n",
    "    display(Markdown(\"## Failed papers\"))\n",
    "    failed = sorted(failed, key=lambda x: x[1])\n",
    "    current_reason = \"\"\n",
    "    for paper, reason in failed:\n",
    "        if 'affiliation' in reason:\n",
    "            color = 'green'\n",
    "        else:\n",
    "            color = 'red'\n",
    "        data = Markdown(\n",
    "                paper.generate_markdown_text() + \n",
    "                f'\\n|<p style=\"color:{color:s}\"> **ERROR** </p>| <p style=\"color:{color:s}\">{reason:s}</p> |'\n",
    "               )\n",
    "        if reason != current_reason:\n",
    "            logs.write(f'### {reason:s} \\n\\n')\n",
    "            current_reason = reason\n",
    "        logs.write(data.data + '\\n\\n')\n",
    "        \n",
    "        # only display here the important errors (all in logs)\n",
    "        # if color in ('red',):\n",
    "        display(data)"
   ]
  },
  {
   "cell_type": "markdown",
   "id": "472d20ee",
   "metadata": {
    "papermill": {
     "duration": 0.004672,
     "end_time": "2024-08-06T04:11:20.256341",
     "exception": false,
     "start_time": "2024-08-06T04:11:20.251669",
     "status": "completed"
    },
    "tags": []
   },
   "source": [
    "## Export documents\n",
    "\n",
    "We now write the .md files and export relevant images"
   ]
  },
  {
   "cell_type": "code",
   "execution_count": 7,
   "id": "d426aed9",
   "metadata": {
    "execution": {
     "iopub.execute_input": "2024-08-06T04:11:20.266876Z",
     "iopub.status.busy": "2024-08-06T04:11:20.266474Z",
     "iopub.status.idle": "2024-08-06T04:11:20.273473Z",
     "shell.execute_reply": "2024-08-06T04:11:20.272896Z"
    },
    "papermill": {
     "duration": 0.013828,
     "end_time": "2024-08-06T04:11:20.274820",
     "exception": false,
     "start_time": "2024-08-06T04:11:20.260992",
     "status": "completed"
    },
    "tags": []
   },
   "outputs": [],
   "source": [
    "def export_markdown_summary(md: str, md_fname:str, directory: str):\n",
    "    \"\"\"Export MD document and associated relevant images\"\"\"\n",
    "    import os\n",
    "    import shutil\n",
    "    import re\n",
    "\n",
    "    if (os.path.exists(directory) and not os.path.isdir(directory)):\n",
    "        raise RuntimeError(f\"a non-directory file exists with name {directory:s}\")\n",
    "\n",
    "    if (not os.path.exists(directory)):\n",
    "        print(f\"creating directory {directory:s}\")\n",
    "        os.mkdir(directory)\n",
    "\n",
    "    fig_fnames = (re.compile(r'\\[Fig.*\\]\\((.*)\\)').findall(md) + \n",
    "                  re.compile(r'\\<img src=\"([^>\\s]*)\"[^>]*/>').findall(md))\n",
    "    print(\"found figures\", fig_fnames)\n",
    "    for fname in fig_fnames:\n",
    "        if 'http' in fname:\n",
    "            # No need to copy online figures\n",
    "            continue\n",
    "        if not os.path.exists(fname):\n",
    "            print(\"file not found\", fname)\n",
    "            continue\n",
    "        print(\"copying \", fname, \"to\", directory)\n",
    "        destdir = os.path.join(directory, os.path.dirname(fname))\n",
    "        destfname = os.path.join(destdir, os.path.basename(fname))\n",
    "        try:\n",
    "            os.makedirs(destdir)\n",
    "        except FileExistsError:\n",
    "            pass\n",
    "        shutil.copy(fname, destfname)\n",
    "    with open(os.path.join(directory, md_fname), 'w') as fout:\n",
    "        fout.write(md)\n",
    "    print(\"exported in \", os.path.join(directory, md_fname))\n",
    "    [print(\"    + \" + os.path.join(directory,fk)) for fk in fig_fnames]"
   ]
  },
  {
   "cell_type": "code",
   "execution_count": 8,
   "id": "014d04a4",
   "metadata": {
    "execution": {
     "iopub.execute_input": "2024-08-06T04:11:20.285182Z",
     "iopub.status.busy": "2024-08-06T04:11:20.284803Z",
     "iopub.status.idle": "2024-08-06T04:11:20.297560Z",
     "shell.execute_reply": "2024-08-06T04:11:20.296965Z"
    },
    "papermill": {
     "duration": 0.019353,
     "end_time": "2024-08-06T04:11:20.298857",
     "exception": false,
     "start_time": "2024-08-06T04:11:20.279504",
     "status": "completed"
    },
    "tags": []
   },
   "outputs": [
    {
     "name": "stdout",
     "output_type": "stream",
     "text": [
      "found figures ['tmp_2408.01491/./figs/flowchart.png', 'tmp_2408.01491/./figs/completeness_rast.png', 'tmp_2408.01491/./figs/posteriors_conf.png']\n",
      "copying  tmp_2408.01491/./figs/flowchart.png to _build/html/\n",
      "copying  tmp_2408.01491/./figs/completeness_rast.png to _build/html/\n",
      "copying  tmp_2408.01491/./figs/posteriors_conf.png to _build/html/\n",
      "exported in  _build/html/2408.01491.md\n",
      "    + _build/html/tmp_2408.01491/./figs/flowchart.png\n",
      "    + _build/html/tmp_2408.01491/./figs/completeness_rast.png\n",
      "    + _build/html/tmp_2408.01491/./figs/posteriors_conf.png\n",
      "found figures ['tmp_2408.02374/./Data.png', 'tmp_2408.02374/./BRG_Shifts.png', 'tmp_2408.02374/./schema_scales.png']\n",
      "copying  tmp_2408.02374/./Data.png to _build/html/\n",
      "copying  tmp_2408.02374/./BRG_Shifts.png to _build/html/\n",
      "copying  tmp_2408.02374/./schema_scales.png to _build/html/\n",
      "exported in  _build/html/2408.02374.md\n",
      "    + _build/html/tmp_2408.02374/./Data.png\n",
      "    + _build/html/tmp_2408.02374/./BRG_Shifts.png\n",
      "    + _build/html/tmp_2408.02374/./schema_scales.png\n"
     ]
    }
   ],
   "source": [
    "for paper_id, md in documents:\n",
    "    export_markdown_summary(md, f\"{paper_id:s}.md\", '_build/html/')"
   ]
  },
  {
   "cell_type": "markdown",
   "id": "f087a0a7",
   "metadata": {
    "papermill": {
     "duration": 0.004758,
     "end_time": "2024-08-06T04:11:20.308415",
     "exception": false,
     "start_time": "2024-08-06T04:11:20.303657",
     "status": "completed"
    },
    "tags": []
   },
   "source": [
    "## Display the papers\n",
    "\n",
    "Not necessary but allows for a quick check."
   ]
  },
  {
   "cell_type": "code",
   "execution_count": 9,
   "id": "fd25f625",
   "metadata": {
    "execution": {
     "iopub.execute_input": "2024-08-06T04:11:20.318937Z",
     "iopub.status.busy": "2024-08-06T04:11:20.318553Z",
     "iopub.status.idle": "2024-08-06T04:11:20.324745Z",
     "shell.execute_reply": "2024-08-06T04:11:20.324023Z"
    },
    "papermill": {
     "duration": 0.01286,
     "end_time": "2024-08-06T04:11:20.326041",
     "exception": false,
     "start_time": "2024-08-06T04:11:20.313181",
     "status": "completed"
    },
    "scrolled": false,
    "tags": []
   },
   "outputs": [
    {
     "data": {
      "text/markdown": [
       "<div class=\"macros\" style=\"visibility:hidden;\">\n",
       "$\\newcommand{\\ensuremath}{}$\n",
       "$\\newcommand{\\xspace}{}$\n",
       "$\\newcommand{\\object}[1]{\\texttt{#1}}$\n",
       "$\\newcommand{\\farcs}{{.}''}$\n",
       "$\\newcommand{\\farcm}{{.}'}$\n",
       "$\\newcommand{\\arcsec}{''}$\n",
       "$\\newcommand{\\arcmin}{'}$\n",
       "$\\newcommand{\\ion}[2]{#1#2}$\n",
       "$\\newcommand{\\textsc}[1]{\\textrm{#1}}$\n",
       "$\\newcommand{\\hl}[1]{\\textrm{#1}}$\n",
       "$\\newcommand{\\footnote}[1]{}$\n",
       "$\\newcommand{\\vdag}{(v)^\\dagger}$\n",
       "$\\newcommand$\n",
       "$\\newcommand$\n",
       "$\\newcommand{\\Ha}{H\\alpha\\xspace}$\n",
       "$\\newcommand{\\Lacc}{\\ensuremath{L_{\\mathrm{acc}}}\\xspace}$\n",
       "$\\newcommand{\\LHa}{\\ensuremath{L_{\\mathrm{H}\\alpha}}\\xspace}$\n",
       "$\\newcommand{\\MMd}{\\ensuremath{M\\dot M}\\xspace}$\n",
       "$\\newcommand{\\MdtoM}{\\ensuremath{\\dot M\\textrm{--}M}\\xspace}$\n",
       "$\\newcommand{\\LHatoLacc}{\\ensuremath{L_{\\mathrm{H}\\alpha}\\textrm{--}L_{\\mathrm{acc}}}\\xspace}$\n",
       "$\\newcommand{\\cp}[1]{\\textcolor{orange}{CP:  \\textit{#1}}}$\n",
       "$\\newcommand{\\kf}[1]{\\textcolor{blue}{KF:  \\textit{#1}}}$\n",
       "$\\newcommand{\\MMdunits}{\\ensuremath{M_J^2 \\rm{yr}^{-1}}\\xspace}$</div>\n",
       "\n",
       "\n",
       "\n",
       "<div id=\"title\">\n",
       "\n",
       "# Accreting companion occurrence rates using a new method to compute emission-line survey sensitivity: application to the H$\\alpha$ Giant Accreting Protoplanet Survey (GAPlanetS)\n",
       "\n",
       "</div>\n",
       "<div id=\"comments\">\n",
       "\n",
       "[![arXiv](https://img.shields.io/badge/arXiv-2408.01491-b31b1b.svg)](https://arxiv.org/abs/2408.01491)<mark>Appeared on: 2024-08-06</mark> -  _Submitted to ApJ. Comments welcome. 18 pages, 7 figures_\n",
       "\n",
       "</div>\n",
       "<div id=\"authors\">\n",
       "\n",
       "C. Plunkett, K. B. Follette, <mark>G.-D. Marleau</mark>, E. Nielsen\n",
       "\n",
       "</div>\n",
       "<div id=\"abstract\">\n",
       "\n",
       "**Abstract:** A key scientific goal of exoplanet surveys is to characterize the underlying population of planets in the local galaxy. In particular, the properties of accreting _proto_ planets can inform the rates and physical processes of planet formation. We develop a novel method to compute sensitivity to protoplanets in emission-line direct-imaging surveys, enabling estimates of protoplanet population properties under various planetary accretion and formation theories. In this work, we specialize to the case of $\\Ha$ and investigate three formation models governing the planetary-mass-to-mass-accretion-rate power law, and two accretion models that describe the scaling between total accretion luminosity and observable $\\Ha$ line luminosity. We apply our method to the results of the Magellan Giant Accreting Protoplanet Survey (GAPlanetS) to place the first constraints on accreting companion occurrence rates in systems with transitional circumstellar disks. We compute the posterior probability for transitional disk systems to host an accreting companion ( $-8\\leq\\log \\MMd[\\MMdunits]\\leq-2$ ) within 2 arcseconds ( $\\sim200$ au). Across accretion models, we find consistent accreting companion rates, with median and one-sigma credible intervals of $0.15^{+0.18}_{-0.10}$ and $0.19^{+0.23}_{-0.12}$ . Our technique enables studying protoplanet populations under flexible assumptions about planet formation. This formalism provides the statistical underpinning necessary for protoplanet surveys to discriminate among formation and accretion theories for planets and brown dwarfs.\n",
       "\n",
       "</div>\n",
       "\n",
       "<div id=\"div_fig1\">\n",
       "\n",
       "<img src=\"tmp_2408.01491/./figs/flowchart.png\" alt=\"Fig3\" width=\"100%\"/>\n",
       "\n",
       "**Figure 3. -** Steps to estimate direct-imaging survey completeness to accreting companions. At each physical parameter set $(a,M)$, we simulate $10^4$ accreting companions. First, we sample mass accretion rates $\\dot M$ using an assumed model for the $\\MdtoM$ scaling. Step A shows the models in Section \\ref{ssec:formpar}; the stellar model is in purple and the planetary in green. Next, we convert each $\\MMd$ to $\\Lacc$(Section \\ref{ssec:gravinfall}). We then compute the observable $\\LHa$ based on a model for the accretion scaling; Step B shows the two models in Section \\ref{ssec:accpar}. We obtain the projected separation distribution by sampling companion orbital parameters as in Section \\ref{ssec:orbits}; Step C shows one such distribution for an object at $a=100$ au. Finally, we compare the simulated companions to the survey star's contrast curve to estimate the detectable fraction. Step D shows two examples of 100 brown dwarfs $(a,M) = (100 \\mathrm{au},  26 M_J)$ around PDS70; the left panel shows companions simulated using both \"stellar\" models, while the right uses both \"planetary\" models. We repeat across a grid in $(a.M)$ for each combination of models to obtain the entire completeness maps (Step E). (*fig:flowchart*)\n",
       "\n",
       "</div>\n",
       "<div id=\"div_fig2\">\n",
       "\n",
       "<img src=\"tmp_2408.01491/./figs/completeness_rast.png\" alt=\"Fig4\" width=\"100%\"/>\n",
       "\n",
       "**Figure 4. -** Completeness to accreting companions for the 14 stars surveyed by GAPlanetS as a function of semimajor axis [au] and mass $[M_J]$ for the four combinations of models. The color scale shows the depth of search, or the number of stars to which the survey is complete. The row dictates the $\\MdtoM$ relation, with the top the stellar \\citepalias{Betti2023} model and bottom the planetary \\citepalias{Stamatellos2015} model. The column defines the $\\LHa$toLacc scaling, with the left the stellar \\citepalias{Alcala2017} and right the planetary \\citepalias{Aoyama2021} scaling. Contours show completeness to 2.5, 5, 7.5, and 10 (out of 14) stars in the sample. (*fig:completeness*)\n",
       "\n",
       "</div>\n",
       "<div id=\"div_fig3\">\n",
       "\n",
       "<img src=\"tmp_2408.01491/./figs/posteriors_conf.png\" alt=\"Fig6\" width=\"100%\"/>\n",
       "\n",
       "**Figure 6. -** Posteriors on accreting object occurrence rate around stars hosting transitional disks, $f_p$, for different subsets of the GAPlanetS detections. In all, we compare the stellar (purple) and planetary (green) accretion scaling relations. The legends give the median and one-sigma uncertainties (16$^{\\textrm{th}}$ and 84$^{\\textrm{th}}$ percentiles), also marked by dashed lines. _Left:_ posteriors on $f_p$ using the three confident detections. _Center:_ posteriors on the rate of accreting companions _inside_ disk gaps, excluding HD100453 B, which lies outside the gap. _Right:_ posteriors on the accreting _protoplanet_ rate, excluding the low-mass stars HD100453 B and HD142527 B. (*fig:posteriors_conf*)\n",
       "\n",
       "</div><div id=\"qrcode\"><img src=https://api.qrserver.com/v1/create-qr-code/?size=100x100&data=\"https://arxiv.org/abs/2408.01491\"></div>"
      ],
      "text/plain": [
       "<IPython.core.display.Markdown object>"
      ]
     },
     "metadata": {},
     "output_type": "display_data"
    },
    {
     "data": {
      "text/markdown": [
       "<div class=\"macros\" style=\"visibility:hidden;\">\n",
       "$\\newcommand{\\ensuremath}{}$\n",
       "$\\newcommand{\\xspace}{}$\n",
       "$\\newcommand{\\object}[1]{\\texttt{#1}}$\n",
       "$\\newcommand{\\farcs}{{.}''}$\n",
       "$\\newcommand{\\farcm}{{.}'}$\n",
       "$\\newcommand{\\arcsec}{''}$\n",
       "$\\newcommand{\\arcmin}{'}$\n",
       "$\\newcommand{\\ion}[2]{#1#2}$\n",
       "$\\newcommand{\\textsc}[1]{\\textrm{#1}}$\n",
       "$\\newcommand{\\hl}[1]{\\textrm{#1}}$\n",
       "$\\newcommand{\\footnote}[1]{}$\n",
       "$\\newcommand{\\muas}{\\upmu\\rm{as}}$\n",
       "$\\newcommand{\\ms}{m s^{-1}}$\n",
       "$\\newcommand{\\kms}{km.s^{-1}}$\n",
       "$\\newcommand{\\vsini}{v\\sin i}$\n",
       "$\\newcommand{\\vsinia}{v\\sin i_{\\rm A}}$\n",
       "$\\newcommand{\\vsinib}{v\\sin i_{\\rm B}}$\n",
       "$\\newcommand{\\vrad}{v_{\\rm rad}}$\n",
       "$\\newcommand{\\vmic}{v_{\\rm mic}}$\n",
       "$\\newcommand{\\vmac}{v_{\\rm th}}$\n",
       "$\\newcommand{\\msun}{M_{\\odot}}$\n",
       "$\\newcommand{\\msunpyr}{M_{\\odot}.yr^{-1}}$\n",
       "$\\newcommand{\\Lsun}{L_\\odot}$\n",
       "$\\newcommand{\\rsun}{R_{\\odot}}$\n",
       "$\\newcommand{\\bl}{B_{\\ell}}$\n",
       "$\\newcommand{\\bd}{B_{\\rm D}}$\n",
       "$\\newcommand{\\ddeg}{^{\\circ}}$\n",
       "$\\newcommand{\\te}{T_{\\rm eff}}$\n",
       "$\\newcommand{\\logg}{\\log{g}}$\n",
       "$\\newcommand{\\prot}{P_{\\rm rot}}$\n",
       "$\\newcommand{\\Brgam}{Br\\gamma}$\n",
       "$\\newcommand{\\Th}{^\\text{th}}$</div>\n",
       "\n",
       "\n",
       "\n",
       "<div id=\"title\">\n",
       "\n",
       "# The GRAVITY young stellar object survey\n",
       "\n",
       "</div>\n",
       "<div id=\"comments\">\n",
       "\n",
       "[![arXiv](https://img.shields.io/badge/arXiv-2408.02374-b31b1b.svg)](https://arxiv.org/abs/2408.02374)<mark>Appeared on: 2024-08-06</mark> - \n",
       "\n",
       "</div>\n",
       "<div id=\"authors\">\n",
       "\n",
       "G. Collaboration, et al. -- incl., <mark>M. Benisty</mark>, <mark>P. Garcia</mark>, <mark>T. Henning</mark>, <mark>S. Scheithauer</mark>\n",
       "\n",
       "</div>\n",
       "<div id=\"abstract\">\n",
       "\n",
       "**Abstract:** The dust- and gas-rich protoplanetary disks around young stellar systems play a key role in star and planet formation. While considerable progress has recently been made in probing these disks on large scales of a few tens of astronomical units (au), the central au needs to be more investigated. We aim at unveiling the physical processes at play in the innermost regions of the strongly accreting T Tauri Star S CrA N by means of near-infrared interferometric observations. As recent spectropolarimetric observations suggested that S CrA N might undergo intense ejection processes, we focus on the accretion-ejection phenomena and on the star-disk interaction region. We obtained interferometric observations with VLTI/GRAVITY in the K-band during two consecutive nights in August 2022. The analysis of the continuum emission, coupled with the differential analysis acrossthe $\\Brgam$ line, allows us to constrain the morphology of the dust and gas distribution in the innermost regions of S CrA N and to investigate their temporal variability. These observations are compared to magnetospheric accretion/ejection models of T Tauri stars and to previous observations to describe the physical processes operating in these regions. The K-band continuum emission is well reproduced with an azimuthally-modulated dusty ring with a half-light radius of 0.24 au ( $\\sim$ 20 $R_*$ ), an inclination of $\\sim$ 30 $\\ddeg$ , and a position angle of $\\sim$ 150 $\\ddeg$ . As the star alone cannot explain such a large sublimation front, we propose that magnetospheric accretion is an important dust-heating mechanism leading to this continuum emission. The $\\Brgam$ emitting region (0.05-0.06 au; 5-7 $R_*$ ) is found to be more compact than the continuum, and of the order or larger than the size of the magnetospheric truncation radius. The on-sky displacements across the $\\Brgam$ spectral channels are aligned along a position angle offset by 45 $\\ddeg$ from the disk, and extend up to 2 $R_*$ . This is in agreement with radiative transfer models combining magnetospheric accretion and disk winds. These on-sky displacements remain unchanged from one night to the other, while the line flux decreases by 13 \\% , suggesting a dominant contribution of wind for the origin of the $\\Brgam$ line. Our observations support an origin of the $\\Brgam$ line from a combination of (variable) accretion-ejection processes in the inner disk region.\n",
       "\n",
       "</div>\n",
       "\n",
       "<div id=\"div_fig1\">\n",
       "\n",
       "<img src=\"tmp_2408.02374/./Data.png\" alt=\"Fig7\" width=\"100%\"/>\n",
       "\n",
       "**Figure 7. -** $\\Brgam$ differential interferometric observables of S CrA N: Squared differential visibilities (left); Differential phases (middle); u-v plane coverage (upper-right); Line-to-continuum flux ratio in the reference frame of the star, LSR- tellurics-corrected (lower-right). Each color used in the u-v coverage plot corresponds to an interferometric baseline and is consistent from one panel to the other. For the interferometric observables, the plots include the quantities for each frame (solid lines), the median for August 19 (circles), and for August 20 (squares). Uncertainties are given in all plots (vertical bars), and are smaller than the symbol if not visible. Grey shaded regions correspond to the velocities that are not considered for our $\\Brgam$ line analysis (see text for details). (*fig:BrGam_Data*)\n",
       "\n",
       "</div>\n",
       "<div id=\"div_fig2\">\n",
       "\n",
       "<img src=\"tmp_2408.02374/./BRG_Shifts.png\" alt=\"Fig8\" width=\"100%\"/>\n",
       "\n",
       "**Figure 8. -** Asymmetry of the $\\Brgam$ emitting region of S CrA N. Left : pure-line differential phases. The pure line differential phases are depicted by blue-to-red color coded symbols for August 19 (circles), and for August 20 (squares), while the observed phases for each individual observation (similar to Fig. \\ref{fig:BrGam_Data}) are depicted in solid lines, with their color corresponding to their baseline. Right : on-sky photocenter shifts with respect to the continuum photocenter (in (0, 0) as a function of velocity (coded from blue to red colors).\n",
       "    The light yellow cones correspond to the uncertainties on the major axis orientation of the inner dusty disk. The background symbols are the displacements obtained from individual files.  (*fig:shifts*)\n",
       "\n",
       "</div>\n",
       "<div id=\"div_fig3\">\n",
       "\n",
       "<img src=\"tmp_2408.02374/./schema_scales.png\" alt=\"Fig9\" width=\"100%\"/>\n",
       "\n",
       "**Figure 9. -** S CrA N at different scales. Right: Representation of the star-disk interaction region (not to scale), with the characteristic sizes derived in this work. {The obliquity of the magnetosphere is just illustrative as no consolidated value exists}. Top-left: SPHERE polarized intensity image from [Zhang, Ginski and Huang (2023)](), and the directions toward the HH objects associated to S CrA. We also reported the PA of the dusty disk measured from the K-band continuum and the orientation of photocenter shifts as yellow, red and blue cones, respectively. Dashed cones highlight the suggested outflow emission (see text). Bottom-left: ALMA $^{12}$CO(2-1) first moment map from [Gupta, Miotello and Manara (2023)](). The cone is reported from the SPHERE observations, and the HH82 direction is indicated. Both images have been rotated to have the same orientation as the sketch, where the North and East directions are shown. (*fig:schema_scales*)\n",
       "\n",
       "</div><div id=\"qrcode\"><img src=https://api.qrserver.com/v1/create-qr-code/?size=100x100&data=\"https://arxiv.org/abs/2408.02374\"></div>"
      ],
      "text/plain": [
       "<IPython.core.display.Markdown object>"
      ]
     },
     "metadata": {},
     "output_type": "display_data"
    }
   ],
   "source": [
    "[display(Markdown(k[1])) for k in documents];"
   ]
  },
  {
   "cell_type": "markdown",
   "id": "873873a4",
   "metadata": {
    "papermill": {
     "duration": 0.005105,
     "end_time": "2024-08-06T04:11:20.336404",
     "exception": false,
     "start_time": "2024-08-06T04:11:20.331299",
     "status": "completed"
    },
    "tags": []
   },
   "source": [
    "# Create HTML index"
   ]
  },
  {
   "cell_type": "code",
   "execution_count": 10,
   "id": "cf665672",
   "metadata": {
    "execution": {
     "iopub.execute_input": "2024-08-06T04:11:20.347648Z",
     "iopub.status.busy": "2024-08-06T04:11:20.347230Z",
     "iopub.status.idle": "2024-08-06T04:11:20.354399Z",
     "shell.execute_reply": "2024-08-06T04:11:20.353846Z"
    },
    "papermill": {
     "duration": 0.014208,
     "end_time": "2024-08-06T04:11:20.355722",
     "exception": false,
     "start_time": "2024-08-06T04:11:20.341514",
     "status": "completed"
    },
    "tags": []
   },
   "outputs": [
    {
     "name": "stdout",
     "output_type": "stream",
     "text": [
      "152  publications files modified in the last 7 days.\n"
     ]
    }
   ],
   "source": [
    "from datetime import datetime, timedelta, timezone\n",
    "from glob import glob\n",
    "import os\n",
    "\n",
    "files = glob('_build/html/*.md')\n",
    "days = 7\n",
    "now = datetime.today()\n",
    "res = []\n",
    "for fk in files:\n",
    "    stat_result = os.stat(fk).st_ctime\n",
    "    modified = datetime.fromtimestamp(stat_result, tz=timezone.utc).replace(tzinfo=None)\n",
    "    delta = now.today() - modified\n",
    "    if delta <= timedelta(days=days):\n",
    "        res.append((delta.seconds, fk))\n",
    "res = [k[1] for k in reversed(sorted(res, key=lambda x:x[1]))]\n",
    "npub = len(res)\n",
    "print(len(res), f\" publications files modified in the last {days:d} days.\")\n",
    "# [ print('\\t', k) for k in res ];"
   ]
  },
  {
   "cell_type": "code",
   "execution_count": 11,
   "id": "015de740",
   "metadata": {
    "execution": {
     "iopub.execute_input": "2024-08-06T04:11:20.367285Z",
     "iopub.status.busy": "2024-08-06T04:11:20.366856Z",
     "iopub.status.idle": "2024-08-06T04:11:20.380436Z",
     "shell.execute_reply": "2024-08-06T04:11:20.379900Z"
    },
    "papermill": {
     "duration": 0.020825,
     "end_time": "2024-08-06T04:11:20.381730",
     "exception": false,
     "start_time": "2024-08-06T04:11:20.360905",
     "status": "completed"
    },
    "tags": []
   },
   "outputs": [
    {
     "name": "stdout",
     "output_type": "stream",
     "text": [
      "6  publications in the last 7 days.\n"
     ]
    }
   ],
   "source": [
    "import datetime\n",
    "from glob import glob\n",
    "\n",
    "def get_last_n_days(lst, days=1):\n",
    "    \"\"\" Get the documents from the last n days \"\"\"\n",
    "    sorted_lst = sorted(lst, key=lambda x: x[1], reverse=True)\n",
    "    for fname, date in sorted_lst:\n",
    "        if date >= str(datetime.date.today() - datetime.timedelta(days=days)):\n",
    "            yield fname\n",
    "\n",
    "def extract_appearance_dates(lst_file):\n",
    "    dates = []\n",
    "\n",
    "    def get_date(line):\n",
    "        return line\\\n",
    "            .split('Appeared on:')[-1]\\\n",
    "            .split('</mark>')[0].strip()\n",
    "\n",
    "    for fname in lst:\n",
    "        with open(fname, 'r') as f:\n",
    "            found_date = False\n",
    "            for line in f:\n",
    "                if not found_date:\n",
    "                    if \"Appeared on\" in line:\n",
    "                        found_date = True\n",
    "                        dates.append((fname, get_date(line)))\n",
    "                else:\n",
    "                    break\n",
    "    return dates\n",
    "\n",
    "from glob import glob\n",
    "lst = glob('_build/html/*md')\n",
    "days = 7\n",
    "dates = extract_appearance_dates(lst)\n",
    "res = list(get_last_n_days(dates, days))\n",
    "npub = len(res)\n",
    "print(len(res), f\" publications in the last {days:d} days.\")"
   ]
  },
  {
   "cell_type": "code",
   "execution_count": 12,
   "id": "52ca0208",
   "metadata": {
    "execution": {
     "iopub.execute_input": "2024-08-06T04:11:20.393575Z",
     "iopub.status.busy": "2024-08-06T04:11:20.393008Z",
     "iopub.status.idle": "2024-08-06T04:11:20.397911Z",
     "shell.execute_reply": "2024-08-06T04:11:20.397319Z"
    },
    "papermill": {
     "duration": 0.012121,
     "end_time": "2024-08-06T04:11:20.399179",
     "exception": false,
     "start_time": "2024-08-06T04:11:20.387058",
     "status": "completed"
    },
    "scrolled": false,
    "tags": []
   },
   "outputs": [],
   "source": [
    "def create_carousel(npub=4):\n",
    "    \"\"\" Generate the HTML code for a carousel with `npub` slides \"\"\"\n",
    "    carousel = [\"\"\"  <div class=\"carousel\" \"\"\",\n",
    "                \"\"\"       data-flickity='{ \"autoPlay\": 10000, \"adaptiveHeight\": true, \"resize\": true, \"wrapAround\": true, \"pauseAutoPlayOnHover\": true, \"groupCells\": 1 }' id=\"asyncTypeset\">\"\"\"\n",
    "                ]\n",
    "    \n",
    "    item_str = \"\"\"    <div class=\"carousel-cell\"> <div id=\"slide{k}\" class=\"md_view\">Content {k}</div> </div>\"\"\"\n",
    "    for k in range(1, npub + 1):\n",
    "        carousel.append(item_str.format(k=k))\n",
    "    carousel.append(\"  </div>\")\n",
    "    return '\\n'.join(carousel)\n",
    "\n",
    "def create_grid(npub=4):\n",
    "    \"\"\" Generate the HTML code for a flat grid with `npub` slides \"\"\"\n",
    "    grid = [\"\"\"  <div class=\"grid\"> \"\"\",\n",
    "                ]\n",
    "    \n",
    "    item_str = \"\"\"    <div class=\"grid-item\"> <div id=\"slide{k}\" class=\"md_view\">Content {k}</div> </div>\"\"\"\n",
    "    for k in range(1, npub + 1):\n",
    "        grid.append(item_str.format(k=k))\n",
    "    grid.append(\"  </div>\")\n",
    "    return '\\n'.join(grid)"
   ]
  },
  {
   "cell_type": "code",
   "execution_count": 13,
   "id": "a6eac5b6",
   "metadata": {
    "execution": {
     "iopub.execute_input": "2024-08-06T04:11:20.410727Z",
     "iopub.status.busy": "2024-08-06T04:11:20.410526Z",
     "iopub.status.idle": "2024-08-06T04:11:20.415658Z",
     "shell.execute_reply": "2024-08-06T04:11:20.415115Z"
    },
    "papermill": {
     "duration": 0.012425,
     "end_time": "2024-08-06T04:11:20.416968",
     "exception": false,
     "start_time": "2024-08-06T04:11:20.404543",
     "status": "completed"
    },
    "scrolled": false,
    "tags": []
   },
   "outputs": [],
   "source": [
    "carousel = create_carousel(npub)\n",
    "docs = ', '.join(['\"{0:s}\"'.format(k.split('/')[-1]) for k in res])\n",
    "slides = ', '.join([f'\"slide{k}\"' for k in range(1, npub + 1)])\n",
    "\n",
    "with open(\"daily_template.html\", \"r\") as tpl:\n",
    "    page = tpl.read()\n",
    "    page = page.replace(\"{%-- carousel:s --%}\", carousel)\\\n",
    "               .replace(\"{%-- suptitle:s --%}\",  \"7-day archives\" )\\\n",
    "               .replace(\"{%-- docs:s --%}\", docs)\\\n",
    "               .replace(\"{%-- slides:s --%}\", slides)\n",
    "    \n",
    "with open(\"_build/html/index_7days.html\", 'w') as fout:\n",
    "    fout.write(page)"
   ]
  },
  {
   "cell_type": "code",
   "execution_count": 14,
   "id": "adc1a1ec",
   "metadata": {
    "execution": {
     "iopub.execute_input": "2024-08-06T04:11:20.428667Z",
     "iopub.status.busy": "2024-08-06T04:11:20.428226Z",
     "iopub.status.idle": "2024-08-06T04:11:20.434447Z",
     "shell.execute_reply": "2024-08-06T04:11:20.433825Z"
    },
    "papermill": {
     "duration": 0.013488,
     "end_time": "2024-08-06T04:11:20.435730",
     "exception": false,
     "start_time": "2024-08-06T04:11:20.422242",
     "status": "completed"
    },
    "tags": []
   },
   "outputs": [
    {
     "name": "stdout",
     "output_type": "stream",
     "text": [
      "2  publications in the last day.\n"
     ]
    }
   ],
   "source": [
    "# redo for today\n",
    "days = 1\n",
    "res = list(get_last_n_days(dates, days))\n",
    "npub = len(res)\n",
    "print(len(res), f\" publications in the last day.\")\n",
    "\n",
    "carousel = create_carousel(npub)\n",
    "docs = ', '.join(['\"{0:s}\"'.format(k.split('/')[-1]) for k in res])\n",
    "slides = ', '.join([f'\"slide{k}\"' for k in range(1, npub + 1)])\n",
    "\n",
    "with open(\"daily_template.html\", \"r\") as tpl:\n",
    "    page = tpl.read()\n",
    "    page = page.replace(\"{%-- carousel:s --%}\", carousel)\\\n",
    "               .replace(\"{%-- suptitle:s --%}\",  \"Daily\" )\\\n",
    "               .replace(\"{%-- docs:s --%}\", docs)\\\n",
    "               .replace(\"{%-- slides:s --%}\", slides)\n",
    "    \n",
    "# print(carousel, docs, slides)\n",
    "# print(page)\n",
    "with open(\"_build/html/index_daily.html\", 'w') as fout:\n",
    "    fout.write(page)"
   ]
  },
  {
   "cell_type": "code",
   "execution_count": 15,
   "id": "00eece82",
   "metadata": {
    "execution": {
     "iopub.execute_input": "2024-08-06T04:11:20.447971Z",
     "iopub.status.busy": "2024-08-06T04:11:20.447453Z",
     "iopub.status.idle": "2024-08-06T04:11:20.453939Z",
     "shell.execute_reply": "2024-08-06T04:11:20.453326Z"
    },
    "papermill": {
     "duration": 0.013987,
     "end_time": "2024-08-06T04:11:20.455275",
     "exception": false,
     "start_time": "2024-08-06T04:11:20.441288",
     "status": "completed"
    },
    "scrolled": false,
    "tags": []
   },
   "outputs": [
    {
     "name": "stdout",
     "output_type": "stream",
     "text": [
      "6  6 publications selected.\n"
     ]
    }
   ],
   "source": [
    "# Create the flat grid of the last N papers (fixed number regardless of dates)\n",
    "from itertools import islice \n",
    "\n",
    "npub = 6\n",
    "res = [k[0] for k in (islice(reversed(sorted(dates, key=lambda x: x[1])), 6))]\n",
    "print(len(res), f\" {npub} publications selected.\")\n",
    "\n",
    "grid = create_grid(npub)\n",
    "docs = ', '.join(['\"{0:s}\"'.format(k.split('/')[-1]) for k in res])\n",
    "slides = ', '.join([f'\"slide{k}\"' for k in range(1, npub + 1)])\n",
    "\n",
    "with open(\"grid_template.html\", \"r\") as tpl:\n",
    "    page = tpl.read()\n",
    "    page = page.replace(\"{%-- grid-content:s --%}\", grid)\\\n",
    "               .replace(\"{%-- suptitle:s --%}\",  f\"Last {npub:,d} papers\" )\\\n",
    "               .replace(\"{%-- docs:s --%}\", docs)\\\n",
    "               .replace(\"{%-- slides:s --%}\", slides)\n",
    "    \n",
    "# print(grid, docs, slides)\n",
    "# print(page)\n",
    "with open(\"_build/html/index_npub_grid.html\", 'w') as fout:\n",
    "    fout.write(page)"
   ]
  }
 ],
 "metadata": {
  "kernelspec": {
   "display_name": "Python 3 (ipykernel)",
   "language": "python",
   "name": "python3"
  },
  "language_info": {
   "codemirror_mode": {
    "name": "ipython",
    "version": 3
   },
   "file_extension": ".py",
   "mimetype": "text/x-python",
   "name": "python",
   "nbconvert_exporter": "python",
   "pygments_lexer": "ipython3",
   "version": "3.9.19"
  },
  "papermill": {
   "default_parameters": {},
   "duration": 65.111554,
   "end_time": "2024-08-06T04:11:20.677186",
   "environment_variables": {},
   "exception": null,
   "input_path": "MPIA daily digest.ipynb",
   "output_path": "log.ipynb",
   "parameters": {},
   "start_time": "2024-08-06T04:10:15.565632",
   "version": "2.6.0"
  },
  "vscode": {
   "interpreter": {
    "hash": "aee8b7b246df8f9039afb4144a1f6fd8d2ca17a180786b69acc140d282b71a49"
   }
  },
  "widgets": {
   "application/vnd.jupyter.widget-state+json": {
    "state": {
     "0abc12e33ea44ab5bf41d85fc2312c5a": {
      "model_module": "@jupyter-widgets/controls",
      "model_module_version": "2.0.0",
      "model_name": "HTMLModel",
      "state": {
       "_dom_classes": [],
       "_model_module": "@jupyter-widgets/controls",
       "_model_module_version": "2.0.0",
       "_model_name": "HTMLModel",
       "_view_count": null,
       "_view_module": "@jupyter-widgets/controls",
       "_view_module_version": "2.0.0",
       "_view_name": "HTMLView",
       "description": "",
       "description_allow_html": false,
       "layout": "IPY_MODEL_770427c56c554c489e7b04ea6302f3fd",
       "placeholder": "​",
       "style": "IPY_MODEL_29be00cb12c74217abfdeaf7761520ec",
       "tabbable": null,
       "tooltip": null,
       "value": "100%"
      }
     },
     "29be00cb12c74217abfdeaf7761520ec": {
      "model_module": "@jupyter-widgets/controls",
      "model_module_version": "2.0.0",
      "model_name": "HTMLStyleModel",
      "state": {
       "_model_module": "@jupyter-widgets/controls",
       "_model_module_version": "2.0.0",
       "_model_name": "HTMLStyleModel",
       "_view_count": null,
       "_view_module": "@jupyter-widgets/base",
       "_view_module_version": "2.0.0",
       "_view_name": "StyleView",
       "background": null,
       "description_width": "",
       "font_size": null,
       "text_color": null
      }
     },
     "3d3c8fe3b9924b449347599d5fefaa38": {
      "model_module": "@jupyter-widgets/base",
      "model_module_version": "2.0.0",
      "model_name": "LayoutModel",
      "state": {
       "_model_module": "@jupyter-widgets/base",
       "_model_module_version": "2.0.0",
       "_model_name": "LayoutModel",
       "_view_count": null,
       "_view_module": "@jupyter-widgets/base",
       "_view_module_version": "2.0.0",
       "_view_name": "LayoutView",
       "align_content": null,
       "align_items": null,
       "align_self": null,
       "border_bottom": null,
       "border_left": null,
       "border_right": null,
       "border_top": null,
       "bottom": null,
       "display": null,
       "flex": null,
       "flex_flow": null,
       "grid_area": null,
       "grid_auto_columns": null,
       "grid_auto_flow": null,
       "grid_auto_rows": null,
       "grid_column": null,
       "grid_gap": null,
       "grid_row": null,
       "grid_template_areas": null,
       "grid_template_columns": null,
       "grid_template_rows": null,
       "height": null,
       "justify_content": null,
       "justify_items": null,
       "left": null,
       "margin": null,
       "max_height": null,
       "max_width": null,
       "min_height": null,
       "min_width": null,
       "object_fit": null,
       "object_position": null,
       "order": null,
       "overflow": null,
       "padding": null,
       "right": null,
       "top": null,
       "visibility": null,
       "width": null
      }
     },
     "6f5a2a3a991a4e938072505a2fadef43": {
      "model_module": "@jupyter-widgets/controls",
      "model_module_version": "2.0.0",
      "model_name": "HTMLModel",
      "state": {
       "_dom_classes": [],
       "_model_module": "@jupyter-widgets/controls",
       "_model_module_version": "2.0.0",
       "_model_name": "HTMLModel",
       "_view_count": null,
       "_view_module": "@jupyter-widgets/controls",
       "_view_module_version": "2.0.0",
       "_view_name": "HTMLView",
       "description": "",
       "description_allow_html": false,
       "layout": "IPY_MODEL_3d3c8fe3b9924b449347599d5fefaa38",
       "placeholder": "​",
       "style": "IPY_MODEL_8e79e501a58e4d8bb9b61bb882052b5c",
       "tabbable": null,
       "tooltip": null,
       "value": " 6/6 [00:45&lt;00:00, 10.92s/it]"
      }
     },
     "770427c56c554c489e7b04ea6302f3fd": {
      "model_module": "@jupyter-widgets/base",
      "model_module_version": "2.0.0",
      "model_name": "LayoutModel",
      "state": {
       "_model_module": "@jupyter-widgets/base",
       "_model_module_version": "2.0.0",
       "_model_name": "LayoutModel",
       "_view_count": null,
       "_view_module": "@jupyter-widgets/base",
       "_view_module_version": "2.0.0",
       "_view_name": "LayoutView",
       "align_content": null,
       "align_items": null,
       "align_self": null,
       "border_bottom": null,
       "border_left": null,
       "border_right": null,
       "border_top": null,
       "bottom": null,
       "display": null,
       "flex": null,
       "flex_flow": null,
       "grid_area": null,
       "grid_auto_columns": null,
       "grid_auto_flow": null,
       "grid_auto_rows": null,
       "grid_column": null,
       "grid_gap": null,
       "grid_row": null,
       "grid_template_areas": null,
       "grid_template_columns": null,
       "grid_template_rows": null,
       "height": null,
       "justify_content": null,
       "justify_items": null,
       "left": null,
       "margin": null,
       "max_height": null,
       "max_width": null,
       "min_height": null,
       "min_width": null,
       "object_fit": null,
       "object_position": null,
       "order": null,
       "overflow": null,
       "padding": null,
       "right": null,
       "top": null,
       "visibility": null,
       "width": null
      }
     },
     "8e79e501a58e4d8bb9b61bb882052b5c": {
      "model_module": "@jupyter-widgets/controls",
      "model_module_version": "2.0.0",
      "model_name": "HTMLStyleModel",
      "state": {
       "_model_module": "@jupyter-widgets/controls",
       "_model_module_version": "2.0.0",
       "_model_name": "HTMLStyleModel",
       "_view_count": null,
       "_view_module": "@jupyter-widgets/base",
       "_view_module_version": "2.0.0",
       "_view_name": "StyleView",
       "background": null,
       "description_width": "",
       "font_size": null,
       "text_color": null
      }
     },
     "90765069ff834ffdb1c1b5417f37f2ff": {
      "model_module": "@jupyter-widgets/controls",
      "model_module_version": "2.0.0",
      "model_name": "HBoxModel",
      "state": {
       "_dom_classes": [],
       "_model_module": "@jupyter-widgets/controls",
       "_model_module_version": "2.0.0",
       "_model_name": "HBoxModel",
       "_view_count": null,
       "_view_module": "@jupyter-widgets/controls",
       "_view_module_version": "2.0.0",
       "_view_name": "HBoxView",
       "box_style": "",
       "children": [
        "IPY_MODEL_0abc12e33ea44ab5bf41d85fc2312c5a",
        "IPY_MODEL_ce94fb78ce47418ba880228fac4e39b2",
        "IPY_MODEL_6f5a2a3a991a4e938072505a2fadef43"
       ],
       "layout": "IPY_MODEL_e9e175a959454467aab9a966e898b5c0",
       "tabbable": null,
       "tooltip": null
      }
     },
     "9bfd54dc2bb54f39afaf65e8fa19f9dc": {
      "model_module": "@jupyter-widgets/controls",
      "model_module_version": "2.0.0",
      "model_name": "ProgressStyleModel",
      "state": {
       "_model_module": "@jupyter-widgets/controls",
       "_model_module_version": "2.0.0",
       "_model_name": "ProgressStyleModel",
       "_view_count": null,
       "_view_module": "@jupyter-widgets/base",
       "_view_module_version": "2.0.0",
       "_view_name": "StyleView",
       "bar_color": null,
       "description_width": ""
      }
     },
     "ce94fb78ce47418ba880228fac4e39b2": {
      "model_module": "@jupyter-widgets/controls",
      "model_module_version": "2.0.0",
      "model_name": "FloatProgressModel",
      "state": {
       "_dom_classes": [],
       "_model_module": "@jupyter-widgets/controls",
       "_model_module_version": "2.0.0",
       "_model_name": "FloatProgressModel",
       "_view_count": null,
       "_view_module": "@jupyter-widgets/controls",
       "_view_module_version": "2.0.0",
       "_view_name": "ProgressView",
       "bar_style": "success",
       "description": "",
       "description_allow_html": false,
       "layout": "IPY_MODEL_d3d185aa4d9a452289c6060bdecd15e7",
       "max": 6.0,
       "min": 0.0,
       "orientation": "horizontal",
       "style": "IPY_MODEL_9bfd54dc2bb54f39afaf65e8fa19f9dc",
       "tabbable": null,
       "tooltip": null,
       "value": 6.0
      }
     },
     "d3d185aa4d9a452289c6060bdecd15e7": {
      "model_module": "@jupyter-widgets/base",
      "model_module_version": "2.0.0",
      "model_name": "LayoutModel",
      "state": {
       "_model_module": "@jupyter-widgets/base",
       "_model_module_version": "2.0.0",
       "_model_name": "LayoutModel",
       "_view_count": null,
       "_view_module": "@jupyter-widgets/base",
       "_view_module_version": "2.0.0",
       "_view_name": "LayoutView",
       "align_content": null,
       "align_items": null,
       "align_self": null,
       "border_bottom": null,
       "border_left": null,
       "border_right": null,
       "border_top": null,
       "bottom": null,
       "display": null,
       "flex": null,
       "flex_flow": null,
       "grid_area": null,
       "grid_auto_columns": null,
       "grid_auto_flow": null,
       "grid_auto_rows": null,
       "grid_column": null,
       "grid_gap": null,
       "grid_row": null,
       "grid_template_areas": null,
       "grid_template_columns": null,
       "grid_template_rows": null,
       "height": null,
       "justify_content": null,
       "justify_items": null,
       "left": null,
       "margin": null,
       "max_height": null,
       "max_width": null,
       "min_height": null,
       "min_width": null,
       "object_fit": null,
       "object_position": null,
       "order": null,
       "overflow": null,
       "padding": null,
       "right": null,
       "top": null,
       "visibility": null,
       "width": null
      }
     },
     "e9e175a959454467aab9a966e898b5c0": {
      "model_module": "@jupyter-widgets/base",
      "model_module_version": "2.0.0",
      "model_name": "LayoutModel",
      "state": {
       "_model_module": "@jupyter-widgets/base",
       "_model_module_version": "2.0.0",
       "_model_name": "LayoutModel",
       "_view_count": null,
       "_view_module": "@jupyter-widgets/base",
       "_view_module_version": "2.0.0",
       "_view_name": "LayoutView",
       "align_content": null,
       "align_items": null,
       "align_self": null,
       "border_bottom": null,
       "border_left": null,
       "border_right": null,
       "border_top": null,
       "bottom": null,
       "display": null,
       "flex": null,
       "flex_flow": null,
       "grid_area": null,
       "grid_auto_columns": null,
       "grid_auto_flow": null,
       "grid_auto_rows": null,
       "grid_column": null,
       "grid_gap": null,
       "grid_row": null,
       "grid_template_areas": null,
       "grid_template_columns": null,
       "grid_template_rows": null,
       "height": null,
       "justify_content": null,
       "justify_items": null,
       "left": null,
       "margin": null,
       "max_height": null,
       "max_width": null,
       "min_height": null,
       "min_width": null,
       "object_fit": null,
       "object_position": null,
       "order": null,
       "overflow": null,
       "padding": null,
       "right": null,
       "top": null,
       "visibility": null,
       "width": null
      }
     }
    },
    "version_major": 2,
    "version_minor": 0
   }
  }
 },
 "nbformat": 4,
 "nbformat_minor": 5
}