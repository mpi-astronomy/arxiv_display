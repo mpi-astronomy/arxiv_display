{
 "cells": [
  {
   "cell_type": "markdown",
   "id": "92bcb855",
   "metadata": {
    "papermill": {
     "duration": 0.003946,
     "end_time": "2025-09-11T04:12:00.364927",
     "exception": false,
     "start_time": "2025-09-11T04:12:00.360981",
     "status": "completed"
    },
    "tags": []
   },
   "source": [
    "# MPIA Arxiv on Deck 2\n",
    "\n",
    "Contains the steps to produce the paper extractions."
   ]
  },
  {
   "cell_type": "code",
   "execution_count": 1,
   "id": "3a0d6e11",
   "metadata": {
    "execution": {
     "iopub.execute_input": "2025-09-11T04:12:00.372365Z",
     "iopub.status.busy": "2025-09-11T04:12:00.372082Z",
     "iopub.status.idle": "2025-09-11T04:12:00.593683Z",
     "shell.execute_reply": "2025-09-11T04:12:00.592891Z"
    },
    "papermill": {
     "duration": 0.226986,
     "end_time": "2025-09-11T04:12:00.595144",
     "exception": false,
     "start_time": "2025-09-11T04:12:00.368158",
     "status": "completed"
    },
    "tags": []
   },
   "outputs": [],
   "source": [
    "# Imports\n",
    "import os\n",
    "from IPython.display import Markdown, display\n",
    "from tqdm.notebook import tqdm\n",
    "import warnings\n",
    "from PIL import Image \n",
    "import re\n",
    "\n",
    "# requires arxiv_on_deck_2\n",
    "\n",
    "from arxiv_on_deck_2.arxiv2 import (get_new_papers, \n",
    "                                    get_paper_from_identifier,\n",
    "                                    retrieve_document_source, \n",
    "                                    get_markdown_badge)\n",
    "from arxiv_on_deck_2 import (latex,\n",
    "                             latex_bib,\n",
    "                             mpia,\n",
    "                             highlight_authors_in_list)\n",
    "\n",
    "# Sometimes images are really big\n",
    "Image.MAX_IMAGE_PIXELS = 1000000000 "
   ]
  },
  {
   "cell_type": "code",
   "execution_count": 2,
   "id": "22aa9d44",
   "metadata": {
    "execution": {
     "iopub.execute_input": "2025-09-11T04:12:00.602536Z",
     "iopub.status.busy": "2025-09-11T04:12:00.602296Z",
     "iopub.status.idle": "2025-09-11T04:12:00.610485Z",
     "shell.execute_reply": "2025-09-11T04:12:00.609877Z"
    },
    "papermill": {
     "duration": 0.013092,
     "end_time": "2025-09-11T04:12:00.611597",
     "exception": false,
     "start_time": "2025-09-11T04:12:00.598505",
     "status": "completed"
    },
    "tags": []
   },
   "outputs": [],
   "source": [
    "# Some useful definitions.\n",
    "\n",
    "class AffiliationWarning(UserWarning):\n",
    "    pass\n",
    "\n",
    "class AffiliationError(RuntimeError):\n",
    "    pass\n",
    "\n",
    "def validation(source: str):\n",
    "    \"\"\"Raises error paper during parsing of source file\n",
    "    \n",
    "    Allows checks before parsing TeX code.\n",
    "    \n",
    "    Raises AffiliationWarning\n",
    "    \"\"\"\n",
    "    check = mpia.affiliation_verifications(source, verbose=True)\n",
    "    if check is not True:\n",
    "        raise AffiliationError(\"mpia.affiliation_verifications: \" + check)\n",
    "\n",
    "        \n",
    "warnings.simplefilter('always', AffiliationWarning)\n",
    "\n",
    "\n",
    "def get_markdown_qrcode(paper_id: str):\n",
    "    \"\"\" Generate a qrcode to the arxiv page using qrserver.com\n",
    "    \n",
    "    :param paper: Arxiv paper\n",
    "    :returns: markdown text\n",
    "    \"\"\"\n",
    "    url = r\"https://api.qrserver.com/v1/create-qr-code/?size=100x100&data=\"\n",
    "    txt = f\"\"\"<img src={url}\"https://arxiv.org/abs/{paper_id}\">\"\"\"\n",
    "    txt = '<div id=\"qrcode\">' + txt + '</div>'\n",
    "    return txt\n",
    "\n",
    "\n",
    "def clean_non_western_encoded_characters_commands(text: str) -> str:\n",
    "    \"\"\" Remove non-western encoded characters from a string\n",
    "    List may need to grow.\n",
    "    \n",
    "    :param text: the text to clean\n",
    "    :return: the cleaned text\n",
    "    \"\"\"\n",
    "    text = re.sub(r\"(\\\\begin{CJK}{UTF8}{gbsn})(.*?)(\\\\end{CJK})\", r\"\\2\", text)\n",
    "    return text\n",
    "\n",
    "\n",
    "def get_initials(name: str) -> str:\n",
    "    \"\"\" Get the short name, e.g., A.-B. FamName\n",
    "    :param name: full name\n",
    "    :returns: initials\n",
    "    \"\"\"\n",
    "    initials = []\n",
    "    # account for non western names often in ()\n",
    "    if '(' in name:\n",
    "        name = clean_non_western_encoded_characters_commands(name)\n",
    "        suffix = re.findall(r\"\\((.*?)\\)\", name)[0]\n",
    "        name = name.replace(f\"({suffix})\", '')\n",
    "    else:\n",
    "        suffix = ''\n",
    "    split = name.split()\n",
    "    for token in split[:-1]:\n",
    "        if '-' in token:\n",
    "            current = '-'.join([k[0] + '.' for k in token.split('-')])\n",
    "        else:\n",
    "            current = token[0] + '.'\n",
    "        initials.append(current)\n",
    "    initials.append(split[-1].strip())\n",
    "    if suffix:\n",
    "        initials.append(f\"({suffix})\")\n",
    "    return ' '.join(initials)"
   ]
  },
  {
   "cell_type": "markdown",
   "id": "14bd6310",
   "metadata": {
    "papermill": {
     "duration": 0.002958,
     "end_time": "2025-09-11T04:12:00.617821",
     "exception": false,
     "start_time": "2025-09-11T04:12:00.614863",
     "status": "completed"
    },
    "tags": []
   },
   "source": [
    "## get list of arxiv paper candidates\n",
    "\n",
    "We use the MPIA mitarbeiter list webpage from mpia.de to get author names\n",
    "We then get all new papers from Arxiv and match authors"
   ]
  },
  {
   "cell_type": "code",
   "execution_count": 3,
   "id": "7ea813a8",
   "metadata": {
    "execution": {
     "iopub.execute_input": "2025-09-11T04:12:00.624885Z",
     "iopub.status.busy": "2025-09-11T04:12:00.624593Z",
     "iopub.status.idle": "2025-09-11T04:12:21.481342Z",
     "shell.execute_reply": "2025-09-11T04:12:21.480689Z"
    },
    "papermill": {
     "duration": 20.861916,
     "end_time": "2025-09-11T04:12:21.482746",
     "exception": false,
     "start_time": "2025-09-11T04:12:00.620830",
     "status": "completed"
    },
    "tags": []
   },
   "outputs": [],
   "source": [
    "# deal with the author list and edge cases of people that cannot be consistent on their name  \n",
    "\n",
    "def filter_non_scientists(name: str) -> bool:\n",
    "    \"\"\" Loose filter on expected authorships\n",
    "\n",
    "    removing IT, administration, technical staff\n",
    "    :param name: name\n",
    "    :returns: False if name is not a scientist\n",
    "    \"\"\"\n",
    "    remove_list = ['Licht', 'Binroth', 'Witzel', 'Jordan',\n",
    "                   'Zähringer', 'Scheerer', 'Hoffmann', 'Düe',\n",
    "                   'Hellmich', 'Enkler-Scharpegge', 'Witte-Nguy',\n",
    "                   'Dehen', 'Beckmann', 'Jager', 'Jäger'\n",
    "                  ]\n",
    "\n",
    "    for k in remove_list:\n",
    "        if k in name:\n",
    "            return False\n",
    "    return True\n",
    "\n",
    "def add_author_to_list(author_list: list) -> list:\n",
    "    \"\"\" Add author to list if not already in list\n",
    "    \n",
    "    :param author: author name\n",
    "    :param author_list: list of authors\n",
    "    :returns: updated list of authors\n",
    "    \"\"\"\n",
    "    add_list = ['T. Henning']\n",
    "\n",
    "    for author in add_list:\n",
    "        if author not in author_list:\n",
    "            author_list.append(author)\n",
    "    return author_list\n",
    "\n",
    "# get list from MPIA website\n",
    "# filter for non-scientists (mpia.get_mpia_mitarbeiter_list() does some filtering)\n",
    "mpia_authors = [k[1] for k in mpia.get_mpia_mitarbeiter_list() if filter_non_scientists(k[1])]\n",
    "# add some missing author because of inconsistencies in their MPIA name and author name on papers\n",
    "mpia_authors = add_author_to_list(mpia_authors)"
   ]
  },
  {
   "cell_type": "code",
   "execution_count": 4,
   "id": "2645e73a",
   "metadata": {
    "execution": {
     "iopub.execute_input": "2025-09-11T04:12:21.490554Z",
     "iopub.status.busy": "2025-09-11T04:12:21.490291Z",
     "iopub.status.idle": "2025-09-11T04:12:22.198349Z",
     "shell.execute_reply": "2025-09-11T04:12:22.197592Z"
    },
    "papermill": {
     "duration": 0.713278,
     "end_time": "2025-09-11T04:12:22.199508",
     "exception": false,
     "start_time": "2025-09-11T04:12:21.486230",
     "status": "completed"
    },
    "tags": []
   },
   "outputs": [
    {
     "name": "stdout",
     "output_type": "stream",
     "text": [
      "M. Samland  ->  M. Samland  |  ['M. Samland']\n",
      "Y. Wang  ->  Y. Wang  |  ['Y. Wang']\n"
     ]
    },
    {
     "name": "stdout",
     "output_type": "stream",
     "text": [
      "S. Belladitta  ->  S. Belladitta  |  ['S. Belladitta']\n",
      "J. Wolf  ->  D. J. Wolf  |  ['J. Wolf']\n",
      "Arxiv has 55 new papers today\n",
      "          3 with possible author matches\n"
     ]
    }
   ],
   "source": [
    "new_papers = get_new_papers()\n",
    "# add manual references\n",
    "add_paper_refs = []\n",
    "new_papers.extend([get_paper_from_identifier(k) for k in add_paper_refs])\n",
    "\n",
    "def robust_call(fn, value, *args, **kwargs):\n",
    "    try:\n",
    "        return fn(value, *args, **kwargs)\n",
    "    except Exception:\n",
    "        return value\n",
    "\n",
    "candidates = []\n",
    "for paperk in new_papers:\n",
    "    # Check author list with their initials\n",
    "    normed_author_list = [robust_call(mpia.get_initials, k) for k in paperk['authors']]\n",
    "    hl_authors = highlight_authors_in_list(normed_author_list, mpia_authors, verbose=True)\n",
    "    matches = [(hl, orig) for hl, orig in zip(hl_authors, paperk['authors']) if 'mark' in hl]\n",
    "    paperk['authors'] = hl_authors\n",
    "    if matches:\n",
    "        # only select paper if an author matched our list\n",
    "        candidates.append(paperk)\n",
    "print(\"\"\"Arxiv has {0:,d} new papers today\"\"\".format(len(new_papers)))        \n",
    "print(\"\"\"          {0:,d} with possible author matches\"\"\".format(len(candidates)))"
   ]
  },
  {
   "cell_type": "markdown",
   "id": "3543b34a",
   "metadata": {
    "papermill": {
     "duration": 0.003187,
     "end_time": "2025-09-11T04:12:22.206323",
     "exception": false,
     "start_time": "2025-09-11T04:12:22.203136",
     "status": "completed"
    },
    "tags": []
   },
   "source": [
    "# Parse sources and generate relevant outputs\n",
    "\n",
    "From the candidates, we do the following steps:\n",
    "* get their tarball from ArXiv (and extract data)\n",
    "* find the main .tex file: find one with \\documentclass{...} (sometimes it's non trivial)\n",
    "* Check affiliations with :func:`validation`, which uses :func:`mpia.affiliation_verifications`\n",
    "* If passing the affiliations: we parse the .tex source\n",
    "   * inject sub-documents into the main (flatten the main document)\n",
    "   * parse structure, extract information (title, abstract, authors, figures...)\n",
    "   * handles `\\graphicspath` if provided\n",
    "* Generate the .md document."
   ]
  },
  {
   "cell_type": "code",
   "execution_count": 5,
   "id": "9576b79e",
   "metadata": {
    "execution": {
     "iopub.execute_input": "2025-09-11T04:12:22.213947Z",
     "iopub.status.busy": "2025-09-11T04:12:22.213577Z",
     "iopub.status.idle": "2025-09-11T04:12:44.229732Z",
     "shell.execute_reply": "2025-09-11T04:12:44.228900Z"
    },
    "papermill": {
     "duration": 22.021365,
     "end_time": "2025-09-11T04:12:44.230851",
     "exception": false,
     "start_time": "2025-09-11T04:12:22.209486",
     "status": "completed"
    },
    "scrolled": false,
    "tags": []
   },
   "outputs": [
    {
     "data": {
      "application/vnd.jupyter.widget-view+json": {
       "model_id": "62892c91112646d088b420f46fc03d72",
       "version_major": 2,
       "version_minor": 0
      },
      "text/plain": [
       "  0%|          | 0/3 [00:00<?, ?it/s]"
      ]
     },
     "metadata": {},
     "output_type": "display_data"
    },
    {
     "name": "stdout",
     "output_type": "stream",
     "text": [
      "Retrieving document from  https://arxiv.org/e-print/2509.08044\n"
     ]
    },
    {
     "name": "stdout",
     "output_type": "stream",
     "text": [
      "extracting tarball to tmp_2509.08044... done.\n"
     ]
    },
    {
     "name": "stderr",
     "output_type": "stream",
     "text": [
      "/opt/hostedtoolcache/Python/3.9.23/x64/lib/python3.9/site-packages/arxiv_on_deck_2/latex.py:745: LatexWarning: Could not extract abstract from tmp_2509.08044/paper.tex\n",
      "  warnings.warn(LatexWarning(f\"Could not extract abstract from {self.main_file}\"))\n",
      "/opt/hostedtoolcache/Python/3.9.23/x64/lib/python3.9/site-packages/arxiv_on_deck_2/latex.py:695: LatexWarning: Falling back to regex to find figures\n",
      "  warnings.warn(LatexWarning(\"Falling back to regex to find figures\"))\n",
      "/opt/hostedtoolcache/Python/3.9.23/x64/lib/python3.9/site-packages/arxiv_on_deck_2/latex.py:698: LatexWarning: Fallback: found 0 figures.\n",
      "  warnings.warn(LatexWarning(\"Fallback: found \" + str(len(results)) + \" figures.\"))\n"
     ]
    },
    {
     "name": "stdout",
     "output_type": "stream",
     "text": [
      "Issues with the citations\n",
      "list index out of range\n",
      "Retrieving document from  https://arxiv.org/e-print/2509.08172\n",
      "extracting tarball to tmp_2509.08172... done.\n",
      "Retrieving document from  https://arxiv.org/e-print/2509.08793\n"
     ]
    },
    {
     "name": "stdout",
     "output_type": "stream",
     "text": [
      "extracting tarball to tmp_2509.08793... done.\n"
     ]
    },
    {
     "name": "stderr",
     "output_type": "stream",
     "text": [
      "/opt/hostedtoolcache/Python/3.9.23/x64/lib/python3.9/site-packages/arxiv_on_deck_2/latex.py:745: LatexWarning: Could not extract abstract from tmp_2509.08793/sn-article.tex\n",
      "  warnings.warn(LatexWarning(f\"Could not extract abstract from {self.main_file}\"))\n"
     ]
    },
    {
     "name": "stdout",
     "output_type": "stream",
     "text": [
      "Issues with the citations\n",
      "list index out of range\n"
     ]
    }
   ],
   "source": [
    "documents = []\n",
    "failed = []\n",
    "for paper in tqdm(candidates):\n",
    "    # debug crap\n",
    "    paper['identifier'] = paper['identifier'].lower().replace('arxiv:', '').replace(r'\\n', '').strip()\n",
    "    paper_id = paper['identifier']\n",
    "    \n",
    "    folder = f'tmp_{paper_id}'\n",
    "\n",
    "    try:\n",
    "        if not os.path.isdir(folder):\n",
    "            folder = retrieve_document_source(f\"{paper_id}\", f'tmp_{paper_id}')\n",
    "        \n",
    "        try:\n",
    "            doc = latex.LatexDocument(folder, validation=validation)    \n",
    "        except AffiliationError as affilerror:\n",
    "            msg = f\"ArXiv:{paper_id:s} is not an MPIA paper... \" + str(affilerror)\n",
    "            failed.append((paper, \"affiliation error: \" + str(affilerror) ))\n",
    "            continue\n",
    "        \n",
    "        # Hack because sometimes author parsing does not work well\n",
    "        if (len(doc.authors) != len(paper['authors'])):\n",
    "            doc._authors = paper['authors']\n",
    "        else:\n",
    "            # highlight authors (FIXME: doc.highlight_authors)\n",
    "            # done on arxiv paper already\n",
    "            doc._authors = highlight_authors_in_list(\n",
    "                [get_initials(k) for k in doc.authors], \n",
    "                mpia_authors, verbose=True)\n",
    "        if (doc.abstract) in (None, ''):\n",
    "            doc._abstract = paper['abstract']\n",
    "            \n",
    "        doc.comment = (get_markdown_badge(paper_id) + \n",
    "                       \"<mark>Appeared on: \" + paper['date'] + \"</mark> - \")\n",
    "        if paper['comments']:\n",
    "            doc.comment += \" _\" + paper['comments'] + \"_\"\n",
    "        \n",
    "        full_md = doc.generate_markdown_text()\n",
    "        \n",
    "        full_md += get_markdown_qrcode(paper_id)\n",
    "        \n",
    "        # replace citations\n",
    "        try:\n",
    "            bibdata = latex_bib.LatexBib.from_doc(doc)\n",
    "            full_md = latex_bib.replace_citations(full_md, bibdata)\n",
    "        except Exception as e:\n",
    "            print(\"Issues with the citations\")\n",
    "            print(e)\n",
    "        \n",
    "        documents.append((paper_id, full_md))\n",
    "    except Exception as e:\n",
    "        warnings.warn(latex.LatexWarning(f\"{paper_id:s} did not run properly\\n\" +\n",
    "                                         str(e)\n",
    "                                        ))\n",
    "        failed.append((paper, \"latex error \" + str(e)))"
   ]
  },
  {
   "cell_type": "markdown",
   "id": "2505a25c",
   "metadata": {
    "papermill": {
     "duration": 0.003666,
     "end_time": "2025-09-11T04:12:44.238681",
     "exception": false,
     "start_time": "2025-09-11T04:12:44.235015",
     "status": "completed"
    },
    "tags": []
   },
   "source": [
    "### Export the logs\n",
    "\n",
    "Throughout, we also keep track of the logs per paper. see `logs-{today date}.md` "
   ]
  },
  {
   "cell_type": "code",
   "execution_count": 6,
   "id": "d733828a",
   "metadata": {
    "execution": {
     "iopub.execute_input": "2025-09-11T04:12:44.247248Z",
     "iopub.status.busy": "2025-09-11T04:12:44.246941Z",
     "iopub.status.idle": "2025-09-11T04:12:44.261470Z",
     "shell.execute_reply": "2025-09-11T04:12:44.260746Z"
    },
    "papermill": {
     "duration": 0.020486,
     "end_time": "2025-09-11T04:12:44.262755",
     "exception": false,
     "start_time": "2025-09-11T04:12:44.242269",
     "status": "completed"
    },
    "scrolled": false,
    "tags": []
   },
   "outputs": [
    {
     "data": {
      "text/markdown": [
       "## Successful papers"
      ],
      "text/plain": [
       "<IPython.core.display.Markdown object>"
      ]
     },
     "metadata": {},
     "output_type": "display_data"
    },
    {
     "data": {
      "text/markdown": [
       "\n",
       "|||\n",
       "|---:|:---|\n",
       "| [![arXiv](https://img.shields.io/badge/arXiv-2509.08044-b31b1b.svg)](https://arxiv.org/abs/2509.08044) | **spherical: A Comprehensive Database and Automated Pipeline for VLT/SPHERE High-Contrast Imaging**  |\n",
       "|| <mark>M. Samland</mark> |\n",
       "|*Appeared on*| *2025-09-11*|\n",
       "|*Comments*| *4 pages, 0 figures, submitted to JOSS*|\n",
       "|**Abstract**|            I present spherical (this https URL), a software package and database designed for the ESO VLT/SPHERE high-contrast imager. SPHERE has produced the world's largest archive of direct imaging observations of exoplanets and circumstellar disks, but its heterogeneous metadata and fragmented reduction tools make end-to-end analysis labor-intensive. spherical addresses this by combining (1) a curated, regularly updated, and searchable database of all SPHERE observations, cross-matched with stellar properties and observing conditions, and (2) a Python-based, script-driven pipeline for the Integral Field Spectrograph (IFS). The database, archived on Zenodo (this https URL) and reproducible from the ESO archive, currently includes about 6000 IRDIS dual-band imaging, about 1000 IRDIS polarimetric, and about 4500 IFS sequences, with additional modes (ZIMPOL, IRDIS-LSS, SAM) planned. The pipeline automates raw data retrieval, calibration, and IFS reduction with the adapted open-source CHARIS instrument pipeline, followed by astrometric and photometric calibration and post-processing with TRAP for companion detection and spectral extraction. spherical lowers the barrier from raw files to science-ready products, enabling homogeneous population studies, atmospheric characterization of companions, and efficient survey follow-up, while remaining interoperable with community tools such as VIP, pyKLIP, and IRDAP.         |"
      ],
      "text/plain": [
       "[2509.08044] spherical: A Comprehensive Database and Automated Pipeline for VLT/SPHERE High-Contrast Imaging\n",
       "\t<mark>M. Samland</mark>"
      ]
     },
     "metadata": {},
     "output_type": "display_data"
    },
    {
     "data": {
      "text/markdown": [
       "\n",
       "|||\n",
       "|---:|:---|\n",
       "| [![arXiv](https://img.shields.io/badge/arXiv-2509.08793-b31b1b.svg)](https://arxiv.org/abs/2509.08793) | **Frequent Extreme Galaxy-scale Outflows among Luminous Early Quasars**  |\n",
       "|| W. Liu, et al. -- incl., <mark>S. Belladitta</mark>, <mark>J. Wolf</mark> |\n",
       "|*Appeared on*| *2025-09-11*|\n",
       "|*Comments*| *24 pages, 6 figures. Nature in review. This manuscript represents the original submitted version following journal policy. Comments are welcome!*|\n",
       "|**Abstract**|            The existence of abundant post-starburst/quiescent galaxies just $\\sim$1-2 Gyrs after the Big Bang challenges our current paradigm of galaxy evolution. Cosmological simulations suggest that quasar feedback is likely the most promising mechanism responsible for such rapid quenching. Here we report a high detection rate (6/27) of exceptionally fast and powerful galaxy-scale outflows traced by [O III] emission in z $\\sim$ 5-6 luminous quasars as revealed by the James Webb Space Telescope (JWST), with velocity up to $\\sim$8400 km s$^{-1}$ and order-of-magnitude kinetic energy outflow rates up to $\\sim$260% the observed quasar bolometric luminosities. This fraction is $\\gtrsim$6.6 times larger than that in luminosity-matched comparison samples at z $\\sim$ 1.5-3.5 (0/58) and z $<$ 1 (5/148). These extreme outflows are comparable to or even faster than the most rapid [O III] outflows reported at z $\\lesssim$ 3, and could reach the circumgalactic medium (CGM) or even the intergalactic medium (IGM). The average kinetic energy outflow rate of our entire sample is $\\sim$230$\\times$ higher than that at cosmic noon. The substantially higher frequency of outflows with energetics well above the threshold for negative feedback in our sample strongly suggests that quasar feedback plays a significant role in efficiently quenching/regulating early massive galaxies.         |"
      ],
      "text/plain": [
       "[2509.08793] Frequent Extreme Galaxy-scale Outflows among Luminous Early Quasars\n",
       "\tW. Liu, et al. -- incl., <mark>S. Belladitta</mark>, <mark>J. Wolf</mark>"
      ]
     },
     "metadata": {},
     "output_type": "display_data"
    },
    {
     "data": {
      "text/markdown": [
       "## Failed papers"
      ],
      "text/plain": [
       "<IPython.core.display.Markdown object>"
      ]
     },
     "metadata": {},
     "output_type": "display_data"
    },
    {
     "data": {
      "text/markdown": [
       "\n",
       "|||\n",
       "|---:|:---|\n",
       "| [![arXiv](https://img.shields.io/badge/arXiv-2509.08172-b31b1b.svg)](https://arxiv.org/abs/2509.08172) | **Short GRB 090510: a magnetized neutron star binary merger leading to a black hole**  |\n",
       "|| J. A. Rueda, R. Ruffini, <mark>Y. Wang</mark> |\n",
       "|*Appeared on*| *2025-09-11*|\n",
       "|*Comments*| *Accepted for publication in the Journal of High Energy Astrophysics (JHEAP)*|\n",
       "|**Abstract**|            We model the short gamma-ray bursts (GRB) 090510 as the product of a magnetized neutron star (NS) binary merger. Accounting for the NS critical mass constraint given by the mass of PSR J0952--0607, we infer that GRB 090510 was a highly-magnetized NS-NS merger that left as remnant a Kerr black hole (BH) of $2.4 M_\\odot$ with a low-mass accretion disk. The gamma-ray precursor is powered by the magnetic energy released during the merger of the NSs. The prompt emission originates at the transparency of an ultra-relativistic $e^+e^-$ pair-plasma produced by the overcritical electric field induced by the rotating strong magnetic field around the merged object before it reaches the critical mass, the GeV emission by the extractable energy of the newborn BH, and the X-ray afterglow by accretion onto it. We derive the masses of the merging NSs, their magnetic fields, the BH mass, spin, and irreducible mass, the strength of the magnetic field, the disk mass, and obtain an estimate of the gravitational-wave emission during the merger phase preceding the prompt short GRB emission. The inferred parameters agree with up-to-date numerical relativity simulations, confirming that strong magnetic fields above $10^{14}$ G develop in NS-NS mergers and that mergers leading to a central BH remnant have low-mass disks of $\\sim 10^{-2} M_\\odot$. We also advance the possibility that quasi-period oscillations of tens of Hz of frequency due to Lense-Thirring precession of the matter surrounding the merged object before BH formation can explain the successive spikes following the prompt emission peak.         |\n",
       "|<p style=\"color:green\"> **ERROR** </p>| <p style=\"color:green\">affiliation error: mpia.affiliation_verifications: 'Heidelberg' keyword not found.</p> |"
      ],
      "text/plain": [
       "<IPython.core.display.Markdown object>"
      ]
     },
     "metadata": {},
     "output_type": "display_data"
    }
   ],
   "source": [
    "import datetime\n",
    "today = str(datetime.date.today())\n",
    "logfile = f\"_build/html/logs/log-{today}.md\"\n",
    "\n",
    "\n",
    "with open(logfile, 'w') as logs:\n",
    "    # Success\n",
    "    logs.write(f'# Arxiv on Deck 2: Logs - {today}\\n\\n')\n",
    "    logs.write(\"\"\"* Arxiv had {0:,d} new papers\\n\"\"\".format(len(new_papers)))\n",
    "    logs.write(\"\"\"    * {0:,d} with possible author matches\\n\\n\"\"\".format(len(candidates)))\n",
    "    logs.write(\"## Sucessful papers\\n\\n\")\n",
    "    display(Markdown(\"## Successful papers\"))\n",
    "    success = [k[0] for k in documents]\n",
    "    for candid in candidates:\n",
    "        if candid['identifier'].split(':')[-1] in success:\n",
    "            display(candid)\n",
    "            logs.write(candid.generate_markdown_text() + '\\n\\n')\n",
    "\n",
    "    ## failed\n",
    "    logs.write(\"## Failed papers\\n\\n\")\n",
    "    display(Markdown(\"## Failed papers\"))\n",
    "    failed = sorted(failed, key=lambda x: x[1])\n",
    "    current_reason = \"\"\n",
    "    for paper, reason in failed:\n",
    "        if 'affiliation' in reason:\n",
    "            color = 'green'\n",
    "        else:\n",
    "            color = 'red'\n",
    "        data = Markdown(\n",
    "                paper.generate_markdown_text() + \n",
    "                f'\\n|<p style=\"color:{color:s}\"> **ERROR** </p>| <p style=\"color:{color:s}\">{reason:s}</p> |'\n",
    "               )\n",
    "        if reason != current_reason:\n",
    "            logs.write(f'### {reason:s} \\n\\n')\n",
    "            current_reason = reason\n",
    "        logs.write(data.data + '\\n\\n')\n",
    "        \n",
    "        # only display here the important errors (all in logs)\n",
    "        # if color in ('red',):\n",
    "        display(data)"
   ]
  },
  {
   "cell_type": "markdown",
   "id": "472d20ee",
   "metadata": {
    "papermill": {
     "duration": 0.004132,
     "end_time": "2025-09-11T04:12:44.271262",
     "exception": false,
     "start_time": "2025-09-11T04:12:44.267130",
     "status": "completed"
    },
    "tags": []
   },
   "source": [
    "## Export documents\n",
    "\n",
    "We now write the .md files and export relevant images"
   ]
  },
  {
   "cell_type": "code",
   "execution_count": 7,
   "id": "d426aed9",
   "metadata": {
    "execution": {
     "iopub.execute_input": "2025-09-11T04:12:44.280822Z",
     "iopub.status.busy": "2025-09-11T04:12:44.280507Z",
     "iopub.status.idle": "2025-09-11T04:12:44.288192Z",
     "shell.execute_reply": "2025-09-11T04:12:44.287450Z"
    },
    "papermill": {
     "duration": 0.013826,
     "end_time": "2025-09-11T04:12:44.289251",
     "exception": false,
     "start_time": "2025-09-11T04:12:44.275425",
     "status": "completed"
    },
    "tags": []
   },
   "outputs": [],
   "source": [
    "def export_markdown_summary(md: str, md_fname:str, directory: str):\n",
    "    \"\"\"Export MD document and associated relevant images\"\"\"\n",
    "    import os\n",
    "    import shutil\n",
    "    import re\n",
    "\n",
    "    if (os.path.exists(directory) and not os.path.isdir(directory)):\n",
    "        raise RuntimeError(f\"a non-directory file exists with name {directory:s}\")\n",
    "\n",
    "    if (not os.path.exists(directory)):\n",
    "        print(f\"creating directory {directory:s}\")\n",
    "        os.mkdir(directory)\n",
    "\n",
    "    fig_fnames = (re.compile(r'\\[Fig.*\\]\\((.*)\\)').findall(md) + \n",
    "                  re.compile(r'\\<img src=\"([^>\\s]*)\"[^>]*/>').findall(md))\n",
    "    print(\"found figures\", fig_fnames)\n",
    "    for fname in fig_fnames:\n",
    "        if 'http' in fname:\n",
    "            # No need to copy online figures\n",
    "            continue\n",
    "        if not os.path.exists(fname):\n",
    "            print(\"file not found\", fname)\n",
    "            continue\n",
    "        print(\"copying \", fname, \"to\", directory)\n",
    "        destdir = os.path.join(directory, os.path.dirname(fname))\n",
    "        destfname = os.path.join(destdir, os.path.basename(fname))\n",
    "        try:\n",
    "            os.makedirs(destdir)\n",
    "        except FileExistsError:\n",
    "            pass\n",
    "        shutil.copy(fname, destfname)\n",
    "    with open(os.path.join(directory, md_fname), 'w') as fout:\n",
    "        fout.write(md)\n",
    "    print(\"exported in \", os.path.join(directory, md_fname))\n",
    "    [print(\"    + \" + os.path.join(directory,fk)) for fk in fig_fnames]"
   ]
  },
  {
   "cell_type": "code",
   "execution_count": 8,
   "id": "014d04a4",
   "metadata": {
    "execution": {
     "iopub.execute_input": "2025-09-11T04:12:44.299038Z",
     "iopub.status.busy": "2025-09-11T04:12:44.298756Z",
     "iopub.status.idle": "2025-09-11T04:12:44.308922Z",
     "shell.execute_reply": "2025-09-11T04:12:44.308261Z"
    },
    "papermill": {
     "duration": 0.016339,
     "end_time": "2025-09-11T04:12:44.310021",
     "exception": false,
     "start_time": "2025-09-11T04:12:44.293682",
     "status": "completed"
    },
    "tags": []
   },
   "outputs": [
    {
     "name": "stdout",
     "output_type": "stream",
     "text": [
      "found figures []\n",
      "exported in  _build/html/2509.08044.md\n",
      "found figures ['tmp_2509.08793/./J1620+52022panel.png', 'tmp_2509.08793/./J0759+18002panel.png', 'tmp_2509.08793/./J0829+03032panel.png', 'tmp_2509.08793/./J0840+56242panel.png', 'tmp_2509.08793/./J0859+25202panel.png', 'tmp_2509.08793/./J1141+71192panel.png', 'tmp_2509.08793/./spec_compare_outflow_zoom.png', 'tmp_2509.08793/./o3prof_compare_outflow_zoom.png', 'tmp_2509.08793/./cumulative_v98.png', 'tmp_2509.08793/./cumulative_w90.png']\n",
      "copying  tmp_2509.08793/./J1620+52022panel.png to _build/html/\n",
      "copying  tmp_2509.08793/./J0759+18002panel.png to _build/html/\n",
      "copying  tmp_2509.08793/./J0829+03032panel.png to _build/html/\n",
      "copying  tmp_2509.08793/./J0840+56242panel.png to _build/html/\n",
      "copying  tmp_2509.08793/./J0859+25202panel.png to _build/html/\n",
      "copying  tmp_2509.08793/./J1141+71192panel.png to _build/html/\n",
      "copying  tmp_2509.08793/./spec_compare_outflow_zoom.png to _build/html/\n",
      "copying  tmp_2509.08793/./o3prof_compare_outflow_zoom.png to _build/html/\n",
      "copying  tmp_2509.08793/./cumulative_v98.png to _build/html/\n",
      "copying  tmp_2509.08793/./cumulative_w90.png to _build/html/\n",
      "exported in  _build/html/2509.08793.md\n",
      "    + _build/html/tmp_2509.08793/./J1620+52022panel.png\n",
      "    + _build/html/tmp_2509.08793/./J0759+18002panel.png\n",
      "    + _build/html/tmp_2509.08793/./J0829+03032panel.png\n",
      "    + _build/html/tmp_2509.08793/./J0840+56242panel.png\n",
      "    + _build/html/tmp_2509.08793/./J0859+25202panel.png\n",
      "    + _build/html/tmp_2509.08793/./J1141+71192panel.png\n",
      "    + _build/html/tmp_2509.08793/./spec_compare_outflow_zoom.png\n",
      "    + _build/html/tmp_2509.08793/./o3prof_compare_outflow_zoom.png\n",
      "    + _build/html/tmp_2509.08793/./cumulative_v98.png\n",
      "    + _build/html/tmp_2509.08793/./cumulative_w90.png\n"
     ]
    }
   ],
   "source": [
    "for paper_id, md in documents:\n",
    "    export_markdown_summary(md, f\"{paper_id:s}.md\", '_build/html/')"
   ]
  },
  {
   "cell_type": "markdown",
   "id": "f087a0a7",
   "metadata": {
    "papermill": {
     "duration": 0.004774,
     "end_time": "2025-09-11T04:12:44.319294",
     "exception": false,
     "start_time": "2025-09-11T04:12:44.314520",
     "status": "completed"
    },
    "tags": []
   },
   "source": [
    "## Display the papers\n",
    "\n",
    "Not necessary but allows for a quick check."
   ]
  },
  {
   "cell_type": "code",
   "execution_count": 9,
   "id": "fd25f625",
   "metadata": {
    "execution": {
     "iopub.execute_input": "2025-09-11T04:12:44.328987Z",
     "iopub.status.busy": "2025-09-11T04:12:44.328707Z",
     "iopub.status.idle": "2025-09-11T04:12:44.335110Z",
     "shell.execute_reply": "2025-09-11T04:12:44.334434Z"
    },
    "papermill": {
     "duration": 0.012712,
     "end_time": "2025-09-11T04:12:44.336245",
     "exception": false,
     "start_time": "2025-09-11T04:12:44.323533",
     "status": "completed"
    },
    "scrolled": false,
    "tags": []
   },
   "outputs": [
    {
     "data": {
      "text/markdown": [
       "<div class=\"macros\" style=\"visibility:hidden;\">\n",
       "$\\newcommand{\\ensuremath}{}$\n",
       "$\\newcommand{\\xspace}{}$\n",
       "$\\newcommand{\\object}[1]{\\texttt{#1}}$\n",
       "$\\newcommand{\\farcs}{{.}''}$\n",
       "$\\newcommand{\\farcm}{{.}'}$\n",
       "$\\newcommand{\\arcsec}{''}$\n",
       "$\\newcommand{\\arcmin}{'}$\n",
       "$\\newcommand{\\ion}[2]{#1#2}$\n",
       "$\\newcommand{\\textsc}[1]{\\textrm{#1}}$\n",
       "$\\newcommand{\\hl}[1]{\\textrm{#1}}$\n",
       "$\\newcommand{\\footnote}[1]{}$\n",
       "$\\newcommand{\\tightlist}{$\n",
       "$  \\setlength{\\itemsep}{0pt}\\setlength{\\parskip}{0pt}}$\n",
       "$\\newcommand{\\CSLBlock}[1]{\\hfill\\break\\parbox[t]{\\linewidth}{\\strut\\ignorespaces#1\\strut}}$\n",
       "$\\newcommand{\\CSLLeftMargin}[1]{\\parbox[t]{\\csllabelwidth}{\\strut#1\\strut}}$\n",
       "$\\newcommand{\\CSLRightInline}[1]{\\parbox[t]{\\linewidth - \\csllabelwidth}{\\strut#1\\strut}}$\n",
       "$\\newcommand{\\CSLIndent}[1]{\\hspace{\\cslhangindent}#1}$\n",
       "$\\newcommand{\\rorlogo}{$\n",
       "$\\begin{tikzpicture}[y=1cm, x=1cm, yscale=\\rorglobalscale,xscale=\\rorglobalscale, every node/.append style={scale=\\rorglobalscale}, inner sep=0pt, outer sep=0pt]$\n",
       "$  \\begin{scope}[even odd rule,line join=round,miter limit=2.0,shift={(-0.025, 0.0216)}]$\n",
       "$    \\path[fill=c53baa1,nonzero rule,line join=round,miter limit=2.0] (1.8164, 3.012) -- (1.4954, 2.5204) -- (1.1742, 3.012) -- (1.8164, 3.012) -- cycle;$\n",
       "$    \\path[fill=c53baa1,nonzero rule,line join=round,miter limit=2.0] (3.1594, 3.012) -- (2.8385, 2.5204) -- (2.5172, 3.012) -- (3.1594, 3.012) -- cycle;$\n",
       "$    \\path[fill=c53baa1,nonzero rule,line join=round,miter limit=2.0] (1.1742, 0.0669) -- (1.4954, 0.5588) -- (1.8164, 0.0669) -- (1.1742, 0.0669) -- cycle;$\n",
       "$    \\path[fill=c53baa1,nonzero rule,line join=round,miter limit=2.0] (2.5172, 0.0669) -- (2.8385, 0.5588) -- (3.1594, 0.0669) -- (2.5172, 0.0669) -- cycle;$\n",
       "$    \\path[fill=c202826,nonzero rule,line join=round,miter limit=2.0] (3.8505, 1.4364).. controls (3.9643, 1.4576) and (4.0508, 1.5081) .. (4.1098, 1.5878).. controls (4.169, 1.6674) and (4.1984, 1.7642) .. (4.1984, 1.8777).. controls (4.1984, 1.9719) and (4.182, 2.0503) .. (4.1495, 2.1132).. controls (4.1169, 2.1762) and (4.0727, 2.2262) .. (4.0174, 2.2635).. controls (3.9621, 2.3006) and (3.8976, 2.3273) .. (3.824, 2.3432).. controls (3.7505, 2.359) and (3.6727, 2.367) .. (3.5909, 2.367) -- (2.9676, 2.367) -- (2.9676, 1.8688).. controls (2.9625, 1.8833) and (2.9572, 1.8976) .. (2.9514, 1.9119).. controls (2.9083, 2.0164) and (2.848, 2.1056) .. (2.7705, 2.1791).. controls (2.6929, 2.2527) and (2.6014, 2.3093) .. (2.495, 2.3487).. controls (2.3889, 2.3881) and (2.2728, 2.408) .. (2.1468, 2.408).. controls (2.0209, 2.408) and (1.905, 2.3881) .. (1.7986, 2.3487).. controls (1.6925, 2.3093) and (1.6007, 2.2527) .. (1.5232, 2.1791).. controls (1.4539, 2.1132) and (1.3983, 2.0346) .. (1.3565, 1.9436).. controls (1.3504, 2.009) and (1.3351, 2.0656) .. (1.3105, 2.1132).. controls (1.2779, 2.1762) and (1.2338, 2.2262) .. (1.1785, 2.2635).. controls (1.1232, 2.3006) and (1.0586, 2.3273) .. (0.985, 2.3432).. controls (0.9115, 2.359) and (0.8337, 2.367) .. (0.7519, 2.367) -- (0.1289, 2.367) -- (0.1289, 0.7562) -- (0.4837, 0.7562) -- (0.4837, 1.4002) -- (0.6588, 1.4002) -- (0.9956, 0.7562) -- (1.4211, 0.7562) -- (1.0118, 1.4364).. controls (1.1255, 1.4576) and (1.2121, 1.5081) .. (1.2711, 1.5878).. controls (1.2737, 1.5915) and (1.2761, 1.5954) .. (1.2787, 1.5991).. controls (1.2782, 1.5867) and (1.2779, 1.5743) .. (1.2779, 1.5616).. controls (1.2779, 1.4327) and (1.2996, 1.3158) .. (1.3428, 1.2113).. controls (1.3859, 1.1068) and (1.4462, 1.0176) .. (1.5237, 0.944).. controls (1.601, 0.8705) and (1.6928, 0.8139) .. (1.7992, 0.7744).. controls (1.9053, 0.735) and (2.0214, 0.7152) .. (2.1474, 0.7152).. controls (2.2733, 0.7152) and (2.3892, 0.735) .. (2.4956, 0.7744).. controls (2.6016, 0.8139) and (2.6935, 0.8705) .. (2.771, 0.944).. controls (2.8482, 1.0176) and (2.9086, 1.1068) .. (2.952, 1.2113).. controls (2.9578, 1.2253) and (2.9631, 1.2398) .. (2.9681, 1.2544) -- (2.9681, 0.7562) -- (3.3229, 0.7562) -- (3.3229, 1.4002) -- (3.4981, 1.4002) -- (3.8349, 0.7562) -- (4.2603, 0.7562) -- (3.8505, 1.4364) -- cycle(0.9628, 1.7777).. controls (0.9438, 1.7534) and (0.92, 1.7357) .. (0.8911, 1.7243).. controls (0.8623, 1.7129) and (0.83, 1.706) .. (0.7945, 1.7039).. controls (0.7588, 1.7015) and (0.7252, 1.7005) .. (0.6932, 1.7005) -- (0.4839, 1.7005) -- (0.4839, 2.0667) -- (0.716, 2.0667).. controls (0.7477, 2.0667) and (0.7805, 2.0643) .. (0.8139, 2.0598).. controls (0.8472, 2.0553) and (0.8768, 2.0466) .. (0.9025, 2.0336).. controls (0.9282, 2.0206) and (0.9496, 2.0021) .. (0.9663, 1.9778).. controls (0.9829, 1.9534) and (0.9914, 1.9209) .. (0.9914, 1.8799).. controls (0.9914, 1.8362) and (0.9819, 1.8021) .. (0.9628, 1.7777) -- cycle(2.6125, 1.3533).. controls (2.5889, 1.2904) and (2.5553, 1.2359) .. (2.5112, 1.1896).. controls (2.4672, 1.1433) and (2.4146, 1.1073) .. (2.3529, 1.0814).. controls (2.2916, 1.0554) and (2.2228, 1.0427) .. (2.1471, 1.0427).. controls (2.0712, 1.0427) and (2.0026, 1.0557) .. (1.9412, 1.0814).. controls (1.8799, 1.107) and (1.8272, 1.1433) .. (1.783, 1.1896).. controls (1.7391, 1.2359) and (1.7052, 1.2904) .. (1.6817, 1.3533).. controls (1.6581, 1.4163) and (1.6465, 1.4856) .. (1.6465, 1.5616).. controls (1.6465, 1.6359) and (1.6581, 1.705) .. (1.6817, 1.7687).. controls (1.7052, 1.8325) and (1.7388, 1.8873) .. (1.783, 1.9336).. controls (1.8269, 1.9799) and (1.8796, 2.0159) .. (1.9412, 2.0418).. controls (2.0026, 2.0675) and (2.0712, 2.0804) .. (2.1471, 2.0804).. controls (2.223, 2.0804) and (2.2916, 2.0675) .. (2.3529, 2.0418).. controls (2.4143, 2.0161) and (2.467, 1.9799) .. (2.5112, 1.9336).. controls (2.5551, 1.8873) and (2.5889, 1.8322) .. (2.6125, 1.7687).. controls (2.636, 1.705) and (2.6477, 1.6359) .. (2.6477, 1.5616).. controls (2.6477, 1.4856) and (2.636, 1.4163) .. (2.6125, 1.3533) -- cycle(3.8015, 1.7777).. controls (3.7825, 1.7534) and (3.7587, 1.7357) .. (3.7298, 1.7243).. controls (3.701, 1.7129) and (3.6687, 1.706) .. (3.6333, 1.7039).. controls (3.5975, 1.7015) and (3.5639, 1.7005) .. (3.5319, 1.7005) -- (3.3226, 1.7005) -- (3.3226, 2.0667) -- (3.5547, 2.0667).. controls (3.5864, 2.0667) and (3.6192, 2.0643) .. (3.6526, 2.0598).. controls (3.6859, 2.0553) and (3.7155, 2.0466) .. (3.7412, 2.0336).. controls (3.7669, 2.0206) and (3.7883, 2.0021) .. (3.805, 1.9778).. controls (3.8216, 1.9534) and (3.8301, 1.9209) .. (3.8301, 1.8799).. controls (3.8301, 1.8362) and (3.8206, 1.8021) .. (3.8015, 1.7777) -- cycle;$\n",
       "$  \\end{scope}$\n",
       "$\\end{tikzpicture}$\n",
       "$}$\n",
       "$\\newcommand{\\@}{biblabel#1 $\n",
       "$ }$\n",
       "$\\newcommand{\\@}{cite#1#2}$\n",
       "$\\newcommand{\\citeproctext}{#2}$\n",
       "$\\newcommand\\languageshorthands{#1 $\n",
       "$}$\n",
       "$\\newcommand\\rorglobalscale{0.1}$\n",
       "$\\newcommand{\\labelenumi}{\\arabic{enumi}.}$\n",
       "$\\newcommand{\\labelenumi}{\\arabic{enumi}.}$</div>\n",
       "\n",
       "\n",
       "\n",
       "<div id=\"title\">\n",
       "\n",
       "# spherical: A Comprehensive Database and Automated Pipeline forVLT/SPHERE High-Contrast Imaging\n",
       "\n",
       "</div>\n",
       "<div id=\"comments\">\n",
       "\n",
       "[![arXiv](https://img.shields.io/badge/arXiv-2509.08044-b31b1b.svg)](https://arxiv.org/abs/2509.08044)<mark>Appeared on: 2025-09-11</mark> -  _4 pages, 0 figures, submitted to JOSS_\n",
       "\n",
       "</div>\n",
       "<div id=\"authors\">\n",
       "\n",
       "<mark>M. Samland</mark>\n",
       "\n",
       "</div>\n",
       "<div id=\"abstract\">\n",
       "\n",
       "**Abstract:**            I present spherical (this https URL), a software package and database designed for the ESO VLT/SPHERE high-contrast imager. SPHERE has produced the world's largest archive of direct imaging observations of exoplanets and circumstellar disks, but its heterogeneous metadata and fragmented reduction tools make end-to-end analysis labor-intensive. spherical addresses this by combining (1) a curated, regularly updated, and searchable database of all SPHERE observations, cross-matched with stellar properties and observing conditions, and (2) a Python-based, script-driven pipeline for the Integral Field Spectrograph (IFS). The database, archived on Zenodo (this https URL) and reproducible from the ESO archive, currently includes about 6000 IRDIS dual-band imaging, about 1000 IRDIS polarimetric, and about 4500 IFS sequences, with additional modes (ZIMPOL, IRDIS-LSS, SAM) planned. The pipeline automates raw data retrieval, calibration, and IFS reduction with the adapted open-source CHARIS instrument pipeline, followed by astrometric and photometric calibration and post-processing with TRAP for companion detection and spectral extraction. spherical lowers the barrier from raw files to science-ready products, enabling homogeneous population studies, atmospheric characterization of companions, and efficient survey follow-up, while remaining interoperable with community tools such as VIP, pyKLIP, and IRDAP.         \n",
       "\n",
       "</div>\n",
       "\n",
       "<div id=\"qrcode\"><img src=https://api.qrserver.com/v1/create-qr-code/?size=100x100&data=\"https://arxiv.org/abs/2509.08044\"></div>"
      ],
      "text/plain": [
       "<IPython.core.display.Markdown object>"
      ]
     },
     "metadata": {},
     "output_type": "display_data"
    },
    {
     "data": {
      "text/markdown": [
       "<div class=\"macros\" style=\"visibility:hidden;\">\n",
       "$\\newcommand{\\ensuremath}{}$\n",
       "$\\newcommand{\\xspace}{}$\n",
       "$\\newcommand{\\object}[1]{\\texttt{#1}}$\n",
       "$\\newcommand{\\farcs}{{.}''}$\n",
       "$\\newcommand{\\farcm}{{.}'}$\n",
       "$\\newcommand{\\arcsec}{''}$\n",
       "$\\newcommand{\\arcmin}{'}$\n",
       "$\\newcommand{\\ion}[2]{#1#2}$\n",
       "$\\newcommand{\\textsc}[1]{\\textrm{#1}}$\n",
       "$\\newcommand{\\hl}[1]{\\textrm{#1}}$\n",
       "$\\newcommand{\\footnote}[1]{}$\n",
       "$\\newcommand{\\bibinfo}[2]{#2}$\n",
       "$\\newcommand{\\eprint}[2][]{\\url{#2}}$\n",
       "$\\newcommand{\\doi}[1]{\\url{https://doi.org/#1}}$\n",
       "$\\newcommand{\\bibinfo}[2]{#2}$\n",
       "$\\newcommand{\\eprint}[2][]{\\url{#2}}$\n",
       "$\\newcommand{\\doi}[1]{\\url{https://doi.org/#1}}$\n",
       "$\\newcommand{\\vdag}{(v)^\\dagger}$\n",
       "$\\newcommand$\n",
       "$\\newcommand$\n",
       "$\\newcommand{\\xh}{<\\chi_{H I}>}$\n",
       "$\\newcommand{\\TQ}{t_{Q}}$\n",
       "$\\newcommand{\\paa}{{Pa\\alpha}}$\n",
       "$\\newcommand{\\pab}{{Pa\\beta}}$\n",
       "$\\newcommand{\\av}{{A_{V}}}$\n",
       "$\\newcommand{\\ebv}{E(B-V)}$\n",
       "$\\newcommand{\\siv}{[S~{\\sc iv}] 10.51 \\mum}$\n",
       "$\\newcommand{\\oiiitext}{[O~{\\sc iii}]}$\n",
       "$\\newcommand{\\sivtext}{[S~{\\sc iv}]}$\n",
       "$\\newcommand{\\lya}{Ly\\alpha}$\n",
       "$\\newcommand{\\Lbol}{L_{\\rm bol}}$\n",
       "$\\newcommand{\\edd}{\\lambda_{Edd}}$\n",
       "$\\newcommand{\\arcsec}{^{\\prime\\prime}}$\n",
       "$\\newcommand{\\cii}{[C~{\\sc ii}] 158 \\mum}$\n",
       "$\\newcommand{\\ciitext}{[C~{\\sc ii}]}$\n",
       "$\\newcommand{\\mum}{\\ifmmode{\\rm \\mu m}\\else{\\mum}\\fi}$\n",
       "$\\newcommand{\\vdisp}{\\vdisp}$\n",
       "$\\newcommand{\\wba}{w_{80}}$\n",
       "$\\newcommand{\\wjiu}{w_{90}}$\n",
       "$\\newcommand{\\vwu}{{v_{50}}}$\n",
       "$\\newcommand{\\vjiu}{{v_{90}}}$\n",
       "$\\newcommand{\\vyi}{{v_{10}}}$\n",
       "$\\newcommand{\\vbasi}{{v_{84}}}$\n",
       "$\\newcommand{\\vyiliu}{{v_{16}}}$\n",
       "$\\newcommand{\\flux}{erg cm^{-2} s^{-1}}$\n",
       "$\\newcommand{\\fsb}{erg cm^{-2} s^{-1} }$\n",
       "$\\newcommand{\\Lwu}{{\\lambda L_{\\lambda}(5100)}}$\n",
       "$\\newcommand{\\vjiuba}{{v_{98}}}$\n",
       "$\\newcommand{\\vlingwu}{{v_{05}}}$\n",
       "$\\newcommand{\\vjiuwu}{{v_{95}}}$\n",
       "$\\newcommand{\\ajiuyi}{{A_{91}}}$\n",
       "$\\newcommand{\\ajiuyiha}{{A_{91,H\\alpha}}}$\n",
       "$\\newcommand{\\ajiuyio}{{A_{91,[O~\\sc{III}]}}}$\n",
       "$\\newcommand{\\spi}{{\\it Spitzer}}$\n",
       "$\\newcommand{\\her}{{\\it Herschel}}$\n",
       "$\\newcommand{\\oi}{\\hbox{[O {\\scriptsize I}]}}$\n",
       "$\\newcommand{\\oii}{{[O {\\scriptsize II}]}}$\n",
       "$\\newcommand{\\oiii}{{[O~{\\sc iii}] \\lambda5007}}$\n",
       "$\\newcommand{\\oiiiab}{{[O~{\\sc iii}] \\lambda\\lambda4959,5007}}$\n",
       "$\\newcommand{\\oiiib}{{[O~{\\sc iii}] \\lambda4959}}$\n",
       "$\\newcommand{\\nv}{\\hbox{N {\\scriptsize V}}}$\n",
       "$\\newcommand{\\civ}{\\hbox{C {\\scriptsize IV} \\lambda1549}}$\n",
       "$\\newcommand{\\nev}{\\hbox{[Ne {\\scriptsize V}]}}$\n",
       "$\\newcommand{\\nii}{\\hbox{[N {\\scriptsize II}]}}$\n",
       "$\\newcommand{\\sii}{\\hbox{[S {\\scriptsize II}]}}$\n",
       "$\\newcommand{\\siitext}{\\hbox{[S {\\scriptsize II}]}}$\n",
       "$\\newcommand{\\ha}{\\hbox{H\\alpha}}$\n",
       "$\\newcommand{\\hb}{\\hbox{H\\beta}}$\n",
       "$\\newcommand{\\hg}{\\hbox{H\\gamma}}$\n",
       "$\\newcommand{\\hd}{\\hbox{H\\delta}}$\n",
       "$\\newcommand{\\mgii}{\\hbox{Mg {\\scriptsize II}}}$\n",
       "$\\newcommand{\\feii}{\\hbox{Fe {\\scriptsize II}}}$\n",
       "$\\newcommand{\\red}[1]{\\textcolor{red}{#1}}$\n",
       "$\\newcommand{\\blue}[1]{\\textcolor{blue}{#1}}$\n",
       "$\\newcommand{\\kms}{km s^{-1}}$\n",
       "$\\newcommand{\\msun}{M_{\\odot}}$\n",
       "$\\newcommand{\\msunyr}{{M_{\\odot} yr^{-1}}}$\n",
       "$\\newcommand{\\lsun}{\\ensuremath{\\mathrm{L}_{\\odot}}}$\n",
       "$\\newcommand{\\eden}{cm^{-3}}$\n",
       "$\\newcommand{\\momfluxsfr}{\\dot{P}_{SFR} }$\n",
       "$\\newcommand{\\momfluxagn}{\\dot{P}_{QSO} }$\n",
       "$\\newcommand{\\momfluxout}{\\dot{P}_{outflow} }$\n",
       "$\\newcommand{\\momfluxratio}{\\frac{\\dot{P}_{outflow}}{\\dot{P}_{AGN}}}$\n",
       "$\\newcommand{\\msigma}{M_{\\bullet}-\\sigma~}$\n",
       "$\\newcommand{\\ergs}{erg s^{-1}}$\n",
       "$\\newcommand{\\ergscm}{erg s^{-1} cm^{-2}}$\n",
       "$\\newcommand{\\myr}{M_\\odot~yr^{-1}}$\n",
       "$\\newcommand{\\loghn}{log(\\nii/\\ha) }$\n",
       "$\\newcommand{\\logohb}{log(\\oiii/\\hb) }$\n",
       "$\\newcommand$\n",
       "$\\newcommand$\n",
       "$\\newcommand$\n",
       "$\\newcommand$\n",
       "$\\newcommand$\n",
       "$\\newcommand$\n",
       "$\\newcommand\\url{#1}$\n",
       "$\\newcommand{\\urlprefix}{URL }$\n",
       "$\\newcommand\\url{#1}$\n",
       "$\\newcommand{\\urlprefix}{URL }$</div>\n",
       "\n",
       "\n",
       "\n",
       "<div id=\"title\">\n",
       "\n",
       "# Frequent Extreme Galaxy-scale Outflows among Luminous Early Quasars\n",
       "\n",
       "</div>\n",
       "<div id=\"comments\">\n",
       "\n",
       "[![arXiv](https://img.shields.io/badge/arXiv-2509.08793-b31b1b.svg)](https://arxiv.org/abs/2509.08793)<mark>Appeared on: 2025-09-11</mark> -  _24 pages, 6 figures. Nature in review. This manuscript represents the original submitted version following journal policy. Comments are welcome!_\n",
       "\n",
       "</div>\n",
       "<div id=\"authors\">\n",
       "\n",
       "W. Liu, et al. -- incl., <mark>S. Belladitta</mark>, <mark>J. Wolf</mark>\n",
       "\n",
       "</div>\n",
       "<div id=\"abstract\">\n",
       "\n",
       "**Abstract:**            The existence of abundant post-starburst/quiescent galaxies just $\\sim$1-2 Gyrs after the Big Bang challenges our current paradigm of galaxy evolution. Cosmological simulations suggest that quasar feedback is likely the most promising mechanism responsible for such rapid quenching. Here we report a high detection rate (6/27) of exceptionally fast and powerful galaxy-scale outflows traced by [O III] emission in z $\\sim$ 5-6 luminous quasars as revealed by the James Webb Space Telescope (JWST), with velocity up to $\\sim$8400 km s$^{-1}$ and order-of-magnitude kinetic energy outflow rates up to $\\sim$260% the observed quasar bolometric luminosities. This fraction is $\\gtrsim$6.6 times larger than that in luminosity-matched comparison samples at z $\\sim$ 1.5-3.5 (0/58) and z $<$ 1 (5/148). These extreme outflows are comparable to or even faster than the most rapid [O III] outflows reported at z $\\lesssim$ 3, and could reach the circumgalactic medium (CGM) or even the intergalactic medium (IGM). The average kinetic energy outflow rate of our entire sample is $\\sim$230$\\times$ higher than that at cosmic noon. The substantially higher frequency of outflows with energetics well above the threshold for negative feedback in our sample strongly suggests that quasar feedback plays a significant role in efficiently quenching/regulating early massive galaxies.         \n",
       "\n",
       "</div>\n",
       "\n",
       "<div id=\"div_fig1\">\n",
       "\n",
       "<img src=\"tmp_2509.08793/./J1620+52022panel.png\" alt=\"Fig2\" width=\"100%\"/>\n",
       "\n",
       "**Figure 2. -** **Top:** The object with the fastest $\\oiiitext$ outflow ($|$\\vjiuba$|$$\\sim$ 8400 $\\kms$) discovered in our sample, with the JWST spectrum (black), best-fit emission line profiles (blue), iron emission (cyan), continuum (orange), and residual (gray dotted line). The best-fit individual Gaussian components for $\\hb$ and $\\hg$ are shown in red and those for $\\oi$iiab are shown in green. Systemic velocities of individual emission lines are shown in vertical black dotted lines. The spectral windows adopted for fitting the quasar pseudo continuum are marked by the gray thick bars. The detector gap and adjacent noisy regions not used in the fitting are masked by the vertical gray shaded region. **Bottom:**$\\hb$(left) and $\\oi$ii(right) line profiles with their best-fit models (blue solid lines) and individual components (dashed lines). (*fig:profile*)\n",
       "\n",
       "</div>\n",
       "<div id=\"div_fig2\">\n",
       "\n",
       "<img src=\"tmp_2509.08793/./J0759+18002panel.png\" alt=\"Fig1.1\" width=\"20%\"/><img src=\"tmp_2509.08793/./J0829+03032panel.png\" alt=\"Fig1.2\" width=\"20%\"/><img src=\"tmp_2509.08793/./J0840+56242panel.png\" alt=\"Fig1.3\" width=\"20%\"/><img src=\"tmp_2509.08793/./J0859+25202panel.png\" alt=\"Fig1.4\" width=\"20%\"/><img src=\"tmp_2509.08793/./J1141+71192panel.png\" alt=\"Fig1.5\" width=\"20%\"/>\n",
       "\n",
       "**Figure 1. -** Same as Fig. \\ref{fig:profile} but for the remaining 5 extreme outflows discovered in our sample. (*fig:samples*)\n",
       "\n",
       "</div>\n",
       "<div id=\"div_fig3\">\n",
       "\n",
       "<img src=\"tmp_2509.08793/./spec_compare_outflow_zoom.png\" alt=\"Fig3.1\" width=\"25%\"/><img src=\"tmp_2509.08793/./o3prof_compare_outflow_zoom.png\" alt=\"Fig3.2\" width=\"25%\"/><img src=\"tmp_2509.08793/./cumulative_v98.png\" alt=\"Fig3.3\" width=\"25%\"/><img src=\"tmp_2509.08793/./cumulative_w90.png\" alt=\"Fig3.4\" width=\"25%\"/>\n",
       "\n",
       "**Figure 3. -** **Upper Left:**\n",
       "Mean rest-frame spectra of all outflows (objects with $\\vwu$$<$0 $\\kms$, orange) and extreme outflows ($|$\\vjiuba$|>$2700 $\\kms$; red) in our sample, zoomed in to the $\\hb$--$\\oiiitext$ region, in comparison with outflow sources in _Shen sample_(blue) and _Wu-SDSS sample_(gray) with bolometric luminosity ranges matched to our sample. The spectra of individual objects are binned to 2 Å/pixel. The mean spectra are normalized with the mean flux density within 5080--5100Å. **Upper Right:** Same as left but for the best-fit $\\oi$ii model profile, which are instead normalized at maximum flux density.\n",
       "**Bottom:**\n",
       "Cumulative distribution functions of $\\oiiitext$ non-parametric kinematics measurements (left: $\\vjiu$ba; right: $\\wjiu$) for our sample (red), _Shen sample_(blue) and _Wu-SDSS sample_(gray). The 68\\% confidence intervals are indicated by the shaded regions. (*fig:hist*)\n",
       "\n",
       "</div><div id=\"qrcode\"><img src=https://api.qrserver.com/v1/create-qr-code/?size=100x100&data=\"https://arxiv.org/abs/2509.08793\"></div>"
      ],
      "text/plain": [
       "<IPython.core.display.Markdown object>"
      ]
     },
     "metadata": {},
     "output_type": "display_data"
    }
   ],
   "source": [
    "[display(Markdown(k[1])) for k in documents];"
   ]
  },
  {
   "cell_type": "markdown",
   "id": "873873a4",
   "metadata": {
    "papermill": {
     "duration": 0.004807,
     "end_time": "2025-09-11T04:12:44.346182",
     "exception": false,
     "start_time": "2025-09-11T04:12:44.341375",
     "status": "completed"
    },
    "tags": []
   },
   "source": [
    "# Create HTML index"
   ]
  },
  {
   "cell_type": "code",
   "execution_count": 10,
   "id": "cf665672",
   "metadata": {
    "execution": {
     "iopub.execute_input": "2025-09-11T04:12:44.356740Z",
     "iopub.status.busy": "2025-09-11T04:12:44.356416Z",
     "iopub.status.idle": "2025-09-11T04:12:44.364058Z",
     "shell.execute_reply": "2025-09-11T04:12:44.363424Z"
    },
    "papermill": {
     "duration": 0.014154,
     "end_time": "2025-09-11T04:12:44.365083",
     "exception": false,
     "start_time": "2025-09-11T04:12:44.350929",
     "status": "completed"
    },
    "tags": []
   },
   "outputs": [
    {
     "name": "stdout",
     "output_type": "stream",
     "text": [
      "129  publications files modified in the last 7 days.\n"
     ]
    }
   ],
   "source": [
    "from datetime import datetime, timedelta, timezone\n",
    "from glob import glob\n",
    "import os\n",
    "\n",
    "files = glob('_build/html/*.md')\n",
    "days = 7\n",
    "now = datetime.today()\n",
    "res = []\n",
    "for fk in files:\n",
    "    stat_result = os.stat(fk).st_ctime\n",
    "    modified = datetime.fromtimestamp(stat_result, tz=timezone.utc).replace(tzinfo=None)\n",
    "    delta = now.today() - modified\n",
    "    if delta <= timedelta(days=days):\n",
    "        res.append((delta.seconds, fk))\n",
    "res = [k[1] for k in reversed(sorted(res, key=lambda x:x[1]))]\n",
    "npub = len(res)\n",
    "print(len(res), f\" publications files modified in the last {days:d} days.\")\n",
    "# [ print('\\t', k) for k in res ];"
   ]
  },
  {
   "cell_type": "code",
   "execution_count": 11,
   "id": "015de740",
   "metadata": {
    "execution": {
     "iopub.execute_input": "2025-09-11T04:12:44.376116Z",
     "iopub.status.busy": "2025-09-11T04:12:44.375835Z",
     "iopub.status.idle": "2025-09-11T04:12:44.389442Z",
     "shell.execute_reply": "2025-09-11T04:12:44.388780Z"
    },
    "papermill": {
     "duration": 0.020388,
     "end_time": "2025-09-11T04:12:44.390523",
     "exception": false,
     "start_time": "2025-09-11T04:12:44.370135",
     "status": "completed"
    },
    "tags": []
   },
   "outputs": [
    {
     "name": "stdout",
     "output_type": "stream",
     "text": [
      "8  publications in the last 7 days.\n"
     ]
    }
   ],
   "source": [
    "import datetime\n",
    "from glob import glob\n",
    "\n",
    "def get_last_n_days(lst, days=1):\n",
    "    \"\"\" Get the documents from the last n days \"\"\"\n",
    "    sorted_lst = sorted(lst, key=lambda x: x[1], reverse=True)\n",
    "    for fname, date in sorted_lst:\n",
    "        if date >= str(datetime.date.today() - datetime.timedelta(days=days)):\n",
    "            yield fname\n",
    "\n",
    "def extract_appearance_dates(lst_file):\n",
    "    dates = []\n",
    "\n",
    "    def get_date(line):\n",
    "        return line\\\n",
    "            .split('Appeared on:')[-1]\\\n",
    "            .split('</mark>')[0].strip()\n",
    "\n",
    "    for fname in lst:\n",
    "        with open(fname, 'r') as f:\n",
    "            found_date = False\n",
    "            for line in f:\n",
    "                if not found_date:\n",
    "                    if \"Appeared on\" in line:\n",
    "                        found_date = True\n",
    "                        dates.append((fname, get_date(line)))\n",
    "                else:\n",
    "                    break\n",
    "    return dates\n",
    "\n",
    "from glob import glob\n",
    "lst = glob('_build/html/*md')\n",
    "days = 7\n",
    "dates = extract_appearance_dates(lst)\n",
    "res = list(get_last_n_days(dates, days))\n",
    "npub = len(res)\n",
    "print(len(res), f\" publications in the last {days:d} days.\")"
   ]
  },
  {
   "cell_type": "code",
   "execution_count": 12,
   "id": "52ca0208",
   "metadata": {
    "execution": {
     "iopub.execute_input": "2025-09-11T04:12:44.401795Z",
     "iopub.status.busy": "2025-09-11T04:12:44.401493Z",
     "iopub.status.idle": "2025-09-11T04:12:44.406638Z",
     "shell.execute_reply": "2025-09-11T04:12:44.406068Z"
    },
    "papermill": {
     "duration": 0.011863,
     "end_time": "2025-09-11T04:12:44.407678",
     "exception": false,
     "start_time": "2025-09-11T04:12:44.395815",
     "status": "completed"
    },
    "scrolled": false,
    "tags": []
   },
   "outputs": [],
   "source": [
    "def create_carousel(npub=4):\n",
    "    \"\"\" Generate the HTML code for a carousel with `npub` slides \"\"\"\n",
    "    carousel = [\"\"\"  <div class=\"carousel\" \"\"\",\n",
    "                \"\"\"       data-flickity='{ \"autoPlay\": 10000, \"adaptiveHeight\": true, \"resize\": true, \"wrapAround\": true, \"pauseAutoPlayOnHover\": true, \"groupCells\": 1 }' id=\"asyncTypeset\">\"\"\"\n",
    "                ]\n",
    "    \n",
    "    item_str = \"\"\"    <div class=\"carousel-cell\"> <div id=\"slide{k}\" class=\"md_view\">Content {k}</div> </div>\"\"\"\n",
    "    for k in range(1, npub + 1):\n",
    "        carousel.append(item_str.format(k=k))\n",
    "    carousel.append(\"  </div>\")\n",
    "    return '\\n'.join(carousel)\n",
    "\n",
    "def create_grid(npub=4):\n",
    "    \"\"\" Generate the HTML code for a flat grid with `npub` slides \"\"\"\n",
    "    grid = [\"\"\"  <div class=\"grid\"> \"\"\",\n",
    "                ]\n",
    "    \n",
    "    item_str = \"\"\"    <div class=\"grid-item\"> <div id=\"slide{k}\" class=\"md_view\">Content {k}</div> </div>\"\"\"\n",
    "    for k in range(1, npub + 1):\n",
    "        grid.append(item_str.format(k=k))\n",
    "    grid.append(\"  </div>\")\n",
    "    return '\\n'.join(grid)"
   ]
  },
  {
   "cell_type": "code",
   "execution_count": 13,
   "id": "a6eac5b6",
   "metadata": {
    "execution": {
     "iopub.execute_input": "2025-09-11T04:12:44.439448Z",
     "iopub.status.busy": "2025-09-11T04:12:44.439170Z",
     "iopub.status.idle": "2025-09-11T04:12:44.444764Z",
     "shell.execute_reply": "2025-09-11T04:12:44.444158Z"
    },
    "papermill": {
     "duration": 0.032991,
     "end_time": "2025-09-11T04:12:44.445805",
     "exception": false,
     "start_time": "2025-09-11T04:12:44.412814",
     "status": "completed"
    },
    "scrolled": false,
    "tags": []
   },
   "outputs": [],
   "source": [
    "carousel = create_carousel(npub)\n",
    "docs = ', '.join(['\"{0:s}\"'.format(k.split('/')[-1]) for k in res])\n",
    "slides = ', '.join([f'\"slide{k}\"' for k in range(1, npub + 1)])\n",
    "\n",
    "with open(\"daily_template.html\", \"r\") as tpl:\n",
    "    page = tpl.read()\n",
    "    page = page.replace(\"{%-- carousel:s --%}\", carousel)\\\n",
    "               .replace(\"{%-- suptitle:s --%}\",  \"7-day archives\" )\\\n",
    "               .replace(\"{%-- docs:s --%}\", docs)\\\n",
    "               .replace(\"{%-- slides:s --%}\", slides)\n",
    "    \n",
    "with open(\"_build/html/index_7days.html\", 'w') as fout:\n",
    "    fout.write(page)"
   ]
  },
  {
   "cell_type": "code",
   "execution_count": 14,
   "id": "adc1a1ec",
   "metadata": {
    "execution": {
     "iopub.execute_input": "2025-09-11T04:12:44.457440Z",
     "iopub.status.busy": "2025-09-11T04:12:44.457162Z",
     "iopub.status.idle": "2025-09-11T04:12:44.464001Z",
     "shell.execute_reply": "2025-09-11T04:12:44.463265Z"
    },
    "papermill": {
     "duration": 0.013796,
     "end_time": "2025-09-11T04:12:44.465041",
     "exception": false,
     "start_time": "2025-09-11T04:12:44.451245",
     "status": "completed"
    },
    "tags": []
   },
   "outputs": [
    {
     "name": "stdout",
     "output_type": "stream",
     "text": [
      "4  publications in the last day.\n"
     ]
    }
   ],
   "source": [
    "# redo for today\n",
    "days = 1\n",
    "res = list(get_last_n_days(dates, days))\n",
    "npub = len(res)\n",
    "print(len(res), f\" publications in the last day.\")\n",
    "\n",
    "carousel = create_carousel(npub)\n",
    "docs = ', '.join(['\"{0:s}\"'.format(k.split('/')[-1]) for k in res])\n",
    "slides = ', '.join([f'\"slide{k}\"' for k in range(1, npub + 1)])\n",
    "\n",
    "with open(\"daily_template.html\", \"r\") as tpl:\n",
    "    page = tpl.read()\n",
    "    page = page.replace(\"{%-- carousel:s --%}\", carousel)\\\n",
    "               .replace(\"{%-- suptitle:s --%}\",  \"Daily\" )\\\n",
    "               .replace(\"{%-- docs:s --%}\", docs)\\\n",
    "               .replace(\"{%-- slides:s --%}\", slides)\n",
    "    \n",
    "# print(carousel, docs, slides)\n",
    "# print(page)\n",
    "with open(\"_build/html/index_daily.html\", 'w') as fout:\n",
    "    fout.write(page)"
   ]
  },
  {
   "cell_type": "code",
   "execution_count": 15,
   "id": "00eece82",
   "metadata": {
    "execution": {
     "iopub.execute_input": "2025-09-11T04:12:44.476307Z",
     "iopub.status.busy": "2025-09-11T04:12:44.476024Z",
     "iopub.status.idle": "2025-09-11T04:12:44.483008Z",
     "shell.execute_reply": "2025-09-11T04:12:44.482388Z"
    },
    "papermill": {
     "duration": 0.013895,
     "end_time": "2025-09-11T04:12:44.484100",
     "exception": false,
     "start_time": "2025-09-11T04:12:44.470205",
     "status": "completed"
    },
    "scrolled": false,
    "tags": []
   },
   "outputs": [
    {
     "name": "stdout",
     "output_type": "stream",
     "text": [
      "6  6 publications selected.\n"
     ]
    }
   ],
   "source": [
    "# Create the flat grid of the last N papers (fixed number regardless of dates)\n",
    "from itertools import islice \n",
    "\n",
    "npub = 6\n",
    "res = [k[0] for k in (islice(reversed(sorted(dates, key=lambda x: x[1])), 6))]\n",
    "print(len(res), f\" {npub} publications selected.\")\n",
    "\n",
    "grid = create_grid(npub)\n",
    "docs = ', '.join(['\"{0:s}\"'.format(k.split('/')[-1]) for k in res])\n",
    "slides = ', '.join([f'\"slide{k}\"' for k in range(1, npub + 1)])\n",
    "\n",
    "with open(\"grid_template.html\", \"r\") as tpl:\n",
    "    page = tpl.read()\n",
    "    page = page.replace(\"{%-- grid-content:s --%}\", grid)\\\n",
    "               .replace(\"{%-- suptitle:s --%}\",  f\"Last {npub:,d} papers\" )\\\n",
    "               .replace(\"{%-- docs:s --%}\", docs)\\\n",
    "               .replace(\"{%-- slides:s --%}\", slides)\n",
    "    \n",
    "# print(grid, docs, slides)\n",
    "# print(page)\n",
    "with open(\"_build/html/index_npub_grid.html\", 'w') as fout:\n",
    "    fout.write(page)"
   ]
  }
 ],
 "metadata": {
  "kernelspec": {
   "display_name": "Python 3 (ipykernel)",
   "language": "python",
   "name": "python3"
  },
  "language_info": {
   "codemirror_mode": {
    "name": "ipython",
    "version": 3
   },
   "file_extension": ".py",
   "mimetype": "text/x-python",
   "name": "python",
   "nbconvert_exporter": "python",
   "pygments_lexer": "ipython3",
   "version": "3.9.23"
  },
  "papermill": {
   "default_parameters": {},
   "duration": 45.38767,
   "end_time": "2025-09-11T04:12:44.806069",
   "environment_variables": {},
   "exception": null,
   "input_path": "MPIA daily digest.ipynb",
   "output_path": "log.ipynb",
   "parameters": {},
   "start_time": "2025-09-11T04:11:59.418399",
   "version": "2.6.0"
  },
  "vscode": {
   "interpreter": {
    "hash": "aee8b7b246df8f9039afb4144a1f6fd8d2ca17a180786b69acc140d282b71a49"
   }
  },
  "widgets": {
   "application/vnd.jupyter.widget-state+json": {
    "state": {
     "0e7e81e2948446289af2b1552549ee12": {
      "model_module": "@jupyter-widgets/base",
      "model_module_version": "2.0.0",
      "model_name": "LayoutModel",
      "state": {
       "_model_module": "@jupyter-widgets/base",
       "_model_module_version": "2.0.0",
       "_model_name": "LayoutModel",
       "_view_count": null,
       "_view_module": "@jupyter-widgets/base",
       "_view_module_version": "2.0.0",
       "_view_name": "LayoutView",
       "align_content": null,
       "align_items": null,
       "align_self": null,
       "border_bottom": null,
       "border_left": null,
       "border_right": null,
       "border_top": null,
       "bottom": null,
       "display": null,
       "flex": null,
       "flex_flow": null,
       "grid_area": null,
       "grid_auto_columns": null,
       "grid_auto_flow": null,
       "grid_auto_rows": null,
       "grid_column": null,
       "grid_gap": null,
       "grid_row": null,
       "grid_template_areas": null,
       "grid_template_columns": null,
       "grid_template_rows": null,
       "height": null,
       "justify_content": null,
       "justify_items": null,
       "left": null,
       "margin": null,
       "max_height": null,
       "max_width": null,
       "min_height": null,
       "min_width": null,
       "object_fit": null,
       "object_position": null,
       "order": null,
       "overflow": null,
       "padding": null,
       "right": null,
       "top": null,
       "visibility": null,
       "width": null
      }
     },
     "4fc9403c59e147ad96e4113c90fc4a65": {
      "model_module": "@jupyter-widgets/controls",
      "model_module_version": "2.0.0",
      "model_name": "FloatProgressModel",
      "state": {
       "_dom_classes": [],
       "_model_module": "@jupyter-widgets/controls",
       "_model_module_version": "2.0.0",
       "_model_name": "FloatProgressModel",
       "_view_count": null,
       "_view_module": "@jupyter-widgets/controls",
       "_view_module_version": "2.0.0",
       "_view_name": "ProgressView",
       "bar_style": "success",
       "description": "",
       "description_allow_html": false,
       "layout": "IPY_MODEL_df01249ea71b466f9f7c96e330c8ca9d",
       "max": 3.0,
       "min": 0.0,
       "orientation": "horizontal",
       "style": "IPY_MODEL_a0ce6af7a20045eb8145227c3f21812a",
       "tabbable": null,
       "tooltip": null,
       "value": 3.0
      }
     },
     "5efed0fb921f4928a28af3c3dedc994b": {
      "model_module": "@jupyter-widgets/base",
      "model_module_version": "2.0.0",
      "model_name": "LayoutModel",
      "state": {
       "_model_module": "@jupyter-widgets/base",
       "_model_module_version": "2.0.0",
       "_model_name": "LayoutModel",
       "_view_count": null,
       "_view_module": "@jupyter-widgets/base",
       "_view_module_version": "2.0.0",
       "_view_name": "LayoutView",
       "align_content": null,
       "align_items": null,
       "align_self": null,
       "border_bottom": null,
       "border_left": null,
       "border_right": null,
       "border_top": null,
       "bottom": null,
       "display": null,
       "flex": null,
       "flex_flow": null,
       "grid_area": null,
       "grid_auto_columns": null,
       "grid_auto_flow": null,
       "grid_auto_rows": null,
       "grid_column": null,
       "grid_gap": null,
       "grid_row": null,
       "grid_template_areas": null,
       "grid_template_columns": null,
       "grid_template_rows": null,
       "height": null,
       "justify_content": null,
       "justify_items": null,
       "left": null,
       "margin": null,
       "max_height": null,
       "max_width": null,
       "min_height": null,
       "min_width": null,
       "object_fit": null,
       "object_position": null,
       "order": null,
       "overflow": null,
       "padding": null,
       "right": null,
       "top": null,
       "visibility": null,
       "width": null
      }
     },
     "62892c91112646d088b420f46fc03d72": {
      "model_module": "@jupyter-widgets/controls",
      "model_module_version": "2.0.0",
      "model_name": "HBoxModel",
      "state": {
       "_dom_classes": [],
       "_model_module": "@jupyter-widgets/controls",
       "_model_module_version": "2.0.0",
       "_model_name": "HBoxModel",
       "_view_count": null,
       "_view_module": "@jupyter-widgets/controls",
       "_view_module_version": "2.0.0",
       "_view_name": "HBoxView",
       "box_style": "",
       "children": [
        "IPY_MODEL_ef06b4555e15413a862897932e834d22",
        "IPY_MODEL_4fc9403c59e147ad96e4113c90fc4a65",
        "IPY_MODEL_f09b06daced44ad1b801eda8559cfc2d"
       ],
       "layout": "IPY_MODEL_c61f8813845343fc87cd9c9a5bcd5fda",
       "tabbable": null,
       "tooltip": null
      }
     },
     "9783c68319764096a85bc42406d4f42e": {
      "model_module": "@jupyter-widgets/controls",
      "model_module_version": "2.0.0",
      "model_name": "HTMLStyleModel",
      "state": {
       "_model_module": "@jupyter-widgets/controls",
       "_model_module_version": "2.0.0",
       "_model_name": "HTMLStyleModel",
       "_view_count": null,
       "_view_module": "@jupyter-widgets/base",
       "_view_module_version": "2.0.0",
       "_view_name": "StyleView",
       "background": null,
       "description_width": "",
       "font_size": null,
       "text_color": null
      }
     },
     "a0ce6af7a20045eb8145227c3f21812a": {
      "model_module": "@jupyter-widgets/controls",
      "model_module_version": "2.0.0",
      "model_name": "ProgressStyleModel",
      "state": {
       "_model_module": "@jupyter-widgets/controls",
       "_model_module_version": "2.0.0",
       "_model_name": "ProgressStyleModel",
       "_view_count": null,
       "_view_module": "@jupyter-widgets/base",
       "_view_module_version": "2.0.0",
       "_view_name": "StyleView",
       "bar_color": null,
       "description_width": ""
      }
     },
     "a79fd1641365411081a2993eedd91b94": {
      "model_module": "@jupyter-widgets/controls",
      "model_module_version": "2.0.0",
      "model_name": "HTMLStyleModel",
      "state": {
       "_model_module": "@jupyter-widgets/controls",
       "_model_module_version": "2.0.0",
       "_model_name": "HTMLStyleModel",
       "_view_count": null,
       "_view_module": "@jupyter-widgets/base",
       "_view_module_version": "2.0.0",
       "_view_name": "StyleView",
       "background": null,
       "description_width": "",
       "font_size": null,
       "text_color": null
      }
     },
     "c61f8813845343fc87cd9c9a5bcd5fda": {
      "model_module": "@jupyter-widgets/base",
      "model_module_version": "2.0.0",
      "model_name": "LayoutModel",
      "state": {
       "_model_module": "@jupyter-widgets/base",
       "_model_module_version": "2.0.0",
       "_model_name": "LayoutModel",
       "_view_count": null,
       "_view_module": "@jupyter-widgets/base",
       "_view_module_version": "2.0.0",
       "_view_name": "LayoutView",
       "align_content": null,
       "align_items": null,
       "align_self": null,
       "border_bottom": null,
       "border_left": null,
       "border_right": null,
       "border_top": null,
       "bottom": null,
       "display": null,
       "flex": null,
       "flex_flow": null,
       "grid_area": null,
       "grid_auto_columns": null,
       "grid_auto_flow": null,
       "grid_auto_rows": null,
       "grid_column": null,
       "grid_gap": null,
       "grid_row": null,
       "grid_template_areas": null,
       "grid_template_columns": null,
       "grid_template_rows": null,
       "height": null,
       "justify_content": null,
       "justify_items": null,
       "left": null,
       "margin": null,
       "max_height": null,
       "max_width": null,
       "min_height": null,
       "min_width": null,
       "object_fit": null,
       "object_position": null,
       "order": null,
       "overflow": null,
       "padding": null,
       "right": null,
       "top": null,
       "visibility": null,
       "width": null
      }
     },
     "df01249ea71b466f9f7c96e330c8ca9d": {
      "model_module": "@jupyter-widgets/base",
      "model_module_version": "2.0.0",
      "model_name": "LayoutModel",
      "state": {
       "_model_module": "@jupyter-widgets/base",
       "_model_module_version": "2.0.0",
       "_model_name": "LayoutModel",
       "_view_count": null,
       "_view_module": "@jupyter-widgets/base",
       "_view_module_version": "2.0.0",
       "_view_name": "LayoutView",
       "align_content": null,
       "align_items": null,
       "align_self": null,
       "border_bottom": null,
       "border_left": null,
       "border_right": null,
       "border_top": null,
       "bottom": null,
       "display": null,
       "flex": null,
       "flex_flow": null,
       "grid_area": null,
       "grid_auto_columns": null,
       "grid_auto_flow": null,
       "grid_auto_rows": null,
       "grid_column": null,
       "grid_gap": null,
       "grid_row": null,
       "grid_template_areas": null,
       "grid_template_columns": null,
       "grid_template_rows": null,
       "height": null,
       "justify_content": null,
       "justify_items": null,
       "left": null,
       "margin": null,
       "max_height": null,
       "max_width": null,
       "min_height": null,
       "min_width": null,
       "object_fit": null,
       "object_position": null,
       "order": null,
       "overflow": null,
       "padding": null,
       "right": null,
       "top": null,
       "visibility": null,
       "width": null
      }
     },
     "ef06b4555e15413a862897932e834d22": {
      "model_module": "@jupyter-widgets/controls",
      "model_module_version": "2.0.0",
      "model_name": "HTMLModel",
      "state": {
       "_dom_classes": [],
       "_model_module": "@jupyter-widgets/controls",
       "_model_module_version": "2.0.0",
       "_model_name": "HTMLModel",
       "_view_count": null,
       "_view_module": "@jupyter-widgets/controls",
       "_view_module_version": "2.0.0",
       "_view_name": "HTMLView",
       "description": "",
       "description_allow_html": false,
       "layout": "IPY_MODEL_0e7e81e2948446289af2b1552549ee12",
       "placeholder": "​",
       "style": "IPY_MODEL_a79fd1641365411081a2993eedd91b94",
       "tabbable": null,
       "tooltip": null,
       "value": "100%"
      }
     },
     "f09b06daced44ad1b801eda8559cfc2d": {
      "model_module": "@jupyter-widgets/controls",
      "model_module_version": "2.0.0",
      "model_name": "HTMLModel",
      "state": {
       "_dom_classes": [],
       "_model_module": "@jupyter-widgets/controls",
       "_model_module_version": "2.0.0",
       "_model_name": "HTMLModel",
       "_view_count": null,
       "_view_module": "@jupyter-widgets/controls",
       "_view_module_version": "2.0.0",
       "_view_name": "HTMLView",
       "description": "",
       "description_allow_html": false,
       "layout": "IPY_MODEL_5efed0fb921f4928a28af3c3dedc994b",
       "placeholder": "​",
       "style": "IPY_MODEL_9783c68319764096a85bc42406d4f42e",
       "tabbable": null,
       "tooltip": null,
       "value": " 3/3 [00:21&lt;00:00,  9.60s/it]"
      }
     }
    },
    "version_major": 2,
    "version_minor": 0
   }
  }
 },
 "nbformat": 4,
 "nbformat_minor": 5
}