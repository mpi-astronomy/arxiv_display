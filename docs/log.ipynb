{
 "cells": [
  {
   "cell_type": "markdown",
   "id": "92bcb855",
   "metadata": {
    "papermill": {
     "duration": 0.0038,
     "end_time": "2025-04-24T04:12:36.257903",
     "exception": false,
     "start_time": "2025-04-24T04:12:36.254103",
     "status": "completed"
    },
    "tags": []
   },
   "source": [
    "# MPIA Arxiv on Deck 2\n",
    "\n",
    "Contains the steps to produce the paper extractions."
   ]
  },
  {
   "cell_type": "code",
   "execution_count": 1,
   "id": "3a0d6e11",
   "metadata": {
    "execution": {
     "iopub.execute_input": "2025-04-24T04:12:36.265420Z",
     "iopub.status.busy": "2025-04-24T04:12:36.264881Z",
     "iopub.status.idle": "2025-04-24T04:12:36.738227Z",
     "shell.execute_reply": "2025-04-24T04:12:36.737573Z"
    },
    "papermill": {
     "duration": 0.478423,
     "end_time": "2025-04-24T04:12:36.739605",
     "exception": false,
     "start_time": "2025-04-24T04:12:36.261182",
     "status": "completed"
    },
    "tags": []
   },
   "outputs": [],
   "source": [
    "# Imports\n",
    "import os\n",
    "from IPython.display import Markdown, display\n",
    "from tqdm.notebook import tqdm\n",
    "import warnings\n",
    "from PIL import Image \n",
    "import re\n",
    "\n",
    "# requires arxiv_on_deck_2\n",
    "\n",
    "from arxiv_on_deck_2.arxiv2 import (get_new_papers, \n",
    "                                    get_paper_from_identifier,\n",
    "                                    retrieve_document_source, \n",
    "                                    get_markdown_badge)\n",
    "from arxiv_on_deck_2 import (latex,\n",
    "                             latex_bib,\n",
    "                             mpia,\n",
    "                             highlight_authors_in_list)\n",
    "\n",
    "# Sometimes images are really big\n",
    "Image.MAX_IMAGE_PIXELS = 1000000000 "
   ]
  },
  {
   "cell_type": "code",
   "execution_count": 2,
   "id": "22aa9d44",
   "metadata": {
    "execution": {
     "iopub.execute_input": "2025-04-24T04:12:36.747141Z",
     "iopub.status.busy": "2025-04-24T04:12:36.746600Z",
     "iopub.status.idle": "2025-04-24T04:12:36.754686Z",
     "shell.execute_reply": "2025-04-24T04:12:36.754121Z"
    },
    "papermill": {
     "duration": 0.012726,
     "end_time": "2025-04-24T04:12:36.755671",
     "exception": false,
     "start_time": "2025-04-24T04:12:36.742945",
     "status": "completed"
    },
    "tags": []
   },
   "outputs": [],
   "source": [
    "# Some useful definitions.\n",
    "\n",
    "class AffiliationWarning(UserWarning):\n",
    "    pass\n",
    "\n",
    "class AffiliationError(RuntimeError):\n",
    "    pass\n",
    "\n",
    "def validation(source: str):\n",
    "    \"\"\"Raises error paper during parsing of source file\n",
    "    \n",
    "    Allows checks before parsing TeX code.\n",
    "    \n",
    "    Raises AffiliationWarning\n",
    "    \"\"\"\n",
    "    check = mpia.affiliation_verifications(source, verbose=True)\n",
    "    if check is not True:\n",
    "        raise AffiliationError(\"mpia.affiliation_verifications: \" + check)\n",
    "\n",
    "        \n",
    "warnings.simplefilter('always', AffiliationWarning)\n",
    "\n",
    "\n",
    "def get_markdown_qrcode(paper_id: str):\n",
    "    \"\"\" Generate a qrcode to the arxiv page using qrserver.com\n",
    "    \n",
    "    :param paper: Arxiv paper\n",
    "    :returns: markdown text\n",
    "    \"\"\"\n",
    "    url = r\"https://api.qrserver.com/v1/create-qr-code/?size=100x100&data=\"\n",
    "    txt = f\"\"\"<img src={url}\"https://arxiv.org/abs/{paper_id}\">\"\"\"\n",
    "    txt = '<div id=\"qrcode\">' + txt + '</div>'\n",
    "    return txt\n",
    "\n",
    "\n",
    "def clean_non_western_encoded_characters_commands(text: str) -> str:\n",
    "    \"\"\" Remove non-western encoded characters from a string\n",
    "    List may need to grow.\n",
    "    \n",
    "    :param text: the text to clean\n",
    "    :return: the cleaned text\n",
    "    \"\"\"\n",
    "    text = re.sub(r\"(\\\\begin{CJK}{UTF8}{gbsn})(.*?)(\\\\end{CJK})\", r\"\\2\", text)\n",
    "    return text\n",
    "\n",
    "\n",
    "def get_initials(name: str) -> str:\n",
    "    \"\"\" Get the short name, e.g., A.-B. FamName\n",
    "    :param name: full name\n",
    "    :returns: initials\n",
    "    \"\"\"\n",
    "    initials = []\n",
    "    # account for non western names often in ()\n",
    "    if '(' in name:\n",
    "        name = clean_non_western_encoded_characters_commands(name)\n",
    "        suffix = re.findall(r\"\\((.*?)\\)\", name)[0]\n",
    "        name = name.replace(f\"({suffix})\", '')\n",
    "    else:\n",
    "        suffix = ''\n",
    "    split = name.split()\n",
    "    for token in split[:-1]:\n",
    "        if '-' in token:\n",
    "            current = '-'.join([k[0] + '.' for k in token.split('-')])\n",
    "        else:\n",
    "            current = token[0] + '.'\n",
    "        initials.append(current)\n",
    "    initials.append(split[-1].strip())\n",
    "    if suffix:\n",
    "        initials.append(f\"({suffix})\")\n",
    "    return ' '.join(initials)"
   ]
  },
  {
   "cell_type": "markdown",
   "id": "14bd6310",
   "metadata": {
    "papermill": {
     "duration": 0.002867,
     "end_time": "2025-04-24T04:12:36.761479",
     "exception": false,
     "start_time": "2025-04-24T04:12:36.758612",
     "status": "completed"
    },
    "tags": []
   },
   "source": [
    "## get list of arxiv paper candidates\n",
    "\n",
    "We use the MPIA mitarbeiter list webpage from mpia.de to get author names\n",
    "We then get all new papers from Arxiv and match authors"
   ]
  },
  {
   "cell_type": "code",
   "execution_count": 3,
   "id": "7ea813a8",
   "metadata": {
    "execution": {
     "iopub.execute_input": "2025-04-24T04:12:36.768382Z",
     "iopub.status.busy": "2025-04-24T04:12:36.767957Z",
     "iopub.status.idle": "2025-04-24T04:12:58.487406Z",
     "shell.execute_reply": "2025-04-24T04:12:58.486782Z"
    },
    "papermill": {
     "duration": 21.724232,
     "end_time": "2025-04-24T04:12:58.488627",
     "exception": false,
     "start_time": "2025-04-24T04:12:36.764395",
     "status": "completed"
    },
    "tags": []
   },
   "outputs": [],
   "source": [
    "# deal with the author list and edge cases of people that cannot be consistent on their name  \n",
    "\n",
    "def filter_non_scientists(name: str) -> bool:\n",
    "    \"\"\" Loose filter on expected authorships\n",
    "\n",
    "    removing IT, administration, technical staff\n",
    "    :param name: name\n",
    "    :returns: False if name is not a scientist\n",
    "    \"\"\"\n",
    "    remove_list = ['Licht', 'Binroth', 'Witzel', 'Jordan',\n",
    "                   'Zähringer', 'Scheerer', 'Hoffmann', 'Düe',\n",
    "                   'Hellmich', 'Enkler-Scharpegge', 'Witte-Nguy',\n",
    "                   'Dehen', 'Beckmann', 'Jager', 'Jäger'\n",
    "                  ]\n",
    "\n",
    "    for k in remove_list:\n",
    "        if k in name:\n",
    "            return False\n",
    "    return True\n",
    "\n",
    "def add_author_to_list(author_list: list) -> list:\n",
    "    \"\"\" Add author to list if not already in list\n",
    "    \n",
    "    :param author: author name\n",
    "    :param author_list: list of authors\n",
    "    :returns: updated list of authors\n",
    "    \"\"\"\n",
    "    add_list = ['T. Henning']\n",
    "\n",
    "    for author in add_list:\n",
    "        if author not in author_list:\n",
    "            author_list.append(author)\n",
    "    return author_list\n",
    "\n",
    "# get list from MPIA website\n",
    "# filter for non-scientists (mpia.get_mpia_mitarbeiter_list() does some filtering)\n",
    "mpia_authors = [k[1] for k in mpia.get_mpia_mitarbeiter_list() if filter_non_scientists(k[1])]\n",
    "# add some missing author because of inconsistencies in their MPIA name and author name on papers\n",
    "mpia_authors = add_author_to_list(mpia_authors)"
   ]
  },
  {
   "cell_type": "code",
   "execution_count": 4,
   "id": "2645e73a",
   "metadata": {
    "execution": {
     "iopub.execute_input": "2025-04-24T04:12:58.496088Z",
     "iopub.status.busy": "2025-04-24T04:12:58.495684Z",
     "iopub.status.idle": "2025-04-24T04:12:59.161860Z",
     "shell.execute_reply": "2025-04-24T04:12:59.161160Z"
    },
    "papermill": {
     "duration": 0.67091,
     "end_time": "2025-04-24T04:12:59.162882",
     "exception": false,
     "start_time": "2025-04-24T04:12:58.491972",
     "status": "completed"
    },
    "tags": []
   },
   "outputs": [
    {
     "name": "stdout",
     "output_type": "stream",
     "text": [
      "L. Acuña  ->  L. Acuña  |  ['L. Acuña']\n",
      "Y. Wang  ->  Y. Wang  |  ['Y. Wang']\n",
      "X. Zhang  ->  X. Zhang  |  ['X. Zhang']\n",
      "J. Li  ->  J. Li  |  ['J. Li']\n",
      "Arxiv has 55 new papers today\n",
      "          4 with possible author matches\n"
     ]
    }
   ],
   "source": [
    "new_papers = get_new_papers()\n",
    "# add manual references\n",
    "add_paper_refs = []\n",
    "new_papers.extend([get_paper_from_identifier(k) for k in add_paper_refs])\n",
    "\n",
    "def robust_call(fn, value, *args, **kwargs):\n",
    "    try:\n",
    "        return fn(value, *args, **kwargs)\n",
    "    except Exception:\n",
    "        return value\n",
    "\n",
    "candidates = []\n",
    "for paperk in new_papers:\n",
    "    # Check author list with their initials\n",
    "    normed_author_list = [robust_call(mpia.get_initials, k) for k in paperk['authors']]\n",
    "    hl_authors = highlight_authors_in_list(normed_author_list, mpia_authors, verbose=True)\n",
    "    matches = [(hl, orig) for hl, orig in zip(hl_authors, paperk['authors']) if 'mark' in hl]\n",
    "    paperk['authors'] = hl_authors\n",
    "    if matches:\n",
    "        # only select paper if an author matched our list\n",
    "        candidates.append(paperk)\n",
    "print(\"\"\"Arxiv has {0:,d} new papers today\"\"\".format(len(new_papers)))        \n",
    "print(\"\"\"          {0:,d} with possible author matches\"\"\".format(len(candidates)))"
   ]
  },
  {
   "cell_type": "markdown",
   "id": "3543b34a",
   "metadata": {
    "papermill": {
     "duration": 0.003101,
     "end_time": "2025-04-24T04:12:59.169489",
     "exception": false,
     "start_time": "2025-04-24T04:12:59.166388",
     "status": "completed"
    },
    "tags": []
   },
   "source": [
    "# Parse sources and generate relevant outputs\n",
    "\n",
    "From the candidates, we do the following steps:\n",
    "* get their tarball from ArXiv (and extract data)\n",
    "* find the main .tex file: find one with \\documentclass{...} (sometimes it's non trivial)\n",
    "* Check affiliations with :func:`validation`, which uses :func:`mpia.affiliation_verifications`\n",
    "* If passing the affiliations: we parse the .tex source\n",
    "   * inject sub-documents into the main (flatten the main document)\n",
    "   * parse structure, extract information (title, abstract, authors, figures...)\n",
    "   * handles `\\graphicspath` if provided\n",
    "* Generate the .md document."
   ]
  },
  {
   "cell_type": "code",
   "execution_count": 5,
   "id": "9576b79e",
   "metadata": {
    "execution": {
     "iopub.execute_input": "2025-04-24T04:12:59.176735Z",
     "iopub.status.busy": "2025-04-24T04:12:59.176334Z",
     "iopub.status.idle": "2025-04-24T04:13:15.926926Z",
     "shell.execute_reply": "2025-04-24T04:13:15.926244Z"
    },
    "papermill": {
     "duration": 16.755453,
     "end_time": "2025-04-24T04:13:15.928025",
     "exception": false,
     "start_time": "2025-04-24T04:12:59.172572",
     "status": "completed"
    },
    "scrolled": false,
    "tags": []
   },
   "outputs": [
    {
     "data": {
      "application/vnd.jupyter.widget-view+json": {
       "model_id": "8e660e3a3a424bf28378be740a91c9cc",
       "version_major": 2,
       "version_minor": 0
      },
      "text/plain": [
       "  0%|          | 0/4 [00:00<?, ?it/s]"
      ]
     },
     "metadata": {},
     "output_type": "display_data"
    },
    {
     "name": "stdout",
     "output_type": "stream",
     "text": [
      "Retrieving document from  https://arxiv.org/e-print/2504.16164\n"
     ]
    },
    {
     "name": "stdout",
     "output_type": "stream",
     "text": [
      "extracting tarball to tmp_2504.16164... done.\n"
     ]
    },
    {
     "name": "stdout",
     "output_type": "stream",
     "text": [
      "Found 194 bibliographic references in tmp_2504.16164/NOMADS.bbl.\n",
      "Error retrieving bib data for mazeh2016dearth: 'author'\n",
      "Error retrieving bib data for mazeh2016dearth: 'author'\n",
      "Error retrieving bib data for castro2024mapping: 'author'\n",
      "Error retrieving bib data for castro2024mapping: 'author'\n",
      "Retrieving document from  https://arxiv.org/e-print/2504.16348\n"
     ]
    },
    {
     "name": "stdout",
     "output_type": "stream",
     "text": [
      "extracting tarball to tmp_2504.16348... done.\n",
      "Retrieving document from  https://arxiv.org/e-print/2504.16648\n"
     ]
    },
    {
     "name": "stderr",
     "output_type": "stream",
     "text": [
      "/tmp/ipykernel_3246/2822249172.py:52: LatexWarning: 2504.16648 did not run properly\n",
      "not a gzip file\n",
      "  warnings.warn(latex.LatexWarning(f\"{paper_id:s} did not run properly\\n\" +\n"
     ]
    },
    {
     "name": "stdout",
     "output_type": "stream",
     "text": [
      "Retrieving document from  https://arxiv.org/e-print/2504.16881\n"
     ]
    },
    {
     "name": "stdout",
     "output_type": "stream",
     "text": [
      "extracting tarball to tmp_2504.16881..."
     ]
    },
    {
     "name": "stdout",
     "output_type": "stream",
     "text": [
      " done.\n"
     ]
    }
   ],
   "source": [
    "documents = []\n",
    "failed = []\n",
    "for paper in tqdm(candidates):\n",
    "    # debug crap\n",
    "    paper['identifier'] = paper['identifier'].lower().replace('arxiv:', '').replace(r'\\n', '').strip()\n",
    "    paper_id = paper['identifier']\n",
    "    \n",
    "    folder = f'tmp_{paper_id}'\n",
    "\n",
    "    try:\n",
    "        if not os.path.isdir(folder):\n",
    "            folder = retrieve_document_source(f\"{paper_id}\", f'tmp_{paper_id}')\n",
    "        \n",
    "        try:\n",
    "            doc = latex.LatexDocument(folder, validation=validation)    \n",
    "        except AffiliationError as affilerror:\n",
    "            msg = f\"ArXiv:{paper_id:s} is not an MPIA paper... \" + str(affilerror)\n",
    "            failed.append((paper, \"affiliation error: \" + str(affilerror) ))\n",
    "            continue\n",
    "        \n",
    "        # Hack because sometimes author parsing does not work well\n",
    "        if (len(doc.authors) != len(paper['authors'])):\n",
    "            doc._authors = paper['authors']\n",
    "        else:\n",
    "            # highlight authors (FIXME: doc.highlight_authors)\n",
    "            # done on arxiv paper already\n",
    "            doc._authors = highlight_authors_in_list(\n",
    "                [get_initials(k) for k in doc.authors], \n",
    "                mpia_authors, verbose=True)\n",
    "        if (doc.abstract) in (None, ''):\n",
    "            doc._abstract = paper['abstract']\n",
    "            \n",
    "        doc.comment = (get_markdown_badge(paper_id) + \n",
    "                       \"<mark>Appeared on: \" + paper['date'] + \"</mark> - \")\n",
    "        if paper['comments']:\n",
    "            doc.comment += \" _\" + paper['comments'] + \"_\"\n",
    "        \n",
    "        full_md = doc.generate_markdown_text()\n",
    "        \n",
    "        full_md += get_markdown_qrcode(paper_id)\n",
    "        \n",
    "        # replace citations\n",
    "        try:\n",
    "            bibdata = latex_bib.LatexBib.from_doc(doc)\n",
    "            full_md = latex_bib.replace_citations(full_md, bibdata)\n",
    "        except Exception as e:\n",
    "            print(\"Issues with the citations\")\n",
    "            print(e)\n",
    "        \n",
    "        documents.append((paper_id, full_md))\n",
    "    except Exception as e:\n",
    "        warnings.warn(latex.LatexWarning(f\"{paper_id:s} did not run properly\\n\" +\n",
    "                                         str(e)\n",
    "                                        ))\n",
    "        failed.append((paper, \"latex error \" + str(e)))"
   ]
  },
  {
   "cell_type": "markdown",
   "id": "2505a25c",
   "metadata": {
    "papermill": {
     "duration": 0.00354,
     "end_time": "2025-04-24T04:13:15.935584",
     "exception": false,
     "start_time": "2025-04-24T04:13:15.932044",
     "status": "completed"
    },
    "tags": []
   },
   "source": [
    "### Export the logs\n",
    "\n",
    "Throughout, we also keep track of the logs per paper. see `logs-{today date}.md` "
   ]
  },
  {
   "cell_type": "code",
   "execution_count": 6,
   "id": "d733828a",
   "metadata": {
    "execution": {
     "iopub.execute_input": "2025-04-24T04:13:15.944194Z",
     "iopub.status.busy": "2025-04-24T04:13:15.943503Z",
     "iopub.status.idle": "2025-04-24T04:13:15.958287Z",
     "shell.execute_reply": "2025-04-24T04:13:15.957631Z"
    },
    "papermill": {
     "duration": 0.020134,
     "end_time": "2025-04-24T04:13:15.959307",
     "exception": false,
     "start_time": "2025-04-24T04:13:15.939173",
     "status": "completed"
    },
    "scrolled": false,
    "tags": []
   },
   "outputs": [
    {
     "data": {
      "text/markdown": [
       "## Successful papers"
      ],
      "text/plain": [
       "<IPython.core.display.Markdown object>"
      ]
     },
     "metadata": {},
     "output_type": "display_data"
    },
    {
     "data": {
      "text/markdown": [
       "\n",
       "|||\n",
       "|---:|:---|\n",
       "| [![arXiv](https://img.shields.io/badge/arXiv-2504.16164-b31b1b.svg)](https://arxiv.org/abs/2504.16164) | **Exploring the Neptunian Desert: Insights from a Homogeneous Planetary Sample**  |\n",
       "|| L. Doyle, et al. -- incl., <mark>L. Acuña</mark> |\n",
       "|*Appeared on*| *2025-04-24*|\n",
       "|*Comments*| *Accepted and published in MNRAS. 18 pages, 9 figures, 5 tables*|\n",
       "|**Abstract**|            In this paper, we present a homogeneous analysis of close-in Neptune planets. To do this, we compile a sample of TESS-observed planets using a ranking criterion which takes into account the planet's period, radius, and the visual magnitude of its host star. We use archival and new HARPS data to ensure every target in this sample has precise radial velocities. This yields a total of 64 targets, 46 of which are confirmed planets and 18 of which show no significant radial velocity signal. We explore the mass-radius distribution, planetary density, stellar host metallicity, and stellar and planetary companions of our targets. We find 26$\\%$ of our sample are in multi-planet systems, which are typically seen for planets located near the lower edge of the Neptunian desert. We define a 'gold' subset of our sample consisting of 33 confirmed planets with planetary radii between 2$R_{\\oplus}$ and 10$R_{\\oplus}$. With these targets, we calculate envelope mass fractions (EMF) using the GAS gianT modeL for Interiors (GASTLI). We find a clear split in EMF between planets with equilibrium temperatures below and above 1300~K, equivalent to an orbital period of $\\sim$3.5~days. Below this period, EMFs are consistent with zero, while above they typically range from 20$\\%$ to 40$\\%$, scaling linearly with the planetary mass. The orbital period separating these two populations coincides with the transition between the Neptunian desert and the recently identified Neptunian ridge, further suggesting that different formation and/or evolution mechanisms are at play for Neptune planets across different close-in orbital regions.         |"
      ],
      "text/plain": [
       "[2504.16164] Exploring the Neptunian Desert: Insights from a Homogeneous Planetary Sample\n",
       "\tL. Doyle, et al. -- incl., <mark>L. Acuña</mark>"
      ]
     },
     "metadata": {},
     "output_type": "display_data"
    },
    {
     "data": {
      "text/markdown": [
       "## Failed papers"
      ],
      "text/plain": [
       "<IPython.core.display.Markdown object>"
      ]
     },
     "metadata": {},
     "output_type": "display_data"
    },
    {
     "data": {
      "text/markdown": [
       "\n",
       "|||\n",
       "|---:|:---|\n",
       "| [![arXiv](https://img.shields.io/badge/arXiv-2504.16348-b31b1b.svg)](https://arxiv.org/abs/2504.16348) | **Supermassive Binaries in Ultralight Dark Matter Solitons**  |\n",
       "|| R. Boey, E. Kendall, <mark>Y. Wang</mark>, R. Easther |\n",
       "|*Appeared on*| *2025-04-24*|\n",
       "|*Comments*| *14 pages, 20 figures*|\n",
       "|**Abstract**|            Ultralight (or fuzzy) dark matter (ULDM) is an alternative to cold dark matter. A key feature of ULDM is the presence of solitonic cores at the centers of collapsed halos. These would potentially increase the drag experienced by supermassive black hole (SMBH) binaries, changing their merger dynamics and the resulting gravitational wave background. We perform detailed simulations of high-mass SMBH binaries in the soliton of a massive halo. We find more rapid decay than previous simulations and semi-analytic approximations. We confirm expectations that the drag depends strongly on the ULDM particle mass, finding masses greater than $10^{-21}$ eV could potentially alleviate the final parsec problem and that ULDM may even suppress gravitational wave production at lower frequencies in the pulsar timing band.         |\n",
       "|<p style=\"color:green\"> **ERROR** </p>| <p style=\"color:green\">affiliation error: mpia.affiliation_verifications: 'Heidelberg' keyword not found.</p> |"
      ],
      "text/plain": [
       "<IPython.core.display.Markdown object>"
      ]
     },
     "metadata": {},
     "output_type": "display_data"
    },
    {
     "data": {
      "text/markdown": [
       "\n",
       "|||\n",
       "|---:|:---|\n",
       "| [![arXiv](https://img.shields.io/badge/arXiv-2504.16881-b31b1b.svg)](https://arxiv.org/abs/2504.16881) | **Fermi-LAT and FAST observation of the gamma-ray binary HESS J0632+057**  |\n",
       "|| Y. Yang, et al. -- incl., <mark>J. Li</mark> |\n",
       "|*Appeared on*| *2025-04-24*|\n",
       "|*Comments*| **|\n",
       "|**Abstract**|            Using 15 years of data from the Fermi Large Area Telescope (Fermi-LAT), we performed a comprehensive analysis on the gamma-ray binary HESS J0632+057. Its spectrum in 0.1-300 GeV band is well described by a power law model with an index of $2.40\\pm0.16$, leading to an energy flux of (5.5$\\pm$1.6$)\\times$ 10$^{-12}$ erg cm$^{-2}$ s$^{-1}$. The GeV Spectral Energy Distribution (SED) of HESS J0632+057 hints for a spectral turn-over between $\\sim$10-100 GeV. Orbital analysis reveals a flux enhancement during the phase range of 0.2-0.4, consistent with the X-ray and TeV light curves, indicating an origin of a common particle population. We carried out six deep radio observations on HESS J0632+057 with the Five-hundred-meter Aperture Spherical Telescope (FAST), evenly distributed across its orbit, reaching a detection sensitivity of 2$\\mu$Jy. However, no radio pulsation was detected within these observations. The absence of radio pulsation may be attributed to the dense stellar wind environment of HESS J0632+057.         |\n",
       "|<p style=\"color:green\"> **ERROR** </p>| <p style=\"color:green\">affiliation error: mpia.affiliation_verifications: 'Heidelberg' keyword not found.</p> |"
      ],
      "text/plain": [
       "<IPython.core.display.Markdown object>"
      ]
     },
     "metadata": {},
     "output_type": "display_data"
    },
    {
     "data": {
      "text/markdown": [
       "\n",
       "|||\n",
       "|---:|:---|\n",
       "| [![arXiv](https://img.shields.io/badge/arXiv-2504.16648-b31b1b.svg)](https://arxiv.org/abs/2504.16648) | **FAST Observation and Results for Core Collapse Globular Cluster M15 and NGC 6517**  |\n",
       "|| Y. Wu, et al. -- incl., <mark>X. Zhang</mark> |\n",
       "|*Appeared on*| *2025-04-24*|\n",
       "|*Comments*| *4 pages, 3 figures, previously published work in URSI GASS*|\n",
       "|**Abstract**|            Radio astronomy is part of radio science that developed rapidly in recent decades. In the research of radio astronomy, pulsars have always been an enduring popular research target. To find and observe more pulsars, large radio telescopes have been built all over the world. In this paper, we present our studies on pulsars in M15 and NGC 6517 with FAST, including monitoring pulsars in M15 and new pulsar discoveries in NGC 6517. All the previously known pulsars in M15 were detected without no new discoveries. Among them, M15C was still detectable by FAST, while it is assumed to fade out due to precession [1]. In NGC 6517, new pulsars were continues to be discovered and all of them are tend to be isolated pulsars. Currently, the number of pulsars in NGC 6517 is 17, much more than the predicted before [2].         |\n",
       "|<p style=\"color:red\"> **ERROR** </p>| <p style=\"color:red\">latex error not a gzip file</p> |"
      ],
      "text/plain": [
       "<IPython.core.display.Markdown object>"
      ]
     },
     "metadata": {},
     "output_type": "display_data"
    }
   ],
   "source": [
    "import datetime\n",
    "today = str(datetime.date.today())\n",
    "logfile = f\"_build/html/logs/log-{today}.md\"\n",
    "\n",
    "\n",
    "with open(logfile, 'w') as logs:\n",
    "    # Success\n",
    "    logs.write(f'# Arxiv on Deck 2: Logs - {today}\\n\\n')\n",
    "    logs.write(\"\"\"* Arxiv had {0:,d} new papers\\n\"\"\".format(len(new_papers)))\n",
    "    logs.write(\"\"\"    * {0:,d} with possible author matches\\n\\n\"\"\".format(len(candidates)))\n",
    "    logs.write(\"## Sucessful papers\\n\\n\")\n",
    "    display(Markdown(\"## Successful papers\"))\n",
    "    success = [k[0] for k in documents]\n",
    "    for candid in candidates:\n",
    "        if candid['identifier'].split(':')[-1] in success:\n",
    "            display(candid)\n",
    "            logs.write(candid.generate_markdown_text() + '\\n\\n')\n",
    "\n",
    "    ## failed\n",
    "    logs.write(\"## Failed papers\\n\\n\")\n",
    "    display(Markdown(\"## Failed papers\"))\n",
    "    failed = sorted(failed, key=lambda x: x[1])\n",
    "    current_reason = \"\"\n",
    "    for paper, reason in failed:\n",
    "        if 'affiliation' in reason:\n",
    "            color = 'green'\n",
    "        else:\n",
    "            color = 'red'\n",
    "        data = Markdown(\n",
    "                paper.generate_markdown_text() + \n",
    "                f'\\n|<p style=\"color:{color:s}\"> **ERROR** </p>| <p style=\"color:{color:s}\">{reason:s}</p> |'\n",
    "               )\n",
    "        if reason != current_reason:\n",
    "            logs.write(f'### {reason:s} \\n\\n')\n",
    "            current_reason = reason\n",
    "        logs.write(data.data + '\\n\\n')\n",
    "        \n",
    "        # only display here the important errors (all in logs)\n",
    "        # if color in ('red',):\n",
    "        display(data)"
   ]
  },
  {
   "cell_type": "markdown",
   "id": "472d20ee",
   "metadata": {
    "papermill": {
     "duration": 0.004059,
     "end_time": "2025-04-24T04:13:15.967569",
     "exception": false,
     "start_time": "2025-04-24T04:13:15.963510",
     "status": "completed"
    },
    "tags": []
   },
   "source": [
    "## Export documents\n",
    "\n",
    "We now write the .md files and export relevant images"
   ]
  },
  {
   "cell_type": "code",
   "execution_count": 7,
   "id": "d426aed9",
   "metadata": {
    "execution": {
     "iopub.execute_input": "2025-04-24T04:13:15.976898Z",
     "iopub.status.busy": "2025-04-24T04:13:15.976400Z",
     "iopub.status.idle": "2025-04-24T04:13:15.983240Z",
     "shell.execute_reply": "2025-04-24T04:13:15.982592Z"
    },
    "papermill": {
     "duration": 0.012507,
     "end_time": "2025-04-24T04:13:15.984247",
     "exception": false,
     "start_time": "2025-04-24T04:13:15.971740",
     "status": "completed"
    },
    "tags": []
   },
   "outputs": [],
   "source": [
    "def export_markdown_summary(md: str, md_fname:str, directory: str):\n",
    "    \"\"\"Export MD document and associated relevant images\"\"\"\n",
    "    import os\n",
    "    import shutil\n",
    "    import re\n",
    "\n",
    "    if (os.path.exists(directory) and not os.path.isdir(directory)):\n",
    "        raise RuntimeError(f\"a non-directory file exists with name {directory:s}\")\n",
    "\n",
    "    if (not os.path.exists(directory)):\n",
    "        print(f\"creating directory {directory:s}\")\n",
    "        os.mkdir(directory)\n",
    "\n",
    "    fig_fnames = (re.compile(r'\\[Fig.*\\]\\((.*)\\)').findall(md) + \n",
    "                  re.compile(r'\\<img src=\"([^>\\s]*)\"[^>]*/>').findall(md))\n",
    "    print(\"found figures\", fig_fnames)\n",
    "    for fname in fig_fnames:\n",
    "        if 'http' in fname:\n",
    "            # No need to copy online figures\n",
    "            continue\n",
    "        if not os.path.exists(fname):\n",
    "            print(\"file not found\", fname)\n",
    "            continue\n",
    "        print(\"copying \", fname, \"to\", directory)\n",
    "        destdir = os.path.join(directory, os.path.dirname(fname))\n",
    "        destfname = os.path.join(destdir, os.path.basename(fname))\n",
    "        try:\n",
    "            os.makedirs(destdir)\n",
    "        except FileExistsError:\n",
    "            pass\n",
    "        shutil.copy(fname, destfname)\n",
    "    with open(os.path.join(directory, md_fname), 'w') as fout:\n",
    "        fout.write(md)\n",
    "    print(\"exported in \", os.path.join(directory, md_fname))\n",
    "    [print(\"    + \" + os.path.join(directory,fk)) for fk in fig_fnames]"
   ]
  },
  {
   "cell_type": "code",
   "execution_count": 8,
   "id": "014d04a4",
   "metadata": {
    "execution": {
     "iopub.execute_input": "2025-04-24T04:13:15.993370Z",
     "iopub.status.busy": "2025-04-24T04:13:15.993175Z",
     "iopub.status.idle": "2025-04-24T04:13:16.001207Z",
     "shell.execute_reply": "2025-04-24T04:13:16.000612Z"
    },
    "papermill": {
     "duration": 0.01374,
     "end_time": "2025-04-24T04:13:16.002222",
     "exception": false,
     "start_time": "2025-04-24T04:13:15.988482",
     "status": "completed"
    },
    "tags": []
   },
   "outputs": [
    {
     "name": "stdout",
     "output_type": "stream",
     "text": [
      "found figures ['tmp_2504.16164/./period_radius_all_new.png', 'tmp_2504.16164/./period_radius_multilicity2.png', 'tmp_2504.16164/./EMF_vs_Period.png', 'tmp_2504.16164/./EMF_vs_planetarymass.png']\n",
      "copying  tmp_2504.16164/./period_radius_all_new.png to _build/html/\n",
      "copying  tmp_2504.16164/./period_radius_multilicity2.png to _build/html/\n",
      "copying  tmp_2504.16164/./EMF_vs_Period.png to _build/html/\n",
      "copying  tmp_2504.16164/./EMF_vs_planetarymass.png to _build/html/\n",
      "exported in  _build/html/2504.16164.md\n",
      "    + _build/html/tmp_2504.16164/./period_radius_all_new.png\n",
      "    + _build/html/tmp_2504.16164/./period_radius_multilicity2.png\n",
      "    + _build/html/tmp_2504.16164/./EMF_vs_Period.png\n",
      "    + _build/html/tmp_2504.16164/./EMF_vs_planetarymass.png\n"
     ]
    }
   ],
   "source": [
    "for paper_id, md in documents:\n",
    "    export_markdown_summary(md, f\"{paper_id:s}.md\", '_build/html/')"
   ]
  },
  {
   "cell_type": "markdown",
   "id": "f087a0a7",
   "metadata": {
    "papermill": {
     "duration": 0.004709,
     "end_time": "2025-04-24T04:13:16.011241",
     "exception": false,
     "start_time": "2025-04-24T04:13:16.006532",
     "status": "completed"
    },
    "tags": []
   },
   "source": [
    "## Display the papers\n",
    "\n",
    "Not necessary but allows for a quick check."
   ]
  },
  {
   "cell_type": "code",
   "execution_count": 9,
   "id": "fd25f625",
   "metadata": {
    "execution": {
     "iopub.execute_input": "2025-04-24T04:13:16.020530Z",
     "iopub.status.busy": "2025-04-24T04:13:16.020333Z",
     "iopub.status.idle": "2025-04-24T04:13:16.024987Z",
     "shell.execute_reply": "2025-04-24T04:13:16.024310Z"
    },
    "papermill": {
     "duration": 0.010434,
     "end_time": "2025-04-24T04:13:16.025925",
     "exception": false,
     "start_time": "2025-04-24T04:13:16.015491",
     "status": "completed"
    },
    "scrolled": false,
    "tags": []
   },
   "outputs": [
    {
     "data": {
      "text/markdown": [
       "<div class=\"macros\" style=\"visibility:hidden;\">\n",
       "$\\newcommand{\\ensuremath}{}$\n",
       "$\\newcommand{\\xspace}{}$\n",
       "$\\newcommand{\\object}[1]{\\texttt{#1}}$\n",
       "$\\newcommand{\\farcs}{{.}''}$\n",
       "$\\newcommand{\\farcm}{{.}'}$\n",
       "$\\newcommand{\\arcsec}{''}$\n",
       "$\\newcommand{\\arcmin}{'}$\n",
       "$\\newcommand{\\ion}[2]{#1#2}$\n",
       "$\\newcommand{\\textsc}[1]{\\textrm{#1}}$\n",
       "$\\newcommand{\\hl}[1]{\\textrm{#1}}$\n",
       "$\\newcommand{\\footnote}[1]{}$\n",
       "$\\newcommand{\\Msun}{M_{\\odot}}$\n",
       "$\\newcommand{\\lsun}{L_{\\odot}}$\n",
       "$\\newcommand{\\Rsun}{R_{\\odot}}$\n",
       "$\\newcommand{\\Rearth}{R_{\\oplus}}$\n",
       "$\\newcommand{\\solar}{{\\odot}}$\n",
       "$\\newcommand{\\kep}{\\it Kepler}$\n",
       "$\\newcommand{\\tess}{\\it TESS}$\n",
       "$\\newcommand{\\ktwo}{\\sl K2}$\n",
       "$\\newcommand{\\swift}{\\it Swift}$\n",
       "$\\newcommand{\\Porb}{P_{\\rm orb}}$\n",
       "$\\newcommand{\\nuorb}{\\nu_{\\rm orb}}$\n",
       "$\\newcommand{\\eplus}{\\epsilon_+}$\n",
       "$\\newcommand{\\eminus}{\\epsilon_-}$\n",
       "$\\newcommand{\\cd}{{\\rm c d^{-1}}}$\n",
       "$\\newcommand{\\MdotL}{\\dot M_{\\rm L1}}$\n",
       "$\\newcommand{\\Mdot}{\\dot M}$\n",
       "$\\newcommand{\\Mdotsolar}{\\dot{M_{\\odot}} yr^{-1}}$\n",
       "$\\newcommand{\\Ldisk}{L_{\\rm disk}}$\n",
       "$\\newcommand{\\src}{KIC 9202990}$\n",
       "$\\newcommand{\\ergscm}{erg s^{-1} cm^{-2}}$\n",
       "$\\newcommand{\\rchi}{\\chi^{2}_{\\nu}}$\n",
       "$\\newcommand{\\chisq}{\\chi^{2}}$\n",
       "$\\newcommand{\\pcmsq}{cm^{-2}}$\n",
       "$\\newcommand$\n",
       "$\\newcommand{\\rpl}{\\mbox{R\\textsubscript{p}}}$\n",
       "$\\newcommand{\\rstar}{\\mbox{R\\textsubscript{*}}}$\n",
       "$\\newcommand{\\thebibliography}{\\DeclareRobustCommand{\\VAN}[3]{##3}\\VANthebibliography}$</div>\n",
       "\n",
       "\n",
       "\n",
       "<div id=\"title\">\n",
       "\n",
       "# Exploring the Neptunian Desert: Insights from a Homogeneous Planetary Sample\n",
       "\n",
       "</div>\n",
       "<div id=\"comments\">\n",
       "\n",
       "[![arXiv](https://img.shields.io/badge/arXiv-2504.16164-b31b1b.svg)](https://arxiv.org/abs/2504.16164)<mark>Appeared on: 2025-04-24</mark> -  _Accepted and published in MNRAS. 18 pages, 9 figures, 5 tables_\n",
       "\n",
       "</div>\n",
       "<div id=\"authors\">\n",
       "\n",
       "L. Doyle, et al. -- incl., <mark>L. Acuña</mark>\n",
       "\n",
       "</div>\n",
       "<div id=\"abstract\">\n",
       "\n",
       "**Abstract:** In this paper, we present a homogeneous analysis of close-in Neptune planets. To do this, we compile a sample of TESS-observed planets using a ranking criterion which takes into account the planet's period, radius, and the visual magnitude of its host star. We use archival and new HARPS data to ensure every target in this sample has precise radial velocities. This yields a total of 64 targets, 46 of which are confirmed planets and 18 of which show no significant radial velocity signal. We explore the mass-radius distribution, planetary density, stellar host metallicity, and stellar and planetary companions of our targets. We find 26 \\% of our sample are in multi-planet systems, which are typically seen for planets located near the lower edge of the Neptunian desert. We define a `gold' subset of our sample consisting of 33 confirmed planets with planetary radii between 2 $R_{\\oplus}$ and 10 $R_{\\oplus}$ . With these targets, we calculate envelope mass fractions (EMF) using the GAS gianT modeL for Interiors (GASTLI). We find a clear split in EMF between planets with equilibrium temperatures below and above 1300 K, equivalent to an orbital period of $\\sim$ 3.5 days. Below this period, EMFs are consistent with zero, while above they typically range from 20 $\\%$ to 40 $\\%$ , scaling linearly with the planetary mass. The orbital period separating these two populations coincides with the transition between the Neptunian desert and the recently identified Neptunian ridge, further suggesting that different formation and/or evolution mechanisms are at play for Neptune planets across different close-in orbital regions.\n",
       "\n",
       "</div>\n",
       "\n",
       "<div id=\"div_fig1\">\n",
       "\n",
       "<img src=\"tmp_2504.16164/./period_radius_all_new.png\" alt=\"Fig1\" width=\"100%\"/>\n",
       "\n",
       "**Figure 1. -** Our full sample of all 64 targets within the period-radius space (black stars). The Neptunian desert boundaries are from mazeh2016dearth plotted as solid lines, with the enclosed desert area shaded in yellow. The dashed black lines represent the boundaries at 2 $\\Rearth$ and 10 $\\Rearth$ used to define the Neptune `gold' sample (black stars highlighted in gold). Known planets were sourced from the NASA exoplanet archive (\\url{exoplanetarchive.ipac.caltech.edu}) accessed on 28 January 2025 and are plotted as grey dots in the background. The population density of known planets is shaded in green, where darker green denotes more planets discovered in that region of parameter space.  (*fig:nep_desert_all*)\n",
       "\n",
       "</div>\n",
       "<div id=\"div_fig2\">\n",
       "\n",
       "<img src=\"tmp_2504.16164/./period_radius_multilicity2.png\" alt=\"Fig3\" width=\"100%\"/>\n",
       "\n",
       "**Figure 3. -** Our full sample of all 64 targets within the period-radius space. Targets identified as hosting a stellar companion (i.e. Stellar Companion(s)) are plotted with a light blue circle. Those which are members of a multiple planet system (i.e. Planetary Companion(s)) are plotted with a red highlight. Some targets meet both criteria. The Neptunian desert boundaries from mazeh2016dearth are plotted as solid lines, with the enclosed Neptunian desert area shaded in yellow. The updated Neptunian desert boundaries from castro2024mapping are plotted as a golden dashed line. All known planets were sourced from the NASA exoplanet archive (\\url{https://www.exoplanetarchive.ipac.caltech.edu}) accessed on 28 January 2025 and are plotted as grey dots in the background. The population density of known planets is shaded in green, where darker green denotes more planets discovered in that region of parameter space.  (*fig:companions*)\n",
       "\n",
       "</div>\n",
       "<div id=\"div_fig3\">\n",
       "\n",
       "<img src=\"tmp_2504.16164/./EMF_vs_Period.png\" alt=\"Fig6.1\" width=\"50%\"/><img src=\"tmp_2504.16164/./EMF_vs_planetarymass.png\" alt=\"Fig6.2\" width=\"50%\"/>\n",
       "\n",
       "**Figure 6. -** _ Top:_ We show the distribution of Envelope Mass Fractions (EMF) against planetary orbital period for 29 of our `gold' sample of Neptunian desert planets. For reference, Saturn's EMF = 0.75-0.83 at M = 95.16 $M_{\\oplus}$, while Neptune's EMF = 0.15-0.35 at M = 17.15 $M_{\\oplus}$, depending on whether their measured atmospheric metallicities are used or a solar envelope is assumed \\citep[see][for a detailed comparison with Solar System planets]{acuna2024gastli}. A dashed black line is shown at 3.5 and 5.7 days which represents the Neptune ridge defined in castro2024mapping. _ Bottom:_ The distribution of EMF against planetary mass for 29 of our `gold' sample of Neptunian desert planets. For each temperature range a linear trend in EMF has been fitted and shown as a dashed line. In both, the sample has been split according to the planetary equilibrium temperature with T$_{\\rm{eq}}$ > 1300 K in yellow and T$_{\\rm{eq}} \\leq$ 1300 K in blue. Triangle markers represent planets where only an upper limit on the EMF was derived. (*fig:EMF*)\n",
       "\n",
       "</div><div id=\"qrcode\"><img src=https://api.qrserver.com/v1/create-qr-code/?size=100x100&data=\"https://arxiv.org/abs/2504.16164\"></div>"
      ],
      "text/plain": [
       "<IPython.core.display.Markdown object>"
      ]
     },
     "metadata": {},
     "output_type": "display_data"
    }
   ],
   "source": [
    "[display(Markdown(k[1])) for k in documents];"
   ]
  },
  {
   "cell_type": "markdown",
   "id": "873873a4",
   "metadata": {
    "papermill": {
     "duration": 0.004419,
     "end_time": "2025-04-24T04:13:16.034879",
     "exception": false,
     "start_time": "2025-04-24T04:13:16.030460",
     "status": "completed"
    },
    "tags": []
   },
   "source": [
    "# Create HTML index"
   ]
  },
  {
   "cell_type": "code",
   "execution_count": 10,
   "id": "cf665672",
   "metadata": {
    "execution": {
     "iopub.execute_input": "2025-04-24T04:13:16.045090Z",
     "iopub.status.busy": "2025-04-24T04:13:16.044556Z",
     "iopub.status.idle": "2025-04-24T04:13:16.054592Z",
     "shell.execute_reply": "2025-04-24T04:13:16.053961Z"
    },
    "papermill": {
     "duration": 0.016125,
     "end_time": "2025-04-24T04:13:16.055617",
     "exception": false,
     "start_time": "2025-04-24T04:13:16.039492",
     "status": "completed"
    },
    "tags": []
   },
   "outputs": [
    {
     "name": "stdout",
     "output_type": "stream",
     "text": [
      "450  publications files modified in the last 7 days.\n"
     ]
    }
   ],
   "source": [
    "from datetime import datetime, timedelta, timezone\n",
    "from glob import glob\n",
    "import os\n",
    "\n",
    "files = glob('_build/html/*.md')\n",
    "days = 7\n",
    "now = datetime.today()\n",
    "res = []\n",
    "for fk in files:\n",
    "    stat_result = os.stat(fk).st_ctime\n",
    "    modified = datetime.fromtimestamp(stat_result, tz=timezone.utc).replace(tzinfo=None)\n",
    "    delta = now.today() - modified\n",
    "    if delta <= timedelta(days=days):\n",
    "        res.append((delta.seconds, fk))\n",
    "res = [k[1] for k in reversed(sorted(res, key=lambda x:x[1]))]\n",
    "npub = len(res)\n",
    "print(len(res), f\" publications files modified in the last {days:d} days.\")\n",
    "# [ print('\\t', k) for k in res ];"
   ]
  },
  {
   "cell_type": "code",
   "execution_count": 11,
   "id": "015de740",
   "metadata": {
    "execution": {
     "iopub.execute_input": "2025-04-24T04:13:16.065826Z",
     "iopub.status.busy": "2025-04-24T04:13:16.065401Z",
     "iopub.status.idle": "2025-04-24T04:13:16.088138Z",
     "shell.execute_reply": "2025-04-24T04:13:16.087603Z"
    },
    "papermill": {
     "duration": 0.028883,
     "end_time": "2025-04-24T04:13:16.089139",
     "exception": false,
     "start_time": "2025-04-24T04:13:16.060256",
     "status": "completed"
    },
    "tags": []
   },
   "outputs": [
    {
     "name": "stdout",
     "output_type": "stream",
     "text": [
      "7  publications in the last 7 days.\n"
     ]
    }
   ],
   "source": [
    "import datetime\n",
    "from glob import glob\n",
    "\n",
    "def get_last_n_days(lst, days=1):\n",
    "    \"\"\" Get the documents from the last n days \"\"\"\n",
    "    sorted_lst = sorted(lst, key=lambda x: x[1], reverse=True)\n",
    "    for fname, date in sorted_lst:\n",
    "        if date >= str(datetime.date.today() - datetime.timedelta(days=days)):\n",
    "            yield fname\n",
    "\n",
    "def extract_appearance_dates(lst_file):\n",
    "    dates = []\n",
    "\n",
    "    def get_date(line):\n",
    "        return line\\\n",
    "            .split('Appeared on:')[-1]\\\n",
    "            .split('</mark>')[0].strip()\n",
    "\n",
    "    for fname in lst:\n",
    "        with open(fname, 'r') as f:\n",
    "            found_date = False\n",
    "            for line in f:\n",
    "                if not found_date:\n",
    "                    if \"Appeared on\" in line:\n",
    "                        found_date = True\n",
    "                        dates.append((fname, get_date(line)))\n",
    "                else:\n",
    "                    break\n",
    "    return dates\n",
    "\n",
    "from glob import glob\n",
    "lst = glob('_build/html/*md')\n",
    "days = 7\n",
    "dates = extract_appearance_dates(lst)\n",
    "res = list(get_last_n_days(dates, days))\n",
    "npub = len(res)\n",
    "print(len(res), f\" publications in the last {days:d} days.\")"
   ]
  },
  {
   "cell_type": "code",
   "execution_count": 12,
   "id": "52ca0208",
   "metadata": {
    "execution": {
     "iopub.execute_input": "2025-04-24T04:13:16.099207Z",
     "iopub.status.busy": "2025-04-24T04:13:16.099012Z",
     "iopub.status.idle": "2025-04-24T04:13:16.103704Z",
     "shell.execute_reply": "2025-04-24T04:13:16.103182Z"
    },
    "papermill": {
     "duration": 0.010783,
     "end_time": "2025-04-24T04:13:16.104703",
     "exception": false,
     "start_time": "2025-04-24T04:13:16.093920",
     "status": "completed"
    },
    "scrolled": false,
    "tags": []
   },
   "outputs": [],
   "source": [
    "def create_carousel(npub=4):\n",
    "    \"\"\" Generate the HTML code for a carousel with `npub` slides \"\"\"\n",
    "    carousel = [\"\"\"  <div class=\"carousel\" \"\"\",\n",
    "                \"\"\"       data-flickity='{ \"autoPlay\": 10000, \"adaptiveHeight\": true, \"resize\": true, \"wrapAround\": true, \"pauseAutoPlayOnHover\": true, \"groupCells\": 1 }' id=\"asyncTypeset\">\"\"\"\n",
    "                ]\n",
    "    \n",
    "    item_str = \"\"\"    <div class=\"carousel-cell\"> <div id=\"slide{k}\" class=\"md_view\">Content {k}</div> </div>\"\"\"\n",
    "    for k in range(1, npub + 1):\n",
    "        carousel.append(item_str.format(k=k))\n",
    "    carousel.append(\"  </div>\")\n",
    "    return '\\n'.join(carousel)\n",
    "\n",
    "def create_grid(npub=4):\n",
    "    \"\"\" Generate the HTML code for a flat grid with `npub` slides \"\"\"\n",
    "    grid = [\"\"\"  <div class=\"grid\"> \"\"\",\n",
    "                ]\n",
    "    \n",
    "    item_str = \"\"\"    <div class=\"grid-item\"> <div id=\"slide{k}\" class=\"md_view\">Content {k}</div> </div>\"\"\"\n",
    "    for k in range(1, npub + 1):\n",
    "        grid.append(item_str.format(k=k))\n",
    "    grid.append(\"  </div>\")\n",
    "    return '\\n'.join(grid)"
   ]
  },
  {
   "cell_type": "code",
   "execution_count": 13,
   "id": "a6eac5b6",
   "metadata": {
    "execution": {
     "iopub.execute_input": "2025-04-24T04:13:16.114696Z",
     "iopub.status.busy": "2025-04-24T04:13:16.114497Z",
     "iopub.status.idle": "2025-04-24T04:13:16.119492Z",
     "shell.execute_reply": "2025-04-24T04:13:16.118882Z"
    },
    "papermill": {
     "duration": 0.011128,
     "end_time": "2025-04-24T04:13:16.120470",
     "exception": false,
     "start_time": "2025-04-24T04:13:16.109342",
     "status": "completed"
    },
    "scrolled": false,
    "tags": []
   },
   "outputs": [],
   "source": [
    "carousel = create_carousel(npub)\n",
    "docs = ', '.join(['\"{0:s}\"'.format(k.split('/')[-1]) for k in res])\n",
    "slides = ', '.join([f'\"slide{k}\"' for k in range(1, npub + 1)])\n",
    "\n",
    "with open(\"daily_template.html\", \"r\") as tpl:\n",
    "    page = tpl.read()\n",
    "    page = page.replace(\"{%-- carousel:s --%}\", carousel)\\\n",
    "               .replace(\"{%-- suptitle:s --%}\",  \"7-day archives\" )\\\n",
    "               .replace(\"{%-- docs:s --%}\", docs)\\\n",
    "               .replace(\"{%-- slides:s --%}\", slides)\n",
    "    \n",
    "with open(\"_build/html/index_7days.html\", 'w') as fout:\n",
    "    fout.write(page)"
   ]
  },
  {
   "cell_type": "code",
   "execution_count": 14,
   "id": "adc1a1ec",
   "metadata": {
    "execution": {
     "iopub.execute_input": "2025-04-24T04:13:16.130608Z",
     "iopub.status.busy": "2025-04-24T04:13:16.130407Z",
     "iopub.status.idle": "2025-04-24T04:13:16.137395Z",
     "shell.execute_reply": "2025-04-24T04:13:16.136844Z"
    },
    "papermill": {
     "duration": 0.013125,
     "end_time": "2025-04-24T04:13:16.138369",
     "exception": false,
     "start_time": "2025-04-24T04:13:16.125244",
     "status": "completed"
    },
    "tags": []
   },
   "outputs": [
    {
     "name": "stdout",
     "output_type": "stream",
     "text": [
      "1  publications in the last day.\n"
     ]
    }
   ],
   "source": [
    "# redo for today\n",
    "days = 1\n",
    "res = list(get_last_n_days(dates, days))\n",
    "npub = len(res)\n",
    "print(len(res), f\" publications in the last day.\")\n",
    "\n",
    "carousel = create_carousel(npub)\n",
    "docs = ', '.join(['\"{0:s}\"'.format(k.split('/')[-1]) for k in res])\n",
    "slides = ', '.join([f'\"slide{k}\"' for k in range(1, npub + 1)])\n",
    "\n",
    "with open(\"daily_template.html\", \"r\") as tpl:\n",
    "    page = tpl.read()\n",
    "    page = page.replace(\"{%-- carousel:s --%}\", carousel)\\\n",
    "               .replace(\"{%-- suptitle:s --%}\",  \"Daily\" )\\\n",
    "               .replace(\"{%-- docs:s --%}\", docs)\\\n",
    "               .replace(\"{%-- slides:s --%}\", slides)\n",
    "    \n",
    "# print(carousel, docs, slides)\n",
    "# print(page)\n",
    "with open(\"_build/html/index_daily.html\", 'w') as fout:\n",
    "    fout.write(page)"
   ]
  },
  {
   "cell_type": "code",
   "execution_count": 15,
   "id": "00eece82",
   "metadata": {
    "execution": {
     "iopub.execute_input": "2025-04-24T04:13:16.148826Z",
     "iopub.status.busy": "2025-04-24T04:13:16.148600Z",
     "iopub.status.idle": "2025-04-24T04:13:16.155181Z",
     "shell.execute_reply": "2025-04-24T04:13:16.154591Z"
    },
    "papermill": {
     "duration": 0.012917,
     "end_time": "2025-04-24T04:13:16.156204",
     "exception": false,
     "start_time": "2025-04-24T04:13:16.143287",
     "status": "completed"
    },
    "scrolled": false,
    "tags": []
   },
   "outputs": [
    {
     "name": "stdout",
     "output_type": "stream",
     "text": [
      "6  6 publications selected.\n"
     ]
    }
   ],
   "source": [
    "# Create the flat grid of the last N papers (fixed number regardless of dates)\n",
    "from itertools import islice \n",
    "\n",
    "npub = 6\n",
    "res = [k[0] for k in (islice(reversed(sorted(dates, key=lambda x: x[1])), 6))]\n",
    "print(len(res), f\" {npub} publications selected.\")\n",
    "\n",
    "grid = create_grid(npub)\n",
    "docs = ', '.join(['\"{0:s}\"'.format(k.split('/')[-1]) for k in res])\n",
    "slides = ', '.join([f'\"slide{k}\"' for k in range(1, npub + 1)])\n",
    "\n",
    "with open(\"grid_template.html\", \"r\") as tpl:\n",
    "    page = tpl.read()\n",
    "    page = page.replace(\"{%-- grid-content:s --%}\", grid)\\\n",
    "               .replace(\"{%-- suptitle:s --%}\",  f\"Last {npub:,d} papers\" )\\\n",
    "               .replace(\"{%-- docs:s --%}\", docs)\\\n",
    "               .replace(\"{%-- slides:s --%}\", slides)\n",
    "    \n",
    "# print(grid, docs, slides)\n",
    "# print(page)\n",
    "with open(\"_build/html/index_npub_grid.html\", 'w') as fout:\n",
    "    fout.write(page)"
   ]
  }
 ],
 "metadata": {
  "kernelspec": {
   "display_name": "Python 3 (ipykernel)",
   "language": "python",
   "name": "python3"
  },
  "language_info": {
   "codemirror_mode": {
    "name": "ipython",
    "version": 3
   },
   "file_extension": ".py",
   "mimetype": "text/x-python",
   "name": "python",
   "nbconvert_exporter": "python",
   "pygments_lexer": "ipython3",
   "version": "3.9.22"
  },
  "papermill": {
   "default_parameters": {},
   "duration": 40.978999,
   "end_time": "2025-04-24T04:13:16.376613",
   "environment_variables": {},
   "exception": null,
   "input_path": "MPIA daily digest.ipynb",
   "output_path": "log.ipynb",
   "parameters": {},
   "start_time": "2025-04-24T04:12:35.397614",
   "version": "2.6.0"
  },
  "vscode": {
   "interpreter": {
    "hash": "aee8b7b246df8f9039afb4144a1f6fd8d2ca17a180786b69acc140d282b71a49"
   }
  },
  "widgets": {
   "application/vnd.jupyter.widget-state+json": {
    "state": {
     "1cc3b3dddf8c4bc58d07ea093fe5f0e8": {
      "model_module": "@jupyter-widgets/controls",
      "model_module_version": "2.0.0",
      "model_name": "ProgressStyleModel",
      "state": {
       "_model_module": "@jupyter-widgets/controls",
       "_model_module_version": "2.0.0",
       "_model_name": "ProgressStyleModel",
       "_view_count": null,
       "_view_module": "@jupyter-widgets/base",
       "_view_module_version": "2.0.0",
       "_view_name": "StyleView",
       "bar_color": null,
       "description_width": ""
      }
     },
     "3092aeb6d0b2493c85b696b77df80162": {
      "model_module": "@jupyter-widgets/base",
      "model_module_version": "2.0.0",
      "model_name": "LayoutModel",
      "state": {
       "_model_module": "@jupyter-widgets/base",
       "_model_module_version": "2.0.0",
       "_model_name": "LayoutModel",
       "_view_count": null,
       "_view_module": "@jupyter-widgets/base",
       "_view_module_version": "2.0.0",
       "_view_name": "LayoutView",
       "align_content": null,
       "align_items": null,
       "align_self": null,
       "border_bottom": null,
       "border_left": null,
       "border_right": null,
       "border_top": null,
       "bottom": null,
       "display": null,
       "flex": null,
       "flex_flow": null,
       "grid_area": null,
       "grid_auto_columns": null,
       "grid_auto_flow": null,
       "grid_auto_rows": null,
       "grid_column": null,
       "grid_gap": null,
       "grid_row": null,
       "grid_template_areas": null,
       "grid_template_columns": null,
       "grid_template_rows": null,
       "height": null,
       "justify_content": null,
       "justify_items": null,
       "left": null,
       "margin": null,
       "max_height": null,
       "max_width": null,
       "min_height": null,
       "min_width": null,
       "object_fit": null,
       "object_position": null,
       "order": null,
       "overflow": null,
       "padding": null,
       "right": null,
       "top": null,
       "visibility": null,
       "width": null
      }
     },
     "47670ed71a60420d97feb8530365de71": {
      "model_module": "@jupyter-widgets/base",
      "model_module_version": "2.0.0",
      "model_name": "LayoutModel",
      "state": {
       "_model_module": "@jupyter-widgets/base",
       "_model_module_version": "2.0.0",
       "_model_name": "LayoutModel",
       "_view_count": null,
       "_view_module": "@jupyter-widgets/base",
       "_view_module_version": "2.0.0",
       "_view_name": "LayoutView",
       "align_content": null,
       "align_items": null,
       "align_self": null,
       "border_bottom": null,
       "border_left": null,
       "border_right": null,
       "border_top": null,
       "bottom": null,
       "display": null,
       "flex": null,
       "flex_flow": null,
       "grid_area": null,
       "grid_auto_columns": null,
       "grid_auto_flow": null,
       "grid_auto_rows": null,
       "grid_column": null,
       "grid_gap": null,
       "grid_row": null,
       "grid_template_areas": null,
       "grid_template_columns": null,
       "grid_template_rows": null,
       "height": null,
       "justify_content": null,
       "justify_items": null,
       "left": null,
       "margin": null,
       "max_height": null,
       "max_width": null,
       "min_height": null,
       "min_width": null,
       "object_fit": null,
       "object_position": null,
       "order": null,
       "overflow": null,
       "padding": null,
       "right": null,
       "top": null,
       "visibility": null,
       "width": null
      }
     },
     "5e9e603886374d918ee1278059427e91": {
      "model_module": "@jupyter-widgets/base",
      "model_module_version": "2.0.0",
      "model_name": "LayoutModel",
      "state": {
       "_model_module": "@jupyter-widgets/base",
       "_model_module_version": "2.0.0",
       "_model_name": "LayoutModel",
       "_view_count": null,
       "_view_module": "@jupyter-widgets/base",
       "_view_module_version": "2.0.0",
       "_view_name": "LayoutView",
       "align_content": null,
       "align_items": null,
       "align_self": null,
       "border_bottom": null,
       "border_left": null,
       "border_right": null,
       "border_top": null,
       "bottom": null,
       "display": null,
       "flex": null,
       "flex_flow": null,
       "grid_area": null,
       "grid_auto_columns": null,
       "grid_auto_flow": null,
       "grid_auto_rows": null,
       "grid_column": null,
       "grid_gap": null,
       "grid_row": null,
       "grid_template_areas": null,
       "grid_template_columns": null,
       "grid_template_rows": null,
       "height": null,
       "justify_content": null,
       "justify_items": null,
       "left": null,
       "margin": null,
       "max_height": null,
       "max_width": null,
       "min_height": null,
       "min_width": null,
       "object_fit": null,
       "object_position": null,
       "order": null,
       "overflow": null,
       "padding": null,
       "right": null,
       "top": null,
       "visibility": null,
       "width": null
      }
     },
     "76f575bf60ab4a429da99a295cf72fce": {
      "model_module": "@jupyter-widgets/controls",
      "model_module_version": "2.0.0",
      "model_name": "HTMLStyleModel",
      "state": {
       "_model_module": "@jupyter-widgets/controls",
       "_model_module_version": "2.0.0",
       "_model_name": "HTMLStyleModel",
       "_view_count": null,
       "_view_module": "@jupyter-widgets/base",
       "_view_module_version": "2.0.0",
       "_view_name": "StyleView",
       "background": null,
       "description_width": "",
       "font_size": null,
       "text_color": null
      }
     },
     "843ee20938884f479d643630369dd606": {
      "model_module": "@jupyter-widgets/controls",
      "model_module_version": "2.0.0",
      "model_name": "HTMLStyleModel",
      "state": {
       "_model_module": "@jupyter-widgets/controls",
       "_model_module_version": "2.0.0",
       "_model_name": "HTMLStyleModel",
       "_view_count": null,
       "_view_module": "@jupyter-widgets/base",
       "_view_module_version": "2.0.0",
       "_view_name": "StyleView",
       "background": null,
       "description_width": "",
       "font_size": null,
       "text_color": null
      }
     },
     "8d86e4f8e3b142e68a8d82d3cc75693f": {
      "model_module": "@jupyter-widgets/controls",
      "model_module_version": "2.0.0",
      "model_name": "HTMLModel",
      "state": {
       "_dom_classes": [],
       "_model_module": "@jupyter-widgets/controls",
       "_model_module_version": "2.0.0",
       "_model_name": "HTMLModel",
       "_view_count": null,
       "_view_module": "@jupyter-widgets/controls",
       "_view_module_version": "2.0.0",
       "_view_name": "HTMLView",
       "description": "",
       "description_allow_html": false,
       "layout": "IPY_MODEL_47670ed71a60420d97feb8530365de71",
       "placeholder": "​",
       "style": "IPY_MODEL_76f575bf60ab4a429da99a295cf72fce",
       "tabbable": null,
       "tooltip": null,
       "value": "100%"
      }
     },
     "8e660e3a3a424bf28378be740a91c9cc": {
      "model_module": "@jupyter-widgets/controls",
      "model_module_version": "2.0.0",
      "model_name": "HBoxModel",
      "state": {
       "_dom_classes": [],
       "_model_module": "@jupyter-widgets/controls",
       "_model_module_version": "2.0.0",
       "_model_name": "HBoxModel",
       "_view_count": null,
       "_view_module": "@jupyter-widgets/controls",
       "_view_module_version": "2.0.0",
       "_view_name": "HBoxView",
       "box_style": "",
       "children": [
        "IPY_MODEL_8d86e4f8e3b142e68a8d82d3cc75693f",
        "IPY_MODEL_df13520d8b034038b6e02aa0f7a4522e",
        "IPY_MODEL_b8722a5a3e99459ca5940f19b831ed37"
       ],
       "layout": "IPY_MODEL_5e9e603886374d918ee1278059427e91",
       "tabbable": null,
       "tooltip": null
      }
     },
     "b322b599a097418881aac20ddb7d5295": {
      "model_module": "@jupyter-widgets/base",
      "model_module_version": "2.0.0",
      "model_name": "LayoutModel",
      "state": {
       "_model_module": "@jupyter-widgets/base",
       "_model_module_version": "2.0.0",
       "_model_name": "LayoutModel",
       "_view_count": null,
       "_view_module": "@jupyter-widgets/base",
       "_view_module_version": "2.0.0",
       "_view_name": "LayoutView",
       "align_content": null,
       "align_items": null,
       "align_self": null,
       "border_bottom": null,
       "border_left": null,
       "border_right": null,
       "border_top": null,
       "bottom": null,
       "display": null,
       "flex": null,
       "flex_flow": null,
       "grid_area": null,
       "grid_auto_columns": null,
       "grid_auto_flow": null,
       "grid_auto_rows": null,
       "grid_column": null,
       "grid_gap": null,
       "grid_row": null,
       "grid_template_areas": null,
       "grid_template_columns": null,
       "grid_template_rows": null,
       "height": null,
       "justify_content": null,
       "justify_items": null,
       "left": null,
       "margin": null,
       "max_height": null,
       "max_width": null,
       "min_height": null,
       "min_width": null,
       "object_fit": null,
       "object_position": null,
       "order": null,
       "overflow": null,
       "padding": null,
       "right": null,
       "top": null,
       "visibility": null,
       "width": null
      }
     },
     "b8722a5a3e99459ca5940f19b831ed37": {
      "model_module": "@jupyter-widgets/controls",
      "model_module_version": "2.0.0",
      "model_name": "HTMLModel",
      "state": {
       "_dom_classes": [],
       "_model_module": "@jupyter-widgets/controls",
       "_model_module_version": "2.0.0",
       "_model_name": "HTMLModel",
       "_view_count": null,
       "_view_module": "@jupyter-widgets/controls",
       "_view_module_version": "2.0.0",
       "_view_name": "HTMLView",
       "description": "",
       "description_allow_html": false,
       "layout": "IPY_MODEL_3092aeb6d0b2493c85b696b77df80162",
       "placeholder": "​",
       "style": "IPY_MODEL_843ee20938884f479d643630369dd606",
       "tabbable": null,
       "tooltip": null,
       "value": " 4/4 [00:16&lt;00:00,  2.51s/it]"
      }
     },
     "df13520d8b034038b6e02aa0f7a4522e": {
      "model_module": "@jupyter-widgets/controls",
      "model_module_version": "2.0.0",
      "model_name": "FloatProgressModel",
      "state": {
       "_dom_classes": [],
       "_model_module": "@jupyter-widgets/controls",
       "_model_module_version": "2.0.0",
       "_model_name": "FloatProgressModel",
       "_view_count": null,
       "_view_module": "@jupyter-widgets/controls",
       "_view_module_version": "2.0.0",
       "_view_name": "ProgressView",
       "bar_style": "success",
       "description": "",
       "description_allow_html": false,
       "layout": "IPY_MODEL_b322b599a097418881aac20ddb7d5295",
       "max": 4.0,
       "min": 0.0,
       "orientation": "horizontal",
       "style": "IPY_MODEL_1cc3b3dddf8c4bc58d07ea093fe5f0e8",
       "tabbable": null,
       "tooltip": null,
       "value": 4.0
      }
     }
    },
    "version_major": 2,
    "version_minor": 0
   }
  }
 },
 "nbformat": 4,
 "nbformat_minor": 5
}