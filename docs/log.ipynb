{
 "cells": [
  {
   "cell_type": "markdown",
   "id": "92bcb855",
   "metadata": {
    "papermill": {
     "duration": 0.003906,
     "end_time": "2025-02-24T04:11:02.800116",
     "exception": false,
     "start_time": "2025-02-24T04:11:02.796210",
     "status": "completed"
    },
    "tags": []
   },
   "source": [
    "# MPIA Arxiv on Deck 2\n",
    "\n",
    "Contains the steps to produce the paper extractions."
   ]
  },
  {
   "cell_type": "code",
   "execution_count": 1,
   "id": "3a0d6e11",
   "metadata": {
    "execution": {
     "iopub.execute_input": "2025-02-24T04:11:02.807825Z",
     "iopub.status.busy": "2025-02-24T04:11:02.807221Z",
     "iopub.status.idle": "2025-02-24T04:11:03.257300Z",
     "shell.execute_reply": "2025-02-24T04:11:03.256625Z"
    },
    "papermill": {
     "duration": 0.455192,
     "end_time": "2025-02-24T04:11:03.258604",
     "exception": false,
     "start_time": "2025-02-24T04:11:02.803412",
     "status": "completed"
    },
    "tags": []
   },
   "outputs": [],
   "source": [
    "# Imports\n",
    "import os\n",
    "from IPython.display import Markdown, display\n",
    "from tqdm.notebook import tqdm\n",
    "import warnings\n",
    "from PIL import Image \n",
    "import re\n",
    "\n",
    "# requires arxiv_on_deck_2\n",
    "\n",
    "from arxiv_on_deck_2.arxiv2 import (get_new_papers, \n",
    "                                    get_paper_from_identifier,\n",
    "                                    retrieve_document_source, \n",
    "                                    get_markdown_badge)\n",
    "from arxiv_on_deck_2 import (latex,\n",
    "                             latex_bib,\n",
    "                             mpia,\n",
    "                             highlight_authors_in_list)\n",
    "\n",
    "# Sometimes images are really big\n",
    "Image.MAX_IMAGE_PIXELS = 1000000000 "
   ]
  },
  {
   "cell_type": "code",
   "execution_count": 2,
   "id": "22aa9d44",
   "metadata": {
    "execution": {
     "iopub.execute_input": "2025-02-24T04:11:03.266067Z",
     "iopub.status.busy": "2025-02-24T04:11:03.265539Z",
     "iopub.status.idle": "2025-02-24T04:11:03.273533Z",
     "shell.execute_reply": "2025-02-24T04:11:03.273011Z"
    },
    "papermill": {
     "duration": 0.012744,
     "end_time": "2025-02-24T04:11:03.274590",
     "exception": false,
     "start_time": "2025-02-24T04:11:03.261846",
     "status": "completed"
    },
    "tags": []
   },
   "outputs": [],
   "source": [
    "# Some useful definitions.\n",
    "\n",
    "class AffiliationWarning(UserWarning):\n",
    "    pass\n",
    "\n",
    "class AffiliationError(RuntimeError):\n",
    "    pass\n",
    "\n",
    "def validation(source: str):\n",
    "    \"\"\"Raises error paper during parsing of source file\n",
    "    \n",
    "    Allows checks before parsing TeX code.\n",
    "    \n",
    "    Raises AffiliationWarning\n",
    "    \"\"\"\n",
    "    check = mpia.affiliation_verifications(source, verbose=True)\n",
    "    if check is not True:\n",
    "        raise AffiliationError(\"mpia.affiliation_verifications: \" + check)\n",
    "\n",
    "        \n",
    "warnings.simplefilter('always', AffiliationWarning)\n",
    "\n",
    "\n",
    "def get_markdown_qrcode(paper_id: str):\n",
    "    \"\"\" Generate a qrcode to the arxiv page using qrserver.com\n",
    "    \n",
    "    :param paper: Arxiv paper\n",
    "    :returns: markdown text\n",
    "    \"\"\"\n",
    "    url = r\"https://api.qrserver.com/v1/create-qr-code/?size=100x100&data=\"\n",
    "    txt = f\"\"\"<img src={url}\"https://arxiv.org/abs/{paper_id}\">\"\"\"\n",
    "    txt = '<div id=\"qrcode\">' + txt + '</div>'\n",
    "    return txt\n",
    "\n",
    "\n",
    "def clean_non_western_encoded_characters_commands(text: str) -> str:\n",
    "    \"\"\" Remove non-western encoded characters from a string\n",
    "    List may need to grow.\n",
    "    \n",
    "    :param text: the text to clean\n",
    "    :return: the cleaned text\n",
    "    \"\"\"\n",
    "    text = re.sub(r\"(\\\\begin{CJK}{UTF8}{gbsn})(.*?)(\\\\end{CJK})\", r\"\\2\", text)\n",
    "    return text\n",
    "\n",
    "\n",
    "def get_initials(name: str) -> str:\n",
    "    \"\"\" Get the short name, e.g., A.-B. FamName\n",
    "    :param name: full name\n",
    "    :returns: initials\n",
    "    \"\"\"\n",
    "    initials = []\n",
    "    # account for non western names often in ()\n",
    "    if '(' in name:\n",
    "        name = clean_non_western_encoded_characters_commands(name)\n",
    "        suffix = re.findall(r\"\\((.*?)\\)\", name)[0]\n",
    "        name = name.replace(f\"({suffix})\", '')\n",
    "    else:\n",
    "        suffix = ''\n",
    "    split = name.split()\n",
    "    for token in split[:-1]:\n",
    "        if '-' in token:\n",
    "            current = '-'.join([k[0] + '.' for k in token.split('-')])\n",
    "        else:\n",
    "            current = token[0] + '.'\n",
    "        initials.append(current)\n",
    "    initials.append(split[-1].strip())\n",
    "    if suffix:\n",
    "        initials.append(f\"({suffix})\")\n",
    "    return ' '.join(initials)"
   ]
  },
  {
   "cell_type": "markdown",
   "id": "14bd6310",
   "metadata": {
    "papermill": {
     "duration": 0.002866,
     "end_time": "2025-02-24T04:11:03.280441",
     "exception": false,
     "start_time": "2025-02-24T04:11:03.277575",
     "status": "completed"
    },
    "tags": []
   },
   "source": [
    "## get list of arxiv paper candidates\n",
    "\n",
    "We use the MPIA mitarbeiter list webpage from mpia.de to get author names\n",
    "We then get all new papers from Arxiv and match authors"
   ]
  },
  {
   "cell_type": "code",
   "execution_count": 3,
   "id": "7ea813a8",
   "metadata": {
    "execution": {
     "iopub.execute_input": "2025-02-24T04:11:03.287209Z",
     "iopub.status.busy": "2025-02-24T04:11:03.286847Z",
     "iopub.status.idle": "2025-02-24T04:11:23.052278Z",
     "shell.execute_reply": "2025-02-24T04:11:23.051578Z"
    },
    "papermill": {
     "duration": 19.770198,
     "end_time": "2025-02-24T04:11:23.053554",
     "exception": false,
     "start_time": "2025-02-24T04:11:03.283356",
     "status": "completed"
    },
    "tags": []
   },
   "outputs": [],
   "source": [
    "# deal with the author list and edge cases of people that cannot be consistent on their name  \n",
    "\n",
    "def filter_non_scientists(name: str) -> bool:\n",
    "    \"\"\" Loose filter on expected authorships\n",
    "\n",
    "    removing IT, administration, technical staff\n",
    "    :param name: name\n",
    "    :returns: False if name is not a scientist\n",
    "    \"\"\"\n",
    "    remove_list = ['Licht', 'Binroth', 'Witzel', 'Jordan',\n",
    "                   'Zähringer', 'Scheerer', 'Hoffmann', 'Düe',\n",
    "                   'Hellmich', 'Enkler-Scharpegge', 'Witte-Nguy',\n",
    "                   'Dehen', 'Beckmann', 'Jager', 'Jäger'\n",
    "                  ]\n",
    "\n",
    "    for k in remove_list:\n",
    "        if k in name:\n",
    "            return False\n",
    "    return True\n",
    "\n",
    "def add_author_to_list(author_list: list) -> list:\n",
    "    \"\"\" Add author to list if not already in list\n",
    "    \n",
    "    :param author: author name\n",
    "    :param author_list: list of authors\n",
    "    :returns: updated list of authors\n",
    "    \"\"\"\n",
    "    add_list = ['T. Henning']\n",
    "\n",
    "    for author in add_list:\n",
    "        if author not in author_list:\n",
    "            author_list.append(author)\n",
    "    return author_list\n",
    "\n",
    "# get list from MPIA website\n",
    "# filter for non-scientists (mpia.get_mpia_mitarbeiter_list() does some filtering)\n",
    "mpia_authors = [k[1] for k in mpia.get_mpia_mitarbeiter_list() if filter_non_scientists(k[1])]\n",
    "# add some missing author because of inconsistencies in their MPIA name and author name on papers\n",
    "mpia_authors = add_author_to_list(mpia_authors)"
   ]
  },
  {
   "cell_type": "code",
   "execution_count": 4,
   "id": "2645e73a",
   "metadata": {
    "execution": {
     "iopub.execute_input": "2025-02-24T04:11:23.061275Z",
     "iopub.status.busy": "2025-02-24T04:11:23.060754Z",
     "iopub.status.idle": "2025-02-24T04:11:23.649693Z",
     "shell.execute_reply": "2025-02-24T04:11:23.649002Z"
    },
    "papermill": {
     "duration": 0.593929,
     "end_time": "2025-02-24T04:11:23.650843",
     "exception": false,
     "start_time": "2025-02-24T04:11:23.056914",
     "status": "completed"
    },
    "tags": []
   },
   "outputs": [
    {
     "name": "stdout",
     "output_type": "stream",
     "text": [
      "J. Olofsson  ->  J. Olofsson  |  ['J. Olofsson']\n",
      "G. Chauvin  ->  G. Chauvin  |  ['G. Chauvin']\n",
      "X. Zhang  ->  X. Zhang  |  ['X. Zhang']\n",
      "J. Li  ->  J. Li  |  ['J. Li']\n",
      "H. Jiang  ->  H. Jiang  |  ['H. Jiang']\n",
      "K. Jahnke  ->  K. Jahnke  |  ['K. Jahnke']\n"
     ]
    },
    {
     "name": "stdout",
     "output_type": "stream",
     "text": [
      "Arxiv has 56 new papers today\n",
      "          5 with possible author matches\n"
     ]
    }
   ],
   "source": [
    "new_papers = get_new_papers()\n",
    "# add manual references\n",
    "add_paper_refs = []\n",
    "new_papers.extend([get_paper_from_identifier(k) for k in add_paper_refs])\n",
    "\n",
    "def robust_call(fn, value, *args, **kwargs):\n",
    "    try:\n",
    "        return fn(value, *args, **kwargs)\n",
    "    except Exception:\n",
    "        return value\n",
    "\n",
    "candidates = []\n",
    "for paperk in new_papers:\n",
    "    # Check author list with their initials\n",
    "    normed_author_list = [robust_call(mpia.get_initials, k) for k in paperk['authors']]\n",
    "    hl_authors = highlight_authors_in_list(normed_author_list, mpia_authors, verbose=True)\n",
    "    matches = [(hl, orig) for hl, orig in zip(hl_authors, paperk['authors']) if 'mark' in hl]\n",
    "    paperk['authors'] = hl_authors\n",
    "    if matches:\n",
    "        # only select paper if an author matched our list\n",
    "        candidates.append(paperk)\n",
    "print(\"\"\"Arxiv has {0:,d} new papers today\"\"\".format(len(new_papers)))        \n",
    "print(\"\"\"          {0:,d} with possible author matches\"\"\".format(len(candidates)))"
   ]
  },
  {
   "cell_type": "markdown",
   "id": "3543b34a",
   "metadata": {
    "papermill": {
     "duration": 0.003233,
     "end_time": "2025-02-24T04:11:23.657652",
     "exception": false,
     "start_time": "2025-02-24T04:11:23.654419",
     "status": "completed"
    },
    "tags": []
   },
   "source": [
    "# Parse sources and generate relevant outputs\n",
    "\n",
    "From the candidates, we do the following steps:\n",
    "* get their tarball from ArXiv (and extract data)\n",
    "* find the main .tex file: find one with \\documentclass{...} (sometimes it's non trivial)\n",
    "* Check affiliations with :func:`validation`, which uses :func:`mpia.affiliation_verifications`\n",
    "* If passing the affiliations: we parse the .tex source\n",
    "   * inject sub-documents into the main (flatten the main document)\n",
    "   * parse structure, extract information (title, abstract, authors, figures...)\n",
    "   * handles `\\graphicspath` if provided\n",
    "* Generate the .md document."
   ]
  },
  {
   "cell_type": "code",
   "execution_count": 5,
   "id": "9576b79e",
   "metadata": {
    "execution": {
     "iopub.execute_input": "2025-02-24T04:11:23.665143Z",
     "iopub.status.busy": "2025-02-24T04:11:23.664650Z",
     "iopub.status.idle": "2025-02-24T04:12:32.132072Z",
     "shell.execute_reply": "2025-02-24T04:12:32.131314Z"
    },
    "papermill": {
     "duration": 68.47609,
     "end_time": "2025-02-24T04:12:32.136846",
     "exception": false,
     "start_time": "2025-02-24T04:11:23.660756",
     "status": "completed"
    },
    "scrolled": false,
    "tags": []
   },
   "outputs": [
    {
     "data": {
      "application/vnd.jupyter.widget-view+json": {
       "model_id": "3fedebb41585421b889d2448a2f6a8c7",
       "version_major": 2,
       "version_minor": 0
      },
      "text/plain": [
       "  0%|          | 0/5 [00:00<?, ?it/s]"
      ]
     },
     "metadata": {},
     "output_type": "display_data"
    },
    {
     "name": "stdout",
     "output_type": "stream",
     "text": [
      "Retrieving document from  https://arxiv.org/e-print/2502.15081\n"
     ]
    },
    {
     "name": "stderr",
     "output_type": "stream",
     "text": [
      "/tmp/ipykernel_3210/2822249172.py:52: LatexWarning: 2502.15081 did not run properly\n",
      "not a gzip file\n",
      "  warnings.warn(latex.LatexWarning(f\"{paper_id:s} did not run properly\\n\" +\n"
     ]
    },
    {
     "name": "stdout",
     "output_type": "stream",
     "text": [
      "Retrieving document from  https://arxiv.org/e-print/2502.15299\n"
     ]
    },
    {
     "name": "stdout",
     "output_type": "stream",
     "text": [
      "extracting tarball to tmp_2502.15299..."
     ]
    },
    {
     "name": "stdout",
     "output_type": "stream",
     "text": [
      " done.\n",
      "Retrieving document from  https://arxiv.org/e-print/2502.15446\n"
     ]
    },
    {
     "name": "stdout",
     "output_type": "stream",
     "text": [
      "extracting tarball to tmp_2502.15446... done.\n",
      "Retrieving document from  https://arxiv.org/e-print/2502.15447\n"
     ]
    },
    {
     "name": "stdout",
     "output_type": "stream",
     "text": [
      "extracting tarball to tmp_2502.15447..."
     ]
    },
    {
     "name": "stdout",
     "output_type": "stream",
     "text": [
      " done.\n",
      "Retrieving document from  https://arxiv.org/e-print/2502.15581\n"
     ]
    },
    {
     "name": "stderr",
     "output_type": "stream",
     "text": [
      "/opt/hostedtoolcache/Python/3.9.21/x64/lib/python3.9/site-packages/IPython/core/interactiveshell.py:3550: LatexWarning: Multiple tex files.\n",
      "\n",
      "  exec(code_obj, self.user_global_ns, self.user_ns)\n",
      "/opt/hostedtoolcache/Python/3.9.21/x64/lib/python3.9/site-packages/IPython/core/interactiveshell.py:3550: LatexWarning: Found documentclass in tmp_2502.15447/main.tex\n",
      "\n",
      "  exec(code_obj, self.user_global_ns, self.user_ns)\n",
      "/opt/hostedtoolcache/Python/3.9.21/x64/lib/python3.9/site-packages/arxiv_on_deck_2/latex.py:414: LatexWarning: Latex injecting: 'Science20240601' from 'tmp_2502.15447/Science20240601.tex'\n",
      "  warnings.warn(LatexWarning(f\"Latex injecting: '{ext}' from '{subsource}'\"))\n"
     ]
    },
    {
     "name": "stdout",
     "output_type": "stream",
     "text": [
      "extracting tarball to tmp_2502.15581..."
     ]
    },
    {
     "name": "stdout",
     "output_type": "stream",
     "text": [
      " done.\n"
     ]
    },
    {
     "name": "stderr",
     "output_type": "stream",
     "text": [
      "/opt/hostedtoolcache/Python/3.9.21/x64/lib/python3.9/site-packages/IPython/core/interactiveshell.py:3550: LatexWarning: Multiple tex files.\n",
      "\n",
      "  exec(code_obj, self.user_global_ns, self.user_ns)\n",
      "/opt/hostedtoolcache/Python/3.9.21/x64/lib/python3.9/site-packages/IPython/core/interactiveshell.py:3550: LatexWarning: Found documentclass in tmp_2502.15581/main.tex\n",
      "\n",
      "  exec(code_obj, self.user_global_ns, self.user_ns)\n",
      "/opt/hostedtoolcache/Python/3.9.21/x64/lib/python3.9/site-packages/arxiv_on_deck_2/latex.py:414: LatexWarning: Latex injecting: 'authorsandaffiliations' from 'tmp_2502.15581/authorsandaffiliations.tex'\n",
      "  warnings.warn(LatexWarning(f\"Latex injecting: '{ext}' from '{subsource}'\"))\n"
     ]
    },
    {
     "name": "stdout",
     "output_type": "stream",
     "text": [
      "Found 119 bibliographic references in tmp_2502.15581/main.bbl.\n",
      "Issues with the citations\n",
      "syntax error in line 228: '=' expected\n"
     ]
    }
   ],
   "source": [
    "documents = []\n",
    "failed = []\n",
    "for paper in tqdm(candidates):\n",
    "    # debug crap\n",
    "    paper['identifier'] = paper['identifier'].lower().replace('arxiv:', '').replace(r'\\n', '').strip()\n",
    "    paper_id = paper['identifier']\n",
    "    \n",
    "    folder = f'tmp_{paper_id}'\n",
    "\n",
    "    try:\n",
    "        if not os.path.isdir(folder):\n",
    "            folder = retrieve_document_source(f\"{paper_id}\", f'tmp_{paper_id}')\n",
    "        \n",
    "        try:\n",
    "            doc = latex.LatexDocument(folder, validation=validation)    \n",
    "        except AffiliationError as affilerror:\n",
    "            msg = f\"ArXiv:{paper_id:s} is not an MPIA paper... \" + str(affilerror)\n",
    "            failed.append((paper, \"affiliation error: \" + str(affilerror) ))\n",
    "            continue\n",
    "        \n",
    "        # Hack because sometimes author parsing does not work well\n",
    "        if (len(doc.authors) != len(paper['authors'])):\n",
    "            doc._authors = paper['authors']\n",
    "        else:\n",
    "            # highlight authors (FIXME: doc.highlight_authors)\n",
    "            # done on arxiv paper already\n",
    "            doc._authors = highlight_authors_in_list(\n",
    "                [get_initials(k) for k in doc.authors], \n",
    "                mpia_authors, verbose=True)\n",
    "        if (doc.abstract) in (None, ''):\n",
    "            doc._abstract = paper['abstract']\n",
    "            \n",
    "        doc.comment = (get_markdown_badge(paper_id) + \n",
    "                       \"<mark>Appeared on: \" + paper['date'] + \"</mark> - \")\n",
    "        if paper['comments']:\n",
    "            doc.comment += \" _\" + paper['comments'] + \"_\"\n",
    "        \n",
    "        full_md = doc.generate_markdown_text()\n",
    "        \n",
    "        full_md += get_markdown_qrcode(paper_id)\n",
    "        \n",
    "        # replace citations\n",
    "        try:\n",
    "            bibdata = latex_bib.LatexBib.from_doc(doc)\n",
    "            full_md = latex_bib.replace_citations(full_md, bibdata)\n",
    "        except Exception as e:\n",
    "            print(\"Issues with the citations\")\n",
    "            print(e)\n",
    "        \n",
    "        documents.append((paper_id, full_md))\n",
    "    except Exception as e:\n",
    "        warnings.warn(latex.LatexWarning(f\"{paper_id:s} did not run properly\\n\" +\n",
    "                                         str(e)\n",
    "                                        ))\n",
    "        failed.append((paper, \"latex error \" + str(e)))"
   ]
  },
  {
   "cell_type": "markdown",
   "id": "2505a25c",
   "metadata": {
    "papermill": {
     "duration": 0.003811,
     "end_time": "2025-02-24T04:12:32.144661",
     "exception": false,
     "start_time": "2025-02-24T04:12:32.140850",
     "status": "completed"
    },
    "tags": []
   },
   "source": [
    "### Export the logs\n",
    "\n",
    "Throughout, we also keep track of the logs per paper. see `logs-{today date}.md` "
   ]
  },
  {
   "cell_type": "code",
   "execution_count": 6,
   "id": "d733828a",
   "metadata": {
    "execution": {
     "iopub.execute_input": "2025-02-24T04:12:32.153589Z",
     "iopub.status.busy": "2025-02-24T04:12:32.153121Z",
     "iopub.status.idle": "2025-02-24T04:12:32.169215Z",
     "shell.execute_reply": "2025-02-24T04:12:32.168671Z"
    },
    "papermill": {
     "duration": 0.021643,
     "end_time": "2025-02-24T04:12:32.170184",
     "exception": false,
     "start_time": "2025-02-24T04:12:32.148541",
     "status": "completed"
    },
    "scrolled": false,
    "tags": []
   },
   "outputs": [
    {
     "data": {
      "text/markdown": [
       "## Successful papers"
      ],
      "text/plain": [
       "<IPython.core.display.Markdown object>"
      ]
     },
     "metadata": {},
     "output_type": "display_data"
    },
    {
     "data": {
      "text/markdown": [
       "\n",
       "|||\n",
       "|---:|:---|\n",
       "| [![arXiv](https://img.shields.io/badge/arXiv-2502.15581-b31b1b.svg)](https://arxiv.org/abs/2502.15581) | **Euclid: Galaxy morphology and photometry from bulge-disc decomposition of Early Release Observations**  |\n",
       "|| L. Quilley, et al. -- incl., <mark>K. Jahnke</mark> |\n",
       "|*Appeared on*| *2025-02-24*|\n",
       "|*Comments*| *Submitted to A&A, comments welcome. 27 pages, 19 figures, 6 tables (+ appendix of 6 pages, 18 figures - exemples gallery, 1 table)*|\n",
       "|**Abstract**|            The background galaxies in Euclid Early Release Observations images of the Perseus cluster make up a remarkable sample in its combination of 0.57 deg$^2$ area, 25.3 and 23.2 AB mag depth, as well as 0.1\" and 0.3\" angular resolutions, in optical and near-IR bands, respectively. Towards characterising the history of the Hubble sequence, we perform a preliminary morphological analysis of 2445 and 12,786 galaxies with $I_E < 21$ and $I_E < 23$, respectively. We use single-Sérsic profiles and the sums of a Sérsic bulge and an exponential disc to model these galaxies with SourceXtractor++ and analyse their parameters in order to assess their consistencies and biases. The fitted galaxies to $I_E < 21$ span the various Hubble types with ubiquitous bulge and disc components, and a bulge-to-total light ratio B/T taking all values from 0 to 1. The median effective radius of the single-Sérsic profile is a biased estimate of galaxy size, intermediate between the bulge and disc effective radii, depending on B/T. The axis ratio of the single-Sérsic profile overestimates that of the disc, increasingly so with B/T. The model impacts the photometry with -0.08 to 0.01 mag median systematic $I_E$ offsets between single-Sérsic and bulge+disc total magnitudes, and a 0.05 to 0.15 mag dispersion, from low to high B/T. We measure a median 0.4 mag bulge-disc colour difference in $I_E - J_E$ that originates from the disc-dominated galaxies, whereas bulge-dominated galaxies have similar median colours of their components. Remarkably, we also measure redder-inside disc colour gradients, based on 5 to 10% systematic variations of disc effective radii between the optical and near-IR bands. This analysis demonstrates the usefulness and limits of single-Sérsic profile modelling, and the power of bulge-disc decomposition for reliably characterising the morphology of lenticulars and spirals in Euclid images.         |"
      ],
      "text/plain": [
       "[2502.15581] Euclid: Galaxy morphology and photometry from bulge-disc decomposition of Early Release Observations\n",
       "\tL. Quilley, et al. -- incl., <mark>K. Jahnke</mark>"
      ]
     },
     "metadata": {},
     "output_type": "display_data"
    },
    {
     "data": {
      "text/markdown": [
       "## Failed papers"
      ],
      "text/plain": [
       "<IPython.core.display.Markdown object>"
      ]
     },
     "metadata": {},
     "output_type": "display_data"
    },
    {
     "data": {
      "text/markdown": [
       "\n",
       "|||\n",
       "|---:|:---|\n",
       "| [![arXiv](https://img.shields.io/badge/arXiv-2502.15447-b31b1b.svg)](https://arxiv.org/abs/2502.15447) | **Ultra-high-energy γ-ray emission associated with the tail of a bow-shock pulsar wind nebula**  |\n",
       "|| Z. Cao, et al. -- incl., <mark>H. Jiang</mark> |\n",
       "|*Appeared on*| *2025-02-24*|\n",
       "|*Comments*| **|\n",
       "|**Abstract**|            In this study, we present a comprehensive analysis of an unidentified point-like ultra-high-energy (UHE) $\\gamma$-ray source, designated as 1LHAASO J1740+0948u, situated in the vicinity of the middle-aged pulsar PSR J1740+1000. The detection significance reached 17.1$\\sigma$ (9.4$\\sigma$) above 25$\\,$TeV (100$\\,$TeV). The source energy spectrum extended up to 300$\\,$TeV, which was well fitted by a log-parabola function with $N0 = (1.93\\pm0.23) \\times 10^{-16} \\rm{TeV^{-1}\\,cm^{-2}\\,s^{-2}}$, $\\alpha = 2.14\\pm0.27$, and $\\beta = 1.20\\pm0.41$ at E0 = 30$\\,$TeV. The associated pulsar, PSR J1740+1000, resides at a high galactic latitude and powers a bow-shock pulsar wind nebula (BSPWN) with an extended X-ray tail. The best-fit position of the gamma-ray source appeared to be shifted by $0.2^{\\circ}$ with respect to the pulsar position. As the (i) currently identified pulsar halos do not demonstrate such offsets, and (ii) centroid of the gamma-ray emission is approximately located at the extension of the X-ray tail, we speculate that the UHE $\\gamma$-ray emission may originate from re-accelerated electron/positron pairs that are advected away in the bow-shock tail.         |\n",
       "|<p style=\"color:green\"> **ERROR** </p>| <p style=\"color:green\">affiliation error: mpia.affiliation_verifications: '69117' keyword not found.</p> |"
      ],
      "text/plain": [
       "<IPython.core.display.Markdown object>"
      ]
     },
     "metadata": {},
     "output_type": "display_data"
    },
    {
     "data": {
      "text/markdown": [
       "\n",
       "|||\n",
       "|---:|:---|\n",
       "| [![arXiv](https://img.shields.io/badge/arXiv-2502.15299-b31b1b.svg)](https://arxiv.org/abs/2502.15299) | **On type 1 active galactic nuclei with double-peaked [O~{\\sc iii}]. I. data sample and basic results**  |\n",
       "|| Q. Zheng, et al. -- incl., <mark>X. Zhang</mark> |\n",
       "|*Appeared on*| *2025-02-24*|\n",
       "|*Comments*| *38 pages, 15 figures, accepted to be published in ApJS*|\n",
       "|**Abstract**|            Double-peaked narrow emission lines (DPNELs) might be evidence for the existence of kpc-scale dual AGNs. There are so far large samples of objects with DPNELs in narrow emission line galaxies. Here, a systematic search is made to build a sample of type 1 AGNs with double-peaked [O~{\\sc~iii}] from Data Release 16 of the Sloan Digital Sky Survey (SDSS). Through visually inspecting and fitting [O~{\\sc~iii}], fitting broad H$\\alpha$ emission lines, performing F-test for [O~{\\sc~iii}] profiles, and checking broad H$\\beta$ and [O~{\\sc~iii}] emission lines, we select 62 type 1 AGNs with reliable double-peaked [O~{\\sc~iii}] from 11557 QSOs with z < 0.3. After visually checking the 62 SDSS multi-color images, we find only seven objects with signs of merging. Four possible models for the double-peaked [O~{\\sc~iii}] observed in our sample are discussed: the superposition model, AGN outflow model, dual AGN model, and rotating disk model. However, the current results can not provide any one explanation conclusively, and additional observational data are needed to provide the details of narrow line regions. But at least 22 objects with different velocity offsets between double-peaked [O~{\\sc~iii}] and narrow H$\\alpha$ emission lines could be excluded as dual AGN candidates. The relative velocity offsets of the [O~{\\sc~iii}] blue-shifted/red-shifted components are negative to their line flux ratios, which is consistent with dual AGN model. This work provides a new sample of 62 type 1 AGNs with double-peaked [O~{\\sc~iii}] for further study.         |\n",
       "|<p style=\"color:green\"> **ERROR** </p>| <p style=\"color:green\">affiliation error: mpia.affiliation_verifications: 'Heidelberg' keyword not found.</p> |"
      ],
      "text/plain": [
       "<IPython.core.display.Markdown object>"
      ]
     },
     "metadata": {},
     "output_type": "display_data"
    },
    {
     "data": {
      "text/markdown": [
       "\n",
       "|||\n",
       "|---:|:---|\n",
       "| [![arXiv](https://img.shields.io/badge/arXiv-2502.15446-b31b1b.svg)](https://arxiv.org/abs/2502.15446) | **Development and Performance Validation of a Versatile VLBI Digital Backend Using the ROACH2 Platform**  |\n",
       "|| <mark>J. Li</mark>, et al. |\n",
       "|*Appeared on*| *2025-02-24*|\n",
       "|*Comments*| *12 pages, 8 figures*|\n",
       "|**Abstract**|            Customized digital backends for Very Long Baseline Interferometry (VLBI) are critical components for radio astronomy observatories. There are several serialized products such as the Digital Baseband Converter (DBBC), Reconfigurable Open Architecture Computing Hardware (ROACH) Digital BackEnd (RDBE), and Chinese Data Acquisition System (CDAS). However, the reliance on high-speed analog-to-digital converters (ADC) and Field Programmable Gate Arrays (FPGAs) often necessitates dedicated hardware platforms with long development cycles and prohibitive cost, limiting scalability and adaptability to evolving observational needs. To address these challenges, we propose a design leveraging the versatile and cost-effective ROACH2 hardware platform, developed by CASPER (Collaboration for Astronomy Signal Processing and Electronics Research). ROACH2's mature technology and streamlined firmware development capabilities significantly reduce the hardware platform's development cycle and cost, making it ideal for modern astronomical applications. This VLBI digital backend, based on the ROACH2 platform, incorporates key technologies such as Polyphase Filter Banks (PFB) algorithm implementation, digital complex-to-real baseband signal conversion, Mark5B data formatter design and two-bit optimal threshold quantization. These features ensure compatibility with existing systems while providing enhanced performance. The backend's performance was validated through multi-station VLBI experiments, demonstrating its ability to achieve good correlation fringes compared to the customized CDAS2-D system. Furthermore, this platform offers flexibility for rapid deployment of additional digital backends, such as those for spectral line observations, showcasing its potential for broader astronomical applications.         |\n",
       "|<p style=\"color:green\"> **ERROR** </p>| <p style=\"color:green\">affiliation error: mpia.affiliation_verifications: 'Heidelberg' keyword not found.</p> |"
      ],
      "text/plain": [
       "<IPython.core.display.Markdown object>"
      ]
     },
     "metadata": {},
     "output_type": "display_data"
    },
    {
     "data": {
      "text/markdown": [
       "\n",
       "|||\n",
       "|---:|:---|\n",
       "| [![arXiv](https://img.shields.io/badge/arXiv-2502.15081-b31b1b.svg)](https://arxiv.org/abs/2502.15081) | **Evidence for a sub-jovian planet in the young TWA7 disk**  |\n",
       "|| A.-M. Lagrange, et al. -- incl., <mark>J. Olofsson</mark>, <mark>G. Chauvin</mark> |\n",
       "|*Appeared on*| *2025-02-24*|\n",
       "|*Comments*| *25 pages, 9 figures, submitted to Nature*|\n",
       "|**Abstract**|            Planets are thought to form from dust and gas in protoplanetary disks, and debris disks are the remnants of planet formation. Aged a few Myr up to a few Gyr, debris disks have lost their primordial gas, and their dust is produced by steady-state collisions between larger, rocky bodies. Tens of debris disks, with sizes of tens, sometimes hundreds of au, have been resolved with high spatial resolution, high contrast imagers at optical/near-IR or (sub)-millimeter interferometers. They commonly show cavities, ring-like structures, and gaps, which are often regarded as indirect signatures of the presence of planets that gravitationally interact with unseen planetesimals. However, no planet responsible for these features has been detected yet, probably because of the limited sensitivity (typically 2-10 MJ) of high contrast imaging instruments prior to JWST. We have used the unprecedented sensitivity of JWST/MIRI in the thermal IR to search for such planets in the disk of the ~ 6.4 Myr old star TWA 7. With its pole-on orientation, this three-ring debris disk is indeed ideally suited for such a detection. We unambiguously detected a source 1.5 arsec from the star, that is best interpreted as a cold, sub-Jupiter mass planet. Its estimated mass (~ 0.3 MJ) and position (~ 52 au, de-projected) can thoroughly account for the main disk structures.         |\n",
       "|<p style=\"color:red\"> **ERROR** </p>| <p style=\"color:red\">latex error not a gzip file</p> |"
      ],
      "text/plain": [
       "<IPython.core.display.Markdown object>"
      ]
     },
     "metadata": {},
     "output_type": "display_data"
    }
   ],
   "source": [
    "import datetime\n",
    "today = str(datetime.date.today())\n",
    "logfile = f\"_build/html/logs/log-{today}.md\"\n",
    "\n",
    "\n",
    "with open(logfile, 'w') as logs:\n",
    "    # Success\n",
    "    logs.write(f'# Arxiv on Deck 2: Logs - {today}\\n\\n')\n",
    "    logs.write(\"\"\"* Arxiv had {0:,d} new papers\\n\"\"\".format(len(new_papers)))\n",
    "    logs.write(\"\"\"    * {0:,d} with possible author matches\\n\\n\"\"\".format(len(candidates)))\n",
    "    logs.write(\"## Sucessful papers\\n\\n\")\n",
    "    display(Markdown(\"## Successful papers\"))\n",
    "    success = [k[0] for k in documents]\n",
    "    for candid in candidates:\n",
    "        if candid['identifier'].split(':')[-1] in success:\n",
    "            display(candid)\n",
    "            logs.write(candid.generate_markdown_text() + '\\n\\n')\n",
    "\n",
    "    ## failed\n",
    "    logs.write(\"## Failed papers\\n\\n\")\n",
    "    display(Markdown(\"## Failed papers\"))\n",
    "    failed = sorted(failed, key=lambda x: x[1])\n",
    "    current_reason = \"\"\n",
    "    for paper, reason in failed:\n",
    "        if 'affiliation' in reason:\n",
    "            color = 'green'\n",
    "        else:\n",
    "            color = 'red'\n",
    "        data = Markdown(\n",
    "                paper.generate_markdown_text() + \n",
    "                f'\\n|<p style=\"color:{color:s}\"> **ERROR** </p>| <p style=\"color:{color:s}\">{reason:s}</p> |'\n",
    "               )\n",
    "        if reason != current_reason:\n",
    "            logs.write(f'### {reason:s} \\n\\n')\n",
    "            current_reason = reason\n",
    "        logs.write(data.data + '\\n\\n')\n",
    "        \n",
    "        # only display here the important errors (all in logs)\n",
    "        # if color in ('red',):\n",
    "        display(data)"
   ]
  },
  {
   "cell_type": "markdown",
   "id": "472d20ee",
   "metadata": {
    "papermill": {
     "duration": 0.004431,
     "end_time": "2025-02-24T04:12:32.179257",
     "exception": false,
     "start_time": "2025-02-24T04:12:32.174826",
     "status": "completed"
    },
    "tags": []
   },
   "source": [
    "## Export documents\n",
    "\n",
    "We now write the .md files and export relevant images"
   ]
  },
  {
   "cell_type": "code",
   "execution_count": 7,
   "id": "d426aed9",
   "metadata": {
    "execution": {
     "iopub.execute_input": "2025-02-24T04:12:32.189409Z",
     "iopub.status.busy": "2025-02-24T04:12:32.189015Z",
     "iopub.status.idle": "2025-02-24T04:12:32.195837Z",
     "shell.execute_reply": "2025-02-24T04:12:32.195277Z"
    },
    "papermill": {
     "duration": 0.013046,
     "end_time": "2025-02-24T04:12:32.196824",
     "exception": false,
     "start_time": "2025-02-24T04:12:32.183778",
     "status": "completed"
    },
    "tags": []
   },
   "outputs": [],
   "source": [
    "def export_markdown_summary(md: str, md_fname:str, directory: str):\n",
    "    \"\"\"Export MD document and associated relevant images\"\"\"\n",
    "    import os\n",
    "    import shutil\n",
    "    import re\n",
    "\n",
    "    if (os.path.exists(directory) and not os.path.isdir(directory)):\n",
    "        raise RuntimeError(f\"a non-directory file exists with name {directory:s}\")\n",
    "\n",
    "    if (not os.path.exists(directory)):\n",
    "        print(f\"creating directory {directory:s}\")\n",
    "        os.mkdir(directory)\n",
    "\n",
    "    fig_fnames = (re.compile(r'\\[Fig.*\\]\\((.*)\\)').findall(md) + \n",
    "                  re.compile(r'\\<img src=\"([^>\\s]*)\"[^>]*/>').findall(md))\n",
    "    print(\"found figures\", fig_fnames)\n",
    "    for fname in fig_fnames:\n",
    "        if 'http' in fname:\n",
    "            # No need to copy online figures\n",
    "            continue\n",
    "        if not os.path.exists(fname):\n",
    "            print(\"file not found\", fname)\n",
    "            continue\n",
    "        print(\"copying \", fname, \"to\", directory)\n",
    "        destdir = os.path.join(directory, os.path.dirname(fname))\n",
    "        destfname = os.path.join(destdir, os.path.basename(fname))\n",
    "        try:\n",
    "            os.makedirs(destdir)\n",
    "        except FileExistsError:\n",
    "            pass\n",
    "        shutil.copy(fname, destfname)\n",
    "    with open(os.path.join(directory, md_fname), 'w') as fout:\n",
    "        fout.write(md)\n",
    "    print(\"exported in \", os.path.join(directory, md_fname))\n",
    "    [print(\"    + \" + os.path.join(directory,fk)) for fk in fig_fnames]"
   ]
  },
  {
   "cell_type": "code",
   "execution_count": 8,
   "id": "014d04a4",
   "metadata": {
    "execution": {
     "iopub.execute_input": "2025-02-24T04:12:32.206791Z",
     "iopub.status.busy": "2025-02-24T04:12:32.206594Z",
     "iopub.status.idle": "2025-02-24T04:12:32.215298Z",
     "shell.execute_reply": "2025-02-24T04:12:32.214756Z"
    },
    "papermill": {
     "duration": 0.014868,
     "end_time": "2025-02-24T04:12:32.216290",
     "exception": false,
     "start_time": "2025-02-24T04:12:32.201422",
     "status": "completed"
    },
    "tags": []
   },
   "outputs": [
    {
     "name": "stdout",
     "output_type": "stream",
     "text": [
      "found figures ['tmp_2502.15581/./Figures/Re_disk_bulge_1p_cmap_BT_with_errors.png', 'tmp_2502.15581/./Figures/nsersic_1p_vs_BT_cmap_nsersic_B.png', 'tmp_2502.15581/./Figures/nsersic_B_vs_nsersic_1p_cmap_BT.png', 'tmp_2502.15581/./Figures/nsersic_B_vs_BT_cmap_nsersic_1p.png', 'tmp_2502.15581/./Figures/Re_1p_ratio_corner_plot_cropped.png']\n",
      "copying  tmp_2502.15581/./Figures/Re_disk_bulge_1p_cmap_BT_with_errors.png to _build/html/\n",
      "copying  tmp_2502.15581/./Figures/nsersic_1p_vs_BT_cmap_nsersic_B.png to _build/html/\n",
      "copying  tmp_2502.15581/./Figures/nsersic_B_vs_nsersic_1p_cmap_BT.png to _build/html/\n",
      "copying  tmp_2502.15581/./Figures/nsersic_B_vs_BT_cmap_nsersic_1p.png to _build/html/\n",
      "copying  tmp_2502.15581/./Figures/Re_1p_ratio_corner_plot_cropped.png to _build/html/\n",
      "exported in  _build/html/2502.15581.md\n",
      "    + _build/html/tmp_2502.15581/./Figures/Re_disk_bulge_1p_cmap_BT_with_errors.png\n",
      "    + _build/html/tmp_2502.15581/./Figures/nsersic_1p_vs_BT_cmap_nsersic_B.png\n",
      "    + _build/html/tmp_2502.15581/./Figures/nsersic_B_vs_nsersic_1p_cmap_BT.png\n",
      "    + _build/html/tmp_2502.15581/./Figures/nsersic_B_vs_BT_cmap_nsersic_1p.png\n",
      "    + _build/html/tmp_2502.15581/./Figures/Re_1p_ratio_corner_plot_cropped.png\n"
     ]
    }
   ],
   "source": [
    "for paper_id, md in documents:\n",
    "    export_markdown_summary(md, f\"{paper_id:s}.md\", '_build/html/')"
   ]
  },
  {
   "cell_type": "markdown",
   "id": "f087a0a7",
   "metadata": {
    "papermill": {
     "duration": 0.004545,
     "end_time": "2025-02-24T04:12:32.225538",
     "exception": false,
     "start_time": "2025-02-24T04:12:32.220993",
     "status": "completed"
    },
    "tags": []
   },
   "source": [
    "## Display the papers\n",
    "\n",
    "Not necessary but allows for a quick check."
   ]
  },
  {
   "cell_type": "code",
   "execution_count": 9,
   "id": "fd25f625",
   "metadata": {
    "execution": {
     "iopub.execute_input": "2025-02-24T04:12:32.235772Z",
     "iopub.status.busy": "2025-02-24T04:12:32.235367Z",
     "iopub.status.idle": "2025-02-24T04:12:32.239958Z",
     "shell.execute_reply": "2025-02-24T04:12:32.239308Z"
    },
    "papermill": {
     "duration": 0.010826,
     "end_time": "2025-02-24T04:12:32.241023",
     "exception": false,
     "start_time": "2025-02-24T04:12:32.230197",
     "status": "completed"
    },
    "scrolled": false,
    "tags": []
   },
   "outputs": [
    {
     "data": {
      "text/markdown": [
       "<div class=\"macros\" style=\"visibility:hidden;\">\n",
       "$\\newcommand{\\ensuremath}{}$\n",
       "$\\newcommand{\\xspace}{}$\n",
       "$\\newcommand{\\object}[1]{\\texttt{#1}}$\n",
       "$\\newcommand{\\farcs}{{.}''}$\n",
       "$\\newcommand{\\farcm}{{.}'}$\n",
       "$\\newcommand{\\arcsec}{''}$\n",
       "$\\newcommand{\\arcmin}{'}$\n",
       "$\\newcommand{\\ion}[2]{#1#2}$\n",
       "$\\newcommand{\\textsc}[1]{\\textrm{#1}}$\n",
       "$\\newcommand{\\hl}[1]{\\textrm{#1}}$\n",
       "$\\newcommand{\\footnote}[1]{}$\n",
       "$\\newcommand{\\orcid}[1]{\\orcidlink{#1}}$\n",
       "$\\newcommand{\\rms}{RMS~}$\n",
       "$\\newcommand{\\resp}{resp{.}}$\n",
       "$\\newcommand{\\ie}{i{.}e{.}~}$\n",
       "$\\newcommand{\\eg}{e{.}g{.}~}$\n",
       "$\\newcommand{\\eq}{Eq{.}~}$\n",
       "$\\newcommand{\\eqs}{Eqs{.}~}$\n",
       "$\\newcommand{\\tab}{Table~}$\n",
       "$\\newcommand{\\fg}{Fig{.}~}$\n",
       "$\\newcommand{\\fgs}{Figs{.}~}$\n",
       "$\\newcommand{\\sct}{Sect{.}~}$\n",
       "$\\newcommand{\\scts}{Sects{.}~}$\n",
       "$\\newcommand{\\col}{Col{.}}$\n",
       "$\\newcommand{\\cols}{Cols{.}}$\n",
       "$\\newcommand{\\magn}{^\\mathrm{mag}}$\n",
       "$\\newcommand{\\pg}{p{.}~}$\n",
       "$\\newcommand{\\ppg}{pp{.}~}$\n",
       "$\\newcommand{\\hmpc}{~h^{-1}~Mpc}$\n",
       "$\\newcommand{\\hkpc}{~h^{-1}~kpc}$\n",
       "$\\newcommand{\\hmpcs}{~h^{-2}~Mpc^2}$\n",
       "$\\newcommand{\\hmpcc}{~h^{-3}~Mpc^3}$\n",
       "$\\newcommand{\\phiunit}{~h^3~Mpc^{-3}~mag^{-1}}$\n",
       "$\\newcommand{\\etal}{{\\it et\\thinspace al.} }$\n",
       "$\\newcommand{\\lo}[2]{\\noindent{\\color{royalblue} \\bf[ \\triangle \\st{#1} #2]}}$\n",
       "$\\newcommand{\\val}[2]{\\noindent{\\bf[\\color{darkred} \\spadesuit \\st{#1} #2]}}$\n",
       "$\\newcommand{\\va}[2]{\\noindent{\\bf[\\color{magenta} \\spadesuit \\st{#1} #2]}}$\n",
       "$\\newcommand{\\vl}[2]{\\noindent{\\bf[\\color{violet} \\spadesuit \\st{#1} #2]}}$\n",
       "$\\newcommand{\\redcom}[2]{\\noindent{\\bf[\\color{darkred} \\st{#1} #2]}}$\n",
       "$\\newcommand{\\id}[2]{\\noindent{\\bf[\\color{brown} \\st{#1} IVANA: #2]}}$\n",
       "$\\newcommand{\\chg}[2]{\\noindent{#2}}$\n",
       "$\\newcommand{\\chgs}[2]$\n",
       "$\\newcommand{\\chgc}[2]$</div>\n",
       "\n",
       "\n",
       "\n",
       "<div id=\"title\">\n",
       "\n",
       "# $\\Euclid$: Galaxy morphology and photometry from bulge-disc decomposition of Early Release Observations$\\thanks{This paper is published on behalf of the Euclid Consortium}$\n",
       "\n",
       "</div>\n",
       "<div id=\"comments\">\n",
       "\n",
       "[![arXiv](https://img.shields.io/badge/arXiv-2502.15581-b31b1b.svg)](https://arxiv.org/abs/2502.15581)<mark>Appeared on: 2025-02-24</mark> -  _Submitted to A&A, comments welcome. 27 pages, 19 figures, 6 tables (+ appendix of 6 pages, 18 figures - exemples gallery, 1 table)_\n",
       "\n",
       "</div>\n",
       "<div id=\"authors\">\n",
       "\n",
       "L. Quilley, et al. -- incl., <mark>K. Jahnke</mark>\n",
       "\n",
       "</div>\n",
       "<div id=\"abstract\">\n",
       "\n",
       "**Abstract:** The background galaxies in $\\Euclid$ Early Release Observations (ERO) images of the Perseus cluster make up a remarkable sample in its combination of $0.57$ deg $^2$ area, 25.3 and 23.2 AB mag depth, as well as $\\ang{;;0.1}$ and $\\ang{;;0.3}$ angular resolutions, in optical and near-infrared bands, respectively.Towards characterising the history of the Hubble sequence, we perform a preliminary morphological analysis of $2445$ and $12 786$ galaxies with $\\IE\\le21$ and $\\IE\\le23$ , respectively.We use single-Sérsic profiles and the sums of a Sérsic bulge and an exponential disc to model these galaxies with \\texttt{SourceXtractor++} and analyse their positional, structural, and flux parameters in order to assess their consistencies and biases.The fitted galaxies to $\\IE\\le21$ span the various Hubble types with ubiquitous bulge and disc components, and a bulge-to-total light ratio $B/T$ taking all values from 0 to 1. The median effective radius of the single-Sérsic profile is a biased estimate of galaxy size, intermediate between the bulge and disc effective radii, depending on $B/T$ . The axis ratio of the single-Sérsic profile overestimates that of the disc, increasingly so with $B/T$ . The type of model impacts the photometry with $-0.08$ to 0.01 mag median systematic $\\IE$ offsets between single-Sérsic and bulge-disc total magnitudes, and a 0.05 to 0.15 mag dispersion, from low to high $B/T$ . We measure a median $0.4$ mag bulge-disc colour difference in $\\IE-\\JE$ that originates from the disc-dominated galaxies, whereas bulge-dominated galaxies have similar median colours of their components. Remarkably, we also measure redder-inside disc colour gradients, based on 5 to 10 \\% systematic variations of disc effective radii between the optical and near-infrared bands.This analysis demonstrates the usefulness and limits of single-Sérsic profile modelling, and the power of bulge-disc decomposition for reliably characterising the morphology of lenticulars and spirals in $\\Euclid$ images.\n",
       "\n",
       "</div>\n",
       "\n",
       "<div id=\"div_fig1\">\n",
       "\n",
       "<img src=\"tmp_2502.15581/./Figures/Re_disk_bulge_1p_cmap_BT_with_errors.png\" alt=\"Fig13\" width=\"100%\"/>\n",
       "\n",
       "**Figure 13. -** Ratios of the disc-to-bulge effective radii as a function of the ratios of the disc-to-single-Sérsic effective radii, all in the \\IE band, for the $2445$ galaxies with $\\IE\\le21$. In the upper vertical concentration of disc-dominated galaxies (in blue, $B/T\\approx0$) and on the right diagonal concentration of bulge-dominated galaxies (in red, $B/T\\approx1$), the single-Sérsic effective radius is consistent with that of either a dominating disc or bulge component. The single-Sérsic effective radius of the $74.7\\%$ of galaxies in the top-right cone is intermediate between the disc effective radius (the largest) and the bulge effective radius (the smallest), with a smooth gradient in the ratio of the disc to single-Sérsic effective radius, while $B/T$ varies from zero to one. These galaxies are visually indistinguishable from the types in the present-time Hubble sequence, whereas objects in other regions of the diagram are identified as either non-physical bulge-disc modelling, or biased bulge fits due to bars. (*all-radii-related-cmap-BT*)\n",
       "\n",
       "</div>\n",
       "<div id=\"div_fig2\">\n",
       "\n",
       "<img src=\"tmp_2502.15581/./Figures/nsersic_1p_vs_BT_cmap_nsersic_B.png\" alt=\"Fig4.1\" width=\"33%\"/><img src=\"tmp_2502.15581/./Figures/nsersic_B_vs_nsersic_1p_cmap_BT.png\" alt=\"Fig4.2\" width=\"33%\"/><img src=\"tmp_2502.15581/./Figures/nsersic_B_vs_BT_cmap_nsersic_1p.png\" alt=\"Fig4.3\" width=\"33%\"/>\n",
       "\n",
       "**Figure 4. -** Relations between the Sérsic index $n$ from the single-Sérsic modelling, the bulge-to-total light ratio $B/T$, and the bulge Sérsic index $n_\\mathrm{B}$ from the bulge-disc decomposition, for the $2445$ galaxies with $\\IE\\le21$. Each plot shows one projection of this 3D parameter space, and incorporates the third parameter as a colour map on the points. Grey horizontal dashed lines indicate Sérsic index values of 1 and 4. The inclined purple dotted lines in the left panel delimit above and below the visually inspected samples (see text). Once spurious fits and bulges that are too small or too faint to be modelled are identified and discarded, there remains an overall correlation between $n$, $B/T$, and $n_\\mathrm{B}$, which all increase jointly, as galaxy types change from late to earlier types along the Hubble sequence, and as their bulges grow from small pseudo-bulges to more prominent classical bulges. In this latter regime, the increase in $n_\\mathrm{B}$\\chg{with $B/T$} flattens, $\\chg${as shown by the black solid line displaying the median values and bootstrap uncertainties of $n_\\mathrm{bulge}$ in $B/T$ intervals of $0.1$ in width from $0.2$ to $1.0$ (the grey shaded area shows the 10--90\\% percentile range around these values)} (*nsersic-nsersicB-BT-3d-space*)\n",
       "\n",
       "</div>\n",
       "<div id=\"div_fig3\">\n",
       "\n",
       "<img src=\"tmp_2502.15581/./Figures/Re_1p_ratio_corner_plot_cropped.png\" alt=\"Fig17\" width=\"100%\"/>\n",
       "\n",
       "**Figure 17. -** Ratios of the single-Sérsic effective radius $R_\\mathrm{e,1p}$ between different bands as a function of the Sérsic index measured in the \\IE VIS band for the $2328$ galaxies to $\\IE\\le21$, with $R_\\mathrm{e,disc} /R_\\mathrm{e,bulge} \\ge 1$ or $R_\\mathrm{e,disc}/R_\\mathrm{e,1p} > 0.9$ in the \\IE band. All possible pairs of \\Euclid bands are shown in the six panels, with the band whose $R_\\mathrm{e,1p}$ is the numerator (denominator) appearing on the left (top). Overall median values of the $R_\\mathrm{e,1p}$ ratio appear on each panel as a red dotted horizontal line, whereas the red points and error bars correspond to the median and standard error for bins of $n_{\\IE}$ listed in $\\tab$\\ref{tab-Re-ratio-1p}. Redder bands have smaller $R_\\mathrm{e,1p}$ than bluer bands for the majority of galaxies, and this effect is stronger for bands that are further apart in wavelength. Most galaxies have blue to red inward gradients, which are the largest between the VIS band and any NISP bands, and are interpreted as resulting mostly from the colour dichotomy of bulges and discs shown in $\\fg$\\ref{bulge-disk-colors}, which in turn originates from the different stellar populations in the bulge and disc components of spiral galaxies. (*color-grad-Re-1p*)\n",
       "\n",
       "</div><div id=\"qrcode\"><img src=https://api.qrserver.com/v1/create-qr-code/?size=100x100&data=\"https://arxiv.org/abs/2502.15581\"></div>"
      ],
      "text/plain": [
       "<IPython.core.display.Markdown object>"
      ]
     },
     "metadata": {},
     "output_type": "display_data"
    }
   ],
   "source": [
    "[display(Markdown(k[1])) for k in documents];"
   ]
  },
  {
   "cell_type": "markdown",
   "id": "873873a4",
   "metadata": {
    "papermill": {
     "duration": 0.004822,
     "end_time": "2025-02-24T04:12:32.250872",
     "exception": false,
     "start_time": "2025-02-24T04:12:32.246050",
     "status": "completed"
    },
    "tags": []
   },
   "source": [
    "# Create HTML index"
   ]
  },
  {
   "cell_type": "code",
   "execution_count": 10,
   "id": "cf665672",
   "metadata": {
    "execution": {
     "iopub.execute_input": "2025-02-24T04:12:32.262117Z",
     "iopub.status.busy": "2025-02-24T04:12:32.261501Z",
     "iopub.status.idle": "2025-02-24T04:12:32.271076Z",
     "shell.execute_reply": "2025-02-24T04:12:32.270533Z"
    },
    "papermill": {
     "duration": 0.016035,
     "end_time": "2025-02-24T04:12:32.272017",
     "exception": false,
     "start_time": "2025-02-24T04:12:32.255982",
     "status": "completed"
    },
    "tags": []
   },
   "outputs": [
    {
     "name": "stdout",
     "output_type": "stream",
     "text": [
      "340  publications files modified in the last 7 days.\n"
     ]
    }
   ],
   "source": [
    "from datetime import datetime, timedelta, timezone\n",
    "from glob import glob\n",
    "import os\n",
    "\n",
    "files = glob('_build/html/*.md')\n",
    "days = 7\n",
    "now = datetime.today()\n",
    "res = []\n",
    "for fk in files:\n",
    "    stat_result = os.stat(fk).st_ctime\n",
    "    modified = datetime.fromtimestamp(stat_result, tz=timezone.utc).replace(tzinfo=None)\n",
    "    delta = now.today() - modified\n",
    "    if delta <= timedelta(days=days):\n",
    "        res.append((delta.seconds, fk))\n",
    "res = [k[1] for k in reversed(sorted(res, key=lambda x:x[1]))]\n",
    "npub = len(res)\n",
    "print(len(res), f\" publications files modified in the last {days:d} days.\")\n",
    "# [ print('\\t', k) for k in res ];"
   ]
  },
  {
   "cell_type": "code",
   "execution_count": 11,
   "id": "015de740",
   "metadata": {
    "execution": {
     "iopub.execute_input": "2025-02-24T04:12:32.282778Z",
     "iopub.status.busy": "2025-02-24T04:12:32.282514Z",
     "iopub.status.idle": "2025-02-24T04:12:32.301304Z",
     "shell.execute_reply": "2025-02-24T04:12:32.300791Z"
    },
    "papermill": {
     "duration": 0.025281,
     "end_time": "2025-02-24T04:12:32.302227",
     "exception": false,
     "start_time": "2025-02-24T04:12:32.276946",
     "status": "completed"
    },
    "tags": []
   },
   "outputs": [
    {
     "name": "stdout",
     "output_type": "stream",
     "text": [
      "6  publications in the last 7 days.\n"
     ]
    }
   ],
   "source": [
    "import datetime\n",
    "from glob import glob\n",
    "\n",
    "def get_last_n_days(lst, days=1):\n",
    "    \"\"\" Get the documents from the last n days \"\"\"\n",
    "    sorted_lst = sorted(lst, key=lambda x: x[1], reverse=True)\n",
    "    for fname, date in sorted_lst:\n",
    "        if date >= str(datetime.date.today() - datetime.timedelta(days=days)):\n",
    "            yield fname\n",
    "\n",
    "def extract_appearance_dates(lst_file):\n",
    "    dates = []\n",
    "\n",
    "    def get_date(line):\n",
    "        return line\\\n",
    "            .split('Appeared on:')[-1]\\\n",
    "            .split('</mark>')[0].strip()\n",
    "\n",
    "    for fname in lst:\n",
    "        with open(fname, 'r') as f:\n",
    "            found_date = False\n",
    "            for line in f:\n",
    "                if not found_date:\n",
    "                    if \"Appeared on\" in line:\n",
    "                        found_date = True\n",
    "                        dates.append((fname, get_date(line)))\n",
    "                else:\n",
    "                    break\n",
    "    return dates\n",
    "\n",
    "from glob import glob\n",
    "lst = glob('_build/html/*md')\n",
    "days = 7\n",
    "dates = extract_appearance_dates(lst)\n",
    "res = list(get_last_n_days(dates, days))\n",
    "npub = len(res)\n",
    "print(len(res), f\" publications in the last {days:d} days.\")"
   ]
  },
  {
   "cell_type": "code",
   "execution_count": 12,
   "id": "52ca0208",
   "metadata": {
    "execution": {
     "iopub.execute_input": "2025-02-24T04:12:32.313095Z",
     "iopub.status.busy": "2025-02-24T04:12:32.312889Z",
     "iopub.status.idle": "2025-02-24T04:12:32.317839Z",
     "shell.execute_reply": "2025-02-24T04:12:32.317281Z"
    },
    "papermill": {
     "duration": 0.01149,
     "end_time": "2025-02-24T04:12:32.318849",
     "exception": false,
     "start_time": "2025-02-24T04:12:32.307359",
     "status": "completed"
    },
    "scrolled": false,
    "tags": []
   },
   "outputs": [],
   "source": [
    "def create_carousel(npub=4):\n",
    "    \"\"\" Generate the HTML code for a carousel with `npub` slides \"\"\"\n",
    "    carousel = [\"\"\"  <div class=\"carousel\" \"\"\",\n",
    "                \"\"\"       data-flickity='{ \"autoPlay\": 10000, \"adaptiveHeight\": true, \"resize\": true, \"wrapAround\": true, \"pauseAutoPlayOnHover\": true, \"groupCells\": 1 }' id=\"asyncTypeset\">\"\"\"\n",
    "                ]\n",
    "    \n",
    "    item_str = \"\"\"    <div class=\"carousel-cell\"> <div id=\"slide{k}\" class=\"md_view\">Content {k}</div> </div>\"\"\"\n",
    "    for k in range(1, npub + 1):\n",
    "        carousel.append(item_str.format(k=k))\n",
    "    carousel.append(\"  </div>\")\n",
    "    return '\\n'.join(carousel)\n",
    "\n",
    "def create_grid(npub=4):\n",
    "    \"\"\" Generate the HTML code for a flat grid with `npub` slides \"\"\"\n",
    "    grid = [\"\"\"  <div class=\"grid\"> \"\"\",\n",
    "                ]\n",
    "    \n",
    "    item_str = \"\"\"    <div class=\"grid-item\"> <div id=\"slide{k}\" class=\"md_view\">Content {k}</div> </div>\"\"\"\n",
    "    for k in range(1, npub + 1):\n",
    "        grid.append(item_str.format(k=k))\n",
    "    grid.append(\"  </div>\")\n",
    "    return '\\n'.join(grid)"
   ]
  },
  {
   "cell_type": "code",
   "execution_count": 13,
   "id": "a6eac5b6",
   "metadata": {
    "execution": {
     "iopub.execute_input": "2025-02-24T04:12:32.329983Z",
     "iopub.status.busy": "2025-02-24T04:12:32.329519Z",
     "iopub.status.idle": "2025-02-24T04:12:32.334627Z",
     "shell.execute_reply": "2025-02-24T04:12:32.334078Z"
    },
    "papermill": {
     "duration": 0.011755,
     "end_time": "2025-02-24T04:12:32.335627",
     "exception": false,
     "start_time": "2025-02-24T04:12:32.323872",
     "status": "completed"
    },
    "scrolled": false,
    "tags": []
   },
   "outputs": [],
   "source": [
    "carousel = create_carousel(npub)\n",
    "docs = ', '.join(['\"{0:s}\"'.format(k.split('/')[-1]) for k in res])\n",
    "slides = ', '.join([f'\"slide{k}\"' for k in range(1, npub + 1)])\n",
    "\n",
    "with open(\"daily_template.html\", \"r\") as tpl:\n",
    "    page = tpl.read()\n",
    "    page = page.replace(\"{%-- carousel:s --%}\", carousel)\\\n",
    "               .replace(\"{%-- suptitle:s --%}\",  \"7-day archives\" )\\\n",
    "               .replace(\"{%-- docs:s --%}\", docs)\\\n",
    "               .replace(\"{%-- slides:s --%}\", slides)\n",
    "    \n",
    "with open(\"_build/html/index_7days.html\", 'w') as fout:\n",
    "    fout.write(page)"
   ]
  },
  {
   "cell_type": "code",
   "execution_count": 14,
   "id": "adc1a1ec",
   "metadata": {
    "execution": {
     "iopub.execute_input": "2025-02-24T04:12:32.346702Z",
     "iopub.status.busy": "2025-02-24T04:12:32.346482Z",
     "iopub.status.idle": "2025-02-24T04:12:32.353082Z",
     "shell.execute_reply": "2025-02-24T04:12:32.352542Z"
    },
    "papermill": {
     "duration": 0.013272,
     "end_time": "2025-02-24T04:12:32.354067",
     "exception": false,
     "start_time": "2025-02-24T04:12:32.340795",
     "status": "completed"
    },
    "tags": []
   },
   "outputs": [
    {
     "name": "stdout",
     "output_type": "stream",
     "text": [
      "1  publications in the last day.\n"
     ]
    }
   ],
   "source": [
    "# redo for today\n",
    "days = 1\n",
    "res = list(get_last_n_days(dates, days))\n",
    "npub = len(res)\n",
    "print(len(res), f\" publications in the last day.\")\n",
    "\n",
    "carousel = create_carousel(npub)\n",
    "docs = ', '.join(['\"{0:s}\"'.format(k.split('/')[-1]) for k in res])\n",
    "slides = ', '.join([f'\"slide{k}\"' for k in range(1, npub + 1)])\n",
    "\n",
    "with open(\"daily_template.html\", \"r\") as tpl:\n",
    "    page = tpl.read()\n",
    "    page = page.replace(\"{%-- carousel:s --%}\", carousel)\\\n",
    "               .replace(\"{%-- suptitle:s --%}\",  \"Daily\" )\\\n",
    "               .replace(\"{%-- docs:s --%}\", docs)\\\n",
    "               .replace(\"{%-- slides:s --%}\", slides)\n",
    "    \n",
    "# print(carousel, docs, slides)\n",
    "# print(page)\n",
    "with open(\"_build/html/index_daily.html\", 'w') as fout:\n",
    "    fout.write(page)"
   ]
  },
  {
   "cell_type": "code",
   "execution_count": 15,
   "id": "00eece82",
   "metadata": {
    "execution": {
     "iopub.execute_input": "2025-02-24T04:12:32.365299Z",
     "iopub.status.busy": "2025-02-24T04:12:32.365109Z",
     "iopub.status.idle": "2025-02-24T04:12:32.371495Z",
     "shell.execute_reply": "2025-02-24T04:12:32.370972Z"
    },
    "papermill": {
     "duration": 0.013189,
     "end_time": "2025-02-24T04:12:32.372497",
     "exception": false,
     "start_time": "2025-02-24T04:12:32.359308",
     "status": "completed"
    },
    "scrolled": false,
    "tags": []
   },
   "outputs": [
    {
     "name": "stdout",
     "output_type": "stream",
     "text": [
      "6  6 publications selected.\n"
     ]
    }
   ],
   "source": [
    "# Create the flat grid of the last N papers (fixed number regardless of dates)\n",
    "from itertools import islice \n",
    "\n",
    "npub = 6\n",
    "res = [k[0] for k in (islice(reversed(sorted(dates, key=lambda x: x[1])), 6))]\n",
    "print(len(res), f\" {npub} publications selected.\")\n",
    "\n",
    "grid = create_grid(npub)\n",
    "docs = ', '.join(['\"{0:s}\"'.format(k.split('/')[-1]) for k in res])\n",
    "slides = ', '.join([f'\"slide{k}\"' for k in range(1, npub + 1)])\n",
    "\n",
    "with open(\"grid_template.html\", \"r\") as tpl:\n",
    "    page = tpl.read()\n",
    "    page = page.replace(\"{%-- grid-content:s --%}\", grid)\\\n",
    "               .replace(\"{%-- suptitle:s --%}\",  f\"Last {npub:,d} papers\" )\\\n",
    "               .replace(\"{%-- docs:s --%}\", docs)\\\n",
    "               .replace(\"{%-- slides:s --%}\", slides)\n",
    "    \n",
    "# print(grid, docs, slides)\n",
    "# print(page)\n",
    "with open(\"_build/html/index_npub_grid.html\", 'w') as fout:\n",
    "    fout.write(page)"
   ]
  }
 ],
 "metadata": {
  "kernelspec": {
   "display_name": "Python 3 (ipykernel)",
   "language": "python",
   "name": "python3"
  },
  "language_info": {
   "codemirror_mode": {
    "name": "ipython",
    "version": 3
   },
   "file_extension": ".py",
   "mimetype": "text/x-python",
   "name": "python",
   "nbconvert_exporter": "python",
   "pygments_lexer": "ipython3",
   "version": "3.9.21"
  },
  "papermill": {
   "default_parameters": {},
   "duration": 90.771604,
   "end_time": "2025-02-24T04:12:32.694046",
   "environment_variables": {},
   "exception": null,
   "input_path": "MPIA daily digest.ipynb",
   "output_path": "log.ipynb",
   "parameters": {},
   "start_time": "2025-02-24T04:11:01.922442",
   "version": "2.6.0"
  },
  "vscode": {
   "interpreter": {
    "hash": "aee8b7b246df8f9039afb4144a1f6fd8d2ca17a180786b69acc140d282b71a49"
   }
  },
  "widgets": {
   "application/vnd.jupyter.widget-state+json": {
    "state": {
     "10cd185746b94c469e4188d9db56e9b3": {
      "model_module": "@jupyter-widgets/base",
      "model_module_version": "2.0.0",
      "model_name": "LayoutModel",
      "state": {
       "_model_module": "@jupyter-widgets/base",
       "_model_module_version": "2.0.0",
       "_model_name": "LayoutModel",
       "_view_count": null,
       "_view_module": "@jupyter-widgets/base",
       "_view_module_version": "2.0.0",
       "_view_name": "LayoutView",
       "align_content": null,
       "align_items": null,
       "align_self": null,
       "border_bottom": null,
       "border_left": null,
       "border_right": null,
       "border_top": null,
       "bottom": null,
       "display": null,
       "flex": null,
       "flex_flow": null,
       "grid_area": null,
       "grid_auto_columns": null,
       "grid_auto_flow": null,
       "grid_auto_rows": null,
       "grid_column": null,
       "grid_gap": null,
       "grid_row": null,
       "grid_template_areas": null,
       "grid_template_columns": null,
       "grid_template_rows": null,
       "height": null,
       "justify_content": null,
       "justify_items": null,
       "left": null,
       "margin": null,
       "max_height": null,
       "max_width": null,
       "min_height": null,
       "min_width": null,
       "object_fit": null,
       "object_position": null,
       "order": null,
       "overflow": null,
       "padding": null,
       "right": null,
       "top": null,
       "visibility": null,
       "width": null
      }
     },
     "1ecb8cb45b9f474ea479d404411fe593": {
      "model_module": "@jupyter-widgets/controls",
      "model_module_version": "2.0.0",
      "model_name": "HTMLModel",
      "state": {
       "_dom_classes": [],
       "_model_module": "@jupyter-widgets/controls",
       "_model_module_version": "2.0.0",
       "_model_name": "HTMLModel",
       "_view_count": null,
       "_view_module": "@jupyter-widgets/controls",
       "_view_module_version": "2.0.0",
       "_view_name": "HTMLView",
       "description": "",
       "description_allow_html": false,
       "layout": "IPY_MODEL_10cd185746b94c469e4188d9db56e9b3",
       "placeholder": "​",
       "style": "IPY_MODEL_6a571396653f46ca8c3ba77adfde15bb",
       "tabbable": null,
       "tooltip": null,
       "value": " 5/5 [01:08&lt;00:00, 23.35s/it]"
      }
     },
     "3fedebb41585421b889d2448a2f6a8c7": {
      "model_module": "@jupyter-widgets/controls",
      "model_module_version": "2.0.0",
      "model_name": "HBoxModel",
      "state": {
       "_dom_classes": [],
       "_model_module": "@jupyter-widgets/controls",
       "_model_module_version": "2.0.0",
       "_model_name": "HBoxModel",
       "_view_count": null,
       "_view_module": "@jupyter-widgets/controls",
       "_view_module_version": "2.0.0",
       "_view_name": "HBoxView",
       "box_style": "",
       "children": [
        "IPY_MODEL_5b176575f08c4cbb93f32d178eaddbd9",
        "IPY_MODEL_bcc19728b86f4deea8f4dffa72787927",
        "IPY_MODEL_1ecb8cb45b9f474ea479d404411fe593"
       ],
       "layout": "IPY_MODEL_a1125581d43b4596a7ed642b757e2889",
       "tabbable": null,
       "tooltip": null
      }
     },
     "5b176575f08c4cbb93f32d178eaddbd9": {
      "model_module": "@jupyter-widgets/controls",
      "model_module_version": "2.0.0",
      "model_name": "HTMLModel",
      "state": {
       "_dom_classes": [],
       "_model_module": "@jupyter-widgets/controls",
       "_model_module_version": "2.0.0",
       "_model_name": "HTMLModel",
       "_view_count": null,
       "_view_module": "@jupyter-widgets/controls",
       "_view_module_version": "2.0.0",
       "_view_name": "HTMLView",
       "description": "",
       "description_allow_html": false,
       "layout": "IPY_MODEL_a196f546cb774d30abdd64d434a4b849",
       "placeholder": "​",
       "style": "IPY_MODEL_f687b54966fd496f8a1afab9b8aff251",
       "tabbable": null,
       "tooltip": null,
       "value": "100%"
      }
     },
     "5c5ffe829ec3484392b0278fc3251bc9": {
      "model_module": "@jupyter-widgets/controls",
      "model_module_version": "2.0.0",
      "model_name": "ProgressStyleModel",
      "state": {
       "_model_module": "@jupyter-widgets/controls",
       "_model_module_version": "2.0.0",
       "_model_name": "ProgressStyleModel",
       "_view_count": null,
       "_view_module": "@jupyter-widgets/base",
       "_view_module_version": "2.0.0",
       "_view_name": "StyleView",
       "bar_color": null,
       "description_width": ""
      }
     },
     "6a571396653f46ca8c3ba77adfde15bb": {
      "model_module": "@jupyter-widgets/controls",
      "model_module_version": "2.0.0",
      "model_name": "HTMLStyleModel",
      "state": {
       "_model_module": "@jupyter-widgets/controls",
       "_model_module_version": "2.0.0",
       "_model_name": "HTMLStyleModel",
       "_view_count": null,
       "_view_module": "@jupyter-widgets/base",
       "_view_module_version": "2.0.0",
       "_view_name": "StyleView",
       "background": null,
       "description_width": "",
       "font_size": null,
       "text_color": null
      }
     },
     "a1125581d43b4596a7ed642b757e2889": {
      "model_module": "@jupyter-widgets/base",
      "model_module_version": "2.0.0",
      "model_name": "LayoutModel",
      "state": {
       "_model_module": "@jupyter-widgets/base",
       "_model_module_version": "2.0.0",
       "_model_name": "LayoutModel",
       "_view_count": null,
       "_view_module": "@jupyter-widgets/base",
       "_view_module_version": "2.0.0",
       "_view_name": "LayoutView",
       "align_content": null,
       "align_items": null,
       "align_self": null,
       "border_bottom": null,
       "border_left": null,
       "border_right": null,
       "border_top": null,
       "bottom": null,
       "display": null,
       "flex": null,
       "flex_flow": null,
       "grid_area": null,
       "grid_auto_columns": null,
       "grid_auto_flow": null,
       "grid_auto_rows": null,
       "grid_column": null,
       "grid_gap": null,
       "grid_row": null,
       "grid_template_areas": null,
       "grid_template_columns": null,
       "grid_template_rows": null,
       "height": null,
       "justify_content": null,
       "justify_items": null,
       "left": null,
       "margin": null,
       "max_height": null,
       "max_width": null,
       "min_height": null,
       "min_width": null,
       "object_fit": null,
       "object_position": null,
       "order": null,
       "overflow": null,
       "padding": null,
       "right": null,
       "top": null,
       "visibility": null,
       "width": null
      }
     },
     "a196f546cb774d30abdd64d434a4b849": {
      "model_module": "@jupyter-widgets/base",
      "model_module_version": "2.0.0",
      "model_name": "LayoutModel",
      "state": {
       "_model_module": "@jupyter-widgets/base",
       "_model_module_version": "2.0.0",
       "_model_name": "LayoutModel",
       "_view_count": null,
       "_view_module": "@jupyter-widgets/base",
       "_view_module_version": "2.0.0",
       "_view_name": "LayoutView",
       "align_content": null,
       "align_items": null,
       "align_self": null,
       "border_bottom": null,
       "border_left": null,
       "border_right": null,
       "border_top": null,
       "bottom": null,
       "display": null,
       "flex": null,
       "flex_flow": null,
       "grid_area": null,
       "grid_auto_columns": null,
       "grid_auto_flow": null,
       "grid_auto_rows": null,
       "grid_column": null,
       "grid_gap": null,
       "grid_row": null,
       "grid_template_areas": null,
       "grid_template_columns": null,
       "grid_template_rows": null,
       "height": null,
       "justify_content": null,
       "justify_items": null,
       "left": null,
       "margin": null,
       "max_height": null,
       "max_width": null,
       "min_height": null,
       "min_width": null,
       "object_fit": null,
       "object_position": null,
       "order": null,
       "overflow": null,
       "padding": null,
       "right": null,
       "top": null,
       "visibility": null,
       "width": null
      }
     },
     "bcc19728b86f4deea8f4dffa72787927": {
      "model_module": "@jupyter-widgets/controls",
      "model_module_version": "2.0.0",
      "model_name": "FloatProgressModel",
      "state": {
       "_dom_classes": [],
       "_model_module": "@jupyter-widgets/controls",
       "_model_module_version": "2.0.0",
       "_model_name": "FloatProgressModel",
       "_view_count": null,
       "_view_module": "@jupyter-widgets/controls",
       "_view_module_version": "2.0.0",
       "_view_name": "ProgressView",
       "bar_style": "success",
       "description": "",
       "description_allow_html": false,
       "layout": "IPY_MODEL_eb4c8f0ec0ef4e56983b75267c69515e",
       "max": 5.0,
       "min": 0.0,
       "orientation": "horizontal",
       "style": "IPY_MODEL_5c5ffe829ec3484392b0278fc3251bc9",
       "tabbable": null,
       "tooltip": null,
       "value": 5.0
      }
     },
     "eb4c8f0ec0ef4e56983b75267c69515e": {
      "model_module": "@jupyter-widgets/base",
      "model_module_version": "2.0.0",
      "model_name": "LayoutModel",
      "state": {
       "_model_module": "@jupyter-widgets/base",
       "_model_module_version": "2.0.0",
       "_model_name": "LayoutModel",
       "_view_count": null,
       "_view_module": "@jupyter-widgets/base",
       "_view_module_version": "2.0.0",
       "_view_name": "LayoutView",
       "align_content": null,
       "align_items": null,
       "align_self": null,
       "border_bottom": null,
       "border_left": null,
       "border_right": null,
       "border_top": null,
       "bottom": null,
       "display": null,
       "flex": null,
       "flex_flow": null,
       "grid_area": null,
       "grid_auto_columns": null,
       "grid_auto_flow": null,
       "grid_auto_rows": null,
       "grid_column": null,
       "grid_gap": null,
       "grid_row": null,
       "grid_template_areas": null,
       "grid_template_columns": null,
       "grid_template_rows": null,
       "height": null,
       "justify_content": null,
       "justify_items": null,
       "left": null,
       "margin": null,
       "max_height": null,
       "max_width": null,
       "min_height": null,
       "min_width": null,
       "object_fit": null,
       "object_position": null,
       "order": null,
       "overflow": null,
       "padding": null,
       "right": null,
       "top": null,
       "visibility": null,
       "width": null
      }
     },
     "f687b54966fd496f8a1afab9b8aff251": {
      "model_module": "@jupyter-widgets/controls",
      "model_module_version": "2.0.0",
      "model_name": "HTMLStyleModel",
      "state": {
       "_model_module": "@jupyter-widgets/controls",
       "_model_module_version": "2.0.0",
       "_model_name": "HTMLStyleModel",
       "_view_count": null,
       "_view_module": "@jupyter-widgets/base",
       "_view_module_version": "2.0.0",
       "_view_name": "StyleView",
       "background": null,
       "description_width": "",
       "font_size": null,
       "text_color": null
      }
     }
    },
    "version_major": 2,
    "version_minor": 0
   }
  }
 },
 "nbformat": 4,
 "nbformat_minor": 5
}