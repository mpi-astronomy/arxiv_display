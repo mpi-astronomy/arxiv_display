{
 "cells": [
  {
   "cell_type": "markdown",
   "id": "92bcb855",
   "metadata": {
    "papermill": {
     "duration": 0.003956,
     "end_time": "2024-10-11T04:10:47.315255",
     "exception": false,
     "start_time": "2024-10-11T04:10:47.311299",
     "status": "completed"
    },
    "tags": []
   },
   "source": [
    "# MPIA Arxiv on Deck 2\n",
    "\n",
    "Contains the steps to produce the paper extractions."
   ]
  },
  {
   "cell_type": "code",
   "execution_count": 1,
   "id": "3a0d6e11",
   "metadata": {
    "execution": {
     "iopub.execute_input": "2024-10-11T04:10:47.323155Z",
     "iopub.status.busy": "2024-10-11T04:10:47.322553Z",
     "iopub.status.idle": "2024-10-11T04:10:47.797964Z",
     "shell.execute_reply": "2024-10-11T04:10:47.797320Z"
    },
    "papermill": {
     "duration": 0.480748,
     "end_time": "2024-10-11T04:10:47.799340",
     "exception": false,
     "start_time": "2024-10-11T04:10:47.318592",
     "status": "completed"
    },
    "tags": []
   },
   "outputs": [],
   "source": [
    "# Imports\n",
    "import os\n",
    "from IPython.display import Markdown, display\n",
    "from tqdm.notebook import tqdm\n",
    "import warnings\n",
    "from PIL import Image \n",
    "import re\n",
    "\n",
    "# requires arxiv_on_deck_2\n",
    "\n",
    "from arxiv_on_deck_2.arxiv2 import (get_new_papers, \n",
    "                                    get_paper_from_identifier,\n",
    "                                    retrieve_document_source, \n",
    "                                    get_markdown_badge)\n",
    "from arxiv_on_deck_2 import (latex,\n",
    "                             latex_bib,\n",
    "                             mpia,\n",
    "                             highlight_authors_in_list)\n",
    "\n",
    "# Sometimes images are really big\n",
    "Image.MAX_IMAGE_PIXELS = 1000000000 "
   ]
  },
  {
   "cell_type": "code",
   "execution_count": 2,
   "id": "22aa9d44",
   "metadata": {
    "execution": {
     "iopub.execute_input": "2024-10-11T04:10:47.806924Z",
     "iopub.status.busy": "2024-10-11T04:10:47.806469Z",
     "iopub.status.idle": "2024-10-11T04:10:47.814556Z",
     "shell.execute_reply": "2024-10-11T04:10:47.813902Z"
    },
    "papermill": {
     "duration": 0.012905,
     "end_time": "2024-10-11T04:10:47.815585",
     "exception": false,
     "start_time": "2024-10-11T04:10:47.802680",
     "status": "completed"
    },
    "tags": []
   },
   "outputs": [],
   "source": [
    "# Some useful definitions.\n",
    "\n",
    "class AffiliationWarning(UserWarning):\n",
    "    pass\n",
    "\n",
    "class AffiliationError(RuntimeError):\n",
    "    pass\n",
    "\n",
    "def validation(source: str):\n",
    "    \"\"\"Raises error paper during parsing of source file\n",
    "    \n",
    "    Allows checks before parsing TeX code.\n",
    "    \n",
    "    Raises AffiliationWarning\n",
    "    \"\"\"\n",
    "    check = mpia.affiliation_verifications(source, verbose=True)\n",
    "    if check is not True:\n",
    "        raise AffiliationError(\"mpia.affiliation_verifications: \" + check)\n",
    "\n",
    "        \n",
    "warnings.simplefilter('always', AffiliationWarning)\n",
    "\n",
    "\n",
    "def get_markdown_qrcode(paper_id: str):\n",
    "    \"\"\" Generate a qrcode to the arxiv page using qrserver.com\n",
    "    \n",
    "    :param paper: Arxiv paper\n",
    "    :returns: markdown text\n",
    "    \"\"\"\n",
    "    url = r\"https://api.qrserver.com/v1/create-qr-code/?size=100x100&data=\"\n",
    "    txt = f\"\"\"<img src={url}\"https://arxiv.org/abs/{paper_id}\">\"\"\"\n",
    "    txt = '<div id=\"qrcode\">' + txt + '</div>'\n",
    "    return txt\n",
    "\n",
    "\n",
    "def clean_non_western_encoded_characters_commands(text: str) -> str:\n",
    "    \"\"\" Remove non-western encoded characters from a string\n",
    "    List may need to grow.\n",
    "    \n",
    "    :param text: the text to clean\n",
    "    :return: the cleaned text\n",
    "    \"\"\"\n",
    "    text = re.sub(r\"(\\\\begin{CJK}{UTF8}{gbsn})(.*?)(\\\\end{CJK})\", r\"\\2\", text)\n",
    "    return text\n",
    "\n",
    "\n",
    "def get_initials(name: str) -> str:\n",
    "    \"\"\" Get the short name, e.g., A.-B. FamName\n",
    "    :param name: full name\n",
    "    :returns: initials\n",
    "    \"\"\"\n",
    "    initials = []\n",
    "    # account for non western names often in ()\n",
    "    if '(' in name:\n",
    "        name = clean_non_western_encoded_characters_commands(name)\n",
    "        suffix = re.findall(r\"\\((.*?)\\)\", name)[0]\n",
    "        name = name.replace(f\"({suffix})\", '')\n",
    "    else:\n",
    "        suffix = ''\n",
    "    split = name.split()\n",
    "    for token in split[:-1]:\n",
    "        if '-' in token:\n",
    "            current = '-'.join([k[0] + '.' for k in token.split('-')])\n",
    "        else:\n",
    "            current = token[0] + '.'\n",
    "        initials.append(current)\n",
    "    initials.append(split[-1].strip())\n",
    "    if suffix:\n",
    "        initials.append(f\"({suffix})\")\n",
    "    return ' '.join(initials)"
   ]
  },
  {
   "cell_type": "markdown",
   "id": "14bd6310",
   "metadata": {
    "papermill": {
     "duration": 0.002965,
     "end_time": "2024-10-11T04:10:47.821639",
     "exception": false,
     "start_time": "2024-10-11T04:10:47.818674",
     "status": "completed"
    },
    "tags": []
   },
   "source": [
    "## get list of arxiv paper candidates\n",
    "\n",
    "We use the MPIA mitarbeiter list webpage from mpia.de to get author names\n",
    "We then get all new papers from Arxiv and match authors"
   ]
  },
  {
   "cell_type": "code",
   "execution_count": 3,
   "id": "7ea813a8",
   "metadata": {
    "execution": {
     "iopub.execute_input": "2024-10-11T04:10:47.828860Z",
     "iopub.status.busy": "2024-10-11T04:10:47.828397Z",
     "iopub.status.idle": "2024-10-11T04:11:04.368660Z",
     "shell.execute_reply": "2024-10-11T04:11:04.367985Z"
    },
    "papermill": {
     "duration": 16.545324,
     "end_time": "2024-10-11T04:11:04.369926",
     "exception": false,
     "start_time": "2024-10-11T04:10:47.824602",
     "status": "completed"
    },
    "tags": []
   },
   "outputs": [],
   "source": [
    "# deal with the author list and edge cases of people that cannot be consistent on their name  \n",
    "\n",
    "def filter_non_scientists(name: str) -> bool:\n",
    "    \"\"\" Loose filter on expected authorships\n",
    "\n",
    "    removing IT, administration, technical staff\n",
    "    :param name: name\n",
    "    :returns: False if name is not a scientist\n",
    "    \"\"\"\n",
    "    remove_list = ['Licht', 'Binroth', 'Witzel', 'Jordan',\n",
    "                   'Zähringer', 'Scheerer', 'Hoffmann', 'Düe',\n",
    "                   'Hellmich', 'Enkler-Scharpegge', 'Witte-Nguy',\n",
    "                   'Dehen', 'Beckmann', 'Jager', 'Jäger'\n",
    "                  ]\n",
    "\n",
    "    for k in remove_list:\n",
    "        if k in name:\n",
    "            return False\n",
    "    return True\n",
    "\n",
    "def add_author_to_list(author_list: list) -> list:\n",
    "    \"\"\" Add author to list if not already in list\n",
    "    \n",
    "    :param author: author name\n",
    "    :param author_list: list of authors\n",
    "    :returns: updated list of authors\n",
    "    \"\"\"\n",
    "    add_list = ['T. Henning']\n",
    "\n",
    "    for author in add_list:\n",
    "        if author not in author_list:\n",
    "            author_list.append(author)\n",
    "    return author_list\n",
    "\n",
    "# get list from MPIA website\n",
    "# filter for non-scientists (mpia.get_mpia_mitarbeiter_list() does some filtering)\n",
    "mpia_authors = [k[1] for k in mpia.get_mpia_mitarbeiter_list() if filter_non_scientists(k[1])]\n",
    "# add some missing author because of inconsistencies in their MPIA name and author name on papers\n",
    "mpia_authors = add_author_to_list(mpia_authors)"
   ]
  },
  {
   "cell_type": "code",
   "execution_count": 4,
   "id": "2645e73a",
   "metadata": {
    "execution": {
     "iopub.execute_input": "2024-10-11T04:11:04.377389Z",
     "iopub.status.busy": "2024-10-11T04:11:04.377119Z",
     "iopub.status.idle": "2024-10-11T04:11:05.344628Z",
     "shell.execute_reply": "2024-10-11T04:11:05.343884Z"
    },
    "papermill": {
     "duration": 0.972491,
     "end_time": "2024-10-11T04:11:05.345780",
     "exception": false,
     "start_time": "2024-10-11T04:11:04.373289",
     "status": "completed"
    },
    "tags": []
   },
   "outputs": [
    {
     "name": "stdout",
     "output_type": "stream",
     "text": [
      "J. Liu  ->  J. Liu  |  ['J. Liu']\n",
      "R. Andrassy  ->  R. Andrassy  |  ['R. Andrassy']\n",
      "J. Liu  ->  J. Liu  |  ['J. Liu']\n",
      "E.-M. Ahrer  ->  E.-M. Ahrer  |  ['E.-M. Ahrer']\n",
      "P. Molliere  ->  P. Molliere  |  ['P. Molliere']\n",
      "Arxiv has 80 new papers today\n",
      "          4 with possible author matches\n"
     ]
    }
   ],
   "source": [
    "new_papers = get_new_papers()\n",
    "# add manual references\n",
    "add_paper_refs = []\n",
    "new_papers.extend([get_paper_from_identifier(k) for k in add_paper_refs])\n",
    "\n",
    "def robust_call(fn, value, *args, **kwargs):\n",
    "    try:\n",
    "        return fn(value, *args, **kwargs)\n",
    "    except Exception:\n",
    "        return value\n",
    "\n",
    "candidates = []\n",
    "for paperk in new_papers:\n",
    "    # Check author list with their initials\n",
    "    normed_author_list = [robust_call(mpia.get_initials, k) for k in paperk['authors']]\n",
    "    hl_authors = highlight_authors_in_list(normed_author_list, mpia_authors, verbose=True)\n",
    "    matches = [(hl, orig) for hl, orig in zip(hl_authors, paperk['authors']) if 'mark' in hl]\n",
    "    paperk['authors'] = hl_authors\n",
    "    if matches:\n",
    "        # only select paper if an author matched our list\n",
    "        candidates.append(paperk)\n",
    "print(\"\"\"Arxiv has {0:,d} new papers today\"\"\".format(len(new_papers)))        \n",
    "print(\"\"\"          {0:,d} with possible author matches\"\"\".format(len(candidates)))"
   ]
  },
  {
   "cell_type": "markdown",
   "id": "3543b34a",
   "metadata": {
    "papermill": {
     "duration": 0.003319,
     "end_time": "2024-10-11T04:11:05.352690",
     "exception": false,
     "start_time": "2024-10-11T04:11:05.349371",
     "status": "completed"
    },
    "tags": []
   },
   "source": [
    "# Parse sources and generate relevant outputs\n",
    "\n",
    "From the candidates, we do the following steps:\n",
    "* get their tarball from ArXiv (and extract data)\n",
    "* find the main .tex file: find one with \\documentclass{...} (sometimes it's non trivial)\n",
    "* Check affiliations with :func:`validation`, which uses :func:`mpia.affiliation_verifications`\n",
    "* If passing the affiliations: we parse the .tex source\n",
    "   * inject sub-documents into the main (flatten the main document)\n",
    "   * parse structure, extract information (title, abstract, authors, figures...)\n",
    "   * handles `\\graphicspath` if provided\n",
    "* Generate the .md document."
   ]
  },
  {
   "cell_type": "code",
   "execution_count": 5,
   "id": "9576b79e",
   "metadata": {
    "execution": {
     "iopub.execute_input": "2024-10-11T04:11:05.360254Z",
     "iopub.status.busy": "2024-10-11T04:11:05.359787Z",
     "iopub.status.idle": "2024-10-11T04:12:47.088817Z",
     "shell.execute_reply": "2024-10-11T04:12:47.087959Z"
    },
    "papermill": {
     "duration": 101.738388,
     "end_time": "2024-10-11T04:12:47.094270",
     "exception": false,
     "start_time": "2024-10-11T04:11:05.355882",
     "status": "completed"
    },
    "scrolled": false,
    "tags": []
   },
   "outputs": [
    {
     "data": {
      "application/vnd.jupyter.widget-view+json": {
       "model_id": "b9118ec775d14476954efc3035f96dec",
       "version_major": 2,
       "version_minor": 0
      },
      "text/plain": [
       "  0%|          | 0/4 [00:00<?, ?it/s]"
      ]
     },
     "metadata": {},
     "output_type": "display_data"
    },
    {
     "name": "stdout",
     "output_type": "stream",
     "text": [
      "Retrieving document from  https://arxiv.org/e-print/2410.07637\n"
     ]
    },
    {
     "name": "stdout",
     "output_type": "stream",
     "text": [
      "extracting tarball to tmp_2410.07637..."
     ]
    },
    {
     "name": "stdout",
     "output_type": "stream",
     "text": [
      " done.\n",
      "Retrieving document from  https://arxiv.org/e-print/2410.07841\n"
     ]
    },
    {
     "name": "stdout",
     "output_type": "stream",
     "text": [
      "extracting tarball to tmp_2410.07841..."
     ]
    },
    {
     "name": "stdout",
     "output_type": "stream",
     "text": [
      " done.\n",
      "Retrieving document from  https://arxiv.org/e-print/2410.08103\n"
     ]
    },
    {
     "name": "stdout",
     "output_type": "stream",
     "text": [
      "extracting tarball to tmp_2410.08103..."
     ]
    },
    {
     "name": "stdout",
     "output_type": "stream",
     "text": [
      " done.\n",
      "Retrieving document from  https://arxiv.org/e-print/2410.08116\n"
     ]
    },
    {
     "name": "stdout",
     "output_type": "stream",
     "text": [
      "extracting tarball to tmp_2410.08116..."
     ]
    },
    {
     "name": "stdout",
     "output_type": "stream",
     "text": [
      " done.\n"
     ]
    },
    {
     "name": "stderr",
     "output_type": "stream",
     "text": [
      "/opt/hostedtoolcache/Python/3.9.20/x64/lib/python3.9/site-packages/arxiv_on_deck_2/latex.py:132: LatexWarning: attempting recovering figure figures/Wasp15b_AMP.pdf\n",
      "  warnings.warn(LatexWarning(f'attempting recovering figure {image}'))\n",
      "/opt/hostedtoolcache/Python/3.9.20/x64/lib/python3.9/site-packages/arxiv_on_deck_2/latex.py:707: LatexWarning: Could not find graphic \\includegraphics[width=0.9\\columnwidth]{figures/Wasp15b_AMP.pdf}\n",
      "  warnings.warn(LatexWarning(f\"Could not find graphic {k}\"))\n"
     ]
    },
    {
     "name": "stdout",
     "output_type": "stream",
     "text": [
      "Found 124 bibliographic references in tmp_2410.08116/main.bbl.\n"
     ]
    }
   ],
   "source": [
    "documents = []\n",
    "failed = []\n",
    "for paper in tqdm(candidates):\n",
    "    # debug crap\n",
    "    paper['identifier'] = paper['identifier'].lower().replace('arxiv:', '').replace(r'\\n', '').strip()\n",
    "    paper_id = paper['identifier']\n",
    "    \n",
    "    folder = f'tmp_{paper_id}'\n",
    "\n",
    "    try:\n",
    "        if not os.path.isdir(folder):\n",
    "            folder = retrieve_document_source(f\"{paper_id}\", f'tmp_{paper_id}')\n",
    "        \n",
    "        try:\n",
    "            doc = latex.LatexDocument(folder, validation=validation)    \n",
    "        except AffiliationError as affilerror:\n",
    "            msg = f\"ArXiv:{paper_id:s} is not an MPIA paper... \" + str(affilerror)\n",
    "            failed.append((paper, \"affiliation error: \" + str(affilerror) ))\n",
    "            continue\n",
    "        \n",
    "        # Hack because sometimes author parsing does not work well\n",
    "        if (len(doc.authors) != len(paper['authors'])):\n",
    "            doc._authors = paper['authors']\n",
    "        else:\n",
    "            # highlight authors (FIXME: doc.highlight_authors)\n",
    "            # done on arxiv paper already\n",
    "            doc._authors = highlight_authors_in_list(\n",
    "                [get_initials(k) for k in doc.authors], \n",
    "                mpia_authors, verbose=True)\n",
    "        if (doc.abstract) in (None, ''):\n",
    "            doc._abstract = paper['abstract']\n",
    "            \n",
    "        doc.comment = (get_markdown_badge(paper_id) + \n",
    "                       \"<mark>Appeared on: \" + paper['date'] + \"</mark> - \")\n",
    "        if paper['comments']:\n",
    "            doc.comment += \" _\" + paper['comments'] + \"_\"\n",
    "        \n",
    "        full_md = doc.generate_markdown_text()\n",
    "        \n",
    "        full_md += get_markdown_qrcode(paper_id)\n",
    "        \n",
    "        # replace citations\n",
    "        try:\n",
    "            bibdata = latex_bib.LatexBib.from_doc(doc)\n",
    "            full_md = latex_bib.replace_citations(full_md, bibdata)\n",
    "        except Exception as e:\n",
    "            print(\"Issues with the citations\")\n",
    "            print(e)\n",
    "        \n",
    "        documents.append((paper_id, full_md))\n",
    "    except Exception as e:\n",
    "        warnings.warn(latex.LatexWarning(f\"{paper_id:s} did not run properly\\n\" +\n",
    "                                         str(e)\n",
    "                                        ))\n",
    "        failed.append((paper, \"latex error \" + str(e)))"
   ]
  },
  {
   "cell_type": "markdown",
   "id": "2505a25c",
   "metadata": {
    "papermill": {
     "duration": 0.003827,
     "end_time": "2024-10-11T04:12:47.102070",
     "exception": false,
     "start_time": "2024-10-11T04:12:47.098243",
     "status": "completed"
    },
    "tags": []
   },
   "source": [
    "### Export the logs\n",
    "\n",
    "Throughout, we also keep track of the logs per paper. see `logs-{today date}.md` "
   ]
  },
  {
   "cell_type": "code",
   "execution_count": 6,
   "id": "d733828a",
   "metadata": {
    "execution": {
     "iopub.execute_input": "2024-10-11T04:12:47.111232Z",
     "iopub.status.busy": "2024-10-11T04:12:47.110705Z",
     "iopub.status.idle": "2024-10-11T04:12:47.127063Z",
     "shell.execute_reply": "2024-10-11T04:12:47.126352Z"
    },
    "papermill": {
     "duration": 0.022291,
     "end_time": "2024-10-11T04:12:47.128140",
     "exception": false,
     "start_time": "2024-10-11T04:12:47.105849",
     "status": "completed"
    },
    "scrolled": false,
    "tags": []
   },
   "outputs": [
    {
     "data": {
      "text/markdown": [
       "## Successful papers"
      ],
      "text/plain": [
       "<IPython.core.display.Markdown object>"
      ]
     },
     "metadata": {},
     "output_type": "display_data"
    },
    {
     "data": {
      "text/markdown": [
       "\n",
       "|||\n",
       "|---:|:---|\n",
       "| [![arXiv](https://img.shields.io/badge/arXiv-2410.08116-b31b1b.svg)](https://arxiv.org/abs/2410.08116) | **BOWIE-ALIGN: JWST reveals hints of planetesimal accretion and complex sulphur chemistry in the atmosphere of the misaligned hot Jupiter WASP-15b**  |\n",
       "|| J. Kirk, et al. -- incl., <mark>E.-M. Ahrer</mark>, <mark>P. Molliere</mark> |\n",
       "|*Appeared on*| *2024-10-11*|\n",
       "|*Comments*| *24 pages, 23 figures, 6 tables. Submitted to MNRAS*|\n",
       "|**Abstract**|            We present a transmission spectrum of the misaligned hot Jupiter WASP-15b from 2.8--5.2 microns observed with JWST's NIRSpec/G395H grating. Our high signal to noise data, which has negligible red noise, reveals significant absorption by H$_2$O ($4.2\\sigma$) and CO$_2$ ($8.9\\sigma$). From independent data reduction and atmospheric retrieval approaches, we infer that WASP-15b's atmospheric metallicity is super-solar ($\\gtrsim 15\\times$ solar) and its C/O is consistent with solar, that together imply planetesimal accretion. Our GCM simulations for WASP-15b suggest that the C/O we measure at the limb is likely representative of the entire photosphere due to the mostly uniform spatial distribution of H$_2$O, CO$_2$ and CO. We additionally see evidence for absorption by SO$_2$ and absorption at 4.9$\\mu$m, for which the current leading candidate is OCS, albeit with several caveats. If confirmed, this would be the first detection of OCS in an exoplanet atmosphere and point towards complex photochemistry of sulphur-bearing species in the upper atmosphere. These are the first observations from the BOWIE-ALIGN survey which is using JWST's NIRSpec/G395H instrument to compare the atmospheric compositions of aligned/low-obliquity and misaligned/high-obliquity hot Jupiters around F stars above the Kraft break. The goal of our survey is to determine whether the atmospheric composition differs across two populations of planets that have likely undergone different migration histories (disc versus disc-free) as evidenced by their obliquities (aligned versus misaligned).         |"
      ],
      "text/plain": [
       "[2410.08116] BOWIE-ALIGN: JWST reveals hints of planetesimal accretion and complex sulphur chemistry in the atmosphere of the misaligned hot Jupiter WASP-15b\n",
       "\tJ. Kirk, et al. -- incl., <mark>E.-M. Ahrer</mark>, <mark>P. Molliere</mark>"
      ]
     },
     "metadata": {},
     "output_type": "display_data"
    },
    {
     "data": {
      "text/markdown": [
       "## Failed papers"
      ],
      "text/plain": [
       "<IPython.core.display.Markdown object>"
      ]
     },
     "metadata": {},
     "output_type": "display_data"
    },
    {
     "data": {
      "text/markdown": [
       "\n",
       "|||\n",
       "|---:|:---|\n",
       "| [![arXiv](https://img.shields.io/badge/arXiv-2410.07841-b31b1b.svg)](https://arxiv.org/abs/2410.07841) | **From spherical stars to disk-like structures: 3D common-envelope evolution of massive binaries beyond inspiral**  |\n",
       "|| M. Vetter, et al. -- incl., <mark>R. Andrassy</mark> |\n",
       "|*Appeared on*| *2024-10-11*|\n",
       "|*Comments*| *17 Pages, 9 Figures, accepted by A&A*|\n",
       "|**Abstract**|            Three-dimensional simulations usually fail to cover the entire dynamical common-envelope phase of gravitational wave progenitor systems due to the vast range of spatial and temporal scales involved. We investigated the common-envelope interactions of a $10\\,M_\\odot$ red supergiant primary star with a black hole and a neutron star companion, respectively, until full envelope ejection (${\\gtrsim}\\,97 \\,\\mathrm{\\%}$ of the envelope mass). We find that the dynamical plunge-in of the systems determines largely the orbital separations of the core binary system, while the envelope ejection by recombination acts only at later stages of the evolution and fails to harden the core binaries down to orbital frequencies where they qualify as progenitors of gravitational-wave-emitting double-compact object mergers. As opposed to the conventional picture of a spherically symmetric envelope ejection, our simulations show a new mechanism: The rapid plunge-in of the companion transforms the spherical morphology of the giant primary star into a disk-like structure. During this process, magnetic fields are amplified, and the subsequent transport of material through the disk around the core binary system drives a fast jet-like outflow in the polar directions. While most of the envelope material is lost through a recombination-driven wind from the outer edge of the disk, about $7\\,\\mathrm{\\%}$ of the envelope leaves the system via the magnetically driven outflows. We further explored the potential evolutionary pathways of the post-common-envelope systems given the expected remaining lifetime of the primary core ($2.97\\,M_\\odot$) until core collapse ($6{\\times}10^{4}\\,\\mathrm{yr}$), most likely forming a neutron star. We find that the interaction of the core binary system with the circumbinary disk increases the likelihood of giving rise to a double-neutron star merger. (abridged)         |\n",
       "|<p style=\"color:green\"> **ERROR** </p>| <p style=\"color:green\">affiliation error: mpia.affiliation_verifications: '69117' keyword not found.</p> |"
      ],
      "text/plain": [
       "<IPython.core.display.Markdown object>"
      ]
     },
     "metadata": {},
     "output_type": "display_data"
    },
    {
     "data": {
      "text/markdown": [
       "\n",
       "|||\n",
       "|---:|:---|\n",
       "| [![arXiv](https://img.shields.io/badge/arXiv-2410.07637-b31b1b.svg)](https://arxiv.org/abs/2410.07637) | **Double-lined Spectroscopic Binaries from the LAMOST Low-Resolution Survey**  |\n",
       "|| <mark>J. Liu</mark>, B. Zhang, J. Wu, Y.-S. Ting |\n",
       "|*Appeared on*| *2024-10-11*|\n",
       "|*Comments*| *29 pages, 23 figures and 5 tables; Accepted for publication in ApJS*|\n",
       "|**Abstract**|            We report on a data-driven spectral model that we have developed for the identification of double-lined spectroscopic binary stars (SB2s) in the LAMOST low-resolution survey (R$\\sim$1800). Employing simultaneous fitting with both single-star and binary-star models, we detected over 4800 SB2 candidates, where both components are detectably contributing to the spectrum, from an initial pool of 2.6 million objects. Tests show that our model favors FGK-type main-sequence binaries with high mass ratio ($q\\geq$ 0.7) and large radial velocity separation ($\\Delta \\rm RV \\geq$ 100~km$\\,$s$^{-1}$). Almost all of these candidates are positioned above the main sequence in the color-magnitude diagram, indicating their binary nature. Additionally, we utilized various observational data, including spectroscopy, photometry, parallax, and extinction, to determine multiple physical parameters such as the effective temperature, age, metallicity, radial velocity, mass, mass ratio, stellar radius, along with their associated uncertainties for these SB2 candidates. For the 44 candidates with seven or more observational epochs, we provide complete orbital solutions. We make available catalogs containing various stellar parameters for identified SB2 systems.         |\n",
       "|<p style=\"color:green\"> **ERROR** </p>| <p style=\"color:green\">affiliation error: mpia.affiliation_verifications: 'Heidelberg' keyword not found.</p> |"
      ],
      "text/plain": [
       "<IPython.core.display.Markdown object>"
      ]
     },
     "metadata": {},
     "output_type": "display_data"
    },
    {
     "data": {
      "text/markdown": [
       "\n",
       "|||\n",
       "|---:|:---|\n",
       "| [![arXiv](https://img.shields.io/badge/arXiv-2410.08103-b31b1b.svg)](https://arxiv.org/abs/2410.08103) | **A Multi-station Meteor Monitoring (M$^3$) System. II. system upgrade and a pathfinder network**  |\n",
       "|| Z. Li, et al. -- incl., <mark>J. Liu</mark> |\n",
       "|*Appeared on*| *2024-10-11*|\n",
       "|*Comments*| *24 pages, 25 figures, Accepted for publication in the Publications of the Astronomical Society of the Pacific (PASP)*|\n",
       "|**Abstract**|            Meteors are important phenomenon reflecting many properties of interplanetary dust particles. The study of their origin, mass distribution, and orbit evolution all require large data volume, which can only be obtained using large meteor networks. After meteor networks in Europe and America, we present our designs and upgrades of a proposing network in China. The new designs are mainly aimed for facilitating data gathering process. Each of the newly designed meteor stations now can support up to 4 cameras to cover the full sky. Newer version of meteor station software now works as an integral system, which can streamline the process of detecting, measuring and uploading meteors. We have built a meteor data platform to store, process and display the meteor data automatically. The software and data platform are designed to be easy to learn and use, so it can attract more people to join and operate meteor stations. Four stations are installed as the first phase of the network, and during the operation in 10 months, the network detected 8,683 orbits, and we find that half of the orbits can be related to established meteoroid streams. The statistical analysis of sporadic meteoroids shows a bimodal distribution of the velocities, which coincides with previous studies. The distribution of Tisserand parameters, $T_j$, shows the two peaks at $T_j=0$ and 3, indicating the different orbits of parent bodies (isotropic and ecliptic), which are divided by $T_j=2$. The falling trajectory of a meteorite was also predicted using observational data of the network. We are currently expanding the network, and in the future we will carry out detailed analysis of the key parameters of the distribution of the meteoroids.         |\n",
       "|<p style=\"color:green\"> **ERROR** </p>| <p style=\"color:green\">affiliation error: mpia.affiliation_verifications: 'Heidelberg' keyword not found.</p> |"
      ],
      "text/plain": [
       "<IPython.core.display.Markdown object>"
      ]
     },
     "metadata": {},
     "output_type": "display_data"
    }
   ],
   "source": [
    "import datetime\n",
    "today = str(datetime.date.today())\n",
    "logfile = f\"_build/html/logs/log-{today}.md\"\n",
    "\n",
    "\n",
    "with open(logfile, 'w') as logs:\n",
    "    # Success\n",
    "    logs.write(f'# Arxiv on Deck 2: Logs - {today}\\n\\n')\n",
    "    logs.write(\"\"\"* Arxiv had {0:,d} new papers\\n\"\"\".format(len(new_papers)))\n",
    "    logs.write(\"\"\"    * {0:,d} with possible author matches\\n\\n\"\"\".format(len(candidates)))\n",
    "    logs.write(\"## Sucessful papers\\n\\n\")\n",
    "    display(Markdown(\"## Successful papers\"))\n",
    "    success = [k[0] for k in documents]\n",
    "    for candid in candidates:\n",
    "        if candid['identifier'].split(':')[-1] in success:\n",
    "            display(candid)\n",
    "            logs.write(candid.generate_markdown_text() + '\\n\\n')\n",
    "\n",
    "    ## failed\n",
    "    logs.write(\"## Failed papers\\n\\n\")\n",
    "    display(Markdown(\"## Failed papers\"))\n",
    "    failed = sorted(failed, key=lambda x: x[1])\n",
    "    current_reason = \"\"\n",
    "    for paper, reason in failed:\n",
    "        if 'affiliation' in reason:\n",
    "            color = 'green'\n",
    "        else:\n",
    "            color = 'red'\n",
    "        data = Markdown(\n",
    "                paper.generate_markdown_text() + \n",
    "                f'\\n|<p style=\"color:{color:s}\"> **ERROR** </p>| <p style=\"color:{color:s}\">{reason:s}</p> |'\n",
    "               )\n",
    "        if reason != current_reason:\n",
    "            logs.write(f'### {reason:s} \\n\\n')\n",
    "            current_reason = reason\n",
    "        logs.write(data.data + '\\n\\n')\n",
    "        \n",
    "        # only display here the important errors (all in logs)\n",
    "        # if color in ('red',):\n",
    "        display(data)"
   ]
  },
  {
   "cell_type": "markdown",
   "id": "472d20ee",
   "metadata": {
    "papermill": {
     "duration": 0.004432,
     "end_time": "2024-10-11T04:12:47.137243",
     "exception": false,
     "start_time": "2024-10-11T04:12:47.132811",
     "status": "completed"
    },
    "tags": []
   },
   "source": [
    "## Export documents\n",
    "\n",
    "We now write the .md files and export relevant images"
   ]
  },
  {
   "cell_type": "code",
   "execution_count": 7,
   "id": "d426aed9",
   "metadata": {
    "execution": {
     "iopub.execute_input": "2024-10-11T04:12:47.147522Z",
     "iopub.status.busy": "2024-10-11T04:12:47.147000Z",
     "iopub.status.idle": "2024-10-11T04:12:47.154466Z",
     "shell.execute_reply": "2024-10-11T04:12:47.153844Z"
    },
    "papermill": {
     "duration": 0.013753,
     "end_time": "2024-10-11T04:12:47.155431",
     "exception": false,
     "start_time": "2024-10-11T04:12:47.141678",
     "status": "completed"
    },
    "tags": []
   },
   "outputs": [],
   "source": [
    "def export_markdown_summary(md: str, md_fname:str, directory: str):\n",
    "    \"\"\"Export MD document and associated relevant images\"\"\"\n",
    "    import os\n",
    "    import shutil\n",
    "    import re\n",
    "\n",
    "    if (os.path.exists(directory) and not os.path.isdir(directory)):\n",
    "        raise RuntimeError(f\"a non-directory file exists with name {directory:s}\")\n",
    "\n",
    "    if (not os.path.exists(directory)):\n",
    "        print(f\"creating directory {directory:s}\")\n",
    "        os.mkdir(directory)\n",
    "\n",
    "    fig_fnames = (re.compile(r'\\[Fig.*\\]\\((.*)\\)').findall(md) + \n",
    "                  re.compile(r'\\<img src=\"([^>\\s]*)\"[^>]*/>').findall(md))\n",
    "    print(\"found figures\", fig_fnames)\n",
    "    for fname in fig_fnames:\n",
    "        if 'http' in fname:\n",
    "            # No need to copy online figures\n",
    "            continue\n",
    "        if not os.path.exists(fname):\n",
    "            print(\"file not found\", fname)\n",
    "            continue\n",
    "        print(\"copying \", fname, \"to\", directory)\n",
    "        destdir = os.path.join(directory, os.path.dirname(fname))\n",
    "        destfname = os.path.join(destdir, os.path.basename(fname))\n",
    "        try:\n",
    "            os.makedirs(destdir)\n",
    "        except FileExistsError:\n",
    "            pass\n",
    "        shutil.copy(fname, destfname)\n",
    "    with open(os.path.join(directory, md_fname), 'w') as fout:\n",
    "        fout.write(md)\n",
    "    print(\"exported in \", os.path.join(directory, md_fname))\n",
    "    [print(\"    + \" + os.path.join(directory,fk)) for fk in fig_fnames]"
   ]
  },
  {
   "cell_type": "code",
   "execution_count": 8,
   "id": "014d04a4",
   "metadata": {
    "execution": {
     "iopub.execute_input": "2024-10-11T04:12:47.165669Z",
     "iopub.status.busy": "2024-10-11T04:12:47.165228Z",
     "iopub.status.idle": "2024-10-11T04:12:47.175097Z",
     "shell.execute_reply": "2024-10-11T04:12:47.174422Z"
    },
    "papermill": {
     "duration": 0.0162,
     "end_time": "2024-10-11T04:12:47.176225",
     "exception": false,
     "start_time": "2024-10-11T04:12:47.160025",
     "status": "completed"
    },
    "tags": []
   },
   "outputs": [
    {
     "name": "stdout",
     "output_type": "stream",
     "text": [
      "found figures ['tmp_2410.08116/./figures/W15_Tiberius_best_fit.png', 'tmp_2410.08116/./figures/W15_Eureka_best_fit.png', 'tmp_2410.08116/./figures/platon_corner_R100_Tiberius+Eureka_lowZ_solutions.png', 'tmp_2410.08116/./figures/platon_corner_R100_Tiberius+Eureka_lowZ_solutions.png', 'tmp_2410.08116/./figures/PLATON_forward+retrieved_models_Tiberius+Eureka_R100_best_fit.png', 'tmp_2410.08116/./figures/WASP-15b_Tiberius_R100_R400_Eureka_comparison_Sep24.png']\n",
      "copying  tmp_2410.08116/./figures/W15_Tiberius_best_fit.png to _build/html/\n",
      "copying  tmp_2410.08116/./figures/W15_Eureka_best_fit.png to _build/html/\n",
      "copying  tmp_2410.08116/./figures/platon_corner_R100_Tiberius+Eureka_lowZ_solutions.png to _build/html/\n",
      "copying  tmp_2410.08116/./figures/platon_corner_R100_Tiberius+Eureka_lowZ_solutions.png to _build/html/\n",
      "copying  tmp_2410.08116/./figures/PLATON_forward+retrieved_models_Tiberius+Eureka_R100_best_fit.png to _build/html/\n",
      "copying  tmp_2410.08116/./figures/WASP-15b_Tiberius_R100_R400_Eureka_comparison_Sep24.png to _build/html/\n",
      "exported in  _build/html/2410.08116.md\n",
      "    + _build/html/tmp_2410.08116/./figures/W15_Tiberius_best_fit.png\n",
      "    + _build/html/tmp_2410.08116/./figures/W15_Eureka_best_fit.png\n",
      "    + _build/html/tmp_2410.08116/./figures/platon_corner_R100_Tiberius+Eureka_lowZ_solutions.png\n",
      "    + _build/html/tmp_2410.08116/./figures/platon_corner_R100_Tiberius+Eureka_lowZ_solutions.png\n",
      "    + _build/html/tmp_2410.08116/./figures/PLATON_forward+retrieved_models_Tiberius+Eureka_R100_best_fit.png\n",
      "    + _build/html/tmp_2410.08116/./figures/WASP-15b_Tiberius_R100_R400_Eureka_comparison_Sep24.png\n"
     ]
    }
   ],
   "source": [
    "for paper_id, md in documents:\n",
    "    export_markdown_summary(md, f\"{paper_id:s}.md\", '_build/html/')"
   ]
  },
  {
   "cell_type": "markdown",
   "id": "f087a0a7",
   "metadata": {
    "papermill": {
     "duration": 0.00447,
     "end_time": "2024-10-11T04:12:47.185493",
     "exception": false,
     "start_time": "2024-10-11T04:12:47.181023",
     "status": "completed"
    },
    "tags": []
   },
   "source": [
    "## Display the papers\n",
    "\n",
    "Not necessary but allows for a quick check."
   ]
  },
  {
   "cell_type": "code",
   "execution_count": 9,
   "id": "fd25f625",
   "metadata": {
    "execution": {
     "iopub.execute_input": "2024-10-11T04:12:47.195724Z",
     "iopub.status.busy": "2024-10-11T04:12:47.195249Z",
     "iopub.status.idle": "2024-10-11T04:12:47.200143Z",
     "shell.execute_reply": "2024-10-11T04:12:47.199585Z"
    },
    "papermill": {
     "duration": 0.01136,
     "end_time": "2024-10-11T04:12:47.201328",
     "exception": false,
     "start_time": "2024-10-11T04:12:47.189968",
     "status": "completed"
    },
    "scrolled": false,
    "tags": []
   },
   "outputs": [
    {
     "data": {
      "text/markdown": [
       "<div class=\"macros\" style=\"visibility:hidden;\">\n",
       "$\\newcommand{\\ensuremath}{}$\n",
       "$\\newcommand{\\xspace}{}$\n",
       "$\\newcommand{\\object}[1]{\\texttt{#1}}$\n",
       "$\\newcommand{\\farcs}{{.}''}$\n",
       "$\\newcommand{\\farcm}{{.}'}$\n",
       "$\\newcommand{\\arcsec}{''}$\n",
       "$\\newcommand{\\arcmin}{'}$\n",
       "$\\newcommand{\\ion}[2]{#1#2}$\n",
       "$\\newcommand{\\textsc}[1]{\\textrm{#1}}$\n",
       "$\\newcommand{\\hl}[1]{\\textrm{#1}}$\n",
       "$\\newcommand{\\footnote}[1]{}$\n",
       "$\\newcommand{\\Rsun}{R_{\\odot}}$\n",
       "$\\newcommand{\\Msun}{M_{\\odot}}$\n",
       "$\\newcommand{\\Rjup}{R_{\\mathrm{J}}}$\n",
       "$\\newcommand{\\Mjup}{M_{\\mathrm{J}}}$\n",
       "$\\newcommand{\\Rp}{R_{\\mathrm{P}}}$\n",
       "$\\newcommand{\\Mp}{M_{\\mathrm{P}}}$\n",
       "$\\newcommand{\\Rs}{R_{\\mathrm{*}}}$\n",
       "$\\newcommand{\\Ms}{R_{\\mathrm{*}}}$\n",
       "$\\newcommand{\\Teq}{T_{\\mathrm{eq}}}$\n",
       "$\\newcommand{\\Teff}{T_{\\mathrm{eff}}}$\n",
       "$\\newcommand{◦ee}{^{\\circ}}$\n",
       "$\\newcommand{\\obliquity}{|\\lambda|}$</div>\n",
       "\n",
       "\n",
       "\n",
       "<div id=\"title\">\n",
       "\n",
       "# BOWIE-ALIGN: JWST reveals hints of planetesimal accretion and complex sulphur chemistry in the atmosphere of the misaligned hot Jupiter WASP-15b\n",
       "\n",
       "</div>\n",
       "<div id=\"comments\">\n",
       "\n",
       "[![arXiv](https://img.shields.io/badge/arXiv-2410.08116-b31b1b.svg)](https://arxiv.org/abs/2410.08116)<mark>Appeared on: 2024-10-11</mark> -  _24 pages, 23 figures, 6 tables. Submitted to MNRAS_\n",
       "\n",
       "</div>\n",
       "<div id=\"authors\">\n",
       "\n",
       "J. Kirk, et al. -- incl., <mark>E.-M. Ahrer</mark>, <mark>P. Molliere</mark>\n",
       "\n",
       "</div>\n",
       "<div id=\"abstract\">\n",
       "\n",
       "**Abstract:** We present a transmission spectrum of the misaligned hot Jupiter WASP-15b from 2.8--5.2 microns observed with JWST's NIRSpec/G395H grating. Our high signal to noise data, which has negligible red noise, reveals significant absorption by $H_2$ O ( $4.2\\sigma$ ) and $CO_2$ ( $8.9\\sigma$ ). From independent data reduction and atmospheric retrieval approaches, we infer that WASP-15b's atmospheric metallicity is super-solar ( $\\gtrsim 15\\times$ solar) and its C/O is consistent with solar, that together imply planetesimal accretion. Our GCM simulations for WASP-15b suggest that the C/O we measure at the limb is likely representative of the entire photosphere due to the mostly uniform spatial distribution of $\\ch{H2O}$ , $\\ch{CO2}$ and CO. We additionally see evidence for absorption by $SO_2$ and absorption at 4.9 $\\micron$ , for which the current leading candidate is OCS, albeit with several caveats. If confirmed, this would be the first detection of OCS in an exoplanet atmosphere and point towards complex photochemistry of sulphur-bearing species in the upper atmosphere. These are the first observations from the BOWIE-ALIGN survey which is using JWST's NIRSpec/G395H instrument to compare the atmospheric compositions of aligned/low-obliquity and misaligned/high-obliquity hot Jupiters around F stars above the Kraft break. The goal of our survey is to determine whether the atmospheric composition differs across two populations of planets that have likely undergone different migration histories (disc versus disc-free) as evidenced by their obliquities (aligned versus misaligned).\n",
       "\n",
       "</div>\n",
       "\n",
       "<div id=\"div_fig1\">\n",
       "\n",
       "<img src=\"tmp_2410.08116/./figures/W15_Tiberius_best_fit.png\" alt=\"Fig7.1\" width=\"50%\"/><img src=\"tmp_2410.08116/./figures/W15_Eureka_best_fit.png\" alt=\"Fig7.2\" width=\"50%\"/>\n",
       "\n",
       "**Figure 7. -** Best-fitting models from our \\texttt{petitRADTRANS} free chemistry (blue), equilibrium chemistry (orange), and hybrid chemistry (equilibrium chemistry plus free S-bearing species, green) retrievals, fitted to the \\texttt{Tiberius}$R=100$ reduction (top panel) and \\texttt{Eureka!}$R=100$ reduction (bottom panel). (*fig:prt_best_fit_models*)\n",
       "\n",
       "</div>\n",
       "<div id=\"div_fig2\">\n",
       "\n",
       "<img src=\"tmp_2410.08116/./figures/platon_corner_R100_Tiberius+Eureka_lowZ_solutions.png\" alt=\"Fig20.1\" width=\"33%\"/><img src=\"tmp_2410.08116/./figures/platon_corner_R100_Tiberius+Eureka_lowZ_solutions.png\" alt=\"Fig20.2\" width=\"33%\"/><img src=\"tmp_2410.08116/./figures/PLATON_forward+retrieved_models_Tiberius+Eureka_R100_best_fit.png\" alt=\"Fig20.3\" width=\"33%\"/>\n",
       "\n",
       "**Figure 20. -** The corner plot and best-fit models from our 1D chemical equilibrium atmosphere retrievals with \\texttt{PLATON} run on the $R=100$ spectra, after excluding the unphysically high metallicity solutions. The black contours correspond to the \\texttt{Tiberius} retrieval and the red contours to the \\texttt{Eureka!} retrieval. The vertical dashed lines indicate the 16th, 50th (median) and 84th percentiles, which are also given in the axes titles. (*fig:PLATON_corner_lowZ*)\n",
       "\n",
       "</div>\n",
       "<div id=\"div_fig3\">\n",
       "\n",
       "<img src=\"tmp_2410.08116/./figures/WASP-15b_Tiberius_R100_R400_Eureka_comparison_Sep24.png\" alt=\"Fig4\" width=\"100%\"/>\n",
       "\n",
       "**Figure 4. -** WASP-15b's transmission spectrum. Top panel: the comparison between the spectra obtained with \\texttt{Tiberius}(black) and \\texttt{Eureka!}(red) at $R=100$. The \\texttt{Eureka!} spectrum has been offset by -38 ppm to match the median transit depth of \\texttt{Tiberius}. Middle panel: The spectrum at $R=100$(black) and $R=400$(gray squares), both obtained with \\texttt{Tiberius}. Bottom panel: The spectrum at $R=100$(red) and $R=400$(light red squares), both obtained with \\texttt{Eureka!}. (*fig:trans_spec_R100_R400_comparison*)\n",
       "\n",
       "</div><div id=\"qrcode\"><img src=https://api.qrserver.com/v1/create-qr-code/?size=100x100&data=\"https://arxiv.org/abs/2410.08116\"></div>"
      ],
      "text/plain": [
       "<IPython.core.display.Markdown object>"
      ]
     },
     "metadata": {},
     "output_type": "display_data"
    }
   ],
   "source": [
    "[display(Markdown(k[1])) for k in documents];"
   ]
  },
  {
   "cell_type": "markdown",
   "id": "873873a4",
   "metadata": {
    "papermill": {
     "duration": 0.004776,
     "end_time": "2024-10-11T04:12:47.211250",
     "exception": false,
     "start_time": "2024-10-11T04:12:47.206474",
     "status": "completed"
    },
    "tags": []
   },
   "source": [
    "# Create HTML index"
   ]
  },
  {
   "cell_type": "code",
   "execution_count": 10,
   "id": "cf665672",
   "metadata": {
    "execution": {
     "iopub.execute_input": "2024-10-11T04:12:47.222178Z",
     "iopub.status.busy": "2024-10-11T04:12:47.221661Z",
     "iopub.status.idle": "2024-10-11T04:12:47.230157Z",
     "shell.execute_reply": "2024-10-11T04:12:47.229514Z"
    },
    "papermill": {
     "duration": 0.015182,
     "end_time": "2024-10-11T04:12:47.231165",
     "exception": false,
     "start_time": "2024-10-11T04:12:47.215983",
     "status": "completed"
    },
    "tags": []
   },
   "outputs": [
    {
     "name": "stdout",
     "output_type": "stream",
     "text": [
      "215  publications files modified in the last 7 days.\n"
     ]
    }
   ],
   "source": [
    "from datetime import datetime, timedelta, timezone\n",
    "from glob import glob\n",
    "import os\n",
    "\n",
    "files = glob('_build/html/*.md')\n",
    "days = 7\n",
    "now = datetime.today()\n",
    "res = []\n",
    "for fk in files:\n",
    "    stat_result = os.stat(fk).st_ctime\n",
    "    modified = datetime.fromtimestamp(stat_result, tz=timezone.utc).replace(tzinfo=None)\n",
    "    delta = now.today() - modified\n",
    "    if delta <= timedelta(days=days):\n",
    "        res.append((delta.seconds, fk))\n",
    "res = [k[1] for k in reversed(sorted(res, key=lambda x:x[1]))]\n",
    "npub = len(res)\n",
    "print(len(res), f\" publications files modified in the last {days:d} days.\")\n",
    "# [ print('\\t', k) for k in res ];"
   ]
  },
  {
   "cell_type": "code",
   "execution_count": 11,
   "id": "015de740",
   "metadata": {
    "execution": {
     "iopub.execute_input": "2024-10-11T04:12:47.242392Z",
     "iopub.status.busy": "2024-10-11T04:12:47.241920Z",
     "iopub.status.idle": "2024-10-11T04:12:47.258043Z",
     "shell.execute_reply": "2024-10-11T04:12:47.257406Z"
    },
    "papermill": {
     "duration": 0.02285,
     "end_time": "2024-10-11T04:12:47.259138",
     "exception": false,
     "start_time": "2024-10-11T04:12:47.236288",
     "status": "completed"
    },
    "tags": []
   },
   "outputs": [
    {
     "name": "stdout",
     "output_type": "stream",
     "text": [
      "10  publications in the last 7 days.\n"
     ]
    }
   ],
   "source": [
    "import datetime\n",
    "from glob import glob\n",
    "\n",
    "def get_last_n_days(lst, days=1):\n",
    "    \"\"\" Get the documents from the last n days \"\"\"\n",
    "    sorted_lst = sorted(lst, key=lambda x: x[1], reverse=True)\n",
    "    for fname, date in sorted_lst:\n",
    "        if date >= str(datetime.date.today() - datetime.timedelta(days=days)):\n",
    "            yield fname\n",
    "\n",
    "def extract_appearance_dates(lst_file):\n",
    "    dates = []\n",
    "\n",
    "    def get_date(line):\n",
    "        return line\\\n",
    "            .split('Appeared on:')[-1]\\\n",
    "            .split('</mark>')[0].strip()\n",
    "\n",
    "    for fname in lst:\n",
    "        with open(fname, 'r') as f:\n",
    "            found_date = False\n",
    "            for line in f:\n",
    "                if not found_date:\n",
    "                    if \"Appeared on\" in line:\n",
    "                        found_date = True\n",
    "                        dates.append((fname, get_date(line)))\n",
    "                else:\n",
    "                    break\n",
    "    return dates\n",
    "\n",
    "from glob import glob\n",
    "lst = glob('_build/html/*md')\n",
    "days = 7\n",
    "dates = extract_appearance_dates(lst)\n",
    "res = list(get_last_n_days(dates, days))\n",
    "npub = len(res)\n",
    "print(len(res), f\" publications in the last {days:d} days.\")"
   ]
  },
  {
   "cell_type": "code",
   "execution_count": 12,
   "id": "52ca0208",
   "metadata": {
    "execution": {
     "iopub.execute_input": "2024-10-11T04:12:47.270499Z",
     "iopub.status.busy": "2024-10-11T04:12:47.269992Z",
     "iopub.status.idle": "2024-10-11T04:12:47.275365Z",
     "shell.execute_reply": "2024-10-11T04:12:47.274773Z"
    },
    "papermill": {
     "duration": 0.012146,
     "end_time": "2024-10-11T04:12:47.276417",
     "exception": false,
     "start_time": "2024-10-11T04:12:47.264271",
     "status": "completed"
    },
    "scrolled": false,
    "tags": []
   },
   "outputs": [],
   "source": [
    "def create_carousel(npub=4):\n",
    "    \"\"\" Generate the HTML code for a carousel with `npub` slides \"\"\"\n",
    "    carousel = [\"\"\"  <div class=\"carousel\" \"\"\",\n",
    "                \"\"\"       data-flickity='{ \"autoPlay\": 10000, \"adaptiveHeight\": true, \"resize\": true, \"wrapAround\": true, \"pauseAutoPlayOnHover\": true, \"groupCells\": 1 }' id=\"asyncTypeset\">\"\"\"\n",
    "                ]\n",
    "    \n",
    "    item_str = \"\"\"    <div class=\"carousel-cell\"> <div id=\"slide{k}\" class=\"md_view\">Content {k}</div> </div>\"\"\"\n",
    "    for k in range(1, npub + 1):\n",
    "        carousel.append(item_str.format(k=k))\n",
    "    carousel.append(\"  </div>\")\n",
    "    return '\\n'.join(carousel)\n",
    "\n",
    "def create_grid(npub=4):\n",
    "    \"\"\" Generate the HTML code for a flat grid with `npub` slides \"\"\"\n",
    "    grid = [\"\"\"  <div class=\"grid\"> \"\"\",\n",
    "                ]\n",
    "    \n",
    "    item_str = \"\"\"    <div class=\"grid-item\"> <div id=\"slide{k}\" class=\"md_view\">Content {k}</div> </div>\"\"\"\n",
    "    for k in range(1, npub + 1):\n",
    "        grid.append(item_str.format(k=k))\n",
    "    grid.append(\"  </div>\")\n",
    "    return '\\n'.join(grid)"
   ]
  },
  {
   "cell_type": "code",
   "execution_count": 13,
   "id": "a6eac5b6",
   "metadata": {
    "execution": {
     "iopub.execute_input": "2024-10-11T04:12:47.287895Z",
     "iopub.status.busy": "2024-10-11T04:12:47.287448Z",
     "iopub.status.idle": "2024-10-11T04:12:47.292818Z",
     "shell.execute_reply": "2024-10-11T04:12:47.292251Z"
    },
    "papermill": {
     "duration": 0.01207,
     "end_time": "2024-10-11T04:12:47.293814",
     "exception": false,
     "start_time": "2024-10-11T04:12:47.281744",
     "status": "completed"
    },
    "scrolled": false,
    "tags": []
   },
   "outputs": [],
   "source": [
    "carousel = create_carousel(npub)\n",
    "docs = ', '.join(['\"{0:s}\"'.format(k.split('/')[-1]) for k in res])\n",
    "slides = ', '.join([f'\"slide{k}\"' for k in range(1, npub + 1)])\n",
    "\n",
    "with open(\"daily_template.html\", \"r\") as tpl:\n",
    "    page = tpl.read()\n",
    "    page = page.replace(\"{%-- carousel:s --%}\", carousel)\\\n",
    "               .replace(\"{%-- suptitle:s --%}\",  \"7-day archives\" )\\\n",
    "               .replace(\"{%-- docs:s --%}\", docs)\\\n",
    "               .replace(\"{%-- slides:s --%}\", slides)\n",
    "    \n",
    "with open(\"_build/html/index_7days.html\", 'w') as fout:\n",
    "    fout.write(page)"
   ]
  },
  {
   "cell_type": "code",
   "execution_count": 14,
   "id": "adc1a1ec",
   "metadata": {
    "execution": {
     "iopub.execute_input": "2024-10-11T04:12:47.305133Z",
     "iopub.status.busy": "2024-10-11T04:12:47.304687Z",
     "iopub.status.idle": "2024-10-11T04:12:47.311432Z",
     "shell.execute_reply": "2024-10-11T04:12:47.310794Z"
    },
    "papermill": {
     "duration": 0.013535,
     "end_time": "2024-10-11T04:12:47.312476",
     "exception": false,
     "start_time": "2024-10-11T04:12:47.298941",
     "status": "completed"
    },
    "tags": []
   },
   "outputs": [
    {
     "name": "stdout",
     "output_type": "stream",
     "text": [
      "5  publications in the last day.\n"
     ]
    }
   ],
   "source": [
    "# redo for today\n",
    "days = 1\n",
    "res = list(get_last_n_days(dates, days))\n",
    "npub = len(res)\n",
    "print(len(res), f\" publications in the last day.\")\n",
    "\n",
    "carousel = create_carousel(npub)\n",
    "docs = ', '.join(['\"{0:s}\"'.format(k.split('/')[-1]) for k in res])\n",
    "slides = ', '.join([f'\"slide{k}\"' for k in range(1, npub + 1)])\n",
    "\n",
    "with open(\"daily_template.html\", \"r\") as tpl:\n",
    "    page = tpl.read()\n",
    "    page = page.replace(\"{%-- carousel:s --%}\", carousel)\\\n",
    "               .replace(\"{%-- suptitle:s --%}\",  \"Daily\" )\\\n",
    "               .replace(\"{%-- docs:s --%}\", docs)\\\n",
    "               .replace(\"{%-- slides:s --%}\", slides)\n",
    "    \n",
    "# print(carousel, docs, slides)\n",
    "# print(page)\n",
    "with open(\"_build/html/index_daily.html\", 'w') as fout:\n",
    "    fout.write(page)"
   ]
  },
  {
   "cell_type": "code",
   "execution_count": 15,
   "id": "00eece82",
   "metadata": {
    "execution": {
     "iopub.execute_input": "2024-10-11T04:12:47.324474Z",
     "iopub.status.busy": "2024-10-11T04:12:47.323863Z",
     "iopub.status.idle": "2024-10-11T04:12:47.330763Z",
     "shell.execute_reply": "2024-10-11T04:12:47.330180Z"
    },
    "papermill": {
     "duration": 0.013973,
     "end_time": "2024-10-11T04:12:47.331800",
     "exception": false,
     "start_time": "2024-10-11T04:12:47.317827",
     "status": "completed"
    },
    "scrolled": false,
    "tags": []
   },
   "outputs": [
    {
     "name": "stdout",
     "output_type": "stream",
     "text": [
      "6  6 publications selected.\n"
     ]
    }
   ],
   "source": [
    "# Create the flat grid of the last N papers (fixed number regardless of dates)\n",
    "from itertools import islice \n",
    "\n",
    "npub = 6\n",
    "res = [k[0] for k in (islice(reversed(sorted(dates, key=lambda x: x[1])), 6))]\n",
    "print(len(res), f\" {npub} publications selected.\")\n",
    "\n",
    "grid = create_grid(npub)\n",
    "docs = ', '.join(['\"{0:s}\"'.format(k.split('/')[-1]) for k in res])\n",
    "slides = ', '.join([f'\"slide{k}\"' for k in range(1, npub + 1)])\n",
    "\n",
    "with open(\"grid_template.html\", \"r\") as tpl:\n",
    "    page = tpl.read()\n",
    "    page = page.replace(\"{%-- grid-content:s --%}\", grid)\\\n",
    "               .replace(\"{%-- suptitle:s --%}\",  f\"Last {npub:,d} papers\" )\\\n",
    "               .replace(\"{%-- docs:s --%}\", docs)\\\n",
    "               .replace(\"{%-- slides:s --%}\", slides)\n",
    "    \n",
    "# print(grid, docs, slides)\n",
    "# print(page)\n",
    "with open(\"_build/html/index_npub_grid.html\", 'w') as fout:\n",
    "    fout.write(page)"
   ]
  }
 ],
 "metadata": {
  "kernelspec": {
   "display_name": "Python 3 (ipykernel)",
   "language": "python",
   "name": "python3"
  },
  "language_info": {
   "codemirror_mode": {
    "name": "ipython",
    "version": 3
   },
   "file_extension": ".py",
   "mimetype": "text/x-python",
   "name": "python",
   "nbconvert_exporter": "python",
   "pygments_lexer": "ipython3",
   "version": "3.9.20"
  },
  "papermill": {
   "default_parameters": {},
   "duration": 121.260111,
   "end_time": "2024-10-11T04:12:47.654188",
   "environment_variables": {},
   "exception": null,
   "input_path": "MPIA daily digest.ipynb",
   "output_path": "log.ipynb",
   "parameters": {},
   "start_time": "2024-10-11T04:10:46.394077",
   "version": "2.6.0"
  },
  "vscode": {
   "interpreter": {
    "hash": "aee8b7b246df8f9039afb4144a1f6fd8d2ca17a180786b69acc140d282b71a49"
   }
  },
  "widgets": {
   "application/vnd.jupyter.widget-state+json": {
    "state": {
     "3fd725a9459c41afb3dedcbf5cf4c08c": {
      "model_module": "@jupyter-widgets/controls",
      "model_module_version": "2.0.0",
      "model_name": "HTMLStyleModel",
      "state": {
       "_model_module": "@jupyter-widgets/controls",
       "_model_module_version": "2.0.0",
       "_model_name": "HTMLStyleModel",
       "_view_count": null,
       "_view_module": "@jupyter-widgets/base",
       "_view_module_version": "2.0.0",
       "_view_name": "StyleView",
       "background": null,
       "description_width": "",
       "font_size": null,
       "text_color": null
      }
     },
     "4dfa4fab09524d309a5699a5f90e8f5a": {
      "model_module": "@jupyter-widgets/controls",
      "model_module_version": "2.0.0",
      "model_name": "HTMLStyleModel",
      "state": {
       "_model_module": "@jupyter-widgets/controls",
       "_model_module_version": "2.0.0",
       "_model_name": "HTMLStyleModel",
       "_view_count": null,
       "_view_module": "@jupyter-widgets/base",
       "_view_module_version": "2.0.0",
       "_view_name": "StyleView",
       "background": null,
       "description_width": "",
       "font_size": null,
       "text_color": null
      }
     },
     "52a6c11d799141d1b2315dd1e1501778": {
      "model_module": "@jupyter-widgets/controls",
      "model_module_version": "2.0.0",
      "model_name": "ProgressStyleModel",
      "state": {
       "_model_module": "@jupyter-widgets/controls",
       "_model_module_version": "2.0.0",
       "_model_name": "ProgressStyleModel",
       "_view_count": null,
       "_view_module": "@jupyter-widgets/base",
       "_view_module_version": "2.0.0",
       "_view_name": "StyleView",
       "bar_color": null,
       "description_width": ""
      }
     },
     "7c1d5d3bd13e426ebd3403ca514e2099": {
      "model_module": "@jupyter-widgets/base",
      "model_module_version": "2.0.0",
      "model_name": "LayoutModel",
      "state": {
       "_model_module": "@jupyter-widgets/base",
       "_model_module_version": "2.0.0",
       "_model_name": "LayoutModel",
       "_view_count": null,
       "_view_module": "@jupyter-widgets/base",
       "_view_module_version": "2.0.0",
       "_view_name": "LayoutView",
       "align_content": null,
       "align_items": null,
       "align_self": null,
       "border_bottom": null,
       "border_left": null,
       "border_right": null,
       "border_top": null,
       "bottom": null,
       "display": null,
       "flex": null,
       "flex_flow": null,
       "grid_area": null,
       "grid_auto_columns": null,
       "grid_auto_flow": null,
       "grid_auto_rows": null,
       "grid_column": null,
       "grid_gap": null,
       "grid_row": null,
       "grid_template_areas": null,
       "grid_template_columns": null,
       "grid_template_rows": null,
       "height": null,
       "justify_content": null,
       "justify_items": null,
       "left": null,
       "margin": null,
       "max_height": null,
       "max_width": null,
       "min_height": null,
       "min_width": null,
       "object_fit": null,
       "object_position": null,
       "order": null,
       "overflow": null,
       "padding": null,
       "right": null,
       "top": null,
       "visibility": null,
       "width": null
      }
     },
     "81bf6ff16f3a482680d6c3c6e895772d": {
      "model_module": "@jupyter-widgets/base",
      "model_module_version": "2.0.0",
      "model_name": "LayoutModel",
      "state": {
       "_model_module": "@jupyter-widgets/base",
       "_model_module_version": "2.0.0",
       "_model_name": "LayoutModel",
       "_view_count": null,
       "_view_module": "@jupyter-widgets/base",
       "_view_module_version": "2.0.0",
       "_view_name": "LayoutView",
       "align_content": null,
       "align_items": null,
       "align_self": null,
       "border_bottom": null,
       "border_left": null,
       "border_right": null,
       "border_top": null,
       "bottom": null,
       "display": null,
       "flex": null,
       "flex_flow": null,
       "grid_area": null,
       "grid_auto_columns": null,
       "grid_auto_flow": null,
       "grid_auto_rows": null,
       "grid_column": null,
       "grid_gap": null,
       "grid_row": null,
       "grid_template_areas": null,
       "grid_template_columns": null,
       "grid_template_rows": null,
       "height": null,
       "justify_content": null,
       "justify_items": null,
       "left": null,
       "margin": null,
       "max_height": null,
       "max_width": null,
       "min_height": null,
       "min_width": null,
       "object_fit": null,
       "object_position": null,
       "order": null,
       "overflow": null,
       "padding": null,
       "right": null,
       "top": null,
       "visibility": null,
       "width": null
      }
     },
     "96ae2a475da644d989fba0beb62333cf": {
      "model_module": "@jupyter-widgets/controls",
      "model_module_version": "2.0.0",
      "model_name": "FloatProgressModel",
      "state": {
       "_dom_classes": [],
       "_model_module": "@jupyter-widgets/controls",
       "_model_module_version": "2.0.0",
       "_model_name": "FloatProgressModel",
       "_view_count": null,
       "_view_module": "@jupyter-widgets/controls",
       "_view_module_version": "2.0.0",
       "_view_name": "ProgressView",
       "bar_style": "success",
       "description": "",
       "description_allow_html": false,
       "layout": "IPY_MODEL_81bf6ff16f3a482680d6c3c6e895772d",
       "max": 4.0,
       "min": 0.0,
       "orientation": "horizontal",
       "style": "IPY_MODEL_52a6c11d799141d1b2315dd1e1501778",
       "tabbable": null,
       "tooltip": null,
       "value": 4.0
      }
     },
     "a7d52c4e962b478fbc08839922fc55ec": {
      "model_module": "@jupyter-widgets/base",
      "model_module_version": "2.0.0",
      "model_name": "LayoutModel",
      "state": {
       "_model_module": "@jupyter-widgets/base",
       "_model_module_version": "2.0.0",
       "_model_name": "LayoutModel",
       "_view_count": null,
       "_view_module": "@jupyter-widgets/base",
       "_view_module_version": "2.0.0",
       "_view_name": "LayoutView",
       "align_content": null,
       "align_items": null,
       "align_self": null,
       "border_bottom": null,
       "border_left": null,
       "border_right": null,
       "border_top": null,
       "bottom": null,
       "display": null,
       "flex": null,
       "flex_flow": null,
       "grid_area": null,
       "grid_auto_columns": null,
       "grid_auto_flow": null,
       "grid_auto_rows": null,
       "grid_column": null,
       "grid_gap": null,
       "grid_row": null,
       "grid_template_areas": null,
       "grid_template_columns": null,
       "grid_template_rows": null,
       "height": null,
       "justify_content": null,
       "justify_items": null,
       "left": null,
       "margin": null,
       "max_height": null,
       "max_width": null,
       "min_height": null,
       "min_width": null,
       "object_fit": null,
       "object_position": null,
       "order": null,
       "overflow": null,
       "padding": null,
       "right": null,
       "top": null,
       "visibility": null,
       "width": null
      }
     },
     "b9118ec775d14476954efc3035f96dec": {
      "model_module": "@jupyter-widgets/controls",
      "model_module_version": "2.0.0",
      "model_name": "HBoxModel",
      "state": {
       "_dom_classes": [],
       "_model_module": "@jupyter-widgets/controls",
       "_model_module_version": "2.0.0",
       "_model_name": "HBoxModel",
       "_view_count": null,
       "_view_module": "@jupyter-widgets/controls",
       "_view_module_version": "2.0.0",
       "_view_name": "HBoxView",
       "box_style": "",
       "children": [
        "IPY_MODEL_ef93f81dd00d4991aafa8968a3f1597c",
        "IPY_MODEL_96ae2a475da644d989fba0beb62333cf",
        "IPY_MODEL_f6a7a5280d6c4b06b494b17283871198"
       ],
       "layout": "IPY_MODEL_bff46e275ea74252b7748e267b0f2390",
       "tabbable": null,
       "tooltip": null
      }
     },
     "bff46e275ea74252b7748e267b0f2390": {
      "model_module": "@jupyter-widgets/base",
      "model_module_version": "2.0.0",
      "model_name": "LayoutModel",
      "state": {
       "_model_module": "@jupyter-widgets/base",
       "_model_module_version": "2.0.0",
       "_model_name": "LayoutModel",
       "_view_count": null,
       "_view_module": "@jupyter-widgets/base",
       "_view_module_version": "2.0.0",
       "_view_name": "LayoutView",
       "align_content": null,
       "align_items": null,
       "align_self": null,
       "border_bottom": null,
       "border_left": null,
       "border_right": null,
       "border_top": null,
       "bottom": null,
       "display": null,
       "flex": null,
       "flex_flow": null,
       "grid_area": null,
       "grid_auto_columns": null,
       "grid_auto_flow": null,
       "grid_auto_rows": null,
       "grid_column": null,
       "grid_gap": null,
       "grid_row": null,
       "grid_template_areas": null,
       "grid_template_columns": null,
       "grid_template_rows": null,
       "height": null,
       "justify_content": null,
       "justify_items": null,
       "left": null,
       "margin": null,
       "max_height": null,
       "max_width": null,
       "min_height": null,
       "min_width": null,
       "object_fit": null,
       "object_position": null,
       "order": null,
       "overflow": null,
       "padding": null,
       "right": null,
       "top": null,
       "visibility": null,
       "width": null
      }
     },
     "ef93f81dd00d4991aafa8968a3f1597c": {
      "model_module": "@jupyter-widgets/controls",
      "model_module_version": "2.0.0",
      "model_name": "HTMLModel",
      "state": {
       "_dom_classes": [],
       "_model_module": "@jupyter-widgets/controls",
       "_model_module_version": "2.0.0",
       "_model_name": "HTMLModel",
       "_view_count": null,
       "_view_module": "@jupyter-widgets/controls",
       "_view_module_version": "2.0.0",
       "_view_name": "HTMLView",
       "description": "",
       "description_allow_html": false,
       "layout": "IPY_MODEL_7c1d5d3bd13e426ebd3403ca514e2099",
       "placeholder": "​",
       "style": "IPY_MODEL_4dfa4fab09524d309a5699a5f90e8f5a",
       "tabbable": null,
       "tooltip": null,
       "value": "100%"
      }
     },
     "f6a7a5280d6c4b06b494b17283871198": {
      "model_module": "@jupyter-widgets/controls",
      "model_module_version": "2.0.0",
      "model_name": "HTMLModel",
      "state": {
       "_dom_classes": [],
       "_model_module": "@jupyter-widgets/controls",
       "_model_module_version": "2.0.0",
       "_model_name": "HTMLModel",
       "_view_count": null,
       "_view_module": "@jupyter-widgets/controls",
       "_view_module_version": "2.0.0",
       "_view_name": "HTMLView",
       "description": "",
       "description_allow_html": false,
       "layout": "IPY_MODEL_a7d52c4e962b478fbc08839922fc55ec",
       "placeholder": "​",
       "style": "IPY_MODEL_3fd725a9459c41afb3dedcbf5cf4c08c",
       "tabbable": null,
       "tooltip": null,
       "value": " 4/4 [01:41&lt;00:00, 36.66s/it]"
      }
     }
    },
    "version_major": 2,
    "version_minor": 0
   }
  }
 },
 "nbformat": 4,
 "nbformat_minor": 5
}