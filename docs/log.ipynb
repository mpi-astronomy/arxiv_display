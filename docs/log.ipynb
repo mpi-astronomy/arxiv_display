{
 "cells": [
  {
   "cell_type": "markdown",
   "id": "92bcb855",
   "metadata": {
    "papermill": {
     "duration": 0.003946,
     "end_time": "2024-12-16T04:11:52.167097",
     "exception": false,
     "start_time": "2024-12-16T04:11:52.163151",
     "status": "completed"
    },
    "tags": []
   },
   "source": [
    "# MPIA Arxiv on Deck 2\n",
    "\n",
    "Contains the steps to produce the paper extractions."
   ]
  },
  {
   "cell_type": "code",
   "execution_count": 1,
   "id": "3a0d6e11",
   "metadata": {
    "execution": {
     "iopub.execute_input": "2024-12-16T04:11:52.174829Z",
     "iopub.status.busy": "2024-12-16T04:11:52.174342Z",
     "iopub.status.idle": "2024-12-16T04:11:52.685255Z",
     "shell.execute_reply": "2024-12-16T04:11:52.684633Z"
    },
    "papermill": {
     "duration": 0.516205,
     "end_time": "2024-12-16T04:11:52.686579",
     "exception": false,
     "start_time": "2024-12-16T04:11:52.170374",
     "status": "completed"
    },
    "tags": []
   },
   "outputs": [],
   "source": [
    "# Imports\n",
    "import os\n",
    "from IPython.display import Markdown, display\n",
    "from tqdm.notebook import tqdm\n",
    "import warnings\n",
    "from PIL import Image \n",
    "import re\n",
    "\n",
    "# requires arxiv_on_deck_2\n",
    "\n",
    "from arxiv_on_deck_2.arxiv2 import (get_new_papers, \n",
    "                                    get_paper_from_identifier,\n",
    "                                    retrieve_document_source, \n",
    "                                    get_markdown_badge)\n",
    "from arxiv_on_deck_2 import (latex,\n",
    "                             latex_bib,\n",
    "                             mpia,\n",
    "                             highlight_authors_in_list)\n",
    "\n",
    "# Sometimes images are really big\n",
    "Image.MAX_IMAGE_PIXELS = 1000000000 "
   ]
  },
  {
   "cell_type": "code",
   "execution_count": 2,
   "id": "22aa9d44",
   "metadata": {
    "execution": {
     "iopub.execute_input": "2024-12-16T04:11:52.694208Z",
     "iopub.status.busy": "2024-12-16T04:11:52.693723Z",
     "iopub.status.idle": "2024-12-16T04:11:52.701775Z",
     "shell.execute_reply": "2024-12-16T04:11:52.701241Z"
    },
    "papermill": {
     "duration": 0.012885,
     "end_time": "2024-12-16T04:11:52.702702",
     "exception": false,
     "start_time": "2024-12-16T04:11:52.689817",
     "status": "completed"
    },
    "tags": []
   },
   "outputs": [],
   "source": [
    "# Some useful definitions.\n",
    "\n",
    "class AffiliationWarning(UserWarning):\n",
    "    pass\n",
    "\n",
    "class AffiliationError(RuntimeError):\n",
    "    pass\n",
    "\n",
    "def validation(source: str):\n",
    "    \"\"\"Raises error paper during parsing of source file\n",
    "    \n",
    "    Allows checks before parsing TeX code.\n",
    "    \n",
    "    Raises AffiliationWarning\n",
    "    \"\"\"\n",
    "    check = mpia.affiliation_verifications(source, verbose=True)\n",
    "    if check is not True:\n",
    "        raise AffiliationError(\"mpia.affiliation_verifications: \" + check)\n",
    "\n",
    "        \n",
    "warnings.simplefilter('always', AffiliationWarning)\n",
    "\n",
    "\n",
    "def get_markdown_qrcode(paper_id: str):\n",
    "    \"\"\" Generate a qrcode to the arxiv page using qrserver.com\n",
    "    \n",
    "    :param paper: Arxiv paper\n",
    "    :returns: markdown text\n",
    "    \"\"\"\n",
    "    url = r\"https://api.qrserver.com/v1/create-qr-code/?size=100x100&data=\"\n",
    "    txt = f\"\"\"<img src={url}\"https://arxiv.org/abs/{paper_id}\">\"\"\"\n",
    "    txt = '<div id=\"qrcode\">' + txt + '</div>'\n",
    "    return txt\n",
    "\n",
    "\n",
    "def clean_non_western_encoded_characters_commands(text: str) -> str:\n",
    "    \"\"\" Remove non-western encoded characters from a string\n",
    "    List may need to grow.\n",
    "    \n",
    "    :param text: the text to clean\n",
    "    :return: the cleaned text\n",
    "    \"\"\"\n",
    "    text = re.sub(r\"(\\\\begin{CJK}{UTF8}{gbsn})(.*?)(\\\\end{CJK})\", r\"\\2\", text)\n",
    "    return text\n",
    "\n",
    "\n",
    "def get_initials(name: str) -> str:\n",
    "    \"\"\" Get the short name, e.g., A.-B. FamName\n",
    "    :param name: full name\n",
    "    :returns: initials\n",
    "    \"\"\"\n",
    "    initials = []\n",
    "    # account for non western names often in ()\n",
    "    if '(' in name:\n",
    "        name = clean_non_western_encoded_characters_commands(name)\n",
    "        suffix = re.findall(r\"\\((.*?)\\)\", name)[0]\n",
    "        name = name.replace(f\"({suffix})\", '')\n",
    "    else:\n",
    "        suffix = ''\n",
    "    split = name.split()\n",
    "    for token in split[:-1]:\n",
    "        if '-' in token:\n",
    "            current = '-'.join([k[0] + '.' for k in token.split('-')])\n",
    "        else:\n",
    "            current = token[0] + '.'\n",
    "        initials.append(current)\n",
    "    initials.append(split[-1].strip())\n",
    "    if suffix:\n",
    "        initials.append(f\"({suffix})\")\n",
    "    return ' '.join(initials)"
   ]
  },
  {
   "cell_type": "markdown",
   "id": "14bd6310",
   "metadata": {
    "papermill": {
     "duration": 0.003012,
     "end_time": "2024-12-16T04:11:52.708713",
     "exception": false,
     "start_time": "2024-12-16T04:11:52.705701",
     "status": "completed"
    },
    "tags": []
   },
   "source": [
    "## get list of arxiv paper candidates\n",
    "\n",
    "We use the MPIA mitarbeiter list webpage from mpia.de to get author names\n",
    "We then get all new papers from Arxiv and match authors"
   ]
  },
  {
   "cell_type": "code",
   "execution_count": 3,
   "id": "7ea813a8",
   "metadata": {
    "execution": {
     "iopub.execute_input": "2024-12-16T04:11:52.715550Z",
     "iopub.status.busy": "2024-12-16T04:11:52.715167Z",
     "iopub.status.idle": "2024-12-16T04:12:10.584871Z",
     "shell.execute_reply": "2024-12-16T04:12:10.584191Z"
    },
    "papermill": {
     "duration": 17.874688,
     "end_time": "2024-12-16T04:12:10.586332",
     "exception": false,
     "start_time": "2024-12-16T04:11:52.711644",
     "status": "completed"
    },
    "tags": []
   },
   "outputs": [],
   "source": [
    "# deal with the author list and edge cases of people that cannot be consistent on their name  \n",
    "\n",
    "def filter_non_scientists(name: str) -> bool:\n",
    "    \"\"\" Loose filter on expected authorships\n",
    "\n",
    "    removing IT, administration, technical staff\n",
    "    :param name: name\n",
    "    :returns: False if name is not a scientist\n",
    "    \"\"\"\n",
    "    remove_list = ['Licht', 'Binroth', 'Witzel', 'Jordan',\n",
    "                   'Zähringer', 'Scheerer', 'Hoffmann', 'Düe',\n",
    "                   'Hellmich', 'Enkler-Scharpegge', 'Witte-Nguy',\n",
    "                   'Dehen', 'Beckmann', 'Jager', 'Jäger'\n",
    "                  ]\n",
    "\n",
    "    for k in remove_list:\n",
    "        if k in name:\n",
    "            return False\n",
    "    return True\n",
    "\n",
    "def add_author_to_list(author_list: list) -> list:\n",
    "    \"\"\" Add author to list if not already in list\n",
    "    \n",
    "    :param author: author name\n",
    "    :param author_list: list of authors\n",
    "    :returns: updated list of authors\n",
    "    \"\"\"\n",
    "    add_list = ['T. Henning']\n",
    "\n",
    "    for author in add_list:\n",
    "        if author not in author_list:\n",
    "            author_list.append(author)\n",
    "    return author_list\n",
    "\n",
    "# get list from MPIA website\n",
    "# filter for non-scientists (mpia.get_mpia_mitarbeiter_list() does some filtering)\n",
    "mpia_authors = [k[1] for k in mpia.get_mpia_mitarbeiter_list() if filter_non_scientists(k[1])]\n",
    "# add some missing author because of inconsistencies in their MPIA name and author name on papers\n",
    "mpia_authors = add_author_to_list(mpia_authors)"
   ]
  },
  {
   "cell_type": "code",
   "execution_count": 4,
   "id": "2645e73a",
   "metadata": {
    "execution": {
     "iopub.execute_input": "2024-12-16T04:12:10.593824Z",
     "iopub.status.busy": "2024-12-16T04:12:10.593372Z",
     "iopub.status.idle": "2024-12-16T04:12:11.062750Z",
     "shell.execute_reply": "2024-12-16T04:12:11.062037Z"
    },
    "papermill": {
     "duration": 0.474113,
     "end_time": "2024-12-16T04:12:11.063766",
     "exception": false,
     "start_time": "2024-12-16T04:12:10.589653",
     "status": "completed"
    },
    "tags": []
   },
   "outputs": [
    {
     "name": "stdout",
     "output_type": "stream",
     "text": [
      "H. Korhonen  ->  H. Korhonen  |  ['H. Korhonen']\n",
      "S. Kraus  ->  S. Kraus  |  ['S. Kraus']\n",
      "D. Mortimer  ->  D. Mortimer  |  ['D. Mortimer']\n",
      "U. Dudzeviciute  ->  U. Dudzeviciute  |  ['U. Dudzeviciute']\n",
      "C. Clontz  ->  C. Clontz  |  ['C. Clontz']\n",
      "M. Häberle  ->  M. Häberle  |  ['M. Häberle']\n",
      "N. Neumayer  ->  N. Neumayer  |  ['N. Neumayer']\n",
      "J. Li  ->  J. Li  |  ['J. Li']\n",
      "X. Zhang  ->  X. Zhang  |  ['X. Zhang']\n",
      "Arxiv has 56 new papers today\n",
      "          6 with possible author matches\n"
     ]
    }
   ],
   "source": [
    "new_papers = get_new_papers()\n",
    "# add manual references\n",
    "add_paper_refs = []\n",
    "new_papers.extend([get_paper_from_identifier(k) for k in add_paper_refs])\n",
    "\n",
    "def robust_call(fn, value, *args, **kwargs):\n",
    "    try:\n",
    "        return fn(value, *args, **kwargs)\n",
    "    except Exception:\n",
    "        return value\n",
    "\n",
    "candidates = []\n",
    "for paperk in new_papers:\n",
    "    # Check author list with their initials\n",
    "    normed_author_list = [robust_call(mpia.get_initials, k) for k in paperk['authors']]\n",
    "    hl_authors = highlight_authors_in_list(normed_author_list, mpia_authors, verbose=True)\n",
    "    matches = [(hl, orig) for hl, orig in zip(hl_authors, paperk['authors']) if 'mark' in hl]\n",
    "    paperk['authors'] = hl_authors\n",
    "    if matches:\n",
    "        # only select paper if an author matched our list\n",
    "        candidates.append(paperk)\n",
    "print(\"\"\"Arxiv has {0:,d} new papers today\"\"\".format(len(new_papers)))        \n",
    "print(\"\"\"          {0:,d} with possible author matches\"\"\".format(len(candidates)))"
   ]
  },
  {
   "cell_type": "markdown",
   "id": "3543b34a",
   "metadata": {
    "papermill": {
     "duration": 0.003084,
     "end_time": "2024-12-16T04:12:11.070362",
     "exception": false,
     "start_time": "2024-12-16T04:12:11.067278",
     "status": "completed"
    },
    "tags": []
   },
   "source": [
    "# Parse sources and generate relevant outputs\n",
    "\n",
    "From the candidates, we do the following steps:\n",
    "* get their tarball from ArXiv (and extract data)\n",
    "* find the main .tex file: find one with \\documentclass{...} (sometimes it's non trivial)\n",
    "* Check affiliations with :func:`validation`, which uses :func:`mpia.affiliation_verifications`\n",
    "* If passing the affiliations: we parse the .tex source\n",
    "   * inject sub-documents into the main (flatten the main document)\n",
    "   * parse structure, extract information (title, abstract, authors, figures...)\n",
    "   * handles `\\graphicspath` if provided\n",
    "* Generate the .md document."
   ]
  },
  {
   "cell_type": "code",
   "execution_count": 5,
   "id": "9576b79e",
   "metadata": {
    "execution": {
     "iopub.execute_input": "2024-12-16T04:12:11.077645Z",
     "iopub.status.busy": "2024-12-16T04:12:11.077226Z",
     "iopub.status.idle": "2024-12-16T04:12:46.822087Z",
     "shell.execute_reply": "2024-12-16T04:12:46.821359Z"
    },
    "papermill": {
     "duration": 35.749648,
     "end_time": "2024-12-16T04:12:46.823089",
     "exception": false,
     "start_time": "2024-12-16T04:12:11.073441",
     "status": "completed"
    },
    "scrolled": false,
    "tags": []
   },
   "outputs": [
    {
     "data": {
      "application/vnd.jupyter.widget-view+json": {
       "model_id": "2430ac060c824eef9731719844b39127",
       "version_major": 2,
       "version_minor": 0
      },
      "text/plain": [
       "  0%|          | 0/6 [00:00<?, ?it/s]"
      ]
     },
     "metadata": {},
     "output_type": "display_data"
    },
    {
     "name": "stdout",
     "output_type": "stream",
     "text": [
      "Retrieving document from  https://arxiv.org/e-print/2412.09676\n"
     ]
    },
    {
     "name": "stdout",
     "output_type": "stream",
     "text": [
      "extracting tarball to tmp_2412.09676..."
     ]
    },
    {
     "name": "stdout",
     "output_type": "stream",
     "text": [
      " done.\n",
      "Retrieving document from  https://arxiv.org/e-print/2412.09720\n"
     ]
    },
    {
     "name": "stdout",
     "output_type": "stream",
     "text": [
      "extracting tarball to tmp_2412.09720..."
     ]
    },
    {
     "name": "stdout",
     "output_type": "stream",
     "text": [
      " done.\n",
      "Retrieving document from  https://arxiv.org/e-print/2412.09737\n"
     ]
    },
    {
     "name": "stderr",
     "output_type": "stream",
     "text": [
      "/opt/hostedtoolcache/Python/3.9.20/x64/lib/python3.9/site-packages/IPython/core/interactiveshell.py:3550: LatexWarning: Multiple tex files.\n",
      "\n",
      "  exec(code_obj, self.user_global_ns, self.user_ns)\n",
      "/opt/hostedtoolcache/Python/3.9.20/x64/lib/python3.9/site-packages/IPython/core/interactiveshell.py:3550: LatexWarning: Found documentclass in tmp_2412.09720/presubdwarf.tex\n",
      "\n",
      "  exec(code_obj, self.user_global_ns, self.user_ns)\n"
     ]
    },
    {
     "name": "stdout",
     "output_type": "stream",
     "text": [
      "extracting tarball to tmp_2412.09737..."
     ]
    },
    {
     "name": "stdout",
     "output_type": "stream",
     "text": [
      " done.\n"
     ]
    },
    {
     "name": "stderr",
     "output_type": "stream",
     "text": [
      "/opt/hostedtoolcache/Python/3.9.20/x64/lib/python3.9/site-packages/arxiv_on_deck_2/latex.py:132: LatexWarning: attempting recovering figure figure:SED\n",
      "  warnings.warn(LatexWarning(f'attempting recovering figure {image}'))\n",
      "/opt/hostedtoolcache/Python/3.9.20/x64/lib/python3.9/site-packages/arxiv_on_deck_2/latex.py:707: LatexWarning: Could not find graphic \\includegraphics[width=\\linewidth]{SED_2.png}{\\bf Figure \\ref{figure:SED}}\n",
      "  warnings.warn(LatexWarning(f\"Could not find graphic {k}\"))\n"
     ]
    },
    {
     "name": "stdout",
     "output_type": "stream",
     "text": [
      "Found 140 bibliographic references in tmp_2412.09737/as2cosmos.bbl.\n",
      "Issues with the citations\n",
      "syntax error in line 536: '=' expected\n",
      "Retrieving document from  https://arxiv.org/e-print/2412.09783\n"
     ]
    },
    {
     "name": "stdout",
     "output_type": "stream",
     "text": [
      "extracting tarball to tmp_2412.09783..."
     ]
    },
    {
     "name": "stdout",
     "output_type": "stream",
     "text": [
      " done.\n"
     ]
    },
    {
     "name": "stdout",
     "output_type": "stream",
     "text": [
      "C. Clontz  ->  C. Clontz  |  ['C. Clontz']\n",
      "M. Häberle  ->  M. Häberle  |  ['M. Häberle']\n",
      "N. Neumayer  ->  N. Neumayer  |  ['N. Neumayer']\n"
     ]
    },
    {
     "name": "stdout",
     "output_type": "stream",
     "text": [
      "Found 53 bibliographic references in tmp_2412.09783/main.bbl.\n",
      "Retrieving document from  https://arxiv.org/e-print/2412.09823\n"
     ]
    },
    {
     "name": "stdout",
     "output_type": "stream",
     "text": [
      "extracting tarball to tmp_2412.09823..."
     ]
    },
    {
     "name": "stdout",
     "output_type": "stream",
     "text": [
      " done.\n",
      "Retrieving document from  https://arxiv.org/e-print/2412.09864\n"
     ]
    },
    {
     "name": "stdout",
     "output_type": "stream",
     "text": [
      "extracting tarball to tmp_2412.09864..."
     ]
    },
    {
     "name": "stdout",
     "output_type": "stream",
     "text": [
      " done.\n"
     ]
    }
   ],
   "source": [
    "documents = []\n",
    "failed = []\n",
    "for paper in tqdm(candidates):\n",
    "    # debug crap\n",
    "    paper['identifier'] = paper['identifier'].lower().replace('arxiv:', '').replace(r'\\n', '').strip()\n",
    "    paper_id = paper['identifier']\n",
    "    \n",
    "    folder = f'tmp_{paper_id}'\n",
    "\n",
    "    try:\n",
    "        if not os.path.isdir(folder):\n",
    "            folder = retrieve_document_source(f\"{paper_id}\", f'tmp_{paper_id}')\n",
    "        \n",
    "        try:\n",
    "            doc = latex.LatexDocument(folder, validation=validation)    \n",
    "        except AffiliationError as affilerror:\n",
    "            msg = f\"ArXiv:{paper_id:s} is not an MPIA paper... \" + str(affilerror)\n",
    "            failed.append((paper, \"affiliation error: \" + str(affilerror) ))\n",
    "            continue\n",
    "        \n",
    "        # Hack because sometimes author parsing does not work well\n",
    "        if (len(doc.authors) != len(paper['authors'])):\n",
    "            doc._authors = paper['authors']\n",
    "        else:\n",
    "            # highlight authors (FIXME: doc.highlight_authors)\n",
    "            # done on arxiv paper already\n",
    "            doc._authors = highlight_authors_in_list(\n",
    "                [get_initials(k) for k in doc.authors], \n",
    "                mpia_authors, verbose=True)\n",
    "        if (doc.abstract) in (None, ''):\n",
    "            doc._abstract = paper['abstract']\n",
    "            \n",
    "        doc.comment = (get_markdown_badge(paper_id) + \n",
    "                       \"<mark>Appeared on: \" + paper['date'] + \"</mark> - \")\n",
    "        if paper['comments']:\n",
    "            doc.comment += \" _\" + paper['comments'] + \"_\"\n",
    "        \n",
    "        full_md = doc.generate_markdown_text()\n",
    "        \n",
    "        full_md += get_markdown_qrcode(paper_id)\n",
    "        \n",
    "        # replace citations\n",
    "        try:\n",
    "            bibdata = latex_bib.LatexBib.from_doc(doc)\n",
    "            full_md = latex_bib.replace_citations(full_md, bibdata)\n",
    "        except Exception as e:\n",
    "            print(\"Issues with the citations\")\n",
    "            print(e)\n",
    "        \n",
    "        documents.append((paper_id, full_md))\n",
    "    except Exception as e:\n",
    "        warnings.warn(latex.LatexWarning(f\"{paper_id:s} did not run properly\\n\" +\n",
    "                                         str(e)\n",
    "                                        ))\n",
    "        failed.append((paper, \"latex error \" + str(e)))"
   ]
  },
  {
   "cell_type": "markdown",
   "id": "2505a25c",
   "metadata": {
    "papermill": {
     "duration": 0.004122,
     "end_time": "2024-12-16T04:12:46.831679",
     "exception": false,
     "start_time": "2024-12-16T04:12:46.827557",
     "status": "completed"
    },
    "tags": []
   },
   "source": [
    "### Export the logs\n",
    "\n",
    "Throughout, we also keep track of the logs per paper. see `logs-{today date}.md` "
   ]
  },
  {
   "cell_type": "code",
   "execution_count": 6,
   "id": "d733828a",
   "metadata": {
    "execution": {
     "iopub.execute_input": "2024-12-16T04:12:46.840588Z",
     "iopub.status.busy": "2024-12-16T04:12:46.840371Z",
     "iopub.status.idle": "2024-12-16T04:12:46.857532Z",
     "shell.execute_reply": "2024-12-16T04:12:46.856990Z"
    },
    "papermill": {
     "duration": 0.022857,
     "end_time": "2024-12-16T04:12:46.858514",
     "exception": false,
     "start_time": "2024-12-16T04:12:46.835657",
     "status": "completed"
    },
    "scrolled": false,
    "tags": []
   },
   "outputs": [
    {
     "data": {
      "text/markdown": [
       "## Successful papers"
      ],
      "text/plain": [
       "<IPython.core.display.Markdown object>"
      ]
     },
     "metadata": {},
     "output_type": "display_data"
    },
    {
     "data": {
      "text/markdown": [
       "\n",
       "|||\n",
       "|---:|:---|\n",
       "| [![arXiv](https://img.shields.io/badge/arXiv-2412.09737-b31b1b.svg)](https://arxiv.org/abs/2412.09737) | **ALMA/SCUBA-2 COSMOS Survey: Properties of X-ray- and SED-selected AGNs in Bright Submillimeter Galaxies**  |\n",
       "|| R. Uematsu, et al. -- incl., <mark>U. Dudzeviciute</mark> |\n",
       "|*Appeared on*| *2024-12-16*|\n",
       "|*Comments*| *37 pages, 21 figures, accepted for The Astrophysical Journal*|\n",
       "|**Abstract**|            We investigate the properties of active galactic nuclei (AGNs) in the brightest submillimeter galaxies (SMGs) in the COSMOS field. We utilize the bright sample of ALMA/SCUBA-2 COSMOS Survey (AS2COSMOS), which consists of 260 SMGs with $S_{\\mathrm{870}\\, \\mu \\mathrm{m}}=0.7\\text{--}19.2\\,\\mathrm{mJy}$ at $z=0\\text{--}6$. We perform optical to millimeter spectral energy distribution (SED) modeling for the whole sample. We identify 24 AGN-host galaxies from the SEDs. Supplemented by 23 X-ray detected AGNs (X-ray AGNs), we construct an overall sample of 40 AGN-host galaxies. The X-ray luminosity upper bounds indicate that the X-ray undetected SED-identified AGNs are likely to be nearly Compton thick or have unusually suppressed X-ray emission. From visual classification, we identify $25^{+6}_{-5}$\\% of the SMGs without AGNs as major merger candidates. This fraction is almost consistent with the general galaxy population at $z\\sim2$, suggesting that major mergers are not necessarily required for the enhanced star formation in SMGs. We also identify $47^{+16}_{-15}$\\% of the AGN hosts as major merger candidates, which is about twice as high as that in the SMGs without AGNs. This suggests that major mergers play a key role in triggering AGN activity in bright SMGs.         |"
      ],
      "text/plain": [
       "[2412.09737] ALMA/SCUBA-2 COSMOS Survey: Properties of X-ray- and SED-selected AGNs in Bright Submillimeter Galaxies\n",
       "\tR. Uematsu, et al. -- incl., <mark>U. Dudzeviciute</mark>"
      ]
     },
     "metadata": {},
     "output_type": "display_data"
    },
    {
     "data": {
      "text/markdown": [
       "\n",
       "|||\n",
       "|---:|:---|\n",
       "| [![arXiv](https://img.shields.io/badge/arXiv-2412.09783-b31b1b.svg)](https://arxiv.org/abs/2412.09783) | **oMEGACat V: Helium Enrichment in $\\omega$ Centauri as a Function of Metallicity**  |\n",
       "|| <mark>C. Clontz</mark>, et al. -- incl., <mark>M. Häberle</mark>, <mark>N. Neumayer</mark> |\n",
       "|*Appeared on*| *2024-12-16*|\n",
       "|*Comments*| **|\n",
       "|**Abstract**|            Constraining the helium enhancement in stars is critical for understanding the formation mechanisms of multiple populations in star clusters. However, measuring helium variations for many stars within a cluster remains observationally challenging. We use Hubble Space Telescope photometry combined with MUSE spectroscopic data for over 7,200 red-giant branch stars in \\omc\\ to measure helium differences between distinct groups of stars as a function of metallicity separating the impact of helium enhancements from other abundance variations on the pseudo-color (chromosome) diagrams. Our results show that stars at all metallicities have subpopulations with significant helium enhancement ($\\Delta Y_{min} \\gtrsim$ 0.11). We find a rapid increase in helium enhancement from low metallicities ($\\rm{[Fe/H] \\simeq -2.05}$ to $\\rm{[Fe/H] \\simeq -1.92})$, with this enhancement leveling out at \\deltay\\ $= 0.154$ at higher metallicities. The fraction of helium-enhanced stars steadily increases with metallicity ranging from 10\\% at $\\rm{[Fe/H] \\simeq -2.04}$ to over $90\\%$ at $\\rm{[Fe/H] \\simeq -1.04}$. This study is the first to examine helium enhancement across the full range of metallicities in \\omc{}, providing new insight into its formation history and additional constraints on enrichment mechanisms.         |"
      ],
      "text/plain": [
       "[2412.09783] oMEGACat V: Helium Enrichment in $\\omega$ Centauri as a Function of Metallicity\n",
       "\t<mark>C. Clontz</mark>, et al. -- incl., <mark>M. Häberle</mark>, <mark>N. Neumayer</mark>"
      ]
     },
     "metadata": {},
     "output_type": "display_data"
    },
    {
     "data": {
      "text/markdown": [
       "## Failed papers"
      ],
      "text/plain": [
       "<IPython.core.display.Markdown object>"
      ]
     },
     "metadata": {},
     "output_type": "display_data"
    },
    {
     "data": {
      "text/markdown": [
       "\n",
       "|||\n",
       "|---:|:---|\n",
       "| [![arXiv](https://img.shields.io/badge/arXiv-2412.09720-b31b1b.svg)](https://arxiv.org/abs/2412.09720) | **Newborn Be star systems observed shortly after mass transfer**  |\n",
       "|| T. Rivinius, et al. -- incl., <mark>S. Kraus</mark>, <mark>D. Mortimer</mark> |\n",
       "|*Appeared on*| *2024-12-16*|\n",
       "|*Comments*| *Accepted for publication by A&A*|\n",
       "|**Abstract**|            Many classical Be stars acquire their very rapid rotation by mass and angular-momentum transfer in massive binaries. Short-lived intermediate-phase objects have only been discovered recently. Data archives and the literature have been searched for additional candidates exhibiting this patterns. Thirteen candidates were identified at various confidence levels. Adding to the two known systems identified as classical Be star+pre-subdwarf binaries (LB-1 and HR6819), two more (V742Cas, HD44637) could be confirmed with interferometry, with V742Cas setting a new record for the smallest visually observed angular semi-major axis, at a=0.663mas. Two further ones (V447Sct, V1362Cyg) are not resolved interferometrically, but other evidence puts them at the same confidence level as LB-1. V2174Cyg is a candidate with very high confidence, but was not observed interferometrically. The remaining ones are either candidates with varying levels of confidence. Of a mostly magnitude complete sample of 328 Be stars, 0.5-1% are found to have recently completed the mass overflow that led to their formation. Another 5% are systems with compact subdwarf companions, i.e., further evolved after a previous overflow, and possibly two more percent harbor white dwarfs. All these systems are of early B-subtypes, however, and if the original sample is restricted to early subtypes (136 objects), these percentages increase by a factor of about 2.5, while dropping to zero for the mid and late subtypes (together 204 objects). This strongly suggests that early- vs. mid- and late-type Be stars have differently weighted channels to acquire their rapid rotation, namely binary interaction vs. evolutionary spin-up.         |\n",
       "|<p style=\"color:green\"> **ERROR** </p>| <p style=\"color:green\">affiliation error: mpia.affiliation_verifications: 'Heidelberg' keyword not found.</p> |"
      ],
      "text/plain": [
       "<IPython.core.display.Markdown object>"
      ]
     },
     "metadata": {},
     "output_type": "display_data"
    },
    {
     "data": {
      "text/markdown": [
       "\n",
       "|||\n",
       "|---:|:---|\n",
       "| [![arXiv](https://img.shields.io/badge/arXiv-2412.09823-b31b1b.svg)](https://arxiv.org/abs/2412.09823) | **3 mm Spectroscopic Observations of Massive Star-Forming Regions with IRAM 30-m**  |\n",
       "|| X. Xu, et al. -- incl., <mark>J. Li</mark> |\n",
       "|*Appeared on*| *2024-12-16*|\n",
       "|*Comments*| *22 pages, 3 figures, 14 tables, accepted for publication in PASJ*|\n",
       "|**Abstract**|            Broadband spectroscopic observations with high sensitivity provide an unbiased way to detect emissions of molecules in space. We present deep observations from ~ 105.8 GHz to 113.6 GHz toward 50 Galactic massive star-forming regions using IRAM 30-m millimeter telescope, with noise levels ranging from 6 to 29 at frequency channel spacing of 195 kHz, which corresponds to ~ 0.54 km/s at 110 GHz. Totally, 27 molecular species have been identified, of which 16 are complex organic molecules. The related parameters, such as peak temperature, integrated intensity, and line width of the identified molecular lines were obtained. The line widths of the chemically related molecules show strong positive correlations, suggesting they likely originate from similar gases within star-forming regions. This work highlights the fundamental properties of the detected molecular lines and offers a valuable dataset for further studies on the astrochemical evolution of molecules in massive star-forming cores.         |\n",
       "|<p style=\"color:green\"> **ERROR** </p>| <p style=\"color:green\">affiliation error: mpia.affiliation_verifications: 'Heidelberg' keyword not found.</p> |"
      ],
      "text/plain": [
       "<IPython.core.display.Markdown object>"
      ]
     },
     "metadata": {},
     "output_type": "display_data"
    },
    {
     "data": {
      "text/markdown": [
       "\n",
       "|||\n",
       "|---:|:---|\n",
       "| [![arXiv](https://img.shields.io/badge/arXiv-2412.09864-b31b1b.svg)](https://arxiv.org/abs/2412.09864) | **The Three Hundred Project: The relationship between the shock and splashback radii of simulated galaxy clusters**  |\n",
       "|| M. Zhang, et al. -- incl., <mark>X. Zhang</mark> |\n",
       "|*Appeared on*| *2024-12-16*|\n",
       "|*Comments*| *11 pages, 6 figures; accepted for publication in the Publications of the Astronomical Society of Australia (PASA)*|\n",
       "|**Abstract**|            Observations of the intracluster medium (ICM) in the outskirts of galaxy clusters reveal shocks associated with gas accretion from the cosmic web. Previous work based on non-radiative cosmological hydrodynamical simulations have defined the shock radius, $r_\\text{shock}$, using the ICM entropy, $K \\propto T/{n_\\mathrm{e}}^{2/3}$, where $T$ and $n_\\text{e}$ are the ICM temperature and electron density respectively; the $r_\\text{shock}$ is identified with either the radius at which $K$ is a maximum or at which its logarithmic slope is a minimum. We investigate the relationship between $r_\\text{shock}$, which is driven by gravitational hydrodynamics and shocks, and the splashback radius, $r_\\text{splash}$, which is driven by the gravitational dynamics of cluster stars and dark matter and is measured from their mass profile. Using 324 clusters from {\\small The Three Hundred} project of cosmological galaxy formation simulations, we quantify statistically how $r_\\text{shock}$ relates to $r_\\text{splash}$. Depending on our definition, we find that the median $r_\\text{shock} \\simeq 1.38 r_\\text{splash} (2.58 R_{200})$ when $K$ reaches its maximum and $r_\\text{shock} \\simeq 1.91 r_\\text{splash} (3.54 R_{200})$ when its logarithmic slope is a minimum; the best-fit linear relation increases as $r_\\text{shock} \\propto 0.65 r_\\text{splash}$. We find that $r_\\text{shock}/R_{200}$ and $r_\\text{splash}/R_{200}$ anti-correlate with virial mass, $M_{200}$, and recent mass accretion history, and $r_\\text{shock}/r_\\text{splash}$ tends to be larger for clusters with higher recent accretion rates. We discuss prospects for measuring $r_\\text{shock}$ observationally and how the relationship between $r_\\text{shock}$ and $r_\\text{splash}$ can be used to improve constraints from radio, X-ray, and thermal Sunyaev-Zeldovich surveys that target the interface between the cosmic web and clusters.         |\n",
       "|<p style=\"color:green\"> **ERROR** </p>| <p style=\"color:green\">affiliation error: mpia.affiliation_verifications: 'Heidelberg' keyword not found.</p> |"
      ],
      "text/plain": [
       "<IPython.core.display.Markdown object>"
      ]
     },
     "metadata": {},
     "output_type": "display_data"
    },
    {
     "data": {
      "text/markdown": [
       "\n",
       "|||\n",
       "|---:|:---|\n",
       "| [![arXiv](https://img.shields.io/badge/arXiv-2412.09676-b31b1b.svg)](https://arxiv.org/abs/2412.09676) | **OGLE-2015-BLG-1609Lb: Sub-jovian planet orbiting a low-mass stellar or brown dwarf host**  |\n",
       "|| M. Mróz, et al. -- incl., <mark>H. Korhonen</mark> |\n",
       "|*Appeared on*| *2024-12-16*|\n",
       "|*Comments*| *12 pages, 7 figures*|\n",
       "|**Abstract**|            We present a comprehensive analysis of a planetary microlensing event OGLE-2015-BLG-1609. The planetary anomaly was detected by two survey telescopes, OGLE and MOA. Each of these surveys collected enough data over the planetary anomaly to allow for an unambiguous planet detection. Such survey detections of planetary anomalies are needed to build a robust sample of planets that could improve studies on the microlensing planetary occurrence rate by reducing biases and statistical uncertainties. In this work, we examined different methods for modeling microlensing events using individual datasets, particularly we incorporated a Galactic model prior to better constrain poorly defined microlensing parallax. Ultimately, we fitted a comprehensive model to all available data, identifying three potential typologies, with two showing comparably high Bayesian evidence. Our analysis indicates that the host of the planet is a brown dwarf with a probability of 34%, or a low-mass stellar object (M-dwarf) with the probability of 66%.         |\n",
       "|<p style=\"color:green\"> **ERROR** </p>| <p style=\"color:green\">affiliation error: mpia.affiliation_verifications: 'Planck' keyword not found.</p> |"
      ],
      "text/plain": [
       "<IPython.core.display.Markdown object>"
      ]
     },
     "metadata": {},
     "output_type": "display_data"
    }
   ],
   "source": [
    "import datetime\n",
    "today = str(datetime.date.today())\n",
    "logfile = f\"_build/html/logs/log-{today}.md\"\n",
    "\n",
    "\n",
    "with open(logfile, 'w') as logs:\n",
    "    # Success\n",
    "    logs.write(f'# Arxiv on Deck 2: Logs - {today}\\n\\n')\n",
    "    logs.write(\"\"\"* Arxiv had {0:,d} new papers\\n\"\"\".format(len(new_papers)))\n",
    "    logs.write(\"\"\"    * {0:,d} with possible author matches\\n\\n\"\"\".format(len(candidates)))\n",
    "    logs.write(\"## Sucessful papers\\n\\n\")\n",
    "    display(Markdown(\"## Successful papers\"))\n",
    "    success = [k[0] for k in documents]\n",
    "    for candid in candidates:\n",
    "        if candid['identifier'].split(':')[-1] in success:\n",
    "            display(candid)\n",
    "            logs.write(candid.generate_markdown_text() + '\\n\\n')\n",
    "\n",
    "    ## failed\n",
    "    logs.write(\"## Failed papers\\n\\n\")\n",
    "    display(Markdown(\"## Failed papers\"))\n",
    "    failed = sorted(failed, key=lambda x: x[1])\n",
    "    current_reason = \"\"\n",
    "    for paper, reason in failed:\n",
    "        if 'affiliation' in reason:\n",
    "            color = 'green'\n",
    "        else:\n",
    "            color = 'red'\n",
    "        data = Markdown(\n",
    "                paper.generate_markdown_text() + \n",
    "                f'\\n|<p style=\"color:{color:s}\"> **ERROR** </p>| <p style=\"color:{color:s}\">{reason:s}</p> |'\n",
    "               )\n",
    "        if reason != current_reason:\n",
    "            logs.write(f'### {reason:s} \\n\\n')\n",
    "            current_reason = reason\n",
    "        logs.write(data.data + '\\n\\n')\n",
    "        \n",
    "        # only display here the important errors (all in logs)\n",
    "        # if color in ('red',):\n",
    "        display(data)"
   ]
  },
  {
   "cell_type": "markdown",
   "id": "472d20ee",
   "metadata": {
    "papermill": {
     "duration": 0.004781,
     "end_time": "2024-12-16T04:12:46.868199",
     "exception": false,
     "start_time": "2024-12-16T04:12:46.863418",
     "status": "completed"
    },
    "tags": []
   },
   "source": [
    "## Export documents\n",
    "\n",
    "We now write the .md files and export relevant images"
   ]
  },
  {
   "cell_type": "code",
   "execution_count": 7,
   "id": "d426aed9",
   "metadata": {
    "execution": {
     "iopub.execute_input": "2024-12-16T04:12:46.878787Z",
     "iopub.status.busy": "2024-12-16T04:12:46.878366Z",
     "iopub.status.idle": "2024-12-16T04:12:46.885249Z",
     "shell.execute_reply": "2024-12-16T04:12:46.884591Z"
    },
    "papermill": {
     "duration": 0.013349,
     "end_time": "2024-12-16T04:12:46.886326",
     "exception": false,
     "start_time": "2024-12-16T04:12:46.872977",
     "status": "completed"
    },
    "tags": []
   },
   "outputs": [],
   "source": [
    "def export_markdown_summary(md: str, md_fname:str, directory: str):\n",
    "    \"\"\"Export MD document and associated relevant images\"\"\"\n",
    "    import os\n",
    "    import shutil\n",
    "    import re\n",
    "\n",
    "    if (os.path.exists(directory) and not os.path.isdir(directory)):\n",
    "        raise RuntimeError(f\"a non-directory file exists with name {directory:s}\")\n",
    "\n",
    "    if (not os.path.exists(directory)):\n",
    "        print(f\"creating directory {directory:s}\")\n",
    "        os.mkdir(directory)\n",
    "\n",
    "    fig_fnames = (re.compile(r'\\[Fig.*\\]\\((.*)\\)').findall(md) + \n",
    "                  re.compile(r'\\<img src=\"([^>\\s]*)\"[^>]*/>').findall(md))\n",
    "    print(\"found figures\", fig_fnames)\n",
    "    for fname in fig_fnames:\n",
    "        if 'http' in fname:\n",
    "            # No need to copy online figures\n",
    "            continue\n",
    "        if not os.path.exists(fname):\n",
    "            print(\"file not found\", fname)\n",
    "            continue\n",
    "        print(\"copying \", fname, \"to\", directory)\n",
    "        destdir = os.path.join(directory, os.path.dirname(fname))\n",
    "        destfname = os.path.join(destdir, os.path.basename(fname))\n",
    "        try:\n",
    "            os.makedirs(destdir)\n",
    "        except FileExistsError:\n",
    "            pass\n",
    "        shutil.copy(fname, destfname)\n",
    "    with open(os.path.join(directory, md_fname), 'w') as fout:\n",
    "        fout.write(md)\n",
    "    print(\"exported in \", os.path.join(directory, md_fname))\n",
    "    [print(\"    + \" + os.path.join(directory,fk)) for fk in fig_fnames]"
   ]
  },
  {
   "cell_type": "code",
   "execution_count": 8,
   "id": "014d04a4",
   "metadata": {
    "execution": {
     "iopub.execute_input": "2024-12-16T04:12:46.897029Z",
     "iopub.status.busy": "2024-12-16T04:12:46.896662Z",
     "iopub.status.idle": "2024-12-16T04:12:46.913480Z",
     "shell.execute_reply": "2024-12-16T04:12:46.912849Z"
    },
    "papermill": {
     "duration": 0.023221,
     "end_time": "2024-12-16T04:12:46.914488",
     "exception": false,
     "start_time": "2024-12-16T04:12:46.891267",
     "status": "completed"
    },
    "tags": []
   },
   "outputs": [
    {
     "name": "stdout",
     "output_type": "stream",
     "text": [
      "found figures ['tmp_2412.09737/./grid_miri.png', 'tmp_2412.09737/./hist_separation.png', 'tmp_2412.09737/./ximage.png']\n",
      "copying  tmp_2412.09737/./grid_miri.png to _build/html/\n",
      "copying  tmp_2412.09737/./hist_separation.png to _build/html/\n",
      "copying  tmp_2412.09737/./ximage.png to _build/html/\n",
      "exported in  _build/html/2412.09737.md\n",
      "    + _build/html/tmp_2412.09737/./grid_miri.png\n",
      "    + _build/html/tmp_2412.09737/./hist_separation.png\n",
      "    + _build/html/tmp_2412.09737/./ximage.png\n",
      "found figures ['tmp_2412.09783/./figures/helium_ruler_creation_3_panels_v3.png', 'tmp_2412.09783/./figures/helium_ruler_results.png', 'tmp_2412.09783/./figures/stream_wise_results_2_panel_v3.png', 'tmp_2412.09783/./figures/chromosome_map_colored_by_feh_v3.png']\n",
      "copying  tmp_2412.09783/./figures/helium_ruler_creation_3_panels_v3.png to _build/html/\n",
      "copying  tmp_2412.09783/./figures/helium_ruler_results.png to _build/html/\n",
      "copying  tmp_2412.09783/./figures/stream_wise_results_2_panel_v3.png to _build/html/\n",
      "copying  tmp_2412.09783/./figures/chromosome_map_colored_by_feh_v3.png to _build/html/\n",
      "exported in  _build/html/2412.09783.md\n",
      "    + _build/html/tmp_2412.09783/./figures/helium_ruler_creation_3_panels_v3.png\n",
      "    + _build/html/tmp_2412.09783/./figures/helium_ruler_results.png\n",
      "    + _build/html/tmp_2412.09783/./figures/stream_wise_results_2_panel_v3.png\n",
      "    + _build/html/tmp_2412.09783/./figures/chromosome_map_colored_by_feh_v3.png\n"
     ]
    }
   ],
   "source": [
    "for paper_id, md in documents:\n",
    "    export_markdown_summary(md, f\"{paper_id:s}.md\", '_build/html/')"
   ]
  },
  {
   "cell_type": "markdown",
   "id": "f087a0a7",
   "metadata": {
    "papermill": {
     "duration": 0.005074,
     "end_time": "2024-12-16T04:12:46.924624",
     "exception": false,
     "start_time": "2024-12-16T04:12:46.919550",
     "status": "completed"
    },
    "tags": []
   },
   "source": [
    "## Display the papers\n",
    "\n",
    "Not necessary but allows for a quick check."
   ]
  },
  {
   "cell_type": "code",
   "execution_count": 9,
   "id": "fd25f625",
   "metadata": {
    "execution": {
     "iopub.execute_input": "2024-12-16T04:12:46.935599Z",
     "iopub.status.busy": "2024-12-16T04:12:46.935398Z",
     "iopub.status.idle": "2024-12-16T04:12:46.941146Z",
     "shell.execute_reply": "2024-12-16T04:12:46.940605Z"
    },
    "papermill": {
     "duration": 0.012538,
     "end_time": "2024-12-16T04:12:46.942182",
     "exception": false,
     "start_time": "2024-12-16T04:12:46.929644",
     "status": "completed"
    },
    "scrolled": false,
    "tags": []
   },
   "outputs": [
    {
     "data": {
      "text/markdown": [
       "<div class=\"macros\" style=\"visibility:hidden;\">\n",
       "$\\newcommand{\\ensuremath}{}$\n",
       "$\\newcommand{\\xspace}{}$\n",
       "$\\newcommand{\\object}[1]{\\texttt{#1}}$\n",
       "$\\newcommand{\\farcs}{{.}''}$\n",
       "$\\newcommand{\\farcm}{{.}'}$\n",
       "$\\newcommand{\\arcsec}{''}$\n",
       "$\\newcommand{\\arcmin}{'}$\n",
       "$\\newcommand{\\ion}[2]{#1#2}$\n",
       "$\\newcommand{\\textsc}[1]{\\textrm{#1}}$\n",
       "$\\newcommand{\\hl}[1]{\\textrm{#1}}$\n",
       "$\\newcommand{\\footnote}[1]{}$\n",
       "$\\newcommand{\\vdag}{(v)^\\dagger}$\n",
       "$\\newcommand$\n",
       "$\\newcommand$</div>\n",
       "\n",
       "\n",
       "\n",
       "<div id=\"title\">\n",
       "\n",
       "# ALMA/SCUBA-2 COSMOS Survey: Properties of X-ray- and SED-selected AGNs in Bright Submillimeter Galaxies\n",
       "\n",
       "</div>\n",
       "<div id=\"comments\">\n",
       "\n",
       "[![arXiv](https://img.shields.io/badge/arXiv-2412.09737-b31b1b.svg)](https://arxiv.org/abs/2412.09737)<mark>Appeared on: 2024-12-16</mark> -  _37 pages, 21 figures, accepted for The Astrophysical Journal_\n",
       "\n",
       "</div>\n",
       "<div id=\"authors\">\n",
       "\n",
       "R. Uematsu, et al.\n",
       "\n",
       "</div>\n",
       "<div id=\"abstract\">\n",
       "\n",
       "**Abstract:** We investigate the properties of active galactic nuclei (AGNs) in the brightest submillimeter galaxies (SMGs) in the COSMOS field. We utilize the bright sample of ALMA/SCUBA-2 COSMOS Survey (AS2COSMOS), which consists of 260 SMGs with $S_{\\mathrm{870}  \\mu \\mathrm{m}}=0.7\\text{--}19.2 \\mathrm{mJy}$ at $z=0\\text{--}6$ . We perform optical to millimeter spectral energy distribution (SED) modeling for the whole sample. We identify 24 AGN-host galaxies from the SEDs. Supplemented by 23 X-ray detected AGNs (X-ray AGNs), we construct an overall sample of 40 AGN-host galaxies. The X-ray luminosity upper bounds indicate that the X-ray undetected SED-identified AGNs are likely to be nearly Compton thick or have unusually suppressed X-ray emission. From visual classification, we identify $25^{+6}_{-5}$ \\% of the SMGs without AGNs as major merger candidates. This fraction is almost consistent with the general galaxy population at $z\\sim2$ , suggesting that major mergers are not necessarily required for the enhanced star formation in SMGs. We also identify $47^{+16}_{-15}$ \\% of the AGN hosts as major merger candidates, which is about twice as high as that in the SMGs without AGNs. This suggests that major mergers play a key role in triggering AGN activity in bright SMGs.\n",
       "\n",
       "</div>\n",
       "\n",
       "<div id=\"div_fig1\">\n",
       "\n",
       "<img src=\"tmp_2412.09737/./grid_miri.png\" alt=\"Fig15\" width=\"100%\"/>\n",
       "\n",
       "**Figure 15. -** \n",
       "  8 arcsec $\\times$ 8 arcsec JWST images of the 40 AS2COSMOS sources in the coverage of both NIRCam and MIRI imaging. The blue, green, and red colors correspond to the F115W+F150W, F277W+F444W, and F770W filters, respectively. We label the merger candidates, which have tidal features (T), disturbed morphology (D) or possible companions (C) (see Section \\ref{subsection:morphology}). The major merger candidates are indicated by \"M\". The X-ray AGNs and the SED AGNs are indicated by \"X\" and \"SED\" (see Section \\ref{subsubsection:agn_identification} and Section \\ref{subsubsection:x-ray_LFIR}). Note that F150W is not used in the composite image of AS2COS0107.1, because this object is outside the coverage of F150W. For the same reason, F444W is not used in the composite image of AS2COS155.1. (*figure:JWST_miri*)\n",
       "\n",
       "</div>\n",
       "<div id=\"div_fig2\">\n",
       "\n",
       "<img src=\"tmp_2412.09737/./hist_separation.png\" alt=\"Fig2\" width=\"100%\"/>\n",
       "\n",
       "**Figure 2. -** _(a)_\n",
       "  Positional offsets between optical sources and X-ray sources used for the astrometry correction. The solid, dotted, and dashed circles encompass 68\\%, 90\\%, and 95\\% of the sources before (red) and after (blue) the correction, respectively. _(b)_ Histogram of the separation between the X-ray source positions and the optical to near-infrared source positions in the COSMOS2020 catalog. The red area shows the separation between \\citet{2016ApJ...819...62C} and the COSMOS2020 catalog, while the blue area denotes the separation between our X-ray source catalog (Section \\ref{subsubsection:x-ray_extraction}) and the COSMOS2020 catalog. (*figure:separation*)\n",
       "\n",
       "</div>\n",
       "<div id=\"div_fig3\">\n",
       "\n",
       "<img src=\"tmp_2412.09737/./ximage.png\" alt=\"Fig3\" width=\"100%\"/>\n",
       "\n",
       "**Figure 3. -** Positions of the X-ray detected sources near AS2COS0353.1 and AS2COS0353.2 plotted over the Ultravista $K_{\\mathrm{s}}$-band image. The red points show the X-ray source positions listed in the catalog by \\citet{2016ApJ...819...62C}, whereas the blue points show the positions derived in our analysis (Section \\ref{subsubsection:x-ray_extraction}). The green points show the positions of AS2COS0353.1 and AS2COS0353.2. The bottom panels show the zoomed-in images of the X-ray sources. (*figure:ximage*)\n",
       "\n",
       "</div><div id=\"qrcode\"><img src=https://api.qrserver.com/v1/create-qr-code/?size=100x100&data=\"https://arxiv.org/abs/2412.09737\"></div>"
      ],
      "text/plain": [
       "<IPython.core.display.Markdown object>"
      ]
     },
     "metadata": {},
     "output_type": "display_data"
    },
    {
     "data": {
      "text/markdown": [
       "<div class=\"macros\" style=\"visibility:hidden;\">\n",
       "$\\newcommand{\\ensuremath}{}$\n",
       "$\\newcommand{\\xspace}{}$\n",
       "$\\newcommand{\\object}[1]{\\texttt{#1}}$\n",
       "$\\newcommand{\\farcs}{{.}''}$\n",
       "$\\newcommand{\\farcm}{{.}'}$\n",
       "$\\newcommand{\\arcsec}{''}$\n",
       "$\\newcommand{\\arcmin}{'}$\n",
       "$\\newcommand{\\ion}[2]{#1#2}$\n",
       "$\\newcommand{\\textsc}[1]{\\textrm{#1}}$\n",
       "$\\newcommand{\\hl}[1]{\\textrm{#1}}$\n",
       "$\\newcommand{\\footnote}[1]{}$\n",
       "$\\newcommand$\n",
       "$\\newcommand$\n",
       "$\\newcommand$\n",
       "$\\newcommand$\n",
       "$\\newcommand$\n",
       "$\\newcommand$\n",
       "$\\newcommand$\n",
       "$\\newcommand$</div>\n",
       "\n",
       "\n",
       "\n",
       "<div id=\"title\">\n",
       "\n",
       "# oMEGACat V: Helium Enrichment in $\\omega$ Centauri as a Function of Metallicity\n",
       "\n",
       "</div>\n",
       "<div id=\"comments\">\n",
       "\n",
       "[![arXiv](https://img.shields.io/badge/arXiv-2412.09783-b31b1b.svg)](https://arxiv.org/abs/2412.09783)<mark>Appeared on: 2024-12-16</mark> - \n",
       "\n",
       "</div>\n",
       "<div id=\"authors\">\n",
       "\n",
       "<mark>C. Clontz</mark>, et al. -- incl., <mark>M. Häberle</mark>, <mark>N. Neumayer</mark>\n",
       "\n",
       "</div>\n",
       "<div id=\"abstract\">\n",
       "\n",
       "**Abstract:** Constraining the helium enhancement in stars is critical for understanding the formation mechanisms of multiple populations in star clusters. However, measuring helium variations for many stars within a cluster remains observationally challenging. We use Hubble Space Telescope photometry combined with MUSE spectroscopic data for over 7,200 red-giant branch stars in $\\omc$ to measure helium differences between distinct groups of stars as a function of metallicity separating the impact of helium enhancements from other abundance variations on the pseudo-color (chromosome) diagrams. Our results show that stars at all metallicities have subpopulations with significant helium enhancement ( $\\Delta Y_{min} \\gtrsim$ 0.11). We find a rapid increase in helium enhancement from low metallicities ( $\\rm{[Fe/H] \\simeq -2.05}$ to $\\rm{[Fe/H] \\simeq -1.92})$ , with this enhancement leveling out at $\\deltay$ $= 0.154$ at higher metallicities. The fraction of helium-enhanced stars steadily increases with metallicity ranging from 10 \\% at $\\rm{[Fe/H] \\simeq -2.04}$ to over $90\\%$ at $\\rm{[Fe/H] \\simeq -1.04}$ . This study is the first to examine helium enhancement across the full range of metallicities in $\\omc$ , providing new insight into its formation history and additional constraints on enrichment mechanisms.\n",
       "\n",
       "</div>\n",
       "\n",
       "<div id=\"div_fig1\">\n",
       "\n",
       "<img src=\"tmp_2412.09783/./figures/helium_ruler_creation_3_panels_v3.png\" alt=\"Fig6.1\" width=\"50%\"/><img src=\"tmp_2412.09783/./figures/helium_ruler_results.png\" alt=\"Fig6.2\" width=\"50%\"/>\n",
       "\n",
       "**Figure 6. -** **Helium Ruler vs. [Fe/H]:*** Left Panel --* These three figures show the derivation of the helium ruler. First on the far left, the color magnitude-diagram of two isochrones [Fe/H]$= -1.70$, but with primordial (red) and enhanced (blue) helium abundance are shown. The yellow and green lines show the fiducials used to verticalize the color-magnitude diagram and create the \\deltaone color shown in panel (b). The black arrows in this panel show the distance between the verticalized isochrones in each magnitude bin. The histogram in panel (c) shows the number of stars at each magnitude that are used to weight the separation of the helium isochrones and obtain the helium ruler x-distance, He$_{ruler,x}$. The gray region at the top of the panel (b) shows magnitudes excluded from our analysis to ensure consistent length helium ruler vectors for all stars; the rulers at these magnitudes are clearly shorter. * Right Panel --* The derived He$_{ruler,x}$ in the \\deltaone color as a function of metallicity. This corresponds to the expected offset in the \\deltaone\\/x-axis of the chromosome diagram for two populations with $\\Delta Y \\sim 0.15$. This difference is calculated at each metallicity across the full range of RGB magnitudes; the dark blue points show the He$_{ruler,x}$ determined from the weighted average of all the vectors in the left-middle panel. The blue band shows the 16th and 84th percentile of the vector lengths. (*fig:helium_ruler_creation_and_results*)\n",
       "\n",
       "</div>\n",
       "<div id=\"div_fig2\">\n",
       "\n",
       "<img src=\"tmp_2412.09783/./figures/stream_wise_results_2_panel_v3.png\" alt=\"Fig1\" width=\"100%\"/>\n",
       "\n",
       "**Figure 1. -** **Helium Enhancement vs. Metallicity:**(_Top panel_) The fraction of stars in each of the three streams defined in Fig. \\ref{fig:chrom_map} as a function of metallicity (gold, blue, and red lines). Gray lines show the relative numbers of stars in the two different age-metallicity relationship tracks found by [Clontz, Seth and Dotter (2024)]().\n",
       "(_Bottom panel_) \\deltay for the lower-to-middle stream (blue/red points) and the lower-to-upper stream (blue/gold points) as a function of metallicity. The highest metallicity points are shown at low opacity because their results are very uncertain and are based on a small number of stars ($<$30).\n",
       " (*fig:streamwise_results*)\n",
       "\n",
       "</div>\n",
       "<div id=\"div_fig3\">\n",
       "\n",
       "<img src=\"tmp_2412.09783/./figures/chromosome_map_colored_by_feh_v3.png\" alt=\"Fig4\" width=\"100%\"/>\n",
       "\n",
       "**Figure 4. -** **Chromosome/Pseudo-color diagram**: Our sample of 7,277 RGB stars in \\omc is shown with each star colored by its metallicity. We separate the RGB stars separate into three distinct streams in this diagram using the diagonal black lines and color-coded labels. The edges of the [Fe/H] bins are indicated by white lines on the color bar (see also Table \\ref{table:results}) Spreads in the \\deltaone and \\deltatwo within metallicity bins are primarily due to light element abundance variations. (*fig:chrom_map*)\n",
       "\n",
       "</div><div id=\"qrcode\"><img src=https://api.qrserver.com/v1/create-qr-code/?size=100x100&data=\"https://arxiv.org/abs/2412.09783\"></div>"
      ],
      "text/plain": [
       "<IPython.core.display.Markdown object>"
      ]
     },
     "metadata": {},
     "output_type": "display_data"
    }
   ],
   "source": [
    "[display(Markdown(k[1])) for k in documents];"
   ]
  },
  {
   "cell_type": "markdown",
   "id": "873873a4",
   "metadata": {
    "papermill": {
     "duration": 0.005195,
     "end_time": "2024-12-16T04:12:46.952689",
     "exception": false,
     "start_time": "2024-12-16T04:12:46.947494",
     "status": "completed"
    },
    "tags": []
   },
   "source": [
    "# Create HTML index"
   ]
  },
  {
   "cell_type": "code",
   "execution_count": 10,
   "id": "cf665672",
   "metadata": {
    "execution": {
     "iopub.execute_input": "2024-12-16T04:12:46.963972Z",
     "iopub.status.busy": "2024-12-16T04:12:46.963777Z",
     "iopub.status.idle": "2024-12-16T04:12:46.972316Z",
     "shell.execute_reply": "2024-12-16T04:12:46.971760Z"
    },
    "papermill": {
     "duration": 0.015332,
     "end_time": "2024-12-16T04:12:46.973231",
     "exception": false,
     "start_time": "2024-12-16T04:12:46.957899",
     "status": "completed"
    },
    "tags": []
   },
   "outputs": [
    {
     "name": "stdout",
     "output_type": "stream",
     "text": [
      "283  publications files modified in the last 7 days.\n"
     ]
    }
   ],
   "source": [
    "from datetime import datetime, timedelta, timezone\n",
    "from glob import glob\n",
    "import os\n",
    "\n",
    "files = glob('_build/html/*.md')\n",
    "days = 7\n",
    "now = datetime.today()\n",
    "res = []\n",
    "for fk in files:\n",
    "    stat_result = os.stat(fk).st_ctime\n",
    "    modified = datetime.fromtimestamp(stat_result, tz=timezone.utc).replace(tzinfo=None)\n",
    "    delta = now.today() - modified\n",
    "    if delta <= timedelta(days=days):\n",
    "        res.append((delta.seconds, fk))\n",
    "res = [k[1] for k in reversed(sorted(res, key=lambda x:x[1]))]\n",
    "npub = len(res)\n",
    "print(len(res), f\" publications files modified in the last {days:d} days.\")\n",
    "# [ print('\\t', k) for k in res ];"
   ]
  },
  {
   "cell_type": "code",
   "execution_count": 11,
   "id": "015de740",
   "metadata": {
    "execution": {
     "iopub.execute_input": "2024-12-16T04:12:46.984775Z",
     "iopub.status.busy": "2024-12-16T04:12:46.984538Z",
     "iopub.status.idle": "2024-12-16T04:12:47.001863Z",
     "shell.execute_reply": "2024-12-16T04:12:47.001326Z"
    },
    "papermill": {
     "duration": 0.024227,
     "end_time": "2024-12-16T04:12:47.002875",
     "exception": false,
     "start_time": "2024-12-16T04:12:46.978648",
     "status": "completed"
    },
    "tags": []
   },
   "outputs": [
    {
     "name": "stdout",
     "output_type": "stream",
     "text": [
      "13  publications in the last 7 days.\n"
     ]
    }
   ],
   "source": [
    "import datetime\n",
    "from glob import glob\n",
    "\n",
    "def get_last_n_days(lst, days=1):\n",
    "    \"\"\" Get the documents from the last n days \"\"\"\n",
    "    sorted_lst = sorted(lst, key=lambda x: x[1], reverse=True)\n",
    "    for fname, date in sorted_lst:\n",
    "        if date >= str(datetime.date.today() - datetime.timedelta(days=days)):\n",
    "            yield fname\n",
    "\n",
    "def extract_appearance_dates(lst_file):\n",
    "    dates = []\n",
    "\n",
    "    def get_date(line):\n",
    "        return line\\\n",
    "            .split('Appeared on:')[-1]\\\n",
    "            .split('</mark>')[0].strip()\n",
    "\n",
    "    for fname in lst:\n",
    "        with open(fname, 'r') as f:\n",
    "            found_date = False\n",
    "            for line in f:\n",
    "                if not found_date:\n",
    "                    if \"Appeared on\" in line:\n",
    "                        found_date = True\n",
    "                        dates.append((fname, get_date(line)))\n",
    "                else:\n",
    "                    break\n",
    "    return dates\n",
    "\n",
    "from glob import glob\n",
    "lst = glob('_build/html/*md')\n",
    "days = 7\n",
    "dates = extract_appearance_dates(lst)\n",
    "res = list(get_last_n_days(dates, days))\n",
    "npub = len(res)\n",
    "print(len(res), f\" publications in the last {days:d} days.\")"
   ]
  },
  {
   "cell_type": "code",
   "execution_count": 12,
   "id": "52ca0208",
   "metadata": {
    "execution": {
     "iopub.execute_input": "2024-12-16T04:12:47.014946Z",
     "iopub.status.busy": "2024-12-16T04:12:47.014475Z",
     "iopub.status.idle": "2024-12-16T04:12:47.019190Z",
     "shell.execute_reply": "2024-12-16T04:12:47.018663Z"
    },
    "papermill": {
     "duration": 0.011776,
     "end_time": "2024-12-16T04:12:47.020093",
     "exception": false,
     "start_time": "2024-12-16T04:12:47.008317",
     "status": "completed"
    },
    "scrolled": false,
    "tags": []
   },
   "outputs": [],
   "source": [
    "def create_carousel(npub=4):\n",
    "    \"\"\" Generate the HTML code for a carousel with `npub` slides \"\"\"\n",
    "    carousel = [\"\"\"  <div class=\"carousel\" \"\"\",\n",
    "                \"\"\"       data-flickity='{ \"autoPlay\": 10000, \"adaptiveHeight\": true, \"resize\": true, \"wrapAround\": true, \"pauseAutoPlayOnHover\": true, \"groupCells\": 1 }' id=\"asyncTypeset\">\"\"\"\n",
    "                ]\n",
    "    \n",
    "    item_str = \"\"\"    <div class=\"carousel-cell\"> <div id=\"slide{k}\" class=\"md_view\">Content {k}</div> </div>\"\"\"\n",
    "    for k in range(1, npub + 1):\n",
    "        carousel.append(item_str.format(k=k))\n",
    "    carousel.append(\"  </div>\")\n",
    "    return '\\n'.join(carousel)\n",
    "\n",
    "def create_grid(npub=4):\n",
    "    \"\"\" Generate the HTML code for a flat grid with `npub` slides \"\"\"\n",
    "    grid = [\"\"\"  <div class=\"grid\"> \"\"\",\n",
    "                ]\n",
    "    \n",
    "    item_str = \"\"\"    <div class=\"grid-item\"> <div id=\"slide{k}\" class=\"md_view\">Content {k}</div> </div>\"\"\"\n",
    "    for k in range(1, npub + 1):\n",
    "        grid.append(item_str.format(k=k))\n",
    "    grid.append(\"  </div>\")\n",
    "    return '\\n'.join(grid)"
   ]
  },
  {
   "cell_type": "code",
   "execution_count": 13,
   "id": "a6eac5b6",
   "metadata": {
    "execution": {
     "iopub.execute_input": "2024-12-16T04:12:47.032128Z",
     "iopub.status.busy": "2024-12-16T04:12:47.031665Z",
     "iopub.status.idle": "2024-12-16T04:12:47.036624Z",
     "shell.execute_reply": "2024-12-16T04:12:47.036113Z"
    },
    "papermill": {
     "duration": 0.012001,
     "end_time": "2024-12-16T04:12:47.037570",
     "exception": false,
     "start_time": "2024-12-16T04:12:47.025569",
     "status": "completed"
    },
    "scrolled": false,
    "tags": []
   },
   "outputs": [],
   "source": [
    "carousel = create_carousel(npub)\n",
    "docs = ', '.join(['\"{0:s}\"'.format(k.split('/')[-1]) for k in res])\n",
    "slides = ', '.join([f'\"slide{k}\"' for k in range(1, npub + 1)])\n",
    "\n",
    "with open(\"daily_template.html\", \"r\") as tpl:\n",
    "    page = tpl.read()\n",
    "    page = page.replace(\"{%-- carousel:s --%}\", carousel)\\\n",
    "               .replace(\"{%-- suptitle:s --%}\",  \"7-day archives\" )\\\n",
    "               .replace(\"{%-- docs:s --%}\", docs)\\\n",
    "               .replace(\"{%-- slides:s --%}\", slides)\n",
    "    \n",
    "with open(\"_build/html/index_7days.html\", 'w') as fout:\n",
    "    fout.write(page)"
   ]
  },
  {
   "cell_type": "code",
   "execution_count": 14,
   "id": "adc1a1ec",
   "metadata": {
    "execution": {
     "iopub.execute_input": "2024-12-16T04:12:47.049860Z",
     "iopub.status.busy": "2024-12-16T04:12:47.049392Z",
     "iopub.status.idle": "2024-12-16T04:12:47.055780Z",
     "shell.execute_reply": "2024-12-16T04:12:47.055241Z"
    },
    "papermill": {
     "duration": 0.013499,
     "end_time": "2024-12-16T04:12:47.056706",
     "exception": false,
     "start_time": "2024-12-16T04:12:47.043207",
     "status": "completed"
    },
    "tags": []
   },
   "outputs": [
    {
     "name": "stdout",
     "output_type": "stream",
     "text": [
      "2  publications in the last day.\n"
     ]
    }
   ],
   "source": [
    "# redo for today\n",
    "days = 1\n",
    "res = list(get_last_n_days(dates, days))\n",
    "npub = len(res)\n",
    "print(len(res), f\" publications in the last day.\")\n",
    "\n",
    "carousel = create_carousel(npub)\n",
    "docs = ', '.join(['\"{0:s}\"'.format(k.split('/')[-1]) for k in res])\n",
    "slides = ', '.join([f'\"slide{k}\"' for k in range(1, npub + 1)])\n",
    "\n",
    "with open(\"daily_template.html\", \"r\") as tpl:\n",
    "    page = tpl.read()\n",
    "    page = page.replace(\"{%-- carousel:s --%}\", carousel)\\\n",
    "               .replace(\"{%-- suptitle:s --%}\",  \"Daily\" )\\\n",
    "               .replace(\"{%-- docs:s --%}\", docs)\\\n",
    "               .replace(\"{%-- slides:s --%}\", slides)\n",
    "    \n",
    "# print(carousel, docs, slides)\n",
    "# print(page)\n",
    "with open(\"_build/html/index_daily.html\", 'w') as fout:\n",
    "    fout.write(page)"
   ]
  },
  {
   "cell_type": "code",
   "execution_count": 15,
   "id": "00eece82",
   "metadata": {
    "execution": {
     "iopub.execute_input": "2024-12-16T04:12:47.068806Z",
     "iopub.status.busy": "2024-12-16T04:12:47.068609Z",
     "iopub.status.idle": "2024-12-16T04:12:47.074754Z",
     "shell.execute_reply": "2024-12-16T04:12:47.074227Z"
    },
    "papermill": {
     "duration": 0.013228,
     "end_time": "2024-12-16T04:12:47.075715",
     "exception": false,
     "start_time": "2024-12-16T04:12:47.062487",
     "status": "completed"
    },
    "scrolled": false,
    "tags": []
   },
   "outputs": [
    {
     "name": "stdout",
     "output_type": "stream",
     "text": [
      "6  6 publications selected.\n"
     ]
    }
   ],
   "source": [
    "# Create the flat grid of the last N papers (fixed number regardless of dates)\n",
    "from itertools import islice \n",
    "\n",
    "npub = 6\n",
    "res = [k[0] for k in (islice(reversed(sorted(dates, key=lambda x: x[1])), 6))]\n",
    "print(len(res), f\" {npub} publications selected.\")\n",
    "\n",
    "grid = create_grid(npub)\n",
    "docs = ', '.join(['\"{0:s}\"'.format(k.split('/')[-1]) for k in res])\n",
    "slides = ', '.join([f'\"slide{k}\"' for k in range(1, npub + 1)])\n",
    "\n",
    "with open(\"grid_template.html\", \"r\") as tpl:\n",
    "    page = tpl.read()\n",
    "    page = page.replace(\"{%-- grid-content:s --%}\", grid)\\\n",
    "               .replace(\"{%-- suptitle:s --%}\",  f\"Last {npub:,d} papers\" )\\\n",
    "               .replace(\"{%-- docs:s --%}\", docs)\\\n",
    "               .replace(\"{%-- slides:s --%}\", slides)\n",
    "    \n",
    "# print(grid, docs, slides)\n",
    "# print(page)\n",
    "with open(\"_build/html/index_npub_grid.html\", 'w') as fout:\n",
    "    fout.write(page)"
   ]
  }
 ],
 "metadata": {
  "kernelspec": {
   "display_name": "Python 3 (ipykernel)",
   "language": "python",
   "name": "python3"
  },
  "language_info": {
   "codemirror_mode": {
    "name": "ipython",
    "version": 3
   },
   "file_extension": ".py",
   "mimetype": "text/x-python",
   "name": "python",
   "nbconvert_exporter": "python",
   "pygments_lexer": "ipython3",
   "version": "3.9.20"
  },
  "papermill": {
   "default_parameters": {},
   "duration": 56.037386,
   "end_time": "2024-12-16T04:12:47.297819",
   "environment_variables": {},
   "exception": null,
   "input_path": "MPIA daily digest.ipynb",
   "output_path": "log.ipynb",
   "parameters": {},
   "start_time": "2024-12-16T04:11:51.260433",
   "version": "2.6.0"
  },
  "vscode": {
   "interpreter": {
    "hash": "aee8b7b246df8f9039afb4144a1f6fd8d2ca17a180786b69acc140d282b71a49"
   }
  },
  "widgets": {
   "application/vnd.jupyter.widget-state+json": {
    "state": {
     "185276366b2c4dbfbde546f2dadd2b4d": {
      "model_module": "@jupyter-widgets/controls",
      "model_module_version": "2.0.0",
      "model_name": "HTMLStyleModel",
      "state": {
       "_model_module": "@jupyter-widgets/controls",
       "_model_module_version": "2.0.0",
       "_model_name": "HTMLStyleModel",
       "_view_count": null,
       "_view_module": "@jupyter-widgets/base",
       "_view_module_version": "2.0.0",
       "_view_name": "StyleView",
       "background": null,
       "description_width": "",
       "font_size": null,
       "text_color": null
      }
     },
     "2167f157e1274bf2a4a1d0662e775697": {
      "model_module": "@jupyter-widgets/controls",
      "model_module_version": "2.0.0",
      "model_name": "ProgressStyleModel",
      "state": {
       "_model_module": "@jupyter-widgets/controls",
       "_model_module_version": "2.0.0",
       "_model_name": "ProgressStyleModel",
       "_view_count": null,
       "_view_module": "@jupyter-widgets/base",
       "_view_module_version": "2.0.0",
       "_view_name": "StyleView",
       "bar_color": null,
       "description_width": ""
      }
     },
     "2430ac060c824eef9731719844b39127": {
      "model_module": "@jupyter-widgets/controls",
      "model_module_version": "2.0.0",
      "model_name": "HBoxModel",
      "state": {
       "_dom_classes": [],
       "_model_module": "@jupyter-widgets/controls",
       "_model_module_version": "2.0.0",
       "_model_name": "HBoxModel",
       "_view_count": null,
       "_view_module": "@jupyter-widgets/controls",
       "_view_module_version": "2.0.0",
       "_view_name": "HBoxView",
       "box_style": "",
       "children": [
        "IPY_MODEL_a8c3757905a741fb94e42379975aed7f",
        "IPY_MODEL_ac208b60a379400fbdf0160e32ec3fd3",
        "IPY_MODEL_9bc41a2f015e47bd8800e31802f3a67a"
       ],
       "layout": "IPY_MODEL_85c08923b9f74da5b18e737dd2c1ee62",
       "tabbable": null,
       "tooltip": null
      }
     },
     "72d033637b084c3a9b9051e571ae7776": {
      "model_module": "@jupyter-widgets/base",
      "model_module_version": "2.0.0",
      "model_name": "LayoutModel",
      "state": {
       "_model_module": "@jupyter-widgets/base",
       "_model_module_version": "2.0.0",
       "_model_name": "LayoutModel",
       "_view_count": null,
       "_view_module": "@jupyter-widgets/base",
       "_view_module_version": "2.0.0",
       "_view_name": "LayoutView",
       "align_content": null,
       "align_items": null,
       "align_self": null,
       "border_bottom": null,
       "border_left": null,
       "border_right": null,
       "border_top": null,
       "bottom": null,
       "display": null,
       "flex": null,
       "flex_flow": null,
       "grid_area": null,
       "grid_auto_columns": null,
       "grid_auto_flow": null,
       "grid_auto_rows": null,
       "grid_column": null,
       "grid_gap": null,
       "grid_row": null,
       "grid_template_areas": null,
       "grid_template_columns": null,
       "grid_template_rows": null,
       "height": null,
       "justify_content": null,
       "justify_items": null,
       "left": null,
       "margin": null,
       "max_height": null,
       "max_width": null,
       "min_height": null,
       "min_width": null,
       "object_fit": null,
       "object_position": null,
       "order": null,
       "overflow": null,
       "padding": null,
       "right": null,
       "top": null,
       "visibility": null,
       "width": null
      }
     },
     "76297c1b818642638ed16a5c53da0034": {
      "model_module": "@jupyter-widgets/controls",
      "model_module_version": "2.0.0",
      "model_name": "HTMLStyleModel",
      "state": {
       "_model_module": "@jupyter-widgets/controls",
       "_model_module_version": "2.0.0",
       "_model_name": "HTMLStyleModel",
       "_view_count": null,
       "_view_module": "@jupyter-widgets/base",
       "_view_module_version": "2.0.0",
       "_view_name": "StyleView",
       "background": null,
       "description_width": "",
       "font_size": null,
       "text_color": null
      }
     },
     "85c08923b9f74da5b18e737dd2c1ee62": {
      "model_module": "@jupyter-widgets/base",
      "model_module_version": "2.0.0",
      "model_name": "LayoutModel",
      "state": {
       "_model_module": "@jupyter-widgets/base",
       "_model_module_version": "2.0.0",
       "_model_name": "LayoutModel",
       "_view_count": null,
       "_view_module": "@jupyter-widgets/base",
       "_view_module_version": "2.0.0",
       "_view_name": "LayoutView",
       "align_content": null,
       "align_items": null,
       "align_self": null,
       "border_bottom": null,
       "border_left": null,
       "border_right": null,
       "border_top": null,
       "bottom": null,
       "display": null,
       "flex": null,
       "flex_flow": null,
       "grid_area": null,
       "grid_auto_columns": null,
       "grid_auto_flow": null,
       "grid_auto_rows": null,
       "grid_column": null,
       "grid_gap": null,
       "grid_row": null,
       "grid_template_areas": null,
       "grid_template_columns": null,
       "grid_template_rows": null,
       "height": null,
       "justify_content": null,
       "justify_items": null,
       "left": null,
       "margin": null,
       "max_height": null,
       "max_width": null,
       "min_height": null,
       "min_width": null,
       "object_fit": null,
       "object_position": null,
       "order": null,
       "overflow": null,
       "padding": null,
       "right": null,
       "top": null,
       "visibility": null,
       "width": null
      }
     },
     "9bc41a2f015e47bd8800e31802f3a67a": {
      "model_module": "@jupyter-widgets/controls",
      "model_module_version": "2.0.0",
      "model_name": "HTMLModel",
      "state": {
       "_dom_classes": [],
       "_model_module": "@jupyter-widgets/controls",
       "_model_module_version": "2.0.0",
       "_model_name": "HTMLModel",
       "_view_count": null,
       "_view_module": "@jupyter-widgets/controls",
       "_view_module_version": "2.0.0",
       "_view_name": "HTMLView",
       "description": "",
       "description_allow_html": false,
       "layout": "IPY_MODEL_b69a5c1eaa554655b7911af4f8f56e67",
       "placeholder": "​",
       "style": "IPY_MODEL_185276366b2c4dbfbde546f2dadd2b4d",
       "tabbable": null,
       "tooltip": null,
       "value": " 6/6 [00:35&lt;00:00,  4.76s/it]"
      }
     },
     "a8c3757905a741fb94e42379975aed7f": {
      "model_module": "@jupyter-widgets/controls",
      "model_module_version": "2.0.0",
      "model_name": "HTMLModel",
      "state": {
       "_dom_classes": [],
       "_model_module": "@jupyter-widgets/controls",
       "_model_module_version": "2.0.0",
       "_model_name": "HTMLModel",
       "_view_count": null,
       "_view_module": "@jupyter-widgets/controls",
       "_view_module_version": "2.0.0",
       "_view_name": "HTMLView",
       "description": "",
       "description_allow_html": false,
       "layout": "IPY_MODEL_c505d84ac6354d4bb2a69a29baadec87",
       "placeholder": "​",
       "style": "IPY_MODEL_76297c1b818642638ed16a5c53da0034",
       "tabbable": null,
       "tooltip": null,
       "value": "100%"
      }
     },
     "ac208b60a379400fbdf0160e32ec3fd3": {
      "model_module": "@jupyter-widgets/controls",
      "model_module_version": "2.0.0",
      "model_name": "FloatProgressModel",
      "state": {
       "_dom_classes": [],
       "_model_module": "@jupyter-widgets/controls",
       "_model_module_version": "2.0.0",
       "_model_name": "FloatProgressModel",
       "_view_count": null,
       "_view_module": "@jupyter-widgets/controls",
       "_view_module_version": "2.0.0",
       "_view_name": "ProgressView",
       "bar_style": "success",
       "description": "",
       "description_allow_html": false,
       "layout": "IPY_MODEL_72d033637b084c3a9b9051e571ae7776",
       "max": 6.0,
       "min": 0.0,
       "orientation": "horizontal",
       "style": "IPY_MODEL_2167f157e1274bf2a4a1d0662e775697",
       "tabbable": null,
       "tooltip": null,
       "value": 6.0
      }
     },
     "b69a5c1eaa554655b7911af4f8f56e67": {
      "model_module": "@jupyter-widgets/base",
      "model_module_version": "2.0.0",
      "model_name": "LayoutModel",
      "state": {
       "_model_module": "@jupyter-widgets/base",
       "_model_module_version": "2.0.0",
       "_model_name": "LayoutModel",
       "_view_count": null,
       "_view_module": "@jupyter-widgets/base",
       "_view_module_version": "2.0.0",
       "_view_name": "LayoutView",
       "align_content": null,
       "align_items": null,
       "align_self": null,
       "border_bottom": null,
       "border_left": null,
       "border_right": null,
       "border_top": null,
       "bottom": null,
       "display": null,
       "flex": null,
       "flex_flow": null,
       "grid_area": null,
       "grid_auto_columns": null,
       "grid_auto_flow": null,
       "grid_auto_rows": null,
       "grid_column": null,
       "grid_gap": null,
       "grid_row": null,
       "grid_template_areas": null,
       "grid_template_columns": null,
       "grid_template_rows": null,
       "height": null,
       "justify_content": null,
       "justify_items": null,
       "left": null,
       "margin": null,
       "max_height": null,
       "max_width": null,
       "min_height": null,
       "min_width": null,
       "object_fit": null,
       "object_position": null,
       "order": null,
       "overflow": null,
       "padding": null,
       "right": null,
       "top": null,
       "visibility": null,
       "width": null
      }
     },
     "c505d84ac6354d4bb2a69a29baadec87": {
      "model_module": "@jupyter-widgets/base",
      "model_module_version": "2.0.0",
      "model_name": "LayoutModel",
      "state": {
       "_model_module": "@jupyter-widgets/base",
       "_model_module_version": "2.0.0",
       "_model_name": "LayoutModel",
       "_view_count": null,
       "_view_module": "@jupyter-widgets/base",
       "_view_module_version": "2.0.0",
       "_view_name": "LayoutView",
       "align_content": null,
       "align_items": null,
       "align_self": null,
       "border_bottom": null,
       "border_left": null,
       "border_right": null,
       "border_top": null,
       "bottom": null,
       "display": null,
       "flex": null,
       "flex_flow": null,
       "grid_area": null,
       "grid_auto_columns": null,
       "grid_auto_flow": null,
       "grid_auto_rows": null,
       "grid_column": null,
       "grid_gap": null,
       "grid_row": null,
       "grid_template_areas": null,
       "grid_template_columns": null,
       "grid_template_rows": null,
       "height": null,
       "justify_content": null,
       "justify_items": null,
       "left": null,
       "margin": null,
       "max_height": null,
       "max_width": null,
       "min_height": null,
       "min_width": null,
       "object_fit": null,
       "object_position": null,
       "order": null,
       "overflow": null,
       "padding": null,
       "right": null,
       "top": null,
       "visibility": null,
       "width": null
      }
     }
    },
    "version_major": 2,
    "version_minor": 0
   }
  }
 },
 "nbformat": 4,
 "nbformat_minor": 5
}