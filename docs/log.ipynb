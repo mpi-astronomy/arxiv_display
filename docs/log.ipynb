{
 "cells": [
  {
   "cell_type": "markdown",
   "id": "92bcb855",
   "metadata": {
    "papermill": {
     "duration": 0.006651,
     "end_time": "2023-02-15T04:08:25.640786",
     "exception": false,
     "start_time": "2023-02-15T04:08:25.634135",
     "status": "completed"
    },
    "tags": []
   },
   "source": [
    "# MPIA Arxiv on Deck 2\n",
    "\n",
    "Contains the steps to produce the paper extractions."
   ]
  },
  {
   "cell_type": "code",
   "execution_count": 1,
   "id": "3a0d6e11",
   "metadata": {
    "execution": {
     "iopub.execute_input": "2023-02-15T04:08:25.652583Z",
     "iopub.status.busy": "2023-02-15T04:08:25.652235Z",
     "iopub.status.idle": "2023-02-15T04:08:25.884052Z",
     "shell.execute_reply": "2023-02-15T04:08:25.883088Z"
    },
    "papermill": {
     "duration": 0.240966,
     "end_time": "2023-02-15T04:08:25.886444",
     "exception": false,
     "start_time": "2023-02-15T04:08:25.645478",
     "status": "completed"
    },
    "tags": []
   },
   "outputs": [],
   "source": [
    "# Imports\n",
    "import os\n",
    "from IPython.display import Markdown, display\n",
    "from tqdm.notebook import tqdm\n",
    "import warnings\n",
    "from PIL import Image \n",
    "\n",
    "# requires arxiv_on_deck_2\n",
    "\n",
    "from arxiv_on_deck_2.arxiv2 import (get_new_papers, \n",
    "                                    get_paper_from_identifier,\n",
    "                                    retrieve_document_source, \n",
    "                                    get_markdown_badge)\n",
    "from arxiv_on_deck_2 import (latex, \n",
    "                             mpia,\n",
    "                             highlight_authors_in_list)\n",
    "\n",
    "# Sometimes images are really big\n",
    "Image.MAX_IMAGE_PIXELS = 1000000000 "
   ]
  },
  {
   "cell_type": "code",
   "execution_count": 2,
   "id": "22aa9d44",
   "metadata": {
    "execution": {
     "iopub.execute_input": "2023-02-15T04:08:25.898413Z",
     "iopub.status.busy": "2023-02-15T04:08:25.898128Z",
     "iopub.status.idle": "2023-02-15T04:08:25.905487Z",
     "shell.execute_reply": "2023-02-15T04:08:25.904555Z"
    },
    "papermill": {
     "duration": 0.015543,
     "end_time": "2023-02-15T04:08:25.907704",
     "exception": false,
     "start_time": "2023-02-15T04:08:25.892161",
     "status": "completed"
    },
    "tags": []
   },
   "outputs": [],
   "source": [
    "# Some useful definitions.\n",
    "\n",
    "class AffiliationWarning(UserWarning):\n",
    "    pass\n",
    "\n",
    "class AffiliationError(RuntimeError):\n",
    "    pass\n",
    "\n",
    "def validation(source: str):\n",
    "    \"\"\"Raises error paper during parsing of source file\n",
    "    \n",
    "    Allows checks before parsing TeX code.\n",
    "    \n",
    "    Raises AffiliationWarning\n",
    "    \"\"\"\n",
    "    check = mpia.affiliation_verifications(source, verbose=True)\n",
    "    if check is not True:\n",
    "        raise AffiliationError(\"mpia.affiliation_verifications: \" + check)\n",
    "\n",
    "        \n",
    "warnings.simplefilter('always', AffiliationWarning)"
   ]
  },
  {
   "cell_type": "code",
   "execution_count": 3,
   "id": "14622700",
   "metadata": {
    "execution": {
     "iopub.execute_input": "2023-02-15T04:08:25.918891Z",
     "iopub.status.busy": "2023-02-15T04:08:25.918613Z",
     "iopub.status.idle": "2023-02-15T04:08:25.923962Z",
     "shell.execute_reply": "2023-02-15T04:08:25.923175Z"
    },
    "papermill": {
     "duration": 0.013587,
     "end_time": "2023-02-15T04:08:25.926175",
     "exception": false,
     "start_time": "2023-02-15T04:08:25.912588",
     "status": "completed"
    },
    "tags": []
   },
   "outputs": [],
   "source": [
    "# additional CSS to consider. \n",
    "# TODO: Current into each exported file. \n",
    "#       This should be set once into the webpages directly.\n",
    "#       With only the class/id definitions in the .md files.\n",
    "\n",
    "debug_html = \"\"\"\n",
    "<style>\n",
    "#wrap{ overflow:auto; }\n",
    "#fig1{ background:yellow; width:100%; float:left; padding:5px;  }\n",
    "#fig2{ background:red; width:50%; float:left; clear:left; padding:5px;  }\n",
    "#fig3{ background:green; width:50%; float:left; padding:5px;   }\n",
    ".macros{ background:yellow; visibility:visible;}\n",
    "h1 {margin: 0 0 0 0;}\n",
    "mark {background-color:#fff3b6;}\n",
    "img {object-fit:contain; max-height:250px; display:inline-block; text-align: center;}\n",
    "</style>\n",
    "\"\"\" \n",
    "html = \"\"\"\n",
    "<style>\n",
    "#wrap{ overflow:auto; }\n",
    "#fig1{ width:100%; float:left; padding: 5px;  }\n",
    "#fig2{ width:50%; float:left; clear:left; padding: 5px;  }\n",
    "#fig3{ width:50%; float:left; padding: 5px;  }\n",
    ".macros{ visibility:hidden; height:0px; }\n",
    "h1 {margin: 0em 0 0 0;}\n",
    "mark {background-color:#fff3b6;}\n",
    "img {object-fit:contain; max-height:250px; display:inline-block; text-align: center;}\n",
    "</style>\n",
    "\"\"\""
   ]
  },
  {
   "cell_type": "markdown",
   "id": "14bd6310",
   "metadata": {
    "papermill": {
     "duration": 0.00493,
     "end_time": "2023-02-15T04:08:25.936104",
     "exception": false,
     "start_time": "2023-02-15T04:08:25.931174",
     "status": "completed"
    },
    "tags": []
   },
   "source": [
    "## get list of arxiv paper candidates\n",
    "\n",
    "We use the MPIA mitarbeiter list webpage from mpia.de to get author names\n",
    "We then get all new papers from Arxiv and match authors"
   ]
  },
  {
   "cell_type": "code",
   "execution_count": 4,
   "id": "2645e73a",
   "metadata": {
    "execution": {
     "iopub.execute_input": "2023-02-15T04:08:25.947370Z",
     "iopub.status.busy": "2023-02-15T04:08:25.946762Z",
     "iopub.status.idle": "2023-02-15T04:08:56.313558Z",
     "shell.execute_reply": "2023-02-15T04:08:56.312743Z"
    },
    "papermill": {
     "duration": 30.378756,
     "end_time": "2023-02-15T04:08:56.319650",
     "exception": false,
     "start_time": "2023-02-15T04:08:25.940894",
     "status": "completed"
    },
    "tags": []
   },
   "outputs": [
    {
     "name": "stdout",
     "output_type": "stream",
     "text": [
      "Arxiv has 57 new papers today\n",
      "          22 with possible author matches\n"
     ]
    }
   ],
   "source": [
    "# get list from MPIA website\n",
    "# it automatically filters identified non-scientists :func:`mpia.filter_non_scientists`\n",
    "mpia_authors = mpia.get_mpia_mitarbeiter_list()\n",
    "new_papers = get_new_papers()\n",
    "# add manual references\n",
    "add_paper_refs = []\n",
    "new_papers.extend([get_paper_from_identifier(k) for k in add_paper_refs])\n",
    "\n",
    "# select only papers with matching author names and highlight authors\n",
    "hl_list = [k[0] for k in mpia_authors]\n",
    "\n",
    "candidates = []\n",
    "for paperk in new_papers:\n",
    "    hl_authors = highlight_authors_in_list(paperk['authors'], hl_list)\n",
    "    matches = [(hl, orig) for hl, orig in zip(hl_authors, paperk['authors']) if 'mark' in hl]\n",
    "    paperk['authors'] = hl_authors\n",
    "    if matches:\n",
    "        candidates.append(paperk)\n",
    "print(\"\"\"Arxiv has {0:,d} new papers today\"\"\".format(len(new_papers)))        \n",
    "print(\"\"\"          {0:,d} with possible author matches\"\"\".format(len(candidates)))"
   ]
  },
  {
   "cell_type": "markdown",
   "id": "3543b34a",
   "metadata": {
    "papermill": {
     "duration": 0.00504,
     "end_time": "2023-02-15T04:08:56.329871",
     "exception": false,
     "start_time": "2023-02-15T04:08:56.324831",
     "status": "completed"
    },
    "tags": []
   },
   "source": [
    "# Parse sources and generate relevant outputs\n",
    "\n",
    "From the candidates, we do the following steps:\n",
    "* get their tarball from ArXiv (and extract data)\n",
    "* find the main .tex file: find one with \\documentclass{...} (sometimes it's non trivial)\n",
    "* Check affiliations with :func:`validation`, which uses :func:`mpia.affiliation_verifications`\n",
    "* If passing the affiliations: we parse the .tex source\n",
    "   * inject sub-documents into the main (flatten the main document)\n",
    "   * parse structure, extract information (title, abstract, authors, figures...)\n",
    "   * handles `\\graphicspath` if provided\n",
    "* Generate the .md document."
   ]
  },
  {
   "cell_type": "code",
   "execution_count": 5,
   "id": "9576b79e",
   "metadata": {
    "execution": {
     "iopub.execute_input": "2023-02-15T04:08:56.344950Z",
     "iopub.status.busy": "2023-02-15T04:08:56.340919Z",
     "iopub.status.idle": "2023-02-15T04:11:53.316421Z",
     "shell.execute_reply": "2023-02-15T04:11:53.315412Z"
    },
    "papermill": {
     "duration": 176.984095,
     "end_time": "2023-02-15T04:11:53.318955",
     "exception": false,
     "start_time": "2023-02-15T04:08:56.334860",
     "status": "completed"
    },
    "scrolled": false,
    "tags": []
   },
   "outputs": [
    {
     "data": {
      "application/vnd.jupyter.widget-view+json": {
       "model_id": "623f39ad6e6e44a6ab7e3021e759dda6",
       "version_major": 2,
       "version_minor": 0
      },
      "text/plain": [
       "  0%|          | 0/21 [00:00<?, ?it/s]"
      ]
     },
     "metadata": {},
     "output_type": "display_data"
    },
    {
     "name": "stdout",
     "output_type": "stream",
     "text": [
      "Retrieving document from  https://arxiv.org/e-print/2302.06614\n"
     ]
    },
    {
     "name": "stdout",
     "output_type": "stream",
     "text": [
      "extracting tarball to tmp_2302.06614..."
     ]
    },
    {
     "name": "stdout",
     "output_type": "stream",
     "text": [
      " done.\n",
      "Retrieving document from  https://arxiv.org/e-print/2302.06617\n"
     ]
    },
    {
     "name": "stdout",
     "output_type": "stream",
     "text": [
      "extracting tarball to tmp_2302.06617..."
     ]
    },
    {
     "name": "stdout",
     "output_type": "stream",
     "text": [
      " done.\n",
      "Retrieving document from  https://arxiv.org/e-print/2302.06647\n"
     ]
    },
    {
     "name": "stdout",
     "output_type": "stream",
     "text": [
      "extracting tarball to tmp_2302.06647..."
     ]
    },
    {
     "name": "stdout",
     "output_type": "stream",
     "text": [
      " done.\n",
      "Retrieving document from  https://arxiv.org/e-print/2302.06680\n"
     ]
    },
    {
     "name": "stderr",
     "output_type": "stream",
     "text": [
      "/opt/hostedtoolcache/Python/3.9.16/x64/lib/python3.9/site-packages/IPython/core/interactiveshell.py:3460: LatexWarning: Multiple tex files.\n",
      "\n",
      "  exec(code_obj, self.user_global_ns, self.user_ns)\n",
      "/opt/hostedtoolcache/Python/3.9.16/x64/lib/python3.9/site-packages/IPython/core/interactiveshell.py:3460: LatexWarning: Found documentclass in tmp_2302.06647/aanda.tex\n",
      "\n",
      "  exec(code_obj, self.user_global_ns, self.user_ns)\n"
     ]
    },
    {
     "name": "stdout",
     "output_type": "stream",
     "text": [
      "extracting tarball to tmp_2302.06680..."
     ]
    },
    {
     "name": "stdout",
     "output_type": "stream",
     "text": [
      " done.\n",
      "Retrieving document from  https://arxiv.org/e-print/2302.06686\n"
     ]
    },
    {
     "name": "stdout",
     "output_type": "stream",
     "text": [
      "extracting tarball to tmp_2302.06686..."
     ]
    },
    {
     "name": "stdout",
     "output_type": "stream",
     "text": [
      " done.\n",
      "Retrieving document from  https://arxiv.org/e-print/2302.06712\n"
     ]
    },
    {
     "name": "stderr",
     "output_type": "stream",
     "text": [
      "/opt/hostedtoolcache/Python/3.9.16/x64/lib/python3.9/site-packages/IPython/core/interactiveshell.py:3460: LatexWarning: Multiple tex files.\n",
      "\n",
      "  exec(code_obj, self.user_global_ns, self.user_ns)\n",
      "/opt/hostedtoolcache/Python/3.9.16/x64/lib/python3.9/site-packages/IPython/core/interactiveshell.py:3460: LatexWarning: Found documentclass in tmp_2302.06686/main.tex\n",
      "\n",
      "  exec(code_obj, self.user_global_ns, self.user_ns)\n"
     ]
    },
    {
     "name": "stdout",
     "output_type": "stream",
     "text": [
      "extracting tarball to tmp_2302.06712..."
     ]
    },
    {
     "name": "stdout",
     "output_type": "stream",
     "text": [
      " done.\n",
      "Retrieving document from  https://arxiv.org/e-print/2302.06741\n"
     ]
    },
    {
     "name": "stdout",
     "output_type": "stream",
     "text": [
      "extracting tarball to tmp_2302.06741..."
     ]
    },
    {
     "name": "stdout",
     "output_type": "stream",
     "text": [
      " done.\n",
      "Retrieving document from  https://arxiv.org/e-print/2302.06808\n"
     ]
    },
    {
     "name": "stderr",
     "output_type": "stream",
     "text": [
      "/opt/hostedtoolcache/Python/3.9.16/x64/lib/python3.9/site-packages/IPython/core/interactiveshell.py:3460: LatexWarning: Multiple tex files.\n",
      "\n",
      "  exec(code_obj, self.user_global_ns, self.user_ns)\n",
      "/opt/hostedtoolcache/Python/3.9.16/x64/lib/python3.9/site-packages/IPython/core/interactiveshell.py:3460: LatexWarning: Found documentclass in tmp_2302.06741/_main.tex\n",
      "\n",
      "  exec(code_obj, self.user_global_ns, self.user_ns)\n",
      "/opt/hostedtoolcache/Python/3.9.16/x64/lib/python3.9/site-packages/arxiv_on_deck_2/latex.py:292: LatexWarning: Latex injecting: '99_future' from 'tmp_2302.06741/99_future.tex'\n",
      "  warnings.warn(LatexWarning(f\"Latex injecting: '{ext}' from '{subsource}'\"))\n",
      "/opt/hostedtoolcache/Python/3.9.16/x64/lib/python3.9/site-packages/arxiv_on_deck_2/latex.py:292: LatexWarning: Latex injecting: '07_conclusion' from 'tmp_2302.06741/07_conclusion.tex'\n",
      "  warnings.warn(LatexWarning(f\"Latex injecting: '{ext}' from '{subsource}'\"))\n",
      "/opt/hostedtoolcache/Python/3.9.16/x64/lib/python3.9/site-packages/arxiv_on_deck_2/latex.py:292: LatexWarning: Latex injecting: '06_impact_models' from 'tmp_2302.06741/06_impact_models.tex'\n",
      "  warnings.warn(LatexWarning(f\"Latex injecting: '{ext}' from '{subsource}'\"))\n",
      "/opt/hostedtoolcache/Python/3.9.16/x64/lib/python3.9/site-packages/arxiv_on_deck_2/latex.py:292: LatexWarning: Latex injecting: '05_performance' from 'tmp_2302.06741/05_performance.tex'\n",
      "  warnings.warn(LatexWarning(f\"Latex injecting: '{ext}' from '{subsource}'\"))\n",
      "/opt/hostedtoolcache/Python/3.9.16/x64/lib/python3.9/site-packages/arxiv_on_deck_2/latex.py:292: LatexWarning: Latex injecting: '04_methodology' from 'tmp_2302.06741/04_methodology.tex'\n",
      "  warnings.warn(LatexWarning(f\"Latex injecting: '{ext}' from '{subsource}'\"))\n",
      "/opt/hostedtoolcache/Python/3.9.16/x64/lib/python3.9/site-packages/arxiv_on_deck_2/latex.py:292: LatexWarning: Latex injecting: '03_algorithm' from 'tmp_2302.06741/03_algorithm.tex'\n",
      "  warnings.warn(LatexWarning(f\"Latex injecting: '{ext}' from '{subsource}'\"))\n",
      "/opt/hostedtoolcache/Python/3.9.16/x64/lib/python3.9/site-packages/arxiv_on_deck_2/latex.py:292: LatexWarning: Latex injecting: '02_models' from 'tmp_2302.06741/02_models.tex'\n",
      "  warnings.warn(LatexWarning(f\"Latex injecting: '{ext}' from '{subsource}'\"))\n",
      "/opt/hostedtoolcache/Python/3.9.16/x64/lib/python3.9/site-packages/arxiv_on_deck_2/latex.py:292: LatexWarning: Latex injecting: '01_intro' from 'tmp_2302.06741/01_intro.tex'\n",
      "  warnings.warn(LatexWarning(f\"Latex injecting: '{ext}' from '{subsource}'\"))\n",
      "/opt/hostedtoolcache/Python/3.9.16/x64/lib/python3.9/site-packages/arxiv_on_deck_2/latex.py:292: LatexWarning: Latex injecting: '00_abstract' from 'tmp_2302.06741/00_abstract.tex'\n",
      "  warnings.warn(LatexWarning(f\"Latex injecting: '{ext}' from '{subsource}'\"))\n",
      "/opt/hostedtoolcache/Python/3.9.16/x64/lib/python3.9/site-packages/arxiv_on_deck_2/latex.py:292: LatexWarning: Latex injecting: '_setup' from 'tmp_2302.06741/_setup.tex'\n",
      "  warnings.warn(LatexWarning(f\"Latex injecting: '{ext}' from '{subsource}'\"))\n"
     ]
    },
    {
     "name": "stdout",
     "output_type": "stream",
     "text": [
      "extracting tarball to tmp_2302.06808..."
     ]
    },
    {
     "name": "stdout",
     "output_type": "stream",
     "text": [
      " done.\n",
      "Retrieving document from  https://arxiv.org/e-print/2302.06825\n"
     ]
    },
    {
     "name": "stderr",
     "output_type": "stream",
     "text": [
      "/tmp/ipykernel_2066/4030337529.py:34: LatexWarning: 2302.06825 did not run properly\n",
      "not a gzip file\n",
      "  warnings.warn(latex.LatexWarning(f\"{paper_id:s} did not run properly\\n\" +\n"
     ]
    },
    {
     "name": "stdout",
     "output_type": "stream",
     "text": [
      "Retrieving document from  https://arxiv.org/e-print/2302.06886\n"
     ]
    },
    {
     "name": "stdout",
     "output_type": "stream",
     "text": [
      "extracting tarball to tmp_2302.06886..."
     ]
    },
    {
     "name": "stdout",
     "output_type": "stream",
     "text": [
      " done.\n",
      "Retrieving document from  https://arxiv.org/e-print/2302.06921\n"
     ]
    },
    {
     "name": "stdout",
     "output_type": "stream",
     "text": [
      "extracting tarball to tmp_2302.06921..."
     ]
    },
    {
     "name": "stdout",
     "output_type": "stream",
     "text": [
      " done.\n",
      "Retrieving document from  https://arxiv.org/e-print/2302.06944\n"
     ]
    },
    {
     "name": "stdout",
     "output_type": "stream",
     "text": [
      "extracting tarball to tmp_2302.06944... done.\n",
      "Retrieving document from  https://arxiv.org/e-print/2302.06952\n"
     ]
    },
    {
     "name": "stdout",
     "output_type": "stream",
     "text": [
      "extracting tarball to tmp_2302.06952..."
     ]
    },
    {
     "name": "stdout",
     "output_type": "stream",
     "text": [
      " done.\n",
      "Retrieving document from  https://arxiv.org/e-print/2302.06989\n"
     ]
    },
    {
     "name": "stdout",
     "output_type": "stream",
     "text": [
      "extracting tarball to tmp_2302.06989..."
     ]
    },
    {
     "name": "stdout",
     "output_type": "stream",
     "text": [
      " done.\n",
      "Retrieving document from  https://arxiv.org/e-print/2302.06997\n"
     ]
    },
    {
     "name": "stdout",
     "output_type": "stream",
     "text": [
      "extracting tarball to tmp_2302.06997..."
     ]
    },
    {
     "name": "stdout",
     "output_type": "stream",
     "text": [
      " done.\n",
      "Retrieving document from  https://arxiv.org/e-print/2302.07034\n"
     ]
    },
    {
     "name": "stderr",
     "output_type": "stream",
     "text": [
      "/opt/hostedtoolcache/Python/3.9.16/x64/lib/python3.9/site-packages/IPython/core/interactiveshell.py:3460: LatexWarning: Multiple tex files.\n",
      "\n",
      "  exec(code_obj, self.user_global_ns, self.user_ns)\n",
      "/opt/hostedtoolcache/Python/3.9.16/x64/lib/python3.9/site-packages/IPython/core/interactiveshell.py:3460: LatexWarning: Found documentclass in tmp_2302.06997/AST3.tex\n",
      "\n",
      "  exec(code_obj, self.user_global_ns, self.user_ns)\n"
     ]
    },
    {
     "name": "stdout",
     "output_type": "stream",
     "text": [
      "extracting tarball to tmp_2302.07034..."
     ]
    },
    {
     "name": "stdout",
     "output_type": "stream",
     "text": [
      " done.\n",
      "Retrieving document from  https://arxiv.org/e-print/2302.07043\n"
     ]
    },
    {
     "name": "stdout",
     "output_type": "stream",
     "text": [
      "extracting tarball to tmp_2302.07043..."
     ]
    },
    {
     "name": "stdout",
     "output_type": "stream",
     "text": [
      " done.\n",
      "Retrieving document from  https://arxiv.org/e-print/2302.07057\n"
     ]
    },
    {
     "name": "stdout",
     "output_type": "stream",
     "text": [
      "extracting tarball to tmp_2302.07057..."
     ]
    },
    {
     "name": "stdout",
     "output_type": "stream",
     "text": [
      " done.\n"
     ]
    },
    {
     "name": "stdout",
     "output_type": "stream",
     "text": [
      "Retrieving document from  https://arxiv.org/e-print/2302.07234\n"
     ]
    },
    {
     "name": "stdout",
     "output_type": "stream",
     "text": [
      "extracting tarball to tmp_2302.07234..."
     ]
    },
    {
     "name": "stdout",
     "output_type": "stream",
     "text": [
      " done.\n"
     ]
    },
    {
     "name": "stdout",
     "output_type": "stream",
     "text": [
      "Retrieving document from  https://arxiv.org/e-print/2302.07256\n"
     ]
    },
    {
     "name": "stdout",
     "output_type": "stream",
     "text": [
      "extracting tarball to tmp_2302.07256..."
     ]
    },
    {
     "name": "stdout",
     "output_type": "stream",
     "text": [
      " done.\n"
     ]
    },
    {
     "name": "stdout",
     "output_type": "stream",
     "text": [
      "Retrieving document from  https://arxiv.org/e-print/2302.07258\n"
     ]
    },
    {
     "name": "stdout",
     "output_type": "stream",
     "text": [
      "extracting tarball to tmp_2302.07258..."
     ]
    },
    {
     "name": "stdout",
     "output_type": "stream",
     "text": [
      " done.\n"
     ]
    }
   ],
   "source": [
    "documents = []\n",
    "failed = []\n",
    "for paper in tqdm(candidates[:-1]):\n",
    "    paper_id = paper['identifier'].lower().replace('arxiv:', '')\n",
    "    \n",
    "    folder = f'tmp_{paper_id}'\n",
    "\n",
    "    try:\n",
    "        if not os.path.isdir(folder):\n",
    "            folder = retrieve_document_source(f\"{paper_id}\", f'tmp_{paper_id}')\n",
    "        \n",
    "        try:\n",
    "            doc = latex.LatexDocument(folder, validation=validation)    \n",
    "        except AffiliationError as affilerror:\n",
    "            msg = f\"ArXiv:{paper_id:s} is not an MPIA paper... \" + str(affilerror)\n",
    "            failed.append((paper, \"affiliation error: \" + str(affilerror) ))\n",
    "            continue\n",
    "        \n",
    "        # Hack because sometimes author parsing does not work well\n",
    "        if (len(doc.authors) != len(paper['authors'])):\n",
    "            doc._authors = paper['authors']\n",
    "        if (doc.abstract) in (None, ''):\n",
    "            doc._abstract = paper['abstract']\n",
    "            \n",
    "        doc.comment = (get_markdown_badge(paper_id) + \n",
    "                       \"<mark>Appeared on: \" + paper['date'] + \"</mark> - \" +\n",
    "                       \"_\" + paper['comments'] + \"_\")\n",
    "        doc.highlight_authors_in_list(hl_list)\n",
    "\n",
    "        full_md = doc.generate_markdown_text()\n",
    "        \n",
    "        documents.append((paper_id, full_md))\n",
    "    except Exception as e:\n",
    "        warnings.warn(latex.LatexWarning(f\"{paper_id:s} did not run properly\\n\" +\n",
    "                                         str(e)\n",
    "                                        ))\n",
    "        failed.append((paper, \"latex error \" + str(e)))"
   ]
  },
  {
   "cell_type": "markdown",
   "id": "2505a25c",
   "metadata": {
    "papermill": {
     "duration": 0.007502,
     "end_time": "2023-02-15T04:11:53.334407",
     "exception": false,
     "start_time": "2023-02-15T04:11:53.326905",
     "status": "completed"
    },
    "tags": []
   },
   "source": [
    "### Export the logs\n",
    "\n",
    "Throughout, we also keep track of the logs per paper. see `logs-{today date}.md` "
   ]
  },
  {
   "cell_type": "code",
   "execution_count": 6,
   "id": "d733828a",
   "metadata": {
    "execution": {
     "iopub.execute_input": "2023-02-15T04:11:53.352911Z",
     "iopub.status.busy": "2023-02-15T04:11:53.352100Z",
     "iopub.status.idle": "2023-02-15T04:11:53.398150Z",
     "shell.execute_reply": "2023-02-15T04:11:53.397191Z"
    },
    "papermill": {
     "duration": 0.062279,
     "end_time": "2023-02-15T04:11:53.404718",
     "exception": false,
     "start_time": "2023-02-15T04:11:53.342439",
     "status": "completed"
    },
    "scrolled": false,
    "tags": []
   },
   "outputs": [
    {
     "data": {
      "text/markdown": [
       "## Successful papers"
      ],
      "text/plain": [
       "<IPython.core.display.Markdown object>"
      ]
     },
     "metadata": {},
     "output_type": "display_data"
    },
    {
     "data": {
      "text/markdown": [
       "\n",
       "|||\n",
       "|---:|:---|\n",
       "| [![arXiv](https://img.shields.io/badge/arXiv-arXiv:2302.07057-b31b1b.svg)](https://arxiv.org/abs/arXiv:2302.07057) | **Morphology of the gas-rich debris disk around HD 121617 with SPHERE  observations in polarized light**  |\n",
       "|| Clément Perrot, et al. -- incl., <mark>Johan Olofsson</mark> |\n",
       "|*Appeared on*| *2023-02-15*|\n",
       "|*Comments*| *12 pages, 7 figures. Accepted in A&A (06/02/2023)*|\n",
       "|**Abstract**| Debris disks are the signposts of collisionally eroding planetesimal circumstellar belts, whose study can put important constraints on the structure of extrasolar planetary systems. The best constraints on the morphology of disks are often obtained from spatially resolved observations in scattered light. Here, we investigate the young (~16 Myr) bright gas-rich debris disk around HD121617. We use new scattered-light observations with VLT/SPHERE to characterize the morphology and the dust properties of this disk. From these properties we can then derive constraints on the physical and dynamical environment of this system, for which significant amounts of gas have been detected. The disk morphology is constrained by linear-polarimetric observations in the J band. Based on our modeling results and archival photometry, we also model the SED to put constraints on the total dust mass and the dust size distribution. We explore different scenarios that could explain these new constraints. We present the first resolved image in scattered light of the debris disk HD121617. We fit the morphology of the disk, finding a semi-major axis of 78.3$\\pm$0.2 au, an inclination of 43.1$\\pm$0.2{\\deg} and a position angle of the major axis with respect to north, of 239.8$\\pm$0.3{\\deg}, compatible with the previous continuum and CO detection with ALMA. Our analysis shows that the disk has a very sharp inner edge, possibly sculpted by a yet-undetected planet or gas drag. While less sharp, its outer edge is steeper than expected for unperturbed disks, which could also be due to a planet or gas drag, but future observations probing the system farther from the main belt would help explore this further. The SED analysis leads to a dust mass of 0.21$\\pm$0.02 M$_{\\oplus}$ and a minimum grain size of 0.87$\\pm$0.12 $\\mu$m, smaller than the blowout size by radiation pressure, which is not unexpected for very bright col... |"
      ],
      "text/plain": [
       "[arXiv:2302.07057] Morphology of the gas-rich debris disk around HD 121617 with SPHERE  observations in polarized light\n",
       "\tClément Perrot, et al. -- incl., <mark>Johan Olofsson</mark>"
      ]
     },
     "metadata": {},
     "output_type": "display_data"
    },
    {
     "data": {
      "text/markdown": [
       "\n",
       "|||\n",
       "|---:|:---|\n",
       "| [![arXiv](https://img.shields.io/badge/arXiv-arXiv:2302.07234-b31b1b.svg)](https://arxiv.org/abs/arXiv:2302.07234) | **JADES Imaging of GN-z11: Revealing the Morphology and Environment of a  Luminous Galaxy 430 Myr After the Big Bang**  |\n",
       "|| Sandro Tacchella, et al. -- incl., <mark>Jakob M. Helton</mark>, <mark>Hans-Walter Rix</mark>, <mark>Anna de Graaff</mark>, <mark>Lily Whitler</mark> |\n",
       "|*Appeared on*| *2023-02-15*|\n",
       "|*Comments*| *Submitted to ApJ; 18 pages, 8 figures; comments welcome*|\n",
       "|**Abstract**| We present JWST NIRCam 9-band near-infrared imaging of the luminous $z=10.6$ galaxy GN-z11 from the JWST Advanced Deep Extragalactic Survey (JADES) of the GOODS-N field. We find a spectral energy distribution (SED) entirely consistent with the expected form of a high-redshift galaxy: a clear blue continuum from 1.5 to 4 microns with a complete dropout in F115W. The core of GN-z11 is extremely compact in JWST imaging. We analyze the image with a two-component model, using a point source and a S\\'{e}rsic profile that fits to a half-light radius of 200 pc and an index $n=0.9$. We find a low-surface brightness haze about $0.4''$ to the northeast of the galaxy, which is most likely a foreground object but might be a more extended component of GN-z11. At a spectroscopic redshift of 10.60 (Bunker et al. 2023), the comparison of the NIRCam F410M and F444W images spans the Balmer jump. From population synthesis modeling, here assuming no light from an active galactic nucleus, we reproduce the SED of GN-z11, finding a stellar mass of $\\sim$$10^{9}~M_{\\odot}$, a star-formation rate of $\\sim$$20~M_{\\odot}~\\mathrm{yr}^{-1}$ and a young stellar age of $\\sim$$20~\\mathrm{Myr}$. As massive galaxies at high redshift are likely to be highly clustered, we search for faint neighbors of GN-z11, finding 9 galaxies out to $\\sim$5 comoving Mpc transverse with photometric redshifts consistent with $z=10.6$, and a 10$^{\\rm th}$ more tentative dropout only $3''$ away. |"
      ],
      "text/plain": [
       "[arXiv:2302.07234] JADES Imaging of GN-z11: Revealing the Morphology and Environment of a  Luminous Galaxy 430 Myr After the Big Bang\n",
       "\tSandro Tacchella, et al. -- incl., <mark>Jakob M. Helton</mark>, <mark>Hans-Walter Rix</mark>, <mark>Anna de Graaff</mark>, <mark>Lily Whitler</mark>"
      ]
     },
     "metadata": {},
     "output_type": "display_data"
    },
    {
     "data": {
      "text/markdown": [
       "\n",
       "|||\n",
       "|---:|:---|\n",
       "| [![arXiv](https://img.shields.io/badge/arXiv-arXiv:2302.07256-b31b1b.svg)](https://arxiv.org/abs/arXiv:2302.07256) | **JADES NIRSpec Spectroscopy of GN-z11: Lyman-$α$ emission and  possible enhanced nitrogen abundance in a $z=10.60$ luminous galaxy**  |\n",
       "|| Andrew J. Bunker, et al. -- incl., <mark>Anna de Graaff</mark>, <mark>Hans-Walter Rix</mark> |\n",
       "|*Appeared on*| *2023-02-15*|\n",
       "|*Comments*| *Submitted to Astronomy & Astrophysics, 14 pages, 9 figures*|\n",
       "|**Abstract**| We present JADES JWST/NIRSpec spectroscopy of GN-z11, the most luminous candidate $z>10$ Lyman break galaxy in the GOODS-North field with $M_{UV}=-21.5$. We derive a redshift of $z=10.603$ (lower than previous determinations) based on multiple emission lines in our low and medium resolution spectra over $0.8-5.3\\,\\mu$m. We significantly detect the continuum and measure a blue rest-UV spectral slope of $\\beta=-2.4$. Remarkably, we see spatially-extended Lyman-$\\alpha$ in emission (despite the highly-neutral IGM expected at this early epoch), offset 555 km/s redward of the systemic redshift. From our measurements of collisionally-excited lines of both low- and high-ionization (including [O II] $\\lambda3727$, [Ne III] $\\lambda 3869$ and C III] $\\lambda1909$) we infer a high ionization parameter ($\\log U\\sim -2$). We detect the rarely-seen N IV] $\\lambda1486$ and N III]$\\lambda1748$ lines in both our low and medium resolution spectra, with other high ionization lines seen in low resolution spectrum such as He II (blended with O III]) and C IV (with a possible P-Cygni profile). Based on the observed rest-UV line ratios, we cannot conclusively rule out photoionization from AGN. The high C III]/He II ratios, however, suggest a likely star-formation explanation. If the observed emission lines are powered by star formation, then the strong N III] $\\lambda1748$ observed may imply an unusually high $N/O$ abundance. Balmer emission lines (H$\\gamma$, H$\\delta$) are also detected, and if powered by star formation rather than an AGN we infer a star formation rate of $\\sim 20-30 M_{\\odot}\\,\\rm yr^{-1}$ (depending on the IMF) and low dust attenuation. Our NIRSpec spectroscopy confirms that GN-z11 is a remarkable galaxy with extreme properties seen 430 Myr after the Big Bang. |"
      ],
      "text/plain": [
       "[arXiv:2302.07256] JADES NIRSpec Spectroscopy of GN-z11: Lyman-$α$ emission and  possible enhanced nitrogen abundance in a $z=10.60$ luminous galaxy\n",
       "\tAndrew J. Bunker, et al. -- incl., <mark>Anna de Graaff</mark>, <mark>Hans-Walter Rix</mark>"
      ]
     },
     "metadata": {},
     "output_type": "display_data"
    },
    {
     "data": {
      "text/markdown": [
       "## Failed papers"
      ],
      "text/plain": [
       "<IPython.core.display.Markdown object>"
      ]
     },
     "metadata": {},
     "output_type": "display_data"
    },
    {
     "data": {
      "text/markdown": [
       "\n",
       "|||\n",
       "|---:|:---|\n",
       "| [![arXiv](https://img.shields.io/badge/arXiv-arXiv:2302.06617-b31b1b.svg)](https://arxiv.org/abs/arXiv:2302.06617) | **Detection of magnetic fields in the circumgalactic medium of nearby  galaxies using Faraday rotation**  |\n",
       "|| <mark>V. Heesen</mark>, et al. -- incl., <mark>M. G. H. Krause</mark>, <mark>G. H. Heald</mark> |\n",
       "|*Appeared on*| *2023-02-15*|\n",
       "|*Comments*| *5 pages, 4 figures, accepted as Letter to Astronomy and Astrophysics*|\n",
       "|**Abstract**| Context. The existence of magnetic fields in the circumgalactic medium (CGM) is largely unconstrained. Their detection is important as magnetic fields can have a significant impact on the evolution of the CGM and, in turn, the fields can serve as tracers for dynamical processes in the CGM. Aims. With Faraday rotation of polarised background sources, we aim to detect a possible excess of the rotation measure in the surrounding area of nearby galaxies. Methods. We use 2,461 residual rotation measures (RRMs) observed with the LOw Frequency ARray (LOFAR), where the foreground contribution from the Milky Way is subtracted. The RRMs are then studied around a subset of 183 nearby galaxies that was selected by apparent $B$-band magnitude. Results. We find that, in general, the RRMs show no significant excess for small impact parameters (i.e. the perpendicular distance to the line of sight). However, if we only consider galaxies at higher inclination angles and sight lines that pass close to the minor axis of the galaxies, we find significant excess at impact parameters of less than 100 kpc. The excess in |RRM| is 3.7 $\\rm rad\\,m^{-2}$ with an uncertainty between $\\pm 0.9~\\rm rad\\,m^{-2}$ and $\\pm 1.3~\\rm rad\\,m^{-2}$ depending on the statistical properties of the background (2.8$\\sigma$-4.1$\\sigma$). With electron densities of ~$10^{-4}~\\rm cm^{-3}$ this suggests magnetic field strengths of a few tenths of a micro Gauss. Conclusions. Our results suggest a slow decrease of the magnetic field strength with distance from the galactic disc such as expected if the CGM is magnetised by galactic winds and outflows. |\n",
       "|<p style=\"color:green\"> **ERROR** </p>| <p style=\"color:green\">affiliation error: mpia.affiliation_verifications: 'Heidelberg' keyword not found.</p> |"
      ],
      "text/plain": [
       "<IPython.core.display.Markdown object>"
      ]
     },
     "metadata": {},
     "output_type": "display_data"
    },
    {
     "data": {
      "text/markdown": [
       "\n",
       "|||\n",
       "|---:|:---|\n",
       "| [![arXiv](https://img.shields.io/badge/arXiv-arXiv:2302.06647-b31b1b.svg)](https://arxiv.org/abs/arXiv:2302.06647) | **A massive black hole in a low-metallicity AGN at $z\\sim5.55$ revealed by  JWST/NIRSpec IFS**  |\n",
       "|| Hannah Übler, et al. -- incl., <mark>Hans-Walter Rix</mark> |\n",
       "|*Appeared on*| *2023-02-15*|\n",
       "|*Comments*| *15 pages, 10 figures; comments are welcome. Submitted to A&A*|\n",
       "|**Abstract**| We present JWST/NIRSpec Integral Field Spectrograph rest-frame optical data of the compact $z=5.55$ galaxy GS_3073. Its prominent broad components in several hydrogen and helium lines (while absent in the forbidden lines), and the detection of a large equivalent width of He II $\\lambda4686$, EW(He II) $\\sim20$ Angstrom, unambiguously identify it as an active galactic nucleus (AGN). We measure a gas-phase metallicity of $Z_{\\rm gas}/Z_\\odot\\sim0.21^{+0.08}_{-0.04}$, lower than what has been inferred for both more luminous AGN at similar redshift and lower redshift AGN. We empirically show that classical emission line ratio diagnostic diagrams cannot be used to distinguish between the primary ionisation source (AGN or star formation) for such low-metallicity systems, whereas different diagnostic diagrams involving He II$\\lambda4686$ prove very useful, independent of metallicity. We measure the central black hole mass to be $\\log(M_{\\rm BH}/M_\\odot)\\sim8.20^{+0.11}_{-0.16}$. While this places GS_3073 at the lower end of known high-redshift black hole masses, it still appears to be over-massive compared to its host galaxy properties. We detect an outflow with projected velocity $\\gtrsim700$~km/s and an ionised gas mass outflow rate of about $100\\ M_\\odot/$yr, suggesting that GS_3073 is able to enrich the intergalactic medium with metals one billion years after the Big Bang. |\n",
       "|<p style=\"color:green\"> **ERROR** </p>| <p style=\"color:green\">affiliation error: mpia.affiliation_verifications: 'Heidelberg' keyword not found.</p> |"
      ],
      "text/plain": [
       "<IPython.core.display.Markdown object>"
      ]
     },
     "metadata": {},
     "output_type": "display_data"
    },
    {
     "data": {
      "text/markdown": [
       "\n",
       "|||\n",
       "|---:|:---|\n",
       "| [![arXiv](https://img.shields.io/badge/arXiv-arXiv:2302.06680-b31b1b.svg)](https://arxiv.org/abs/arXiv:2302.06680) | **X-ray pulsar GRO J1008$-$57 as an orthogonal rotator**  |\n",
       "|| Sergey S. Tsygankov, et al. -- incl., <mark>Jeremy Heyl</mark>, <mark>Herman L. Marshall</mark> |\n",
       "|*Appeared on*| *2023-02-15*|\n",
       "|*Comments*| *11 pages, 7 figures, submitted to A&A. arXiv admin note: text overlap with arXiv:2209.02447*|\n",
       "|**Abstract**| X-ray polarimetry is a unique way to probe geometrical configuration of highly-magnetized accreting neutron stars (X-ray pulsars). GRO J1008$-$57 is the first transient X-ray pulsar observed at two different flux levels by the Imaging X-ray Polarimetry Explorer (IXPE) during its outburst in November 2022. The polarization properties were found to be independent of the source luminosity, with the polarization degree varying between non-detection to about 15% over the pulse phase. Fitting the phase-resolved spectro-polarimetric data with the rotating vector model allowed us to estimate the pulsar inclination (130 deg, which is in good agreement with the orbital inclination), the position angle (75 deg) of the pulsar spin axis, and the magnetic obliquity (74 deg). This makes GRO J1008$-$57 the first confidently identified X-ray pulsar as a nearly orthogonal rotator. The results are discussed in the context of the neutron star atmosphere models and theories of pulsars' axis alignment. |\n",
       "|<p style=\"color:green\"> **ERROR** </p>| <p style=\"color:green\">affiliation error: mpia.affiliation_verifications: 'Heidelberg' keyword not found.</p> |"
      ],
      "text/plain": [
       "<IPython.core.display.Markdown object>"
      ]
     },
     "metadata": {},
     "output_type": "display_data"
    },
    {
     "data": {
      "text/markdown": [
       "\n",
       "|||\n",
       "|---:|:---|\n",
       "| [![arXiv](https://img.shields.io/badge/arXiv-arXiv:2302.06686-b31b1b.svg)](https://arxiv.org/abs/arXiv:2302.06686) | **VERITAS and Fermi-LAT constraints on the Gamma-ray Emission from  Superluminous Supernovae SN2015bn and SN2017egm**  |\n",
       "|| A. Acharyya, et al. -- incl., <mark>A. Gent</mark>, <mark>O. Hervet</mark>, <mark>T. K Kleiner</mark>, <mark>M. J. Lang</mark> |\n",
       "|*Appeared on*| *2023-02-15*|\n",
       "|*Comments*| *20 pages, 7 figures, 2 tables*|\n",
       "|**Abstract**| Superluminous supernovae (SLSNe) are a rare class of stellar explosions with luminosities ~10-100 times greater than ordinary core-collapse supernovae. One popular model to explain the enhanced optical output of hydrogen-poor (Type I) SLSNe invokes energy injection from a rapidly spinning magnetar. A prediction in this case is that high-energy gamma rays, generated in the wind nebula of the magnetar, could escape through the expanding supernova ejecta at late times (months or more after optical peak). This paper presents a search for gamma-ray emission in the broad energy band from 100 MeV to 30 TeV from two Type I SLSNe, SN2015bn, and SN2017egm, using observations from Fermi-LAT and VERITAS. Although no gamma-ray emission was detected from either source, the derived upper limits approach the putative magnetar's spin-down luminosity. Prospects are explored for detecting very-high-energy (VHE; 100 GeV - 100 TeV) emission from SLSNe-I with existing and planned facilities such as VERITAS and CTA. |\n",
       "|<p style=\"color:green\"> **ERROR** </p>| <p style=\"color:green\">affiliation error: mpia.affiliation_verifications: 'Heidelberg' keyword not found.</p> |"
      ],
      "text/plain": [
       "<IPython.core.display.Markdown object>"
      ]
     },
     "metadata": {},
     "output_type": "display_data"
    },
    {
     "data": {
      "text/markdown": [
       "\n",
       "|||\n",
       "|---:|:---|\n",
       "| [![arXiv](https://img.shields.io/badge/arXiv-arXiv:2302.06712-b31b1b.svg)](https://arxiv.org/abs/arXiv:2302.06712) | **The SAMI Survey: Evidence for dynamical coupling of ionised gas and  young stellar populations**  |\n",
       "|| Caroline Foster, et al. -- incl., <mark>Henry R. M. Zovaro</mark> |\n",
       "|*Appeared on*| *2023-02-15*|\n",
       "|*Comments*| *11 pages, 9 figures, 1 table, accepted for publication in MNRAS*|\n",
       "|**Abstract**| We explore local and global dynamical differences between the kinematics of ionised gas and stars in a sample of galaxies from Data Release 3 of the SAMI Galaxy Survey. We find better agreement between local (i.e., comparing on a spaxel-to-spaxel basis) velocities and dispersion of gas and stars in younger systems as with previous work on the asymmetric drift in galaxies, suggesting that the dynamics of stars and ionised gas are initially coupled. The intrinsic scatter around the velocity and dispersion relations increases with increasing stellar age and mass, suggesting that subsequent mechanisms such as internal processes, divergent star formation and assembly histories also play a role in setting and altering the dynamics of galaxies. The global (flux-weighted) dynamical support of older galaxies is hotter than in younger systems. We find that the ionised gas in galaxies is almost always dynamically colder than the stars with a steeper velocity gradient. In absolute terms, the local difference in velocity dispersion is more pronounced than the local difference in velocity, possibly reflecting inherent differences in the impact of turbulence, inflow and/or feedback on gas compared to stars. We suggest how these findings may be taken into account when comparing high and low redshift galaxy samples to infer dynamical evolution. |\n",
       "|<p style=\"color:green\"> **ERROR** </p>| <p style=\"color:green\">affiliation error: mpia.affiliation_verifications: 'Heidelberg' keyword not found.</p> |"
      ],
      "text/plain": [
       "<IPython.core.display.Markdown object>"
      ]
     },
     "metadata": {},
     "output_type": "display_data"
    },
    {
     "data": {
      "text/markdown": [
       "\n",
       "|||\n",
       "|---:|:---|\n",
       "| [![arXiv](https://img.shields.io/badge/arXiv-arXiv:2302.06741-b31b1b.svg)](https://arxiv.org/abs/arXiv:2302.06741) | **A Norm-Minimization Algorithm for Solving the Cold-Start Problem with  XNAV**  |\n",
       "|| <mark>Linyi Hou</mark>, Zachary R. Putnam |\n",
       "|*Appeared on*| *2023-02-15*|\n",
       "|*Comments*| *20 pages, 15 figures. Conference paper at the AAS/AIAA Astrodynamics Specialist Conference, Charlotte, NC, August 2022. AAS 22-560*|\n",
       "|**Abstract**| An algorithm is presented for solving the cold-start problem using observations of X-ray pulsars. Using a norm-minimization-based approach, the algorithm extends Lohan's banded-error intersection model to 3-dimensional space while reducing compute time by an order of magnitude. Higher-fidelity X-ray pulsar signal models, including the parallax effect, Shapiro delay, time dilation, and higher-order pulsar timing models, are considered. The feasibility of solving the cold-start problem using X-ray pulsar navigation is revisited with the improved models and prior knowledge requirements are discussed. Monte Carlo simulations are used to establish upper bounds on uncertainty and determine the accuracy of the algorithm. Results indicate that it is necessary to account for the parallax effect, time dilation, and higher-order pulsar timing models in order to successfully determine the position of the spacecraft in a cold-start scenario. The algorithm can uniquely identify a candidate spacecraft position within a 10 AU $\\times$ 10 AU $\\times$ 0.01 AU spheroid domain by observing eight to nine pulsars. The median position error of the algorithm is on the order of 15 km. Prior knowledge of spacecraft position is technically required, but only to an accuracy of 100 AU, making it practically unnecessary for navigation within the Solar System. Results further indicate that choosing lower-frequency pulsars increases the maximum domain size but also increases position error. |\n",
       "|<p style=\"color:green\"> **ERROR** </p>| <p style=\"color:green\">affiliation error: mpia.affiliation_verifications: 'Heidelberg' keyword not found.</p> |"
      ],
      "text/plain": [
       "<IPython.core.display.Markdown object>"
      ]
     },
     "metadata": {},
     "output_type": "display_data"
    },
    {
     "data": {
      "text/markdown": [
       "\n",
       "|||\n",
       "|---:|:---|\n",
       "| [![arXiv](https://img.shields.io/badge/arXiv-arXiv:2302.06808-b31b1b.svg)](https://arxiv.org/abs/arXiv:2302.06808) | **New constraints on cosmological modified gravity theories from  anisotropic three-point correlation functions of BOSS DR12 galaxies**  |\n",
       "|| Naonori S. Sugiyama, et al. -- incl., <mark>Hee-Jong Seo</mark> |\n",
       "|*Appeared on*| *2023-02-15*|\n",
       "|*Comments*| *60 pages, 21 figures, 22 tables; a set of codes for data analysis is publicly available at this https URL*|\n",
       "|**Abstract**| We report a new test of modified gravity theories using the large-scale structure of the Universe. This paper is the first attempt to (1) apply a joint analysis of the anisotropic components of galaxy two- and three-point correlation functions (2 and 3PCFs) to actual galaxy data and (2) constrain the nonlinear effects of degenerate higher-order scalar-tensor (DHOST) theories on cosmological scales. Applying this analysis to the Baryon Oscillation Spectroscopic Survey (BOSS) data release 12, we obtain the lower bounds of $-1.655 < \\xi_{\\rm t}$ and $-0.504 < \\xi_{\\rm s}$ at the $95\\%$ confidence level on the parameters characterising the time evolution of the tidal and shift terms of the second-order velocity field. These constraints are consistent with GR predictions of $\\xi_{\\rm t}=15/1144$ and $\\xi_{\\rm s}=0$. Moreover, they represent a $35$-fold and $20$-fold improvement, respectively, over the joint analysis with only the isotropic 3PCF. We ensure the validity of our results by investigating various quantities, including theoretical models of the 3PCF, window function corrections, cumulative ${\\rm S/N}$, Fisher matrices, and statistical scattering effects of mock simulation data. We also find statistically significant discrepancies between the BOSS data and the Patchy mocks for the 3PCF measurement. Finally, we package all of our 3PCF analysis codes under the name \\textsc{HITOMI} and make them publicly available so that readers can reproduce all the results of this paper and easily apply them to ongoing future galaxy surveys. |\n",
       "|<p style=\"color:green\"> **ERROR** </p>| <p style=\"color:green\">affiliation error: mpia.affiliation_verifications: 'Heidelberg' keyword not found.</p> |"
      ],
      "text/plain": [
       "<IPython.core.display.Markdown object>"
      ]
     },
     "metadata": {},
     "output_type": "display_data"
    },
    {
     "data": {
      "text/markdown": [
       "\n",
       "|||\n",
       "|---:|:---|\n",
       "| [![arXiv](https://img.shields.io/badge/arXiv-arXiv:2302.06886-b31b1b.svg)](https://arxiv.org/abs/arXiv:2302.06886) | **Primordial black holes and scalar-induced gravitational waves from the  perturbations on the inflaton potential in peak theory**  |\n",
       "|| <mark>Ji-Xiang Zhao</mark>, <mark>Xiao-Hui Liu</mark>, <mark>Nan Li</mark> |\n",
       "|*Appeared on*| *2023-02-15*|\n",
       "|*Comments*| *22 pages, 6 figures*|\n",
       "|**Abstract**| A perturbation on the background inflaton potential can lead inflation into the ultraslow-roll stage and can thus remarkably enhance the power spectrum ${\\cal P}_{\\cal R}(k)$ of the primordial curvature perturbation on small scales. Such an enhanced ${\\cal P}_{\\cal R}(k)$ will result in primordial black holes (PBHs), contributing a significant fraction of dark matter, and will simultaneously generate sizable scalar-induced gravitational waves (SIGWs) as a secondorder effect. In this work, we calculate the PBH abundances $f_{\\rm PBH}(M)$ and SIGW spectra $\\Omega_{\\rm GW}(f)$ in peak theory. We obtain the PBHs with desirable abundances in one or two typical mass windows at $10^{-17}\\, M_\\odot$, $10^{-13}\\, M_\\odot$, and $30\\, M_\\odot$, respectively. At the same time, the relevant SIGWs are expected to be observed by the next-generation gravitational wave detectors, without spoiling the current constraint. Especially, the SIGW associated with the PBH of $30\\, M_\\odot$ can also interpret the potential isotropic stochastic gravitational wave background from the NANOGrav 12.5-year dataset. |\n",
       "|<p style=\"color:green\"> **ERROR** </p>| <p style=\"color:green\">affiliation error: mpia.affiliation_verifications: 'Heidelberg' keyword not found.</p> |"
      ],
      "text/plain": [
       "<IPython.core.display.Markdown object>"
      ]
     },
     "metadata": {},
     "output_type": "display_data"
    },
    {
     "data": {
      "text/markdown": [
       "\n",
       "|||\n",
       "|---:|:---|\n",
       "| [![arXiv](https://img.shields.io/badge/arXiv-arXiv:2302.06921-b31b1b.svg)](https://arxiv.org/abs/arXiv:2302.06921) | **Asteroids seen by JWST-MIRI: Radiometric Size, Distance and Orbit  Constraints**  |\n",
       "|| <mark>T. G. Müller</mark>, et al. |\n",
       "|*Appeared on*| *2023-02-15*|\n",
       "|*Comments*| *17 pages, 10 figures, 4 tables, accepted for A&A publication on Nov 22, 2022*|\n",
       "|**Abstract**| Infrared measurements of asteroids are crucial for the determination of physical and thermal properties of individual objects, and for the understanding of the small-body populations in the solar system as a whole. But standard radiometric methods can only be applied if the orbit of an object is known, hence its position at the time of the observation. We present MIRI observations of the outer-belt asteroid 10920 and an unknown object, detected in all 9 MIRI bands in close proximity to 10920. We developed a new method \"STM-ORBIT\" to interpret the multi-band measurements without knowing the object's true location. The method leads to a confirmation of radiometric size-albedo solution for 10920 and puts constraints on the asteroid's location and orbit in agreement with its true orbit. Groundbased lightcurve observations of 10920, combined with Gaia data, indicate a very elongated object (a/b >= 1.5), with a spin-pole at (l, b) = (178{\\deg}, 81{\\deg}), and a rotation period of 4.861191 h. A thermophysical study leads to a size of 14.5 - 16.5 km, a geometric albedo between 0.05 and 0.10, and a thermal inertia in the range 9 to 35 Jm-2s-0.5K-1. For the newly discovered MIRI object, the STM-ORBIT method revealed a size of 100-230 m. The new asteroid must be on a very low-inclination orbit and it was located in the inner main-belt region during JWST observations. A beaming parameter {\\eta} larger than 1.0 would push the size even below 100 meter, a main-belt regime which escaped IR detections so far. These kind of MIRI observations can therefore contribute to formation and evolution studies via classical size-frequency studies which are currently limited to objects larger than about one kilometer in size. We estimate that MIRI frames with pointings close to the ecliptic and only short integration times of a few seconds will always include a few asteroids, most of them will be unknown objects. |\n",
       "|<p style=\"color:green\"> **ERROR** </p>| <p style=\"color:green\">affiliation error: mpia.affiliation_verifications: 'Heidelberg' keyword not found.</p> |"
      ],
      "text/plain": [
       "<IPython.core.display.Markdown object>"
      ]
     },
     "metadata": {},
     "output_type": "display_data"
    },
    {
     "data": {
      "text/markdown": [
       "\n",
       "|||\n",
       "|---:|:---|\n",
       "| [![arXiv](https://img.shields.io/badge/arXiv-arXiv:2302.06944-b31b1b.svg)](https://arxiv.org/abs/arXiv:2302.06944) | **A general basis set algorithm for galactic haloes and discs**  |\n",
       "|| <mark>E. J. Lilley</mark>, G. van de Ven |\n",
       "|*Appeared on*| *2023-02-15*|\n",
       "|*Comments*| *to be published in Astronomy & Astrophysics*|\n",
       "|**Abstract**| We present a unified approach to (bi-)orthogonal basis sets for gravitating systems. Central to our discussion is the notion of mutual gravitational energy, which gives rise to the self-energy inner product on mass densities. We consider a first-order differential operator that is self-adjoint with respect to this inner product, and prove a general theorem that gives the conditions under which a (bi-)orthogonal basis set arises by repeated application of this differential operator. We then show that these conditions are fulfilled by all the families of analytical basis sets with infinite extent that have been discovered to date. The new theoretical framework turns out to be closely connected to Fourier-Mellin transforms, and it is a powerful tool for constructing general basis sets. We demonstrate this by deriving a basis set for the isochrone model and demonstrating its numerical reliability by reproducing a known result concerning unstable radial modes. |\n",
       "|<p style=\"color:green\"> **ERROR** </p>| <p style=\"color:green\">affiliation error: mpia.affiliation_verifications: 'Heidelberg' keyword not found.</p> |"
      ],
      "text/plain": [
       "<IPython.core.display.Markdown object>"
      ]
     },
     "metadata": {},
     "output_type": "display_data"
    },
    {
     "data": {
      "text/markdown": [
       "\n",
       "|||\n",
       "|---:|:---|\n",
       "| [![arXiv](https://img.shields.io/badge/arXiv-arXiv:2302.06952-b31b1b.svg)](https://arxiv.org/abs/arXiv:2302.06952) | **Gravitational waves from defect-driven phase transitions: domain walls**  |\n",
       "|| Simone Blasi, et al. -- incl., <mark>Henrique Rubira</mark> |\n",
       "|*Appeared on*| *2023-02-15*|\n",
       "|*Comments*| *20 pages, 6 figures*|\n",
       "|**Abstract**| We discuss the gravitational wave spectrum produced by first-order phase transitions seeded by domain wall networks. This setup is important for many two-step phase transitions as seen for example in the singlet extension of the standard model. Whenever the correlation length of the domain wall network is larger than the typical bubble size, this setup leads to a gravitational wave signal that is shifted to lower frequencies and with an enhanced amplitude compared to homogeneous phase transitions without domain walls. We discuss our results in light of the recent PTA hints for gravitational waves. |\n",
       "|<p style=\"color:green\"> **ERROR** </p>| <p style=\"color:green\">affiliation error: mpia.affiliation_verifications: 'Heidelberg' keyword not found.</p> |"
      ],
      "text/plain": [
       "<IPython.core.display.Markdown object>"
      ]
     },
     "metadata": {},
     "output_type": "display_data"
    },
    {
     "data": {
      "text/markdown": [
       "\n",
       "|||\n",
       "|---:|:---|\n",
       "| [![arXiv](https://img.shields.io/badge/arXiv-arXiv:2302.06989-b31b1b.svg)](https://arxiv.org/abs/arXiv:2302.06989) | **Discovery of the luminous X-ray ignition eRASSt J234402.9$-$352640; I.  Tidal disruption event or a rapid increase in accretion in an active galactic  nucleus?**  |\n",
       "|| D. Homan, et al. -- incl., <mark>Z. Liu</mark> |\n",
       "|*Appeared on*| *2023-02-15*|\n",
       "|*Comments*| *25 pages, 17 figures, 9 tables, Accepted for publication in A&A*|\n",
       "|**Abstract**| In November 2020, a new, bright object, eRASSt J234402.9$-$352640, was discovered in the second all-sky survey of SRG/eROSITA. The object brightened by a factor of at least 150 in 0.2--2.0 keV flux compared to an upper limit found six months previous, reaching an observed peak of $1.76_{-0.24}^{+0.03} \\times 10^{-11}$ erg cm$^{-2}$ s$^{-1}$. The X-ray ignition is associated with a galaxy at $z=0.10$, making the peak luminosity log$_{10}(L_{\\rm 0.2-2keV}/[\\textrm{erg s}^{-1}])$=$44.7\\pm0.1$. Around the time of the rise in X-ray flux, the nucleus of the galaxy brightened by approximately 3 mag. in optical photometry, after correcting for the host. We present data from Swift, XMM-Newton, and NICER, which reveal a very soft spectrum as well as strong 0.2--2.0 keV flux variability on multiple timescales. Optical spectra taken in the weeks after the ignition event show a blue continuum with broad, asymmetric Balmer emission lines, and high-ionisation ([OIII]$\\lambda\\lambda$4959,5007) and low-ionisation ([NII]$\\lambda$6585, [SII]$\\lambda\\lambda$6716,6731) narrow emission lines. Following the peak in the optical light curve, the X-ray, UV, and optical photometry all show a rapid decline. The X-ray light curve shows a decrease in luminosity of $\\sim$0.45 over 33 days and the UV shows a drop of $\\sim$0.35. eRASSt J234402.9$-$352640 also shows a brightening in the mid-infrared, likely powered by a dust echo of the luminous ignition. We find no evidence in Fermi-LAT $\\gamma$-ray data for jet-like emission. The event displays characteristics of a tidal disruption event (TDE) as well as of an active galactic nucleus (AGN), complicating its classification. Based on the softness of the X-ray spectrum, the presence of high-ionisation optical emission lines, and the likely infrared echo, we find that a TDE within a turned-off AGN best matches our observations. |\n",
       "|<p style=\"color:green\"> **ERROR** </p>| <p style=\"color:green\">affiliation error: mpia.affiliation_verifications: 'Heidelberg' keyword not found.</p> |"
      ],
      "text/plain": [
       "<IPython.core.display.Markdown object>"
      ]
     },
     "metadata": {},
     "output_type": "display_data"
    },
    {
     "data": {
      "text/markdown": [
       "\n",
       "|||\n",
       "|---:|:---|\n",
       "| [![arXiv](https://img.shields.io/badge/arXiv-arXiv:2302.06997-b31b1b.svg)](https://arxiv.org/abs/arXiv:2302.06997) | **Data Release of the AST3-2 Automatic Survey from Dome A, Antarctica**  |\n",
       "|| Xu Yang, et al. -- incl., <mark>Zhaohui Shang</mark>, <mark>Xiaoyan Li</mark>, <mark>Zhengyang Li</mark>, <mark>Lifan Wang</mark>, <mark>Lingzhe Xu</mark> |\n",
       "|*Appeared on*| *2023-02-15*|\n",
       "|*Comments*| *16 pages, 20 figures, accepted for publication in MNRAS*|\n",
       "|**Abstract**| AST3-2 is the second of the three Antarctic Survey Telescopes, aimed at wide-field time-domain optical astronomy. It is located at Dome A, Antarctica, which is by many measures the best optical astronomy site on the Earth's surface. Here we present the data from the AST3-2 automatic survey in 2016 and the photometry results. The median 5$\\sigma$ limiting magnitude in $i$-band is 17.8 mag and the light curve precision is 4 mmag for bright stars. The data release includes photometry for over 7~million stars, from which over 3,500 variable stars were detected, with 70 of them newly discovered. We classify these new variables into different types by combining their light curve features with stellar properties from surveys such as StarHorse. |\n",
       "|<p style=\"color:green\"> **ERROR** </p>| <p style=\"color:green\">affiliation error: mpia.affiliation_verifications: 'Heidelberg' keyword not found.</p> |"
      ],
      "text/plain": [
       "<IPython.core.display.Markdown object>"
      ]
     },
     "metadata": {},
     "output_type": "display_data"
    },
    {
     "data": {
      "text/markdown": [
       "\n",
       "|||\n",
       "|---:|:---|\n",
       "| [![arXiv](https://img.shields.io/badge/arXiv-arXiv:2302.07034-b31b1b.svg)](https://arxiv.org/abs/arXiv:2302.07034) | **The foreground transfer function for HI intensity mapping signal  reconstruction: MeerKLASS and precision cosmology applications**  |\n",
       "|| Steven Cunnington, et al. -- incl., <mark>Yichao Li</mark> |\n",
       "|*Appeared on*| *2023-02-15*|\n",
       "|*Comments*| *25 pages, 20 figures. See Figure 4 for the main demonstration of the transfer function's performance for reconstructing signal loss from foreground cleaning. Submitted to MNRAS for publication*|\n",
       "|**Abstract**| Blind cleaning methods are currently the preferred strategy for handling foreground contamination in single-dish HI intensity mapping surveys. Despite the increasing sophistication of blind techniques, some signal loss will be inevitable across all scales. Constructing a corrective transfer function using mock signal injection into the contaminated data has been a practice relied on for HI intensity mapping experiments. However, assessing whether this approach is viable for future intensity mapping surveys where precision cosmology is the aim, remains unexplored. In this work, using simulations, we validate for the first time the use of a foreground transfer function to reconstruct power spectra of foreground-cleaned low-redshift intensity maps and look to expose any limitations. We reveal that even when aggressive foreground cleaning is required, which causes ${>}\\,50\\%$ negative bias on the largest scales, the power spectrum can be reconstructed using a transfer function to within sub-percent accuracy. We specifically outline the recipe for constructing an unbiased transfer function, highlighting the pitfalls if one deviates from this recipe, and also correctly identify how a transfer function should be applied in an auto-correlation power spectrum. We validate a method that utilises the transfer function variance for error estimation in foreground-cleaned power spectra. Finally, we demonstrate how incorrect fiducial parameter assumptions (up to ${\\pm}100\\%$ bias) in the generation of mocks, used in the construction of the transfer function, do not significantly bias signal reconstruction or parameter inference (inducing ${<}\\,5\\%$ bias in recovered values). |\n",
       "|<p style=\"color:green\"> **ERROR** </p>| <p style=\"color:green\">affiliation error: mpia.affiliation_verifications: 'Heidelberg' keyword not found.</p> |"
      ],
      "text/plain": [
       "<IPython.core.display.Markdown object>"
      ]
     },
     "metadata": {},
     "output_type": "display_data"
    },
    {
     "data": {
      "text/markdown": [
       "\n",
       "|||\n",
       "|---:|:---|\n",
       "| [![arXiv](https://img.shields.io/badge/arXiv-arXiv:2302.07043-b31b1b.svg)](https://arxiv.org/abs/arXiv:2302.07043) | **Computation of stochastic background from extreme mass ratio inspiral  populations for LISA**  |\n",
       "|| Federico Pozzoli, et al. -- incl., <mark>Matteo Bonetti</mark> |\n",
       "|*Appeared on*| *2023-02-15*|\n",
       "|*Comments*| **|\n",
       "|**Abstract**| Extreme mass ratio inspirals (EMRIs) are among the primary targets for the Laser Interferometer Space Antenna (LISA). The extreme mass ratios of these systems result in relatively weak GW signals, that can be individually resolved only for cosmologically nearby sources (up to $z\\approx2$). The incoherent piling up of the signal emitted by unresolved EMRIs generate a confusion noise, that can be formally treated as a stochastic GW background (GWB). In this paper, we estimate the level of this background considering a collection of astrophysically motivated EMRI models, spanning the range of uncertainties affecting EMRI formation. To this end, we employed the innovative Augmented Analytic Kludge waveforms and used the full LISA response function. For each model, we compute the GWB SNR and the number of resolvable sources. Compared to simplified computations of the EMRI signals from the literature, we find that for a given model the GWB SNR is lower by a factor of $\\approx 2$ whereas the number of resolvable sources drops by a factor 3-to-5. Nonetheless, the vast majority of the models result in potentially detectable GWB which can also significantly contribute to the overall LISA noise budget in the 1-10 mHz frequency range. |\n",
       "|<p style=\"color:green\"> **ERROR** </p>| <p style=\"color:green\">affiliation error: mpia.affiliation_verifications: 'Heidelberg' keyword not found.</p> |"
      ],
      "text/plain": [
       "<IPython.core.display.Markdown object>"
      ]
     },
     "metadata": {},
     "output_type": "display_data"
    },
    {
     "data": {
      "text/markdown": [
       "\n",
       "|||\n",
       "|---:|:---|\n",
       "| [![arXiv](https://img.shields.io/badge/arXiv-arXiv:2302.07258-b31b1b.svg)](https://arxiv.org/abs/arXiv:2302.07258) | **Accelerations of stars in central 2-7 arcsec from Sgr A***  |\n",
       "|| A. Young, et al. -- incl., <mark>J. Stadler</mark> |\n",
       "|*Appeared on*| *2023-02-15*|\n",
       "|*Comments*| *Accepted for publication in Astronomy and Astrophysics, Volume 670*|\n",
       "|**Abstract**| This work presents the results from extending the long-term monitoring program of stellar motions within the Galactic Center to include stars with separations of 2 - 7 arcseconds from the compact radio source, Sgr A*. In comparison to the well studied inner 2 arcsec, a longer baseline in time is required to study these stars. With 17 years of data, a sufficient number of positions along the orbits of these outer stars can now be measured. This was achieved by designing a source finder to track the positions of ~ 2000 stars in NACO/VLT adaptive-optics-assisted images of the Galactic Center from 2002 to 2019. Of the studied stars, 54 exhibit significant accelerations toward Sgr A*, most of which have separations of between 2 and 3 arcseconds from the black hole. A further 20 of these stars have measurable radial velocities from SINFONI/VLT stellar spectra, which allows for the calculation of the orbital elements for these stars, thus increasing the number of known orbits in the Galactic Center by ~ 40 %. With orbits, we can consider which structural features within the Galactic Center nuclear star cluster these stars belong to. Most of the stars have orbital solutions that are consistent with the known clockwise rotating disk feature. Further, by employing Monte Carlo sampling for stars without radial velocity measurements, we show that many stars have a subset of possible orbits that are consistent with one of the known disk features within the Galactic Center. |\n",
       "|<p style=\"color:green\"> **ERROR** </p>| <p style=\"color:green\">affiliation error: mpia.affiliation_verifications: 'Heidelberg' keyword not found.</p> |"
      ],
      "text/plain": [
       "<IPython.core.display.Markdown object>"
      ]
     },
     "metadata": {},
     "output_type": "display_data"
    },
    {
     "data": {
      "text/markdown": [
       "\n",
       "|||\n",
       "|---:|:---|\n",
       "| [![arXiv](https://img.shields.io/badge/arXiv-arXiv:2302.06614-b31b1b.svg)](https://arxiv.org/abs/arXiv:2302.06614) | **In-situ detection of Europa's water plumes is harder than previously  thought**  |\n",
       "|| Rowan Dayton-Oxland, et al. -- incl., <mark>Arnaud Maheiux</mark> |\n",
       "|*Appeared on*| *2023-02-15*|\n",
       "|*Comments*| **|\n",
       "|**Abstract**| Europa's subsurface ocean is a potential candidate for life in the outer solar system. It is thought that plumes may exist which eject ocean material out into space, which may be detected by a spacecraft flyby. Previous work on the feasibility of these detections has assumed a collisionless model of the plume particles. New models of the plumes including particle collisions have shown that a shock can develop in the plume interior as rising particles collide with particles falling back to the moon's surface, limiting the plume's altitude. Results show that the region over Europa's surface within which plumes would be separable from the H$_2$O atmosphere by JUICE (the region of separability) is reduced by up to a half with the collisional model compared to the collisionless model. Putative plume sources which are on the border of the region of separability for the collisionless model cannot be separated from the atmosphere when the shock is considered for a mass flux case of 100kg/s. Increasing the flyby altitude by 100km such that the spacecraft passes above the shock canopy results in a reduction in region of separability by a third, whilst decreasing the flyby altitude by 100km increases the region of separability by the same amount. We recommend flybys pass through or as close to the shock as possible to sample the most high-density region. If the spacecraft flies close to the shock, the structure of the plume could be resolvable using the neutral mass spectrometer on JUICE, allowing us to test models of the plume physics and understand the underlying physics of Europa's plumes. As the altitude of the shock is uncertain and dependent on unpredictable plume parameters, we recommend flybys be lowered where possible to reduce the risk of passing above the shock and losing detection coverage, density and duration. |\n",
       "|<p style=\"color:green\"> **ERROR** </p>| <p style=\"color:green\">affiliation error: mpia.affiliation_verifications: 'Planck' keyword not found.</p> |"
      ],
      "text/plain": [
       "<IPython.core.display.Markdown object>"
      ]
     },
     "metadata": {},
     "output_type": "display_data"
    },
    {
     "data": {
      "text/markdown": [
       "\n",
       "|||\n",
       "|---:|:---|\n",
       "| [![arXiv](https://img.shields.io/badge/arXiv-arXiv:2302.06825-b31b1b.svg)](https://arxiv.org/abs/arXiv:2302.06825) | **Multi-instrument Comparative Study of Temperature, Number Density, and  Emission Measure during the Precursor Phase of a Solar Flare**  |\n",
       "|| <mark>Nian Liu</mark>, Ju Jing, Yan Xu, Haimin Wang |\n",
       "|*Appeared on*| *2023-02-15*|\n",
       "|*Comments*| *10 pages, 7 figures*|\n",
       "|**Abstract**| We present a multi-instrument study of the two precursor brightenings prior to the M6.5 flare (SOL2015-06-22T18:23) in the NOAA Active Region 12371, with a focus on the temperature (T), electron number density (n), and emission measure (EM). The data used in this study were obtained from four instruments with a variety of wavelengths, i.e., the Solar Dynamics Observatory's Atmospheric Imaging Assembly (AIA), in six extreme ultraviolet (EUV) passbands; the Expanded Owens Valley Solar Array (EOVSA) in microwave (MW); the Reuven Ramaty High Energy Solar Spectroscopic Imager (RHESSI) in hard X-rays (HXR); and the Geostationary Operational Environmental Satellite (GOES) in soft X-rays (SXR). We compare the temporal variations of T, n, and EM derived from the different data sets. Here are the key results. (1) GOES SXR and AIA EUV have almost identical EM variations (1.5-3x10^48 per cm^3) and very similar T variations, from 8 to 15 million Kelvin (MK). (2) Listed from highest to lowest, EOVSA MW provides the highest temperature variations (15-60 MK), followed by RHESSI HXR (10-24 MK), then GOES SXR and AIA EUV (8-15 MK). (3) The EM variation from the RHESSI HXR measurements is always less than the values from AIA EUV and GOES SXR by at most 20 times. The number density variation from EOVSA MW is greater than the value from AIA EUV by at most 100 times. The results quantitatively describe the differences in the thermal parameters at the precursor phase, as measured by different instruments operating at different wavelength regimes and for different emission mechanisms. |\n",
       "|<p style=\"color:red\"> **ERROR** </p>| <p style=\"color:red\">latex error not a gzip file</p> |"
      ],
      "text/plain": [
       "<IPython.core.display.Markdown object>"
      ]
     },
     "metadata": {},
     "output_type": "display_data"
    }
   ],
   "source": [
    "import datetime\n",
    "today = str(datetime.date.today())\n",
    "logfile = f\"_build/html/logs/log-{today}.md\"\n",
    "\n",
    "\n",
    "with open(logfile, 'w') as logs:\n",
    "    # Success\n",
    "    logs.write(f'# Arxiv on Deck 2: Logs - {today}\\n\\n')\n",
    "    logs.write(\"\"\"* Arxiv had {0:,d} new papers\\n\"\"\".format(len(new_papers)))\n",
    "    logs.write(\"\"\"    * {0:,d} with possible author matches\\n\\n\"\"\".format(len(candidates)))\n",
    "    logs.write(\"## Sucessful papers\\n\\n\")\n",
    "    display(Markdown(\"## Successful papers\"))\n",
    "    success = [k[0] for k in documents]\n",
    "    for candid in candidates:\n",
    "        if candid['identifier'].split(':')[-1] in success:\n",
    "            display(candid)\n",
    "            logs.write(candid.generate_markdown_text() + '\\n\\n')\n",
    "\n",
    "    ## failed\n",
    "    logs.write(\"## Failed papers\\n\\n\")\n",
    "    display(Markdown(\"## Failed papers\"))\n",
    "    failed = sorted(failed, key=lambda x: x[1])\n",
    "    current_reason = \"\"\n",
    "    for paper, reason in failed:\n",
    "        if 'affiliation' in reason:\n",
    "            color = 'green'\n",
    "        else:\n",
    "            color = 'red'\n",
    "        data = Markdown(\n",
    "                paper.generate_markdown_text() + \n",
    "                f'\\n|<p style=\"color:{color:s}\"> **ERROR** </p>| <p style=\"color:{color:s}\">{reason:s}</p> |'\n",
    "               )\n",
    "        if reason != current_reason:\n",
    "            logs.write(f'### {reason:s} \\n\\n')\n",
    "            current_reason = reason\n",
    "        logs.write(data.data + '\\n\\n')\n",
    "        \n",
    "        # only display here the important errors (all in logs)\n",
    "        # if color in ('red',):\n",
    "        display(data)"
   ]
  },
  {
   "cell_type": "markdown",
   "id": "472d20ee",
   "metadata": {
    "papermill": {
     "duration": 0.011483,
     "end_time": "2023-02-15T04:11:53.427833",
     "exception": false,
     "start_time": "2023-02-15T04:11:53.416350",
     "status": "completed"
    },
    "tags": []
   },
   "source": [
    "## Export documents\n",
    "\n",
    "We now write the .md files and export relevant images"
   ]
  },
  {
   "cell_type": "code",
   "execution_count": 7,
   "id": "d426aed9",
   "metadata": {
    "execution": {
     "iopub.execute_input": "2023-02-15T04:11:53.452526Z",
     "iopub.status.busy": "2023-02-15T04:11:53.451820Z",
     "iopub.status.idle": "2023-02-15T04:11:53.461171Z",
     "shell.execute_reply": "2023-02-15T04:11:53.460292Z"
    },
    "papermill": {
     "duration": 0.02379,
     "end_time": "2023-02-15T04:11:53.463213",
     "exception": false,
     "start_time": "2023-02-15T04:11:53.439423",
     "status": "completed"
    },
    "tags": []
   },
   "outputs": [],
   "source": [
    "def export_markdown_summary(md: str, md_fname:str, directory: str):\n",
    "    \"\"\"Export MD document and associated relevant images\"\"\"\n",
    "    import os\n",
    "    import shutil\n",
    "    import re\n",
    "\n",
    "    if (os.path.exists(directory) and not os.path.isdir(directory)):\n",
    "        raise RuntimeError(f\"a non-directory file exists with name {directory:s}\")\n",
    "\n",
    "    if (not os.path.exists(directory)):\n",
    "        print(f\"creating directory {directory:s}\")\n",
    "        os.mkdir(directory)\n",
    "\n",
    "    fig_fnames = (re.compile(r'\\[Fig.*\\]\\((.*)\\)').findall(md) + \n",
    "                  re.compile(r'\\<img src=\"([^>\\s]*)\"[^>]*/>').findall(md))\n",
    "    for fname in fig_fnames:\n",
    "        if 'http' in fname:\n",
    "            # No need to copy online figures\n",
    "            continue\n",
    "        destdir = os.path.join(directory, os.path.dirname(fname))\n",
    "        destfname = os.path.join(destdir, os.path.basename(fname))\n",
    "        try:\n",
    "            os.makedirs(destdir)\n",
    "        except FileExistsError:\n",
    "            pass\n",
    "        shutil.copy(fname, destfname)\n",
    "    with open(os.path.join(directory, md_fname), 'w') as fout:\n",
    "        fout.write(md)\n",
    "    print(\"exported in \", os.path.join(directory, md_fname))\n",
    "    [print(\"    + \" + os.path.join(directory,fk)) for fk in fig_fnames]"
   ]
  },
  {
   "cell_type": "code",
   "execution_count": 8,
   "id": "014d04a4",
   "metadata": {
    "execution": {
     "iopub.execute_input": "2023-02-15T04:11:53.487352Z",
     "iopub.status.busy": "2023-02-15T04:11:53.486785Z",
     "iopub.status.idle": "2023-02-15T04:11:53.503936Z",
     "shell.execute_reply": "2023-02-15T04:11:53.503012Z"
    },
    "papermill": {
     "duration": 0.031163,
     "end_time": "2023-02-15T04:11:53.505959",
     "exception": false,
     "start_time": "2023-02-15T04:11:53.474796",
     "status": "completed"
    },
    "tags": []
   },
   "outputs": [
    {
     "name": "stdout",
     "output_type": "stream",
     "text": [
      "exported in  _build/html/2302.07057.md\n",
      "    + _build/html/tmp_2302.07057/./images/test_triangle.png\n",
      "    + _build/html/tmp_2302.07057/./images/Qphi-Uphi-SNRmap.png\n",
      "    + _build/html/tmp_2302.07057/./images/semi-major_axis_cut.png\n",
      "exported in  _build/html/2302.07234.md\n",
      "    + _build/html/tmp_2302.07234/./ratio_flux_size.png\n",
      "    + _build/html/tmp_2302.07234/./SED.png\n",
      "    + _build/html/tmp_2302.07234/./FP_residual.png\n",
      "exported in  _build/html/2302.07256.md\n",
      "    + _build/html/tmp_2302.07256/./figures/all_emlines_gnz11_v2.png\n",
      "    + _build/html/tmp_2302.07256/./figures/GN-z11_v3GTO_1D_2D_micron_3pix.png\n",
      "    + _build/html/tmp_2302.07256/./figures/GN-z11_Lya_zoom_hist.png\n"
     ]
    }
   ],
   "source": [
    "for paper_id, md in documents:\n",
    "    export_markdown_summary(md, f\"{paper_id:s}.md\", '_build/html/')"
   ]
  },
  {
   "cell_type": "markdown",
   "id": "f087a0a7",
   "metadata": {
    "papermill": {
     "duration": 0.043321,
     "end_time": "2023-02-15T04:11:53.560796",
     "exception": false,
     "start_time": "2023-02-15T04:11:53.517475",
     "status": "completed"
    },
    "tags": []
   },
   "source": [
    "## Display the papers\n",
    "\n",
    "Not necessary but allows for a quick check."
   ]
  },
  {
   "cell_type": "code",
   "execution_count": 9,
   "id": "fd25f625",
   "metadata": {
    "execution": {
     "iopub.execute_input": "2023-02-15T04:11:53.585068Z",
     "iopub.status.busy": "2023-02-15T04:11:53.584146Z",
     "iopub.status.idle": "2023-02-15T04:11:53.593966Z",
     "shell.execute_reply": "2023-02-15T04:11:53.593155Z"
    },
    "papermill": {
     "duration": 0.024051,
     "end_time": "2023-02-15T04:11:53.595742",
     "exception": false,
     "start_time": "2023-02-15T04:11:53.571691",
     "status": "completed"
    },
    "scrolled": false,
    "tags": []
   },
   "outputs": [
    {
     "data": {
      "text/markdown": [
       "<div class=\"macros\" style=\"visibility:hidden;\">\n",
       "$\\newcommand{\\ensuremath}{}$\n",
       "$\\newcommand{\\xspace}{}$\n",
       "$\\newcommand{\\object}[1]{\\texttt{#1}}$\n",
       "$\\newcommand{\\farcs}{{.}''}$\n",
       "$\\newcommand{\\farcm}{{.}'}$\n",
       "$\\newcommand{\\arcsec}{''}$\n",
       "$\\newcommand{\\arcmin}{'}$\n",
       "$\\newcommand{\\ion}[2]{#1#2}$\n",
       "$\\newcommand{\\textsc}[1]{\\textrm{#1}}$\n",
       "$\\newcommand{\\hl}[1]{\\textrm{#1}}$\n",
       "$\\newcommand{\\mum}{\\SI{\\micro\\meter}}$\n",
       "$\\newcommand{\\deg}{^{\\circ}}$\n",
       "$\\newcommand{\\degb}{^{\\circ}}$</div>\n",
       "\n",
       "<div class=\"macros\" style=\"visibility:hidden;\">\n",
       "$\\newcommand{$\\ensuremath$}{}$\n",
       "$\\newcommand{$\\xspace$}{}$\n",
       "$\\newcommand{$\\object$}[1]{\\texttt{#1}}$\n",
       "$\\newcommand{$\\farcs$}{{.}''}$\n",
       "$\\newcommand{$\\farcm$}{{.}'}$\n",
       "$\\newcommand{$\\arcsec$}{''}$\n",
       "$\\newcommand{$\\arcmin$}{'}$\n",
       "$\\newcommand{$\\ion$}[2]{#1#2}$\n",
       "$\\newcommand{$\\textsc$}[1]{\\textrm{#1}}$\n",
       "$\\newcommand{$\\hl$}[1]{\\textrm{#1}}$\n",
       "$\\newcommand{$\\mum$}{\\SI{\\micro\\meter}}$\n",
       "$\\newcommand{$\\deg$}{^{\\circ}}$\n",
       "$\\newcommand{$\\deg$b}{^{\\circ}}$</div>\n",
       "\n",
       "\n",
       "\n",
       "<div id=\"title\">\n",
       "\n",
       "# Morphology of the gas-rich debris disk around HD 121617 with SPHERE observations in polarized light\n",
       "\n",
       "</div>\n",
       "<div id=\"comments\">\n",
       "\n",
       "[![arXiv](https://img.shields.io/badge/arXiv-2302.07057-b31b1b.svg)](https://arxiv.org/abs/2302.07057)<mark>Appeared on: 2023-02-15</mark> - _12 pages, 7 figures. Accepted in A&A (06/02/2023)_\n",
       "\n",
       "</div>\n",
       "<div id=\"authors\">\n",
       "\n",
       "Clément Perrot, et al. -- incl., <mark><mark>Johan Olofsson</mark></mark>\n",
       "\n",
       "</div>\n",
       "<div id=\"abstract\">\n",
       "\n",
       "**Abstract:** Debris disks are the signposts of collisionally eroding planetesimal circumstellar belts, whose study can put important constraints on the structure of extrasolar planetary systems. The best constraints on the morphology of disks are often obtained from spatially resolved observations in scattered light. Here, we investigate the young ($\\sim$16 Myr) bright gas-rich debris disk around HD 121617.We use new scattered-light observations with VLT/SPHERE to characterize the morphology and the dust properties of this disk. From these properties we can then derive constraints on the physical and dynamical environment of this system, for which significant amounts of gas have been detected.The disk morphology is constrained by linear-polarimetric observations in the\\textit{J}band. Based on our modeling results and archival photometry, we also model the SED to put constraints on the total dust mass and the dust size distribution. We explore different scenarios that could explain these new constraints.We present the first resolved image in scattered light of the debris disk HD 121617. We fit the morphology of the disk, finding a semi-major axis of$78.3\\pm0.2$au, an inclination of$43.1\\pm0.2^{\\circ}$and a position angle of the major axis with respect to north, of$239.8\\pm0.3^{\\circ}$, compatible with the previous continuum and CO detection with ALMA. Our analysis shows that the disk has a very sharp inner edge, possibly sculpted by a yet-undetected planet or gas drag. While less sharp, its outer edge is steeper than expected for unperturbed disks, which could also be due to a planet or gas drag, but future observations probing the system farther from the main belt would help explore this further. The SED analysis leads to a dust mass of$0.21\\pm0.02 M_{\\oplus}$and a minimum grain size of$0.87\\pm0.12 $\\mum$$, smaller than the blowout size by radiation pressure, which is not unexpected for very bright collisionally active disks.\n",
       "\n",
       "</div>\n",
       "\n",
       "<div id=\"div_fig1\">\n",
       "\n",
       "<img src=\"tmp_2302.07057/./images/test_triangle.png\" alt=\"Fig4\" width=\"100%\"/>\n",
       "\n",
       "**Figure 4. -** Corner-plot for the MCMC analysis. From left to right and top to bot: $a$($r_0$), $i$, $\\phi$, $g$, $\\alpha_\\mathrm{in}$, $\\alpha_\\mathrm{out}$, $e$ and $\\omega$. Middle dash-lines are the more probable value and external dash-lines are the 1-$\\sigma$ error. (*cornerplot*)\n",
       "\n",
       "</div>\n",
       "<div id=\"div_fig2\">\n",
       "\n",
       "<img src=\"tmp_2302.07057/./images/Qphi-Uphi-SNRmap.png\" alt=\"Fig5\" width=\"100%\"/>\n",
       "\n",
       "**Figure 5. -** Left to right: $Q_\\phi$ image, $U_\\phi$ image, and S/N map of the $J$ band observations of HD 121617. North is up, east is left. (*observation*)\n",
       "\n",
       "</div>\n",
       "<div id=\"div_fig3\">\n",
       "\n",
       "<img src=\"tmp_2302.07057/./images/semi-major_axis_cut.png\" alt=\"Fig7\" width=\"100%\"/>\n",
       "\n",
       "**Figure 7. -** $Q_{\\phi}$ radial profile following the projected major axis (6 pixels width) from the South-West to the North-East of the disk with the corresponding error bars (black points). The radial profile of the best model (red dashed line) and the Noise level obtained with the azimuthal standard deviation of the $U_{\\phi}$ image (blue dotted line).\n",
       " (*radialprofile*)\n",
       "\n",
       "</div>"
      ],
      "text/plain": [
       "<IPython.core.display.Markdown object>"
      ]
     },
     "metadata": {},
     "output_type": "display_data"
    },
    {
     "data": {
      "text/markdown": [
       "<div class=\"macros\" style=\"visibility:hidden;\">\n",
       "$\\newcommand{\\ensuremath}{}$\n",
       "$\\newcommand{\\xspace}{}$\n",
       "$\\newcommand{\\object}[1]{\\texttt{#1}}$\n",
       "$\\newcommand{\\farcs}{{.}''}$\n",
       "$\\newcommand{\\farcm}{{.}'}$\n",
       "$\\newcommand{\\arcsec}{''}$\n",
       "$\\newcommand{\\arcmin}{'}$\n",
       "$\\newcommand{\\ion}[2]{#1#2}$\n",
       "$\\newcommand{\\textsc}[1]{\\textrm{#1}}$\n",
       "$\\newcommand{\\hl}[1]{\\textrm{#1}}$\n",
       "$\\newcommand{\\url}[1]{\\href{#1}{#1}}$\n",
       "$\\newcommand{\\dodoi}[1]{doi:~\\href{http://doi.org/#1}{\\nolinkurl{#1}}}$\n",
       "$\\newcommand{\\doeprint}[1]{\\href{http://ascl.net/#1}{\\nolinkurl{http://ascl.net/#1}}}$\n",
       "$\\newcommand{\\doarXiv}[1]{\\href{https://arxiv.org/abs/#1}{\\nolinkurl{https://arxiv.org/abs/#1}}}$\n",
       "$\\newcommand{\\lya}{\\ensuremath{{\\rm Ly}\\alpha}}$\n",
       "$\\newcommand{\\kms}{\\ensuremath{{\\rm\\;km\\;s^{-1}}}}$\n",
       "$\\newcommand{\\Mpc}{\\ensuremath{{\\rm\\;Mpc}}}$\n",
       "$\\newcommand{\\Myr}{\\ensuremath{{\\rm\\;Myr}}}$\n",
       "$\\newcommand{\\Msun}{\\ensuremath{{\\rm\\;M_\\odot}}}$\n",
       "$\\newcommand{\\yr}{\\ensuremath{{\\rm\\;yr}}}$\n",
       "$\\newcommand{\\cm}{\\ensuremath{{\\rm\\;cm}}}$\n",
       "$\\newcommand{\\ergscms}{\\ensuremath{{\\rm\\;ergs\\;cm^{-2}\\;s^{-1}}}}$\n",
       "$\\newcommand{\\ergss}{\\ensuremath{{\\rm\\;ergs\\;s^{-1}}}}$\n",
       "$\\newcommand{\\mic}{\\ensuremath{\\mu\\rm m}}$\n",
       "$\\newcommand{\\ciii}{C \\textsc{iii}]}$\n",
       "$\\newcommand{\\niii}{N \\textsc{iii}]}$\n",
       "$\\newcommand{\\heii}{He \\textsc{ii}}$\n",
       "$\\newcommand{\\civ}{C \\textsc{iv}}$\n",
       "$\\newcommand{\\niv}{N \\textsc{iv}}$\n",
       "$\\newcommand{\\todo}[1]{{\\color{blue} \\tt #1}}$\n",
       "$\\newcommand{\\tbc}[1]{#1 ({\\color{red} \\tt TBC})}$\n",
       "$\\newcommand{\\tbd}{({\\color{red} \\tt TBD})}$\n",
       "$\\newcommand{\\nod}{\\nodata}$\n",
       "$\\newcommand{\\}{natexlab}$</div>\n",
       "\n",
       "<div class=\"macros\" style=\"visibility:hidden;\">\n",
       "$\\newcommand{$\\ensuremath$}{}$\n",
       "$\\newcommand{$\\xspace$}{}$\n",
       "$\\newcommand{$\\object$}[1]{\\texttt{#1}}$\n",
       "$\\newcommand{$\\farcs$}{{.}''}$\n",
       "$\\newcommand{$\\farcm$}{{.}'}$\n",
       "$\\newcommand{$\\arcsec$}{''}$\n",
       "$\\newcommand{$\\arcmin$}{'}$\n",
       "$\\newcommand{$\\ion$}[2]{#1#2}$\n",
       "$\\newcommand{$\\textsc$}[1]{\\textrm{#1}}$\n",
       "$\\newcommand{$\\hl$}[1]{\\textrm{#1}}$\n",
       "$\\newcommand{$\\url$}[1]{\\href{#1}{#1}}$\n",
       "$\\newcommand{$\\dodoi$}[1]{doi:~\\href{http://doi.org/#1}{\\nolinkurl{#1}}}$\n",
       "$\\newcommand{$\\doeprint$}[1]{\\href{http://ascl.net/#1}{\\nolinkurl{http://ascl.net/#1}}}$\n",
       "$\\newcommand{$\\doarXiv$}[1]{\\href{https://arxiv.org/abs/#1}{\\nolinkurl{https://arxiv.org/abs/#1}}}$\n",
       "$\\newcommand{$\\lya$}{$\\ensuremath${{\\rm Ly}\\alpha}}$\n",
       "$\\newcommand{$\\kms$}{$\\ensuremath${{\\rm\\;km\\;s^{-1}}}}$\n",
       "$\\newcommand{$\\Mpc$}{$\\ensuremath${{\\rm\\;Mpc}}}$\n",
       "$\\newcommand{$\\Myr$}{$\\ensuremath${{\\rm\\;Myr}}}$\n",
       "$\\newcommand{$\\Msun$}{$\\ensuremath${{\\rm\\;M_\\odot}}}$\n",
       "$\\newcommand{$\\yr$}{$\\ensuremath${{\\rm\\;yr}}}$\n",
       "$\\newcommand{$\\cm$}{$\\ensuremath${{\\rm\\;cm}}}$\n",
       "$\\newcommand{$\\ergscms$}{$\\ensuremath${{\\rm\\;ergs\\;cm^{-2}\\;s^{-1}}}}$\n",
       "$\\newcommand{$\\ergss$}{$\\ensuremath${{\\rm\\;ergs\\;s^{-1}}}}$\n",
       "$\\newcommand{$\\mic$}{$\\ensuremath${\\mu\\rm m}}$\n",
       "$\\newcommand{$\\ciii$}{C $\\textsc${iii}]}$\n",
       "$\\newcommand{$\\niii$}{N $\\textsc${iii}]}$\n",
       "$\\newcommand{$\\heii$}{He $\\textsc${ii}}$\n",
       "$\\newcommand{$\\civ$}{C $\\textsc${iv}}$\n",
       "$\\newcommand{$\\niv$}{N $\\textsc${iv}}$\n",
       "$\\newcommand{$\\todo$}[1]{{\\color{blue} \\tt #1}}$\n",
       "$\\newcommand{$\\tbc$}[1]{#1 ({\\color{red} \\tt TBC})}$\n",
       "$\\newcommand{$\\tbd$}{({\\color{red} \\tt TBD})}$\n",
       "$\\newcommand{$\\nod$}{$\\nod$ata}$\n",
       "$\\newcommand{\\}{natexlab}$</div>\n",
       "\n",
       "\n",
       "\n",
       "<div id=\"title\">\n",
       "\n",
       "# \n",
       "\n",
       "</div>\n",
       "<div id=\"comments\">\n",
       "\n",
       "[![arXiv](https://img.shields.io/badge/arXiv-2302.07234-b31b1b.svg)](https://arxiv.org/abs/2302.07234)<mark>Appeared on: 2023-02-15</mark> - _Submitted to ApJ; 18 pages, 8 figures; comments welcome_\n",
       "\n",
       "</div>\n",
       "<div id=\"authors\">\n",
       "\n",
       "Sandro Tacchella, et al. -- incl., <mark>Jakob M. Helton</mark>, <mark>Hans-Walter Rix</mark>, <mark>Anna de Graaff</mark>, <mark>Lily Whitler</mark>\n",
       "\n",
       "</div>\n",
       "<div id=\"abstract\">\n",
       "\n",
       "**Abstract:** We present JWST NIRCam 9-band near-infrared imaging of the luminous$z=10.6$galaxy GN-z11 from the JWST Advanced Deep Extragalactic Survey (JADES) of the GOODS-N field.  We find a spectral energy distribution (SED) entirely consistent with the expected form of a high-redshift galaxy: a clear blue continuum from 1.5 to 4 microns with a complete dropout in F115W.  The core of GN-z11 is extremely compact in JWST imaging.  We analyze the image with a two-component model, using a point source and a Sérsic profile that fits to a half-light radius of 200 pc and an index$n=0.9$. We find a low-surface brightness haze about$0.4\"$to the northeast of the galaxy, which is most likely a foreground object but might be a more extended component of GN-z11. At a spectroscopic redshift of 10.60\\citep{bunker23}, the comparison of the NIRCam F410M and F444W images spans the Balmer jump. From population synthesis modeling, here assuming no light from an active galactic nucleus, we reproduce the SED of GN-z11, finding a stellar mass of$\\sim10^{9} M_{\\odot}$, a star-formation rate of$\\sim20 M_{\\odot} \\mathrm{yr}^{-1}$and a young stellar age of$\\sim20$Myr. As massive galaxies at high redshift are likely to be highly clustered, we search for faint neighbors of GN-z11, finding 9 galaxies out to$\\sim$5 comoving Mpc transverse with photometric redshifts consistent with$z=10.6$, and a 10$^{\\rm th}$more tentative dropout only$3\"$away.\n",
       "\n",
       "</div>\n",
       "\n",
       "<div id=\"div_fig1\">\n",
       "\n",
       "<img src=\"tmp_2302.07234/./ratio_flux_size.png\" alt=\"Fig1\" width=\"100%\"/>\n",
       "\n",
       "**Figure 1. -** Posterior distribution of the fraction of $F200W$ flux in the Extended component as a function of its half-light size.\n",
       "We obtain this directly from the ForcePho modeling. We find an interesting covariance: the larger the Extended component, the less flux it contributes. Importantly, there is no tail towards zero size or zero flux, emphasizing that the Extended component is clearly detected and indeed extended.  (*fig:flux_ratio_size*)\n",
       "\n",
       "</div>\n",
       "<div id=\"div_fig2\">\n",
       "\n",
       "<img src=\"tmp_2302.07234/./SED.png\" alt=\"Fig2\" width=\"100%\"/>\n",
       "\n",
       "**Figure 2. -** The spectral energy distribution and thumbnail images of GN-z11 from 9 JWST NIRCam bands. Each thumbnail square is 1.5 arcsec on a side. The blue points show the 7 detected NIRCam bands (\"Galaxy\" in Table \\ref{tab:modelphotom}), while the 2$\\sigma$ upper limits for F090W and F115W are indicated as downward pointing arrows. The red solid line and the shaded region shows the median the 16th-84th percentile of the SED posterior from the Prospector modeling (Section \\ref{sec:sed}).  (*fig:sed*)\n",
       "\n",
       "</div>\n",
       "<div id=\"div_fig3\">\n",
       "\n",
       "<img src=\"tmp_2302.07234/./FP_residual.png\" alt=\"Fig4\" width=\"100%\"/>\n",
       "\n",
       "**Figure 4. -** The scene fitting from ForcePho.  We model the immediate region of GN-z11 with 3 components (in addition to the bright source on the left): a point source, an extended Sérsic component near that source, and a second Sérsic centered on the haze. The two elliptical Sérsic components are free in index $n$, half-light radius, position angle, axis ratio, and centroid.  All three components vary freely in amplitude in each band.  A fourth S\\'ersic component is used to model the brighter galaxy on the left of the thumbnails.  ForcePho fits to the individual exposures, producing a Markov Chain sampling of the likelihood of the scene. To display these residuals, we subtracted the model from the data exposures and then combined the exposures into a mosaic for each band. The residuals are very weak, indicating that the three component model has explained most of the scene.  We note that these images are displayed in pixel coordinates, unlike other images in this paper, which use the north-up mosaic. All maps are showing flux in nJy (see color bar) in each pixel.\n",
       " (*fig:FP_residual*)\n",
       "\n",
       "</div>"
      ],
      "text/plain": [
       "<IPython.core.display.Markdown object>"
      ]
     },
     "metadata": {},
     "output_type": "display_data"
    },
    {
     "data": {
      "text/markdown": [
       "<div class=\"macros\" style=\"visibility:hidden;\">\n",
       "$\\newcommand{\\ensuremath}{}$\n",
       "$\\newcommand{\\xspace}{}$\n",
       "$\\newcommand{\\object}[1]{\\texttt{#1}}$\n",
       "$\\newcommand{\\farcs}{{.}''}$\n",
       "$\\newcommand{\\farcm}{{.}'}$\n",
       "$\\newcommand{\\arcsec}{''}$\n",
       "$\\newcommand{\\arcmin}{'}$\n",
       "$\\newcommand{\\ion}[2]{#1#2}$\n",
       "$\\newcommand{\\textsc}[1]{\\textrm{#1}}$\n",
       "$\\newcommand{\\hl}[1]{\\textrm{#1}}$\n",
       "$\\newcommand{\\lya}{Ly\\alpha}$\n",
       "$\\newcommand{\\niii}{N \\textsc{iii}]}$\n",
       "$\\newcommand{\\niv}{N \\textsc{iv}]}$\n",
       "$\\newcommand{\\hei}{He \\textsc{i}}$\n",
       "$\\newcommand{\\heii}{He \\textsc{ii}}$\n",
       "$\\newcommand{\\ciii}{C \\textsc{iii}]}$\n",
       "$\\newcommand{\\oii}{[O \\textsc{ii}]}$\n",
       "$\\newcommand{\\oiii}{[O \\textsc{iii}]}$\n",
       "$\\newcommand{\\oiiiSF}{O \\textsc{iii}]}$\n",
       "$\\newcommand{\\neiii}{[Ne \\textsc{iii}]}$\n",
       "$\\newcommand{\\niiiL}{N \\textsc{iii}] \\lambda}$\n",
       "$\\newcommand{\\nivL}{N \\textsc{iv}] \\lambda}$\n",
       "$\\newcommand{\\ciiiL}{C \\textsc{iii}] \\lambda}$\n",
       "$\\newcommand{\\ciiiLL}{C \\textsc{iii}] \\lambda\\lambda}$\n",
       "$\\newcommand{\\civ}{C \\textsc{iv}}$\n",
       "$\\newcommand{\\oiiL}{[O \\textsc{ii}] \\lambda\\lambda}$\n",
       "$\\newcommand{\\oiiiL}{[O \\textsc{iii}] \\lambda}$\n",
       "$\\newcommand{\\oiiiSFL}{O \\textsc{iii}] \\lambda\\lambda}$\n",
       "$\\newcommand{\\neiiiL}{[Ne \\textsc{iii}] \\lambda}$\n",
       "$\\newcommand{\\hd}{H \\delta}$\n",
       "$\\newcommand{\\hg}{H \\gamma}$\n",
       "$\\newcommand{\\hb}{H \\beta}$\n",
       "$\\newcommand{\\mgii}{Mg \\textsc{ii}}$\n",
       "$\\newcommand{\\oiiiau}{[O \\textsc{iii}]}$\n",
       "$\\newcommand{\\oiiiauL}{[O \\textsc{iii}] \\lambda}$\n",
       "$\\newcommand{\\xhi}{x_{\\rm \\textsc{hi}}}$\n",
       "$\\newcommand{\\jwst}{\\emph{JWST}}$\n",
       "$\\newcommand{\\flux}{erg s^{-1} cm^{-2}}$\n",
       "$\\newcommand{\\kms}{km s^{-1}\\xspace}$\n",
       "$\\newcommand{\\asec}{^{\\prime\\prime}}$</div>\n",
       "\n",
       "<div class=\"macros\" style=\"visibility:hidden;\">\n",
       "$\\newcommand{$\\ensuremath$}{}$\n",
       "$\\newcommand{$\\xspace$}{}$\n",
       "$\\newcommand{$\\object$}[1]{\\texttt{#1}}$\n",
       "$\\newcommand{$\\farcs$}{{.}''}$\n",
       "$\\newcommand{$\\farcm$}{{.}'}$\n",
       "$\\newcommand{$\\arcsec$}{''}$\n",
       "$\\newcommand{$\\arcmin$}{'}$\n",
       "$\\newcommand{$\\ion$}[2]{#1#2}$\n",
       "$\\newcommand{$\\textsc$}[1]{\\textrm{#1}}$\n",
       "$\\newcommand{$\\hl$}[1]{\\textrm{#1}}$\n",
       "$\\newcommand{$\\lya$}{Ly\\alpha}$\n",
       "$\\newcommand{$\\niii$}{N $\\textsc${iii}]}$\n",
       "$\\newcommand{$\\niv$}{N $\\textsc${iv}]}$\n",
       "$\\newcommand{$\\hei$}{He $\\textsc${i}}$\n",
       "$\\newcommand{$\\hei$i}{He $\\textsc${ii}}$\n",
       "$\\newcommand{$\\ciii$}{C $\\textsc${iii}]}$\n",
       "$\\newcommand{$\\oii$}{[O $\\textsc${ii}]}$\n",
       "$\\newcommand{$\\oii$i}{[O $\\textsc${iii}]}$\n",
       "$\\newcommand{$\\oii$iSF}{O $\\textsc${iii}]}$\n",
       "$\\newcommand{$\\neiii$}{[Ne $\\textsc${iii}]}$\n",
       "$\\newcommand{$\\niii$L}{N $\\textsc${iii}] \\lambda}$\n",
       "$\\newcommand{$\\niv$L}{N $\\textsc${iv}] \\lambda}$\n",
       "$\\newcommand{$\\ciii$L}{C $\\textsc${iii}] \\lambda}$\n",
       "$\\newcommand{$\\ciii$LL}{C $\\textsc${iii}] \\lambda\\lambda}$\n",
       "$\\newcommand{$\\civ$}{C $\\textsc${iv}}$\n",
       "$\\newcommand{$\\oii$L}{[O $\\textsc${ii}] \\lambda\\lambda}$\n",
       "$\\newcommand{$\\oii$iL}{[O $\\textsc${iii}] \\lambda}$\n",
       "$\\newcommand{$\\oii$iSFL}{O $\\textsc${iii}] \\lambda\\lambda}$\n",
       "$\\newcommand{$\\neiii$L}{[Ne $\\textsc${iii}] \\lambda}$\n",
       "$\\newcommand{$\\hd$}{H \\delta}$\n",
       "$\\newcommand{$\\hg$}{H \\gamma}$\n",
       "$\\newcommand{$\\hb$}{H \\beta}$\n",
       "$\\newcommand{$\\mgii$}{Mg $\\textsc${ii}}$\n",
       "$\\newcommand{$\\oii$iau}{[O $\\textsc${iii}]}$\n",
       "$\\newcommand{$\\oii$iauL}{[O $\\textsc${iii}] \\lambda}$\n",
       "$\\newcommand{$\\xhi$}{x_{\\rm $\\textsc${hi}}}$\n",
       "$\\newcommand{$\\jwst$}{\\emph{JWST}}$\n",
       "$\\newcommand{$\\flux$}{erg s^{-1} cm^{-2}}$\n",
       "$\\newcommand{$\\kms$}{km s^{-1}$\\xspace$}$\n",
       "$\\newcommand{$\\asec$}{^{\\prime\\prime}}$</div>\n",
       "\n",
       "\n",
       "\n",
       "<div id=\"title\">\n",
       "\n",
       "#  luminous galaxy\n",
       "\n",
       "</div>\n",
       "<div id=\"comments\">\n",
       "\n",
       "[![arXiv](https://img.shields.io/badge/arXiv-2302.07256-b31b1b.svg)](https://arxiv.org/abs/2302.07256)<mark>Appeared on: 2023-02-15</mark> - _Submitted to Astronomy & Astrophysics, 14 pages, 9 figures_\n",
       "\n",
       "</div>\n",
       "<div id=\"authors\">\n",
       "\n",
       "Andrew J. Bunker, et al. -- incl., <mark><mark>Anna de Graaff</mark></mark>, <mark><mark>Hans-Walter Rix</mark></mark>\n",
       "\n",
       "</div>\n",
       "<div id=\"abstract\">\n",
       "\n",
       "**Abstract:** We present JADES JWST/NIRSpec spectroscopy of GN-z11, the most luminous candidate$z>10$Lyman break galaxy in the GOODS-North field with$M_{UV}=-21.5$. We derive a redshift of$z=10.603$(lower than previous determinations) based on multiple emission lines in our low and medium resolution spectra over$0.8-5.3 \\mu$m. We significantly detect the continuum and measure a blue rest-UV spectral slope of$\\beta=-2.4$. Remarkably, we see spatially-extended Lyman-$\\alpha$in emission (despite the highly-neutral IGM expected at this early epoch), offset 555 km s$^{-1}$redward of the systemic redshift. From our measurements of collisionally-excited lines of both low- and high-ionization (including[O$\\textsc${ii}]$\\lambda3727$,[Ne$\\textsc${iii}]$\\lambda 3869$and C$\\textsc${iii}]$\\lambda1909$) we infer a high ionization parameter ($\\log U\\sim -2$). We detect the rarely-seen N$\\textsc${iv}]$\\lambda1486$and N$\\textsc${iii}]$\\lambda1748$lines in both our low and medium resolution spectra, with other high ionization lines seen in low resolution spectrum such as He$\\textsc${ii}(blended with O$\\textsc${iii}]) and C$\\textsc${iv}(with a possible P-Cygni profile). Based on the observed rest-UV line ratios, we cannot conclusively rule out photoionization from AGN. The high C$\\textsc${iii}]/He$\\textsc${ii}ratios, however, suggest a likely star-formation explanation. If the observed emission lines are powered by star formation, then the strong N$\\textsc${iii}]$\\lambda1748$observed may imply an unusually high$N/O$abundance. Balmer emission lines (H$\\gamma$, H$\\delta$) are also detected, and if powered by star formation rather than an AGN we infer a star formation rate of$\\sim 20-30 M_{\\odot} \\rm yr^{-1}$(depending on the IMF) and low dust attenuation. Our NIRSpec spectroscopy confirms that GN-z11 is a remarkable galaxy with extreme properties seen 430 Myr after the Big Bang.\n",
       "\n",
       "</div>\n",
       "\n",
       "<div id=\"div_fig1\">\n",
       "\n",
       "<img src=\"tmp_2302.07256/./figures/all_emlines_gnz11_v2.png\" alt=\"Fig7\" width=\"100%\"/>\n",
       "\n",
       "**Figure 7. -** Emission lines seen in GN-z11 from the Medium resolution gratings, apart from the last row that shows line emission from the low resolution prism spectrum. The $\\civ$, $\\hei$i+$\\oii$iSF$\\mgii$ and $\\oii$iauL$4363$ lines are not detected with high significance in the grating spectra. (*fig:emlines*)\n",
       "\n",
       "</div>\n",
       "<div id=\"div_fig2\">\n",
       "\n",
       "<img src=\"tmp_2302.07256/./figures/GN-z11_v3GTO_1D_2D_micron_3pix.png\" alt=\"Fig6\" width=\"100%\"/>\n",
       "\n",
       "**Figure 6. -** 2D (top) and 1D (bottom) spectra of GN-z11 using PRISM/CLEAR configuration of NIRSpec. Prominent emission lines present in the spectra are marked. The signal to noise ratio (SNR) of the continuum is high and the emission lines are clearly seen in both the 1D and 2D spectra. (*fig:spectrum*)\n",
       "\n",
       "</div>\n",
       "<div id=\"div_fig3\">\n",
       "\n",
       "<img src=\"tmp_2302.07256/./figures/GN-z11_Lya_zoom_hist.png\" alt=\"Fig3\" width=\"100%\"/>\n",
       "\n",
       "**Figure 3. -** Zoom in on the $\\lya$ emission line in the G140M 1D (lower) and 2D (upper) spectra. The grey dashed line shows the systemic wavelength of the $\\lya$ transition. The histogram (top-left) of the $\\lya$ spatial profile (yellow) and that of the continuum (blue), shows the $\\lya$ emission from GN-z11 is more extended towards the south-west (up in the MSA shutter in this view). (*fig:Lya_zoom*)\n",
       "\n",
       "</div>"
      ],
      "text/plain": [
       "<IPython.core.display.Markdown object>"
      ]
     },
     "metadata": {},
     "output_type": "display_data"
    }
   ],
   "source": [
    "[display(Markdown(k[1])) for k in documents];"
   ]
  },
  {
   "cell_type": "markdown",
   "id": "873873a4",
   "metadata": {
    "papermill": {
     "duration": 0.011426,
     "end_time": "2023-02-15T04:11:53.618024",
     "exception": false,
     "start_time": "2023-02-15T04:11:53.606598",
     "status": "completed"
    },
    "tags": []
   },
   "source": [
    "# Create HTML index"
   ]
  },
  {
   "cell_type": "code",
   "execution_count": 10,
   "id": "cf665672",
   "metadata": {
    "execution": {
     "iopub.execute_input": "2023-02-15T04:11:53.643658Z",
     "iopub.status.busy": "2023-02-15T04:11:53.642902Z",
     "iopub.status.idle": "2023-02-15T04:11:53.663932Z",
     "shell.execute_reply": "2023-02-15T04:11:53.656979Z"
    },
    "papermill": {
     "duration": 0.036376,
     "end_time": "2023-02-15T04:11:53.666118",
     "exception": false,
     "start_time": "2023-02-15T04:11:53.629742",
     "status": "completed"
    },
    "tags": []
   },
   "outputs": [
    {
     "name": "stdout",
     "output_type": "stream",
     "text": [
      "204  publications in the last 7 days.\n",
      "\t _build/html/2302.07256.md\n",
      "\t _build/html/2302.07234.md\n",
      "\t _build/html/2302.07057.md\n",
      "\t _build/html/2302.05694.md\n",
      "\t _build/html/2302.05465.md\n",
      "\t _build/html/2302.04507.md\n",
      "\t _build/html/2302.04239.md\n",
      "\t _build/html/2302.04138.md\n",
      "\t _build/html/2302.03699.md\n",
      "\t _build/html/2302.03576.md\n",
      "\t _build/html/2302.03042.md\n",
      "\t _build/html/2302.03039.md\n",
      "\t _build/html/2302.02890.md\n",
      "\t _build/html/2302.02611.md\n",
      "\t _build/html/2302.02429.md\n",
      "\t _build/html/2302.01678.md\n",
      "\t _build/html/2302.00450.md\n",
      "\t _build/html/2301.13766.md\n",
      "\t _build/html/2301.13526.md\n",
      "\t _build/html/2301.12890.md\n",
      "\t _build/html/2301.11942.md\n",
      "\t _build/html/2301.10717.md\n",
      "\t _build/html/2301.10666.md\n",
      "\t _build/html/2301.10496.md\n",
      "\t _build/html/2301.09621.md\n",
      "\t _build/html/2301.09140.md\n",
      "\t _build/html/2301.08770.md\n",
      "\t _build/html/2301.08310.md\n",
      "\t _build/html/2301.07990.md\n",
      "\t _build/html/2301.07366.md\n",
      "\t _build/html/2301.07199.md\n",
      "\t _build/html/2301.07116.md\n",
      "\t _build/html/2301.06873.md\n",
      "\t _build/html/2301.06819.md\n",
      "\t _build/html/2301.06575.md\n",
      "\t _build/html/2301.05720.md\n",
      "\t _build/html/2301.05718.md\n",
      "\t _build/html/2301.05034.md\n",
      "\t _build/html/2301.04656.md\n",
      "\t _build/html/2301.04533.md\n",
      "\t _build/html/2301.04442.md\n",
      "\t _build/html/2301.03811.md\n",
      "\t _build/html/2301.03689.md\n",
      "\t _build/html/2301.03387.md\n",
      "\t _build/html/2301.03209.md\n",
      "\t _build/html/2301.02671.md\n",
      "\t _build/html/2301.02477.md\n",
      "\t _build/html/2301.02313.md\n",
      "\t _build/html/2301.02265.md\n",
      "\t _build/html/2301.01937.md\n",
      "\t _build/html/2301.01895.md\n",
      "\t _build/html/2301.01684.md\n",
      "\t _build/html/2301.01306.md\n",
      "\t _build/html/2301.00881.md\n",
      "\t _build/html/2301.00854.md\n",
      "\t _build/html/2301.00578.md\n",
      "\t _build/html/2212.12039.md\n",
      "\t _build/html/2212.11991.md\n",
      "\t _build/html/2212.11425.md\n",
      "\t _build/html/2212.11177.md\n",
      "\t _build/html/2212.10804.md\n",
      "\t _build/html/2212.10512.md\n",
      "\t _build/html/2212.09766.md\n",
      "\t _build/html/2212.09675.md\n",
      "\t _build/html/2212.09661.md\n",
      "\t _build/html/2212.09652.md\n",
      "\t _build/html/2212.09443.md\n",
      "\t _build/html/2212.09307.md\n",
      "\t _build/html/2212.09168.md\n",
      "\t _build/html/2212.09159.md\n",
      "\t _build/html/2212.08702.md\n",
      "\t _build/html/2212.07332.md\n",
      "\t _build/html/2212.06434.md\n",
      "\t _build/html/2212.04710.md\n",
      "\t _build/html/2212.04026.md\n",
      "\t _build/html/2212.03563.md\n",
      "\t _build/html/2212.03514.md\n",
      "\t _build/html/2212.02667.md\n",
      "\t _build/html/2212.02627.md\n",
      "\t _build/html/2212.02235.md\n",
      "\t _build/html/2212.01707.md\n",
      "\t _build/html/2212.01526.md\n",
      "\t _build/html/2212.01397.md\n",
      "\t _build/html/2212.01291.md\n",
      "\t _build/html/2212.01281.md\n",
      "\t _build/html/2212.00812.md\n",
      "\t _build/html/2212.00811.md\n",
      "\t _build/html/2212.00806.md\n",
      "\t _build/html/2212.00047.md\n",
      "\t _build/html/2212.00032.md\n",
      "\t _build/html/2211.16996.md\n",
      "\t _build/html/2211.16510.md\n",
      "\t _build/html/2211.16123.md\n",
      "\t _build/html/2211.15816.md\n",
      "\t _build/html/2211.15698.md\n",
      "\t _build/html/2211.15576.md\n",
      "\t _build/html/2211.15434.md\n",
      "\t _build/html/2211.15288.md\n",
      "\t _build/html/2211.15224.md\n",
      "\t _build/html/2211.14543.md\n",
      "\t _build/html/2211.14330.md\n",
      "\t _build/html/2211.14322.md\n",
      "\t _build/html/2211.14132.md\n",
      "\t _build/html/2211.13811.md\n",
      "\t _build/html/2211.13426.md\n",
      "\t _build/html/2211.13318.md\n",
      "\t _build/html/2211.13146.md\n",
      "\t _build/html/2211.12613.md\n",
      "\t _build/html/2211.11767.md\n",
      "\t _build/html/2211.09840.md\n",
      "\t _build/html/2211.09217.md\n",
      "\t _build/html/2211.08493.md\n",
      "\t _build/html/2211.08487.md\n",
      "\t _build/html/2211.08294.md\n",
      "\t _build/html/2211.07667.md\n",
      "\t _build/html/2211.07659.md\n",
      "\t _build/html/2211.06454.md\n",
      "\t _build/html/2211.06205.md\n",
      "\t _build/html/2211.06194.md\n",
      "\t _build/html/2211.05022.md\n",
      "\t _build/html/2211.04048.md\n",
      "\t _build/html/2211.03641.md\n",
      "\t _build/html/2211.02502.md\n",
      "\t _build/html/2211.01474.md\n",
      "\t _build/html/2211.00667.md\n",
      "\t _build/html/2211.00657.md\n",
      "\t _build/html/2211.00087.md\n",
      "\t _build/html/2211.00036.md\n",
      "\t _build/html/2211.00020.md\n",
      "\t _build/html/2211.00010.md\n",
      "\t _build/html/2210.17434.md\n",
      "\t _build/html/2210.12412.md\n",
      "\t _build/html/2210.11926.md\n",
      "\t _build/html/2210.11551.md\n",
      "\t _build/html/2210.11103.md\n",
      "\t _build/html/2210.10707.md\n",
      "\t _build/html/2210.09930.md\n",
      "\t _build/html/2210.08996.md\n",
      "\t _build/html/2210.08517.md\n",
      "\t _build/html/2210.08510.md\n",
      "\t _build/html/2210.08078.md\n",
      "\t _build/html/2210.06504.md\n",
      "\t _build/html/2210.05695.md\n",
      "\t _build/html/2210.05595.md\n",
      "\t _build/html/2210.05505.md\n",
      "\t _build/html/2210.04721.md\n",
      "\t _build/html/2210.03615.md\n",
      "\t _build/html/2210.01811.md\n",
      "\t _build/html/2210.01809.md\n",
      "\t _build/html/2210.01556.md\n",
      "\t _build/html/2210.00863.md\n",
      "\t _build/html/2210.00560.md\n",
      "\t _build/html/2209.15403.md\n",
      "\t _build/html/2209.15110.md\n",
      "\t _build/html/2209.14410.md\n",
      "\t _build/html/2209.14396.md\n",
      "\t _build/html/2209.13717.md\n",
      "\t _build/html/2209.13336.md\n",
      "\t _build/html/2209.12906.md\n",
      "\t _build/html/2209.11781.md\n",
      "\t _build/html/2209.11602.md\n",
      "\t _build/html/2209.11248.md\n",
      "\t _build/html/2209.11096.md\n",
      "\t _build/html/2209.10618.md\n",
      "\t _build/html/2209.09914.md\n",
      "\t _build/html/2209.09823.md\n",
      "\t _build/html/2209.08242.md\n",
      "\t _build/html/2209.08120.md\n",
      "\t _build/html/2209.08106.md\n",
      "\t _build/html/2209.07962.md\n",
      "\t _build/html/2209.07931.md\n",
      "\t _build/html/2209.06833.md\n",
      "\t _build/html/2209.05814.md\n",
      "\t _build/html/2209.05593.md\n",
      "\t _build/html/2209.04304.md\n",
      "\t _build/html/2209.03367.md\n",
      "\t _build/html/2209.02872.md\n",
      "\t _build/html/2209.02725.md\n",
      "\t _build/html/2209.02722.md\n",
      "\t _build/html/2209.02092.md\n",
      "\t _build/html/2209.01125.md\n",
      "\t _build/html/2209.00828.md\n",
      "\t _build/html/2209.00363.md\n",
      "\t _build/html/2208.14927.md\n",
      "\t _build/html/2208.09335.md\n",
      "\t _build/html/2208.08872.md\n",
      "\t _build/html/2204.06393.md\n",
      "\t _build/html/2204.03335.md\n",
      "\t _build/html/2204.03253.md\n",
      "\t _build/html/2204.02998.md\n",
      "\t _build/html/2204.02109.md\n",
      "\t _build/html/2204.02017.md\n",
      "\t _build/html/2204.01824.md\n",
      "\t _build/html/2204.01758.md\n",
      "\t _build/html/2204.01245.md\n",
      "\t _build/html/2204.00793.md\n",
      "\t _build/html/2204.00342.md\n",
      "\t _build/html/2203.16959.md\n",
      "\t _build/html/2203.16856.md\n",
      "\t _build/html/2203.16735.md\n",
      "\t _build/html/2203.16734.md\n",
      "\t _build/html/2203.16504.md\n",
      "\t _build/html/2203.15822.md\n",
      "\t _build/html/2203.15811.md\n"
     ]
    }
   ],
   "source": [
    "from datetime import datetime, timedelta, timezone\n",
    "from glob import glob\n",
    "\n",
    "files = glob('_build/html/*.md')\n",
    "days = 7\n",
    "now = datetime.today()\n",
    "res = []\n",
    "for fk in files:\n",
    "    stat_result = os.stat(fk).st_ctime\n",
    "    modified = datetime.fromtimestamp(stat_result, tz=timezone.utc).replace(tzinfo=None)\n",
    "    delta = now.today() - modified\n",
    "    if delta <= timedelta(days=days):\n",
    "        res.append((delta.seconds, fk))\n",
    "res = [k[1] for k in reversed(sorted(res, key=lambda x:x[1]))]\n",
    "npub = len(res)\n",
    "print(len(res), f\" publications in the last {days:d} days.\")\n",
    "[ print('\\t', k) for k in res ];"
   ]
  },
  {
   "cell_type": "code",
   "execution_count": 11,
   "id": "015de740",
   "metadata": {
    "execution": {
     "iopub.execute_input": "2023-02-15T04:11:53.694147Z",
     "iopub.status.busy": "2023-02-15T04:11:53.693805Z",
     "iopub.status.idle": "2023-02-15T04:11:53.718879Z",
     "shell.execute_reply": "2023-02-15T04:11:53.717844Z"
    },
    "papermill": {
     "duration": 0.04142,
     "end_time": "2023-02-15T04:11:53.721022",
     "exception": false,
     "start_time": "2023-02-15T04:11:53.679602",
     "status": "completed"
    },
    "tags": []
   },
   "outputs": [
    {
     "name": "stdout",
     "output_type": "stream",
     "text": [
      "12  publications in the last 7 days.\n"
     ]
    }
   ],
   "source": [
    "import datetime\n",
    "from glob import glob\n",
    "\n",
    "def get_last_n_days(lst, days=1):\n",
    "    \"\"\" Get the documents from the last n days \"\"\"\n",
    "    sorted_lst = sorted(lst, key=lambda x: x[1], reverse=True)\n",
    "    for fname, date in sorted_lst:\n",
    "        if date >= str(datetime.date.today() - datetime.timedelta(days=days)):\n",
    "            yield fname\n",
    "\n",
    "def extract_appearance_dates(lst_file):\n",
    "    dates = []\n",
    "\n",
    "    def get_date(line):\n",
    "        return line\\\n",
    "            .split('Appeared on:')[-1]\\\n",
    "            .split('</mark>')[0].strip()\n",
    "\n",
    "    for fname in lst:\n",
    "        with open(fname, 'r') as f:\n",
    "            found_date = False\n",
    "            for line in f:\n",
    "                if not found_date:\n",
    "                    if \"Appeared on\" in line:\n",
    "                        found_date = True\n",
    "                        dates.append((fname, get_date(line)))\n",
    "                else:\n",
    "                    break\n",
    "    return dates\n",
    "\n",
    "from glob import glob\n",
    "lst = glob('_build/html/*md')\n",
    "days = 7\n",
    "dates = extract_appearance_dates(lst)\n",
    "res = list(get_last_n_days(dates, days))\n",
    "npub = len(res)\n",
    "print(len(res), f\" publications in the last {days:d} days.\")"
   ]
  },
  {
   "cell_type": "code",
   "execution_count": 12,
   "id": "52ca0208",
   "metadata": {
    "execution": {
     "iopub.execute_input": "2023-02-15T04:11:53.748949Z",
     "iopub.status.busy": "2023-02-15T04:11:53.748609Z",
     "iopub.status.idle": "2023-02-15T04:11:53.757768Z",
     "shell.execute_reply": "2023-02-15T04:11:53.756844Z"
    },
    "papermill": {
     "duration": 0.026238,
     "end_time": "2023-02-15T04:11:53.760313",
     "exception": false,
     "start_time": "2023-02-15T04:11:53.734075",
     "status": "completed"
    },
    "scrolled": false,
    "tags": []
   },
   "outputs": [],
   "source": [
    "def create_carousel(npub=4):\n",
    "    \"\"\" Generate the HTML code for a carousel with `npub` slides \"\"\"\n",
    "    carousel = [\"\"\"<section class=\"carousel\" aria-label=\"Gallery\">\"\"\",\n",
    "                \"\"\"  <ol class=\"carousel__viewport\">\"\"\",\n",
    "    ]\n",
    "    for k in range(1, npub + 1):\n",
    "        prev_ = k - 1\n",
    "        next_ = k + 1\n",
    "        if prev_ <= 0:\n",
    "            prev_ = npub\n",
    "        if next_ > npub:\n",
    "            next_ = 1\n",
    "        text  = f\"\"\"    <li id=\"carousel__slide{k}\" tabindex=\"0\" class=\"carousel__slide\">\\n\"\"\"\n",
    "        text += f\"\"\"       <div class=\"carousel__snapper\">\\n\"\"\"\n",
    "        text += f\"\"\"         <a href=\"#carousel__slide{prev_}\" class=\"carousel__prev\">Go to previous slide</a>\\n\"\"\"\n",
    "        text += f\"\"\"         <a href=\"#carousel__slide{next_}\" class=\"carousel__next\">Go to next slide</a>\\n\"\"\"\n",
    "        text += f\"\"\"         <div id=\"slide{k}_content\" class=\"md_view\" >Content {k}</div>\\n\"\"\"\n",
    "        text += f\"\"\"       </div>\\n\"\"\"\n",
    "        text += f\"\"\"    </li>\"\"\"\n",
    "        carousel.append(text)\n",
    "\n",
    "    carousel.extend([\n",
    "        \"\"\"  </ol>\"\"\",\n",
    "        \"\"\"  <aside class=\"carousel__navigation\">\"\"\",\n",
    "        \"\"\"    <ol class=\"carousel__navigation-list\">\"\"\"])\n",
    "\n",
    "    for k in range(1, npub + 1):\n",
    "        text  = f\"\"\"      <li class=\"carousel__navigation-item\">\\n\"\"\"\n",
    "        text += f\"\"\"        <a href=\"#carousel__slide{k}\" class=\"carousel__navigation-button\">Go to {k}</a>\\n\"\"\"\n",
    "        text += f\"\"\"      </li>\"\"\"\n",
    "        carousel.append(text)\n",
    "    carousel.extend([\"\"\"    </ol>\"\"\", \"\"\"  </aside>\"\"\", \"\"\"</section>\"\"\"])\n",
    "\n",
    "    return '\\n'.join(carousel)"
   ]
  },
  {
   "cell_type": "code",
   "execution_count": 13,
   "id": "a6eac5b6",
   "metadata": {
    "execution": {
     "iopub.execute_input": "2023-02-15T04:11:53.787342Z",
     "iopub.status.busy": "2023-02-15T04:11:53.786778Z",
     "iopub.status.idle": "2023-02-15T04:11:53.793879Z",
     "shell.execute_reply": "2023-02-15T04:11:53.793130Z"
    },
    "papermill": {
     "duration": 0.022743,
     "end_time": "2023-02-15T04:11:53.795982",
     "exception": false,
     "start_time": "2023-02-15T04:11:53.773239",
     "status": "completed"
    },
    "scrolled": false,
    "tags": []
   },
   "outputs": [],
   "source": [
    "carousel = create_carousel(npub)\n",
    "docs = ', '.join(['\"{0:s}\"'.format(k.split('/')[-1]) for k in res])\n",
    "slides = ', '.join([f'\"slide{k}_content\"' for k in range(1, npub + 1)])\n",
    "\n",
    "script = f\"\"\"\n",
    "const docs = [{docs}]\n",
    "\n",
    "const slides = [{slides}]\n",
    "\"\"\" + \"\"\"\n",
    "async function run() {\n",
    "    for (let i = 0; i < docs.length; i++) {\n",
    "        let file = await fetch(docs[i]);\n",
    "        let text = await file.text()\n",
    "        document.getElementById(slides[i]).innerHTML =\n",
    "            marked.parse(text);\n",
    "    }\n",
    "    hljs.highlightAll();\n",
    "}\n",
    "run()\n",
    "\"\"\"\n",
    "\n",
    "page = f\"\"\"<!doctype html>\n",
    "<html lang=\"en\">\n",
    "\n",
    "<head>\n",
    "  <meta charset=\"utf-8\">\n",
    "  <meta name=\"viewport\" content=\"width=device-width, initial-scale=1\">\n",
    "  <!-- Bootstrap CSS -->\n",
    "  <link href=\"https://cdn.jsdelivr.net/npm/bootstrap@5.0.2/dist/css/bootstrap.min.css\" rel=\"stylesheet\"\n",
    "   integrity=\"sha384-EVSTQN3/azprG1Anm3QDgpJLIm9Nao0Yz1ztcQTwFspd3yD65VohhpuuCOmLASjC\" crossorigin=\"anonymous\">\n",
    "  <!-- highlight.js CSS -->\n",
    "  <link rel=\"stylesheet\" href=\"https://cdnjs.cloudflare.com/ajax/libs/highlight.js/11.1.0/styles/default.min.css\">\n",
    "  <!-- Mathjax 3 -->\n",
    "  <script type=\"text/javascript\" id=\"MathJax-config\" src=\"mathjax_config.js\"> </script>\n",
    "  <script type=\"text/javascript\" id=\"MathJax-script\" async \n",
    "    src=\"https://cdn.jsdelivr.net/npm/mathjax@3/es5/tex-mml-chtml.js\">\n",
    "  </script>\n",
    "  <link rel=\"stylesheet\" href=\"index_carousel.css\">\n",
    "  <link rel=\"icon\" type=\"image/x-icon\" href=\"https://www.mpia.de/assets/touch-icon-32x32-a66937bcebc4e8894ebff1f41a366c7c7220fd97a38869ee0f2db65a9f59b6c1.png\">\n",
    "  <title>MPIA Arxiv on deck!</title>\n",
    "</head>\n",
    "\n",
    "<body>\n",
    "  <div id=\"header\"> <img src=\"header_banner.png\" width=\"100%\"></div>\n",
    "  <div id=\"suptitle\"> 7-day archives </div>\n",
    "  <div id=\"info\">\n",
    "    <img src=\"https://pngimg.com/uploads/github/github_PNG58.png\" height=30rem></img>\n",
    "    <a href=https://github.com/mpi-astronomy/arxiv_display style=\"color:black;\">github/mpi-astronomy/arxiv_display</a> \n",
    "  </div>\n",
    "  {carousel:s}\n",
    "</body>\n",
    "\n",
    "<!-- Render Markdown -->\n",
    "\n",
    "<body>\n",
    "  <!-- highlight.js: https://highlightjs.org/download/ -->\n",
    "  <script src=\"https://cdnjs.cloudflare.com/ajax/libs/highlight.js/11.5.0/highlight.min.js\"></script>\n",
    "  <!-- marked.js -->\n",
    "  <script src=\"https://cdn.jsdelivr.net/npm/marked/marked.min.js\"></script>\n",
    "  <script>{script:s}</script>\n",
    "</body>\n",
    "</html>\n",
    "\"\"\"\n",
    "with open(\"_build/html/index_7days.html\", 'w') as fout:\n",
    "    fout.write(page)"
   ]
  },
  {
   "cell_type": "markdown",
   "id": "1cebacbc",
   "metadata": {
    "papermill": {
     "duration": 0.01294,
     "end_time": "2023-02-15T04:11:53.821807",
     "exception": false,
     "start_time": "2023-02-15T04:11:53.808867",
     "status": "completed"
    },
    "tags": []
   },
   "source": [
    "# Debugging papers"
   ]
  },
  {
   "cell_type": "raw",
   "id": "debe7cc6",
   "metadata": {
    "papermill": {
     "duration": 0.012515,
     "end_time": "2023-02-15T04:11:53.847032",
     "exception": false,
     "start_time": "2023-02-15T04:11:53.834517",
     "status": "completed"
    },
    "tags": []
   },
   "source": [
    "raise NotImplementedError(\"Manual Stop\")"
   ]
  },
  {
   "cell_type": "raw",
   "id": "eb169192",
   "metadata": {
    "papermill": {
     "duration": 0.026961,
     "end_time": "2023-02-15T04:11:53.887017",
     "exception": false,
     "start_time": "2023-02-15T04:11:53.860056",
     "status": "completed"
    },
    "scrolled": true,
    "tags": []
   },
   "source": [
    "from IPython.display import display, Markdown\n",
    "from TexSoup import TexSoup\n",
    "import re\n",
    "\n",
    "def bracket_error(source: str):\n",
    "    \"\"\" Find problematic portions of the document \"\"\"\n",
    "    \n",
    "    print(\"len(source)\", len(source))\n",
    "    \n",
    "    # Checking header\n",
    "    begin_doc = next(re.finditer(r'\\\\begin\\{document\\}', doc.source)).span()[1]\n",
    "    header = source[:begin_doc]\n",
    "    text = header + r\"\\n\\end{document}\"\n",
    "\n",
    "    try:\n",
    "        # print(\"Header check... \", end='')\n",
    "        TexSoup(text)\n",
    "        display(Markdown(f\"**[OK]** - Header\"))\n",
    "    except:\n",
    "        raise RuntimeError(\"Error in the header\")\n",
    "        \n",
    "    # Check the text per section until the end.\n",
    "    # Do not stop and try them all.\n",
    "    \n",
    "    problematic_text = []\n",
    "    \n",
    "    sections = ([(0, begin_doc, 'until first section')] + \n",
    "                [(g.span()[0], g.span()[1], g.group()) for g in re.finditer(r'\\\\section\\{.*\\}', source)] +\n",
    "                [(g.span()[0], g.span()[1], g.group()) for g in re.finditer(r'\\\\begin\\{appendix\\}', source)]\n",
    "               )\n",
    "    sections.append([len(source), len(source), 'end'])\n",
    "    \n",
    "    sections = sorted(sections, key=lambda x: x[0])\n",
    "    \n",
    "    prev_pos, prev_name = (0, 'header')\n",
    "    parsed = []\n",
    "    \n",
    "    for span, span_end, name in sections:\n",
    "\n",
    "        if span - prev_pos <= 0:\n",
    "            continue\n",
    "            \n",
    "\n",
    "        text = source[prev_pos:span]\n",
    "        if prev_pos > begin_doc:\n",
    "            text = r\"\\n\\begin{document}\" + text + r\"\\n\\end{document}\"\n",
    "        else:\n",
    "            text = text + r\"\\n\\end{document}\"\n",
    "        try:\n",
    "            #print(f\"{prev_pos}:{prev_name}-->{span}:{name} check... \", end='')\n",
    "            parsed.append(TexSoup(text, tolerance=1))  # allow not ending env\n",
    "            display(Markdown(f\"**[OK]** - *{prev_pos}*:{prev_name} &rarr; *{span}*:{name}\"))\n",
    "            # print(\"ok\")\n",
    "\n",
    "            prev_pos = span\n",
    "            prev_name = name\n",
    "        except:\n",
    "            # print(f\"error between {prev_pos} and {span}\")\n",
    "            display(Markdown(f\"**[ERR]** *{prev_pos}*:{prev_name} &rarr; *{span}*:{name}\"))\n",
    "            problematic_text.append((prev_pos, source[prev_pos:span]))\n",
    "            prev_pos = span\n",
    "            prev_name = name\n",
    "            # raise\n",
    "    return problematic_text, parsed\n",
    "\n",
    "\n",
    "def check_environment(text, offset=0):\n",
    "    \"\"\" Check environment \"\"\"\n",
    "    env = re.compile(r\"\\\\begin\\{(?P<env>.*)\\}(.*)\\\\end\\{(?P=env)\\}\", re.DOTALL)\n",
    "\n",
    "    for match in env.finditer(text):\n",
    "        beg, end = match.span()\n",
    "        beg += offset\n",
    "        end += offset\n",
    "        envname = match.groups()[0]\n",
    "        try:\n",
    "            latex.TexSoup(match.group())\n",
    "        except Exception as e:\n",
    "            display(e)\n",
    "            print(f\"Error in {envname:s} between {beg} and {end}\")\n",
    "            return match.groups()[1], beg, end"
   ]
  },
  {
   "cell_type": "raw",
   "id": "2315e835",
   "metadata": {
    "papermill": {
     "duration": 0.025467,
     "end_time": "2023-02-15T04:11:53.939004",
     "exception": false,
     "start_time": "2023-02-15T04:11:53.913537",
     "status": "completed"
    },
    "scrolled": false,
    "tags": []
   },
   "source": [
    "import importlib\n",
    "importlib.reload(latex)\n",
    "which = \"2204.03253\"\n",
    "paper_id = f'{which:s}'\n",
    "folder = f'tmp_{paper_id:s}'\n",
    "\n",
    "if not os.path.isdir(folder):\n",
    "    folder = retrieve_document_source(f\"{paper_id}\", f'tmp_{paper_id}')\n",
    "\n",
    "try:\n",
    "    doc = latex.LatexDocument(folder, validation=validation)    \n",
    "except AffiliationError as affilerror:\n",
    "    msg = f\"ArXiv:{paper_id:s} is not an MPIA paper... \" + str(affilerror)\n",
    "    print(msg)\n",
    "\n",
    "\n",
    "# Hack because sometimes author parsing does not work well\n",
    "if (len(doc.authors) != len(paper['authors'])):\n",
    "    doc._authors = paper['authors']\n",
    "if (doc.abstract) in (None, ''):\n",
    "    doc._abstract = paper['abstract']\n",
    "\n",
    "doc.comment = get_markdown_badge(paper_id) + \" _\" + paper['comments'] + \"_\"\n",
    "doc.highlight_authors_in_list(hl_list)\n",
    "\n",
    "full_md = doc.generate_markdown_text()"
   ]
  },
  {
   "cell_type": "raw",
   "id": "dd3781db",
   "metadata": {
    "papermill": {
     "duration": 0.012611,
     "end_time": "2023-02-15T04:11:53.964369",
     "exception": false,
     "start_time": "2023-02-15T04:11:53.951758",
     "status": "completed"
    },
    "scrolled": false,
    "tags": []
   },
   "source": [
    "doc"
   ]
  },
  {
   "cell_type": "raw",
   "id": "c6eed834",
   "metadata": {
    "papermill": {
     "duration": 0.012624,
     "end_time": "2023-02-15T04:11:53.989250",
     "exception": false,
     "start_time": "2023-02-15T04:11:53.976626",
     "status": "completed"
    },
    "tags": []
   },
   "source": [
    "# [check_environment(k) for k in bracket_error(doc.source)]\n",
    "_, _, a = latex.get_content_per_section(doc.source, verbose=True)\n",
    "if not a:\n",
    "    print(\"no issues per section\")\n",
    "for ak in a:\n",
    "    r = check_environment(ak[1], offset=ak[0])\n",
    "    print(r[1], r[2])\n",
    "    print(r[0])"
   ]
  },
  {
   "cell_type": "code",
   "execution_count": null,
   "id": "71ce768a",
   "metadata": {
    "papermill": {
     "duration": 0.011837,
     "end_time": "2023-02-15T04:11:54.013063",
     "exception": false,
     "start_time": "2023-02-15T04:11:54.001226",
     "status": "completed"
    },
    "tags": []
   },
   "outputs": [],
   "source": []
  }
 ],
 "metadata": {
  "kernelspec": {
   "display_name": "Python 3",
   "language": "python",
   "name": "python3"
  },
  "language_info": {
   "codemirror_mode": {
    "name": "ipython",
    "version": 3
   },
   "file_extension": ".py",
   "mimetype": "text/x-python",
   "name": "python",
   "nbconvert_exporter": "python",
   "pygments_lexer": "ipython3",
   "version": "3.9.16"
  },
  "papermill": {
   "default_parameters": {},
   "duration": 210.025484,
   "end_time": "2023-02-15T04:11:54.356814",
   "environment_variables": {},
   "exception": null,
   "input_path": "MPIA daily digest.ipynb",
   "output_path": "log.ipynb",
   "parameters": {},
   "start_time": "2023-02-15T04:08:24.331330",
   "version": "2.4.0"
  },
  "vscode": {
   "interpreter": {
    "hash": "aee8b7b246df8f9039afb4144a1f6fd8d2ca17a180786b69acc140d282b71a49"
   }
  },
  "widgets": {
   "application/vnd.jupyter.widget-state+json": {
    "state": {
     "01b3a650f48f4f5ab04917ce89591adc": {
      "model_module": "@jupyter-widgets/controls",
      "model_module_version": "2.0.0",
      "model_name": "FloatProgressModel",
      "state": {
       "_dom_classes": [],
       "_model_module": "@jupyter-widgets/controls",
       "_model_module_version": "2.0.0",
       "_model_name": "FloatProgressModel",
       "_view_count": null,
       "_view_module": "@jupyter-widgets/controls",
       "_view_module_version": "2.0.0",
       "_view_name": "ProgressView",
       "bar_style": "success",
       "description": "",
       "description_allow_html": false,
       "layout": "IPY_MODEL_10c0b60351e7449ebaab45480c46ad17",
       "max": 21.0,
       "min": 0.0,
       "orientation": "horizontal",
       "style": "IPY_MODEL_5f5dca6dc2b34221b5d315cf2d4707ff",
       "tabbable": null,
       "tooltip": null,
       "value": 21.0
      }
     },
     "09f85ba48b7d4a8ba30788d596793b61": {
      "model_module": "@jupyter-widgets/base",
      "model_module_version": "2.0.0",
      "model_name": "LayoutModel",
      "state": {
       "_model_module": "@jupyter-widgets/base",
       "_model_module_version": "2.0.0",
       "_model_name": "LayoutModel",
       "_view_count": null,
       "_view_module": "@jupyter-widgets/base",
       "_view_module_version": "2.0.0",
       "_view_name": "LayoutView",
       "align_content": null,
       "align_items": null,
       "align_self": null,
       "border_bottom": null,
       "border_left": null,
       "border_right": null,
       "border_top": null,
       "bottom": null,
       "display": null,
       "flex": null,
       "flex_flow": null,
       "grid_area": null,
       "grid_auto_columns": null,
       "grid_auto_flow": null,
       "grid_auto_rows": null,
       "grid_column": null,
       "grid_gap": null,
       "grid_row": null,
       "grid_template_areas": null,
       "grid_template_columns": null,
       "grid_template_rows": null,
       "height": null,
       "justify_content": null,
       "justify_items": null,
       "left": null,
       "margin": null,
       "max_height": null,
       "max_width": null,
       "min_height": null,
       "min_width": null,
       "object_fit": null,
       "object_position": null,
       "order": null,
       "overflow": null,
       "padding": null,
       "right": null,
       "top": null,
       "visibility": null,
       "width": null
      }
     },
     "10c0b60351e7449ebaab45480c46ad17": {
      "model_module": "@jupyter-widgets/base",
      "model_module_version": "2.0.0",
      "model_name": "LayoutModel",
      "state": {
       "_model_module": "@jupyter-widgets/base",
       "_model_module_version": "2.0.0",
       "_model_name": "LayoutModel",
       "_view_count": null,
       "_view_module": "@jupyter-widgets/base",
       "_view_module_version": "2.0.0",
       "_view_name": "LayoutView",
       "align_content": null,
       "align_items": null,
       "align_self": null,
       "border_bottom": null,
       "border_left": null,
       "border_right": null,
       "border_top": null,
       "bottom": null,
       "display": null,
       "flex": null,
       "flex_flow": null,
       "grid_area": null,
       "grid_auto_columns": null,
       "grid_auto_flow": null,
       "grid_auto_rows": null,
       "grid_column": null,
       "grid_gap": null,
       "grid_row": null,
       "grid_template_areas": null,
       "grid_template_columns": null,
       "grid_template_rows": null,
       "height": null,
       "justify_content": null,
       "justify_items": null,
       "left": null,
       "margin": null,
       "max_height": null,
       "max_width": null,
       "min_height": null,
       "min_width": null,
       "object_fit": null,
       "object_position": null,
       "order": null,
       "overflow": null,
       "padding": null,
       "right": null,
       "top": null,
       "visibility": null,
       "width": null
      }
     },
     "5f5dca6dc2b34221b5d315cf2d4707ff": {
      "model_module": "@jupyter-widgets/controls",
      "model_module_version": "2.0.0",
      "model_name": "ProgressStyleModel",
      "state": {
       "_model_module": "@jupyter-widgets/controls",
       "_model_module_version": "2.0.0",
       "_model_name": "ProgressStyleModel",
       "_view_count": null,
       "_view_module": "@jupyter-widgets/base",
       "_view_module_version": "2.0.0",
       "_view_name": "StyleView",
       "bar_color": null,
       "description_width": ""
      }
     },
     "61c333fe8aea453782a220be1dd5e1a0": {
      "model_module": "@jupyter-widgets/controls",
      "model_module_version": "2.0.0",
      "model_name": "HTMLStyleModel",
      "state": {
       "_model_module": "@jupyter-widgets/controls",
       "_model_module_version": "2.0.0",
       "_model_name": "HTMLStyleModel",
       "_view_count": null,
       "_view_module": "@jupyter-widgets/base",
       "_view_module_version": "2.0.0",
       "_view_name": "StyleView",
       "background": null,
       "description_width": "",
       "font_size": null,
       "text_color": null
      }
     },
     "623f39ad6e6e44a6ab7e3021e759dda6": {
      "model_module": "@jupyter-widgets/controls",
      "model_module_version": "2.0.0",
      "model_name": "HBoxModel",
      "state": {
       "_dom_classes": [],
       "_model_module": "@jupyter-widgets/controls",
       "_model_module_version": "2.0.0",
       "_model_name": "HBoxModel",
       "_view_count": null,
       "_view_module": "@jupyter-widgets/controls",
       "_view_module_version": "2.0.0",
       "_view_name": "HBoxView",
       "box_style": "",
       "children": [
        "IPY_MODEL_814a2a64bc8f42f3b053ede47dd66977",
        "IPY_MODEL_01b3a650f48f4f5ab04917ce89591adc",
        "IPY_MODEL_db99f916927248fabebc57570dd5a714"
       ],
       "layout": "IPY_MODEL_6988ab833ae84c009874f5309011d9a3",
       "tabbable": null,
       "tooltip": null
      }
     },
     "6988ab833ae84c009874f5309011d9a3": {
      "model_module": "@jupyter-widgets/base",
      "model_module_version": "2.0.0",
      "model_name": "LayoutModel",
      "state": {
       "_model_module": "@jupyter-widgets/base",
       "_model_module_version": "2.0.0",
       "_model_name": "LayoutModel",
       "_view_count": null,
       "_view_module": "@jupyter-widgets/base",
       "_view_module_version": "2.0.0",
       "_view_name": "LayoutView",
       "align_content": null,
       "align_items": null,
       "align_self": null,
       "border_bottom": null,
       "border_left": null,
       "border_right": null,
       "border_top": null,
       "bottom": null,
       "display": null,
       "flex": null,
       "flex_flow": null,
       "grid_area": null,
       "grid_auto_columns": null,
       "grid_auto_flow": null,
       "grid_auto_rows": null,
       "grid_column": null,
       "grid_gap": null,
       "grid_row": null,
       "grid_template_areas": null,
       "grid_template_columns": null,
       "grid_template_rows": null,
       "height": null,
       "justify_content": null,
       "justify_items": null,
       "left": null,
       "margin": null,
       "max_height": null,
       "max_width": null,
       "min_height": null,
       "min_width": null,
       "object_fit": null,
       "object_position": null,
       "order": null,
       "overflow": null,
       "padding": null,
       "right": null,
       "top": null,
       "visibility": null,
       "width": null
      }
     },
     "814a2a64bc8f42f3b053ede47dd66977": {
      "model_module": "@jupyter-widgets/controls",
      "model_module_version": "2.0.0",
      "model_name": "HTMLModel",
      "state": {
       "_dom_classes": [],
       "_model_module": "@jupyter-widgets/controls",
       "_model_module_version": "2.0.0",
       "_model_name": "HTMLModel",
       "_view_count": null,
       "_view_module": "@jupyter-widgets/controls",
       "_view_module_version": "2.0.0",
       "_view_name": "HTMLView",
       "description": "",
       "description_allow_html": false,
       "layout": "IPY_MODEL_87992d486dfe4c3389311199af17e0c9",
       "placeholder": "​",
       "style": "IPY_MODEL_61c333fe8aea453782a220be1dd5e1a0",
       "tabbable": null,
       "tooltip": null,
       "value": "100%"
      }
     },
     "87992d486dfe4c3389311199af17e0c9": {
      "model_module": "@jupyter-widgets/base",
      "model_module_version": "2.0.0",
      "model_name": "LayoutModel",
      "state": {
       "_model_module": "@jupyter-widgets/base",
       "_model_module_version": "2.0.0",
       "_model_name": "LayoutModel",
       "_view_count": null,
       "_view_module": "@jupyter-widgets/base",
       "_view_module_version": "2.0.0",
       "_view_name": "LayoutView",
       "align_content": null,
       "align_items": null,
       "align_self": null,
       "border_bottom": null,
       "border_left": null,
       "border_right": null,
       "border_top": null,
       "bottom": null,
       "display": null,
       "flex": null,
       "flex_flow": null,
       "grid_area": null,
       "grid_auto_columns": null,
       "grid_auto_flow": null,
       "grid_auto_rows": null,
       "grid_column": null,
       "grid_gap": null,
       "grid_row": null,
       "grid_template_areas": null,
       "grid_template_columns": null,
       "grid_template_rows": null,
       "height": null,
       "justify_content": null,
       "justify_items": null,
       "left": null,
       "margin": null,
       "max_height": null,
       "max_width": null,
       "min_height": null,
       "min_width": null,
       "object_fit": null,
       "object_position": null,
       "order": null,
       "overflow": null,
       "padding": null,
       "right": null,
       "top": null,
       "visibility": null,
       "width": null
      }
     },
     "b4111645223a4c1facc52476cb632d49": {
      "model_module": "@jupyter-widgets/controls",
      "model_module_version": "2.0.0",
      "model_name": "HTMLStyleModel",
      "state": {
       "_model_module": "@jupyter-widgets/controls",
       "_model_module_version": "2.0.0",
       "_model_name": "HTMLStyleModel",
       "_view_count": null,
       "_view_module": "@jupyter-widgets/base",
       "_view_module_version": "2.0.0",
       "_view_name": "StyleView",
       "background": null,
       "description_width": "",
       "font_size": null,
       "text_color": null
      }
     },
     "db99f916927248fabebc57570dd5a714": {
      "model_module": "@jupyter-widgets/controls",
      "model_module_version": "2.0.0",
      "model_name": "HTMLModel",
      "state": {
       "_dom_classes": [],
       "_model_module": "@jupyter-widgets/controls",
       "_model_module_version": "2.0.0",
       "_model_name": "HTMLModel",
       "_view_count": null,
       "_view_module": "@jupyter-widgets/controls",
       "_view_module_version": "2.0.0",
       "_view_name": "HTMLView",
       "description": "",
       "description_allow_html": false,
       "layout": "IPY_MODEL_09f85ba48b7d4a8ba30788d596793b61",
       "placeholder": "​",
       "style": "IPY_MODEL_b4111645223a4c1facc52476cb632d49",
       "tabbable": null,
       "tooltip": null,
       "value": " 21/21 [02:56&lt;00:00, 18.84s/it]"
      }
     }
    },
    "version_major": 2,
    "version_minor": 0
   }
  }
 },
 "nbformat": 4,
 "nbformat_minor": 5
}