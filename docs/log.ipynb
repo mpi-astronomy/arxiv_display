{
 "cells": [
  {
   "cell_type": "markdown",
   "id": "92bcb855",
   "metadata": {
    "papermill": {
     "duration": 0.005096,
     "end_time": "2022-11-21T04:14:57.292781",
     "exception": false,
     "start_time": "2022-11-21T04:14:57.287685",
     "status": "completed"
    },
    "tags": []
   },
   "source": [
    "# MPIA Arxiv on Deck 2\n",
    "\n",
    "Contains the steps to produce the paper extractions."
   ]
  },
  {
   "cell_type": "code",
   "execution_count": 1,
   "id": "3a0d6e11",
   "metadata": {
    "execution": {
     "iopub.execute_input": "2022-11-21T04:14:57.302911Z",
     "iopub.status.busy": "2022-11-21T04:14:57.302177Z",
     "iopub.status.idle": "2022-11-21T04:14:57.471169Z",
     "shell.execute_reply": "2022-11-21T04:14:57.470451Z"
    },
    "papermill": {
     "duration": 0.176281,
     "end_time": "2022-11-21T04:14:57.473329",
     "exception": false,
     "start_time": "2022-11-21T04:14:57.297048",
     "status": "completed"
    },
    "tags": []
   },
   "outputs": [],
   "source": [
    "# Imports\n",
    "import os\n",
    "from IPython.display import Markdown, display\n",
    "from tqdm.notebook import tqdm\n",
    "import warnings\n",
    "from PIL import Image \n",
    "\n",
    "# requires arxiv_on_deck_2\n",
    "\n",
    "from arxiv_on_deck_2.arxiv2 import (get_new_papers, \n",
    "                                    get_paper_from_identifier,\n",
    "                                    retrieve_document_source, \n",
    "                                    get_markdown_badge)\n",
    "from arxiv_on_deck_2 import (latex, \n",
    "                             mpia,\n",
    "                             highlight_authors_in_list)\n",
    "\n",
    "# Sometimes images are really big\n",
    "Image.MAX_IMAGE_PIXELS = 1000000000 "
   ]
  },
  {
   "cell_type": "code",
   "execution_count": 2,
   "id": "22aa9d44",
   "metadata": {
    "execution": {
     "iopub.execute_input": "2022-11-21T04:14:57.485200Z",
     "iopub.status.busy": "2022-11-21T04:14:57.484500Z",
     "iopub.status.idle": "2022-11-21T04:14:57.489523Z",
     "shell.execute_reply": "2022-11-21T04:14:57.488860Z"
    },
    "papermill": {
     "duration": 0.011797,
     "end_time": "2022-11-21T04:14:57.491097",
     "exception": false,
     "start_time": "2022-11-21T04:14:57.479300",
     "status": "completed"
    },
    "tags": []
   },
   "outputs": [],
   "source": [
    "# Some useful definitions.\n",
    "\n",
    "class AffiliationWarning(UserWarning):\n",
    "    pass\n",
    "\n",
    "class AffiliationError(RuntimeError):\n",
    "    pass\n",
    "\n",
    "def validation(source: str):\n",
    "    \"\"\"Raises error paper during parsing of source file\n",
    "    \n",
    "    Allows checks before parsing TeX code.\n",
    "    \n",
    "    Raises AffiliationWarning\n",
    "    \"\"\"\n",
    "    check = mpia.affiliation_verifications(source, verbose=True)\n",
    "    if check is not True:\n",
    "        raise AffiliationError(\"mpia.affiliation_verifications: \" + check)\n",
    "\n",
    "        \n",
    "warnings.simplefilter('always', AffiliationWarning)"
   ]
  },
  {
   "cell_type": "code",
   "execution_count": 3,
   "id": "14622700",
   "metadata": {
    "execution": {
     "iopub.execute_input": "2022-11-21T04:14:57.500324Z",
     "iopub.status.busy": "2022-11-21T04:14:57.499785Z",
     "iopub.status.idle": "2022-11-21T04:14:57.505120Z",
     "shell.execute_reply": "2022-11-21T04:14:57.503940Z"
    },
    "papermill": {
     "duration": 0.01187,
     "end_time": "2022-11-21T04:14:57.506773",
     "exception": false,
     "start_time": "2022-11-21T04:14:57.494903",
     "status": "completed"
    },
    "tags": []
   },
   "outputs": [],
   "source": [
    "# additional CSS to consider. \n",
    "# TODO: Current into each exported file. \n",
    "#       This should be set once into the webpages directly.\n",
    "#       With only the class/id definitions in the .md files.\n",
    "\n",
    "debug_html = \"\"\"\n",
    "<style>\n",
    "#wrap{ overflow:auto; }\n",
    "#fig1{ background:yellow; width:100%; float:left; padding:5px;  }\n",
    "#fig2{ background:red; width:50%; float:left; clear:left; padding:5px;  }\n",
    "#fig3{ background:green; width:50%; float:left; padding:5px;   }\n",
    ".macros{ background:yellow; visibility:visible;}\n",
    "h1 {margin: 0 0 0 0;}\n",
    "mark {background-color:#fff3b6;}\n",
    "img {object-fit:contain; max-height:250px; display:inline-block; text-align: center;}\n",
    "</style>\n",
    "\"\"\" \n",
    "html = \"\"\"\n",
    "<style>\n",
    "#wrap{ overflow:auto; }\n",
    "#fig1{ width:100%; float:left; padding: 5px;  }\n",
    "#fig2{ width:50%; float:left; clear:left; padding: 5px;  }\n",
    "#fig3{ width:50%; float:left; padding: 5px;  }\n",
    ".macros{ visibility:hidden; height:0px; }\n",
    "h1 {margin: 0em 0 0 0;}\n",
    "mark {background-color:#fff3b6;}\n",
    "img {object-fit:contain; max-height:250px; display:inline-block; text-align: center;}\n",
    "</style>\n",
    "\"\"\""
   ]
  },
  {
   "cell_type": "markdown",
   "id": "14bd6310",
   "metadata": {
    "papermill": {
     "duration": 0.00389,
     "end_time": "2022-11-21T04:14:57.514508",
     "exception": false,
     "start_time": "2022-11-21T04:14:57.510618",
     "status": "completed"
    },
    "tags": []
   },
   "source": [
    "## get list of arxiv paper candidates\n",
    "\n",
    "We use the MPIA mitarbeiter list webpage from mpia.de to get author names\n",
    "We then get all new papers from Arxiv and match authors"
   ]
  },
  {
   "cell_type": "code",
   "execution_count": 4,
   "id": "2645e73a",
   "metadata": {
    "execution": {
     "iopub.execute_input": "2022-11-21T04:14:57.523672Z",
     "iopub.status.busy": "2022-11-21T04:14:57.523213Z",
     "iopub.status.idle": "2022-11-21T04:15:19.570084Z",
     "shell.execute_reply": "2022-11-21T04:15:19.569269Z"
    },
    "papermill": {
     "duration": 22.053266,
     "end_time": "2022-11-21T04:15:19.571703",
     "exception": false,
     "start_time": "2022-11-21T04:14:57.518437",
     "status": "completed"
    },
    "tags": []
   },
   "outputs": [
    {
     "name": "stdout",
     "output_type": "stream",
     "text": [
      "Arxiv has 56 new papers today\n",
      "          27 with possible author matches\n"
     ]
    }
   ],
   "source": [
    "# get list from MPIA website\n",
    "# it automatically filters identified non-scientists :func:`mpia.filter_non_scientists`\n",
    "mpia_authors = mpia.get_mpia_mitarbeiter_list()\n",
    "new_papers = get_new_papers()\n",
    "# add manual references\n",
    "add_paper_refs = []\n",
    "new_papers.extend([get_paper_from_identifier(k) for k in add_paper_refs])\n",
    "\n",
    "# select only papers with matching author names and highlight authors\n",
    "hl_list = [k[0] for k in mpia_authors]\n",
    "\n",
    "candidates = []\n",
    "for paperk in new_papers:\n",
    "    hl_authors = highlight_authors_in_list(paperk['authors'], hl_list)\n",
    "    matches = [(hl, orig) for hl, orig in zip(hl_authors, paperk['authors']) if 'mark' in hl]\n",
    "    paperk['authors'] = hl_authors\n",
    "    if matches:\n",
    "        candidates.append(paperk)\n",
    "print(\"\"\"Arxiv has {0:,d} new papers today\"\"\".format(len(new_papers)))        \n",
    "print(\"\"\"          {0:,d} with possible author matches\"\"\".format(len(candidates)))"
   ]
  },
  {
   "cell_type": "markdown",
   "id": "3543b34a",
   "metadata": {
    "papermill": {
     "duration": 0.004098,
     "end_time": "2022-11-21T04:15:19.580220",
     "exception": false,
     "start_time": "2022-11-21T04:15:19.576122",
     "status": "completed"
    },
    "tags": []
   },
   "source": [
    "# Parse sources and generate relevant outputs\n",
    "\n",
    "From the candidates, we do the following steps:\n",
    "* get their tarball from ArXiv (and extract data)\n",
    "* find the main .tex file: find one with \\documentclass{...} (sometimes it's non trivial)\n",
    "* Check affiliations with :func:`validation`, which uses :func:`mpia.affiliation_verifications`\n",
    "* If passing the affiliations: we parse the .tex source\n",
    "   * inject sub-documents into the main (flatten the main document)\n",
    "   * parse structure, extract information (title, abstract, authors, figures...)\n",
    "   * handles `\\graphicspath` if provided\n",
    "* Generate the .md document."
   ]
  },
  {
   "cell_type": "code",
   "execution_count": 5,
   "id": "9576b79e",
   "metadata": {
    "execution": {
     "iopub.execute_input": "2022-11-21T04:15:19.589783Z",
     "iopub.status.busy": "2022-11-21T04:15:19.589273Z",
     "iopub.status.idle": "2022-11-21T04:16:42.559041Z",
     "shell.execute_reply": "2022-11-21T04:16:42.558282Z"
    },
    "papermill": {
     "duration": 82.976516,
     "end_time": "2022-11-21T04:16:42.560680",
     "exception": false,
     "start_time": "2022-11-21T04:15:19.584164",
     "status": "completed"
    },
    "scrolled": false,
    "tags": []
   },
   "outputs": [
    {
     "data": {
      "application/vnd.jupyter.widget-view+json": {
       "model_id": "7456dcbe80bb4544a40cbb498cf9efdc",
       "version_major": 2,
       "version_minor": 0
      },
      "text/plain": [
       "  0%|          | 0/26 [00:00<?, ?it/s]"
      ]
     },
     "metadata": {},
     "output_type": "display_data"
    },
    {
     "name": "stdout",
     "output_type": "stream",
     "text": [
      "Retrieving document from  https://arxiv.org/e-print/2211.09811\n"
     ]
    },
    {
     "name": "stderr",
     "output_type": "stream",
     "text": [
      "/tmp/ipykernel_2252/4030337529.py:34: LatexWarning: 2211.09811 did not run properly\n",
      "not a gzip file\n",
      "  warnings.warn(latex.LatexWarning(f\"{paper_id:s} did not run properly\\n\" +\n"
     ]
    },
    {
     "name": "stdout",
     "output_type": "stream",
     "text": [
      "Retrieving document from  https://arxiv.org/e-print/2211.09815\n"
     ]
    },
    {
     "name": "stdout",
     "output_type": "stream",
     "text": [
      "extracting tarball to tmp_2211.09815..."
     ]
    },
    {
     "name": "stdout",
     "output_type": "stream",
     "text": [
      " done.\n",
      "Retrieving document from  https://arxiv.org/e-print/2211.09834\n"
     ]
    },
    {
     "name": "stdout",
     "output_type": "stream",
     "text": [
      "extracting tarball to tmp_2211.09834..."
     ]
    },
    {
     "name": "stdout",
     "output_type": "stream",
     "text": [
      " done.\n",
      "Retrieving document from  https://arxiv.org/e-print/2211.09839\n"
     ]
    },
    {
     "name": "stdout",
     "output_type": "stream",
     "text": [
      "extracting tarball to tmp_2211.09839..."
     ]
    },
    {
     "name": "stdout",
     "output_type": "stream",
     "text": [
      " done.\n",
      "Retrieving document from  https://arxiv.org/e-print/2211.09840\n"
     ]
    },
    {
     "name": "stderr",
     "output_type": "stream",
     "text": [
      "/opt/hostedtoolcache/Python/3.9.15/x64/lib/python3.9/site-packages/IPython/core/interactiveshell.py:3433: LatexWarning: Multiple tex files.\n",
      "\n",
      "  exec(code_obj, self.user_global_ns, self.user_ns)\n",
      "/opt/hostedtoolcache/Python/3.9.15/x64/lib/python3.9/site-packages/IPython/core/interactiveshell.py:3433: LatexWarning: Found documentclass in tmp_2211.09839/natnotes.tex\n",
      "\n",
      "  exec(code_obj, self.user_global_ns, self.user_ns)\n"
     ]
    },
    {
     "name": "stdout",
     "output_type": "stream",
     "text": [
      "extracting tarball to tmp_2211.09840..."
     ]
    },
    {
     "name": "stdout",
     "output_type": "stream",
     "text": [
      " done.\n"
     ]
    },
    {
     "name": "stderr",
     "output_type": "stream",
     "text": [
      "/opt/hostedtoolcache/Python/3.9.15/x64/lib/python3.9/site-packages/IPython/core/interactiveshell.py:3433: LatexWarning: Multiple tex files.\n",
      "\n",
      "  exec(code_obj, self.user_global_ns, self.user_ns)\n",
      "/opt/hostedtoolcache/Python/3.9.15/x64/lib/python3.9/site-packages/IPython/core/interactiveshell.py:3433: LatexWarning: Found documentclass in tmp_2211.09840/sample631.tex\n",
      "\n",
      "  exec(code_obj, self.user_global_ns, self.user_ns)\n",
      "/opt/hostedtoolcache/Python/3.9.15/x64/lib/python3.9/site-packages/arxiv_on_deck_2/latex.py:292: LatexWarning: Latex injecting: 'tables/retrieval_posteriors_red1_table.tex' from 'tmp_2211.09840/tables/retrieval_posteriors_red1_table.tex'\n",
      "  warnings.warn(LatexWarning(f\"Latex injecting: '{ext}' from '{subsource}'\"))\n",
      "/opt/hostedtoolcache/Python/3.9.15/x64/lib/python3.9/site-packages/arxiv_on_deck_2/latex.py:292: LatexWarning: Latex injecting: 'tables/retrieval_posteriors_red2_table.tex' from 'tmp_2211.09840/tables/retrieval_posteriors_red2_table.tex'\n",
      "  warnings.warn(LatexWarning(f\"Latex injecting: '{ext}' from '{subsource}'\"))\n",
      "/opt/hostedtoolcache/Python/3.9.15/x64/lib/python3.9/site-packages/arxiv_on_deck_2/latex.py:292: LatexWarning: Latex injecting: 'tables/sphere_spectrum_table.tex' from 'tmp_2211.09840/tables/sphere_spectrum_table.tex'\n",
      "  warnings.warn(LatexWarning(f\"Latex injecting: '{ext}' from '{subsource}'\"))\n",
      "/opt/hostedtoolcache/Python/3.9.15/x64/lib/python3.9/site-packages/arxiv_on_deck_2/latex.py:292: LatexWarning: Latex injecting: 'tables/orbitfit_table_hip55507.tex' from 'tmp_2211.09840/tables/orbitfit_table_hip55507.tex'\n",
      "  warnings.warn(LatexWarning(f\"Latex injecting: '{ext}' from '{subsource}'\"))\n",
      "/opt/hostedtoolcache/Python/3.9.15/x64/lib/python3.9/site-packages/arxiv_on_deck_2/latex.py:292: LatexWarning: Latex injecting: 'tables/astrometry_table_hip55507.tex' from 'tmp_2211.09840/tables/astrometry_table_hip55507.tex'\n",
      "  warnings.warn(LatexWarning(f\"Latex injecting: '{ext}' from '{subsource}'\"))\n",
      "/opt/hostedtoolcache/Python/3.9.15/x64/lib/python3.9/site-packages/arxiv_on_deck_2/latex.py:292: LatexWarning: Latex injecting: 'tables/properties_table_hip21152c.tex' from 'tmp_2211.09840/tables/properties_table_hip21152c.tex'\n",
      "  warnings.warn(LatexWarning(f\"Latex injecting: '{ext}' from '{subsource}'\"))\n",
      "/opt/hostedtoolcache/Python/3.9.15/x64/lib/python3.9/site-packages/arxiv_on_deck_2/latex.py:292: LatexWarning: Latex injecting: 'tables/retrieval_evidence_table.tex' from 'tmp_2211.09840/tables/retrieval_evidence_table.tex'\n",
      "  warnings.warn(LatexWarning(f\"Latex injecting: '{ext}' from '{subsource}'\"))\n",
      "/opt/hostedtoolcache/Python/3.9.15/x64/lib/python3.9/site-packages/arxiv_on_deck_2/latex.py:292: LatexWarning: Latex injecting: 'tables/retrieval_params_table.tex' from 'tmp_2211.09840/tables/retrieval_params_table.tex'\n",
      "  warnings.warn(LatexWarning(f\"Latex injecting: '{ext}' from '{subsource}'\"))\n",
      "/opt/hostedtoolcache/Python/3.9.15/x64/lib/python3.9/site-packages/arxiv_on_deck_2/latex.py:292: LatexWarning: Latex injecting: 'tables/model_comp_table.tex' from 'tmp_2211.09840/tables/model_comp_table.tex'\n",
      "  warnings.warn(LatexWarning(f\"Latex injecting: '{ext}' from '{subsource}'\"))\n",
      "/opt/hostedtoolcache/Python/3.9.15/x64/lib/python3.9/site-packages/arxiv_on_deck_2/latex.py:292: LatexWarning: Latex injecting: 'tables/orbitfit_table.tex' from 'tmp_2211.09840/tables/orbitfit_table.tex'\n",
      "  warnings.warn(LatexWarning(f\"Latex injecting: '{ext}' from '{subsource}'\"))\n",
      "/opt/hostedtoolcache/Python/3.9.15/x64/lib/python3.9/site-packages/arxiv_on_deck_2/latex.py:292: LatexWarning: Latex injecting: 'tables/charis_spectrum_table.tex' from 'tmp_2211.09840/tables/charis_spectrum_table.tex'\n",
      "  warnings.warn(LatexWarning(f\"Latex injecting: '{ext}' from '{subsource}'\"))\n",
      "/opt/hostedtoolcache/Python/3.9.15/x64/lib/python3.9/site-packages/arxiv_on_deck_2/latex.py:292: LatexWarning: Latex injecting: 'tables/astrometry_table.tex' from 'tmp_2211.09840/tables/astrometry_table.tex'\n",
      "  warnings.warn(LatexWarning(f\"Latex injecting: '{ext}' from '{subsource}'\"))\n",
      "/opt/hostedtoolcache/Python/3.9.15/x64/lib/python3.9/site-packages/arxiv_on_deck_2/latex.py:292: LatexWarning: Latex injecting: 'tables/properties_table.tex' from 'tmp_2211.09840/tables/properties_table.tex'\n",
      "  warnings.warn(LatexWarning(f\"Latex injecting: '{ext}' from '{subsource}'\"))\n"
     ]
    },
    {
     "name": "stdout",
     "output_type": "stream",
     "text": [
      "Retrieving document from  https://arxiv.org/e-print/2211.09851\n"
     ]
    },
    {
     "name": "stdout",
     "output_type": "stream",
     "text": [
      "extracting tarball to tmp_2211.09851... done.\n",
      "Retrieving document from  https://arxiv.org/e-print/2211.09890\n"
     ]
    },
    {
     "name": "stdout",
     "output_type": "stream",
     "text": [
      "extracting tarball to tmp_2211.09890..."
     ]
    },
    {
     "name": "stdout",
     "output_type": "stream",
     "text": [
      " done.\n",
      "Retrieving document from  https://arxiv.org/e-print/2211.09948\n"
     ]
    },
    {
     "name": "stderr",
     "output_type": "stream",
     "text": [
      "/opt/hostedtoolcache/Python/3.9.15/x64/lib/python3.9/site-packages/IPython/core/interactiveshell.py:3433: LatexWarning: Multiple tex files.\n",
      "\n",
      "  exec(code_obj, self.user_global_ns, self.user_ns)\n",
      "/opt/hostedtoolcache/Python/3.9.15/x64/lib/python3.9/site-packages/IPython/core/interactiveshell.py:3433: LatexWarning: Found documentclass in tmp_2211.09890/jwst-backgrounds.tex\n",
      "\n",
      "  exec(code_obj, self.user_global_ns, self.user_ns)\n",
      "/opt/hostedtoolcache/Python/3.9.15/x64/lib/python3.9/site-packages/arxiv_on_deck_2/latex.py:292: LatexWarning: Latex injecting: 'definitions' from 'tmp_2211.09890/definitions.tex'\n",
      "  warnings.warn(LatexWarning(f\"Latex injecting: '{ext}' from '{subsource}'\"))\n"
     ]
    },
    {
     "name": "stdout",
     "output_type": "stream",
     "text": [
      "extracting tarball to tmp_2211.09948... done.\n",
      "Retrieving document from  https://arxiv.org/e-print/2211.09958\n"
     ]
    },
    {
     "name": "stdout",
     "output_type": "stream",
     "text": [
      "extracting tarball to tmp_2211.09958... done.\n",
      "Retrieving document from  https://arxiv.org/e-print/2211.09969\n"
     ]
    },
    {
     "name": "stdout",
     "output_type": "stream",
     "text": [
      "extracting tarball to tmp_2211.09969... done.\n",
      "Retrieving document from  https://arxiv.org/e-print/2211.09972\n"
     ]
    },
    {
     "name": "stdout",
     "output_type": "stream",
     "text": [
      "extracting tarball to tmp_2211.09972..."
     ]
    },
    {
     "name": "stdout",
     "output_type": "stream",
     "text": [
      " done.\n",
      "Retrieving document from  https://arxiv.org/e-print/2211.09990\n"
     ]
    },
    {
     "name": "stderr",
     "output_type": "stream",
     "text": [
      "/opt/hostedtoolcache/Python/3.9.15/x64/lib/python3.9/site-packages/IPython/core/interactiveshell.py:3433: LatexWarning: Multiple tex files.\n",
      "\n",
      "  exec(code_obj, self.user_global_ns, self.user_ns)\n",
      "/opt/hostedtoolcache/Python/3.9.15/x64/lib/python3.9/site-packages/IPython/core/interactiveshell.py:3433: LatexWarning: Found documentclass in tmp_2211.09972/scifile.tex\n",
      "\n",
      "  exec(code_obj, self.user_global_ns, self.user_ns)\n",
      "/opt/hostedtoolcache/Python/3.9.15/x64/lib/python3.9/site-packages/arxiv_on_deck_2/latex.py:292: LatexWarning: Latex injecting: 'Supplementary-Materials' from 'tmp_2211.09972/Supplementary-Materials.tex'\n",
      "  warnings.warn(LatexWarning(f\"Latex injecting: '{ext}' from '{subsource}'\"))\n",
      "/opt/hostedtoolcache/Python/3.9.15/x64/lib/python3.9/site-packages/arxiv_on_deck_2/latex.py:292: LatexWarning: Latex injecting: 'Supplementary-Materials' from 'tmp_2211.09972/Evidence-NGC1068-arXiv-1.2.1 (Version 434)/Supplementary-Materials.tex'\n",
      "  warnings.warn(LatexWarning(f\"Latex injecting: '{ext}' from '{subsource}'\"))\n"
     ]
    },
    {
     "name": "stdout",
     "output_type": "stream",
     "text": [
      "extracting tarball to tmp_2211.09990... done.\n",
      "Retrieving document from  https://arxiv.org/e-print/2211.10007\n"
     ]
    },
    {
     "name": "stdout",
     "output_type": "stream",
     "text": [
      "extracting tarball to tmp_2211.10007..."
     ]
    },
    {
     "name": "stdout",
     "output_type": "stream",
     "text": [
      " done.\n",
      "Retrieving document from  https://arxiv.org/e-print/2211.10016\n"
     ]
    },
    {
     "name": "stdout",
     "output_type": "stream",
     "text": [
      "extracting tarball to tmp_2211.10016... done.\n",
      "Retrieving document from  https://arxiv.org/e-print/2211.10050\n"
     ]
    },
    {
     "name": "stdout",
     "output_type": "stream",
     "text": [
      "extracting tarball to tmp_2211.10050..."
     ]
    },
    {
     "name": "stdout",
     "output_type": "stream",
     "text": [
      " done.\n",
      "Retrieving document from  https://arxiv.org/e-print/2211.10063\n"
     ]
    },
    {
     "name": "stdout",
     "output_type": "stream",
     "text": [
      "extracting tarball to tmp_2211.10063..."
     ]
    },
    {
     "name": "stdout",
     "output_type": "stream",
     "text": [
      " done.\n",
      "Retrieving document from  https://arxiv.org/e-print/2211.10087\n"
     ]
    },
    {
     "name": "stderr",
     "output_type": "stream",
     "text": [
      "/opt/hostedtoolcache/Python/3.9.15/x64/lib/python3.9/site-packages/IPython/core/interactiveshell.py:3433: LatexWarning: Multiple tex files.\n",
      "\n",
      "  exec(code_obj, self.user_global_ns, self.user_ns)\n",
      "/opt/hostedtoolcache/Python/3.9.15/x64/lib/python3.9/site-packages/IPython/core/interactiveshell.py:3433: LatexWarning: Found documentclass in tmp_2211.10063/WGOs_cat.tex\n",
      "\n",
      "  exec(code_obj, self.user_global_ns, self.user_ns)\n",
      "/opt/hostedtoolcache/Python/3.9.15/x64/lib/python3.9/site-packages/arxiv_on_deck_2/latex.py:292: LatexWarning: Latex injecting: 'candidate_high_mass_table' from 'tmp_2211.10063/candidate_high_mass_table.tex'\n",
      "  warnings.warn(LatexWarning(f\"Latex injecting: '{ext}' from '{subsource}'\"))\n",
      "/opt/hostedtoolcache/Python/3.9.15/x64/lib/python3.9/site-packages/arxiv_on_deck_2/latex.py:292: LatexWarning: Latex injecting: 'robust_high_mass_table' from 'tmp_2211.10063/robust_high_mass_table.tex'\n",
      "  warnings.warn(LatexWarning(f\"Latex injecting: '{ext}' from '{subsource}'\"))\n"
     ]
    },
    {
     "name": "stdout",
     "output_type": "stream",
     "text": [
      "extracting tarball to tmp_2211.10087... done.\n",
      "Retrieving document from  https://arxiv.org/e-print/2211.10149\n"
     ]
    },
    {
     "name": "stdout",
     "output_type": "stream",
     "text": [
      "extracting tarball to tmp_2211.10149..."
     ]
    },
    {
     "name": "stdout",
     "output_type": "stream",
     "text": [
      " done.\n",
      "Retrieving document from  https://arxiv.org/e-print/2211.10160\n"
     ]
    },
    {
     "name": "stdout",
     "output_type": "stream",
     "text": [
      "extracting tarball to tmp_2211.10160..."
     ]
    },
    {
     "name": "stdout",
     "output_type": "stream",
     "text": [
      " done.\n",
      "Retrieving document from  https://arxiv.org/e-print/2211.10187\n"
     ]
    },
    {
     "name": "stdout",
     "output_type": "stream",
     "text": [
      "extracting tarball to tmp_2211.10187... done.\n",
      "Retrieving document from  https://arxiv.org/e-print/2211.10215\n"
     ]
    },
    {
     "name": "stdout",
     "output_type": "stream",
     "text": [
      "extracting tarball to tmp_2211.10215..."
     ]
    },
    {
     "name": "stdout",
     "output_type": "stream",
     "text": [
      " done.\n",
      "Retrieving document from  https://arxiv.org/e-print/2211.10216\n"
     ]
    },
    {
     "name": "stderr",
     "output_type": "stream",
     "text": [
      "/opt/hostedtoolcache/Python/3.9.15/x64/lib/python3.9/site-packages/IPython/core/interactiveshell.py:3433: LatexWarning: Multiple tex files.\n",
      "\n",
      "  exec(code_obj, self.user_global_ns, self.user_ns)\n",
      "/opt/hostedtoolcache/Python/3.9.15/x64/lib/python3.9/site-packages/IPython/core/interactiveshell.py:3433: LatexWarning: Found documentclass in tmp_2211.10215/corecatalog_OrionA_ms.tex\n",
      "\n",
      "  exec(code_obj, self.user_global_ns, self.user_ns)\n",
      "/opt/hostedtoolcache/Python/3.9.15/x64/lib/python3.9/site-packages/arxiv_on_deck_2/latex.py:292: LatexWarning: Latex injecting: 'CMF_property_4blocks_a1.tex' from 'tmp_2211.10215/CMF_property_4blocks_a1.tex'\n",
      "  warnings.warn(LatexWarning(f\"Latex injecting: '{ext}' from '{subsource}'\"))\n",
      "/opt/hostedtoolcache/Python/3.9.15/x64/lib/python3.9/site-packages/arxiv_on_deck_2/latex.py:292: LatexWarning: Latex injecting: 'Appendix_Number_of_bound_cores.tex' from 'tmp_2211.10215/Appendix_Number_of_bound_cores.tex'\n",
      "  warnings.warn(LatexWarning(f\"Latex injecting: '{ext}' from '{subsource}'\"))\n",
      "/opt/hostedtoolcache/Python/3.9.15/x64/lib/python3.9/site-packages/arxiv_on_deck_2/latex.py:292: LatexWarning: Latex injecting: 'KS_test_virial_ratio.tex' from 'tmp_2211.10215/KS_test_virial_ratio.tex'\n",
      "  warnings.warn(LatexWarning(f\"Latex injecting: '{ext}' from '{subsource}'\"))\n",
      "/opt/hostedtoolcache/Python/3.9.15/x64/lib/python3.9/site-packages/arxiv_on_deck_2/latex.py:292: LatexWarning: Latex injecting: 'KS_test_density.tex' from 'tmp_2211.10215/KS_test_density.tex'\n",
      "  warnings.warn(LatexWarning(f\"Latex injecting: '{ext}' from '{subsource}'\"))\n",
      "/opt/hostedtoolcache/Python/3.9.15/x64/lib/python3.9/site-packages/arxiv_on_deck_2/latex.py:292: LatexWarning: Latex injecting: 'KS_test_mass.tex' from 'tmp_2211.10215/KS_test_mass.tex'\n",
      "  warnings.warn(LatexWarning(f\"Latex injecting: '{ext}' from '{subsource}'\"))\n",
      "/opt/hostedtoolcache/Python/3.9.15/x64/lib/python3.9/site-packages/arxiv_on_deck_2/latex.py:292: LatexWarning: Latex injecting: 'KS_test_fwhm.tex' from 'tmp_2211.10215/KS_test_fwhm.tex'\n",
      "  warnings.warn(LatexWarning(f\"Latex injecting: '{ext}' from '{subsource}'\"))\n",
      "/opt/hostedtoolcache/Python/3.9.15/x64/lib/python3.9/site-packages/arxiv_on_deck_2/latex.py:292: LatexWarning: Latex injecting: 'KS_test_aspect_ratio.tex' from 'tmp_2211.10215/KS_test_aspect_ratio.tex'\n",
      "  warnings.warn(LatexWarning(f\"Latex injecting: '{ext}' from '{subsource}'\"))\n",
      "/opt/hostedtoolcache/Python/3.9.15/x64/lib/python3.9/site-packages/arxiv_on_deck_2/latex.py:292: LatexWarning: Latex injecting: 'KS_test_diameter.tex' from 'tmp_2211.10215/KS_test_diameter.tex'\n",
      "  warnings.warn(LatexWarning(f\"Latex injecting: '{ext}' from '{subsource}'\"))\n",
      "/opt/hostedtoolcache/Python/3.9.15/x64/lib/python3.9/site-packages/arxiv_on_deck_2/latex.py:292: LatexWarning: Latex injecting: 'KS_test_properties_L1641C.tex' from 'tmp_2211.10215/KS_test_properties_L1641C.tex'\n",
      "  warnings.warn(LatexWarning(f\"Latex injecting: '{ext}' from '{subsource}'\"))\n",
      "/opt/hostedtoolcache/Python/3.9.15/x64/lib/python3.9/site-packages/arxiv_on_deck_2/latex.py:292: LatexWarning: Latex injecting: 'KS_test_properties_L1641N.tex' from 'tmp_2211.10215/KS_test_properties_L1641N.tex'\n",
      "  warnings.warn(LatexWarning(f\"Latex injecting: '{ext}' from '{subsource}'\"))\n",
      "/opt/hostedtoolcache/Python/3.9.15/x64/lib/python3.9/site-packages/arxiv_on_deck_2/latex.py:292: LatexWarning: Latex injecting: 'KS_test_properties_OMC45.tex' from 'tmp_2211.10215/KS_test_properties_OMC45.tex'\n",
      "  warnings.warn(LatexWarning(f\"Latex injecting: '{ext}' from '{subsource}'\"))\n",
      "/opt/hostedtoolcache/Python/3.9.15/x64/lib/python3.9/site-packages/arxiv_on_deck_2/latex.py:292: LatexWarning: Latex injecting: 'KS_test_properties_OMC123.tex' from 'tmp_2211.10215/KS_test_properties_OMC123.tex'\n",
      "  warnings.warn(LatexWarning(f\"Latex injecting: '{ext}' from '{subsource}'\"))\n",
      "/opt/hostedtoolcache/Python/3.9.15/x64/lib/python3.9/site-packages/arxiv_on_deck_2/latex.py:292: LatexWarning: Latex injecting: 'Core_catalog_OrionA_sample.tex' from 'tmp_2211.10215/Core_catalog_OrionA_sample.tex'\n",
      "  warnings.warn(LatexWarning(f\"Latex injecting: '{ext}' from '{subsource}'\"))\n",
      "/opt/hostedtoolcache/Python/3.9.15/x64/lib/python3.9/site-packages/arxiv_on_deck_2/latex.py:292: LatexWarning: Latex injecting: 'CMF_property_4blocks.tex' from 'tmp_2211.10215/CMF_property_4blocks.tex'\n",
      "  warnings.warn(LatexWarning(f\"Latex injecting: '{ext}' from '{subsource}'\"))\n",
      "/opt/hostedtoolcache/Python/3.9.15/x64/lib/python3.9/site-packages/arxiv_on_deck_2/latex.py:292: LatexWarning: Latex injecting: 'Properties_of_cores_L1641C.tex' from 'tmp_2211.10215/Properties_of_cores_L1641C.tex'\n",
      "  warnings.warn(LatexWarning(f\"Latex injecting: '{ext}' from '{subsource}'\"))\n",
      "/opt/hostedtoolcache/Python/3.9.15/x64/lib/python3.9/site-packages/arxiv_on_deck_2/latex.py:292: LatexWarning: Latex injecting: 'Properties_of_cores_L1641N.tex' from 'tmp_2211.10215/Properties_of_cores_L1641N.tex'\n",
      "  warnings.warn(LatexWarning(f\"Latex injecting: '{ext}' from '{subsource}'\"))\n",
      "/opt/hostedtoolcache/Python/3.9.15/x64/lib/python3.9/site-packages/arxiv_on_deck_2/latex.py:292: LatexWarning: Latex injecting: 'Properties_of_cores_OMC45.tex' from 'tmp_2211.10215/Properties_of_cores_OMC45.tex'\n",
      "  warnings.warn(LatexWarning(f\"Latex injecting: '{ext}' from '{subsource}'\"))\n",
      "/opt/hostedtoolcache/Python/3.9.15/x64/lib/python3.9/site-packages/arxiv_on_deck_2/latex.py:292: LatexWarning: Latex injecting: 'Properties_of_cores_OMC123.tex' from 'tmp_2211.10215/Properties_of_cores_OMC123.tex'\n",
      "  warnings.warn(LatexWarning(f\"Latex injecting: '{ext}' from '{subsource}'\"))\n",
      "/opt/hostedtoolcache/Python/3.9.15/x64/lib/python3.9/site-packages/arxiv_on_deck_2/latex.py:292: LatexWarning: Latex injecting: 'KS_test_properties_OrionA.tex' from 'tmp_2211.10215/KS_test_properties_OrionA.tex'\n",
      "  warnings.warn(LatexWarning(f\"Latex injecting: '{ext}' from '{subsource}'\"))\n",
      "/opt/hostedtoolcache/Python/3.9.15/x64/lib/python3.9/site-packages/arxiv_on_deck_2/latex.py:292: LatexWarning: Latex injecting: 'Properties_of_cores_OrionA.tex' from 'tmp_2211.10215/Properties_of_cores_OrionA.tex'\n",
      "  warnings.warn(LatexWarning(f\"Latex injecting: '{ext}' from '{subsource}'\"))\n",
      "/opt/hostedtoolcache/Python/3.9.15/x64/lib/python3.9/site-packages/arxiv_on_deck_2/latex.py:292: LatexWarning: Latex injecting: 'Number_of_cores.tex' from 'tmp_2211.10215/Number_of_cores.tex'\n",
      "  warnings.warn(LatexWarning(f\"Latex injecting: '{ext}' from '{subsource}'\"))\n"
     ]
    },
    {
     "name": "stdout",
     "output_type": "stream",
     "text": [
      "extracting tarball to tmp_2211.10216..."
     ]
    },
    {
     "name": "stdout",
     "output_type": "stream",
     "text": [
      " done.\n",
      "Retrieving document from  https://arxiv.org/e-print/2211.10236\n"
     ]
    },
    {
     "name": "stdout",
     "output_type": "stream",
     "text": [
      "extracting tarball to tmp_2211.10236..."
     ]
    },
    {
     "name": "stdout",
     "output_type": "stream",
     "text": [
      " done.\n",
      "Retrieving document from  https://arxiv.org/e-print/2211.10281\n"
     ]
    },
    {
     "name": "stdout",
     "output_type": "stream",
     "text": [
      "extracting tarball to tmp_2211.10281..."
     ]
    },
    {
     "name": "stdout",
     "output_type": "stream",
     "text": [
      " done.\n",
      "Retrieving document from  https://arxiv.org/e-print/2211.10297\n"
     ]
    },
    {
     "name": "stdout",
     "output_type": "stream",
     "text": [
      "extracting tarball to tmp_2211.10297..."
     ]
    },
    {
     "name": "stdout",
     "output_type": "stream",
     "text": [
      " done.\n",
      "Retrieving document from  https://arxiv.org/e-print/2211.10300\n"
     ]
    },
    {
     "name": "stderr",
     "output_type": "stream",
     "text": [
      "/opt/hostedtoolcache/Python/3.9.15/x64/lib/python3.9/site-packages/IPython/core/interactiveshell.py:3433: LatexWarning: Multiple tex files.\n",
      "\n",
      "  exec(code_obj, self.user_global_ns, self.user_ns)\n",
      "/opt/hostedtoolcache/Python/3.9.15/x64/lib/python3.9/site-packages/IPython/core/interactiveshell.py:3433: LatexWarning: Found documentclass in tmp_2211.10297/KELT-9bWFC3_Jacobs_corr.tex\n",
      "\n",
      "  exec(code_obj, self.user_global_ns, self.user_ns)\n"
     ]
    },
    {
     "name": "stdout",
     "output_type": "stream",
     "text": [
      "extracting tarball to tmp_2211.10300..."
     ]
    },
    {
     "name": "stdout",
     "output_type": "stream",
     "text": [
      " done.\n"
     ]
    },
    {
     "name": "stderr",
     "output_type": "stream",
     "text": [
      "/opt/hostedtoolcache/Python/3.9.15/x64/lib/python3.9/site-packages/IPython/core/interactiveshell.py:3433: LatexWarning: Multiple tex files.\n",
      "\n",
      "  exec(code_obj, self.user_global_ns, self.user_ns)\n",
      "/opt/hostedtoolcache/Python/3.9.15/x64/lib/python3.9/site-packages/IPython/core/interactiveshell.py:3433: LatexWarning: Found documentclass in tmp_2211.10300/natnotes.tex\n",
      "\n",
      "  exec(code_obj, self.user_global_ns, self.user_ns)\n"
     ]
    }
   ],
   "source": [
    "documents = []\n",
    "failed = []\n",
    "for paper in tqdm(candidates[:-1]):\n",
    "    paper_id = paper['identifier'].lower().replace('arxiv:', '')\n",
    "    \n",
    "    folder = f'tmp_{paper_id}'\n",
    "\n",
    "    try:\n",
    "        if not os.path.isdir(folder):\n",
    "            folder = retrieve_document_source(f\"{paper_id}\", f'tmp_{paper_id}')\n",
    "        \n",
    "        try:\n",
    "            doc = latex.LatexDocument(folder, validation=validation)    \n",
    "        except AffiliationError as affilerror:\n",
    "            msg = f\"ArXiv:{paper_id:s} is not an MPIA paper... \" + str(affilerror)\n",
    "            failed.append((paper, \"affiliation error: \" + str(affilerror) ))\n",
    "            continue\n",
    "        \n",
    "        # Hack because sometimes author parsing does not work well\n",
    "        if (len(doc.authors) != len(paper['authors'])):\n",
    "            doc._authors = paper['authors']\n",
    "        if (doc.abstract) in (None, ''):\n",
    "            doc._abstract = paper['abstract']\n",
    "            \n",
    "        doc.comment = (get_markdown_badge(paper_id) + \n",
    "                       \"<mark>Appeared on: \" + paper['date'] + \"</mark> - \" +\n",
    "                       \"_\" + paper['comments'] + \"_\")\n",
    "        doc.highlight_authors_in_list(hl_list)\n",
    "\n",
    "        full_md = doc.generate_markdown_text()\n",
    "        \n",
    "        documents.append((paper_id, full_md))\n",
    "    except Exception as e:\n",
    "        warnings.warn(latex.LatexWarning(f\"{paper_id:s} did not run properly\\n\" +\n",
    "                                         str(e)\n",
    "                                        ))\n",
    "        failed.append((paper, \"latex error \" + str(e)))"
   ]
  },
  {
   "cell_type": "markdown",
   "id": "2505a25c",
   "metadata": {
    "papermill": {
     "duration": 0.007158,
     "end_time": "2022-11-21T04:16:42.574883",
     "exception": false,
     "start_time": "2022-11-21T04:16:42.567725",
     "status": "completed"
    },
    "tags": []
   },
   "source": [
    "### Export the logs\n",
    "\n",
    "Throughout, we also keep track of the logs per paper. see `logs-{today date}.md` "
   ]
  },
  {
   "cell_type": "code",
   "execution_count": 6,
   "id": "d733828a",
   "metadata": {
    "execution": {
     "iopub.execute_input": "2022-11-21T04:16:42.590262Z",
     "iopub.status.busy": "2022-11-21T04:16:42.589697Z",
     "iopub.status.idle": "2022-11-21T04:16:42.626178Z",
     "shell.execute_reply": "2022-11-21T04:16:42.625497Z"
    },
    "papermill": {
     "duration": 0.046181,
     "end_time": "2022-11-21T04:16:42.627726",
     "exception": false,
     "start_time": "2022-11-21T04:16:42.581545",
     "status": "completed"
    },
    "scrolled": false,
    "tags": []
   },
   "outputs": [
    {
     "data": {
      "text/markdown": [
       "## Successful papers"
      ],
      "text/plain": [
       "<IPython.core.display.Markdown object>"
      ]
     },
     "metadata": {},
     "output_type": "display_data"
    },
    {
     "data": {
      "text/markdown": [
       "\n",
       "|||\n",
       "|---:|:---|\n",
       "| [![arXiv](https://img.shields.io/badge/arXiv-arXiv:2211.09840-b31b1b.svg)](https://arxiv.org/abs/arXiv:2211.09840) | **Astrometric Accelerations as Dynamical Beacons: Discovery and  Characterization of HIP 21152 B, the First T-Dwarf Companion in the Hyades**  |\n",
       "|| Kyle Franson, et al. -- incl., <mark>Matthias Samland</mark>, <mark>Zhoujian Zhang</mark>, <mark>Kevin Heng</mark> |\n",
       "|*Appeared on*| *2022-11-21*|\n",
       "|*Comments*| *40 pages, 19 figures, accepted to AJ*|\n",
       "|**Abstract**| Benchmark brown dwarf companions with well-determined ages and model-independent masses are powerful tools to test substellar evolutionary models and probe the formation of giant planets and brown dwarfs. Here, we report the independent discovery of HIP~21152~B, the first imaged brown dwarf companion in the Hyades, and conduct a comprehensive orbital and atmospheric characterization of the system. HIP~21152 was targeted in an ongoing high-contrast imaging campaign of stars exhibiting proper motion changes between Hipparcos and Gaia, and was also recently identified by Bonavita et al. (2022) and Kuzuhara et al. (2022). Our Keck/NIRC2 and SCExAO/CHARIS imaging of HIP~21152 revealed a comoving companion at a separation of $0.37^{\\prime\\prime}$ (16 au). We perform a joint orbit fit of all available relative astrometry and radial velocities together with the Hipparcos-Gaia proper motions, yielding a dynamical mass of $24^{+6}_{-4}\\,\\mathrm{M_{Jup}}$, which is $1{-}2{\\sigma}$ lower than evolutionary model predictions. Hybrid grids that include the evolution of cloud properties best reproduce the dynamical mass. We also identify a comoving wide-separation ($1837^{\\prime\\prime}$ or $7.9 \\times 10^4 \\, \\mathrm{au}$) early-L dwarf with an inferred mass near the hydrogen-burning limit. Finally, we analyze the spectra and photometry of HIP~21152~B using the Saumon & Marley (2008) atmospheric models and a suite of retrievals. The best-fit grid-based models have $f_{\\mathrm{sed}}=2$, indicating the presence of clouds, $T_{\\mathrm{eff}}=1400 \\, \\mathrm{K}$, and $\\log{g}=4.5 \\, \\mathrm{dex}$. These results are consistent with the object's spectral type of $\\mathrm{T0\\pm1}$. As the first benchmark brown dwarf companion in the Hyades, HIP~21152~B joins the small but growing number of substellar companions with well-determined ages and dynamical masses. |"
      ],
      "text/plain": [
       "[arXiv:2211.09840] Astrometric Accelerations as Dynamical Beacons: Discovery and  Characterization of HIP 21152 B, the First T-Dwarf Companion in the Hyades\n",
       "\tKyle Franson, et al. -- incl., <mark>Matthias Samland</mark>, <mark>Zhoujian Zhang</mark>, <mark>Kevin Heng</mark>"
      ]
     },
     "metadata": {},
     "output_type": "display_data"
    },
    {
     "data": {
      "text/markdown": [
       "## Failed papers"
      ],
      "text/plain": [
       "<IPython.core.display.Markdown object>"
      ]
     },
     "metadata": {},
     "output_type": "display_data"
    },
    {
     "data": {
      "text/markdown": [
       "\n",
       "|||\n",
       "|---:|:---|\n",
       "| [![arXiv](https://img.shields.io/badge/arXiv-arXiv:2211.10215-b31b1b.svg)](https://arxiv.org/abs/arXiv:2211.10215) | **CARMA-NRO Orion Survey: unbiased survey of dense cores and core mass  functions in Orion A**  |\n",
       "|| Hideaki Takemura, et al. -- incl., <mark>Dariusz C. Lis Álvaro Sánchez-Monge</mark> |\n",
       "|*Appeared on*| *2022-11-21*|\n",
       "|*Comments*| *58 pages, 33 figures, 21 tables, accepted by ApJS*|\n",
       "|**Abstract**| The mass distribution of dense cores is a potential key to understand the process of star formation. Applying dendrogram analysis to the CARMA-NRO Orion C$^{18}$O ($J$=1--0) data, we identify 2342 dense cores, about 22 \\% of which have virial ratios smaller than 2, and can be classified as gravitationally bound cores. The derived core mass function (CMF) for bound starless cores which are not associate with protostars has a slope similar to Salpeter's initial mass function (IMF) for the mass range above 1 $M_\\odot$, with a peak at $\\sim$ 0.1 $M_\\odot$. We divide the cloud into four parts based on the declination, OMC-1/2/3, OMC-4/5, L1641N/V380 Ori, and L1641C, and derive the CMFs in these regions. We find that starless cores with masses greater than 10 $M_\\odot$ exist only in OMC-1/2/3, whereas the CMFs in OMC-4/5, L1641N, and L1641C are truncated at around 5--10 $M_\\odot$. From the number ratio of bound starless cores and Class II objects in each subregion, the lifetime of bound starless cores is estimated to be 5--30 free-fall times, consistent with previous studies for other regions. In addition, we discuss core growth by mass accretion from the surrounding cloud material to explain the coincidence of peak masses between IMFs and CMFs. The mass accretion rate required for doubling the core mass within a core lifetime is larger than that of Bondi-Hoyle accretion by a factor of order 2. This implies that more dynamical accretion processes are required to grow cores. |\n",
       "|<p style=\"color:green\"> **ERROR** </p>| <p style=\"color:green\">affiliation error: mpia.affiliation_verifications: '69117' keyword not found.</p> |"
      ],
      "text/plain": [
       "<IPython.core.display.Markdown object>"
      ]
     },
     "metadata": {},
     "output_type": "display_data"
    },
    {
     "data": {
      "text/markdown": [
       "\n",
       "|||\n",
       "|---:|:---|\n",
       "| [![arXiv](https://img.shields.io/badge/arXiv-arXiv:2211.10216-b31b1b.svg)](https://arxiv.org/abs/arXiv:2211.10216) | **Spectroscopic and Imaging Observations of Spatially Extended Magnetic  Reconnection in the Splitting of a Solar Filament Structure**  |\n",
       "|| Huidong Hu, et al. -- incl., <mark>Ying D. Liu</mark> |\n",
       "|*Appeared on*| *2022-11-21*|\n",
       "|*Comments*| *10 pages, 5 figures; an animation for Figure 1 available at this http URL ; published in ApJ Letters*|\n",
       "|**Abstract**| On the Sun, Doppler shifts of bidirectional outflows from the magnetic-reconnection site have been found only in confined regions through spectroscopic observations. Without spatially resolved spectroscopic observations across an extended region, the distribution of reconnection and its outflows in the solar atmosphere cannot be made clear. Magnetic reconnection is thought to cause the splitting of filament structures, but unambiguous evidence has been elusive. Here we report spectroscopic and imaging analysis of a magnetic-reconnection event on the Sun, using high-resolution data from the Interface Region Imaging Spectrograph and the Solar Dynamics Observatory. Our findings reveal that the reconnection region extends to an unprecedented length of no less than 14,000 km. The reconnection splits a filament structure into two branches, and the upper branch erupts eventually. Doppler shifts indicate clear bidirectional outflows of ~100 km/s, which decelerate beyond the reconnection site. Differential-emission-measure analysis reveals that in the reconnection region the temperature reaches over 10 MK and the thermal energy is much larger than the kinetic energy. This Letter provides definite spectroscopic evidence for the splitting of a solar filament by magnetic reconnection in an extended region. |\n",
       "|<p style=\"color:green\"> **ERROR** </p>| <p style=\"color:green\">affiliation error: mpia.affiliation_verifications: '69117' keyword not found.</p> |"
      ],
      "text/plain": [
       "<IPython.core.display.Markdown object>"
      ]
     },
     "metadata": {},
     "output_type": "display_data"
    },
    {
     "data": {
      "text/markdown": [
       "\n",
       "|||\n",
       "|---:|:---|\n",
       "| [![arXiv](https://img.shields.io/badge/arXiv-arXiv:2211.09815-b31b1b.svg)](https://arxiv.org/abs/arXiv:2211.09815) | **Differentiable Cosmological Simulation with Adjoint Method**  |\n",
       "|| <mark>Yin Li</mark>, et al. -- incl., <mark>Yucheng Zhang</mark>, <mark>Libin Lu</mark>, <mark>Leslie Greengard</mark> |\n",
       "|*Appeared on*| *2022-11-21*|\n",
       "|*Comments*| *5 figures + 2 tables, repo at this https URL*|\n",
       "|**Abstract**| Rapid advances in deep learning have brought not only myriad powerful neural networks, but also breakthroughs that benefit established scientific research. In particular, automatic differentiation (AD) tools and computational accelerators like GPUs have facilitated forward modeling of the Universe with differentiable simulations. Current differentiable cosmological simulations are limited by memory, thus are subject to a trade-off between time and space/mass resolution. They typically integrate for only tens of time steps, unlike the standard non-differentiable simulations. We present a new approach free of such constraints, using the adjoint method and reverse time integration. It enables larger and more accurate forward modeling, and will improve gradient based optimization and inference. We implement it in a particle-mesh (PM) $N$-body library pmwd (particle-mesh with derivatives). Based on the powerful AD system JAX, pmwd is fully differentiable, and is highly performant on GPUs. |\n",
       "|<p style=\"color:green\"> **ERROR** </p>| <p style=\"color:green\">affiliation error: mpia.affiliation_verifications: 'Heidelberg' keyword not found.</p> |"
      ],
      "text/plain": [
       "<IPython.core.display.Markdown object>"
      ]
     },
     "metadata": {},
     "output_type": "display_data"
    },
    {
     "data": {
      "text/markdown": [
       "\n",
       "|||\n",
       "|---:|:---|\n",
       "| [![arXiv](https://img.shields.io/badge/arXiv-arXiv:2211.09834-b31b1b.svg)](https://arxiv.org/abs/arXiv:2211.09834) | **Two decades of optical timing of the shortest-period binary star system  HM Cancri**  |\n",
       "|| James Munday, et al. -- incl., <mark>Alex Brown</mark>, <mark>Matthew Green</mark>, <mark>S.P. Littlefair</mark> |\n",
       "|*Appeared on*| *2022-11-21*|\n",
       "|*Comments*| *12 pages (+5 pages appendix), 9 figures, 6 tables. Accepted for publication in MNRAS*|\n",
       "|**Abstract**| The shortest-period binary star system known to date, RX J0806.3+1527 (HM Cancri), has now been observed in the optical for more than two decades. Although it is thought to be a double degenerate binary undergoing mass transfer, an early surprise was that its orbital frequency, $f_0$, is currently increasing as the result of gravitational wave radiation. This is unusual since it was expected that the mass donor was degenerate and would expand on mass loss, leading to a decreasing $f_0$. We exploit two decades of high-speed photometry to precisely quantify the trajectory of HM Cancri, allowing us to find that $\\ddot f_0$ is negative, where $\\ddot f_0~=~(-5.38\\pm2.10)\\times10^{-27}$ Hz s$^{-2}$. Coupled with our positive frequency derivative, we show that mass transfer is counteracting gravitational-wave dominated orbital decay and that HM Cancri will turn around within $2100\\pm800\\,$yrs from now. We present Hubble Space Telescope ultra-violet spectra which display Lyman-$\\alpha$ absorption, indicative of the presence of hydrogen accreted from the donor star. We use these pieces of information to explore a grid of permitted donor and accretor masses with the Modules for Experiments in Stellar Astrophysics suite, finding models in good accordance with many of the observed properties for a cool and initially hydrogen-rich extremely-low-mass white dwarf ($\\approx0.17\\,$M$_\\odot$) coupled with a high accretor mass white dwarf ($\\approx 1.0\\,$M$_\\odot$). Our measurements and models affirm that HM~Cancri is still one of the brightest verification binaries for the Laser Interferometer Space Antenna spacecraft. |\n",
       "|<p style=\"color:green\"> **ERROR** </p>| <p style=\"color:green\">affiliation error: mpia.affiliation_verifications: 'Heidelberg' keyword not found.</p> |"
      ],
      "text/plain": [
       "<IPython.core.display.Markdown object>"
      ]
     },
     "metadata": {},
     "output_type": "display_data"
    },
    {
     "data": {
      "text/markdown": [
       "\n",
       "|||\n",
       "|---:|:---|\n",
       "| [![arXiv](https://img.shields.io/badge/arXiv-arXiv:2211.09839-b31b1b.svg)](https://arxiv.org/abs/arXiv:2211.09839) | **JWST/NIRCam Probes Young Star Clusters in the Reionization Era Sunrise  Arc**  |\n",
       "|| E. Vanzella, et al. -- incl., <mark>G. Mahler</mark> |\n",
       "|*Appeared on*| *2022-11-21*|\n",
       "|*Comments*| *18 pages, 8 figures, 3 tables. Submitted to ApJ*|\n",
       "|**Abstract**| Star cluster formation in the early universe and their contribution to reionization remains to date largely unconstrained. Here we present JWST/NIRCam imaging of the most highly magnified galaxy known at z ~ 6, the Sunrise arc. We identify six young massive star clusters (YMCs) with measured radii spanning ~ 20 pc down to ~ 1 pc (corrected for lensing magnification), estimated stellar masses of ~ $10^{(6-7)}$ Msun, and with ages 1-30 Myr based on SED fitting to photometry measured in 8 filters extending to rest-frame 7000A. The resulting stellar mass surface densities are higher than 1000 Msun pc$^{-2}$ (up to a few $10^5$ Msun pc$^{-2}$) and their inferred dynamical ages qualify the majority of these systems as gravitationally-bound stellar clusters. The star cluster ages map the progression of star formation along the arc, with to evolved systems (>~ 10 Myr old) followed by very young clusters. The youngest stellar clusters (< 5 Myr) show evidence of prominent Hbeta + [OIII]4959,5007 emission, based on photometry, with equivalent widths larger than 1000 A rest-frame, and are hosted in a 200 pc sized star-forming complex. Such a region dominates the ionizing photon production, with a high efficiency log($\\xi_{ion}$ [Hz erg$^{-1}$]) ~ 25.7. A significant fraction of the recently formed stellar mass of the galaxy (> 10-30 %) occurred in these YMCs. We speculate that such sources of ionizing radiation boost the ionizing photon production efficiency which eventually carve ionized channels that might favor the escape of Lyman continuum radiation. The survival of some of the clusters would make them the progenitors of massive and relatively metal-poor globular clusters in the local Universe. |\n",
       "|<p style=\"color:green\"> **ERROR** </p>| <p style=\"color:green\">affiliation error: mpia.affiliation_verifications: 'Heidelberg' keyword not found.</p> |"
      ],
      "text/plain": [
       "<IPython.core.display.Markdown object>"
      ]
     },
     "metadata": {},
     "output_type": "display_data"
    },
    {
     "data": {
      "text/markdown": [
       "\n",
       "|||\n",
       "|---:|:---|\n",
       "| [![arXiv](https://img.shields.io/badge/arXiv-arXiv:2211.09851-b31b1b.svg)](https://arxiv.org/abs/arXiv:2211.09851) | **Unstable Mass Transfer from a Main-Sequence Star to a Supermassive Black  Hole and Quasi-Periodic Eruptions**  |\n",
       "|| <mark>Itai Linial</mark>, Re'em Sari |\n",
       "|*Appeared on*| *2022-11-21*|\n",
       "|*Comments*| *13 pages, 2 figures. Submitted to ApJ. Comments are welcome*|\n",
       "|**Abstract**| We discuss the formation and evolution of systems comprised of a low-mass ($M_\\star \\lesssim 4 \\, \\rm M_\\odot$) main sequence star, orbiting a $10^5-10^7 \\, \\rm M_\\odot$ supermassive black hole with an orbital period of order $\\sim$hours, and a mild eccentricity ($e\\approx0.1-0.2$), episodically shedding mass at each pericenter passage. We argue that the resulting mass transfer is likely unstable, with Roche lobe overflow initially driven by gravitational wave emission, but then being accelerated by the star's expansion in response to its mass loss, undergoing a runaway process. We show that such systems are naturally produced by two-body gravitational encounters within the inner parsec of a galaxy, followed by gravitational wave circularization and inspiral from initially highly eccentric orbits. We argue that such systems can produce recurring flares similar to the recently identified class of X-ray transients known as Quasi-Periodic Eruptions, observed at the centers of a few distant galaxies. |\n",
       "|<p style=\"color:green\"> **ERROR** </p>| <p style=\"color:green\">affiliation error: mpia.affiliation_verifications: 'Heidelberg' keyword not found.</p> |"
      ],
      "text/plain": [
       "<IPython.core.display.Markdown object>"
      ]
     },
     "metadata": {},
     "output_type": "display_data"
    },
    {
     "data": {
      "text/markdown": [
       "\n",
       "|||\n",
       "|---:|:---|\n",
       "| [![arXiv](https://img.shields.io/badge/arXiv-arXiv:2211.09890-b31b1b.svg)](https://arxiv.org/abs/arXiv:2211.09890) | **How dark the sky: the JWST backgrounds**  |\n",
       "|| Jane R. Rigby, et al. -- incl., <mark>Paul A. Lightsey</mark>, <mark>Erin C. Smith</mark>, <mark>Xiang Liu</mark> |\n",
       "|*Appeared on*| *2022-11-21*|\n",
       "|*Comments*| *Submitted to the \"JWST Overview\" special issue of PASP*|\n",
       "|**Abstract**| We describe the sources of stray light and thermal background that affect JWST observations; report actual backgrounds as measured from commissioning and early science observations; compare those background levels to pre-launch predictions; estimate the impact of the backgrounds on science performance; and explore how the backgrounds probe the achieved configuration of the deployed observatory. We find the observatory is limited by the irreducible astrophysical backgrounds, rather than scattered stray light and thermal self-emission, for all wavelengths $\\lambda < 12.5$ micron, thus meeting the level 1 requirement. This result was not assured given the open architecture and thermal challenges of JWST, and is the result of meticulous attention to stray light and thermal issues in the design, construction, integration, and test phases. From background considerations alone, JWST will require less integration time in the near-infrared compared to a system that just met the stray light requirements; as such, JWST will be even more powerful than expected for deep imaging at 1--5 micron. In the mid-infrared, the measured thermal backgrounds closely match pre-launch predictions. The background near 10 micron is slightly higher than predicted before launch, but the impact on observations is mitigated by the excellent throughput of MIRI, such that instrument sensitivity will be as good as expected pre-launch. These measured background levels are fully compatible with JWST's science goals and the Cycle 1 science program currently underway. |\n",
       "|<p style=\"color:green\"> **ERROR** </p>| <p style=\"color:green\">affiliation error: mpia.affiliation_verifications: 'Heidelberg' keyword not found.</p> |"
      ],
      "text/plain": [
       "<IPython.core.display.Markdown object>"
      ]
     },
     "metadata": {},
     "output_type": "display_data"
    },
    {
     "data": {
      "text/markdown": [
       "\n",
       "|||\n",
       "|---:|:---|\n",
       "| [![arXiv](https://img.shields.io/badge/arXiv-arXiv:2211.09948-b31b1b.svg)](https://arxiv.org/abs/arXiv:2211.09948) | **Sub-kpc radio jets in the brightest central galaxy of the cool-core  galaxy cluster RXJ1720.1+2638**  |\n",
       "|| Yvette C. Perrott, et al. -- incl., <mark>David A. Green</mark> |\n",
       "|*Appeared on*| *2022-11-21*|\n",
       "|*Comments*| *5 pages, 4 figures, submitted to MNRAS*|\n",
       "|**Abstract**| The cool-core galaxy cluster RXJ1720.1+2638 hosts extended radio emission near the cluster core, known as a minihalo. The origin of this emission is still debated and one piece of the puzzle has been the question of whether the supermassive black hole in the brightest central galaxy is actively powering jets. Here we present high-resolution e-MERLIN observations clearly indicating the presence of sub-kpc jets; this may have implications for the proposed origin of the minihalo emission, providing an ongoing source of relativistic electrons rather than a single burst sometime in the past, as previously assumed in simulations attempting to reproduce observational characteristics of minihalo-hosting systems. |\n",
       "|<p style=\"color:green\"> **ERROR** </p>| <p style=\"color:green\">affiliation error: mpia.affiliation_verifications: 'Heidelberg' keyword not found.</p> |"
      ],
      "text/plain": [
       "<IPython.core.display.Markdown object>"
      ]
     },
     "metadata": {},
     "output_type": "display_data"
    },
    {
     "data": {
      "text/markdown": [
       "\n",
       "|||\n",
       "|---:|:---|\n",
       "| [![arXiv](https://img.shields.io/badge/arXiv-arXiv:2211.09958-b31b1b.svg)](https://arxiv.org/abs/arXiv:2211.09958) | **pmwd: A Differentiable Cosmological Particle-Mesh $N$-body Library**  |\n",
       "|| <mark>Yin Li</mark>, et al. -- incl., <mark>Libin Lu</mark>, <mark>Yucheng Zhang</mark>, <mark>Leslie Greengard</mark> |\n",
       "|*Appeared on*| *2022-11-21*|\n",
       "|*Comments*| *repo at this https URL*|\n",
       "|**Abstract**| The formation of the large-scale structure, the evolution and distribution of galaxies, quasars, and dark matter on cosmological scales, requires numerical simulations. Differentiable simulations provide gradients of the cosmological parameters, that can accelerate the extraction of physical information from statistical analyses of observational data. The deep learning revolution has brought not only myriad powerful neural networks, but also breakthroughs including automatic differentiation (AD) tools and computational accelerators like GPUs, facilitating forward modeling of the Universe with differentiable simulations. Because AD needs to save the whole forward evolution history to backpropagate gradients, current differentiable cosmological simulations are limited by memory. Using the adjoint method, with reverse time integration to reconstruct the evolution history, we develop a differentiable cosmological particle-mesh (PM) simulation library pmwd (particle-mesh with derivatives) with a low memory cost. Based on the powerful AD library JAX, pmwd is fully differentiable, and is highly performant on GPUs. |\n",
       "|<p style=\"color:green\"> **ERROR** </p>| <p style=\"color:green\">affiliation error: mpia.affiliation_verifications: 'Heidelberg' keyword not found.</p> |"
      ],
      "text/plain": [
       "<IPython.core.display.Markdown object>"
      ]
     },
     "metadata": {},
     "output_type": "display_data"
    },
    {
     "data": {
      "text/markdown": [
       "\n",
       "|||\n",
       "|---:|:---|\n",
       "| [![arXiv](https://img.shields.io/badge/arXiv-arXiv:2211.09969-b31b1b.svg)](https://arxiv.org/abs/arXiv:2211.09969) | **Effects of Active Galactic Nucleus Feedback on Cold Gas Depletion and  Quenching of Central Galaxies**  |\n",
       "|| Wenlin Ma, et al. -- incl., <mark>Kexin Liu</mark>, <mark>Hong Guo</mark>, <mark>Le Zhang</mark> |\n",
       "|*Appeared on*| *2022-11-21*|\n",
       "|*Comments*| *20 pages, 14 figures. Accepted by ApJ*|\n",
       "|**Abstract**| We investigate the influence of active galactic nucleus (AGN) feedback on the galaxy cold gas content and its connection to galaxy quenching in three hydrodynamical simulations of Illustris, IllustrisTNG and SIMBA. By comparing to the observed atomic and molecular neutral hydrogen measurements for central galaxies, we find that Illustris over-predicts the cold gas masses in star-forming galaxies and significantly under-predicts them for quenched galaxies. IllustrisTNG performs better in this comparison than Illustris, but quenched galaxies retain too much cold gas compared with observations. SIMBA shows good agreement with observations, by depleting the global cold gas reservoir for quenched galaxies. We find that the discrepancies in IllustrisTNG are caused by its weak kinetic AGN feedback that only redistributes the cold gas from the inner disks to the outer regions and reduces the inner cold gas densities. It agrees with observations much better when only the cold gas within the stellar disk is considered to infer the star formation rates. From dependences of cold gas reservoir on the black hole mass and Eddington ratio, we find that the cumulative energy release during the black hole growth is the dominant reason for the cold gas depletion and thus the galaxy quenching. We further measure the central stellar surface density within 1 kpc ($\\Sigma_1$) for the high-resolution run of IllustrisTNG and find a tight correlation between $\\Sigma_1$ and black hole mass. It suggests that the observed decreasing trend of cold gas mass with $\\Sigma_1$ is also a reflection of the black hole growth. |\n",
       "|<p style=\"color:green\"> **ERROR** </p>| <p style=\"color:green\">affiliation error: mpia.affiliation_verifications: 'Heidelberg' keyword not found.</p> |"
      ],
      "text/plain": [
       "<IPython.core.display.Markdown object>"
      ]
     },
     "metadata": {},
     "output_type": "display_data"
    },
    {
     "data": {
      "text/markdown": [
       "\n",
       "|||\n",
       "|---:|:---|\n",
       "| [![arXiv](https://img.shields.io/badge/arXiv-arXiv:2211.09972-b31b1b.svg)](https://arxiv.org/abs/arXiv:2211.09972) | **Evidence for neutrino emission from the nearby active galaxy NGC 1068**  |\n",
       "|| IceCube Collaboration, et al. -- incl., <mark>S. Browne</mark> |\n",
       "|*Appeared on*| *2022-11-21*|\n",
       "|*Comments*| *for the published version of this article visit the Science web portal: this https URL , or the IceCube database (no subscription needed): this https URL*|\n",
       "|**Abstract**| We report three searches for high energy neutrino emission from astrophysical objects using data recorded with IceCube between 2011 and 2020. Improvements over previous work include new neutrino reconstruction and data calibration methods. In one search, the positions of 110 a priori selected gamma-ray sources were analyzed individually for a possible surplus of neutrinos over atmospheric and cosmic background expectations. We found an excess of $79_{-20}^{+22}$ neutrinos associated with the nearby active galaxy NGC 1068 at a significance of 4.2$\\,\\sigma$. The excess, which is spatially consistent with the direction of the strongest clustering of neutrinos in the Northern Sky, is interpreted as direct evidence of TeV neutrino emission from a nearby active galaxy. The inferred flux exceeds the potential TeV gamma-ray flux by at least one order of magnitude. |\n",
       "|<p style=\"color:green\"> **ERROR** </p>| <p style=\"color:green\">affiliation error: mpia.affiliation_verifications: 'Heidelberg' keyword not found.</p> |"
      ],
      "text/plain": [
       "<IPython.core.display.Markdown object>"
      ]
     },
     "metadata": {},
     "output_type": "display_data"
    },
    {
     "data": {
      "text/markdown": [
       "\n",
       "|||\n",
       "|---:|:---|\n",
       "| [![arXiv](https://img.shields.io/badge/arXiv-arXiv:2211.09990-b31b1b.svg)](https://arxiv.org/abs/arXiv:2211.09990) | **Changes of Magnetic Energy and Helicity in Solar Active Regions from  Major Flares**  |\n",
       "|| <mark>Yang Liu</mark>, et al. -- incl., <mark>Yang Guo</mark> |\n",
       "|*Appeared on*| *2022-11-21*|\n",
       "|*Comments*| *25 pages, 15 figures, 1 table, accepted for publication in the Astrophysical Journal*|\n",
       "|**Abstract**| Magnetic free energy powers solar flares and coronal mass ejections (CMEs), and the buildup of magnetic helicity might play a role in the development of unstable structures that subsequently erupt. To better understand the roles of energy and helicity in large flares and eruptions, we have characterized the evolution of magnetic energy and helicity associated with 21 X-class flares from 2010 to 2017. Our sample includes both confined and eruptive events, with 6 and 15 in each category, respectively. Using HMI vector magnetic field observations from several hours before to several hours after each event, we employ (a) the Differential Affine Velocity Estimator for Vector Magnetograms (DAVE4VM) to determine the photospheric fluxes of energy and helicity, and (b) non-linear force-free field (NLFFF) extrapolations to estimate the coronal content of energy and helicity in source-region fields. Using Superposed Epoch analysis (SPE), we find, on average: (1) decreases in both magnetic energy and helicity, in both photospheric fluxes and coronal content, that persist for a few hours after eruptions, but no clear changes, notably in relative helicity, for confined events; (2) significant increases in the twist of photospheric fields in eruptive events, with twist uncertainties too large in confined events to constrain twist changes (and lower overall twist in confined events); and (3) on longer time scales (event time +12 hours), replenishment of free magnetic energy and helicity content to near pre-event levels for eruptive events. For eruptive events, magnetic helicity and free energy in coronal models clearly decrease after flares, with the amounts of decrease proportional to each region's pre-flare content. |\n",
       "|<p style=\"color:green\"> **ERROR** </p>| <p style=\"color:green\">affiliation error: mpia.affiliation_verifications: 'Heidelberg' keyword not found.</p> |"
      ],
      "text/plain": [
       "<IPython.core.display.Markdown object>"
      ]
     },
     "metadata": {},
     "output_type": "display_data"
    },
    {
     "data": {
      "text/markdown": [
       "\n",
       "|||\n",
       "|---:|:---|\n",
       "| [![arXiv](https://img.shields.io/badge/arXiv-arXiv:2211.10007-b31b1b.svg)](https://arxiv.org/abs/arXiv:2211.10007) | **First wide field-of-view X-ray observations by a lobster eye focusing  telescope in orbit**  |\n",
       "|| <mark>C. Zhang</mark>, et al. -- incl., <mark>Z.X. Ling</mark>, <mark>Y. Liu</mark>, <mark>Z.D. Li</mark>, <mark>H.Y. Liu</mark>, <mark>X.F. Zhang</mark>, <mark>Y.H. Zhang</mark>, <mark>S.N. Zhang</mark>, <mark>H. Li</mark>, <mark>J.F. Li</mark>, <mark>Y. Li</mark>, <mark>P.R. Liu</mark>, <mark>R.J. Xie</mark>, <mark>Q. Zhang</mark>, <mark>L.H. Li</mark>, <mark>S.K. Zhang</mark>, <mark>Z. Zhang</mark>, <mark>N. Zhang</mark>, <mark>J.W. He</mark>, <mark>H.Q. Liu</mark>, <mark>D.Y. Li</mark>, <mark>B. Zhang</mark>, <mark>M. Zhang</mark>, <mark>W.D. Zhang</mark>, <mark>D.H. Zhao</mark>, <mark>Y.R. Liu</mark>, <mark>Z.J. Zhao</mark>, <mark>A. Langmeier</mark>, <mark>T. Müller</mark> |\n",
       "|*Appeared on*| *2022-11-21*|\n",
       "|*Comments*| *11 pages, 4 figures. Accepted for publication in Astrophysical Journal Letter*|\n",
       "|**Abstract**| As a novel X-ray focusing technology, lobster eye micro-pore optics (MPO) feature both a wide observing field of view and true imaging capability, promising sky monitoring with significantly improved sensitivity and spatial resolution in soft X-rays. Since first proposed by Angel (1979), the optics have been extensively studied, developed and trialed over the past decades. In this Letter, we report on the first-light results from a flight experiment of the Lobster Eye Imager for Astronomy ($LEIA$), a pathfinder of the wide-field X-ray telescope of the Einstein Probe mission. The piggyback imager, launched in July 2022, has a mostly un-vignetted field of view of $18.6^\\circ \\times 18.6^\\circ $. Its spatial resolution is in the range of 4$-$7 arcmin in FWHM and the focal spot effective area is 2$-$3 cm$^2$, both showing only mild fluctuations across the field of view. We present images of the Galactic center region, Sco X-1 and the diffuse Cygnus Loop nebular taken in snapshot observations over 0.5$-$4 keV. These are truly wide-field X-ray images of celestial bodies observed, for the first time, by a focusing imaging telescope. Initial analyses of the in-flight data show excellent agreement between the observed images and the on-ground calibration and simulations. The instrument and its characterization are briefly described, as well as the flight experiment. The results provide a solid basis for the development of the present and proposed wide-field X-ray missions using lobster eye MPO. |\n",
       "|<p style=\"color:green\"> **ERROR** </p>| <p style=\"color:green\">affiliation error: mpia.affiliation_verifications: 'Heidelberg' keyword not found.</p> |"
      ],
      "text/plain": [
       "<IPython.core.display.Markdown object>"
      ]
     },
     "metadata": {},
     "output_type": "display_data"
    },
    {
     "data": {
      "text/markdown": [
       "\n",
       "|||\n",
       "|---:|:---|\n",
       "| [![arXiv](https://img.shields.io/badge/arXiv-arXiv:2211.10016-b31b1b.svg)](https://arxiv.org/abs/arXiv:2211.10016) | **Detection of the extended $γ$-ray emission from the high Galactic  latitude Calvera's SNR candidate**  |\n",
       "|| Yuliang Xin, <mark>Xiaolei Guo</mark> |\n",
       "|*Appeared on*| *2022-11-21*|\n",
       "|*Comments*| *8 pages, 3 figures, 2 tables, accepted for publication in ApJ*|\n",
       "|**Abstract**| We report the extended GeV $\\gamma$-ray emission that spatially associated with the high Galactic latitude supernova remnant (SNR) candidate - Calvera's SNR with the Pass 8 data recorded by the {\\em Fermi} Large Area Telescope. The $\\gamma$-ray spectrum of Calvera's SNR between 100 MeV and 1 TeV shows an evident ($\\sim$ 3.4$\\sigma$) spectral curvature at several tens of GeV. The multi-wavelength data can be fitted with either a leptonic model or a hadronic one. However, the leptonic model exhibits the inconsistent between the flat radio spectrum and the hard GeV $\\gamma$-ray spectrum of Calvera's SNR. For the hadronic model, the spectral index of protons should be harder than 1.6. And the total energy of protons is fitted to be more than one order of magnitude higher than the explosion energy of a typical supernova, which also challenges the hadronic model. The evident spectral curvature and the absence of non-thermal X-ray emission from Calvera's SNR makes it to be an interesting source bridging young-aged SNRs with bright non-thermal X-ray emission and old-aged SNRs interacting with molecular clouds. |\n",
       "|<p style=\"color:green\"> **ERROR** </p>| <p style=\"color:green\">affiliation error: mpia.affiliation_verifications: 'Heidelberg' keyword not found.</p> |"
      ],
      "text/plain": [
       "<IPython.core.display.Markdown object>"
      ]
     },
     "metadata": {},
     "output_type": "display_data"
    },
    {
     "data": {
      "text/markdown": [
       "\n",
       "|||\n",
       "|---:|:---|\n",
       "| [![arXiv](https://img.shields.io/badge/arXiv-arXiv:2211.10050-b31b1b.svg)](https://arxiv.org/abs/arXiv:2211.10050) | **High-Resolution Radio Study of the Dragonfly Nebula**  |\n",
       "|| Ruolan Jin, C.-Y. Ng, <mark>Mallory S.E. Roberts</mark>, <mark>Kwan-Lok Li</mark> |\n",
       "|*Appeared on*| *2022-11-21*|\n",
       "|*Comments*| *12 pages, 11 figures; submitted to ApJ*|\n",
       "|**Abstract**| The Dragonfly Nebula (G75.2$+$0.1) powered by the young pulsar J2021$+$3651 is a rare pulsar wind nebula (PWN) that shows double tori and polar jets enclosed by a bow-shock structure in X-rays. We present new radio observations of this source taken with the Very Large Array (VLA) at 6 GHz. The radio PWN has an overall size about two times as large as the X-ray counterpart, consisting of a bright main body region in the southwest, a narrow and fainter bridge region in the northeast, and a dark gap in between. The nebula shows a radio spectrum much softer than that of a typical PWN. This could be resulting from compression by the ram pressure as the system travels mildly supersonically in the interstellar medium (ISM). Our polarization maps reveal a highly ordered and complex $B$-field structure. This can be explained by a toroidal field distorted by the pulsar motion. |\n",
       "|<p style=\"color:green\"> **ERROR** </p>| <p style=\"color:green\">affiliation error: mpia.affiliation_verifications: 'Heidelberg' keyword not found.</p> |"
      ],
      "text/plain": [
       "<IPython.core.display.Markdown object>"
      ]
     },
     "metadata": {},
     "output_type": "display_data"
    },
    {
     "data": {
      "text/markdown": [
       "\n",
       "|||\n",
       "|---:|:---|\n",
       "| [![arXiv](https://img.shields.io/badge/arXiv-arXiv:2211.10063-b31b1b.svg)](https://arxiv.org/abs/arXiv:2211.10063) | **WISE Green Objects (WGOs): the massive star candidates in the whole  Galactic Plane ($\\mid b \\mid <2^\\circ$)**  |\n",
       "|| <mark>Chang Zhang</mark>, <mark>Guo-Yin Zhang</mark>, <mark>Jin-Zeng Li</mark>, Jing-Hua Yuan |\n",
       "|*Appeared on*| *2022-11-21*|\n",
       "|*Comments*| *25 pages, 9 figures, accepted for publication in ApJS*|\n",
       "|**Abstract**| Massive young stellar objects (MYSOs) play a crucial role in star formation. Given that MYSOs were previously identified based on the extended structure and the observational data for them is limited, screening the Wide-field Infrared Survey Explorer (WISE) objects showing green features (for the common coding of the 4.6 $\\mu$m band as green channel in three-color composite WISE images) will yield more MYSO candidates. Using WISE images in the whole Galactic Plane ($ 0^\\circ<l<360^\\circ $ and $\\mid b \\mid <2^\\circ$), we identified sources with strong emissions at 4.6 $\\mu$m band, then according to morphological features divided them into three groups. We present a catalog of 2135 WISE Green Objects (WGOs). 264 WGOs have an extended structure. 1366 WGOs show compact green feature but without extended structure. 505 WGOs have neither extended structure nor green feature, but the intensity at 4.6 $\\mu$m is numerically at least 4.5 times that of 3.4 $\\mu$m. According to the analysis of the coordinates of WGOs, we find WGOs are mainly distributed in $\\mid l \\mid< 60^\\circ$, coincident with the position of the giant molecular clouds in $\\mid l \\mid> 60^\\circ$. Matching results with various masers show that those three groups of WGOs are at different evolutionary stages. After cross-matching WGOs with published YSO survey catalogs, we infer that $\\sim$50% of WGOs are samples of newly discovered YSOs. In addition, 1260 WGOs are associated with Hi-GAL sources, according to physical parameters estimated by spectral energy distribution fitting, of which 231 are classified as robust MYSOs and 172 as candidate MYSOs. |\n",
       "|<p style=\"color:green\"> **ERROR** </p>| <p style=\"color:green\">affiliation error: mpia.affiliation_verifications: 'Heidelberg' keyword not found.</p> |"
      ],
      "text/plain": [
       "<IPython.core.display.Markdown object>"
      ]
     },
     "metadata": {},
     "output_type": "display_data"
    },
    {
     "data": {
      "text/markdown": [
       "\n",
       "|||\n",
       "|---:|:---|\n",
       "| [![arXiv](https://img.shields.io/badge/arXiv-arXiv:2211.10087-b31b1b.svg)](https://arxiv.org/abs/arXiv:2211.10087) | **Prospects for constraining interacting dark energy models from  gravitational wave and gamma ray burst joint observation**  |\n",
       "|| Wan-Ting Hou, et al. -- incl., <mark>Jing-Zhao Qi</mark>, <mark>Jing-Fei Zhang</mark>, <mark>Xin Zhang</mark> |\n",
       "|*Appeared on*| *2022-11-21*|\n",
       "|*Comments*| *16 pages, 5 figures*|\n",
       "|**Abstract**| With the measurement of the electromagnetic (EM) counterpart, a gravitational wave (GW) event could be treated as a standard siren. As a novel cosmological probe, the standard siren will bring significant implications for cosmology. In this paper, by considering the coincident detections of GW and associated $\\gamma$ ray burst (GRB), we find that only about 400 GW bright standard sirens from binary neutron star mergers could be detected in a 10-year observation of the Einstein Telescope and the THESEUS satellite mission. Based on this mock sample, we investigate the implications of GW standard sirens on the interaction between dark energy and dark matter. In our analysis, four viable interacting dark energy (IDE) models, with interaction forms $Q=3\\beta H \\rho_{\\mathrm{de}}$ and $Q=3 \\beta H \\rho_{\\mathrm{c}}$, are considered. Compared with the traditional EM observational data such as CMB, BAO, and SN Ia, the combination of both GW and EM observations could effectively break the degeneracies between different cosmological parameters and provide more stringent cosmological fits. We also find that the GW data could play a more important role for determining the interaction in the models with $Q=3 \\beta H \\rho_{\\mathrm{c}}$, compared with the models with $Q=3\\beta H \\rho_{\\mathrm{de}}$. |\n",
       "|<p style=\"color:green\"> **ERROR** </p>| <p style=\"color:green\">affiliation error: mpia.affiliation_verifications: 'Heidelberg' keyword not found.</p> |"
      ],
      "text/plain": [
       "<IPython.core.display.Markdown object>"
      ]
     },
     "metadata": {},
     "output_type": "display_data"
    },
    {
     "data": {
      "text/markdown": [
       "\n",
       "|||\n",
       "|---:|:---|\n",
       "| [![arXiv](https://img.shields.io/badge/arXiv-arXiv:2211.10149-b31b1b.svg)](https://arxiv.org/abs/arXiv:2211.10149) | **Development of a trigger for acoustic neutrino candidates in KM3NeT**  |\n",
       "|| Dídac D.Tortosa, et al. -- incl., <mark>Guillermo Lara</mark> |\n",
       "|*Appeared on*| *2022-11-21*|\n",
       "|*Comments*| **|\n",
       "|**Abstract**| The KM3NeT Collaboration is constructing two large neutrino detectors in the Mediterranean Sea: ARCA, located near Sicily and aiming at neutrino astronomy, and ORCA located near Toulon and designed for the study of intrinsic neutrino properties. The two detectors together will have hundreds of Detection Units with Digital Optical Modules kept vertically by buoyancy forming a large 3D optical array for detecting the Cherenkov light produced after the neutrino interactions. To properly reconstruct the direction of the incoming neutrino, the position of the DOMs, which are not static due to the sea currents, must be monitored. For this purpose, the detector is equipped with an Acoustic Positioning System, which is composed of fixed acoustic emitters on the sea bottom, a hydrophone in each DU base, and a piezoceramic sensor in each DOM, as acoustic receivers. This network of acoustic sensors can be used not only for positioning, but also for acoustic monitoring studies such as bioacoustics, ship noise monitoring, environmental noise control, and acoustic neutrinos detection. This work explores the possibility of creating a trigger for saving the data for ultra-high-energy neutrino candidates detected acoustically by the hydrophones. The acoustic signal caused by the neutrino interaction in a fluid is a short-time duration Bipolar Pulse extremely directive and with a Fourier transform extending over a wide range of frequencies. A study of signal detection, has been done by simulating BP produced by the interaction of a UHE neutrino at 1 km from the detector at zero-degree incidence added to the experimental real acoustic data. Finally, a trigger proposal has been developed in order to record candidates of BPs and it has been tested. The number of candidates per second, precision, and recall have been monitored according to the cuts applied and parameters calculated by the algorithm. |\n",
       "|<p style=\"color:green\"> **ERROR** </p>| <p style=\"color:green\">affiliation error: mpia.affiliation_verifications: 'Heidelberg' keyword not found.</p> |"
      ],
      "text/plain": [
       "<IPython.core.display.Markdown object>"
      ]
     },
     "metadata": {},
     "output_type": "display_data"
    },
    {
     "data": {
      "text/markdown": [
       "\n",
       "|||\n",
       "|---:|:---|\n",
       "| [![arXiv](https://img.shields.io/badge/arXiv-arXiv:2211.10160-b31b1b.svg)](https://arxiv.org/abs/arXiv:2211.10160) | **Return of 4U~1730--22 after 49 years silence: the spectral properties of  the 2021/2022 outbursts observed by NICER and Insight-HXMT and the  soft-to-hard state transition caused by the propeller effect**  |\n",
       "|| Yu-Peng Chen, et al. -- incl., <mark>Shu Zhang</mark>, <mark>Shuang-Nan Zhang</mark>, <mark>Ling-Da Kong</mark>, <mark>Jian Li</mark>, <mark>Lian Tao</mark> |\n",
       "|*Appeared on*| *2022-11-21*|\n",
       "|*Comments*| *Accepted by ApJL*|\n",
       "|**Abstract**| After in quiescence for 49 years, 4U~1730--22 became active and had two outbursts in 2021 \\& 2022, the onset and tail of the outbursts were observed by NICER, which give us a peerless opportunity to study the state transition and its underlying mechanism. In this work, we take both the NS surface and accretion disk emission as the seed photons of the Comptonization and derive their spectral evolution in a bolometric luminosity range of 1\\%--15\\%$L_{\\rm Edd}$. In the high/soft state, the inferred inner disk radius and the NS radius are consistent well, which implies that the accretion disk is close to the NS surface. For the decay stage, we report a steep change of the accretion disk emission within one day, i.e., the soft-to-hard transition, which could be due to the propeller effect and the corresponding neutron star surface magnetic field is 1.8--2.2$\\times10^{8}$ G. Moreover, the inner disk radius is truncated at the corotation radius, which is similar to the propeller effect detected from 4U~1608--52. The absence of the propeller effect in the hard-to-soft state transition implies that the transition between the magnetospheric accretion and the disk accretion is not the sole cause of the state transitions. |\n",
       "|<p style=\"color:green\"> **ERROR** </p>| <p style=\"color:green\">affiliation error: mpia.affiliation_verifications: 'Heidelberg' keyword not found.</p> |"
      ],
      "text/plain": [
       "<IPython.core.display.Markdown object>"
      ]
     },
     "metadata": {},
     "output_type": "display_data"
    },
    {
     "data": {
      "text/markdown": [
       "\n",
       "|||\n",
       "|---:|:---|\n",
       "| [![arXiv](https://img.shields.io/badge/arXiv-arXiv:2211.10187-b31b1b.svg)](https://arxiv.org/abs/arXiv:2211.10187) | **Void Lensing in Cubic Galileon Gravity**  |\n",
       "|| Chen Su, et al. -- incl., <mark>Jiajun Zhang</mark>, <mark>Cheng Zhao</mark>, <mark>Linfeng Xiao</mark>, <mark>Xiangkun Liu</mark>, <mark>An Zhao</mark> |\n",
       "|*Appeared on*| *2022-11-21*|\n",
       "|*Comments*| *13 pages, 8 figures*|\n",
       "|**Abstract**| Weak lensing studies via cosmic voids are a promising probe of Modified Gravity (MG). The Excess Surface mass Density (ESD) is widely used as a lensing statistics in weak lensing researches. In this paper we use the ray-tracing method to study the ESD around voids in simulations based on the Cubic Galileon (CG) gravity. With the compilation of N-body simulation and ray-tracing method, changes on the structure formation and deflection angle resulting from MG can both be considered, making the extraction of lensing signals more realistic. We find good agreements between the measurement and theoretical prediction of ESD for CG gravity. Meanwhile, the effect on the deflection angle is found to be incomparable to that on the structure formation in CG, indicating an equivalence between ESD (statistics) and the projection of 3D dark matter density field for this gravity. Finally, we demonstrate that it is impossible to distinguish CG and General Relativity in our simulation with an effective survey area $\\sim1550deg^2$ and a galaxy number density of $10arcmin^{-2}$, implying that void lensing statistics may not be the optimal probe on testing CG gravity. The methodology employed in this paper that combines N-body simulation and ray-tracing method can be a robust way to measure the lensing signals from simulations based on the MGs, and especially on that who significantly modifies the deflection angle. |\n",
       "|<p style=\"color:green\"> **ERROR** </p>| <p style=\"color:green\">affiliation error: mpia.affiliation_verifications: 'Heidelberg' keyword not found.</p> |"
      ],
      "text/plain": [
       "<IPython.core.display.Markdown object>"
      ]
     },
     "metadata": {},
     "output_type": "display_data"
    },
    {
     "data": {
      "text/markdown": [
       "\n",
       "|||\n",
       "|---:|:---|\n",
       "| [![arXiv](https://img.shields.io/badge/arXiv-arXiv:2211.10236-b31b1b.svg)](https://arxiv.org/abs/arXiv:2211.10236) | **The non-LTE formation of the Fe I 6173 A line in the solar atmosphere**  |\n",
       "|| <mark>H. N. Smitha</mark>, M. van Noort, S. K. Solanki, J. S. Castellanos Durán |\n",
       "|*Appeared on*| *2022-11-21*|\n",
       "|*Comments*| *Accepted for publication in A&A*|\n",
       "|**Abstract**| The current analysis is dedicated to a detailed investigation of the non-Local Thermodynamic Equilibrium (NLTE) effects influencing the formation of the Fe I 6173 A line, which is widely used by many instruments including the Helioseismic and Magnetic Imager (HMI) on-board the Solar Dynamics Observatory (SDO) and the Polarimetric and Helioseismic Imager on board the Solar Orbiter. We synthesize the Stokes profiles in a snapshot of a three dimensional magnetohydrodynamic simulation of the solar photosphere under both LTE and NLTE conditions. The simulation cube contains a sunspot and a plage region around it. The LTE and NLTE Stokes profiles formed in different features are compared and analysed. NLTE effects are evident in both intensity and polarization profiles. For the 6173 A line, UV overionization is the dominant NLTE mechanism, and scattering effects are much less important. In addition to Fe, an NLTE treatment of Si, Mg and Al is necessary to set the right photon density in the UV. This is found to further enhance the LTE departures compared to the case where Fe alone is treated in NLTE. These effects in the Stokes profiles survive even when the profiles are averaged spatially or sampled on a coarse wavelength grid such as that used by the SDO/HMI and other magnetographs. The deviations from the LTE profiles are stronger in the Fe I 6173 A compared to the 6301 A - 6302 A lines because in case of the latter, line scattering compensates the effect of UV overionization. Based on the nature of departures from LTE, treating the 6173 A line in LTE will likely result in an over-estimation of temperature and an under-estimation of the magnetic field strength. |\n",
       "|<p style=\"color:green\"> **ERROR** </p>| <p style=\"color:green\">affiliation error: mpia.affiliation_verifications: 'Heidelberg' keyword not found.</p> |"
      ],
      "text/plain": [
       "<IPython.core.display.Markdown object>"
      ]
     },
     "metadata": {},
     "output_type": "display_data"
    },
    {
     "data": {
      "text/markdown": [
       "\n",
       "|||\n",
       "|---:|:---|\n",
       "| [![arXiv](https://img.shields.io/badge/arXiv-arXiv:2211.10281-b31b1b.svg)](https://arxiv.org/abs/arXiv:2211.10281) | **MeV-GeV Gamma-ray Emission from SNR G327.1-1.1 Discovered by the  Fermi-LAT**  |\n",
       "|| Jordan Eagle, et al. -- incl., <mark>Joseph Gelfand</mark> |\n",
       "|*Appeared on*| *2022-11-21*|\n",
       "|*Comments*| *13 pages, 6 figures, 4 tables. Accepted for publication in ApJ on Oct. 31, 2022*|\n",
       "|**Abstract**| We report the discovery of MeV-GeV gamma-ray emission by the Fermi-LAT positionally coincident with the TeV pulsar wind nebula (PWN) HESS~J1554-550 within the host supernova remnant (SNR) G327.1-1.1. The gamma-ray emission is point-like and faint but significant (> 4 sigma) in the 300MeV-2TeV energy range. We report here the Fermi-LAT analysis of the observed gamma-ray emission followed by a detailed multiwavelength investigation to understand the nature of the emission. The central pulsar powering the PWN within G327.1-1.1 has not been detected in any waveband; however, it is likely embedded within the X-ray nebula, which is displaced from the center of the radio nebula. The gamma-ray emission is faint and therefore a pulsation search to determine if the pulsar may be contributing is not feasible. Prior detailed multiwavelength reports revealed an SNR system that is old, tau ~ 18,000yrs, where the interaction of the reverse shock with the PWN is underway or has recently occurred. We find that the gamma-ray emission agrees remarkably well with a detailed broadband model constructed in a prior report based on independent hydrodynamical and semi-analytic simulations of an evolved PWN. We further investigate the physical implications of the model for the PWN evolutionary stage incorporating the new Fermi-LAT data and attempt to model the distinct particle components based on a spatial separation analysis of the displaced PWN counterparts. |\n",
       "|<p style=\"color:green\"> **ERROR** </p>| <p style=\"color:green\">affiliation error: mpia.affiliation_verifications: 'Heidelberg' keyword not found.</p> |"
      ],
      "text/plain": [
       "<IPython.core.display.Markdown object>"
      ]
     },
     "metadata": {},
     "output_type": "display_data"
    },
    {
     "data": {
      "text/markdown": [
       "\n",
       "|||\n",
       "|---:|:---|\n",
       "| [![arXiv](https://img.shields.io/badge/arXiv-arXiv:2211.10297-b31b1b.svg)](https://arxiv.org/abs/arXiv:2211.10297) | **A strong H- opacity signal in the near-infrared emission spectrum of the  ultra-hot Jupiter KELT-9b**  |\n",
       "|| Bob Jacobs, et al. -- incl., <mark>Michael R. Line</mark> |\n",
       "|*Appeared on*| *2022-11-21*|\n",
       "|*Comments*| *8 pages, 4 figures, Accepted for publication in A&A letters*|\n",
       "|**Abstract**| We present the analysis of a spectroscopic secondary eclipse of the hottest transiting exoplanet detected to date, KELT-9b, obtained with the Wide Field Camera 3 aboard the Hubble Space Telescope. We complement these data with literature information on stellar pulsations and Spitzer/Infrared Array Camera and Transiting Exoplanet Survey Satellite eclipse depths of this target to obtain a broadband thermal emission spectrum. Our extracted spectrum exhibits a clear turnoff at 1.4$\\mu$m. This points to H$^{-}$ bound-free opacities shaping the spectrum. To interpret the spectrum, we perform grid retrievals of self-consistent 1D equilibrium chemistry forward models, varying the composition and energy budget. The model with solar metallicity and C/O ratio provides a poor fit because the H$^{-}$ signal is stronger than expected, requiring an excess of electrons. This pushes our retrievals toward high atmospheric metallicities ($[M/H]=1.98^{+0.19}_{-0.21}$) and a C/O ratio that is subsolar by 2.4$\\sigma$. We question the viability of forming such a high-metallicity planet, and therefore provide other scenarios to increase the electron density in this atmosphere. We also look at an alternative model in which we quench TiO and VO. This fit results in an atmosphere with a slightly subsolar metallicity and subsolar C/O ratio ($[M/H]=-0.22^{+0.17}_{-0.13}$, log(C/O)$=-0.34^{+0.19}_{-0.34}$). However, the required TiO abundances are disputed by recent high-resolution measurements of the same planet. |\n",
       "|<p style=\"color:green\"> **ERROR** </p>| <p style=\"color:green\">affiliation error: mpia.affiliation_verifications: 'Heidelberg' keyword not found.</p> |"
      ],
      "text/plain": [
       "<IPython.core.display.Markdown object>"
      ]
     },
     "metadata": {},
     "output_type": "display_data"
    },
    {
     "data": {
      "text/markdown": [
       "\n",
       "|||\n",
       "|---:|:---|\n",
       "| [![arXiv](https://img.shields.io/badge/arXiv-arXiv:2211.10300-b31b1b.svg)](https://arxiv.org/abs/arXiv:2211.10300) | **The Microvariability and Wavelength Dependence of Polarization  Degree/Angle of BL Lacertae in the Outburst 2020 to 2021**  |\n",
       "|| Ryo Imazawa, et al. -- incl., <mark>Mahito Sasada</mark> |\n",
       "|*Appeared on*| *2022-11-21*|\n",
       "|*Comments*| *19 pages, 8 figures*|\n",
       "|**Abstract**| We have obtained simultaneous and continuous photo-polarization observations of the blazar BL Lacertae in optical and near-infrared (NIR) bands during a historical outburst from 2020 to 2021. In total, fourteen nights of observations were performed where ten observations show microvariability on timescales of a few minutes to several hours. This suggests a compact emission region, and the timescales are difficult to explain by a one-zone shock-in-jet model. Moreover, we found significant differences in the polarization degree (PD) and angle between optical and NIR bands. Nine nights showed a PD in the optical band that is greater than or equal to that in the NIR band, which can be explained by either a shock-in-jet model or the Turbulent Extreme Multi-Zone (TEMZ) model. On the other hand, five nights showed higher PD in a NIR band than an optical band, which cannot be explained by simple shock-in-jet models nor the simple TEMZ model. The observed timescales and wavelength dependency of the PD and polarization angle suggest the existence of complicated multiple emission regions such as an irregular TEMZ model. |\n",
       "|<p style=\"color:green\"> **ERROR** </p>| <p style=\"color:green\">affiliation error: mpia.affiliation_verifications: 'Heidelberg' keyword not found.</p> |"
      ],
      "text/plain": [
       "<IPython.core.display.Markdown object>"
      ]
     },
     "metadata": {},
     "output_type": "display_data"
    },
    {
     "data": {
      "text/markdown": [
       "\n",
       "|||\n",
       "|---:|:---|\n",
       "| [![arXiv](https://img.shields.io/badge/arXiv-arXiv:2211.09811-b31b1b.svg)](https://arxiv.org/abs/arXiv:2211.09811) | **Visual Magnitude of the BlueWalker 3 Satellite**  |\n",
       "|| <mark>Anthony Mallama</mark>, Richard E. Cole, Scott Harrington, Paul D. Maley |\n",
       "|*Appeared on*| *2022-11-21*|\n",
       "|*Comments*| **|\n",
       "|**Abstract**| Observations have been carried out in order to assess the optical characteristics of the BlueWalker 3 spacecraft. The illumination phase function has been determined and evaluated. The average visual magnitude when seen overhead at the beginning or ending of astronomical twilight is found to be 1.5. |\n",
       "|<p style=\"color:red\"> **ERROR** </p>| <p style=\"color:red\">latex error not a gzip file</p> |"
      ],
      "text/plain": [
       "<IPython.core.display.Markdown object>"
      ]
     },
     "metadata": {},
     "output_type": "display_data"
    }
   ],
   "source": [
    "import datetime\n",
    "today = str(datetime.date.today())\n",
    "logfile = f\"_build/html/logs/log-{today}.md\"\n",
    "\n",
    "\n",
    "with open(logfile, 'w') as logs:\n",
    "    # Success\n",
    "    logs.write(f'# Arxiv on Deck 2: Logs - {today}\\n\\n')\n",
    "    logs.write(\"\"\"* Arxiv had {0:,d} new papers\\n\"\"\".format(len(new_papers)))\n",
    "    logs.write(\"\"\"    * {0:,d} with possible author matches\\n\\n\"\"\".format(len(candidates)))\n",
    "    logs.write(\"## Sucessful papers\\n\\n\")\n",
    "    display(Markdown(\"## Successful papers\"))\n",
    "    success = [k[0] for k in documents]\n",
    "    for candid in candidates:\n",
    "        if candid['identifier'].split(':')[-1] in success:\n",
    "            display(candid)\n",
    "            logs.write(candid.generate_markdown_text() + '\\n\\n')\n",
    "\n",
    "    ## failed\n",
    "    logs.write(\"## Failed papers\\n\\n\")\n",
    "    display(Markdown(\"## Failed papers\"))\n",
    "    failed = sorted(failed, key=lambda x: x[1])\n",
    "    current_reason = \"\"\n",
    "    for paper, reason in failed:\n",
    "        if 'affiliation' in reason:\n",
    "            color = 'green'\n",
    "        else:\n",
    "            color = 'red'\n",
    "        data = Markdown(\n",
    "                paper.generate_markdown_text() + \n",
    "                f'\\n|<p style=\"color:{color:s}\"> **ERROR** </p>| <p style=\"color:{color:s}\">{reason:s}</p> |'\n",
    "               )\n",
    "        if reason != current_reason:\n",
    "            logs.write(f'### {reason:s} \\n\\n')\n",
    "            current_reason = reason\n",
    "        logs.write(data.data + '\\n\\n')\n",
    "        \n",
    "        # only display here the important errors (all in logs)\n",
    "        # if color in ('red',):\n",
    "        display(data)"
   ]
  },
  {
   "cell_type": "markdown",
   "id": "472d20ee",
   "metadata": {
    "papermill": {
     "duration": 0.009994,
     "end_time": "2022-11-21T04:16:42.648026",
     "exception": false,
     "start_time": "2022-11-21T04:16:42.638032",
     "status": "completed"
    },
    "tags": []
   },
   "source": [
    "## Export documents\n",
    "\n",
    "We now write the .md files and export relevant images"
   ]
  },
  {
   "cell_type": "code",
   "execution_count": 7,
   "id": "d426aed9",
   "metadata": {
    "execution": {
     "iopub.execute_input": "2022-11-21T04:16:42.669909Z",
     "iopub.status.busy": "2022-11-21T04:16:42.669370Z",
     "iopub.status.idle": "2022-11-21T04:16:42.676967Z",
     "shell.execute_reply": "2022-11-21T04:16:42.676295Z"
    },
    "papermill": {
     "duration": 0.020647,
     "end_time": "2022-11-21T04:16:42.678518",
     "exception": false,
     "start_time": "2022-11-21T04:16:42.657871",
     "status": "completed"
    },
    "tags": []
   },
   "outputs": [],
   "source": [
    "def export_markdown_summary(md: str, md_fname:str, directory: str):\n",
    "    \"\"\"Export MD document and associated relevant images\"\"\"\n",
    "    import os\n",
    "    import shutil\n",
    "    import re\n",
    "\n",
    "    if (os.path.exists(directory) and not os.path.isdir(directory)):\n",
    "        raise RuntimeError(f\"a non-directory file exists with name {directory:s}\")\n",
    "\n",
    "    if (not os.path.exists(directory)):\n",
    "        print(f\"creating directory {directory:s}\")\n",
    "        os.mkdir(directory)\n",
    "\n",
    "    fig_fnames = (re.compile(r'\\[Fig.*\\]\\((.*)\\)').findall(md) + \n",
    "                  re.compile(r'\\<img src=\"([^>\\s]*)\"[^>]*/>').findall(md))\n",
    "    for fname in fig_fnames:\n",
    "        if 'http' in fname:\n",
    "            # No need to copy online figures\n",
    "            continue\n",
    "        destdir = os.path.join(directory, os.path.dirname(fname))\n",
    "        destfname = os.path.join(destdir, os.path.basename(fname))\n",
    "        try:\n",
    "            os.makedirs(destdir)\n",
    "        except FileExistsError:\n",
    "            pass\n",
    "        shutil.copy(fname, destfname)\n",
    "    with open(os.path.join(directory, md_fname), 'w') as fout:\n",
    "        fout.write(md)\n",
    "    print(\"exported in \", os.path.join(directory, md_fname))\n",
    "    [print(\"    + \" + os.path.join(directory,fk)) for fk in fig_fnames]"
   ]
  },
  {
   "cell_type": "code",
   "execution_count": 8,
   "id": "014d04a4",
   "metadata": {
    "execution": {
     "iopub.execute_input": "2022-11-21T04:16:42.700058Z",
     "iopub.status.busy": "2022-11-21T04:16:42.699501Z",
     "iopub.status.idle": "2022-11-21T04:16:42.705290Z",
     "shell.execute_reply": "2022-11-21T04:16:42.704632Z"
    },
    "papermill": {
     "duration": 0.018187,
     "end_time": "2022-11-21T04:16:42.706791",
     "exception": false,
     "start_time": "2022-11-21T04:16:42.688604",
     "status": "completed"
    },
    "tags": []
   },
   "outputs": [
    {
     "name": "stdout",
     "output_type": "stream",
     "text": [
      "exported in  _build/html/2211.09840.md\n",
      "    + _build/html/tmp_2211.09840/figures/spectrum_both_matthias.png\n",
      "    + _build/html/tmp_2211.09840/figures/ifs_reduction_comp.png\n",
      "    + _build/html/tmp_2211.09840/figures/model_spec_comp_plot_matthias.png\n"
     ]
    }
   ],
   "source": [
    "for paper_id, md in documents:\n",
    "    export_markdown_summary(md, f\"{paper_id:s}.md\", '_build/html/')"
   ]
  },
  {
   "cell_type": "markdown",
   "id": "f087a0a7",
   "metadata": {
    "papermill": {
     "duration": 0.010035,
     "end_time": "2022-11-21T04:16:42.726830",
     "exception": false,
     "start_time": "2022-11-21T04:16:42.716795",
     "status": "completed"
    },
    "tags": []
   },
   "source": [
    "## Display the papers\n",
    "\n",
    "Not necessary but allows for a quick check."
   ]
  },
  {
   "cell_type": "code",
   "execution_count": 9,
   "id": "fd25f625",
   "metadata": {
    "execution": {
     "iopub.execute_input": "2022-11-21T04:16:42.748239Z",
     "iopub.status.busy": "2022-11-21T04:16:42.747766Z",
     "iopub.status.idle": "2022-11-21T04:16:42.753348Z",
     "shell.execute_reply": "2022-11-21T04:16:42.752670Z"
    },
    "papermill": {
     "duration": 0.018043,
     "end_time": "2022-11-21T04:16:42.754872",
     "exception": false,
     "start_time": "2022-11-21T04:16:42.736829",
     "status": "completed"
    },
    "scrolled": false,
    "tags": []
   },
   "outputs": [
    {
     "data": {
      "text/markdown": [
       "<div class=\"macros\" style=\"visibility:hidden;\">\n",
       "$\\newcommand{\\ensuremath}{}$\n",
       "$\\newcommand{\\xspace}{}$\n",
       "$\\newcommand{\\object}[1]{\\texttt{#1}}$\n",
       "$\\newcommand{\\farcs}{{.}''}$\n",
       "$\\newcommand{\\farcm}{{.}'}$\n",
       "$\\newcommand{\\arcsec}{''}$\n",
       "$\\newcommand{\\arcmin}{'}$\n",
       "$\\newcommand{\\ion}[2]{#1#2}$\n",
       "$\\newcommand{\\textsc}[1]{\\textrm{#1}}$\n",
       "$\\newcommand{\\hl}[1]{\\textrm{#1}}$\n",
       "$\\newcommand{\\vdag}{(v)^\\dagger}$\n",
       "$\\newcommand$\n",
       "$\\newcommand$</div>\n",
       "\n",
       "<div class=\"macros\" style=\"visibility:hidden;\">\n",
       "$\\newcommand{$\\ensuremath$}{}$\n",
       "$\\newcommand{$\\xspace$}{}$\n",
       "$\\newcommand{$\\object$}[1]{\\texttt{#1}}$\n",
       "$\\newcommand{$\\farcs$}{{.}''}$\n",
       "$\\newcommand{$\\farcm$}{{.}'}$\n",
       "$\\newcommand{$\\arcsec$}{''}$\n",
       "$\\newcommand{$\\arcmin$}{'}$\n",
       "$\\newcommand{$\\ion$}[2]{#1#2}$\n",
       "$\\newcommand{$\\textsc$}[1]{\\textrm{#1}}$\n",
       "$\\newcommand{$\\hl$}[1]{\\textrm{#1}}$\n",
       "$\\newcommand{$\\vdag$}{(v)^\\dagger}$\n",
       "$\\newcommand$\n",
       "$\\newcommand$</div>\n",
       "\n",
       "\n",
       "\n",
       "<div id=\"title\">\n",
       "\n",
       "# Based in part on data collected at Subaru Telescope, which is operated by the National Astronomical Observatory of Japan.\n",
       "\n",
       "</div>\n",
       "<div id=\"comments\">\n",
       "\n",
       "[![arXiv](https://img.shields.io/badge/arXiv-2211.09840-b31b1b.svg)](https://arxiv.org/abs/2211.09840)<mark>Appeared on: 2022-11-21</mark> - _40 pages, 19 figures, accepted to AJ_\n",
       "\n",
       "</div>\n",
       "<div id=\"authors\">\n",
       "\n",
       "Kyle Franson, et al. -- incl., <mark>Matthias Samland</mark>, <mark>Zhoujian Zhang</mark>, <mark>Kevin Heng</mark>\n",
       "\n",
       "</div>\n",
       "<div id=\"abstract\">\n",
       "\n",
       "**Abstract:** Benchmark brown dwarf companions with well-determined ages and model-independent masses are powerful tools to test substellar evolutionary models and probe the formation of giant planets and brown dwarfs. Here, we report the independent discovery of HIP 21152 B, the first imaged brown dwarf companion in the Hyades, and conduct a comprehensive orbital and atmospheric characterization of the system. HIP 21152 was targeted in an ongoing high-contrast imaging campaign of stars exhibiting proper motion changes between Hipparcos and Gaia, and was also recently identified by\\citet{bonavitaResultsCopainsPilot_2022}and\\citet{kuzuharaDirectImagingDiscovery_2022}. Our Keck/NIRC2 and SCExAO/CHARIS imaging of HIP 21152 revealed a comoving companion at a separation of$0$\\farcs$37$(16 au). We perform a joint orbit fit of all available relative astrometry and radial velocities together with the Hipparcos-Gaia proper motions, yielding a dynamical mass of$24^{+6}_{-4} \\mathrm{M_{Jup}}$, which is$1{-}2{\\sigma}$lower than evolutionary model predictions. Hybrid grids that include the evolution of cloud properties best reproduce the dynamical mass. We also identify a comoving wide-separation ($1837$\\arcsec$$or$\\SI{7.9e4}{au}$) early-L dwarf with an inferred mass near the hydrogen-burning limit. Finally, we analyze the spectra and photometry of HIP 21152 B using the\\citet{saumonEvolutionDwarfsColor_2008}atmospheric models and a suite of retrievals. The best-fit grid-based models have$f_{\\mathrm{sed}}=2$, indicating the presence of clouds,$T_{\\mathrm{eff}}=\\SI{1400}{K}$, and$\\log{g}=\\SI{4.5}{dex}$. These results are consistent with the object's spectral type of$\\mathrm{T0\\pm1}$. As the first benchmark brown dwarf companion in the Hyades, HIP 21152 B joins the small but growing number of substellar companions with well-determined ages and dynamical masses.\n",
       "\n",
       "</div>\n",
       "\n",
       "<div id=\"div_fig1\">\n",
       "\n",
       "<img src=\"tmp_2211.09840/figures/spectrum_both_matthias.png\" alt=\"Fig15\" width=\"100%\"/>\n",
       "\n",
       "**Figure 15. -** Reduced chi-square ($\\chi^2_\\nu$; left) and goodness-of-fit ($G$; right) values for model spectra from \\citet{saumonEvolutionDwarfsColor_2008} compared with HIP 21152 B's spectra and photometry. Lower values of $\\chi^2_\\nu$ or $G$ signify a better fit to the data. Colors indicate different values of $f_{\\mathrm{sed}}$, while symbols correspond to different values of $\\log g$. Reduction 2 is used for the SPHERE/IFS spectrum. The two metrics yield the same best-fitting spectrum, with $T_{\\mathrm{eff}} = \\SI{1400}{K}$, $\\log g = 4.5$, and $f_{\\mathrm{sed}} = 2$.\n",
       "    \\label{fig:model_spec_comp} (*fig:model_spec_comp*)\n",
       "\n",
       "</div>\n",
       "<div id=\"div_fig2\">\n",
       "\n",
       "<img src=\"tmp_2211.09840/figures/ifs_reduction_comp.png\" alt=\"Fig2\" width=\"100%\"/>\n",
       "\n",
       "**Figure 2. -** Comparison between two independent reductions of the SPHERE/IFS data. Reduction 1 uses the DRH pipeline complemented with additional steps described in \\citet{langloisSphereInfraredSurvey_2021} and the SpeCal software to extract spectral cubes from the raw data, subtract the host star PSF, and obtain the companion's spectrum. Reduction 2 uses a modified version of the CHARIS pipeline and the TRAP post-processing pipeline to measure the companion's spectrum from the raw data. These two independent reductions produce similar results for $\\lambda \\gtrsim \\SI{1.15}{\\mu m}$. Reduction 2 tends to yield lower values for the companion flux blueward of $\\SI{1.15}{\\mu m}$ than Reduction 1. Due to this discrepancy, we exclude points with $\\lambda < \\SI{1.15}{\\mu m}$ from this analysis. \\label{fig:spec_comp} (*fig:spec_comp*)\n",
       "\n",
       "</div>\n",
       "<div id=\"div_fig3\">\n",
       "\n",
       "<img src=\"tmp_2211.09840/figures/model_spec_comp_plot_matthias.png\" alt=\"Fig5\" width=\"100%\"/>\n",
       "\n",
       "**Figure 5. -** Spectra and photometry of HIP 21152 B compared with the best-fitting \\citet{saumonEvolutionDwarfsColor_2008} model spectrum (black). The model represents $T_{\\mathrm{eff}} = \\SI{1400}{K}$, $\\log{g} = \\SI{4.5}{dex}$, and $f_{\\mathrm{sed}} = 2$, and has been smoothed to a resolving power of $R=25$. Reduction 2 is used for the SPHERE/IFS spectrum. The atmospheric model reproduces the companion's spectra well, although we find a slight excess in $L^\\prime$ that might hint at disequilibrium chemistry from 3--\\SI{4}{\\mu m}.\n",
       "    \\label{fig:spectrum_model_plot} (*fig:spectrum_model_plot*)\n",
       "\n",
       "</div>"
      ],
      "text/plain": [
       "<IPython.core.display.Markdown object>"
      ]
     },
     "metadata": {},
     "output_type": "display_data"
    }
   ],
   "source": [
    "[display(Markdown(k[1])) for k in documents];"
   ]
  },
  {
   "cell_type": "markdown",
   "id": "873873a4",
   "metadata": {
    "papermill": {
     "duration": 0.010193,
     "end_time": "2022-11-21T04:16:42.775249",
     "exception": false,
     "start_time": "2022-11-21T04:16:42.765056",
     "status": "completed"
    },
    "tags": []
   },
   "source": [
    "# Create HTML index"
   ]
  },
  {
   "cell_type": "code",
   "execution_count": 10,
   "id": "cf665672",
   "metadata": {
    "execution": {
     "iopub.execute_input": "2022-11-21T04:16:42.797426Z",
     "iopub.status.busy": "2022-11-21T04:16:42.796878Z",
     "iopub.status.idle": "2022-11-21T04:16:42.807068Z",
     "shell.execute_reply": "2022-11-21T04:16:42.806423Z"
    },
    "papermill": {
     "duration": 0.023055,
     "end_time": "2022-11-21T04:16:42.808501",
     "exception": false,
     "start_time": "2022-11-21T04:16:42.785446",
     "status": "completed"
    },
    "tags": []
   },
   "outputs": [
    {
     "name": "stdout",
     "output_type": "stream",
     "text": [
      "95  publications in the last 7 days.\n",
      "\t _build/html/2211.09840.md\n",
      "\t _build/html/2211.09217.md\n",
      "\t _build/html/2211.08493.md\n",
      "\t _build/html/2211.08487.md\n",
      "\t _build/html/2211.08294.md\n",
      "\t _build/html/2211.07667.md\n",
      "\t _build/html/2211.07659.md\n",
      "\t _build/html/2211.06454.md\n",
      "\t _build/html/2211.06205.md\n",
      "\t _build/html/2211.06194.md\n",
      "\t _build/html/2211.05022.md\n",
      "\t _build/html/2211.04048.md\n",
      "\t _build/html/2211.03641.md\n",
      "\t _build/html/2211.02502.md\n",
      "\t _build/html/2211.01474.md\n",
      "\t _build/html/2211.00667.md\n",
      "\t _build/html/2211.00657.md\n",
      "\t _build/html/2211.00087.md\n",
      "\t _build/html/2211.00036.md\n",
      "\t _build/html/2211.00020.md\n",
      "\t _build/html/2211.00010.md\n",
      "\t _build/html/2210.17434.md\n",
      "\t _build/html/2210.12412.md\n",
      "\t _build/html/2210.11926.md\n",
      "\t _build/html/2210.11551.md\n",
      "\t _build/html/2210.11103.md\n",
      "\t _build/html/2210.10707.md\n",
      "\t _build/html/2210.09930.md\n",
      "\t _build/html/2210.08996.md\n",
      "\t _build/html/2210.08517.md\n",
      "\t _build/html/2210.08510.md\n",
      "\t _build/html/2210.08078.md\n",
      "\t _build/html/2210.06504.md\n",
      "\t _build/html/2210.05695.md\n",
      "\t _build/html/2210.05595.md\n",
      "\t _build/html/2210.05505.md\n",
      "\t _build/html/2210.04721.md\n",
      "\t _build/html/2210.03615.md\n",
      "\t _build/html/2210.01811.md\n",
      "\t _build/html/2210.01809.md\n",
      "\t _build/html/2210.01556.md\n",
      "\t _build/html/2210.00863.md\n",
      "\t _build/html/2210.00560.md\n",
      "\t _build/html/2209.15403.md\n",
      "\t _build/html/2209.15110.md\n",
      "\t _build/html/2209.14410.md\n",
      "\t _build/html/2209.14396.md\n",
      "\t _build/html/2209.13717.md\n",
      "\t _build/html/2209.13336.md\n",
      "\t _build/html/2209.12906.md\n",
      "\t _build/html/2209.11781.md\n",
      "\t _build/html/2209.11602.md\n",
      "\t _build/html/2209.11248.md\n",
      "\t _build/html/2209.11096.md\n",
      "\t _build/html/2209.10618.md\n",
      "\t _build/html/2209.09914.md\n",
      "\t _build/html/2209.09823.md\n",
      "\t _build/html/2209.08242.md\n",
      "\t _build/html/2209.08120.md\n",
      "\t _build/html/2209.08106.md\n",
      "\t _build/html/2209.07962.md\n",
      "\t _build/html/2209.07931.md\n",
      "\t _build/html/2209.06833.md\n",
      "\t _build/html/2209.05814.md\n",
      "\t _build/html/2209.05593.md\n",
      "\t _build/html/2209.04304.md\n",
      "\t _build/html/2209.03367.md\n",
      "\t _build/html/2209.02872.md\n",
      "\t _build/html/2209.02725.md\n",
      "\t _build/html/2209.02722.md\n",
      "\t _build/html/2209.02092.md\n",
      "\t _build/html/2209.01125.md\n",
      "\t _build/html/2209.00828.md\n",
      "\t _build/html/2209.00363.md\n",
      "\t _build/html/2208.14927.md\n",
      "\t _build/html/2208.09335.md\n",
      "\t _build/html/2208.08872.md\n",
      "\t _build/html/2204.06393.md\n",
      "\t _build/html/2204.03335.md\n",
      "\t _build/html/2204.03253.md\n",
      "\t _build/html/2204.02998.md\n",
      "\t _build/html/2204.02109.md\n",
      "\t _build/html/2204.02017.md\n",
      "\t _build/html/2204.01824.md\n",
      "\t _build/html/2204.01758.md\n",
      "\t _build/html/2204.01245.md\n",
      "\t _build/html/2204.00793.md\n",
      "\t _build/html/2204.00342.md\n",
      "\t _build/html/2203.16959.md\n",
      "\t _build/html/2203.16856.md\n",
      "\t _build/html/2203.16735.md\n",
      "\t _build/html/2203.16734.md\n",
      "\t _build/html/2203.16504.md\n",
      "\t _build/html/2203.15822.md\n",
      "\t _build/html/2203.15811.md\n"
     ]
    }
   ],
   "source": [
    "from datetime import datetime, timedelta, timezone\n",
    "from glob import glob\n",
    "\n",
    "files = glob('_build/html/*.md')\n",
    "days = 7\n",
    "now = datetime.today()\n",
    "res = []\n",
    "for fk in files:\n",
    "    stat_result = os.stat(fk).st_ctime\n",
    "    modified = datetime.fromtimestamp(stat_result, tz=timezone.utc).replace(tzinfo=None)\n",
    "    delta = now.today() - modified\n",
    "    if delta <= timedelta(days=days):\n",
    "        res.append((delta.seconds, fk))\n",
    "res = [k[1] for k in reversed(sorted(res, key=lambda x:x[1]))]\n",
    "npub = len(res)\n",
    "print(len(res), f\" publications in the last {days:d} days.\")\n",
    "[ print('\\t', k) for k in res ];"
   ]
  },
  {
   "cell_type": "code",
   "execution_count": 11,
   "id": "52ca0208",
   "metadata": {
    "execution": {
     "iopub.execute_input": "2022-11-21T04:16:42.831008Z",
     "iopub.status.busy": "2022-11-21T04:16:42.830458Z",
     "iopub.status.idle": "2022-11-21T04:16:42.836851Z",
     "shell.execute_reply": "2022-11-21T04:16:42.836222Z"
    },
    "papermill": {
     "duration": 0.01944,
     "end_time": "2022-11-21T04:16:42.838423",
     "exception": false,
     "start_time": "2022-11-21T04:16:42.818983",
     "status": "completed"
    },
    "scrolled": false,
    "tags": []
   },
   "outputs": [],
   "source": [
    "def create_carousel(npub=4):\n",
    "    \"\"\" Generate the HTML code for a carousel with `npub` slides \"\"\"\n",
    "    carousel = [\"\"\"<section class=\"carousel\" aria-label=\"Gallery\">\"\"\",\n",
    "                \"\"\"  <ol class=\"carousel__viewport\">\"\"\",\n",
    "    ]\n",
    "    for k in range(1, npub + 1):\n",
    "        prev_ = k - 1\n",
    "        next_ = k + 1\n",
    "        if prev_ <= 0:\n",
    "            prev_ = npub\n",
    "        if next_ > npub:\n",
    "            next_ = 1\n",
    "        text  = f\"\"\"    <li id=\"carousel__slide{k}\" tabindex=\"0\" class=\"carousel__slide\">\\n\"\"\"\n",
    "        text += f\"\"\"       <div class=\"carousel__snapper\">\\n\"\"\"\n",
    "        text += f\"\"\"         <a href=\"#carousel__slide{prev_}\" class=\"carousel__prev\">Go to previous slide</a>\\n\"\"\"\n",
    "        text += f\"\"\"         <a href=\"#carousel__slide{next_}\" class=\"carousel__next\">Go to next slide</a>\\n\"\"\"\n",
    "        text += f\"\"\"         <div id=\"slide{k}_content\" class=\"md_view\" >Content {k}</div>\\n\"\"\"\n",
    "        text += f\"\"\"       </div>\\n\"\"\"\n",
    "        text += f\"\"\"    </li>\"\"\"\n",
    "        carousel.append(text)\n",
    "\n",
    "    carousel.extend([\n",
    "        \"\"\"  </ol>\"\"\",\n",
    "        \"\"\"  <aside class=\"carousel__navigation\">\"\"\",\n",
    "        \"\"\"    <ol class=\"carousel__navigation-list\">\"\"\"])\n",
    "\n",
    "    for k in range(1, npub + 1):\n",
    "        text  = f\"\"\"      <li class=\"carousel__navigation-item\">\\n\"\"\"\n",
    "        text += f\"\"\"        <a href=\"#carousel__slide{k}\" class=\"carousel__navigation-button\">Go to {k}</a>\\n\"\"\"\n",
    "        text += f\"\"\"      </li>\"\"\"\n",
    "        carousel.append(text)\n",
    "    carousel.extend([\"\"\"    </ol>\"\"\", \"\"\"  </aside>\"\"\", \"\"\"</section>\"\"\"])\n",
    "\n",
    "    return '\\n'.join(carousel)"
   ]
  },
  {
   "cell_type": "code",
   "execution_count": 12,
   "id": "a6eac5b6",
   "metadata": {
    "execution": {
     "iopub.execute_input": "2022-11-21T04:16:42.892695Z",
     "iopub.status.busy": "2022-11-21T04:16:42.892268Z",
     "iopub.status.idle": "2022-11-21T04:16:42.899350Z",
     "shell.execute_reply": "2022-11-21T04:16:42.898619Z"
    },
    "papermill": {
     "duration": 0.021081,
     "end_time": "2022-11-21T04:16:42.901153",
     "exception": false,
     "start_time": "2022-11-21T04:16:42.880072",
     "status": "completed"
    },
    "scrolled": false,
    "tags": []
   },
   "outputs": [],
   "source": [
    "carousel = create_carousel(npub)\n",
    "docs = ', '.join(['\"{0:s}\"'.format(k.split('/')[-1]) for k in res])\n",
    "slides = ', '.join([f'\"slide{k}_content\"' for k in range(1, npub + 1)])\n",
    "\n",
    "script = f\"\"\"\n",
    "const docs = [{docs}]\n",
    "\n",
    "const slides = [{slides}]\n",
    "\"\"\" + \"\"\"\n",
    "async function run() {\n",
    "    for (let i = 0; i < docs.length; i++) {\n",
    "        let file = await fetch(docs[i]);\n",
    "        let text = await file.text()\n",
    "        document.getElementById(slides[i]).innerHTML =\n",
    "            marked.parse(text);\n",
    "    }\n",
    "    hljs.highlightAll();\n",
    "}\n",
    "run()\n",
    "\"\"\"\n",
    "\n",
    "page = f\"\"\"<!doctype html>\n",
    "<html lang=\"en\">\n",
    "\n",
    "<head>\n",
    "  <meta charset=\"utf-8\">\n",
    "  <meta name=\"viewport\" content=\"width=device-width, initial-scale=1\">\n",
    "  <!-- Bootstrap CSS -->\n",
    "  <link href=\"https://cdn.jsdelivr.net/npm/bootstrap@5.0.2/dist/css/bootstrap.min.css\" rel=\"stylesheet\"\n",
    "   integrity=\"sha384-EVSTQN3/azprG1Anm3QDgpJLIm9Nao0Yz1ztcQTwFspd3yD65VohhpuuCOmLASjC\" crossorigin=\"anonymous\">\n",
    "  <!-- highlight.js CSS -->\n",
    "  <link rel=\"stylesheet\" href=\"https://cdnjs.cloudflare.com/ajax/libs/highlight.js/11.1.0/styles/default.min.css\">\n",
    "  <!-- Mathjax 3 -->\n",
    "  <script type=\"text/javascript\" id=\"MathJax-config\" src=\"mathjax_config.js\"> </script>\n",
    "  <script type=\"text/javascript\" id=\"MathJax-script\" async \n",
    "    src=\"https://cdn.jsdelivr.net/npm/mathjax@3/es5/tex-mml-chtml.js\">\n",
    "  </script>\n",
    "  <link rel=\"stylesheet\" href=\"index_carousel.css\">\n",
    "  <link rel=\"icon\" type=\"image/x-icon\" href=\"https://www.mpia.de/assets/touch-icon-32x32-a66937bcebc4e8894ebff1f41a366c7c7220fd97a38869ee0f2db65a9f59b6c1.png\">\n",
    "  <title>MPIA Arxiv on deck!</title>\n",
    "</head>\n",
    "\n",
    "<body>\n",
    "  <div id=\"header\"> <img src=\"header_banner.png\" width=\"100%\"></div>\n",
    "  <div id=\"suptitle\"> 7-day archives </div>\n",
    "  <div id=\"info\">\n",
    "    <img src=\"https://pngimg.com/uploads/github/github_PNG58.png\" height=30rem></img>\n",
    "    <a href=https://github.com/mpi-astronomy/arxiv_display style=\"color:black;\">github/mpi-astronomy/arxiv_display</a> \n",
    "  </div>\n",
    "  {carousel:s}\n",
    "</body>\n",
    "\n",
    "<!-- Render Markdown -->\n",
    "\n",
    "<body>\n",
    "  <!-- highlight.js: https://highlightjs.org/download/ -->\n",
    "  <script src=\"https://cdnjs.cloudflare.com/ajax/libs/highlight.js/11.5.0/highlight.min.js\"></script>\n",
    "  <!-- marked.js -->\n",
    "  <script src=\"https://cdn.jsdelivr.net/npm/marked/marked.min.js\"></script>\n",
    "  <script>{script:s}</script>\n",
    "</body>\n",
    "</html>\n",
    "\"\"\"\n",
    "with open(\"_build/html/index_7days.html\", 'w') as fout:\n",
    "    fout.write(page)"
   ]
  },
  {
   "cell_type": "markdown",
   "id": "1cebacbc",
   "metadata": {
    "papermill": {
     "duration": 0.010501,
     "end_time": "2022-11-21T04:16:42.922122",
     "exception": false,
     "start_time": "2022-11-21T04:16:42.911621",
     "status": "completed"
    },
    "tags": []
   },
   "source": [
    "# Debugging papers"
   ]
  },
  {
   "cell_type": "raw",
   "id": "debe7cc6",
   "metadata": {
    "papermill": {
     "duration": 0.010421,
     "end_time": "2022-11-21T04:16:42.943062",
     "exception": false,
     "start_time": "2022-11-21T04:16:42.932641",
     "status": "completed"
    },
    "tags": []
   },
   "source": [
    "raise NotImplementedError(\"Manual Stop\")"
   ]
  },
  {
   "cell_type": "raw",
   "id": "eb169192",
   "metadata": {
    "papermill": {
     "duration": 0.010395,
     "end_time": "2022-11-21T04:16:42.963836",
     "exception": false,
     "start_time": "2022-11-21T04:16:42.953441",
     "status": "completed"
    },
    "scrolled": true,
    "tags": []
   },
   "source": [
    "from IPython.display import display, Markdown\n",
    "from TexSoup import TexSoup\n",
    "import re\n",
    "\n",
    "def bracket_error(source: str):\n",
    "    \"\"\" Find problematic portions of the document \"\"\"\n",
    "    \n",
    "    print(\"len(source)\", len(source))\n",
    "    \n",
    "    # Checking header\n",
    "    begin_doc = next(re.finditer(r'\\\\begin\\{document\\}', doc.source)).span()[1]\n",
    "    header = source[:begin_doc]\n",
    "    text = header + r\"\\n\\end{document}\"\n",
    "\n",
    "    try:\n",
    "        # print(\"Header check... \", end='')\n",
    "        TexSoup(text)\n",
    "        display(Markdown(f\"**[OK]** - Header\"))\n",
    "    except:\n",
    "        raise RuntimeError(\"Error in the header\")\n",
    "        \n",
    "    # Check the text per section until the end.\n",
    "    # Do not stop and try them all.\n",
    "    \n",
    "    problematic_text = []\n",
    "    \n",
    "    sections = ([(0, begin_doc, 'until first section')] + \n",
    "                [(g.span()[0], g.span()[1], g.group()) for g in re.finditer(r'\\\\section\\{.*\\}', source)] +\n",
    "                [(g.span()[0], g.span()[1], g.group()) for g in re.finditer(r'\\\\begin\\{appendix\\}', source)]\n",
    "               )\n",
    "    sections.append([len(source), len(source), 'end'])\n",
    "    \n",
    "    sections = sorted(sections, key=lambda x: x[0])\n",
    "    \n",
    "    prev_pos, prev_name = (0, 'header')\n",
    "    parsed = []\n",
    "    \n",
    "    for span, span_end, name in sections:\n",
    "\n",
    "        if span - prev_pos <= 0:\n",
    "            continue\n",
    "            \n",
    "\n",
    "        text = source[prev_pos:span]\n",
    "        if prev_pos > begin_doc:\n",
    "            text = r\"\\n\\begin{document}\" + text + r\"\\n\\end{document}\"\n",
    "        else:\n",
    "            text = text + r\"\\n\\end{document}\"\n",
    "        try:\n",
    "            #print(f\"{prev_pos}:{prev_name}-->{span}:{name} check... \", end='')\n",
    "            parsed.append(TexSoup(text, tolerance=1))  # allow not ending env\n",
    "            display(Markdown(f\"**[OK]** - *{prev_pos}*:{prev_name} &rarr; *{span}*:{name}\"))\n",
    "            # print(\"ok\")\n",
    "\n",
    "            prev_pos = span\n",
    "            prev_name = name\n",
    "        except:\n",
    "            # print(f\"error between {prev_pos} and {span}\")\n",
    "            display(Markdown(f\"**[ERR]** *{prev_pos}*:{prev_name} &rarr; *{span}*:{name}\"))\n",
    "            problematic_text.append((prev_pos, source[prev_pos:span]))\n",
    "            prev_pos = span\n",
    "            prev_name = name\n",
    "            # raise\n",
    "    return problematic_text, parsed\n",
    "\n",
    "\n",
    "def check_environment(text, offset=0):\n",
    "    \"\"\" Check environment \"\"\"\n",
    "    env = re.compile(r\"\\\\begin\\{(?P<env>.*)\\}(.*)\\\\end\\{(?P=env)\\}\", re.DOTALL)\n",
    "\n",
    "    for match in env.finditer(text):\n",
    "        beg, end = match.span()\n",
    "        beg += offset\n",
    "        end += offset\n",
    "        envname = match.groups()[0]\n",
    "        try:\n",
    "            latex.TexSoup(match.group())\n",
    "        except Exception as e:\n",
    "            display(e)\n",
    "            print(f\"Error in {envname:s} between {beg} and {end}\")\n",
    "            return match.groups()[1], beg, end"
   ]
  },
  {
   "cell_type": "raw",
   "id": "2315e835",
   "metadata": {
    "papermill": {
     "duration": 0.010384,
     "end_time": "2022-11-21T04:16:42.984588",
     "exception": false,
     "start_time": "2022-11-21T04:16:42.974204",
     "status": "completed"
    },
    "scrolled": false,
    "tags": []
   },
   "source": [
    "import importlib\n",
    "importlib.reload(latex)\n",
    "which = \"2204.03253\"\n",
    "paper_id = f'{which:s}'\n",
    "folder = f'tmp_{paper_id:s}'\n",
    "\n",
    "if not os.path.isdir(folder):\n",
    "    folder = retrieve_document_source(f\"{paper_id}\", f'tmp_{paper_id}')\n",
    "\n",
    "try:\n",
    "    doc = latex.LatexDocument(folder, validation=validation)    \n",
    "except AffiliationError as affilerror:\n",
    "    msg = f\"ArXiv:{paper_id:s} is not an MPIA paper... \" + str(affilerror)\n",
    "    print(msg)\n",
    "\n",
    "\n",
    "# Hack because sometimes author parsing does not work well\n",
    "if (len(doc.authors) != len(paper['authors'])):\n",
    "    doc._authors = paper['authors']\n",
    "if (doc.abstract) in (None, ''):\n",
    "    doc._abstract = paper['abstract']\n",
    "\n",
    "doc.comment = get_markdown_badge(paper_id) + \" _\" + paper['comments'] + \"_\"\n",
    "doc.highlight_authors_in_list(hl_list)\n",
    "\n",
    "full_md = doc.generate_markdown_text()"
   ]
  },
  {
   "cell_type": "raw",
   "id": "dd3781db",
   "metadata": {
    "papermill": {
     "duration": 0.015095,
     "end_time": "2022-11-21T04:16:43.010042",
     "exception": false,
     "start_time": "2022-11-21T04:16:42.994947",
     "status": "completed"
    },
    "scrolled": false,
    "tags": []
   },
   "source": [
    "doc"
   ]
  },
  {
   "cell_type": "raw",
   "id": "c6eed834",
   "metadata": {
    "papermill": {
     "duration": 0.010533,
     "end_time": "2022-11-21T04:16:43.032276",
     "exception": false,
     "start_time": "2022-11-21T04:16:43.021743",
     "status": "completed"
    },
    "tags": []
   },
   "source": [
    "# [check_environment(k) for k in bracket_error(doc.source)]\n",
    "_, _, a = latex.get_content_per_section(doc.source, verbose=True)\n",
    "if not a:\n",
    "    print(\"no issues per section\")\n",
    "for ak in a:\n",
    "    r = check_environment(ak[1], offset=ak[0])\n",
    "    print(r[1], r[2])\n",
    "    print(r[0])"
   ]
  },
  {
   "cell_type": "code",
   "execution_count": null,
   "id": "71ce768a",
   "metadata": {
    "papermill": {
     "duration": 0.01077,
     "end_time": "2022-11-21T04:16:43.053626",
     "exception": false,
     "start_time": "2022-11-21T04:16:43.042856",
     "status": "completed"
    },
    "tags": []
   },
   "outputs": [],
   "source": []
  }
 ],
 "metadata": {
  "kernelspec": {
   "display_name": "Python 3.10.6 64-bit",
   "language": "python",
   "name": "python3"
  },
  "language_info": {
   "codemirror_mode": {
    "name": "ipython",
    "version": 3
   },
   "file_extension": ".py",
   "mimetype": "text/x-python",
   "name": "python",
   "nbconvert_exporter": "python",
   "pygments_lexer": "ipython3",
   "version": "3.9.15"
  },
  "papermill": {
   "default_parameters": {},
   "duration": 107.407402,
   "end_time": "2022-11-21T04:16:43.381501",
   "environment_variables": {},
   "exception": null,
   "input_path": "MPIA daily digest.ipynb",
   "output_path": "log.ipynb",
   "parameters": {},
   "start_time": "2022-11-21T04:14:55.974099",
   "version": "2.4.0"
  },
  "vscode": {
   "interpreter": {
    "hash": "e7370f93d1d0cde622a1f8e1c04877d8463912d04d973331ad4851f04de6915a"
   }
  },
  "widgets": {
   "application/vnd.jupyter.widget-state+json": {
    "state": {
     "33b9a38043b54b779d14c7150c8c9278": {
      "model_module": "@jupyter-widgets/base",
      "model_module_version": "2.0.0",
      "model_name": "LayoutModel",
      "state": {
       "_model_module": "@jupyter-widgets/base",
       "_model_module_version": "2.0.0",
       "_model_name": "LayoutModel",
       "_view_count": null,
       "_view_module": "@jupyter-widgets/base",
       "_view_module_version": "2.0.0",
       "_view_name": "LayoutView",
       "align_content": null,
       "align_items": null,
       "align_self": null,
       "border_bottom": null,
       "border_left": null,
       "border_right": null,
       "border_top": null,
       "bottom": null,
       "display": null,
       "flex": null,
       "flex_flow": null,
       "grid_area": null,
       "grid_auto_columns": null,
       "grid_auto_flow": null,
       "grid_auto_rows": null,
       "grid_column": null,
       "grid_gap": null,
       "grid_row": null,
       "grid_template_areas": null,
       "grid_template_columns": null,
       "grid_template_rows": null,
       "height": null,
       "justify_content": null,
       "justify_items": null,
       "left": null,
       "margin": null,
       "max_height": null,
       "max_width": null,
       "min_height": null,
       "min_width": null,
       "object_fit": null,
       "object_position": null,
       "order": null,
       "overflow": null,
       "padding": null,
       "right": null,
       "top": null,
       "visibility": null,
       "width": null
      }
     },
     "4843a763c24048c88012807fca1cba4c": {
      "model_module": "@jupyter-widgets/base",
      "model_module_version": "2.0.0",
      "model_name": "LayoutModel",
      "state": {
       "_model_module": "@jupyter-widgets/base",
       "_model_module_version": "2.0.0",
       "_model_name": "LayoutModel",
       "_view_count": null,
       "_view_module": "@jupyter-widgets/base",
       "_view_module_version": "2.0.0",
       "_view_name": "LayoutView",
       "align_content": null,
       "align_items": null,
       "align_self": null,
       "border_bottom": null,
       "border_left": null,
       "border_right": null,
       "border_top": null,
       "bottom": null,
       "display": null,
       "flex": null,
       "flex_flow": null,
       "grid_area": null,
       "grid_auto_columns": null,
       "grid_auto_flow": null,
       "grid_auto_rows": null,
       "grid_column": null,
       "grid_gap": null,
       "grid_row": null,
       "grid_template_areas": null,
       "grid_template_columns": null,
       "grid_template_rows": null,
       "height": null,
       "justify_content": null,
       "justify_items": null,
       "left": null,
       "margin": null,
       "max_height": null,
       "max_width": null,
       "min_height": null,
       "min_width": null,
       "object_fit": null,
       "object_position": null,
       "order": null,
       "overflow": null,
       "padding": null,
       "right": null,
       "top": null,
       "visibility": null,
       "width": null
      }
     },
     "49683724176a49b7bf71a612d384b3d4": {
      "model_module": "@jupyter-widgets/controls",
      "model_module_version": "2.0.0",
      "model_name": "HTMLStyleModel",
      "state": {
       "_model_module": "@jupyter-widgets/controls",
       "_model_module_version": "2.0.0",
       "_model_name": "HTMLStyleModel",
       "_view_count": null,
       "_view_module": "@jupyter-widgets/base",
       "_view_module_version": "2.0.0",
       "_view_name": "StyleView",
       "background": null,
       "description_width": "",
       "font_size": null,
       "text_color": null
      }
     },
     "4b3135f2ce2c46c791b474221a01a7e0": {
      "model_module": "@jupyter-widgets/controls",
      "model_module_version": "2.0.0",
      "model_name": "HTMLStyleModel",
      "state": {
       "_model_module": "@jupyter-widgets/controls",
       "_model_module_version": "2.0.0",
       "_model_name": "HTMLStyleModel",
       "_view_count": null,
       "_view_module": "@jupyter-widgets/base",
       "_view_module_version": "2.0.0",
       "_view_name": "StyleView",
       "background": null,
       "description_width": "",
       "font_size": null,
       "text_color": null
      }
     },
     "524aa6b5625f4d7ca19df44dd9bdf893": {
      "model_module": "@jupyter-widgets/controls",
      "model_module_version": "2.0.0",
      "model_name": "ProgressStyleModel",
      "state": {
       "_model_module": "@jupyter-widgets/controls",
       "_model_module_version": "2.0.0",
       "_model_name": "ProgressStyleModel",
       "_view_count": null,
       "_view_module": "@jupyter-widgets/base",
       "_view_module_version": "2.0.0",
       "_view_name": "StyleView",
       "bar_color": null,
       "description_width": ""
      }
     },
     "7456dcbe80bb4544a40cbb498cf9efdc": {
      "model_module": "@jupyter-widgets/controls",
      "model_module_version": "2.0.0",
      "model_name": "HBoxModel",
      "state": {
       "_dom_classes": [],
       "_model_module": "@jupyter-widgets/controls",
       "_model_module_version": "2.0.0",
       "_model_name": "HBoxModel",
       "_view_count": null,
       "_view_module": "@jupyter-widgets/controls",
       "_view_module_version": "2.0.0",
       "_view_name": "HBoxView",
       "box_style": "",
       "children": [
        "IPY_MODEL_97141bbf80334bd795f5b28eddca316e",
        "IPY_MODEL_9236c3fa50a94de48ff144223d143638",
        "IPY_MODEL_adf2e337337845528bffaefc9c7b2e13"
       ],
       "layout": "IPY_MODEL_a22a2d7386af4c969887ddf67e2ecedc",
       "tabbable": null,
       "tooltip": null
      }
     },
     "9236c3fa50a94de48ff144223d143638": {
      "model_module": "@jupyter-widgets/controls",
      "model_module_version": "2.0.0",
      "model_name": "FloatProgressModel",
      "state": {
       "_dom_classes": [],
       "_model_module": "@jupyter-widgets/controls",
       "_model_module_version": "2.0.0",
       "_model_name": "FloatProgressModel",
       "_view_count": null,
       "_view_module": "@jupyter-widgets/controls",
       "_view_module_version": "2.0.0",
       "_view_name": "ProgressView",
       "bar_style": "success",
       "description": "",
       "description_allow_html": false,
       "layout": "IPY_MODEL_4843a763c24048c88012807fca1cba4c",
       "max": 26.0,
       "min": 0.0,
       "orientation": "horizontal",
       "style": "IPY_MODEL_524aa6b5625f4d7ca19df44dd9bdf893",
       "tabbable": null,
       "tooltip": null,
       "value": 26.0
      }
     },
     "97141bbf80334bd795f5b28eddca316e": {
      "model_module": "@jupyter-widgets/controls",
      "model_module_version": "2.0.0",
      "model_name": "HTMLModel",
      "state": {
       "_dom_classes": [],
       "_model_module": "@jupyter-widgets/controls",
       "_model_module_version": "2.0.0",
       "_model_name": "HTMLModel",
       "_view_count": null,
       "_view_module": "@jupyter-widgets/controls",
       "_view_module_version": "2.0.0",
       "_view_name": "HTMLView",
       "description": "",
       "description_allow_html": false,
       "layout": "IPY_MODEL_a6401ed0d8b74923af3ca1cfd9575795",
       "placeholder": "​",
       "style": "IPY_MODEL_49683724176a49b7bf71a612d384b3d4",
       "tabbable": null,
       "tooltip": null,
       "value": "100%"
      }
     },
     "a22a2d7386af4c969887ddf67e2ecedc": {
      "model_module": "@jupyter-widgets/base",
      "model_module_version": "2.0.0",
      "model_name": "LayoutModel",
      "state": {
       "_model_module": "@jupyter-widgets/base",
       "_model_module_version": "2.0.0",
       "_model_name": "LayoutModel",
       "_view_count": null,
       "_view_module": "@jupyter-widgets/base",
       "_view_module_version": "2.0.0",
       "_view_name": "LayoutView",
       "align_content": null,
       "align_items": null,
       "align_self": null,
       "border_bottom": null,
       "border_left": null,
       "border_right": null,
       "border_top": null,
       "bottom": null,
       "display": null,
       "flex": null,
       "flex_flow": null,
       "grid_area": null,
       "grid_auto_columns": null,
       "grid_auto_flow": null,
       "grid_auto_rows": null,
       "grid_column": null,
       "grid_gap": null,
       "grid_row": null,
       "grid_template_areas": null,
       "grid_template_columns": null,
       "grid_template_rows": null,
       "height": null,
       "justify_content": null,
       "justify_items": null,
       "left": null,
       "margin": null,
       "max_height": null,
       "max_width": null,
       "min_height": null,
       "min_width": null,
       "object_fit": null,
       "object_position": null,
       "order": null,
       "overflow": null,
       "padding": null,
       "right": null,
       "top": null,
       "visibility": null,
       "width": null
      }
     },
     "a6401ed0d8b74923af3ca1cfd9575795": {
      "model_module": "@jupyter-widgets/base",
      "model_module_version": "2.0.0",
      "model_name": "LayoutModel",
      "state": {
       "_model_module": "@jupyter-widgets/base",
       "_model_module_version": "2.0.0",
       "_model_name": "LayoutModel",
       "_view_count": null,
       "_view_module": "@jupyter-widgets/base",
       "_view_module_version": "2.0.0",
       "_view_name": "LayoutView",
       "align_content": null,
       "align_items": null,
       "align_self": null,
       "border_bottom": null,
       "border_left": null,
       "border_right": null,
       "border_top": null,
       "bottom": null,
       "display": null,
       "flex": null,
       "flex_flow": null,
       "grid_area": null,
       "grid_auto_columns": null,
       "grid_auto_flow": null,
       "grid_auto_rows": null,
       "grid_column": null,
       "grid_gap": null,
       "grid_row": null,
       "grid_template_areas": null,
       "grid_template_columns": null,
       "grid_template_rows": null,
       "height": null,
       "justify_content": null,
       "justify_items": null,
       "left": null,
       "margin": null,
       "max_height": null,
       "max_width": null,
       "min_height": null,
       "min_width": null,
       "object_fit": null,
       "object_position": null,
       "order": null,
       "overflow": null,
       "padding": null,
       "right": null,
       "top": null,
       "visibility": null,
       "width": null
      }
     },
     "adf2e337337845528bffaefc9c7b2e13": {
      "model_module": "@jupyter-widgets/controls",
      "model_module_version": "2.0.0",
      "model_name": "HTMLModel",
      "state": {
       "_dom_classes": [],
       "_model_module": "@jupyter-widgets/controls",
       "_model_module_version": "2.0.0",
       "_model_name": "HTMLModel",
       "_view_count": null,
       "_view_module": "@jupyter-widgets/controls",
       "_view_module_version": "2.0.0",
       "_view_name": "HTMLView",
       "description": "",
       "description_allow_html": false,
       "layout": "IPY_MODEL_33b9a38043b54b779d14c7150c8c9278",
       "placeholder": "​",
       "style": "IPY_MODEL_4b3135f2ce2c46c791b474221a01a7e0",
       "tabbable": null,
       "tooltip": null,
       "value": " 26/26 [01:22&lt;00:00,  1.71s/it]"
      }
     }
    },
    "version_major": 2,
    "version_minor": 0
   }
  }
 },
 "nbformat": 4,
 "nbformat_minor": 5
}