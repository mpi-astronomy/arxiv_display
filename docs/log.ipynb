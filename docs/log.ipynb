{
 "cells": [
  {
   "cell_type": "markdown",
   "id": "92bcb855",
   "metadata": {
    "papermill": {
     "duration": 0.006202,
     "end_time": "2022-08-31T07:30:05.313363",
     "exception": false,
     "start_time": "2022-08-31T07:30:05.307161",
     "status": "completed"
    },
    "tags": []
   },
   "source": [
    "# MPIA Arxiv on Deck 2\n",
    "\n",
    "Contains the steps to produce the paper extractions."
   ]
  },
  {
   "cell_type": "code",
   "execution_count": 1,
   "id": "3a0d6e11",
   "metadata": {
    "execution": {
     "iopub.execute_input": "2022-08-31T07:30:05.325422Z",
     "iopub.status.busy": "2022-08-31T07:30:05.324644Z",
     "iopub.status.idle": "2022-08-31T07:30:05.536941Z",
     "shell.execute_reply": "2022-08-31T07:30:05.536103Z"
    },
    "papermill": {
     "duration": 0.22128,
     "end_time": "2022-08-31T07:30:05.539586",
     "exception": false,
     "start_time": "2022-08-31T07:30:05.318306",
     "status": "completed"
    },
    "tags": []
   },
   "outputs": [],
   "source": [
    "# Imports\n",
    "import os\n",
    "from IPython.display import Markdown, display\n",
    "from tqdm.notebook import tqdm\n",
    "import warnings\n",
    "from PIL import Image \n",
    "\n",
    "# requires arxiv_on_deck_2\n",
    "\n",
    "from arxiv_on_deck_2.arxiv2 import (get_new_papers, \n",
    "                                    get_paper_from_identifier,\n",
    "                                    retrieve_document_source, \n",
    "                                    get_markdown_badge)\n",
    "from arxiv_on_deck_2 import (latex, \n",
    "                             mpia,\n",
    "                             highlight_authors_in_list)\n",
    "\n",
    "# Sometimes images are really big\n",
    "Image.MAX_IMAGE_PIXELS = 1000000000 "
   ]
  },
  {
   "cell_type": "code",
   "execution_count": 2,
   "id": "22aa9d44",
   "metadata": {
    "execution": {
     "iopub.execute_input": "2022-08-31T07:30:05.559345Z",
     "iopub.status.busy": "2022-08-31T07:30:05.558688Z",
     "iopub.status.idle": "2022-08-31T07:30:05.564969Z",
     "shell.execute_reply": "2022-08-31T07:30:05.564132Z"
    },
    "papermill": {
     "duration": 0.015352,
     "end_time": "2022-08-31T07:30:05.567292",
     "exception": false,
     "start_time": "2022-08-31T07:30:05.551940",
     "status": "completed"
    },
    "tags": []
   },
   "outputs": [],
   "source": [
    "# Some useful definitions.\n",
    "\n",
    "class AffiliationWarning(UserWarning):\n",
    "    pass\n",
    "\n",
    "class AffiliationError(RuntimeError):\n",
    "    pass\n",
    "\n",
    "def validation(source: str):\n",
    "    \"\"\"Raises error paper during parsing of source file\n",
    "    \n",
    "    Allows checks before parsing TeX code.\n",
    "    \n",
    "    Raises AffiliationWarning\n",
    "    \"\"\"\n",
    "    check = mpia.affiliation_verifications(source, verbose=True)\n",
    "    if check is not True:\n",
    "        raise AffiliationError(\"mpia.affiliation_verifications: \" + check)\n",
    "\n",
    "        \n",
    "warnings.simplefilter('always', AffiliationWarning)"
   ]
  },
  {
   "cell_type": "code",
   "execution_count": 3,
   "id": "14622700",
   "metadata": {
    "execution": {
     "iopub.execute_input": "2022-08-31T07:30:05.580587Z",
     "iopub.status.busy": "2022-08-31T07:30:05.580016Z",
     "iopub.status.idle": "2022-08-31T07:30:05.584582Z",
     "shell.execute_reply": "2022-08-31T07:30:05.583976Z"
    },
    "papermill": {
     "duration": 0.014705,
     "end_time": "2022-08-31T07:30:05.586556",
     "exception": false,
     "start_time": "2022-08-31T07:30:05.571851",
     "status": "completed"
    },
    "tags": []
   },
   "outputs": [],
   "source": [
    "# additional CSS to consider. \n",
    "# TODO: Current into each exported file. \n",
    "#       This should be set once into the webpages directly.\n",
    "#       With only the class/id definitions in the .md files.\n",
    "\n",
    "debug_html = \"\"\"\n",
    "<style>\n",
    "#wrap{ overflow:auto; }\n",
    "#fig1{ background:yellow; width:100%; float:left; padding:5px;  }\n",
    "#fig2{ background:red; width:50%; float:left; clear:left; padding:5px;  }\n",
    "#fig3{ background:green; width:50%; float:left; padding:5px;   }\n",
    ".macros{ background:yellow; visibility:visible;}\n",
    "h1 {margin: 0 0 0 0;}\n",
    "mark {background-color:#fff3b6;}\n",
    "img {object-fit:contain; max-height:250px; display:inline-block; text-align: center;}\n",
    "</style>\n",
    "\"\"\" \n",
    "html = \"\"\"\n",
    "<style>\n",
    "#wrap{ overflow:auto; }\n",
    "#fig1{ width:100%; float:left; padding: 5px;  }\n",
    "#fig2{ width:50%; float:left; clear:left; padding: 5px;  }\n",
    "#fig3{ width:50%; float:left; padding: 5px;  }\n",
    ".macros{ visibility:hidden; height:0px; }\n",
    "h1 {margin: 0em 0 0 0;}\n",
    "mark {background-color:#fff3b6;}\n",
    "img {object-fit:contain; max-height:250px; display:inline-block; text-align: center;}\n",
    "</style>\n",
    "\"\"\""
   ]
  },
  {
   "cell_type": "markdown",
   "id": "14bd6310",
   "metadata": {
    "papermill": {
     "duration": 0.004734,
     "end_time": "2022-08-31T07:30:05.596037",
     "exception": false,
     "start_time": "2022-08-31T07:30:05.591303",
     "status": "completed"
    },
    "tags": []
   },
   "source": [
    "## get list of arxiv paper candidates\n",
    "\n",
    "We use the MPIA mitarbeiter list webpage from mpia.de to get author names\n",
    "We then get all new papers from Arxiv and match authors"
   ]
  },
  {
   "cell_type": "code",
   "execution_count": 4,
   "id": "2645e73a",
   "metadata": {
    "execution": {
     "iopub.execute_input": "2022-08-31T07:30:05.609293Z",
     "iopub.status.busy": "2022-08-31T07:30:05.608719Z",
     "iopub.status.idle": "2022-08-31T07:30:28.076242Z",
     "shell.execute_reply": "2022-08-31T07:30:28.075401Z"
    },
    "papermill": {
     "duration": 22.475945,
     "end_time": "2022-08-31T07:30:28.078172",
     "exception": false,
     "start_time": "2022-08-31T07:30:05.602227",
     "status": "completed"
    },
    "tags": []
   },
   "outputs": [
    {
     "name": "stdout",
     "output_type": "stream",
     "text": [
      "Arxiv has 77 new papers today\n",
      "          25 with possible author matches\n"
     ]
    }
   ],
   "source": [
    "# get list from MPIA website\n",
    "# it automatically filters identified non-scientists :func:`mpia.filter_non_scientists`\n",
    "mpia_authors = mpia.get_mpia_mitarbeiter_list()\n",
    "new_papers = get_new_papers()\n",
    "# add manual references\n",
    "add_paper_refs = []\n",
    "new_papers.extend([get_paper_from_identifier(k) for k in add_paper_refs])\n",
    "\n",
    "# select only papers with matching author names and highlight authors\n",
    "hl_list = [k[0] for k in mpia_authors]\n",
    "\n",
    "candidates = []\n",
    "for paperk in new_papers:\n",
    "    hl_authors = highlight_authors_in_list(paperk['authors'], hl_list)\n",
    "    matches = [(hl, orig) for hl, orig in zip(hl_authors, paperk['authors']) if 'mark' in hl]\n",
    "    paperk['authors'] = hl_authors\n",
    "    if matches:\n",
    "        candidates.append(paperk)\n",
    "print(\"\"\"Arxiv has {0:,d} new papers today\"\"\".format(len(new_papers)))        \n",
    "print(\"\"\"          {0:,d} with possible author matches\"\"\".format(len(candidates)))"
   ]
  },
  {
   "cell_type": "markdown",
   "id": "3543b34a",
   "metadata": {
    "papermill": {
     "duration": 0.005174,
     "end_time": "2022-08-31T07:30:28.088505",
     "exception": false,
     "start_time": "2022-08-31T07:30:28.083331",
     "status": "completed"
    },
    "tags": []
   },
   "source": [
    "# Parse sources and generate relevant outputs\n",
    "\n",
    "From the candidates, we do the following steps:\n",
    "* get their tarball from ArXiv (and extract data)\n",
    "* find the main .tex file: find one with \\documentclass{...} (sometimes it's non trivial)\n",
    "* Check affiliations with :func:`validation`, which uses :func:`mpia.affiliation_verifications`\n",
    "* If passing the affiliations: we parse the .tex source\n",
    "   * inject sub-documents into the main (flatten the main document)\n",
    "   * parse structure, extract information (title, abstract, authors, figures...)\n",
    "   * handles `\\graphicspath` if provided\n",
    "* Generate the .md document."
   ]
  },
  {
   "cell_type": "code",
   "execution_count": 5,
   "id": "9576b79e",
   "metadata": {
    "execution": {
     "iopub.execute_input": "2022-08-31T07:30:28.100285Z",
     "iopub.status.busy": "2022-08-31T07:30:28.099456Z",
     "iopub.status.idle": "2022-08-31T07:32:25.509004Z",
     "shell.execute_reply": "2022-08-31T07:32:25.508264Z"
    },
    "papermill": {
     "duration": 117.417495,
     "end_time": "2022-08-31T07:32:25.510706",
     "exception": false,
     "start_time": "2022-08-31T07:30:28.093211",
     "status": "completed"
    },
    "scrolled": false,
    "tags": []
   },
   "outputs": [
    {
     "data": {
      "application/json": {
       "ascii": false,
       "bar_format": null,
       "colour": null,
       "elapsed": 0.025055408477783203,
       "initial": 0,
       "n": 0,
       "ncols": null,
       "nrows": null,
       "postfix": null,
       "prefix": "",
       "rate": null,
       "total": 24,
       "unit": "it",
       "unit_divisor": 1000,
       "unit_scale": false
      },
      "application/vnd.jupyter.widget-view+json": {
       "model_id": "ee3812c611904418bf0a125ebbe9c358",
       "version_major": 2,
       "version_minor": 0
      },
      "text/plain": [
       "  0%|          | 0/24 [00:00<?, ?it/s]"
      ]
     },
     "metadata": {},
     "output_type": "display_data"
    },
    {
     "name": "stdout",
     "output_type": "stream",
     "text": [
      "Retrieving document from  https://arxiv.org/e-print/2208.13789\n"
     ]
    },
    {
     "name": "stdout",
     "output_type": "stream",
     "text": [
      "extracting tarball to tmp_2208.13789..."
     ]
    },
    {
     "name": "stdout",
     "output_type": "stream",
     "text": [
      " done.\n",
      "Retrieving document from  https://arxiv.org/e-print/2208.13791\n"
     ]
    },
    {
     "name": "stderr",
     "output_type": "stream",
     "text": [
      "/opt/hostedtoolcache/Python/3.9.13/x64/lib/python3.9/site-packages/IPython/core/interactiveshell.py:3398: LatexWarning: Multiple tex files.\n",
      "\n",
      "  exec(code_obj, self.user_global_ns, self.user_ns)\n",
      "/opt/hostedtoolcache/Python/3.9.13/x64/lib/python3.9/site-packages/IPython/core/interactiveshell.py:3398: LatexWarning: Found documentclass in tmp_2208.13789/CO_OH_AA.tex\n",
      "\n",
      "  exec(code_obj, self.user_global_ns, self.user_ns)\n"
     ]
    },
    {
     "name": "stdout",
     "output_type": "stream",
     "text": [
      "extracting tarball to tmp_2208.13791..."
     ]
    },
    {
     "name": "stdout",
     "output_type": "stream",
     "text": [
      " done.\n"
     ]
    },
    {
     "name": "stdout",
     "output_type": "stream",
     "text": [
      "Retrieving document from  https://arxiv.org/e-print/2208.13796\n"
     ]
    },
    {
     "name": "stdout",
     "output_type": "stream",
     "text": [
      "extracting tarball to tmp_2208.13796..."
     ]
    },
    {
     "name": "stdout",
     "output_type": "stream",
     "text": [
      " done.\n",
      "Retrieving document from  https://arxiv.org/e-print/2208.13806\n"
     ]
    },
    {
     "name": "stderr",
     "output_type": "stream",
     "text": [
      "/tmp/ipykernel_2213/4030337529.py:34: LatexWarning: 2208.13806 did not run properly\n",
      "not a gzip file\n",
      "  warnings.warn(latex.LatexWarning(f\"{paper_id:s} did not run properly\\n\" +\n"
     ]
    },
    {
     "name": "stdout",
     "output_type": "stream",
     "text": [
      "Retrieving document from  https://arxiv.org/e-print/2208.13818\n"
     ]
    },
    {
     "name": "stdout",
     "output_type": "stream",
     "text": [
      "extracting tarball to tmp_2208.13818..."
     ]
    },
    {
     "name": "stdout",
     "output_type": "stream",
     "text": [
      " done.\n",
      "Retrieving document from  https://arxiv.org/e-print/2208.13844\n"
     ]
    },
    {
     "name": "stderr",
     "output_type": "stream",
     "text": [
      "/opt/hostedtoolcache/Python/3.9.13/x64/lib/python3.9/site-packages/IPython/core/interactiveshell.py:3398: LatexWarning: Multiple tex files.\n",
      "\n",
      "  exec(code_obj, self.user_global_ns, self.user_ns)\n",
      "/opt/hostedtoolcache/Python/3.9.13/x64/lib/python3.9/site-packages/IPython/core/interactiveshell.py:3398: LatexWarning: Found documentclass in tmp_2208.13818/aanda.tex\n",
      "\n",
      "  exec(code_obj, self.user_global_ns, self.user_ns)\n"
     ]
    },
    {
     "name": "stdout",
     "output_type": "stream",
     "text": [
      "extracting tarball to tmp_2208.13844..."
     ]
    },
    {
     "name": "stdout",
     "output_type": "stream",
     "text": [
      " done.\n",
      "Retrieving document from  https://arxiv.org/e-print/2208.13917\n"
     ]
    },
    {
     "name": "stdout",
     "output_type": "stream",
     "text": [
      "extracting tarball to tmp_2208.13917..."
     ]
    },
    {
     "name": "stdout",
     "output_type": "stream",
     "text": [
      " done.\n",
      "Retrieving document from  https://arxiv.org/e-print/2208.13950\n"
     ]
    },
    {
     "name": "stderr",
     "output_type": "stream",
     "text": [
      "/opt/hostedtoolcache/Python/3.9.13/x64/lib/python3.9/site-packages/arxiv_on_deck_2/latex.py:292: LatexWarning: Latex injecting: 'j1448_tails.bbl' from 'tmp_2208.13917/j1448_tails.tex'\n",
      "  warnings.warn(LatexWarning(f\"Latex injecting: '{ext}' from '{subsource}'\"))\n"
     ]
    },
    {
     "name": "stdout",
     "output_type": "stream",
     "text": [
      "extracting tarball to tmp_2208.13950... done.\n",
      "Retrieving document from  https://arxiv.org/e-print/2208.13967\n"
     ]
    },
    {
     "name": "stdout",
     "output_type": "stream",
     "text": [
      "extracting tarball to tmp_2208.13967..."
     ]
    },
    {
     "name": "stdout",
     "output_type": "stream",
     "text": [
      " done.\n",
      "Retrieving document from  https://arxiv.org/e-print/2208.13983\n"
     ]
    },
    {
     "name": "stdout",
     "output_type": "stream",
     "text": [
      "extracting tarball to tmp_2208.13983..."
     ]
    },
    {
     "name": "stdout",
     "output_type": "stream",
     "text": [
      " done.\n",
      "Retrieving document from  https://arxiv.org/e-print/2208.13987\n"
     ]
    },
    {
     "name": "stderr",
     "output_type": "stream",
     "text": [
      "/opt/hostedtoolcache/Python/3.9.13/x64/lib/python3.9/site-packages/IPython/core/interactiveshell.py:3398: LatexWarning: Multiple tex files.\n",
      "\n",
      "  exec(code_obj, self.user_global_ns, self.user_ns)\n",
      "/opt/hostedtoolcache/Python/3.9.13/x64/lib/python3.9/site-packages/IPython/core/interactiveshell.py:3398: LatexWarning: Found documentclass in tmp_2208.13983/ALCHEMI_HOCOp.tex\n",
      "\n",
      "  exec(code_obj, self.user_global_ns, self.user_ns)\n",
      "/opt/hostedtoolcache/Python/3.9.13/x64/lib/python3.9/site-packages/arxiv_on_deck_2/latex.py:292: LatexWarning: Latex injecting: 'ALCHEMI_HOCOp.bbl' from 'tmp_2208.13983/ALCHEMI_HOCOp.tex'\n",
      "  warnings.warn(LatexWarning(f\"Latex injecting: '{ext}' from '{subsource}'\"))\n",
      "/opt/hostedtoolcache/Python/3.9.13/x64/lib/python3.9/site-packages/arxiv_on_deck_2/latex.py:292: LatexWarning: Latex injecting: 'ALCHEMICollabAuthList' from 'tmp_2208.13983/ALCHEMICollabAuthList.tex'\n",
      "  warnings.warn(LatexWarning(f\"Latex injecting: '{ext}' from '{subsource}'\"))\n"
     ]
    },
    {
     "name": "stdout",
     "output_type": "stream",
     "text": [
      "extracting tarball to tmp_2208.13987... done.\n",
      "Retrieving document from  https://arxiv.org/e-print/2208.13988\n"
     ]
    },
    {
     "name": "stdout",
     "output_type": "stream",
     "text": [
      "extracting tarball to tmp_2208.13988..."
     ]
    },
    {
     "name": "stdout",
     "output_type": "stream",
     "text": [
      " done.\n",
      "Retrieving document from  https://arxiv.org/e-print/2208.13997\n"
     ]
    },
    {
     "name": "stdout",
     "output_type": "stream",
     "text": [
      "extracting tarball to tmp_2208.13997..."
     ]
    },
    {
     "name": "stdout",
     "output_type": "stream",
     "text": [
      " done.\n",
      "Retrieving document from  https://arxiv.org/e-print/2208.14036\n"
     ]
    },
    {
     "name": "stdout",
     "output_type": "stream",
     "text": [
      "extracting tarball to tmp_2208.14036..."
     ]
    },
    {
     "name": "stdout",
     "output_type": "stream",
     "text": [
      " done.\n",
      "Retrieving document from  https://arxiv.org/e-print/2208.14134\n"
     ]
    },
    {
     "name": "stdout",
     "output_type": "stream",
     "text": [
      "extracting tarball to tmp_2208.14134..."
     ]
    },
    {
     "name": "stdout",
     "output_type": "stream",
     "text": [
      " done.\n",
      "Retrieving document from  https://arxiv.org/e-print/2208.14138\n"
     ]
    },
    {
     "name": "stdout",
     "output_type": "stream",
     "text": [
      "extracting tarball to tmp_2208.14138... done.\n",
      "Retrieving document from  https://arxiv.org/e-print/2208.14144\n"
     ]
    },
    {
     "name": "stdout",
     "output_type": "stream",
     "text": [
      "extracting tarball to tmp_2208.14144..."
     ]
    },
    {
     "name": "stdout",
     "output_type": "stream",
     "text": [
      " done.\n",
      "Retrieving document from  https://arxiv.org/e-print/2208.14156\n"
     ]
    },
    {
     "name": "stdout",
     "output_type": "stream",
     "text": [
      "extracting tarball to tmp_2208.14156... done.\n",
      "Retrieving document from  https://arxiv.org/e-print/2208.14159\n"
     ]
    },
    {
     "name": "stdout",
     "output_type": "stream",
     "text": [
      "extracting tarball to tmp_2208.14159... done.\n",
      "Retrieving document from  https://arxiv.org/e-print/2208.14177\n"
     ]
    },
    {
     "name": "stdout",
     "output_type": "stream",
     "text": [
      "extracting tarball to tmp_2208.14177..."
     ]
    },
    {
     "name": "stdout",
     "output_type": "stream",
     "text": [
      " done.\n",
      "Retrieving document from  https://arxiv.org/e-print/2208.14181\n"
     ]
    },
    {
     "name": "stdout",
     "output_type": "stream",
     "text": [
      "extracting tarball to tmp_2208.14181..."
     ]
    },
    {
     "name": "stdout",
     "output_type": "stream",
     "text": [
      " done.\n",
      "Retrieving document from  https://arxiv.org/e-print/2208.14276\n"
     ]
    },
    {
     "name": "stdout",
     "output_type": "stream",
     "text": [
      "extracting tarball to tmp_2208.14276..."
     ]
    },
    {
     "name": "stdout",
     "output_type": "stream",
     "text": [
      " done.\n",
      "Retrieving document from  https://arxiv.org/e-print/2208.14293\n"
     ]
    },
    {
     "name": "stderr",
     "output_type": "stream",
     "text": [
      "/opt/hostedtoolcache/Python/3.9.13/x64/lib/python3.9/site-packages/IPython/core/interactiveshell.py:3398: LatexWarning: Multiple tex files.\n",
      "\n",
      "  exec(code_obj, self.user_global_ns, self.user_ns)\n",
      "/opt/hostedtoolcache/Python/3.9.13/x64/lib/python3.9/site-packages/IPython/core/interactiveshell.py:3398: LatexWarning: Found documentclass in tmp_2208.14276/BP_CMB.tex\n",
      "\n",
      "  exec(code_obj, self.user_global_ns, self.user_ns)\n",
      "/opt/hostedtoolcache/Python/3.9.13/x64/lib/python3.9/site-packages/arxiv_on_deck_2/latex.py:292: LatexWarning: Latex injecting: 'BP_acknowledgments.tex' from 'tmp_2208.14276/BP_acknowledgments.tex'\n",
      "  warnings.warn(LatexWarning(f\"Latex injecting: '{ext}' from '{subsource}'\"))\n",
      "/opt/hostedtoolcache/Python/3.9.13/x64/lib/python3.9/site-packages/arxiv_on_deck_2/latex.py:292: LatexWarning: Latex injecting: 'BP14_authors.tex' from 'tmp_2208.14276/BP14_authors.tex'\n",
      "  warnings.warn(LatexWarning(f\"Latex injecting: '{ext}' from '{subsource}'\"))\n",
      "/opt/hostedtoolcache/Python/3.9.13/x64/lib/python3.9/site-packages/arxiv_on_deck_2/latex.py:292: LatexWarning: Latex injecting: 'Planck' from 'tmp_2208.14276/Planck.tex'\n",
      "  warnings.warn(LatexWarning(f\"Latex injecting: '{ext}' from '{subsource}'\"))\n"
     ]
    },
    {
     "name": "stdout",
     "output_type": "stream",
     "text": [
      "extracting tarball to tmp_2208.14293..."
     ]
    },
    {
     "name": "stdout",
     "output_type": "stream",
     "text": [
      " done.\n",
      "Retrieving document from  https://arxiv.org/e-print/2208.14333\n"
     ]
    },
    {
     "name": "stderr",
     "output_type": "stream",
     "text": [
      "/opt/hostedtoolcache/Python/3.9.13/x64/lib/python3.9/site-packages/IPython/core/interactiveshell.py:3398: LatexWarning: Multiple tex files.\n",
      "\n",
      "  exec(code_obj, self.user_global_ns, self.user_ns)\n",
      "/opt/hostedtoolcache/Python/3.9.13/x64/lib/python3.9/site-packages/IPython/core/interactiveshell.py:3398: LatexWarning: Found documentclass in tmp_2208.14293/BP_maps.tex\n",
      "\n",
      "  exec(code_obj, self.user_global_ns, self.user_ns)\n",
      "/opt/hostedtoolcache/Python/3.9.13/x64/lib/python3.9/site-packages/arxiv_on_deck_2/latex.py:292: LatexWarning: Latex injecting: 'BP_acknowledgments.tex' from 'tmp_2208.14293/BP_acknowledgments.tex'\n",
      "  warnings.warn(LatexWarning(f\"Latex injecting: '{ext}' from '{subsource}'\"))\n",
      "/opt/hostedtoolcache/Python/3.9.13/x64/lib/python3.9/site-packages/arxiv_on_deck_2/latex.py:292: LatexWarning: Latex injecting: 'BP13_authors.tex' from 'tmp_2208.14293/BP13_authors.tex'\n",
      "  warnings.warn(LatexWarning(f\"Latex injecting: '{ext}' from '{subsource}'\"))\n",
      "/opt/hostedtoolcache/Python/3.9.13/x64/lib/python3.9/site-packages/arxiv_on_deck_2/latex.py:292: LatexWarning: Latex injecting: 'Planck' from 'tmp_2208.14293/Planck.tex'\n",
      "  warnings.warn(LatexWarning(f\"Latex injecting: '{ext}' from '{subsource}'\"))\n"
     ]
    },
    {
     "name": "stdout",
     "output_type": "stream",
     "text": [
      "extracting tarball to tmp_2208.14333..."
     ]
    },
    {
     "name": "stdout",
     "output_type": "stream",
     "text": [
      " done.\n"
     ]
    },
    {
     "name": "stderr",
     "output_type": "stream",
     "text": [
      "/opt/hostedtoolcache/Python/3.9.13/x64/lib/python3.9/site-packages/IPython/core/interactiveshell.py:3398: LatexWarning: Multiple tex files.\n",
      "\n",
      "  exec(code_obj, self.user_global_ns, self.user_ns)\n",
      "/opt/hostedtoolcache/Python/3.9.13/x64/lib/python3.9/site-packages/IPython/core/interactiveshell.py:3398: LatexWarning: Found documentclass in tmp_2208.14333/natbib.tex\n",
      "\n",
      "  exec(code_obj, self.user_global_ns, self.user_ns)\n"
     ]
    }
   ],
   "source": [
    "documents = []\n",
    "failed = []\n",
    "for paper in tqdm(candidates[:-1]):\n",
    "    paper_id = paper['identifier'].lower().replace('arxiv:', '')\n",
    "    \n",
    "    folder = f'tmp_{paper_id}'\n",
    "\n",
    "    try:\n",
    "        if not os.path.isdir(folder):\n",
    "            folder = retrieve_document_source(f\"{paper_id}\", f'tmp_{paper_id}')\n",
    "        \n",
    "        try:\n",
    "            doc = latex.LatexDocument(folder, validation=validation)    \n",
    "        except AffiliationError as affilerror:\n",
    "            msg = f\"ArXiv:{paper_id:s} is not an MPIA paper... \" + str(affilerror)\n",
    "            failed.append((paper, \"affiliation error: \" + str(affilerror) ))\n",
    "            continue\n",
    "        \n",
    "        # Hack because sometimes author parsing does not work well\n",
    "        if (len(doc.authors) != len(paper['authors'])):\n",
    "            doc._authors = paper['authors']\n",
    "        if (doc.abstract) in (None, ''):\n",
    "            doc._abstract = paper['abstract']\n",
    "            \n",
    "        doc.comment = (get_markdown_badge(paper_id) + \n",
    "                       \"<mark>Appeared on: \" + paper['date'] + \"</mark> - \" +\n",
    "                       \"_\" + paper['comments'] + \"_\")\n",
    "        doc.highlight_authors_in_list(hl_list)\n",
    "\n",
    "        full_md = doc.generate_markdown_text()\n",
    "        \n",
    "        documents.append((paper_id, full_md))\n",
    "    except Exception as e:\n",
    "        warnings.warn(latex.LatexWarning(f\"{paper_id:s} did not run properly\\n\" +\n",
    "                                         str(e)\n",
    "                                        ))\n",
    "        failed.append((paper, \"latex error \" + str(e)))"
   ]
  },
  {
   "cell_type": "markdown",
   "id": "2505a25c",
   "metadata": {
    "papermill": {
     "duration": 0.008151,
     "end_time": "2022-08-31T07:32:25.533025",
     "exception": false,
     "start_time": "2022-08-31T07:32:25.524874",
     "status": "completed"
    },
    "tags": []
   },
   "source": [
    "### Export the logs\n",
    "\n",
    "Throughout, we also keep track of the logs per paper. see `logs-{today date}.md` "
   ]
  },
  {
   "cell_type": "code",
   "execution_count": 6,
   "id": "d733828a",
   "metadata": {
    "execution": {
     "iopub.execute_input": "2022-08-31T07:32:25.552674Z",
     "iopub.status.busy": "2022-08-31T07:32:25.551751Z",
     "iopub.status.idle": "2022-08-31T07:32:25.594300Z",
     "shell.execute_reply": "2022-08-31T07:32:25.593514Z"
    },
    "papermill": {
     "duration": 0.054235,
     "end_time": "2022-08-31T07:32:25.596151",
     "exception": false,
     "start_time": "2022-08-31T07:32:25.541916",
     "status": "completed"
    },
    "scrolled": false,
    "tags": []
   },
   "outputs": [
    {
     "data": {
      "text/markdown": [
       "## Successful papers"
      ],
      "text/plain": [
       "<IPython.core.display.Markdown object>"
      ]
     },
     "metadata": {},
     "output_type": "display_data"
    },
    {
     "data": {
      "text/markdown": [
       "\n",
       "|||\n",
       "|---:|:---|\n",
       "| [![arXiv](https://img.shields.io/badge/arXiv-arXiv:2208.13791-b31b1b.svg)](https://arxiv.org/abs/arXiv:2208.13791) | **The Pristine Inner Galaxy Survey (PIGS) V: a chemo-dynamical  investigation of the early assembly of the Milky Way with the most metal-poor  stars in the bulge**  |\n",
       "|| Federico Sestito, et al. -- incl., <mark>Jonay I. González Hernández</mark> |\n",
       "|*Appeared on*| *2022-08-31*|\n",
       "|*Comments*| *22 pages + appendix, 14 Figures + 3 in the appendix, submitted to MNRAS*|\n",
       "|**Abstract**| The investigation of the metal-poor tail in the Galactic bulge provides unique information on the early Milky Way assembly and evolution. A chemo-dynamical analysis of 17 very metal-poor stars (VMP, [Fe/H] $<-2.0$) selected from the Pristine Inner Galaxy Survey was carried out based on Gemini/GRACES spectra. The chemical abundances of $\\alpha-$elements (Mg, Ca, and Ti), odd-Z (Na, K, and Sc), Fe-peak (Cr and Ni), and neutron-capture (Ba) elements are determined from model atmosphere analyses. The chemistry suggests that the majority of our stars are very similar to metal-poor stars in the Galactic halo. Orbits calculated from {\\it Gaia} EDR3 imply these stars are brought into the bulge during the earliest Galactic assembly. Most of our stars have large [Na,Ca/Mg] abundances, and thus show little evidence of enrichment by pair-instability supernovae. Two of our stars (P171457, P184700) have chemical abundances compatible with second-generation globular cluster stars, suggestive of the presence of ancient and now dissolved globular clusters in the inner Galaxy. One of them (P171457) is extremely metal-poor ([Fe/H] $<-3.0$) and well below the metallicity floor of globular clusters, which supports the growing evidence for the existence of lower-metallicity globular clusters in the early Universe. A third star (P180956, [Fe/H] $\\sim-2$) has low [Na,Ca/Mg] and very low [Ba/Fe] for its metallicity, which are consistent with formation in a system polluted by only one or a few low-mass supernovae. Interestingly, its orbit is confined to the Galactic plane, like other very metal-poor stars found in the literature, which have been associated with the earliest building blocks of the Milky Way. |"
      ],
      "text/plain": [
       "[arXiv:2208.13791] The Pristine Inner Galaxy Survey (PIGS) V: a chemo-dynamical  investigation of the early assembly of the Milky Way with the most metal-poor  stars in the bulge\n",
       "\tFederico Sestito, et al. -- incl., <mark>Jonay I. González Hernández</mark>"
      ]
     },
     "metadata": {},
     "output_type": "display_data"
    },
    {
     "data": {
      "text/markdown": [
       "## Failed papers"
      ],
      "text/plain": [
       "<IPython.core.display.Markdown object>"
      ]
     },
     "metadata": {},
     "output_type": "display_data"
    },
    {
     "data": {
      "text/markdown": [
       "\n",
       "|||\n",
       "|---:|:---|\n",
       "| [![arXiv](https://img.shields.io/badge/arXiv-arXiv:2208.14181-b31b1b.svg)](https://arxiv.org/abs/arXiv:2208.14181) | **A multifrequency characterization of the extragalactic hard X-ray sky**  |\n",
       "|| Matej Kosiba, et al. -- incl., <mark>Harold Andres Peña-Herazo</mark> |\n",
       "|*Appeared on*| *2022-08-31*|\n",
       "|*Comments*| *19 pages, 7 tables, 17 figures, accepted for publication in A&A - pre-proofs version, catalog tables will be available online*|\n",
       "|**Abstract**| Nowadays we know that the origin of the Cosmic X-ray Background (CXB) is due to the integrated emission of nearby active galactic nuclei. Thus, to obtain a precise estimate of the contribution of different source classes to the CXB it is crucial to fully characterize the hard X-ray sky. We present a multifrequency analysis of all sources listed in the 3d release of the Palermo Swift-BAT hard X-ray catalog (3PBC) with the goal of (i) identifying and classifying the largest number of sources adopting multifrequency criteria, with particular emphasis on extragalactic populations and (ii) extracting Seyfert galaxies to present here the 2nd release of the Turin-SyCAT catalog. We outline a classification scheme based on radio, infrared and optical criteria that allows us to distinguish between unidentified and unclassified hard X-ray sources, and classify and classify the remaining ones discriminating between Galactic and extragalactic classes. Our revised version of the 3PBC lists 1176 classified, 820 extragalactic, and 356 Galactic, 199 unclassified, and 218 unidentified sources. According to our analysis, the hard X-ray sky is mainly populated by Seyfert galaxies and blazars. For the Seyfert galaxies, we present the 2nd release of the Turin-SyCAT including a total of 633 Seyfert galaxies, with 282 new sources, which is an 80% increment from the previous release. We confirm, that there is no clear difference between the flux distribution of the infrared-to-hard X-ray flux ratio of Seyfert galaxies Type 1 and Type 2. However, we confirm a significant trend between the mid-IR flux and hard X-ray flux. |\n",
       "|<p style=\"color:green\"> **ERROR** </p>| <p style=\"color:green\">affiliation error: mpia.affiliation_verifications: '69117' keyword not found.</p> |"
      ],
      "text/plain": [
       "<IPython.core.display.Markdown object>"
      ]
     },
     "metadata": {},
     "output_type": "display_data"
    },
    {
     "data": {
      "text/markdown": [
       "\n",
       "|||\n",
       "|---:|:---|\n",
       "| [![arXiv](https://img.shields.io/badge/arXiv-arXiv:2208.13789-b31b1b.svg)](https://arxiv.org/abs/arXiv:2208.13789) | **The formation of CO$_2$ through consumption of gas-phase CO on vacuum-UV  irradiated water ice**  |\n",
       "|| J. Terwisscha van Scheltinga, et al. -- incl., <mark>A.D. Bosman</mark> |\n",
       "|*Appeared on*| *2022-08-31*|\n",
       "|*Comments*| *Accepted for publication in Astronomy & Astrophysics*|\n",
       "|**Abstract**| [Abridged] Observations of protoplanetary disks suggest that they are depleted in gas-phase CO. It has been posed that gas-phase CO is chemically consumed and converted into less volatile species through gas-grain processes. Observations of interstellar ices reveal a CO$_2$ component within H$_2$O ice suggesting co-formation. The aim of this work is to experimentally verify the interaction of gas-phase CO with solid-state OH radicals above the sublimation temperature of CO. Amorphous solid water (ASW) is deposited at 15 K and followed by vacuum-UV (VUV) irradiation to dissociate H$_2$O and create OH radicals. Gas-phase CO is simultaneously admitted and only adsorbs with a short residence time on the ASW. Products in the solid state are studied with infrared spectroscopy and once released into the gas phase with mass spectrometry. Results show that gas-phase CO is converted into CO$_2$, with an efficiency of 7-27%, when interacting with VUV irradiated ASW. Between 40 and 90 K, CO$_2$ production is constant, above 90 K, O$_2$ production takes over. In the temperature range of 40-60 K, the CO$_2$ remains in the solid state, while at temperatures $\\geq$ 70 K the formed CO$_2$ is released into the gas phase. We conclude that gas-phase CO reacts with solid-state OH radicals above its sublimation temperature. This gas-phase CO and solid-state OH radical interaction could explain the observed CO$_2$ embedded in water-rich ices. It may also contribute to the observed lack of gas-phase CO in planet-forming disks, as previously suggested. Our experiments indicate a lower water ice dissociation efficiency than originally adopted in model descriptions of planet-forming disks and molecular clouds. Incorporation of the reduced water ice dissociation and increased binding energy of CO on a water ice surfaces in these models would allow investigation of this gas-grain interaction to its full extend. |\n",
       "|<p style=\"color:green\"> **ERROR** </p>| <p style=\"color:green\">affiliation error: mpia.affiliation_verifications: 'Heidelberg' keyword not found.</p> |"
      ],
      "text/plain": [
       "<IPython.core.display.Markdown object>"
      ]
     },
     "metadata": {},
     "output_type": "display_data"
    },
    {
     "data": {
      "text/markdown": [
       "\n",
       "|||\n",
       "|---:|:---|\n",
       "| [![arXiv](https://img.shields.io/badge/arXiv-arXiv:2208.13796-b31b1b.svg)](https://arxiv.org/abs/arXiv:2208.13796) | **Inferring subhalo effective density slopes from strong lensing  observations with neural likelihood-ratio estimation**  |\n",
       "|| <mark>Gemma Zhang</mark>, <mark>Siddharth Mishra-Sharma</mark>, Cora Dvorkin |\n",
       "|*Appeared on*| *2022-08-31*|\n",
       "|*Comments*| *11 pages, 5 figures*|\n",
       "|**Abstract**| Strong gravitational lensing has emerged as a promising approach for probing dark matter models on sub-galactic scales. Recent work has proposed the subhalo effective density slope as a more reliable observable than the commonly used subhalo mass function. The subhalo effective density slope is a measurement independent of assumptions about the underlying density profile and can be inferred for individual subhalos through traditional sampling methods. To go beyond individual subhalo measurements, we leverage recent advances in machine learning and introduce a neural likelihood-ratio estimator to infer an effective density slope for populations of subhalos. We demonstrate that our method is capable of harnessing the statistical power of multiple subhalos (within and across multiple images) to distinguish between characteristics of different subhalo populations. The computational efficiency warranted by the neural likelihood-ratio estimator over traditional sampling enables statistical studies of dark matter perturbers and is particularly useful as we expect an influx of strong lensing systems from upcoming surveys. |\n",
       "|<p style=\"color:green\"> **ERROR** </p>| <p style=\"color:green\">affiliation error: mpia.affiliation_verifications: 'Heidelberg' keyword not found.</p> |"
      ],
      "text/plain": [
       "<IPython.core.display.Markdown object>"
      ]
     },
     "metadata": {},
     "output_type": "display_data"
    },
    {
     "data": {
      "text/markdown": [
       "\n",
       "|||\n",
       "|---:|:---|\n",
       "| [![arXiv](https://img.shields.io/badge/arXiv-arXiv:2208.13818-b31b1b.svg)](https://arxiv.org/abs/arXiv:2208.13818) | **Observable tests for the light-sail scenario of interstellar objects**  |\n",
       "|| Wen-Han Zhou, Shang-Fei Liu, <mark>Yun Zhang</mark>, Douglas N.C. Lin |\n",
       "|*Appeared on*| *2022-08-31*|\n",
       "|*Comments*| *17 pages, 13 figures Comments are welcome*|\n",
       "|**Abstract**| We scrutinize the light sail scenario of the first interstellar object (ISO) 1I/2017 U1 (`Oumuamua) by making comparisons between physical models and observational constraints. These analyses can be generalized for future surveys of `Oumuamua-like objects. The light sail goes through a drift in the interstellar space due to the magnetic field and gas atoms, which poses challenges to the navigation system. When the light sail enters the inner solar system, the sideways radiation pressure leads to a considerable non-radial displacement. The immensely high dimensional ratio and the tumbling motion could cause a light curve with an extremely large amplitude and could even make the light sail invisible from time to time. These observational features allow us to examine the light sail scenario of interstellar objects. Our results show that the drift of the freely rotating light sail in the interstellar medium is $\\sim 100\\,$au even if the travel distance is only 1 pc. The probability is < 1.5\\% for the expected brightness modulation of the light sail to match with `Oumuamua's observed variation amplitude ($\\sim$ 2.5 -- 3). In addition, the probability is 0.4% for the tumbling light-sail to be visible (brighter than V=27) in all 55 observations spread over two months after discovery. Radiation pressure could cause a larger displacement that is normal to the orbital plane for a lightsail than that for `Oumuamua. Also, the ratio of anti-solar to sideways acceleration of `Oumuamua deviates from that of the light sail by ~ 1.5{\\sigma}. We suggest that `Oumuamua is unlikely a light sail. The dynamics of an intruding light sail, if exist, has distinct observational signatures, which can be quantitatively identified and analyzed with our methods in future surveys. |\n",
       "|<p style=\"color:green\"> **ERROR** </p>| <p style=\"color:green\">affiliation error: mpia.affiliation_verifications: 'Heidelberg' keyword not found.</p> |"
      ],
      "text/plain": [
       "<IPython.core.display.Markdown object>"
      ]
     },
     "metadata": {},
     "output_type": "display_data"
    },
    {
     "data": {
      "text/markdown": [
       "\n",
       "|||\n",
       "|---:|:---|\n",
       "| [![arXiv](https://img.shields.io/badge/arXiv-arXiv:2208.13844-b31b1b.svg)](https://arxiv.org/abs/arXiv:2208.13844) | **Mitigating the effects of instrumental artifacts on source localizations**  |\n",
       "|| <mark>Maggie C. Huber</mark>, Derek Davis |\n",
       "|*Appeared on*| *2022-08-31*|\n",
       "|*Comments*| *14 pages, 9 figures*|\n",
       "|**Abstract**| Instrumental artifacts in gravitational-wave strain data can overlap with gravitational-wave detections and significantly impair the accuracy of the measured source localizations. These biases can prevent the detection of any electromagnetic counterparts to the detected gravitational wave. We present a method to mitigate the effect of instrumental artifacts on the measured source localization. This method uses inpainting techniques to remove data containing the instrumental artifact and then correcting for the data removal in the subsequent analysis of the data. We present a series of simulations using this method using a variety of signal classes and inpainting parameters which test the effectiveness of this method and identify potential limitations. We show that in the vast majority of scenarios, this method can robustly localize gravitational-wave signals even after removing portions of the data. We also demonstrate how an instrumental artifact can bias the measured source location and how this method can be used to mitigate this bias. |\n",
       "|<p style=\"color:green\"> **ERROR** </p>| <p style=\"color:green\">affiliation error: mpia.affiliation_verifications: 'Heidelberg' keyword not found.</p> |"
      ],
      "text/plain": [
       "<IPython.core.display.Markdown object>"
      ]
     },
     "metadata": {},
     "output_type": "display_data"
    },
    {
     "data": {
      "text/markdown": [
       "\n",
       "|||\n",
       "|---:|:---|\n",
       "| [![arXiv](https://img.shields.io/badge/arXiv-arXiv:2208.13917-b31b1b.svg)](https://arxiv.org/abs/arXiv:2208.13917) | **Star Formation Suppresion by Tidal Removal of Cold Molecular Gas from an  Intermediate-Redshift Massive Post-Starburst Galaxy**  |\n",
       "|| Justin S. Spilker, et al. -- incl., <mark>Jenny E. Greene</mark> |\n",
       "|*Appeared on*| *2022-08-31*|\n",
       "|*Comments*| *Published in ApJL, 8 pages, 5 figures*|\n",
       "|**Abstract**| Observations and simulations have demonstrated that star formation in galaxies must be actively suppressed to prevent the formation of over-massive galaxies. Galactic outflows driven by stellar feedback or supermassive black hole accretion are often invoked to regulate the amount of cold molecular gas available for future star formation, but may not be the only relevant quenching processes in all galaxies. We present the discovery of vast molecular tidal features extending up to 64 kpc outside of a massive z=0.646 post-starburst galaxy that recently concluded its primary star-forming episode. The tidal tails contain (1.2 +/- 0.1)x10^10 Msun of molecular gas, 47 +/- 5 % of the total cold gas reservoir of the system. Both the scale and magnitude of the molecular tidal features are unprecedented compared to all known nearby or high-redshift merging systems. We infer that the cold gas was stripped from the host galaxies during the merger, which is most likely responsible for triggering the initial burst phase and the subsequent suppression of star formation. While only a single example, this result shows that galaxy mergers can regulate the cold gas contents in distant galaxies by directly removing a large fraction of the molecular gas fuel, and plausibly suppress star formation directly, a qualitatively different physical mechanism than feedback-driven outflows. |\n",
       "|<p style=\"color:green\"> **ERROR** </p>| <p style=\"color:green\">affiliation error: mpia.affiliation_verifications: 'Heidelberg' keyword not found.</p> |"
      ],
      "text/plain": [
       "<IPython.core.display.Markdown object>"
      ]
     },
     "metadata": {},
     "output_type": "display_data"
    },
    {
     "data": {
      "text/markdown": [
       "\n",
       "|||\n",
       "|---:|:---|\n",
       "| [![arXiv](https://img.shields.io/badge/arXiv-arXiv:2208.13950-b31b1b.svg)](https://arxiv.org/abs/arXiv:2208.13950) | **Zwicky Transient Facility and Globular Clusters: The Period-Luminosity  and Period-Wesenheit Relations for Anomalous Cepheids Supplemented with Large  Magellanic Cloud Sample**  |\n",
       "|| Chow-Choong Ngeow, et al. -- incl., <mark>Frank J. Masci</mark> |\n",
       "|*Appeared on*| *2022-08-31*|\n",
       "|*Comments*| *8 pages, 1 Table and 4 Figures; AJ accepted*|\n",
       "|**Abstract**| We present the first gri-band period-luminosity (PL) and period-Wesenheit (PW) relations for the fundamental mode anomalous Cepheids. These PL and PW relations were derived from a combined sample of five anomalous Cepheids in globular cluster M92 and the Large Magellanic Cloud, both of which have distance accurate to ~1% available from literature. Our g-band PL relation is similar to the B-band PL relation as reported in previous study. We applied our PL and PW relations to anomalous Cepheids discovered in dwarf galaxy Crater II, and found a larger but consistent distance modulus than the recent measurements based on RR Lyrae. Our calibrations of gri-band PL and PW relations, even though less precise due to small number of anomalous Cepheids, will be useful for distance measurements to dwarf galaxies. |\n",
       "|<p style=\"color:green\"> **ERROR** </p>| <p style=\"color:green\">affiliation error: mpia.affiliation_verifications: 'Heidelberg' keyword not found.</p> |"
      ],
      "text/plain": [
       "<IPython.core.display.Markdown object>"
      ]
     },
     "metadata": {},
     "output_type": "display_data"
    },
    {
     "data": {
      "text/markdown": [
       "\n",
       "|||\n",
       "|---:|:---|\n",
       "| [![arXiv](https://img.shields.io/badge/arXiv-arXiv:2208.13967-b31b1b.svg)](https://arxiv.org/abs/arXiv:2208.13967) | **Radio observations of the tidal disruption event AT2020opy: a luminous  non-relativistic outflow encountering a dense circumnuclear medium**  |\n",
       "|| Adelle J. Goodwin, et al. -- incl., <mark>Jasper Greenland</mark>, <mark>Xian Zhang</mark> |\n",
       "|*Appeared on*| *2022-08-31*|\n",
       "|*Comments*| *8 pages, submitted to MNRAS*|\n",
       "|**Abstract**| Tidal disruption events (TDEs) occur when a star passes too close to a supermassive black hole and is destroyed by tidal gravitational forces. Radio observations of TDEs trace synchrotron emission from outflowing material that may be ejected from the inner regions of the accretion flow around the SMBH or by the tidal debris stream. Radio detections of tidal disruption events are rare, but provide crucial information about the launching of jets and outflows from supermassive black holes and the circumnuclear environment in galaxies. Here we present the radio detection of the TDE AT2020opy, including three epochs of radio observations taken with the Karl G. Jansky's Very Large Array (VLA), MeerKAT, and upgraded Giant Metrewave Radio telescope. AT2020opy is the most distant thermal TDE with radio emission reported to date, and from modelling the evolving synchrotron spectra we deduce that the host galaxy has a more dense circumnuclear medium than other thermal TDEs detected in the radio band. Based on an equipartition analysis of the synchrotron spectral properties of the event, we conclude that the radio-emitting outflow was likely launched approximately at the time of, or just after, the initial optical flare. We find no evidence for relativistic motion of the outflow. The high luminosity of this event supports that a dense circumnuclear medium of the host galaxy produces brighter radio emission that rises to a peak more quickly than in galaxies with lower central densities. |\n",
       "|<p style=\"color:green\"> **ERROR** </p>| <p style=\"color:green\">affiliation error: mpia.affiliation_verifications: 'Heidelberg' keyword not found.</p> |"
      ],
      "text/plain": [
       "<IPython.core.display.Markdown object>"
      ]
     },
     "metadata": {},
     "output_type": "display_data"
    },
    {
     "data": {
      "text/markdown": [
       "\n",
       "|||\n",
       "|---:|:---|\n",
       "| [![arXiv](https://img.shields.io/badge/arXiv-arXiv:2208.13983-b31b1b.svg)](https://arxiv.org/abs/arXiv:2208.13983) | **ALCHEMI finds a \"shocking\" carbon footprint in the starburst galaxy  NGC~253**  |\n",
       "|| Nanase Harada, et al. -- incl., <mark>Christian Henkel</mark>, <mark>Ruben Herrero-Illana</mark> |\n",
       "|*Appeared on*| *2022-08-31*|\n",
       "|*Comments*| *22 pages, 9 figures. Accepted for publication in the Astrophysical Journal*|\n",
       "|**Abstract**| Centers of starburst galaxies may be characterized by a specific gas and ice chemistry due to their gas dynamics and the presence of various ice desorption mechanisms. This may result in a peculiar observable composition. We analyze abundances of $CO_2$, a reliable tracer of ice chemistry, from data collected as part of the ALMA large program ALCHEMI, a wide-frequency spectral scan toward the starburst galaxy NGC~253 with an angular resolution of 1.6$''$. We constrain the $CO_2$ abundances in the gas phase using its protonated form $HOCO^+$. The distribution of $HOCO^+$ is similar to that of methanol, which suggests that $HOCO^+$ is indeed produced from the protonation of $CO_2$ sublimated from ice. The $HOCO^+$ fractional abundances are found to be $(1-2)\\times10^{-9}$ at the outer part of the central molecular zone (CMZ), while they are lower ($\\sim10^{-10}$) near the kinematic center. This peak fractional abundance at the outer CMZ is comparable to that in the Milky Way CMZ, and orders of magnitude higher than that in Galactic disk star-forming regions. From the range of $HOCO^+/CO_2$ ratios suggested from chemical models, the gas-phase $CO_2$ fractional abundance is estimated to be $(1-20)\\times10^{-7}$ at the outer CMZ, and orders of magnitude lower near the center. We estimate the $CO_2$ ice fractional abundances at the outer CMZ to be $(2-5)\\times10^{-6}$ from the literature. A comparison between the ice and gas $CO_2$ abundances suggests an efficient sublimation mechanism. This sublimation is attributed to large-scale shocks at the orbital intersections of the bar and CMZ. |\n",
       "|<p style=\"color:green\"> **ERROR** </p>| <p style=\"color:green\">affiliation error: mpia.affiliation_verifications: 'Heidelberg' keyword not found.</p> |"
      ],
      "text/plain": [
       "<IPython.core.display.Markdown object>"
      ]
     },
     "metadata": {},
     "output_type": "display_data"
    },
    {
     "data": {
      "text/markdown": [
       "\n",
       "|||\n",
       "|---:|:---|\n",
       "| [![arXiv](https://img.shields.io/badge/arXiv-arXiv:2208.13987-b31b1b.svg)](https://arxiv.org/abs/arXiv:2208.13987) | **Synchrotron Self-Compton Emission in the Two-Component Jet Model for  Gamma-Ray Bursts**  |\n",
       "|| Yuri Sato, et al. -- incl., <mark>B. Theodre Zhang</mark> |\n",
       "|*Appeared on*| *2022-08-31*|\n",
       "|*Comments*| *15 pages, 9 figures, 3 tables*|\n",
       "|**Abstract**| Gamma-ray bursts (GRBs) are intense bursts of high-energy photons (prompt emissions) caused by relativistic jets. After the emissions, multi-wavelength afterglows, from radio to very-high-energy (VHE) gamma-rays, last for more than a few days. In the past three years, the VHE gamma-ray photons from four GRBs (GRBs 180720B, 190114C, 190829A and 201216C) were detected by ground-based Imaging Atmospheric Cherenkov Telescopes, such as the Major Atmospheric Gamma Imaging Cherenkov (MAGIC) telescopes and the High Energy Stereoscopic System (H.E.S.S.). One of them, GRB 190829A, had some peculiar features of showing achromatic peaks in X-ray and optical bands at $1.4\\times10^3$ s and being classified as low-luminosity GRBs. Previously, we proposed a two-component jet model, which has `narrow jet' with a small initial jet opening half-angle $\\theta_0(=0.015$ rad) and large bulk Lorentz factor $\\Gamma_0=350$ and `wide jet' with $\\theta_0=0.1$ rad and $\\Gamma_0=20$. The narrow jet explained the early X-ray and optical emissions and apparently small isotropic gamma-ray energy and peak energy in the off-axis viewing case. Furthermore, the late X-ray and radio (1.3 and 15.5 GHz) afterglows were emitted from the wide jet. Here, we calculate the VHE gamma-ray flux by the synchrotron self-Compton (SSC) emission. The multi-wavelength afterglows of GRB 190829A including the VHE gamma-ray emission are well explained by our two-component jet model. The afterglow emissions from our two-component jet are also consistent with the observational results of GRBs 180720B, 190114C and 201216C. Furthermore, we discuss the detectability of off-axis orphan afterglows by the Cherenkov Telescope Array (CTA). |\n",
       "|<p style=\"color:green\"> **ERROR** </p>| <p style=\"color:green\">affiliation error: mpia.affiliation_verifications: 'Heidelberg' keyword not found.</p> |"
      ],
      "text/plain": [
       "<IPython.core.display.Markdown object>"
      ]
     },
     "metadata": {},
     "output_type": "display_data"
    },
    {
     "data": {
      "text/markdown": [
       "\n",
       "|||\n",
       "|---:|:---|\n",
       "| [![arXiv](https://img.shields.io/badge/arXiv-arXiv:2208.13988-b31b1b.svg)](https://arxiv.org/abs/arXiv:2208.13988) | **Analytical Equation of Three-point Correlation Function of Galaxies: to  Third Order of Density Perturbation**  |\n",
       "|| Shu-Guang Wu, <mark>Yang Zhang</mark> |\n",
       "|*Appeared on*| *2022-08-31*|\n",
       "|*Comments*| *10 pages, 4 figures, to appear in RAA 2022*|\n",
       "|**Abstract**| Applying functional differentiation to the density field with Newtonian gravity, we obtain the static, nonlinear equation of the three-point correlation function $\\zeta$ of galaxies, to the third order density perturbations. We make the equation closed and perform renormalization of the mass and the Jeans wavenumber. Using the boundary condition inferred from observations, we obtain the third order solution $\\zeta(r, u, \\theta)$ at fixed $u=2$, which is positive, exhibits a $U$-shape along the angle $\\theta$, and decreases monotonously along the radial $r$ up to the range $r \\leq 30\\, h^{-1}$Mpc in our computation. The corresponding reduced $Q(r, u, \\theta)$ deviates from 1 of the Gaussian case, has a deeper $U$-shape along $\\theta$, and varies non-monotonously along $r$. The third order solution agrees with the SDSS data of galaxies, quite close to the previous second order solution, especially at large scales. This indicates that the equations of correlation functions with increasing orders of density perturbation provide a stable description of the nonlinear galaxy system. |\n",
       "|<p style=\"color:green\"> **ERROR** </p>| <p style=\"color:green\">affiliation error: mpia.affiliation_verifications: 'Heidelberg' keyword not found.</p> |"
      ],
      "text/plain": [
       "<IPython.core.display.Markdown object>"
      ]
     },
     "metadata": {},
     "output_type": "display_data"
    },
    {
     "data": {
      "text/markdown": [
       "\n",
       "|||\n",
       "|---:|:---|\n",
       "| [![arXiv](https://img.shields.io/badge/arXiv-arXiv:2208.13997-b31b1b.svg)](https://arxiv.org/abs/arXiv:2208.13997) | **Discovery of Peculiar Radio Morphologies with ASKAP using Unsupervised  Machine Learning}**  |\n",
       "|| Nikhel Gupta, et al. -- incl., <mark>Heinz Andernach</mark> |\n",
       "|*Appeared on*| *2022-08-31*|\n",
       "|*Comments*| *Accepted in PASA, 23 pages, 16 figures*|\n",
       "|**Abstract**| We present a set of peculiar radio sources detected using an unsupervised machine learning method. We use data from the Australian Square Kilometre Array Pathfinder (ASKAP) telescope to train a self-organizing map (SOM). The radio maps from three ASKAP surveys, Evolutionary Map of Universe pilot survey (EMU-PS), Deep Investigation of Neutral Gas Origins pilot survey (DINGO) and Survey With ASKAP of GAMA-09 + X-ray (SWAG-X), are used to search for the rarest or unknown radio morphologies. We use an extension of the SOM algorithm that implements rotation and flipping invariance on astronomical sources. The SOM is trained using the images of all \"complex\" radio sources in the EMU-PS which we define as all sources catalogued as \"multi-component\". The trained SOM is then used to estimate a similarity score for complex sources in all surveys. We select 0.5\\% of the sources that are most complex according to the similarity metric, and visually examine them to find the rarest radio morphologies. Among these, we find two new odd radio circle (ORC) candidates and five other peculiar morphologies. We discuss multiwavelength properties and the optical/infrared counterparts of selected peculiar sources. In addition, we present examples of conventional radio morphologies including: diffuse emission from galaxy clusters, and resolved, bent-tailed, and FR-I and FR-II type radio galaxies. We discuss the overdense environment that may be the reason behind the circular shape of ORC candidates. |\n",
       "|<p style=\"color:green\"> **ERROR** </p>| <p style=\"color:green\">affiliation error: mpia.affiliation_verifications: 'Heidelberg' keyword not found.</p> |"
      ],
      "text/plain": [
       "<IPython.core.display.Markdown object>"
      ]
     },
     "metadata": {},
     "output_type": "display_data"
    },
    {
     "data": {
      "text/markdown": [
       "\n",
       "|||\n",
       "|---:|:---|\n",
       "| [![arXiv](https://img.shields.io/badge/arXiv-arXiv:2208.14036-b31b1b.svg)](https://arxiv.org/abs/arXiv:2208.14036) | **Revisiting stellar properties of star-forming galaxies with stellar and  nebular spectral modelling**  |\n",
       "|| Leandro S. M. Cardoso, et al. -- incl., <mark>Henrique Miranda</mark> |\n",
       "|*Appeared on*| *2022-08-31*|\n",
       "|*Comments*| *27 pages, 25 figures. Accepted for publication in Astronomy & Astrophysics*|\n",
       "|**Abstract**| Spectral synthesis is a powerful tool for interpreting the physical properties of galaxies by decomposing their spectral energy distributions into the main luminosity contributors (e.g. stellar populations or ionised gas). However, the impact nebular emission has on the inferred properties of star-forming (SF) galaxies has been largely overlooked over the years. The objective of this work is to estimate the relations between stellar properties of SF galaxies from SDSS DR7 by simultaneously fitting the stellar and nebular continua with FADO and comparing them to the results derived using STARLIGHT, a representative of purely stellar population synthesis codes. Differences between codes regarding average mass, mean age and mean metallicity values can go as high as $\\sim$0.06 dex for the overall population of galaxies and $\\sim$0.12 dex for SF galaxies (galaxies with EW(H$\\alpha$)>3 \\AA), with the most prominent difference between both codes in the light-weighted mean stellar age. A closer look into the average light- and mass-weighted star formation histories of intensively SF galaxies (EW(H$\\alpha$)>75 \\AA) suggests that STARLIGHT is underestimating the average light-weighted age of intensively SF galaxies by up to $\\sim$0.17 dex and overestimating the light-weighted metallicity by up to $\\sim$0.13 dex compared to FADO (or vice versa). The comparison between the average stellar properties of passive, SF and intensively SF galaxy samples also reveals that differences between codes increase with increasing EW(H$\\alpha$) and decreasing total stellar mass. This work finds indirect evidence that a purely stellar population synthesis approach negatively impacts the inferred stellar properties of galaxies with relatively high star formation rates. In turn, this can bias interpretations of fundamental relations such as the mass-age or mass-metallicity. |\n",
       "|<p style=\"color:green\"> **ERROR** </p>| <p style=\"color:green\">affiliation error: mpia.affiliation_verifications: 'Heidelberg' keyword not found.</p> |"
      ],
      "text/plain": [
       "<IPython.core.display.Markdown object>"
      ]
     },
     "metadata": {},
     "output_type": "display_data"
    },
    {
     "data": {
      "text/markdown": [
       "\n",
       "|||\n",
       "|---:|:---|\n",
       "| [![arXiv](https://img.shields.io/badge/arXiv-arXiv:2208.14134-b31b1b.svg)](https://arxiv.org/abs/arXiv:2208.14134) | **Dark off-limb gap: manifestation of temperature minimum and dynamic  nature of the chromosphere**  |\n",
       "|| D. Kuridze, <mark>P. Heinzel</mark>, J. Koza, R. Oliver |\n",
       "|*Appeared on*| *2022-08-31*|\n",
       "|*Comments*| *14 pages, 8 figures, accepted in ApJ*|\n",
       "|**Abstract**| We study off-limb emission of the lower solar atmosphere using high-resolution imaging spectroscopy in the H$\\beta$ and Ca II 8542 \\r{A} lines obtained with the CHROMospheric Imaging Spectrometer (CHROMIS) and the CRisp Imaging SpectroPolarimeter (CRISP) on the Swedish 1-m Solar Telescope. The H$\\beta$ line wing images show the dark intensity gap between the photospheric limb and chromosphere which is absent in the Ca II images. We calculate synthetic spectra of the off-limb emissions with the RH code in the one-dimension spherical geometry and find good agreement with the observations. The analysis of synthetic line profiles shows that the gap in the H$\\beta$ line wing images maps the temperature minimum region between the photosphere and chromosphere due to the well known opacity and emissivity gap of Balmer lines in this layer. However, observed gap is detected farther from the line core in the outer line wing positions than in the synthetic profiles. We found that an increased microturbulence in the model chromosphere is needed to reproduce the dark gap in the outer line wing, suggesting that observed H$\\beta$ gap is the manifestation of the temperature minimum and the dynamic nature of the solar chromosphere. The temperature minimum produces a small enhancement in synthetic Ca II line-wing intensities. Observed off-limb Ca II line-wing emissions show similar enhancement below temperature minimum layer near the edge of the photospheric limb. |\n",
       "|<p style=\"color:green\"> **ERROR** </p>| <p style=\"color:green\">affiliation error: mpia.affiliation_verifications: 'Heidelberg' keyword not found.</p> |"
      ],
      "text/plain": [
       "<IPython.core.display.Markdown object>"
      ]
     },
     "metadata": {},
     "output_type": "display_data"
    },
    {
     "data": {
      "text/markdown": [
       "\n",
       "|||\n",
       "|---:|:---|\n",
       "| [![arXiv](https://img.shields.io/badge/arXiv-arXiv:2208.14138-b31b1b.svg)](https://arxiv.org/abs/arXiv:2208.14138) | **Revealing Double White Dwarf Mergers with Multi-messenger Signals**  |\n",
       "|| <mark>He-Wen Yang</mark>, Pak-Hin Thomas Tam, Lili Yang |\n",
       "|*Appeared on*| *2022-08-31*|\n",
       "|*Comments*| *14pages, 5 figures, accepted by RAA*|\n",
       "|**Abstract**| A significant number of double white dwarfs (DWDs) are believed to merge within the Hubble time due to the gravitational wave (GW) emission during their inspiraling phase. The outcome of a DWD system is either a type Ia Supernova as the double-degenerate model, or a massive, long-lasting merger remnant. Expected multi-messenger signals of these events will help us to distinguish detailed merging physical processes. In this work, we aim to provide a generic scenario of DWD merging, investigate the emission of all major messengers, with a focus on GWs and neutrinos. Our goal is to provide some guidance for current and future (collaborative) efforts of multi-messenger observations. Throughout the merging evolution of a DWD system, different messengers (GW, neutrino and electromagnetic wave) will dominate at different times. In this work, we show that DWD merger events located at the distance of 1 kpc can indeed produce detectable signals of GWs and neutrinos. The GW frequency are in 0.8-1.8 Hz band around 10 days before tidal disruption begin. We estimate that in optimistic situations, the neutrino number detected by upcoming detectors such as JUNO and Hyper-Kamiokande can reach O(1) for a DWD merging event at $\\sim$ 1 kpc. |\n",
       "|<p style=\"color:green\"> **ERROR** </p>| <p style=\"color:green\">affiliation error: mpia.affiliation_verifications: 'Heidelberg' keyword not found.</p> |"
      ],
      "text/plain": [
       "<IPython.core.display.Markdown object>"
      ]
     },
     "metadata": {},
     "output_type": "display_data"
    },
    {
     "data": {
      "text/markdown": [
       "\n",
       "|||\n",
       "|---:|:---|\n",
       "| [![arXiv](https://img.shields.io/badge/arXiv-arXiv:2208.14144-b31b1b.svg)](https://arxiv.org/abs/arXiv:2208.14144) | **Structure and evolution of ultra-massive white dwarfs in general  relativity**  |\n",
       "|| <mark>L. G. Althaus</mark>, et al. -- incl., <mark>S. Torres</mark> |\n",
       "|*Appeared on*| *2022-08-31*|\n",
       "|*Comments*| *12 pages, accepted for publication in Astronomy and Astrophysics*|\n",
       "|**Abstract**| We present the first set of constant rest-mass ultra-massive oxygen/neon white dwarf cooling tracks with masses larger than 1.29 Msun which fully take into account the effects of general relativity on their structural and evolutionary properties. We have computed the full evolution sequences of 1.29, 1.31, 1.33, 1.35, and 1.369 Msun white dwarfs with the La Plata stellar evolution code, LPCODE. For this work, the standard equations of stellar structure and evolution have been modified to include the full effects of general relativity. For comparison purposes, the same sequences have been computed but for the Newtonian case. According to our calculations, the evolutionary properties of the most massive white dwarfs are strongly modified by general relativity effects. In particular, the resulting stellar radius is markedly smaller in the general relativistic case, being up to 25% smaller than predicted by the Newtonian treatment for the more massive ones. We find that oxygen/neon white dwarfs more massive than 1.369 Msun become gravitationally unstable with respect to general relativity effects. When core chemical distribution due to phase separation on crystallization is considered, such instability occurs at somewhat lower stellar masses, greater than 1.36 Msun. In addition, cooling times for the most massive white dwarf sequences result in about a factor of two smaller than in the Newtonian case at advanced stages of evolution. Finally, a sample of white dwarfs has been identified as ideal candidates to test these general relativistic effects. We conclude that the general relativity effects should be taken into account for an accurate assessment of the structural and evolutionary properties of the most massive white dwarfs. |\n",
       "|<p style=\"color:green\"> **ERROR** </p>| <p style=\"color:green\">affiliation error: mpia.affiliation_verifications: 'Heidelberg' keyword not found.</p> |"
      ],
      "text/plain": [
       "<IPython.core.display.Markdown object>"
      ]
     },
     "metadata": {},
     "output_type": "display_data"
    },
    {
     "data": {
      "text/markdown": [
       "\n",
       "|||\n",
       "|---:|:---|\n",
       "| [![arXiv](https://img.shields.io/badge/arXiv-arXiv:2208.14156-b31b1b.svg)](https://arxiv.org/abs/arXiv:2208.14156) | **The GW-Universe Toolbox III: simulating joint observations of  gravitational waves and gamma-ray bursts**  |\n",
       "|| <mark>Kai Hendriks</mark>, Shu-Xu Yi, Gijs Nelemans |\n",
       "|*Appeared on*| *2022-08-31*|\n",
       "|*Comments*| **|\n",
       "|**Abstract**| In the current multi-messenger astronomy era, it is important that information about joint gravitational wave (GW) and electromagnetic (EM) observations through short gamma-ray burst (sGRBs) remains easily accessible. The possibility for non-experts to execute quick computations of joint GW-sGRB detections should be facilitated. We construct a sGRB model and add this to the framework of the previously-built Gravitational Wave Universe Toolbox. We provide expected joint GW-sGRB detection rates for different combinations of GW detectors and high-energy (HE) instruments. We employ and adapt a generic GRB model to create a top-hat jet model suitable for the Toolbox. We simulate a population of binary neutron stars (BNSs) observed by a user-specified GW detector. Our model predicts the properties of a resulting sGRB, as well as its detectability. We report predicted joint detection rates for combinations of GW detectors with HE instruments. Our findings stress the significance of the impact of the Einstein Telescope (ET); ET will observe BNSs at such a rate that the vast majority of detected sGRBs will have an observed GW counterpart. Additionally, given the limited LIGO horizon, a search for sub-threshold GW signals at higher redshifts using sGRB information from HE detectors has the potential to be very successful. Equivalently, during the ET era, GW data can assist in finding sub-threshold sGRBs, potentially increasing e.g. the number of joint ET-Fermi/GBM observations by $\\sim$270%. Lastly, we find that our top-hat jet model underestimates the number of joint detections that include an off-axis sGRB. We correct for this with a second, wider and weaker jet component. We find that the majority of joint detections during the current era will include an off-axis sGRB, making GRB170817A not as unlikely as one would think. In the ET era, most joint detections will contain an on-axis sGRB. |\n",
       "|<p style=\"color:green\"> **ERROR** </p>| <p style=\"color:green\">affiliation error: mpia.affiliation_verifications: 'Heidelberg' keyword not found.</p> |"
      ],
      "text/plain": [
       "<IPython.core.display.Markdown object>"
      ]
     },
     "metadata": {},
     "output_type": "display_data"
    },
    {
     "data": {
      "text/markdown": [
       "\n",
       "|||\n",
       "|---:|:---|\n",
       "| [![arXiv](https://img.shields.io/badge/arXiv-arXiv:2208.14177-b31b1b.svg)](https://arxiv.org/abs/arXiv:2208.14177) | **The structure of the ultrarelativistic prompt emission phase and the  properties of the black hole in GRB 180720B**  |\n",
       "|| F. Rastegarnia, et al. -- incl., <mark>Liang Li</mark> |\n",
       "|*Appeared on*| *2022-08-31*|\n",
       "|*Comments*| *Accepted for publication in EPJC*|\n",
       "|**Abstract**| In analogy with GRB 190114C, we here analyze the ultrarelativistic prompt emission (UPE) of GRB 180720B observed in the rest-frame time interval $t_{\\rm rf}=4.84$--$10.89$~s by Fermi-GBM. We reveal the UPE hierarchical structure from the time-resolved spectral analysis performed in time sub-intervals: the spectrum in each shorter time interval is always fitted by a composite blackbody plus cutoff power-law model. We explain this structure with the \\textit{inner engine} of binary-driven hypernova (BdHN) model operating in a quantum electrodynamics (QED) regime. In this regime, the electric field induced by the gravitomagnetic interaction of the newborn Kerr BH with the surrounding magnetic field is overcritical, i.e., $|{\\bf E}|\\geq E_c$, where $E_c=m_e^2 c^3/(e\\hbar)$. The overcritical field polarizes the vacuum leading to an $e^+~e^-$ pair plasma that loads baryons from the surroundings during its expansion. We calculate the dynamics of the self-acceleration of the pair-electromagnetic-baryon (PEMB) pulses to their point of transparency. We characterize the quantum vacuum polarization process in the sequences of decreasing time bins of the UPE by determining the radiation timescale, Lorentz factors, and transparency radius of the PEMB pulses. We also estimate the strength of the surrounding magnetic field $\\sim 10^{14}$ G, and obtain a lower limit to the BH mass, $M=2.4~M_\\odot$, and correspondingly an upper limit to the spin, $\\alpha = 0.6$, from the conditions that the UPE is powered by the Kerr BH extractable energy and its mass is bound from below by the NS critical mass. |\n",
       "|<p style=\"color:green\"> **ERROR** </p>| <p style=\"color:green\">affiliation error: mpia.affiliation_verifications: 'Heidelberg' keyword not found.</p> |"
      ],
      "text/plain": [
       "<IPython.core.display.Markdown object>"
      ]
     },
     "metadata": {},
     "output_type": "display_data"
    },
    {
     "data": {
      "text/markdown": [
       "\n",
       "|||\n",
       "|---:|:---|\n",
       "| [![arXiv](https://img.shields.io/badge/arXiv-arXiv:2208.14276-b31b1b.svg)](https://arxiv.org/abs/arXiv:2208.14276) | **BeyondPlanck XI. Bayesian CMB analysis with sample-based end-to-end  error propagation**  |\n",
       "|| L. P. L. Colombo, et al. -- incl., <mark>B. Hensley</mark>, <mark>D. Herman</mark>, <mark>G. Maggio</mark> |\n",
       "|*Appeared on*| *2022-08-31*|\n",
       "|*Comments*| *26 pages, 24 figures. Submitted to A&A. Part of the BeyondPlanck paper suite*|\n",
       "|**Abstract**| We present posterior sample-based cosmic microwave background (CMB) constraints from Planck LFI and WMAP observations derived through global end-to-end Bayesian processing. We use these samples to study correlations between CMB, foreground, and instrumental parameters, and we identify a particularly strong degeneracy between CMB temperature fluctuations and free-free emission on intermediate angular scales, which is mitigated through model reduction, masking, and resampling. We compare our posterior-based CMB results with previous Planck products, and find generally good agreement, but with higher noise due to exclusion of HFI data. We find a best-fit CMB dipole amplitude of $3362.7\\pm1.4{\\mu}K$, in excellent agreement with previous Planck results. The quoted uncertainty is derived directly from the sampled posterior distribution, and does not involve any ad hoc contribution for systematic effects. Similarly, we find a temperature quadrupole amplitude of $\\sigma^{TT}_2=229\\pm97{\\mu}K^2$, in good agreement with previous results in terms of the amplitude, but the uncertainty is an order of magnitude larger than the diagonal Fisher uncertainty. Relatedly, we find lower evidence for a possible alignment between $\\ell = 2$ and $\\ell = 3$ than previously reported due to a much larger scatter in the individual quadrupole coefficients, caused both by marginalizing over a more complete set of systematic effects, and by our more conservative analysis mask. For higher multipoles, we find that the angular temperature power spectrum is generally in good agreement with both Planck and WMAP. This is the first time the sample-based asymptotically exact Blackwell-Rao estimator has been successfully established for multipoles up to $\\ell\\le600$, and it now accounts for the majority of the cosmologically important information. Cosmological parameter constraints are presented in a companion paper. (Abriged) |\n",
       "|<p style=\"color:green\"> **ERROR** </p>| <p style=\"color:green\">affiliation error: mpia.affiliation_verifications: 'Heidelberg' keyword not found.</p> |"
      ],
      "text/plain": [
       "<IPython.core.display.Markdown object>"
      ]
     },
     "metadata": {},
     "output_type": "display_data"
    },
    {
     "data": {
      "text/markdown": [
       "\n",
       "|||\n",
       "|---:|:---|\n",
       "| [![arXiv](https://img.shields.io/badge/arXiv-arXiv:2208.14293-b31b1b.svg)](https://arxiv.org/abs/arXiv:2208.14293) | **BeyondPlanck X. Planck LFI frequency maps with sample-based error  propagation**  |\n",
       "|| A. Basyrov, et al. -- incl., <mark>B. Hensley</mark>, <mark>D. Herman</mark>, <mark>G. Maggio</mark> |\n",
       "|*Appeared on*| *2022-08-31*|\n",
       "|*Comments*| *32 pages, 23 figures, data available from this https URL*|\n",
       "|**Abstract**| We present Planck LFI frequency sky maps derived within the BeyondPlanck framework. This framework draws samples from a global posterior distribution that includes instrumental, astrophysical and cosmological parameters, and the main product is an entire ensemble of frequency sky map samples. This ensemble allows for computationally convenient end-to-end propagation of low-level instrumental uncertainties into higher-level science products. We show that the two dominant sources of LFI instrumental systematic uncertainties are correlated noise and gain fluctuations, and the products presented here support - for the first time - full Bayesian error propagation for these effects at full angular resolution. We compare our posterior mean maps with traditional frequency maps delivered by the Planck collaboration, and find generally good agreement. The most important quality improvement is due to significantly lower calibration uncertainties in the new processing, as we find a fractional absolute calibration uncertainty at 70 GHz of $\\delta g_{0}/g_{0} =5 \\cdot 10^{-5}$, which is nominally 40 times smaller than that reported by Planck 2018. However, the original Planck 2018 estimate has a non-trivial statistical interpretation, and this further illustrates the advantage of the new framework in terms of producing self-consistent and well-defined error estimates of all involved quantities without the need of ad hoc uncertainty contributions. We describe how low-resolution data products, including dense pixel-pixel covariance matrices, may be produced directly from the posterior samples without the need for computationally expensive analytic calculations or simulations. We conclude that posterior-based frequency map sampling provides unique capabilities in terms of low-level systematics modelling and error propagation, and may play an important role for future CMB B-mode experiments. (Abridged.) |\n",
       "|<p style=\"color:green\"> **ERROR** </p>| <p style=\"color:green\">affiliation error: mpia.affiliation_verifications: 'Heidelberg' keyword not found.</p> |"
      ],
      "text/plain": [
       "<IPython.core.display.Markdown object>"
      ]
     },
     "metadata": {},
     "output_type": "display_data"
    },
    {
     "data": {
      "text/markdown": [
       "\n",
       "|||\n",
       "|---:|:---|\n",
       "| [![arXiv](https://img.shields.io/badge/arXiv-arXiv:2208.14333-b31b1b.svg)](https://arxiv.org/abs/arXiv:2208.14333) | **Detection of GeV emission from an ultra-long gamma-ray burst with the  Fermi Large Area Telescope**  |\n",
       "|| Yi-Yun Huang, et al. -- incl., <mark>Hai-Ming Zhang</mark> |\n",
       "|*Appeared on*| *2022-08-31*|\n",
       "|*Comments*| *11 pages, 3 figures, 2 tables, submitted to ApJ*|\n",
       "|**Abstract**| GRB 220627A, detected by Fermi GBM, shows two episodes of gamma-ray emission, which are separated by a {$\\sim$700} s-long quiescent phase. Due to similar temporal shapes and spectra in the two episodes, GRB 220627A is speculated to be a gravitationally-lensed GRB. We analyze the Fermi-LAT data and find that about 49 gamma-ray photons above 100 MeV come from the GRB during the first episode, while there is no GeV photons detected in the second episode. Based on the broad-band spectral study of the two episodes, the gravitationally-lensing scenario can be ruled out at a high confidence level and we thus conclude that GRB 220627A is an intrinsically ultra-long GRB with the prompt burst emission lasting longer than 1000 s. It is then the first case that GeV emission is detected from an ultra-long GRB. We find that a short spike seen in the LAT light curve is also present in GBM detectors that see the burst, suggesting a common internal region of emission across the entire Fermi energy range. The detection of a 15.7-GeV photon during the early prompt phase places a lower limit of $\\Gamma\\ge300$ on the bulk Lorentz factor of the GRB ejecta. The constraint on the bulk Lorentz factor could shed light on the origin of ultra-long GRBs. |\n",
       "|<p style=\"color:green\"> **ERROR** </p>| <p style=\"color:green\">affiliation error: mpia.affiliation_verifications: 'Heidelberg' keyword not found.</p> |"
      ],
      "text/plain": [
       "<IPython.core.display.Markdown object>"
      ]
     },
     "metadata": {},
     "output_type": "display_data"
    },
    {
     "data": {
      "text/markdown": [
       "\n",
       "|||\n",
       "|---:|:---|\n",
       "| [![arXiv](https://img.shields.io/badge/arXiv-arXiv:2208.14159-b31b1b.svg)](https://arxiv.org/abs/arXiv:2208.14159) | **Development of the characterization methods without electrothermal  feedback for TES bolometers for CMB measurements**  |\n",
       "|| Yume Nishinomiya, et al. -- incl., <mark>Adrian Lee</mark>, <mark>Heather McCarrick</mark> |\n",
       "|*Appeared on*| *2022-08-31*|\n",
       "|*Comments*| *7 pages, 6 figures, LTD19 Conference Proceedings*|\n",
       "|**Abstract**| Superconducting Transition-Edge Sensor (TES) bolometers are used for cosmic microwave background (CMB) observations. We used a testbed to evaluate the thermal performance of TES bolometers in regard to the saturation power Psat and intrinsic thermal time constant tau0. We developed an evaluation method that is complementary to methods with electrothermal feedback. In our method, the antenna termination resistor of the bolometer is directly biased with DC or AC electric power to simulate optical power, and the TES is biased with small power, which allows Psat and tau0 to be determined without contribution from the negative electrothermal feedback. We describe the method and results of the measurement using it. We evaluated Psat of five samples by applying DC power and confirmed the overall trend between Psat and the inverse leg length. We evaluated tau0 of the samples by applying DC plus AC power, and the measured value was reasonable in consideration of the expected values of other TES parameters. This evaluation method enables us to verify whether a TES has been fabricated with the designed values and to provide feedback for fabrication for future CMB observations. |\n",
       "|<p style=\"color:green\"> **ERROR** </p>| <p style=\"color:green\">affiliation error: mpia.affiliation_verifications: 'Max' keyword not found.</p> |"
      ],
      "text/plain": [
       "<IPython.core.display.Markdown object>"
      ]
     },
     "metadata": {},
     "output_type": "display_data"
    },
    {
     "data": {
      "text/markdown": [
       "\n",
       "|||\n",
       "|---:|:---|\n",
       "| [![arXiv](https://img.shields.io/badge/arXiv-arXiv:2208.13806-b31b1b.svg)](https://arxiv.org/abs/arXiv:2208.13806) | **Depletion of gaseous CO in protoplanetary disks by  surface-energy-regulated ice formation**  |\n",
       "|| Diana Powell, Peter Gao, Ruth Murray-Clay, <mark>Xi Zhang</mark> |\n",
       "|*Appeared on*| *2022-08-31*|\n",
       "|*Comments*| *Published in Nature Astronomy (2022), includes supplementary material*|\n",
       "|**Abstract**| Empirical constraints of fundamental properties of protoplanetary disks are essential for understanding planet formation and planetary properties (1,2). Carbon monoxide (CO) gas is often used to constrain disk properties (3). However, estimates show that the CO gas abundance in disks is depleted relative to expected values (4,5,6,7), and models of various disk processes impacting the CO abundance could not explain this depletion on observed 1Myr timescales (8,9,10,11,12,13,14). Here we demonstrate that surface energy effects on particles in disks, such as the Kelvin effect, that arise when ice heterogeneously nucleates onto an existing particle can efficiently trap CO in its ice phase. In previous ice formation models, CO gas was released when small ice-coated particles were lofted to warmed disk layers. Our model can reproduce the observed abundance, distribution and time evolution of gaseous CO in the four most studied protoplanetary disks (7). We constrain the solid and gaseous CO inventory at the midplane and disk diffusivities and resolve inconsistencies in estimates of the disk mass -- three crucial parameters that control planetary formation. |\n",
       "|<p style=\"color:red\"> **ERROR** </p>| <p style=\"color:red\">latex error not a gzip file</p> |"
      ],
      "text/plain": [
       "<IPython.core.display.Markdown object>"
      ]
     },
     "metadata": {},
     "output_type": "display_data"
    }
   ],
   "source": [
    "import datetime\n",
    "today = str(datetime.date.today())\n",
    "logfile = f\"_build/html/logs/log-{today}.md\"\n",
    "\n",
    "\n",
    "with open(logfile, 'w') as logs:\n",
    "    # Success\n",
    "    logs.write(f'# Arxiv on Deck 2: Logs - {today}\\n\\n')\n",
    "    logs.write(\"\"\"* Arxiv had {0:,d} new papers\\n\"\"\".format(len(new_papers)))\n",
    "    logs.write(\"\"\"    * {0:,d} with possible author matches\\n\\n\"\"\".format(len(candidates)))\n",
    "    logs.write(\"## Sucessful papers\\n\\n\")\n",
    "    display(Markdown(\"## Successful papers\"))\n",
    "    success = [k[0] for k in documents]\n",
    "    for candid in candidates:\n",
    "        if candid['identifier'].split(':')[-1] in success:\n",
    "            display(candid)\n",
    "            logs.write(candid.generate_markdown_text() + '\\n\\n')\n",
    "\n",
    "    ## failed\n",
    "    logs.write(\"## Failed papers\\n\\n\")\n",
    "    display(Markdown(\"## Failed papers\"))\n",
    "    failed = sorted(failed, key=lambda x: x[1])\n",
    "    current_reason = \"\"\n",
    "    for paper, reason in failed:\n",
    "        if 'affiliation' in reason:\n",
    "            color = 'green'\n",
    "        else:\n",
    "            color = 'red'\n",
    "        data = Markdown(\n",
    "                paper.generate_markdown_text() + \n",
    "                f'\\n|<p style=\"color:{color:s}\"> **ERROR** </p>| <p style=\"color:{color:s}\">{reason:s}</p> |'\n",
    "               )\n",
    "        if reason != current_reason:\n",
    "            logs.write(f'### {reason:s} \\n\\n')\n",
    "            current_reason = reason\n",
    "        logs.write(data.data + '\\n\\n')\n",
    "        \n",
    "        # only display here the important errors (all in logs)\n",
    "        # if color in ('red',):\n",
    "        display(data)"
   ]
  },
  {
   "cell_type": "markdown",
   "id": "472d20ee",
   "metadata": {
    "papermill": {
     "duration": 0.011774,
     "end_time": "2022-08-31T07:32:25.619660",
     "exception": false,
     "start_time": "2022-08-31T07:32:25.607886",
     "status": "completed"
    },
    "tags": []
   },
   "source": [
    "## Export documents\n",
    "\n",
    "We now write the .md files and export relevant images"
   ]
  },
  {
   "cell_type": "code",
   "execution_count": 7,
   "id": "d426aed9",
   "metadata": {
    "execution": {
     "iopub.execute_input": "2022-08-31T07:32:25.644711Z",
     "iopub.status.busy": "2022-08-31T07:32:25.643876Z",
     "iopub.status.idle": "2022-08-31T07:32:25.654034Z",
     "shell.execute_reply": "2022-08-31T07:32:25.653228Z"
    },
    "papermill": {
     "duration": 0.024857,
     "end_time": "2022-08-31T07:32:25.655884",
     "exception": false,
     "start_time": "2022-08-31T07:32:25.631027",
     "status": "completed"
    },
    "tags": []
   },
   "outputs": [],
   "source": [
    "def export_markdown_summary(md: str, md_fname:str, directory: str):\n",
    "    \"\"\"Export MD document and associated relevant images\"\"\"\n",
    "    import os\n",
    "    import shutil\n",
    "    import re\n",
    "\n",
    "    if (os.path.exists(directory) and not os.path.isdir(directory)):\n",
    "        raise RuntimeError(f\"a non-directory file exists with name {directory:s}\")\n",
    "\n",
    "    if (not os.path.exists(directory)):\n",
    "        print(f\"creating directory {directory:s}\")\n",
    "        os.mkdir(directory)\n",
    "\n",
    "    fig_fnames = (re.compile(r'\\[Fig.*\\]\\((.*)\\)').findall(md) + \n",
    "                  re.compile(r'\\<img src=\"([^>\\s]*)\"[^>]*/>').findall(md))\n",
    "    for fname in fig_fnames:\n",
    "        if 'http' in fname:\n",
    "            # No need to copy online figures\n",
    "            continue\n",
    "        destdir = os.path.join(directory, os.path.dirname(fname))\n",
    "        destfname = os.path.join(destdir, os.path.basename(fname))\n",
    "        try:\n",
    "            os.makedirs(destdir)\n",
    "        except FileExistsError:\n",
    "            pass\n",
    "        shutil.copy(fname, destfname)\n",
    "    with open(os.path.join(directory, md_fname), 'w') as fout:\n",
    "        fout.write(md)\n",
    "    print(\"exported in \", os.path.join(directory, md_fname))\n",
    "    [print(\"    + \" + os.path.join(directory,fk)) for fk in fig_fnames]"
   ]
  },
  {
   "cell_type": "code",
   "execution_count": 8,
   "id": "014d04a4",
   "metadata": {
    "execution": {
     "iopub.execute_input": "2022-08-31T07:32:25.688510Z",
     "iopub.status.busy": "2022-08-31T07:32:25.687665Z",
     "iopub.status.idle": "2022-08-31T07:32:25.699335Z",
     "shell.execute_reply": "2022-08-31T07:32:25.698512Z"
    },
    "papermill": {
     "duration": 0.026875,
     "end_time": "2022-08-31T07:32:25.701216",
     "exception": false,
     "start_time": "2022-08-31T07:32:25.674341",
     "status": "completed"
    },
    "tags": []
   },
   "outputs": [
    {
     "name": "stdout",
     "output_type": "stream",
     "text": [
      "exported in  _build/html/2208.13791.md\n",
      "    + _build/html/tmp_2208.13791/././plots/kine.png\n",
      "    + _build/html/tmp_2208.13791/././plots/bah.png\n",
      "    + _build/html/tmp_2208.13791/././plots/teff_DR3.png\n",
      "    + _build/html/tmp_2208.13791/././plots/logg_DR3.png\n",
      "    + _build/html/tmp_2208.13791/././plots/met_DR3.png\n"
     ]
    }
   ],
   "source": [
    "for paper_id, md in documents:\n",
    "    export_markdown_summary(md, f\"{paper_id:s}.md\", '_build/html/')"
   ]
  },
  {
   "cell_type": "markdown",
   "id": "f087a0a7",
   "metadata": {
    "papermill": {
     "duration": 0.011257,
     "end_time": "2022-08-31T07:32:25.723775",
     "exception": false,
     "start_time": "2022-08-31T07:32:25.712518",
     "status": "completed"
    },
    "tags": []
   },
   "source": [
    "## Display the papers\n",
    "\n",
    "Not necessary but allows for a quick check."
   ]
  },
  {
   "cell_type": "code",
   "execution_count": 9,
   "id": "fd25f625",
   "metadata": {
    "execution": {
     "iopub.execute_input": "2022-08-31T07:32:25.748577Z",
     "iopub.status.busy": "2022-08-31T07:32:25.747858Z",
     "iopub.status.idle": "2022-08-31T07:32:25.754782Z",
     "shell.execute_reply": "2022-08-31T07:32:25.753998Z"
    },
    "papermill": {
     "duration": 0.021493,
     "end_time": "2022-08-31T07:32:25.756594",
     "exception": false,
     "start_time": "2022-08-31T07:32:25.735101",
     "status": "completed"
    },
    "scrolled": false,
    "tags": []
   },
   "outputs": [
    {
     "data": {
      "text/markdown": [
       "<div class=\"macros\" style=\"visibility:hidden;\">\n",
       "$\\newcommand{\\ensuremath}{}$\n",
       "$\\newcommand{\\xspace}{}$\n",
       "$\\newcommand{\\object}[1]{\\texttt{#1}}$\n",
       "$\\newcommand{\\farcs}{{.}''}$\n",
       "$\\newcommand{\\farcm}{{.}'}$\n",
       "$\\newcommand{\\arcsec}{''}$\n",
       "$\\newcommand{\\arcmin}{'}$\n",
       "$\\newcommand{\\ion}[2]{#1#2}$\n",
       "$\\newcommand{\\textsc}[1]{\\textrm{#1}}$\n",
       "$\\newcommand{\\hl}[1]{\\textrm{#1}}$\n",
       "$\\newcommand{\\ubar}[1]{\\underaccent{\\bar}{#1}}$\n",
       "$\\newcommand{\\fmmm}[1]{\\mbox{#1}}$\n",
       "$\\newcommand{\\scnd}{\\mbox{\\fmmm{\"}\\hskip-0.3em .}}$\n",
       "$\\newcommand{\\scnp}{\\mbox{\\fmmm{\"}}}$\n",
       "$\\newcommand{\\mcnd}{\\mbox{\\fmmm{'}\\hskip-0.3em .}}$\n",
       "$\\newcommand{\\ang}{\\textup{\\AA} }$\n",
       "$\\newcommand{\\kv}[1]{\\textcolor{red}{#1}}$\n",
       "$\\newcommand{\\pmu}{\\muas yr^{-1}}$\n",
       "$\\newcommand{\\teff}{T_{\\rm eff}}$\n",
       "$\\newcommand{\\logg}{log g}$\n",
       "$\\newcommand{\\Pristine}{{\\it Pristine}}$\n",
       "$\\newcommand{\\Gaia}{{\\it Gaia}}$\n",
       "$\\newcommand{\\ltsima}{\\; \\buildrel < \\over \\sim \\;}$\n",
       "$\\newcommand{\\lta}{\\lower.5ex\\hbox{\\ltsima}}$\n",
       "$\\newcommand{\\gtsima}{\\; \\buildrel > \\over \\sim \\;}$\n",
       "$\\newcommand{\\simgt}{\\lower.5ex\\hbox{\\gtsima}}$\n",
       "$\\newcommand{\\erf}{\\mathop{\\rm erf}\\nolimits}$\n",
       "$\\newcommand{\\sech}{ \\mathop{\\rm sech}\\nolimits}$\n",
       "$\\newcommand{\\csch}{ \\mathop{\\rm csch}\\nolimits}$\n",
       "$\\newcommand{\\arcsinh}{\\mathop{\\rm arcsinh}\\nolimits}$\n",
       "$\\newcommand{\\arccosh}{\\mathop{\\rm arccosh}\\nolimits}$\n",
       "$\\newcommand{\\arctanh}{\\mathop{\\rm arctanh}\\nolimits}$\n",
       "$\\newcommand{\\arccoth}{\\mathop{\\rm arccoth}\\nolimits}$\n",
       "$\\newcommand{\\arcsech}{\\mathop{\\rm arcsech}\\nolimits}$\n",
       "$\\newcommand{\\arccsch}{\\mathop{\\rm arccsch}\\nolimits}$\n",
       "$\\newcommand{\\arccot}{\\mathop{\\rm arccot}\\nolimits}$\n",
       "$\\newcommand{\\arcsec}{\\mathop{\\rm arcsec}\\nolimits}$\n",
       "$\\newcommand{\\arccsc}{\\mathop{\\rm arccsc}\\nolimits}$\n",
       "$\\newcommand{\\ylm}{\\mathop{\\rm Y}_l^m\\nolimits}$\n",
       "$\\newcommand{\\ylmp}{\\mathop{\\rm Y}_{l'}^{m'}\\nolimits}$\n",
       "$\\newcommand{\\real}{\\Re e}$\n",
       "$\\newcommand{\\imag}{\\Im m}$\n",
       "$\\newcommand{\\km}{{\\rm km}}$\n",
       "$\\newcommand{\\kms}{{\\rm km   s^{-1}}}$\n",
       "$\\newcommand{\\mas}{{\\rm mas}}$\n",
       "$\\newcommand{\\masyr}{{\\rm mas/yr}}$\n",
       "$\\newcommand{\\kpc}{{\\rm kpc}}$\n",
       "$\\newcommand{\\mpc}{{\\rm Mpc}}$\n",
       "$\\newcommand{\\msun}{{\\rm M_\\odot}}$\n",
       "$\\newcommand{\\lsun}{{\\rm L_\\odot}}$\n",
       "$\\newcommand{\\rsun}{{\\rm R_\\odot}}$\n",
       "$\\newcommand{\\pc}{{\\rm pc}}$\n",
       "$\\newcommand{\\cm}{{\\rm cm}}$\n",
       "$\\newcommand{\\yr}{{\\rm yr}}$\n",
       "$\\newcommand{\\au}{{\\rm AU}}$\n",
       "$\\newcommand{\\g}{{\\rm g}}$\n",
       "$\\newcommand{\\om}{\\Omega_0}$\n",
       "$\\newcommand{\\}{ca}$\n",
       "$\\newcommand{\\}{magnitude}$\n",
       "$\\newcommand{\\kr}{{\\cal K}_r}$\n",
       "$\\newcommand{\\kz}{{\\cal K}_z}$\n",
       "$\\newcommand{\\kzz}{{\\cal K}_z(z)}$\n",
       "$\\newcommand{\\mss}{{\\rm M}_\\odot \\rm pc^{-2}}$\n",
       "$\\newcommand{\\msss}{{\\rm M}_\\odot \\rm pc^{-3}}$\n",
       "$\\newcommand{\\yr}{{\\rm yr}}$\n",
       "$\\newcommand{\\CompactFigs}{0}$\n",
       "$\\newcommand{\\UseFigs}{1}$\n",
       "$\\newcommand{\\deg}{^\\circ}$\n",
       "$\\newcommand{\\degg}{\\hbox{\\null^\\circ\\hskip-3pt .}}$\n",
       "$\\newcommand{\\sec}{\\hbox{\"\\hskip-3pt .}}$\n",
       "$\\newcommand{\\half}{{\\scriptstyle{1\\over2}}}$\n",
       "$\\newcommand{\\s}{\\ifmmode \\widetilde \\else \\~\\fi}$\n",
       "$\\newcommand{\\=}{\\overline}$\n",
       "$\\newcommand{\\scre}{{\\cal E}}$\n",
       "$\\newcommand{\\}{spose}$\n",
       "$\\newcommand{\\larrow}{\\leftarrow}$\n",
       "$\\newcommand{\\rarrow}{\\rightarrow}$\n",
       "$\\newcommand{\\llangle}{\\langle\\langle}$\n",
       "$\\newcommand{\\rrangle}{\\rangle\\rangle}$\n",
       "$\\newcommand{\\etal}{{\\it et al. }}$\n",
       "$\\newcommand{\\cf}{{\\it cf. }}$\n",
       "$\\newcommand{\\eg}{{e.g., }}$\n",
       "$\\newcommand{\\ie}{{i.e., }}$\n",
       "$\\newcommand{\\lta}{\\mathrel{\\spose{\\lower 3pt\\hbox{\\mathchar\"218}}$\n",
       "$     \\raise 2.0pt\\hbox{\\mathchar\"13C}}}$\n",
       "$\\newcommand{\\gta}{\\mathrel{\\spose{\\lower 3pt\\hbox{\\mathchar\"218}}$\n",
       "$     \\raise 2.0pt\\hbox{\\mathchar\"13E}}}$\n",
       "$\\newcommand{\\Dt}{\\spose{\\raise 1.5ex\\hbox{\\hskip3pt\\mathchar\"201}}}$\n",
       "$\\newcommand{\\dt}{\\spose{\\raise 1.0ex\\hbox{\\hskip2pt\\mathchar\"201}}}$\n",
       "$\\newcommand{\\del}{\\nabla}$\n",
       "$\\newcommand{\\delv}{\\bb\\nabla}$\n",
       "$\\newcommand{\\jla}{J_{\\lambda}}$\n",
       "$\\newcommand{\\jmu}{J_{\\mu}}$\n",
       "$\\newcommand{\\jnu}{J_{\\nu}}$\n",
       "$\\newcommand{\\pomega}{\\varpi}$\n",
       "$\\newcommand{\\sigla}{\\sigma_{\\lambda}}$\n",
       "$\\newcommand{\\sigmu}{\\sigma_{\\mu}}$\n",
       "$\\newcommand{\\signu}{\\sigma_{\\nu}}$\n",
       "$\\newcommand{\\dotsfill}{\\leaders\\hbox to 1em{\\hss.\\hss}\\hfill}$\n",
       "$\\newcommand{\\sun}{\\odot}$\n",
       "$\\newcommand{\\earth}{\\oplus}$\n",
       "$\\newcommand{\\Gyr}{{\\rm Gyr}}$\n",
       "$\\newcommand{\\FeH}{{\\rm[Fe/H]}}$\n",
       "$\\newcommand{\\kmsd}{{\\rm km/s/degree}}$\n",
       "$\\newcommand{\\ione}{{~\\sc i}}$\n",
       "$\\newcommand{\\ii}{{~\\sc ii}}$\n",
       "$\\newcommand{\\}{Fed}$</div>\n",
       "\n",
       "<div class=\"macros\" style=\"visibility:hidden;\">\n",
       "$\\newcommand{$\\ensuremath$}{}$\n",
       "$\\newcommand{$\\xspace$}{}$\n",
       "$\\newcommand{$\\object$}[1]{\\texttt{#1}}$\n",
       "$\\newcommand{$\\farcs$}{{.}''}$\n",
       "$\\newcommand{$\\farcm$}{{.}'}$\n",
       "$\\newcommand{$\\arcsec$}{''}$\n",
       "$\\newcommand{$\\arcmin$}{'}$\n",
       "$\\newcommand{$\\ion$}[2]{#1#2}$\n",
       "$\\newcommand{$\\textsc$}[1]{\\textrm{#1}}$\n",
       "$\\newcommand{$\\hl$}[1]{\\textrm{#1}}$\n",
       "$\\newcommand{$\\ubar$}[1]{\\underaccent{\\bar}{#1}}$\n",
       "$\\newcommand{$\\fmmm$}[1]{\\mbox{#1}}$\n",
       "$\\newcommand{$\\scnd$}{\\mbox{$\\fmmm${\"}\\hskip-0.3em .}}$\n",
       "$\\newcommand{$\\scnp$}{\\mbox{$\\fmmm${\"}}}$\n",
       "$\\newcommand{$\\mcnd$}{\\mbox{$\\fmmm${'}\\hskip-0.3em .}}$\n",
       "$\\newcommand{$\\ang$}{\\textup{\\AA} }$\n",
       "$\\newcommand{$\\kv$}[1]{\\textcolor{red}{#1}}$\n",
       "$\\newcommand{$\\pmu$}{\\muas yr^{-1}}$\n",
       "$\\newcommand{$\\teff$}{T_{\\rm eff}}$\n",
       "$\\newcommand{$\\logg$}{log g}$\n",
       "$\\newcommand{$\\Pristine$}{{\\it Pristine}}$\n",
       "$\\newcommand{$\\Gaia$}{{\\it Gaia}}$\n",
       "$\\newcommand{$\\ltsima$}{\\; \\buildrel < \\over $\\s$im \\;}$\n",
       "$\\newcommand{$\\lta$}{\\lower.5ex\\hbox{$\\ltsima$}}$\n",
       "$\\newcommand{$\\gtsima$}{\\; \\buildrel > \\over $\\s$im \\;}$\n",
       "$\\newcommand{$\\simgt$}{\\lower.5ex\\hbox{$\\gtsima$}}$\n",
       "$\\newcommand{$\\erf$}{\\mathop{\\rm erf}\\nolimits}$\n",
       "$\\newcommand{$\\sech$}{ \\mathop{\\rm sech}\\nolimits}$\n",
       "$\\newcommand{$\\csch$}{ \\mathop{\\rm csch}\\nolimits}$\n",
       "$\\newcommand{$\\arcsinh$}{\\mathop{\\rm arcsinh}\\nolimits}$\n",
       "$\\newcommand{$\\arccosh$}{\\mathop{\\rm arccosh}\\nolimits}$\n",
       "$\\newcommand{$\\arctanh$}{\\mathop{\\rm arctanh}\\nolimits}$\n",
       "$\\newcommand{$\\arccoth$}{\\mathop{\\rm arccoth}\\nolimits}$\n",
       "$\\newcommand{$\\arcsec$h}{\\mathop{\\rm arcsech}\\nolimits}$\n",
       "$\\newcommand{$\\arccsch$}{\\mathop{\\rm arccsch}\\nolimits}$\n",
       "$\\newcommand{$\\arccot$}{\\mathop{\\rm arccot}\\nolimits}$\n",
       "$\\newcommand{$\\arcsec$}{\\mathop{\\rm arcsec}\\nolimits}$\n",
       "$\\newcommand{$\\arccsc$}{\\mathop{\\rm arccsc}\\nolimits}$\n",
       "$\\newcommand{$\\ylm$}{\\mathop{\\rm Y}_l^m\\nolimits}$\n",
       "$\\newcommand{$\\ylm$p}{\\mathop{\\rm Y}_{l'}^{m'}\\nolimits}$\n",
       "$\\newcommand{$\\real$}{\\Re e}$\n",
       "$\\newcommand{$\\imag$}{\\Im m}$\n",
       "$\\newcommand{$\\km$}{{\\rm km}}$\n",
       "$\\newcommand{$\\km$s}{{\\rm km   s^{-1}}}$\n",
       "$\\newcommand{$\\mas$}{{\\rm mas}}$\n",
       "$\\newcommand{$\\mas$yr}{{\\rm mas/yr}}$\n",
       "$\\newcommand{$\\kpc$}{{\\rm kpc}}$\n",
       "$\\newcommand{$\\mpc$}{{\\rm Mpc}}$\n",
       "$\\newcommand{$\\msun$}{{\\rm M_\\odot}}$\n",
       "$\\newcommand{$\\lsun$}{{\\rm L_\\odot}}$\n",
       "$\\newcommand{$\\rsun$}{{\\rm R_\\odot}}$\n",
       "$\\newcommand{$\\pc$}{{\\rm pc}}$\n",
       "$\\newcommand{$\\cm$}{{\\rm cm}}$\n",
       "$\\newcommand{$\\yr$}{{\\rm yr}}$\n",
       "$\\newcommand{$\\au$}{{\\rm AU}}$\n",
       "$\\newcommand{$\\g$}{{\\rm g}}$\n",
       "$\\newcommand{$\\om$}{\\Omega_0}$\n",
       "$\\newcommand{\\}{ca}$\n",
       "$\\newcommand{\\}{magnitude}$\n",
       "$\\newcommand{$\\kr$}{{\\cal K}_r}$\n",
       "$\\newcommand{$\\kz$}{{\\cal K}_z}$\n",
       "$\\newcommand{$\\kz$z}{{\\cal K}_z(z)}$\n",
       "$\\newcommand{$\\mss$}{{\\rm M}_\\odot \\rm pc^{-2}}$\n",
       "$\\newcommand{$\\mss$s}{{\\rm M}_\\odot \\rm pc^{-3}}$\n",
       "$\\newcommand{$\\yr$}{{\\rm yr}}$\n",
       "$\\newcommand{$\\CompactFigs$}{0}$\n",
       "$\\newcommand{$\\UseFigs$}{1}$\n",
       "$\\newcommand{$\\deg$}{^\\circ}$\n",
       "$\\newcommand{$\\deg$g}{\\hbox{\\null^\\circ\\hskip-3pt .}}$\n",
       "$\\newcommand{$\\sec$}{\\hbox{\"\\hskip-3pt .}}$\n",
       "$\\newcommand{$\\half$}{{$\\s$criptstyle{1\\over2}}}$\n",
       "$\\newcommand{$\\s$}{\\ifmmode \\widetilde \\else \\~\\fi}$\n",
       "$\\newcommand{\\=}{\\overline}$\n",
       "$\\newcommand{$\\s$cre}{{\\cal E}}$\n",
       "$\\newcommand{\\}{spose}$\n",
       "$\\newcommand{$\\larrow$}{\\leftarrow}$\n",
       "$\\newcommand{$\\rarrow$}{\\rightarrow}$\n",
       "$\\newcommand{$\\llangle$}{\\langle\\langle}$\n",
       "$\\newcommand{$\\rrangle$}{\\rangle\\rangle}$\n",
       "$\\newcommand{$\\etal$}{{\\it et al. }}$\n",
       "$\\newcommand{$\\cf$}{{\\it cf. }}$\n",
       "$\\newcommand{$\\eg$}{{e.g., }}$\n",
       "$\\newcommand{$\\ie$}{{i.e., }}$\n",
       "$\\newcommand{$\\lta$}{\\mathrel{$\\s$pose{\\lower 3pt\\hbox{\\mathchar\"218}}$\n",
       "$     \\raise 2.0pt\\hbox{\\mathchar\"13C}}}$\n",
       "$\\newcommand{$\\g$ta}{\\mathrel{$\\s$pose{\\lower 3pt\\hbox{\\mathchar\"218}}$\n",
       "$     \\raise 2.0pt\\hbox{\\mathchar\"13E}}}$\n",
       "$\\newcommand{$\\Dt$}{$\\s$pose{\\raise 1.5ex\\hbox{\\hskip3pt\\mathchar\"201}}}$\n",
       "$\\newcommand{$\\dt$}{$\\s$pose{\\raise 1.0ex\\hbox{\\hskip2pt\\mathchar\"201}}}$\n",
       "$\\newcommand{$\\del$}{\\nabla}$\n",
       "$\\newcommand{$\\del$v}{\\bb\\nabla}$\n",
       "$\\newcommand{$\\jla$}{J_{\\lambda}}$\n",
       "$\\newcommand{$\\jmu$}{J_{\\mu}}$\n",
       "$\\newcommand{$\\jnu$}{J_{\\nu}}$\n",
       "$\\newcommand{$\\pomega$}{\\varpi}$\n",
       "$\\newcommand{$\\s$igla}{$\\s$igma_{\\lambda}}$\n",
       "$\\newcommand{$\\s$igmu}{$\\s$igma_{\\mu}}$\n",
       "$\\newcommand{$\\s$ignu}{$\\s$igma_{\\nu}}$\n",
       "$\\newcommand{$\\dotsfill$}{\\leaders\\hbox to 1em{\\hss.\\hss}\\hfill}$\n",
       "$\\newcommand{$\\s$un}{\\odot}$\n",
       "$\\newcommand{$\\earth$}{\\oplus}$\n",
       "$\\newcommand{$\\Gyr$}{{\\rm Gyr}}$\n",
       "$\\newcommand{$\\FeH$}{{\\rm[Fe/H]}}$\n",
       "$\\newcommand{$\\km$sd}{{\\rm km/s/degree}}$\n",
       "$\\newcommand{$\\ion$e}{{~$\\s$c i}}$\n",
       "$\\newcommand{$\\ii$}{{~$\\s$c ii}}$\n",
       "$\\newcommand{\\}{Fed}$</div>\n",
       "\n",
       "\n",
       "\n",
       "<div id=\"title\">\n",
       "\n",
       "# The Pristine Inner Galaxy Survey (PIGS) V: a chemo-dynamical investigation of the early assembly of the Milky Way with the most metal-poor stars in the bulge\n",
       "\n",
       "</div>\n",
       "<div id=\"comments\">\n",
       "\n",
       "[![arXiv](https://img.shields.io/badge/arXiv-2208.13791-b31b1b.svg)](https://arxiv.org/abs/2208.13791)<mark>Appeared on: 2022-08-31</mark> - _22 pages + appendix, 14 Figures + 3 in the appendix, submitted to MNRAS_\n",
       "\n",
       "</div>\n",
       "<div id=\"authors\">\n",
       "\n",
       "Federico Sestito, et al. -- incl., <mark><mark>Jonay I. González Hernández</mark></mark>\n",
       "\n",
       "</div>\n",
       "<div id=\"abstract\">\n",
       "\n",
       "**Abstract:** The investigation of the  metal-poor tail in the Galactic bulge provides unique information on the early Milky Way assembly and evolution. A chemo-dynamical analysis of 17 very metal-poor stars (VMP,$\\FeH$$<-2.0$) selected from the Pristine Inner Galaxy Survey was carried out  based on  Gemini/GRACES spectra. The chemical abundances of$\\alpha-$elements (Mg, Ca, and Ti), odd-Z  (Na, K, and Sc), Fe-peak (Cr and Ni), and neutron-capture  (Ba) elements are determined from model atmosphere analyses. The chemistry suggests that the majority of our stars are very similar to metal-poor stars in the Galactic halo.  Orbits calculated from{\\it Gaia}EDR3 imply these stars are brought into the bulge during the earliest Galactic assembly. Most of our stars have large[Na,Ca/Mg]abundances, and thus show little evidence of enrichment by pair-instability supernovae.Two of our stars (P171457, P184700) have chemical abundances compatible with second-generation globular cluster stars, suggestive of the presence of ancient and now dissolved globular clusters in the inner Galaxy. One of them (P171457) is extremely metal-poor ($\\FeH$$<-3.0$) and well below the metallicity floor of globular clusters, which  supports the growing evidence for the existence of lower-metallicity globular clusters in the early Universe.A third star (P180956,[Fe/H]$\\sim-2$) has low[Na,Ca/Mg]and very low[Ba/Fe]for its metallicity, which are consistent with formation in a system polluted by only one or a few low-mass supernovae. Interestingly, its orbit is confined to the Galactic plane, like other very metal-poor stars found in the literature, which have been associated with the earliest building blocks of the Milky Way.\n",
       "\n",
       "</div>\n",
       "\n",
       "<div id=\"div_fig1\">\n",
       "\n",
       "<img src=\"tmp_2208.13791/././plots/kine.png\" alt=\"Fig14\" width=\"100%\"/>\n",
       "\n",
       "**Figure 14. -** Orbital parameters of the targets observed with GRACES. The GRACES sample is divided into 4 dynamical groups according to their $r_{\\rm apo}$$Z_{\\rm max}$. The bulge group is marked with blue stars, the confined group is denoted with blue rhombuses, except for the one with largest $r_{\\rm apo}$(magenta rhombus), the inner halo grop with red circles, and the outer halo star with black square. Stars with metallicities below [Fe/H]=$-1.7$  from \\citet{Howes14, Howes15, Howes16,Lucey22} are shown as light blue circles. The grey shaded area denotes the forbidden region in which  $Z_{\\rm max}$>$r_{\\rm apo}$. Vertical and horizontal lines separate the groups as defined in Section \\ref{orbsec}.   (*kinefig*)\n",
       "\n",
       "</div>\n",
       "<div id=\"div_fig2\">\n",
       "\n",
       "<img src=\"tmp_2208.13791/././plots/bah.png\" alt=\"Fig7\" width=\"100%\"/>\n",
       "\n",
       "**Figure 7. -** [Ba/H] vs. $\\FeH$. Ba abundances are not corrected by NLTE effect (see Section \\ref{nltesec}). The stars in the PIGS/GRACES sample are marked with the same symbols and colours as Figure \\ref{kinefig}. The bulge literature sample (blue circles) is composed by stars from \\citet{Howes14,Howes15,Howes16,Koch16,Reggiani20,Lucey22}. Halo literature compilation (grey squares) are from \\citet{Aoki13,Yong13,Kielty21}. The two Ba-rich stars are C-enhanced stars, therefore they high Ba is produced by the accretion of material from an AGB companion (see Section \\ref{cempsec} and \\ref{cempgc}. The low-Ba star (magenta diamond marker) is likely accreted from a dwarf galaxy (see Section \\ref{planarsec} and Figure \\ref{badwarf}). The majority of the sample possesses a [Ba/H] ratio very similar to the MW halo stars at the same $\\FeH$(see Section \\ref{nonpeculiar}). (*bafig*)\n",
       "\n",
       "</div>\n",
       "<div id=\"div_fig3\">\n",
       "\n",
       "<img src=\"tmp_2208.13791/././plots/teff_DR3.png\" alt=\"Fig12.1\" width=\"33%\"/><img src=\"tmp_2208.13791/././plots/logg_DR3.png\" alt=\"Fig12.2\" width=\"33%\"/><img src=\"tmp_2208.13791/././plots/met_DR3.png\" alt=\"Fig12.3\" width=\"33%\"/>\n",
       "\n",
       "**Figure 12. -** Comparison of the stellar parameters from  {\\it Gaia} DR3. Top panel: Effective temperature. Central panel: Surface gravity. Bottom panel: Metallicity. Blue circles are the stars from this work, black shaded circles and squares are stars from the COMBS \\citep{Lucey22} and EMBLA \\citep{Howes14,Howes15,Howes16} surveys, respectively. Black lines are the 1:1 comparisons. The agreement between the stellar parameters from {\\it Gaia} DR3 and the spectroscopic ones are very poor as expected from the warnings by \\citet{Andrae22}. (*gaiadr3_params*)\n",
       "\n",
       "</div>"
      ],
      "text/plain": [
       "<IPython.core.display.Markdown object>"
      ]
     },
     "metadata": {},
     "output_type": "display_data"
    }
   ],
   "source": [
    "[display(Markdown(k[1])) for k in documents];"
   ]
  },
  {
   "cell_type": "markdown",
   "id": "873873a4",
   "metadata": {
    "papermill": {
     "duration": 0.011794,
     "end_time": "2022-08-31T07:32:25.780137",
     "exception": false,
     "start_time": "2022-08-31T07:32:25.768343",
     "status": "completed"
    },
    "tags": []
   },
   "source": [
    "# Create HTML index"
   ]
  },
  {
   "cell_type": "code",
   "execution_count": 10,
   "id": "cf665672",
   "metadata": {
    "execution": {
     "iopub.execute_input": "2022-08-31T07:32:25.806016Z",
     "iopub.status.busy": "2022-08-31T07:32:25.805040Z",
     "iopub.status.idle": "2022-08-31T07:32:25.815183Z",
     "shell.execute_reply": "2022-08-31T07:32:25.814276Z"
    },
    "papermill": {
     "duration": 0.025298,
     "end_time": "2022-08-31T07:32:25.817091",
     "exception": false,
     "start_time": "2022-08-31T07:32:25.791793",
     "status": "completed"
    },
    "tags": []
   },
   "outputs": [
    {
     "name": "stdout",
     "output_type": "stream",
     "text": [
      "21  publications in the last 7 days.\n",
      "\t _build/html/2208.13791.md\n",
      "\t _build/html/2208.09335.md\n",
      "\t _build/html/2208.08872.md\n",
      "\t _build/html/2204.06393.md\n",
      "\t _build/html/2204.03335.md\n",
      "\t _build/html/2204.03253.md\n",
      "\t _build/html/2204.02998.md\n",
      "\t _build/html/2204.02109.md\n",
      "\t _build/html/2204.02017.md\n",
      "\t _build/html/2204.01824.md\n",
      "\t _build/html/2204.01758.md\n",
      "\t _build/html/2204.01245.md\n",
      "\t _build/html/2204.00793.md\n",
      "\t _build/html/2204.00342.md\n",
      "\t _build/html/2203.16959.md\n",
      "\t _build/html/2203.16856.md\n",
      "\t _build/html/2203.16735.md\n",
      "\t _build/html/2203.16734.md\n",
      "\t _build/html/2203.16504.md\n",
      "\t _build/html/2203.15822.md\n",
      "\t _build/html/2203.15811.md\n"
     ]
    }
   ],
   "source": [
    "from datetime import datetime, timedelta, timezone\n",
    "from glob import glob\n",
    "\n",
    "files = glob('_build/html/*.md')\n",
    "days = 7\n",
    "now = datetime.today()\n",
    "res = []\n",
    "for fk in files:\n",
    "    stat_result = os.stat(fk).st_ctime\n",
    "    modified = datetime.fromtimestamp(stat_result, tz=timezone.utc).replace(tzinfo=None)\n",
    "    delta = now.today() - modified\n",
    "    if delta <= timedelta(days=days):\n",
    "        res.append((delta.seconds, fk))\n",
    "res = [k[1] for k in reversed(sorted(res, key=lambda x:x[1]))]\n",
    "npub = len(res)\n",
    "print(len(res), f\" publications in the last {days:d} days.\")\n",
    "[ print('\\t', k) for k in res ];"
   ]
  },
  {
   "cell_type": "code",
   "execution_count": 11,
   "id": "52ca0208",
   "metadata": {
    "execution": {
     "iopub.execute_input": "2022-08-31T07:32:25.844682Z",
     "iopub.status.busy": "2022-08-31T07:32:25.844322Z",
     "iopub.status.idle": "2022-08-31T07:32:25.851819Z",
     "shell.execute_reply": "2022-08-31T07:32:25.851142Z"
    },
    "papermill": {
     "duration": 0.023356,
     "end_time": "2022-08-31T07:32:25.853546",
     "exception": false,
     "start_time": "2022-08-31T07:32:25.830190",
     "status": "completed"
    },
    "scrolled": false,
    "tags": []
   },
   "outputs": [],
   "source": [
    "def create_carousel(npub=4):\n",
    "    \"\"\" Generate the HTML code for a carousel with `npub` slides \"\"\"\n",
    "    carousel = [\"\"\"<section class=\"carousel\" aria-label=\"Gallery\">\"\"\",\n",
    "                \"\"\"  <ol class=\"carousel__viewport\">\"\"\",\n",
    "    ]\n",
    "    for k in range(1, npub + 1):\n",
    "        prev_ = k - 1\n",
    "        next_ = k + 1\n",
    "        if prev_ <= 0:\n",
    "            prev_ = npub\n",
    "        if next_ > npub:\n",
    "            next_ = 1\n",
    "        text  = f\"\"\"    <li id=\"carousel__slide{k}\" tabindex=\"0\" class=\"carousel__slide\">\\n\"\"\"\n",
    "        text += f\"\"\"       <div class=\"carousel__snapper\">\\n\"\"\"\n",
    "        text += f\"\"\"         <a href=\"#carousel__slide{prev_}\" class=\"carousel__prev\">Go to previous slide</a>\\n\"\"\"\n",
    "        text += f\"\"\"         <a href=\"#carousel__slide{next_}\" class=\"carousel__next\">Go to next slide</a>\\n\"\"\"\n",
    "        text += f\"\"\"         <div id=\"slide{k}_content\" class=\"md_view\" >Content {k}</div>\\n\"\"\"\n",
    "        text += f\"\"\"       </div>\\n\"\"\"\n",
    "        text += f\"\"\"    </li>\"\"\"\n",
    "        carousel.append(text)\n",
    "\n",
    "    carousel.extend([\n",
    "        \"\"\"  </ol>\"\"\",\n",
    "        \"\"\"  <aside class=\"carousel__navigation\">\"\"\",\n",
    "        \"\"\"    <ol class=\"carousel__navigation-list\">\"\"\"])\n",
    "\n",
    "    for k in range(1, npub + 1):\n",
    "        text  = f\"\"\"      <li class=\"carousel__navigation-item\">\\n\"\"\"\n",
    "        text += f\"\"\"        <a href=\"#carousel__slide{k}\" class=\"carousel__navigation-button\">Go to {k}</a>\\n\"\"\"\n",
    "        text += f\"\"\"      </li>\"\"\"\n",
    "        carousel.append(text)\n",
    "    carousel.extend([\"\"\"    </ol>\"\"\", \"\"\"  </aside>\"\"\", \"\"\"</section>\"\"\"])\n",
    "\n",
    "    return '\\n'.join(carousel)"
   ]
  },
  {
   "cell_type": "code",
   "execution_count": 12,
   "id": "a6eac5b6",
   "metadata": {
    "execution": {
     "iopub.execute_input": "2022-08-31T07:32:25.885255Z",
     "iopub.status.busy": "2022-08-31T07:32:25.884575Z",
     "iopub.status.idle": "2022-08-31T07:32:25.892459Z",
     "shell.execute_reply": "2022-08-31T07:32:25.891595Z"
    },
    "papermill": {
     "duration": 0.02834,
     "end_time": "2022-08-31T07:32:25.894274",
     "exception": false,
     "start_time": "2022-08-31T07:32:25.865934",
     "status": "completed"
    },
    "scrolled": false,
    "tags": []
   },
   "outputs": [],
   "source": [
    "carousel = create_carousel(npub)\n",
    "docs = ', '.join(['\"{0:s}\"'.format(k.split('/')[-1]) for k in res])\n",
    "slides = ', '.join([f'\"slide{k}_content\"' for k in range(1, npub + 1)])\n",
    "\n",
    "script = f\"\"\"\n",
    "const docs = [{docs}]\n",
    "\n",
    "const slides = [{slides}]\n",
    "\"\"\" + \"\"\"\n",
    "async function run() {\n",
    "    for (let i = 0; i < docs.length; i++) {\n",
    "        let file = await fetch(docs[i]);\n",
    "        let text = await file.text()\n",
    "        document.getElementById(slides[i]).innerHTML =\n",
    "            marked.parse(text);\n",
    "    }\n",
    "    hljs.highlightAll();\n",
    "}\n",
    "run()\n",
    "\"\"\"\n",
    "\n",
    "page = f\"\"\"<!doctype html>\n",
    "<html lang=\"en\">\n",
    "\n",
    "<head>\n",
    "  <meta charset=\"utf-8\">\n",
    "  <meta name=\"viewport\" content=\"width=device-width, initial-scale=1\">\n",
    "  <!-- Bootstrap CSS -->\n",
    "  <link href=\"https://cdn.jsdelivr.net/npm/bootstrap@5.0.2/dist/css/bootstrap.min.css\" rel=\"stylesheet\"\n",
    "   integrity=\"sha384-EVSTQN3/azprG1Anm3QDgpJLIm9Nao0Yz1ztcQTwFspd3yD65VohhpuuCOmLASjC\" crossorigin=\"anonymous\">\n",
    "  <!-- highlight.js CSS -->\n",
    "  <link rel=\"stylesheet\" href=\"https://cdnjs.cloudflare.com/ajax/libs/highlight.js/11.1.0/styles/default.min.css\">\n",
    "  <!-- Mathjax 3 -->\n",
    "  <script type=\"text/javascript\" id=\"MathJax-config\" src=\"mathjax_config.js\"> </script>\n",
    "  <script type=\"text/javascript\" id=\"MathJax-script\" async \n",
    "    src=\"https://cdn.jsdelivr.net/npm/mathjax@3/es5/tex-mml-chtml.js\">\n",
    "  </script>\n",
    "  <link rel=\"stylesheet\" href=\"index_carousel.css\">\n",
    "  <link rel=\"icon\" type=\"image/x-icon\" href=\"https://www.mpia.de/assets/touch-icon-32x32-a66937bcebc4e8894ebff1f41a366c7c7220fd97a38869ee0f2db65a9f59b6c1.png\">\n",
    "  <title>MPIA Arxiv on deck!</title>\n",
    "</head>\n",
    "\n",
    "<body>\n",
    "  <div id=\"header\"> <img src=\"header_banner.png\" width=\"100%\"></div>\n",
    "  <div id=\"suptitle\"> 7-day archives </div>\n",
    "  <div id=\"info\">\n",
    "    <img src=\"https://pngimg.com/uploads/github/github_PNG58.png\" height=30rem></img>\n",
    "    <a href=https://github.com/mpi-astronomy/arxiv_display style=\"color:black;\">github/mpi-astronomy/arxiv_display</a> \n",
    "  </div>\n",
    "  {carousel:s}\n",
    "</body>\n",
    "\n",
    "<!-- Render Markdown -->\n",
    "\n",
    "<body>\n",
    "  <!-- highlight.js: https://highlightjs.org/download/ -->\n",
    "  <script src=\"https://cdnjs.cloudflare.com/ajax/libs/highlight.js/11.5.0/highlight.min.js\"></script>\n",
    "  <!-- marked.js -->\n",
    "  <script src=\"https://cdn.jsdelivr.net/npm/marked/marked.min.js\"></script>\n",
    "  <script>{script:s}</script>\n",
    "</body>\n",
    "</html>\n",
    "\"\"\"\n",
    "with open(\"_build/html/index_7days.html\", 'w') as fout:\n",
    "    fout.write(page)"
   ]
  },
  {
   "cell_type": "markdown",
   "id": "1cebacbc",
   "metadata": {
    "papermill": {
     "duration": 0.012251,
     "end_time": "2022-08-31T07:32:25.960244",
     "exception": false,
     "start_time": "2022-08-31T07:32:25.947993",
     "status": "completed"
    },
    "tags": []
   },
   "source": [
    "# Debugging papers"
   ]
  },
  {
   "cell_type": "raw",
   "id": "debe7cc6",
   "metadata": {
    "papermill": {
     "duration": 0.013897,
     "end_time": "2022-08-31T07:32:25.986955",
     "exception": false,
     "start_time": "2022-08-31T07:32:25.973058",
     "status": "completed"
    },
    "tags": []
   },
   "source": [
    "raise NotImplementedError(\"Manual Stop\")"
   ]
  },
  {
   "cell_type": "raw",
   "id": "eb169192",
   "metadata": {
    "papermill": {
     "duration": 0.012816,
     "end_time": "2022-08-31T07:32:26.012923",
     "exception": false,
     "start_time": "2022-08-31T07:32:26.000107",
     "status": "completed"
    },
    "scrolled": true,
    "tags": []
   },
   "source": [
    "from IPython.display import display, Markdown\n",
    "from TexSoup import TexSoup\n",
    "import re\n",
    "\n",
    "def bracket_error(source: str):\n",
    "    \"\"\" Find problematic portions of the document \"\"\"\n",
    "    \n",
    "    print(\"len(source)\", len(source))\n",
    "    \n",
    "    # Checking header\n",
    "    begin_doc = next(re.finditer(r'\\\\begin\\{document\\}', doc.source)).span()[1]\n",
    "    header = source[:begin_doc]\n",
    "    text = header + r\"\\n\\end{document}\"\n",
    "\n",
    "    try:\n",
    "        # print(\"Header check... \", end='')\n",
    "        TexSoup(text)\n",
    "        display(Markdown(f\"**[OK]** - Header\"))\n",
    "    except:\n",
    "        raise RuntimeError(\"Error in the header\")\n",
    "        \n",
    "    # Check the text per section until the end.\n",
    "    # Do not stop and try them all.\n",
    "    \n",
    "    problematic_text = []\n",
    "    \n",
    "    sections = ([(0, begin_doc, 'until first section')] + \n",
    "                [(g.span()[0], g.span()[1], g.group()) for g in re.finditer(r'\\\\section\\{.*\\}', source)] +\n",
    "                [(g.span()[0], g.span()[1], g.group()) for g in re.finditer(r'\\\\begin\\{appendix\\}', source)]\n",
    "               )\n",
    "    sections.append([len(source), len(source), 'end'])\n",
    "    \n",
    "    sections = sorted(sections, key=lambda x: x[0])\n",
    "    \n",
    "    prev_pos, prev_name = (0, 'header')\n",
    "    parsed = []\n",
    "    \n",
    "    for span, span_end, name in sections:\n",
    "\n",
    "        if span - prev_pos <= 0:\n",
    "            continue\n",
    "            \n",
    "\n",
    "        text = source[prev_pos:span]\n",
    "        if prev_pos > begin_doc:\n",
    "            text = r\"\\n\\begin{document}\" + text + r\"\\n\\end{document}\"\n",
    "        else:\n",
    "            text = text + r\"\\n\\end{document}\"\n",
    "        try:\n",
    "            #print(f\"{prev_pos}:{prev_name}-->{span}:{name} check... \", end='')\n",
    "            parsed.append(TexSoup(text, tolerance=1))  # allow not ending env\n",
    "            display(Markdown(f\"**[OK]** - *{prev_pos}*:{prev_name} &rarr; *{span}*:{name}\"))\n",
    "            # print(\"ok\")\n",
    "\n",
    "            prev_pos = span\n",
    "            prev_name = name\n",
    "        except:\n",
    "            # print(f\"error between {prev_pos} and {span}\")\n",
    "            display(Markdown(f\"**[ERR]** *{prev_pos}*:{prev_name} &rarr; *{span}*:{name}\"))\n",
    "            problematic_text.append((prev_pos, source[prev_pos:span]))\n",
    "            prev_pos = span\n",
    "            prev_name = name\n",
    "            # raise\n",
    "    return problematic_text, parsed\n",
    "\n",
    "\n",
    "def check_environment(text, offset=0):\n",
    "    \"\"\" Check environment \"\"\"\n",
    "    env = re.compile(r\"\\\\begin\\{(?P<env>.*)\\}(.*)\\\\end\\{(?P=env)\\}\", re.DOTALL)\n",
    "\n",
    "    for match in env.finditer(text):\n",
    "        beg, end = match.span()\n",
    "        beg += offset\n",
    "        end += offset\n",
    "        envname = match.groups()[0]\n",
    "        try:\n",
    "            latex.TexSoup(match.group())\n",
    "        except Exception as e:\n",
    "            display(e)\n",
    "            print(f\"Error in {envname:s} between {beg} and {end}\")\n",
    "            return match.groups()[1], beg, end"
   ]
  },
  {
   "cell_type": "raw",
   "id": "2315e835",
   "metadata": {
    "papermill": {
     "duration": 0.012044,
     "end_time": "2022-08-31T07:32:26.037359",
     "exception": false,
     "start_time": "2022-08-31T07:32:26.025315",
     "status": "completed"
    },
    "scrolled": false,
    "tags": []
   },
   "source": [
    "import importlib\n",
    "importlib.reload(latex)\n",
    "which = \"2204.03253\"\n",
    "paper_id = f'{which:s}'\n",
    "folder = f'tmp_{paper_id:s}'\n",
    "\n",
    "if not os.path.isdir(folder):\n",
    "    folder = retrieve_document_source(f\"{paper_id}\", f'tmp_{paper_id}')\n",
    "\n",
    "try:\n",
    "    doc = latex.LatexDocument(folder, validation=validation)    \n",
    "except AffiliationError as affilerror:\n",
    "    msg = f\"ArXiv:{paper_id:s} is not an MPIA paper... \" + str(affilerror)\n",
    "    print(msg)\n",
    "\n",
    "\n",
    "# Hack because sometimes author parsing does not work well\n",
    "if (len(doc.authors) != len(paper['authors'])):\n",
    "    doc._authors = paper['authors']\n",
    "if (doc.abstract) in (None, ''):\n",
    "    doc._abstract = paper['abstract']\n",
    "\n",
    "doc.comment = get_markdown_badge(paper_id) + \" _\" + paper['comments'] + \"_\"\n",
    "doc.highlight_authors_in_list(hl_list)\n",
    "\n",
    "full_md = doc.generate_markdown_text()"
   ]
  },
  {
   "cell_type": "raw",
   "id": "dd3781db",
   "metadata": {
    "papermill": {
     "duration": 0.011948,
     "end_time": "2022-08-31T07:32:26.061203",
     "exception": false,
     "start_time": "2022-08-31T07:32:26.049255",
     "status": "completed"
    },
    "scrolled": false,
    "tags": []
   },
   "source": [
    "doc"
   ]
  },
  {
   "cell_type": "raw",
   "id": "c6eed834",
   "metadata": {
    "papermill": {
     "duration": 0.012011,
     "end_time": "2022-08-31T07:32:26.085169",
     "exception": false,
     "start_time": "2022-08-31T07:32:26.073158",
     "status": "completed"
    },
    "tags": []
   },
   "source": [
    "# [check_environment(k) for k in bracket_error(doc.source)]\n",
    "_, _, a = latex.get_content_per_section(doc.source, verbose=True)\n",
    "if not a:\n",
    "    print(\"no issues per section\")\n",
    "for ak in a:\n",
    "    r = check_environment(ak[1], offset=ak[0])\n",
    "    print(r[1], r[2])\n",
    "    print(r[0])"
   ]
  },
  {
   "cell_type": "code",
   "execution_count": null,
   "id": "71ce768a",
   "metadata": {
    "papermill": {
     "duration": 0.012003,
     "end_time": "2022-08-31T07:32:26.109371",
     "exception": false,
     "start_time": "2022-08-31T07:32:26.097368",
     "status": "completed"
    },
    "tags": []
   },
   "outputs": [],
   "source": []
  }
 ],
 "metadata": {
  "kernelspec": {
   "display_name": "Python 3.10.6 64-bit",
   "language": "python",
   "name": "python3"
  },
  "language_info": {
   "codemirror_mode": {
    "name": "ipython",
    "version": 3
   },
   "file_extension": ".py",
   "mimetype": "text/x-python",
   "name": "python",
   "nbconvert_exporter": "python",
   "pygments_lexer": "ipython3",
   "version": "3.9.13"
  },
  "papermill": {
   "default_parameters": {},
   "duration": 142.454653,
   "end_time": "2022-08-31T07:32:26.441234",
   "environment_variables": {},
   "exception": null,
   "input_path": "MPIA daily digest.ipynb",
   "output_path": "log.ipynb",
   "parameters": {},
   "start_time": "2022-08-31T07:30:03.986581",
   "version": "2.4.0"
  },
  "vscode": {
   "interpreter": {
    "hash": "e7370f93d1d0cde622a1f8e1c04877d8463912d04d973331ad4851f04de6915a"
   }
  },
  "widgets": {
   "application/vnd.jupyter.widget-state+json": {
    "state": {
     "00263990f8bb468e9a04b4da7d6a1710": {
      "model_module": "@jupyter-widgets/base",
      "model_module_version": "2.0.0",
      "model_name": "LayoutModel",
      "state": {
       "_model_module": "@jupyter-widgets/base",
       "_model_module_version": "2.0.0",
       "_model_name": "LayoutModel",
       "_view_count": null,
       "_view_module": "@jupyter-widgets/base",
       "_view_module_version": "2.0.0",
       "_view_name": "LayoutView",
       "align_content": null,
       "align_items": null,
       "align_self": null,
       "border_bottom": null,
       "border_left": null,
       "border_right": null,
       "border_top": null,
       "bottom": null,
       "display": null,
       "flex": null,
       "flex_flow": null,
       "grid_area": null,
       "grid_auto_columns": null,
       "grid_auto_flow": null,
       "grid_auto_rows": null,
       "grid_column": null,
       "grid_gap": null,
       "grid_row": null,
       "grid_template_areas": null,
       "grid_template_columns": null,
       "grid_template_rows": null,
       "height": null,
       "justify_content": null,
       "justify_items": null,
       "left": null,
       "margin": null,
       "max_height": null,
       "max_width": null,
       "min_height": null,
       "min_width": null,
       "object_fit": null,
       "object_position": null,
       "order": null,
       "overflow": null,
       "padding": null,
       "right": null,
       "top": null,
       "visibility": null,
       "width": null
      }
     },
     "314b3ec5fed34dbe8749b1444d8a6d21": {
      "model_module": "@jupyter-widgets/controls",
      "model_module_version": "2.0.0",
      "model_name": "ProgressStyleModel",
      "state": {
       "_model_module": "@jupyter-widgets/controls",
       "_model_module_version": "2.0.0",
       "_model_name": "ProgressStyleModel",
       "_view_count": null,
       "_view_module": "@jupyter-widgets/base",
       "_view_module_version": "2.0.0",
       "_view_name": "StyleView",
       "bar_color": null,
       "description_width": ""
      }
     },
     "5658c45eb87746909c062e7b02e13a0d": {
      "model_module": "@jupyter-widgets/controls",
      "model_module_version": "2.0.0",
      "model_name": "FloatProgressModel",
      "state": {
       "_dom_classes": [],
       "_model_module": "@jupyter-widgets/controls",
       "_model_module_version": "2.0.0",
       "_model_name": "FloatProgressModel",
       "_view_count": null,
       "_view_module": "@jupyter-widgets/controls",
       "_view_module_version": "2.0.0",
       "_view_name": "ProgressView",
       "bar_style": "success",
       "description": "",
       "description_allow_html": false,
       "layout": "IPY_MODEL_00263990f8bb468e9a04b4da7d6a1710",
       "max": 24.0,
       "min": 0.0,
       "orientation": "horizontal",
       "style": "IPY_MODEL_314b3ec5fed34dbe8749b1444d8a6d21",
       "tabbable": null,
       "tooltip": null,
       "value": 24.0
      }
     },
     "6710ad9a7854478ca9e92e3698f80302": {
      "model_module": "@jupyter-widgets/controls",
      "model_module_version": "2.0.0",
      "model_name": "HTMLStyleModel",
      "state": {
       "_model_module": "@jupyter-widgets/controls",
       "_model_module_version": "2.0.0",
       "_model_name": "HTMLStyleModel",
       "_view_count": null,
       "_view_module": "@jupyter-widgets/base",
       "_view_module_version": "2.0.0",
       "_view_name": "StyleView",
       "background": null,
       "description_width": "",
       "font_size": null,
       "text_color": null
      }
     },
     "7c94453f9b6941c08ae6ca7c98fb693d": {
      "model_module": "@jupyter-widgets/base",
      "model_module_version": "2.0.0",
      "model_name": "LayoutModel",
      "state": {
       "_model_module": "@jupyter-widgets/base",
       "_model_module_version": "2.0.0",
       "_model_name": "LayoutModel",
       "_view_count": null,
       "_view_module": "@jupyter-widgets/base",
       "_view_module_version": "2.0.0",
       "_view_name": "LayoutView",
       "align_content": null,
       "align_items": null,
       "align_self": null,
       "border_bottom": null,
       "border_left": null,
       "border_right": null,
       "border_top": null,
       "bottom": null,
       "display": null,
       "flex": null,
       "flex_flow": null,
       "grid_area": null,
       "grid_auto_columns": null,
       "grid_auto_flow": null,
       "grid_auto_rows": null,
       "grid_column": null,
       "grid_gap": null,
       "grid_row": null,
       "grid_template_areas": null,
       "grid_template_columns": null,
       "grid_template_rows": null,
       "height": null,
       "justify_content": null,
       "justify_items": null,
       "left": null,
       "margin": null,
       "max_height": null,
       "max_width": null,
       "min_height": null,
       "min_width": null,
       "object_fit": null,
       "object_position": null,
       "order": null,
       "overflow": null,
       "padding": null,
       "right": null,
       "top": null,
       "visibility": null,
       "width": null
      }
     },
     "82a4915afb724002a87c0436321ab734": {
      "model_module": "@jupyter-widgets/controls",
      "model_module_version": "2.0.0",
      "model_name": "HTMLModel",
      "state": {
       "_dom_classes": [],
       "_model_module": "@jupyter-widgets/controls",
       "_model_module_version": "2.0.0",
       "_model_name": "HTMLModel",
       "_view_count": null,
       "_view_module": "@jupyter-widgets/controls",
       "_view_module_version": "2.0.0",
       "_view_name": "HTMLView",
       "description": "",
       "description_allow_html": false,
       "layout": "IPY_MODEL_afc2542866d2463999084c640535a691",
       "placeholder": "​",
       "style": "IPY_MODEL_dbeb5e6475554971b758f017200aa643",
       "tabbable": null,
       "tooltip": null,
       "value": "100%"
      }
     },
     "afc2542866d2463999084c640535a691": {
      "model_module": "@jupyter-widgets/base",
      "model_module_version": "2.0.0",
      "model_name": "LayoutModel",
      "state": {
       "_model_module": "@jupyter-widgets/base",
       "_model_module_version": "2.0.0",
       "_model_name": "LayoutModel",
       "_view_count": null,
       "_view_module": "@jupyter-widgets/base",
       "_view_module_version": "2.0.0",
       "_view_name": "LayoutView",
       "align_content": null,
       "align_items": null,
       "align_self": null,
       "border_bottom": null,
       "border_left": null,
       "border_right": null,
       "border_top": null,
       "bottom": null,
       "display": null,
       "flex": null,
       "flex_flow": null,
       "grid_area": null,
       "grid_auto_columns": null,
       "grid_auto_flow": null,
       "grid_auto_rows": null,
       "grid_column": null,
       "grid_gap": null,
       "grid_row": null,
       "grid_template_areas": null,
       "grid_template_columns": null,
       "grid_template_rows": null,
       "height": null,
       "justify_content": null,
       "justify_items": null,
       "left": null,
       "margin": null,
       "max_height": null,
       "max_width": null,
       "min_height": null,
       "min_width": null,
       "object_fit": null,
       "object_position": null,
       "order": null,
       "overflow": null,
       "padding": null,
       "right": null,
       "top": null,
       "visibility": null,
       "width": null
      }
     },
     "dbeb5e6475554971b758f017200aa643": {
      "model_module": "@jupyter-widgets/controls",
      "model_module_version": "2.0.0",
      "model_name": "HTMLStyleModel",
      "state": {
       "_model_module": "@jupyter-widgets/controls",
       "_model_module_version": "2.0.0",
       "_model_name": "HTMLStyleModel",
       "_view_count": null,
       "_view_module": "@jupyter-widgets/base",
       "_view_module_version": "2.0.0",
       "_view_name": "StyleView",
       "background": null,
       "description_width": "",
       "font_size": null,
       "text_color": null
      }
     },
     "ec8197558e7b4c388aeaf973bc1b864d": {
      "model_module": "@jupyter-widgets/controls",
      "model_module_version": "2.0.0",
      "model_name": "HTMLModel",
      "state": {
       "_dom_classes": [],
       "_model_module": "@jupyter-widgets/controls",
       "_model_module_version": "2.0.0",
       "_model_name": "HTMLModel",
       "_view_count": null,
       "_view_module": "@jupyter-widgets/controls",
       "_view_module_version": "2.0.0",
       "_view_name": "HTMLView",
       "description": "",
       "description_allow_html": false,
       "layout": "IPY_MODEL_fbbe0e83b63d4b13b462e91a4622f21a",
       "placeholder": "​",
       "style": "IPY_MODEL_6710ad9a7854478ca9e92e3698f80302",
       "tabbable": null,
       "tooltip": null,
       "value": " 24/24 [01:57&lt;00:00, 10.62s/it]"
      }
     },
     "ee3812c611904418bf0a125ebbe9c358": {
      "model_module": "@jupyter-widgets/controls",
      "model_module_version": "2.0.0",
      "model_name": "HBoxModel",
      "state": {
       "_dom_classes": [],
       "_model_module": "@jupyter-widgets/controls",
       "_model_module_version": "2.0.0",
       "_model_name": "HBoxModel",
       "_view_count": null,
       "_view_module": "@jupyter-widgets/controls",
       "_view_module_version": "2.0.0",
       "_view_name": "HBoxView",
       "box_style": "",
       "children": [
        "IPY_MODEL_82a4915afb724002a87c0436321ab734",
        "IPY_MODEL_5658c45eb87746909c062e7b02e13a0d",
        "IPY_MODEL_ec8197558e7b4c388aeaf973bc1b864d"
       ],
       "layout": "IPY_MODEL_7c94453f9b6941c08ae6ca7c98fb693d",
       "tabbable": null,
       "tooltip": null
      }
     },
     "fbbe0e83b63d4b13b462e91a4622f21a": {
      "model_module": "@jupyter-widgets/base",
      "model_module_version": "2.0.0",
      "model_name": "LayoutModel",
      "state": {
       "_model_module": "@jupyter-widgets/base",
       "_model_module_version": "2.0.0",
       "_model_name": "LayoutModel",
       "_view_count": null,
       "_view_module": "@jupyter-widgets/base",
       "_view_module_version": "2.0.0",
       "_view_name": "LayoutView",
       "align_content": null,
       "align_items": null,
       "align_self": null,
       "border_bottom": null,
       "border_left": null,
       "border_right": null,
       "border_top": null,
       "bottom": null,
       "display": null,
       "flex": null,
       "flex_flow": null,
       "grid_area": null,
       "grid_auto_columns": null,
       "grid_auto_flow": null,
       "grid_auto_rows": null,
       "grid_column": null,
       "grid_gap": null,
       "grid_row": null,
       "grid_template_areas": null,
       "grid_template_columns": null,
       "grid_template_rows": null,
       "height": null,
       "justify_content": null,
       "justify_items": null,
       "left": null,
       "margin": null,
       "max_height": null,
       "max_width": null,
       "min_height": null,
       "min_width": null,
       "object_fit": null,
       "object_position": null,
       "order": null,
       "overflow": null,
       "padding": null,
       "right": null,
       "top": null,
       "visibility": null,
       "width": null
      }
     }
    },
    "version_major": 2,
    "version_minor": 0
   }
  }
 },
 "nbformat": 4,
 "nbformat_minor": 5
}