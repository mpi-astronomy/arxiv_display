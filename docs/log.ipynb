{
 "cells": [
  {
   "cell_type": "markdown",
   "id": "92bcb855",
   "metadata": {
    "papermill": {
     "duration": 0.006867,
     "end_time": "2022-10-24T05:21:43.145842",
     "exception": false,
     "start_time": "2022-10-24T05:21:43.138975",
     "status": "completed"
    },
    "tags": []
   },
   "source": [
    "# MPIA Arxiv on Deck 2\n",
    "\n",
    "Contains the steps to produce the paper extractions."
   ]
  },
  {
   "cell_type": "code",
   "execution_count": 1,
   "id": "3a0d6e11",
   "metadata": {
    "execution": {
     "iopub.execute_input": "2022-10-24T05:21:43.163327Z",
     "iopub.status.busy": "2022-10-24T05:21:43.162539Z",
     "iopub.status.idle": "2022-10-24T05:21:43.384199Z",
     "shell.execute_reply": "2022-10-24T05:21:43.383271Z"
    },
    "papermill": {
     "duration": 0.23103,
     "end_time": "2022-10-24T05:21:43.386815",
     "exception": false,
     "start_time": "2022-10-24T05:21:43.155785",
     "status": "completed"
    },
    "tags": []
   },
   "outputs": [],
   "source": [
    "# Imports\n",
    "import os\n",
    "from IPython.display import Markdown, display\n",
    "from tqdm.notebook import tqdm\n",
    "import warnings\n",
    "from PIL import Image \n",
    "\n",
    "# requires arxiv_on_deck_2\n",
    "\n",
    "from arxiv_on_deck_2.arxiv2 import (get_new_papers, \n",
    "                                    get_paper_from_identifier,\n",
    "                                    retrieve_document_source, \n",
    "                                    get_markdown_badge)\n",
    "from arxiv_on_deck_2 import (latex, \n",
    "                             mpia,\n",
    "                             highlight_authors_in_list)\n",
    "\n",
    "# Sometimes images are really big\n",
    "Image.MAX_IMAGE_PIXELS = 1000000000 "
   ]
  },
  {
   "cell_type": "code",
   "execution_count": 2,
   "id": "22aa9d44",
   "metadata": {
    "execution": {
     "iopub.execute_input": "2022-10-24T05:21:43.401145Z",
     "iopub.status.busy": "2022-10-24T05:21:43.400609Z",
     "iopub.status.idle": "2022-10-24T05:21:43.406642Z",
     "shell.execute_reply": "2022-10-24T05:21:43.405699Z"
    },
    "papermill": {
     "duration": 0.015908,
     "end_time": "2022-10-24T05:21:43.408636",
     "exception": false,
     "start_time": "2022-10-24T05:21:43.392728",
     "status": "completed"
    },
    "tags": []
   },
   "outputs": [],
   "source": [
    "# Some useful definitions.\n",
    "\n",
    "class AffiliationWarning(UserWarning):\n",
    "    pass\n",
    "\n",
    "class AffiliationError(RuntimeError):\n",
    "    pass\n",
    "\n",
    "def validation(source: str):\n",
    "    \"\"\"Raises error paper during parsing of source file\n",
    "    \n",
    "    Allows checks before parsing TeX code.\n",
    "    \n",
    "    Raises AffiliationWarning\n",
    "    \"\"\"\n",
    "    check = mpia.affiliation_verifications(source, verbose=True)\n",
    "    if check is not True:\n",
    "        raise AffiliationError(\"mpia.affiliation_verifications: \" + check)\n",
    "\n",
    "        \n",
    "warnings.simplefilter('always', AffiliationWarning)"
   ]
  },
  {
   "cell_type": "code",
   "execution_count": 3,
   "id": "14622700",
   "metadata": {
    "execution": {
     "iopub.execute_input": "2022-10-24T05:21:43.422513Z",
     "iopub.status.busy": "2022-10-24T05:21:43.421748Z",
     "iopub.status.idle": "2022-10-24T05:21:43.426217Z",
     "shell.execute_reply": "2022-10-24T05:21:43.425606Z"
    },
    "papermill": {
     "duration": 0.014943,
     "end_time": "2022-10-24T05:21:43.428236",
     "exception": false,
     "start_time": "2022-10-24T05:21:43.413293",
     "status": "completed"
    },
    "tags": []
   },
   "outputs": [],
   "source": [
    "# additional CSS to consider. \n",
    "# TODO: Current into each exported file. \n",
    "#       This should be set once into the webpages directly.\n",
    "#       With only the class/id definitions in the .md files.\n",
    "\n",
    "debug_html = \"\"\"\n",
    "<style>\n",
    "#wrap{ overflow:auto; }\n",
    "#fig1{ background:yellow; width:100%; float:left; padding:5px;  }\n",
    "#fig2{ background:red; width:50%; float:left; clear:left; padding:5px;  }\n",
    "#fig3{ background:green; width:50%; float:left; padding:5px;   }\n",
    ".macros{ background:yellow; visibility:visible;}\n",
    "h1 {margin: 0 0 0 0;}\n",
    "mark {background-color:#fff3b6;}\n",
    "img {object-fit:contain; max-height:250px; display:inline-block; text-align: center;}\n",
    "</style>\n",
    "\"\"\" \n",
    "html = \"\"\"\n",
    "<style>\n",
    "#wrap{ overflow:auto; }\n",
    "#fig1{ width:100%; float:left; padding: 5px;  }\n",
    "#fig2{ width:50%; float:left; clear:left; padding: 5px;  }\n",
    "#fig3{ width:50%; float:left; padding: 5px;  }\n",
    ".macros{ visibility:hidden; height:0px; }\n",
    "h1 {margin: 0em 0 0 0;}\n",
    "mark {background-color:#fff3b6;}\n",
    "img {object-fit:contain; max-height:250px; display:inline-block; text-align: center;}\n",
    "</style>\n",
    "\"\"\""
   ]
  },
  {
   "cell_type": "markdown",
   "id": "14bd6310",
   "metadata": {
    "papermill": {
     "duration": 0.004687,
     "end_time": "2022-10-24T05:21:43.437534",
     "exception": false,
     "start_time": "2022-10-24T05:21:43.432847",
     "status": "completed"
    },
    "tags": []
   },
   "source": [
    "## get list of arxiv paper candidates\n",
    "\n",
    "We use the MPIA mitarbeiter list webpage from mpia.de to get author names\n",
    "We then get all new papers from Arxiv and match authors"
   ]
  },
  {
   "cell_type": "code",
   "execution_count": 4,
   "id": "2645e73a",
   "metadata": {
    "execution": {
     "iopub.execute_input": "2022-10-24T05:21:43.448832Z",
     "iopub.status.busy": "2022-10-24T05:21:43.448280Z",
     "iopub.status.idle": "2022-10-24T05:22:29.754649Z",
     "shell.execute_reply": "2022-10-24T05:22:29.753969Z"
    },
    "papermill": {
     "duration": 46.31918,
     "end_time": "2022-10-24T05:22:29.761390",
     "exception": false,
     "start_time": "2022-10-24T05:21:43.442210",
     "status": "completed"
    },
    "tags": []
   },
   "outputs": [
    {
     "name": "stdout",
     "output_type": "stream",
     "text": [
      "Arxiv has 45 new papers today\n",
      "          18 with possible author matches\n"
     ]
    }
   ],
   "source": [
    "# get list from MPIA website\n",
    "# it automatically filters identified non-scientists :func:`mpia.filter_non_scientists`\n",
    "mpia_authors = mpia.get_mpia_mitarbeiter_list()\n",
    "new_papers = get_new_papers()\n",
    "# add manual references\n",
    "add_paper_refs = []\n",
    "new_papers.extend([get_paper_from_identifier(k) for k in add_paper_refs])\n",
    "\n",
    "# select only papers with matching author names and highlight authors\n",
    "hl_list = [k[0] for k in mpia_authors]\n",
    "\n",
    "candidates = []\n",
    "for paperk in new_papers:\n",
    "    hl_authors = highlight_authors_in_list(paperk['authors'], hl_list)\n",
    "    matches = [(hl, orig) for hl, orig in zip(hl_authors, paperk['authors']) if 'mark' in hl]\n",
    "    paperk['authors'] = hl_authors\n",
    "    if matches:\n",
    "        candidates.append(paperk)\n",
    "print(\"\"\"Arxiv has {0:,d} new papers today\"\"\".format(len(new_papers)))        \n",
    "print(\"\"\"          {0:,d} with possible author matches\"\"\".format(len(candidates)))"
   ]
  },
  {
   "cell_type": "markdown",
   "id": "3543b34a",
   "metadata": {
    "papermill": {
     "duration": 0.004752,
     "end_time": "2022-10-24T05:22:29.771021",
     "exception": false,
     "start_time": "2022-10-24T05:22:29.766269",
     "status": "completed"
    },
    "tags": []
   },
   "source": [
    "# Parse sources and generate relevant outputs\n",
    "\n",
    "From the candidates, we do the following steps:\n",
    "* get their tarball from ArXiv (and extract data)\n",
    "* find the main .tex file: find one with \\documentclass{...} (sometimes it's non trivial)\n",
    "* Check affiliations with :func:`validation`, which uses :func:`mpia.affiliation_verifications`\n",
    "* If passing the affiliations: we parse the .tex source\n",
    "   * inject sub-documents into the main (flatten the main document)\n",
    "   * parse structure, extract information (title, abstract, authors, figures...)\n",
    "   * handles `\\graphicspath` if provided\n",
    "* Generate the .md document."
   ]
  },
  {
   "cell_type": "code",
   "execution_count": 5,
   "id": "9576b79e",
   "metadata": {
    "execution": {
     "iopub.execute_input": "2022-10-24T05:22:29.782267Z",
     "iopub.status.busy": "2022-10-24T05:22:29.781728Z",
     "iopub.status.idle": "2022-10-24T05:25:48.098697Z",
     "shell.execute_reply": "2022-10-24T05:25:48.097981Z"
    },
    "papermill": {
     "duration": 198.325973,
     "end_time": "2022-10-24T05:25:48.101667",
     "exception": false,
     "start_time": "2022-10-24T05:22:29.775694",
     "status": "completed"
    },
    "scrolled": false,
    "tags": []
   },
   "outputs": [
    {
     "data": {
      "application/vnd.jupyter.widget-view+json": {
       "model_id": "0ab8852c00854009954ffaa8854b0adc",
       "version_major": 2,
       "version_minor": 0
      },
      "text/plain": [
       "  0%|          | 0/17 [00:00<?, ?it/s]"
      ]
     },
     "metadata": {},
     "output_type": "display_data"
    },
    {
     "name": "stdout",
     "output_type": "stream",
     "text": [
      "Retrieving document from  https://arxiv.org/e-print/2210.11488\n"
     ]
    },
    {
     "name": "stdout",
     "output_type": "stream",
     "text": [
      "extracting tarball to tmp_2210.11488..."
     ]
    },
    {
     "name": "stdout",
     "output_type": "stream",
     "text": [
      " done.\n",
      "Retrieving document from  https://arxiv.org/e-print/2210.11506\n"
     ]
    },
    {
     "name": "stderr",
     "output_type": "stream",
     "text": [
      "/opt/hostedtoolcache/Python/3.9.15/x64/lib/python3.9/site-packages/IPython/core/interactiveshell.py:3378: LatexWarning: Multiple tex files.\n",
      "\n",
      "  exec(code_obj, self.user_global_ns, self.user_ns)\n",
      "/opt/hostedtoolcache/Python/3.9.15/x64/lib/python3.9/site-packages/IPython/core/interactiveshell.py:3378: LatexWarning: Found documentclass in tmp_2210.11488/menu.tex\n",
      "\n",
      "  exec(code_obj, self.user_global_ns, self.user_ns)\n",
      "/opt/hostedtoolcache/Python/3.9.15/x64/lib/python3.9/site-packages/arxiv_on_deck_2/latex.py:292: LatexWarning: Latex injecting: 'Section_5' from 'tmp_2210.11488/Section_5.tex'\n",
      "  warnings.warn(LatexWarning(f\"Latex injecting: '{ext}' from '{subsource}'\"))\n",
      "/opt/hostedtoolcache/Python/3.9.15/x64/lib/python3.9/site-packages/arxiv_on_deck_2/latex.py:292: LatexWarning: Latex injecting: 'Section_4' from 'tmp_2210.11488/Section_4.tex'\n",
      "  warnings.warn(LatexWarning(f\"Latex injecting: '{ext}' from '{subsource}'\"))\n",
      "/opt/hostedtoolcache/Python/3.9.15/x64/lib/python3.9/site-packages/arxiv_on_deck_2/latex.py:292: LatexWarning: Latex injecting: 'Section_3' from 'tmp_2210.11488/Section_3.tex'\n",
      "  warnings.warn(LatexWarning(f\"Latex injecting: '{ext}' from '{subsource}'\"))\n",
      "/opt/hostedtoolcache/Python/3.9.15/x64/lib/python3.9/site-packages/arxiv_on_deck_2/latex.py:292: LatexWarning: Latex injecting: 'Section_2' from 'tmp_2210.11488/Section_2.tex'\n",
      "  warnings.warn(LatexWarning(f\"Latex injecting: '{ext}' from '{subsource}'\"))\n",
      "/opt/hostedtoolcache/Python/3.9.15/x64/lib/python3.9/site-packages/arxiv_on_deck_2/latex.py:292: LatexWarning: Latex injecting: 'Section_1' from 'tmp_2210.11488/Section_1.tex'\n",
      "  warnings.warn(LatexWarning(f\"Latex injecting: '{ext}' from '{subsource}'\"))\n"
     ]
    },
    {
     "name": "stdout",
     "output_type": "stream",
     "text": [
      "extracting tarball to tmp_2210.11506..."
     ]
    },
    {
     "name": "stdout",
     "output_type": "stream",
     "text": [
      " done.\n",
      "Retrieving document from  https://arxiv.org/e-print/2210.11515\n"
     ]
    },
    {
     "name": "stdout",
     "output_type": "stream",
     "text": [
      "extracting tarball to tmp_2210.11515..."
     ]
    },
    {
     "name": "stdout",
     "output_type": "stream",
     "text": [
      " done.\n",
      "Retrieving document from  https://arxiv.org/e-print/2210.11518\n"
     ]
    },
    {
     "name": "stderr",
     "output_type": "stream",
     "text": [
      "/opt/hostedtoolcache/Python/3.9.15/x64/lib/python3.9/site-packages/IPython/core/interactiveshell.py:3378: LatexWarning: Multiple tex files.\n",
      "\n",
      "  exec(code_obj, self.user_global_ns, self.user_ns)\n",
      "/opt/hostedtoolcache/Python/3.9.15/x64/lib/python3.9/site-packages/IPython/core/interactiveshell.py:3378: LatexWarning: Found documentclass in tmp_2210.11515/sample631.tex\n",
      "\n",
      "  exec(code_obj, self.user_global_ns, self.user_ns)\n"
     ]
    },
    {
     "name": "stdout",
     "output_type": "stream",
     "text": [
      "extracting tarball to tmp_2210.11518..."
     ]
    },
    {
     "name": "stdout",
     "output_type": "stream",
     "text": [
      " done.\n",
      "Retrieving document from  https://arxiv.org/e-print/2210.11544\n"
     ]
    },
    {
     "name": "stdout",
     "output_type": "stream",
     "text": [
      "extracting tarball to tmp_2210.11544..."
     ]
    },
    {
     "name": "stdout",
     "output_type": "stream",
     "text": [
      " done.\n",
      "Retrieving document from  https://arxiv.org/e-print/2210.11551\n"
     ]
    },
    {
     "name": "stdout",
     "output_type": "stream",
     "text": [
      "extracting tarball to tmp_2210.11551..."
     ]
    },
    {
     "name": "stdout",
     "output_type": "stream",
     "text": [
      " done.\n"
     ]
    },
    {
     "name": "stderr",
     "output_type": "stream",
     "text": [
      "/opt/hostedtoolcache/Python/3.9.15/x64/lib/python3.9/site-packages/IPython/core/interactiveshell.py:3378: LatexWarning: Multiple tex files.\n",
      "\n",
      "  exec(code_obj, self.user_global_ns, self.user_ns)\n",
      "/opt/hostedtoolcache/Python/3.9.15/x64/lib/python3.9/site-packages/IPython/core/interactiveshell.py:3378: LatexWarning: Found documentclass in tmp_2210.11551/mnras.tex\n",
      "\n",
      "  exec(code_obj, self.user_global_ns, self.user_ns)\n"
     ]
    },
    {
     "name": "stdout",
     "output_type": "stream",
     "text": [
      "Retrieving document from  https://arxiv.org/e-print/2210.11575\n"
     ]
    },
    {
     "name": "stdout",
     "output_type": "stream",
     "text": [
      "extracting tarball to tmp_2210.11575..."
     ]
    },
    {
     "name": "stdout",
     "output_type": "stream",
     "text": [
      " done.\n",
      "Retrieving document from  https://arxiv.org/e-print/2210.11600\n"
     ]
    },
    {
     "name": "stderr",
     "output_type": "stream",
     "text": [
      "/tmp/ipykernel_2292/4030337529.py:34: LatexWarning: 2210.11600 did not run properly\n",
      "not a gzip file\n",
      "  warnings.warn(latex.LatexWarning(f\"{paper_id:s} did not run properly\\n\" +\n"
     ]
    },
    {
     "name": "stdout",
     "output_type": "stream",
     "text": [
      "Retrieving document from  https://arxiv.org/e-print/2210.11622\n"
     ]
    },
    {
     "name": "stdout",
     "output_type": "stream",
     "text": [
      "extracting tarball to tmp_2210.11622..."
     ]
    },
    {
     "name": "stdout",
     "output_type": "stream",
     "text": [
      " done.\n",
      "Retrieving document from  https://arxiv.org/e-print/2210.11629\n"
     ]
    },
    {
     "name": "stdout",
     "output_type": "stream",
     "text": [
      "extracting tarball to tmp_2210.11629..."
     ]
    },
    {
     "name": "stdout",
     "output_type": "stream",
     "text": [
      " done.\n",
      "Retrieving document from  https://arxiv.org/e-print/2210.11713\n"
     ]
    },
    {
     "name": "stdout",
     "output_type": "stream",
     "text": [
      "extracting tarball to tmp_2210.11713..."
     ]
    },
    {
     "name": "stdout",
     "output_type": "stream",
     "text": [
      " done.\n",
      "Retrieving document from  https://arxiv.org/e-print/2210.11878\n"
     ]
    },
    {
     "name": "stdout",
     "output_type": "stream",
     "text": [
      "extracting tarball to tmp_2210.11878..."
     ]
    },
    {
     "name": "stdout",
     "output_type": "stream",
     "text": [
      " done.\n"
     ]
    },
    {
     "name": "stderr",
     "output_type": "stream",
     "text": [
      "/tmp/ipykernel_2292/4030337529.py:34: LatexWarning: 2210.11878 did not run properly\n",
      "[Errno 2] No such file or directory: 'gs'\n",
      "  warnings.warn(latex.LatexWarning(f\"{paper_id:s} did not run properly\\n\" +\n"
     ]
    },
    {
     "name": "stdout",
     "output_type": "stream",
     "text": [
      "Retrieving document from  https://arxiv.org/e-print/2210.11926\n"
     ]
    },
    {
     "name": "stdout",
     "output_type": "stream",
     "text": [
      "extracting tarball to tmp_2210.11926..."
     ]
    },
    {
     "name": "stdout",
     "output_type": "stream",
     "text": [
      " done.\n"
     ]
    },
    {
     "name": "stderr",
     "output_type": "stream",
     "text": [
      "/opt/hostedtoolcache/Python/3.9.15/x64/lib/python3.9/site-packages/arxiv_on_deck_2/latex.py:118: LatexWarning: attempting recovering figure tilted_ring\n",
      "  warnings.warn(LatexWarning(f'attempting recovering figure {image}'))\n"
     ]
    },
    {
     "name": "stderr",
     "output_type": "stream",
     "text": [
      "/opt/hostedtoolcache/Python/3.9.15/x64/lib/python3.9/site-packages/arxiv_on_deck_2/latex.py:118: LatexWarning: attempting recovering figure J2310_split_12m+7m_cii_image_chan29-60_mom0\n",
      "  warnings.warn(LatexWarning(f'attempting recovering figure {image}'))\n",
      "/opt/hostedtoolcache/Python/3.9.15/x64/lib/python3.9/site-packages/arxiv_on_deck_2/latex.py:118: LatexWarning: attempting recovering figure J2310_split_12m+7m_cii_image_chan29-60_4sigma_mom1\n",
      "  warnings.warn(LatexWarning(f'attempting recovering figure {image}'))\n",
      "/opt/hostedtoolcache/Python/3.9.15/x64/lib/python3.9/site-packages/arxiv_on_deck_2/latex.py:118: LatexWarning: attempting recovering figure J2310_split_12m+7m_cii_image_chan29-60_mom0_2sigma_spectrum\n",
      "  warnings.warn(LatexWarning(f'attempting recovering figure {image}'))\n"
     ]
    },
    {
     "name": "stderr",
     "output_type": "stream",
     "text": [
      "/opt/hostedtoolcache/Python/3.9.15/x64/lib/python3.9/site-packages/arxiv_on_deck_2/latex.py:118: LatexWarning: attempting recovering figure J2310_rb0_5_15_625MHz_co98_image_chan49-63_mom0\n",
      "  warnings.warn(LatexWarning(f'attempting recovering figure {image}'))\n",
      "/opt/hostedtoolcache/Python/3.9.15/x64/lib/python3.9/site-packages/arxiv_on_deck_2/latex.py:118: LatexWarning: attempting recovering figure J2310_rb0_5_15_625MHz_co98_image_chan49-63_4sigma_mom1\n",
      "  warnings.warn(LatexWarning(f'attempting recovering figure {image}'))\n",
      "/opt/hostedtoolcache/Python/3.9.15/x64/lib/python3.9/site-packages/arxiv_on_deck_2/latex.py:118: LatexWarning: attempting recovering figure J2310_br0_5_15_625MHz_co98_image_mom0_2sigma_spectrum\n",
      "  warnings.warn(LatexWarning(f'attempting recovering figure {image}'))\n"
     ]
    },
    {
     "name": "stderr",
     "output_type": "stream",
     "text": [
      "/opt/hostedtoolcache/Python/3.9.15/x64/lib/python3.9/site-packages/arxiv_on_deck_2/latex.py:118: LatexWarning: attempting recovering figure J2310_rb2_allchannels_1sigma_oh+_image_mom0\n",
      "  warnings.warn(LatexWarning(f'attempting recovering figure {image}'))\n",
      "/opt/hostedtoolcache/Python/3.9.15/x64/lib/python3.9/site-packages/arxiv_on_deck_2/latex.py:118: LatexWarning: attempting recovering figure J2310_oh+_2sigma_3comp_spectrum\n",
      "  warnings.warn(LatexWarning(f'attempting recovering figure {image}'))\n"
     ]
    },
    {
     "name": "stderr",
     "output_type": "stream",
     "text": [
      "/opt/hostedtoolcache/Python/3.9.15/x64/lib/python3.9/site-packages/arxiv_on_deck_2/latex.py:118: LatexWarning: attempting recovering figure sb_cii_model_fit_plot_final_mc\n",
      "  warnings.warn(LatexWarning(f'attempting recovering figure {image}'))\n"
     ]
    },
    {
     "name": "stderr",
     "output_type": "stream",
     "text": [
      "/opt/hostedtoolcache/Python/3.9.15/x64/lib/python3.9/site-packages/arxiv_on_deck_2/latex.py:118: LatexWarning: attempting recovering figure sb_co98_model_fit_plot_final_mc_compare\n",
      "  warnings.warn(LatexWarning(f'attempting recovering figure {image}'))\n"
     ]
    },
    {
     "name": "stderr",
     "output_type": "stream",
     "text": [
      "/opt/hostedtoolcache/Python/3.9.15/x64/lib/python3.9/site-packages/arxiv_on_deck_2/latex.py:118: LatexWarning: attempting recovering figure rcd\n",
      "  warnings.warn(LatexWarning(f'attempting recovering figure {image}'))\n",
      "/opt/hostedtoolcache/Python/3.9.15/x64/lib/python3.9/site-packages/arxiv_on_deck_2/latex.py:118: LatexWarning: attempting recovering figure rcd2\n",
      "  warnings.warn(LatexWarning(f'attempting recovering figure {image}'))\n",
      "/opt/hostedtoolcache/Python/3.9.15/x64/lib/python3.9/site-packages/arxiv_on_deck_2/latex.py:118: LatexWarning: attempting recovering figure J2310_withoutbh\n",
      "  warnings.warn(LatexWarning(f'attempting recovering figure {image}'))\n"
     ]
    },
    {
     "name": "stderr",
     "output_type": "stream",
     "text": [
      "/opt/hostedtoolcache/Python/3.9.15/x64/lib/python3.9/site-packages/arxiv_on_deck_2/latex.py:118: LatexWarning: attempting recovering figure deficit\n",
      "  warnings.warn(LatexWarning(f'attempting recovering figure {image}'))\n",
      "/opt/hostedtoolcache/Python/3.9.15/x64/lib/python3.9/site-packages/arxiv_on_deck_2/latex.py:118: LatexWarning: attempting recovering figure plot_trend\n",
      "  warnings.warn(LatexWarning(f'attempting recovering figure {image}'))\n"
     ]
    },
    {
     "name": "stderr",
     "output_type": "stream",
     "text": [
      "/opt/hostedtoolcache/Python/3.9.15/x64/lib/python3.9/site-packages/arxiv_on_deck_2/latex.py:118: LatexWarning: attempting recovering figure KS_plot\n",
      "  warnings.warn(LatexWarning(f'attempting recovering figure {image}'))\n"
     ]
    },
    {
     "name": "stderr",
     "output_type": "stream",
     "text": [
      "/opt/hostedtoolcache/Python/3.9.15/x64/lib/python3.9/site-packages/arxiv_on_deck_2/latex.py:118: LatexWarning: attempting recovering figure plot_for_paper\n",
      "  warnings.warn(LatexWarning(f'attempting recovering figure {image}'))\n"
     ]
    },
    {
     "name": "stderr",
     "output_type": "stream",
     "text": [
      "/opt/hostedtoolcache/Python/3.9.15/x64/lib/python3.9/site-packages/arxiv_on_deck_2/latex.py:118: LatexWarning: attempting recovering figure sb_262GHz_model_fit_plot_final_mc_compare\n",
      "  warnings.warn(LatexWarning(f'attempting recovering figure {image}'))\n"
     ]
    },
    {
     "name": "stderr",
     "output_type": "stream",
     "text": [
      "/opt/hostedtoolcache/Python/3.9.15/x64/lib/python3.9/site-packages/arxiv_on_deck_2/latex.py:118: LatexWarning: attempting recovering figure sb_147GHz_model_fit_plot_final_mc_compare\n",
      "  warnings.warn(LatexWarning(f'attempting recovering figure {image}'))\n"
     ]
    },
    {
     "name": "stdout",
     "output_type": "stream",
     "text": [
      "Retrieving document from  https://arxiv.org/e-print/2210.11964\n"
     ]
    },
    {
     "name": "stdout",
     "output_type": "stream",
     "text": [
      "extracting tarball to tmp_2210.11964..."
     ]
    },
    {
     "name": "stdout",
     "output_type": "stream",
     "text": [
      " done.\n",
      "Retrieving document from  https://arxiv.org/e-print/2210.11967\n"
     ]
    },
    {
     "name": "stdout",
     "output_type": "stream",
     "text": [
      "extracting tarball to tmp_2210.11967..."
     ]
    },
    {
     "name": "stdout",
     "output_type": "stream",
     "text": [
      " done.\n",
      "Retrieving document from  https://arxiv.org/e-print/2210.11977\n"
     ]
    },
    {
     "name": "stdout",
     "output_type": "stream",
     "text": [
      "extracting tarball to tmp_2210.11977..."
     ]
    },
    {
     "name": "stdout",
     "output_type": "stream",
     "text": [
      " done.\n",
      "Retrieving document from  https://arxiv.org/e-print/2210.11986\n"
     ]
    },
    {
     "name": "stdout",
     "output_type": "stream",
     "text": [
      "extracting tarball to tmp_2210.11986..."
     ]
    },
    {
     "name": "stdout",
     "output_type": "stream",
     "text": [
      " done.\n"
     ]
    },
    {
     "name": "stderr",
     "output_type": "stream",
     "text": [
      "/opt/hostedtoolcache/Python/3.9.15/x64/lib/python3.9/site-packages/IPython/core/interactiveshell.py:3378: LatexWarning: Multiple tex files.\n",
      "\n",
      "  exec(code_obj, self.user_global_ns, self.user_ns)\n",
      "/opt/hostedtoolcache/Python/3.9.15/x64/lib/python3.9/site-packages/IPython/core/interactiveshell.py:3378: LatexWarning: Found documentclass in tmp_2210.11986/FMS_UHJ.tex\n",
      "\n",
      "  exec(code_obj, self.user_global_ns, self.user_ns)\n"
     ]
    }
   ],
   "source": [
    "documents = []\n",
    "failed = []\n",
    "for paper in tqdm(candidates[:-1]):\n",
    "    paper_id = paper['identifier'].lower().replace('arxiv:', '')\n",
    "    \n",
    "    folder = f'tmp_{paper_id}'\n",
    "\n",
    "    try:\n",
    "        if not os.path.isdir(folder):\n",
    "            folder = retrieve_document_source(f\"{paper_id}\", f'tmp_{paper_id}')\n",
    "        \n",
    "        try:\n",
    "            doc = latex.LatexDocument(folder, validation=validation)    \n",
    "        except AffiliationError as affilerror:\n",
    "            msg = f\"ArXiv:{paper_id:s} is not an MPIA paper... \" + str(affilerror)\n",
    "            failed.append((paper, \"affiliation error: \" + str(affilerror) ))\n",
    "            continue\n",
    "        \n",
    "        # Hack because sometimes author parsing does not work well\n",
    "        if (len(doc.authors) != len(paper['authors'])):\n",
    "            doc._authors = paper['authors']\n",
    "        if (doc.abstract) in (None, ''):\n",
    "            doc._abstract = paper['abstract']\n",
    "            \n",
    "        doc.comment = (get_markdown_badge(paper_id) + \n",
    "                       \"<mark>Appeared on: \" + paper['date'] + \"</mark> - \" +\n",
    "                       \"_\" + paper['comments'] + \"_\")\n",
    "        doc.highlight_authors_in_list(hl_list)\n",
    "\n",
    "        full_md = doc.generate_markdown_text()\n",
    "        \n",
    "        documents.append((paper_id, full_md))\n",
    "    except Exception as e:\n",
    "        warnings.warn(latex.LatexWarning(f\"{paper_id:s} did not run properly\\n\" +\n",
    "                                         str(e)\n",
    "                                        ))\n",
    "        failed.append((paper, \"latex error \" + str(e)))"
   ]
  },
  {
   "cell_type": "markdown",
   "id": "2505a25c",
   "metadata": {
    "papermill": {
     "duration": 0.00807,
     "end_time": "2022-10-24T05:25:48.117877",
     "exception": false,
     "start_time": "2022-10-24T05:25:48.109807",
     "status": "completed"
    },
    "tags": []
   },
   "source": [
    "### Export the logs\n",
    "\n",
    "Throughout, we also keep track of the logs per paper. see `logs-{today date}.md` "
   ]
  },
  {
   "cell_type": "code",
   "execution_count": 6,
   "id": "d733828a",
   "metadata": {
    "execution": {
     "iopub.execute_input": "2022-10-24T05:25:48.139351Z",
     "iopub.status.busy": "2022-10-24T05:25:48.138616Z",
     "iopub.status.idle": "2022-10-24T05:25:48.172027Z",
     "shell.execute_reply": "2022-10-24T05:25:48.171313Z"
    },
    "papermill": {
     "duration": 0.053405,
     "end_time": "2022-10-24T05:25:48.179255",
     "exception": false,
     "start_time": "2022-10-24T05:25:48.125850",
     "status": "completed"
    },
    "scrolled": false,
    "tags": []
   },
   "outputs": [
    {
     "data": {
      "text/markdown": [
       "## Successful papers"
      ],
      "text/plain": [
       "<IPython.core.display.Markdown object>"
      ]
     },
     "metadata": {},
     "output_type": "display_data"
    },
    {
     "data": {
      "text/markdown": [
       "\n",
       "|||\n",
       "|---:|:---|\n",
       "| [![arXiv](https://img.shields.io/badge/arXiv-arXiv:2210.11551-b31b1b.svg)](https://arxiv.org/abs/arXiv:2210.11551) | **Properties of atomic hydrogen gas in the Galactic plane from THOR 21-cm  absorption spectra: a comparison with the high latitude gas**  |\n",
       "|| Arghyadeep Basu, et al. -- incl., <mark>Henrik Beuther</mark>, <mark>Jonas Syed</mark> |\n",
       "|*Appeared on*| *2022-10-24*|\n",
       "|*Comments*| *6 pages, 5 figures, submitted and accepted for publication in MNRAS*|\n",
       "|**Abstract**| The neutral hydrogen 21 cm line is an excellent tracer of the atomic interstellar medium in the cold and the warm phases. Combined 21 cm emission and absorption observations are very useful to study the properties of the gas over a wide range of density and temperature. In this work, we have used 21 cm absorption spectra from recent interferometric surveys, along with the corresponding emission spectra from earlier single dish surveys to study the properties of the atomic gas in the Milky Way. In particular, we focus on a comparison of properties between lines of sight through the gas disk in the Galactic plane and high Galactic latitude lines of sight through more diffuse gas. As expected, the analysis shows a lower average temperature for the gas in the Galactic plane compared to that along the high latitude lines of sight. The gas in the plane also has a higher molecular fraction, showing a sharp transition and flattening in the dust - gas correlation. On the other hand, the observed correlation between 21 cm brightness temperature and optical depth indicates some intrinsic difference in spin temperature distribution and a fraction of gas in the Galactic plane having intermediate optical depth (for 0.02 < $\\tau$ < 0.2) but higher spin temperature, compared to that of the diffuse gas at high latitude with the same optical depth. This may be due to a small fraction of cold gas with slightly higher temperature and lower density present on the Galactic plane. |"
      ],
      "text/plain": [
       "[arXiv:2210.11551] Properties of atomic hydrogen gas in the Galactic plane from THOR 21-cm  absorption spectra: a comparison with the high latitude gas\n",
       "\tArghyadeep Basu, et al. -- incl., <mark>Henrik Beuther</mark>, <mark>Jonas Syed</mark>"
      ]
     },
     "metadata": {},
     "output_type": "display_data"
    },
    {
     "data": {
      "text/markdown": [
       "\n",
       "|||\n",
       "|---:|:---|\n",
       "| [![arXiv](https://img.shields.io/badge/arXiv-arXiv:2210.11926-b31b1b.svg)](https://arxiv.org/abs/arXiv:2210.11926) | **The interstellar medium distribution, gas kinematics, and system  dynamics of the far-infrared luminous quasar SDSS J2310+1855 at $z=6.0$**  |\n",
       "|| Yali Shao, et al. -- incl., <mark>Fabian Walter</mark>, <mark>Frank Bertoldi</mark>, <mark>Linhua Jiang</mark> |\n",
       "|*Appeared on*| *2022-10-24*|\n",
       "|*Comments*| *Accepted for publication in A&A*|\n",
       "|**Abstract**| We present ALMA sub-kpc- to kpc-scale resolution observations of the [CII], CO(9-8), and OH$^{+}$\\,($1_{1}$--$0_{1}$) lines along with their dust continuum emission toward the FIR luminous quasar SDSS J231038.88+185519.7 at $z = 6.0031$. The [CII] brightness follows a flat distribution with a Sersic index of 0.59. The CO(9-8) line and the dust continuum can be fit with an unresolved nuclear component and an extended Sersic component with a Sersic index of ~1. The dust temperature drops with distance from the center. The effective radius of the dust continuum is smaller than that of the line emission and the dust mass surface density, but is consistent with that of the star formation rate surface density. The OH$^{+}$\\,($1_{1}$--$0_{1}$) line shows a P-Cygni profile with an absorption, which may indicate an outflow with a neutral gas mass of $(6.2\\pm1.2)\\times10^{8} M_{\\odot}$ along the line of sight. We employed a 3D tilted ring model to fit the [CII] and CO(9-8) data cubes. The two lines are both rotation dominated and trace identical disk geometries and gas motions. We decompose the circular rotation curve measured from the kinematic model fit to the [CII] line into four matter components (black hole, stars, gas, and dark matter). The quasar-starburst system is dominated by baryonic matter inside the central few kiloparsecs. We constrain the black hole mass to be $2.97^{+0.51}_{-0.77}\\times 10^{9}\\,M_{\\odot}$; this is the first time that the dynamical mass of a black hole has been measured at $z\\sim6$. A massive stellar component (on the order of $10^{9}\\,M_{\\odot}$) may have already existed when the Universe was only ~0.93 Gyr old. The relations between the black hole mass and the baryonic mass of this quasar indicate that the central supermassive black hole may have formed before its host galaxy. [Abridged version. Please see the full abstract in the manuscript.] |"
      ],
      "text/plain": [
       "[arXiv:2210.11926] The interstellar medium distribution, gas kinematics, and system  dynamics of the far-infrared luminous quasar SDSS J2310+1855 at $z=6.0$\n",
       "\tYali Shao, et al. -- incl., <mark>Fabian Walter</mark>, <mark>Frank Bertoldi</mark>, <mark>Linhua Jiang</mark>"
      ]
     },
     "metadata": {},
     "output_type": "display_data"
    },
    {
     "data": {
      "text/markdown": [
       "## Failed papers"
      ],
      "text/plain": [
       "<IPython.core.display.Markdown object>"
      ]
     },
     "metadata": {},
     "output_type": "display_data"
    },
    {
     "data": {
      "text/markdown": [
       "\n",
       "|||\n",
       "|---:|:---|\n",
       "| [![arXiv](https://img.shields.io/badge/arXiv-arXiv:2210.11977-b31b1b.svg)](https://arxiv.org/abs/arXiv:2210.11977) | **The SOUX AGN sample: Optical/UV/X-ray SEDs and the nature of the disc**  |\n",
       "|| Jake A. J. Mitchell, et al. -- incl., <mark>Hermine Landt</mark> |\n",
       "|*Appeared on*| *2022-10-24*|\n",
       "|*Comments*| *Submitted to MNRAS*|\n",
       "|**Abstract**| We use the SOUX sample of $\\sim$700 AGN to form average optical-UV-X-rays SEDs on a 2D grid of $M_{\\mathrm{BH}}$ and $L_{2500}$. We compare these with the predictions of a new AGN SED model, QSOSED, which includes prescriptions for both hot and warm Comptonisation regions as well as an outer standard disc. This predicts the overall SED fairly well for 7.5<log($M_{\\mathrm{BH}}/M_{\\mathrm{\\odot}}$)<9.0 over a wide range in $L/L_{\\mathrm{Edd}}$, but at higher masses the outer disc spectra in the model are far too cool to match the data. We create optical-UV composites from the entire SDSS sample and use these to show that the mismatch is due to there being no significant change in spectral shape of the optical-UV continuum across several decades of $M_{\\mathrm{BH}}$ at constant luminosity. We show for the first time that this cannot be matched by standard disc models with high black hole spin. These apparently fit, but are not self-consistent as they do not include the General Relativistic effects for the emission to reach the observer. At high spin, increased gravitational redshift compensates for almost all of the higher temperature emission from the smaller inner disc radii. The data do not match the predictions made by any current accretion flow model. Either the disc is completely covered by a warm Comptonisation layer whose properties change systematically with $L/L_{\\mathrm{Edd}}$, or the accretion flow structure is fundamentally different to that of the standard disc models. |\n",
       "|<p style=\"color:green\"> **ERROR** </p>| <p style=\"color:green\">affiliation error: mpia.affiliation_verifications: '69117' keyword not found.</p> |"
      ],
      "text/plain": [
       "<IPython.core.display.Markdown object>"
      ]
     },
     "metadata": {},
     "output_type": "display_data"
    },
    {
     "data": {
      "text/markdown": [
       "\n",
       "|||\n",
       "|---:|:---|\n",
       "| [![arXiv](https://img.shields.io/badge/arXiv-arXiv:2210.11488-b31b1b.svg)](https://arxiv.org/abs/arXiv:2210.11488) | **Gap-opening Planets Make Dust Rings Wider**  |\n",
       "|| Jiaqing Bi, <mark>Min-Kai Lin</mark>, Ruobing Dong |\n",
       "|*Appeared on*| *2022-10-24*|\n",
       "|*Comments*| *17 pages, 6+3 figures, 2 tables, accepted in ApJ*|\n",
       "|**Abstract**| As one of the most commonly observed disk substructures, dust rings from high-resolution disk surveys appear to have different radial widths. Recent observations on PDS 70 and AB Aur reveal not only planets in the disk, but also the accompanying wide dust rings. We use three-dimensional dust-and-gas disk simulations to study whether gap-opening planets are responsible for the large ring width in disk observations. We find that gap-opening planets can widen rings of dust trapped at the pressure bump via planetary perturbations, even with the mid-plane dust-to-gas ratio approaching order unity and with the dust back-reaction accounted for. We show that the planet-related widening effect of dust rings can be quantified using diffusion-advection theory, and provide a generalized criterion for an equilibrated dust ring width in three-dimensional disk models. We also suggest that the ring width can be estimated using the gas turbulent viscosity $\\alpha_{\\rm turb}$, but with cautions about the Schmidt number greater than order unity. |\n",
       "|<p style=\"color:green\"> **ERROR** </p>| <p style=\"color:green\">affiliation error: mpia.affiliation_verifications: 'Heidelberg' keyword not found.</p> |"
      ],
      "text/plain": [
       "<IPython.core.display.Markdown object>"
      ]
     },
     "metadata": {},
     "output_type": "display_data"
    },
    {
     "data": {
      "text/markdown": [
       "\n",
       "|||\n",
       "|---:|:---|\n",
       "| [![arXiv](https://img.shields.io/badge/arXiv-arXiv:2210.11506-b31b1b.svg)](https://arxiv.org/abs/arXiv:2210.11506) | **Compton-thick AGN in the NuSTAR Era. IX. A Joint NuSTAR and XMM-Newton  Analysis of Four Local AGN**  |\n",
       "|| Ross Silver, et al. -- incl., <mark>Nuria Torres-Alba</mark>, <mark>Xiurui Zhao</mark> |\n",
       "|*Appeared on*| *2022-10-24*|\n",
       "|*Comments*| **|\n",
       "|**Abstract**| We present the results of the broadband X-ray spectral analysis of simultaneous NuSTAR and XMM-Newton observations of four nearby Compton-thick active galactic nuclei (AGN) candidates selected from the Swift-Burst Alert Telescope (BAT) 150-month catalog. This work is part of a larger effort to identify and characterize all Compton-thick (NH >= 10^24 cm^-2) AGN in the local Universe (z < 0.05). We used three physically motivated models -- MYTorus, borus02, and UXClumpy -- to fit and characterize these sources. Of the four candidates analyzed, 2MASX J02051994-0233055 was found to be an unobscured (NH < 10^22 cm^-2) AGN, 2MASX J04075215-6116126 and IC 2227 to be Compton-thin (10^22 cm^-2 < NH < 10^24 cm^-2) AGN, and one, ESO 362-8, was confirmed to be a Compton-thick AGN. Additionally, every source was found to have a statistically significant difference between their line-of-sight and average torus hydrogen column density, further supporting the idea that the obscuring material in AGN is inhomogeneous. Furthermore, half of the sources in our sample (2MASX J02051994-0233055 and 2MASX J04075215-6116126) exhibited significant luminosity variation in the last decade, suggesting that this might be a common feature of AGN. |\n",
       "|<p style=\"color:green\"> **ERROR** </p>| <p style=\"color:green\">affiliation error: mpia.affiliation_verifications: 'Heidelberg' keyword not found.</p> |"
      ],
      "text/plain": [
       "<IPython.core.display.Markdown object>"
      ]
     },
     "metadata": {},
     "output_type": "display_data"
    },
    {
     "data": {
      "text/markdown": [
       "\n",
       "|||\n",
       "|---:|:---|\n",
       "| [![arXiv](https://img.shields.io/badge/arXiv-arXiv:2210.11515-b31b1b.svg)](https://arxiv.org/abs/arXiv:2210.11515) | **If dark matter is fuzzy, the first stars form in massive pancakes**  |\n",
       "|| Mihir Kulkarni, Eli Visbal, Greg L. Bryan, <mark>Xinyu Li</mark> |\n",
       "|*Appeared on*| *2022-10-24*|\n",
       "|*Comments*| *9 pages, 6 figures, submitted to ApJL*|\n",
       "|**Abstract**| Fuzzy dark matter (FDM) is a proposed modification for the standard cold dark matter (CDM) model motivated by small-scale discrepancies in low-mass galaxies. Composed of ultra-light (mass $\\sim 10^{-22}$ eV) axions with kpc-scale de Broglie wavelengths, this is one of a class of candidates that predicts that the first collapsed objects form in relatively massive dark matter halos. This implies that the formation history of the first stars and galaxies would be very different, potentially placing strong constraints on such models. Here we numerically simulate the formation of the first stars in an FDM cosmology, following the collapse in a representative volume all the way down to primordial protostar formation including a primordial non-equilibrium chemical network and cooling for the first time. We find two novel results: first, the large-scale collapse results in a very thin and flat gas ``pancake\"; second, despite the very different cosmology, this pancake fragments until it forms protostellar objects indistinguishable from those in CDM. Combined, these results indicate that the first generation of stars in this model are also likely to be massive and, because of the sheet morphology, do not self-regulate, resulting in a massive Pop III starburst. We estimate the total number of first stars forming in this extended structure to be $10^4$ over 20 Myr using a simple model to account for the ionizing feedback from the stars, and should be observable with JWST. These predictions provide a potential smoking gun signature of FDM and similar dark matter candidates. |\n",
       "|<p style=\"color:green\"> **ERROR** </p>| <p style=\"color:green\">affiliation error: mpia.affiliation_verifications: 'Heidelberg' keyword not found.</p> |"
      ],
      "text/plain": [
       "<IPython.core.display.Markdown object>"
      ]
     },
     "metadata": {},
     "output_type": "display_data"
    },
    {
     "data": {
      "text/markdown": [
       "\n",
       "|||\n",
       "|---:|:---|\n",
       "| [![arXiv](https://img.shields.io/badge/arXiv-arXiv:2210.11518-b31b1b.svg)](https://arxiv.org/abs/arXiv:2210.11518) | **Magnetar spin-down glitch clearing the way for FRB-like bursts and a  pulsed radio episode**  |\n",
       "|| G. Younes, et al. -- incl., <mark>L. Lin</mark> |\n",
       "|*Appeared on*| *2022-10-24*|\n",
       "|*Comments*| *51 pages, 3 tables, 8 figures. Accepted for publication in Nature Astronomy*|\n",
       "|**Abstract**| Magnetars are a special subset of the isolated neutron star family, with X-ray and radio emission mainly powered by the decay of their immense magnetic fields. Many attributes of magnetars remain poorly understood: spin-down glitches or the sudden reductions in the star's angular momentum, radio bursts reminiscent of extra-galactic Fast Radio Bursts (FRBs), and transient pulsed radio emission lasting months to years. Here we unveil the detection of a large spin-down glitch event ($|\\Delta\\nu/\\nu| = 5.8_{-1.6}^{+2.6}\\times10^{-6}$) from the magnetar SGR~1935+2154 on 2020 October 5 (+/- 1 day). We find no change to the source persistent surface thermal or magnetospheric X-ray behavior, nor is there evidence of strong X-ray bursting activity. Yet, in the subsequent days, the magnetar emitted three FRB-like radio bursts followed by a month long episode of pulsed radio emission. Given the rarity of spin-down glitches and radio signals from magnetars, their approximate synchronicity suggests an association, providing pivotal clues to their origin and triggering mechanisms, with ramifications to the broader magnetar and FRB populations. We postulate that impulsive crustal plasma shedding close to the magnetic pole generates a wind that combs out magnetic field lines, rapidly reducing the star's angular momentum, while temporarily altering the magnetospheric field geometry to permit the pair creation needed to precipitate radio emission. |\n",
       "|<p style=\"color:green\"> **ERROR** </p>| <p style=\"color:green\">affiliation error: mpia.affiliation_verifications: 'Heidelberg' keyword not found.</p> |"
      ],
      "text/plain": [
       "<IPython.core.display.Markdown object>"
      ]
     },
     "metadata": {},
     "output_type": "display_data"
    },
    {
     "data": {
      "text/markdown": [
       "\n",
       "|||\n",
       "|---:|:---|\n",
       "| [![arXiv](https://img.shields.io/badge/arXiv-arXiv:2210.11544-b31b1b.svg)](https://arxiv.org/abs/arXiv:2210.11544) | **Indirect Measurements of Gas Velocities in Galaxy Clusters: Effects of  Ellipticity and Cluster Dynamic State**  |\n",
       "|| Irina Zhuravleva, et al. -- incl., <mark>Congyao Zhang</mark> |\n",
       "|*Appeared on*| *2022-10-24*|\n",
       "|*Comments*| *15 pages, 11 figures, submitted*|\n",
       "|**Abstract**| While awaiting direct velocity measurement of gas motions in the hot intracluster medium, we rely on indirect probes, including gas perturbations in galaxy clusters. Using a sample of $\\sim 80$ clusters in different dynamic states from Omega500 cosmological simulations, we examine scaling relations between the fluctuation amplitudes of gas density, $\\delta\\rho/\\rho$, pressure, $\\delta P/P$, X-ray surface brightness, Sunyaev-Zeldovich (SZ) y-parameter, and the characteristic Mach number of gas motions, $M_{\\rm 1d}$. In relaxed clusters, accounting for halo ellipticities reduces $\\delta\\rho/\\rho$ or $\\delta P/P$ by a factor of up to 2 within $r_{500c}$. We confirm a strong linear correlation between $\\delta\\rho/\\rho$ (or $\\delta P/P$) and $M_{\\rm 1d}$ in relaxed clusters, with the proportionality coefficient $\\eta \\approx 1$. For unrelaxed clusters, the correlation is less strong and has a larger $\\eta\\approx 1.3\\pm 0.5$ ($1.5\\pm0.5$) for $\\delta\\rho/\\rho$ ($\\delta P/P$). Examination of the power-law scaling of $M_{\\rm 1d}$ with $\\delta\\rho/\\rho$ shows that it is almost linear for relaxed clusters, while for the unrelaxed ones, it is closer to $\\delta\\rho/\\rho\\propto M_{\\rm 1d}^2$, supporting an increasing role of non-linear terms and compressive modes. In agreement with previous studies, we observe a strong correlation of $M_{\\rm 1d}$ with radius. Correcting for these correlations leaves a residual scatter in $M_{\\rm 1d}$ of $\\sim 4 (7)$ per cent for relaxed (perturbed) clusters. Hydrostatic mass bias correlates with $M_{\\rm 1d}$ as strongly as with $\\delta\\rho/\\rho$ in relaxed clusters. The residual scatters after correcting for derived trends is $\\sim 6-7$ per cent. These predictions can be verified with existing X-ray and SZ observations of galaxy clusters combined with forthcoming velocity measurements with X-ray microcalorimeters. |\n",
       "|<p style=\"color:green\"> **ERROR** </p>| <p style=\"color:green\">affiliation error: mpia.affiliation_verifications: 'Heidelberg' keyword not found.</p> |"
      ],
      "text/plain": [
       "<IPython.core.display.Markdown object>"
      ]
     },
     "metadata": {},
     "output_type": "display_data"
    },
    {
     "data": {
      "text/markdown": [
       "\n",
       "|||\n",
       "|---:|:---|\n",
       "| [![arXiv](https://img.shields.io/badge/arXiv-arXiv:2210.11575-b31b1b.svg)](https://arxiv.org/abs/arXiv:2210.11575) | **The connection between galactic outflows and the escape of ionizing  photons**  |\n",
       "|| Ramesh Mainali, et al. -- incl., <mark>Soniya Sharma</mark> |\n",
       "|*Appeared on*| *2022-10-24*|\n",
       "|*Comments*| *Accepted for publication in ApJ*|\n",
       "|**Abstract**| We analyze spectra of a gravitationally lensed galaxy, known as the Sunburst Arc, that is leaking ionizing photons, also known as the Lyman continuum (LyC). Magnification from gravitational lensing permits the galaxy to be spatially resolved into one region that leaks ionizing photons, and several that do not. Rest-frame ultraviolet and optical spectra from Magellan target ten different regions along the lensed Arc, including six multiple images of the LyC leaking region, as well as four regions that do not show LyC emission. The rest-frame optical spectra of the ionizing photon emitting regions reveal a blue-shifted ($\\Delta V$=27 km s$^{-1}$) broad emission component (FWHM=327 km s$^{-1}$) comprising 55% of the total [OIII] line flux, in addition to a narrow component (FWHM = 112 km s$^{-1}$), suggesting the presence of strong highly ionized gas outflows. This is consistent with the high-velocity ionized outflow inferred from the rest-frame UV spectra. In contrast, the broad emission component is less prominent in the non-leaking regions, comprising $\\sim$26% of total [OIII] line flux. The high ionization absorption lines are prominent in both leaker and non-leaker but low ionization absorption lines are very weak in the leaker, suggesting that the line of sight gas is highly ionized in the leaker. Analyses of stellar wind features reveal that the stellar population of the LyC leaking regions is considerably younger ($\\sim$3 Myr) than the non-leaking regions ($\\sim$12 Myr), highlighting that stellar feedback from young stars may play an important role in ionizing photon escape. |\n",
       "|<p style=\"color:green\"> **ERROR** </p>| <p style=\"color:green\">affiliation error: mpia.affiliation_verifications: 'Heidelberg' keyword not found.</p> |"
      ],
      "text/plain": [
       "<IPython.core.display.Markdown object>"
      ]
     },
     "metadata": {},
     "output_type": "display_data"
    },
    {
     "data": {
      "text/markdown": [
       "\n",
       "|||\n",
       "|---:|:---|\n",
       "| [![arXiv](https://img.shields.io/badge/arXiv-arXiv:2210.11622-b31b1b.svg)](https://arxiv.org/abs/arXiv:2210.11622) | **X-Ray Luminous Supernovae: Threats to Terrestrial Biospheres**  |\n",
       "|| Ian R. Brunton, et al. -- incl., <mark>Connor O'Mahoney</mark> |\n",
       "|*Appeared on*| *2022-10-24*|\n",
       "|*Comments*| *18 pages, 5 figures. Comments welcome*|\n",
       "|**Abstract**| The spectacular outbursts of energy associated with supernovae (SNe) have long motivated research into their potentially hazardous effects on Earth and analogous environments. Much of this research has focused primarily on the atmospheric damage associated with the prompt arrival of ionizing photons within days or months of the initial outburst, and the high-energy cosmic rays that arrive thousands of years after the explosion. In this study, we turn the focus to persistent X-ray emission, arising in certain SNe that have interactions with a dense circumstellar medium, and observed months and/or years after the initial outburst. The sustained high X-ray luminosity leads to large doses of ionizing radiation out to formidable distances. We provide an assessment of the threat posed by these X-ray luminous SNe by analyzing the collective X-ray observations from Chandra, Swift-XRT, XMM-Newton, NuSTAR, and others. We find that this threat is particularly acute for SNe showing evidence of strong circumstellar interaction, such as Type IIn explosions, which have significantly larger ranges of influence than previously expected, and lethal consequences up to $\\sim$ 50 pc away. Furthermore, X-ray bright SNe could pose a substantial and distinct threat to terrestrial biospheres, and tighten the Galactic habitable zone. We urge follow-up X-ray observations of interacting SNe for months and years after the explosion to shed light on the physical nature of the emission and its full time evolution, and to clarify the danger that these events pose for life in our Galaxy and other star-forming regions. |\n",
       "|<p style=\"color:green\"> **ERROR** </p>| <p style=\"color:green\">affiliation error: mpia.affiliation_verifications: 'Heidelberg' keyword not found.</p> |"
      ],
      "text/plain": [
       "<IPython.core.display.Markdown object>"
      ]
     },
     "metadata": {},
     "output_type": "display_data"
    },
    {
     "data": {
      "text/markdown": [
       "\n",
       "|||\n",
       "|---:|:---|\n",
       "| [![arXiv](https://img.shields.io/badge/arXiv-arXiv:2210.11629-b31b1b.svg)](https://arxiv.org/abs/arXiv:2210.11629) | **Massive Prestellar Cores in Radiation-magneto-turbulent Simulations of  Molecular Clouds**  |\n",
       "|| <mark>Chong-Chong He</mark>, Massimo Ricotti |\n",
       "|*Appeared on*| *2022-10-24*|\n",
       "|*Comments*| *20 pages, 13 figures, submitted to MNRAS. Comments welcome. Simulation movie available at this https URL*|\n",
       "|**Abstract**| We simulate the formation and collapse of prestellar cores at few-AU resolution in a set of radiation-magneto-hydrodynamic simulations of giant molecular clouds (GMCs) using the grid-based code RAMSES-RT. We adopt, for the first time to our best knowledge, realistic initial/boundary conditions by zooming-in onto individual massive prestellar cores within the GMC. We identify two distinct modes of fragmentation: \"quasi-spherical\" and \"filamentary\". In both modes the fragments eventually become embedded in a quasi-steady accretion disk or toroid with radii ~ 500-5000 AU and opening angles $H/R \\sim 0.5-1$. The disks/toroids are Toomre stable but the accreted pre-existing fragments are found orbiting the outer disk, appearing as disk fragmentation. Each core converts nearly 100 percent of the gas mass into a few massive stars forming near the disk center. Large and massive disks around high-mass stars are supported by magnetic pressure in the outer disk, at radii >200-1000 AU, and turbulent pressure in the inner disk. The most massive core accretes several times more mass than its initial mass, forming a (proto)star cluster of 8 massive stars enshrouded by a toroid, suggesting a competitive accretion scenario for ultra-high-mass star formation. We also find that the HII regions produced by a single massive star remain trapped in the dense circumstellar disks for a few hundred kiloyears, while the dynamic motions of massive stars in wide binaries or multiple systems displace the stars from the densest parts of the disk, allowing UV radiation to escape producing steady or pulsating bipolar HII regions. |\n",
       "|<p style=\"color:green\"> **ERROR** </p>| <p style=\"color:green\">affiliation error: mpia.affiliation_verifications: 'Heidelberg' keyword not found.</p> |"
      ],
      "text/plain": [
       "<IPython.core.display.Markdown object>"
      ]
     },
     "metadata": {},
     "output_type": "display_data"
    },
    {
     "data": {
      "text/markdown": [
       "\n",
       "|||\n",
       "|---:|:---|\n",
       "| [![arXiv](https://img.shields.io/badge/arXiv-arXiv:2210.11713-b31b1b.svg)](https://arxiv.org/abs/arXiv:2210.11713) | **Subhalo abundance matching using progenitor mass**  |\n",
       "|| Shogo Masaki, Daichi Kashino, <mark>Yen-Ting Lin</mark> |\n",
       "|*Appeared on*| *2022-10-24*|\n",
       "|*Comments*| *11 pages, 10 figures, submitted to MNRAS*|\n",
       "|**Abstract**| We propose a novel subhalo abundance matching (SHAM) model that uses the virial mass of the main progenitor of each (sub)halo $M_{\\rm prog}$ as a proxy of the galaxy stellar mass $M_*$ at the time of observation. This $M_{\\rm prog}$ model predicts the two-point correlation functions depending on the choice of the epoch $z_{\\rm prog}$ at which $M_\\mathrm{prog}$ is measured. With $z_{\\rm prog}$ as a fitting parameter, we apply the $M_{\\rm prog}$ model to the latest observed angular correlation functions of galaxy samples at $z\\simeq0.4$ with varying stellar mass thresholds from $M_{*,~{\\rm lim}}/(h^{-2}M_\\odot)=10^{11}$ to $10^{8.6}$. The $M_{\\rm prog}$ model can reproduce the observations very well over the entire scale range of $0.1\\textrm{--}10~h^{-1}{\\rm Mpc}$. We find that, for the samples of $10^9\\leq M_{*,~{\\rm lim}}/(h^{-2}M_\\odot)\\leq10^{10.2}$, the correlation functions predicted by the widely-used $V_{\\rm peak}$ model lacks amplitudes at the scale of $\\lesssim1~h^{-1}{\\rm Mpc}$, demonstrating the high capability of our $M_\\mathrm{prog}$ model to explain observed clustering measurements. The best-fit $z_{\\rm prog}$ parameter is highest ($z_{\\rm prog}\\simeq5$) for intermediate mass galaxies at $M_*\\simeq10^{9.7}~h^{-2}M_\\odot$, and becomes smaller towards $z_\\mathrm{prog}\\simeq1$ for both lower- and higher-mass galaxies. We interpret these trends as reflecting the downsizing in the in-situ star formation in lower-mass galaxies and the larger contribution of ex-situ stellar mass growth in higher-mass galaxies. |\n",
       "|<p style=\"color:green\"> **ERROR** </p>| <p style=\"color:green\">affiliation error: mpia.affiliation_verifications: 'Heidelberg' keyword not found.</p> |"
      ],
      "text/plain": [
       "<IPython.core.display.Markdown object>"
      ]
     },
     "metadata": {},
     "output_type": "display_data"
    },
    {
     "data": {
      "text/markdown": [
       "\n",
       "|||\n",
       "|---:|:---|\n",
       "| [![arXiv](https://img.shields.io/badge/arXiv-arXiv:2210.11967-b31b1b.svg)](https://arxiv.org/abs/arXiv:2210.11967) | **The effect of water and electron collisions in the rotational excitation  of HF in comets**  |\n",
       "|| J. Loreau, A. Faure, <mark>F. Lique</mark> |\n",
       "|*Appeared on*| *2022-10-24*|\n",
       "|*Comments*| *8 pages*|\n",
       "|**Abstract**| We present the first set of rate coefficients for the rotational excitation of the 7 lowest levels of hydrogen fluoride (HF) induced by collision with water molecules, the dominant collider in cometary comas, in the 5-150 K temperature range. The calculations are performed with a quantum statistical approach from an accurate rigid rotor ab initio interaction potential. Rate coefficients for excitation of HF by electron-impact are also computed, within the Born approximation, in the 10-10,000 K temperature range. These rate coefficients are then used in a simplified non-local thermodynamic equilibrium (non-LTE) model of a cometary coma that also includes solar radiative pumping and radiative decay. We investigate the range of H2O densities that lead to non-LTE populations of the rotational levels of HF. We show that to describe the excitation of HF in comets, considering collisions with both water molecules and electrons is needed as a result of the large dipole of HF. |\n",
       "|<p style=\"color:green\"> **ERROR** </p>| <p style=\"color:green\">affiliation error: mpia.affiliation_verifications: 'Heidelberg' keyword not found.</p> |"
      ],
      "text/plain": [
       "<IPython.core.display.Markdown object>"
      ]
     },
     "metadata": {},
     "output_type": "display_data"
    },
    {
     "data": {
      "text/markdown": [
       "\n",
       "|||\n",
       "|---:|:---|\n",
       "| [![arXiv](https://img.shields.io/badge/arXiv-arXiv:2210.11986-b31b1b.svg)](https://arxiv.org/abs/arXiv:2210.11986) | **The Mantis Network II: Examining the 3D high-resolution observable  properties of the UHJs WASP-121b and WASP-189b through GCM modelling**  |\n",
       "|| <mark>Elspeth K. H. Lee</mark>, et al. -- incl., <mark>Kevin Heng</mark> |\n",
       "|*Appeared on*| *2022-10-24*|\n",
       "|*Comments*| *MNRAS accepted: 8 August 2022, published 11 August 2022*|\n",
       "|**Abstract**| The atmospheres of ultra hot Jupiters (UHJs) are prime targets for the detection of molecules and atoms at both low and high spectral resolution. We study the atmospheres of the UHJs WASP-121b and WASP-189b by performing 3D general circulation models (GCMs) of these planets using high temperature correlated-k opacity schemes with ultra-violet (UV) absorbing species included. The GCM results are then post-processed at low and high spectral resolutions and compared to available data. The high resolution results are cross-correlated with molecular and atomic templates to produce mock molecular detections. Our GCM models produce similar temperature-pressure (T-p) structure trends to previous 1D radiative-convective equilibrium models of UHJs. Furthermore, the inclusion of UV opacities greatly shapes the thermal and dynamical properties of the high-altitude, low-pressure regions of the UHJ atmospheres, with sharp T-p inversions due to the absorption of UV light. This suggests that optical wavelength, high-resolution observations probe a dynamically distinct upper atmospheric region, rather than the deeper jet forming layers. |\n",
       "|<p style=\"color:green\"> **ERROR** </p>| <p style=\"color:green\">affiliation error: mpia.affiliation_verifications: 'Heidelberg' keyword not found.</p> |"
      ],
      "text/plain": [
       "<IPython.core.display.Markdown object>"
      ]
     },
     "metadata": {},
     "output_type": "display_data"
    },
    {
     "data": {
      "text/markdown": [
       "\n",
       "|||\n",
       "|---:|:---|\n",
       "| [![arXiv](https://img.shields.io/badge/arXiv-arXiv:2210.11964-b31b1b.svg)](https://arxiv.org/abs/arXiv:2210.11964) | **Spiral arms and the angular momentum gap in Milky Way Cepheids**  |\n",
       "|| Marcin Semczuk, <mark>Walter Dehnen</mark>, Ralph Schoenrich, E. Athanassoula |\n",
       "|*Appeared on*| *2022-10-24*|\n",
       "|*Comments*| *6 pages, 7 figures, submitted to MNRAS*|\n",
       "|**Abstract**| The angular-momentum distribution of classical Cepheids in the outer Milky Way disc is bi-modal with a gap at $L_\\mathrm{gap}=2950\\,\\mathrm{km}\\,\\mathrm{s}^{-1}\\,\\mathrm{kpc}$, corresponding to $R=13\\,\\mathrm{kpc}$, while no similar feature has been found in the general population of disc stars. We show that star formation in multiple spiral arm segments at the same azimuth leads to such multi-modality which quickly dissolves and only shows in young stars. Unlike other explanations, such as a 1:1 orbital resonance with the Galactic bar, this also accounts for the observed steepening of the stellar warp at $L_\\mathrm{gap}$, since the adjacent spiral arms represent different parts of the warped gas disc. In this scenario the gap is clearly present only in young stars, as observed, while most purely stellar dynamical origins would affect all disc populations, including older disc stars. |\n",
       "|<p style=\"color:green\"> **ERROR** </p>| <p style=\"color:green\">affiliation error: mpia.affiliation_verifications: 'Max' keyword not found.</p> |"
      ],
      "text/plain": [
       "<IPython.core.display.Markdown object>"
      ]
     },
     "metadata": {},
     "output_type": "display_data"
    },
    {
     "data": {
      "text/markdown": [
       "\n",
       "|||\n",
       "|---:|:---|\n",
       "| [![arXiv](https://img.shields.io/badge/arXiv-arXiv:2210.11878-b31b1b.svg)](https://arxiv.org/abs/arXiv:2210.11878) | **Metal-THINGS: The association and optical characterization of SNRs with  HI holes in NGC 6946**  |\n",
       "|| <mark>M. A. Lara-Lopez</mark>, et al. |\n",
       "|*Appeared on*| *2022-10-24*|\n",
       "|*Comments*| *Accepted by A&A*|\n",
       "|**Abstract**| NGC~6946, also known as the `Fireworks' galaxy, is an unusual galaxy that hosts a total of 225 supernova remnant (SNR) candidates, including 147 optically identified with high [SII]/Ha line ratios. In addition, this galaxy shows prominent HI holes, which were analyzed in previous studies. Indeed, the connection between SNRs and HI holes together with their physical implications in the surrounding gas is worth of attention. This paper explores the connection between the SNRs and the HI holes, including an analysis of their physical link to observational optical properties inside and around the rims of the holes, using new integral field unit (IFU) data from the Metal-THINGS survey. We present an analysis combining previously identified HI holes, SNRs candidates, and new integral field unit (IFU) data from Metal-THINGS of the spiral galaxy NGC 6946. We analyze the distributions of the oxygen abundance, star formation rate surface density, extinction, ionization, diffuse ionized gas, and the Baldwin-Phillips-Terlevich classification throughout the galaxy. By analyzing in detail the optical properties of the 121 previously identify HI holes in NGC 6946, we find that the SNRs are concentrated at the rims of the HI holes. Furthermore, our IFU data shows that the star formation rate and extinction are enhanced at the rims of the holes. To a lesser degree, the oxygen abundance and ionization parameter show hints of enhancement on the rims of the holes. Altogether, this provides evidence of induced star formation taking place at the rims of the holes, whose origin can be explained by the expansion of superbubbles created by multiple supernova explosions in large stellar clusters dozens of Myr ago. |\n",
       "|<p style=\"color:red\"> **ERROR** </p>| <p style=\"color:red\">latex error [Errno 2] No such file or directory: 'gs'</p> |"
      ],
      "text/plain": [
       "<IPython.core.display.Markdown object>"
      ]
     },
     "metadata": {},
     "output_type": "display_data"
    },
    {
     "data": {
      "text/markdown": [
       "\n",
       "|||\n",
       "|---:|:---|\n",
       "| [![arXiv](https://img.shields.io/badge/arXiv-arXiv:2210.11600-b31b1b.svg)](https://arxiv.org/abs/arXiv:2210.11600) | **Statistical Study and Live Catalogue of Multi-Spacecraft 3He-Rich Time  Periods over Solar Cycles 23, 24, and 25**  |\n",
       "|| Samuel T. Hart, et al. -- incl., <mark>Maher A. Dayeh</mark>, <mark>Robert W. Ebert</mark>, <mark>Gang Li</mark> |\n",
       "|*Appeared on*| *2022-10-24*|\n",
       "|*Comments*| *22 pages, 9 figures, publishing in ApJ Supplemental Series*|\n",
       "|**Abstract**| Using ion measurements from Ultra-Low-Energy Isotope Spectrometer (ULEIS) observations onboard Advanced Composition Explorer (ACE) and Solar Isotope Spectrometer (SIS) observations onboard the Solar Terrestrial Observatory (STEREO)-A and STEREO-B spacecraft, we have identified 854 3He-rich time periods between 1997 September and 2021 March. We include all event types with observed 3He enhancements such as corotating interaction regions (CIRs), gradual solar energetic particle (SEP) events, interplanetary shocks, and impulsive SEP events. We employ two different mass separation techniques to obtain 3He, 4He, Fe, and O fluences for each event, and we determine the 3He/4He and Fe/O abundance ratios between 0.32 to 0.45 MeV/nucleon and 0.64 to 1.28 MeV/nucleon. We find a clear correlation in the 3He/4He and Fe/O abundance ratios between both energy ranges. We find two distinct trends in the 3He/4He vs. Fe/O relation. For low 3He/4He values, there is a positive linear correlation between 3He/4He and Fe/O. However, at 3He/4He ~ 0.3, Fe/O appears to reach a limit and the correlation weakens significantly. We provide a live catalogue of 3He rich time periods that includes the robust determination of the onset and end times of the 3He enhancements in SEP-associated periods for different types of events observed my multiple spacecraft. This catalogue is available for public use. New releases will follow after major additions such as adding new periods from new missions (e.g., Parker Solar Probe and Solar Orbiter), identifying event types (impulsive SEP events, etc.), or adding new parameters such as remote observations detailing characteristics of the active regions. |\n",
       "|<p style=\"color:red\"> **ERROR** </p>| <p style=\"color:red\">latex error not a gzip file</p> |"
      ],
      "text/plain": [
       "<IPython.core.display.Markdown object>"
      ]
     },
     "metadata": {},
     "output_type": "display_data"
    }
   ],
   "source": [
    "import datetime\n",
    "today = str(datetime.date.today())\n",
    "logfile = f\"_build/html/logs/log-{today}.md\"\n",
    "\n",
    "\n",
    "with open(logfile, 'w') as logs:\n",
    "    # Success\n",
    "    logs.write(f'# Arxiv on Deck 2: Logs - {today}\\n\\n')\n",
    "    logs.write(\"\"\"* Arxiv had {0:,d} new papers\\n\"\"\".format(len(new_papers)))\n",
    "    logs.write(\"\"\"    * {0:,d} with possible author matches\\n\\n\"\"\".format(len(candidates)))\n",
    "    logs.write(\"## Sucessful papers\\n\\n\")\n",
    "    display(Markdown(\"## Successful papers\"))\n",
    "    success = [k[0] for k in documents]\n",
    "    for candid in candidates:\n",
    "        if candid['identifier'].split(':')[-1] in success:\n",
    "            display(candid)\n",
    "            logs.write(candid.generate_markdown_text() + '\\n\\n')\n",
    "\n",
    "    ## failed\n",
    "    logs.write(\"## Failed papers\\n\\n\")\n",
    "    display(Markdown(\"## Failed papers\"))\n",
    "    failed = sorted(failed, key=lambda x: x[1])\n",
    "    current_reason = \"\"\n",
    "    for paper, reason in failed:\n",
    "        if 'affiliation' in reason:\n",
    "            color = 'green'\n",
    "        else:\n",
    "            color = 'red'\n",
    "        data = Markdown(\n",
    "                paper.generate_markdown_text() + \n",
    "                f'\\n|<p style=\"color:{color:s}\"> **ERROR** </p>| <p style=\"color:{color:s}\">{reason:s}</p> |'\n",
    "               )\n",
    "        if reason != current_reason:\n",
    "            logs.write(f'### {reason:s} \\n\\n')\n",
    "            current_reason = reason\n",
    "        logs.write(data.data + '\\n\\n')\n",
    "        \n",
    "        # only display here the important errors (all in logs)\n",
    "        # if color in ('red',):\n",
    "        display(data)"
   ]
  },
  {
   "cell_type": "markdown",
   "id": "472d20ee",
   "metadata": {
    "papermill": {
     "duration": 0.01051,
     "end_time": "2022-10-24T05:25:48.200500",
     "exception": false,
     "start_time": "2022-10-24T05:25:48.189990",
     "status": "completed"
    },
    "tags": []
   },
   "source": [
    "## Export documents\n",
    "\n",
    "We now write the .md files and export relevant images"
   ]
  },
  {
   "cell_type": "code",
   "execution_count": 7,
   "id": "d426aed9",
   "metadata": {
    "execution": {
     "iopub.execute_input": "2022-10-24T05:25:48.225413Z",
     "iopub.status.busy": "2022-10-24T05:25:48.223350Z",
     "iopub.status.idle": "2022-10-24T05:25:48.233801Z",
     "shell.execute_reply": "2022-10-24T05:25:48.232893Z"
    },
    "papermill": {
     "duration": 0.024141,
     "end_time": "2022-10-24T05:25:48.235638",
     "exception": false,
     "start_time": "2022-10-24T05:25:48.211497",
     "status": "completed"
    },
    "tags": []
   },
   "outputs": [],
   "source": [
    "def export_markdown_summary(md: str, md_fname:str, directory: str):\n",
    "    \"\"\"Export MD document and associated relevant images\"\"\"\n",
    "    import os\n",
    "    import shutil\n",
    "    import re\n",
    "\n",
    "    if (os.path.exists(directory) and not os.path.isdir(directory)):\n",
    "        raise RuntimeError(f\"a non-directory file exists with name {directory:s}\")\n",
    "\n",
    "    if (not os.path.exists(directory)):\n",
    "        print(f\"creating directory {directory:s}\")\n",
    "        os.mkdir(directory)\n",
    "\n",
    "    fig_fnames = (re.compile(r'\\[Fig.*\\]\\((.*)\\)').findall(md) + \n",
    "                  re.compile(r'\\<img src=\"([^>\\s]*)\"[^>]*/>').findall(md))\n",
    "    for fname in fig_fnames:\n",
    "        if 'http' in fname:\n",
    "            # No need to copy online figures\n",
    "            continue\n",
    "        destdir = os.path.join(directory, os.path.dirname(fname))\n",
    "        destfname = os.path.join(destdir, os.path.basename(fname))\n",
    "        try:\n",
    "            os.makedirs(destdir)\n",
    "        except FileExistsError:\n",
    "            pass\n",
    "        shutil.copy(fname, destfname)\n",
    "    with open(os.path.join(directory, md_fname), 'w') as fout:\n",
    "        fout.write(md)\n",
    "    print(\"exported in \", os.path.join(directory, md_fname))\n",
    "    [print(\"    + \" + os.path.join(directory,fk)) for fk in fig_fnames]"
   ]
  },
  {
   "cell_type": "code",
   "execution_count": 8,
   "id": "014d04a4",
   "metadata": {
    "execution": {
     "iopub.execute_input": "2022-10-24T05:25:48.258708Z",
     "iopub.status.busy": "2022-10-24T05:25:48.258013Z",
     "iopub.status.idle": "2022-10-24T05:25:48.269162Z",
     "shell.execute_reply": "2022-10-24T05:25:48.268400Z"
    },
    "papermill": {
     "duration": 0.02475,
     "end_time": "2022-10-24T05:25:48.270950",
     "exception": false,
     "start_time": "2022-10-24T05:25:48.246200",
     "status": "completed"
    },
    "tags": []
   },
   "outputs": [
    {
     "name": "stdout",
     "output_type": "stream",
     "text": [
      "exported in  _build/html/2210.11551.md\n",
      "    + _build/html/tmp_2210.11551/./fig1a.png\n",
      "    + _build/html/tmp_2210.11551/./fig1b.png\n",
      "    + _build/html/tmp_2210.11551/./fig4a.png\n",
      "    + _build/html/tmp_2210.11551/./fig4b.png\n",
      "    + _build/html/tmp_2210.11551/./fig4c.png\n",
      "    + _build/html/tmp_2210.11551/./fig5.png\n",
      "exported in  _build/html/2210.11926.md\n",
      "    + _build/html/tmp_2210.11926/./rcd.png\n",
      "    + _build/html/tmp_2210.11926/./rcd2.png\n",
      "    + _build/html/tmp_2210.11926/./J2310_withoutbh.png\n",
      "    + _build/html/tmp_2210.11926/./sb_co98_model_fit_plot_final_mc_compare.png\n",
      "    + _build/html/tmp_2210.11926/./J2310_split_12m+7m_cii_image_chan29-60_mom0.png\n",
      "    + _build/html/tmp_2210.11926/./J2310_split_12m+7m_cii_image_chan29-60_4sigma_mom1.png\n",
      "    + _build/html/tmp_2210.11926/./J2310_split_12m+7m_cii_image_chan29-60_mom0_2sigma_spectrum.png\n"
     ]
    }
   ],
   "source": [
    "for paper_id, md in documents:\n",
    "    export_markdown_summary(md, f\"{paper_id:s}.md\", '_build/html/')"
   ]
  },
  {
   "cell_type": "markdown",
   "id": "f087a0a7",
   "metadata": {
    "papermill": {
     "duration": 0.010519,
     "end_time": "2022-10-24T05:25:48.292036",
     "exception": false,
     "start_time": "2022-10-24T05:25:48.281517",
     "status": "completed"
    },
    "tags": []
   },
   "source": [
    "## Display the papers\n",
    "\n",
    "Not necessary but allows for a quick check."
   ]
  },
  {
   "cell_type": "code",
   "execution_count": 9,
   "id": "fd25f625",
   "metadata": {
    "execution": {
     "iopub.execute_input": "2022-10-24T05:25:48.318879Z",
     "iopub.status.busy": "2022-10-24T05:25:48.317779Z",
     "iopub.status.idle": "2022-10-24T05:25:48.327177Z",
     "shell.execute_reply": "2022-10-24T05:25:48.326291Z"
    },
    "papermill": {
     "duration": 0.026559,
     "end_time": "2022-10-24T05:25:48.328999",
     "exception": false,
     "start_time": "2022-10-24T05:25:48.302440",
     "status": "completed"
    },
    "scrolled": false,
    "tags": []
   },
   "outputs": [
    {
     "data": {
      "text/markdown": [
       "<div class=\"macros\" style=\"visibility:hidden;\">\n",
       "$\\newcommand{\\ensuremath}{}$\n",
       "$\\newcommand{\\xspace}{}$\n",
       "$\\newcommand{\\object}[1]{\\texttt{#1}}$\n",
       "$\\newcommand{\\farcs}{{.}''}$\n",
       "$\\newcommand{\\farcm}{{.}'}$\n",
       "$\\newcommand{\\arcsec}{''}$\n",
       "$\\newcommand{\\arcmin}{'}$\n",
       "$\\newcommand{\\ion}[2]{#1#2}$\n",
       "$\\newcommand{\\textsc}[1]{\\textrm{#1}}$\n",
       "$\\newcommand{\\hl}[1]{\\textrm{#1}}$\n",
       "$\\newcommand{\\thebibliography}{\\DeclareRobustCommand{\\VAN}[3]{##3}\\VANthebibliography}$</div>\n",
       "\n",
       "<div class=\"macros\" style=\"visibility:hidden;\">\n",
       "$\\newcommand{$\\ensuremath$}{}$\n",
       "$\\newcommand{$\\xspace$}{}$\n",
       "$\\newcommand{$\\object$}[1]{\\texttt{#1}}$\n",
       "$\\newcommand{$\\farcs$}{{.}''}$\n",
       "$\\newcommand{$\\farcm$}{{.}'}$\n",
       "$\\newcommand{$\\arcsec$}{''}$\n",
       "$\\newcommand{$\\arcmin$}{'}$\n",
       "$\\newcommand{$\\ion$}[2]{#1#2}$\n",
       "$\\newcommand{$\\textsc$}[1]{\\textrm{#1}}$\n",
       "$\\newcommand{$\\hl$}[1]{\\textrm{#1}}$\n",
       "$\\newcommand{$\\thebibliography$}{\\DeclareRobustCommand{\\VAN}[3]{##3}\\VANthebibliography}$</div>\n",
       "\n",
       "\n",
       "\n",
       "<div id=\"title\">\n",
       "\n",
       "# Properties of atomic hydrogen gas in the Galactic plane from THOR 21-cm absorption spectra: a comparison with the high latitude gas\n",
       "\n",
       "</div>\n",
       "<div id=\"comments\">\n",
       "\n",
       "[![arXiv](https://img.shields.io/badge/arXiv-2210.11551-b31b1b.svg)](https://arxiv.org/abs/2210.11551)<mark>Appeared on: 2022-10-24</mark> - _6 pages, 5 figures, submitted and accepted for publication in MNRAS_\n",
       "\n",
       "</div>\n",
       "<div id=\"authors\">\n",
       "\n",
       "Arghyadeep Basu, et al. -- incl., <mark><mark>Henrik Beuther</mark></mark>, <mark><mark>Jonas Syed</mark></mark>\n",
       "\n",
       "</div>\n",
       "<div id=\"abstract\">\n",
       "\n",
       "**Abstract:** The neutral hydrogen 21 cm line is an excellent tracer of the atomic interstellar medium in the cold and the warm phases. Combined 21 cm emission and absorption observations are very useful to study the properties of the gas over a wide range of density and temperature. In this work, we have used 21 cm absorption spectra from recent interferometric surveys, along with the corresponding emission spectra from earlier single dish surveys to study the properties of the atomic gas in the Milky Way. In particular, we focus on a comparison of properties between lines of sight through the gas disk in the Galactic plane and high Galactic latitude lines of sight through more diffuse gas. As expected, the analysis shows a lower average temperature for the gas in the Galactic plane compared to that along the high latitude lines of sight. The gas in the plane also has a higher molecular fraction, showing a sharp transition and flattening in the dust - gas correlation. On the other hand, the observed correlation between 21 cm brightness temperature and optical depth indicates some intrinsic difference in spin temperature distribution and a fraction of gas in the Galactic plane having intermediate optical depth (for$0.02<\\tau<0.2$) but higher spin temperature, compared to that of the diffuse gas at high latitude with the same optical depth. This may be due to a small fraction of cold gas with slightly higher temperature and lower density present on the Galactic plane.\n",
       "\n",
       "</div>\n",
       "\n",
       "<div id=\"div_fig1\">\n",
       "\n",
       "<img src=\"tmp_2210.11551/./fig1a.png\" alt=\"Fig2.1\" width=\"50%\"/><img src=\"tmp_2210.11551/./fig1b.png\" alt=\"Fig2.2\" width=\"50%\"/>\n",
       "\n",
       "**Figure 2. -** Observed $T_{B} - \\tau$ distribution (in $log_{10}$ scale) for H {\\sc i} 21 cm emission and absorption lines. \\textbf{Left}: Optical depth ($\\tau$) from the THOR and brightness temperature $T_B$ from LAB survey (resampled to the same velocity resolution of 1.5 km s$^{-1}$) for corresponding spectral channels shown as density contours (red). The comparable $T_{B} - \\tau$ distribution for the high latitude sample (ie. \\citealt{saha}) is shown in green. Red and green dashed lines are corresponding fitted straight lines for these two samples. \\textbf{Right:}(Top panel) Binned $T_B - \\tau$ observed median distribution for low (red line) and high latitudes (green line) lines of sight. Dashed lines indicate the $T_B - \\tau$ relation for constant $T_{s}$ values. (Bottom panel) Statistical values for the non-parametric K-S test over the same $log_{10}(\\tau)$ range. (*fig:figure1*)\n",
       "\n",
       "</div>\n",
       "<div id=\"div_fig2\">\n",
       "\n",
       "<img src=\"tmp_2210.11551/./fig4a.png\" alt=\"Fig5.1\" width=\"33%\"/><img src=\"tmp_2210.11551/./fig4b.png\" alt=\"Fig5.2\" width=\"33%\"/><img src=\"tmp_2210.11551/./fig4c.png\" alt=\"Fig5.3\" width=\"33%\"/>\n",
       "\n",
       "**Figure 5. -** Comparison of H {\\sc i} column density fraction in different $T_{s}$ ranges between the THOR sample (this work) and the high latitude sample \\citep{roy,saha}, shown in red and blue line respectively. \\textbf{Left panel}: Entire range of $\\tau$; \\textbf{Middle panel}: For $\\tau > 0.02$\\textbf{Right panel}: For $0.2 > \\tau > 0.02$.  (*fig:tsdistribution*)\n",
       "\n",
       "</div>\n",
       "<div id=\"div_fig3\">\n",
       "\n",
       "<img src=\"tmp_2210.11551/./fig5.png\" alt=\"Fig1\" width=\"100%\"/>\n",
       "\n",
       "**Figure 1. -** Comparison of inferred $T_{k}$ and $T_{s}$ from the THOR data with models from \\citet{Lizst}. Solid lines are model $T_{k} - T_{s}$ relation for different thermal pressure. Line with filled circles is from this analysis, for $P_{th} = 3000  K cm^{-3}$ and $l_c = 3  pc$. Dashed lines are for $l_c = 6$ and 12 pc. Line with empty squares is based on data from \\citet{saha} for $l_c = 2  pc$ for a comparison with the low latitude sample. (*fig:tstkcompare*)\n",
       "\n",
       "</div>"
      ],
      "text/plain": [
       "<IPython.core.display.Markdown object>"
      ]
     },
     "metadata": {},
     "output_type": "display_data"
    },
    {
     "data": {
      "text/markdown": [
       "<div class=\"macros\" style=\"visibility:hidden;\">\n",
       "$\\newcommand{\\ensuremath}{}$\n",
       "$\\newcommand{\\xspace}{}$\n",
       "$\\newcommand{\\object}[1]{\\texttt{#1}}$\n",
       "$\\newcommand{\\farcs}{{.}''}$\n",
       "$\\newcommand{\\farcm}{{.}'}$\n",
       "$\\newcommand{\\arcsec}{''}$\n",
       "$\\newcommand{\\arcmin}{'}$\n",
       "$\\newcommand{\\ion}[2]{#1#2}$\n",
       "$\\newcommand{\\textsc}[1]{\\textrm{#1}}$\n",
       "$\\newcommand{\\hl}[1]{\\textrm{#1}}$\n",
       "$\\newcommand$\n",
       "$\\newcommand$\n",
       "$\\newcommand$\n",
       "$\\newcommand$</div>\n",
       "\n",
       "<div class=\"macros\" style=\"visibility:hidden;\">\n",
       "$\\newcommand{$\\ensuremath$}{}$\n",
       "$\\newcommand{$\\xspace$}{}$\n",
       "$\\newcommand{$\\object$}[1]{\\texttt{#1}}$\n",
       "$\\newcommand{$\\farcs$}{{.}''}$\n",
       "$\\newcommand{$\\farcm$}{{.}'}$\n",
       "$\\newcommand{$\\arcsec$}{''}$\n",
       "$\\newcommand{$\\arcmin$}{'}$\n",
       "$\\newcommand{$\\ion$}[2]{#1#2}$\n",
       "$\\newcommand{$\\textsc$}[1]{\\textrm{#1}}$\n",
       "$\\newcommand{$\\hl$}[1]{\\textrm{#1}}$\n",
       "$\\newcommand$\n",
       "$\\newcommand$\n",
       "$\\newcommand$\n",
       "$\\newcommand$</div>\n",
       "\n",
       "\n",
       "\n",
       "<div id=\"title\">\n",
       "\n",
       "# z=6.0\n",
       "\n",
       "</div>\n",
       "<div id=\"comments\">\n",
       "\n",
       "[![arXiv](https://img.shields.io/badge/arXiv-2210.11926-b31b1b.svg)](https://arxiv.org/abs/2210.11926)<mark>Appeared on: 2022-10-24</mark> - _Accepted for publication in A&A_\n",
       "\n",
       "</div>\n",
       "<div id=\"authors\">\n",
       "\n",
       "Yali Shao, et al. -- incl., <mark>Fabian Walter</mark>, <mark>Frank Bertoldi</mark>, <mark>Linhua Jiang</mark>\n",
       "\n",
       "</div>\n",
       "<div id=\"abstract\">\n",
       "\n",
       "**Abstract:** We present Atacama Large Millimeter/submillimeter Array (ALMA)  sub-kiloparsec- to kiloparsec-scale resolution observations of the[$\\ion${C}{II}], CO (9--8), and OH$^{+}$($1_{1}$--$0_{1}$)  lines along with their dust continuum emission toward the far-infrared (FIR) luminous quasar SDSS J231038.88+185519.7 at$z = 6.0031$, to study the interstellar medium distribution, the gas kinematics, and the quasar-host system dynamics. We decompose the intensity maps of the[$\\ion${C}{II}]and CO (9--8) lines and  the dust continuum with two-dimensional elliptical S{\\'e}rsic models. The[$\\ion${C}{II}]brightness follows a flat distribution with a S{\\'e}rsic index of 0.59. The CO (9--8) line and the dust continuum can be  fit with an unresolved nuclear component and an extended S{\\'e}rsic component with a S{\\'e}rsic index of$\\sim$1, which may correspond to the emission from an active galactic nucleus dusty molecular torus and a quasar host galaxy, respectively. The different[$\\ion${C}{II}]spatial distribution may be due to the effect of the high dust opacity, which increases the FIR background radiation on the[$\\ion${C}{II}]line, especially in the galaxy center, significantly suppressing the[$\\ion${C}{II}]emission profile. The dust temperature drops with distance from the center. The effective radius of the dust continuum is smaller than that of the line emission and the dust mass  surface density, but is consistent with that of the star formation rate surface density. This may indicate that the dust emission is a less robust tracer of the dust and gas distribution but is a decent tracer of the obscured star formation activity. The OH$^{+}$($1_{1}$--$0_{1}$) line shows a P-Cygni profile with an absorption at$\\sim$--400 km/s, which may indicate an outflow with a neutral gas mass of$(6.2\\pm1.2)\\times10^{8} M_{\\odot}$along the line of sight. We employed a three-dimensional tilted ring model to fit the[$\\ion${C}{II}]and CO (9--8)  data cubes. The two lines   are both rotation dominated and trace identical disk geometries and gas motions. This suggest that the[$\\ion${C}{II}]and CO (9--8) gas are coplanar and corotating in this quasar host galaxy. The consistent circular velocities measured with[$\\ion${C}{II}]and CO (9--8)  lines indicate that these two lines trace a similar gravitational potential. We decompose the circular rotation curve measured from the kinematic model fit to the[$\\ion${C}{II}]line into four matter components (black hole, stars, gas, and dark matter). The quasar-starburst system is dominated by  baryonic matter inside the central few kiloparsecs. We constrain the black hole mass to be$2.97^{+0.51}_{-0.77}\\times 10^{9} M_{\\odot}$; this is the first time that the dynamical mass of a black hole has been measured at$z\\sim6$. This mass is consistent with that determined using the scaling relations from quasar emission lines. A massive stellar component (on the order of$10^{9} M_{\\odot}$) may have already existed when the Universe was only$\\sim$0.93 Gyr old. The relations between the black hole mass and  the baryonic mass of this quasar indicate that the central supermassive black hole may have formed before its host galaxy.\n",
       "\n",
       "</div>\n",
       "\n",
       "<div id=\"div_fig1\">\n",
       "\n",
       "<img src=\"tmp_2210.11926/./rcd.png\" alt=\"Fig14.1\" width=\"33%\"/><img src=\"tmp_2210.11926/./rcd2.png\" alt=\"Fig14.2\" width=\"33%\"/><img src=\"tmp_2210.11926/./J2310_withoutbh.png\" alt=\"Fig14.3\" width=\"33%\"/>\n",
       "\n",
       "**Figure 14. -** Best-fit of the decomposition of the circular rotation curve traced by the [$\\ion${C}{II}] line when allowing the black hole component to be free (left), fixed to $1.8\\times10^{9} M_{\\odot}$(\\citealt{Feruglio2018}; middle) and none (right). Black points with error bars are the circular velocities, these  are the rotation velocities corrected for the asymmetric drift (caused by  gas random motions). The solid yellow, green, brown and blue lines represent the black hole, stellar, gas and dark matter components, respectively. The dashed red lines are the sum of these four components. The blue diamonds with error bars are the circular velocities measured from the  CO (9--8) line. These two lines trace the identical gravitational potential within the errors. (*rcd*)\n",
       "\n",
       "</div>\n",
       "<div id=\"div_fig2\">\n",
       "\n",
       "<img src=\"tmp_2210.11926/./sb_co98_model_fit_plot_final_mc_compare.png\" alt=\"Fig9\" width=\"100%\"/>\n",
       "\n",
       "**Figure 9. -**  Image decomposition of the CO (9--8) line. Top-left panels: 2D elliptical S{\\'e}rsic model and the residual between the observed and modeled CO (9--8) intensity maps, from left to right. We measured the residual rms inside the dashed gray square with a side length of 1$\\arcsec$. Bottom-left panels: Same as in the top panels but for the Point+2D elliptical S{\\'e}rsic modeling. The peak values and rms within the dashed gray square are 0.061 and 0.021, and 0.059 and 0.020 Jy/beam km/s for the S{\\'e}rsic and P+S{\\'e}rsic residual maps, respectively. The shape of the CO (9--8) synthesized beam  with a FWHM size of $0$\\farcs$187\\times0$\\farcs$153$ is plotted in the bottom-left corner of each panel. Top-right panel: Distributions of the residuals for pixels inside the dashed gray squares (S{\\'e}rsic modeling: blue histogram; P+S{\\'e}rsic modeling: red histogram). Middle-right panel: CO (9--8) luminosity surface brightness (black squares, blue circles, and red diamonds with error bars are measurements from the observed intensity map, the 2D elliptical S{\\'e}rsic model, and the Point+2D elliptical S{\\'e}rsic model, respectively) at different radii, measured using elliptical rings with the ring width along the major axis half ($0$\\farcs$1$) that of the CO (9--8) clean beam size, the rotation angle equal to $\\overline{\\rm PA}$(=198$\\degr$), and the ratio of semiminor and semimajor axis -- $b/a$ of $\\cos(\\overline{i})$($\\overline{i}=43\\degr$), where $\\overline{\\rm PA}$ and $\\overline{i}$ come from the CO (9--8) line kinematic modeling (listed in Table \\ref{par_kin}). The error bar represents the deviation of the values of all pixels in each ring. The solid and dashed gray lines are three times the CO (9--8) luminosity surface brightness limit measured in the emission-free region with an elliptical annulus that is the same with the ones used to measure the CO (9--8) luminosity surface brightness but has a larger radius, and its corresponding rms. Bottom-right panel: Luminosity surface brightness difference between the measurements from the observed intensity map and the ones from the 2D elliptical S{\\'e}rsic model (blue circles) and from the Point+2D elliptical S{\\'e}rsic model (red diamonds). Note that the vertical scale is linear and in units of $10^{6}L_{\\odot}/\\rm kpc^{2}$. (*sbco98*)\n",
       "\n",
       "</div>\n",
       "<div id=\"div_fig3\">\n",
       "\n",
       "<img src=\"tmp_2210.11926/./J2310_split_12m+7m_cii_image_chan29-60_mom0.png\" alt=\"Fig4.1\" width=\"33%\"/><img src=\"tmp_2210.11926/./J2310_split_12m+7m_cii_image_chan29-60_4sigma_mom1.png\" alt=\"Fig4.2\" width=\"33%\"/><img src=\"tmp_2210.11926/./J2310_split_12m+7m_cii_image_chan29-60_mom0_2sigma_spectrum.png\" alt=\"Fig4.3\" width=\"33%\"/>\n",
       "\n",
       "**Figure 4. -** \n",
       "ALMA observed [$\\ion${C}{II}] line. Left panel: [$\\ion${C}{II}] velocity-integrated map. The white plus sign is the \\textit{Hubble} Space Telescope (HST) quasar position (RA of 23:10:38.90; Dec of 18:55:19.85). The shape of the restoring beam with a FWHM size of $0$\\farcs$111$$\\times$$0$\\farcs$092$ is plotted  in the bottom-left corner. The contour levels are  [$-$3, 3, 6, 9, 12, 15]$\\times$ rms$_{\\rm[$\\ion${C}{II}]}$, where rms$_{\\rm[$\\ion${C}{II}]}=0.035$ Jy/beam km/s.\n",
       "Middle panel: [$\\ion${C}{II}] velocity map produced using pixels above 4$\\sigma$ in the channel maps. The black plus sign is the HST quasar position. A clear velocity gradient can be seen.\n",
       "Right panel: [$\\ion${C}{II}] line spectrum (black histogram) overplotted with the best-fit Gaussian profiles. The spectrum is extracted from the 2$\\sigma$ region of the source emitting area in the [$\\ion${C}{II}] intensity map. The solid blue line presents the best-fit single Gaussian model. The solid red line represents the best-fit double-Gaussian model, and the dashed and dotted red lines are for each of the double Gaussians. The  kinematic local standard of rest (LSRK) velocity scale is relative to the [$\\ion${C}{II}] redshift from our ALMA Cycle 0 observations \\citep{Wang2013}. The spectral resolution is 15.625 MHz, corresponding to 17 km/s. The rms of the spectrum measured using the line-free spectrum is 0.65 mJy and is shown as a black bar. The  [$\\ion${C}{II}] spectral profile is asymmetric, with enhancement on the red side. The green bar indicates the velocity range of the OH$^{+}$ absorption.\n",
       " (*ciimap*)\n",
       "\n",
       "</div>"
      ],
      "text/plain": [
       "<IPython.core.display.Markdown object>"
      ]
     },
     "metadata": {},
     "output_type": "display_data"
    }
   ],
   "source": [
    "[display(Markdown(k[1])) for k in documents];"
   ]
  },
  {
   "cell_type": "markdown",
   "id": "873873a4",
   "metadata": {
    "papermill": {
     "duration": 0.011123,
     "end_time": "2022-10-24T05:25:48.351630",
     "exception": false,
     "start_time": "2022-10-24T05:25:48.340507",
     "status": "completed"
    },
    "tags": []
   },
   "source": [
    "# Create HTML index"
   ]
  },
  {
   "cell_type": "code",
   "execution_count": 10,
   "id": "cf665672",
   "metadata": {
    "execution": {
     "iopub.execute_input": "2022-10-24T05:25:48.375828Z",
     "iopub.status.busy": "2022-10-24T05:25:48.375336Z",
     "iopub.status.idle": "2022-10-24T05:25:48.386022Z",
     "shell.execute_reply": "2022-10-24T05:25:48.385382Z"
    },
    "papermill": {
     "duration": 0.025066,
     "end_time": "2022-10-24T05:25:48.387742",
     "exception": false,
     "start_time": "2022-10-24T05:25:48.362676",
     "status": "completed"
    },
    "tags": []
   },
   "outputs": [
    {
     "name": "stdout",
     "output_type": "stream",
     "text": [
      "72  publications in the last 7 days.\n",
      "\t _build/html/2210.11926.md\n",
      "\t _build/html/2210.11551.md\n",
      "\t _build/html/2210.11103.md\n",
      "\t _build/html/2210.10707.md\n",
      "\t _build/html/2210.09930.md\n",
      "\t _build/html/2210.08996.md\n",
      "\t _build/html/2210.08517.md\n",
      "\t _build/html/2210.08510.md\n",
      "\t _build/html/2210.08078.md\n",
      "\t _build/html/2210.06504.md\n",
      "\t _build/html/2210.05695.md\n",
      "\t _build/html/2210.05595.md\n",
      "\t _build/html/2210.05505.md\n",
      "\t _build/html/2210.04721.md\n",
      "\t _build/html/2210.03615.md\n",
      "\t _build/html/2210.01811.md\n",
      "\t _build/html/2210.01809.md\n",
      "\t _build/html/2210.01556.md\n",
      "\t _build/html/2210.00863.md\n",
      "\t _build/html/2210.00560.md\n",
      "\t _build/html/2209.15403.md\n",
      "\t _build/html/2209.15110.md\n",
      "\t _build/html/2209.14410.md\n",
      "\t _build/html/2209.14396.md\n",
      "\t _build/html/2209.13717.md\n",
      "\t _build/html/2209.13336.md\n",
      "\t _build/html/2209.12906.md\n",
      "\t _build/html/2209.11781.md\n",
      "\t _build/html/2209.11602.md\n",
      "\t _build/html/2209.11248.md\n",
      "\t _build/html/2209.11096.md\n",
      "\t _build/html/2209.10618.md\n",
      "\t _build/html/2209.09914.md\n",
      "\t _build/html/2209.09823.md\n",
      "\t _build/html/2209.08242.md\n",
      "\t _build/html/2209.08120.md\n",
      "\t _build/html/2209.08106.md\n",
      "\t _build/html/2209.07962.md\n",
      "\t _build/html/2209.07931.md\n",
      "\t _build/html/2209.06833.md\n",
      "\t _build/html/2209.05814.md\n",
      "\t _build/html/2209.05593.md\n",
      "\t _build/html/2209.04304.md\n",
      "\t _build/html/2209.03367.md\n",
      "\t _build/html/2209.02872.md\n",
      "\t _build/html/2209.02725.md\n",
      "\t _build/html/2209.02722.md\n",
      "\t _build/html/2209.02092.md\n",
      "\t _build/html/2209.01125.md\n",
      "\t _build/html/2209.00828.md\n",
      "\t _build/html/2209.00363.md\n",
      "\t _build/html/2208.14927.md\n",
      "\t _build/html/2208.09335.md\n",
      "\t _build/html/2208.08872.md\n",
      "\t _build/html/2204.06393.md\n",
      "\t _build/html/2204.03335.md\n",
      "\t _build/html/2204.03253.md\n",
      "\t _build/html/2204.02998.md\n",
      "\t _build/html/2204.02109.md\n",
      "\t _build/html/2204.02017.md\n",
      "\t _build/html/2204.01824.md\n",
      "\t _build/html/2204.01758.md\n",
      "\t _build/html/2204.01245.md\n",
      "\t _build/html/2204.00793.md\n",
      "\t _build/html/2204.00342.md\n",
      "\t _build/html/2203.16959.md\n",
      "\t _build/html/2203.16856.md\n",
      "\t _build/html/2203.16735.md\n",
      "\t _build/html/2203.16734.md\n",
      "\t _build/html/2203.16504.md\n",
      "\t _build/html/2203.15822.md\n",
      "\t _build/html/2203.15811.md\n"
     ]
    }
   ],
   "source": [
    "from datetime import datetime, timedelta, timezone\n",
    "from glob import glob\n",
    "\n",
    "files = glob('_build/html/*.md')\n",
    "days = 7\n",
    "now = datetime.today()\n",
    "res = []\n",
    "for fk in files:\n",
    "    stat_result = os.stat(fk).st_ctime\n",
    "    modified = datetime.fromtimestamp(stat_result, tz=timezone.utc).replace(tzinfo=None)\n",
    "    delta = now.today() - modified\n",
    "    if delta <= timedelta(days=days):\n",
    "        res.append((delta.seconds, fk))\n",
    "res = [k[1] for k in reversed(sorted(res, key=lambda x:x[1]))]\n",
    "npub = len(res)\n",
    "print(len(res), f\" publications in the last {days:d} days.\")\n",
    "[ print('\\t', k) for k in res ];"
   ]
  },
  {
   "cell_type": "code",
   "execution_count": 11,
   "id": "52ca0208",
   "metadata": {
    "execution": {
     "iopub.execute_input": "2022-10-24T05:25:48.412253Z",
     "iopub.status.busy": "2022-10-24T05:25:48.411905Z",
     "iopub.status.idle": "2022-10-24T05:25:48.419723Z",
     "shell.execute_reply": "2022-10-24T05:25:48.418907Z"
    },
    "papermill": {
     "duration": 0.022565,
     "end_time": "2022-10-24T05:25:48.421594",
     "exception": false,
     "start_time": "2022-10-24T05:25:48.399029",
     "status": "completed"
    },
    "scrolled": false,
    "tags": []
   },
   "outputs": [],
   "source": [
    "def create_carousel(npub=4):\n",
    "    \"\"\" Generate the HTML code for a carousel with `npub` slides \"\"\"\n",
    "    carousel = [\"\"\"<section class=\"carousel\" aria-label=\"Gallery\">\"\"\",\n",
    "                \"\"\"  <ol class=\"carousel__viewport\">\"\"\",\n",
    "    ]\n",
    "    for k in range(1, npub + 1):\n",
    "        prev_ = k - 1\n",
    "        next_ = k + 1\n",
    "        if prev_ <= 0:\n",
    "            prev_ = npub\n",
    "        if next_ > npub:\n",
    "            next_ = 1\n",
    "        text  = f\"\"\"    <li id=\"carousel__slide{k}\" tabindex=\"0\" class=\"carousel__slide\">\\n\"\"\"\n",
    "        text += f\"\"\"       <div class=\"carousel__snapper\">\\n\"\"\"\n",
    "        text += f\"\"\"         <a href=\"#carousel__slide{prev_}\" class=\"carousel__prev\">Go to previous slide</a>\\n\"\"\"\n",
    "        text += f\"\"\"         <a href=\"#carousel__slide{next_}\" class=\"carousel__next\">Go to next slide</a>\\n\"\"\"\n",
    "        text += f\"\"\"         <div id=\"slide{k}_content\" class=\"md_view\" >Content {k}</div>\\n\"\"\"\n",
    "        text += f\"\"\"       </div>\\n\"\"\"\n",
    "        text += f\"\"\"    </li>\"\"\"\n",
    "        carousel.append(text)\n",
    "\n",
    "    carousel.extend([\n",
    "        \"\"\"  </ol>\"\"\",\n",
    "        \"\"\"  <aside class=\"carousel__navigation\">\"\"\",\n",
    "        \"\"\"    <ol class=\"carousel__navigation-list\">\"\"\"])\n",
    "\n",
    "    for k in range(1, npub + 1):\n",
    "        text  = f\"\"\"      <li class=\"carousel__navigation-item\">\\n\"\"\"\n",
    "        text += f\"\"\"        <a href=\"#carousel__slide{k}\" class=\"carousel__navigation-button\">Go to {k}</a>\\n\"\"\"\n",
    "        text += f\"\"\"      </li>\"\"\"\n",
    "        carousel.append(text)\n",
    "    carousel.extend([\"\"\"    </ol>\"\"\", \"\"\"  </aside>\"\"\", \"\"\"</section>\"\"\"])\n",
    "\n",
    "    return '\\n'.join(carousel)"
   ]
  },
  {
   "cell_type": "code",
   "execution_count": 12,
   "id": "a6eac5b6",
   "metadata": {
    "execution": {
     "iopub.execute_input": "2022-10-24T05:25:48.446568Z",
     "iopub.status.busy": "2022-10-24T05:25:48.445843Z",
     "iopub.status.idle": "2022-10-24T05:25:48.453760Z",
     "shell.execute_reply": "2022-10-24T05:25:48.452917Z"
    },
    "papermill": {
     "duration": 0.022766,
     "end_time": "2022-10-24T05:25:48.455634",
     "exception": false,
     "start_time": "2022-10-24T05:25:48.432868",
     "status": "completed"
    },
    "scrolled": false,
    "tags": []
   },
   "outputs": [],
   "source": [
    "carousel = create_carousel(npub)\n",
    "docs = ', '.join(['\"{0:s}\"'.format(k.split('/')[-1]) for k in res])\n",
    "slides = ', '.join([f'\"slide{k}_content\"' for k in range(1, npub + 1)])\n",
    "\n",
    "script = f\"\"\"\n",
    "const docs = [{docs}]\n",
    "\n",
    "const slides = [{slides}]\n",
    "\"\"\" + \"\"\"\n",
    "async function run() {\n",
    "    for (let i = 0; i < docs.length; i++) {\n",
    "        let file = await fetch(docs[i]);\n",
    "        let text = await file.text()\n",
    "        document.getElementById(slides[i]).innerHTML =\n",
    "            marked.parse(text);\n",
    "    }\n",
    "    hljs.highlightAll();\n",
    "}\n",
    "run()\n",
    "\"\"\"\n",
    "\n",
    "page = f\"\"\"<!doctype html>\n",
    "<html lang=\"en\">\n",
    "\n",
    "<head>\n",
    "  <meta charset=\"utf-8\">\n",
    "  <meta name=\"viewport\" content=\"width=device-width, initial-scale=1\">\n",
    "  <!-- Bootstrap CSS -->\n",
    "  <link href=\"https://cdn.jsdelivr.net/npm/bootstrap@5.0.2/dist/css/bootstrap.min.css\" rel=\"stylesheet\"\n",
    "   integrity=\"sha384-EVSTQN3/azprG1Anm3QDgpJLIm9Nao0Yz1ztcQTwFspd3yD65VohhpuuCOmLASjC\" crossorigin=\"anonymous\">\n",
    "  <!-- highlight.js CSS -->\n",
    "  <link rel=\"stylesheet\" href=\"https://cdnjs.cloudflare.com/ajax/libs/highlight.js/11.1.0/styles/default.min.css\">\n",
    "  <!-- Mathjax 3 -->\n",
    "  <script type=\"text/javascript\" id=\"MathJax-config\" src=\"mathjax_config.js\"> </script>\n",
    "  <script type=\"text/javascript\" id=\"MathJax-script\" async \n",
    "    src=\"https://cdn.jsdelivr.net/npm/mathjax@3/es5/tex-mml-chtml.js\">\n",
    "  </script>\n",
    "  <link rel=\"stylesheet\" href=\"index_carousel.css\">\n",
    "  <link rel=\"icon\" type=\"image/x-icon\" href=\"https://www.mpia.de/assets/touch-icon-32x32-a66937bcebc4e8894ebff1f41a366c7c7220fd97a38869ee0f2db65a9f59b6c1.png\">\n",
    "  <title>MPIA Arxiv on deck!</title>\n",
    "</head>\n",
    "\n",
    "<body>\n",
    "  <div id=\"header\"> <img src=\"header_banner.png\" width=\"100%\"></div>\n",
    "  <div id=\"suptitle\"> 7-day archives </div>\n",
    "  <div id=\"info\">\n",
    "    <img src=\"https://pngimg.com/uploads/github/github_PNG58.png\" height=30rem></img>\n",
    "    <a href=https://github.com/mpi-astronomy/arxiv_display style=\"color:black;\">github/mpi-astronomy/arxiv_display</a> \n",
    "  </div>\n",
    "  {carousel:s}\n",
    "</body>\n",
    "\n",
    "<!-- Render Markdown -->\n",
    "\n",
    "<body>\n",
    "  <!-- highlight.js: https://highlightjs.org/download/ -->\n",
    "  <script src=\"https://cdnjs.cloudflare.com/ajax/libs/highlight.js/11.5.0/highlight.min.js\"></script>\n",
    "  <!-- marked.js -->\n",
    "  <script src=\"https://cdn.jsdelivr.net/npm/marked/marked.min.js\"></script>\n",
    "  <script>{script:s}</script>\n",
    "</body>\n",
    "</html>\n",
    "\"\"\"\n",
    "with open(\"_build/html/index_7days.html\", 'w') as fout:\n",
    "    fout.write(page)"
   ]
  },
  {
   "cell_type": "markdown",
   "id": "1cebacbc",
   "metadata": {
    "papermill": {
     "duration": 0.050588,
     "end_time": "2022-10-24T05:25:48.518333",
     "exception": false,
     "start_time": "2022-10-24T05:25:48.467745",
     "status": "completed"
    },
    "tags": []
   },
   "source": [
    "# Debugging papers"
   ]
  },
  {
   "cell_type": "raw",
   "id": "debe7cc6",
   "metadata": {
    "papermill": {
     "duration": 0.012319,
     "end_time": "2022-10-24T05:25:48.542375",
     "exception": false,
     "start_time": "2022-10-24T05:25:48.530056",
     "status": "completed"
    },
    "tags": []
   },
   "source": [
    "raise NotImplementedError(\"Manual Stop\")"
   ]
  },
  {
   "cell_type": "raw",
   "id": "eb169192",
   "metadata": {
    "papermill": {
     "duration": 0.011581,
     "end_time": "2022-10-24T05:25:48.565411",
     "exception": false,
     "start_time": "2022-10-24T05:25:48.553830",
     "status": "completed"
    },
    "scrolled": true,
    "tags": []
   },
   "source": [
    "from IPython.display import display, Markdown\n",
    "from TexSoup import TexSoup\n",
    "import re\n",
    "\n",
    "def bracket_error(source: str):\n",
    "    \"\"\" Find problematic portions of the document \"\"\"\n",
    "    \n",
    "    print(\"len(source)\", len(source))\n",
    "    \n",
    "    # Checking header\n",
    "    begin_doc = next(re.finditer(r'\\\\begin\\{document\\}', doc.source)).span()[1]\n",
    "    header = source[:begin_doc]\n",
    "    text = header + r\"\\n\\end{document}\"\n",
    "\n",
    "    try:\n",
    "        # print(\"Header check... \", end='')\n",
    "        TexSoup(text)\n",
    "        display(Markdown(f\"**[OK]** - Header\"))\n",
    "    except:\n",
    "        raise RuntimeError(\"Error in the header\")\n",
    "        \n",
    "    # Check the text per section until the end.\n",
    "    # Do not stop and try them all.\n",
    "    \n",
    "    problematic_text = []\n",
    "    \n",
    "    sections = ([(0, begin_doc, 'until first section')] + \n",
    "                [(g.span()[0], g.span()[1], g.group()) for g in re.finditer(r'\\\\section\\{.*\\}', source)] +\n",
    "                [(g.span()[0], g.span()[1], g.group()) for g in re.finditer(r'\\\\begin\\{appendix\\}', source)]\n",
    "               )\n",
    "    sections.append([len(source), len(source), 'end'])\n",
    "    \n",
    "    sections = sorted(sections, key=lambda x: x[0])\n",
    "    \n",
    "    prev_pos, prev_name = (0, 'header')\n",
    "    parsed = []\n",
    "    \n",
    "    for span, span_end, name in sections:\n",
    "\n",
    "        if span - prev_pos <= 0:\n",
    "            continue\n",
    "            \n",
    "\n",
    "        text = source[prev_pos:span]\n",
    "        if prev_pos > begin_doc:\n",
    "            text = r\"\\n\\begin{document}\" + text + r\"\\n\\end{document}\"\n",
    "        else:\n",
    "            text = text + r\"\\n\\end{document}\"\n",
    "        try:\n",
    "            #print(f\"{prev_pos}:{prev_name}-->{span}:{name} check... \", end='')\n",
    "            parsed.append(TexSoup(text, tolerance=1))  # allow not ending env\n",
    "            display(Markdown(f\"**[OK]** - *{prev_pos}*:{prev_name} &rarr; *{span}*:{name}\"))\n",
    "            # print(\"ok\")\n",
    "\n",
    "            prev_pos = span\n",
    "            prev_name = name\n",
    "        except:\n",
    "            # print(f\"error between {prev_pos} and {span}\")\n",
    "            display(Markdown(f\"**[ERR]** *{prev_pos}*:{prev_name} &rarr; *{span}*:{name}\"))\n",
    "            problematic_text.append((prev_pos, source[prev_pos:span]))\n",
    "            prev_pos = span\n",
    "            prev_name = name\n",
    "            # raise\n",
    "    return problematic_text, parsed\n",
    "\n",
    "\n",
    "def check_environment(text, offset=0):\n",
    "    \"\"\" Check environment \"\"\"\n",
    "    env = re.compile(r\"\\\\begin\\{(?P<env>.*)\\}(.*)\\\\end\\{(?P=env)\\}\", re.DOTALL)\n",
    "\n",
    "    for match in env.finditer(text):\n",
    "        beg, end = match.span()\n",
    "        beg += offset\n",
    "        end += offset\n",
    "        envname = match.groups()[0]\n",
    "        try:\n",
    "            latex.TexSoup(match.group())\n",
    "        except Exception as e:\n",
    "            display(e)\n",
    "            print(f\"Error in {envname:s} between {beg} and {end}\")\n",
    "            return match.groups()[1], beg, end"
   ]
  },
  {
   "cell_type": "raw",
   "id": "2315e835",
   "metadata": {
    "papermill": {
     "duration": 0.011426,
     "end_time": "2022-10-24T05:25:48.588254",
     "exception": false,
     "start_time": "2022-10-24T05:25:48.576828",
     "status": "completed"
    },
    "scrolled": false,
    "tags": []
   },
   "source": [
    "import importlib\n",
    "importlib.reload(latex)\n",
    "which = \"2204.03253\"\n",
    "paper_id = f'{which:s}'\n",
    "folder = f'tmp_{paper_id:s}'\n",
    "\n",
    "if not os.path.isdir(folder):\n",
    "    folder = retrieve_document_source(f\"{paper_id}\", f'tmp_{paper_id}')\n",
    "\n",
    "try:\n",
    "    doc = latex.LatexDocument(folder, validation=validation)    \n",
    "except AffiliationError as affilerror:\n",
    "    msg = f\"ArXiv:{paper_id:s} is not an MPIA paper... \" + str(affilerror)\n",
    "    print(msg)\n",
    "\n",
    "\n",
    "# Hack because sometimes author parsing does not work well\n",
    "if (len(doc.authors) != len(paper['authors'])):\n",
    "    doc._authors = paper['authors']\n",
    "if (doc.abstract) in (None, ''):\n",
    "    doc._abstract = paper['abstract']\n",
    "\n",
    "doc.comment = get_markdown_badge(paper_id) + \" _\" + paper['comments'] + \"_\"\n",
    "doc.highlight_authors_in_list(hl_list)\n",
    "\n",
    "full_md = doc.generate_markdown_text()"
   ]
  },
  {
   "cell_type": "raw",
   "id": "dd3781db",
   "metadata": {
    "papermill": {
     "duration": 0.011671,
     "end_time": "2022-10-24T05:25:48.611418",
     "exception": false,
     "start_time": "2022-10-24T05:25:48.599747",
     "status": "completed"
    },
    "scrolled": false,
    "tags": []
   },
   "source": [
    "doc"
   ]
  },
  {
   "cell_type": "raw",
   "id": "c6eed834",
   "metadata": {
    "papermill": {
     "duration": 0.011693,
     "end_time": "2022-10-24T05:25:48.634408",
     "exception": false,
     "start_time": "2022-10-24T05:25:48.622715",
     "status": "completed"
    },
    "tags": []
   },
   "source": [
    "# [check_environment(k) for k in bracket_error(doc.source)]\n",
    "_, _, a = latex.get_content_per_section(doc.source, verbose=True)\n",
    "if not a:\n",
    "    print(\"no issues per section\")\n",
    "for ak in a:\n",
    "    r = check_environment(ak[1], offset=ak[0])\n",
    "    print(r[1], r[2])\n",
    "    print(r[0])"
   ]
  },
  {
   "cell_type": "code",
   "execution_count": null,
   "id": "71ce768a",
   "metadata": {
    "papermill": {
     "duration": 0.011651,
     "end_time": "2022-10-24T05:25:48.657538",
     "exception": false,
     "start_time": "2022-10-24T05:25:48.645887",
     "status": "completed"
    },
    "tags": []
   },
   "outputs": [],
   "source": []
  }
 ],
 "metadata": {
  "kernelspec": {
   "display_name": "Python 3.10.6 64-bit",
   "language": "python",
   "name": "python3"
  },
  "language_info": {
   "codemirror_mode": {
    "name": "ipython",
    "version": 3
   },
   "file_extension": ".py",
   "mimetype": "text/x-python",
   "name": "python",
   "nbconvert_exporter": "python",
   "pygments_lexer": "ipython3",
   "version": "3.9.15"
  },
  "papermill": {
   "default_parameters": {},
   "duration": 247.231657,
   "end_time": "2022-10-24T05:25:49.089698",
   "environment_variables": {},
   "exception": null,
   "input_path": "MPIA daily digest.ipynb",
   "output_path": "log.ipynb",
   "parameters": {},
   "start_time": "2022-10-24T05:21:41.858041",
   "version": "2.4.0"
  },
  "vscode": {
   "interpreter": {
    "hash": "e7370f93d1d0cde622a1f8e1c04877d8463912d04d973331ad4851f04de6915a"
   }
  },
  "widgets": {
   "application/vnd.jupyter.widget-state+json": {
    "state": {
     "0ab8852c00854009954ffaa8854b0adc": {
      "model_module": "@jupyter-widgets/controls",
      "model_module_version": "2.0.0",
      "model_name": "HBoxModel",
      "state": {
       "_dom_classes": [],
       "_model_module": "@jupyter-widgets/controls",
       "_model_module_version": "2.0.0",
       "_model_name": "HBoxModel",
       "_view_count": null,
       "_view_module": "@jupyter-widgets/controls",
       "_view_module_version": "2.0.0",
       "_view_name": "HBoxView",
       "box_style": "",
       "children": [
        "IPY_MODEL_c9be88d9f7624ba9850e83ff2378d40c",
        "IPY_MODEL_d67756f6d3c64d6c94933ca108e820d4",
        "IPY_MODEL_f418942649ae4e799bc2d37f421f25a9"
       ],
       "layout": "IPY_MODEL_90470b64d6434408abc85ec2f52473e0",
       "tabbable": null,
       "tooltip": null
      }
     },
     "2fc19b7aec1e4e06b121fbb017903033": {
      "model_module": "@jupyter-widgets/controls",
      "model_module_version": "2.0.0",
      "model_name": "ProgressStyleModel",
      "state": {
       "_model_module": "@jupyter-widgets/controls",
       "_model_module_version": "2.0.0",
       "_model_name": "ProgressStyleModel",
       "_view_count": null,
       "_view_module": "@jupyter-widgets/base",
       "_view_module_version": "2.0.0",
       "_view_name": "StyleView",
       "bar_color": null,
       "description_width": ""
      }
     },
     "6496d4ce2f2147509a7864d05227b680": {
      "model_module": "@jupyter-widgets/controls",
      "model_module_version": "2.0.0",
      "model_name": "HTMLStyleModel",
      "state": {
       "_model_module": "@jupyter-widgets/controls",
       "_model_module_version": "2.0.0",
       "_model_name": "HTMLStyleModel",
       "_view_count": null,
       "_view_module": "@jupyter-widgets/base",
       "_view_module_version": "2.0.0",
       "_view_name": "StyleView",
       "background": null,
       "description_width": "",
       "font_size": null,
       "text_color": null
      }
     },
     "689e4902bf89426b934106c91f0e87d3": {
      "model_module": "@jupyter-widgets/base",
      "model_module_version": "2.0.0",
      "model_name": "LayoutModel",
      "state": {
       "_model_module": "@jupyter-widgets/base",
       "_model_module_version": "2.0.0",
       "_model_name": "LayoutModel",
       "_view_count": null,
       "_view_module": "@jupyter-widgets/base",
       "_view_module_version": "2.0.0",
       "_view_name": "LayoutView",
       "align_content": null,
       "align_items": null,
       "align_self": null,
       "border_bottom": null,
       "border_left": null,
       "border_right": null,
       "border_top": null,
       "bottom": null,
       "display": null,
       "flex": null,
       "flex_flow": null,
       "grid_area": null,
       "grid_auto_columns": null,
       "grid_auto_flow": null,
       "grid_auto_rows": null,
       "grid_column": null,
       "grid_gap": null,
       "grid_row": null,
       "grid_template_areas": null,
       "grid_template_columns": null,
       "grid_template_rows": null,
       "height": null,
       "justify_content": null,
       "justify_items": null,
       "left": null,
       "margin": null,
       "max_height": null,
       "max_width": null,
       "min_height": null,
       "min_width": null,
       "object_fit": null,
       "object_position": null,
       "order": null,
       "overflow": null,
       "padding": null,
       "right": null,
       "top": null,
       "visibility": null,
       "width": null
      }
     },
     "824fd137f5d54589b071198e51d1f916": {
      "model_module": "@jupyter-widgets/base",
      "model_module_version": "2.0.0",
      "model_name": "LayoutModel",
      "state": {
       "_model_module": "@jupyter-widgets/base",
       "_model_module_version": "2.0.0",
       "_model_name": "LayoutModel",
       "_view_count": null,
       "_view_module": "@jupyter-widgets/base",
       "_view_module_version": "2.0.0",
       "_view_name": "LayoutView",
       "align_content": null,
       "align_items": null,
       "align_self": null,
       "border_bottom": null,
       "border_left": null,
       "border_right": null,
       "border_top": null,
       "bottom": null,
       "display": null,
       "flex": null,
       "flex_flow": null,
       "grid_area": null,
       "grid_auto_columns": null,
       "grid_auto_flow": null,
       "grid_auto_rows": null,
       "grid_column": null,
       "grid_gap": null,
       "grid_row": null,
       "grid_template_areas": null,
       "grid_template_columns": null,
       "grid_template_rows": null,
       "height": null,
       "justify_content": null,
       "justify_items": null,
       "left": null,
       "margin": null,
       "max_height": null,
       "max_width": null,
       "min_height": null,
       "min_width": null,
       "object_fit": null,
       "object_position": null,
       "order": null,
       "overflow": null,
       "padding": null,
       "right": null,
       "top": null,
       "visibility": null,
       "width": null
      }
     },
     "90470b64d6434408abc85ec2f52473e0": {
      "model_module": "@jupyter-widgets/base",
      "model_module_version": "2.0.0",
      "model_name": "LayoutModel",
      "state": {
       "_model_module": "@jupyter-widgets/base",
       "_model_module_version": "2.0.0",
       "_model_name": "LayoutModel",
       "_view_count": null,
       "_view_module": "@jupyter-widgets/base",
       "_view_module_version": "2.0.0",
       "_view_name": "LayoutView",
       "align_content": null,
       "align_items": null,
       "align_self": null,
       "border_bottom": null,
       "border_left": null,
       "border_right": null,
       "border_top": null,
       "bottom": null,
       "display": null,
       "flex": null,
       "flex_flow": null,
       "grid_area": null,
       "grid_auto_columns": null,
       "grid_auto_flow": null,
       "grid_auto_rows": null,
       "grid_column": null,
       "grid_gap": null,
       "grid_row": null,
       "grid_template_areas": null,
       "grid_template_columns": null,
       "grid_template_rows": null,
       "height": null,
       "justify_content": null,
       "justify_items": null,
       "left": null,
       "margin": null,
       "max_height": null,
       "max_width": null,
       "min_height": null,
       "min_width": null,
       "object_fit": null,
       "object_position": null,
       "order": null,
       "overflow": null,
       "padding": null,
       "right": null,
       "top": null,
       "visibility": null,
       "width": null
      }
     },
     "99ad151a4bcf4cc1993dc2359668d680": {
      "model_module": "@jupyter-widgets/base",
      "model_module_version": "2.0.0",
      "model_name": "LayoutModel",
      "state": {
       "_model_module": "@jupyter-widgets/base",
       "_model_module_version": "2.0.0",
       "_model_name": "LayoutModel",
       "_view_count": null,
       "_view_module": "@jupyter-widgets/base",
       "_view_module_version": "2.0.0",
       "_view_name": "LayoutView",
       "align_content": null,
       "align_items": null,
       "align_self": null,
       "border_bottom": null,
       "border_left": null,
       "border_right": null,
       "border_top": null,
       "bottom": null,
       "display": null,
       "flex": null,
       "flex_flow": null,
       "grid_area": null,
       "grid_auto_columns": null,
       "grid_auto_flow": null,
       "grid_auto_rows": null,
       "grid_column": null,
       "grid_gap": null,
       "grid_row": null,
       "grid_template_areas": null,
       "grid_template_columns": null,
       "grid_template_rows": null,
       "height": null,
       "justify_content": null,
       "justify_items": null,
       "left": null,
       "margin": null,
       "max_height": null,
       "max_width": null,
       "min_height": null,
       "min_width": null,
       "object_fit": null,
       "object_position": null,
       "order": null,
       "overflow": null,
       "padding": null,
       "right": null,
       "top": null,
       "visibility": null,
       "width": null
      }
     },
     "c9be88d9f7624ba9850e83ff2378d40c": {
      "model_module": "@jupyter-widgets/controls",
      "model_module_version": "2.0.0",
      "model_name": "HTMLModel",
      "state": {
       "_dom_classes": [],
       "_model_module": "@jupyter-widgets/controls",
       "_model_module_version": "2.0.0",
       "_model_name": "HTMLModel",
       "_view_count": null,
       "_view_module": "@jupyter-widgets/controls",
       "_view_module_version": "2.0.0",
       "_view_name": "HTMLView",
       "description": "",
       "description_allow_html": false,
       "layout": "IPY_MODEL_824fd137f5d54589b071198e51d1f916",
       "placeholder": "​",
       "style": "IPY_MODEL_6496d4ce2f2147509a7864d05227b680",
       "tabbable": null,
       "tooltip": null,
       "value": "100%"
      }
     },
     "d67756f6d3c64d6c94933ca108e820d4": {
      "model_module": "@jupyter-widgets/controls",
      "model_module_version": "2.0.0",
      "model_name": "FloatProgressModel",
      "state": {
       "_dom_classes": [],
       "_model_module": "@jupyter-widgets/controls",
       "_model_module_version": "2.0.0",
       "_model_name": "FloatProgressModel",
       "_view_count": null,
       "_view_module": "@jupyter-widgets/controls",
       "_view_module_version": "2.0.0",
       "_view_name": "ProgressView",
       "bar_style": "success",
       "description": "",
       "description_allow_html": false,
       "layout": "IPY_MODEL_689e4902bf89426b934106c91f0e87d3",
       "max": 17.0,
       "min": 0.0,
       "orientation": "horizontal",
       "style": "IPY_MODEL_2fc19b7aec1e4e06b121fbb017903033",
       "tabbable": null,
       "tooltip": null,
       "value": 17.0
      }
     },
     "f3147febb84c4df8a28be7061658eb06": {
      "model_module": "@jupyter-widgets/controls",
      "model_module_version": "2.0.0",
      "model_name": "HTMLStyleModel",
      "state": {
       "_model_module": "@jupyter-widgets/controls",
       "_model_module_version": "2.0.0",
       "_model_name": "HTMLStyleModel",
       "_view_count": null,
       "_view_module": "@jupyter-widgets/base",
       "_view_module_version": "2.0.0",
       "_view_name": "StyleView",
       "background": null,
       "description_width": "",
       "font_size": null,
       "text_color": null
      }
     },
     "f418942649ae4e799bc2d37f421f25a9": {
      "model_module": "@jupyter-widgets/controls",
      "model_module_version": "2.0.0",
      "model_name": "HTMLModel",
      "state": {
       "_dom_classes": [],
       "_model_module": "@jupyter-widgets/controls",
       "_model_module_version": "2.0.0",
       "_model_name": "HTMLModel",
       "_view_count": null,
       "_view_module": "@jupyter-widgets/controls",
       "_view_module_version": "2.0.0",
       "_view_name": "HTMLView",
       "description": "",
       "description_allow_html": false,
       "layout": "IPY_MODEL_99ad151a4bcf4cc1993dc2359668d680",
       "placeholder": "​",
       "style": "IPY_MODEL_f3147febb84c4df8a28be7061658eb06",
       "tabbable": null,
       "tooltip": null,
       "value": " 17/17 [03:18&lt;00:00, 15.03s/it]"
      }
     }
    },
    "version_major": 2,
    "version_minor": 0
   }
  }
 },
 "nbformat": 4,
 "nbformat_minor": 5
}