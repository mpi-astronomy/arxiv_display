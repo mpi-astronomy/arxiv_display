{
 "cells": [
  {
   "cell_type": "markdown",
   "id": "92bcb855",
   "metadata": {
    "papermill": {
     "duration": 0.005827,
     "end_time": "2023-06-01T04:09:00.520324",
     "exception": false,
     "start_time": "2023-06-01T04:09:00.514497",
     "status": "completed"
    },
    "tags": []
   },
   "source": [
    "# MPIA Arxiv on Deck 2\n",
    "\n",
    "Contains the steps to produce the paper extractions."
   ]
  },
  {
   "cell_type": "code",
   "execution_count": 1,
   "id": "3a0d6e11",
   "metadata": {
    "execution": {
     "iopub.execute_input": "2023-06-01T04:09:00.530425Z",
     "iopub.status.busy": "2023-06-01T04:09:00.529788Z",
     "iopub.status.idle": "2023-06-01T04:09:00.795116Z",
     "shell.execute_reply": "2023-06-01T04:09:00.794205Z"
    },
    "papermill": {
     "duration": 0.272984,
     "end_time": "2023-06-01T04:09:00.797682",
     "exception": false,
     "start_time": "2023-06-01T04:09:00.524698",
     "status": "completed"
    },
    "tags": []
   },
   "outputs": [],
   "source": [
    "# Imports\n",
    "import os\n",
    "from IPython.display import Markdown, display\n",
    "from tqdm.notebook import tqdm\n",
    "import warnings\n",
    "from PIL import Image \n",
    "\n",
    "# requires arxiv_on_deck_2\n",
    "\n",
    "from arxiv_on_deck_2.arxiv2 import (get_new_papers, \n",
    "                                    get_paper_from_identifier,\n",
    "                                    retrieve_document_source, \n",
    "                                    get_markdown_badge)\n",
    "from arxiv_on_deck_2 import (latex,\n",
    "                             latex_bib,\n",
    "                             mpia,\n",
    "                             highlight_authors_in_list)\n",
    "\n",
    "# Sometimes images are really big\n",
    "Image.MAX_IMAGE_PIXELS = 1000000000 "
   ]
  },
  {
   "cell_type": "code",
   "execution_count": 2,
   "id": "22aa9d44",
   "metadata": {
    "execution": {
     "iopub.execute_input": "2023-06-01T04:09:00.808484Z",
     "iopub.status.busy": "2023-06-01T04:09:00.808196Z",
     "iopub.status.idle": "2023-06-01T04:09:00.815773Z",
     "shell.execute_reply": "2023-06-01T04:09:00.815110Z"
    },
    "papermill": {
     "duration": 0.014603,
     "end_time": "2023-06-01T04:09:00.817635",
     "exception": false,
     "start_time": "2023-06-01T04:09:00.803032",
     "status": "completed"
    },
    "tags": []
   },
   "outputs": [],
   "source": [
    "# Some useful definitions.\n",
    "\n",
    "class AffiliationWarning(UserWarning):\n",
    "    pass\n",
    "\n",
    "class AffiliationError(RuntimeError):\n",
    "    pass\n",
    "\n",
    "def validation(source: str):\n",
    "    \"\"\"Raises error paper during parsing of source file\n",
    "    \n",
    "    Allows checks before parsing TeX code.\n",
    "    \n",
    "    Raises AffiliationWarning\n",
    "    \"\"\"\n",
    "    check = mpia.affiliation_verifications(source, verbose=True)\n",
    "    if check is not True:\n",
    "        raise AffiliationError(\"mpia.affiliation_verifications: \" + check)\n",
    "\n",
    "        \n",
    "warnings.simplefilter('always', AffiliationWarning)\n",
    "\n",
    "\n",
    "def get_markdown_qrcode(paper_id: str):\n",
    "    \"\"\" Generate a qrcode to the arxiv page using qrserver.com\n",
    "    \n",
    "    :param paper: Arxiv paper\n",
    "    :returns: markdown text\n",
    "    \"\"\"\n",
    "    url = r\"https://api.qrserver.com/v1/create-qr-code/?size=100x100&data=\"\n",
    "    txt = f\"\"\"<img src={url}\"https://arxiv.org/abs/{paper_id}\">\"\"\"\n",
    "    txt = '<div id=\"qrcode\">' + txt + '</div>'\n",
    "    return txt"
   ]
  },
  {
   "cell_type": "markdown",
   "id": "14bd6310",
   "metadata": {
    "papermill": {
     "duration": 0.003966,
     "end_time": "2023-06-01T04:09:00.825527",
     "exception": false,
     "start_time": "2023-06-01T04:09:00.821561",
     "status": "completed"
    },
    "tags": []
   },
   "source": [
    "## get list of arxiv paper candidates\n",
    "\n",
    "We use the MPIA mitarbeiter list webpage from mpia.de to get author names\n",
    "We then get all new papers from Arxiv and match authors"
   ]
  },
  {
   "cell_type": "code",
   "execution_count": 3,
   "id": "2645e73a",
   "metadata": {
    "execution": {
     "iopub.execute_input": "2023-06-01T04:09:00.834881Z",
     "iopub.status.busy": "2023-06-01T04:09:00.834344Z",
     "iopub.status.idle": "2023-06-01T04:09:25.143150Z",
     "shell.execute_reply": "2023-06-01T04:09:25.140917Z"
    },
    "papermill": {
     "duration": 24.315838,
     "end_time": "2023-06-01T04:09:25.145315",
     "exception": false,
     "start_time": "2023-06-01T04:09:00.829477",
     "status": "completed"
    },
    "tags": []
   },
   "outputs": [
    {
     "name": "stdout",
     "output_type": "stream",
     "text": [
      "C. Desgrange  ->  C. Desgrange  |  ['C. Desgrange']\n",
      "X. Zhang  ->  X. Zhang  |  ['X. Zhang']\n",
      "Arxiv has 59 new papers today\n",
      "          2 with possible author matches\n"
     ]
    }
   ],
   "source": [
    "# get list from MPIA website\n",
    "# it automatically filters identified non-scientists :func:`mpia.filter_non_scientists`\n",
    "mpia_authors = mpia.get_mpia_mitarbeiter_list()\n",
    "normed_mpia_authors = [k[1] for k in mpia_authors]   # initials + fullname\n",
    "new_papers = get_new_papers()\n",
    "# add manual references\n",
    "add_paper_refs = []\n",
    "new_papers.extend([get_paper_from_identifier(k) for k in add_paper_refs])\n",
    "\n",
    "candidates = []\n",
    "for paperk in new_papers:\n",
    "    # Check author list with their initials\n",
    "    normed_author_list = [mpia.get_initials(k) for k in paperk['authors']]\n",
    "    hl_authors = highlight_authors_in_list(normed_author_list, normed_mpia_authors, verbose=True)\n",
    "    matches = [(hl, orig) for hl, orig in zip(hl_authors, paperk['authors']) if 'mark' in hl]\n",
    "    paperk['authors'] = hl_authors\n",
    "    if matches:\n",
    "        # only select paper if an author matched our list\n",
    "        candidates.append(paperk)\n",
    "print(\"\"\"Arxiv has {0:,d} new papers today\"\"\".format(len(new_papers)))        \n",
    "print(\"\"\"          {0:,d} with possible author matches\"\"\".format(len(candidates)))"
   ]
  },
  {
   "cell_type": "markdown",
   "id": "3543b34a",
   "metadata": {
    "papermill": {
     "duration": 0.005553,
     "end_time": "2023-06-01T04:09:25.156098",
     "exception": false,
     "start_time": "2023-06-01T04:09:25.150545",
     "status": "completed"
    },
    "tags": []
   },
   "source": [
    "# Parse sources and generate relevant outputs\n",
    "\n",
    "From the candidates, we do the following steps:\n",
    "* get their tarball from ArXiv (and extract data)\n",
    "* find the main .tex file: find one with \\documentclass{...} (sometimes it's non trivial)\n",
    "* Check affiliations with :func:`validation`, which uses :func:`mpia.affiliation_verifications`\n",
    "* If passing the affiliations: we parse the .tex source\n",
    "   * inject sub-documents into the main (flatten the main document)\n",
    "   * parse structure, extract information (title, abstract, authors, figures...)\n",
    "   * handles `\\graphicspath` if provided\n",
    "* Generate the .md document."
   ]
  },
  {
   "cell_type": "code",
   "execution_count": 4,
   "id": "9576b79e",
   "metadata": {
    "execution": {
     "iopub.execute_input": "2023-06-01T04:09:25.166531Z",
     "iopub.status.busy": "2023-06-01T04:09:25.165914Z",
     "iopub.status.idle": "2023-06-01T04:09:59.040131Z",
     "shell.execute_reply": "2023-06-01T04:09:59.038795Z"
    },
    "papermill": {
     "duration": 33.887445,
     "end_time": "2023-06-01T04:09:59.048012",
     "exception": false,
     "start_time": "2023-06-01T04:09:25.160567",
     "status": "completed"
    },
    "scrolled": false,
    "tags": []
   },
   "outputs": [
    {
     "data": {
      "application/vnd.jupyter.widget-view+json": {
       "model_id": "e1c2ee2f7f104b9ebc4200f3a8db3e51",
       "version_major": 2,
       "version_minor": 0
      },
      "text/plain": [
       "  0%|          | 0/1 [00:00<?, ?it/s]"
      ]
     },
     "metadata": {},
     "output_type": "display_data"
    },
    {
     "name": "stdout",
     "output_type": "stream",
     "text": [
      "Retrieving document from  https://arxiv.org/e-print/2305.19355\n"
     ]
    },
    {
     "name": "stdout",
     "output_type": "stream",
     "text": [
      "extracting tarball to tmp_2305.19355..."
     ]
    },
    {
     "name": "stdout",
     "output_type": "stream",
     "text": [
      " done.\n"
     ]
    },
    {
     "name": "stdout",
     "output_type": "stream",
     "text": [
      "C. Desgrange  ->  C. Desgrange  |  ['C. Desgrange']\n"
     ]
    },
    {
     "name": "stdout",
     "output_type": "stream",
     "text": [
      "Found 83 bibliographic references in tmp_2305.19355/main.bbl.\n"
     ]
    }
   ],
   "source": [
    "documents = []\n",
    "failed = []\n",
    "for paper in tqdm(candidates[:-1]):\n",
    "    paper_id = paper['identifier'].lower().replace('arxiv:', '')\n",
    "    \n",
    "    folder = f'tmp_{paper_id}'\n",
    "\n",
    "    try:\n",
    "        if not os.path.isdir(folder):\n",
    "            folder = retrieve_document_source(f\"{paper_id}\", f'tmp_{paper_id}')\n",
    "        \n",
    "        try:\n",
    "            doc = latex.LatexDocument(folder, validation=validation)    \n",
    "        except AffiliationError as affilerror:\n",
    "            msg = f\"ArXiv:{paper_id:s} is not an MPIA paper... \" + str(affilerror)\n",
    "            failed.append((paper, \"affiliation error: \" + str(affilerror) ))\n",
    "            continue\n",
    "        \n",
    "        # Hack because sometimes author parsing does not work well\n",
    "        if (len(doc.authors) != len(paper['authors'])):\n",
    "            doc._authors = paper['authors']\n",
    "        else:\n",
    "            # highlight authors (FIXME: doc.highlight_authors)\n",
    "            # done on arxiv paper already\n",
    "            doc._authors = highlight_authors_in_list(\n",
    "                [mpia.get_initials(k) for k in doc.authors], \n",
    "                normed_mpia_authors, verbose=True)\n",
    "        if (doc.abstract) in (None, ''):\n",
    "            doc._abstract = paper['abstract']\n",
    "            \n",
    "        doc.comment = (get_markdown_badge(paper_id) + \n",
    "                       \"<mark>Appeared on: \" + paper['date'] + \"</mark> - \")\n",
    "        if paper['comments']:\n",
    "            doc.comment += \" _\" + paper['comments'] + \"_\"\n",
    "        \n",
    "        full_md = doc.generate_markdown_text()\n",
    "        \n",
    "        full_md += get_markdown_qrcode(paper_id)\n",
    "        \n",
    "        # replace citations\n",
    "        try:\n",
    "            bibdata = latex_bib.LatexBib.from_doc(doc)\n",
    "            full_md = latex_bib.replace_citations(full_md, bibdata)\n",
    "        except Exception as e:\n",
    "            print(e)\n",
    "        \n",
    "        documents.append((paper_id, full_md))\n",
    "    except Exception as e:\n",
    "        warnings.warn(latex.LatexWarning(f\"{paper_id:s} did not run properly\\n\" +\n",
    "                                         str(e)\n",
    "                                        ))\n",
    "        failed.append((paper, \"latex error \" + str(e)))"
   ]
  },
  {
   "cell_type": "markdown",
   "id": "2505a25c",
   "metadata": {
    "papermill": {
     "duration": 0.004381,
     "end_time": "2023-06-01T04:09:59.056952",
     "exception": false,
     "start_time": "2023-06-01T04:09:59.052571",
     "status": "completed"
    },
    "tags": []
   },
   "source": [
    "### Export the logs\n",
    "\n",
    "Throughout, we also keep track of the logs per paper. see `logs-{today date}.md` "
   ]
  },
  {
   "cell_type": "code",
   "execution_count": 5,
   "id": "d733828a",
   "metadata": {
    "execution": {
     "iopub.execute_input": "2023-06-01T04:09:59.067968Z",
     "iopub.status.busy": "2023-06-01T04:09:59.067200Z",
     "iopub.status.idle": "2023-06-01T04:09:59.086017Z",
     "shell.execute_reply": "2023-06-01T04:09:59.085301Z"
    },
    "papermill": {
     "duration": 0.026722,
     "end_time": "2023-06-01T04:09:59.088093",
     "exception": false,
     "start_time": "2023-06-01T04:09:59.061371",
     "status": "completed"
    },
    "scrolled": false,
    "tags": []
   },
   "outputs": [
    {
     "data": {
      "text/markdown": [
       "## Successful papers"
      ],
      "text/plain": [
       "<IPython.core.display.Markdown object>"
      ]
     },
     "metadata": {},
     "output_type": "display_data"
    },
    {
     "data": {
      "text/markdown": [
       "\n",
       "|||\n",
       "|---:|:---|\n",
       "| [![arXiv](https://img.shields.io/badge/arXiv-arXiv:2305.19355-b31b1b.svg)](https://arxiv.org/abs/arXiv:2305.19355) | **Trade-offs in high-contrast integral field spectroscopy for exoplanet  detection and characterisation: Young gas giants in emission**  |\n",
       "|| R. Landman, et al. -- incl., <mark>C. Desgrange</mark> |\n",
       "|*Appeared on*| *2023-06-01*|\n",
       "|*Comments*| *Accepted for publication in A&A*|\n",
       "|**Abstract**| Context: Combining high-contrast imaging with medium- or high-resolution integral field spectroscopy has the potential to boost the detection rate of exoplanets, especially at small angular separations. Furthermore, it immediately provides a spectrum of the planet that can be used to characterise its atmosphere. The achievable spectral resolution, wavelength coverage, and FOV of such an instrument are limited by the number of available detector pixels. Methods: The trade-offs are studied through end-to-end simulations of a typical high-contrast imaging instrument, analytical considerations, and atmospheric retrievals. The results are then validated with archival VLT/SINFONI data of the planet beta Pictoris b. Results: We show that molecular absorption spectra generally have decreasing power towards higher spectral resolution and that molecule mapping is already powerful for moderate resolutions (R>300). When choosing between wavelength coverage and spectral resolution for a given number of spectral bins, it is best to first increase the spectral resolution until R~2,000 and then maximise the bandwidth within an observing band. We find that T-type companions are most easily detected in the J/H band through methane and water features, while L-type companions are best observed in the H/K band through water and CO features. Such an instrument does not need to have a large FOV, as most of the gain in contrast is obtained in the speckle-limited regime close to the star. We show that the same conclusions are valid for the constraints on atmospheric parameters such as the C/O ratio, metallicity, surface gravity, and temperature, while higher spectral resolution (R~10,000) is required to constrain the radial velocity and spin of the planet. |"
      ],
      "text/plain": [
       "[arXiv:2305.19355] Trade-offs in high-contrast integral field spectroscopy for exoplanet  detection and characterisation: Young gas giants in emission\n",
       "\tR. Landman, et al. -- incl., <mark>C. Desgrange</mark>"
      ]
     },
     "metadata": {},
     "output_type": "display_data"
    },
    {
     "data": {
      "text/markdown": [
       "## Failed papers"
      ],
      "text/plain": [
       "<IPython.core.display.Markdown object>"
      ]
     },
     "metadata": {},
     "output_type": "display_data"
    }
   ],
   "source": [
    "import datetime\n",
    "today = str(datetime.date.today())\n",
    "logfile = f\"_build/html/logs/log-{today}.md\"\n",
    "\n",
    "\n",
    "with open(logfile, 'w') as logs:\n",
    "    # Success\n",
    "    logs.write(f'# Arxiv on Deck 2: Logs - {today}\\n\\n')\n",
    "    logs.write(\"\"\"* Arxiv had {0:,d} new papers\\n\"\"\".format(len(new_papers)))\n",
    "    logs.write(\"\"\"    * {0:,d} with possible author matches\\n\\n\"\"\".format(len(candidates)))\n",
    "    logs.write(\"## Sucessful papers\\n\\n\")\n",
    "    display(Markdown(\"## Successful papers\"))\n",
    "    success = [k[0] for k in documents]\n",
    "    for candid in candidates:\n",
    "        if candid['identifier'].split(':')[-1] in success:\n",
    "            display(candid)\n",
    "            logs.write(candid.generate_markdown_text() + '\\n\\n')\n",
    "\n",
    "    ## failed\n",
    "    logs.write(\"## Failed papers\\n\\n\")\n",
    "    display(Markdown(\"## Failed papers\"))\n",
    "    failed = sorted(failed, key=lambda x: x[1])\n",
    "    current_reason = \"\"\n",
    "    for paper, reason in failed:\n",
    "        if 'affiliation' in reason:\n",
    "            color = 'green'\n",
    "        else:\n",
    "            color = 'red'\n",
    "        data = Markdown(\n",
    "                paper.generate_markdown_text() + \n",
    "                f'\\n|<p style=\"color:{color:s}\"> **ERROR** </p>| <p style=\"color:{color:s}\">{reason:s}</p> |'\n",
    "               )\n",
    "        if reason != current_reason:\n",
    "            logs.write(f'### {reason:s} \\n\\n')\n",
    "            current_reason = reason\n",
    "        logs.write(data.data + '\\n\\n')\n",
    "        \n",
    "        # only display here the important errors (all in logs)\n",
    "        # if color in ('red',):\n",
    "        display(data)"
   ]
  },
  {
   "cell_type": "markdown",
   "id": "472d20ee",
   "metadata": {
    "papermill": {
     "duration": 0.004602,
     "end_time": "2023-06-01T04:09:59.097524",
     "exception": false,
     "start_time": "2023-06-01T04:09:59.092922",
     "status": "completed"
    },
    "tags": []
   },
   "source": [
    "## Export documents\n",
    "\n",
    "We now write the .md files and export relevant images"
   ]
  },
  {
   "cell_type": "code",
   "execution_count": 6,
   "id": "d426aed9",
   "metadata": {
    "execution": {
     "iopub.execute_input": "2023-06-01T04:09:59.108662Z",
     "iopub.status.busy": "2023-06-01T04:09:59.108179Z",
     "iopub.status.idle": "2023-06-01T04:09:59.117369Z",
     "shell.execute_reply": "2023-06-01T04:09:59.116711Z"
    },
    "papermill": {
     "duration": 0.016908,
     "end_time": "2023-06-01T04:09:59.119332",
     "exception": false,
     "start_time": "2023-06-01T04:09:59.102424",
     "status": "completed"
    },
    "tags": []
   },
   "outputs": [],
   "source": [
    "def export_markdown_summary(md: str, md_fname:str, directory: str):\n",
    "    \"\"\"Export MD document and associated relevant images\"\"\"\n",
    "    import os\n",
    "    import shutil\n",
    "    import re\n",
    "\n",
    "    if (os.path.exists(directory) and not os.path.isdir(directory)):\n",
    "        raise RuntimeError(f\"a non-directory file exists with name {directory:s}\")\n",
    "\n",
    "    if (not os.path.exists(directory)):\n",
    "        print(f\"creating directory {directory:s}\")\n",
    "        os.mkdir(directory)\n",
    "\n",
    "    fig_fnames = (re.compile(r'\\[Fig.*\\]\\((.*)\\)').findall(md) + \n",
    "                  re.compile(r'\\<img src=\"([^>\\s]*)\"[^>]*/>').findall(md))\n",
    "    for fname in fig_fnames:\n",
    "        if 'http' in fname:\n",
    "            # No need to copy online figures\n",
    "            continue\n",
    "        destdir = os.path.join(directory, os.path.dirname(fname))\n",
    "        destfname = os.path.join(destdir, os.path.basename(fname))\n",
    "        try:\n",
    "            os.makedirs(destdir)\n",
    "        except FileExistsError:\n",
    "            pass\n",
    "        shutil.copy(fname, destfname)\n",
    "    with open(os.path.join(directory, md_fname), 'w') as fout:\n",
    "        fout.write(md)\n",
    "    print(\"exported in \", os.path.join(directory, md_fname))\n",
    "    [print(\"    + \" + os.path.join(directory,fk)) for fk in fig_fnames]"
   ]
  },
  {
   "cell_type": "code",
   "execution_count": 7,
   "id": "014d04a4",
   "metadata": {
    "execution": {
     "iopub.execute_input": "2023-06-01T04:09:59.130545Z",
     "iopub.status.busy": "2023-06-01T04:09:59.130059Z",
     "iopub.status.idle": "2023-06-01T04:09:59.136598Z",
     "shell.execute_reply": "2023-06-01T04:09:59.135978Z"
    },
    "papermill": {
     "duration": 0.014198,
     "end_time": "2023-06-01T04:09:59.138297",
     "exception": false,
     "start_time": "2023-06-01T04:09:59.124099",
     "status": "completed"
    },
    "tags": []
   },
   "outputs": [
    {
     "name": "stdout",
     "output_type": "stream",
     "text": [
      "exported in  _build/html/2305.19355.md\n",
      "    + _build/html/tmp_2305.19355/./PSD_hr8799e_new_appendix=False_both.png\n",
      "    + _build/html/tmp_2305.19355/./fov_vs_R_tradeoff_51eri_J_2000pix.png\n",
      "    + _build/html/tmp_2305.19355/./fov_vs_R_tradeoff_beta_pic_H_2000pix.png\n",
      "    + _build/html/tmp_2305.19355/./fov_vs_B_tradeoff_51eri_J_2048pix_2.0.png\n",
      "    + _build/html/tmp_2305.19355/./fov_vs_B_tradeoff_beta_pic_H_2048pix_2.0.png\n"
     ]
    }
   ],
   "source": [
    "for paper_id, md in documents:\n",
    "    export_markdown_summary(md, f\"{paper_id:s}.md\", '_build/html/')"
   ]
  },
  {
   "cell_type": "markdown",
   "id": "f087a0a7",
   "metadata": {
    "papermill": {
     "duration": 0.004633,
     "end_time": "2023-06-01T04:09:59.147594",
     "exception": false,
     "start_time": "2023-06-01T04:09:59.142961",
     "status": "completed"
    },
    "tags": []
   },
   "source": [
    "## Display the papers\n",
    "\n",
    "Not necessary but allows for a quick check."
   ]
  },
  {
   "cell_type": "code",
   "execution_count": 8,
   "id": "fd25f625",
   "metadata": {
    "execution": {
     "iopub.execute_input": "2023-06-01T04:09:59.159072Z",
     "iopub.status.busy": "2023-06-01T04:09:59.158404Z",
     "iopub.status.idle": "2023-06-01T04:09:59.163677Z",
     "shell.execute_reply": "2023-06-01T04:09:59.162991Z"
    },
    "papermill": {
     "duration": 0.012734,
     "end_time": "2023-06-01T04:09:59.165446",
     "exception": false,
     "start_time": "2023-06-01T04:09:59.152712",
     "status": "completed"
    },
    "scrolled": false,
    "tags": []
   },
   "outputs": [
    {
     "data": {
      "text/markdown": [
       "<div class=\"macros\" style=\"visibility:hidden;\">\n",
       "$\\newcommand{\\ensuremath}{}$\n",
       "$\\newcommand{\\xspace}{}$\n",
       "$\\newcommand{\\object}[1]{\\texttt{#1}}$\n",
       "$\\newcommand{\\farcs}{{.}''}$\n",
       "$\\newcommand{\\farcm}{{.}'}$\n",
       "$\\newcommand{\\arcsec}{''}$\n",
       "$\\newcommand{\\arcmin}{'}$\n",
       "$\\newcommand{\\ion}[2]{#1#2}$\n",
       "$\\newcommand{\\textsc}[1]{\\textrm{#1}}$\n",
       "$\\newcommand{\\hl}[1]{\\textrm{#1}}$\n",
       "$\\newcommand{\\footnote}[1]{}$\n",
       "$\\newcommand{\\appropto}{\\mathrel{\\vcenter{$\n",
       "$  \\offinterlineskip\\halign{\\hfil##\\cr$\n",
       "$    \\propto\\cr\\noalign{\\kern2pt}\\sim\\cr\\noalign{\\kern-2pt}}}}}$\n",
       "$\\newcommand{\\arraystretch}{1.3}$\n",
       "$\\newcommand{\\arraystretch}{1.8}$</div>\n",
       "\n",
       "\n",
       "\n",
       "<div id=\"title\">\n",
       "\n",
       "# Trade-offs in high-contrast integral field spectroscopy for exoplanet detection and characterisation\n",
       "\n",
       "</div>\n",
       "<div id=\"comments\">\n",
       "\n",
       "[![arXiv](https://img.shields.io/badge/arXiv-2305.19355-b31b1b.svg)](https://arxiv.org/abs/2305.19355)<mark>Appeared on: 2023-06-01</mark> -  _Accepted for publication in A&A_\n",
       "\n",
       "</div>\n",
       "<div id=\"authors\">\n",
       "\n",
       "R. Landman, et al. -- incl., <mark>C. Desgrange</mark>\n",
       "\n",
       "</div>\n",
       "<div id=\"abstract\">\n",
       "\n",
       "**Abstract:** Combining high-contrast imaging with medium- or high-resolution integral field spectroscopy has the potential to boost the detection rate of exoplanets, especially at small angular separations. Furthermore, it immediately provides a spectrum of the planet that can be used to characterise its atmosphere. The achievable spectral resolution, wavelength coverage, and FOV of such an instrument are limited by the number of available detector pixels. We aim to study the effect of the spectral resolution, wavelength coverage, and FOV on the detection and characterisation potential of medium- to high-resolution integral field spectrographs with molecule mapping. The trade-offs are studied through end-to-end simulations of a typical high-contrast imaging instrument, analytical considerations, and atmospheric retrievals. The results are then validated with archival VLT/SINFONI data of the planet $\\beta$ Pictoris b. We show that molecular absorption spectra generally have decreasing power towards higher spectral resolution and that molecule mapping is already powerful for moderate resolutions (R $\\gtrsim$ 300). When choosing between wavelength coverage and spectral resolution for a given number of spectral bins, it is best to first increase the spectral resolution until R $\\sim$ 2,000 and then maximise the bandwidth within an observing band. We find that T-type companions are most easily detected in the J/H band through methane and water features, while L-type companions are best observed in the H/K band through water and CO features. Such an instrument does not need to have a large FOV, as most of the gain in contrast is obtained in the speckle-limited regime close to the star. We show that the same conclusions are valid for the constraints on atmospheric parameters such as the C/O ratio, metallicity, surface gravity, and temperature, while higher spectral resolution (R $\\gtrsim$ 10,000) is required to constrain the radial velocity and spin of the planet.\n",
       "\n",
       "</div>\n",
       "\n",
       "<div id=\"div_fig1\">\n",
       "\n",
       "<img src=\"tmp_2305.19355/./PSD_hr8799e_new_appendix=False_both.png\" alt=\"Fig1\" width=\"100%\"/>\n",
       "\n",
       "**Figure 1. -** Normalised PSD of different contributions to the observed spectrum between 1 and 2.5 $\\mu$m. Here, we assumed a planet with an effective temperature of 1200 K and log(g) of 4.0. The panels show the results without rotational broadening (top) and with rotational broadening of $v_{\\textrm{rot}}\\sin i = 15$ km/s (bottom). (*fig:psd*)\n",
       "\n",
       "</div>\n",
       "<div id=\"div_fig2\">\n",
       "\n",
       "<img src=\"tmp_2305.19355/./fov_vs_R_tradeoff_51eri_J_2000pix.png\" alt=\"Fig10.1\" width=\"50%\"/><img src=\"tmp_2305.19355/./fov_vs_R_tradeoff_beta_pic_H_2000pix.png\" alt=\"Fig10.2\" width=\"50%\"/>\n",
       "\n",
       "**Figure 10. -** Contrast curves with molecule mapping from the simulated observations. Different lines are for different combinations of spectral resolution and FOVs, and all use the same number of detector pixels. The inset shows the residuals after applying ADI on the mock observations. **Left:** 51 Eri b in the J-band with a 5\\% spectral bandwidth. **Right:**$\\beta$ Pic b in the H-band with a 10\\% bandwidth.  (*fig:contrast_curves*)\n",
       "\n",
       "</div>\n",
       "<div id=\"div_fig3\">\n",
       "\n",
       "<img src=\"tmp_2305.19355/./fov_vs_B_tradeoff_51eri_J_2048pix_2.0.png\" alt=\"Fig11.1\" width=\"50%\"/><img src=\"tmp_2305.19355/./fov_vs_B_tradeoff_beta_pic_H_2048pix_2.0.png\" alt=\"Fig11.2\" width=\"50%\"/>\n",
       "\n",
       "**Figure 11. -** Same as Fig. \\ref{fig:contrast_curves} but the spectral resolution is fixed at R=8,000 while varying the spectral bandwidth. (*fig:contrast_curves*)\n",
       "\n",
       "</div><div id=\"qrcode\"><img src=https://api.qrserver.com/v1/create-qr-code/?size=100x100&data=\"https://arxiv.org/abs/2305.19355\"></div>"
      ],
      "text/plain": [
       "<IPython.core.display.Markdown object>"
      ]
     },
     "metadata": {},
     "output_type": "display_data"
    }
   ],
   "source": [
    "[display(Markdown(k[1])) for k in documents];"
   ]
  },
  {
   "cell_type": "markdown",
   "id": "873873a4",
   "metadata": {
    "papermill": {
     "duration": 0.005147,
     "end_time": "2023-06-01T04:09:59.175659",
     "exception": false,
     "start_time": "2023-06-01T04:09:59.170512",
     "status": "completed"
    },
    "tags": []
   },
   "source": [
    "# Create HTML index"
   ]
  },
  {
   "cell_type": "code",
   "execution_count": 9,
   "id": "cf665672",
   "metadata": {
    "execution": {
     "iopub.execute_input": "2023-06-01T04:09:59.187886Z",
     "iopub.status.busy": "2023-06-01T04:09:59.187043Z",
     "iopub.status.idle": "2023-06-01T04:09:59.198064Z",
     "shell.execute_reply": "2023-06-01T04:09:59.197320Z"
    },
    "papermill": {
     "duration": 0.018979,
     "end_time": "2023-06-01T04:09:59.199711",
     "exception": false,
     "start_time": "2023-06-01T04:09:59.180732",
     "status": "completed"
    },
    "tags": []
   },
   "outputs": [
    {
     "name": "stdout",
     "output_type": "stream",
     "text": [
      "212  publications files modified in the last 7 days.\n"
     ]
    }
   ],
   "source": [
    "from datetime import datetime, timedelta, timezone\n",
    "from glob import glob\n",
    "import os\n",
    "\n",
    "files = glob('_build/html/*.md')\n",
    "days = 7\n",
    "now = datetime.today()\n",
    "res = []\n",
    "for fk in files:\n",
    "    stat_result = os.stat(fk).st_ctime\n",
    "    modified = datetime.fromtimestamp(stat_result, tz=timezone.utc).replace(tzinfo=None)\n",
    "    delta = now.today() - modified\n",
    "    if delta <= timedelta(days=days):\n",
    "        res.append((delta.seconds, fk))\n",
    "res = [k[1] for k in reversed(sorted(res, key=lambda x:x[1]))]\n",
    "npub = len(res)\n",
    "print(len(res), f\" publications files modified in the last {days:d} days.\")\n",
    "# [ print('\\t', k) for k in res ];"
   ]
  },
  {
   "cell_type": "code",
   "execution_count": 10,
   "id": "015de740",
   "metadata": {
    "execution": {
     "iopub.execute_input": "2023-06-01T04:09:59.211752Z",
     "iopub.status.busy": "2023-06-01T04:09:59.211118Z",
     "iopub.status.idle": "2023-06-01T04:09:59.232648Z",
     "shell.execute_reply": "2023-06-01T04:09:59.231872Z"
    },
    "papermill": {
     "duration": 0.02969,
     "end_time": "2023-06-01T04:09:59.234519",
     "exception": false,
     "start_time": "2023-06-01T04:09:59.204829",
     "status": "completed"
    },
    "tags": []
   },
   "outputs": [
    {
     "name": "stdout",
     "output_type": "stream",
     "text": [
      "2  publications in the last 7 days.\n"
     ]
    }
   ],
   "source": [
    "import datetime\n",
    "from glob import glob\n",
    "\n",
    "def get_last_n_days(lst, days=1):\n",
    "    \"\"\" Get the documents from the last n days \"\"\"\n",
    "    sorted_lst = sorted(lst, key=lambda x: x[1], reverse=True)\n",
    "    for fname, date in sorted_lst:\n",
    "        if date >= str(datetime.date.today() - datetime.timedelta(days=days)):\n",
    "            yield fname\n",
    "\n",
    "def extract_appearance_dates(lst_file):\n",
    "    dates = []\n",
    "\n",
    "    def get_date(line):\n",
    "        return line\\\n",
    "            .split('Appeared on:')[-1]\\\n",
    "            .split('</mark>')[0].strip()\n",
    "\n",
    "    for fname in lst:\n",
    "        with open(fname, 'r') as f:\n",
    "            found_date = False\n",
    "            for line in f:\n",
    "                if not found_date:\n",
    "                    if \"Appeared on\" in line:\n",
    "                        found_date = True\n",
    "                        dates.append((fname, get_date(line)))\n",
    "                else:\n",
    "                    break\n",
    "    return dates\n",
    "\n",
    "from glob import glob\n",
    "lst = glob('_build/html/*md')\n",
    "days = 7\n",
    "dates = extract_appearance_dates(lst)\n",
    "res = list(get_last_n_days(dates, days))\n",
    "npub = len(res)\n",
    "print(len(res), f\" publications in the last {days:d} days.\")"
   ]
  },
  {
   "cell_type": "code",
   "execution_count": 11,
   "id": "52ca0208",
   "metadata": {
    "execution": {
     "iopub.execute_input": "2023-06-01T04:09:59.246534Z",
     "iopub.status.busy": "2023-06-01T04:09:59.246036Z",
     "iopub.status.idle": "2023-06-01T04:09:59.252183Z",
     "shell.execute_reply": "2023-06-01T04:09:59.251414Z"
    },
    "papermill": {
     "duration": 0.014213,
     "end_time": "2023-06-01T04:09:59.253893",
     "exception": false,
     "start_time": "2023-06-01T04:09:59.239680",
     "status": "completed"
    },
    "scrolled": false,
    "tags": []
   },
   "outputs": [],
   "source": [
    "def create_carousel(npub=4):\n",
    "    \"\"\" Generate the HTML code for a carousel with `npub` slides \"\"\"\n",
    "    carousel = [\"\"\"  <div class=\"carousel\" \"\"\",\n",
    "                \"\"\"       data-flickity='{ \"autoPlay\": 10000, \"adaptiveHeight\": true, \"resize\": true, \"wrapAround\": true, \"pauseAutoPlayOnHover\": true, \"groupCells\": 1 }' id=\"asyncTypeset\">\"\"\"\n",
    "                ]\n",
    "    \n",
    "    item_str = \"\"\"    <div class=\"carousel-cell\"> <div id=\"slide{k}\" class=\"md_view\">Content {k}</div> </div>\"\"\"\n",
    "    for k in range(1, npub + 1):\n",
    "        carousel.append(item_str.format(k=k))\n",
    "    carousel.append(\"  </div>\")\n",
    "    return '\\n'.join(carousel)\n",
    "\n",
    "def create_grid(npub=4):\n",
    "    \"\"\" Generate the HTML code for a flat grid with `npub` slides \"\"\"\n",
    "    grid = [\"\"\"  <div class=\"grid\"> \"\"\",\n",
    "                ]\n",
    "    \n",
    "    item_str = \"\"\"    <div class=\"grid-item\"> <div id=\"slide{k}\" class=\"md_view\">Content {k}</div> </div>\"\"\"\n",
    "    for k in range(1, npub + 1):\n",
    "        grid.append(item_str.format(k=k))\n",
    "    grid.append(\"  </div>\")\n",
    "    return '\\n'.join(grid)"
   ]
  },
  {
   "cell_type": "code",
   "execution_count": 12,
   "id": "a6eac5b6",
   "metadata": {
    "execution": {
     "iopub.execute_input": "2023-06-01T04:09:59.273222Z",
     "iopub.status.busy": "2023-06-01T04:09:59.272778Z",
     "iopub.status.idle": "2023-06-01T04:09:59.280141Z",
     "shell.execute_reply": "2023-06-01T04:09:59.279474Z"
    },
    "papermill": {
     "duration": 0.022607,
     "end_time": "2023-06-01T04:09:59.281984",
     "exception": false,
     "start_time": "2023-06-01T04:09:59.259377",
     "status": "completed"
    },
    "scrolled": false,
    "tags": []
   },
   "outputs": [],
   "source": [
    "carousel = create_carousel(npub)\n",
    "docs = ', '.join(['\"{0:s}\"'.format(k.split('/')[-1]) for k in res])\n",
    "slides = ', '.join([f'\"slide{k}\"' for k in range(1, npub + 1)])\n",
    "\n",
    "with open(\"daily_template.html\", \"r\") as tpl:\n",
    "    page = tpl.read()\n",
    "    page = page.replace(\"{%-- carousel:s --%}\", carousel)\\\n",
    "               .replace(\"{%-- suptitle:s --%}\",  \"7-day archives\" )\\\n",
    "               .replace(\"{%-- docs:s --%}\", docs)\\\n",
    "               .replace(\"{%-- slides:s --%}\", slides)\n",
    "    \n",
    "with open(\"_build/html/index_7days.html\", 'w') as fout:\n",
    "    fout.write(page)"
   ]
  },
  {
   "cell_type": "code",
   "execution_count": 13,
   "id": "adc1a1ec",
   "metadata": {
    "execution": {
     "iopub.execute_input": "2023-06-01T04:09:59.295208Z",
     "iopub.status.busy": "2023-06-01T04:09:59.294948Z",
     "iopub.status.idle": "2023-06-01T04:09:59.302727Z",
     "shell.execute_reply": "2023-06-01T04:09:59.302117Z"
    },
    "papermill": {
     "duration": 0.016729,
     "end_time": "2023-06-01T04:09:59.304387",
     "exception": false,
     "start_time": "2023-06-01T04:09:59.287658",
     "status": "completed"
    },
    "tags": []
   },
   "outputs": [
    {
     "name": "stdout",
     "output_type": "stream",
     "text": [
      "1  publications in the last day.\n"
     ]
    }
   ],
   "source": [
    "# redo for today\n",
    "days = 1\n",
    "res = list(get_last_n_days(dates, days))\n",
    "npub = len(res)\n",
    "print(len(res), f\" publications in the last day.\")\n",
    "\n",
    "carousel = create_carousel(npub)\n",
    "docs = ', '.join(['\"{0:s}\"'.format(k.split('/')[-1]) for k in res])\n",
    "slides = ', '.join([f'\"slide{k}\"' for k in range(1, npub + 1)])\n",
    "\n",
    "with open(\"daily_template.html\", \"r\") as tpl:\n",
    "    page = tpl.read()\n",
    "    page = page.replace(\"{%-- carousel:s --%}\", carousel)\\\n",
    "               .replace(\"{%-- suptitle:s --%}\",  \"Daily\" )\\\n",
    "               .replace(\"{%-- docs:s --%}\", docs)\\\n",
    "               .replace(\"{%-- slides:s --%}\", slides)\n",
    "    \n",
    "# print(carousel, docs, slides)\n",
    "# print(page)\n",
    "with open(\"_build/html/index_daily.html\", 'w') as fout:\n",
    "    fout.write(page)"
   ]
  },
  {
   "cell_type": "code",
   "execution_count": 14,
   "id": "00eece82",
   "metadata": {
    "execution": {
     "iopub.execute_input": "2023-06-01T04:09:59.316965Z",
     "iopub.status.busy": "2023-06-01T04:09:59.316533Z",
     "iopub.status.idle": "2023-06-01T04:09:59.324141Z",
     "shell.execute_reply": "2023-06-01T04:09:59.323517Z"
    },
    "papermill": {
     "duration": 0.015863,
     "end_time": "2023-06-01T04:09:59.325793",
     "exception": false,
     "start_time": "2023-06-01T04:09:59.309930",
     "status": "completed"
    },
    "scrolled": false,
    "tags": []
   },
   "outputs": [
    {
     "name": "stdout",
     "output_type": "stream",
     "text": [
      "6  6 publications selected.\n"
     ]
    }
   ],
   "source": [
    "# Create the flat grid of the last N papers (fixed number regardless of dates)\n",
    "from itertools import islice \n",
    "\n",
    "npub = 6\n",
    "res = [k[0] for k in (islice(reversed(sorted(dates, key=lambda x: x[1])), 6))]\n",
    "print(len(res), f\" {npub} publications selected.\")\n",
    "\n",
    "grid = create_grid(npub)\n",
    "docs = ', '.join(['\"{0:s}\"'.format(k.split('/')[-1]) for k in res])\n",
    "slides = ', '.join([f'\"slide{k}\"' for k in range(1, npub + 1)])\n",
    "\n",
    "with open(\"grid_template.html\", \"r\") as tpl:\n",
    "    page = tpl.read()\n",
    "    page = page.replace(\"{%-- grid-content:s --%}\", grid)\\\n",
    "               .replace(\"{%-- suptitle:s --%}\",  f\"Last {npub:,d} papers\" )\\\n",
    "               .replace(\"{%-- docs:s --%}\", docs)\\\n",
    "               .replace(\"{%-- slides:s --%}\", slides)\n",
    "    \n",
    "# print(grid, docs, slides)\n",
    "# print(page)\n",
    "with open(\"_build/html/index_npub_grid.html\", 'w') as fout:\n",
    "    fout.write(page)"
   ]
  }
 ],
 "metadata": {
  "kernelspec": {
   "display_name": "Python 3 (ipykernel)",
   "language": "python",
   "name": "python3"
  },
  "language_info": {
   "codemirror_mode": {
    "name": "ipython",
    "version": 3
   },
   "file_extension": ".py",
   "mimetype": "text/x-python",
   "name": "python",
   "nbconvert_exporter": "python",
   "pygments_lexer": "ipython3",
   "version": "3.9.16"
  },
  "papermill": {
   "default_parameters": {},
   "duration": 60.323687,
   "end_time": "2023-06-01T04:09:59.550646",
   "environment_variables": {},
   "exception": null,
   "input_path": "MPIA daily digest.ipynb",
   "output_path": "log.ipynb",
   "parameters": {},
   "start_time": "2023-06-01T04:08:59.226959",
   "version": "2.4.0"
  },
  "vscode": {
   "interpreter": {
    "hash": "aee8b7b246df8f9039afb4144a1f6fd8d2ca17a180786b69acc140d282b71a49"
   }
  },
  "widgets": {
   "application/vnd.jupyter.widget-state+json": {
    "state": {
     "1457233fcd3c49c8838f4a6a2c7c5a43": {
      "model_module": "@jupyter-widgets/controls",
      "model_module_version": "2.0.0",
      "model_name": "HTMLModel",
      "state": {
       "_dom_classes": [],
       "_model_module": "@jupyter-widgets/controls",
       "_model_module_version": "2.0.0",
       "_model_name": "HTMLModel",
       "_view_count": null,
       "_view_module": "@jupyter-widgets/controls",
       "_view_module_version": "2.0.0",
       "_view_name": "HTMLView",
       "description": "",
       "description_allow_html": false,
       "layout": "IPY_MODEL_64b0bbecdb944aceb59a84f1ac51556f",
       "placeholder": "​",
       "style": "IPY_MODEL_a6ad687a073b4472a41ef86c0b986426",
       "tabbable": null,
       "tooltip": null,
       "value": " 1/1 [00:33&lt;00:00, 33.85s/it]"
      }
     },
     "1d2b721ae51a4da6a2021bd4ffe1921c": {
      "model_module": "@jupyter-widgets/controls",
      "model_module_version": "2.0.0",
      "model_name": "HTMLModel",
      "state": {
       "_dom_classes": [],
       "_model_module": "@jupyter-widgets/controls",
       "_model_module_version": "2.0.0",
       "_model_name": "HTMLModel",
       "_view_count": null,
       "_view_module": "@jupyter-widgets/controls",
       "_view_module_version": "2.0.0",
       "_view_name": "HTMLView",
       "description": "",
       "description_allow_html": false,
       "layout": "IPY_MODEL_a9bc4a7c353a4dde9d37f29106e99927",
       "placeholder": "​",
       "style": "IPY_MODEL_8abb388c435449beb240f95122d26016",
       "tabbable": null,
       "tooltip": null,
       "value": "100%"
      }
     },
     "64b0bbecdb944aceb59a84f1ac51556f": {
      "model_module": "@jupyter-widgets/base",
      "model_module_version": "2.0.0",
      "model_name": "LayoutModel",
      "state": {
       "_model_module": "@jupyter-widgets/base",
       "_model_module_version": "2.0.0",
       "_model_name": "LayoutModel",
       "_view_count": null,
       "_view_module": "@jupyter-widgets/base",
       "_view_module_version": "2.0.0",
       "_view_name": "LayoutView",
       "align_content": null,
       "align_items": null,
       "align_self": null,
       "border_bottom": null,
       "border_left": null,
       "border_right": null,
       "border_top": null,
       "bottom": null,
       "display": null,
       "flex": null,
       "flex_flow": null,
       "grid_area": null,
       "grid_auto_columns": null,
       "grid_auto_flow": null,
       "grid_auto_rows": null,
       "grid_column": null,
       "grid_gap": null,
       "grid_row": null,
       "grid_template_areas": null,
       "grid_template_columns": null,
       "grid_template_rows": null,
       "height": null,
       "justify_content": null,
       "justify_items": null,
       "left": null,
       "margin": null,
       "max_height": null,
       "max_width": null,
       "min_height": null,
       "min_width": null,
       "object_fit": null,
       "object_position": null,
       "order": null,
       "overflow": null,
       "padding": null,
       "right": null,
       "top": null,
       "visibility": null,
       "width": null
      }
     },
     "73cdb981e28347f1b3e874e8196a1cc5": {
      "model_module": "@jupyter-widgets/base",
      "model_module_version": "2.0.0",
      "model_name": "LayoutModel",
      "state": {
       "_model_module": "@jupyter-widgets/base",
       "_model_module_version": "2.0.0",
       "_model_name": "LayoutModel",
       "_view_count": null,
       "_view_module": "@jupyter-widgets/base",
       "_view_module_version": "2.0.0",
       "_view_name": "LayoutView",
       "align_content": null,
       "align_items": null,
       "align_self": null,
       "border_bottom": null,
       "border_left": null,
       "border_right": null,
       "border_top": null,
       "bottom": null,
       "display": null,
       "flex": null,
       "flex_flow": null,
       "grid_area": null,
       "grid_auto_columns": null,
       "grid_auto_flow": null,
       "grid_auto_rows": null,
       "grid_column": null,
       "grid_gap": null,
       "grid_row": null,
       "grid_template_areas": null,
       "grid_template_columns": null,
       "grid_template_rows": null,
       "height": null,
       "justify_content": null,
       "justify_items": null,
       "left": null,
       "margin": null,
       "max_height": null,
       "max_width": null,
       "min_height": null,
       "min_width": null,
       "object_fit": null,
       "object_position": null,
       "order": null,
       "overflow": null,
       "padding": null,
       "right": null,
       "top": null,
       "visibility": null,
       "width": null
      }
     },
     "8abb388c435449beb240f95122d26016": {
      "model_module": "@jupyter-widgets/controls",
      "model_module_version": "2.0.0",
      "model_name": "HTMLStyleModel",
      "state": {
       "_model_module": "@jupyter-widgets/controls",
       "_model_module_version": "2.0.0",
       "_model_name": "HTMLStyleModel",
       "_view_count": null,
       "_view_module": "@jupyter-widgets/base",
       "_view_module_version": "2.0.0",
       "_view_name": "StyleView",
       "background": null,
       "description_width": "",
       "font_size": null,
       "text_color": null
      }
     },
     "a0bbbdec33af4cbb873d45fdfd61941b": {
      "model_module": "@jupyter-widgets/controls",
      "model_module_version": "2.0.0",
      "model_name": "FloatProgressModel",
      "state": {
       "_dom_classes": [],
       "_model_module": "@jupyter-widgets/controls",
       "_model_module_version": "2.0.0",
       "_model_name": "FloatProgressModel",
       "_view_count": null,
       "_view_module": "@jupyter-widgets/controls",
       "_view_module_version": "2.0.0",
       "_view_name": "ProgressView",
       "bar_style": "success",
       "description": "",
       "description_allow_html": false,
       "layout": "IPY_MODEL_73cdb981e28347f1b3e874e8196a1cc5",
       "max": 1.0,
       "min": 0.0,
       "orientation": "horizontal",
       "style": "IPY_MODEL_ca71b2f9ff3b4c8f8f6348f0608444e7",
       "tabbable": null,
       "tooltip": null,
       "value": 1.0
      }
     },
     "a6ad687a073b4472a41ef86c0b986426": {
      "model_module": "@jupyter-widgets/controls",
      "model_module_version": "2.0.0",
      "model_name": "HTMLStyleModel",
      "state": {
       "_model_module": "@jupyter-widgets/controls",
       "_model_module_version": "2.0.0",
       "_model_name": "HTMLStyleModel",
       "_view_count": null,
       "_view_module": "@jupyter-widgets/base",
       "_view_module_version": "2.0.0",
       "_view_name": "StyleView",
       "background": null,
       "description_width": "",
       "font_size": null,
       "text_color": null
      }
     },
     "a9bc4a7c353a4dde9d37f29106e99927": {
      "model_module": "@jupyter-widgets/base",
      "model_module_version": "2.0.0",
      "model_name": "LayoutModel",
      "state": {
       "_model_module": "@jupyter-widgets/base",
       "_model_module_version": "2.0.0",
       "_model_name": "LayoutModel",
       "_view_count": null,
       "_view_module": "@jupyter-widgets/base",
       "_view_module_version": "2.0.0",
       "_view_name": "LayoutView",
       "align_content": null,
       "align_items": null,
       "align_self": null,
       "border_bottom": null,
       "border_left": null,
       "border_right": null,
       "border_top": null,
       "bottom": null,
       "display": null,
       "flex": null,
       "flex_flow": null,
       "grid_area": null,
       "grid_auto_columns": null,
       "grid_auto_flow": null,
       "grid_auto_rows": null,
       "grid_column": null,
       "grid_gap": null,
       "grid_row": null,
       "grid_template_areas": null,
       "grid_template_columns": null,
       "grid_template_rows": null,
       "height": null,
       "justify_content": null,
       "justify_items": null,
       "left": null,
       "margin": null,
       "max_height": null,
       "max_width": null,
       "min_height": null,
       "min_width": null,
       "object_fit": null,
       "object_position": null,
       "order": null,
       "overflow": null,
       "padding": null,
       "right": null,
       "top": null,
       "visibility": null,
       "width": null
      }
     },
     "b9dc59cf9ad249978f4afcbb912419a7": {
      "model_module": "@jupyter-widgets/base",
      "model_module_version": "2.0.0",
      "model_name": "LayoutModel",
      "state": {
       "_model_module": "@jupyter-widgets/base",
       "_model_module_version": "2.0.0",
       "_model_name": "LayoutModel",
       "_view_count": null,
       "_view_module": "@jupyter-widgets/base",
       "_view_module_version": "2.0.0",
       "_view_name": "LayoutView",
       "align_content": null,
       "align_items": null,
       "align_self": null,
       "border_bottom": null,
       "border_left": null,
       "border_right": null,
       "border_top": null,
       "bottom": null,
       "display": null,
       "flex": null,
       "flex_flow": null,
       "grid_area": null,
       "grid_auto_columns": null,
       "grid_auto_flow": null,
       "grid_auto_rows": null,
       "grid_column": null,
       "grid_gap": null,
       "grid_row": null,
       "grid_template_areas": null,
       "grid_template_columns": null,
       "grid_template_rows": null,
       "height": null,
       "justify_content": null,
       "justify_items": null,
       "left": null,
       "margin": null,
       "max_height": null,
       "max_width": null,
       "min_height": null,
       "min_width": null,
       "object_fit": null,
       "object_position": null,
       "order": null,
       "overflow": null,
       "padding": null,
       "right": null,
       "top": null,
       "visibility": null,
       "width": null
      }
     },
     "ca71b2f9ff3b4c8f8f6348f0608444e7": {
      "model_module": "@jupyter-widgets/controls",
      "model_module_version": "2.0.0",
      "model_name": "ProgressStyleModel",
      "state": {
       "_model_module": "@jupyter-widgets/controls",
       "_model_module_version": "2.0.0",
       "_model_name": "ProgressStyleModel",
       "_view_count": null,
       "_view_module": "@jupyter-widgets/base",
       "_view_module_version": "2.0.0",
       "_view_name": "StyleView",
       "bar_color": null,
       "description_width": ""
      }
     },
     "e1c2ee2f7f104b9ebc4200f3a8db3e51": {
      "model_module": "@jupyter-widgets/controls",
      "model_module_version": "2.0.0",
      "model_name": "HBoxModel",
      "state": {
       "_dom_classes": [],
       "_model_module": "@jupyter-widgets/controls",
       "_model_module_version": "2.0.0",
       "_model_name": "HBoxModel",
       "_view_count": null,
       "_view_module": "@jupyter-widgets/controls",
       "_view_module_version": "2.0.0",
       "_view_name": "HBoxView",
       "box_style": "",
       "children": [
        "IPY_MODEL_1d2b721ae51a4da6a2021bd4ffe1921c",
        "IPY_MODEL_a0bbbdec33af4cbb873d45fdfd61941b",
        "IPY_MODEL_1457233fcd3c49c8838f4a6a2c7c5a43"
       ],
       "layout": "IPY_MODEL_b9dc59cf9ad249978f4afcbb912419a7",
       "tabbable": null,
       "tooltip": null
      }
     }
    },
    "version_major": 2,
    "version_minor": 0
   }
  }
 },
 "nbformat": 4,
 "nbformat_minor": 5
}