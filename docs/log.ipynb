{
 "cells": [
  {
   "cell_type": "markdown",
   "id": "92bcb855",
   "metadata": {
    "papermill": {
     "duration": 0.005132,
     "end_time": "2023-03-23T04:05:47.551569",
     "exception": false,
     "start_time": "2023-03-23T04:05:47.546437",
     "status": "completed"
    },
    "tags": []
   },
   "source": [
    "# MPIA Arxiv on Deck 2\n",
    "\n",
    "Contains the steps to produce the paper extractions."
   ]
  },
  {
   "cell_type": "code",
   "execution_count": 1,
   "id": "3a0d6e11",
   "metadata": {
    "execution": {
     "iopub.execute_input": "2023-03-23T04:05:47.561418Z",
     "iopub.status.busy": "2023-03-23T04:05:47.560872Z",
     "iopub.status.idle": "2023-03-23T04:05:47.784974Z",
     "shell.execute_reply": "2023-03-23T04:05:47.784304Z"
    },
    "papermill": {
     "duration": 0.230999,
     "end_time": "2023-03-23T04:05:47.786907",
     "exception": false,
     "start_time": "2023-03-23T04:05:47.555908",
     "status": "completed"
    },
    "tags": []
   },
   "outputs": [],
   "source": [
    "# Imports\n",
    "import os\n",
    "from IPython.display import Markdown, display\n",
    "from tqdm.notebook import tqdm\n",
    "import warnings\n",
    "from PIL import Image \n",
    "\n",
    "# requires arxiv_on_deck_2\n",
    "\n",
    "from arxiv_on_deck_2.arxiv2 import (get_new_papers, \n",
    "                                    get_paper_from_identifier,\n",
    "                                    retrieve_document_source, \n",
    "                                    get_markdown_badge)\n",
    "from arxiv_on_deck_2 import (latex,\n",
    "                             latex_bib,\n",
    "                             mpia,\n",
    "                             highlight_authors_in_list)\n",
    "\n",
    "# Sometimes images are really big\n",
    "Image.MAX_IMAGE_PIXELS = 1000000000 "
   ]
  },
  {
   "cell_type": "code",
   "execution_count": 2,
   "id": "22aa9d44",
   "metadata": {
    "execution": {
     "iopub.execute_input": "2023-03-23T04:05:47.796375Z",
     "iopub.status.busy": "2023-03-23T04:05:47.796000Z",
     "iopub.status.idle": "2023-03-23T04:05:47.800954Z",
     "shell.execute_reply": "2023-03-23T04:05:47.800391Z"
    },
    "papermill": {
     "duration": 0.011733,
     "end_time": "2023-03-23T04:05:47.802587",
     "exception": false,
     "start_time": "2023-03-23T04:05:47.790854",
     "status": "completed"
    },
    "tags": []
   },
   "outputs": [],
   "source": [
    "# Some useful definitions.\n",
    "\n",
    "class AffiliationWarning(UserWarning):\n",
    "    pass\n",
    "\n",
    "class AffiliationError(RuntimeError):\n",
    "    pass\n",
    "\n",
    "def validation(source: str):\n",
    "    \"\"\"Raises error paper during parsing of source file\n",
    "    \n",
    "    Allows checks before parsing TeX code.\n",
    "    \n",
    "    Raises AffiliationWarning\n",
    "    \"\"\"\n",
    "    check = mpia.affiliation_verifications(source, verbose=True)\n",
    "    if check is not True:\n",
    "        raise AffiliationError(\"mpia.affiliation_verifications: \" + check)\n",
    "\n",
    "        \n",
    "warnings.simplefilter('always', AffiliationWarning)"
   ]
  },
  {
   "cell_type": "code",
   "execution_count": 3,
   "id": "14622700",
   "metadata": {
    "execution": {
     "iopub.execute_input": "2023-03-23T04:05:47.811642Z",
     "iopub.status.busy": "2023-03-23T04:05:47.811266Z",
     "iopub.status.idle": "2023-03-23T04:05:47.814962Z",
     "shell.execute_reply": "2023-03-23T04:05:47.814440Z"
    },
    "papermill": {
     "duration": 0.00989,
     "end_time": "2023-03-23T04:05:47.816337",
     "exception": false,
     "start_time": "2023-03-23T04:05:47.806447",
     "status": "completed"
    },
    "tags": []
   },
   "outputs": [],
   "source": [
    "# additional CSS to consider. \n",
    "# TODO: Current into each exported file. \n",
    "#       This should be set once into the webpages directly.\n",
    "#       With only the class/id definitions in the .md files.\n",
    "\n",
    "debug_html = \"\"\"\n",
    "<style>\n",
    "#wrap{ overflow:auto; }\n",
    "#fig1{ background:yellow; width:100%; float:left; padding:5px;  }\n",
    "#fig2{ background:red; width:50%; float:left; clear:left; padding:5px;  }\n",
    "#fig3{ background:green; width:50%; float:left; padding:5px;   }\n",
    ".macros{ background:yellow; visibility:visible;}\n",
    "h1 {margin: 0 0 0 0;}\n",
    "mark {background-color:#fff3b6;}\n",
    "img {object-fit:contain; max-height:250px; display:inline-block; text-align: center;}\n",
    "</style>\n",
    "\"\"\" \n",
    "html = \"\"\"\n",
    "<style>\n",
    "#wrap{ overflow:auto; }\n",
    "#fig1{ width:100%; float:left; padding: 5px;  }\n",
    "#fig2{ width:50%; float:left; clear:left; padding: 5px;  }\n",
    "#fig3{ width:50%; float:left; padding: 5px;  }\n",
    ".macros{ visibility:hidden; height:0px; }\n",
    "h1 {margin: 0em 0 0 0;}\n",
    "mark {background-color:#fff3b6;}\n",
    "img {object-fit:contain; max-height:250px; display:inline-block; text-align: center;}\n",
    "</style>\n",
    "\"\"\""
   ]
  },
  {
   "cell_type": "markdown",
   "id": "14bd6310",
   "metadata": {
    "papermill": {
     "duration": 0.003684,
     "end_time": "2023-03-23T04:05:47.823785",
     "exception": false,
     "start_time": "2023-03-23T04:05:47.820101",
     "status": "completed"
    },
    "tags": []
   },
   "source": [
    "## get list of arxiv paper candidates\n",
    "\n",
    "We use the MPIA mitarbeiter list webpage from mpia.de to get author names\n",
    "We then get all new papers from Arxiv and match authors"
   ]
  },
  {
   "cell_type": "code",
   "execution_count": 4,
   "id": "2645e73a",
   "metadata": {
    "execution": {
     "iopub.execute_input": "2023-03-23T04:05:47.832742Z",
     "iopub.status.busy": "2023-03-23T04:05:47.832217Z",
     "iopub.status.idle": "2023-03-23T04:06:14.510038Z",
     "shell.execute_reply": "2023-03-23T04:06:14.508500Z"
    },
    "papermill": {
     "duration": 26.685663,
     "end_time": "2023-03-23T04:06:14.513243",
     "exception": false,
     "start_time": "2023-03-23T04:05:47.827580",
     "status": "completed"
    },
    "tags": []
   },
   "outputs": [
    {
     "name": "stdout",
     "output_type": "stream",
     "text": [
      "Arxiv has 63 new papers today\n",
      "          21 with possible author matches\n"
     ]
    }
   ],
   "source": [
    "# get list from MPIA website\n",
    "# it automatically filters identified non-scientists :func:`mpia.filter_non_scientists`\n",
    "mpia_authors = mpia.get_mpia_mitarbeiter_list()\n",
    "new_papers = get_new_papers()\n",
    "# add manual references\n",
    "add_paper_refs = []\n",
    "new_papers.extend([get_paper_from_identifier(k) for k in add_paper_refs])\n",
    "\n",
    "# select only papers with matching author names and highlight authors\n",
    "hl_list = [k[0] for k in mpia_authors]\n",
    "\n",
    "candidates = []\n",
    "for paperk in new_papers:\n",
    "    hl_authors = highlight_authors_in_list(paperk['authors'], hl_list)\n",
    "    matches = [(hl, orig) for hl, orig in zip(hl_authors, paperk['authors']) if 'mark' in hl]\n",
    "    paperk['authors'] = hl_authors\n",
    "    if matches:\n",
    "        candidates.append(paperk)\n",
    "print(\"\"\"Arxiv has {0:,d} new papers today\"\"\".format(len(new_papers)))        \n",
    "print(\"\"\"          {0:,d} with possible author matches\"\"\".format(len(candidates)))"
   ]
  },
  {
   "cell_type": "markdown",
   "id": "3543b34a",
   "metadata": {
    "papermill": {
     "duration": 0.004096,
     "end_time": "2023-03-23T04:06:14.521535",
     "exception": false,
     "start_time": "2023-03-23T04:06:14.517439",
     "status": "completed"
    },
    "tags": []
   },
   "source": [
    "# Parse sources and generate relevant outputs\n",
    "\n",
    "From the candidates, we do the following steps:\n",
    "* get their tarball from ArXiv (and extract data)\n",
    "* find the main .tex file: find one with \\documentclass{...} (sometimes it's non trivial)\n",
    "* Check affiliations with :func:`validation`, which uses :func:`mpia.affiliation_verifications`\n",
    "* If passing the affiliations: we parse the .tex source\n",
    "   * inject sub-documents into the main (flatten the main document)\n",
    "   * parse structure, extract information (title, abstract, authors, figures...)\n",
    "   * handles `\\graphicspath` if provided\n",
    "* Generate the .md document."
   ]
  },
  {
   "cell_type": "code",
   "execution_count": 5,
   "id": "9576b79e",
   "metadata": {
    "execution": {
     "iopub.execute_input": "2023-03-23T04:06:14.530936Z",
     "iopub.status.busy": "2023-03-23T04:06:14.530259Z",
     "iopub.status.idle": "2023-03-23T04:07:28.013376Z",
     "shell.execute_reply": "2023-03-23T04:07:28.012644Z"
    },
    "papermill": {
     "duration": 73.489767,
     "end_time": "2023-03-23T04:07:28.015107",
     "exception": false,
     "start_time": "2023-03-23T04:06:14.525340",
     "status": "completed"
    },
    "scrolled": false,
    "tags": []
   },
   "outputs": [
    {
     "data": {
      "application/vnd.jupyter.widget-view+json": {
       "model_id": "a18d349385f2448ca209b91706dbbab7",
       "version_major": 2,
       "version_minor": 0
      },
      "text/plain": [
       "  0%|          | 0/20 [00:00<?, ?it/s]"
      ]
     },
     "metadata": {},
     "output_type": "display_data"
    },
    {
     "name": "stdout",
     "output_type": "stream",
     "text": [
      "Retrieving document from  https://arxiv.org/e-print/2303.12101\n"
     ]
    },
    {
     "name": "stdout",
     "output_type": "stream",
     "text": [
      "extracting tarball to tmp_2303.12101..."
     ]
    },
    {
     "name": "stdout",
     "output_type": "stream",
     "text": [
      " done.\n"
     ]
    },
    {
     "name": "stderr",
     "output_type": "stream",
     "text": [
      "/opt/hostedtoolcache/Python/3.9.16/x64/lib/python3.9/site-packages/IPython/core/interactiveshell.py:3460: LatexWarning: Multiple tex files.\n",
      "\n",
      "  exec(code_obj, self.user_global_ns, self.user_ns)\n",
      "/opt/hostedtoolcache/Python/3.9.16/x64/lib/python3.9/site-packages/IPython/core/interactiveshell.py:3460: LatexWarning: Found documentclass in tmp_2303.12101/main.tex\n",
      "\n",
      "  exec(code_obj, self.user_global_ns, self.user_ns)\n"
     ]
    },
    {
     "name": "stdout",
     "output_type": "stream",
     "text": [
      "Found 113 bibliographic references in tmp_2303.12101/main.bbl.\n",
      "Retrieving document from  https://arxiv.org/e-print/2303.12104\n"
     ]
    },
    {
     "name": "stdout",
     "output_type": "stream",
     "text": [
      "extracting tarball to tmp_2303.12104..."
     ]
    },
    {
     "name": "stdout",
     "output_type": "stream",
     "text": [
      " done.\n",
      "Retrieving document from  https://arxiv.org/e-print/2303.12108\n"
     ]
    },
    {
     "name": "stderr",
     "output_type": "stream",
     "text": [
      "/opt/hostedtoolcache/Python/3.9.16/x64/lib/python3.9/site-packages/IPython/core/interactiveshell.py:3460: LatexWarning: Multiple tex files.\n",
      "\n",
      "  exec(code_obj, self.user_global_ns, self.user_ns)\n",
      "/opt/hostedtoolcache/Python/3.9.16/x64/lib/python3.9/site-packages/IPython/core/interactiveshell.py:3460: LatexWarning: Found documentclass in tmp_2303.12104/4x2pt_N_arxiv_stripped.tex\n",
      "\n",
      "  exec(code_obj, self.user_global_ns, self.user_ns)\n"
     ]
    },
    {
     "name": "stdout",
     "output_type": "stream",
     "text": [
      "extracting tarball to tmp_2303.12108..."
     ]
    },
    {
     "name": "stdout",
     "output_type": "stream",
     "text": [
      " done.\n",
      "Retrieving document from  https://arxiv.org/e-print/2303.12110\n"
     ]
    },
    {
     "name": "stdout",
     "output_type": "stream",
     "text": [
      "extracting tarball to tmp_2303.12110..."
     ]
    },
    {
     "name": "stdout",
     "output_type": "stream",
     "text": [
      " done.\n"
     ]
    },
    {
     "name": "stdout",
     "output_type": "stream",
     "text": [
      "Found 75 bibliographic references in tmp_2303.12110/aanda.bbl.\n",
      "Retrieving document from  https://arxiv.org/e-print/2303.12155\n"
     ]
    },
    {
     "name": "stdout",
     "output_type": "stream",
     "text": [
      "extracting tarball to tmp_2303.12155... done.\n",
      "Retrieving document from  https://arxiv.org/e-print/2303.12163\n"
     ]
    },
    {
     "name": "stdout",
     "output_type": "stream",
     "text": [
      "extracting tarball to tmp_2303.12163..."
     ]
    },
    {
     "name": "stdout",
     "output_type": "stream",
     "text": [
      " done.\n"
     ]
    },
    {
     "name": "stderr",
     "output_type": "stream",
     "text": [
      "/tmp/ipykernel_2001/4289671964.py:41: LatexWarning: 2303.12163 did not run properly\n",
      "[Errno 2] No such file or directory: 'gs'\n",
      "  warnings.warn(latex.LatexWarning(f\"{paper_id:s} did not run properly\\n\" +\n"
     ]
    },
    {
     "name": "stdout",
     "output_type": "stream",
     "text": [
      "Retrieving document from  https://arxiv.org/e-print/2303.12166\n"
     ]
    },
    {
     "name": "stderr",
     "output_type": "stream",
     "text": [
      "/tmp/ipykernel_2001/4289671964.py:41: LatexWarning: 2303.12166 did not run properly\n",
      "not a gzip file\n",
      "  warnings.warn(latex.LatexWarning(f\"{paper_id:s} did not run properly\\n\" +\n"
     ]
    },
    {
     "name": "stdout",
     "output_type": "stream",
     "text": [
      "Retrieving document from  https://arxiv.org/e-print/2303.12192\n"
     ]
    },
    {
     "name": "stdout",
     "output_type": "stream",
     "text": [
      "extracting tarball to tmp_2303.12192..."
     ]
    },
    {
     "name": "stdout",
     "output_type": "stream",
     "text": [
      " done.\n",
      "Retrieving document from  https://arxiv.org/e-print/2303.12207\n"
     ]
    },
    {
     "name": "stdout",
     "output_type": "stream",
     "text": [
      "extracting tarball to tmp_2303.12207..."
     ]
    },
    {
     "name": "stdout",
     "output_type": "stream",
     "text": [
      " done.\n",
      "Retrieving document from  https://arxiv.org/e-print/2303.12221\n"
     ]
    },
    {
     "name": "stdout",
     "output_type": "stream",
     "text": [
      "extracting tarball to tmp_2303.12221..."
     ]
    },
    {
     "name": "stdout",
     "output_type": "stream",
     "text": [
      " done.\n",
      "Retrieving document from  https://arxiv.org/e-print/2303.12353\n"
     ]
    },
    {
     "name": "stdout",
     "output_type": "stream",
     "text": [
      "extracting tarball to tmp_2303.12353..."
     ]
    },
    {
     "name": "stdout",
     "output_type": "stream",
     "text": [
      " done.\n",
      "Retrieving document from  https://arxiv.org/e-print/2303.12409\n"
     ]
    },
    {
     "name": "stdout",
     "output_type": "stream",
     "text": [
      "extracting tarball to tmp_2303.12409..."
     ]
    },
    {
     "name": "stdout",
     "output_type": "stream",
     "text": [
      " done.\n",
      "Retrieving document from  https://arxiv.org/e-print/2303.12437\n"
     ]
    },
    {
     "name": "stdout",
     "output_type": "stream",
     "text": [
      "extracting tarball to tmp_2303.12437..."
     ]
    },
    {
     "name": "stdout",
     "output_type": "stream",
     "text": [
      " done.\n",
      "Retrieving document from  https://arxiv.org/e-print/2303.12467\n"
     ]
    },
    {
     "name": "stderr",
     "output_type": "stream",
     "text": [
      "/opt/hostedtoolcache/Python/3.9.16/x64/lib/python3.9/site-packages/IPython/core/interactiveshell.py:3460: LatexWarning: Multiple tex files.\n",
      "\n",
      "  exec(code_obj, self.user_global_ns, self.user_ns)\n",
      "/opt/hostedtoolcache/Python/3.9.16/x64/lib/python3.9/site-packages/IPython/core/interactiveshell.py:3460: LatexWarning: Found documentclass in tmp_2303.12437/Vela.tex\n",
      "\n",
      "  exec(code_obj, self.user_global_ns, self.user_ns)\n",
      "/opt/hostedtoolcache/Python/3.9.16/x64/lib/python3.9/site-packages/arxiv_on_deck_2/latex.py:361: LatexWarning: Latex injecting: 'authors' from 'tmp_2303.12437/authors.tex'\n",
      "  warnings.warn(LatexWarning(f\"Latex injecting: '{ext}' from '{subsource}'\"))\n"
     ]
    },
    {
     "name": "stdout",
     "output_type": "stream",
     "text": [
      "extracting tarball to tmp_2303.12467..."
     ]
    },
    {
     "name": "stdout",
     "output_type": "stream",
     "text": [
      " done.\n",
      "Retrieving document from  https://arxiv.org/e-print/2303.12539\n"
     ]
    },
    {
     "name": "stdout",
     "output_type": "stream",
     "text": [
      "extracting tarball to tmp_2303.12539..."
     ]
    },
    {
     "name": "stdout",
     "output_type": "stream",
     "text": [
      " done.\n",
      "Retrieving document from  https://arxiv.org/e-print/2303.12541\n"
     ]
    },
    {
     "name": "stderr",
     "output_type": "stream",
     "text": [
      "/opt/hostedtoolcache/Python/3.9.16/x64/lib/python3.9/site-packages/IPython/core/interactiveshell.py:3460: LatexWarning: Multiple tex files.\n",
      "\n",
      "  exec(code_obj, self.user_global_ns, self.user_ns)\n",
      "/opt/hostedtoolcache/Python/3.9.16/x64/lib/python3.9/site-packages/IPython/core/interactiveshell.py:3460: LatexWarning: Found documentclass in tmp_2303.12539/rnaas.tex\n",
      "\n",
      "  exec(code_obj, self.user_global_ns, self.user_ns)\n"
     ]
    },
    {
     "name": "stdout",
     "output_type": "stream",
     "text": [
      "extracting tarball to tmp_2303.12541..."
     ]
    },
    {
     "name": "stdout",
     "output_type": "stream",
     "text": [
      " done.\n",
      "Retrieving document from  https://arxiv.org/e-print/2303.12542\n"
     ]
    },
    {
     "name": "stdout",
     "output_type": "stream",
     "text": [
      "extracting tarball to tmp_2303.12542..."
     ]
    },
    {
     "name": "stdout",
     "output_type": "stream",
     "text": [
      " done.\n",
      "Retrieving document from  https://arxiv.org/e-print/2303.12577\n"
     ]
    },
    {
     "name": "stderr",
     "output_type": "stream",
     "text": [
      "/opt/hostedtoolcache/Python/3.9.16/x64/lib/python3.9/site-packages/IPython/core/interactiveshell.py:3460: LatexWarning: Multiple tex files.\n",
      "\n",
      "  exec(code_obj, self.user_global_ns, self.user_ns)\n",
      "/opt/hostedtoolcache/Python/3.9.16/x64/lib/python3.9/site-packages/IPython/core/interactiveshell.py:3460: LatexWarning: Found documentclass in tmp_2303.12542/mnras.tex\n",
      "\n",
      "  exec(code_obj, self.user_global_ns, self.user_ns)\n",
      "/opt/hostedtoolcache/Python/3.9.16/x64/lib/python3.9/site-packages/arxiv_on_deck_2/latex.py:361: LatexWarning: Latex injecting: 'authorList' from 'tmp_2303.12542/authorList.tex'\n",
      "  warnings.warn(LatexWarning(f\"Latex injecting: '{ext}' from '{subsource}'\"))\n"
     ]
    },
    {
     "name": "stdout",
     "output_type": "stream",
     "text": [
      "extracting tarball to tmp_2303.12577..."
     ]
    },
    {
     "name": "stdout",
     "output_type": "stream",
     "text": [
      " done.\n",
      "Retrieving document from  https://arxiv.org/e-print/2303.12579\n"
     ]
    },
    {
     "name": "stdout",
     "output_type": "stream",
     "text": [
      "extracting tarball to tmp_2303.12579..."
     ]
    },
    {
     "name": "stdout",
     "output_type": "stream",
     "text": [
      " done.\n",
      "Retrieving document from  https://arxiv.org/e-print/2303.12598\n"
     ]
    },
    {
     "name": "stdout",
     "output_type": "stream",
     "text": [
      "extracting tarball to tmp_2303.12598..."
     ]
    },
    {
     "name": "stdout",
     "output_type": "stream",
     "text": [
      " done.\n"
     ]
    },
    {
     "name": "stderr",
     "output_type": "stream",
     "text": [
      "/opt/hostedtoolcache/Python/3.9.16/x64/lib/python3.9/site-packages/IPython/core/interactiveshell.py:3460: LatexWarning: Multiple tex files.\n",
      "\n",
      "  exec(code_obj, self.user_global_ns, self.user_ns)\n",
      "/opt/hostedtoolcache/Python/3.9.16/x64/lib/python3.9/site-packages/IPython/core/interactiveshell.py:3460: LatexWarning: Found documentclass in tmp_2303.12598/paper.tex\n",
      "\n",
      "  exec(code_obj, self.user_global_ns, self.user_ns)\n",
      "/opt/hostedtoolcache/Python/3.9.16/x64/lib/python3.9/site-packages/arxiv_on_deck_2/latex.py:361: LatexWarning: Latex injecting: 'appendices' from 'tmp_2303.12598/sections/appendices.tex'\n",
      "  warnings.warn(LatexWarning(f\"Latex injecting: '{ext}' from '{subsource}'\"))\n",
      "/opt/hostedtoolcache/Python/3.9.16/x64/lib/python3.9/site-packages/arxiv_on_deck_2/latex.py:361: LatexWarning: Latex injecting: 'sections/acknowledgements' from 'tmp_2303.12598/sections/acknowledgements.tex'\n",
      "  warnings.warn(LatexWarning(f\"Latex injecting: '{ext}' from '{subsource}'\"))\n",
      "/opt/hostedtoolcache/Python/3.9.16/x64/lib/python3.9/site-packages/arxiv_on_deck_2/latex.py:361: LatexWarning: Latex injecting: 'sections/5-conclusion' from 'tmp_2303.12598/sections/5-conclusion.tex'\n",
      "  warnings.warn(LatexWarning(f\"Latex injecting: '{ext}' from '{subsource}'\"))\n",
      "/opt/hostedtoolcache/Python/3.9.16/x64/lib/python3.9/site-packages/arxiv_on_deck_2/latex.py:361: LatexWarning: Latex injecting: 'sections/4-discussion' from 'tmp_2303.12598/sections/4-discussion.tex'\n",
      "  warnings.warn(LatexWarning(f\"Latex injecting: '{ext}' from '{subsource}'\"))\n",
      "/opt/hostedtoolcache/Python/3.9.16/x64/lib/python3.9/site-packages/arxiv_on_deck_2/latex.py:361: LatexWarning: Latex injecting: 'sections/3-candidates' from 'tmp_2303.12598/sections/3-candidates.tex'\n",
      "  warnings.warn(LatexWarning(f\"Latex injecting: '{ext}' from '{subsource}'\"))\n",
      "/opt/hostedtoolcache/Python/3.9.16/x64/lib/python3.9/site-packages/arxiv_on_deck_2/latex.py:361: LatexWarning: Latex injecting: 'sections/2-selection' from 'tmp_2303.12598/sections/2-selection.tex'\n",
      "  warnings.warn(LatexWarning(f\"Latex injecting: '{ext}' from '{subsource}'\"))\n",
      "/opt/hostedtoolcache/Python/3.9.16/x64/lib/python3.9/site-packages/arxiv_on_deck_2/latex.py:361: LatexWarning: Latex injecting: 'sections/1-introduction' from 'tmp_2303.12598/sections/1-introduction.tex'\n",
      "  warnings.warn(LatexWarning(f\"Latex injecting: '{ext}' from '{subsource}'\"))\n",
      "/opt/hostedtoolcache/Python/3.9.16/x64/lib/python3.9/site-packages/arxiv_on_deck_2/latex.py:361: LatexWarning: Latex injecting: 'sections/0-abstract' from 'tmp_2303.12598/sections/0-abstract.tex'\n",
      "  warnings.warn(LatexWarning(f\"Latex injecting: '{ext}' from '{subsource}'\"))\n"
     ]
    }
   ],
   "source": [
    "documents = []\n",
    "failed = []\n",
    "for paper in tqdm(candidates[:-1]):\n",
    "    paper_id = paper['identifier'].lower().replace('arxiv:', '')\n",
    "    \n",
    "    folder = f'tmp_{paper_id}'\n",
    "\n",
    "    try:\n",
    "        if not os.path.isdir(folder):\n",
    "            folder = retrieve_document_source(f\"{paper_id}\", f'tmp_{paper_id}')\n",
    "        \n",
    "        try:\n",
    "            doc = latex.LatexDocument(folder, validation=validation)    \n",
    "        except AffiliationError as affilerror:\n",
    "            msg = f\"ArXiv:{paper_id:s} is not an MPIA paper... \" + str(affilerror)\n",
    "            failed.append((paper, \"affiliation error: \" + str(affilerror) ))\n",
    "            continue\n",
    "        \n",
    "        # Hack because sometimes author parsing does not work well\n",
    "        if (len(doc.authors) != len(paper['authors'])):\n",
    "            doc._authors = paper['authors']\n",
    "        if (doc.abstract) in (None, ''):\n",
    "            doc._abstract = paper['abstract']\n",
    "            \n",
    "        doc.comment = (get_markdown_badge(paper_id) + \n",
    "                       \"<mark>Appeared on: \" + paper['date'] + \"</mark> - \" +\n",
    "                       \"_\" + paper['comments'] + \"_\")\n",
    "        doc.highlight_authors_in_list(hl_list)\n",
    "\n",
    "        full_md = doc.generate_markdown_text()\n",
    "        \n",
    "        # replace citations\n",
    "        try:\n",
    "            bibdata = latex_bib.LatexBib.from_doc(doc)\n",
    "            full_md = latex_bib.replace_citations(full_md, bibdata)\n",
    "        except Exception as e:\n",
    "            print(e)\n",
    "        \n",
    "        documents.append((paper_id, full_md))\n",
    "    except Exception as e:\n",
    "        warnings.warn(latex.LatexWarning(f\"{paper_id:s} did not run properly\\n\" +\n",
    "                                         str(e)\n",
    "                                        ))\n",
    "        failed.append((paper, \"latex error \" + str(e)))"
   ]
  },
  {
   "cell_type": "markdown",
   "id": "2505a25c",
   "metadata": {
    "papermill": {
     "duration": 0.006706,
     "end_time": "2023-03-23T04:07:28.028469",
     "exception": false,
     "start_time": "2023-03-23T04:07:28.021763",
     "status": "completed"
    },
    "tags": []
   },
   "source": [
    "### Export the logs\n",
    "\n",
    "Throughout, we also keep track of the logs per paper. see `logs-{today date}.md` "
   ]
  },
  {
   "cell_type": "code",
   "execution_count": 6,
   "id": "d733828a",
   "metadata": {
    "execution": {
     "iopub.execute_input": "2023-03-23T04:07:28.043801Z",
     "iopub.status.busy": "2023-03-23T04:07:28.042932Z",
     "iopub.status.idle": "2023-03-23T04:07:28.075952Z",
     "shell.execute_reply": "2023-03-23T04:07:28.075183Z"
    },
    "papermill": {
     "duration": 0.042517,
     "end_time": "2023-03-23T04:07:28.077483",
     "exception": false,
     "start_time": "2023-03-23T04:07:28.034966",
     "status": "completed"
    },
    "scrolled": false,
    "tags": []
   },
   "outputs": [
    {
     "data": {
      "text/markdown": [
       "## Successful papers"
      ],
      "text/plain": [
       "<IPython.core.display.Markdown object>"
      ]
     },
     "metadata": {},
     "output_type": "display_data"
    },
    {
     "data": {
      "text/markdown": [
       "\n",
       "|||\n",
       "|---:|:---|\n",
       "| [![arXiv](https://img.shields.io/badge/arXiv-arXiv:2303.12101-b31b1b.svg)](https://arxiv.org/abs/arXiv:2303.12101) | **Stellar associations powering HII regions $\\unicode{x2013}$ I. Defining  an evolutionary sequence**  |\n",
       "|| Fabian Scheuermann, et al. -- incl., <mark>Kathryn Kreckel</mark>, <mark>Stephen Hannon</mark>, <mark>Janice C. Lee</mark>, <mark>Frank Bigiel</mark>, <mark>Eva Schinnerer</mark> |\n",
       "|*Appeared on*| *2023-03-23*|\n",
       "|*Comments*| *15 pages, 12 figures. Accepted for publication in MNRAS*|\n",
       "|**Abstract**| Connecting the gas in HII regions to the underlying source of the ionizing radiation can help us constrain the physical processes of stellar feedback and how HII regions evolve over time. With PHANGS$\\unicode{x2013}$MUSE we detect nearly 24,000 HII regions across 19 galaxies and measure the physical properties of the ionized gas (e.g. metallicity, ionization parameter, density). We use catalogues of multi-scale stellar associations from PHANGS$\\unicode{x2013}$HST to obtain constraints on the age of the ionizing sources. We construct a matched catalogue of 4,177 HII regions that are clearly linked to a single ionizing association. A weak anti-correlation is observed between the association ages and the H$\\alpha$ equivalent width EW(H$\\alpha$), the H$\\alpha$/FUV flux ratio and the ionization parameter, log q. As all three are expected to decrease as the stellar population ages, this could indicate that we observe an evolutionary sequence. This interpretation is further supported by correlations between all three properties. Interpreting these as evolutionary tracers, we find younger nebulae to be more attenuated by dust and closer to giant molecular clouds, in line with recent models of feedback-regulated star formation. We also observe strong correlations with the local metallicity variations and all three proposed age tracers, suggestive of star formation preferentially occurring in locations of locally enhanced metallicity. Overall, EW(H$\\alpha$) and log q show the most consistent trends and appear to be most reliable tracers for the age of an HII region. |"
      ],
      "text/plain": [
       "[arXiv:2303.12101] Stellar associations powering HII regions $\\unicode{x2013}$ I. Defining  an evolutionary sequence\n",
       "\tFabian Scheuermann, et al. -- incl., <mark>Kathryn Kreckel</mark>, <mark>Stephen Hannon</mark>, <mark>Janice C. Lee</mark>, <mark>Frank Bigiel</mark>, <mark>Eva Schinnerer</mark>"
      ]
     },
     "metadata": {},
     "output_type": "display_data"
    },
    {
     "data": {
      "text/markdown": [
       "\n",
       "|||\n",
       "|---:|:---|\n",
       "| [![arXiv](https://img.shields.io/badge/arXiv-arXiv:2303.12110-b31b1b.svg)](https://arxiv.org/abs/arXiv:2303.12110) | **The Gas Mass Reservoir of Quiescent Galaxies at Cosmic Noon**  |\n",
       "|| David Blánquez-Sesé, et al. -- incl., <mark>E. Schinnerer</mark> |\n",
       "|*Appeared on*| *2023-03-23*|\n",
       "|*Comments*| *Accepted to A&A on the 16/03/2023*|\n",
       "|**Abstract**| We present a 1.1mm stacking analysis of moderately massive (log($M_{*}$/$M_{\\odot}$) = 10.7 $\\pm$ 0.2) quiescent galaxies (QGs) at $\\langle z\\rangle \\sim1.5$, searching for cold dust continuum emission, an excellent tracer of dust and gas mass. Using both the recent GOODS-ALMA survey as well as the full suite of ALMA Band-6 ancillary data in the GOODS-S field, we report the tentative detection of dust continuum equivalent of dust mass log($M_{dust}$/$M_{\\odot}$) = 7.47 $\\pm$ 0.13 and gas mass log($M_{gas}$/$M_{\\odot}$) = 9.42 $\\pm$ 0.14. The emerging gas fraction is $f_{gas}$ = 5.3 $\\pm$ 1.8%, consistent with the results of previous stacking analyses based on lower resolution sub(mm) observations. Our results support the scenario where high-z QGs have an order of magnitude larger $f_{gas}$ compared to their local counterparts and have experienced quenching with a non negligible gas reservoir in their interstellar medium - i.e. with gas retention. Subsequent analysis yields an anti-correlation between the $f_{gas}$ and the stellar mass of QGs, especially in the high mass end where galaxies reside in the most massive haloes. The $f_{gas}$ - $M_{*}$ anti-correlation promotes the selection bias as a possible solution to the tension between the stacking results pointing towards gas retention in high-z QGs of moderate $M_{*}$ and the studies of individual targets that favour a fully depleted ISM in massive (log($M_{*}$/$M_{\\odot}$) high-z QGs. |"
      ],
      "text/plain": [
       "[arXiv:2303.12110] The Gas Mass Reservoir of Quiescent Galaxies at Cosmic Noon\n",
       "\tDavid Blánquez-Sesé, et al. -- incl., <mark>E. Schinnerer</mark>"
      ]
     },
     "metadata": {},
     "output_type": "display_data"
    },
    {
     "data": {
      "text/markdown": [
       "## Failed papers"
      ],
      "text/plain": [
       "<IPython.core.display.Markdown object>"
      ]
     },
     "metadata": {},
     "output_type": "display_data"
    },
    {
     "data": {
      "text/markdown": [
       "\n",
       "|||\n",
       "|---:|:---|\n",
       "| [![arXiv](https://img.shields.io/badge/arXiv-arXiv:2303.12598-b31b1b.svg)](https://arxiv.org/abs/arXiv:2303.12598) | **A LOFAR sample of luminous compact sources coincident with nearby dwarf  galaxies**  |\n",
       "|| D. Vohl, et al. -- incl., <mark>C. Zhang</mark> |\n",
       "|*Appeared on*| *2023-03-23*|\n",
       "|*Comments*| *Submitted. arXiv admin note: text overlap with arXiv:2303.11967*|\n",
       "|**Abstract**| The vast majority of extragalactic, compact continuum radio sources are associated with star formation or jets from (super)massive black holes and, as such, are more likely to be found in association with starburst galaxies or early type galaxies. Recently, two new populations of radio sources have been identified: (a) compact and persistent sources (PRS) associated with fast radio bursts (FRB) in dwarf galaxies and (b) compact sources in dwarf galaxies that could belong to the long-sought population of intermediate-mass black holes. Despite the interesting aspects of these newly found sources, the current sample size is small, limiting scrutiny of the underlying population. Here, we present a search for compact radio sources coincident with dwarf galaxies. We search the LOFAR Two-meter Sky Survey (LoTSS) -- the most sensitive low-frequency (144 MHz central frequency) large-area survey for optically thin synchrotron emission to date. Exploiting LoTSS' high spatial resolution (6 arcsec) and low astrometric uncertainty (about 0.2 arcsec), we match its compact sources to the compiled sample of dwarf galaxies in the Census of the Local Universe -- an H{\\alpha} survey with the Palomar Observatory's 48-inch Samuel Oschin Telescope. We identify 29 overluminous compact radio sources, evaluate the probability of chance alignment within the sample, investigate the potential nature of these sources, and evaluate their volumetric density. While optical line-ratio diagnostics on the nebular lines from the host galaxies prefer a star-formation origin (against an AGN origin), future high angular resolution radio data is necessary to ascertain the origin of the radio sources. We discuss planned strategies to differentiate them between candidate FRB hosts and intermediate-mass black holes. |\n",
       "|<p style=\"color:green\"> **ERROR** </p>| <p style=\"color:green\">affiliation error: mpia.affiliation_verifications: '69117' keyword not found.</p> |"
      ],
      "text/plain": [
       "<IPython.core.display.Markdown object>"
      ]
     },
     "metadata": {},
     "output_type": "display_data"
    },
    {
     "data": {
      "text/markdown": [
       "\n",
       "|||\n",
       "|---:|:---|\n",
       "| [![arXiv](https://img.shields.io/badge/arXiv-arXiv:2303.12104-b31b1b.svg)](https://arxiv.org/abs/arXiv:2303.12104) | **Buzzard to Cardinal: Improved Mock Catalogs for Large Galaxy Surveys**  |\n",
       "|| Chun-Hao To, et al. -- incl., <mark>Joseph DeRose</mark>, <mark>Elisabeth Krause</mark> |\n",
       "|*Appeared on*| *2023-03-23*|\n",
       "|*Comments*| *37 pages; 20 figures. See figure 1 for summary and appendix K for a list of main differences between Cardinal and Buzzard. To be submitted to APJ; Comments welcome. Highlights can be found at this https URL*|\n",
       "|**Abstract**| We present the Cardinal mock galaxy catalogs, a new version of the Buzzard simulation that has been updated to support ongoing and future cosmological surveys, including DES, DESI, and LSST. These catalogs are based on a one-quarter sky simulation populated with galaxies out to a redshift of $z=2.35$ to a depth of $m_{\\rm{r}}=27$. Compared to the Buzzard mocks, the Cardinal mocks include an updated subhalo abundance matching (SHAM) model that considers orphan galaxies and includes mass-dependent scatter between galaxy luminosity and halo properties. This model can simultaneously fit galaxy clustering and group--galaxy cross-correlations measured in three different luminosity threshold samples. The Cardinal mocks also feature a new color assignment model that can simultaneously fit color-dependent galaxy clustering in three different luminosity bins. We have developed an algorithm that uses photometric data to improve the color assignment model further and have also developed a novel method to improve small-scale lensing below the ray-tracing resolution. These improvements enable the Cardinal mocks to accurately reproduce the abundance of galaxy clusters and the properties of lens galaxies in the Dark Energy Survey data. As such, these simulations will be a valuable tool for future cosmological analyses based on large sky surveys. The cardinal mock will be released upon publication at https://chunhaoto.com/cardinalsim. |\n",
       "|<p style=\"color:green\"> **ERROR** </p>| <p style=\"color:green\">affiliation error: mpia.affiliation_verifications: 'Heidelberg' keyword not found.</p> |"
      ],
      "text/plain": [
       "<IPython.core.display.Markdown object>"
      ]
     },
     "metadata": {},
     "output_type": "display_data"
    },
    {
     "data": {
      "text/markdown": [
       "\n",
       "|||\n",
       "|---:|:---|\n",
       "| [![arXiv](https://img.shields.io/badge/arXiv-arXiv:2303.12108-b31b1b.svg)](https://arxiv.org/abs/arXiv:2303.12108) | **Diverse Molecular Structures Across The Whole Star-Forming Disk of M83:  High fidelity Imaging at 40pc Resolution**  |\n",
       "|| Jin Koda, et al. -- incl., <mark>Jennifer Donovan Meyer</mark>, <mark>Amanda M Lee</mark> |\n",
       "|*Appeared on*| *2023-03-23*|\n",
       "|*Comments*| *Accepted for publication in ApJ*|\n",
       "|**Abstract**| We present high-fidelity CO(1-0) imaging of molecular gas across the full star-forming disk of M83, using ALMA's 12m, 7m, and TP arrays and the MIRIAD package. The data have a mass sensitivity and resolution of 10^4Msun and 40 pc. The full disk coverage shows that the characteristics of molecular gas change radially from the center to outer disk. The molecular gas distribution shows coherent large-scale structures in the inner part, including the central concentration, bar offset ridges, and prominent molecular spiral arms. In the outer disk, the spiral arms appear less spatially coherent, and even flocculent. Massive filamentary gas concentrations are abundant even in the interarm regions. Building up these structures in the interarm regions would require a very long time (~>100Myr). Instead, they must have formed within stellar spiral arms and been released into the interarm regions. For such structures to survive through the dynamical processes, the lifetimes of these structures and their constituent molecules and molecular clouds must be long (~>100Myr). These interarm structures host little or no star formation traced by Halpha. The new map also shows extended CO emission, which likely represents an ensemble of unresolved molecular clouds. |\n",
       "|<p style=\"color:green\"> **ERROR** </p>| <p style=\"color:green\">affiliation error: mpia.affiliation_verifications: 'Heidelberg' keyword not found.</p> |"
      ],
      "text/plain": [
       "<IPython.core.display.Markdown object>"
      ]
     },
     "metadata": {},
     "output_type": "display_data"
    },
    {
     "data": {
      "text/markdown": [
       "\n",
       "|||\n",
       "|---:|:---|\n",
       "| [![arXiv](https://img.shields.io/badge/arXiv-arXiv:2303.12155-b31b1b.svg)](https://arxiv.org/abs/arXiv:2303.12155) | **WIMP cross-section limits from LOFAR observations of dwarf spheroidal  galaxies**  |\n",
       "|| L. Gajović, et al. -- incl., <mark>D. J. Schwarz</mark> |\n",
       "|*Appeared on*| *2023-03-23*|\n",
       "|*Comments*| *15 pages, 10 figures, to be published in Astronomy & Astrophysics*|\n",
       "|**Abstract**| Weakly interacting massive particles (WIMPs) can self-annihilate and thus provide us with the possibility for an indirect detection of Dark Matter (DM). Dwarf spheroidal (dSph) galaxies are excellent places to search for annihilation signals because they are rich in DM and background emission is low. If magnetic fields in dSph exist, the particles produced in DM annihilation emit synchrotron radiation. We use the non-detection of 150 MHz radio continuum emission from dSph galaxies with the LOw Frequency ARray (LOFAR) to derive constraints on the annihilation cross-section of WIMPs into electron-positron pairs. Our main underlying assumption is that the transport of the CRs can be described by the diffusion approximation which necessitates the existence of magnetic fields. We use observations of six dSph galaxies in the LOFAR Two-metre Sky Survey (LoTSS). The data are re-imaged and a radial profile is generated for each galaxy. We also use stacking to increase the sensitivity. In order to derive upper limits on the WIMP cross-section, we inject fake Gaussian sources into the data which are then detected with 2$\\sigma$ significance in the radial profile. These sources represent the lowest emission we would have been able to detect. We present limits from the observations of individual galaxies as well as from stacking. We explore the uncertainty due to the choice of diffusion and magnetic field parameters by constructing three different model scenarios: optimistic (OPT), intermediate (INT), and pessimistic (PES). Assuming monochromatic annihilation into electron-positron pairs, the limits from the INT scenario exclude thermal WIMPs below 20 GeV and the limits from the OPT scenario even exclude WIMPs below 70 GeV. The INT limits can compete with limits set by Fermi-LAT using $\\gamma$-ray observations of multiple dwarf galaxies and they are especially strong for low WIMP masses. |\n",
       "|<p style=\"color:green\"> **ERROR** </p>| <p style=\"color:green\">affiliation error: mpia.affiliation_verifications: 'Heidelberg' keyword not found.</p> |"
      ],
      "text/plain": [
       "<IPython.core.display.Markdown object>"
      ]
     },
     "metadata": {},
     "output_type": "display_data"
    },
    {
     "data": {
      "text/markdown": [
       "\n",
       "|||\n",
       "|---:|:---|\n",
       "| [![arXiv](https://img.shields.io/badge/arXiv-arXiv:2303.12192-b31b1b.svg)](https://arxiv.org/abs/arXiv:2303.12192) | **Observational Evidence of S-Web Source of the Slow Solar Wind**  |\n",
       "|| D. Baker, et al. -- incl., <mark>S. Matthews</mark>, <mark>P. Smith</mark> |\n",
       "|*Appeared on*| *2023-03-23*|\n",
       "|*Comments*| *Accepted ApJ*|\n",
       "|**Abstract**| From 2022 March 18-21, active region (AR) 12967 was tracked simultaneously by Solar Orbiter (SO) at 0.35 au and Hinode/EIS at Earth. During this period, strong blue-shifted plasma upflows were observed along a thin, dark corridor of open field originating at the AR's leading polarity and continuing towards the southern extension of the northern polar coronal hole. A potential field source surface (PFSS) model shows large lateral expansion of the open magnetic field along the corridor. Squashing factor Q-maps of the large scale topology further confirm super-radial expansion in support of the S-Web theory for the slow wind. The thin corridor of upflows is identified as the source region of a slow solar wind stream characterised by approx. 300 km s-1 velocities, low proton temperatures of approx. 5 eV, extremely high density over 100 cm-3, and a short interval of moderate Alfvenicity accompanied by switchback events. When connectivity changes from the corridor to the eastern side of the AR, the in situ plasma parameters of the slow wind indicate a distinctly different source region. These observations provide strong evidence that the narrow open field corridors, forming part of the S-Web, produce extreme properties in their associated solar wind streams. |\n",
       "|<p style=\"color:green\"> **ERROR** </p>| <p style=\"color:green\">affiliation error: mpia.affiliation_verifications: 'Heidelberg' keyword not found.</p> |"
      ],
      "text/plain": [
       "<IPython.core.display.Markdown object>"
      ]
     },
     "metadata": {},
     "output_type": "display_data"
    },
    {
     "data": {
      "text/markdown": [
       "\n",
       "|||\n",
       "|---:|:---|\n",
       "| [![arXiv](https://img.shields.io/badge/arXiv-arXiv:2303.12207-b31b1b.svg)](https://arxiv.org/abs/arXiv:2303.12207) | **Hydrodynamical Evolution of Black-Hole Binaries Embedded in AGN Discs:  III. The Effects of Viscosity**  |\n",
       "|| <mark>Rixin Li</mark>, Dong Lai |\n",
       "|*Appeared on*| *2023-03-23*|\n",
       "|*Comments*| *10 pages, 6 figures, submitted to MNRAS. arXiv admin note: text overlap with arXiv:2207.01125*|\n",
       "|**Abstract**| Stellar-mass binary black holes (BBHs) embedded in active galactic nucleus (AGN) discs offer a distinct dynamical channel to produce black hole mergers detected in gravitational waves by LIGO/Virgo. To understand their orbital evolution through interactions with the disc gas, we perform a suite of 2D high-resolution, local shearing box, viscous hydrodynamical simulations of equal-mass binaries. We find that viscosity not only smooths the flow structure around prograde circular binaries, but also greatly raises their accretion rates. The overwhelming positive torque associated with the accretion dominates over the gravitational torque, and drives binary orbital expansion. However, retrograde binaries still experience rapid orbital decay, and prograde eccentric binaries still experience eccentricity damping, despite undergoing outspiral. Our numerical experiments further show that prograde binaries may experience inspiral if the physical sizes of the accretors are sufficiently small, such that the net binary accretion is reduced. Such a dependence of the binary accretion rate on the accretor size can be weaken through boosted accretion either due to a high viscosity or a more isothermal-like equation of state (EOS). Our results widen the explored parameter space for the hydrodynamics of embedded BBHs and demonstrate that their orbital evolution in AGN discs is a complex, multifaceted problem. |\n",
       "|<p style=\"color:green\"> **ERROR** </p>| <p style=\"color:green\">affiliation error: mpia.affiliation_verifications: 'Heidelberg' keyword not found.</p> |"
      ],
      "text/plain": [
       "<IPython.core.display.Markdown object>"
      ]
     },
     "metadata": {},
     "output_type": "display_data"
    },
    {
     "data": {
      "text/markdown": [
       "\n",
       "|||\n",
       "|---:|:---|\n",
       "| [![arXiv](https://img.shields.io/badge/arXiv-arXiv:2303.12221-b31b1b.svg)](https://arxiv.org/abs/arXiv:2303.12221) | **Detection of Interstellar $E$-1-cyano-1,3-butadiene in GOTHAM  Observations of TMC-1**  |\n",
       "|| Ilsa R. Cooke, et al. -- incl., <mark>Kin Long Kelvin Lee</mark> |\n",
       "|*Appeared on*| *2023-03-23*|\n",
       "|*Comments*| **|\n",
       "|**Abstract**| We report the detection of the lowest energy conformer of $E$-1-cyano-1,3-butadiene ($E$-1-C$_4$H$_5$CN), a linear isomer of pyridine, using the fourth data reduction of the GOTHAM deep spectral survey toward TMC-1 with the 100 m Green Bank Telescope. We performed velocity stacking and matched filter analyses using Markov chain Monte Carlo simulations and find evidence for the presence of this molecule at the 5.1$\\sigma$ level. We derive a total column density of $3.8^{+1.0}_{-0.9}\\times 10^{10}$ cm$^{-2}$, which is predominantly found toward two of the four velocity components we observe toward TMC-1. We use this molecule as a proxy for constraining the gas-phase abundance of the apolar hydrocarbon 1,3-butadiene. Based on the three-phase astrochemical modeling code NAUTILUS and an expanded chemical network, our model underestimates the abundance of cyano-1,3-butadiene by a factor of 19, with a peak column density of $2.34 \\times 10^{10}\\ \\mathrm{cm}^{-2}$ for 1,3-butadiene. Compared to the modeling results obtained in previous GOTHAM analyses, the abundance of 1,3-butadiene is increased by about two orders of magnitude. Despite this increase, the modeled abundances of aromatic species do not appear to change and remain underestimated by 1--4 orders of magnitude. Meanwhile, the abundances of the five-membered ring molecules increase proportionally with 1,3-butadiene by two orders of magnitudes. We discuss implications for bottom-up formation routes to aromatic and polycyclic aromatic molecules. |\n",
       "|<p style=\"color:green\"> **ERROR** </p>| <p style=\"color:green\">affiliation error: mpia.affiliation_verifications: 'Heidelberg' keyword not found.</p> |"
      ],
      "text/plain": [
       "<IPython.core.display.Markdown object>"
      ]
     },
     "metadata": {},
     "output_type": "display_data"
    },
    {
     "data": {
      "text/markdown": [
       "\n",
       "|||\n",
       "|---:|:---|\n",
       "| [![arXiv](https://img.shields.io/badge/arXiv-arXiv:2303.12353-b31b1b.svg)](https://arxiv.org/abs/arXiv:2303.12353) | **The year-scale X-ray variations in the core of M87**  |\n",
       "|| Yu-Lin Cheng, et al. -- incl., <mark>Xiang-Hua Li</mark>, <mark>Cheng-Kui Li</mark> |\n",
       "|*Appeared on*| *2023-03-23*|\n",
       "|*Comments*| **|\n",
       "|**Abstract**| The analysis of light variation of M87 can help us understand the disc evolution. In the past decade, M87 has experienced several short-term light variabilities related to flares. We also find there are year-scale X-ray variations in the core of M87. Their light variability properties are similar to clumpy-ADAF. By re-analyzing 56 $\\it Chandra$ observations from 2007 to 2019, we distinguish the `non-flaring state' from `flaring state' in the light variability. After removing flaring state data, we identify 4 gas clumps in the nucleus and all of them can be well fitted by the clumpy-ADAF model. The average mass accretion rate is $\\sim 0.16 \\rm M_{\\odot} yr^{-1}$. We analyze the photon index($\\Gamma$)-flux(2-10keV) correlation between the non-flaring state and flaring state. For the non-flaring states, the flux is inversely proportional to the photon index. For the flaring states, we find no obvious correlation between the two parameters. In addition, we find that the flare always occurs at a high mass accretion rate, and after the luminosity of the flare reaches the peak, it will be accompanied by a sudden decrease in luminosity. Our results can be explained as that the energy released by magnetic reconnection destroys the structure of the accretion disc, thus the luminosity decreases rapidly and returns to normal levels thereafter. |\n",
       "|<p style=\"color:green\"> **ERROR** </p>| <p style=\"color:green\">affiliation error: mpia.affiliation_verifications: 'Heidelberg' keyword not found.</p> |"
      ],
      "text/plain": [
       "<IPython.core.display.Markdown object>"
      ]
     },
     "metadata": {},
     "output_type": "display_data"
    },
    {
     "data": {
      "text/markdown": [
       "\n",
       "|||\n",
       "|---:|:---|\n",
       "| [![arXiv](https://img.shields.io/badge/arXiv-arXiv:2303.12409-b31b1b.svg)](https://arxiv.org/abs/arXiv:2303.12409) | **The Masses of a Sample of Radial-Velocity Exoplanets with Astrometric  Measurements**  |\n",
       "|| Guang-Yao Xiao, et al. -- incl., <mark>Gang Zhao</mark>, <mark>Fei Zhao</mark>, <mark>Meng Zhai</mark> |\n",
       "|*Appeared on*| *2023-03-23*|\n",
       "|*Comments*| *37 pages, 14 figures, accepted by Research in Astronomy and Astrophysics*|\n",
       "|**Abstract**| Being one of the most fundamental physical parameter of astronomical objects, mass plays a vital role in the study of exoplanets, including their temperature structure, chemical composition, formation, and evolution. However, nearly a quarter of the known confirmed exoplanets lack measurements of their masses. This is particularly severe for those discovered via the radial-velocity (RV) technique, which alone could only yield the minimum mass of planets. In this study, we use published RV data combined with astrometric data from a cross-calibrated Hipparcos-Gaia Catalog of Accelerations (HGCA) to jointly constrain the masses of 115 RV-detected substellar companions, by conducting full orbital fits using the public tool \\texttt{orvara}. Among them, 9 exoplanets with $M_{\\rm p}\\,{\\rm sin}\\,i<13.5\\ M_{\\rm Jup}$ are reclassified to the brown dwarf (BD) regime, and 16 BD candidates ($13.5\\leqslant M_{\\rm p}\\,{\\rm sin}\\,i<80\\,M_{\\rm Jup}$) turn out to be low-mass M dwarfs. We point out the presence of a transition in the BD regime as seen in the distributions of host star metallicity and orbital eccentricity with respect to planet masses. We confirm the previous findings that companions with masses below $42.5\\ M_{\\rm Jup}$ might primarily form in the protoplanetary disc through core accretion or disc gravitational instability, while those with masses above $42.5\\ M_{\\rm Jup}$ formed through the gravitational instability of molecular cloud like stars. Selection effects and detection biases which may affect our analysis to some extent, are discussed. |\n",
       "|<p style=\"color:green\"> **ERROR** </p>| <p style=\"color:green\">affiliation error: mpia.affiliation_verifications: 'Heidelberg' keyword not found.</p> |"
      ],
      "text/plain": [
       "<IPython.core.display.Markdown object>"
      ]
     },
     "metadata": {},
     "output_type": "display_data"
    },
    {
     "data": {
      "text/markdown": [
       "\n",
       "|||\n",
       "|---:|:---|\n",
       "| [![arXiv](https://img.shields.io/badge/arXiv-arXiv:2303.12437-b31b1b.svg)](https://arxiv.org/abs/arXiv:2303.12437) | **Vela pulsar wind nebula x-rays are polarized to near the synchrotron  limit**  |\n",
       "|| <mark>Fei Xie</mark>, et al. |\n",
       "|*Appeared on*| *2023-03-23*|\n",
       "|*Comments*| *27 pages, 8 figures, 4 tables, author's version of the paper accepted for publication in Nature*|\n",
       "|**Abstract**| Pulsar wind nebulae are formed when outflows of relativistic electrons and positrons hit the surrounding supernova remnant or interstellar medium at a shock front. The Vela pulsar wind nebula is powered by a young pulsar (B0833-45, age 11 kyr) and located inside an extended structure called Vela X, itself inside the supernova remnant. Previous X-ray observations revealed two prominent arcs, bisected by a jet and counter jet. Radio maps have shown high linear polarization of 60 per cent in the outer regions of the nebula. Here we report X-ray observation of the inner part of the nebula, where polarization can exceed 60 per cent at the leading edge, which approaches the theoretical limit of what can be produced by synchrotron emission. We infer that, in contrast with the case of the supernova remnant, the electrons in the pulsar wind nebula are accelerated with little or no turbulence in a highly uniform magnetic field. |\n",
       "|<p style=\"color:green\"> **ERROR** </p>| <p style=\"color:green\">affiliation error: mpia.affiliation_verifications: 'Heidelberg' keyword not found.</p> |"
      ],
      "text/plain": [
       "<IPython.core.display.Markdown object>"
      ]
     },
     "metadata": {},
     "output_type": "display_data"
    },
    {
     "data": {
      "text/markdown": [
       "\n",
       "|||\n",
       "|---:|:---|\n",
       "| [![arXiv](https://img.shields.io/badge/arXiv-arXiv:2303.12467-b31b1b.svg)](https://arxiv.org/abs/arXiv:2303.12467) | **EMPRESS. XII. Statistics on the Dynamics and Gas Mass Fraction of  Extremely-Metal Poor Galaxies**  |\n",
       "|| Yi Xu, et al. -- incl., <mark>Chien-Hsiu Lee</mark> |\n",
       "|*Appeared on*| *2023-03-23*|\n",
       "|*Comments*| *18 pages, 9 figures, submitted to ApJ*|\n",
       "|**Abstract**| We present demography of the dynamics and gas-mass fraction of 33 extremely metal-poor galaxies (EMPGs) with metallicities of $0.015-0.195~Z_\\odot$ and low stellar masses of $10^4-10^8~M_\\odot$ in the local universe. We conduct deep optical integral-field spectroscopy (IFS) for the low-mass EMPGs with the medium high resolution ($R=7500$) grism of the 8m-Subaru FOCAS IFU instrument by the EMPRESS 3D survey, and investigate H$\\alpha$ emission of the EMPGs. Exploiting the resolution high enough for the low-mass galaxies, we derive gas dynamics with the H$\\alpha$ lines by the fitting of 3-dimensional disk models. We obtain an average maximum rotation velocity ($v_\\mathrm{rot}$) of $15\\pm3~\\mathrm{km~s^{-1}}$ and an average intrinsic velocity dispersion ($\\sigma_0$) of $27\\pm10~\\mathrm{km~s^{-1}}$ for 15 spatially resolved EMPGs out of the 33 EMPGs, and find that all of the 15 EMPGs have $v_\\mathrm{rot}/\\sigma_0<1$ suggesting dispersion dominated systems. There is a clear decreasing trend of $v_\\mathrm{rot}/\\sigma_0$ with the decreasing stellar mass and metallicity. We derive the gas mass fraction ($f_\\mathrm{gas}$) for all of the 33 EMPGs, and find no clear dependence on stellar mass and metallicity. These $v_\\mathrm{rot}/\\sigma_0$ and $f_\\mathrm{gas}$ trends should be compared with young high-$z$ galaxies observed by the forthcoming JWST IFS programs to understand the physical origins of the EMPGs in the local universe. |\n",
       "|<p style=\"color:green\"> **ERROR** </p>| <p style=\"color:green\">affiliation error: mpia.affiliation_verifications: 'Heidelberg' keyword not found.</p> |"
      ],
      "text/plain": [
       "<IPython.core.display.Markdown object>"
      ]
     },
     "metadata": {},
     "output_type": "display_data"
    },
    {
     "data": {
      "text/markdown": [
       "\n",
       "|||\n",
       "|---:|:---|\n",
       "| [![arXiv](https://img.shields.io/badge/arXiv-arXiv:2303.12539-b31b1b.svg)](https://arxiv.org/abs/arXiv:2303.12539) | **Enhanced Blackhole mergers in AGN discs due to Precession induced  resonances**  |\n",
       "|| Hareesh Gautham Bhaskar, <mark>Gongjie Li</mark>, Doug Lin |\n",
       "|*Appeared on*| *2023-03-23*|\n",
       "|*Comments*| *Submitted to ApJ*|\n",
       "|**Abstract**| Recent studies have shown that AGN discs can host sources of gravitational waves. Compact binaries can form and merge in AGN discs through their interactions with the gas and other compact objects in the disc. It is also possible for the binaries to shorten the merging timescale due to eccentricity excitation caused by perturbations from the supermassive blackhole (SMBH). In this paper we focus on effects due to precession-induced (eviction-like) resonances, where nodal and apsidal precession rates of the binary is commensurable with the mean motion of the binary around the SMBH. We focus on intermediate mass black hole (IMBH)-stellar mass black hole (SBH) binaries, and consider binary orbit inclined from the circum-IMBH disk which leads to the orbital $J_2$ precession. We show that if a binary is captured in these resonances and is migrating towards the companion, it can undergo large eccentricity and inclination variations. We derive analytical expressions for the location of fixed points, libration timescale and width for these resonances, and identified two resonances in the near coplanar regime (the evection and eviction resonances) as well as two resonances in the near polar regime that can lead to mergers. We also derive analytical expressions for the maximum eccentricity that a migrating binary can achieve for given initial conditions. Specifically, the maximum eccentricity can reach 0.9 when captured in these resonances before orbital decay due to gravitational wave emission dominates, and the capture is only possible for slow migration ($\\sim 10$ Myr) 2-3 order of magnitude longer than the resonance libration timescale. We also show that capture into multiple resonances is possible, and can further excite eccentricities. |\n",
       "|<p style=\"color:green\"> **ERROR** </p>| <p style=\"color:green\">affiliation error: mpia.affiliation_verifications: 'Heidelberg' keyword not found.</p> |"
      ],
      "text/plain": [
       "<IPython.core.display.Markdown object>"
      ]
     },
     "metadata": {},
     "output_type": "display_data"
    },
    {
     "data": {
      "text/markdown": [
       "\n",
       "|||\n",
       "|---:|:---|\n",
       "| [![arXiv](https://img.shields.io/badge/arXiv-arXiv:2303.12541-b31b1b.svg)](https://arxiv.org/abs/arXiv:2303.12541) | **Uncovering the geometry of the hot X-ray corona in the Seyfert galaxy  NGC4151 with IXPE**  |\n",
       "|| V. E. Gianolli, et al. -- incl., <mark>W. Zhang</mark> |\n",
       "|*Appeared on*| *2023-03-23*|\n",
       "|*Comments*| *9 pages,4 figures. Submitted to MNRAS*|\n",
       "|**Abstract**| We present an X-ray spectro-polarimetric analysis of the bright Seyfert galaxy NGC4151. The source has been observed with the Imaging X-ray Polarimetry Explorer (IXPE) for 700 ks, complemented with simultaneous XMM-Newton (50 ks) and NuSTAR (100 ks) pointings. A polarization degree ${\\Pi} = 4.9 {\\pm} 1.1 \\%$ and angle ${\\Psi}= 86{\\deg} {\\pm} 7{\\deg}$ east of north ($68\\%$ confidence level) are measured in the 2-8 keV energy range. The spectro-polarimetric analysis shows that the polarization could be entirely due to reflection. Given the low reflection flux in the IXPE band, this requires however a reflection with a very large ($> 38 \\%$) polarization degree. Assuming more reasonable values, a polarization degree of the hot corona ranging from ${\\sim}4$ to ${\\sim}8\\%$ is found. The observed polarization degree excludes a spherical lamppost geometry for the corona, suggesting instead a slab-like geometry, possibly a wedge, as determined via Monte Carlo simulations. This is further confirmed by the X-ray polarization angle, which coincides with the direction of the extended radio emission in this source, supposed to match the disc axis. NGC4151 is the first AGN with an X-ray polarization measure for the corona, illustrating the capabilities of X-ray polarimetry and IXPE in unveiling its geometry. |\n",
       "|<p style=\"color:green\"> **ERROR** </p>| <p style=\"color:green\">affiliation error: mpia.affiliation_verifications: 'Heidelberg' keyword not found.</p> |"
      ],
      "text/plain": [
       "<IPython.core.display.Markdown object>"
      ]
     },
     "metadata": {},
     "output_type": "display_data"
    },
    {
     "data": {
      "text/markdown": [
       "\n",
       "|||\n",
       "|---:|:---|\n",
       "| [![arXiv](https://img.shields.io/badge/arXiv-arXiv:2303.12542-b31b1b.svg)](https://arxiv.org/abs/arXiv:2303.12542) | **Discovery of the linear energy-dependence of the spectral lag of X-ray  bursts from SGR J1935+2154**  |\n",
       "|| Shuo Xiao, et al. -- incl., <mark>You-Li Tuo</mark>, <mark>Shuang-Nan Zhang</mark>, <mark>Yan-Qiu Zhang</mark>, <mark>He Gao</mark>, <mark>Cheng-Kui Li</mark>, <mark>Xiao-Bo Li</mark>, <mark>Xin-Qiao Li</mark>, <mark>Li-Ming Song</mark>, <mark>Fan Zhang</mark>, <mark>Wei Xie</mark>, <mark>Ti-Pei Li</mark> |\n",
       "|*Appeared on*| *2023-03-23*|\n",
       "|*Comments*| *accepted for publication in MNRAS*|\n",
       "|**Abstract**| Spectral lag of the low-energy photons with respect to the high-energy ones is a common astrophysical phenomenon (such as Gamma-ray bursts and the Crab pulsar) and may serve as a key probe to the underlying radiation mechanism. However, spectral lag in keV range of the magnetar bursts has not been systematically studied yet. In this work, we perform a detailed spectral lag analysis with the Li-CCF method for SGR J1935+2154 bursts observed by {\\it Insight}-HXMT, GECAM and Fermi/GBM from July 2014 to Jan 2022. We discover that the spectral lags of about 61\\% (non-zero significance >1$\\sigma$) bursts from SGR J1935+2154 are linearly dependent on the photon energy ($E$) with $t_{\\rm lag}(E)=\\alpha (E/{\\rm keV})+C$, which may be explained by a linear change of the temperature of the blackbody-emitting plasma with time. The distribution of the slope ($\\alpha$) approximately follows a Gaussian function with mean and standard deviation of 0.02 ms/keV (i.e. high-energy photons arrive earlier) and 0.02 ms/keV, respectively. We also find that the distribution can be well fitted with three Gaussians with mean values of $\\sim$ -0.009, 0.013 and 0.039 ms/keV, which may correspond to different origins of the bursts. These spectral lag features may have important implications on the magnetar bursts. |\n",
       "|<p style=\"color:green\"> **ERROR** </p>| <p style=\"color:green\">affiliation error: mpia.affiliation_verifications: 'Heidelberg' keyword not found.</p> |"
      ],
      "text/plain": [
       "<IPython.core.display.Markdown object>"
      ]
     },
     "metadata": {},
     "output_type": "display_data"
    },
    {
     "data": {
      "text/markdown": [
       "\n",
       "|||\n",
       "|---:|:---|\n",
       "| [![arXiv](https://img.shields.io/badge/arXiv-arXiv:2303.12577-b31b1b.svg)](https://arxiv.org/abs/arXiv:2303.12577) | **Detection of Dust in High-Velocity Cloud Complex C -- Enriched Gas  Accreting onto the Milky Way**  |\n",
       "|| Andrew J. Fox, et al. -- incl., <mark>Philipp Richter</mark> |\n",
       "|*Appeared on*| *2023-03-23*|\n",
       "|*Comments*| *8 pages, 3 figures, accepted for publication in ApJ Letters*|\n",
       "|**Abstract**| We present the first detection of dust depletion in Complex C, a massive, infalling, low-metallicity high-velocity cloud in the northern Galactic hemisphere that traces the ongoing accretion of gas onto the Milky Way. We analyze a very high signal-to-noise HST/COS spectrum of AGN Mrk 817 formed by coadding 165 individual exposures taken under the AGN STORM 2 program, allowing us to determine dust-depletion patterns in Complex C at unprecedented precision. By fitting Voigt components to the O I, S II, N I, Si II, Fe II, and Al II absorption and applying ionization corrections from customized Cloudy photoionization models, we find sub-solar elemental abundance ratios of [Fe/S]=-0.42+/-0.08, [Si/S]=-0.29+/-0.05, and [Al/S]=-0.53+/-0.08. These ratios indicate the depletion of Fe, Si, and Al into dust grains, since S is mostly undepleted. The detection of dust provides an important constraint on the origin of Complex C, as dust grains indicate the gas has been processed through galaxies, rather than being purely extragalactic. We also derive a low metallicity of Complex C of [S/H]=-0.51+/-0.16 (31% solar), confirming earlier results from this sightline. We discuss origin models that could explain the presence of dust in Complex C, including Galactic fountain models, tidal stripping from the Magellanic Clouds or other satellite galaxies, and precipitation of coronal gas onto dust-bearing ``seed\" clouds. |\n",
       "|<p style=\"color:green\"> **ERROR** </p>| <p style=\"color:green\">affiliation error: mpia.affiliation_verifications: 'Heidelberg' keyword not found.</p> |"
      ],
      "text/plain": [
       "<IPython.core.display.Markdown object>"
      ]
     },
     "metadata": {},
     "output_type": "display_data"
    },
    {
     "data": {
      "text/markdown": [
       "\n",
       "|||\n",
       "|---:|:---|\n",
       "| [![arXiv](https://img.shields.io/badge/arXiv-arXiv:2303.12579-b31b1b.svg)](https://arxiv.org/abs/arXiv:2303.12579) | **Mixing of materials in magnetised core-collapse supernova remnants**  |\n",
       "|| <mark>Meyer D. M.-A.</mark>, Pohl M., Petrov M., Egberts K. |\n",
       "|*Appeared on*| *2023-03-23*|\n",
       "|*Comments*| *Accepted at MNRAS*|\n",
       "|**Abstract**| Core-collapse supernova remnants are structures of the interstellar medium (ISM) left behind the explosive death of most massive stars (smaller or equal to 40 Mo). Since they result in the expansion of the supernova shock wave into the gaseous environment shaped by the star wind history, their morphology constitutes an insight into the past evolution of their progenitor star. Particularly, fast-moving massive stars can produce asymmetric core-collapse supernova remnants. We investigate the mixing of materials in core-collapse supernova remnants generated by a moving massive 35 Mo star, in a magnetised ISM. Stellar rotation and the wind magnetic field are time-dependently included into the models which follow the entire evolution of the stellar surroundings from the zero age main sequence to 80 kyr after the supernova explosion. It is found that very little main sequence material is present in remnants from moving stars, that the Wolf-Rayet wind mixes very efficiently within the 10 kyr after the explosion, while the red supergiant material is still unmixed by 30 per cent within 50 kyr after the supernova. Our results indicate that the faster the stellar motion, the more complex the internal organisation of the supernova remnant and the more effective the mixing of ejecta therein. In contrast, the mixing of stellar wind material is only weakly affected by progenitor motion, if at all. |\n",
       "|<p style=\"color:green\"> **ERROR** </p>| <p style=\"color:green\">affiliation error: mpia.affiliation_verifications: 'Heidelberg' keyword not found.</p> |"
      ],
      "text/plain": [
       "<IPython.core.display.Markdown object>"
      ]
     },
     "metadata": {},
     "output_type": "display_data"
    },
    {
     "data": {
      "text/markdown": [
       "\n",
       "|||\n",
       "|---:|:---|\n",
       "| [![arXiv](https://img.shields.io/badge/arXiv-arXiv:2303.12163-b31b1b.svg)](https://arxiv.org/abs/arXiv:2303.12163) | **New constraints on the presence of debris disks around G 196-3 B and VHS  J125601.92-125723.9 b**  |\n",
       "|| <mark>O. V. Zakhozhay</mark>, et al. -- incl., <mark>D. A. Semenov</mark>, <mark>M. Perez-Torres</mark> |\n",
       "|*Appeared on*| *2023-03-23*|\n",
       "|*Comments*| *Accepted fro publication in A&A*|\n",
       "|**Abstract**| We obtained deep images of G 196-3 B and VHS J1256-1257 b with the NOrthern Extended Millimeter Array (NOEMA) at 1.3 mm. These data were combined with recently published Atacama Large Millimeter Array (ALMA) and Very Large Array (VLA) data of VHS J1256-1257 b at 0.87 mm and 0.9 cm, respectively. Neither G 196-3 B nor VHS J1256-1257 b were detected in the NOEMA, ALMA and VLA data. At 1.3 mm, we imposed flux upper limits of 0.108 mJy (G 196-3 B) and 0.153 mJy (VHS J1256-1257 b) with a 3-sigma confidence. Using the flux upper limits at the millimeter and radio wavelength regimes, we derived maximum values of 0.016 M$_{\\rm Earth}$ and 0.004 M$_{\\rm Earth}$ for the mass of any cold dust that might be surrounding G 196-3 B and VHS J1256-1257 b, respectively. We put our results in the context of other deep millimeter observations of free-floating and companion objects with substellar masses smaller than 20 M$_{\\rm Jupiter}$ and ages between 1 and a few hundred million years. Only two very young objects are detected out of a few tens concluding, as other groups did before, that the disks around these very low-mass objects must have small masses and possibly reduced sizes. If debris disks around substellar objects scale down in a similar manner as protoplanetary disks do, millimeter observations of moderately young brown dwarfs and planets must be at least two orders of magnitude deeper for being able to detect and characterize their surrounding debris disks. |\n",
       "|<p style=\"color:red\"> **ERROR** </p>| <p style=\"color:red\">latex error [Errno 2] No such file or directory: 'gs'</p> |"
      ],
      "text/plain": [
       "<IPython.core.display.Markdown object>"
      ]
     },
     "metadata": {},
     "output_type": "display_data"
    },
    {
     "data": {
      "text/markdown": [
       "\n",
       "|||\n",
       "|---:|:---|\n",
       "| [![arXiv](https://img.shields.io/badge/arXiv-arXiv:2303.12166-b31b1b.svg)](https://arxiv.org/abs/arXiv:2303.12166) | **N-body simulation of binary star mass transfer using NVDIA GPUs**  |\n",
       "|| Shaukat Goderya, et al. -- incl., <mark>Edward Smith</mark> |\n",
       "|*Appeared on*| *2023-03-23*|\n",
       "|*Comments*| **|\n",
       "|**Abstract**| Binary star systems are of particular interest to astronomers because they can be used as astrophysical laboratories to study the properties and processes of stars. Between 70% to 90% of the stars in our galaxy are part of a binary star system. Among the many types of binary systems observed, the dynamics of semi-detached and contact systems are the most interesting because they exhibit mass transfer, which changes the composition and life cycle of both stars. The time scales of the mass transfer process are extremely large which makes the process impossible to capture through physical observation. Computer simulations have proved invaluable in refining our understanding of the mass transfer processes. Here we introduce an intuitive, computationally efficient, gravity centered model that simulates the filling of the Roche lobe of an expanding star and its transfer of mass through the first Lagrangian point. |\n",
       "|<p style=\"color:red\"> **ERROR** </p>| <p style=\"color:red\">latex error not a gzip file</p> |"
      ],
      "text/plain": [
       "<IPython.core.display.Markdown object>"
      ]
     },
     "metadata": {},
     "output_type": "display_data"
    }
   ],
   "source": [
    "import datetime\n",
    "today = str(datetime.date.today())\n",
    "logfile = f\"_build/html/logs/log-{today}.md\"\n",
    "\n",
    "\n",
    "with open(logfile, 'w') as logs:\n",
    "    # Success\n",
    "    logs.write(f'# Arxiv on Deck 2: Logs - {today}\\n\\n')\n",
    "    logs.write(\"\"\"* Arxiv had {0:,d} new papers\\n\"\"\".format(len(new_papers)))\n",
    "    logs.write(\"\"\"    * {0:,d} with possible author matches\\n\\n\"\"\".format(len(candidates)))\n",
    "    logs.write(\"## Sucessful papers\\n\\n\")\n",
    "    display(Markdown(\"## Successful papers\"))\n",
    "    success = [k[0] for k in documents]\n",
    "    for candid in candidates:\n",
    "        if candid['identifier'].split(':')[-1] in success:\n",
    "            display(candid)\n",
    "            logs.write(candid.generate_markdown_text() + '\\n\\n')\n",
    "\n",
    "    ## failed\n",
    "    logs.write(\"## Failed papers\\n\\n\")\n",
    "    display(Markdown(\"## Failed papers\"))\n",
    "    failed = sorted(failed, key=lambda x: x[1])\n",
    "    current_reason = \"\"\n",
    "    for paper, reason in failed:\n",
    "        if 'affiliation' in reason:\n",
    "            color = 'green'\n",
    "        else:\n",
    "            color = 'red'\n",
    "        data = Markdown(\n",
    "                paper.generate_markdown_text() + \n",
    "                f'\\n|<p style=\"color:{color:s}\"> **ERROR** </p>| <p style=\"color:{color:s}\">{reason:s}</p> |'\n",
    "               )\n",
    "        if reason != current_reason:\n",
    "            logs.write(f'### {reason:s} \\n\\n')\n",
    "            current_reason = reason\n",
    "        logs.write(data.data + '\\n\\n')\n",
    "        \n",
    "        # only display here the important errors (all in logs)\n",
    "        # if color in ('red',):\n",
    "        display(data)"
   ]
  },
  {
   "cell_type": "markdown",
   "id": "472d20ee",
   "metadata": {
    "papermill": {
     "duration": 0.00927,
     "end_time": "2023-03-23T04:07:28.096274",
     "exception": false,
     "start_time": "2023-03-23T04:07:28.087004",
     "status": "completed"
    },
    "tags": []
   },
   "source": [
    "## Export documents\n",
    "\n",
    "We now write the .md files and export relevant images"
   ]
  },
  {
   "cell_type": "code",
   "execution_count": 7,
   "id": "d426aed9",
   "metadata": {
    "execution": {
     "iopub.execute_input": "2023-03-23T04:07:28.116787Z",
     "iopub.status.busy": "2023-03-23T04:07:28.116054Z",
     "iopub.status.idle": "2023-03-23T04:07:28.123603Z",
     "shell.execute_reply": "2023-03-23T04:07:28.123003Z"
    },
    "papermill": {
     "duration": 0.019431,
     "end_time": "2023-03-23T04:07:28.125056",
     "exception": false,
     "start_time": "2023-03-23T04:07:28.105625",
     "status": "completed"
    },
    "tags": []
   },
   "outputs": [],
   "source": [
    "def export_markdown_summary(md: str, md_fname:str, directory: str):\n",
    "    \"\"\"Export MD document and associated relevant images\"\"\"\n",
    "    import os\n",
    "    import shutil\n",
    "    import re\n",
    "\n",
    "    if (os.path.exists(directory) and not os.path.isdir(directory)):\n",
    "        raise RuntimeError(f\"a non-directory file exists with name {directory:s}\")\n",
    "\n",
    "    if (not os.path.exists(directory)):\n",
    "        print(f\"creating directory {directory:s}\")\n",
    "        os.mkdir(directory)\n",
    "\n",
    "    fig_fnames = (re.compile(r'\\[Fig.*\\]\\((.*)\\)').findall(md) + \n",
    "                  re.compile(r'\\<img src=\"([^>\\s]*)\"[^>]*/>').findall(md))\n",
    "    for fname in fig_fnames:\n",
    "        if 'http' in fname:\n",
    "            # No need to copy online figures\n",
    "            continue\n",
    "        destdir = os.path.join(directory, os.path.dirname(fname))\n",
    "        destfname = os.path.join(destdir, os.path.basename(fname))\n",
    "        try:\n",
    "            os.makedirs(destdir)\n",
    "        except FileExistsError:\n",
    "            pass\n",
    "        shutil.copy(fname, destfname)\n",
    "    with open(os.path.join(directory, md_fname), 'w') as fout:\n",
    "        fout.write(md)\n",
    "    print(\"exported in \", os.path.join(directory, md_fname))\n",
    "    [print(\"    + \" + os.path.join(directory,fk)) for fk in fig_fnames]"
   ]
  },
  {
   "cell_type": "code",
   "execution_count": 8,
   "id": "014d04a4",
   "metadata": {
    "execution": {
     "iopub.execute_input": "2023-03-23T04:07:28.145569Z",
     "iopub.status.busy": "2023-03-23T04:07:28.145024Z",
     "iopub.status.idle": "2023-03-23T04:07:28.154135Z",
     "shell.execute_reply": "2023-03-23T04:07:28.153494Z"
    },
    "papermill": {
     "duration": 0.02103,
     "end_time": "2023-03-23T04:07:28.155619",
     "exception": false,
     "start_time": "2023-03-23T04:07:28.134589",
     "status": "completed"
    },
    "tags": []
   },
   "outputs": [
    {
     "name": "stdout",
     "output_type": "stream",
     "text": [
      "exported in  _build/html/2303.12101.md\n",
      "exported in  _build/html/2303.12110.md\n",
      "    + _build/html/tmp_2303.12110/./Figures/f_gas_final.png\n",
      "    + _build/html/tmp_2303.12110/./Figures/fgas_mstar_15.0.png\n",
      "    + _build/html/tmp_2303.12110/./Figures/Galaxy_selection_2.png\n",
      "    + _build/html/tmp_2303.12110/./Figures/UVJ_diagram.png\n"
     ]
    }
   ],
   "source": [
    "for paper_id, md in documents:\n",
    "    export_markdown_summary(md, f\"{paper_id:s}.md\", '_build/html/')"
   ]
  },
  {
   "cell_type": "markdown",
   "id": "f087a0a7",
   "metadata": {
    "papermill": {
     "duration": 0.009214,
     "end_time": "2023-03-23T04:07:28.174295",
     "exception": false,
     "start_time": "2023-03-23T04:07:28.165081",
     "status": "completed"
    },
    "tags": []
   },
   "source": [
    "## Display the papers\n",
    "\n",
    "Not necessary but allows for a quick check."
   ]
  },
  {
   "cell_type": "code",
   "execution_count": 9,
   "id": "fd25f625",
   "metadata": {
    "execution": {
     "iopub.execute_input": "2023-03-23T04:07:28.195329Z",
     "iopub.status.busy": "2023-03-23T04:07:28.194052Z",
     "iopub.status.idle": "2023-03-23T04:07:28.205822Z",
     "shell.execute_reply": "2023-03-23T04:07:28.204713Z"
    },
    "papermill": {
     "duration": 0.023885,
     "end_time": "2023-03-23T04:07:28.207530",
     "exception": false,
     "start_time": "2023-03-23T04:07:28.183645",
     "status": "completed"
    },
    "scrolled": false,
    "tags": []
   },
   "outputs": [
    {
     "data": {
      "text/markdown": [
       "<div class=\"macros\" style=\"visibility:hidden;\">\n",
       "$\\newcommand{\\ensuremath}{}$\n",
       "$\\newcommand{\\xspace}{}$\n",
       "$\\newcommand{\\object}[1]{\\texttt{#1}}$\n",
       "$\\newcommand{\\farcs}{{.}''}$\n",
       "$\\newcommand{\\farcm}{{.}'}$\n",
       "$\\newcommand{\\arcsec}{''}$\n",
       "$\\newcommand{\\arcmin}{'}$\n",
       "$\\newcommand{\\ion}[2]{#1#2}$\n",
       "$\\newcommand{\\textsc}[1]{\\textrm{#1}}$\n",
       "$\\newcommand{\\hl}[1]{\\textrm{#1}}$\n",
       "$\\newcommand{\\footnote}[1]{}$\n",
       "$\\newcommand{\\uncertainty}[3]{#1^{+#2}_{-#3}}$\n",
       "$\\newcommand{\\StoN}{\\mathrm{S}/\\mathrm{N}}$\n",
       "$\\newcommand$\n",
       "$\\newcommand$\n",
       "$\\newcommand$\n",
       "$\\newcommand$\n",
       "$\\newcommand$\n",
       "$\\newcommand$\n",
       "$\\newcommand$\n",
       "$\\newcommand$\n",
       "$\\newcommand$\n",
       "$\\newcommand$\n",
       "$\\newcommand$\n",
       "$\\newcommand$\n",
       "$\\newcommand$\n",
       "$\\newcommand$\n",
       "$\\newcommand$\n",
       "$\\newcommand$\n",
       "$\\newcommand$\n",
       "$\\newcommand$\n",
       "$\\newcommand$\n",
       "$\\newcommand$\n",
       "$\\newcommand{\\change}[1]{{\\color{orange}#1}}$\n",
       "$\\newcommand{\\thebibliography}{\\DeclareRobustCommand{\\VAN}[3]{##3}\\VANthebibliography}$</div>\n",
       "\n",
       "<div class=\"macros\" style=\"visibility:hidden;\">\n",
       "$\\newcommand{\\ensuremath}{}$\n",
       "$\\newcommand{\\xspace}{}$\n",
       "$\\newcommand{\\object}[1]{\\texttt{#1}}$\n",
       "$\\newcommand{\\farcs}{{.}''}$\n",
       "$\\newcommand{\\farcm}{{.}'}$\n",
       "$\\newcommand{\\arcsec}{''}$\n",
       "$\\newcommand{\\arcmin}{'}$\n",
       "$\\newcommand{\\ion}[2]{#1#2}$\n",
       "$\\newcommand{\\textsc}[1]{\\textrm{#1}}$\n",
       "$\\newcommand{\\hl}[1]{\\textrm{#1}}$\n",
       "$\\newcommand{\\footnote}[1]{}$\n",
       "$\\newcommand{\\uncertainty}[3]{#1^{+#2}_{-#3}}$\n",
       "$\\newcommand{\\StoN}{\\mathrm{S}/\\mathrm{N}}$\n",
       "$\\newcommand$\n",
       "$\\newcommand$\n",
       "$\\newcommand$\n",
       "$\\newcommand$\n",
       "$\\newcommand$\n",
       "$\\newcommand$\n",
       "$\\newcommand$\n",
       "$\\newcommand$\n",
       "$\\newcommand$\n",
       "$\\newcommand$\n",
       "$\\newcommand$\n",
       "$\\newcommand$\n",
       "$\\newcommand$\n",
       "$\\newcommand$\n",
       "$\\newcommand$\n",
       "$\\newcommand$\n",
       "$\\newcommand$\n",
       "$\\newcommand$\n",
       "$\\newcommand$\n",
       "$\\newcommand$\n",
       "$\\newcommand{\\change}[1]{{\\color{orange}#1}}$\n",
       "$\\newcommand{\\thebibliography}{\\DeclareRobustCommand{\\VAN}[3]{##3}\\VANthebibliography}$</div>\n",
       "\n",
       "\n",
       "\n",
       "<div id=\"title\">\n",
       "\n",
       "# Stellar associations powering $\\HII$ regions -- I. Defining an evolutionary sequence\n",
       "\n",
       "</div>\n",
       "<div id=\"comments\">\n",
       "\n",
       "[![arXiv](https://img.shields.io/badge/arXiv-2303.12101-b31b1b.svg)](https://arxiv.org/abs/2303.12101)<mark>Appeared on: 2023-03-23</mark> - _15 pages, 12 figures. Accepted for publication in MNRAS_\n",
       "\n",
       "</div>\n",
       "<div id=\"authors\">\n",
       "\n",
       "Fabian Scheuermann, et al. -- incl., <mark><mark>Kathryn Kreckel</mark></mark>, <mark><mark>Stephen Hannon</mark></mark>, <mark><mark>Janice C. Lee</mark></mark>, <mark><mark>Frank Bigiel</mark></mark>, <mark><mark>Eva Schinnerer</mark></mark>\n",
       "\n",
       "</div>\n",
       "<div id=\"abstract\">\n",
       "\n",
       "**Abstract:** Connecting the gas in $\\HII$ regions to the underlying source of the ionizing radiation can help us constrain the physical processes of stellar feedback and how $\\HII$ regions evolve over time.With PHANGS--MUSE we detect nearly $\\num{24000}$ $\\HII$ regions across 19 galaxies and measure the physical properties of the ionized gas (e.g. metallicity, ionization parameter, density).We use catalogues of multi-scale stellar associations from PHANGS-- $_HST_$ to obtain constraints on the age of the ionizing sources.We construct a matched catalogue of $\\num{4177}$ $\\HII$ regions that are clearly linked to a single ionizing association.A weak anti-correlation is observed between the association ages and the $\\HA$ equivalent width $\\EW$ , the $\\HA/\\FUV$ flux ratio and the ionization parameter, $\\log q$ .As all three are expected to decrease as the stellar population ages, this could indicate that we observe an evolutionary sequence.This interpretation is further supported by correlations between all three properties.Interpreting these as evolutionary tracers, we find younger nebulae to be more attenuated by dust and closer to giant molecular clouds, in line with recent models of feedback-regulated star formation.We also observe strong correlations with the local metallicity variations and all three proposed age tracers, suggestive of star formation preferentially occurring in locations of locally enhanced metallicity.Overall, $\\EW$ and $\\log q$ show the most consistent trends and appear to be most reliable tracers for the age of an $\\HII$ region.\n",
       "\n",
       "</div>\n",
       "\n"
      ],
      "text/plain": [
       "<IPython.core.display.Markdown object>"
      ]
     },
     "metadata": {},
     "output_type": "display_data"
    },
    {
     "data": {
      "text/markdown": [
       "<div class=\"macros\" style=\"visibility:hidden;\">\n",
       "$\\newcommand{\\ensuremath}{}$\n",
       "$\\newcommand{\\xspace}{}$\n",
       "$\\newcommand{\\object}[1]{\\texttt{#1}}$\n",
       "$\\newcommand{\\farcs}{{.}''}$\n",
       "$\\newcommand{\\farcm}{{.}'}$\n",
       "$\\newcommand{\\arcsec}{''}$\n",
       "$\\newcommand{\\arcmin}{'}$\n",
       "$\\newcommand{\\ion}[2]{#1#2}$\n",
       "$\\newcommand{\\textsc}[1]{\\textrm{#1}}$\n",
       "$\\newcommand{\\hl}[1]{\\textrm{#1}}$\n",
       "$\\newcommand{\\footnote}[1]{}$\n",
       "$\\newcommand{\\Mgas}{M_{\\rm gas}}$\n",
       "$\\newcommand{\\Mdust}{M_{\\rm dust}}$\n",
       "$\\newcommand{\\Mstar}{M_{\\rm \\ast}}$\n",
       "$\\newcommand{\\Msol}{\\rm M_{\\rm \\odot}}$\n",
       "$\\newcommand{\\fgas}{f_{\\rm gas}}$\n",
       "$\\newcommand{\\fdust}{f_{\\rm dust}}$\n",
       "$\\newcommand{\\Gobat}{{\\color{blue} G18}}$\n",
       "$\\newcommand{\\Magdis}{{\\color{blue} M21}}$</div>\n",
       "\n",
       "<div class=\"macros\" style=\"visibility:hidden;\">\n",
       "$\\newcommand{\\ensuremath}{}$\n",
       "$\\newcommand{\\xspace}{}$\n",
       "$\\newcommand{\\object}[1]{\\texttt{#1}}$\n",
       "$\\newcommand{\\farcs}{{.}''}$\n",
       "$\\newcommand{\\farcm}{{.}'}$\n",
       "$\\newcommand{\\arcsec}{''}$\n",
       "$\\newcommand{\\arcmin}{'}$\n",
       "$\\newcommand{\\ion}[2]{#1#2}$\n",
       "$\\newcommand{\\textsc}[1]{\\textrm{#1}}$\n",
       "$\\newcommand{\\hl}[1]{\\textrm{#1}}$\n",
       "$\\newcommand{\\footnote}[1]{}$\n",
       "$\\newcommand{\\Mgas}{M_{\\rm gas}}$\n",
       "$\\newcommand{\\Mdust}{M_{\\rm dust}}$\n",
       "$\\newcommand{\\Mstar}{M_{\\rm \\ast}}$\n",
       "$\\newcommand{\\Msol}{\\rm M_{\\rm \\odot}}$\n",
       "$\\newcommand{\\fgas}{f_{\\rm gas}}$\n",
       "$\\newcommand{\\fdust}{f_{\\rm dust}}$\n",
       "$\\newcommand{\\Gobat}{{\\color{blue} G18}}$\n",
       "$\\newcommand{\\Magdis}{{\\color{blue} M21}}$</div>\n",
       "\n",
       "\n",
       "\n",
       "<div id=\"title\">\n",
       "\n",
       "# The gas mass reservoir of quiescent galaxies at cosmic noon\n",
       "\n",
       "</div>\n",
       "<div id=\"comments\">\n",
       "\n",
       "[![arXiv](https://img.shields.io/badge/arXiv-2303.12110-b31b1b.svg)](https://arxiv.org/abs/2303.12110)<mark>Appeared on: 2023-03-23</mark> - _Accepted to A&A on the 16/03/2023_\n",
       "\n",
       "</div>\n",
       "<div id=\"authors\">\n",
       "\n",
       "David Blánquez-Sesé, et al. -- incl., <mark>E. Schinnerer</mark>\n",
       "\n",
       "</div>\n",
       "<div id=\"abstract\">\n",
       "\n",
       "**Abstract:** We present a 1.1mm stacking analysis of moderately massive (log( $\\Mstar$ / $\\Msol$ ) = 10.7 $\\pm$ 0.2) quiescent galaxies (QGs) at $\\langle z\\rangle \\sim1.5$ , searching for cold dust continuum emission, an excellent tracer of dust and gas mass. Using both the recent GOODS-ALMA survey as well as the full suite of ALMA Band-6 ancillary data in the GOODS-S field, we report the tentative detection of dust continuum equivalent of   dust mass log( $\\Mdust$ / $\\Msol$ ) = 7.47 $\\pm$ 0.13 and gas mass log( $\\Mgas$ / $\\Msol$ ) = 9.42 $\\pm$ 0.14. The emerging gas fraction is $\\fgas$ = 5.3 $\\pm$ 1.8 \\% , consistent with the results of previous stacking analyses based on lower resolution sub(mm) observations. Our results support the scenario where high $-z$ QGs have an order of magnitude larger $\\fgas$ compared to their local counterparts and have experienced quenching with a non negligible gas reservoir in their interstellar medium - i.e. with gas retention. Subsequent analysis yields an anti-correlation between the $\\fgas$ and the stellar mass of QGs, especially in the high mass end where galaxies reside in the most massive haloes. The $\\fgas$ - $\\Mstar$ anti-correlation promotes the selection bias as a possible solution to the tension between the stacking results pointing towards gas retention in high $-z$ QGs of moderate $\\Mstar$ and the studies of individual targets that favour a fully depleted ISM in massive (log( $\\Mstar$ / $\\Msol$ ) > 11.2) high $-z$ QGs.\n",
       "\n",
       "</div>\n",
       "\n",
       "<div id=\"div_fig1\">\n",
       "\n",
       "<img src=\"tmp_2303.12110/./Figures/f_gas_final.png\" alt=\"Fig6.1\" width=\"50%\"/><img src=\"tmp_2303.12110/./Figures/fgas_mstar_15.0.png\" alt=\"Fig6.2\" width=\"50%\"/>\n",
       "\n",
       "**Figure 6. -** **Gas and dust fractions of QGs**_Top_: Selection of $\\fdust$ and $\\fgas$ measurements as a function of  redshift for QGs. Circles correspond to dust derived gas fractions: this work and  previous stacks studies ($\\Gobat$ and $\\Magdis$) are shown in red and blue, respectively. The white circles show two different estimates (connected by a grey dotted line) for a sample of individually observed lensed galaxies. The lower values correspond to those presented in  ([Whitaker, Williams and Mowla (2021)]())  and the upper values show the new estimates provided in  ([Gobat and Liu (2022)]()) . The grey diamonds represent CO derived $\\fgas$ estimates  ([Sargent, Daddi and Bournaud 2015](), [Bezanson, Spilker and Williams 2019](), [Williams, Spilker and Whitaker 2021]()) . The red dashed area embeds $\\fgas$ measurements of local QGs obtained for the ATLAS3D sample  ([Young, Bureau and Davis 2011](), [Cappellari, McDermid and Alatalo 2013](), [Davis, Young and Crocker 2014]()) . The blue shaded area and the purple dashed line represent the best fit to the $\\Magdis$ data and the  ([Gobat, Magdis and Valentino (2020)]())  model respectively. For reference, we add the $\\fgas$ evolution of main sequence galaxies according to  ([Liu, Lang and Magnelli (2019)]()) . _Bottom_: Dust and gas fraction as a function of stellar mass for measurements at $z \\sim 1.5$. The symbols are the same as in the top panel. The dotted line shows the $\\fgas$ prediction according to the  ([Davé, Finlator and Oppenheimer (2012)]())  galaxy evolution models, color coded as a function of $M_{\\mathrm{halo}}$. For reference, we add the $\\fgas$ - $\\Mstar$ trend measured by  ([Magdis, Daddi and Béthermin (2012)](), [Liu, Lang and Magnelli (2019)]()) . The light yellow scattered diamonds and arrows mark the $\\fgas$ detections and upper limits for local QGs with the corresponding best fit plotted as a black dashed line. (*fig:f_gas_plot*)\n",
       "\n",
       "</div>\n",
       "<div id=\"div_fig2\">\n",
       "\n",
       "<img src=\"tmp_2303.12110/./Figures/Galaxy_selection_2.png\" alt=\"Fig1\" width=\"100%\"/>\n",
       "\n",
       "**Figure 1. -** **Galaxy selection.** Density plot of the used ZFOURGE catalogue in the redshift vs stellar mass plane, consisting of a total 13299 galaxies. The red shaded area represents the region covered by our redshift and stellar mass selection criteria ($1 < z < 3$ and 10.20 $<$ log($\\Mstar$/$\\Msol$) $<$ 11.50) embedding 852 sources. The orange circles correspond to the QGs that constitute our final selection.  (*fig:galaxy_selection*)\n",
       "\n",
       "</div>\n",
       "<div id=\"div_fig3\">\n",
       "\n",
       "<img src=\"tmp_2303.12110/./Figures/UVJ_diagram.png\" alt=\"Fig2\" width=\"100%\"/>\n",
       "\n",
       "**Figure 2. -** **UVJ colour diagram.** Distribution of the parent sample of 435 galaxies that meet our selection criteria in the $U-V$, $V-J$ colour-colour space, colour coded by their log(SFR). The red box represents the quiescent region limits defined in  ([Schreiber, Pannella and Elbaz (2015)]()) , which enclose the 140 QGs from which we draw our final sample. (*fig:UVJ_diagram*)\n",
       "\n",
       "</div>"
      ],
      "text/plain": [
       "<IPython.core.display.Markdown object>"
      ]
     },
     "metadata": {},
     "output_type": "display_data"
    }
   ],
   "source": [
    "[display(Markdown(k[1])) for k in documents];"
   ]
  },
  {
   "cell_type": "markdown",
   "id": "873873a4",
   "metadata": {
    "papermill": {
     "duration": 0.00973,
     "end_time": "2023-03-23T04:07:28.227202",
     "exception": false,
     "start_time": "2023-03-23T04:07:28.217472",
     "status": "completed"
    },
    "tags": []
   },
   "source": [
    "# Create HTML index"
   ]
  },
  {
   "cell_type": "code",
   "execution_count": 10,
   "id": "cf665672",
   "metadata": {
    "execution": {
     "iopub.execute_input": "2023-03-23T04:07:28.248654Z",
     "iopub.status.busy": "2023-03-23T04:07:28.247929Z",
     "iopub.status.idle": "2023-03-23T04:07:28.257056Z",
     "shell.execute_reply": "2023-03-23T04:07:28.256360Z"
    },
    "papermill": {
     "duration": 0.021455,
     "end_time": "2023-03-23T04:07:28.258575",
     "exception": false,
     "start_time": "2023-03-23T04:07:28.237120",
     "status": "completed"
    },
    "tags": []
   },
   "outputs": [
    {
     "name": "stdout",
     "output_type": "stream",
     "text": [
      "203  publications files modified in the last 7 days.\n"
     ]
    }
   ],
   "source": [
    "from datetime import datetime, timedelta, timezone\n",
    "from glob import glob\n",
    "import os\n",
    "\n",
    "files = glob('_build/html/*.md')\n",
    "days = 7\n",
    "now = datetime.today()\n",
    "res = []\n",
    "for fk in files:\n",
    "    stat_result = os.stat(fk).st_ctime\n",
    "    modified = datetime.fromtimestamp(stat_result, tz=timezone.utc).replace(tzinfo=None)\n",
    "    delta = now.today() - modified\n",
    "    if delta <= timedelta(days=days):\n",
    "        res.append((delta.seconds, fk))\n",
    "res = [k[1] for k in reversed(sorted(res, key=lambda x:x[1]))]\n",
    "npub = len(res)\n",
    "print(len(res), f\" publications files modified in the last {days:d} days.\")\n",
    "# [ print('\\t', k) for k in res ];"
   ]
  },
  {
   "cell_type": "code",
   "execution_count": 11,
   "id": "015de740",
   "metadata": {
    "execution": {
     "iopub.execute_input": "2023-03-23T04:07:28.280034Z",
     "iopub.status.busy": "2023-03-23T04:07:28.279512Z",
     "iopub.status.idle": "2023-03-23T04:07:28.300295Z",
     "shell.execute_reply": "2023-03-23T04:07:28.299573Z"
    },
    "papermill": {
     "duration": 0.033293,
     "end_time": "2023-03-23T04:07:28.301831",
     "exception": false,
     "start_time": "2023-03-23T04:07:28.268538",
     "status": "completed"
    },
    "tags": []
   },
   "outputs": [
    {
     "name": "stdout",
     "output_type": "stream",
     "text": [
      "6  publications in the last 7 days.\n"
     ]
    }
   ],
   "source": [
    "import datetime\n",
    "from glob import glob\n",
    "\n",
    "def get_last_n_days(lst, days=1):\n",
    "    \"\"\" Get the documents from the last n days \"\"\"\n",
    "    sorted_lst = sorted(lst, key=lambda x: x[1], reverse=True)\n",
    "    for fname, date in sorted_lst:\n",
    "        if date >= str(datetime.date.today() - datetime.timedelta(days=days)):\n",
    "            yield fname\n",
    "\n",
    "def extract_appearance_dates(lst_file):\n",
    "    dates = []\n",
    "\n",
    "    def get_date(line):\n",
    "        return line\\\n",
    "            .split('Appeared on:')[-1]\\\n",
    "            .split('</mark>')[0].strip()\n",
    "\n",
    "    for fname in lst:\n",
    "        with open(fname, 'r') as f:\n",
    "            found_date = False\n",
    "            for line in f:\n",
    "                if not found_date:\n",
    "                    if \"Appeared on\" in line:\n",
    "                        found_date = True\n",
    "                        dates.append((fname, get_date(line)))\n",
    "                else:\n",
    "                    break\n",
    "    return dates\n",
    "\n",
    "from glob import glob\n",
    "lst = glob('_build/html/*md')\n",
    "days = 7\n",
    "dates = extract_appearance_dates(lst)\n",
    "res = list(get_last_n_days(dates, days))\n",
    "npub = len(res)\n",
    "print(len(res), f\" publications in the last {days:d} days.\")"
   ]
  },
  {
   "cell_type": "code",
   "execution_count": 12,
   "id": "52ca0208",
   "metadata": {
    "execution": {
     "iopub.execute_input": "2023-03-23T04:07:28.323375Z",
     "iopub.status.busy": "2023-03-23T04:07:28.322853Z",
     "iopub.status.idle": "2023-03-23T04:07:28.328536Z",
     "shell.execute_reply": "2023-03-23T04:07:28.327875Z"
    },
    "papermill": {
     "duration": 0.018102,
     "end_time": "2023-03-23T04:07:28.330002",
     "exception": false,
     "start_time": "2023-03-23T04:07:28.311900",
     "status": "completed"
    },
    "scrolled": false,
    "tags": []
   },
   "outputs": [],
   "source": [
    "def create_carousel(npub=4):\n",
    "    \"\"\" Generate the HTML code for a carousel with `npub` slides \"\"\"\n",
    "    carousel = [\"\"\"  <div class=\"carousel\" \"\"\",\n",
    "                \"\"\"       data-flickity='{ \"autoPlay\": 10000, \"adaptiveHeight\": true, \"resize\": true, \"wrapAround\": true, \"pauseAutoPlayOnHover\": true, \"groupCells\": 1 }' id=\"asyncTypeset\">\"\"\"\n",
    "                ]\n",
    "    \n",
    "    item_str = \"\"\"    <div class=\"carousel-cell\"> <div id=\"slide{k}\" class=\"md_view\">Content {k}</div> </div>\"\"\"\n",
    "    for k in range(1, npub + 1):\n",
    "        carousel.append(item_str.format(k=k))\n",
    "    carousel.append(\"  </div>\")\n",
    "    return '\\n'.join(carousel)\n",
    "\n",
    "def create_grid(npub=4):\n",
    "    \"\"\" Generate the HTML code for a flat grid with `npub` slides \"\"\"\n",
    "    grid = [\"\"\"  <div class=\"grid\"> \"\"\",\n",
    "                ]\n",
    "    \n",
    "    item_str = \"\"\"    <div class=\"grid-item\"> <div id=\"slide{k}\" class=\"md_view\">Content {k}</div> </div>\"\"\"\n",
    "    for k in range(1, npub + 1):\n",
    "        grid.append(item_str.format(k=k))\n",
    "    grid.append(\"  </div>\")\n",
    "    return '\\n'.join(grid)"
   ]
  },
  {
   "cell_type": "code",
   "execution_count": 13,
   "id": "a6eac5b6",
   "metadata": {
    "execution": {
     "iopub.execute_input": "2023-03-23T04:07:28.380768Z",
     "iopub.status.busy": "2023-03-23T04:07:28.380225Z",
     "iopub.status.idle": "2023-03-23T04:07:28.385897Z",
     "shell.execute_reply": "2023-03-23T04:07:28.385218Z"
    },
    "papermill": {
     "duration": 0.018295,
     "end_time": "2023-03-23T04:07:28.387367",
     "exception": false,
     "start_time": "2023-03-23T04:07:28.369072",
     "status": "completed"
    },
    "scrolled": false,
    "tags": []
   },
   "outputs": [],
   "source": [
    "carousel = create_carousel(npub)\n",
    "docs = ', '.join(['\"{0:s}\"'.format(k.split('/')[-1]) for k in res])\n",
    "slides = ', '.join([f'\"slide{k}\"' for k in range(1, npub + 1)])\n",
    "\n",
    "with open(\"daily_template.html\", \"r\") as tpl:\n",
    "    page = tpl.read()\n",
    "    page = page.replace(\"{%-- carousel:s --%}\", carousel)\\\n",
    "               .replace(\"{%-- suptitle:s --%}\",  \"7-day archives\" )\\\n",
    "               .replace(\"{%-- docs:s --%}\", docs)\\\n",
    "               .replace(\"{%-- slides:s --%}\", slides)\n",
    "    \n",
    "with open(\"_build/html/index_7days.html\", 'w') as fout:\n",
    "    fout.write(page)"
   ]
  },
  {
   "cell_type": "code",
   "execution_count": 14,
   "id": "adc1a1ec",
   "metadata": {
    "execution": {
     "iopub.execute_input": "2023-03-23T04:07:28.408783Z",
     "iopub.status.busy": "2023-03-23T04:07:28.408267Z",
     "iopub.status.idle": "2023-03-23T04:07:28.415572Z",
     "shell.execute_reply": "2023-03-23T04:07:28.414883Z"
    },
    "papermill": {
     "duration": 0.019725,
     "end_time": "2023-03-23T04:07:28.417081",
     "exception": false,
     "start_time": "2023-03-23T04:07:28.397356",
     "status": "completed"
    },
    "tags": []
   },
   "outputs": [
    {
     "name": "stdout",
     "output_type": "stream",
     "text": [
      "2  publications in the last day.\n"
     ]
    }
   ],
   "source": [
    "# redo for today\n",
    "days = 1\n",
    "res = list(get_last_n_days(dates, days))\n",
    "npub = len(res)\n",
    "print(len(res), f\" publications in the last day.\")\n",
    "\n",
    "carousel = create_carousel(npub)\n",
    "docs = ', '.join(['\"{0:s}\"'.format(k.split('/')[-1]) for k in res])\n",
    "slides = ', '.join([f'\"slide{k}\"' for k in range(1, npub + 1)])\n",
    "\n",
    "with open(\"daily_template.html\", \"r\") as tpl:\n",
    "    page = tpl.read()\n",
    "    page = page.replace(\"{%-- carousel:s --%}\", carousel)\\\n",
    "               .replace(\"{%-- suptitle:s --%}\",  \"Daily\" )\\\n",
    "               .replace(\"{%-- docs:s --%}\", docs)\\\n",
    "               .replace(\"{%-- slides:s --%}\", slides)\n",
    "    \n",
    "# print(carousel, docs, slides)\n",
    "# print(page)\n",
    "with open(\"_build/html/index_daily.html\", 'w') as fout:\n",
    "    fout.write(page)"
   ]
  },
  {
   "cell_type": "code",
   "execution_count": 15,
   "id": "00eece82",
   "metadata": {
    "execution": {
     "iopub.execute_input": "2023-03-23T04:07:28.438955Z",
     "iopub.status.busy": "2023-03-23T04:07:28.438322Z",
     "iopub.status.idle": "2023-03-23T04:07:28.445558Z",
     "shell.execute_reply": "2023-03-23T04:07:28.444902Z"
    },
    "papermill": {
     "duration": 0.019933,
     "end_time": "2023-03-23T04:07:28.447082",
     "exception": false,
     "start_time": "2023-03-23T04:07:28.427149",
     "status": "completed"
    },
    "scrolled": false,
    "tags": []
   },
   "outputs": [
    {
     "name": "stdout",
     "output_type": "stream",
     "text": [
      "6  6 publications selected.\n"
     ]
    }
   ],
   "source": [
    "# Create the flat grid of the last N papers (fixed number regardless of dates)\n",
    "from itertools import islice \n",
    "\n",
    "npub = 6\n",
    "res = [k[0] for k in (islice(reversed(sorted(dates, key=lambda x: x[1])), 6))]\n",
    "print(len(res), f\" {npub} publications selected.\")\n",
    "\n",
    "grid = create_grid(npub)\n",
    "docs = ', '.join(['\"{0:s}\"'.format(k.split('/')[-1]) for k in res])\n",
    "slides = ', '.join([f'\"slide{k}\"' for k in range(1, npub + 1)])\n",
    "\n",
    "with open(\"grid_template.html\", \"r\") as tpl:\n",
    "    page = tpl.read()\n",
    "    page = page.replace(\"{%-- grid-content:s --%}\", grid)\\\n",
    "               .replace(\"{%-- suptitle:s --%}\",  f\"Last {npub:,d} papers\" )\\\n",
    "               .replace(\"{%-- docs:s --%}\", docs)\\\n",
    "               .replace(\"{%-- slides:s --%}\", slides)\n",
    "    \n",
    "# print(grid, docs, slides)\n",
    "# print(page)\n",
    "with open(\"_build/html/index_npub_grid.html\", 'w') as fout:\n",
    "    fout.write(page)"
   ]
  },
  {
   "cell_type": "code",
   "execution_count": null,
   "id": "cab45692",
   "metadata": {
    "papermill": {
     "duration": 0.010689,
     "end_time": "2023-03-23T04:07:28.467967",
     "exception": false,
     "start_time": "2023-03-23T04:07:28.457278",
     "status": "completed"
    },
    "tags": []
   },
   "outputs": [],
   "source": []
  },
  {
   "cell_type": "code",
   "execution_count": null,
   "id": "aec9821f",
   "metadata": {
    "papermill": {
     "duration": 0.010169,
     "end_time": "2023-03-23T04:07:28.488779",
     "exception": false,
     "start_time": "2023-03-23T04:07:28.478610",
     "status": "completed"
    },
    "tags": []
   },
   "outputs": [],
   "source": []
  }
 ],
 "metadata": {
  "kernelspec": {
   "display_name": "Python 3 (ipykernel)",
   "language": "python",
   "name": "python3"
  },
  "language_info": {
   "codemirror_mode": {
    "name": "ipython",
    "version": 3
   },
   "file_extension": ".py",
   "mimetype": "text/x-python",
   "name": "python",
   "nbconvert_exporter": "python",
   "pygments_lexer": "ipython3",
   "version": "3.9.16"
  },
  "papermill": {
   "default_parameters": {},
   "duration": 102.359556,
   "end_time": "2023-03-23T04:07:28.717923",
   "environment_variables": {},
   "exception": null,
   "input_path": "MPIA daily digest.ipynb",
   "output_path": "log.ipynb",
   "parameters": {},
   "start_time": "2023-03-23T04:05:46.358367",
   "version": "2.4.0"
  },
  "vscode": {
   "interpreter": {
    "hash": "aee8b7b246df8f9039afb4144a1f6fd8d2ca17a180786b69acc140d282b71a49"
   }
  },
  "widgets": {
   "application/vnd.jupyter.widget-state+json": {
    "state": {
     "3ebfda81b3d54e4b9960a93b1270e462": {
      "model_module": "@jupyter-widgets/base",
      "model_module_version": "2.0.0",
      "model_name": "LayoutModel",
      "state": {
       "_model_module": "@jupyter-widgets/base",
       "_model_module_version": "2.0.0",
       "_model_name": "LayoutModel",
       "_view_count": null,
       "_view_module": "@jupyter-widgets/base",
       "_view_module_version": "2.0.0",
       "_view_name": "LayoutView",
       "align_content": null,
       "align_items": null,
       "align_self": null,
       "border_bottom": null,
       "border_left": null,
       "border_right": null,
       "border_top": null,
       "bottom": null,
       "display": null,
       "flex": null,
       "flex_flow": null,
       "grid_area": null,
       "grid_auto_columns": null,
       "grid_auto_flow": null,
       "grid_auto_rows": null,
       "grid_column": null,
       "grid_gap": null,
       "grid_row": null,
       "grid_template_areas": null,
       "grid_template_columns": null,
       "grid_template_rows": null,
       "height": null,
       "justify_content": null,
       "justify_items": null,
       "left": null,
       "margin": null,
       "max_height": null,
       "max_width": null,
       "min_height": null,
       "min_width": null,
       "object_fit": null,
       "object_position": null,
       "order": null,
       "overflow": null,
       "padding": null,
       "right": null,
       "top": null,
       "visibility": null,
       "width": null
      }
     },
     "67d419b63d394a109d6e9396327a4edb": {
      "model_module": "@jupyter-widgets/controls",
      "model_module_version": "2.0.0",
      "model_name": "HTMLStyleModel",
      "state": {
       "_model_module": "@jupyter-widgets/controls",
       "_model_module_version": "2.0.0",
       "_model_name": "HTMLStyleModel",
       "_view_count": null,
       "_view_module": "@jupyter-widgets/base",
       "_view_module_version": "2.0.0",
       "_view_name": "StyleView",
       "background": null,
       "description_width": "",
       "font_size": null,
       "text_color": null
      }
     },
     "79e52d561b794b549b8e23d3cf90e6a3": {
      "model_module": "@jupyter-widgets/controls",
      "model_module_version": "2.0.0",
      "model_name": "HTMLModel",
      "state": {
       "_dom_classes": [],
       "_model_module": "@jupyter-widgets/controls",
       "_model_module_version": "2.0.0",
       "_model_name": "HTMLModel",
       "_view_count": null,
       "_view_module": "@jupyter-widgets/controls",
       "_view_module_version": "2.0.0",
       "_view_name": "HTMLView",
       "description": "",
       "description_allow_html": false,
       "layout": "IPY_MODEL_b355a06b6ebb47d2bdd4c3292f5a43f1",
       "placeholder": "​",
       "style": "IPY_MODEL_c83ec3fcd74d47409b9e32bcf1e606ba",
       "tabbable": null,
       "tooltip": null,
       "value": " 20/20 [01:13&lt;00:00,  5.16s/it]"
      }
     },
     "83395bf627bc490eaa6cc48ece39b3dd": {
      "model_module": "@jupyter-widgets/controls",
      "model_module_version": "2.0.0",
      "model_name": "HTMLModel",
      "state": {
       "_dom_classes": [],
       "_model_module": "@jupyter-widgets/controls",
       "_model_module_version": "2.0.0",
       "_model_name": "HTMLModel",
       "_view_count": null,
       "_view_module": "@jupyter-widgets/controls",
       "_view_module_version": "2.0.0",
       "_view_name": "HTMLView",
       "description": "",
       "description_allow_html": false,
       "layout": "IPY_MODEL_cbdec4d4977b489da34b326036b82b49",
       "placeholder": "​",
       "style": "IPY_MODEL_67d419b63d394a109d6e9396327a4edb",
       "tabbable": null,
       "tooltip": null,
       "value": "100%"
      }
     },
     "89b335101f4043b0804b439f32435adb": {
      "model_module": "@jupyter-widgets/base",
      "model_module_version": "2.0.0",
      "model_name": "LayoutModel",
      "state": {
       "_model_module": "@jupyter-widgets/base",
       "_model_module_version": "2.0.0",
       "_model_name": "LayoutModel",
       "_view_count": null,
       "_view_module": "@jupyter-widgets/base",
       "_view_module_version": "2.0.0",
       "_view_name": "LayoutView",
       "align_content": null,
       "align_items": null,
       "align_self": null,
       "border_bottom": null,
       "border_left": null,
       "border_right": null,
       "border_top": null,
       "bottom": null,
       "display": null,
       "flex": null,
       "flex_flow": null,
       "grid_area": null,
       "grid_auto_columns": null,
       "grid_auto_flow": null,
       "grid_auto_rows": null,
       "grid_column": null,
       "grid_gap": null,
       "grid_row": null,
       "grid_template_areas": null,
       "grid_template_columns": null,
       "grid_template_rows": null,
       "height": null,
       "justify_content": null,
       "justify_items": null,
       "left": null,
       "margin": null,
       "max_height": null,
       "max_width": null,
       "min_height": null,
       "min_width": null,
       "object_fit": null,
       "object_position": null,
       "order": null,
       "overflow": null,
       "padding": null,
       "right": null,
       "top": null,
       "visibility": null,
       "width": null
      }
     },
     "a18d349385f2448ca209b91706dbbab7": {
      "model_module": "@jupyter-widgets/controls",
      "model_module_version": "2.0.0",
      "model_name": "HBoxModel",
      "state": {
       "_dom_classes": [],
       "_model_module": "@jupyter-widgets/controls",
       "_model_module_version": "2.0.0",
       "_model_name": "HBoxModel",
       "_view_count": null,
       "_view_module": "@jupyter-widgets/controls",
       "_view_module_version": "2.0.0",
       "_view_name": "HBoxView",
       "box_style": "",
       "children": [
        "IPY_MODEL_83395bf627bc490eaa6cc48ece39b3dd",
        "IPY_MODEL_dd362c52771a458da4b5cce2f54f8202",
        "IPY_MODEL_79e52d561b794b549b8e23d3cf90e6a3"
       ],
       "layout": "IPY_MODEL_3ebfda81b3d54e4b9960a93b1270e462",
       "tabbable": null,
       "tooltip": null
      }
     },
     "b355a06b6ebb47d2bdd4c3292f5a43f1": {
      "model_module": "@jupyter-widgets/base",
      "model_module_version": "2.0.0",
      "model_name": "LayoutModel",
      "state": {
       "_model_module": "@jupyter-widgets/base",
       "_model_module_version": "2.0.0",
       "_model_name": "LayoutModel",
       "_view_count": null,
       "_view_module": "@jupyter-widgets/base",
       "_view_module_version": "2.0.0",
       "_view_name": "LayoutView",
       "align_content": null,
       "align_items": null,
       "align_self": null,
       "border_bottom": null,
       "border_left": null,
       "border_right": null,
       "border_top": null,
       "bottom": null,
       "display": null,
       "flex": null,
       "flex_flow": null,
       "grid_area": null,
       "grid_auto_columns": null,
       "grid_auto_flow": null,
       "grid_auto_rows": null,
       "grid_column": null,
       "grid_gap": null,
       "grid_row": null,
       "grid_template_areas": null,
       "grid_template_columns": null,
       "grid_template_rows": null,
       "height": null,
       "justify_content": null,
       "justify_items": null,
       "left": null,
       "margin": null,
       "max_height": null,
       "max_width": null,
       "min_height": null,
       "min_width": null,
       "object_fit": null,
       "object_position": null,
       "order": null,
       "overflow": null,
       "padding": null,
       "right": null,
       "top": null,
       "visibility": null,
       "width": null
      }
     },
     "c83ec3fcd74d47409b9e32bcf1e606ba": {
      "model_module": "@jupyter-widgets/controls",
      "model_module_version": "2.0.0",
      "model_name": "HTMLStyleModel",
      "state": {
       "_model_module": "@jupyter-widgets/controls",
       "_model_module_version": "2.0.0",
       "_model_name": "HTMLStyleModel",
       "_view_count": null,
       "_view_module": "@jupyter-widgets/base",
       "_view_module_version": "2.0.0",
       "_view_name": "StyleView",
       "background": null,
       "description_width": "",
       "font_size": null,
       "text_color": null
      }
     },
     "cbdec4d4977b489da34b326036b82b49": {
      "model_module": "@jupyter-widgets/base",
      "model_module_version": "2.0.0",
      "model_name": "LayoutModel",
      "state": {
       "_model_module": "@jupyter-widgets/base",
       "_model_module_version": "2.0.0",
       "_model_name": "LayoutModel",
       "_view_count": null,
       "_view_module": "@jupyter-widgets/base",
       "_view_module_version": "2.0.0",
       "_view_name": "LayoutView",
       "align_content": null,
       "align_items": null,
       "align_self": null,
       "border_bottom": null,
       "border_left": null,
       "border_right": null,
       "border_top": null,
       "bottom": null,
       "display": null,
       "flex": null,
       "flex_flow": null,
       "grid_area": null,
       "grid_auto_columns": null,
       "grid_auto_flow": null,
       "grid_auto_rows": null,
       "grid_column": null,
       "grid_gap": null,
       "grid_row": null,
       "grid_template_areas": null,
       "grid_template_columns": null,
       "grid_template_rows": null,
       "height": null,
       "justify_content": null,
       "justify_items": null,
       "left": null,
       "margin": null,
       "max_height": null,
       "max_width": null,
       "min_height": null,
       "min_width": null,
       "object_fit": null,
       "object_position": null,
       "order": null,
       "overflow": null,
       "padding": null,
       "right": null,
       "top": null,
       "visibility": null,
       "width": null
      }
     },
     "d2b9500212f4482a975d45598ac54fba": {
      "model_module": "@jupyter-widgets/controls",
      "model_module_version": "2.0.0",
      "model_name": "ProgressStyleModel",
      "state": {
       "_model_module": "@jupyter-widgets/controls",
       "_model_module_version": "2.0.0",
       "_model_name": "ProgressStyleModel",
       "_view_count": null,
       "_view_module": "@jupyter-widgets/base",
       "_view_module_version": "2.0.0",
       "_view_name": "StyleView",
       "bar_color": null,
       "description_width": ""
      }
     },
     "dd362c52771a458da4b5cce2f54f8202": {
      "model_module": "@jupyter-widgets/controls",
      "model_module_version": "2.0.0",
      "model_name": "FloatProgressModel",
      "state": {
       "_dom_classes": [],
       "_model_module": "@jupyter-widgets/controls",
       "_model_module_version": "2.0.0",
       "_model_name": "FloatProgressModel",
       "_view_count": null,
       "_view_module": "@jupyter-widgets/controls",
       "_view_module_version": "2.0.0",
       "_view_name": "ProgressView",
       "bar_style": "success",
       "description": "",
       "description_allow_html": false,
       "layout": "IPY_MODEL_89b335101f4043b0804b439f32435adb",
       "max": 20.0,
       "min": 0.0,
       "orientation": "horizontal",
       "style": "IPY_MODEL_d2b9500212f4482a975d45598ac54fba",
       "tabbable": null,
       "tooltip": null,
       "value": 20.0
      }
     }
    },
    "version_major": 2,
    "version_minor": 0
   }
  }
 },
 "nbformat": 4,
 "nbformat_minor": 5
}