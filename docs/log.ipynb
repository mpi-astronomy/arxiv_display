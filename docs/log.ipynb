{
 "cells": [
  {
   "cell_type": "markdown",
   "id": "92bcb855",
   "metadata": {
    "papermill": {
     "duration": 0.004002,
     "end_time": "2024-12-31T04:10:45.692255",
     "exception": false,
     "start_time": "2024-12-31T04:10:45.688253",
     "status": "completed"
    },
    "tags": []
   },
   "source": [
    "# MPIA Arxiv on Deck 2\n",
    "\n",
    "Contains the steps to produce the paper extractions."
   ]
  },
  {
   "cell_type": "code",
   "execution_count": 1,
   "id": "3a0d6e11",
   "metadata": {
    "execution": {
     "iopub.execute_input": "2024-12-31T04:10:45.699396Z",
     "iopub.status.busy": "2024-12-31T04:10:45.699163Z",
     "iopub.status.idle": "2024-12-31T04:10:46.146107Z",
     "shell.execute_reply": "2024-12-31T04:10:46.145416Z"
    },
    "papermill": {
     "duration": 0.452004,
     "end_time": "2024-12-31T04:10:46.147530",
     "exception": false,
     "start_time": "2024-12-31T04:10:45.695526",
     "status": "completed"
    },
    "tags": []
   },
   "outputs": [],
   "source": [
    "# Imports\n",
    "import os\n",
    "from IPython.display import Markdown, display\n",
    "from tqdm.notebook import tqdm\n",
    "import warnings\n",
    "from PIL import Image \n",
    "import re\n",
    "\n",
    "# requires arxiv_on_deck_2\n",
    "\n",
    "from arxiv_on_deck_2.arxiv2 import (get_new_papers, \n",
    "                                    get_paper_from_identifier,\n",
    "                                    retrieve_document_source, \n",
    "                                    get_markdown_badge)\n",
    "from arxiv_on_deck_2 import (latex,\n",
    "                             latex_bib,\n",
    "                             mpia,\n",
    "                             highlight_authors_in_list)\n",
    "\n",
    "# Sometimes images are really big\n",
    "Image.MAX_IMAGE_PIXELS = 1000000000 "
   ]
  },
  {
   "cell_type": "code",
   "execution_count": 2,
   "id": "22aa9d44",
   "metadata": {
    "execution": {
     "iopub.execute_input": "2024-12-31T04:10:46.155114Z",
     "iopub.status.busy": "2024-12-31T04:10:46.154544Z",
     "iopub.status.idle": "2024-12-31T04:10:46.162340Z",
     "shell.execute_reply": "2024-12-31T04:10:46.161812Z"
    },
    "papermill": {
     "duration": 0.01249,
     "end_time": "2024-12-31T04:10:46.163347",
     "exception": false,
     "start_time": "2024-12-31T04:10:46.150857",
     "status": "completed"
    },
    "tags": []
   },
   "outputs": [],
   "source": [
    "# Some useful definitions.\n",
    "\n",
    "class AffiliationWarning(UserWarning):\n",
    "    pass\n",
    "\n",
    "class AffiliationError(RuntimeError):\n",
    "    pass\n",
    "\n",
    "def validation(source: str):\n",
    "    \"\"\"Raises error paper during parsing of source file\n",
    "    \n",
    "    Allows checks before parsing TeX code.\n",
    "    \n",
    "    Raises AffiliationWarning\n",
    "    \"\"\"\n",
    "    check = mpia.affiliation_verifications(source, verbose=True)\n",
    "    if check is not True:\n",
    "        raise AffiliationError(\"mpia.affiliation_verifications: \" + check)\n",
    "\n",
    "        \n",
    "warnings.simplefilter('always', AffiliationWarning)\n",
    "\n",
    "\n",
    "def get_markdown_qrcode(paper_id: str):\n",
    "    \"\"\" Generate a qrcode to the arxiv page using qrserver.com\n",
    "    \n",
    "    :param paper: Arxiv paper\n",
    "    :returns: markdown text\n",
    "    \"\"\"\n",
    "    url = r\"https://api.qrserver.com/v1/create-qr-code/?size=100x100&data=\"\n",
    "    txt = f\"\"\"<img src={url}\"https://arxiv.org/abs/{paper_id}\">\"\"\"\n",
    "    txt = '<div id=\"qrcode\">' + txt + '</div>'\n",
    "    return txt\n",
    "\n",
    "\n",
    "def clean_non_western_encoded_characters_commands(text: str) -> str:\n",
    "    \"\"\" Remove non-western encoded characters from a string\n",
    "    List may need to grow.\n",
    "    \n",
    "    :param text: the text to clean\n",
    "    :return: the cleaned text\n",
    "    \"\"\"\n",
    "    text = re.sub(r\"(\\\\begin{CJK}{UTF8}{gbsn})(.*?)(\\\\end{CJK})\", r\"\\2\", text)\n",
    "    return text\n",
    "\n",
    "\n",
    "def get_initials(name: str) -> str:\n",
    "    \"\"\" Get the short name, e.g., A.-B. FamName\n",
    "    :param name: full name\n",
    "    :returns: initials\n",
    "    \"\"\"\n",
    "    initials = []\n",
    "    # account for non western names often in ()\n",
    "    if '(' in name:\n",
    "        name = clean_non_western_encoded_characters_commands(name)\n",
    "        suffix = re.findall(r\"\\((.*?)\\)\", name)[0]\n",
    "        name = name.replace(f\"({suffix})\", '')\n",
    "    else:\n",
    "        suffix = ''\n",
    "    split = name.split()\n",
    "    for token in split[:-1]:\n",
    "        if '-' in token:\n",
    "            current = '-'.join([k[0] + '.' for k in token.split('-')])\n",
    "        else:\n",
    "            current = token[0] + '.'\n",
    "        initials.append(current)\n",
    "    initials.append(split[-1].strip())\n",
    "    if suffix:\n",
    "        initials.append(f\"({suffix})\")\n",
    "    return ' '.join(initials)"
   ]
  },
  {
   "cell_type": "markdown",
   "id": "14bd6310",
   "metadata": {
    "papermill": {
     "duration": 0.002962,
     "end_time": "2024-12-31T04:10:46.169280",
     "exception": false,
     "start_time": "2024-12-31T04:10:46.166318",
     "status": "completed"
    },
    "tags": []
   },
   "source": [
    "## get list of arxiv paper candidates\n",
    "\n",
    "We use the MPIA mitarbeiter list webpage from mpia.de to get author names\n",
    "We then get all new papers from Arxiv and match authors"
   ]
  },
  {
   "cell_type": "code",
   "execution_count": 3,
   "id": "7ea813a8",
   "metadata": {
    "execution": {
     "iopub.execute_input": "2024-12-31T04:10:46.176256Z",
     "iopub.status.busy": "2024-12-31T04:10:46.175833Z",
     "iopub.status.idle": "2024-12-31T04:11:02.891712Z",
     "shell.execute_reply": "2024-12-31T04:11:02.891095Z"
    },
    "papermill": {
     "duration": 16.720642,
     "end_time": "2024-12-31T04:11:02.892911",
     "exception": false,
     "start_time": "2024-12-31T04:10:46.172269",
     "status": "completed"
    },
    "tags": []
   },
   "outputs": [],
   "source": [
    "# deal with the author list and edge cases of people that cannot be consistent on their name  \n",
    "\n",
    "def filter_non_scientists(name: str) -> bool:\n",
    "    \"\"\" Loose filter on expected authorships\n",
    "\n",
    "    removing IT, administration, technical staff\n",
    "    :param name: name\n",
    "    :returns: False if name is not a scientist\n",
    "    \"\"\"\n",
    "    remove_list = ['Licht', 'Binroth', 'Witzel', 'Jordan',\n",
    "                   'Zähringer', 'Scheerer', 'Hoffmann', 'Düe',\n",
    "                   'Hellmich', 'Enkler-Scharpegge', 'Witte-Nguy',\n",
    "                   'Dehen', 'Beckmann', 'Jager', 'Jäger'\n",
    "                  ]\n",
    "\n",
    "    for k in remove_list:\n",
    "        if k in name:\n",
    "            return False\n",
    "    return True\n",
    "\n",
    "def add_author_to_list(author_list: list) -> list:\n",
    "    \"\"\" Add author to list if not already in list\n",
    "    \n",
    "    :param author: author name\n",
    "    :param author_list: list of authors\n",
    "    :returns: updated list of authors\n",
    "    \"\"\"\n",
    "    add_list = ['T. Henning']\n",
    "\n",
    "    for author in add_list:\n",
    "        if author not in author_list:\n",
    "            author_list.append(author)\n",
    "    return author_list\n",
    "\n",
    "# get list from MPIA website\n",
    "# filter for non-scientists (mpia.get_mpia_mitarbeiter_list() does some filtering)\n",
    "mpia_authors = [k[1] for k in mpia.get_mpia_mitarbeiter_list() if filter_non_scientists(k[1])]\n",
    "# add some missing author because of inconsistencies in their MPIA name and author name on papers\n",
    "mpia_authors = add_author_to_list(mpia_authors)"
   ]
  },
  {
   "cell_type": "code",
   "execution_count": 4,
   "id": "2645e73a",
   "metadata": {
    "execution": {
     "iopub.execute_input": "2024-12-31T04:11:02.900323Z",
     "iopub.status.busy": "2024-12-31T04:11:02.899967Z",
     "iopub.status.idle": "2024-12-31T04:11:03.274542Z",
     "shell.execute_reply": "2024-12-31T04:11:03.273931Z"
    },
    "papermill": {
     "duration": 0.379408,
     "end_time": "2024-12-31T04:11:03.275641",
     "exception": false,
     "start_time": "2024-12-31T04:11:02.896233",
     "status": "completed"
    },
    "tags": []
   },
   "outputs": [
    {
     "name": "stdout",
     "output_type": "stream",
     "text": [
      "J. Liu  ->  J. Liu  |  ['J. Liu']\n",
      "N. Martin  ->  N. Martin  |  ['N. Martin']\n",
      "M. Fouesneau  ->  M. Fouesneau  |  ['M. Fouesneau']\n",
      "M. Gross  ->  M. Gross  |  ['M. Gross']\n",
      "Arxiv has 41 new papers today\n",
      "          3 with possible author matches\n"
     ]
    }
   ],
   "source": [
    "new_papers = get_new_papers()\n",
    "# add manual references\n",
    "add_paper_refs = []\n",
    "new_papers.extend([get_paper_from_identifier(k) for k in add_paper_refs])\n",
    "\n",
    "def robust_call(fn, value, *args, **kwargs):\n",
    "    try:\n",
    "        return fn(value, *args, **kwargs)\n",
    "    except Exception:\n",
    "        return value\n",
    "\n",
    "candidates = []\n",
    "for paperk in new_papers:\n",
    "    # Check author list with their initials\n",
    "    normed_author_list = [robust_call(mpia.get_initials, k) for k in paperk['authors']]\n",
    "    hl_authors = highlight_authors_in_list(normed_author_list, mpia_authors, verbose=True)\n",
    "    matches = [(hl, orig) for hl, orig in zip(hl_authors, paperk['authors']) if 'mark' in hl]\n",
    "    paperk['authors'] = hl_authors\n",
    "    if matches:\n",
    "        # only select paper if an author matched our list\n",
    "        candidates.append(paperk)\n",
    "print(\"\"\"Arxiv has {0:,d} new papers today\"\"\".format(len(new_papers)))        \n",
    "print(\"\"\"          {0:,d} with possible author matches\"\"\".format(len(candidates)))"
   ]
  },
  {
   "cell_type": "markdown",
   "id": "3543b34a",
   "metadata": {
    "papermill": {
     "duration": 0.003078,
     "end_time": "2024-12-31T04:11:03.282154",
     "exception": false,
     "start_time": "2024-12-31T04:11:03.279076",
     "status": "completed"
    },
    "tags": []
   },
   "source": [
    "# Parse sources and generate relevant outputs\n",
    "\n",
    "From the candidates, we do the following steps:\n",
    "* get their tarball from ArXiv (and extract data)\n",
    "* find the main .tex file: find one with \\documentclass{...} (sometimes it's non trivial)\n",
    "* Check affiliations with :func:`validation`, which uses :func:`mpia.affiliation_verifications`\n",
    "* If passing the affiliations: we parse the .tex source\n",
    "   * inject sub-documents into the main (flatten the main document)\n",
    "   * parse structure, extract information (title, abstract, authors, figures...)\n",
    "   * handles `\\graphicspath` if provided\n",
    "* Generate the .md document."
   ]
  },
  {
   "cell_type": "code",
   "execution_count": 5,
   "id": "9576b79e",
   "metadata": {
    "execution": {
     "iopub.execute_input": "2024-12-31T04:11:03.289419Z",
     "iopub.status.busy": "2024-12-31T04:11:03.289066Z",
     "iopub.status.idle": "2024-12-31T04:11:46.139483Z",
     "shell.execute_reply": "2024-12-31T04:11:46.138686Z"
    },
    "papermill": {
     "duration": 42.855252,
     "end_time": "2024-12-31T04:11:46.140549",
     "exception": false,
     "start_time": "2024-12-31T04:11:03.285297",
     "status": "completed"
    },
    "scrolled": false,
    "tags": []
   },
   "outputs": [
    {
     "data": {
      "application/vnd.jupyter.widget-view+json": {
       "model_id": "5ea0d22935384e64ba1aedef881f21ac",
       "version_major": 2,
       "version_minor": 0
      },
      "text/plain": [
       "  0%|          | 0/3 [00:00<?, ?it/s]"
      ]
     },
     "metadata": {},
     "output_type": "display_data"
    },
    {
     "name": "stdout",
     "output_type": "stream",
     "text": [
      "Retrieving document from  https://arxiv.org/e-print/2412.20348\n"
     ]
    },
    {
     "name": "stdout",
     "output_type": "stream",
     "text": [
      "extracting tarball to tmp_2412.20348... done.\n",
      "Retrieving document from  https://arxiv.org/e-print/2412.20776\n"
     ]
    },
    {
     "name": "stdout",
     "output_type": "stream",
     "text": [
      "extracting tarball to tmp_2412.20776..."
     ]
    },
    {
     "name": "stdout",
     "output_type": "stream",
     "text": [
      " done.\n"
     ]
    },
    {
     "name": "stdout",
     "output_type": "stream",
     "text": [
      "N. Martin  ->  N. Martin  |  ['N. Martin']\n",
      "M. Fouesneau  ->  M. Fouesneau  |  ['M. Fouesneau']\n"
     ]
    },
    {
     "name": "stderr",
     "output_type": "stream",
     "text": [
      "/opt/hostedtoolcache/Python/3.9.20/x64/lib/python3.9/site-packages/arxiv_on_deck_2/latex.py:132: LatexWarning: attempting recovering figure Basti04_ages\n",
      "  warnings.warn(LatexWarning(f'attempting recovering figure {image}'))\n",
      "/opt/hostedtoolcache/Python/3.9.20/x64/lib/python3.9/site-packages/arxiv_on_deck_2/latex.py:137: LatexWarning: Recovered figure Basti04_ages as tmp_2412.20776/./Basti04_ages.pdf\n",
      "  warnings.warn(LatexWarning(f'Recovered figure {image} as {fname}'))\n"
     ]
    },
    {
     "name": "stdout",
     "output_type": "stream",
     "text": [
      "Found 50 bibliographic references in tmp_2412.20776/aa51517-24corr.bbl.\n",
      "Retrieving document from  https://arxiv.org/e-print/2412.21034\n"
     ]
    },
    {
     "name": "stdout",
     "output_type": "stream",
     "text": [
      "extracting tarball to tmp_2412.21034..."
     ]
    },
    {
     "name": "stdout",
     "output_type": "stream",
     "text": [
      " done.\n"
     ]
    }
   ],
   "source": [
    "documents = []\n",
    "failed = []\n",
    "for paper in tqdm(candidates):\n",
    "    # debug crap\n",
    "    paper['identifier'] = paper['identifier'].lower().replace('arxiv:', '').replace(r'\\n', '').strip()\n",
    "    paper_id = paper['identifier']\n",
    "    \n",
    "    folder = f'tmp_{paper_id}'\n",
    "\n",
    "    try:\n",
    "        if not os.path.isdir(folder):\n",
    "            folder = retrieve_document_source(f\"{paper_id}\", f'tmp_{paper_id}')\n",
    "        \n",
    "        try:\n",
    "            doc = latex.LatexDocument(folder, validation=validation)    \n",
    "        except AffiliationError as affilerror:\n",
    "            msg = f\"ArXiv:{paper_id:s} is not an MPIA paper... \" + str(affilerror)\n",
    "            failed.append((paper, \"affiliation error: \" + str(affilerror) ))\n",
    "            continue\n",
    "        \n",
    "        # Hack because sometimes author parsing does not work well\n",
    "        if (len(doc.authors) != len(paper['authors'])):\n",
    "            doc._authors = paper['authors']\n",
    "        else:\n",
    "            # highlight authors (FIXME: doc.highlight_authors)\n",
    "            # done on arxiv paper already\n",
    "            doc._authors = highlight_authors_in_list(\n",
    "                [get_initials(k) for k in doc.authors], \n",
    "                mpia_authors, verbose=True)\n",
    "        if (doc.abstract) in (None, ''):\n",
    "            doc._abstract = paper['abstract']\n",
    "            \n",
    "        doc.comment = (get_markdown_badge(paper_id) + \n",
    "                       \"<mark>Appeared on: \" + paper['date'] + \"</mark> - \")\n",
    "        if paper['comments']:\n",
    "            doc.comment += \" _\" + paper['comments'] + \"_\"\n",
    "        \n",
    "        full_md = doc.generate_markdown_text()\n",
    "        \n",
    "        full_md += get_markdown_qrcode(paper_id)\n",
    "        \n",
    "        # replace citations\n",
    "        try:\n",
    "            bibdata = latex_bib.LatexBib.from_doc(doc)\n",
    "            full_md = latex_bib.replace_citations(full_md, bibdata)\n",
    "        except Exception as e:\n",
    "            print(\"Issues with the citations\")\n",
    "            print(e)\n",
    "        \n",
    "        documents.append((paper_id, full_md))\n",
    "    except Exception as e:\n",
    "        warnings.warn(latex.LatexWarning(f\"{paper_id:s} did not run properly\\n\" +\n",
    "                                         str(e)\n",
    "                                        ))\n",
    "        failed.append((paper, \"latex error \" + str(e)))"
   ]
  },
  {
   "cell_type": "markdown",
   "id": "2505a25c",
   "metadata": {
    "papermill": {
     "duration": 0.003685,
     "end_time": "2024-12-31T04:11:46.148206",
     "exception": false,
     "start_time": "2024-12-31T04:11:46.144521",
     "status": "completed"
    },
    "tags": []
   },
   "source": [
    "### Export the logs\n",
    "\n",
    "Throughout, we also keep track of the logs per paper. see `logs-{today date}.md` "
   ]
  },
  {
   "cell_type": "code",
   "execution_count": 6,
   "id": "d733828a",
   "metadata": {
    "execution": {
     "iopub.execute_input": "2024-12-31T04:11:46.156378Z",
     "iopub.status.busy": "2024-12-31T04:11:46.156161Z",
     "iopub.status.idle": "2024-12-31T04:11:46.169547Z",
     "shell.execute_reply": "2024-12-31T04:11:46.169050Z"
    },
    "papermill": {
     "duration": 0.018706,
     "end_time": "2024-12-31T04:11:46.170514",
     "exception": false,
     "start_time": "2024-12-31T04:11:46.151808",
     "status": "completed"
    },
    "scrolled": false,
    "tags": []
   },
   "outputs": [
    {
     "data": {
      "text/markdown": [
       "## Successful papers"
      ],
      "text/plain": [
       "<IPython.core.display.Markdown object>"
      ]
     },
     "metadata": {},
     "output_type": "display_data"
    },
    {
     "data": {
      "text/markdown": [
       "\n",
       "|||\n",
       "|---:|:---|\n",
       "| [![arXiv](https://img.shields.io/badge/arXiv-2412.20776-b31b1b.svg)](https://arxiv.org/abs/2412.20776) | **The Pristine survey. XXVI. Chemical abundances of subgiant stars of the extremelymetal-poor stream C-19**  |\n",
       "|| P. Bonifacio, et al. -- incl., <mark>N. Martin</mark>, <mark>M. Fouesneau</mark> |\n",
       "|*Appeared on*| *2024-12-31*|\n",
       "|*Comments*| *Astronomy & Astrophysics - A&A, In press*|\n",
       "|**Abstract**|            Context: The C-19 stellar stream is the most metal-poor stream known to date. While its width and velocity dispersion indicate a dwarf galaxy origin, its metallicity spread and abundance patterns are more similar to those of globular clusters (GCs). If it is indeed of GC origin, its extremely low metallicity ([Fe/H]=-3.4, estimated from giant stars) implies that these stellar systems can form out of gas that is as extremely poor in metals as this. Previously, only giant stream stars were observed spectroscopically, although the majority of stream stars are unevolved stars. Aims: We pushed the spectroscopic observations to the subgiant branch stars ($G\\approx 20$) in order to consolidate the chemical and dynamical properties of C-19. Methods: We used the high-efficiency spectrograph X-shooter fed by the ESO 8.2 m VLT telescope to observe 15 candidate subgiant C-19 members. The spectra were used to measure radial velocities and to determine chemical abundances using the \\mygi\\ code. Results; We developed a likelihood model that takes metallicity and radial velocities into account. We conclude that 12 stars are likely members of C-19, while 3 stars (S05, S12, and S13) are likely contaminants. When these 3 stars are excluded, our model implies a mean metallicity $\\rm \\langle [Fe/H]\\rangle = -3.1\\pm 0.1$, the mean radial velocity is $\\langle v_r\\rangle = -192\\pm3$ kms$^{-1}$, and the velocity dispersion is $\\sigma_{vr} = 5.9^{+3.6}_{-5.9}$ kms$^{-1}$. This all agrees within errors with previous studies. The A(Mg) of a sample of 15 C-19 members, including 6 giant stars, shows a standard deviation of 0.44 dex, and the mean uncertainty on Mg is 0.25 dex. Conclusions: Our preferred interpretation of the current data is that C-19 is a disrupted GC. We cannot completely rule out the possibility that the GC could have belonged to a dwarf galaxy that contained more metal-rich stars, however. This scenario would explain the radial velocity members at higher metallicity, as well as the width and velocity dispersion of the stream. In either case, a GC formed out of gas as poor in metals as these stars seems necessary to explain the existence of C-19. The possibility that no GC was associated with C-19 cannot be ruled out either.         |"
      ],
      "text/plain": [
       "[2412.20776] The Pristine survey. XXVI. Chemical abundances of subgiant stars of the extremelymetal-poor stream C-19\n",
       "\tP. Bonifacio, et al. -- incl., <mark>N. Martin</mark>, <mark>M. Fouesneau</mark>"
      ]
     },
     "metadata": {},
     "output_type": "display_data"
    },
    {
     "data": {
      "text/markdown": [
       "## Failed papers"
      ],
      "text/plain": [
       "<IPython.core.display.Markdown object>"
      ]
     },
     "metadata": {},
     "output_type": "display_data"
    },
    {
     "data": {
      "text/markdown": [
       "\n",
       "|||\n",
       "|---:|:---|\n",
       "| [![arXiv](https://img.shields.io/badge/arXiv-2412.20348-b31b1b.svg)](https://arxiv.org/abs/2412.20348) | **Spatial and Temporal Distribution of Nanoflare Heating During Active Region Evolution**  |\n",
       "|| B. Mondal, et al. -- incl., <mark>J. Liu</mark> |\n",
       "|*Appeared on*| *2024-12-31*|\n",
       "|*Comments*| *Accepted for publication in the Astrophysical Journal (ApJ)*|\n",
       "|**Abstract**|            Nanoflares are believed to be key contributors to heating solar non-flaring active regions, though their individual detection remains challenging. This study uses a data-driven field-aligned hydrodynamic model to examine nanoflare properties throughout the lifecycle of AR12758. We simulate coronal loop emissions, where each loop is heated by random nanoflares depending on the loop parameters derived from photospheric magnetograms observed by SDO/HMI. Simulated X-ray flux and temperature can reproduce the temporal variations observed by Chandrayaan-2/XSM. Our findings show that high-frequency nanoflares contribute to cool emissions across the AR, while low- and intermediate- frequency primarily contribute to hot emissions. During the emerging phase, energy deposition is dominated by low-frequency events. Post-emergence, energy is deposited by both low- and intermediate-frequency nanoflares, while as the AR ages, the contribution from intermediate- and high-frequency nanoflares increases. The spatial distribution of heating frequencies across the AR reveals a clear pattern: the core of the active region spends most of its time in a low-frequency heating state, the periphery is dominated by high-frequency heating, and the region between the core and periphery experiences intermediate-frequency heating.         |\n",
       "|<p style=\"color:green\"> **ERROR** </p>| <p style=\"color:green\">affiliation error: mpia.affiliation_verifications: 'Heidelberg' keyword not found.</p> |"
      ],
      "text/plain": [
       "<IPython.core.display.Markdown object>"
      ]
     },
     "metadata": {},
     "output_type": "display_data"
    },
    {
     "data": {
      "text/markdown": [
       "\n",
       "|||\n",
       "|---:|:---|\n",
       "| [![arXiv](https://img.shields.io/badge/arXiv-2412.21034-b31b1b.svg)](https://arxiv.org/abs/2412.21034) | **Novel SiC UV Instrumentation Development with Potential Applications for the Habitable Worlds Observatory**  |\n",
       "|| P. Saxena, et al. -- incl., <mark>M. Gross</mark> |\n",
       "|*Appeared on*| *2024-12-31*|\n",
       "|*Comments*| *8 figures, Submitted to JATIS*|\n",
       "|**Abstract**|            In this paper, we detail recent and current work that is being carried out to fabricate and advance novel SiC UV instrumentation that is aimed at enabling more sensitive measurements across numerous disciplines, with a short discussion of the promise such detectors may hold for the Habitable Worlds Observatory. We discuss SiC instrument development progress that is being carried out under multiple NASA grants, including several PICASSO and SBIR grants, as well as an ECI grant. Testing of pixel design, properties and layout as well as maturation of the integration scheme developed through these efforts provide key technology and engineering advancement for potential HWO detectors. Achieving desired noise characteristics, responsivity, and validating operation of SiC detectors using standard read out techniques offers a compelling platform for operation of denser and higher dimensionality SiC photodiode arrays of interest for use in potential HWO Coronagraph, Spectrograph, and High Resolution Imaging Instruments. We incorporate these SiC detector properties into a simulation of potential NUV exoplanet observations by HWO using SiC detectors and also discuss potential application to HWO.         |\n",
       "|<p style=\"color:green\"> **ERROR** </p>| <p style=\"color:green\">affiliation error: mpia.affiliation_verifications: 'Heidelberg' keyword not found.</p> |"
      ],
      "text/plain": [
       "<IPython.core.display.Markdown object>"
      ]
     },
     "metadata": {},
     "output_type": "display_data"
    }
   ],
   "source": [
    "import datetime\n",
    "today = str(datetime.date.today())\n",
    "logfile = f\"_build/html/logs/log-{today}.md\"\n",
    "\n",
    "\n",
    "with open(logfile, 'w') as logs:\n",
    "    # Success\n",
    "    logs.write(f'# Arxiv on Deck 2: Logs - {today}\\n\\n')\n",
    "    logs.write(\"\"\"* Arxiv had {0:,d} new papers\\n\"\"\".format(len(new_papers)))\n",
    "    logs.write(\"\"\"    * {0:,d} with possible author matches\\n\\n\"\"\".format(len(candidates)))\n",
    "    logs.write(\"## Sucessful papers\\n\\n\")\n",
    "    display(Markdown(\"## Successful papers\"))\n",
    "    success = [k[0] for k in documents]\n",
    "    for candid in candidates:\n",
    "        if candid['identifier'].split(':')[-1] in success:\n",
    "            display(candid)\n",
    "            logs.write(candid.generate_markdown_text() + '\\n\\n')\n",
    "\n",
    "    ## failed\n",
    "    logs.write(\"## Failed papers\\n\\n\")\n",
    "    display(Markdown(\"## Failed papers\"))\n",
    "    failed = sorted(failed, key=lambda x: x[1])\n",
    "    current_reason = \"\"\n",
    "    for paper, reason in failed:\n",
    "        if 'affiliation' in reason:\n",
    "            color = 'green'\n",
    "        else:\n",
    "            color = 'red'\n",
    "        data = Markdown(\n",
    "                paper.generate_markdown_text() + \n",
    "                f'\\n|<p style=\"color:{color:s}\"> **ERROR** </p>| <p style=\"color:{color:s}\">{reason:s}</p> |'\n",
    "               )\n",
    "        if reason != current_reason:\n",
    "            logs.write(f'### {reason:s} \\n\\n')\n",
    "            current_reason = reason\n",
    "        logs.write(data.data + '\\n\\n')\n",
    "        \n",
    "        # only display here the important errors (all in logs)\n",
    "        # if color in ('red',):\n",
    "        display(data)"
   ]
  },
  {
   "cell_type": "markdown",
   "id": "472d20ee",
   "metadata": {
    "papermill": {
     "duration": 0.004098,
     "end_time": "2024-12-31T04:11:46.178797",
     "exception": false,
     "start_time": "2024-12-31T04:11:46.174699",
     "status": "completed"
    },
    "tags": []
   },
   "source": [
    "## Export documents\n",
    "\n",
    "We now write the .md files and export relevant images"
   ]
  },
  {
   "cell_type": "code",
   "execution_count": 7,
   "id": "d426aed9",
   "metadata": {
    "execution": {
     "iopub.execute_input": "2024-12-31T04:11:46.188070Z",
     "iopub.status.busy": "2024-12-31T04:11:46.187649Z",
     "iopub.status.idle": "2024-12-31T04:11:46.194186Z",
     "shell.execute_reply": "2024-12-31T04:11:46.193678Z"
    },
    "papermill": {
     "duration": 0.012205,
     "end_time": "2024-12-31T04:11:46.195154",
     "exception": false,
     "start_time": "2024-12-31T04:11:46.182949",
     "status": "completed"
    },
    "tags": []
   },
   "outputs": [],
   "source": [
    "def export_markdown_summary(md: str, md_fname:str, directory: str):\n",
    "    \"\"\"Export MD document and associated relevant images\"\"\"\n",
    "    import os\n",
    "    import shutil\n",
    "    import re\n",
    "\n",
    "    if (os.path.exists(directory) and not os.path.isdir(directory)):\n",
    "        raise RuntimeError(f\"a non-directory file exists with name {directory:s}\")\n",
    "\n",
    "    if (not os.path.exists(directory)):\n",
    "        print(f\"creating directory {directory:s}\")\n",
    "        os.mkdir(directory)\n",
    "\n",
    "    fig_fnames = (re.compile(r'\\[Fig.*\\]\\((.*)\\)').findall(md) + \n",
    "                  re.compile(r'\\<img src=\"([^>\\s]*)\"[^>]*/>').findall(md))\n",
    "    print(\"found figures\", fig_fnames)\n",
    "    for fname in fig_fnames:\n",
    "        if 'http' in fname:\n",
    "            # No need to copy online figures\n",
    "            continue\n",
    "        if not os.path.exists(fname):\n",
    "            print(\"file not found\", fname)\n",
    "            continue\n",
    "        print(\"copying \", fname, \"to\", directory)\n",
    "        destdir = os.path.join(directory, os.path.dirname(fname))\n",
    "        destfname = os.path.join(destdir, os.path.basename(fname))\n",
    "        try:\n",
    "            os.makedirs(destdir)\n",
    "        except FileExistsError:\n",
    "            pass\n",
    "        shutil.copy(fname, destfname)\n",
    "    with open(os.path.join(directory, md_fname), 'w') as fout:\n",
    "        fout.write(md)\n",
    "    print(\"exported in \", os.path.join(directory, md_fname))\n",
    "    [print(\"    + \" + os.path.join(directory,fk)) for fk in fig_fnames]"
   ]
  },
  {
   "cell_type": "code",
   "execution_count": 8,
   "id": "014d04a4",
   "metadata": {
    "execution": {
     "iopub.execute_input": "2024-12-31T04:11:46.204646Z",
     "iopub.status.busy": "2024-12-31T04:11:46.204033Z",
     "iopub.status.idle": "2024-12-31T04:11:46.209634Z",
     "shell.execute_reply": "2024-12-31T04:11:46.209122Z"
    },
    "papermill": {
     "duration": 0.011227,
     "end_time": "2024-12-31T04:11:46.210556",
     "exception": false,
     "start_time": "2024-12-31T04:11:46.199329",
     "status": "completed"
    },
    "tags": []
   },
   "outputs": [
    {
     "name": "stdout",
     "output_type": "stream",
     "text": [
      "found figures ['tmp_2412.20776/./corner1.png', 'tmp_2412.20776/./Mg_Fe.png', 'tmp_2412.20776/./vrad.png']\n",
      "copying  tmp_2412.20776/./corner1.png to _build/html/\n",
      "copying  tmp_2412.20776/./Mg_Fe.png to _build/html/\n",
      "copying  tmp_2412.20776/./vrad.png to _build/html/\n",
      "exported in  _build/html/2412.20776.md\n",
      "    + _build/html/tmp_2412.20776/./corner1.png\n",
      "    + _build/html/tmp_2412.20776/./Mg_Fe.png\n",
      "    + _build/html/tmp_2412.20776/./vrad.png\n"
     ]
    }
   ],
   "source": [
    "for paper_id, md in documents:\n",
    "    export_markdown_summary(md, f\"{paper_id:s}.md\", '_build/html/')"
   ]
  },
  {
   "cell_type": "markdown",
   "id": "f087a0a7",
   "metadata": {
    "papermill": {
     "duration": 0.004235,
     "end_time": "2024-12-31T04:11:46.219065",
     "exception": false,
     "start_time": "2024-12-31T04:11:46.214830",
     "status": "completed"
    },
    "tags": []
   },
   "source": [
    "## Display the papers\n",
    "\n",
    "Not necessary but allows for a quick check."
   ]
  },
  {
   "cell_type": "code",
   "execution_count": 9,
   "id": "fd25f625",
   "metadata": {
    "execution": {
     "iopub.execute_input": "2024-12-31T04:11:46.228439Z",
     "iopub.status.busy": "2024-12-31T04:11:46.228065Z",
     "iopub.status.idle": "2024-12-31T04:11:46.232473Z",
     "shell.execute_reply": "2024-12-31T04:11:46.231976Z"
    },
    "papermill": {
     "duration": 0.010149,
     "end_time": "2024-12-31T04:11:46.233466",
     "exception": false,
     "start_time": "2024-12-31T04:11:46.223317",
     "status": "completed"
    },
    "scrolled": false,
    "tags": []
   },
   "outputs": [
    {
     "data": {
      "text/markdown": [
       "<div class=\"macros\" style=\"visibility:hidden;\">\n",
       "$\\newcommand{\\ensuremath}{}$\n",
       "$\\newcommand{\\xspace}{}$\n",
       "$\\newcommand{\\object}[1]{\\texttt{#1}}$\n",
       "$\\newcommand{\\farcs}{{.}''}$\n",
       "$\\newcommand{\\farcm}{{.}'}$\n",
       "$\\newcommand{\\arcsec}{''}$\n",
       "$\\newcommand{\\arcmin}{'}$\n",
       "$\\newcommand{\\ion}[2]{#1#2}$\n",
       "$\\newcommand{\\textsc}[1]{\\textrm{#1}}$\n",
       "$\\newcommand{\\hl}[1]{\\textrm{#1}}$\n",
       "$\\newcommand{\\footnote}[1]{}$\n",
       "$\\newcommand{\\mygi}{MyGIsFOS}$\n",
       "$\\newcommand{\\Teff}{\\ensuremath{T_\\mathrm{eff}}}$\n",
       "$\\newcommand{\\gf}{\\ensuremath{gf}}$\n",
       "$\\newcommand{\\loggf}{\\ensuremath{\\log gf}}$\n",
       "$\\newcommand{\\logg}{\\ensuremath{\\log g}}$\n",
       "$\\newcommand{\\glog}{\\ensuremath{\\log g}}$\n",
       "$\\newcommand{\\kms}{\\rm km s ^{-1}}$\n",
       "$\\newcommand{\\cobold}{CO^{5}BOLD}$\n",
       "$\\newcommand{\\teff}{T\\rm_{eff}}$</div>\n",
       "\n",
       "\n",
       "\n",
       "<div id=\"title\">\n",
       "\n",
       "# The Pristine survey\\ XXVI. Chemical abundances of subgiant stars of the extremelymetal-poor stream C-19$\\thanks{Based on observations made at ESO with X-shooter, programme109.231F.001}$\n",
       "\n",
       "</div>\n",
       "<div id=\"comments\">\n",
       "\n",
       "[![arXiv](https://img.shields.io/badge/arXiv-2412.20776-b31b1b.svg)](https://arxiv.org/abs/2412.20776)<mark>Appeared on: 2024-12-31</mark> -  _Astronomy & Astrophysics - A&A, In press_\n",
       "\n",
       "</div>\n",
       "<div id=\"authors\">\n",
       "\n",
       "P. Bonifacio, et al. -- incl., <mark>N. Martin</mark>, <mark>M. Fouesneau</mark>\n",
       "\n",
       "</div>\n",
       "<div id=\"abstract\">\n",
       "\n",
       "**Abstract:** The C-19 stellar stream is the most metal-poor stream known to date. While its width and velocity dispersion indicate a dwarf galaxy origin, its metallicity spread and abundance patterns are more similar to those of globular clusters (GCs). If it is indeed of GC origin,  its extremely low metallicity ( [ Fe/H ] =--3.4, estimated from giant stars)implies that these stellar systems can form out of gas that is as extremely poor in metals as this. Previously,only giant stream stars were observed spectroscopically, although the majorityof stream stars are unevolved stars. We pushed the spectroscopic observations to the subgiant branch stars( $G\\approx 20$ ) in order to consolidate the chemical and dynamical propertiesof C-19. We used the high-efficiency spectrograph X-shooter fed bythe ESO 8.2 m VLT telescope to observe 15 candidate subgiant C-19 members.The spectra were used to measure radial velocities and to determinechemical abundances using the $\\mygi$ code. We developed a likelihood model that takes metallicity and radial velocities into account. We conclude that12 stars are likely members of C-19, while 3 stars(S05, S12, and S13) are likely contaminants.When these 3 stars are excluded, our modelimplies a mean metallicity $\\rm \\langle[Fe/H]\\rangle = -3.1\\pm 0.1$ , the  mean radial velocity is $\\langle v_r\\rangle=-192\\pm3$ $\\kms$ ,  andthe velocity dispersion is $\\sigma_{vr}=5.9^{+3.6}_{-5.9}$ $\\kms$ . This all agrees within errors with previous studies. The A(Mg) of a sample of 15 C-19 members, including 6  giant stars, shows a  standard deviation of 0.44 dex, and the mean uncertainty on Mg is 0.25 dex. Our preferred interpretation of the current data is that C-19 is a disrupted GC.We cannot completely rule out  the possibility that the GC could have belonged to a dwarf galaxy that contained more metal-rich  stars, however. This  scenario would explain the radial velocity members at higher metallicity, as  well as the width and velocity dispersion of the stream. In either case, a GC formed out of gas as poor in metals as these stars seems necessary to explain the existence of C-19.  The possibility that no GC was associated with C-19 cannot be ruled out either.\n",
       "\n",
       "</div>\n",
       "\n",
       "<div id=\"div_fig1\">\n",
       "\n",
       "<img src=\"tmp_2412.20776/./corner1.png\" alt=\"Fig2\" width=\"100%\"/>\n",
       "\n",
       "**Figure 2. -** Probability distribution functions for the five parameters of the inference on the properties of the combined velocity and metallicity distribution of C-19 members. The five parameters are the fraction of contaminants, $\\eta$, and the mean and dispersion of the velocity ($\\langle v_r\\rangle$ and $sigma_{vr}$) and metallicity ($\\langle{\\rm[Fe/H]}\\rangle$ and $\\sigma_{\\rm[Fe/H]}$) parts of the model. The top panel of each column shows the one-dimensional marginalised probability distribution functions from which the favoured parameter models and related uncertainties are determined. The red contours and histograms show the same after the three likely contaminant stars are removed and the MW contamination is fixed to $\\eta=0$. (*corner*)\n",
       "\n",
       "</div>\n",
       "<div id=\"div_fig2\">\n",
       "\n",
       "<img src=\"tmp_2412.20776/./Mg_Fe.png\" alt=\"Fig5\" width=\"100%\"/>\n",
       "\n",
       "**Figure 5. -** [Fe/H]--[Mg/Fe] diagram for our programme stars and the stars from\n",
       "[Martin, Venn and Aguado (2022)]() and [Yuan, Martin and Ibata (2022)]() for which Mg abundances are available. (*mgfe*)\n",
       "\n",
       "</div>\n",
       "<div id=\"div_fig3\">\n",
       "\n",
       "<img src=\"tmp_2412.20776/./vrad.png\" alt=\"Fig1\" width=\"100%\"/>\n",
       "\n",
       "**Figure 1. -** Radial velocities of our program stars and the stars from [Martin, Venn and Aguado (2022)]() and\n",
       "[Yuan, Martin and Ibata (2022)]() plotted as a function of declination.\n",
       "The dashed lines indicate three\n",
       "$\\sigma$ shifts from the mean value (represented by the thick line). (*vrad*)\n",
       "\n",
       "</div><div id=\"qrcode\"><img src=https://api.qrserver.com/v1/create-qr-code/?size=100x100&data=\"https://arxiv.org/abs/2412.20776\"></div>"
      ],
      "text/plain": [
       "<IPython.core.display.Markdown object>"
      ]
     },
     "metadata": {},
     "output_type": "display_data"
    }
   ],
   "source": [
    "[display(Markdown(k[1])) for k in documents];"
   ]
  },
  {
   "cell_type": "markdown",
   "id": "873873a4",
   "metadata": {
    "papermill": {
     "duration": 0.004375,
     "end_time": "2024-12-31T04:11:46.242386",
     "exception": false,
     "start_time": "2024-12-31T04:11:46.238011",
     "status": "completed"
    },
    "tags": []
   },
   "source": [
    "# Create HTML index"
   ]
  },
  {
   "cell_type": "code",
   "execution_count": 10,
   "id": "cf665672",
   "metadata": {
    "execution": {
     "iopub.execute_input": "2024-12-31T04:11:46.252401Z",
     "iopub.status.busy": "2024-12-31T04:11:46.252034Z",
     "iopub.status.idle": "2024-12-31T04:11:46.260338Z",
     "shell.execute_reply": "2024-12-31T04:11:46.259740Z"
    },
    "papermill": {
     "duration": 0.014248,
     "end_time": "2024-12-31T04:11:46.261273",
     "exception": false,
     "start_time": "2024-12-31T04:11:46.247025",
     "status": "completed"
    },
    "tags": []
   },
   "outputs": [
    {
     "name": "stdout",
     "output_type": "stream",
     "text": [
      "292  publications files modified in the last 7 days.\n"
     ]
    }
   ],
   "source": [
    "from datetime import datetime, timedelta, timezone\n",
    "from glob import glob\n",
    "import os\n",
    "\n",
    "files = glob('_build/html/*.md')\n",
    "days = 7\n",
    "now = datetime.today()\n",
    "res = []\n",
    "for fk in files:\n",
    "    stat_result = os.stat(fk).st_ctime\n",
    "    modified = datetime.fromtimestamp(stat_result, tz=timezone.utc).replace(tzinfo=None)\n",
    "    delta = now.today() - modified\n",
    "    if delta <= timedelta(days=days):\n",
    "        res.append((delta.seconds, fk))\n",
    "res = [k[1] for k in reversed(sorted(res, key=lambda x:x[1]))]\n",
    "npub = len(res)\n",
    "print(len(res), f\" publications files modified in the last {days:d} days.\")\n",
    "# [ print('\\t', k) for k in res ];"
   ]
  },
  {
   "cell_type": "code",
   "execution_count": 11,
   "id": "015de740",
   "metadata": {
    "execution": {
     "iopub.execute_input": "2024-12-31T04:11:46.271177Z",
     "iopub.status.busy": "2024-12-31T04:11:46.270833Z",
     "iopub.status.idle": "2024-12-31T04:11:46.288426Z",
     "shell.execute_reply": "2024-12-31T04:11:46.287825Z"
    },
    "papermill": {
     "duration": 0.023699,
     "end_time": "2024-12-31T04:11:46.289472",
     "exception": false,
     "start_time": "2024-12-31T04:11:46.265773",
     "status": "completed"
    },
    "tags": []
   },
   "outputs": [
    {
     "name": "stdout",
     "output_type": "stream",
     "text": [
      "2  publications in the last 7 days.\n"
     ]
    }
   ],
   "source": [
    "import datetime\n",
    "from glob import glob\n",
    "\n",
    "def get_last_n_days(lst, days=1):\n",
    "    \"\"\" Get the documents from the last n days \"\"\"\n",
    "    sorted_lst = sorted(lst, key=lambda x: x[1], reverse=True)\n",
    "    for fname, date in sorted_lst:\n",
    "        if date >= str(datetime.date.today() - datetime.timedelta(days=days)):\n",
    "            yield fname\n",
    "\n",
    "def extract_appearance_dates(lst_file):\n",
    "    dates = []\n",
    "\n",
    "    def get_date(line):\n",
    "        return line\\\n",
    "            .split('Appeared on:')[-1]\\\n",
    "            .split('</mark>')[0].strip()\n",
    "\n",
    "    for fname in lst:\n",
    "        with open(fname, 'r') as f:\n",
    "            found_date = False\n",
    "            for line in f:\n",
    "                if not found_date:\n",
    "                    if \"Appeared on\" in line:\n",
    "                        found_date = True\n",
    "                        dates.append((fname, get_date(line)))\n",
    "                else:\n",
    "                    break\n",
    "    return dates\n",
    "\n",
    "from glob import glob\n",
    "lst = glob('_build/html/*md')\n",
    "days = 7\n",
    "dates = extract_appearance_dates(lst)\n",
    "res = list(get_last_n_days(dates, days))\n",
    "npub = len(res)\n",
    "print(len(res), f\" publications in the last {days:d} days.\")"
   ]
  },
  {
   "cell_type": "code",
   "execution_count": 12,
   "id": "52ca0208",
   "metadata": {
    "execution": {
     "iopub.execute_input": "2024-12-31T04:11:46.299699Z",
     "iopub.status.busy": "2024-12-31T04:11:46.299321Z",
     "iopub.status.idle": "2024-12-31T04:11:46.303949Z",
     "shell.execute_reply": "2024-12-31T04:11:46.303441Z"
    },
    "papermill": {
     "duration": 0.010843,
     "end_time": "2024-12-31T04:11:46.304942",
     "exception": false,
     "start_time": "2024-12-31T04:11:46.294099",
     "status": "completed"
    },
    "scrolled": false,
    "tags": []
   },
   "outputs": [],
   "source": [
    "def create_carousel(npub=4):\n",
    "    \"\"\" Generate the HTML code for a carousel with `npub` slides \"\"\"\n",
    "    carousel = [\"\"\"  <div class=\"carousel\" \"\"\",\n",
    "                \"\"\"       data-flickity='{ \"autoPlay\": 10000, \"adaptiveHeight\": true, \"resize\": true, \"wrapAround\": true, \"pauseAutoPlayOnHover\": true, \"groupCells\": 1 }' id=\"asyncTypeset\">\"\"\"\n",
    "                ]\n",
    "    \n",
    "    item_str = \"\"\"    <div class=\"carousel-cell\"> <div id=\"slide{k}\" class=\"md_view\">Content {k}</div> </div>\"\"\"\n",
    "    for k in range(1, npub + 1):\n",
    "        carousel.append(item_str.format(k=k))\n",
    "    carousel.append(\"  </div>\")\n",
    "    return '\\n'.join(carousel)\n",
    "\n",
    "def create_grid(npub=4):\n",
    "    \"\"\" Generate the HTML code for a flat grid with `npub` slides \"\"\"\n",
    "    grid = [\"\"\"  <div class=\"grid\"> \"\"\",\n",
    "                ]\n",
    "    \n",
    "    item_str = \"\"\"    <div class=\"grid-item\"> <div id=\"slide{k}\" class=\"md_view\">Content {k}</div> </div>\"\"\"\n",
    "    for k in range(1, npub + 1):\n",
    "        grid.append(item_str.format(k=k))\n",
    "    grid.append(\"  </div>\")\n",
    "    return '\\n'.join(grid)"
   ]
  },
  {
   "cell_type": "code",
   "execution_count": 13,
   "id": "a6eac5b6",
   "metadata": {
    "execution": {
     "iopub.execute_input": "2024-12-31T04:11:46.315202Z",
     "iopub.status.busy": "2024-12-31T04:11:46.314756Z",
     "iopub.status.idle": "2024-12-31T04:11:46.319791Z",
     "shell.execute_reply": "2024-12-31T04:11:46.319281Z"
    },
    "papermill": {
     "duration": 0.01122,
     "end_time": "2024-12-31T04:11:46.320773",
     "exception": false,
     "start_time": "2024-12-31T04:11:46.309553",
     "status": "completed"
    },
    "scrolled": false,
    "tags": []
   },
   "outputs": [],
   "source": [
    "carousel = create_carousel(npub)\n",
    "docs = ', '.join(['\"{0:s}\"'.format(k.split('/')[-1]) for k in res])\n",
    "slides = ', '.join([f'\"slide{k}\"' for k in range(1, npub + 1)])\n",
    "\n",
    "with open(\"daily_template.html\", \"r\") as tpl:\n",
    "    page = tpl.read()\n",
    "    page = page.replace(\"{%-- carousel:s --%}\", carousel)\\\n",
    "               .replace(\"{%-- suptitle:s --%}\",  \"7-day archives\" )\\\n",
    "               .replace(\"{%-- docs:s --%}\", docs)\\\n",
    "               .replace(\"{%-- slides:s --%}\", slides)\n",
    "    \n",
    "with open(\"_build/html/index_7days.html\", 'w') as fout:\n",
    "    fout.write(page)"
   ]
  },
  {
   "cell_type": "code",
   "execution_count": 14,
   "id": "adc1a1ec",
   "metadata": {
    "execution": {
     "iopub.execute_input": "2024-12-31T04:11:46.331161Z",
     "iopub.status.busy": "2024-12-31T04:11:46.330756Z",
     "iopub.status.idle": "2024-12-31T04:11:46.337446Z",
     "shell.execute_reply": "2024-12-31T04:11:46.336917Z"
    },
    "papermill": {
     "duration": 0.012925,
     "end_time": "2024-12-31T04:11:46.338419",
     "exception": false,
     "start_time": "2024-12-31T04:11:46.325494",
     "status": "completed"
    },
    "tags": []
   },
   "outputs": [
    {
     "name": "stdout",
     "output_type": "stream",
     "text": [
      "1  publications in the last day.\n"
     ]
    }
   ],
   "source": [
    "# redo for today\n",
    "days = 1\n",
    "res = list(get_last_n_days(dates, days))\n",
    "npub = len(res)\n",
    "print(len(res), f\" publications in the last day.\")\n",
    "\n",
    "carousel = create_carousel(npub)\n",
    "docs = ', '.join(['\"{0:s}\"'.format(k.split('/')[-1]) for k in res])\n",
    "slides = ', '.join([f'\"slide{k}\"' for k in range(1, npub + 1)])\n",
    "\n",
    "with open(\"daily_template.html\", \"r\") as tpl:\n",
    "    page = tpl.read()\n",
    "    page = page.replace(\"{%-- carousel:s --%}\", carousel)\\\n",
    "               .replace(\"{%-- suptitle:s --%}\",  \"Daily\" )\\\n",
    "               .replace(\"{%-- docs:s --%}\", docs)\\\n",
    "               .replace(\"{%-- slides:s --%}\", slides)\n",
    "    \n",
    "# print(carousel, docs, slides)\n",
    "# print(page)\n",
    "with open(\"_build/html/index_daily.html\", 'w') as fout:\n",
    "    fout.write(page)"
   ]
  },
  {
   "cell_type": "code",
   "execution_count": 15,
   "id": "00eece82",
   "metadata": {
    "execution": {
     "iopub.execute_input": "2024-12-31T04:11:46.348986Z",
     "iopub.status.busy": "2024-12-31T04:11:46.348577Z",
     "iopub.status.idle": "2024-12-31T04:11:46.354751Z",
     "shell.execute_reply": "2024-12-31T04:11:46.354246Z"
    },
    "papermill": {
     "duration": 0.012369,
     "end_time": "2024-12-31T04:11:46.355714",
     "exception": false,
     "start_time": "2024-12-31T04:11:46.343345",
     "status": "completed"
    },
    "scrolled": false,
    "tags": []
   },
   "outputs": [
    {
     "name": "stdout",
     "output_type": "stream",
     "text": [
      "6  6 publications selected.\n"
     ]
    }
   ],
   "source": [
    "# Create the flat grid of the last N papers (fixed number regardless of dates)\n",
    "from itertools import islice \n",
    "\n",
    "npub = 6\n",
    "res = [k[0] for k in (islice(reversed(sorted(dates, key=lambda x: x[1])), 6))]\n",
    "print(len(res), f\" {npub} publications selected.\")\n",
    "\n",
    "grid = create_grid(npub)\n",
    "docs = ', '.join(['\"{0:s}\"'.format(k.split('/')[-1]) for k in res])\n",
    "slides = ', '.join([f'\"slide{k}\"' for k in range(1, npub + 1)])\n",
    "\n",
    "with open(\"grid_template.html\", \"r\") as tpl:\n",
    "    page = tpl.read()\n",
    "    page = page.replace(\"{%-- grid-content:s --%}\", grid)\\\n",
    "               .replace(\"{%-- suptitle:s --%}\",  f\"Last {npub:,d} papers\" )\\\n",
    "               .replace(\"{%-- docs:s --%}\", docs)\\\n",
    "               .replace(\"{%-- slides:s --%}\", slides)\n",
    "    \n",
    "# print(grid, docs, slides)\n",
    "# print(page)\n",
    "with open(\"_build/html/index_npub_grid.html\", 'w') as fout:\n",
    "    fout.write(page)"
   ]
  }
 ],
 "metadata": {
  "kernelspec": {
   "display_name": "Python 3 (ipykernel)",
   "language": "python",
   "name": "python3"
  },
  "language_info": {
   "codemirror_mode": {
    "name": "ipython",
    "version": 3
   },
   "file_extension": ".py",
   "mimetype": "text/x-python",
   "name": "python",
   "nbconvert_exporter": "python",
   "pygments_lexer": "ipython3",
   "version": "3.9.20"
  },
  "papermill": {
   "default_parameters": {},
   "duration": 61.724961,
   "end_time": "2024-12-31T04:11:46.577378",
   "environment_variables": {},
   "exception": null,
   "input_path": "MPIA daily digest.ipynb",
   "output_path": "log.ipynb",
   "parameters": {},
   "start_time": "2024-12-31T04:10:44.852417",
   "version": "2.6.0"
  },
  "vscode": {
   "interpreter": {
    "hash": "aee8b7b246df8f9039afb4144a1f6fd8d2ca17a180786b69acc140d282b71a49"
   }
  },
  "widgets": {
   "application/vnd.jupyter.widget-state+json": {
    "state": {
     "1efa350820864af49e4584a63a98074a": {
      "model_module": "@jupyter-widgets/controls",
      "model_module_version": "2.0.0",
      "model_name": "HTMLModel",
      "state": {
       "_dom_classes": [],
       "_model_module": "@jupyter-widgets/controls",
       "_model_module_version": "2.0.0",
       "_model_name": "HTMLModel",
       "_view_count": null,
       "_view_module": "@jupyter-widgets/controls",
       "_view_module_version": "2.0.0",
       "_view_name": "HTMLView",
       "description": "",
       "description_allow_html": false,
       "layout": "IPY_MODEL_992001e85ed64069bcd4e776bed4eeb9",
       "placeholder": "​",
       "style": "IPY_MODEL_b4221dc78f3b48fba9a65c89ed0fcbba",
       "tabbable": null,
       "tooltip": null,
       "value": "100%"
      }
     },
     "41e0e9f00e4b4841a7e2edabfda52a61": {
      "model_module": "@jupyter-widgets/controls",
      "model_module_version": "2.0.0",
      "model_name": "HTMLModel",
      "state": {
       "_dom_classes": [],
       "_model_module": "@jupyter-widgets/controls",
       "_model_module_version": "2.0.0",
       "_model_name": "HTMLModel",
       "_view_count": null,
       "_view_module": "@jupyter-widgets/controls",
       "_view_module_version": "2.0.0",
       "_view_name": "HTMLView",
       "description": "",
       "description_allow_html": false,
       "layout": "IPY_MODEL_50d955afb49c43e998efa157f58d39b0",
       "placeholder": "​",
       "style": "IPY_MODEL_95d10f93c3ef4b9fa911ccad4224d56f",
       "tabbable": null,
       "tooltip": null,
       "value": " 3/3 [00:42&lt;00:00, 13.99s/it]"
      }
     },
     "43dc6c02ba06443c9fe74064b8a654bb": {
      "model_module": "@jupyter-widgets/controls",
      "model_module_version": "2.0.0",
      "model_name": "FloatProgressModel",
      "state": {
       "_dom_classes": [],
       "_model_module": "@jupyter-widgets/controls",
       "_model_module_version": "2.0.0",
       "_model_name": "FloatProgressModel",
       "_view_count": null,
       "_view_module": "@jupyter-widgets/controls",
       "_view_module_version": "2.0.0",
       "_view_name": "ProgressView",
       "bar_style": "success",
       "description": "",
       "description_allow_html": false,
       "layout": "IPY_MODEL_c15d7070291e4e1988a90fc7917dc917",
       "max": 3.0,
       "min": 0.0,
       "orientation": "horizontal",
       "style": "IPY_MODEL_64908486e8cf402ca8f2ca9b760876aa",
       "tabbable": null,
       "tooltip": null,
       "value": 3.0
      }
     },
     "50d955afb49c43e998efa157f58d39b0": {
      "model_module": "@jupyter-widgets/base",
      "model_module_version": "2.0.0",
      "model_name": "LayoutModel",
      "state": {
       "_model_module": "@jupyter-widgets/base",
       "_model_module_version": "2.0.0",
       "_model_name": "LayoutModel",
       "_view_count": null,
       "_view_module": "@jupyter-widgets/base",
       "_view_module_version": "2.0.0",
       "_view_name": "LayoutView",
       "align_content": null,
       "align_items": null,
       "align_self": null,
       "border_bottom": null,
       "border_left": null,
       "border_right": null,
       "border_top": null,
       "bottom": null,
       "display": null,
       "flex": null,
       "flex_flow": null,
       "grid_area": null,
       "grid_auto_columns": null,
       "grid_auto_flow": null,
       "grid_auto_rows": null,
       "grid_column": null,
       "grid_gap": null,
       "grid_row": null,
       "grid_template_areas": null,
       "grid_template_columns": null,
       "grid_template_rows": null,
       "height": null,
       "justify_content": null,
       "justify_items": null,
       "left": null,
       "margin": null,
       "max_height": null,
       "max_width": null,
       "min_height": null,
       "min_width": null,
       "object_fit": null,
       "object_position": null,
       "order": null,
       "overflow": null,
       "padding": null,
       "right": null,
       "top": null,
       "visibility": null,
       "width": null
      }
     },
     "5ea0d22935384e64ba1aedef881f21ac": {
      "model_module": "@jupyter-widgets/controls",
      "model_module_version": "2.0.0",
      "model_name": "HBoxModel",
      "state": {
       "_dom_classes": [],
       "_model_module": "@jupyter-widgets/controls",
       "_model_module_version": "2.0.0",
       "_model_name": "HBoxModel",
       "_view_count": null,
       "_view_module": "@jupyter-widgets/controls",
       "_view_module_version": "2.0.0",
       "_view_name": "HBoxView",
       "box_style": "",
       "children": [
        "IPY_MODEL_1efa350820864af49e4584a63a98074a",
        "IPY_MODEL_43dc6c02ba06443c9fe74064b8a654bb",
        "IPY_MODEL_41e0e9f00e4b4841a7e2edabfda52a61"
       ],
       "layout": "IPY_MODEL_f420f8a2ff8147a59156af5b0db90aa2",
       "tabbable": null,
       "tooltip": null
      }
     },
     "64908486e8cf402ca8f2ca9b760876aa": {
      "model_module": "@jupyter-widgets/controls",
      "model_module_version": "2.0.0",
      "model_name": "ProgressStyleModel",
      "state": {
       "_model_module": "@jupyter-widgets/controls",
       "_model_module_version": "2.0.0",
       "_model_name": "ProgressStyleModel",
       "_view_count": null,
       "_view_module": "@jupyter-widgets/base",
       "_view_module_version": "2.0.0",
       "_view_name": "StyleView",
       "bar_color": null,
       "description_width": ""
      }
     },
     "95d10f93c3ef4b9fa911ccad4224d56f": {
      "model_module": "@jupyter-widgets/controls",
      "model_module_version": "2.0.0",
      "model_name": "HTMLStyleModel",
      "state": {
       "_model_module": "@jupyter-widgets/controls",
       "_model_module_version": "2.0.0",
       "_model_name": "HTMLStyleModel",
       "_view_count": null,
       "_view_module": "@jupyter-widgets/base",
       "_view_module_version": "2.0.0",
       "_view_name": "StyleView",
       "background": null,
       "description_width": "",
       "font_size": null,
       "text_color": null
      }
     },
     "992001e85ed64069bcd4e776bed4eeb9": {
      "model_module": "@jupyter-widgets/base",
      "model_module_version": "2.0.0",
      "model_name": "LayoutModel",
      "state": {
       "_model_module": "@jupyter-widgets/base",
       "_model_module_version": "2.0.0",
       "_model_name": "LayoutModel",
       "_view_count": null,
       "_view_module": "@jupyter-widgets/base",
       "_view_module_version": "2.0.0",
       "_view_name": "LayoutView",
       "align_content": null,
       "align_items": null,
       "align_self": null,
       "border_bottom": null,
       "border_left": null,
       "border_right": null,
       "border_top": null,
       "bottom": null,
       "display": null,
       "flex": null,
       "flex_flow": null,
       "grid_area": null,
       "grid_auto_columns": null,
       "grid_auto_flow": null,
       "grid_auto_rows": null,
       "grid_column": null,
       "grid_gap": null,
       "grid_row": null,
       "grid_template_areas": null,
       "grid_template_columns": null,
       "grid_template_rows": null,
       "height": null,
       "justify_content": null,
       "justify_items": null,
       "left": null,
       "margin": null,
       "max_height": null,
       "max_width": null,
       "min_height": null,
       "min_width": null,
       "object_fit": null,
       "object_position": null,
       "order": null,
       "overflow": null,
       "padding": null,
       "right": null,
       "top": null,
       "visibility": null,
       "width": null
      }
     },
     "b4221dc78f3b48fba9a65c89ed0fcbba": {
      "model_module": "@jupyter-widgets/controls",
      "model_module_version": "2.0.0",
      "model_name": "HTMLStyleModel",
      "state": {
       "_model_module": "@jupyter-widgets/controls",
       "_model_module_version": "2.0.0",
       "_model_name": "HTMLStyleModel",
       "_view_count": null,
       "_view_module": "@jupyter-widgets/base",
       "_view_module_version": "2.0.0",
       "_view_name": "StyleView",
       "background": null,
       "description_width": "",
       "font_size": null,
       "text_color": null
      }
     },
     "c15d7070291e4e1988a90fc7917dc917": {
      "model_module": "@jupyter-widgets/base",
      "model_module_version": "2.0.0",
      "model_name": "LayoutModel",
      "state": {
       "_model_module": "@jupyter-widgets/base",
       "_model_module_version": "2.0.0",
       "_model_name": "LayoutModel",
       "_view_count": null,
       "_view_module": "@jupyter-widgets/base",
       "_view_module_version": "2.0.0",
       "_view_name": "LayoutView",
       "align_content": null,
       "align_items": null,
       "align_self": null,
       "border_bottom": null,
       "border_left": null,
       "border_right": null,
       "border_top": null,
       "bottom": null,
       "display": null,
       "flex": null,
       "flex_flow": null,
       "grid_area": null,
       "grid_auto_columns": null,
       "grid_auto_flow": null,
       "grid_auto_rows": null,
       "grid_column": null,
       "grid_gap": null,
       "grid_row": null,
       "grid_template_areas": null,
       "grid_template_columns": null,
       "grid_template_rows": null,
       "height": null,
       "justify_content": null,
       "justify_items": null,
       "left": null,
       "margin": null,
       "max_height": null,
       "max_width": null,
       "min_height": null,
       "min_width": null,
       "object_fit": null,
       "object_position": null,
       "order": null,
       "overflow": null,
       "padding": null,
       "right": null,
       "top": null,
       "visibility": null,
       "width": null
      }
     },
     "f420f8a2ff8147a59156af5b0db90aa2": {
      "model_module": "@jupyter-widgets/base",
      "model_module_version": "2.0.0",
      "model_name": "LayoutModel",
      "state": {
       "_model_module": "@jupyter-widgets/base",
       "_model_module_version": "2.0.0",
       "_model_name": "LayoutModel",
       "_view_count": null,
       "_view_module": "@jupyter-widgets/base",
       "_view_module_version": "2.0.0",
       "_view_name": "LayoutView",
       "align_content": null,
       "align_items": null,
       "align_self": null,
       "border_bottom": null,
       "border_left": null,
       "border_right": null,
       "border_top": null,
       "bottom": null,
       "display": null,
       "flex": null,
       "flex_flow": null,
       "grid_area": null,
       "grid_auto_columns": null,
       "grid_auto_flow": null,
       "grid_auto_rows": null,
       "grid_column": null,
       "grid_gap": null,
       "grid_row": null,
       "grid_template_areas": null,
       "grid_template_columns": null,
       "grid_template_rows": null,
       "height": null,
       "justify_content": null,
       "justify_items": null,
       "left": null,
       "margin": null,
       "max_height": null,
       "max_width": null,
       "min_height": null,
       "min_width": null,
       "object_fit": null,
       "object_position": null,
       "order": null,
       "overflow": null,
       "padding": null,
       "right": null,
       "top": null,
       "visibility": null,
       "width": null
      }
     }
    },
    "version_major": 2,
    "version_minor": 0
   }
  }
 },
 "nbformat": 4,
 "nbformat_minor": 5
}