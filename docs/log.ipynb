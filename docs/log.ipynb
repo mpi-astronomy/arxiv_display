{
 "cells": [
  {
   "cell_type": "markdown",
   "id": "92bcb855",
   "metadata": {
    "papermill": {
     "duration": 0.005827,
     "end_time": "2023-03-30T04:05:19.147128",
     "exception": false,
     "start_time": "2023-03-30T04:05:19.141301",
     "status": "completed"
    },
    "tags": []
   },
   "source": [
    "# MPIA Arxiv on Deck 2\n",
    "\n",
    "Contains the steps to produce the paper extractions."
   ]
  },
  {
   "cell_type": "code",
   "execution_count": 1,
   "id": "3a0d6e11",
   "metadata": {
    "execution": {
     "iopub.execute_input": "2023-03-30T04:05:19.157694Z",
     "iopub.status.busy": "2023-03-30T04:05:19.157154Z",
     "iopub.status.idle": "2023-03-30T04:05:19.455930Z",
     "shell.execute_reply": "2023-03-30T04:05:19.454835Z"
    },
    "papermill": {
     "duration": 0.307134,
     "end_time": "2023-03-30T04:05:19.458743",
     "exception": false,
     "start_time": "2023-03-30T04:05:19.151609",
     "status": "completed"
    },
    "tags": []
   },
   "outputs": [],
   "source": [
    "# Imports\n",
    "import os\n",
    "from IPython.display import Markdown, display\n",
    "from tqdm.notebook import tqdm\n",
    "import warnings\n",
    "from PIL import Image \n",
    "\n",
    "# requires arxiv_on_deck_2\n",
    "\n",
    "from arxiv_on_deck_2.arxiv2 import (get_new_papers, \n",
    "                                    get_paper_from_identifier,\n",
    "                                    retrieve_document_source, \n",
    "                                    get_markdown_badge)\n",
    "from arxiv_on_deck_2 import (latex,\n",
    "                             latex_bib,\n",
    "                             mpia,\n",
    "                             highlight_authors_in_list)\n",
    "\n",
    "# Sometimes images are really big\n",
    "Image.MAX_IMAGE_PIXELS = 1000000000 "
   ]
  },
  {
   "cell_type": "code",
   "execution_count": 2,
   "id": "22aa9d44",
   "metadata": {
    "execution": {
     "iopub.execute_input": "2023-03-30T04:05:19.469492Z",
     "iopub.status.busy": "2023-03-30T04:05:19.469142Z",
     "iopub.status.idle": "2023-03-30T04:05:19.477868Z",
     "shell.execute_reply": "2023-03-30T04:05:19.476751Z"
    },
    "papermill": {
     "duration": 0.016626,
     "end_time": "2023-03-30T04:05:19.480073",
     "exception": false,
     "start_time": "2023-03-30T04:05:19.463447",
     "status": "completed"
    },
    "tags": []
   },
   "outputs": [],
   "source": [
    "# Some useful definitions.\n",
    "\n",
    "class AffiliationWarning(UserWarning):\n",
    "    pass\n",
    "\n",
    "class AffiliationError(RuntimeError):\n",
    "    pass\n",
    "\n",
    "def validation(source: str):\n",
    "    \"\"\"Raises error paper during parsing of source file\n",
    "    \n",
    "    Allows checks before parsing TeX code.\n",
    "    \n",
    "    Raises AffiliationWarning\n",
    "    \"\"\"\n",
    "    check = mpia.affiliation_verifications(source, verbose=True)\n",
    "    if check is not True:\n",
    "        raise AffiliationError(\"mpia.affiliation_verifications: \" + check)\n",
    "\n",
    "        \n",
    "warnings.simplefilter('always', AffiliationWarning)\n",
    "\n",
    "\n",
    "def get_markdown_qrcode(paper_id: str):\n",
    "    \"\"\" Generate a qrcode to the arxiv page using qrserver.com\n",
    "    \n",
    "    :param paper: Arxiv paper\n",
    "    :returns: markdown text\n",
    "    \"\"\"\n",
    "    url = r\"https://api.qrserver.com/v1/create-qr-code/?size=100x100&data=\"\n",
    "    txt = f\"\"\"<img src={url}\"https://arxiv.org/abs/{paper_id}\">\"\"\"\n",
    "    txt = '<div id=\"qrcode\">' + txt + '</div>'\n",
    "    return txt"
   ]
  },
  {
   "cell_type": "markdown",
   "id": "14bd6310",
   "metadata": {
    "papermill": {
     "duration": 0.004323,
     "end_time": "2023-03-30T04:05:19.489076",
     "exception": false,
     "start_time": "2023-03-30T04:05:19.484753",
     "status": "completed"
    },
    "tags": []
   },
   "source": [
    "## get list of arxiv paper candidates\n",
    "\n",
    "We use the MPIA mitarbeiter list webpage from mpia.de to get author names\n",
    "We then get all new papers from Arxiv and match authors"
   ]
  },
  {
   "cell_type": "code",
   "execution_count": 3,
   "id": "2645e73a",
   "metadata": {
    "execution": {
     "iopub.execute_input": "2023-03-30T04:05:19.499096Z",
     "iopub.status.busy": "2023-03-30T04:05:19.498786Z",
     "iopub.status.idle": "2023-03-30T04:05:43.907612Z",
     "shell.execute_reply": "2023-03-30T04:05:43.905188Z"
    },
    "papermill": {
     "duration": 24.416305,
     "end_time": "2023-03-30T04:05:43.909704",
     "exception": false,
     "start_time": "2023-03-30T04:05:19.493399",
     "status": "completed"
    },
    "tags": []
   },
   "outputs": [
    {
     "name": "stdout",
     "output_type": "stream",
     "text": [
      "Arxiv has 57 new papers today\n",
      "          9 with possible author matches\n"
     ]
    }
   ],
   "source": [
    "# get list from MPIA website\n",
    "# it automatically filters identified non-scientists :func:`mpia.filter_non_scientists`\n",
    "mpia_authors = mpia.get_mpia_mitarbeiter_list()\n",
    "normed_mpia_authors = [k[1] for k in mpia_authors]   # initials + fullname\n",
    "new_papers = get_new_papers()\n",
    "# add manual references\n",
    "add_paper_refs = []\n",
    "new_papers.extend([get_paper_from_identifier(k) for k in add_paper_refs])\n",
    "\n",
    "candidates = []\n",
    "for paperk in new_papers:\n",
    "    # Check author list with their initials\n",
    "    normed_author_list = [mpia.get_initials(k) for k in paperk['authors']]\n",
    "    hl_authors = highlight_authors_in_list(normed_author_list, normed_mpia_authors, verbose=True)\n",
    "    matches = [(hl, orig) for hl, orig in zip(hl_authors, paperk['authors']) if 'mark' in hl]\n",
    "    paperk['authors'] = hl_authors\n",
    "    if matches:\n",
    "        # only select paper if an author matched our list\n",
    "        candidates.append(paperk)\n",
    "print(\"\"\"Arxiv has {0:,d} new papers today\"\"\".format(len(new_papers)))        \n",
    "print(\"\"\"          {0:,d} with possible author matches\"\"\".format(len(candidates)))"
   ]
  },
  {
   "cell_type": "markdown",
   "id": "3543b34a",
   "metadata": {
    "papermill": {
     "duration": 0.004998,
     "end_time": "2023-03-30T04:05:43.919630",
     "exception": false,
     "start_time": "2023-03-30T04:05:43.914632",
     "status": "completed"
    },
    "tags": []
   },
   "source": [
    "# Parse sources and generate relevant outputs\n",
    "\n",
    "From the candidates, we do the following steps:\n",
    "* get their tarball from ArXiv (and extract data)\n",
    "* find the main .tex file: find one with \\documentclass{...} (sometimes it's non trivial)\n",
    "* Check affiliations with :func:`validation`, which uses :func:`mpia.affiliation_verifications`\n",
    "* If passing the affiliations: we parse the .tex source\n",
    "   * inject sub-documents into the main (flatten the main document)\n",
    "   * parse structure, extract information (title, abstract, authors, figures...)\n",
    "   * handles `\\graphicspath` if provided\n",
    "* Generate the .md document."
   ]
  },
  {
   "cell_type": "code",
   "execution_count": 4,
   "id": "9576b79e",
   "metadata": {
    "execution": {
     "iopub.execute_input": "2023-03-30T04:05:43.930614Z",
     "iopub.status.busy": "2023-03-30T04:05:43.929891Z",
     "iopub.status.idle": "2023-03-30T04:11:49.166337Z",
     "shell.execute_reply": "2023-03-30T04:11:49.165084Z"
    },
    "papermill": {
     "duration": 365.244346,
     "end_time": "2023-03-30T04:11:49.168782",
     "exception": false,
     "start_time": "2023-03-30T04:05:43.924436",
     "status": "completed"
    },
    "scrolled": false,
    "tags": []
   },
   "outputs": [
    {
     "data": {
      "application/vnd.jupyter.widget-view+json": {
       "model_id": "bb87f8387416460ebbd766138c67388c",
       "version_major": 2,
       "version_minor": 0
      },
      "text/plain": [
       "  0%|          | 0/8 [00:00<?, ?it/s]"
      ]
     },
     "metadata": {},
     "output_type": "display_data"
    },
    {
     "name": "stdout",
     "output_type": "stream",
     "text": [
      "Retrieving document from  https://arxiv.org/e-print/2303.16215\n"
     ]
    },
    {
     "name": "stdout",
     "output_type": "stream",
     "text": [
      "extracting tarball to tmp_2303.16215..."
     ]
    },
    {
     "name": "stdout",
     "output_type": "stream",
     "text": [
      " done.\n"
     ]
    },
    {
     "name": "stdout",
     "output_type": "stream",
     "text": [
      "Found 101 bibliographic references in tmp_2303.16215/main.bbl.\n",
      "Retrieving document from  https://arxiv.org/e-print/2303.16217\n"
     ]
    },
    {
     "name": "stdout",
     "output_type": "stream",
     "text": [
      "extracting tarball to tmp_2303.16217..."
     ]
    },
    {
     "name": "stdout",
     "output_type": "stream",
     "text": [
      " done.\n"
     ]
    },
    {
     "name": "stderr",
     "output_type": "stream",
     "text": [
      "/opt/hostedtoolcache/Python/3.9.16/x64/lib/python3.9/site-packages/IPython/core/interactiveshell.py:3460: LatexWarning: Multiple tex files.\n",
      "\n",
      "  exec(code_obj, self.user_global_ns, self.user_ns)\n",
      "/opt/hostedtoolcache/Python/3.9.16/x64/lib/python3.9/site-packages/IPython/core/interactiveshell.py:3460: LatexWarning: Found documentclass in tmp_2303.16217/MWM31like.tex\n",
      "\n",
      "  exec(code_obj, self.user_global_ns, self.user_ns)\n",
      "/opt/hostedtoolcache/Python/3.9.16/x64/lib/python3.9/site-packages/arxiv_on_deck_2/latex.py:399: LatexWarning: Latex injecting: 'table_files_satsids' from 'tmp_2303.16217/table_files_satsids.tex'\n",
      "  warnings.warn(LatexWarning(f\"Latex injecting: '{ext}' from '{subsource}'\"))\n",
      "/opt/hostedtoolcache/Python/3.9.16/x64/lib/python3.9/site-packages/arxiv_on_deck_2/latex.py:399: LatexWarning: Latex injecting: 'table_files_cutouts_2' from 'tmp_2303.16217/table_files_cutouts_2.tex'\n",
      "  warnings.warn(LatexWarning(f\"Latex injecting: '{ext}' from '{subsource}'\"))\n",
      "/opt/hostedtoolcache/Python/3.9.16/x64/lib/python3.9/site-packages/arxiv_on_deck_2/latex.py:399: LatexWarning: Latex injecting: 'table_files_cutouts_1' from 'tmp_2303.16217/table_files_cutouts_1.tex'\n",
      "  warnings.warn(LatexWarning(f\"Latex injecting: '{ext}' from '{subsource}'\"))\n",
      "/opt/hostedtoolcache/Python/3.9.16/x64/lib/python3.9/site-packages/arxiv_on_deck_2/latex.py:399: LatexWarning: Latex injecting: 'table_files_ids' from 'tmp_2303.16217/table_files_ids.tex'\n",
      "  warnings.warn(LatexWarning(f\"Latex injecting: '{ext}' from '{subsource}'\"))\n",
      "/opt/hostedtoolcache/Python/3.9.16/x64/lib/python3.9/site-packages/arxiv_on_deck_2/latex.py:399: LatexWarning: Latex injecting: 'table_subboxes' from 'tmp_2303.16217/table_subboxes.tex'\n",
      "  warnings.warn(LatexWarning(f\"Latex injecting: '{ext}' from '{subsource}'\"))\n",
      "/opt/hostedtoolcache/Python/3.9.16/x64/lib/python3.9/site-packages/arxiv_on_deck_2/latex.py:399: LatexWarning: Latex injecting: 'table_papers' from 'tmp_2303.16217/table_papers.tex'\n",
      "  warnings.warn(LatexWarning(f\"Latex injecting: '{ext}' from '{subsource}'\"))\n",
      "/opt/hostedtoolcache/Python/3.9.16/x64/lib/python3.9/site-packages/arxiv_on_deck_2/latex.py:399: LatexWarning: Latex injecting: 'table_sims' from 'tmp_2303.16217/table_sims.tex'\n",
      "  warnings.warn(LatexWarning(f\"Latex injecting: '{ext}' from '{subsource}'\"))\n"
     ]
    },
    {
     "name": "stdout",
     "output_type": "stream",
     "text": [
      "Found 192 bibliographic references in tmp_2303.16217/MWM31like.bbl.\n",
      "Retrieving document from  https://arxiv.org/e-print/2303.16228\n"
     ]
    },
    {
     "name": "stdout",
     "output_type": "stream",
     "text": [
      "extracting tarball to tmp_2303.16228..."
     ]
    },
    {
     "name": "stdout",
     "output_type": "stream",
     "text": [
      " done.\n"
     ]
    },
    {
     "name": "stderr",
     "output_type": "stream",
     "text": [
      "/opt/hostedtoolcache/Python/3.9.16/x64/lib/python3.9/site-packages/arxiv_on_deck_2/latex.py:473: LatexWarning: Error parsing the document directly. Trying to recover.\n",
      "  warnings.warn(LatexWarning(f\"Error parsing the document directly. Trying to recover.\"))\n"
     ]
    },
    {
     "name": "stdout",
     "output_type": "stream",
     "text": [
      "✔ → 0:header\n",
      "  ↳ 3794:\\section{Introduction}\n"
     ]
    },
    {
     "name": "stdout",
     "output_type": "stream",
     "text": [
      "✔ → 3794:\\section{Introduction}\n",
      "  ↳ 20373:\\section{Methods}\n"
     ]
    },
    {
     "name": "stdout",
     "output_type": "stream",
     "text": [
      "✔ → 20373:\\section{Methods}\n",
      "  ↳ 34541:\\section{The structural and age properties of the stellar disks in TNG50 MW/M31-like galaxies}\n"
     ]
    },
    {
     "name": "stdout",
     "output_type": "stream",
     "text": [
      "✔ → 34541:\\section{The structural and age properties of the stellar disks in TNG50 MW/M31-like galaxies}\n",
      "  ↳ 48109:\\section{Disk flaring with TNG50}\n"
     ]
    },
    {
     "name": "stdout",
     "output_type": "stream",
     "text": [
      "✔ → 48109:\\section{Disk flaring with TNG50}\n",
      "  ↳ 68404:\\section{Disk flaring and kinematics in TNG50}\n",
      "✔ → 68404:\\section{Disk flaring and kinematics in TNG50}\n",
      "  ↳ 73577:\\section{Discussion}\n"
     ]
    },
    {
     "name": "stdout",
     "output_type": "stream",
     "text": [
      "✔ → 73577:\\section{Discussion}\n",
      "  ↳ 97694:\\section{Summary and conclusions}\n"
     ]
    },
    {
     "name": "stdout",
     "output_type": "stream",
     "text": [
      "✔ → 97694:\\section{Summary and conclusions}\n",
      "  ↳ 107550:\\section{Disk flaring vs. additional structural properties of MW/M31-like analogs}\n",
      "✔ → 107550:\\section{Disk flaring vs. additional structural properties of MW/M31-like analogs}\n",
      "  ↳ 108931:end\n"
     ]
    },
    {
     "name": "stdout",
     "output_type": "stream",
     "text": [
      "Found 120 bibliographic references in tmp_2303.16228/main.bbl.\n",
      "syntax error in line 4: '=' expected\n",
      "Retrieving document from  https://arxiv.org/e-print/2303.16232\n"
     ]
    },
    {
     "name": "stdout",
     "output_type": "stream",
     "text": [
      "extracting tarball to tmp_2303.16232..."
     ]
    },
    {
     "name": "stdout",
     "output_type": "stream",
     "text": [
      " done.\n",
      "Retrieving document from  https://arxiv.org/e-print/2303.16439\n"
     ]
    },
    {
     "name": "stderr",
     "output_type": "stream",
     "text": [
      "/tmp/ipykernel_2058/1863104449.py:49: LatexWarning: 2303.16439 did not run properly\n",
      "not a gzip file\n",
      "  warnings.warn(latex.LatexWarning(f\"{paper_id:s} did not run properly\\n\" +\n"
     ]
    },
    {
     "name": "stdout",
     "output_type": "stream",
     "text": [
      "Retrieving document from  https://arxiv.org/e-print/2303.16775\n"
     ]
    },
    {
     "name": "stdout",
     "output_type": "stream",
     "text": [
      "extracting tarball to tmp_2303.16775..."
     ]
    },
    {
     "name": "stdout",
     "output_type": "stream",
     "text": [
      " done.\n",
      "Retrieving document from  https://arxiv.org/e-print/2303.16810\n"
     ]
    },
    {
     "name": "stdout",
     "output_type": "stream",
     "text": [
      "extracting tarball to tmp_2303.16810..."
     ]
    },
    {
     "name": "stdout",
     "output_type": "stream",
     "text": [
      " done.\n",
      "Retrieving document from  https://arxiv.org/e-print/2303.16849\n"
     ]
    },
    {
     "name": "stdout",
     "output_type": "stream",
     "text": [
      "extracting tarball to tmp_2303.16849..."
     ]
    },
    {
     "name": "stdout",
     "output_type": "stream",
     "text": [
      " done.\n"
     ]
    }
   ],
   "source": [
    "documents = []\n",
    "failed = []\n",
    "for paper in tqdm(candidates[:-1]):\n",
    "    paper_id = paper['identifier'].lower().replace('arxiv:', '')\n",
    "    \n",
    "    folder = f'tmp_{paper_id}'\n",
    "\n",
    "    try:\n",
    "        if not os.path.isdir(folder):\n",
    "            folder = retrieve_document_source(f\"{paper_id}\", f'tmp_{paper_id}')\n",
    "        \n",
    "        try:\n",
    "            doc = latex.LatexDocument(folder, validation=validation)    \n",
    "        except AffiliationError as affilerror:\n",
    "            msg = f\"ArXiv:{paper_id:s} is not an MPIA paper... \" + str(affilerror)\n",
    "            failed.append((paper, \"affiliation error: \" + str(affilerror) ))\n",
    "            continue\n",
    "        \n",
    "        # Hack because sometimes author parsing does not work well\n",
    "        if (len(doc.authors) != len(paper['authors'])):\n",
    "            doc._authors = paper['authors']\n",
    "        else:\n",
    "            # highlight authors (FIXME: doc.highlight_authors)\n",
    "            # done on arxiv paper already\n",
    "            doc._authors = highlight_authors_in_list(\n",
    "                [mpia.get_initials(k) for k in doc.authors], \n",
    "                normed_mpia_authors, verbose=True)\n",
    "        if (doc.abstract) in (None, ''):\n",
    "            doc._abstract = paper['abstract']\n",
    "            \n",
    "        doc.comment = (get_markdown_badge(paper_id) + \n",
    "                       \"<mark>Appeared on: \" + paper['date'] + \"</mark> - \")\n",
    "        if paper['comments']:\n",
    "            doc.comment += \" _\" + paper['comments'] + \"_\"\n",
    "        \n",
    "        full_md = doc.generate_markdown_text()\n",
    "        \n",
    "        full_md += get_markdown_qrcode(paper_id)\n",
    "        \n",
    "        # replace citations\n",
    "        try:\n",
    "            bibdata = latex_bib.LatexBib.from_doc(doc)\n",
    "            full_md = latex_bib.replace_citations(full_md, bibdata)\n",
    "        except Exception as e:\n",
    "            print(e)\n",
    "        \n",
    "        documents.append((paper_id, full_md))\n",
    "    except Exception as e:\n",
    "        warnings.warn(latex.LatexWarning(f\"{paper_id:s} did not run properly\\n\" +\n",
    "                                         str(e)\n",
    "                                        ))\n",
    "        failed.append((paper, \"latex error \" + str(e)))"
   ]
  },
  {
   "cell_type": "markdown",
   "id": "2505a25c",
   "metadata": {
    "papermill": {
     "duration": 0.006128,
     "end_time": "2023-03-30T04:11:49.181820",
     "exception": false,
     "start_time": "2023-03-30T04:11:49.175692",
     "status": "completed"
    },
    "tags": []
   },
   "source": [
    "### Export the logs\n",
    "\n",
    "Throughout, we also keep track of the logs per paper. see `logs-{today date}.md` "
   ]
  },
  {
   "cell_type": "code",
   "execution_count": 5,
   "id": "d733828a",
   "metadata": {
    "execution": {
     "iopub.execute_input": "2023-03-30T04:11:49.197233Z",
     "iopub.status.busy": "2023-03-30T04:11:49.196372Z",
     "iopub.status.idle": "2023-03-30T04:11:49.231779Z",
     "shell.execute_reply": "2023-03-30T04:11:49.230787Z"
    },
    "papermill": {
     "duration": 0.046147,
     "end_time": "2023-03-30T04:11:49.234361",
     "exception": false,
     "start_time": "2023-03-30T04:11:49.188214",
     "status": "completed"
    },
    "scrolled": false,
    "tags": []
   },
   "outputs": [
    {
     "data": {
      "text/markdown": [
       "## Successful papers"
      ],
      "text/plain": [
       "<IPython.core.display.Markdown object>"
      ]
     },
     "metadata": {},
     "output_type": "display_data"
    },
    {
     "data": {
      "text/markdown": [
       "\n",
       "|||\n",
       "|---:|:---|\n",
       "| [![arXiv](https://img.shields.io/badge/arXiv-arXiv:2303.16215-b31b1b.svg)](https://arxiv.org/abs/arXiv:2303.16215) | **The Circumgalactic Medium of Milky Way-like Galaxies in the TNG50  Simulation -- II: Cold, Dense Gas Clouds and High-Velocity Cloud Analogs**  |\n",
       "|| R. Ramesh, D. Nelson, <mark>A. Pillepich</mark> |\n",
       "|*Appeared on*| *2023-03-30*|\n",
       "|*Comments*| *Accepted for publication (MNRAS). Part of a set of papers based on TNG50 MW/M31-like galaxies. Additional visuals and data products at www.tng-project.org/ramesh23b*|\n",
       "|**Abstract**| We use the TNG50 simulation of the IllustrisTNG project to study cold, dense clouds of gas in the circumgalactic media (CGM) of Milky Way-like galaxies. We find that their CGM is typically filled with of order one hundred (thousand) reasonably (marginally) resolved clouds, possible analogs of high-velocity clouds (HVCs). There is a large variation in cloud abundance from galaxy to galaxy, and the physical properties of clouds that we explore -- mass, size, metallicity, pressure, and kinematics -- are also diverse. We quantify the distributions of cloud properties and cloud-background contrasts, providing cosmological inputs for idealized simulations. Clouds characteristically have sub-solar metallicities, diverse shapes, small overdensities ($\\chi = n_{\\rm cold} / n_{\\rm hot} \\lesssim 10$), are mostly inflowing, and have sub-virial rotation. At TNG50 resolution, resolved clouds have median masses of $\\sim 10^6\\,\\rm{M_\\odot}$ and sizes of $\\sim 10$ kpc. Larger clouds are well converged numerically, while the abundance of the smallest clouds increases with resolution, as expected. In TNG50 MW-like haloes, clouds are slightly (severely) under-pressurised relative to their surroundings with respect to total (thermal) pressure, implying that magnetic fields may be important. Clouds are not distributed uniformly throughout the CGM, but are clustered around other clouds, often near baryon-rich satellite galaxies. This suggests that at least some clouds originate from satellites, via direct ram-pressure stripping or otherwise. Finally, we compare with observations of intermediate and high velocity clouds from the real Milky Way halo. TNG50 shows a similar cloud velocity distribution as observations, and predicts a significant population of currently difficult-to-detect low velocity clouds. |"
      ],
      "text/plain": [
       "[arXiv:2303.16215] The Circumgalactic Medium of Milky Way-like Galaxies in the TNG50  Simulation -- II: Cold, Dense Gas Clouds and High-Velocity Cloud Analogs\n",
       "\tR. Ramesh, D. Nelson, <mark>A. Pillepich</mark>"
      ]
     },
     "metadata": {},
     "output_type": "display_data"
    },
    {
     "data": {
      "text/markdown": [
       "\n",
       "|||\n",
       "|---:|:---|\n",
       "| [![arXiv](https://img.shields.io/badge/arXiv-arXiv:2303.16217-b31b1b.svg)](https://arxiv.org/abs/arXiv:2303.16217) | **Milky Way and Andromeda analogs from the TNG50 simulation**  |\n",
       "|| <mark>A. Pillepich</mark>, et al. |\n",
       "|*Appeared on*| *2023-03-30*|\n",
       "|*Comments*| *Submitted to MNRAS. Feedback from the community encouraged. This is also a data-release paper: see visuals and documentation at this https URL See other TNG50 MW/M31-based papers also on astro-ph today: Ramesh+ and Sotillo-Ramos+*|\n",
       "|**Abstract**| We present the properties of Milky Way- and Andromeda-like (MW/M31-like) galaxies simulated within TNG50, the highest-resolution run of the IllustrisTNG suite of $\\Lambda$CDM magneto-hydrodynamical simulations. We introduce our fiducial selection for MW/M31 analogs, which we propose for direct usage as well as for reference in future analyses. TNG50 contains 198 MW/M31 analogs, i.e. galaxies with stellar disky morphology, with a stellar mass in the range of $M_* = 10^{10.5 - 11.2}$ Msun, and within a MW-like Mpc-scale environment at z=0. These are resolved with baryonic (dark matter) mass resolution of $8.5\\times10^4$ Msun ($4.5\\times10^5$ Msun) and $\\sim150$ pc of average spatial resolution in the star-forming regions: we therefore expand by many factors (2 orders of magnitude) the sample size of cosmologically-simulated analogs with similar ($\\times 10$ better) numerical resolution. The majority of TNG50 MW/M31 analogs at $z=0$ exhibit a bar, 60 per cent are star-forming, the sample includes 3 Local Group (LG)-like systems, and a number of galaxies host one or more satellites as massive as e.g. the Magellanic Clouds. Even within such a relatively narrow selection, TNG50 reveals a great diversity in galaxy and halo properties, as well as in past histories. Within the TNG50 sample, it is possible to identify several simulated galaxies whose integral and structural properties are consistent, one or more at a time, with those measured for the Galaxy and Andromeda. With this paper, we document and release a series of broadly applicable data products that build upon the IllustrisTNG public release and aim to facilitate easy access and analysis by public users. These include datacubes across snapshots ($0 \\le z \\le 7$) for each TNG50 MW/M31-like galaxy, and a series of value-added catalogs that will be continually expanded to provide a convenient and up to date community resource. |"
      ],
      "text/plain": [
       "[arXiv:2303.16217] Milky Way and Andromeda analogs from the TNG50 simulation\n",
       "\t<mark>A. Pillepich</mark>, et al."
      ]
     },
     "metadata": {},
     "output_type": "display_data"
    },
    {
     "data": {
      "text/markdown": [
       "\n",
       "|||\n",
       "|---:|:---|\n",
       "| [![arXiv](https://img.shields.io/badge/arXiv-arXiv:2303.16228-b31b1b.svg)](https://arxiv.org/abs/arXiv:2303.16228) | **Disk flaring with TNG50: diversity across Milky Way and M31 analogs**  |\n",
       "|| D. Sotillo-Ramos, et al. -- incl., <mark>A. Pillepich</mark> |\n",
       "|*Appeared on*| *2023-03-30*|\n",
       "|*Comments*| *Submitted to MNRAS. Main figures: 5, 13. See presentation and data release of TNG50 MW/M31 analogs by Pillepich et al. and see also Ramesh et al. on astro-ph today*|\n",
       "|**Abstract**| We use the sample of 198 Milky Way (MW) and Andromeda (M31) analogs from TNG50 to quantify the level of disk flaring predicted by a modern, high-resolution cosmological hydrodynamical simulation. Disk flaring refers to the increase of vertical stellar disk height with galactocentric distance. The TNG50 galaxies are selected to have stellar disky morphology, a stellar mass in the range of $M_* = 10^{10.5 - 11.2}~\\rm{M_{\\odot}}$, and a MW-like Mpc-scale environment at $z=0$. The stellar disks of such TNG50 MW/M31 analogs exhibit a wide diversity of structural properties, including a number of galaxies with disk scalelength and thin and thick disk scaleheights that are comparable to those measured or inferred for the Galaxy and Andromeda. With one set of physical ingredients, TNG50 returns a large variety of flaring flavours and amounts, also for mono-age stellar populations. With this paper, we hence propose a non-parametric characterization of flaring. The typical MW/M31 analogs exhibit disk scaleheights that are $1.5-2$ times larger in the outer than in the inner regions of the disk for both old and young stellar populations, but with a large galaxy-to-galaxy variation. Which stellar population flares more, and by how much, also varies from galaxy to galaxy. TNG50 de facto brackets existing observational constraints for the Galaxy and all previous numerical findings. A link between the amount of flaring and the $z=0$ global galaxy structural properties or merger history is complex. However, a connection between the scaleheights and the local stellar vertical kinematics and gravitational potential is clearly in place. |"
      ],
      "text/plain": [
       "[arXiv:2303.16228] Disk flaring with TNG50: diversity across Milky Way and M31 analogs\n",
       "\tD. Sotillo-Ramos, et al. -- incl., <mark>A. Pillepich</mark>"
      ]
     },
     "metadata": {},
     "output_type": "display_data"
    },
    {
     "data": {
      "text/markdown": [
       "## Failed papers"
      ],
      "text/plain": [
       "<IPython.core.display.Markdown object>"
      ]
     },
     "metadata": {},
     "output_type": "display_data"
    },
    {
     "data": {
      "text/markdown": [
       "\n",
       "|||\n",
       "|---:|:---|\n",
       "| [![arXiv](https://img.shields.io/badge/arXiv-arXiv:2303.16232-b31b1b.svg)](https://arxiv.org/abs/arXiv:2303.16232) | **Global dynamic scaling relations of HI-rich ultra-diffuse galaxies**  |\n",
       "|| H.-J. Hu, et al. -- incl., <mark>H.-X. Zhang</mark> |\n",
       "|*Appeared on*| *2023-03-30*|\n",
       "|*Comments*| *12 pages, 9 figures, 1 table, accepted for publication in ApJL*|\n",
       "|**Abstract**| The baryonic Tully-Fisher relation (BTFR), which connects the baryonic mass of galaxies with their circular velocities, has been validated across a wide range of galaxies, from dwarf galaxies to massive galaxies. Recent studies have found that several ultra-diffuse galaxies (UDGs) deviate significantly from the BTFR, indicating a galaxy population with abnormal dynamical properties. However, such studies were still confined within a small sample size. In this study, we used the 100% complete Arecibo Legacy Fast Arecibo L-band Feed Array (ALFALFA) to investigate the BTFR of 88 HI-rich UDGs (HUDGs), which is the largest UDG sample with dynamical information. We found that the HUDGs form a continuous distribution in the BTFR diagram, with high-velocity galaxies consistent with normal dwarf galaxies at 1 $\\sigma$ level, and low-velocity galaxies deviating from the BTFR, in line with that reported in the literature. We point out that the observed deviation may be subject to various selection effects or systemic biases. Nevertheless, we found that the significance of the deviation of HUDGs from the BTFR and TFR are different, i.e., they either deviate from the BTFR or from the TFR. Our result indicates that a high-gas fraction may play an important role in explaining the deviation of HUDGs from BTFR. |\n",
       "|<p style=\"color:green\"> **ERROR** </p>| <p style=\"color:green\">affiliation error: mpia.affiliation_verifications: 'Heidelberg' keyword not found.</p> |"
      ],
      "text/plain": [
       "<IPython.core.display.Markdown object>"
      ]
     },
     "metadata": {},
     "output_type": "display_data"
    },
    {
     "data": {
      "text/markdown": [
       "\n",
       "|||\n",
       "|---:|:---|\n",
       "| [![arXiv](https://img.shields.io/badge/arXiv-arXiv:2303.16775-b31b1b.svg)](https://arxiv.org/abs/arXiv:2303.16775) | **Fast radio burst energy function in the presence of $\\rm DM_{host}$  variation**  |\n",
       "|| Y. Li, et al. -- incl., <mark>X. Zhang</mark> |\n",
       "|*Appeared on*| *2023-03-30*|\n",
       "|*Comments*| *8 pages, 5 figures*|\n",
       "|**Abstract**| Fast radio bursts (FRBs) have been found in great numbers but the physical mechanism of these sources is still a mystery. The redshift evolutions of the FRB energy distribution function and the volumetric rate shed light on revealing the origin of the FRBs. However, such estimations rely on the dispersion measurement (DM)-redshift ($z$) relationship. A few of FRBs detected recently show large excess DM beyond the expectation from the cosmological and Milky Way contributions, which indicates large spread of DM from their host galaxies. In this work, we adopt the lognormal distributed $\\rm DM_{host}$ model and estimate the energy function using the non-repeating FRBs selected from the Canadian Hydrogen Intensity Mapping Experiment (CHIME)/FRB Catalog 1. By comparing the lognormal distributed $\\rm DM_{host}$ model to the constant $\\rm DM_{host}$ model, the FRB energy function results are consistent within the measurement uncertainty. We also estimate the volumetric rate of the non-repeating FRBs in three different redshift bins. The volumetric rate shows that the trend is consistent with the stellar-mass density redshift evolution. Since the lognormal distributed $\\rm DM_{host}$ model increases the measurement errors, the inference of FRBs tracking the stellar-mass density is nonetheless undermined. |\n",
       "|<p style=\"color:green\"> **ERROR** </p>| <p style=\"color:green\">affiliation error: mpia.affiliation_verifications: 'Heidelberg' keyword not found.</p> |"
      ],
      "text/plain": [
       "<IPython.core.display.Markdown object>"
      ]
     },
     "metadata": {},
     "output_type": "display_data"
    },
    {
     "data": {
      "text/markdown": [
       "\n",
       "|||\n",
       "|---:|:---|\n",
       "| [![arXiv](https://img.shields.io/badge/arXiv-arXiv:2303.16810-b31b1b.svg)](https://arxiv.org/abs/arXiv:2303.16810) | **Implications of GWTC-3 on primordial black holes from vacuum bubbles**  |\n",
       "|| <mark>J. He</mark>, H. Deng, Y.-S. Piao, J. Zhang |\n",
       "|*Appeared on*| *2023-03-30*|\n",
       "|*Comments*| **|\n",
       "|**Abstract**| The population of black holes inferred from the detection of gravitational waves by the LIGO-Virgo-KAGRA collaboration has revealed interesting features in the properties of black holes in the universe. We analyze the GWTC-3 dataset assuming the detected black holes have both astrophysical and primordial origins. In particular, we consider primordial black holes forming from vacuum bubbles that nucleate during inflation, with their mass distribution described by a broken power law. We find that more than half of the events could come from primordial black hole mergers. Astrophysical black holes are mainly responsible for the peak in mass distribution at $\\sim 10M_\\odot$ indicated by GWTC-3; whereas primordial black holes are responsible for the massive black holes, as well as the peak at $\\sim 30M_\\odot$. We also discuss the implications on the primordial black hole formation mechanism and the underlying inflationary model. |\n",
       "|<p style=\"color:green\"> **ERROR** </p>| <p style=\"color:green\">affiliation error: mpia.affiliation_verifications: 'Heidelberg' keyword not found.</p> |"
      ],
      "text/plain": [
       "<IPython.core.display.Markdown object>"
      ]
     },
     "metadata": {},
     "output_type": "display_data"
    },
    {
     "data": {
      "text/markdown": [
       "\n",
       "|||\n",
       "|---:|:---|\n",
       "| [![arXiv](https://img.shields.io/badge/arXiv-arXiv:2303.16849-b31b1b.svg)](https://arxiv.org/abs/arXiv:2303.16849) | **Dwarf Galaxy Discoveries from the KMTNet Supernova Program III. the  Milky-Way Analog NGC~2997 Group**  |\n",
       "|| T. J. Fan, et al. -- incl., <mark>T. S. Li</mark> |\n",
       "|*Appeared on*| *2023-03-30*|\n",
       "|*Comments*| **|\n",
       "|**Abstract**| We present the discovery of 48 new and the analysis of 55, including 7 previously discovered, dwarf galaxy candidates around the giant spiral galaxy NGC~2997 using deep $BVI$ images from the KMTNet Supernova Program. Their $V$-band central surface brightness and total absolute magnitudes range between 20.3--26.7 mag arcsec$^{-2}$ and --(8.02--17.69) mag, respectively, while the $I$-band effective radii are between 0.14 and 2.97 kpc. We obtain $\\alpha$ $\\simeq$ --1.43 $\\pm$ 0.02 for the faint-end slope of their luminosity function, comparable to previously measured values but shallower than theoretical predictions based on $\\Lambda$CDM models. The distance-independent distributions of their mass and color from the host galaxy NGC~2997 suggest that the group could be dynamically young, prior to the development of significant mass segregation or radial color gradients. The systematically bluer colors of the brighter candidates than the fainter ones indicate higher star formation activities in brighter members. We suggest that the higher-mass dwarf galaxies in the group have maintained star-formation activities by effectively retaining gas content, while environmental quenching is only effective for the lower-mass galaxies. The interpretation of early evolutionary stage of this group is also consistent with the overall morphological distribution of the dwarf galaxy candidates showing a lack of morphologically evolved candidates but a plethora of irregularly shaped ones. Our detection rate of dwarf galaxy candidates in the NGC~2997 group and their inferred star formation activities are largely comparable to those found in Milky Way analog systems from the SAGA survey within the magnitude limit M$_{V}$ $\\lesssim$ --13 mag, as well as those found in the ELVES survey. |\n",
       "|<p style=\"color:green\"> **ERROR** </p>| <p style=\"color:green\">affiliation error: mpia.affiliation_verifications: 'Heidelberg' keyword not found.</p> |"
      ],
      "text/plain": [
       "<IPython.core.display.Markdown object>"
      ]
     },
     "metadata": {},
     "output_type": "display_data"
    },
    {
     "data": {
      "text/markdown": [
       "\n",
       "|||\n",
       "|---:|:---|\n",
       "| [![arXiv](https://img.shields.io/badge/arXiv-arXiv:2303.16439-b31b1b.svg)](https://arxiv.org/abs/arXiv:2303.16439) | **NGC 6302: The Tempestuous Life of a Butterfly**  |\n",
       "|| B. Balick, et al. -- incl., <mark>A. Frank</mark> |\n",
       "|*Appeared on*| *2023-03-30*|\n",
       "|*Comments*| *17 pages, 3 figures, 1 table*|\n",
       "|**Abstract**| NGC 6302 (The ''Butterfly Nebula'') is an extremely energetic bipolar nebula whose central star is among the most massive, hottest, and presumably rapidly evolving of all central stars of planetary nebulae. Our proper-motion study of NGC 6302, based on excellent HST WFC3 images spanning 11 yr, has uncovered at least four different pairs of expanding internal lobes that were ejected at various times over the past two millennia at speeds ranging from 10 to 600 km s^-1. In addition, we find a pair of off-axis flows in constant motion at 760 +/- 100 km s^-1 within which bright [Fe II] feathers are conspicuous. Combining our results with those previously published, we find that the ensemble of flows has an ionized mass > 0.1 M_sun. The kinetic energy of the ensemble, 10^46 - 10^48 ergs, lies at the upper end of gravity-powered processes such as stellar mergers or mass accretion and is too large to be explained by stellar radiation pressure or convective ejections. The structure and dynamics of the Butterfly Nebula suggests that its central engine has had a remarkable history, and the highly unusual patterns of growth within its wings challenge our current understanding of late stellar mass ejection. |\n",
       "|<p style=\"color:red\"> **ERROR** </p>| <p style=\"color:red\">latex error not a gzip file</p> |"
      ],
      "text/plain": [
       "<IPython.core.display.Markdown object>"
      ]
     },
     "metadata": {},
     "output_type": "display_data"
    }
   ],
   "source": [
    "import datetime\n",
    "today = str(datetime.date.today())\n",
    "logfile = f\"_build/html/logs/log-{today}.md\"\n",
    "\n",
    "\n",
    "with open(logfile, 'w') as logs:\n",
    "    # Success\n",
    "    logs.write(f'# Arxiv on Deck 2: Logs - {today}\\n\\n')\n",
    "    logs.write(\"\"\"* Arxiv had {0:,d} new papers\\n\"\"\".format(len(new_papers)))\n",
    "    logs.write(\"\"\"    * {0:,d} with possible author matches\\n\\n\"\"\".format(len(candidates)))\n",
    "    logs.write(\"## Sucessful papers\\n\\n\")\n",
    "    display(Markdown(\"## Successful papers\"))\n",
    "    success = [k[0] for k in documents]\n",
    "    for candid in candidates:\n",
    "        if candid['identifier'].split(':')[-1] in success:\n",
    "            display(candid)\n",
    "            logs.write(candid.generate_markdown_text() + '\\n\\n')\n",
    "\n",
    "    ## failed\n",
    "    logs.write(\"## Failed papers\\n\\n\")\n",
    "    display(Markdown(\"## Failed papers\"))\n",
    "    failed = sorted(failed, key=lambda x: x[1])\n",
    "    current_reason = \"\"\n",
    "    for paper, reason in failed:\n",
    "        if 'affiliation' in reason:\n",
    "            color = 'green'\n",
    "        else:\n",
    "            color = 'red'\n",
    "        data = Markdown(\n",
    "                paper.generate_markdown_text() + \n",
    "                f'\\n|<p style=\"color:{color:s}\"> **ERROR** </p>| <p style=\"color:{color:s}\">{reason:s}</p> |'\n",
    "               )\n",
    "        if reason != current_reason:\n",
    "            logs.write(f'### {reason:s} \\n\\n')\n",
    "            current_reason = reason\n",
    "        logs.write(data.data + '\\n\\n')\n",
    "        \n",
    "        # only display here the important errors (all in logs)\n",
    "        # if color in ('red',):\n",
    "        display(data)"
   ]
  },
  {
   "cell_type": "markdown",
   "id": "472d20ee",
   "metadata": {
    "papermill": {
     "duration": 0.009249,
     "end_time": "2023-03-30T04:11:49.253088",
     "exception": false,
     "start_time": "2023-03-30T04:11:49.243839",
     "status": "completed"
    },
    "tags": []
   },
   "source": [
    "## Export documents\n",
    "\n",
    "We now write the .md files and export relevant images"
   ]
  },
  {
   "cell_type": "code",
   "execution_count": 6,
   "id": "d426aed9",
   "metadata": {
    "execution": {
     "iopub.execute_input": "2023-03-30T04:11:49.272512Z",
     "iopub.status.busy": "2023-03-30T04:11:49.271882Z",
     "iopub.status.idle": "2023-03-30T04:11:49.282777Z",
     "shell.execute_reply": "2023-03-30T04:11:49.281597Z"
    },
    "papermill": {
     "duration": 0.023643,
     "end_time": "2023-03-30T04:11:49.285220",
     "exception": false,
     "start_time": "2023-03-30T04:11:49.261577",
     "status": "completed"
    },
    "tags": []
   },
   "outputs": [],
   "source": [
    "def export_markdown_summary(md: str, md_fname:str, directory: str):\n",
    "    \"\"\"Export MD document and associated relevant images\"\"\"\n",
    "    import os\n",
    "    import shutil\n",
    "    import re\n",
    "\n",
    "    if (os.path.exists(directory) and not os.path.isdir(directory)):\n",
    "        raise RuntimeError(f\"a non-directory file exists with name {directory:s}\")\n",
    "\n",
    "    if (not os.path.exists(directory)):\n",
    "        print(f\"creating directory {directory:s}\")\n",
    "        os.mkdir(directory)\n",
    "\n",
    "    fig_fnames = (re.compile(r'\\[Fig.*\\]\\((.*)\\)').findall(md) + \n",
    "                  re.compile(r'\\<img src=\"([^>\\s]*)\"[^>]*/>').findall(md))\n",
    "    for fname in fig_fnames:\n",
    "        if 'http' in fname:\n",
    "            # No need to copy online figures\n",
    "            continue\n",
    "        destdir = os.path.join(directory, os.path.dirname(fname))\n",
    "        destfname = os.path.join(destdir, os.path.basename(fname))\n",
    "        try:\n",
    "            os.makedirs(destdir)\n",
    "        except FileExistsError:\n",
    "            pass\n",
    "        shutil.copy(fname, destfname)\n",
    "    with open(os.path.join(directory, md_fname), 'w') as fout:\n",
    "        fout.write(md)\n",
    "    print(\"exported in \", os.path.join(directory, md_fname))\n",
    "    [print(\"    + \" + os.path.join(directory,fk)) for fk in fig_fnames]"
   ]
  },
  {
   "cell_type": "code",
   "execution_count": 7,
   "id": "014d04a4",
   "metadata": {
    "execution": {
     "iopub.execute_input": "2023-03-30T04:11:49.304961Z",
     "iopub.status.busy": "2023-03-30T04:11:49.304009Z",
     "iopub.status.idle": "2023-03-30T04:11:49.351148Z",
     "shell.execute_reply": "2023-03-30T04:11:49.349633Z"
    },
    "papermill": {
     "duration": 0.059633,
     "end_time": "2023-03-30T04:11:49.353895",
     "exception": false,
     "start_time": "2023-03-30T04:11:49.294262",
     "status": "completed"
    },
    "tags": []
   },
   "outputs": [
    {
     "name": "stdout",
     "output_type": "stream",
     "text": [
      "exported in  _build/html/2303.16215.md\n",
      "    + _build/html/tmp_2303.16215/./figures/CloudTemperaturePdf.png\n",
      "    + _build/html/tmp_2303.16215/./figures/CloudDensityPdf.png\n",
      "    + _build/html/tmp_2303.16215/./figures/CloudMetallicityPdf.png\n",
      "    + _build/html/tmp_2303.16215/./figures/CloudPresRatPdf.png\n",
      "    + _build/html/tmp_2303.16215/./figures/CloudRadVelPdf.png\n",
      "    + _build/html/tmp_2303.16215/./figures/CloudRotVelNormPdf.png\n",
      "    + _build/html/tmp_2303.16215/./figures/CloudTempBackConHist.png\n",
      "    + _build/html/tmp_2303.16215/./figures/CloudDensBackConHist.png\n",
      "    + _build/html/tmp_2303.16215/./figures/CloudTotPresBackConHist.png\n",
      "    + _build/html/tmp_2303.16215/./figures/CloudThmPresBackConHist.png\n",
      "    + _build/html/tmp_2303.16215/./figures/CloudMetalBackConHist.png\n",
      "    + _build/html/tmp_2303.16215/./figures/CloudRadVelBackConHist.png\n",
      "    + _build/html/tmp_2303.16215/./figures/bhMassCbar.png\n",
      "    + _build/html/tmp_2303.16215/./figures/CloudMassPdf.png\n",
      "    + _build/html/tmp_2303.16215/./figures/CloudSizePdf.png\n",
      "    + _build/html/tmp_2303.16215/./figures/CloudSizeVsCloudMass.png\n",
      "    + _build/html/tmp_2303.16215/./figures/CloudSizeVsCloudDist_Num.png\n",
      "exported in  _build/html/2303.16217.md\n",
      "    + _build/html/tmp_2303.16217/./figures/fig_L35n2160TNG_StellarMasses_in_r30ckpc_SMBH_True_Masses.png\n",
      "    + _build/html/tmp_2303.16217/./figures/fig_L35n2160TNG_StellarMasses_in_r30ckpc_EddingtonRatio.png\n",
      "    + _build/html/tmp_2303.16217/./figures/fig_L35n2160TNG_B2T_PB2T_SubhaloBHMass_BulgesAndPseudoBulges.png\n",
      "    + _build/html/tmp_2303.16217/./figures/fig_L35n2160TNG_SFR_MsunPerYrs_in_r30pkpc_50Myrs_number_forBars_WithComp.png\n",
      "    + _build/html/tmp_2303.16217/./figures/fig_DSR_Mass_Rd_TNG50.png\n",
      "    + _build/html/tmp_2303.16217/./figures/fig_DSR_Mass_heights_8kpc_TNG50.png\n",
      "    + _build/html/tmp_2303.16217/./figures/fig_DSR_Mass_heights_3_7rd_TNG50.png\n",
      "exported in  _build/html/2303.16228.md\n",
      "    + _build/html/tmp_2303.16228/./figures/Flare_412kpc_TNG50.png\n",
      "    + _build/html/tmp_2303.16228/./figures/Flare_412kpc_TNG50_All_3Gyr.png\n",
      "    + _build/html/tmp_2303.16228/./figures/scatter_sigmaVoverSurfDens_vs_scaleHeight_1sech2_young.png\n",
      "    + _build/html/tmp_2303.16228/./figures/scatter_sigmaVoverSurfDens_vs_scaleHeight_1sech2_old.png\n",
      "    + _build/html/tmp_2303.16228/./figures/mosaic_previous_works.png\n"
     ]
    }
   ],
   "source": [
    "for paper_id, md in documents:\n",
    "    export_markdown_summary(md, f\"{paper_id:s}.md\", '_build/html/')"
   ]
  },
  {
   "cell_type": "markdown",
   "id": "f087a0a7",
   "metadata": {
    "papermill": {
     "duration": 0.008562,
     "end_time": "2023-03-30T04:11:49.375661",
     "exception": false,
     "start_time": "2023-03-30T04:11:49.367099",
     "status": "completed"
    },
    "tags": []
   },
   "source": [
    "## Display the papers\n",
    "\n",
    "Not necessary but allows for a quick check."
   ]
  },
  {
   "cell_type": "code",
   "execution_count": 8,
   "id": "fd25f625",
   "metadata": {
    "execution": {
     "iopub.execute_input": "2023-03-30T04:11:49.395809Z",
     "iopub.status.busy": "2023-03-30T04:11:49.395095Z",
     "iopub.status.idle": "2023-03-30T04:11:49.405360Z",
     "shell.execute_reply": "2023-03-30T04:11:49.404468Z"
    },
    "papermill": {
     "duration": 0.023403,
     "end_time": "2023-03-30T04:11:49.407665",
     "exception": false,
     "start_time": "2023-03-30T04:11:49.384262",
     "status": "completed"
    },
    "scrolled": false,
    "tags": []
   },
   "outputs": [
    {
     "data": {
      "text/markdown": [
       "<div class=\"macros\" style=\"visibility:hidden;\">\n",
       "$\\newcommand{\\ensuremath}{}$\n",
       "$\\newcommand{\\xspace}{}$\n",
       "$\\newcommand{\\object}[1]{\\texttt{#1}}$\n",
       "$\\newcommand{\\farcs}{{.}''}$\n",
       "$\\newcommand{\\farcm}{{.}'}$\n",
       "$\\newcommand{\\arcsec}{''}$\n",
       "$\\newcommand{\\arcmin}{'}$\n",
       "$\\newcommand{\\ion}[2]{#1#2}$\n",
       "$\\newcommand{\\textsc}[1]{\\textrm{#1}}$\n",
       "$\\newcommand{\\hl}[1]{\\textrm{#1}}$\n",
       "$\\newcommand{\\footnote}[1]{}$\n",
       "$\\newcommand{\\}{MSUN}$\n",
       "$\\newcommand{\\}{RVIR}$\n",
       "$\\newcommand{\\}{RTC}$\n",
       "$\\newcommand{\\}{MTC}$\n",
       "$\\newcommand{\\}{MSTC}$\n",
       "$\\newcommand{\\}{RFC}$\n",
       "$\\newcommand{\\}{MFC}$\n",
       "$\\newcommand{\\}{ROUT}$\n",
       "$\\newcommand{\\}{RHALF}$\n",
       "$\\newcommand{\\}{MVIR}$\n",
       "$\\newcommand{\\}{MHALO}$\n",
       "$\\newcommand{\\}{MSH}$\n",
       "$\\newcommand{\\}{MS}$\n",
       "$\\newcommand{\\}{AS}$\n",
       "$\\newcommand{\\}{ADM}$\n",
       "$\\newcommand{\\}{etal}$</div>\n",
       "\n",
       "\n",
       "\n",
       "<div id=\"title\">\n",
       "\n",
       "# The Circumgalactic Medium of Milky Way-like Galaxies in the TNG50 Simulation -- II: Cold, Dense Gas Clouds and High-Velocity Cloud Analogs\n",
       "\n",
       "</div>\n",
       "<div id=\"comments\">\n",
       "\n",
       "[![arXiv](https://img.shields.io/badge/arXiv-2303.16215-b31b1b.svg)](https://arxiv.org/abs/2303.16215)<mark>Appeared on: 2023-03-30</mark> -  _Accepted for publication (MNRAS). Part of a set of papers based on TNG50 MW/M31-like galaxies. Additional visuals and data products at www.tng-project.org/ramesh23b_\n",
       "\n",
       "</div>\n",
       "<div id=\"authors\">\n",
       "\n",
       "R. Ramesh, D. Nelson, <mark>A. Pillepich</mark>\n",
       "\n",
       "</div>\n",
       "<div id=\"abstract\">\n",
       "\n",
       "**Abstract:** We use the TNG50 simulation of the IllustrisTNG project to study cold, dense clouds of gas in the circumgalactic media (CGM) of Milky Way-like galaxies. We find that their CGM is typically filled with of order one hundred (thousand) reasonably (marginally) resolved clouds, possible analogs of high-velocity clouds (HVCs). There is a large variation in cloud abundance from galaxy to galaxy, and the physical properties of clouds that we explore -- mass, size, metallicity, pressure, and kinematics -- are also diverse. We quantify the distributions of cloud properties and cloud-background contrasts, providing cosmological inputs for idealized simulations. Clouds characteristically have sub-solar metallicities, diverse shapes, small overdensities ( $\\chi = n_{\\rm cold} / n_{\\rm hot} \\lesssim 10$ ), are mostly inflowing, and have sub-virial rotation. At TNG50 resolution, resolved clouds have median masses of $\\sim$ $10^6 \\rm{M_\\odot}$ and sizes of $\\sim$ $ 10$ kpc. Larger clouds are well converged numerically, while the abundance of the smallest clouds increases with resolution, as expected. In TNG50 MW-like haloes, clouds are slightly (severely) under-pressurised relative to their surroundings with respect to total (thermal) pressure, implying that magnetic fields may be important. Clouds are not distributed uniformly throughout the CGM, but are clustered around other clouds, often near baryon-rich satellite galaxies. This suggests that at least some clouds originate from satellites, via direct ram-pressure stripping or otherwise. Finally, we compare with observations of intermediate and high velocity clouds from the real Milky Way halo. TNG50 shows a similar cloud velocity distribution as observations, and predicts a significant population of currently difficult-to-detect low velocity clouds.\n",
       "\n",
       "</div>\n",
       "\n",
       "<div id=\"div_fig1\">\n",
       "\n",
       "<img src=\"tmp_2303.16215/./figures/CloudTemperaturePdf.png\" alt=\"Fig5.1\" width=\"16%\"/><img src=\"tmp_2303.16215/./figures/CloudDensityPdf.png\" alt=\"Fig5.2\" width=\"16%\"/><img src=\"tmp_2303.16215/./figures/CloudMetallicityPdf.png\" alt=\"Fig5.3\" width=\"16%\"/><img src=\"tmp_2303.16215/./figures/CloudPresRatPdf.png\" alt=\"Fig5.4\" width=\"16%\"/><img src=\"tmp_2303.16215/./figures/CloudRadVelPdf.png\" alt=\"Fig5.5\" width=\"16%\"/><img src=\"tmp_2303.16215/./figures/CloudRotVelNormPdf.png\" alt=\"Fig5.6\" width=\"16%\"/>\n",
       "\n",
       "**Figure 5. -** Distributions of physical properties of clouds in the CGM of TNG50 MW-like galaxies. In each panel, we show the median behaviour across the full sample of galaxies, split into three regions of the halo: inner halo (solid curves; $0.15 < r/\\rm{R_{200,c}} \\leq 0.4$), central halo (dashed curves; $0.4 < r/\\rm{R_{200,c}} \\leq 0.7$) and outer halo (dotted curves; $0.7 < r/\\rm{R_{200,c}} \\leq 1.0$). The two upper panels show the distributions of temperature (left) and density (right): clouds closer to the centre of the halo are cooler and denser than those farther away. The centre-left and right-panels show the distribution of cloud metallicity and magnetic to thermal pressure ratio ($\\beta^{-1}$), respectively: while clouds throughout the halo  mainly possess sub-solar metallicity and pressure ratios close to unity, clouds in the inner halo are the most likely to be highly enriched and dominated by magentic pressure. The bottom-left and -right panels show distributions of the radial velocity (in km/s) and rotational velocity (normalised by the virial velocity), respectively: a smaller fraction of clouds in the inner halo have dominant rotational motion and a greater fraction are either strongly inflowing or outflowing. Finally, the upper two rows also compare values derived in two ways: the mean value across the gas within each cloud (black; as in the lower panels), and the 90$^{\\rm{th}}$ percentile value of the gas properties within each cloud (red). The insets show the relation between these two values, demonstrating that TNG50 clouds exhibit inner inhomogeneities in their metal content and temperature-, density- and pressure-structures. (*fig:cloudBasicProp2*)\n",
       "\n",
       "</div>\n",
       "<div id=\"div_fig2\">\n",
       "\n",
       "<img src=\"tmp_2303.16215/./figures/CloudTempBackConHist.png\" alt=\"Fig8.1\" width=\"16%\"/><img src=\"tmp_2303.16215/./figures/CloudDensBackConHist.png\" alt=\"Fig8.2\" width=\"16%\"/><img src=\"tmp_2303.16215/./figures/CloudTotPresBackConHist.png\" alt=\"Fig8.3\" width=\"16%\"/><img src=\"tmp_2303.16215/./figures/CloudThmPresBackConHist.png\" alt=\"Fig8.4\" width=\"16%\"/><img src=\"tmp_2303.16215/./figures/CloudMetalBackConHist.png\" alt=\"Fig8.5\" width=\"16%\"/><img src=\"tmp_2303.16215/./figures/CloudRadVelBackConHist.png\" alt=\"Fig8.6\" width=\"16%\"/>\n",
       "\n",
       "**Figure 8. -** Distributions of contrast in properties of TNG50 MW-like clouds with respect to their intermediate and background layers, i.e. with respect to the local, ambient CGM gas. In each panel, distributions of contrasts corresponding to the former are shown in black, while the latter are shown in red. We show median PDFs for three distance regimes: inner halo (solid curves; $0.15 < r/\\rm{R_{200,c}} \\leq 0.4$), central halo (dashed; $0.4 < r/\\rm{R_{200,c}} \\leq 0.7$) and outer halo (dotted; $0.7 < r/\\rm{R_{200,c}} \\leq 1.0$). Contrasts of temeprature are shown in the top-left panel, density in the top-right, total pressure in the centre-left, thermal pressure in the centre-right, metallicity in the bottom-left, and radial velocity in the bottom-right. In all cases, contrasts are more enhanced with respect to the background as compared to the intermediate layer, both in terms of the median, and the width of the distributions. (*fig:cloudPropVsBackPropHist*)\n",
       "\n",
       "</div>\n",
       "<div id=\"div_fig3\">\n",
       "\n",
       "<img src=\"tmp_2303.16215/./figures/bhMassCbar.png\" alt=\"Fig4.1\" width=\"20%\"/><img src=\"tmp_2303.16215/./figures/CloudMassPdf.png\" alt=\"Fig4.2\" width=\"20%\"/><img src=\"tmp_2303.16215/./figures/CloudSizePdf.png\" alt=\"Fig4.3\" width=\"20%\"/><img src=\"tmp_2303.16215/./figures/CloudSizeVsCloudMass.png\" alt=\"Fig4.4\" width=\"20%\"/><img src=\"tmp_2303.16215/./figures/CloudSizeVsCloudDist_Num.png\" alt=\"Fig4.5\" width=\"20%\"/>\n",
       "\n",
       "**Figure 4. -** Properties of the clouds in the CGM of TNG50 MW-like galaxies: the top-left and top-right panels show the cloud mass and cloud size distributions, respectively. In each panel, the thin curves correspond to individual haloes, color coded by central SMBH mass. Solid black curves show the median PDF across the sample, and purple and yellow curves correspond to median distributions of the two extreme octile regions, splitting by SMBH mass. The top-left panel includes an inset where the mass function of clouds is compared to lower resolution versions (TNG50-2 and TNG50-3) of TNG50 (i.e. TNG50-1), demonstrating good resolution convergence above the resolution limit threshold of each simulation. The top-right panel shows an inset corresponding to the relation between the major-to-minor axis ratio ($q$) and cloud size. In the bottom-left panel, we show the cloud mass-size relation, with the background colored by the average number of gas cells per gas cloud, and the bottom right panel shows the cloud distance-size relation, with the colored instead showing the total number of clouds in each given pixel. The most abundant clouds have masses of $\\sim 10^{6}  \\rm{M_\\odot}$ and sizes of $\\sim 10$ kpc. Lower mass clouds, with smaller sizes, tend to reside at smaller galactocentric distances. (*fig:cloudBasicProp1*)\n",
       "\n",
       "</div><div id=\"qrcode\"><img src=https://api.qrserver.com/v1/create-qr-code/?size=100x100&data=\"https://arxiv.org/abs/2303.16215\"></div>"
      ],
      "text/plain": [
       "<IPython.core.display.Markdown object>"
      ]
     },
     "metadata": {},
     "output_type": "display_data"
    },
    {
     "data": {
      "text/markdown": [
       ", together with the escape velocity from a point mass of $10^{12} \\MSUN$ for the MW and $10^{12.4} \\MSUN$ for M31 (dotted curves). (*fig:sats*)\n",
       "\n",
       "</div>\n",
       "<div id=\"div_fig2\">\n",
       "\n",
       "<img src=\"tmp_2303.16217/./figures/fig_L35n2160TNG_StellarMasses_in_r30ckpc_SMBH_True_Masses.png\" alt=\"Fig19.1\" width=\"25%\"/><img src=\"tmp_2303.16217/./figures/fig_L35n2160TNG_StellarMasses_in_r30ckpc_EddingtonRatio.png\" alt=\"Fig19.2\" width=\"25%\"/><img src=\"tmp_2303.16217/./figures/fig_L35n2160TNG_B2T_PB2T_SubhaloBHMass_BulgesAndPseudoBulges.png\" alt=\"Fig19.3\" width=\"25%\"/><img src=\"tmp_2303.16217/./figures/fig_L35n2160TNG_SFR_MsunPerYrs_in_r30pkpc_50Myrs_number_forBars_WithComp.png\" alt=\"Fig19.4\" width=\"25%\"/>\n",
       "\n",
       "**Figure 19. -** ** The fundamental characteristics of the central regions of TNG50 MW/M31 galaxies.** In the top panels, we showcase the SMBH populations of MW/M31 analogs (blue circles), including their mass (left) and their gas accretion rates, i.e. Eddington ratios (right). We indicate with circles (crosses) the SMBHs that are in the so-called thermal (kinetic) feedback mode at $z=0$. In the bottom left, we quantify the bulge-to-total stellar mass ratio of the sample, contrasted to the stellar mass ratio of pseudo-bulges and connected to the mass of the central SMBHs (colors). The bottom right panel shows that at least 2/3 of TNG50 MW/M31-like galaxies exhibit a bar. (*fig:center*)\n",
       "\n",
       "</div>\n",
       "<div id=\"div_fig3\">\n",
       "\n",
       "<img src=\"tmp_2303.16217/./figures/fig_DSR_Mass_Rd_TNG50.png\" alt=\"Fig17.1\" width=\"33%\"/><img src=\"tmp_2303.16217/./figures/fig_DSR_Mass_heights_8kpc_TNG50.png\" alt=\"Fig17.2\" width=\"33%\"/><img src=\"tmp_2303.16217/./figures/fig_DSR_Mass_heights_3_7rd_TNG50.png\" alt=\"Fig17.3\" width=\"33%\"/>\n",
       "\n",
       "**Figure 17. -** **The structural properties of the stellar disks of TNG50 MW/M31 galaxies.** We showcase disk scalelengths (top panel) and disk scaleheights (left and right bottom panels) as a function of the galaxy stellar mass, for the 198 MW/M31-like galaxies at $z=0$.\n",
       "The scaleheights are evaluated at cylindrical shells located from the center at $7-9$ kpc (bottom left) and at $(2.7-4.7)\\times$ the scalelength (bottom right, respectively): see text details.\n",
       "The magenta and orange rectangles in the top panel represent observational estimates of the scalelength for the Galaxy \\citep[1.7-2.9 kpc,][]{Hammer.2007,Juric.2008,Bovy.2013} and for Andromeda \\citep[4.8--6.8 kpc,][]{Worthey.2005,Barmby.2006,Hammer.2007}, respectively.\n",
       "In the bottom panels we show the scaleheights of the geometrically thin (empty symbols) and geometrically thick (full symbols) stellar disks; two sets of rectangles indicate the values of thin and thick disk inferred for the Milky Way \\citep[magenta:][]{Gilmore.1983, Siegel.2002, Juric.2008, Rix.2013, Bland-Hawthorn.2016} and for Andromeda \\citep[orange:][]{Collins.2011}. To guide the eye the thin and thick disk of each galaxy are also connected with a solid line. A number of TNG50 galaxies are identified as MW and M31 analogs, according to their mass, disk length and disk height values: their SubhaloIDs are given in the text. (*fig:stellardisks*)\n",
       "\n",
       "</div><div id=\"qrcode\"><img src=https://api.qrserver.com/v1/create-qr-code/?size=100x100&data=\"https://arxiv.org/abs/2303.16217\"></div>"
      ],
      "text/plain": [
       "<IPython.core.display.Markdown object>"
      ]
     },
     "metadata": {},
     "output_type": "display_data"
    },
    {
     "data": {
      "text/markdown": [
       "<div class=\"macros\" style=\"visibility:hidden;\">\n",
       "$\\newcommand{\\ensuremath}{}$\n",
       "$\\newcommand{\\xspace}{}$\n",
       "$\\newcommand{\\object}[1]{\\texttt{#1}}$\n",
       "$\\newcommand{\\farcs}{{.}''}$\n",
       "$\\newcommand{\\farcm}{{.}'}$\n",
       "$\\newcommand{\\arcsec}{''}$\n",
       "$\\newcommand{\\arcmin}{'}$\n",
       "$\\newcommand{\\ion}[2]{#1#2}$\n",
       "$\\newcommand{\\textsc}[1]{\\textrm{#1}}$\n",
       "$\\newcommand{\\hl}[1]{\\textrm{#1}}$\n",
       "$\\newcommand{\\footnote}[1]{}$\n",
       "$\\newcommand{\\bea}{\\begin{eqnarray}}$\n",
       "$\\newcommand{\\eea}{\\end{eqnarray}}$\n",
       "$\\newcommand{\\arraystretch}{1.2}$\n",
       "$\\newcommand{\\Ms}{{\\rm M}_\\odot}$\n",
       "$\\newcommand{\\}{MS}{M_{\\rm stars}}$\n",
       "$\\newcommand{\\}{RS}{R_{\\rm stars,1/2}}$\n",
       "$\\newcommandinecolor{portlandorange}{rgb}{1.0, 0.35, 0.21}$\n",
       "$\\newcommand{\\md}{\\color{portlandorange}}$\n",
       "$\\newcommand{\\ap}{\\color{magenta}}$\n",
       "$\\newcommand{\\apq}{\\color{red}}$\n",
       "$\\newcommand{\\ch}{\\color{cyan}}$\n",
       "$\\newcommandinecolor{othergreen}{rgb}{0.0, 0.7, 0.0}$\n",
       "$\\newcommand{\\dsr}{\\color{othergreen}}$\n",
       "$\\newcommand{\\dsrq}{\\color{orange}}$\n",
       "$\\newcommand{\\nf}{\\color{purple}}$\n",
       "$\\newcommand{\\nfq}{\\color{violet}}$\n",
       "$\\title[Flaring of stellar disks in TNG50 MW/M31-like galaxies]{Disk flaring with TNG50: diversity across Milky Way and M31 analogs}$\n",
       "$\\author[Sotillo-Ramos et al.]{Diego Sotillo-Ramos,^{1}\\thanks{E-mail: sotillo@mpia.de},$\n",
       "$Martina Donnari^{1}, Annalisa Pillepich^{1}, Neige Frankel^{2}, Dylan Nelson^{3},$\n",
       "$\\newauthor Volker Springel^{4}, and Lars Hernquist^{5} \\^{1} Max-Planck-Institut für Astronomie, Königstuhl 17, 69117 Heidelberg, Germany\\^{2} Canadian Institute for Theoretical Astrophysics, University of Toronto, 60 St. George Street, Toronto, ON M5S 3H8, Canada\\^{3} Universität Heidelberg, Zentrum für Astronomie, Institut für theoretische Astrophysik, Albert-Ueberle-Str. 2, 69120 Heidelberg, Germany\\^{4} Max Planck Institut für Astrophysik, Karl-Schwarzschild-Stra\\ss e 1, D-85748 Garching bei München, Germany\\^{5} Center for Astrophysics | Harvard \\& Smithsonian, 6P Garden St., Cambridge, MA 02138, USA$\n",
       "$}$\n",
       "$\\begin{document}$\n",
       "$\\maketitle$\n",
       "$\\begin{abstract}$\n",
       "$We use the sample of 198 Milky Way (MW) and Andromeda (M31) analogs from TNG50 to quantify the level of disk flaring predicted by a modern, high-resolution cosmological hydrodynamical simulation. Disk flaring refers to the increase of vertical stellar disk height with galactocentric distance. The TNG50 galaxies are selected to have stellar disky morphology, a stellar mass in the range of M_* = 10^{10.5 - 11.2}~\\Ms, and a MW-like Mpc-scale environment at z=0.$\n",
       "$The stellar disks of such TNG50 MW/M31 analogs exhibit a wide diversity of structural properties, including a number of galaxies with disk scalelength and thin and thick disk scaleheights that are comparable to those measured or inferred for the Galaxy and Andromeda.$\n",
       "$With one set of physical ingredients, TNG50 returns a large variety of  flaring flavours and amounts, also for mono-age stellar populations. With this paper, we hence propose a non-parametric characterization of flaring. The typical MW/M31 analogs exhibit disk scaleheights that are 1.5-2 times larger in the outer than in the inner regions of the disk for both old and young stellar populations, but with a large galaxy-to-galaxy variation. Which stellar population flares more, and by how much, also varies from galaxy to galaxy. TNG50 de facto brackets existing observational constraints for the Galaxy and all previous numerical findings. A link between the amount of flaring and the z=0 global galaxy structural properties or merger history is complex. However, a connection between the scaleheights and the local stellar vertical kinematics and gravitational potential is clearly in place.$\n",
       "$\\end{abstract}$\n",
       "$\\begin{keywords}$\n",
       "$methods: numerical --- galaxies: formation  --- Galaxy: disc --- Galaxy: evolution --- Galaxy: structure$\n",
       "$\\end{keywords}$\n",
       "$\\n\\end{document}\\end{eqnarray}}$\n",
       "$\\newcommand{\\eea}{\\end{eqnarray}}$\n",
       "$\\newcommand{\\Ms}{{\\rm M}_\\odot}$\n",
       "$\\newcommand{\\md}{\\color{portlandorange}}$\n",
       "$\\newcommand{\\ap}{\\color{magenta}}$\n",
       "$\\newcommand{\\apq}{\\color{red}}$\n",
       "$\\newcommand{\\ch}{\\color{cyan}}$\n",
       "$\\newcommand{\\dsr}{\\color{othergreen}}$\n",
       "$\\newcommand{\\dsrq}{\\color{orange}}$\n",
       "$\\newcommand{\\nf}{\\color{purple}}$\n",
       "$\\newcommand{\\nfq}{\\color{violet}}$\n",
       "$\\newcommand{\\arraystretch}{1.2}$\n",
       "$\\newcommand{\\mh}{M_\\bullet}$\n",
       "$\\newcommand{\\ead}{\\cal E}$\n",
       "$\\newcommand{\\mh}{M_\\bullet}$\n",
       "$\\newcommand{\\ead}{\\cal E}$\n",
       "$\\newcommand{\\}{MS}$\n",
       "$\\newcommand{\\}{RS}$</div>\n",
       "\n",
       "\n",
       "\n",
       "<div id=\"title\">\n",
       "\n",
       "# Disk flaring with TNG50: diversity across Milky Way and M31 analogs\n",
       "\n",
       "</div>\n",
       "<div id=\"comments\">\n",
       "\n",
       "[![arXiv](https://img.shields.io/badge/arXiv-2303.16228-b31b1b.svg)](https://arxiv.org/abs/2303.16228)<mark>Appeared on: 2023-03-30</mark> -  _Submitted to MNRAS. Main figures: 5, 13. See presentation and data release of TNG50 MW/M31 analogs by Pillepich et al. and see also Ramesh et al. on astro-ph today_\n",
       "\n",
       "</div>\n",
       "<div id=\"authors\">\n",
       "\n",
       "D. Sotillo-Ramos, et al. -- incl., <mark>A. Pillepich</mark>\n",
       "\n",
       "</div>\n",
       "<div id=\"abstract\">\n",
       "\n",
       "**Abstract:** We use the sample of 198 Milky Way (MW) and Andromeda (M31) analogs from TNG50 to quantify the level of disk flaring predicted by a modern, high-resolution cosmological hydrodynamical simulation. Disk flaring refers to the increase of vertical stellar disk height with galactocentric distance. The TNG50 galaxies are selected to have stellar disky morphology, a stellar mass in the range of $M_* = 10^{10.5 - 11.2} \\Ms$ , and a MW-like Mpc-scale environment at $z=0$ .The stellar disks of such TNG50 MW/M31 analogs exhibit a wide diversity of structural properties, including a number of galaxies with disk scalelength and thin and thick disk scaleheights that are comparable to those measured or inferred for the Galaxy and Andromeda.With one set of physical ingredients, TNG50 returns a large variety of  flaring flavours and amounts, also for mono-age stellar populations. With this paper, we hence propose a non-parametric characterization of flaring. The typical MW/M31 analogs exhibit disk scaleheights that are $1.5-2$ times larger in the outer than in the inner regions of the disk for both old and young stellar populations, but with a large galaxy-to-galaxy variation. Which stellar population flares more, and by how much, also varies from galaxy to galaxy. TNG50 de facto brackets existing observational constraints for the Galaxy and all previous numerical findings. A link between the amount of flaring and the $z=0$ global galaxy structural properties or merger history is complex. However, a connection between the scaleheights and the local stellar vertical kinematics and gravitational potential is clearly in place.\n",
       "\n",
       "</div>\n",
       "\n",
       "<div id=\"div_fig1\">\n",
       "\n",
       "<img src=\"tmp_2303.16228/./figures/Flare_412kpc_TNG50.png\" alt=\"Fig14.1\" width=\"50%\"/><img src=\"tmp_2303.16228/./figures/Flare_412kpc_TNG50_All_3Gyr.png\" alt=\"Fig14.2\" width=\"50%\"/>\n",
       "\n",
       "**Figure 14. -** **Flaring of TNG50 MW/M31 analogs in comparison to the results of other cosmological MW-like galaxy simulations**. We show again the flaring of old and young stars for TNG50 MW/M31 analogs in comparison to, on the left, simulations from \\citet[][VINTERGATAN: thin and thick crosses, with young stellar populations of 2-3 Gyr and 3-4 Gyr, respectively]{2021Agertz}, \\citet[][Latte: diamonds]{2017Ma}, and \\citet[][NIHAO-UHD: plus symbols]{2020Buck}; on the right, simulations from the Auriga project \\citep{2017Grand}. The magenta area denotes the stellar flaring of young stars of the Milky Way extrapolated from \\citet{2019Ting}, as in Fig. \\ref{fig:young_old}.\n",
       "We note that in all the simulation models used for this comparison (except for Latte that uses ${\\rm sech}^2$), the scaleheight of the mono-age stellar populations in the disk is evaluated from a single exponential fit. In these plots, the heights are hence measured using exponential profiles also for TNG50.\n",
       " (*fig:tng50vsothers*)\n",
       "\n",
       "</div>\n",
       "<div id=\"div_fig2\">\n",
       "\n",
       "<img src=\"tmp_2303.16228/./figures/scatter_sigmaVoverSurfDens_vs_scaleHeight_1sech2_young.png\" alt=\"Fig10.1\" width=\"50%\"/><img src=\"tmp_2303.16228/./figures/scatter_sigmaVoverSurfDens_vs_scaleHeight_1sech2_old.png\" alt=\"Fig10.2\" width=\"50%\"/>\n",
       "\n",
       "**Figure 10. -** **Relationship between stellar heights and stellar kinematics for TNG50 MW/M31-like galaxies**. We plot the ratio between the squared local stellar vertical velocity dispersion and the stellar surface density vs. stellar disk scaleheight, for young (left) and old (right) stellar populations. We do so at different locations within the stellar disk.\n",
       "The dashed line defines the linear correspondence that is  expected for an idealized self-gravitating disk. (*fig:young_old_sigmaVSurfDens*)\n",
       "\n",
       "</div>\n",
       "<div id=\"div_fig3\">\n",
       "\n",
       "<img src=\"tmp_2303.16228/./figures/mosaic_previous_works.png\" alt=\"Fig13\" width=\"100%\"/>\n",
       "\n",
       "**Figure 13. -** **Stellar age distributions in the MW/M31 midplane**: vertical distance from the midplane as a function of galactocentric distance with the color code representing the mean or median stellar age. Here we compare observations from \\citet{2016Ness,2017Xiang,2019Feuillet}(left), simulations from \\citet{2017Ma,2018Navarro,2021Agertz}(center), and a sample of five TNG50 MW/M31 analogs (right). Barring those in the right column, the plots are replicated from the respective research studies without modification. (*fig:flaring_obs*)\n",
       "\n",
       "</div><div id=\"qrcode\"><img src=https://api.qrserver.com/v1/create-qr-code/?size=100x100&data=\"https://arxiv.org/abs/2303.16228\"></div>"
      ],
      "text/plain": [
       "<IPython.core.display.Markdown object>"
      ]
     },
     "metadata": {},
     "output_type": "display_data"
    }
   ],
   "source": [
    "[display(Markdown(k[1])) for k in documents];"
   ]
  },
  {
   "cell_type": "markdown",
   "id": "873873a4",
   "metadata": {
    "papermill": {
     "duration": 0.009718,
     "end_time": "2023-03-30T04:11:49.427526",
     "exception": false,
     "start_time": "2023-03-30T04:11:49.417808",
     "status": "completed"
    },
    "tags": []
   },
   "source": [
    "# Create HTML index"
   ]
  },
  {
   "cell_type": "code",
   "execution_count": 9,
   "id": "cf665672",
   "metadata": {
    "execution": {
     "iopub.execute_input": "2023-03-30T04:11:49.450975Z",
     "iopub.status.busy": "2023-03-30T04:11:49.449489Z",
     "iopub.status.idle": "2023-03-30T04:11:49.465293Z",
     "shell.execute_reply": "2023-03-30T04:11:49.464047Z"
    },
    "papermill": {
     "duration": 0.030997,
     "end_time": "2023-03-30T04:11:49.467601",
     "exception": false,
     "start_time": "2023-03-30T04:11:49.436604",
     "status": "completed"
    },
    "tags": []
   },
   "outputs": [
    {
     "name": "stdout",
     "output_type": "stream",
     "text": [
      "180  publications files modified in the last 7 days.\n"
     ]
    }
   ],
   "source": [
    "from datetime import datetime, timedelta, timezone\n",
    "from glob import glob\n",
    "import os\n",
    "\n",
    "files = glob('_build/html/*.md')\n",
    "days = 7\n",
    "now = datetime.today()\n",
    "res = []\n",
    "for fk in files:\n",
    "    stat_result = os.stat(fk).st_ctime\n",
    "    modified = datetime.fromtimestamp(stat_result, tz=timezone.utc).replace(tzinfo=None)\n",
    "    delta = now.today() - modified\n",
    "    if delta <= timedelta(days=days):\n",
    "        res.append((delta.seconds, fk))\n",
    "res = [k[1] for k in reversed(sorted(res, key=lambda x:x[1]))]\n",
    "npub = len(res)\n",
    "print(len(res), f\" publications files modified in the last {days:d} days.\")\n",
    "# [ print('\\t', k) for k in res ];"
   ]
  },
  {
   "cell_type": "code",
   "execution_count": 10,
   "id": "015de740",
   "metadata": {
    "execution": {
     "iopub.execute_input": "2023-03-30T04:11:49.489761Z",
     "iopub.status.busy": "2023-03-30T04:11:49.489388Z",
     "iopub.status.idle": "2023-03-30T04:11:49.515920Z",
     "shell.execute_reply": "2023-03-30T04:11:49.514937Z"
    },
    "papermill": {
     "duration": 0.040129,
     "end_time": "2023-03-30T04:11:49.518376",
     "exception": false,
     "start_time": "2023-03-30T04:11:49.478247",
     "status": "completed"
    },
    "tags": []
   },
   "outputs": [
    {
     "name": "stdout",
     "output_type": "stream",
     "text": [
      "8  publications in the last 7 days.\n"
     ]
    }
   ],
   "source": [
    "import datetime\n",
    "from glob import glob\n",
    "\n",
    "def get_last_n_days(lst, days=1):\n",
    "    \"\"\" Get the documents from the last n days \"\"\"\n",
    "    sorted_lst = sorted(lst, key=lambda x: x[1], reverse=True)\n",
    "    for fname, date in sorted_lst:\n",
    "        if date >= str(datetime.date.today() - datetime.timedelta(days=days)):\n",
    "            yield fname\n",
    "\n",
    "def extract_appearance_dates(lst_file):\n",
    "    dates = []\n",
    "\n",
    "    def get_date(line):\n",
    "        return line\\\n",
    "            .split('Appeared on:')[-1]\\\n",
    "            .split('</mark>')[0].strip()\n",
    "\n",
    "    for fname in lst:\n",
    "        with open(fname, 'r') as f:\n",
    "            found_date = False\n",
    "            for line in f:\n",
    "                if not found_date:\n",
    "                    if \"Appeared on\" in line:\n",
    "                        found_date = True\n",
    "                        dates.append((fname, get_date(line)))\n",
    "                else:\n",
    "                    break\n",
    "    return dates\n",
    "\n",
    "from glob import glob\n",
    "lst = glob('_build/html/*md')\n",
    "days = 7\n",
    "dates = extract_appearance_dates(lst)\n",
    "res = list(get_last_n_days(dates, days))\n",
    "npub = len(res)\n",
    "print(len(res), f\" publications in the last {days:d} days.\")"
   ]
  },
  {
   "cell_type": "code",
   "execution_count": 11,
   "id": "52ca0208",
   "metadata": {
    "execution": {
     "iopub.execute_input": "2023-03-30T04:11:49.540542Z",
     "iopub.status.busy": "2023-03-30T04:11:49.540165Z",
     "iopub.status.idle": "2023-03-30T04:11:49.549219Z",
     "shell.execute_reply": "2023-03-30T04:11:49.548254Z"
    },
    "papermill": {
     "duration": 0.022606,
     "end_time": "2023-03-30T04:11:49.551644",
     "exception": false,
     "start_time": "2023-03-30T04:11:49.529038",
     "status": "completed"
    },
    "scrolled": false,
    "tags": []
   },
   "outputs": [],
   "source": [
    "def create_carousel(npub=4):\n",
    "    \"\"\" Generate the HTML code for a carousel with `npub` slides \"\"\"\n",
    "    carousel = [\"\"\"  <div class=\"carousel\" \"\"\",\n",
    "                \"\"\"       data-flickity='{ \"autoPlay\": 10000, \"adaptiveHeight\": true, \"resize\": true, \"wrapAround\": true, \"pauseAutoPlayOnHover\": true, \"groupCells\": 1 }' id=\"asyncTypeset\">\"\"\"\n",
    "                ]\n",
    "    \n",
    "    item_str = \"\"\"    <div class=\"carousel-cell\"> <div id=\"slide{k}\" class=\"md_view\">Content {k}</div> </div>\"\"\"\n",
    "    for k in range(1, npub + 1):\n",
    "        carousel.append(item_str.format(k=k))\n",
    "    carousel.append(\"  </div>\")\n",
    "    return '\\n'.join(carousel)\n",
    "\n",
    "def create_grid(npub=4):\n",
    "    \"\"\" Generate the HTML code for a flat grid with `npub` slides \"\"\"\n",
    "    grid = [\"\"\"  <div class=\"grid\"> \"\"\",\n",
    "                ]\n",
    "    \n",
    "    item_str = \"\"\"    <div class=\"grid-item\"> <div id=\"slide{k}\" class=\"md_view\">Content {k}</div> </div>\"\"\"\n",
    "    for k in range(1, npub + 1):\n",
    "        grid.append(item_str.format(k=k))\n",
    "    grid.append(\"  </div>\")\n",
    "    return '\\n'.join(grid)"
   ]
  },
  {
   "cell_type": "code",
   "execution_count": 12,
   "id": "a6eac5b6",
   "metadata": {
    "execution": {
     "iopub.execute_input": "2023-03-30T04:11:49.572265Z",
     "iopub.status.busy": "2023-03-30T04:11:49.571955Z",
     "iopub.status.idle": "2023-03-30T04:11:49.583708Z",
     "shell.execute_reply": "2023-03-30T04:11:49.579961Z"
    },
    "papermill": {
     "duration": 0.025689,
     "end_time": "2023-03-30T04:11:49.586705",
     "exception": false,
     "start_time": "2023-03-30T04:11:49.561016",
     "status": "completed"
    },
    "scrolled": false,
    "tags": []
   },
   "outputs": [],
   "source": [
    "carousel = create_carousel(npub)\n",
    "docs = ', '.join(['\"{0:s}\"'.format(k.split('/')[-1]) for k in res])\n",
    "slides = ', '.join([f'\"slide{k}\"' for k in range(1, npub + 1)])\n",
    "\n",
    "with open(\"daily_template.html\", \"r\") as tpl:\n",
    "    page = tpl.read()\n",
    "    page = page.replace(\"{%-- carousel:s --%}\", carousel)\\\n",
    "               .replace(\"{%-- suptitle:s --%}\",  \"7-day archives\" )\\\n",
    "               .replace(\"{%-- docs:s --%}\", docs)\\\n",
    "               .replace(\"{%-- slides:s --%}\", slides)\n",
    "    \n",
    "with open(\"_build/html/index_7days.html\", 'w') as fout:\n",
    "    fout.write(page)"
   ]
  },
  {
   "cell_type": "code",
   "execution_count": 13,
   "id": "adc1a1ec",
   "metadata": {
    "execution": {
     "iopub.execute_input": "2023-03-30T04:11:49.607905Z",
     "iopub.status.busy": "2023-03-30T04:11:49.607475Z",
     "iopub.status.idle": "2023-03-30T04:11:49.621080Z",
     "shell.execute_reply": "2023-03-30T04:11:49.620085Z"
    },
    "papermill": {
     "duration": 0.027076,
     "end_time": "2023-03-30T04:11:49.623517",
     "exception": false,
     "start_time": "2023-03-30T04:11:49.596441",
     "status": "completed"
    },
    "tags": []
   },
   "outputs": [
    {
     "name": "stdout",
     "output_type": "stream",
     "text": [
      "4  publications in the last day.\n"
     ]
    }
   ],
   "source": [
    "# redo for today\n",
    "days = 1\n",
    "res = list(get_last_n_days(dates, days))\n",
    "npub = len(res)\n",
    "print(len(res), f\" publications in the last day.\")\n",
    "\n",
    "carousel = create_carousel(npub)\n",
    "docs = ', '.join(['\"{0:s}\"'.format(k.split('/')[-1]) for k in res])\n",
    "slides = ', '.join([f'\"slide{k}\"' for k in range(1, npub + 1)])\n",
    "\n",
    "with open(\"daily_template.html\", \"r\") as tpl:\n",
    "    page = tpl.read()\n",
    "    page = page.replace(\"{%-- carousel:s --%}\", carousel)\\\n",
    "               .replace(\"{%-- suptitle:s --%}\",  \"Daily\" )\\\n",
    "               .replace(\"{%-- docs:s --%}\", docs)\\\n",
    "               .replace(\"{%-- slides:s --%}\", slides)\n",
    "    \n",
    "# print(carousel, docs, slides)\n",
    "# print(page)\n",
    "with open(\"_build/html/index_daily.html\", 'w') as fout:\n",
    "    fout.write(page)"
   ]
  },
  {
   "cell_type": "code",
   "execution_count": 14,
   "id": "00eece82",
   "metadata": {
    "execution": {
     "iopub.execute_input": "2023-03-30T04:11:49.645281Z",
     "iopub.status.busy": "2023-03-30T04:11:49.644927Z",
     "iopub.status.idle": "2023-03-30T04:11:49.657591Z",
     "shell.execute_reply": "2023-03-30T04:11:49.656690Z"
    },
    "papermill": {
     "duration": 0.025837,
     "end_time": "2023-03-30T04:11:49.659960",
     "exception": false,
     "start_time": "2023-03-30T04:11:49.634123",
     "status": "completed"
    },
    "scrolled": false,
    "tags": []
   },
   "outputs": [
    {
     "name": "stdout",
     "output_type": "stream",
     "text": [
      "6  6 publications selected.\n"
     ]
    }
   ],
   "source": [
    "# Create the flat grid of the last N papers (fixed number regardless of dates)\n",
    "from itertools import islice \n",
    "\n",
    "npub = 6\n",
    "res = [k[0] for k in (islice(reversed(sorted(dates, key=lambda x: x[1])), 6))]\n",
    "print(len(res), f\" {npub} publications selected.\")\n",
    "\n",
    "grid = create_grid(npub)\n",
    "docs = ', '.join(['\"{0:s}\"'.format(k.split('/')[-1]) for k in res])\n",
    "slides = ', '.join([f'\"slide{k}\"' for k in range(1, npub + 1)])\n",
    "\n",
    "with open(\"grid_template.html\", \"r\") as tpl:\n",
    "    page = tpl.read()\n",
    "    page = page.replace(\"{%-- grid-content:s --%}\", grid)\\\n",
    "               .replace(\"{%-- suptitle:s --%}\",  f\"Last {npub:,d} papers\" )\\\n",
    "               .replace(\"{%-- docs:s --%}\", docs)\\\n",
    "               .replace(\"{%-- slides:s --%}\", slides)\n",
    "    \n",
    "# print(grid, docs, slides)\n",
    "# print(page)\n",
    "with open(\"_build/html/index_npub_grid.html\", 'w') as fout:\n",
    "    fout.write(page)"
   ]
  }
 ],
 "metadata": {
  "kernelspec": {
   "display_name": "Python 3 (ipykernel)",
   "language": "python",
   "name": "python3"
  },
  "language_info": {
   "codemirror_mode": {
    "name": "ipython",
    "version": 3
   },
   "file_extension": ".py",
   "mimetype": "text/x-python",
   "name": "python",
   "nbconvert_exporter": "python",
   "pygments_lexer": "ipython3",
   "version": "3.9.16"
  },
  "papermill": {
   "default_parameters": {},
   "duration": 392.445069,
   "end_time": "2023-03-30T04:11:50.007603",
   "environment_variables": {},
   "exception": null,
   "input_path": "MPIA daily digest.ipynb",
   "output_path": "log.ipynb",
   "parameters": {},
   "start_time": "2023-03-30T04:05:17.562534",
   "version": "2.4.0"
  },
  "vscode": {
   "interpreter": {
    "hash": "aee8b7b246df8f9039afb4144a1f6fd8d2ca17a180786b69acc140d282b71a49"
   }
  },
  "widgets": {
   "application/vnd.jupyter.widget-state+json": {
    "state": {
     "1836726b49fa42afa08981fcfe38fda5": {
      "model_module": "@jupyter-widgets/base",
      "model_module_version": "2.0.0",
      "model_name": "LayoutModel",
      "state": {
       "_model_module": "@jupyter-widgets/base",
       "_model_module_version": "2.0.0",
       "_model_name": "LayoutModel",
       "_view_count": null,
       "_view_module": "@jupyter-widgets/base",
       "_view_module_version": "2.0.0",
       "_view_name": "LayoutView",
       "align_content": null,
       "align_items": null,
       "align_self": null,
       "border_bottom": null,
       "border_left": null,
       "border_right": null,
       "border_top": null,
       "bottom": null,
       "display": null,
       "flex": null,
       "flex_flow": null,
       "grid_area": null,
       "grid_auto_columns": null,
       "grid_auto_flow": null,
       "grid_auto_rows": null,
       "grid_column": null,
       "grid_gap": null,
       "grid_row": null,
       "grid_template_areas": null,
       "grid_template_columns": null,
       "grid_template_rows": null,
       "height": null,
       "justify_content": null,
       "justify_items": null,
       "left": null,
       "margin": null,
       "max_height": null,
       "max_width": null,
       "min_height": null,
       "min_width": null,
       "object_fit": null,
       "object_position": null,
       "order": null,
       "overflow": null,
       "padding": null,
       "right": null,
       "top": null,
       "visibility": null,
       "width": null
      }
     },
     "299820bcb4b04f43876c6b6ab7caeb35": {
      "model_module": "@jupyter-widgets/base",
      "model_module_version": "2.0.0",
      "model_name": "LayoutModel",
      "state": {
       "_model_module": "@jupyter-widgets/base",
       "_model_module_version": "2.0.0",
       "_model_name": "LayoutModel",
       "_view_count": null,
       "_view_module": "@jupyter-widgets/base",
       "_view_module_version": "2.0.0",
       "_view_name": "LayoutView",
       "align_content": null,
       "align_items": null,
       "align_self": null,
       "border_bottom": null,
       "border_left": null,
       "border_right": null,
       "border_top": null,
       "bottom": null,
       "display": null,
       "flex": null,
       "flex_flow": null,
       "grid_area": null,
       "grid_auto_columns": null,
       "grid_auto_flow": null,
       "grid_auto_rows": null,
       "grid_column": null,
       "grid_gap": null,
       "grid_row": null,
       "grid_template_areas": null,
       "grid_template_columns": null,
       "grid_template_rows": null,
       "height": null,
       "justify_content": null,
       "justify_items": null,
       "left": null,
       "margin": null,
       "max_height": null,
       "max_width": null,
       "min_height": null,
       "min_width": null,
       "object_fit": null,
       "object_position": null,
       "order": null,
       "overflow": null,
       "padding": null,
       "right": null,
       "top": null,
       "visibility": null,
       "width": null
      }
     },
     "51ea7cfd4dab4a36b0f9465d9f981c9b": {
      "model_module": "@jupyter-widgets/base",
      "model_module_version": "2.0.0",
      "model_name": "LayoutModel",
      "state": {
       "_model_module": "@jupyter-widgets/base",
       "_model_module_version": "2.0.0",
       "_model_name": "LayoutModel",
       "_view_count": null,
       "_view_module": "@jupyter-widgets/base",
       "_view_module_version": "2.0.0",
       "_view_name": "LayoutView",
       "align_content": null,
       "align_items": null,
       "align_self": null,
       "border_bottom": null,
       "border_left": null,
       "border_right": null,
       "border_top": null,
       "bottom": null,
       "display": null,
       "flex": null,
       "flex_flow": null,
       "grid_area": null,
       "grid_auto_columns": null,
       "grid_auto_flow": null,
       "grid_auto_rows": null,
       "grid_column": null,
       "grid_gap": null,
       "grid_row": null,
       "grid_template_areas": null,
       "grid_template_columns": null,
       "grid_template_rows": null,
       "height": null,
       "justify_content": null,
       "justify_items": null,
       "left": null,
       "margin": null,
       "max_height": null,
       "max_width": null,
       "min_height": null,
       "min_width": null,
       "object_fit": null,
       "object_position": null,
       "order": null,
       "overflow": null,
       "padding": null,
       "right": null,
       "top": null,
       "visibility": null,
       "width": null
      }
     },
     "824b7c241de64cdd815b2806aca1a680": {
      "model_module": "@jupyter-widgets/controls",
      "model_module_version": "2.0.0",
      "model_name": "HTMLStyleModel",
      "state": {
       "_model_module": "@jupyter-widgets/controls",
       "_model_module_version": "2.0.0",
       "_model_name": "HTMLStyleModel",
       "_view_count": null,
       "_view_module": "@jupyter-widgets/base",
       "_view_module_version": "2.0.0",
       "_view_name": "StyleView",
       "background": null,
       "description_width": "",
       "font_size": null,
       "text_color": null
      }
     },
     "9d39c19d9d3747ba8a880fb65cb23fae": {
      "model_module": "@jupyter-widgets/controls",
      "model_module_version": "2.0.0",
      "model_name": "ProgressStyleModel",
      "state": {
       "_model_module": "@jupyter-widgets/controls",
       "_model_module_version": "2.0.0",
       "_model_name": "ProgressStyleModel",
       "_view_count": null,
       "_view_module": "@jupyter-widgets/base",
       "_view_module_version": "2.0.0",
       "_view_name": "StyleView",
       "bar_color": null,
       "description_width": ""
      }
     },
     "a16e20adff7f49e9a6de9e52d10acc05": {
      "model_module": "@jupyter-widgets/controls",
      "model_module_version": "2.0.0",
      "model_name": "HTMLStyleModel",
      "state": {
       "_model_module": "@jupyter-widgets/controls",
       "_model_module_version": "2.0.0",
       "_model_name": "HTMLStyleModel",
       "_view_count": null,
       "_view_module": "@jupyter-widgets/base",
       "_view_module_version": "2.0.0",
       "_view_name": "StyleView",
       "background": null,
       "description_width": "",
       "font_size": null,
       "text_color": null
      }
     },
     "a52e7071dc6645cd8a16270dcbb28725": {
      "model_module": "@jupyter-widgets/controls",
      "model_module_version": "2.0.0",
      "model_name": "HTMLModel",
      "state": {
       "_dom_classes": [],
       "_model_module": "@jupyter-widgets/controls",
       "_model_module_version": "2.0.0",
       "_model_name": "HTMLModel",
       "_view_count": null,
       "_view_module": "@jupyter-widgets/controls",
       "_view_module_version": "2.0.0",
       "_view_name": "HTMLView",
       "description": "",
       "description_allow_html": false,
       "layout": "IPY_MODEL_c025d5b6763f416cb7acfcd14f520344",
       "placeholder": "​",
       "style": "IPY_MODEL_a16e20adff7f49e9a6de9e52d10acc05",
       "tabbable": null,
       "tooltip": null,
       "value": " 8/8 [06:05&lt;00:00, 17.09s/it]"
      }
     },
     "bb87f8387416460ebbd766138c67388c": {
      "model_module": "@jupyter-widgets/controls",
      "model_module_version": "2.0.0",
      "model_name": "HBoxModel",
      "state": {
       "_dom_classes": [],
       "_model_module": "@jupyter-widgets/controls",
       "_model_module_version": "2.0.0",
       "_model_name": "HBoxModel",
       "_view_count": null,
       "_view_module": "@jupyter-widgets/controls",
       "_view_module_version": "2.0.0",
       "_view_name": "HBoxView",
       "box_style": "",
       "children": [
        "IPY_MODEL_d74f6b1849f04cdc9e9053ae757a72dd",
        "IPY_MODEL_c095064091ba49c294e1278d0d3a40a6",
        "IPY_MODEL_a52e7071dc6645cd8a16270dcbb28725"
       ],
       "layout": "IPY_MODEL_299820bcb4b04f43876c6b6ab7caeb35",
       "tabbable": null,
       "tooltip": null
      }
     },
     "c025d5b6763f416cb7acfcd14f520344": {
      "model_module": "@jupyter-widgets/base",
      "model_module_version": "2.0.0",
      "model_name": "LayoutModel",
      "state": {
       "_model_module": "@jupyter-widgets/base",
       "_model_module_version": "2.0.0",
       "_model_name": "LayoutModel",
       "_view_count": null,
       "_view_module": "@jupyter-widgets/base",
       "_view_module_version": "2.0.0",
       "_view_name": "LayoutView",
       "align_content": null,
       "align_items": null,
       "align_self": null,
       "border_bottom": null,
       "border_left": null,
       "border_right": null,
       "border_top": null,
       "bottom": null,
       "display": null,
       "flex": null,
       "flex_flow": null,
       "grid_area": null,
       "grid_auto_columns": null,
       "grid_auto_flow": null,
       "grid_auto_rows": null,
       "grid_column": null,
       "grid_gap": null,
       "grid_row": null,
       "grid_template_areas": null,
       "grid_template_columns": null,
       "grid_template_rows": null,
       "height": null,
       "justify_content": null,
       "justify_items": null,
       "left": null,
       "margin": null,
       "max_height": null,
       "max_width": null,
       "min_height": null,
       "min_width": null,
       "object_fit": null,
       "object_position": null,
       "order": null,
       "overflow": null,
       "padding": null,
       "right": null,
       "top": null,
       "visibility": null,
       "width": null
      }
     },
     "c095064091ba49c294e1278d0d3a40a6": {
      "model_module": "@jupyter-widgets/controls",
      "model_module_version": "2.0.0",
      "model_name": "FloatProgressModel",
      "state": {
       "_dom_classes": [],
       "_model_module": "@jupyter-widgets/controls",
       "_model_module_version": "2.0.0",
       "_model_name": "FloatProgressModel",
       "_view_count": null,
       "_view_module": "@jupyter-widgets/controls",
       "_view_module_version": "2.0.0",
       "_view_name": "ProgressView",
       "bar_style": "success",
       "description": "",
       "description_allow_html": false,
       "layout": "IPY_MODEL_1836726b49fa42afa08981fcfe38fda5",
       "max": 8.0,
       "min": 0.0,
       "orientation": "horizontal",
       "style": "IPY_MODEL_9d39c19d9d3747ba8a880fb65cb23fae",
       "tabbable": null,
       "tooltip": null,
       "value": 8.0
      }
     },
     "d74f6b1849f04cdc9e9053ae757a72dd": {
      "model_module": "@jupyter-widgets/controls",
      "model_module_version": "2.0.0",
      "model_name": "HTMLModel",
      "state": {
       "_dom_classes": [],
       "_model_module": "@jupyter-widgets/controls",
       "_model_module_version": "2.0.0",
       "_model_name": "HTMLModel",
       "_view_count": null,
       "_view_module": "@jupyter-widgets/controls",
       "_view_module_version": "2.0.0",
       "_view_name": "HTMLView",
       "description": "",
       "description_allow_html": false,
       "layout": "IPY_MODEL_51ea7cfd4dab4a36b0f9465d9f981c9b",
       "placeholder": "​",
       "style": "IPY_MODEL_824b7c241de64cdd815b2806aca1a680",
       "tabbable": null,
       "tooltip": null,
       "value": "100%"
      }
     }
    },
    "version_major": 2,
    "version_minor": 0
   }
  }
 },
 "nbformat": 4,
 "nbformat_minor": 5
}