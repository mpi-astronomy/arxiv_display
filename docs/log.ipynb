{
 "cells": [
  {
   "cell_type": "markdown",
   "id": "92bcb855",
   "metadata": {
    "papermill": {
     "duration": 0.003719,
     "end_time": "2023-12-08T04:08:15.106742",
     "exception": false,
     "start_time": "2023-12-08T04:08:15.103023",
     "status": "completed"
    },
    "tags": []
   },
   "source": [
    "# MPIA Arxiv on Deck 2\n",
    "\n",
    "Contains the steps to produce the paper extractions."
   ]
  },
  {
   "cell_type": "code",
   "execution_count": 1,
   "id": "3a0d6e11",
   "metadata": {
    "execution": {
     "iopub.execute_input": "2023-12-08T04:08:15.115502Z",
     "iopub.status.busy": "2023-12-08T04:08:15.115065Z",
     "iopub.status.idle": "2023-12-08T04:08:15.434031Z",
     "shell.execute_reply": "2023-12-08T04:08:15.433304Z"
    },
    "papermill": {
     "duration": 0.324909,
     "end_time": "2023-12-08T04:08:15.435980",
     "exception": false,
     "start_time": "2023-12-08T04:08:15.111071",
     "status": "completed"
    },
    "tags": []
   },
   "outputs": [],
   "source": [
    "# Imports\n",
    "import os\n",
    "from IPython.display import Markdown, display\n",
    "from tqdm.notebook import tqdm\n",
    "import warnings\n",
    "from PIL import Image \n",
    "\n",
    "# requires arxiv_on_deck_2\n",
    "\n",
    "from arxiv_on_deck_2.arxiv2 import (get_new_papers, \n",
    "                                    get_paper_from_identifier,\n",
    "                                    retrieve_document_source, \n",
    "                                    get_markdown_badge)\n",
    "from arxiv_on_deck_2 import (latex,\n",
    "                             latex_bib,\n",
    "                             mpia,\n",
    "                             highlight_authors_in_list)\n",
    "\n",
    "# Sometimes images are really big\n",
    "Image.MAX_IMAGE_PIXELS = 1000000000 "
   ]
  },
  {
   "cell_type": "code",
   "execution_count": 2,
   "id": "22aa9d44",
   "metadata": {
    "execution": {
     "iopub.execute_input": "2023-12-08T04:08:15.443126Z",
     "iopub.status.busy": "2023-12-08T04:08:15.442793Z",
     "iopub.status.idle": "2023-12-08T04:08:15.448224Z",
     "shell.execute_reply": "2023-12-08T04:08:15.447555Z"
    },
    "papermill": {
     "duration": 0.010492,
     "end_time": "2023-12-08T04:08:15.449528",
     "exception": false,
     "start_time": "2023-12-08T04:08:15.439036",
     "status": "completed"
    },
    "tags": []
   },
   "outputs": [],
   "source": [
    "# Some useful definitions.\n",
    "\n",
    "class AffiliationWarning(UserWarning):\n",
    "    pass\n",
    "\n",
    "class AffiliationError(RuntimeError):\n",
    "    pass\n",
    "\n",
    "def validation(source: str):\n",
    "    \"\"\"Raises error paper during parsing of source file\n",
    "    \n",
    "    Allows checks before parsing TeX code.\n",
    "    \n",
    "    Raises AffiliationWarning\n",
    "    \"\"\"\n",
    "    check = mpia.affiliation_verifications(source, verbose=True)\n",
    "    if check is not True:\n",
    "        raise AffiliationError(\"mpia.affiliation_verifications: \" + check)\n",
    "\n",
    "        \n",
    "warnings.simplefilter('always', AffiliationWarning)\n",
    "\n",
    "\n",
    "def get_markdown_qrcode(paper_id: str):\n",
    "    \"\"\" Generate a qrcode to the arxiv page using qrserver.com\n",
    "    \n",
    "    :param paper: Arxiv paper\n",
    "    :returns: markdown text\n",
    "    \"\"\"\n",
    "    url = r\"https://api.qrserver.com/v1/create-qr-code/?size=100x100&data=\"\n",
    "    txt = f\"\"\"<img src={url}\"https://arxiv.org/abs/{paper_id}\">\"\"\"\n",
    "    txt = '<div id=\"qrcode\">' + txt + '</div>'\n",
    "    return txt"
   ]
  },
  {
   "cell_type": "markdown",
   "id": "14bd6310",
   "metadata": {
    "papermill": {
     "duration": 0.002707,
     "end_time": "2023-12-08T04:08:15.455250",
     "exception": false,
     "start_time": "2023-12-08T04:08:15.452543",
     "status": "completed"
    },
    "tags": []
   },
   "source": [
    "## get list of arxiv paper candidates\n",
    "\n",
    "We use the MPIA mitarbeiter list webpage from mpia.de to get author names\n",
    "We then get all new papers from Arxiv and match authors"
   ]
  },
  {
   "cell_type": "code",
   "execution_count": 3,
   "id": "2645e73a",
   "metadata": {
    "execution": {
     "iopub.execute_input": "2023-12-08T04:08:15.462000Z",
     "iopub.status.busy": "2023-12-08T04:08:15.461584Z",
     "iopub.status.idle": "2023-12-08T04:08:34.953518Z",
     "shell.execute_reply": "2023-12-08T04:08:34.952790Z"
    },
    "papermill": {
     "duration": 19.496938,
     "end_time": "2023-12-08T04:08:34.954938",
     "exception": false,
     "start_time": "2023-12-08T04:08:15.458000",
     "status": "completed"
    },
    "tags": []
   },
   "outputs": [
    {
     "name": "stdout",
     "output_type": "stream",
     "text": [
      "S. Li  ->  S. Li  |  ['S. Li']\n",
      "E. Schinnerer  ->  E. Schinnerer  |  ['E. Schinnerer']\n",
      "Arxiv has 64 new papers today\n",
      "          2 with possible author matches\n"
     ]
    }
   ],
   "source": [
    "# get list from MPIA website\n",
    "# it automatically filters identified non-scientists :func:`mpia.filter_non_scientists`\n",
    "mpia_authors = mpia.get_mpia_mitarbeiter_list()\n",
    "normed_mpia_authors = [k[1] for k in mpia_authors]   # initials + fullname\n",
    "new_papers = get_new_papers()\n",
    "# add manual references\n",
    "add_paper_refs = []\n",
    "new_papers.extend([get_paper_from_identifier(k) for k in add_paper_refs])\n",
    "\n",
    "candidates = []\n",
    "for paperk in new_papers:\n",
    "    # Check author list with their initials\n",
    "    normed_author_list = [mpia.get_initials(k) for k in paperk['authors']]\n",
    "    hl_authors = highlight_authors_in_list(normed_author_list, normed_mpia_authors, verbose=True)\n",
    "    matches = [(hl, orig) for hl, orig in zip(hl_authors, paperk['authors']) if 'mark' in hl]\n",
    "    paperk['authors'] = hl_authors\n",
    "    if matches:\n",
    "        # only select paper if an author matched our list\n",
    "        candidates.append(paperk)\n",
    "print(\"\"\"Arxiv has {0:,d} new papers today\"\"\".format(len(new_papers)))        \n",
    "print(\"\"\"          {0:,d} with possible author matches\"\"\".format(len(candidates)))"
   ]
  },
  {
   "cell_type": "markdown",
   "id": "3543b34a",
   "metadata": {
    "papermill": {
     "duration": 0.002901,
     "end_time": "2023-12-08T04:08:34.961155",
     "exception": false,
     "start_time": "2023-12-08T04:08:34.958254",
     "status": "completed"
    },
    "tags": []
   },
   "source": [
    "# Parse sources and generate relevant outputs\n",
    "\n",
    "From the candidates, we do the following steps:\n",
    "* get their tarball from ArXiv (and extract data)\n",
    "* find the main .tex file: find one with \\documentclass{...} (sometimes it's non trivial)\n",
    "* Check affiliations with :func:`validation`, which uses :func:`mpia.affiliation_verifications`\n",
    "* If passing the affiliations: we parse the .tex source\n",
    "   * inject sub-documents into the main (flatten the main document)\n",
    "   * parse structure, extract information (title, abstract, authors, figures...)\n",
    "   * handles `\\graphicspath` if provided\n",
    "* Generate the .md document."
   ]
  },
  {
   "cell_type": "code",
   "execution_count": 4,
   "id": "9576b79e",
   "metadata": {
    "execution": {
     "iopub.execute_input": "2023-12-08T04:08:34.968325Z",
     "iopub.status.busy": "2023-12-08T04:08:34.967848Z",
     "iopub.status.idle": "2023-12-08T04:09:04.413632Z",
     "shell.execute_reply": "2023-12-08T04:09:04.412989Z"
    },
    "papermill": {
     "duration": 29.452284,
     "end_time": "2023-12-08T04:09:04.416239",
     "exception": false,
     "start_time": "2023-12-08T04:08:34.963955",
     "status": "completed"
    },
    "scrolled": false,
    "tags": []
   },
   "outputs": [
    {
     "data": {
      "application/vnd.jupyter.widget-view+json": {
       "model_id": "0c84c90d5cdd418885e2e1e73d0621d6",
       "version_major": 2,
       "version_minor": 0
      },
      "text/plain": [
       "  0%|          | 0/2 [00:00<?, ?it/s]"
      ]
     },
     "metadata": {},
     "output_type": "display_data"
    },
    {
     "name": "stdout",
     "output_type": "stream",
     "text": [
      "Retrieving document from  https://arxiv.org/e-print/2312.03935\n"
     ]
    },
    {
     "name": "stdout",
     "output_type": "stream",
     "text": [
      "extracting tarball to tmp_2312.03935..."
     ]
    },
    {
     "name": "stdout",
     "output_type": "stream",
     "text": [
      " done.\n"
     ]
    },
    {
     "name": "stdout",
     "output_type": "stream",
     "text": [
      "S. Li  ->  S. Li  |  ['S. Li']\n"
     ]
    },
    {
     "name": "stderr",
     "output_type": "stream",
     "text": [
      "/tmp/ipykernel_2239/3009462391.py:49: LatexWarning: 2312.03935 did not run properly\n",
      "list index out of range\n",
      "  warnings.warn(latex.LatexWarning(f\"{paper_id:s} did not run properly\\n\" +\n"
     ]
    },
    {
     "name": "stdout",
     "output_type": "stream",
     "text": [
      "Retrieving document from  https://arxiv.org/e-print/2312.04545\n"
     ]
    },
    {
     "name": "stdout",
     "output_type": "stream",
     "text": [
      "extracting tarball to tmp_2312.04545..."
     ]
    },
    {
     "name": "stdout",
     "output_type": "stream",
     "text": [
      " done.\n"
     ]
    },
    {
     "name": "stderr",
     "output_type": "stream",
     "text": [
      "/opt/hostedtoolcache/Python/3.9.18/x64/lib/python3.9/site-packages/IPython/core/interactiveshell.py:3550: LatexWarning: Multiple tex files.\n",
      "\n",
      "  exec(code_obj, self.user_global_ns, self.user_ns)\n",
      "/opt/hostedtoolcache/Python/3.9.18/x64/lib/python3.9/site-packages/IPython/core/interactiveshell.py:3550: LatexWarning: Found documentclass in tmp_2312.04545/bars.tex\n",
      "\n",
      "  exec(code_obj, self.user_global_ns, self.user_ns)\n",
      "/opt/hostedtoolcache/Python/3.9.18/x64/lib/python3.9/site-packages/arxiv_on_deck_2/latex.py:399: LatexWarning: Latex injecting: 'AppendixC.tex' from 'tmp_2312.04545/AppendixC.tex'\n",
      "  warnings.warn(LatexWarning(f\"Latex injecting: '{ext}' from '{subsource}'\"))\n",
      "/opt/hostedtoolcache/Python/3.9.18/x64/lib/python3.9/site-packages/arxiv_on_deck_2/latex.py:399: LatexWarning: Latex injecting: 'AppendixB.tex' from 'tmp_2312.04545/AppendixB.tex'\n",
      "  warnings.warn(LatexWarning(f\"Latex injecting: '{ext}' from '{subsource}'\"))\n",
      "/opt/hostedtoolcache/Python/3.9.18/x64/lib/python3.9/site-packages/arxiv_on_deck_2/latex.py:399: LatexWarning: Latex injecting: 'AppendixA.tex' from 'tmp_2312.04545/AppendixA.tex'\n",
      "  warnings.warn(LatexWarning(f\"Latex injecting: '{ext}' from '{subsource}'\"))\n",
      "/opt/hostedtoolcache/Python/3.9.18/x64/lib/python3.9/site-packages/arxiv_on_deck_2/latex.py:399: LatexWarning: Latex injecting: 'table_bandshifting_lores_mnras' from 'tmp_2312.04545/table_bandshifting_lores_mnras.tex'\n",
      "  warnings.warn(LatexWarning(f\"Latex injecting: '{ext}' from '{subsource}'\"))\n",
      "/opt/hostedtoolcache/Python/3.9.18/x64/lib/python3.9/site-packages/arxiv_on_deck_2/latex.py:399: LatexWarning: Latex injecting: 'table_bandshifting_hires_mnras' from 'tmp_2312.04545/table_bandshifting_hires_mnras.tex'\n",
      "  warnings.warn(LatexWarning(f\"Latex injecting: '{ext}' from '{subsource}'\"))\n",
      "/opt/hostedtoolcache/Python/3.9.18/x64/lib/python3.9/site-packages/arxiv_on_deck_2/latex.py:399: LatexWarning: Latex injecting: 'table1_mnras' from 'tmp_2312.04545/table1_mnras.tex'\n",
      "  warnings.warn(LatexWarning(f\"Latex injecting: '{ext}' from '{subsource}'\"))\n"
     ]
    },
    {
     "name": "stdout",
     "output_type": "stream",
     "text": [
      "Found 131 bibliographic references in tmp_2312.04545/bars.bbl.\n",
      "syntax error in line 893: '=' expected\n"
     ]
    }
   ],
   "source": [
    "documents = []\n",
    "failed = []\n",
    "for paper in tqdm(candidates):\n",
    "    paper_id = paper['identifier'].lower().replace('arxiv:', '')\n",
    "    \n",
    "    folder = f'tmp_{paper_id}'\n",
    "\n",
    "    try:\n",
    "        if not os.path.isdir(folder):\n",
    "            folder = retrieve_document_source(f\"{paper_id}\", f'tmp_{paper_id}')\n",
    "        \n",
    "        try:\n",
    "            doc = latex.LatexDocument(folder, validation=validation)    \n",
    "        except AffiliationError as affilerror:\n",
    "            msg = f\"ArXiv:{paper_id:s} is not an MPIA paper... \" + str(affilerror)\n",
    "            failed.append((paper, \"affiliation error: \" + str(affilerror) ))\n",
    "            continue\n",
    "        \n",
    "        # Hack because sometimes author parsing does not work well\n",
    "        if (len(doc.authors) != len(paper['authors'])):\n",
    "            doc._authors = paper['authors']\n",
    "        else:\n",
    "            # highlight authors (FIXME: doc.highlight_authors)\n",
    "            # done on arxiv paper already\n",
    "            doc._authors = highlight_authors_in_list(\n",
    "                [mpia.get_initials(k) for k in doc.authors], \n",
    "                normed_mpia_authors, verbose=True)\n",
    "        if (doc.abstract) in (None, ''):\n",
    "            doc._abstract = paper['abstract']\n",
    "            \n",
    "        doc.comment = (get_markdown_badge(paper_id) + \n",
    "                       \"<mark>Appeared on: \" + paper['date'] + \"</mark> - \")\n",
    "        if paper['comments']:\n",
    "            doc.comment += \" _\" + paper['comments'] + \"_\"\n",
    "        \n",
    "        full_md = doc.generate_markdown_text()\n",
    "        \n",
    "        full_md += get_markdown_qrcode(paper_id)\n",
    "        \n",
    "        # replace citations\n",
    "        try:\n",
    "            bibdata = latex_bib.LatexBib.from_doc(doc)\n",
    "            full_md = latex_bib.replace_citations(full_md, bibdata)\n",
    "        except Exception as e:\n",
    "            print(e)\n",
    "        \n",
    "        documents.append((paper_id, full_md))\n",
    "    except Exception as e:\n",
    "        warnings.warn(latex.LatexWarning(f\"{paper_id:s} did not run properly\\n\" +\n",
    "                                         str(e)\n",
    "                                        ))\n",
    "        failed.append((paper, \"latex error \" + str(e)))"
   ]
  },
  {
   "cell_type": "markdown",
   "id": "2505a25c",
   "metadata": {
    "papermill": {
     "duration": 0.003705,
     "end_time": "2023-12-08T04:09:04.423919",
     "exception": false,
     "start_time": "2023-12-08T04:09:04.420214",
     "status": "completed"
    },
    "tags": []
   },
   "source": [
    "### Export the logs\n",
    "\n",
    "Throughout, we also keep track of the logs per paper. see `logs-{today date}.md` "
   ]
  },
  {
   "cell_type": "code",
   "execution_count": 5,
   "id": "d733828a",
   "metadata": {
    "execution": {
     "iopub.execute_input": "2023-12-08T04:09:04.433225Z",
     "iopub.status.busy": "2023-12-08T04:09:04.432601Z",
     "iopub.status.idle": "2023-12-08T04:09:04.445874Z",
     "shell.execute_reply": "2023-12-08T04:09:04.445221Z"
    },
    "papermill": {
     "duration": 0.019722,
     "end_time": "2023-12-08T04:09:04.447388",
     "exception": false,
     "start_time": "2023-12-08T04:09:04.427666",
     "status": "completed"
    },
    "scrolled": false,
    "tags": []
   },
   "outputs": [
    {
     "data": {
      "text/markdown": [
       "## Successful papers"
      ],
      "text/plain": [
       "<IPython.core.display.Markdown object>"
      ]
     },
     "metadata": {},
     "output_type": "display_data"
    },
    {
     "data": {
      "text/markdown": [
       "\n",
       "|||\n",
       "|---:|:---|\n",
       "| [![arXiv](https://img.shields.io/badge/arXiv-arXiv:2312.04545-b31b1b.svg)](https://arxiv.org/abs/arXiv:2312.04545) | **Bar Properties as a Function of Wavelength: A Local Baseline with S4G  for High-Redshift Studies**  |\n",
       "|| K. Menéndez-Delmestre, et al. -- incl., <mark>E. Schinnerer</mark> |\n",
       "|*Appeared on*| *2023-12-08*|\n",
       "|*Comments*| *Accepted to MNRAS*|\n",
       "|**Abstract**| The redshift evolution of bars is an important signpost of the dynamic maturity of disk galaxies. To characterize the intrinsic evolution safe from band-shifting effects, it is necessary to gauge how bar properties vary locally as a function of wavelength. We investigate bar properties in 16 nearby galaxies from the Spitzer Survey of Stellar Structure in Galaxies (S4G) at ultraviolet, optical and mid-infrared wavebands. Based on the ellipticity and position angle profiles from fitting elliptical isophotes to the two-dimensional light distribution, we find that both bar length and ellipticity - the latter often used as a proxy for bar strength - increase at bluer wavebands. Bars are 9% longer in the B-band than at 3.6 um. Their ellipticity increases typically by 8% in the B-band, with a significant fraction (>40%) displaying an increase up to 35%. We attribute the increase in bar length to the presence of star forming knots at the end of bars: these regions are brighter in bluer bands, stretching the bar signature further out. The increase in bar ellipticity could be driven by the apparent bulge size: the bulge is less prominent at bluer bands, allowing for thinner ellipses within the bar region. Alternatively, it could be due to younger stellar populations associated to the bar. The resulting effect is that bars appear longer and thinner at bluer wavebands. This indicates that band-shifting effects are significant and need to be corrected for high-redshift studies to reliably gauge any intrinsic evolution of the bar properties with redshift. |"
      ],
      "text/plain": [
       "[arXiv:2312.04545] Bar Properties as a Function of Wavelength: A Local Baseline with S4G  for High-Redshift Studies\n",
       "\tK. Menéndez-Delmestre, et al. -- incl., <mark>E. Schinnerer</mark>"
      ]
     },
     "metadata": {},
     "output_type": "display_data"
    },
    {
     "data": {
      "text/markdown": [
       "## Failed papers"
      ],
      "text/plain": [
       "<IPython.core.display.Markdown object>"
      ]
     },
     "metadata": {},
     "output_type": "display_data"
    },
    {
     "data": {
      "text/markdown": [
       "\n",
       "|||\n",
       "|---:|:---|\n",
       "| [![arXiv](https://img.shields.io/badge/arXiv-arXiv:2312.03935-b31b1b.svg)](https://arxiv.org/abs/arXiv:2312.03935) | **The ALMA Survey of 70 μm Dark High-mass Clumps in Early Stages  (ASHES). X: Hot Gas Reveals Deeply Embedded Star Formation**  |\n",
       "|| N. Izumi, et al. -- incl., <mark>S. Li</mark> |\n",
       "|*Appeared on*| *2023-12-08*|\n",
       "|*Comments*| *Accepted for Publication in ApJ. 39 pages, 22 figures, 6 tables*|\n",
       "|**Abstract**| Massive infrared dark clouds (IRDCs) are considered to host the earliest stages of high-mass star formation. In particular, 70 $\\mu$m dark IRDCs are the colder and more quiescent clouds. At a scale of about 5000 au using formaldehyde (H2CO) emission, we investigate the kinetic temperature of dense cores in 12 IRDCs obtained from the pilot ALMA Survey of 70 $\\mu$m dark High-mass clumps in Early Stages (ASHES). Compared to 1.3 mm dust continuum and other molecular lines, such as C18O and deuterated species, we find that H2CO is mainly sensitive to low-velocity outflow components rather than to quiescent gas expected in the early phases of star formation. The kinetic temperatures of these components range from 26 to 300 K. The Mach number reaches about 15 with an average value of about 4, suggesting that the velocity distribution of gas traced by H2CO is significantly influenced by a supersonic non-thermal component. In addition, we detect warm line emission from HC3N and OCS in 14 protostellar cores, which requires high excitation temperatures (Eu/k ~ 100 K). These results show that some of the embedded cores in the ASHES fields are in an advanced evolutionary stage, previously unexpected for 70 $\\mu$m dark IRDCs. |\n",
       "|<p style=\"color:red\"> **ERROR** </p>| <p style=\"color:red\">latex error list index out of range</p> |"
      ],
      "text/plain": [
       "<IPython.core.display.Markdown object>"
      ]
     },
     "metadata": {},
     "output_type": "display_data"
    }
   ],
   "source": [
    "import datetime\n",
    "today = str(datetime.date.today())\n",
    "logfile = f\"_build/html/logs/log-{today}.md\"\n",
    "\n",
    "\n",
    "with open(logfile, 'w') as logs:\n",
    "    # Success\n",
    "    logs.write(f'# Arxiv on Deck 2: Logs - {today}\\n\\n')\n",
    "    logs.write(\"\"\"* Arxiv had {0:,d} new papers\\n\"\"\".format(len(new_papers)))\n",
    "    logs.write(\"\"\"    * {0:,d} with possible author matches\\n\\n\"\"\".format(len(candidates)))\n",
    "    logs.write(\"## Sucessful papers\\n\\n\")\n",
    "    display(Markdown(\"## Successful papers\"))\n",
    "    success = [k[0] for k in documents]\n",
    "    for candid in candidates:\n",
    "        if candid['identifier'].split(':')[-1] in success:\n",
    "            display(candid)\n",
    "            logs.write(candid.generate_markdown_text() + '\\n\\n')\n",
    "\n",
    "    ## failed\n",
    "    logs.write(\"## Failed papers\\n\\n\")\n",
    "    display(Markdown(\"## Failed papers\"))\n",
    "    failed = sorted(failed, key=lambda x: x[1])\n",
    "    current_reason = \"\"\n",
    "    for paper, reason in failed:\n",
    "        if 'affiliation' in reason:\n",
    "            color = 'green'\n",
    "        else:\n",
    "            color = 'red'\n",
    "        data = Markdown(\n",
    "                paper.generate_markdown_text() + \n",
    "                f'\\n|<p style=\"color:{color:s}\"> **ERROR** </p>| <p style=\"color:{color:s}\">{reason:s}</p> |'\n",
    "               )\n",
    "        if reason != current_reason:\n",
    "            logs.write(f'### {reason:s} \\n\\n')\n",
    "            current_reason = reason\n",
    "        logs.write(data.data + '\\n\\n')\n",
    "        \n",
    "        # only display here the important errors (all in logs)\n",
    "        # if color in ('red',):\n",
    "        display(data)"
   ]
  },
  {
   "cell_type": "markdown",
   "id": "472d20ee",
   "metadata": {
    "papermill": {
     "duration": 0.004169,
     "end_time": "2023-12-08T04:09:04.455837",
     "exception": false,
     "start_time": "2023-12-08T04:09:04.451668",
     "status": "completed"
    },
    "tags": []
   },
   "source": [
    "## Export documents\n",
    "\n",
    "We now write the .md files and export relevant images"
   ]
  },
  {
   "cell_type": "code",
   "execution_count": 6,
   "id": "d426aed9",
   "metadata": {
    "execution": {
     "iopub.execute_input": "2023-12-08T04:09:04.465699Z",
     "iopub.status.busy": "2023-12-08T04:09:04.465268Z",
     "iopub.status.idle": "2023-12-08T04:09:04.472449Z",
     "shell.execute_reply": "2023-12-08T04:09:04.471741Z"
    },
    "papermill": {
     "duration": 0.013917,
     "end_time": "2023-12-08T04:09:04.473886",
     "exception": false,
     "start_time": "2023-12-08T04:09:04.459969",
     "status": "completed"
    },
    "tags": []
   },
   "outputs": [],
   "source": [
    "def export_markdown_summary(md: str, md_fname:str, directory: str):\n",
    "    \"\"\"Export MD document and associated relevant images\"\"\"\n",
    "    import os\n",
    "    import shutil\n",
    "    import re\n",
    "\n",
    "    if (os.path.exists(directory) and not os.path.isdir(directory)):\n",
    "        raise RuntimeError(f\"a non-directory file exists with name {directory:s}\")\n",
    "\n",
    "    if (not os.path.exists(directory)):\n",
    "        print(f\"creating directory {directory:s}\")\n",
    "        os.mkdir(directory)\n",
    "\n",
    "    fig_fnames = (re.compile(r'\\[Fig.*\\]\\((.*)\\)').findall(md) + \n",
    "                  re.compile(r'\\<img src=\"([^>\\s]*)\"[^>]*/>').findall(md))\n",
    "    for fname in fig_fnames:\n",
    "        if 'http' in fname:\n",
    "            # No need to copy online figures\n",
    "            continue\n",
    "        destdir = os.path.join(directory, os.path.dirname(fname))\n",
    "        destfname = os.path.join(destdir, os.path.basename(fname))\n",
    "        try:\n",
    "            os.makedirs(destdir)\n",
    "        except FileExistsError:\n",
    "            pass\n",
    "        shutil.copy(fname, destfname)\n",
    "    with open(os.path.join(directory, md_fname), 'w') as fout:\n",
    "        fout.write(md)\n",
    "    print(\"exported in \", os.path.join(directory, md_fname))\n",
    "    [print(\"    + \" + os.path.join(directory,fk)) for fk in fig_fnames]"
   ]
  },
  {
   "cell_type": "code",
   "execution_count": 7,
   "id": "014d04a4",
   "metadata": {
    "execution": {
     "iopub.execute_input": "2023-12-08T04:09:04.484208Z",
     "iopub.status.busy": "2023-12-08T04:09:04.483686Z",
     "iopub.status.idle": "2023-12-08T04:09:04.492163Z",
     "shell.execute_reply": "2023-12-08T04:09:04.491465Z"
    },
    "papermill": {
     "duration": 0.015247,
     "end_time": "2023-12-08T04:09:04.493562",
     "exception": false,
     "start_time": "2023-12-08T04:09:04.478315",
     "status": "completed"
    },
    "tags": []
   },
   "outputs": [
    {
     "name": "stdout",
     "output_type": "stream",
     "text": [
      "exported in  _build/html/2312.04545.md\n",
      "    + _build/html/tmp_2312.04545/./Images/Fig2_NGC3049.png\n",
      "    + _build/html/tmp_2312.04545/./Images/Fig2_NGC1097.png\n",
      "    + _build/html/tmp_2312.04545/./Images/Fig4_a_emax.png\n",
      "    + _build/html/tmp_2312.04545/./Images/Fig4_a_edrop.png\n",
      "    + _build/html/tmp_2312.04545/./Images/Fig4_a_deltapa.png\n",
      "    + _build/html/tmp_2312.04545/./Images/OptMIR/AppA_NGC0337.png\n",
      "    + _build/html/tmp_2312.04545/./Images/OptMIR/AppA_NGC1097.png\n",
      "    + _build/html/tmp_2312.04545/./Images/OptMIR/AppA_NGC1291.png\n",
      "    + _build/html/tmp_2312.04545/./Images/OptMIR/AppA_NGC1512.png\n"
     ]
    }
   ],
   "source": [
    "for paper_id, md in documents:\n",
    "    export_markdown_summary(md, f\"{paper_id:s}.md\", '_build/html/')"
   ]
  },
  {
   "cell_type": "markdown",
   "id": "f087a0a7",
   "metadata": {
    "papermill": {
     "duration": 0.00418,
     "end_time": "2023-12-08T04:09:04.502058",
     "exception": false,
     "start_time": "2023-12-08T04:09:04.497878",
     "status": "completed"
    },
    "tags": []
   },
   "source": [
    "## Display the papers\n",
    "\n",
    "Not necessary but allows for a quick check."
   ]
  },
  {
   "cell_type": "code",
   "execution_count": 8,
   "id": "fd25f625",
   "metadata": {
    "execution": {
     "iopub.execute_input": "2023-12-08T04:09:04.512210Z",
     "iopub.status.busy": "2023-12-08T04:09:04.511558Z",
     "iopub.status.idle": "2023-12-08T04:09:04.516584Z",
     "shell.execute_reply": "2023-12-08T04:09:04.515928Z"
    },
    "papermill": {
     "duration": 0.011762,
     "end_time": "2023-12-08T04:09:04.518037",
     "exception": false,
     "start_time": "2023-12-08T04:09:04.506275",
     "status": "completed"
    },
    "scrolled": false,
    "tags": []
   },
   "outputs": [
    {
     "data": {
      "text/markdown": [
       "<div class=\"macros\" style=\"visibility:hidden;\">\n",
       "$\\newcommand{\\ensuremath}{}$\n",
       "$\\newcommand{\\xspace}{}$\n",
       "$\\newcommand{\\object}[1]{\\texttt{#1}}$\n",
       "$\\newcommand{\\farcs}{{.}''}$\n",
       "$\\newcommand{\\farcm}{{.}'}$\n",
       "$\\newcommand{\\arcsec}{''}$\n",
       "$\\newcommand{\\arcmin}{'}$\n",
       "$\\newcommand{\\ion}[2]{#1#2}$\n",
       "$\\newcommand{\\textsc}[1]{\\textrm{#1}}$\n",
       "$\\newcommand{\\hl}[1]{\\textrm{#1}}$\n",
       "$\\newcommand{\\footnote}[1]{}$\n",
       "$\\newcommand{\\thebibliography}{\\DeclareRobustCommand{\\VAN}[3]{##3}\\VANthebibliography}$</div>\n",
       "\n",
       "\n",
       "\n",
       "<div id=\"title\">\n",
       "\n",
       "# Bar Properties as a Function of Wavelength: A Local Baseline with S$^4$G for High-Redshift Studies\n",
       "\n",
       "</div>\n",
       "<div id=\"comments\">\n",
       "\n",
       "[![arXiv](https://img.shields.io/badge/arXiv-2312.04545-b31b1b.svg)](https://arxiv.org/abs/2312.04545)<mark>Appeared on: 2023-12-08</mark> -  _Accepted to MNRAS_\n",
       "\n",
       "</div>\n",
       "<div id=\"authors\">\n",
       "\n",
       "K. Menéndez-Delmestre, et al. -- incl., <mark>E. Schinnerer</mark>\n",
       "\n",
       "</div>\n",
       "<div id=\"abstract\">\n",
       "\n",
       "**Abstract:** The redshift evolution of bars is an important signpost of the dynamic maturity of disk galaxies. To characterize the intrinsic evolution safe from band-shifting effects, it is necessary to gauge how bar properties vary locally as a function of wavelength. We investigate bar properties in 16 nearby galaxies from the Spitzer Survey of Stellar Structure in Galaxies (S $^4$ G) at ultraviolet, optical and mid-infrared wavebands. Based on the ellipticity and position angle profiles from fitting elliptical isophotes to the two-dimensional light distribution, we find that both bar length and ellipticity -- the latter often used as a proxy for bar strength -- increase at bluer wavebands. Bars are 9 \\% longer in the B-band than at 3.6 $\\mu$ m. Their ellipticity increases typically by 8 \\% in the B-band, with a significant fraction ( $>$ 40 \\% ) displaying an increase up to 35 \\% . We attribute the increase in bar length to the presence of star forming knots at the end of bars: these regions are brighter in bluer bands, stretching the bar signature further out. The increase in bar ellipticity could be driven by the apparent bulge size: the bulge is less prominent at bluer bands, allowing for thinner ellipses within the bar region. Alternatively, it could be due to younger stellar populations associated to the bar. The resulting effect is that bars appear longer and thinner at bluer wavebands. This indicates that band-shifting effects are significant and need to be corrected for high-redshift studies to reliably gauge any intrinsic evolution of the bar properties with redshift.\n",
       "\n",
       "</div>\n",
       "\n",
       "<div id=\"div_fig1\">\n",
       "\n",
       "<img src=\"tmp_2312.04545/./Images/Fig2_NGC3049.png\" alt=\"Fig3.1\" width=\"50%\"/><img src=\"tmp_2312.04545/./Images/Fig2_NGC1097.png\" alt=\"Fig3.2\" width=\"50%\"/>\n",
       "\n",
       "**Figure 3. -** Ellipticity and position angle radial profiles for NGC 3049 (left) and NGC 1097 (right), the former exemplifying our methodology for the _ higher-resolution optical-through-MIR_ study (including B-, R-, and 3.6$\\mu$m bands) and the latter for the _ low-resolution UV-through-MIR_ study (including FUV-, NUV-, B-, R-, and 3.6$\\mu$m bands). In both cases we show radial profiles for ellipticity and position angle, as well as their respective variations at each isophotal fit. The vertical down-pointing arrows indicate the semi-major axis (SMA) of maximum ellipticity, i.e., a$_{\\epsilon max}$ for each band.  The vertical dashed lines indicate the radial location of the maximum variation in ellipticity (top two panels) and PA (bottom two panels). The dashed portions of the radial profiles indicate regions where the FUV/NUV emission deviates significantly from a smooth light distribution, consequently impacting our isophotal ellipse-fitting approach (see Section \\ref{processing}). From top to bottom, postage stamp images in the 3.6$\\mu$m, R- and B-bands for NGC 3049 and in the 3.6$\\mu$m, R-, B-, NUV- and FUV-bands for NGC 1097 are shown with an overlaid ellipse showing the isophote of maximum ellipticity. Similar figures for all of our sample are shown as part of Appendix \\ref{appendixA_profiles_hires} for the _ higher-resolution optical-through-MIR_ study and Appendix \\ref{appendixB_profiles_lores} for the _ low-resolution UV-through-MIR_ study.\n",
       " (*profiles*)\n",
       "\n",
       "</div>\n",
       "<div id=\"div_fig2\">\n",
       "\n",
       "<img src=\"tmp_2312.04545/./Images/Fig4_a_emax.png\" alt=\"Fig1.1\" width=\"33%\"/><img src=\"tmp_2312.04545/./Images/Fig4_a_edrop.png\" alt=\"Fig1.2\" width=\"33%\"/><img src=\"tmp_2312.04545/./Images/Fig4_a_deltapa.png\" alt=\"Fig1.3\" width=\"33%\"/>\n",
       "\n",
       "**Figure 1. -** Measured bar sizes as a function of wavelength for the galaxies in our sample; each panel corresponds to one of the three bar size definitions adopted for the analysis (see Section \\ref{processing} for details). Each galaxy is represented by 3 data points, where the value on the x-axis corresponds to that measured in the bluer band of the waveband pair being considered. We note that the bulk of individual bar size measurements in the B-, R- and 3.6$\\mu$m-bands is offset downwards from the identity line (solid line), indicating that bar sizes measured in bluer bands are larger. On average, the bar is measured to be $\\sim$9\\% longer in the B-band compared to that in the 3.6 $\\mu$m. (*length*)\n",
       "\n",
       "</div>\n",
       "<div id=\"div_fig3\">\n",
       "\n",
       "<img src=\"tmp_2312.04545/./Images/OptMIR/AppA_NGC0337.png\" alt=\"Fig8.1\" width=\"25%\"/><img src=\"tmp_2312.04545/./Images/OptMIR/AppA_NGC1097.png\" alt=\"Fig8.2\" width=\"25%\"/><img src=\"tmp_2312.04545/./Images/OptMIR/AppA_NGC1291.png\" alt=\"Fig8.3\" width=\"25%\"/><img src=\"tmp_2312.04545/./Images/OptMIR/AppA_NGC1512.png\" alt=\"Fig8.4\" width=\"25%\"/>\n",
       "\n",
       "**Figure 8. -** Ellipticity and PA profiles for all galaxies in our sample as part of the _ higher-resolution opt-through-MIR_ study, following the format of Fig. \\ref{profiles}. (*appendixA_profiles_hires_fig*)\n",
       "\n",
       "</div><div id=\"qrcode\"><img src=https://api.qrserver.com/v1/create-qr-code/?size=100x100&data=\"https://arxiv.org/abs/2312.04545\"></div>"
      ],
      "text/plain": [
       "<IPython.core.display.Markdown object>"
      ]
     },
     "metadata": {},
     "output_type": "display_data"
    }
   ],
   "source": [
    "[display(Markdown(k[1])) for k in documents];"
   ]
  },
  {
   "cell_type": "markdown",
   "id": "873873a4",
   "metadata": {
    "papermill": {
     "duration": 0.004412,
     "end_time": "2023-12-08T04:09:04.527112",
     "exception": false,
     "start_time": "2023-12-08T04:09:04.522700",
     "status": "completed"
    },
    "tags": []
   },
   "source": [
    "# Create HTML index"
   ]
  },
  {
   "cell_type": "code",
   "execution_count": 9,
   "id": "cf665672",
   "metadata": {
    "execution": {
     "iopub.execute_input": "2023-12-08T04:09:04.537355Z",
     "iopub.status.busy": "2023-12-08T04:09:04.536872Z",
     "iopub.status.idle": "2023-12-08T04:09:04.546383Z",
     "shell.execute_reply": "2023-12-08T04:09:04.545785Z"
    },
    "papermill": {
     "duration": 0.016322,
     "end_time": "2023-12-08T04:09:04.547792",
     "exception": false,
     "start_time": "2023-12-08T04:09:04.531470",
     "status": "completed"
    },
    "tags": []
   },
   "outputs": [
    {
     "name": "stdout",
     "output_type": "stream",
     "text": [
      "336  publications files modified in the last 7 days.\n"
     ]
    }
   ],
   "source": [
    "from datetime import datetime, timedelta, timezone\n",
    "from glob import glob\n",
    "import os\n",
    "\n",
    "files = glob('_build/html/*.md')\n",
    "days = 7\n",
    "now = datetime.today()\n",
    "res = []\n",
    "for fk in files:\n",
    "    stat_result = os.stat(fk).st_ctime\n",
    "    modified = datetime.fromtimestamp(stat_result, tz=timezone.utc).replace(tzinfo=None)\n",
    "    delta = now.today() - modified\n",
    "    if delta <= timedelta(days=days):\n",
    "        res.append((delta.seconds, fk))\n",
    "res = [k[1] for k in reversed(sorted(res, key=lambda x:x[1]))]\n",
    "npub = len(res)\n",
    "print(len(res), f\" publications files modified in the last {days:d} days.\")\n",
    "# [ print('\\t', k) for k in res ];"
   ]
  },
  {
   "cell_type": "code",
   "execution_count": 10,
   "id": "015de740",
   "metadata": {
    "execution": {
     "iopub.execute_input": "2023-12-08T04:09:04.558154Z",
     "iopub.status.busy": "2023-12-08T04:09:04.557670Z",
     "iopub.status.idle": "2023-12-08T04:09:04.578360Z",
     "shell.execute_reply": "2023-12-08T04:09:04.577730Z"
    },
    "papermill": {
     "duration": 0.027351,
     "end_time": "2023-12-08T04:09:04.579725",
     "exception": false,
     "start_time": "2023-12-08T04:09:04.552374",
     "status": "completed"
    },
    "tags": []
   },
   "outputs": [
    {
     "name": "stdout",
     "output_type": "stream",
     "text": [
      "8  publications in the last 7 days.\n"
     ]
    }
   ],
   "source": [
    "import datetime\n",
    "from glob import glob\n",
    "\n",
    "def get_last_n_days(lst, days=1):\n",
    "    \"\"\" Get the documents from the last n days \"\"\"\n",
    "    sorted_lst = sorted(lst, key=lambda x: x[1], reverse=True)\n",
    "    for fname, date in sorted_lst:\n",
    "        if date >= str(datetime.date.today() - datetime.timedelta(days=days)):\n",
    "            yield fname\n",
    "\n",
    "def extract_appearance_dates(lst_file):\n",
    "    dates = []\n",
    "\n",
    "    def get_date(line):\n",
    "        return line\\\n",
    "            .split('Appeared on:')[-1]\\\n",
    "            .split('</mark>')[0].strip()\n",
    "\n",
    "    for fname in lst:\n",
    "        with open(fname, 'r') as f:\n",
    "            found_date = False\n",
    "            for line in f:\n",
    "                if not found_date:\n",
    "                    if \"Appeared on\" in line:\n",
    "                        found_date = True\n",
    "                        dates.append((fname, get_date(line)))\n",
    "                else:\n",
    "                    break\n",
    "    return dates\n",
    "\n",
    "from glob import glob\n",
    "lst = glob('_build/html/*md')\n",
    "days = 7\n",
    "dates = extract_appearance_dates(lst)\n",
    "res = list(get_last_n_days(dates, days))\n",
    "npub = len(res)\n",
    "print(len(res), f\" publications in the last {days:d} days.\")"
   ]
  },
  {
   "cell_type": "code",
   "execution_count": 11,
   "id": "52ca0208",
   "metadata": {
    "execution": {
     "iopub.execute_input": "2023-12-08T04:09:04.590486Z",
     "iopub.status.busy": "2023-12-08T04:09:04.590019Z",
     "iopub.status.idle": "2023-12-08T04:09:04.595521Z",
     "shell.execute_reply": "2023-12-08T04:09:04.594942Z"
    },
    "papermill": {
     "duration": 0.012516,
     "end_time": "2023-12-08T04:09:04.596900",
     "exception": false,
     "start_time": "2023-12-08T04:09:04.584384",
     "status": "completed"
    },
    "scrolled": false,
    "tags": []
   },
   "outputs": [],
   "source": [
    "def create_carousel(npub=4):\n",
    "    \"\"\" Generate the HTML code for a carousel with `npub` slides \"\"\"\n",
    "    carousel = [\"\"\"  <div class=\"carousel\" \"\"\",\n",
    "                \"\"\"       data-flickity='{ \"autoPlay\": 10000, \"adaptiveHeight\": true, \"resize\": true, \"wrapAround\": true, \"pauseAutoPlayOnHover\": true, \"groupCells\": 1 }' id=\"asyncTypeset\">\"\"\"\n",
    "                ]\n",
    "    \n",
    "    item_str = \"\"\"    <div class=\"carousel-cell\"> <div id=\"slide{k}\" class=\"md_view\">Content {k}</div> </div>\"\"\"\n",
    "    for k in range(1, npub + 1):\n",
    "        carousel.append(item_str.format(k=k))\n",
    "    carousel.append(\"  </div>\")\n",
    "    return '\\n'.join(carousel)\n",
    "\n",
    "def create_grid(npub=4):\n",
    "    \"\"\" Generate the HTML code for a flat grid with `npub` slides \"\"\"\n",
    "    grid = [\"\"\"  <div class=\"grid\"> \"\"\",\n",
    "                ]\n",
    "    \n",
    "    item_str = \"\"\"    <div class=\"grid-item\"> <div id=\"slide{k}\" class=\"md_view\">Content {k}</div> </div>\"\"\"\n",
    "    for k in range(1, npub + 1):\n",
    "        grid.append(item_str.format(k=k))\n",
    "    grid.append(\"  </div>\")\n",
    "    return '\\n'.join(grid)"
   ]
  },
  {
   "cell_type": "code",
   "execution_count": 12,
   "id": "a6eac5b6",
   "metadata": {
    "execution": {
     "iopub.execute_input": "2023-12-08T04:09:04.607610Z",
     "iopub.status.busy": "2023-12-08T04:09:04.607136Z",
     "iopub.status.idle": "2023-12-08T04:09:04.612642Z",
     "shell.execute_reply": "2023-12-08T04:09:04.611956Z"
    },
    "papermill": {
     "duration": 0.012376,
     "end_time": "2023-12-08T04:09:04.613991",
     "exception": false,
     "start_time": "2023-12-08T04:09:04.601615",
     "status": "completed"
    },
    "scrolled": false,
    "tags": []
   },
   "outputs": [],
   "source": [
    "carousel = create_carousel(npub)\n",
    "docs = ', '.join(['\"{0:s}\"'.format(k.split('/')[-1]) for k in res])\n",
    "slides = ', '.join([f'\"slide{k}\"' for k in range(1, npub + 1)])\n",
    "\n",
    "with open(\"daily_template.html\", \"r\") as tpl:\n",
    "    page = tpl.read()\n",
    "    page = page.replace(\"{%-- carousel:s --%}\", carousel)\\\n",
    "               .replace(\"{%-- suptitle:s --%}\",  \"7-day archives\" )\\\n",
    "               .replace(\"{%-- docs:s --%}\", docs)\\\n",
    "               .replace(\"{%-- slides:s --%}\", slides)\n",
    "    \n",
    "with open(\"_build/html/index_7days.html\", 'w') as fout:\n",
    "    fout.write(page)"
   ]
  },
  {
   "cell_type": "code",
   "execution_count": 13,
   "id": "adc1a1ec",
   "metadata": {
    "execution": {
     "iopub.execute_input": "2023-12-08T04:09:04.624741Z",
     "iopub.status.busy": "2023-12-08T04:09:04.624265Z",
     "iopub.status.idle": "2023-12-08T04:09:04.631457Z",
     "shell.execute_reply": "2023-12-08T04:09:04.630781Z"
    },
    "papermill": {
     "duration": 0.014231,
     "end_time": "2023-12-08T04:09:04.632908",
     "exception": false,
     "start_time": "2023-12-08T04:09:04.618677",
     "status": "completed"
    },
    "tags": []
   },
   "outputs": [
    {
     "name": "stdout",
     "output_type": "stream",
     "text": [
      "1  publications in the last day.\n"
     ]
    }
   ],
   "source": [
    "# redo for today\n",
    "days = 1\n",
    "res = list(get_last_n_days(dates, days))\n",
    "npub = len(res)\n",
    "print(len(res), f\" publications in the last day.\")\n",
    "\n",
    "carousel = create_carousel(npub)\n",
    "docs = ', '.join(['\"{0:s}\"'.format(k.split('/')[-1]) for k in res])\n",
    "slides = ', '.join([f'\"slide{k}\"' for k in range(1, npub + 1)])\n",
    "\n",
    "with open(\"daily_template.html\", \"r\") as tpl:\n",
    "    page = tpl.read()\n",
    "    page = page.replace(\"{%-- carousel:s --%}\", carousel)\\\n",
    "               .replace(\"{%-- suptitle:s --%}\",  \"Daily\" )\\\n",
    "               .replace(\"{%-- docs:s --%}\", docs)\\\n",
    "               .replace(\"{%-- slides:s --%}\", slides)\n",
    "    \n",
    "# print(carousel, docs, slides)\n",
    "# print(page)\n",
    "with open(\"_build/html/index_daily.html\", 'w') as fout:\n",
    "    fout.write(page)"
   ]
  },
  {
   "cell_type": "code",
   "execution_count": 14,
   "id": "00eece82",
   "metadata": {
    "execution": {
     "iopub.execute_input": "2023-12-08T04:09:04.644086Z",
     "iopub.status.busy": "2023-12-08T04:09:04.643566Z",
     "iopub.status.idle": "2023-12-08T04:09:04.650554Z",
     "shell.execute_reply": "2023-12-08T04:09:04.649964Z"
    },
    "papermill": {
     "duration": 0.01407,
     "end_time": "2023-12-08T04:09:04.651934",
     "exception": false,
     "start_time": "2023-12-08T04:09:04.637864",
     "status": "completed"
    },
    "scrolled": false,
    "tags": []
   },
   "outputs": [
    {
     "name": "stdout",
     "output_type": "stream",
     "text": [
      "6  6 publications selected.\n"
     ]
    }
   ],
   "source": [
    "# Create the flat grid of the last N papers (fixed number regardless of dates)\n",
    "from itertools import islice \n",
    "\n",
    "npub = 6\n",
    "res = [k[0] for k in (islice(reversed(sorted(dates, key=lambda x: x[1])), 6))]\n",
    "print(len(res), f\" {npub} publications selected.\")\n",
    "\n",
    "grid = create_grid(npub)\n",
    "docs = ', '.join(['\"{0:s}\"'.format(k.split('/')[-1]) for k in res])\n",
    "slides = ', '.join([f'\"slide{k}\"' for k in range(1, npub + 1)])\n",
    "\n",
    "with open(\"grid_template.html\", \"r\") as tpl:\n",
    "    page = tpl.read()\n",
    "    page = page.replace(\"{%-- grid-content:s --%}\", grid)\\\n",
    "               .replace(\"{%-- suptitle:s --%}\",  f\"Last {npub:,d} papers\" )\\\n",
    "               .replace(\"{%-- docs:s --%}\", docs)\\\n",
    "               .replace(\"{%-- slides:s --%}\", slides)\n",
    "    \n",
    "# print(grid, docs, slides)\n",
    "# print(page)\n",
    "with open(\"_build/html/index_npub_grid.html\", 'w') as fout:\n",
    "    fout.write(page)"
   ]
  }
 ],
 "metadata": {
  "kernelspec": {
   "display_name": "Python 3 (ipykernel)",
   "language": "python",
   "name": "python3"
  },
  "language_info": {
   "codemirror_mode": {
    "name": "ipython",
    "version": 3
   },
   "file_extension": ".py",
   "mimetype": "text/x-python",
   "name": "python",
   "nbconvert_exporter": "python",
   "pygments_lexer": "ipython3",
   "version": "3.9.18"
  },
  "papermill": {
   "default_parameters": {},
   "duration": 50.781914,
   "end_time": "2023-12-08T04:09:04.974246",
   "environment_variables": {},
   "exception": null,
   "input_path": "MPIA daily digest.ipynb",
   "output_path": "log.ipynb",
   "parameters": {},
   "start_time": "2023-12-08T04:08:14.192332",
   "version": "2.5.0"
  },
  "vscode": {
   "interpreter": {
    "hash": "aee8b7b246df8f9039afb4144a1f6fd8d2ca17a180786b69acc140d282b71a49"
   }
  },
  "widgets": {
   "application/vnd.jupyter.widget-state+json": {
    "state": {
     "0c84c90d5cdd418885e2e1e73d0621d6": {
      "model_module": "@jupyter-widgets/controls",
      "model_module_version": "2.0.0",
      "model_name": "HBoxModel",
      "state": {
       "_dom_classes": [],
       "_model_module": "@jupyter-widgets/controls",
       "_model_module_version": "2.0.0",
       "_model_name": "HBoxModel",
       "_view_count": null,
       "_view_module": "@jupyter-widgets/controls",
       "_view_module_version": "2.0.0",
       "_view_name": "HBoxView",
       "box_style": "",
       "children": [
        "IPY_MODEL_6c42d476d13d4f6f959a25acf4156d5c",
        "IPY_MODEL_3788c295dcfc4967969f02da91fbf430",
        "IPY_MODEL_b4dca55f59434821af7391b2baad93aa"
       ],
       "layout": "IPY_MODEL_86f901708d2f4fe7b7365dacc00cd915",
       "tabbable": null,
       "tooltip": null
      }
     },
     "25c256b168d74713a7eee836fdf7c1b2": {
      "model_module": "@jupyter-widgets/controls",
      "model_module_version": "2.0.0",
      "model_name": "ProgressStyleModel",
      "state": {
       "_model_module": "@jupyter-widgets/controls",
       "_model_module_version": "2.0.0",
       "_model_name": "ProgressStyleModel",
       "_view_count": null,
       "_view_module": "@jupyter-widgets/base",
       "_view_module_version": "2.0.0",
       "_view_name": "StyleView",
       "bar_color": null,
       "description_width": ""
      }
     },
     "3788c295dcfc4967969f02da91fbf430": {
      "model_module": "@jupyter-widgets/controls",
      "model_module_version": "2.0.0",
      "model_name": "FloatProgressModel",
      "state": {
       "_dom_classes": [],
       "_model_module": "@jupyter-widgets/controls",
       "_model_module_version": "2.0.0",
       "_model_name": "FloatProgressModel",
       "_view_count": null,
       "_view_module": "@jupyter-widgets/controls",
       "_view_module_version": "2.0.0",
       "_view_name": "ProgressView",
       "bar_style": "success",
       "description": "",
       "description_allow_html": false,
       "layout": "IPY_MODEL_4fc99d393da84834b1e06d74e63646b2",
       "max": 2.0,
       "min": 0.0,
       "orientation": "horizontal",
       "style": "IPY_MODEL_25c256b168d74713a7eee836fdf7c1b2",
       "tabbable": null,
       "tooltip": null,
       "value": 2.0
      }
     },
     "4fc99d393da84834b1e06d74e63646b2": {
      "model_module": "@jupyter-widgets/base",
      "model_module_version": "2.0.0",
      "model_name": "LayoutModel",
      "state": {
       "_model_module": "@jupyter-widgets/base",
       "_model_module_version": "2.0.0",
       "_model_name": "LayoutModel",
       "_view_count": null,
       "_view_module": "@jupyter-widgets/base",
       "_view_module_version": "2.0.0",
       "_view_name": "LayoutView",
       "align_content": null,
       "align_items": null,
       "align_self": null,
       "border_bottom": null,
       "border_left": null,
       "border_right": null,
       "border_top": null,
       "bottom": null,
       "display": null,
       "flex": null,
       "flex_flow": null,
       "grid_area": null,
       "grid_auto_columns": null,
       "grid_auto_flow": null,
       "grid_auto_rows": null,
       "grid_column": null,
       "grid_gap": null,
       "grid_row": null,
       "grid_template_areas": null,
       "grid_template_columns": null,
       "grid_template_rows": null,
       "height": null,
       "justify_content": null,
       "justify_items": null,
       "left": null,
       "margin": null,
       "max_height": null,
       "max_width": null,
       "min_height": null,
       "min_width": null,
       "object_fit": null,
       "object_position": null,
       "order": null,
       "overflow": null,
       "padding": null,
       "right": null,
       "top": null,
       "visibility": null,
       "width": null
      }
     },
     "6c42d476d13d4f6f959a25acf4156d5c": {
      "model_module": "@jupyter-widgets/controls",
      "model_module_version": "2.0.0",
      "model_name": "HTMLModel",
      "state": {
       "_dom_classes": [],
       "_model_module": "@jupyter-widgets/controls",
       "_model_module_version": "2.0.0",
       "_model_name": "HTMLModel",
       "_view_count": null,
       "_view_module": "@jupyter-widgets/controls",
       "_view_module_version": "2.0.0",
       "_view_name": "HTMLView",
       "description": "",
       "description_allow_html": false,
       "layout": "IPY_MODEL_f328aa320d8c4737aa0032c6054c91cd",
       "placeholder": "​",
       "style": "IPY_MODEL_e44697be4ec84cb1808f3a56c8bcc46f",
       "tabbable": null,
       "tooltip": null,
       "value": "100%"
      }
     },
     "86f901708d2f4fe7b7365dacc00cd915": {
      "model_module": "@jupyter-widgets/base",
      "model_module_version": "2.0.0",
      "model_name": "LayoutModel",
      "state": {
       "_model_module": "@jupyter-widgets/base",
       "_model_module_version": "2.0.0",
       "_model_name": "LayoutModel",
       "_view_count": null,
       "_view_module": "@jupyter-widgets/base",
       "_view_module_version": "2.0.0",
       "_view_name": "LayoutView",
       "align_content": null,
       "align_items": null,
       "align_self": null,
       "border_bottom": null,
       "border_left": null,
       "border_right": null,
       "border_top": null,
       "bottom": null,
       "display": null,
       "flex": null,
       "flex_flow": null,
       "grid_area": null,
       "grid_auto_columns": null,
       "grid_auto_flow": null,
       "grid_auto_rows": null,
       "grid_column": null,
       "grid_gap": null,
       "grid_row": null,
       "grid_template_areas": null,
       "grid_template_columns": null,
       "grid_template_rows": null,
       "height": null,
       "justify_content": null,
       "justify_items": null,
       "left": null,
       "margin": null,
       "max_height": null,
       "max_width": null,
       "min_height": null,
       "min_width": null,
       "object_fit": null,
       "object_position": null,
       "order": null,
       "overflow": null,
       "padding": null,
       "right": null,
       "top": null,
       "visibility": null,
       "width": null
      }
     },
     "90b357f8c3b0410b88023e8e4af26705": {
      "model_module": "@jupyter-widgets/base",
      "model_module_version": "2.0.0",
      "model_name": "LayoutModel",
      "state": {
       "_model_module": "@jupyter-widgets/base",
       "_model_module_version": "2.0.0",
       "_model_name": "LayoutModel",
       "_view_count": null,
       "_view_module": "@jupyter-widgets/base",
       "_view_module_version": "2.0.0",
       "_view_name": "LayoutView",
       "align_content": null,
       "align_items": null,
       "align_self": null,
       "border_bottom": null,
       "border_left": null,
       "border_right": null,
       "border_top": null,
       "bottom": null,
       "display": null,
       "flex": null,
       "flex_flow": null,
       "grid_area": null,
       "grid_auto_columns": null,
       "grid_auto_flow": null,
       "grid_auto_rows": null,
       "grid_column": null,
       "grid_gap": null,
       "grid_row": null,
       "grid_template_areas": null,
       "grid_template_columns": null,
       "grid_template_rows": null,
       "height": null,
       "justify_content": null,
       "justify_items": null,
       "left": null,
       "margin": null,
       "max_height": null,
       "max_width": null,
       "min_height": null,
       "min_width": null,
       "object_fit": null,
       "object_position": null,
       "order": null,
       "overflow": null,
       "padding": null,
       "right": null,
       "top": null,
       "visibility": null,
       "width": null
      }
     },
     "a18dd75c18b2421a850f402b00d5c926": {
      "model_module": "@jupyter-widgets/controls",
      "model_module_version": "2.0.0",
      "model_name": "HTMLStyleModel",
      "state": {
       "_model_module": "@jupyter-widgets/controls",
       "_model_module_version": "2.0.0",
       "_model_name": "HTMLStyleModel",
       "_view_count": null,
       "_view_module": "@jupyter-widgets/base",
       "_view_module_version": "2.0.0",
       "_view_name": "StyleView",
       "background": null,
       "description_width": "",
       "font_size": null,
       "text_color": null
      }
     },
     "b4dca55f59434821af7391b2baad93aa": {
      "model_module": "@jupyter-widgets/controls",
      "model_module_version": "2.0.0",
      "model_name": "HTMLModel",
      "state": {
       "_dom_classes": [],
       "_model_module": "@jupyter-widgets/controls",
       "_model_module_version": "2.0.0",
       "_model_name": "HTMLModel",
       "_view_count": null,
       "_view_module": "@jupyter-widgets/controls",
       "_view_module_version": "2.0.0",
       "_view_name": "HTMLView",
       "description": "",
       "description_allow_html": false,
       "layout": "IPY_MODEL_90b357f8c3b0410b88023e8e4af26705",
       "placeholder": "​",
       "style": "IPY_MODEL_a18dd75c18b2421a850f402b00d5c926",
       "tabbable": null,
       "tooltip": null,
       "value": " 2/2 [00:29&lt;00:00, 14.25s/it]"
      }
     },
     "e44697be4ec84cb1808f3a56c8bcc46f": {
      "model_module": "@jupyter-widgets/controls",
      "model_module_version": "2.0.0",
      "model_name": "HTMLStyleModel",
      "state": {
       "_model_module": "@jupyter-widgets/controls",
       "_model_module_version": "2.0.0",
       "_model_name": "HTMLStyleModel",
       "_view_count": null,
       "_view_module": "@jupyter-widgets/base",
       "_view_module_version": "2.0.0",
       "_view_name": "StyleView",
       "background": null,
       "description_width": "",
       "font_size": null,
       "text_color": null
      }
     },
     "f328aa320d8c4737aa0032c6054c91cd": {
      "model_module": "@jupyter-widgets/base",
      "model_module_version": "2.0.0",
      "model_name": "LayoutModel",
      "state": {
       "_model_module": "@jupyter-widgets/base",
       "_model_module_version": "2.0.0",
       "_model_name": "LayoutModel",
       "_view_count": null,
       "_view_module": "@jupyter-widgets/base",
       "_view_module_version": "2.0.0",
       "_view_name": "LayoutView",
       "align_content": null,
       "align_items": null,
       "align_self": null,
       "border_bottom": null,
       "border_left": null,
       "border_right": null,
       "border_top": null,
       "bottom": null,
       "display": null,
       "flex": null,
       "flex_flow": null,
       "grid_area": null,
       "grid_auto_columns": null,
       "grid_auto_flow": null,
       "grid_auto_rows": null,
       "grid_column": null,
       "grid_gap": null,
       "grid_row": null,
       "grid_template_areas": null,
       "grid_template_columns": null,
       "grid_template_rows": null,
       "height": null,
       "justify_content": null,
       "justify_items": null,
       "left": null,
       "margin": null,
       "max_height": null,
       "max_width": null,
       "min_height": null,
       "min_width": null,
       "object_fit": null,
       "object_position": null,
       "order": null,
       "overflow": null,
       "padding": null,
       "right": null,
       "top": null,
       "visibility": null,
       "width": null
      }
     }
    },
    "version_major": 2,
    "version_minor": 0
   }
  }
 },
 "nbformat": 4,
 "nbformat_minor": 5
}